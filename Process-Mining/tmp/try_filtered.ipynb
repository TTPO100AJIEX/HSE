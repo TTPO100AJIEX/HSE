{
 "cells": [
  {
   "cell_type": "code",
   "execution_count": 1,
   "metadata": {},
   "outputs": [],
   "source": [
    "import pm4py"
   ]
  },
  {
   "cell_type": "code",
   "execution_count": 2,
   "metadata": {},
   "outputs": [
    {
     "ename": "XMLSyntaxError",
     "evalue": "AttValue: ' expected, line 8728675, column 43 (file:/d:/t/4.xes, line 8728675)",
     "output_type": "error",
     "traceback": [
      "Traceback \u001b[1;36m(most recent call last)\u001b[0m:\n",
      "\u001b[0m  File \u001b[0;32md:\\Programs\\Programming\\Python\\lib\\site-packages\\IPython\\core\\interactiveshell.py:3577\u001b[0m in \u001b[0;35mrun_code\u001b[0m\n    exec(code_obj, self.user_global_ns, self.user_ns)\u001b[0m\n",
      "\u001b[0m  Cell \u001b[0;32mIn[2], line 1\u001b[0m\n    log = pm4py.read_xes(\"4.xes\")\u001b[0m\n",
      "\u001b[0m  File \u001b[0;32md:\\Programs\\Programming\\Python\\lib\\site-packages\\pm4py\\read.py:101\u001b[0m in \u001b[0;35mread_xes\u001b[0m\n    log = xes_importer.apply(file_path, variant=v, parameters=parameters)\u001b[0m\n",
      "\u001b[0m  File \u001b[0;32md:\\Programs\\Programming\\Python\\lib\\site-packages\\pm4py\\objects\\log\\importer\\xes\\importer.py:91\u001b[0m in \u001b[0;35mapply\u001b[0m\n    log = variant.value.apply(path, parameters=parameters)\u001b[0m\n",
      "\u001b[0m  File \u001b[0;32md:\\Programs\\Programming\\Python\\lib\\site-packages\\pm4py\\objects\\log\\importer\\xes\\variants\\iterparse.py:305\u001b[0m in \u001b[0;35mapply\u001b[0m\n    return import_log(filename, parameters)\u001b[0m\n",
      "\u001b[0m  File \u001b[0;32md:\\Programs\\Programming\\Python\\lib\\site-packages\\pm4py\\objects\\log\\importer\\xes\\variants\\iterparse.py:345\u001b[0m in \u001b[0;35mimport_log\u001b[0m\n    num_traces = count_traces(context)\u001b[0m\n",
      "\u001b[0m  File \u001b[0;32md:\\Programs\\Programming\\Python\\lib\\site-packages\\pm4py\\objects\\log\\importer\\xes\\variants\\iterparse.py:66\u001b[0m in \u001b[0;35mcount_traces\u001b[0m\n    for tree_event, elem in context:\u001b[0m\n",
      "\u001b[0m  File \u001b[0;32msrc\\\\lxml\\\\iterparse.pxi:208\u001b[0m in \u001b[0;35mlxml.etree.iterparse.__next__\u001b[0m\n",
      "\u001b[0m  File \u001b[0;32msrc\\\\lxml\\\\iterparse.pxi:193\u001b[0m in \u001b[0;35mlxml.etree.iterparse.__next__\u001b[0m\n",
      "\u001b[0m  File \u001b[0;32msrc\\\\lxml\\\\iterparse.pxi:224\u001b[0m in \u001b[0;35mlxml.etree.iterparse._read_more_events\u001b[0m\n",
      "\u001b[0m  File \u001b[0;32msrc\\\\lxml\\\\parser.pxi:1486\u001b[0m in \u001b[0;35mlxml.etree._FeedParser.close\u001b[0m\n",
      "\u001b[0m  File \u001b[0;32msrc\\\\lxml\\\\parser.pxi:624\u001b[0m in \u001b[0;35mlxml.etree._ParserContext._handleParseResult\u001b[0m\n",
      "\u001b[0m  File \u001b[0;32msrc\\\\lxml\\\\parser.pxi:633\u001b[0m in \u001b[0;35mlxml.etree._ParserContext._handleParseResultDoc\u001b[0m\n",
      "\u001b[0m  File \u001b[0;32msrc\\\\lxml\\\\parser.pxi:743\u001b[0m in \u001b[0;35mlxml.etree._handleParseResult\u001b[0m\n",
      "\u001b[1;36m  File \u001b[1;32msrc\\\\lxml\\\\parser.pxi:672\u001b[1;36m in \u001b[1;35mlxml.etree._raiseParseError\u001b[1;36m\n",
      "\u001b[1;36m  File \u001b[1;32mfile:/d:/t/4.xes:8728675\u001b[1;36m\u001b[0m\n\u001b[1;31mXMLSyntaxError\u001b[0m\u001b[1;31m:\u001b[0m AttValue: ' expected, line 8728675, column 43\n"
     ]
    }
   ],
   "source": [
    "log = pm4py.read_xes(\"4.xes\")"
   ]
  },
  {
   "cell_type": "code",
   "execution_count": null,
   "metadata": {},
   "outputs": [],
   "source": [
    "log"
   ]
  },
  {
   "cell_type": "code",
   "execution_count": null,
   "metadata": {},
   "outputs": [],
   "source": [
    "procfiler = (log[\"concept:name\"].str.startswith(\"Procfiler/\") & log[\"concept:name\"].str.contains(\"{Microsoft.CodeAnalysis\"))\n",
    "gc = log[\"concept:name\"].str.startswith(\"GC/\")\n",
    "print(f'Procfiler: {sum(procfiler)}, GC: {sum(gc)}')"
   ]
  },
  {
   "cell_type": "code",
   "execution_count": null,
   "metadata": {},
   "outputs": [],
   "source": [
    "log_min = log[procfiler].reset_index(drop = True)\n",
    "log_min.sort_values(by = \"time:timestamp\")"
   ]
  }
 ],
 "metadata": {
  "kernelspec": {
   "display_name": "Python 3",
   "language": "python",
   "name": "python3"
  },
  "language_info": {
   "codemirror_mode": {
    "name": "ipython",
    "version": 3
   },
   "file_extension": ".py",
   "mimetype": "text/x-python",
   "name": "python",
   "nbconvert_exporter": "python",
   "pygments_lexer": "ipython3",
   "version": "3.10.11"
  }
 },
 "nbformat": 4,
 "nbformat_minor": 2
}
