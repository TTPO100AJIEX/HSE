{
  "cells": [
    {
      "cell_type": "code",
      "execution_count": null,
      "metadata": {},
      "outputs": [],
      "source": [
        "import os\n",
        "\n",
        "subj = \"Subj1\"\n",
        "exp = \"exp_pca\"\n",
        "print_obj = 7\n",
        "os.makedirs(f\"{subj}/{exp}\", exist_ok = True)"
      ]
    },
    {
      "cell_type": "markdown",
      "metadata": {},
      "source": [
        "### Imports"
      ]
    },
    {
      "cell_type": "code",
      "execution_count": null,
      "metadata": {},
      "outputs": [],
      "source": [
        "%load_ext autoreload\n",
        "%autoreload 2\n",
        "\n",
        "import mne\n",
        "import numpy\n",
        "import pandas\n",
        "import gtda.curves\n",
        "import gtda.plotting\n",
        "import gtda.homology\n",
        "import gtda.diagrams\n",
        "import gtda.time_series\n",
        "import sklearn.decomposition"
      ]
    },
    {
      "cell_type": "markdown",
      "metadata": {},
      "source": [
        "### Epochs"
      ]
    },
    {
      "cell_type": "code",
      "execution_count": null,
      "metadata": {},
      "outputs": [],
      "source": [
        "epochs = mne.read_epochs(f\"{subj}/src/epochs_filt_rr-epo.fif\")\n",
        "epochs.average().plot_joint().savefig(f\"{subj}/{exp}/eeg.svg\")"
      ]
    },
    {
      "cell_type": "markdown",
      "metadata": {},
      "source": [
        "### TakensEmbedding"
      ]
    },
    {
      "cell_type": "code",
      "execution_count": null,
      "metadata": {
        "colab": {
          "base_uri": "https://localhost:8080/"
        },
        "id": "0EYsdPF2ICCu",
        "outputId": "c61c0353-0a6b-4b44-b04a-0fb95cabeaae"
      },
      "outputs": [],
      "source": [
        "embedder = gtda.time_series.TakensEmbedding(dimension = 10)\n",
        "points = embedder.fit_transform(epochs.get_data(copy = True))\n",
        "print(points.shape)"
      ]
    },
    {
      "cell_type": "code",
      "execution_count": null,
      "metadata": {},
      "outputs": [],
      "source": [
        "plot = gtda.plotting.plot_point_cloud(points[print_obj])\n",
        "display(plot)\n",
        "plot.write_image(file = f\"{subj}/{exp}/point_cloud.svg\", format = \"svg\")"
      ]
    },
    {
      "cell_type": "markdown",
      "metadata": {},
      "source": [
        "### VietorisRipsPersistence"
      ]
    },
    {
      "cell_type": "code",
      "execution_count": null,
      "metadata": {
        "colab": {
          "base_uri": "https://localhost:8080/"
        },
        "id": "PY3g0JuxNXg1",
        "outputId": "88088447-babc-42f4-8477-7cf3951da7be"
      },
      "outputs": [],
      "source": [
        "persistence = gtda.homology.VietorisRipsPersistence(homology_dimensions = [0, 1, 2], n_jobs = -1)\n",
        "raw_diagram = persistence.fit_transform(points)\n",
        "print(raw_diagram.shape)"
      ]
    },
    {
      "cell_type": "code",
      "execution_count": null,
      "metadata": {},
      "outputs": [],
      "source": [
        "plot = gtda.plotting.plot_diagram(raw_diagram[8])\n",
        "display(plot)\n",
        "plot.write_image(file = f\"{subj}/{exp}/raw_diagram.svg\", format = \"svg\")"
      ]
    },
    {
      "cell_type": "markdown",
      "metadata": {},
      "source": [
        "### Scaler & Filtering"
      ]
    },
    {
      "cell_type": "code",
      "execution_count": null,
      "metadata": {},
      "outputs": [],
      "source": [
        "scaler = gtda.diagrams.Scaler()\n",
        "filtering = gtda.diagrams.Filtering()\n",
        "diagram = filtering.fit_transform(scaler.fit_transform(raw_diagram))\n",
        "diagram = scaler.fit_transform(raw_diagram)\n",
        "print(diagram.shape)\n",
        "gtda.plotting.plot_diagram(diagram[print_obj])"
      ]
    },
    {
      "cell_type": "code",
      "execution_count": null,
      "metadata": {},
      "outputs": [],
      "source": [
        "scaler = gtda.diagrams.Scaler()\n",
        "filtering = gtda.diagrams.Filtering()\n",
        "diagram = filtering.fit_transform(scaler.fit_transform(raw_diagram))\n",
        "print(diagram.shape)"
      ]
    },
    {
      "cell_type": "code",
      "execution_count": null,
      "metadata": {},
      "outputs": [],
      "source": [
        "plot = gtda.plotting.plot_diagram(diagram[print_obj])\n",
        "display(plot)\n",
        "plot.write_image(file = f\"{subj}/{exp}/diagram.svg\", format = \"svg\")"
      ]
    },
    {
      "cell_type": "markdown",
      "metadata": {},
      "source": [
        "### Features"
      ]
    },
    {
      "cell_type": "code",
      "execution_count": 90,
      "metadata": {},
      "outputs": [
        {
          "name": "stdout",
          "output_type": "stream",
          "text": [
            "(1046, 3)\n"
          ]
        }
      ],
      "source": [
        "landscape_features = gtda.diagrams.PersistenceLandscape().fit_transform(diagram)\n",
        "landscape_features = gtda.curves.StandardFeatures('argmax').fit_transform(landscape_features)\n",
        "print(landscape_features.shape)"
      ]
    },
    {
      "cell_type": "code",
      "execution_count": 91,
      "metadata": {},
      "outputs": [
        {
          "name": "stdout",
          "output_type": "stream",
          "text": [
            "(1046, 3)\n"
          ]
        }
      ],
      "source": [
        "betti_features = gtda.diagrams.BettiCurve().fit_transform(diagram)\n",
        "betti_features = gtda.curves.Derivative().fit_transform(betti_features)\n",
        "betti_features = gtda.curves.StandardFeatures('max').fit_transform(betti_features)\n",
        "print(betti_features.shape)"
      ]
    },
    {
      "cell_type": "code",
      "execution_count": 92,
      "metadata": {
        "colab": {
          "base_uri": "https://localhost:8080/"
        },
        "id": "6rLmpBa3N_tH",
        "outputId": "b3c66799-27be-4601-f7a4-dac778d584d0"
      },
      "outputs": [
        {
          "name": "stdout",
          "output_type": "stream",
          "text": [
            "(1046, 3)\n"
          ]
        }
      ],
      "source": [
        "entropy_features = gtda.diagrams.PersistenceEntropy().fit_transform(diagram)\n",
        "print(entropy_features.shape)"
      ]
    },
    {
      "cell_type": "code",
      "execution_count": 93,
      "metadata": {},
      "outputs": [
        {
          "name": "stdout",
          "output_type": "stream",
          "text": [
            "(1046, 3)\n"
          ]
        }
      ],
      "source": [
        "number_of_points_features = gtda.diagrams.NumberOfPoints().fit_transform(diagram)\n",
        "print(number_of_points_features.shape)"
      ]
    },
    {
      "cell_type": "code",
      "execution_count": 94,
      "metadata": {},
      "outputs": [
        {
          "name": "stdout",
          "output_type": "stream",
          "text": [
            "(1046, 3)\n"
          ]
        }
      ],
      "source": [
        "amplitude_features = gtda.diagrams.Amplitude().fit_transform(diagram)\n",
        "print(amplitude_features.shape)"
      ]
    },
    {
      "cell_type": "code",
      "execution_count": null,
      "metadata": {},
      "outputs": [],
      "source": [
        "# Analyzing amplitudes (Averaged by region, full frequency range)\n",
        "\n",
        "#pd_tda_features = pd_ft_tda_loc\n",
        "\n",
        "df_ft_tda_loc = pd.DataFrame()\n",
        "for _reg in range(n_regions):    \n",
        "    pd_ft = pd_ft_tda_loc[_reg]\n",
        "    pd_ft_life = pd_ft[:,:,1] - pd_ft[:,:,0]\n",
        "    pd_ft_life[pd_ft_life == 0] = np.nan # removing diagonal points\n",
        "    pd_ft_bd2 = (pd_ft[:,:,0] + pd_ft[:,:,1]) / 2.0\n",
        "    pd_ft_bd2[pd_ft_bd2 == 0] = np.nan # removing diagonal points\n",
        "        \n",
        "    life_max = np.nan_to_num(np.nanmax(pd_ft_life, axis=1))\n",
        "    life_mean = np.nan_to_num(np.nanmean(pd_ft_life, axis=1))\n",
        "    life_std = np.nan_to_num(np.nanstd(pd_ft_life, axis=1))\n",
        "    #life_p25 = np.nan_to_num(np.nanpercentile(pd_ft_life, 25, axis=1))\n",
        "    #life_med = np.nan_to_num(np.nanmedian(pd_ft_life, axis=1))\n",
        "    life_p75 = np.nan_to_num(np.nanpercentile(pd_ft_life, 75, axis=1))\n",
        "    life_kurt = np.nan_to_num(sp.stats.kurtosis(pd_ft_life, axis=1, nan_policy='omit'))\n",
        "    life_skew = np.nan_to_num(sp.stats.skew(pd_ft_life, axis=1, nan_policy='omit'))\n",
        "    life_sum = np.nan_to_num(np.nansum(pd_ft_life, axis=1))\n",
        "    life_norm = np.linalg.norm(np.nan_to_num(pd_ft_life), ord=2, axis=1) # Identical with wasserstein distance\n",
        "\n",
        "    bd2_max = np.nan_to_num(np.nanmax(pd_ft_bd2, axis=1))\n",
        "    bd2_mean = np.nan_to_num(np.nanmean(pd_ft_bd2, axis=1))\n",
        "    bd2_std = np.nan_to_num(np.nanstd(pd_ft_bd2, axis=1))\n",
        "    #bd2_p25 = np.nan_to_num(np.nanpercentile(pd_ft_bd2, 25, axis=1))\n",
        "    #bd2_med = np.nan_to_num(np.nanmedian(pd_ft_bd2, axis=1))\n",
        "    bd2_p75 = np.nan_to_num(np.nanpercentile(pd_ft_bd2, 75, axis=1))\n",
        "    bd2_kurt = np.nan_to_num(sp.stats.kurtosis(pd_ft_bd2, axis=1, nan_policy='omit'))\n",
        "    bd2_skew = np.nan_to_num(sp.stats.skew(pd_ft_bd2, axis=1, nan_policy='omit'))\n",
        "    bd2_sum = np.nan_to_num(np.nansum(pd_ft_bd2, axis=1))\n",
        "    bd2_norm = np.linalg.norm(np.nan_to_num(pd_ft_bd2), ord=2, axis=1)\n",
        "\n",
        "        \n",
        "    df_ft_tda_loc['F_'+regions[_reg][1]+'_life_max'] = life_max\n",
        "    df_ft_tda_loc['F_'+regions[_reg][1]+'_life_mean'] = life_mean\n",
        "    df_ft_tda_loc['F_'+regions[_reg][1]+'_life_std'] = life_std\n",
        "    #df_ft_tda_loc['F_'+regions[_reg][1]+'_life_p25'] = life_p25\n",
        "    #df_ft_tda_loc['F_'+regions[_reg][1]+'_life_med'] = life_med\n",
        "    df_ft_tda_loc['F_'+regions[_reg][1]+'_life_p75'] = life_p75\n",
        "    df_ft_tda_loc['F_'+regions[_reg][1]+'_life_kurt'] = life_kurt\n",
        "    df_ft_tda_loc['F_'+regions[_reg][1]+'_life_skew'] = life_skew\n",
        "    df_ft_tda_loc['F_'+regions[_reg][1]+'_life_sum'] = life_sum\n",
        "    df_ft_tda_loc['F_'+regions[_reg][1]+'_life_norm'] = life_norm\n",
        "\n",
        "    df_ft_tda_loc['F_'+regions[_reg][1]+'_bd2_max'] = bd2_max\n",
        "    df_ft_tda_loc['F_'+regions[_reg][1]+'_bd2_mean'] = bd2_mean\n",
        "    df_ft_tda_loc['F_'+regions[_reg][1]+'_bd2_std'] = bd2_std\n",
        "    #df_ft_tda_loc['F_'+regions[_reg][1]+'_bd2_p25'] = bd2_p25\n",
        "    #df_ft_tda_loc['F_'+regions[_reg][1]+'_bd2_med'] = bd2_med\n",
        "    df_ft_tda_loc['F_'+regions[_reg][1]+'_bd2_p75'] = bd2_p75\n",
        "    df_ft_tda_loc['F_'+regions[_reg][1]+'_bd2_kurt'] = bd2_kurt\n",
        "    df_ft_tda_loc['F_'+regions[_reg][1]+'_bd2_skew'] = bd2_skew\n",
        "    df_ft_tda_loc['F_'+regions[_reg][1]+'_bd2_sum'] = bd2_sum\n",
        "    df_ft_tda_loc['F_'+regions[_reg][1]+'_bd2_norm'] = bd2_norm\n",
        "       \n",
        "    for _ampl in range(len(tda_metrics)):\n",
        "        ft_ampl = Amplitude(metric=tda_metrics[_ampl][0], n_jobs=-1).fit_transform(pd_ft_tda_loc[_reg])\n",
        "        df_ft_tda_loc['F_'+regions[_reg][1]+'_'+tda_metrics[_ampl][1]] = ft_ampl[:,0]\n",
        "\n",
        "# NaN values to zeros\n",
        "df_ft_tda_loc = pd.DataFrame(np.nan_to_num(df_ft_tda_loc.to_numpy()), columns=df_ft_tda_loc.columns)\n",
        "\n",
        "print(df_ft_tda_loc.to_numpy().shape) "
      ]
    },
    {
      "cell_type": "code",
      "execution_count": 96,
      "metadata": {},
      "outputs": [
        {
          "name": "stdout",
          "output_type": "stream",
          "text": [
            "(1046, 15)\n"
          ]
        }
      ],
      "source": [
        "features = numpy.concatenate([\n",
        "    landscape_features,\n",
        "    betti_features,\n",
        "    entropy_features,\n",
        "    number_of_points_features,\n",
        "    amplitude_features\n",
        "], axis = 1)\n",
        "print(features.shape)"
      ]
    },
    {
      "cell_type": "markdown",
      "metadata": {},
      "source": [
        "### Save"
      ]
    },
    {
      "cell_type": "code",
      "execution_count": 97,
      "metadata": {},
      "outputs": [
        {
          "name": "stdout",
          "output_type": "stream",
          "text": [
            "(1046, 1)\n",
            "Explained variance 0.85\n",
            "[0.848]\n"
          ]
        }
      ],
      "source": [
        "N_COMP = 0.7\n",
        "pca = sklearn.decomposition.PCA(n_components = N_COMP, random_state = 0)\n",
        "pca_features = pca.fit_transform(features)\n",
        "\n",
        "print(pca_features.shape)\n",
        "print('Explained variance', round(pca.explained_variance_ratio_.sum(), 2))\n",
        "print([ round(x, 3) for x in pca.explained_variance_ratio_ ])"
      ]
    },
    {
      "cell_type": "code",
      "execution_count": 98,
      "metadata": {},
      "outputs": [
        {
          "data": {
            "text/html": [
              "<div>\n",
              "<style scoped>\n",
              "    .dataframe tbody tr th:only-of-type {\n",
              "        vertical-align: middle;\n",
              "    }\n",
              "\n",
              "    .dataframe tbody tr th {\n",
              "        vertical-align: top;\n",
              "    }\n",
              "\n",
              "    .dataframe thead th {\n",
              "        text-align: right;\n",
              "    }\n",
              "</style>\n",
              "<table border=\"1\" class=\"dataframe\">\n",
              "  <thead>\n",
              "    <tr style=\"text-align: right;\">\n",
              "      <th></th>\n",
              "      <th>0</th>\n",
              "      <th>1</th>\n",
              "      <th>2</th>\n",
              "      <th>3</th>\n",
              "      <th>4</th>\n",
              "      <th>5</th>\n",
              "      <th>6</th>\n",
              "      <th>7</th>\n",
              "      <th>8</th>\n",
              "      <th>9</th>\n",
              "      <th>10</th>\n",
              "      <th>11</th>\n",
              "      <th>12</th>\n",
              "      <th>13</th>\n",
              "      <th>14</th>\n",
              "    </tr>\n",
              "  </thead>\n",
              "  <tbody>\n",
              "    <tr>\n",
              "      <th>0</th>\n",
              "      <td>37.0</td>\n",
              "      <td>20.0</td>\n",
              "      <td>18.0</td>\n",
              "      <td>0.0</td>\n",
              "      <td>13.0</td>\n",
              "      <td>7.0</td>\n",
              "      <td>8.911387</td>\n",
              "      <td>5.794139</td>\n",
              "      <td>5.653280</td>\n",
              "      <td>491.0</td>\n",
              "      <td>136.0</td>\n",
              "      <td>62.0</td>\n",
              "      <td>0.172618</td>\n",
              "      <td>0.471396</td>\n",
              "      <td>0.018095</td>\n",
              "    </tr>\n",
              "    <tr>\n",
              "      <th>1</th>\n",
              "      <td>46.0</td>\n",
              "      <td>23.0</td>\n",
              "      <td>23.0</td>\n",
              "      <td>0.0</td>\n",
              "      <td>8.0</td>\n",
              "      <td>5.0</td>\n",
              "      <td>8.885214</td>\n",
              "      <td>5.741187</td>\n",
              "      <td>5.223418</td>\n",
              "      <td>491.0</td>\n",
              "      <td>140.0</td>\n",
              "      <td>47.0</td>\n",
              "      <td>0.243322</td>\n",
              "      <td>0.558745</td>\n",
              "      <td>0.020219</td>\n",
              "    </tr>\n",
              "    <tr>\n",
              "      <th>2</th>\n",
              "      <td>32.0</td>\n",
              "      <td>18.0</td>\n",
              "      <td>20.0</td>\n",
              "      <td>0.0</td>\n",
              "      <td>9.0</td>\n",
              "      <td>7.0</td>\n",
              "      <td>8.911129</td>\n",
              "      <td>6.040048</td>\n",
              "      <td>5.362892</td>\n",
              "      <td>491.0</td>\n",
              "      <td>145.0</td>\n",
              "      <td>55.0</td>\n",
              "      <td>0.144134</td>\n",
              "      <td>0.274746</td>\n",
              "      <td>0.024298</td>\n",
              "    </tr>\n",
              "    <tr>\n",
              "      <th>3</th>\n",
              "      <td>35.0</td>\n",
              "      <td>19.0</td>\n",
              "      <td>25.0</td>\n",
              "      <td>0.0</td>\n",
              "      <td>9.0</td>\n",
              "      <td>3.0</td>\n",
              "      <td>8.900512</td>\n",
              "      <td>5.226204</td>\n",
              "      <td>4.284227</td>\n",
              "      <td>491.0</td>\n",
              "      <td>95.0</td>\n",
              "      <td>23.0</td>\n",
              "      <td>0.162369</td>\n",
              "      <td>0.446546</td>\n",
              "      <td>0.018118</td>\n",
              "    </tr>\n",
              "    <tr>\n",
              "      <th>4</th>\n",
              "      <td>35.0</td>\n",
              "      <td>20.0</td>\n",
              "      <td>21.0</td>\n",
              "      <td>0.0</td>\n",
              "      <td>10.0</td>\n",
              "      <td>6.0</td>\n",
              "      <td>8.904863</td>\n",
              "      <td>6.016462</td>\n",
              "      <td>5.350425</td>\n",
              "      <td>491.0</td>\n",
              "      <td>153.0</td>\n",
              "      <td>53.0</td>\n",
              "      <td>0.162369</td>\n",
              "      <td>0.341199</td>\n",
              "      <td>0.029659</td>\n",
              "    </tr>\n",
              "    <tr>\n",
              "      <th>...</th>\n",
              "      <td>...</td>\n",
              "      <td>...</td>\n",
              "      <td>...</td>\n",
              "      <td>...</td>\n",
              "      <td>...</td>\n",
              "      <td>...</td>\n",
              "      <td>...</td>\n",
              "      <td>...</td>\n",
              "      <td>...</td>\n",
              "      <td>...</td>\n",
              "      <td>...</td>\n",
              "      <td>...</td>\n",
              "      <td>...</td>\n",
              "      <td>...</td>\n",
              "      <td>...</td>\n",
              "    </tr>\n",
              "    <tr>\n",
              "      <th>1041</th>\n",
              "      <td>29.0</td>\n",
              "      <td>20.0</td>\n",
              "      <td>43.0</td>\n",
              "      <td>0.0</td>\n",
              "      <td>2.0</td>\n",
              "      <td>1.0</td>\n",
              "      <td>8.893091</td>\n",
              "      <td>4.107055</td>\n",
              "      <td>2.577471</td>\n",
              "      <td>491.0</td>\n",
              "      <td>37.0</td>\n",
              "      <td>9.0</td>\n",
              "      <td>0.121193</td>\n",
              "      <td>0.323925</td>\n",
              "      <td>0.100975</td>\n",
              "    </tr>\n",
              "    <tr>\n",
              "      <th>1042</th>\n",
              "      <td>24.0</td>\n",
              "      <td>57.0</td>\n",
              "      <td>35.0</td>\n",
              "      <td>0.0</td>\n",
              "      <td>3.0</td>\n",
              "      <td>1.0</td>\n",
              "      <td>8.898533</td>\n",
              "      <td>3.359531</td>\n",
              "      <td>2.423112</td>\n",
              "      <td>491.0</td>\n",
              "      <td>25.0</td>\n",
              "      <td>9.0</td>\n",
              "      <td>0.089076</td>\n",
              "      <td>0.544349</td>\n",
              "      <td>0.044050</td>\n",
              "    </tr>\n",
              "    <tr>\n",
              "      <th>1043</th>\n",
              "      <td>23.0</td>\n",
              "      <td>23.0</td>\n",
              "      <td>35.0</td>\n",
              "      <td>0.0</td>\n",
              "      <td>3.0</td>\n",
              "      <td>1.0</td>\n",
              "      <td>8.898618</td>\n",
              "      <td>4.166171</td>\n",
              "      <td>2.568725</td>\n",
              "      <td>491.0</td>\n",
              "      <td>38.0</td>\n",
              "      <td>10.0</td>\n",
              "      <td>0.084500</td>\n",
              "      <td>0.308390</td>\n",
              "      <td>0.039355</td>\n",
              "    </tr>\n",
              "    <tr>\n",
              "      <th>1044</th>\n",
              "      <td>20.0</td>\n",
              "      <td>17.0</td>\n",
              "      <td>22.0</td>\n",
              "      <td>0.0</td>\n",
              "      <td>3.0</td>\n",
              "      <td>2.0</td>\n",
              "      <td>8.909021</td>\n",
              "      <td>3.837490</td>\n",
              "      <td>2.061480</td>\n",
              "      <td>491.0</td>\n",
              "      <td>24.0</td>\n",
              "      <td>6.0</td>\n",
              "      <td>0.067331</td>\n",
              "      <td>0.261568</td>\n",
              "      <td>0.018552</td>\n",
              "    </tr>\n",
              "    <tr>\n",
              "      <th>1045</th>\n",
              "      <td>23.0</td>\n",
              "      <td>19.0</td>\n",
              "      <td>21.0</td>\n",
              "      <td>0.0</td>\n",
              "      <td>5.0</td>\n",
              "      <td>1.0</td>\n",
              "      <td>8.891380</td>\n",
              "      <td>4.632276</td>\n",
              "      <td>3.525621</td>\n",
              "      <td>491.0</td>\n",
              "      <td>48.0</td>\n",
              "      <td>15.0</td>\n",
              "      <td>0.085590</td>\n",
              "      <td>0.281783</td>\n",
              "      <td>0.011727</td>\n",
              "    </tr>\n",
              "  </tbody>\n",
              "</table>\n",
              "<p>1046 rows × 15 columns</p>\n",
              "</div>"
            ],
            "text/plain": [
              "        0     1     2    3     4    5         6         7         8      9   \\\n",
              "0     37.0  20.0  18.0  0.0  13.0  7.0  8.911387  5.794139  5.653280  491.0   \n",
              "1     46.0  23.0  23.0  0.0   8.0  5.0  8.885214  5.741187  5.223418  491.0   \n",
              "2     32.0  18.0  20.0  0.0   9.0  7.0  8.911129  6.040048  5.362892  491.0   \n",
              "3     35.0  19.0  25.0  0.0   9.0  3.0  8.900512  5.226204  4.284227  491.0   \n",
              "4     35.0  20.0  21.0  0.0  10.0  6.0  8.904863  6.016462  5.350425  491.0   \n",
              "...    ...   ...   ...  ...   ...  ...       ...       ...       ...    ...   \n",
              "1041  29.0  20.0  43.0  0.0   2.0  1.0  8.893091  4.107055  2.577471  491.0   \n",
              "1042  24.0  57.0  35.0  0.0   3.0  1.0  8.898533  3.359531  2.423112  491.0   \n",
              "1043  23.0  23.0  35.0  0.0   3.0  1.0  8.898618  4.166171  2.568725  491.0   \n",
              "1044  20.0  17.0  22.0  0.0   3.0  2.0  8.909021  3.837490  2.061480  491.0   \n",
              "1045  23.0  19.0  21.0  0.0   5.0  1.0  8.891380  4.632276  3.525621  491.0   \n",
              "\n",
              "         10    11        12        13        14  \n",
              "0     136.0  62.0  0.172618  0.471396  0.018095  \n",
              "1     140.0  47.0  0.243322  0.558745  0.020219  \n",
              "2     145.0  55.0  0.144134  0.274746  0.024298  \n",
              "3      95.0  23.0  0.162369  0.446546  0.018118  \n",
              "4     153.0  53.0  0.162369  0.341199  0.029659  \n",
              "...     ...   ...       ...       ...       ...  \n",
              "1041   37.0   9.0  0.121193  0.323925  0.100975  \n",
              "1042   25.0   9.0  0.089076  0.544349  0.044050  \n",
              "1043   38.0  10.0  0.084500  0.308390  0.039355  \n",
              "1044   24.0   6.0  0.067331  0.261568  0.018552  \n",
              "1045   48.0  15.0  0.085590  0.281783  0.011727  \n",
              "\n",
              "[1046 rows x 15 columns]"
            ]
          },
          "execution_count": 98,
          "metadata": {},
          "output_type": "execute_result"
        }
      ],
      "source": [
        "df = pandas.DataFrame(features)\n",
        "df.to_feather(f\"{subj}/{exp}/features.feather\")\n",
        "df"
      ]
    }
  ],
  "metadata": {
    "colab": {
      "provenance": []
    },
    "kernelspec": {
      "display_name": "Python 3",
      "name": "python3"
    },
    "language_info": {
      "codemirror_mode": {
        "name": "ipython",
        "version": 3
      },
      "file_extension": ".py",
      "mimetype": "text/x-python",
      "name": "python",
      "nbconvert_exporter": "python",
      "pygments_lexer": "ipython3",
      "version": "3.10.11"
    }
  },
  "nbformat": 4,
  "nbformat_minor": 0
}
