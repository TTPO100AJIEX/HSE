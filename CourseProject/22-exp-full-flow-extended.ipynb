{
 "cells": [
  {
   "cell_type": "code",
   "execution_count": null,
   "metadata": {},
   "outputs": [],
   "source": [
    "%load_ext autoreload\n",
    "%autoreload 2\n",
    "\n",
    "import os\n",
    "\n",
    "subj = \"Subj3\"\n",
    "\n",
    "match subj:\n",
    "    case 'Subj1':\n",
    "        N_STAGES = 9\n",
    "    case 'Subj2':\n",
    "        N_STAGES = 8\n",
    "    case 'Subj3':\n",
    "        N_STAGES = 10\n",
    "\n",
    "exp = \"exp_full_flow_extended\"\n",
    "os.makedirs(f\"{subj}/{exp}\", exist_ok = True)"
   ]
  }
 ],
 "metadata": {
  "language_info": {
   "name": "python"
  }
 },
 "nbformat": 4,
 "nbformat_minor": 2
}
