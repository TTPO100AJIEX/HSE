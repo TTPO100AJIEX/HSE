{
 "cells": [
  {
   "cell_type": "code",
   "execution_count": 7,
   "metadata": {},
   "outputs": [],
   "source": [
    "import os\n",
    "\n",
    "subj = \"Subj1\"\n",
    "exp = \"exp_dimreduct_algos\"\n",
    "os.makedirs(f\"{subj}/{exp}\", exist_ok = True)"
   ]
  },
  {
   "cell_type": "code",
   "execution_count": 8,
   "metadata": {},
   "outputs": [],
   "source": [
    "import SDA\n",
    "import SDA.analytics\n",
    "import SDA.clustquality\n",
    "\n",
    "import umap\n",
    "import tqdm\n",
    "import numpy\n",
    "import pandas\n",
    "import sklearn.manifold\n",
    "import sklearn.preprocessing\n",
    "import sklearn.decomposition"
   ]
  },
  {
   "cell_type": "code",
   "execution_count": 9,
   "metadata": {},
   "outputs": [
    {
     "name": "stdout",
     "output_type": "stream",
     "text": [
      "(1046, 19563)\n"
     ]
    }
   ],
   "source": [
    "edges_true = numpy.loadtxt(f\"{subj}/reproduction/internal/best_edges.txt\").astype(numpy.int32)\n",
    "features = pandas.read_feather(f'{subj}/exp_final/all_features.feather')\n",
    "print(features.shape)"
   ]
  },
  {
   "cell_type": "code",
   "execution_count": 10,
   "metadata": {},
   "outputs": [
    {
     "name": "stdout",
     "output_type": "stream",
     "text": [
      "(1046, 19563)\n"
     ]
    }
   ],
   "source": [
    "features = sklearn.preprocessing.StandardScaler().fit_transform(features)\n",
    "print(features.shape)"
   ]
  },
  {
   "cell_type": "code",
   "execution_count": 11,
   "metadata": {},
   "outputs": [
    {
     "name": "stdout",
     "output_type": "stream",
     "text": [
      "[PCA(n_components=8, random_state=42, svd_solver='full'), PCA(n_components=16, random_state=42, svd_solver='full'), PCA(n_components=32, random_state=42, svd_solver='full'), PCA(n_components=48, random_state=42, svd_solver='full'), PCA(n_components=64, random_state=42, svd_solver='full'), TSNE(method='exact', n_components=8, random_state=42), TSNE(method='exact', n_components=16, random_state=42), TSNE(method='exact', n_components=32, random_state=42), TSNE(method='exact', n_components=48, random_state=42), TSNE(method='exact', n_components=64, random_state=42), UMAP(n_components=8, random_state=42), UMAP(n_components=16, random_state=42), UMAP(n_components=32, random_state=42), UMAP(n_components=48, random_state=42), UMAP(n_components=64, random_state=42)]\n"
     ]
    }
   ],
   "source": [
    "n_components = [ 8, 16, 32, 48, 64 ]\n",
    "algorithms = [\n",
    "    *[\n",
    "        sklearn.decomposition.PCA(n_components = n_comp, svd_solver = \"full\", random_state = 42)\n",
    "        for n_comp in n_components\n",
    "    ],\n",
    "    *[\n",
    "        sklearn.manifold.TSNE(n_components = n_comp, method = 'exact', init = 'pca', random_state = 42)\n",
    "        for n_comp in n_components\n",
    "    ],\n",
    "    *[\n",
    "        umap.UMAP(n_components = n_comp, random_state = 42)\n",
    "        for n_comp in n_components\n",
    "    ]\n",
    "]\n",
    "print(algorithms)"
   ]
  },
  {
   "cell_type": "code",
   "execution_count": 12,
   "metadata": {},
   "outputs": [
    {
     "name": "stdout",
     "output_type": "stream",
     "text": [
      "Applying to 1046 samples with 8 features each\n",
      "Running stage 1\n"
     ]
    },
    {
     "data": {
      "application/vnd.jupyter.widget-view+json": {
       "model_id": "2a25320937734185b735177ae46d0704",
       "version_major": 2,
       "version_minor": 0
      },
      "text/plain": [
       "  0%|          | 0/589 [00:00<?, ?it/s]"
      ]
     },
     "metadata": {},
     "output_type": "display_data"
    },
    {
     "name": "stdout",
     "output_type": "stream",
     "text": [
      "Running stage 2\n"
     ]
    },
    {
     "data": {
      "application/vnd.jupyter.widget-view+json": {
       "model_id": "f5547b86f3b64127aa4162ac0b321f28",
       "version_major": 2,
       "version_minor": 0
      },
      "text/plain": [
       "  0%|          | 0/672 [00:00<?, ?it/s]"
      ]
     },
     "metadata": {},
     "output_type": "display_data"
    },
    {
     "name": "stdout",
     "output_type": "stream",
     "text": [
      "Applying to 1046 samples with 16 features each\n",
      "Running stage 1\n"
     ]
    },
    {
     "data": {
      "application/vnd.jupyter.widget-view+json": {
       "model_id": "a173247a41d54246b9a0f3f7186f0ade",
       "version_major": 2,
       "version_minor": 0
      },
      "text/plain": [
       "  0%|          | 0/589 [00:00<?, ?it/s]"
      ]
     },
     "metadata": {},
     "output_type": "display_data"
    },
    {
     "name": "stdout",
     "output_type": "stream",
     "text": [
      "Running stage 2\n"
     ]
    },
    {
     "data": {
      "application/vnd.jupyter.widget-view+json": {
       "model_id": "ae456534749945688910519c0dca5d94",
       "version_major": 2,
       "version_minor": 0
      },
      "text/plain": [
       "  0%|          | 0/672 [00:00<?, ?it/s]"
      ]
     },
     "metadata": {},
     "output_type": "display_data"
    },
    {
     "name": "stdout",
     "output_type": "stream",
     "text": [
      "Applying to 1046 samples with 32 features each\n",
      "Running stage 1\n"
     ]
    },
    {
     "data": {
      "application/vnd.jupyter.widget-view+json": {
       "model_id": "4b1b6b20ebd542249c6453a72e89683c",
       "version_major": 2,
       "version_minor": 0
      },
      "text/plain": [
       "  0%|          | 0/589 [00:00<?, ?it/s]"
      ]
     },
     "metadata": {},
     "output_type": "display_data"
    },
    {
     "name": "stdout",
     "output_type": "stream",
     "text": [
      "Running stage 2\n"
     ]
    },
    {
     "data": {
      "application/vnd.jupyter.widget-view+json": {
       "model_id": "0a527c239c2d4394978a40de7664a5a5",
       "version_major": 2,
       "version_minor": 0
      },
      "text/plain": [
       "  0%|          | 0/672 [00:00<?, ?it/s]"
      ]
     },
     "metadata": {},
     "output_type": "display_data"
    },
    {
     "name": "stdout",
     "output_type": "stream",
     "text": [
      "Applying to 1046 samples with 48 features each\n",
      "Running stage 1\n"
     ]
    },
    {
     "data": {
      "application/vnd.jupyter.widget-view+json": {
       "model_id": "d4b8061771b640308efc85c9879c7611",
       "version_major": 2,
       "version_minor": 0
      },
      "text/plain": [
       "  0%|          | 0/589 [00:00<?, ?it/s]"
      ]
     },
     "metadata": {},
     "output_type": "display_data"
    },
    {
     "name": "stdout",
     "output_type": "stream",
     "text": [
      "Running stage 2\n"
     ]
    },
    {
     "data": {
      "application/vnd.jupyter.widget-view+json": {
       "model_id": "92f1decd5d2341dcb52b41c37248f9cc",
       "version_major": 2,
       "version_minor": 0
      },
      "text/plain": [
       "  0%|          | 0/672 [00:00<?, ?it/s]"
      ]
     },
     "metadata": {},
     "output_type": "display_data"
    },
    {
     "name": "stdout",
     "output_type": "stream",
     "text": [
      "Applying to 1046 samples with 64 features each\n",
      "Running stage 1\n"
     ]
    },
    {
     "data": {
      "application/vnd.jupyter.widget-view+json": {
       "model_id": "d70224b27dac42b9b1e4d8ec0d8da1b5",
       "version_major": 2,
       "version_minor": 0
      },
      "text/plain": [
       "  0%|          | 0/589 [00:00<?, ?it/s]"
      ]
     },
     "metadata": {},
     "output_type": "display_data"
    },
    {
     "name": "stdout",
     "output_type": "stream",
     "text": [
      "Running stage 2\n"
     ]
    },
    {
     "data": {
      "application/vnd.jupyter.widget-view+json": {
       "model_id": "fe69cb7dc1554e79917227dddbb9012e",
       "version_major": 2,
       "version_minor": 0
      },
      "text/plain": [
       "  0%|          | 0/672 [00:00<?, ?it/s]"
      ]
     },
     "metadata": {},
     "output_type": "display_data"
    },
    {
     "name": "stdout",
     "output_type": "stream",
     "text": [
      "Applying to 1046 samples with 8 features each\n",
      "Running stage 1\n"
     ]
    },
    {
     "data": {
      "application/vnd.jupyter.widget-view+json": {
       "model_id": "6b3b41bc3ca647029b254beaa4746e2c",
       "version_major": 2,
       "version_minor": 0
      },
      "text/plain": [
       "  0%|          | 0/589 [00:00<?, ?it/s]"
      ]
     },
     "metadata": {},
     "output_type": "display_data"
    },
    {
     "name": "stdout",
     "output_type": "stream",
     "text": [
      "Running stage 2\n"
     ]
    },
    {
     "data": {
      "application/vnd.jupyter.widget-view+json": {
       "model_id": "a626face2b404503b15bac07407f2040",
       "version_major": 2,
       "version_minor": 0
      },
      "text/plain": [
       "  0%|          | 0/672 [00:00<?, ?it/s]"
      ]
     },
     "metadata": {},
     "output_type": "display_data"
    },
    {
     "name": "stdout",
     "output_type": "stream",
     "text": [
      "Applying to 1046 samples with 16 features each\n",
      "Running stage 1\n"
     ]
    },
    {
     "data": {
      "application/vnd.jupyter.widget-view+json": {
       "model_id": "f5cbce53c60646caa1062ef3c3797fcc",
       "version_major": 2,
       "version_minor": 0
      },
      "text/plain": [
       "  0%|          | 0/589 [00:00<?, ?it/s]"
      ]
     },
     "metadata": {},
     "output_type": "display_data"
    },
    {
     "name": "stdout",
     "output_type": "stream",
     "text": [
      "Running stage 2\n"
     ]
    },
    {
     "data": {
      "application/vnd.jupyter.widget-view+json": {
       "model_id": "b39e568c76024ee5843c5962011e7edc",
       "version_major": 2,
       "version_minor": 0
      },
      "text/plain": [
       "  0%|          | 0/672 [00:00<?, ?it/s]"
      ]
     },
     "metadata": {},
     "output_type": "display_data"
    },
    {
     "name": "stdout",
     "output_type": "stream",
     "text": [
      "Applying to 1046 samples with 32 features each\n",
      "Running stage 1\n"
     ]
    },
    {
     "data": {
      "application/vnd.jupyter.widget-view+json": {
       "model_id": "9905f02645fb4487852b6589ebe47730",
       "version_major": 2,
       "version_minor": 0
      },
      "text/plain": [
       "  0%|          | 0/589 [00:00<?, ?it/s]"
      ]
     },
     "metadata": {},
     "output_type": "display_data"
    },
    {
     "name": "stdout",
     "output_type": "stream",
     "text": [
      "Running stage 2\n"
     ]
    },
    {
     "data": {
      "application/vnd.jupyter.widget-view+json": {
       "model_id": "a62aa8b4ead74b4db8ab7168d8b96edf",
       "version_major": 2,
       "version_minor": 0
      },
      "text/plain": [
       "  0%|          | 0/672 [00:00<?, ?it/s]"
      ]
     },
     "metadata": {},
     "output_type": "display_data"
    },
    {
     "name": "stdout",
     "output_type": "stream",
     "text": [
      "Applying to 1046 samples with 48 features each\n",
      "Running stage 1\n"
     ]
    },
    {
     "data": {
      "application/vnd.jupyter.widget-view+json": {
       "model_id": "5a0b9e020fc94400beacfc0f13fe213a",
       "version_major": 2,
       "version_minor": 0
      },
      "text/plain": [
       "  0%|          | 0/589 [00:00<?, ?it/s]"
      ]
     },
     "metadata": {},
     "output_type": "display_data"
    },
    {
     "name": "stdout",
     "output_type": "stream",
     "text": [
      "Running stage 2\n"
     ]
    },
    {
     "data": {
      "application/vnd.jupyter.widget-view+json": {
       "model_id": "977cf247f7c3407ba9f41695e00943ab",
       "version_major": 2,
       "version_minor": 0
      },
      "text/plain": [
       "  0%|          | 0/672 [00:00<?, ?it/s]"
      ]
     },
     "metadata": {},
     "output_type": "display_data"
    },
    {
     "name": "stdout",
     "output_type": "stream",
     "text": [
      "Applying to 1046 samples with 64 features each\n",
      "Running stage 1\n"
     ]
    },
    {
     "data": {
      "application/vnd.jupyter.widget-view+json": {
       "model_id": "8b0badfd88c04fa9a907dc7934866b16",
       "version_major": 2,
       "version_minor": 0
      },
      "text/plain": [
       "  0%|          | 0/589 [00:00<?, ?it/s]"
      ]
     },
     "metadata": {},
     "output_type": "display_data"
    },
    {
     "name": "stdout",
     "output_type": "stream",
     "text": [
      "Running stage 2\n"
     ]
    },
    {
     "data": {
      "application/vnd.jupyter.widget-view+json": {
       "model_id": "e6ab2e28444440c3a0e0bfd2a441234c",
       "version_major": 2,
       "version_minor": 0
      },
      "text/plain": [
       "  0%|          | 0/672 [00:00<?, ?it/s]"
      ]
     },
     "metadata": {},
     "output_type": "display_data"
    },
    {
     "name": "stderr",
     "output_type": "stream",
     "text": [
      "d:\\Programs\\Programming\\Python\\lib\\site-packages\\umap\\umap_.py:1945: UserWarning: n_jobs value 1 overridden to 1 by setting random_state. Use no seed for parallelism.\n",
      "  warn(f\"n_jobs value {self.n_jobs} overridden to 1 by setting random_state. Use no seed for parallelism.\")\n"
     ]
    },
    {
     "name": "stdout",
     "output_type": "stream",
     "text": [
      "Applying to 1046 samples with 8 features each\n",
      "Running stage 1\n"
     ]
    },
    {
     "data": {
      "application/vnd.jupyter.widget-view+json": {
       "model_id": "7f806a37ff1c4f298b28a916eba21a1b",
       "version_major": 2,
       "version_minor": 0
      },
      "text/plain": [
       "  0%|          | 0/589 [00:00<?, ?it/s]"
      ]
     },
     "metadata": {},
     "output_type": "display_data"
    },
    {
     "name": "stdout",
     "output_type": "stream",
     "text": [
      "Running stage 2\n"
     ]
    },
    {
     "data": {
      "application/vnd.jupyter.widget-view+json": {
       "model_id": "8442714e2c004bfd958085665d86cbf2",
       "version_major": 2,
       "version_minor": 0
      },
      "text/plain": [
       "  0%|          | 0/672 [00:00<?, ?it/s]"
      ]
     },
     "metadata": {},
     "output_type": "display_data"
    },
    {
     "name": "stderr",
     "output_type": "stream",
     "text": [
      "d:\\Programs\\Programming\\Python\\lib\\site-packages\\umap\\umap_.py:1945: UserWarning: n_jobs value 1 overridden to 1 by setting random_state. Use no seed for parallelism.\n",
      "  warn(f\"n_jobs value {self.n_jobs} overridden to 1 by setting random_state. Use no seed for parallelism.\")\n"
     ]
    },
    {
     "name": "stdout",
     "output_type": "stream",
     "text": [
      "Applying to 1046 samples with 16 features each\n",
      "Running stage 1\n"
     ]
    },
    {
     "data": {
      "application/vnd.jupyter.widget-view+json": {
       "model_id": "3614b562739e47e5b7e3cd79f923ed98",
       "version_major": 2,
       "version_minor": 0
      },
      "text/plain": [
       "  0%|          | 0/589 [00:00<?, ?it/s]"
      ]
     },
     "metadata": {},
     "output_type": "display_data"
    },
    {
     "name": "stdout",
     "output_type": "stream",
     "text": [
      "Running stage 2\n"
     ]
    },
    {
     "data": {
      "application/vnd.jupyter.widget-view+json": {
       "model_id": "be13f9ff01f648db9a9921416f616bed",
       "version_major": 2,
       "version_minor": 0
      },
      "text/plain": [
       "  0%|          | 0/672 [00:00<?, ?it/s]"
      ]
     },
     "metadata": {},
     "output_type": "display_data"
    },
    {
     "name": "stderr",
     "output_type": "stream",
     "text": [
      "d:\\Programs\\Programming\\Python\\lib\\site-packages\\umap\\umap_.py:1945: UserWarning: n_jobs value 1 overridden to 1 by setting random_state. Use no seed for parallelism.\n",
      "  warn(f\"n_jobs value {self.n_jobs} overridden to 1 by setting random_state. Use no seed for parallelism.\")\n"
     ]
    },
    {
     "name": "stdout",
     "output_type": "stream",
     "text": [
      "Applying to 1046 samples with 32 features each\n",
      "Running stage 1\n"
     ]
    },
    {
     "data": {
      "application/vnd.jupyter.widget-view+json": {
       "model_id": "f7544427bcd3422bbdbb61e1a46eb011",
       "version_major": 2,
       "version_minor": 0
      },
      "text/plain": [
       "  0%|          | 0/589 [00:00<?, ?it/s]"
      ]
     },
     "metadata": {},
     "output_type": "display_data"
    },
    {
     "name": "stdout",
     "output_type": "stream",
     "text": [
      "Running stage 2\n"
     ]
    },
    {
     "data": {
      "application/vnd.jupyter.widget-view+json": {
       "model_id": "c76ebc46da0440e2a980e00b73768b5a",
       "version_major": 2,
       "version_minor": 0
      },
      "text/plain": [
       "  0%|          | 0/672 [00:00<?, ?it/s]"
      ]
     },
     "metadata": {},
     "output_type": "display_data"
    },
    {
     "name": "stderr",
     "output_type": "stream",
     "text": [
      "d:\\Programs\\Programming\\Python\\lib\\site-packages\\umap\\umap_.py:1945: UserWarning: n_jobs value 1 overridden to 1 by setting random_state. Use no seed for parallelism.\n",
      "  warn(f\"n_jobs value {self.n_jobs} overridden to 1 by setting random_state. Use no seed for parallelism.\")\n"
     ]
    },
    {
     "name": "stdout",
     "output_type": "stream",
     "text": [
      "Applying to 1046 samples with 48 features each\n",
      "Running stage 1\n"
     ]
    },
    {
     "data": {
      "application/vnd.jupyter.widget-view+json": {
       "model_id": "dc15273706134d99a2baf06acb6dc5aa",
       "version_major": 2,
       "version_minor": 0
      },
      "text/plain": [
       "  0%|          | 0/589 [00:00<?, ?it/s]"
      ]
     },
     "metadata": {},
     "output_type": "display_data"
    },
    {
     "name": "stdout",
     "output_type": "stream",
     "text": [
      "Running stage 2\n"
     ]
    },
    {
     "data": {
      "application/vnd.jupyter.widget-view+json": {
       "model_id": "c0a7fa81428048c1b583770a7e8d56de",
       "version_major": 2,
       "version_minor": 0
      },
      "text/plain": [
       "  0%|          | 0/672 [00:00<?, ?it/s]"
      ]
     },
     "metadata": {},
     "output_type": "display_data"
    },
    {
     "name": "stderr",
     "output_type": "stream",
     "text": [
      "d:\\Programs\\Programming\\Python\\lib\\site-packages\\umap\\umap_.py:1945: UserWarning: n_jobs value 1 overridden to 1 by setting random_state. Use no seed for parallelism.\n",
      "  warn(f\"n_jobs value {self.n_jobs} overridden to 1 by setting random_state. Use no seed for parallelism.\")\n"
     ]
    },
    {
     "name": "stdout",
     "output_type": "stream",
     "text": [
      "Applying to 1046 samples with 64 features each\n",
      "Running stage 1\n"
     ]
    },
    {
     "data": {
      "application/vnd.jupyter.widget-view+json": {
       "model_id": "d08586aa04f74e60a7d420852a5a152f",
       "version_major": 2,
       "version_minor": 0
      },
      "text/plain": [
       "  0%|          | 0/589 [00:00<?, ?it/s]"
      ]
     },
     "metadata": {},
     "output_type": "display_data"
    },
    {
     "name": "stdout",
     "output_type": "stream",
     "text": [
      "Running stage 2\n"
     ]
    },
    {
     "data": {
      "application/vnd.jupyter.widget-view+json": {
       "model_id": "2abab5bff8f24553b5c13a42b903255c",
       "version_major": 2,
       "version_minor": 0
      },
      "text/plain": [
       "  0%|          | 0/672 [00:00<?, ?it/s]"
      ]
     },
     "metadata": {},
     "output_type": "display_data"
    },
    {
     "data": {
      "text/html": [
       "<div>\n",
       "<style scoped>\n",
       "    .dataframe tbody tr th:only-of-type {\n",
       "        vertical-align: middle;\n",
       "    }\n",
       "\n",
       "    .dataframe tbody tr th {\n",
       "        vertical-align: top;\n",
       "    }\n",
       "\n",
       "    .dataframe thead th {\n",
       "        text-align: right;\n",
       "    }\n",
       "</style>\n",
       "<table border=\"1\" class=\"dataframe\">\n",
       "  <thead>\n",
       "    <tr style=\"text-align: right;\">\n",
       "      <th></th>\n",
       "      <th>Algorithm</th>\n",
       "      <th>Key</th>\n",
       "      <th>Ward_dist</th>\n",
       "      <th>Cen_dist</th>\n",
       "      <th>Avg-Silh</th>\n",
       "      <th>Avg-Cal-Har</th>\n",
       "      <th>Avg-Dav-Bold</th>\n",
       "      <th>AMI</th>\n",
       "      <th>ARI</th>\n",
       "      <th>FMI</th>\n",
       "    </tr>\n",
       "  </thead>\n",
       "  <tbody>\n",
       "    <tr>\n",
       "      <th>0</th>\n",
       "      <td>PCA(n_components=8, random_state=42, svd_solve...</td>\n",
       "      <td>Avg-Silh</td>\n",
       "      <td>150065.458276</td>\n",
       "      <td>49.076949</td>\n",
       "      <td>0.165358</td>\n",
       "      <td>58.747339</td>\n",
       "      <td>2.149554</td>\n",
       "      <td>0.853418</td>\n",
       "      <td>0.711349</td>\n",
       "      <td>0.752050</td>\n",
       "    </tr>\n",
       "    <tr>\n",
       "      <th>1</th>\n",
       "      <td>PCA(n_components=8, random_state=42, svd_solve...</td>\n",
       "      <td>FMI</td>\n",
       "      <td>135808.815872</td>\n",
       "      <td>45.248494</td>\n",
       "      <td>0.137871</td>\n",
       "      <td>50.785711</td>\n",
       "      <td>2.275257</td>\n",
       "      <td>0.859598</td>\n",
       "      <td>0.757105</td>\n",
       "      <td>0.791641</td>\n",
       "    </tr>\n",
       "    <tr>\n",
       "      <th>2</th>\n",
       "      <td>PCA(n_components=16, random_state=42, svd_solv...</td>\n",
       "      <td>Avg-Silh</td>\n",
       "      <td>142227.775848</td>\n",
       "      <td>47.473320</td>\n",
       "      <td>0.114551</td>\n",
       "      <td>38.145090</td>\n",
       "      <td>2.739588</td>\n",
       "      <td>0.827798</td>\n",
       "      <td>0.690648</td>\n",
       "      <td>0.733995</td>\n",
       "    </tr>\n",
       "    <tr>\n",
       "      <th>3</th>\n",
       "      <td>PCA(n_components=16, random_state=42, svd_solv...</td>\n",
       "      <td>FMI</td>\n",
       "      <td>138204.820394</td>\n",
       "      <td>46.349884</td>\n",
       "      <td>0.101445</td>\n",
       "      <td>36.266941</td>\n",
       "      <td>2.653897</td>\n",
       "      <td>0.877463</td>\n",
       "      <td>0.770476</td>\n",
       "      <td>0.803083</td>\n",
       "    </tr>\n",
       "    <tr>\n",
       "      <th>4</th>\n",
       "      <td>PCA(n_components=32, random_state=42, svd_solv...</td>\n",
       "      <td>Avg-Silh</td>\n",
       "      <td>148097.737653</td>\n",
       "      <td>49.755891</td>\n",
       "      <td>0.090978</td>\n",
       "      <td>27.861573</td>\n",
       "      <td>3.081275</td>\n",
       "      <td>0.815774</td>\n",
       "      <td>0.641759</td>\n",
       "      <td>0.691585</td>\n",
       "    </tr>\n",
       "    <tr>\n",
       "      <th>5</th>\n",
       "      <td>PCA(n_components=32, random_state=42, svd_solv...</td>\n",
       "      <td>FMI</td>\n",
       "      <td>140526.742128</td>\n",
       "      <td>46.479713</td>\n",
       "      <td>0.075302</td>\n",
       "      <td>25.896323</td>\n",
       "      <td>3.320404</td>\n",
       "      <td>0.856699</td>\n",
       "      <td>0.762565</td>\n",
       "      <td>0.796192</td>\n",
       "    </tr>\n",
       "    <tr>\n",
       "      <th>6</th>\n",
       "      <td>PCA(n_components=48, random_state=42, svd_solv...</td>\n",
       "      <td>Avg-Silh</td>\n",
       "      <td>138280.003382</td>\n",
       "      <td>50.275295</td>\n",
       "      <td>0.084795</td>\n",
       "      <td>21.451342</td>\n",
       "      <td>3.396575</td>\n",
       "      <td>0.760549</td>\n",
       "      <td>0.557424</td>\n",
       "      <td>0.619441</td>\n",
       "    </tr>\n",
       "    <tr>\n",
       "      <th>7</th>\n",
       "      <td>PCA(n_components=48, random_state=42, svd_solv...</td>\n",
       "      <td>FMI</td>\n",
       "      <td>142407.391990</td>\n",
       "      <td>46.782563</td>\n",
       "      <td>0.063784</td>\n",
       "      <td>21.485278</td>\n",
       "      <td>3.548642</td>\n",
       "      <td>0.845728</td>\n",
       "      <td>0.737471</td>\n",
       "      <td>0.774698</td>\n",
       "    </tr>\n",
       "    <tr>\n",
       "      <th>8</th>\n",
       "      <td>PCA(n_components=64, random_state=42, svd_solv...</td>\n",
       "      <td>Avg-Silh</td>\n",
       "      <td>155106.694643</td>\n",
       "      <td>50.402654</td>\n",
       "      <td>0.068443</td>\n",
       "      <td>20.688588</td>\n",
       "      <td>3.613995</td>\n",
       "      <td>0.837377</td>\n",
       "      <td>0.673848</td>\n",
       "      <td>0.719434</td>\n",
       "    </tr>\n",
       "    <tr>\n",
       "      <th>9</th>\n",
       "      <td>PCA(n_components=64, random_state=42, svd_solv...</td>\n",
       "      <td>FMI</td>\n",
       "      <td>128148.781924</td>\n",
       "      <td>48.051903</td>\n",
       "      <td>0.060771</td>\n",
       "      <td>16.853050</td>\n",
       "      <td>3.746432</td>\n",
       "      <td>0.834766</td>\n",
       "      <td>0.761691</td>\n",
       "      <td>0.795696</td>\n",
       "    </tr>\n",
       "    <tr>\n",
       "      <th>10</th>\n",
       "      <td>TSNE(method='exact', n_components=8, random_st...</td>\n",
       "      <td>Avg-Silh</td>\n",
       "      <td>2443.747399</td>\n",
       "      <td>6.718394</td>\n",
       "      <td>0.102836</td>\n",
       "      <td>25.083754</td>\n",
       "      <td>3.193748</td>\n",
       "      <td>0.876524</td>\n",
       "      <td>0.781030</td>\n",
       "      <td>0.812216</td>\n",
       "    </tr>\n",
       "    <tr>\n",
       "      <th>11</th>\n",
       "      <td>TSNE(method='exact', n_components=8, random_st...</td>\n",
       "      <td>FMI</td>\n",
       "      <td>2445.657153</td>\n",
       "      <td>6.910287</td>\n",
       "      <td>0.102012</td>\n",
       "      <td>25.213915</td>\n",
       "      <td>2.983031</td>\n",
       "      <td>0.895835</td>\n",
       "      <td>0.811891</td>\n",
       "      <td>0.838629</td>\n",
       "    </tr>\n",
       "    <tr>\n",
       "      <th>12</th>\n",
       "      <td>TSNE(method='exact', n_components=16, random_s...</td>\n",
       "      <td>Avg-Silh</td>\n",
       "      <td>108.065954</td>\n",
       "      <td>1.437286</td>\n",
       "      <td>0.153412</td>\n",
       "      <td>44.967228</td>\n",
       "      <td>2.217151</td>\n",
       "      <td>0.836507</td>\n",
       "      <td>0.684077</td>\n",
       "      <td>0.729215</td>\n",
       "    </tr>\n",
       "    <tr>\n",
       "      <th>13</th>\n",
       "      <td>TSNE(method='exact', n_components=16, random_s...</td>\n",
       "      <td>FMI</td>\n",
       "      <td>85.527758</td>\n",
       "      <td>1.211459</td>\n",
       "      <td>0.107810</td>\n",
       "      <td>35.231017</td>\n",
       "      <td>2.875290</td>\n",
       "      <td>0.872964</td>\n",
       "      <td>0.791527</td>\n",
       "      <td>0.821147</td>\n",
       "    </tr>\n",
       "    <tr>\n",
       "      <th>14</th>\n",
       "      <td>TSNE(method='exact', n_components=32, random_s...</td>\n",
       "      <td>Avg-Silh</td>\n",
       "      <td>571.244973</td>\n",
       "      <td>3.174288</td>\n",
       "      <td>0.067509</td>\n",
       "      <td>20.569462</td>\n",
       "      <td>3.397969</td>\n",
       "      <td>0.827053</td>\n",
       "      <td>0.692940</td>\n",
       "      <td>0.736057</td>\n",
       "    </tr>\n",
       "    <tr>\n",
       "      <th>15</th>\n",
       "      <td>TSNE(method='exact', n_components=32, random_s...</td>\n",
       "      <td>FMI</td>\n",
       "      <td>550.666486</td>\n",
       "      <td>3.102469</td>\n",
       "      <td>0.060548</td>\n",
       "      <td>19.643301</td>\n",
       "      <td>3.477731</td>\n",
       "      <td>0.850032</td>\n",
       "      <td>0.748742</td>\n",
       "      <td>0.784274</td>\n",
       "    </tr>\n",
       "    <tr>\n",
       "      <th>16</th>\n",
       "      <td>TSNE(method='exact', n_components=48, random_s...</td>\n",
       "      <td>Avg-Silh</td>\n",
       "      <td>542.853503</td>\n",
       "      <td>3.037820</td>\n",
       "      <td>0.071236</td>\n",
       "      <td>21.423264</td>\n",
       "      <td>3.672768</td>\n",
       "      <td>0.834410</td>\n",
       "      <td>0.714210</td>\n",
       "      <td>0.754404</td>\n",
       "    </tr>\n",
       "    <tr>\n",
       "      <th>17</th>\n",
       "      <td>TSNE(method='exact', n_components=48, random_s...</td>\n",
       "      <td>FMI</td>\n",
       "      <td>544.255815</td>\n",
       "      <td>2.945114</td>\n",
       "      <td>0.064931</td>\n",
       "      <td>21.266594</td>\n",
       "      <td>3.763397</td>\n",
       "      <td>0.874979</td>\n",
       "      <td>0.812730</td>\n",
       "      <td>0.839351</td>\n",
       "    </tr>\n",
       "    <tr>\n",
       "      <th>18</th>\n",
       "      <td>TSNE(method='exact', n_components=64, random_s...</td>\n",
       "      <td>Avg-Silh</td>\n",
       "      <td>427.072921</td>\n",
       "      <td>2.909623</td>\n",
       "      <td>0.068273</td>\n",
       "      <td>16.585699</td>\n",
       "      <td>3.846667</td>\n",
       "      <td>0.815971</td>\n",
       "      <td>0.707804</td>\n",
       "      <td>0.752153</td>\n",
       "    </tr>\n",
       "    <tr>\n",
       "      <th>19</th>\n",
       "      <td>TSNE(method='exact', n_components=64, random_s...</td>\n",
       "      <td>FMI</td>\n",
       "      <td>534.075454</td>\n",
       "      <td>2.917836</td>\n",
       "      <td>0.065876</td>\n",
       "      <td>20.345624</td>\n",
       "      <td>3.744813</td>\n",
       "      <td>0.847595</td>\n",
       "      <td>0.735391</td>\n",
       "      <td>0.772749</td>\n",
       "    </tr>\n",
       "    <tr>\n",
       "      <th>20</th>\n",
       "      <td>UMAP(n_components=8, n_jobs=1, random_state=42...</td>\n",
       "      <td>Avg-Silh</td>\n",
       "      <td>149.492874</td>\n",
       "      <td>1.452902</td>\n",
       "      <td>0.225329</td>\n",
       "      <td>98.687137</td>\n",
       "      <td>1.927451</td>\n",
       "      <td>0.820337</td>\n",
       "      <td>0.634726</td>\n",
       "      <td>0.685569</td>\n",
       "    </tr>\n",
       "    <tr>\n",
       "      <th>21</th>\n",
       "      <td>UMAP(n_components=8, n_jobs=1, random_state=42...</td>\n",
       "      <td>FMI</td>\n",
       "      <td>152.393784</td>\n",
       "      <td>1.483956</td>\n",
       "      <td>0.223530</td>\n",
       "      <td>99.278253</td>\n",
       "      <td>1.787918</td>\n",
       "      <td>0.860759</td>\n",
       "      <td>0.733417</td>\n",
       "      <td>0.771140</td>\n",
       "    </tr>\n",
       "    <tr>\n",
       "      <th>22</th>\n",
       "      <td>UMAP(n_components=16, n_jobs=1, random_state=4...</td>\n",
       "      <td>Avg-Silh</td>\n",
       "      <td>156.684444</td>\n",
       "      <td>1.485309</td>\n",
       "      <td>0.224146</td>\n",
       "      <td>104.784543</td>\n",
       "      <td>1.806785</td>\n",
       "      <td>0.842896</td>\n",
       "      <td>0.686118</td>\n",
       "      <td>0.730154</td>\n",
       "    </tr>\n",
       "    <tr>\n",
       "      <th>23</th>\n",
       "      <td>UMAP(n_components=16, n_jobs=1, random_state=4...</td>\n",
       "      <td>FMI</td>\n",
       "      <td>156.162254</td>\n",
       "      <td>1.484665</td>\n",
       "      <td>0.223713</td>\n",
       "      <td>103.920495</td>\n",
       "      <td>1.806850</td>\n",
       "      <td>0.846949</td>\n",
       "      <td>0.687693</td>\n",
       "      <td>0.731513</td>\n",
       "    </tr>\n",
       "    <tr>\n",
       "      <th>24</th>\n",
       "      <td>UMAP(n_components=32, n_jobs=1, random_state=4...</td>\n",
       "      <td>Avg-Silh</td>\n",
       "      <td>151.480794</td>\n",
       "      <td>1.471717</td>\n",
       "      <td>0.229320</td>\n",
       "      <td>98.636536</td>\n",
       "      <td>1.889732</td>\n",
       "      <td>0.846100</td>\n",
       "      <td>0.699569</td>\n",
       "      <td>0.741818</td>\n",
       "    </tr>\n",
       "    <tr>\n",
       "      <th>25</th>\n",
       "      <td>UMAP(n_components=32, n_jobs=1, random_state=4...</td>\n",
       "      <td>FMI</td>\n",
       "      <td>153.861294</td>\n",
       "      <td>1.490677</td>\n",
       "      <td>0.225129</td>\n",
       "      <td>99.868285</td>\n",
       "      <td>1.838784</td>\n",
       "      <td>0.873926</td>\n",
       "      <td>0.767674</td>\n",
       "      <td>0.800678</td>\n",
       "    </tr>\n",
       "    <tr>\n",
       "      <th>26</th>\n",
       "      <td>UMAP(n_components=48, n_jobs=1, random_state=4...</td>\n",
       "      <td>Avg-Silh</td>\n",
       "      <td>126.262475</td>\n",
       "      <td>1.509541</td>\n",
       "      <td>0.237115</td>\n",
       "      <td>91.442807</td>\n",
       "      <td>1.651100</td>\n",
       "      <td>0.829899</td>\n",
       "      <td>0.672068</td>\n",
       "      <td>0.719058</td>\n",
       "    </tr>\n",
       "    <tr>\n",
       "      <th>27</th>\n",
       "      <td>UMAP(n_components=48, n_jobs=1, random_state=4...</td>\n",
       "      <td>FMI</td>\n",
       "      <td>147.698761</td>\n",
       "      <td>1.456563</td>\n",
       "      <td>0.216542</td>\n",
       "      <td>98.666302</td>\n",
       "      <td>1.852191</td>\n",
       "      <td>0.844089</td>\n",
       "      <td>0.716296</td>\n",
       "      <td>0.756366</td>\n",
       "    </tr>\n",
       "    <tr>\n",
       "      <th>28</th>\n",
       "      <td>UMAP(n_components=64, n_jobs=1, random_state=4...</td>\n",
       "      <td>Avg-Silh</td>\n",
       "      <td>142.468696</td>\n",
       "      <td>1.432742</td>\n",
       "      <td>0.223566</td>\n",
       "      <td>97.222490</td>\n",
       "      <td>1.842114</td>\n",
       "      <td>0.818643</td>\n",
       "      <td>0.658934</td>\n",
       "      <td>0.706642</td>\n",
       "    </tr>\n",
       "    <tr>\n",
       "      <th>29</th>\n",
       "      <td>UMAP(n_components=64, n_jobs=1, random_state=4...</td>\n",
       "      <td>FMI</td>\n",
       "      <td>129.268782</td>\n",
       "      <td>1.381057</td>\n",
       "      <td>0.202864</td>\n",
       "      <td>87.950830</td>\n",
       "      <td>1.959668</td>\n",
       "      <td>0.854396</td>\n",
       "      <td>0.759968</td>\n",
       "      <td>0.794034</td>\n",
       "    </tr>\n",
       "  </tbody>\n",
       "</table>\n",
       "</div>"
      ],
      "text/plain": [
       "                                            Algorithm       Key  \\\n",
       "0   PCA(n_components=8, random_state=42, svd_solve...  Avg-Silh   \n",
       "1   PCA(n_components=8, random_state=42, svd_solve...       FMI   \n",
       "2   PCA(n_components=16, random_state=42, svd_solv...  Avg-Silh   \n",
       "3   PCA(n_components=16, random_state=42, svd_solv...       FMI   \n",
       "4   PCA(n_components=32, random_state=42, svd_solv...  Avg-Silh   \n",
       "5   PCA(n_components=32, random_state=42, svd_solv...       FMI   \n",
       "6   PCA(n_components=48, random_state=42, svd_solv...  Avg-Silh   \n",
       "7   PCA(n_components=48, random_state=42, svd_solv...       FMI   \n",
       "8   PCA(n_components=64, random_state=42, svd_solv...  Avg-Silh   \n",
       "9   PCA(n_components=64, random_state=42, svd_solv...       FMI   \n",
       "10  TSNE(method='exact', n_components=8, random_st...  Avg-Silh   \n",
       "11  TSNE(method='exact', n_components=8, random_st...       FMI   \n",
       "12  TSNE(method='exact', n_components=16, random_s...  Avg-Silh   \n",
       "13  TSNE(method='exact', n_components=16, random_s...       FMI   \n",
       "14  TSNE(method='exact', n_components=32, random_s...  Avg-Silh   \n",
       "15  TSNE(method='exact', n_components=32, random_s...       FMI   \n",
       "16  TSNE(method='exact', n_components=48, random_s...  Avg-Silh   \n",
       "17  TSNE(method='exact', n_components=48, random_s...       FMI   \n",
       "18  TSNE(method='exact', n_components=64, random_s...  Avg-Silh   \n",
       "19  TSNE(method='exact', n_components=64, random_s...       FMI   \n",
       "20  UMAP(n_components=8, n_jobs=1, random_state=42...  Avg-Silh   \n",
       "21  UMAP(n_components=8, n_jobs=1, random_state=42...       FMI   \n",
       "22  UMAP(n_components=16, n_jobs=1, random_state=4...  Avg-Silh   \n",
       "23  UMAP(n_components=16, n_jobs=1, random_state=4...       FMI   \n",
       "24  UMAP(n_components=32, n_jobs=1, random_state=4...  Avg-Silh   \n",
       "25  UMAP(n_components=32, n_jobs=1, random_state=4...       FMI   \n",
       "26  UMAP(n_components=48, n_jobs=1, random_state=4...  Avg-Silh   \n",
       "27  UMAP(n_components=48, n_jobs=1, random_state=4...       FMI   \n",
       "28  UMAP(n_components=64, n_jobs=1, random_state=4...  Avg-Silh   \n",
       "29  UMAP(n_components=64, n_jobs=1, random_state=4...       FMI   \n",
       "\n",
       "        Ward_dist   Cen_dist  Avg-Silh  Avg-Cal-Har  Avg-Dav-Bold       AMI  \\\n",
       "0   150065.458276  49.076949  0.165358    58.747339      2.149554  0.853418   \n",
       "1   135808.815872  45.248494  0.137871    50.785711      2.275257  0.859598   \n",
       "2   142227.775848  47.473320  0.114551    38.145090      2.739588  0.827798   \n",
       "3   138204.820394  46.349884  0.101445    36.266941      2.653897  0.877463   \n",
       "4   148097.737653  49.755891  0.090978    27.861573      3.081275  0.815774   \n",
       "5   140526.742128  46.479713  0.075302    25.896323      3.320404  0.856699   \n",
       "6   138280.003382  50.275295  0.084795    21.451342      3.396575  0.760549   \n",
       "7   142407.391990  46.782563  0.063784    21.485278      3.548642  0.845728   \n",
       "8   155106.694643  50.402654  0.068443    20.688588      3.613995  0.837377   \n",
       "9   128148.781924  48.051903  0.060771    16.853050      3.746432  0.834766   \n",
       "10    2443.747399   6.718394  0.102836    25.083754      3.193748  0.876524   \n",
       "11    2445.657153   6.910287  0.102012    25.213915      2.983031  0.895835   \n",
       "12     108.065954   1.437286  0.153412    44.967228      2.217151  0.836507   \n",
       "13      85.527758   1.211459  0.107810    35.231017      2.875290  0.872964   \n",
       "14     571.244973   3.174288  0.067509    20.569462      3.397969  0.827053   \n",
       "15     550.666486   3.102469  0.060548    19.643301      3.477731  0.850032   \n",
       "16     542.853503   3.037820  0.071236    21.423264      3.672768  0.834410   \n",
       "17     544.255815   2.945114  0.064931    21.266594      3.763397  0.874979   \n",
       "18     427.072921   2.909623  0.068273    16.585699      3.846667  0.815971   \n",
       "19     534.075454   2.917836  0.065876    20.345624      3.744813  0.847595   \n",
       "20     149.492874   1.452902  0.225329    98.687137      1.927451  0.820337   \n",
       "21     152.393784   1.483956  0.223530    99.278253      1.787918  0.860759   \n",
       "22     156.684444   1.485309  0.224146   104.784543      1.806785  0.842896   \n",
       "23     156.162254   1.484665  0.223713   103.920495      1.806850  0.846949   \n",
       "24     151.480794   1.471717  0.229320    98.636536      1.889732  0.846100   \n",
       "25     153.861294   1.490677  0.225129    99.868285      1.838784  0.873926   \n",
       "26     126.262475   1.509541  0.237115    91.442807      1.651100  0.829899   \n",
       "27     147.698761   1.456563  0.216542    98.666302      1.852191  0.844089   \n",
       "28     142.468696   1.432742  0.223566    97.222490      1.842114  0.818643   \n",
       "29     129.268782   1.381057  0.202864    87.950830      1.959668  0.854396   \n",
       "\n",
       "         ARI       FMI  \n",
       "0   0.711349  0.752050  \n",
       "1   0.757105  0.791641  \n",
       "2   0.690648  0.733995  \n",
       "3   0.770476  0.803083  \n",
       "4   0.641759  0.691585  \n",
       "5   0.762565  0.796192  \n",
       "6   0.557424  0.619441  \n",
       "7   0.737471  0.774698  \n",
       "8   0.673848  0.719434  \n",
       "9   0.761691  0.795696  \n",
       "10  0.781030  0.812216  \n",
       "11  0.811891  0.838629  \n",
       "12  0.684077  0.729215  \n",
       "13  0.791527  0.821147  \n",
       "14  0.692940  0.736057  \n",
       "15  0.748742  0.784274  \n",
       "16  0.714210  0.754404  \n",
       "17  0.812730  0.839351  \n",
       "18  0.707804  0.752153  \n",
       "19  0.735391  0.772749  \n",
       "20  0.634726  0.685569  \n",
       "21  0.733417  0.771140  \n",
       "22  0.686118  0.730154  \n",
       "23  0.687693  0.731513  \n",
       "24  0.699569  0.741818  \n",
       "25  0.767674  0.800678  \n",
       "26  0.672068  0.719058  \n",
       "27  0.716296  0.756366  \n",
       "28  0.658934  0.706642  \n",
       "29  0.759968  0.794034  "
      ]
     },
     "execution_count": 12,
     "metadata": {},
     "output_type": "execute_result"
    }
   ],
   "source": [
    "stats = [ ]\n",
    "for algorithm in algorithms:\n",
    "    features_reduced = algorithm.fit_transform(features)\n",
    "    result, df_st_edges = SDA.SDA(scale = False).apply(features_reduced)\n",
    "\n",
    "    metrics = [ ]\n",
    "    for row in result['St_edges']:\n",
    "        metrics.append(SDA.clustquality.cluster_metrics_ground(edges_true, row))\n",
    "    result = pandas.concat([ result, pandas.DataFrame(metrics) ], axis = 1)\n",
    "    \n",
    "    best_result = SDA.analytics.best_result(result, key = 'Avg-Silh', n_stages = 9)\n",
    "    best_result[\"Algorithm\"] = algorithm\n",
    "    best_result[\"Key\"] = 'Avg-Silh'\n",
    "    stats.append(best_result)\n",
    "    \n",
    "    best_result = SDA.analytics.best_result(result, key = 'FMI', n_stages = 9)\n",
    "    best_result[\"Algorithm\"] = algorithm\n",
    "    best_result[\"Key\"] = 'FMI'\n",
    "    stats.append(best_result)\n",
    "\n",
    "df = pandas.DataFrame(stats)[[\"Algorithm\", \"Key\", \"Ward_dist\", \"Cen_dist\", \"Avg-Silh\", \"Avg-Cal-Har\", \"Avg-Dav-Bold\", \"AMI\", \"ARI\", \"FMI\"]]\n",
    "df"
   ]
  }
 ],
 "metadata": {
  "kernelspec": {
   "display_name": "Python 3",
   "language": "python",
   "name": "python3"
  },
  "language_info": {
   "codemirror_mode": {
    "name": "ipython",
    "version": 3
   },
   "file_extension": ".py",
   "mimetype": "text/x-python",
   "name": "python",
   "nbconvert_exporter": "python",
   "pygments_lexer": "ipython3",
   "version": "3.10.11"
  }
 },
 "nbformat": 4,
 "nbformat_minor": 2
}
