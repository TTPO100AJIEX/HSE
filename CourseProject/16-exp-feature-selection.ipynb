{
 "cells": [
  {
   "cell_type": "code",
   "execution_count": null,
   "metadata": {},
   "outputs": [],
   "source": [
    "import os\n",
    "\n",
    "subj = \"Subj1\"\n",
    "N_STAGES = 9\n",
    "exp = \"exp_feature_selection\"\n",
    "os.makedirs(f\"{subj}/{exp}\", exist_ok = True)"
   ]
  },
  {
   "cell_type": "code",
   "execution_count": null,
   "metadata": {},
   "outputs": [],
   "source": [
    "%load_ext autoreload\n",
    "%autoreload 2\n",
    "\n",
    "import time\n",
    "import warnings\n",
    "import itertools\n",
    "warnings.filterwarnings('ignore')\n",
    "\n",
    "import SDA\n",
    "import SDA.analytics\n",
    "import SDA.clustquality\n",
    "\n",
    "import umap\n",
    "import tqdm\n",
    "import numpy\n",
    "import pandas\n",
    "import sklearn.preprocessing\n",
    "import sklearn.decomposition\n",
    "import tqdm.contrib.itertools\n",
    "import sklearn.feature_selection"
   ]
  },
  {
   "cell_type": "code",
   "execution_count": null,
   "metadata": {},
   "outputs": [],
   "source": [
    "edges_true = numpy.loadtxt(f\"{subj}/reproduction/internal/best_edges.txt\").astype(numpy.int32)"
   ]
  },
  {
   "cell_type": "code",
   "execution_count": null,
   "metadata": {},
   "outputs": [],
   "source": [
    "params = [ ]\n",
    "\n",
    "len_st_thr_attempts = [\n",
    "    [ 0 ],\n",
    "    [ 20 ],\n",
    "    [ 40 ],\n",
    "    [ 60 ],\n",
    "    # [ 0, 20 ],\n",
    "    # [ 0, 40 ],\n",
    "    # [ 0, 60 ],\n",
    "    # [ 20, 40 ],\n",
    "    # [ 20, 60 ],\n",
    "    # [ 40, 60 ],\n",
    "    # [ 0, 20, 40 ],\n",
    "    # [ 0, 20, 60 ],\n",
    "    # [ 0, 40, 60 ],\n",
    "    # [ 20, 40, 60 ],\n",
    "    # [ 0, 20, 40, 60 ]\n",
    "]\n",
    "for (\n",
    "    n_clusters_min,\n",
    "    k_neighbours_min,\n",
    "    len_st_thr\n",
    ") in itertools.product(\n",
    "    range(2, 21, 3), # range(2, 21)\n",
    "    range(20, 51, 5), # range(20, 51),\n",
    "    len_st_thr_attempts\n",
    "):\n",
    "    for (\n",
    "        n_clusters_max,\n",
    "        k_neighbours_max\n",
    "    ) in itertools.product(\n",
    "        range(n_clusters_min, 21, 3), # range(n_clusters_min, 21),\n",
    "        range(k_neighbours_min, 51, 5), # range(k_neighbours_min, 51)\n",
    "    ):\n",
    "        k_neighb_max_thr = [ k_neighbours_max ]\n",
    "        n_cl_max_thr = [ n_clusters_max ]\n",
    "        \n",
    "        params.append({\n",
    "            'scale': False,\n",
    "            \n",
    "            'n_clusters_min': n_clusters_min, 'n_clusters_max': n_clusters_max,\n",
    "            'k_neighbours_min': k_neighbours_min, 'k_neighbours_max': k_neighbours_max,\n",
    "            'len_st_thr': len_st_thr,\n",
    "\n",
    "            'n_cl_max_thr': n_cl_max_thr,\n",
    "            'k_neighb_max_thr': k_neighb_max_thr,\n",
    "            'n_edge_clusters_min': N_STAGES - 1, 'n_edge_clusters_max': N_STAGES - 1\n",
    "        })\n",
    "\n",
    "print(len(params))"
   ]
  },
  {
   "cell_type": "code",
   "execution_count": null,
   "metadata": {},
   "outputs": [],
   "source": [
    "N_JOBS = 15\n",
    "\n",
    "def try_default(features: numpy.ndarray):\n",
    "    start = time.time()\n",
    "    target_result, _ = SDA.SDA(n_jobs = N_JOBS, scale = False, verbose = True).apply(features)\n",
    "\n",
    "    print('Target time:', time.time() - start)\n",
    "    display(SDA.analytics.best_results(target_result, key = 'Avg-Silh'))\n",
    "\n",
    "def try_params(features: numpy.ndarray, result_name: str):\n",
    "    results = [ ]\n",
    "    for param in tqdm.tqdm(params):\n",
    "        start = time.time()\n",
    "        try:\n",
    "            result, _ = SDA.SDA(**param, n_jobs = N_JOBS, verbose = False).apply(features)\n",
    "        except Exception as e:\n",
    "            continue\n",
    "        end = time.time()\n",
    "\n",
    "        result = SDA.analytics.best_result(result, key = 'Avg-Silh', n_stages = N_STAGES)\n",
    "        metrics = SDA.clustquality.cluster_metrics_ground(edges_true, result['St_edges'])\n",
    "        result['time'] = (end - start)\n",
    "        results.append(dict(**param, **result, **metrics))\n",
    "        \n",
    "    results = pandas.DataFrame(results)\n",
    "    results.to_csv(f\"{subj}/{exp}/{result_name}.csv\")\n",
    "    display(results.head())"
   ]
  },
  {
   "cell_type": "markdown",
   "metadata": {},
   "source": [
    "### TDA"
   ]
  },
  {
   "cell_type": "code",
   "execution_count": null,
   "metadata": {},
   "outputs": [],
   "source": [
    "features_tda = pandas.read_feather(f'{subj}/exp_final_filtered/all_features.feather')\n",
    "print(features_tda.shape)\n",
    "\n",
    "features_tda = sklearn.preprocessing.StandardScaler().fit_transform(features_tda)\n",
    "print(features_tda.shape)"
   ]
  },
  {
   "cell_type": "markdown",
   "metadata": {},
   "source": [
    "#### UMAP"
   ]
  },
  {
   "cell_type": "code",
   "execution_count": null,
   "metadata": {},
   "outputs": [],
   "source": [
    "features_tda_umap = umap.UMAP(n_components = 15, random_state = 42).fit_transform(features_tda)\n",
    "print(features_tda_umap.shape)"
   ]
  },
  {
   "cell_type": "code",
   "execution_count": null,
   "metadata": {},
   "outputs": [],
   "source": [
    "try_default(features_tda_umap)"
   ]
  },
  {
   "cell_type": "code",
   "execution_count": null,
   "metadata": {},
   "outputs": [],
   "source": [
    "try_params(features_tda_umap, 'tda_umap')"
   ]
  },
  {
   "cell_type": "markdown",
   "metadata": {},
   "source": [
    "#### PCA"
   ]
  },
  {
   "cell_type": "code",
   "execution_count": null,
   "metadata": {},
   "outputs": [],
   "source": [
    "features_tda_pca = sklearn.decomposition.PCA(n_components = 15, svd_solver = \"full\", random_state = 42).fit_transform(features_tda)\n",
    "print(features_tda_pca.shape)"
   ]
  },
  {
   "cell_type": "code",
   "execution_count": null,
   "metadata": {},
   "outputs": [],
   "source": [
    "try_default(features_tda_pca)"
   ]
  },
  {
   "cell_type": "code",
   "execution_count": null,
   "metadata": {},
   "outputs": [],
   "source": [
    "try_params(features_tda_pca, 'tda_pca')"
   ]
  },
  {
   "cell_type": "markdown",
   "metadata": {},
   "source": [
    "### Neurofeatures"
   ]
  },
  {
   "cell_type": "code",
   "execution_count": null,
   "metadata": {},
   "outputs": [],
   "source": [
    "df_ft_psd_loc_db = pandas.read_feather(f'{subj}/src/df_ft_psd_loc_db.feather')\n",
    "df_ft_psd_ind_loc_log = pandas.read_feather(f'{subj}/src/df_ft_psd_ind_loc_log.feather')\n",
    "df_ft_coh_ind_loc = pandas.read_feather(f'{subj}/src/df_ft_coh_ind_loc.feather')\n",
    "df_ft_plv_ind_loc = pandas.read_feather(f'{subj}/src/df_ft_plv_ind_loc.feather')\n",
    "\n",
    "features_neuro = pandas.concat([ df_ft_psd_loc_db, df_ft_psd_ind_loc_log, df_ft_coh_ind_loc, df_ft_plv_ind_loc ], axis = 1)\n",
    "print(features_neuro.shape)\n",
    "\n",
    "features_neuro = sklearn.preprocessing.StandardScaler().fit_transform(features_neuro)\n",
    "print(features_neuro.shape)"
   ]
  },
  {
   "cell_type": "markdown",
   "metadata": {},
   "source": [
    "#### UMAP"
   ]
  },
  {
   "cell_type": "code",
   "execution_count": null,
   "metadata": {},
   "outputs": [],
   "source": [
    "features_neuro_umap = umap.UMAP(n_components = 15, random_state = 42).fit_transform(features_neuro)\n",
    "print(features_neuro_umap.shape)"
   ]
  },
  {
   "cell_type": "code",
   "execution_count": null,
   "metadata": {},
   "outputs": [],
   "source": [
    "try_default(features_neuro_umap)"
   ]
  },
  {
   "cell_type": "code",
   "execution_count": null,
   "metadata": {},
   "outputs": [],
   "source": [
    "try_params(features_neuro_umap, 'neuro_umap')"
   ]
  },
  {
   "cell_type": "markdown",
   "metadata": {},
   "source": [
    "#### PCA"
   ]
  },
  {
   "cell_type": "code",
   "execution_count": null,
   "metadata": {},
   "outputs": [],
   "source": [
    "features_neuro_pca = sklearn.decomposition.PCA(n_components = 15, svd_solver = 'full', random_state = 42).fit_transform(features_neuro)\n",
    "print(features_neuro_pca.shape)"
   ]
  },
  {
   "cell_type": "code",
   "execution_count": null,
   "metadata": {},
   "outputs": [],
   "source": [
    "try_default(features_neuro_pca)"
   ]
  },
  {
   "cell_type": "code",
   "execution_count": null,
   "metadata": {},
   "outputs": [],
   "source": [
    "try_params(features_neuro_pca, 'neuro_pca')"
   ]
  }
 ],
 "metadata": {
  "kernelspec": {
   "display_name": "Python 3",
   "language": "python",
   "name": "python3"
  },
  "language_info": {
   "codemirror_mode": {
    "name": "ipython",
    "version": 3
   },
   "file_extension": ".py",
   "mimetype": "text/x-python",
   "name": "python",
   "nbconvert_exporter": "python",
   "pygments_lexer": "ipython3",
   "version": "3.10.11"
  }
 },
 "nbformat": 4,
 "nbformat_minor": 2
}
