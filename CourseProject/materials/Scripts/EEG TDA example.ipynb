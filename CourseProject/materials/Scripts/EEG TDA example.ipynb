{
 "cells": [
  {
   "cell_type": "code",
   "execution_count": null,
   "metadata": {
    "id": "HRLGUUAYfG6d"
   },
   "outputs": [],
   "source": [
    "#!pip install mne\n",
    "#!pip install giotto-tda"
   ]
  },
  {
   "cell_type": "code",
   "execution_count": null,
   "metadata": {},
   "outputs": [],
   "source": [
    "import warnings\n",
    "warnings.filterwarnings(\"ignore\")"
   ]
  },
  {
   "cell_type": "code",
   "execution_count": null,
   "metadata": {
    "id": "9HjHSUPZw3Sq"
   },
   "outputs": [],
   "source": [
    "import sys\n",
    "import os\n",
    "from glob import glob\n",
    "import numpy as np\n",
    "import scipy as sp\n",
    "import statistics, math\n",
    "import random as rd\n",
    "import pandas as pd\n",
    "#import dataframe_image as dfi\n",
    "pd.options.display.float_format = '{:,.2f}'.format\n",
    "\n",
    "from math import sqrt, ceil\n",
    "\n",
    "from sklearn import metrics\n",
    "from sklearn import decomposition, cluster\n",
    "from sklearn.cluster import KMeans, AgglomerativeClustering\n",
    "from sklearn.preprocessing import StandardScaler\n",
    "from sklearn.linear_model import LinearRegression\n",
    "\n",
    "from scipy.spatial.distance import correlation\n",
    "from IPython.display import display"
   ]
  },
  {
   "cell_type": "code",
   "execution_count": null,
   "metadata": {
    "colab": {
     "base_uri": "https://localhost:8080/"
    },
    "executionInfo": {
     "elapsed": 1469,
     "status": "ok",
     "timestamp": 1662037206531,
     "user": {
      "displayName": "Екатерина Михайлец",
      "userId": "03958266793788218532"
     },
     "user_tz": -180
    },
    "id": "N9cxS9GRxBgK",
    "outputId": "4440227c-e14a-43ff-c3f2-82857f88a235"
   },
   "outputs": [
    {
     "name": "stdout",
     "output_type": "stream",
     "text": [
      "/usr/local/lib/python3.7/dist-packages/mne/__init__.py\n",
      "1.1.1\n"
     ]
    }
   ],
   "source": [
    "import mne\n",
    "#import mne_connectivity\n",
    "\n",
    "from mne.preprocessing import (ICA, create_eog_epochs, create_ecg_epochs, corrmap, annotate_muscle_zscore, peak_finder,\n",
    "                               find_eog_events, find_ecg_events, ica_find_ecg_events, find_bad_channels_maxwell)\n",
    "from mne.time_frequency import (tfr_array_multitaper, psd_array_multitaper, csd_array_multitaper, csd_array_morlet)\n",
    "\n",
    "from mne_connectivity import seed_target_indices, spectral_connectivity_epochs, spectral_connectivity_time\n",
    "\n",
    "print(mne.__file__)\n",
    "print(mne.__version__)"
   ]
  },
  {
   "cell_type": "code",
   "execution_count": null,
   "metadata": {
    "id": "71FZVzqpxOcN"
   },
   "outputs": [],
   "source": [
    "import plotly.graph_objects as go\n",
    "from gtda.time_series import SingleTakensEmbedding, TakensEmbedding, takens_embedding_optimal_parameters\n",
    "from gtda.homology import VietorisRipsPersistence\n",
    "from gtda.diagrams import BettiCurve, Scaler, Filtering, Amplitude, PersistenceEntropy, NumberOfPoints\n",
    "from gtda.plotting import plot_point_cloud\n"
   ]
  },
  {
   "cell_type": "code",
   "execution_count": null,
   "metadata": {
    "id": "jetahO80fkZy"
   },
   "outputs": [],
   "source": [
    "# Configure the graphics engine\n",
    "\n",
    "import matplotlib.pyplot as plt\n",
    "plt.rc('figure', max_open_warning=200)\n",
    "%matplotlib notebook\n",
    "#%matplotlib qt\n",
    "#%matplotlib inline\n",
    "\n",
    "#from google.colab import files"
   ]
  },
  {
   "cell_type": "markdown",
   "metadata": {
    "id": "XIw8PepuJTUx"
   },
   "source": [
    "# Loading data"
   ]
  },
  {
   "cell_type": "code",
   "execution_count": null,
   "metadata": {
    "colab": {
     "base_uri": "https://localhost:8080/",
     "height": 671
    },
    "executionInfo": {
     "elapsed": 888,
     "status": "ok",
     "timestamp": 1662038018011,
     "user": {
      "displayName": "Екатерина Михайлец",
      "userId": "03958266793788218532"
     },
     "user_tz": -180
    },
    "id": "g2j43G9hJrFz",
    "outputId": "bb0c9db3-aadb-48b3-ab55-73e760b4594c"
   },
   "outputs": [
    {
     "name": "stdout",
     "output_type": "stream",
     "text": [
      "Extracting EDF parameters from /content/gdrive/My Drive/Colab Projects/Tibet/m10/m10_40.edf...\n",
      "EDF file detected\n",
      "Setting channel info structure...\n",
      "Creating raw.info structure...\n",
      "Reading 0 ... 491999  =      0.000 ...   983.998 secs...\n",
      "['Fp1', 'Fpz', 'Fp2', 'F7', 'F3', 'Fz', 'F4', 'F8', 'Ft7', 'Fc3', 'Fcz', 'Fc4', 'Ft8', 'T3', 'C3', 'Cz', 'C4', 'T4', 'Tp7', 'Cp3', 'Cpz', 'Cp4', 'Tp8', 'A1', 'T5', 'P3', 'Pz', 'P4', 'T6', 'A2', 'P5', 'Po3', 'Poz', 'Po4', 'P6', 'Po7', 'O1', 'Oz', 'O2', 'Po8', 'ecg', 'Sound', 'Accelerometer', 'resp']\n",
      "<Info | 7 non-empty values\n",
      " bads: []\n",
      " ch_names: Fp1, Fpz, Fp2, F7, F3, Fz, F4, F8, Ft7, Fc3, Fcz, Fc4, Ft8, T3, ...\n",
      " chs: 44 EEG\n",
      " custom_ref_applied: False\n",
      " highpass: 0.5 Hz\n",
      " lowpass: 70.0 Hz\n",
      " meas_date: 2020-03-01 06:31:33 UTC\n",
      " nchan: 44\n",
      " projs: []\n",
      " sfreq: 500.0 Hz\n",
      ">\n",
      "['Fp1', 'Fpz', 'Fp2', 'F7', 'F3', 'Fz', 'F4', 'F8', 'FT7', 'FC3', 'FCz', 'FC4', 'FT8', 'T3', 'C3', 'Cz', 'C4', 'T4', 'TP7', 'CP3', 'CPz', 'CP4', 'TP8', 'A1', 'T5', 'P3', 'Pz', 'P4', 'T6', 'A2', 'P5', 'PO3', 'POz', 'PO4', 'P6', 'PO7', 'O1', 'Oz', 'O2', 'PO8']\n",
      "\n"
     ]
    },
    {
     "data": {
      "text/html": [
       "<table class=\"table table-hover table-striped table-sm table-responsive small\">\n",
       "    <tr>\n",
       "        <th>Measurement date</th>\n",
       "        \n",
       "        <td>March 01, 2020  06:31:33 GMT</td>\n",
       "        \n",
       "    </tr>\n",
       "    <tr>\n",
       "        <th>Experimenter</th>\n",
       "        \n",
       "        <td>Unknown</td>\n",
       "        \n",
       "    </tr>\n",
       "        <th>Participant</th>\n",
       "        \n",
       "        <td>Unknown</td>\n",
       "        \n",
       "    </tr>\n",
       "    <tr>\n",
       "        <th>Digitized points</th>\n",
       "        \n",
       "        <td>43 points</td>\n",
       "        \n",
       "    </tr>\n",
       "    <tr>\n",
       "        <th>Good channels</th>\n",
       "        <td>40 EEG</td>\n",
       "    </tr>\n",
       "    <tr>\n",
       "        <th>Bad channels</th>\n",
       "        <td>None</td>\n",
       "    </tr>\n",
       "    <tr>\n",
       "        <th>EOG channels</th>\n",
       "        <td>Not available</td>\n",
       "    </tr>\n",
       "    <tr>\n",
       "        <th>ECG channels</th>\n",
       "        <td>Not available</td>\n",
       "    \n",
       "    <tr>\n",
       "        <th>Sampling frequency</th>\n",
       "        <td>500.00 Hz</td>\n",
       "    </tr>\n",
       "    \n",
       "    \n",
       "    <tr>\n",
       "        <th>Highpass</th>\n",
       "        <td>0.50 Hz</td>\n",
       "    </tr>\n",
       "    \n",
       "    \n",
       "    <tr>\n",
       "        <th>Lowpass</th>\n",
       "        <td>70.00 Hz</td>\n",
       "    </tr>\n",
       "    \n",
       "    \n",
       "    \n",
       "    <tr>\n",
       "        <th>Filenames</th>\n",
       "        <td>m10_40.edf</td>\n",
       "    </tr>\n",
       "    \n",
       "    <tr>\n",
       "        <th>Duration</th>\n",
       "        <td>00:16:23 (HH:MM:SS)</td>\n",
       "    </tr>\n",
       "</table>"
      ],
      "text/plain": [
       "<RawEDF | m10_40.edf, 40 x 492000 (984.0 s), ~150.2 MB, data loaded>"
      ]
     },
     "execution_count": 10,
     "metadata": {},
     "output_type": "execute_result"
    }
   ],
   "source": [
    "ECG_ch = ['ecg']\n",
    "resp_ch = ['resp']\n",
    "sound_ch = ['Sound']\n",
    "accel_ch = ['Accelerometer']\n",
    "\n",
    "data_raw = mne.io.read_raw_edf(os.path.join(root_path, r\"m10_40.edf\"), preload=True)\n",
    "sampling_rate = data_raw.info['sfreq']\n",
    "\n",
    "print(data_raw.info.ch_names)\n",
    "print(data_raw.info)\n",
    "\n",
    "\n",
    "#data_eog = data.copy().pick_channels(EOG_ch)\n",
    "data_ecg = data_raw.copy().pick_channels(ECG_ch)\n",
    "#data_ecg.plot(scalings = dict(eeg=100e-4), duration=10)\n",
    "data_resp = data_raw.copy().pick_channels(resp_ch)\n",
    "#data_resp.plot(scalings = dict(eeg=100e-3), duration=10)\n",
    "\n",
    "data_raw.drop_channels(['ecg', 'resp', 'Sound', 'Accelerometer'])\n",
    "#data_raw.rename_channels(lambda s: s[:-1].upper()+s[-1])\n",
    "data_raw.rename_channels({'Ft7':'FT7', 'Fc3':'FC3', 'Fcz':'FCz', 'Fc4':'FC4', 'Ft8':'FT8', 'Tp7':'TP7', 'Cp3':'CP3', \n",
    "                          'Cpz':'CPz', 'Cp4':'CP4', 'Tp8':'TP8', 'Po3':'PO3', 'Poz':'POz', 'Po4':'PO4', 'Po7':'PO7', \n",
    "                          'Po8':'PO8'})\n",
    "data_raw.set_montage('standard_1020')\n",
    "#data.set_channel_types(change_types)\n",
    "print(data_raw.ch_names)\n",
    "#data_raw.plot(duration=10)\n",
    "print()\n",
    "data_raw"
   ]
  },
  {
   "cell_type": "markdown",
   "metadata": {
    "id": "K-wOv0g0hjUh"
   },
   "source": [
    "# Preprocessing EEG data\n",
    "\n"
   ]
  },
  {
   "cell_type": "code",
   "execution_count": null,
   "metadata": {
    "colab": {
     "base_uri": "https://localhost:8080/"
    },
    "executionInfo": {
     "elapsed": 2807,
     "status": "ok",
     "timestamp": 1662038125254,
     "user": {
      "displayName": "Екатерина Михайлец",
      "userId": "03958266793788218532"
     },
     "user_tz": -180
    },
    "id": "PTzT4tbjveB5",
    "outputId": "069d16ec-7d83-44d5-a692-0f24cb6e5f09"
   },
   "outputs": [
    {
     "name": "stdout",
     "output_type": "stream",
     "text": [
      "Filtering raw data in 1 contiguous segment\n",
      "Setting up band-pass filter from 0.9 - 40 Hz\n",
      "\n",
      "FIR filter parameters\n",
      "---------------------\n",
      "Designing a one-pass, zero-phase, non-causal bandpass filter:\n",
      "- Windowed time-domain design (firwin) method\n",
      "- Hamming window with 0.0194 passband ripple and 53 dB stopband attenuation\n",
      "- Lower passband edge: 0.90\n",
      "- Lower transition bandwidth: 0.90 Hz (-6 dB cutoff frequency: 0.45 Hz)\n",
      "- Upper passband edge: 40.00 Hz\n",
      "- Upper transition bandwidth: 10.00 Hz (-6 dB cutoff frequency: 45.00 Hz)\n",
      "- Filter length: 1835 samples (3.670 sec)\n",
      "\n"
     ]
    },
    {
     "name": "stderr",
     "output_type": "stream",
     "text": [
      "[Parallel(n_jobs=1)]: Using backend SequentialBackend with 1 concurrent workers.\n",
      "[Parallel(n_jobs=1)]: Done   1 out of   1 | elapsed:    0.0s remaining:    0.0s\n",
      "[Parallel(n_jobs=1)]: Done   2 out of   2 | elapsed:    0.1s remaining:    0.0s\n",
      "[Parallel(n_jobs=1)]: Done   3 out of   3 | elapsed:    0.1s remaining:    0.0s\n",
      "[Parallel(n_jobs=1)]: Done   4 out of   4 | elapsed:    0.1s remaining:    0.0s\n"
     ]
    },
    {
     "name": "stdout",
     "output_type": "stream",
     "text": [
      "EEG channel type selected for re-referencing\n",
      "Applying average reference.\n",
      "Applying a custom ('EEG',) reference.\n"
     ]
    },
    {
     "name": "stderr",
     "output_type": "stream",
     "text": [
      "[Parallel(n_jobs=1)]: Done  40 out of  40 | elapsed:    1.1s finished\n"
     ]
    },
    {
     "name": "stdout",
     "output_type": "stream",
     "text": [
      "Filtering raw data in 1 contiguous segment\n",
      "Setting up band-pass filter from 0.9 - 40 Hz\n",
      "\n",
      "FIR filter parameters\n",
      "---------------------\n",
      "Designing a one-pass, zero-phase, non-causal bandpass filter:\n",
      "- Windowed time-domain design (firwin) method\n",
      "- Hamming window with 0.0194 passband ripple and 53 dB stopband attenuation\n",
      "- Lower passband edge: 0.90\n",
      "- Lower transition bandwidth: 0.90 Hz (-6 dB cutoff frequency: 0.45 Hz)\n",
      "- Upper passband edge: 40.00 Hz\n",
      "- Upper transition bandwidth: 10.00 Hz (-6 dB cutoff frequency: 45.00 Hz)\n",
      "- Filter length: 1835 samples (3.670 sec)\n",
      "\n"
     ]
    },
    {
     "name": "stderr",
     "output_type": "stream",
     "text": [
      "[Parallel(n_jobs=1)]: Using backend SequentialBackend with 1 concurrent workers.\n",
      "[Parallel(n_jobs=1)]: Done   1 out of   1 | elapsed:    0.0s remaining:    0.0s\n",
      "[Parallel(n_jobs=1)]: Done   2 out of   2 | elapsed:    0.0s remaining:    0.0s\n",
      "[Parallel(n_jobs=1)]: Done   3 out of   3 | elapsed:    0.1s remaining:    0.0s\n",
      "[Parallel(n_jobs=1)]: Done   4 out of   4 | elapsed:    0.1s remaining:    0.0s\n",
      "[Parallel(n_jobs=1)]: Done  40 out of  40 | elapsed:    0.8s finished\n"
     ]
    }
   ],
   "source": [
    "# Re-referencing raw data (common average reference)\n",
    "\n",
    "bands = [(0.9, 4, 'Delta (0.9-4 Hz)'), (4, 8, 'Theta (4-8 Hz)'), (8, 14, 'Alpha (8-14 Hz)'), \n",
    "         (14, 25, 'Beta (14-25 Hz)'), (25, 40, 'Gamma (25-40 Hz)')]\n",
    "\n",
    "data_raw_filt = data_raw.copy().filter(l_freq=bands[0][0], h_freq=bands[-1][1])\n",
    "#fig_orig = data_raw_filt.plot(duration=20)\n",
    "\n",
    "rr_data_raw, ref_ch = mne.set_eeg_reference(data_raw, ref_channels='average', copy=True, projection=False, ch_type='auto')\n",
    "rr_data_raw_filt = rr_data_raw.copy().filter(l_freq=bands[0][0], h_freq=bands[-1][1])"
   ]
  },
  {
   "cell_type": "markdown",
   "metadata": {
    "id": "wfo4hDzerVMn"
   },
   "source": [
    "# Applying ICA"
   ]
  },
  {
   "cell_type": "code",
   "execution_count": null,
   "metadata": {
    "colab": {
     "base_uri": "https://localhost:8080/",
     "height": 544
    },
    "executionInfo": {
     "elapsed": 24513,
     "status": "ok",
     "timestamp": 1662038222145,
     "user": {
      "displayName": "Екатерина Михайлец",
      "userId": "03958266793788218532"
     },
     "user_tz": -180
    },
    "id": "Kt4f4Zc2xjM8",
    "outputId": "9cbde3d1-0134-42ec-b951-90d578148035"
   },
   "outputs": [
    {
     "name": "stdout",
     "output_type": "stream",
     "text": [
      "Filtering raw data in 1 contiguous segment\n",
      "Setting up high-pass filter at 4 Hz\n",
      "\n",
      "FIR filter parameters\n",
      "---------------------\n",
      "Designing a one-pass, zero-phase, non-causal highpass filter:\n",
      "- Windowed time-domain design (firwin) method\n",
      "- Hamming window with 0.0194 passband ripple and 53 dB stopband attenuation\n",
      "- Lower passband edge: 4.00\n",
      "- Lower transition bandwidth: 2.00 Hz (-6 dB cutoff frequency: 3.00 Hz)\n",
      "- Filter length: 825 samples (1.650 sec)\n",
      "\n"
     ]
    },
    {
     "name": "stderr",
     "output_type": "stream",
     "text": [
      "[Parallel(n_jobs=1)]: Using backend SequentialBackend with 1 concurrent workers.\n",
      "[Parallel(n_jobs=1)]: Done   1 out of   1 | elapsed:    0.0s remaining:    0.0s\n",
      "[Parallel(n_jobs=1)]: Done   2 out of   2 | elapsed:    0.1s remaining:    0.0s\n",
      "[Parallel(n_jobs=1)]: Done   3 out of   3 | elapsed:    0.1s remaining:    0.0s\n",
      "[Parallel(n_jobs=1)]: Done   4 out of   4 | elapsed:    0.2s remaining:    0.0s\n"
     ]
    },
    {
     "name": "stdout",
     "output_type": "stream",
     "text": [
      "Fitting ICA to data using 40 channels (please be patient, this may take a while)\n"
     ]
    },
    {
     "name": "stderr",
     "output_type": "stream",
     "text": [
      "[Parallel(n_jobs=1)]: Done  40 out of  40 | elapsed:    1.3s finished\n"
     ]
    },
    {
     "name": "stdout",
     "output_type": "stream",
     "text": [
      "Selecting by explained variance: 27 components\n",
      "Fitting ICA took 22.7s.\n"
     ]
    },
    {
     "data": {
      "text/html": [
       "<table class=\"table table-hover table-striped table-sm table-responsive small\">\n",
       "    <tr>\n",
       "        <th>Method</th>\n",
       "        <td>fastica</td>\n",
       "    </tr>\n",
       "    <tr>\n",
       "        <th>Fit</th>\n",
       "        <td>26 iterations on raw data (467501 samples)</td>\n",
       "    </tr>\n",
       "    \n",
       "    <tr>\n",
       "        <th>ICA components</th>\n",
       "        <td>27</td>\n",
       "    </tr>\n",
       "    <tr>\n",
       "        <th>Explained variance</th>\n",
       "        <td>99.1&nbsp;%</td>\n",
       "    </tr>\n",
       "    <tr>\n",
       "        <th>Available PCA components</th>\n",
       "        <td>40</td>\n",
       "    </tr>\n",
       "    <tr>\n",
       "        <th>Channel types</th>\n",
       "        <td>eeg</td>\n",
       "    </tr>\n",
       "    <tr>\n",
       "        <th>ICA components marked for exclusion</th>\n",
       "        <td>&mdash;</td>\n",
       "    </tr>\n",
       "    \n",
       "</table>"
      ],
      "text/plain": [
       "<ICA | raw data decomposition, method: fastica (fit in 26 iterations on 467501 samples), 27 ICA components explaining 99.1 % of variance (40 PCA components available), channel types: eeg, no sources marked for exclusion>"
      ]
     },
     "execution_count": 13,
     "metadata": {},
     "output_type": "execute_result"
    }
   ],
   "source": [
    "# Re-referenced data\n",
    "rr_data_ica = rr_data_raw.copy()\n",
    "#rr_data_ica.info['bads']=[\"F4\",\"F8\"]\n",
    "#rr_data_ica.interpolate_bads(reset_bads=True)\n",
    "\n",
    "rr_data_ica.filter(l_freq=1., h_freq=None)\n",
    "\n",
    "rr_ica = ICA(n_components=.99, max_iter='auto', random_state=97)\n",
    "rr_ica.fit(rr_data_ica)\n"
   ]
  },
  {
   "cell_type": "code",
   "execution_count": null,
   "metadata": {
    "colab": {
     "base_uri": "https://localhost:8080/"
    },
    "executionInfo": {
     "elapsed": 855,
     "status": "ok",
     "timestamp": 1662038423035,
     "user": {
      "displayName": "Екатерина Михайлец",
      "userId": "03958266793788218532"
     },
     "user_tz": -180
    },
    "id": "rfVASoU5MlGp",
    "outputId": "2b262122-be8f-4aa2-e474-818bec157ca5"
   },
   "outputs": [
    {
     "name": "stdout",
     "output_type": "stream",
     "text": [
      "Applying ICA to Raw instance\n",
      "    Transforming to ICA space (27 components)\n",
      "    Zeroing out 1 ICA component\n",
      "    Projecting back using 40 PCA components\n",
      "\n"
     ]
    }
   ],
   "source": [
    "# Exclude ECG channel (re-referenced data)\n",
    "rr_ica.exclude = [0, 3] # EOG/ECG components, indexes depending on data (individual)\n",
    "reref_data = rr_data_raw.copy()\n",
    "rr_ica.apply(reref_data)\n",
    "\n",
    "#reref_data.plot()\n",
    "#reref_data.plot_psd()\n",
    "\n",
    "#rr_data_notch = reref_data.copy().notch_filter([50])\n",
    "#rr_data_notch.plot_psd()#fmin=0, fmax=105)\n",
    "print()"
   ]
  },
  {
   "cell_type": "markdown",
   "metadata": {
    "id": "WgtfO1gAmEOS"
   },
   "source": [
    "# Epoching EEG data"
   ]
  },
  {
   "cell_type": "code",
   "execution_count": null,
   "metadata": {
    "colab": {
     "base_uri": "https://localhost:8080/"
    },
    "executionInfo": {
     "elapsed": 6160,
     "status": "ok",
     "timestamp": 1662038432292,
     "user": {
      "displayName": "Екатерина Михайлец",
      "userId": "03958266793788218532"
     },
     "user_tz": -180
    },
    "id": "_k2-gs4UzRsB",
    "outputId": "2493b3bf-728d-411e-da72-e5ba48fd5d62"
   },
   "outputs": [
    {
     "name": "stdout",
     "output_type": "stream",
     "text": [
      "Filtering raw data in 1 contiguous segment\n",
      "Setting up band-pass filter from 0.9 - 40 Hz\n",
      "\n",
      "FIR filter parameters\n",
      "---------------------\n",
      "Designing a one-pass, zero-phase, non-causal bandpass filter:\n",
      "- Windowed time-domain design (firwin) method\n",
      "- Hamming window with 0.0194 passband ripple and 53 dB stopband attenuation\n",
      "- Lower passband edge: 0.90\n",
      "- Lower transition bandwidth: 0.90 Hz (-6 dB cutoff frequency: 0.45 Hz)\n",
      "- Upper passband edge: 40.00 Hz\n",
      "- Upper transition bandwidth: 10.00 Hz (-6 dB cutoff frequency: 45.00 Hz)\n",
      "- Filter length: 1835 samples (3.670 sec)\n",
      "\n"
     ]
    },
    {
     "name": "stderr",
     "output_type": "stream",
     "text": [
      "[Parallel(n_jobs=1)]: Using backend SequentialBackend with 1 concurrent workers.\n",
      "[Parallel(n_jobs=1)]: Done   1 out of   1 | elapsed:    0.0s remaining:    0.0s\n",
      "[Parallel(n_jobs=1)]: Done   2 out of   2 | elapsed:    0.0s remaining:    0.0s\n",
      "[Parallel(n_jobs=1)]: Done   3 out of   3 | elapsed:    0.1s remaining:    0.0s\n",
      "[Parallel(n_jobs=1)]: Done   4 out of   4 | elapsed:    0.1s remaining:    0.0s\n"
     ]
    },
    {
     "name": "stdout",
     "output_type": "stream",
     "text": [
      "Filtering raw data in 1 contiguous segment\n",
      "Setting up band-pass filter from 0.9 - 4 Hz\n",
      "\n",
      "FIR filter parameters\n",
      "---------------------\n",
      "Designing a one-pass, zero-phase, non-causal bandpass filter:\n",
      "- Windowed time-domain design (firwin) method\n",
      "- Hamming window with 0.0194 passband ripple and 53 dB stopband attenuation\n",
      "- Lower passband edge: 0.90\n",
      "- Lower transition bandwidth: 0.90 Hz (-6 dB cutoff frequency: 0.45 Hz)\n",
      "- Upper passband edge: 4.00 Hz\n",
      "- Upper transition bandwidth: 2.00 Hz (-6 dB cutoff frequency: 5.00 Hz)\n",
      "- Filter length: 1835 samples (3.670 sec)\n",
      "\n"
     ]
    },
    {
     "name": "stderr",
     "output_type": "stream",
     "text": [
      "[Parallel(n_jobs=1)]: Done  40 out of  40 | elapsed:    0.8s finished\n",
      "[Parallel(n_jobs=1)]: Using backend SequentialBackend with 1 concurrent workers.\n",
      "[Parallel(n_jobs=1)]: Done   1 out of   1 | elapsed:    0.0s remaining:    0.0s\n",
      "[Parallel(n_jobs=1)]: Done   2 out of   2 | elapsed:    0.0s remaining:    0.0s\n",
      "[Parallel(n_jobs=1)]: Done   3 out of   3 | elapsed:    0.1s remaining:    0.0s\n",
      "[Parallel(n_jobs=1)]: Done   4 out of   4 | elapsed:    0.1s remaining:    0.0s\n"
     ]
    },
    {
     "name": "stdout",
     "output_type": "stream",
     "text": [
      "Filtering raw data in 1 contiguous segment\n",
      "Setting up band-pass filter from 4 - 8 Hz\n",
      "\n",
      "FIR filter parameters\n",
      "---------------------\n",
      "Designing a one-pass, zero-phase, non-causal bandpass filter:\n",
      "- Windowed time-domain design (firwin) method\n",
      "- Hamming window with 0.0194 passband ripple and 53 dB stopband attenuation\n",
      "- Lower passband edge: 4.00\n",
      "- Lower transition bandwidth: 2.00 Hz (-6 dB cutoff frequency: 3.00 Hz)\n",
      "- Upper passband edge: 8.00 Hz\n",
      "- Upper transition bandwidth: 2.00 Hz (-6 dB cutoff frequency: 9.00 Hz)\n",
      "- Filter length: 825 samples (1.650 sec)\n",
      "\n"
     ]
    },
    {
     "name": "stderr",
     "output_type": "stream",
     "text": [
      "[Parallel(n_jobs=1)]: Done  40 out of  40 | elapsed:    0.8s finished\n",
      "[Parallel(n_jobs=1)]: Using backend SequentialBackend with 1 concurrent workers.\n",
      "[Parallel(n_jobs=1)]: Done   1 out of   1 | elapsed:    0.0s remaining:    0.0s\n",
      "[Parallel(n_jobs=1)]: Done   2 out of   2 | elapsed:    0.1s remaining:    0.0s\n",
      "[Parallel(n_jobs=1)]: Done   3 out of   3 | elapsed:    0.1s remaining:    0.0s\n",
      "[Parallel(n_jobs=1)]: Done   4 out of   4 | elapsed:    0.1s remaining:    0.0s\n"
     ]
    },
    {
     "name": "stdout",
     "output_type": "stream",
     "text": [
      "Filtering raw data in 1 contiguous segment\n",
      "Setting up band-pass filter from 8 - 14 Hz\n",
      "\n",
      "FIR filter parameters\n",
      "---------------------\n",
      "Designing a one-pass, zero-phase, non-causal bandpass filter:\n",
      "- Windowed time-domain design (firwin) method\n",
      "- Hamming window with 0.0194 passband ripple and 53 dB stopband attenuation\n",
      "- Lower passband edge: 8.00\n",
      "- Lower transition bandwidth: 2.00 Hz (-6 dB cutoff frequency: 7.00 Hz)\n",
      "- Upper passband edge: 14.00 Hz\n",
      "- Upper transition bandwidth: 3.50 Hz (-6 dB cutoff frequency: 15.75 Hz)\n",
      "- Filter length: 825 samples (1.650 sec)\n",
      "\n"
     ]
    },
    {
     "name": "stderr",
     "output_type": "stream",
     "text": [
      "[Parallel(n_jobs=1)]: Done  40 out of  40 | elapsed:    0.8s finished\n",
      "[Parallel(n_jobs=1)]: Using backend SequentialBackend with 1 concurrent workers.\n",
      "[Parallel(n_jobs=1)]: Done   1 out of   1 | elapsed:    0.0s remaining:    0.0s\n",
      "[Parallel(n_jobs=1)]: Done   2 out of   2 | elapsed:    0.1s remaining:    0.0s\n",
      "[Parallel(n_jobs=1)]: Done   3 out of   3 | elapsed:    0.1s remaining:    0.0s\n",
      "[Parallel(n_jobs=1)]: Done   4 out of   4 | elapsed:    0.1s remaining:    0.0s\n"
     ]
    },
    {
     "name": "stdout",
     "output_type": "stream",
     "text": [
      "Filtering raw data in 1 contiguous segment\n",
      "Setting up band-pass filter from 14 - 25 Hz\n",
      "\n",
      "FIR filter parameters\n",
      "---------------------\n",
      "Designing a one-pass, zero-phase, non-causal bandpass filter:\n",
      "- Windowed time-domain design (firwin) method\n",
      "- Hamming window with 0.0194 passband ripple and 53 dB stopband attenuation\n",
      "- Lower passband edge: 14.00\n",
      "- Lower transition bandwidth: 3.50 Hz (-6 dB cutoff frequency: 12.25 Hz)\n",
      "- Upper passband edge: 25.00 Hz\n",
      "- Upper transition bandwidth: 6.25 Hz (-6 dB cutoff frequency: 28.12 Hz)\n",
      "- Filter length: 473 samples (0.946 sec)\n",
      "\n"
     ]
    },
    {
     "name": "stderr",
     "output_type": "stream",
     "text": [
      "[Parallel(n_jobs=1)]: Done  40 out of  40 | elapsed:    0.8s finished\n",
      "[Parallel(n_jobs=1)]: Using backend SequentialBackend with 1 concurrent workers.\n",
      "[Parallel(n_jobs=1)]: Done   1 out of   1 | elapsed:    0.0s remaining:    0.0s\n",
      "[Parallel(n_jobs=1)]: Done   2 out of   2 | elapsed:    0.1s remaining:    0.0s\n",
      "[Parallel(n_jobs=1)]: Done   3 out of   3 | elapsed:    0.1s remaining:    0.0s\n",
      "[Parallel(n_jobs=1)]: Done   4 out of   4 | elapsed:    0.1s remaining:    0.0s\n"
     ]
    },
    {
     "name": "stdout",
     "output_type": "stream",
     "text": [
      "Filtering raw data in 1 contiguous segment\n",
      "Setting up band-pass filter from 25 - 40 Hz\n",
      "\n",
      "FIR filter parameters\n",
      "---------------------\n",
      "Designing a one-pass, zero-phase, non-causal bandpass filter:\n",
      "- Windowed time-domain design (firwin) method\n",
      "- Hamming window with 0.0194 passband ripple and 53 dB stopband attenuation\n",
      "- Lower passband edge: 25.00\n",
      "- Lower transition bandwidth: 6.25 Hz (-6 dB cutoff frequency: 21.88 Hz)\n",
      "- Upper passband edge: 40.00 Hz\n",
      "- Upper transition bandwidth: 10.00 Hz (-6 dB cutoff frequency: 45.00 Hz)\n",
      "- Filter length: 265 samples (0.530 sec)\n",
      "\n"
     ]
    },
    {
     "name": "stderr",
     "output_type": "stream",
     "text": [
      "[Parallel(n_jobs=1)]: Done  40 out of  40 | elapsed:    0.9s finished\n",
      "[Parallel(n_jobs=1)]: Using backend SequentialBackend with 1 concurrent workers.\n",
      "[Parallel(n_jobs=1)]: Done   1 out of   1 | elapsed:    0.0s remaining:    0.0s\n",
      "[Parallel(n_jobs=1)]: Done   2 out of   2 | elapsed:    0.1s remaining:    0.0s\n",
      "[Parallel(n_jobs=1)]: Done   3 out of   3 | elapsed:    0.1s remaining:    0.0s\n",
      "[Parallel(n_jobs=1)]: Done   4 out of   4 | elapsed:    0.1s remaining:    0.0s\n",
      "[Parallel(n_jobs=1)]: Done  40 out of  40 | elapsed:    1.0s finished\n"
     ]
    }
   ],
   "source": [
    "# Filtering raw_data\n",
    "bands = [(0.9, 4, 'Delta (0.9-4 Hz)', 'D'), (4, 8, 'Theta (4-8 Hz)', 'T'), (8, 14, 'Alpha (8-14 Hz)', 'A'), \n",
    "         (14, 25, 'Beta (14-25 Hz)', 'B'), (25, 40, 'Gamma (25-40 Hz)', 'G')]\n",
    "\n",
    "str_freq = [bands[i][3] for i in range(len(bands))]\n",
    "#str_freq_rr = ['r'+_str for _str in str_freq]\n",
    "str_freq_rr = str_freq\n",
    "\n",
    "# Re-referenced data\n",
    "data_rr_filt = reref_data.copy().filter(l_freq=bands[0][0], h_freq=bands[-1][1])\n",
    "data_rr_filt_spectr = []\n",
    "for i in range(len(bands)):\n",
    "    data_rr_filt_spectr.append(reref_data.copy().filter(l_freq=bands[i][0], h_freq=bands[i][1]))"
   ]
  },
  {
   "cell_type": "code",
   "execution_count": null,
   "metadata": {
    "colab": {
     "base_uri": "https://localhost:8080/"
    },
    "executionInfo": {
     "elapsed": 2865,
     "status": "ok",
     "timestamp": 1662038523141,
     "user": {
      "displayName": "Екатерина Михайлец",
      "userId": "03958266793788218532"
     },
     "user_tz": -180
    },
    "id": "Y0Nk2IhDzbrK",
    "outputId": "c4e87fe2-2b8b-405b-d846-770d11049cd1"
   },
   "outputs": [
    {
     "name": "stdout",
     "output_type": "stream",
     "text": [
      "Not setting metadata\n",
      "1167 matching events found\n",
      "No baseline correction applied\n",
      "0 projection items activated\n",
      "Using data from preloaded Raw for 1167 events and 501 original time points ...\n",
      "0 bad epochs dropped\n",
      "(1167, 3)\n",
      "<Epochs |  1163 events (all good), -0.5 - 0.5 sec, baseline off, ~177.9 MB, data loaded,\n",
      " '1': 1163>\n",
      "(1163, 40, 501)\n",
      "Not setting metadata\n",
      "1167 matching events found\n",
      "No baseline correction applied\n",
      "0 projection items activated\n",
      "Using data from preloaded Raw for 1167 events and 501 original time points ...\n",
      "0 bad epochs dropped\n",
      "Not setting metadata\n",
      "1167 matching events found\n",
      "No baseline correction applied\n",
      "0 projection items activated\n",
      "Using data from preloaded Raw for 1167 events and 501 original time points ...\n",
      "0 bad epochs dropped\n",
      "Not setting metadata\n",
      "1167 matching events found\n",
      "No baseline correction applied\n",
      "0 projection items activated\n",
      "Using data from preloaded Raw for 1167 events and 501 original time points ...\n",
      "0 bad epochs dropped\n",
      "Not setting metadata\n",
      "1167 matching events found\n",
      "No baseline correction applied\n",
      "0 projection items activated\n",
      "Using data from preloaded Raw for 1167 events and 501 original time points ...\n",
      "0 bad epochs dropped\n",
      "Not setting metadata\n",
      "1167 matching events found\n",
      "No baseline correction applied\n",
      "0 projection items activated\n",
      "Using data from preloaded Raw for 1167 events and 501 original time points ...\n",
      "0 bad epochs dropped\n"
     ]
    }
   ],
   "source": [
    "# Epochs by fixed length events, duration 1s\n",
    "\n",
    "fix_1s_events_rr = mne.make_fixed_length_events(data_rr_filt, start=0.5, duration=1.)#, overlap=0.2)\n",
    "kwargs = dict(baseline=None, tmin=-0.5, tmax=0.5, preload=True)\n",
    "\n",
    "epochs_fix_1s_rr = mne.Epochs(data_rr_filt, fix_1s_events_rr.astype(int), **kwargs)\n",
    "epochs_fix_1s_rr = epochs_fix_1s_rr[2:-2] #remove first and last 2sec due to possible filtering artefacts\n",
    "\n",
    "print(fix_1s_events_rr.shape)\n",
    "print(epochs_fix_1s_rr)\n",
    "print(epochs_fix_1s_rr.get_data().shape)\n",
    "#print(epochs_fix_1s_rr.events)\n",
    "\n",
    "epochs_fix_rr_spectr = []\n",
    "for i in range(len(bands)):   \n",
    "    epochs_fix_rr_spectr.append(mne.Epochs(data_rr_filt_spectr[i], fix_1s_events_rr.astype(int), **kwargs))\n",
    "    epochs_fix_rr_spectr[i] = epochs_fix_rr_spectr[i][2:-2] \n"
   ]
  },
  {
   "cell_type": "code",
   "execution_count": null,
   "metadata": {
    "colab": {
     "base_uri": "https://localhost:8080/"
    },
    "executionInfo": {
     "elapsed": 309,
     "status": "ok",
     "timestamp": 1662038650353,
     "user": {
      "displayName": "Екатерина Михайлец",
      "userId": "03958266793788218532"
     },
     "user_tz": -180
    },
    "id": "fIpTcCq9CaEk",
    "outputId": "5af211d6-013e-43f1-c5ce-e4146c650c28"
   },
   "outputs": [
    {
     "name": "stdout",
     "output_type": "stream",
     "text": [
      "['Fp1', 'Fpz', 'Fp2', 'F7', 'F3', 'Fz', 'F4', 'F8', 'FT7', 'FC3', 'FCz', 'FC4', 'FT8', 'T3', 'C3', 'Cz', 'C4', 'T4', 'TP7', 'CP3', 'CPz', 'CP4', 'TP8', 'A1', 'T5', 'P3', 'Pz', 'P4', 'T6', 'A2', 'P5', 'PO3', 'POz', 'PO4', 'P6', 'PO7', 'O1', 'Oz', 'O2', 'PO8']\n"
     ]
    }
   ],
   "source": [
    "# Global variables\n",
    "regions = [(['Fp1','Fp2','Fpz'], 'Fp', 'Pre-frontal'), (['F7','F3','FT7','FC3'], 'LF', 'Left Frontal'), \n",
    "           (['Fz','FCz'], 'MF', 'Midline Frontal'), (['F4','F8','FC4','FT8'], 'RF', 'Right Frontal'),\n",
    "           (['T3','TP7','T5'], 'LT', 'Left Temporal'), (['T4','TP8','T6'], 'RT', 'Right Temporal'), \n",
    "           (['C3','CP3'], 'LC', 'Left Central'), (['Cz','CPz'], 'MC', 'Midline Central'), (['C4','CP4'], 'RC', 'Right Central'),\n",
    "           (['P3','P5'], 'LP', 'Left Parietal'), (['Pz'], 'MP', 'Midline Parietal'), (['P4','P6'], 'RP', 'Right Parietal'), \n",
    "           (['PO3','PO7','O1'], 'LO', 'Left Occipital'), (['POz','Oz'], 'MO', 'Midline Occipital'), \n",
    "           (['PO4','PO8','O2'], 'RO', 'Right Occipital')]\n",
    "regions_plt = [(['Fp1','Fp2','Fpz'], 'Fp', 'Pre-frontal'), (['F7','F3','FT7','FC3'], 'LF', 'Left Frontal'), \n",
    "           (['Fz','FCz'], 'MF', 'Midline Frontal'), (['F4','F8','FC4','FT8'], 'RF', 'Right Frontal'),\n",
    "           (['T3','TP7','T5'], 'LT', 'Left Temporal'), (['T4','TP8','T6'], 'RT', 'Right Temporal'), \n",
    "           (['C3','CP3','Cz','CPz','C4','CP4'], 'Cen', 'Central'), (['P3','P5','Pz','P4','P6'], 'Par', 'Parietal'), \n",
    "           (['PO3','PO7','O1','POz','Oz','PO4','PO8','O2'], 'Occ', 'Occipital')]\n",
    "\n",
    "\n",
    "ch_names = data_raw.ch_names\n",
    "n_freq = len(str_freq_rr)\n",
    "n_channels = len(ch_names)\n",
    "n_regions = len(regions)\n",
    "n_regions_plt = len(regions_plt)\n",
    "\n",
    "n_samples = epochs_fix_1s_rr.__len__()\n",
    "n_times = len(epochs_fix_1s_rr.get_data()[0,0,:])\n",
    "\n",
    "print(ch_names)\n",
    "\n",
    "loc_masks = [[ch_names[i] in reg for i in range(n_channels)] for (reg, _, _) in regions]"
   ]
  },
  {
   "cell_type": "code",
   "execution_count": null,
   "metadata": {
    "colab": {
     "base_uri": "https://localhost:8080/"
    },
    "executionInfo": {
     "elapsed": 307,
     "status": "ok",
     "timestamp": 1662038696321,
     "user": {
      "displayName": "Екатерина Михайлец",
      "userId": "03958266793788218532"
     },
     "user_tz": -180
    },
    "id": "TqRR5wS0Copm",
    "outputId": "43d1325e-8ce5-4306-9aad-83c465e62232"
   },
   "outputs": [
    {
     "name": "stdout",
     "output_type": "stream",
     "text": [
      "(1163, 40, 501)\n",
      "(1163, 15, 501)\n",
      "['Fp1', 'Fpz', 'Fp2', 'F7', 'F3', 'Fz', 'F4', 'F8', 'FT7', 'FC3', 'FCz', 'FC4', 'FT8', 'T3', 'C3', 'Cz', 'C4', 'T4', 'TP7', 'CP3', 'CPz', 'CP4', 'TP8', 'A1', 'T5', 'P3', 'Pz', 'P4', 'T6', 'A2', 'P5', 'PO3', 'POz', 'PO4', 'P6', 'PO7', 'O1', 'Oz', 'O2', 'PO8']\n"
     ]
    }
   ],
   "source": [
    "# Averaging epochs by region\n",
    "\n",
    "# Re-referenced data\n",
    "ft_rr_epochs = epochs_fix_1s_rr.get_data()\n",
    "ft_rr_epochs_loc = np.array([np.mean(ft_rr_epochs[:,_loc_mask,:], axis=1) for _loc_mask in loc_masks]).transpose(1,0,2)\n",
    "\n",
    "print(ft_rr_epochs.shape)\n",
    "print(ft_rr_epochs_loc.shape)\n",
    "print(ch_names)"
   ]
  },
  {
   "cell_type": "markdown",
   "metadata": {
    "id": "u9nkj0_W33Bx"
   },
   "source": [
    "# TDA features"
   ]
  },
  {
   "cell_type": "code",
   "execution_count": null,
   "metadata": {
    "id": "e2vDi_l8n7ED"
   },
   "outputs": [],
   "source": [
    "# Global variables\n",
    "\n",
    "#tda_root_path = root_path + 'R3/' # embedding dimension R3\n",
    "tda_root_path = root_path + 'R2/' # embedding dimension R2\n",
    "\n",
    "tda_bands = [(0.9, 4, 'D', 'Delta (0.9-4 Hz)', 15), (4, 8, 'T', 'Theta (4-8 Hz)', 12), (8, 14, 'A', 'Alpha (8-14 Hz)', 10), \n",
    "             (14, 25, 'B', 'Beta (14-25 Hz)', 7), (25, 40, 'G', 'Gamma (25-40 Hz)', 4)]\n",
    "\n",
    "tda_metrics = [('bottleneck','botl'), ('wasserstein', 'wass'), ('betti', 'bet'), ('landscape', 'land')] \n",
    "#           ('silhouette', 'silh'), ('heat', 'heat'), ('persistence_image', 'img')]\n",
    "\n",
    "#hom_dims = [1, 2] # Considered homology dimensions\n",
    "hom_dims = [1] # Considered homology dimensions\n",
    "\n",
    "#l_norms = [1,2] # Norm orders for produsing features\n",
    "l_norms = [2] # Norm orders for produsing features\n",
    "\n",
    "persistence = VietorisRipsPersistence(\n",
    "    homology_dimensions=hom_dims, \n",
    "    n_jobs=-1,\n",
    ")"
   ]
  },
  {
   "cell_type": "code",
   "execution_count": null,
   "metadata": {
    "colab": {
     "base_uri": "https://localhost:8080/"
    },
    "executionInfo": {
     "elapsed": 1089,
     "status": "ok",
     "timestamp": 1662040439835,
     "user": {
      "displayName": "Екатерина Михайлец",
      "userId": "03958266793788218532"
     },
     "user_tz": -180
    },
    "id": "0p0yzjoD6GVf",
    "outputId": "09ecdb39-8e54-4758-9622-42a6f2d3a274"
   },
   "outputs": [
    {
     "name": "stdout",
     "output_type": "stream",
     "text": [
      "(1046, 15, 501)\n",
      "(1046, 15, 501)\n",
      "(1046, 15, 501)\n",
      "(1046, 15, 501)\n",
      "(1046, 15, 501)\n",
      "(1046, 15, 501)\n"
     ]
    }
   ],
   "source": [
    "# Time Series data from Epochs by tda spectrum\n",
    "\n",
    "# Re-referenced data\n",
    "ts_ft_rr_tda_sp = []\n",
    "ts_ft_rr_tda_loc_sp = []\n",
    "pcl_ft_rr_tda_sp = []\n",
    "pcl_ft_rr_tda_loc_sp = []\n",
    "\n",
    "ts_ft_rr_tda = epochs_filt_rr.get_data()\n",
    "ts_ft_rr_tda_loc = np.array([np.mean(ts_ft_rr_tda[:,_loc_mask,:], axis=1) for _loc_mask in loc_masks]).transpose(1,0,2)\n",
    "print(ts_ft_rr_tda_loc.shape)\n",
    "\n",
    "for _freq in range(n_freq):   \n",
    "    ts_ft_rr_tda_sp.append(epochs_filt_rr_spectr[_freq].get_data())\n",
    "    ts_ft_rr_tda_loc_sp.append(np.array([np.mean(ts_ft_rr_tda_sp[_freq][:,_loc_mask,:], axis=1) for _loc_mask in loc_masks]).transpose(1,0,2))\n",
    "    print(ts_ft_rr_tda_loc_sp[_freq].shape)\n"
   ]
  },
  {
   "cell_type": "code",
   "execution_count": null,
   "metadata": {
    "id": "Cj7z0gl3xlaz"
   },
   "outputs": [],
   "source": [
    "# Converting time series to point clouds (attractor)\n",
    "\n",
    "# Build attractor\n",
    "emb_time_del = 12 # embedding time delay\n",
    "\n",
    "#emb_dim = 3 # embedding dimension R3\n",
    "emb_dim = 2 # embedding dimension R2\n",
    "\n",
    "stride = 2 # downsampling\n",
    "\n",
    "attr = TakensEmbedding(\n",
    "    time_delay=emb_time_del,\n",
    "    dimension=emb_dim,\n",
    "    flatten=False,\n",
    "    stride=stride,\n",
    "    #n_jobs=2,\n",
    ") # Defining attractor\n",
    "\n",
    "# Re-referenced\n",
    "pcl_ft_rr_tda = attr.fit_transform(ts_ft_rr_tda)\n",
    "pcl_ft_rr_tda_loc = attr.fit_transform(ts_ft_rr_tda_loc)\n",
    "#attr.fit_transform_plot(ts_ft_rr_tda[:,0,:], sample=100)\n",
    "\n",
    "for _freq in range(n_freq):\n",
    "    attr_sp = TakensEmbedding(\n",
    "    time_delay=tda_bands[_freq][4],\n",
    "    dimension=emb_dim,\n",
    "    flatten=False,\n",
    "    stride=stride,\n",
    "    #n_jobs=2,\n",
    "    ) # Defining attractor\n",
    "  \n",
    "    pcl_ft_rr_tda_sp.append(attr_sp.fit_transform(ts_ft_rr_tda_sp[_freq]))\n",
    "    pcl_ft_rr_tda_loc_sp.append(attr_sp.fit_transform(ts_ft_rr_tda_loc_sp[_freq]))\n",
    "\n"
   ]
  },
  {
   "cell_type": "code",
   "execution_count": null,
   "metadata": {
    "colab": {
     "base_uri": "https://localhost:8080/"
    },
    "executionInfo": {
     "elapsed": 387616,
     "status": "ok",
     "timestamp": 1662041025736,
     "user": {
      "displayName": "Екатерина Михайлец",
      "userId": "03958266793788218532"
     },
     "user_tz": -180
    },
    "id": "uP5w5IuDOuUM",
    "outputId": "10a136e1-36c0-4881-929e-fd64abf5c0f5"
   },
   "outputs": [
    {
     "name": "stdout",
     "output_type": "stream",
     "text": [
      "0 (1046, 74, 3)\n",
      "1 (1046, 71, 3)\n",
      "2 (1046, 74, 3)\n",
      "3 (1046, 70, 3)\n",
      "4 (1046, 71, 3)\n",
      "5 (1046, 71, 3)\n",
      "6 (1046, 72, 3)\n",
      "7 (1046, 73, 3)\n",
      "8 (1046, 70, 3)\n",
      "9 (1046, 70, 3)\n",
      "10 (1046, 71, 3)\n",
      "11 (1046, 78, 3)\n",
      "12 (1046, 71, 3)\n",
      "13 (1046, 74, 3)\n",
      "14 (1046, 71, 3)\n"
     ]
    }
   ],
   "source": [
    "# Persistent diagrams (full range, re-referenced data, averaged by region)\n",
    "dir_name = 'pd_ft_rr_tda_loc'\n",
    "target_dir = tda_root_path + dir_name\n",
    "if not os.path.exists(target_dir):\n",
    "    os.mkdir(target_dir)\n",
    "\n",
    "pd_ft_rr_tda_loc_list = []\n",
    "for i in range(n_regions):\n",
    "    if not os.path.exists(os.path.join(target_dir, dir_name+'_'+str(i)+'.npy')):\n",
    "        pd_ft_rr_tda_loc_list.append(persistence.fit_transform(pcl_ft_rr_tda_loc[:,i,:,:]))\n",
    "        np.save(os.path.join(target_dir, dir_name+'_'+str(i)+'.npy'), pd_ft_rr_tda_loc_list[i])\n",
    "    else:\n",
    "        pd_ft_rr_tda_loc_list.append(np.load(os.path.join(target_dir, dir_name+'_'+str(i)+'.npy')))\n",
    "    print(i, pd_ft_rr_tda_loc_list[i].shape)"
   ]
  },
  {
   "cell_type": "code",
   "execution_count": null,
   "metadata": {
    "colab": {
     "base_uri": "https://localhost:8080/"
    },
    "executionInfo": {
     "elapsed": 2267205,
     "status": "ok",
     "timestamp": 1662043337577,
     "user": {
      "displayName": "Екатерина Михайлец",
      "userId": "03958266793788218532"
     },
     "user_tz": -180
    },
    "id": "IS0cZy_ROuhS",
    "outputId": "c7257995-b187-424a-d62e-24ea088c44d6",
    "scrolled": true
   },
   "outputs": [
    {
     "name": "stdout",
     "output_type": "stream",
     "text": [
      "Delta (0.9-4 Hz)\n",
      "0 (1046, 76, 3)\n",
      "1 (1046, 68, 3)\n",
      "2 (1046, 81, 3)\n",
      "3 (1046, 77, 3)\n",
      "4 (1046, 73, 3)\n",
      "5 (1046, 73, 3)\n",
      "6 (1046, 69, 3)\n",
      "7 (1046, 78, 3)\n",
      "8 (1046, 81, 3)\n",
      "9 (1046, 75, 3)\n",
      "10 (1046, 73, 3)\n",
      "11 (1046, 70, 3)\n",
      "12 (1046, 73, 3)\n",
      "13 (1046, 84, 3)\n",
      "14 (1046, 66, 3)\n",
      "Theta (4-8 Hz)\n",
      "0 (1046, 112, 3)\n",
      "1 (1046, 117, 3)\n",
      "2 (1046, 108, 3)\n",
      "3 (1046, 111, 3)\n",
      "4 (1046, 106, 3)\n",
      "5 (1046, 123, 3)\n",
      "6 (1046, 109, 3)\n",
      "7 (1046, 114, 3)\n",
      "8 (1046, 104, 3)\n",
      "9 (1046, 110, 3)\n",
      "10 (1046, 126, 3)\n",
      "11 (1046, 124, 3)\n",
      "12 (1046, 118, 3)\n",
      "13 (1046, 125, 3)\n",
      "14 (1046, 122, 3)\n",
      "Alpha (8-14 Hz)\n",
      "0 (1046, 116, 3)\n",
      "1 (1046, 115, 3)\n",
      "2 (1046, 111, 3)\n",
      "3 (1046, 110, 3)\n",
      "4 (1046, 111, 3)\n",
      "5 (1046, 107, 3)\n",
      "6 (1046, 106, 3)\n",
      "7 (1046, 108, 3)\n",
      "8 (1046, 102, 3)\n",
      "9 (1046, 104, 3)\n",
      "10 (1046, 111, 3)\n",
      "11 (1046, 121, 3)\n",
      "12 (1046, 110, 3)\n",
      "13 (1046, 111, 3)\n",
      "14 (1046, 121, 3)\n",
      "Beta (14-25 Hz)\n",
      "0 (1046, 77, 3)\n",
      "1 (1046, 76, 3)\n",
      "2 (1046, 78, 3)\n",
      "3 (1046, 77, 3)\n",
      "4 (1046, 79, 3)\n",
      "5 (1046, 77, 3)\n",
      "6 (1046, 80, 3)\n",
      "7 (1046, 77, 3)\n",
      "8 (1046, 78, 3)\n",
      "9 (1046, 78, 3)\n",
      "10 (1046, 76, 3)\n",
      "11 (1046, 79, 3)\n",
      "12 (1046, 77, 3)\n",
      "13 (1046, 79, 3)\n",
      "14 (1046, 78, 3)\n",
      "Gamma (25-40 Hz)\n",
      "0 (1046, 75, 3)\n",
      "1 (1046, 80, 3)\n",
      "2 (1046, 76, 3)\n",
      "3 (1046, 81, 3)\n",
      "4 (1046, 73, 3)\n",
      "5 (1046, 78, 3)\n",
      "6 (1046, 73, 3)\n",
      "7 (1046, 75, 3)\n",
      "8 (1046, 78, 3)\n",
      "9 (1046, 73, 3)\n",
      "10 (1046, 75, 3)\n",
      "11 (1046, 77, 3)\n",
      "12 (1046, 76, 3)\n",
      "13 (1046, 77, 3)\n",
      "14 (1046, 75, 3)\n"
     ]
    }
   ],
   "source": [
    "# Persistent diagrams (by TDA spectrum, re-referenced data, averaged by region)\n",
    "\n",
    "for _freq in range(len(tda_bands)):\n",
    "    dir_name = 'pd_ft_rr_tda_loc_'+tda_bands[_freq][2]\n",
    "    target_dir = tda_root_path + dir_name\n",
    "    if not os.path.exists(target_dir):\n",
    "        os.mkdir(target_dir)\n",
    "\n",
    "    pd_ft_rr_tda_loc_list = []\n",
    "    print(tda_bands[_freq][3])\n",
    "    for i in range(n_regions):\n",
    "        if not os.path.exists(os.path.join(target_dir, dir_name+'_'+str(i)+'.npy')):\n",
    "            pd_ft_rr_tda_loc_list.append(persistence.fit_transform(pcl_ft_rr_tda_loc_sp[_freq][:,i,:,:]))\n",
    "            np.save(os.path.join(target_dir, dir_name+'_'+str(i)+'.npy'), pd_ft_rr_tda_loc_list[i])\n",
    "        else:\n",
    "            pd_ft_rr_tda_loc_list.append(np.load(os.path.join(target_dir, dir_name+'_'+str(i)+'.npy')))\n",
    "        print(i, pd_ft_rr_tda_loc_list[i].shape)"
   ]
  },
  {
   "cell_type": "code",
   "execution_count": null,
   "metadata": {
    "colab": {
     "base_uri": "https://localhost:8080/",
     "height": 553
    },
    "executionInfo": {
     "elapsed": 2976,
     "status": "ok",
     "timestamp": 1649859902229,
     "user": {
      "displayName": "Екатерина Михайлец",
      "userId": "03958266793788218532"
     },
     "user_tz": -180
    },
    "id": "lMFI6vIGDMgs",
    "outputId": "35b58c21-7f60-4ff2-e176-dde5218a734b"
   },
   "outputs": [
    {
     "name": "stdout",
     "output_type": "stream",
     "text": [
      "(1, 241, 3)\n",
      "Persistence diagram for signal\n"
     ]
    },
    {
     "data": {
      "text/html": [
       "<html>\n",
       "<head><meta charset=\"utf-8\" /></head>\n",
       "<body>\n",
       "    <div>            <script src=\"https://cdnjs.cloudflare.com/ajax/libs/mathjax/2.7.5/MathJax.js?config=TeX-AMS-MML_SVG\"></script><script type=\"text/javascript\">if (window.MathJax) {MathJax.Hub.Config({SVG: {font: \"STIX-Web\"}});}</script>                <script type=\"text/javascript\">window.PlotlyConfig = {MathJaxConfig: 'local'};</script>\n",
       "        <script src=\"https://cdn.plot.ly/plotly-2.8.3.min.js\"></script>                <div id=\"41ff3c31-e9b1-4fad-8ed1-112874e18dab\" class=\"plotly-graph-div\" style=\"height:500px; width:500px;\"></div>            <script type=\"text/javascript\">                                    window.PLOTLYENV=window.PLOTLYENV || {};                                    if (document.getElementById(\"41ff3c31-e9b1-4fad-8ed1-112874e18dab\")) {                    Plotly.newPlot(                        \"41ff3c31-e9b1-4fad-8ed1-112874e18dab\",                        [{\"hoverinfo\":\"none\",\"line\":{\"color\":\"black\",\"dash\":\"dash\",\"width\":1},\"mode\":\"lines\",\"showlegend\":false,\"x\":[3.5829817818466836e-07,1.7001431893959306e-06],\"y\":[3.5829817818466836e-07,1.7001431893959306e-06],\"type\":\"scatter\"},{\"hoverinfo\":\"text\",\"hovertext\":[\"(1.5023058494989527e-06, 1.5202821259663324e-06)\",\"(1.4834765806881478e-06, 1.6181148794203182e-06)\",\"(1.4486608961306047e-06, 1.5086194480318227e-06)\",\"(1.4387240980795468e-06, 1.4424081200559158e-06)\",\"(1.4367080893862294e-06, 1.454681978430017e-06)\",\"(1.4166096207191003e-06, 1.447871341042628e-06)\",\"(1.394774017171585e-06, 1.639285073906649e-06)\",\"(1.3872462432118482e-06, 1.3878611753170844e-06)\",\"(1.3715920204049326e-06, 1.4360293789650314e-06)\",\"(1.361688191536814e-06, 1.4927976508261054e-06)\",\"(1.3460960417432943e-06, 1.5627826996933436e-06)\",\"(1.3439059785014251e-06, 1.4057683301871293e-06)\",\"(1.3107558061165037e-06, 1.4925075220162398e-06)\",\"(1.3102182947477559e-06, 1.3135348808646086e-06)\",\"(1.302933924307581e-06, 1.4238358971851994e-06)\",\"(1.2941253544340725e-06, 1.4608327774112695e-06)\",\"(1.2935446420669905e-06, 1.674338477641868e-06)\",\"(1.2713067008007783e-06, 1.6488709206896601e-06)\",\"(1.2586093589561642e-06, 1.494394950896094e-06)\",\"(1.2389750736474525e-06, 1.2399809747876134e-06)\",\"(1.2330452818787307e-06, 1.421209390173317e-06)\",\"(1.2314109198996448e-06, 1.3173195156923612e-06)\",\"(1.2270618299226044e-06, 1.2468013892430463e-06)\",\"(1.2198524927953258e-06, 1.2282276884434395e-06)\",\"(1.200495944431168e-06, 1.2959038713233895e-06)\",\"(1.1974245808232808e-06, 1.2614154911716469e-06)\",\"(1.1729233619917068e-06, 1.2803187701138086e-06)\",\"(1.1154506864841096e-06, 1.1499397487568785e-06)\",\"(1.0621964747770107e-06, 1.2540349416667596e-06)\",\"(1.059239707501547e-06, 1.3338074040802894e-06)\",\"(1.0370475820309366e-06, 1.1107678119515185e-06)\",\"(1.0355827271268936e-06, 1.182052187687077e-06)\",\"(1.0213041150564095e-06, 1.1321159263388836e-06)\",\"(1.0156504686165135e-06, 1.0254815379084903e-06)\",\"(9.923865036398638e-07, 9.934582294590655e-07)\",\"(9.814419854592416e-07, 1.06753509498958e-06)\",\"(9.784492931430577e-07, 9.969769507733872e-07)\",\"(9.654590940044727e-07, 1.0354696087233606e-06)\",\"(9.627303825254785e-07, 1.060947965925152e-06)\",\"(9.418603781341517e-07, 1.0208899539065897e-06)\",\"(9.4002621153777e-07, 1.013645942293806e-06)\",\"(9.061826062861655e-07, 9.361302204524691e-07)\",\"(9.051134952642315e-07, 1.0283781648467993e-06)\",\"(9.011154133986565e-07, 1.0353471679991344e-06)\",\"(8.981159567156283e-07, 9.681467645350494e-07)\",\"(8.747451829549391e-07, 8.923621521716996e-07)\",\"(8.746055186747981e-07, 9.468249686506169e-07)\",\"(8.631739092379576e-07, 9.611234190742834e-07)\",\"(8.608889174865908e-07, 1.0421906608826248e-06)\",\"(8.608056418779597e-07, 8.742572958908568e-07)\",\"(8.303410368171171e-07, 8.63335060330428e-07)\",\"(8.288281492241367e-07, 1.0108096830663271e-06)\",\"(8.272862714875373e-07, 1.0360192845837446e-06)\",\"(8.24706262392283e-07, 9.093876656152133e-07)\",\"(8.138388807310548e-07, 1.0170930409003631e-06)\",\"(8.103614845822449e-07, 1.0716343012973084e-06)\",\"(8.094114036794053e-07, 8.560774062971177e-07)\",\"(8.014810077838774e-07, 9.389826800543233e-07)\",\"(7.993727990651678e-07, 8.974374736681057e-07)\",\"(7.847258984838845e-07, 9.805953595787287e-07)\",\"(7.825811962902662e-07, 1.0838632533705095e-06)\",\"(7.680123985664977e-07, 7.934957579891488e-07)\",\"(7.646836479580088e-07, 8.433234484073182e-07)\",\"(7.553507543889282e-07, 7.850599104131106e-07)\",\"(7.419308190037555e-07, 8.748180562179186e-07)\",\"(7.395266834464564e-07, 7.491737505915808e-07)\",\"(7.33746617243014e-07, 1.1191258408871363e-06)\",\"(7.176146255005733e-07, 7.823003898010938e-07)\",\"(7.035130806798406e-07, 1.230650013894774e-06)\",\"(7.016930680947553e-07, 7.908136012702016e-07)\",\"(7.012508262960182e-07, 7.206983241303533e-07)\",\"(6.964147587495972e-07, 7.041256253614847e-07)\",\"(6.716006737406133e-07, 1.3370973874771153e-06)\",\"(6.648373300777166e-07, 6.658200391029823e-07)\",\"(6.503226472887036e-07, 6.691367957500916e-07)\",\"(6.438113473450358e-07, 6.808685384385171e-07)\",\"(6.226818527466094e-07, 6.478406362475653e-07)\",\"(6.156645895316615e-07, 6.173676183607313e-07)\",\"(6.035205046828196e-07, 7.97844563749095e-07)\",\"(5.974314376544498e-07, 6.098487688177556e-07)\",\"(5.944687586634245e-07, 9.394865401191055e-07)\",\"(5.932571980338253e-07, 1.0699741324060597e-06)\",\"(5.773345606030489e-07, 7.135883492992434e-07)\",\"(5.756582481808437e-07, 6.315001428447431e-07)\",\"(5.575446380134963e-07, 5.834982630403829e-07)\",\"(5.510947289621981e-07, 5.935291937930742e-07)\",\"(5.472876409839955e-07, 8.430111506640969e-07)\",\"(5.424979008239461e-07, 8.38565881622344e-07)\",\"(5.313441420184972e-07, 1.0338757192585035e-06)\",\"(5.086992018732417e-07, 5.627250061479572e-07)\",\"(5.052618234913098e-07, 5.393624178395839e-07)\",\"(4.81367749216588e-07, 5.425557674243464e-07)\",\"(4.425739916769089e-07, 4.886907163381693e-07)\",\"(4.3233720248281315e-07, 4.678999800944439e-07)\",\"(4.2220938212267356e-07, 5.218396381678758e-07)\",\"(4.210565407447575e-07, 1.1773230426115333e-06)\",\"(4.15411903986751e-07, 4.579330550313898e-07)\",\"(4.0823277913659695e-07, 1.3200409512137412e-06)\",\"(4.0679327639736584e-07, 4.65668136939712e-07)\",\"(3.841028899387311e-07, 4.236670747559401e-07)\"],\"mode\":\"markers\",\"name\":\"H1\",\"x\":[1.5023058494989527e-06,1.4834765806881478e-06,1.4486608961306047e-06,1.4387240980795468e-06,1.4367080893862294e-06,1.4166096207191003e-06,1.394774017171585e-06,1.3872462432118482e-06,1.3715920204049326e-06,1.361688191536814e-06,1.3460960417432943e-06,1.3439059785014251e-06,1.3107558061165037e-06,1.3102182947477559e-06,1.302933924307581e-06,1.2941253544340725e-06,1.2935446420669905e-06,1.2713067008007783e-06,1.2586093589561642e-06,1.2389750736474525e-06,1.2330452818787307e-06,1.2314109198996448e-06,1.2270618299226044e-06,1.2198524927953258e-06,1.200495944431168e-06,1.1974245808232808e-06,1.1729233619917068e-06,1.1154506864841096e-06,1.0621964747770107e-06,1.059239707501547e-06,1.0370475820309366e-06,1.0355827271268936e-06,1.0213041150564095e-06,1.0156504686165135e-06,9.923865036398638e-07,9.814419854592416e-07,9.784492931430577e-07,9.654590940044727e-07,9.627303825254785e-07,9.418603781341517e-07,9.4002621153777e-07,9.061826062861655e-07,9.051134952642315e-07,9.011154133986565e-07,8.981159567156283e-07,8.747451829549391e-07,8.746055186747981e-07,8.631739092379576e-07,8.608889174865908e-07,8.608056418779597e-07,8.303410368171171e-07,8.288281492241367e-07,8.272862714875373e-07,8.24706262392283e-07,8.138388807310548e-07,8.103614845822449e-07,8.094114036794053e-07,8.014810077838774e-07,7.993727990651678e-07,7.847258984838845e-07,7.825811962902662e-07,7.680123985664977e-07,7.646836479580088e-07,7.553507543889282e-07,7.419308190037555e-07,7.395266834464564e-07,7.33746617243014e-07,7.176146255005733e-07,7.035130806798406e-07,7.016930680947553e-07,7.012508262960182e-07,6.964147587495972e-07,6.716006737406133e-07,6.648373300777166e-07,6.503226472887036e-07,6.438113473450358e-07,6.226818527466094e-07,6.156645895316615e-07,6.035205046828196e-07,5.974314376544498e-07,5.944687586634245e-07,5.932571980338253e-07,5.773345606030489e-07,5.756582481808437e-07,5.575446380134963e-07,5.510947289621981e-07,5.472876409839955e-07,5.424979008239461e-07,5.313441420184972e-07,5.086992018732417e-07,5.052618234913098e-07,4.81367749216588e-07,4.425739916769089e-07,4.3233720248281315e-07,4.2220938212267356e-07,4.210565407447575e-07,4.15411903986751e-07,4.0823277913659695e-07,4.0679327639736584e-07,3.841028899387311e-07],\"y\":[1.5202821259663324e-06,1.6181148794203182e-06,1.5086194480318227e-06,1.4424081200559158e-06,1.454681978430017e-06,1.447871341042628e-06,1.639285073906649e-06,1.3878611753170844e-06,1.4360293789650314e-06,1.4927976508261054e-06,1.5627826996933436e-06,1.4057683301871293e-06,1.4925075220162398e-06,1.3135348808646086e-06,1.4238358971851994e-06,1.4608327774112695e-06,1.674338477641868e-06,1.6488709206896601e-06,1.494394950896094e-06,1.2399809747876134e-06,1.421209390173317e-06,1.3173195156923612e-06,1.2468013892430463e-06,1.2282276884434395e-06,1.2959038713233895e-06,1.2614154911716469e-06,1.2803187701138086e-06,1.1499397487568785e-06,1.2540349416667596e-06,1.3338074040802894e-06,1.1107678119515185e-06,1.182052187687077e-06,1.1321159263388836e-06,1.0254815379084903e-06,9.934582294590655e-07,1.06753509498958e-06,9.969769507733872e-07,1.0354696087233606e-06,1.060947965925152e-06,1.0208899539065897e-06,1.013645942293806e-06,9.361302204524691e-07,1.0283781648467993e-06,1.0353471679991344e-06,9.681467645350494e-07,8.923621521716996e-07,9.468249686506169e-07,9.611234190742834e-07,1.0421906608826248e-06,8.742572958908568e-07,8.63335060330428e-07,1.0108096830663271e-06,1.0360192845837446e-06,9.093876656152133e-07,1.0170930409003631e-06,1.0716343012973084e-06,8.560774062971177e-07,9.389826800543233e-07,8.974374736681057e-07,9.805953595787287e-07,1.0838632533705095e-06,7.934957579891488e-07,8.433234484073182e-07,7.850599104131106e-07,8.748180562179186e-07,7.491737505915808e-07,1.1191258408871363e-06,7.823003898010938e-07,1.230650013894774e-06,7.908136012702016e-07,7.206983241303533e-07,7.041256253614847e-07,1.3370973874771153e-06,6.658200391029823e-07,6.691367957500916e-07,6.808685384385171e-07,6.478406362475653e-07,6.173676183607313e-07,7.97844563749095e-07,6.098487688177556e-07,9.394865401191055e-07,1.0699741324060597e-06,7.135883492992434e-07,6.315001428447431e-07,5.834982630403829e-07,5.935291937930742e-07,8.430111506640969e-07,8.38565881622344e-07,1.0338757192585035e-06,5.627250061479572e-07,5.393624178395839e-07,5.425557674243464e-07,4.886907163381693e-07,4.678999800944439e-07,5.218396381678758e-07,1.1773230426115333e-06,4.579330550313898e-07,1.3200409512137412e-06,4.65668136939712e-07,4.236670747559401e-07],\"type\":\"scatter\"},{\"hoverinfo\":\"text\",\"hovertext\":[\"(1.3405131085164612e-06, 1.3718757827518857e-06)\",\"(1.290790351049509e-06, 1.3693219216293073e-06)\",\"(1.2496059298428008e-06, 1.2810016869480023e-06)\",\"(1.1633098893071292e-06, 1.24054099615023e-06)\",\"(1.1297523769826512e-06, 1.2076484381395858e-06)\",\"(1.087291025214654e-06, 1.1068201501984731e-06)\",\"(1.0464208344274084e-06, 1.0491119155631168e-06)\"],\"mode\":\"markers\",\"name\":\"H2\",\"x\":[1.3405131085164612e-06,1.290790351049509e-06,1.2496059298428008e-06,1.1633098893071292e-06,1.1297523769826512e-06,1.087291025214654e-06,1.0464208344274084e-06],\"y\":[1.3718757827518857e-06,1.3693219216293073e-06,1.2810016869480023e-06,1.24054099615023e-06,1.2076484381395858e-06,1.1068201501984731e-06,1.0491119155631168e-06],\"type\":\"scatter\"}],                        {\"template\":{\"data\":{\"bar\":[{\"error_x\":{\"color\":\"#2a3f5f\"},\"error_y\":{\"color\":\"#2a3f5f\"},\"marker\":{\"line\":{\"color\":\"#E5ECF6\",\"width\":0.5},\"pattern\":{\"fillmode\":\"overlay\",\"size\":10,\"solidity\":0.2}},\"type\":\"bar\"}],\"barpolar\":[{\"marker\":{\"line\":{\"color\":\"#E5ECF6\",\"width\":0.5},\"pattern\":{\"fillmode\":\"overlay\",\"size\":10,\"solidity\":0.2}},\"type\":\"barpolar\"}],\"carpet\":[{\"aaxis\":{\"endlinecolor\":\"#2a3f5f\",\"gridcolor\":\"white\",\"linecolor\":\"white\",\"minorgridcolor\":\"white\",\"startlinecolor\":\"#2a3f5f\"},\"baxis\":{\"endlinecolor\":\"#2a3f5f\",\"gridcolor\":\"white\",\"linecolor\":\"white\",\"minorgridcolor\":\"white\",\"startlinecolor\":\"#2a3f5f\"},\"type\":\"carpet\"}],\"choropleth\":[{\"colorbar\":{\"outlinewidth\":0,\"ticks\":\"\"},\"type\":\"choropleth\"}],\"contour\":[{\"colorbar\":{\"outlinewidth\":0,\"ticks\":\"\"},\"colorscale\":[[0.0,\"#0d0887\"],[0.1111111111111111,\"#46039f\"],[0.2222222222222222,\"#7201a8\"],[0.3333333333333333,\"#9c179e\"],[0.4444444444444444,\"#bd3786\"],[0.5555555555555556,\"#d8576b\"],[0.6666666666666666,\"#ed7953\"],[0.7777777777777778,\"#fb9f3a\"],[0.8888888888888888,\"#fdca26\"],[1.0,\"#f0f921\"]],\"type\":\"contour\"}],\"contourcarpet\":[{\"colorbar\":{\"outlinewidth\":0,\"ticks\":\"\"},\"type\":\"contourcarpet\"}],\"heatmap\":[{\"colorbar\":{\"outlinewidth\":0,\"ticks\":\"\"},\"colorscale\":[[0.0,\"#0d0887\"],[0.1111111111111111,\"#46039f\"],[0.2222222222222222,\"#7201a8\"],[0.3333333333333333,\"#9c179e\"],[0.4444444444444444,\"#bd3786\"],[0.5555555555555556,\"#d8576b\"],[0.6666666666666666,\"#ed7953\"],[0.7777777777777778,\"#fb9f3a\"],[0.8888888888888888,\"#fdca26\"],[1.0,\"#f0f921\"]],\"type\":\"heatmap\"}],\"heatmapgl\":[{\"colorbar\":{\"outlinewidth\":0,\"ticks\":\"\"},\"colorscale\":[[0.0,\"#0d0887\"],[0.1111111111111111,\"#46039f\"],[0.2222222222222222,\"#7201a8\"],[0.3333333333333333,\"#9c179e\"],[0.4444444444444444,\"#bd3786\"],[0.5555555555555556,\"#d8576b\"],[0.6666666666666666,\"#ed7953\"],[0.7777777777777778,\"#fb9f3a\"],[0.8888888888888888,\"#fdca26\"],[1.0,\"#f0f921\"]],\"type\":\"heatmapgl\"}],\"histogram\":[{\"marker\":{\"pattern\":{\"fillmode\":\"overlay\",\"size\":10,\"solidity\":0.2}},\"type\":\"histogram\"}],\"histogram2d\":[{\"colorbar\":{\"outlinewidth\":0,\"ticks\":\"\"},\"colorscale\":[[0.0,\"#0d0887\"],[0.1111111111111111,\"#46039f\"],[0.2222222222222222,\"#7201a8\"],[0.3333333333333333,\"#9c179e\"],[0.4444444444444444,\"#bd3786\"],[0.5555555555555556,\"#d8576b\"],[0.6666666666666666,\"#ed7953\"],[0.7777777777777778,\"#fb9f3a\"],[0.8888888888888888,\"#fdca26\"],[1.0,\"#f0f921\"]],\"type\":\"histogram2d\"}],\"histogram2dcontour\":[{\"colorbar\":{\"outlinewidth\":0,\"ticks\":\"\"},\"colorscale\":[[0.0,\"#0d0887\"],[0.1111111111111111,\"#46039f\"],[0.2222222222222222,\"#7201a8\"],[0.3333333333333333,\"#9c179e\"],[0.4444444444444444,\"#bd3786\"],[0.5555555555555556,\"#d8576b\"],[0.6666666666666666,\"#ed7953\"],[0.7777777777777778,\"#fb9f3a\"],[0.8888888888888888,\"#fdca26\"],[1.0,\"#f0f921\"]],\"type\":\"histogram2dcontour\"}],\"mesh3d\":[{\"colorbar\":{\"outlinewidth\":0,\"ticks\":\"\"},\"type\":\"mesh3d\"}],\"parcoords\":[{\"line\":{\"colorbar\":{\"outlinewidth\":0,\"ticks\":\"\"}},\"type\":\"parcoords\"}],\"pie\":[{\"automargin\":true,\"type\":\"pie\"}],\"scatter\":[{\"marker\":{\"colorbar\":{\"outlinewidth\":0,\"ticks\":\"\"}},\"type\":\"scatter\"}],\"scatter3d\":[{\"line\":{\"colorbar\":{\"outlinewidth\":0,\"ticks\":\"\"}},\"marker\":{\"colorbar\":{\"outlinewidth\":0,\"ticks\":\"\"}},\"type\":\"scatter3d\"}],\"scattercarpet\":[{\"marker\":{\"colorbar\":{\"outlinewidth\":0,\"ticks\":\"\"}},\"type\":\"scattercarpet\"}],\"scattergeo\":[{\"marker\":{\"colorbar\":{\"outlinewidth\":0,\"ticks\":\"\"}},\"type\":\"scattergeo\"}],\"scattergl\":[{\"marker\":{\"colorbar\":{\"outlinewidth\":0,\"ticks\":\"\"}},\"type\":\"scattergl\"}],\"scattermapbox\":[{\"marker\":{\"colorbar\":{\"outlinewidth\":0,\"ticks\":\"\"}},\"type\":\"scattermapbox\"}],\"scatterpolar\":[{\"marker\":{\"colorbar\":{\"outlinewidth\":0,\"ticks\":\"\"}},\"type\":\"scatterpolar\"}],\"scatterpolargl\":[{\"marker\":{\"colorbar\":{\"outlinewidth\":0,\"ticks\":\"\"}},\"type\":\"scatterpolargl\"}],\"scatterternary\":[{\"marker\":{\"colorbar\":{\"outlinewidth\":0,\"ticks\":\"\"}},\"type\":\"scatterternary\"}],\"surface\":[{\"colorbar\":{\"outlinewidth\":0,\"ticks\":\"\"},\"colorscale\":[[0.0,\"#0d0887\"],[0.1111111111111111,\"#46039f\"],[0.2222222222222222,\"#7201a8\"],[0.3333333333333333,\"#9c179e\"],[0.4444444444444444,\"#bd3786\"],[0.5555555555555556,\"#d8576b\"],[0.6666666666666666,\"#ed7953\"],[0.7777777777777778,\"#fb9f3a\"],[0.8888888888888888,\"#fdca26\"],[1.0,\"#f0f921\"]],\"type\":\"surface\"}],\"table\":[{\"cells\":{\"fill\":{\"color\":\"#EBF0F8\"},\"line\":{\"color\":\"white\"}},\"header\":{\"fill\":{\"color\":\"#C8D4E3\"},\"line\":{\"color\":\"white\"}},\"type\":\"table\"}]},\"layout\":{\"annotationdefaults\":{\"arrowcolor\":\"#2a3f5f\",\"arrowhead\":0,\"arrowwidth\":1},\"autotypenumbers\":\"strict\",\"coloraxis\":{\"colorbar\":{\"outlinewidth\":0,\"ticks\":\"\"}},\"colorscale\":{\"diverging\":[[0,\"#8e0152\"],[0.1,\"#c51b7d\"],[0.2,\"#de77ae\"],[0.3,\"#f1b6da\"],[0.4,\"#fde0ef\"],[0.5,\"#f7f7f7\"],[0.6,\"#e6f5d0\"],[0.7,\"#b8e186\"],[0.8,\"#7fbc41\"],[0.9,\"#4d9221\"],[1,\"#276419\"]],\"sequential\":[[0.0,\"#0d0887\"],[0.1111111111111111,\"#46039f\"],[0.2222222222222222,\"#7201a8\"],[0.3333333333333333,\"#9c179e\"],[0.4444444444444444,\"#bd3786\"],[0.5555555555555556,\"#d8576b\"],[0.6666666666666666,\"#ed7953\"],[0.7777777777777778,\"#fb9f3a\"],[0.8888888888888888,\"#fdca26\"],[1.0,\"#f0f921\"]],\"sequentialminus\":[[0.0,\"#0d0887\"],[0.1111111111111111,\"#46039f\"],[0.2222222222222222,\"#7201a8\"],[0.3333333333333333,\"#9c179e\"],[0.4444444444444444,\"#bd3786\"],[0.5555555555555556,\"#d8576b\"],[0.6666666666666666,\"#ed7953\"],[0.7777777777777778,\"#fb9f3a\"],[0.8888888888888888,\"#fdca26\"],[1.0,\"#f0f921\"]]},\"colorway\":[\"#636efa\",\"#EF553B\",\"#00cc96\",\"#ab63fa\",\"#FFA15A\",\"#19d3f3\",\"#FF6692\",\"#B6E880\",\"#FF97FF\",\"#FECB52\"],\"font\":{\"color\":\"#2a3f5f\"},\"geo\":{\"bgcolor\":\"white\",\"lakecolor\":\"white\",\"landcolor\":\"#E5ECF6\",\"showlakes\":true,\"showland\":true,\"subunitcolor\":\"white\"},\"hoverlabel\":{\"align\":\"left\"},\"hovermode\":\"closest\",\"mapbox\":{\"style\":\"light\"},\"paper_bgcolor\":\"white\",\"plot_bgcolor\":\"#E5ECF6\",\"polar\":{\"angularaxis\":{\"gridcolor\":\"white\",\"linecolor\":\"white\",\"ticks\":\"\"},\"bgcolor\":\"#E5ECF6\",\"radialaxis\":{\"gridcolor\":\"white\",\"linecolor\":\"white\",\"ticks\":\"\"}},\"scene\":{\"xaxis\":{\"backgroundcolor\":\"#E5ECF6\",\"gridcolor\":\"white\",\"gridwidth\":2,\"linecolor\":\"white\",\"showbackground\":true,\"ticks\":\"\",\"zerolinecolor\":\"white\"},\"yaxis\":{\"backgroundcolor\":\"#E5ECF6\",\"gridcolor\":\"white\",\"gridwidth\":2,\"linecolor\":\"white\",\"showbackground\":true,\"ticks\":\"\",\"zerolinecolor\":\"white\"},\"zaxis\":{\"backgroundcolor\":\"#E5ECF6\",\"gridcolor\":\"white\",\"gridwidth\":2,\"linecolor\":\"white\",\"showbackground\":true,\"ticks\":\"\",\"zerolinecolor\":\"white\"}},\"shapedefaults\":{\"line\":{\"color\":\"#2a3f5f\"}},\"ternary\":{\"aaxis\":{\"gridcolor\":\"white\",\"linecolor\":\"white\",\"ticks\":\"\"},\"baxis\":{\"gridcolor\":\"white\",\"linecolor\":\"white\",\"ticks\":\"\"},\"bgcolor\":\"#E5ECF6\",\"caxis\":{\"gridcolor\":\"white\",\"linecolor\":\"white\",\"ticks\":\"\"}},\"title\":{\"x\":0.05},\"xaxis\":{\"automargin\":true,\"gridcolor\":\"white\",\"linecolor\":\"white\",\"ticks\":\"\",\"title\":{\"standoff\":15},\"zerolinecolor\":\"white\",\"zerolinewidth\":2},\"yaxis\":{\"automargin\":true,\"gridcolor\":\"white\",\"linecolor\":\"white\",\"ticks\":\"\",\"title\":{\"standoff\":15},\"zerolinecolor\":\"white\",\"zerolinewidth\":2}}},\"xaxis\":{\"title\":{\"text\":\"Birth\"},\"side\":\"bottom\",\"type\":\"linear\",\"range\":[3.5829817818466836e-07,1.7001431893959306e-06],\"autorange\":false,\"ticks\":\"outside\",\"showline\":true,\"zeroline\":true,\"linewidth\":1,\"linecolor\":\"black\",\"mirror\":false,\"showexponent\":\"all\",\"exponentformat\":\"e\"},\"yaxis\":{\"title\":{\"text\":\"Death\"},\"side\":\"left\",\"type\":\"linear\",\"range\":[3.5829817818466836e-07,1.7001431893959306e-06],\"autorange\":false,\"scaleanchor\":\"x\",\"scaleratio\":1,\"ticks\":\"outside\",\"showline\":true,\"zeroline\":true,\"linewidth\":1,\"linecolor\":\"black\",\"mirror\":false,\"showexponent\":\"all\",\"exponentformat\":\"e\"},\"width\":500,\"height\":500,\"plot_bgcolor\":\"white\"},                        {\"responsive\": true}                    ).then(function(){\n",
       "                            \n",
       "var gd = document.getElementById('41ff3c31-e9b1-4fad-8ed1-112874e18dab');\n",
       "var x = new MutationObserver(function (mutations, observer) {{\n",
       "        var display = window.getComputedStyle(gd).display;\n",
       "        if (!display || display === 'none') {{\n",
       "            console.log([gd, 'removed!']);\n",
       "            Plotly.purge(gd);\n",
       "            observer.disconnect();\n",
       "        }}\n",
       "}});\n",
       "\n",
       "// Listen for the removal of the full notebook cells\n",
       "var notebookContainer = gd.closest('#notebook-container');\n",
       "if (notebookContainer) {{\n",
       "    x.observe(notebookContainer, {childList: true});\n",
       "}}\n",
       "\n",
       "// Listen for the clearing of the current output cell\n",
       "var outputEl = gd.closest('.output');\n",
       "if (outputEl) {{\n",
       "    x.observe(outputEl, {childList: true});\n",
       "}}\n",
       "\n",
       "                        })                };                            </script>        </div>\n",
       "</body>\n",
       "</html>"
      ]
     },
     "metadata": {},
     "output_type": "display_data"
    }
   ],
   "source": [
    "pcl_epochs_fix_1s_ovl_smpl = pcl_epochs_fix_1s_ovl_alpha[100,5,:,:]\n",
    "pcl_epochs_fix_1s_ovl_smpl = pcl_epochs_fix_1s_ovl_smpl[None, :, :]\n",
    "print(pcl_epochs_fix_1s_ovl_smpl.shape)\n",
    "\n",
    "pd_fix_1s_ovl_full = persistence.fit_transform(pcl_epochs_fix_1s_ovl_smpl)\n",
    "\n",
    "print(\"Persistence diagram for signal\")\n",
    "persistence.plot(pd_fix_1s_ovl_full)"
   ]
  },
  {
   "cell_type": "code",
   "execution_count": null,
   "metadata": {
    "colab": {
     "base_uri": "https://localhost:8080/"
    },
    "executionInfo": {
     "elapsed": 232,
     "status": "ok",
     "timestamp": 1649856971870,
     "user": {
      "displayName": "Екатерина Михайлец",
      "userId": "03958266793788218532"
     },
     "user_tz": -180
    },
    "id": "tEUlav3DzJ51",
    "outputId": "26dabcb1-5bea-47c0-c1e2-f74dfaa460dd"
   },
   "outputs": [
    {
     "name": "stdout",
     "output_type": "stream",
     "text": [
      "(1, 82, 3)\n"
     ]
    }
   ],
   "source": [
    "print(pd_fix_1s_ovl_full.shape)"
   ]
  },
  {
   "cell_type": "code",
   "execution_count": null,
   "metadata": {
    "colab": {
     "base_uri": "https://localhost:8080/",
     "height": 571
    },
    "executionInfo": {
     "elapsed": 270,
     "status": "ok",
     "timestamp": 1649859908019,
     "user": {
      "displayName": "Екатерина Михайлец",
      "userId": "03958266793788218532"
     },
     "user_tz": -180
    },
    "id": "MU6Vh4MqrMn2",
    "outputId": "b89bfda8-f2c0-4b08-fea2-9aca7e6256f8"
   },
   "outputs": [
    {
     "name": "stdout",
     "output_type": "stream",
     "text": [
      "(1, 107, 3)\n",
      "(1, 40, 3)\n",
      "Persistence diagram for signal\n"
     ]
    },
    {
     "data": {
      "text/html": [
       "<html>\n",
       "<head><meta charset=\"utf-8\" /></head>\n",
       "<body>\n",
       "    <div>            <script src=\"https://cdnjs.cloudflare.com/ajax/libs/mathjax/2.7.5/MathJax.js?config=TeX-AMS-MML_SVG\"></script><script type=\"text/javascript\">if (window.MathJax) {MathJax.Hub.Config({SVG: {font: \"STIX-Web\"}});}</script>                <script type=\"text/javascript\">window.PlotlyConfig = {MathJaxConfig: 'local'};</script>\n",
       "        <script src=\"https://cdn.plot.ly/plotly-2.8.3.min.js\"></script>                <div id=\"e17f9381-cc7a-4924-8ff8-59051227b695\" class=\"plotly-graph-div\" style=\"height:500px; width:500px;\"></div>            <script type=\"text/javascript\">                                    window.PLOTLYENV=window.PLOTLYENV || {};                                    if (document.getElementById(\"e17f9381-cc7a-4924-8ff8-59051227b695\")) {                    Plotly.newPlot(                        \"e17f9381-cc7a-4924-8ff8-59051227b695\",                        [{\"hoverinfo\":\"none\",\"line\":{\"color\":\"black\",\"dash\":\"dash\",\"width\":1},\"mode\":\"lines\",\"showlegend\":false,\"x\":[3.8291066516649153e-07,1.6996605916119734e-06],\"y\":[3.8291066516649153e-07,1.6996605916119734e-06],\"type\":\"scatter\"},{\"hoverinfo\":\"text\",\"hovertext\":[\"(1.4834765806881478e-06, 1.6181148794203182e-06)\",\"(1.394774017171585e-06, 1.639285073906649e-06)\",\"(1.361688191536814e-06, 1.4927976508261054e-06)\",\"(1.3460960417432943e-06, 1.5627826996933436e-06)\",\"(1.3107558061165037e-06, 1.4925075220162398e-06)\",\"(1.302933924307581e-06, 1.4238358971851994e-06)\",\"(1.2941253544340725e-06, 1.4608327774112695e-06)\",\"(1.2935446420669905e-06, 1.674338477641868e-06)\",\"(1.2713067008007783e-06, 1.6488709206896601e-06)\",\"(1.2586093589561642e-06, 1.494394950896094e-06)\",\"(1.2330452818787307e-06, 1.421209390173317e-06)\",\"(1.1729233619917068e-06, 1.2803187701138086e-06)\",\"(1.0621964747770107e-06, 1.2540349416667596e-06)\",\"(1.059239707501547e-06, 1.3338074040802894e-06)\",\"(1.0355827271268936e-06, 1.182052187687077e-06)\",\"(1.0213041150564095e-06, 1.1321159263388836e-06)\",\"(9.051134952642315e-07, 1.0283781648467993e-06)\",\"(9.011154133986565e-07, 1.0353471679991344e-06)\",\"(8.608889174865908e-07, 1.0421906608826248e-06)\",\"(8.288281492241367e-07, 1.0108096830663271e-06)\",\"(8.272862714875373e-07, 1.0360192845837446e-06)\",\"(8.138388807310548e-07, 1.0170930409003631e-06)\",\"(8.103614845822449e-07, 1.0716343012973084e-06)\",\"(8.014810077838774e-07, 9.389826800543233e-07)\",\"(7.847258984838845e-07, 9.805953595787287e-07)\",\"(7.825811962902662e-07, 1.0838632533705095e-06)\",\"(7.419308190037555e-07, 8.748180562179186e-07)\",\"(7.33746617243014e-07, 1.1191258408871363e-06)\",\"(7.035130806798406e-07, 1.230650013894774e-06)\",\"(6.716006737406133e-07, 1.3370973874771153e-06)\",\"(6.035205046828196e-07, 7.97844563749095e-07)\",\"(5.944687586634245e-07, 9.394865401191055e-07)\",\"(5.932571980338253e-07, 1.0699741324060597e-06)\",\"(5.773345606030489e-07, 7.135883492992434e-07)\",\"(5.472876409839955e-07, 8.430111506640969e-07)\",\"(5.424979008239461e-07, 8.38565881622344e-07)\",\"(5.313441420184972e-07, 1.0338757192585035e-06)\",\"(4.210565407447575e-07, 1.1773230426115333e-06)\",\"(4.0823277913659695e-07, 1.3200409512137412e-06)\"],\"mode\":\"markers\",\"name\":\"H1\",\"x\":[1.4834765806881478e-06,1.394774017171585e-06,1.361688191536814e-06,1.3460960417432943e-06,1.3107558061165037e-06,1.302933924307581e-06,1.2941253544340725e-06,1.2935446420669905e-06,1.2713067008007783e-06,1.2586093589561642e-06,1.2330452818787307e-06,1.1729233619917068e-06,1.0621964747770107e-06,1.059239707501547e-06,1.0355827271268936e-06,1.0213041150564095e-06,9.051134952642315e-07,9.011154133986565e-07,8.608889174865908e-07,8.288281492241367e-07,8.272862714875373e-07,8.138388807310548e-07,8.103614845822449e-07,8.014810077838774e-07,7.847258984838845e-07,7.825811962902662e-07,7.419308190037555e-07,7.33746617243014e-07,7.035130806798406e-07,6.716006737406133e-07,6.035205046828196e-07,5.944687586634245e-07,5.932571980338253e-07,5.773345606030489e-07,5.472876409839955e-07,5.424979008239461e-07,5.313441420184972e-07,4.210565407447575e-07,4.0823277913659695e-07],\"y\":[1.6181148794203182e-06,1.639285073906649e-06,1.4927976508261054e-06,1.5627826996933436e-06,1.4925075220162398e-06,1.4238358971851994e-06,1.4608327774112695e-06,1.674338477641868e-06,1.6488709206896601e-06,1.494394950896094e-06,1.421209390173317e-06,1.2803187701138086e-06,1.2540349416667596e-06,1.3338074040802894e-06,1.182052187687077e-06,1.1321159263388836e-06,1.0283781648467993e-06,1.0353471679991344e-06,1.0421906608826248e-06,1.0108096830663271e-06,1.0360192845837446e-06,1.0170930409003631e-06,1.0716343012973084e-06,9.389826800543233e-07,9.805953595787287e-07,1.0838632533705095e-06,8.748180562179186e-07,1.1191258408871363e-06,1.230650013894774e-06,1.3370973874771153e-06,7.97844563749095e-07,9.394865401191055e-07,1.0699741324060597e-06,7.135883492992434e-07,8.430111506640969e-07,8.38565881622344e-07,1.0338757192585035e-06,1.1773230426115333e-06,1.3200409512137412e-06],\"type\":\"scatter\"},{\"hoverinfo\":\"text\",\"hovertext\":[],\"mode\":\"markers\",\"name\":\"H2\",\"x\":[],\"y\":[],\"type\":\"scatter\"}],                        {\"template\":{\"data\":{\"bar\":[{\"error_x\":{\"color\":\"#2a3f5f\"},\"error_y\":{\"color\":\"#2a3f5f\"},\"marker\":{\"line\":{\"color\":\"#E5ECF6\",\"width\":0.5},\"pattern\":{\"fillmode\":\"overlay\",\"size\":10,\"solidity\":0.2}},\"type\":\"bar\"}],\"barpolar\":[{\"marker\":{\"line\":{\"color\":\"#E5ECF6\",\"width\":0.5},\"pattern\":{\"fillmode\":\"overlay\",\"size\":10,\"solidity\":0.2}},\"type\":\"barpolar\"}],\"carpet\":[{\"aaxis\":{\"endlinecolor\":\"#2a3f5f\",\"gridcolor\":\"white\",\"linecolor\":\"white\",\"minorgridcolor\":\"white\",\"startlinecolor\":\"#2a3f5f\"},\"baxis\":{\"endlinecolor\":\"#2a3f5f\",\"gridcolor\":\"white\",\"linecolor\":\"white\",\"minorgridcolor\":\"white\",\"startlinecolor\":\"#2a3f5f\"},\"type\":\"carpet\"}],\"choropleth\":[{\"colorbar\":{\"outlinewidth\":0,\"ticks\":\"\"},\"type\":\"choropleth\"}],\"contour\":[{\"colorbar\":{\"outlinewidth\":0,\"ticks\":\"\"},\"colorscale\":[[0.0,\"#0d0887\"],[0.1111111111111111,\"#46039f\"],[0.2222222222222222,\"#7201a8\"],[0.3333333333333333,\"#9c179e\"],[0.4444444444444444,\"#bd3786\"],[0.5555555555555556,\"#d8576b\"],[0.6666666666666666,\"#ed7953\"],[0.7777777777777778,\"#fb9f3a\"],[0.8888888888888888,\"#fdca26\"],[1.0,\"#f0f921\"]],\"type\":\"contour\"}],\"contourcarpet\":[{\"colorbar\":{\"outlinewidth\":0,\"ticks\":\"\"},\"type\":\"contourcarpet\"}],\"heatmap\":[{\"colorbar\":{\"outlinewidth\":0,\"ticks\":\"\"},\"colorscale\":[[0.0,\"#0d0887\"],[0.1111111111111111,\"#46039f\"],[0.2222222222222222,\"#7201a8\"],[0.3333333333333333,\"#9c179e\"],[0.4444444444444444,\"#bd3786\"],[0.5555555555555556,\"#d8576b\"],[0.6666666666666666,\"#ed7953\"],[0.7777777777777778,\"#fb9f3a\"],[0.8888888888888888,\"#fdca26\"],[1.0,\"#f0f921\"]],\"type\":\"heatmap\"}],\"heatmapgl\":[{\"colorbar\":{\"outlinewidth\":0,\"ticks\":\"\"},\"colorscale\":[[0.0,\"#0d0887\"],[0.1111111111111111,\"#46039f\"],[0.2222222222222222,\"#7201a8\"],[0.3333333333333333,\"#9c179e\"],[0.4444444444444444,\"#bd3786\"],[0.5555555555555556,\"#d8576b\"],[0.6666666666666666,\"#ed7953\"],[0.7777777777777778,\"#fb9f3a\"],[0.8888888888888888,\"#fdca26\"],[1.0,\"#f0f921\"]],\"type\":\"heatmapgl\"}],\"histogram\":[{\"marker\":{\"pattern\":{\"fillmode\":\"overlay\",\"size\":10,\"solidity\":0.2}},\"type\":\"histogram\"}],\"histogram2d\":[{\"colorbar\":{\"outlinewidth\":0,\"ticks\":\"\"},\"colorscale\":[[0.0,\"#0d0887\"],[0.1111111111111111,\"#46039f\"],[0.2222222222222222,\"#7201a8\"],[0.3333333333333333,\"#9c179e\"],[0.4444444444444444,\"#bd3786\"],[0.5555555555555556,\"#d8576b\"],[0.6666666666666666,\"#ed7953\"],[0.7777777777777778,\"#fb9f3a\"],[0.8888888888888888,\"#fdca26\"],[1.0,\"#f0f921\"]],\"type\":\"histogram2d\"}],\"histogram2dcontour\":[{\"colorbar\":{\"outlinewidth\":0,\"ticks\":\"\"},\"colorscale\":[[0.0,\"#0d0887\"],[0.1111111111111111,\"#46039f\"],[0.2222222222222222,\"#7201a8\"],[0.3333333333333333,\"#9c179e\"],[0.4444444444444444,\"#bd3786\"],[0.5555555555555556,\"#d8576b\"],[0.6666666666666666,\"#ed7953\"],[0.7777777777777778,\"#fb9f3a\"],[0.8888888888888888,\"#fdca26\"],[1.0,\"#f0f921\"]],\"type\":\"histogram2dcontour\"}],\"mesh3d\":[{\"colorbar\":{\"outlinewidth\":0,\"ticks\":\"\"},\"type\":\"mesh3d\"}],\"parcoords\":[{\"line\":{\"colorbar\":{\"outlinewidth\":0,\"ticks\":\"\"}},\"type\":\"parcoords\"}],\"pie\":[{\"automargin\":true,\"type\":\"pie\"}],\"scatter\":[{\"marker\":{\"colorbar\":{\"outlinewidth\":0,\"ticks\":\"\"}},\"type\":\"scatter\"}],\"scatter3d\":[{\"line\":{\"colorbar\":{\"outlinewidth\":0,\"ticks\":\"\"}},\"marker\":{\"colorbar\":{\"outlinewidth\":0,\"ticks\":\"\"}},\"type\":\"scatter3d\"}],\"scattercarpet\":[{\"marker\":{\"colorbar\":{\"outlinewidth\":0,\"ticks\":\"\"}},\"type\":\"scattercarpet\"}],\"scattergeo\":[{\"marker\":{\"colorbar\":{\"outlinewidth\":0,\"ticks\":\"\"}},\"type\":\"scattergeo\"}],\"scattergl\":[{\"marker\":{\"colorbar\":{\"outlinewidth\":0,\"ticks\":\"\"}},\"type\":\"scattergl\"}],\"scattermapbox\":[{\"marker\":{\"colorbar\":{\"outlinewidth\":0,\"ticks\":\"\"}},\"type\":\"scattermapbox\"}],\"scatterpolar\":[{\"marker\":{\"colorbar\":{\"outlinewidth\":0,\"ticks\":\"\"}},\"type\":\"scatterpolar\"}],\"scatterpolargl\":[{\"marker\":{\"colorbar\":{\"outlinewidth\":0,\"ticks\":\"\"}},\"type\":\"scatterpolargl\"}],\"scatterternary\":[{\"marker\":{\"colorbar\":{\"outlinewidth\":0,\"ticks\":\"\"}},\"type\":\"scatterternary\"}],\"surface\":[{\"colorbar\":{\"outlinewidth\":0,\"ticks\":\"\"},\"colorscale\":[[0.0,\"#0d0887\"],[0.1111111111111111,\"#46039f\"],[0.2222222222222222,\"#7201a8\"],[0.3333333333333333,\"#9c179e\"],[0.4444444444444444,\"#bd3786\"],[0.5555555555555556,\"#d8576b\"],[0.6666666666666666,\"#ed7953\"],[0.7777777777777778,\"#fb9f3a\"],[0.8888888888888888,\"#fdca26\"],[1.0,\"#f0f921\"]],\"type\":\"surface\"}],\"table\":[{\"cells\":{\"fill\":{\"color\":\"#EBF0F8\"},\"line\":{\"color\":\"white\"}},\"header\":{\"fill\":{\"color\":\"#C8D4E3\"},\"line\":{\"color\":\"white\"}},\"type\":\"table\"}]},\"layout\":{\"annotationdefaults\":{\"arrowcolor\":\"#2a3f5f\",\"arrowhead\":0,\"arrowwidth\":1},\"autotypenumbers\":\"strict\",\"coloraxis\":{\"colorbar\":{\"outlinewidth\":0,\"ticks\":\"\"}},\"colorscale\":{\"diverging\":[[0,\"#8e0152\"],[0.1,\"#c51b7d\"],[0.2,\"#de77ae\"],[0.3,\"#f1b6da\"],[0.4,\"#fde0ef\"],[0.5,\"#f7f7f7\"],[0.6,\"#e6f5d0\"],[0.7,\"#b8e186\"],[0.8,\"#7fbc41\"],[0.9,\"#4d9221\"],[1,\"#276419\"]],\"sequential\":[[0.0,\"#0d0887\"],[0.1111111111111111,\"#46039f\"],[0.2222222222222222,\"#7201a8\"],[0.3333333333333333,\"#9c179e\"],[0.4444444444444444,\"#bd3786\"],[0.5555555555555556,\"#d8576b\"],[0.6666666666666666,\"#ed7953\"],[0.7777777777777778,\"#fb9f3a\"],[0.8888888888888888,\"#fdca26\"],[1.0,\"#f0f921\"]],\"sequentialminus\":[[0.0,\"#0d0887\"],[0.1111111111111111,\"#46039f\"],[0.2222222222222222,\"#7201a8\"],[0.3333333333333333,\"#9c179e\"],[0.4444444444444444,\"#bd3786\"],[0.5555555555555556,\"#d8576b\"],[0.6666666666666666,\"#ed7953\"],[0.7777777777777778,\"#fb9f3a\"],[0.8888888888888888,\"#fdca26\"],[1.0,\"#f0f921\"]]},\"colorway\":[\"#636efa\",\"#EF553B\",\"#00cc96\",\"#ab63fa\",\"#FFA15A\",\"#19d3f3\",\"#FF6692\",\"#B6E880\",\"#FF97FF\",\"#FECB52\"],\"font\":{\"color\":\"#2a3f5f\"},\"geo\":{\"bgcolor\":\"white\",\"lakecolor\":\"white\",\"landcolor\":\"#E5ECF6\",\"showlakes\":true,\"showland\":true,\"subunitcolor\":\"white\"},\"hoverlabel\":{\"align\":\"left\"},\"hovermode\":\"closest\",\"mapbox\":{\"style\":\"light\"},\"paper_bgcolor\":\"white\",\"plot_bgcolor\":\"#E5ECF6\",\"polar\":{\"angularaxis\":{\"gridcolor\":\"white\",\"linecolor\":\"white\",\"ticks\":\"\"},\"bgcolor\":\"#E5ECF6\",\"radialaxis\":{\"gridcolor\":\"white\",\"linecolor\":\"white\",\"ticks\":\"\"}},\"scene\":{\"xaxis\":{\"backgroundcolor\":\"#E5ECF6\",\"gridcolor\":\"white\",\"gridwidth\":2,\"linecolor\":\"white\",\"showbackground\":true,\"ticks\":\"\",\"zerolinecolor\":\"white\"},\"yaxis\":{\"backgroundcolor\":\"#E5ECF6\",\"gridcolor\":\"white\",\"gridwidth\":2,\"linecolor\":\"white\",\"showbackground\":true,\"ticks\":\"\",\"zerolinecolor\":\"white\"},\"zaxis\":{\"backgroundcolor\":\"#E5ECF6\",\"gridcolor\":\"white\",\"gridwidth\":2,\"linecolor\":\"white\",\"showbackground\":true,\"ticks\":\"\",\"zerolinecolor\":\"white\"}},\"shapedefaults\":{\"line\":{\"color\":\"#2a3f5f\"}},\"ternary\":{\"aaxis\":{\"gridcolor\":\"white\",\"linecolor\":\"white\",\"ticks\":\"\"},\"baxis\":{\"gridcolor\":\"white\",\"linecolor\":\"white\",\"ticks\":\"\"},\"bgcolor\":\"#E5ECF6\",\"caxis\":{\"gridcolor\":\"white\",\"linecolor\":\"white\",\"ticks\":\"\"}},\"title\":{\"x\":0.05},\"xaxis\":{\"automargin\":true,\"gridcolor\":\"white\",\"linecolor\":\"white\",\"ticks\":\"\",\"title\":{\"standoff\":15},\"zerolinecolor\":\"white\",\"zerolinewidth\":2},\"yaxis\":{\"automargin\":true,\"gridcolor\":\"white\",\"linecolor\":\"white\",\"ticks\":\"\",\"title\":{\"standoff\":15},\"zerolinecolor\":\"white\",\"zerolinewidth\":2}}},\"xaxis\":{\"title\":{\"text\":\"Birth\"},\"side\":\"bottom\",\"type\":\"linear\",\"range\":[3.8291066516649153e-07,1.6996605916119734e-06],\"autorange\":false,\"ticks\":\"outside\",\"showline\":true,\"zeroline\":true,\"linewidth\":1,\"linecolor\":\"black\",\"mirror\":false,\"showexponent\":\"all\",\"exponentformat\":\"e\"},\"yaxis\":{\"title\":{\"text\":\"Death\"},\"side\":\"left\",\"type\":\"linear\",\"range\":[3.8291066516649153e-07,1.6996605916119734e-06],\"autorange\":false,\"scaleanchor\":\"x\",\"scaleratio\":1,\"ticks\":\"outside\",\"showline\":true,\"zeroline\":true,\"linewidth\":1,\"linecolor\":\"black\",\"mirror\":false,\"showexponent\":\"all\",\"exponentformat\":\"e\"},\"width\":500,\"height\":500,\"plot_bgcolor\":\"white\"},                        {\"responsive\": true}                    ).then(function(){\n",
       "                            \n",
       "var gd = document.getElementById('e17f9381-cc7a-4924-8ff8-59051227b695');\n",
       "var x = new MutationObserver(function (mutations, observer) {{\n",
       "        var display = window.getComputedStyle(gd).display;\n",
       "        if (!display || display === 'none') {{\n",
       "            console.log([gd, 'removed!']);\n",
       "            Plotly.purge(gd);\n",
       "            observer.disconnect();\n",
       "        }}\n",
       "}});\n",
       "\n",
       "// Listen for the removal of the full notebook cells\n",
       "var notebookContainer = gd.closest('#notebook-container');\n",
       "if (notebookContainer) {{\n",
       "    x.observe(notebookContainer, {childList: true});\n",
       "}}\n",
       "\n",
       "// Listen for the clearing of the current output cell\n",
       "var outputEl = gd.closest('.output');\n",
       "if (outputEl) {{\n",
       "    x.observe(outputEl, {childList: true});\n",
       "}}\n",
       "\n",
       "                        })                };                            </script>        </div>\n",
       "</body>\n",
       "</html>"
      ]
     },
     "metadata": {},
     "output_type": "display_data"
    }
   ],
   "source": [
    "print(pd_fix_1s_ovl_full.shape)\n",
    "\n",
    "persist_filt = Filtering(\n",
    "    homology_dimensions=[1,2],\n",
    "    epsilon=0.0000001,\n",
    ")\n",
    "pd_fix_1s_ovl_filt = persist_filt.fit_transform(pd_fix_1s_ovl_full)\n",
    "\n",
    "print(pd_fix_1s_ovl_filt.shape)\n",
    "\n",
    "print(\"Persistence diagram for signal\")\n",
    "persistence.plot(pd_fix_1s_ovl_filt, sample=0)"
   ]
  },
  {
   "cell_type": "code",
   "execution_count": null,
   "metadata": {
    "colab": {
     "base_uri": "https://localhost:8080/",
     "height": 553
    },
    "executionInfo": {
     "elapsed": 4797,
     "status": "ok",
     "timestamp": 1649859715639,
     "user": {
      "displayName": "Екатерина Михайлец",
      "userId": "03958266793788218532"
     },
     "user_tz": -180
    },
    "id": "ZBMfX-pk8BbW",
    "outputId": "cfcb3430-98f5-4a81-9c94-ab9788860d69"
   },
   "outputs": [
    {
     "name": "stdout",
     "output_type": "stream",
     "text": [
      "(1, 239, 3)\n",
      "Persistence diagram for signal\n"
     ]
    },
    {
     "data": {
      "text/html": [
       "<html>\n",
       "<head><meta charset=\"utf-8\" /></head>\n",
       "<body>\n",
       "    <div>            <script src=\"https://cdnjs.cloudflare.com/ajax/libs/mathjax/2.7.5/MathJax.js?config=TeX-AMS-MML_SVG\"></script><script type=\"text/javascript\">if (window.MathJax) {MathJax.Hub.Config({SVG: {font: \"STIX-Web\"}});}</script>                <script type=\"text/javascript\">window.PlotlyConfig = {MathJaxConfig: 'local'};</script>\n",
       "        <script src=\"https://cdn.plot.ly/plotly-2.8.3.min.js\"></script>                <div id=\"0a99169f-1417-43ce-a441-af6603bda214\" class=\"plotly-graph-div\" style=\"height:500px; width:500px;\"></div>            <script type=\"text/javascript\">                                    window.PLOTLYENV=window.PLOTLYENV || {};                                    if (document.getElementById(\"0a99169f-1417-43ce-a441-af6603bda214\")) {                    Plotly.newPlot(                        \"0a99169f-1417-43ce-a441-af6603bda214\",                        [{\"hoverinfo\":\"none\",\"line\":{\"color\":\"black\",\"dash\":\"dash\",\"width\":1},\"mode\":\"lines\",\"showlegend\":false,\"x\":[7.95268148578998e-08,1.0517286939659697e-06],\"y\":[7.95268148578998e-08,1.0517286939659697e-06],\"type\":\"scatter\"},{\"hoverinfo\":\"text\",\"hovertext\":[\"(9.521348260932427e-07, 9.553741620038636e-07)\",\"(9.480326070843148e-07, 9.595511301085935e-07)\",\"(9.301503496317309e-07, 9.345282023787149e-07)\",\"(8.997780014396994e-07, 9.154339295491809e-07)\",\"(8.667266229167581e-07, 8.923476002564712e-07)\",\"(8.501991715093027e-07, 8.524913255314459e-07)\",\"(8.341585271409713e-07, 8.608367352280766e-07)\",\"(8.103192499220313e-07, 8.373280024898122e-07)\",\"(8.058567573243636e-07, 8.365597068404895e-07)\",\"(8.057243121584179e-07, 8.133583264680055e-07)\",\"(7.861124231567373e-07, 8.280576935248973e-07)\",\"(7.859570700929908e-07, 8.253326768681291e-07)\",\"(7.783946216477489e-07, 8.61474063640344e-07)\",\"(7.559156642855669e-07, 7.751721113891108e-07)\",\"(7.408613100778894e-07, 7.475517236343876e-07)\",\"(7.266689294738171e-07, 7.514547064602084e-07)\",\"(7.224567184493935e-07, 9.736500032886397e-07)\",\"(6.577918156835949e-07, 6.605839644180378e-07)\",\"(6.494672106782673e-07, 6.529518259412725e-07)\",\"(5.182205882192648e-07, 5.216403451413498e-07)\",\"(5.157253895049507e-07, 5.274151249068382e-07)\",\"(5.10091638261656e-07, 5.150669153408671e-07)\",\"(5.007109393773135e-07, 5.046967430644145e-07)\",\"(4.924343102175044e-07, 4.993799507246877e-07)\",\"(4.907456059299875e-07, 4.976959075975174e-07)\",\"(4.877838932770828e-07, 5.025370910516358e-07)\",\"(4.6120879915179103e-07, 4.7248047962966666e-07)\",\"(4.5033800688543124e-07, 4.581195298669627e-07)\",\"(4.4506379026643117e-07, 4.490758840347553e-07)\",\"(4.418104424530611e-07, 4.614782085354818e-07)\",\"(4.395332666717877e-07, 5.552013249143783e-07)\",\"(4.3323004206285987e-07, 4.6315011559272534e-07)\",\"(4.20000674239418e-07, 4.464545213522797e-07)\",\"(4.1342184431414353e-07, 4.387798071547877e-07)\",\"(4.0952710378405754e-07, 4.715281249900727e-07)\",\"(3.997930662080762e-07, 4.240834243773861e-07)\",\"(3.989370895851607e-07, 4.1016340901478543e-07)\",\"(3.9160931919468567e-07, 3.9526563000436e-07)\",\"(3.8952168779360363e-07, 3.907778420852992e-07)\",\"(3.8948084579715214e-07, 4.145409775446751e-07)\",\"(3.8764508758504235e-07, 3.996963187091751e-07)\",\"(3.864503810291353e-07, 4.076572963640501e-07)\",\"(3.7955007314849354e-07, 3.8499493371091376e-07)\",\"(3.764085363400227e-07, 4.0766104802969494e-07)\",\"(3.7514902828661434e-07, 3.8077871522546047e-07)\",\"(3.729158493115392e-07, 3.7298639199434547e-07)\",\"(3.7206194747341215e-07, 3.8316983363984036e-07)\",\"(3.647033395282051e-07, 3.855704164834606e-07)\",\"(3.641246735242021e-07, 5.371367706175079e-07)\",\"(3.613866681462241e-07, 5.352003995540144e-07)\",\"(3.607500786984019e-07, 1.0330325039831223e-06)\",\"(3.554564500518609e-07, 3.675886830478703e-07)\",\"(3.508141617203364e-07, 3.5349023619346553e-07)\",\"(3.447821654845029e-07, 3.6082442989027186e-07)\",\"(3.417433163122041e-07, 3.5442187140688475e-07)\",\"(3.336724034852523e-07, 4.002450282314385e-07)\",\"(3.291733889909665e-07, 3.356041986535274e-07)\",\"(3.2666707738826517e-07, 3.269277328854514e-07)\",\"(3.234355006043188e-07, 3.6652878065979166e-07)\",\"(3.1938242273099604e-07, 3.6473937825576286e-07)\",\"(3.1866574090599897e-07, 3.364952192441706e-07)\",\"(3.1669253530708374e-07, 5.48473792605364e-07)\",\"(3.13226507842046e-07, 3.346119115121837e-07)\",\"(3.125150556115841e-07, 5.175963906367542e-07)\",\"(3.1008227097117924e-07, 3.428500008340052e-07)\",\"(3.100436174463539e-07, 3.319272252610972e-07)\",\"(3.0816900675745273e-07, 3.363185783200606e-07)\",\"(3.0797562544648827e-07, 7.624194608979451e-07)\",\"(3.0172338938427856e-07, 3.3087553674704395e-07)\",\"(2.978165127842658e-07, 3.0456459398919833e-07)\",\"(2.940702188425348e-07, 3.3292744205937197e-07)\",\"(2.8301531074248487e-07, 3.0021135444258107e-07)\",\"(2.8038829213983263e-07, 3.819810103777854e-07)\",\"(2.731483448314975e-07, 2.8715618327623815e-07)\",\"(2.6976195499628375e-07, 2.7876325248143985e-07)\",\"(2.6859262902689807e-07, 2.939727892226074e-07)\",\"(2.681842374840926e-07, 4.2322503190916905e-07)\",\"(2.640964282818459e-07, 6.617299277422717e-07)\",\"(2.636311080550513e-07, 2.780735997021111e-07)\",\"(2.438168849039357e-07, 2.523944431231939e-07)\",\"(2.413187019101315e-07, 2.455493586239754e-07)\",\"(2.249465040904397e-07, 9.379722314406536e-07)\",\"(2.1786625836739404e-07, 2.5420450810997863e-07)\",\"(2.155809113446594e-07, 2.426143339562259e-07)\",\"(2.0857153515407845e-07, 2.268279786221683e-07)\",\"(1.9399070083636616e-07, 2.1252590443054942e-07)\",\"(1.9253762673088204e-07, 2.8073372959624976e-07)\",\"(1.8478591812254308e-07, 2.0783696186299494e-07)\",\"(1.773216382616738e-07, 1.9374323301235563e-07)\",\"(1.312208723902586e-07, 1.3381585972638277e-07)\",\"(1.0723118748501292e-07, 1.1910838537687596e-07)\",\"(9.822300484074731e-08, 4.5597383291351434e-07)\"],\"mode\":\"markers\",\"name\":\"H1\",\"x\":[9.521348260932427e-07,9.480326070843148e-07,9.301503496317309e-07,8.997780014396994e-07,8.667266229167581e-07,8.501991715093027e-07,8.341585271409713e-07,8.103192499220313e-07,8.058567573243636e-07,8.057243121584179e-07,7.861124231567373e-07,7.859570700929908e-07,7.783946216477489e-07,7.559156642855669e-07,7.408613100778894e-07,7.266689294738171e-07,7.224567184493935e-07,6.577918156835949e-07,6.494672106782673e-07,5.182205882192648e-07,5.157253895049507e-07,5.10091638261656e-07,5.007109393773135e-07,4.924343102175044e-07,4.907456059299875e-07,4.877838932770828e-07,4.6120879915179103e-07,4.5033800688543124e-07,4.4506379026643117e-07,4.418104424530611e-07,4.395332666717877e-07,4.3323004206285987e-07,4.20000674239418e-07,4.1342184431414353e-07,4.0952710378405754e-07,3.997930662080762e-07,3.989370895851607e-07,3.9160931919468567e-07,3.8952168779360363e-07,3.8948084579715214e-07,3.8764508758504235e-07,3.864503810291353e-07,3.7955007314849354e-07,3.764085363400227e-07,3.7514902828661434e-07,3.729158493115392e-07,3.7206194747341215e-07,3.647033395282051e-07,3.641246735242021e-07,3.613866681462241e-07,3.607500786984019e-07,3.554564500518609e-07,3.508141617203364e-07,3.447821654845029e-07,3.417433163122041e-07,3.336724034852523e-07,3.291733889909665e-07,3.2666707738826517e-07,3.234355006043188e-07,3.1938242273099604e-07,3.1866574090599897e-07,3.1669253530708374e-07,3.13226507842046e-07,3.125150556115841e-07,3.1008227097117924e-07,3.100436174463539e-07,3.0816900675745273e-07,3.0797562544648827e-07,3.0172338938427856e-07,2.978165127842658e-07,2.940702188425348e-07,2.8301531074248487e-07,2.8038829213983263e-07,2.731483448314975e-07,2.6976195499628375e-07,2.6859262902689807e-07,2.681842374840926e-07,2.640964282818459e-07,2.636311080550513e-07,2.438168849039357e-07,2.413187019101315e-07,2.249465040904397e-07,2.1786625836739404e-07,2.155809113446594e-07,2.0857153515407845e-07,1.9399070083636616e-07,1.9253762673088204e-07,1.8478591812254308e-07,1.773216382616738e-07,1.312208723902586e-07,1.0723118748501292e-07,9.822300484074731e-08],\"y\":[9.553741620038636e-07,9.595511301085935e-07,9.345282023787149e-07,9.154339295491809e-07,8.923476002564712e-07,8.524913255314459e-07,8.608367352280766e-07,8.373280024898122e-07,8.365597068404895e-07,8.133583264680055e-07,8.280576935248973e-07,8.253326768681291e-07,8.61474063640344e-07,7.751721113891108e-07,7.475517236343876e-07,7.514547064602084e-07,9.736500032886397e-07,6.605839644180378e-07,6.529518259412725e-07,5.216403451413498e-07,5.274151249068382e-07,5.150669153408671e-07,5.046967430644145e-07,4.993799507246877e-07,4.976959075975174e-07,5.025370910516358e-07,4.7248047962966666e-07,4.581195298669627e-07,4.490758840347553e-07,4.614782085354818e-07,5.552013249143783e-07,4.6315011559272534e-07,4.464545213522797e-07,4.387798071547877e-07,4.715281249900727e-07,4.240834243773861e-07,4.1016340901478543e-07,3.9526563000436e-07,3.907778420852992e-07,4.145409775446751e-07,3.996963187091751e-07,4.076572963640501e-07,3.8499493371091376e-07,4.0766104802969494e-07,3.8077871522546047e-07,3.7298639199434547e-07,3.8316983363984036e-07,3.855704164834606e-07,5.371367706175079e-07,5.352003995540144e-07,1.0330325039831223e-06,3.675886830478703e-07,3.5349023619346553e-07,3.6082442989027186e-07,3.5442187140688475e-07,4.002450282314385e-07,3.356041986535274e-07,3.269277328854514e-07,3.6652878065979166e-07,3.6473937825576286e-07,3.364952192441706e-07,5.48473792605364e-07,3.346119115121837e-07,5.175963906367542e-07,3.428500008340052e-07,3.319272252610972e-07,3.363185783200606e-07,7.624194608979451e-07,3.3087553674704395e-07,3.0456459398919833e-07,3.3292744205937197e-07,3.0021135444258107e-07,3.819810103777854e-07,2.8715618327623815e-07,2.7876325248143985e-07,2.939727892226074e-07,4.2322503190916905e-07,6.617299277422717e-07,2.780735997021111e-07,2.523944431231939e-07,2.455493586239754e-07,9.379722314406536e-07,2.5420450810997863e-07,2.426143339562259e-07,2.268279786221683e-07,2.1252590443054942e-07,2.8073372959624976e-07,2.0783696186299494e-07,1.9374323301235563e-07,1.3381585972638277e-07,1.1910838537687596e-07,4.5597383291351434e-07],\"type\":\"scatter\"},{\"hoverinfo\":\"text\",\"hovertext\":[\"(9.561869092067354e-07, 9.664986464485992e-07)\",\"(4.561202615604998e-07, 4.576163235014974e-07)\"],\"mode\":\"markers\",\"name\":\"H2\",\"x\":[9.561869092067354e-07,4.561202615604998e-07],\"y\":[9.664986464485992e-07,4.576163235014974e-07],\"type\":\"scatter\"}],                        {\"template\":{\"data\":{\"bar\":[{\"error_x\":{\"color\":\"#2a3f5f\"},\"error_y\":{\"color\":\"#2a3f5f\"},\"marker\":{\"line\":{\"color\":\"#E5ECF6\",\"width\":0.5},\"pattern\":{\"fillmode\":\"overlay\",\"size\":10,\"solidity\":0.2}},\"type\":\"bar\"}],\"barpolar\":[{\"marker\":{\"line\":{\"color\":\"#E5ECF6\",\"width\":0.5},\"pattern\":{\"fillmode\":\"overlay\",\"size\":10,\"solidity\":0.2}},\"type\":\"barpolar\"}],\"carpet\":[{\"aaxis\":{\"endlinecolor\":\"#2a3f5f\",\"gridcolor\":\"white\",\"linecolor\":\"white\",\"minorgridcolor\":\"white\",\"startlinecolor\":\"#2a3f5f\"},\"baxis\":{\"endlinecolor\":\"#2a3f5f\",\"gridcolor\":\"white\",\"linecolor\":\"white\",\"minorgridcolor\":\"white\",\"startlinecolor\":\"#2a3f5f\"},\"type\":\"carpet\"}],\"choropleth\":[{\"colorbar\":{\"outlinewidth\":0,\"ticks\":\"\"},\"type\":\"choropleth\"}],\"contour\":[{\"colorbar\":{\"outlinewidth\":0,\"ticks\":\"\"},\"colorscale\":[[0.0,\"#0d0887\"],[0.1111111111111111,\"#46039f\"],[0.2222222222222222,\"#7201a8\"],[0.3333333333333333,\"#9c179e\"],[0.4444444444444444,\"#bd3786\"],[0.5555555555555556,\"#d8576b\"],[0.6666666666666666,\"#ed7953\"],[0.7777777777777778,\"#fb9f3a\"],[0.8888888888888888,\"#fdca26\"],[1.0,\"#f0f921\"]],\"type\":\"contour\"}],\"contourcarpet\":[{\"colorbar\":{\"outlinewidth\":0,\"ticks\":\"\"},\"type\":\"contourcarpet\"}],\"heatmap\":[{\"colorbar\":{\"outlinewidth\":0,\"ticks\":\"\"},\"colorscale\":[[0.0,\"#0d0887\"],[0.1111111111111111,\"#46039f\"],[0.2222222222222222,\"#7201a8\"],[0.3333333333333333,\"#9c179e\"],[0.4444444444444444,\"#bd3786\"],[0.5555555555555556,\"#d8576b\"],[0.6666666666666666,\"#ed7953\"],[0.7777777777777778,\"#fb9f3a\"],[0.8888888888888888,\"#fdca26\"],[1.0,\"#f0f921\"]],\"type\":\"heatmap\"}],\"heatmapgl\":[{\"colorbar\":{\"outlinewidth\":0,\"ticks\":\"\"},\"colorscale\":[[0.0,\"#0d0887\"],[0.1111111111111111,\"#46039f\"],[0.2222222222222222,\"#7201a8\"],[0.3333333333333333,\"#9c179e\"],[0.4444444444444444,\"#bd3786\"],[0.5555555555555556,\"#d8576b\"],[0.6666666666666666,\"#ed7953\"],[0.7777777777777778,\"#fb9f3a\"],[0.8888888888888888,\"#fdca26\"],[1.0,\"#f0f921\"]],\"type\":\"heatmapgl\"}],\"histogram\":[{\"marker\":{\"pattern\":{\"fillmode\":\"overlay\",\"size\":10,\"solidity\":0.2}},\"type\":\"histogram\"}],\"histogram2d\":[{\"colorbar\":{\"outlinewidth\":0,\"ticks\":\"\"},\"colorscale\":[[0.0,\"#0d0887\"],[0.1111111111111111,\"#46039f\"],[0.2222222222222222,\"#7201a8\"],[0.3333333333333333,\"#9c179e\"],[0.4444444444444444,\"#bd3786\"],[0.5555555555555556,\"#d8576b\"],[0.6666666666666666,\"#ed7953\"],[0.7777777777777778,\"#fb9f3a\"],[0.8888888888888888,\"#fdca26\"],[1.0,\"#f0f921\"]],\"type\":\"histogram2d\"}],\"histogram2dcontour\":[{\"colorbar\":{\"outlinewidth\":0,\"ticks\":\"\"},\"colorscale\":[[0.0,\"#0d0887\"],[0.1111111111111111,\"#46039f\"],[0.2222222222222222,\"#7201a8\"],[0.3333333333333333,\"#9c179e\"],[0.4444444444444444,\"#bd3786\"],[0.5555555555555556,\"#d8576b\"],[0.6666666666666666,\"#ed7953\"],[0.7777777777777778,\"#fb9f3a\"],[0.8888888888888888,\"#fdca26\"],[1.0,\"#f0f921\"]],\"type\":\"histogram2dcontour\"}],\"mesh3d\":[{\"colorbar\":{\"outlinewidth\":0,\"ticks\":\"\"},\"type\":\"mesh3d\"}],\"parcoords\":[{\"line\":{\"colorbar\":{\"outlinewidth\":0,\"ticks\":\"\"}},\"type\":\"parcoords\"}],\"pie\":[{\"automargin\":true,\"type\":\"pie\"}],\"scatter\":[{\"marker\":{\"colorbar\":{\"outlinewidth\":0,\"ticks\":\"\"}},\"type\":\"scatter\"}],\"scatter3d\":[{\"line\":{\"colorbar\":{\"outlinewidth\":0,\"ticks\":\"\"}},\"marker\":{\"colorbar\":{\"outlinewidth\":0,\"ticks\":\"\"}},\"type\":\"scatter3d\"}],\"scattercarpet\":[{\"marker\":{\"colorbar\":{\"outlinewidth\":0,\"ticks\":\"\"}},\"type\":\"scattercarpet\"}],\"scattergeo\":[{\"marker\":{\"colorbar\":{\"outlinewidth\":0,\"ticks\":\"\"}},\"type\":\"scattergeo\"}],\"scattergl\":[{\"marker\":{\"colorbar\":{\"outlinewidth\":0,\"ticks\":\"\"}},\"type\":\"scattergl\"}],\"scattermapbox\":[{\"marker\":{\"colorbar\":{\"outlinewidth\":0,\"ticks\":\"\"}},\"type\":\"scattermapbox\"}],\"scatterpolar\":[{\"marker\":{\"colorbar\":{\"outlinewidth\":0,\"ticks\":\"\"}},\"type\":\"scatterpolar\"}],\"scatterpolargl\":[{\"marker\":{\"colorbar\":{\"outlinewidth\":0,\"ticks\":\"\"}},\"type\":\"scatterpolargl\"}],\"scatterternary\":[{\"marker\":{\"colorbar\":{\"outlinewidth\":0,\"ticks\":\"\"}},\"type\":\"scatterternary\"}],\"surface\":[{\"colorbar\":{\"outlinewidth\":0,\"ticks\":\"\"},\"colorscale\":[[0.0,\"#0d0887\"],[0.1111111111111111,\"#46039f\"],[0.2222222222222222,\"#7201a8\"],[0.3333333333333333,\"#9c179e\"],[0.4444444444444444,\"#bd3786\"],[0.5555555555555556,\"#d8576b\"],[0.6666666666666666,\"#ed7953\"],[0.7777777777777778,\"#fb9f3a\"],[0.8888888888888888,\"#fdca26\"],[1.0,\"#f0f921\"]],\"type\":\"surface\"}],\"table\":[{\"cells\":{\"fill\":{\"color\":\"#EBF0F8\"},\"line\":{\"color\":\"white\"}},\"header\":{\"fill\":{\"color\":\"#C8D4E3\"},\"line\":{\"color\":\"white\"}},\"type\":\"table\"}]},\"layout\":{\"annotationdefaults\":{\"arrowcolor\":\"#2a3f5f\",\"arrowhead\":0,\"arrowwidth\":1},\"autotypenumbers\":\"strict\",\"coloraxis\":{\"colorbar\":{\"outlinewidth\":0,\"ticks\":\"\"}},\"colorscale\":{\"diverging\":[[0,\"#8e0152\"],[0.1,\"#c51b7d\"],[0.2,\"#de77ae\"],[0.3,\"#f1b6da\"],[0.4,\"#fde0ef\"],[0.5,\"#f7f7f7\"],[0.6,\"#e6f5d0\"],[0.7,\"#b8e186\"],[0.8,\"#7fbc41\"],[0.9,\"#4d9221\"],[1,\"#276419\"]],\"sequential\":[[0.0,\"#0d0887\"],[0.1111111111111111,\"#46039f\"],[0.2222222222222222,\"#7201a8\"],[0.3333333333333333,\"#9c179e\"],[0.4444444444444444,\"#bd3786\"],[0.5555555555555556,\"#d8576b\"],[0.6666666666666666,\"#ed7953\"],[0.7777777777777778,\"#fb9f3a\"],[0.8888888888888888,\"#fdca26\"],[1.0,\"#f0f921\"]],\"sequentialminus\":[[0.0,\"#0d0887\"],[0.1111111111111111,\"#46039f\"],[0.2222222222222222,\"#7201a8\"],[0.3333333333333333,\"#9c179e\"],[0.4444444444444444,\"#bd3786\"],[0.5555555555555556,\"#d8576b\"],[0.6666666666666666,\"#ed7953\"],[0.7777777777777778,\"#fb9f3a\"],[0.8888888888888888,\"#fdca26\"],[1.0,\"#f0f921\"]]},\"colorway\":[\"#636efa\",\"#EF553B\",\"#00cc96\",\"#ab63fa\",\"#FFA15A\",\"#19d3f3\",\"#FF6692\",\"#B6E880\",\"#FF97FF\",\"#FECB52\"],\"font\":{\"color\":\"#2a3f5f\"},\"geo\":{\"bgcolor\":\"white\",\"lakecolor\":\"white\",\"landcolor\":\"#E5ECF6\",\"showlakes\":true,\"showland\":true,\"subunitcolor\":\"white\"},\"hoverlabel\":{\"align\":\"left\"},\"hovermode\":\"closest\",\"mapbox\":{\"style\":\"light\"},\"paper_bgcolor\":\"white\",\"plot_bgcolor\":\"#E5ECF6\",\"polar\":{\"angularaxis\":{\"gridcolor\":\"white\",\"linecolor\":\"white\",\"ticks\":\"\"},\"bgcolor\":\"#E5ECF6\",\"radialaxis\":{\"gridcolor\":\"white\",\"linecolor\":\"white\",\"ticks\":\"\"}},\"scene\":{\"xaxis\":{\"backgroundcolor\":\"#E5ECF6\",\"gridcolor\":\"white\",\"gridwidth\":2,\"linecolor\":\"white\",\"showbackground\":true,\"ticks\":\"\",\"zerolinecolor\":\"white\"},\"yaxis\":{\"backgroundcolor\":\"#E5ECF6\",\"gridcolor\":\"white\",\"gridwidth\":2,\"linecolor\":\"white\",\"showbackground\":true,\"ticks\":\"\",\"zerolinecolor\":\"white\"},\"zaxis\":{\"backgroundcolor\":\"#E5ECF6\",\"gridcolor\":\"white\",\"gridwidth\":2,\"linecolor\":\"white\",\"showbackground\":true,\"ticks\":\"\",\"zerolinecolor\":\"white\"}},\"shapedefaults\":{\"line\":{\"color\":\"#2a3f5f\"}},\"ternary\":{\"aaxis\":{\"gridcolor\":\"white\",\"linecolor\":\"white\",\"ticks\":\"\"},\"baxis\":{\"gridcolor\":\"white\",\"linecolor\":\"white\",\"ticks\":\"\"},\"bgcolor\":\"#E5ECF6\",\"caxis\":{\"gridcolor\":\"white\",\"linecolor\":\"white\",\"ticks\":\"\"}},\"title\":{\"x\":0.05},\"xaxis\":{\"automargin\":true,\"gridcolor\":\"white\",\"linecolor\":\"white\",\"ticks\":\"\",\"title\":{\"standoff\":15},\"zerolinecolor\":\"white\",\"zerolinewidth\":2},\"yaxis\":{\"automargin\":true,\"gridcolor\":\"white\",\"linecolor\":\"white\",\"ticks\":\"\",\"title\":{\"standoff\":15},\"zerolinecolor\":\"white\",\"zerolinewidth\":2}}},\"xaxis\":{\"title\":{\"text\":\"Birth\"},\"side\":\"bottom\",\"type\":\"linear\",\"range\":[7.95268148578998e-08,1.0517286939659697e-06],\"autorange\":false,\"ticks\":\"outside\",\"showline\":true,\"zeroline\":true,\"linewidth\":1,\"linecolor\":\"black\",\"mirror\":false,\"showexponent\":\"all\",\"exponentformat\":\"e\"},\"yaxis\":{\"title\":{\"text\":\"Death\"},\"side\":\"left\",\"type\":\"linear\",\"range\":[7.95268148578998e-08,1.0517286939659697e-06],\"autorange\":false,\"scaleanchor\":\"x\",\"scaleratio\":1,\"ticks\":\"outside\",\"showline\":true,\"zeroline\":true,\"linewidth\":1,\"linecolor\":\"black\",\"mirror\":false,\"showexponent\":\"all\",\"exponentformat\":\"e\"},\"width\":500,\"height\":500,\"plot_bgcolor\":\"white\"},                        {\"responsive\": true}                    ).then(function(){\n",
       "                            \n",
       "var gd = document.getElementById('0a99169f-1417-43ce-a441-af6603bda214');\n",
       "var x = new MutationObserver(function (mutations, observer) {{\n",
       "        var display = window.getComputedStyle(gd).display;\n",
       "        if (!display || display === 'none') {{\n",
       "            console.log([gd, 'removed!']);\n",
       "            Plotly.purge(gd);\n",
       "            observer.disconnect();\n",
       "        }}\n",
       "}});\n",
       "\n",
       "// Listen for the removal of the full notebook cells\n",
       "var notebookContainer = gd.closest('#notebook-container');\n",
       "if (notebookContainer) {{\n",
       "    x.observe(notebookContainer, {childList: true});\n",
       "}}\n",
       "\n",
       "// Listen for the clearing of the current output cell\n",
       "var outputEl = gd.closest('.output');\n",
       "if (outputEl) {{\n",
       "    x.observe(outputEl, {childList: true});\n",
       "}}\n",
       "\n",
       "                        })                };                            </script>        </div>\n",
       "</body>\n",
       "</html>"
      ]
     },
     "metadata": {},
     "output_type": "display_data"
    }
   ],
   "source": [
    "pcl_epochs_fix_1s_ovl_smpl = pcl_epochs_fix_1s_ovl_theta[100,0,:,:]\n",
    "pcl_epochs_fix_1s_ovl_smpl = pcl_epochs_fix_1s_ovl_smpl[None, :, :]\n",
    "print(pcl_epochs_fix_1s_ovl_smpl.shape)\n",
    "\n",
    "pd_fix_1s_ovl_full = persistence.fit_transform(pcl_epochs_fix_1s_ovl_smpl)\n",
    "\n",
    "print(\"Persistence diagram for signal\")\n",
    "persistence.plot(pd_fix_1s_ovl_full)"
   ]
  },
  {
   "cell_type": "code",
   "execution_count": null,
   "metadata": {
    "colab": {
     "base_uri": "https://localhost:8080/",
     "height": 553
    },
    "executionInfo": {
     "elapsed": 961,
     "status": "ok",
     "timestamp": 1649859722733,
     "user": {
      "displayName": "Екатерина Михайлец",
      "userId": "03958266793788218532"
     },
     "user_tz": -180
    },
    "id": "TfnlFN4KSznJ",
    "outputId": "1cc96d8f-3a9b-45e5-b6cb-f5ce2ee07fe3"
   },
   "outputs": [
    {
     "name": "stdout",
     "output_type": "stream",
     "text": [
      "(1, 14, 3)\n",
      "Persistence diagram for signal\n"
     ]
    },
    {
     "data": {
      "text/html": [
       "<html>\n",
       "<head><meta charset=\"utf-8\" /></head>\n",
       "<body>\n",
       "    <div>            <script src=\"https://cdnjs.cloudflare.com/ajax/libs/mathjax/2.7.5/MathJax.js?config=TeX-AMS-MML_SVG\"></script><script type=\"text/javascript\">if (window.MathJax) {MathJax.Hub.Config({SVG: {font: \"STIX-Web\"}});}</script>                <script type=\"text/javascript\">window.PlotlyConfig = {MathJaxConfig: 'local'};</script>\n",
       "        <script src=\"https://cdn.plot.ly/plotly-2.8.3.min.js\"></script>                <div id=\"07c162a7-b51f-4aad-b236-90ac3849135c\" class=\"plotly-graph-div\" style=\"height:500px; width:500px;\"></div>            <script type=\"text/javascript\">                                    window.PLOTLYENV=window.PLOTLYENV || {};                                    if (document.getElementById(\"07c162a7-b51f-4aad-b236-90ac3849135c\")) {                    Plotly.newPlot(                        \"07c162a7-b51f-4aad-b236-90ac3849135c\",                        [{\"hoverinfo\":\"none\",\"line\":{\"color\":\"black\",\"dash\":\"dash\",\"width\":1},\"mode\":\"lines\",\"showlegend\":false,\"x\":[7.95268148578998e-08,1.0517286939659697e-06],\"y\":[7.95268148578998e-08,1.0517286939659697e-06],\"type\":\"scatter\"},{\"hoverinfo\":\"text\",\"hovertext\":[\"(7.224567184493935e-07, 9.736500032886397e-07)\",\"(4.395332666717877e-07, 5.552013249143783e-07)\",\"(3.641246735242021e-07, 5.371367706175079e-07)\",\"(3.613866681462241e-07, 5.352003995540144e-07)\",\"(3.607500786984019e-07, 1.0330325039831223e-06)\",\"(3.1669253530708374e-07, 5.48473792605364e-07)\",\"(3.125150556115841e-07, 5.175963906367542e-07)\",\"(3.0797562544648827e-07, 7.624194608979451e-07)\",\"(2.8038829213983263e-07, 3.819810103777854e-07)\",\"(2.681842374840926e-07, 4.2322503190916905e-07)\",\"(2.640964282818459e-07, 6.617299277422717e-07)\",\"(2.249465040904397e-07, 9.379722314406536e-07)\",\"(9.822300484074731e-08, 4.5597383291351434e-07)\"],\"mode\":\"markers\",\"name\":\"H1\",\"x\":[7.224567184493935e-07,4.395332666717877e-07,3.641246735242021e-07,3.613866681462241e-07,3.607500786984019e-07,3.1669253530708374e-07,3.125150556115841e-07,3.0797562544648827e-07,2.8038829213983263e-07,2.681842374840926e-07,2.640964282818459e-07,2.249465040904397e-07,9.822300484074731e-08],\"y\":[9.736500032886397e-07,5.552013249143783e-07,5.371367706175079e-07,5.352003995540144e-07,1.0330325039831223e-06,5.48473792605364e-07,5.175963906367542e-07,7.624194608979451e-07,3.819810103777854e-07,4.2322503190916905e-07,6.617299277422717e-07,9.379722314406536e-07,4.5597383291351434e-07],\"type\":\"scatter\"},{\"hoverinfo\":\"text\",\"hovertext\":[],\"mode\":\"markers\",\"name\":\"H2\",\"x\":[],\"y\":[],\"type\":\"scatter\"}],                        {\"template\":{\"data\":{\"bar\":[{\"error_x\":{\"color\":\"#2a3f5f\"},\"error_y\":{\"color\":\"#2a3f5f\"},\"marker\":{\"line\":{\"color\":\"#E5ECF6\",\"width\":0.5},\"pattern\":{\"fillmode\":\"overlay\",\"size\":10,\"solidity\":0.2}},\"type\":\"bar\"}],\"barpolar\":[{\"marker\":{\"line\":{\"color\":\"#E5ECF6\",\"width\":0.5},\"pattern\":{\"fillmode\":\"overlay\",\"size\":10,\"solidity\":0.2}},\"type\":\"barpolar\"}],\"carpet\":[{\"aaxis\":{\"endlinecolor\":\"#2a3f5f\",\"gridcolor\":\"white\",\"linecolor\":\"white\",\"minorgridcolor\":\"white\",\"startlinecolor\":\"#2a3f5f\"},\"baxis\":{\"endlinecolor\":\"#2a3f5f\",\"gridcolor\":\"white\",\"linecolor\":\"white\",\"minorgridcolor\":\"white\",\"startlinecolor\":\"#2a3f5f\"},\"type\":\"carpet\"}],\"choropleth\":[{\"colorbar\":{\"outlinewidth\":0,\"ticks\":\"\"},\"type\":\"choropleth\"}],\"contour\":[{\"colorbar\":{\"outlinewidth\":0,\"ticks\":\"\"},\"colorscale\":[[0.0,\"#0d0887\"],[0.1111111111111111,\"#46039f\"],[0.2222222222222222,\"#7201a8\"],[0.3333333333333333,\"#9c179e\"],[0.4444444444444444,\"#bd3786\"],[0.5555555555555556,\"#d8576b\"],[0.6666666666666666,\"#ed7953\"],[0.7777777777777778,\"#fb9f3a\"],[0.8888888888888888,\"#fdca26\"],[1.0,\"#f0f921\"]],\"type\":\"contour\"}],\"contourcarpet\":[{\"colorbar\":{\"outlinewidth\":0,\"ticks\":\"\"},\"type\":\"contourcarpet\"}],\"heatmap\":[{\"colorbar\":{\"outlinewidth\":0,\"ticks\":\"\"},\"colorscale\":[[0.0,\"#0d0887\"],[0.1111111111111111,\"#46039f\"],[0.2222222222222222,\"#7201a8\"],[0.3333333333333333,\"#9c179e\"],[0.4444444444444444,\"#bd3786\"],[0.5555555555555556,\"#d8576b\"],[0.6666666666666666,\"#ed7953\"],[0.7777777777777778,\"#fb9f3a\"],[0.8888888888888888,\"#fdca26\"],[1.0,\"#f0f921\"]],\"type\":\"heatmap\"}],\"heatmapgl\":[{\"colorbar\":{\"outlinewidth\":0,\"ticks\":\"\"},\"colorscale\":[[0.0,\"#0d0887\"],[0.1111111111111111,\"#46039f\"],[0.2222222222222222,\"#7201a8\"],[0.3333333333333333,\"#9c179e\"],[0.4444444444444444,\"#bd3786\"],[0.5555555555555556,\"#d8576b\"],[0.6666666666666666,\"#ed7953\"],[0.7777777777777778,\"#fb9f3a\"],[0.8888888888888888,\"#fdca26\"],[1.0,\"#f0f921\"]],\"type\":\"heatmapgl\"}],\"histogram\":[{\"marker\":{\"pattern\":{\"fillmode\":\"overlay\",\"size\":10,\"solidity\":0.2}},\"type\":\"histogram\"}],\"histogram2d\":[{\"colorbar\":{\"outlinewidth\":0,\"ticks\":\"\"},\"colorscale\":[[0.0,\"#0d0887\"],[0.1111111111111111,\"#46039f\"],[0.2222222222222222,\"#7201a8\"],[0.3333333333333333,\"#9c179e\"],[0.4444444444444444,\"#bd3786\"],[0.5555555555555556,\"#d8576b\"],[0.6666666666666666,\"#ed7953\"],[0.7777777777777778,\"#fb9f3a\"],[0.8888888888888888,\"#fdca26\"],[1.0,\"#f0f921\"]],\"type\":\"histogram2d\"}],\"histogram2dcontour\":[{\"colorbar\":{\"outlinewidth\":0,\"ticks\":\"\"},\"colorscale\":[[0.0,\"#0d0887\"],[0.1111111111111111,\"#46039f\"],[0.2222222222222222,\"#7201a8\"],[0.3333333333333333,\"#9c179e\"],[0.4444444444444444,\"#bd3786\"],[0.5555555555555556,\"#d8576b\"],[0.6666666666666666,\"#ed7953\"],[0.7777777777777778,\"#fb9f3a\"],[0.8888888888888888,\"#fdca26\"],[1.0,\"#f0f921\"]],\"type\":\"histogram2dcontour\"}],\"mesh3d\":[{\"colorbar\":{\"outlinewidth\":0,\"ticks\":\"\"},\"type\":\"mesh3d\"}],\"parcoords\":[{\"line\":{\"colorbar\":{\"outlinewidth\":0,\"ticks\":\"\"}},\"type\":\"parcoords\"}],\"pie\":[{\"automargin\":true,\"type\":\"pie\"}],\"scatter\":[{\"marker\":{\"colorbar\":{\"outlinewidth\":0,\"ticks\":\"\"}},\"type\":\"scatter\"}],\"scatter3d\":[{\"line\":{\"colorbar\":{\"outlinewidth\":0,\"ticks\":\"\"}},\"marker\":{\"colorbar\":{\"outlinewidth\":0,\"ticks\":\"\"}},\"type\":\"scatter3d\"}],\"scattercarpet\":[{\"marker\":{\"colorbar\":{\"outlinewidth\":0,\"ticks\":\"\"}},\"type\":\"scattercarpet\"}],\"scattergeo\":[{\"marker\":{\"colorbar\":{\"outlinewidth\":0,\"ticks\":\"\"}},\"type\":\"scattergeo\"}],\"scattergl\":[{\"marker\":{\"colorbar\":{\"outlinewidth\":0,\"ticks\":\"\"}},\"type\":\"scattergl\"}],\"scattermapbox\":[{\"marker\":{\"colorbar\":{\"outlinewidth\":0,\"ticks\":\"\"}},\"type\":\"scattermapbox\"}],\"scatterpolar\":[{\"marker\":{\"colorbar\":{\"outlinewidth\":0,\"ticks\":\"\"}},\"type\":\"scatterpolar\"}],\"scatterpolargl\":[{\"marker\":{\"colorbar\":{\"outlinewidth\":0,\"ticks\":\"\"}},\"type\":\"scatterpolargl\"}],\"scatterternary\":[{\"marker\":{\"colorbar\":{\"outlinewidth\":0,\"ticks\":\"\"}},\"type\":\"scatterternary\"}],\"surface\":[{\"colorbar\":{\"outlinewidth\":0,\"ticks\":\"\"},\"colorscale\":[[0.0,\"#0d0887\"],[0.1111111111111111,\"#46039f\"],[0.2222222222222222,\"#7201a8\"],[0.3333333333333333,\"#9c179e\"],[0.4444444444444444,\"#bd3786\"],[0.5555555555555556,\"#d8576b\"],[0.6666666666666666,\"#ed7953\"],[0.7777777777777778,\"#fb9f3a\"],[0.8888888888888888,\"#fdca26\"],[1.0,\"#f0f921\"]],\"type\":\"surface\"}],\"table\":[{\"cells\":{\"fill\":{\"color\":\"#EBF0F8\"},\"line\":{\"color\":\"white\"}},\"header\":{\"fill\":{\"color\":\"#C8D4E3\"},\"line\":{\"color\":\"white\"}},\"type\":\"table\"}]},\"layout\":{\"annotationdefaults\":{\"arrowcolor\":\"#2a3f5f\",\"arrowhead\":0,\"arrowwidth\":1},\"autotypenumbers\":\"strict\",\"coloraxis\":{\"colorbar\":{\"outlinewidth\":0,\"ticks\":\"\"}},\"colorscale\":{\"diverging\":[[0,\"#8e0152\"],[0.1,\"#c51b7d\"],[0.2,\"#de77ae\"],[0.3,\"#f1b6da\"],[0.4,\"#fde0ef\"],[0.5,\"#f7f7f7\"],[0.6,\"#e6f5d0\"],[0.7,\"#b8e186\"],[0.8,\"#7fbc41\"],[0.9,\"#4d9221\"],[1,\"#276419\"]],\"sequential\":[[0.0,\"#0d0887\"],[0.1111111111111111,\"#46039f\"],[0.2222222222222222,\"#7201a8\"],[0.3333333333333333,\"#9c179e\"],[0.4444444444444444,\"#bd3786\"],[0.5555555555555556,\"#d8576b\"],[0.6666666666666666,\"#ed7953\"],[0.7777777777777778,\"#fb9f3a\"],[0.8888888888888888,\"#fdca26\"],[1.0,\"#f0f921\"]],\"sequentialminus\":[[0.0,\"#0d0887\"],[0.1111111111111111,\"#46039f\"],[0.2222222222222222,\"#7201a8\"],[0.3333333333333333,\"#9c179e\"],[0.4444444444444444,\"#bd3786\"],[0.5555555555555556,\"#d8576b\"],[0.6666666666666666,\"#ed7953\"],[0.7777777777777778,\"#fb9f3a\"],[0.8888888888888888,\"#fdca26\"],[1.0,\"#f0f921\"]]},\"colorway\":[\"#636efa\",\"#EF553B\",\"#00cc96\",\"#ab63fa\",\"#FFA15A\",\"#19d3f3\",\"#FF6692\",\"#B6E880\",\"#FF97FF\",\"#FECB52\"],\"font\":{\"color\":\"#2a3f5f\"},\"geo\":{\"bgcolor\":\"white\",\"lakecolor\":\"white\",\"landcolor\":\"#E5ECF6\",\"showlakes\":true,\"showland\":true,\"subunitcolor\":\"white\"},\"hoverlabel\":{\"align\":\"left\"},\"hovermode\":\"closest\",\"mapbox\":{\"style\":\"light\"},\"paper_bgcolor\":\"white\",\"plot_bgcolor\":\"#E5ECF6\",\"polar\":{\"angularaxis\":{\"gridcolor\":\"white\",\"linecolor\":\"white\",\"ticks\":\"\"},\"bgcolor\":\"#E5ECF6\",\"radialaxis\":{\"gridcolor\":\"white\",\"linecolor\":\"white\",\"ticks\":\"\"}},\"scene\":{\"xaxis\":{\"backgroundcolor\":\"#E5ECF6\",\"gridcolor\":\"white\",\"gridwidth\":2,\"linecolor\":\"white\",\"showbackground\":true,\"ticks\":\"\",\"zerolinecolor\":\"white\"},\"yaxis\":{\"backgroundcolor\":\"#E5ECF6\",\"gridcolor\":\"white\",\"gridwidth\":2,\"linecolor\":\"white\",\"showbackground\":true,\"ticks\":\"\",\"zerolinecolor\":\"white\"},\"zaxis\":{\"backgroundcolor\":\"#E5ECF6\",\"gridcolor\":\"white\",\"gridwidth\":2,\"linecolor\":\"white\",\"showbackground\":true,\"ticks\":\"\",\"zerolinecolor\":\"white\"}},\"shapedefaults\":{\"line\":{\"color\":\"#2a3f5f\"}},\"ternary\":{\"aaxis\":{\"gridcolor\":\"white\",\"linecolor\":\"white\",\"ticks\":\"\"},\"baxis\":{\"gridcolor\":\"white\",\"linecolor\":\"white\",\"ticks\":\"\"},\"bgcolor\":\"#E5ECF6\",\"caxis\":{\"gridcolor\":\"white\",\"linecolor\":\"white\",\"ticks\":\"\"}},\"title\":{\"x\":0.05},\"xaxis\":{\"automargin\":true,\"gridcolor\":\"white\",\"linecolor\":\"white\",\"ticks\":\"\",\"title\":{\"standoff\":15},\"zerolinecolor\":\"white\",\"zerolinewidth\":2},\"yaxis\":{\"automargin\":true,\"gridcolor\":\"white\",\"linecolor\":\"white\",\"ticks\":\"\",\"title\":{\"standoff\":15},\"zerolinecolor\":\"white\",\"zerolinewidth\":2}}},\"xaxis\":{\"title\":{\"text\":\"Birth\"},\"side\":\"bottom\",\"type\":\"linear\",\"range\":[7.95268148578998e-08,1.0517286939659697e-06],\"autorange\":false,\"ticks\":\"outside\",\"showline\":true,\"zeroline\":true,\"linewidth\":1,\"linecolor\":\"black\",\"mirror\":false,\"showexponent\":\"all\",\"exponentformat\":\"e\"},\"yaxis\":{\"title\":{\"text\":\"Death\"},\"side\":\"left\",\"type\":\"linear\",\"range\":[7.95268148578998e-08,1.0517286939659697e-06],\"autorange\":false,\"scaleanchor\":\"x\",\"scaleratio\":1,\"ticks\":\"outside\",\"showline\":true,\"zeroline\":true,\"linewidth\":1,\"linecolor\":\"black\",\"mirror\":false,\"showexponent\":\"all\",\"exponentformat\":\"e\"},\"width\":500,\"height\":500,\"plot_bgcolor\":\"white\"},                        {\"responsive\": true}                    ).then(function(){\n",
       "                            \n",
       "var gd = document.getElementById('07c162a7-b51f-4aad-b236-90ac3849135c');\n",
       "var x = new MutationObserver(function (mutations, observer) {{\n",
       "        var display = window.getComputedStyle(gd).display;\n",
       "        if (!display || display === 'none') {{\n",
       "            console.log([gd, 'removed!']);\n",
       "            Plotly.purge(gd);\n",
       "            observer.disconnect();\n",
       "        }}\n",
       "}});\n",
       "\n",
       "// Listen for the removal of the full notebook cells\n",
       "var notebookContainer = gd.closest('#notebook-container');\n",
       "if (notebookContainer) {{\n",
       "    x.observe(notebookContainer, {childList: true});\n",
       "}}\n",
       "\n",
       "// Listen for the clearing of the current output cell\n",
       "var outputEl = gd.closest('.output');\n",
       "if (outputEl) {{\n",
       "    x.observe(outputEl, {childList: true});\n",
       "}}\n",
       "\n",
       "                        })                };                            </script>        </div>\n",
       "</body>\n",
       "</html>"
      ]
     },
     "metadata": {},
     "output_type": "display_data"
    }
   ],
   "source": [
    "persist_filt = Filtering(\n",
    "    homology_dimensions=[1,2],\n",
    "    epsilon=0.0000001,\n",
    ")\n",
    "\n",
    "pd_fix_1s_ovl_filt = persist_filt.fit_transform(pd_fix_1s_ovl_full)\n",
    "\n",
    "print(pd_fix_1s_ovl_filt.shape)\n",
    "\n",
    "print(\"Persistence diagram for signal\")\n",
    "persistence.plot(pd_fix_1s_ovl_filt, sample=0)"
   ]
  },
  {
   "cell_type": "code",
   "execution_count": null,
   "metadata": {
    "colab": {
     "base_uri": "https://localhost:8080/"
    },
    "executionInfo": {
     "elapsed": 265,
     "status": "ok",
     "timestamp": 1649790241523,
     "user": {
      "displayName": "Екатерина Михайлец",
      "userId": "03958266793788218532"
     },
     "user_tz": -180
    },
    "id": "XSS_PhntBF9G",
    "outputId": "b79e4cc1-0c1f-4884-dbcd-725ddf764328"
   },
   "outputs": [
    {
     "name": "stdout",
     "output_type": "stream",
     "text": [
      "(501,)\n"
     ]
    }
   ],
   "source": [
    "m10_sample_ts = epochs_fix_1s_ovl.get_data(picks=0, item=100).reshape(epochs_fix_1s_ovl.get_data().shape[2])\n",
    "print(m10_sample_ts.shape)"
   ]
  },
  {
   "cell_type": "code",
   "execution_count": null,
   "metadata": {
    "id": "NHAuie20BeBP"
   },
   "outputs": [],
   "source": [
    "embedding_dimension = 3\n",
    "embedding_time_delay = 8\n",
    "stride = 3\n",
    "\n",
    "embedder_sample = SingleTakensEmbedding(\n",
    "    parameters_type=\"fixed\",\n",
    "#    n_jobs=2,\n",
    "    time_delay=embedding_time_delay,\n",
    "    dimension=embedding_dimension,\n",
    "    stride=stride,\n",
    ")"
   ]
  },
  {
   "cell_type": "code",
   "execution_count": null,
   "metadata": {
    "colab": {
     "base_uri": "https://localhost:8080/",
     "height": 560
    },
    "executionInfo": {
     "elapsed": 281,
     "status": "ok",
     "timestamp": 1649788117179,
     "user": {
      "displayName": "Екатерина Михайлец",
      "userId": "03958266793788218532"
     },
     "user_tz": -180
    },
    "id": "-jKCs3fFBec1",
    "outputId": "0b8583ce-49d8-4d59-abbd-28b6760c2498"
   },
   "outputs": [
    {
     "name": "stdout",
     "output_type": "stream",
     "text": [
      "Shape of embedded time series: (162, 3)\n"
     ]
    },
    {
     "data": {
      "text/html": [
       "<html>\n",
       "<head><meta charset=\"utf-8\" /></head>\n",
       "<body>\n",
       "    <div>            <script src=\"https://cdnjs.cloudflare.com/ajax/libs/mathjax/2.7.5/MathJax.js?config=TeX-AMS-MML_SVG\"></script><script type=\"text/javascript\">if (window.MathJax) {MathJax.Hub.Config({SVG: {font: \"STIX-Web\"}});}</script>                <script type=\"text/javascript\">window.PlotlyConfig = {MathJaxConfig: 'local'};</script>\n",
       "        <script src=\"https://cdn.plot.ly/plotly-2.8.3.min.js\"></script>                <div id=\"96e55342-ac80-48a5-842c-d6755216fd3b\" class=\"plotly-graph-div\" style=\"height:525px; width:100%;\"></div>            <script type=\"text/javascript\">                                    window.PLOTLYENV=window.PLOTLYENV || {};                                    if (document.getElementById(\"96e55342-ac80-48a5-842c-d6755216fd3b\")) {                    Plotly.newPlot(                        \"96e55342-ac80-48a5-842c-d6755216fd3b\",                        [{\"marker\":{\"color\":[0,1,2,3,4,5,6,7,8,9,10,11,12,13,14,15,16,17,18,19,20,21,22,23,24,25,26,27,28,29,30,31,32,33,34,35,36,37,38,39,40,41,42,43,44,45,46,47,48,49,50,51,52,53,54,55,56,57,58,59,60,61,62,63,64,65,66,67,68,69,70,71,72,73,74,75,76,77,78,79,80,81,82,83,84,85,86,87,88,89,90,91,92,93,94,95,96,97,98,99,100,101,102,103,104,105,106,107,108,109,110,111,112,113,114,115,116,117,118,119,120,121,122,123,124,125,126,127,128,129,130,131,132,133,134,135,136,137,138,139,140,141,142,143,144,145,146,147,148,149,150,151,152,153,154,155,156,157,158,159,160,161],\"colorscale\":[[0.0,\"#440154\"],[0.1111111111111111,\"#482878\"],[0.2222222222222222,\"#3e4989\"],[0.3333333333333333,\"#31688e\"],[0.4444444444444444,\"#26828e\"],[0.5555555555555556,\"#1f9e89\"],[0.6666666666666666,\"#35b779\"],[0.7777777777777778,\"#6ece58\"],[0.8888888888888888,\"#b5de2b\"],[1.0,\"#fde725\"]],\"opacity\":0.8,\"size\":4},\"mode\":\"markers\",\"x\":[-1.7825954188236605e-06,-4.191167698753254e-06,-1.5059522016053427e-06,-8.84730328674902e-06,-1.3957262561239787e-06,-3.6150506791588155e-06,-3.0956982146589784e-06,1.1338180228350959e-07,-3.5700703767648566e-07,-1.815668404858391e-06,-3.868049750713048e-06,-1.784452449140608e-06,-3.063751558123478e-10,-3.0745445103310538e-06,-4.303649144379579e-06,-5.969201329689042e-06,-8.489369345486331e-07,-2.07615720806753e-06,-1.0537418324954974e-06,-1.965252416303039e-06,-8.136412906803462e-07,-4.127251250757338e-06,2.2358273517096646e-06,4.383112811097662e-06,3.476332560214695e-06,-4.247499740145128e-07,1.0765194824078001e-06,1.534217534606763e-07,3.323412591420832e-06,9.24805118236061e-07,5.808747308046536e-06,2.6273434838703917e-06,3.0199030797048376e-06,5.020864177462199e-07,-3.370757112781052e-06,3.5324309446861334e-06,-7.77955813258303e-08,2.7617741255323746e-06,9.144790559946117e-07,3.1828634980107693e-07,1.6118471747375105e-06,8.993823352008903e-06,1.6227788346186011e-06,3.422050644068876e-06,2.5754246057715443e-06,3.3026158819214137e-06,2.7132637864369573e-06,6.3798197110109576e-06,5.569161831411411e-06,3.421305291089519e-06,5.274554248105681e-06,2.077654422501773e-06,3.1735580258945825e-06,4.86158133652464e-07,5.8822301739010875e-06,6.350341903758022e-06,2.032344232688821e-06,2.5166805849060308e-06,7.243084975938622e-06,6.200654412715383e-06,3.919888265246373e-06,3.6165168672694597e-06,5.300184391347923e-06,3.334108871267785e-06,3.500576418458381e-06,4.996626918117484e-06,6.411103487838048e-07,6.410706772960855e-07,-4.516773595521518e-06,7.050797722664699e-07,-1.295564783859166e-06,-3.000959306440263e-06,-1.3969093689000477e-06,-1.2628981211735175e-06,4.019311943388974e-06,2.38697004679237e-07,-2.4138403943224623e-06,-6.545877805292444e-07,1.716981830616834e-06,1.5952294168479867e-06,3.557411790549501e-07,4.874996253642812e-07,2.1244507626701674e-06,-2.487444024118722e-06,2.9814436777352215e-06,1.0413114506769535e-06,-8.543659415441721e-07,-3.0931844531980174e-06,1.1999277137747651e-06,3.0914962221396474e-06,5.813272055245023e-07,-2.628999698786846e-07,-3.485545282146991e-06,7.549336246547231e-07,-5.061129701962879e-07,-4.0781137430422826e-06,5.442904620191012e-06,-1.6605586331988622e-06,-5.507534163253064e-07,3.6823966385855594e-06,-5.451469369910037e-07,-8.102491385272005e-08,-1.2384642470379016e-06,-2.0942342226047075e-06,1.5302119571368615e-06,-4.07434303777652e-06,-2.8824088226119125e-07,-4.344266807529125e-06,-6.074783071373655e-06,-5.728121462351306e-06,-1.3467487574676638e-07,1.6446990303094304e-06,-3.4326283115580374e-06,-3.2619490208921667e-06,-3.39109262731383e-06,-2.196188261398659e-06,-6.467966180180247e-06,-3.1631951301670742e-06,-4.087449365458737e-06,-5.86105923062566e-06,-6.868660772287592e-06,-7.378630562534976e-06,-8.892512753468603e-06,-6.365531335449222e-06,-5.667459840597249e-06,-7.767203262022928e-06,-1.3314457817573844e-05,-1.3257087793863686e-05,-9.646471726585911e-06,-5.7808683367003255e-06,-6.715544209025429e-06,-7.550813379210678e-06,-1.0548928198212011e-05,-1.0336760177598514e-05,-1.255870554989552e-05,-1.0441212390225667e-05,-1.1036163768630153e-05,-8.852209556861438e-06,-1.0452746949207945e-05,-1.0481271359657174e-05,-7.84044590780024e-06,-9.995201231201626e-06,-1.1204498052265447e-05,-1.500873895347269e-05,-1.2109994428659503e-05,-9.866843558253004e-06,-1.0502494912170169e-05,-1.2173959849866445e-05,-1.4346882126771395e-05,-9.389505422865335e-06,-1.2885095295852782e-05,-1.0078845001802578e-05,-7.500675794394094e-06,-1.159752876637243e-05,-1.2367566155176221e-05,-1.043769314869494e-05,-6.248965435112859e-06,-5.8607108867259635e-06,-9.444635056578911e-06,-1.2066225449711316e-05,-9.10333400311134e-06,-1.0456823213685646e-05],\"y\":[-6.021952577782675e-06,-5.0204989581021e-06,-2.60673488762089e-06,-3.507374289873481e-06,-7.55619765870466e-07,1.828315857777871e-07,-1.2748316110858303e-06,-4.5868510411028694e-06,-8.504833182958321e-07,-1.0864117028818066e-06,-9.722054193758046e-07,-5.521002359980098e-06,-6.150465121775102e-06,-1.9830348043522636e-06,-2.00017092705348e-06,-4.913191689520306e-07,-2.991338593248542e-06,-1.2173136571419732e-07,-2.372938722051041e-06,-1.5650898148665344e-06,5.790590119789726e-06,2.9833897047036383e-06,-3.1252554749854263e-07,1.6549801107355438e-06,6.245645795215918e-07,1.4362880238688364e-06,2.331782550365321e-06,3.871408126501676e-06,4.813505979822508e-06,1.0421871778393363e-06,3.0852493568327414e-06,-2.3272423421698534e-06,6.198665890794064e-08,3.410035876144576e-06,-9.711285338557343e-07,3.02718687968345e-06,3.498325235668162e-07,-1.7761264195372265e-06,9.381227950461352e-06,3.2503904519574962e-06,2.81708967913698e-06,3.6818691428994303e-06,1.999266774401289e-06,3.5685101890776465e-06,4.717744188438005e-06,6.452457312714383e-06,4.159864649318562e-06,3.22361375819468e-06,6.144118877196251e-06,1.6329102277793722e-06,9.592092775055566e-07,4.138695530309726e-06,7.0088198269874535e-06,3.579479979808605e-06,3.220625257844552e-08,7.772938890531838e-06,6.439783306307613e-06,4.071366538976942e-06,4.141882659070152e-06,3.969338467443816e-06,5.459087972395292e-06,1.0726324597934522e-06,5.669586362456268e-06,1.6773341944885474e-06,6.590884786938052e-07,-2.803775227785891e-06,-2.4465336381733136e-06,3.08775463301689e-07,-2.970837455695612e-06,-1.8085067359501201e-06,-1.4749332745065903e-06,3.9124408154320075e-06,1.1882819222917008e-06,-1.5603060131171966e-06,-2.840256755456213e-06,2.650790657347321e-06,1.0773316617815647e-06,-4.2256436445853435e-07,2.206990342558131e-06,6.056045012609023e-07,-1.2719935119563048e-06,1.8835812325546405e-06,1.691284546219656e-06,4.5071086801236283e-07,-3.394710847879078e-06,2.009215842832715e-07,3.408956533492384e-06,-8.073385058922245e-07,1.9995200895285778e-06,-4.029266146402144e-06,2.438915690106335e-07,8.174475521518471e-07,-5.781371295516115e-06,4.395702924671385e-06,1.145092736158923e-06,-2.9714780764602645e-06,3.535287518846615e-06,4.1926272264544025e-07,1.3696487501897064e-06,-2.6619824683034703e-06,-1.0924510338078529e-06,7.538258377978474e-07,-2.8465376304707654e-06,-1.3295613665656183e-06,-2.1723240189371196e-06,-5.685240373335938e-06,-8.571134771810944e-06,-8.769080951578545e-07,2.0904470352308643e-06,-2.921862931754224e-06,-3.107163415984074e-06,-3.252757145006436e-06,-2.853399254719951e-06,-4.0028086296857256e-06,-4.796910352079649e-06,-3.5893262799354257e-06,-4.665126247767228e-06,-6.197236122335957e-06,-7.984159121242595e-06,-6.5985654041231765e-06,-9.086422956356471e-06,-4.60109988651061e-06,-6.699741144441958e-06,-1.1279847836281885e-05,-1.3354093094100975e-05,-1.1563119889738954e-05,-6.81596398586448e-06,-6.675865372211061e-06,-6.490586473913467e-06,-1.0063470055976266e-05,-9.89172938079859e-06,-1.3165186115694737e-05,-1.1597806847605756e-05,-9.906017277388914e-06,-1.0722699871517474e-05,-9.489671362381034e-06,-9.782233658139658e-06,-9.618498927376432e-06,-8.168934973179638e-06,-1.1251413958443986e-05,-1.4250857425927379e-05,-1.2307123445442585e-05,-1.2163604030776303e-05,-9.331957138034722e-06,-1.1731997880251962e-05,-1.414532592384073e-05,-9.757186395765908e-06,-1.154416776273513e-05,-1.164344235007138e-05,-7.217159969276054e-06,-1.0047045845950097e-05,-1.2774727539766317e-05,-1.0322925146525686e-05,-7.147663669901885e-06,-6.7469610399923285e-06,-7.1241197166384545e-06,-1.1489551447066768e-05,-1.0322902927501336e-05,-8.956285079899174e-06,-9.940928010622693e-06,-1.2703688716048237e-05,-9.181511701951067e-06],\"z\":[-3.721435036359342e-06,-2.1686110990638125e-06,3.126955082620997e-07,-1.0614847469237526e-06,-3.363097532709826e-06,-1.791688011065781e-06,-2.277275568387455e-06,-8.683286738957597e-08,-5.42636837366062e-06,-4.713826322479162e-06,-4.0667260380375085e-06,-1.148953430247687e-06,-1.2042763477916246e-06,-2.4649566573570946e-06,-5.22590043771706e-07,-1.4334485341063806e-06,-4.3859481801949214e-06,5.049648778113575e-06,2.7906297414032718e-06,1.8553583710358857e-06,1.0518177810243044e-06,6.980094039722518e-07,1.5069949596266254e-07,3.7609633894443854e-06,1.5849835624567025e-06,6.09102616786031e-06,8.542747496208561e-07,4.362464506014196e-06,-1.2163986400515102e-06,-2.9182603650911613e-06,4.884894133852989e-06,-2.607840368506136e-06,4.339913029559781e-06,-7.751659000738898e-09,-1.3310479786514874e-06,6.684296441568849e-06,6.493375141161415e-06,2.016520129484807e-06,3.893307889137469e-06,1.635399395020979e-06,4.076902541346382e-06,3.0407847388882704e-06,6.974757535383005e-06,4.819116306930248e-06,2.8272948555318216e-06,7.426193974622776e-06,1.9528142391387257e-07,2.55095956841676e-06,1.8482583614723731e-06,6.819819207328326e-06,5.033412942412385e-06,3.8424375257648005e-07,6.1651129830164196e-06,6.5449009807391866e-06,5.1522303150613594e-06,4.267138446660154e-06,3.3540255673763428e-06,6.106614049453044e-06,1.1442111430938848e-06,5.498461322421818e-06,3.5580462540617236e-06,4.7084275388375175e-07,-5.543390447296732e-07,-4.549909753908961e-06,1.8557815631221265e-06,-2.1847933731486126e-06,-2.246402172058198e-06,-9.45681140181639e-07,1.365446602889577e-06,2.59472210441744e-06,-5.388860710187127e-07,-3.113844604140428e-06,1.8515703896429114e-06,8.760738072479163e-07,7.418731404357296e-07,2.1629398790449237e-06,-4.475072262802418e-07,1.3601478100647623e-06,-7.447957312505194e-07,2.520410953109451e-06,8.135373771965246e-07,-2.5441452295617336e-06,-1.5988999257014474e-06,2.1274487502539504e-06,6.421082840566833e-07,2.494468720242066e-06,-2.7271465773203216e-06,-1.4594888777747986e-06,7.659304511988029e-07,-3.7008900494731554e-06,4.1604269736776355e-07,3.816549453235446e-06,-3.5474228246561785e-06,1.97735300079028e-06,2.435127043556895e-06,4.5151234394611603e-07,-2.329567980046017e-06,-3.208276853720422e-07,-1.2329937025719208e-06,-8.717650706284411e-08,-3.1178423905018804e-06,-5.658000334826985e-07,-5.741761528367735e-06,-8.024363545658228e-06,-2.42990023542466e-06,9.025825333402918e-07,-6.431152651670985e-07,-3.1405557094922907e-06,-3.256138851553233e-06,-3.3858510461615785e-06,-2.292397470808355e-06,-6.887525913512375e-06,-3.151240914431088e-06,-4.217168093910657e-06,-6.4068661588303725e-06,-7.827783047788586e-06,-6.366395406079853e-06,-1.039899452362233e-05,-4.5752545256424586e-06,-6.302346390364088e-06,-9.285066888259664e-06,-1.392755394340277e-05,-1.3061635438944707e-05,-8.207814036078104e-06,-5.9342813225511236e-06,-6.297680382298592e-06,-8.893495704794924e-06,-1.0288689919029169e-05,-1.2055112086279252e-05,-1.1876830375781956e-05,-9.425452237179397e-06,-1.1614466370289774e-05,-8.25091665512218e-06,-1.0005802180982012e-05,-1.0782450999041441e-05,-7.052650607073348e-06,-1.1187320618710324e-05,-1.2339410225363497e-05,-1.3958078718023638e-05,-1.296981719641724e-05,-8.668501025689065e-06,-1.1201934483458334e-05,-1.2803714458062193e-05,-1.2060689991962598e-05,-1.0113676631395937e-05,-1.2838478563390665e-05,-8.295832065240602e-06,-8.641020007746947e-06,-1.2526517819816262e-05,-1.1113951472535627e-05,-9.39320557883177e-06,-6.743035394178047e-06,-5.543980091057897e-06,-1.0698800806970886e-05,-1.150704349571472e-05,-8.382280113238542e-06,-1.1019042171567093e-05,-1.1214405053211097e-05,-9.618792860886185e-06,-1.2444752426979842e-05,-1.3003510496493443e-05,-1.178408773689363e-05],\"type\":\"scatter3d\"}],                        {\"template\":{\"data\":{\"bar\":[{\"error_x\":{\"color\":\"#2a3f5f\"},\"error_y\":{\"color\":\"#2a3f5f\"},\"marker\":{\"line\":{\"color\":\"#E5ECF6\",\"width\":0.5},\"pattern\":{\"fillmode\":\"overlay\",\"size\":10,\"solidity\":0.2}},\"type\":\"bar\"}],\"barpolar\":[{\"marker\":{\"line\":{\"color\":\"#E5ECF6\",\"width\":0.5},\"pattern\":{\"fillmode\":\"overlay\",\"size\":10,\"solidity\":0.2}},\"type\":\"barpolar\"}],\"carpet\":[{\"aaxis\":{\"endlinecolor\":\"#2a3f5f\",\"gridcolor\":\"white\",\"linecolor\":\"white\",\"minorgridcolor\":\"white\",\"startlinecolor\":\"#2a3f5f\"},\"baxis\":{\"endlinecolor\":\"#2a3f5f\",\"gridcolor\":\"white\",\"linecolor\":\"white\",\"minorgridcolor\":\"white\",\"startlinecolor\":\"#2a3f5f\"},\"type\":\"carpet\"}],\"choropleth\":[{\"colorbar\":{\"outlinewidth\":0,\"ticks\":\"\"},\"type\":\"choropleth\"}],\"contour\":[{\"colorbar\":{\"outlinewidth\":0,\"ticks\":\"\"},\"colorscale\":[[0.0,\"#0d0887\"],[0.1111111111111111,\"#46039f\"],[0.2222222222222222,\"#7201a8\"],[0.3333333333333333,\"#9c179e\"],[0.4444444444444444,\"#bd3786\"],[0.5555555555555556,\"#d8576b\"],[0.6666666666666666,\"#ed7953\"],[0.7777777777777778,\"#fb9f3a\"],[0.8888888888888888,\"#fdca26\"],[1.0,\"#f0f921\"]],\"type\":\"contour\"}],\"contourcarpet\":[{\"colorbar\":{\"outlinewidth\":0,\"ticks\":\"\"},\"type\":\"contourcarpet\"}],\"heatmap\":[{\"colorbar\":{\"outlinewidth\":0,\"ticks\":\"\"},\"colorscale\":[[0.0,\"#0d0887\"],[0.1111111111111111,\"#46039f\"],[0.2222222222222222,\"#7201a8\"],[0.3333333333333333,\"#9c179e\"],[0.4444444444444444,\"#bd3786\"],[0.5555555555555556,\"#d8576b\"],[0.6666666666666666,\"#ed7953\"],[0.7777777777777778,\"#fb9f3a\"],[0.8888888888888888,\"#fdca26\"],[1.0,\"#f0f921\"]],\"type\":\"heatmap\"}],\"heatmapgl\":[{\"colorbar\":{\"outlinewidth\":0,\"ticks\":\"\"},\"colorscale\":[[0.0,\"#0d0887\"],[0.1111111111111111,\"#46039f\"],[0.2222222222222222,\"#7201a8\"],[0.3333333333333333,\"#9c179e\"],[0.4444444444444444,\"#bd3786\"],[0.5555555555555556,\"#d8576b\"],[0.6666666666666666,\"#ed7953\"],[0.7777777777777778,\"#fb9f3a\"],[0.8888888888888888,\"#fdca26\"],[1.0,\"#f0f921\"]],\"type\":\"heatmapgl\"}],\"histogram\":[{\"marker\":{\"pattern\":{\"fillmode\":\"overlay\",\"size\":10,\"solidity\":0.2}},\"type\":\"histogram\"}],\"histogram2d\":[{\"colorbar\":{\"outlinewidth\":0,\"ticks\":\"\"},\"colorscale\":[[0.0,\"#0d0887\"],[0.1111111111111111,\"#46039f\"],[0.2222222222222222,\"#7201a8\"],[0.3333333333333333,\"#9c179e\"],[0.4444444444444444,\"#bd3786\"],[0.5555555555555556,\"#d8576b\"],[0.6666666666666666,\"#ed7953\"],[0.7777777777777778,\"#fb9f3a\"],[0.8888888888888888,\"#fdca26\"],[1.0,\"#f0f921\"]],\"type\":\"histogram2d\"}],\"histogram2dcontour\":[{\"colorbar\":{\"outlinewidth\":0,\"ticks\":\"\"},\"colorscale\":[[0.0,\"#0d0887\"],[0.1111111111111111,\"#46039f\"],[0.2222222222222222,\"#7201a8\"],[0.3333333333333333,\"#9c179e\"],[0.4444444444444444,\"#bd3786\"],[0.5555555555555556,\"#d8576b\"],[0.6666666666666666,\"#ed7953\"],[0.7777777777777778,\"#fb9f3a\"],[0.8888888888888888,\"#fdca26\"],[1.0,\"#f0f921\"]],\"type\":\"histogram2dcontour\"}],\"mesh3d\":[{\"colorbar\":{\"outlinewidth\":0,\"ticks\":\"\"},\"type\":\"mesh3d\"}],\"parcoords\":[{\"line\":{\"colorbar\":{\"outlinewidth\":0,\"ticks\":\"\"}},\"type\":\"parcoords\"}],\"pie\":[{\"automargin\":true,\"type\":\"pie\"}],\"scatter\":[{\"marker\":{\"colorbar\":{\"outlinewidth\":0,\"ticks\":\"\"}},\"type\":\"scatter\"}],\"scatter3d\":[{\"line\":{\"colorbar\":{\"outlinewidth\":0,\"ticks\":\"\"}},\"marker\":{\"colorbar\":{\"outlinewidth\":0,\"ticks\":\"\"}},\"type\":\"scatter3d\"}],\"scattercarpet\":[{\"marker\":{\"colorbar\":{\"outlinewidth\":0,\"ticks\":\"\"}},\"type\":\"scattercarpet\"}],\"scattergeo\":[{\"marker\":{\"colorbar\":{\"outlinewidth\":0,\"ticks\":\"\"}},\"type\":\"scattergeo\"}],\"scattergl\":[{\"marker\":{\"colorbar\":{\"outlinewidth\":0,\"ticks\":\"\"}},\"type\":\"scattergl\"}],\"scattermapbox\":[{\"marker\":{\"colorbar\":{\"outlinewidth\":0,\"ticks\":\"\"}},\"type\":\"scattermapbox\"}],\"scatterpolar\":[{\"marker\":{\"colorbar\":{\"outlinewidth\":0,\"ticks\":\"\"}},\"type\":\"scatterpolar\"}],\"scatterpolargl\":[{\"marker\":{\"colorbar\":{\"outlinewidth\":0,\"ticks\":\"\"}},\"type\":\"scatterpolargl\"}],\"scatterternary\":[{\"marker\":{\"colorbar\":{\"outlinewidth\":0,\"ticks\":\"\"}},\"type\":\"scatterternary\"}],\"surface\":[{\"colorbar\":{\"outlinewidth\":0,\"ticks\":\"\"},\"colorscale\":[[0.0,\"#0d0887\"],[0.1111111111111111,\"#46039f\"],[0.2222222222222222,\"#7201a8\"],[0.3333333333333333,\"#9c179e\"],[0.4444444444444444,\"#bd3786\"],[0.5555555555555556,\"#d8576b\"],[0.6666666666666666,\"#ed7953\"],[0.7777777777777778,\"#fb9f3a\"],[0.8888888888888888,\"#fdca26\"],[1.0,\"#f0f921\"]],\"type\":\"surface\"}],\"table\":[{\"cells\":{\"fill\":{\"color\":\"#EBF0F8\"},\"line\":{\"color\":\"white\"}},\"header\":{\"fill\":{\"color\":\"#C8D4E3\"},\"line\":{\"color\":\"white\"}},\"type\":\"table\"}]},\"layout\":{\"annotationdefaults\":{\"arrowcolor\":\"#2a3f5f\",\"arrowhead\":0,\"arrowwidth\":1},\"autotypenumbers\":\"strict\",\"coloraxis\":{\"colorbar\":{\"outlinewidth\":0,\"ticks\":\"\"}},\"colorscale\":{\"diverging\":[[0,\"#8e0152\"],[0.1,\"#c51b7d\"],[0.2,\"#de77ae\"],[0.3,\"#f1b6da\"],[0.4,\"#fde0ef\"],[0.5,\"#f7f7f7\"],[0.6,\"#e6f5d0\"],[0.7,\"#b8e186\"],[0.8,\"#7fbc41\"],[0.9,\"#4d9221\"],[1,\"#276419\"]],\"sequential\":[[0.0,\"#0d0887\"],[0.1111111111111111,\"#46039f\"],[0.2222222222222222,\"#7201a8\"],[0.3333333333333333,\"#9c179e\"],[0.4444444444444444,\"#bd3786\"],[0.5555555555555556,\"#d8576b\"],[0.6666666666666666,\"#ed7953\"],[0.7777777777777778,\"#fb9f3a\"],[0.8888888888888888,\"#fdca26\"],[1.0,\"#f0f921\"]],\"sequentialminus\":[[0.0,\"#0d0887\"],[0.1111111111111111,\"#46039f\"],[0.2222222222222222,\"#7201a8\"],[0.3333333333333333,\"#9c179e\"],[0.4444444444444444,\"#bd3786\"],[0.5555555555555556,\"#d8576b\"],[0.6666666666666666,\"#ed7953\"],[0.7777777777777778,\"#fb9f3a\"],[0.8888888888888888,\"#fdca26\"],[1.0,\"#f0f921\"]]},\"colorway\":[\"#636efa\",\"#EF553B\",\"#00cc96\",\"#ab63fa\",\"#FFA15A\",\"#19d3f3\",\"#FF6692\",\"#B6E880\",\"#FF97FF\",\"#FECB52\"],\"font\":{\"color\":\"#2a3f5f\"},\"geo\":{\"bgcolor\":\"white\",\"lakecolor\":\"white\",\"landcolor\":\"#E5ECF6\",\"showlakes\":true,\"showland\":true,\"subunitcolor\":\"white\"},\"hoverlabel\":{\"align\":\"left\"},\"hovermode\":\"closest\",\"mapbox\":{\"style\":\"light\"},\"paper_bgcolor\":\"white\",\"plot_bgcolor\":\"#E5ECF6\",\"polar\":{\"angularaxis\":{\"gridcolor\":\"white\",\"linecolor\":\"white\",\"ticks\":\"\"},\"bgcolor\":\"#E5ECF6\",\"radialaxis\":{\"gridcolor\":\"white\",\"linecolor\":\"white\",\"ticks\":\"\"}},\"scene\":{\"xaxis\":{\"backgroundcolor\":\"#E5ECF6\",\"gridcolor\":\"white\",\"gridwidth\":2,\"linecolor\":\"white\",\"showbackground\":true,\"ticks\":\"\",\"zerolinecolor\":\"white\"},\"yaxis\":{\"backgroundcolor\":\"#E5ECF6\",\"gridcolor\":\"white\",\"gridwidth\":2,\"linecolor\":\"white\",\"showbackground\":true,\"ticks\":\"\",\"zerolinecolor\":\"white\"},\"zaxis\":{\"backgroundcolor\":\"#E5ECF6\",\"gridcolor\":\"white\",\"gridwidth\":2,\"linecolor\":\"white\",\"showbackground\":true,\"ticks\":\"\",\"zerolinecolor\":\"white\"}},\"shapedefaults\":{\"line\":{\"color\":\"#2a3f5f\"}},\"ternary\":{\"aaxis\":{\"gridcolor\":\"white\",\"linecolor\":\"white\",\"ticks\":\"\"},\"baxis\":{\"gridcolor\":\"white\",\"linecolor\":\"white\",\"ticks\":\"\"},\"bgcolor\":\"#E5ECF6\",\"caxis\":{\"gridcolor\":\"white\",\"linecolor\":\"white\",\"ticks\":\"\"}},\"title\":{\"x\":0.05},\"xaxis\":{\"automargin\":true,\"gridcolor\":\"white\",\"linecolor\":\"white\",\"ticks\":\"\",\"title\":{\"standoff\":15},\"zerolinecolor\":\"white\",\"zerolinewidth\":2},\"yaxis\":{\"automargin\":true,\"gridcolor\":\"white\",\"linecolor\":\"white\",\"ticks\":\"\",\"title\":{\"standoff\":15},\"zerolinecolor\":\"white\",\"zerolinewidth\":2}}},\"scene\":{\"xaxis\":{\"title\":{\"text\":\"0th\"},\"type\":\"linear\",\"showexponent\":\"all\",\"exponentformat\":\"e\"},\"yaxis\":{\"title\":{\"text\":\"1st\"},\"type\":\"linear\",\"showexponent\":\"all\",\"exponentformat\":\"e\"},\"zaxis\":{\"title\":{\"text\":\"2nd\"},\"type\":\"linear\",\"showexponent\":\"all\",\"exponentformat\":\"e\"}}},                        {\"responsive\": true}                    ).then(function(){\n",
       "                            \n",
       "var gd = document.getElementById('96e55342-ac80-48a5-842c-d6755216fd3b');\n",
       "var x = new MutationObserver(function (mutations, observer) {{\n",
       "        var display = window.getComputedStyle(gd).display;\n",
       "        if (!display || display === 'none') {{\n",
       "            console.log([gd, 'removed!']);\n",
       "            Plotly.purge(gd);\n",
       "            observer.disconnect();\n",
       "        }}\n",
       "}});\n",
       "\n",
       "// Listen for the removal of the full notebook cells\n",
       "var notebookContainer = gd.closest('#notebook-container');\n",
       "if (notebookContainer) {{\n",
       "    x.observe(notebookContainer, {childList: true});\n",
       "}}\n",
       "\n",
       "// Listen for the clearing of the current output cell\n",
       "var outputEl = gd.closest('.output');\n",
       "if (outputEl) {{\n",
       "    x.observe(outputEl, {childList: true});\n",
       "}}\n",
       "\n",
       "                        })                };                            </script>        </div>\n",
       "</body>\n",
       "</html>"
      ]
     },
     "metadata": {},
     "output_type": "display_data"
    }
   ],
   "source": [
    "m10_sample_point_cl = embedder_sample.fit_transform(m10_sample_ts)\n",
    "print(f\"Shape of embedded time series: {m10_sample_point_cl.shape}\")\n",
    "plot_point_cloud(m10_sample_point_cl)"
   ]
  },
  {
   "cell_type": "code",
   "execution_count": null,
   "metadata": {
    "colab": {
     "base_uri": "https://localhost:8080/"
    },
    "executionInfo": {
     "elapsed": 251,
     "status": "ok",
     "timestamp": 1649788129699,
     "user": {
      "displayName": "Екатерина Михайлец",
      "userId": "03958266793788218532"
     },
     "user_tz": -180
    },
    "id": "92jcuc7nBs34",
    "outputId": "b7ac29dd-4a5f-4271-cd16-f8b02d915cfe"
   },
   "outputs": [
    {
     "name": "stdout",
     "output_type": "stream",
     "text": [
      "(162, 3)\n",
      "(1, 162, 3)\n"
     ]
    }
   ],
   "source": [
    "# Change array type for next step\n",
    "print(m10_sample_point_cl.shape)\n",
    "m10_sample_point_cl = m10_sample_point_cl[None, :, :]\n",
    "print(m10_sample_point_cl.shape)"
   ]
  },
  {
   "cell_type": "code",
   "execution_count": null,
   "metadata": {
    "colab": {
     "base_uri": "https://localhost:8080/",
     "height": 1000
    },
    "executionInfo": {
     "elapsed": 1953,
     "status": "ok",
     "timestamp": 1649788133277,
     "user": {
      "displayName": "Екатерина Михайлец",
      "userId": "03958266793788218532"
     },
     "user_tz": -180
    },
    "id": "BDymXSsIBxwI",
    "outputId": "1f71c0e0-3066-4352-8148-ebd7d867cf50"
   },
   "outputs": [
    {
     "name": "stdout",
     "output_type": "stream",
     "text": [
      "Persistence diagram for signal\n"
     ]
    },
    {
     "data": {
      "text/html": [
       "<html>\n",
       "<head><meta charset=\"utf-8\" /></head>\n",
       "<body>\n",
       "    <div>            <script src=\"https://cdnjs.cloudflare.com/ajax/libs/mathjax/2.7.5/MathJax.js?config=TeX-AMS-MML_SVG\"></script><script type=\"text/javascript\">if (window.MathJax) {MathJax.Hub.Config({SVG: {font: \"STIX-Web\"}});}</script>                <script type=\"text/javascript\">window.PlotlyConfig = {MathJaxConfig: 'local'};</script>\n",
       "        <script src=\"https://cdn.plot.ly/plotly-2.8.3.min.js\"></script>                <div id=\"683de39c-57b3-4408-9625-f291fe5c78b6\" class=\"plotly-graph-div\" style=\"height:500px; width:500px;\"></div>            <script type=\"text/javascript\">                                    window.PLOTLYENV=window.PLOTLYENV || {};                                    if (document.getElementById(\"683de39c-57b3-4408-9625-f291fe5c78b6\")) {                    Plotly.newPlot(                        \"683de39c-57b3-4408-9625-f291fe5c78b6\",                        [{\"hoverinfo\":\"none\",\"line\":{\"color\":\"black\",\"dash\":\"dash\",\"width\":1},\"mode\":\"lines\",\"showlegend\":false,\"x\":[-1.209889251185814e-07,6.170435181047651e-06],\"y\":[-1.209889251185814e-07,6.170435181047651e-06],\"type\":\"scatter\"},{\"hoverinfo\":\"text\",\"hovertext\":[\"(0.0, 2.740642628396017e-07)\",\"(0.0, 3.4694497230702837e-07)\",\"(0.0, 3.652843361123814e-07)\",\"(0.0, 6.634411420236574e-07)\",\"(0.0, 6.864884198876098e-07)\",\"(0.0, 7.15882379154209e-07)\",\"(0.0, 7.329553000090527e-07)\",\"(0.0, 8.025916145015799e-07)\",\"(0.0, 8.316677053699095e-07)\",\"(0.0, 9.124784696723509e-07)\",\"(0.0, 9.294092251366237e-07)\",\"(0.0, 9.419825914847024e-07)\",\"(0.0, 9.471486350776104e-07)\",\"(0.0, 9.483480880589923e-07)\",\"(0.0, 1.0082339940709062e-06)\",\"(0.0, 1.0137547405975056e-06)\",\"(0.0, 1.019383262246265e-06)\",\"(0.0, 1.0199951248068828e-06)\",\"(0.0, 1.0222671562587493e-06)\",\"(0.0, 1.0259792588840355e-06)\",\"(0.0, 1.0457799817231717e-06)\",\"(0.0, 1.0657963684934657e-06)\",\"(0.0, 1.0777185934784939e-06)\",\"(0.0, 1.1147744771733414e-06)\",\"(0.0, 1.122212097470765e-06)\",\"(0.0, 1.1452814305812353e-06)\",\"(0.0, 1.1647937299130717e-06)\",\"(0.0, 1.1675347195705399e-06)\",\"(0.0, 1.1758986602217192e-06)\",\"(0.0, 1.1809077022917336e-06)\",\"(0.0, 1.186076019621396e-06)\",\"(0.0, 1.2051235671606264e-06)\",\"(0.0, 1.2090187055946444e-06)\",\"(0.0, 1.2093996701878496e-06)\",\"(0.0, 1.2130473123761476e-06)\",\"(0.0, 1.2164390454927343e-06)\",\"(0.0, 1.2449806945369346e-06)\",\"(0.0, 1.2725304259220138e-06)\",\"(0.0, 1.273114321520552e-06)\",\"(0.0, 1.2748682820529211e-06)\",\"(0.0, 1.2894798828710918e-06)\",\"(0.0, 1.2912332749692723e-06)\",\"(0.0, 1.3451341374093317e-06)\",\"(0.0, 1.3592846244137036e-06)\",\"(0.0, 1.3779786058876198e-06)\",\"(0.0, 1.3785765986540355e-06)\",\"(0.0, 1.3843845181327197e-06)\",\"(0.0, 1.393979687236424e-06)\",\"(0.0, 1.4033837487659184e-06)\",\"(0.0, 1.4052483265913907e-06)\",\"(0.0, 1.4179094023347716e-06)\",\"(0.0, 1.418072201886389e-06)\",\"(0.0, 1.4243994428397855e-06)\",\"(0.0, 1.4286628129411838e-06)\",\"(0.0, 1.4404276953428052e-06)\",\"(0.0, 1.4526675613524276e-06)\",\"(0.0, 1.4755283928025165e-06)\",\"(0.0, 1.4859640486974968e-06)\",\"(0.0, 1.4952233868825715e-06)\",\"(0.0, 1.5101949202289688e-06)\",\"(0.0, 1.5356445146608166e-06)\",\"(0.0, 1.5670918855903437e-06)\",\"(0.0, 1.5692415900048218e-06)\",\"(0.0, 1.576855765961227e-06)\",\"(0.0, 1.5789368035257212e-06)\",\"(0.0, 1.5832872577448143e-06)\",\"(0.0, 1.6071154504970764e-06)\",\"(0.0, 1.610180902389402e-06)\",\"(0.0, 1.633055603633693e-06)\",\"(0.0, 1.633201009099139e-06)\",\"(0.0, 1.6396646742578014e-06)\",\"(0.0, 1.640448545003892e-06)\",\"(0.0, 1.6523347312613623e-06)\",\"(0.0, 1.6710383761164849e-06)\",\"(0.0, 1.6720603071007645e-06)\",\"(0.0, 1.7003443417706876e-06)\",\"(0.0, 1.7017503068927908e-06)\",\"(0.0, 1.7023197642629384e-06)\",\"(0.0, 1.7244177570319152e-06)\",\"(0.0, 1.7256742239624145e-06)\",\"(0.0, 1.7286404272454092e-06)\",\"(0.0, 1.749632588143868e-06)\",\"(0.0, 1.7533185427964781e-06)\",\"(0.0, 1.7656097952567507e-06)\",\"(0.0, 1.779612261998409e-06)\",\"(0.0, 1.813698645491968e-06)\",\"(0.0, 1.8221245454697055e-06)\",\"(0.0, 1.8348105186305474e-06)\",\"(0.0, 1.840479058046185e-06)\",\"(0.0, 1.8419881371301017e-06)\",\"(0.0, 1.8575296962808352e-06)\",\"(0.0, 1.8793681419992936e-06)\",\"(0.0, 1.8809040511769126e-06)\",\"(0.0, 1.8887524220190244e-06)\",\"(0.0, 1.8927390783574083e-06)\",\"(0.0, 1.913593223434873e-06)\",\"(0.0, 1.9252256606705487e-06)\",\"(0.0, 1.9697274638019735e-06)\",\"(0.0, 1.981781451831921e-06)\",\"(0.0, 1.993428440982825e-06)\",\"(0.0, 2.0000384211016353e-06)\",\"(0.0, 2.002235987674794e-06)\",\"(0.0, 2.012137201745645e-06)\",\"(0.0, 2.012425966313458e-06)\",\"(0.0, 2.0274676444387296e-06)\",\"(0.0, 2.0290399334044196e-06)\",\"(0.0, 2.0347724785096943e-06)\",\"(0.0, 2.0398192646098323e-06)\",\"(0.0, 2.0753507214976707e-06)\",\"(0.0, 2.0829054392379476e-06)\",\"(0.0, 2.082906576106325e-06)\",\"(0.0, 2.0957936612830963e-06)\",\"(0.0, 2.1184566776355496e-06)\",\"(0.0, 2.1225328055152204e-06)\",\"(0.0, 2.1337159523682203e-06)\",\"(0.0, 2.1366697637859033e-06)\",\"(0.0, 2.1751211534137838e-06)\",\"(0.0, 2.197149569838075e-06)\",\"(0.0, 2.203880512752221e-06)\",\"(0.0, 2.2147371510072844e-06)\",\"(0.0, 2.2385029296856374e-06)\",\"(0.0, 2.2477870516013354e-06)\",\"(0.0, 2.2536244159709895e-06)\",\"(0.0, 2.2705894480168354e-06)\",\"(0.0, 2.2940691906114807e-06)\",\"(0.0, 2.2941435418033507e-06)\",\"(0.0, 2.300065261806594e-06)\",\"(0.0, 2.308466491740546e-06)\",\"(0.0, 2.323030685147387e-06)\",\"(0.0, 2.323873559362255e-06)\",\"(0.0, 2.3264617539098253e-06)\",\"(0.0, 2.3328209408646217e-06)\",\"(0.0, 2.385475454502739e-06)\",\"(0.0, 2.3861134650360327e-06)\",\"(0.0, 2.3881596007413464e-06)\",\"(0.0, 2.406765133855515e-06)\",\"(0.0, 2.423212436042377e-06)\",\"(0.0, 2.4490843770763604e-06)\",\"(0.0, 2.453478373354301e-06)\",\"(0.0, 2.4637379283376504e-06)\",\"(0.0, 2.5014894617925165e-06)\",\"(0.0, 2.5041965727723436e-06)\",\"(0.0, 2.588962161098607e-06)\",\"(0.0, 2.62177195509139e-06)\",\"(0.0, 2.662162842170801e-06)\",\"(0.0, 2.7138967197970487e-06)\",\"(0.0, 2.7287267130304826e-06)\",\"(0.0, 2.7509970550454454e-06)\",\"(0.0, 2.7836247227241984e-06)\",\"(0.0, 2.8073193334421376e-06)\",\"(0.0, 2.8334745820757234e-06)\",\"(0.0, 2.8369715892040404e-06)\",\"(0.0, 2.9783277568640187e-06)\",\"(0.0, 3.0189862627594266e-06)\",\"(0.0, 3.128964863208239e-06)\",\"(0.0, 3.1529796160612023e-06)\",\"(0.0, 3.162097982567502e-06)\",\"(0.0, 3.1925765142659657e-06)\",\"(0.0, 3.7877994145674165e-06)\",\"(0.0, 3.933801963285077e-06)\",\"(0.0, 4.01264469473972e-06)\"],\"mode\":\"markers\",\"name\":\"H0\",\"x\":[0.0,0.0,0.0,0.0,0.0,0.0,0.0,0.0,0.0,0.0,0.0,0.0,0.0,0.0,0.0,0.0,0.0,0.0,0.0,0.0,0.0,0.0,0.0,0.0,0.0,0.0,0.0,0.0,0.0,0.0,0.0,0.0,0.0,0.0,0.0,0.0,0.0,0.0,0.0,0.0,0.0,0.0,0.0,0.0,0.0,0.0,0.0,0.0,0.0,0.0,0.0,0.0,0.0,0.0,0.0,0.0,0.0,0.0,0.0,0.0,0.0,0.0,0.0,0.0,0.0,0.0,0.0,0.0,0.0,0.0,0.0,0.0,0.0,0.0,0.0,0.0,0.0,0.0,0.0,0.0,0.0,0.0,0.0,0.0,0.0,0.0,0.0,0.0,0.0,0.0,0.0,0.0,0.0,0.0,0.0,0.0,0.0,0.0,0.0,0.0,0.0,0.0,0.0,0.0,0.0,0.0,0.0,0.0,0.0,0.0,0.0,0.0,0.0,0.0,0.0,0.0,0.0,0.0,0.0,0.0,0.0,0.0,0.0,0.0,0.0,0.0,0.0,0.0,0.0,0.0,0.0,0.0,0.0,0.0,0.0,0.0,0.0,0.0,0.0,0.0,0.0,0.0,0.0,0.0,0.0,0.0,0.0,0.0,0.0,0.0,0.0,0.0,0.0,0.0,0.0,0.0,0.0,0.0,0.0,0.0,0.0],\"y\":[2.740642628396017e-07,3.4694497230702837e-07,3.652843361123814e-07,6.634411420236574e-07,6.864884198876098e-07,7.15882379154209e-07,7.329553000090527e-07,8.025916145015799e-07,8.316677053699095e-07,9.124784696723509e-07,9.294092251366237e-07,9.419825914847024e-07,9.471486350776104e-07,9.483480880589923e-07,1.0082339940709062e-06,1.0137547405975056e-06,1.019383262246265e-06,1.0199951248068828e-06,1.0222671562587493e-06,1.0259792588840355e-06,1.0457799817231717e-06,1.0657963684934657e-06,1.0777185934784939e-06,1.1147744771733414e-06,1.122212097470765e-06,1.1452814305812353e-06,1.1647937299130717e-06,1.1675347195705399e-06,1.1758986602217192e-06,1.1809077022917336e-06,1.186076019621396e-06,1.2051235671606264e-06,1.2090187055946444e-06,1.2093996701878496e-06,1.2130473123761476e-06,1.2164390454927343e-06,1.2449806945369346e-06,1.2725304259220138e-06,1.273114321520552e-06,1.2748682820529211e-06,1.2894798828710918e-06,1.2912332749692723e-06,1.3451341374093317e-06,1.3592846244137036e-06,1.3779786058876198e-06,1.3785765986540355e-06,1.3843845181327197e-06,1.393979687236424e-06,1.4033837487659184e-06,1.4052483265913907e-06,1.4179094023347716e-06,1.418072201886389e-06,1.4243994428397855e-06,1.4286628129411838e-06,1.4404276953428052e-06,1.4526675613524276e-06,1.4755283928025165e-06,1.4859640486974968e-06,1.4952233868825715e-06,1.5101949202289688e-06,1.5356445146608166e-06,1.5670918855903437e-06,1.5692415900048218e-06,1.576855765961227e-06,1.5789368035257212e-06,1.5832872577448143e-06,1.6071154504970764e-06,1.610180902389402e-06,1.633055603633693e-06,1.633201009099139e-06,1.6396646742578014e-06,1.640448545003892e-06,1.6523347312613623e-06,1.6710383761164849e-06,1.6720603071007645e-06,1.7003443417706876e-06,1.7017503068927908e-06,1.7023197642629384e-06,1.7244177570319152e-06,1.7256742239624145e-06,1.7286404272454092e-06,1.749632588143868e-06,1.7533185427964781e-06,1.7656097952567507e-06,1.779612261998409e-06,1.813698645491968e-06,1.8221245454697055e-06,1.8348105186305474e-06,1.840479058046185e-06,1.8419881371301017e-06,1.8575296962808352e-06,1.8793681419992936e-06,1.8809040511769126e-06,1.8887524220190244e-06,1.8927390783574083e-06,1.913593223434873e-06,1.9252256606705487e-06,1.9697274638019735e-06,1.981781451831921e-06,1.993428440982825e-06,2.0000384211016353e-06,2.002235987674794e-06,2.012137201745645e-06,2.012425966313458e-06,2.0274676444387296e-06,2.0290399334044196e-06,2.0347724785096943e-06,2.0398192646098323e-06,2.0753507214976707e-06,2.0829054392379476e-06,2.082906576106325e-06,2.0957936612830963e-06,2.1184566776355496e-06,2.1225328055152204e-06,2.1337159523682203e-06,2.1366697637859033e-06,2.1751211534137838e-06,2.197149569838075e-06,2.203880512752221e-06,2.2147371510072844e-06,2.2385029296856374e-06,2.2477870516013354e-06,2.2536244159709895e-06,2.2705894480168354e-06,2.2940691906114807e-06,2.2941435418033507e-06,2.300065261806594e-06,2.308466491740546e-06,2.323030685147387e-06,2.323873559362255e-06,2.3264617539098253e-06,2.3328209408646217e-06,2.385475454502739e-06,2.3861134650360327e-06,2.3881596007413464e-06,2.406765133855515e-06,2.423212436042377e-06,2.4490843770763604e-06,2.453478373354301e-06,2.4637379283376504e-06,2.5014894617925165e-06,2.5041965727723436e-06,2.588962161098607e-06,2.62177195509139e-06,2.662162842170801e-06,2.7138967197970487e-06,2.7287267130304826e-06,2.7509970550454454e-06,2.7836247227241984e-06,2.8073193334421376e-06,2.8334745820757234e-06,2.8369715892040404e-06,2.9783277568640187e-06,3.0189862627594266e-06,3.128964863208239e-06,3.1529796160612023e-06,3.162097982567502e-06,3.1925765142659657e-06,3.7877994145674165e-06,3.933801963285077e-06,4.01264469473972e-06],\"type\":\"scatter\"},{\"hoverinfo\":\"text\",\"hovertext\":[\"(5.724358288716758e-06, 6.04944625592907e-06)\",\"(4.82894529341138e-06, 4.92159142595483e-06)\",\"(4.357242687547114e-06, 4.551131041807821e-06)\",\"(3.584806336220936e-06, 4.13202269555768e-06)\",\"(3.5817492971546017e-06, 3.866051883960608e-06)\",\"(3.5760733680945123e-06, 4.004396487289341e-06)\",\"(3.531286211000406e-06, 3.9161700442491565e-06)\",\"(3.408394604775822e-06, 3.4669142223719973e-06)\",\"(3.348806330905063e-06, 3.5847019717039075e-06)\",\"(3.3010312563419575e-06, 3.852188456221484e-06)\",\"(3.2975676731439307e-06, 3.4305719509575283e-06)\",\"(3.19034984386235e-06, 3.443499053901178e-06)\",\"(3.137692829113803e-06, 3.6236922369425884e-06)\",\"(3.08680796479166e-06, 3.2233460842689965e-06)\",\"(3.078858981098165e-06, 3.3281098694715183e-06)\",\"(3.059022674278822e-06, 3.728334377228748e-06)\",\"(2.7030816909245914e-06, 3.473158585620695e-06)\",\"(2.6674936179915676e-06, 2.986191475429223e-06)\",\"(2.6620748485584045e-06, 2.7130122361995745e-06)\",\"(2.6612935926095815e-06, 2.9519762847485254e-06)\",\"(2.6607615382090444e-06, 3.168113153151353e-06)\",\"(2.6476445782463998e-06, 3.954129169869702e-06)\",\"(2.6218667699140497e-06, 2.866878276108764e-06)\",\"(2.620804480102379e-06, 3.6405749597179238e-06)\",\"(2.6016000447270926e-06, 2.9756677122350084e-06)\",\"(2.60075989899633e-06, 3.682344868138898e-06)\",\"(2.599475465103751e-06, 2.8440872483770363e-06)\",\"(2.590760686871363e-06, 2.9273508062033216e-06)\",\"(2.524436240491923e-06, 2.6071347747347318e-06)\",\"(2.515046389817144e-06, 2.516959966669674e-06)\",\"(2.4793755528662587e-06, 3.2582570383965503e-06)\",\"(2.4723967726458795e-06, 3.850422217510641e-06)\",\"(2.4469215986755444e-06, 2.731095946728601e-06)\",\"(2.428998641335056e-06, 2.6640468604455236e-06)\",\"(2.424945478196605e-06, 2.617303380247904e-06)\",\"(2.4125620257109404e-06, 2.979954160764464e-06)\",\"(2.3982420316315256e-06, 2.8233316697878763e-06)\",\"(2.3884986148914322e-06, 3.105219548160676e-06)\",\"(2.3739846710668644e-06, 2.5997089778684312e-06)\",\"(2.362711029491038e-06, 3.1301792660087813e-06)\",\"(2.3614506972080562e-06, 2.763046950349235e-06)\",\"(2.3338652681559324e-06, 2.400782022959902e-06)\",\"(2.2754045403416967e-06, 2.363725798204541e-06)\",\"(2.226873220934067e-06, 2.8176996238471474e-06)\",\"(2.2150711629365105e-06, 2.303509290868533e-06)\",\"(2.1550060864683473e-06, 2.5796095997066004e-06)\",\"(2.134729356839671e-06, 2.4179187221307075e-06)\",\"(2.1322121028788388e-06, 2.2637714209849946e-06)\",\"(2.129151653207373e-06, 2.133422867700574e-06)\",\"(2.1271175683068577e-06, 2.2444592104875483e-06)\",\"(2.1235505300865043e-06, 2.249151975775021e-06)\",\"(2.1000403194193495e-06, 2.170419747926644e-06)\",\"(2.086537733703153e-06, 2.2307199287752155e-06)\",\"(2.0489917460508877e-06, 2.1157022729312303e-06)\",\"(2.0398294964252273e-06, 2.300805363120162e-06)\",\"(2.018648046941962e-06, 2.6208510917058447e-06)\",\"(1.941326445376035e-06, 2.3285497263714205e-06)\",\"(1.8976799083247897e-06, 2.3187399165180977e-06)\",\"(1.8940220343210967e-06, 2.4800710889394395e-06)\",\"(1.8927501059806673e-06, 2.451440877848654e-06)\",\"(1.8417538285575574e-06, 2.547587428125553e-06)\",\"(1.8201293414676911e-06, 1.9897042875527404e-06)\"],\"mode\":\"markers\",\"name\":\"H1\",\"x\":[5.724358288716758e-06,4.82894529341138e-06,4.357242687547114e-06,3.584806336220936e-06,3.5817492971546017e-06,3.5760733680945123e-06,3.531286211000406e-06,3.408394604775822e-06,3.348806330905063e-06,3.3010312563419575e-06,3.2975676731439307e-06,3.19034984386235e-06,3.137692829113803e-06,3.08680796479166e-06,3.078858981098165e-06,3.059022674278822e-06,2.7030816909245914e-06,2.6674936179915676e-06,2.6620748485584045e-06,2.6612935926095815e-06,2.6607615382090444e-06,2.6476445782463998e-06,2.6218667699140497e-06,2.620804480102379e-06,2.6016000447270926e-06,2.60075989899633e-06,2.599475465103751e-06,2.590760686871363e-06,2.524436240491923e-06,2.515046389817144e-06,2.4793755528662587e-06,2.4723967726458795e-06,2.4469215986755444e-06,2.428998641335056e-06,2.424945478196605e-06,2.4125620257109404e-06,2.3982420316315256e-06,2.3884986148914322e-06,2.3739846710668644e-06,2.362711029491038e-06,2.3614506972080562e-06,2.3338652681559324e-06,2.2754045403416967e-06,2.226873220934067e-06,2.2150711629365105e-06,2.1550060864683473e-06,2.134729356839671e-06,2.1322121028788388e-06,2.129151653207373e-06,2.1271175683068577e-06,2.1235505300865043e-06,2.1000403194193495e-06,2.086537733703153e-06,2.0489917460508877e-06,2.0398294964252273e-06,2.018648046941962e-06,1.941326445376035e-06,1.8976799083247897e-06,1.8940220343210967e-06,1.8927501059806673e-06,1.8417538285575574e-06,1.8201293414676911e-06],\"y\":[6.04944625592907e-06,4.92159142595483e-06,4.551131041807821e-06,4.13202269555768e-06,3.866051883960608e-06,4.004396487289341e-06,3.9161700442491565e-06,3.4669142223719973e-06,3.5847019717039075e-06,3.852188456221484e-06,3.4305719509575283e-06,3.443499053901178e-06,3.6236922369425884e-06,3.2233460842689965e-06,3.3281098694715183e-06,3.728334377228748e-06,3.473158585620695e-06,2.986191475429223e-06,2.7130122361995745e-06,2.9519762847485254e-06,3.168113153151353e-06,3.954129169869702e-06,2.866878276108764e-06,3.6405749597179238e-06,2.9756677122350084e-06,3.682344868138898e-06,2.8440872483770363e-06,2.9273508062033216e-06,2.6071347747347318e-06,2.516959966669674e-06,3.2582570383965503e-06,3.850422217510641e-06,2.731095946728601e-06,2.6640468604455236e-06,2.617303380247904e-06,2.979954160764464e-06,2.8233316697878763e-06,3.105219548160676e-06,2.5997089778684312e-06,3.1301792660087813e-06,2.763046950349235e-06,2.400782022959902e-06,2.363725798204541e-06,2.8176996238471474e-06,2.303509290868533e-06,2.5796095997066004e-06,2.4179187221307075e-06,2.2637714209849946e-06,2.133422867700574e-06,2.2444592104875483e-06,2.249151975775021e-06,2.170419747926644e-06,2.2307199287752155e-06,2.1157022729312303e-06,2.300805363120162e-06,2.6208510917058447e-06,2.3285497263714205e-06,2.3187399165180977e-06,2.4800710889394395e-06,2.451440877848654e-06,2.547587428125553e-06,1.9897042875527404e-06],\"type\":\"scatter\"},{\"hoverinfo\":\"text\",\"hovertext\":[\"(4.195684141450329e-06, 4.357185844128253e-06)\",\"(3.960134563385509e-06, 4.565125891531352e-06)\",\"(3.7845009046577616e-06, 3.971370006183861e-06)\",\"(3.7836477986274986e-06, 3.8446833059424534e-06)\",\"(3.736913640750572e-06, 3.9530627873318736e-06)\",\"(3.2065806863101898e-06, 3.2072018711915007e-06)\",\"(3.0070550565142184e-06, 3.1820461572351633e-06)\",\"(2.8709773687296547e-06, 2.883052275137743e-06)\",\"(2.639134663695586e-06, 2.814510708049056e-06)\"],\"mode\":\"markers\",\"name\":\"H2\",\"x\":[4.195684141450329e-06,3.960134563385509e-06,3.7845009046577616e-06,3.7836477986274986e-06,3.736913640750572e-06,3.2065806863101898e-06,3.0070550565142184e-06,2.8709773687296547e-06,2.639134663695586e-06],\"y\":[4.357185844128253e-06,4.565125891531352e-06,3.971370006183861e-06,3.8446833059424534e-06,3.9530627873318736e-06,3.2072018711915007e-06,3.1820461572351633e-06,2.883052275137743e-06,2.814510708049056e-06],\"type\":\"scatter\"}],                        {\"template\":{\"data\":{\"bar\":[{\"error_x\":{\"color\":\"#2a3f5f\"},\"error_y\":{\"color\":\"#2a3f5f\"},\"marker\":{\"line\":{\"color\":\"#E5ECF6\",\"width\":0.5},\"pattern\":{\"fillmode\":\"overlay\",\"size\":10,\"solidity\":0.2}},\"type\":\"bar\"}],\"barpolar\":[{\"marker\":{\"line\":{\"color\":\"#E5ECF6\",\"width\":0.5},\"pattern\":{\"fillmode\":\"overlay\",\"size\":10,\"solidity\":0.2}},\"type\":\"barpolar\"}],\"carpet\":[{\"aaxis\":{\"endlinecolor\":\"#2a3f5f\",\"gridcolor\":\"white\",\"linecolor\":\"white\",\"minorgridcolor\":\"white\",\"startlinecolor\":\"#2a3f5f\"},\"baxis\":{\"endlinecolor\":\"#2a3f5f\",\"gridcolor\":\"white\",\"linecolor\":\"white\",\"minorgridcolor\":\"white\",\"startlinecolor\":\"#2a3f5f\"},\"type\":\"carpet\"}],\"choropleth\":[{\"colorbar\":{\"outlinewidth\":0,\"ticks\":\"\"},\"type\":\"choropleth\"}],\"contour\":[{\"colorbar\":{\"outlinewidth\":0,\"ticks\":\"\"},\"colorscale\":[[0.0,\"#0d0887\"],[0.1111111111111111,\"#46039f\"],[0.2222222222222222,\"#7201a8\"],[0.3333333333333333,\"#9c179e\"],[0.4444444444444444,\"#bd3786\"],[0.5555555555555556,\"#d8576b\"],[0.6666666666666666,\"#ed7953\"],[0.7777777777777778,\"#fb9f3a\"],[0.8888888888888888,\"#fdca26\"],[1.0,\"#f0f921\"]],\"type\":\"contour\"}],\"contourcarpet\":[{\"colorbar\":{\"outlinewidth\":0,\"ticks\":\"\"},\"type\":\"contourcarpet\"}],\"heatmap\":[{\"colorbar\":{\"outlinewidth\":0,\"ticks\":\"\"},\"colorscale\":[[0.0,\"#0d0887\"],[0.1111111111111111,\"#46039f\"],[0.2222222222222222,\"#7201a8\"],[0.3333333333333333,\"#9c179e\"],[0.4444444444444444,\"#bd3786\"],[0.5555555555555556,\"#d8576b\"],[0.6666666666666666,\"#ed7953\"],[0.7777777777777778,\"#fb9f3a\"],[0.8888888888888888,\"#fdca26\"],[1.0,\"#f0f921\"]],\"type\":\"heatmap\"}],\"heatmapgl\":[{\"colorbar\":{\"outlinewidth\":0,\"ticks\":\"\"},\"colorscale\":[[0.0,\"#0d0887\"],[0.1111111111111111,\"#46039f\"],[0.2222222222222222,\"#7201a8\"],[0.3333333333333333,\"#9c179e\"],[0.4444444444444444,\"#bd3786\"],[0.5555555555555556,\"#d8576b\"],[0.6666666666666666,\"#ed7953\"],[0.7777777777777778,\"#fb9f3a\"],[0.8888888888888888,\"#fdca26\"],[1.0,\"#f0f921\"]],\"type\":\"heatmapgl\"}],\"histogram\":[{\"marker\":{\"pattern\":{\"fillmode\":\"overlay\",\"size\":10,\"solidity\":0.2}},\"type\":\"histogram\"}],\"histogram2d\":[{\"colorbar\":{\"outlinewidth\":0,\"ticks\":\"\"},\"colorscale\":[[0.0,\"#0d0887\"],[0.1111111111111111,\"#46039f\"],[0.2222222222222222,\"#7201a8\"],[0.3333333333333333,\"#9c179e\"],[0.4444444444444444,\"#bd3786\"],[0.5555555555555556,\"#d8576b\"],[0.6666666666666666,\"#ed7953\"],[0.7777777777777778,\"#fb9f3a\"],[0.8888888888888888,\"#fdca26\"],[1.0,\"#f0f921\"]],\"type\":\"histogram2d\"}],\"histogram2dcontour\":[{\"colorbar\":{\"outlinewidth\":0,\"ticks\":\"\"},\"colorscale\":[[0.0,\"#0d0887\"],[0.1111111111111111,\"#46039f\"],[0.2222222222222222,\"#7201a8\"],[0.3333333333333333,\"#9c179e\"],[0.4444444444444444,\"#bd3786\"],[0.5555555555555556,\"#d8576b\"],[0.6666666666666666,\"#ed7953\"],[0.7777777777777778,\"#fb9f3a\"],[0.8888888888888888,\"#fdca26\"],[1.0,\"#f0f921\"]],\"type\":\"histogram2dcontour\"}],\"mesh3d\":[{\"colorbar\":{\"outlinewidth\":0,\"ticks\":\"\"},\"type\":\"mesh3d\"}],\"parcoords\":[{\"line\":{\"colorbar\":{\"outlinewidth\":0,\"ticks\":\"\"}},\"type\":\"parcoords\"}],\"pie\":[{\"automargin\":true,\"type\":\"pie\"}],\"scatter\":[{\"marker\":{\"colorbar\":{\"outlinewidth\":0,\"ticks\":\"\"}},\"type\":\"scatter\"}],\"scatter3d\":[{\"line\":{\"colorbar\":{\"outlinewidth\":0,\"ticks\":\"\"}},\"marker\":{\"colorbar\":{\"outlinewidth\":0,\"ticks\":\"\"}},\"type\":\"scatter3d\"}],\"scattercarpet\":[{\"marker\":{\"colorbar\":{\"outlinewidth\":0,\"ticks\":\"\"}},\"type\":\"scattercarpet\"}],\"scattergeo\":[{\"marker\":{\"colorbar\":{\"outlinewidth\":0,\"ticks\":\"\"}},\"type\":\"scattergeo\"}],\"scattergl\":[{\"marker\":{\"colorbar\":{\"outlinewidth\":0,\"ticks\":\"\"}},\"type\":\"scattergl\"}],\"scattermapbox\":[{\"marker\":{\"colorbar\":{\"outlinewidth\":0,\"ticks\":\"\"}},\"type\":\"scattermapbox\"}],\"scatterpolar\":[{\"marker\":{\"colorbar\":{\"outlinewidth\":0,\"ticks\":\"\"}},\"type\":\"scatterpolar\"}],\"scatterpolargl\":[{\"marker\":{\"colorbar\":{\"outlinewidth\":0,\"ticks\":\"\"}},\"type\":\"scatterpolargl\"}],\"scatterternary\":[{\"marker\":{\"colorbar\":{\"outlinewidth\":0,\"ticks\":\"\"}},\"type\":\"scatterternary\"}],\"surface\":[{\"colorbar\":{\"outlinewidth\":0,\"ticks\":\"\"},\"colorscale\":[[0.0,\"#0d0887\"],[0.1111111111111111,\"#46039f\"],[0.2222222222222222,\"#7201a8\"],[0.3333333333333333,\"#9c179e\"],[0.4444444444444444,\"#bd3786\"],[0.5555555555555556,\"#d8576b\"],[0.6666666666666666,\"#ed7953\"],[0.7777777777777778,\"#fb9f3a\"],[0.8888888888888888,\"#fdca26\"],[1.0,\"#f0f921\"]],\"type\":\"surface\"}],\"table\":[{\"cells\":{\"fill\":{\"color\":\"#EBF0F8\"},\"line\":{\"color\":\"white\"}},\"header\":{\"fill\":{\"color\":\"#C8D4E3\"},\"line\":{\"color\":\"white\"}},\"type\":\"table\"}]},\"layout\":{\"annotationdefaults\":{\"arrowcolor\":\"#2a3f5f\",\"arrowhead\":0,\"arrowwidth\":1},\"autotypenumbers\":\"strict\",\"coloraxis\":{\"colorbar\":{\"outlinewidth\":0,\"ticks\":\"\"}},\"colorscale\":{\"diverging\":[[0,\"#8e0152\"],[0.1,\"#c51b7d\"],[0.2,\"#de77ae\"],[0.3,\"#f1b6da\"],[0.4,\"#fde0ef\"],[0.5,\"#f7f7f7\"],[0.6,\"#e6f5d0\"],[0.7,\"#b8e186\"],[0.8,\"#7fbc41\"],[0.9,\"#4d9221\"],[1,\"#276419\"]],\"sequential\":[[0.0,\"#0d0887\"],[0.1111111111111111,\"#46039f\"],[0.2222222222222222,\"#7201a8\"],[0.3333333333333333,\"#9c179e\"],[0.4444444444444444,\"#bd3786\"],[0.5555555555555556,\"#d8576b\"],[0.6666666666666666,\"#ed7953\"],[0.7777777777777778,\"#fb9f3a\"],[0.8888888888888888,\"#fdca26\"],[1.0,\"#f0f921\"]],\"sequentialminus\":[[0.0,\"#0d0887\"],[0.1111111111111111,\"#46039f\"],[0.2222222222222222,\"#7201a8\"],[0.3333333333333333,\"#9c179e\"],[0.4444444444444444,\"#bd3786\"],[0.5555555555555556,\"#d8576b\"],[0.6666666666666666,\"#ed7953\"],[0.7777777777777778,\"#fb9f3a\"],[0.8888888888888888,\"#fdca26\"],[1.0,\"#f0f921\"]]},\"colorway\":[\"#636efa\",\"#EF553B\",\"#00cc96\",\"#ab63fa\",\"#FFA15A\",\"#19d3f3\",\"#FF6692\",\"#B6E880\",\"#FF97FF\",\"#FECB52\"],\"font\":{\"color\":\"#2a3f5f\"},\"geo\":{\"bgcolor\":\"white\",\"lakecolor\":\"white\",\"landcolor\":\"#E5ECF6\",\"showlakes\":true,\"showland\":true,\"subunitcolor\":\"white\"},\"hoverlabel\":{\"align\":\"left\"},\"hovermode\":\"closest\",\"mapbox\":{\"style\":\"light\"},\"paper_bgcolor\":\"white\",\"plot_bgcolor\":\"#E5ECF6\",\"polar\":{\"angularaxis\":{\"gridcolor\":\"white\",\"linecolor\":\"white\",\"ticks\":\"\"},\"bgcolor\":\"#E5ECF6\",\"radialaxis\":{\"gridcolor\":\"white\",\"linecolor\":\"white\",\"ticks\":\"\"}},\"scene\":{\"xaxis\":{\"backgroundcolor\":\"#E5ECF6\",\"gridcolor\":\"white\",\"gridwidth\":2,\"linecolor\":\"white\",\"showbackground\":true,\"ticks\":\"\",\"zerolinecolor\":\"white\"},\"yaxis\":{\"backgroundcolor\":\"#E5ECF6\",\"gridcolor\":\"white\",\"gridwidth\":2,\"linecolor\":\"white\",\"showbackground\":true,\"ticks\":\"\",\"zerolinecolor\":\"white\"},\"zaxis\":{\"backgroundcolor\":\"#E5ECF6\",\"gridcolor\":\"white\",\"gridwidth\":2,\"linecolor\":\"white\",\"showbackground\":true,\"ticks\":\"\",\"zerolinecolor\":\"white\"}},\"shapedefaults\":{\"line\":{\"color\":\"#2a3f5f\"}},\"ternary\":{\"aaxis\":{\"gridcolor\":\"white\",\"linecolor\":\"white\",\"ticks\":\"\"},\"baxis\":{\"gridcolor\":\"white\",\"linecolor\":\"white\",\"ticks\":\"\"},\"bgcolor\":\"#E5ECF6\",\"caxis\":{\"gridcolor\":\"white\",\"linecolor\":\"white\",\"ticks\":\"\"}},\"title\":{\"x\":0.05},\"xaxis\":{\"automargin\":true,\"gridcolor\":\"white\",\"linecolor\":\"white\",\"ticks\":\"\",\"title\":{\"standoff\":15},\"zerolinecolor\":\"white\",\"zerolinewidth\":2},\"yaxis\":{\"automargin\":true,\"gridcolor\":\"white\",\"linecolor\":\"white\",\"ticks\":\"\",\"title\":{\"standoff\":15},\"zerolinecolor\":\"white\",\"zerolinewidth\":2}}},\"xaxis\":{\"title\":{\"text\":\"Birth\"},\"side\":\"bottom\",\"type\":\"linear\",\"range\":[-1.209889251185814e-07,6.170435181047651e-06],\"autorange\":false,\"ticks\":\"outside\",\"showline\":true,\"zeroline\":true,\"linewidth\":1,\"linecolor\":\"black\",\"mirror\":false,\"showexponent\":\"all\",\"exponentformat\":\"e\"},\"yaxis\":{\"title\":{\"text\":\"Death\"},\"side\":\"left\",\"type\":\"linear\",\"range\":[-1.209889251185814e-07,6.170435181047651e-06],\"autorange\":false,\"scaleanchor\":\"x\",\"scaleratio\":1,\"ticks\":\"outside\",\"showline\":true,\"zeroline\":true,\"linewidth\":1,\"linecolor\":\"black\",\"mirror\":false,\"showexponent\":\"all\",\"exponentformat\":\"e\"},\"width\":500,\"height\":500,\"plot_bgcolor\":\"white\"},                        {\"responsive\": true}                    ).then(function(){\n",
       "                            \n",
       "var gd = document.getElementById('683de39c-57b3-4408-9625-f291fe5c78b6');\n",
       "var x = new MutationObserver(function (mutations, observer) {{\n",
       "        var display = window.getComputedStyle(gd).display;\n",
       "        if (!display || display === 'none') {{\n",
       "            console.log([gd, 'removed!']);\n",
       "            Plotly.purge(gd);\n",
       "            observer.disconnect();\n",
       "        }}\n",
       "}});\n",
       "\n",
       "// Listen for the removal of the full notebook cells\n",
       "var notebookContainer = gd.closest('#notebook-container');\n",
       "if (notebookContainer) {{\n",
       "    x.observe(notebookContainer, {childList: true});\n",
       "}}\n",
       "\n",
       "// Listen for the clearing of the current output cell\n",
       "var outputEl = gd.closest('.output');\n",
       "if (outputEl) {{\n",
       "    x.observe(outputEl, {childList: true});\n",
       "}}\n",
       "\n",
       "                        })                };                            </script>        </div>\n",
       "</body>\n",
       "</html>"
      ]
     },
     "metadata": {},
     "output_type": "display_data"
    },
    {
     "data": {
      "text/plain": [
       "array([[[0.00000000e+00, 2.74064263e-07, 0.00000000e+00],\n",
       "        [0.00000000e+00, 3.46944972e-07, 0.00000000e+00],\n",
       "        [0.00000000e+00, 3.65284336e-07, 0.00000000e+00],\n",
       "        [0.00000000e+00, 6.63441142e-07, 0.00000000e+00],\n",
       "        [0.00000000e+00, 6.86488420e-07, 0.00000000e+00],\n",
       "        [0.00000000e+00, 7.15882379e-07, 0.00000000e+00],\n",
       "        [0.00000000e+00, 7.32955300e-07, 0.00000000e+00],\n",
       "        [0.00000000e+00, 8.02591615e-07, 0.00000000e+00],\n",
       "        [0.00000000e+00, 8.31667705e-07, 0.00000000e+00],\n",
       "        [0.00000000e+00, 9.12478470e-07, 0.00000000e+00],\n",
       "        [0.00000000e+00, 9.29409225e-07, 0.00000000e+00],\n",
       "        [0.00000000e+00, 9.41982591e-07, 0.00000000e+00],\n",
       "        [0.00000000e+00, 9.47148635e-07, 0.00000000e+00],\n",
       "        [0.00000000e+00, 9.48348088e-07, 0.00000000e+00],\n",
       "        [0.00000000e+00, 1.00823399e-06, 0.00000000e+00],\n",
       "        [0.00000000e+00, 1.01375474e-06, 0.00000000e+00],\n",
       "        [0.00000000e+00, 1.01938326e-06, 0.00000000e+00],\n",
       "        [0.00000000e+00, 1.01999512e-06, 0.00000000e+00],\n",
       "        [0.00000000e+00, 1.02226716e-06, 0.00000000e+00],\n",
       "        [0.00000000e+00, 1.02597926e-06, 0.00000000e+00],\n",
       "        [0.00000000e+00, 1.04577998e-06, 0.00000000e+00],\n",
       "        [0.00000000e+00, 1.06579637e-06, 0.00000000e+00],\n",
       "        [0.00000000e+00, 1.07771859e-06, 0.00000000e+00],\n",
       "        [0.00000000e+00, 1.11477448e-06, 0.00000000e+00],\n",
       "        [0.00000000e+00, 1.12221210e-06, 0.00000000e+00],\n",
       "        [0.00000000e+00, 1.14528143e-06, 0.00000000e+00],\n",
       "        [0.00000000e+00, 1.16479373e-06, 0.00000000e+00],\n",
       "        [0.00000000e+00, 1.16753472e-06, 0.00000000e+00],\n",
       "        [0.00000000e+00, 1.17589866e-06, 0.00000000e+00],\n",
       "        [0.00000000e+00, 1.18090770e-06, 0.00000000e+00],\n",
       "        [0.00000000e+00, 1.18607602e-06, 0.00000000e+00],\n",
       "        [0.00000000e+00, 1.20512357e-06, 0.00000000e+00],\n",
       "        [0.00000000e+00, 1.20901871e-06, 0.00000000e+00],\n",
       "        [0.00000000e+00, 1.20939967e-06, 0.00000000e+00],\n",
       "        [0.00000000e+00, 1.21304731e-06, 0.00000000e+00],\n",
       "        [0.00000000e+00, 1.21643905e-06, 0.00000000e+00],\n",
       "        [0.00000000e+00, 1.24498069e-06, 0.00000000e+00],\n",
       "        [0.00000000e+00, 1.27253043e-06, 0.00000000e+00],\n",
       "        [0.00000000e+00, 1.27311432e-06, 0.00000000e+00],\n",
       "        [0.00000000e+00, 1.27486828e-06, 0.00000000e+00],\n",
       "        [0.00000000e+00, 1.28947988e-06, 0.00000000e+00],\n",
       "        [0.00000000e+00, 1.29123327e-06, 0.00000000e+00],\n",
       "        [0.00000000e+00, 1.34513414e-06, 0.00000000e+00],\n",
       "        [0.00000000e+00, 1.35928462e-06, 0.00000000e+00],\n",
       "        [0.00000000e+00, 1.37797861e-06, 0.00000000e+00],\n",
       "        [0.00000000e+00, 1.37857660e-06, 0.00000000e+00],\n",
       "        [0.00000000e+00, 1.38438452e-06, 0.00000000e+00],\n",
       "        [0.00000000e+00, 1.39397969e-06, 0.00000000e+00],\n",
       "        [0.00000000e+00, 1.40338375e-06, 0.00000000e+00],\n",
       "        [0.00000000e+00, 1.40524833e-06, 0.00000000e+00],\n",
       "        [0.00000000e+00, 1.41790940e-06, 0.00000000e+00],\n",
       "        [0.00000000e+00, 1.41807220e-06, 0.00000000e+00],\n",
       "        [0.00000000e+00, 1.42439944e-06, 0.00000000e+00],\n",
       "        [0.00000000e+00, 1.42866281e-06, 0.00000000e+00],\n",
       "        [0.00000000e+00, 1.44042770e-06, 0.00000000e+00],\n",
       "        [0.00000000e+00, 1.45266756e-06, 0.00000000e+00],\n",
       "        [0.00000000e+00, 1.47552839e-06, 0.00000000e+00],\n",
       "        [0.00000000e+00, 1.48596405e-06, 0.00000000e+00],\n",
       "        [0.00000000e+00, 1.49522339e-06, 0.00000000e+00],\n",
       "        [0.00000000e+00, 1.51019492e-06, 0.00000000e+00],\n",
       "        [0.00000000e+00, 1.53564451e-06, 0.00000000e+00],\n",
       "        [0.00000000e+00, 1.56709189e-06, 0.00000000e+00],\n",
       "        [0.00000000e+00, 1.56924159e-06, 0.00000000e+00],\n",
       "        [0.00000000e+00, 1.57685577e-06, 0.00000000e+00],\n",
       "        [0.00000000e+00, 1.57893680e-06, 0.00000000e+00],\n",
       "        [0.00000000e+00, 1.58328726e-06, 0.00000000e+00],\n",
       "        [0.00000000e+00, 1.60711545e-06, 0.00000000e+00],\n",
       "        [0.00000000e+00, 1.61018090e-06, 0.00000000e+00],\n",
       "        [0.00000000e+00, 1.63305560e-06, 0.00000000e+00],\n",
       "        [0.00000000e+00, 1.63320101e-06, 0.00000000e+00],\n",
       "        [0.00000000e+00, 1.63966467e-06, 0.00000000e+00],\n",
       "        [0.00000000e+00, 1.64044855e-06, 0.00000000e+00],\n",
       "        [0.00000000e+00, 1.65233473e-06, 0.00000000e+00],\n",
       "        [0.00000000e+00, 1.67103838e-06, 0.00000000e+00],\n",
       "        [0.00000000e+00, 1.67206031e-06, 0.00000000e+00],\n",
       "        [0.00000000e+00, 1.70034434e-06, 0.00000000e+00],\n",
       "        [0.00000000e+00, 1.70175031e-06, 0.00000000e+00],\n",
       "        [0.00000000e+00, 1.70231976e-06, 0.00000000e+00],\n",
       "        [0.00000000e+00, 1.72441776e-06, 0.00000000e+00],\n",
       "        [0.00000000e+00, 1.72567422e-06, 0.00000000e+00],\n",
       "        [0.00000000e+00, 1.72864043e-06, 0.00000000e+00],\n",
       "        [0.00000000e+00, 1.74963259e-06, 0.00000000e+00],\n",
       "        [0.00000000e+00, 1.75331854e-06, 0.00000000e+00],\n",
       "        [0.00000000e+00, 1.76560980e-06, 0.00000000e+00],\n",
       "        [0.00000000e+00, 1.77961226e-06, 0.00000000e+00],\n",
       "        [0.00000000e+00, 1.81369865e-06, 0.00000000e+00],\n",
       "        [0.00000000e+00, 1.82212455e-06, 0.00000000e+00],\n",
       "        [0.00000000e+00, 1.83481052e-06, 0.00000000e+00],\n",
       "        [0.00000000e+00, 1.84047906e-06, 0.00000000e+00],\n",
       "        [0.00000000e+00, 1.84198814e-06, 0.00000000e+00],\n",
       "        [0.00000000e+00, 1.85752970e-06, 0.00000000e+00],\n",
       "        [0.00000000e+00, 1.87936814e-06, 0.00000000e+00],\n",
       "        [0.00000000e+00, 1.88090405e-06, 0.00000000e+00],\n",
       "        [0.00000000e+00, 1.88875242e-06, 0.00000000e+00],\n",
       "        [0.00000000e+00, 1.89273908e-06, 0.00000000e+00],\n",
       "        [0.00000000e+00, 1.91359322e-06, 0.00000000e+00],\n",
       "        [0.00000000e+00, 1.92522566e-06, 0.00000000e+00],\n",
       "        [0.00000000e+00, 1.96972746e-06, 0.00000000e+00],\n",
       "        [0.00000000e+00, 1.98178145e-06, 0.00000000e+00],\n",
       "        [0.00000000e+00, 1.99342844e-06, 0.00000000e+00],\n",
       "        [0.00000000e+00, 2.00003842e-06, 0.00000000e+00],\n",
       "        [0.00000000e+00, 2.00223599e-06, 0.00000000e+00],\n",
       "        [0.00000000e+00, 2.01213720e-06, 0.00000000e+00],\n",
       "        [0.00000000e+00, 2.01242597e-06, 0.00000000e+00],\n",
       "        [0.00000000e+00, 2.02746764e-06, 0.00000000e+00],\n",
       "        [0.00000000e+00, 2.02903993e-06, 0.00000000e+00],\n",
       "        [0.00000000e+00, 2.03477248e-06, 0.00000000e+00],\n",
       "        [0.00000000e+00, 2.03981926e-06, 0.00000000e+00],\n",
       "        [0.00000000e+00, 2.07535072e-06, 0.00000000e+00],\n",
       "        [0.00000000e+00, 2.08290544e-06, 0.00000000e+00],\n",
       "        [0.00000000e+00, 2.08290658e-06, 0.00000000e+00],\n",
       "        [0.00000000e+00, 2.09579366e-06, 0.00000000e+00],\n",
       "        [0.00000000e+00, 2.11845668e-06, 0.00000000e+00],\n",
       "        [0.00000000e+00, 2.12253281e-06, 0.00000000e+00],\n",
       "        [0.00000000e+00, 2.13371595e-06, 0.00000000e+00],\n",
       "        [0.00000000e+00, 2.13666976e-06, 0.00000000e+00],\n",
       "        [0.00000000e+00, 2.17512115e-06, 0.00000000e+00],\n",
       "        [0.00000000e+00, 2.19714957e-06, 0.00000000e+00],\n",
       "        [0.00000000e+00, 2.20388051e-06, 0.00000000e+00],\n",
       "        [0.00000000e+00, 2.21473715e-06, 0.00000000e+00],\n",
       "        [0.00000000e+00, 2.23850293e-06, 0.00000000e+00],\n",
       "        [0.00000000e+00, 2.24778705e-06, 0.00000000e+00],\n",
       "        [0.00000000e+00, 2.25362442e-06, 0.00000000e+00],\n",
       "        [0.00000000e+00, 2.27058945e-06, 0.00000000e+00],\n",
       "        [0.00000000e+00, 2.29406919e-06, 0.00000000e+00],\n",
       "        [0.00000000e+00, 2.29414354e-06, 0.00000000e+00],\n",
       "        [0.00000000e+00, 2.30006526e-06, 0.00000000e+00],\n",
       "        [0.00000000e+00, 2.30846649e-06, 0.00000000e+00],\n",
       "        [0.00000000e+00, 2.32303069e-06, 0.00000000e+00],\n",
       "        [0.00000000e+00, 2.32387356e-06, 0.00000000e+00],\n",
       "        [0.00000000e+00, 2.32646175e-06, 0.00000000e+00],\n",
       "        [0.00000000e+00, 2.33282094e-06, 0.00000000e+00],\n",
       "        [0.00000000e+00, 2.38547545e-06, 0.00000000e+00],\n",
       "        [0.00000000e+00, 2.38611347e-06, 0.00000000e+00],\n",
       "        [0.00000000e+00, 2.38815960e-06, 0.00000000e+00],\n",
       "        [0.00000000e+00, 2.40676513e-06, 0.00000000e+00],\n",
       "        [0.00000000e+00, 2.42321244e-06, 0.00000000e+00],\n",
       "        [0.00000000e+00, 2.44908438e-06, 0.00000000e+00],\n",
       "        [0.00000000e+00, 2.45347837e-06, 0.00000000e+00],\n",
       "        [0.00000000e+00, 2.46373793e-06, 0.00000000e+00],\n",
       "        [0.00000000e+00, 2.50148946e-06, 0.00000000e+00],\n",
       "        [0.00000000e+00, 2.50419657e-06, 0.00000000e+00],\n",
       "        [0.00000000e+00, 2.58896216e-06, 0.00000000e+00],\n",
       "        [0.00000000e+00, 2.62177196e-06, 0.00000000e+00],\n",
       "        [0.00000000e+00, 2.66216284e-06, 0.00000000e+00],\n",
       "        [0.00000000e+00, 2.71389672e-06, 0.00000000e+00],\n",
       "        [0.00000000e+00, 2.72872671e-06, 0.00000000e+00],\n",
       "        [0.00000000e+00, 2.75099706e-06, 0.00000000e+00],\n",
       "        [0.00000000e+00, 2.78362472e-06, 0.00000000e+00],\n",
       "        [0.00000000e+00, 2.80731933e-06, 0.00000000e+00],\n",
       "        [0.00000000e+00, 2.83347458e-06, 0.00000000e+00],\n",
       "        [0.00000000e+00, 2.83697159e-06, 0.00000000e+00],\n",
       "        [0.00000000e+00, 2.97832776e-06, 0.00000000e+00],\n",
       "        [0.00000000e+00, 3.01898626e-06, 0.00000000e+00],\n",
       "        [0.00000000e+00, 3.12896486e-06, 0.00000000e+00],\n",
       "        [0.00000000e+00, 3.15297962e-06, 0.00000000e+00],\n",
       "        [0.00000000e+00, 3.16209798e-06, 0.00000000e+00],\n",
       "        [0.00000000e+00, 3.19257651e-06, 0.00000000e+00],\n",
       "        [0.00000000e+00, 3.78779941e-06, 0.00000000e+00],\n",
       "        [0.00000000e+00, 3.93380196e-06, 0.00000000e+00],\n",
       "        [0.00000000e+00, 4.01264469e-06, 0.00000000e+00],\n",
       "        [5.72435829e-06, 6.04944626e-06, 1.00000000e+00],\n",
       "        [4.82894529e-06, 4.92159143e-06, 1.00000000e+00],\n",
       "        [4.35724269e-06, 4.55113104e-06, 1.00000000e+00],\n",
       "        [3.58480634e-06, 4.13202270e-06, 1.00000000e+00],\n",
       "        [3.58174930e-06, 3.86605188e-06, 1.00000000e+00],\n",
       "        [3.57607337e-06, 4.00439649e-06, 1.00000000e+00],\n",
       "        [3.53128621e-06, 3.91617004e-06, 1.00000000e+00],\n",
       "        [3.40839460e-06, 3.46691422e-06, 1.00000000e+00],\n",
       "        [3.34880633e-06, 3.58470197e-06, 1.00000000e+00],\n",
       "        [3.30103126e-06, 3.85218846e-06, 1.00000000e+00],\n",
       "        [3.29756767e-06, 3.43057195e-06, 1.00000000e+00],\n",
       "        [3.19034984e-06, 3.44349905e-06, 1.00000000e+00],\n",
       "        [3.13769283e-06, 3.62369224e-06, 1.00000000e+00],\n",
       "        [3.08680796e-06, 3.22334608e-06, 1.00000000e+00],\n",
       "        [3.07885898e-06, 3.32810987e-06, 1.00000000e+00],\n",
       "        [3.05902267e-06, 3.72833438e-06, 1.00000000e+00],\n",
       "        [2.70308169e-06, 3.47315859e-06, 1.00000000e+00],\n",
       "        [2.66749362e-06, 2.98619148e-06, 1.00000000e+00],\n",
       "        [2.66207485e-06, 2.71301224e-06, 1.00000000e+00],\n",
       "        [2.66129359e-06, 2.95197628e-06, 1.00000000e+00],\n",
       "        [2.66076154e-06, 3.16811315e-06, 1.00000000e+00],\n",
       "        [2.64764458e-06, 3.95412917e-06, 1.00000000e+00],\n",
       "        [2.62186677e-06, 2.86687828e-06, 1.00000000e+00],\n",
       "        [2.62080448e-06, 3.64057496e-06, 1.00000000e+00],\n",
       "        [2.60160004e-06, 2.97566771e-06, 1.00000000e+00],\n",
       "        [2.60075990e-06, 3.68234487e-06, 1.00000000e+00],\n",
       "        [2.59947547e-06, 2.84408725e-06, 1.00000000e+00],\n",
       "        [2.59076069e-06, 2.92735081e-06, 1.00000000e+00],\n",
       "        [2.52443624e-06, 2.60713477e-06, 1.00000000e+00],\n",
       "        [2.51504639e-06, 2.51695997e-06, 1.00000000e+00],\n",
       "        [2.47937555e-06, 3.25825704e-06, 1.00000000e+00],\n",
       "        [2.47239677e-06, 3.85042222e-06, 1.00000000e+00],\n",
       "        [2.44692160e-06, 2.73109595e-06, 1.00000000e+00],\n",
       "        [2.42899864e-06, 2.66404686e-06, 1.00000000e+00],\n",
       "        [2.42494548e-06, 2.61730338e-06, 1.00000000e+00],\n",
       "        [2.41256203e-06, 2.97995416e-06, 1.00000000e+00],\n",
       "        [2.39824203e-06, 2.82333167e-06, 1.00000000e+00],\n",
       "        [2.38849861e-06, 3.10521955e-06, 1.00000000e+00],\n",
       "        [2.37398467e-06, 2.59970898e-06, 1.00000000e+00],\n",
       "        [2.36271103e-06, 3.13017927e-06, 1.00000000e+00],\n",
       "        [2.36145070e-06, 2.76304695e-06, 1.00000000e+00],\n",
       "        [2.33386527e-06, 2.40078202e-06, 1.00000000e+00],\n",
       "        [2.27540454e-06, 2.36372580e-06, 1.00000000e+00],\n",
       "        [2.22687322e-06, 2.81769962e-06, 1.00000000e+00],\n",
       "        [2.21507116e-06, 2.30350929e-06, 1.00000000e+00],\n",
       "        [2.15500609e-06, 2.57960960e-06, 1.00000000e+00],\n",
       "        [2.13472936e-06, 2.41791872e-06, 1.00000000e+00],\n",
       "        [2.13221210e-06, 2.26377142e-06, 1.00000000e+00],\n",
       "        [2.12915165e-06, 2.13342287e-06, 1.00000000e+00],\n",
       "        [2.12711757e-06, 2.24445921e-06, 1.00000000e+00],\n",
       "        [2.12355053e-06, 2.24915198e-06, 1.00000000e+00],\n",
       "        [2.10004032e-06, 2.17041975e-06, 1.00000000e+00],\n",
       "        [2.08653773e-06, 2.23071993e-06, 1.00000000e+00],\n",
       "        [2.04899175e-06, 2.11570227e-06, 1.00000000e+00],\n",
       "        [2.03982950e-06, 2.30080536e-06, 1.00000000e+00],\n",
       "        [2.01864805e-06, 2.62085109e-06, 1.00000000e+00],\n",
       "        [1.94132645e-06, 2.32854973e-06, 1.00000000e+00],\n",
       "        [1.89767991e-06, 2.31873992e-06, 1.00000000e+00],\n",
       "        [1.89402203e-06, 2.48007109e-06, 1.00000000e+00],\n",
       "        [1.89275011e-06, 2.45144088e-06, 1.00000000e+00],\n",
       "        [1.84175383e-06, 2.54758743e-06, 1.00000000e+00],\n",
       "        [1.82012934e-06, 1.98970429e-06, 1.00000000e+00],\n",
       "        [4.19568414e-06, 4.35718584e-06, 2.00000000e+00],\n",
       "        [3.96013456e-06, 4.56512589e-06, 2.00000000e+00],\n",
       "        [3.78450090e-06, 3.97137001e-06, 2.00000000e+00],\n",
       "        [3.78364780e-06, 3.84468331e-06, 2.00000000e+00],\n",
       "        [3.73691364e-06, 3.95306279e-06, 2.00000000e+00],\n",
       "        [3.20658069e-06, 3.20720187e-06, 2.00000000e+00],\n",
       "        [3.00705506e-06, 3.18204616e-06, 2.00000000e+00],\n",
       "        [2.87097737e-06, 2.88305228e-06, 2.00000000e+00],\n",
       "        [2.63913466e-06, 2.81451071e-06, 2.00000000e+00]]])"
      ]
     },
     "execution_count": 58,
     "metadata": {},
     "output_type": "execute_result"
    }
   ],
   "source": [
    "# Build persistent diagram\n",
    "homology_dimensions = [0, 1, 2]\n",
    "\n",
    "persistence = VietorisRipsPersistence(\n",
    "    homology_dimensions=homology_dimensions, n_jobs=6\n",
    ")\n",
    "\n",
    "m10_sample_per_diag = persistence.fit_transform(m10_sample_point_cl)\n",
    "\n",
    "print(\"Persistence diagram for signal\")\n",
    "persistence.fit_transform_plot(m10_sample_point_cl)"
   ]
  },
  {
   "cell_type": "markdown",
   "metadata": {
    "id": "tdvgiujQzUGh"
   },
   "source": [
    "# Testing TDA methods on single epoch of 1 channel"
   ]
  },
  {
   "cell_type": "code",
   "execution_count": null,
   "metadata": {
    "colab": {
     "base_uri": "https://localhost:8080/"
    },
    "executionInfo": {
     "elapsed": 254,
     "status": "ok",
     "timestamp": 1630080387041,
     "user": {
      "displayName": "Екатерина Михайлец",
      "photoUrl": "",
      "userId": "03958266793788218532"
     },
     "user_tz": -180
    },
    "id": "J18dJVecReFC",
    "outputId": "fbf39017-afaa-48b2-9f9f-0fc742de698e"
   },
   "outputs": [
    {
     "name": "stdout",
     "output_type": "stream",
     "text": [
      "time_delay =  3\n",
      "dimension =  5\n"
     ]
    }
   ],
   "source": [
    "m10_sample_ts = epochs.get_data(picks=0, item=0).reshape(epochs.get_data().shape[2])\n",
    "time_delay, dimension = takens_embedding_optimal_parameters(m10_sample_ts,10, 10)\n",
    "print('time_delay = ', time_delay)\n",
    "print('dimension = ', dimension)"
   ]
  },
  {
   "cell_type": "code",
   "execution_count": null,
   "metadata": {
    "id": "D5j2Jsr0uTH8"
   },
   "outputs": [],
   "source": [
    "embedding_dimension = 3\n",
    "embedding_time_delay = 8\n",
    "stride = 3\n",
    "\n",
    "embedder_sample = SingleTakensEmbedding(\n",
    "    parameters_type=\"fixed\",\n",
    "#    n_jobs=2,\n",
    "    time_delay=embedding_time_delay,\n",
    "    dimension=embedding_dimension,\n",
    "    stride=stride,\n",
    ")"
   ]
  },
  {
   "cell_type": "code",
   "execution_count": null,
   "metadata": {
    "colab": {
     "base_uri": "https://localhost:8080/",
     "height": 560
    },
    "executionInfo": {
     "elapsed": 265,
     "status": "ok",
     "timestamp": 1630060591251,
     "user": {
      "displayName": "Екатерина Михайлец",
      "photoUrl": "",
      "userId": "03958266793788218532"
     },
     "user_tz": -180
    },
    "id": "FDvkUwfWvcAi",
    "outputId": "141872db-f15f-45a5-a21d-2a39dd715e10"
   },
   "outputs": [
    {
     "name": "stdout",
     "output_type": "stream",
     "text": [
      "Shape of embedded time series: (128, 3)\n"
     ]
    },
    {
     "data": {
      "text/html": [
       "<html>\n",
       "<head><meta charset=\"utf-8\" /></head>\n",
       "<body>\n",
       "    <div>            <script src=\"https://cdnjs.cloudflare.com/ajax/libs/mathjax/2.7.5/MathJax.js?config=TeX-AMS-MML_SVG\"></script><script type=\"text/javascript\">if (window.MathJax) {MathJax.Hub.Config({SVG: {font: \"STIX-Web\"}});}</script>                <script type=\"text/javascript\">window.PlotlyConfig = {MathJaxConfig: 'local'};</script>\n",
       "        <script src=\"https://cdn.plot.ly/plotly-2.3.1.min.js\"></script>                <div id=\"f2358ee3-2ea0-4463-a689-7ca7643ae545\" class=\"plotly-graph-div\" style=\"height:525px; width:100%;\"></div>            <script type=\"text/javascript\">                                    window.PLOTLYENV=window.PLOTLYENV || {};                                    if (document.getElementById(\"f2358ee3-2ea0-4463-a689-7ca7643ae545\")) {                    Plotly.newPlot(                        \"f2358ee3-2ea0-4463-a689-7ca7643ae545\",                        [{\"marker\":{\"color\":[0,1,2,3,4,5,6,7,8,9,10,11,12,13,14,15,16,17,18,19,20,21,22,23,24,25,26,27,28,29,30,31,32,33,34,35,36,37,38,39,40,41,42,43,44,45,46,47,48,49,50,51,52,53,54,55,56,57,58,59,60,61,62,63,64,65,66,67,68,69,70,71,72,73,74,75,76,77,78,79,80,81,82,83,84,85,86,87,88,89,90,91,92,93,94,95,96,97,98,99,100,101,102,103,104,105,106,107,108,109,110,111,112,113,114,115,116,117,118,119,120,121,122,123,124,125,126,127],\"colorscale\":[[0.0,\"#440154\"],[0.1111111111111111,\"#482878\"],[0.2222222222222222,\"#3e4989\"],[0.3333333333333333,\"#31688e\"],[0.4444444444444444,\"#26828e\"],[0.5555555555555556,\"#1f9e89\"],[0.6666666666666666,\"#35b779\"],[0.7777777777777778,\"#6ece58\"],[0.8888888888888888,\"#b5de2b\"],[1.0,\"#fde725\"]],\"opacity\":0.8,\"size\":4},\"mode\":\"markers\",\"type\":\"scatter3d\",\"x\":[-1.7923453097354555e-05,-1.7502076800289394e-06,1.451226157176609e-05,1.0664508411976874e-05,-1.4380980576402302e-05,1.3362689572881183e-05,8.20499637602917e-06,3.7773088625563435e-06,-1.0563964061298339e-05,1.479684527792843e-05,2.1583274803328117e-05,-3.2659572305145846e-06,-9.369899718632623e-06,1.0916451252608253e-05,3.0993475806458206e-06,-2.1324637525032773e-05,-1.4309022996861544e-05,1.6588714773869823e-05,1.3301244173755038e-06,-1.1830028253970276e-05,1.6783156957814605e-06,1.98996445119705e-05,1.455686707892893e-06,-1.6791771625466724e-05,6.22026067362416e-06,2.306921719580386e-05,7.006426660117962e-06,-7.707012772347598e-06,8.087033217070186e-06,7.89533000522194e-06,-4.635673719051321e-06,-1.3767394005529136e-05,1.6513979418614186e-05,1.746268672970484e-05,3.2019544310977675e-07,-9.557050307886688e-06,1.0043235990756698e-05,1.1012894002509055e-05,-4.560121016444568e-06,-1.635430208426506e-05,9.378468577777547e-06,-1.12144451708491e-06,-7.978080456596552e-06,-1.9583071345006094e-05,7.785241345969611e-06,1.9514032601391464e-06,-1.613944306181812e-05,-1.7216706408346117e-05,1.77846861500255e-05,-7.430755599269831e-06,-2.219780004884322e-05,-1.626857563082884e-05,1.0286592842278764e-05,7.002655141715715e-07,-1.2211566013113304e-05,5.431269839857872e-07,1.69973420283492e-05,8.553390579055298e-06,-1.1697475255266742e-05,1.0375922180007874e-05,2.351266111318557e-05,-6.9094885387255805e-06,-1.3814951201885717e-05,-1.0171242213286353e-06,1.5104859981252524e-05,-7.193271530142794e-06,-1.780994157492051e-05,1.4460176495410015e-05,3.731272205447608e-06,-1.4315599401195776e-05,-1.0963228262817367e-06,1.8420060641674587e-05,7.580305380493344e-06,-1.316838723792611e-05,-8.712881939623339e-06,8.738027649192042e-06,-1.3314098653082535e-06,-9.273099959407199e-06,1.304370836735448e-06,3.0974574662920426e-06,5.161213316638811e-06,-1.02654700769437e-05,2.3197181691761274e-05,2.666679909155097e-05,2.973636632715493e-06,-3.840508889028204e-06,1.3291861667945583e-05,7.2771734890852245e-06,-9.953638511579077e-06,-1.832684908205392e-05,1.203745673277743e-05,1.7077759074969493e-05,-1.929309256012019e-06,-1.1521572043496484e-06,1.5714233716021663e-05,6.495445924208513e-06,-5.827654023062693e-06,1.322406914992777e-05,1.7465428246789616e-05,-1.7279670684600488e-06,-1.0812557855552758e-05,1.900269902434642e-05,-2.284470950165007e-08,-9.84255091799405e-06,-8.279293402115762e-06,1.0709189274453006e-05,4.655717926434063e-06,-5.3229357970321504e-06,-2.3596292653805287e-06,1.822078756880522e-05,-1.927100312884178e-06,-2.3578351812115305e-05,7.560187241846842e-06,2.0877214451574402e-06,-1.4780769915465638e-05,-1.4248927905148844e-05,4.056062572573043e-06,9.897790577458205e-07,-2.7577704414513316e-05,-2.0006363186444804e-05,-1.0248886037859453e-06,-6.964856556429346e-06,-1.0679253650297056e-05,3.159628169347873e-07,1.549935879366633e-05,-3.226297896453682e-06,-3.5411257863059475e-06,-4.643148422184314e-06],\"y\":[1.219725006766914e-05,-1.2186238488982228e-05,-2.3610332799108264e-06,1.0361196775482344e-05,1.004960928339941e-05,-5.601307751561699e-06,3.798590036047974e-08,1.6227595297593998e-05,9.027506378172248e-06,-1.2117524848677329e-05,1.608826425192004e-05,1.4729018235169614e-05,-1.187012132195594e-05,-2.9875257722199695e-05,5.509242164642955e-06,7.501541924143765e-06,-1.130992316508924e-05,-1.5639547457089594e-05,1.0603304821256186e-05,4.589848685916833e-06,-1.2076987807290316e-05,-1.2058154567644873e-05,1.6369209956334398e-05,1.7148884628646273e-06,-1.101123452979194e-05,-7.554100689755906e-07,2.128877979067849e-05,9.267075232583978e-06,-1.7268179371294857e-05,-7.814393096058471e-06,6.109222260152711e-06,3.4275019707771146e-06,-3.435157132548712e-06,-3.4909748785083187e-06,6.323369211680832e-06,-2.5053444352074777e-06,-2.5158124228445712e-05,5.399527618790973e-06,4.8089043663146674e-06,-7.697365395076217e-06,-1.8980696281849974e-05,5.0569851024906154e-08,8.039450928128091e-06,-9.948370401306749e-06,-1.865333698801231e-05,5.561313632628279e-06,-6.639014448887985e-07,-1.839772369447014e-05,-3.090456733545155e-05,2.1190149861071183e-05,4.159832112880335e-06,-5.12264484919231e-06,-8.429609385285002e-06,2.0254794062972815e-05,1.24445635077435e-05,-5.530515421950821e-06,4.346473697906713e-06,2.341016595141886e-05,-4.247882537985616e-06,-1.8355608933982647e-05,-1.0227251217145463e-05,1.5923642717634972e-05,-2.825229466711248e-06,-1.0449853129924532e-05,2.1148645104549898e-06,1.1037944364755255e-05,-2.3512505879090877e-06,-1.1984413243621247e-05,1.635822288923704e-05,1.1321089054037428e-05,3.861822101925798e-06,-2.0443698474890313e-05,-4.3107538274457504e-07,3.935192586276145e-06,-6.014753906946334e-06,-2.274348145920597e-06,1.603684848008295e-05,7.938933112720725e-06,-6.688164924079635e-06,8.370007294356108e-06,2.5026398193804502e-05,1.4024704376850375e-05,-8.348747157124045e-06,8.991187562688145e-06,1.0331824256419527e-05,-5.634631343114744e-06,-1.9728646485572268e-05,3.0535436763052534e-06,5.073392936680522e-06,1.311716967632126e-06,-5.047348341419621e-06,1.0911440966276898e-05,1.615938722489318e-06,-1.49460148549602e-05,4.8417558097506085e-06,1.2591877603132023e-05,-1.986433353814198e-06,-1.5754153497484585e-05,-7.542736155623311e-06,1.1149275357020428e-05,-9.67236869299621e-06,-1.547327814641594e-05,1.2163383225396544e-05,8.184142933458426e-06,-4.923073527903345e-06,-1.1092176987727018e-05,1.4213276695197471e-05,-7.507462149506611e-07,-1.6930558314387844e-05,-5.2417313019263805e-06,7.785143999799788e-06,-5.153423433002323e-06,-1.4096154312686305e-05,-1.0272769223754815e-06,8.376540732436962e-06,-5.335952058523344e-06,-2.8970563610146447e-05,-5.009603973001563e-06,-4.716950721575783e-06,-1.658398159278034e-05,-7.799654339014861e-06,1.8294000356339783e-05,-4.6616264192996885e-06,-1.9711299030737233e-05,1.022569384746277e-05,4.240543348619405e-06,-1.3647946062657217e-05,-1.0915532792054317e-05],\"z\":[1.2625732838917309e-05,6.156842633719123e-06,-5.197326189384922e-06,-1.0321520871391832e-05,2.7039649524395047e-05,1.9630169366133053e-05,-2.7722552988416373e-06,2.8298704082187145e-06,1.6510599988111416e-05,-1.6131831435939442e-06,-2.77327488369251e-05,1.1110634069201525e-06,3.353166354847752e-06,-9.379855893130819e-07,-1.0387634935014593e-06,1.0533727991188511e-05,1.4137509741314566e-05,-7.635927944528091e-06,-1.538362073392237e-05,1.293193327782364e-05,1.0059940796529261e-05,-5.489457799414567e-06,-1.4292056090056263e-05,1.1515150646064417e-05,9.041301092664046e-06,-1.4222671863845072e-05,-8.502414820045952e-06,1.6046484978806025e-05,1.9085925938072927e-06,3.009205656151495e-06,-6.507071141996602e-07,1.7711609656726185e-05,5.408308033105953e-06,-1.5584294138285118e-05,-1.479595215409301e-05,1.4736512111326817e-05,3.3466486472816497e-06,-8.374695634257853e-06,-6.586216724439511e-06,1.478343192559925e-05,-5.66064068650738e-06,-1.7654265479916195e-05,2.678600270080781e-07,1.0236281726801408e-05,-9.128806598417408e-06,-2.77876224022201e-05,1.9033249124520728e-05,1.4633526997235707e-05,-4.025542667656396e-07,-1.1838648288401342e-05,6.727143657993678e-06,1.981062056744898e-05,-5.0889739082826224e-08,-3.992998759064815e-06,2.2730290240314503e-05,1.772410869767383e-05,-1.642948962534997e-05,-2.4133225149649214e-05,1.2549686034544361e-05,6.070934963065325e-06,-4.699456880744211e-06,-1.4276888133085318e-05,1.1317987652905173e-05,6.222084014011362e-06,-1.4793602095245081e-05,7.123028812507329e-06,2.465661597487117e-05,8.304593029673102e-06,-1.4858272632704258e-05,-2.180070264911641e-06,8.02257881897801e-06,-2.728014759943584e-06,-1.199295386434503e-05,1.3147739887866535e-05,1.281824924028941e-05,-5.121042302940069e-06,-5.874091439797189e-06,2.4142780830797884e-05,2.1247340571640735e-05,3.2679680878852594e-06,2.629579074298634e-06,1.120539727662829e-05,7.951890869727118e-06,-1.5056422615027893e-05,-5.775508327881803e-06,1.5334855236199045e-05,-2.081236516046595e-06,-5.3847325392530535e-06,-3.7430274635924222e-06,5.4683785403399335e-06,-1.3535486962894048e-06,-4.242205728464156e-06,2.2465869038805615e-05,1.043245363191464e-05,-1.4631843375662651e-05,-2.389231507770267e-06,2.0222819900625143e-05,-8.251954490115143e-06,-9.34287645410762e-06,7.398163194518838e-06,1.5257801377585134e-05,-2.0647982458895104e-06,-1.2695323371934346e-05,5.721801136991034e-06,6.058699552640617e-06,-4.899492413990862e-06,-1.2275631162925035e-05,1.7032121391643508e-05,-1.5925083658626787e-06,-2.5108931881331376e-05,-1.5186514769982596e-05,5.225196676682923e-06,-4.826395162331547e-07,-2.8575986542180267e-05,-1.0286941752816377e-05,-3.6451025736087905e-06,-8.357806743068267e-06,-1.734297340199958e-05,1.4917736263962004e-05,7.212296140439787e-06,-1.4049545031265819e-05,-4.528484626769271e-07,-2.828925013602968e-06,6.1262043056380485e-06,-1.872176659582658e-05,-5.7392802762888385e-06,1.9948212805559544e-05,1.2670725479869805e-05]}],                        {\"scene\":{\"xaxis\":{\"exponentformat\":\"e\",\"showexponent\":\"all\",\"title\":{\"text\":\"0th\"},\"type\":\"linear\"},\"yaxis\":{\"exponentformat\":\"e\",\"showexponent\":\"all\",\"title\":{\"text\":\"1st\"},\"type\":\"linear\"},\"zaxis\":{\"exponentformat\":\"e\",\"showexponent\":\"all\",\"title\":{\"text\":\"2nd\"},\"type\":\"linear\"}},\"template\":{\"data\":{\"bar\":[{\"error_x\":{\"color\":\"#2a3f5f\"},\"error_y\":{\"color\":\"#2a3f5f\"},\"marker\":{\"line\":{\"color\":\"#E5ECF6\",\"width\":0.5},\"pattern\":{\"fillmode\":\"overlay\",\"size\":10,\"solidity\":0.2}},\"type\":\"bar\"}],\"barpolar\":[{\"marker\":{\"line\":{\"color\":\"#E5ECF6\",\"width\":0.5},\"pattern\":{\"fillmode\":\"overlay\",\"size\":10,\"solidity\":0.2}},\"type\":\"barpolar\"}],\"carpet\":[{\"aaxis\":{\"endlinecolor\":\"#2a3f5f\",\"gridcolor\":\"white\",\"linecolor\":\"white\",\"minorgridcolor\":\"white\",\"startlinecolor\":\"#2a3f5f\"},\"baxis\":{\"endlinecolor\":\"#2a3f5f\",\"gridcolor\":\"white\",\"linecolor\":\"white\",\"minorgridcolor\":\"white\",\"startlinecolor\":\"#2a3f5f\"},\"type\":\"carpet\"}],\"choropleth\":[{\"colorbar\":{\"outlinewidth\":0,\"ticks\":\"\"},\"type\":\"choropleth\"}],\"contour\":[{\"colorbar\":{\"outlinewidth\":0,\"ticks\":\"\"},\"colorscale\":[[0.0,\"#0d0887\"],[0.1111111111111111,\"#46039f\"],[0.2222222222222222,\"#7201a8\"],[0.3333333333333333,\"#9c179e\"],[0.4444444444444444,\"#bd3786\"],[0.5555555555555556,\"#d8576b\"],[0.6666666666666666,\"#ed7953\"],[0.7777777777777778,\"#fb9f3a\"],[0.8888888888888888,\"#fdca26\"],[1.0,\"#f0f921\"]],\"type\":\"contour\"}],\"contourcarpet\":[{\"colorbar\":{\"outlinewidth\":0,\"ticks\":\"\"},\"type\":\"contourcarpet\"}],\"heatmap\":[{\"colorbar\":{\"outlinewidth\":0,\"ticks\":\"\"},\"colorscale\":[[0.0,\"#0d0887\"],[0.1111111111111111,\"#46039f\"],[0.2222222222222222,\"#7201a8\"],[0.3333333333333333,\"#9c179e\"],[0.4444444444444444,\"#bd3786\"],[0.5555555555555556,\"#d8576b\"],[0.6666666666666666,\"#ed7953\"],[0.7777777777777778,\"#fb9f3a\"],[0.8888888888888888,\"#fdca26\"],[1.0,\"#f0f921\"]],\"type\":\"heatmap\"}],\"heatmapgl\":[{\"colorbar\":{\"outlinewidth\":0,\"ticks\":\"\"},\"colorscale\":[[0.0,\"#0d0887\"],[0.1111111111111111,\"#46039f\"],[0.2222222222222222,\"#7201a8\"],[0.3333333333333333,\"#9c179e\"],[0.4444444444444444,\"#bd3786\"],[0.5555555555555556,\"#d8576b\"],[0.6666666666666666,\"#ed7953\"],[0.7777777777777778,\"#fb9f3a\"],[0.8888888888888888,\"#fdca26\"],[1.0,\"#f0f921\"]],\"type\":\"heatmapgl\"}],\"histogram\":[{\"marker\":{\"pattern\":{\"fillmode\":\"overlay\",\"size\":10,\"solidity\":0.2}},\"type\":\"histogram\"}],\"histogram2d\":[{\"colorbar\":{\"outlinewidth\":0,\"ticks\":\"\"},\"colorscale\":[[0.0,\"#0d0887\"],[0.1111111111111111,\"#46039f\"],[0.2222222222222222,\"#7201a8\"],[0.3333333333333333,\"#9c179e\"],[0.4444444444444444,\"#bd3786\"],[0.5555555555555556,\"#d8576b\"],[0.6666666666666666,\"#ed7953\"],[0.7777777777777778,\"#fb9f3a\"],[0.8888888888888888,\"#fdca26\"],[1.0,\"#f0f921\"]],\"type\":\"histogram2d\"}],\"histogram2dcontour\":[{\"colorbar\":{\"outlinewidth\":0,\"ticks\":\"\"},\"colorscale\":[[0.0,\"#0d0887\"],[0.1111111111111111,\"#46039f\"],[0.2222222222222222,\"#7201a8\"],[0.3333333333333333,\"#9c179e\"],[0.4444444444444444,\"#bd3786\"],[0.5555555555555556,\"#d8576b\"],[0.6666666666666666,\"#ed7953\"],[0.7777777777777778,\"#fb9f3a\"],[0.8888888888888888,\"#fdca26\"],[1.0,\"#f0f921\"]],\"type\":\"histogram2dcontour\"}],\"mesh3d\":[{\"colorbar\":{\"outlinewidth\":0,\"ticks\":\"\"},\"type\":\"mesh3d\"}],\"parcoords\":[{\"line\":{\"colorbar\":{\"outlinewidth\":0,\"ticks\":\"\"}},\"type\":\"parcoords\"}],\"pie\":[{\"automargin\":true,\"type\":\"pie\"}],\"scatter\":[{\"marker\":{\"colorbar\":{\"outlinewidth\":0,\"ticks\":\"\"}},\"type\":\"scatter\"}],\"scatter3d\":[{\"line\":{\"colorbar\":{\"outlinewidth\":0,\"ticks\":\"\"}},\"marker\":{\"colorbar\":{\"outlinewidth\":0,\"ticks\":\"\"}},\"type\":\"scatter3d\"}],\"scattercarpet\":[{\"marker\":{\"colorbar\":{\"outlinewidth\":0,\"ticks\":\"\"}},\"type\":\"scattercarpet\"}],\"scattergeo\":[{\"marker\":{\"colorbar\":{\"outlinewidth\":0,\"ticks\":\"\"}},\"type\":\"scattergeo\"}],\"scattergl\":[{\"marker\":{\"colorbar\":{\"outlinewidth\":0,\"ticks\":\"\"}},\"type\":\"scattergl\"}],\"scattermapbox\":[{\"marker\":{\"colorbar\":{\"outlinewidth\":0,\"ticks\":\"\"}},\"type\":\"scattermapbox\"}],\"scatterpolar\":[{\"marker\":{\"colorbar\":{\"outlinewidth\":0,\"ticks\":\"\"}},\"type\":\"scatterpolar\"}],\"scatterpolargl\":[{\"marker\":{\"colorbar\":{\"outlinewidth\":0,\"ticks\":\"\"}},\"type\":\"scatterpolargl\"}],\"scatterternary\":[{\"marker\":{\"colorbar\":{\"outlinewidth\":0,\"ticks\":\"\"}},\"type\":\"scatterternary\"}],\"surface\":[{\"colorbar\":{\"outlinewidth\":0,\"ticks\":\"\"},\"colorscale\":[[0.0,\"#0d0887\"],[0.1111111111111111,\"#46039f\"],[0.2222222222222222,\"#7201a8\"],[0.3333333333333333,\"#9c179e\"],[0.4444444444444444,\"#bd3786\"],[0.5555555555555556,\"#d8576b\"],[0.6666666666666666,\"#ed7953\"],[0.7777777777777778,\"#fb9f3a\"],[0.8888888888888888,\"#fdca26\"],[1.0,\"#f0f921\"]],\"type\":\"surface\"}],\"table\":[{\"cells\":{\"fill\":{\"color\":\"#EBF0F8\"},\"line\":{\"color\":\"white\"}},\"header\":{\"fill\":{\"color\":\"#C8D4E3\"},\"line\":{\"color\":\"white\"}},\"type\":\"table\"}]},\"layout\":{\"annotationdefaults\":{\"arrowcolor\":\"#2a3f5f\",\"arrowhead\":0,\"arrowwidth\":1},\"autotypenumbers\":\"strict\",\"coloraxis\":{\"colorbar\":{\"outlinewidth\":0,\"ticks\":\"\"}},\"colorscale\":{\"diverging\":[[0,\"#8e0152\"],[0.1,\"#c51b7d\"],[0.2,\"#de77ae\"],[0.3,\"#f1b6da\"],[0.4,\"#fde0ef\"],[0.5,\"#f7f7f7\"],[0.6,\"#e6f5d0\"],[0.7,\"#b8e186\"],[0.8,\"#7fbc41\"],[0.9,\"#4d9221\"],[1,\"#276419\"]],\"sequential\":[[0.0,\"#0d0887\"],[0.1111111111111111,\"#46039f\"],[0.2222222222222222,\"#7201a8\"],[0.3333333333333333,\"#9c179e\"],[0.4444444444444444,\"#bd3786\"],[0.5555555555555556,\"#d8576b\"],[0.6666666666666666,\"#ed7953\"],[0.7777777777777778,\"#fb9f3a\"],[0.8888888888888888,\"#fdca26\"],[1.0,\"#f0f921\"]],\"sequentialminus\":[[0.0,\"#0d0887\"],[0.1111111111111111,\"#46039f\"],[0.2222222222222222,\"#7201a8\"],[0.3333333333333333,\"#9c179e\"],[0.4444444444444444,\"#bd3786\"],[0.5555555555555556,\"#d8576b\"],[0.6666666666666666,\"#ed7953\"],[0.7777777777777778,\"#fb9f3a\"],[0.8888888888888888,\"#fdca26\"],[1.0,\"#f0f921\"]]},\"colorway\":[\"#636efa\",\"#EF553B\",\"#00cc96\",\"#ab63fa\",\"#FFA15A\",\"#19d3f3\",\"#FF6692\",\"#B6E880\",\"#FF97FF\",\"#FECB52\"],\"font\":{\"color\":\"#2a3f5f\"},\"geo\":{\"bgcolor\":\"white\",\"lakecolor\":\"white\",\"landcolor\":\"#E5ECF6\",\"showlakes\":true,\"showland\":true,\"subunitcolor\":\"white\"},\"hoverlabel\":{\"align\":\"left\"},\"hovermode\":\"closest\",\"mapbox\":{\"style\":\"light\"},\"paper_bgcolor\":\"white\",\"plot_bgcolor\":\"#E5ECF6\",\"polar\":{\"angularaxis\":{\"gridcolor\":\"white\",\"linecolor\":\"white\",\"ticks\":\"\"},\"bgcolor\":\"#E5ECF6\",\"radialaxis\":{\"gridcolor\":\"white\",\"linecolor\":\"white\",\"ticks\":\"\"}},\"scene\":{\"xaxis\":{\"backgroundcolor\":\"#E5ECF6\",\"gridcolor\":\"white\",\"gridwidth\":2,\"linecolor\":\"white\",\"showbackground\":true,\"ticks\":\"\",\"zerolinecolor\":\"white\"},\"yaxis\":{\"backgroundcolor\":\"#E5ECF6\",\"gridcolor\":\"white\",\"gridwidth\":2,\"linecolor\":\"white\",\"showbackground\":true,\"ticks\":\"\",\"zerolinecolor\":\"white\"},\"zaxis\":{\"backgroundcolor\":\"#E5ECF6\",\"gridcolor\":\"white\",\"gridwidth\":2,\"linecolor\":\"white\",\"showbackground\":true,\"ticks\":\"\",\"zerolinecolor\":\"white\"}},\"shapedefaults\":{\"line\":{\"color\":\"#2a3f5f\"}},\"ternary\":{\"aaxis\":{\"gridcolor\":\"white\",\"linecolor\":\"white\",\"ticks\":\"\"},\"baxis\":{\"gridcolor\":\"white\",\"linecolor\":\"white\",\"ticks\":\"\"},\"bgcolor\":\"#E5ECF6\",\"caxis\":{\"gridcolor\":\"white\",\"linecolor\":\"white\",\"ticks\":\"\"}},\"title\":{\"x\":0.05},\"xaxis\":{\"automargin\":true,\"gridcolor\":\"white\",\"linecolor\":\"white\",\"ticks\":\"\",\"title\":{\"standoff\":15},\"zerolinecolor\":\"white\",\"zerolinewidth\":2},\"yaxis\":{\"automargin\":true,\"gridcolor\":\"white\",\"linecolor\":\"white\",\"ticks\":\"\",\"title\":{\"standoff\":15},\"zerolinecolor\":\"white\",\"zerolinewidth\":2}}}},                        {\"responsive\": true}                    ).then(function(){\n",
       "                            \n",
       "var gd = document.getElementById('f2358ee3-2ea0-4463-a689-7ca7643ae545');\n",
       "var x = new MutationObserver(function (mutations, observer) {{\n",
       "        var display = window.getComputedStyle(gd).display;\n",
       "        if (!display || display === 'none') {{\n",
       "            console.log([gd, 'removed!']);\n",
       "            Plotly.purge(gd);\n",
       "            observer.disconnect();\n",
       "        }}\n",
       "}});\n",
       "\n",
       "// Listen for the removal of the full notebook cells\n",
       "var notebookContainer = gd.closest('#notebook-container');\n",
       "if (notebookContainer) {{\n",
       "    x.observe(notebookContainer, {childList: true});\n",
       "}}\n",
       "\n",
       "// Listen for the clearing of the current output cell\n",
       "var outputEl = gd.closest('.output');\n",
       "if (outputEl) {{\n",
       "    x.observe(outputEl, {childList: true});\n",
       "}}\n",
       "\n",
       "                        })                };                            </script>        </div>\n",
       "</body>\n",
       "</html>"
      ]
     },
     "metadata": {},
     "output_type": "display_data"
    }
   ],
   "source": [
    "m10_sample_point_cl = embedder_sample.fit_transform(m10_sample_ts)\n",
    "print(f\"Shape of embedded time series: {m10_sample_point_cl.shape}\")\n",
    "plot_point_cloud(m10_sample_point_cl)"
   ]
  },
  {
   "cell_type": "code",
   "execution_count": null,
   "metadata": {
    "colab": {
     "base_uri": "https://localhost:8080/"
    },
    "executionInfo": {
     "elapsed": 242,
     "status": "ok",
     "timestamp": 1630060615469,
     "user": {
      "displayName": "Екатерина Михайлец",
      "photoUrl": "",
      "userId": "03958266793788218532"
     },
     "user_tz": -180
    },
    "id": "Xc5sOf0znzAT",
    "outputId": "5330b748-37ef-47b8-84a1-6e454f6ef5db"
   },
   "outputs": [
    {
     "name": "stdout",
     "output_type": "stream",
     "text": [
      "(128, 3)\n",
      "(1, 128, 3)\n"
     ]
    }
   ],
   "source": [
    "# Change array type for next step\n",
    "print(m10_sample_point_cl.shape)\n",
    "m10_sample_point_cl = m10_sample_point_cl[None, :, :]\n",
    "print(m10_sample_point_cl.shape)\n"
   ]
  },
  {
   "cell_type": "code",
   "execution_count": null,
   "metadata": {
    "colab": {
     "base_uri": "https://localhost:8080/",
     "height": 1000
    },
    "executionInfo": {
     "elapsed": 846,
     "status": "ok",
     "timestamp": 1630060619133,
     "user": {
      "displayName": "Екатерина Михайлец",
      "photoUrl": "",
      "userId": "03958266793788218532"
     },
     "user_tz": -180
    },
    "id": "Li883sF5bHr5",
    "outputId": "0ea2e4c0-1e7a-4a7e-fa15-a7a7487b67b9"
   },
   "outputs": [
    {
     "name": "stdout",
     "output_type": "stream",
     "text": [
      "Persistence diagram for signal\n"
     ]
    },
    {
     "data": {
      "text/html": [
       "<html>\n",
       "<head><meta charset=\"utf-8\" /></head>\n",
       "<body>\n",
       "    <div>            <script src=\"https://cdnjs.cloudflare.com/ajax/libs/mathjax/2.7.5/MathJax.js?config=TeX-AMS-MML_SVG\"></script><script type=\"text/javascript\">if (window.MathJax) {MathJax.Hub.Config({SVG: {font: \"STIX-Web\"}});}</script>                <script type=\"text/javascript\">window.PlotlyConfig = {MathJaxConfig: 'local'};</script>\n",
       "        <script src=\"https://cdn.plot.ly/plotly-2.3.1.min.js\"></script>                <div id=\"25cb99fe-aed4-43b8-8182-2d93f6cb1a49\" class=\"plotly-graph-div\" style=\"height:500px; width:500px;\"></div>            <script type=\"text/javascript\">                                    window.PLOTLYENV=window.PLOTLYENV || {};                                    if (document.getElementById(\"25cb99fe-aed4-43b8-8182-2d93f6cb1a49\")) {                    Plotly.newPlot(                        \"25cb99fe-aed4-43b8-8182-2d93f6cb1a49\",                        [{\"hoverinfo\":\"none\",\"line\":{\"color\":\"black\",\"dash\":\"dash\",\"width\":1},\"mode\":\"lines\",\"showlegend\":false,\"type\":\"scatter\",\"x\":[-3.9394602936226874e-07,2.0091247497475705e-05],\"y\":[-3.9394602936226874e-07,2.0091247497475705e-05]},{\"hoverinfo\":\"text\",\"hovertext\":[\"(0.0, 1.5054407640491263e-06)\",\"(0.0, 1.6791127563919872e-06)\",\"(0.0, 1.885922074507107e-06)\",\"(0.0, 2.263449459860567e-06)\",\"(0.0, 2.344997028558282e-06)\",\"(0.0, 2.7091812171420315e-06)\",\"(0.0, 2.79882806353271e-06)\",\"(0.0, 2.8327949621598236e-06)\",\"(0.0, 2.9043014819762902e-06)\",\"(0.0, 3.3388339488737984e-06)\",\"(0.0, 3.389883886484313e-06)\",\"(0.0, 3.422493819016381e-06)\",\"(0.0, 3.458644187048776e-06)\",\"(0.0, 3.4787581171258353e-06)\",\"(0.0, 3.4821589451894397e-06)\",\"(0.0, 3.5213727187510813e-06)\",\"(0.0, 3.723363533936208e-06)\",\"(0.0, 3.7858694668102544e-06)\",\"(0.0, 3.830627974821255e-06)\",\"(0.0, 3.932023901143111e-06)\",\"(0.0, 3.9675219341006596e-06)\",\"(0.0, 4.007156348961871e-06)\",\"(0.0, 4.020187589048874e-06)\",\"(0.0, 4.02518753617187e-06)\",\"(0.0, 4.047426045872271e-06)\",\"(0.0, 4.096276370546548e-06)\",\"(0.0, 4.1267658161814325e-06)\",\"(0.0, 4.138393705943599e-06)\",\"(0.0, 4.201303909212584e-06)\",\"(0.0, 4.311657903599553e-06)\",\"(0.0, 4.527844339463627e-06)\",\"(0.0, 4.552363407128723e-06)\",\"(0.0, 4.630925104720518e-06)\",\"(0.0, 4.735460606752895e-06)\",\"(0.0, 4.76339573651785e-06)\",\"(0.0, 4.775219622388249e-06)\",\"(0.0, 4.872186309512472e-06)\",\"(0.0, 4.873049419984454e-06)\",\"(0.0, 4.910491952614393e-06)\",\"(0.0, 4.918930244457442e-06)\",\"(0.0, 4.9640816541796084e-06)\",\"(0.0, 4.967948370904196e-06)\",\"(0.0, 4.993559286958771e-06)\",\"(0.0, 5.045520538260462e-06)\",\"(0.0, 5.04820764035685e-06)\",\"(0.0, 5.1260280997667e-06)\",\"(0.0, 5.139992481417721e-06)\",\"(0.0, 5.170291842659935e-06)\",\"(0.0, 5.218049864197383e-06)\",\"(0.0, 5.302411864249734e-06)\",\"(0.0, 5.328786301106447e-06)\",\"(0.0, 5.329083251126576e-06)\",\"(0.0, 5.341316409612773e-06)\",\"(0.0, 5.344164947018726e-06)\",\"(0.0, 5.35595063411165e-06)\",\"(0.0, 5.365403012547176e-06)\",\"(0.0, 5.3699882300861645e-06)\",\"(0.0, 5.378720743465237e-06)\",\"(0.0, 5.38310814590659e-06)\",\"(0.0, 5.386347766034305e-06)\",\"(0.0, 5.399466772360029e-06)\",\"(0.0, 5.4325873861671425e-06)\",\"(0.0, 5.4733577599108685e-06)\",\"(0.0, 5.491769115906209e-06)\",\"(0.0, 5.5476843954238575e-06)\",\"(0.0, 5.561512352869613e-06)\",\"(0.0, 5.601060365734156e-06)\",\"(0.0, 5.724488801206462e-06)\",\"(0.0, 5.762416549259797e-06)\",\"(0.0, 5.76564480070374e-06)\",\"(0.0, 5.782876996818231e-06)\",\"(0.0, 5.791382136521861e-06)\",\"(0.0, 5.826905635331059e-06)\",\"(0.0, 5.83974133405718e-06)\",\"(0.0, 5.918181614106288e-06)\",\"(0.0, 5.969065114186378e-06)\",\"(0.0, 6.014029167999979e-06)\",\"(0.0, 6.1326973082032055e-06)\",\"(0.0, 6.163944817672018e-06)\",\"(0.0, 6.200700227054767e-06)\",\"(0.0, 6.251596914808033e-06)\",\"(0.0, 6.385179403878283e-06)\",\"(0.0, 6.415858933905838e-06)\",\"(0.0, 6.4321025092795026e-06)\",\"(0.0, 6.485654921561945e-06)\",\"(0.0, 6.509387731057359e-06)\",\"(0.0, 6.5884059949894436e-06)\",\"(0.0, 6.63698938296875e-06)\",\"(0.0, 6.760906217095908e-06)\",\"(0.0, 6.860851044621086e-06)\",\"(0.0, 6.91706145516946e-06)\",\"(0.0, 6.933077656867681e-06)\",\"(0.0, 6.965544798731571e-06)\",\"(0.0, 7.029354492260609e-06)\",\"(0.0, 7.042463494144613e-06)\",\"(0.0, 7.147757969505619e-06)\",\"(0.0, 7.208408078440698e-06)\",\"(0.0, 7.2852876655815635e-06)\",\"(0.0, 7.304450718947919e-06)\",\"(0.0, 7.335300324484706e-06)\",\"(0.0, 7.341378932324005e-06)\",\"(0.0, 7.365139481407823e-06)\",\"(0.0, 7.400177764793625e-06)\",\"(0.0, 7.441241450578673e-06)\",\"(0.0, 7.53464018998784e-06)\",\"(0.0, 7.544909294665558e-06)\",\"(0.0, 7.677081157453358e-06)\",\"(0.0, 7.821229701221455e-06)\",\"(0.0, 7.851264854252804e-06)\",\"(0.0, 7.890658707765397e-06)\",\"(0.0, 8.00404632173013e-06)\",\"(0.0, 8.004171831998974e-06)\",\"(0.0, 8.268078090623021e-06)\",\"(0.0, 8.629590411146637e-06)\",\"(0.0, 8.637598511995748e-06)\",\"(0.0, 8.676311153976712e-06)\",\"(0.0, 8.853848157741595e-06)\",\"(0.0, 8.909221833164338e-06)\",\"(0.0, 9.20967067941092e-06)\",\"(0.0, 9.713834515423514e-06)\",\"(0.0, 1.0145794476557057e-05)\",\"(0.0, 1.042275926010916e-05)\",\"(0.0, 1.0494315574760549e-05)\",\"(0.0, 1.143435565609252e-05)\",\"(0.0, 1.2214726666570641e-05)\",\"(0.0, 1.2352391422609799e-05)\",\"(0.0, 1.2609816621989012e-05)\"],\"mode\":\"markers\",\"name\":\"H0\",\"type\":\"scatter\",\"x\":[0.0,0.0,0.0,0.0,0.0,0.0,0.0,0.0,0.0,0.0,0.0,0.0,0.0,0.0,0.0,0.0,0.0,0.0,0.0,0.0,0.0,0.0,0.0,0.0,0.0,0.0,0.0,0.0,0.0,0.0,0.0,0.0,0.0,0.0,0.0,0.0,0.0,0.0,0.0,0.0,0.0,0.0,0.0,0.0,0.0,0.0,0.0,0.0,0.0,0.0,0.0,0.0,0.0,0.0,0.0,0.0,0.0,0.0,0.0,0.0,0.0,0.0,0.0,0.0,0.0,0.0,0.0,0.0,0.0,0.0,0.0,0.0,0.0,0.0,0.0,0.0,0.0,0.0,0.0,0.0,0.0,0.0,0.0,0.0,0.0,0.0,0.0,0.0,0.0,0.0,0.0,0.0,0.0,0.0,0.0,0.0,0.0,0.0,0.0,0.0,0.0,0.0,0.0,0.0,0.0,0.0,0.0,0.0,0.0,0.0,0.0,0.0,0.0,0.0,0.0,0.0,0.0,0.0,0.0,0.0,0.0,0.0,0.0,0.0,0.0,0.0,0.0],\"y\":[1.5054407640491263e-06,1.6791127563919872e-06,1.885922074507107e-06,2.263449459860567e-06,2.344997028558282e-06,2.7091812171420315e-06,2.79882806353271e-06,2.8327949621598236e-06,2.9043014819762902e-06,3.3388339488737984e-06,3.389883886484313e-06,3.422493819016381e-06,3.458644187048776e-06,3.4787581171258353e-06,3.4821589451894397e-06,3.5213727187510813e-06,3.723363533936208e-06,3.7858694668102544e-06,3.830627974821255e-06,3.932023901143111e-06,3.9675219341006596e-06,4.007156348961871e-06,4.020187589048874e-06,4.02518753617187e-06,4.047426045872271e-06,4.096276370546548e-06,4.1267658161814325e-06,4.138393705943599e-06,4.201303909212584e-06,4.311657903599553e-06,4.527844339463627e-06,4.552363407128723e-06,4.630925104720518e-06,4.735460606752895e-06,4.76339573651785e-06,4.775219622388249e-06,4.872186309512472e-06,4.873049419984454e-06,4.910491952614393e-06,4.918930244457442e-06,4.9640816541796084e-06,4.967948370904196e-06,4.993559286958771e-06,5.045520538260462e-06,5.04820764035685e-06,5.1260280997667e-06,5.139992481417721e-06,5.170291842659935e-06,5.218049864197383e-06,5.302411864249734e-06,5.328786301106447e-06,5.329083251126576e-06,5.341316409612773e-06,5.344164947018726e-06,5.35595063411165e-06,5.365403012547176e-06,5.3699882300861645e-06,5.378720743465237e-06,5.38310814590659e-06,5.386347766034305e-06,5.399466772360029e-06,5.4325873861671425e-06,5.4733577599108685e-06,5.491769115906209e-06,5.5476843954238575e-06,5.561512352869613e-06,5.601060365734156e-06,5.724488801206462e-06,5.762416549259797e-06,5.76564480070374e-06,5.782876996818231e-06,5.791382136521861e-06,5.826905635331059e-06,5.83974133405718e-06,5.918181614106288e-06,5.969065114186378e-06,6.014029167999979e-06,6.1326973082032055e-06,6.163944817672018e-06,6.200700227054767e-06,6.251596914808033e-06,6.385179403878283e-06,6.415858933905838e-06,6.4321025092795026e-06,6.485654921561945e-06,6.509387731057359e-06,6.5884059949894436e-06,6.63698938296875e-06,6.760906217095908e-06,6.860851044621086e-06,6.91706145516946e-06,6.933077656867681e-06,6.965544798731571e-06,7.029354492260609e-06,7.042463494144613e-06,7.147757969505619e-06,7.208408078440698e-06,7.2852876655815635e-06,7.304450718947919e-06,7.335300324484706e-06,7.341378932324005e-06,7.365139481407823e-06,7.400177764793625e-06,7.441241450578673e-06,7.53464018998784e-06,7.544909294665558e-06,7.677081157453358e-06,7.821229701221455e-06,7.851264854252804e-06,7.890658707765397e-06,8.00404632173013e-06,8.004171831998974e-06,8.268078090623021e-06,8.629590411146637e-06,8.637598511995748e-06,8.676311153976712e-06,8.853848157741595e-06,8.909221833164338e-06,9.20967067941092e-06,9.713834515423514e-06,1.0145794476557057e-05,1.042275926010916e-05,1.0494315574760549e-05,1.143435565609252e-05,1.2214726666570641e-05,1.2352391422609799e-05,1.2609816621989012e-05]},{\"hoverinfo\":\"text\",\"hovertext\":[\"(1.7031086827046238e-05, 1.7561069398652762e-05)\",\"(1.5373507267213427e-05, 1.5854357116040774e-05)\",\"(1.4820070646237582e-05, 1.5239840649883263e-05)\",\"(1.3046731510257814e-05, 1.3871039300283883e-05)\",\"(1.2793940186384134e-05, 1.2987943591724616e-05)\",\"(1.1611868103500456e-05, 1.3718723494093865e-05)\",\"(1.1516348422446754e-05, 1.2106376743759029e-05)\",\"(1.0997562640113756e-05, 1.197331766888965e-05)\",\"(1.096867799788015e-05, 1.1717553206835873e-05)\",\"(1.0735047908383422e-05, 1.1370951142453123e-05)\",\"(1.0376339560025372e-05, 1.1022905709978659e-05)\",\"(1.030478142638458e-05, 1.0392443982709665e-05)\",\"(1.027804501063656e-05, 1.0329657925467473e-05)\",\"(9.966667676053476e-06, 1.0086365364259109e-05)\",\"(9.834813681663945e-06, 1.1213835023227148e-05)\",\"(9.804728506423999e-06, 1.3004263564653229e-05)\",\"(9.644722013035789e-06, 1.197202527691843e-05)\",\"(9.473960744799115e-06, 1.0221392585663125e-05)\",\"(9.257232704840135e-06, 9.960648640117142e-06)\",\"(9.17314628168242e-06, 1.091098692995729e-05)\",\"(8.579342647863086e-06, 9.251265510101803e-06)\",\"(8.499298019160051e-06, 8.503915523760952e-06)\",\"(8.356179932889063e-06, 1.0198547897743993e-05)\",\"(8.332794095622376e-06, 1.1741660273401067e-05)\",\"(8.329827323905192e-06, 9.67004325502785e-06)\",\"(8.29789223644184e-06, 9.71829558693571e-06)\",\"(8.133050869219005e-06, 9.814632903726306e-06)\",\"(8.125283784465864e-06, 9.635870810598135e-06)\",\"(8.000102752703242e-06, 9.546974979457445e-06)\",\"(7.846375410736073e-06, 1.0856835615413729e-05)\",\"(7.834182724764105e-06, 7.97000484453747e-06)\",\"(7.767954230075702e-06, 9.251070878235623e-06)\",\"(7.755428669042885e-06, 9.447100637771655e-06)\",\"(7.415889740514103e-06, 7.6241658462095074e-06)\",\"(7.40321729608695e-06, 8.773066838330124e-06)\",\"(7.396458386210725e-06, 9.740455425344408e-06)\",\"(7.346876373048872e-06, 7.867261956562288e-06)\",\"(7.263389306899626e-06, 9.528112968837377e-06)\",\"(7.253748663060833e-06, 1.5502668247791007e-05)\",\"(7.004489361861488e-06, 8.036099643504713e-06)\",\"(6.268783636187436e-06, 7.731234290986322e-06)\",\"(6.102762654336402e-06, 6.238280093384674e-06)\",\"(5.6492590374546126e-06, 7.644905053894036e-06)\",\"(5.648819296766305e-06, 8.342653018189594e-06)\",\"(5.497073743754299e-06, 6.544409643538529e-06)\",\"(5.123951723362552e-06, 5.1962374527647626e-06)\"],\"mode\":\"markers\",\"name\":\"H1\",\"type\":\"scatter\",\"x\":[1.7031086827046238e-05,1.5373507267213427e-05,1.4820070646237582e-05,1.3046731510257814e-05,1.2793940186384134e-05,1.1611868103500456e-05,1.1516348422446754e-05,1.0997562640113756e-05,1.096867799788015e-05,1.0735047908383422e-05,1.0376339560025372e-05,1.030478142638458e-05,1.027804501063656e-05,9.966667676053476e-06,9.834813681663945e-06,9.804728506423999e-06,9.644722013035789e-06,9.473960744799115e-06,9.257232704840135e-06,9.17314628168242e-06,8.579342647863086e-06,8.499298019160051e-06,8.356179932889063e-06,8.332794095622376e-06,8.329827323905192e-06,8.29789223644184e-06,8.133050869219005e-06,8.125283784465864e-06,8.000102752703242e-06,7.846375410736073e-06,7.834182724764105e-06,7.767954230075702e-06,7.755428669042885e-06,7.415889740514103e-06,7.40321729608695e-06,7.396458386210725e-06,7.346876373048872e-06,7.263389306899626e-06,7.253748663060833e-06,7.004489361861488e-06,6.268783636187436e-06,6.102762654336402e-06,5.6492590374546126e-06,5.648819296766305e-06,5.497073743754299e-06,5.123951723362552e-06],\"y\":[1.7561069398652762e-05,1.5854357116040774e-05,1.5239840649883263e-05,1.3871039300283883e-05,1.2987943591724616e-05,1.3718723494093865e-05,1.2106376743759029e-05,1.197331766888965e-05,1.1717553206835873e-05,1.1370951142453123e-05,1.1022905709978659e-05,1.0392443982709665e-05,1.0329657925467473e-05,1.0086365364259109e-05,1.1213835023227148e-05,1.3004263564653229e-05,1.197202527691843e-05,1.0221392585663125e-05,9.960648640117142e-06,1.091098692995729e-05,9.251265510101803e-06,8.503915523760952e-06,1.0198547897743993e-05,1.1741660273401067e-05,9.67004325502785e-06,9.71829558693571e-06,9.814632903726306e-06,9.635870810598135e-06,9.546974979457445e-06,1.0856835615413729e-05,7.97000484453747e-06,9.251070878235623e-06,9.447100637771655e-06,7.6241658462095074e-06,8.773066838330124e-06,9.740455425344408e-06,7.867261956562288e-06,9.528112968837377e-06,1.5502668247791007e-05,8.036099643504713e-06,7.731234290986322e-06,6.238280093384674e-06,7.644905053894036e-06,8.342653018189594e-06,6.544409643538529e-06,5.1962374527647626e-06]},{\"hoverinfo\":\"text\",\"hovertext\":[\"(1.5566558431601152e-05, 1.9697301468113437e-05)\",\"(1.341654387942981e-05, 1.4099879990681075e-05)\",\"(1.1538208127603866e-05, 1.1902764526894316e-05)\",\"(1.0280696187692229e-05, 1.046224406309193e-05)\",\"(9.633467925596051e-06, 9.93182766251266e-06)\",\"(8.193446774384938e-06, 9.444647730560973e-06)\"],\"mode\":\"markers\",\"name\":\"H2\",\"type\":\"scatter\",\"x\":[1.5566558431601152e-05,1.341654387942981e-05,1.1538208127603866e-05,1.0280696187692229e-05,9.633467925596051e-06,8.193446774384938e-06],\"y\":[1.9697301468113437e-05,1.4099879990681075e-05,1.1902764526894316e-05,1.046224406309193e-05,9.93182766251266e-06,9.444647730560973e-06]}],                        {\"height\":500,\"plot_bgcolor\":\"white\",\"template\":{\"data\":{\"bar\":[{\"error_x\":{\"color\":\"#2a3f5f\"},\"error_y\":{\"color\":\"#2a3f5f\"},\"marker\":{\"line\":{\"color\":\"#E5ECF6\",\"width\":0.5},\"pattern\":{\"fillmode\":\"overlay\",\"size\":10,\"solidity\":0.2}},\"type\":\"bar\"}],\"barpolar\":[{\"marker\":{\"line\":{\"color\":\"#E5ECF6\",\"width\":0.5},\"pattern\":{\"fillmode\":\"overlay\",\"size\":10,\"solidity\":0.2}},\"type\":\"barpolar\"}],\"carpet\":[{\"aaxis\":{\"endlinecolor\":\"#2a3f5f\",\"gridcolor\":\"white\",\"linecolor\":\"white\",\"minorgridcolor\":\"white\",\"startlinecolor\":\"#2a3f5f\"},\"baxis\":{\"endlinecolor\":\"#2a3f5f\",\"gridcolor\":\"white\",\"linecolor\":\"white\",\"minorgridcolor\":\"white\",\"startlinecolor\":\"#2a3f5f\"},\"type\":\"carpet\"}],\"choropleth\":[{\"colorbar\":{\"outlinewidth\":0,\"ticks\":\"\"},\"type\":\"choropleth\"}],\"contour\":[{\"colorbar\":{\"outlinewidth\":0,\"ticks\":\"\"},\"colorscale\":[[0.0,\"#0d0887\"],[0.1111111111111111,\"#46039f\"],[0.2222222222222222,\"#7201a8\"],[0.3333333333333333,\"#9c179e\"],[0.4444444444444444,\"#bd3786\"],[0.5555555555555556,\"#d8576b\"],[0.6666666666666666,\"#ed7953\"],[0.7777777777777778,\"#fb9f3a\"],[0.8888888888888888,\"#fdca26\"],[1.0,\"#f0f921\"]],\"type\":\"contour\"}],\"contourcarpet\":[{\"colorbar\":{\"outlinewidth\":0,\"ticks\":\"\"},\"type\":\"contourcarpet\"}],\"heatmap\":[{\"colorbar\":{\"outlinewidth\":0,\"ticks\":\"\"},\"colorscale\":[[0.0,\"#0d0887\"],[0.1111111111111111,\"#46039f\"],[0.2222222222222222,\"#7201a8\"],[0.3333333333333333,\"#9c179e\"],[0.4444444444444444,\"#bd3786\"],[0.5555555555555556,\"#d8576b\"],[0.6666666666666666,\"#ed7953\"],[0.7777777777777778,\"#fb9f3a\"],[0.8888888888888888,\"#fdca26\"],[1.0,\"#f0f921\"]],\"type\":\"heatmap\"}],\"heatmapgl\":[{\"colorbar\":{\"outlinewidth\":0,\"ticks\":\"\"},\"colorscale\":[[0.0,\"#0d0887\"],[0.1111111111111111,\"#46039f\"],[0.2222222222222222,\"#7201a8\"],[0.3333333333333333,\"#9c179e\"],[0.4444444444444444,\"#bd3786\"],[0.5555555555555556,\"#d8576b\"],[0.6666666666666666,\"#ed7953\"],[0.7777777777777778,\"#fb9f3a\"],[0.8888888888888888,\"#fdca26\"],[1.0,\"#f0f921\"]],\"type\":\"heatmapgl\"}],\"histogram\":[{\"marker\":{\"pattern\":{\"fillmode\":\"overlay\",\"size\":10,\"solidity\":0.2}},\"type\":\"histogram\"}],\"histogram2d\":[{\"colorbar\":{\"outlinewidth\":0,\"ticks\":\"\"},\"colorscale\":[[0.0,\"#0d0887\"],[0.1111111111111111,\"#46039f\"],[0.2222222222222222,\"#7201a8\"],[0.3333333333333333,\"#9c179e\"],[0.4444444444444444,\"#bd3786\"],[0.5555555555555556,\"#d8576b\"],[0.6666666666666666,\"#ed7953\"],[0.7777777777777778,\"#fb9f3a\"],[0.8888888888888888,\"#fdca26\"],[1.0,\"#f0f921\"]],\"type\":\"histogram2d\"}],\"histogram2dcontour\":[{\"colorbar\":{\"outlinewidth\":0,\"ticks\":\"\"},\"colorscale\":[[0.0,\"#0d0887\"],[0.1111111111111111,\"#46039f\"],[0.2222222222222222,\"#7201a8\"],[0.3333333333333333,\"#9c179e\"],[0.4444444444444444,\"#bd3786\"],[0.5555555555555556,\"#d8576b\"],[0.6666666666666666,\"#ed7953\"],[0.7777777777777778,\"#fb9f3a\"],[0.8888888888888888,\"#fdca26\"],[1.0,\"#f0f921\"]],\"type\":\"histogram2dcontour\"}],\"mesh3d\":[{\"colorbar\":{\"outlinewidth\":0,\"ticks\":\"\"},\"type\":\"mesh3d\"}],\"parcoords\":[{\"line\":{\"colorbar\":{\"outlinewidth\":0,\"ticks\":\"\"}},\"type\":\"parcoords\"}],\"pie\":[{\"automargin\":true,\"type\":\"pie\"}],\"scatter\":[{\"marker\":{\"colorbar\":{\"outlinewidth\":0,\"ticks\":\"\"}},\"type\":\"scatter\"}],\"scatter3d\":[{\"line\":{\"colorbar\":{\"outlinewidth\":0,\"ticks\":\"\"}},\"marker\":{\"colorbar\":{\"outlinewidth\":0,\"ticks\":\"\"}},\"type\":\"scatter3d\"}],\"scattercarpet\":[{\"marker\":{\"colorbar\":{\"outlinewidth\":0,\"ticks\":\"\"}},\"type\":\"scattercarpet\"}],\"scattergeo\":[{\"marker\":{\"colorbar\":{\"outlinewidth\":0,\"ticks\":\"\"}},\"type\":\"scattergeo\"}],\"scattergl\":[{\"marker\":{\"colorbar\":{\"outlinewidth\":0,\"ticks\":\"\"}},\"type\":\"scattergl\"}],\"scattermapbox\":[{\"marker\":{\"colorbar\":{\"outlinewidth\":0,\"ticks\":\"\"}},\"type\":\"scattermapbox\"}],\"scatterpolar\":[{\"marker\":{\"colorbar\":{\"outlinewidth\":0,\"ticks\":\"\"}},\"type\":\"scatterpolar\"}],\"scatterpolargl\":[{\"marker\":{\"colorbar\":{\"outlinewidth\":0,\"ticks\":\"\"}},\"type\":\"scatterpolargl\"}],\"scatterternary\":[{\"marker\":{\"colorbar\":{\"outlinewidth\":0,\"ticks\":\"\"}},\"type\":\"scatterternary\"}],\"surface\":[{\"colorbar\":{\"outlinewidth\":0,\"ticks\":\"\"},\"colorscale\":[[0.0,\"#0d0887\"],[0.1111111111111111,\"#46039f\"],[0.2222222222222222,\"#7201a8\"],[0.3333333333333333,\"#9c179e\"],[0.4444444444444444,\"#bd3786\"],[0.5555555555555556,\"#d8576b\"],[0.6666666666666666,\"#ed7953\"],[0.7777777777777778,\"#fb9f3a\"],[0.8888888888888888,\"#fdca26\"],[1.0,\"#f0f921\"]],\"type\":\"surface\"}],\"table\":[{\"cells\":{\"fill\":{\"color\":\"#EBF0F8\"},\"line\":{\"color\":\"white\"}},\"header\":{\"fill\":{\"color\":\"#C8D4E3\"},\"line\":{\"color\":\"white\"}},\"type\":\"table\"}]},\"layout\":{\"annotationdefaults\":{\"arrowcolor\":\"#2a3f5f\",\"arrowhead\":0,\"arrowwidth\":1},\"autotypenumbers\":\"strict\",\"coloraxis\":{\"colorbar\":{\"outlinewidth\":0,\"ticks\":\"\"}},\"colorscale\":{\"diverging\":[[0,\"#8e0152\"],[0.1,\"#c51b7d\"],[0.2,\"#de77ae\"],[0.3,\"#f1b6da\"],[0.4,\"#fde0ef\"],[0.5,\"#f7f7f7\"],[0.6,\"#e6f5d0\"],[0.7,\"#b8e186\"],[0.8,\"#7fbc41\"],[0.9,\"#4d9221\"],[1,\"#276419\"]],\"sequential\":[[0.0,\"#0d0887\"],[0.1111111111111111,\"#46039f\"],[0.2222222222222222,\"#7201a8\"],[0.3333333333333333,\"#9c179e\"],[0.4444444444444444,\"#bd3786\"],[0.5555555555555556,\"#d8576b\"],[0.6666666666666666,\"#ed7953\"],[0.7777777777777778,\"#fb9f3a\"],[0.8888888888888888,\"#fdca26\"],[1.0,\"#f0f921\"]],\"sequentialminus\":[[0.0,\"#0d0887\"],[0.1111111111111111,\"#46039f\"],[0.2222222222222222,\"#7201a8\"],[0.3333333333333333,\"#9c179e\"],[0.4444444444444444,\"#bd3786\"],[0.5555555555555556,\"#d8576b\"],[0.6666666666666666,\"#ed7953\"],[0.7777777777777778,\"#fb9f3a\"],[0.8888888888888888,\"#fdca26\"],[1.0,\"#f0f921\"]]},\"colorway\":[\"#636efa\",\"#EF553B\",\"#00cc96\",\"#ab63fa\",\"#FFA15A\",\"#19d3f3\",\"#FF6692\",\"#B6E880\",\"#FF97FF\",\"#FECB52\"],\"font\":{\"color\":\"#2a3f5f\"},\"geo\":{\"bgcolor\":\"white\",\"lakecolor\":\"white\",\"landcolor\":\"#E5ECF6\",\"showlakes\":true,\"showland\":true,\"subunitcolor\":\"white\"},\"hoverlabel\":{\"align\":\"left\"},\"hovermode\":\"closest\",\"mapbox\":{\"style\":\"light\"},\"paper_bgcolor\":\"white\",\"plot_bgcolor\":\"#E5ECF6\",\"polar\":{\"angularaxis\":{\"gridcolor\":\"white\",\"linecolor\":\"white\",\"ticks\":\"\"},\"bgcolor\":\"#E5ECF6\",\"radialaxis\":{\"gridcolor\":\"white\",\"linecolor\":\"white\",\"ticks\":\"\"}},\"scene\":{\"xaxis\":{\"backgroundcolor\":\"#E5ECF6\",\"gridcolor\":\"white\",\"gridwidth\":2,\"linecolor\":\"white\",\"showbackground\":true,\"ticks\":\"\",\"zerolinecolor\":\"white\"},\"yaxis\":{\"backgroundcolor\":\"#E5ECF6\",\"gridcolor\":\"white\",\"gridwidth\":2,\"linecolor\":\"white\",\"showbackground\":true,\"ticks\":\"\",\"zerolinecolor\":\"white\"},\"zaxis\":{\"backgroundcolor\":\"#E5ECF6\",\"gridcolor\":\"white\",\"gridwidth\":2,\"linecolor\":\"white\",\"showbackground\":true,\"ticks\":\"\",\"zerolinecolor\":\"white\"}},\"shapedefaults\":{\"line\":{\"color\":\"#2a3f5f\"}},\"ternary\":{\"aaxis\":{\"gridcolor\":\"white\",\"linecolor\":\"white\",\"ticks\":\"\"},\"baxis\":{\"gridcolor\":\"white\",\"linecolor\":\"white\",\"ticks\":\"\"},\"bgcolor\":\"#E5ECF6\",\"caxis\":{\"gridcolor\":\"white\",\"linecolor\":\"white\",\"ticks\":\"\"}},\"title\":{\"x\":0.05},\"xaxis\":{\"automargin\":true,\"gridcolor\":\"white\",\"linecolor\":\"white\",\"ticks\":\"\",\"title\":{\"standoff\":15},\"zerolinecolor\":\"white\",\"zerolinewidth\":2},\"yaxis\":{\"automargin\":true,\"gridcolor\":\"white\",\"linecolor\":\"white\",\"ticks\":\"\",\"title\":{\"standoff\":15},\"zerolinecolor\":\"white\",\"zerolinewidth\":2}}},\"width\":500,\"xaxis\":{\"autorange\":false,\"exponentformat\":\"e\",\"linecolor\":\"black\",\"linewidth\":1,\"mirror\":false,\"range\":[-3.9394602936226874e-07,2.0091247497475705e-05],\"showexponent\":\"all\",\"showline\":true,\"side\":\"bottom\",\"ticks\":\"outside\",\"title\":{\"text\":\"Birth\"},\"type\":\"linear\",\"zeroline\":true},\"yaxis\":{\"autorange\":false,\"exponentformat\":\"e\",\"linecolor\":\"black\",\"linewidth\":1,\"mirror\":false,\"range\":[-3.9394602936226874e-07,2.0091247497475705e-05],\"scaleanchor\":\"x\",\"scaleratio\":1,\"showexponent\":\"all\",\"showline\":true,\"side\":\"left\",\"ticks\":\"outside\",\"title\":{\"text\":\"Death\"},\"type\":\"linear\",\"zeroline\":true}},                        {\"responsive\": true}                    ).then(function(){\n",
       "                            \n",
       "var gd = document.getElementById('25cb99fe-aed4-43b8-8182-2d93f6cb1a49');\n",
       "var x = new MutationObserver(function (mutations, observer) {{\n",
       "        var display = window.getComputedStyle(gd).display;\n",
       "        if (!display || display === 'none') {{\n",
       "            console.log([gd, 'removed!']);\n",
       "            Plotly.purge(gd);\n",
       "            observer.disconnect();\n",
       "        }}\n",
       "}});\n",
       "\n",
       "// Listen for the removal of the full notebook cells\n",
       "var notebookContainer = gd.closest('#notebook-container');\n",
       "if (notebookContainer) {{\n",
       "    x.observe(notebookContainer, {childList: true});\n",
       "}}\n",
       "\n",
       "// Listen for the clearing of the current output cell\n",
       "var outputEl = gd.closest('.output');\n",
       "if (outputEl) {{\n",
       "    x.observe(outputEl, {childList: true});\n",
       "}}\n",
       "\n",
       "                        })                };                            </script>        </div>\n",
       "</body>\n",
       "</html>"
      ]
     },
     "metadata": {},
     "output_type": "display_data"
    },
    {
     "data": {
      "text/plain": [
       "array([[[0.00000000e+00, 1.50544076e-06, 0.00000000e+00],\n",
       "        [0.00000000e+00, 1.67911276e-06, 0.00000000e+00],\n",
       "        [0.00000000e+00, 1.88592207e-06, 0.00000000e+00],\n",
       "        [0.00000000e+00, 2.26344946e-06, 0.00000000e+00],\n",
       "        [0.00000000e+00, 2.34499703e-06, 0.00000000e+00],\n",
       "        [0.00000000e+00, 2.70918122e-06, 0.00000000e+00],\n",
       "        [0.00000000e+00, 2.79882806e-06, 0.00000000e+00],\n",
       "        [0.00000000e+00, 2.83279496e-06, 0.00000000e+00],\n",
       "        [0.00000000e+00, 2.90430148e-06, 0.00000000e+00],\n",
       "        [0.00000000e+00, 3.33883395e-06, 0.00000000e+00],\n",
       "        [0.00000000e+00, 3.38988389e-06, 0.00000000e+00],\n",
       "        [0.00000000e+00, 3.42249382e-06, 0.00000000e+00],\n",
       "        [0.00000000e+00, 3.45864419e-06, 0.00000000e+00],\n",
       "        [0.00000000e+00, 3.47875812e-06, 0.00000000e+00],\n",
       "        [0.00000000e+00, 3.48215895e-06, 0.00000000e+00],\n",
       "        [0.00000000e+00, 3.52137272e-06, 0.00000000e+00],\n",
       "        [0.00000000e+00, 3.72336353e-06, 0.00000000e+00],\n",
       "        [0.00000000e+00, 3.78586947e-06, 0.00000000e+00],\n",
       "        [0.00000000e+00, 3.83062797e-06, 0.00000000e+00],\n",
       "        [0.00000000e+00, 3.93202390e-06, 0.00000000e+00],\n",
       "        [0.00000000e+00, 3.96752193e-06, 0.00000000e+00],\n",
       "        [0.00000000e+00, 4.00715635e-06, 0.00000000e+00],\n",
       "        [0.00000000e+00, 4.02018759e-06, 0.00000000e+00],\n",
       "        [0.00000000e+00, 4.02518754e-06, 0.00000000e+00],\n",
       "        [0.00000000e+00, 4.04742605e-06, 0.00000000e+00],\n",
       "        [0.00000000e+00, 4.09627637e-06, 0.00000000e+00],\n",
       "        [0.00000000e+00, 4.12676582e-06, 0.00000000e+00],\n",
       "        [0.00000000e+00, 4.13839371e-06, 0.00000000e+00],\n",
       "        [0.00000000e+00, 4.20130391e-06, 0.00000000e+00],\n",
       "        [0.00000000e+00, 4.31165790e-06, 0.00000000e+00],\n",
       "        [0.00000000e+00, 4.52784434e-06, 0.00000000e+00],\n",
       "        [0.00000000e+00, 4.55236341e-06, 0.00000000e+00],\n",
       "        [0.00000000e+00, 4.63092510e-06, 0.00000000e+00],\n",
       "        [0.00000000e+00, 4.73546061e-06, 0.00000000e+00],\n",
       "        [0.00000000e+00, 4.76339574e-06, 0.00000000e+00],\n",
       "        [0.00000000e+00, 4.77521962e-06, 0.00000000e+00],\n",
       "        [0.00000000e+00, 4.87218631e-06, 0.00000000e+00],\n",
       "        [0.00000000e+00, 4.87304942e-06, 0.00000000e+00],\n",
       "        [0.00000000e+00, 4.91049195e-06, 0.00000000e+00],\n",
       "        [0.00000000e+00, 4.91893024e-06, 0.00000000e+00],\n",
       "        [0.00000000e+00, 4.96408165e-06, 0.00000000e+00],\n",
       "        [0.00000000e+00, 4.96794837e-06, 0.00000000e+00],\n",
       "        [0.00000000e+00, 4.99355929e-06, 0.00000000e+00],\n",
       "        [0.00000000e+00, 5.04552054e-06, 0.00000000e+00],\n",
       "        [0.00000000e+00, 5.04820764e-06, 0.00000000e+00],\n",
       "        [0.00000000e+00, 5.12602810e-06, 0.00000000e+00],\n",
       "        [0.00000000e+00, 5.13999248e-06, 0.00000000e+00],\n",
       "        [0.00000000e+00, 5.17029184e-06, 0.00000000e+00],\n",
       "        [0.00000000e+00, 5.21804986e-06, 0.00000000e+00],\n",
       "        [0.00000000e+00, 5.30241186e-06, 0.00000000e+00],\n",
       "        [0.00000000e+00, 5.32878630e-06, 0.00000000e+00],\n",
       "        [0.00000000e+00, 5.32908325e-06, 0.00000000e+00],\n",
       "        [0.00000000e+00, 5.34131641e-06, 0.00000000e+00],\n",
       "        [0.00000000e+00, 5.34416495e-06, 0.00000000e+00],\n",
       "        [0.00000000e+00, 5.35595063e-06, 0.00000000e+00],\n",
       "        [0.00000000e+00, 5.36540301e-06, 0.00000000e+00],\n",
       "        [0.00000000e+00, 5.36998823e-06, 0.00000000e+00],\n",
       "        [0.00000000e+00, 5.37872074e-06, 0.00000000e+00],\n",
       "        [0.00000000e+00, 5.38310815e-06, 0.00000000e+00],\n",
       "        [0.00000000e+00, 5.38634777e-06, 0.00000000e+00],\n",
       "        [0.00000000e+00, 5.39946677e-06, 0.00000000e+00],\n",
       "        [0.00000000e+00, 5.43258739e-06, 0.00000000e+00],\n",
       "        [0.00000000e+00, 5.47335776e-06, 0.00000000e+00],\n",
       "        [0.00000000e+00, 5.49176912e-06, 0.00000000e+00],\n",
       "        [0.00000000e+00, 5.54768440e-06, 0.00000000e+00],\n",
       "        [0.00000000e+00, 5.56151235e-06, 0.00000000e+00],\n",
       "        [0.00000000e+00, 5.60106037e-06, 0.00000000e+00],\n",
       "        [0.00000000e+00, 5.72448880e-06, 0.00000000e+00],\n",
       "        [0.00000000e+00, 5.76241655e-06, 0.00000000e+00],\n",
       "        [0.00000000e+00, 5.76564480e-06, 0.00000000e+00],\n",
       "        [0.00000000e+00, 5.78287700e-06, 0.00000000e+00],\n",
       "        [0.00000000e+00, 5.79138214e-06, 0.00000000e+00],\n",
       "        [0.00000000e+00, 5.82690564e-06, 0.00000000e+00],\n",
       "        [0.00000000e+00, 5.83974133e-06, 0.00000000e+00],\n",
       "        [0.00000000e+00, 5.91818161e-06, 0.00000000e+00],\n",
       "        [0.00000000e+00, 5.96906511e-06, 0.00000000e+00],\n",
       "        [0.00000000e+00, 6.01402917e-06, 0.00000000e+00],\n",
       "        [0.00000000e+00, 6.13269731e-06, 0.00000000e+00],\n",
       "        [0.00000000e+00, 6.16394482e-06, 0.00000000e+00],\n",
       "        [0.00000000e+00, 6.20070023e-06, 0.00000000e+00],\n",
       "        [0.00000000e+00, 6.25159691e-06, 0.00000000e+00],\n",
       "        [0.00000000e+00, 6.38517940e-06, 0.00000000e+00],\n",
       "        [0.00000000e+00, 6.41585893e-06, 0.00000000e+00],\n",
       "        [0.00000000e+00, 6.43210251e-06, 0.00000000e+00],\n",
       "        [0.00000000e+00, 6.48565492e-06, 0.00000000e+00],\n",
       "        [0.00000000e+00, 6.50938773e-06, 0.00000000e+00],\n",
       "        [0.00000000e+00, 6.58840599e-06, 0.00000000e+00],\n",
       "        [0.00000000e+00, 6.63698938e-06, 0.00000000e+00],\n",
       "        [0.00000000e+00, 6.76090622e-06, 0.00000000e+00],\n",
       "        [0.00000000e+00, 6.86085104e-06, 0.00000000e+00],\n",
       "        [0.00000000e+00, 6.91706146e-06, 0.00000000e+00],\n",
       "        [0.00000000e+00, 6.93307766e-06, 0.00000000e+00],\n",
       "        [0.00000000e+00, 6.96554480e-06, 0.00000000e+00],\n",
       "        [0.00000000e+00, 7.02935449e-06, 0.00000000e+00],\n",
       "        [0.00000000e+00, 7.04246349e-06, 0.00000000e+00],\n",
       "        [0.00000000e+00, 7.14775797e-06, 0.00000000e+00],\n",
       "        [0.00000000e+00, 7.20840808e-06, 0.00000000e+00],\n",
       "        [0.00000000e+00, 7.28528767e-06, 0.00000000e+00],\n",
       "        [0.00000000e+00, 7.30445072e-06, 0.00000000e+00],\n",
       "        [0.00000000e+00, 7.33530032e-06, 0.00000000e+00],\n",
       "        [0.00000000e+00, 7.34137893e-06, 0.00000000e+00],\n",
       "        [0.00000000e+00, 7.36513948e-06, 0.00000000e+00],\n",
       "        [0.00000000e+00, 7.40017776e-06, 0.00000000e+00],\n",
       "        [0.00000000e+00, 7.44124145e-06, 0.00000000e+00],\n",
       "        [0.00000000e+00, 7.53464019e-06, 0.00000000e+00],\n",
       "        [0.00000000e+00, 7.54490929e-06, 0.00000000e+00],\n",
       "        [0.00000000e+00, 7.67708116e-06, 0.00000000e+00],\n",
       "        [0.00000000e+00, 7.82122970e-06, 0.00000000e+00],\n",
       "        [0.00000000e+00, 7.85126485e-06, 0.00000000e+00],\n",
       "        [0.00000000e+00, 7.89065871e-06, 0.00000000e+00],\n",
       "        [0.00000000e+00, 8.00404632e-06, 0.00000000e+00],\n",
       "        [0.00000000e+00, 8.00417183e-06, 0.00000000e+00],\n",
       "        [0.00000000e+00, 8.26807809e-06, 0.00000000e+00],\n",
       "        [0.00000000e+00, 8.62959041e-06, 0.00000000e+00],\n",
       "        [0.00000000e+00, 8.63759851e-06, 0.00000000e+00],\n",
       "        [0.00000000e+00, 8.67631115e-06, 0.00000000e+00],\n",
       "        [0.00000000e+00, 8.85384816e-06, 0.00000000e+00],\n",
       "        [0.00000000e+00, 8.90922183e-06, 0.00000000e+00],\n",
       "        [0.00000000e+00, 9.20967068e-06, 0.00000000e+00],\n",
       "        [0.00000000e+00, 9.71383452e-06, 0.00000000e+00],\n",
       "        [0.00000000e+00, 1.01457945e-05, 0.00000000e+00],\n",
       "        [0.00000000e+00, 1.04227593e-05, 0.00000000e+00],\n",
       "        [0.00000000e+00, 1.04943156e-05, 0.00000000e+00],\n",
       "        [0.00000000e+00, 1.14343557e-05, 0.00000000e+00],\n",
       "        [0.00000000e+00, 1.22147267e-05, 0.00000000e+00],\n",
       "        [0.00000000e+00, 1.23523914e-05, 0.00000000e+00],\n",
       "        [0.00000000e+00, 1.26098166e-05, 0.00000000e+00],\n",
       "        [1.70310868e-05, 1.75610694e-05, 1.00000000e+00],\n",
       "        [1.53735073e-05, 1.58543571e-05, 1.00000000e+00],\n",
       "        [1.48200706e-05, 1.52398406e-05, 1.00000000e+00],\n",
       "        [1.30467315e-05, 1.38710393e-05, 1.00000000e+00],\n",
       "        [1.27939402e-05, 1.29879436e-05, 1.00000000e+00],\n",
       "        [1.16118681e-05, 1.37187235e-05, 1.00000000e+00],\n",
       "        [1.15163484e-05, 1.21063767e-05, 1.00000000e+00],\n",
       "        [1.09975626e-05, 1.19733177e-05, 1.00000000e+00],\n",
       "        [1.09686780e-05, 1.17175532e-05, 1.00000000e+00],\n",
       "        [1.07350479e-05, 1.13709511e-05, 1.00000000e+00],\n",
       "        [1.03763396e-05, 1.10229057e-05, 1.00000000e+00],\n",
       "        [1.03047814e-05, 1.03924440e-05, 1.00000000e+00],\n",
       "        [1.02780450e-05, 1.03296579e-05, 1.00000000e+00],\n",
       "        [9.96666768e-06, 1.00863654e-05, 1.00000000e+00],\n",
       "        [9.83481368e-06, 1.12138350e-05, 1.00000000e+00],\n",
       "        [9.80472851e-06, 1.30042636e-05, 1.00000000e+00],\n",
       "        [9.64472201e-06, 1.19720253e-05, 1.00000000e+00],\n",
       "        [9.47396074e-06, 1.02213926e-05, 1.00000000e+00],\n",
       "        [9.25723270e-06, 9.96064864e-06, 1.00000000e+00],\n",
       "        [9.17314628e-06, 1.09109869e-05, 1.00000000e+00],\n",
       "        [8.57934265e-06, 9.25126551e-06, 1.00000000e+00],\n",
       "        [8.49929802e-06, 8.50391552e-06, 1.00000000e+00],\n",
       "        [8.35617993e-06, 1.01985479e-05, 1.00000000e+00],\n",
       "        [8.33279410e-06, 1.17416603e-05, 1.00000000e+00],\n",
       "        [8.32982732e-06, 9.67004326e-06, 1.00000000e+00],\n",
       "        [8.29789224e-06, 9.71829559e-06, 1.00000000e+00],\n",
       "        [8.13305087e-06, 9.81463290e-06, 1.00000000e+00],\n",
       "        [8.12528378e-06, 9.63587081e-06, 1.00000000e+00],\n",
       "        [8.00010275e-06, 9.54697498e-06, 1.00000000e+00],\n",
       "        [7.84637541e-06, 1.08568356e-05, 1.00000000e+00],\n",
       "        [7.83418272e-06, 7.97000484e-06, 1.00000000e+00],\n",
       "        [7.76795423e-06, 9.25107088e-06, 1.00000000e+00],\n",
       "        [7.75542867e-06, 9.44710064e-06, 1.00000000e+00],\n",
       "        [7.41588974e-06, 7.62416585e-06, 1.00000000e+00],\n",
       "        [7.40321730e-06, 8.77306684e-06, 1.00000000e+00],\n",
       "        [7.39645839e-06, 9.74045543e-06, 1.00000000e+00],\n",
       "        [7.34687637e-06, 7.86726196e-06, 1.00000000e+00],\n",
       "        [7.26338931e-06, 9.52811297e-06, 1.00000000e+00],\n",
       "        [7.25374866e-06, 1.55026682e-05, 1.00000000e+00],\n",
       "        [7.00448936e-06, 8.03609964e-06, 1.00000000e+00],\n",
       "        [6.26878364e-06, 7.73123429e-06, 1.00000000e+00],\n",
       "        [6.10276265e-06, 6.23828009e-06, 1.00000000e+00],\n",
       "        [5.64925904e-06, 7.64490505e-06, 1.00000000e+00],\n",
       "        [5.64881930e-06, 8.34265302e-06, 1.00000000e+00],\n",
       "        [5.49707374e-06, 6.54440964e-06, 1.00000000e+00],\n",
       "        [5.12395172e-06, 5.19623745e-06, 1.00000000e+00],\n",
       "        [1.55665584e-05, 1.96973015e-05, 2.00000000e+00],\n",
       "        [1.34165439e-05, 1.40998800e-05, 2.00000000e+00],\n",
       "        [1.15382081e-05, 1.19027645e-05, 2.00000000e+00],\n",
       "        [1.02806962e-05, 1.04622441e-05, 2.00000000e+00],\n",
       "        [9.63346793e-06, 9.93182766e-06, 2.00000000e+00],\n",
       "        [8.19344677e-06, 9.44464773e-06, 2.00000000e+00]]])"
      ]
     },
     "execution_count": 37,
     "metadata": {},
     "output_type": "execute_result"
    }
   ],
   "source": [
    "# Build persistent diagram\n",
    "homology_dimensions = [0, 1, 2]\n",
    "\n",
    "persistence = VietorisRipsPersistence(\n",
    "    homology_dimensions=homology_dimensions, n_jobs=6\n",
    ")\n",
    "\n",
    "m10_sample_per_diag = persistence.fit_transform(m10_sample_point_cl)\n",
    "\n",
    "print(\"Persistence diagram for signal\")\n",
    "persistence.fit_transform_plot(m10_sample_point_cl)"
   ]
  },
  {
   "cell_type": "code",
   "execution_count": null,
   "metadata": {
    "colab": {
     "base_uri": "https://localhost:8080/",
     "height": 1000
    },
    "executionInfo": {
     "elapsed": 278,
     "status": "ok",
     "timestamp": 1630060640784,
     "user": {
      "displayName": "Екатерина Михайлец",
      "photoUrl": "",
      "userId": "03958266793788218532"
     },
     "user_tz": -180
    },
    "id": "DtLec9o51wLO",
    "outputId": "8fd1a407-6a1d-4260-bb4d-b2fdd5348be3"
   },
   "outputs": [
    {
     "data": {
      "text/html": [
       "<html>\n",
       "<head><meta charset=\"utf-8\" /></head>\n",
       "<body>\n",
       "    <div>            <script src=\"https://cdnjs.cloudflare.com/ajax/libs/mathjax/2.7.5/MathJax.js?config=TeX-AMS-MML_SVG\"></script><script type=\"text/javascript\">if (window.MathJax) {MathJax.Hub.Config({SVG: {font: \"STIX-Web\"}});}</script>                <script type=\"text/javascript\">window.PlotlyConfig = {MathJaxConfig: 'local'};</script>\n",
       "        <script src=\"https://cdn.plot.ly/plotly-2.3.1.min.js\"></script>                <div id=\"cee8816f-a6a9-4e48-924c-e1dce3766b4b\" class=\"plotly-graph-div\" style=\"height:525px; width:100%;\"></div>            <script type=\"text/javascript\">                                    window.PLOTLYENV=window.PLOTLYENV || {};                                    if (document.getElementById(\"cee8816f-a6a9-4e48-924c-e1dce3766b4b\")) {                    Plotly.newPlot(                        \"cee8816f-a6a9-4e48-924c-e1dce3766b4b\",                        [{\"mode\":\"lines\",\"name\":\"H0\",\"showlegend\":true,\"type\":\"scatter\",\"x\":[0.0,1.2737188507059608e-07,2.5474377014119217e-07,3.8211565521178825e-07,5.094875402823843e-07,6.368594253529804e-07,7.642313104235765e-07,8.916031954941726e-07,1.0189750805647687e-06,1.1463469656353649e-06,1.2737188507059608e-06,1.4010907357765568e-06,1.528462620847153e-06,1.6558345059177492e-06,1.7832063909883452e-06,1.910578276058941e-06,2.0379501611295373e-06,2.1653220462001335e-06,2.2926939312707297e-06,2.4200658163413255e-06,2.5474377014119217e-06,2.674809586482518e-06,2.8021814715531136e-06,2.92955335662371e-06,3.056925241694306e-06,3.184297126764902e-06,3.3116690118354984e-06,3.439040896906094e-06,3.5664127819766903e-06,3.6937846670472865e-06,3.821156552117882e-06,3.9485284371884785e-06,4.075900322259075e-06,4.203272207329671e-06,4.330644092400267e-06,4.458015977470863e-06,4.5853878625414594e-06,4.712759747612055e-06,4.840131632682651e-06,4.967503517753247e-06,5.094875402823843e-06,5.2222472878944395e-06,5.349619172965036e-06,5.476991058035632e-06,5.604362943106227e-06,5.7317348281768235e-06,5.85910671324742e-06,5.986478598318016e-06,6.113850483388612e-06,6.241222368459208e-06,6.368594253529804e-06,6.495966138600401e-06,6.623338023670997e-06,6.750709908741592e-06,6.878081793812188e-06,7.0054536788827845e-06,7.132825563953381e-06,7.260197449023977e-06,7.387569334094573e-06,7.514941219165169e-06,7.642313104235765e-06,7.769684989306362e-06,7.897056874376957e-06,8.024428759447554e-06,8.15180064451815e-06,8.279172529588745e-06,8.406544414659342e-06,8.533916299729937e-06,8.661288184800534e-06,8.78866006987113e-06,8.916031954941726e-06,9.043403840012322e-06,9.170775725082919e-06,9.298147610153514e-06,9.42551949522411e-06,9.552891380294707e-06,9.680263265365302e-06,9.807635150435899e-06,9.935007035506494e-06,1.0062378920577091e-05,1.0189750805647687e-05,1.0317122690718282e-05,1.0444494575788879e-05,1.0571866460859474e-05,1.0699238345930071e-05,1.0826610231000667e-05,1.0953982116071264e-05,1.108135400114186e-05,1.1208725886212455e-05,1.1336097771283052e-05,1.1463469656353647e-05,1.1590841541424244e-05,1.171821342649484e-05,1.1845585311565436e-05,1.1972957196636032e-05,1.2100329081706629e-05,1.2227700966777224e-05,1.235507285184782e-05,1.2482444736918416e-05,1.2609816621989012e-05],\"y\":[127,127,127,127,127,127,127,127,127,127,127,127,126,126,125,124,124,124,123,122,122,122,120,118,118,118,118,115,111,111,109,107,102,98,97,97,95,94,91,86,82,78,73,64,60,59,53,51,50,47,46,42,40,39,37,34,32,30,25,23,21,20,17,15,15,14,14,14,12,11,9,9,9,8,8,8,8,7,7,7,6,6,5,4,4,4,4,4,4,4,3,3,3,3,3,3,2,1,1,0]},{\"mode\":\"lines\",\"name\":\"H1\",\"showlegend\":true,\"type\":\"scatter\",\"x\":[5.123951723362552e-06,5.249579174628109e-06,5.375206625893668e-06,5.500834077159225e-06,5.626461528424782e-06,5.752088979690341e-06,5.877716430955898e-06,6.003343882221455e-06,6.128971333487014e-06,6.254598784752571e-06,6.380226236018129e-06,6.505853687283687e-06,6.631481138549244e-06,6.7571085898148014e-06,6.88273604108036e-06,7.008363492345917e-06,7.133990943611475e-06,7.259618394877033e-06,7.38524584614259e-06,7.5108732974081474e-06,7.636500748673707e-06,7.762128199939262e-06,7.887755651204821e-06,8.013383102470379e-06,8.139010553735936e-06,8.264638005001493e-06,8.390265456267051e-06,8.51589290753261e-06,8.641520358798167e-06,8.767147810063725e-06,8.892775261329282e-06,9.01840271259484e-06,9.144030163860399e-06,9.269657615125954e-06,9.395285066391513e-06,9.52091251765707e-06,9.646539968922628e-06,9.772167420188187e-06,9.897794871453743e-06,1.0023422322719302e-05,1.014904977398486e-05,1.0274677225250417e-05,1.0400304676515974e-05,1.0525932127781532e-05,1.065155957904709e-05,1.0777187030312646e-05,1.0902814481578205e-05,1.1028441932843763e-05,1.115406938410932e-05,1.127969683537488e-05,1.1405324286640435e-05,1.1530951737905994e-05,1.1656579189171551e-05,1.1782206640437109e-05,1.1907834091702668e-05,1.2033461542968224e-05,1.2159088994233783e-05,1.228471644549934e-05,1.2410343896764897e-05,1.2535971348030455e-05,1.2661598799296012e-05,1.278722625056157e-05,1.2912853701827129e-05,1.3038481153092686e-05,1.3164108604358243e-05,1.32897360556238e-05,1.3415363506889358e-05,1.3540990958154917e-05,1.3666618409420475e-05,1.3792245860686032e-05,1.391787331195159e-05,1.4043500763217147e-05,1.4169128214482704e-05,1.4294755665748263e-05,1.442038311701382e-05,1.4546010568279378e-05,1.4671638019544935e-05,1.4797265470810493e-05,1.492289292207605e-05,1.504852037334161e-05,1.5174147824607167e-05,1.5299775275872726e-05,1.542540272713828e-05,1.5551030178403837e-05,1.5676657629669396e-05,1.5802285080934955e-05,1.592791253220051e-05,1.605353998346607e-05,1.617916743473163e-05,1.6304794885997185e-05,1.643042233726274e-05,1.6556049788528303e-05,1.668167723979386e-05,1.6807304691059414e-05,1.6932932142324974e-05,1.7058559593590533e-05,1.718418704485609e-05,1.7309814496121647e-05,1.7435441947387206e-05,1.7561069398652762e-05],\"y\":[1,0,0,1,1,3,3,3,4,3,4,4,3,3,3,4,4,5,7,10,9,8,10,10,11,11,14,14,15,15,14,14,14,14,14,14,12,9,10,10,9,7,8,8,8,9,8,8,8,7,6,7,8,6,6,4,3,3,3,3,3,3,4,2,3,3,3,3,3,2,1,1,1,1,1,1,1,1,2,2,2,1,2,1,1,1,0,0,0,0,0,0,0,0,0,1,1,1,1,0]},{\"mode\":\"lines\",\"name\":\"H2\",\"showlegend\":true,\"type\":\"scatter\",\"x\":[8.193446774384938e-06,8.309647326846842e-06,8.425847879308746e-06,8.54204843177065e-06,8.658248984232555e-06,8.774449536694459e-06,8.890650089156363e-06,9.006850641618266e-06,9.12305119408017e-06,9.239251746542074e-06,9.355452299003978e-06,9.471652851465882e-06,9.587853403927786e-06,9.70405395638969e-06,9.820254508851595e-06,9.936455061313499e-06,1.0052655613775403e-05,1.0168856166237307e-05,1.0285056718699211e-05,1.0401257271161115e-05,1.0517457823623018e-05,1.0633658376084924e-05,1.0749858928546826e-05,1.0866059481008732e-05,1.0982260033470634e-05,1.1098460585932539e-05,1.1214661138394443e-05,1.1330861690856347e-05,1.1447062243318251e-05,1.1563262795780155e-05,1.167946334824206e-05,1.1795663900703963e-05,1.1911864453165868e-05,1.202806500562777e-05,1.2144265558089676e-05,1.2260466110551578e-05,1.2376666663013484e-05,1.2492867215475387e-05,1.2609067767937293e-05,1.2725268320399195e-05,1.2841468872861099e-05,1.2957669425323003e-05,1.3073869977784907e-05,1.3190070530246812e-05,1.3306271082708716e-05,1.342247163517062e-05,1.3538672187632524e-05,1.3654872740094428e-05,1.377107329255633e-05,1.3887273845018237e-05,1.4003474397480139e-05,1.4119674949942045e-05,1.4235875502403947e-05,1.4352076054865853e-05,1.4468276607327756e-05,1.458447715978966e-05,1.4700677712251564e-05,1.4816878264713468e-05,1.4933078817175372e-05,1.5049279369637276e-05,1.516547992209918e-05,1.5281680474561083e-05,1.539788102702299e-05,1.551408157948489e-05,1.5630282131946797e-05,1.57464826844087e-05,1.5862683236870602e-05,1.5978883789332508e-05,1.6095084341794414e-05,1.6211284894256316e-05,1.632748544671822e-05,1.6443685999180124e-05,1.655988655164203e-05,1.6676087104103933e-05,1.6792287656565835e-05,1.690848820902774e-05,1.7024688761489647e-05,1.714088931395155e-05,1.7257089866413452e-05,1.7373290418875354e-05,1.748949097133726e-05,1.7605691523799166e-05,1.772189207626107e-05,1.783809262872297e-05,1.7954293181184877e-05,1.8070493733646783e-05,1.8186694286108685e-05,1.8302894838570587e-05,1.8419095391032493e-05,1.85352959434944e-05,1.86514964959563e-05,1.8767697048418204e-05,1.888389760088011e-05,1.9000098153342012e-05,1.9116298705803918e-05,1.923249925826582e-05,1.9348699810727723e-05,1.946490036318963e-05,1.9581100915651535e-05,1.9697301468113437e-05],\"y\":[1,1,1,1,1,1,1,1,1,1,1,0,0,1,1,0,0,0,1,1,0,0,0,0,0,0,0,0,0,1,1,1,0,0,0,0,0,0,0,0,0,0,0,0,0,1,1,1,1,1,1,0,0,0,0,0,0,0,0,0,0,0,0,0,1,1,1,1,1,1,1,1,1,1,1,1,1,1,1,1,1,1,1,1,1,1,1,1,1,1,1,1,1,1,1,1,1,1,1,0]}],                        {\"plot_bgcolor\":\"white\",\"template\":{\"data\":{\"bar\":[{\"error_x\":{\"color\":\"#2a3f5f\"},\"error_y\":{\"color\":\"#2a3f5f\"},\"marker\":{\"line\":{\"color\":\"#E5ECF6\",\"width\":0.5},\"pattern\":{\"fillmode\":\"overlay\",\"size\":10,\"solidity\":0.2}},\"type\":\"bar\"}],\"barpolar\":[{\"marker\":{\"line\":{\"color\":\"#E5ECF6\",\"width\":0.5},\"pattern\":{\"fillmode\":\"overlay\",\"size\":10,\"solidity\":0.2}},\"type\":\"barpolar\"}],\"carpet\":[{\"aaxis\":{\"endlinecolor\":\"#2a3f5f\",\"gridcolor\":\"white\",\"linecolor\":\"white\",\"minorgridcolor\":\"white\",\"startlinecolor\":\"#2a3f5f\"},\"baxis\":{\"endlinecolor\":\"#2a3f5f\",\"gridcolor\":\"white\",\"linecolor\":\"white\",\"minorgridcolor\":\"white\",\"startlinecolor\":\"#2a3f5f\"},\"type\":\"carpet\"}],\"choropleth\":[{\"colorbar\":{\"outlinewidth\":0,\"ticks\":\"\"},\"type\":\"choropleth\"}],\"contour\":[{\"colorbar\":{\"outlinewidth\":0,\"ticks\":\"\"},\"colorscale\":[[0.0,\"#0d0887\"],[0.1111111111111111,\"#46039f\"],[0.2222222222222222,\"#7201a8\"],[0.3333333333333333,\"#9c179e\"],[0.4444444444444444,\"#bd3786\"],[0.5555555555555556,\"#d8576b\"],[0.6666666666666666,\"#ed7953\"],[0.7777777777777778,\"#fb9f3a\"],[0.8888888888888888,\"#fdca26\"],[1.0,\"#f0f921\"]],\"type\":\"contour\"}],\"contourcarpet\":[{\"colorbar\":{\"outlinewidth\":0,\"ticks\":\"\"},\"type\":\"contourcarpet\"}],\"heatmap\":[{\"colorbar\":{\"outlinewidth\":0,\"ticks\":\"\"},\"colorscale\":[[0.0,\"#0d0887\"],[0.1111111111111111,\"#46039f\"],[0.2222222222222222,\"#7201a8\"],[0.3333333333333333,\"#9c179e\"],[0.4444444444444444,\"#bd3786\"],[0.5555555555555556,\"#d8576b\"],[0.6666666666666666,\"#ed7953\"],[0.7777777777777778,\"#fb9f3a\"],[0.8888888888888888,\"#fdca26\"],[1.0,\"#f0f921\"]],\"type\":\"heatmap\"}],\"heatmapgl\":[{\"colorbar\":{\"outlinewidth\":0,\"ticks\":\"\"},\"colorscale\":[[0.0,\"#0d0887\"],[0.1111111111111111,\"#46039f\"],[0.2222222222222222,\"#7201a8\"],[0.3333333333333333,\"#9c179e\"],[0.4444444444444444,\"#bd3786\"],[0.5555555555555556,\"#d8576b\"],[0.6666666666666666,\"#ed7953\"],[0.7777777777777778,\"#fb9f3a\"],[0.8888888888888888,\"#fdca26\"],[1.0,\"#f0f921\"]],\"type\":\"heatmapgl\"}],\"histogram\":[{\"marker\":{\"pattern\":{\"fillmode\":\"overlay\",\"size\":10,\"solidity\":0.2}},\"type\":\"histogram\"}],\"histogram2d\":[{\"colorbar\":{\"outlinewidth\":0,\"ticks\":\"\"},\"colorscale\":[[0.0,\"#0d0887\"],[0.1111111111111111,\"#46039f\"],[0.2222222222222222,\"#7201a8\"],[0.3333333333333333,\"#9c179e\"],[0.4444444444444444,\"#bd3786\"],[0.5555555555555556,\"#d8576b\"],[0.6666666666666666,\"#ed7953\"],[0.7777777777777778,\"#fb9f3a\"],[0.8888888888888888,\"#fdca26\"],[1.0,\"#f0f921\"]],\"type\":\"histogram2d\"}],\"histogram2dcontour\":[{\"colorbar\":{\"outlinewidth\":0,\"ticks\":\"\"},\"colorscale\":[[0.0,\"#0d0887\"],[0.1111111111111111,\"#46039f\"],[0.2222222222222222,\"#7201a8\"],[0.3333333333333333,\"#9c179e\"],[0.4444444444444444,\"#bd3786\"],[0.5555555555555556,\"#d8576b\"],[0.6666666666666666,\"#ed7953\"],[0.7777777777777778,\"#fb9f3a\"],[0.8888888888888888,\"#fdca26\"],[1.0,\"#f0f921\"]],\"type\":\"histogram2dcontour\"}],\"mesh3d\":[{\"colorbar\":{\"outlinewidth\":0,\"ticks\":\"\"},\"type\":\"mesh3d\"}],\"parcoords\":[{\"line\":{\"colorbar\":{\"outlinewidth\":0,\"ticks\":\"\"}},\"type\":\"parcoords\"}],\"pie\":[{\"automargin\":true,\"type\":\"pie\"}],\"scatter\":[{\"marker\":{\"colorbar\":{\"outlinewidth\":0,\"ticks\":\"\"}},\"type\":\"scatter\"}],\"scatter3d\":[{\"line\":{\"colorbar\":{\"outlinewidth\":0,\"ticks\":\"\"}},\"marker\":{\"colorbar\":{\"outlinewidth\":0,\"ticks\":\"\"}},\"type\":\"scatter3d\"}],\"scattercarpet\":[{\"marker\":{\"colorbar\":{\"outlinewidth\":0,\"ticks\":\"\"}},\"type\":\"scattercarpet\"}],\"scattergeo\":[{\"marker\":{\"colorbar\":{\"outlinewidth\":0,\"ticks\":\"\"}},\"type\":\"scattergeo\"}],\"scattergl\":[{\"marker\":{\"colorbar\":{\"outlinewidth\":0,\"ticks\":\"\"}},\"type\":\"scattergl\"}],\"scattermapbox\":[{\"marker\":{\"colorbar\":{\"outlinewidth\":0,\"ticks\":\"\"}},\"type\":\"scattermapbox\"}],\"scatterpolar\":[{\"marker\":{\"colorbar\":{\"outlinewidth\":0,\"ticks\":\"\"}},\"type\":\"scatterpolar\"}],\"scatterpolargl\":[{\"marker\":{\"colorbar\":{\"outlinewidth\":0,\"ticks\":\"\"}},\"type\":\"scatterpolargl\"}],\"scatterternary\":[{\"marker\":{\"colorbar\":{\"outlinewidth\":0,\"ticks\":\"\"}},\"type\":\"scatterternary\"}],\"surface\":[{\"colorbar\":{\"outlinewidth\":0,\"ticks\":\"\"},\"colorscale\":[[0.0,\"#0d0887\"],[0.1111111111111111,\"#46039f\"],[0.2222222222222222,\"#7201a8\"],[0.3333333333333333,\"#9c179e\"],[0.4444444444444444,\"#bd3786\"],[0.5555555555555556,\"#d8576b\"],[0.6666666666666666,\"#ed7953\"],[0.7777777777777778,\"#fb9f3a\"],[0.8888888888888888,\"#fdca26\"],[1.0,\"#f0f921\"]],\"type\":\"surface\"}],\"table\":[{\"cells\":{\"fill\":{\"color\":\"#EBF0F8\"},\"line\":{\"color\":\"white\"}},\"header\":{\"fill\":{\"color\":\"#C8D4E3\"},\"line\":{\"color\":\"white\"}},\"type\":\"table\"}]},\"layout\":{\"annotationdefaults\":{\"arrowcolor\":\"#2a3f5f\",\"arrowhead\":0,\"arrowwidth\":1},\"autotypenumbers\":\"strict\",\"coloraxis\":{\"colorbar\":{\"outlinewidth\":0,\"ticks\":\"\"}},\"colorscale\":{\"diverging\":[[0,\"#8e0152\"],[0.1,\"#c51b7d\"],[0.2,\"#de77ae\"],[0.3,\"#f1b6da\"],[0.4,\"#fde0ef\"],[0.5,\"#f7f7f7\"],[0.6,\"#e6f5d0\"],[0.7,\"#b8e186\"],[0.8,\"#7fbc41\"],[0.9,\"#4d9221\"],[1,\"#276419\"]],\"sequential\":[[0.0,\"#0d0887\"],[0.1111111111111111,\"#46039f\"],[0.2222222222222222,\"#7201a8\"],[0.3333333333333333,\"#9c179e\"],[0.4444444444444444,\"#bd3786\"],[0.5555555555555556,\"#d8576b\"],[0.6666666666666666,\"#ed7953\"],[0.7777777777777778,\"#fb9f3a\"],[0.8888888888888888,\"#fdca26\"],[1.0,\"#f0f921\"]],\"sequentialminus\":[[0.0,\"#0d0887\"],[0.1111111111111111,\"#46039f\"],[0.2222222222222222,\"#7201a8\"],[0.3333333333333333,\"#9c179e\"],[0.4444444444444444,\"#bd3786\"],[0.5555555555555556,\"#d8576b\"],[0.6666666666666666,\"#ed7953\"],[0.7777777777777778,\"#fb9f3a\"],[0.8888888888888888,\"#fdca26\"],[1.0,\"#f0f921\"]]},\"colorway\":[\"#636efa\",\"#EF553B\",\"#00cc96\",\"#ab63fa\",\"#FFA15A\",\"#19d3f3\",\"#FF6692\",\"#B6E880\",\"#FF97FF\",\"#FECB52\"],\"font\":{\"color\":\"#2a3f5f\"},\"geo\":{\"bgcolor\":\"white\",\"lakecolor\":\"white\",\"landcolor\":\"#E5ECF6\",\"showlakes\":true,\"showland\":true,\"subunitcolor\":\"white\"},\"hoverlabel\":{\"align\":\"left\"},\"hovermode\":\"closest\",\"mapbox\":{\"style\":\"light\"},\"paper_bgcolor\":\"white\",\"plot_bgcolor\":\"#E5ECF6\",\"polar\":{\"angularaxis\":{\"gridcolor\":\"white\",\"linecolor\":\"white\",\"ticks\":\"\"},\"bgcolor\":\"#E5ECF6\",\"radialaxis\":{\"gridcolor\":\"white\",\"linecolor\":\"white\",\"ticks\":\"\"}},\"scene\":{\"xaxis\":{\"backgroundcolor\":\"#E5ECF6\",\"gridcolor\":\"white\",\"gridwidth\":2,\"linecolor\":\"white\",\"showbackground\":true,\"ticks\":\"\",\"zerolinecolor\":\"white\"},\"yaxis\":{\"backgroundcolor\":\"#E5ECF6\",\"gridcolor\":\"white\",\"gridwidth\":2,\"linecolor\":\"white\",\"showbackground\":true,\"ticks\":\"\",\"zerolinecolor\":\"white\"},\"zaxis\":{\"backgroundcolor\":\"#E5ECF6\",\"gridcolor\":\"white\",\"gridwidth\":2,\"linecolor\":\"white\",\"showbackground\":true,\"ticks\":\"\",\"zerolinecolor\":\"white\"}},\"shapedefaults\":{\"line\":{\"color\":\"#2a3f5f\"}},\"ternary\":{\"aaxis\":{\"gridcolor\":\"white\",\"linecolor\":\"white\",\"ticks\":\"\"},\"baxis\":{\"gridcolor\":\"white\",\"linecolor\":\"white\",\"ticks\":\"\"},\"bgcolor\":\"#E5ECF6\",\"caxis\":{\"gridcolor\":\"white\",\"linecolor\":\"white\",\"ticks\":\"\"}},\"title\":{\"x\":0.05},\"xaxis\":{\"automargin\":true,\"gridcolor\":\"white\",\"linecolor\":\"white\",\"ticks\":\"\",\"title\":{\"standoff\":15},\"zerolinecolor\":\"white\",\"zerolinewidth\":2},\"yaxis\":{\"automargin\":true,\"gridcolor\":\"white\",\"linecolor\":\"white\",\"ticks\":\"\",\"title\":{\"standoff\":15},\"zerolinecolor\":\"white\",\"zerolinewidth\":2}}},\"title\":{\"text\":\"Betti curves from diagram 0\"},\"xaxis\":{\"anchor\":\"y\",\"exponentformat\":\"e\",\"linecolor\":\"black\",\"linewidth\":1,\"mirror\":false,\"showexponent\":\"all\",\"showline\":true,\"side\":\"bottom\",\"ticks\":\"outside\",\"title\":{\"text\":\"Filtration parameter\"},\"type\":\"linear\",\"zeroline\":true},\"yaxis\":{\"anchor\":\"x\",\"exponentformat\":\"e\",\"linecolor\":\"black\",\"linewidth\":1,\"mirror\":false,\"showexponent\":\"all\",\"showline\":true,\"side\":\"left\",\"ticks\":\"outside\",\"title\":{\"text\":\"Betti number\"},\"type\":\"linear\",\"zeroline\":true}},                        {\"responsive\": true}                    ).then(function(){\n",
       "                            \n",
       "var gd = document.getElementById('cee8816f-a6a9-4e48-924c-e1dce3766b4b');\n",
       "var x = new MutationObserver(function (mutations, observer) {{\n",
       "        var display = window.getComputedStyle(gd).display;\n",
       "        if (!display || display === 'none') {{\n",
       "            console.log([gd, 'removed!']);\n",
       "            Plotly.purge(gd);\n",
       "            observer.disconnect();\n",
       "        }}\n",
       "}});\n",
       "\n",
       "// Listen for the removal of the full notebook cells\n",
       "var notebookContainer = gd.closest('#notebook-container');\n",
       "if (notebookContainer) {{\n",
       "    x.observe(notebookContainer, {childList: true});\n",
       "}}\n",
       "\n",
       "// Listen for the clearing of the current output cell\n",
       "var outputEl = gd.closest('.output');\n",
       "if (outputEl) {{\n",
       "    x.observe(outputEl, {childList: true});\n",
       "}}\n",
       "\n",
       "                        })                };                            </script>        </div>\n",
       "</body>\n",
       "</html>"
      ]
     },
     "metadata": {},
     "output_type": "display_data"
    },
    {
     "data": {
      "text/plain": [
       "array([[[127, 127, 127, 127, 127, 127, 127, 127, 127, 127, 127, 127,\n",
       "         126, 126, 125, 124, 124, 124, 123, 122, 122, 122, 120, 118,\n",
       "         118, 118, 118, 115, 111, 111, 109, 107, 102,  98,  97,  97,\n",
       "          95,  94,  91,  86,  82,  78,  73,  64,  60,  59,  53,  51,\n",
       "          50,  47,  46,  42,  40,  39,  37,  34,  32,  30,  25,  23,\n",
       "          21,  20,  17,  15,  15,  14,  14,  14,  12,  11,   9,   9,\n",
       "           9,   8,   8,   8,   8,   7,   7,   7,   6,   6,   5,   4,\n",
       "           4,   4,   4,   4,   4,   4,   3,   3,   3,   3,   3,   3,\n",
       "           2,   1,   1,   0],\n",
       "        [  1,   0,   0,   1,   1,   3,   3,   3,   4,   3,   4,   4,\n",
       "           3,   3,   3,   4,   4,   5,   7,  10,   9,   8,  10,  10,\n",
       "          11,  11,  14,  14,  15,  15,  14,  14,  14,  14,  14,  14,\n",
       "          12,   9,  10,  10,   9,   7,   8,   8,   8,   9,   8,   8,\n",
       "           8,   7,   6,   7,   8,   6,   6,   4,   3,   3,   3,   3,\n",
       "           3,   3,   4,   2,   3,   3,   3,   3,   3,   2,   1,   1,\n",
       "           1,   1,   1,   1,   1,   1,   2,   2,   2,   1,   2,   1,\n",
       "           1,   1,   0,   0,   0,   0,   0,   0,   0,   0,   0,   1,\n",
       "           1,   1,   1,   0],\n",
       "        [  1,   1,   1,   1,   1,   1,   1,   1,   1,   1,   1,   0,\n",
       "           0,   1,   1,   0,   0,   0,   1,   1,   0,   0,   0,   0,\n",
       "           0,   0,   0,   0,   0,   1,   1,   1,   0,   0,   0,   0,\n",
       "           0,   0,   0,   0,   0,   0,   0,   0,   0,   1,   1,   1,\n",
       "           1,   1,   1,   0,   0,   0,   0,   0,   0,   0,   0,   0,\n",
       "           0,   0,   0,   0,   1,   1,   1,   1,   1,   1,   1,   1,\n",
       "           1,   1,   1,   1,   1,   1,   1,   1,   1,   1,   1,   1,\n",
       "           1,   1,   1,   1,   1,   1,   1,   1,   1,   1,   1,   1,\n",
       "           1,   1,   1,   0]]])"
      ]
     },
     "execution_count": 38,
     "metadata": {},
     "output_type": "execute_result"
    }
   ],
   "source": [
    "# Getting Betti Sequence\n",
    "betti_sequence = BettiCurve()\n",
    "\n",
    "m10_sample_betti_seq = betti_sequence.fit_transform(m10_sample_per_diag)\n",
    "betti_sequence.fit_transform_plot(m10_sample_per_diag)\n"
   ]
  },
  {
   "cell_type": "code",
   "execution_count": null,
   "metadata": {
    "colab": {
     "base_uri": "https://localhost:8080/",
     "height": 1000
    },
    "executionInfo": {
     "elapsed": 28847,
     "status": "ok",
     "timestamp": 1630060692923,
     "user": {
      "displayName": "Екатерина Михайлец",
      "photoUrl": "",
      "userId": "03958266793788218532"
     },
     "user_tz": -180
    },
    "id": "Y34hJtCD4BHU",
    "outputId": "6edc8dfd-6744-4786-b382-a2d8f1b8680b"
   },
   "outputs": [
    {
     "name": "stdout",
     "output_type": "stream",
     "text": [
      "Persistence diagram for signal\n"
     ]
    },
    {
     "data": {
      "text/html": [
       "<html>\n",
       "<head><meta charset=\"utf-8\" /></head>\n",
       "<body>\n",
       "    <div>            <script src=\"https://cdnjs.cloudflare.com/ajax/libs/mathjax/2.7.5/MathJax.js?config=TeX-AMS-MML_SVG\"></script><script type=\"text/javascript\">if (window.MathJax) {MathJax.Hub.Config({SVG: {font: \"STIX-Web\"}});}</script>                <script type=\"text/javascript\">window.PlotlyConfig = {MathJaxConfig: 'local'};</script>\n",
       "        <script src=\"https://cdn.plot.ly/plotly-2.3.1.min.js\"></script>                <div id=\"181468d4-436e-4ba1-8915-7e394505395a\" class=\"plotly-graph-div\" style=\"height:500px; width:500px;\"></div>            <script type=\"text/javascript\">                                    window.PLOTLYENV=window.PLOTLYENV || {};                                    if (document.getElementById(\"181468d4-436e-4ba1-8915-7e394505395a\")) {                    Plotly.newPlot(                        \"181468d4-436e-4ba1-8915-7e394505395a\",                        [{\"hoverinfo\":\"none\",\"line\":{\"color\":\"black\",\"dash\":\"dash\",\"width\":1},\"mode\":\"lines\",\"showlegend\":false,\"type\":\"scatter\",\"x\":[-3.9394604315114773e-07,2.0091248200708532e-05],\"y\":[-3.9394604315114773e-07,2.0091248200708532e-05]},{\"hoverinfo\":\"text\",\"hovertext\":[\"(0.0, 1.2609816444061447e-05)\",\"(0.0, 1.2352391133267677e-05)\",\"(0.0, 1.2214726847697417e-05)\",\"(0.0, 1.1434355723085019e-05)\",\"(0.0, 1.0494315285767817e-05)\",\"(0.0, 1.0422758809703819e-05)\",\"(0.0, 1.0145794706736977e-05)\",\"(0.0, 9.713834931305234e-06)\",\"(0.0, 9.209670689766499e-06)\",\"(0.0, 8.90922221985933e-06)\",\"(0.0, 8.853848052847313e-06)\",\"(0.0, 8.676311036388585e-06)\",\"(0.0, 8.637598841517761e-06)\",\"(0.0, 8.629590791439512e-06)\",\"(0.0, 8.268078511942242e-06)\",\"(0.0, 8.004171523229107e-06)\",\"(0.0, 8.004046215461107e-06)\",\"(0.0, 7.890658793553475e-06)\",\"(0.0, 7.851264735501531e-06)\",\"(0.0, 7.821229321198654e-06)\",\"(0.0, 7.677080974165008e-06)\",\"(0.0, 7.544909401488793e-06)\",\"(0.0, 7.534640341438784e-06)\",\"(0.0, 7.441241272194306e-06)\",\"(0.0, 7.4001776896570745e-06)\",\"(0.0, 7.365139624634116e-06)\",\"(0.0, 7.341378907666804e-06)\",\"(0.0, 7.335300291214307e-06)\",\"(0.0, 7.304450745535969e-06)\",\"(0.0, 7.2852878084347746e-06)\",\"(0.0, 7.208407857403645e-06)\",\"(0.0, 7.147758066183265e-06)\",\"(0.0, 7.0424635364660585e-06)\",\"(0.0, 7.029354719552145e-06)\",\"(0.0, 6.965544888032643e-06)\",\"(0.0, 6.933077565092811e-06)\",\"(0.0, 6.917061301537732e-06)\",\"(0.0, 6.8608510441226086e-06)\",\"(0.0, 6.760906218872031e-06)\",\"(0.0, 6.636989239574417e-06)\",\"(0.0, 6.588405947789255e-06)\",\"(0.0, 6.509387938468764e-06)\",\"(0.0, 6.4856547123412455e-06)\",\"(0.0, 6.432102598126537e-06)\",\"(0.0, 6.415859068716437e-06)\",\"(0.0, 6.385179238886076e-06)\",\"(0.0, 6.251596832078824e-06)\",\"(0.0, 6.2007002097067965e-06)\",\"(0.0, 6.163944740437916e-06)\",\"(0.0, 6.132697297070566e-06)\",\"(0.0, 6.014029382004069e-06)\",\"(0.0, 5.969065060137643e-06)\",\"(0.0, 5.918181440076455e-06)\",\"(0.0, 5.839741411819656e-06)\",\"(0.0, 5.8269057294998096e-06)\",\"(0.0, 5.791382098759865e-06)\",\"(0.0, 5.782876983626182e-06)\",\"(0.0, 5.765644760908571e-06)\",\"(0.0, 5.7624166749042765e-06)\",\"(0.0, 5.7244886617059844e-06)\",\"(0.0, 5.601060427246463e-06)\",\"(0.0, 5.561512175077961e-06)\",\"(0.0, 5.547684371085431e-06)\",\"(0.0, 5.491769010988845e-06)\",\"(0.0, 5.473357870347315e-06)\",\"(0.0, 5.432587219233286e-06)\",\"(0.0, 5.399466837768633e-06)\",\"(0.0, 5.386347809360736e-06)\",\"(0.0, 5.38310807229965e-06)\",\"(0.0, 5.378720655052984e-06)\",\"(0.0, 5.369988275907332e-06)\",\"(0.0, 5.365402883241099e-06)\",\"(0.0, 5.35595082137011e-06)\",\"(0.0, 5.344164898223183e-06)\",\"(0.0, 5.341316489789267e-06)\",\"(0.0, 5.329083197165077e-06)\",\"(0.0, 5.3287864324880075e-06)\",\"(0.0, 5.302411999948545e-06)\",\"(0.0, 5.218050034099059e-06)\",\"(0.0, 5.1702918306444494e-06)\",\"(0.0, 5.1399923678353565e-06)\",\"(0.0, 5.126027952853303e-06)\",\"(0.0, 5.048207788036043e-06)\",\"(0.0, 5.045520732422928e-06)\",\"(0.0, 4.993559421433185e-06)\",\"(0.0, 4.967948358155619e-06)\",\"(0.0, 4.964081817230195e-06)\",\"(0.0, 4.9189300994827966e-06)\",\"(0.0, 4.910491779648586e-06)\",\"(0.0, 4.873049326385484e-06)\",\"(0.0, 4.8721863168036696e-06)\",\"(0.0, 4.77521947941031e-06)\",\"(0.0, 4.763395560361004e-06)\",\"(0.0, 4.735460802922477e-06)\",\"(0.0, 4.6309249762667315e-06)\",\"(0.0, 4.552363391993135e-06)\",\"(0.0, 4.527844335451444e-06)\",\"(0.0, 4.311657931704192e-06)\",\"(0.0, 4.2013040422234125e-06)\",\"(0.0, 4.138393756374345e-06)\",\"(0.0, 4.1267659845241655e-06)\",\"(0.0, 4.09627652158221e-06)\",\"(0.0, 4.047426200829958e-06)\",\"(0.0, 4.025187510003972e-06)\",\"(0.0, 4.02018736923508e-06)\",\"(0.0, 4.007156180901625e-06)\",\"(0.0, 3.9675220355743876e-06)\",\"(0.0, 3.932024016502571e-06)\",\"(0.0, 3.830628135433014e-06)\",\"(0.0, 3.78586943922589e-06)\",\"(0.0, 3.723363420742469e-06)\",\"(0.0, 3.521372784170433e-06)\",\"(0.0, 3.48215896073089e-06)\",\"(0.0, 3.478758095889449e-06)\",\"(0.0, 3.4586442673477866e-06)\",\"(0.0, 3.4224937434676377e-06)\",\"(0.0, 3.389883890610353e-06)\",\"(0.0, 3.338833848873276e-06)\",\"(0.0, 2.9043014040047373e-06)\",\"(0.0, 2.8327949182827987e-06)\",\"(0.0, 2.7988280386907474e-06)\",\"(0.0, 2.709181223731478e-06)\",\"(0.0, 2.3449970672674736e-06)\",\"(0.0, 2.263449436256865e-06)\",\"(0.0, 1.8859220318646171e-06)\",\"(0.0, 1.6791127743733902e-06)\",\"(0.0, 1.5054407566125484e-06)\"],\"mode\":\"markers\",\"name\":\"H0\",\"type\":\"scatter\",\"x\":[0.0,0.0,0.0,0.0,0.0,0.0,0.0,0.0,0.0,0.0,0.0,0.0,0.0,0.0,0.0,0.0,0.0,0.0,0.0,0.0,0.0,0.0,0.0,0.0,0.0,0.0,0.0,0.0,0.0,0.0,0.0,0.0,0.0,0.0,0.0,0.0,0.0,0.0,0.0,0.0,0.0,0.0,0.0,0.0,0.0,0.0,0.0,0.0,0.0,0.0,0.0,0.0,0.0,0.0,0.0,0.0,0.0,0.0,0.0,0.0,0.0,0.0,0.0,0.0,0.0,0.0,0.0,0.0,0.0,0.0,0.0,0.0,0.0,0.0,0.0,0.0,0.0,0.0,0.0,0.0,0.0,0.0,0.0,0.0,0.0,0.0,0.0,0.0,0.0,0.0,0.0,0.0,0.0,0.0,0.0,0.0,0.0,0.0,0.0,0.0,0.0,0.0,0.0,0.0,0.0,0.0,0.0,0.0,0.0,0.0,0.0,0.0,0.0,0.0,0.0,0.0,0.0,0.0,0.0,0.0,0.0,0.0,0.0,0.0,0.0,0.0,0.0],\"y\":[1.2609816444061447e-05,1.2352391133267677e-05,1.2214726847697417e-05,1.1434355723085019e-05,1.0494315285767817e-05,1.0422758809703819e-05,1.0145794706736977e-05,9.713834931305234e-06,9.209670689766499e-06,8.90922221985933e-06,8.853848052847313e-06,8.676311036388585e-06,8.637598841517761e-06,8.629590791439512e-06,8.268078511942242e-06,8.004171523229107e-06,8.004046215461107e-06,7.890658793553475e-06,7.851264735501531e-06,7.821229321198654e-06,7.677080974165008e-06,7.544909401488793e-06,7.534640341438784e-06,7.441241272194306e-06,7.4001776896570745e-06,7.365139624634116e-06,7.341378907666804e-06,7.335300291214307e-06,7.304450745535969e-06,7.2852878084347746e-06,7.208407857403645e-06,7.147758066183265e-06,7.0424635364660585e-06,7.029354719552145e-06,6.965544888032643e-06,6.933077565092811e-06,6.917061301537732e-06,6.8608510441226086e-06,6.760906218872031e-06,6.636989239574417e-06,6.588405947789255e-06,6.509387938468764e-06,6.4856547123412455e-06,6.432102598126537e-06,6.415859068716437e-06,6.385179238886076e-06,6.251596832078824e-06,6.2007002097067965e-06,6.163944740437916e-06,6.132697297070566e-06,6.014029382004069e-06,5.969065060137643e-06,5.918181440076455e-06,5.839741411819656e-06,5.8269057294998096e-06,5.791382098759865e-06,5.782876983626182e-06,5.765644760908571e-06,5.7624166749042765e-06,5.7244886617059844e-06,5.601060427246463e-06,5.561512175077961e-06,5.547684371085431e-06,5.491769010988845e-06,5.473357870347315e-06,5.432587219233286e-06,5.399466837768633e-06,5.386347809360736e-06,5.38310807229965e-06,5.378720655052984e-06,5.369988275907332e-06,5.365402883241099e-06,5.35595082137011e-06,5.344164898223183e-06,5.341316489789267e-06,5.329083197165077e-06,5.3287864324880075e-06,5.302411999948545e-06,5.218050034099059e-06,5.1702918306444494e-06,5.1399923678353565e-06,5.126027952853303e-06,5.048207788036043e-06,5.045520732422928e-06,4.993559421433185e-06,4.967948358155619e-06,4.964081817230195e-06,4.9189300994827966e-06,4.910491779648586e-06,4.873049326385484e-06,4.8721863168036696e-06,4.77521947941031e-06,4.763395560361004e-06,4.735460802922477e-06,4.6309249762667315e-06,4.552363391993135e-06,4.527844335451444e-06,4.311657931704192e-06,4.2013040422234125e-06,4.138393756374345e-06,4.1267659845241655e-06,4.09627652158221e-06,4.047426200829958e-06,4.025187510003972e-06,4.02018736923508e-06,4.007156180901625e-06,3.9675220355743876e-06,3.932024016502571e-06,3.830628135433014e-06,3.78586943922589e-06,3.723363420742469e-06,3.521372784170433e-06,3.48215896073089e-06,3.478758095889449e-06,3.4586442673477866e-06,3.4224937434676377e-06,3.389883890610353e-06,3.338833848873276e-06,2.9043014040047373e-06,2.8327949182827987e-06,2.7988280386907474e-06,2.709181223731478e-06,2.3449970672674736e-06,2.263449436256865e-06,1.8859220318646171e-06,1.6791127743733902e-06,1.5054407566125484e-06]},{\"hoverinfo\":\"text\",\"hovertext\":[\"(7.253748616680253e-06, 1.550266759381734e-05)\",\"(8.332794173779263e-06, 1.1741660040234555e-05)\",\"(9.804728577575352e-06, 1.3004263221071348e-05)\",\"(7.846375108964527e-06, 1.085683562555494e-05)\",\"(5.648819394790233e-06, 8.342653103192195e-06)\",\"(7.3964583789446e-06, 9.740455536149207e-06)\",\"(9.644722407405724e-06, 1.197202562378156e-05)\",\"(7.263389367229259e-06, 9.528112840583595e-06)\",\"(1.1611868540601718e-05, 1.3718723085215376e-05)\",\"(5.649259184055072e-06, 7.644904717027276e-06)\",\"(8.356179580104121e-06, 1.0198548142118444e-05)\",\"(9.17314653682074e-06, 1.09109873420715e-05)\",\"(7.755428252767457e-06, 9.44710065226869e-06)\",\"(8.133050644185971e-06, 9.81463295566888e-06)\",\"(8.00010289324763e-06, 9.546975254628902e-06)\",\"(8.125283841390102e-06, 9.635870755149247e-06)\",\"(7.767954581181148e-06, 9.251070454368492e-06)\",\"(6.268783593126401e-06, 7.731233903428692e-06)\",\"(8.297892671467682e-06, 9.7182956716425e-06)\",\"(9.834813323713571e-06, 1.1213834798558858e-05)\",\"(7.403217407150765e-06, 8.773066480816004e-06)\",\"(8.329827629023495e-06, 9.670042864860384e-06)\",\"(5.497073589315315e-06, 6.5444095868616115e-06)\",\"(7.004489556657213e-06, 8.036099857459802e-06)\",\"(1.0997562469628143e-05, 1.1973317453934388e-05)\",\"(1.3046731108628863e-05, 1.3871039241514423e-05)\",\"(1.096867818157868e-05, 1.171755320155331e-05)\",\"(9.473960462946713e-06, 1.0221392704236504e-05)\",\"(9.257232485003987e-06, 9.96064845028537e-06)\",\"(8.579342863728493e-06, 9.251265378282443e-06)\",\"(1.0376339163948923e-05, 1.10229058296854e-05)\",\"(1.0735047487916824e-05, 1.1370951452235354e-05)\",\"(1.1516348348892476e-05, 1.2106376516210466e-05)\",\"(1.7031086761819443e-05, 1.7561069184836398e-05)\",\"(7.346876437267503e-06, 7.867262034001786e-06)\",\"(1.5373506372013432e-05, 1.585435784817925e-05)\",\"(1.4820070293397383e-05, 1.5239840942206698e-05)\",\"(7.415889830080148e-06, 7.624165769703651e-06)\",\"(1.2793940154315833e-05, 1.2987943929026525e-05)\",\"(7.834182901192838e-06, 7.970004552774963e-06)\",\"(6.102762517677745e-06, 6.2382799764997895e-06)\",\"(9.966668044332634e-06, 1.0086365524817082e-05)\",\"(1.0304781292894496e-05, 1.0392443534598446e-05)\",\"(5.123951538564871e-06, 5.196237438614637e-06)\",\"(1.0278044928573517e-05, 1.0329657660087815e-05)\",\"(8.499298167353354e-06, 8.503915095639133e-06)\"],\"mode\":\"markers\",\"name\":\"H1\",\"type\":\"scatter\",\"x\":[7.253748616680253e-06,8.332794173779263e-06,9.804728577575352e-06,7.846375108964527e-06,5.648819394790233e-06,7.3964583789446e-06,9.644722407405724e-06,7.263389367229259e-06,1.1611868540601718e-05,5.649259184055072e-06,8.356179580104121e-06,9.17314653682074e-06,7.755428252767457e-06,8.133050644185971e-06,8.00010289324763e-06,8.125283841390102e-06,7.767954581181148e-06,6.268783593126401e-06,8.297892671467682e-06,9.834813323713571e-06,7.403217407150765e-06,8.329827629023495e-06,5.497073589315315e-06,7.004489556657213e-06,1.0997562469628143e-05,1.3046731108628863e-05,1.096867818157868e-05,9.473960462946713e-06,9.257232485003987e-06,8.579342863728493e-06,1.0376339163948923e-05,1.0735047487916824e-05,1.1516348348892476e-05,1.7031086761819443e-05,7.346876437267503e-06,1.5373506372013432e-05,1.4820070293397383e-05,7.415889830080148e-06,1.2793940154315833e-05,7.834182901192838e-06,6.102762517677745e-06,9.966668044332634e-06,1.0304781292894496e-05,5.123951538564871e-06,1.0278044928573517e-05,8.499298167353354e-06],\"y\":[1.550266759381734e-05,1.1741660040234555e-05,1.3004263221071348e-05,1.085683562555494e-05,8.342653103192195e-06,9.740455536149207e-06,1.197202562378156e-05,9.528112840583595e-06,1.3718723085215376e-05,7.644904717027276e-06,1.0198548142118444e-05,1.09109873420715e-05,9.44710065226869e-06,9.81463295566888e-06,9.546975254628902e-06,9.635870755149247e-06,9.251070454368492e-06,7.731233903428692e-06,9.7182956716425e-06,1.1213834798558858e-05,8.773066480816004e-06,9.670042864860384e-06,6.5444095868616115e-06,8.036099857459802e-06,1.1973317453934388e-05,1.3871039241514423e-05,1.171755320155331e-05,1.0221392704236504e-05,9.96064845028537e-06,9.251265378282443e-06,1.10229058296854e-05,1.1370951452235354e-05,1.2106376516210466e-05,1.7561069184836398e-05,7.867262034001786e-06,1.585435784817925e-05,1.5239840942206698e-05,7.624165769703651e-06,1.2987943929026525e-05,7.970004552774963e-06,6.2382799764997895e-06,1.0086365524817082e-05,1.0392443534598446e-05,5.196237438614637e-06,1.0329657660087815e-05,8.503915095639133e-06]},{\"hoverinfo\":\"text\",\"hovertext\":[\"(1.5566558144357924e-05, 1.9697302157557385e-05)\",\"(8.193446904217323e-06, 9.444647605158047e-06)\",\"(1.3416543987592886e-05, 1.4099880347857077e-05)\",\"(1.153820781267857e-05, 1.1902764443065602e-05)\",\"(9.63346776046948e-06, 9.931827950166514e-06)\",\"(1.0280696315103743e-05, 1.046224394739006e-05)\"],\"mode\":\"markers\",\"name\":\"H2\",\"type\":\"scatter\",\"x\":[1.5566558144357924e-05,8.193446904217323e-06,1.3416543987592886e-05,1.153820781267857e-05,9.63346776046948e-06,1.0280696315103743e-05],\"y\":[1.9697302157557385e-05,9.444647605158047e-06,1.4099880347857077e-05,1.1902764443065602e-05,9.931827950166514e-06,1.046224394739006e-05]}],                        {\"height\":500,\"plot_bgcolor\":\"white\",\"template\":{\"data\":{\"bar\":[{\"error_x\":{\"color\":\"#2a3f5f\"},\"error_y\":{\"color\":\"#2a3f5f\"},\"marker\":{\"line\":{\"color\":\"#E5ECF6\",\"width\":0.5},\"pattern\":{\"fillmode\":\"overlay\",\"size\":10,\"solidity\":0.2}},\"type\":\"bar\"}],\"barpolar\":[{\"marker\":{\"line\":{\"color\":\"#E5ECF6\",\"width\":0.5},\"pattern\":{\"fillmode\":\"overlay\",\"size\":10,\"solidity\":0.2}},\"type\":\"barpolar\"}],\"carpet\":[{\"aaxis\":{\"endlinecolor\":\"#2a3f5f\",\"gridcolor\":\"white\",\"linecolor\":\"white\",\"minorgridcolor\":\"white\",\"startlinecolor\":\"#2a3f5f\"},\"baxis\":{\"endlinecolor\":\"#2a3f5f\",\"gridcolor\":\"white\",\"linecolor\":\"white\",\"minorgridcolor\":\"white\",\"startlinecolor\":\"#2a3f5f\"},\"type\":\"carpet\"}],\"choropleth\":[{\"colorbar\":{\"outlinewidth\":0,\"ticks\":\"\"},\"type\":\"choropleth\"}],\"contour\":[{\"colorbar\":{\"outlinewidth\":0,\"ticks\":\"\"},\"colorscale\":[[0.0,\"#0d0887\"],[0.1111111111111111,\"#46039f\"],[0.2222222222222222,\"#7201a8\"],[0.3333333333333333,\"#9c179e\"],[0.4444444444444444,\"#bd3786\"],[0.5555555555555556,\"#d8576b\"],[0.6666666666666666,\"#ed7953\"],[0.7777777777777778,\"#fb9f3a\"],[0.8888888888888888,\"#fdca26\"],[1.0,\"#f0f921\"]],\"type\":\"contour\"}],\"contourcarpet\":[{\"colorbar\":{\"outlinewidth\":0,\"ticks\":\"\"},\"type\":\"contourcarpet\"}],\"heatmap\":[{\"colorbar\":{\"outlinewidth\":0,\"ticks\":\"\"},\"colorscale\":[[0.0,\"#0d0887\"],[0.1111111111111111,\"#46039f\"],[0.2222222222222222,\"#7201a8\"],[0.3333333333333333,\"#9c179e\"],[0.4444444444444444,\"#bd3786\"],[0.5555555555555556,\"#d8576b\"],[0.6666666666666666,\"#ed7953\"],[0.7777777777777778,\"#fb9f3a\"],[0.8888888888888888,\"#fdca26\"],[1.0,\"#f0f921\"]],\"type\":\"heatmap\"}],\"heatmapgl\":[{\"colorbar\":{\"outlinewidth\":0,\"ticks\":\"\"},\"colorscale\":[[0.0,\"#0d0887\"],[0.1111111111111111,\"#46039f\"],[0.2222222222222222,\"#7201a8\"],[0.3333333333333333,\"#9c179e\"],[0.4444444444444444,\"#bd3786\"],[0.5555555555555556,\"#d8576b\"],[0.6666666666666666,\"#ed7953\"],[0.7777777777777778,\"#fb9f3a\"],[0.8888888888888888,\"#fdca26\"],[1.0,\"#f0f921\"]],\"type\":\"heatmapgl\"}],\"histogram\":[{\"marker\":{\"pattern\":{\"fillmode\":\"overlay\",\"size\":10,\"solidity\":0.2}},\"type\":\"histogram\"}],\"histogram2d\":[{\"colorbar\":{\"outlinewidth\":0,\"ticks\":\"\"},\"colorscale\":[[0.0,\"#0d0887\"],[0.1111111111111111,\"#46039f\"],[0.2222222222222222,\"#7201a8\"],[0.3333333333333333,\"#9c179e\"],[0.4444444444444444,\"#bd3786\"],[0.5555555555555556,\"#d8576b\"],[0.6666666666666666,\"#ed7953\"],[0.7777777777777778,\"#fb9f3a\"],[0.8888888888888888,\"#fdca26\"],[1.0,\"#f0f921\"]],\"type\":\"histogram2d\"}],\"histogram2dcontour\":[{\"colorbar\":{\"outlinewidth\":0,\"ticks\":\"\"},\"colorscale\":[[0.0,\"#0d0887\"],[0.1111111111111111,\"#46039f\"],[0.2222222222222222,\"#7201a8\"],[0.3333333333333333,\"#9c179e\"],[0.4444444444444444,\"#bd3786\"],[0.5555555555555556,\"#d8576b\"],[0.6666666666666666,\"#ed7953\"],[0.7777777777777778,\"#fb9f3a\"],[0.8888888888888888,\"#fdca26\"],[1.0,\"#f0f921\"]],\"type\":\"histogram2dcontour\"}],\"mesh3d\":[{\"colorbar\":{\"outlinewidth\":0,\"ticks\":\"\"},\"type\":\"mesh3d\"}],\"parcoords\":[{\"line\":{\"colorbar\":{\"outlinewidth\":0,\"ticks\":\"\"}},\"type\":\"parcoords\"}],\"pie\":[{\"automargin\":true,\"type\":\"pie\"}],\"scatter\":[{\"marker\":{\"colorbar\":{\"outlinewidth\":0,\"ticks\":\"\"}},\"type\":\"scatter\"}],\"scatter3d\":[{\"line\":{\"colorbar\":{\"outlinewidth\":0,\"ticks\":\"\"}},\"marker\":{\"colorbar\":{\"outlinewidth\":0,\"ticks\":\"\"}},\"type\":\"scatter3d\"}],\"scattercarpet\":[{\"marker\":{\"colorbar\":{\"outlinewidth\":0,\"ticks\":\"\"}},\"type\":\"scattercarpet\"}],\"scattergeo\":[{\"marker\":{\"colorbar\":{\"outlinewidth\":0,\"ticks\":\"\"}},\"type\":\"scattergeo\"}],\"scattergl\":[{\"marker\":{\"colorbar\":{\"outlinewidth\":0,\"ticks\":\"\"}},\"type\":\"scattergl\"}],\"scattermapbox\":[{\"marker\":{\"colorbar\":{\"outlinewidth\":0,\"ticks\":\"\"}},\"type\":\"scattermapbox\"}],\"scatterpolar\":[{\"marker\":{\"colorbar\":{\"outlinewidth\":0,\"ticks\":\"\"}},\"type\":\"scatterpolar\"}],\"scatterpolargl\":[{\"marker\":{\"colorbar\":{\"outlinewidth\":0,\"ticks\":\"\"}},\"type\":\"scatterpolargl\"}],\"scatterternary\":[{\"marker\":{\"colorbar\":{\"outlinewidth\":0,\"ticks\":\"\"}},\"type\":\"scatterternary\"}],\"surface\":[{\"colorbar\":{\"outlinewidth\":0,\"ticks\":\"\"},\"colorscale\":[[0.0,\"#0d0887\"],[0.1111111111111111,\"#46039f\"],[0.2222222222222222,\"#7201a8\"],[0.3333333333333333,\"#9c179e\"],[0.4444444444444444,\"#bd3786\"],[0.5555555555555556,\"#d8576b\"],[0.6666666666666666,\"#ed7953\"],[0.7777777777777778,\"#fb9f3a\"],[0.8888888888888888,\"#fdca26\"],[1.0,\"#f0f921\"]],\"type\":\"surface\"}],\"table\":[{\"cells\":{\"fill\":{\"color\":\"#EBF0F8\"},\"line\":{\"color\":\"white\"}},\"header\":{\"fill\":{\"color\":\"#C8D4E3\"},\"line\":{\"color\":\"white\"}},\"type\":\"table\"}]},\"layout\":{\"annotationdefaults\":{\"arrowcolor\":\"#2a3f5f\",\"arrowhead\":0,\"arrowwidth\":1},\"autotypenumbers\":\"strict\",\"coloraxis\":{\"colorbar\":{\"outlinewidth\":0,\"ticks\":\"\"}},\"colorscale\":{\"diverging\":[[0,\"#8e0152\"],[0.1,\"#c51b7d\"],[0.2,\"#de77ae\"],[0.3,\"#f1b6da\"],[0.4,\"#fde0ef\"],[0.5,\"#f7f7f7\"],[0.6,\"#e6f5d0\"],[0.7,\"#b8e186\"],[0.8,\"#7fbc41\"],[0.9,\"#4d9221\"],[1,\"#276419\"]],\"sequential\":[[0.0,\"#0d0887\"],[0.1111111111111111,\"#46039f\"],[0.2222222222222222,\"#7201a8\"],[0.3333333333333333,\"#9c179e\"],[0.4444444444444444,\"#bd3786\"],[0.5555555555555556,\"#d8576b\"],[0.6666666666666666,\"#ed7953\"],[0.7777777777777778,\"#fb9f3a\"],[0.8888888888888888,\"#fdca26\"],[1.0,\"#f0f921\"]],\"sequentialminus\":[[0.0,\"#0d0887\"],[0.1111111111111111,\"#46039f\"],[0.2222222222222222,\"#7201a8\"],[0.3333333333333333,\"#9c179e\"],[0.4444444444444444,\"#bd3786\"],[0.5555555555555556,\"#d8576b\"],[0.6666666666666666,\"#ed7953\"],[0.7777777777777778,\"#fb9f3a\"],[0.8888888888888888,\"#fdca26\"],[1.0,\"#f0f921\"]]},\"colorway\":[\"#636efa\",\"#EF553B\",\"#00cc96\",\"#ab63fa\",\"#FFA15A\",\"#19d3f3\",\"#FF6692\",\"#B6E880\",\"#FF97FF\",\"#FECB52\"],\"font\":{\"color\":\"#2a3f5f\"},\"geo\":{\"bgcolor\":\"white\",\"lakecolor\":\"white\",\"landcolor\":\"#E5ECF6\",\"showlakes\":true,\"showland\":true,\"subunitcolor\":\"white\"},\"hoverlabel\":{\"align\":\"left\"},\"hovermode\":\"closest\",\"mapbox\":{\"style\":\"light\"},\"paper_bgcolor\":\"white\",\"plot_bgcolor\":\"#E5ECF6\",\"polar\":{\"angularaxis\":{\"gridcolor\":\"white\",\"linecolor\":\"white\",\"ticks\":\"\"},\"bgcolor\":\"#E5ECF6\",\"radialaxis\":{\"gridcolor\":\"white\",\"linecolor\":\"white\",\"ticks\":\"\"}},\"scene\":{\"xaxis\":{\"backgroundcolor\":\"#E5ECF6\",\"gridcolor\":\"white\",\"gridwidth\":2,\"linecolor\":\"white\",\"showbackground\":true,\"ticks\":\"\",\"zerolinecolor\":\"white\"},\"yaxis\":{\"backgroundcolor\":\"#E5ECF6\",\"gridcolor\":\"white\",\"gridwidth\":2,\"linecolor\":\"white\",\"showbackground\":true,\"ticks\":\"\",\"zerolinecolor\":\"white\"},\"zaxis\":{\"backgroundcolor\":\"#E5ECF6\",\"gridcolor\":\"white\",\"gridwidth\":2,\"linecolor\":\"white\",\"showbackground\":true,\"ticks\":\"\",\"zerolinecolor\":\"white\"}},\"shapedefaults\":{\"line\":{\"color\":\"#2a3f5f\"}},\"ternary\":{\"aaxis\":{\"gridcolor\":\"white\",\"linecolor\":\"white\",\"ticks\":\"\"},\"baxis\":{\"gridcolor\":\"white\",\"linecolor\":\"white\",\"ticks\":\"\"},\"bgcolor\":\"#E5ECF6\",\"caxis\":{\"gridcolor\":\"white\",\"linecolor\":\"white\",\"ticks\":\"\"}},\"title\":{\"x\":0.05},\"xaxis\":{\"automargin\":true,\"gridcolor\":\"white\",\"linecolor\":\"white\",\"ticks\":\"\",\"title\":{\"standoff\":15},\"zerolinecolor\":\"white\",\"zerolinewidth\":2},\"yaxis\":{\"automargin\":true,\"gridcolor\":\"white\",\"linecolor\":\"white\",\"ticks\":\"\",\"title\":{\"standoff\":15},\"zerolinecolor\":\"white\",\"zerolinewidth\":2}}},\"width\":500,\"xaxis\":{\"autorange\":false,\"exponentformat\":\"e\",\"linecolor\":\"black\",\"linewidth\":1,\"mirror\":false,\"range\":[-3.9394604315114773e-07,2.0091248200708532e-05],\"showexponent\":\"all\",\"showline\":true,\"side\":\"bottom\",\"ticks\":\"outside\",\"title\":{\"text\":\"Birth\"},\"type\":\"linear\",\"zeroline\":true},\"yaxis\":{\"autorange\":false,\"exponentformat\":\"e\",\"linecolor\":\"black\",\"linewidth\":1,\"mirror\":false,\"range\":[-3.9394604315114773e-07,2.0091248200708532e-05],\"scaleanchor\":\"x\",\"scaleratio\":1,\"showexponent\":\"all\",\"showline\":true,\"side\":\"left\",\"ticks\":\"outside\",\"title\":{\"text\":\"Death\"},\"type\":\"linear\",\"zeroline\":true}},                        {\"responsive\": true}                    ).then(function(){\n",
       "                            \n",
       "var gd = document.getElementById('181468d4-436e-4ba1-8915-7e394505395a');\n",
       "var x = new MutationObserver(function (mutations, observer) {{\n",
       "        var display = window.getComputedStyle(gd).display;\n",
       "        if (!display || display === 'none') {{\n",
       "            console.log([gd, 'removed!']);\n",
       "            Plotly.purge(gd);\n",
       "            observer.disconnect();\n",
       "        }}\n",
       "}});\n",
       "\n",
       "// Listen for the removal of the full notebook cells\n",
       "var notebookContainer = gd.closest('#notebook-container');\n",
       "if (notebookContainer) {{\n",
       "    x.observe(notebookContainer, {childList: true});\n",
       "}}\n",
       "\n",
       "// Listen for the clearing of the current output cell\n",
       "var outputEl = gd.closest('.output');\n",
       "if (outputEl) {{\n",
       "    x.observe(outputEl, {childList: true});\n",
       "}}\n",
       "\n",
       "                        })                };                            </script>        </div>\n",
       "</body>\n",
       "</html>"
      ]
     },
     "metadata": {},
     "output_type": "display_data"
    },
    {
     "data": {
      "text/plain": [
       "array([[[0.00000000e+00, 1.26098164e-05, 0.00000000e+00],\n",
       "        [0.00000000e+00, 1.23523911e-05, 0.00000000e+00],\n",
       "        [0.00000000e+00, 1.22147268e-05, 0.00000000e+00],\n",
       "        [0.00000000e+00, 1.14343557e-05, 0.00000000e+00],\n",
       "        [0.00000000e+00, 1.04943153e-05, 0.00000000e+00],\n",
       "        [0.00000000e+00, 1.04227588e-05, 0.00000000e+00],\n",
       "        [0.00000000e+00, 1.01457947e-05, 0.00000000e+00],\n",
       "        [0.00000000e+00, 9.71383493e-06, 0.00000000e+00],\n",
       "        [0.00000000e+00, 9.20967069e-06, 0.00000000e+00],\n",
       "        [0.00000000e+00, 8.90922222e-06, 0.00000000e+00],\n",
       "        [0.00000000e+00, 8.85384805e-06, 0.00000000e+00],\n",
       "        [0.00000000e+00, 8.67631104e-06, 0.00000000e+00],\n",
       "        [0.00000000e+00, 8.63759884e-06, 0.00000000e+00],\n",
       "        [0.00000000e+00, 8.62959079e-06, 0.00000000e+00],\n",
       "        [0.00000000e+00, 8.26807851e-06, 0.00000000e+00],\n",
       "        [0.00000000e+00, 8.00417152e-06, 0.00000000e+00],\n",
       "        [0.00000000e+00, 8.00404622e-06, 0.00000000e+00],\n",
       "        [0.00000000e+00, 7.89065879e-06, 0.00000000e+00],\n",
       "        [0.00000000e+00, 7.85126474e-06, 0.00000000e+00],\n",
       "        [0.00000000e+00, 7.82122932e-06, 0.00000000e+00],\n",
       "        [0.00000000e+00, 7.67708097e-06, 0.00000000e+00],\n",
       "        [0.00000000e+00, 7.54490940e-06, 0.00000000e+00],\n",
       "        [0.00000000e+00, 7.53464034e-06, 0.00000000e+00],\n",
       "        [0.00000000e+00, 7.44124127e-06, 0.00000000e+00],\n",
       "        [0.00000000e+00, 7.40017769e-06, 0.00000000e+00],\n",
       "        [0.00000000e+00, 7.36513962e-06, 0.00000000e+00],\n",
       "        [0.00000000e+00, 7.34137891e-06, 0.00000000e+00],\n",
       "        [0.00000000e+00, 7.33530029e-06, 0.00000000e+00],\n",
       "        [0.00000000e+00, 7.30445075e-06, 0.00000000e+00],\n",
       "        [0.00000000e+00, 7.28528781e-06, 0.00000000e+00],\n",
       "        [0.00000000e+00, 7.20840786e-06, 0.00000000e+00],\n",
       "        [0.00000000e+00, 7.14775807e-06, 0.00000000e+00],\n",
       "        [0.00000000e+00, 7.04246354e-06, 0.00000000e+00],\n",
       "        [0.00000000e+00, 7.02935472e-06, 0.00000000e+00],\n",
       "        [0.00000000e+00, 6.96554489e-06, 0.00000000e+00],\n",
       "        [0.00000000e+00, 6.93307757e-06, 0.00000000e+00],\n",
       "        [0.00000000e+00, 6.91706130e-06, 0.00000000e+00],\n",
       "        [0.00000000e+00, 6.86085104e-06, 0.00000000e+00],\n",
       "        [0.00000000e+00, 6.76090622e-06, 0.00000000e+00],\n",
       "        [0.00000000e+00, 6.63698924e-06, 0.00000000e+00],\n",
       "        [0.00000000e+00, 6.58840595e-06, 0.00000000e+00],\n",
       "        [0.00000000e+00, 6.50938794e-06, 0.00000000e+00],\n",
       "        [0.00000000e+00, 6.48565471e-06, 0.00000000e+00],\n",
       "        [0.00000000e+00, 6.43210260e-06, 0.00000000e+00],\n",
       "        [0.00000000e+00, 6.41585907e-06, 0.00000000e+00],\n",
       "        [0.00000000e+00, 6.38517924e-06, 0.00000000e+00],\n",
       "        [0.00000000e+00, 6.25159683e-06, 0.00000000e+00],\n",
       "        [0.00000000e+00, 6.20070021e-06, 0.00000000e+00],\n",
       "        [0.00000000e+00, 6.16394474e-06, 0.00000000e+00],\n",
       "        [0.00000000e+00, 6.13269730e-06, 0.00000000e+00],\n",
       "        [0.00000000e+00, 6.01402938e-06, 0.00000000e+00],\n",
       "        [0.00000000e+00, 5.96906506e-06, 0.00000000e+00],\n",
       "        [0.00000000e+00, 5.91818144e-06, 0.00000000e+00],\n",
       "        [0.00000000e+00, 5.83974141e-06, 0.00000000e+00],\n",
       "        [0.00000000e+00, 5.82690573e-06, 0.00000000e+00],\n",
       "        [0.00000000e+00, 5.79138210e-06, 0.00000000e+00],\n",
       "        [0.00000000e+00, 5.78287698e-06, 0.00000000e+00],\n",
       "        [0.00000000e+00, 5.76564476e-06, 0.00000000e+00],\n",
       "        [0.00000000e+00, 5.76241667e-06, 0.00000000e+00],\n",
       "        [0.00000000e+00, 5.72448866e-06, 0.00000000e+00],\n",
       "        [0.00000000e+00, 5.60106043e-06, 0.00000000e+00],\n",
       "        [0.00000000e+00, 5.56151218e-06, 0.00000000e+00],\n",
       "        [0.00000000e+00, 5.54768437e-06, 0.00000000e+00],\n",
       "        [0.00000000e+00, 5.49176901e-06, 0.00000000e+00],\n",
       "        [0.00000000e+00, 5.47335787e-06, 0.00000000e+00],\n",
       "        [0.00000000e+00, 5.43258722e-06, 0.00000000e+00],\n",
       "        [0.00000000e+00, 5.39946684e-06, 0.00000000e+00],\n",
       "        [0.00000000e+00, 5.38634781e-06, 0.00000000e+00],\n",
       "        [0.00000000e+00, 5.38310807e-06, 0.00000000e+00],\n",
       "        [0.00000000e+00, 5.37872066e-06, 0.00000000e+00],\n",
       "        [0.00000000e+00, 5.36998828e-06, 0.00000000e+00],\n",
       "        [0.00000000e+00, 5.36540288e-06, 0.00000000e+00],\n",
       "        [0.00000000e+00, 5.35595082e-06, 0.00000000e+00],\n",
       "        [0.00000000e+00, 5.34416490e-06, 0.00000000e+00],\n",
       "        [0.00000000e+00, 5.34131649e-06, 0.00000000e+00],\n",
       "        [0.00000000e+00, 5.32908320e-06, 0.00000000e+00],\n",
       "        [0.00000000e+00, 5.32878643e-06, 0.00000000e+00],\n",
       "        [0.00000000e+00, 5.30241200e-06, 0.00000000e+00],\n",
       "        [0.00000000e+00, 5.21805003e-06, 0.00000000e+00],\n",
       "        [0.00000000e+00, 5.17029183e-06, 0.00000000e+00],\n",
       "        [0.00000000e+00, 5.13999237e-06, 0.00000000e+00],\n",
       "        [0.00000000e+00, 5.12602795e-06, 0.00000000e+00],\n",
       "        [0.00000000e+00, 5.04820779e-06, 0.00000000e+00],\n",
       "        [0.00000000e+00, 5.04552073e-06, 0.00000000e+00],\n",
       "        [0.00000000e+00, 4.99355942e-06, 0.00000000e+00],\n",
       "        [0.00000000e+00, 4.96794836e-06, 0.00000000e+00],\n",
       "        [0.00000000e+00, 4.96408182e-06, 0.00000000e+00],\n",
       "        [0.00000000e+00, 4.91893010e-06, 0.00000000e+00],\n",
       "        [0.00000000e+00, 4.91049178e-06, 0.00000000e+00],\n",
       "        [0.00000000e+00, 4.87304933e-06, 0.00000000e+00],\n",
       "        [0.00000000e+00, 4.87218632e-06, 0.00000000e+00],\n",
       "        [0.00000000e+00, 4.77521948e-06, 0.00000000e+00],\n",
       "        [0.00000000e+00, 4.76339556e-06, 0.00000000e+00],\n",
       "        [0.00000000e+00, 4.73546080e-06, 0.00000000e+00],\n",
       "        [0.00000000e+00, 4.63092498e-06, 0.00000000e+00],\n",
       "        [0.00000000e+00, 4.55236339e-06, 0.00000000e+00],\n",
       "        [0.00000000e+00, 4.52784434e-06, 0.00000000e+00],\n",
       "        [0.00000000e+00, 4.31165793e-06, 0.00000000e+00],\n",
       "        [0.00000000e+00, 4.20130404e-06, 0.00000000e+00],\n",
       "        [0.00000000e+00, 4.13839376e-06, 0.00000000e+00],\n",
       "        [0.00000000e+00, 4.12676598e-06, 0.00000000e+00],\n",
       "        [0.00000000e+00, 4.09627652e-06, 0.00000000e+00],\n",
       "        [0.00000000e+00, 4.04742620e-06, 0.00000000e+00],\n",
       "        [0.00000000e+00, 4.02518751e-06, 0.00000000e+00],\n",
       "        [0.00000000e+00, 4.02018737e-06, 0.00000000e+00],\n",
       "        [0.00000000e+00, 4.00715618e-06, 0.00000000e+00],\n",
       "        [0.00000000e+00, 3.96752204e-06, 0.00000000e+00],\n",
       "        [0.00000000e+00, 3.93202402e-06, 0.00000000e+00],\n",
       "        [0.00000000e+00, 3.83062814e-06, 0.00000000e+00],\n",
       "        [0.00000000e+00, 3.78586944e-06, 0.00000000e+00],\n",
       "        [0.00000000e+00, 3.72336342e-06, 0.00000000e+00],\n",
       "        [0.00000000e+00, 3.52137278e-06, 0.00000000e+00],\n",
       "        [0.00000000e+00, 3.48215896e-06, 0.00000000e+00],\n",
       "        [0.00000000e+00, 3.47875810e-06, 0.00000000e+00],\n",
       "        [0.00000000e+00, 3.45864427e-06, 0.00000000e+00],\n",
       "        [0.00000000e+00, 3.42249374e-06, 0.00000000e+00],\n",
       "        [0.00000000e+00, 3.38988389e-06, 0.00000000e+00],\n",
       "        [0.00000000e+00, 3.33883385e-06, 0.00000000e+00],\n",
       "        [0.00000000e+00, 2.90430140e-06, 0.00000000e+00],\n",
       "        [0.00000000e+00, 2.83279492e-06, 0.00000000e+00],\n",
       "        [0.00000000e+00, 2.79882804e-06, 0.00000000e+00],\n",
       "        [0.00000000e+00, 2.70918122e-06, 0.00000000e+00],\n",
       "        [0.00000000e+00, 2.34499707e-06, 0.00000000e+00],\n",
       "        [0.00000000e+00, 2.26344944e-06, 0.00000000e+00],\n",
       "        [0.00000000e+00, 1.88592203e-06, 0.00000000e+00],\n",
       "        [0.00000000e+00, 1.67911277e-06, 0.00000000e+00],\n",
       "        [0.00000000e+00, 1.50544076e-06, 0.00000000e+00],\n",
       "        [7.25374862e-06, 1.55026676e-05, 1.00000000e+00],\n",
       "        [8.33279417e-06, 1.17416600e-05, 1.00000000e+00],\n",
       "        [9.80472858e-06, 1.30042632e-05, 1.00000000e+00],\n",
       "        [7.84637511e-06, 1.08568356e-05, 1.00000000e+00],\n",
       "        [5.64881939e-06, 8.34265310e-06, 1.00000000e+00],\n",
       "        [7.39645838e-06, 9.74045554e-06, 1.00000000e+00],\n",
       "        [9.64472241e-06, 1.19720256e-05, 1.00000000e+00],\n",
       "        [7.26338937e-06, 9.52811284e-06, 1.00000000e+00],\n",
       "        [1.16118685e-05, 1.37187231e-05, 1.00000000e+00],\n",
       "        [5.64925918e-06, 7.64490472e-06, 1.00000000e+00],\n",
       "        [8.35617958e-06, 1.01985481e-05, 1.00000000e+00],\n",
       "        [9.17314654e-06, 1.09109873e-05, 1.00000000e+00],\n",
       "        [7.75542825e-06, 9.44710065e-06, 1.00000000e+00],\n",
       "        [8.13305064e-06, 9.81463296e-06, 1.00000000e+00],\n",
       "        [8.00010289e-06, 9.54697525e-06, 1.00000000e+00],\n",
       "        [8.12528384e-06, 9.63587076e-06, 1.00000000e+00],\n",
       "        [7.76795458e-06, 9.25107045e-06, 1.00000000e+00],\n",
       "        [6.26878359e-06, 7.73123390e-06, 1.00000000e+00],\n",
       "        [8.29789267e-06, 9.71829567e-06, 1.00000000e+00],\n",
       "        [9.83481332e-06, 1.12138348e-05, 1.00000000e+00],\n",
       "        [7.40321741e-06, 8.77306648e-06, 1.00000000e+00],\n",
       "        [8.32982763e-06, 9.67004286e-06, 1.00000000e+00],\n",
       "        [5.49707359e-06, 6.54440959e-06, 1.00000000e+00],\n",
       "        [7.00448956e-06, 8.03609986e-06, 1.00000000e+00],\n",
       "        [1.09975625e-05, 1.19733175e-05, 1.00000000e+00],\n",
       "        [1.30467311e-05, 1.38710392e-05, 1.00000000e+00],\n",
       "        [1.09686782e-05, 1.17175532e-05, 1.00000000e+00],\n",
       "        [9.47396046e-06, 1.02213927e-05, 1.00000000e+00],\n",
       "        [9.25723249e-06, 9.96064845e-06, 1.00000000e+00],\n",
       "        [8.57934286e-06, 9.25126538e-06, 1.00000000e+00],\n",
       "        [1.03763392e-05, 1.10229058e-05, 1.00000000e+00],\n",
       "        [1.07350475e-05, 1.13709515e-05, 1.00000000e+00],\n",
       "        [1.15163483e-05, 1.21063765e-05, 1.00000000e+00],\n",
       "        [1.70310868e-05, 1.75610692e-05, 1.00000000e+00],\n",
       "        [7.34687644e-06, 7.86726203e-06, 1.00000000e+00],\n",
       "        [1.53735064e-05, 1.58543578e-05, 1.00000000e+00],\n",
       "        [1.48200703e-05, 1.52398409e-05, 1.00000000e+00],\n",
       "        [7.41588983e-06, 7.62416577e-06, 1.00000000e+00],\n",
       "        [1.27939402e-05, 1.29879439e-05, 1.00000000e+00],\n",
       "        [7.83418290e-06, 7.97000455e-06, 1.00000000e+00],\n",
       "        [6.10276252e-06, 6.23827998e-06, 1.00000000e+00],\n",
       "        [9.96666804e-06, 1.00863655e-05, 1.00000000e+00],\n",
       "        [1.03047813e-05, 1.03924435e-05, 1.00000000e+00],\n",
       "        [5.12395154e-06, 5.19623744e-06, 1.00000000e+00],\n",
       "        [1.02780449e-05, 1.03296577e-05, 1.00000000e+00],\n",
       "        [8.49929817e-06, 8.50391510e-06, 1.00000000e+00],\n",
       "        [1.55665581e-05, 1.96973022e-05, 2.00000000e+00],\n",
       "        [8.19344690e-06, 9.44464761e-06, 2.00000000e+00],\n",
       "        [1.34165440e-05, 1.40998803e-05, 2.00000000e+00],\n",
       "        [1.15382078e-05, 1.19027644e-05, 2.00000000e+00],\n",
       "        [9.63346776e-06, 9.93182795e-06, 2.00000000e+00],\n",
       "        [1.02806963e-05, 1.04622439e-05, 2.00000000e+00]]])"
      ]
     },
     "execution_count": 39,
     "metadata": {},
     "output_type": "execute_result"
    }
   ],
   "source": [
    "persist_SR = SparseRipsPersistence(\n",
    "    homology_dimensions=homology_dimensions, n_jobs=6\n",
    ")\n",
    "\n",
    "m10_sample_per_diag = persist_SR.fit_transform(m10_sample_point_cl)\n",
    "\n",
    "print(\"Persistence diagram for signal\")\n",
    "persist_SR.fit_transform_plot(m10_sample_point_cl)"
   ]
  },
  {
   "cell_type": "code",
   "execution_count": null,
   "metadata": {
    "colab": {
     "base_uri": "https://localhost:8080/",
     "height": 1000
    },
    "executionInfo": {
     "elapsed": 294,
     "status": "ok",
     "timestamp": 1630060799235,
     "user": {
      "displayName": "Екатерина Михайлец",
      "photoUrl": "",
      "userId": "03958266793788218532"
     },
     "user_tz": -180
    },
    "id": "8LG4jopuMdNT",
    "outputId": "863e6e18-27a4-48aa-aa26-ed31609949c3"
   },
   "outputs": [
    {
     "data": {
      "text/html": [
       "<html>\n",
       "<head><meta charset=\"utf-8\" /></head>\n",
       "<body>\n",
       "    <div>            <script src=\"https://cdnjs.cloudflare.com/ajax/libs/mathjax/2.7.5/MathJax.js?config=TeX-AMS-MML_SVG\"></script><script type=\"text/javascript\">if (window.MathJax) {MathJax.Hub.Config({SVG: {font: \"STIX-Web\"}});}</script>                <script type=\"text/javascript\">window.PlotlyConfig = {MathJaxConfig: 'local'};</script>\n",
       "        <script src=\"https://cdn.plot.ly/plotly-2.3.1.min.js\"></script>                <div id=\"846e8e7e-6c30-4887-a82f-ddb5e78ade85\" class=\"plotly-graph-div\" style=\"height:525px; width:100%;\"></div>            <script type=\"text/javascript\">                                    window.PLOTLYENV=window.PLOTLYENV || {};                                    if (document.getElementById(\"846e8e7e-6c30-4887-a82f-ddb5e78ade85\")) {                    Plotly.newPlot(                        \"846e8e7e-6c30-4887-a82f-ddb5e78ade85\",                        [{\"mode\":\"lines\",\"name\":\"H0\",\"showlegend\":true,\"type\":\"scatter\",\"x\":[0.0,1.2737188327334794e-07,2.547437665466959e-07,3.8211564982004386e-07,5.094875330933918e-07,6.368594163667397e-07,7.642312996400877e-07,8.916031829134356e-07,1.0189750661867836e-06,1.1463469494601315e-06,1.2737188327334794e-06,1.4010907160068273e-06,1.5284625992801754e-06,1.6558344825535234e-06,1.7832063658268713e-06,1.910578249100219e-06,2.037950132373567e-06,2.1653220156469152e-06,2.292693898920263e-06,2.420065782193611e-06,2.5474376654669588e-06,2.674809548740307e-06,2.8021814320136546e-06,2.9295533152870027e-06,3.056925198560351e-06,3.1842970818336986e-06,3.3116689651070467e-06,3.4390408483803944e-06,3.5664127316537425e-06,3.6937846149270903e-06,3.821156498200438e-06,3.948528381473786e-06,4.075900264747134e-06,4.203272148020482e-06,4.3306440312938305e-06,4.458015914567178e-06,4.585387797840526e-06,4.712759681113874e-06,4.840131564387222e-06,4.9675034476605694e-06,5.0948753309339176e-06,5.222247214207266e-06,5.349619097480614e-06,5.476990980753962e-06,5.604362864027309e-06,5.731734747300657e-06,5.8591066305740055e-06,5.986478513847354e-06,6.113850397120702e-06,6.241222280394049e-06,6.368594163667397e-06,6.495966046940745e-06,6.6233379302140934e-06,6.750709813487441e-06,6.878081696760789e-06,7.005453580034137e-06,7.132825463307485e-06,7.260197346580833e-06,7.3875692298541805e-06,7.514941113127529e-06,7.642312996400876e-06,7.769684879674225e-06,7.897056762947572e-06,8.024428646220921e-06,8.151800529494268e-06,8.279172412767616e-06,8.406544296040965e-06,8.533916179314312e-06,8.661288062587661e-06,8.788659945861008e-06,8.916031829134356e-06,9.043403712407704e-06,9.170775595681052e-06,9.2981474789544e-06,9.425519362227748e-06,9.552891245501095e-06,9.680263128774444e-06,9.807635012047792e-06,9.935006895321139e-06,1.0062378778594488e-05,1.0189750661867835e-05,1.0317122545141184e-05,1.0444494428414531e-05,1.0571866311687879e-05,1.0699238194961228e-05,1.0826610078234575e-05,1.0953981961507924e-05,1.1081353844781271e-05,1.1208725728054618e-05,1.1336097611327967e-05,1.1463469494601315e-05,1.1590841377874664e-05,1.1718213261148011e-05,1.1845585144421358e-05,1.1972957027694707e-05,1.2100328910968055e-05,1.2227700794241404e-05,1.235507267751475e-05,1.2482444560788098e-05,1.2609816444061447e-05],\"y\":[127,127,127,127,127,127,127,127,127,127,127,127,126,126,125,124,124,124,123,122,122,122,120,118,118,118,118,115,111,111,109,107,102,98,97,97,95,94,91,86,82,78,73,64,60,59,53,51,50,47,46,42,40,39,37,34,32,30,25,23,21,20,17,15,15,14,14,14,12,11,9,9,9,8,8,8,8,7,7,7,6,6,5,4,4,4,4,4,4,4,3,3,3,3,3,3,2,1,1,0]},{\"mode\":\"lines\",\"name\":\"H1\",\"showlegend\":true,\"type\":\"scatter\",\"x\":[5.123951538564871e-06,5.249578989537311e-06,5.37520644050975e-06,5.50083389148219e-06,5.62646134245463e-06,5.752088793427069e-06,5.877716244399509e-06,6.003343695371949e-06,6.128971146344389e-06,6.254598597316828e-06,6.380226048289268e-06,6.505853499261707e-06,6.631480950234147e-06,6.757108401206587e-06,6.8827358521790266e-06,7.008363303151466e-06,7.133990754123906e-06,7.259618205096345e-06,7.385245656068785e-06,7.510873107041225e-06,7.636500558013665e-06,7.762128008986104e-06,7.887755459958544e-06,8.013382910930983e-06,8.139010361903423e-06,8.264637812875863e-06,8.390265263848302e-06,8.515892714820742e-06,8.64152016579318e-06,8.767147616765622e-06,8.89277506773806e-06,9.0184025187105e-06,9.14402996968294e-06,9.26965742065538e-06,9.39528487162782e-06,9.520912322600259e-06,9.6465397735727e-06,9.772167224545138e-06,9.897794675517578e-06,1.0023422126490018e-05,1.0149049577462458e-05,1.0274677028434898e-05,1.0400304479407336e-05,1.0525931930379778e-05,1.0651559381352216e-05,1.0777186832324656e-05,1.0902814283297096e-05,1.1028441734269534e-05,1.1154069185241976e-05,1.1279696636214414e-05,1.1405324087186854e-05,1.1530951538159294e-05,1.1656578989131734e-05,1.1782206440104174e-05,1.1907833891076612e-05,1.2033461342049054e-05,1.2159088793021492e-05,1.2284716243993932e-05,1.2410343694966372e-05,1.2535971145938812e-05,1.2661598596911252e-05,1.278722604788369e-05,1.291285349885613e-05,1.303848094982857e-05,1.316410840080101e-05,1.328973585177345e-05,1.341536330274589e-05,1.354099075371833e-05,1.3666618204690768e-05,1.3792245655663208e-05,1.3917873106635648e-05,1.4043500557608088e-05,1.4169128008580528e-05,1.4294755459552968e-05,1.4420382910525406e-05,1.4546010361497846e-05,1.4671637812470286e-05,1.4797265263442726e-05,1.4922892714415166e-05,1.5048520165387606e-05,1.5174147616360046e-05,1.5299775067332482e-05,1.5425402518304924e-05,1.5551029969277366e-05,1.5676657420249804e-05,1.5802284871222242e-05,1.5927912322194684e-05,1.6053539773167122e-05,1.617916722413956e-05,1.6304794675112002e-05,1.6430422126084444e-05,1.6556049577056882e-05,1.668167702802932e-05,1.680730447900176e-05,1.69329319299742e-05,1.7058559380946638e-05,1.718418683191908e-05,1.730981428289152e-05,1.743544173386396e-05,1.7561069184836398e-05],\"y\":[1,0,0,1,1,3,3,3,4,3,4,4,3,3,3,4,4,5,7,10,9,8,10,10,11,11,14,14,15,15,14,14,14,14,14,14,12,9,10,10,9,7,8,8,8,9,8,8,8,7,6,7,8,6,6,4,3,3,3,3,3,3,4,2,3,3,3,3,3,2,1,1,1,1,1,1,1,1,2,2,2,1,2,1,1,1,0,0,0,0,0,0,0,0,0,1,1,1,1,0]},{\"mode\":\"lines\",\"name\":\"H2\",\"showlegend\":true,\"type\":\"scatter\",\"x\":[8.193446904217323e-06,8.30964746233187e-06,8.425848020446416e-06,8.542048578560962e-06,8.658249136675507e-06,8.774449694790053e-06,8.8906502529046e-06,9.006850811019146e-06,9.123051369133692e-06,9.239251927248239e-06,9.355452485362785e-06,9.47165304347733e-06,9.587853601591876e-06,9.704054159706422e-06,9.820254717820969e-06,9.936455275935515e-06,1.0052655834050061e-05,1.0168856392164606e-05,1.0285056950279152e-05,1.0401257508393699e-05,1.0517458066508245e-05,1.0633658624622791e-05,1.0749859182737338e-05,1.0866059740851884e-05,1.098226029896643e-05,1.1098460857080975e-05,1.1214661415195521e-05,1.1330861973310068e-05,1.1447062531424614e-05,1.156326308953916e-05,1.1679463647653705e-05,1.1795664205768251e-05,1.1911864763882798e-05,1.2028065321997344e-05,1.214426588011189e-05,1.2260466438226437e-05,1.2376666996340983e-05,1.249286755445553e-05,1.2609068112570076e-05,1.272526867068462e-05,1.2841469228799167e-05,1.2957669786913713e-05,1.307387034502826e-05,1.3190070903142804e-05,1.330627146125735e-05,1.3422472019371897e-05,1.3538672577486443e-05,1.365487313560099e-05,1.3771073693715536e-05,1.3887274251830082e-05,1.4003474809944628e-05,1.4119675368059175e-05,1.4235875926173721e-05,1.4352076484288266e-05,1.4468277042402812e-05,1.4584477600517358e-05,1.4700678158631903e-05,1.481687871674645e-05,1.4933079274860996e-05,1.5049279832975542e-05,1.5165480391090088e-05,1.5281680949204635e-05,1.539788150731918e-05,1.5514082065433727e-05,1.5630282623548274e-05,1.574648318166282e-05,1.5862683739777366e-05,1.5978884297891913e-05,1.609508485600646e-05,1.6211285414121005e-05,1.6327485972235552e-05,1.6443686530350095e-05,1.655988708846464e-05,1.6676087646579187e-05,1.6792288204693734e-05,1.690848876280828e-05,1.7024689320922826e-05,1.7140889879037373e-05,1.7257090437151916e-05,1.7373290995266462e-05,1.7489491553381008e-05,1.7605692111495555e-05,1.77218926696101e-05,1.7838093227724647e-05,1.7954293785839194e-05,1.807049434395374e-05,1.8186694902068286e-05,1.8302895460182833e-05,1.841909601829738e-05,1.8535296576411925e-05,1.865149713452647e-05,1.8767697692641018e-05,1.8883898250755564e-05,1.900009880887011e-05,1.9116299366984657e-05,1.9232499925099203e-05,1.934870048321375e-05,1.9464901041328296e-05,1.958110159944284e-05,1.9697302157557385e-05],\"y\":[1,1,1,1,1,1,1,1,1,1,1,0,0,1,1,0,0,0,1,1,0,0,0,0,0,0,0,0,0,1,1,1,0,0,0,0,0,0,0,0,0,0,0,0,0,1,1,1,1,1,1,0,0,0,0,0,0,0,0,0,0,0,0,0,1,1,1,1,1,1,1,1,1,1,1,1,1,1,1,1,1,1,1,1,1,1,1,1,1,1,1,1,1,1,1,1,1,1,1,0]}],                        {\"plot_bgcolor\":\"white\",\"template\":{\"data\":{\"bar\":[{\"error_x\":{\"color\":\"#2a3f5f\"},\"error_y\":{\"color\":\"#2a3f5f\"},\"marker\":{\"line\":{\"color\":\"#E5ECF6\",\"width\":0.5},\"pattern\":{\"fillmode\":\"overlay\",\"size\":10,\"solidity\":0.2}},\"type\":\"bar\"}],\"barpolar\":[{\"marker\":{\"line\":{\"color\":\"#E5ECF6\",\"width\":0.5},\"pattern\":{\"fillmode\":\"overlay\",\"size\":10,\"solidity\":0.2}},\"type\":\"barpolar\"}],\"carpet\":[{\"aaxis\":{\"endlinecolor\":\"#2a3f5f\",\"gridcolor\":\"white\",\"linecolor\":\"white\",\"minorgridcolor\":\"white\",\"startlinecolor\":\"#2a3f5f\"},\"baxis\":{\"endlinecolor\":\"#2a3f5f\",\"gridcolor\":\"white\",\"linecolor\":\"white\",\"minorgridcolor\":\"white\",\"startlinecolor\":\"#2a3f5f\"},\"type\":\"carpet\"}],\"choropleth\":[{\"colorbar\":{\"outlinewidth\":0,\"ticks\":\"\"},\"type\":\"choropleth\"}],\"contour\":[{\"colorbar\":{\"outlinewidth\":0,\"ticks\":\"\"},\"colorscale\":[[0.0,\"#0d0887\"],[0.1111111111111111,\"#46039f\"],[0.2222222222222222,\"#7201a8\"],[0.3333333333333333,\"#9c179e\"],[0.4444444444444444,\"#bd3786\"],[0.5555555555555556,\"#d8576b\"],[0.6666666666666666,\"#ed7953\"],[0.7777777777777778,\"#fb9f3a\"],[0.8888888888888888,\"#fdca26\"],[1.0,\"#f0f921\"]],\"type\":\"contour\"}],\"contourcarpet\":[{\"colorbar\":{\"outlinewidth\":0,\"ticks\":\"\"},\"type\":\"contourcarpet\"}],\"heatmap\":[{\"colorbar\":{\"outlinewidth\":0,\"ticks\":\"\"},\"colorscale\":[[0.0,\"#0d0887\"],[0.1111111111111111,\"#46039f\"],[0.2222222222222222,\"#7201a8\"],[0.3333333333333333,\"#9c179e\"],[0.4444444444444444,\"#bd3786\"],[0.5555555555555556,\"#d8576b\"],[0.6666666666666666,\"#ed7953\"],[0.7777777777777778,\"#fb9f3a\"],[0.8888888888888888,\"#fdca26\"],[1.0,\"#f0f921\"]],\"type\":\"heatmap\"}],\"heatmapgl\":[{\"colorbar\":{\"outlinewidth\":0,\"ticks\":\"\"},\"colorscale\":[[0.0,\"#0d0887\"],[0.1111111111111111,\"#46039f\"],[0.2222222222222222,\"#7201a8\"],[0.3333333333333333,\"#9c179e\"],[0.4444444444444444,\"#bd3786\"],[0.5555555555555556,\"#d8576b\"],[0.6666666666666666,\"#ed7953\"],[0.7777777777777778,\"#fb9f3a\"],[0.8888888888888888,\"#fdca26\"],[1.0,\"#f0f921\"]],\"type\":\"heatmapgl\"}],\"histogram\":[{\"marker\":{\"pattern\":{\"fillmode\":\"overlay\",\"size\":10,\"solidity\":0.2}},\"type\":\"histogram\"}],\"histogram2d\":[{\"colorbar\":{\"outlinewidth\":0,\"ticks\":\"\"},\"colorscale\":[[0.0,\"#0d0887\"],[0.1111111111111111,\"#46039f\"],[0.2222222222222222,\"#7201a8\"],[0.3333333333333333,\"#9c179e\"],[0.4444444444444444,\"#bd3786\"],[0.5555555555555556,\"#d8576b\"],[0.6666666666666666,\"#ed7953\"],[0.7777777777777778,\"#fb9f3a\"],[0.8888888888888888,\"#fdca26\"],[1.0,\"#f0f921\"]],\"type\":\"histogram2d\"}],\"histogram2dcontour\":[{\"colorbar\":{\"outlinewidth\":0,\"ticks\":\"\"},\"colorscale\":[[0.0,\"#0d0887\"],[0.1111111111111111,\"#46039f\"],[0.2222222222222222,\"#7201a8\"],[0.3333333333333333,\"#9c179e\"],[0.4444444444444444,\"#bd3786\"],[0.5555555555555556,\"#d8576b\"],[0.6666666666666666,\"#ed7953\"],[0.7777777777777778,\"#fb9f3a\"],[0.8888888888888888,\"#fdca26\"],[1.0,\"#f0f921\"]],\"type\":\"histogram2dcontour\"}],\"mesh3d\":[{\"colorbar\":{\"outlinewidth\":0,\"ticks\":\"\"},\"type\":\"mesh3d\"}],\"parcoords\":[{\"line\":{\"colorbar\":{\"outlinewidth\":0,\"ticks\":\"\"}},\"type\":\"parcoords\"}],\"pie\":[{\"automargin\":true,\"type\":\"pie\"}],\"scatter\":[{\"marker\":{\"colorbar\":{\"outlinewidth\":0,\"ticks\":\"\"}},\"type\":\"scatter\"}],\"scatter3d\":[{\"line\":{\"colorbar\":{\"outlinewidth\":0,\"ticks\":\"\"}},\"marker\":{\"colorbar\":{\"outlinewidth\":0,\"ticks\":\"\"}},\"type\":\"scatter3d\"}],\"scattercarpet\":[{\"marker\":{\"colorbar\":{\"outlinewidth\":0,\"ticks\":\"\"}},\"type\":\"scattercarpet\"}],\"scattergeo\":[{\"marker\":{\"colorbar\":{\"outlinewidth\":0,\"ticks\":\"\"}},\"type\":\"scattergeo\"}],\"scattergl\":[{\"marker\":{\"colorbar\":{\"outlinewidth\":0,\"ticks\":\"\"}},\"type\":\"scattergl\"}],\"scattermapbox\":[{\"marker\":{\"colorbar\":{\"outlinewidth\":0,\"ticks\":\"\"}},\"type\":\"scattermapbox\"}],\"scatterpolar\":[{\"marker\":{\"colorbar\":{\"outlinewidth\":0,\"ticks\":\"\"}},\"type\":\"scatterpolar\"}],\"scatterpolargl\":[{\"marker\":{\"colorbar\":{\"outlinewidth\":0,\"ticks\":\"\"}},\"type\":\"scatterpolargl\"}],\"scatterternary\":[{\"marker\":{\"colorbar\":{\"outlinewidth\":0,\"ticks\":\"\"}},\"type\":\"scatterternary\"}],\"surface\":[{\"colorbar\":{\"outlinewidth\":0,\"ticks\":\"\"},\"colorscale\":[[0.0,\"#0d0887\"],[0.1111111111111111,\"#46039f\"],[0.2222222222222222,\"#7201a8\"],[0.3333333333333333,\"#9c179e\"],[0.4444444444444444,\"#bd3786\"],[0.5555555555555556,\"#d8576b\"],[0.6666666666666666,\"#ed7953\"],[0.7777777777777778,\"#fb9f3a\"],[0.8888888888888888,\"#fdca26\"],[1.0,\"#f0f921\"]],\"type\":\"surface\"}],\"table\":[{\"cells\":{\"fill\":{\"color\":\"#EBF0F8\"},\"line\":{\"color\":\"white\"}},\"header\":{\"fill\":{\"color\":\"#C8D4E3\"},\"line\":{\"color\":\"white\"}},\"type\":\"table\"}]},\"layout\":{\"annotationdefaults\":{\"arrowcolor\":\"#2a3f5f\",\"arrowhead\":0,\"arrowwidth\":1},\"autotypenumbers\":\"strict\",\"coloraxis\":{\"colorbar\":{\"outlinewidth\":0,\"ticks\":\"\"}},\"colorscale\":{\"diverging\":[[0,\"#8e0152\"],[0.1,\"#c51b7d\"],[0.2,\"#de77ae\"],[0.3,\"#f1b6da\"],[0.4,\"#fde0ef\"],[0.5,\"#f7f7f7\"],[0.6,\"#e6f5d0\"],[0.7,\"#b8e186\"],[0.8,\"#7fbc41\"],[0.9,\"#4d9221\"],[1,\"#276419\"]],\"sequential\":[[0.0,\"#0d0887\"],[0.1111111111111111,\"#46039f\"],[0.2222222222222222,\"#7201a8\"],[0.3333333333333333,\"#9c179e\"],[0.4444444444444444,\"#bd3786\"],[0.5555555555555556,\"#d8576b\"],[0.6666666666666666,\"#ed7953\"],[0.7777777777777778,\"#fb9f3a\"],[0.8888888888888888,\"#fdca26\"],[1.0,\"#f0f921\"]],\"sequentialminus\":[[0.0,\"#0d0887\"],[0.1111111111111111,\"#46039f\"],[0.2222222222222222,\"#7201a8\"],[0.3333333333333333,\"#9c179e\"],[0.4444444444444444,\"#bd3786\"],[0.5555555555555556,\"#d8576b\"],[0.6666666666666666,\"#ed7953\"],[0.7777777777777778,\"#fb9f3a\"],[0.8888888888888888,\"#fdca26\"],[1.0,\"#f0f921\"]]},\"colorway\":[\"#636efa\",\"#EF553B\",\"#00cc96\",\"#ab63fa\",\"#FFA15A\",\"#19d3f3\",\"#FF6692\",\"#B6E880\",\"#FF97FF\",\"#FECB52\"],\"font\":{\"color\":\"#2a3f5f\"},\"geo\":{\"bgcolor\":\"white\",\"lakecolor\":\"white\",\"landcolor\":\"#E5ECF6\",\"showlakes\":true,\"showland\":true,\"subunitcolor\":\"white\"},\"hoverlabel\":{\"align\":\"left\"},\"hovermode\":\"closest\",\"mapbox\":{\"style\":\"light\"},\"paper_bgcolor\":\"white\",\"plot_bgcolor\":\"#E5ECF6\",\"polar\":{\"angularaxis\":{\"gridcolor\":\"white\",\"linecolor\":\"white\",\"ticks\":\"\"},\"bgcolor\":\"#E5ECF6\",\"radialaxis\":{\"gridcolor\":\"white\",\"linecolor\":\"white\",\"ticks\":\"\"}},\"scene\":{\"xaxis\":{\"backgroundcolor\":\"#E5ECF6\",\"gridcolor\":\"white\",\"gridwidth\":2,\"linecolor\":\"white\",\"showbackground\":true,\"ticks\":\"\",\"zerolinecolor\":\"white\"},\"yaxis\":{\"backgroundcolor\":\"#E5ECF6\",\"gridcolor\":\"white\",\"gridwidth\":2,\"linecolor\":\"white\",\"showbackground\":true,\"ticks\":\"\",\"zerolinecolor\":\"white\"},\"zaxis\":{\"backgroundcolor\":\"#E5ECF6\",\"gridcolor\":\"white\",\"gridwidth\":2,\"linecolor\":\"white\",\"showbackground\":true,\"ticks\":\"\",\"zerolinecolor\":\"white\"}},\"shapedefaults\":{\"line\":{\"color\":\"#2a3f5f\"}},\"ternary\":{\"aaxis\":{\"gridcolor\":\"white\",\"linecolor\":\"white\",\"ticks\":\"\"},\"baxis\":{\"gridcolor\":\"white\",\"linecolor\":\"white\",\"ticks\":\"\"},\"bgcolor\":\"#E5ECF6\",\"caxis\":{\"gridcolor\":\"white\",\"linecolor\":\"white\",\"ticks\":\"\"}},\"title\":{\"x\":0.05},\"xaxis\":{\"automargin\":true,\"gridcolor\":\"white\",\"linecolor\":\"white\",\"ticks\":\"\",\"title\":{\"standoff\":15},\"zerolinecolor\":\"white\",\"zerolinewidth\":2},\"yaxis\":{\"automargin\":true,\"gridcolor\":\"white\",\"linecolor\":\"white\",\"ticks\":\"\",\"title\":{\"standoff\":15},\"zerolinecolor\":\"white\",\"zerolinewidth\":2}}},\"title\":{\"text\":\"Betti curves from diagram 0\"},\"xaxis\":{\"anchor\":\"y\",\"exponentformat\":\"e\",\"linecolor\":\"black\",\"linewidth\":1,\"mirror\":false,\"showexponent\":\"all\",\"showline\":true,\"side\":\"bottom\",\"ticks\":\"outside\",\"title\":{\"text\":\"Filtration parameter\"},\"type\":\"linear\",\"zeroline\":true},\"yaxis\":{\"anchor\":\"x\",\"exponentformat\":\"e\",\"linecolor\":\"black\",\"linewidth\":1,\"mirror\":false,\"showexponent\":\"all\",\"showline\":true,\"side\":\"left\",\"ticks\":\"outside\",\"title\":{\"text\":\"Betti number\"},\"type\":\"linear\",\"zeroline\":true}},                        {\"responsive\": true}                    ).then(function(){\n",
       "                            \n",
       "var gd = document.getElementById('846e8e7e-6c30-4887-a82f-ddb5e78ade85');\n",
       "var x = new MutationObserver(function (mutations, observer) {{\n",
       "        var display = window.getComputedStyle(gd).display;\n",
       "        if (!display || display === 'none') {{\n",
       "            console.log([gd, 'removed!']);\n",
       "            Plotly.purge(gd);\n",
       "            observer.disconnect();\n",
       "        }}\n",
       "}});\n",
       "\n",
       "// Listen for the removal of the full notebook cells\n",
       "var notebookContainer = gd.closest('#notebook-container');\n",
       "if (notebookContainer) {{\n",
       "    x.observe(notebookContainer, {childList: true});\n",
       "}}\n",
       "\n",
       "// Listen for the clearing of the current output cell\n",
       "var outputEl = gd.closest('.output');\n",
       "if (outputEl) {{\n",
       "    x.observe(outputEl, {childList: true});\n",
       "}}\n",
       "\n",
       "                        })                };                            </script>        </div>\n",
       "</body>\n",
       "</html>"
      ]
     },
     "metadata": {},
     "output_type": "display_data"
    },
    {
     "data": {
      "text/plain": [
       "array([[[127, 127, 127, 127, 127, 127, 127, 127, 127, 127, 127, 127,\n",
       "         126, 126, 125, 124, 124, 124, 123, 122, 122, 122, 120, 118,\n",
       "         118, 118, 118, 115, 111, 111, 109, 107, 102,  98,  97,  97,\n",
       "          95,  94,  91,  86,  82,  78,  73,  64,  60,  59,  53,  51,\n",
       "          50,  47,  46,  42,  40,  39,  37,  34,  32,  30,  25,  23,\n",
       "          21,  20,  17,  15,  15,  14,  14,  14,  12,  11,   9,   9,\n",
       "           9,   8,   8,   8,   8,   7,   7,   7,   6,   6,   5,   4,\n",
       "           4,   4,   4,   4,   4,   4,   3,   3,   3,   3,   3,   3,\n",
       "           2,   1,   1,   0],\n",
       "        [  1,   0,   0,   1,   1,   3,   3,   3,   4,   3,   4,   4,\n",
       "           3,   3,   3,   4,   4,   5,   7,  10,   9,   8,  10,  10,\n",
       "          11,  11,  14,  14,  15,  15,  14,  14,  14,  14,  14,  14,\n",
       "          12,   9,  10,  10,   9,   7,   8,   8,   8,   9,   8,   8,\n",
       "           8,   7,   6,   7,   8,   6,   6,   4,   3,   3,   3,   3,\n",
       "           3,   3,   4,   2,   3,   3,   3,   3,   3,   2,   1,   1,\n",
       "           1,   1,   1,   1,   1,   1,   2,   2,   2,   1,   2,   1,\n",
       "           1,   1,   0,   0,   0,   0,   0,   0,   0,   0,   0,   1,\n",
       "           1,   1,   1,   0],\n",
       "        [  1,   1,   1,   1,   1,   1,   1,   1,   1,   1,   1,   0,\n",
       "           0,   1,   1,   0,   0,   0,   1,   1,   0,   0,   0,   0,\n",
       "           0,   0,   0,   0,   0,   1,   1,   1,   0,   0,   0,   0,\n",
       "           0,   0,   0,   0,   0,   0,   0,   0,   0,   1,   1,   1,\n",
       "           1,   1,   1,   0,   0,   0,   0,   0,   0,   0,   0,   0,\n",
       "           0,   0,   0,   0,   1,   1,   1,   1,   1,   1,   1,   1,\n",
       "           1,   1,   1,   1,   1,   1,   1,   1,   1,   1,   1,   1,\n",
       "           1,   1,   1,   1,   1,   1,   1,   1,   1,   1,   1,   1,\n",
       "           1,   1,   1,   0]]])"
      ]
     },
     "execution_count": 40,
     "metadata": {},
     "output_type": "execute_result"
    }
   ],
   "source": [
    "# Getting Betti Sequence\n",
    "betti_sequence = BettiCurve()\n",
    "\n",
    "m10_sample_betti_seq = betti_sequence.fit_transform(m10_sample_per_diag)\n",
    "betti_sequence.fit_transform_plot(m10_sample_per_diag)"
   ]
  },
  {
   "cell_type": "code",
   "execution_count": null,
   "metadata": {
    "colab": {
     "base_uri": "https://localhost:8080/",
     "height": 1000
    },
    "executionInfo": {
     "elapsed": 409,
     "status": "ok",
     "timestamp": 1630060834513,
     "user": {
      "displayName": "Екатерина Михайлец",
      "photoUrl": "",
      "userId": "03958266793788218532"
     },
     "user_tz": -180
    },
    "id": "ZxQOXtEpb4DC",
    "outputId": "788e57de-3569-4727-ef93-ed76b1234e3e"
   },
   "outputs": [
    {
     "data": {
      "text/html": [
       "<html>\n",
       "<head><meta charset=\"utf-8\" /></head>\n",
       "<body>\n",
       "    <div>            <script src=\"https://cdnjs.cloudflare.com/ajax/libs/mathjax/2.7.5/MathJax.js?config=TeX-AMS-MML_SVG\"></script><script type=\"text/javascript\">if (window.MathJax) {MathJax.Hub.Config({SVG: {font: \"STIX-Web\"}});}</script>                <script type=\"text/javascript\">window.PlotlyConfig = {MathJaxConfig: 'local'};</script>\n",
       "        <script src=\"https://cdn.plot.ly/plotly-2.3.1.min.js\"></script>                <div id=\"63345e89-63b7-4f53-ab44-9ba5f275745b\" class=\"plotly-graph-div\" style=\"height:525px; width:100%;\"></div>            <script type=\"text/javascript\">                                    window.PLOTLYENV=window.PLOTLYENV || {};                                    if (document.getElementById(\"63345e89-63b7-4f53-ab44-9ba5f275745b\")) {                    Plotly.newPlot(                        \"63345e89-63b7-4f53-ab44-9ba5f275745b\",                        [{\"mode\":\"lines\",\"name\":\"H0\",\"showlegend\":true,\"type\":\"scatter\",\"x\":[0.0,1.2737188507059608e-07,2.5474377014119217e-07,3.8211565521178825e-07,5.094875402823843e-07,6.368594253529804e-07,7.642313104235765e-07,8.916031954941726e-07,1.0189750805647687e-06,1.1463469656353649e-06,1.2737188507059608e-06,1.4010907357765568e-06,1.528462620847153e-06,1.6558345059177492e-06,1.7832063909883452e-06,1.910578276058941e-06,2.0379501611295373e-06,2.1653220462001335e-06,2.2926939312707297e-06,2.4200658163413255e-06,2.5474377014119217e-06,2.674809586482518e-06,2.8021814715531136e-06,2.92955335662371e-06,3.056925241694306e-06,3.184297126764902e-06,3.3116690118354984e-06,3.439040896906094e-06,3.5664127819766903e-06,3.6937846670472865e-06,3.821156552117882e-06,3.9485284371884785e-06,4.075900322259075e-06,4.203272207329671e-06,4.330644092400267e-06,4.458015977470863e-06,4.5853878625414594e-06,4.712759747612055e-06,4.840131632682651e-06,4.967503517753247e-06,5.094875402823843e-06,5.2222472878944395e-06,5.349619172965036e-06,5.476991058035632e-06,5.604362943106227e-06,5.7317348281768235e-06,5.85910671324742e-06,5.986478598318016e-06,6.113850483388612e-06,6.241222368459208e-06,6.368594253529804e-06,6.495966138600401e-06,6.623338023670997e-06,6.750709908741592e-06,6.878081793812188e-06,7.0054536788827845e-06,7.132825563953381e-06,7.260197449023977e-06,7.387569334094573e-06,7.514941219165169e-06,7.642313104235765e-06,7.769684989306362e-06,7.897056874376957e-06,8.024428759447554e-06,8.15180064451815e-06,8.279172529588745e-06,8.406544414659342e-06,8.533916299729937e-06,8.661288184800534e-06,8.78866006987113e-06,8.916031954941726e-06,9.043403840012322e-06,9.170775725082919e-06,9.298147610153514e-06,9.42551949522411e-06,9.552891380294707e-06,9.680263265365302e-06,9.807635150435899e-06,9.935007035506494e-06,1.0062378920577091e-05,1.0189750805647687e-05,1.0317122690718282e-05,1.0444494575788879e-05,1.0571866460859474e-05,1.0699238345930071e-05,1.0826610231000667e-05,1.0953982116071264e-05,1.108135400114186e-05,1.1208725886212455e-05,1.1336097771283052e-05,1.1463469656353647e-05,1.1590841541424244e-05,1.171821342649484e-05,1.1845585311565436e-05,1.1972957196636032e-05,1.2100329081706629e-05,1.2227700966777224e-05,1.235507285184782e-05,1.2482444736918416e-05,1.2609816621989012e-05],\"y\":[127,127,127,127,127,127,127,127,127,127,127,127,126,126,125,124,124,124,123,122,122,122,120,118,118,118,118,115,111,111,109,107,102,98,97,97,95,94,91,86,82,78,73,64,60,59,53,51,50,47,46,42,40,39,37,34,32,30,25,23,21,20,17,15,15,14,14,14,12,11,9,9,9,8,8,8,8,7,7,7,6,6,5,4,4,4,4,4,4,4,3,3,3,3,3,3,2,1,1,0]},{\"mode\":\"lines\",\"name\":\"H1\",\"showlegend\":true,\"type\":\"scatter\",\"x\":[5.123951723362552e-06,5.263120191088864e-06,5.402288658815175e-06,5.541457126541486e-06,5.680625594267798e-06,5.819794061994109e-06,5.958962529720421e-06,6.098130997446733e-06,6.237299465173044e-06,6.376467932899356e-06,6.515636400625667e-06,6.654804868351978e-06,6.79397333607829e-06,6.9331418038046015e-06,7.072310271530913e-06,7.211478739257224e-06,7.3506472069835364e-06,7.489815674709847e-06,7.628984142436159e-06,7.76815261016247e-06,7.907321077888781e-06,8.046489545615094e-06,8.185658013341405e-06,8.324826481067717e-06,8.463994948794028e-06,8.603163416520339e-06,8.742331884246651e-06,8.881500351972964e-06,9.020668819699274e-06,9.159837287425585e-06,9.299005755151896e-06,9.438174222878208e-06,9.577342690604521e-06,9.716511158330832e-06,9.855679626057142e-06,9.994848093783455e-06,1.0134016561509766e-05,1.0273185029236078e-05,1.0412353496962389e-05,1.05515219646887e-05,1.0690690432415012e-05,1.0829858900141325e-05,1.0969027367867636e-05,1.1108195835593946e-05,1.1247364303320257e-05,1.138653277104657e-05,1.1525701238772882e-05,1.1664869706499193e-05,1.1804038174225504e-05,1.1943206641951814e-05,1.2082375109678127e-05,1.222154357740444e-05,1.236071204513075e-05,1.2499880512857061e-05,1.2639048980583373e-05,1.2778217448309684e-05,1.2917385916035997e-05,1.3056554383762307e-05,1.3195722851488618e-05,1.333489131921493e-05,1.3474059786941242e-05,1.3613228254667554e-05,1.3752396722393865e-05,1.3891565190120177e-05,1.4030733657846488e-05,1.4169902125572799e-05,1.4309070593299111e-05,1.4448239061025422e-05,1.4587407528751735e-05,1.4726575996478045e-05,1.4865744464204358e-05,1.5004912931930669e-05,1.514408139965698e-05,1.528324986738329e-05,1.5422418335109604e-05,1.5561586802835915e-05,1.5700755270562226e-05,1.5839923738288537e-05,1.5979092206014848e-05,1.6118260673741162e-05,1.6257429141467473e-05,1.6396597609193783e-05,1.6535766076920097e-05,1.6674934544646405e-05,1.681410301237272e-05,1.695327148009903e-05,1.709243994782534e-05,1.7231608415551655e-05,1.7370776883277962e-05,1.7509945351004276e-05,1.7649113818730587e-05,1.7788282286456898e-05,1.7927450754183212e-05,1.806661922190952e-05,1.8205787689635834e-05,1.8344956157362144e-05,1.8484124625088455e-05,1.862329309281477e-05,1.8762461560541077e-05,1.890163002826739e-05],\"y\":[1,0,0,1,3,3,3,3,4,4,4,3,3,3,4,4,7,10,9,9,10,9,11,12,14,15,15,14,14,14,14,14,13,12,10,10,9,7,8,8,8,9,8,8,7,6,7,8,6,6,4,4,3,3,3,3,4,3,3,3,3,3,2,1,1,1,1,1,1,1,2,2,2,1,2,1,1,1,0,0,0,0,0,0,0,0,1,1,1,1,1,1,1,1,1,1,1,1,1,0]},{\"mode\":\"lines\",\"name\":\"H2\",\"showlegend\":true,\"type\":\"scatter\",\"x\":[8.193446774384938e-06,8.309647326846842e-06,8.425847879308746e-06,8.54204843177065e-06,8.658248984232555e-06,8.774449536694459e-06,8.890650089156363e-06,9.006850641618266e-06,9.12305119408017e-06,9.239251746542074e-06,9.355452299003978e-06,9.471652851465882e-06,9.587853403927786e-06,9.70405395638969e-06,9.820254508851595e-06,9.936455061313499e-06,1.0052655613775403e-05,1.0168856166237307e-05,1.0285056718699211e-05,1.0401257271161115e-05,1.0517457823623018e-05,1.0633658376084924e-05,1.0749858928546826e-05,1.0866059481008732e-05,1.0982260033470634e-05,1.1098460585932539e-05,1.1214661138394443e-05,1.1330861690856347e-05,1.1447062243318251e-05,1.1563262795780155e-05,1.167946334824206e-05,1.1795663900703963e-05,1.1911864453165868e-05,1.202806500562777e-05,1.2144265558089676e-05,1.2260466110551578e-05,1.2376666663013484e-05,1.2492867215475387e-05,1.2609067767937293e-05,1.2725268320399195e-05,1.2841468872861099e-05,1.2957669425323003e-05,1.3073869977784907e-05,1.3190070530246812e-05,1.3306271082708716e-05,1.342247163517062e-05,1.3538672187632524e-05,1.3654872740094428e-05,1.377107329255633e-05,1.3887273845018237e-05,1.4003474397480139e-05,1.4119674949942045e-05,1.4235875502403947e-05,1.4352076054865853e-05,1.4468276607327756e-05,1.458447715978966e-05,1.4700677712251564e-05,1.4816878264713468e-05,1.4933078817175372e-05,1.5049279369637276e-05,1.516547992209918e-05,1.5281680474561083e-05,1.539788102702299e-05,1.551408157948489e-05,1.5630282131946797e-05,1.57464826844087e-05,1.5862683236870602e-05,1.5978883789332508e-05,1.6095084341794414e-05,1.6211284894256316e-05,1.632748544671822e-05,1.6443685999180124e-05,1.655988655164203e-05,1.6676087104103933e-05,1.6792287656565835e-05,1.690848820902774e-05,1.7024688761489647e-05,1.714088931395155e-05,1.7257089866413452e-05,1.7373290418875354e-05,1.748949097133726e-05,1.7605691523799166e-05,1.772189207626107e-05,1.783809262872297e-05,1.7954293181184877e-05,1.8070493733646783e-05,1.8186694286108685e-05,1.8302894838570587e-05,1.8419095391032493e-05,1.85352959434944e-05,1.86514964959563e-05,1.8767697048418204e-05,1.888389760088011e-05,1.9000098153342012e-05,1.9116298705803918e-05,1.923249925826582e-05,1.9348699810727723e-05,1.946490036318963e-05,1.9581100915651535e-05,1.9697301468113437e-05],\"y\":[1,1,2,2,2,2,2,1,1,1,1,0,0,1,1,0,0,0,1,1,2,1,1,1,1,1,1,1,0,2,1,1,0,0,0,1,2,2,0,0,0,0,0,0,0,1,1,1,1,1,1,0,0,0,0,0,0,0,1,1,1,1,1,0,1,1,1,1,1,1,1,1,1,1,1,1,1,1,1,1,1,1,1,1,1,1,1,1,1,1,1,1,1,1,1,1,1,1,1,0]}],                        {\"plot_bgcolor\":\"white\",\"template\":{\"data\":{\"bar\":[{\"error_x\":{\"color\":\"#2a3f5f\"},\"error_y\":{\"color\":\"#2a3f5f\"},\"marker\":{\"line\":{\"color\":\"#E5ECF6\",\"width\":0.5},\"pattern\":{\"fillmode\":\"overlay\",\"size\":10,\"solidity\":0.2}},\"type\":\"bar\"}],\"barpolar\":[{\"marker\":{\"line\":{\"color\":\"#E5ECF6\",\"width\":0.5},\"pattern\":{\"fillmode\":\"overlay\",\"size\":10,\"solidity\":0.2}},\"type\":\"barpolar\"}],\"carpet\":[{\"aaxis\":{\"endlinecolor\":\"#2a3f5f\",\"gridcolor\":\"white\",\"linecolor\":\"white\",\"minorgridcolor\":\"white\",\"startlinecolor\":\"#2a3f5f\"},\"baxis\":{\"endlinecolor\":\"#2a3f5f\",\"gridcolor\":\"white\",\"linecolor\":\"white\",\"minorgridcolor\":\"white\",\"startlinecolor\":\"#2a3f5f\"},\"type\":\"carpet\"}],\"choropleth\":[{\"colorbar\":{\"outlinewidth\":0,\"ticks\":\"\"},\"type\":\"choropleth\"}],\"contour\":[{\"colorbar\":{\"outlinewidth\":0,\"ticks\":\"\"},\"colorscale\":[[0.0,\"#0d0887\"],[0.1111111111111111,\"#46039f\"],[0.2222222222222222,\"#7201a8\"],[0.3333333333333333,\"#9c179e\"],[0.4444444444444444,\"#bd3786\"],[0.5555555555555556,\"#d8576b\"],[0.6666666666666666,\"#ed7953\"],[0.7777777777777778,\"#fb9f3a\"],[0.8888888888888888,\"#fdca26\"],[1.0,\"#f0f921\"]],\"type\":\"contour\"}],\"contourcarpet\":[{\"colorbar\":{\"outlinewidth\":0,\"ticks\":\"\"},\"type\":\"contourcarpet\"}],\"heatmap\":[{\"colorbar\":{\"outlinewidth\":0,\"ticks\":\"\"},\"colorscale\":[[0.0,\"#0d0887\"],[0.1111111111111111,\"#46039f\"],[0.2222222222222222,\"#7201a8\"],[0.3333333333333333,\"#9c179e\"],[0.4444444444444444,\"#bd3786\"],[0.5555555555555556,\"#d8576b\"],[0.6666666666666666,\"#ed7953\"],[0.7777777777777778,\"#fb9f3a\"],[0.8888888888888888,\"#fdca26\"],[1.0,\"#f0f921\"]],\"type\":\"heatmap\"}],\"heatmapgl\":[{\"colorbar\":{\"outlinewidth\":0,\"ticks\":\"\"},\"colorscale\":[[0.0,\"#0d0887\"],[0.1111111111111111,\"#46039f\"],[0.2222222222222222,\"#7201a8\"],[0.3333333333333333,\"#9c179e\"],[0.4444444444444444,\"#bd3786\"],[0.5555555555555556,\"#d8576b\"],[0.6666666666666666,\"#ed7953\"],[0.7777777777777778,\"#fb9f3a\"],[0.8888888888888888,\"#fdca26\"],[1.0,\"#f0f921\"]],\"type\":\"heatmapgl\"}],\"histogram\":[{\"marker\":{\"pattern\":{\"fillmode\":\"overlay\",\"size\":10,\"solidity\":0.2}},\"type\":\"histogram\"}],\"histogram2d\":[{\"colorbar\":{\"outlinewidth\":0,\"ticks\":\"\"},\"colorscale\":[[0.0,\"#0d0887\"],[0.1111111111111111,\"#46039f\"],[0.2222222222222222,\"#7201a8\"],[0.3333333333333333,\"#9c179e\"],[0.4444444444444444,\"#bd3786\"],[0.5555555555555556,\"#d8576b\"],[0.6666666666666666,\"#ed7953\"],[0.7777777777777778,\"#fb9f3a\"],[0.8888888888888888,\"#fdca26\"],[1.0,\"#f0f921\"]],\"type\":\"histogram2d\"}],\"histogram2dcontour\":[{\"colorbar\":{\"outlinewidth\":0,\"ticks\":\"\"},\"colorscale\":[[0.0,\"#0d0887\"],[0.1111111111111111,\"#46039f\"],[0.2222222222222222,\"#7201a8\"],[0.3333333333333333,\"#9c179e\"],[0.4444444444444444,\"#bd3786\"],[0.5555555555555556,\"#d8576b\"],[0.6666666666666666,\"#ed7953\"],[0.7777777777777778,\"#fb9f3a\"],[0.8888888888888888,\"#fdca26\"],[1.0,\"#f0f921\"]],\"type\":\"histogram2dcontour\"}],\"mesh3d\":[{\"colorbar\":{\"outlinewidth\":0,\"ticks\":\"\"},\"type\":\"mesh3d\"}],\"parcoords\":[{\"line\":{\"colorbar\":{\"outlinewidth\":0,\"ticks\":\"\"}},\"type\":\"parcoords\"}],\"pie\":[{\"automargin\":true,\"type\":\"pie\"}],\"scatter\":[{\"marker\":{\"colorbar\":{\"outlinewidth\":0,\"ticks\":\"\"}},\"type\":\"scatter\"}],\"scatter3d\":[{\"line\":{\"colorbar\":{\"outlinewidth\":0,\"ticks\":\"\"}},\"marker\":{\"colorbar\":{\"outlinewidth\":0,\"ticks\":\"\"}},\"type\":\"scatter3d\"}],\"scattercarpet\":[{\"marker\":{\"colorbar\":{\"outlinewidth\":0,\"ticks\":\"\"}},\"type\":\"scattercarpet\"}],\"scattergeo\":[{\"marker\":{\"colorbar\":{\"outlinewidth\":0,\"ticks\":\"\"}},\"type\":\"scattergeo\"}],\"scattergl\":[{\"marker\":{\"colorbar\":{\"outlinewidth\":0,\"ticks\":\"\"}},\"type\":\"scattergl\"}],\"scattermapbox\":[{\"marker\":{\"colorbar\":{\"outlinewidth\":0,\"ticks\":\"\"}},\"type\":\"scattermapbox\"}],\"scatterpolar\":[{\"marker\":{\"colorbar\":{\"outlinewidth\":0,\"ticks\":\"\"}},\"type\":\"scatterpolar\"}],\"scatterpolargl\":[{\"marker\":{\"colorbar\":{\"outlinewidth\":0,\"ticks\":\"\"}},\"type\":\"scatterpolargl\"}],\"scatterternary\":[{\"marker\":{\"colorbar\":{\"outlinewidth\":0,\"ticks\":\"\"}},\"type\":\"scatterternary\"}],\"surface\":[{\"colorbar\":{\"outlinewidth\":0,\"ticks\":\"\"},\"colorscale\":[[0.0,\"#0d0887\"],[0.1111111111111111,\"#46039f\"],[0.2222222222222222,\"#7201a8\"],[0.3333333333333333,\"#9c179e\"],[0.4444444444444444,\"#bd3786\"],[0.5555555555555556,\"#d8576b\"],[0.6666666666666666,\"#ed7953\"],[0.7777777777777778,\"#fb9f3a\"],[0.8888888888888888,\"#fdca26\"],[1.0,\"#f0f921\"]],\"type\":\"surface\"}],\"table\":[{\"cells\":{\"fill\":{\"color\":\"#EBF0F8\"},\"line\":{\"color\":\"white\"}},\"header\":{\"fill\":{\"color\":\"#C8D4E3\"},\"line\":{\"color\":\"white\"}},\"type\":\"table\"}]},\"layout\":{\"annotationdefaults\":{\"arrowcolor\":\"#2a3f5f\",\"arrowhead\":0,\"arrowwidth\":1},\"autotypenumbers\":\"strict\",\"coloraxis\":{\"colorbar\":{\"outlinewidth\":0,\"ticks\":\"\"}},\"colorscale\":{\"diverging\":[[0,\"#8e0152\"],[0.1,\"#c51b7d\"],[0.2,\"#de77ae\"],[0.3,\"#f1b6da\"],[0.4,\"#fde0ef\"],[0.5,\"#f7f7f7\"],[0.6,\"#e6f5d0\"],[0.7,\"#b8e186\"],[0.8,\"#7fbc41\"],[0.9,\"#4d9221\"],[1,\"#276419\"]],\"sequential\":[[0.0,\"#0d0887\"],[0.1111111111111111,\"#46039f\"],[0.2222222222222222,\"#7201a8\"],[0.3333333333333333,\"#9c179e\"],[0.4444444444444444,\"#bd3786\"],[0.5555555555555556,\"#d8576b\"],[0.6666666666666666,\"#ed7953\"],[0.7777777777777778,\"#fb9f3a\"],[0.8888888888888888,\"#fdca26\"],[1.0,\"#f0f921\"]],\"sequentialminus\":[[0.0,\"#0d0887\"],[0.1111111111111111,\"#46039f\"],[0.2222222222222222,\"#7201a8\"],[0.3333333333333333,\"#9c179e\"],[0.4444444444444444,\"#bd3786\"],[0.5555555555555556,\"#d8576b\"],[0.6666666666666666,\"#ed7953\"],[0.7777777777777778,\"#fb9f3a\"],[0.8888888888888888,\"#fdca26\"],[1.0,\"#f0f921\"]]},\"colorway\":[\"#636efa\",\"#EF553B\",\"#00cc96\",\"#ab63fa\",\"#FFA15A\",\"#19d3f3\",\"#FF6692\",\"#B6E880\",\"#FF97FF\",\"#FECB52\"],\"font\":{\"color\":\"#2a3f5f\"},\"geo\":{\"bgcolor\":\"white\",\"lakecolor\":\"white\",\"landcolor\":\"#E5ECF6\",\"showlakes\":true,\"showland\":true,\"subunitcolor\":\"white\"},\"hoverlabel\":{\"align\":\"left\"},\"hovermode\":\"closest\",\"mapbox\":{\"style\":\"light\"},\"paper_bgcolor\":\"white\",\"plot_bgcolor\":\"#E5ECF6\",\"polar\":{\"angularaxis\":{\"gridcolor\":\"white\",\"linecolor\":\"white\",\"ticks\":\"\"},\"bgcolor\":\"#E5ECF6\",\"radialaxis\":{\"gridcolor\":\"white\",\"linecolor\":\"white\",\"ticks\":\"\"}},\"scene\":{\"xaxis\":{\"backgroundcolor\":\"#E5ECF6\",\"gridcolor\":\"white\",\"gridwidth\":2,\"linecolor\":\"white\",\"showbackground\":true,\"ticks\":\"\",\"zerolinecolor\":\"white\"},\"yaxis\":{\"backgroundcolor\":\"#E5ECF6\",\"gridcolor\":\"white\",\"gridwidth\":2,\"linecolor\":\"white\",\"showbackground\":true,\"ticks\":\"\",\"zerolinecolor\":\"white\"},\"zaxis\":{\"backgroundcolor\":\"#E5ECF6\",\"gridcolor\":\"white\",\"gridwidth\":2,\"linecolor\":\"white\",\"showbackground\":true,\"ticks\":\"\",\"zerolinecolor\":\"white\"}},\"shapedefaults\":{\"line\":{\"color\":\"#2a3f5f\"}},\"ternary\":{\"aaxis\":{\"gridcolor\":\"white\",\"linecolor\":\"white\",\"ticks\":\"\"},\"baxis\":{\"gridcolor\":\"white\",\"linecolor\":\"white\",\"ticks\":\"\"},\"bgcolor\":\"#E5ECF6\",\"caxis\":{\"gridcolor\":\"white\",\"linecolor\":\"white\",\"ticks\":\"\"}},\"title\":{\"x\":0.05},\"xaxis\":{\"automargin\":true,\"gridcolor\":\"white\",\"linecolor\":\"white\",\"ticks\":\"\",\"title\":{\"standoff\":15},\"zerolinecolor\":\"white\",\"zerolinewidth\":2},\"yaxis\":{\"automargin\":true,\"gridcolor\":\"white\",\"linecolor\":\"white\",\"ticks\":\"\",\"title\":{\"standoff\":15},\"zerolinecolor\":\"white\",\"zerolinewidth\":2}}},\"title\":{\"text\":\"Betti curves from diagram 0\"},\"xaxis\":{\"anchor\":\"y\",\"exponentformat\":\"e\",\"linecolor\":\"black\",\"linewidth\":1,\"mirror\":false,\"showexponent\":\"all\",\"showline\":true,\"side\":\"bottom\",\"ticks\":\"outside\",\"title\":{\"text\":\"Filtration parameter\"},\"type\":\"linear\",\"zeroline\":true},\"yaxis\":{\"anchor\":\"x\",\"exponentformat\":\"e\",\"linecolor\":\"black\",\"linewidth\":1,\"mirror\":false,\"showexponent\":\"all\",\"showline\":true,\"side\":\"left\",\"ticks\":\"outside\",\"title\":{\"text\":\"Betti number\"},\"type\":\"linear\",\"zeroline\":true}},                        {\"responsive\": true}                    ).then(function(){\n",
       "                            \n",
       "var gd = document.getElementById('63345e89-63b7-4f53-ab44-9ba5f275745b');\n",
       "var x = new MutationObserver(function (mutations, observer) {{\n",
       "        var display = window.getComputedStyle(gd).display;\n",
       "        if (!display || display === 'none') {{\n",
       "            console.log([gd, 'removed!']);\n",
       "            Plotly.purge(gd);\n",
       "            observer.disconnect();\n",
       "        }}\n",
       "}});\n",
       "\n",
       "// Listen for the removal of the full notebook cells\n",
       "var notebookContainer = gd.closest('#notebook-container');\n",
       "if (notebookContainer) {{\n",
       "    x.observe(notebookContainer, {childList: true});\n",
       "}}\n",
       "\n",
       "// Listen for the clearing of the current output cell\n",
       "var outputEl = gd.closest('.output');\n",
       "if (outputEl) {{\n",
       "    x.observe(outputEl, {childList: true});\n",
       "}}\n",
       "\n",
       "                        })                };                            </script>        </div>\n",
       "</body>\n",
       "</html>"
      ]
     },
     "metadata": {},
     "output_type": "display_data"
    },
    {
     "data": {
      "text/plain": [
       "array([[[127, 127, 127, 127, 127, 127, 127, 127, 127, 127, 127, 127,\n",
       "         126, 126, 125, 124, 124, 124, 123, 122, 122, 122, 120, 118,\n",
       "         118, 118, 118, 115, 111, 111, 109, 107, 102,  98,  97,  97,\n",
       "          95,  94,  91,  86,  82,  78,  73,  64,  60,  59,  53,  51,\n",
       "          50,  47,  46,  42,  40,  39,  37,  34,  32,  30,  25,  23,\n",
       "          21,  20,  17,  15,  15,  14,  14,  14,  12,  11,   9,   9,\n",
       "           9,   8,   8,   8,   8,   7,   7,   7,   6,   6,   5,   4,\n",
       "           4,   4,   4,   4,   4,   4,   3,   3,   3,   3,   3,   3,\n",
       "           2,   1,   1,   0],\n",
       "        [  1,   0,   0,   1,   3,   3,   3,   3,   4,   4,   4,   3,\n",
       "           3,   3,   4,   4,   7,  10,   9,   9,  10,   9,  11,  12,\n",
       "          14,  15,  15,  14,  14,  14,  14,  14,  13,  12,  10,  10,\n",
       "           9,   7,   8,   8,   8,   9,   8,   8,   7,   6,   7,   8,\n",
       "           6,   6,   4,   4,   3,   3,   3,   3,   4,   3,   3,   3,\n",
       "           3,   3,   2,   1,   1,   1,   1,   1,   1,   1,   2,   2,\n",
       "           2,   1,   2,   1,   1,   1,   0,   0,   0,   0,   0,   0,\n",
       "           0,   0,   1,   1,   1,   1,   1,   1,   1,   1,   1,   1,\n",
       "           1,   1,   1,   0],\n",
       "        [  1,   1,   2,   2,   2,   2,   2,   1,   1,   1,   1,   0,\n",
       "           0,   1,   1,   0,   0,   0,   1,   1,   2,   1,   1,   1,\n",
       "           1,   1,   1,   1,   0,   2,   1,   1,   0,   0,   0,   1,\n",
       "           2,   2,   0,   0,   0,   0,   0,   0,   0,   1,   1,   1,\n",
       "           1,   1,   1,   0,   0,   0,   0,   0,   0,   0,   1,   1,\n",
       "           1,   1,   1,   0,   1,   1,   1,   1,   1,   1,   1,   1,\n",
       "           1,   1,   1,   1,   1,   1,   1,   1,   1,   1,   1,   1,\n",
       "           1,   1,   1,   1,   1,   1,   1,   1,   1,   1,   1,   1,\n",
       "           1,   1,   1,   0]]])"
      ]
     },
     "execution_count": 42,
     "metadata": {},
     "output_type": "execute_result"
    }
   ],
   "source": [
    "# Getting Betti Sequence\n",
    "betti_sequence = BettiCurve()\n",
    "\n",
    "m10_sample_betti_seq = betti_sequence.fit_transform(m10_sample_per_diag)\n",
    "betti_sequence.fit_transform_plot(m10_sample_per_diag)"
   ]
  },
  {
   "cell_type": "markdown",
   "metadata": {
    "id": "ZYvLHeXtcYHa"
   },
   "source": [
    "# TDA methods for all epochs of 19 EEG channels"
   ]
  },
  {
   "cell_type": "code",
   "execution_count": null,
   "metadata": {
    "colab": {
     "base_uri": "https://localhost:8080/"
    },
    "executionInfo": {
     "elapsed": 254,
     "status": "ok",
     "timestamp": 1630061060128,
     "user": {
      "displayName": "Екатерина Михайлец",
      "photoUrl": "",
      "userId": "03958266793788218532"
     },
     "user_tz": -180
    },
    "id": "-eyhRNX-dJWj",
    "outputId": "bc79a0f9-04d3-48e2-e734-d1b03b45e330"
   },
   "outputs": [
    {
     "name": "stdout",
     "output_type": "stream",
     "text": [
      "(467, 19, 400)\n"
     ]
    }
   ],
   "source": [
    "# Extract time series data\n",
    "m10_all_ch_ts = epochs.get_data()\n",
    "print(m10_all_ch_ts.shape)\n",
    "\n",
    "n_samples = m10_all_ch_ts.shape[0]\n",
    "n_channels = m10_all_ch_ts.shape[1]\n",
    "n_times = m10_all_ch_ts.shape[2]"
   ]
  },
  {
   "cell_type": "code",
   "execution_count": null,
   "metadata": {
    "id": "VpNjWlZXgHOs"
   },
   "outputs": [],
   "source": [
    "# Build attractor\n",
    "embedding_dimension = 3\n",
    "embedding_time_delay = 8\n",
    "stride = 3 # downsampling\n",
    "\n",
    "attractor = TakensEmbedding(\n",
    "#    n_jobs=2,\n",
    "    time_delay=embedding_time_delay,\n",
    "    dimension=embedding_dimension,\n",
    "    stride=stride,\n",
    ")"
   ]
  },
  {
   "cell_type": "code",
   "execution_count": null,
   "metadata": {
    "colab": {
     "base_uri": "https://localhost:8080/",
     "height": 1000
    },
    "executionInfo": {
     "elapsed": 315,
     "status": "ok",
     "timestamp": 1630064160574,
     "user": {
      "displayName": "Екатерина Михайлец",
      "photoUrl": "",
      "userId": "03958266793788218532"
     },
     "user_tz": -180
    },
    "id": "mD8YlJ8Ihbta",
    "outputId": "34c6b203-3d0e-4c77-ad26-89f626d637fa"
   },
   "outputs": [
    {
     "name": "stdout",
     "output_type": "stream",
     "text": [
      "(467, 19, 128, 3)\n"
     ]
    },
    {
     "data": {
      "text/html": [
       "<html>\n",
       "<head><meta charset=\"utf-8\" /></head>\n",
       "<body>\n",
       "    <div>            <script src=\"https://cdnjs.cloudflare.com/ajax/libs/mathjax/2.7.5/MathJax.js?config=TeX-AMS-MML_SVG\"></script><script type=\"text/javascript\">if (window.MathJax) {MathJax.Hub.Config({SVG: {font: \"STIX-Web\"}});}</script>                <script type=\"text/javascript\">window.PlotlyConfig = {MathJaxConfig: 'local'};</script>\n",
       "        <script src=\"https://cdn.plot.ly/plotly-2.3.1.min.js\"></script>                <div id=\"c7d21e37-cd35-4481-8b90-bfaf6ccbfb1d\" class=\"plotly-graph-div\" style=\"height:525px; width:100%;\"></div>            <script type=\"text/javascript\">                                    window.PLOTLYENV=window.PLOTLYENV || {};                                    if (document.getElementById(\"c7d21e37-cd35-4481-8b90-bfaf6ccbfb1d\")) {                    Plotly.newPlot(                        \"c7d21e37-cd35-4481-8b90-bfaf6ccbfb1d\",                        [{\"marker\":{\"color\":[0,1,2,3,4,5,6,7,8,9,10,11,12,13,14,15,16,17,18,19,20,21,22,23,24,25,26,27,28,29,30,31,32,33,34,35,36,37,38,39,40,41,42,43,44,45,46,47,48,49,50,51,52,53,54,55,56,57,58,59,60,61,62,63,64,65,66,67,68,69,70,71,72,73,74,75,76,77,78,79,80,81,82,83,84,85,86,87,88,89,90,91,92,93,94,95,96,97,98,99,100,101,102,103,104,105,106,107,108,109,110,111,112,113,114,115,116,117,118,119,120,121,122,123,124,125,126,127],\"colorscale\":[[0.0,\"#440154\"],[0.1111111111111111,\"#482878\"],[0.2222222222222222,\"#3e4989\"],[0.3333333333333333,\"#31688e\"],[0.4444444444444444,\"#26828e\"],[0.5555555555555556,\"#1f9e89\"],[0.6666666666666666,\"#35b779\"],[0.7777777777777778,\"#6ece58\"],[0.8888888888888888,\"#b5de2b\"],[1.0,\"#fde725\"]],\"opacity\":0.8,\"size\":4},\"mode\":\"markers\",\"type\":\"scatter3d\",\"x\":[-3.1707954085283678e-06,5.258463273945937e-07,-3.470168524864857e-09,-3.729002043506285e-06,-4.98034331598459e-06,-8.153583938747088e-07,3.0429124126745803e-06,5.0479614410283595e-06,4.4856500158823e-06,-3.4032049705071067e-07,2.9235752534999732e-06,1.3464462863540218e-06,1.4903510178658526e-06,4.134369408174514e-06,-4.3901145147736774e-07,-4.7664850197579327e-07,-2.570761123318126e-06,-2.38031473609437e-06,-2.6994027292421815e-06,-2.1650969716602994e-06,1.9805757585839742e-06,1.7272877605583917e-06,4.101390363295471e-06,-3.4690259044079676e-06,-9.915725212903529e-07,2.7215343995349225e-06,5.890731044032174e-07,-3.5995187893397376e-06,7.057295645721265e-06,-2.351384069268351e-06,4.169560996712682e-07,9.709148353690582e-08,5.76008834074747e-06,4.855125717859244e-06,-8.399995063151641e-07,-7.010424363838418e-07,2.6567240480779002e-06,3.0046422479196923e-06,-2.8659661531737664e-06,-3.6418333649868877e-06,-3.1249871697411793e-07,-3.069052179824582e-07,-2.0528087171388072e-07,3.6186684329515306e-07,-1.985908173656974e-06,-4.542290387534902e-06,-1.6170301641392303e-06,-4.799640742652894e-06,-1.8493567838088272e-06,1.1865729357814273e-06,-7.940322408389455e-07,-5.288799821606951e-06,-1.3805897431789685e-06,-2.8401816376190605e-06,-2.333885089840898e-06,-2.054753312681225e-06,5.104984185132263e-07,1.482931832472936e-06,-2.5877413733195744e-06,-2.5128715160340682e-06,2.9055487401867154e-06,-2.973832968055638e-07,-2.424446922768013e-06,-2.0650145084308766e-06,-3.303345687192672e-07,4.4944069780901866e-07,-5.031279510684971e-06,-1.5361944915084828e-06,-4.963799234418816e-06,-5.54396560287595e-06,-3.7748823675251335e-06,-4.891108326706102e-06,-1.3974416645713867e-06,-4.836638224790446e-06,-6.785106779914311e-06,-5.2691368832117575e-06,-7.595168327749616e-06,-4.186655731051203e-06,-3.3751751072907787e-06,-6.220320734058847e-06,1.5630540132233963e-06,-2.075560030084513e-06,-3.047970175667689e-06,6.104858162962173e-07,3.3216394231376306e-06,1.2336150497583302e-06,-5.1936298238688966e-06,3.509437707090071e-07,-2.70183392878336e-07,-1.7263434966420524e-06,1.5291957065571533e-06,1.6255500928538274e-06,2.8371464425041405e-06,-2.981092405032548e-07,6.894607499472115e-06,7.364817857078328e-06,1.3122611754673936e-06,4.015263843648575e-06,9.025839462643899e-07,6.067488535372581e-06,3.7380110490215513e-06,-7.089153864897185e-07,3.928750526584738e-06,-2.737481336128167e-06,1.5087486104098115e-06,2.8667884680617444e-06,3.5734884747148e-06,3.3437537630101036e-06,-7.337183880931085e-07,5.588762443413419e-06,1.0132145139573513e-06,5.439134456814853e-06,4.629268110361679e-06,2.3222515153697085e-06,-1.8923295388098519e-06,1.472749635509556e-06,-2.6454327881552307e-06,-8.174459520385155e-07,-2.624047702849271e-06,6.429746811642596e-07,3.423928249829154e-07,3.645228879035014e-06,-1.2727467719923538e-06,1.2885390786588086e-06,8.279556544985078e-06,3.0516932218942235e-06,7.773284110326809e-07,2.089361363522757e-06],\"y\":[1.3560043854886007e-06,1.2981275742287804e-06,4.968381630339698e-06,5.37844380144371e-06,6.700095107653262e-06,-5.259608062409375e-07,1.614228292235475e-06,2.4926380407096954e-06,4.417484784717683e-06,2.0362324548349766e-06,3.6169005315636606e-06,1.8727908635192942e-06,3.052043487057151e-06,-2.4298583262759507e-06,-7.920328214402705e-07,-2.567807120376722e-06,-5.0963043980328165e-06,-2.751222156158609e-06,-1.3317250638313637e-06,-2.201657226607411e-06,-1.344877645411986e-06,-2.0859095546770753e-06,5.637391471614544e-06,-2.3450868646507921e-07,-2.9903209070845607e-06,1.5354975460380266e-06,6.858550106363497e-06,7.091258171367371e-06,2.893552795687249e-06,-2.5208551228357855e-06,1.406200547089098e-07,-1.1934265761208595e-06,2.5464989380745095e-06,2.4470243136059107e-06,-4.2322290424532483e-07,-1.704044993047329e-06,-1.0515864496458143e-07,-1.3716925027994846e-06,-4.05539412453043e-06,-2.0404609820883975e-06,5.139235522844599e-07,1.6269156760690833e-06,-1.9886066703794735e-06,-1.927408080835007e-06,-4.33944493865108e-06,-4.116950092337127e-07,1.356521901589602e-06,1.428795528252252e-06,-3.4220361266060957e-06,1.8484233406506315e-06,-8.605762650104271e-07,-1.6961046406876208e-06,-1.125207607339333e-07,1.949331537878909e-06,-2.012796285314513e-06,5.154181784471904e-07,-1.0632771204570273e-06,-1.7326085340083488e-06,1.4232602673767058e-07,-3.8059647133043477e-07,-2.3006018237812674e-07,1.4163797031494948e-06,-3.4021891919847348e-06,-3.823104362625236e-06,-5.588177380981685e-07,-3.8056727899712767e-06,-3.6546494691776155e-06,-5.69477572212912e-06,6.936915666701707e-07,-2.874255886361897e-06,-1.5355426831356264e-06,-4.023357797326326e-06,-5.871126525013303e-06,-3.470089943458381e-06,-5.963071919045654e-06,-6.579170818875979e-06,-5.049079513443981e-06,-1.084447147458134e-06,-2.517312598419167e-06,-1.8467373145051566e-06,-1.8004874183826739e-06,-5.308694703393455e-06,-2.880383157218661e-06,-5.839609759431519e-06,-5.396533290040033e-07,-1.4397293667807534e-06,-3.7956179993500977e-06,-2.3374439092231396e-06,-1.3672502565109557e-06,4.587157404481987e-08,1.9220770205193234e-06,3.955058176117888e-06,1.2308329344944544e-06,-1.5371790399368868e-06,1.1412023294505515e-06,3.444205704817262e-07,3.1972642060097877e-06,8.283967008392596e-07,5.18072356621561e-06,3.194236959018844e-06,-1.160171879110764e-06,1.3371747083848484e-07,4.731456715802499e-06,7.320026642323582e-06,7.36365742328893e-07,2.660071737977914e-06,7.750580168313622e-06,5.838479172801595e-07,2.7123889586606633e-06,3.7173701893178347e-06,4.22951373830124e-06,-1.1938148576377105e-06,1.7775465847310599e-06,-4.3966558633529343e-08,3.898060063300126e-06,2.8781801529811774e-06,2.7559608864413136e-06,2.1011746707390694e-06,1.0579892413208928e-06,2.38563557901092e-06,1.0901495568867051e-06,4.021920398561862e-06,3.7401699586632964e-07,2.5710837711152722e-06,3.9735794877088685e-06,2.339530557827674e-06,5.661651213822049e-06,7.316833948802168e-07],\"z\":[-4.43188988168438e-06,5.86063653651921e-07,5.11707003527523e-06,-3.154473257564771e-07,2.7125061781196612e-06,1.3401552859391463e-07,7.185812050438423e-06,3.543998726456073e-06,4.6184880350005e-07,4.667595426327133e-06,-2.2020800030501533e-07,1.2913631601333232e-06,-3.0031405019096883e-06,-8.08335740027243e-07,-1.1729443912543464e-06,1.6318179295310218e-06,-2.1687007353832328e-06,1.996509902769621e-06,3.1178191826278695e-06,3.0108270969128405e-07,-4.024783624352099e-06,-2.6116179410934687e-06,-5.616588871741121e-06,6.650532539683918e-07,4.50871179747724e-07,4.6226388488030236e-06,-1.5930292222237757e-06,6.653246193301338e-06,5.777942491507252e-07,-2.238930125219395e-06,-1.8154300508685446e-06,-1.7179769083241176e-06,-2.2683402649374286e-06,-2.0393273763665674e-06,-5.702704834636958e-06,3.2268770626327264e-07,1.1716079713456087e-06,-1.0709326957375657e-06,-1.8089287682902809e-06,2.954961760056841e-06,1.078384494031081e-06,-4.0563823578426217e-07,8.142966650999837e-07,7.652305058836979e-06,1.1655652043403782e-06,1.292190278178292e-06,5.560066137025882e-06,3.139629886342837e-06,-6.64188774371586e-07,-3.224084704287399e-06,2.555891559444524e-07,-7.594878616037642e-07,-2.554524301850035e-06,-1.4953628607209685e-06,1.4999673047808515e-06,2.5954432481503186e-06,1.9383316824867683e-06,-3.474071622179078e-06,3.5298294007674877e-06,-4.974329682551927e-07,7.557435759335387e-07,-7.193330027978994e-06,-3.863108515704481e-06,-7.143075407264815e-06,-2.8904814789124443e-06,-3.4125112280812334e-06,-9.151039706037794e-06,4.6940559491821063e-07,-4.517782076296645e-06,-2.9529989923937226e-07,-4.2123218231001e-06,-4.303888000610394e-09,-7.186740795161863e-06,-9.577782895297366e-07,-2.1626373904155338e-06,-1.1018868839169652e-05,-6.407450277073607e-06,-7.191282533648476e-06,-1.2263276939041598e-07,1.1839378587997729e-06,-3.289393794575672e-06,-2.8974068875079674e-06,-4.905026582063866e-06,-3.6795254897706112e-06,-5.535972281449199e-07,-5.133047778245927e-07,1.32821510483871e-06,9.279403727695211e-07,1.017034019360995e-06,1.3506159285274027e-06,2.02409161607327e-06,3.1598940315379854e-06,3.5949696381348172e-06,3.099783124744994e-06,-1.713011529087993e-06,4.79751349620361e-06,3.3554790454366578e-06,4.465368272435234e-06,1.7080912459229607e-06,6.221800488104305e-06,2.753076618238807e-06,3.4755908910231464e-06,5.175510217717103e-06,-5.982814404935638e-07,-1.3615268625537663e-06,5.106618567390269e-06,1.1104400218166116e-06,5.235890863914705e-06,2.959961728988023e-06,-3.09959735679141e-06,1.3105074394103915e-06,2.3323222465030708e-06,1.723288555369147e-06,-9.660620954348474e-07,1.5300994326038318e-06,-8.900021664658917e-07,7.878774641087924e-07,4.2970819397653185e-07,2.2504058348130706e-06,3.0344329133238126e-06,4.0754491957233575e-06,-7.467029678753459e-07,4.658940471668471e-06,2.4703652516569583e-06,8.743678817150113e-09,3.0567090222313694e-06,6.083681007821119e-06,6.712434220946436e-06]}],                        {\"scene\":{\"xaxis\":{\"exponentformat\":\"e\",\"showexponent\":\"all\",\"title\":{\"text\":\"0th\"},\"type\":\"linear\"},\"yaxis\":{\"exponentformat\":\"e\",\"showexponent\":\"all\",\"title\":{\"text\":\"1st\"},\"type\":\"linear\"},\"zaxis\":{\"exponentformat\":\"e\",\"showexponent\":\"all\",\"title\":{\"text\":\"2nd\"},\"type\":\"linear\"}},\"template\":{\"data\":{\"bar\":[{\"error_x\":{\"color\":\"#2a3f5f\"},\"error_y\":{\"color\":\"#2a3f5f\"},\"marker\":{\"line\":{\"color\":\"#E5ECF6\",\"width\":0.5},\"pattern\":{\"fillmode\":\"overlay\",\"size\":10,\"solidity\":0.2}},\"type\":\"bar\"}],\"barpolar\":[{\"marker\":{\"line\":{\"color\":\"#E5ECF6\",\"width\":0.5},\"pattern\":{\"fillmode\":\"overlay\",\"size\":10,\"solidity\":0.2}},\"type\":\"barpolar\"}],\"carpet\":[{\"aaxis\":{\"endlinecolor\":\"#2a3f5f\",\"gridcolor\":\"white\",\"linecolor\":\"white\",\"minorgridcolor\":\"white\",\"startlinecolor\":\"#2a3f5f\"},\"baxis\":{\"endlinecolor\":\"#2a3f5f\",\"gridcolor\":\"white\",\"linecolor\":\"white\",\"minorgridcolor\":\"white\",\"startlinecolor\":\"#2a3f5f\"},\"type\":\"carpet\"}],\"choropleth\":[{\"colorbar\":{\"outlinewidth\":0,\"ticks\":\"\"},\"type\":\"choropleth\"}],\"contour\":[{\"colorbar\":{\"outlinewidth\":0,\"ticks\":\"\"},\"colorscale\":[[0.0,\"#0d0887\"],[0.1111111111111111,\"#46039f\"],[0.2222222222222222,\"#7201a8\"],[0.3333333333333333,\"#9c179e\"],[0.4444444444444444,\"#bd3786\"],[0.5555555555555556,\"#d8576b\"],[0.6666666666666666,\"#ed7953\"],[0.7777777777777778,\"#fb9f3a\"],[0.8888888888888888,\"#fdca26\"],[1.0,\"#f0f921\"]],\"type\":\"contour\"}],\"contourcarpet\":[{\"colorbar\":{\"outlinewidth\":0,\"ticks\":\"\"},\"type\":\"contourcarpet\"}],\"heatmap\":[{\"colorbar\":{\"outlinewidth\":0,\"ticks\":\"\"},\"colorscale\":[[0.0,\"#0d0887\"],[0.1111111111111111,\"#46039f\"],[0.2222222222222222,\"#7201a8\"],[0.3333333333333333,\"#9c179e\"],[0.4444444444444444,\"#bd3786\"],[0.5555555555555556,\"#d8576b\"],[0.6666666666666666,\"#ed7953\"],[0.7777777777777778,\"#fb9f3a\"],[0.8888888888888888,\"#fdca26\"],[1.0,\"#f0f921\"]],\"type\":\"heatmap\"}],\"heatmapgl\":[{\"colorbar\":{\"outlinewidth\":0,\"ticks\":\"\"},\"colorscale\":[[0.0,\"#0d0887\"],[0.1111111111111111,\"#46039f\"],[0.2222222222222222,\"#7201a8\"],[0.3333333333333333,\"#9c179e\"],[0.4444444444444444,\"#bd3786\"],[0.5555555555555556,\"#d8576b\"],[0.6666666666666666,\"#ed7953\"],[0.7777777777777778,\"#fb9f3a\"],[0.8888888888888888,\"#fdca26\"],[1.0,\"#f0f921\"]],\"type\":\"heatmapgl\"}],\"histogram\":[{\"marker\":{\"pattern\":{\"fillmode\":\"overlay\",\"size\":10,\"solidity\":0.2}},\"type\":\"histogram\"}],\"histogram2d\":[{\"colorbar\":{\"outlinewidth\":0,\"ticks\":\"\"},\"colorscale\":[[0.0,\"#0d0887\"],[0.1111111111111111,\"#46039f\"],[0.2222222222222222,\"#7201a8\"],[0.3333333333333333,\"#9c179e\"],[0.4444444444444444,\"#bd3786\"],[0.5555555555555556,\"#d8576b\"],[0.6666666666666666,\"#ed7953\"],[0.7777777777777778,\"#fb9f3a\"],[0.8888888888888888,\"#fdca26\"],[1.0,\"#f0f921\"]],\"type\":\"histogram2d\"}],\"histogram2dcontour\":[{\"colorbar\":{\"outlinewidth\":0,\"ticks\":\"\"},\"colorscale\":[[0.0,\"#0d0887\"],[0.1111111111111111,\"#46039f\"],[0.2222222222222222,\"#7201a8\"],[0.3333333333333333,\"#9c179e\"],[0.4444444444444444,\"#bd3786\"],[0.5555555555555556,\"#d8576b\"],[0.6666666666666666,\"#ed7953\"],[0.7777777777777778,\"#fb9f3a\"],[0.8888888888888888,\"#fdca26\"],[1.0,\"#f0f921\"]],\"type\":\"histogram2dcontour\"}],\"mesh3d\":[{\"colorbar\":{\"outlinewidth\":0,\"ticks\":\"\"},\"type\":\"mesh3d\"}],\"parcoords\":[{\"line\":{\"colorbar\":{\"outlinewidth\":0,\"ticks\":\"\"}},\"type\":\"parcoords\"}],\"pie\":[{\"automargin\":true,\"type\":\"pie\"}],\"scatter\":[{\"marker\":{\"colorbar\":{\"outlinewidth\":0,\"ticks\":\"\"}},\"type\":\"scatter\"}],\"scatter3d\":[{\"line\":{\"colorbar\":{\"outlinewidth\":0,\"ticks\":\"\"}},\"marker\":{\"colorbar\":{\"outlinewidth\":0,\"ticks\":\"\"}},\"type\":\"scatter3d\"}],\"scattercarpet\":[{\"marker\":{\"colorbar\":{\"outlinewidth\":0,\"ticks\":\"\"}},\"type\":\"scattercarpet\"}],\"scattergeo\":[{\"marker\":{\"colorbar\":{\"outlinewidth\":0,\"ticks\":\"\"}},\"type\":\"scattergeo\"}],\"scattergl\":[{\"marker\":{\"colorbar\":{\"outlinewidth\":0,\"ticks\":\"\"}},\"type\":\"scattergl\"}],\"scattermapbox\":[{\"marker\":{\"colorbar\":{\"outlinewidth\":0,\"ticks\":\"\"}},\"type\":\"scattermapbox\"}],\"scatterpolar\":[{\"marker\":{\"colorbar\":{\"outlinewidth\":0,\"ticks\":\"\"}},\"type\":\"scatterpolar\"}],\"scatterpolargl\":[{\"marker\":{\"colorbar\":{\"outlinewidth\":0,\"ticks\":\"\"}},\"type\":\"scatterpolargl\"}],\"scatterternary\":[{\"marker\":{\"colorbar\":{\"outlinewidth\":0,\"ticks\":\"\"}},\"type\":\"scatterternary\"}],\"surface\":[{\"colorbar\":{\"outlinewidth\":0,\"ticks\":\"\"},\"colorscale\":[[0.0,\"#0d0887\"],[0.1111111111111111,\"#46039f\"],[0.2222222222222222,\"#7201a8\"],[0.3333333333333333,\"#9c179e\"],[0.4444444444444444,\"#bd3786\"],[0.5555555555555556,\"#d8576b\"],[0.6666666666666666,\"#ed7953\"],[0.7777777777777778,\"#fb9f3a\"],[0.8888888888888888,\"#fdca26\"],[1.0,\"#f0f921\"]],\"type\":\"surface\"}],\"table\":[{\"cells\":{\"fill\":{\"color\":\"#EBF0F8\"},\"line\":{\"color\":\"white\"}},\"header\":{\"fill\":{\"color\":\"#C8D4E3\"},\"line\":{\"color\":\"white\"}},\"type\":\"table\"}]},\"layout\":{\"annotationdefaults\":{\"arrowcolor\":\"#2a3f5f\",\"arrowhead\":0,\"arrowwidth\":1},\"autotypenumbers\":\"strict\",\"coloraxis\":{\"colorbar\":{\"outlinewidth\":0,\"ticks\":\"\"}},\"colorscale\":{\"diverging\":[[0,\"#8e0152\"],[0.1,\"#c51b7d\"],[0.2,\"#de77ae\"],[0.3,\"#f1b6da\"],[0.4,\"#fde0ef\"],[0.5,\"#f7f7f7\"],[0.6,\"#e6f5d0\"],[0.7,\"#b8e186\"],[0.8,\"#7fbc41\"],[0.9,\"#4d9221\"],[1,\"#276419\"]],\"sequential\":[[0.0,\"#0d0887\"],[0.1111111111111111,\"#46039f\"],[0.2222222222222222,\"#7201a8\"],[0.3333333333333333,\"#9c179e\"],[0.4444444444444444,\"#bd3786\"],[0.5555555555555556,\"#d8576b\"],[0.6666666666666666,\"#ed7953\"],[0.7777777777777778,\"#fb9f3a\"],[0.8888888888888888,\"#fdca26\"],[1.0,\"#f0f921\"]],\"sequentialminus\":[[0.0,\"#0d0887\"],[0.1111111111111111,\"#46039f\"],[0.2222222222222222,\"#7201a8\"],[0.3333333333333333,\"#9c179e\"],[0.4444444444444444,\"#bd3786\"],[0.5555555555555556,\"#d8576b\"],[0.6666666666666666,\"#ed7953\"],[0.7777777777777778,\"#fb9f3a\"],[0.8888888888888888,\"#fdca26\"],[1.0,\"#f0f921\"]]},\"colorway\":[\"#636efa\",\"#EF553B\",\"#00cc96\",\"#ab63fa\",\"#FFA15A\",\"#19d3f3\",\"#FF6692\",\"#B6E880\",\"#FF97FF\",\"#FECB52\"],\"font\":{\"color\":\"#2a3f5f\"},\"geo\":{\"bgcolor\":\"white\",\"lakecolor\":\"white\",\"landcolor\":\"#E5ECF6\",\"showlakes\":true,\"showland\":true,\"subunitcolor\":\"white\"},\"hoverlabel\":{\"align\":\"left\"},\"hovermode\":\"closest\",\"mapbox\":{\"style\":\"light\"},\"paper_bgcolor\":\"white\",\"plot_bgcolor\":\"#E5ECF6\",\"polar\":{\"angularaxis\":{\"gridcolor\":\"white\",\"linecolor\":\"white\",\"ticks\":\"\"},\"bgcolor\":\"#E5ECF6\",\"radialaxis\":{\"gridcolor\":\"white\",\"linecolor\":\"white\",\"ticks\":\"\"}},\"scene\":{\"xaxis\":{\"backgroundcolor\":\"#E5ECF6\",\"gridcolor\":\"white\",\"gridwidth\":2,\"linecolor\":\"white\",\"showbackground\":true,\"ticks\":\"\",\"zerolinecolor\":\"white\"},\"yaxis\":{\"backgroundcolor\":\"#E5ECF6\",\"gridcolor\":\"white\",\"gridwidth\":2,\"linecolor\":\"white\",\"showbackground\":true,\"ticks\":\"\",\"zerolinecolor\":\"white\"},\"zaxis\":{\"backgroundcolor\":\"#E5ECF6\",\"gridcolor\":\"white\",\"gridwidth\":2,\"linecolor\":\"white\",\"showbackground\":true,\"ticks\":\"\",\"zerolinecolor\":\"white\"}},\"shapedefaults\":{\"line\":{\"color\":\"#2a3f5f\"}},\"ternary\":{\"aaxis\":{\"gridcolor\":\"white\",\"linecolor\":\"white\",\"ticks\":\"\"},\"baxis\":{\"gridcolor\":\"white\",\"linecolor\":\"white\",\"ticks\":\"\"},\"bgcolor\":\"#E5ECF6\",\"caxis\":{\"gridcolor\":\"white\",\"linecolor\":\"white\",\"ticks\":\"\"}},\"title\":{\"x\":0.05},\"xaxis\":{\"automargin\":true,\"gridcolor\":\"white\",\"linecolor\":\"white\",\"ticks\":\"\",\"title\":{\"standoff\":15},\"zerolinecolor\":\"white\",\"zerolinewidth\":2},\"yaxis\":{\"automargin\":true,\"gridcolor\":\"white\",\"linecolor\":\"white\",\"ticks\":\"\",\"title\":{\"standoff\":15},\"zerolinecolor\":\"white\",\"zerolinewidth\":2}}}},                        {\"responsive\": true}                    ).then(function(){\n",
       "                            \n",
       "var gd = document.getElementById('c7d21e37-cd35-4481-8b90-bfaf6ccbfb1d');\n",
       "var x = new MutationObserver(function (mutations, observer) {{\n",
       "        var display = window.getComputedStyle(gd).display;\n",
       "        if (!display || display === 'none') {{\n",
       "            console.log([gd, 'removed!']);\n",
       "            Plotly.purge(gd);\n",
       "            observer.disconnect();\n",
       "        }}\n",
       "}});\n",
       "\n",
       "// Listen for the removal of the full notebook cells\n",
       "var notebookContainer = gd.closest('#notebook-container');\n",
       "if (notebookContainer) {{\n",
       "    x.observe(notebookContainer, {childList: true});\n",
       "}}\n",
       "\n",
       "// Listen for the clearing of the current output cell\n",
       "var outputEl = gd.closest('.output');\n",
       "if (outputEl) {{\n",
       "    x.observe(outputEl, {childList: true});\n",
       "}}\n",
       "\n",
       "                        })                };                            </script>        </div>\n",
       "</body>\n",
       "</html>"
      ]
     },
     "metadata": {},
     "output_type": "display_data"
    },
    {
     "data": {
      "text/plain": [
       "array([[[-3.17079541e-06,  1.35600439e-06, -4.43188988e-06],\n",
       "        [ 5.25846327e-07,  1.29812757e-06,  5.86063654e-07],\n",
       "        [-3.47016852e-09,  4.96838163e-06,  5.11707004e-06],\n",
       "        [-3.72900204e-06,  5.37844380e-06, -3.15447326e-07],\n",
       "        [-4.98034332e-06,  6.70009511e-06,  2.71250618e-06],\n",
       "        [-8.15358394e-07, -5.25960806e-07,  1.34015529e-07],\n",
       "        [ 3.04291241e-06,  1.61422829e-06,  7.18581205e-06],\n",
       "        [ 5.04796144e-06,  2.49263804e-06,  3.54399873e-06],\n",
       "        [ 4.48565002e-06,  4.41748478e-06,  4.61848804e-07],\n",
       "        [-3.40320497e-07,  2.03623245e-06,  4.66759543e-06],\n",
       "        [ 2.92357525e-06,  3.61690053e-06, -2.20208000e-07],\n",
       "        [ 1.34644629e-06,  1.87279086e-06,  1.29136316e-06],\n",
       "        [ 1.49035102e-06,  3.05204349e-06, -3.00314050e-06],\n",
       "        [ 4.13436941e-06, -2.42985833e-06, -8.08335740e-07],\n",
       "        [-4.39011451e-07, -7.92032821e-07, -1.17294439e-06],\n",
       "        [-4.76648502e-07, -2.56780712e-06,  1.63181793e-06],\n",
       "        [-2.57076112e-06, -5.09630440e-06, -2.16870074e-06],\n",
       "        [-2.38031474e-06, -2.75122216e-06,  1.99650990e-06],\n",
       "        [-2.69940273e-06, -1.33172506e-06,  3.11781918e-06],\n",
       "        [-2.16509697e-06, -2.20165723e-06,  3.01082710e-07],\n",
       "        [ 1.98057576e-06, -1.34487765e-06, -4.02478362e-06],\n",
       "        [ 1.72728776e-06, -2.08590955e-06, -2.61161794e-06],\n",
       "        [ 4.10139036e-06,  5.63739147e-06, -5.61658887e-06],\n",
       "        [-3.46902590e-06, -2.34508686e-07,  6.65053254e-07],\n",
       "        [-9.91572521e-07, -2.99032091e-06,  4.50871180e-07],\n",
       "        [ 2.72153440e-06,  1.53549755e-06,  4.62263885e-06],\n",
       "        [ 5.89073104e-07,  6.85855011e-06, -1.59302922e-06],\n",
       "        [-3.59951879e-06,  7.09125817e-06,  6.65324619e-06],\n",
       "        [ 7.05729565e-06,  2.89355280e-06,  5.77794249e-07],\n",
       "        [-2.35138407e-06, -2.52085512e-06, -2.23893013e-06],\n",
       "        [ 4.16956100e-07,  1.40620055e-07, -1.81543005e-06],\n",
       "        [ 9.70914835e-08, -1.19342658e-06, -1.71797691e-06],\n",
       "        [ 5.76008834e-06,  2.54649894e-06, -2.26834026e-06],\n",
       "        [ 4.85512572e-06,  2.44702431e-06, -2.03932738e-06],\n",
       "        [-8.39999506e-07, -4.23222904e-07, -5.70270483e-06],\n",
       "        [-7.01042436e-07, -1.70404499e-06,  3.22687706e-07],\n",
       "        [ 2.65672405e-06, -1.05158645e-07,  1.17160797e-06],\n",
       "        [ 3.00464225e-06, -1.37169250e-06, -1.07093270e-06],\n",
       "        [-2.86596615e-06, -4.05539412e-06, -1.80892877e-06],\n",
       "        [-3.64183336e-06, -2.04046098e-06,  2.95496176e-06],\n",
       "        [-3.12498717e-07,  5.13923552e-07,  1.07838449e-06],\n",
       "        [-3.06905218e-07,  1.62691568e-06, -4.05638236e-07],\n",
       "        [-2.05280872e-07, -1.98860667e-06,  8.14296665e-07],\n",
       "        [ 3.61866843e-07, -1.92740808e-06,  7.65230506e-06],\n",
       "        [-1.98590817e-06, -4.33944494e-06,  1.16556520e-06],\n",
       "        [-4.54229039e-06, -4.11695009e-07,  1.29219028e-06],\n",
       "        [-1.61703016e-06,  1.35652190e-06,  5.56006614e-06],\n",
       "        [-4.79964074e-06,  1.42879553e-06,  3.13962989e-06],\n",
       "        [-1.84935678e-06, -3.42203613e-06, -6.64188774e-07],\n",
       "        [ 1.18657294e-06,  1.84842334e-06, -3.22408470e-06],\n",
       "        [-7.94032241e-07, -8.60576265e-07,  2.55589156e-07],\n",
       "        [-5.28879982e-06, -1.69610464e-06, -7.59487862e-07],\n",
       "        [-1.38058974e-06, -1.12520761e-07, -2.55452430e-06],\n",
       "        [-2.84018164e-06,  1.94933154e-06, -1.49536286e-06],\n",
       "        [-2.33388509e-06, -2.01279629e-06,  1.49996730e-06],\n",
       "        [-2.05475331e-06,  5.15418178e-07,  2.59544325e-06],\n",
       "        [ 5.10498419e-07, -1.06327712e-06,  1.93833168e-06],\n",
       "        [ 1.48293183e-06, -1.73260853e-06, -3.47407162e-06],\n",
       "        [-2.58774137e-06,  1.42326027e-07,  3.52982940e-06],\n",
       "        [-2.51287152e-06, -3.80596471e-07, -4.97432968e-07],\n",
       "        [ 2.90554874e-06, -2.30060182e-07,  7.55743576e-07],\n",
       "        [-2.97383297e-07,  1.41637970e-06, -7.19333003e-06],\n",
       "        [-2.42444692e-06, -3.40218919e-06, -3.86310852e-06],\n",
       "        [-2.06501451e-06, -3.82310436e-06, -7.14307541e-06],\n",
       "        [-3.30334569e-07, -5.58817738e-07, -2.89048148e-06],\n",
       "        [ 4.49440698e-07, -3.80567279e-06, -3.41251123e-06],\n",
       "        [-5.03127951e-06, -3.65464947e-06, -9.15103971e-06],\n",
       "        [-1.53619449e-06, -5.69477572e-06,  4.69405595e-07],\n",
       "        [-4.96379923e-06,  6.93691567e-07, -4.51778208e-06],\n",
       "        [-5.54396560e-06, -2.87425589e-06, -2.95299899e-07],\n",
       "        [-3.77488237e-06, -1.53554268e-06, -4.21232182e-06],\n",
       "        [-4.89110833e-06, -4.02335780e-06, -4.30388800e-09],\n",
       "        [-1.39744166e-06, -5.87112653e-06, -7.18674080e-06],\n",
       "        [-4.83663822e-06, -3.47008994e-06, -9.57778290e-07],\n",
       "        [-6.78510678e-06, -5.96307192e-06, -2.16263739e-06],\n",
       "        [-5.26913688e-06, -6.57917082e-06, -1.10188688e-05],\n",
       "        [-7.59516833e-06, -5.04907951e-06, -6.40745028e-06],\n",
       "        [-4.18665573e-06, -1.08444715e-06, -7.19128253e-06],\n",
       "        [-3.37517511e-06, -2.51731260e-06, -1.22632769e-07],\n",
       "        [-6.22032073e-06, -1.84673731e-06,  1.18393786e-06],\n",
       "        [ 1.56305401e-06, -1.80048742e-06, -3.28939379e-06],\n",
       "        [-2.07556003e-06, -5.30869470e-06, -2.89740689e-06],\n",
       "        [-3.04797018e-06, -2.88038316e-06, -4.90502658e-06],\n",
       "        [ 6.10485816e-07, -5.83960976e-06, -3.67952549e-06],\n",
       "        [ 3.32163942e-06, -5.39653329e-07, -5.53597228e-07],\n",
       "        [ 1.23361505e-06, -1.43972937e-06, -5.13304778e-07],\n",
       "        [-5.19362982e-06, -3.79561800e-06,  1.32821510e-06],\n",
       "        [ 3.50943771e-07, -2.33744391e-06,  9.27940373e-07],\n",
       "        [-2.70183393e-07, -1.36725026e-06,  1.01703402e-06],\n",
       "        [-1.72634350e-06,  4.58715740e-08,  1.35061593e-06],\n",
       "        [ 1.52919571e-06,  1.92207702e-06,  2.02409162e-06],\n",
       "        [ 1.62555009e-06,  3.95505818e-06,  3.15989403e-06],\n",
       "        [ 2.83714644e-06,  1.23083293e-06,  3.59496964e-06],\n",
       "        [-2.98109241e-07, -1.53717904e-06,  3.09978312e-06],\n",
       "        [ 6.89460750e-06,  1.14120233e-06, -1.71301153e-06],\n",
       "        [ 7.36481786e-06,  3.44420570e-07,  4.79751350e-06],\n",
       "        [ 1.31226118e-06,  3.19726421e-06,  3.35547905e-06],\n",
       "        [ 4.01526384e-06,  8.28396701e-07,  4.46536827e-06],\n",
       "        [ 9.02583946e-07,  5.18072357e-06,  1.70809125e-06],\n",
       "        [ 6.06748854e-06,  3.19423696e-06,  6.22180049e-06],\n",
       "        [ 3.73801105e-06, -1.16017188e-06,  2.75307662e-06],\n",
       "        [-7.08915386e-07,  1.33717471e-07,  3.47559089e-06],\n",
       "        [ 3.92875053e-06,  4.73145672e-06,  5.17551022e-06],\n",
       "        [-2.73748134e-06,  7.32002664e-06, -5.98281440e-07],\n",
       "        [ 1.50874861e-06,  7.36365742e-07, -1.36152686e-06],\n",
       "        [ 2.86678847e-06,  2.66007174e-06,  5.10661857e-06],\n",
       "        [ 3.57348847e-06,  7.75058017e-06,  1.11044002e-06],\n",
       "        [ 3.34375376e-06,  5.83847917e-07,  5.23589086e-06],\n",
       "        [-7.33718388e-07,  2.71238896e-06,  2.95996173e-06],\n",
       "        [ 5.58876244e-06,  3.71737019e-06, -3.09959736e-06],\n",
       "        [ 1.01321451e-06,  4.22951374e-06,  1.31050744e-06],\n",
       "        [ 5.43913446e-06, -1.19381486e-06,  2.33232225e-06],\n",
       "        [ 4.62926811e-06,  1.77754658e-06,  1.72328856e-06],\n",
       "        [ 2.32225152e-06, -4.39665586e-08, -9.66062095e-07],\n",
       "        [-1.89232954e-06,  3.89806006e-06,  1.53009943e-06],\n",
       "        [ 1.47274964e-06,  2.87818015e-06, -8.90002166e-07],\n",
       "        [-2.64543279e-06,  2.75596089e-06,  7.87877464e-07],\n",
       "        [-8.17445952e-07,  2.10117467e-06,  4.29708194e-07],\n",
       "        [-2.62404770e-06,  1.05798924e-06,  2.25040583e-06],\n",
       "        [ 6.42974681e-07,  2.38563558e-06,  3.03443291e-06],\n",
       "        [ 3.42392825e-07,  1.09014956e-06,  4.07544920e-06],\n",
       "        [ 3.64522888e-06,  4.02192040e-06, -7.46702968e-07],\n",
       "        [-1.27274677e-06,  3.74016996e-07,  4.65894047e-06],\n",
       "        [ 1.28853908e-06,  2.57108377e-06,  2.47036525e-06],\n",
       "        [ 8.27955654e-06,  3.97357949e-06,  8.74367882e-09],\n",
       "        [ 3.05169322e-06,  2.33953056e-06,  3.05670902e-06],\n",
       "        [ 7.77328411e-07,  5.66165121e-06,  6.08368101e-06],\n",
       "        [ 2.08936136e-06,  7.31683395e-07,  6.71243422e-06]]])"
      ]
     },
     "execution_count": 53,
     "metadata": {},
     "output_type": "execute_result"
    }
   ],
   "source": [
    "m10_all_ch_point_cl = []\n",
    "\n",
    "for i in range(n_samples): \n",
    "    m10_all_ch_point_cl.append(attractor.fit_transform(m10_all_ch_ts[i]))\n",
    "m10_all_ch_point_cl = np.array(m10_all_ch_point_cl)\n",
    "\n",
    "print(m10_all_ch_point_cl.shape)\n",
    "\n",
    "attractor.fit_transform_plot(m10_all_ch_ts[10])"
   ]
  },
  {
   "cell_type": "code",
   "execution_count": null,
   "metadata": {
    "id": "V_-SbT9Qdewc"
   },
   "outputs": [],
   "source": [
    "homology_dimensions = [0, 1, 2]\n",
    "\n",
    "persistence = VietorisRipsPersistence(\n",
    "    homology_dimensions=homology_dimensions, \n",
    "    n_jobs=-1,\n",
    ")\n",
    "\n",
    "m10_all_ch_per_diag = []\n",
    "\n",
    "for i in range(n_samples):\n",
    "    m10_all_ch_per_diag.append(persistence.fit_transform(m10_all_ch_point_cl[i]))\n"
   ]
  },
  {
   "cell_type": "code",
   "execution_count": null,
   "metadata": {
    "colab": {
     "base_uri": "https://localhost:8080/",
     "height": 1000
    },
    "executionInfo": {
     "elapsed": 1652,
     "status": "ok",
     "timestamp": 1630069589182,
     "user": {
      "displayName": "Екатерина Михайлец",
      "photoUrl": "",
      "userId": "03958266793788218532"
     },
     "user_tz": -180
    },
    "id": "7uOXmTs6MDvX",
    "outputId": "6e7fe989-0f88-4191-a38b-4ed5e6013a31"
   },
   "outputs": [
    {
     "name": "stdout",
     "output_type": "stream",
     "text": [
      "(19, 186, 3)\n",
      "(19, 191, 3)\n",
      "(19, 189, 3)\n",
      "Persistence diagram for periodic signal\n"
     ]
    },
    {
     "data": {
      "text/html": [
       "<html>\n",
       "<head><meta charset=\"utf-8\" /></head>\n",
       "<body>\n",
       "    <div>            <script src=\"https://cdnjs.cloudflare.com/ajax/libs/mathjax/2.7.5/MathJax.js?config=TeX-AMS-MML_SVG\"></script><script type=\"text/javascript\">if (window.MathJax) {MathJax.Hub.Config({SVG: {font: \"STIX-Web\"}});}</script>                <script type=\"text/javascript\">window.PlotlyConfig = {MathJaxConfig: 'local'};</script>\n",
       "        <script src=\"https://cdn.plot.ly/plotly-2.3.1.min.js\"></script>                <div id=\"01cf2211-af57-49bf-8b00-97878926d765\" class=\"plotly-graph-div\" style=\"height:500px; width:500px;\"></div>            <script type=\"text/javascript\">                                    window.PLOTLYENV=window.PLOTLYENV || {};                                    if (document.getElementById(\"01cf2211-af57-49bf-8b00-97878926d765\")) {                    Plotly.newPlot(                        \"01cf2211-af57-49bf-8b00-97878926d765\",                        [{\"hoverinfo\":\"none\",\"line\":{\"color\":\"black\",\"dash\":\"dash\",\"width\":1},\"mode\":\"lines\",\"showlegend\":false,\"type\":\"scatter\",\"x\":[-1.158447685156716e-07,5.908083194299252e-06],\"y\":[-1.158447685156716e-07,5.908083194299252e-06]},{\"hoverinfo\":\"text\",\"hovertext\":[\"(0.0, 2.124453004626048e-07)\",\"(0.0, 3.5665453879119013e-07)\",\"(0.0, 5.004571335121e-07)\",\"(0.0, 6.568093908754236e-07)\",\"(0.0, 6.663243539151154e-07)\",\"(0.0, 7.535373924838495e-07)\",\"(0.0, 7.539458124483644e-07)\",\"(0.0, 7.56780991650885e-07)\",\"(0.0, 8.235809332290955e-07)\",\"(0.0, 8.374177014047746e-07)\",\"(0.0, 8.430036473328073e-07)\",\"(0.0, 8.512278100170079e-07)\",\"(0.0, 8.587958291172981e-07)\",\"(0.0, 8.634719392830448e-07)\",\"(0.0, 8.771070270086057e-07)\",\"(0.0, 8.910572546483309e-07)\",\"(0.0, 9.062816275218211e-07)\",\"(0.0, 9.387754857925756e-07)\",\"(0.0, 9.80827167040843e-07)\",\"(0.0, 1.0297632115907618e-06)\",\"(0.0, 1.0368761422796524e-06)\",\"(0.0, 1.038005052578228e-06)\",\"(0.0, 1.0509210142117809e-06)\",\"(0.0, 1.0780958064060542e-06)\",\"(0.0, 1.0844773896678817e-06)\",\"(0.0, 1.0878313787543448e-06)\",\"(0.0, 1.1037145668524317e-06)\",\"(0.0, 1.137632580139325e-06)\",\"(0.0, 1.1385743619030109e-06)\",\"(0.0, 1.1402088375689345e-06)\",\"(0.0, 1.189373278975836e-06)\",\"(0.0, 1.1895731404365506e-06)\",\"(0.0, 1.1903800896106986e-06)\",\"(0.0, 1.194611968458048e-06)\",\"(0.0, 1.2251814496266888e-06)\",\"(0.0, 1.2253498198333546e-06)\",\"(0.0, 1.2328837328823283e-06)\",\"(0.0, 1.2452522923922515e-06)\",\"(0.0, 1.249070919584483e-06)\",\"(0.0, 1.250985746992228e-06)\",\"(0.0, 1.2556243973449455e-06)\",\"(0.0, 1.260872295461013e-06)\",\"(0.0, 1.2917508911414188e-06)\",\"(0.0, 1.2918483207613463e-06)\",\"(0.0, 1.3083606518193847e-06)\",\"(0.0, 1.3204022479840205e-06)\",\"(0.0, 1.3216111938163522e-06)\",\"(0.0, 1.323990886703541e-06)\",\"(0.0, 1.324297613791714e-06)\",\"(0.0, 1.3326537100510905e-06)\",\"(0.0, 1.336057380285638e-06)\",\"(0.0, 1.3703729564440437e-06)\",\"(0.0, 1.3753148095929646e-06)\",\"(0.0, 1.3769075621894444e-06)\",\"(0.0, 1.3828346254740609e-06)\",\"(0.0, 1.385276732435159e-06)\",\"(0.0, 1.3858483498552232e-06)\",\"(0.0, 1.4000672763359034e-06)\",\"(0.0, 1.4083155974731199e-06)\",\"(0.0, 1.4168971347316983e-06)\",\"(0.0, 1.4218251180864172e-06)\",\"(0.0, 1.4228864984033862e-06)\",\"(0.0, 1.4461260207099258e-06)\",\"(0.0, 1.4715741372128832e-06)\",\"(0.0, 1.4919986597305979e-06)\",\"(0.0, 1.4924472679922474e-06)\",\"(0.0, 1.5122654986043926e-06)\",\"(0.0, 1.513981374046125e-06)\",\"(0.0, 1.5242625295286416e-06)\",\"(0.0, 1.5346163309004623e-06)\",\"(0.0, 1.542673430776631e-06)\",\"(0.0, 1.5564216937491437e-06)\",\"(0.0, 1.5700177300459472e-06)\",\"(0.0, 1.5886479332039016e-06)\",\"(0.0, 1.6527658317500027e-06)\",\"(0.0, 1.656824224482989e-06)\",\"(0.0, 1.6743912283345708e-06)\",\"(0.0, 1.6746658957345062e-06)\",\"(0.0, 1.6783435512479628e-06)\",\"(0.0, 1.7274830952374032e-06)\",\"(0.0, 1.752708499225264e-06)\",\"(0.0, 1.7604621689315536e-06)\",\"(0.0, 1.816977942326048e-06)\",\"(0.0, 1.821984255911957e-06)\",\"(0.0, 1.8493359448257252e-06)\",\"(0.0, 1.8724658730207011e-06)\",\"(0.0, 1.8895455013989704e-06)\",\"(0.0, 1.913347432491719e-06)\",\"(0.0, 1.9239009816374164e-06)\",\"(0.0, 1.9341994175192667e-06)\",\"(0.0, 1.943073812071816e-06)\",\"(0.0, 1.9673616407089867e-06)\",\"(0.0, 1.9744786641240353e-06)\",\"(0.0, 2.0004113139293622e-06)\",\"(0.0, 2.0577006125677144e-06)\",\"(0.0, 2.0605775716830976e-06)\",\"(0.0, 2.062197836494306e-06)\",\"(0.0, 2.120351837220369e-06)\",\"(0.0, 2.1545197341765743e-06)\",\"(0.0, 2.1870705495530274e-06)\",\"(0.0, 2.193077989431913e-06)\",\"(0.0, 2.1983748865750385e-06)\",\"(0.0, 2.2873366560816066e-06)\",\"(0.0, 2.32876482186839e-06)\",\"(0.0, 2.369604544583126e-06)\",\"(0.0, 2.3793743366695708e-06)\",\"(0.0, 2.4291014142363565e-06)\",\"(0.0, 2.4293547085108003e-06)\",\"(0.0, 2.544860535635962e-06)\",\"(0.0, 2.619883161969483e-06)\",\"(0.0, 2.740632908171392e-06)\",\"(0.0, 2.8340728022158146e-06)\",\"(0.0, 2.861248731278465e-06)\",\"(0.0, 2.8887698135804385e-06)\",\"(0.0, 2.9951536362204934e-06)\",\"(0.0, 3.0409294140554266e-06)\",\"(0.0, 3.3073195027100155e-06)\",\"(0.0, 3.3406552120140987e-06)\",\"(0.0, 3.385730906302342e-06)\",\"(0.0, 3.3991118471021764e-06)\",\"(0.0, 3.4782447073666845e-06)\",\"(0.0, 3.497714033073862e-06)\",\"(0.0, 3.5026343994104536e-06)\",\"(0.0, 3.515996922942577e-06)\",\"(0.0, 3.5328628200659296e-06)\",\"(0.0, 4.005651589977788e-06)\",\"(0.0, 4.193937911622925e-06)\"],\"mode\":\"markers\",\"name\":\"H0\",\"type\":\"scatter\",\"x\":[0.0,0.0,0.0,0.0,0.0,0.0,0.0,0.0,0.0,0.0,0.0,0.0,0.0,0.0,0.0,0.0,0.0,0.0,0.0,0.0,0.0,0.0,0.0,0.0,0.0,0.0,0.0,0.0,0.0,0.0,0.0,0.0,0.0,0.0,0.0,0.0,0.0,0.0,0.0,0.0,0.0,0.0,0.0,0.0,0.0,0.0,0.0,0.0,0.0,0.0,0.0,0.0,0.0,0.0,0.0,0.0,0.0,0.0,0.0,0.0,0.0,0.0,0.0,0.0,0.0,0.0,0.0,0.0,0.0,0.0,0.0,0.0,0.0,0.0,0.0,0.0,0.0,0.0,0.0,0.0,0.0,0.0,0.0,0.0,0.0,0.0,0.0,0.0,0.0,0.0,0.0,0.0,0.0,0.0,0.0,0.0,0.0,0.0,0.0,0.0,0.0,0.0,0.0,0.0,0.0,0.0,0.0,0.0,0.0,0.0,0.0,0.0,0.0,0.0,0.0,0.0,0.0,0.0,0.0,0.0,0.0,0.0,0.0,0.0,0.0,0.0,0.0],\"y\":[2.124453004626048e-07,3.5665453879119013e-07,5.004571335121e-07,6.568093908754236e-07,6.663243539151154e-07,7.535373924838495e-07,7.539458124483644e-07,7.56780991650885e-07,8.235809332290955e-07,8.374177014047746e-07,8.430036473328073e-07,8.512278100170079e-07,8.587958291172981e-07,8.634719392830448e-07,8.771070270086057e-07,8.910572546483309e-07,9.062816275218211e-07,9.387754857925756e-07,9.80827167040843e-07,1.0297632115907618e-06,1.0368761422796524e-06,1.038005052578228e-06,1.0509210142117809e-06,1.0780958064060542e-06,1.0844773896678817e-06,1.0878313787543448e-06,1.1037145668524317e-06,1.137632580139325e-06,1.1385743619030109e-06,1.1402088375689345e-06,1.189373278975836e-06,1.1895731404365506e-06,1.1903800896106986e-06,1.194611968458048e-06,1.2251814496266888e-06,1.2253498198333546e-06,1.2328837328823283e-06,1.2452522923922515e-06,1.249070919584483e-06,1.250985746992228e-06,1.2556243973449455e-06,1.260872295461013e-06,1.2917508911414188e-06,1.2918483207613463e-06,1.3083606518193847e-06,1.3204022479840205e-06,1.3216111938163522e-06,1.323990886703541e-06,1.324297613791714e-06,1.3326537100510905e-06,1.336057380285638e-06,1.3703729564440437e-06,1.3753148095929646e-06,1.3769075621894444e-06,1.3828346254740609e-06,1.385276732435159e-06,1.3858483498552232e-06,1.4000672763359034e-06,1.4083155974731199e-06,1.4168971347316983e-06,1.4218251180864172e-06,1.4228864984033862e-06,1.4461260207099258e-06,1.4715741372128832e-06,1.4919986597305979e-06,1.4924472679922474e-06,1.5122654986043926e-06,1.513981374046125e-06,1.5242625295286416e-06,1.5346163309004623e-06,1.542673430776631e-06,1.5564216937491437e-06,1.5700177300459472e-06,1.5886479332039016e-06,1.6527658317500027e-06,1.656824224482989e-06,1.6743912283345708e-06,1.6746658957345062e-06,1.6783435512479628e-06,1.7274830952374032e-06,1.752708499225264e-06,1.7604621689315536e-06,1.816977942326048e-06,1.821984255911957e-06,1.8493359448257252e-06,1.8724658730207011e-06,1.8895455013989704e-06,1.913347432491719e-06,1.9239009816374164e-06,1.9341994175192667e-06,1.943073812071816e-06,1.9673616407089867e-06,1.9744786641240353e-06,2.0004113139293622e-06,2.0577006125677144e-06,2.0605775716830976e-06,2.062197836494306e-06,2.120351837220369e-06,2.1545197341765743e-06,2.1870705495530274e-06,2.193077989431913e-06,2.1983748865750385e-06,2.2873366560816066e-06,2.32876482186839e-06,2.369604544583126e-06,2.3793743366695708e-06,2.4291014142363565e-06,2.4293547085108003e-06,2.544860535635962e-06,2.619883161969483e-06,2.740632908171392e-06,2.8340728022158146e-06,2.861248731278465e-06,2.8887698135804385e-06,2.9951536362204934e-06,3.0409294140554266e-06,3.3073195027100155e-06,3.3406552120140987e-06,3.385730906302342e-06,3.3991118471021764e-06,3.4782447073666845e-06,3.497714033073862e-06,3.5026343994104536e-06,3.515996922942577e-06,3.5328628200659296e-06,4.005651589977788e-06,4.193937911622925e-06]},{\"hoverinfo\":\"text\",\"hovertext\":[\"(4.449495008884696e-06, 5.79223842578358e-06)\",\"(4.417014679347631e-06, 5.566853360505775e-06)\",\"(4.041450665681623e-06, 4.265785264578881e-06)\",\"(3.7543416055996204e-06, 3.869627562380629e-06)\",\"(3.716286755661713e-06, 4.8110341595020145e-06)\",\"(3.6714054658659734e-06, 3.7111165056558093e-06)\",\"(3.4090317058144137e-06, 3.4900531318271533e-06)\",\"(3.3983910725510214e-06, 3.474483264653827e-06)\",\"(3.1958145427779527e-06, 3.2093323625304038e-06)\",\"(2.9809232273692032e-06, 3.2412838208983885e-06)\",\"(2.9499658467102563e-06, 2.9877703582315007e-06)\",\"(2.936846385637182e-06, 2.9832929158146726e-06)\",\"(2.9293566967680817e-06, 3.1732931802253006e-06)\",\"(2.9073949008306954e-06, 3.449386213105754e-06)\",\"(2.85218402495957e-06, 3.074430424021557e-06)\",\"(2.847529231075896e-06, 3.2973730412777513e-06)\",\"(2.7764979222411057e-06, 2.7965004392171977e-06)\",\"(2.6387908746983157e-06, 2.7731043701351155e-06)\",\"(2.615743824208039e-06, 2.763982138276333e-06)\",\"(2.5893411930155708e-06, 2.6298355351173086e-06)\",\"(2.555691708039376e-06, 2.9658301627932815e-06)\",\"(2.5234623990399996e-06, 2.6228833576169563e-06)\",\"(2.495698481652653e-06, 2.735644557105843e-06)\",\"(2.481545152477338e-06, 2.520558155083563e-06)\",\"(2.472274445608491e-06, 2.5836284294200595e-06)\",\"(2.4101341296045575e-06, 2.4975111045932863e-06)\",\"(2.3755953861837042e-06, 2.72123065769847e-06)\",\"(2.241105676148436e-06, 2.7689322905644076e-06)\",\"(2.237475655419985e-06, 2.2990857360127848e-06)\",\"(2.2287761112238513e-06, 2.236828322565998e-06)\",\"(2.2249912490224233e-06, 2.3385000531561673e-06)\",\"(2.2106223696027882e-06, 2.734439021878643e-06)\",\"(2.1933992684353143e-06, 2.567145884313504e-06)\",\"(2.1892240056331502e-06, 2.7689322905644076e-06)\",\"(2.172685526602436e-06, 2.4006806143006543e-06)\",\"(2.165424803024507e-06, 2.2002886908012442e-06)\",\"(2.1645057586283656e-06, 2.2795427412347635e-06)\",\"(2.1516332253668224e-06, 2.215585482190363e-06)\",\"(2.124959110005875e-06, 2.2503731997858267e-06)\",\"(1.9428714495006716e-06, 1.9641690869320882e-06)\",\"(1.9136844002787257e-06, 2.1240634850983042e-06)\",\"(1.8935552361654118e-06, 2.05323794943979e-06)\",\"(1.8782870938593987e-06, 1.9380845515115652e-06)\",\"(1.835341208789032e-06, 2.091595661113388e-06)\",\"(1.827093910833355e-06, 2.204533075200743e-06)\",\"(1.8024961718765553e-06, 1.8253822418046184e-06)\",\"(1.7930158264789497e-06, 1.8368788232692168e-06)\",\"(1.7612178453418892e-06, 2.4593293801444815e-06)\",\"(1.7486518117948435e-06, 1.8796283711708384e-06)\",\"(1.7364448012813227e-06, 2.4428720735159004e-06)\",\"(1.6995581972878426e-06, 1.9058998077525757e-06)\",\"(1.6888897107492085e-06, 2.7957523798249895e-06)\"],\"mode\":\"markers\",\"name\":\"H1\",\"type\":\"scatter\",\"x\":[4.449495008884696e-06,4.417014679347631e-06,4.041450665681623e-06,3.7543416055996204e-06,3.716286755661713e-06,3.6714054658659734e-06,3.4090317058144137e-06,3.3983910725510214e-06,3.1958145427779527e-06,2.9809232273692032e-06,2.9499658467102563e-06,2.936846385637182e-06,2.9293566967680817e-06,2.9073949008306954e-06,2.85218402495957e-06,2.847529231075896e-06,2.7764979222411057e-06,2.6387908746983157e-06,2.615743824208039e-06,2.5893411930155708e-06,2.555691708039376e-06,2.5234623990399996e-06,2.495698481652653e-06,2.481545152477338e-06,2.472274445608491e-06,2.4101341296045575e-06,2.3755953861837042e-06,2.241105676148436e-06,2.237475655419985e-06,2.2287761112238513e-06,2.2249912490224233e-06,2.2106223696027882e-06,2.1933992684353143e-06,2.1892240056331502e-06,2.172685526602436e-06,2.165424803024507e-06,2.1645057586283656e-06,2.1516332253668224e-06,2.124959110005875e-06,1.9428714495006716e-06,1.9136844002787257e-06,1.8935552361654118e-06,1.8782870938593987e-06,1.835341208789032e-06,1.827093910833355e-06,1.8024961718765553e-06,1.7930158264789497e-06,1.7612178453418892e-06,1.7486518117948435e-06,1.7364448012813227e-06,1.6995581972878426e-06,1.6888897107492085e-06],\"y\":[5.79223842578358e-06,5.566853360505775e-06,4.265785264578881e-06,3.869627562380629e-06,4.8110341595020145e-06,3.7111165056558093e-06,3.4900531318271533e-06,3.474483264653827e-06,3.2093323625304038e-06,3.2412838208983885e-06,2.9877703582315007e-06,2.9832929158146726e-06,3.1732931802253006e-06,3.449386213105754e-06,3.074430424021557e-06,3.2973730412777513e-06,2.7965004392171977e-06,2.7731043701351155e-06,2.763982138276333e-06,2.6298355351173086e-06,2.9658301627932815e-06,2.6228833576169563e-06,2.735644557105843e-06,2.520558155083563e-06,2.5836284294200595e-06,2.4975111045932863e-06,2.72123065769847e-06,2.7689322905644076e-06,2.2990857360127848e-06,2.236828322565998e-06,2.3385000531561673e-06,2.734439021878643e-06,2.567145884313504e-06,2.7689322905644076e-06,2.4006806143006543e-06,2.2002886908012442e-06,2.2795427412347635e-06,2.215585482190363e-06,2.2503731997858267e-06,1.9641690869320882e-06,2.1240634850983042e-06,2.05323794943979e-06,1.9380845515115652e-06,2.091595661113388e-06,2.204533075200743e-06,1.8253822418046184e-06,1.8368788232692168e-06,2.4593293801444815e-06,1.8796283711708384e-06,2.4428720735159004e-06,1.9058998077525757e-06,2.7957523798249895e-06]},{\"hoverinfo\":\"text\",\"hovertext\":[\"(4.465593519853428e-06, 4.516622539085802e-06)\",\"(3.828379703918472e-06, 3.984073828178225e-06)\",\"(3.1356021281681024e-06, 3.3922835882549407e-06)\",\"(3.1341110116045456e-06, 3.201820163667435e-06)\",\"(3.120556357316673e-06, 3.121428562735673e-06)\",\"(2.8709512207569787e-06, 2.9242107757454505e-06)\",\"(2.752382897597272e-06, 2.795042746583931e-06)\",\"(2.7271564704278717e-06, 3.0340415833052248e-06)\",\"(2.6324903501517838e-06, 2.7578048502618913e-06)\",\"(2.387965423622518e-06, 2.5190097403537948e-06)\"],\"mode\":\"markers\",\"name\":\"H2\",\"type\":\"scatter\",\"x\":[4.465593519853428e-06,3.828379703918472e-06,3.1356021281681024e-06,3.1341110116045456e-06,3.120556357316673e-06,2.8709512207569787e-06,2.752382897597272e-06,2.7271564704278717e-06,2.6324903501517838e-06,2.387965423622518e-06],\"y\":[4.516622539085802e-06,3.984073828178225e-06,3.3922835882549407e-06,3.201820163667435e-06,3.121428562735673e-06,2.9242107757454505e-06,2.795042746583931e-06,3.0340415833052248e-06,2.7578048502618913e-06,2.5190097403537948e-06]}],                        {\"height\":500,\"plot_bgcolor\":\"white\",\"template\":{\"data\":{\"bar\":[{\"error_x\":{\"color\":\"#2a3f5f\"},\"error_y\":{\"color\":\"#2a3f5f\"},\"marker\":{\"line\":{\"color\":\"#E5ECF6\",\"width\":0.5},\"pattern\":{\"fillmode\":\"overlay\",\"size\":10,\"solidity\":0.2}},\"type\":\"bar\"}],\"barpolar\":[{\"marker\":{\"line\":{\"color\":\"#E5ECF6\",\"width\":0.5},\"pattern\":{\"fillmode\":\"overlay\",\"size\":10,\"solidity\":0.2}},\"type\":\"barpolar\"}],\"carpet\":[{\"aaxis\":{\"endlinecolor\":\"#2a3f5f\",\"gridcolor\":\"white\",\"linecolor\":\"white\",\"minorgridcolor\":\"white\",\"startlinecolor\":\"#2a3f5f\"},\"baxis\":{\"endlinecolor\":\"#2a3f5f\",\"gridcolor\":\"white\",\"linecolor\":\"white\",\"minorgridcolor\":\"white\",\"startlinecolor\":\"#2a3f5f\"},\"type\":\"carpet\"}],\"choropleth\":[{\"colorbar\":{\"outlinewidth\":0,\"ticks\":\"\"},\"type\":\"choropleth\"}],\"contour\":[{\"colorbar\":{\"outlinewidth\":0,\"ticks\":\"\"},\"colorscale\":[[0.0,\"#0d0887\"],[0.1111111111111111,\"#46039f\"],[0.2222222222222222,\"#7201a8\"],[0.3333333333333333,\"#9c179e\"],[0.4444444444444444,\"#bd3786\"],[0.5555555555555556,\"#d8576b\"],[0.6666666666666666,\"#ed7953\"],[0.7777777777777778,\"#fb9f3a\"],[0.8888888888888888,\"#fdca26\"],[1.0,\"#f0f921\"]],\"type\":\"contour\"}],\"contourcarpet\":[{\"colorbar\":{\"outlinewidth\":0,\"ticks\":\"\"},\"type\":\"contourcarpet\"}],\"heatmap\":[{\"colorbar\":{\"outlinewidth\":0,\"ticks\":\"\"},\"colorscale\":[[0.0,\"#0d0887\"],[0.1111111111111111,\"#46039f\"],[0.2222222222222222,\"#7201a8\"],[0.3333333333333333,\"#9c179e\"],[0.4444444444444444,\"#bd3786\"],[0.5555555555555556,\"#d8576b\"],[0.6666666666666666,\"#ed7953\"],[0.7777777777777778,\"#fb9f3a\"],[0.8888888888888888,\"#fdca26\"],[1.0,\"#f0f921\"]],\"type\":\"heatmap\"}],\"heatmapgl\":[{\"colorbar\":{\"outlinewidth\":0,\"ticks\":\"\"},\"colorscale\":[[0.0,\"#0d0887\"],[0.1111111111111111,\"#46039f\"],[0.2222222222222222,\"#7201a8\"],[0.3333333333333333,\"#9c179e\"],[0.4444444444444444,\"#bd3786\"],[0.5555555555555556,\"#d8576b\"],[0.6666666666666666,\"#ed7953\"],[0.7777777777777778,\"#fb9f3a\"],[0.8888888888888888,\"#fdca26\"],[1.0,\"#f0f921\"]],\"type\":\"heatmapgl\"}],\"histogram\":[{\"marker\":{\"pattern\":{\"fillmode\":\"overlay\",\"size\":10,\"solidity\":0.2}},\"type\":\"histogram\"}],\"histogram2d\":[{\"colorbar\":{\"outlinewidth\":0,\"ticks\":\"\"},\"colorscale\":[[0.0,\"#0d0887\"],[0.1111111111111111,\"#46039f\"],[0.2222222222222222,\"#7201a8\"],[0.3333333333333333,\"#9c179e\"],[0.4444444444444444,\"#bd3786\"],[0.5555555555555556,\"#d8576b\"],[0.6666666666666666,\"#ed7953\"],[0.7777777777777778,\"#fb9f3a\"],[0.8888888888888888,\"#fdca26\"],[1.0,\"#f0f921\"]],\"type\":\"histogram2d\"}],\"histogram2dcontour\":[{\"colorbar\":{\"outlinewidth\":0,\"ticks\":\"\"},\"colorscale\":[[0.0,\"#0d0887\"],[0.1111111111111111,\"#46039f\"],[0.2222222222222222,\"#7201a8\"],[0.3333333333333333,\"#9c179e\"],[0.4444444444444444,\"#bd3786\"],[0.5555555555555556,\"#d8576b\"],[0.6666666666666666,\"#ed7953\"],[0.7777777777777778,\"#fb9f3a\"],[0.8888888888888888,\"#fdca26\"],[1.0,\"#f0f921\"]],\"type\":\"histogram2dcontour\"}],\"mesh3d\":[{\"colorbar\":{\"outlinewidth\":0,\"ticks\":\"\"},\"type\":\"mesh3d\"}],\"parcoords\":[{\"line\":{\"colorbar\":{\"outlinewidth\":0,\"ticks\":\"\"}},\"type\":\"parcoords\"}],\"pie\":[{\"automargin\":true,\"type\":\"pie\"}],\"scatter\":[{\"marker\":{\"colorbar\":{\"outlinewidth\":0,\"ticks\":\"\"}},\"type\":\"scatter\"}],\"scatter3d\":[{\"line\":{\"colorbar\":{\"outlinewidth\":0,\"ticks\":\"\"}},\"marker\":{\"colorbar\":{\"outlinewidth\":0,\"ticks\":\"\"}},\"type\":\"scatter3d\"}],\"scattercarpet\":[{\"marker\":{\"colorbar\":{\"outlinewidth\":0,\"ticks\":\"\"}},\"type\":\"scattercarpet\"}],\"scattergeo\":[{\"marker\":{\"colorbar\":{\"outlinewidth\":0,\"ticks\":\"\"}},\"type\":\"scattergeo\"}],\"scattergl\":[{\"marker\":{\"colorbar\":{\"outlinewidth\":0,\"ticks\":\"\"}},\"type\":\"scattergl\"}],\"scattermapbox\":[{\"marker\":{\"colorbar\":{\"outlinewidth\":0,\"ticks\":\"\"}},\"type\":\"scattermapbox\"}],\"scatterpolar\":[{\"marker\":{\"colorbar\":{\"outlinewidth\":0,\"ticks\":\"\"}},\"type\":\"scatterpolar\"}],\"scatterpolargl\":[{\"marker\":{\"colorbar\":{\"outlinewidth\":0,\"ticks\":\"\"}},\"type\":\"scatterpolargl\"}],\"scatterternary\":[{\"marker\":{\"colorbar\":{\"outlinewidth\":0,\"ticks\":\"\"}},\"type\":\"scatterternary\"}],\"surface\":[{\"colorbar\":{\"outlinewidth\":0,\"ticks\":\"\"},\"colorscale\":[[0.0,\"#0d0887\"],[0.1111111111111111,\"#46039f\"],[0.2222222222222222,\"#7201a8\"],[0.3333333333333333,\"#9c179e\"],[0.4444444444444444,\"#bd3786\"],[0.5555555555555556,\"#d8576b\"],[0.6666666666666666,\"#ed7953\"],[0.7777777777777778,\"#fb9f3a\"],[0.8888888888888888,\"#fdca26\"],[1.0,\"#f0f921\"]],\"type\":\"surface\"}],\"table\":[{\"cells\":{\"fill\":{\"color\":\"#EBF0F8\"},\"line\":{\"color\":\"white\"}},\"header\":{\"fill\":{\"color\":\"#C8D4E3\"},\"line\":{\"color\":\"white\"}},\"type\":\"table\"}]},\"layout\":{\"annotationdefaults\":{\"arrowcolor\":\"#2a3f5f\",\"arrowhead\":0,\"arrowwidth\":1},\"autotypenumbers\":\"strict\",\"coloraxis\":{\"colorbar\":{\"outlinewidth\":0,\"ticks\":\"\"}},\"colorscale\":{\"diverging\":[[0,\"#8e0152\"],[0.1,\"#c51b7d\"],[0.2,\"#de77ae\"],[0.3,\"#f1b6da\"],[0.4,\"#fde0ef\"],[0.5,\"#f7f7f7\"],[0.6,\"#e6f5d0\"],[0.7,\"#b8e186\"],[0.8,\"#7fbc41\"],[0.9,\"#4d9221\"],[1,\"#276419\"]],\"sequential\":[[0.0,\"#0d0887\"],[0.1111111111111111,\"#46039f\"],[0.2222222222222222,\"#7201a8\"],[0.3333333333333333,\"#9c179e\"],[0.4444444444444444,\"#bd3786\"],[0.5555555555555556,\"#d8576b\"],[0.6666666666666666,\"#ed7953\"],[0.7777777777777778,\"#fb9f3a\"],[0.8888888888888888,\"#fdca26\"],[1.0,\"#f0f921\"]],\"sequentialminus\":[[0.0,\"#0d0887\"],[0.1111111111111111,\"#46039f\"],[0.2222222222222222,\"#7201a8\"],[0.3333333333333333,\"#9c179e\"],[0.4444444444444444,\"#bd3786\"],[0.5555555555555556,\"#d8576b\"],[0.6666666666666666,\"#ed7953\"],[0.7777777777777778,\"#fb9f3a\"],[0.8888888888888888,\"#fdca26\"],[1.0,\"#f0f921\"]]},\"colorway\":[\"#636efa\",\"#EF553B\",\"#00cc96\",\"#ab63fa\",\"#FFA15A\",\"#19d3f3\",\"#FF6692\",\"#B6E880\",\"#FF97FF\",\"#FECB52\"],\"font\":{\"color\":\"#2a3f5f\"},\"geo\":{\"bgcolor\":\"white\",\"lakecolor\":\"white\",\"landcolor\":\"#E5ECF6\",\"showlakes\":true,\"showland\":true,\"subunitcolor\":\"white\"},\"hoverlabel\":{\"align\":\"left\"},\"hovermode\":\"closest\",\"mapbox\":{\"style\":\"light\"},\"paper_bgcolor\":\"white\",\"plot_bgcolor\":\"#E5ECF6\",\"polar\":{\"angularaxis\":{\"gridcolor\":\"white\",\"linecolor\":\"white\",\"ticks\":\"\"},\"bgcolor\":\"#E5ECF6\",\"radialaxis\":{\"gridcolor\":\"white\",\"linecolor\":\"white\",\"ticks\":\"\"}},\"scene\":{\"xaxis\":{\"backgroundcolor\":\"#E5ECF6\",\"gridcolor\":\"white\",\"gridwidth\":2,\"linecolor\":\"white\",\"showbackground\":true,\"ticks\":\"\",\"zerolinecolor\":\"white\"},\"yaxis\":{\"backgroundcolor\":\"#E5ECF6\",\"gridcolor\":\"white\",\"gridwidth\":2,\"linecolor\":\"white\",\"showbackground\":true,\"ticks\":\"\",\"zerolinecolor\":\"white\"},\"zaxis\":{\"backgroundcolor\":\"#E5ECF6\",\"gridcolor\":\"white\",\"gridwidth\":2,\"linecolor\":\"white\",\"showbackground\":true,\"ticks\":\"\",\"zerolinecolor\":\"white\"}},\"shapedefaults\":{\"line\":{\"color\":\"#2a3f5f\"}},\"ternary\":{\"aaxis\":{\"gridcolor\":\"white\",\"linecolor\":\"white\",\"ticks\":\"\"},\"baxis\":{\"gridcolor\":\"white\",\"linecolor\":\"white\",\"ticks\":\"\"},\"bgcolor\":\"#E5ECF6\",\"caxis\":{\"gridcolor\":\"white\",\"linecolor\":\"white\",\"ticks\":\"\"}},\"title\":{\"x\":0.05},\"xaxis\":{\"automargin\":true,\"gridcolor\":\"white\",\"linecolor\":\"white\",\"ticks\":\"\",\"title\":{\"standoff\":15},\"zerolinecolor\":\"white\",\"zerolinewidth\":2},\"yaxis\":{\"automargin\":true,\"gridcolor\":\"white\",\"linecolor\":\"white\",\"ticks\":\"\",\"title\":{\"standoff\":15},\"zerolinecolor\":\"white\",\"zerolinewidth\":2}}},\"width\":500,\"xaxis\":{\"autorange\":false,\"exponentformat\":\"e\",\"linecolor\":\"black\",\"linewidth\":1,\"mirror\":false,\"range\":[-1.158447685156716e-07,5.908083194299252e-06],\"showexponent\":\"all\",\"showline\":true,\"side\":\"bottom\",\"ticks\":\"outside\",\"title\":{\"text\":\"Birth\"},\"type\":\"linear\",\"zeroline\":true},\"yaxis\":{\"autorange\":false,\"exponentformat\":\"e\",\"linecolor\":\"black\",\"linewidth\":1,\"mirror\":false,\"range\":[-1.158447685156716e-07,5.908083194299252e-06],\"scaleanchor\":\"x\",\"scaleratio\":1,\"showexponent\":\"all\",\"showline\":true,\"side\":\"left\",\"ticks\":\"outside\",\"title\":{\"text\":\"Death\"},\"type\":\"linear\",\"zeroline\":true}},                        {\"responsive\": true}                    ).then(function(){\n",
       "                            \n",
       "var gd = document.getElementById('01cf2211-af57-49bf-8b00-97878926d765');\n",
       "var x = new MutationObserver(function (mutations, observer) {{\n",
       "        var display = window.getComputedStyle(gd).display;\n",
       "        if (!display || display === 'none') {{\n",
       "            console.log([gd, 'removed!']);\n",
       "            Plotly.purge(gd);\n",
       "            observer.disconnect();\n",
       "        }}\n",
       "}});\n",
       "\n",
       "// Listen for the removal of the full notebook cells\n",
       "var notebookContainer = gd.closest('#notebook-container');\n",
       "if (notebookContainer) {{\n",
       "    x.observe(notebookContainer, {childList: true});\n",
       "}}\n",
       "\n",
       "// Listen for the clearing of the current output cell\n",
       "var outputEl = gd.closest('.output');\n",
       "if (outputEl) {{\n",
       "    x.observe(outputEl, {childList: true});\n",
       "}}\n",
       "\n",
       "                        })                };                            </script>        </div>\n",
       "</body>\n",
       "</html>"
      ]
     },
     "metadata": {},
     "output_type": "display_data"
    },
    {
     "data": {
      "text/plain": [
       "array([[[0.00000000e+00, 2.12445300e-07, 0.00000000e+00],\n",
       "        [0.00000000e+00, 3.56654539e-07, 0.00000000e+00],\n",
       "        [0.00000000e+00, 5.00457134e-07, 0.00000000e+00],\n",
       "        [0.00000000e+00, 6.56809391e-07, 0.00000000e+00],\n",
       "        [0.00000000e+00, 6.66324354e-07, 0.00000000e+00],\n",
       "        [0.00000000e+00, 7.53537392e-07, 0.00000000e+00],\n",
       "        [0.00000000e+00, 7.53945812e-07, 0.00000000e+00],\n",
       "        [0.00000000e+00, 7.56780992e-07, 0.00000000e+00],\n",
       "        [0.00000000e+00, 8.23580933e-07, 0.00000000e+00],\n",
       "        [0.00000000e+00, 8.37417701e-07, 0.00000000e+00],\n",
       "        [0.00000000e+00, 8.43003647e-07, 0.00000000e+00],\n",
       "        [0.00000000e+00, 8.51227810e-07, 0.00000000e+00],\n",
       "        [0.00000000e+00, 8.58795829e-07, 0.00000000e+00],\n",
       "        [0.00000000e+00, 8.63471939e-07, 0.00000000e+00],\n",
       "        [0.00000000e+00, 8.77107027e-07, 0.00000000e+00],\n",
       "        [0.00000000e+00, 8.91057255e-07, 0.00000000e+00],\n",
       "        [0.00000000e+00, 9.06281628e-07, 0.00000000e+00],\n",
       "        [0.00000000e+00, 9.38775486e-07, 0.00000000e+00],\n",
       "        [0.00000000e+00, 9.80827167e-07, 0.00000000e+00],\n",
       "        [0.00000000e+00, 1.02976321e-06, 0.00000000e+00],\n",
       "        [0.00000000e+00, 1.03687614e-06, 0.00000000e+00],\n",
       "        [0.00000000e+00, 1.03800505e-06, 0.00000000e+00],\n",
       "        [0.00000000e+00, 1.05092101e-06, 0.00000000e+00],\n",
       "        [0.00000000e+00, 1.07809581e-06, 0.00000000e+00],\n",
       "        [0.00000000e+00, 1.08447739e-06, 0.00000000e+00],\n",
       "        [0.00000000e+00, 1.08783138e-06, 0.00000000e+00],\n",
       "        [0.00000000e+00, 1.10371457e-06, 0.00000000e+00],\n",
       "        [0.00000000e+00, 1.13763258e-06, 0.00000000e+00],\n",
       "        [0.00000000e+00, 1.13857436e-06, 0.00000000e+00],\n",
       "        [0.00000000e+00, 1.14020884e-06, 0.00000000e+00],\n",
       "        [0.00000000e+00, 1.18937328e-06, 0.00000000e+00],\n",
       "        [0.00000000e+00, 1.18957314e-06, 0.00000000e+00],\n",
       "        [0.00000000e+00, 1.19038009e-06, 0.00000000e+00],\n",
       "        [0.00000000e+00, 1.19461197e-06, 0.00000000e+00],\n",
       "        [0.00000000e+00, 1.22518145e-06, 0.00000000e+00],\n",
       "        [0.00000000e+00, 1.22534982e-06, 0.00000000e+00],\n",
       "        [0.00000000e+00, 1.23288373e-06, 0.00000000e+00],\n",
       "        [0.00000000e+00, 1.24525229e-06, 0.00000000e+00],\n",
       "        [0.00000000e+00, 1.24907092e-06, 0.00000000e+00],\n",
       "        [0.00000000e+00, 1.25098575e-06, 0.00000000e+00],\n",
       "        [0.00000000e+00, 1.25562440e-06, 0.00000000e+00],\n",
       "        [0.00000000e+00, 1.26087230e-06, 0.00000000e+00],\n",
       "        [0.00000000e+00, 1.29175089e-06, 0.00000000e+00],\n",
       "        [0.00000000e+00, 1.29184832e-06, 0.00000000e+00],\n",
       "        [0.00000000e+00, 1.30836065e-06, 0.00000000e+00],\n",
       "        [0.00000000e+00, 1.32040225e-06, 0.00000000e+00],\n",
       "        [0.00000000e+00, 1.32161119e-06, 0.00000000e+00],\n",
       "        [0.00000000e+00, 1.32399089e-06, 0.00000000e+00],\n",
       "        [0.00000000e+00, 1.32429761e-06, 0.00000000e+00],\n",
       "        [0.00000000e+00, 1.33265371e-06, 0.00000000e+00],\n",
       "        [0.00000000e+00, 1.33605738e-06, 0.00000000e+00],\n",
       "        [0.00000000e+00, 1.37037296e-06, 0.00000000e+00],\n",
       "        [0.00000000e+00, 1.37531481e-06, 0.00000000e+00],\n",
       "        [0.00000000e+00, 1.37690756e-06, 0.00000000e+00],\n",
       "        [0.00000000e+00, 1.38283463e-06, 0.00000000e+00],\n",
       "        [0.00000000e+00, 1.38527673e-06, 0.00000000e+00],\n",
       "        [0.00000000e+00, 1.38584835e-06, 0.00000000e+00],\n",
       "        [0.00000000e+00, 1.40006728e-06, 0.00000000e+00],\n",
       "        [0.00000000e+00, 1.40831560e-06, 0.00000000e+00],\n",
       "        [0.00000000e+00, 1.41689713e-06, 0.00000000e+00],\n",
       "        [0.00000000e+00, 1.42182512e-06, 0.00000000e+00],\n",
       "        [0.00000000e+00, 1.42288650e-06, 0.00000000e+00],\n",
       "        [0.00000000e+00, 1.44612602e-06, 0.00000000e+00],\n",
       "        [0.00000000e+00, 1.47157414e-06, 0.00000000e+00],\n",
       "        [0.00000000e+00, 1.49199866e-06, 0.00000000e+00],\n",
       "        [0.00000000e+00, 1.49244727e-06, 0.00000000e+00],\n",
       "        [0.00000000e+00, 1.51226550e-06, 0.00000000e+00],\n",
       "        [0.00000000e+00, 1.51398137e-06, 0.00000000e+00],\n",
       "        [0.00000000e+00, 1.52426253e-06, 0.00000000e+00],\n",
       "        [0.00000000e+00, 1.53461633e-06, 0.00000000e+00],\n",
       "        [0.00000000e+00, 1.54267343e-06, 0.00000000e+00],\n",
       "        [0.00000000e+00, 1.55642169e-06, 0.00000000e+00],\n",
       "        [0.00000000e+00, 1.57001773e-06, 0.00000000e+00],\n",
       "        [0.00000000e+00, 1.58864793e-06, 0.00000000e+00],\n",
       "        [0.00000000e+00, 1.65276583e-06, 0.00000000e+00],\n",
       "        [0.00000000e+00, 1.65682422e-06, 0.00000000e+00],\n",
       "        [0.00000000e+00, 1.67439123e-06, 0.00000000e+00],\n",
       "        [0.00000000e+00, 1.67466590e-06, 0.00000000e+00],\n",
       "        [0.00000000e+00, 1.67834355e-06, 0.00000000e+00],\n",
       "        [0.00000000e+00, 1.72748310e-06, 0.00000000e+00],\n",
       "        [0.00000000e+00, 1.75270850e-06, 0.00000000e+00],\n",
       "        [0.00000000e+00, 1.76046217e-06, 0.00000000e+00],\n",
       "        [0.00000000e+00, 1.81697794e-06, 0.00000000e+00],\n",
       "        [0.00000000e+00, 1.82198426e-06, 0.00000000e+00],\n",
       "        [0.00000000e+00, 1.84933594e-06, 0.00000000e+00],\n",
       "        [0.00000000e+00, 1.87246587e-06, 0.00000000e+00],\n",
       "        [0.00000000e+00, 1.88954550e-06, 0.00000000e+00],\n",
       "        [0.00000000e+00, 1.91334743e-06, 0.00000000e+00],\n",
       "        [0.00000000e+00, 1.92390098e-06, 0.00000000e+00],\n",
       "        [0.00000000e+00, 1.93419942e-06, 0.00000000e+00],\n",
       "        [0.00000000e+00, 1.94307381e-06, 0.00000000e+00],\n",
       "        [0.00000000e+00, 1.96736164e-06, 0.00000000e+00],\n",
       "        [0.00000000e+00, 1.97447866e-06, 0.00000000e+00],\n",
       "        [0.00000000e+00, 2.00041131e-06, 0.00000000e+00],\n",
       "        [0.00000000e+00, 2.05770061e-06, 0.00000000e+00],\n",
       "        [0.00000000e+00, 2.06057757e-06, 0.00000000e+00],\n",
       "        [0.00000000e+00, 2.06219784e-06, 0.00000000e+00],\n",
       "        [0.00000000e+00, 2.12035184e-06, 0.00000000e+00],\n",
       "        [0.00000000e+00, 2.15451973e-06, 0.00000000e+00],\n",
       "        [0.00000000e+00, 2.18707055e-06, 0.00000000e+00],\n",
       "        [0.00000000e+00, 2.19307799e-06, 0.00000000e+00],\n",
       "        [0.00000000e+00, 2.19837489e-06, 0.00000000e+00],\n",
       "        [0.00000000e+00, 2.28733666e-06, 0.00000000e+00],\n",
       "        [0.00000000e+00, 2.32876482e-06, 0.00000000e+00],\n",
       "        [0.00000000e+00, 2.36960454e-06, 0.00000000e+00],\n",
       "        [0.00000000e+00, 2.37937434e-06, 0.00000000e+00],\n",
       "        [0.00000000e+00, 2.42910141e-06, 0.00000000e+00],\n",
       "        [0.00000000e+00, 2.42935471e-06, 0.00000000e+00],\n",
       "        [0.00000000e+00, 2.54486054e-06, 0.00000000e+00],\n",
       "        [0.00000000e+00, 2.61988316e-06, 0.00000000e+00],\n",
       "        [0.00000000e+00, 2.74063291e-06, 0.00000000e+00],\n",
       "        [0.00000000e+00, 2.83407280e-06, 0.00000000e+00],\n",
       "        [0.00000000e+00, 2.86124873e-06, 0.00000000e+00],\n",
       "        [0.00000000e+00, 2.88876981e-06, 0.00000000e+00],\n",
       "        [0.00000000e+00, 2.99515364e-06, 0.00000000e+00],\n",
       "        [0.00000000e+00, 3.04092941e-06, 0.00000000e+00],\n",
       "        [0.00000000e+00, 3.30731950e-06, 0.00000000e+00],\n",
       "        [0.00000000e+00, 3.34065521e-06, 0.00000000e+00],\n",
       "        [0.00000000e+00, 3.38573091e-06, 0.00000000e+00],\n",
       "        [0.00000000e+00, 3.39911185e-06, 0.00000000e+00],\n",
       "        [0.00000000e+00, 3.47824471e-06, 0.00000000e+00],\n",
       "        [0.00000000e+00, 3.49771403e-06, 0.00000000e+00],\n",
       "        [0.00000000e+00, 3.50263440e-06, 0.00000000e+00],\n",
       "        [0.00000000e+00, 3.51599692e-06, 0.00000000e+00],\n",
       "        [0.00000000e+00, 3.53286282e-06, 0.00000000e+00],\n",
       "        [0.00000000e+00, 4.00565159e-06, 0.00000000e+00],\n",
       "        [0.00000000e+00, 4.19393791e-06, 0.00000000e+00],\n",
       "        [4.44949501e-06, 5.79223843e-06, 1.00000000e+00],\n",
       "        [4.41701468e-06, 5.56685336e-06, 1.00000000e+00],\n",
       "        [4.04145067e-06, 4.26578526e-06, 1.00000000e+00],\n",
       "        [3.75434161e-06, 3.86962756e-06, 1.00000000e+00],\n",
       "        [3.71628676e-06, 4.81103416e-06, 1.00000000e+00],\n",
       "        [3.67140547e-06, 3.71111651e-06, 1.00000000e+00],\n",
       "        [3.40903171e-06, 3.49005313e-06, 1.00000000e+00],\n",
       "        [3.39839107e-06, 3.47448326e-06, 1.00000000e+00],\n",
       "        [3.19581454e-06, 3.20933236e-06, 1.00000000e+00],\n",
       "        [2.98092323e-06, 3.24128382e-06, 1.00000000e+00],\n",
       "        [2.94996585e-06, 2.98777036e-06, 1.00000000e+00],\n",
       "        [2.93684639e-06, 2.98329292e-06, 1.00000000e+00],\n",
       "        [2.92935670e-06, 3.17329318e-06, 1.00000000e+00],\n",
       "        [2.90739490e-06, 3.44938621e-06, 1.00000000e+00],\n",
       "        [2.85218402e-06, 3.07443042e-06, 1.00000000e+00],\n",
       "        [2.84752923e-06, 3.29737304e-06, 1.00000000e+00],\n",
       "        [2.77649792e-06, 2.79650044e-06, 1.00000000e+00],\n",
       "        [2.63879087e-06, 2.77310437e-06, 1.00000000e+00],\n",
       "        [2.61574382e-06, 2.76398214e-06, 1.00000000e+00],\n",
       "        [2.58934119e-06, 2.62983554e-06, 1.00000000e+00],\n",
       "        [2.55569171e-06, 2.96583016e-06, 1.00000000e+00],\n",
       "        [2.52346240e-06, 2.62288336e-06, 1.00000000e+00],\n",
       "        [2.49569848e-06, 2.73564456e-06, 1.00000000e+00],\n",
       "        [2.48154515e-06, 2.52055816e-06, 1.00000000e+00],\n",
       "        [2.47227445e-06, 2.58362843e-06, 1.00000000e+00],\n",
       "        [2.41013413e-06, 2.49751110e-06, 1.00000000e+00],\n",
       "        [2.37559539e-06, 2.72123066e-06, 1.00000000e+00],\n",
       "        [2.24110568e-06, 2.76893229e-06, 1.00000000e+00],\n",
       "        [2.23747566e-06, 2.29908574e-06, 1.00000000e+00],\n",
       "        [2.22877611e-06, 2.23682832e-06, 1.00000000e+00],\n",
       "        [2.22499125e-06, 2.33850005e-06, 1.00000000e+00],\n",
       "        [2.21062237e-06, 2.73443902e-06, 1.00000000e+00],\n",
       "        [2.19339927e-06, 2.56714588e-06, 1.00000000e+00],\n",
       "        [2.18922401e-06, 2.76893229e-06, 1.00000000e+00],\n",
       "        [2.17268553e-06, 2.40068061e-06, 1.00000000e+00],\n",
       "        [2.16542480e-06, 2.20028869e-06, 1.00000000e+00],\n",
       "        [2.16450576e-06, 2.27954274e-06, 1.00000000e+00],\n",
       "        [2.15163323e-06, 2.21558548e-06, 1.00000000e+00],\n",
       "        [2.12495911e-06, 2.25037320e-06, 1.00000000e+00],\n",
       "        [1.94287145e-06, 1.96416909e-06, 1.00000000e+00],\n",
       "        [1.91368440e-06, 2.12406349e-06, 1.00000000e+00],\n",
       "        [1.89355524e-06, 2.05323795e-06, 1.00000000e+00],\n",
       "        [1.87828709e-06, 1.93808455e-06, 1.00000000e+00],\n",
       "        [1.83534121e-06, 2.09159566e-06, 1.00000000e+00],\n",
       "        [1.82709391e-06, 2.20453308e-06, 1.00000000e+00],\n",
       "        [1.80249617e-06, 1.82538224e-06, 1.00000000e+00],\n",
       "        [1.79301583e-06, 1.83687882e-06, 1.00000000e+00],\n",
       "        [1.76121785e-06, 2.45932938e-06, 1.00000000e+00],\n",
       "        [1.74865181e-06, 1.87962837e-06, 1.00000000e+00],\n",
       "        [1.73644480e-06, 2.44287207e-06, 1.00000000e+00],\n",
       "        [1.69955820e-06, 1.90589981e-06, 1.00000000e+00],\n",
       "        [1.68888971e-06, 2.79575238e-06, 1.00000000e+00],\n",
       "        [4.46559352e-06, 4.51662254e-06, 2.00000000e+00],\n",
       "        [3.82837970e-06, 3.98407383e-06, 2.00000000e+00],\n",
       "        [3.13560213e-06, 3.39228359e-06, 2.00000000e+00],\n",
       "        [3.13411101e-06, 3.20182016e-06, 2.00000000e+00],\n",
       "        [3.12055636e-06, 3.12142856e-06, 2.00000000e+00],\n",
       "        [2.87095122e-06, 2.92421078e-06, 2.00000000e+00],\n",
       "        [2.75238290e-06, 2.79504275e-06, 2.00000000e+00],\n",
       "        [2.72715647e-06, 3.03404158e-06, 2.00000000e+00],\n",
       "        [2.63249035e-06, 2.75780485e-06, 2.00000000e+00],\n",
       "        [2.38796542e-06, 2.51900974e-06, 2.00000000e+00]]])"
      ]
     },
     "execution_count": 58,
     "metadata": {},
     "output_type": "execute_result"
    }
   ],
   "source": [
    "print(m10_all_ch_per_diag[0].shape)\n",
    "print(m10_all_ch_per_diag[1].shape)\n",
    "print(m10_all_ch_per_diag[2].shape)\n",
    "\n",
    "#m10_all_ch_per_diag = np.array(m10_all_ch_per_diag)\n",
    "\n",
    "print(\"Persistence diagram for periodic signal\")\n",
    "persistence.fit_transform_plot(m10_all_ch_point_cl[10])"
   ]
  },
  {
   "cell_type": "code",
   "execution_count": null,
   "metadata": {
    "colab": {
     "base_uri": "https://localhost:8080/",
     "height": 1000
    },
    "executionInfo": {
     "elapsed": 2017,
     "status": "ok",
     "timestamp": 1630062274208,
     "user": {
      "displayName": "Екатерина Михайлец",
      "photoUrl": "",
      "userId": "03958266793788218532"
     },
     "user_tz": -180
    },
    "id": "GvTLZV6Y5IVT",
    "outputId": "0c1756c9-4242-461b-a51a-38adfeeb5471"
   },
   "outputs": [
    {
     "name": "stdout",
     "output_type": "stream",
     "text": [
      "(467, 19, 3, 100)\n"
     ]
    },
    {
     "data": {
      "text/html": [
       "<html>\n",
       "<head><meta charset=\"utf-8\" /></head>\n",
       "<body>\n",
       "    <div>            <script src=\"https://cdnjs.cloudflare.com/ajax/libs/mathjax/2.7.5/MathJax.js?config=TeX-AMS-MML_SVG\"></script><script type=\"text/javascript\">if (window.MathJax) {MathJax.Hub.Config({SVG: {font: \"STIX-Web\"}});}</script>                <script type=\"text/javascript\">window.PlotlyConfig = {MathJaxConfig: 'local'};</script>\n",
       "        <script src=\"https://cdn.plot.ly/plotly-2.3.1.min.js\"></script>                <div id=\"bc89c0ad-1906-4575-ad02-0586fcdd2c10\" class=\"plotly-graph-div\" style=\"height:525px; width:100%;\"></div>            <script type=\"text/javascript\">                                    window.PLOTLYENV=window.PLOTLYENV || {};                                    if (document.getElementById(\"bc89c0ad-1906-4575-ad02-0586fcdd2c10\")) {                    Plotly.newPlot(                        \"bc89c0ad-1906-4575-ad02-0586fcdd2c10\",                        [{\"mode\":\"lines\",\"name\":\"H0\",\"showlegend\":true,\"type\":\"scatter\",\"x\":[0.0,3.3299448944609424e-07,6.659889788921885e-07,9.989834683382828e-07,1.331977957784377e-06,1.6649724472304711e-06,1.9979669366765655e-06,2.3309614261226595e-06,2.663955915568754e-06,2.9969504050148483e-06,3.3299448944609423e-06,3.6629393839070367e-06,3.995933873353131e-06,4.328928362799225e-06,4.661922852245319e-06,4.994917341691414e-06,5.327911831137508e-06,5.660906320583602e-06,5.993900810029697e-06,6.326895299475791e-06,6.659889788921885e-06,6.992884278367979e-06,7.325878767814073e-06,7.658873257260167e-06,7.991867746706262e-06,8.324862236152355e-06,8.65785672559845e-06,8.990851215044545e-06,9.323845704490638e-06,9.656840193936733e-06,9.989834683382828e-06,1.0322829172828921e-05,1.0655823662275016e-05,1.098881815172111e-05,1.1321812641167204e-05,1.1654807130613298e-05,1.1987801620059393e-05,1.2320796109505486e-05,1.2653790598951581e-05,1.2986785088397676e-05,1.331977957784377e-05,1.3652774067289864e-05,1.3985768556735959e-05,1.4318763046182052e-05,1.4651757535628147e-05,1.4984752025074242e-05,1.5317746514520335e-05,1.565074100396643e-05,1.5983735493412524e-05,1.631672998285862e-05,1.664972447230471e-05,1.6982718961750805e-05,1.73157134511969e-05,1.7648707940642995e-05,1.798170243008909e-05,1.8314696919535185e-05,1.8647691408981276e-05,1.898068589842737e-05,1.9313680387873466e-05,1.964667487731956e-05,1.9979669366765655e-05,2.031266385621175e-05,2.0645658345657842e-05,2.0978652835103937e-05,2.131164732455003e-05,2.1644641813996126e-05,2.197763630344222e-05,2.2310630792888312e-05,2.2643625282334407e-05,2.2976619771780502e-05,2.3309614261226597e-05,2.3642608750672692e-05,2.3975603240118787e-05,2.4308597729564878e-05,2.4641592219010973e-05,2.4974586708457068e-05,2.5307581197903162e-05,2.5640575687349257e-05,2.5973570176795352e-05,2.6306564666241444e-05,2.663955915568754e-05,2.6972553645133633e-05,2.7305548134579728e-05,2.7638542624025823e-05,2.7971537113471918e-05,2.830453160291801e-05,2.8637526092364104e-05,2.89705205818102e-05,2.9303515071256294e-05,2.963650956070239e-05,2.9969504050148483e-05,3.0302498539594575e-05,3.063549302904067e-05,3.096848751848677e-05,3.130148200793286e-05,3.163447649737895e-05,3.196747098682505e-05,3.230046547627114e-05,3.263345996571724e-05,3.296645445516333e-05],\"y\":[127,127,126,120,117,109,98,88,77,65,58,47,36,31,22,18,17,15,13,13,12,9,6,6,6,5,5,5,4,3,3,1,0,0,0,0,0,0,0,0,0,0,0,0,0,0,0,0,0,0,0,0,0,0,0,0,0,0,0,0,0,0,0,0,0,0,0,0,0,0,0,0,0,0,0,0,0,0,0,0,0,0,0,0,0,0,0,0,0,0,0,0,0,0,0,0,0,0,0,0]},{\"mode\":\"lines\",\"name\":\"H1\",\"showlegend\":true,\"type\":\"scatter\",\"x\":[1.4233454521672684e-06,1.7877369400869638e-06,2.1521284280066593e-06,2.516519915926355e-06,2.88091140384605e-06,3.245302891765746e-06,3.6096943796854415e-06,3.974085867605137e-06,4.338477355524832e-06,4.702868843444528e-06,5.067260331364223e-06,5.4316518192839185e-06,5.796043307203615e-06,6.16043479512331e-06,6.524826283043005e-06,6.889217770962701e-06,7.253609258882396e-06,7.618000746802092e-06,7.982392234721788e-06,8.346783722641483e-06,8.711175210561178e-06,9.075566698480873e-06,9.439958186400569e-06,9.804349674320266e-06,1.016874116223996e-05,1.0533132650159656e-05,1.0897524138079351e-05,1.1261915625999047e-05,1.1626307113918742e-05,1.1990698601838439e-05,1.2355090089758134e-05,1.2719481577677829e-05,1.3083873065597524e-05,1.344826455351722e-05,1.3812656041436915e-05,1.417704752935661e-05,1.4541439017276307e-05,1.4905830505196002e-05,1.5270221993115697e-05,1.5634613481035394e-05,1.5999004968955088e-05,1.636339645687478e-05,1.672778794479448e-05,1.7092179432714175e-05,1.745657092063387e-05,1.7820962408553566e-05,1.8185353896473263e-05,1.8549745384392956e-05,1.8914136872312653e-05,1.9278528360232347e-05,1.9642919848152044e-05,2.0007311336071737e-05,2.0371702823991434e-05,2.073609431191113e-05,2.1100485799830825e-05,2.146487728775052e-05,2.1829268775670215e-05,2.2193660263589912e-05,2.255805175150961e-05,2.2922443239429303e-05,2.3286834727349e-05,2.3651226215268693e-05,2.401561770318839e-05,2.4380009191108083e-05,2.474440067902778e-05,2.5108792166947477e-05,2.547318365486717e-05,2.5837575142786868e-05,2.620196663070656e-05,2.6566358118626258e-05,2.6930749606545952e-05,2.729514109446565e-05,2.7659532582385346e-05,2.802392407030504e-05,2.8388315558224736e-05,2.875270704614443e-05,2.9117098534064127e-05,2.9481490021983824e-05,2.9845881509903517e-05,3.0210272997823214e-05,3.057466448574291e-05,3.0939055973662604e-05,3.1303447461582295e-05,3.1667838949502e-05,3.203223043742169e-05,3.2396621925341385e-05,3.276101341326108e-05,3.312540490118078e-05,3.348979638910047e-05,3.3854187877020166e-05,3.421857936493986e-05,3.458297085285956e-05,3.494736234077926e-05,3.531175382869895e-05,3.5676145316618644e-05,3.604053680453834e-05,3.640492829245804e-05,3.6769319780377735e-05,3.7133711268297425e-05,3.749810275621712e-05],\"y\":[0,0,1,1,1,5,4,5,6,6,8,3,6,7,7,1,0,0,1,1,1,1,0,0,0,1,2,2,2,2,2,2,0,0,0,0,0,0,0,0,0,0,0,0,0,0,0,0,0,0,0,0,0,0,0,0,0,0,0,0,0,0,0,0,0,0,0,0,0,0,0,0,0,0,0,0,0,0,0,0,0,0,0,0,0,0,0,0,0,0,0,0,0,0,0,0,0,0,0,0]},{\"mode\":\"lines\",\"name\":\"H2\",\"showlegend\":true,\"type\":\"scatter\",\"x\":[3.8417028918047436e-06,4.177650345184821e-06,4.513597798564899e-06,4.849545251944978e-06,5.185492705325055e-06,5.521440158705133e-06,5.857387612085211e-06,6.193335065465289e-06,6.529282518845367e-06,6.865229972225444e-06,7.201177425605522e-06,7.5371248789856e-06,7.873072332365679e-06,8.209019785745757e-06,8.544967239125834e-06,8.880914692505911e-06,9.21686214588599e-06,9.552809599266068e-06,9.888757052646145e-06,1.0224704506026222e-05,1.05606519594063e-05,1.089659941278638e-05,1.1232546866166456e-05,1.1568494319546535e-05,1.1904441772926614e-05,1.224038922630669e-05,1.257633667968677e-05,1.2912284133066846e-05,1.3248231586446925e-05,1.3584179039827002e-05,1.392012649320708e-05,1.4256073946587157e-05,1.4592021399967236e-05,1.4927968853347314e-05,1.5263916306727393e-05,1.559986376010747e-05,1.5935811213487547e-05,1.6271758666867624e-05,1.66077061202477e-05,1.694365357362778e-05,1.7279601027007858e-05,1.761554848038794e-05,1.7951495933768015e-05,1.8287443387148092e-05,1.862339084052817e-05,1.8959338293908246e-05,1.9295285747288326e-05,1.9631233200668403e-05,1.9967180654048484e-05,2.030312810742856e-05,2.0639075560808638e-05,2.0975023014188714e-05,2.1310970467568795e-05,2.1646917920948872e-05,2.198286537432895e-05,2.2318812827709026e-05,2.2654760281089106e-05,2.2990707734469183e-05,2.332665518784926e-05,2.366260264122934e-05,2.3998550094609417e-05,2.4334497547989494e-05,2.467044500136957e-05,2.500639245474965e-05,2.5342339908129728e-05,2.5678287361509805e-05,2.6014234814889885e-05,2.6350182268269962e-05,2.668612972165004e-05,2.7022077175030116e-05,2.7358024628410196e-05,2.7693972081790273e-05,2.802991953517035e-05,2.836586698855043e-05,2.8701814441930508e-05,2.9037761895310585e-05,2.937370934869066e-05,2.9709656802070742e-05,3.004560425545082e-05,3.0381551708830896e-05,3.071749916221097e-05,3.1053446615591056e-05,3.138939406897113e-05,3.172534152235121e-05,3.206128897573129e-05,3.2397236429111364e-05,3.273318388249144e-05,3.306913133587152e-05,3.3405078789251595e-05,3.374102624263167e-05,3.407697369601175e-05,3.441292114939183e-05,3.474886860277191e-05,3.5084816056151986e-05,3.542076350953206e-05,3.575671096291214e-05,3.6092658416292224e-05,3.64286058696723e-05,3.676455332305238e-05,3.7100500776432455e-05],\"y\":[0,0,1,0,0,0,0,0,1,0,0,0,1,0,0,0,0,0,0,0,0,0,0,0,0,0,0,0,0,0,0,0,0,0,0,0,0,0,0,0,0,0,0,0,0,0,0,0,0,0,0,0,0,0,0,0,0,0,0,0,0,0,0,0,0,0,0,0,0,0,0,0,0,0,0,0,0,0,0,0,0,0,0,0,0,0,0,0,0,0,0,0,0,0,0,0,0,0,0,0]}],                        {\"plot_bgcolor\":\"white\",\"template\":{\"data\":{\"bar\":[{\"error_x\":{\"color\":\"#2a3f5f\"},\"error_y\":{\"color\":\"#2a3f5f\"},\"marker\":{\"line\":{\"color\":\"#E5ECF6\",\"width\":0.5},\"pattern\":{\"fillmode\":\"overlay\",\"size\":10,\"solidity\":0.2}},\"type\":\"bar\"}],\"barpolar\":[{\"marker\":{\"line\":{\"color\":\"#E5ECF6\",\"width\":0.5},\"pattern\":{\"fillmode\":\"overlay\",\"size\":10,\"solidity\":0.2}},\"type\":\"barpolar\"}],\"carpet\":[{\"aaxis\":{\"endlinecolor\":\"#2a3f5f\",\"gridcolor\":\"white\",\"linecolor\":\"white\",\"minorgridcolor\":\"white\",\"startlinecolor\":\"#2a3f5f\"},\"baxis\":{\"endlinecolor\":\"#2a3f5f\",\"gridcolor\":\"white\",\"linecolor\":\"white\",\"minorgridcolor\":\"white\",\"startlinecolor\":\"#2a3f5f\"},\"type\":\"carpet\"}],\"choropleth\":[{\"colorbar\":{\"outlinewidth\":0,\"ticks\":\"\"},\"type\":\"choropleth\"}],\"contour\":[{\"colorbar\":{\"outlinewidth\":0,\"ticks\":\"\"},\"colorscale\":[[0.0,\"#0d0887\"],[0.1111111111111111,\"#46039f\"],[0.2222222222222222,\"#7201a8\"],[0.3333333333333333,\"#9c179e\"],[0.4444444444444444,\"#bd3786\"],[0.5555555555555556,\"#d8576b\"],[0.6666666666666666,\"#ed7953\"],[0.7777777777777778,\"#fb9f3a\"],[0.8888888888888888,\"#fdca26\"],[1.0,\"#f0f921\"]],\"type\":\"contour\"}],\"contourcarpet\":[{\"colorbar\":{\"outlinewidth\":0,\"ticks\":\"\"},\"type\":\"contourcarpet\"}],\"heatmap\":[{\"colorbar\":{\"outlinewidth\":0,\"ticks\":\"\"},\"colorscale\":[[0.0,\"#0d0887\"],[0.1111111111111111,\"#46039f\"],[0.2222222222222222,\"#7201a8\"],[0.3333333333333333,\"#9c179e\"],[0.4444444444444444,\"#bd3786\"],[0.5555555555555556,\"#d8576b\"],[0.6666666666666666,\"#ed7953\"],[0.7777777777777778,\"#fb9f3a\"],[0.8888888888888888,\"#fdca26\"],[1.0,\"#f0f921\"]],\"type\":\"heatmap\"}],\"heatmapgl\":[{\"colorbar\":{\"outlinewidth\":0,\"ticks\":\"\"},\"colorscale\":[[0.0,\"#0d0887\"],[0.1111111111111111,\"#46039f\"],[0.2222222222222222,\"#7201a8\"],[0.3333333333333333,\"#9c179e\"],[0.4444444444444444,\"#bd3786\"],[0.5555555555555556,\"#d8576b\"],[0.6666666666666666,\"#ed7953\"],[0.7777777777777778,\"#fb9f3a\"],[0.8888888888888888,\"#fdca26\"],[1.0,\"#f0f921\"]],\"type\":\"heatmapgl\"}],\"histogram\":[{\"marker\":{\"pattern\":{\"fillmode\":\"overlay\",\"size\":10,\"solidity\":0.2}},\"type\":\"histogram\"}],\"histogram2d\":[{\"colorbar\":{\"outlinewidth\":0,\"ticks\":\"\"},\"colorscale\":[[0.0,\"#0d0887\"],[0.1111111111111111,\"#46039f\"],[0.2222222222222222,\"#7201a8\"],[0.3333333333333333,\"#9c179e\"],[0.4444444444444444,\"#bd3786\"],[0.5555555555555556,\"#d8576b\"],[0.6666666666666666,\"#ed7953\"],[0.7777777777777778,\"#fb9f3a\"],[0.8888888888888888,\"#fdca26\"],[1.0,\"#f0f921\"]],\"type\":\"histogram2d\"}],\"histogram2dcontour\":[{\"colorbar\":{\"outlinewidth\":0,\"ticks\":\"\"},\"colorscale\":[[0.0,\"#0d0887\"],[0.1111111111111111,\"#46039f\"],[0.2222222222222222,\"#7201a8\"],[0.3333333333333333,\"#9c179e\"],[0.4444444444444444,\"#bd3786\"],[0.5555555555555556,\"#d8576b\"],[0.6666666666666666,\"#ed7953\"],[0.7777777777777778,\"#fb9f3a\"],[0.8888888888888888,\"#fdca26\"],[1.0,\"#f0f921\"]],\"type\":\"histogram2dcontour\"}],\"mesh3d\":[{\"colorbar\":{\"outlinewidth\":0,\"ticks\":\"\"},\"type\":\"mesh3d\"}],\"parcoords\":[{\"line\":{\"colorbar\":{\"outlinewidth\":0,\"ticks\":\"\"}},\"type\":\"parcoords\"}],\"pie\":[{\"automargin\":true,\"type\":\"pie\"}],\"scatter\":[{\"marker\":{\"colorbar\":{\"outlinewidth\":0,\"ticks\":\"\"}},\"type\":\"scatter\"}],\"scatter3d\":[{\"line\":{\"colorbar\":{\"outlinewidth\":0,\"ticks\":\"\"}},\"marker\":{\"colorbar\":{\"outlinewidth\":0,\"ticks\":\"\"}},\"type\":\"scatter3d\"}],\"scattercarpet\":[{\"marker\":{\"colorbar\":{\"outlinewidth\":0,\"ticks\":\"\"}},\"type\":\"scattercarpet\"}],\"scattergeo\":[{\"marker\":{\"colorbar\":{\"outlinewidth\":0,\"ticks\":\"\"}},\"type\":\"scattergeo\"}],\"scattergl\":[{\"marker\":{\"colorbar\":{\"outlinewidth\":0,\"ticks\":\"\"}},\"type\":\"scattergl\"}],\"scattermapbox\":[{\"marker\":{\"colorbar\":{\"outlinewidth\":0,\"ticks\":\"\"}},\"type\":\"scattermapbox\"}],\"scatterpolar\":[{\"marker\":{\"colorbar\":{\"outlinewidth\":0,\"ticks\":\"\"}},\"type\":\"scatterpolar\"}],\"scatterpolargl\":[{\"marker\":{\"colorbar\":{\"outlinewidth\":0,\"ticks\":\"\"}},\"type\":\"scatterpolargl\"}],\"scatterternary\":[{\"marker\":{\"colorbar\":{\"outlinewidth\":0,\"ticks\":\"\"}},\"type\":\"scatterternary\"}],\"surface\":[{\"colorbar\":{\"outlinewidth\":0,\"ticks\":\"\"},\"colorscale\":[[0.0,\"#0d0887\"],[0.1111111111111111,\"#46039f\"],[0.2222222222222222,\"#7201a8\"],[0.3333333333333333,\"#9c179e\"],[0.4444444444444444,\"#bd3786\"],[0.5555555555555556,\"#d8576b\"],[0.6666666666666666,\"#ed7953\"],[0.7777777777777778,\"#fb9f3a\"],[0.8888888888888888,\"#fdca26\"],[1.0,\"#f0f921\"]],\"type\":\"surface\"}],\"table\":[{\"cells\":{\"fill\":{\"color\":\"#EBF0F8\"},\"line\":{\"color\":\"white\"}},\"header\":{\"fill\":{\"color\":\"#C8D4E3\"},\"line\":{\"color\":\"white\"}},\"type\":\"table\"}]},\"layout\":{\"annotationdefaults\":{\"arrowcolor\":\"#2a3f5f\",\"arrowhead\":0,\"arrowwidth\":1},\"autotypenumbers\":\"strict\",\"coloraxis\":{\"colorbar\":{\"outlinewidth\":0,\"ticks\":\"\"}},\"colorscale\":{\"diverging\":[[0,\"#8e0152\"],[0.1,\"#c51b7d\"],[0.2,\"#de77ae\"],[0.3,\"#f1b6da\"],[0.4,\"#fde0ef\"],[0.5,\"#f7f7f7\"],[0.6,\"#e6f5d0\"],[0.7,\"#b8e186\"],[0.8,\"#7fbc41\"],[0.9,\"#4d9221\"],[1,\"#276419\"]],\"sequential\":[[0.0,\"#0d0887\"],[0.1111111111111111,\"#46039f\"],[0.2222222222222222,\"#7201a8\"],[0.3333333333333333,\"#9c179e\"],[0.4444444444444444,\"#bd3786\"],[0.5555555555555556,\"#d8576b\"],[0.6666666666666666,\"#ed7953\"],[0.7777777777777778,\"#fb9f3a\"],[0.8888888888888888,\"#fdca26\"],[1.0,\"#f0f921\"]],\"sequentialminus\":[[0.0,\"#0d0887\"],[0.1111111111111111,\"#46039f\"],[0.2222222222222222,\"#7201a8\"],[0.3333333333333333,\"#9c179e\"],[0.4444444444444444,\"#bd3786\"],[0.5555555555555556,\"#d8576b\"],[0.6666666666666666,\"#ed7953\"],[0.7777777777777778,\"#fb9f3a\"],[0.8888888888888888,\"#fdca26\"],[1.0,\"#f0f921\"]]},\"colorway\":[\"#636efa\",\"#EF553B\",\"#00cc96\",\"#ab63fa\",\"#FFA15A\",\"#19d3f3\",\"#FF6692\",\"#B6E880\",\"#FF97FF\",\"#FECB52\"],\"font\":{\"color\":\"#2a3f5f\"},\"geo\":{\"bgcolor\":\"white\",\"lakecolor\":\"white\",\"landcolor\":\"#E5ECF6\",\"showlakes\":true,\"showland\":true,\"subunitcolor\":\"white\"},\"hoverlabel\":{\"align\":\"left\"},\"hovermode\":\"closest\",\"mapbox\":{\"style\":\"light\"},\"paper_bgcolor\":\"white\",\"plot_bgcolor\":\"#E5ECF6\",\"polar\":{\"angularaxis\":{\"gridcolor\":\"white\",\"linecolor\":\"white\",\"ticks\":\"\"},\"bgcolor\":\"#E5ECF6\",\"radialaxis\":{\"gridcolor\":\"white\",\"linecolor\":\"white\",\"ticks\":\"\"}},\"scene\":{\"xaxis\":{\"backgroundcolor\":\"#E5ECF6\",\"gridcolor\":\"white\",\"gridwidth\":2,\"linecolor\":\"white\",\"showbackground\":true,\"ticks\":\"\",\"zerolinecolor\":\"white\"},\"yaxis\":{\"backgroundcolor\":\"#E5ECF6\",\"gridcolor\":\"white\",\"gridwidth\":2,\"linecolor\":\"white\",\"showbackground\":true,\"ticks\":\"\",\"zerolinecolor\":\"white\"},\"zaxis\":{\"backgroundcolor\":\"#E5ECF6\",\"gridcolor\":\"white\",\"gridwidth\":2,\"linecolor\":\"white\",\"showbackground\":true,\"ticks\":\"\",\"zerolinecolor\":\"white\"}},\"shapedefaults\":{\"line\":{\"color\":\"#2a3f5f\"}},\"ternary\":{\"aaxis\":{\"gridcolor\":\"white\",\"linecolor\":\"white\",\"ticks\":\"\"},\"baxis\":{\"gridcolor\":\"white\",\"linecolor\":\"white\",\"ticks\":\"\"},\"bgcolor\":\"#E5ECF6\",\"caxis\":{\"gridcolor\":\"white\",\"linecolor\":\"white\",\"ticks\":\"\"}},\"title\":{\"x\":0.05},\"xaxis\":{\"automargin\":true,\"gridcolor\":\"white\",\"linecolor\":\"white\",\"ticks\":\"\",\"title\":{\"standoff\":15},\"zerolinecolor\":\"white\",\"zerolinewidth\":2},\"yaxis\":{\"automargin\":true,\"gridcolor\":\"white\",\"linecolor\":\"white\",\"ticks\":\"\",\"title\":{\"standoff\":15},\"zerolinecolor\":\"white\",\"zerolinewidth\":2}}},\"title\":{\"text\":\"Betti curves from diagram 0\"},\"xaxis\":{\"anchor\":\"y\",\"exponentformat\":\"e\",\"linecolor\":\"black\",\"linewidth\":1,\"mirror\":false,\"showexponent\":\"all\",\"showline\":true,\"side\":\"bottom\",\"ticks\":\"outside\",\"title\":{\"text\":\"Filtration parameter\"},\"type\":\"linear\",\"zeroline\":true},\"yaxis\":{\"anchor\":\"x\",\"exponentformat\":\"e\",\"linecolor\":\"black\",\"linewidth\":1,\"mirror\":false,\"showexponent\":\"all\",\"showline\":true,\"side\":\"left\",\"ticks\":\"outside\",\"title\":{\"text\":\"Betti number\"},\"type\":\"linear\",\"zeroline\":true}},                        {\"responsive\": true}                    ).then(function(){\n",
       "                            \n",
       "var gd = document.getElementById('bc89c0ad-1906-4575-ad02-0586fcdd2c10');\n",
       "var x = new MutationObserver(function (mutations, observer) {{\n",
       "        var display = window.getComputedStyle(gd).display;\n",
       "        if (!display || display === 'none') {{\n",
       "            console.log([gd, 'removed!']);\n",
       "            Plotly.purge(gd);\n",
       "            observer.disconnect();\n",
       "        }}\n",
       "}});\n",
       "\n",
       "// Listen for the removal of the full notebook cells\n",
       "var notebookContainer = gd.closest('#notebook-container');\n",
       "if (notebookContainer) {{\n",
       "    x.observe(notebookContainer, {childList: true});\n",
       "}}\n",
       "\n",
       "// Listen for the clearing of the current output cell\n",
       "var outputEl = gd.closest('.output');\n",
       "if (outputEl) {{\n",
       "    x.observe(outputEl, {childList: true});\n",
       "}}\n",
       "\n",
       "                        })                };                            </script>        </div>\n",
       "</body>\n",
       "</html>"
      ]
     },
     "metadata": {},
     "output_type": "display_data"
    },
    {
     "data": {
      "text/plain": [
       "array([[[127, 127, 126, 120, 117, 109,  98,  88,  77,  65,  58,  47,\n",
       "          36,  31,  22,  18,  17,  15,  13,  13,  12,   9,   6,   6,\n",
       "           6,   5,   5,   5,   4,   3,   3,   1,   0,   0,   0,   0,\n",
       "           0,   0,   0,   0,   0,   0,   0,   0,   0,   0,   0,   0,\n",
       "           0,   0,   0,   0,   0,   0,   0,   0,   0,   0,   0,   0,\n",
       "           0,   0,   0,   0,   0,   0,   0,   0,   0,   0,   0,   0,\n",
       "           0,   0,   0,   0,   0,   0,   0,   0,   0,   0,   0,   0,\n",
       "           0,   0,   0,   0,   0,   0,   0,   0,   0,   0,   0,   0,\n",
       "           0,   0,   0,   0],\n",
       "        [  0,   0,   1,   1,   1,   5,   4,   5,   6,   6,   8,   3,\n",
       "           6,   7,   7,   1,   0,   0,   1,   1,   1,   1,   0,   0,\n",
       "           0,   1,   2,   2,   2,   2,   2,   2,   0,   0,   0,   0,\n",
       "           0,   0,   0,   0,   0,   0,   0,   0,   0,   0,   0,   0,\n",
       "           0,   0,   0,   0,   0,   0,   0,   0,   0,   0,   0,   0,\n",
       "           0,   0,   0,   0,   0,   0,   0,   0,   0,   0,   0,   0,\n",
       "           0,   0,   0,   0,   0,   0,   0,   0,   0,   0,   0,   0,\n",
       "           0,   0,   0,   0,   0,   0,   0,   0,   0,   0,   0,   0,\n",
       "           0,   0,   0,   0],\n",
       "        [  0,   0,   1,   0,   0,   0,   0,   0,   1,   0,   0,   0,\n",
       "           1,   0,   0,   0,   0,   0,   0,   0,   0,   0,   0,   0,\n",
       "           0,   0,   0,   0,   0,   0,   0,   0,   0,   0,   0,   0,\n",
       "           0,   0,   0,   0,   0,   0,   0,   0,   0,   0,   0,   0,\n",
       "           0,   0,   0,   0,   0,   0,   0,   0,   0,   0,   0,   0,\n",
       "           0,   0,   0,   0,   0,   0,   0,   0,   0,   0,   0,   0,\n",
       "           0,   0,   0,   0,   0,   0,   0,   0,   0,   0,   0,   0,\n",
       "           0,   0,   0,   0,   0,   0,   0,   0,   0,   0,   0,   0,\n",
       "           0,   0,   0,   0]]])"
      ]
     },
     "execution_count": 50,
     "metadata": {},
     "output_type": "execute_result"
    }
   ],
   "source": [
    "# Getting Betti Sequence\n",
    "betti_sequence = BettiCurve()\n",
    "\n",
    "m10_all_ch_betti_seq = []\n",
    "\n",
    "for i in range(n_samples):\n",
    "    m10_all_ch_betti_seq.append(betti_sequence.fit_transform(m10_all_ch_per_diag[i]))\n",
    "\n",
    "m10_all_ch_betti_seq = np.array(m10_all_ch_betti_seq)\n",
    "\n",
    "print(m10_all_ch_betti_seq.shape)\n",
    "\n",
    "betti_sequence.fit_transform_plot(m10_all_ch_per_diag[50])"
   ]
  },
  {
   "cell_type": "markdown",
   "metadata": {
    "id": "6KdjCY-l6FUV"
   },
   "source": [
    "# Computing Persistence Entropies"
   ]
  },
  {
   "cell_type": "code",
   "execution_count": null,
   "metadata": {
    "id": "pd6NlX6w6MsT"
   },
   "outputs": [],
   "source": [
    "from gtda.diagrams import PersistenceEntropy"
   ]
  },
  {
   "cell_type": "code",
   "execution_count": null,
   "metadata": {
    "colab": {
     "base_uri": "https://localhost:8080/"
    },
    "executionInfo": {
     "elapsed": 887,
     "status": "ok",
     "timestamp": 1630074069924,
     "user": {
      "displayName": "Екатерина Михайлец",
      "photoUrl": "",
      "userId": "03958266793788218532"
     },
     "user_tz": -180
    },
    "id": "SMNeniYd9QT5",
    "outputId": "35ccf033-240b-473b-f33b-e2e8f69727c9"
   },
   "outputs": [
    {
     "name": "stdout",
     "output_type": "stream",
     "text": [
      "(467, 19, 3)\n"
     ]
    }
   ],
   "source": [
    "# Not normalized\n",
    "\n",
    "PE = PersistenceEntropy()\n",
    "\n",
    "m10_all_ch_PE_not_norm = []\n",
    "\n",
    "for i in range(n_samples):\n",
    "    m10_all_ch_PE_not_norm.append(PE.fit_transform(m10_all_ch_per_diag[i]))\n",
    "\n",
    "m10_all_ch_PE_not_norm = np.array(m10_all_ch_PE_not_norm)\n",
    "\n",
    "print(m10_all_ch_PE_not_norm.shape)"
   ]
  },
  {
   "cell_type": "code",
   "execution_count": null,
   "metadata": {
    "colab": {
     "base_uri": "https://localhost:8080/"
    },
    "executionInfo": {
     "elapsed": 902,
     "status": "ok",
     "timestamp": 1630074074389,
     "user": {
      "displayName": "Екатерина Михайлец",
      "photoUrl": "",
      "userId": "03958266793788218532"
     },
     "user_tz": -180
    },
    "id": "J3z5-srR-uZV",
    "outputId": "96df34d5-f1ae-4024-9845-ba6ba6cf1872"
   },
   "outputs": [
    {
     "name": "stdout",
     "output_type": "stream",
     "text": [
      "(467, 19, 3)\n"
     ]
    }
   ],
   "source": [
    "# Normalized\n",
    "\n",
    "PE = PersistenceEntropy(normalize=True)\n",
    "\n",
    "m10_all_ch_PE_norm = []\n",
    "\n",
    "for i in range(n_samples):\n",
    "    m10_all_ch_PE_norm.append(PE.fit_transform(m10_all_ch_per_diag[i]))\n",
    "\n",
    "m10_all_ch_PE_norm = np.array(m10_all_ch_PE_norm)\n",
    "\n",
    "print(m10_all_ch_PE_norm.shape)"
   ]
  }
 ],
 "metadata": {
  "colab": {
   "authorship_tag": "ABX9TyPSaks+U10hKnDjHQnY9e0S",
   "collapsed_sections": [],
   "mount_file_id": "17gWEhjj6KxHlw22dSnLIMgahGNmvbzO_",
   "provenance": []
  },
  "kernelspec": {
   "display_name": "Python 3",
   "language": "python",
   "name": "python3"
  },
  "language_info": {
   "codemirror_mode": {
    "name": "ipython",
    "version": 3
   },
   "file_extension": ".py",
   "mimetype": "text/x-python",
   "name": "python",
   "nbconvert_exporter": "python",
   "pygments_lexer": "ipython3",
   "version": "3.8.8"
  }
 },
 "nbformat": 4,
 "nbformat_minor": 1
}
