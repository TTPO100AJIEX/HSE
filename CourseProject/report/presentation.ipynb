{
 "cells": [
  {
   "cell_type": "code",
   "execution_count": 15,
   "metadata": {},
   "outputs": [],
   "source": [
    "import mne\n",
    "import numpy\n",
    "import matplotlib.pyplot as plt\n",
    "\n",
    "def plot_eeg(data: mne.io.Raw, resolution: float = 1) -> plt.Figure:\n",
    "    events = mne.make_fixed_length_events(data, duration = resolution)\n",
    "    draw_epochs = mne.Epochs(data, events, baseline = None, tmin = 0, tmax = resolution, preload = True, verbose = False)\n",
    "    data = numpy.average(draw_epochs.get_data(copy = True), axis = 2)\n",
    "    data = data[:, data.mean(axis = 0).argsort()[::-1]] # Sort for better picture\n",
    "    min, max = numpy.min(data), numpy.max(data)\n",
    "\n",
    "    fig, ax = plt.subplots(1, 1, figsize = (12.5, 4))\n",
    "    ax.xaxis.set_visible(False)\n",
    "    ax.set_ylim(min - 3e-6, max)\n",
    "\n",
    "    x = draw_epochs.events[:, 0] / draw_epochs.info['sfreq']\n",
    "    ax.set_xlim(x[0], x[-1])\n",
    "    for i in range(0, data.shape[1]): ax.plot(x, data[:, i])\n",
    "\n",
    "    return fig"
   ]
  },
  {
   "cell_type": "code",
   "execution_count": 17,
   "metadata": {},
   "outputs": [
    {
     "name": "stdout",
     "output_type": "stream",
     "text": [
      "Opening raw data file ../Subj1/src/data_rr_filt-raw.fif...\n",
      "    Range : 3500 ... 471000 =      7.000 ...   942.000 secs\n",
      "Ready.\n"
     ]
    }
   ],
   "source": [
    "data = mne.io.read_raw_fif(f\"../Subj1/src/data_rr_filt-raw.fif\")\n",
    "plot_eeg(data).savefig(f\"presentation/eeg.svg\")"
   ]
  }
 ],
 "metadata": {
  "kernelspec": {
   "display_name": "Python 3",
   "language": "python",
   "name": "python3"
  },
  "language_info": {
   "codemirror_mode": {
    "name": "ipython",
    "version": 3
   },
   "file_extension": ".py",
   "mimetype": "text/x-python",
   "name": "python",
   "nbconvert_exporter": "python",
   "pygments_lexer": "ipython3",
   "version": "3.10.11"
  }
 },
 "nbformat": 4,
 "nbformat_minor": 2
}
