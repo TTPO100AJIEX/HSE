{
  "cells": [
    {
      "cell_type": "code",
      "execution_count": 37,
      "metadata": {},
      "outputs": [],
      "source": [
        "import os\n",
        "\n",
        "subj = \"Subj1\"\n",
        "exp = \"exp_final2\"\n",
        "print_obj = 29\n",
        "os.makedirs(f\"{subj}/{exp}\", exist_ok = True)"
      ]
    },
    {
      "cell_type": "markdown",
      "metadata": {},
      "source": [
        "### Imports"
      ]
    },
    {
      "cell_type": "code",
      "execution_count": 27,
      "metadata": {},
      "outputs": [
        {
          "name": "stdout",
          "output_type": "stream",
          "text": [
            "The autoreload extension is already loaded. To reload it, use:\n",
            "  %reload_ext autoreload\n"
          ]
        }
      ],
      "source": [
        "%load_ext autoreload\n",
        "%autoreload 2\n",
        "\n",
        "import warnings\n",
        "import collections\n",
        "warnings.filterwarnings(\"ignore\")\n",
        "\n",
        "import mne\n",
        "import tqdm\n",
        "import scipy\n",
        "import numpy\n",
        "import pandas\n",
        "import scipy.stats\n",
        "import gtda.curves\n",
        "import tqdm.contrib\n",
        "import gtda.plotting\n",
        "import gtda.homology\n",
        "import gtda.diagrams\n",
        "import gtda.time_series\n",
        "import sklearn.preprocessing\n",
        "import sklearn.decomposition\n",
        "import tqdm.contrib.itertools\n",
        "pandas.options.display.float_format = '{:,.2f}'.format"
      ]
    },
    {
      "cell_type": "code",
      "execution_count": 28,
      "metadata": {},
      "outputs": [],
      "source": [
        "FILTERING_PERCENTILE = 10\n",
        "\n",
        "CHANNEL_STRIDE = 3\n",
        "CHANNEL_MAX_TIME_DELAY = 20\n",
        "CHANNEL_MAX_DIMENSION = 20\n",
        "CHANNEL_HOMOLOGY_DIMENSIONS = [ 1, 2 ]\n",
        "CHANNEL_READ_EMBEDDER_PARAMS_FROM_DISK = False\n",
        "\n",
        "DISSIM_DIMENSION = 50\n",
        "DISSIM_TIME_DELAY = 1\n",
        "DISSIM_STRIDE = 20\n",
        "DISSIM_HOMOLOGY_DIMENSIONS = [ 1, 2, 3, 4, 5 ]\n",
        "\n",
        "OVERALL_DIMENSION = 5\n",
        "OVERALL_TIME_DELAY = 11\n",
        "OVERALL_STRIDE = 3\n",
        "OVERALL_HOMOLOGY_DIMENSIONS = [ 1, 2, 3 ]\n",
        "\n",
        "SILHOUETTE_POWERS = [ 1, 2 ]\n",
        "AMPLITUDE_METRICS = [\n",
        "    { \"id\": \"bottleneck\", \"metric\": \"bottleneck\", \"metric_params\": { } },\n",
        "\n",
        "    { \"id\": \"wasserstein-1\", \"metric\": \"wasserstein\", \"metric_params\": { \"p\": 1 } },\n",
        "    { \"id\": \"wasserstein-2\", \"metric\": \"wasserstein\", \"metric_params\": { \"p\": 2 } },\n",
        "\n",
        "    { \"id\": \"betti-1\", \"metric\": \"betti\", \"metric_params\": { \"p\": 1, 'n_bins': -1 } },\n",
        "    { \"id\": \"betti-2\", \"metric\": \"betti\", \"metric_params\": { \"p\": 2, 'n_bins': -1 } },\n",
        "    \n",
        "    { \"id\": \"landscape-1-1\", \"metric\": \"landscape\", \"metric_params\": { \"p\": 1, \"n_layers\": 1, 'n_bins': -1 } },\n",
        "    { \"id\": \"landscape-1-2\", \"metric\": \"landscape\", \"metric_params\": { \"p\": 1, \"n_layers\": 2, 'n_bins': -1 } },\n",
        "    { \"id\": \"landscape-2-1\", \"metric\": \"landscape\", \"metric_params\": { \"p\": 2, \"n_layers\": 1, 'n_bins': -1 } },\n",
        "    { \"id\": \"landscape-2-2\", \"metric\": \"landscape\", \"metric_params\": { \"p\": 2, \"n_layers\": 2, 'n_bins': -1 } },\n",
        "\n",
        "    { \"id\": \"silhouette-1-1\", \"metric\": \"silhouette\", \"metric_params\": { \"p\": 1, \"power\": 1, 'n_bins': -1 } },\n",
        "    { \"id\": \"silhouette-1-2\", \"metric\": \"silhouette\", \"metric_params\": { \"p\": 1, \"power\": 2, 'n_bins': -1 } },\n",
        "    { \"id\": \"silhouette-2-1\", \"metric\": \"silhouette\", \"metric_params\": { \"p\": 2, \"power\": 1, 'n_bins': -1 } },\n",
        "    { \"id\": \"silhouette-2-2\", \"metric\": \"silhouette\", \"metric_params\": { \"p\": 2, \"power\": 2, 'n_bins': -1 } }\n",
        "]"
      ]
    },
    {
      "cell_type": "code",
      "execution_count": 29,
      "metadata": {},
      "outputs": [],
      "source": [
        "class FeatureCalculator:\n",
        "    def determine_filtering_epsilon(self, diagram):\n",
        "        life = (diagram[:, :, 1] - diagram[:, :, 0]).flatten()\n",
        "        life = life[life != 0]\n",
        "        return numpy.percentile(life, FILTERING_PERCENTILE)\n",
        "    \n",
        "    def apply_filtering(self, diagrams):\n",
        "        eps = self.determine_filtering_epsilon(diagrams)\n",
        "        self.filtering = gtda.diagrams.Filtering(epsilon = eps)\n",
        "        return self.filtering.fit_transform(diagrams)\n",
        "    \n",
        "\n",
        "    def calc_bins(self, diagrams: numpy.ndarray):\n",
        "        return 100\n",
        "\n",
        "\n",
        "    def calc_stats(self, data: numpy.ndarray, prefix: str = \"\") -> pandas.DataFrame:\n",
        "        assert len(data.shape) == 1\n",
        "        if data.shape == (0,): data = numpy.array([ 0 ])\n",
        "        stats = numpy.array([\n",
        "            numpy.max(data), numpy.mean(data), numpy.std(data), numpy.sum(data),\n",
        "            numpy.percentile(data, 25), numpy.median(data), numpy.percentile(data, 75),\n",
        "            scipy.stats.kurtosis(data), scipy.stats.skew(data), numpy.linalg.norm(data, ord = 1), numpy.linalg.norm(data, ord = 2)\n",
        "        ])\n",
        "        names = [ \"max\", \"mean\", \"std\", \"sum\", \"percentile-25\", \"median\", \"percentile-75\", \"kurtosis\", \"skew\", \"norm-1\", \"norm-2\" ]\n",
        "        return pandas.DataFrame([ numpy.nan_to_num(stats) ], columns = [ f\"{prefix} {name}\" for name in names ])\n",
        "\n",
        "    def calc_batch_stats(self, data: numpy.ndarray, homology_dimensions: numpy.ndarray, prefix: str = \"\"):\n",
        "        features = [ ]\n",
        "        for batch in tqdm.tqdm(data, desc = prefix):\n",
        "            features.append([ ])\n",
        "            for dim, vec in zip(homology_dimensions, batch):\n",
        "                features[-1].append(self.calc_stats(vec, prefix = f'{prefix} dim-{dim}'))\n",
        "            features[-1] = pandas.concat(features[-1], axis = 1)\n",
        "        return pandas.concat(features, axis = 0)\n",
        "\n",
        "\n",
        "    def calc_betti_features(self, diagrams: numpy.ndarray, prefix: str = \"\") -> pandas.DataFrame:\n",
        "        self.betti_curve = gtda.diagrams.BettiCurve(n_bins = self.calc_bins(diagrams))\n",
        "        self.betti_derivative = gtda.curves.Derivative()\n",
        "        betti_curves = self.betti_curve.fit_transform(diagrams)\n",
        "        betti_curves = self.betti_derivative.fit_transform(betti_curves)\n",
        "        return self.calc_batch_stats(betti_curves, self.betti_curve.homology_dimensions_, f'{prefix} betti')\n",
        "\n",
        "    def calc_landscape_features(self, diagrams: numpy.ndarray, prefix: str = \"\") -> pandas.DataFrame:\n",
        "        self.persistence_landscape = gtda.diagrams.PersistenceLandscape(n_layers = 1, n_bins = self.calc_bins(diagrams))\n",
        "        persistence_landscape = self.persistence_landscape.fit_transform(diagrams)\n",
        "        return self.calc_batch_stats(persistence_landscape, self.persistence_landscape.homology_dimensions_, f'{prefix} landscape')\n",
        "\n",
        "    def calc_silhouette_features(self, diagrams: numpy.ndarray, prefix: str = \"\", powers: int = SILHOUETTE_POWERS) -> pandas.DataFrame:\n",
        "        if isinstance(powers, int):\n",
        "            silhouette = gtda.diagrams.Silhouette(power = powers, n_bins = self.calc_bins(diagrams))\n",
        "            self.silhouettes.append(silhouette)\n",
        "            silhouettes = silhouette.fit_transform(diagrams)\n",
        "            return self.calc_batch_stats(silhouettes, silhouette.homology_dimensions_, f'{prefix} silhouette-{powers}')\n",
        "        else:\n",
        "            features = [ ]\n",
        "            self.silhouettes = [ ]\n",
        "            for power in powers:\n",
        "                features.append(self.calc_silhouette_features(diagrams, prefix, power))\n",
        "            return pandas.concat(features, axis = 1)\n",
        "    \n",
        "\n",
        "    def calc_entropy_features(self, diagrams: numpy.ndarray, prefix: str = \"\") -> pandas.DataFrame:\n",
        "        self.entropy = gtda.diagrams.PersistenceEntropy(normalize = True, nan_fill_value = 0)\n",
        "        features = self.entropy.fit_transform(diagrams)\n",
        "        names = [ f'{prefix} entropy dim-{dim}' for dim in self.entropy.homology_dimensions_ ]\n",
        "        return pandas.DataFrame(features, columns = names)\n",
        "    \n",
        "    def calc_number_of_points_features(self, diagrams: numpy.ndarray, prefix: str = \"\") -> pandas.DataFrame:\n",
        "        self.number_of_points = gtda.diagrams.NumberOfPoints()\n",
        "        features = self.number_of_points.fit_transform(diagrams)\n",
        "        names = [ f'{prefix} numberofpoints dim-{dim}' for dim in self.number_of_points.homology_dimensions_ ]\n",
        "        return pandas.DataFrame(features, columns = names)\n",
        "    \n",
        "    def calc_amplitude_features(self, diagrams: numpy.ndarray, prefix: str = \"\", **metric) -> pandas.DataFrame:\n",
        "        if len(metric) == 0:\n",
        "            features = [ ]\n",
        "            self.amplitudes = [ ]\n",
        "            for metric in tqdm.tqdm(AMPLITUDE_METRICS, desc = f'{prefix} amplitudes'):\n",
        "                features.append(self.calc_amplitude_features(diagrams, prefix, **metric))\n",
        "            return pandas.concat(features, axis = 1)\n",
        "        else:\n",
        "            metric_params = metric['metric_params'].copy()\n",
        "            if metric_params.get('n_bins', None) == -1:\n",
        "                metric_params['n_bins'] = self.calc_bins(diagrams)\n",
        "            amplitude = gtda.diagrams.Amplitude(metric = metric['metric'], metric_params = metric_params)\n",
        "            self.amplitudes.append(amplitude)\n",
        "            features = amplitude.fit_transform(diagrams)\n",
        "            return pandas.concat([\n",
        "                pandas.DataFrame(features, columns = [ f'{prefix} amplitude-{metric[\"id\"]} dim-{dim}' for dim in amplitude.homology_dimensions_ ]),\n",
        "                pandas.DataFrame(numpy.linalg.norm(features, axis = 1, ord = 1).reshape(-1, 1), columns = [ f'{prefix} amplitude-{metric[\"id\"]} norm-1' ]),\n",
        "                pandas.DataFrame(numpy.linalg.norm(features, axis = 1, ord = 2).reshape(-1, 1), columns = [ f'{prefix} amplitude-{metric[\"id\"]} norm-2' ])\n",
        "            ], axis = 1)\n",
        "    \n",
        "    def calc_lifetime_features(self, diagrams: numpy.ndarray, prefix: str = \"\") -> pandas.DataFrame:\n",
        "        if len(diagrams.shape) == 3:\n",
        "            features = [ ]\n",
        "            for diag in tqdm.tqdm(diagrams, desc = f'{prefix} lifetime'):\n",
        "                features.append(self.calc_lifetime_features(diag, prefix))\n",
        "            return pandas.concat(features, axis = 0)\n",
        "\n",
        "        birth, death, dim = diagrams[:, 0], diagrams[:, 1], diagrams[:, 2]\n",
        "        life = death - birth\n",
        "        \n",
        "        eps = self.filtering.epsilon\n",
        "        birth, death, dim = birth[life >= eps], death[life >= eps], dim[life >= eps]\n",
        "        bd2 = (birth + death) / 2.0\n",
        "        life = death - birth\n",
        "\n",
        "        bd2_features = [ self.calc_stats(bd2, f'{prefix} bd2 all') ]\n",
        "        life_features = [ self.calc_stats(life, f'{prefix} life all') ]\n",
        "        for d in numpy.unique(diagrams[:, 2]).astype(int):\n",
        "            bd2_features.append(self.calc_stats(bd2[dim == d], f'{prefix} bd2 dim-{d}'))\n",
        "            life_features.append(self.calc_stats(life[dim == d], f'{prefix} life dim-{d}'))\n",
        "        return pandas.concat([ *life_features, *bd2_features ], axis = 1)\n",
        "        \n",
        "\n",
        "    def calc_features(self, diagrams: numpy.ndarray, prefix: str = \"\") -> pandas.DataFrame:\n",
        "        diagrams = self.apply_filtering(diagrams)\n",
        "        print('Filtered diagrams:', diagrams.shape)\n",
        "        print('N bins:', self.calc_bins(diagrams))\n",
        "        return pandas.concat([\n",
        "           self.calc_betti_features           (diagrams, prefix).reset_index(drop = True),\n",
        "           self.calc_landscape_features       (diagrams, prefix).reset_index(drop = True),\n",
        "           self.calc_silhouette_features      (diagrams, prefix).reset_index(drop = True),\n",
        "           self.calc_entropy_features         (diagrams, prefix).reset_index(drop = True),\n",
        "           self.calc_number_of_points_features(diagrams, prefix).reset_index(drop = True),\n",
        "           self.calc_amplitude_features       (diagrams, prefix).reset_index(drop = True),\n",
        "           self.calc_lifetime_features        (diagrams, prefix).reset_index(drop = True)\n",
        "        ], axis = 1)\n",
        "\n",
        "\n",
        "    def pca(self, features: numpy.ndarray, scale = False, n_comp = 0.7, var_limit = None, random_state = 42) -> numpy.ndarray:\n",
        "        if scale:\n",
        "            features = sklearn.preprocessing.StandardScaler().fit_transform(features)\n",
        "\n",
        "        if var_limit is not None:\n",
        "            pca = sklearn.decomposition.PCA(random_state = random_state).fit(features)\n",
        "            n_comp = (pca.explained_variance_ratio_ >= var_limit).sum()\n",
        "\n",
        "        pca = sklearn.decomposition.PCA(n_components = n_comp, random_state = random_state)\n",
        "        features = pca.fit_transform(features)\n",
        "\n",
        "        print('Components:', n_comp)\n",
        "        print('Explained variance:', round(pca.explained_variance_ratio_.sum(), 2))\n",
        "        print([ round(x, 3) for x in pca.explained_variance_ratio_ ])\n",
        "        return features"
      ]
    },
    {
      "cell_type": "markdown",
      "metadata": {},
      "source": [
        "### Data"
      ]
    },
    {
      "cell_type": "code",
      "execution_count": 30,
      "metadata": {},
      "outputs": [
        {
          "name": "stdout",
          "output_type": "stream",
          "text": [
            "Reading d:\\HSE\\year-3\\HSE\\CourseProject\\Subj2\\src\\epochs_filt_rr-epo.fif ...\n",
            "    Found the data of interest:\n",
            "        t =    -500.00 ...     500.00 ms\n",
            "        0 CTF compensation matrices available\n",
            "Not setting metadata\n",
            "2019 matching events found\n",
            "No baseline correction applied\n",
            "0 projection items activated\n",
            "No projector specified for this dataset. Please consider the method self.add_proj.\n"
          ]
        },
        {
          "data": {
            "image/png": "[encoded data removed]",
            "text/plain": [
              "<Figure size 800x420 with 6 Axes>"
            ]
          },
          "metadata": {},
          "output_type": "display_data"
        }
      ],
      "source": [
        "epochs = mne.read_epochs(f\"{subj}/src/epochs_filt_rr-epo.fif\")\n",
        "epochs.average().plot_joint().savefig(f\"{subj}/{exp}/eeg.svg\")\n",
        "data = epochs.get_data(copy = True)"
      ]
    },
    {
      "cell_type": "markdown",
      "metadata": {},
      "source": [
        "### Per-channel features"
      ]
    },
    {
      "cell_type": "markdown",
      "metadata": {},
      "source": [
        "#### TakensEmbedding"
      ]
    },
    {
      "cell_type": "code",
      "execution_count": 31,
      "metadata": {},
      "outputs": [
        {
          "data": {
            "application/vnd.jupyter.widget-view+json": {
              "model_id": "1355a09d9eda47fa88dd099c4cfdad39",
              "version_major": 2,
              "version_minor": 0
            },
            "text/plain": [
              "  0%|          | 0/80760 [00:00<?, ?it/s]"
            ]
          },
          "metadata": {},
          "output_type": "display_data"
        },
        {
          "ename": "KeyboardInterrupt",
          "evalue": "",
          "output_type": "error",
          "traceback": [
            "\u001b[1;31m---------------------------------------------------------------------------\u001b[0m",
            "\u001b[1;31mKeyboardInterrupt\u001b[0m                         Traceback (most recent call last)",
            "Cell \u001b[1;32mIn[31], line 15\u001b[0m\n\u001b[0;32m     13\u001b[0m channel_embedders_params \u001b[38;5;241m=\u001b[39m [ [ ] \u001b[38;5;28;01mfor\u001b[39;00m _ \u001b[38;5;129;01min\u001b[39;00m \u001b[38;5;28mrange\u001b[39m(data\u001b[38;5;241m.\u001b[39mshape[\u001b[38;5;241m1\u001b[39m]) ]\n\u001b[0;32m     14\u001b[0m \u001b[38;5;28;01mfor\u001b[39;00m i, j \u001b[38;5;129;01min\u001b[39;00m tqdm\u001b[38;5;241m.\u001b[39mcontrib\u001b[38;5;241m.\u001b[39mitertools\u001b[38;5;241m.\u001b[39mproduct(\u001b[38;5;28mrange\u001b[39m(data\u001b[38;5;241m.\u001b[39mshape[\u001b[38;5;241m0\u001b[39m]), \u001b[38;5;28mrange\u001b[39m(data\u001b[38;5;241m.\u001b[39mshape[\u001b[38;5;241m1\u001b[39m])):\n\u001b[1;32m---> 15\u001b[0m     \u001b[43mchannel_searcher\u001b[49m\u001b[38;5;241;43m.\u001b[39;49m\u001b[43mfit\u001b[49m\u001b[43m(\u001b[49m\u001b[43mdata\u001b[49m\u001b[43m[\u001b[49m\u001b[43mi\u001b[49m\u001b[43m,\u001b[49m\u001b[43m \u001b[49m\u001b[43mj\u001b[49m\u001b[43m,\u001b[49m\u001b[43m \u001b[49m\u001b[43m:\u001b[49m\u001b[43m]\u001b[49m\u001b[43m)\u001b[49m\n\u001b[0;32m     16\u001b[0m     channel_embedders_params[j]\u001b[38;5;241m.\u001b[39mappend((channel_searcher\u001b[38;5;241m.\u001b[39mdimension_, channel_searcher\u001b[38;5;241m.\u001b[39mtime_delay_))\n\u001b[0;32m     17\u001b[0m numpy\u001b[38;5;241m.\u001b[39msave(\u001b[38;5;124mf\u001b[39m\u001b[38;5;124m\"\u001b[39m\u001b[38;5;132;01m{\u001b[39;00msubj\u001b[38;5;132;01m}\u001b[39;00m\u001b[38;5;124m/\u001b[39m\u001b[38;5;132;01m{\u001b[39;00mexp\u001b[38;5;132;01m}\u001b[39;00m\u001b[38;5;124m/channel_embedders_params.npy\u001b[39m\u001b[38;5;124m\"\u001b[39m, channel_embedders_params)\n",
            "File \u001b[1;32md:\\Programs\\Programming\\Python\\lib\\site-packages\\gtda\\time_series\\embedding.py:446\u001b[0m, in \u001b[0;36mSingleTakensEmbedding.fit\u001b[1;34m(self, X, y)\u001b[0m\n\u001b[0;32m    441\u001b[0m validate_params(\n\u001b[0;32m    442\u001b[0m     \u001b[38;5;28mself\u001b[39m\u001b[38;5;241m.\u001b[39mget_params(), \u001b[38;5;28mself\u001b[39m\u001b[38;5;241m.\u001b[39m_hyperparameters, exclude\u001b[38;5;241m=\u001b[39m[\u001b[38;5;124m'\u001b[39m\u001b[38;5;124mn_jobs\u001b[39m\u001b[38;5;124m'\u001b[39m])\n\u001b[0;32m    444\u001b[0m \u001b[38;5;28;01mif\u001b[39;00m \u001b[38;5;28mself\u001b[39m\u001b[38;5;241m.\u001b[39mparameters_type \u001b[38;5;241m==\u001b[39m \u001b[38;5;124m'\u001b[39m\u001b[38;5;124msearch\u001b[39m\u001b[38;5;124m'\u001b[39m:\n\u001b[0;32m    445\u001b[0m     \u001b[38;5;28mself\u001b[39m\u001b[38;5;241m.\u001b[39mtime_delay_, \u001b[38;5;28mself\u001b[39m\u001b[38;5;241m.\u001b[39mdimension_ \u001b[38;5;241m=\u001b[39m \\\n\u001b[1;32m--> 446\u001b[0m         \u001b[43mtakens_embedding_optimal_parameters\u001b[49m\u001b[43m(\u001b[49m\n\u001b[0;32m    447\u001b[0m \u001b[43m            \u001b[49m\u001b[43mX\u001b[49m\u001b[43m,\u001b[49m\u001b[43m \u001b[49m\u001b[38;5;28;43mself\u001b[39;49m\u001b[38;5;241;43m.\u001b[39;49m\u001b[43mtime_delay\u001b[49m\u001b[43m,\u001b[49m\u001b[43m \u001b[49m\u001b[38;5;28;43mself\u001b[39;49m\u001b[38;5;241;43m.\u001b[39;49m\u001b[43mdimension\u001b[49m\u001b[43m,\u001b[49m\u001b[43m \u001b[49m\u001b[43mstride\u001b[49m\u001b[38;5;241;43m=\u001b[39;49m\u001b[38;5;28;43mself\u001b[39;49m\u001b[38;5;241;43m.\u001b[39;49m\u001b[43mstride\u001b[49m\u001b[43m,\u001b[49m\n\u001b[0;32m    448\u001b[0m \u001b[43m            \u001b[49m\u001b[43mn_jobs\u001b[49m\u001b[38;5;241;43m=\u001b[39;49m\u001b[38;5;28;43mself\u001b[39;49m\u001b[38;5;241;43m.\u001b[39;49m\u001b[43mn_jobs\u001b[49m\u001b[43m,\u001b[49m\u001b[43m \u001b[49m\u001b[43mvalidate\u001b[49m\u001b[38;5;241;43m=\u001b[39;49m\u001b[38;5;28;43;01mFalse\u001b[39;49;00m\n\u001b[0;32m    449\u001b[0m \u001b[43m            \u001b[49m\u001b[43m)\u001b[49m\n\u001b[0;32m    450\u001b[0m \u001b[38;5;28;01melse\u001b[39;00m:\n\u001b[0;32m    451\u001b[0m     \u001b[38;5;28mself\u001b[39m\u001b[38;5;241m.\u001b[39mtime_delay_ \u001b[38;5;241m=\u001b[39m \u001b[38;5;28mself\u001b[39m\u001b[38;5;241m.\u001b[39mtime_delay\n",
            "File \u001b[1;32md:\\Programs\\Programming\\Python\\lib\\site-packages\\gtda\\time_series\\embedding.py:104\u001b[0m, in \u001b[0;36mtakens_embedding_optimal_parameters\u001b[1;34m(X, max_time_delay, max_dimension, stride, n_jobs, validate)\u001b[0m\n\u001b[0;32m     98\u001b[0m mutual_information_list \u001b[38;5;241m=\u001b[39m Parallel(n_jobs\u001b[38;5;241m=\u001b[39mn_jobs)(\n\u001b[0;32m     99\u001b[0m     delayed(_mutual_information)(X, time_delay, n_bins\u001b[38;5;241m=\u001b[39m\u001b[38;5;241m100\u001b[39m)\n\u001b[0;32m    100\u001b[0m     \u001b[38;5;28;01mfor\u001b[39;00m time_delay \u001b[38;5;129;01min\u001b[39;00m \u001b[38;5;28mrange\u001b[39m(\u001b[38;5;241m1\u001b[39m, max_time_delay \u001b[38;5;241m+\u001b[39m \u001b[38;5;241m1\u001b[39m))\n\u001b[0;32m    101\u001b[0m time_delay \u001b[38;5;241m=\u001b[39m \\\n\u001b[0;32m    102\u001b[0m     mutual_information_list\u001b[38;5;241m.\u001b[39mindex(\u001b[38;5;28mmin\u001b[39m(mutual_information_list)) \u001b[38;5;241m+\u001b[39m \u001b[38;5;241m1\u001b[39m\n\u001b[1;32m--> 104\u001b[0m n_false_nbhrs_list \u001b[38;5;241m=\u001b[39m \u001b[43mParallel\u001b[49m\u001b[43m(\u001b[49m\u001b[43mn_jobs\u001b[49m\u001b[38;5;241;43m=\u001b[39;49m\u001b[43mn_jobs\u001b[49m\u001b[43m)\u001b[49m\u001b[43m(\u001b[49m\n\u001b[0;32m    105\u001b[0m \u001b[43m    \u001b[49m\u001b[43mdelayed\u001b[49m\u001b[43m(\u001b[49m\u001b[43m_false_nearest_neighbors\u001b[49m\u001b[43m)\u001b[49m\u001b[43m(\u001b[49m\u001b[43mX\u001b[49m\u001b[43m,\u001b[49m\u001b[43m \u001b[49m\u001b[43mtime_delay\u001b[49m\u001b[43m,\u001b[49m\u001b[43m \u001b[49m\u001b[43mdim\u001b[49m\u001b[43m,\u001b[49m\u001b[43m \u001b[49m\u001b[43mstride\u001b[49m\u001b[38;5;241;43m=\u001b[39;49m\u001b[43mstride\u001b[49m\u001b[43m)\u001b[49m\n\u001b[0;32m    106\u001b[0m \u001b[43m    \u001b[49m\u001b[38;5;28;43;01mfor\u001b[39;49;00m\u001b[43m \u001b[49m\u001b[43mdim\u001b[49m\u001b[43m \u001b[49m\u001b[38;5;129;43;01min\u001b[39;49;00m\u001b[43m \u001b[49m\u001b[38;5;28;43mrange\u001b[39;49m\u001b[43m(\u001b[49m\u001b[38;5;241;43m1\u001b[39;49m\u001b[43m,\u001b[49m\u001b[43m \u001b[49m\u001b[43mmax_dimension\u001b[49m\u001b[43m \u001b[49m\u001b[38;5;241;43m+\u001b[39;49m\u001b[43m \u001b[49m\u001b[38;5;241;43m3\u001b[39;49m\u001b[43m)\u001b[49m\u001b[43m)\u001b[49m\n\u001b[0;32m    107\u001b[0m variation_list \u001b[38;5;241m=\u001b[39m [np\u001b[38;5;241m.\u001b[39mabs(n_false_nbhrs_list[dim \u001b[38;5;241m-\u001b[39m \u001b[38;5;241m1\u001b[39m]\n\u001b[0;32m    108\u001b[0m                          \u001b[38;5;241m-\u001b[39m \u001b[38;5;241m2\u001b[39m \u001b[38;5;241m*\u001b[39m n_false_nbhrs_list[dim] \u001b[38;5;241m+\u001b[39m\n\u001b[0;32m    109\u001b[0m                          n_false_nbhrs_list[dim \u001b[38;5;241m+\u001b[39m \u001b[38;5;241m1\u001b[39m])\n\u001b[0;32m    110\u001b[0m                   \u001b[38;5;241m/\u001b[39m (n_false_nbhrs_list[dim] \u001b[38;5;241m+\u001b[39m \u001b[38;5;241m1\u001b[39m) \u001b[38;5;241m/\u001b[39m dim\n\u001b[0;32m    111\u001b[0m                   \u001b[38;5;28;01mfor\u001b[39;00m dim \u001b[38;5;129;01min\u001b[39;00m \u001b[38;5;28mrange\u001b[39m(\u001b[38;5;241m2\u001b[39m, max_dimension \u001b[38;5;241m+\u001b[39m \u001b[38;5;241m1\u001b[39m)]\n\u001b[0;32m    112\u001b[0m dimension \u001b[38;5;241m=\u001b[39m variation_list\u001b[38;5;241m.\u001b[39mindex(\u001b[38;5;28mmin\u001b[39m(variation_list)) \u001b[38;5;241m+\u001b[39m \u001b[38;5;241m2\u001b[39m\n",
            "File \u001b[1;32md:\\Programs\\Programming\\Python\\lib\\site-packages\\joblib\\parallel.py:1952\u001b[0m, in \u001b[0;36mParallel.__call__\u001b[1;34m(self, iterable)\u001b[0m\n\u001b[0;32m   1946\u001b[0m \u001b[38;5;66;03m# The first item from the output is blank, but it makes the interpreter\u001b[39;00m\n\u001b[0;32m   1947\u001b[0m \u001b[38;5;66;03m# progress until it enters the Try/Except block of the generator and\u001b[39;00m\n\u001b[0;32m   1948\u001b[0m \u001b[38;5;66;03m# reach the first `yield` statement. This starts the aynchronous\u001b[39;00m\n\u001b[0;32m   1949\u001b[0m \u001b[38;5;66;03m# dispatch of the tasks to the workers.\u001b[39;00m\n\u001b[0;32m   1950\u001b[0m \u001b[38;5;28mnext\u001b[39m(output)\n\u001b[1;32m-> 1952\u001b[0m \u001b[38;5;28;01mreturn\u001b[39;00m output \u001b[38;5;28;01mif\u001b[39;00m \u001b[38;5;28mself\u001b[39m\u001b[38;5;241m.\u001b[39mreturn_generator \u001b[38;5;28;01melse\u001b[39;00m \u001b[38;5;28;43mlist\u001b[39;49m\u001b[43m(\u001b[49m\u001b[43moutput\u001b[49m\u001b[43m)\u001b[49m\n",
            "File \u001b[1;32md:\\Programs\\Programming\\Python\\lib\\site-packages\\joblib\\parallel.py:1595\u001b[0m, in \u001b[0;36mParallel._get_outputs\u001b[1;34m(self, iterator, pre_dispatch)\u001b[0m\n\u001b[0;32m   1592\u001b[0m     \u001b[38;5;28;01myield\u001b[39;00m\n\u001b[0;32m   1594\u001b[0m     \u001b[38;5;28;01mwith\u001b[39;00m \u001b[38;5;28mself\u001b[39m\u001b[38;5;241m.\u001b[39m_backend\u001b[38;5;241m.\u001b[39mretrieval_context():\n\u001b[1;32m-> 1595\u001b[0m         \u001b[38;5;28;01myield from\u001b[39;00m \u001b[38;5;28mself\u001b[39m\u001b[38;5;241m.\u001b[39m_retrieve()\n\u001b[0;32m   1597\u001b[0m \u001b[38;5;28;01mexcept\u001b[39;00m \u001b[38;5;167;01mGeneratorExit\u001b[39;00m:\n\u001b[0;32m   1598\u001b[0m     \u001b[38;5;66;03m# The generator has been garbage collected before being fully\u001b[39;00m\n\u001b[0;32m   1599\u001b[0m     \u001b[38;5;66;03m# consumed. This aborts the remaining tasks if possible and warn\u001b[39;00m\n\u001b[0;32m   1600\u001b[0m     \u001b[38;5;66;03m# the user if necessary.\u001b[39;00m\n\u001b[0;32m   1601\u001b[0m     \u001b[38;5;28mself\u001b[39m\u001b[38;5;241m.\u001b[39m_exception \u001b[38;5;241m=\u001b[39m \u001b[38;5;28;01mTrue\u001b[39;00m\n",
            "File \u001b[1;32md:\\Programs\\Programming\\Python\\lib\\site-packages\\joblib\\parallel.py:1707\u001b[0m, in \u001b[0;36mParallel._retrieve\u001b[1;34m(self)\u001b[0m\n\u001b[0;32m   1702\u001b[0m \u001b[38;5;66;03m# If the next job is not ready for retrieval yet, we just wait for\u001b[39;00m\n\u001b[0;32m   1703\u001b[0m \u001b[38;5;66;03m# async callbacks to progress.\u001b[39;00m\n\u001b[0;32m   1704\u001b[0m \u001b[38;5;28;01mif\u001b[39;00m ((\u001b[38;5;28mlen\u001b[39m(\u001b[38;5;28mself\u001b[39m\u001b[38;5;241m.\u001b[39m_jobs) \u001b[38;5;241m==\u001b[39m \u001b[38;5;241m0\u001b[39m) \u001b[38;5;129;01mor\u001b[39;00m\n\u001b[0;32m   1705\u001b[0m     (\u001b[38;5;28mself\u001b[39m\u001b[38;5;241m.\u001b[39m_jobs[\u001b[38;5;241m0\u001b[39m]\u001b[38;5;241m.\u001b[39mget_status(\n\u001b[0;32m   1706\u001b[0m         timeout\u001b[38;5;241m=\u001b[39m\u001b[38;5;28mself\u001b[39m\u001b[38;5;241m.\u001b[39mtimeout) \u001b[38;5;241m==\u001b[39m TASK_PENDING)):\n\u001b[1;32m-> 1707\u001b[0m     \u001b[43mtime\u001b[49m\u001b[38;5;241;43m.\u001b[39;49m\u001b[43msleep\u001b[49m\u001b[43m(\u001b[49m\u001b[38;5;241;43m0.01\u001b[39;49m\u001b[43m)\u001b[49m\n\u001b[0;32m   1708\u001b[0m     \u001b[38;5;28;01mcontinue\u001b[39;00m\n\u001b[0;32m   1710\u001b[0m \u001b[38;5;66;03m# We need to be careful: the job list can be filling up as\u001b[39;00m\n\u001b[0;32m   1711\u001b[0m \u001b[38;5;66;03m# we empty it and Python list are not thread-safe by\u001b[39;00m\n\u001b[0;32m   1712\u001b[0m \u001b[38;5;66;03m# default hence the use of the lock\u001b[39;00m\n",
            "\u001b[1;31mKeyboardInterrupt\u001b[0m: "
          ]
        }
      ],
      "source": [
        "if CHANNEL_READ_EMBEDDER_PARAMS_FROM_DISK:\n",
        "    channel_embedders_params = [ ]\n",
        "    for params_data in numpy.load(f\"{subj}/{exp}/channel_embedders_params.npy\"):\n",
        "        channel_embedders_params.append(list(map(tuple, params_data)))\n",
        "else:\n",
        "    channel_searcher = gtda.time_series.SingleTakensEmbedding(\n",
        "        parameters_type = 'search',\n",
        "        time_delay = CHANNEL_MAX_TIME_DELAY,\n",
        "        dimension = CHANNEL_MAX_DIMENSION,\n",
        "        stride = CHANNEL_STRIDE,\n",
        "        n_jobs = -1\n",
        "    )\n",
        "    channel_embedders_params = [ [ ] for _ in range(data.shape[1]) ]\n",
        "    for i, j in tqdm.contrib.itertools.product(range(data.shape[0]), range(data.shape[1])):\n",
        "        channel_searcher.fit(data[i, j, :])\n",
        "        channel_embedders_params[j].append((channel_searcher.dimension_, channel_searcher.time_delay_))\n",
        "    numpy.save(f\"{subj}/{exp}/channel_embedders_params.npy\", channel_embedders_params)\n",
        "\n",
        "print(len(channel_embedders_params))\n",
        "print(len(channel_embedders_params[0]))"
      ]
    },
    {
      "cell_type": "code",
      "execution_count": null,
      "metadata": {},
      "outputs": [
        {
          "name": "stdout",
          "output_type": "stream",
          "text": [
            "[SingleTakensEmbedding(n_jobs=-1, parameters_type='fixed', stride=3,\n",
            "                      time_delay=8), SingleTakensEmbedding(n_jobs=-1, parameters_type='fixed', stride=3,\n",
            "                      time_delay=16), SingleTakensEmbedding(n_jobs=-1, parameters_type='fixed', stride=3,\n",
            "                      time_delay=7), SingleTakensEmbedding(n_jobs=-1, parameters_type='fixed', stride=3,\n",
            "                      time_delay=8), SingleTakensEmbedding(n_jobs=-1, parameters_type='fixed', stride=3,\n",
            "                      time_delay=11), SingleTakensEmbedding(n_jobs=-1, parameters_type='fixed', stride=3,\n",
            "                      time_delay=16), SingleTakensEmbedding(n_jobs=-1, parameters_type='fixed', stride=3,\n",
            "                      time_delay=7), SingleTakensEmbedding(n_jobs=-1, parameters_type='fixed', stride=3,\n",
            "                      time_delay=10), SingleTakensEmbedding(n_jobs=-1, parameters_type='fixed', stride=3,\n",
            "                      time_delay=16), SingleTakensEmbedding(n_jobs=-1, parameters_type='fixed', stride=3,\n",
            "                      time_delay=13), SingleTakensEmbedding(n_jobs=-1, parameters_type='fixed', stride=3,\n",
            "                      time_delay=14), SingleTakensEmbedding(n_jobs=-1, parameters_type='fixed', stride=3,\n",
            "                      time_delay=8), SingleTakensEmbedding(n_jobs=-1, parameters_type='fixed', stride=3,\n",
            "                      time_delay=5), SingleTakensEmbedding(n_jobs=-1, parameters_type='fixed', stride=3,\n",
            "                      time_delay=12), SingleTakensEmbedding(n_jobs=-1, parameters_type='fixed', stride=3,\n",
            "                      time_delay=13), SingleTakensEmbedding(n_jobs=-1, parameters_type='fixed', stride=3,\n",
            "                      time_delay=14), SingleTakensEmbedding(n_jobs=-1, parameters_type='fixed', stride=3,\n",
            "                      time_delay=11), SingleTakensEmbedding(n_jobs=-1, parameters_type='fixed', stride=3,\n",
            "                      time_delay=10), SingleTakensEmbedding(n_jobs=-1, parameters_type='fixed', stride=3,\n",
            "                      time_delay=11), SingleTakensEmbedding(n_jobs=-1, parameters_type='fixed', stride=3,\n",
            "                      time_delay=8), SingleTakensEmbedding(n_jobs=-1, parameters_type='fixed', stride=3,\n",
            "                      time_delay=12), SingleTakensEmbedding(n_jobs=-1, parameters_type='fixed', stride=3,\n",
            "                      time_delay=8), SingleTakensEmbedding(n_jobs=-1, parameters_type='fixed', stride=3,\n",
            "                      time_delay=10), SingleTakensEmbedding(dimension=6, n_jobs=-1, parameters_type='fixed', stride=3,\n",
            "                      time_delay=20), SingleTakensEmbedding(n_jobs=-1, parameters_type='fixed', stride=3,\n",
            "                      time_delay=9), SingleTakensEmbedding(n_jobs=-1, parameters_type='fixed', stride=3,\n",
            "                      time_delay=18), SingleTakensEmbedding(n_jobs=-1, parameters_type='fixed', stride=3,\n",
            "                      time_delay=11), SingleTakensEmbedding(n_jobs=-1, parameters_type='fixed', stride=3,\n",
            "                      time_delay=9), SingleTakensEmbedding(n_jobs=-1, parameters_type='fixed', stride=3,\n",
            "                      time_delay=9), SingleTakensEmbedding(n_jobs=-1, parameters_type='fixed', stride=3,\n",
            "                      time_delay=11), SingleTakensEmbedding(n_jobs=-1, parameters_type='fixed', stride=3,\n",
            "                      time_delay=14), SingleTakensEmbedding(n_jobs=-1, parameters_type='fixed', stride=3,\n",
            "                      time_delay=8), SingleTakensEmbedding(dimension=4, n_jobs=-1, parameters_type='fixed', stride=3,\n",
            "                      time_delay=15), SingleTakensEmbedding(n_jobs=-1, parameters_type='fixed', stride=3,\n",
            "                      time_delay=11), SingleTakensEmbedding(n_jobs=-1, parameters_type='fixed', stride=3,\n",
            "                      time_delay=15), SingleTakensEmbedding(n_jobs=-1, parameters_type='fixed', stride=3,\n",
            "                      time_delay=10), SingleTakensEmbedding(n_jobs=-1, parameters_type='fixed', stride=3,\n",
            "                      time_delay=9), SingleTakensEmbedding(n_jobs=-1, parameters_type='fixed', stride=3,\n",
            "                      time_delay=8), SingleTakensEmbedding(n_jobs=-1, parameters_type='fixed', stride=3,\n",
            "                      time_delay=8), SingleTakensEmbedding(n_jobs=-1, parameters_type='fixed', stride=3,\n",
            "                      time_delay=8)]\n",
            "40\n"
          ]
        }
      ],
      "source": [
        "channel_embedders = [ ]\n",
        "for i in range(len(channel_embedders_params)):\n",
        "    (dimension, time_delay), _ = collections.Counter(channel_embedders_params[i]).most_common(1)[0]\n",
        "    attractor = gtda.time_series.SingleTakensEmbedding(\n",
        "        parameters_type = 'fixed',\n",
        "        time_delay = int(time_delay),\n",
        "        dimension = int(dimension),\n",
        "        stride = CHANNEL_STRIDE,\n",
        "        n_jobs = -1\n",
        "    )\n",
        "    channel_embedders.append(attractor)\n",
        "    \n",
        "print(channel_embedders)\n",
        "print(len(channel_embedders))"
      ]
    },
    {
      "cell_type": "code",
      "execution_count": null,
      "metadata": {},
      "outputs": [
        {
          "data": {
            "application/vnd.jupyter.widget-view+json": {
              "model_id": "b905924e7d6c4ece932dfb347ec5554d",
              "version_major": 2,
              "version_minor": 0
            },
            "text/plain": [
              "  0%|          | 0/41840 [00:00<?, ?it/s]"
            ]
          },
          "metadata": {},
          "output_type": "display_data"
        },
        {
          "name": "stdout",
          "output_type": "stream",
          "text": [
            "41840\n",
            "(157, 5) (146, 5)\n",
            "(157, 5) (146, 5)\n"
          ]
        }
      ],
      "source": [
        "channel_point_clouds = [ ]\n",
        "for i, j in tqdm.contrib.itertools.product(range(data.shape[0]), range(data.shape[1])):\n",
        "    channel_point_clouds.append(channel_embedders[j].fit_transform(data[i, j, :]))\n",
        "\n",
        "print(len(channel_point_clouds))\n",
        "print(channel_point_clouds[0].shape, channel_point_clouds[1].shape)\n",
        "print(channel_point_clouds[40].shape, channel_point_clouds[41].shape)"
      ]
    },
    {
      "cell_type": "code",
      "execution_count": null,
      "metadata": {},
      "outputs": [
        {
          "data": {
            "application/vnd.plotly.v1+json": {
              "config": {
                "plotlyServerURL": "https://plot.ly"
              },
              "data": [
                {
                  "marker": {
                    "color": [
                      0,
                      1,
                      2,
                      3,
                      4,
                      5,
                      6,
                      7,
                      8,
                      9,
                      10,
                      11,
                      12,
                      13,
                      14,
                      15,
                      16,
                      17,
                      18,
                      19,
                      20,
                      21,
                      22,
                      23,
                      24,
                      25,
                      26,
                      27,
                      28,
                      29,
                      30,
                      31,
                      32,
                      33,
                      34,
                      35,
                      36,
                      37,
                      38,
                      39,
                      40,
                      41,
                      42,
                      43,
                      44,
                      45,
                      46,
                      47,
                      48,
                      49,
                      50,
                      51,
                      52,
                      53,
                      54,
                      55,
                      56,
                      57,
                      58,
                      59,
                      60,
                      61,
                      62,
                      63,
                      64,
                      65,
                      66,
                      67,
                      68,
                      69,
                      70,
                      71,
                      72,
                      73,
                      74,
                      75,
                      76,
                      77,
                      78,
                      79,
                      80,
                      81,
                      82,
                      83,
                      84,
                      85,
                      86,
                      87,
                      88,
                      89,
                      90,
                      91,
                      92,
                      93,
                      94,
                      95,
                      96,
                      97,
                      98,
                      99,
                      100,
                      101,
                      102,
                      103,
                      104,
                      105,
                      106,
                      107,
                      108,
                      109,
                      110,
                      111,
                      112,
                      113,
                      114,
                      115,
                      116,
                      117,
                      118,
                      119,
                      120,
                      121,
                      122,
                      123,
                      124,
                      125,
                      126,
                      127,
                      128,
                      129,
                      130,
                      131,
                      132,
                      133,
                      134,
                      135,
                      136,
                      137,
                      138,
                      139,
                      140,
                      141,
                      142,
                      143,
                      144,
                      145,
                      146,
                      147,
                      148,
                      149,
                      150,
                      151,
                      152
                    ],
                    "colorscale": [
                      [
                        0,
                        "#440154"
                      ],
                      [
                        0.1111111111111111,
                        "#482878"
                      ],
                      [
                        0.2222222222222222,
                        "#3e4989"
                      ],
                      [
                        0.3333333333333333,
                        "#31688e"
                      ],
                      [
                        0.4444444444444444,
                        "#26828e"
                      ],
                      [
                        0.5555555555555556,
                        "#1f9e89"
                      ],
                      [
                        0.6666666666666666,
                        "#35b779"
                      ],
                      [
                        0.7777777777777778,
                        "#6ece58"
                      ],
                      [
                        0.8888888888888888,
                        "#b5de2b"
                      ],
                      [
                        1,
                        "#fde725"
                      ]
                    ],
                    "opacity": 0.8,
                    "size": 4
                  },
                  "mode": "markers",
                  "type": "scatter3d",
                  "x": [
                    -0.0000016633841823932016,
                    -0.0000016966309885901865,
                    0.000003676653705042554,
                    0.000006748834948666627,
                    0.0000047772978177818,
                    0.000002241344645881327,
                    0.000002714625907174195,
                    0.000003822090093308361,
                    0.000002211278797403793,
                    3.104163113221148e-7,
                    0.000002365483624089393,
                    0.00000549719197806553,
                    0.0000035730140552914236,
                    -8.11137340406276e-7,
                    1.111139980025655e-7,
                    0.000004643373358703684,
                    0.0000045348433559411205,
                    0.0000010284667268933845,
                    0.0000021622818167088553,
                    0.00000664389926896547,
                    0.000006860088888061,
                    0.00000389490833185846,
                    0.000003567676685634069,
                    0.000003931629635189893,
                    0.0000017078598375519505,
                    0.0000019975129816884873,
                    0.000007616384209541138,
                    0.000010230281077383552,
                    0.0000049906807362276595,
                    3.094432940997649e-7,
                    0.0000018867489188778563,
                    0.0000025873312097246526,
                    -0.0000016046653854573378,
                    -0.0000027712546852853848,
                    0.0000025513704713375773,
                    0.0000057788070080277976,
                    0.0000029997258934599813,
                    0.000001931987071657204,
                    0.0000054503834689967334,
                    0.000005669565780408448,
                    2.722181022818404e-7,
                    -0.0000020426823539310135,
                    0.0000023771062842570245,
                    0.000005954407242825255,
                    0.000004152763267484261,
                    0.0000023818513454898493,
                    0.000004212275598547421,
                    0.000004906710728391772,
                    0.0000011032071824956802,
                    -0.000002722356612139265,
                    -0.0000017896780946102808,
                    0.0000020001289158244617,
                    0.000004004305083071813,
                    0.0000030206456358428113,
                    0.0000010307451248081634,
                    5.061993846311452e-8,
                    4.738240022561513e-7,
                    7.419108101203165e-7,
                    -0.0000011239637842663797,
                    -0.000004390045432955958,
                    -0.000005891700766369468,
                    -0.000004793372227140935,
                    -0.00000383936685466324,
                    -0.000004329279363446403,
                    -0.000003999834916612599,
                    -0.000001558382678013004,
                    0.0000011091915439465083,
                    0.0000025024071419466054,
                    0.0000029136406283214455,
                    0.0000020817553831875557,
                    2.488806103428942e-7,
                    3.9702086951365345e-7,
                    0.000004220504251861712,
                    0.000007888804248068482,
                    0.000007237822501338087,
                    0.000004170450210949639,
                    0.0000023065942968969466,
                    5.168295729163219e-7,
                    -0.0000031912607028061757,
                    -0.000005536673143069493,
                    -0.000002463697228449746,
                    0.0000032882353480090387,
                    0.000005388514182413928,
                    0.0000026682041607273277,
                    -3.41300875561501e-7,
                    -7.579644147881481e-7,
                    -6.514865162898786e-7,
                    -0.000002203098802056047,
                    -0.0000030974179026088677,
                    1.3406774712620972e-7,
                    0.000005865691036888165,
                    0.00000864539197209524,
                    0.000007220730822155019,
                    0.00000627169947620132,
                    0.000008032824553083628,
                    0.000008095313205558341,
                    0.000003344510560054914,
                    -0.0000015095804428710835,
                    -5.229269959272642e-7,
                    0.000004929169335810002,
                    0.000009328327905677725,
                    0.000010672179087123368,
                    0.000010273459338350222,
                    0.000008746928870095871,
                    0.000006364007276715711,
                    0.000004249002358847065,
                    0.0000026350735424784943,
                    0.0000011408793625378166,
                    0.0000012070339607817004,
                    0.000004012375029560644,
                    0.000006814870175730903,
                    0.000006404735358955804,
                    0.0000044578650886251125,
                    0.000003899342573276954,
                    0.000003006377710335073,
                    -2.3282393613044405e-7,
                    -0.0000018990434682564228,
                    0.000001573872168592061,
                    0.000005303113994159503,
                    0.0000034383065212750807,
                    1.936968345717105e-7,
                    0.0000025971401100832736,
                    0.000006674537871731445,
                    0.000003689761570058181,
                    -0.0000034077295367751503,
                    -0.0000040104541767505,
                    0.000002213805828432669,
                    0.000005774491455667885,
                    0.000003597565410018433,
                    0.0000011289673693681834,
                    8.205835797525651e-7,
                    0.000001131114004238043,
                    0.0000030727085231774254,
                    0.00000642039458398358,
                    0.000005655027962347958,
                    -4.500459453993244e-7,
                    -0.000003869128704536706,
                    -5.22705761341058e-7,
                    0.000002687751702978858,
                    0.000001345689838672115,
                    0.0000010354330015616142,
                    0.000004891407570539741,
                    0.000007426769570884062,
                    0.000005854482878930867,
                    0.00000438305460193078,
                    0.000004474406523513608,
                    0.000003074186224694131,
                    7.147128826545668e-7,
                    2.9383477340161335e-7,
                    6.330659374498282e-8,
                    -0.000002345085249544354,
                    -0.0000035224002203904092,
                    -7.140960747165082e-7
                  ],
                  "y": [
                    0.0000057945057960751,
                    0.000002811686044879025,
                    0.0000022631963929597987,
                    0.0000036724063647852745,
                    0.0000030327810236485675,
                    6.298493531176064e-7,
                    0.0000012354153113847133,
                    0.000004799836460733786,
                    0.000004857645762967877,
                    3.671287913675769e-7,
                    -9.611053428670857e-7,
                    0.0000033051237551262602,
                    0.000005300561497278977,
                    0.0000020131403744017007,
                    0.000001067812831934134,
                    0.000005318983767210739,
                    0.000007440974968631053,
                    0.000004786590579897165,
                    0.0000033217700092791347,
                    0.000004089477897650795,
                    0.000002556705339884502,
                    0.0000012015995025649318,
                    0.000005521443199540954,
                    0.00001029287523124367,
                    0.000007262318831635639,
                    0.0000011608450449784868,
                    9.482826612838835e-7,
                    0.000002991380824823864,
                    -2.8978215382835515e-8,
                    -0.0000032398352232121397,
                    4.7113334744608437e-7,
                    0.0000054825177357997745,
                    0.000004218400590616511,
                    0.0000016257107517958502,
                    0.000004174435616732808,
                    0.000006408128228940768,
                    0.000002244643155790982,
                    -0.0000021277489850035636,
                    5.091585535410559e-7,
                    0.000005375966338760918,
                    0.0000051327692744962405,
                    0.0000025549172733008163,
                    0.000003390005986148026,
                    0.000005175145361135947,
                    0.0000027152743768965593,
                    -0.0000018577832179289544,
                    -0.0000026454381440998986,
                    7.403708082165394e-7,
                    0.0000037040902043372625,
                    0.000003585919102988555,
                    0.0000016553955219933414,
                    1.9991732358448644e-7,
                    2.3791018577412615e-7,
                    8.18573596461647e-7,
                    -2.2937312849080627e-7,
                    -0.000003337323050800478,
                    -0.000005736346338380827,
                    -0.000005308828349370742,
                    -0.000003971767455368536,
                    -0.000004107913810003083,
                    -0.000004357865236670477,
                    -0.000002527355718484614,
                    3.381203725894011e-7,
                    0.000002172206905015628,
                    0.0000028778974865417695,
                    0.0000025351328076794744,
                    8.292752795568958e-7,
                    -8.225291026064951e-8,
                    0.000002676108579180436,
                    0.000007039911452011438,
                    0.000007941360308905132,
                    0.000005168974894331768,
                    0.0000027612895792117342,
                    0.0000013112246506352676,
                    -0.0000018357739008934004,
                    -0.000005252771188679617,
                    -0.000004081343831785489,
                    0.000001499431959928188,
                    0.000005331783086148789,
                    0.000003875200036418391,
                    4.048606285778078e-7,
                    -8.516446428075142e-7,
                    -5.347359319785028e-7,
                    -0.0000015525376966252225,
                    -0.000003146713879687013,
                    -0.0000014386007478606189,
                    0.000004019543666800018,
                    0.00000828601696412079,
                    0.00000792486116552027,
                    0.000006243618827284081,
                    0.000007330333119170973,
                    0.000008605837138020433,
                    0.000005311184395395685,
                    -3.536871702181088e-7,
                    -0.0000015857431208132766,
                    0.0000029755528885289095,
                    0.000008213246474042535,
                    0.000010495347851247061,
                    0.000010530727195146028,
                    0.00000938506218517432,
                    0.000007188108611444477,
                    0.000004873318175668828,
                    0.0000031626345844415482,
                    0.0000015785614095875644,
                    8.745682862354442e-7,
                    0.0000028625206596188946,
                    0.000006154480615805369,
                    0.000006899299933138536,
                    0.000005027873157814611,
                    0.000003940519945899723,
                    0.0000035676855532074114,
                    9.755847258929862e-7,
                    -0.0000018836221897799987,
                    -1.8155970948896538e-8,
                    0.0000045463825699698646,
                    0.000004640708539227489,
                    8.527809995939606e-7,
                    0.0000011450805459389812,
                    0.000005790237992187031,
                    0.000005607504590443568,
                    -0.0000013009325812163297,
                    -0.000004882595021626912,
                    -5.193490082433527e-8,
                    0.000005334600245987531,
                    0.000004669696863857098,
                    0.000001683474351921177,
                    7.907720487310144e-7,
                    9.60976194619434e-7,
                    0.000002130997472704621,
                    0.000005440656877908623,
                    0.000006674089945590822,
                    0.0000017760196442395682,
                    -0.000003540374791555223,
                    -0.0000020946117729181424,
                    0.000002143282472388819,
                    0.00000206962545235001,
                    6.135627472758642e-7,
                    0.0000033964970498345792,
                    0.0000070918185883783735,
                    0.000006627793027291773,
                    0.000004618639195541618,
                    0.00000445979776486638,
                    0.000003800408421739121,
                    0.0000013747467164648697,
                    2.1727572629970382e-7,
                    3.670233468255901e-7,
                    -0.0000014091785942582646,
                    -0.0000035790990295936354,
                    -0.00000193601954379119,
                    0.0000013387501667239121,
                    0.0000010454275525262346,
                    -0.0000011277810472165584,
                    8.219078040383465e-8
                  ],
                  "z": [
                    0.0000036064220694242977,
                    0.0000013336959909793222,
                    5.085155407869024e-7,
                    0.000003656215085356962,
                    0.000005536978733289288,
                    0.0000019536446416168474,
                    -0.0000012945056369062513,
                    0.0000016602311916358303,
                    0.0000053575199672195595,
                    0.0000033138303479063325,
                    6.675340955553111e-7,
                    0.0000037003808301960817,
                    0.000007391363396891393,
                    0.000005873054305993719,
                    0.000003392656708456343,
                    0.000003906669007847086,
                    0.000003382859176781494,
                    0.000001159224098046252,
                    0.0000035163964184903307,
                    0.000009341548320662696,
                    0.000009144401701632887,
                    0.000002812171487676096,
                    3.017309779806965e-7,
                    0.0000026902544050244614,
                    0.0000014997688140283572,
                    -0.000002792841996779316,
                    -0.0000014429282373384922,
                    0.000004344427452451782,
                    0.000005273679107631324,
                    0.0000020286956896597985,
                    0.0000028716174256260274,
                    0.000006296076207945589,
                    0.00000418288072978612,
                    -0.0000012997466001252178,
                    -0.0000010856466587938485,
                    0.000004114529019716429,
                    0.000005823902483825805,
                    0.000003201016852472094,
                    0.0000027020003017241834,
                    0.000004890594482276356,
                    0.000004053176780871581,
                    -5.115039130032528e-7,
                    -0.0000029876312055421295,
                    -5.912703500143834e-7,
                    0.000003022915961992112,
                    0.000003943509909731802,
                    0.000002345614575460786,
                    5.323932441569923e-7,
                    7.568336712893142e-8,
                    6.990936185502505e-7,
                    4.015590775452438e-7,
                    -0.0000022008823634678265,
                    -0.000005222764229984023,
                    -0.000005718614829675062,
                    -0.000004310152235120768,
                    -0.000003907601239916403,
                    -0.000004447694209375186,
                    -0.000003371914544914034,
                    -5.717894850931771e-7,
                    0.0000017174389768115361,
                    0.000002735198677328299,
                    0.000002809813167914399,
                    0.0000014843637927697273,
                    -1.0189707921881563e-7,
                    0.0000013447920537146274,
                    0.000005753003279096447,
                    0.000008190603693947196,
                    0.000006248679710552096,
                    0.0000033608798730710987,
                    0.0000018708836933001294,
                    -5.507035893970169e-7,
                    -0.000004406384505273309,
                    -0.000005145888280821964,
                    -5.117266255183495e-7,
                    0.000004616716978489421,
                    0.000004851488938584225,
                    0.0000014491196225208114,
                    -7.471886078747048e-7,
                    -6.055709036445478e-7,
                    -0.0000010007987611970748,
                    -0.0000027944072371610673,
                    -0.000002537474529162864,
                    0.0000020267482341296272,
                    0.000007340303454839159,
                    0.000008473266461805906,
                    0.000006595692866540048,
                    0.0000066739798967319075,
                    0.000008534025255357847,
                    0.000006965458396734903,
                    0.0000013535386642615777,
                    -0.000001938325112860184,
                    0.0000010759330280052382,
                    0.0000067240102907817345,
                    0.00001007169430522481,
                    0.000010669244147720747,
                    0.000009894346476357896,
                    0.0000080006966527435,
                    0.000005580931883741869,
                    0.000003690051471494371,
                    0.0000020980849058105377,
                    8.750843676352815e-7,
                    0.0000018874168290494708,
                    0.000005169704763829941,
                    0.000007063684734021081,
                    0.000005725033133785473,
                    0.0000040968939174490515,
                    0.000003827211457974045,
                    0.0000021154526166355936,
                    -0.000001267557081519044,
                    -0.0000012497299621827551,
                    0.0000032091131743072765,
                    0.0000053274998208507895,
                    0.0000020482261788856704,
                    2.83500014575111e-7,
                    0.000004291091045161011,
                    0.000006646275778621202,
                    0.0000012303454468565178,
                    -0.00000467934705739026,
                    -0.000002275338601975818,
                    0.000004107404947717441,
                    0.00000548610614714562,
                    0.000002536598685765057,
                    8.594032010478259e-7,
                    8.787969250079186e-7,
                    0.0000014914494386175647,
                    0.000004237771918269573,
                    0.0000069022948991914745,
                    0.000003936111170332879,
                    -0.000002335895942451316,
                    -0.0000033223764148715418,
                    0.0000010037658739747712,
                    0.0000026115326363651548,
                    7.675379833926854e-7,
                    0.000002019662133534439,
                    0.0000062043964135227725,
                    0.000007224650744319661,
                    0.000005129704277351266,
                    0.000004374127001938177,
                    0.000004276927938917652,
                    0.000002212298795711831,
                    3.274835762567818e-7,
                    4.0086075614453875e-7,
                    -5.513177825378079e-7,
                    -0.0000031391541597258765,
                    -0.0000029411578452709364,
                    4.6171052758836595e-7,
                    0.000001615316705283476,
                    -5.814749783894513e-7,
                    -8.05492732069979e-7,
                    0.0000025488645860605175,
                    0.000004911594714940293,
                    0.0000044613298086915165,
                    0.000004590880962496158
                  ]
                }
              ],
              "layout": {
                "scene": {
                  "xaxis": {
                    "exponentformat": "e",
                    "showexponent": "all",
                    "title": {
                      "text": "0th"
                    },
                    "type": "linear"
                  },
                  "yaxis": {
                    "exponentformat": "e",
                    "showexponent": "all",
                    "title": {
                      "text": "1st"
                    },
                    "type": "linear"
                  },
                  "zaxis": {
                    "exponentformat": "e",
                    "showexponent": "all",
                    "title": {
                      "text": "2nd"
                    },
                    "type": "linear"
                  }
                },
                "template": {
                  "data": {
                    "bar": [
                      {
                        "error_x": {
                          "color": "#2a3f5f"
                        },
                        "error_y": {
                          "color": "#2a3f5f"
                        },
                        "marker": {
                          "line": {
                            "color": "#E5ECF6",
                            "width": 0.5
                          },
                          "pattern": {
                            "fillmode": "overlay",
                            "size": 10,
                            "solidity": 0.2
                          }
                        },
                        "type": "bar"
                      }
                    ],
                    "barpolar": [
                      {
                        "marker": {
                          "line": {
                            "color": "#E5ECF6",
                            "width": 0.5
                          },
                          "pattern": {
                            "fillmode": "overlay",
                            "size": 10,
                            "solidity": 0.2
                          }
                        },
                        "type": "barpolar"
                      }
                    ],
                    "carpet": [
                      {
                        "aaxis": {
                          "endlinecolor": "#2a3f5f",
                          "gridcolor": "white",
                          "linecolor": "white",
                          "minorgridcolor": "white",
                          "startlinecolor": "#2a3f5f"
                        },
                        "baxis": {
                          "endlinecolor": "#2a3f5f",
                          "gridcolor": "white",
                          "linecolor": "white",
                          "minorgridcolor": "white",
                          "startlinecolor": "#2a3f5f"
                        },
                        "type": "carpet"
                      }
                    ],
                    "choropleth": [
                      {
                        "colorbar": {
                          "outlinewidth": 0,
                          "ticks": ""
                        },
                        "type": "choropleth"
                      }
                    ],
                    "contour": [
                      {
                        "colorbar": {
                          "outlinewidth": 0,
                          "ticks": ""
                        },
                        "colorscale": [
                          [
                            0,
                            "#0d0887"
                          ],
                          [
                            0.1111111111111111,
                            "#46039f"
                          ],
                          [
                            0.2222222222222222,
                            "#7201a8"
                          ],
                          [
                            0.3333333333333333,
                            "#9c179e"
                          ],
                          [
                            0.4444444444444444,
                            "#bd3786"
                          ],
                          [
                            0.5555555555555556,
                            "#d8576b"
                          ],
                          [
                            0.6666666666666666,
                            "#ed7953"
                          ],
                          [
                            0.7777777777777778,
                            "#fb9f3a"
                          ],
                          [
                            0.8888888888888888,
                            "#fdca26"
                          ],
                          [
                            1,
                            "#f0f921"
                          ]
                        ],
                        "type": "contour"
                      }
                    ],
                    "contourcarpet": [
                      {
                        "colorbar": {
                          "outlinewidth": 0,
                          "ticks": ""
                        },
                        "type": "contourcarpet"
                      }
                    ],
                    "heatmap": [
                      {
                        "colorbar": {
                          "outlinewidth": 0,
                          "ticks": ""
                        },
                        "colorscale": [
                          [
                            0,
                            "#0d0887"
                          ],
                          [
                            0.1111111111111111,
                            "#46039f"
                          ],
                          [
                            0.2222222222222222,
                            "#7201a8"
                          ],
                          [
                            0.3333333333333333,
                            "#9c179e"
                          ],
                          [
                            0.4444444444444444,
                            "#bd3786"
                          ],
                          [
                            0.5555555555555556,
                            "#d8576b"
                          ],
                          [
                            0.6666666666666666,
                            "#ed7953"
                          ],
                          [
                            0.7777777777777778,
                            "#fb9f3a"
                          ],
                          [
                            0.8888888888888888,
                            "#fdca26"
                          ],
                          [
                            1,
                            "#f0f921"
                          ]
                        ],
                        "type": "heatmap"
                      }
                    ],
                    "heatmapgl": [
                      {
                        "colorbar": {
                          "outlinewidth": 0,
                          "ticks": ""
                        },
                        "colorscale": [
                          [
                            0,
                            "#0d0887"
                          ],
                          [
                            0.1111111111111111,
                            "#46039f"
                          ],
                          [
                            0.2222222222222222,
                            "#7201a8"
                          ],
                          [
                            0.3333333333333333,
                            "#9c179e"
                          ],
                          [
                            0.4444444444444444,
                            "#bd3786"
                          ],
                          [
                            0.5555555555555556,
                            "#d8576b"
                          ],
                          [
                            0.6666666666666666,
                            "#ed7953"
                          ],
                          [
                            0.7777777777777778,
                            "#fb9f3a"
                          ],
                          [
                            0.8888888888888888,
                            "#fdca26"
                          ],
                          [
                            1,
                            "#f0f921"
                          ]
                        ],
                        "type": "heatmapgl"
                      }
                    ],
                    "histogram": [
                      {
                        "marker": {
                          "pattern": {
                            "fillmode": "overlay",
                            "size": 10,
                            "solidity": 0.2
                          }
                        },
                        "type": "histogram"
                      }
                    ],
                    "histogram2d": [
                      {
                        "colorbar": {
                          "outlinewidth": 0,
                          "ticks": ""
                        },
                        "colorscale": [
                          [
                            0,
                            "#0d0887"
                          ],
                          [
                            0.1111111111111111,
                            "#46039f"
                          ],
                          [
                            0.2222222222222222,
                            "#7201a8"
                          ],
                          [
                            0.3333333333333333,
                            "#9c179e"
                          ],
                          [
                            0.4444444444444444,
                            "#bd3786"
                          ],
                          [
                            0.5555555555555556,
                            "#d8576b"
                          ],
                          [
                            0.6666666666666666,
                            "#ed7953"
                          ],
                          [
                            0.7777777777777778,
                            "#fb9f3a"
                          ],
                          [
                            0.8888888888888888,
                            "#fdca26"
                          ],
                          [
                            1,
                            "#f0f921"
                          ]
                        ],
                        "type": "histogram2d"
                      }
                    ],
                    "histogram2dcontour": [
                      {
                        "colorbar": {
                          "outlinewidth": 0,
                          "ticks": ""
                        },
                        "colorscale": [
                          [
                            0,
                            "#0d0887"
                          ],
                          [
                            0.1111111111111111,
                            "#46039f"
                          ],
                          [
                            0.2222222222222222,
                            "#7201a8"
                          ],
                          [
                            0.3333333333333333,
                            "#9c179e"
                          ],
                          [
                            0.4444444444444444,
                            "#bd3786"
                          ],
                          [
                            0.5555555555555556,
                            "#d8576b"
                          ],
                          [
                            0.6666666666666666,
                            "#ed7953"
                          ],
                          [
                            0.7777777777777778,
                            "#fb9f3a"
                          ],
                          [
                            0.8888888888888888,
                            "#fdca26"
                          ],
                          [
                            1,
                            "#f0f921"
                          ]
                        ],
                        "type": "histogram2dcontour"
                      }
                    ],
                    "mesh3d": [
                      {
                        "colorbar": {
                          "outlinewidth": 0,
                          "ticks": ""
                        },
                        "type": "mesh3d"
                      }
                    ],
                    "parcoords": [
                      {
                        "line": {
                          "colorbar": {
                            "outlinewidth": 0,
                            "ticks": ""
                          }
                        },
                        "type": "parcoords"
                      }
                    ],
                    "pie": [
                      {
                        "automargin": true,
                        "type": "pie"
                      }
                    ],
                    "scatter": [
                      {
                        "fillpattern": {
                          "fillmode": "overlay",
                          "size": 10,
                          "solidity": 0.2
                        },
                        "type": "scatter"
                      }
                    ],
                    "scatter3d": [
                      {
                        "line": {
                          "colorbar": {
                            "outlinewidth": 0,
                            "ticks": ""
                          }
                        },
                        "marker": {
                          "colorbar": {
                            "outlinewidth": 0,
                            "ticks": ""
                          }
                        },
                        "type": "scatter3d"
                      }
                    ],
                    "scattercarpet": [
                      {
                        "marker": {
                          "colorbar": {
                            "outlinewidth": 0,
                            "ticks": ""
                          }
                        },
                        "type": "scattercarpet"
                      }
                    ],
                    "scattergeo": [
                      {
                        "marker": {
                          "colorbar": {
                            "outlinewidth": 0,
                            "ticks": ""
                          }
                        },
                        "type": "scattergeo"
                      }
                    ],
                    "scattergl": [
                      {
                        "marker": {
                          "colorbar": {
                            "outlinewidth": 0,
                            "ticks": ""
                          }
                        },
                        "type": "scattergl"
                      }
                    ],
                    "scattermapbox": [
                      {
                        "marker": {
                          "colorbar": {
                            "outlinewidth": 0,
                            "ticks": ""
                          }
                        },
                        "type": "scattermapbox"
                      }
                    ],
                    "scatterpolar": [
                      {
                        "marker": {
                          "colorbar": {
                            "outlinewidth": 0,
                            "ticks": ""
                          }
                        },
                        "type": "scatterpolar"
                      }
                    ],
                    "scatterpolargl": [
                      {
                        "marker": {
                          "colorbar": {
                            "outlinewidth": 0,
                            "ticks": ""
                          }
                        },
                        "type": "scatterpolargl"
                      }
                    ],
                    "scatterternary": [
                      {
                        "marker": {
                          "colorbar": {
                            "outlinewidth": 0,
                            "ticks": ""
                          }
                        },
                        "type": "scatterternary"
                      }
                    ],
                    "surface": [
                      {
                        "colorbar": {
                          "outlinewidth": 0,
                          "ticks": ""
                        },
                        "colorscale": [
                          [
                            0,
                            "#0d0887"
                          ],
                          [
                            0.1111111111111111,
                            "#46039f"
                          ],
                          [
                            0.2222222222222222,
                            "#7201a8"
                          ],
                          [
                            0.3333333333333333,
                            "#9c179e"
                          ],
                          [
                            0.4444444444444444,
                            "#bd3786"
                          ],
                          [
                            0.5555555555555556,
                            "#d8576b"
                          ],
                          [
                            0.6666666666666666,
                            "#ed7953"
                          ],
                          [
                            0.7777777777777778,
                            "#fb9f3a"
                          ],
                          [
                            0.8888888888888888,
                            "#fdca26"
                          ],
                          [
                            1,
                            "#f0f921"
                          ]
                        ],
                        "type": "surface"
                      }
                    ],
                    "table": [
                      {
                        "cells": {
                          "fill": {
                            "color": "#EBF0F8"
                          },
                          "line": {
                            "color": "white"
                          }
                        },
                        "header": {
                          "fill": {
                            "color": "#C8D4E3"
                          },
                          "line": {
                            "color": "white"
                          }
                        },
                        "type": "table"
                      }
                    ]
                  },
                  "layout": {
                    "annotationdefaults": {
                      "arrowcolor": "#2a3f5f",
                      "arrowhead": 0,
                      "arrowwidth": 1
                    },
                    "autotypenumbers": "strict",
                    "coloraxis": {
                      "colorbar": {
                        "outlinewidth": 0,
                        "ticks": ""
                      }
                    },
                    "colorscale": {
                      "diverging": [
                        [
                          0,
                          "#8e0152"
                        ],
                        [
                          0.1,
                          "#c51b7d"
                        ],
                        [
                          0.2,
                          "#de77ae"
                        ],
                        [
                          0.3,
                          "#f1b6da"
                        ],
                        [
                          0.4,
                          "#fde0ef"
                        ],
                        [
                          0.5,
                          "#f7f7f7"
                        ],
                        [
                          0.6,
                          "#e6f5d0"
                        ],
                        [
                          0.7,
                          "#b8e186"
                        ],
                        [
                          0.8,
                          "#7fbc41"
                        ],
                        [
                          0.9,
                          "#4d9221"
                        ],
                        [
                          1,
                          "#276419"
                        ]
                      ],
                      "sequential": [
                        [
                          0,
                          "#0d0887"
                        ],
                        [
                          0.1111111111111111,
                          "#46039f"
                        ],
                        [
                          0.2222222222222222,
                          "#7201a8"
                        ],
                        [
                          0.3333333333333333,
                          "#9c179e"
                        ],
                        [
                          0.4444444444444444,
                          "#bd3786"
                        ],
                        [
                          0.5555555555555556,
                          "#d8576b"
                        ],
                        [
                          0.6666666666666666,
                          "#ed7953"
                        ],
                        [
                          0.7777777777777778,
                          "#fb9f3a"
                        ],
                        [
                          0.8888888888888888,
                          "#fdca26"
                        ],
                        [
                          1,
                          "#f0f921"
                        ]
                      ],
                      "sequentialminus": [
                        [
                          0,
                          "#0d0887"
                        ],
                        [
                          0.1111111111111111,
                          "#46039f"
                        ],
                        [
                          0.2222222222222222,
                          "#7201a8"
                        ],
                        [
                          0.3333333333333333,
                          "#9c179e"
                        ],
                        [
                          0.4444444444444444,
                          "#bd3786"
                        ],
                        [
                          0.5555555555555556,
                          "#d8576b"
                        ],
                        [
                          0.6666666666666666,
                          "#ed7953"
                        ],
                        [
                          0.7777777777777778,
                          "#fb9f3a"
                        ],
                        [
                          0.8888888888888888,
                          "#fdca26"
                        ],
                        [
                          1,
                          "#f0f921"
                        ]
                      ]
                    },
                    "colorway": [
                      "#636efa",
                      "#EF553B",
                      "#00cc96",
                      "#ab63fa",
                      "#FFA15A",
                      "#19d3f3",
                      "#FF6692",
                      "#B6E880",
                      "#FF97FF",
                      "#FECB52"
                    ],
                    "font": {
                      "color": "#2a3f5f"
                    },
                    "geo": {
                      "bgcolor": "white",
                      "lakecolor": "white",
                      "landcolor": "#E5ECF6",
                      "showlakes": true,
                      "showland": true,
                      "subunitcolor": "white"
                    },
                    "hoverlabel": {
                      "align": "left"
                    },
                    "hovermode": "closest",
                    "mapbox": {
                      "style": "light"
                    },
                    "paper_bgcolor": "white",
                    "plot_bgcolor": "#E5ECF6",
                    "polar": {
                      "angularaxis": {
                        "gridcolor": "white",
                        "linecolor": "white",
                        "ticks": ""
                      },
                      "bgcolor": "#E5ECF6",
                      "radialaxis": {
                        "gridcolor": "white",
                        "linecolor": "white",
                        "ticks": ""
                      }
                    },
                    "scene": {
                      "xaxis": {
                        "backgroundcolor": "#E5ECF6",
                        "gridcolor": "white",
                        "gridwidth": 2,
                        "linecolor": "white",
                        "showbackground": true,
                        "ticks": "",
                        "zerolinecolor": "white"
                      },
                      "yaxis": {
                        "backgroundcolor": "#E5ECF6",
                        "gridcolor": "white",
                        "gridwidth": 2,
                        "linecolor": "white",
                        "showbackground": true,
                        "ticks": "",
                        "zerolinecolor": "white"
                      },
                      "zaxis": {
                        "backgroundcolor": "#E5ECF6",
                        "gridcolor": "white",
                        "gridwidth": 2,
                        "linecolor": "white",
                        "showbackground": true,
                        "ticks": "",
                        "zerolinecolor": "white"
                      }
                    },
                    "shapedefaults": {
                      "line": {
                        "color": "#2a3f5f"
                      }
                    },
                    "ternary": {
                      "aaxis": {
                        "gridcolor": "white",
                        "linecolor": "white",
                        "ticks": ""
                      },
                      "baxis": {
                        "gridcolor": "white",
                        "linecolor": "white",
                        "ticks": ""
                      },
                      "bgcolor": "#E5ECF6",
                      "caxis": {
                        "gridcolor": "white",
                        "linecolor": "white",
                        "ticks": ""
                      }
                    },
                    "title": {
                      "x": 0.05
                    },
                    "xaxis": {
                      "automargin": true,
                      "gridcolor": "white",
                      "linecolor": "white",
                      "ticks": "",
                      "title": {
                        "standoff": 15
                      },
                      "zerolinecolor": "white",
                      "zerolinewidth": 2
                    },
                    "yaxis": {
                      "automargin": true,
                      "gridcolor": "white",
                      "linecolor": "white",
                      "ticks": "",
                      "title": {
                        "standoff": 15
                      },
                      "zerolinecolor": "white",
                      "zerolinewidth": 2
                    }
                  }
                }
              }
            }
          },
          "metadata": {},
          "output_type": "display_data"
        }
      ],
      "source": [
        "channel_point_cloud_plot = gtda.plotting.plot_point_cloud(channel_point_clouds[print_obj])\n",
        "display(channel_point_cloud_plot)\n",
        "channel_point_cloud_plot.write_image(file = f\"{subj}/{exp}/channel_point_cloud.svg\", format = \"svg\")"
      ]
    },
    {
      "cell_type": "markdown",
      "metadata": {},
      "source": [
        "#### VietorisRipsPersistence"
      ]
    },
    {
      "cell_type": "code",
      "execution_count": null,
      "metadata": {},
      "outputs": [
        {
          "name": "stdout",
          "output_type": "stream",
          "text": [
            "(41840, 195, 3)\n"
          ]
        }
      ],
      "source": [
        "channel_persistence = gtda.homology.VietorisRipsPersistence(homology_dimensions = CHANNEL_HOMOLOGY_DIMENSIONS, n_jobs = -1)\n",
        "channel_diagrams = channel_persistence.fit_transform(channel_point_clouds)\n",
        "numpy.save(f\"{subj}/{exp}/channel_diagrams.npy\", channel_diagrams)\n",
        "print(channel_diagrams.shape)"
      ]
    },
    {
      "cell_type": "code",
      "execution_count": null,
      "metadata": {},
      "outputs": [
        {
          "data": {
            "application/vnd.plotly.v1+json": {
              "config": {
                "plotlyServerURL": "https://plot.ly"
              },
              "data": [
                {
                  "hoverinfo": "none",
                  "line": {
                    "color": "black",
                    "dash": "dash",
                    "width": 1
                  },
                  "mode": "lines",
                  "showlegend": false,
                  "type": "scatter",
                  "x": [
                    0.000003357157006576017,
                    0.000008126898669615913
                  ],
                  "y": [
                    0.000003357157006576017,
                    0.000008126898669615913
                  ]
                },
                {
                  "hoverinfo": "text",
                  "hovertext": [
                    "(7.30631336409715e-06, 7.500116225855891e-06)",
                    "(6.857202151877573e-06, 6.881645276735071e-06)",
                    "(6.662725354544818e-06, 7.661691597604658e-06)",
                    "(6.6245702328160405e-06, 7.391236977127846e-06)",
                    "(6.517930160043761e-06, 7.434501185343834e-06)",
                    "(6.459565156546887e-06, 7.109931175364181e-06)",
                    "(6.175116595841246e-06, 6.502671112684766e-06)",
                    "(6.087198471504962e-06, 7.005797669989988e-06)",
                    "(6.054079676687252e-06, 7.098689366102917e-06)",
                    "(5.935319677519146e-06, 6.26161408945336e-06)",
                    "(5.910492291150149e-06, 6.241131359274732e-06)",
                    "(5.8433452068129554e-06, 5.995420451654354e-06)",
                    "(5.8044333854923025e-06, 6.632643362536328e-06)",
                    "(5.623504421237158e-06, 6.2944600358605385e-06)",
                    "(5.599924406851642e-06, 6.098413905419875e-06)",
                    "(5.561335456150118e-06, 5.870408585906262e-06)",
                    "(5.548560693569016e-06, 6.23290179646574e-06)",
                    "(5.5347391025861725e-06, 6.8298832047730684e-06)",
                    "(5.509691618499346e-06, 6.896755166962976e-06)",
                    "(5.4826218729431275e-06, 5.499026428879006e-06)",
                    "(5.460591637529433e-06, 5.982210495858453e-06)",
                    "(5.436661467683734e-06, 5.91904426983092e-06)",
                    "(5.432335910882102e-06, 5.585536655416945e-06)",
                    "(5.4140145948622376e-06, 6.402569397323532e-06)",
                    "(5.394229447119869e-06, 5.456488452182384e-06)",
                    "(5.342574695532676e-06, 5.667878667736659e-06)",
                    "(5.316217993822647e-06, 5.403478098742198e-06)",
                    "(5.295260507409694e-06, 5.811826213175664e-06)",
                    "(5.282266101858113e-06, 6.607901468669297e-06)",
                    "(5.255633368506096e-06, 5.4648744480800815e-06)",
                    "(5.228301688475767e-06, 6.653859600191936e-06)",
                    "(5.204415629123105e-06, 5.239094207354356e-06)",
                    "(5.198214694246417e-06, 6.264418516366277e-06)",
                    "(5.170838448975701e-06, 5.339220479072537e-06)",
                    "(5.136590061738389e-06, 5.332367436494678e-06)",
                    "(5.0139678933192044e-06, 5.193462584429653e-06)",
                    "(4.9978625611402094e-06, 6.954809578019194e-06)",
                    "(4.937853645969881e-06, 5.121900812810054e-06)",
                    "(4.925103439745726e-06, 5.228459485806525e-06)",
                    "(4.8906681513471995e-06, 5.107292054162826e-06)",
                    "(4.859938144363696e-06, 5.0382400331727695e-06)",
                    "(4.858663942286512e-06, 6.4513683355471585e-06)",
                    "(4.849983724852791e-06, 5.460581178340362e-06)",
                    "(4.828816599911079e-06, 4.927493591821985e-06)",
                    "(4.804825039173011e-06, 4.893239747616462e-06)",
                    "(4.775269189849496e-06, 5.2334830797917675e-06)",
                    "(4.747897492052289e-06, 5.400986538006691e-06)",
                    "(4.6798809307802e-06, 4.929129318043124e-06)",
                    "(4.676789558288874e-06, 6.088809641369153e-06)",
                    "(4.672496288549155e-06, 5.057596354163252e-06)",
                    "(4.546197487798054e-06, 4.7067956074897666e-06)",
                    "(4.499914666666882e-06, 4.644368345907424e-06)",
                    "(4.497416284721112e-06, 5.371503448259318e-06)",
                    "(4.496846941037802e-06, 4.879388598055812e-06)",
                    "(4.48414448328549e-06, 5.089837941341102e-06)",
                    "(4.461260232346831e-06, 5.136187155585503e-06)",
                    "(4.4538837755681016e-06, 4.862909008807037e-06)",
                    "(4.412944690557197e-06, 4.595653990691062e-06)",
                    "(4.399138106236933e-06, 5.290673470881302e-06)",
                    "(4.39618679592968e-06, 4.921428171655862e-06)",
                    "(4.3804748202092014e-06, 5.068710834166268e-06)",
                    "(4.3765089685621206e-06, 4.8499341573915444e-06)",
                    "(4.36414029536536e-06, 5.218994374445174e-06)",
                    "(4.3608042687992565e-06, 4.950521997670876e-06)",
                    "(4.357125362730585e-06, 4.646626166504575e-06)",
                    "(4.347421054262668e-06, 4.46951889898628e-06)",
                    "(4.328745035309112e-06, 4.8510355554753914e-06)",
                    "(4.282041118131019e-06, 5.025793143431656e-06)",
                    "(4.271747002349002e-06, 5.480309937411221e-06)",
                    "(4.255225121596595e-06, 4.814350177184679e-06)",
                    "(4.253579390933737e-06, 5.615634108835366e-06)",
                    "(4.252288817951921e-06, 4.762972821481526e-06)",
                    "(4.2500009840296116e-06, 5.223300377110718e-06)",
                    "(4.243102011969313e-06, 5.453912763186963e-06)",
                    "(4.231962066114647e-06, 5.5781647461117245e-06)",
                    "(4.228939815220656e-06, 5.488044735102449e-06)",
                    "(4.181051735940855e-06, 5.068710834166268e-06)",
                    "(4.137319137953455e-06, 5.547020464291563e-06)",
                    "(4.093143616046291e-06, 4.207476195006166e-06)",
                    "(4.064011591253802e-06, 5.250472895568237e-06)",
                    "(4.039774466946255e-06, 4.315385012887418e-06)",
                    "(4.038426141050877e-06, 4.302416527934838e-06)",
                    "(4.032929609820712e-06, 5.601679276878713e-06)",
                    "(3.968093551520724e-06, 4.826523309020558e-06)",
                    "(3.967596512666205e-06, 4.669725512940204e-06)",
                    "(3.964615643781144e-06, 4.826541953661945e-06)",
                    "(3.951263352064416e-06, 5.593846253759693e-06)",
                    "(3.945534444937948e-06, 4.358728801889811e-06)",
                    "(3.5457310332276393e-06, 4.232781066093594e-06)",
                    "(3.4488828077883227e-06, 3.7353338484535925e-06)"
                  ],
                  "mode": "markers",
                  "name": "H1",
                  "type": "scatter",
                  "x": [
                    0.00000730631336409715,
                    0.000006857202151877573,
                    0.000006662725354544818,
                    0.0000066245702328160405,
                    0.000006517930160043761,
                    0.000006459565156546887,
                    0.000006175116595841246,
                    0.000006087198471504962,
                    0.000006054079676687252,
                    0.000005935319677519146,
                    0.000005910492291150149,
                    0.0000058433452068129554,
                    0.0000058044333854923025,
                    0.000005623504421237158,
                    0.000005599924406851642,
                    0.000005561335456150118,
                    0.000005548560693569016,
                    0.0000055347391025861725,
                    0.000005509691618499346,
                    0.0000054826218729431275,
                    0.000005460591637529433,
                    0.000005436661467683734,
                    0.000005432335910882102,
                    0.0000054140145948622376,
                    0.000005394229447119869,
                    0.000005342574695532676,
                    0.000005316217993822647,
                    0.000005295260507409694,
                    0.000005282266101858113,
                    0.000005255633368506096,
                    0.000005228301688475767,
                    0.000005204415629123105,
                    0.000005198214694246417,
                    0.000005170838448975701,
                    0.000005136590061738389,
                    0.0000050139678933192044,
                    0.0000049978625611402094,
                    0.000004937853645969881,
                    0.000004925103439745726,
                    0.0000048906681513471995,
                    0.000004859938144363696,
                    0.000004858663942286512,
                    0.000004849983724852791,
                    0.000004828816599911079,
                    0.000004804825039173011,
                    0.000004775269189849496,
                    0.000004747897492052289,
                    0.0000046798809307802,
                    0.000004676789558288874,
                    0.000004672496288549155,
                    0.000004546197487798054,
                    0.000004499914666666882,
                    0.000004497416284721112,
                    0.000004496846941037802,
                    0.00000448414448328549,
                    0.000004461260232346831,
                    0.0000044538837755681016,
                    0.000004412944690557197,
                    0.000004399138106236933,
                    0.00000439618679592968,
                    0.0000043804748202092014,
                    0.0000043765089685621206,
                    0.00000436414029536536,
                    0.0000043608042687992565,
                    0.000004357125362730585,
                    0.000004347421054262668,
                    0.000004328745035309112,
                    0.000004282041118131019,
                    0.000004271747002349002,
                    0.000004255225121596595,
                    0.000004253579390933737,
                    0.000004252288817951921,
                    0.0000042500009840296116,
                    0.000004243102011969313,
                    0.000004231962066114647,
                    0.000004228939815220656,
                    0.000004181051735940855,
                    0.000004137319137953455,
                    0.000004093143616046291,
                    0.000004064011591253802,
                    0.000004039774466946255,
                    0.000004038426141050877,
                    0.000004032929609820712,
                    0.000003968093551520724,
                    0.000003967596512666205,
                    0.000003964615643781144,
                    0.000003951263352064416,
                    0.000003945534444937948,
                    0.0000035457310332276393,
                    0.0000034488828077883227
                  ],
                  "y": [
                    0.000007500116225855891,
                    0.000006881645276735071,
                    0.000007661691597604658,
                    0.000007391236977127846,
                    0.000007434501185343834,
                    0.000007109931175364181,
                    0.000006502671112684766,
                    0.000007005797669989988,
                    0.000007098689366102917,
                    0.00000626161408945336,
                    0.000006241131359274732,
                    0.000005995420451654354,
                    0.000006632643362536328,
                    0.0000062944600358605385,
                    0.000006098413905419875,
                    0.000005870408585906262,
                    0.00000623290179646574,
                    0.0000068298832047730684,
                    0.000006896755166962976,
                    0.000005499026428879006,
                    0.000005982210495858453,
                    0.00000591904426983092,
                    0.000005585536655416945,
                    0.000006402569397323532,
                    0.000005456488452182384,
                    0.000005667878667736659,
                    0.000005403478098742198,
                    0.000005811826213175664,
                    0.000006607901468669297,
                    0.0000054648744480800815,
                    0.000006653859600191936,
                    0.000005239094207354356,
                    0.000006264418516366277,
                    0.000005339220479072537,
                    0.000005332367436494678,
                    0.000005193462584429653,
                    0.000006954809578019194,
                    0.000005121900812810054,
                    0.000005228459485806525,
                    0.000005107292054162826,
                    0.0000050382400331727695,
                    0.0000064513683355471585,
                    0.000005460581178340362,
                    0.000004927493591821985,
                    0.000004893239747616462,
                    0.0000052334830797917675,
                    0.000005400986538006691,
                    0.000004929129318043124,
                    0.000006088809641369153,
                    0.000005057596354163252,
                    0.0000047067956074897666,
                    0.000004644368345907424,
                    0.000005371503448259318,
                    0.000004879388598055812,
                    0.000005089837941341102,
                    0.000005136187155585503,
                    0.000004862909008807037,
                    0.000004595653990691062,
                    0.000005290673470881302,
                    0.000004921428171655862,
                    0.000005068710834166268,
                    0.0000048499341573915444,
                    0.000005218994374445174,
                    0.000004950521997670876,
                    0.000004646626166504575,
                    0.00000446951889898628,
                    0.0000048510355554753914,
                    0.000005025793143431656,
                    0.000005480309937411221,
                    0.000004814350177184679,
                    0.000005615634108835366,
                    0.000004762972821481526,
                    0.000005223300377110718,
                    0.000005453912763186963,
                    0.0000055781647461117245,
                    0.000005488044735102449,
                    0.000005068710834166268,
                    0.000005547020464291563,
                    0.000004207476195006166,
                    0.000005250472895568237,
                    0.000004315385012887418,
                    0.000004302416527934838,
                    0.000005601679276878713,
                    0.000004826523309020558,
                    0.000004669725512940204,
                    0.000004826541953661945,
                    0.000005593846253759693,
                    0.000004358728801889811,
                    0.000004232781066093594,
                    0.0000037353338484535925
                  ]
                },
                {
                  "hoverinfo": "text",
                  "hovertext": [
                    "(8.021556823223364e-06, 8.035172868403606e-06)",
                    "(7.842148988856934e-06, 7.900097443780396e-06)",
                    "(7.417382676067064e-06, 7.633753739355598e-06)",
                    "(7.283751529030269e-06, 7.368368187599117e-06)",
                    "(7.176129656727426e-06, 7.68159679864766e-06)",
                    "(7.1140279942483176e-06, 7.636084774276242e-06)",
                    "(6.722507350787055e-06, 7.1062017923395615e-06)",
                    "(6.691562703053933e-06, 6.760786163795274e-06)",
                    "(6.642573225690285e-06, 6.648199814662803e-06)",
                    "(6.614931862714002e-06, 6.648199814662803e-06)",
                    "(6.524922355310991e-06, 6.72801434120629e-06)",
                    "(6.458118605223717e-06, 6.559499070135644e-06)",
                    "(6.357784968713531e-06, 6.4328119151468854e-06)",
                    "(6.273164672165876e-06, 6.3242437136068475e-06)",
                    "(6.110152298788307e-06, 6.1717732933175284e-06)",
                    "(6.074560587876476e-06, 6.1427826949511655e-06)",
                    "(6.0231195675441995e-06, 6.337126706057461e-06)",
                    "(6.016056886437582e-06, 6.179707270348445e-06)",
                    "(5.991639227431733e-06, 6.078015303501161e-06)",
                    "(5.959333066130057e-06, 5.976396096230019e-06)",
                    "(5.945801603957079e-06, 6.524609943880932e-06)",
                    "(5.9280937421135604e-06, 6.222000592970289e-06)",
                    "(5.911517746426398e-06, 6.008148830005666e-06)",
                    "(5.841672646056395e-06, 6.269417099247221e-06)",
                    "(5.8036644077219535e-06, 6.617606686631916e-06)",
                    "(5.786718247691169e-06, 6.019309239491122e-06)",
                    "(5.762842647527577e-06, 6.019309239491122e-06)",
                    "(5.718874945159769e-06, 5.893768957321299e-06)",
                    "(5.637552931148093e-06, 6.2111093939165585e-06)",
                    "(5.637552931148093e-06, 5.790966497443151e-06)",
                    "(5.613082521449542e-06, 6.562589987879619e-06)",
                    "(5.521016191778472e-06, 5.596779374172911e-06)",
                    "(5.108158347866265e-06, 5.574102033278905e-06)",
                    "(5.105624950374477e-06, 5.137535026733531e-06)"
                  ],
                  "mode": "markers",
                  "name": "H2",
                  "type": "scatter",
                  "x": [
                    0.000008021556823223364,
                    0.000007842148988856934,
                    0.000007417382676067064,
                    0.000007283751529030269,
                    0.000007176129656727426,
                    0.0000071140279942483176,
                    0.000006722507350787055,
                    0.000006691562703053933,
                    0.000006642573225690285,
                    0.000006614931862714002,
                    0.000006524922355310991,
                    0.000006458118605223717,
                    0.000006357784968713531,
                    0.000006273164672165876,
                    0.000006110152298788307,
                    0.000006074560587876476,
                    0.0000060231195675441995,
                    0.000006016056886437582,
                    0.000005991639227431733,
                    0.000005959333066130057,
                    0.000005945801603957079,
                    0.0000059280937421135604,
                    0.000005911517746426398,
                    0.000005841672646056395,
                    0.0000058036644077219535,
                    0.000005786718247691169,
                    0.000005762842647527577,
                    0.000005718874945159769,
                    0.000005637552931148093,
                    0.000005637552931148093,
                    0.000005613082521449542,
                    0.000005521016191778472,
                    0.000005108158347866265,
                    0.000005105624950374477
                  ],
                  "y": [
                    0.000008035172868403606,
                    0.000007900097443780396,
                    0.000007633753739355598,
                    0.000007368368187599117,
                    0.00000768159679864766,
                    0.000007636084774276242,
                    0.0000071062017923395615,
                    0.000006760786163795274,
                    0.000006648199814662803,
                    0.000006648199814662803,
                    0.00000672801434120629,
                    0.000006559499070135644,
                    0.0000064328119151468854,
                    0.0000063242437136068475,
                    0.0000061717732933175284,
                    0.0000061427826949511655,
                    0.000006337126706057461,
                    0.000006179707270348445,
                    0.000006078015303501161,
                    0.000005976396096230019,
                    0.000006524609943880932,
                    0.000006222000592970289,
                    0.000006008148830005666,
                    0.000006269417099247221,
                    0.000006617606686631916,
                    0.000006019309239491122,
                    0.000006019309239491122,
                    0.000005893768957321299,
                    0.0000062111093939165585,
                    0.000005790966497443151,
                    0.000006562589987879619,
                    0.000005596779374172911,
                    0.000005574102033278905,
                    0.000005137535026733531
                  ]
                }
              ],
              "layout": {
                "height": 500,
                "plot_bgcolor": "white",
                "template": {
                  "data": {
                    "bar": [
                      {
                        "error_x": {
                          "color": "#2a3f5f"
                        },
                        "error_y": {
                          "color": "#2a3f5f"
                        },
                        "marker": {
                          "line": {
                            "color": "#E5ECF6",
                            "width": 0.5
                          },
                          "pattern": {
                            "fillmode": "overlay",
                            "size": 10,
                            "solidity": 0.2
                          }
                        },
                        "type": "bar"
                      }
                    ],
                    "barpolar": [
                      {
                        "marker": {
                          "line": {
                            "color": "#E5ECF6",
                            "width": 0.5
                          },
                          "pattern": {
                            "fillmode": "overlay",
                            "size": 10,
                            "solidity": 0.2
                          }
                        },
                        "type": "barpolar"
                      }
                    ],
                    "carpet": [
                      {
                        "aaxis": {
                          "endlinecolor": "#2a3f5f",
                          "gridcolor": "white",
                          "linecolor": "white",
                          "minorgridcolor": "white",
                          "startlinecolor": "#2a3f5f"
                        },
                        "baxis": {
                          "endlinecolor": "#2a3f5f",
                          "gridcolor": "white",
                          "linecolor": "white",
                          "minorgridcolor": "white",
                          "startlinecolor": "#2a3f5f"
                        },
                        "type": "carpet"
                      }
                    ],
                    "choropleth": [
                      {
                        "colorbar": {
                          "outlinewidth": 0,
                          "ticks": ""
                        },
                        "type": "choropleth"
                      }
                    ],
                    "contour": [
                      {
                        "colorbar": {
                          "outlinewidth": 0,
                          "ticks": ""
                        },
                        "colorscale": [
                          [
                            0,
                            "#0d0887"
                          ],
                          [
                            0.1111111111111111,
                            "#46039f"
                          ],
                          [
                            0.2222222222222222,
                            "#7201a8"
                          ],
                          [
                            0.3333333333333333,
                            "#9c179e"
                          ],
                          [
                            0.4444444444444444,
                            "#bd3786"
                          ],
                          [
                            0.5555555555555556,
                            "#d8576b"
                          ],
                          [
                            0.6666666666666666,
                            "#ed7953"
                          ],
                          [
                            0.7777777777777778,
                            "#fb9f3a"
                          ],
                          [
                            0.8888888888888888,
                            "#fdca26"
                          ],
                          [
                            1,
                            "#f0f921"
                          ]
                        ],
                        "type": "contour"
                      }
                    ],
                    "contourcarpet": [
                      {
                        "colorbar": {
                          "outlinewidth": 0,
                          "ticks": ""
                        },
                        "type": "contourcarpet"
                      }
                    ],
                    "heatmap": [
                      {
                        "colorbar": {
                          "outlinewidth": 0,
                          "ticks": ""
                        },
                        "colorscale": [
                          [
                            0,
                            "#0d0887"
                          ],
                          [
                            0.1111111111111111,
                            "#46039f"
                          ],
                          [
                            0.2222222222222222,
                            "#7201a8"
                          ],
                          [
                            0.3333333333333333,
                            "#9c179e"
                          ],
                          [
                            0.4444444444444444,
                            "#bd3786"
                          ],
                          [
                            0.5555555555555556,
                            "#d8576b"
                          ],
                          [
                            0.6666666666666666,
                            "#ed7953"
                          ],
                          [
                            0.7777777777777778,
                            "#fb9f3a"
                          ],
                          [
                            0.8888888888888888,
                            "#fdca26"
                          ],
                          [
                            1,
                            "#f0f921"
                          ]
                        ],
                        "type": "heatmap"
                      }
                    ],
                    "heatmapgl": [
                      {
                        "colorbar": {
                          "outlinewidth": 0,
                          "ticks": ""
                        },
                        "colorscale": [
                          [
                            0,
                            "#0d0887"
                          ],
                          [
                            0.1111111111111111,
                            "#46039f"
                          ],
                          [
                            0.2222222222222222,
                            "#7201a8"
                          ],
                          [
                            0.3333333333333333,
                            "#9c179e"
                          ],
                          [
                            0.4444444444444444,
                            "#bd3786"
                          ],
                          [
                            0.5555555555555556,
                            "#d8576b"
                          ],
                          [
                            0.6666666666666666,
                            "#ed7953"
                          ],
                          [
                            0.7777777777777778,
                            "#fb9f3a"
                          ],
                          [
                            0.8888888888888888,
                            "#fdca26"
                          ],
                          [
                            1,
                            "#f0f921"
                          ]
                        ],
                        "type": "heatmapgl"
                      }
                    ],
                    "histogram": [
                      {
                        "marker": {
                          "pattern": {
                            "fillmode": "overlay",
                            "size": 10,
                            "solidity": 0.2
                          }
                        },
                        "type": "histogram"
                      }
                    ],
                    "histogram2d": [
                      {
                        "colorbar": {
                          "outlinewidth": 0,
                          "ticks": ""
                        },
                        "colorscale": [
                          [
                            0,
                            "#0d0887"
                          ],
                          [
                            0.1111111111111111,
                            "#46039f"
                          ],
                          [
                            0.2222222222222222,
                            "#7201a8"
                          ],
                          [
                            0.3333333333333333,
                            "#9c179e"
                          ],
                          [
                            0.4444444444444444,
                            "#bd3786"
                          ],
                          [
                            0.5555555555555556,
                            "#d8576b"
                          ],
                          [
                            0.6666666666666666,
                            "#ed7953"
                          ],
                          [
                            0.7777777777777778,
                            "#fb9f3a"
                          ],
                          [
                            0.8888888888888888,
                            "#fdca26"
                          ],
                          [
                            1,
                            "#f0f921"
                          ]
                        ],
                        "type": "histogram2d"
                      }
                    ],
                    "histogram2dcontour": [
                      {
                        "colorbar": {
                          "outlinewidth": 0,
                          "ticks": ""
                        },
                        "colorscale": [
                          [
                            0,
                            "#0d0887"
                          ],
                          [
                            0.1111111111111111,
                            "#46039f"
                          ],
                          [
                            0.2222222222222222,
                            "#7201a8"
                          ],
                          [
                            0.3333333333333333,
                            "#9c179e"
                          ],
                          [
                            0.4444444444444444,
                            "#bd3786"
                          ],
                          [
                            0.5555555555555556,
                            "#d8576b"
                          ],
                          [
                            0.6666666666666666,
                            "#ed7953"
                          ],
                          [
                            0.7777777777777778,
                            "#fb9f3a"
                          ],
                          [
                            0.8888888888888888,
                            "#fdca26"
                          ],
                          [
                            1,
                            "#f0f921"
                          ]
                        ],
                        "type": "histogram2dcontour"
                      }
                    ],
                    "mesh3d": [
                      {
                        "colorbar": {
                          "outlinewidth": 0,
                          "ticks": ""
                        },
                        "type": "mesh3d"
                      }
                    ],
                    "parcoords": [
                      {
                        "line": {
                          "colorbar": {
                            "outlinewidth": 0,
                            "ticks": ""
                          }
                        },
                        "type": "parcoords"
                      }
                    ],
                    "pie": [
                      {
                        "automargin": true,
                        "type": "pie"
                      }
                    ],
                    "scatter": [
                      {
                        "fillpattern": {
                          "fillmode": "overlay",
                          "size": 10,
                          "solidity": 0.2
                        },
                        "type": "scatter"
                      }
                    ],
                    "scatter3d": [
                      {
                        "line": {
                          "colorbar": {
                            "outlinewidth": 0,
                            "ticks": ""
                          }
                        },
                        "marker": {
                          "colorbar": {
                            "outlinewidth": 0,
                            "ticks": ""
                          }
                        },
                        "type": "scatter3d"
                      }
                    ],
                    "scattercarpet": [
                      {
                        "marker": {
                          "colorbar": {
                            "outlinewidth": 0,
                            "ticks": ""
                          }
                        },
                        "type": "scattercarpet"
                      }
                    ],
                    "scattergeo": [
                      {
                        "marker": {
                          "colorbar": {
                            "outlinewidth": 0,
                            "ticks": ""
                          }
                        },
                        "type": "scattergeo"
                      }
                    ],
                    "scattergl": [
                      {
                        "marker": {
                          "colorbar": {
                            "outlinewidth": 0,
                            "ticks": ""
                          }
                        },
                        "type": "scattergl"
                      }
                    ],
                    "scattermapbox": [
                      {
                        "marker": {
                          "colorbar": {
                            "outlinewidth": 0,
                            "ticks": ""
                          }
                        },
                        "type": "scattermapbox"
                      }
                    ],
                    "scatterpolar": [
                      {
                        "marker": {
                          "colorbar": {
                            "outlinewidth": 0,
                            "ticks": ""
                          }
                        },
                        "type": "scatterpolar"
                      }
                    ],
                    "scatterpolargl": [
                      {
                        "marker": {
                          "colorbar": {
                            "outlinewidth": 0,
                            "ticks": ""
                          }
                        },
                        "type": "scatterpolargl"
                      }
                    ],
                    "scatterternary": [
                      {
                        "marker": {
                          "colorbar": {
                            "outlinewidth": 0,
                            "ticks": ""
                          }
                        },
                        "type": "scatterternary"
                      }
                    ],
                    "surface": [
                      {
                        "colorbar": {
                          "outlinewidth": 0,
                          "ticks": ""
                        },
                        "colorscale": [
                          [
                            0,
                            "#0d0887"
                          ],
                          [
                            0.1111111111111111,
                            "#46039f"
                          ],
                          [
                            0.2222222222222222,
                            "#7201a8"
                          ],
                          [
                            0.3333333333333333,
                            "#9c179e"
                          ],
                          [
                            0.4444444444444444,
                            "#bd3786"
                          ],
                          [
                            0.5555555555555556,
                            "#d8576b"
                          ],
                          [
                            0.6666666666666666,
                            "#ed7953"
                          ],
                          [
                            0.7777777777777778,
                            "#fb9f3a"
                          ],
                          [
                            0.8888888888888888,
                            "#fdca26"
                          ],
                          [
                            1,
                            "#f0f921"
                          ]
                        ],
                        "type": "surface"
                      }
                    ],
                    "table": [
                      {
                        "cells": {
                          "fill": {
                            "color": "#EBF0F8"
                          },
                          "line": {
                            "color": "white"
                          }
                        },
                        "header": {
                          "fill": {
                            "color": "#C8D4E3"
                          },
                          "line": {
                            "color": "white"
                          }
                        },
                        "type": "table"
                      }
                    ]
                  },
                  "layout": {
                    "annotationdefaults": {
                      "arrowcolor": "#2a3f5f",
                      "arrowhead": 0,
                      "arrowwidth": 1
                    },
                    "autotypenumbers": "strict",
                    "coloraxis": {
                      "colorbar": {
                        "outlinewidth": 0,
                        "ticks": ""
                      }
                    },
                    "colorscale": {
                      "diverging": [
                        [
                          0,
                          "#8e0152"
                        ],
                        [
                          0.1,
                          "#c51b7d"
                        ],
                        [
                          0.2,
                          "#de77ae"
                        ],
                        [
                          0.3,
                          "#f1b6da"
                        ],
                        [
                          0.4,
                          "#fde0ef"
                        ],
                        [
                          0.5,
                          "#f7f7f7"
                        ],
                        [
                          0.6,
                          "#e6f5d0"
                        ],
                        [
                          0.7,
                          "#b8e186"
                        ],
                        [
                          0.8,
                          "#7fbc41"
                        ],
                        [
                          0.9,
                          "#4d9221"
                        ],
                        [
                          1,
                          "#276419"
                        ]
                      ],
                      "sequential": [
                        [
                          0,
                          "#0d0887"
                        ],
                        [
                          0.1111111111111111,
                          "#46039f"
                        ],
                        [
                          0.2222222222222222,
                          "#7201a8"
                        ],
                        [
                          0.3333333333333333,
                          "#9c179e"
                        ],
                        [
                          0.4444444444444444,
                          "#bd3786"
                        ],
                        [
                          0.5555555555555556,
                          "#d8576b"
                        ],
                        [
                          0.6666666666666666,
                          "#ed7953"
                        ],
                        [
                          0.7777777777777778,
                          "#fb9f3a"
                        ],
                        [
                          0.8888888888888888,
                          "#fdca26"
                        ],
                        [
                          1,
                          "#f0f921"
                        ]
                      ],
                      "sequentialminus": [
                        [
                          0,
                          "#0d0887"
                        ],
                        [
                          0.1111111111111111,
                          "#46039f"
                        ],
                        [
                          0.2222222222222222,
                          "#7201a8"
                        ],
                        [
                          0.3333333333333333,
                          "#9c179e"
                        ],
                        [
                          0.4444444444444444,
                          "#bd3786"
                        ],
                        [
                          0.5555555555555556,
                          "#d8576b"
                        ],
                        [
                          0.6666666666666666,
                          "#ed7953"
                        ],
                        [
                          0.7777777777777778,
                          "#fb9f3a"
                        ],
                        [
                          0.8888888888888888,
                          "#fdca26"
                        ],
                        [
                          1,
                          "#f0f921"
                        ]
                      ]
                    },
                    "colorway": [
                      "#636efa",
                      "#EF553B",
                      "#00cc96",
                      "#ab63fa",
                      "#FFA15A",
                      "#19d3f3",
                      "#FF6692",
                      "#B6E880",
                      "#FF97FF",
                      "#FECB52"
                    ],
                    "font": {
                      "color": "#2a3f5f"
                    },
                    "geo": {
                      "bgcolor": "white",
                      "lakecolor": "white",
                      "landcolor": "#E5ECF6",
                      "showlakes": true,
                      "showland": true,
                      "subunitcolor": "white"
                    },
                    "hoverlabel": {
                      "align": "left"
                    },
                    "hovermode": "closest",
                    "mapbox": {
                      "style": "light"
                    },
                    "paper_bgcolor": "white",
                    "plot_bgcolor": "#E5ECF6",
                    "polar": {
                      "angularaxis": {
                        "gridcolor": "white",
                        "linecolor": "white",
                        "ticks": ""
                      },
                      "bgcolor": "#E5ECF6",
                      "radialaxis": {
                        "gridcolor": "white",
                        "linecolor": "white",
                        "ticks": ""
                      }
                    },
                    "scene": {
                      "xaxis": {
                        "backgroundcolor": "#E5ECF6",
                        "gridcolor": "white",
                        "gridwidth": 2,
                        "linecolor": "white",
                        "showbackground": true,
                        "ticks": "",
                        "zerolinecolor": "white"
                      },
                      "yaxis": {
                        "backgroundcolor": "#E5ECF6",
                        "gridcolor": "white",
                        "gridwidth": 2,
                        "linecolor": "white",
                        "showbackground": true,
                        "ticks": "",
                        "zerolinecolor": "white"
                      },
                      "zaxis": {
                        "backgroundcolor": "#E5ECF6",
                        "gridcolor": "white",
                        "gridwidth": 2,
                        "linecolor": "white",
                        "showbackground": true,
                        "ticks": "",
                        "zerolinecolor": "white"
                      }
                    },
                    "shapedefaults": {
                      "line": {
                        "color": "#2a3f5f"
                      }
                    },
                    "ternary": {
                      "aaxis": {
                        "gridcolor": "white",
                        "linecolor": "white",
                        "ticks": ""
                      },
                      "baxis": {
                        "gridcolor": "white",
                        "linecolor": "white",
                        "ticks": ""
                      },
                      "bgcolor": "#E5ECF6",
                      "caxis": {
                        "gridcolor": "white",
                        "linecolor": "white",
                        "ticks": ""
                      }
                    },
                    "title": {
                      "x": 0.05
                    },
                    "xaxis": {
                      "automargin": true,
                      "gridcolor": "white",
                      "linecolor": "white",
                      "ticks": "",
                      "title": {
                        "standoff": 15
                      },
                      "zerolinecolor": "white",
                      "zerolinewidth": 2
                    },
                    "yaxis": {
                      "automargin": true,
                      "gridcolor": "white",
                      "linecolor": "white",
                      "ticks": "",
                      "title": {
                        "standoff": 15
                      },
                      "zerolinecolor": "white",
                      "zerolinewidth": 2
                    }
                  }
                },
                "width": 500,
                "xaxis": {
                  "autorange": false,
                  "exponentformat": "e",
                  "linecolor": "black",
                  "linewidth": 1,
                  "mirror": false,
                  "range": [
                    0.000003357157006576017,
                    0.000008126898669615913
                  ],
                  "showexponent": "all",
                  "showline": true,
                  "side": "bottom",
                  "ticks": "outside",
                  "title": {
                    "text": "Birth"
                  },
                  "type": "linear",
                  "zeroline": true
                },
                "yaxis": {
                  "autorange": false,
                  "exponentformat": "e",
                  "linecolor": "black",
                  "linewidth": 1,
                  "mirror": false,
                  "range": [
                    0.000003357157006576017,
                    0.000008126898669615913
                  ],
                  "scaleanchor": "x",
                  "scaleratio": 1,
                  "showexponent": "all",
                  "showline": true,
                  "side": "left",
                  "ticks": "outside",
                  "title": {
                    "text": "Death"
                  },
                  "type": "linear",
                  "zeroline": true
                }
              }
            }
          },
          "metadata": {},
          "output_type": "display_data"
        }
      ],
      "source": [
        "channel_diagram_plot = gtda.plotting.plot_diagram(channel_diagrams[print_obj])\n",
        "display(channel_diagram_plot)\n",
        "channel_diagram_plot.write_image(file = f\"{subj}/{exp}/channel_diagram.svg\", format = \"svg\")"
      ]
    },
    {
      "cell_type": "markdown",
      "metadata": {},
      "source": [
        "#### FeatureCalculator"
      ]
    },
    {
      "cell_type": "code",
      "execution_count": null,
      "metadata": {},
      "outputs": [
        {
          "name": "stdout",
          "output_type": "stream",
          "text": [
            "Filtered diagrams: (41840, 180, 3)\n",
            "N bins: 100\n"
          ]
        },
        {
          "name": "stderr",
          "output_type": "stream",
          "text": [
            " betti: 100%|██████████| 41840/41840 [01:15<00:00, 555.57it/s]\n",
            " landscape: 100%|██████████| 41840/41840 [01:16<00:00, 545.39it/s]\n",
            " silhouette-1: 100%|██████████| 41840/41840 [01:18<00:00, 535.88it/s]\n",
            " silhouette-2: 100%|██████████| 41840/41840 [01:24<00:00, 496.85it/s]\n",
            " amplitudes: 100%|██████████| 13/13 [01:18<00:00,  6.06s/it]\n",
            " lifetime: 100%|██████████| 41840/41840 [04:04<00:00, 171.01it/s]\n"
          ]
        },
        {
          "data": {
            "text/html": [
              "<div>\n",
              "<style scoped>\n",
              "    .dataframe tbody tr th:only-of-type {\n",
              "        vertical-align: middle;\n",
              "    }\n",
              "\n",
              "    .dataframe tbody tr th {\n",
              "        vertical-align: top;\n",
              "    }\n",
              "\n",
              "    .dataframe thead th {\n",
              "        text-align: right;\n",
              "    }\n",
              "</style>\n",
              "<table border=\"1\" class=\"dataframe\">\n",
              "  <thead>\n",
              "    <tr style=\"text-align: right;\">\n",
              "      <th></th>\n",
              "      <th>channel-0 betti dim-1 max</th>\n",
              "      <th>channel-0 betti dim-1 mean</th>\n",
              "      <th>channel-0 betti dim-1 std</th>\n",
              "      <th>channel-0 betti dim-1 sum</th>\n",
              "      <th>channel-0 betti dim-1 percentile-25</th>\n",
              "      <th>channel-0 betti dim-1 median</th>\n",
              "      <th>channel-0 betti dim-1 percentile-75</th>\n",
              "      <th>channel-0 betti dim-1 kurtosis</th>\n",
              "      <th>channel-0 betti dim-1 skew</th>\n",
              "      <th>channel-0 betti dim-1 norm-1</th>\n",
              "      <th>...</th>\n",
              "      <th>channel-39 bd2 dim-2 mean</th>\n",
              "      <th>channel-39 bd2 dim-2 std</th>\n",
              "      <th>channel-39 bd2 dim-2 sum</th>\n",
              "      <th>channel-39 bd2 dim-2 percentile-25</th>\n",
              "      <th>channel-39 bd2 dim-2 median</th>\n",
              "      <th>channel-39 bd2 dim-2 percentile-75</th>\n",
              "      <th>channel-39 bd2 dim-2 kurtosis</th>\n",
              "      <th>channel-39 bd2 dim-2 skew</th>\n",
              "      <th>channel-39 bd2 dim-2 norm-1</th>\n",
              "      <th>channel-39 bd2 dim-2 norm-2</th>\n",
              "    </tr>\n",
              "  </thead>\n",
              "  <tbody>\n",
              "    <tr>\n",
              "      <th>0</th>\n",
              "      <td>20.00</td>\n",
              "      <td>0.00</td>\n",
              "      <td>3.08</td>\n",
              "      <td>0.00</td>\n",
              "      <td>0.00</td>\n",
              "      <td>0.00</td>\n",
              "      <td>0.00</td>\n",
              "      <td>22.65</td>\n",
              "      <td>1.98</td>\n",
              "      <td>74.00</td>\n",
              "      <td>...</td>\n",
              "      <td>0.00</td>\n",
              "      <td>0.00</td>\n",
              "      <td>0.00</td>\n",
              "      <td>0.00</td>\n",
              "      <td>0.00</td>\n",
              "      <td>0.00</td>\n",
              "      <td>-0.91</td>\n",
              "      <td>-0.49</td>\n",
              "      <td>0.00</td>\n",
              "      <td>0.00</td>\n",
              "    </tr>\n",
              "    <tr>\n",
              "      <th>1</th>\n",
              "      <td>25.00</td>\n",
              "      <td>0.00</td>\n",
              "      <td>3.63</td>\n",
              "      <td>0.00</td>\n",
              "      <td>0.00</td>\n",
              "      <td>0.00</td>\n",
              "      <td>0.00</td>\n",
              "      <td>36.29</td>\n",
              "      <td>0.72</td>\n",
              "      <td>74.00</td>\n",
              "      <td>...</td>\n",
              "      <td>0.00</td>\n",
              "      <td>0.00</td>\n",
              "      <td>0.00</td>\n",
              "      <td>0.00</td>\n",
              "      <td>0.00</td>\n",
              "      <td>0.00</td>\n",
              "      <td>-1.22</td>\n",
              "      <td>0.75</td>\n",
              "      <td>0.00</td>\n",
              "      <td>0.00</td>\n",
              "    </tr>\n",
              "    <tr>\n",
              "      <th>2</th>\n",
              "      <td>14.00</td>\n",
              "      <td>0.00</td>\n",
              "      <td>2.52</td>\n",
              "      <td>0.00</td>\n",
              "      <td>0.00</td>\n",
              "      <td>0.00</td>\n",
              "      <td>0.00</td>\n",
              "      <td>21.62</td>\n",
              "      <td>1.42</td>\n",
              "      <td>62.00</td>\n",
              "      <td>...</td>\n",
              "      <td>0.00</td>\n",
              "      <td>0.00</td>\n",
              "      <td>0.00</td>\n",
              "      <td>0.00</td>\n",
              "      <td>0.00</td>\n",
              "      <td>0.00</td>\n",
              "      <td>3.51</td>\n",
              "      <td>2.26</td>\n",
              "      <td>0.00</td>\n",
              "      <td>0.00</td>\n",
              "    </tr>\n",
              "    <tr>\n",
              "      <th>3</th>\n",
              "      <td>10.00</td>\n",
              "      <td>0.00</td>\n",
              "      <td>1.87</td>\n",
              "      <td>0.00</td>\n",
              "      <td>0.00</td>\n",
              "      <td>0.00</td>\n",
              "      <td>0.00</td>\n",
              "      <td>24.06</td>\n",
              "      <td>-0.87</td>\n",
              "      <td>50.00</td>\n",
              "      <td>...</td>\n",
              "      <td>0.00</td>\n",
              "      <td>0.00</td>\n",
              "      <td>0.00</td>\n",
              "      <td>0.00</td>\n",
              "      <td>0.00</td>\n",
              "      <td>0.00</td>\n",
              "      <td>-0.35</td>\n",
              "      <td>0.51</td>\n",
              "      <td>0.00</td>\n",
              "      <td>0.00</td>\n",
              "    </tr>\n",
              "    <tr>\n",
              "      <th>4</th>\n",
              "      <td>6.00</td>\n",
              "      <td>0.00</td>\n",
              "      <td>1.61</td>\n",
              "      <td>0.00</td>\n",
              "      <td>0.00</td>\n",
              "      <td>0.00</td>\n",
              "      <td>0.00</td>\n",
              "      <td>19.21</td>\n",
              "      <td>-2.15</td>\n",
              "      <td>44.00</td>\n",
              "      <td>...</td>\n",
              "      <td>0.00</td>\n",
              "      <td>0.00</td>\n",
              "      <td>0.00</td>\n",
              "      <td>0.00</td>\n",
              "      <td>0.00</td>\n",
              "      <td>0.00</td>\n",
              "      <td>-1.43</td>\n",
              "      <td>0.63</td>\n",
              "      <td>0.00</td>\n",
              "      <td>0.00</td>\n",
              "    </tr>\n",
              "    <tr>\n",
              "      <th>...</th>\n",
              "      <td>...</td>\n",
              "      <td>...</td>\n",
              "      <td>...</td>\n",
              "      <td>...</td>\n",
              "      <td>...</td>\n",
              "      <td>...</td>\n",
              "      <td>...</td>\n",
              "      <td>...</td>\n",
              "      <td>...</td>\n",
              "      <td>...</td>\n",
              "      <td>...</td>\n",
              "      <td>...</td>\n",
              "      <td>...</td>\n",
              "      <td>...</td>\n",
              "      <td>...</td>\n",
              "      <td>...</td>\n",
              "      <td>...</td>\n",
              "      <td>...</td>\n",
              "      <td>...</td>\n",
              "      <td>...</td>\n",
              "      <td>...</td>\n",
              "    </tr>\n",
              "    <tr>\n",
              "      <th>1041</th>\n",
              "      <td>13.00</td>\n",
              "      <td>0.00</td>\n",
              "      <td>1.69</td>\n",
              "      <td>0.00</td>\n",
              "      <td>0.00</td>\n",
              "      <td>0.00</td>\n",
              "      <td>0.00</td>\n",
              "      <td>34.35</td>\n",
              "      <td>3.92</td>\n",
              "      <td>48.00</td>\n",
              "      <td>...</td>\n",
              "      <td>0.00</td>\n",
              "      <td>0.00</td>\n",
              "      <td>0.00</td>\n",
              "      <td>0.00</td>\n",
              "      <td>0.00</td>\n",
              "      <td>0.00</td>\n",
              "      <td>-1.05</td>\n",
              "      <td>0.10</td>\n",
              "      <td>0.00</td>\n",
              "      <td>0.00</td>\n",
              "    </tr>\n",
              "    <tr>\n",
              "      <th>1042</th>\n",
              "      <td>6.00</td>\n",
              "      <td>0.00</td>\n",
              "      <td>0.95</td>\n",
              "      <td>0.00</td>\n",
              "      <td>0.00</td>\n",
              "      <td>0.00</td>\n",
              "      <td>0.00</td>\n",
              "      <td>18.19</td>\n",
              "      <td>1.89</td>\n",
              "      <td>30.00</td>\n",
              "      <td>...</td>\n",
              "      <td>0.00</td>\n",
              "      <td>0.00</td>\n",
              "      <td>0.00</td>\n",
              "      <td>0.00</td>\n",
              "      <td>0.00</td>\n",
              "      <td>0.00</td>\n",
              "      <td>-0.68</td>\n",
              "      <td>1.13</td>\n",
              "      <td>0.00</td>\n",
              "      <td>0.00</td>\n",
              "    </tr>\n",
              "    <tr>\n",
              "      <th>1043</th>\n",
              "      <td>12.00</td>\n",
              "      <td>0.00</td>\n",
              "      <td>1.85</td>\n",
              "      <td>0.00</td>\n",
              "      <td>0.00</td>\n",
              "      <td>0.00</td>\n",
              "      <td>0.00</td>\n",
              "      <td>24.86</td>\n",
              "      <td>2.85</td>\n",
              "      <td>46.00</td>\n",
              "      <td>...</td>\n",
              "      <td>0.00</td>\n",
              "      <td>0.00</td>\n",
              "      <td>0.00</td>\n",
              "      <td>0.00</td>\n",
              "      <td>0.00</td>\n",
              "      <td>0.00</td>\n",
              "      <td>0.85</td>\n",
              "      <td>1.42</td>\n",
              "      <td>0.00</td>\n",
              "      <td>0.00</td>\n",
              "    </tr>\n",
              "    <tr>\n",
              "      <th>1044</th>\n",
              "      <td>5.00</td>\n",
              "      <td>0.00</td>\n",
              "      <td>0.86</td>\n",
              "      <td>0.00</td>\n",
              "      <td>0.00</td>\n",
              "      <td>0.00</td>\n",
              "      <td>0.00</td>\n",
              "      <td>13.96</td>\n",
              "      <td>1.50</td>\n",
              "      <td>28.00</td>\n",
              "      <td>...</td>\n",
              "      <td>0.00</td>\n",
              "      <td>0.00</td>\n",
              "      <td>0.00</td>\n",
              "      <td>0.00</td>\n",
              "      <td>0.00</td>\n",
              "      <td>0.00</td>\n",
              "      <td>-1.42</td>\n",
              "      <td>0.22</td>\n",
              "      <td>0.00</td>\n",
              "      <td>0.00</td>\n",
              "    </tr>\n",
              "    <tr>\n",
              "      <th>1045</th>\n",
              "      <td>4.00</td>\n",
              "      <td>0.00</td>\n",
              "      <td>0.71</td>\n",
              "      <td>0.00</td>\n",
              "      <td>0.00</td>\n",
              "      <td>0.00</td>\n",
              "      <td>0.00</td>\n",
              "      <td>12.29</td>\n",
              "      <td>1.01</td>\n",
              "      <td>28.00</td>\n",
              "      <td>...</td>\n",
              "      <td>0.00</td>\n",
              "      <td>0.00</td>\n",
              "      <td>0.00</td>\n",
              "      <td>0.00</td>\n",
              "      <td>0.00</td>\n",
              "      <td>0.00</td>\n",
              "      <td>-0.64</td>\n",
              "      <td>0.82</td>\n",
              "      <td>0.00</td>\n",
              "      <td>0.00</td>\n",
              "    </tr>\n",
              "  </tbody>\n",
              "</table>\n",
              "<p>1046 rows × 8400 columns</p>\n",
              "</div>"
            ],
            "text/plain": [
              "      channel-0 betti dim-1 max  channel-0 betti dim-1 mean  \\\n",
              "0                         20.00                        0.00   \n",
              "1                         25.00                        0.00   \n",
              "2                         14.00                        0.00   \n",
              "3                         10.00                        0.00   \n",
              "4                          6.00                        0.00   \n",
              "...                         ...                         ...   \n",
              "1041                      13.00                        0.00   \n",
              "1042                       6.00                        0.00   \n",
              "1043                      12.00                        0.00   \n",
              "1044                       5.00                        0.00   \n",
              "1045                       4.00                        0.00   \n",
              "\n",
              "      channel-0 betti dim-1 std  channel-0 betti dim-1 sum  \\\n",
              "0                          3.08                       0.00   \n",
              "1                          3.63                       0.00   \n",
              "2                          2.52                       0.00   \n",
              "3                          1.87                       0.00   \n",
              "4                          1.61                       0.00   \n",
              "...                         ...                        ...   \n",
              "1041                       1.69                       0.00   \n",
              "1042                       0.95                       0.00   \n",
              "1043                       1.85                       0.00   \n",
              "1044                       0.86                       0.00   \n",
              "1045                       0.71                       0.00   \n",
              "\n",
              "      channel-0 betti dim-1 percentile-25  channel-0 betti dim-1 median  \\\n",
              "0                                    0.00                          0.00   \n",
              "1                                    0.00                          0.00   \n",
              "2                                    0.00                          0.00   \n",
              "3                                    0.00                          0.00   \n",
              "4                                    0.00                          0.00   \n",
              "...                                   ...                           ...   \n",
              "1041                                 0.00                          0.00   \n",
              "1042                                 0.00                          0.00   \n",
              "1043                                 0.00                          0.00   \n",
              "1044                                 0.00                          0.00   \n",
              "1045                                 0.00                          0.00   \n",
              "\n",
              "      channel-0 betti dim-1 percentile-75  channel-0 betti dim-1 kurtosis  \\\n",
              "0                                    0.00                           22.65   \n",
              "1                                    0.00                           36.29   \n",
              "2                                    0.00                           21.62   \n",
              "3                                    0.00                           24.06   \n",
              "4                                    0.00                           19.21   \n",
              "...                                   ...                             ...   \n",
              "1041                                 0.00                           34.35   \n",
              "1042                                 0.00                           18.19   \n",
              "1043                                 0.00                           24.86   \n",
              "1044                                 0.00                           13.96   \n",
              "1045                                 0.00                           12.29   \n",
              "\n",
              "      channel-0 betti dim-1 skew  channel-0 betti dim-1 norm-1  ...  \\\n",
              "0                           1.98                         74.00  ...   \n",
              "1                           0.72                         74.00  ...   \n",
              "2                           1.42                         62.00  ...   \n",
              "3                          -0.87                         50.00  ...   \n",
              "4                          -2.15                         44.00  ...   \n",
              "...                          ...                           ...  ...   \n",
              "1041                        3.92                         48.00  ...   \n",
              "1042                        1.89                         30.00  ...   \n",
              "1043                        2.85                         46.00  ...   \n",
              "1044                        1.50                         28.00  ...   \n",
              "1045                        1.01                         28.00  ...   \n",
              "\n",
              "      channel-39 bd2 dim-2 mean  channel-39 bd2 dim-2 std  \\\n",
              "0                          0.00                      0.00   \n",
              "1                          0.00                      0.00   \n",
              "2                          0.00                      0.00   \n",
              "3                          0.00                      0.00   \n",
              "4                          0.00                      0.00   \n",
              "...                         ...                       ...   \n",
              "1041                       0.00                      0.00   \n",
              "1042                       0.00                      0.00   \n",
              "1043                       0.00                      0.00   \n",
              "1044                       0.00                      0.00   \n",
              "1045                       0.00                      0.00   \n",
              "\n",
              "      channel-39 bd2 dim-2 sum  channel-39 bd2 dim-2 percentile-25  \\\n",
              "0                         0.00                                0.00   \n",
              "1                         0.00                                0.00   \n",
              "2                         0.00                                0.00   \n",
              "3                         0.00                                0.00   \n",
              "4                         0.00                                0.00   \n",
              "...                        ...                                 ...   \n",
              "1041                      0.00                                0.00   \n",
              "1042                      0.00                                0.00   \n",
              "1043                      0.00                                0.00   \n",
              "1044                      0.00                                0.00   \n",
              "1045                      0.00                                0.00   \n",
              "\n",
              "      channel-39 bd2 dim-2 median  channel-39 bd2 dim-2 percentile-75  \\\n",
              "0                            0.00                                0.00   \n",
              "1                            0.00                                0.00   \n",
              "2                            0.00                                0.00   \n",
              "3                            0.00                                0.00   \n",
              "4                            0.00                                0.00   \n",
              "...                           ...                                 ...   \n",
              "1041                         0.00                                0.00   \n",
              "1042                         0.00                                0.00   \n",
              "1043                         0.00                                0.00   \n",
              "1044                         0.00                                0.00   \n",
              "1045                         0.00                                0.00   \n",
              "\n",
              "      channel-39 bd2 dim-2 kurtosis  channel-39 bd2 dim-2 skew  \\\n",
              "0                             -0.91                      -0.49   \n",
              "1                             -1.22                       0.75   \n",
              "2                              3.51                       2.26   \n",
              "3                             -0.35                       0.51   \n",
              "4                             -1.43                       0.63   \n",
              "...                             ...                        ...   \n",
              "1041                          -1.05                       0.10   \n",
              "1042                          -0.68                       1.13   \n",
              "1043                           0.85                       1.42   \n",
              "1044                          -1.42                       0.22   \n",
              "1045                          -0.64                       0.82   \n",
              "\n",
              "      channel-39 bd2 dim-2 norm-1  channel-39 bd2 dim-2 norm-2  \n",
              "0                            0.00                         0.00  \n",
              "1                            0.00                         0.00  \n",
              "2                            0.00                         0.00  \n",
              "3                            0.00                         0.00  \n",
              "4                            0.00                         0.00  \n",
              "...                           ...                          ...  \n",
              "1041                         0.00                         0.00  \n",
              "1042                         0.00                         0.00  \n",
              "1043                         0.00                         0.00  \n",
              "1044                         0.00                         0.00  \n",
              "1045                         0.00                         0.00  \n",
              "\n",
              "[1046 rows x 8400 columns]"
            ]
          },
          "execution_count": 12,
          "metadata": {},
          "output_type": "execute_result"
        }
      ],
      "source": [
        "n_channels = data.shape[1]\n",
        "channel_features_raw = FeatureCalculator().calc_features(channel_diagrams)\n",
        "columns = [ f\"channel-{i}{feature_name}\" for i in range(n_channels) for feature_name in channel_features_raw ]\n",
        "channel_features = pandas.concat([ channel_features_raw.iloc[i::n_channels, :].reset_index(drop = True) for i in range(n_channels) ], axis = 1)\n",
        "channel_features.columns = columns\n",
        "channel_features.to_feather(f\"{subj}/{exp}/channel_features.feather\")\n",
        "channel_features"
      ]
    },
    {
      "cell_type": "markdown",
      "metadata": {},
      "source": [
        "### PearsonDissimilarity"
      ]
    },
    {
      "cell_type": "markdown",
      "metadata": {},
      "source": [
        "#### TakensEmbedding & PearsonDissimilarity"
      ]
    },
    {
      "cell_type": "code",
      "execution_count": null,
      "metadata": {},
      "outputs": [
        {
          "name": "stderr",
          "output_type": "stream",
          "text": [
            "100%|██████████| 1046/1046 [00:01<00:00, 568.71it/s]"
          ]
        },
        {
          "name": "stdout",
          "output_type": "stream",
          "text": [
            "(25104, 40, 40)\n"
          ]
        },
        {
          "name": "stderr",
          "output_type": "stream",
          "text": [
            "\n"
          ]
        }
      ],
      "source": [
        "dissim_matrixes = [ ]\n",
        "for epoch in tqdm.tqdm(data):\n",
        "    dissim_embedding = gtda.time_series.TakensEmbedding(\n",
        "        dimension = DISSIM_DIMENSION,\n",
        "        time_delay = DISSIM_TIME_DELAY,\n",
        "        stride = DISSIM_STRIDE,\n",
        "        flatten = False\n",
        "    )\n",
        "    dissim_windows = dissim_embedding.fit_transform(epoch).transpose(1, 2, 0)\n",
        "    \n",
        "    dissim = gtda.time_series.PearsonDissimilarity()\n",
        "    dissim_matrix = dissim.fit_transform(dissim_windows)\n",
        "    dissim_matrixes.append(dissim_matrix)\n",
        "\n",
        "    epoch_ts = numpy.expand_dims(epoch.transpose(1, 0), 0)\n",
        "    dissim_matrix = dissim.fit_transform(epoch_ts)\n",
        "    dissim_matrixes.append(dissim_matrix)\n",
        "\n",
        "dissim_matrixes = numpy.concatenate(dissim_matrixes, axis = 0)\n",
        "print(dissim_matrixes.shape)"
      ]
    },
    {
      "cell_type": "code",
      "execution_count": null,
      "metadata": {},
      "outputs": [
        {
          "data": {
            "application/vnd.plotly.v1+json": {
              "config": {
                "plotlyServerURL": "https://plot.ly"
              },
              "data": [
                {
                  "type": "heatmap",
                  "z": [
                    [
                      0,
                      0.03410725508624024,
                      0.13527107127757798,
                      0.20739205459815652,
                      0.15597702470368702,
                      0.14852614824990829,
                      0.17392669419928497,
                      0.3552430149325109,
                      0.23402670998482694,
                      0.16640814066455922,
                      0.11210256597990981,
                      0.15232906221273468,
                      0.5780554479966094,
                      0.4364717199045209,
                      0.13445977981950752,
                      0.11403633386599044,
                      0.13244608801465968,
                      0.8704532136351448,
                      0.6263337841428693,
                      0.16187077140636924,
                      0.13410358905665537,
                      0.20438465394473282,
                      0.8929951461881912,
                      0.6959820320492445,
                      0.7601689790810996,
                      0.7881138025039434,
                      0.7529338493412785,
                      0.7887692751196114,
                      0.9132629729117472,
                      0.7611489921556638,
                      0.8958471043456513,
                      0.9119865510025866,
                      0.9137807914572789,
                      0.8837740424928726,
                      0.8720475979734061,
                      0.8968152211870286,
                      0.9094551611535466,
                      0.9313639973524336,
                      0.8764024845885412,
                      0.8740543040255014
                    ],
                    [
                      0.03410725508624024,
                      0,
                      0.06405683298787912,
                      0.2782093209394646,
                      0.1581762770834496,
                      0.14108135965046137,
                      0.1111882629084609,
                      0.45393686848813003,
                      0.330411917104586,
                      0.17101688571517715,
                      0.10640144025693177,
                      0.09440594383430029,
                      0.6579674112562919,
                      0.5600559432248897,
                      0.14575741301373296,
                      0.11255001639893925,
                      0.09162200343484239,
                      0.8938878958878393,
                      0.7407220453661931,
                      0.17341802414834284,
                      0.13588820327117646,
                      0.18911373518971236,
                      0.8789685012203816,
                      0.7207333959104328,
                      0.7298836414715539,
                      0.8030827377873831,
                      0.7396498694700164,
                      0.7791647268902571,
                      0.8931253127695575,
                      0.7986733203086087,
                      0.9024688875819873,
                      0.9000151790994061,
                      0.9072770715500116,
                      0.8745082011056315,
                      0.8636942871077202,
                      0.8905651734647004,
                      0.9033941449636634,
                      0.9143052455180363,
                      0.8732144569155558,
                      0.8759284396443661
                    ],
                    [
                      0.13527107127757804,
                      0.06405683298787912,
                      0,
                      0.3586375138855579,
                      0.15871557526692592,
                      0.10852531549107741,
                      0.047125070085390075,
                      0.4720675973066127,
                      0.37300425755787936,
                      0.1627657695884,
                      0.08838655434272003,
                      0.1110379260564257,
                      0.6158460252284118,
                      0.6855690699030823,
                      0.1536533981646927,
                      0.10277120600676526,
                      0.11222701238920019,
                      0.8922413031839337,
                      0.8350720237037549,
                      0.1770077603463872,
                      0.13316776743394598,
                      0.19259254817736643,
                      0.8559864820398759,
                      0.8215376464585503,
                      0.7625447345639318,
                      0.837169339605934,
                      0.6960235359279008,
                      0.7481055645778185,
                      0.8559476291435936,
                      0.852940474389663,
                      0.9040049446300009,
                      0.9013334816205127,
                      0.8880274333201172,
                      0.8463409951880541,
                      0.8575717776275178,
                      0.8821081336083916,
                      0.8928257467903925,
                      0.8735540893255538,
                      0.8689409225321638,
                      0.867063978381774
                    ],
                    [
                      0.20739205459815652,
                      0.2782093209394646,
                      0.35863751388555787,
                      0,
                      0.0720069874487071,
                      0.13008837577617333,
                      0.30053040662225716,
                      0.3646885445706153,
                      0.024755647710421214,
                      0.11003329103007564,
                      0.13268097036650933,
                      0.30111074864578236,
                      0.5563286903673372,
                      0.1541371598082495,
                      0.1008643247189221,
                      0.13813506024475225,
                      0.25575573061547097,
                      0.8642171144550197,
                      0.5715822266805596,
                      0.1341223740840412,
                      0.09173346323173442,
                      0.2605433722276642,
                      0.9210781554329733,
                      0.5201454249272267,
                      0.837597248503867,
                      0.618507512374082,
                      0.7534637270364,
                      0.7517047253026324,
                      0.9232465275413604,
                      0.708504380552197,
                      0.8223749690678626,
                      0.8718688457004646,
                      0.8904964641640073,
                      0.8496310477167563,
                      0.8407416699053744,
                      0.8589525492670138,
                      0.8484267443997342,
                      0.8761579197013909,
                      0.8499184111283922,
                      0.8519815064925458
                    ],
                    [
                      0.15597702470368707,
                      0.15817627708344956,
                      0.15871557526692587,
                      0.0720069874487071,
                      5.551115123125783e-17,
                      0.01895598471243487,
                      0.11899992297385403,
                      0.3860401487037646,
                      0.09491313113425043,
                      0.01595349599205359,
                      0.019207112253671443,
                      0.17941274320056155,
                      0.6179724933592485,
                      0.3768538044859074,
                      0.01757648456489319,
                      0.02898955981287421,
                      0.13879869112561266,
                      0.9780217763537673,
                      0.7420620544979438,
                      0.04319348182175009,
                      0.005427219415573004,
                      0.17699579980911234,
                      0.986296856755929,
                      0.6973852083093574,
                      0.9055424858940222,
                      0.7241153001773337,
                      0.7190133151596265,
                      0.8191644065002214,
                      0.9796724749790471,
                      0.8654197023203893,
                      0.9110984725164604,
                      0.9567933019385007,
                      0.974171154608759,
                      0.9339312234259589,
                      0.9359625602258161,
                      0.9301280716281394,
                      0.9281479542681583,
                      0.9418769250204833,
                      0.9516652832662124,
                      0.9517588658800485
                    ],
                    [
                      0.14852614824990829,
                      0.14108135965046142,
                      0.10852531549107741,
                      0.13008837577617327,
                      0.01895598471243487,
                      0,
                      0.07670567163773934,
                      0.35037878820792573,
                      0.13709202140001026,
                      0.01762282957422273,
                      0.005748039068732447,
                      0.1562484085257792,
                      0.5708920979624548,
                      0.4449649887391203,
                      0.014444915379170364,
                      0.006552608392118353,
                      0.1343709756680994,
                      0.9702603723482429,
                      0.7493992558830084,
                      0.03743001877384161,
                      0.011387065860628265,
                      0.20976362955598354,
                      0.9780833761664407,
                      0.7189295202713041,
                      0.8675801739049402,
                      0.724785504694923,
                      0.7271881265995991,
                      0.8659679701931646,
                      0.9688355362337135,
                      0.8603113180729076,
                      0.9024307959216198,
                      0.9636198997200162,
                      0.9863726522110702,
                      0.9603176644576129,
                      0.9684433662538161,
                      0.939018605378039,
                      0.9415288295705168,
                      0.954399499414829,
                      0.9795768670526077,
                      0.9765001376930228
                    ],
                    [
                      0.17392669419928497,
                      0.1111882629084609,
                      0.04712507008539013,
                      0.30053040662225716,
                      0.11899992297385398,
                      0.07670567163773934,
                      0,
                      0.543536749500153,
                      0.3323507381509907,
                      0.11020209119603391,
                      0.07504069273445751,
                      0.06811577558772947,
                      0.7195477830219145,
                      0.6493020831629794,
                      0.10187318349409852,
                      0.08060536156036174,
                      0.1004690782226928,
                      0.9397977084533933,
                      0.8847192218658526,
                      0.09962636592885882,
                      0.09388419991495744,
                      0.24107518048475068,
                      0.8945038519677273,
                      0.8111754542140328,
                      0.7582556388326621,
                      0.7242774437180064,
                      0.6203607233803894,
                      0.8096126072275462,
                      0.8829647723549945,
                      0.920247003790752,
                      0.8748069835123335,
                      0.8962520605385564,
                      0.9042953489642835,
                      0.8728897744407131,
                      0.8984043692590851,
                      0.8767217809933656,
                      0.886937129997583,
                      0.867299726792506,
                      0.8962220097181289,
                      0.8972211477896426
                    ],
                    [
                      0.3552430149325109,
                      0.45393686848813003,
                      0.4720675973066127,
                      0.3646885445706153,
                      0.3860401487037646,
                      0.3503787882079257,
                      0.543536749500153,
                      0,
                      0.280521727570541,
                      0.3318844703050084,
                      0.34830190920841575,
                      0.6102066240760494,
                      0.13807320524771666,
                      0.3723303397942317,
                      0.328839587032284,
                      0.3173761526541172,
                      0.5409615386862416,
                      0.543789721674676,
                      0.22026031888016656,
                      0.3447122244912951,
                      0.37315111617006014,
                      0.4865610492138732,
                      0.6300855825487134,
                      0.47726557638234546,
                      0.6711254687626211,
                      0.5367665613694071,
                      0.615586279516385,
                      0.7197941266752965,
                      0.6376579104929768,
                      0.43831350158404536,
                      0.5305960286799819,
                      0.6289942060048164,
                      0.6688235875220756,
                      0.7304447797376714,
                      0.7086883926796809,
                      0.6080279344617631,
                      0.6149116356672115,
                      0.687796525384475,
                      0.7198800489574989,
                      0.7044489806193224
                    ],
                    [
                      0.23402670998482694,
                      0.33041191710458606,
                      0.37300425755787936,
                      0.024755647710421214,
                      0.09491313113425048,
                      0.1370920214000102,
                      0.3323507381509907,
                      0.280521727570541,
                      0,
                      0.12286133078461814,
                      0.14371602669727696,
                      0.368934647065547,
                      0.4582590715821526,
                      0.15026478355656409,
                      0.11988736123935456,
                      0.15112651584690545,
                      0.3041951378562562,
                      0.8190382748276988,
                      0.5107136862114231,
                      0.15455518351370046,
                      0.11498598863528442,
                      0.278222809849599,
                      0.888481559347736,
                      0.5715077881184897,
                      0.8584209412946237,
                      0.6456849201531352,
                      0.7398087834715734,
                      0.7318941187842252,
                      0.8897132618902546,
                      0.6978705838567008,
                      0.8086135301727397,
                      0.8711531449759428,
                      0.8696812870685678,
                      0.8281346349318599,
                      0.828971632636149,
                      0.8425105108520596,
                      0.8340247285339785,
                      0.8558047767269332,
                      0.8364240622320173,
                      0.8289468894737089
                    ],
                    [
                      0.16640814066455917,
                      0.1710168857151772,
                      0.16276576958839994,
                      0.1100332910300757,
                      0.01595349599205359,
                      0.017622829574222787,
                      0.11020209119603391,
                      0.3318844703050084,
                      0.12286133078461814,
                      0,
                      0.023036638793334396,
                      0.19744274902046915,
                      0.5950422299615418,
                      0.4287416083115093,
                      0.005234740264223159,
                      0.01918524948872946,
                      0.16654756307506013,
                      0.9727622401496057,
                      0.707234128105722,
                      0.013735423145642689,
                      0.013933745752813587,
                      0.23198516988641388,
                      0.9752222062803133,
                      0.7140534406063969,
                      0.9002198031735953,
                      0.6683339344677676,
                      0.6613891000947073,
                      0.8808195499240756,
                      0.9639923389320941,
                      0.8789300259179097,
                      0.8592392051326452,
                      0.9304486681432838,
                      0.9708082694400404,
                      0.9621213395232714,
                      0.9678089285736832,
                      0.894197242543217,
                      0.8985847372482152,
                      0.9282031861213951,
                      0.9769381876144014,
                      0.9751328465168583
                    ],
                    [
                      0.11210256597990975,
                      0.10640144025693177,
                      0.08838655434272003,
                      0.13268097036650928,
                      0.019207112253671443,
                      0.005748039068732447,
                      0.07504069273445751,
                      0.3483019092084157,
                      0.14371602669727696,
                      0.023036638793334396,
                      0,
                      0.13874947067489002,
                      0.5833141609242827,
                      0.45992444298831203,
                      0.016330000786650922,
                      0.006243432476162714,
                      0.10685327501402853,
                      0.975854333693466,
                      0.7560899263959391,
                      0.04089420169481861,
                      0.008163994019586673,
                      0.16638267203677343,
                      0.983659419341438,
                      0.7411631926640778,
                      0.8796766457374411,
                      0.7713737709646198,
                      0.7258850223844201,
                      0.844201976810726,
                      0.97987870382407,
                      0.8695055056336836,
                      0.9321567792789686,
                      0.9790047671705195,
                      0.9907740953868952,
                      0.9565853620527902,
                      0.9601210867735821,
                      0.9570689174845396,
                      0.9604587263578599,
                      0.9705190572938487,
                      0.9756950657382198,
                      0.9727346222143702
                    ],
                    [
                      0.15232906221273468,
                      0.09440594383430034,
                      0.1110379260564257,
                      0.30111074864578236,
                      0.17941274320056155,
                      0.1562484085257792,
                      0.06811577558772947,
                      0.6102066240760495,
                      0.368934647065547,
                      0.1974427490204692,
                      0.13874947067489002,
                      0,
                      0.8164511900264324,
                      0.5987581015125781,
                      0.1642235105699016,
                      0.15271997078937616,
                      0.029296025913990276,
                      0.8766344132733577,
                      0.8852300814110576,
                      0.1645644630053673,
                      0.14759913535759783,
                      0.18625354250585519,
                      0.8466038017260931,
                      0.7193412627780928,
                      0.6154104742974437,
                      0.7481807888534407,
                      0.6028356642131747,
                      0.7276980411066354,
                      0.8491423792185966,
                      0.8483549260732381,
                      0.8867301123092239,
                      0.8779063092445825,
                      0.860162086005053,
                      0.8066242245982496,
                      0.8150623361837042,
                      0.9024072286563094,
                      0.9103453926412581,
                      0.879279586246747,
                      0.8229630592376299,
                      0.8259044123254831
                    ],
                    [
                      0.5780554479966094,
                      0.6579674112562919,
                      0.6158460252284118,
                      0.5563286903673372,
                      0.6179724933592485,
                      0.5708920979624548,
                      0.7195477830219145,
                      0.1380732052477167,
                      0.4582590715821526,
                      0.5950422299615418,
                      0.5833141609242827,
                      0.8164511900264324,
                      0,
                      0.3727487458715234,
                      0.5976767688984397,
                      0.5547807012918292,
                      0.7890281556350267,
                      0.3119779117726452,
                      0.1449037408807376,
                      0.6345770355161717,
                      0.6184012623345254,
                      0.6838913761186407,
                      0.3992238974169223,
                      0.328745807373944,
                      0.5056354758632903,
                      0.4305838487982993,
                      0.6705526695269385,
                      0.5155595245449218,
                      0.40452853073360645,
                      0.20019112156042979,
                      0.34523276907980616,
                      0.4033923213300896,
                      0.43076660916411214,
                      0.4848610246553604,
                      0.46969170326276977,
                      0.3922341595149844,
                      0.3870117592682459,
                      0.43457900376371017,
                      0.4687794951832269,
                      0.45968610871399507
                    ],
                    [
                      0.4364717199045209,
                      0.5600559432248897,
                      0.6855690699030823,
                      0.15413715980824944,
                      0.3768538044859074,
                      0.4449649887391203,
                      0.6493020831629794,
                      0.3723303397942317,
                      0.15026478355656409,
                      0.4287416083115093,
                      0.45992444298831203,
                      0.5987581015125781,
                      0.3727487458715234,
                      0,
                      0.4149283620892094,
                      0.453324330074645,
                      0.5703357453307866,
                      0.5201491263669533,
                      0.2767886650448602,
                      0.4595825530175935,
                      0.41379210674671557,
                      0.5274103172967818,
                      0.6193496496739852,
                      0.2567444000006078,
                      0.5816852642461317,
                      0.4162217127014482,
                      0.7508749893909906,
                      0.5543768943203767,
                      0.629649997971777,
                      0.36087719705647436,
                      0.5353932628994835,
                      0.5784732500083409,
                      0.5945024513647077,
                      0.5743473099473834,
                      0.5575099946000339,
                      0.5801783449798193,
                      0.5623207424236129,
                      0.5989411720072834,
                      0.5508411201658097,
                      0.5520138157462495
                    ],
                    [
                      0.13445977981950752,
                      0.14575741301373296,
                      0.1536533981646927,
                      0.1008643247189221,
                      0.01757648456489319,
                      0.014444915379170309,
                      0.10187318349409852,
                      0.328839587032284,
                      0.11988736123935456,
                      0.005234740264223159,
                      0.016330000786650867,
                      0.1642235105699016,
                      0.5976767688984397,
                      0.4149283620892094,
                      1.1102230246251565e-16,
                      0.010615149511992328,
                      0.14157565398207667,
                      0.9741314342366066,
                      0.7069638126694859,
                      0.010088376805093113,
                      0.008908526426165464,
                      0.22350649900022473,
                      0.986333678218726,
                      0.6941672228437608,
                      0.8741197559463094,
                      0.6762203039673123,
                      0.683731799873073,
                      0.8921274938150117,
                      0.9788653191149601,
                      0.8644752903358521,
                      0.8759199244606046,
                      0.9462927462584911,
                      0.9849411921998376,
                      0.9742654985313723,
                      0.9773606744746894,
                      0.9212156215792606,
                      0.9256403634698698,
                      0.9547237060752745,
                      0.9856925302574,
                      0.9845472510749003
                    ],
                    [
                      0.11403633386599044,
                      0.11255001639893925,
                      0.10277120600676531,
                      0.13813506024475225,
                      0.028989559812874266,
                      0.006552608392118353,
                      0.0806053615603618,
                      0.3173761526541172,
                      0.15112651584690545,
                      0.01918524948872946,
                      0.006243432476162714,
                      0.15271997078937616,
                      0.5547807012918292,
                      0.453324330074645,
                      0.010615149511992272,
                      0,
                      0.13619440416673673,
                      0.9698342902419118,
                      0.7168265147581679,
                      0.031374008006786136,
                      0.015112030167237278,
                      0.22107895261903804,
                      0.9823540657543512,
                      0.7027800028189369,
                      0.8616315279490736,
                      0.7133549182980292,
                      0.7348048040510777,
                      0.8951473764203728,
                      0.976794255947114,
                      0.8445537970466361,
                      0.8927625980219754,
                      0.9584437463150596,
                      0.9939818015225379,
                      0.9815840334199784,
                      0.9837608173763501,
                      0.9356591977870647,
                      0.9408083124239264,
                      0.9666548493511085,
                      0.9930923733344907,
                      0.9915447352791324
                    ],
                    [
                      0.13244608801465962,
                      0.09162200343484239,
                      0.11222701238920019,
                      0.25575573061547097,
                      0.13879869112561266,
                      0.1343709756680994,
                      0.10046907822269274,
                      0.5409615386862416,
                      0.3041951378562561,
                      0.16654756307506013,
                      0.10685327501402847,
                      0.029296025913990276,
                      0.7890281556350267,
                      0.5703357453307866,
                      0.14157565398207667,
                      0.13619440416673678,
                      1.1102230246251565e-16,
                      0.8897430932070123,
                      0.8709775918759295,
                      0.15112033162576372,
                      0.11450511596555174,
                      0.08188261423990473,
                      0.8685896278247214,
                      0.7687408014633439,
                      0.6931443885996362,
                      0.8472733096302014,
                      0.5866944395703423,
                      0.6746937668058632,
                      0.8758356448366846,
                      0.8699774637874864,
                      0.9440330820862846,
                      0.9252943451892287,
                      0.8790271669109433,
                      0.8052312326260116,
                      0.8052990339695317,
                      0.9444178015633279,
                      0.9507553074194255,
                      0.9152631308217233,
                      0.8317928886166788,
                      0.8285487806627938
                    ],
                    [
                      0.8704532136351448,
                      0.8938878958878393,
                      0.8922413031839337,
                      0.8642171144550197,
                      0.9780217763537673,
                      0.9702603723482429,
                      0.9397977084533933,
                      0.543789721674676,
                      0.8190382748276988,
                      0.9727622401496057,
                      0.9758543336934661,
                      0.8766344132733577,
                      0.3119779117726452,
                      0.5201491263669533,
                      0.9741314342366065,
                      0.9698342902419117,
                      0.8897430932070123,
                      0,
                      0.19667554893444228,
                      0.9613838882245263,
                      0.9834978550298985,
                      0.8132067882277654,
                      0.018367409287212644,
                      0.2614704985550005,
                      0.11821232915049174,
                      0.28404689515271286,
                      0.3190124942271696,
                      0.16351838538320335,
                      0.025493928795417342,
                      0.09327833880473269,
                      0.0939652042508049,
                      0.06028681748703685,
                      0.03251360191964442,
                      0.0640211793742958,
                      0.059007949777716395,
                      0.08704625037526054,
                      0.08364696993254911,
                      0.07218272900387679,
                      0.04959967221328321,
                      0.04523062003013606
                    ],
                    [
                      0.6263337841428693,
                      0.7407220453661932,
                      0.8350720237037549,
                      0.5715822266805596,
                      0.7420620544979438,
                      0.7493992558830084,
                      0.8847192218658526,
                      0.22026031888016662,
                      0.5107136862114231,
                      0.707234128105722,
                      0.7560899263959391,
                      0.8852300814110576,
                      0.1449037408807376,
                      0.2767886650448602,
                      0.7069638126694859,
                      0.7168265147581679,
                      0.8709775918759296,
                      0.19667554893444228,
                      1.1102230246251565e-16,
                      0.7136605680080222,
                      0.7555449563168832,
                      0.8040379465288146,
                      0.27528402186847145,
                      0.2254307334850043,
                      0.37443886799757065,
                      0.25365673330216576,
                      0.5265455673439132,
                      0.4718958021931919,
                      0.2877406840347905,
                      0.14273000561156085,
                      0.1864495833870432,
                      0.2440325487803034,
                      0.29406618715465466,
                      0.3746906783743001,
                      0.3519864780615546,
                      0.22793245339755402,
                      0.2294991644000221,
                      0.3042198556480826,
                      0.33297697625557443,
                      0.3273607677406987
                    ],
                    [
                      0.16187077140636924,
                      0.17341802414834284,
                      0.17700776034638716,
                      0.13412237408404126,
                      0.04319348182175009,
                      0.03743001877384167,
                      0.09962636592885882,
                      0.34471222449129507,
                      0.1545551835137005,
                      0.013735423145642689,
                      0.04089420169481861,
                      0.1645644630053673,
                      0.6345770355161717,
                      0.4595825530175935,
                      0.010088376805093169,
                      0.03137400800678619,
                      0.15112033162576372,
                      0.9613838882245263,
                      0.7136605680080222,
                      5.551115123125783e-17,
                      0.028879458313834705,
                      0.2507176666023656,
                      0.9629823120196028,
                      0.7144999454269461,
                      0.853981903498736,
                      0.6344864137571914,
                      0.5979933021828623,
                      0.8971045566404081,
                      0.9520790024474175,
                      0.8888635983943276,
                      0.8373599948239576,
                      0.912586909001847,
                      0.9564787609937515,
                      0.9585949467438897,
                      0.967251544910678,
                      0.8862081688956613,
                      0.8940424053150395,
                      0.9229402606918431,
                      0.9710311615338836,
                      0.9696111648078173
                    ],
                    [
                      0.13410358905665537,
                      0.13588820327117646,
                      0.13316776743394598,
                      0.09173346323173442,
                      0.005427219415573059,
                      0.01138706586062821,
                      0.09388419991495744,
                      0.37315111617006014,
                      0.11498598863528448,
                      0.013933745752813587,
                      0.008163994019586784,
                      0.14759913535759783,
                      0.6184012623345254,
                      0.41379210674671557,
                      0.008908526426165464,
                      0.015112030167237334,
                      0.11450511596555174,
                      0.9834978550298985,
                      0.7555449563168832,
                      0.02887945831383476,
                      0,
                      0.16839214575764666,
                      0.9930795711247753,
                      0.7107851162893615,
                      0.8906891681561461,
                      0.7343811375622791,
                      0.7053219755286824,
                      0.8366074910549777,
                      0.9877017156100192,
                      0.8731998279869658,
                      0.9203389799279621,
                      0.9675622081501951,
                      0.9846704020856513,
                      0.9490351750671173,
                      0.9512787888880767,
                      0.9481141771140338,
                      0.9483053104164114,
                      0.9607732999241558,
                      0.9667951537931774,
                      0.9665783634309513
                    ],
                    [
                      0.20438465394473282,
                      0.1891137351897123,
                      0.19259254817736637,
                      0.2605433722276642,
                      0.17699579980911234,
                      0.20976362955598354,
                      0.24107518048475068,
                      0.4865610492138732,
                      0.278222809849599,
                      0.23198516988641388,
                      0.16638267203677343,
                      0.18625354250585524,
                      0.6838913761186408,
                      0.5274103172967818,
                      0.22350649900022473,
                      0.22107895261903804,
                      0.08188261423990473,
                      0.8132067882277654,
                      0.8040379465288146,
                      0.2507176666023656,
                      0.16839214575764666,
                      0,
                      0.8078728281549941,
                      0.7781874574785655,
                      0.7801450602576722,
                      0.9424058254124168,
                      0.5635456596409342,
                      0.49069700047090703,
                      0.822537710648958,
                      0.8040500896893459,
                      0.9434292001336924,
                      0.885721307309451,
                      0.7940293930298968,
                      0.6889890907382294,
                      0.6763617903188408,
                      0.9001133793391811,
                      0.896805308223918,
                      0.8479634014444177,
                      0.7269996626086027,
                      0.7203509568091305
                    ],
                    [
                      0.8929951461881913,
                      0.8789685012203816,
                      0.8559864820398759,
                      0.9210781554329733,
                      0.9862968567559289,
                      0.9780833761664407,
                      0.8945038519677273,
                      0.6300855825487134,
                      0.888481559347736,
                      0.9752222062803133,
                      0.983659419341438,
                      0.8466038017260931,
                      0.3992238974169223,
                      0.6193496496739852,
                      0.986333678218726,
                      0.9823540657543512,
                      0.8685896278247214,
                      0.0183674092872127,
                      0.2752840218684714,
                      0.9629823120196028,
                      0.9930795711247753,
                      0.807872828154994,
                      0,
                      0.3279917359916632,
                      0.11623116094138791,
                      0.2887435203117034,
                      0.256912345462629,
                      0.1476253590824244,
                      0.001980921536319513,
                      0.15828350406639796,
                      0.08893337948226832,
                      0.04080937376810856,
                      0.01237110432914218,
                      0.042208368204111446,
                      0.04425996796643811,
                      0.0579945735215624,
                      0.05818602128173156,
                      0.03666716100376122,
                      0.033434619470671445,
                      0.03063603955473504
                    ],
                    [
                      0.6959820320492445,
                      0.7207333959104328,
                      0.8215376464585503,
                      0.5201454249272267,
                      0.6973852083093574,
                      0.718929520271304,
                      0.8111754542140328,
                      0.47726557638234546,
                      0.5715077881184897,
                      0.7140534406063969,
                      0.7411631926640778,
                      0.7193412627780928,
                      0.328745807373944,
                      0.2567444000006077,
                      0.6941672228437606,
                      0.7027800028189369,
                      0.7687408014633439,
                      0.2614704985550005,
                      0.2254307334850043,
                      0.7144999454269461,
                      0.7107851162893614,
                      0.7781874574785655,
                      0.3279917359916632,
                      0,
                      0.23708132444262087,
                      0.17078105465519494,
                      0.6176145523477587,
                      0.46515330977571756,
                      0.33230904090853897,
                      0.08376624808166416,
                      0.21290754487065533,
                      0.23906025192684777,
                      0.32059759297244017,
                      0.380095847108295,
                      0.33987272779143923,
                      0.29942021149885806,
                      0.2813681290750465,
                      0.33850564388547544,
                      0.33460972224539665,
                      0.3530441005266358
                    ],
                    [
                      0.7601689790810997,
                      0.7298836414715539,
                      0.7625447345639318,
                      0.8375972485038669,
                      0.9055424858940222,
                      0.8675801739049402,
                      0.7582556388326621,
                      0.6711254687626211,
                      0.8584209412946235,
                      0.9002198031735953,
                      0.8796766457374412,
                      0.6154104742974437,
                      0.5056354758632903,
                      0.5816852642461317,
                      0.8741197559463094,
                      0.8616315279490736,
                      0.6931443885996362,
                      0.11821232915049174,
                      0.37443886799757065,
                      0.8539819034987362,
                      0.8906891681561461,
                      0.7801450602576722,
                      0.11623116094138791,
                      0.2370813244426208,
                      0,
                      0.27259210353481345,
                      0.361007687565035,
                      0.3062550488911123,
                      0.12087102235276842,
                      0.17141296671174489,
                      0.1781376890107224,
                      0.15345349829228444,
                      0.15128957264906284,
                      0.1847470700046549,
                      0.17989636622615524,
                      0.21716471390736458,
                      0.2189646512195273,
                      0.2026384286061475,
                      0.1645901054571996,
                      0.16721082420368266
                    ],
                    [
                      0.7881138025039434,
                      0.8030827377873831,
                      0.837169339605934,
                      0.618507512374082,
                      0.7241153001773336,
                      0.7247855046949229,
                      0.7242774437180064,
                      0.5367665613694073,
                      0.6456849201531352,
                      0.6683339344677676,
                      0.7713737709646198,
                      0.7481807888534409,
                      0.4305838487982993,
                      0.4162217127014482,
                      0.6762203039673123,
                      0.7133549182980292,
                      0.8472733096302014,
                      0.28404689515271286,
                      0.25365673330216576,
                      0.6344864137571914,
                      0.7343811375622791,
                      0.9424058254124168,
                      0.2887435203117034,
                      0.17078105465519494,
                      0.27259210353481345,
                      1.1102230246251565e-16,
                      0.3847111585450853,
                      0.5674594964465449,
                      0.26921182650119063,
                      0.2583840397939663,
                      0.08206340619164654,
                      0.15215467095320817,
                      0.27130953854384704,
                      0.3824183414414086,
                      0.3846118153986561,
                      0.15429542957700404,
                      0.1525980315910413,
                      0.2159536953868783,
                      0.34275411902892705,
                      0.35717213298842554
                    ],
                    [
                      0.7529338493412785,
                      0.7396498694700164,
                      0.6960235359279008,
                      0.7534637270364,
                      0.7190133151596265,
                      0.7271881265995991,
                      0.6203607233803894,
                      0.615586279516385,
                      0.7398087834715734,
                      0.6613891000947073,
                      0.72588502238442,
                      0.6028356642131747,
                      0.6705526695269385,
                      0.7508749893909906,
                      0.683731799873073,
                      0.7348048040510777,
                      0.5866944395703423,
                      0.31901249422716954,
                      0.5265455673439132,
                      0.5979933021828623,
                      0.7053219755286824,
                      0.5635456596409342,
                      0.256912345462629,
                      0.6176145523477587,
                      0.361007687565035,
                      0.3847111585450853,
                      0,
                      0.3095960686436753,
                      0.24474514809923176,
                      0.5563002329142289,
                      0.2835309801552339,
                      0.2609122221126007,
                      0.22970480381973363,
                      0.25595507015169217,
                      0.27466993851753907,
                      0.26188020892161545,
                      0.2732150064001918,
                      0.24257868083952216,
                      0.27718467541877234,
                      0.2695393684779649
                    ],
                    [
                      0.7887692751196114,
                      0.779164726890257,
                      0.7481055645778185,
                      0.7517047253026324,
                      0.8191644065002214,
                      0.8659679701931647,
                      0.8096126072275462,
                      0.7197941266752965,
                      0.7318941187842252,
                      0.8808195499240756,
                      0.8442019768107261,
                      0.7276980411066354,
                      0.5155595245449218,
                      0.5543768943203767,
                      0.8921274938150117,
                      0.8951473764203728,
                      0.6746937668058632,
                      0.1635183853832033,
                      0.4718958021931919,
                      0.8971045566404081,
                      0.8366074910549777,
                      0.49069700047090703,
                      0.1476253590824244,
                      0.46515330977571756,
                      0.3062550488911123,
                      0.5674594964465449,
                      0.3095960686436753,
                      0,
                      0.1599491012750615,
                      0.3002368818976052,
                      0.3538499490204739,
                      0.23294143144091645,
                      0.1173801918042312,
                      0.045370668531939384,
                      0.04235468923583785,
                      0.2622440146097421,
                      0.2485982599901942,
                      0.17186613207129015,
                      0.06523506015684438,
                      0.062050853877860246
                    ],
                    [
                      0.9132629729117472,
                      0.8931253127695575,
                      0.8559476291435936,
                      0.9232465275413604,
                      0.9796724749790471,
                      0.9688355362337135,
                      0.8829647723549945,
                      0.6376579104929768,
                      0.8897132618902546,
                      0.963992338932094,
                      0.9798787038240699,
                      0.8491423792185966,
                      0.4045285307336065,
                      0.629649997971777,
                      0.9788653191149601,
                      0.976794255947114,
                      0.8758356448366846,
                      0.025493928795417342,
                      0.2877406840347905,
                      0.9520790024474175,
                      0.9877017156100192,
                      0.822537710648958,
                      0.001980921536319513,
                      0.33230904090853897,
                      0.12087102235276842,
                      0.2692118265011907,
                      0.24474514809923176,
                      0.15994910127506146,
                      0,
                      0.1707951147960297,
                      0.07817835250142557,
                      0.03597266997546261,
                      0.013146066206024709,
                      0.04710190766563388,
                      0.05270010922635099,
                      0.0501517354310817,
                      0.050241969961545174,
                      0.028753453472362578,
                      0.040227203000948064,
                      0.03764053237409598
                    ],
                    [
                      0.7611489921556638,
                      0.7986733203086087,
                      0.8529404743896629,
                      0.708504380552197,
                      0.8654197023203893,
                      0.8603113180729076,
                      0.920247003790752,
                      0.43831350158404536,
                      0.6978705838567008,
                      0.8789300259179097,
                      0.8695055056336836,
                      0.8483549260732381,
                      0.20019112156042979,
                      0.36087719705647436,
                      0.8644752903358521,
                      0.8445537970466361,
                      0.8699774637874864,
                      0.09327833880473269,
                      0.1427300056115608,
                      0.8888635983943276,
                      0.8731998279869659,
                      0.8040500896893459,
                      0.15828350406639796,
                      0.08376624808166416,
                      0.17141296671174489,
                      0.2583840397939663,
                      0.5563002329142289,
                      0.3002368818976052,
                      0.17079511479602977,
                      5.551115123125783e-17,
                      0.15125245032598117,
                      0.1460250369525043,
                      0.17204800191676412,
                      0.21934872480995488,
                      0.18615609165668634,
                      0.19444086176389014,
                      0.18171788152851576,
                      0.21244148353358372,
                      0.18342510526878397,
                      0.18969954940842432
                    ],
                    [
                      0.8958471043456513,
                      0.9024688875819873,
                      0.9040049446300009,
                      0.8223749690678626,
                      0.9110984725164604,
                      0.9024307959216198,
                      0.8748069835123335,
                      0.5305960286799819,
                      0.8086135301727397,
                      0.8592392051326452,
                      0.9321567792789686,
                      0.8867301123092239,
                      0.34523276907980616,
                      0.5353932628994835,
                      0.8759199244606046,
                      0.8927625980219754,
                      0.9440330820862846,
                      0.0939652042508049,
                      0.1864495833870432,
                      0.8373599948239576,
                      0.9203389799279621,
                      0.9434292001336925,
                      0.08893337948226832,
                      0.21290754487065527,
                      0.1781376890107224,
                      0.08206340619164648,
                      0.28353098015523387,
                      0.3538499490204739,
                      0.07817835250142563,
                      0.15125245032598117,
                      0,
                      0.023706652302670772,
                      0.08755006798168224,
                      0.18458119908229514,
                      0.18259375294678543,
                      0.027454342797250564,
                      0.028162694026051482,
                      0.0655948728380254,
                      0.1551480956923631,
                      0.16071060185739128
                    ],
                    [
                      0.9119865510025866,
                      0.9000151790994062,
                      0.9013334816205127,
                      0.8718688457004646,
                      0.9567933019385007,
                      0.9636198997200162,
                      0.8962520605385564,
                      0.6289942060048164,
                      0.8711531449759428,
                      0.9304486681432838,
                      0.9790047671705195,
                      0.8779063092445825,
                      0.4033923213300896,
                      0.5784732500083409,
                      0.9462927462584911,
                      0.9584437463150596,
                      0.9252943451892287,
                      0.0602868174870369,
                      0.24403254878030334,
                      0.912586909001847,
                      0.9675622081501951,
                      0.885721307309451,
                      0.0408093737681085,
                      0.23906025192684777,
                      0.15345349829228444,
                      0.15215467095320817,
                      0.2609122221126007,
                      0.23294143144091645,
                      0.03597266997546267,
                      0.1460250369525043,
                      0.023706652302670772,
                      0,
                      0.029336819942479053,
                      0.09516643913081752,
                      0.09075241429215525,
                      0.013586649860537536,
                      0.011279441921926314,
                      0.022869072547251346,
                      0.07157315783416324,
                      0.07926247616834364
                    ],
                    [
                      0.9137807914572789,
                      0.9072770715500116,
                      0.8880274333201172,
                      0.8904964641640073,
                      0.974171154608759,
                      0.9863726522110702,
                      0.9042953489642835,
                      0.6688235875220756,
                      0.869681287068568,
                      0.9708082694400404,
                      0.9907740953868952,
                      0.860162086005053,
                      0.43076660916411214,
                      0.5945024513647077,
                      0.9849411921998376,
                      0.9939818015225379,
                      0.8790271669109433,
                      0.03251360191964442,
                      0.2940661871546546,
                      0.9564787609937515,
                      0.9846704020856512,
                      0.7940293930298968,
                      0.012371104329142235,
                      0.3205975929724401,
                      0.15128957264906284,
                      0.27130953854384704,
                      0.22970480381973363,
                      0.1173801918042312,
                      0.013146066206024654,
                      0.17204800191676412,
                      0.08755006798168224,
                      0.029336819942479053,
                      0,
                      0.02268134000105987,
                      0.024573721066387055,
                      0.047759605596048194,
                      0.043791595404459094,
                      0.018597739284829107,
                      0.014953686147169576,
                      0.015917391755984278
                    ],
                    [
                      0.8837740424928726,
                      0.8745082011056315,
                      0.8463409951880541,
                      0.8496310477167563,
                      0.9339312234259589,
                      0.9603176644576128,
                      0.8728897744407131,
                      0.7304447797376714,
                      0.8281346349318599,
                      0.9621213395232714,
                      0.9565853620527902,
                      0.8066242245982496,
                      0.4848610246553604,
                      0.5743473099473834,
                      0.9742654985313723,
                      0.9815840334199784,
                      0.8052312326260116,
                      0.0640211793742958,
                      0.3746906783743001,
                      0.9585949467438896,
                      0.9490351750671173,
                      0.6889890907382294,
                      0.04220836820411139,
                      0.380095847108295,
                      0.1847470700046549,
                      0.3824183414414086,
                      0.25595507015169217,
                      0.04537066853193933,
                      0.04710190766563388,
                      0.21934872480995482,
                      0.18458119908229514,
                      0.09516643913081746,
                      0.02268134000105987,
                      5.551115123125783e-17,
                      0.005343868869534307,
                      0.11815153633101005,
                      0.10988477324756418,
                      0.05475134294931172,
                      0.0045464735660827316,
                      0.003409755166400741
                    ],
                    [
                      0.8720475979734063,
                      0.8636942871077202,
                      0.8575717776275178,
                      0.8407416699053742,
                      0.9359625602258161,
                      0.9684433662538162,
                      0.8984043692590851,
                      0.7086883926796809,
                      0.828971632636149,
                      0.9678089285736831,
                      0.9601210867735821,
                      0.8150623361837042,
                      0.46969170326276977,
                      0.5575099946000339,
                      0.9773606744746894,
                      0.9837608173763501,
                      0.8052990339695318,
                      0.059007949777716395,
                      0.3519864780615546,
                      0.967251544910678,
                      0.9512787888880767,
                      0.6763617903188408,
                      0.04425996796643811,
                      0.3398727277914393,
                      0.17989636622615524,
                      0.3846118153986561,
                      0.27466993851753907,
                      0.04235468923583785,
                      0.05270010922635099,
                      0.18615609165668634,
                      0.18259375294678543,
                      0.09075241429215525,
                      0.024573721066387,
                      0.005343868869534363,
                      0,
                      0.1216047484514815,
                      0.11200818178490995,
                      0.06582255448729601,
                      0.00519319645052807,
                      0.00602993285893888
                    ],
                    [
                      0.8968152211870286,
                      0.8905651734647004,
                      0.8821081336083916,
                      0.8589525492670138,
                      0.9301280716281394,
                      0.939018605378039,
                      0.8767217809933656,
                      0.6080279344617631,
                      0.8425105108520596,
                      0.8941972425432169,
                      0.9570689174845396,
                      0.9024072286563094,
                      0.3922341595149844,
                      0.5801783449798193,
                      0.9212156215792605,
                      0.9356591977870647,
                      0.944417801563328,
                      0.08704625037526048,
                      0.22793245339755402,
                      0.8862081688956613,
                      0.9481141771140338,
                      0.9001133793391811,
                      0.0579945735215624,
                      0.29942021149885806,
                      0.21716471390736458,
                      0.15429542957700404,
                      0.26188020892161545,
                      0.26224401460974217,
                      0.050151735431081756,
                      0.19444086176389014,
                      0.027454342797250564,
                      0.01358664986053748,
                      0.04775960559604814,
                      0.11815153633101005,
                      0.1216047484514815,
                      0,
                      0.0013141237840032516,
                      0.018825336921486302,
                      0.09564082248146172,
                      0.10063370111495801
                    ],
                    [
                      0.9094551611535465,
                      0.9033941449636634,
                      0.8928257467903925,
                      0.8484267443997342,
                      0.9281479542681583,
                      0.9415288295705168,
                      0.886937129997583,
                      0.6149116356672115,
                      0.8340247285339785,
                      0.8985847372482152,
                      0.9604587263578599,
                      0.9103453926412581,
                      0.38701175926824594,
                      0.5623207424236127,
                      0.9256403634698697,
                      0.9408083124239264,
                      0.9507553074194255,
                      0.08364696993254911,
                      0.2294991644000221,
                      0.8940424053150395,
                      0.9483053104164114,
                      0.896805308223918,
                      0.05818602128173156,
                      0.2813681290750465,
                      0.2189646512195273,
                      0.1525980315910413,
                      0.27321500640019186,
                      0.24859825999019425,
                      0.050241969961545174,
                      0.18171788152851576,
                      0.028162694026051482,
                      0.01127944192192637,
                      0.04379159540445904,
                      0.10988477324756424,
                      0.11200818178490995,
                      0.0013141237840032516,
                      5.551115123125783e-17,
                      0.015644818235621638,
                      0.08787219171429655,
                      0.0939329550519854
                    ],
                    [
                      0.9313639973524335,
                      0.9143052455180363,
                      0.8735540893255538,
                      0.8761579197013909,
                      0.9418769250204833,
                      0.954399499414829,
                      0.867299726792506,
                      0.687796525384475,
                      0.8558047767269332,
                      0.9282031861213951,
                      0.9705190572938487,
                      0.8792795862467468,
                      0.43457900376371017,
                      0.5989411720072835,
                      0.9547237060752745,
                      0.9666548493511086,
                      0.9152631308217233,
                      0.07218272900387684,
                      0.3042198556480826,
                      0.922940260691843,
                      0.9607732999241558,
                      0.8479634014444177,
                      0.03666716100376127,
                      0.33850564388547544,
                      0.2026384286061475,
                      0.2159536953868783,
                      0.24257868083952222,
                      0.17186613207129015,
                      0.028753453472362522,
                      0.21244148353358366,
                      0.06559487283802545,
                      0.022869072547251346,
                      0.01859773928482905,
                      0.05475134294931172,
                      0.06582255448729607,
                      0.018825336921486302,
                      0.015644818235621583,
                      0,
                      0.04549632506505741,
                      0.04902707065165118
                    ],
                    [
                      0.8764024845885411,
                      0.8732144569155558,
                      0.8689409225321638,
                      0.8499184111283922,
                      0.9516652832662125,
                      0.9795768670526077,
                      0.8962220097181289,
                      0.7198800489574989,
                      0.8364240622320174,
                      0.9769381876144014,
                      0.9756950657382198,
                      0.8229630592376299,
                      0.4687794951832269,
                      0.5508411201658097,
                      0.9856925302574,
                      0.9930923733344907,
                      0.8317928886166788,
                      0.04959967221328321,
                      0.33297697625557443,
                      0.9710311615338836,
                      0.9667951537931774,
                      0.7269996626086027,
                      0.033434619470671445,
                      0.33460972224539665,
                      0.16459010545719954,
                      0.34275411902892705,
                      0.27718467541877234,
                      0.06523506015684433,
                      0.040227203000948064,
                      0.18342510526878397,
                      0.1551480956923631,
                      0.07157315783416324,
                      0.014953686147169576,
                      0.0045464735660827316,
                      0.00519319645052807,
                      0.09564082248146172,
                      0.0878721917142965,
                      0.04549632506505741,
                      0,
                      0.0013196537905836303
                    ],
                    [
                      0.8740543040255014,
                      0.8759284396443661,
                      0.867063978381774,
                      0.8519815064925458,
                      0.9517588658800485,
                      0.9765001376930228,
                      0.8972211477896426,
                      0.7044489806193224,
                      0.8289468894737089,
                      0.9751328465168583,
                      0.9727346222143702,
                      0.8259044123254831,
                      0.45968610871399507,
                      0.5520138157462495,
                      0.9845472510749003,
                      0.9915447352791324,
                      0.8285487806627938,
                      0.04523062003013606,
                      0.3273607677406988,
                      0.9696111648078173,
                      0.9665783634309513,
                      0.7203509568091305,
                      0.030636039554734984,
                      0.3530441005266358,
                      0.16721082420368266,
                      0.35717213298842554,
                      0.2695393684779649,
                      0.062050853877860246,
                      0.037640532374096036,
                      0.18969954940842426,
                      0.16071060185739133,
                      0.0792624761683437,
                      0.015917391755984278,
                      0.0034097551664007963,
                      0.006029932858938936,
                      0.10063370111495801,
                      0.0939329550519854,
                      0.04902707065165113,
                      0.0013196537905836858,
                      0
                    ]
                  ]
                }
              ],
              "layout": {
                "plot_bgcolor": "white",
                "template": {
                  "data": {
                    "bar": [
                      {
                        "error_x": {
                          "color": "#2a3f5f"
                        },
                        "error_y": {
                          "color": "#2a3f5f"
                        },
                        "marker": {
                          "line": {
                            "color": "#E5ECF6",
                            "width": 0.5
                          },
                          "pattern": {
                            "fillmode": "overlay",
                            "size": 10,
                            "solidity": 0.2
                          }
                        },
                        "type": "bar"
                      }
                    ],
                    "barpolar": [
                      {
                        "marker": {
                          "line": {
                            "color": "#E5ECF6",
                            "width": 0.5
                          },
                          "pattern": {
                            "fillmode": "overlay",
                            "size": 10,
                            "solidity": 0.2
                          }
                        },
                        "type": "barpolar"
                      }
                    ],
                    "carpet": [
                      {
                        "aaxis": {
                          "endlinecolor": "#2a3f5f",
                          "gridcolor": "white",
                          "linecolor": "white",
                          "minorgridcolor": "white",
                          "startlinecolor": "#2a3f5f"
                        },
                        "baxis": {
                          "endlinecolor": "#2a3f5f",
                          "gridcolor": "white",
                          "linecolor": "white",
                          "minorgridcolor": "white",
                          "startlinecolor": "#2a3f5f"
                        },
                        "type": "carpet"
                      }
                    ],
                    "choropleth": [
                      {
                        "colorbar": {
                          "outlinewidth": 0,
                          "ticks": ""
                        },
                        "type": "choropleth"
                      }
                    ],
                    "contour": [
                      {
                        "colorbar": {
                          "outlinewidth": 0,
                          "ticks": ""
                        },
                        "colorscale": [
                          [
                            0,
                            "#0d0887"
                          ],
                          [
                            0.1111111111111111,
                            "#46039f"
                          ],
                          [
                            0.2222222222222222,
                            "#7201a8"
                          ],
                          [
                            0.3333333333333333,
                            "#9c179e"
                          ],
                          [
                            0.4444444444444444,
                            "#bd3786"
                          ],
                          [
                            0.5555555555555556,
                            "#d8576b"
                          ],
                          [
                            0.6666666666666666,
                            "#ed7953"
                          ],
                          [
                            0.7777777777777778,
                            "#fb9f3a"
                          ],
                          [
                            0.8888888888888888,
                            "#fdca26"
                          ],
                          [
                            1,
                            "#f0f921"
                          ]
                        ],
                        "type": "contour"
                      }
                    ],
                    "contourcarpet": [
                      {
                        "colorbar": {
                          "outlinewidth": 0,
                          "ticks": ""
                        },
                        "type": "contourcarpet"
                      }
                    ],
                    "heatmap": [
                      {
                        "colorbar": {
                          "outlinewidth": 0,
                          "ticks": ""
                        },
                        "colorscale": [
                          [
                            0,
                            "#0d0887"
                          ],
                          [
                            0.1111111111111111,
                            "#46039f"
                          ],
                          [
                            0.2222222222222222,
                            "#7201a8"
                          ],
                          [
                            0.3333333333333333,
                            "#9c179e"
                          ],
                          [
                            0.4444444444444444,
                            "#bd3786"
                          ],
                          [
                            0.5555555555555556,
                            "#d8576b"
                          ],
                          [
                            0.6666666666666666,
                            "#ed7953"
                          ],
                          [
                            0.7777777777777778,
                            "#fb9f3a"
                          ],
                          [
                            0.8888888888888888,
                            "#fdca26"
                          ],
                          [
                            1,
                            "#f0f921"
                          ]
                        ],
                        "type": "heatmap"
                      }
                    ],
                    "heatmapgl": [
                      {
                        "colorbar": {
                          "outlinewidth": 0,
                          "ticks": ""
                        },
                        "colorscale": [
                          [
                            0,
                            "#0d0887"
                          ],
                          [
                            0.1111111111111111,
                            "#46039f"
                          ],
                          [
                            0.2222222222222222,
                            "#7201a8"
                          ],
                          [
                            0.3333333333333333,
                            "#9c179e"
                          ],
                          [
                            0.4444444444444444,
                            "#bd3786"
                          ],
                          [
                            0.5555555555555556,
                            "#d8576b"
                          ],
                          [
                            0.6666666666666666,
                            "#ed7953"
                          ],
                          [
                            0.7777777777777778,
                            "#fb9f3a"
                          ],
                          [
                            0.8888888888888888,
                            "#fdca26"
                          ],
                          [
                            1,
                            "#f0f921"
                          ]
                        ],
                        "type": "heatmapgl"
                      }
                    ],
                    "histogram": [
                      {
                        "marker": {
                          "pattern": {
                            "fillmode": "overlay",
                            "size": 10,
                            "solidity": 0.2
                          }
                        },
                        "type": "histogram"
                      }
                    ],
                    "histogram2d": [
                      {
                        "colorbar": {
                          "outlinewidth": 0,
                          "ticks": ""
                        },
                        "colorscale": [
                          [
                            0,
                            "#0d0887"
                          ],
                          [
                            0.1111111111111111,
                            "#46039f"
                          ],
                          [
                            0.2222222222222222,
                            "#7201a8"
                          ],
                          [
                            0.3333333333333333,
                            "#9c179e"
                          ],
                          [
                            0.4444444444444444,
                            "#bd3786"
                          ],
                          [
                            0.5555555555555556,
                            "#d8576b"
                          ],
                          [
                            0.6666666666666666,
                            "#ed7953"
                          ],
                          [
                            0.7777777777777778,
                            "#fb9f3a"
                          ],
                          [
                            0.8888888888888888,
                            "#fdca26"
                          ],
                          [
                            1,
                            "#f0f921"
                          ]
                        ],
                        "type": "histogram2d"
                      }
                    ],
                    "histogram2dcontour": [
                      {
                        "colorbar": {
                          "outlinewidth": 0,
                          "ticks": ""
                        },
                        "colorscale": [
                          [
                            0,
                            "#0d0887"
                          ],
                          [
                            0.1111111111111111,
                            "#46039f"
                          ],
                          [
                            0.2222222222222222,
                            "#7201a8"
                          ],
                          [
                            0.3333333333333333,
                            "#9c179e"
                          ],
                          [
                            0.4444444444444444,
                            "#bd3786"
                          ],
                          [
                            0.5555555555555556,
                            "#d8576b"
                          ],
                          [
                            0.6666666666666666,
                            "#ed7953"
                          ],
                          [
                            0.7777777777777778,
                            "#fb9f3a"
                          ],
                          [
                            0.8888888888888888,
                            "#fdca26"
                          ],
                          [
                            1,
                            "#f0f921"
                          ]
                        ],
                        "type": "histogram2dcontour"
                      }
                    ],
                    "mesh3d": [
                      {
                        "colorbar": {
                          "outlinewidth": 0,
                          "ticks": ""
                        },
                        "type": "mesh3d"
                      }
                    ],
                    "parcoords": [
                      {
                        "line": {
                          "colorbar": {
                            "outlinewidth": 0,
                            "ticks": ""
                          }
                        },
                        "type": "parcoords"
                      }
                    ],
                    "pie": [
                      {
                        "automargin": true,
                        "type": "pie"
                      }
                    ],
                    "scatter": [
                      {
                        "fillpattern": {
                          "fillmode": "overlay",
                          "size": 10,
                          "solidity": 0.2
                        },
                        "type": "scatter"
                      }
                    ],
                    "scatter3d": [
                      {
                        "line": {
                          "colorbar": {
                            "outlinewidth": 0,
                            "ticks": ""
                          }
                        },
                        "marker": {
                          "colorbar": {
                            "outlinewidth": 0,
                            "ticks": ""
                          }
                        },
                        "type": "scatter3d"
                      }
                    ],
                    "scattercarpet": [
                      {
                        "marker": {
                          "colorbar": {
                            "outlinewidth": 0,
                            "ticks": ""
                          }
                        },
                        "type": "scattercarpet"
                      }
                    ],
                    "scattergeo": [
                      {
                        "marker": {
                          "colorbar": {
                            "outlinewidth": 0,
                            "ticks": ""
                          }
                        },
                        "type": "scattergeo"
                      }
                    ],
                    "scattergl": [
                      {
                        "marker": {
                          "colorbar": {
                            "outlinewidth": 0,
                            "ticks": ""
                          }
                        },
                        "type": "scattergl"
                      }
                    ],
                    "scattermapbox": [
                      {
                        "marker": {
                          "colorbar": {
                            "outlinewidth": 0,
                            "ticks": ""
                          }
                        },
                        "type": "scattermapbox"
                      }
                    ],
                    "scatterpolar": [
                      {
                        "marker": {
                          "colorbar": {
                            "outlinewidth": 0,
                            "ticks": ""
                          }
                        },
                        "type": "scatterpolar"
                      }
                    ],
                    "scatterpolargl": [
                      {
                        "marker": {
                          "colorbar": {
                            "outlinewidth": 0,
                            "ticks": ""
                          }
                        },
                        "type": "scatterpolargl"
                      }
                    ],
                    "scatterternary": [
                      {
                        "marker": {
                          "colorbar": {
                            "outlinewidth": 0,
                            "ticks": ""
                          }
                        },
                        "type": "scatterternary"
                      }
                    ],
                    "surface": [
                      {
                        "colorbar": {
                          "outlinewidth": 0,
                          "ticks": ""
                        },
                        "colorscale": [
                          [
                            0,
                            "#0d0887"
                          ],
                          [
                            0.1111111111111111,
                            "#46039f"
                          ],
                          [
                            0.2222222222222222,
                            "#7201a8"
                          ],
                          [
                            0.3333333333333333,
                            "#9c179e"
                          ],
                          [
                            0.4444444444444444,
                            "#bd3786"
                          ],
                          [
                            0.5555555555555556,
                            "#d8576b"
                          ],
                          [
                            0.6666666666666666,
                            "#ed7953"
                          ],
                          [
                            0.7777777777777778,
                            "#fb9f3a"
                          ],
                          [
                            0.8888888888888888,
                            "#fdca26"
                          ],
                          [
                            1,
                            "#f0f921"
                          ]
                        ],
                        "type": "surface"
                      }
                    ],
                    "table": [
                      {
                        "cells": {
                          "fill": {
                            "color": "#EBF0F8"
                          },
                          "line": {
                            "color": "white"
                          }
                        },
                        "header": {
                          "fill": {
                            "color": "#C8D4E3"
                          },
                          "line": {
                            "color": "white"
                          }
                        },
                        "type": "table"
                      }
                    ]
                  },
                  "layout": {
                    "annotationdefaults": {
                      "arrowcolor": "#2a3f5f",
                      "arrowhead": 0,
                      "arrowwidth": 1
                    },
                    "autotypenumbers": "strict",
                    "coloraxis": {
                      "colorbar": {
                        "outlinewidth": 0,
                        "ticks": ""
                      }
                    },
                    "colorscale": {
                      "diverging": [
                        [
                          0,
                          "#8e0152"
                        ],
                        [
                          0.1,
                          "#c51b7d"
                        ],
                        [
                          0.2,
                          "#de77ae"
                        ],
                        [
                          0.3,
                          "#f1b6da"
                        ],
                        [
                          0.4,
                          "#fde0ef"
                        ],
                        [
                          0.5,
                          "#f7f7f7"
                        ],
                        [
                          0.6,
                          "#e6f5d0"
                        ],
                        [
                          0.7,
                          "#b8e186"
                        ],
                        [
                          0.8,
                          "#7fbc41"
                        ],
                        [
                          0.9,
                          "#4d9221"
                        ],
                        [
                          1,
                          "#276419"
                        ]
                      ],
                      "sequential": [
                        [
                          0,
                          "#0d0887"
                        ],
                        [
                          0.1111111111111111,
                          "#46039f"
                        ],
                        [
                          0.2222222222222222,
                          "#7201a8"
                        ],
                        [
                          0.3333333333333333,
                          "#9c179e"
                        ],
                        [
                          0.4444444444444444,
                          "#bd3786"
                        ],
                        [
                          0.5555555555555556,
                          "#d8576b"
                        ],
                        [
                          0.6666666666666666,
                          "#ed7953"
                        ],
                        [
                          0.7777777777777778,
                          "#fb9f3a"
                        ],
                        [
                          0.8888888888888888,
                          "#fdca26"
                        ],
                        [
                          1,
                          "#f0f921"
                        ]
                      ],
                      "sequentialminus": [
                        [
                          0,
                          "#0d0887"
                        ],
                        [
                          0.1111111111111111,
                          "#46039f"
                        ],
                        [
                          0.2222222222222222,
                          "#7201a8"
                        ],
                        [
                          0.3333333333333333,
                          "#9c179e"
                        ],
                        [
                          0.4444444444444444,
                          "#bd3786"
                        ],
                        [
                          0.5555555555555556,
                          "#d8576b"
                        ],
                        [
                          0.6666666666666666,
                          "#ed7953"
                        ],
                        [
                          0.7777777777777778,
                          "#fb9f3a"
                        ],
                        [
                          0.8888888888888888,
                          "#fdca26"
                        ],
                        [
                          1,
                          "#f0f921"
                        ]
                      ]
                    },
                    "colorway": [
                      "#636efa",
                      "#EF553B",
                      "#00cc96",
                      "#ab63fa",
                      "#FFA15A",
                      "#19d3f3",
                      "#FF6692",
                      "#B6E880",
                      "#FF97FF",
                      "#FECB52"
                    ],
                    "font": {
                      "color": "#2a3f5f"
                    },
                    "geo": {
                      "bgcolor": "white",
                      "lakecolor": "white",
                      "landcolor": "#E5ECF6",
                      "showlakes": true,
                      "showland": true,
                      "subunitcolor": "white"
                    },
                    "hoverlabel": {
                      "align": "left"
                    },
                    "hovermode": "closest",
                    "mapbox": {
                      "style": "light"
                    },
                    "paper_bgcolor": "white",
                    "plot_bgcolor": "#E5ECF6",
                    "polar": {
                      "angularaxis": {
                        "gridcolor": "white",
                        "linecolor": "white",
                        "ticks": ""
                      },
                      "bgcolor": "#E5ECF6",
                      "radialaxis": {
                        "gridcolor": "white",
                        "linecolor": "white",
                        "ticks": ""
                      }
                    },
                    "scene": {
                      "xaxis": {
                        "backgroundcolor": "#E5ECF6",
                        "gridcolor": "white",
                        "gridwidth": 2,
                        "linecolor": "white",
                        "showbackground": true,
                        "ticks": "",
                        "zerolinecolor": "white"
                      },
                      "yaxis": {
                        "backgroundcolor": "#E5ECF6",
                        "gridcolor": "white",
                        "gridwidth": 2,
                        "linecolor": "white",
                        "showbackground": true,
                        "ticks": "",
                        "zerolinecolor": "white"
                      },
                      "zaxis": {
                        "backgroundcolor": "#E5ECF6",
                        "gridcolor": "white",
                        "gridwidth": 2,
                        "linecolor": "white",
                        "showbackground": true,
                        "ticks": "",
                        "zerolinecolor": "white"
                      }
                    },
                    "shapedefaults": {
                      "line": {
                        "color": "#2a3f5f"
                      }
                    },
                    "ternary": {
                      "aaxis": {
                        "gridcolor": "white",
                        "linecolor": "white",
                        "ticks": ""
                      },
                      "baxis": {
                        "gridcolor": "white",
                        "linecolor": "white",
                        "ticks": ""
                      },
                      "bgcolor": "#E5ECF6",
                      "caxis": {
                        "gridcolor": "white",
                        "linecolor": "white",
                        "ticks": ""
                      }
                    },
                    "title": {
                      "x": 0.05
                    },
                    "xaxis": {
                      "automargin": true,
                      "gridcolor": "white",
                      "linecolor": "white",
                      "ticks": "",
                      "title": {
                        "standoff": 15
                      },
                      "zerolinecolor": "white",
                      "zerolinewidth": 2
                    },
                    "yaxis": {
                      "automargin": true,
                      "gridcolor": "white",
                      "linecolor": "white",
                      "ticks": "",
                      "title": {
                        "standoff": 15
                      },
                      "zerolinecolor": "white",
                      "zerolinewidth": 2
                    }
                  }
                },
                "xaxis": {
                  "constrain": "domain",
                  "scaleanchor": "y"
                },
                "yaxis": {
                  "autorange": "reversed",
                  "constrain": "domain"
                }
              }
            }
          },
          "metadata": {},
          "output_type": "display_data"
        }
      ],
      "source": [
        "dissim_matrix_plot = gtda.plotting.plot_heatmap(dissim_matrixes[print_obj], colorscale = None, plotly_params = { 'autocolorscale': True })\n",
        "display(dissim_matrix_plot)\n",
        "dissim_matrix_plot.write_image(file = f\"{subj}/{exp}/dissim_matrix.svg\", format = \"svg\")"
      ]
    },
    {
      "cell_type": "markdown",
      "metadata": {},
      "source": [
        "#### VietorisRipsPersistence"
      ]
    },
    {
      "cell_type": "code",
      "execution_count": null,
      "metadata": {},
      "outputs": [
        {
          "name": "stdout",
          "output_type": "stream",
          "text": [
            "(25104, 50, 3)\n"
          ]
        }
      ],
      "source": [
        "dissim_persistence = gtda.homology.VietorisRipsPersistence(metric = \"precomputed\", homology_dimensions = DISSIM_HOMOLOGY_DIMENSIONS, n_jobs = -1)\n",
        "dissim_diagrams = dissim_persistence.fit_transform(dissim_matrixes)\n",
        "numpy.save(f\"{subj}/{exp}/dissim_diagrams.npy\", dissim_diagrams)\n",
        "print(dissim_diagrams.shape)"
      ]
    },
    {
      "cell_type": "code",
      "execution_count": null,
      "metadata": {},
      "outputs": [
        {
          "data": {
            "application/vnd.plotly.v1+json": {
              "config": {
                "plotlyServerURL": "https://plot.ly"
              },
              "data": [
                {
                  "hoverinfo": "none",
                  "line": {
                    "color": "black",
                    "dash": "dash",
                    "width": 1
                  },
                  "mode": "lines",
                  "showlegend": false,
                  "type": "scatter",
                  "x": [
                    -0.003568430580198765,
                    0.733977734260261
                  ],
                  "y": [
                    -0.003568430580198765,
                    0.733977734260261
                  ]
                },
                {
                  "hoverinfo": "text",
                  "hovertext": [
                    "(0.4906969964504242, 0.5543769001960754)",
                    "(0.2805217206478119, 0.37233033776283264)",
                    "(0.17078106105327606, 0.21290753781795502)",
                    "(0.0916220024228096, 0.10685327649116516)",
                    "(0.010615149512887001, 0.01444491557776928)"
                  ],
                  "mode": "markers",
                  "name": "H1",
                  "type": "scatter",
                  "x": [
                    0.4906969964504242,
                    0.2805217206478119,
                    0.17078106105327606,
                    0.0916220024228096,
                    0.010615149512887001
                  ],
                  "y": [
                    0.5543769001960754,
                    0.37233033776283264,
                    0.21290753781795502,
                    0.10685327649116516,
                    0.01444491557776928
                  ]
                },
                {
                  "hoverinfo": "text",
                  "hovertext": [
                    "(0.6155862808227539, 0.6711254715919495)",
                    "(0.6154104471206665, 0.6838913559913635)",
                    "(0.11103792488574982, 0.11118826270103455)"
                  ],
                  "mode": "markers",
                  "name": "H2",
                  "type": "scatter",
                  "x": [
                    0.6155862808227539,
                    0.6154104471206665,
                    0.11103792488574982
                  ],
                  "y": [
                    0.6711254715919495,
                    0.6838913559913635,
                    0.11118826270103455
                  ]
                },
                {
                  "hoverinfo": "text",
                  "hovertext": [
                    "(0.6931443810462952, 0.7197941541671753)"
                  ],
                  "mode": "markers",
                  "name": "H3",
                  "type": "scatter",
                  "x": [
                    0.6931443810462952
                  ],
                  "y": [
                    0.7197941541671753
                  ]
                },
                {
                  "hoverinfo": "text",
                  "hovertext": [],
                  "mode": "markers",
                  "name": "H4",
                  "type": "scatter",
                  "x": [],
                  "y": []
                },
                {
                  "hoverinfo": "text",
                  "hovertext": [],
                  "mode": "markers",
                  "name": "H5",
                  "type": "scatter",
                  "x": [],
                  "y": []
                }
              ],
              "layout": {
                "height": 500,
                "plot_bgcolor": "white",
                "template": {
                  "data": {
                    "bar": [
                      {
                        "error_x": {
                          "color": "#2a3f5f"
                        },
                        "error_y": {
                          "color": "#2a3f5f"
                        },
                        "marker": {
                          "line": {
                            "color": "#E5ECF6",
                            "width": 0.5
                          },
                          "pattern": {
                            "fillmode": "overlay",
                            "size": 10,
                            "solidity": 0.2
                          }
                        },
                        "type": "bar"
                      }
                    ],
                    "barpolar": [
                      {
                        "marker": {
                          "line": {
                            "color": "#E5ECF6",
                            "width": 0.5
                          },
                          "pattern": {
                            "fillmode": "overlay",
                            "size": 10,
                            "solidity": 0.2
                          }
                        },
                        "type": "barpolar"
                      }
                    ],
                    "carpet": [
                      {
                        "aaxis": {
                          "endlinecolor": "#2a3f5f",
                          "gridcolor": "white",
                          "linecolor": "white",
                          "minorgridcolor": "white",
                          "startlinecolor": "#2a3f5f"
                        },
                        "baxis": {
                          "endlinecolor": "#2a3f5f",
                          "gridcolor": "white",
                          "linecolor": "white",
                          "minorgridcolor": "white",
                          "startlinecolor": "#2a3f5f"
                        },
                        "type": "carpet"
                      }
                    ],
                    "choropleth": [
                      {
                        "colorbar": {
                          "outlinewidth": 0,
                          "ticks": ""
                        },
                        "type": "choropleth"
                      }
                    ],
                    "contour": [
                      {
                        "colorbar": {
                          "outlinewidth": 0,
                          "ticks": ""
                        },
                        "colorscale": [
                          [
                            0,
                            "#0d0887"
                          ],
                          [
                            0.1111111111111111,
                            "#46039f"
                          ],
                          [
                            0.2222222222222222,
                            "#7201a8"
                          ],
                          [
                            0.3333333333333333,
                            "#9c179e"
                          ],
                          [
                            0.4444444444444444,
                            "#bd3786"
                          ],
                          [
                            0.5555555555555556,
                            "#d8576b"
                          ],
                          [
                            0.6666666666666666,
                            "#ed7953"
                          ],
                          [
                            0.7777777777777778,
                            "#fb9f3a"
                          ],
                          [
                            0.8888888888888888,
                            "#fdca26"
                          ],
                          [
                            1,
                            "#f0f921"
                          ]
                        ],
                        "type": "contour"
                      }
                    ],
                    "contourcarpet": [
                      {
                        "colorbar": {
                          "outlinewidth": 0,
                          "ticks": ""
                        },
                        "type": "contourcarpet"
                      }
                    ],
                    "heatmap": [
                      {
                        "colorbar": {
                          "outlinewidth": 0,
                          "ticks": ""
                        },
                        "colorscale": [
                          [
                            0,
                            "#0d0887"
                          ],
                          [
                            0.1111111111111111,
                            "#46039f"
                          ],
                          [
                            0.2222222222222222,
                            "#7201a8"
                          ],
                          [
                            0.3333333333333333,
                            "#9c179e"
                          ],
                          [
                            0.4444444444444444,
                            "#bd3786"
                          ],
                          [
                            0.5555555555555556,
                            "#d8576b"
                          ],
                          [
                            0.6666666666666666,
                            "#ed7953"
                          ],
                          [
                            0.7777777777777778,
                            "#fb9f3a"
                          ],
                          [
                            0.8888888888888888,
                            "#fdca26"
                          ],
                          [
                            1,
                            "#f0f921"
                          ]
                        ],
                        "type": "heatmap"
                      }
                    ],
                    "heatmapgl": [
                      {
                        "colorbar": {
                          "outlinewidth": 0,
                          "ticks": ""
                        },
                        "colorscale": [
                          [
                            0,
                            "#0d0887"
                          ],
                          [
                            0.1111111111111111,
                            "#46039f"
                          ],
                          [
                            0.2222222222222222,
                            "#7201a8"
                          ],
                          [
                            0.3333333333333333,
                            "#9c179e"
                          ],
                          [
                            0.4444444444444444,
                            "#bd3786"
                          ],
                          [
                            0.5555555555555556,
                            "#d8576b"
                          ],
                          [
                            0.6666666666666666,
                            "#ed7953"
                          ],
                          [
                            0.7777777777777778,
                            "#fb9f3a"
                          ],
                          [
                            0.8888888888888888,
                            "#fdca26"
                          ],
                          [
                            1,
                            "#f0f921"
                          ]
                        ],
                        "type": "heatmapgl"
                      }
                    ],
                    "histogram": [
                      {
                        "marker": {
                          "pattern": {
                            "fillmode": "overlay",
                            "size": 10,
                            "solidity": 0.2
                          }
                        },
                        "type": "histogram"
                      }
                    ],
                    "histogram2d": [
                      {
                        "colorbar": {
                          "outlinewidth": 0,
                          "ticks": ""
                        },
                        "colorscale": [
                          [
                            0,
                            "#0d0887"
                          ],
                          [
                            0.1111111111111111,
                            "#46039f"
                          ],
                          [
                            0.2222222222222222,
                            "#7201a8"
                          ],
                          [
                            0.3333333333333333,
                            "#9c179e"
                          ],
                          [
                            0.4444444444444444,
                            "#bd3786"
                          ],
                          [
                            0.5555555555555556,
                            "#d8576b"
                          ],
                          [
                            0.6666666666666666,
                            "#ed7953"
                          ],
                          [
                            0.7777777777777778,
                            "#fb9f3a"
                          ],
                          [
                            0.8888888888888888,
                            "#fdca26"
                          ],
                          [
                            1,
                            "#f0f921"
                          ]
                        ],
                        "type": "histogram2d"
                      }
                    ],
                    "histogram2dcontour": [
                      {
                        "colorbar": {
                          "outlinewidth": 0,
                          "ticks": ""
                        },
                        "colorscale": [
                          [
                            0,
                            "#0d0887"
                          ],
                          [
                            0.1111111111111111,
                            "#46039f"
                          ],
                          [
                            0.2222222222222222,
                            "#7201a8"
                          ],
                          [
                            0.3333333333333333,
                            "#9c179e"
                          ],
                          [
                            0.4444444444444444,
                            "#bd3786"
                          ],
                          [
                            0.5555555555555556,
                            "#d8576b"
                          ],
                          [
                            0.6666666666666666,
                            "#ed7953"
                          ],
                          [
                            0.7777777777777778,
                            "#fb9f3a"
                          ],
                          [
                            0.8888888888888888,
                            "#fdca26"
                          ],
                          [
                            1,
                            "#f0f921"
                          ]
                        ],
                        "type": "histogram2dcontour"
                      }
                    ],
                    "mesh3d": [
                      {
                        "colorbar": {
                          "outlinewidth": 0,
                          "ticks": ""
                        },
                        "type": "mesh3d"
                      }
                    ],
                    "parcoords": [
                      {
                        "line": {
                          "colorbar": {
                            "outlinewidth": 0,
                            "ticks": ""
                          }
                        },
                        "type": "parcoords"
                      }
                    ],
                    "pie": [
                      {
                        "automargin": true,
                        "type": "pie"
                      }
                    ],
                    "scatter": [
                      {
                        "fillpattern": {
                          "fillmode": "overlay",
                          "size": 10,
                          "solidity": 0.2
                        },
                        "type": "scatter"
                      }
                    ],
                    "scatter3d": [
                      {
                        "line": {
                          "colorbar": {
                            "outlinewidth": 0,
                            "ticks": ""
                          }
                        },
                        "marker": {
                          "colorbar": {
                            "outlinewidth": 0,
                            "ticks": ""
                          }
                        },
                        "type": "scatter3d"
                      }
                    ],
                    "scattercarpet": [
                      {
                        "marker": {
                          "colorbar": {
                            "outlinewidth": 0,
                            "ticks": ""
                          }
                        },
                        "type": "scattercarpet"
                      }
                    ],
                    "scattergeo": [
                      {
                        "marker": {
                          "colorbar": {
                            "outlinewidth": 0,
                            "ticks": ""
                          }
                        },
                        "type": "scattergeo"
                      }
                    ],
                    "scattergl": [
                      {
                        "marker": {
                          "colorbar": {
                            "outlinewidth": 0,
                            "ticks": ""
                          }
                        },
                        "type": "scattergl"
                      }
                    ],
                    "scattermapbox": [
                      {
                        "marker": {
                          "colorbar": {
                            "outlinewidth": 0,
                            "ticks": ""
                          }
                        },
                        "type": "scattermapbox"
                      }
                    ],
                    "scatterpolar": [
                      {
                        "marker": {
                          "colorbar": {
                            "outlinewidth": 0,
                            "ticks": ""
                          }
                        },
                        "type": "scatterpolar"
                      }
                    ],
                    "scatterpolargl": [
                      {
                        "marker": {
                          "colorbar": {
                            "outlinewidth": 0,
                            "ticks": ""
                          }
                        },
                        "type": "scatterpolargl"
                      }
                    ],
                    "scatterternary": [
                      {
                        "marker": {
                          "colorbar": {
                            "outlinewidth": 0,
                            "ticks": ""
                          }
                        },
                        "type": "scatterternary"
                      }
                    ],
                    "surface": [
                      {
                        "colorbar": {
                          "outlinewidth": 0,
                          "ticks": ""
                        },
                        "colorscale": [
                          [
                            0,
                            "#0d0887"
                          ],
                          [
                            0.1111111111111111,
                            "#46039f"
                          ],
                          [
                            0.2222222222222222,
                            "#7201a8"
                          ],
                          [
                            0.3333333333333333,
                            "#9c179e"
                          ],
                          [
                            0.4444444444444444,
                            "#bd3786"
                          ],
                          [
                            0.5555555555555556,
                            "#d8576b"
                          ],
                          [
                            0.6666666666666666,
                            "#ed7953"
                          ],
                          [
                            0.7777777777777778,
                            "#fb9f3a"
                          ],
                          [
                            0.8888888888888888,
                            "#fdca26"
                          ],
                          [
                            1,
                            "#f0f921"
                          ]
                        ],
                        "type": "surface"
                      }
                    ],
                    "table": [
                      {
                        "cells": {
                          "fill": {
                            "color": "#EBF0F8"
                          },
                          "line": {
                            "color": "white"
                          }
                        },
                        "header": {
                          "fill": {
                            "color": "#C8D4E3"
                          },
                          "line": {
                            "color": "white"
                          }
                        },
                        "type": "table"
                      }
                    ]
                  },
                  "layout": {
                    "annotationdefaults": {
                      "arrowcolor": "#2a3f5f",
                      "arrowhead": 0,
                      "arrowwidth": 1
                    },
                    "autotypenumbers": "strict",
                    "coloraxis": {
                      "colorbar": {
                        "outlinewidth": 0,
                        "ticks": ""
                      }
                    },
                    "colorscale": {
                      "diverging": [
                        [
                          0,
                          "#8e0152"
                        ],
                        [
                          0.1,
                          "#c51b7d"
                        ],
                        [
                          0.2,
                          "#de77ae"
                        ],
                        [
                          0.3,
                          "#f1b6da"
                        ],
                        [
                          0.4,
                          "#fde0ef"
                        ],
                        [
                          0.5,
                          "#f7f7f7"
                        ],
                        [
                          0.6,
                          "#e6f5d0"
                        ],
                        [
                          0.7,
                          "#b8e186"
                        ],
                        [
                          0.8,
                          "#7fbc41"
                        ],
                        [
                          0.9,
                          "#4d9221"
                        ],
                        [
                          1,
                          "#276419"
                        ]
                      ],
                      "sequential": [
                        [
                          0,
                          "#0d0887"
                        ],
                        [
                          0.1111111111111111,
                          "#46039f"
                        ],
                        [
                          0.2222222222222222,
                          "#7201a8"
                        ],
                        [
                          0.3333333333333333,
                          "#9c179e"
                        ],
                        [
                          0.4444444444444444,
                          "#bd3786"
                        ],
                        [
                          0.5555555555555556,
                          "#d8576b"
                        ],
                        [
                          0.6666666666666666,
                          "#ed7953"
                        ],
                        [
                          0.7777777777777778,
                          "#fb9f3a"
                        ],
                        [
                          0.8888888888888888,
                          "#fdca26"
                        ],
                        [
                          1,
                          "#f0f921"
                        ]
                      ],
                      "sequentialminus": [
                        [
                          0,
                          "#0d0887"
                        ],
                        [
                          0.1111111111111111,
                          "#46039f"
                        ],
                        [
                          0.2222222222222222,
                          "#7201a8"
                        ],
                        [
                          0.3333333333333333,
                          "#9c179e"
                        ],
                        [
                          0.4444444444444444,
                          "#bd3786"
                        ],
                        [
                          0.5555555555555556,
                          "#d8576b"
                        ],
                        [
                          0.6666666666666666,
                          "#ed7953"
                        ],
                        [
                          0.7777777777777778,
                          "#fb9f3a"
                        ],
                        [
                          0.8888888888888888,
                          "#fdca26"
                        ],
                        [
                          1,
                          "#f0f921"
                        ]
                      ]
                    },
                    "colorway": [
                      "#636efa",
                      "#EF553B",
                      "#00cc96",
                      "#ab63fa",
                      "#FFA15A",
                      "#19d3f3",
                      "#FF6692",
                      "#B6E880",
                      "#FF97FF",
                      "#FECB52"
                    ],
                    "font": {
                      "color": "#2a3f5f"
                    },
                    "geo": {
                      "bgcolor": "white",
                      "lakecolor": "white",
                      "landcolor": "#E5ECF6",
                      "showlakes": true,
                      "showland": true,
                      "subunitcolor": "white"
                    },
                    "hoverlabel": {
                      "align": "left"
                    },
                    "hovermode": "closest",
                    "mapbox": {
                      "style": "light"
                    },
                    "paper_bgcolor": "white",
                    "plot_bgcolor": "#E5ECF6",
                    "polar": {
                      "angularaxis": {
                        "gridcolor": "white",
                        "linecolor": "white",
                        "ticks": ""
                      },
                      "bgcolor": "#E5ECF6",
                      "radialaxis": {
                        "gridcolor": "white",
                        "linecolor": "white",
                        "ticks": ""
                      }
                    },
                    "scene": {
                      "xaxis": {
                        "backgroundcolor": "#E5ECF6",
                        "gridcolor": "white",
                        "gridwidth": 2,
                        "linecolor": "white",
                        "showbackground": true,
                        "ticks": "",
                        "zerolinecolor": "white"
                      },
                      "yaxis": {
                        "backgroundcolor": "#E5ECF6",
                        "gridcolor": "white",
                        "gridwidth": 2,
                        "linecolor": "white",
                        "showbackground": true,
                        "ticks": "",
                        "zerolinecolor": "white"
                      },
                      "zaxis": {
                        "backgroundcolor": "#E5ECF6",
                        "gridcolor": "white",
                        "gridwidth": 2,
                        "linecolor": "white",
                        "showbackground": true,
                        "ticks": "",
                        "zerolinecolor": "white"
                      }
                    },
                    "shapedefaults": {
                      "line": {
                        "color": "#2a3f5f"
                      }
                    },
                    "ternary": {
                      "aaxis": {
                        "gridcolor": "white",
                        "linecolor": "white",
                        "ticks": ""
                      },
                      "baxis": {
                        "gridcolor": "white",
                        "linecolor": "white",
                        "ticks": ""
                      },
                      "bgcolor": "#E5ECF6",
                      "caxis": {
                        "gridcolor": "white",
                        "linecolor": "white",
                        "ticks": ""
                      }
                    },
                    "title": {
                      "x": 0.05
                    },
                    "xaxis": {
                      "automargin": true,
                      "gridcolor": "white",
                      "linecolor": "white",
                      "ticks": "",
                      "title": {
                        "standoff": 15
                      },
                      "zerolinecolor": "white",
                      "zerolinewidth": 2
                    },
                    "yaxis": {
                      "automargin": true,
                      "gridcolor": "white",
                      "linecolor": "white",
                      "ticks": "",
                      "title": {
                        "standoff": 15
                      },
                      "zerolinecolor": "white",
                      "zerolinewidth": 2
                    }
                  }
                },
                "width": 500,
                "xaxis": {
                  "autorange": false,
                  "exponentformat": "e",
                  "linecolor": "black",
                  "linewidth": 1,
                  "mirror": false,
                  "range": [
                    -0.003568430580198765,
                    0.733977734260261
                  ],
                  "showexponent": "all",
                  "showline": true,
                  "side": "bottom",
                  "ticks": "outside",
                  "title": {
                    "text": "Birth"
                  },
                  "type": "linear",
                  "zeroline": true
                },
                "yaxis": {
                  "autorange": false,
                  "exponentformat": "e",
                  "linecolor": "black",
                  "linewidth": 1,
                  "mirror": false,
                  "range": [
                    -0.003568430580198765,
                    0.733977734260261
                  ],
                  "scaleanchor": "x",
                  "scaleratio": 1,
                  "showexponent": "all",
                  "showline": true,
                  "side": "left",
                  "ticks": "outside",
                  "title": {
                    "text": "Death"
                  },
                  "type": "linear",
                  "zeroline": true
                }
              }
            }
          },
          "metadata": {},
          "output_type": "display_data"
        }
      ],
      "source": [
        "dissim_diagram_plot = gtda.plotting.plot_diagram(dissim_diagrams[print_obj])\n",
        "display(dissim_diagram_plot)\n",
        "dissim_diagram_plot.write_image(file = f\"{subj}/{exp}/dissim_diagram.svg\", format = \"svg\")"
      ]
    },
    {
      "cell_type": "markdown",
      "metadata": {},
      "source": [
        "#### FeatureCalculator"
      ]
    },
    {
      "cell_type": "code",
      "execution_count": null,
      "metadata": {},
      "outputs": [
        {
          "name": "stdout",
          "output_type": "stream",
          "text": [
            "Filtered diagrams: (25104, 48, 3)\n",
            "N bins: 100\n"
          ]
        },
        {
          "name": "stderr",
          "output_type": "stream",
          "text": [
            " betti: 100%|██████████| 25104/25104 [02:10<00:00, 192.91it/s]\n",
            " landscape: 100%|██████████| 25104/25104 [02:12<00:00, 189.92it/s]\n",
            " silhouette-1: 100%|██████████| 25104/25104 [02:02<00:00, 205.46it/s]\n",
            " silhouette-2: 100%|██████████| 25104/25104 [02:15<00:00, 185.33it/s]\n",
            " amplitudes: 100%|██████████| 13/13 [00:14<00:00,  1.11s/it]\n",
            " lifetime: 100%|██████████| 25104/25104 [04:26<00:00, 94.32it/s]\n"
          ]
        },
        {
          "data": {
            "text/html": [
              "<div>\n",
              "<style scoped>\n",
              "    .dataframe tbody tr th:only-of-type {\n",
              "        vertical-align: middle;\n",
              "    }\n",
              "\n",
              "    .dataframe tbody tr th {\n",
              "        vertical-align: top;\n",
              "    }\n",
              "\n",
              "    .dataframe thead th {\n",
              "        text-align: right;\n",
              "    }\n",
              "</style>\n",
              "<table border=\"1\" class=\"dataframe\">\n",
              "  <thead>\n",
              "    <tr style=\"text-align: right;\">\n",
              "      <th></th>\n",
              "      <th>dissim-0 betti dim-1 max</th>\n",
              "      <th>dissim-0 betti dim-1 mean</th>\n",
              "      <th>dissim-0 betti dim-1 std</th>\n",
              "      <th>dissim-0 betti dim-1 sum</th>\n",
              "      <th>dissim-0 betti dim-1 percentile-25</th>\n",
              "      <th>dissim-0 betti dim-1 median</th>\n",
              "      <th>dissim-0 betti dim-1 percentile-75</th>\n",
              "      <th>dissim-0 betti dim-1 kurtosis</th>\n",
              "      <th>dissim-0 betti dim-1 skew</th>\n",
              "      <th>dissim-0 betti dim-1 norm-1</th>\n",
              "      <th>...</th>\n",
              "      <th>dissim-23 bd2 dim-5 mean</th>\n",
              "      <th>dissim-23 bd2 dim-5 std</th>\n",
              "      <th>dissim-23 bd2 dim-5 sum</th>\n",
              "      <th>dissim-23 bd2 dim-5 percentile-25</th>\n",
              "      <th>dissim-23 bd2 dim-5 median</th>\n",
              "      <th>dissim-23 bd2 dim-5 percentile-75</th>\n",
              "      <th>dissim-23 bd2 dim-5 kurtosis</th>\n",
              "      <th>dissim-23 bd2 dim-5 skew</th>\n",
              "      <th>dissim-23 bd2 dim-5 norm-1</th>\n",
              "      <th>dissim-23 bd2 dim-5 norm-2</th>\n",
              "    </tr>\n",
              "  </thead>\n",
              "  <tbody>\n",
              "    <tr>\n",
              "      <th>0</th>\n",
              "      <td>1.00</td>\n",
              "      <td>0.00</td>\n",
              "      <td>0.47</td>\n",
              "      <td>0.00</td>\n",
              "      <td>0.00</td>\n",
              "      <td>0.00</td>\n",
              "      <td>0.00</td>\n",
              "      <td>16.23</td>\n",
              "      <td>-2.31</td>\n",
              "      <td>16.00</td>\n",
              "      <td>...</td>\n",
              "      <td>0.00</td>\n",
              "      <td>0.00</td>\n",
              "      <td>0.00</td>\n",
              "      <td>0.00</td>\n",
              "      <td>0.00</td>\n",
              "      <td>0.00</td>\n",
              "      <td>0.00</td>\n",
              "      <td>0.00</td>\n",
              "      <td>0.00</td>\n",
              "      <td>0.00</td>\n",
              "    </tr>\n",
              "    <tr>\n",
              "      <th>1</th>\n",
              "      <td>1.00</td>\n",
              "      <td>0.00</td>\n",
              "      <td>0.28</td>\n",
              "      <td>0.00</td>\n",
              "      <td>0.00</td>\n",
              "      <td>0.00</td>\n",
              "      <td>0.00</td>\n",
              "      <td>9.38</td>\n",
              "      <td>0.00</td>\n",
              "      <td>8.00</td>\n",
              "      <td>...</td>\n",
              "      <td>0.00</td>\n",
              "      <td>0.00</td>\n",
              "      <td>0.00</td>\n",
              "      <td>0.00</td>\n",
              "      <td>0.00</td>\n",
              "      <td>0.00</td>\n",
              "      <td>0.00</td>\n",
              "      <td>0.00</td>\n",
              "      <td>0.00</td>\n",
              "      <td>0.00</td>\n",
              "    </tr>\n",
              "    <tr>\n",
              "      <th>2</th>\n",
              "      <td>1.00</td>\n",
              "      <td>0.00</td>\n",
              "      <td>0.38</td>\n",
              "      <td>0.00</td>\n",
              "      <td>0.00</td>\n",
              "      <td>0.00</td>\n",
              "      <td>0.00</td>\n",
              "      <td>10.13</td>\n",
              "      <td>-1.14</td>\n",
              "      <td>12.00</td>\n",
              "      <td>...</td>\n",
              "      <td>0.00</td>\n",
              "      <td>0.00</td>\n",
              "      <td>0.00</td>\n",
              "      <td>0.00</td>\n",
              "      <td>0.00</td>\n",
              "      <td>0.00</td>\n",
              "      <td>0.00</td>\n",
              "      <td>0.00</td>\n",
              "      <td>0.00</td>\n",
              "      <td>0.00</td>\n",
              "    </tr>\n",
              "    <tr>\n",
              "      <th>3</th>\n",
              "      <td>1.00</td>\n",
              "      <td>0.00</td>\n",
              "      <td>0.20</td>\n",
              "      <td>0.00</td>\n",
              "      <td>0.00</td>\n",
              "      <td>0.00</td>\n",
              "      <td>0.00</td>\n",
              "      <td>21.75</td>\n",
              "      <td>0.00</td>\n",
              "      <td>4.00</td>\n",
              "      <td>...</td>\n",
              "      <td>0.00</td>\n",
              "      <td>0.00</td>\n",
              "      <td>0.00</td>\n",
              "      <td>0.00</td>\n",
              "      <td>0.00</td>\n",
              "      <td>0.00</td>\n",
              "      <td>0.00</td>\n",
              "      <td>0.00</td>\n",
              "      <td>0.00</td>\n",
              "      <td>0.00</td>\n",
              "    </tr>\n",
              "    <tr>\n",
              "      <th>4</th>\n",
              "      <td>2.00</td>\n",
              "      <td>0.00</td>\n",
              "      <td>0.40</td>\n",
              "      <td>0.00</td>\n",
              "      <td>0.00</td>\n",
              "      <td>0.00</td>\n",
              "      <td>0.00</td>\n",
              "      <td>12.47</td>\n",
              "      <td>0.00</td>\n",
              "      <td>12.00</td>\n",
              "      <td>...</td>\n",
              "      <td>0.00</td>\n",
              "      <td>0.00</td>\n",
              "      <td>0.00</td>\n",
              "      <td>0.00</td>\n",
              "      <td>0.00</td>\n",
              "      <td>0.00</td>\n",
              "      <td>0.00</td>\n",
              "      <td>0.00</td>\n",
              "      <td>0.00</td>\n",
              "      <td>0.00</td>\n",
              "    </tr>\n",
              "    <tr>\n",
              "      <th>...</th>\n",
              "      <td>...</td>\n",
              "      <td>...</td>\n",
              "      <td>...</td>\n",
              "      <td>...</td>\n",
              "      <td>...</td>\n",
              "      <td>...</td>\n",
              "      <td>...</td>\n",
              "      <td>...</td>\n",
              "      <td>...</td>\n",
              "      <td>...</td>\n",
              "      <td>...</td>\n",
              "      <td>...</td>\n",
              "      <td>...</td>\n",
              "      <td>...</td>\n",
              "      <td>...</td>\n",
              "      <td>...</td>\n",
              "      <td>...</td>\n",
              "      <td>...</td>\n",
              "      <td>...</td>\n",
              "      <td>...</td>\n",
              "      <td>...</td>\n",
              "    </tr>\n",
              "    <tr>\n",
              "      <th>1041</th>\n",
              "      <td>2.00</td>\n",
              "      <td>0.00</td>\n",
              "      <td>0.35</td>\n",
              "      <td>0.00</td>\n",
              "      <td>0.00</td>\n",
              "      <td>0.00</td>\n",
              "      <td>0.00</td>\n",
              "      <td>21.75</td>\n",
              "      <td>0.00</td>\n",
              "      <td>8.00</td>\n",
              "      <td>...</td>\n",
              "      <td>0.00</td>\n",
              "      <td>0.00</td>\n",
              "      <td>0.00</td>\n",
              "      <td>0.00</td>\n",
              "      <td>0.00</td>\n",
              "      <td>0.00</td>\n",
              "      <td>0.00</td>\n",
              "      <td>0.00</td>\n",
              "      <td>0.00</td>\n",
              "      <td>0.00</td>\n",
              "    </tr>\n",
              "    <tr>\n",
              "      <th>1042</th>\n",
              "      <td>1.00</td>\n",
              "      <td>0.00</td>\n",
              "      <td>0.14</td>\n",
              "      <td>0.00</td>\n",
              "      <td>0.00</td>\n",
              "      <td>0.00</td>\n",
              "      <td>0.00</td>\n",
              "      <td>46.50</td>\n",
              "      <td>0.00</td>\n",
              "      <td>2.00</td>\n",
              "      <td>...</td>\n",
              "      <td>0.00</td>\n",
              "      <td>0.00</td>\n",
              "      <td>0.00</td>\n",
              "      <td>0.00</td>\n",
              "      <td>0.00</td>\n",
              "      <td>0.00</td>\n",
              "      <td>0.00</td>\n",
              "      <td>0.00</td>\n",
              "      <td>0.00</td>\n",
              "      <td>0.00</td>\n",
              "    </tr>\n",
              "    <tr>\n",
              "      <th>1043</th>\n",
              "      <td>1.00</td>\n",
              "      <td>0.00</td>\n",
              "      <td>0.25</td>\n",
              "      <td>0.00</td>\n",
              "      <td>0.00</td>\n",
              "      <td>0.00</td>\n",
              "      <td>0.00</td>\n",
              "      <td>13.50</td>\n",
              "      <td>0.00</td>\n",
              "      <td>6.00</td>\n",
              "      <td>...</td>\n",
              "      <td>0.00</td>\n",
              "      <td>0.00</td>\n",
              "      <td>0.00</td>\n",
              "      <td>0.00</td>\n",
              "      <td>0.00</td>\n",
              "      <td>0.00</td>\n",
              "      <td>0.00</td>\n",
              "      <td>0.00</td>\n",
              "      <td>0.00</td>\n",
              "      <td>0.00</td>\n",
              "    </tr>\n",
              "    <tr>\n",
              "      <th>1044</th>\n",
              "      <td>2.00</td>\n",
              "      <td>0.00</td>\n",
              "      <td>0.47</td>\n",
              "      <td>0.00</td>\n",
              "      <td>0.00</td>\n",
              "      <td>0.00</td>\n",
              "      <td>0.00</td>\n",
              "      <td>8.86</td>\n",
              "      <td>0.58</td>\n",
              "      <td>16.00</td>\n",
              "      <td>...</td>\n",
              "      <td>0.00</td>\n",
              "      <td>0.00</td>\n",
              "      <td>0.00</td>\n",
              "      <td>0.00</td>\n",
              "      <td>0.00</td>\n",
              "      <td>0.00</td>\n",
              "      <td>0.00</td>\n",
              "      <td>0.00</td>\n",
              "      <td>0.00</td>\n",
              "      <td>0.00</td>\n",
              "    </tr>\n",
              "    <tr>\n",
              "      <th>1045</th>\n",
              "      <td>2.00</td>\n",
              "      <td>0.00</td>\n",
              "      <td>0.40</td>\n",
              "      <td>0.00</td>\n",
              "      <td>0.00</td>\n",
              "      <td>0.00</td>\n",
              "      <td>0.00</td>\n",
              "      <td>12.47</td>\n",
              "      <td>0.00</td>\n",
              "      <td>12.00</td>\n",
              "      <td>...</td>\n",
              "      <td>0.00</td>\n",
              "      <td>0.00</td>\n",
              "      <td>0.00</td>\n",
              "      <td>0.00</td>\n",
              "      <td>0.00</td>\n",
              "      <td>0.00</td>\n",
              "      <td>0.00</td>\n",
              "      <td>0.00</td>\n",
              "      <td>0.00</td>\n",
              "      <td>0.00</td>\n",
              "    </tr>\n",
              "  </tbody>\n",
              "</table>\n",
              "<p>1046 rows × 10872 columns</p>\n",
              "</div>"
            ],
            "text/plain": [
              "      dissim-0 betti dim-1 max  dissim-0 betti dim-1 mean  \\\n",
              "0                         1.00                       0.00   \n",
              "1                         1.00                       0.00   \n",
              "2                         1.00                       0.00   \n",
              "3                         1.00                       0.00   \n",
              "4                         2.00                       0.00   \n",
              "...                        ...                        ...   \n",
              "1041                      2.00                       0.00   \n",
              "1042                      1.00                       0.00   \n",
              "1043                      1.00                       0.00   \n",
              "1044                      2.00                       0.00   \n",
              "1045                      2.00                       0.00   \n",
              "\n",
              "      dissim-0 betti dim-1 std  dissim-0 betti dim-1 sum  \\\n",
              "0                         0.47                      0.00   \n",
              "1                         0.28                      0.00   \n",
              "2                         0.38                      0.00   \n",
              "3                         0.20                      0.00   \n",
              "4                         0.40                      0.00   \n",
              "...                        ...                       ...   \n",
              "1041                      0.35                      0.00   \n",
              "1042                      0.14                      0.00   \n",
              "1043                      0.25                      0.00   \n",
              "1044                      0.47                      0.00   \n",
              "1045                      0.40                      0.00   \n",
              "\n",
              "      dissim-0 betti dim-1 percentile-25  dissim-0 betti dim-1 median  \\\n",
              "0                                   0.00                         0.00   \n",
              "1                                   0.00                         0.00   \n",
              "2                                   0.00                         0.00   \n",
              "3                                   0.00                         0.00   \n",
              "4                                   0.00                         0.00   \n",
              "...                                  ...                          ...   \n",
              "1041                                0.00                         0.00   \n",
              "1042                                0.00                         0.00   \n",
              "1043                                0.00                         0.00   \n",
              "1044                                0.00                         0.00   \n",
              "1045                                0.00                         0.00   \n",
              "\n",
              "      dissim-0 betti dim-1 percentile-75  dissim-0 betti dim-1 kurtosis  \\\n",
              "0                                   0.00                          16.23   \n",
              "1                                   0.00                           9.38   \n",
              "2                                   0.00                          10.13   \n",
              "3                                   0.00                          21.75   \n",
              "4                                   0.00                          12.47   \n",
              "...                                  ...                            ...   \n",
              "1041                                0.00                          21.75   \n",
              "1042                                0.00                          46.50   \n",
              "1043                                0.00                          13.50   \n",
              "1044                                0.00                           8.86   \n",
              "1045                                0.00                          12.47   \n",
              "\n",
              "      dissim-0 betti dim-1 skew  dissim-0 betti dim-1 norm-1  ...  \\\n",
              "0                         -2.31                        16.00  ...   \n",
              "1                          0.00                         8.00  ...   \n",
              "2                         -1.14                        12.00  ...   \n",
              "3                          0.00                         4.00  ...   \n",
              "4                          0.00                        12.00  ...   \n",
              "...                         ...                          ...  ...   \n",
              "1041                       0.00                         8.00  ...   \n",
              "1042                       0.00                         2.00  ...   \n",
              "1043                       0.00                         6.00  ...   \n",
              "1044                       0.58                        16.00  ...   \n",
              "1045                       0.00                        12.00  ...   \n",
              "\n",
              "      dissim-23 bd2 dim-5 mean  dissim-23 bd2 dim-5 std  \\\n",
              "0                         0.00                     0.00   \n",
              "1                         0.00                     0.00   \n",
              "2                         0.00                     0.00   \n",
              "3                         0.00                     0.00   \n",
              "4                         0.00                     0.00   \n",
              "...                        ...                      ...   \n",
              "1041                      0.00                     0.00   \n",
              "1042                      0.00                     0.00   \n",
              "1043                      0.00                     0.00   \n",
              "1044                      0.00                     0.00   \n",
              "1045                      0.00                     0.00   \n",
              "\n",
              "      dissim-23 bd2 dim-5 sum  dissim-23 bd2 dim-5 percentile-25  \\\n",
              "0                        0.00                               0.00   \n",
              "1                        0.00                               0.00   \n",
              "2                        0.00                               0.00   \n",
              "3                        0.00                               0.00   \n",
              "4                        0.00                               0.00   \n",
              "...                       ...                                ...   \n",
              "1041                     0.00                               0.00   \n",
              "1042                     0.00                               0.00   \n",
              "1043                     0.00                               0.00   \n",
              "1044                     0.00                               0.00   \n",
              "1045                     0.00                               0.00   \n",
              "\n",
              "      dissim-23 bd2 dim-5 median  dissim-23 bd2 dim-5 percentile-75  \\\n",
              "0                           0.00                               0.00   \n",
              "1                           0.00                               0.00   \n",
              "2                           0.00                               0.00   \n",
              "3                           0.00                               0.00   \n",
              "4                           0.00                               0.00   \n",
              "...                          ...                                ...   \n",
              "1041                        0.00                               0.00   \n",
              "1042                        0.00                               0.00   \n",
              "1043                        0.00                               0.00   \n",
              "1044                        0.00                               0.00   \n",
              "1045                        0.00                               0.00   \n",
              "\n",
              "      dissim-23 bd2 dim-5 kurtosis  dissim-23 bd2 dim-5 skew  \\\n",
              "0                             0.00                      0.00   \n",
              "1                             0.00                      0.00   \n",
              "2                             0.00                      0.00   \n",
              "3                             0.00                      0.00   \n",
              "4                             0.00                      0.00   \n",
              "...                            ...                       ...   \n",
              "1041                          0.00                      0.00   \n",
              "1042                          0.00                      0.00   \n",
              "1043                          0.00                      0.00   \n",
              "1044                          0.00                      0.00   \n",
              "1045                          0.00                      0.00   \n",
              "\n",
              "      dissim-23 bd2 dim-5 norm-1  dissim-23 bd2 dim-5 norm-2  \n",
              "0                           0.00                        0.00  \n",
              "1                           0.00                        0.00  \n",
              "2                           0.00                        0.00  \n",
              "3                           0.00                        0.00  \n",
              "4                           0.00                        0.00  \n",
              "...                          ...                         ...  \n",
              "1041                        0.00                        0.00  \n",
              "1042                        0.00                        0.00  \n",
              "1043                        0.00                        0.00  \n",
              "1044                        0.00                        0.00  \n",
              "1045                        0.00                        0.00  \n",
              "\n",
              "[1046 rows x 10872 columns]"
            ]
          },
          "execution_count": 17,
          "metadata": {},
          "output_type": "execute_result"
        }
      ],
      "source": [
        "n_dissim = dissim_diagrams.shape[0] // data.shape[0]\n",
        "dissim_features_raw = FeatureCalculator().calc_features(dissim_diagrams)\n",
        "columns = [ f\"dissim-{i}{feature_name}\" for i in range(n_dissim) for feature_name in dissim_features_raw ]\n",
        "dissim_features = pandas.concat([ dissim_features_raw.iloc[i::n_dissim, :].reset_index(drop = True) for i in range(n_dissim) ], axis = 1)\n",
        "dissim_features.columns = columns\n",
        "dissim_features.to_feather(f\"{subj}/{exp}/dissim_features.feather\")\n",
        "dissim_features"
      ]
    },
    {
      "cell_type": "markdown",
      "metadata": {},
      "source": [
        "### Overall"
      ]
    },
    {
      "cell_type": "markdown",
      "metadata": {},
      "source": [
        "#### TakensEmbedding"
      ]
    },
    {
      "cell_type": "code",
      "execution_count": null,
      "metadata": {},
      "outputs": [
        {
          "name": "stdout",
          "output_type": "stream",
          "text": [
            "(1046, 153, 200)\n"
          ]
        }
      ],
      "source": [
        "overall_embedding = gtda.time_series.TakensEmbedding(\n",
        "    dimension = OVERALL_DIMENSION,\n",
        "    time_delay = OVERALL_TIME_DELAY,\n",
        "    stride = OVERALL_STRIDE,\n",
        "    flatten = True\n",
        ")\n",
        "overall_point_clouds = overall_embedding.fit_transform(data)\n",
        "print(overall_point_clouds.shape)"
      ]
    },
    {
      "cell_type": "code",
      "execution_count": null,
      "metadata": {},
      "outputs": [
        {
          "data": {
            "application/vnd.plotly.v1+json": {
              "config": {
                "plotlyServerURL": "https://plot.ly"
              },
              "data": [
                {
                  "marker": {
                    "color": [
                      0,
                      1,
                      2,
                      3,
                      4,
                      5,
                      6,
                      7,
                      8,
                      9,
                      10,
                      11,
                      12,
                      13,
                      14,
                      15,
                      16,
                      17,
                      18,
                      19,
                      20,
                      21,
                      22,
                      23,
                      24,
                      25,
                      26,
                      27,
                      28,
                      29,
                      30,
                      31,
                      32,
                      33,
                      34,
                      35,
                      36,
                      37,
                      38,
                      39,
                      40,
                      41,
                      42,
                      43,
                      44,
                      45,
                      46,
                      47,
                      48,
                      49,
                      50,
                      51,
                      52,
                      53,
                      54,
                      55,
                      56,
                      57,
                      58,
                      59,
                      60,
                      61,
                      62,
                      63,
                      64,
                      65,
                      66,
                      67,
                      68,
                      69,
                      70,
                      71,
                      72,
                      73,
                      74,
                      75,
                      76,
                      77,
                      78,
                      79,
                      80,
                      81,
                      82,
                      83,
                      84,
                      85,
                      86,
                      87,
                      88,
                      89,
                      90,
                      91,
                      92,
                      93,
                      94,
                      95,
                      96,
                      97,
                      98,
                      99,
                      100,
                      101,
                      102,
                      103,
                      104,
                      105,
                      106,
                      107,
                      108,
                      109,
                      110,
                      111,
                      112,
                      113,
                      114,
                      115,
                      116,
                      117,
                      118,
                      119,
                      120,
                      121,
                      122,
                      123,
                      124,
                      125,
                      126,
                      127,
                      128,
                      129,
                      130,
                      131,
                      132,
                      133,
                      134,
                      135,
                      136,
                      137,
                      138,
                      139,
                      140,
                      141,
                      142,
                      143,
                      144,
                      145,
                      146,
                      147,
                      148,
                      149,
                      150,
                      151,
                      152
                    ],
                    "colorscale": [
                      [
                        0,
                        "#440154"
                      ],
                      [
                        0.1111111111111111,
                        "#482878"
                      ],
                      [
                        0.2222222222222222,
                        "#3e4989"
                      ],
                      [
                        0.3333333333333333,
                        "#31688e"
                      ],
                      [
                        0.4444444444444444,
                        "#26828e"
                      ],
                      [
                        0.5555555555555556,
                        "#1f9e89"
                      ],
                      [
                        0.6666666666666666,
                        "#35b779"
                      ],
                      [
                        0.7777777777777778,
                        "#6ece58"
                      ],
                      [
                        0.8888888888888888,
                        "#b5de2b"
                      ],
                      [
                        1,
                        "#fde725"
                      ]
                    ],
                    "opacity": 0.8,
                    "size": 4
                  },
                  "mode": "markers",
                  "type": "scatter3d",
                  "x": [
                    1.8207344965048833e-7,
                    0.0000011289215535725816,
                    -0.0000017669094631855842,
                    -0.0000025050726435438264,
                    0.0000011670823596432456,
                    0.0000046666182242915966,
                    0.000003626682882895693,
                    -1.8483362396182201e-7,
                    -0.0000017783788734959671,
                    2.930861455752165e-7,
                    0.00000198255042960227,
                    -8.619457503300509e-7,
                    -0.000006418677912733983,
                    -0.000008885505849320907,
                    -0.000006470720563811483,
                    -0.00000342712542078516,
                    -0.0000029933105452073505,
                    -0.000002943482513728668,
                    -7.429942456838035e-7,
                    0.0000012879719406555523,
                    2.0320661064943124e-7,
                    -0.0000013214976206654683,
                    0.0000019115077520837076,
                    0.000009250696166418493,
                    0.000013788719115837011,
                    0.000010997565368597861,
                    0.0000041012199289980344,
                    -6.755147978765308e-7,
                    -0.0000012907622704005917,
                    -3.1251761356543284e-7,
                    -4.853333734899934e-7,
                    -0.0000023490256353397854,
                    -0.000004649158654501662,
                    -0.0000051297733989486005,
                    -0.0000027267399218544597,
                    -1.6510563227711827e-7,
                    -0.000001163838419415697,
                    -0.000003924501470464747,
                    -0.000002451631189615,
                    0.000003632707830547588,
                    0.000007277518307091668,
                    0.000005068253358331276,
                    0.000002485002141838777,
                    0.000004091678420081735,
                    0.000006443011443479918,
                    0.000005326220616552746,
                    0.000002672102482392802,
                    0.0000017310121620539576,
                    0.0000015805857174200355,
                    2.719236391612867e-9,
                    -0.000002820474719555932,
                    -0.000005351098025130341,
                    -0.000006367843070620438,
                    -0.000005716745818062918,
                    -0.000004978048764314735,
                    -0.0000053603034757543355,
                    -0.0000049843406486616004,
                    -0.000001949969373526983,
                    0.0000011833757298518321,
                    0.0000010557532732491381,
                    -5.498840778273006e-7,
                    5.091024135595035e-8,
                    0.000002057293613688671,
                    0.0000024358498649235116,
                    0.0000013244953152025118,
                    7.441953471243323e-7,
                    0.0000012199724324091221,
                    0.0000025465078579145484,
                    0.000004262164566171123,
                    0.000004177717983111506,
                    5.89074659274047e-7,
                    -0.000003893493612849852,
                    -0.000005038059043727117,
                    -0.0000028051913432136644,
                    -5.305376475917001e-7,
                    1.7947471064871934e-7,
                    2.5867967323733865e-8,
                    -3.574586457943951e-7,
                    5.3020134060943747e-8,
                    0.000002767100568235037,
                    0.000006507666057586903,
                    0.0000073787514338619076,
                    0.000005097033408674179,
                    0.000004391371476231143,
                    0.000006987883807596518,
                    0.00000782902952778386,
                    0.000003520919108268572,
                    -0.0000011012389222742058,
                    -8.633622883280623e-8,
                    0.000004325220288592391,
                    0.000004935817287332611,
                    -2.807908856539143e-7,
                    -0.000005605780188489007,
                    -0.000004965637344866991,
                    5.260976649879012e-7,
                    0.0000042003675844171084,
                    0.000002852630359484465,
                    8.353052862730692e-7,
                    0.000002727659875745303,
                    0.000005870550012332387,
                    0.000005005293587601045,
                    0.0000012848714732172084,
                    8.0924002077154e-7,
                    0.000005119597972225165,
                    0.0000081116568253492,
                    0.000003996519353677286,
                    -0.0000040501240619050805,
                    -0.000006860157554910984,
                    -0.0000019726180653378833,
                    0.000002060793804048444,
                    -0.0000010499961717869155,
                    -0.000004949863523506792,
                    -0.0000022886640635988442,
                    0.0000016979233805614058,
                    -5.879444415768376e-7,
                    -0.000004089723461220274,
                    -4.447259698281414e-7,
                    0.000006037464117980562,
                    0.0000063212596614903305,
                    0.000002339186266908655,
                    0.0000014652803201897768,
                    0.000003464311703282874,
                    0.000004330371211835882,
                    0.000004634084689314477,
                    0.000005003414116799831,
                    0.000002053324124062783,
                    -0.000004218773028696887,
                    -0.000007283607374120038,
                    -0.000003262110340074287,
                    0.0000037476640954992035,
                    0.000008002198228496127,
                    0.00000756036160964868,
                    0.0000035555565318645677,
                    -3.6255426039133454e-7,
                    1.320718325814596e-7,
                    0.000004307498784328345,
                    0.000006347479029500391,
                    0.000004249246558174491,
                    0.0000026633310881152283,
                    0.0000040821023503667675,
                    0.000005220431830821326,
                    0.000004712460395239759,
                    0.000005081659310235409,
                    0.000005295667051541386,
                    0.000001710792616904655,
                    -0.0000025252650175389135,
                    -4.5401083070828463e-7,
                    0.000005885209247935563,
                    0.000007489741165045416,
                    0.0000029665898182429373,
                    -6.052823096069915e-7,
                    -2.884709147110698e-7,
                    4.6886643190191535e-7
                  ],
                  "y": [
                    -3.519609776958532e-7,
                    0.0000038930793380131945,
                    0.000004498857833823422,
                    0.0000010723221066655242,
                    -0.000001712411403786973,
                    -6.327994128696446e-7,
                    0.0000018041156408798997,
                    6.232961595742381e-7,
                    -0.000004628400802175747,
                    -0.000008672486728755757,
                    -0.000007622460088896332,
                    -0.000004198731403448619,
                    -0.000002897566218962311,
                    -0.00000315870602207724,
                    -0.0000016649878489261027,
                    8.932913715398172e-7,
                    8.765530878918071e-7,
                    -0.000001135327693191357,
                    1.6559734206111898e-7,
                    0.000006724697414028924,
                    0.000013018711797485594,
                    0.000012687371054198593,
                    0.00000643633848085301,
                    4.2840505898311676e-7,
                    -0.0000014379188542079646,
                    -6.055502126400825e-7,
                    -2.2189871629052504e-7,
                    -0.0000015879137436058954,
                    -0.00000396599853047519,
                    -0.000005301238161337096,
                    -0.0000037607987906085327,
                    -7.477266308342223e-7,
                    -3.9036376620060764e-7,
                    -0.0000031942302030074643,
                    -0.0000036448100217967294,
                    0.000001470893835175957,
                    0.000006752148692612536,
                    0.0000062331787376024295,
                    0.000002943602112281951,
                    0.000003172647438987042,
                    0.000005947060344624333,
                    0.000006077944817661773,
                    0.0000034583213164296467,
                    0.0000018282789824297652,
                    0.000001715910457278369,
                    7.281476541720622e-7,
                    -0.0000018344522914048866,
                    -0.000004628453098121099,
                    -0.000006241004484763835,
                    -0.0000060511288211273495,
                    -0.0000051066067499050405,
                    -0.0000051640472520375624,
                    -0.000005383280949899927,
                    -0.0000031906840831652516,
                    4.100203625512222e-7,
                    0.0000014667668892798247,
                    -1.3320935465799266e-7,
                    -4.552075552055612e-7,
                    0.0000014525521692121401,
                    0.0000025647325401223497,
                    0.000001721384364827827,
                    8.094690997495491e-7,
                    9.633125728214509e-7,
                    0.000002012543518503662,
                    0.0000037464753859239863,
                    0.0000045785654947394505,
                    0.0000021086812012072187,
                    -0.000002605642066555447,
                    -0.000005145777322468348,
                    -0.0000037259724194882438,
                    -0.0000011233998975512804,
                    8.798276951438311e-8,
                    1.24219312169771e-7,
                    -2.405610359801358e-7,
                    -2.852629847893695e-7,
                    0.0000015942082427500281,
                    0.000005392622824729187,
                    0.000007564991392428055,
                    0.000005952194442215841,
                    0.0000041832408896880224,
                    0.000005984401013847673,
                    0.00000811471363704186,
                    0.000005374404281610623,
                    -1.0950799378406373e-8,
                    -0.0000011070515029132366,
                    0.000002938869101853925,
                    0.000005468061772262445,
                    0.0000018571138298284495,
                    -0.000004296200586395571,
                    -0.000005951817456661956,
                    -0.000001455906271985441,
                    0.000003543479806467076,
                    0.0000037044483178760856,
                    0.0000011810803925982327,
                    0.0000016736663610572577,
                    0.000005077539299236378,
                    0.0000058443620218895376,
                    0.0000024645594294270268,
                    3.295924955182272e-7,
                    0.0000034241807043144945,
                    0.000007750909389869776,
                    0.000006178642706800019,
                    -0.000001503646444689366,
                    -0.0000069254097070370335,
                    -0.000004064508630108321,
                    0.000001445687757950509,
                    6.07414676778717e-7,
                    -0.000004225045358907664,
                    -0.000003833293703792151,
                    8.829576927382732e-7,
                    8.308832093462115e-7,
                    -0.0000034817526284314226,
                    -0.000002476738472978468,
                    0.000004255516159901163,
                    0.000007064916644594632,
                    0.0000036042001738678664,
                    0.0000012320153928158106,
                    0.0000027871653855982004,
                    0.000004226289092912339,
                    0.000004457177055883221,
                    0.000005051166681369068,
                    0.000003575660684873583,
                    -0.0000021006737824791344,
                    -0.000007031155291770119,
                    -0.000005260663783701602,
                    0.0000014944143913453445,
                    0.00000709230425854912,
                    0.000008206894563045353,
                    0.000005115340627526166,
                    6.215573762347049e-7,
                    -6.347001431095123e-7,
                    0.0000028444678719097283,
                    0.000006203874363563955,
                    0.00000518369870405877,
                    0.0000028314232167758746,
                    0.0000034248826068505878,
                    0.000005082799816591432,
                    0.000004910677034786204,
                    0.000004791259470948717,
                    0.000005527542725758394,
                    0.0000033277401598752476,
                    -0.0000015496071910092724,
                    -0.000001984082246053731,
                    0.000003879529685946181,
                    0.00000783369796408806,
                    0.000004754809651785763,
                    1.0599181621273601e-7,
                    -6.488854751296458e-7,
                    3.5266987197246635e-7,
                    5.129538749315543e-7,
                    0.0000019119518128718482,
                    0.000005559498731599888,
                    0.000007992881364771165
                  ],
                  "z": [
                    -0.0000011600616289797472,
                    -0.0000013822171922583948,
                    0.000001178906018139969,
                    0.0000015970597360137617,
                    -0.0000026902139325102326,
                    -0.000007824291060387623,
                    -0.000008492957931593992,
                    -0.000005261379556031898,
                    -0.000003004803829753655,
                    -0.0000031341930935013806,
                    -0.000002435149326629471,
                    1.6818650294680992e-7,
                    0.0000012765634664901881,
                    -5.476646265378804e-7,
                    -9.193749406222196e-7,
                    0.000004177770733804209,
                    0.000011440972230047919,
                    0.000013666345694218762,
                    0.000008824238648230676,
                    0.0000020458223843888845,
                    -0.0000012726432032650337,
                    -9.688733371149283e-7,
                    -1.6944952108133293e-7,
                    -9.50588173509459e-7,
                    -0.0000031685622161603533,
                    -0.000005122466518514557,
                    -0.000004599338808475295,
                    -0.0000016599302625763812,
                    -3.416267801981121e-8,
                    -0.000002181578338422696,
                    -0.000004126886324229417,
                    -6.649971169281343e-7,
                    0.00000548503430763958,
                    0.00000705618958818377,
                    0.000003874123649438843,
                    0.0000025799827199080028,
                    0.000005098385372548364,
                    0.000006484420737251639,
                    0.000004393212748254882,
                    0.0000021239629859337583,
                    0.0000017321482346233097,
                    0.0000012593450264830608,
                    -8.718242838767765e-7,
                    -0.0000037695112951041665,
                    -0.000005898190920561319,
                    -0.000006290944384090835,
                    -0.000005373595286073396,
                    -0.0000050082039706467185,
                    -0.00000547583113075234,
                    -0.000004240499947627541,
                    -6.876654765619605e-7,
                    0.0000015376369901787257,
                    4.599659462201089e-7,
                    -6.704166821691615e-7,
                    7.35835897103243e-7,
                    0.000002443766561555094,
                    0.000002123430931533221,
                    0.0000010065544984172448,
                    8.009267276065657e-7,
                    0.0000015688178791606333,
                    0.0000031440854399988893,
                    0.000004577639629133046,
                    0.0000033418243674532278,
                    -0.0000010482257266630768,
                    -0.000004765662652062019,
                    -0.0000045210931602923665,
                    -0.000001901567998174869,
                    -1.3475758464664978e-7,
                    1.814056105331474e-7,
                    -1.0154301577358638e-7,
                    -3.9676015717304836e-7,
                    6.746909093635622e-7,
                    0.000004085844466317212,
                    0.000007267586624948308,
                    0.000006786143785575405,
                    0.000004447460923984181,
                    0.000005040797987021506,
                    0.000007780035957694054,
                    0.000006883230526000261,
                    0.0000016202260439968086,
                    -0.0000014792842648603255,
                    0.000001361683303002792,
                    0.000005235615390120074,
                    0.000003679277142509818,
                    -0.0000024335843136213953,
                    -0.000006181471690069884,
                    -0.0000033843505207187263,
                    0.000002271506446049898,
                    0.000004220557002554415,
                    0.0000019239155335526448,
                    0.0000010014171039074427,
                    0.000003948340236092918,
                    0.000006149882210593205,
                    0.0000037970248740748502,
                    5.124748554408143e-7,
                    0.0000018984576399816433,
                    0.000006667065463261679,
                    0.000007593763257318642,
                    0.0000013139215297996998,
                    -0.000005949317255726783,
                    -0.000005822977527714102,
                    3.221441557954563e-9,
                    0.0000017444843933844822,
                    -0.0000028075166937924223,
                    -0.000004804782747669378,
                    -5.693811999663012e-7,
                    0.0000016735071994844475,
                    -0.0000021797252429678338,
                    -0.0000037611125662806444,
                    0.0000019527988115441985,
                    0.000007006361556705087,
                    0.000005048189450462814,
                    0.000001510613856225973,
                    0.000002054416654573288,
                    0.000003955532520194538,
                    0.000004372873263491783,
                    0.000004870951215707464,
                    0.000004552172413241351,
                    8.8419682242602e-8,
                    -0.000005952072115178453,
                    -0.000006664839020231739,
                    -9.21722971725103e-7,
                    0.00000565372602068237,
                    0.000008368113412871026,
                    0.000006496416972368024,
                    0.000001991898670894443,
                    -8.072150308180426e-7,
                    0.0000013641471241498948,
                    0.000005493287062563468,
                    0.000005957917892374098,
                    0.000003397825139472843,
                    0.0000028952442789886845,
                    0.000004682567123381887,
                    0.000005127152689965442,
                    0.000004654511030821595,
                    0.000005391479589889059,
                    0.000004566236384562217,
                    -2.6391731466901547e-8,
                    -0.000002703112841118127,
                    0.000001627251663194329,
                    0.000007280636509676697,
                    0.000006374672466336051,
                    0.0000013357390571400174,
                    -8.151927772814815e-7,
                    8.694839692680034e-8,
                    4.84230895381188e-7,
                    0.000001140897552431852,
                    0.0000042511546780588105,
                    0.0000075784610089613125,
                    0.00000732809985493077,
                    0.000003670389560284093,
                    5.623437004942389e-7,
                    0.0000012990385584998876
                  ]
                }
              ],
              "layout": {
                "scene": {
                  "xaxis": {
                    "exponentformat": "e",
                    "showexponent": "all",
                    "title": {
                      "text": "0th"
                    },
                    "type": "linear"
                  },
                  "yaxis": {
                    "exponentformat": "e",
                    "showexponent": "all",
                    "title": {
                      "text": "1st"
                    },
                    "type": "linear"
                  },
                  "zaxis": {
                    "exponentformat": "e",
                    "showexponent": "all",
                    "title": {
                      "text": "2nd"
                    },
                    "type": "linear"
                  }
                },
                "template": {
                  "data": {
                    "bar": [
                      {
                        "error_x": {
                          "color": "#2a3f5f"
                        },
                        "error_y": {
                          "color": "#2a3f5f"
                        },
                        "marker": {
                          "line": {
                            "color": "#E5ECF6",
                            "width": 0.5
                          },
                          "pattern": {
                            "fillmode": "overlay",
                            "size": 10,
                            "solidity": 0.2
                          }
                        },
                        "type": "bar"
                      }
                    ],
                    "barpolar": [
                      {
                        "marker": {
                          "line": {
                            "color": "#E5ECF6",
                            "width": 0.5
                          },
                          "pattern": {
                            "fillmode": "overlay",
                            "size": 10,
                            "solidity": 0.2
                          }
                        },
                        "type": "barpolar"
                      }
                    ],
                    "carpet": [
                      {
                        "aaxis": {
                          "endlinecolor": "#2a3f5f",
                          "gridcolor": "white",
                          "linecolor": "white",
                          "minorgridcolor": "white",
                          "startlinecolor": "#2a3f5f"
                        },
                        "baxis": {
                          "endlinecolor": "#2a3f5f",
                          "gridcolor": "white",
                          "linecolor": "white",
                          "minorgridcolor": "white",
                          "startlinecolor": "#2a3f5f"
                        },
                        "type": "carpet"
                      }
                    ],
                    "choropleth": [
                      {
                        "colorbar": {
                          "outlinewidth": 0,
                          "ticks": ""
                        },
                        "type": "choropleth"
                      }
                    ],
                    "contour": [
                      {
                        "colorbar": {
                          "outlinewidth": 0,
                          "ticks": ""
                        },
                        "colorscale": [
                          [
                            0,
                            "#0d0887"
                          ],
                          [
                            0.1111111111111111,
                            "#46039f"
                          ],
                          [
                            0.2222222222222222,
                            "#7201a8"
                          ],
                          [
                            0.3333333333333333,
                            "#9c179e"
                          ],
                          [
                            0.4444444444444444,
                            "#bd3786"
                          ],
                          [
                            0.5555555555555556,
                            "#d8576b"
                          ],
                          [
                            0.6666666666666666,
                            "#ed7953"
                          ],
                          [
                            0.7777777777777778,
                            "#fb9f3a"
                          ],
                          [
                            0.8888888888888888,
                            "#fdca26"
                          ],
                          [
                            1,
                            "#f0f921"
                          ]
                        ],
                        "type": "contour"
                      }
                    ],
                    "contourcarpet": [
                      {
                        "colorbar": {
                          "outlinewidth": 0,
                          "ticks": ""
                        },
                        "type": "contourcarpet"
                      }
                    ],
                    "heatmap": [
                      {
                        "colorbar": {
                          "outlinewidth": 0,
                          "ticks": ""
                        },
                        "colorscale": [
                          [
                            0,
                            "#0d0887"
                          ],
                          [
                            0.1111111111111111,
                            "#46039f"
                          ],
                          [
                            0.2222222222222222,
                            "#7201a8"
                          ],
                          [
                            0.3333333333333333,
                            "#9c179e"
                          ],
                          [
                            0.4444444444444444,
                            "#bd3786"
                          ],
                          [
                            0.5555555555555556,
                            "#d8576b"
                          ],
                          [
                            0.6666666666666666,
                            "#ed7953"
                          ],
                          [
                            0.7777777777777778,
                            "#fb9f3a"
                          ],
                          [
                            0.8888888888888888,
                            "#fdca26"
                          ],
                          [
                            1,
                            "#f0f921"
                          ]
                        ],
                        "type": "heatmap"
                      }
                    ],
                    "heatmapgl": [
                      {
                        "colorbar": {
                          "outlinewidth": 0,
                          "ticks": ""
                        },
                        "colorscale": [
                          [
                            0,
                            "#0d0887"
                          ],
                          [
                            0.1111111111111111,
                            "#46039f"
                          ],
                          [
                            0.2222222222222222,
                            "#7201a8"
                          ],
                          [
                            0.3333333333333333,
                            "#9c179e"
                          ],
                          [
                            0.4444444444444444,
                            "#bd3786"
                          ],
                          [
                            0.5555555555555556,
                            "#d8576b"
                          ],
                          [
                            0.6666666666666666,
                            "#ed7953"
                          ],
                          [
                            0.7777777777777778,
                            "#fb9f3a"
                          ],
                          [
                            0.8888888888888888,
                            "#fdca26"
                          ],
                          [
                            1,
                            "#f0f921"
                          ]
                        ],
                        "type": "heatmapgl"
                      }
                    ],
                    "histogram": [
                      {
                        "marker": {
                          "pattern": {
                            "fillmode": "overlay",
                            "size": 10,
                            "solidity": 0.2
                          }
                        },
                        "type": "histogram"
                      }
                    ],
                    "histogram2d": [
                      {
                        "colorbar": {
                          "outlinewidth": 0,
                          "ticks": ""
                        },
                        "colorscale": [
                          [
                            0,
                            "#0d0887"
                          ],
                          [
                            0.1111111111111111,
                            "#46039f"
                          ],
                          [
                            0.2222222222222222,
                            "#7201a8"
                          ],
                          [
                            0.3333333333333333,
                            "#9c179e"
                          ],
                          [
                            0.4444444444444444,
                            "#bd3786"
                          ],
                          [
                            0.5555555555555556,
                            "#d8576b"
                          ],
                          [
                            0.6666666666666666,
                            "#ed7953"
                          ],
                          [
                            0.7777777777777778,
                            "#fb9f3a"
                          ],
                          [
                            0.8888888888888888,
                            "#fdca26"
                          ],
                          [
                            1,
                            "#f0f921"
                          ]
                        ],
                        "type": "histogram2d"
                      }
                    ],
                    "histogram2dcontour": [
                      {
                        "colorbar": {
                          "outlinewidth": 0,
                          "ticks": ""
                        },
                        "colorscale": [
                          [
                            0,
                            "#0d0887"
                          ],
                          [
                            0.1111111111111111,
                            "#46039f"
                          ],
                          [
                            0.2222222222222222,
                            "#7201a8"
                          ],
                          [
                            0.3333333333333333,
                            "#9c179e"
                          ],
                          [
                            0.4444444444444444,
                            "#bd3786"
                          ],
                          [
                            0.5555555555555556,
                            "#d8576b"
                          ],
                          [
                            0.6666666666666666,
                            "#ed7953"
                          ],
                          [
                            0.7777777777777778,
                            "#fb9f3a"
                          ],
                          [
                            0.8888888888888888,
                            "#fdca26"
                          ],
                          [
                            1,
                            "#f0f921"
                          ]
                        ],
                        "type": "histogram2dcontour"
                      }
                    ],
                    "mesh3d": [
                      {
                        "colorbar": {
                          "outlinewidth": 0,
                          "ticks": ""
                        },
                        "type": "mesh3d"
                      }
                    ],
                    "parcoords": [
                      {
                        "line": {
                          "colorbar": {
                            "outlinewidth": 0,
                            "ticks": ""
                          }
                        },
                        "type": "parcoords"
                      }
                    ],
                    "pie": [
                      {
                        "automargin": true,
                        "type": "pie"
                      }
                    ],
                    "scatter": [
                      {
                        "fillpattern": {
                          "fillmode": "overlay",
                          "size": 10,
                          "solidity": 0.2
                        },
                        "type": "scatter"
                      }
                    ],
                    "scatter3d": [
                      {
                        "line": {
                          "colorbar": {
                            "outlinewidth": 0,
                            "ticks": ""
                          }
                        },
                        "marker": {
                          "colorbar": {
                            "outlinewidth": 0,
                            "ticks": ""
                          }
                        },
                        "type": "scatter3d"
                      }
                    ],
                    "scattercarpet": [
                      {
                        "marker": {
                          "colorbar": {
                            "outlinewidth": 0,
                            "ticks": ""
                          }
                        },
                        "type": "scattercarpet"
                      }
                    ],
                    "scattergeo": [
                      {
                        "marker": {
                          "colorbar": {
                            "outlinewidth": 0,
                            "ticks": ""
                          }
                        },
                        "type": "scattergeo"
                      }
                    ],
                    "scattergl": [
                      {
                        "marker": {
                          "colorbar": {
                            "outlinewidth": 0,
                            "ticks": ""
                          }
                        },
                        "type": "scattergl"
                      }
                    ],
                    "scattermapbox": [
                      {
                        "marker": {
                          "colorbar": {
                            "outlinewidth": 0,
                            "ticks": ""
                          }
                        },
                        "type": "scattermapbox"
                      }
                    ],
                    "scatterpolar": [
                      {
                        "marker": {
                          "colorbar": {
                            "outlinewidth": 0,
                            "ticks": ""
                          }
                        },
                        "type": "scatterpolar"
                      }
                    ],
                    "scatterpolargl": [
                      {
                        "marker": {
                          "colorbar": {
                            "outlinewidth": 0,
                            "ticks": ""
                          }
                        },
                        "type": "scatterpolargl"
                      }
                    ],
                    "scatterternary": [
                      {
                        "marker": {
                          "colorbar": {
                            "outlinewidth": 0,
                            "ticks": ""
                          }
                        },
                        "type": "scatterternary"
                      }
                    ],
                    "surface": [
                      {
                        "colorbar": {
                          "outlinewidth": 0,
                          "ticks": ""
                        },
                        "colorscale": [
                          [
                            0,
                            "#0d0887"
                          ],
                          [
                            0.1111111111111111,
                            "#46039f"
                          ],
                          [
                            0.2222222222222222,
                            "#7201a8"
                          ],
                          [
                            0.3333333333333333,
                            "#9c179e"
                          ],
                          [
                            0.4444444444444444,
                            "#bd3786"
                          ],
                          [
                            0.5555555555555556,
                            "#d8576b"
                          ],
                          [
                            0.6666666666666666,
                            "#ed7953"
                          ],
                          [
                            0.7777777777777778,
                            "#fb9f3a"
                          ],
                          [
                            0.8888888888888888,
                            "#fdca26"
                          ],
                          [
                            1,
                            "#f0f921"
                          ]
                        ],
                        "type": "surface"
                      }
                    ],
                    "table": [
                      {
                        "cells": {
                          "fill": {
                            "color": "#EBF0F8"
                          },
                          "line": {
                            "color": "white"
                          }
                        },
                        "header": {
                          "fill": {
                            "color": "#C8D4E3"
                          },
                          "line": {
                            "color": "white"
                          }
                        },
                        "type": "table"
                      }
                    ]
                  },
                  "layout": {
                    "annotationdefaults": {
                      "arrowcolor": "#2a3f5f",
                      "arrowhead": 0,
                      "arrowwidth": 1
                    },
                    "autotypenumbers": "strict",
                    "coloraxis": {
                      "colorbar": {
                        "outlinewidth": 0,
                        "ticks": ""
                      }
                    },
                    "colorscale": {
                      "diverging": [
                        [
                          0,
                          "#8e0152"
                        ],
                        [
                          0.1,
                          "#c51b7d"
                        ],
                        [
                          0.2,
                          "#de77ae"
                        ],
                        [
                          0.3,
                          "#f1b6da"
                        ],
                        [
                          0.4,
                          "#fde0ef"
                        ],
                        [
                          0.5,
                          "#f7f7f7"
                        ],
                        [
                          0.6,
                          "#e6f5d0"
                        ],
                        [
                          0.7,
                          "#b8e186"
                        ],
                        [
                          0.8,
                          "#7fbc41"
                        ],
                        [
                          0.9,
                          "#4d9221"
                        ],
                        [
                          1,
                          "#276419"
                        ]
                      ],
                      "sequential": [
                        [
                          0,
                          "#0d0887"
                        ],
                        [
                          0.1111111111111111,
                          "#46039f"
                        ],
                        [
                          0.2222222222222222,
                          "#7201a8"
                        ],
                        [
                          0.3333333333333333,
                          "#9c179e"
                        ],
                        [
                          0.4444444444444444,
                          "#bd3786"
                        ],
                        [
                          0.5555555555555556,
                          "#d8576b"
                        ],
                        [
                          0.6666666666666666,
                          "#ed7953"
                        ],
                        [
                          0.7777777777777778,
                          "#fb9f3a"
                        ],
                        [
                          0.8888888888888888,
                          "#fdca26"
                        ],
                        [
                          1,
                          "#f0f921"
                        ]
                      ],
                      "sequentialminus": [
                        [
                          0,
                          "#0d0887"
                        ],
                        [
                          0.1111111111111111,
                          "#46039f"
                        ],
                        [
                          0.2222222222222222,
                          "#7201a8"
                        ],
                        [
                          0.3333333333333333,
                          "#9c179e"
                        ],
                        [
                          0.4444444444444444,
                          "#bd3786"
                        ],
                        [
                          0.5555555555555556,
                          "#d8576b"
                        ],
                        [
                          0.6666666666666666,
                          "#ed7953"
                        ],
                        [
                          0.7777777777777778,
                          "#fb9f3a"
                        ],
                        [
                          0.8888888888888888,
                          "#fdca26"
                        ],
                        [
                          1,
                          "#f0f921"
                        ]
                      ]
                    },
                    "colorway": [
                      "#636efa",
                      "#EF553B",
                      "#00cc96",
                      "#ab63fa",
                      "#FFA15A",
                      "#19d3f3",
                      "#FF6692",
                      "#B6E880",
                      "#FF97FF",
                      "#FECB52"
                    ],
                    "font": {
                      "color": "#2a3f5f"
                    },
                    "geo": {
                      "bgcolor": "white",
                      "lakecolor": "white",
                      "landcolor": "#E5ECF6",
                      "showlakes": true,
                      "showland": true,
                      "subunitcolor": "white"
                    },
                    "hoverlabel": {
                      "align": "left"
                    },
                    "hovermode": "closest",
                    "mapbox": {
                      "style": "light"
                    },
                    "paper_bgcolor": "white",
                    "plot_bgcolor": "#E5ECF6",
                    "polar": {
                      "angularaxis": {
                        "gridcolor": "white",
                        "linecolor": "white",
                        "ticks": ""
                      },
                      "bgcolor": "#E5ECF6",
                      "radialaxis": {
                        "gridcolor": "white",
                        "linecolor": "white",
                        "ticks": ""
                      }
                    },
                    "scene": {
                      "xaxis": {
                        "backgroundcolor": "#E5ECF6",
                        "gridcolor": "white",
                        "gridwidth": 2,
                        "linecolor": "white",
                        "showbackground": true,
                        "ticks": "",
                        "zerolinecolor": "white"
                      },
                      "yaxis": {
                        "backgroundcolor": "#E5ECF6",
                        "gridcolor": "white",
                        "gridwidth": 2,
                        "linecolor": "white",
                        "showbackground": true,
                        "ticks": "",
                        "zerolinecolor": "white"
                      },
                      "zaxis": {
                        "backgroundcolor": "#E5ECF6",
                        "gridcolor": "white",
                        "gridwidth": 2,
                        "linecolor": "white",
                        "showbackground": true,
                        "ticks": "",
                        "zerolinecolor": "white"
                      }
                    },
                    "shapedefaults": {
                      "line": {
                        "color": "#2a3f5f"
                      }
                    },
                    "ternary": {
                      "aaxis": {
                        "gridcolor": "white",
                        "linecolor": "white",
                        "ticks": ""
                      },
                      "baxis": {
                        "gridcolor": "white",
                        "linecolor": "white",
                        "ticks": ""
                      },
                      "bgcolor": "#E5ECF6",
                      "caxis": {
                        "gridcolor": "white",
                        "linecolor": "white",
                        "ticks": ""
                      }
                    },
                    "title": {
                      "x": 0.05
                    },
                    "xaxis": {
                      "automargin": true,
                      "gridcolor": "white",
                      "linecolor": "white",
                      "ticks": "",
                      "title": {
                        "standoff": 15
                      },
                      "zerolinecolor": "white",
                      "zerolinewidth": 2
                    },
                    "yaxis": {
                      "automargin": true,
                      "gridcolor": "white",
                      "linecolor": "white",
                      "ticks": "",
                      "title": {
                        "standoff": 15
                      },
                      "zerolinecolor": "white",
                      "zerolinewidth": 2
                    }
                  }
                }
              }
            }
          },
          "metadata": {},
          "output_type": "display_data"
        }
      ],
      "source": [
        "overall_point_cloud_plot = gtda.plotting.plot_point_cloud(overall_point_clouds[print_obj])\n",
        "display(overall_point_cloud_plot)\n",
        "overall_point_cloud_plot.write_image(file = f\"{subj}/{exp}/overall_point_cloud.svg\", format = \"svg\")"
      ]
    },
    {
      "cell_type": "markdown",
      "metadata": {},
      "source": [
        "#### VietorisRipsPersistence"
      ]
    },
    {
      "cell_type": "code",
      "execution_count": null,
      "metadata": {},
      "outputs": [
        {
          "name": "stdout",
          "output_type": "stream",
          "text": [
            "(1046, 205, 3)\n"
          ]
        }
      ],
      "source": [
        "overall_persistence = gtda.homology.VietorisRipsPersistence(homology_dimensions = OVERALL_HOMOLOGY_DIMENSIONS, n_jobs = -1)\n",
        "overall_diagrams = overall_persistence.fit_transform(overall_point_clouds)\n",
        "numpy.save(f\"{subj}/{exp}/overall_diagrams.npy\", overall_diagrams)\n",
        "print(overall_diagrams.shape)"
      ]
    },
    {
      "cell_type": "code",
      "execution_count": null,
      "metadata": {},
      "outputs": [
        {
          "data": {
            "application/vnd.plotly.v1+json": {
              "config": {
                "plotlyServerURL": "https://plot.ly"
              },
              "data": [
                {
                  "hoverinfo": "none",
                  "line": {
                    "color": "black",
                    "dash": "dash",
                    "width": 1
                  },
                  "mode": "lines",
                  "showlegend": false,
                  "type": "scatter",
                  "x": [
                    0.00004741183103760705,
                    0.00009741853544255719
                  ],
                  "y": [
                    0.00004741183103760705,
                    0.00009741853544255719
                  ]
                },
                {
                  "hoverinfo": "text",
                  "hovertext": [
                    "(6.95732087478973e-05, 7.189845928223804e-05)",
                    "(6.885885522933677e-05, 6.92708053975366e-05)",
                    "(6.842039147159085e-05, 6.942458276171237e-05)",
                    "(6.756120274076238e-05, 6.969193054828793e-05)",
                    "(6.749540625605732e-05, 6.900185690028593e-05)",
                    "(6.741638935636729e-05, 6.951547402422875e-05)",
                    "(6.727154686814174e-05, 6.73866379656829e-05)",
                    "(6.71372254146263e-05, 6.848312477814034e-05)",
                    "(6.643241067649797e-05, 6.900251901242882e-05)",
                    "(6.471035158028826e-05, 6.560670590260997e-05)",
                    "(6.449040665756911e-05, 6.909837975399569e-05)",
                    "(6.425267201848328e-05, 6.533221312565729e-05)",
                    "(6.384696462191641e-05, 6.696140189887956e-05)",
                    "(6.334608769975603e-05, 6.532239058287814e-05)",
                    "(6.312942423392087e-05, 6.820409907959402e-05)",
                    "(6.259071233216673e-05, 6.402291910490021e-05)",
                    "(6.207680416991934e-05, 6.332620978355408e-05)",
                    "(6.202658551046625e-05, 6.223819946171716e-05)",
                    "(6.199187919264659e-05, 6.533221312565729e-05)",
                    "(6.187649705680087e-05, 6.620190833928064e-05)",
                    "(6.130808469606563e-05, 6.402291910490021e-05)",
                    "(6.071582538424991e-05, 6.254071195144206e-05)",
                    "(6.067322101444006e-05, 6.46773842163384e-05)",
                    "(6.04790220677387e-05, 6.984143692534417e-05)",
                    "(6.043603934813291e-05, 6.183740333653986e-05)",
                    "(6.0368583945091814e-05, 6.517922884086147e-05)",
                    "(6.0360613133525476e-05, 6.785254663554952e-05)",
                    "(6.026742994436063e-05, 6.258491339394823e-05)",
                    "(6.017718988005072e-05, 6.560295878443867e-05)",
                    "(6.0095098888268694e-05, 6.108362140366808e-05)",
                    "(6.008358468534425e-05, 6.167936226120219e-05)",
                    "(5.964235606370494e-05, 6.0501202824525535e-05)",
                    "(5.95726196479518e-05, 6.0677830333588645e-05)",
                    "(5.9528414567466825e-05, 7.400880713248625e-05)",
                    "(5.926778612774797e-05, 6.324079731712118e-05)",
                    "(5.919337854720652e-05, 6.270199810387567e-05)",
                    "(5.887432416784577e-05, 5.930349652771838e-05)",
                    "(5.8861096476903185e-05, 6.850303179817274e-05)",
                    "(5.8846835599979386e-05, 6.0044210840715095e-05)",
                    "(5.8776535297511145e-05, 7.292338705155998e-05)",
                    "(5.8717505453387275e-05, 6.658811616944149e-05)",
                    "(5.8686644479166716e-05, 5.972298822598532e-05)",
                    "(5.868102016393095e-05, 6.312468758551404e-05)",
                    "(5.86808382649906e-05, 5.972932558506727e-05)",
                    "(5.862520993105136e-05, 6.364943692460656e-05)",
                    "(5.8573077694745734e-05, 6.557556480402127e-05)",
                    "(5.8537963923299685e-05, 6.383250729413703e-05)",
                    "(5.8324898418504745e-05, 6.93921247147955e-05)",
                    "(5.81590757064987e-05, 5.9077552577946335e-05)",
                    "(5.813584721181542e-05, 6.0376376495696604e-05)",
                    "(5.767223774455488e-05, 6.368597678374499e-05)",
                    "(5.757668986916542e-05, 6.272700557019562e-05)",
                    "(5.7522658607922494e-05, 6.324079731712118e-05)",
                    "(5.728969335905276e-05, 6.143681093817577e-05)",
                    "(5.725877053919248e-05, 5.9153680922463536e-05)",
                    "(5.6909240811364725e-05, 5.798004713142291e-05)",
                    "(5.681680340785533e-05, 6.0301274061203e-05)",
                    "(5.635822162730619e-05, 6.429431232390925e-05)",
                    "(5.62210007046815e-05, 6.599303742405027e-05)",
                    "(5.621580930892378e-05, 5.813611642224714e-05)",
                    "(5.620074080070481e-05, 5.989255805616267e-05)",
                    "(5.6037850299617276e-05, 6.961922917980701e-05)",
                    "(5.594252434093505e-05, 5.790782961412333e-05)",
                    "(5.5668260756647214e-05, 6.19575148448348e-05)",
                    "(5.559161945711821e-05, 5.596383198280819e-05)",
                    "(5.5536453146487474e-05, 7.094917236827314e-05)",
                    "(5.5100339523050934e-05, 7.016700692474842e-05)",
                    "(5.505905573954806e-05, 5.7110373745672405e-05)",
                    "(5.5032112868502736e-05, 5.875985516468063e-05)",
                    "(5.491806587087922e-05, 5.659639646182768e-05)",
                    "(5.4644860938424245e-05, 5.562659498536959e-05)",
                    "(5.463608249556273e-05, 6.233673047972843e-05)",
                    "(5.460351530928165e-05, 5.586947736446746e-05)",
                    "(5.4443240514956415e-05, 5.5996319133555517e-05)",
                    "(5.437000800156966e-05, 5.9613725170493126e-05)",
                    "(5.420911838882603e-05, 5.855444760527462e-05)",
                    "(5.416105341282673e-05, 6.411692447727546e-05)",
                    "(5.413205872173421e-05, 5.685110954800621e-05)",
                    "(5.4130865464685485e-05, 5.623706238111481e-05)",
                    "(5.412231257651001e-05, 5.777580008725636e-05)",
                    "(5.401050657383166e-05, 5.732860881835222e-05)",
                    "(5.3782707254868e-05, 5.851366950082593e-05)",
                    "(5.374036845751107e-05, 6.010886136209592e-05)",
                    "(5.350465653464198e-05, 5.39120301255025e-05)",
                    "(5.3401803597807884e-05, 5.6369564845226705e-05)",
                    "(5.3038027544971555e-05, 5.7012566685443744e-05)",
                    "(5.286466330289841e-05, 6.220871728146449e-05)",
                    "(5.258409873931669e-05, 6.188339466461912e-05)",
                    "(5.205388879403472e-05, 6.232339364942163e-05)",
                    "(5.197765494813211e-05, 5.9305668401066214e-05)",
                    "(5.193983088247478e-05, 6.047465649317019e-05)",
                    "(5.1404851546976715e-05, 5.28819473402109e-05)",
                    "(5.126065661897883e-05, 5.3596417274093255e-05)",
                    "(5.1241571782156825e-05, 6.594251317437738e-05)",
                    "(5.123895971337333e-05, 6.10413626418449e-05)",
                    "(5.114155283081345e-05, 5.518960824701935e-05)",
                    "(5.105486707179807e-05, 6.437648698920384e-05)",
                    "(5.0870665290858597e-05, 5.8131307014264166e-05)",
                    "(5.068003520136699e-05, 6.185233360156417e-05)",
                    "(5.051854168414138e-05, 5.8413410442881286e-05)",
                    "(5.00018686580006e-05, 6.252947787288576e-05)",
                    "(4.929822534904815e-05, 5.554023300646804e-05)",
                    "(4.917414844385348e-05, 6.778209353797138e-05)",
                    "(4.906004323856905e-05, 6.277969805523753e-05)",
                    "(4.902689397567883e-05, 6.485194171546027e-05)",
                    "(4.8714638978708535e-05, 7.166362775024027e-05)",
                    "(4.837349843000993e-05, 8.060218533501029e-05)"
                  ],
                  "mode": "markers",
                  "name": "H1",
                  "type": "scatter",
                  "x": [
                    0.0000695732087478973,
                    0.00006885885522933677,
                    0.00006842039147159085,
                    0.00006756120274076238,
                    0.00006749540625605732,
                    0.00006741638935636729,
                    0.00006727154686814174,
                    0.0000671372254146263,
                    0.00006643241067649797,
                    0.00006471035158028826,
                    0.00006449040665756911,
                    0.00006425267201848328,
                    0.00006384696462191641,
                    0.00006334608769975603,
                    0.00006312942423392087,
                    0.00006259071233216673,
                    0.00006207680416991934,
                    0.00006202658551046625,
                    0.00006199187919264659,
                    0.00006187649705680087,
                    0.00006130808469606563,
                    0.00006071582538424991,
                    0.00006067322101444006,
                    0.0000604790220677387,
                    0.00006043603934813291,
                    0.000060368583945091814,
                    0.000060360613133525476,
                    0.00006026742994436063,
                    0.00006017718988005072,
                    0.000060095098888268694,
                    0.00006008358468534425,
                    0.00005964235606370494,
                    0.0000595726196479518,
                    0.000059528414567466825,
                    0.00005926778612774797,
                    0.00005919337854720652,
                    0.00005887432416784577,
                    0.000058861096476903185,
                    0.000058846835599979386,
                    0.000058776535297511145,
                    0.000058717505453387275,
                    0.000058686644479166716,
                    0.00005868102016393095,
                    0.0000586808382649906,
                    0.00005862520993105136,
                    0.000058573077694745734,
                    0.000058537963923299685,
                    0.000058324898418504745,
                    0.0000581590757064987,
                    0.00005813584721181542,
                    0.00005767223774455488,
                    0.00005757668986916542,
                    0.000057522658607922494,
                    0.00005728969335905276,
                    0.00005725877053919248,
                    0.000056909240811364725,
                    0.00005681680340785533,
                    0.00005635822162730619,
                    0.0000562210007046815,
                    0.00005621580930892378,
                    0.00005620074080070481,
                    0.000056037850299617276,
                    0.00005594252434093505,
                    0.000055668260756647214,
                    0.00005559161945711821,
                    0.000055536453146487474,
                    0.000055100339523050934,
                    0.00005505905573954806,
                    0.000055032112868502736,
                    0.00005491806587087922,
                    0.000054644860938424245,
                    0.00005463608249556273,
                    0.00005460351530928165,
                    0.000054443240514956415,
                    0.00005437000800156966,
                    0.00005420911838882603,
                    0.00005416105341282673,
                    0.00005413205872173421,
                    0.000054130865464685485,
                    0.00005412231257651001,
                    0.00005401050657383166,
                    0.000053782707254868,
                    0.00005374036845751107,
                    0.00005350465653464198,
                    0.000053401803597807884,
                    0.000053038027544971555,
                    0.00005286466330289841,
                    0.00005258409873931669,
                    0.00005205388879403472,
                    0.00005197765494813211,
                    0.00005193983088247478,
                    0.000051404851546976715,
                    0.00005126065661897883,
                    0.000051241571782156825,
                    0.00005123895971337333,
                    0.00005114155283081345,
                    0.00005105486707179807,
                    0.000050870665290858597,
                    0.00005068003520136699,
                    0.00005051854168414138,
                    0.0000500018686580006,
                    0.00004929822534904815,
                    0.00004917414844385348,
                    0.00004906004323856905,
                    0.00004902689397567883,
                    0.000048714638978708535,
                    0.00004837349843000993
                  ],
                  "y": [
                    0.00007189845928223804,
                    0.0000692708053975366,
                    0.00006942458276171237,
                    0.00006969193054828793,
                    0.00006900185690028593,
                    0.00006951547402422875,
                    0.0000673866379656829,
                    0.00006848312477814034,
                    0.00006900251901242882,
                    0.00006560670590260997,
                    0.00006909837975399569,
                    0.00006533221312565729,
                    0.00006696140189887956,
                    0.00006532239058287814,
                    0.00006820409907959402,
                    0.00006402291910490021,
                    0.00006332620978355408,
                    0.00006223819946171716,
                    0.00006533221312565729,
                    0.00006620190833928064,
                    0.00006402291910490021,
                    0.00006254071195144206,
                    0.0000646773842163384,
                    0.00006984143692534417,
                    0.00006183740333653986,
                    0.00006517922884086147,
                    0.00006785254663554952,
                    0.00006258491339394823,
                    0.00006560295878443867,
                    0.00006108362140366808,
                    0.00006167936226120219,
                    0.000060501202824525535,
                    0.000060677830333588645,
                    0.00007400880713248625,
                    0.00006324079731712118,
                    0.00006270199810387567,
                    0.00005930349652771838,
                    0.00006850303179817274,
                    0.000060044210840715095,
                    0.00007292338705155998,
                    0.00006658811616944149,
                    0.00005972298822598532,
                    0.00006312468758551404,
                    0.00005972932558506727,
                    0.00006364943692460656,
                    0.00006557556480402127,
                    0.00006383250729413703,
                    0.0000693921247147955,
                    0.000059077552577946335,
                    0.000060376376495696604,
                    0.00006368597678374499,
                    0.00006272700557019562,
                    0.00006324079731712118,
                    0.00006143681093817577,
                    0.000059153680922463536,
                    0.00005798004713142291,
                    0.000060301274061203,
                    0.00006429431232390925,
                    0.00006599303742405027,
                    0.00005813611642224714,
                    0.00005989255805616267,
                    0.00006961922917980701,
                    0.00005790782961412333,
                    0.0000619575148448348,
                    0.00005596383198280819,
                    0.00007094917236827314,
                    0.00007016700692474842,
                    0.000057110373745672405,
                    0.00005875985516468063,
                    0.00005659639646182768,
                    0.00005562659498536959,
                    0.00006233673047972843,
                    0.00005586947736446746,
                    0.000055996319133555517,
                    0.000059613725170493126,
                    0.00005855444760527462,
                    0.00006411692447727546,
                    0.00005685110954800621,
                    0.00005623706238111481,
                    0.00005777580008725636,
                    0.00005732860881835222,
                    0.00005851366950082593,
                    0.00006010886136209592,
                    0.0000539120301255025,
                    0.000056369564845226705,
                    0.000057012566685443744,
                    0.00006220871728146449,
                    0.00006188339466461912,
                    0.00006232339364942163,
                    0.000059305668401066214,
                    0.00006047465649317019,
                    0.0000528819473402109,
                    0.000053596417274093255,
                    0.00006594251317437738,
                    0.0000610413626418449,
                    0.00005518960824701935,
                    0.00006437648698920384,
                    0.000058131307014264166,
                    0.00006185233360156417,
                    0.000058413410442881286,
                    0.00006252947787288576,
                    0.00005554023300646804,
                    0.00006778209353797138,
                    0.00006277969805523753,
                    0.00006485194171546027,
                    0.00007166362775024027,
                    0.00008060218533501029
                  ]
                },
                {
                  "hoverinfo": "text",
                  "hovertext": [
                    "(8.5863059211988e-05, 8.699291356606409e-05)",
                    "(8.406477718381211e-05, 8.904233982320875e-05)",
                    "(8.242722105933353e-05, 8.342936052940786e-05)",
                    "(7.465865201083943e-05, 7.49967439332977e-05)",
                    "(7.462430949090049e-05, 7.537686906289309e-05)",
                    "(7.289525092346594e-05, 7.333047688007355e-05)",
                    "(7.220175757538527e-05, 7.338561408687383e-05)",
                    "(7.196728984126821e-05, 7.338561408687383e-05)",
                    "(7.190315227489918e-05, 7.391862163785845e-05)",
                    "(7.189949246821925e-05, 7.589466258650646e-05)",
                    "(7.175925566116348e-05, 7.259726407937706e-05)",
                    "(7.173752965172753e-05, 7.259726407937706e-05)",
                    "(7.153501792345196e-05, 7.207563612610102e-05)",
                    "(7.135965279303491e-05, 7.265097519848496e-05)",
                    "(7.128324796212837e-05, 7.172669575084001e-05)",
                    "(7.099368667695671e-05, 7.701446156715974e-05)",
                    "(7.047414692351595e-05, 7.082850788719952e-05)",
                    "(7.044793892418966e-05, 7.207563612610102e-05)",
                    "(7.033077417872846e-05, 7.286497566383332e-05)",
                    "(6.97343930369243e-05, 7.010663830442354e-05)",
                    "(6.937920989003032e-05, 6.989806570345536e-05)",
                    "(6.91157256369479e-05, 6.933553231647238e-05)",
                    "(6.88270156388171e-05, 6.959612073842436e-05)",
                    "(6.856251275166869e-05, 6.900185690028593e-05)",
                    "(6.834559462731704e-05, 7.041935896268114e-05)",
                    "(6.82713944115676e-05, 6.832684448454529e-05)",
                    "(6.810232298448682e-05, 6.980640318943188e-05)",
                    "(6.684218533337116e-05, 6.736241630278528e-05)",
                    "(6.620190833928064e-05, 6.689997826470062e-05)",
                    "(6.592919817194343e-05, 6.922415923327208e-05)",
                    "(6.566405500052497e-05, 6.78843425703235e-05)",
                    "(6.530836981255561e-05, 6.658655183855444e-05)",
                    "(6.400469283107668e-05, 6.472803943324834e-05)",
                    "(6.312468758551404e-05, 6.346179725369439e-05)",
                    "(6.189189298311248e-05, 6.21963627054356e-05)",
                    "(6.149954424472526e-05, 6.153182039270177e-05)"
                  ],
                  "mode": "markers",
                  "name": "H2",
                  "type": "scatter",
                  "x": [
                    0.000085863059211988,
                    0.00008406477718381211,
                    0.00008242722105933353,
                    0.00007465865201083943,
                    0.00007462430949090049,
                    0.00007289525092346594,
                    0.00007220175757538527,
                    0.00007196728984126821,
                    0.00007190315227489918,
                    0.00007189949246821925,
                    0.00007175925566116348,
                    0.00007173752965172753,
                    0.00007153501792345196,
                    0.00007135965279303491,
                    0.00007128324796212837,
                    0.00007099368667695671,
                    0.00007047414692351595,
                    0.00007044793892418966,
                    0.00007033077417872846,
                    0.0000697343930369243,
                    0.00006937920989003032,
                    0.0000691157256369479,
                    0.0000688270156388171,
                    0.00006856251275166869,
                    0.00006834559462731704,
                    0.0000682713944115676,
                    0.00006810232298448682,
                    0.00006684218533337116,
                    0.00006620190833928064,
                    0.00006592919817194343,
                    0.00006566405500052497,
                    0.00006530836981255561,
                    0.00006400469283107668,
                    0.00006312468758551404,
                    0.00006189189298311248,
                    0.00006149954424472526
                  ],
                  "y": [
                    0.00008699291356606409,
                    0.00008904233982320875,
                    0.00008342936052940786,
                    0.0000749967439332977,
                    0.00007537686906289309,
                    0.00007333047688007355,
                    0.00007338561408687383,
                    0.00007338561408687383,
                    0.00007391862163785845,
                    0.00007589466258650646,
                    0.00007259726407937706,
                    0.00007259726407937706,
                    0.00007207563612610102,
                    0.00007265097519848496,
                    0.00007172669575084001,
                    0.00007701446156715974,
                    0.00007082850788719952,
                    0.00007207563612610102,
                    0.00007286497566383332,
                    0.00007010663830442354,
                    0.00006989806570345536,
                    0.00006933553231647238,
                    0.00006959612073842436,
                    0.00006900185690028593,
                    0.00007041935896268114,
                    0.00006832684448454529,
                    0.00006980640318943188,
                    0.00006736241630278528,
                    0.00006689997826470062,
                    0.00006922415923327208,
                    0.0000678843425703235,
                    0.00006658655183855444,
                    0.00006472803943324834,
                    0.00006346179725369439,
                    0.0000621963627054356,
                    0.00006153182039270177
                  ]
                },
                {
                  "hoverinfo": "text",
                  "hovertext": [
                    "(9.63285710895434e-05, 9.64568680501543e-05)",
                    "(8.935073856264353e-05, 9.02610772754997e-05)",
                    "(7.691177597735077e-05, 7.804200140526518e-05)",
                    "(7.607321458635852e-05, 7.664440636290237e-05)",
                    "(7.589466258650646e-05, 7.645689038326964e-05)",
                    "(7.430408004438505e-05, 7.481547072529793e-05)",
                    "(7.338561408687383e-05, 7.353207911364734e-05)",
                    "(7.18636074452661e-05, 7.210759213194251e-05)",
                    "(7.048445695545524e-05, 7.117897621355951e-05)",
                    "(6.995390867814422e-05, 7.00217715348117e-05)"
                  ],
                  "mode": "markers",
                  "name": "H3",
                  "type": "scatter",
                  "x": [
                    0.0000963285710895434,
                    0.00008935073856264353,
                    0.00007691177597735077,
                    0.00007607321458635852,
                    0.00007589466258650646,
                    0.00007430408004438505,
                    0.00007338561408687383,
                    0.0000718636074452661,
                    0.00007048445695545524,
                    0.00006995390867814422
                  ],
                  "y": [
                    0.0000964568680501543,
                    0.0000902610772754997,
                    0.00007804200140526518,
                    0.00007664440636290237,
                    0.00007645689038326964,
                    0.00007481547072529793,
                    0.00007353207911364734,
                    0.00007210759213194251,
                    0.00007117897621355951,
                    0.0000700217715348117
                  ]
                }
              ],
              "layout": {
                "height": 500,
                "plot_bgcolor": "white",
                "template": {
                  "data": {
                    "bar": [
                      {
                        "error_x": {
                          "color": "#2a3f5f"
                        },
                        "error_y": {
                          "color": "#2a3f5f"
                        },
                        "marker": {
                          "line": {
                            "color": "#E5ECF6",
                            "width": 0.5
                          },
                          "pattern": {
                            "fillmode": "overlay",
                            "size": 10,
                            "solidity": 0.2
                          }
                        },
                        "type": "bar"
                      }
                    ],
                    "barpolar": [
                      {
                        "marker": {
                          "line": {
                            "color": "#E5ECF6",
                            "width": 0.5
                          },
                          "pattern": {
                            "fillmode": "overlay",
                            "size": 10,
                            "solidity": 0.2
                          }
                        },
                        "type": "barpolar"
                      }
                    ],
                    "carpet": [
                      {
                        "aaxis": {
                          "endlinecolor": "#2a3f5f",
                          "gridcolor": "white",
                          "linecolor": "white",
                          "minorgridcolor": "white",
                          "startlinecolor": "#2a3f5f"
                        },
                        "baxis": {
                          "endlinecolor": "#2a3f5f",
                          "gridcolor": "white",
                          "linecolor": "white",
                          "minorgridcolor": "white",
                          "startlinecolor": "#2a3f5f"
                        },
                        "type": "carpet"
                      }
                    ],
                    "choropleth": [
                      {
                        "colorbar": {
                          "outlinewidth": 0,
                          "ticks": ""
                        },
                        "type": "choropleth"
                      }
                    ],
                    "contour": [
                      {
                        "colorbar": {
                          "outlinewidth": 0,
                          "ticks": ""
                        },
                        "colorscale": [
                          [
                            0,
                            "#0d0887"
                          ],
                          [
                            0.1111111111111111,
                            "#46039f"
                          ],
                          [
                            0.2222222222222222,
                            "#7201a8"
                          ],
                          [
                            0.3333333333333333,
                            "#9c179e"
                          ],
                          [
                            0.4444444444444444,
                            "#bd3786"
                          ],
                          [
                            0.5555555555555556,
                            "#d8576b"
                          ],
                          [
                            0.6666666666666666,
                            "#ed7953"
                          ],
                          [
                            0.7777777777777778,
                            "#fb9f3a"
                          ],
                          [
                            0.8888888888888888,
                            "#fdca26"
                          ],
                          [
                            1,
                            "#f0f921"
                          ]
                        ],
                        "type": "contour"
                      }
                    ],
                    "contourcarpet": [
                      {
                        "colorbar": {
                          "outlinewidth": 0,
                          "ticks": ""
                        },
                        "type": "contourcarpet"
                      }
                    ],
                    "heatmap": [
                      {
                        "colorbar": {
                          "outlinewidth": 0,
                          "ticks": ""
                        },
                        "colorscale": [
                          [
                            0,
                            "#0d0887"
                          ],
                          [
                            0.1111111111111111,
                            "#46039f"
                          ],
                          [
                            0.2222222222222222,
                            "#7201a8"
                          ],
                          [
                            0.3333333333333333,
                            "#9c179e"
                          ],
                          [
                            0.4444444444444444,
                            "#bd3786"
                          ],
                          [
                            0.5555555555555556,
                            "#d8576b"
                          ],
                          [
                            0.6666666666666666,
                            "#ed7953"
                          ],
                          [
                            0.7777777777777778,
                            "#fb9f3a"
                          ],
                          [
                            0.8888888888888888,
                            "#fdca26"
                          ],
                          [
                            1,
                            "#f0f921"
                          ]
                        ],
                        "type": "heatmap"
                      }
                    ],
                    "heatmapgl": [
                      {
                        "colorbar": {
                          "outlinewidth": 0,
                          "ticks": ""
                        },
                        "colorscale": [
                          [
                            0,
                            "#0d0887"
                          ],
                          [
                            0.1111111111111111,
                            "#46039f"
                          ],
                          [
                            0.2222222222222222,
                            "#7201a8"
                          ],
                          [
                            0.3333333333333333,
                            "#9c179e"
                          ],
                          [
                            0.4444444444444444,
                            "#bd3786"
                          ],
                          [
                            0.5555555555555556,
                            "#d8576b"
                          ],
                          [
                            0.6666666666666666,
                            "#ed7953"
                          ],
                          [
                            0.7777777777777778,
                            "#fb9f3a"
                          ],
                          [
                            0.8888888888888888,
                            "#fdca26"
                          ],
                          [
                            1,
                            "#f0f921"
                          ]
                        ],
                        "type": "heatmapgl"
                      }
                    ],
                    "histogram": [
                      {
                        "marker": {
                          "pattern": {
                            "fillmode": "overlay",
                            "size": 10,
                            "solidity": 0.2
                          }
                        },
                        "type": "histogram"
                      }
                    ],
                    "histogram2d": [
                      {
                        "colorbar": {
                          "outlinewidth": 0,
                          "ticks": ""
                        },
                        "colorscale": [
                          [
                            0,
                            "#0d0887"
                          ],
                          [
                            0.1111111111111111,
                            "#46039f"
                          ],
                          [
                            0.2222222222222222,
                            "#7201a8"
                          ],
                          [
                            0.3333333333333333,
                            "#9c179e"
                          ],
                          [
                            0.4444444444444444,
                            "#bd3786"
                          ],
                          [
                            0.5555555555555556,
                            "#d8576b"
                          ],
                          [
                            0.6666666666666666,
                            "#ed7953"
                          ],
                          [
                            0.7777777777777778,
                            "#fb9f3a"
                          ],
                          [
                            0.8888888888888888,
                            "#fdca26"
                          ],
                          [
                            1,
                            "#f0f921"
                          ]
                        ],
                        "type": "histogram2d"
                      }
                    ],
                    "histogram2dcontour": [
                      {
                        "colorbar": {
                          "outlinewidth": 0,
                          "ticks": ""
                        },
                        "colorscale": [
                          [
                            0,
                            "#0d0887"
                          ],
                          [
                            0.1111111111111111,
                            "#46039f"
                          ],
                          [
                            0.2222222222222222,
                            "#7201a8"
                          ],
                          [
                            0.3333333333333333,
                            "#9c179e"
                          ],
                          [
                            0.4444444444444444,
                            "#bd3786"
                          ],
                          [
                            0.5555555555555556,
                            "#d8576b"
                          ],
                          [
                            0.6666666666666666,
                            "#ed7953"
                          ],
                          [
                            0.7777777777777778,
                            "#fb9f3a"
                          ],
                          [
                            0.8888888888888888,
                            "#fdca26"
                          ],
                          [
                            1,
                            "#f0f921"
                          ]
                        ],
                        "type": "histogram2dcontour"
                      }
                    ],
                    "mesh3d": [
                      {
                        "colorbar": {
                          "outlinewidth": 0,
                          "ticks": ""
                        },
                        "type": "mesh3d"
                      }
                    ],
                    "parcoords": [
                      {
                        "line": {
                          "colorbar": {
                            "outlinewidth": 0,
                            "ticks": ""
                          }
                        },
                        "type": "parcoords"
                      }
                    ],
                    "pie": [
                      {
                        "automargin": true,
                        "type": "pie"
                      }
                    ],
                    "scatter": [
                      {
                        "fillpattern": {
                          "fillmode": "overlay",
                          "size": 10,
                          "solidity": 0.2
                        },
                        "type": "scatter"
                      }
                    ],
                    "scatter3d": [
                      {
                        "line": {
                          "colorbar": {
                            "outlinewidth": 0,
                            "ticks": ""
                          }
                        },
                        "marker": {
                          "colorbar": {
                            "outlinewidth": 0,
                            "ticks": ""
                          }
                        },
                        "type": "scatter3d"
                      }
                    ],
                    "scattercarpet": [
                      {
                        "marker": {
                          "colorbar": {
                            "outlinewidth": 0,
                            "ticks": ""
                          }
                        },
                        "type": "scattercarpet"
                      }
                    ],
                    "scattergeo": [
                      {
                        "marker": {
                          "colorbar": {
                            "outlinewidth": 0,
                            "ticks": ""
                          }
                        },
                        "type": "scattergeo"
                      }
                    ],
                    "scattergl": [
                      {
                        "marker": {
                          "colorbar": {
                            "outlinewidth": 0,
                            "ticks": ""
                          }
                        },
                        "type": "scattergl"
                      }
                    ],
                    "scattermapbox": [
                      {
                        "marker": {
                          "colorbar": {
                            "outlinewidth": 0,
                            "ticks": ""
                          }
                        },
                        "type": "scattermapbox"
                      }
                    ],
                    "scatterpolar": [
                      {
                        "marker": {
                          "colorbar": {
                            "outlinewidth": 0,
                            "ticks": ""
                          }
                        },
                        "type": "scatterpolar"
                      }
                    ],
                    "scatterpolargl": [
                      {
                        "marker": {
                          "colorbar": {
                            "outlinewidth": 0,
                            "ticks": ""
                          }
                        },
                        "type": "scatterpolargl"
                      }
                    ],
                    "scatterternary": [
                      {
                        "marker": {
                          "colorbar": {
                            "outlinewidth": 0,
                            "ticks": ""
                          }
                        },
                        "type": "scatterternary"
                      }
                    ],
                    "surface": [
                      {
                        "colorbar": {
                          "outlinewidth": 0,
                          "ticks": ""
                        },
                        "colorscale": [
                          [
                            0,
                            "#0d0887"
                          ],
                          [
                            0.1111111111111111,
                            "#46039f"
                          ],
                          [
                            0.2222222222222222,
                            "#7201a8"
                          ],
                          [
                            0.3333333333333333,
                            "#9c179e"
                          ],
                          [
                            0.4444444444444444,
                            "#bd3786"
                          ],
                          [
                            0.5555555555555556,
                            "#d8576b"
                          ],
                          [
                            0.6666666666666666,
                            "#ed7953"
                          ],
                          [
                            0.7777777777777778,
                            "#fb9f3a"
                          ],
                          [
                            0.8888888888888888,
                            "#fdca26"
                          ],
                          [
                            1,
                            "#f0f921"
                          ]
                        ],
                        "type": "surface"
                      }
                    ],
                    "table": [
                      {
                        "cells": {
                          "fill": {
                            "color": "#EBF0F8"
                          },
                          "line": {
                            "color": "white"
                          }
                        },
                        "header": {
                          "fill": {
                            "color": "#C8D4E3"
                          },
                          "line": {
                            "color": "white"
                          }
                        },
                        "type": "table"
                      }
                    ]
                  },
                  "layout": {
                    "annotationdefaults": {
                      "arrowcolor": "#2a3f5f",
                      "arrowhead": 0,
                      "arrowwidth": 1
                    },
                    "autotypenumbers": "strict",
                    "coloraxis": {
                      "colorbar": {
                        "outlinewidth": 0,
                        "ticks": ""
                      }
                    },
                    "colorscale": {
                      "diverging": [
                        [
                          0,
                          "#8e0152"
                        ],
                        [
                          0.1,
                          "#c51b7d"
                        ],
                        [
                          0.2,
                          "#de77ae"
                        ],
                        [
                          0.3,
                          "#f1b6da"
                        ],
                        [
                          0.4,
                          "#fde0ef"
                        ],
                        [
                          0.5,
                          "#f7f7f7"
                        ],
                        [
                          0.6,
                          "#e6f5d0"
                        ],
                        [
                          0.7,
                          "#b8e186"
                        ],
                        [
                          0.8,
                          "#7fbc41"
                        ],
                        [
                          0.9,
                          "#4d9221"
                        ],
                        [
                          1,
                          "#276419"
                        ]
                      ],
                      "sequential": [
                        [
                          0,
                          "#0d0887"
                        ],
                        [
                          0.1111111111111111,
                          "#46039f"
                        ],
                        [
                          0.2222222222222222,
                          "#7201a8"
                        ],
                        [
                          0.3333333333333333,
                          "#9c179e"
                        ],
                        [
                          0.4444444444444444,
                          "#bd3786"
                        ],
                        [
                          0.5555555555555556,
                          "#d8576b"
                        ],
                        [
                          0.6666666666666666,
                          "#ed7953"
                        ],
                        [
                          0.7777777777777778,
                          "#fb9f3a"
                        ],
                        [
                          0.8888888888888888,
                          "#fdca26"
                        ],
                        [
                          1,
                          "#f0f921"
                        ]
                      ],
                      "sequentialminus": [
                        [
                          0,
                          "#0d0887"
                        ],
                        [
                          0.1111111111111111,
                          "#46039f"
                        ],
                        [
                          0.2222222222222222,
                          "#7201a8"
                        ],
                        [
                          0.3333333333333333,
                          "#9c179e"
                        ],
                        [
                          0.4444444444444444,
                          "#bd3786"
                        ],
                        [
                          0.5555555555555556,
                          "#d8576b"
                        ],
                        [
                          0.6666666666666666,
                          "#ed7953"
                        ],
                        [
                          0.7777777777777778,
                          "#fb9f3a"
                        ],
                        [
                          0.8888888888888888,
                          "#fdca26"
                        ],
                        [
                          1,
                          "#f0f921"
                        ]
                      ]
                    },
                    "colorway": [
                      "#636efa",
                      "#EF553B",
                      "#00cc96",
                      "#ab63fa",
                      "#FFA15A",
                      "#19d3f3",
                      "#FF6692",
                      "#B6E880",
                      "#FF97FF",
                      "#FECB52"
                    ],
                    "font": {
                      "color": "#2a3f5f"
                    },
                    "geo": {
                      "bgcolor": "white",
                      "lakecolor": "white",
                      "landcolor": "#E5ECF6",
                      "showlakes": true,
                      "showland": true,
                      "subunitcolor": "white"
                    },
                    "hoverlabel": {
                      "align": "left"
                    },
                    "hovermode": "closest",
                    "mapbox": {
                      "style": "light"
                    },
                    "paper_bgcolor": "white",
                    "plot_bgcolor": "#E5ECF6",
                    "polar": {
                      "angularaxis": {
                        "gridcolor": "white",
                        "linecolor": "white",
                        "ticks": ""
                      },
                      "bgcolor": "#E5ECF6",
                      "radialaxis": {
                        "gridcolor": "white",
                        "linecolor": "white",
                        "ticks": ""
                      }
                    },
                    "scene": {
                      "xaxis": {
                        "backgroundcolor": "#E5ECF6",
                        "gridcolor": "white",
                        "gridwidth": 2,
                        "linecolor": "white",
                        "showbackground": true,
                        "ticks": "",
                        "zerolinecolor": "white"
                      },
                      "yaxis": {
                        "backgroundcolor": "#E5ECF6",
                        "gridcolor": "white",
                        "gridwidth": 2,
                        "linecolor": "white",
                        "showbackground": true,
                        "ticks": "",
                        "zerolinecolor": "white"
                      },
                      "zaxis": {
                        "backgroundcolor": "#E5ECF6",
                        "gridcolor": "white",
                        "gridwidth": 2,
                        "linecolor": "white",
                        "showbackground": true,
                        "ticks": "",
                        "zerolinecolor": "white"
                      }
                    },
                    "shapedefaults": {
                      "line": {
                        "color": "#2a3f5f"
                      }
                    },
                    "ternary": {
                      "aaxis": {
                        "gridcolor": "white",
                        "linecolor": "white",
                        "ticks": ""
                      },
                      "baxis": {
                        "gridcolor": "white",
                        "linecolor": "white",
                        "ticks": ""
                      },
                      "bgcolor": "#E5ECF6",
                      "caxis": {
                        "gridcolor": "white",
                        "linecolor": "white",
                        "ticks": ""
                      }
                    },
                    "title": {
                      "x": 0.05
                    },
                    "xaxis": {
                      "automargin": true,
                      "gridcolor": "white",
                      "linecolor": "white",
                      "ticks": "",
                      "title": {
                        "standoff": 15
                      },
                      "zerolinecolor": "white",
                      "zerolinewidth": 2
                    },
                    "yaxis": {
                      "automargin": true,
                      "gridcolor": "white",
                      "linecolor": "white",
                      "ticks": "",
                      "title": {
                        "standoff": 15
                      },
                      "zerolinecolor": "white",
                      "zerolinewidth": 2
                    }
                  }
                },
                "width": 500,
                "xaxis": {
                  "autorange": false,
                  "exponentformat": "e",
                  "linecolor": "black",
                  "linewidth": 1,
                  "mirror": false,
                  "range": [
                    0.00004741183103760705,
                    0.00009741853544255719
                  ],
                  "showexponent": "all",
                  "showline": true,
                  "side": "bottom",
                  "ticks": "outside",
                  "title": {
                    "text": "Birth"
                  },
                  "type": "linear",
                  "zeroline": true
                },
                "yaxis": {
                  "autorange": false,
                  "exponentformat": "e",
                  "linecolor": "black",
                  "linewidth": 1,
                  "mirror": false,
                  "range": [
                    0.00004741183103760705,
                    0.00009741853544255719
                  ],
                  "scaleanchor": "x",
                  "scaleratio": 1,
                  "showexponent": "all",
                  "showline": true,
                  "side": "left",
                  "ticks": "outside",
                  "title": {
                    "text": "Death"
                  },
                  "type": "linear",
                  "zeroline": true
                }
              }
            }
          },
          "metadata": {},
          "output_type": "display_data"
        }
      ],
      "source": [
        "overall_diagrams_plot = gtda.plotting.plot_diagram(overall_diagrams[print_obj])\n",
        "display(overall_diagrams_plot)\n",
        "overall_diagrams_plot.write_image(file = f\"{subj}/{exp}/overall_diagram.svg\", format = \"svg\")"
      ]
    },
    {
      "cell_type": "markdown",
      "metadata": {},
      "source": [
        "#### FeatureCalculator"
      ]
    },
    {
      "cell_type": "code",
      "execution_count": null,
      "metadata": {},
      "outputs": [
        {
          "name": "stdout",
          "output_type": "stream",
          "text": [
            "Filtered diagrams: (1046, 190, 3)\n",
            "N bins: 100\n"
          ]
        },
        {
          "name": "stderr",
          "output_type": "stream",
          "text": [
            "overall betti: 100%|██████████| 1046/1046 [00:02<00:00, 351.23it/s]\n",
            "overall landscape: 100%|██████████| 1046/1046 [00:02<00:00, 352.27it/s]\n",
            "overall silhouette-1: 100%|██████████| 1046/1046 [00:03<00:00, 336.57it/s]\n",
            "overall silhouette-2: 100%|██████████| 1046/1046 [00:03<00:00, 338.70it/s]\n",
            "overall amplitudes: 100%|██████████| 13/13 [00:02<00:00,  6.28it/s]\n",
            "overall lifetime: 100%|██████████| 1046/1046 [00:08<00:00, 121.77it/s]\n"
          ]
        },
        {
          "data": {
            "text/html": [
              "<div>\n",
              "<style scoped>\n",
              "    .dataframe tbody tr th:only-of-type {\n",
              "        vertical-align: middle;\n",
              "    }\n",
              "\n",
              "    .dataframe tbody tr th {\n",
              "        vertical-align: top;\n",
              "    }\n",
              "\n",
              "    .dataframe thead th {\n",
              "        text-align: right;\n",
              "    }\n",
              "</style>\n",
              "<table border=\"1\" class=\"dataframe\">\n",
              "  <thead>\n",
              "    <tr style=\"text-align: right;\">\n",
              "      <th></th>\n",
              "      <th>overall betti dim-1 max</th>\n",
              "      <th>overall betti dim-1 mean</th>\n",
              "      <th>overall betti dim-1 std</th>\n",
              "      <th>overall betti dim-1 sum</th>\n",
              "      <th>overall betti dim-1 percentile-25</th>\n",
              "      <th>overall betti dim-1 median</th>\n",
              "      <th>overall betti dim-1 percentile-75</th>\n",
              "      <th>overall betti dim-1 kurtosis</th>\n",
              "      <th>overall betti dim-1 skew</th>\n",
              "      <th>overall betti dim-1 norm-1</th>\n",
              "      <th>...</th>\n",
              "      <th>overall bd2 dim-3 mean</th>\n",
              "      <th>overall bd2 dim-3 std</th>\n",
              "      <th>overall bd2 dim-3 sum</th>\n",
              "      <th>overall bd2 dim-3 percentile-25</th>\n",
              "      <th>overall bd2 dim-3 median</th>\n",
              "      <th>overall bd2 dim-3 percentile-75</th>\n",
              "      <th>overall bd2 dim-3 kurtosis</th>\n",
              "      <th>overall bd2 dim-3 skew</th>\n",
              "      <th>overall bd2 dim-3 norm-1</th>\n",
              "      <th>overall bd2 dim-3 norm-2</th>\n",
              "    </tr>\n",
              "  </thead>\n",
              "  <tbody>\n",
              "    <tr>\n",
              "      <th>0</th>\n",
              "      <td>14.00</td>\n",
              "      <td>0.00</td>\n",
              "      <td>2.78</td>\n",
              "      <td>0.00</td>\n",
              "      <td>0.00</td>\n",
              "      <td>0.00</td>\n",
              "      <td>0.00</td>\n",
              "      <td>20.08</td>\n",
              "      <td>-1.30</td>\n",
              "      <td>80.00</td>\n",
              "      <td>...</td>\n",
              "      <td>0.00</td>\n",
              "      <td>0.00</td>\n",
              "      <td>0.00</td>\n",
              "      <td>0.00</td>\n",
              "      <td>0.00</td>\n",
              "      <td>0.00</td>\n",
              "      <td>-1.50</td>\n",
              "      <td>0.69</td>\n",
              "      <td>0.00</td>\n",
              "      <td>0.00</td>\n",
              "    </tr>\n",
              "    <tr>\n",
              "      <th>1</th>\n",
              "      <td>11.00</td>\n",
              "      <td>0.00</td>\n",
              "      <td>2.26</td>\n",
              "      <td>0.00</td>\n",
              "      <td>0.00</td>\n",
              "      <td>0.00</td>\n",
              "      <td>0.00</td>\n",
              "      <td>10.28</td>\n",
              "      <td>0.49</td>\n",
              "      <td>78.00</td>\n",
              "      <td>...</td>\n",
              "      <td>0.00</td>\n",
              "      <td>0.00</td>\n",
              "      <td>0.00</td>\n",
              "      <td>0.00</td>\n",
              "      <td>0.00</td>\n",
              "      <td>0.00</td>\n",
              "      <td>-1.50</td>\n",
              "      <td>-0.50</td>\n",
              "      <td>0.00</td>\n",
              "      <td>0.00</td>\n",
              "    </tr>\n",
              "    <tr>\n",
              "      <th>2</th>\n",
              "      <td>15.00</td>\n",
              "      <td>0.00</td>\n",
              "      <td>3.40</td>\n",
              "      <td>0.00</td>\n",
              "      <td>0.00</td>\n",
              "      <td>0.00</td>\n",
              "      <td>0.00</td>\n",
              "      <td>15.87</td>\n",
              "      <td>-1.03</td>\n",
              "      <td>94.00</td>\n",
              "      <td>...</td>\n",
              "      <td>0.00</td>\n",
              "      <td>0.00</td>\n",
              "      <td>0.00</td>\n",
              "      <td>0.00</td>\n",
              "      <td>0.00</td>\n",
              "      <td>0.00</td>\n",
              "      <td>-1.50</td>\n",
              "      <td>0.36</td>\n",
              "      <td>0.00</td>\n",
              "      <td>0.00</td>\n",
              "    </tr>\n",
              "    <tr>\n",
              "      <th>3</th>\n",
              "      <td>8.00</td>\n",
              "      <td>0.00</td>\n",
              "      <td>2.04</td>\n",
              "      <td>0.00</td>\n",
              "      <td>0.00</td>\n",
              "      <td>0.00</td>\n",
              "      <td>0.00</td>\n",
              "      <td>13.39</td>\n",
              "      <td>-1.39</td>\n",
              "      <td>64.00</td>\n",
              "      <td>...</td>\n",
              "      <td>0.00</td>\n",
              "      <td>0.00</td>\n",
              "      <td>0.00</td>\n",
              "      <td>0.00</td>\n",
              "      <td>0.00</td>\n",
              "      <td>0.00</td>\n",
              "      <td>-1.50</td>\n",
              "      <td>-0.71</td>\n",
              "      <td>0.00</td>\n",
              "      <td>0.00</td>\n",
              "    </tr>\n",
              "    <tr>\n",
              "      <th>4</th>\n",
              "      <td>22.00</td>\n",
              "      <td>0.00</td>\n",
              "      <td>3.25</td>\n",
              "      <td>0.00</td>\n",
              "      <td>0.00</td>\n",
              "      <td>0.00</td>\n",
              "      <td>0.00</td>\n",
              "      <td>23.98</td>\n",
              "      <td>3.20</td>\n",
              "      <td>94.00</td>\n",
              "      <td>...</td>\n",
              "      <td>0.00</td>\n",
              "      <td>0.00</td>\n",
              "      <td>0.00</td>\n",
              "      <td>0.00</td>\n",
              "      <td>0.00</td>\n",
              "      <td>0.00</td>\n",
              "      <td>0.00</td>\n",
              "      <td>0.00</td>\n",
              "      <td>0.00</td>\n",
              "      <td>0.00</td>\n",
              "    </tr>\n",
              "    <tr>\n",
              "      <th>...</th>\n",
              "      <td>...</td>\n",
              "      <td>...</td>\n",
              "      <td>...</td>\n",
              "      <td>...</td>\n",
              "      <td>...</td>\n",
              "      <td>...</td>\n",
              "      <td>...</td>\n",
              "      <td>...</td>\n",
              "      <td>...</td>\n",
              "      <td>...</td>\n",
              "      <td>...</td>\n",
              "      <td>...</td>\n",
              "      <td>...</td>\n",
              "      <td>...</td>\n",
              "      <td>...</td>\n",
              "      <td>...</td>\n",
              "      <td>...</td>\n",
              "      <td>...</td>\n",
              "      <td>...</td>\n",
              "      <td>...</td>\n",
              "      <td>...</td>\n",
              "    </tr>\n",
              "    <tr>\n",
              "      <th>1041</th>\n",
              "      <td>4.00</td>\n",
              "      <td>0.00</td>\n",
              "      <td>0.97</td>\n",
              "      <td>0.00</td>\n",
              "      <td>0.00</td>\n",
              "      <td>0.00</td>\n",
              "      <td>0.00</td>\n",
              "      <td>10.42</td>\n",
              "      <td>-0.39</td>\n",
              "      <td>36.00</td>\n",
              "      <td>...</td>\n",
              "      <td>0.00</td>\n",
              "      <td>0.00</td>\n",
              "      <td>0.00</td>\n",
              "      <td>0.00</td>\n",
              "      <td>0.00</td>\n",
              "      <td>0.00</td>\n",
              "      <td>-1.51</td>\n",
              "      <td>0.04</td>\n",
              "      <td>0.00</td>\n",
              "      <td>0.00</td>\n",
              "    </tr>\n",
              "    <tr>\n",
              "      <th>1042</th>\n",
              "      <td>6.00</td>\n",
              "      <td>0.00</td>\n",
              "      <td>1.16</td>\n",
              "      <td>0.00</td>\n",
              "      <td>0.00</td>\n",
              "      <td>0.00</td>\n",
              "      <td>0.00</td>\n",
              "      <td>10.71</td>\n",
              "      <td>0.54</td>\n",
              "      <td>48.00</td>\n",
              "      <td>...</td>\n",
              "      <td>0.00</td>\n",
              "      <td>0.00</td>\n",
              "      <td>0.00</td>\n",
              "      <td>0.00</td>\n",
              "      <td>0.00</td>\n",
              "      <td>0.00</td>\n",
              "      <td>-1.45</td>\n",
              "      <td>0.71</td>\n",
              "      <td>0.00</td>\n",
              "      <td>0.00</td>\n",
              "    </tr>\n",
              "    <tr>\n",
              "      <th>1043</th>\n",
              "      <td>3.00</td>\n",
              "      <td>0.00</td>\n",
              "      <td>0.93</td>\n",
              "      <td>0.00</td>\n",
              "      <td>0.00</td>\n",
              "      <td>0.00</td>\n",
              "      <td>0.00</td>\n",
              "      <td>5.54</td>\n",
              "      <td>0.15</td>\n",
              "      <td>36.00</td>\n",
              "      <td>...</td>\n",
              "      <td>0.00</td>\n",
              "      <td>0.00</td>\n",
              "      <td>0.00</td>\n",
              "      <td>0.00</td>\n",
              "      <td>0.00</td>\n",
              "      <td>0.00</td>\n",
              "      <td>0.00</td>\n",
              "      <td>0.00</td>\n",
              "      <td>0.00</td>\n",
              "      <td>0.00</td>\n",
              "    </tr>\n",
              "    <tr>\n",
              "      <th>1044</th>\n",
              "      <td>5.00</td>\n",
              "      <td>0.00</td>\n",
              "      <td>0.78</td>\n",
              "      <td>0.00</td>\n",
              "      <td>0.00</td>\n",
              "      <td>0.00</td>\n",
              "      <td>0.00</td>\n",
              "      <td>20.10</td>\n",
              "      <td>2.44</td>\n",
              "      <td>22.00</td>\n",
              "      <td>...</td>\n",
              "      <td>0.00</td>\n",
              "      <td>0.00</td>\n",
              "      <td>0.00</td>\n",
              "      <td>0.00</td>\n",
              "      <td>0.00</td>\n",
              "      <td>0.00</td>\n",
              "      <td>-2.00</td>\n",
              "      <td>0.00</td>\n",
              "      <td>0.00</td>\n",
              "      <td>0.00</td>\n",
              "    </tr>\n",
              "    <tr>\n",
              "      <th>1045</th>\n",
              "      <td>6.00</td>\n",
              "      <td>0.00</td>\n",
              "      <td>1.09</td>\n",
              "      <td>0.00</td>\n",
              "      <td>0.00</td>\n",
              "      <td>0.00</td>\n",
              "      <td>0.00</td>\n",
              "      <td>13.79</td>\n",
              "      <td>0.23</td>\n",
              "      <td>38.00</td>\n",
              "      <td>...</td>\n",
              "      <td>0.00</td>\n",
              "      <td>0.00</td>\n",
              "      <td>0.00</td>\n",
              "      <td>0.00</td>\n",
              "      <td>0.00</td>\n",
              "      <td>0.00</td>\n",
              "      <td>-1.50</td>\n",
              "      <td>-0.22</td>\n",
              "      <td>0.00</td>\n",
              "      <td>0.00</td>\n",
              "    </tr>\n",
              "  </tbody>\n",
              "</table>\n",
              "<p>1046 rows × 291 columns</p>\n",
              "</div>"
            ],
            "text/plain": [
              "      overall betti dim-1 max  overall betti dim-1 mean  \\\n",
              "0                       14.00                      0.00   \n",
              "1                       11.00                      0.00   \n",
              "2                       15.00                      0.00   \n",
              "3                        8.00                      0.00   \n",
              "4                       22.00                      0.00   \n",
              "...                       ...                       ...   \n",
              "1041                     4.00                      0.00   \n",
              "1042                     6.00                      0.00   \n",
              "1043                     3.00                      0.00   \n",
              "1044                     5.00                      0.00   \n",
              "1045                     6.00                      0.00   \n",
              "\n",
              "      overall betti dim-1 std  overall betti dim-1 sum  \\\n",
              "0                        2.78                     0.00   \n",
              "1                        2.26                     0.00   \n",
              "2                        3.40                     0.00   \n",
              "3                        2.04                     0.00   \n",
              "4                        3.25                     0.00   \n",
              "...                       ...                      ...   \n",
              "1041                     0.97                     0.00   \n",
              "1042                     1.16                     0.00   \n",
              "1043                     0.93                     0.00   \n",
              "1044                     0.78                     0.00   \n",
              "1045                     1.09                     0.00   \n",
              "\n",
              "      overall betti dim-1 percentile-25  overall betti dim-1 median  \\\n",
              "0                                  0.00                        0.00   \n",
              "1                                  0.00                        0.00   \n",
              "2                                  0.00                        0.00   \n",
              "3                                  0.00                        0.00   \n",
              "4                                  0.00                        0.00   \n",
              "...                                 ...                         ...   \n",
              "1041                               0.00                        0.00   \n",
              "1042                               0.00                        0.00   \n",
              "1043                               0.00                        0.00   \n",
              "1044                               0.00                        0.00   \n",
              "1045                               0.00                        0.00   \n",
              "\n",
              "      overall betti dim-1 percentile-75  overall betti dim-1 kurtosis  \\\n",
              "0                                  0.00                         20.08   \n",
              "1                                  0.00                         10.28   \n",
              "2                                  0.00                         15.87   \n",
              "3                                  0.00                         13.39   \n",
              "4                                  0.00                         23.98   \n",
              "...                                 ...                           ...   \n",
              "1041                               0.00                         10.42   \n",
              "1042                               0.00                         10.71   \n",
              "1043                               0.00                          5.54   \n",
              "1044                               0.00                         20.10   \n",
              "1045                               0.00                         13.79   \n",
              "\n",
              "      overall betti dim-1 skew  overall betti dim-1 norm-1  ...  \\\n",
              "0                        -1.30                       80.00  ...   \n",
              "1                         0.49                       78.00  ...   \n",
              "2                        -1.03                       94.00  ...   \n",
              "3                        -1.39                       64.00  ...   \n",
              "4                         3.20                       94.00  ...   \n",
              "...                        ...                         ...  ...   \n",
              "1041                     -0.39                       36.00  ...   \n",
              "1042                      0.54                       48.00  ...   \n",
              "1043                      0.15                       36.00  ...   \n",
              "1044                      2.44                       22.00  ...   \n",
              "1045                      0.23                       38.00  ...   \n",
              "\n",
              "      overall bd2 dim-3 mean  overall bd2 dim-3 std  overall bd2 dim-3 sum  \\\n",
              "0                       0.00                   0.00                   0.00   \n",
              "1                       0.00                   0.00                   0.00   \n",
              "2                       0.00                   0.00                   0.00   \n",
              "3                       0.00                   0.00                   0.00   \n",
              "4                       0.00                   0.00                   0.00   \n",
              "...                      ...                    ...                    ...   \n",
              "1041                    0.00                   0.00                   0.00   \n",
              "1042                    0.00                   0.00                   0.00   \n",
              "1043                    0.00                   0.00                   0.00   \n",
              "1044                    0.00                   0.00                   0.00   \n",
              "1045                    0.00                   0.00                   0.00   \n",
              "\n",
              "      overall bd2 dim-3 percentile-25  overall bd2 dim-3 median  \\\n",
              "0                                0.00                      0.00   \n",
              "1                                0.00                      0.00   \n",
              "2                                0.00                      0.00   \n",
              "3                                0.00                      0.00   \n",
              "4                                0.00                      0.00   \n",
              "...                               ...                       ...   \n",
              "1041                             0.00                      0.00   \n",
              "1042                             0.00                      0.00   \n",
              "1043                             0.00                      0.00   \n",
              "1044                             0.00                      0.00   \n",
              "1045                             0.00                      0.00   \n",
              "\n",
              "      overall bd2 dim-3 percentile-75  overall bd2 dim-3 kurtosis  \\\n",
              "0                                0.00                       -1.50   \n",
              "1                                0.00                       -1.50   \n",
              "2                                0.00                       -1.50   \n",
              "3                                0.00                       -1.50   \n",
              "4                                0.00                        0.00   \n",
              "...                               ...                         ...   \n",
              "1041                             0.00                       -1.51   \n",
              "1042                             0.00                       -1.45   \n",
              "1043                             0.00                        0.00   \n",
              "1044                             0.00                       -2.00   \n",
              "1045                             0.00                       -1.50   \n",
              "\n",
              "      overall bd2 dim-3 skew  overall bd2 dim-3 norm-1  \\\n",
              "0                       0.69                      0.00   \n",
              "1                      -0.50                      0.00   \n",
              "2                       0.36                      0.00   \n",
              "3                      -0.71                      0.00   \n",
              "4                       0.00                      0.00   \n",
              "...                      ...                       ...   \n",
              "1041                    0.04                      0.00   \n",
              "1042                    0.71                      0.00   \n",
              "1043                    0.00                      0.00   \n",
              "1044                    0.00                      0.00   \n",
              "1045                   -0.22                      0.00   \n",
              "\n",
              "      overall bd2 dim-3 norm-2  \n",
              "0                         0.00  \n",
              "1                         0.00  \n",
              "2                         0.00  \n",
              "3                         0.00  \n",
              "4                         0.00  \n",
              "...                        ...  \n",
              "1041                      0.00  \n",
              "1042                      0.00  \n",
              "1043                      0.00  \n",
              "1044                      0.00  \n",
              "1045                      0.00  \n",
              "\n",
              "[1046 rows x 291 columns]"
            ]
          },
          "execution_count": 22,
          "metadata": {},
          "output_type": "execute_result"
        }
      ],
      "source": [
        "overall_features = FeatureCalculator().calc_features(overall_diagrams, prefix = 'overall')\n",
        "overall_features.to_feather(f\"{subj}/{exp}/overall_features.feather\")\n",
        "overall_features"
      ]
    },
    {
      "cell_type": "markdown",
      "metadata": {},
      "source": [
        "### Features"
      ]
    },
    {
      "cell_type": "code",
      "execution_count": null,
      "metadata": {},
      "outputs": [
        {
          "data": {
            "text/html": [
              "<div>\n",
              "<style scoped>\n",
              "    .dataframe tbody tr th:only-of-type {\n",
              "        vertical-align: middle;\n",
              "    }\n",
              "\n",
              "    .dataframe tbody tr th {\n",
              "        vertical-align: top;\n",
              "    }\n",
              "\n",
              "    .dataframe thead th {\n",
              "        text-align: right;\n",
              "    }\n",
              "</style>\n",
              "<table border=\"1\" class=\"dataframe\">\n",
              "  <thead>\n",
              "    <tr style=\"text-align: right;\">\n",
              "      <th></th>\n",
              "      <th>channel-0 betti dim-1 max</th>\n",
              "      <th>channel-0 betti dim-1 mean</th>\n",
              "      <th>channel-0 betti dim-1 std</th>\n",
              "      <th>channel-0 betti dim-1 sum</th>\n",
              "      <th>channel-0 betti dim-1 percentile-25</th>\n",
              "      <th>channel-0 betti dim-1 median</th>\n",
              "      <th>channel-0 betti dim-1 percentile-75</th>\n",
              "      <th>channel-0 betti dim-1 kurtosis</th>\n",
              "      <th>channel-0 betti dim-1 skew</th>\n",
              "      <th>channel-0 betti dim-1 norm-1</th>\n",
              "      <th>...</th>\n",
              "      <th>overall bd2 dim-3 mean</th>\n",
              "      <th>overall bd2 dim-3 std</th>\n",
              "      <th>overall bd2 dim-3 sum</th>\n",
              "      <th>overall bd2 dim-3 percentile-25</th>\n",
              "      <th>overall bd2 dim-3 median</th>\n",
              "      <th>overall bd2 dim-3 percentile-75</th>\n",
              "      <th>overall bd2 dim-3 kurtosis</th>\n",
              "      <th>overall bd2 dim-3 skew</th>\n",
              "      <th>overall bd2 dim-3 norm-1</th>\n",
              "      <th>overall bd2 dim-3 norm-2</th>\n",
              "    </tr>\n",
              "  </thead>\n",
              "  <tbody>\n",
              "    <tr>\n",
              "      <th>0</th>\n",
              "      <td>20.00</td>\n",
              "      <td>0.00</td>\n",
              "      <td>3.08</td>\n",
              "      <td>0.00</td>\n",
              "      <td>0.00</td>\n",
              "      <td>0.00</td>\n",
              "      <td>0.00</td>\n",
              "      <td>22.65</td>\n",
              "      <td>1.98</td>\n",
              "      <td>74.00</td>\n",
              "      <td>...</td>\n",
              "      <td>0.00</td>\n",
              "      <td>0.00</td>\n",
              "      <td>0.00</td>\n",
              "      <td>0.00</td>\n",
              "      <td>0.00</td>\n",
              "      <td>0.00</td>\n",
              "      <td>-1.50</td>\n",
              "      <td>0.69</td>\n",
              "      <td>0.00</td>\n",
              "      <td>0.00</td>\n",
              "    </tr>\n",
              "    <tr>\n",
              "      <th>1</th>\n",
              "      <td>25.00</td>\n",
              "      <td>0.00</td>\n",
              "      <td>3.63</td>\n",
              "      <td>0.00</td>\n",
              "      <td>0.00</td>\n",
              "      <td>0.00</td>\n",
              "      <td>0.00</td>\n",
              "      <td>36.29</td>\n",
              "      <td>0.72</td>\n",
              "      <td>74.00</td>\n",
              "      <td>...</td>\n",
              "      <td>0.00</td>\n",
              "      <td>0.00</td>\n",
              "      <td>0.00</td>\n",
              "      <td>0.00</td>\n",
              "      <td>0.00</td>\n",
              "      <td>0.00</td>\n",
              "      <td>-1.50</td>\n",
              "      <td>-0.50</td>\n",
              "      <td>0.00</td>\n",
              "      <td>0.00</td>\n",
              "    </tr>\n",
              "    <tr>\n",
              "      <th>2</th>\n",
              "      <td>14.00</td>\n",
              "      <td>0.00</td>\n",
              "      <td>2.52</td>\n",
              "      <td>0.00</td>\n",
              "      <td>0.00</td>\n",
              "      <td>0.00</td>\n",
              "      <td>0.00</td>\n",
              "      <td>21.62</td>\n",
              "      <td>1.42</td>\n",
              "      <td>62.00</td>\n",
              "      <td>...</td>\n",
              "      <td>0.00</td>\n",
              "      <td>0.00</td>\n",
              "      <td>0.00</td>\n",
              "      <td>0.00</td>\n",
              "      <td>0.00</td>\n",
              "      <td>0.00</td>\n",
              "      <td>-1.50</td>\n",
              "      <td>0.36</td>\n",
              "      <td>0.00</td>\n",
              "      <td>0.00</td>\n",
              "    </tr>\n",
              "    <tr>\n",
              "      <th>3</th>\n",
              "      <td>10.00</td>\n",
              "      <td>0.00</td>\n",
              "      <td>1.87</td>\n",
              "      <td>0.00</td>\n",
              "      <td>0.00</td>\n",
              "      <td>0.00</td>\n",
              "      <td>0.00</td>\n",
              "      <td>24.06</td>\n",
              "      <td>-0.87</td>\n",
              "      <td>50.00</td>\n",
              "      <td>...</td>\n",
              "      <td>0.00</td>\n",
              "      <td>0.00</td>\n",
              "      <td>0.00</td>\n",
              "      <td>0.00</td>\n",
              "      <td>0.00</td>\n",
              "      <td>0.00</td>\n",
              "      <td>-1.50</td>\n",
              "      <td>-0.71</td>\n",
              "      <td>0.00</td>\n",
              "      <td>0.00</td>\n",
              "    </tr>\n",
              "    <tr>\n",
              "      <th>4</th>\n",
              "      <td>6.00</td>\n",
              "      <td>0.00</td>\n",
              "      <td>1.61</td>\n",
              "      <td>0.00</td>\n",
              "      <td>0.00</td>\n",
              "      <td>0.00</td>\n",
              "      <td>0.00</td>\n",
              "      <td>19.21</td>\n",
              "      <td>-2.15</td>\n",
              "      <td>44.00</td>\n",
              "      <td>...</td>\n",
              "      <td>0.00</td>\n",
              "      <td>0.00</td>\n",
              "      <td>0.00</td>\n",
              "      <td>0.00</td>\n",
              "      <td>0.00</td>\n",
              "      <td>0.00</td>\n",
              "      <td>0.00</td>\n",
              "      <td>0.00</td>\n",
              "      <td>0.00</td>\n",
              "      <td>0.00</td>\n",
              "    </tr>\n",
              "    <tr>\n",
              "      <th>...</th>\n",
              "      <td>...</td>\n",
              "      <td>...</td>\n",
              "      <td>...</td>\n",
              "      <td>...</td>\n",
              "      <td>...</td>\n",
              "      <td>...</td>\n",
              "      <td>...</td>\n",
              "      <td>...</td>\n",
              "      <td>...</td>\n",
              "      <td>...</td>\n",
              "      <td>...</td>\n",
              "      <td>...</td>\n",
              "      <td>...</td>\n",
              "      <td>...</td>\n",
              "      <td>...</td>\n",
              "      <td>...</td>\n",
              "      <td>...</td>\n",
              "      <td>...</td>\n",
              "      <td>...</td>\n",
              "      <td>...</td>\n",
              "      <td>...</td>\n",
              "    </tr>\n",
              "    <tr>\n",
              "      <th>1041</th>\n",
              "      <td>13.00</td>\n",
              "      <td>0.00</td>\n",
              "      <td>1.69</td>\n",
              "      <td>0.00</td>\n",
              "      <td>0.00</td>\n",
              "      <td>0.00</td>\n",
              "      <td>0.00</td>\n",
              "      <td>34.35</td>\n",
              "      <td>3.92</td>\n",
              "      <td>48.00</td>\n",
              "      <td>...</td>\n",
              "      <td>0.00</td>\n",
              "      <td>0.00</td>\n",
              "      <td>0.00</td>\n",
              "      <td>0.00</td>\n",
              "      <td>0.00</td>\n",
              "      <td>0.00</td>\n",
              "      <td>-1.51</td>\n",
              "      <td>0.04</td>\n",
              "      <td>0.00</td>\n",
              "      <td>0.00</td>\n",
              "    </tr>\n",
              "    <tr>\n",
              "      <th>1042</th>\n",
              "      <td>6.00</td>\n",
              "      <td>0.00</td>\n",
              "      <td>0.95</td>\n",
              "      <td>0.00</td>\n",
              "      <td>0.00</td>\n",
              "      <td>0.00</td>\n",
              "      <td>0.00</td>\n",
              "      <td>18.19</td>\n",
              "      <td>1.89</td>\n",
              "      <td>30.00</td>\n",
              "      <td>...</td>\n",
              "      <td>0.00</td>\n",
              "      <td>0.00</td>\n",
              "      <td>0.00</td>\n",
              "      <td>0.00</td>\n",
              "      <td>0.00</td>\n",
              "      <td>0.00</td>\n",
              "      <td>-1.45</td>\n",
              "      <td>0.71</td>\n",
              "      <td>0.00</td>\n",
              "      <td>0.00</td>\n",
              "    </tr>\n",
              "    <tr>\n",
              "      <th>1043</th>\n",
              "      <td>12.00</td>\n",
              "      <td>0.00</td>\n",
              "      <td>1.85</td>\n",
              "      <td>0.00</td>\n",
              "      <td>0.00</td>\n",
              "      <td>0.00</td>\n",
              "      <td>0.00</td>\n",
              "      <td>24.86</td>\n",
              "      <td>2.85</td>\n",
              "      <td>46.00</td>\n",
              "      <td>...</td>\n",
              "      <td>0.00</td>\n",
              "      <td>0.00</td>\n",
              "      <td>0.00</td>\n",
              "      <td>0.00</td>\n",
              "      <td>0.00</td>\n",
              "      <td>0.00</td>\n",
              "      <td>0.00</td>\n",
              "      <td>0.00</td>\n",
              "      <td>0.00</td>\n",
              "      <td>0.00</td>\n",
              "    </tr>\n",
              "    <tr>\n",
              "      <th>1044</th>\n",
              "      <td>5.00</td>\n",
              "      <td>0.00</td>\n",
              "      <td>0.86</td>\n",
              "      <td>0.00</td>\n",
              "      <td>0.00</td>\n",
              "      <td>0.00</td>\n",
              "      <td>0.00</td>\n",
              "      <td>13.96</td>\n",
              "      <td>1.50</td>\n",
              "      <td>28.00</td>\n",
              "      <td>...</td>\n",
              "      <td>0.00</td>\n",
              "      <td>0.00</td>\n",
              "      <td>0.00</td>\n",
              "      <td>0.00</td>\n",
              "      <td>0.00</td>\n",
              "      <td>0.00</td>\n",
              "      <td>-2.00</td>\n",
              "      <td>0.00</td>\n",
              "      <td>0.00</td>\n",
              "      <td>0.00</td>\n",
              "    </tr>\n",
              "    <tr>\n",
              "      <th>1045</th>\n",
              "      <td>4.00</td>\n",
              "      <td>0.00</td>\n",
              "      <td>0.71</td>\n",
              "      <td>0.00</td>\n",
              "      <td>0.00</td>\n",
              "      <td>0.00</td>\n",
              "      <td>0.00</td>\n",
              "      <td>12.29</td>\n",
              "      <td>1.01</td>\n",
              "      <td>28.00</td>\n",
              "      <td>...</td>\n",
              "      <td>0.00</td>\n",
              "      <td>0.00</td>\n",
              "      <td>0.00</td>\n",
              "      <td>0.00</td>\n",
              "      <td>0.00</td>\n",
              "      <td>0.00</td>\n",
              "      <td>-1.50</td>\n",
              "      <td>-0.22</td>\n",
              "      <td>0.00</td>\n",
              "      <td>0.00</td>\n",
              "    </tr>\n",
              "  </tbody>\n",
              "</table>\n",
              "<p>1046 rows × 19563 columns</p>\n",
              "</div>"
            ],
            "text/plain": [
              "      channel-0 betti dim-1 max  channel-0 betti dim-1 mean  \\\n",
              "0                         20.00                        0.00   \n",
              "1                         25.00                        0.00   \n",
              "2                         14.00                        0.00   \n",
              "3                         10.00                        0.00   \n",
              "4                          6.00                        0.00   \n",
              "...                         ...                         ...   \n",
              "1041                      13.00                        0.00   \n",
              "1042                       6.00                        0.00   \n",
              "1043                      12.00                        0.00   \n",
              "1044                       5.00                        0.00   \n",
              "1045                       4.00                        0.00   \n",
              "\n",
              "      channel-0 betti dim-1 std  channel-0 betti dim-1 sum  \\\n",
              "0                          3.08                       0.00   \n",
              "1                          3.63                       0.00   \n",
              "2                          2.52                       0.00   \n",
              "3                          1.87                       0.00   \n",
              "4                          1.61                       0.00   \n",
              "...                         ...                        ...   \n",
              "1041                       1.69                       0.00   \n",
              "1042                       0.95                       0.00   \n",
              "1043                       1.85                       0.00   \n",
              "1044                       0.86                       0.00   \n",
              "1045                       0.71                       0.00   \n",
              "\n",
              "      channel-0 betti dim-1 percentile-25  channel-0 betti dim-1 median  \\\n",
              "0                                    0.00                          0.00   \n",
              "1                                    0.00                          0.00   \n",
              "2                                    0.00                          0.00   \n",
              "3                                    0.00                          0.00   \n",
              "4                                    0.00                          0.00   \n",
              "...                                   ...                           ...   \n",
              "1041                                 0.00                          0.00   \n",
              "1042                                 0.00                          0.00   \n",
              "1043                                 0.00                          0.00   \n",
              "1044                                 0.00                          0.00   \n",
              "1045                                 0.00                          0.00   \n",
              "\n",
              "      channel-0 betti dim-1 percentile-75  channel-0 betti dim-1 kurtosis  \\\n",
              "0                                    0.00                           22.65   \n",
              "1                                    0.00                           36.29   \n",
              "2                                    0.00                           21.62   \n",
              "3                                    0.00                           24.06   \n",
              "4                                    0.00                           19.21   \n",
              "...                                   ...                             ...   \n",
              "1041                                 0.00                           34.35   \n",
              "1042                                 0.00                           18.19   \n",
              "1043                                 0.00                           24.86   \n",
              "1044                                 0.00                           13.96   \n",
              "1045                                 0.00                           12.29   \n",
              "\n",
              "      channel-0 betti dim-1 skew  channel-0 betti dim-1 norm-1  ...  \\\n",
              "0                           1.98                         74.00  ...   \n",
              "1                           0.72                         74.00  ...   \n",
              "2                           1.42                         62.00  ...   \n",
              "3                          -0.87                         50.00  ...   \n",
              "4                          -2.15                         44.00  ...   \n",
              "...                          ...                           ...  ...   \n",
              "1041                        3.92                         48.00  ...   \n",
              "1042                        1.89                         30.00  ...   \n",
              "1043                        2.85                         46.00  ...   \n",
              "1044                        1.50                         28.00  ...   \n",
              "1045                        1.01                         28.00  ...   \n",
              "\n",
              "      overall bd2 dim-3 mean  overall bd2 dim-3 std  overall bd2 dim-3 sum  \\\n",
              "0                       0.00                   0.00                   0.00   \n",
              "1                       0.00                   0.00                   0.00   \n",
              "2                       0.00                   0.00                   0.00   \n",
              "3                       0.00                   0.00                   0.00   \n",
              "4                       0.00                   0.00                   0.00   \n",
              "...                      ...                    ...                    ...   \n",
              "1041                    0.00                   0.00                   0.00   \n",
              "1042                    0.00                   0.00                   0.00   \n",
              "1043                    0.00                   0.00                   0.00   \n",
              "1044                    0.00                   0.00                   0.00   \n",
              "1045                    0.00                   0.00                   0.00   \n",
              "\n",
              "      overall bd2 dim-3 percentile-25  overall bd2 dim-3 median  \\\n",
              "0                                0.00                      0.00   \n",
              "1                                0.00                      0.00   \n",
              "2                                0.00                      0.00   \n",
              "3                                0.00                      0.00   \n",
              "4                                0.00                      0.00   \n",
              "...                               ...                       ...   \n",
              "1041                             0.00                      0.00   \n",
              "1042                             0.00                      0.00   \n",
              "1043                             0.00                      0.00   \n",
              "1044                             0.00                      0.00   \n",
              "1045                             0.00                      0.00   \n",
              "\n",
              "      overall bd2 dim-3 percentile-75  overall bd2 dim-3 kurtosis  \\\n",
              "0                                0.00                       -1.50   \n",
              "1                                0.00                       -1.50   \n",
              "2                                0.00                       -1.50   \n",
              "3                                0.00                       -1.50   \n",
              "4                                0.00                        0.00   \n",
              "...                               ...                         ...   \n",
              "1041                             0.00                       -1.51   \n",
              "1042                             0.00                       -1.45   \n",
              "1043                             0.00                        0.00   \n",
              "1044                             0.00                       -2.00   \n",
              "1045                             0.00                       -1.50   \n",
              "\n",
              "      overall bd2 dim-3 skew  overall bd2 dim-3 norm-1  \\\n",
              "0                       0.69                      0.00   \n",
              "1                      -0.50                      0.00   \n",
              "2                       0.36                      0.00   \n",
              "3                      -0.71                      0.00   \n",
              "4                       0.00                      0.00   \n",
              "...                      ...                       ...   \n",
              "1041                    0.04                      0.00   \n",
              "1042                    0.71                      0.00   \n",
              "1043                    0.00                      0.00   \n",
              "1044                    0.00                      0.00   \n",
              "1045                   -0.22                      0.00   \n",
              "\n",
              "      overall bd2 dim-3 norm-2  \n",
              "0                         0.00  \n",
              "1                         0.00  \n",
              "2                         0.00  \n",
              "3                         0.00  \n",
              "4                         0.00  \n",
              "...                        ...  \n",
              "1041                      0.00  \n",
              "1042                      0.00  \n",
              "1043                      0.00  \n",
              "1044                      0.00  \n",
              "1045                      0.00  \n",
              "\n",
              "[1046 rows x 19563 columns]"
            ]
          },
          "execution_count": 23,
          "metadata": {},
          "output_type": "execute_result"
        }
      ],
      "source": [
        "all_features = pandas.concat([ channel_features, dissim_features, overall_features ], axis = 1)\n",
        "all_features.to_feather(f\"{subj}/{exp}/all_features.feather\")\n",
        "all_features"
      ]
    },
    {
      "cell_type": "markdown",
      "metadata": {},
      "source": [
        "#### PCA"
      ]
    },
    {
      "cell_type": "code",
      "execution_count": null,
      "metadata": {},
      "outputs": [
        {
          "name": "stdout",
          "output_type": "stream",
          "text": [
            "Components: 0.5\n",
            "Explained variance: 0.5\n",
            "[0.092, 0.034, 0.024, 0.017, 0.013, 0.013, 0.011, 0.01, 0.009, 0.008, 0.008, 0.008, 0.008, 0.007, 0.007, 0.007, 0.007, 0.007, 0.006, 0.006, 0.006, 0.006, 0.006, 0.006, 0.006, 0.006, 0.005, 0.005, 0.005, 0.005, 0.005, 0.005, 0.005, 0.005, 0.005, 0.005, 0.005, 0.005, 0.004, 0.004, 0.004, 0.004, 0.004, 0.004, 0.004, 0.004, 0.004, 0.004, 0.004, 0.004, 0.004, 0.004, 0.004, 0.004, 0.004, 0.004, 0.004, 0.003, 0.003, 0.003, 0.003, 0.003, 0.003, 0.003, 0.003]\n",
            "(1046, 65)\n"
          ]
        },
        {
          "data": {
            "text/html": [
              "<div>\n",
              "<style scoped>\n",
              "    .dataframe tbody tr th:only-of-type {\n",
              "        vertical-align: middle;\n",
              "    }\n",
              "\n",
              "    .dataframe tbody tr th {\n",
              "        vertical-align: top;\n",
              "    }\n",
              "\n",
              "    .dataframe thead th {\n",
              "        text-align: right;\n",
              "    }\n",
              "</style>\n",
              "<table border=\"1\" class=\"dataframe\">\n",
              "  <thead>\n",
              "    <tr style=\"text-align: right;\">\n",
              "      <th></th>\n",
              "      <th>0</th>\n",
              "      <th>1</th>\n",
              "      <th>2</th>\n",
              "      <th>3</th>\n",
              "      <th>4</th>\n",
              "      <th>5</th>\n",
              "      <th>6</th>\n",
              "      <th>7</th>\n",
              "      <th>8</th>\n",
              "      <th>9</th>\n",
              "      <th>...</th>\n",
              "      <th>55</th>\n",
              "      <th>56</th>\n",
              "      <th>57</th>\n",
              "      <th>58</th>\n",
              "      <th>59</th>\n",
              "      <th>60</th>\n",
              "      <th>61</th>\n",
              "      <th>62</th>\n",
              "      <th>63</th>\n",
              "      <th>64</th>\n",
              "    </tr>\n",
              "  </thead>\n",
              "  <tbody>\n",
              "    <tr>\n",
              "      <th>0</th>\n",
              "      <td>-17.88</td>\n",
              "      <td>-49.66</td>\n",
              "      <td>7.27</td>\n",
              "      <td>-17.67</td>\n",
              "      <td>9.41</td>\n",
              "      <td>-4.28</td>\n",
              "      <td>-15.56</td>\n",
              "      <td>24.09</td>\n",
              "      <td>9.53</td>\n",
              "      <td>0.44</td>\n",
              "      <td>...</td>\n",
              "      <td>7.79</td>\n",
              "      <td>13.99</td>\n",
              "      <td>8.99</td>\n",
              "      <td>-1.94</td>\n",
              "      <td>0.79</td>\n",
              "      <td>-3.58</td>\n",
              "      <td>0.76</td>\n",
              "      <td>13.72</td>\n",
              "      <td>2.02</td>\n",
              "      <td>-0.55</td>\n",
              "    </tr>\n",
              "    <tr>\n",
              "      <th>1</th>\n",
              "      <td>-8.79</td>\n",
              "      <td>-39.22</td>\n",
              "      <td>0.48</td>\n",
              "      <td>-22.23</td>\n",
              "      <td>19.60</td>\n",
              "      <td>-4.17</td>\n",
              "      <td>-19.85</td>\n",
              "      <td>2.00</td>\n",
              "      <td>-0.23</td>\n",
              "      <td>-9.25</td>\n",
              "      <td>...</td>\n",
              "      <td>-1.39</td>\n",
              "      <td>15.94</td>\n",
              "      <td>14.34</td>\n",
              "      <td>0.78</td>\n",
              "      <td>-7.58</td>\n",
              "      <td>-1.31</td>\n",
              "      <td>5.00</td>\n",
              "      <td>11.05</td>\n",
              "      <td>-5.59</td>\n",
              "      <td>-4.98</td>\n",
              "    </tr>\n",
              "    <tr>\n",
              "      <th>2</th>\n",
              "      <td>-8.81</td>\n",
              "      <td>-37.28</td>\n",
              "      <td>6.28</td>\n",
              "      <td>-8.86</td>\n",
              "      <td>15.92</td>\n",
              "      <td>-6.08</td>\n",
              "      <td>-25.88</td>\n",
              "      <td>-0.24</td>\n",
              "      <td>-6.09</td>\n",
              "      <td>-5.61</td>\n",
              "      <td>...</td>\n",
              "      <td>-13.47</td>\n",
              "      <td>13.90</td>\n",
              "      <td>4.09</td>\n",
              "      <td>-1.62</td>\n",
              "      <td>-9.26</td>\n",
              "      <td>-4.35</td>\n",
              "      <td>-8.83</td>\n",
              "      <td>10.33</td>\n",
              "      <td>-11.23</td>\n",
              "      <td>-9.84</td>\n",
              "    </tr>\n",
              "    <tr>\n",
              "      <th>3</th>\n",
              "      <td>9.74</td>\n",
              "      <td>-41.69</td>\n",
              "      <td>2.96</td>\n",
              "      <td>-20.61</td>\n",
              "      <td>0.54</td>\n",
              "      <td>-0.60</td>\n",
              "      <td>-16.66</td>\n",
              "      <td>-4.07</td>\n",
              "      <td>5.91</td>\n",
              "      <td>-2.91</td>\n",
              "      <td>...</td>\n",
              "      <td>-6.37</td>\n",
              "      <td>4.96</td>\n",
              "      <td>0.71</td>\n",
              "      <td>-0.13</td>\n",
              "      <td>3.33</td>\n",
              "      <td>-3.23</td>\n",
              "      <td>-2.62</td>\n",
              "      <td>1.19</td>\n",
              "      <td>-2.87</td>\n",
              "      <td>4.51</td>\n",
              "    </tr>\n",
              "    <tr>\n",
              "      <th>4</th>\n",
              "      <td>-14.23</td>\n",
              "      <td>-43.57</td>\n",
              "      <td>1.45</td>\n",
              "      <td>-18.12</td>\n",
              "      <td>0.42</td>\n",
              "      <td>-7.60</td>\n",
              "      <td>-14.57</td>\n",
              "      <td>-14.26</td>\n",
              "      <td>-13.85</td>\n",
              "      <td>-11.77</td>\n",
              "      <td>...</td>\n",
              "      <td>-7.36</td>\n",
              "      <td>8.29</td>\n",
              "      <td>0.48</td>\n",
              "      <td>-7.41</td>\n",
              "      <td>0.67</td>\n",
              "      <td>-2.83</td>\n",
              "      <td>0.89</td>\n",
              "      <td>-6.66</td>\n",
              "      <td>2.57</td>\n",
              "      <td>-10.49</td>\n",
              "    </tr>\n",
              "    <tr>\n",
              "      <th>...</th>\n",
              "      <td>...</td>\n",
              "      <td>...</td>\n",
              "      <td>...</td>\n",
              "      <td>...</td>\n",
              "      <td>...</td>\n",
              "      <td>...</td>\n",
              "      <td>...</td>\n",
              "      <td>...</td>\n",
              "      <td>...</td>\n",
              "      <td>...</td>\n",
              "      <td>...</td>\n",
              "      <td>...</td>\n",
              "      <td>...</td>\n",
              "      <td>...</td>\n",
              "      <td>...</td>\n",
              "      <td>...</td>\n",
              "      <td>...</td>\n",
              "      <td>...</td>\n",
              "      <td>...</td>\n",
              "      <td>...</td>\n",
              "      <td>...</td>\n",
              "    </tr>\n",
              "    <tr>\n",
              "      <th>1041</th>\n",
              "      <td>53.79</td>\n",
              "      <td>29.07</td>\n",
              "      <td>8.47</td>\n",
              "      <td>12.61</td>\n",
              "      <td>-5.88</td>\n",
              "      <td>-5.44</td>\n",
              "      <td>-3.62</td>\n",
              "      <td>-3.25</td>\n",
              "      <td>8.42</td>\n",
              "      <td>-29.73</td>\n",
              "      <td>...</td>\n",
              "      <td>2.48</td>\n",
              "      <td>-2.00</td>\n",
              "      <td>-16.30</td>\n",
              "      <td>8.87</td>\n",
              "      <td>5.86</td>\n",
              "      <td>-0.29</td>\n",
              "      <td>7.31</td>\n",
              "      <td>-0.87</td>\n",
              "      <td>0.13</td>\n",
              "      <td>-5.28</td>\n",
              "    </tr>\n",
              "    <tr>\n",
              "      <th>1042</th>\n",
              "      <td>77.61</td>\n",
              "      <td>62.68</td>\n",
              "      <td>27.87</td>\n",
              "      <td>5.05</td>\n",
              "      <td>-8.91</td>\n",
              "      <td>40.49</td>\n",
              "      <td>-33.21</td>\n",
              "      <td>-18.80</td>\n",
              "      <td>15.10</td>\n",
              "      <td>24.49</td>\n",
              "      <td>...</td>\n",
              "      <td>-1.31</td>\n",
              "      <td>-1.14</td>\n",
              "      <td>19.99</td>\n",
              "      <td>31.69</td>\n",
              "      <td>-22.08</td>\n",
              "      <td>-18.93</td>\n",
              "      <td>-18.07</td>\n",
              "      <td>-15.16</td>\n",
              "      <td>3.13</td>\n",
              "      <td>-16.08</td>\n",
              "    </tr>\n",
              "    <tr>\n",
              "      <th>1043</th>\n",
              "      <td>2.84</td>\n",
              "      <td>15.46</td>\n",
              "      <td>-11.08</td>\n",
              "      <td>-3.93</td>\n",
              "      <td>-0.17</td>\n",
              "      <td>15.27</td>\n",
              "      <td>-3.11</td>\n",
              "      <td>-2.15</td>\n",
              "      <td>9.08</td>\n",
              "      <td>-2.55</td>\n",
              "      <td>...</td>\n",
              "      <td>-0.67</td>\n",
              "      <td>-5.17</td>\n",
              "      <td>11.86</td>\n",
              "      <td>3.00</td>\n",
              "      <td>-5.57</td>\n",
              "      <td>2.61</td>\n",
              "      <td>-3.04</td>\n",
              "      <td>11.28</td>\n",
              "      <td>-2.62</td>\n",
              "      <td>-0.78</td>\n",
              "    </tr>\n",
              "    <tr>\n",
              "      <th>1044</th>\n",
              "      <td>-34.49</td>\n",
              "      <td>17.45</td>\n",
              "      <td>13.23</td>\n",
              "      <td>-11.91</td>\n",
              "      <td>-26.38</td>\n",
              "      <td>9.78</td>\n",
              "      <td>3.83</td>\n",
              "      <td>-3.98</td>\n",
              "      <td>-1.39</td>\n",
              "      <td>-16.83</td>\n",
              "      <td>...</td>\n",
              "      <td>10.02</td>\n",
              "      <td>-4.87</td>\n",
              "      <td>-3.98</td>\n",
              "      <td>-1.87</td>\n",
              "      <td>3.53</td>\n",
              "      <td>-14.68</td>\n",
              "      <td>-11.52</td>\n",
              "      <td>5.57</td>\n",
              "      <td>-0.04</td>\n",
              "      <td>-3.91</td>\n",
              "    </tr>\n",
              "    <tr>\n",
              "      <th>1045</th>\n",
              "      <td>-1.36</td>\n",
              "      <td>27.37</td>\n",
              "      <td>-21.07</td>\n",
              "      <td>-3.71</td>\n",
              "      <td>-33.23</td>\n",
              "      <td>58.56</td>\n",
              "      <td>-15.83</td>\n",
              "      <td>-21.80</td>\n",
              "      <td>4.41</td>\n",
              "      <td>-0.36</td>\n",
              "      <td>...</td>\n",
              "      <td>10.62</td>\n",
              "      <td>3.53</td>\n",
              "      <td>-1.40</td>\n",
              "      <td>0.61</td>\n",
              "      <td>-1.38</td>\n",
              "      <td>-10.77</td>\n",
              "      <td>8.02</td>\n",
              "      <td>5.49</td>\n",
              "      <td>-7.31</td>\n",
              "      <td>8.27</td>\n",
              "    </tr>\n",
              "  </tbody>\n",
              "</table>\n",
              "<p>1046 rows × 65 columns</p>\n",
              "</div>"
            ],
            "text/plain": [
              "         0      1      2      3      4     5      6      7      8      9   \\\n",
              "0    -17.88 -49.66   7.27 -17.67   9.41 -4.28 -15.56  24.09   9.53   0.44   \n",
              "1     -8.79 -39.22   0.48 -22.23  19.60 -4.17 -19.85   2.00  -0.23  -9.25   \n",
              "2     -8.81 -37.28   6.28  -8.86  15.92 -6.08 -25.88  -0.24  -6.09  -5.61   \n",
              "3      9.74 -41.69   2.96 -20.61   0.54 -0.60 -16.66  -4.07   5.91  -2.91   \n",
              "4    -14.23 -43.57   1.45 -18.12   0.42 -7.60 -14.57 -14.26 -13.85 -11.77   \n",
              "...     ...    ...    ...    ...    ...   ...    ...    ...    ...    ...   \n",
              "1041  53.79  29.07   8.47  12.61  -5.88 -5.44  -3.62  -3.25   8.42 -29.73   \n",
              "1042  77.61  62.68  27.87   5.05  -8.91 40.49 -33.21 -18.80  15.10  24.49   \n",
              "1043   2.84  15.46 -11.08  -3.93  -0.17 15.27  -3.11  -2.15   9.08  -2.55   \n",
              "1044 -34.49  17.45  13.23 -11.91 -26.38  9.78   3.83  -3.98  -1.39 -16.83   \n",
              "1045  -1.36  27.37 -21.07  -3.71 -33.23 58.56 -15.83 -21.80   4.41  -0.36   \n",
              "\n",
              "      ...     55    56     57    58     59     60     61     62     63     64  \n",
              "0     ...   7.79 13.99   8.99 -1.94   0.79  -3.58   0.76  13.72   2.02  -0.55  \n",
              "1     ...  -1.39 15.94  14.34  0.78  -7.58  -1.31   5.00  11.05  -5.59  -4.98  \n",
              "2     ... -13.47 13.90   4.09 -1.62  -9.26  -4.35  -8.83  10.33 -11.23  -9.84  \n",
              "3     ...  -6.37  4.96   0.71 -0.13   3.33  -3.23  -2.62   1.19  -2.87   4.51  \n",
              "4     ...  -7.36  8.29   0.48 -7.41   0.67  -2.83   0.89  -6.66   2.57 -10.49  \n",
              "...   ...    ...   ...    ...   ...    ...    ...    ...    ...    ...    ...  \n",
              "1041  ...   2.48 -2.00 -16.30  8.87   5.86  -0.29   7.31  -0.87   0.13  -5.28  \n",
              "1042  ...  -1.31 -1.14  19.99 31.69 -22.08 -18.93 -18.07 -15.16   3.13 -16.08  \n",
              "1043  ...  -0.67 -5.17  11.86  3.00  -5.57   2.61  -3.04  11.28  -2.62  -0.78  \n",
              "1044  ...  10.02 -4.87  -3.98 -1.87   3.53 -14.68 -11.52   5.57  -0.04  -3.91  \n",
              "1045  ...  10.62  3.53  -1.40  0.61  -1.38 -10.77   8.02   5.49  -7.31   8.27  \n",
              "\n",
              "[1046 rows x 65 columns]"
            ]
          },
          "execution_count": 24,
          "metadata": {},
          "output_type": "execute_result"
        }
      ],
      "source": [
        "features_pca = FeatureCalculator().pca(all_features, scale = True, n_comp = 0.5)\n",
        "print(features_pca.shape)\n",
        "pandas.DataFrame(features_pca)"
      ]
    },
    {
      "cell_type": "markdown",
      "metadata": {},
      "source": [
        "#### Save"
      ]
    },
    {
      "cell_type": "code",
      "execution_count": null,
      "metadata": {},
      "outputs": [
        {
          "data": {
            "text/html": [
              "<div>\n",
              "<style scoped>\n",
              "    .dataframe tbody tr th:only-of-type {\n",
              "        vertical-align: middle;\n",
              "    }\n",
              "\n",
              "    .dataframe tbody tr th {\n",
              "        vertical-align: top;\n",
              "    }\n",
              "\n",
              "    .dataframe thead th {\n",
              "        text-align: right;\n",
              "    }\n",
              "</style>\n",
              "<table border=\"1\" class=\"dataframe\">\n",
              "  <thead>\n",
              "    <tr style=\"text-align: right;\">\n",
              "      <th></th>\n",
              "      <th>0</th>\n",
              "      <th>1</th>\n",
              "      <th>2</th>\n",
              "      <th>3</th>\n",
              "      <th>4</th>\n",
              "      <th>5</th>\n",
              "      <th>6</th>\n",
              "      <th>7</th>\n",
              "      <th>8</th>\n",
              "      <th>9</th>\n",
              "      <th>...</th>\n",
              "      <th>55</th>\n",
              "      <th>56</th>\n",
              "      <th>57</th>\n",
              "      <th>58</th>\n",
              "      <th>59</th>\n",
              "      <th>60</th>\n",
              "      <th>61</th>\n",
              "      <th>62</th>\n",
              "      <th>63</th>\n",
              "      <th>64</th>\n",
              "    </tr>\n",
              "  </thead>\n",
              "  <tbody>\n",
              "    <tr>\n",
              "      <th>0</th>\n",
              "      <td>-17.88</td>\n",
              "      <td>-49.66</td>\n",
              "      <td>7.27</td>\n",
              "      <td>-17.67</td>\n",
              "      <td>9.41</td>\n",
              "      <td>-4.28</td>\n",
              "      <td>-15.56</td>\n",
              "      <td>24.09</td>\n",
              "      <td>9.53</td>\n",
              "      <td>0.44</td>\n",
              "      <td>...</td>\n",
              "      <td>7.79</td>\n",
              "      <td>13.99</td>\n",
              "      <td>8.99</td>\n",
              "      <td>-1.94</td>\n",
              "      <td>0.79</td>\n",
              "      <td>-3.58</td>\n",
              "      <td>0.76</td>\n",
              "      <td>13.72</td>\n",
              "      <td>2.02</td>\n",
              "      <td>-0.55</td>\n",
              "    </tr>\n",
              "    <tr>\n",
              "      <th>1</th>\n",
              "      <td>-8.79</td>\n",
              "      <td>-39.22</td>\n",
              "      <td>0.48</td>\n",
              "      <td>-22.23</td>\n",
              "      <td>19.60</td>\n",
              "      <td>-4.17</td>\n",
              "      <td>-19.85</td>\n",
              "      <td>2.00</td>\n",
              "      <td>-0.23</td>\n",
              "      <td>-9.25</td>\n",
              "      <td>...</td>\n",
              "      <td>-1.39</td>\n",
              "      <td>15.94</td>\n",
              "      <td>14.34</td>\n",
              "      <td>0.78</td>\n",
              "      <td>-7.58</td>\n",
              "      <td>-1.31</td>\n",
              "      <td>5.00</td>\n",
              "      <td>11.05</td>\n",
              "      <td>-5.59</td>\n",
              "      <td>-4.98</td>\n",
              "    </tr>\n",
              "    <tr>\n",
              "      <th>2</th>\n",
              "      <td>-8.81</td>\n",
              "      <td>-37.28</td>\n",
              "      <td>6.28</td>\n",
              "      <td>-8.86</td>\n",
              "      <td>15.92</td>\n",
              "      <td>-6.08</td>\n",
              "      <td>-25.88</td>\n",
              "      <td>-0.24</td>\n",
              "      <td>-6.09</td>\n",
              "      <td>-5.61</td>\n",
              "      <td>...</td>\n",
              "      <td>-13.47</td>\n",
              "      <td>13.90</td>\n",
              "      <td>4.09</td>\n",
              "      <td>-1.62</td>\n",
              "      <td>-9.26</td>\n",
              "      <td>-4.35</td>\n",
              "      <td>-8.83</td>\n",
              "      <td>10.33</td>\n",
              "      <td>-11.23</td>\n",
              "      <td>-9.84</td>\n",
              "    </tr>\n",
              "    <tr>\n",
              "      <th>3</th>\n",
              "      <td>9.74</td>\n",
              "      <td>-41.69</td>\n",
              "      <td>2.96</td>\n",
              "      <td>-20.61</td>\n",
              "      <td>0.54</td>\n",
              "      <td>-0.60</td>\n",
              "      <td>-16.66</td>\n",
              "      <td>-4.07</td>\n",
              "      <td>5.91</td>\n",
              "      <td>-2.91</td>\n",
              "      <td>...</td>\n",
              "      <td>-6.37</td>\n",
              "      <td>4.96</td>\n",
              "      <td>0.71</td>\n",
              "      <td>-0.13</td>\n",
              "      <td>3.33</td>\n",
              "      <td>-3.23</td>\n",
              "      <td>-2.62</td>\n",
              "      <td>1.19</td>\n",
              "      <td>-2.87</td>\n",
              "      <td>4.51</td>\n",
              "    </tr>\n",
              "    <tr>\n",
              "      <th>4</th>\n",
              "      <td>-14.23</td>\n",
              "      <td>-43.57</td>\n",
              "      <td>1.45</td>\n",
              "      <td>-18.12</td>\n",
              "      <td>0.42</td>\n",
              "      <td>-7.60</td>\n",
              "      <td>-14.57</td>\n",
              "      <td>-14.26</td>\n",
              "      <td>-13.85</td>\n",
              "      <td>-11.77</td>\n",
              "      <td>...</td>\n",
              "      <td>-7.36</td>\n",
              "      <td>8.29</td>\n",
              "      <td>0.48</td>\n",
              "      <td>-7.41</td>\n",
              "      <td>0.67</td>\n",
              "      <td>-2.83</td>\n",
              "      <td>0.89</td>\n",
              "      <td>-6.66</td>\n",
              "      <td>2.57</td>\n",
              "      <td>-10.49</td>\n",
              "    </tr>\n",
              "    <tr>\n",
              "      <th>...</th>\n",
              "      <td>...</td>\n",
              "      <td>...</td>\n",
              "      <td>...</td>\n",
              "      <td>...</td>\n",
              "      <td>...</td>\n",
              "      <td>...</td>\n",
              "      <td>...</td>\n",
              "      <td>...</td>\n",
              "      <td>...</td>\n",
              "      <td>...</td>\n",
              "      <td>...</td>\n",
              "      <td>...</td>\n",
              "      <td>...</td>\n",
              "      <td>...</td>\n",
              "      <td>...</td>\n",
              "      <td>...</td>\n",
              "      <td>...</td>\n",
              "      <td>...</td>\n",
              "      <td>...</td>\n",
              "      <td>...</td>\n",
              "      <td>...</td>\n",
              "    </tr>\n",
              "    <tr>\n",
              "      <th>1041</th>\n",
              "      <td>53.79</td>\n",
              "      <td>29.07</td>\n",
              "      <td>8.47</td>\n",
              "      <td>12.61</td>\n",
              "      <td>-5.88</td>\n",
              "      <td>-5.44</td>\n",
              "      <td>-3.62</td>\n",
              "      <td>-3.25</td>\n",
              "      <td>8.42</td>\n",
              "      <td>-29.73</td>\n",
              "      <td>...</td>\n",
              "      <td>2.48</td>\n",
              "      <td>-2.00</td>\n",
              "      <td>-16.30</td>\n",
              "      <td>8.87</td>\n",
              "      <td>5.86</td>\n",
              "      <td>-0.29</td>\n",
              "      <td>7.31</td>\n",
              "      <td>-0.87</td>\n",
              "      <td>0.13</td>\n",
              "      <td>-5.28</td>\n",
              "    </tr>\n",
              "    <tr>\n",
              "      <th>1042</th>\n",
              "      <td>77.61</td>\n",
              "      <td>62.68</td>\n",
              "      <td>27.87</td>\n",
              "      <td>5.05</td>\n",
              "      <td>-8.91</td>\n",
              "      <td>40.49</td>\n",
              "      <td>-33.21</td>\n",
              "      <td>-18.80</td>\n",
              "      <td>15.10</td>\n",
              "      <td>24.49</td>\n",
              "      <td>...</td>\n",
              "      <td>-1.31</td>\n",
              "      <td>-1.14</td>\n",
              "      <td>19.99</td>\n",
              "      <td>31.69</td>\n",
              "      <td>-22.08</td>\n",
              "      <td>-18.93</td>\n",
              "      <td>-18.07</td>\n",
              "      <td>-15.16</td>\n",
              "      <td>3.13</td>\n",
              "      <td>-16.08</td>\n",
              "    </tr>\n",
              "    <tr>\n",
              "      <th>1043</th>\n",
              "      <td>2.84</td>\n",
              "      <td>15.46</td>\n",
              "      <td>-11.08</td>\n",
              "      <td>-3.93</td>\n",
              "      <td>-0.17</td>\n",
              "      <td>15.27</td>\n",
              "      <td>-3.11</td>\n",
              "      <td>-2.15</td>\n",
              "      <td>9.08</td>\n",
              "      <td>-2.55</td>\n",
              "      <td>...</td>\n",
              "      <td>-0.67</td>\n",
              "      <td>-5.17</td>\n",
              "      <td>11.86</td>\n",
              "      <td>3.00</td>\n",
              "      <td>-5.57</td>\n",
              "      <td>2.61</td>\n",
              "      <td>-3.04</td>\n",
              "      <td>11.28</td>\n",
              "      <td>-2.62</td>\n",
              "      <td>-0.78</td>\n",
              "    </tr>\n",
              "    <tr>\n",
              "      <th>1044</th>\n",
              "      <td>-34.49</td>\n",
              "      <td>17.45</td>\n",
              "      <td>13.23</td>\n",
              "      <td>-11.91</td>\n",
              "      <td>-26.38</td>\n",
              "      <td>9.78</td>\n",
              "      <td>3.83</td>\n",
              "      <td>-3.98</td>\n",
              "      <td>-1.39</td>\n",
              "      <td>-16.83</td>\n",
              "      <td>...</td>\n",
              "      <td>10.02</td>\n",
              "      <td>-4.87</td>\n",
              "      <td>-3.98</td>\n",
              "      <td>-1.87</td>\n",
              "      <td>3.53</td>\n",
              "      <td>-14.68</td>\n",
              "      <td>-11.52</td>\n",
              "      <td>5.57</td>\n",
              "      <td>-0.04</td>\n",
              "      <td>-3.91</td>\n",
              "    </tr>\n",
              "    <tr>\n",
              "      <th>1045</th>\n",
              "      <td>-1.36</td>\n",
              "      <td>27.37</td>\n",
              "      <td>-21.07</td>\n",
              "      <td>-3.71</td>\n",
              "      <td>-33.23</td>\n",
              "      <td>58.56</td>\n",
              "      <td>-15.83</td>\n",
              "      <td>-21.80</td>\n",
              "      <td>4.41</td>\n",
              "      <td>-0.36</td>\n",
              "      <td>...</td>\n",
              "      <td>10.62</td>\n",
              "      <td>3.53</td>\n",
              "      <td>-1.40</td>\n",
              "      <td>0.61</td>\n",
              "      <td>-1.38</td>\n",
              "      <td>-10.77</td>\n",
              "      <td>8.02</td>\n",
              "      <td>5.49</td>\n",
              "      <td>-7.31</td>\n",
              "      <td>8.27</td>\n",
              "    </tr>\n",
              "  </tbody>\n",
              "</table>\n",
              "<p>1046 rows × 65 columns</p>\n",
              "</div>"
            ],
            "text/plain": [
              "         0      1      2      3      4     5      6      7      8      9   \\\n",
              "0    -17.88 -49.66   7.27 -17.67   9.41 -4.28 -15.56  24.09   9.53   0.44   \n",
              "1     -8.79 -39.22   0.48 -22.23  19.60 -4.17 -19.85   2.00  -0.23  -9.25   \n",
              "2     -8.81 -37.28   6.28  -8.86  15.92 -6.08 -25.88  -0.24  -6.09  -5.61   \n",
              "3      9.74 -41.69   2.96 -20.61   0.54 -0.60 -16.66  -4.07   5.91  -2.91   \n",
              "4    -14.23 -43.57   1.45 -18.12   0.42 -7.60 -14.57 -14.26 -13.85 -11.77   \n",
              "...     ...    ...    ...    ...    ...   ...    ...    ...    ...    ...   \n",
              "1041  53.79  29.07   8.47  12.61  -5.88 -5.44  -3.62  -3.25   8.42 -29.73   \n",
              "1042  77.61  62.68  27.87   5.05  -8.91 40.49 -33.21 -18.80  15.10  24.49   \n",
              "1043   2.84  15.46 -11.08  -3.93  -0.17 15.27  -3.11  -2.15   9.08  -2.55   \n",
              "1044 -34.49  17.45  13.23 -11.91 -26.38  9.78   3.83  -3.98  -1.39 -16.83   \n",
              "1045  -1.36  27.37 -21.07  -3.71 -33.23 58.56 -15.83 -21.80   4.41  -0.36   \n",
              "\n",
              "      ...     55    56     57    58     59     60     61     62     63     64  \n",
              "0     ...   7.79 13.99   8.99 -1.94   0.79  -3.58   0.76  13.72   2.02  -0.55  \n",
              "1     ...  -1.39 15.94  14.34  0.78  -7.58  -1.31   5.00  11.05  -5.59  -4.98  \n",
              "2     ... -13.47 13.90   4.09 -1.62  -9.26  -4.35  -8.83  10.33 -11.23  -9.84  \n",
              "3     ...  -6.37  4.96   0.71 -0.13   3.33  -3.23  -2.62   1.19  -2.87   4.51  \n",
              "4     ...  -7.36  8.29   0.48 -7.41   0.67  -2.83   0.89  -6.66   2.57 -10.49  \n",
              "...   ...    ...   ...    ...   ...    ...    ...    ...    ...    ...    ...  \n",
              "1041  ...   2.48 -2.00 -16.30  8.87   5.86  -0.29   7.31  -0.87   0.13  -5.28  \n",
              "1042  ...  -1.31 -1.14  19.99 31.69 -22.08 -18.93 -18.07 -15.16   3.13 -16.08  \n",
              "1043  ...  -0.67 -5.17  11.86  3.00  -5.57   2.61  -3.04  11.28  -2.62  -0.78  \n",
              "1044  ...  10.02 -4.87  -3.98 -1.87   3.53 -14.68 -11.52   5.57  -0.04  -3.91  \n",
              "1045  ...  10.62  3.53  -1.40  0.61  -1.38 -10.77   8.02   5.49  -7.31   8.27  \n",
              "\n",
              "[1046 rows x 65 columns]"
            ]
          },
          "execution_count": 25,
          "metadata": {},
          "output_type": "execute_result"
        }
      ],
      "source": [
        "final_features = pandas.DataFrame(features_pca)\n",
        "final_features.to_feather(f\"{subj}/{exp}/features.feather\")\n",
        "final_features"
      ]
    }
  ],
  "metadata": {
    "colab": {
      "provenance": []
    },
    "kernelspec": {
      "display_name": "Python 3",
      "name": "python3"
    },
    "language_info": {
      "codemirror_mode": {
        "name": "ipython",
        "version": 3
      },
      "file_extension": ".py",
      "mimetype": "text/x-python",
      "name": "python",
      "nbconvert_exporter": "python",
      "pygments_lexer": "ipython3",
      "version": "3.10.11"
    }
  },
  "nbformat": 4,
  "nbformat_minor": 0
}
