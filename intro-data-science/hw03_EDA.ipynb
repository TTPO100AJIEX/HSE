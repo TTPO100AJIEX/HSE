{
  "cells": [
    {
      "cell_type": "markdown",
      "metadata": {
        "id": "O6_OCTFzu8lE"
      },
      "source": [
        "## Домашнее задание 3 (10 баллов)"
      ]
    },
    {
      "cell_type": "markdown",
      "metadata": {
        "id": "rIc6VNYLu8lK"
      },
      "source": [
        "### О задании"
      ]
    },
    {
      "cell_type": "markdown",
      "metadata": {
        "id": "xRsXxtgNu8lM"
      },
      "source": [
        "В этом домашнем задании вы получите опыт подготовки данных и EDA (Exploratory Data Analysis), приблизившись к реальной работе с данными с помощью уже знакомых вам инструментов: numpy, pandas, matplotlib и seaborn."
      ]
    },
    {
      "cell_type": "markdown",
      "metadata": {
        "id": "01c_ZXgNu8ld"
      },
      "source": [
        "Вы будет работать с задачей кредитного скоринга (оценка надёжности клиента). Предоставляются данные о 1000 клиентов, про которых известно около 20 признаков и положительная или отрицательная оценка в качестве кредитуемого. Эти данные нужно будет подготовить, исследовать (в том числе с помощью средств визуализации) и даже попробовать предложить какую-нибудь формулу для условной оценки надёжности клиентов исходя из предоставленных данных. Описание данных:\n",
        "https://www.rdocumentation.org/packages/evtree/versions/1.0-8/topics/GermanCredit\n",
        "\n",
        "Каждый построенный график необходимо красиво оформить - для этого требуется как минимум указать его название, а также отметить, что изображено по каждой из осей.\n",
        "Также по каждому графику ожидается небольшой комментарий с выводами.\n",
        "\n",
        "*Функции, которые могут пригодиться при оформлении графиков: `.show()`, `.title()`, `.xlabel()`, `.ylabel()`*"
      ]
    },
    {
      "cell_type": "code",
      "execution_count": null,
      "metadata": {
        "id": "kbKMD992u8ld"
      },
      "outputs": [],
      "source": [
        "import pandas as pd"
      ]
    },
    {
      "cell_type": "markdown",
      "metadata": {
        "id": "PoKE3PySu8ld"
      },
      "source": [
        "### Задание 1 (0.0 балла)"
      ]
    },
    {
      "cell_type": "markdown",
      "metadata": {
        "id": "sMh8vvlNu8ld"
      },
      "source": [
        "Прочитайте средствами pandas файл с данными по ссылке https://raw.githubusercontent.com/hse-ds/iad-intro-ds/master/2022/homeworks/hw03-EDA/german_credit.csv. Выведите базовое представление таблицы (первые 5 и последние 5 строк, размер)."
      ]
    },
    {
      "cell_type": "code",
      "execution_count": null,
      "metadata": {
        "id": "cRtVjoMlu8le",
        "colab": {
          "base_uri": "https://localhost:8080/",
          "height": 887
        },
        "outputId": "b45b19a5-c32a-43f7-d033-bbfe8072adaf"
      },
      "outputs": [
        {
          "output_type": "execute_result",
          "data": {
            "text/plain": [
              "                                         status  duration  \\\n",
              "0                           no checking account        18   \n",
              "1                           no checking account         9   \n",
              "2                                    ... < 0 DM        12   \n",
              "3                           no checking account        12   \n",
              "4                           no checking account        12   \n",
              "..                                          ...       ...   \n",
              "995                         no checking account        24   \n",
              "996                         no checking account        24   \n",
              "997  ... >= 200 DM / salary for at least 1 year        21   \n",
              "998                                  ... < 0 DM        12   \n",
              "999                         no checking account        30   \n",
              "\n",
              "                                  credit_history              purpose  amount  \\\n",
              "0        all credits at this bank paid back duly           car (used)    1049   \n",
              "1        all credits at this bank paid back duly               others    2799   \n",
              "2    no credits taken/all credits paid back duly           retraining     841   \n",
              "3        all credits at this bank paid back duly               others    2122   \n",
              "4        all credits at this bank paid back duly               others    2171   \n",
              "..                                           ...                  ...     ...   \n",
              "995  no credits taken/all credits paid back duly  furniture/equipment    1987   \n",
              "996  no credits taken/all credits paid back duly               others    2303   \n",
              "997      all credits at this bank paid back duly               others   12680   \n",
              "998  no credits taken/all credits paid back duly  furniture/equipment    6468   \n",
              "999  no credits taken/all credits paid back duly           car (used)    6350   \n",
              "\n",
              "                        savings employment_duration installment_rate  \\\n",
              "0    unknown/no savings account              < 1 yr             < 20   \n",
              "1    unknown/no savings account    1 <= ... < 4 yrs   25 <= ... < 35   \n",
              "2                 ... <  100 DM    4 <= ... < 7 yrs   25 <= ... < 35   \n",
              "3    unknown/no savings account    1 <= ... < 4 yrs   20 <= ... < 25   \n",
              "4    unknown/no savings account    1 <= ... < 4 yrs             < 20   \n",
              "..                          ...                 ...              ...   \n",
              "995  unknown/no savings account    1 <= ... < 4 yrs   25 <= ... < 35   \n",
              "996  unknown/no savings account            >= 7 yrs             < 20   \n",
              "997              ... >= 1000 DM            >= 7 yrs             < 20   \n",
              "998              ... >= 1000 DM          unemployed   25 <= ... < 35   \n",
              "999              ... >= 1000 DM            >= 7 yrs             < 20   \n",
              "\n",
              "                      personal_status_sex other_debtors  ...  \\\n",
              "0    female : non-single or male : single          none  ...   \n",
              "1                  male : married/widowed          none  ...   \n",
              "2    female : non-single or male : single          none  ...   \n",
              "3                  male : married/widowed          none  ...   \n",
              "4                  male : married/widowed          none  ...   \n",
              "..                                    ...           ...  ...   \n",
              "995                male : married/widowed          none  ...   \n",
              "996                male : married/widowed  co-applicant  ...   \n",
              "997                male : married/widowed          none  ...   \n",
              "998                male : married/widowed          none  ...   \n",
              "999                male : married/widowed          none  ...   \n",
              "\n",
              "                  property age  other_installment_plans   housing  \\\n",
              "0             car or other  21                     none  for free   \n",
              "1    unknown / no property  36                     none  for free   \n",
              "2    unknown / no property  23                     none  for free   \n",
              "3    unknown / no property  39                     none  for free   \n",
              "4             car or other  38                     bank      rent   \n",
              "..                     ...  ..                      ...       ...   \n",
              "995  unknown / no property  21                     none  for free   \n",
              "996  unknown / no property  45                     none      rent   \n",
              "997            real estate  30                     none       own   \n",
              "998            real estate  52                     none      rent   \n",
              "999           car or other  31                     none      rent   \n",
              "\n",
              "    number_credits                                         job people_liable  \\\n",
              "0                1                   skilled employee/official        0 to 2   \n",
              "1              2-3                   skilled employee/official     3 or more   \n",
              "2                1                        unskilled - resident        0 to 2   \n",
              "3              2-3                        unskilled - resident     3 or more   \n",
              "4              2-3                        unskilled - resident        0 to 2   \n",
              "..             ...                                         ...           ...   \n",
              "995              1                        unskilled - resident     3 or more   \n",
              "996              1                   skilled employee/official        0 to 2   \n",
              "997              1  manager/self-empl./highly qualif. employee        0 to 2   \n",
              "998              1  manager/self-empl./highly qualif. employee        0 to 2   \n",
              "999              1                   skilled employee/official        0 to 2   \n",
              "\n",
              "                     telephone foreign_worker credit_risk  \n",
              "0                           no             no        good  \n",
              "1                           no             no        good  \n",
              "2                           no             no        good  \n",
              "3                           no            yes        good  \n",
              "4                           no            yes        good  \n",
              "..                         ...            ...         ...  \n",
              "995                         no             no         bad  \n",
              "996                         no             no         bad  \n",
              "997  yes (under customer name)             no         bad  \n",
              "998  yes (under customer name)             no         bad  \n",
              "999                         no             no         bad  \n",
              "\n",
              "[1000 rows x 21 columns]"
            ],
            "text/html": [
              "\n",
              "  <div id=\"df-b23cbcec-2053-41a8-bcf6-ac74e58c0f24\">\n",
              "    <div class=\"colab-df-container\">\n",
              "      <div>\n",
              "<style scoped>\n",
              "    .dataframe tbody tr th:only-of-type {\n",
              "        vertical-align: middle;\n",
              "    }\n",
              "\n",
              "    .dataframe tbody tr th {\n",
              "        vertical-align: top;\n",
              "    }\n",
              "\n",
              "    .dataframe thead th {\n",
              "        text-align: right;\n",
              "    }\n",
              "</style>\n",
              "<table border=\"1\" class=\"dataframe\">\n",
              "  <thead>\n",
              "    <tr style=\"text-align: right;\">\n",
              "      <th></th>\n",
              "      <th>status</th>\n",
              "      <th>duration</th>\n",
              "      <th>credit_history</th>\n",
              "      <th>purpose</th>\n",
              "      <th>amount</th>\n",
              "      <th>savings</th>\n",
              "      <th>employment_duration</th>\n",
              "      <th>installment_rate</th>\n",
              "      <th>personal_status_sex</th>\n",
              "      <th>other_debtors</th>\n",
              "      <th>...</th>\n",
              "      <th>property</th>\n",
              "      <th>age</th>\n",
              "      <th>other_installment_plans</th>\n",
              "      <th>housing</th>\n",
              "      <th>number_credits</th>\n",
              "      <th>job</th>\n",
              "      <th>people_liable</th>\n",
              "      <th>telephone</th>\n",
              "      <th>foreign_worker</th>\n",
              "      <th>credit_risk</th>\n",
              "    </tr>\n",
              "  </thead>\n",
              "  <tbody>\n",
              "    <tr>\n",
              "      <th>0</th>\n",
              "      <td>no checking account</td>\n",
              "      <td>18</td>\n",
              "      <td>all credits at this bank paid back duly</td>\n",
              "      <td>car (used)</td>\n",
              "      <td>1049</td>\n",
              "      <td>unknown/no savings account</td>\n",
              "      <td>&lt; 1 yr</td>\n",
              "      <td>&lt; 20</td>\n",
              "      <td>female : non-single or male : single</td>\n",
              "      <td>none</td>\n",
              "      <td>...</td>\n",
              "      <td>car or other</td>\n",
              "      <td>21</td>\n",
              "      <td>none</td>\n",
              "      <td>for free</td>\n",
              "      <td>1</td>\n",
              "      <td>skilled employee/official</td>\n",
              "      <td>0 to 2</td>\n",
              "      <td>no</td>\n",
              "      <td>no</td>\n",
              "      <td>good</td>\n",
              "    </tr>\n",
              "    <tr>\n",
              "      <th>1</th>\n",
              "      <td>no checking account</td>\n",
              "      <td>9</td>\n",
              "      <td>all credits at this bank paid back duly</td>\n",
              "      <td>others</td>\n",
              "      <td>2799</td>\n",
              "      <td>unknown/no savings account</td>\n",
              "      <td>1 &lt;= ... &lt; 4 yrs</td>\n",
              "      <td>25 &lt;= ... &lt; 35</td>\n",
              "      <td>male : married/widowed</td>\n",
              "      <td>none</td>\n",
              "      <td>...</td>\n",
              "      <td>unknown / no property</td>\n",
              "      <td>36</td>\n",
              "      <td>none</td>\n",
              "      <td>for free</td>\n",
              "      <td>2-3</td>\n",
              "      <td>skilled employee/official</td>\n",
              "      <td>3 or more</td>\n",
              "      <td>no</td>\n",
              "      <td>no</td>\n",
              "      <td>good</td>\n",
              "    </tr>\n",
              "    <tr>\n",
              "      <th>2</th>\n",
              "      <td>... &lt; 0 DM</td>\n",
              "      <td>12</td>\n",
              "      <td>no credits taken/all credits paid back duly</td>\n",
              "      <td>retraining</td>\n",
              "      <td>841</td>\n",
              "      <td>... &lt;  100 DM</td>\n",
              "      <td>4 &lt;= ... &lt; 7 yrs</td>\n",
              "      <td>25 &lt;= ... &lt; 35</td>\n",
              "      <td>female : non-single or male : single</td>\n",
              "      <td>none</td>\n",
              "      <td>...</td>\n",
              "      <td>unknown / no property</td>\n",
              "      <td>23</td>\n",
              "      <td>none</td>\n",
              "      <td>for free</td>\n",
              "      <td>1</td>\n",
              "      <td>unskilled - resident</td>\n",
              "      <td>0 to 2</td>\n",
              "      <td>no</td>\n",
              "      <td>no</td>\n",
              "      <td>good</td>\n",
              "    </tr>\n",
              "    <tr>\n",
              "      <th>3</th>\n",
              "      <td>no checking account</td>\n",
              "      <td>12</td>\n",
              "      <td>all credits at this bank paid back duly</td>\n",
              "      <td>others</td>\n",
              "      <td>2122</td>\n",
              "      <td>unknown/no savings account</td>\n",
              "      <td>1 &lt;= ... &lt; 4 yrs</td>\n",
              "      <td>20 &lt;= ... &lt; 25</td>\n",
              "      <td>male : married/widowed</td>\n",
              "      <td>none</td>\n",
              "      <td>...</td>\n",
              "      <td>unknown / no property</td>\n",
              "      <td>39</td>\n",
              "      <td>none</td>\n",
              "      <td>for free</td>\n",
              "      <td>2-3</td>\n",
              "      <td>unskilled - resident</td>\n",
              "      <td>3 or more</td>\n",
              "      <td>no</td>\n",
              "      <td>yes</td>\n",
              "      <td>good</td>\n",
              "    </tr>\n",
              "    <tr>\n",
              "      <th>4</th>\n",
              "      <td>no checking account</td>\n",
              "      <td>12</td>\n",
              "      <td>all credits at this bank paid back duly</td>\n",
              "      <td>others</td>\n",
              "      <td>2171</td>\n",
              "      <td>unknown/no savings account</td>\n",
              "      <td>1 &lt;= ... &lt; 4 yrs</td>\n",
              "      <td>&lt; 20</td>\n",
              "      <td>male : married/widowed</td>\n",
              "      <td>none</td>\n",
              "      <td>...</td>\n",
              "      <td>car or other</td>\n",
              "      <td>38</td>\n",
              "      <td>bank</td>\n",
              "      <td>rent</td>\n",
              "      <td>2-3</td>\n",
              "      <td>unskilled - resident</td>\n",
              "      <td>0 to 2</td>\n",
              "      <td>no</td>\n",
              "      <td>yes</td>\n",
              "      <td>good</td>\n",
              "    </tr>\n",
              "    <tr>\n",
              "      <th>...</th>\n",
              "      <td>...</td>\n",
              "      <td>...</td>\n",
              "      <td>...</td>\n",
              "      <td>...</td>\n",
              "      <td>...</td>\n",
              "      <td>...</td>\n",
              "      <td>...</td>\n",
              "      <td>...</td>\n",
              "      <td>...</td>\n",
              "      <td>...</td>\n",
              "      <td>...</td>\n",
              "      <td>...</td>\n",
              "      <td>...</td>\n",
              "      <td>...</td>\n",
              "      <td>...</td>\n",
              "      <td>...</td>\n",
              "      <td>...</td>\n",
              "      <td>...</td>\n",
              "      <td>...</td>\n",
              "      <td>...</td>\n",
              "      <td>...</td>\n",
              "    </tr>\n",
              "    <tr>\n",
              "      <th>995</th>\n",
              "      <td>no checking account</td>\n",
              "      <td>24</td>\n",
              "      <td>no credits taken/all credits paid back duly</td>\n",
              "      <td>furniture/equipment</td>\n",
              "      <td>1987</td>\n",
              "      <td>unknown/no savings account</td>\n",
              "      <td>1 &lt;= ... &lt; 4 yrs</td>\n",
              "      <td>25 &lt;= ... &lt; 35</td>\n",
              "      <td>male : married/widowed</td>\n",
              "      <td>none</td>\n",
              "      <td>...</td>\n",
              "      <td>unknown / no property</td>\n",
              "      <td>21</td>\n",
              "      <td>none</td>\n",
              "      <td>for free</td>\n",
              "      <td>1</td>\n",
              "      <td>unskilled - resident</td>\n",
              "      <td>3 or more</td>\n",
              "      <td>no</td>\n",
              "      <td>no</td>\n",
              "      <td>bad</td>\n",
              "    </tr>\n",
              "    <tr>\n",
              "      <th>996</th>\n",
              "      <td>no checking account</td>\n",
              "      <td>24</td>\n",
              "      <td>no credits taken/all credits paid back duly</td>\n",
              "      <td>others</td>\n",
              "      <td>2303</td>\n",
              "      <td>unknown/no savings account</td>\n",
              "      <td>&gt;= 7 yrs</td>\n",
              "      <td>&lt; 20</td>\n",
              "      <td>male : married/widowed</td>\n",
              "      <td>co-applicant</td>\n",
              "      <td>...</td>\n",
              "      <td>unknown / no property</td>\n",
              "      <td>45</td>\n",
              "      <td>none</td>\n",
              "      <td>rent</td>\n",
              "      <td>1</td>\n",
              "      <td>skilled employee/official</td>\n",
              "      <td>0 to 2</td>\n",
              "      <td>no</td>\n",
              "      <td>no</td>\n",
              "      <td>bad</td>\n",
              "    </tr>\n",
              "    <tr>\n",
              "      <th>997</th>\n",
              "      <td>... &gt;= 200 DM / salary for at least 1 year</td>\n",
              "      <td>21</td>\n",
              "      <td>all credits at this bank paid back duly</td>\n",
              "      <td>others</td>\n",
              "      <td>12680</td>\n",
              "      <td>... &gt;= 1000 DM</td>\n",
              "      <td>&gt;= 7 yrs</td>\n",
              "      <td>&lt; 20</td>\n",
              "      <td>male : married/widowed</td>\n",
              "      <td>none</td>\n",
              "      <td>...</td>\n",
              "      <td>real estate</td>\n",
              "      <td>30</td>\n",
              "      <td>none</td>\n",
              "      <td>own</td>\n",
              "      <td>1</td>\n",
              "      <td>manager/self-empl./highly qualif. employee</td>\n",
              "      <td>0 to 2</td>\n",
              "      <td>yes (under customer name)</td>\n",
              "      <td>no</td>\n",
              "      <td>bad</td>\n",
              "    </tr>\n",
              "    <tr>\n",
              "      <th>998</th>\n",
              "      <td>... &lt; 0 DM</td>\n",
              "      <td>12</td>\n",
              "      <td>no credits taken/all credits paid back duly</td>\n",
              "      <td>furniture/equipment</td>\n",
              "      <td>6468</td>\n",
              "      <td>... &gt;= 1000 DM</td>\n",
              "      <td>unemployed</td>\n",
              "      <td>25 &lt;= ... &lt; 35</td>\n",
              "      <td>male : married/widowed</td>\n",
              "      <td>none</td>\n",
              "      <td>...</td>\n",
              "      <td>real estate</td>\n",
              "      <td>52</td>\n",
              "      <td>none</td>\n",
              "      <td>rent</td>\n",
              "      <td>1</td>\n",
              "      <td>manager/self-empl./highly qualif. employee</td>\n",
              "      <td>0 to 2</td>\n",
              "      <td>yes (under customer name)</td>\n",
              "      <td>no</td>\n",
              "      <td>bad</td>\n",
              "    </tr>\n",
              "    <tr>\n",
              "      <th>999</th>\n",
              "      <td>no checking account</td>\n",
              "      <td>30</td>\n",
              "      <td>no credits taken/all credits paid back duly</td>\n",
              "      <td>car (used)</td>\n",
              "      <td>6350</td>\n",
              "      <td>... &gt;= 1000 DM</td>\n",
              "      <td>&gt;= 7 yrs</td>\n",
              "      <td>&lt; 20</td>\n",
              "      <td>male : married/widowed</td>\n",
              "      <td>none</td>\n",
              "      <td>...</td>\n",
              "      <td>car or other</td>\n",
              "      <td>31</td>\n",
              "      <td>none</td>\n",
              "      <td>rent</td>\n",
              "      <td>1</td>\n",
              "      <td>skilled employee/official</td>\n",
              "      <td>0 to 2</td>\n",
              "      <td>no</td>\n",
              "      <td>no</td>\n",
              "      <td>bad</td>\n",
              "    </tr>\n",
              "  </tbody>\n",
              "</table>\n",
              "<p>1000 rows × 21 columns</p>\n",
              "</div>\n",
              "      <button class=\"colab-df-convert\" onclick=\"convertToInteractive('df-b23cbcec-2053-41a8-bcf6-ac74e58c0f24')\"\n",
              "              title=\"Convert this dataframe to an interactive table.\"\n",
              "              style=\"display:none;\">\n",
              "        \n",
              "  <svg xmlns=\"http://www.w3.org/2000/svg\" height=\"24px\"viewBox=\"0 0 24 24\"\n",
              "       width=\"24px\">\n",
              "    <path d=\"M0 0h24v24H0V0z\" fill=\"none\"/>\n",
              "    <path d=\"M18.56 5.44l.94 2.06.94-2.06 2.06-.94-2.06-.94-.94-2.06-.94 2.06-2.06.94zm-11 1L8.5 8.5l.94-2.06 2.06-.94-2.06-.94L8.5 2.5l-.94 2.06-2.06.94zm10 10l.94 2.06.94-2.06 2.06-.94-2.06-.94-.94-2.06-.94 2.06-2.06.94z\"/><path d=\"M17.41 7.96l-1.37-1.37c-.4-.4-.92-.59-1.43-.59-.52 0-1.04.2-1.43.59L10.3 9.45l-7.72 7.72c-.78.78-.78 2.05 0 2.83L4 21.41c.39.39.9.59 1.41.59.51 0 1.02-.2 1.41-.59l7.78-7.78 2.81-2.81c.8-.78.8-2.07 0-2.86zM5.41 20L4 18.59l7.72-7.72 1.47 1.35L5.41 20z\"/>\n",
              "  </svg>\n",
              "      </button>\n",
              "      \n",
              "  <style>\n",
              "    .colab-df-container {\n",
              "      display:flex;\n",
              "      flex-wrap:wrap;\n",
              "      gap: 12px;\n",
              "    }\n",
              "\n",
              "    .colab-df-convert {\n",
              "      background-color: #E8F0FE;\n",
              "      border: none;\n",
              "      border-radius: 50%;\n",
              "      cursor: pointer;\n",
              "      display: none;\n",
              "      fill: #1967D2;\n",
              "      height: 32px;\n",
              "      padding: 0 0 0 0;\n",
              "      width: 32px;\n",
              "    }\n",
              "\n",
              "    .colab-df-convert:hover {\n",
              "      background-color: #E2EBFA;\n",
              "      box-shadow: 0px 1px 2px rgba(60, 64, 67, 0.3), 0px 1px 3px 1px rgba(60, 64, 67, 0.15);\n",
              "      fill: #174EA6;\n",
              "    }\n",
              "\n",
              "    [theme=dark] .colab-df-convert {\n",
              "      background-color: #3B4455;\n",
              "      fill: #D2E3FC;\n",
              "    }\n",
              "\n",
              "    [theme=dark] .colab-df-convert:hover {\n",
              "      background-color: #434B5C;\n",
              "      box-shadow: 0px 1px 3px 1px rgba(0, 0, 0, 0.15);\n",
              "      filter: drop-shadow(0px 1px 2px rgba(0, 0, 0, 0.3));\n",
              "      fill: #FFFFFF;\n",
              "    }\n",
              "  </style>\n",
              "\n",
              "      <script>\n",
              "        const buttonEl =\n",
              "          document.querySelector('#df-b23cbcec-2053-41a8-bcf6-ac74e58c0f24 button.colab-df-convert');\n",
              "        buttonEl.style.display =\n",
              "          google.colab.kernel.accessAllowed ? 'block' : 'none';\n",
              "\n",
              "        async function convertToInteractive(key) {\n",
              "          const element = document.querySelector('#df-b23cbcec-2053-41a8-bcf6-ac74e58c0f24');\n",
              "          const dataTable =\n",
              "            await google.colab.kernel.invokeFunction('convertToInteractive',\n",
              "                                                     [key], {});\n",
              "          if (!dataTable) return;\n",
              "\n",
              "          const docLinkHtml = 'Like what you see? Visit the ' +\n",
              "            '<a target=\"_blank\" href=https://colab.research.google.com/notebooks/data_table.ipynb>data table notebook</a>'\n",
              "            + ' to learn more about interactive tables.';\n",
              "          element.innerHTML = '';\n",
              "          dataTable['output_type'] = 'display_data';\n",
              "          await google.colab.output.renderOutput(dataTable, element);\n",
              "          const docLink = document.createElement('div');\n",
              "          docLink.innerHTML = docLinkHtml;\n",
              "          element.appendChild(docLink);\n",
              "        }\n",
              "      </script>\n",
              "    </div>\n",
              "  </div>\n",
              "  "
            ]
          },
          "metadata": {},
          "execution_count": 2
        }
      ],
      "source": [
        "data = pd.read_csv(\"https://raw.githubusercontent.com/hse-ds/iad-intro-ds/master/2022/homeworks/hw03-EDA/german_credit.csv\")\n",
        "data # apparently, prints the correct result: 5 firt rows, 5 last rows, and size, but no documentation guarantees this behavior"
      ]
    },
    {
      "cell_type": "code",
      "source": [
        "display(pd.concat([ data.head(5), data.tail(5) ]))\n",
        "display(data.shape)"
      ],
      "metadata": {
        "colab": {
          "base_uri": "https://localhost:8080/",
          "height": 873
        },
        "id": "D4HTKT8j11Vb",
        "outputId": "57abc4c8-f1d4-4a26-df64-da86edcf3eea"
      },
      "execution_count": null,
      "outputs": [
        {
          "output_type": "display_data",
          "data": {
            "text/plain": [
              "                                         status  duration  \\\n",
              "0                           no checking account        18   \n",
              "1                           no checking account         9   \n",
              "2                                    ... < 0 DM        12   \n",
              "3                           no checking account        12   \n",
              "4                           no checking account        12   \n",
              "995                         no checking account        24   \n",
              "996                         no checking account        24   \n",
              "997  ... >= 200 DM / salary for at least 1 year        21   \n",
              "998                                  ... < 0 DM        12   \n",
              "999                         no checking account        30   \n",
              "\n",
              "                                  credit_history              purpose  amount  \\\n",
              "0        all credits at this bank paid back duly           car (used)    1049   \n",
              "1        all credits at this bank paid back duly               others    2799   \n",
              "2    no credits taken/all credits paid back duly           retraining     841   \n",
              "3        all credits at this bank paid back duly               others    2122   \n",
              "4        all credits at this bank paid back duly               others    2171   \n",
              "995  no credits taken/all credits paid back duly  furniture/equipment    1987   \n",
              "996  no credits taken/all credits paid back duly               others    2303   \n",
              "997      all credits at this bank paid back duly               others   12680   \n",
              "998  no credits taken/all credits paid back duly  furniture/equipment    6468   \n",
              "999  no credits taken/all credits paid back duly           car (used)    6350   \n",
              "\n",
              "                        savings employment_duration installment_rate  \\\n",
              "0    unknown/no savings account              < 1 yr             < 20   \n",
              "1    unknown/no savings account    1 <= ... < 4 yrs   25 <= ... < 35   \n",
              "2                 ... <  100 DM    4 <= ... < 7 yrs   25 <= ... < 35   \n",
              "3    unknown/no savings account    1 <= ... < 4 yrs   20 <= ... < 25   \n",
              "4    unknown/no savings account    1 <= ... < 4 yrs             < 20   \n",
              "995  unknown/no savings account    1 <= ... < 4 yrs   25 <= ... < 35   \n",
              "996  unknown/no savings account            >= 7 yrs             < 20   \n",
              "997              ... >= 1000 DM            >= 7 yrs             < 20   \n",
              "998              ... >= 1000 DM          unemployed   25 <= ... < 35   \n",
              "999              ... >= 1000 DM            >= 7 yrs             < 20   \n",
              "\n",
              "                      personal_status_sex other_debtors  ...  \\\n",
              "0    female : non-single or male : single          none  ...   \n",
              "1                  male : married/widowed          none  ...   \n",
              "2    female : non-single or male : single          none  ...   \n",
              "3                  male : married/widowed          none  ...   \n",
              "4                  male : married/widowed          none  ...   \n",
              "995                male : married/widowed          none  ...   \n",
              "996                male : married/widowed  co-applicant  ...   \n",
              "997                male : married/widowed          none  ...   \n",
              "998                male : married/widowed          none  ...   \n",
              "999                male : married/widowed          none  ...   \n",
              "\n",
              "                  property age  other_installment_plans   housing  \\\n",
              "0             car or other  21                     none  for free   \n",
              "1    unknown / no property  36                     none  for free   \n",
              "2    unknown / no property  23                     none  for free   \n",
              "3    unknown / no property  39                     none  for free   \n",
              "4             car or other  38                     bank      rent   \n",
              "995  unknown / no property  21                     none  for free   \n",
              "996  unknown / no property  45                     none      rent   \n",
              "997            real estate  30                     none       own   \n",
              "998            real estate  52                     none      rent   \n",
              "999           car or other  31                     none      rent   \n",
              "\n",
              "    number_credits                                         job people_liable  \\\n",
              "0                1                   skilled employee/official        0 to 2   \n",
              "1              2-3                   skilled employee/official     3 or more   \n",
              "2                1                        unskilled - resident        0 to 2   \n",
              "3              2-3                        unskilled - resident     3 or more   \n",
              "4              2-3                        unskilled - resident        0 to 2   \n",
              "995              1                        unskilled - resident     3 or more   \n",
              "996              1                   skilled employee/official        0 to 2   \n",
              "997              1  manager/self-empl./highly qualif. employee        0 to 2   \n",
              "998              1  manager/self-empl./highly qualif. employee        0 to 2   \n",
              "999              1                   skilled employee/official        0 to 2   \n",
              "\n",
              "                     telephone foreign_worker credit_risk  \n",
              "0                           no             no        good  \n",
              "1                           no             no        good  \n",
              "2                           no             no        good  \n",
              "3                           no            yes        good  \n",
              "4                           no            yes        good  \n",
              "995                         no             no         bad  \n",
              "996                         no             no         bad  \n",
              "997  yes (under customer name)             no         bad  \n",
              "998  yes (under customer name)             no         bad  \n",
              "999                         no             no         bad  \n",
              "\n",
              "[10 rows x 21 columns]"
            ],
            "text/html": [
              "\n",
              "  <div id=\"df-2ea05f1d-5711-41b2-8c6e-e5d98a5cd75f\">\n",
              "    <div class=\"colab-df-container\">\n",
              "      <div>\n",
              "<style scoped>\n",
              "    .dataframe tbody tr th:only-of-type {\n",
              "        vertical-align: middle;\n",
              "    }\n",
              "\n",
              "    .dataframe tbody tr th {\n",
              "        vertical-align: top;\n",
              "    }\n",
              "\n",
              "    .dataframe thead th {\n",
              "        text-align: right;\n",
              "    }\n",
              "</style>\n",
              "<table border=\"1\" class=\"dataframe\">\n",
              "  <thead>\n",
              "    <tr style=\"text-align: right;\">\n",
              "      <th></th>\n",
              "      <th>status</th>\n",
              "      <th>duration</th>\n",
              "      <th>credit_history</th>\n",
              "      <th>purpose</th>\n",
              "      <th>amount</th>\n",
              "      <th>savings</th>\n",
              "      <th>employment_duration</th>\n",
              "      <th>installment_rate</th>\n",
              "      <th>personal_status_sex</th>\n",
              "      <th>other_debtors</th>\n",
              "      <th>...</th>\n",
              "      <th>property</th>\n",
              "      <th>age</th>\n",
              "      <th>other_installment_plans</th>\n",
              "      <th>housing</th>\n",
              "      <th>number_credits</th>\n",
              "      <th>job</th>\n",
              "      <th>people_liable</th>\n",
              "      <th>telephone</th>\n",
              "      <th>foreign_worker</th>\n",
              "      <th>credit_risk</th>\n",
              "    </tr>\n",
              "  </thead>\n",
              "  <tbody>\n",
              "    <tr>\n",
              "      <th>0</th>\n",
              "      <td>no checking account</td>\n",
              "      <td>18</td>\n",
              "      <td>all credits at this bank paid back duly</td>\n",
              "      <td>car (used)</td>\n",
              "      <td>1049</td>\n",
              "      <td>unknown/no savings account</td>\n",
              "      <td>&lt; 1 yr</td>\n",
              "      <td>&lt; 20</td>\n",
              "      <td>female : non-single or male : single</td>\n",
              "      <td>none</td>\n",
              "      <td>...</td>\n",
              "      <td>car or other</td>\n",
              "      <td>21</td>\n",
              "      <td>none</td>\n",
              "      <td>for free</td>\n",
              "      <td>1</td>\n",
              "      <td>skilled employee/official</td>\n",
              "      <td>0 to 2</td>\n",
              "      <td>no</td>\n",
              "      <td>no</td>\n",
              "      <td>good</td>\n",
              "    </tr>\n",
              "    <tr>\n",
              "      <th>1</th>\n",
              "      <td>no checking account</td>\n",
              "      <td>9</td>\n",
              "      <td>all credits at this bank paid back duly</td>\n",
              "      <td>others</td>\n",
              "      <td>2799</td>\n",
              "      <td>unknown/no savings account</td>\n",
              "      <td>1 &lt;= ... &lt; 4 yrs</td>\n",
              "      <td>25 &lt;= ... &lt; 35</td>\n",
              "      <td>male : married/widowed</td>\n",
              "      <td>none</td>\n",
              "      <td>...</td>\n",
              "      <td>unknown / no property</td>\n",
              "      <td>36</td>\n",
              "      <td>none</td>\n",
              "      <td>for free</td>\n",
              "      <td>2-3</td>\n",
              "      <td>skilled employee/official</td>\n",
              "      <td>3 or more</td>\n",
              "      <td>no</td>\n",
              "      <td>no</td>\n",
              "      <td>good</td>\n",
              "    </tr>\n",
              "    <tr>\n",
              "      <th>2</th>\n",
              "      <td>... &lt; 0 DM</td>\n",
              "      <td>12</td>\n",
              "      <td>no credits taken/all credits paid back duly</td>\n",
              "      <td>retraining</td>\n",
              "      <td>841</td>\n",
              "      <td>... &lt;  100 DM</td>\n",
              "      <td>4 &lt;= ... &lt; 7 yrs</td>\n",
              "      <td>25 &lt;= ... &lt; 35</td>\n",
              "      <td>female : non-single or male : single</td>\n",
              "      <td>none</td>\n",
              "      <td>...</td>\n",
              "      <td>unknown / no property</td>\n",
              "      <td>23</td>\n",
              "      <td>none</td>\n",
              "      <td>for free</td>\n",
              "      <td>1</td>\n",
              "      <td>unskilled - resident</td>\n",
              "      <td>0 to 2</td>\n",
              "      <td>no</td>\n",
              "      <td>no</td>\n",
              "      <td>good</td>\n",
              "    </tr>\n",
              "    <tr>\n",
              "      <th>3</th>\n",
              "      <td>no checking account</td>\n",
              "      <td>12</td>\n",
              "      <td>all credits at this bank paid back duly</td>\n",
              "      <td>others</td>\n",
              "      <td>2122</td>\n",
              "      <td>unknown/no savings account</td>\n",
              "      <td>1 &lt;= ... &lt; 4 yrs</td>\n",
              "      <td>20 &lt;= ... &lt; 25</td>\n",
              "      <td>male : married/widowed</td>\n",
              "      <td>none</td>\n",
              "      <td>...</td>\n",
              "      <td>unknown / no property</td>\n",
              "      <td>39</td>\n",
              "      <td>none</td>\n",
              "      <td>for free</td>\n",
              "      <td>2-3</td>\n",
              "      <td>unskilled - resident</td>\n",
              "      <td>3 or more</td>\n",
              "      <td>no</td>\n",
              "      <td>yes</td>\n",
              "      <td>good</td>\n",
              "    </tr>\n",
              "    <tr>\n",
              "      <th>4</th>\n",
              "      <td>no checking account</td>\n",
              "      <td>12</td>\n",
              "      <td>all credits at this bank paid back duly</td>\n",
              "      <td>others</td>\n",
              "      <td>2171</td>\n",
              "      <td>unknown/no savings account</td>\n",
              "      <td>1 &lt;= ... &lt; 4 yrs</td>\n",
              "      <td>&lt; 20</td>\n",
              "      <td>male : married/widowed</td>\n",
              "      <td>none</td>\n",
              "      <td>...</td>\n",
              "      <td>car or other</td>\n",
              "      <td>38</td>\n",
              "      <td>bank</td>\n",
              "      <td>rent</td>\n",
              "      <td>2-3</td>\n",
              "      <td>unskilled - resident</td>\n",
              "      <td>0 to 2</td>\n",
              "      <td>no</td>\n",
              "      <td>yes</td>\n",
              "      <td>good</td>\n",
              "    </tr>\n",
              "    <tr>\n",
              "      <th>995</th>\n",
              "      <td>no checking account</td>\n",
              "      <td>24</td>\n",
              "      <td>no credits taken/all credits paid back duly</td>\n",
              "      <td>furniture/equipment</td>\n",
              "      <td>1987</td>\n",
              "      <td>unknown/no savings account</td>\n",
              "      <td>1 &lt;= ... &lt; 4 yrs</td>\n",
              "      <td>25 &lt;= ... &lt; 35</td>\n",
              "      <td>male : married/widowed</td>\n",
              "      <td>none</td>\n",
              "      <td>...</td>\n",
              "      <td>unknown / no property</td>\n",
              "      <td>21</td>\n",
              "      <td>none</td>\n",
              "      <td>for free</td>\n",
              "      <td>1</td>\n",
              "      <td>unskilled - resident</td>\n",
              "      <td>3 or more</td>\n",
              "      <td>no</td>\n",
              "      <td>no</td>\n",
              "      <td>bad</td>\n",
              "    </tr>\n",
              "    <tr>\n",
              "      <th>996</th>\n",
              "      <td>no checking account</td>\n",
              "      <td>24</td>\n",
              "      <td>no credits taken/all credits paid back duly</td>\n",
              "      <td>others</td>\n",
              "      <td>2303</td>\n",
              "      <td>unknown/no savings account</td>\n",
              "      <td>&gt;= 7 yrs</td>\n",
              "      <td>&lt; 20</td>\n",
              "      <td>male : married/widowed</td>\n",
              "      <td>co-applicant</td>\n",
              "      <td>...</td>\n",
              "      <td>unknown / no property</td>\n",
              "      <td>45</td>\n",
              "      <td>none</td>\n",
              "      <td>rent</td>\n",
              "      <td>1</td>\n",
              "      <td>skilled employee/official</td>\n",
              "      <td>0 to 2</td>\n",
              "      <td>no</td>\n",
              "      <td>no</td>\n",
              "      <td>bad</td>\n",
              "    </tr>\n",
              "    <tr>\n",
              "      <th>997</th>\n",
              "      <td>... &gt;= 200 DM / salary for at least 1 year</td>\n",
              "      <td>21</td>\n",
              "      <td>all credits at this bank paid back duly</td>\n",
              "      <td>others</td>\n",
              "      <td>12680</td>\n",
              "      <td>... &gt;= 1000 DM</td>\n",
              "      <td>&gt;= 7 yrs</td>\n",
              "      <td>&lt; 20</td>\n",
              "      <td>male : married/widowed</td>\n",
              "      <td>none</td>\n",
              "      <td>...</td>\n",
              "      <td>real estate</td>\n",
              "      <td>30</td>\n",
              "      <td>none</td>\n",
              "      <td>own</td>\n",
              "      <td>1</td>\n",
              "      <td>manager/self-empl./highly qualif. employee</td>\n",
              "      <td>0 to 2</td>\n",
              "      <td>yes (under customer name)</td>\n",
              "      <td>no</td>\n",
              "      <td>bad</td>\n",
              "    </tr>\n",
              "    <tr>\n",
              "      <th>998</th>\n",
              "      <td>... &lt; 0 DM</td>\n",
              "      <td>12</td>\n",
              "      <td>no credits taken/all credits paid back duly</td>\n",
              "      <td>furniture/equipment</td>\n",
              "      <td>6468</td>\n",
              "      <td>... &gt;= 1000 DM</td>\n",
              "      <td>unemployed</td>\n",
              "      <td>25 &lt;= ... &lt; 35</td>\n",
              "      <td>male : married/widowed</td>\n",
              "      <td>none</td>\n",
              "      <td>...</td>\n",
              "      <td>real estate</td>\n",
              "      <td>52</td>\n",
              "      <td>none</td>\n",
              "      <td>rent</td>\n",
              "      <td>1</td>\n",
              "      <td>manager/self-empl./highly qualif. employee</td>\n",
              "      <td>0 to 2</td>\n",
              "      <td>yes (under customer name)</td>\n",
              "      <td>no</td>\n",
              "      <td>bad</td>\n",
              "    </tr>\n",
              "    <tr>\n",
              "      <th>999</th>\n",
              "      <td>no checking account</td>\n",
              "      <td>30</td>\n",
              "      <td>no credits taken/all credits paid back duly</td>\n",
              "      <td>car (used)</td>\n",
              "      <td>6350</td>\n",
              "      <td>... &gt;= 1000 DM</td>\n",
              "      <td>&gt;= 7 yrs</td>\n",
              "      <td>&lt; 20</td>\n",
              "      <td>male : married/widowed</td>\n",
              "      <td>none</td>\n",
              "      <td>...</td>\n",
              "      <td>car or other</td>\n",
              "      <td>31</td>\n",
              "      <td>none</td>\n",
              "      <td>rent</td>\n",
              "      <td>1</td>\n",
              "      <td>skilled employee/official</td>\n",
              "      <td>0 to 2</td>\n",
              "      <td>no</td>\n",
              "      <td>no</td>\n",
              "      <td>bad</td>\n",
              "    </tr>\n",
              "  </tbody>\n",
              "</table>\n",
              "<p>10 rows × 21 columns</p>\n",
              "</div>\n",
              "      <button class=\"colab-df-convert\" onclick=\"convertToInteractive('df-2ea05f1d-5711-41b2-8c6e-e5d98a5cd75f')\"\n",
              "              title=\"Convert this dataframe to an interactive table.\"\n",
              "              style=\"display:none;\">\n",
              "        \n",
              "  <svg xmlns=\"http://www.w3.org/2000/svg\" height=\"24px\"viewBox=\"0 0 24 24\"\n",
              "       width=\"24px\">\n",
              "    <path d=\"M0 0h24v24H0V0z\" fill=\"none\"/>\n",
              "    <path d=\"M18.56 5.44l.94 2.06.94-2.06 2.06-.94-2.06-.94-.94-2.06-.94 2.06-2.06.94zm-11 1L8.5 8.5l.94-2.06 2.06-.94-2.06-.94L8.5 2.5l-.94 2.06-2.06.94zm10 10l.94 2.06.94-2.06 2.06-.94-2.06-.94-.94-2.06-.94 2.06-2.06.94z\"/><path d=\"M17.41 7.96l-1.37-1.37c-.4-.4-.92-.59-1.43-.59-.52 0-1.04.2-1.43.59L10.3 9.45l-7.72 7.72c-.78.78-.78 2.05 0 2.83L4 21.41c.39.39.9.59 1.41.59.51 0 1.02-.2 1.41-.59l7.78-7.78 2.81-2.81c.8-.78.8-2.07 0-2.86zM5.41 20L4 18.59l7.72-7.72 1.47 1.35L5.41 20z\"/>\n",
              "  </svg>\n",
              "      </button>\n",
              "      \n",
              "  <style>\n",
              "    .colab-df-container {\n",
              "      display:flex;\n",
              "      flex-wrap:wrap;\n",
              "      gap: 12px;\n",
              "    }\n",
              "\n",
              "    .colab-df-convert {\n",
              "      background-color: #E8F0FE;\n",
              "      border: none;\n",
              "      border-radius: 50%;\n",
              "      cursor: pointer;\n",
              "      display: none;\n",
              "      fill: #1967D2;\n",
              "      height: 32px;\n",
              "      padding: 0 0 0 0;\n",
              "      width: 32px;\n",
              "    }\n",
              "\n",
              "    .colab-df-convert:hover {\n",
              "      background-color: #E2EBFA;\n",
              "      box-shadow: 0px 1px 2px rgba(60, 64, 67, 0.3), 0px 1px 3px 1px rgba(60, 64, 67, 0.15);\n",
              "      fill: #174EA6;\n",
              "    }\n",
              "\n",
              "    [theme=dark] .colab-df-convert {\n",
              "      background-color: #3B4455;\n",
              "      fill: #D2E3FC;\n",
              "    }\n",
              "\n",
              "    [theme=dark] .colab-df-convert:hover {\n",
              "      background-color: #434B5C;\n",
              "      box-shadow: 0px 1px 3px 1px rgba(0, 0, 0, 0.15);\n",
              "      filter: drop-shadow(0px 1px 2px rgba(0, 0, 0, 0.3));\n",
              "      fill: #FFFFFF;\n",
              "    }\n",
              "  </style>\n",
              "\n",
              "      <script>\n",
              "        const buttonEl =\n",
              "          document.querySelector('#df-2ea05f1d-5711-41b2-8c6e-e5d98a5cd75f button.colab-df-convert');\n",
              "        buttonEl.style.display =\n",
              "          google.colab.kernel.accessAllowed ? 'block' : 'none';\n",
              "\n",
              "        async function convertToInteractive(key) {\n",
              "          const element = document.querySelector('#df-2ea05f1d-5711-41b2-8c6e-e5d98a5cd75f');\n",
              "          const dataTable =\n",
              "            await google.colab.kernel.invokeFunction('convertToInteractive',\n",
              "                                                     [key], {});\n",
              "          if (!dataTable) return;\n",
              "\n",
              "          const docLinkHtml = 'Like what you see? Visit the ' +\n",
              "            '<a target=\"_blank\" href=https://colab.research.google.com/notebooks/data_table.ipynb>data table notebook</a>'\n",
              "            + ' to learn more about interactive tables.';\n",
              "          element.innerHTML = '';\n",
              "          dataTable['output_type'] = 'display_data';\n",
              "          await google.colab.output.renderOutput(dataTable, element);\n",
              "          const docLink = document.createElement('div');\n",
              "          docLink.innerHTML = docLinkHtml;\n",
              "          element.appendChild(docLink);\n",
              "        }\n",
              "      </script>\n",
              "    </div>\n",
              "  </div>\n",
              "  "
            ]
          },
          "metadata": {}
        },
        {
          "output_type": "display_data",
          "data": {
            "text/plain": [
              "(1000, 21)"
            ]
          },
          "metadata": {}
        }
      ]
    },
    {
      "cell_type": "markdown",
      "metadata": {
        "id": "JBbxRdOQu8le"
      },
      "source": [
        "### Задание 2 (0.5 балла)"
      ]
    },
    {
      "cell_type": "markdown",
      "metadata": {
        "id": "hIPt1r6ju8le"
      },
      "source": [
        "Определите, есть ли пропуски в данных. Разделите признаки на количественные, бинарные, порядковые и категориальные."
      ]
    },
    {
      "cell_type": "code",
      "execution_count": null,
      "metadata": {
        "id": "jD04ZLhdM6DT",
        "colab": {
          "base_uri": "https://localhost:8080/"
        },
        "outputId": "a024b16d-2eea-426f-8a0b-1069e5221608"
      },
      "outputs": [
        {
          "output_type": "execute_result",
          "data": {
            "text/plain": [
              "False"
            ]
          },
          "metadata": {},
          "execution_count": 4
        }
      ],
      "source": [
        "data.isna().any(None)"
      ]
    },
    {
      "cell_type": "markdown",
      "source": [
        "Количественные - duration, amount, age \\\\\n",
        "Бинарные - telephone, foreign_worker, credit_risk \\\\\n",
        "Порядковые - status, savings, employment_duration, installment_rate, present_residence, number_credits, people_liable \\\\\n",
        "Категориальные - credit_history, purpose, personal_status_sex, other_debtors, property, other_installment_plans, housing, job \\\\\n",
        "<hr>\n",
        "\n",
        "1. Определение бинарных и количественных признаков тривиально.\n",
        "2. installment_rate, present_residence, number_credits и people_liable являются очевидно порядковыми - значения признаков представляют из себя несколько интервалов, которые можно тривиальным образом \"отсортировать\"\n",
        "3. Признаки status, savings и employment_duration можно считать как порядковыми, так и категориальными: фактически, значения указанных признаков - несколько интервалов и одно дополнительное значение, указывающее на отсутствие или неизвестность значения. Я решил считать эти признаки порядковыми, так как естественным образом отсутствие информации можно считать как нулевое, самое \"плохое\", значение признака.\n",
        "4. Остальные признаки являются очевидно категориальными - их значения представляются несколькими строками, которым нельзя естественным образом задать порядок."
      ],
      "metadata": {
        "id": "IIbezIXl37Ui"
      }
    },
    {
      "cell_type": "markdown",
      "metadata": {
        "id": "SqPrAHdKRTIE"
      },
      "source": [
        "### Задание 3 (0.5 балла)"
      ]
    },
    {
      "cell_type": "markdown",
      "metadata": {
        "id": "KlMiEcHBRXhD"
      },
      "source": [
        "Выведите среднюю сумму кредита (колонка amount) в каждой категории (колонка purpose), воспользовавшись методом groupby."
      ]
    },
    {
      "cell_type": "code",
      "execution_count": null,
      "metadata": {
        "id": "oXE_DvksRbpn",
        "colab": {
          "base_uri": "https://localhost:8080/",
          "height": 394
        },
        "outputId": "8382c090-ec59-400e-bd85-4fe6aa4b3ad2"
      },
      "outputs": [
        {
          "output_type": "execute_result",
          "data": {
            "text/plain": [
              "                          amount\n",
              "purpose                         \n",
              "business             8209.333333\n",
              "car (new)            5370.223301\n",
              "car (used)           3066.983425\n",
              "domestic appliances  2728.090909\n",
              "furniture/equipment  2487.685714\n",
              "others               3062.948718\n",
              "radio/television     1498.000000\n",
              "repairs              3180.400000\n",
              "retraining           4158.041237\n",
              "vacation             1205.888889"
            ],
            "text/html": [
              "\n",
              "  <div id=\"df-56d9c4bd-00f1-41f3-bb82-97cc5604b7a3\">\n",
              "    <div class=\"colab-df-container\">\n",
              "      <div>\n",
              "<style scoped>\n",
              "    .dataframe tbody tr th:only-of-type {\n",
              "        vertical-align: middle;\n",
              "    }\n",
              "\n",
              "    .dataframe tbody tr th {\n",
              "        vertical-align: top;\n",
              "    }\n",
              "\n",
              "    .dataframe thead th {\n",
              "        text-align: right;\n",
              "    }\n",
              "</style>\n",
              "<table border=\"1\" class=\"dataframe\">\n",
              "  <thead>\n",
              "    <tr style=\"text-align: right;\">\n",
              "      <th></th>\n",
              "      <th>amount</th>\n",
              "    </tr>\n",
              "    <tr>\n",
              "      <th>purpose</th>\n",
              "      <th></th>\n",
              "    </tr>\n",
              "  </thead>\n",
              "  <tbody>\n",
              "    <tr>\n",
              "      <th>business</th>\n",
              "      <td>8209.333333</td>\n",
              "    </tr>\n",
              "    <tr>\n",
              "      <th>car (new)</th>\n",
              "      <td>5370.223301</td>\n",
              "    </tr>\n",
              "    <tr>\n",
              "      <th>car (used)</th>\n",
              "      <td>3066.983425</td>\n",
              "    </tr>\n",
              "    <tr>\n",
              "      <th>domestic appliances</th>\n",
              "      <td>2728.090909</td>\n",
              "    </tr>\n",
              "    <tr>\n",
              "      <th>furniture/equipment</th>\n",
              "      <td>2487.685714</td>\n",
              "    </tr>\n",
              "    <tr>\n",
              "      <th>others</th>\n",
              "      <td>3062.948718</td>\n",
              "    </tr>\n",
              "    <tr>\n",
              "      <th>radio/television</th>\n",
              "      <td>1498.000000</td>\n",
              "    </tr>\n",
              "    <tr>\n",
              "      <th>repairs</th>\n",
              "      <td>3180.400000</td>\n",
              "    </tr>\n",
              "    <tr>\n",
              "      <th>retraining</th>\n",
              "      <td>4158.041237</td>\n",
              "    </tr>\n",
              "    <tr>\n",
              "      <th>vacation</th>\n",
              "      <td>1205.888889</td>\n",
              "    </tr>\n",
              "  </tbody>\n",
              "</table>\n",
              "</div>\n",
              "      <button class=\"colab-df-convert\" onclick=\"convertToInteractive('df-56d9c4bd-00f1-41f3-bb82-97cc5604b7a3')\"\n",
              "              title=\"Convert this dataframe to an interactive table.\"\n",
              "              style=\"display:none;\">\n",
              "        \n",
              "  <svg xmlns=\"http://www.w3.org/2000/svg\" height=\"24px\"viewBox=\"0 0 24 24\"\n",
              "       width=\"24px\">\n",
              "    <path d=\"M0 0h24v24H0V0z\" fill=\"none\"/>\n",
              "    <path d=\"M18.56 5.44l.94 2.06.94-2.06 2.06-.94-2.06-.94-.94-2.06-.94 2.06-2.06.94zm-11 1L8.5 8.5l.94-2.06 2.06-.94-2.06-.94L8.5 2.5l-.94 2.06-2.06.94zm10 10l.94 2.06.94-2.06 2.06-.94-2.06-.94-.94-2.06-.94 2.06-2.06.94z\"/><path d=\"M17.41 7.96l-1.37-1.37c-.4-.4-.92-.59-1.43-.59-.52 0-1.04.2-1.43.59L10.3 9.45l-7.72 7.72c-.78.78-.78 2.05 0 2.83L4 21.41c.39.39.9.59 1.41.59.51 0 1.02-.2 1.41-.59l7.78-7.78 2.81-2.81c.8-.78.8-2.07 0-2.86zM5.41 20L4 18.59l7.72-7.72 1.47 1.35L5.41 20z\"/>\n",
              "  </svg>\n",
              "      </button>\n",
              "      \n",
              "  <style>\n",
              "    .colab-df-container {\n",
              "      display:flex;\n",
              "      flex-wrap:wrap;\n",
              "      gap: 12px;\n",
              "    }\n",
              "\n",
              "    .colab-df-convert {\n",
              "      background-color: #E8F0FE;\n",
              "      border: none;\n",
              "      border-radius: 50%;\n",
              "      cursor: pointer;\n",
              "      display: none;\n",
              "      fill: #1967D2;\n",
              "      height: 32px;\n",
              "      padding: 0 0 0 0;\n",
              "      width: 32px;\n",
              "    }\n",
              "\n",
              "    .colab-df-convert:hover {\n",
              "      background-color: #E2EBFA;\n",
              "      box-shadow: 0px 1px 2px rgba(60, 64, 67, 0.3), 0px 1px 3px 1px rgba(60, 64, 67, 0.15);\n",
              "      fill: #174EA6;\n",
              "    }\n",
              "\n",
              "    [theme=dark] .colab-df-convert {\n",
              "      background-color: #3B4455;\n",
              "      fill: #D2E3FC;\n",
              "    }\n",
              "\n",
              "    [theme=dark] .colab-df-convert:hover {\n",
              "      background-color: #434B5C;\n",
              "      box-shadow: 0px 1px 3px 1px rgba(0, 0, 0, 0.15);\n",
              "      filter: drop-shadow(0px 1px 2px rgba(0, 0, 0, 0.3));\n",
              "      fill: #FFFFFF;\n",
              "    }\n",
              "  </style>\n",
              "\n",
              "      <script>\n",
              "        const buttonEl =\n",
              "          document.querySelector('#df-56d9c4bd-00f1-41f3-bb82-97cc5604b7a3 button.colab-df-convert');\n",
              "        buttonEl.style.display =\n",
              "          google.colab.kernel.accessAllowed ? 'block' : 'none';\n",
              "\n",
              "        async function convertToInteractive(key) {\n",
              "          const element = document.querySelector('#df-56d9c4bd-00f1-41f3-bb82-97cc5604b7a3');\n",
              "          const dataTable =\n",
              "            await google.colab.kernel.invokeFunction('convertToInteractive',\n",
              "                                                     [key], {});\n",
              "          if (!dataTable) return;\n",
              "\n",
              "          const docLinkHtml = 'Like what you see? Visit the ' +\n",
              "            '<a target=\"_blank\" href=https://colab.research.google.com/notebooks/data_table.ipynb>data table notebook</a>'\n",
              "            + ' to learn more about interactive tables.';\n",
              "          element.innerHTML = '';\n",
              "          dataTable['output_type'] = 'display_data';\n",
              "          await google.colab.output.renderOutput(dataTable, element);\n",
              "          const docLink = document.createElement('div');\n",
              "          docLink.innerHTML = docLinkHtml;\n",
              "          element.appendChild(docLink);\n",
              "        }\n",
              "      </script>\n",
              "    </div>\n",
              "  </div>\n",
              "  "
            ]
          },
          "metadata": {},
          "execution_count": 5
        }
      ],
      "source": [
        "data[[\"amount\", \"purpose\"]].groupby(\"purpose\").mean()"
      ]
    },
    {
      "cell_type": "markdown",
      "metadata": {
        "id": "mG3ALQRdu8le"
      },
      "source": [
        "### Задание 4 (0.5 балла)\n"
      ]
    },
    {
      "cell_type": "markdown",
      "metadata": {
        "id": "dlb3bBzTu8lf"
      },
      "source": [
        "Какой процент клиентов моложе 30 лет (колонка age) снимает жилье (колонка housing)? А какой процент клиентов старше 40 лет снимает жилье?"
      ]
    },
    {
      "cell_type": "code",
      "execution_count": null,
      "metadata": {
        "id": "MbGsJVWQu8lf",
        "colab": {
          "base_uri": "https://localhost:8080/"
        },
        "outputId": "513df0da-bce9-427d-9699-41af71884821"
      },
      "outputs": [
        {
          "output_type": "stream",
          "name": "stdout",
          "text": [
            "Q: Какой процент клиентов моложе 30 лет (колонка age) снимает жилье (колонка housing)?\n",
            "A: 0.6666666666666666\n"
          ]
        }
      ],
      "source": [
        "print('Q: Какой процент клиентов моложе 30 лет (колонка age) снимает жилье (колонка housing)?')\n",
        "column = data[data['age'] < 30]['housing']\n",
        "print(f'A: {column[column == \"rent\"].count() / column.count()}')"
      ]
    },
    {
      "cell_type": "code",
      "source": [
        "print('Q: А какой процент клиентов старше 40 лет снимает жилье?')\n",
        "column = data[data['age'] > 40]['housing']\n",
        "print(f'A: {column[column == \"rent\"].count() / column.count()}')"
      ],
      "metadata": {
        "colab": {
          "base_uri": "https://localhost:8080/"
        },
        "id": "O3cd2_B7BPy7",
        "outputId": "bded05ce-e4c4-4a5c-b0af-8ea2141a1140"
      },
      "execution_count": null,
      "outputs": [
        {
          "output_type": "stream",
          "name": "stdout",
          "text": [
            "Q: А какой процент клиентов старше 40 лет снимает жилье?\n",
            "A: 0.6801470588235294\n"
          ]
        }
      ]
    },
    {
      "cell_type": "markdown",
      "metadata": {
        "id": "-JG_63_nu8lf"
      },
      "source": [
        "### Задание 5 (0.5 балла)"
      ]
    },
    {
      "cell_type": "markdown",
      "metadata": {
        "id": "aEC7Jj5eu8lf"
      },
      "source": [
        " У скольких иностранцев (foreign_worker) число кредитов (number_credits) больше 3?"
      ]
    },
    {
      "cell_type": "code",
      "source": [
        "data['number_credits'].unique()"
      ],
      "metadata": {
        "colab": {
          "base_uri": "https://localhost:8080/"
        },
        "id": "ZKy9NldkE9G3",
        "outputId": "82d664f0-cd13-4f73-f03b-8c9c31dc5264"
      },
      "execution_count": null,
      "outputs": [
        {
          "output_type": "execute_result",
          "data": {
            "text/plain": [
              "array(['1', '2-3', '4-5', '>= 6'], dtype=object)"
            ]
          },
          "metadata": {},
          "execution_count": 8
        }
      ]
    },
    {
      "cell_type": "code",
      "source": [
        "print('Q: У скольких иностранцев (foreign_worker) число кредитов (number_credits) больше 3?')\n",
        "column = data[data['foreign_worker'] == 'yes']['number_credits']\n",
        "print(f'A: {column[(column == \"4-5\") | (column == \">= 6\")].count()}')"
      ],
      "metadata": {
        "colab": {
          "base_uri": "https://localhost:8080/"
        },
        "id": "dACjJyHuFCr3",
        "outputId": "01678fdb-2805-45b2-df99-7d9dc372ebd8"
      },
      "execution_count": null,
      "outputs": [
        {
          "output_type": "stream",
          "name": "stdout",
          "text": [
            "Q: У скольких иностранцев (foreign_worker) число кредитов (number_credits) больше 3?\n",
            "A: 1\n"
          ]
        }
      ]
    },
    {
      "cell_type": "markdown",
      "metadata": {
        "id": "KAe_K_upu8lg"
      },
      "source": [
        "### Задание 6 (1 балл)"
      ]
    },
    {
      "cell_type": "code",
      "execution_count": null,
      "metadata": {
        "id": "Q1pVde3gjPNB"
      },
      "outputs": [],
      "source": [
        "import numpy as np\n",
        "import matplotlib.pyplot as plt\n",
        "%matplotlib inline"
      ]
    },
    {
      "cell_type": "markdown",
      "metadata": {
        "id": "aW45ioAJjWMo"
      },
      "source": [
        "Используя numpy и matplotlib, начнём с тренировки: постройте график функций $sin(x)$ и $cos(x)$ от $-\\pi$ до $\\pi$ из 100 точек c легендой и сеткой. Используйте для линий разные цвета, одна из них пусть будет пунктирной. Результат в этом и следующих заданиях на построение графиков должен получиться примерно как на картинке. Содержание подписей не должно обязательно совпадать, однако осмысленные подписи должны присутствовать на графиках."
      ]
    },
    {
      "cell_type": "code",
      "source": [
        "X = np.linspace(-np.pi, np.pi, 100)\n",
        "plt.plot(X, np.sin(X), label = 'y = sin(x)', color = 'cyan')\n",
        "plt.plot(X, np.cos(X), label = 'y = cos(x)', color = 'purple', linestyle = 'dashed')\n",
        "\n",
        "plt.grid()\n",
        "plt.legend()\n",
        "plt.title(\"Тренировка\")\n",
        "plt.xlabel(\"x\")\n",
        "plt.ylabel(\"y\")\n",
        "plt.show()"
      ],
      "metadata": {
        "colab": {
          "base_uri": "https://localhost:8080/",
          "height": 295
        },
        "id": "TGng2iAdM-k3",
        "outputId": "d0ea531d-88db-4c6c-9e4e-ddc1e2f20fda"
      },
      "execution_count": null,
      "outputs": [
        {
          "output_type": "display_data",
          "data": {
            "text/plain": [
              "<Figure size 432x288 with 1 Axes>"
            ],
            "image/png": "[encoded data removed]"
          },
          "metadata": {
            "needs_background": "light"
          }
        }
      ]
    },
    {
      "cell_type": "markdown",
      "source": [
        "Вывод: график похож на теоретическое ожидание. Действительно получены две периодические кривые, по виду напоминающие синус и косинус: первый график убывает до -π / 2, затем возрастает до π / 2, после чего вновь убывает; второй график возрастает до 0, после чего убывает"
      ],
      "metadata": {
        "id": "5m5gb9zjRF6q"
      }
    },
    {
      "cell_type": "markdown",
      "metadata": {
        "id": "toFoOig2u8lh"
      },
      "source": [
        "### Задание 7 (1 балл)"
      ]
    },
    {
      "cell_type": "markdown",
      "metadata": {
        "id": "9I3yl5dEu8lh"
      },
      "source": [
        "Рассмотрим сравнительное количество положительных и отрицательных кейсов в зависимости от размера текущего счёта. Постройте зеркальные горизонтальные гистограммы."
      ]
    },
    {
      "cell_type": "code",
      "source": [
        "def groupByStatus(credit_risk):\n",
        "  return data[data[\"credit_risk\"] == credit_risk].groupby(\"status\")[\"credit_risk\"].count().reset_index()\n",
        "goodGrouping = groupByStatus(\"good\")\n",
        "badGrouping = groupByStatus(\"bad\")\n",
        "xlim = max(goodGrouping[\"credit_risk\"].max(), badGrouping[\"credit_risk\"].max()) + 25\n",
        "\n",
        "figure, axes = plt.subplots(1, 2, figsize = (10, 5))\n",
        "figure.suptitle(\"Status of checking account\")\n",
        "figure.subplots_adjust(wspace = 0.05)\n",
        "\n",
        "axes[0].barh(goodGrouping[\"status\"], goodGrouping[\"credit_risk\"], color = 'green')\n",
        "axes[0].set_title(\"Good risk\")\n",
        "axes[0].set_xlim((0, xlim))\n",
        "axes[0].set_xlabel(\"Number of people\")\n",
        "axes[0].invert_xaxis()\n",
        "\n",
        "axes[1].barh(badGrouping[\"status\"], badGrouping[\"credit_risk\"], color = 'red')\n",
        "axes[1].set_title(\"Bad risk\")\n",
        "axes[1].set_xlim((0, xlim))\n",
        "axes[1].yaxis.set_ticks_position('right')\n",
        "axes[1].set_xlabel(\"Number of people\")\n",
        "\n",
        "plt.show()"
      ],
      "metadata": {
        "colab": {
          "base_uri": "https://localhost:8080/",
          "height": 370
        },
        "id": "kclVV7peX-NS",
        "outputId": "e2368fb0-9ee3-4b89-ba1b-deec390fbbb4"
      },
      "execution_count": null,
      "outputs": [
        {
          "output_type": "display_data",
          "data": {
            "text/plain": [
              "<Figure size 720x360 with 2 Axes>"
            ],
            "image/png": "[encoded data removed]"
          },
          "metadata": {
            "needs_background": "light"
          }
        }
      ]
    },
    {
      "cell_type": "markdown",
      "source": [
        "Вывод: явно видно, что люди с большим размером текущего счёта составляют большую часть положительных кейсов, в то время как самыми неблагонадёжными можно считать людей без текущего счёта: в этой категории количество отрицательных кейсов практически превосходит количество положительных. Количество как положительных, так и отрицательных кейсов невелико для людей с размером текущего счёта от 0 до 200, что позволяет утверждать о том, что эта категория людей достаточно малочисленна."
      ],
      "metadata": {
        "id": "VC4bPNLcVFGL"
      }
    },
    {
      "cell_type": "markdown",
      "metadata": {
        "id": "bfJALnuMu8li"
      },
      "source": [
        "### Задание 8  (0.5 балла)"
      ]
    },
    {
      "cell_type": "code",
      "execution_count": null,
      "metadata": {
        "id": "Yi_RIvTx00EE"
      },
      "outputs": [],
      "source": [
        "import seaborn as sns"
      ]
    },
    {
      "cell_type": "markdown",
      "metadata": {
        "id": "mFbzcUiwu8li"
      },
      "source": [
        "Теперь постройте гистограмму для сравнения количества положительных и отрицательных кейсов в зависимости от размера сберегательного счёта с помощью seaborn. Какой способ вам больше нравится с точки зрения трудоёмкости написания кода? А с точки зрения восприятия результата?"
      ]
    },
    {
      "cell_type": "code",
      "source": [
        "plt.figure(figsize = (10, 5))\n",
        "sns.histplot(data, x=\"savings\", hue=\"credit_risk\", multiple=\"dodge\", palette = [\"green\", \"red\"], hue_order = [\"good\", \"bad\"], shrink = 0.75, edgecolor = None).set_title(\"Amount of savings\")\n",
        "plt.show()"
      ],
      "metadata": {
        "colab": {
          "base_uri": "https://localhost:8080/",
          "height": 350
        },
        "id": "0SWGDdaG1AfH",
        "outputId": "5d2bc305-d182-4d0a-d86c-932fb0db78fc"
      },
      "execution_count": null,
      "outputs": [
        {
          "output_type": "display_data",
          "data": {
            "text/plain": [
              "<Figure size 720x360 with 1 Axes>"
            ],
            "image/png": "[encoded data removed]"
          },
          "metadata": {
            "needs_background": "light"
          }
        }
      ]
    },
    {
      "cell_type": "markdown",
      "source": [
        "Вывод: явно видно, что у большинства людей нет сберегательного счёта. Также нетрудно заметить, что с увеличением размера сберегательного счёта процент отрицательных кейсов, как ни странно, уменьшается.\n",
        "\n",
        "Вероятно, ожидаются такие ответы: \\\\\n",
        "Q: Какой способ вам больше нравится с точки зрения трудоёмкости написания кода? \\\\\n",
        "A: Seaborn \\\\\n",
        "Q: А с точки зрения восприятия результата? \\\\\n",
        "A: Matplotlib \\\\\n",
        " \\\\\n",
        "Но я бы на оба вопроса дал ответ Matplotlib. Не люблю использовать сомнительные абстракции над тем, что и так является абстракцией :)"
      ],
      "metadata": {
        "id": "_ZaLVBe_8BYe"
      }
    },
    {
      "cell_type": "markdown",
      "metadata": {
        "id": "86JCla6mu8li"
      },
      "source": [
        "### Задание 9  (1 балл)"
      ]
    },
    {
      "cell_type": "markdown",
      "metadata": {
        "id": "KDWT_Zx4u8lj"
      },
      "source": [
        "seaborn легко позволяет добавить ещё больше информации на один график. Для каждого размера сберегательного счёта мы можем оценить не только количество положительных и отрицательных кейсов, но и их распределение по возрасту, например. Постройте подходящую для этого визуализацию."
      ]
    },
    {
      "cell_type": "code",
      "execution_count": null,
      "metadata": {
        "colab": {
          "base_uri": "https://localhost:8080/",
          "height": 458
        },
        "id": "_jyzuliwu8lj",
        "outputId": "cfae8039-cc8f-4e20-c72b-74ae136e7fb4"
      },
      "outputs": [
        {
          "output_type": "display_data",
          "data": {
            "text/plain": [
              "<Figure size 1008x504 with 1 Axes>"
            ],
            "image/png": "[encoded data removed]"
          },
          "metadata": {
            "needs_background": "light"
          }
        }
      ],
      "source": [
        "plt.figure(figsize = (14, 7))\n",
        "sns.violinplot(data=data, x=\"savings\", y=\"age\", hue=\"credit_risk\", split=True, palette = [\"green\", \"red\"]).set_title(\"Amount of savings with age\")\n",
        "plt.show()"
      ]
    },
    {
      "cell_type": "markdown",
      "source": [
        "Вывод: по графику явно видно, что возраст большинства людей в представленном наборе данных находится между 20 и 40, где и наблюдается наибольшее число положительных и отрацительных кейсов. Интересно отметить, что среди людей с размером сберегательного счёта от 500 до 1000 количество отрицательных кейсов распределено по возрасту примерно равномерно. Также можно отметить, что пики количества отрицательных кейсов находятся \"ниже\" пиков количества положительных кейсов во всех диапазонах, что позволяет утверждать об уменьшении количества отрицательных кейсов с увеличением возраста."
      ],
      "metadata": {
        "id": "id55zYQn6-Rm"
      }
    },
    {
      "cell_type": "markdown",
      "metadata": {
        "id": "Q6ZBM9nqu8lj"
      },
      "source": [
        "### Задание 10  (0.5 балла)"
      ]
    },
    {
      "cell_type": "markdown",
      "metadata": {
        "id": "9w1ch-1cu8lj"
      },
      "source": [
        "Заканчивая с гистограммами, посмотрим на распределение положительных и отрицательных кейсов по возрастам, разместив их друг над другом. Добавим распределение всех взятых кредитов."
      ]
    },
    {
      "cell_type": "code",
      "execution_count": null,
      "metadata": {
        "colab": {
          "base_uri": "https://localhost:8080/",
          "height": 735
        },
        "id": "_hWi9-MVEQf0",
        "outputId": "23d6880f-6343-470f-d6e9-5d0f67cd88a0"
      },
      "outputs": [
        {
          "output_type": "display_data",
          "data": {
            "text/plain": [
              "<Figure size 504x720 with 3 Axes>"
            ],
            "image/png": "[encoded data removed]"
          },
          "metadata": {
            "needs_background": "light"
          }
        }
      ],
      "source": [
        "figure, axes = plt.subplots(3, 1, figsize = (7, 10))\n",
        "\n",
        "sns.histplot(data[data[\"credit_risk\"] == \"good\"], x=\"age\", color = \"green\", bins = 11, edgecolor = None, ax = axes[0], label = \"Good credits age distribution\")\n",
        "axes[0].set_ylim((0, 225))\n",
        "\n",
        "sns.histplot(data[data[\"credit_risk\"] == \"bad\"], x=\"age\", color = \"red\", bins = 11, edgecolor = None, ax = axes[1], label = \"Bad credits age distribution\")\n",
        "axes[1].set_ylim((0, 225))\n",
        "\n",
        "sns.histplot(data, x=\"age\", color = \"blue\", bins = 11, edgecolor = None, ax = axes[2], label = \"Overall age distribution\")\n",
        "axes[2].set_ylim((0, 225))\n",
        "\n",
        "figure.tight_layout()\n",
        "figure.legend()\n",
        "figure.suptitle(\"Age distribution\")\n",
        "plt.show()"
      ]
    },
    {
      "cell_type": "markdown",
      "source": [
        "Вывод: большая часть предитов была взята людьми в возрасте приблизительно между 25 и 30. Заметим, что все три графика имеют приблизительно одинаковое распределение; явно выделяется лишь количество положительных кейсов в возрасте от 35 до 40 - их относительное количество явно больше, чем в других возрастных группах. Также можно отметить, что все кейсы людей в возрасте выше 70 были положительными."
      ],
      "metadata": {
        "id": "04ntVEjgAA_O"
      }
    },
    {
      "cell_type": "markdown",
      "metadata": {
        "id": "PVrJUff5u8lj"
      },
      "source": [
        "### Задание 11  (0.5 балла)"
      ]
    },
    {
      "cell_type": "markdown",
      "metadata": {
        "id": "Vh20VqxOu8lk"
      },
      "source": [
        "Не менее полезной иногда может быть диаграмма рассеяния. Постройте такую диаграмму с продолжительностью и размерами кредитов в качестве осей. Обозначьте положительные и отрицательные кейсы разными цветами."
      ]
    },
    {
      "cell_type": "code",
      "execution_count": null,
      "metadata": {
        "colab": {
          "base_uri": "https://localhost:8080/",
          "height": 513
        },
        "id": "PEAmiINUu8lk",
        "outputId": "34a4d753-1b2f-4d23-82a3-2cc40ab00f49"
      },
      "outputs": [
        {
          "output_type": "display_data",
          "data": {
            "text/plain": [
              "<Figure size 1080x576 with 1 Axes>"
            ],
            "image/png": "[encoded data removed]"
          },
          "metadata": {
            "needs_background": "light"
          }
        }
      ],
      "source": [
        "plt.figure(figsize = (15, 8))\n",
        "plt.scatter(data[\"amount\"], data[\"duration\"], c = data['credit_risk'].map({ 'good': 'green', 'bad': 'red' }))\n",
        "plt.xlabel(\"Credit amount\")\n",
        "plt.ylabel(\"Duration\")\n",
        "plt.title(\"Credits\")\n",
        "plt.show()"
      ]
    },
    {
      "cell_type": "markdown",
      "source": [
        "Вывод:\n",
        "1. Явно видно, что большинство кредитов небольшие (до 5000) и были взяты на небольшой срок (до 30).\n",
        "2. Среди самых маленьких и недолгосрочных кредитов преобладают положительные кейсы, в то время как наиболее большие и длительные кейсы чаще оказываются отрицательными.\n",
        "3. График в большей своей части представляет набор горизонтальных прямых, что можно объяснить тем, что банки не предлагают кредиты на \"странный срок\" - только на \"красивое\" число лет - 15, 20, 30, 50 и т.д."
      ],
      "metadata": {
        "id": "4j24TMgEA-TR"
      }
    },
    {
      "cell_type": "markdown",
      "metadata": {
        "id": "mePIgqPqu8lk"
      },
      "source": [
        "### Задание 12  (1 балл)"
      ]
    },
    {
      "cell_type": "markdown",
      "metadata": {
        "id": "HWD2qUbLu8lk"
      },
      "source": [
        "Продвинемся глубже. Постройте 3D версию диаграммы рассеяния, добавив ось с возрастом."
      ]
    },
    {
      "cell_type": "code",
      "execution_count": null,
      "metadata": {
        "colab": {
          "base_uri": "https://localhost:8080/",
          "height": 482
        },
        "id": "SU2bmkPIu8lk",
        "outputId": "ffed4285-73e0-45d2-c944-94b4511a0025"
      },
      "outputs": [
        {
          "output_type": "display_data",
          "data": {
            "text/plain": [
              "<Figure size 1080x576 with 1 Axes>"
            ],
            "image/png": "[encoded data removed]"
          },
          "metadata": {
            "needs_background": "light"
          }
        }
      ],
      "source": [
        "figure = plt.figure(figsize = (15, 8))\n",
        "ax = figure.add_subplot(projection = '3d')\n",
        "ax.scatter(data[\"amount\"], data[\"duration\"], data[\"age\"], c = data['credit_risk'].map({ 'good': 'green', 'bad': 'red' }))\n",
        "ax.set_xlabel(\"Credit amount\")\n",
        "ax.set_ylabel(\"Duration\")\n",
        "ax.set_zlabel(\"Age\")\n",
        "plt.title(\"Credits\")\n",
        "plt.show()"
      ]
    },
    {
      "cell_type": "markdown",
      "source": [
        "Вывод: все тенденции, замеченные на предыдущем графике, применимы и к этому графику. Дополнительно можно отметить, что зависимость от возраста невелика: явное увеличение количества отрицательных кейсов в сравнении с положительными не прослеживается ни для какой возрастной группы."
      ],
      "metadata": {
        "id": "KLWde7Y4Dh5-"
      }
    },
    {
      "cell_type": "markdown",
      "metadata": {
        "id": "8Zxx_kxSYa_l"
      },
      "source": [
        "### Задание 13  (0.5 балла)"
      ]
    },
    {
      "cell_type": "markdown",
      "metadata": {
        "id": "5YBhNGg6Yjuw"
      },
      "source": [
        "Представьте все порядковые и бинарные признаки в виде числовых значений {0, ..., n - 1}, где n это количество значений признака. Избавьтесь от категориальных признаков."
      ]
    },
    {
      "cell_type": "code",
      "source": [
        "toremove = [ 'credit_history', 'purpose', 'personal_status_sex', 'other_debtors', 'property', 'other_installment_plans', 'housing', 'job' ]\n",
        "toencode = [ 'telephone', 'foreign_worker', 'credit_risk', 'status', 'savings', 'employment_duration', 'installment_rate', 'present_residence', 'number_credits', 'people_liable' ]\n",
        "def removeCategorial(data):\n",
        "    return data.drop(columns = toremove)\n",
        "def buildEncoder(data):\n",
        "  encoder = { }\n",
        "  for attribute in toencode:\n",
        "    encoder[attribute] = { }\n",
        "    values = data[attribute].unique()\n",
        "    for i in range(len(values)):\n",
        "      encoder[attribute][values[i]] = i\n",
        "  return encoder\n",
        "def encode(data, encoder):\n",
        "  data = data.copy(True)\n",
        "  for attribute in toencode:\n",
        "    data[attribute] = data[attribute].map(encoder[attribute])\n",
        "  return data"
      ],
      "metadata": {
        "id": "2MWOkgbxi_uk"
      },
      "execution_count": null,
      "outputs": []
    },
    {
      "cell_type": "code",
      "source": [
        "data = removeCategorial(data)\n",
        "encoder = buildEncoder(data)\n",
        "encode(data, encoder)"
      ],
      "metadata": {
        "colab": {
          "base_uri": "https://localhost:8080/",
          "height": 424
        },
        "id": "6ZE6ZAJNjUAL",
        "outputId": "26235d0f-37f7-4bed-ce17-dc91cf6def9d"
      },
      "execution_count": null,
      "outputs": [
        {
          "output_type": "execute_result",
          "data": {
            "text/plain": [
              "     status  duration  amount  savings  employment_duration  installment_rate  \\\n",
              "0         0        18    1049        0                    0                 0   \n",
              "1         0         9    2799        0                    1                 1   \n",
              "2         1        12     841        1                    2                 1   \n",
              "3         0        12    2122        0                    1                 2   \n",
              "4         0        12    2171        0                    1                 0   \n",
              "..      ...       ...     ...      ...                  ...               ...   \n",
              "995       0        24    1987        0                    1                 1   \n",
              "996       0        24    2303        0                    4                 0   \n",
              "997       2        21   12680        3                    4                 0   \n",
              "998       1        12    6468        3                    3                 1   \n",
              "999       0        30    6350        3                    4                 0   \n",
              "\n",
              "     present_residence  age  number_credits  people_liable  telephone  \\\n",
              "0                    0   21               0              0          0   \n",
              "1                    1   36               1              1          0   \n",
              "2                    0   23               0              0          0   \n",
              "3                    1   39               1              1          0   \n",
              "4                    0   38               1              0          0   \n",
              "..                 ...  ...             ...            ...        ...   \n",
              "995                  0   21               0              1          0   \n",
              "996                  3   45               0              0          0   \n",
              "997                  0   30               0              0          1   \n",
              "998                  3   52               0              0          1   \n",
              "999                  0   31               0              0          0   \n",
              "\n",
              "     foreign_worker  credit_risk  \n",
              "0                 0            0  \n",
              "1                 0            0  \n",
              "2                 0            0  \n",
              "3                 1            0  \n",
              "4                 1            0  \n",
              "..              ...          ...  \n",
              "995               0            1  \n",
              "996               0            1  \n",
              "997               0            1  \n",
              "998               0            1  \n",
              "999               0            1  \n",
              "\n",
              "[1000 rows x 13 columns]"
            ],
            "text/html": [
              "\n",
              "  <div id=\"df-30242f6f-8e97-49b9-a786-a6eee075d583\">\n",
              "    <div class=\"colab-df-container\">\n",
              "      <div>\n",
              "<style scoped>\n",
              "    .dataframe tbody tr th:only-of-type {\n",
              "        vertical-align: middle;\n",
              "    }\n",
              "\n",
              "    .dataframe tbody tr th {\n",
              "        vertical-align: top;\n",
              "    }\n",
              "\n",
              "    .dataframe thead th {\n",
              "        text-align: right;\n",
              "    }\n",
              "</style>\n",
              "<table border=\"1\" class=\"dataframe\">\n",
              "  <thead>\n",
              "    <tr style=\"text-align: right;\">\n",
              "      <th></th>\n",
              "      <th>status</th>\n",
              "      <th>duration</th>\n",
              "      <th>amount</th>\n",
              "      <th>savings</th>\n",
              "      <th>employment_duration</th>\n",
              "      <th>installment_rate</th>\n",
              "      <th>present_residence</th>\n",
              "      <th>age</th>\n",
              "      <th>number_credits</th>\n",
              "      <th>people_liable</th>\n",
              "      <th>telephone</th>\n",
              "      <th>foreign_worker</th>\n",
              "      <th>credit_risk</th>\n",
              "    </tr>\n",
              "  </thead>\n",
              "  <tbody>\n",
              "    <tr>\n",
              "      <th>0</th>\n",
              "      <td>0</td>\n",
              "      <td>18</td>\n",
              "      <td>1049</td>\n",
              "      <td>0</td>\n",
              "      <td>0</td>\n",
              "      <td>0</td>\n",
              "      <td>0</td>\n",
              "      <td>21</td>\n",
              "      <td>0</td>\n",
              "      <td>0</td>\n",
              "      <td>0</td>\n",
              "      <td>0</td>\n",
              "      <td>0</td>\n",
              "    </tr>\n",
              "    <tr>\n",
              "      <th>1</th>\n",
              "      <td>0</td>\n",
              "      <td>9</td>\n",
              "      <td>2799</td>\n",
              "      <td>0</td>\n",
              "      <td>1</td>\n",
              "      <td>1</td>\n",
              "      <td>1</td>\n",
              "      <td>36</td>\n",
              "      <td>1</td>\n",
              "      <td>1</td>\n",
              "      <td>0</td>\n",
              "      <td>0</td>\n",
              "      <td>0</td>\n",
              "    </tr>\n",
              "    <tr>\n",
              "      <th>2</th>\n",
              "      <td>1</td>\n",
              "      <td>12</td>\n",
              "      <td>841</td>\n",
              "      <td>1</td>\n",
              "      <td>2</td>\n",
              "      <td>1</td>\n",
              "      <td>0</td>\n",
              "      <td>23</td>\n",
              "      <td>0</td>\n",
              "      <td>0</td>\n",
              "      <td>0</td>\n",
              "      <td>0</td>\n",
              "      <td>0</td>\n",
              "    </tr>\n",
              "    <tr>\n",
              "      <th>3</th>\n",
              "      <td>0</td>\n",
              "      <td>12</td>\n",
              "      <td>2122</td>\n",
              "      <td>0</td>\n",
              "      <td>1</td>\n",
              "      <td>2</td>\n",
              "      <td>1</td>\n",
              "      <td>39</td>\n",
              "      <td>1</td>\n",
              "      <td>1</td>\n",
              "      <td>0</td>\n",
              "      <td>1</td>\n",
              "      <td>0</td>\n",
              "    </tr>\n",
              "    <tr>\n",
              "      <th>4</th>\n",
              "      <td>0</td>\n",
              "      <td>12</td>\n",
              "      <td>2171</td>\n",
              "      <td>0</td>\n",
              "      <td>1</td>\n",
              "      <td>0</td>\n",
              "      <td>0</td>\n",
              "      <td>38</td>\n",
              "      <td>1</td>\n",
              "      <td>0</td>\n",
              "      <td>0</td>\n",
              "      <td>1</td>\n",
              "      <td>0</td>\n",
              "    </tr>\n",
              "    <tr>\n",
              "      <th>...</th>\n",
              "      <td>...</td>\n",
              "      <td>...</td>\n",
              "      <td>...</td>\n",
              "      <td>...</td>\n",
              "      <td>...</td>\n",
              "      <td>...</td>\n",
              "      <td>...</td>\n",
              "      <td>...</td>\n",
              "      <td>...</td>\n",
              "      <td>...</td>\n",
              "      <td>...</td>\n",
              "      <td>...</td>\n",
              "      <td>...</td>\n",
              "    </tr>\n",
              "    <tr>\n",
              "      <th>995</th>\n",
              "      <td>0</td>\n",
              "      <td>24</td>\n",
              "      <td>1987</td>\n",
              "      <td>0</td>\n",
              "      <td>1</td>\n",
              "      <td>1</td>\n",
              "      <td>0</td>\n",
              "      <td>21</td>\n",
              "      <td>0</td>\n",
              "      <td>1</td>\n",
              "      <td>0</td>\n",
              "      <td>0</td>\n",
              "      <td>1</td>\n",
              "    </tr>\n",
              "    <tr>\n",
              "      <th>996</th>\n",
              "      <td>0</td>\n",
              "      <td>24</td>\n",
              "      <td>2303</td>\n",
              "      <td>0</td>\n",
              "      <td>4</td>\n",
              "      <td>0</td>\n",
              "      <td>3</td>\n",
              "      <td>45</td>\n",
              "      <td>0</td>\n",
              "      <td>0</td>\n",
              "      <td>0</td>\n",
              "      <td>0</td>\n",
              "      <td>1</td>\n",
              "    </tr>\n",
              "    <tr>\n",
              "      <th>997</th>\n",
              "      <td>2</td>\n",
              "      <td>21</td>\n",
              "      <td>12680</td>\n",
              "      <td>3</td>\n",
              "      <td>4</td>\n",
              "      <td>0</td>\n",
              "      <td>0</td>\n",
              "      <td>30</td>\n",
              "      <td>0</td>\n",
              "      <td>0</td>\n",
              "      <td>1</td>\n",
              "      <td>0</td>\n",
              "      <td>1</td>\n",
              "    </tr>\n",
              "    <tr>\n",
              "      <th>998</th>\n",
              "      <td>1</td>\n",
              "      <td>12</td>\n",
              "      <td>6468</td>\n",
              "      <td>3</td>\n",
              "      <td>3</td>\n",
              "      <td>1</td>\n",
              "      <td>3</td>\n",
              "      <td>52</td>\n",
              "      <td>0</td>\n",
              "      <td>0</td>\n",
              "      <td>1</td>\n",
              "      <td>0</td>\n",
              "      <td>1</td>\n",
              "    </tr>\n",
              "    <tr>\n",
              "      <th>999</th>\n",
              "      <td>0</td>\n",
              "      <td>30</td>\n",
              "      <td>6350</td>\n",
              "      <td>3</td>\n",
              "      <td>4</td>\n",
              "      <td>0</td>\n",
              "      <td>0</td>\n",
              "      <td>31</td>\n",
              "      <td>0</td>\n",
              "      <td>0</td>\n",
              "      <td>0</td>\n",
              "      <td>0</td>\n",
              "      <td>1</td>\n",
              "    </tr>\n",
              "  </tbody>\n",
              "</table>\n",
              "<p>1000 rows × 13 columns</p>\n",
              "</div>\n",
              "      <button class=\"colab-df-convert\" onclick=\"convertToInteractive('df-30242f6f-8e97-49b9-a786-a6eee075d583')\"\n",
              "              title=\"Convert this dataframe to an interactive table.\"\n",
              "              style=\"display:none;\">\n",
              "        \n",
              "  <svg xmlns=\"http://www.w3.org/2000/svg\" height=\"24px\"viewBox=\"0 0 24 24\"\n",
              "       width=\"24px\">\n",
              "    <path d=\"M0 0h24v24H0V0z\" fill=\"none\"/>\n",
              "    <path d=\"M18.56 5.44l.94 2.06.94-2.06 2.06-.94-2.06-.94-.94-2.06-.94 2.06-2.06.94zm-11 1L8.5 8.5l.94-2.06 2.06-.94-2.06-.94L8.5 2.5l-.94 2.06-2.06.94zm10 10l.94 2.06.94-2.06 2.06-.94-2.06-.94-.94-2.06-.94 2.06-2.06.94z\"/><path d=\"M17.41 7.96l-1.37-1.37c-.4-.4-.92-.59-1.43-.59-.52 0-1.04.2-1.43.59L10.3 9.45l-7.72 7.72c-.78.78-.78 2.05 0 2.83L4 21.41c.39.39.9.59 1.41.59.51 0 1.02-.2 1.41-.59l7.78-7.78 2.81-2.81c.8-.78.8-2.07 0-2.86zM5.41 20L4 18.59l7.72-7.72 1.47 1.35L5.41 20z\"/>\n",
              "  </svg>\n",
              "      </button>\n",
              "      \n",
              "  <style>\n",
              "    .colab-df-container {\n",
              "      display:flex;\n",
              "      flex-wrap:wrap;\n",
              "      gap: 12px;\n",
              "    }\n",
              "\n",
              "    .colab-df-convert {\n",
              "      background-color: #E8F0FE;\n",
              "      border: none;\n",
              "      border-radius: 50%;\n",
              "      cursor: pointer;\n",
              "      display: none;\n",
              "      fill: #1967D2;\n",
              "      height: 32px;\n",
              "      padding: 0 0 0 0;\n",
              "      width: 32px;\n",
              "    }\n",
              "\n",
              "    .colab-df-convert:hover {\n",
              "      background-color: #E2EBFA;\n",
              "      box-shadow: 0px 1px 2px rgba(60, 64, 67, 0.3), 0px 1px 3px 1px rgba(60, 64, 67, 0.15);\n",
              "      fill: #174EA6;\n",
              "    }\n",
              "\n",
              "    [theme=dark] .colab-df-convert {\n",
              "      background-color: #3B4455;\n",
              "      fill: #D2E3FC;\n",
              "    }\n",
              "\n",
              "    [theme=dark] .colab-df-convert:hover {\n",
              "      background-color: #434B5C;\n",
              "      box-shadow: 0px 1px 3px 1px rgba(0, 0, 0, 0.15);\n",
              "      filter: drop-shadow(0px 1px 2px rgba(0, 0, 0, 0.3));\n",
              "      fill: #FFFFFF;\n",
              "    }\n",
              "  </style>\n",
              "\n",
              "      <script>\n",
              "        const buttonEl =\n",
              "          document.querySelector('#df-30242f6f-8e97-49b9-a786-a6eee075d583 button.colab-df-convert');\n",
              "        buttonEl.style.display =\n",
              "          google.colab.kernel.accessAllowed ? 'block' : 'none';\n",
              "\n",
              "        async function convertToInteractive(key) {\n",
              "          const element = document.querySelector('#df-30242f6f-8e97-49b9-a786-a6eee075d583');\n",
              "          const dataTable =\n",
              "            await google.colab.kernel.invokeFunction('convertToInteractive',\n",
              "                                                     [key], {});\n",
              "          if (!dataTable) return;\n",
              "\n",
              "          const docLinkHtml = 'Like what you see? Visit the ' +\n",
              "            '<a target=\"_blank\" href=https://colab.research.google.com/notebooks/data_table.ipynb>data table notebook</a>'\n",
              "            + ' to learn more about interactive tables.';\n",
              "          element.innerHTML = '';\n",
              "          dataTable['output_type'] = 'display_data';\n",
              "          await google.colab.output.renderOutput(dataTable, element);\n",
              "          const docLink = document.createElement('div');\n",
              "          docLink.innerHTML = docLinkHtml;\n",
              "          element.appendChild(docLink);\n",
              "        }\n",
              "      </script>\n",
              "    </div>\n",
              "  </div>\n",
              "  "
            ]
          },
          "metadata": {},
          "execution_count": 20
        }
      ]
    },
    {
      "cell_type": "markdown",
      "metadata": {
        "id": "Iz7VTiFpu8lo"
      },
      "source": [
        "### Задание 14  (2 балла)"
      ]
    },
    {
      "cell_type": "markdown",
      "metadata": {
        "id": "Mv52wusiu8lo"
      },
      "source": [
        "По результатам предыдущего задания у вас должна получиться таблица, в которой все признаки так или иначе представлены числовыми значениями. Попробуйте придумать на основе проведённых исследований данных какую-нибудь формулу, связывающую целевую переменную с признаками, не используя готовых инструментов машинного обучения. По желанию вы можете исключить ещё какие-то признаки, или, наоборот, сформировать новые на основе имеющихся. Возможно, вы захотите отмасштабировать большие наборы численных значений некоторых признаков с помощью интервалов. Цель: реализовать функцию, которая будет принимать на вход набор признаков для объекта выборки и возвращать прогноз целевой переменной (0 или 1). Например, вы можете просто сложить все признаки и возращать ноль, если сумма отрицательная, а в противном случае единицу. Но наверняка можно придумать лучше!\n",
        "Данные уже разделены на набор для обучения, который вы можете использовать как угодно, и тестовый, на котором нужно будет проверить вашу точность. Постарайтесь достичь точности хотя бы 0.6."
      ]
    },
    {
      "cell_type": "code",
      "source": [
        "class Standartizer:\n",
        "  def train(self, X_train: np.array) -> np.array:\n",
        "    self.averages = np.sum(X_train, axis = 0) / X_train.shape[0]\n",
        "    self.deviations = np.sqrt(np.sum((X_train - self.averages) ** 2, axis = 0) / X_train.shape[0])\n",
        "  def use(self, X: np.array) -> np.array:\n",
        "    return np.divide(X - self.averages, self.deviations, where = (self.deviations != 0))\n",
        "\n",
        "class Normalizer:\n",
        "  def train(self, X_train: np.array) -> np.array:\n",
        "    self.subtract = np.min(X_train, axis = 0)\n",
        "    self.divide = np.max(X_train, axis = 0) - self.subtract\n",
        "  def use(self, X: np.array) -> np.array:\n",
        "    return np.divide(X - self.subtract, self.divide, where = (self.divide != 0))"
      ],
      "metadata": {
        "id": "3IQjXmBKkjiQ"
      },
      "execution_count": null,
      "outputs": []
    },
    {
      "cell_type": "code",
      "source": [
        "class PredictorAlwaysGood:\n",
        "  def train(self, X_train: np.array, y_train: np.array) -> None:\n",
        "    return None\n",
        "\n",
        "  def predict(self, X: np.array) -> np.array:\n",
        "    res = np.empty(X.shape[0])\n",
        "    res.fill(1)\n",
        "    return res"
      ],
      "metadata": {
        "id": "m11iK7v7sAPx"
      },
      "execution_count": null,
      "outputs": []
    },
    {
      "cell_type": "code",
      "source": [
        "class PredictorHandmade:\n",
        "  def train(self, X_train: np.array, y_train: np.array) -> None:\n",
        "    return None\n",
        "\n",
        "  def predict(self, X: np.array) -> np.array:\n",
        "    res = np.array([])\n",
        "    for attributes in X:\n",
        "      if (attributes[2] > 11000 or attributes[1] > 45):\n",
        "        res = np.append(res, 0)\n",
        "      else:\n",
        "        res = np.append(res, 1)\n",
        "    return res"
      ],
      "metadata": {
        "id": "VMwJAw-RU39c"
      },
      "execution_count": null,
      "outputs": []
    },
    {
      "cell_type": "code",
      "source": [
        "class PredictorKNN:\n",
        "  def __init__(self, neighbours = 26):\n",
        "    self.neighbours = neighbours\n",
        "    self.dataChanger = Normalizer()\n",
        "\n",
        "  def train(self, X_train: np.array, y_train: np.array) -> None:\n",
        "    self.dataChanger.train(X_train)\n",
        "    self.X_train = self.dataChanger.use(X_train)\n",
        "    self.y_train = y_train\n",
        "    return None\n",
        "\n",
        "  def distances(self, x: np.array):\n",
        "    return np.apply_along_axis(np.sum, 1, np.abs(self.X_train - x))\n",
        "  def predict(self, X: np.array) -> np.array:\n",
        "    X = self.dataChanger.use(X)\n",
        "    res = [ ]\n",
        "    for item in X:\n",
        "        amountOfOnes = self.y_train[np.argsort(self.distances(item))][0:self.neighbours].sum()\n",
        "        res.append(1 if amountOfOnes > self.neighbours / 2 else 0)\n",
        "    return res"
      ],
      "metadata": {
        "id": "Yi6AytbGzSAJ"
      },
      "execution_count": null,
      "outputs": []
    },
    {
      "cell_type": "code",
      "source": [
        "class PredictorLinearRegression:\n",
        "  def __init__(self, breakpoint = 0.5545):\n",
        "    self.breakpoint = breakpoint\n",
        "    self.dataChanger = Standartizer()\n",
        "  def addFreeCoeff(self, X):\n",
        "    freeCoeff = np.empty(X.shape[0])\n",
        "    freeCoeff.fill(1)\n",
        "    return np.concatenate(( np.array([ freeCoeff ]).T, X ), axis = 1)\n",
        "\n",
        "  def train(self, X_train: np.array, y_train: np.array) -> None:num\n",
        "    self.dataChanger.train(X_train)\n",
        "    X_train = self.dataChanger.use(X_train)\n",
        "    X_train = self.addFreeCoeff(X_train)\n",
        "    self.coeffs = np.linalg.inv(X_train.T @ X_train) @ X_train.T @ y_train\n",
        "    return None\n",
        "  def predict(self, X: np.array) -> np.array:\n",
        "    X = self.dataChanger.use(X)\n",
        "    X = self.addFreeCoeff(X)\n",
        "    return (((X @ self.coeffs) > self.breakpoint) * 1)"
      ],
      "metadata": {
        "id": "xqKCijbM8Zyp"
      },
      "execution_count": null,
      "outputs": []
    },
    {
      "cell_type": "code",
      "source": [
        "betterEncoder = {\n",
        "    'telephone': { 'no': 0, 'yes (under customer name)': 1 },\n",
        "    'foreign_worker': { 'no': 0, 'yes': 1 },\n",
        "    'credit_risk': { 'bad': 0, 'good': 1 },\n",
        "    'status':\n",
        "    {\n",
        "        'no checking account': -125,\n",
        "        '... < 0 DM': 0,\n",
        "        '0<= ... < 200 DM': 125,\n",
        "        '... >= 200 DM / salary for at least 1 year': 250\n",
        "    },\n",
        "    'savings':\n",
        "    {\n",
        "        'unknown/no savings account': -250,\n",
        "        '... <  100 DM': 50,\n",
        "        '100 <= ... <  500 DM': 350,\n",
        "        '500 <= ... < 1000 DM': 750,\n",
        "        '... >= 1000 DM': 1250\n",
        "    },\n",
        "    'employment_duration':\n",
        "    {\n",
        "        'unemployed': 0,\n",
        "        '< 1 yr': 0.5,\n",
        "        '1 <= ... < 4 yrs': 2.5,\n",
        "        '4 <= ... < 7 yrs': 5.5,\n",
        "        '>= 7 yrs': 8\n",
        "    },\n",
        "    'installment_rate':\n",
        "    {\n",
        "        '< 20': 12.5,\n",
        "        '20 <= ... < 25': 22.5,\n",
        "        '25 <= ... < 35': 30,\n",
        "        '>= 35': 35\n",
        "    },\n",
        "    'present_residence':\n",
        "    {\n",
        "        '< 1 yr': 0.5,\n",
        "        '1 <= ... < 4 yrs': 3,\n",
        "        '4 <= ... < 7 yrs': 5.5,\n",
        "        '>= 7 yrs': 8\n",
        "     },\n",
        "    'number_credits': { '1': 1, '2-3': 2.5, '4-5': 4.5, '>= 6': 7 },\n",
        "    'people_liable': { '0 to 2': 1, '3 or more': 3 }\n",
        "}\n",
        "data = encode(data, betterEncoder)\n",
        "\n",
        "\n",
        "def setup(X_train, y_train, model):\n",
        "  model = model()\n",
        "  model.train(X_train, y_train)\n",
        "  return model\n",
        "def predict(Xtest: np.array) -> np.array:\n",
        "    return predictor.predict(Xtest)\n",
        "\n",
        "from sklearn.model_selection import train_test_split\n",
        "from sklearn.metrics import accuracy_score\n",
        "X = data.drop('credit_risk', 1).values\n",
        "y = data['credit_risk'].values\n",
        "X_train, X_test, y_train, y_test = train_test_split(X, y, test_size = 0.25, random_state = 10)\n",
        "\n",
        "models = {\n",
        "    \"Always good\": PredictorAlwaysGood, # Interestingly, rather good\n",
        "    \"Handmade\": PredictorHandmade, # A bit better, but doing anything by hand is not good :)\n",
        "    \"KNN\": PredictorKNN,\n",
        "    \"Linear regression\": PredictorLinearRegression\n",
        "}\n",
        "for model in models:\n",
        "  predictor = setup(X_train, y_train, models[model])\n",
        "  print(f\"{model} - {accuracy_score(y_test, predict(X_test))}\")"
      ],
      "metadata": {
        "colab": {
          "base_uri": "https://localhost:8080/"
        },
        "id": "QESKGwJjPXh0",
        "outputId": "fff4b336-da77-4242-c969-3d5617168bdd"
      },
      "execution_count": null,
      "outputs": [
        {
          "output_type": "stream",
          "name": "stderr",
          "text": [
            "<ipython-input-26-602df0d5fc2a>:57: FutureWarning: In a future version of pandas all arguments of DataFrame.drop except for the argument 'labels' will be keyword-only\n",
            "  X = data.drop('credit_risk', 1).values\n"
          ]
        },
        {
          "output_type": "stream",
          "name": "stdout",
          "text": [
            "Always good - 0.66\n",
            "Handmade - 0.68\n",
            "KNN - 0.76\n",
            "Linear regression - 0.748\n"
          ]
        }
      ]
    }
  ],
  "metadata": {
    "colab": {
      "provenance": []
    },
    "kernelspec": {
      "display_name": "Python 3 (ipykernel)",
      "language": "python",
      "name": "python3"
    },
    "language_info": {
      "codemirror_mode": {
        "name": "ipython",
        "version": 3
      },
      "file_extension": ".py",
      "mimetype": "text/x-python",
      "name": "python",
      "nbconvert_exporter": "python",
      "pygments_lexer": "ipython3",
      "version": "3.9.7"
    }
  },
  "nbformat": 4,
  "nbformat_minor": 0
}