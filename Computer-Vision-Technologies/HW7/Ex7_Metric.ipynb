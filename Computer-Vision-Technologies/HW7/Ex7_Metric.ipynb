{
  "nbformat": 4,
  "nbformat_minor": 0,
  "metadata": {
    "colab": {
      "provenance": []
    },
    "kernelspec": {
      "name": "python3",
      "display_name": "Python 3"
    },
    "language_info": {
      "name": "python"
    }
  },
  "cells": [
    {
      "cell_type": "markdown",
      "source": [
        "#Load the small-faces dataset"
      ],
      "metadata": {
        "id": "olUwnI6NTsMS"
      }
    },
    {
      "cell_type": "code",
      "execution_count": null,
      "metadata": {
        "id": "UMuCiNJw8Jmm"
      },
      "outputs": [],
      "source": [
        "from IPython.display import clear_output\n",
        "!wget https://ml.gan4x4.ru/msu/dep-1.9/datasets/small_face_dataset.zip\n",
        "!unzip small_face_dataset.zip\n"
      ]
    },
    {
      "cell_type": "markdown",
      "source": [
        "If dataset in cell above too easy for, you can try http://vis-www.cs.umass.edu/lfw/lfw.tgz\n",
        "\n"
      ],
      "metadata": {
        "id": "BbTWT9hPlCL4"
      }
    },
    {
      "cell_type": "markdown",
      "source": [
        "## Create dataset & dataloader classes"
      ],
      "metadata": {
        "id": "vt05Zny9Twgh"
      }
    },
    {
      "cell_type": "code",
      "source": [
        "# Put your code here"
      ],
      "metadata": {
        "id": "z0larU4SUNTV"
      },
      "execution_count": null,
      "outputs": []
    },
    {
      "cell_type": "markdown",
      "source": [
        "#Define the model for embedding extraction"
      ],
      "metadata": {
        "id": "li77QdswT4JA"
      }
    },
    {
      "cell_type": "code",
      "source": [
        "# Put your code here"
      ],
      "metadata": {
        "id": "aEr0IyF8UTAV"
      },
      "execution_count": null,
      "outputs": []
    },
    {
      "cell_type": "markdown",
      "source": [
        "#Train the model"
      ],
      "metadata": {
        "id": "CLKztd9LT3Ug"
      }
    },
    {
      "cell_type": "code",
      "source": [
        "# Put your code here"
      ],
      "metadata": {
        "id": "LeY0pZtGUWvf"
      },
      "execution_count": null,
      "outputs": []
    },
    {
      "cell_type": "markdown",
      "source": [
        "# Calculate metrics"
      ],
      "metadata": {
        "id": "LvWsq5DKUYPc"
      }
    },
    {
      "cell_type": "code",
      "source": [
        "# Put your code here"
      ],
      "metadata": {
        "id": "VDlVlsAmUkmm"
      },
      "execution_count": null,
      "outputs": []
    },
    {
      "cell_type": "markdown",
      "source": [
        "# Display the results\n",
        "\n",
        "You can use faiss: https://github.com/facebookresearch/faiss"
      ],
      "metadata": {
        "id": "kZPB3NvrUmE7"
      }
    },
    {
      "cell_type": "code",
      "source": [
        "# Put your code here"
      ],
      "metadata": {
        "id": "6niv2IKYUriC"
      },
      "execution_count": null,
      "outputs": []
    },
    {
      "cell_type": "markdown",
      "source": [
        "#Place for conclusion\n",
        "\n",
        "..."
      ],
      "metadata": {
        "id": "W6vtbIUUUD__"
      }
    }
  ]
}