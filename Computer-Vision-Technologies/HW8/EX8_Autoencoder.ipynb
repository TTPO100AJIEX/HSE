{
  "nbformat": 4,
  "nbformat_minor": 0,
  "metadata": {
    "colab": {
      "provenance": [],
      "toc_visible": true
    },
    "kernelspec": {
      "name": "python3",
      "display_name": "Python 3"
    },
    "language_info": {
      "name": "python"
    },
    "accelerator": "GPU"
  },
  "cells": [
    {
      "cell_type": "markdown",
      "source": [
        "# Tasks\n",
        "\n",
        "* Implement vanilla autoencoder\n",
        "* Train it on MNIST dataset MNIST\n",
        "* Display digits recovered dy AE\n",
        "* Display distribution of embeddings in latent space"
      ],
      "metadata": {
        "id": "PJcJtA0OF3CP"
      }
    },
    {
      "cell_type": "markdown",
      "source": [
        "#Dataset\n",
        "\n",
        "http://yann.lecun.com/exdb/mnist/\n",
        "\n",
        "The MNIST database of handwritten digits, has a training set of 60,000 examples, and a test set of 10,000 examples.\n",
        "\n",
        "The images were centered in a 28x28 image by computing the center of mass of the pixels.\n",
        "\n"
      ],
      "metadata": {
        "id": "Q1RSfPrxFzVN"
      }
    },
    {
      "cell_type": "code",
      "execution_count": null,
      "metadata": {
        "id": "JvPsg0rJFrMf"
      },
      "outputs": [],
      "source": [
        "import torch, torchvision\n",
        "from torchvision.datasets import MNIST\n",
        "from torchvision import transforms, utils\n",
        "\n",
        "\n",
        "transf = transforms.Compose([\n",
        "                             transforms.ToTensor(),\n",
        "                             transforms.Normalize( (0.1307) , (0.3081) )\n",
        "                             ])\n",
        "\n",
        "train_dataset = MNIST('mnist',\n",
        "                      train = True,\n",
        "                      download = True,\n",
        "                      transform = transf\n",
        "                      )\n",
        "\n",
        "test_dataset = MNIST('mnist',\n",
        "                     train = False,\n",
        "                     download = True,\n",
        "                     transform = transf\n",
        "                     )"
      ]
    },
    {
      "cell_type": "markdown",
      "source": [
        "Display some samples along with corresponding labels"
      ],
      "metadata": {
        "id": "h4H_0snrb3tr"
      }
    },
    {
      "cell_type": "code",
      "source": [
        "import matplotlib.pyplot as plt\n",
        "from torch.utils.data import  DataLoader\n",
        "\n",
        "# Helper method\n",
        "def show(grid):\n",
        "  plt.axis(\"off\")\n",
        "  plt.imshow(grid.permute(1,2,0).numpy())\n",
        "  plt.show()\n",
        "\n",
        "vis_dataloader = DataLoader(test_dataset, batch_size = 8, shuffle=True)\n",
        "dataiter = iter(vis_dataloader)\n",
        "example_batch = next(dataiter) # img1,  label\n",
        "\n",
        "# display the data\n",
        "grid = torchvision.utils.make_grid(example_batch[0])\n",
        "show(grid)\n",
        "print(example_batch[1].numpy())"
      ],
      "metadata": {
        "id": "tBNRWBLqcAd8"
      },
      "execution_count": null,
      "outputs": []
    },
    {
      "cell_type": "markdown",
      "source": [
        "# Model\n",
        "\n",
        "Implement vanilla autoencoder model."
      ],
      "metadata": {
        "id": "tEjkNhatIwbd"
      }
    },
    {
      "cell_type": "code",
      "source": [
        "import torch.nn as nn\n",
        "\n",
        "class Encoder(nn.Module):\n",
        "    def __init__(self, latent_size):\n",
        "      super().__init__()\n",
        "      self.latent_size = latent_size\n",
        "\n",
        "      # Put your code here\n",
        "\n",
        "    def forward(self,x):\n",
        "\n",
        "      # Put your code here\n",
        "\n",
        "      return  embedding\n",
        "\n",
        "\n",
        "class Decoder(nn.Module):\n",
        "    def __init__(self, latent_size):\n",
        "      super().__init__()\n",
        "      self.latent_size = latent_size\n",
        "\n",
        "      # Put your code here\n",
        "\n",
        "\n",
        "    def forward(self,x):\n",
        "\n",
        "      # Put your code here\n",
        "\n",
        "      return recovered"
      ],
      "metadata": {
        "id": "uSOH58d0JILD"
      },
      "execution_count": null,
      "outputs": []
    },
    {
      "cell_type": "markdown",
      "source": [
        "##Smoke test"
      ],
      "metadata": {
        "id": "drltxlPGhGYp"
      }
    },
    {
      "cell_type": "code",
      "source": [
        "encoder = Encoder(2)\n",
        "dummy = torch.randn((1,1,28,28))\n",
        "print(\"Encoder In\",dummy.shape)\n",
        "embedding = encoder(dummy)\n",
        "print(\"encoder Out\",embedding.shape)\n",
        "\n",
        "\n",
        "decoder =Decoder(2)\n",
        "recovered = decoder(embedding)\n",
        "print(\"Decoder out\",recovered.shape)\n",
        "\n",
        "assert( dummy.shape == recovered.shape) ,\"Decoder out shape must be equal to input shape\""
      ],
      "metadata": {
        "id": "U6CHg3d6hF1f"
      },
      "execution_count": null,
      "outputs": []
    },
    {
      "cell_type": "markdown",
      "source": [
        "###AE\n",
        "\n",
        "Implement AutoEncoder class.\n",
        "Use Decoder and Encoder classes implemented early."
      ],
      "metadata": {
        "id": "1wWqvBLQoCAO"
      }
    },
    {
      "cell_type": "code",
      "source": [
        "class AutoEncoder(nn.Module):\n",
        "  def __init__(self, latent_size):\n",
        "    super().__init__()\n",
        "\n",
        "    # Put your code here\n",
        "\n",
        "  def forward(self,x):\n",
        "    # Put your code here\n",
        "\n",
        "    return recovered_x, embedding"
      ],
      "metadata": {
        "id": "cl4g_HsLlLi3"
      },
      "execution_count": null,
      "outputs": []
    },
    {
      "cell_type": "markdown",
      "source": [
        "# Train"
      ],
      "metadata": {
        "id": "AoB0I8tGkKFs"
      }
    },
    {
      "cell_type": "markdown",
      "source": [
        "Define dataloaders"
      ],
      "metadata": {
        "id": "KTwMOTRSksqp"
      }
    },
    {
      "cell_type": "code",
      "source": [
        "train_dataloader = DataLoader(train_dataset,shuffle=True,batch_size=128)\n",
        "test_dataloader = DataLoader(test_dataset,shuffle=False,batch_size=256)"
      ],
      "metadata": {
        "id": "BgIsdHCBYq7U"
      },
      "execution_count": null,
      "outputs": []
    },
    {
      "cell_type": "markdown",
      "source": [
        "Define main training routine and train your model"
      ],
      "metadata": {
        "id": "kDkLCtkxkvUT"
      }
    },
    {
      "cell_type": "code",
      "source": [
        "from torch import optim\n",
        "from torch.utils.tensorboard import SummaryWriter\n",
        "\n",
        "device = torch.device('cuda' if torch.cuda.is_available() else 'cpu')\n",
        "\n",
        "# Put your code here"
      ],
      "metadata": {
        "id": "X56WacS2kMgj"
      },
      "execution_count": null,
      "outputs": []
    },
    {
      "cell_type": "markdown",
      "source": [
        "## Let's test the model\n",
        "\n",
        "Compare original and recovered digits."
      ],
      "metadata": {
        "id": "XNm_Uw2Ujz2J"
      }
    },
    {
      "cell_type": "code",
      "source": [
        "# put your code here"
      ],
      "metadata": {
        "id": "ITMiHTpolaCg"
      },
      "execution_count": null,
      "outputs": []
    },
    {
      "cell_type": "markdown",
      "source": [
        "Show embeddings positions in latent space"
      ],
      "metadata": {
        "id": "V5snBvMpkAvQ"
      }
    },
    {
      "cell_type": "code",
      "source": [
        "# put your code here"
      ],
      "metadata": {
        "id": "uxvlNJzhl74F"
      },
      "execution_count": null,
      "outputs": []
    },
    {
      "cell_type": "markdown",
      "source": [
        "# Conclusion\n",
        "\n",
        "..."
      ],
      "metadata": {
        "id": "R_dkuRBHCmCR"
      }
    },
    {
      "cell_type": "markdown",
      "source": [
        "# Ideas for extra work\n",
        "\n",
        "* Find the best latent space size\n",
        "* Implement noise filtration with AE\n",
        "* Test vector arithmetic in laent space\n",
        "* Implemet VAE\n",
        "** Use Autoencoder class as base class\n",
        "** Implement VAE Loss class\n",
        "** Plot embeddings manifold in VAE latent space\n",
        "** Compare decoding results VAE latent space with vanilla Autoencoder results\n",
        "* Replace reconstruction loss from MSE to BCE\n",
        "* Implement Conditional Autoencoder or CVAE"
      ],
      "metadata": {
        "id": "hcAAp7sIe89G"
      }
    }
  ]
}