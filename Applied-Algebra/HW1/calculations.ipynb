{
 "cells": [
  {
   "cell_type": "code",
   "execution_count": 1,
   "metadata": {},
   "outputs": [],
   "source": [
    "import sympy\n",
    "\n",
    "def matmul(mat1: sympy.Matrix, mat2: sympy.Matrix):\n",
    "    return mat1 @ mat2\n",
    "\n",
    "def transpose(matrix: sympy.Matrix):\n",
    "    return matrix.T\n",
    "\n",
    "def determinant(matrix: sympy.Matrix):\n",
    "    return matrix.det()\n",
    "\n",
    "def polynomial_roots(polynomial):\n",
    "    return sympy.solve(polynomial)\n",
    "\n",
    "def gaussian_elimination(matrix: sympy.Matrix):\n",
    "    # Maybe does not cover all cases, but works well enough for me\n",
    "    for col in range(min(matrix.shape[0], matrix.shape[1])):\n",
    "        if matrix[col, col] == 0:\n",
    "            for row in range(col + 1, matrix.shape[0]):\n",
    "                matrix[col, :] += matrix[row, :]\n",
    "        if matrix[col, col] == 0:\n",
    "            continue\n",
    "        for row in range(matrix.shape[0]):\n",
    "            if row == col:\n",
    "                continue\n",
    "            matrix[row, :] -= matrix[col, :] * matrix[row, col] / matrix[col, col]\n",
    "        matrix[col, :] /= matrix[col, col]\n",
    "    return matrix\n",
    "\n",
    "def inverse(matrix: sympy.Matrix):\n",
    "    assert matrix.shape[0] == matrix.shape[1]\n",
    "    eye = sympy.eye(matrix.shape[0])\n",
    "    ext = sympy.Matrix.hstack(matrix, eye)\n",
    "    ext = gaussian_elimination(ext)\n",
    "    return ext[:, matrix.shape[0]:]"
   ]
  },
  {
   "cell_type": "markdown",
   "metadata": {},
   "source": [
    "### Task 1"
   ]
  },
  {
   "cell_type": "code",
   "execution_count": 2,
   "metadata": {},
   "outputs": [
    {
     "data": {
      "text/latex": [
       "$\\displaystyle \\left[\\begin{matrix}26257 & 3146 & -11374\\\\3146 & 16456 & -8228\\\\-11374 & -8228 & 23716\\end{matrix}\\right]$"
      ],
      "text/plain": [
       "Matrix([\n",
       "[ 26257,  3146, -11374],\n",
       "[  3146, 16456,  -8228],\n",
       "[-11374, -8228,  23716]])"
      ]
     },
     "execution_count": 2,
     "metadata": {},
     "output_type": "execute_result"
    }
   ],
   "source": [
    "B = sympy.Matrix([\n",
    "    [ -69, 6, -66 ],\n",
    "    [ -34, -128, 64 ],\n",
    "    [ -132, 6, 60 ],\n",
    "    [ -54, 0, 108 ]\n",
    "])\n",
    "BtB = matmul(transpose(B), B)\n",
    "BtB"
   ]
  },
  {
   "cell_type": "code",
   "execution_count": 3,
   "metadata": {},
   "outputs": [
    {
     "data": {
      "text/latex": [
       "$\\displaystyle - \\lambda^{3} + 66429 \\lambda^{2} - 1238101524 \\lambda + 6694969951296$"
      ],
      "text/plain": [
       "-lambda**3 + 66429*lambda**2 - 1238101524*lambda + 6694969951296"
      ]
     },
     "execution_count": 3,
     "metadata": {},
     "output_type": "execute_result"
    }
   ],
   "source": [
    "lambd = sympy.Symbol('lambda')\n",
    "char_pol = determinant(BtB - lambd * sympy.eye(3))\n",
    "char_pol"
   ]
  },
  {
   "cell_type": "code",
   "execution_count": 4,
   "metadata": {},
   "outputs": [
    {
     "data": {
      "text/latex": [
       "$\\displaystyle 39204$"
      ],
      "text/plain": [
       "39204"
      ]
     },
     "metadata": {},
     "output_type": "display_data"
    },
    {
     "data": {
      "text/latex": [
       "$\\displaystyle 17424$"
      ],
      "text/plain": [
       "17424"
      ]
     },
     "metadata": {},
     "output_type": "display_data"
    },
    {
     "data": {
      "text/latex": [
       "$\\displaystyle 9801$"
      ],
      "text/plain": [
       "9801"
      ]
     },
     "metadata": {},
     "output_type": "display_data"
    }
   ],
   "source": [
    "l3, l2, l1 = polynomial_roots(char_pol)\n",
    "display(l1, l2, l3)"
   ]
  },
  {
   "cell_type": "code",
   "execution_count": 5,
   "metadata": {},
   "outputs": [
    {
     "data": {
      "text/latex": [
       "$\\displaystyle 198$"
      ],
      "text/plain": [
       "198"
      ]
     },
     "metadata": {},
     "output_type": "display_data"
    },
    {
     "data": {
      "text/latex": [
       "$\\displaystyle \\left[\\begin{matrix}-12947 & 3146 & -11374\\\\3146 & -22748 & -8228\\\\-11374 & -8228 & -15488\\end{matrix}\\right]$"
      ],
      "text/plain": [
       "Matrix([\n",
       "[-12947,   3146, -11374],\n",
       "[  3146, -22748,  -8228],\n",
       "[-11374,  -8228, -15488]])"
      ]
     },
     "metadata": {},
     "output_type": "display_data"
    },
    {
     "data": {
      "text/latex": [
       "$\\displaystyle \\left[\\begin{matrix}1 & 0 & 1\\\\0 & 1 & \\frac{1}{2}\\\\0 & 0 & 0\\end{matrix}\\right]$"
      ],
      "text/plain": [
       "Matrix([\n",
       "[1, 0,   1],\n",
       "[0, 1, 1/2],\n",
       "[0, 0,   0]])"
      ]
     },
     "metadata": {},
     "output_type": "display_data"
    }
   ],
   "source": [
    "display(sympy.sqrt(l1))\n",
    "display(BtB - l1 * sympy.eye(3))\n",
    "display(gaussian_elimination(BtB - l1 * sympy.eye(3)))"
   ]
  },
  {
   "cell_type": "code",
   "execution_count": 6,
   "metadata": {},
   "outputs": [
    {
     "data": {
      "text/latex": [
       "$\\displaystyle 132$"
      ],
      "text/plain": [
       "132"
      ]
     },
     "metadata": {},
     "output_type": "display_data"
    },
    {
     "data": {
      "text/latex": [
       "$\\displaystyle \\left[\\begin{matrix}8833 & 3146 & -11374\\\\3146 & -968 & -8228\\\\-11374 & -8228 & 6292\\end{matrix}\\right]$"
      ],
      "text/plain": [
       "Matrix([\n",
       "[  8833,  3146, -11374],\n",
       "[  3146,  -968,  -8228],\n",
       "[-11374, -8228,   6292]])"
      ]
     },
     "metadata": {},
     "output_type": "display_data"
    },
    {
     "data": {
      "text/latex": [
       "$\\displaystyle \\left[\\begin{matrix}1 & 0 & -2\\\\0 & 1 & 2\\\\0 & 0 & 0\\end{matrix}\\right]$"
      ],
      "text/plain": [
       "Matrix([\n",
       "[1, 0, -2],\n",
       "[0, 1,  2],\n",
       "[0, 0,  0]])"
      ]
     },
     "metadata": {},
     "output_type": "display_data"
    }
   ],
   "source": [
    "display(sympy.sqrt(l2))\n",
    "display(BtB - l2 * sympy.eye(3))\n",
    "display(gaussian_elimination(BtB - l2 * sympy.eye(3)))"
   ]
  },
  {
   "cell_type": "code",
   "execution_count": 7,
   "metadata": {},
   "outputs": [
    {
     "data": {
      "text/latex": [
       "$\\displaystyle 99$"
      ],
      "text/plain": [
       "99"
      ]
     },
     "metadata": {},
     "output_type": "display_data"
    },
    {
     "data": {
      "text/latex": [
       "$\\displaystyle \\left[\\begin{matrix}16456 & 3146 & -11374\\\\3146 & 6655 & -8228\\\\-11374 & -8228 & 13915\\end{matrix}\\right]$"
      ],
      "text/plain": [
       "Matrix([\n",
       "[ 16456,  3146, -11374],\n",
       "[  3146,  6655,  -8228],\n",
       "[-11374, -8228,  13915]])"
      ]
     },
     "metadata": {},
     "output_type": "display_data"
    },
    {
     "data": {
      "text/latex": [
       "$\\displaystyle \\left[\\begin{matrix}1 & 0 & - \\frac{1}{2}\\\\0 & 1 & -1\\\\0 & 0 & 0\\end{matrix}\\right]$"
      ],
      "text/plain": [
       "Matrix([\n",
       "[1, 0, -1/2],\n",
       "[0, 1,   -1],\n",
       "[0, 0,    0]])"
      ]
     },
     "metadata": {},
     "output_type": "display_data"
    }
   ],
   "source": [
    "display(sympy.sqrt(l3))\n",
    "display(BtB - l3 * sympy.eye(3))\n",
    "display(gaussian_elimination(BtB - l3 * sympy.eye(3)))"
   ]
  },
  {
   "cell_type": "code",
   "execution_count": 8,
   "metadata": {},
   "outputs": [
    {
     "data": {
      "text/latex": [
       "$\\displaystyle \\left[\\begin{matrix}0\\\\\\frac{6}{11}\\\\\\frac{7}{11}\\\\\\frac{6}{11}\\end{matrix}\\right]$"
      ],
      "text/plain": [
       "Matrix([\n",
       "[   0],\n",
       "[6/11],\n",
       "[7/11],\n",
       "[6/11]])"
      ]
     },
     "execution_count": 8,
     "metadata": {},
     "output_type": "execute_result"
    }
   ],
   "source": [
    "u1 = sympy.Matrix([ -2, -1, 2 ]) / sympy.S(3)\n",
    "matmul(B, u1) / sympy.sqrt(l1)"
   ]
  },
  {
   "cell_type": "code",
   "execution_count": 9,
   "metadata": {},
   "outputs": [
    {
     "data": {
      "text/latex": [
       "$\\displaystyle \\left[\\begin{matrix}- \\frac{6}{11}\\\\\\frac{7}{11}\\\\- \\frac{6}{11}\\\\0\\end{matrix}\\right]$"
      ],
      "text/plain": [
       "Matrix([\n",
       "[-6/11],\n",
       "[ 7/11],\n",
       "[-6/11],\n",
       "[    0]])"
      ]
     },
     "execution_count": 9,
     "metadata": {},
     "output_type": "execute_result"
    }
   ],
   "source": [
    "u2 = sympy.Matrix([ 2, -2, 1 ]) / sympy.S(3)\n",
    "matmul(B, u2) / sympy.sqrt(l2)"
   ]
  },
  {
   "cell_type": "code",
   "execution_count": 10,
   "metadata": {},
   "outputs": [
    {
     "data": {
      "text/latex": [
       "$\\displaystyle \\left[\\begin{matrix}- \\frac{7}{11}\\\\- \\frac{6}{11}\\\\0\\\\\\frac{6}{11}\\end{matrix}\\right]$"
      ],
      "text/plain": [
       "Matrix([\n",
       "[-7/11],\n",
       "[-6/11],\n",
       "[    0],\n",
       "[ 6/11]])"
      ]
     },
     "execution_count": 10,
     "metadata": {},
     "output_type": "execute_result"
    }
   ],
   "source": [
    "u3 = sympy.Matrix([ 1, 2, 2 ]) / sympy.S(3)\n",
    "matmul(B, u3) / sympy.sqrt(l3)"
   ]
  },
  {
   "cell_type": "code",
   "execution_count": 11,
   "metadata": {},
   "outputs": [
    {
     "data": {
      "text/latex": [
       "$\\displaystyle \\left[\\begin{matrix}1 & 0 & 0 & - \\frac{6}{7}\\\\0 & 1 & 0 & 0\\\\0 & 0 & 1 & \\frac{6}{7}\\end{matrix}\\right]$"
      ],
      "text/plain": [
       "Matrix([\n",
       "[1, 0, 0, -6/7],\n",
       "[0, 1, 0,    0],\n",
       "[0, 0, 1,  6/7]])"
      ]
     },
     "execution_count": 11,
     "metadata": {},
     "output_type": "execute_result"
    }
   ],
   "source": [
    "V = sympy.Matrix([\n",
    "    [ 0, 6, 7, 6 ],\n",
    "    [ -6, 7, -6, 0 ],\n",
    "    [ -7, -6, 0, 6 ]\n",
    "])\n",
    "gaussian_elimination(V)"
   ]
  },
  {
   "cell_type": "markdown",
   "metadata": {},
   "source": [
    "### Task 2"
   ]
  },
  {
   "cell_type": "code",
   "execution_count": 12,
   "metadata": {},
   "outputs": [
    {
     "data": {
      "text/latex": [
       "$\\displaystyle \\left[\\begin{matrix}4 & -11\\\\-2 & 7\\\\-1 & 4\\\\3 & -8\\end{matrix}\\right]$"
      ],
      "text/plain": [
       "Matrix([\n",
       "[ 4, -11],\n",
       "[-2,   7],\n",
       "[-1,   4],\n",
       "[ 3,  -8]])"
      ]
     },
     "metadata": {},
     "output_type": "display_data"
    },
    {
     "data": {
      "text/latex": [
       "$\\displaystyle \\left[\\begin{matrix}1 & 0 & 12\\\\0 & 1 & 3\\end{matrix}\\right]$"
      ],
      "text/plain": [
       "Matrix([\n",
       "[1, 0, 12],\n",
       "[0, 1,  3]])"
      ]
     },
     "metadata": {},
     "output_type": "display_data"
    }
   ],
   "source": [
    "F = sympy.Matrix([\n",
    "    [ 4, -11 ],\n",
    "    [ -2, 7 ],\n",
    "    [ -1, 4 ],\n",
    "    [ 3, -8 ]\n",
    "])\n",
    "G = sympy.Matrix([\n",
    "    [ 1, 0, 12 ],\n",
    "    [ 0, 1, 3 ]\n",
    "])\n",
    "display(F, G)"
   ]
  },
  {
   "cell_type": "code",
   "execution_count": 13,
   "metadata": {},
   "outputs": [
    {
     "data": {
      "text/latex": [
       "$\\displaystyle \\left[\\begin{matrix}145 & 36\\\\36 & 10\\end{matrix}\\right]$"
      ],
      "text/plain": [
       "Matrix([\n",
       "[145, 36],\n",
       "[ 36, 10]])"
      ]
     },
     "metadata": {},
     "output_type": "display_data"
    },
    {
     "data": {
      "text/latex": [
       "$\\displaystyle \\left[\\begin{matrix}10 & -36\\\\-36 & 145\\\\12 & 3\\end{matrix}\\right]$"
      ],
      "text/plain": [
       "Matrix([\n",
       "[ 10, -36],\n",
       "[-36, 145],\n",
       "[ 12,   3]])"
      ]
     },
     "metadata": {},
     "output_type": "display_data"
    }
   ],
   "source": [
    "ggt = matmul(G, transpose(G))\n",
    "display(ggt)\n",
    "g_pinv = matmul(transpose(G), inverse(ggt)) * 154\n",
    "display(g_pinv)"
   ]
  },
  {
   "cell_type": "code",
   "execution_count": 14,
   "metadata": {},
   "outputs": [
    {
     "data": {
      "text/latex": [
       "$\\displaystyle \\left[\\begin{matrix}30 & -86\\\\-86 & 250\\end{matrix}\\right]$"
      ],
      "text/plain": [
       "Matrix([\n",
       "[ 30, -86],\n",
       "[-86, 250]])"
      ]
     },
     "metadata": {},
     "output_type": "display_data"
    },
    {
     "data": {
      "text/latex": [
       "$\\displaystyle \\left[\\begin{matrix}27 & 51 & 47 & 31\\\\7 & 19 & 17 & 9\\end{matrix}\\right]$"
      ],
      "text/plain": [
       "Matrix([\n",
       "[27, 51, 47, 31],\n",
       "[ 7, 19, 17,  9]])"
      ]
     },
     "metadata": {},
     "output_type": "display_data"
    }
   ],
   "source": [
    "ftf = matmul(transpose(F), F)\n",
    "display(ftf)\n",
    "f_pinv = matmul(inverse(ftf), transpose(F)) * 52\n",
    "display(f_pinv)"
   ]
  },
  {
   "cell_type": "code",
   "execution_count": 15,
   "metadata": {},
   "outputs": [
    {
     "data": {
      "text/latex": [
       "$\\displaystyle \\left[\\begin{matrix}18 & -174 & -142 & -14\\\\43 & 919 & 773 & 189\\\\345 & 669 & 615 & 399\\end{matrix}\\right]$"
      ],
      "text/plain": [
       "Matrix([\n",
       "[ 18, -174, -142, -14],\n",
       "[ 43,  919,  773, 189],\n",
       "[345,  669,  615, 399]])"
      ]
     },
     "execution_count": 15,
     "metadata": {},
     "output_type": "execute_result"
    }
   ],
   "source": [
    "matmul(g_pinv, f_pinv)"
   ]
  },
  {
   "cell_type": "markdown",
   "metadata": {},
   "source": [
    "### Task 3"
   ]
  },
  {
   "cell_type": "code",
   "execution_count": 16,
   "metadata": {},
   "outputs": [
    {
     "data": {
      "text/latex": [
       "$\\displaystyle \\left[\\begin{matrix}1 & 0 & 0 & 19\\\\0 & 1 & 0 & -19\\\\0 & 0 & 1 & 3\\\\0 & 0 & 0 & 0\\end{matrix}\\right]$"
      ],
      "text/plain": [
       "Matrix([\n",
       "[1, 0, 0,  19],\n",
       "[0, 1, 0, -19],\n",
       "[0, 0, 1,   3],\n",
       "[0, 0, 0,   0]])"
      ]
     },
     "execution_count": 16,
     "metadata": {},
     "output_type": "execute_result"
    }
   ],
   "source": [
    "A = sympy.Matrix([\n",
    "    [ 4, 6, 12, -2 ],\n",
    "    [ 3, 5, 15, 7 ],\n",
    "    [ -1, 1, 8, -14 ],\n",
    "    [ -2, 0, 9, -11 ]\n",
    "])\n",
    "b = sympy.Matrix([ 0, 4, 1, 2 ])\n",
    "gaussian_elimination(A)"
   ]
  },
  {
   "cell_type": "code",
   "execution_count": 17,
   "metadata": {},
   "outputs": [
    {
     "data": {
      "text/latex": [
       "$\\displaystyle \\left[\\begin{matrix}- \\frac{321985}{734928}\\\\- \\frac{284111}{734928}\\\\\\frac{94799}{244976}\\\\\\frac{133585}{734928}\\end{matrix}\\right]$"
      ],
      "text/plain": [
       "Matrix([\n",
       "[-321985/734928],\n",
       "[-284111/734928],\n",
       "[  94799/244976],\n",
       "[ 133585/734928]])"
      ]
     },
     "metadata": {},
     "output_type": "display_data"
    },
    {
     "data": {
      "text/latex": [
       "$\\displaystyle \\left[\\begin{matrix}-0.438117747588879\\\\-0.386583447630244\\\\0.386972601397688\\\\0.181766104978991\\end{matrix}\\right]$"
      ],
      "text/plain": [
       "Matrix([\n",
       "[-0.438117747588879],\n",
       "[-0.386583447630244],\n",
       "[ 0.386972601397688],\n",
       "[ 0.181766104978991]])"
      ]
     },
     "metadata": {},
     "output_type": "display_data"
    }
   ],
   "source": [
    "F = sympy.Matrix([\n",
    "    [ 4, 6, 12 ],\n",
    "    [ 3, 5, 15 ],\n",
    "    [ -1, 1, 8 ],\n",
    "    [ -2, 0, 9 ]\n",
    "])\n",
    "G = sympy.Matrix([\n",
    "    [ 1, 0, 0, 19 ],\n",
    "    [ 0, 1, 0, -19 ],\n",
    "    [ 0, 0, 1, 3 ]\n",
    "])\n",
    "\n",
    "ggt = matmul(G, transpose(G))\n",
    "g_pinv = matmul(transpose(G), inverse(ggt))\n",
    "\n",
    "ftf = matmul(transpose(F), F)\n",
    "f_pinv = matmul(inverse(ftf), transpose(F))\n",
    "\n",
    "a_pinv = matmul(g_pinv, f_pinv)\n",
    "ans = matmul(a_pinv, b)\n",
    "display(ans)\n",
    "display(ans.evalf())"
   ]
  },
  {
   "cell_type": "markdown",
   "metadata": {},
   "source": [
    "### Task 4"
   ]
  },
  {
   "cell_type": "code",
   "execution_count": 18,
   "metadata": {},
   "outputs": [
    {
     "data": {
      "text/latex": [
       "$\\displaystyle - \\frac{55 x^{3}}{24} - \\frac{x^{2}}{8} + \\frac{161 x}{12} - 2$"
      ],
      "text/plain": [
       "-55*x**3/24 - x**2/8 + 161*x/12 - 2"
      ]
     },
     "execution_count": 18,
     "metadata": {},
     "output_type": "execute_result"
    }
   ],
   "source": [
    "x = sympy.Symbol('x')\n",
    "f1 = -11 * x * (x - 1) * (x - 2) / sympy.S(-24)\n",
    "f2 = -1 * (x + 2) * (x - 2) * (x - 1) / sympy.S(2)\n",
    "f3 = 3 * x * (x + 2) * (x - 2) / sympy.S(-1)\n",
    "f4 = 3 * x * (x - 1) * (x + 2) / sympy.S(4)\n",
    "f = (f1 + f2 + f3 + f4).simplify()\n",
    "f"
   ]
  },
  {
   "cell_type": "code",
   "execution_count": 19,
   "metadata": {},
   "outputs": [
    {
     "data": {
      "image/png": "[encoded data removed]",
      "text/plain": [
       "<Figure size 640x480 with 1 Axes>"
      ]
     },
     "metadata": {},
     "output_type": "display_data"
    },
    {
     "data": {
      "text/plain": [
       "<sympy.plotting.plot.Plot at 0x1abe7424690>"
      ]
     },
     "execution_count": 19,
     "metadata": {},
     "output_type": "execute_result"
    }
   ],
   "source": [
    "sympy.plot(f, xlim = (-3, 3), ylim = (-15, 15))"
   ]
  },
  {
   "cell_type": "markdown",
   "metadata": {},
   "source": [
    "### Task 5"
   ]
  },
  {
   "cell_type": "code",
   "execution_count": 20,
   "metadata": {},
   "outputs": [
    {
     "data": {
      "text/latex": [
       "$\\displaystyle \\left[\\begin{matrix}5 t^{3} - 12 t^{2} + 15 t + 1\\\\t^{3} - 21 t^{2} + 18 t + 2\\end{matrix}\\right]$"
      ],
      "text/plain": [
       "Matrix([\n",
       "[5*t**3 - 12*t**2 + 15*t + 1],\n",
       "[  t**3 - 21*t**2 + 18*t + 2]])"
      ]
     },
     "execution_count": 20,
     "metadata": {},
     "output_type": "execute_result"
    }
   ],
   "source": [
    "t = sympy.Symbol('t')\n",
    "b1 = (1 - t) ** 3 * sympy.Matrix([ 1, 2 ])\n",
    "b2 = 3 * (1 - t) ** 2 * t * sympy.Matrix([ 6, 8 ])\n",
    "b3 = 3 * (1 - t) * t ** 2 * sympy.Matrix([ 7, 7 ])\n",
    "b4 = t ** 3 * sympy.Matrix([ 9, 0 ])\n",
    "b = sympy.simplify(b1 + b2 + b3 + b4)\n",
    "b"
   ]
  },
  {
   "cell_type": "code",
   "execution_count": 21,
   "metadata": {},
   "outputs": [
    {
     "data": {
      "image/png": "[encoded data removed]",
      "text/plain": [
       "<Figure size 640x480 with 1 Axes>"
      ]
     },
     "metadata": {},
     "output_type": "display_data"
    },
    {
     "data": {
      "text/plain": [
       "<sympy.plotting.plot.Plot at 0x1ab89a42190>"
      ]
     },
     "execution_count": 21,
     "metadata": {},
     "output_type": "execute_result"
    }
   ],
   "source": [
    "sympy.plot_parametric((b[0], b[1]), (t, 0, 1))"
   ]
  },
  {
   "cell_type": "markdown",
   "metadata": {},
   "source": [
    "### Task 7"
   ]
  },
  {
   "cell_type": "markdown",
   "metadata": {},
   "source": [
    "#### 1 способ"
   ]
  },
  {
   "cell_type": "code",
   "execution_count": 22,
   "metadata": {},
   "outputs": [],
   "source": [
    "x = sympy.Symbol('x')\n",
    "v1 = 1\n",
    "v2 = x\n",
    "v3 = x ** 2\n",
    "v4 = x ** 3\n",
    "\n",
    "def skalmul(f, g, extract_pi = True):\n",
    "    d = (2 * x - 4) ** 2\n",
    "    func = f * g / sympy.sqrt(1 - d / 16)\n",
    "    if extract_pi:\n",
    "        func /= sympy.pi\n",
    "    integral = sympy.integrate(func.simplify(), (x, 0, 4), manual = True).evalf()\n",
    "    if extract_pi:\n",
    "        integral *= sympy.pi\n",
    "    return integral"
   ]
  },
  {
   "cell_type": "code",
   "execution_count": 23,
   "metadata": {},
   "outputs": [
    {
     "data": {
      "text/latex": [
       "$\\displaystyle 4.0 \\pi$"
      ],
      "text/plain": [
       "4.0*pi"
      ]
     },
     "metadata": {},
     "output_type": "display_data"
    },
    {
     "data": {
      "text/latex": [
       "$\\displaystyle 2.0 \\pi$"
      ],
      "text/plain": [
       "2.0*pi"
      ]
     },
     "metadata": {},
     "output_type": "display_data"
    }
   ],
   "source": [
    "b1 = v1\n",
    "display(skalmul(b1, v2))\n",
    "display(skalmul(b1, b1))"
   ]
  },
  {
   "cell_type": "code",
   "execution_count": 24,
   "metadata": {},
   "outputs": [
    {
     "data": {
      "text/latex": [
       "$\\displaystyle 12.0 \\pi$"
      ],
      "text/plain": [
       "12.0*pi"
      ]
     },
     "metadata": {},
     "output_type": "display_data"
    },
    {
     "data": {
      "text/latex": [
       "$\\displaystyle 16.0 \\pi$"
      ],
      "text/plain": [
       "16.0*pi"
      ]
     },
     "metadata": {},
     "output_type": "display_data"
    },
    {
     "data": {
      "text/latex": [
       "$\\displaystyle 4.0 \\pi$"
      ],
      "text/plain": [
       "4.0*pi"
      ]
     },
     "metadata": {},
     "output_type": "display_data"
    }
   ],
   "source": [
    "b2 = x - 2\n",
    "display(skalmul(v3, b1))\n",
    "display(skalmul(v3, b2))\n",
    "display(skalmul(b2, b2))"
   ]
  },
  {
   "cell_type": "code",
   "execution_count": 25,
   "metadata": {},
   "outputs": [
    {
     "data": {
      "text/latex": [
       "$\\displaystyle 40.0 \\pi$"
      ],
      "text/plain": [
       "40.0*pi"
      ]
     },
     "metadata": {},
     "output_type": "display_data"
    },
    {
     "data": {
      "text/latex": [
       "$\\displaystyle 60.0 \\pi$"
      ],
      "text/plain": [
       "60.0*pi"
      ]
     },
     "metadata": {},
     "output_type": "display_data"
    },
    {
     "data": {
      "text/latex": [
       "$\\displaystyle 24.0 \\pi$"
      ],
      "text/plain": [
       "24.0*pi"
      ]
     },
     "metadata": {},
     "output_type": "display_data"
    },
    {
     "data": {
      "text/latex": [
       "$\\displaystyle 4.0 \\pi$"
      ],
      "text/plain": [
       "4.0*pi"
      ]
     },
     "metadata": {},
     "output_type": "display_data"
    }
   ],
   "source": [
    "b3 = x ** 2 - 4 * x + 2\n",
    "display(skalmul(v4, b1))\n",
    "display(skalmul(v4, b2))\n",
    "display(skalmul(v4, b3))\n",
    "display(skalmul(b3, b3))"
   ]
  },
  {
   "cell_type": "code",
   "execution_count": 26,
   "metadata": {},
   "outputs": [
    {
     "data": {
      "text/latex": [
       "$\\displaystyle 20.0359095658379$"
      ],
      "text/plain": [
       "20.0359095658379"
      ]
     },
     "metadata": {},
     "output_type": "display_data"
    },
    {
     "data": {
      "text/latex": [
       "$\\displaystyle 8.05587884880847$"
      ],
      "text/plain": [
       "8.05587884880847"
      ]
     },
     "metadata": {},
     "output_type": "display_data"
    },
    {
     "data": {
      "text/latex": [
       "$\\displaystyle -0.847102907354178$"
      ],
      "text/plain": [
       "-0.847102907354178"
      ]
     },
     "metadata": {},
     "output_type": "display_data"
    },
    {
     "data": {
      "text/latex": [
       "$\\displaystyle 0.180321876012497$"
      ],
      "text/plain": [
       "0.180321876012497"
      ]
     },
     "metadata": {},
     "output_type": "display_data"
    },
    {
     "data": {
      "text/latex": [
       "$\\displaystyle 4.0 \\pi$"
      ],
      "text/plain": [
       "4.0*pi"
      ]
     },
     "metadata": {},
     "output_type": "display_data"
    }
   ],
   "source": [
    "f = sympy.sqrt(4 * x + 3)\n",
    "b4 = x ** 3 - 6 * (x ** 2) + 9 * x - 2\n",
    "k1 = skalmul(b1, f, extract_pi = False)\n",
    "k2 = skalmul(b2, f, extract_pi = False)\n",
    "k3 = skalmul(b3, f, extract_pi = False)\n",
    "k4 = skalmul(b4, f, extract_pi = False)\n",
    "display(k1)\n",
    "display(k2)\n",
    "display(k3)\n",
    "display(k4)\n",
    "display(skalmul(b4, b4))"
   ]
  },
  {
   "cell_type": "code",
   "execution_count": 27,
   "metadata": {},
   "outputs": [
    {
     "data": {
      "text/latex": [
       "$\\displaystyle 3.18881404674529$"
      ],
      "text/plain": [
       "3.18881404674529"
      ]
     },
     "metadata": {},
     "output_type": "display_data"
    },
    {
     "data": {
      "text/latex": [
       "$\\displaystyle 0.641066469868658$"
      ],
      "text/plain": [
       "0.641066469868658"
      ]
     },
     "metadata": {},
     "output_type": "display_data"
    },
    {
     "data": {
      "text/latex": [
       "$\\displaystyle -0.0674103075064666$"
      ],
      "text/plain": [
       "-0.0674103075064666"
      ]
     },
     "metadata": {},
     "output_type": "display_data"
    },
    {
     "data": {
      "text/latex": [
       "$\\displaystyle 0.0143495589574964$"
      ],
      "text/plain": [
       "0.0143495589574964"
      ]
     },
     "metadata": {},
     "output_type": "display_data"
    }
   ],
   "source": [
    "k1 /= 2 * sympy.pi\n",
    "k2 /= 4 * sympy.pi\n",
    "k3 /= 4 * sympy.pi\n",
    "k4 /= 4 * sympy.pi\n",
    "display(k1.evalf())\n",
    "display(k2.evalf())\n",
    "display(k3.evalf())\n",
    "display(k4.evalf())"
   ]
  },
  {
   "cell_type": "code",
   "execution_count": 28,
   "metadata": {},
   "outputs": [
    {
     "data": {
      "text/latex": [
       "$\\displaystyle 0.0143495589574964 x^{3} - 0.153507661251445 x^{2} + 1.03985373051199 x + 1.74316137408004$"
      ],
      "text/plain": [
       "0.0143495589574964*x**3 - 0.153507661251445*x**2 + 1.03985373051199*x + 1.74316137408004"
      ]
     },
     "execution_count": 28,
     "metadata": {},
     "output_type": "execute_result"
    }
   ],
   "source": [
    "ans = k1 * b1 + k2 * b2 + k3 * b3 + k4 * b4\n",
    "ans.simplify().evalf()"
   ]
  },
  {
   "cell_type": "markdown",
   "metadata": {},
   "source": [
    "#### 2 способ"
   ]
  },
  {
   "cell_type": "code",
   "execution_count": 29,
   "metadata": {},
   "outputs": [],
   "source": [
    "x = sympy.Symbol('x')\n",
    "b1 = 1\n",
    "b2 = x\n",
    "b3 = 2 * x ** 2 - 1\n",
    "b4 = 4 * x ** 3 - 3 * x\n",
    "f = sympy.sqrt(8 * x + 11)\n",
    "\n",
    "def skalmul(f, g, extract_pi = True):\n",
    "    func = f * g / sympy.sqrt(1 - x ** 2)\n",
    "    if extract_pi:\n",
    "        func /= sympy.pi\n",
    "    integral = 2 * sympy.integrate(func.simplify(), (x, -1, 1), manual = True).evalf()\n",
    "    if extract_pi:\n",
    "        integral *= sympy.pi\n",
    "    return integral"
   ]
  },
  {
   "cell_type": "code",
   "execution_count": 30,
   "metadata": {},
   "outputs": [
    {
     "data": {
      "text/latex": [
       "$\\displaystyle 20.0359095658379$"
      ],
      "text/plain": [
       "20.0359095658379"
      ]
     },
     "metadata": {},
     "output_type": "display_data"
    },
    {
     "data": {
      "text/latex": [
       "$\\displaystyle 4.02793942440424$"
      ],
      "text/plain": [
       "4.02793942440424"
      ]
     },
     "metadata": {},
     "output_type": "display_data"
    },
    {
     "data": {
      "text/latex": [
       "$\\displaystyle -0.423551453677089$"
      ],
      "text/plain": [
       "-0.423551453677089"
      ]
     },
     "metadata": {},
     "output_type": "display_data"
    },
    {
     "data": {
      "text/latex": [
       "$\\displaystyle 0.0901609380062487$"
      ],
      "text/plain": [
       "0.0901609380062487"
      ]
     },
     "metadata": {},
     "output_type": "display_data"
    }
   ],
   "source": [
    "k1 = skalmul(b1, f, extract_pi = False)\n",
    "k2 = skalmul(b2, f, extract_pi = False)\n",
    "k3 = skalmul(b3, f, extract_pi = False)\n",
    "k4 = skalmul(b4, f, extract_pi = False)\n",
    "display(k1)\n",
    "display(k2)\n",
    "display(k3)\n",
    "display(k4)"
   ]
  },
  {
   "cell_type": "code",
   "execution_count": 31,
   "metadata": {},
   "outputs": [
    {
     "data": {
      "text/latex": [
       "$\\displaystyle 3.18881404674529$"
      ],
      "text/plain": [
       "3.18881404674529"
      ]
     },
     "metadata": {},
     "output_type": "display_data"
    },
    {
     "data": {
      "text/latex": [
       "$\\displaystyle 1.28213293973732$"
      ],
      "text/plain": [
       "1.28213293973732"
      ]
     },
     "metadata": {},
     "output_type": "display_data"
    },
    {
     "data": {
      "text/latex": [
       "$\\displaystyle -0.134820615012933$"
      ],
      "text/plain": [
       "-0.134820615012933"
      ]
     },
     "metadata": {},
     "output_type": "display_data"
    },
    {
     "data": {
      "text/latex": [
       "$\\displaystyle 0.0286991179149928$"
      ],
      "text/plain": [
       "0.0286991179149928"
      ]
     },
     "metadata": {},
     "output_type": "display_data"
    }
   ],
   "source": [
    "k1 /= 2 * sympy.pi\n",
    "k2 /= sympy.pi\n",
    "k3 /= sympy.pi\n",
    "k4 /= sympy.pi\n",
    "display(k1.evalf())\n",
    "display(k2.evalf())\n",
    "display(k3.evalf())\n",
    "display(k4.evalf())"
   ]
  },
  {
   "cell_type": "code",
   "execution_count": 32,
   "metadata": {},
   "outputs": [
    {
     "data": {
      "text/latex": [
       "$\\displaystyle 0.114796471659971 x^{3} - 0.269641230025866 x^{2} + 1.19603558599234 x + 3.32363466175822$"
      ],
      "text/plain": [
       "0.114796471659971*x**3 - 0.269641230025866*x**2 + 1.19603558599234*x + 3.32363466175822"
      ]
     },
     "execution_count": 32,
     "metadata": {},
     "output_type": "execute_result"
    }
   ],
   "source": [
    "ans = k1 * b1 + k2 * b2 + k3 * b3 + k4 * b4\n",
    "ans.simplify().evalf()"
   ]
  },
  {
   "cell_type": "code",
   "execution_count": 33,
   "metadata": {},
   "outputs": [
    {
     "data": {
      "text/latex": [
       "$\\displaystyle 0.0143495589574964 x^{3} - 0.153507661251445 x^{2} + 1.03985373051199 x + 1.74316137408004$"
      ],
      "text/plain": [
       "0.0143495589574964*x**3 - 0.153507661251445*x**2 + 1.03985373051199*x + 1.74316137408004"
      ]
     },
     "execution_count": 33,
     "metadata": {},
     "output_type": "execute_result"
    }
   ],
   "source": [
    "ans.subs({ x: (x - 2) / 2 }).simplify().evalf()"
   ]
  },
  {
   "cell_type": "markdown",
   "metadata": {},
   "source": [
    "### Task 8"
   ]
  },
  {
   "cell_type": "code",
   "execution_count": 34,
   "metadata": {},
   "outputs": [],
   "source": [
    "l = sympy.Symbol('lambda')\n",
    "q = sympy.Symbol('q')"
   ]
  },
  {
   "cell_type": "code",
   "execution_count": 35,
   "metadata": {},
   "outputs": [
    {
     "data": {
      "text/latex": [
       "$\\displaystyle \\lambda^{2} + \\lambda \\left(6 q - 5\\right) - 20 q^{2} - 38 q$"
      ],
      "text/plain": [
       "lambda**2 + lambda*(6*q - 5) - 20*q**2 - 38*q"
      ]
     },
     "execution_count": 35,
     "metadata": {},
     "output_type": "execute_result"
    }
   ],
   "source": [
    "char_poly = (2 * q + 4 - l) * (1 - 8 * q - l) - (2 * q + 2) ** 2\n",
    "char_poly.simplify().collect(l)"
   ]
  }
 ],
 "metadata": {
  "kernelspec": {
   "display_name": "Python 3",
   "language": "python",
   "name": "python3"
  },
  "language_info": {
   "codemirror_mode": {
    "name": "ipython",
    "version": 3
   },
   "file_extension": ".py",
   "mimetype": "text/x-python",
   "name": "python",
   "nbconvert_exporter": "python",
   "pygments_lexer": "ipython3",
   "version": "3.11.0"
  }
 },
 "nbformat": 4,
 "nbformat_minor": 2
}
