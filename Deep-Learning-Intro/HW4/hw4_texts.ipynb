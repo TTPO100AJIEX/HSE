{
  "cells": [
    {
      "cell_type": "markdown",
      "metadata": {
        "id": "N0MMALtdLU6F"
      },
      "source": [
        "<center>\n",
        "<img src=\"https://raw.githubusercontent.com/dvgodoy/PyTorch101_ODSC_Europe2020/master/images/linear_dogs.jpg\" width=\"800\">\n",
        "\n",
        "# Основы глубинного обучения: домашнее задание 4\n",
        "</center>"
      ]
    },
    {
      "cell_type": "markdown",
      "metadata": {
        "id": "W2LjTioKM_zP"
      },
      "source": [
        "## Общая информация"
      ]
    },
    {
      "cell_type": "markdown",
      "metadata": {},
      "source": [
        "__Дата выдачи:__ 09.12.2023\n",
        "\n",
        "__Дедлайн:__ 23:59MSK 18.12.2023\n",
        "\n",
        "В случае этой домашки мягкий дедлан совпадает с жёстким."
      ]
    },
    {
      "cell_type": "markdown",
      "metadata": {
        "id": "pGGDD519LWaa"
      },
      "source": [
        "## Оценивание и штрафы"
      ]
    },
    {
      "cell_type": "markdown",
      "metadata": {},
      "source": [
        "Каждая из задач имеет определенную «стоимость» (указана в скобках около задачи). Максимально допустимая оценка за работу — 5.2 балла (3 основных балла и ещё 2.2 бонусных).\n",
        "\n",
        "Задание выполняется самостоятельно. «Похожие» решения считаются плагиатом и все задействованные студенты (в том числе те, у кого списали) не могут получить за него больше 0 баллов. Если вы нашли решение какого-то из заданий (или его часть) в открытом источнике, необходимо указать ссылку на этот источник (скорее всего вы будете не единственным, кто это нашел, поэтому чтобы исключить подозрение в плагиате, необходима ссылка на источник)."
      ]
    },
    {
      "cell_type": "code",
      "execution_count": 1,
      "metadata": {
        "id": "e88B7C_7M_zQ"
      },
      "outputs": [
        {
          "name": "stderr",
          "output_type": "stream",
          "text": [
            "Seed set to 42\n"
          ]
        },
        {
          "name": "stdout",
          "output_type": "stream",
          "text": [
            "cuda\n"
          ]
        }
      ],
      "source": [
        "import gc\n",
        "import os\n",
        "import re\n",
        "import tqdm\n",
        "import math\n",
        "import random\n",
        "import warnings\n",
        "import collections\n",
        "\n",
        "import nltk\n",
        "import torch\n",
        "import numpy\n",
        "import wandb\n",
        "import pandas\n",
        "import transformers\n",
        "import pytorch_lightning\n",
        "import matplotlib.pyplot as plt\n",
        "\n",
        "device = torch.device(\n",
        "    \"cuda\" if torch.cuda.is_available()\n",
        "    else \"mps\" if torch.backends.mps.is_available()\n",
        "    else \"cpu\"\n",
        ")\n",
        "print(device)\n",
        "\n",
        "RANDOM_STATE = 42\n",
        "def set_random_seed(seed: int) -> None:\n",
        "    random.seed(seed)\n",
        "    numpy.random.seed(seed)\n",
        "    torch.manual_seed(seed)\n",
        "    torch.cuda.manual_seed(seed)\n",
        "    pytorch_lightning.seed_everything(seed)\n",
        "    os.environ[\"PYTHONHASHSEED\"] = str(seed)\n",
        "    torch.backends.cudnn.deterministic = True\n",
        "def fix_random() -> None:\n",
        "    return set_random_seed(RANDOM_STATE)\n",
        "fix_random()\n",
        "\n",
        "warnings.filterwarnings(\"ignore\")"
      ]
    },
    {
      "cell_type": "code",
      "execution_count": 2,
      "metadata": {},
      "outputs": [
        {
          "name": "stderr",
          "output_type": "stream",
          "text": [
            "Failed to detect the name of this notebook, you can set it manually with the WANDB_NOTEBOOK_NAME environment variable to enable code saving.\n"
          ]
        },
        {
          "name": "stderr",
          "output_type": "stream",
          "text": [
            "\u001b[34m\u001b[1mwandb\u001b[0m: Currently logged in as: \u001b[33mttpo100ajiex\u001b[0m (\u001b[33mhse-iad\u001b[0m). Use \u001b[1m`wandb login --relogin`\u001b[0m to force relogin\n"
          ]
        },
        {
          "data": {
            "text/plain": [
              "True"
            ]
          },
          "execution_count": 2,
          "metadata": {},
          "output_type": "execute_result"
        }
      ],
      "source": [
        "wandb.login(anonymous = \"allow\")"
      ]
    },
    {
      "cell_type": "markdown",
      "metadata": {
        "id": "GkjGmtWoM_zR"
      },
      "source": [
        "## Описание данных"
      ]
    },
    {
      "cell_type": "markdown",
      "metadata": {},
      "source": [
        "Данные можно [скачать с гугл-диска.](https://drive.google.com/drive/folders/11oCcLplWtp_qm-WuEbfCFP_Mz5K_z3ps?usp=sharing) Если вы делаете задание в колабе, то строчки ниже сами скачают вам данные."
      ]
    },
    {
      "cell_type": "markdown",
      "metadata": {
        "id": "fNAzGcglM_zS"
      },
      "source": [
        "В таблице `ria_news.tsv`  лежат данные о новостях, вышедших на сайте РИА-НОВОСТИ с 15 марта 2018 года по 31 декабря 2018 года.\n",
        "\n",
        "- `href` - уникальный идентификатор новости (ссылка на неё)\n",
        "- `date` - дата публикации новости\n",
        "- `time` - время публикации новости\n",
        "- `title` - заголовок новости\n",
        "- `snippet` - краткое описание новости\n",
        "- `text` - текст новости\n",
        "- `category` - категория новости\n",
        "- `keywords` - ключевые слова (подкатегории новости)\n",
        "- `shows` - счётчик с числом просмотров новости на сайте (на момент парсинга)"
      ]
    },
    {
      "cell_type": "code",
      "execution_count": 3,
      "metadata": {},
      "outputs": [
        {
          "name": "stdout",
          "output_type": "stream",
          "text": [
            "(201708, 9)\n"
          ]
        },
        {
          "data": {
            "text/html": [
              "<div>\n",
              "<style scoped>\n",
              "    .dataframe tbody tr th:only-of-type {\n",
              "        vertical-align: middle;\n",
              "    }\n",
              "\n",
              "    .dataframe tbody tr th {\n",
              "        vertical-align: top;\n",
              "    }\n",
              "\n",
              "    .dataframe thead th {\n",
              "        text-align: right;\n",
              "    }\n",
              "</style>\n",
              "<table border=\"1\" class=\"dataframe\">\n",
              "  <thead>\n",
              "    <tr style=\"text-align: right;\">\n",
              "      <th></th>\n",
              "      <th>href</th>\n",
              "      <th>date</th>\n",
              "      <th>time</th>\n",
              "      <th>title</th>\n",
              "      <th>snippet</th>\n",
              "      <th>text</th>\n",
              "      <th>category</th>\n",
              "      <th>tags</th>\n",
              "      <th>shows</th>\n",
              "    </tr>\n",
              "  </thead>\n",
              "  <tbody>\n",
              "    <tr>\n",
              "      <th>0</th>\n",
              "      <td>/20181231/1548961410.html</td>\n",
              "      <td>2018-12-31</td>\n",
              "      <td>31 декабря 2018, 23:52</td>\n",
              "      <td>Нетаньяху не собирается в отставку в случае пр...</td>\n",
              "      <td>Премьер-министр Израиля Биньямин Нетаньяху не ...</td>\n",
              "      <td>МОСКВА, 31 дек - РИА Новости. Премьер-министр ...</td>\n",
              "      <td>В мире</td>\n",
              "      <td>Биньямин Нетаньяху, Израиль, В мире</td>\n",
              "      <td>728.0</td>\n",
              "    </tr>\n",
              "    <tr>\n",
              "      <th>1</th>\n",
              "      <td>/20181231/1548961364.html</td>\n",
              "      <td>2018-12-31</td>\n",
              "      <td>31 декабря 2018, 23:19</td>\n",
              "      <td>Макрон в новогоднем обращении затронул тему ре...</td>\n",
              "      <td>Результат реформ не может быть мгновенным, зая...</td>\n",
              "      <td>ПАРИЖ, 31 дек – РИА Новости. Результат реформ ...</td>\n",
              "      <td>В мире</td>\n",
              "      <td>Эммануэль Макрон, Франция, В мире</td>\n",
              "      <td>3086.0</td>\n",
              "    </tr>\n",
              "    <tr>\n",
              "      <th>2</th>\n",
              "      <td>/20181231/1548961337.html</td>\n",
              "      <td>2018-12-31</td>\n",
              "      <td>31 декабря 2018, 23:12</td>\n",
              "      <td>Аарон Рэмзи проведет переговоры с пятью топ-кл...</td>\n",
              "      <td>Полузащитник лондонского \"Арсенала\" Аарон Рэмз...</td>\n",
              "      <td>МОСКВА, 31 дек - РИА Новости. Полузащитник лон...</td>\n",
              "      <td>NaN</td>\n",
              "      <td>ФК Арсенал (Лондон)</td>\n",
              "      <td>183.0</td>\n",
              "    </tr>\n",
              "    <tr>\n",
              "      <th>3</th>\n",
              "      <td>/20181231/1548961304.html</td>\n",
              "      <td>2018-12-31</td>\n",
              "      <td>31 декабря 2018, 23:09</td>\n",
              "      <td>Гол Азмуна принес сборной Ирана победу над кат...</td>\n",
              "      <td>Футболисты сборной Ирана одержали победу над к...</td>\n",
              "      <td>МОСКВА, 31 дек - РИА Новости. Футболисты сборн...</td>\n",
              "      <td>NaN</td>\n",
              "      <td>Сердар Азмун, Сборная Ирана по футболу</td>\n",
              "      <td>78.0</td>\n",
              "    </tr>\n",
              "    <tr>\n",
              "      <th>4</th>\n",
              "      <td>/20181231/1548961265.html</td>\n",
              "      <td>2018-12-31</td>\n",
              "      <td>31 декабря 2018, 23:07</td>\n",
              "      <td>Пятая ракетка мира дель Потро пропустит Открыт...</td>\n",
              "      <td>Аргентинский теннисист Хуан Мартин дель Потро ...</td>\n",
              "      <td>МОСКВА, 31 дек - РИА Новости. Аргентинский тен...</td>\n",
              "      <td>NaN</td>\n",
              "      <td>Теннис</td>\n",
              "      <td>79.0</td>\n",
              "    </tr>\n",
              "  </tbody>\n",
              "</table>\n",
              "</div>"
            ],
            "text/plain": [
              "                        href        date                    time  \\\n",
              "0  /20181231/1548961410.html  2018-12-31  31 декабря 2018, 23:52   \n",
              "1  /20181231/1548961364.html  2018-12-31  31 декабря 2018, 23:19   \n",
              "2  /20181231/1548961337.html  2018-12-31  31 декабря 2018, 23:12   \n",
              "3  /20181231/1548961304.html  2018-12-31  31 декабря 2018, 23:09   \n",
              "4  /20181231/1548961265.html  2018-12-31  31 декабря 2018, 23:07   \n",
              "\n",
              "                                               title  \\\n",
              "0  Нетаньяху не собирается в отставку в случае пр...   \n",
              "1  Макрон в новогоднем обращении затронул тему ре...   \n",
              "2  Аарон Рэмзи проведет переговоры с пятью топ-кл...   \n",
              "3  Гол Азмуна принес сборной Ирана победу над кат...   \n",
              "4  Пятая ракетка мира дель Потро пропустит Открыт...   \n",
              "\n",
              "                                             snippet  \\\n",
              "0  Премьер-министр Израиля Биньямин Нетаньяху не ...   \n",
              "1  Результат реформ не может быть мгновенным, зая...   \n",
              "2  Полузащитник лондонского \"Арсенала\" Аарон Рэмз...   \n",
              "3  Футболисты сборной Ирана одержали победу над к...   \n",
              "4  Аргентинский теннисист Хуан Мартин дель Потро ...   \n",
              "\n",
              "                                                text category  \\\n",
              "0  МОСКВА, 31 дек - РИА Новости. Премьер-министр ...   В мире   \n",
              "1  ПАРИЖ, 31 дек – РИА Новости. Результат реформ ...   В мире   \n",
              "2  МОСКВА, 31 дек - РИА Новости. Полузащитник лон...      NaN   \n",
              "3  МОСКВА, 31 дек - РИА Новости. Футболисты сборн...      NaN   \n",
              "4  МОСКВА, 31 дек - РИА Новости. Аргентинский тен...      NaN   \n",
              "\n",
              "                                     tags   shows  \n",
              "0     Биньямин Нетаньяху, Израиль, В мире   728.0  \n",
              "1       Эммануэль Макрон, Франция, В мире  3086.0  \n",
              "2                     ФК Арсенал (Лондон)   183.0  \n",
              "3  Сердар Азмун, Сборная Ирана по футболу    78.0  \n",
              "4                                  Теннис    79.0  "
            ]
          },
          "execution_count": 3,
          "metadata": {},
          "output_type": "execute_result"
        }
      ],
      "source": [
        "df_ria = pandas.read_csv('data/ria_news.tsv', sep = '\\t')\n",
        "df_ria = df_ria[~df_ria.tags.isnull()]\n",
        "print(df_ria.shape)\n",
        "df_ria.head()"
      ]
    },
    {
      "cell_type": "markdown",
      "metadata": {
        "id": "smOrAVujM_zS"
      },
      "source": [
        "Многие новостные агенства поддерживают странички в социальных сетях. Они постят туда самые сочные сюжеты. В таблице `vk_news.tsv` лежат данные о новостях, которые РИА запостили ВКонтакте в период времени с  `2017-09-29 01:28:55` по `2019-02-01 23:13:17`.\n",
        "\n",
        "- `id` - уникальный идентификатор поста\n",
        "- `href` - ссылка на сайт (если она была указана в посте)\n",
        "- `datetime` - дата и время публикации новости\n",
        "- `title` - заголовок новости\n",
        "- `text` - текст новости в социальной сети\n",
        "- `likes` - число лайков под постом\n",
        "- `comments` - число комментариев под постом"
      ]
    },
    {
      "cell_type": "code",
      "execution_count": 4,
      "metadata": {},
      "outputs": [
        {
          "name": "stdout",
          "output_type": "stream",
          "text": [
            "(19928, 7)\n"
          ]
        },
        {
          "data": {
            "text/html": [
              "<div>\n",
              "<style scoped>\n",
              "    .dataframe tbody tr th:only-of-type {\n",
              "        vertical-align: middle;\n",
              "    }\n",
              "\n",
              "    .dataframe tbody tr th {\n",
              "        vertical-align: top;\n",
              "    }\n",
              "\n",
              "    .dataframe thead th {\n",
              "        text-align: right;\n",
              "    }\n",
              "</style>\n",
              "<table border=\"1\" class=\"dataframe\">\n",
              "  <thead>\n",
              "    <tr style=\"text-align: right;\">\n",
              "      <th></th>\n",
              "      <th>id</th>\n",
              "      <th>href</th>\n",
              "      <th>datetime</th>\n",
              "      <th>title</th>\n",
              "      <th>likes</th>\n",
              "      <th>comments</th>\n",
              "      <th>snippet</th>\n",
              "    </tr>\n",
              "  </thead>\n",
              "  <tbody>\n",
              "    <tr>\n",
              "      <th>0</th>\n",
              "      <td>24006362</td>\n",
              "      <td>/20190201/1550280358.html</td>\n",
              "      <td>2019-02-01 23:13:17</td>\n",
              "      <td>В ДНР заявили о задержании диверсантов, причас...</td>\n",
              "      <td>15</td>\n",
              "      <td>28</td>\n",
              "      <td>NaN</td>\n",
              "    </tr>\n",
              "    <tr>\n",
              "      <th>1</th>\n",
              "      <td>24006240</td>\n",
              "      <td>/20190201/1550268781.html</td>\n",
              "      <td>2019-02-01 22:38:41</td>\n",
              "      <td>Житель Урала \"заминировал\" ТЦ из-за снятия  со...</td>\n",
              "      <td>32</td>\n",
              "      <td>42</td>\n",
              "      <td>NaN</td>\n",
              "    </tr>\n",
              "    <tr>\n",
              "      <th>2</th>\n",
              "      <td>24006100</td>\n",
              "      <td>/20190201/1550282212.html</td>\n",
              "      <td>2019-02-01 21:58:52</td>\n",
              "      <td>В Черном море нашли \"потерянный флот Гитлера\"</td>\n",
              "      <td>84</td>\n",
              "      <td>23</td>\n",
              "      <td>NaN</td>\n",
              "    </tr>\n",
              "    <tr>\n",
              "      <th>3</th>\n",
              "      <td>24005972</td>\n",
              "      <td>/20190202/1550283179.html</td>\n",
              "      <td>2019-02-01 21:27:06</td>\n",
              "      <td>В США освободили задержанную российскую актрис...</td>\n",
              "      <td>58</td>\n",
              "      <td>35</td>\n",
              "      <td>NaN</td>\n",
              "    </tr>\n",
              "    <tr>\n",
              "      <th>4</th>\n",
              "      <td>24005764</td>\n",
              "      <td>/20190201/1550262848.html</td>\n",
              "      <td>2019-02-01 20:55:54</td>\n",
              "      <td>Толкнувший Скабееву депутат Рады заявил о гроз...</td>\n",
              "      <td>45</td>\n",
              "      <td>145</td>\n",
              "      <td>NaN</td>\n",
              "    </tr>\n",
              "  </tbody>\n",
              "</table>\n",
              "</div>"
            ],
            "text/plain": [
              "         id                       href             datetime  \\\n",
              "0  24006362  /20190201/1550280358.html  2019-02-01 23:13:17   \n",
              "1  24006240  /20190201/1550268781.html  2019-02-01 22:38:41   \n",
              "2  24006100  /20190201/1550282212.html  2019-02-01 21:58:52   \n",
              "3  24005972  /20190202/1550283179.html  2019-02-01 21:27:06   \n",
              "4  24005764  /20190201/1550262848.html  2019-02-01 20:55:54   \n",
              "\n",
              "                                               title  likes  comments snippet  \n",
              "0  В ДНР заявили о задержании диверсантов, причас...     15        28     NaN  \n",
              "1  Житель Урала \"заминировал\" ТЦ из-за снятия  со...     32        42     NaN  \n",
              "2      В Черном море нашли \"потерянный флот Гитлера\"     84        23     NaN  \n",
              "3  В США освободили задержанную российскую актрис...     58        35     NaN  \n",
              "4  Толкнувший Скабееву депутат Рады заявил о гроз...     45       145     NaN  "
            ]
          },
          "execution_count": 4,
          "metadata": {},
          "output_type": "execute_result"
        }
      ],
      "source": [
        "df_vk = pandas.read_csv('data/vk_news.tsv', sep = '\\t')\n",
        "df_vk['snippet'] = df_vk['text']\n",
        "df_vk.drop('text', axis = 1, inplace = True)\n",
        "print(df_vk.shape)\n",
        "df_vk.head()"
      ]
    },
    {
      "cell_type": "markdown",
      "metadata": {
        "id": "HFaQtcOVM_zT"
      },
      "source": [
        "В таблице `vk_comments.tsv` лежат комментарии к новостям.\n",
        "\n",
        "- `id` - уникальный идентификатор комментария\n",
        "- `post_id` - идентификатор новости, под которой был оставлен комментарий\n",
        "- `datetime` - дата и время, когда был оставлен комментарий\n",
        "- `text` - текст комментария\n",
        "- `likes` - число лайков под комментарием"
      ]
    },
    {
      "cell_type": "code",
      "execution_count": 5,
      "metadata": {},
      "outputs": [
        {
          "name": "stdout",
          "output_type": "stream",
          "text": [
            "(2612629, 5)\n"
          ]
        },
        {
          "data": {
            "text/html": [
              "<div>\n",
              "<style scoped>\n",
              "    .dataframe tbody tr th:only-of-type {\n",
              "        vertical-align: middle;\n",
              "    }\n",
              "\n",
              "    .dataframe tbody tr th {\n",
              "        vertical-align: top;\n",
              "    }\n",
              "\n",
              "    .dataframe thead th {\n",
              "        text-align: right;\n",
              "    }\n",
              "</style>\n",
              "<table border=\"1\" class=\"dataframe\">\n",
              "  <thead>\n",
              "    <tr style=\"text-align: right;\">\n",
              "      <th></th>\n",
              "      <th>id</th>\n",
              "      <th>post_id</th>\n",
              "      <th>datetime</th>\n",
              "      <th>text</th>\n",
              "      <th>likes</th>\n",
              "    </tr>\n",
              "  </thead>\n",
              "  <tbody>\n",
              "    <tr>\n",
              "      <th>0</th>\n",
              "      <td>24006366.0</td>\n",
              "      <td>24006362.0</td>\n",
              "      <td>2019-02-01 23:14:14</td>\n",
              "      <td>ЧВК Вагнера?</td>\n",
              "      <td>5.0</td>\n",
              "    </tr>\n",
              "    <tr>\n",
              "      <th>1</th>\n",
              "      <td>24006370.0</td>\n",
              "      <td>24006362.0</td>\n",
              "      <td>2019-02-01 23:15:23</td>\n",
              "      <td>[id4710641|Евгений], выздоравливай.</td>\n",
              "      <td>3.0</td>\n",
              "    </tr>\n",
              "    <tr>\n",
              "      <th>2</th>\n",
              "      <td>24006371.0</td>\n",
              "      <td>24006362.0</td>\n",
              "      <td>2019-02-01 23:16:21</td>\n",
              "      <td>[id442655034|Андрей], искренне желаю этого все...</td>\n",
              "      <td>4.0</td>\n",
              "    </tr>\n",
              "    <tr>\n",
              "      <th>3</th>\n",
              "      <td>24006374.0</td>\n",
              "      <td>24006362.0</td>\n",
              "      <td>2019-02-01 23:16:38</td>\n",
              "      <td>Опять про Украину новости?</td>\n",
              "      <td>1.0</td>\n",
              "    </tr>\n",
              "    <tr>\n",
              "      <th>4</th>\n",
              "      <td>24006375.0</td>\n",
              "      <td>24006362.0</td>\n",
              "      <td>2019-02-01 23:16:40</td>\n",
              "      <td>Че такое ДНР?</td>\n",
              "      <td>2.0</td>\n",
              "    </tr>\n",
              "  </tbody>\n",
              "</table>\n",
              "</div>"
            ],
            "text/plain": [
              "           id     post_id             datetime  \\\n",
              "0  24006366.0  24006362.0  2019-02-01 23:14:14   \n",
              "1  24006370.0  24006362.0  2019-02-01 23:15:23   \n",
              "2  24006371.0  24006362.0  2019-02-01 23:16:21   \n",
              "3  24006374.0  24006362.0  2019-02-01 23:16:38   \n",
              "4  24006375.0  24006362.0  2019-02-01 23:16:40   \n",
              "\n",
              "                                                text  likes  \n",
              "0                                       ЧВК Вагнера?    5.0  \n",
              "1                [id4710641|Евгений], выздоравливай.    3.0  \n",
              "2  [id442655034|Андрей], искренне желаю этого все...    4.0  \n",
              "3                         Опять про Украину новости?    1.0  \n",
              "4                                      Че такое ДНР?    2.0  "
            ]
          },
          "execution_count": 5,
          "metadata": {},
          "output_type": "execute_result"
        }
      ],
      "source": [
        "df_comments = pandas.read_csv('data/vk_comments.tsv', sep = '\\t')\n",
        "df_comments = df_comments[~df_comments.text.isnull()]\n",
        "print(df_comments.shape)\n",
        "df_comments.head()"
      ]
    },
    {
      "cell_type": "markdown",
      "metadata": {
        "id": "58hpgVLvM_zT"
      },
      "source": [
        "## А что надо сделать то?"
      ]
    },
    {
      "cell_type": "markdown",
      "metadata": {},
      "source": [
        "В тетрадке вам предстоит сделать следующие шаги:\n",
        "\n",
        "1. Вы обучите нейросеть предсказывать категорию новости\n",
        "2. Вы построите предсказания для тех новостей, где мы ничего не знаем о категории\n",
        "3. Вы используете уже обученный для сентимент-анализа классификатор из библиотеки `hugging face` чтобы предсказать эмоциональную окраску каждого комментария\n",
        "4. Вы проведёте аналитику по новостям, а именно построите топы из самых позитивных и негативных категорий и новостей\n",
        "\n",
        "Для первого шага вам будет дан бэйзлайн. Если вы его прогоните, у вас получится базовая модель, которая даст некоторое качество решения задачи. Вам надо будет выяснить, насколько это качество оказалось хорошим, а затем внести в код некоторые улучшения."
      ]
    },
    {
      "cell_type": "markdown",
      "metadata": {
        "id": "hdb5XYa_M_zT"
      },
      "source": [
        "## Часть 1: категоризация новостей (1.2 + 2 бонусных балла)"
      ]
    },
    {
      "cell_type": "markdown",
      "metadata": {},
      "source": [
        "Каждой новости в соотвествие поставлены ключевые слова. Будем считать, что эти ключевые слова — тематики новости. Нужно научиться предсказывать тематики по тексту новости. Готовые тематики у нас есть только по новостям с сайта. Они за 2018 год. По новостям из ВКонтакте у нас тематик нет. Мы собираемся их предсказать.\n",
        "\n",
        "Новости, опубликованные ВКонтакте, отличаются от новостей с сайта тем, что у них есть только титул и короткое описание. Странно будет обучать нейросеть на длинных текстах, а потом использовать её на коротких описаниях. Мы не будем так делать. Мы попробуем обучить базовый вариант нейронной сети только на заголовках новостей. Все, кто захочет получить бонусные баллы, смогут попробовать добавить в нейросеть сниппеты (так назыают короткие описания новостей)."
      ]
    },
    {
      "cell_type": "markdown",
      "metadata": {
        "id": "NmGxSLP-M_zT"
      },
      "source": [
        "### 1.1 Подготовка таргета\n",
        "\n",
        "Поработаем с таргетом. Мы будем предсказывать переменную `tags`. Давайте выясним скоько уникальных тегов существует."
      ]
    },
    {
      "cell_type": "code",
      "execution_count": 6,
      "metadata": {
        "colab": {
          "base_uri": "https://localhost:8080/"
        },
        "id": "NZDxrSvkM_zT",
        "outputId": "f943777c-de05-437d-9cb0-27c24cb8b2f6"
      },
      "outputs": [
        {
          "name": "stdout",
          "output_type": "stream",
          "text": [
            "13344\n"
          ]
        },
        {
          "data": {
            "text/plain": [
              "[('блог анны завершинской об автоспорте - блоги', 1),\n",
              " ('министерство транспорта рб', 1),\n",
              " ('министерство здравоохранения грузии', 1),\n",
              " ('палех', 1),\n",
              " ('юрий посохов (хореограф)', 1),\n",
              " ('мария александрова', 1),\n",
              " ('том бенсон', 1),\n",
              " ('абдул каюм кочай', 1),\n",
              " ('нуман куртулмуш', 1),\n",
              " ('mipim', 1),\n",
              " ('владимир попов', 1),\n",
              " ('брюно женезио', 1),\n",
              " ('роберт фицо', 1),\n",
              " ('сергей пашинский', 1),\n",
              " ('валерия гонтарева', 1),\n",
              " ('нововоронеж', 1),\n",
              " ('императорское православное палестинское общество', 1),\n",
              " ('event_poslanie_prezidenta_rf_federalnomu_sobraniju', 1),\n",
              " ('фхтр', 1),\n",
              " ('игорь честин', 1)]"
            ]
          },
          "execution_count": 6,
          "metadata": {},
          "output_type": "execute_result"
        }
      ],
      "source": [
        "# удалим все лишние пробелы и сделаем lowercase\n",
        "df_ria['tags'] = (df_ria.tags.apply(lambda w: ','.join([item.strip() for item in w.lower().split(',')])))\n",
        "\n",
        "tags = ','.join(list(df_ria.tags.values))\n",
        "tags_cnt = collections.Counter(tags.split(','))\n",
        "\n",
        "print(len(tags_cnt))\n",
        "tags_cnt.most_common()[-20:]"
      ]
    },
    {
      "cell_type": "markdown",
      "metadata": {
        "id": "5Wv68z36M_zT"
      },
      "source": [
        "Всего в выборке есть порядка 13 000 тэгов. Многие встречаются всего по разу. Давайте оставим в выборке только те тэги, которые встречаются более 30 раз."
      ]
    },
    {
      "cell_type": "code",
      "execution_count": 7,
      "metadata": {
        "colab": {
          "base_uri": "https://localhost:8080/"
        },
        "id": "eA6H34iKM_zU",
        "outputId": "f5b55784-1052-455a-e961-a0fa85bd3932"
      },
      "outputs": [
        {
          "data": {
            "text/plain": [
              "1583"
            ]
          },
          "execution_count": 7,
          "metadata": {},
          "output_type": "execute_result"
        }
      ],
      "source": [
        "target_tags = { tag for tag, cnt in tags_cnt.most_common() if cnt > 30 }\n",
        "len(target_tags)"
      ]
    },
    {
      "cell_type": "markdown",
      "metadata": {
        "id": "RLrQSyCDM_zU"
      },
      "source": [
        "Закодируем теги для OHE."
      ]
    },
    {
      "cell_type": "code",
      "execution_count": 8,
      "metadata": {
        "id": "J2fKnLmTM_zU"
      },
      "outputs": [],
      "source": [
        "tag2idx = dict(zip(target_tags, range(len(target_tags))))\n",
        "idx2tag = { jtem: item for item, jtem in tag2idx.items() }"
      ]
    },
    {
      "cell_type": "markdown",
      "metadata": {
        "id": "8QDNftQqM_zU"
      },
      "source": [
        "Почистим таргет от лишних тэгов."
      ]
    },
    {
      "cell_type": "code",
      "execution_count": 9,
      "metadata": {
        "colab": {
          "base_uri": "https://localhost:8080/"
        },
        "id": "9pqA60YiM_zU",
        "outputId": "af3ccfd7-ae21-43fd-ac89-926cc4b36867"
      },
      "outputs": [
        {
          "data": {
            "text/plain": [
              "(201437, 10)"
            ]
          },
          "execution_count": 9,
          "metadata": {},
          "output_type": "execute_result"
        }
      ],
      "source": [
        "df_ria['target_tags'] = (df_ria.tags.apply(lambda w: [ tag2idx.get(item) for item in w.split(',') if item in target_tags ]))\n",
        "df_ria = df_ria[df_ria.target_tags.apply(len) > 0]\n",
        "df_ria.shape"
      ]
    },
    {
      "cell_type": "code",
      "execution_count": 10,
      "metadata": {
        "colab": {
          "base_uri": "https://localhost:8080/"
        },
        "id": "y0KaYfuQM_zU",
        "outputId": "a8ddc5b6-ffeb-4697-feb8-2a4f011e05b2"
      },
      "outputs": [
        {
          "data": {
            "text/plain": [
              "array([list([262, 1467, 323]), list([159, 1074, 323]), list([984])],\n",
              "      dtype=object)"
            ]
          },
          "execution_count": 10,
          "metadata": {},
          "output_type": "execute_result"
        }
      ],
      "source": [
        "df_ria.target_tags.values[:3]"
      ]
    },
    {
      "cell_type": "markdown",
      "metadata": {
        "id": "Y-hjLFKRM_zU"
      },
      "source": [
        "### 1.2 Подготовка текстов"
      ]
    },
    {
      "cell_type": "markdown",
      "metadata": {},
      "source": [
        "Теперь займёмся предобработкой текстов. Приведём все слова к маленькому регистру и выбросим мусорные символы. В качестве токенов будем рассматривать отдельные слова.\n",
        "\n",
        "Напомню, что мы пока что решили работать только с названиями статей. Поэтому вся предобработка применяется исключительно к ним. **Спойлер:** предобработку для сниппетов вы сделаете сами в первом же задании."
      ]
    },
    {
      "cell_type": "code",
      "execution_count": 11,
      "metadata": {
        "colab": {
          "base_uri": "https://localhost:8080/"
        },
        "id": "DUEWRZWTQsHy",
        "outputId": "2fe04954-273e-441e-e29d-d689166692a8"
      },
      "outputs": [
        {
          "name": "stderr",
          "output_type": "stream",
          "text": [
            "[nltk_data] Downloading package punkt to\n",
            "[nltk_data]     C:\\Users\\TTPO100AJIEX\\AppData\\Roaming\\nltk_data...\n",
            "[nltk_data]   Package punkt is already up-to-date!\n",
            "[nltk_data] Downloading package stopwords to\n",
            "[nltk_data]     C:\\Users\\TTPO100AJIEX\\AppData\\Roaming\\nltk_data...\n",
            "[nltk_data]   Package stopwords is already up-to-date!\n"
          ]
        },
        {
          "data": {
            "text/plain": [
              "151"
            ]
          },
          "execution_count": 11,
          "metadata": {},
          "output_type": "execute_result"
        }
      ],
      "source": [
        "nltk.download('punkt')\n",
        "nltk.download('stopwords')\n",
        "\n",
        "stops_ru = set(nltk.corpus.stopwords.words('russian'))\n",
        "len(stops_ru)"
      ]
    },
    {
      "cell_type": "code",
      "execution_count": 12,
      "metadata": {},
      "outputs": [],
      "source": [
        "def normalize_text(text):\n",
        "    # сурово регулярками выкидываем мусорные символы\n",
        "    is_null = not isinstance(text, str) and math.isnan(text)\n",
        "    return \"#UNK#\" if is_null else re.sub('[^а-яa-z0-9 ]', '', text.lower()).strip()\n",
        "\n",
        "def create_vocab(text, stops_ru = stops_ru):\n",
        "    k = 2\n",
        "    vocabulary = { \"#PAD#\": 0, \"#UNK#\": 1 }\n",
        "    for word, _ in collections.Counter(nltk.tokenize.word_tokenize(text)).most_common():\n",
        "        if word not in stops_ru:\n",
        "            vocabulary[word] = k\n",
        "            k += 1\n",
        "    return vocabulary"
      ]
    },
    {
      "cell_type": "code",
      "execution_count": 13,
      "metadata": {
        "colab": {
          "base_uri": "https://localhost:8080/"
        },
        "id": "bLHWjtkoM_zU",
        "outputId": "b31d890c-e3bc-4be5-e285-372503938fda"
      },
      "outputs": [
        {
          "name": "stdout",
          "output_type": "stream",
          "text": [
            "112030\n"
          ]
        },
        {
          "data": {
            "text/html": [
              "<div>\n",
              "<style scoped>\n",
              "    .dataframe tbody tr th:only-of-type {\n",
              "        vertical-align: middle;\n",
              "    }\n",
              "\n",
              "    .dataframe tbody tr th {\n",
              "        vertical-align: top;\n",
              "    }\n",
              "\n",
              "    .dataframe thead th {\n",
              "        text-align: right;\n",
              "    }\n",
              "</style>\n",
              "<table border=\"1\" class=\"dataframe\">\n",
              "  <thead>\n",
              "    <tr style=\"text-align: right;\">\n",
              "      <th></th>\n",
              "      <th>href</th>\n",
              "      <th>date</th>\n",
              "      <th>time</th>\n",
              "      <th>title</th>\n",
              "      <th>snippet</th>\n",
              "      <th>text</th>\n",
              "      <th>category</th>\n",
              "      <th>tags</th>\n",
              "      <th>shows</th>\n",
              "      <th>target_tags</th>\n",
              "      <th>title_clean</th>\n",
              "    </tr>\n",
              "  </thead>\n",
              "  <tbody>\n",
              "    <tr>\n",
              "      <th>0</th>\n",
              "      <td>/20181231/1548961410.html</td>\n",
              "      <td>2018-12-31</td>\n",
              "      <td>31 декабря 2018, 23:52</td>\n",
              "      <td>Нетаньяху не собирается в отставку в случае пр...</td>\n",
              "      <td>Премьер-министр Израиля Биньямин Нетаньяху не ...</td>\n",
              "      <td>МОСКВА, 31 дек - РИА Новости. Премьер-министр ...</td>\n",
              "      <td>В мире</td>\n",
              "      <td>биньямин нетаньяху,израиль,в мире</td>\n",
              "      <td>728.0</td>\n",
              "      <td>[262, 1467, 323]</td>\n",
              "      <td>нетаньяху не собирается в отставку в случае пр...</td>\n",
              "    </tr>\n",
              "    <tr>\n",
              "      <th>1</th>\n",
              "      <td>/20181231/1548961364.html</td>\n",
              "      <td>2018-12-31</td>\n",
              "      <td>31 декабря 2018, 23:19</td>\n",
              "      <td>Макрон в новогоднем обращении затронул тему ре...</td>\n",
              "      <td>Результат реформ не может быть мгновенным, зая...</td>\n",
              "      <td>ПАРИЖ, 31 дек – РИА Новости. Результат реформ ...</td>\n",
              "      <td>В мире</td>\n",
              "      <td>эммануэль макрон,франция,в мире</td>\n",
              "      <td>3086.0</td>\n",
              "      <td>[159, 1074, 323]</td>\n",
              "      <td>макрон в новогоднем обращении затронул тему ре...</td>\n",
              "    </tr>\n",
              "    <tr>\n",
              "      <th>4</th>\n",
              "      <td>/20181231/1548961265.html</td>\n",
              "      <td>2018-12-31</td>\n",
              "      <td>31 декабря 2018, 23:07</td>\n",
              "      <td>Пятая ракетка мира дель Потро пропустит Открыт...</td>\n",
              "      <td>Аргентинский теннисист Хуан Мартин дель Потро ...</td>\n",
              "      <td>МОСКВА, 31 дек - РИА Новости. Аргентинский тен...</td>\n",
              "      <td>NaN</td>\n",
              "      <td>теннис</td>\n",
              "      <td>79.0</td>\n",
              "      <td>[984]</td>\n",
              "      <td>пятая ракетка мира дель потро пропустит открыт...</td>\n",
              "    </tr>\n",
              "    <tr>\n",
              "      <th>5</th>\n",
              "      <td>/20181231/1548961218.html</td>\n",
              "      <td>2018-12-31</td>\n",
              "      <td>31 декабря 2018, 23:06</td>\n",
              "      <td>СМИ: Кевину Спейси не разрешили отсутствовать ...</td>\n",
              "      <td>Суд в американском штате Массачусетс отверг хо...</td>\n",
              "      <td>МОСКВА, 31 дек - РИА Новости. Суд в американск...</td>\n",
              "      <td>В мире</td>\n",
              "      <td>кевин спейси,сша,в мире</td>\n",
              "      <td>2058.0</td>\n",
              "      <td>[89, 323]</td>\n",
              "      <td>сми кевину спейси не разрешили отсутствовать н...</td>\n",
              "    </tr>\n",
              "    <tr>\n",
              "      <th>6</th>\n",
              "      <td>/20181231/1548961194.html</td>\n",
              "      <td>2018-12-31</td>\n",
              "      <td>31 декабря 2018, 23:06</td>\n",
              "      <td>\"Зимняя классика\" НХЛ в 2020 году пройдет в Да...</td>\n",
              "      <td>\"Зимняя классика\" - матч регулярного чемпионат...</td>\n",
              "      <td>МОСКВА, 31 дек - РИА Новости. \"Зимняя классика...</td>\n",
              "      <td>NaN</td>\n",
              "      <td>нхл,хоккей</td>\n",
              "      <td>89.0</td>\n",
              "      <td>[495, 1524]</td>\n",
              "      <td>зимняя классика нхл в 2020 году пройдет в далл...</td>\n",
              "    </tr>\n",
              "  </tbody>\n",
              "</table>\n",
              "</div>"
            ],
            "text/plain": [
              "                        href        date                    time  \\\n",
              "0  /20181231/1548961410.html  2018-12-31  31 декабря 2018, 23:52   \n",
              "1  /20181231/1548961364.html  2018-12-31  31 декабря 2018, 23:19   \n",
              "4  /20181231/1548961265.html  2018-12-31  31 декабря 2018, 23:07   \n",
              "5  /20181231/1548961218.html  2018-12-31  31 декабря 2018, 23:06   \n",
              "6  /20181231/1548961194.html  2018-12-31  31 декабря 2018, 23:06   \n",
              "\n",
              "                                               title  \\\n",
              "0  Нетаньяху не собирается в отставку в случае пр...   \n",
              "1  Макрон в новогоднем обращении затронул тему ре...   \n",
              "4  Пятая ракетка мира дель Потро пропустит Открыт...   \n",
              "5  СМИ: Кевину Спейси не разрешили отсутствовать ...   \n",
              "6  \"Зимняя классика\" НХЛ в 2020 году пройдет в Да...   \n",
              "\n",
              "                                             snippet  \\\n",
              "0  Премьер-министр Израиля Биньямин Нетаньяху не ...   \n",
              "1  Результат реформ не может быть мгновенным, зая...   \n",
              "4  Аргентинский теннисист Хуан Мартин дель Потро ...   \n",
              "5  Суд в американском штате Массачусетс отверг хо...   \n",
              "6  \"Зимняя классика\" - матч регулярного чемпионат...   \n",
              "\n",
              "                                                text category  \\\n",
              "0  МОСКВА, 31 дек - РИА Новости. Премьер-министр ...   В мире   \n",
              "1  ПАРИЖ, 31 дек – РИА Новости. Результат реформ ...   В мире   \n",
              "4  МОСКВА, 31 дек - РИА Новости. Аргентинский тен...      NaN   \n",
              "5  МОСКВА, 31 дек - РИА Новости. Суд в американск...   В мире   \n",
              "6  МОСКВА, 31 дек - РИА Новости. \"Зимняя классика...      NaN   \n",
              "\n",
              "                                tags   shows       target_tags  \\\n",
              "0  биньямин нетаньяху,израиль,в мире   728.0  [262, 1467, 323]   \n",
              "1    эммануэль макрон,франция,в мире  3086.0  [159, 1074, 323]   \n",
              "4                             теннис    79.0             [984]   \n",
              "5            кевин спейси,сша,в мире  2058.0         [89, 323]   \n",
              "6                         нхл,хоккей    89.0       [495, 1524]   \n",
              "\n",
              "                                         title_clean  \n",
              "0  нетаньяху не собирается в отставку в случае пр...  \n",
              "1  макрон в новогоднем обращении затронул тему ре...  \n",
              "4  пятая ракетка мира дель потро пропустит открыт...  \n",
              "5  сми кевину спейси не разрешили отсутствовать н...  \n",
              "6  зимняя классика нхл в 2020 году пройдет в далл...  "
            ]
          },
          "execution_count": 13,
          "metadata": {},
          "output_type": "execute_result"
        }
      ],
      "source": [
        "df_ria['title_clean'] = df_ria.title.apply(normalize_text)\n",
        "print(len(create_vocab(' '.join(df_ria.title_clean.values))))\n",
        "df_ria.head()"
      ]
    },
    {
      "cell_type": "markdown",
      "metadata": {
        "id": "lnYJT9BXM_zV"
      },
      "source": [
        "__[0.2 балла] Задание 1:__\n",
        "\n",
        "- Cделайте аналогичную предобработку титулов из таблички `df_vk`. Запишите получившийся результат в столбец `title_clean` по аналогии с таблицей `df_ria`.\n",
        "- Сделайте для обеих таблиц предобработку колонок со сниппетами `snippet` и запишите получившийся результат в столбец `snippet_clean`. Все пропуски заполните токеном `\"#UNKN\"`."
      ]
    },
    {
      "cell_type": "code",
      "execution_count": 14,
      "metadata": {},
      "outputs": [
        {
          "name": "stdout",
          "output_type": "stream",
          "text": [
            "32114\n"
          ]
        },
        {
          "data": {
            "text/html": [
              "<div>\n",
              "<style scoped>\n",
              "    .dataframe tbody tr th:only-of-type {\n",
              "        vertical-align: middle;\n",
              "    }\n",
              "\n",
              "    .dataframe tbody tr th {\n",
              "        vertical-align: top;\n",
              "    }\n",
              "\n",
              "    .dataframe thead th {\n",
              "        text-align: right;\n",
              "    }\n",
              "</style>\n",
              "<table border=\"1\" class=\"dataframe\">\n",
              "  <thead>\n",
              "    <tr style=\"text-align: right;\">\n",
              "      <th></th>\n",
              "      <th>id</th>\n",
              "      <th>href</th>\n",
              "      <th>datetime</th>\n",
              "      <th>title</th>\n",
              "      <th>likes</th>\n",
              "      <th>comments</th>\n",
              "      <th>snippet</th>\n",
              "      <th>title_clean</th>\n",
              "    </tr>\n",
              "  </thead>\n",
              "  <tbody>\n",
              "    <tr>\n",
              "      <th>0</th>\n",
              "      <td>24006362</td>\n",
              "      <td>/20190201/1550280358.html</td>\n",
              "      <td>2019-02-01 23:13:17</td>\n",
              "      <td>В ДНР заявили о задержании диверсантов, причас...</td>\n",
              "      <td>15</td>\n",
              "      <td>28</td>\n",
              "      <td>NaN</td>\n",
              "      <td>в днр заявили о задержании диверсантов причаст...</td>\n",
              "    </tr>\n",
              "    <tr>\n",
              "      <th>1</th>\n",
              "      <td>24006240</td>\n",
              "      <td>/20190201/1550268781.html</td>\n",
              "      <td>2019-02-01 22:38:41</td>\n",
              "      <td>Житель Урала \"заминировал\" ТЦ из-за снятия  со...</td>\n",
              "      <td>32</td>\n",
              "      <td>42</td>\n",
              "      <td>NaN</td>\n",
              "      <td>житель урала заминировал тц изза снятия  сотов...</td>\n",
              "    </tr>\n",
              "    <tr>\n",
              "      <th>2</th>\n",
              "      <td>24006100</td>\n",
              "      <td>/20190201/1550282212.html</td>\n",
              "      <td>2019-02-01 21:58:52</td>\n",
              "      <td>В Черном море нашли \"потерянный флот Гитлера\"</td>\n",
              "      <td>84</td>\n",
              "      <td>23</td>\n",
              "      <td>NaN</td>\n",
              "      <td>в черном море нашли потерянный флот гитлера</td>\n",
              "    </tr>\n",
              "    <tr>\n",
              "      <th>3</th>\n",
              "      <td>24005972</td>\n",
              "      <td>/20190202/1550283179.html</td>\n",
              "      <td>2019-02-01 21:27:06</td>\n",
              "      <td>В США освободили задержанную российскую актрис...</td>\n",
              "      <td>58</td>\n",
              "      <td>35</td>\n",
              "      <td>NaN</td>\n",
              "      <td>в сша освободили задержанную российскую актрис...</td>\n",
              "    </tr>\n",
              "    <tr>\n",
              "      <th>4</th>\n",
              "      <td>24005764</td>\n",
              "      <td>/20190201/1550262848.html</td>\n",
              "      <td>2019-02-01 20:55:54</td>\n",
              "      <td>Толкнувший Скабееву депутат Рады заявил о гроз...</td>\n",
              "      <td>45</td>\n",
              "      <td>145</td>\n",
              "      <td>NaN</td>\n",
              "      <td>толкнувший скабееву депутат рады заявил о гроз...</td>\n",
              "    </tr>\n",
              "  </tbody>\n",
              "</table>\n",
              "</div>"
            ],
            "text/plain": [
              "         id                       href             datetime  \\\n",
              "0  24006362  /20190201/1550280358.html  2019-02-01 23:13:17   \n",
              "1  24006240  /20190201/1550268781.html  2019-02-01 22:38:41   \n",
              "2  24006100  /20190201/1550282212.html  2019-02-01 21:58:52   \n",
              "3  24005972  /20190202/1550283179.html  2019-02-01 21:27:06   \n",
              "4  24005764  /20190201/1550262848.html  2019-02-01 20:55:54   \n",
              "\n",
              "                                               title  likes  comments snippet  \\\n",
              "0  В ДНР заявили о задержании диверсантов, причас...     15        28     NaN   \n",
              "1  Житель Урала \"заминировал\" ТЦ из-за снятия  со...     32        42     NaN   \n",
              "2      В Черном море нашли \"потерянный флот Гитлера\"     84        23     NaN   \n",
              "3  В США освободили задержанную российскую актрис...     58        35     NaN   \n",
              "4  Толкнувший Скабееву депутат Рады заявил о гроз...     45       145     NaN   \n",
              "\n",
              "                                         title_clean  \n",
              "0  в днр заявили о задержании диверсантов причаст...  \n",
              "1  житель урала заминировал тц изза снятия  сотов...  \n",
              "2        в черном море нашли потерянный флот гитлера  \n",
              "3  в сша освободили задержанную российскую актрис...  \n",
              "4  толкнувший скабееву депутат рады заявил о гроз...  "
            ]
          },
          "execution_count": 14,
          "metadata": {},
          "output_type": "execute_result"
        }
      ],
      "source": [
        "df_vk['title_clean'] = df_vk.title.apply(normalize_text)\n",
        "print(len(create_vocab(' '.join(df_vk.title_clean.values))))\n",
        "df_vk.head()"
      ]
    },
    {
      "cell_type": "code",
      "execution_count": 15,
      "metadata": {},
      "outputs": [
        {
          "name": "stdout",
          "output_type": "stream",
          "text": [
            "1239854\n"
          ]
        },
        {
          "data": {
            "text/html": [
              "<div>\n",
              "<style scoped>\n",
              "    .dataframe tbody tr th:only-of-type {\n",
              "        vertical-align: middle;\n",
              "    }\n",
              "\n",
              "    .dataframe tbody tr th {\n",
              "        vertical-align: top;\n",
              "    }\n",
              "\n",
              "    .dataframe thead th {\n",
              "        text-align: right;\n",
              "    }\n",
              "</style>\n",
              "<table border=\"1\" class=\"dataframe\">\n",
              "  <thead>\n",
              "    <tr style=\"text-align: right;\">\n",
              "      <th></th>\n",
              "      <th>href</th>\n",
              "      <th>date</th>\n",
              "      <th>time</th>\n",
              "      <th>title</th>\n",
              "      <th>snippet</th>\n",
              "      <th>text</th>\n",
              "      <th>category</th>\n",
              "      <th>tags</th>\n",
              "      <th>shows</th>\n",
              "      <th>target_tags</th>\n",
              "      <th>title_clean</th>\n",
              "      <th>snippet_clean</th>\n",
              "    </tr>\n",
              "  </thead>\n",
              "  <tbody>\n",
              "    <tr>\n",
              "      <th>0</th>\n",
              "      <td>/20181231/1548961410.html</td>\n",
              "      <td>2018-12-31</td>\n",
              "      <td>31 декабря 2018, 23:52</td>\n",
              "      <td>Нетаньяху не собирается в отставку в случае пр...</td>\n",
              "      <td>Премьер-министр Израиля Биньямин Нетаньяху не ...</td>\n",
              "      <td>МОСКВА, 31 дек - РИА Новости. Премьер-министр ...</td>\n",
              "      <td>В мире</td>\n",
              "      <td>биньямин нетаньяху,израиль,в мире</td>\n",
              "      <td>728.0</td>\n",
              "      <td>[262, 1467, 323]</td>\n",
              "      <td>нетаньяху не собирается в отставку в случае пр...</td>\n",
              "      <td>премьерминистр израиля биньямин нетаньяху не н...</td>\n",
              "    </tr>\n",
              "    <tr>\n",
              "      <th>1</th>\n",
              "      <td>/20181231/1548961364.html</td>\n",
              "      <td>2018-12-31</td>\n",
              "      <td>31 декабря 2018, 23:19</td>\n",
              "      <td>Макрон в новогоднем обращении затронул тему ре...</td>\n",
              "      <td>Результат реформ не может быть мгновенным, зая...</td>\n",
              "      <td>ПАРИЖ, 31 дек – РИА Новости. Результат реформ ...</td>\n",
              "      <td>В мире</td>\n",
              "      <td>эммануэль макрон,франция,в мире</td>\n",
              "      <td>3086.0</td>\n",
              "      <td>[159, 1074, 323]</td>\n",
              "      <td>макрон в новогоднем обращении затронул тему ре...</td>\n",
              "      <td>результат реформ не может быть мгновенным заяв...</td>\n",
              "    </tr>\n",
              "    <tr>\n",
              "      <th>4</th>\n",
              "      <td>/20181231/1548961265.html</td>\n",
              "      <td>2018-12-31</td>\n",
              "      <td>31 декабря 2018, 23:07</td>\n",
              "      <td>Пятая ракетка мира дель Потро пропустит Открыт...</td>\n",
              "      <td>Аргентинский теннисист Хуан Мартин дель Потро ...</td>\n",
              "      <td>МОСКВА, 31 дек - РИА Новости. Аргентинский тен...</td>\n",
              "      <td>NaN</td>\n",
              "      <td>теннис</td>\n",
              "      <td>79.0</td>\n",
              "      <td>[984]</td>\n",
              "      <td>пятая ракетка мира дель потро пропустит открыт...</td>\n",
              "      <td>аргентинский теннисист хуан мартин дель потро ...</td>\n",
              "    </tr>\n",
              "    <tr>\n",
              "      <th>5</th>\n",
              "      <td>/20181231/1548961218.html</td>\n",
              "      <td>2018-12-31</td>\n",
              "      <td>31 декабря 2018, 23:06</td>\n",
              "      <td>СМИ: Кевину Спейси не разрешили отсутствовать ...</td>\n",
              "      <td>Суд в американском штате Массачусетс отверг хо...</td>\n",
              "      <td>МОСКВА, 31 дек - РИА Новости. Суд в американск...</td>\n",
              "      <td>В мире</td>\n",
              "      <td>кевин спейси,сша,в мире</td>\n",
              "      <td>2058.0</td>\n",
              "      <td>[89, 323]</td>\n",
              "      <td>сми кевину спейси не разрешили отсутствовать н...</td>\n",
              "      <td>суд в американском штате массачусетс отверг хо...</td>\n",
              "    </tr>\n",
              "    <tr>\n",
              "      <th>6</th>\n",
              "      <td>/20181231/1548961194.html</td>\n",
              "      <td>2018-12-31</td>\n",
              "      <td>31 декабря 2018, 23:06</td>\n",
              "      <td>\"Зимняя классика\" НХЛ в 2020 году пройдет в Да...</td>\n",
              "      <td>\"Зимняя классика\" - матч регулярного чемпионат...</td>\n",
              "      <td>МОСКВА, 31 дек - РИА Новости. \"Зимняя классика...</td>\n",
              "      <td>NaN</td>\n",
              "      <td>нхл,хоккей</td>\n",
              "      <td>89.0</td>\n",
              "      <td>[495, 1524]</td>\n",
              "      <td>зимняя классика нхл в 2020 году пройдет в далл...</td>\n",
              "      <td>зимняя классика  матч регулярного чемпионата н...</td>\n",
              "    </tr>\n",
              "  </tbody>\n",
              "</table>\n",
              "</div>"
            ],
            "text/plain": [
              "                        href        date                    time  \\\n",
              "0  /20181231/1548961410.html  2018-12-31  31 декабря 2018, 23:52   \n",
              "1  /20181231/1548961364.html  2018-12-31  31 декабря 2018, 23:19   \n",
              "4  /20181231/1548961265.html  2018-12-31  31 декабря 2018, 23:07   \n",
              "5  /20181231/1548961218.html  2018-12-31  31 декабря 2018, 23:06   \n",
              "6  /20181231/1548961194.html  2018-12-31  31 декабря 2018, 23:06   \n",
              "\n",
              "                                               title  \\\n",
              "0  Нетаньяху не собирается в отставку в случае пр...   \n",
              "1  Макрон в новогоднем обращении затронул тему ре...   \n",
              "4  Пятая ракетка мира дель Потро пропустит Открыт...   \n",
              "5  СМИ: Кевину Спейси не разрешили отсутствовать ...   \n",
              "6  \"Зимняя классика\" НХЛ в 2020 году пройдет в Да...   \n",
              "\n",
              "                                             snippet  \\\n",
              "0  Премьер-министр Израиля Биньямин Нетаньяху не ...   \n",
              "1  Результат реформ не может быть мгновенным, зая...   \n",
              "4  Аргентинский теннисист Хуан Мартин дель Потро ...   \n",
              "5  Суд в американском штате Массачусетс отверг хо...   \n",
              "6  \"Зимняя классика\" - матч регулярного чемпионат...   \n",
              "\n",
              "                                                text category  \\\n",
              "0  МОСКВА, 31 дек - РИА Новости. Премьер-министр ...   В мире   \n",
              "1  ПАРИЖ, 31 дек – РИА Новости. Результат реформ ...   В мире   \n",
              "4  МОСКВА, 31 дек - РИА Новости. Аргентинский тен...      NaN   \n",
              "5  МОСКВА, 31 дек - РИА Новости. Суд в американск...   В мире   \n",
              "6  МОСКВА, 31 дек - РИА Новости. \"Зимняя классика...      NaN   \n",
              "\n",
              "                                tags   shows       target_tags  \\\n",
              "0  биньямин нетаньяху,израиль,в мире   728.0  [262, 1467, 323]   \n",
              "1    эммануэль макрон,франция,в мире  3086.0  [159, 1074, 323]   \n",
              "4                             теннис    79.0             [984]   \n",
              "5            кевин спейси,сша,в мире  2058.0         [89, 323]   \n",
              "6                         нхл,хоккей    89.0       [495, 1524]   \n",
              "\n",
              "                                         title_clean  \\\n",
              "0  нетаньяху не собирается в отставку в случае пр...   \n",
              "1  макрон в новогоднем обращении затронул тему ре...   \n",
              "4  пятая ракетка мира дель потро пропустит открыт...   \n",
              "5  сми кевину спейси не разрешили отсутствовать н...   \n",
              "6  зимняя классика нхл в 2020 году пройдет в далл...   \n",
              "\n",
              "                                       snippet_clean  \n",
              "0  премьерминистр израиля биньямин нетаньяху не н...  \n",
              "1  результат реформ не может быть мгновенным заяв...  \n",
              "4  аргентинский теннисист хуан мартин дель потро ...  \n",
              "5  суд в американском штате массачусетс отверг хо...  \n",
              "6  зимняя классика  матч регулярного чемпионата н...  "
            ]
          },
          "execution_count": 15,
          "metadata": {},
          "output_type": "execute_result"
        }
      ],
      "source": [
        "df_ria['snippet_clean'] = df_ria.snippet.apply(normalize_text)\n",
        "print(len(create_vocab(' '.join(df_ria.snippet_clean.values))))\n",
        "df_ria.head()"
      ]
    },
    {
      "cell_type": "code",
      "execution_count": 16,
      "metadata": {
        "id": "FTlZA9amM_zV"
      },
      "outputs": [
        {
          "name": "stdout",
          "output_type": "stream",
          "text": [
            "42819\n"
          ]
        },
        {
          "data": {
            "text/html": [
              "<div>\n",
              "<style scoped>\n",
              "    .dataframe tbody tr th:only-of-type {\n",
              "        vertical-align: middle;\n",
              "    }\n",
              "\n",
              "    .dataframe tbody tr th {\n",
              "        vertical-align: top;\n",
              "    }\n",
              "\n",
              "    .dataframe thead th {\n",
              "        text-align: right;\n",
              "    }\n",
              "</style>\n",
              "<table border=\"1\" class=\"dataframe\">\n",
              "  <thead>\n",
              "    <tr style=\"text-align: right;\">\n",
              "      <th></th>\n",
              "      <th>id</th>\n",
              "      <th>href</th>\n",
              "      <th>datetime</th>\n",
              "      <th>title</th>\n",
              "      <th>likes</th>\n",
              "      <th>comments</th>\n",
              "      <th>snippet</th>\n",
              "      <th>title_clean</th>\n",
              "      <th>snippet_clean</th>\n",
              "    </tr>\n",
              "  </thead>\n",
              "  <tbody>\n",
              "    <tr>\n",
              "      <th>0</th>\n",
              "      <td>24006362</td>\n",
              "      <td>/20190201/1550280358.html</td>\n",
              "      <td>2019-02-01 23:13:17</td>\n",
              "      <td>В ДНР заявили о задержании диверсантов, причас...</td>\n",
              "      <td>15</td>\n",
              "      <td>28</td>\n",
              "      <td>NaN</td>\n",
              "      <td>в днр заявили о задержании диверсантов причаст...</td>\n",
              "      <td>#UNK#</td>\n",
              "    </tr>\n",
              "    <tr>\n",
              "      <th>1</th>\n",
              "      <td>24006240</td>\n",
              "      <td>/20190201/1550268781.html</td>\n",
              "      <td>2019-02-01 22:38:41</td>\n",
              "      <td>Житель Урала \"заминировал\" ТЦ из-за снятия  со...</td>\n",
              "      <td>32</td>\n",
              "      <td>42</td>\n",
              "      <td>NaN</td>\n",
              "      <td>житель урала заминировал тц изза снятия  сотов...</td>\n",
              "      <td>#UNK#</td>\n",
              "    </tr>\n",
              "    <tr>\n",
              "      <th>2</th>\n",
              "      <td>24006100</td>\n",
              "      <td>/20190201/1550282212.html</td>\n",
              "      <td>2019-02-01 21:58:52</td>\n",
              "      <td>В Черном море нашли \"потерянный флот Гитлера\"</td>\n",
              "      <td>84</td>\n",
              "      <td>23</td>\n",
              "      <td>NaN</td>\n",
              "      <td>в черном море нашли потерянный флот гитлера</td>\n",
              "      <td>#UNK#</td>\n",
              "    </tr>\n",
              "    <tr>\n",
              "      <th>3</th>\n",
              "      <td>24005972</td>\n",
              "      <td>/20190202/1550283179.html</td>\n",
              "      <td>2019-02-01 21:27:06</td>\n",
              "      <td>В США освободили задержанную российскую актрис...</td>\n",
              "      <td>58</td>\n",
              "      <td>35</td>\n",
              "      <td>NaN</td>\n",
              "      <td>в сша освободили задержанную российскую актрис...</td>\n",
              "      <td>#UNK#</td>\n",
              "    </tr>\n",
              "    <tr>\n",
              "      <th>4</th>\n",
              "      <td>24005764</td>\n",
              "      <td>/20190201/1550262848.html</td>\n",
              "      <td>2019-02-01 20:55:54</td>\n",
              "      <td>Толкнувший Скабееву депутат Рады заявил о гроз...</td>\n",
              "      <td>45</td>\n",
              "      <td>145</td>\n",
              "      <td>NaN</td>\n",
              "      <td>толкнувший скабееву депутат рады заявил о гроз...</td>\n",
              "      <td>#UNK#</td>\n",
              "    </tr>\n",
              "  </tbody>\n",
              "</table>\n",
              "</div>"
            ],
            "text/plain": [
              "         id                       href             datetime  \\\n",
              "0  24006362  /20190201/1550280358.html  2019-02-01 23:13:17   \n",
              "1  24006240  /20190201/1550268781.html  2019-02-01 22:38:41   \n",
              "2  24006100  /20190201/1550282212.html  2019-02-01 21:58:52   \n",
              "3  24005972  /20190202/1550283179.html  2019-02-01 21:27:06   \n",
              "4  24005764  /20190201/1550262848.html  2019-02-01 20:55:54   \n",
              "\n",
              "                                               title  likes  comments snippet  \\\n",
              "0  В ДНР заявили о задержании диверсантов, причас...     15        28     NaN   \n",
              "1  Житель Урала \"заминировал\" ТЦ из-за снятия  со...     32        42     NaN   \n",
              "2      В Черном море нашли \"потерянный флот Гитлера\"     84        23     NaN   \n",
              "3  В США освободили задержанную российскую актрис...     58        35     NaN   \n",
              "4  Толкнувший Скабееву депутат Рады заявил о гроз...     45       145     NaN   \n",
              "\n",
              "                                         title_clean snippet_clean  \n",
              "0  в днр заявили о задержании диверсантов причаст...         #UNK#  \n",
              "1  житель урала заминировал тц изза снятия  сотов...         #UNK#  \n",
              "2        в черном море нашли потерянный флот гитлера         #UNK#  \n",
              "3  в сша освободили задержанную российскую актрис...         #UNK#  \n",
              "4  толкнувший скабееву депутат рады заявил о гроз...         #UNK#  "
            ]
          },
          "execution_count": 16,
          "metadata": {},
          "output_type": "execute_result"
        }
      ],
      "source": [
        "df_vk['snippet_clean'] = df_vk.snippet.apply(normalize_text)\n",
        "print(len(create_vocab(' '.join(df_vk.snippet_clean.values))))\n",
        "df_vk.head()"
      ]
    },
    {
      "cell_type": "markdown",
      "metadata": {
        "id": "WrRKg_QHM_zV"
      },
      "source": [
        "### 1.3 Поставка данных"
      ]
    },
    {
      "cell_type": "markdown",
      "metadata": {
        "id": "S2vPPWsEM_zV"
      },
      "source": [
        "Пересечение сайта и ВК по опубликованным новостям довольно маленькое. Мы обучаем модель на данных с сайта. Предсказания мы будем строить на данных из ВК. У этих данных разная природа. В ВК описание статей и заголовки короче. Модель может хорошо показать себя на данных с новостного сайта, но сильно просесть в качестве на данных из ВК.\n",
        "\n",
        "Давайте сохраним пересечение в отдельную табличку, чтобы на нём можно было понять, насколько сильно деградирует модель."
      ]
    },
    {
      "cell_type": "code",
      "execution_count": 17,
      "metadata": {
        "colab": {
          "base_uri": "https://localhost:8080/"
        },
        "id": "8KjCNaTLM_zW",
        "outputId": "a0de14af-5d32-4dff-89f7-3b04a7e35271"
      },
      "outputs": [
        {
          "name": "stdout",
          "output_type": "stream",
          "text": [
            "Размер отложенной выборки: 1128\n"
          ]
        }
      ],
      "source": [
        "ria_hrefs = set(df_ria.href.values)\n",
        "vk_hrefs = set(df_vk.href.values)\n",
        "test_hrefs = (vk_hrefs & ria_hrefs)\n",
        "\n",
        "print('Размер отложенной выборки:', len(test_hrefs))\n",
        "df = df_ria[~df_ria.href.isin(test_hrefs)]"
      ]
    },
    {
      "cell_type": "markdown",
      "metadata": {
        "id": "FVutzHbPM_zg"
      },
      "source": [
        "По странному совпадению (я правда не знаю почему) пересечение лежит в декабре. Мы будем его использовать как тестовую выборку."
      ]
    },
    {
      "cell_type": "code",
      "execution_count": 18,
      "metadata": {
        "colab": {
          "base_uri": "https://localhost:8080/"
        },
        "id": "1fGs6y6PM_zg",
        "outputId": "5a639a55-e194-4d78-bba0-f6297339f49d"
      },
      "outputs": [
        {
          "data": {
            "text/plain": [
              "('2018-12-06', '2018-12-31')"
            ]
          },
          "execution_count": 18,
          "metadata": {},
          "output_type": "execute_result"
        }
      ],
      "source": [
        "df_ria[df_ria.href.isin(test_hrefs)].date.min(), df_ria[df_ria.href.isin(test_hrefs)].date.max()"
      ]
    },
    {
      "cell_type": "markdown",
      "metadata": {
        "id": "VJ_7VGvnM_zg"
      },
      "source": [
        "Предположим, что мы делим выборку на обучающую и тестовую случайно. За один и тот же промежуток времени может выйти довольно большое число новостей с одинаковым заголовком. Давайте представим себе, что в тесте и трэйне есть много статей про одно и то же событие. Модель научилась на обучающей выборке хорошо его тегировать. Остальные события модель тегирует намного хуже. Метрики на тестовой выборке высокие. В следующем месяце СМИ перестают освещать это событие, в потоке новостей совершенно другие новости. Качество модели резко проседает.\n",
        "\n",
        "Чтобы не напороться на завышенные метрики, обычно выборку дробят на обучающую и тестовую по времени. Тогда статьи из теста будут имитировать поток новых новостей, освещающих новые события."
      ]
    },
    {
      "cell_type": "code",
      "execution_count": 19,
      "metadata": {
        "colab": {
          "base_uri": "https://localhost:8080/"
        },
        "id": "WscwQXAuM_zg",
        "outputId": "0a83dd25-a157-45e9-b757-f9fdf70a56e2"
      },
      "outputs": [
        {
          "data": {
            "text/plain": [
              "('2018-03-15', '2018-12-31')"
            ]
          },
          "execution_count": 19,
          "metadata": {},
          "output_type": "execute_result"
        }
      ],
      "source": [
        "df.date.min(), df.date.max()"
      ]
    },
    {
      "cell_type": "markdown",
      "metadata": {
        "id": "bzM_6-ntM_zg"
      },
      "source": [
        "__[0.2 балла] Задание 2:__ Разбейте выборку на обучающую, валидационную и тестовую. В тест возьмите весь декабрь. В валидацию октябрь и ноябрь."
      ]
    },
    {
      "cell_type": "code",
      "execution_count": 20,
      "metadata": {
        "id": "Yzr5nNIvM_zg"
      },
      "outputs": [
        {
          "name": "stdout",
          "output_type": "stream",
          "text": [
            "Val: 43258 2018-10-01 2018-11-30\n",
            "Test: 21304 2018-12-01 2018-12-31\n",
            "Train: 136875 2018-03-15 2018-09-30\n"
          ]
        }
      ],
      "source": [
        "october_mask = df_ria.date.apply(lambda date: date.startswith('2018-10-'))\n",
        "november_mask = df_ria.date.apply(lambda date: date.startswith('2018-11-'))\n",
        "december_mask = df_ria.date.apply(lambda date: date.startswith('2018-12-'))\n",
        "\n",
        "df_test = df_ria[december_mask]\n",
        "df_val = df_ria[october_mask | november_mask]\n",
        "df_train = df_ria[~(october_mask | november_mask | december_mask)]\n",
        "assert len(df_test) + len(df_val) + len(df_train) == len(df_ria)\n",
        "print('Val:', len(df_val), df_val.date.min(), df_val.date.max())\n",
        "print('Test:', len(df_test), df_test.date.min(), df_test.date.max())\n",
        "print('Train:', len(df_train), df_train.date.min(), df_train.date.max())"
      ]
    },
    {
      "cell_type": "markdown",
      "metadata": {
        "id": "AlG-87v8M_zh"
      },
      "source": [
        "Сформируем отложенную выборку (пересечение ВКонтакте и РИА)."
      ]
    },
    {
      "cell_type": "code",
      "execution_count": 21,
      "metadata": {
        "colab": {
          "base_uri": "https://localhost:8080/",
          "height": 206
        },
        "id": "KmBZjIx4M_zh",
        "outputId": "6b4bc36b-9d88-4182-a0b0-9d4c4314a248"
      },
      "outputs": [
        {
          "data": {
            "text/html": [
              "<div>\n",
              "<style scoped>\n",
              "    .dataframe tbody tr th:only-of-type {\n",
              "        vertical-align: middle;\n",
              "    }\n",
              "\n",
              "    .dataframe tbody tr th {\n",
              "        vertical-align: top;\n",
              "    }\n",
              "\n",
              "    .dataframe thead th {\n",
              "        text-align: right;\n",
              "    }\n",
              "</style>\n",
              "<table border=\"1\" class=\"dataframe\">\n",
              "  <thead>\n",
              "    <tr style=\"text-align: right;\">\n",
              "      <th></th>\n",
              "      <th>href</th>\n",
              "      <th>title_clean</th>\n",
              "      <th>snippet_clean</th>\n",
              "      <th>target_tags</th>\n",
              "    </tr>\n",
              "  </thead>\n",
              "  <tbody>\n",
              "    <tr>\n",
              "      <th>0</th>\n",
              "      <td>/20181206/1547493936.html</td>\n",
              "      <td>эксперты определили самые бюджетные экзотическ...</td>\n",
              "      <td>#UNK#</td>\n",
              "      <td>[301, 1177]</td>\n",
              "    </tr>\n",
              "    <tr>\n",
              "      <th>1</th>\n",
              "      <td>/20181206/1547516457.html</td>\n",
              "      <td>рада приняла закон расширяющий контролируемую ...</td>\n",
              "      <td>#UNK#</td>\n",
              "      <td>[1300, 323]</td>\n",
              "    </tr>\n",
              "    <tr>\n",
              "      <th>2</th>\n",
              "      <td>/20181206/1547520788.html</td>\n",
              "      <td>россия оказалась родиной древнейших титанозавр...</td>\n",
              "      <td>#UNK#</td>\n",
              "      <td>[583, 371]</td>\n",
              "    </tr>\n",
              "    <tr>\n",
              "      <th>3</th>\n",
              "      <td>/20181206/1547521406.html</td>\n",
              "      <td>школа в красноярске превратилась в хогвартс из...</td>\n",
              "      <td>#UNK#</td>\n",
              "      <td>[1277]</td>\n",
              "    </tr>\n",
              "    <tr>\n",
              "      <th>4</th>\n",
              "      <td>/20181206/1547522342.html</td>\n",
              "      <td>рада решила не продлевать договор о дружбе и с...</td>\n",
              "      <td>#UNK#</td>\n",
              "      <td>[261, 323]</td>\n",
              "    </tr>\n",
              "  </tbody>\n",
              "</table>\n",
              "</div>"
            ],
            "text/plain": [
              "                        href  \\\n",
              "0  /20181206/1547493936.html   \n",
              "1  /20181206/1547516457.html   \n",
              "2  /20181206/1547520788.html   \n",
              "3  /20181206/1547521406.html   \n",
              "4  /20181206/1547522342.html   \n",
              "\n",
              "                                         title_clean snippet_clean  \\\n",
              "0  эксперты определили самые бюджетные экзотическ...         #UNK#   \n",
              "1  рада приняла закон расширяющий контролируемую ...         #UNK#   \n",
              "2  россия оказалась родиной древнейших титанозавр...         #UNK#   \n",
              "3  школа в красноярске превратилась в хогвартс из...         #UNK#   \n",
              "4  рада решила не продлевать договор о дружбе и с...         #UNK#   \n",
              "\n",
              "   target_tags  \n",
              "0  [301, 1177]  \n",
              "1  [1300, 323]  \n",
              "2   [583, 371]  \n",
              "3       [1277]  \n",
              "4   [261, 323]  "
            ]
          },
          "execution_count": 21,
          "metadata": {},
          "output_type": "execute_result"
        }
      ],
      "source": [
        "df_oob = df_vk[df_vk.href.isin(test_hrefs)][['href', 'title_clean', 'snippet_clean']]\n",
        "df_ria_oob = df_ria[df_ria.href.isin(test_hrefs)][['href', 'target_tags']]\n",
        "df_oob = df_oob.set_index('href').join(df_ria_oob.set_index('href')).reset_index()\n",
        "df_oob.head()"
      ]
    },
    {
      "cell_type": "markdown",
      "metadata": {
        "id": "laZ8tkFjM_zh"
      },
      "source": [
        "Напишем датасет для поставки данных в нейросеть.\n"
      ]
    },
    {
      "cell_type": "code",
      "execution_count": 22,
      "metadata": {
        "id": "0if_RkA_M_zh"
      },
      "outputs": [],
      "source": [
        "class NewsDataset(torch.utils.data.Dataset):\n",
        "    def __init__(\n",
        "            self,\n",
        "            num_classes, targets,\n",
        "            vocab, vocab_size,\n",
        "            titles, title_len,\n",
        "            snippets = None, snippet_len = None\n",
        "        ):\n",
        "        self.y = self.target_ohe(num_classes, targets)\n",
        "        self.vocab = { word: idx for word, idx in vocab.items() if idx < vocab_size }\n",
        "        self.titles = self.create_text(titles, title_len)\n",
        "        self.snippets = self.create_text(snippets, snippet_len)\n",
        "\n",
        "    def target_ohe(self, num_classes, target):\n",
        "        y = torch.zeros((len(target), num_classes))\n",
        "        for i, t in enumerate(target):\n",
        "            y[[ i ] * len(t), t] = 1.0\n",
        "        return y\n",
        "\n",
        "    def create_text(self, texts, max_len = 100000000):\n",
        "        if texts is None: return None\n",
        "        result = [ ]\n",
        "        for sent in texts:\n",
        "            # {#PAD: 0, #UNKN: 1}\n",
        "            sent_tokenize = [ self.vocab.get(item, 1) for item in nltk.tokenize.word_tokenize(sent) ]\n",
        "            # приводим все тексты к max_len\n",
        "            if len(sent_tokenize) >= max_len: sent_tokenize = sent_tokenize[:max_len]\n",
        "            else: sent_tokenize += [ 0 ] * (max_len - len(sent_tokenize))\n",
        "            result.append(sent_tokenize)\n",
        "        return torch.tensor(result, dtype = torch.int)\n",
        "\n",
        "    def __len__(self):\n",
        "        return len(self.titles)\n",
        "\n",
        "    def __getitem__(self, idx):\n",
        "        if self.snippets is None: return (self.titles[idx, :], self.y[idx])\n",
        "        else: return (self.titles[idx, :], self.snippets[idx, :], self.y[idx])"
      ]
    },
    {
      "cell_type": "markdown",
      "metadata": {
        "id": "xQMfQ1ZkM_zh"
      },
      "source": [
        "__[0.2 балла] Задание 3:__ Сейчас датасет умеет работать только с полем `title_clean`. Давайте сделаем этот датасет более многофукнциональным и добавим в него возможность добавить в обработку данных сниппет.\n",
        "\n",
        "1. Внутри датасета `snippet` надо обработать точно также как и `title`.\n",
        "2. Если `snippet=None`, датасет должен вернуть два объекта: `X_title, y`. В обратном случае датасет должен вернуть три объекта.\n",
        "\n",
        "**Важно:** Весь код ниже работает сейчас без сниппета. Он не должен развалиться от того, что сниппет в нём нигде не указан."
      ]
    },
    {
      "cell_type": "markdown",
      "metadata": {
        "id": "1v_Rgi_DM_zh"
      },
      "source": [
        "Объявим датасеты, оставим в словаре 90 000 самых частотных слов. Будем смотреть на титулы максимальной длины 60."
      ]
    },
    {
      "cell_type": "code",
      "execution_count": 23,
      "metadata": {
        "id": "2zjgEiWWM_zh"
      },
      "outputs": [],
      "source": [
        "NUM_CLASSES = len(idx2tag)\n",
        "VOCAB_SIZE = 90000\n",
        "MAX_TITLE_LEN = 60\n",
        "\n",
        "# словарь создаем по всей выборке\n",
        "titles_vocabulary = create_vocab(' '.join(df_train.title_clean.values))\n",
        "\n",
        "# объявляем датасеты\n",
        "titles_train_ds = NewsDataset(\n",
        "    NUM_CLASSES, df_train.target_tags.values,\n",
        "    titles_vocabulary, VOCAB_SIZE,\n",
        "    df_train.title_clean.values, MAX_TITLE_LEN\n",
        ")\n",
        "titles_val_ds = NewsDataset(\n",
        "    NUM_CLASSES, df_val.target_tags.values,\n",
        "    titles_vocabulary, VOCAB_SIZE,\n",
        "    df_val.title_clean.values, MAX_TITLE_LEN\n",
        ")\n",
        "titles_test_ds = NewsDataset(\n",
        "    NUM_CLASSES, df_test.target_tags.values,\n",
        "    titles_vocabulary, VOCAB_SIZE,\n",
        "    df_test.title_clean.values, MAX_TITLE_LEN\n",
        ")\n",
        "titles_oob_ds = NewsDataset(\n",
        "    NUM_CLASSES, df_oob.target_tags.values,\n",
        "    titles_vocabulary, VOCAB_SIZE,\n",
        "    df_oob.title_clean.values, MAX_TITLE_LEN\n",
        ")\n",
        "\n",
        "# даталоадеры\n",
        "fix_random()\n",
        "titles_train_loader = torch.utils.data.DataLoader(titles_train_ds, shuffle = True, batch_size = 64)\n",
        "titles_val_loader = torch.utils.data.DataLoader(titles_val_ds, shuffle = False, batch_size = 64)"
      ]
    },
    {
      "cell_type": "code",
      "execution_count": 24,
      "metadata": {},
      "outputs": [],
      "source": [
        "MAX_SNIPPET_LEN = 512\n",
        "\n",
        "# словарь создаем по всей выборке\n",
        "snippets_vocabulary = create_vocab(' '.join(df_train.title_clean.values))\n",
        "\n",
        "# объявляем датасеты\n",
        "snippets_train_ds = NewsDataset(\n",
        "    NUM_CLASSES, df_train.target_tags.values,\n",
        "    titles_vocabulary, VOCAB_SIZE,\n",
        "    df_train.title_clean.values, MAX_TITLE_LEN,\n",
        "    df_train.snippet_clean.values, MAX_SNIPPET_LEN\n",
        ")\n",
        "snippets_val_ds = NewsDataset(\n",
        "    NUM_CLASSES, df_val.target_tags.values,\n",
        "    titles_vocabulary, VOCAB_SIZE,\n",
        "    df_val.title_clean.values, MAX_TITLE_LEN,\n",
        "    df_val.snippet_clean.values, MAX_SNIPPET_LEN\n",
        ")\n",
        "snippets_test_ds = NewsDataset(\n",
        "    NUM_CLASSES, df_test.target_tags.values,\n",
        "    titles_vocabulary, VOCAB_SIZE,\n",
        "    df_test.title_clean.values, MAX_TITLE_LEN,\n",
        "    df_test.snippet_clean.values, MAX_SNIPPET_LEN\n",
        ")\n",
        "snippets_oob_ds = NewsDataset(\n",
        "    NUM_CLASSES, df_oob.target_tags.values,\n",
        "    titles_vocabulary, VOCAB_SIZE,\n",
        "    df_oob.title_clean.values, MAX_TITLE_LEN,\n",
        "    df_oob.snippet_clean.values, MAX_SNIPPET_LEN\n",
        ")\n",
        "\n",
        "# даталоадеры\n",
        "fix_random()\n",
        "snippets_train_loader = torch.utils.data.DataLoader(snippets_train_ds, shuffle = True, batch_size = 64)\n",
        "snippets_val_loader = torch.utils.data.DataLoader(snippets_val_ds, shuffle = False, batch_size = 64)"
      ]
    },
    {
      "cell_type": "markdown",
      "metadata": {
        "id": "WvQXMtISM_zh"
      },
      "source": [
        "### 1.4 Архитектуры"
      ]
    },
    {
      "cell_type": "markdown",
      "metadata": {
        "id": "slQEltBQM_zh"
      },
      "source": [
        "Соберём в `pytorch_lightning` модуль для обучения нейронки."
      ]
    },
    {
      "cell_type": "code",
      "execution_count": 25,
      "metadata": {
        "id": "5E6J3of9M_zi"
      },
      "outputs": [],
      "source": [
        "class TrainLightningModule(pytorch_lightning.LightningModule):\n",
        "    def __init__(self, model, learning_rate, criterion):\n",
        "        super().__init__()\n",
        "        \n",
        "        self.model = model\n",
        "        self.criterion = criterion\n",
        "        self.learning_rate = learning_rate\n",
        "\n",
        "    def configure_optimizers(self):\n",
        "        return torch.optim.AdamW(self.parameters(), lr = self.learning_rate)\n",
        "\n",
        "    def training_step(self, train_batch, batch_idx):\n",
        "        logits = self.model(*train_batch[:-1])\n",
        "        loss = self.criterion(logits, train_batch[-1])\n",
        "        self.log(\"train_loss\", loss, prog_bar = True)\n",
        "        return loss\n",
        "\n",
        "    def validation_step(self, val_batch, batch_idx):\n",
        "        output = self.model(*val_batch[:-1])\n",
        "        if batch_idx == 0:\n",
        "            self.logits = output\n",
        "            self.targets = val_batch[-1]\n",
        "        else:\n",
        "            self.logits = torch.cat([ self.logits, output ], dim = 0)\n",
        "            self.targets = torch.cat([ self.targets, val_batch[-1] ], dim = 0)\n",
        "\n",
        "        if (self.logits is not None) and (self.logits.shape[0] == len(df_val)):\n",
        "            loss = self.criterion(self.logits, self.targets)\n",
        "            self.log(\"val_loss\", loss, prog_bar = True)"
      ]
    },
    {
      "cell_type": "markdown",
      "metadata": {},
      "source": [
        "Соберём базовую архитектуру для обучения."
      ]
    },
    {
      "cell_type": "code",
      "execution_count": 26,
      "metadata": {
        "id": "dN8DAIIkM_zh"
      },
      "outputs": [],
      "source": [
        "class TitlesClassifier(torch.nn.Module):\n",
        "    def __init__(self, vocab_size, embedding_dim, output_dim):\n",
        "        super().__init__()\n",
        "        self.embedding = torch.nn.Embedding(vocab_size, embedding_dim)\n",
        "        self.fc = torch.nn.Linear(embedding_dim, output_dim)\n",
        "\n",
        "    def forward(self, titles):\n",
        "        return self.fc(self.embedding(titles).mean(dim = 1))"
      ]
    },
    {
      "cell_type": "markdown",
      "metadata": {
        "id": "6BirneLfM_zi"
      },
      "source": [
        "Обучим модель."
      ]
    },
    {
      "cell_type": "code",
      "execution_count": 27,
      "metadata": {},
      "outputs": [],
      "source": [
        "LR = 1e-3\n",
        "EPOCHS = 5\n",
        "EMBEDDING_DIM = 512\n",
        "\n",
        "criterion = torch.nn.CrossEntropyLoss()"
      ]
    },
    {
      "cell_type": "code",
      "execution_count": 28,
      "metadata": {
        "colab": {
          "base_uri": "https://localhost:8080/",
          "height": 349,
          "referenced_widgets": [
            "3ef009aeabae43b48bc913a592d1a019",
            "75b99a050a37493389ff96724a9a3b72",
            "78fe9e3a3d614de9a6f3efacde67d247",
            "2d71626a24cb45f39095e7e3fd621707",
            "4f75594be29e49cc99fe61a6787e7564",
            "9ab912602cc24346a011fdf58feafbde",
            "af211f3be2ce4fb1b6733fa552ed041b",
            "84f32a71a7cd4de6b55a9558717d00ef",
            "5db675de6b8348e9a9823384541bdfff",
            "6fa8591a1a834d8785b1ebe8eff2b10d",
            "acfec13aec454320b585c0b8331e9448",
            "1ae6951f8b984b318210df9d009479d8",
            "d9456651273140f9bd6e587ab852eeec",
            "b174cb3407a04b2989e6049555265446",
            "7bd174d7cd2346be9db9d5a0a170f8cb",
            "3ada921ee7644de997b57ffd2c57044d",
            "17e62da8657f44d9a998f4acbbd29671",
            "be93fd003ef54d7e85bb1fcaa894e467",
            "938d3da0eef54ee997fc0ce7ccf1807b",
            "1c10405770654b90a3635ba4acabb6ef",
            "2da5b84f9384445a8d9db58ef3dafa5e",
            "abcb57f0947f413d9cb83c62c6529562",
            "d8cd82c7af8747148b5b4750e8f1372a",
            "17d8af2b171440cba00f8b2df1a08073",
            "fde8213392c546b58ad8a81aacf4fcb3",
            "09093bb710bd4903abf2e10db6efc0a0",
            "d92ec28e7e6c47c4b2e3669b502b8b9e",
            "201a41be363549eaa0fdc903fb41f83e",
            "60c4aa6c4c8145949cd16ec0670227a1",
            "58fbdeafd7ee40cd9392cd4a62c49b81",
            "286fbf1303dc4f0b9c1bb3cfb34f920e",
            "8fc5cc9d0df74d5081fa3f8c89595daf",
            "0cbe638b1d354bea83ccba54ee3d1f5c",
            "f2b6c28c36e64f66b54834f543cec282",
            "2d98065fccb34cb1b44740aa4510f0e7",
            "2aa0bc933aae46729672d55e60c17616",
            "950950a569914ad1a263f3f295e57852",
            "2f4dcf310c634bdba125e8bf46d3db26",
            "6072601881c341fb8e5329fab05ee52d",
            "13a1fd50c8f24f12a0f28485b6168606",
            "546d1deb5c934916b722fb9ab0ce5e67",
            "86ed101f86384b9b92eb3faccae5bca2",
            "cba28fcac7c349e8ac9794d507768744",
            "7bb5cc7b77654cc0b27a22552941a1ce",
            "b6179f72e8f94772a4e1e2a503bc1d47",
            "9ec11067fc81414d97457b47e93b78a1",
            "6351ca36d8d648afa472093df7e73e45",
            "d1efd4fe9adc4243a81d401784b77530",
            "2cb3f56ff669424da4e9bace352831b8",
            "3dc20b49832e46c6ad70dc754f43555f",
            "100219bd594645c5b60c3da4a44344fe",
            "7a6a637bb7664b4495b2b56b45d88ee4",
            "74bf3b2a873e40ffa139f1afe652ffe8",
            "640ac5a06820498585c48a1b69355d0d",
            "515318593400421487560182023801f1",
            "2a38ec8f52d74e018a4c1876d3a2f874",
            "fd22c38d837a404ab892ddaddf4a8988",
            "a474d8d377674579b3c9f5327fbb1862",
            "0029cbbc48c64effb57bffff5d199e34",
            "e9d2f22400db472283508e8c01f08fbb",
            "46204f92abf1414da360d79b4ca7a924",
            "0a54156fabcd4ef3b73b038b71485a6a",
            "2e02be5bf0be40bf87f1364b1fd587ec",
            "560450b99c8f4636b3a700db3fc21253",
            "0140e6c8951147b6a7e079682e938e7f",
            "534e121744814f4d8880072004513e37",
            "b23fac677f5e4e8884f84fe60585330d",
            "1ae57433e573436b8bbdf6c22630930d",
            "6769dc278aae487db30d78caa97c6dd8",
            "b5b6d56829af44d99b904176b9552101",
            "7dc052c589534aa986569d863596a2a3",
            "5d422f8cbd47402bb8f28b258e5abed0",
            "80d177b53a5f4fe0a733d3b7d36e9b30",
            "71c435b7fa6f4a0fb44a4c8a8b5a73f6",
            "c05c8b6064f94652a1f2ed5c3bb7c2b0",
            "c44756a0ec83400f9f6daf8d1179ad91",
            "a2903f89f4584f16b9f5b412d2730672"
          ]
        },
        "id": "5ShTLAStM_zi",
        "outputId": "c1894412-c82d-4061-971d-4c732c3ae599"
      },
      "outputs": [
        {
          "name": "stderr",
          "output_type": "stream",
          "text": [
            "GPU available: True (cuda), used: True\n",
            "TPU available: False, using: 0 TPU cores\n",
            "IPU available: False, using: 0 IPUs\n",
            "HPU available: False, using: 0 HPUs\n",
            "LOCAL_RANK: 0 - CUDA_VISIBLE_DEVICES: [0]\n",
            "\n",
            "  | Name      | Type             | Params\n",
            "-----------------------------------------------\n",
            "0 | model     | TitlesClassifier | 46.9 M\n",
            "1 | criterion | CrossEntropyLoss | 0     \n",
            "-----------------------------------------------\n",
            "46.9 M    Trainable params\n",
            "0         Non-trainable params\n",
            "46.9 M    Total params\n",
            "187.568   Total estimated model params size (MB)\n"
          ]
        },
        {
          "data": {
            "application/vnd.jupyter.widget-view+json": {
              "model_id": "ed4512e5319a4694a058fe3f68aced83",
              "version_major": 2,
              "version_minor": 0
            },
            "text/plain": [
              "Sanity Checking: |          | 0/? [00:00<?, ?it/s]"
            ]
          },
          "metadata": {},
          "output_type": "display_data"
        },
        {
          "data": {
            "application/vnd.jupyter.widget-view+json": {
              "model_id": "7de28d16a8d84704aada6b4fc5a6be9a",
              "version_major": 2,
              "version_minor": 0
            },
            "text/plain": [
              "Training: |          | 0/? [00:00<?, ?it/s]"
            ]
          },
          "metadata": {},
          "output_type": "display_data"
        },
        {
          "data": {
            "application/vnd.jupyter.widget-view+json": {
              "model_id": "bba2c2ff9b70400ba849bb4dd5a478e8",
              "version_major": 2,
              "version_minor": 0
            },
            "text/plain": [
              "Validation: |          | 0/? [00:00<?, ?it/s]"
            ]
          },
          "metadata": {},
          "output_type": "display_data"
        },
        {
          "data": {
            "application/vnd.jupyter.widget-view+json": {
              "model_id": "cedb1aab7fb845989b8ad9889f8d9ea3",
              "version_major": 2,
              "version_minor": 0
            },
            "text/plain": [
              "Validation: |          | 0/? [00:00<?, ?it/s]"
            ]
          },
          "metadata": {},
          "output_type": "display_data"
        },
        {
          "data": {
            "application/vnd.jupyter.widget-view+json": {
              "model_id": "9066f92df7904477a5d1f0408bd621f0",
              "version_major": 2,
              "version_minor": 0
            },
            "text/plain": [
              "Validation: |          | 0/? [00:00<?, ?it/s]"
            ]
          },
          "metadata": {},
          "output_type": "display_data"
        },
        {
          "data": {
            "application/vnd.jupyter.widget-view+json": {
              "model_id": "d0b9eed7fe29487383f448c0a5544119",
              "version_major": 2,
              "version_minor": 0
            },
            "text/plain": [
              "Validation: |          | 0/? [00:00<?, ?it/s]"
            ]
          },
          "metadata": {},
          "output_type": "display_data"
        },
        {
          "data": {
            "application/vnd.jupyter.widget-view+json": {
              "model_id": "bdc4cea9b0d8414b93e38f34e752b7c7",
              "version_major": 2,
              "version_minor": 0
            },
            "text/plain": [
              "Validation: |          | 0/? [00:00<?, ?it/s]"
            ]
          },
          "metadata": {},
          "output_type": "display_data"
        },
        {
          "name": "stderr",
          "output_type": "stream",
          "text": [
            "`Trainer.fit` stopped: `max_epochs=5` reached.\n"
          ]
        }
      ],
      "source": [
        "fix_random()\n",
        "\n",
        "titles_model = TitlesClassifier(VOCAB_SIZE, EMBEDDING_DIM, NUM_CLASSES)\n",
        "trainer = pytorch_lightning.Trainer(accelerator = \"gpu\", max_epochs = EPOCHS)\n",
        "\n",
        "train_module = TrainLightningModule(titles_model, LR, criterion)\n",
        "trainer.fit(train_module, titles_train_loader, titles_val_loader)"
      ]
    },
    {
      "cell_type": "markdown",
      "metadata": {
        "id": "Qj9QJ-xEM_zi"
      },
      "source": [
        "__[0.2 балла] Задание 4:__  Модель выше работает только с титулом.\n",
        "\n",
        "- Залоггируйте её обучение на [WandB](https://wandb.ai/).\n",
        "- Соберите архитектуру, которая будет принимать на вход не только титул, но ещё и сниппет. В этой архитектуре должно происходить следующее:\n",
        "\n",
        "1. Общий слой `nn.Embedding` применяется к сниппету и титулу параллельно.\n",
        "2. Происходит усреднее по текстам.\n",
        "3. Вектора конкатятся в один длины 600\n",
        "4. Линейный слой делает классификацию\n",
        "\n",
        "Обучите эту модель. Сравните траектории обучения на WandB. Прикрепите ссылку на дашборд либо скришот к тетрадке.\n",
        "\n",
        "Даталоадеры придётся объявить заново с учётом сниппетов. Правда ли, что она бьёт на валидационной выборке модель, обученную только на титулах статей?"
      ]
    },
    {
      "cell_type": "code",
      "execution_count": 29,
      "metadata": {
        "id": "pOJSMhYMM_zi"
      },
      "outputs": [
        {
          "name": "stderr",
          "output_type": "stream",
          "text": [
            "GPU available: True (cuda), used: True\n",
            "TPU available: False, using: 0 TPU cores\n",
            "IPU available: False, using: 0 IPUs\n",
            "HPU available: False, using: 0 HPUs\n"
          ]
        },
        {
          "data": {
            "application/vnd.jupyter.widget-view+json": {
              "model_id": "b4a07b19c4c948729f56d51c058c2f56",
              "version_major": 2,
              "version_minor": 0
            },
            "text/plain": [
              "VBox(children=(Label(value='Waiting for wandb.init()...\\r'), FloatProgress(value=0.011111111111111112, max=1.0…"
            ]
          },
          "metadata": {},
          "output_type": "display_data"
        },
        {
          "data": {
            "text/html": [
              "wandb version 0.16.1 is available!  To upgrade, please run:\n",
              " $ pip install wandb --upgrade"
            ],
            "text/plain": [
              "<IPython.core.display.HTML object>"
            ]
          },
          "metadata": {},
          "output_type": "display_data"
        },
        {
          "data": {
            "text/html": [
              "Tracking run with wandb version 0.16.0"
            ],
            "text/plain": [
              "<IPython.core.display.HTML object>"
            ]
          },
          "metadata": {},
          "output_type": "display_data"
        },
        {
          "data": {
            "text/html": [
              "Run data is saved locally in <code>.\\wandb\\run-20231217_125937-a213wc0p</code>"
            ],
            "text/plain": [
              "<IPython.core.display.HTML object>"
            ]
          },
          "metadata": {},
          "output_type": "display_data"
        },
        {
          "data": {
            "text/html": [
              "Syncing run <strong><a href='https://wandb.ai/hse-iad/DL-HW-4/runs/a213wc0p' target=\"_blank\">titles</a></strong> to <a href='https://wandb.ai/hse-iad/DL-HW-4' target=\"_blank\">Weights & Biases</a> (<a href='https://wandb.me/run' target=\"_blank\">docs</a>)<br/>"
            ],
            "text/plain": [
              "<IPython.core.display.HTML object>"
            ]
          },
          "metadata": {},
          "output_type": "display_data"
        },
        {
          "data": {
            "text/html": [
              " View project at <a href='https://wandb.ai/hse-iad/DL-HW-4' target=\"_blank\">https://wandb.ai/hse-iad/DL-HW-4</a>"
            ],
            "text/plain": [
              "<IPython.core.display.HTML object>"
            ]
          },
          "metadata": {},
          "output_type": "display_data"
        },
        {
          "data": {
            "text/html": [
              " View run at <a href='https://wandb.ai/hse-iad/DL-HW-4/runs/a213wc0p' target=\"_blank\">https://wandb.ai/hse-iad/DL-HW-4/runs/a213wc0p</a>"
            ],
            "text/plain": [
              "<IPython.core.display.HTML object>"
            ]
          },
          "metadata": {},
          "output_type": "display_data"
        },
        {
          "name": "stderr",
          "output_type": "stream",
          "text": [
            "LOCAL_RANK: 0 - CUDA_VISIBLE_DEVICES: [0]\n",
            "\n",
            "  | Name      | Type             | Params\n",
            "-----------------------------------------------\n",
            "0 | model     | TitlesClassifier | 46.9 M\n",
            "1 | criterion | CrossEntropyLoss | 0     \n",
            "-----------------------------------------------\n",
            "46.9 M    Trainable params\n",
            "0         Non-trainable params\n",
            "46.9 M    Total params\n",
            "187.568   Total estimated model params size (MB)\n"
          ]
        },
        {
          "data": {
            "application/vnd.jupyter.widget-view+json": {
              "model_id": "04b24c01cafa485f9cddffecb9425f45",
              "version_major": 2,
              "version_minor": 0
            },
            "text/plain": [
              "Sanity Checking: |          | 0/? [00:00<?, ?it/s]"
            ]
          },
          "metadata": {},
          "output_type": "display_data"
        },
        {
          "data": {
            "application/vnd.jupyter.widget-view+json": {
              "model_id": "4c5052e28e0f4faa9431225166115570",
              "version_major": 2,
              "version_minor": 0
            },
            "text/plain": [
              "Training: |          | 0/? [00:00<?, ?it/s]"
            ]
          },
          "metadata": {},
          "output_type": "display_data"
        },
        {
          "data": {
            "application/vnd.jupyter.widget-view+json": {
              "model_id": "107346e9f6ee47c59c69f5b602afd439",
              "version_major": 2,
              "version_minor": 0
            },
            "text/plain": [
              "Validation: |          | 0/? [00:00<?, ?it/s]"
            ]
          },
          "metadata": {},
          "output_type": "display_data"
        },
        {
          "data": {
            "application/vnd.jupyter.widget-view+json": {
              "model_id": "07e9a74f8a594ee1b01582c90ba5967c",
              "version_major": 2,
              "version_minor": 0
            },
            "text/plain": [
              "Validation: |          | 0/? [00:00<?, ?it/s]"
            ]
          },
          "metadata": {},
          "output_type": "display_data"
        },
        {
          "data": {
            "application/vnd.jupyter.widget-view+json": {
              "model_id": "8f56eed86df343d6ab4e825e3f887fc1",
              "version_major": 2,
              "version_minor": 0
            },
            "text/plain": [
              "Validation: |          | 0/? [00:00<?, ?it/s]"
            ]
          },
          "metadata": {},
          "output_type": "display_data"
        },
        {
          "data": {
            "application/vnd.jupyter.widget-view+json": {
              "model_id": "69ce9b9ada1249ae933c4f9fde8a7a72",
              "version_major": 2,
              "version_minor": 0
            },
            "text/plain": [
              "Validation: |          | 0/? [00:00<?, ?it/s]"
            ]
          },
          "metadata": {},
          "output_type": "display_data"
        },
        {
          "data": {
            "application/vnd.jupyter.widget-view+json": {
              "model_id": "7dac73bcdf0d443c806000d01ad0b6a8",
              "version_major": 2,
              "version_minor": 0
            },
            "text/plain": [
              "Validation: |          | 0/? [00:00<?, ?it/s]"
            ]
          },
          "metadata": {},
          "output_type": "display_data"
        },
        {
          "name": "stderr",
          "output_type": "stream",
          "text": [
            "`Trainer.fit` stopped: `max_epochs=5` reached.\n"
          ]
        },
        {
          "data": {
            "application/vnd.jupyter.widget-view+json": {
              "model_id": "b8e74dee171c4c2ea735ce889a17d803",
              "version_major": 2,
              "version_minor": 0
            },
            "text/plain": [
              "VBox(children=(Label(value='0.001 MB of 0.005 MB uploaded\\r'), FloatProgress(value=0.2752256770310933, max=1.0…"
            ]
          },
          "metadata": {},
          "output_type": "display_data"
        },
        {
          "data": {
            "text/html": [
              "<style>\n",
              "    table.wandb td:nth-child(1) { padding: 0 10px; text-align: left ; width: auto;} td:nth-child(2) {text-align: left ; width: 100%}\n",
              "    .wandb-row { display: flex; flex-direction: row; flex-wrap: wrap; justify-content: flex-start; width: 100% }\n",
              "    .wandb-col { display: flex; flex-direction: column; flex-basis: 100%; flex: 1; padding: 10px; }\n",
              "    </style>\n",
              "<div class=\"wandb-row\"><div class=\"wandb-col\"><h3>Run history:</h3><br/><table class=\"wandb\"><tr><td>epoch</td><td>▁▁▁▁▁▁▁▁▃▃▃▃▃▃▃▃▅▅▅▅▅▅▅▅▆▆▆▆▆▆▆▆████████</td></tr><tr><td>train_loss</td><td>▇▆▆█▆▄▆▅▅▃▄▅▄▄▃▃▃▄▂▃▃▃▃▂▂▂▃▂▂▁▁▂▁▁▂▁▂▂▁▂</td></tr><tr><td>trainer/global_step</td><td>▁▁▁▂▂▂▂▂▂▃▃▃▃▃▃▄▄▄▄▄▅▅▅▅▅▅▆▆▆▆▆▇▇▇▇▇▇███</td></tr><tr><td>val_loss</td><td>█▅▃▂▁</td></tr></table><br/></div><div class=\"wandb-col\"><h3>Run summary:</h3><br/><table class=\"wandb\"><tr><td>epoch</td><td>4</td></tr><tr><td>train_loss</td><td>8.74937</td></tr><tr><td>trainer/global_step</td><td>10694</td></tr><tr><td>val_loss</td><td>10.93903</td></tr></table><br/></div></div>"
            ],
            "text/plain": [
              "<IPython.core.display.HTML object>"
            ]
          },
          "metadata": {},
          "output_type": "display_data"
        },
        {
          "data": {
            "text/html": [
              " View run <strong style=\"color:#cdcd00\">titles</strong> at: <a href='https://wandb.ai/hse-iad/DL-HW-4/runs/a213wc0p' target=\"_blank\">https://wandb.ai/hse-iad/DL-HW-4/runs/a213wc0p</a><br/>Synced 5 W&B file(s), 0 media file(s), 0 artifact file(s) and 0 other file(s)"
            ],
            "text/plain": [
              "<IPython.core.display.HTML object>"
            ]
          },
          "metadata": {},
          "output_type": "display_data"
        },
        {
          "data": {
            "text/html": [
              "Find logs at: <code>.\\wandb\\run-20231217_125937-a213wc0p\\logs</code>"
            ],
            "text/plain": [
              "<IPython.core.display.HTML object>"
            ]
          },
          "metadata": {},
          "output_type": "display_data"
        }
      ],
      "source": [
        "fix_random()\n",
        "\n",
        "wandb_logger = pytorch_lightning.loggers.WandbLogger(project = \"DL-HW-4\", name = \"titles\")\n",
        "trainer = pytorch_lightning.Trainer(accelerator = \"gpu\", max_epochs = EPOCHS, logger = wandb_logger)\n",
        "titles_model = TitlesClassifier(VOCAB_SIZE, EMBEDDING_DIM, NUM_CLASSES)\n",
        "\n",
        "train_module = TrainLightningModule(titles_model, LR, criterion)\n",
        "trainer.fit(train_module, titles_train_loader, titles_val_loader)\n",
        "wandb.finish()"
      ]
    },
    {
      "cell_type": "code",
      "execution_count": 30,
      "metadata": {},
      "outputs": [],
      "source": [
        "class SnippetsClassifier(torch.nn.Module):\n",
        "    def __init__(self, vocab_size, embedding_dim, output_dim):\n",
        "        super().__init__()\n",
        "        self.embedding = torch.nn.Embedding(vocab_size, embedding_dim)\n",
        "        self.fc = torch.nn.Linear(2 * embedding_dim, output_dim)\n",
        "\n",
        "    def forward(self, titles, snippets):\n",
        "        embedded_titles = self.embedding(titles).mean(dim = 1)\n",
        "        embedded_snippets = self.embedding(snippets).mean(dim = 1)\n",
        "        return self.fc(torch.cat([ embedded_titles, embedded_snippets ], dim = 1))"
      ]
    },
    {
      "cell_type": "code",
      "execution_count": 31,
      "metadata": {},
      "outputs": [
        {
          "name": "stderr",
          "output_type": "stream",
          "text": [
            "GPU available: True (cuda), used: True\n",
            "TPU available: False, using: 0 TPU cores\n",
            "IPU available: False, using: 0 IPUs\n",
            "HPU available: False, using: 0 HPUs\n"
          ]
        },
        {
          "data": {
            "application/vnd.jupyter.widget-view+json": {
              "model_id": "4de6ef6c485d4ac3ae78377b352efff3",
              "version_major": 2,
              "version_minor": 0
            },
            "text/plain": [
              "VBox(children=(Label(value='Waiting for wandb.init()...\\r'), FloatProgress(value=0.011288888888884685, max=1.0…"
            ]
          },
          "metadata": {},
          "output_type": "display_data"
        },
        {
          "data": {
            "text/html": [
              "wandb version 0.16.1 is available!  To upgrade, please run:\n",
              " $ pip install wandb --upgrade"
            ],
            "text/plain": [
              "<IPython.core.display.HTML object>"
            ]
          },
          "metadata": {},
          "output_type": "display_data"
        },
        {
          "data": {
            "text/html": [
              "Tracking run with wandb version 0.16.0"
            ],
            "text/plain": [
              "<IPython.core.display.HTML object>"
            ]
          },
          "metadata": {},
          "output_type": "display_data"
        },
        {
          "data": {
            "text/html": [
              "Run data is saved locally in <code>.\\wandb\\run-20231217_130327-cgpg1ani</code>"
            ],
            "text/plain": [
              "<IPython.core.display.HTML object>"
            ]
          },
          "metadata": {},
          "output_type": "display_data"
        },
        {
          "data": {
            "text/html": [
              "Syncing run <strong><a href='https://wandb.ai/hse-iad/DL-HW-4/runs/cgpg1ani' target=\"_blank\">snippets</a></strong> to <a href='https://wandb.ai/hse-iad/DL-HW-4' target=\"_blank\">Weights & Biases</a> (<a href='https://wandb.me/run' target=\"_blank\">docs</a>)<br/>"
            ],
            "text/plain": [
              "<IPython.core.display.HTML object>"
            ]
          },
          "metadata": {},
          "output_type": "display_data"
        },
        {
          "data": {
            "text/html": [
              " View project at <a href='https://wandb.ai/hse-iad/DL-HW-4' target=\"_blank\">https://wandb.ai/hse-iad/DL-HW-4</a>"
            ],
            "text/plain": [
              "<IPython.core.display.HTML object>"
            ]
          },
          "metadata": {},
          "output_type": "display_data"
        },
        {
          "data": {
            "text/html": [
              " View run at <a href='https://wandb.ai/hse-iad/DL-HW-4/runs/cgpg1ani' target=\"_blank\">https://wandb.ai/hse-iad/DL-HW-4/runs/cgpg1ani</a>"
            ],
            "text/plain": [
              "<IPython.core.display.HTML object>"
            ]
          },
          "metadata": {},
          "output_type": "display_data"
        },
        {
          "name": "stderr",
          "output_type": "stream",
          "text": [
            "LOCAL_RANK: 0 - CUDA_VISIBLE_DEVICES: [0]\n",
            "\n",
            "  | Name      | Type               | Params\n",
            "-------------------------------------------------\n",
            "0 | model     | SnippetsClassifier | 47.7 M\n",
            "1 | criterion | CrossEntropyLoss   | 0     \n",
            "-------------------------------------------------\n",
            "47.7 M    Trainable params\n",
            "0         Non-trainable params\n",
            "47.7 M    Total params\n",
            "190.810   Total estimated model params size (MB)\n"
          ]
        },
        {
          "data": {
            "application/vnd.jupyter.widget-view+json": {
              "model_id": "00a24222850a4cbb93701a0389b51ada",
              "version_major": 2,
              "version_minor": 0
            },
            "text/plain": [
              "Sanity Checking: |          | 0/? [00:00<?, ?it/s]"
            ]
          },
          "metadata": {},
          "output_type": "display_data"
        },
        {
          "data": {
            "application/vnd.jupyter.widget-view+json": {
              "model_id": "410d1f31b2ee4028a79f997696589246",
              "version_major": 2,
              "version_minor": 0
            },
            "text/plain": [
              "Training: |          | 0/? [00:00<?, ?it/s]"
            ]
          },
          "metadata": {},
          "output_type": "display_data"
        },
        {
          "data": {
            "application/vnd.jupyter.widget-view+json": {
              "model_id": "3a12f6f6e8944fdc8dabe7bfb8729066",
              "version_major": 2,
              "version_minor": 0
            },
            "text/plain": [
              "Validation: |          | 0/? [00:00<?, ?it/s]"
            ]
          },
          "metadata": {},
          "output_type": "display_data"
        },
        {
          "data": {
            "application/vnd.jupyter.widget-view+json": {
              "model_id": "cdeed15b4ff84290bd10a85e4de8048e",
              "version_major": 2,
              "version_minor": 0
            },
            "text/plain": [
              "Validation: |          | 0/? [00:00<?, ?it/s]"
            ]
          },
          "metadata": {},
          "output_type": "display_data"
        },
        {
          "data": {
            "application/vnd.jupyter.widget-view+json": {
              "model_id": "3be0898eafa448b5b8bed264d8ffda60",
              "version_major": 2,
              "version_minor": 0
            },
            "text/plain": [
              "Validation: |          | 0/? [00:00<?, ?it/s]"
            ]
          },
          "metadata": {},
          "output_type": "display_data"
        },
        {
          "data": {
            "application/vnd.jupyter.widget-view+json": {
              "model_id": "fd21511643b84065a5718bda8b0e040d",
              "version_major": 2,
              "version_minor": 0
            },
            "text/plain": [
              "Validation: |          | 0/? [00:00<?, ?it/s]"
            ]
          },
          "metadata": {},
          "output_type": "display_data"
        },
        {
          "data": {
            "application/vnd.jupyter.widget-view+json": {
              "model_id": "b13c80cf2bca459190d05a2f353ed017",
              "version_major": 2,
              "version_minor": 0
            },
            "text/plain": [
              "Validation: |          | 0/? [00:00<?, ?it/s]"
            ]
          },
          "metadata": {},
          "output_type": "display_data"
        },
        {
          "name": "stderr",
          "output_type": "stream",
          "text": [
            "`Trainer.fit` stopped: `max_epochs=5` reached.\n"
          ]
        },
        {
          "data": {
            "application/vnd.jupyter.widget-view+json": {
              "model_id": "6f17b02c38394aeea66682bd8ab057c1",
              "version_major": 2,
              "version_minor": 0
            },
            "text/plain": [
              "VBox(children=(Label(value='0.001 MB of 0.001 MB uploaded\\r'), FloatProgress(value=1.0, max=1.0)))"
            ]
          },
          "metadata": {},
          "output_type": "display_data"
        },
        {
          "data": {
            "text/html": [
              "<style>\n",
              "    table.wandb td:nth-child(1) { padding: 0 10px; text-align: left ; width: auto;} td:nth-child(2) {text-align: left ; width: 100%}\n",
              "    .wandb-row { display: flex; flex-direction: row; flex-wrap: wrap; justify-content: flex-start; width: 100% }\n",
              "    .wandb-col { display: flex; flex-direction: column; flex-basis: 100%; flex: 1; padding: 10px; }\n",
              "    </style>\n",
              "<div class=\"wandb-row\"><div class=\"wandb-col\"><h3>Run history:</h3><br/><table class=\"wandb\"><tr><td>epoch</td><td>▁▁▁▁▁▁▁▁▃▃▃▃▃▃▃▃▅▅▅▅▅▅▅▅▆▆▆▆▆▆▆▆████████</td></tr><tr><td>train_loss</td><td>▇███▇█▆▅▅▄▅▄▃▄▄▃▄▃▃▃▄▄▂▂▄▃▃▂▃▂▂▂▂▁▃▃▁▂▂▂</td></tr><tr><td>trainer/global_step</td><td>▁▁▁▂▂▂▂▂▂▃▃▃▃▃▃▄▄▄▄▄▅▅▅▅▅▅▆▆▆▆▆▇▇▇▇▇▇███</td></tr><tr><td>val_loss</td><td>█▅▃▂▁</td></tr></table><br/></div><div class=\"wandb-col\"><h3>Run summary:</h3><br/><table class=\"wandb\"><tr><td>epoch</td><td>4</td></tr><tr><td>train_loss</td><td>6.51881</td></tr><tr><td>trainer/global_step</td><td>10694</td></tr><tr><td>val_loss</td><td>10.64489</td></tr></table><br/></div></div>"
            ],
            "text/plain": [
              "<IPython.core.display.HTML object>"
            ]
          },
          "metadata": {},
          "output_type": "display_data"
        },
        {
          "data": {
            "text/html": [
              " View run <strong style=\"color:#cdcd00\">snippets</strong> at: <a href='https://wandb.ai/hse-iad/DL-HW-4/runs/cgpg1ani' target=\"_blank\">https://wandb.ai/hse-iad/DL-HW-4/runs/cgpg1ani</a><br/>Synced 5 W&B file(s), 0 media file(s), 0 artifact file(s) and 0 other file(s)"
            ],
            "text/plain": [
              "<IPython.core.display.HTML object>"
            ]
          },
          "metadata": {},
          "output_type": "display_data"
        },
        {
          "data": {
            "text/html": [
              "Find logs at: <code>.\\wandb\\run-20231217_130327-cgpg1ani\\logs</code>"
            ],
            "text/plain": [
              "<IPython.core.display.HTML object>"
            ]
          },
          "metadata": {},
          "output_type": "display_data"
        }
      ],
      "source": [
        "fix_random()\n",
        "\n",
        "wandb_logger = pytorch_lightning.loggers.WandbLogger(project = \"DL-HW-4\", name = \"snippets\")\n",
        "trainer = pytorch_lightning.Trainer(accelerator = \"gpu\", max_epochs = EPOCHS, logger = wandb_logger)\n",
        "snippets_model = SnippetsClassifier(VOCAB_SIZE, EMBEDDING_DIM, NUM_CLASSES)\n",
        "\n",
        "train_module = TrainLightningModule(snippets_model, LR, criterion)\n",
        "trainer.fit(train_module, snippets_train_loader, snippets_val_loader)\n",
        "wandb.finish()"
      ]
    },
    {
      "cell_type": "markdown",
      "metadata": {},
      "source": [
        "![Alternative Text][1702909718398]\n",
        "\n",
        "[1702909718398]:data:image/png;base64,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"
      ]
    },
    {
      "cell_type": "markdown",
      "metadata": {
        "id": "qKdBptFbM_zi"
      },
      "source": [
        "### 1.5 Инференс и оценка качества моделей"
      ]
    },
    {
      "cell_type": "markdown",
      "metadata": {},
      "source": [
        "Для каждой новости нам надо предсказывать несколько тэгов. То есть в нашем случае настоящее значение таргета это множество из тэгов $y_i = [tag1, tag2, tag3]$. Прогноз модели также множество из тэгов $\\hat y_i = [tag1, tag4]$.\n",
        "\n",
        "Будем считать метрики качества следующим образом (под $|A|$ имеется в виду мощность множества, то есть число элементов в нём):\n",
        "\n",
        "$$\n",
        "Precision = \\frac{1}{n} \\sum_{i = 1}^n \\frac{|y_i \\cap \\hat{y}_i|}{|\\hat{y}_i|}\n",
        "$$\n",
        "\n",
        "$$\n",
        "Recall = \\frac{1}{n} \\sum_{i = 1}^n \\frac{|y_i \\cap \\hat{y}_i|}{|y_i|}\n",
        "$$\n",
        "\n",
        "Также можно считать аналог Accuracy, но это не самая удачная идея, так как у нас в выборке огромное число нулей и эта метрика при любом разумном пороге для принятия решения будет очень высокой.\n",
        "\n",
        "$$\n",
        "Exact Match = \\frac{1}{n} \\cdot \\frac{1}{k} \\sum_{i = 1}^n \\sum_{k=1}^K [y_{ij} = \\hat{y}_{ij}]\n",
        "$$"
      ]
    },
    {
      "cell_type": "code",
      "execution_count": 32,
      "metadata": {
        "id": "tgBsB48FM_zi"
      },
      "outputs": [],
      "source": [
        "def precision(target, y_pred):\n",
        "    num = ((y_pred == 1) & (target == 1)).sum(dim = 1)\n",
        "    denum = (y_pred == 1).sum(dim = 1)\n",
        "    return (num / (denum + 1e-5)).mean().item()\n",
        "\n",
        "def recall(target, y_pred):\n",
        "    num = ((y_pred == 1) & (target == 1)).sum(dim = 1)\n",
        "    denum = (target == 1).sum(dim = 1)\n",
        "    return (num / (denum + 1e-5)).mean().item()\n",
        "\n",
        "def exact_match(target, y_pred):\n",
        "    return (1. * (y_pred == target)).mean().item()"
      ]
    },
    {
      "cell_type": "markdown",
      "metadata": {
        "id": "eD9UeFECM_zi"
      },
      "source": [
        "Построим прогноз на тестовой выборке."
      ]
    },
    {
      "cell_type": "code",
      "execution_count": 33,
      "metadata": {
        "id": "JHHDcGUDM_zi"
      },
      "outputs": [],
      "source": [
        "test_loader = torch.utils.data.DataLoader(titles_test_ds, shuffle = False, batch_size = len(titles_test_ds))\n",
        "for titles, target in test_loader:\n",
        "    logit = titles_model(titles)\n",
        "    pred_prob = torch.nn.functional.softmax(logit, dim = 1)\n",
        "\n",
        "assert pred_prob.shape[0] == len(titles_test_ds)"
      ]
    },
    {
      "cell_type": "markdown",
      "metadata": {
        "id": "mzbiK9llM_zi"
      },
      "source": [
        "Теперь выбирая различное значение порога, мы можем получать разные предсказания. Если взять очень большое значение порога, то метрики сильно просядут, так как во многих документах никакого прогноза не будет построено вообще."
      ]
    },
    {
      "cell_type": "code",
      "execution_count": 34,
      "metadata": {
        "colab": {
          "base_uri": "https://localhost:8080/"
        },
        "id": "v2UI7GKqM_zj",
        "outputId": "c0385b7a-87c8-4e0a-914c-9ac9a93ce67a"
      },
      "outputs": [
        {
          "name": "stdout",
          "output_type": "stream",
          "text": [
            "Exact Match: 0.995770275592804\n",
            "Precision: 0.2903725802898407\n",
            "Recall: 0.7468090057373047\n"
          ]
        }
      ],
      "source": [
        "TRESHOLD = 0.01\n",
        "y_pred = 1 * (pred_prob > TRESHOLD)\n",
        "print('Exact Match:', exact_match(target, y_pred))\n",
        "print('Precision:', precision(target, y_pred))\n",
        "print('Recall:', recall(target, y_pred))"
      ]
    },
    {
      "cell_type": "code",
      "execution_count": 35,
      "metadata": {
        "colab": {
          "base_uri": "https://localhost:8080/"
        },
        "id": "6v3CTYheM_zj",
        "outputId": "eec95f36-d6c3-444d-dc0d-0b7161d31a9d"
      },
      "outputs": [
        {
          "name": "stdout",
          "output_type": "stream",
          "text": [
            "Exact Match: 0.9983781576156616\n",
            "Precision: 0.5278831720352173\n",
            "Recall: 0.5895718932151794\n"
          ]
        }
      ],
      "source": [
        "TRESHOLD = 0.05\n",
        "y_pred = 1 * (pred_prob > TRESHOLD)\n",
        "print('Exact Match:', exact_match(target, y_pred))\n",
        "print('Precision:', precision(target, y_pred))\n",
        "print('Recall:', recall(target, y_pred))"
      ]
    },
    {
      "cell_type": "code",
      "execution_count": 36,
      "metadata": {
        "colab": {
          "base_uri": "https://localhost:8080/"
        },
        "id": "7mokX9IVM_zj",
        "outputId": "239c1246-ca6d-4579-be5b-5ebebb4fe526"
      },
      "outputs": [
        {
          "name": "stdout",
          "output_type": "stream",
          "text": [
            "Exact Match: 0.9983201622962952\n",
            "Precision: 0.0036143080797046423\n",
            "Recall: 0.0034304645378142595\n"
          ]
        }
      ],
      "source": [
        "TRESHOLD = 0.9\n",
        "y_pred = 1 * (pred_prob > TRESHOLD)\n",
        "\n",
        "print('Exact Match:', exact_match(target, y_pred))\n",
        "print('Precision:', precision(target, y_pred))\n",
        "print('Recall:', recall(target, y_pred))"
      ]
    },
    {
      "cell_type": "markdown",
      "metadata": {
        "id": "IUWFt7jjM_zj"
      },
      "source": [
        "Дальше мы будем строить довольно много прогнозов. Давайте напишем код для их строительства в виде функции. Обратите внимание, что на модели со снипетом она упадёт. Когда вы доберётесь до строительства прогнозов, функцию придётся немного модернизировать."
      ]
    },
    {
      "cell_type": "code",
      "execution_count": 37,
      "metadata": {
        "id": "B3YFX4d2M_zk"
      },
      "outputs": [],
      "source": [
        "def get_predict(model, dataset):\n",
        "    loader = torch.utils.data.DataLoader(dataset, shuffle = False, batch_size = 64)\n",
        "    model = model.to(device).eval()\n",
        "    output_probs = None\n",
        "    targets = None\n",
        "    for data in loader:\n",
        "        for i in range(len(data) - 1):\n",
        "            data[i] = data[i].to(device)\n",
        "\n",
        "        with torch.no_grad():\n",
        "            output = model(*data[:-1])\n",
        "            output_prob = torch.nn.functional.softmax(output, dim = 1)\n",
        "\n",
        "        if output_probs is None:\n",
        "            output_probs = output_prob.detach().cpu()\n",
        "            targets = data[-1]\n",
        "        else:\n",
        "            output_probs = torch.cat([ output_probs, output_prob.detach().cpu() ], dim = 0)\n",
        "            targets = torch.cat([ targets, data[-1] ], dim = 0)\n",
        "\n",
        "    assert output_probs.shape[0] == len(dataset)\n",
        "    assert targets.shape[0] == len(dataset)\n",
        "    return output_probs, targets"
      ]
    },
    {
      "cell_type": "markdown",
      "metadata": {
        "id": "g0n493n_M_zk"
      },
      "source": [
        "__[0.2 балла] Задание 5:__ Какая метрика для нас в этой задаче важнее? Точность или полнота? Почему?\n",
        "\n",
        "__ваш ответ:__ \\\n",
        "Ответ, безусловно, зависит от бизнес-задачи, которую мы пытаемся решить нашей моделью. С учётом только той информации, которая дана в задании, я считаю, что precision для нас важнее: лучше, чтобы у новости было мало тегов, все из которых действительно подходят, чем много тегов, большинство из которых не имеют отношения к реальному содержанию. \\\n",
        "Более того, для любых предсказаний можно выбрать порог (например, равный 0), при котором recall равен единице. В такой постановке любая модель работает идеально. Очевидно, это не то, что мы хотим: precision нужно учитывать в любом случае. При необходимости выбора только одной из метрик, целесообразно отдать предпочтение precision."
      ]
    },
    {
      "cell_type": "markdown",
      "metadata": {
        "id": "6TFEvxI6M_zk"
      },
      "source": [
        "- Напишите функцию, которая будет подбирать оптимальное значение порога, оптимизирующее выбранную вами метрику.\n",
        "- Подберите значение порога на валидационной выборке.\n",
        "- Сравните модель со сниппетами и без сниппетов, используя выбранную вами метрику при оптимальном значении порога на тестовой выборке.\n",
        "- Какая из них оказалась лучше?"
      ]
    },
    {
      "cell_type": "code",
      "execution_count": 38,
      "metadata": {
        "id": "BCq67JmUM_zl"
      },
      "outputs": [],
      "source": [
        "def get_threshold(pred_prob, target, step = 0.002):\n",
        "    target = target.to(device)\n",
        "    pred_prob = pred_prob.to(device)\n",
        "    best_precision = target.new_tensor([ 0. ])\n",
        "    best_threshold = target.new_tensor([ 0. ])\n",
        "    for threshold in torch.arange(0, 1, step):\n",
        "        y_pred = 1 * (pred_prob > threshold)\n",
        "        prec = precision(target, y_pred)\n",
        "        if prec > best_precision:\n",
        "            best_precision = prec\n",
        "            best_threshold = threshold\n",
        "    return best_threshold.item(), best_precision, recall(target, 1 * (pred_prob > best_threshold))"
      ]
    },
    {
      "cell_type": "code",
      "execution_count": 39,
      "metadata": {},
      "outputs": [
        {
          "data": {
            "text/plain": [
              "(0.11800000071525574, 0.7312662601470947, 0.5001657009124756)"
            ]
          },
          "execution_count": 39,
          "metadata": {},
          "output_type": "execute_result"
        }
      ],
      "source": [
        "get_threshold(*get_predict(titles_model, titles_val_ds))"
      ]
    },
    {
      "cell_type": "code",
      "execution_count": 40,
      "metadata": {},
      "outputs": [
        {
          "data": {
            "text/plain": [
              "(0.09799999743700027, 0.7360733151435852, 0.5382505655288696)"
            ]
          },
          "execution_count": 40,
          "metadata": {},
          "output_type": "execute_result"
        }
      ],
      "source": [
        "get_threshold(*get_predict(snippets_model, snippets_val_ds))"
      ]
    },
    {
      "cell_type": "markdown",
      "metadata": {},
      "source": [
        "Модель со снипетами оказалась немного лучше."
      ]
    },
    {
      "cell_type": "markdown",
      "metadata": {
        "id": "o-QRc-UXM_zl"
      },
      "source": [
        "__[0.2 балла] Задание 6:__  Постройте прогнозы для отложенной выборки, которая представляет из себя пересечение сайта РИА-новостей и ВКонтакте. Проседает ли на ней качество модели? Насколько сильно?"
      ]
    },
    {
      "cell_type": "code",
      "execution_count": 41,
      "metadata": {
        "id": "1Z5AvLtcM_zl"
      },
      "outputs": [
        {
          "data": {
            "text/plain": [
              "(0.1120000034570694, 0.552761971950531, 0.4190524220466614)"
            ]
          },
          "execution_count": 41,
          "metadata": {},
          "output_type": "execute_result"
        }
      ],
      "source": [
        "get_threshold(*get_predict(titles_model, titles_oob_ds))"
      ]
    },
    {
      "cell_type": "code",
      "execution_count": 42,
      "metadata": {},
      "outputs": [
        {
          "data": {
            "text/plain": [
              "(0.06800000369548798, 0.41586995124816895, 0.35732147097587585)"
            ]
          },
          "execution_count": 42,
          "metadata": {},
          "output_type": "execute_result"
        }
      ],
      "source": [
        "get_threshold(*get_predict(snippets_model, snippets_oob_ds))"
      ]
    },
    {
      "cell_type": "markdown",
      "metadata": {},
      "source": [
        "Проседает, причем достаточно заметно. Интересно, что модель со снипетами показала результат хуже, чем модель без снипетов, несмотря на то, что на валидационной выборке результат противоположный."
      ]
    },
    {
      "cell_type": "markdown",
      "metadata": {
        "id": "EmFzWAHtM_zl"
      },
      "source": [
        "### 1.6 Бонусное задание "
      ]
    },
    {
      "cell_type": "markdown",
      "metadata": {},
      "source": [
        "Давайте модернизируем наши архитектуры настолько, насколько это возможно.\n",
        "\n",
        "__[0.5 балла]__ Попробуйте собрать более большую архитектуру. Например, сразу после слоя эмбеддингов вы можете попробовать добавить свёрточные слои (`Conv1D` свёртки). Поиграйте с оптимизатором и тп.\n",
        "\n",
        "Опишите результаты своих экспериментов ниже. Расскажите, что конкретно вы делали и удалось ли вам улучшить качество модели. Все траектории обучения залоггируйте на WandB.  "
      ]
    },
    {
      "cell_type": "markdown",
      "metadata": {},
      "source": [
        "__Ваш лог экспериментов:__ \\\n",
        "Будем обучать модель без снипетов. Если учёт снипетов и может дать прирост к качеству, то, скорее всего, незначительный."
      ]
    },
    {
      "cell_type": "markdown",
      "metadata": {},
      "source": [
        "Попробуем добавить в архитектуру один свёрточный слой, \"смотрящий\" на все тройки последовательных слов."
      ]
    },
    {
      "cell_type": "code",
      "execution_count": 43,
      "metadata": {},
      "outputs": [],
      "source": [
        "class OneConvolutionClassifier(torch.nn.Module):\n",
        "    def __init__(self, vocab_size, embedding_dim, output_dim):\n",
        "        super().__init__()\n",
        "        self.embedding = torch.nn.Embedding(vocab_size, embedding_dim)\n",
        "        self.model = torch.nn.Sequential(\n",
        "            torch.nn.LazyConv1d(1024, kernel_size = 3), torch.nn.ReLU(), torch.nn.BatchNorm1d(1024),\n",
        "            torch.nn.AdaptiveAvgPool1d(1), torch.nn.Flatten(), torch.nn.Dropout(0.5), torch.nn.LazyLinear(output_dim)\n",
        "        )\n",
        "\n",
        "    def forward(self, titles):\n",
        "        return self.model(self.embedding(titles).transpose(1, 2))"
      ]
    },
    {
      "cell_type": "code",
      "execution_count": 44,
      "metadata": {},
      "outputs": [
        {
          "name": "stderr",
          "output_type": "stream",
          "text": [
            "GPU available: True (cuda), used: True\n",
            "TPU available: False, using: 0 TPU cores\n",
            "IPU available: False, using: 0 IPUs\n",
            "HPU available: False, using: 0 HPUs\n"
          ]
        },
        {
          "data": {
            "text/html": [
              "wandb version 0.16.1 is available!  To upgrade, please run:\n",
              " $ pip install wandb --upgrade"
            ],
            "text/plain": [
              "<IPython.core.display.HTML object>"
            ]
          },
          "metadata": {},
          "output_type": "display_data"
        },
        {
          "data": {
            "text/html": [
              "Tracking run with wandb version 0.16.0"
            ],
            "text/plain": [
              "<IPython.core.display.HTML object>"
            ]
          },
          "metadata": {},
          "output_type": "display_data"
        },
        {
          "data": {
            "text/html": [
              "Run data is saved locally in <code>.\\wandb\\run-20231217_130910-ybs931sy</code>"
            ],
            "text/plain": [
              "<IPython.core.display.HTML object>"
            ]
          },
          "metadata": {},
          "output_type": "display_data"
        },
        {
          "data": {
            "text/html": [
              "Syncing run <strong><a href='https://wandb.ai/hse-iad/DL-HW-4/runs/ybs931sy' target=\"_blank\">one_convolution</a></strong> to <a href='https://wandb.ai/hse-iad/DL-HW-4' target=\"_blank\">Weights & Biases</a> (<a href='https://wandb.me/run' target=\"_blank\">docs</a>)<br/>"
            ],
            "text/plain": [
              "<IPython.core.display.HTML object>"
            ]
          },
          "metadata": {},
          "output_type": "display_data"
        },
        {
          "data": {
            "text/html": [
              " View project at <a href='https://wandb.ai/hse-iad/DL-HW-4' target=\"_blank\">https://wandb.ai/hse-iad/DL-HW-4</a>"
            ],
            "text/plain": [
              "<IPython.core.display.HTML object>"
            ]
          },
          "metadata": {},
          "output_type": "display_data"
        },
        {
          "data": {
            "text/html": [
              " View run at <a href='https://wandb.ai/hse-iad/DL-HW-4/runs/ybs931sy' target=\"_blank\">https://wandb.ai/hse-iad/DL-HW-4/runs/ybs931sy</a>"
            ],
            "text/plain": [
              "<IPython.core.display.HTML object>"
            ]
          },
          "metadata": {},
          "output_type": "display_data"
        },
        {
          "name": "stderr",
          "output_type": "stream",
          "text": [
            "LOCAL_RANK: 0 - CUDA_VISIBLE_DEVICES: [0]\n",
            "\n",
            "  | Name      | Type                     | Params\n",
            "-------------------------------------------------------\n",
            "0 | model     | OneConvolutionClassifier | 46.1 M\n",
            "1 | criterion | CrossEntropyLoss         | 0     \n",
            "-------------------------------------------------------\n",
            "46.1 M    Trainable params\n",
            "0         Non-trainable params\n",
            "46.1 M    Total params\n",
            "184.328   Total estimated model params size (MB)\n"
          ]
        },
        {
          "data": {
            "application/vnd.jupyter.widget-view+json": {
              "model_id": "1169a4181c4a49dda2e86a2f7d3ef648",
              "version_major": 2,
              "version_minor": 0
            },
            "text/plain": [
              "Sanity Checking: |          | 0/? [00:00<?, ?it/s]"
            ]
          },
          "metadata": {},
          "output_type": "display_data"
        },
        {
          "data": {
            "application/vnd.jupyter.widget-view+json": {
              "model_id": "a7b0b7a9cbda4c1ab0956989fde310fd",
              "version_major": 2,
              "version_minor": 0
            },
            "text/plain": [
              "Training: |          | 0/? [00:00<?, ?it/s]"
            ]
          },
          "metadata": {},
          "output_type": "display_data"
        },
        {
          "data": {
            "application/vnd.jupyter.widget-view+json": {
              "model_id": "506ba155dffc45c49cf90d5d043d6d81",
              "version_major": 2,
              "version_minor": 0
            },
            "text/plain": [
              "Validation: |          | 0/? [00:00<?, ?it/s]"
            ]
          },
          "metadata": {},
          "output_type": "display_data"
        },
        {
          "data": {
            "application/vnd.jupyter.widget-view+json": {
              "model_id": "a60441c1ccc249c78f2a17e1237fae9f",
              "version_major": 2,
              "version_minor": 0
            },
            "text/plain": [
              "Validation: |          | 0/? [00:00<?, ?it/s]"
            ]
          },
          "metadata": {},
          "output_type": "display_data"
        },
        {
          "data": {
            "application/vnd.jupyter.widget-view+json": {
              "model_id": "50281a401e054ba08266c1125a2e47b0",
              "version_major": 2,
              "version_minor": 0
            },
            "text/plain": [
              "Validation: |          | 0/? [00:00<?, ?it/s]"
            ]
          },
          "metadata": {},
          "output_type": "display_data"
        },
        {
          "data": {
            "application/vnd.jupyter.widget-view+json": {
              "model_id": "58ce2b4bc0354de394370a1147f6e2f5",
              "version_major": 2,
              "version_minor": 0
            },
            "text/plain": [
              "Validation: |          | 0/? [00:00<?, ?it/s]"
            ]
          },
          "metadata": {},
          "output_type": "display_data"
        },
        {
          "data": {
            "application/vnd.jupyter.widget-view+json": {
              "model_id": "f6c1e5cb92474314bc73850f26f0f77b",
              "version_major": 2,
              "version_minor": 0
            },
            "text/plain": [
              "Validation: |          | 0/? [00:00<?, ?it/s]"
            ]
          },
          "metadata": {},
          "output_type": "display_data"
        },
        {
          "name": "stderr",
          "output_type": "stream",
          "text": [
            "`Trainer.fit` stopped: `max_epochs=5` reached.\n"
          ]
        },
        {
          "data": {
            "application/vnd.jupyter.widget-view+json": {
              "model_id": "efd6989ac995489aa0d1ae5c0fa52e93",
              "version_major": 2,
              "version_minor": 0
            },
            "text/plain": [
              "VBox(children=(Label(value='0.001 MB of 0.005 MB uploaded\\r'), FloatProgress(value=0.27303482587064676, max=1.…"
            ]
          },
          "metadata": {},
          "output_type": "display_data"
        },
        {
          "data": {
            "text/html": [
              "<style>\n",
              "    table.wandb td:nth-child(1) { padding: 0 10px; text-align: left ; width: auto;} td:nth-child(2) {text-align: left ; width: 100%}\n",
              "    .wandb-row { display: flex; flex-direction: row; flex-wrap: wrap; justify-content: flex-start; width: 100% }\n",
              "    .wandb-col { display: flex; flex-direction: column; flex-basis: 100%; flex: 1; padding: 10px; }\n",
              "    </style>\n",
              "<div class=\"wandb-row\"><div class=\"wandb-col\"><h3>Run history:</h3><br/><table class=\"wandb\"><tr><td>epoch</td><td>▁▁▁▁▁▁▁▁▃▃▃▃▃▃▃▃▅▅▅▅▅▅▅▅▆▆▆▆▆▆▆▆████████</td></tr><tr><td>train_loss</td><td>█▆▆▆▅▅▄▄▃▄▃▃▃▃▄▃▂▃▁▂▃▃▂▁▂▃▂▁▁▁▂▂▁▂▂▂▁▂▁▁</td></tr><tr><td>trainer/global_step</td><td>▁▁▁▂▂▂▂▂▂▃▃▃▃▃▃▄▄▄▄▄▅▅▅▅▅▅▆▆▆▆▆▇▇▇▇▇▇███</td></tr><tr><td>val_loss</td><td>█▄▂▁▁</td></tr></table><br/></div><div class=\"wandb-col\"><h3>Run summary:</h3><br/><table class=\"wandb\"><tr><td>epoch</td><td>4</td></tr><tr><td>train_loss</td><td>5.99364</td></tr><tr><td>trainer/global_step</td><td>10694</td></tr><tr><td>val_loss</td><td>10.82655</td></tr></table><br/></div></div>"
            ],
            "text/plain": [
              "<IPython.core.display.HTML object>"
            ]
          },
          "metadata": {},
          "output_type": "display_data"
        },
        {
          "data": {
            "text/html": [
              " View run <strong style=\"color:#cdcd00\">one_convolution</strong> at: <a href='https://wandb.ai/hse-iad/DL-HW-4/runs/ybs931sy' target=\"_blank\">https://wandb.ai/hse-iad/DL-HW-4/runs/ybs931sy</a><br/>Synced 5 W&B file(s), 0 media file(s), 0 artifact file(s) and 0 other file(s)"
            ],
            "text/plain": [
              "<IPython.core.display.HTML object>"
            ]
          },
          "metadata": {},
          "output_type": "display_data"
        },
        {
          "data": {
            "text/html": [
              "Find logs at: <code>.\\wandb\\run-20231217_130910-ybs931sy\\logs</code>"
            ],
            "text/plain": [
              "<IPython.core.display.HTML object>"
            ]
          },
          "metadata": {},
          "output_type": "display_data"
        }
      ],
      "source": [
        "fix_random()\n",
        "\n",
        "wandb_logger = pytorch_lightning.loggers.WandbLogger(project = \"DL-HW-4\", name = \"one_convolution\")\n",
        "trainer = pytorch_lightning.Trainer(accelerator = \"gpu\", max_epochs = EPOCHS, logger = wandb_logger)\n",
        "one_convolution_model = OneConvolutionClassifier(VOCAB_SIZE, EMBEDDING_DIM, NUM_CLASSES)\n",
        "\n",
        "train_module = TrainLightningModule(one_convolution_model, LR, criterion)\n",
        "trainer.fit(train_module, titles_train_loader, titles_val_loader)\n",
        "wandb.finish()"
      ]
    },
    {
      "cell_type": "code",
      "execution_count": 45,
      "metadata": {},
      "outputs": [
        {
          "name": "stdout",
          "output_type": "stream",
          "text": [
            "(0.1459999978542328, 0.7445623278617859, 0.503922700881958)\n",
            "(0.15399999916553497, 0.5701489448547363, 0.39625802636146545)\n"
          ]
        }
      ],
      "source": [
        "print(get_threshold(*get_predict(one_convolution_model, titles_val_ds)))\n",
        "print(get_threshold(*get_predict(one_convolution_model, titles_oob_ds)))"
      ]
    },
    {
      "cell_type": "markdown",
      "metadata": {},
      "source": [
        "Попробуем сделать два последовательных свёрточных слоя."
      ]
    },
    {
      "cell_type": "code",
      "execution_count": 46,
      "metadata": {},
      "outputs": [],
      "source": [
        "class SequentialConvolutionsClassifier(torch.nn.Module):\n",
        "    def __init__(self, vocab_size, embedding_dim, output_dim):\n",
        "        super().__init__()\n",
        "        self.embedding = torch.nn.Embedding(vocab_size, embedding_dim)\n",
        "        self.model = torch.nn.Sequential(\n",
        "            torch.nn.LazyConv1d(1024, kernel_size = 3), torch.nn.ReLU(), torch.nn.BatchNorm1d(1024),\n",
        "            torch.nn.LazyConv1d(1024, kernel_size = 3), torch.nn.ReLU(), torch.nn.BatchNorm1d(1024),\n",
        "            torch.nn.AdaptiveAvgPool1d(1), torch.nn.Flatten(), torch.nn.Dropout(0.5), torch.nn.LazyLinear(output_dim)\n",
        "        )\n",
        "\n",
        "    def forward(self, titles):\n",
        "        return self.model(self.embedding(titles).transpose(1, 2))"
      ]
    },
    {
      "cell_type": "code",
      "execution_count": 47,
      "metadata": {},
      "outputs": [
        {
          "name": "stderr",
          "output_type": "stream",
          "text": [
            "GPU available: True (cuda), used: True\n",
            "TPU available: False, using: 0 TPU cores\n",
            "IPU available: False, using: 0 IPUs\n",
            "HPU available: False, using: 0 HPUs\n"
          ]
        },
        {
          "data": {
            "application/vnd.jupyter.widget-view+json": {
              "model_id": "a90a5193038345c29f25d75d005b2bfa",
              "version_major": 2,
              "version_minor": 0
            },
            "text/plain": [
              "VBox(children=(Label(value='Waiting for wandb.init()...\\r'), FloatProgress(value=0.011288888888884685, max=1.0…"
            ]
          },
          "metadata": {},
          "output_type": "display_data"
        },
        {
          "data": {
            "text/html": [
              "wandb version 0.16.1 is available!  To upgrade, please run:\n",
              " $ pip install wandb --upgrade"
            ],
            "text/plain": [
              "<IPython.core.display.HTML object>"
            ]
          },
          "metadata": {},
          "output_type": "display_data"
        },
        {
          "data": {
            "text/html": [
              "Tracking run with wandb version 0.16.0"
            ],
            "text/plain": [
              "<IPython.core.display.HTML object>"
            ]
          },
          "metadata": {},
          "output_type": "display_data"
        },
        {
          "data": {
            "text/html": [
              "Run data is saved locally in <code>.\\wandb\\run-20231217_131507-szzh3xes</code>"
            ],
            "text/plain": [
              "<IPython.core.display.HTML object>"
            ]
          },
          "metadata": {},
          "output_type": "display_data"
        },
        {
          "data": {
            "text/html": [
              "Syncing run <strong><a href='https://wandb.ai/hse-iad/DL-HW-4/runs/szzh3xes' target=\"_blank\">sequential_convolutions</a></strong> to <a href='https://wandb.ai/hse-iad/DL-HW-4' target=\"_blank\">Weights & Biases</a> (<a href='https://wandb.me/run' target=\"_blank\">docs</a>)<br/>"
            ],
            "text/plain": [
              "<IPython.core.display.HTML object>"
            ]
          },
          "metadata": {},
          "output_type": "display_data"
        },
        {
          "data": {
            "text/html": [
              " View project at <a href='https://wandb.ai/hse-iad/DL-HW-4' target=\"_blank\">https://wandb.ai/hse-iad/DL-HW-4</a>"
            ],
            "text/plain": [
              "<IPython.core.display.HTML object>"
            ]
          },
          "metadata": {},
          "output_type": "display_data"
        },
        {
          "data": {
            "text/html": [
              " View run at <a href='https://wandb.ai/hse-iad/DL-HW-4/runs/szzh3xes' target=\"_blank\">https://wandb.ai/hse-iad/DL-HW-4/runs/szzh3xes</a>"
            ],
            "text/plain": [
              "<IPython.core.display.HTML object>"
            ]
          },
          "metadata": {},
          "output_type": "display_data"
        },
        {
          "name": "stderr",
          "output_type": "stream",
          "text": [
            "LOCAL_RANK: 0 - CUDA_VISIBLE_DEVICES: [0]\n",
            "\n",
            "  | Name      | Type                             | Params\n",
            "---------------------------------------------------------------\n",
            "0 | model     | SequentialConvolutionsClassifier | 46.1 M\n",
            "1 | criterion | CrossEntropyLoss                 | 0     \n",
            "---------------------------------------------------------------\n",
            "46.1 M    Trainable params\n",
            "0         Non-trainable params\n",
            "46.1 M    Total params\n",
            "184.336   Total estimated model params size (MB)\n"
          ]
        },
        {
          "data": {
            "application/vnd.jupyter.widget-view+json": {
              "model_id": "fb5ce27a8202476980f73ff8c1a598cb",
              "version_major": 2,
              "version_minor": 0
            },
            "text/plain": [
              "Sanity Checking: |          | 0/? [00:00<?, ?it/s]"
            ]
          },
          "metadata": {},
          "output_type": "display_data"
        },
        {
          "data": {
            "application/vnd.jupyter.widget-view+json": {
              "model_id": "9c04d6571d5a485b8c366b34576943ba",
              "version_major": 2,
              "version_minor": 0
            },
            "text/plain": [
              "Training: |          | 0/? [00:00<?, ?it/s]"
            ]
          },
          "metadata": {},
          "output_type": "display_data"
        },
        {
          "data": {
            "application/vnd.jupyter.widget-view+json": {
              "model_id": "040060956d4b4126b3636a920b87586f",
              "version_major": 2,
              "version_minor": 0
            },
            "text/plain": [
              "Validation: |          | 0/? [00:00<?, ?it/s]"
            ]
          },
          "metadata": {},
          "output_type": "display_data"
        },
        {
          "data": {
            "application/vnd.jupyter.widget-view+json": {
              "model_id": "9cf5f3d22b1f47129f2a62f07aad0b1d",
              "version_major": 2,
              "version_minor": 0
            },
            "text/plain": [
              "Validation: |          | 0/? [00:00<?, ?it/s]"
            ]
          },
          "metadata": {},
          "output_type": "display_data"
        },
        {
          "data": {
            "application/vnd.jupyter.widget-view+json": {
              "model_id": "d22bc910cbf74a75bbf4875e2a2bdad5",
              "version_major": 2,
              "version_minor": 0
            },
            "text/plain": [
              "Validation: |          | 0/? [00:00<?, ?it/s]"
            ]
          },
          "metadata": {},
          "output_type": "display_data"
        },
        {
          "data": {
            "application/vnd.jupyter.widget-view+json": {
              "model_id": "d0b2adab07cc441ca5711723b2cb19dd",
              "version_major": 2,
              "version_minor": 0
            },
            "text/plain": [
              "Validation: |          | 0/? [00:00<?, ?it/s]"
            ]
          },
          "metadata": {},
          "output_type": "display_data"
        },
        {
          "data": {
            "application/vnd.jupyter.widget-view+json": {
              "model_id": "248df8b97d4b4f44a4c6d8f49da999be",
              "version_major": 2,
              "version_minor": 0
            },
            "text/plain": [
              "Validation: |          | 0/? [00:00<?, ?it/s]"
            ]
          },
          "metadata": {},
          "output_type": "display_data"
        },
        {
          "name": "stderr",
          "output_type": "stream",
          "text": [
            "`Trainer.fit` stopped: `max_epochs=5` reached.\n"
          ]
        },
        {
          "data": {
            "application/vnd.jupyter.widget-view+json": {
              "model_id": "718380f2769f4a1c928c3f4eb29d7a21",
              "version_major": 2,
              "version_minor": 0
            },
            "text/plain": [
              "VBox(children=(Label(value='0.001 MB of 0.001 MB uploaded\\r'), FloatProgress(value=1.0, max=1.0)))"
            ]
          },
          "metadata": {},
          "output_type": "display_data"
        },
        {
          "data": {
            "text/html": [
              "<style>\n",
              "    table.wandb td:nth-child(1) { padding: 0 10px; text-align: left ; width: auto;} td:nth-child(2) {text-align: left ; width: 100%}\n",
              "    .wandb-row { display: flex; flex-direction: row; flex-wrap: wrap; justify-content: flex-start; width: 100% }\n",
              "    .wandb-col { display: flex; flex-direction: column; flex-basis: 100%; flex: 1; padding: 10px; }\n",
              "    </style>\n",
              "<div class=\"wandb-row\"><div class=\"wandb-col\"><h3>Run history:</h3><br/><table class=\"wandb\"><tr><td>epoch</td><td>▁▁▁▁▁▁▁▁▃▃▃▃▃▃▃▃▅▅▅▅▅▅▅▅▆▆▆▆▆▆▆▆████████</td></tr><tr><td>train_loss</td><td>█▆▇▆▅▆▅▄▄▅▃▃▃▃▅▃▂▃▁▂▃▃▂▁▂▃▁▁▁▁▂▂▁▁▁▂▁▂▁▁</td></tr><tr><td>trainer/global_step</td><td>▁▁▁▂▂▂▂▂▂▃▃▃▃▃▃▄▄▄▄▄▅▅▅▅▅▅▆▆▆▆▆▇▇▇▇▇▇███</td></tr><tr><td>val_loss</td><td>█▂▁▁▁</td></tr></table><br/></div><div class=\"wandb-col\"><h3>Run summary:</h3><br/><table class=\"wandb\"><tr><td>epoch</td><td>4</td></tr><tr><td>train_loss</td><td>6.11213</td></tr><tr><td>trainer/global_step</td><td>10694</td></tr><tr><td>val_loss</td><td>11.05747</td></tr></table><br/></div></div>"
            ],
            "text/plain": [
              "<IPython.core.display.HTML object>"
            ]
          },
          "metadata": {},
          "output_type": "display_data"
        },
        {
          "data": {
            "text/html": [
              " View run <strong style=\"color:#cdcd00\">sequential_convolutions</strong> at: <a href='https://wandb.ai/hse-iad/DL-HW-4/runs/szzh3xes' target=\"_blank\">https://wandb.ai/hse-iad/DL-HW-4/runs/szzh3xes</a><br/>Synced 5 W&B file(s), 0 media file(s), 0 artifact file(s) and 0 other file(s)"
            ],
            "text/plain": [
              "<IPython.core.display.HTML object>"
            ]
          },
          "metadata": {},
          "output_type": "display_data"
        },
        {
          "data": {
            "text/html": [
              "Find logs at: <code>.\\wandb\\run-20231217_131507-szzh3xes\\logs</code>"
            ],
            "text/plain": [
              "<IPython.core.display.HTML object>"
            ]
          },
          "metadata": {},
          "output_type": "display_data"
        }
      ],
      "source": [
        "fix_random()\n",
        "\n",
        "wandb_logger = pytorch_lightning.loggers.WandbLogger(project = \"DL-HW-4\", name = \"sequential_convolutions\")\n",
        "trainer = pytorch_lightning.Trainer(accelerator = \"gpu\", max_epochs = EPOCHS, logger = wandb_logger)\n",
        "sequential_convolutions_model = SequentialConvolutionsClassifier(VOCAB_SIZE, EMBEDDING_DIM, NUM_CLASSES)\n",
        "\n",
        "train_module = TrainLightningModule(sequential_convolutions_model, LR, criterion)\n",
        "trainer.fit(train_module, titles_train_loader, titles_val_loader)\n",
        "wandb.finish()"
      ]
    },
    {
      "cell_type": "code",
      "execution_count": 48,
      "metadata": {},
      "outputs": [
        {
          "name": "stdout",
          "output_type": "stream",
          "text": [
            "(0.14799998700618744, 0.7327661514282227, 0.49660077691078186)\n",
            "(0.12200000137090683, 0.5555276274681091, 0.44819459319114685)\n"
          ]
        }
      ],
      "source": [
        "print(get_threshold(*get_predict(sequential_convolutions_model, titles_val_ds)))\n",
        "print(get_threshold(*get_predict(sequential_convolutions_model, titles_oob_ds)))"
      ]
    },
    {
      "cell_type": "markdown",
      "metadata": {},
      "source": [
        "Значительного улучшения не наблюдается, но модель явно стала быстро переобучаться."
      ]
    },
    {
      "cell_type": "markdown",
      "metadata": {},
      "source": [
        "Попробуем использовать два свёрточных слоя параллельно."
      ]
    },
    {
      "cell_type": "code",
      "execution_count": 49,
      "metadata": {},
      "outputs": [],
      "source": [
        "class ParallelConvolutionsClassifier(torch.nn.Module):\n",
        "    def __init__(self, vocab_size, embedding_dim, output_dim):\n",
        "        super().__init__()\n",
        "        self.embedding = torch.nn.Embedding(vocab_size, embedding_dim)\n",
        "        self.conv1 = torch.nn.Sequential(torch.nn.LazyConv1d(1024, kernel_size = 3), torch.nn.ReLU(), torch.nn.BatchNorm1d(1024), torch.nn.AdaptiveAvgPool1d(1), torch.nn.Flatten())\n",
        "        self.conv2 = torch.nn.Sequential(torch.nn.LazyConv1d(1024, kernel_size = 2), torch.nn.ReLU(), torch.nn.BatchNorm1d(1024), torch.nn.AdaptiveAvgPool1d(1), torch.nn.Flatten())\n",
        "        self.fc = torch.nn.Sequential(torch.nn.Dropout(0.5), torch.nn.LazyLinear(output_dim))\n",
        "\n",
        "    def forward(self, titles):\n",
        "        embeddings = self.embedding(titles).transpose(1, 2)\n",
        "        features1 = self.conv1(embeddings)\n",
        "        features2 = self.conv2(embeddings)\n",
        "        return self.fc(torch.cat([ features1, features2 ], dim = 1))"
      ]
    },
    {
      "cell_type": "code",
      "execution_count": 50,
      "metadata": {},
      "outputs": [
        {
          "name": "stderr",
          "output_type": "stream",
          "text": [
            "GPU available: True (cuda), used: True\n",
            "TPU available: False, using: 0 TPU cores\n",
            "IPU available: False, using: 0 IPUs\n",
            "HPU available: False, using: 0 HPUs\n"
          ]
        },
        {
          "data": {
            "application/vnd.jupyter.widget-view+json": {
              "model_id": "536cb5d8f7de48329923dd8f5335b373",
              "version_major": 2,
              "version_minor": 0
            },
            "text/plain": [
              "VBox(children=(Label(value='Waiting for wandb.init()...\\r'), FloatProgress(value=0.011111111111111112, max=1.0…"
            ]
          },
          "metadata": {},
          "output_type": "display_data"
        },
        {
          "data": {
            "text/html": [
              "wandb version 0.16.1 is available!  To upgrade, please run:\n",
              " $ pip install wandb --upgrade"
            ],
            "text/plain": [
              "<IPython.core.display.HTML object>"
            ]
          },
          "metadata": {},
          "output_type": "display_data"
        },
        {
          "data": {
            "text/html": [
              "Tracking run with wandb version 0.16.0"
            ],
            "text/plain": [
              "<IPython.core.display.HTML object>"
            ]
          },
          "metadata": {},
          "output_type": "display_data"
        },
        {
          "data": {
            "text/html": [
              "Run data is saved locally in <code>.\\wandb\\run-20231217_132452-1y4c0dv7</code>"
            ],
            "text/plain": [
              "<IPython.core.display.HTML object>"
            ]
          },
          "metadata": {},
          "output_type": "display_data"
        },
        {
          "data": {
            "text/html": [
              "Syncing run <strong><a href='https://wandb.ai/hse-iad/DL-HW-4/runs/1y4c0dv7' target=\"_blank\">parallel_convolutions</a></strong> to <a href='https://wandb.ai/hse-iad/DL-HW-4' target=\"_blank\">Weights & Biases</a> (<a href='https://wandb.me/run' target=\"_blank\">docs</a>)<br/>"
            ],
            "text/plain": [
              "<IPython.core.display.HTML object>"
            ]
          },
          "metadata": {},
          "output_type": "display_data"
        },
        {
          "data": {
            "text/html": [
              " View project at <a href='https://wandb.ai/hse-iad/DL-HW-4' target=\"_blank\">https://wandb.ai/hse-iad/DL-HW-4</a>"
            ],
            "text/plain": [
              "<IPython.core.display.HTML object>"
            ]
          },
          "metadata": {},
          "output_type": "display_data"
        },
        {
          "data": {
            "text/html": [
              " View run at <a href='https://wandb.ai/hse-iad/DL-HW-4/runs/1y4c0dv7' target=\"_blank\">https://wandb.ai/hse-iad/DL-HW-4/runs/1y4c0dv7</a>"
            ],
            "text/plain": [
              "<IPython.core.display.HTML object>"
            ]
          },
          "metadata": {},
          "output_type": "display_data"
        },
        {
          "name": "stderr",
          "output_type": "stream",
          "text": [
            "LOCAL_RANK: 0 - CUDA_VISIBLE_DEVICES: [0]\n",
            "\n",
            "  | Name      | Type                           | Params\n",
            "-------------------------------------------------------------\n",
            "0 | model     | ParallelConvolutionsClassifier | 46.1 M\n",
            "1 | criterion | CrossEntropyLoss               | 0     \n",
            "-------------------------------------------------------------\n",
            "46.1 M    Trainable params\n",
            "0         Non-trainable params\n",
            "46.1 M    Total params\n",
            "184.336   Total estimated model params size (MB)\n"
          ]
        },
        {
          "data": {
            "application/vnd.jupyter.widget-view+json": {
              "model_id": "71e0bc257fd144eaab61f418c7d4e0af",
              "version_major": 2,
              "version_minor": 0
            },
            "text/plain": [
              "Sanity Checking: |          | 0/? [00:00<?, ?it/s]"
            ]
          },
          "metadata": {},
          "output_type": "display_data"
        },
        {
          "data": {
            "application/vnd.jupyter.widget-view+json": {
              "model_id": "fa811a2c5dc64d2cb00116ca14d47533",
              "version_major": 2,
              "version_minor": 0
            },
            "text/plain": [
              "Training: |          | 0/? [00:00<?, ?it/s]"
            ]
          },
          "metadata": {},
          "output_type": "display_data"
        },
        {
          "data": {
            "application/vnd.jupyter.widget-view+json": {
              "model_id": "86c0900212ff463aa944b0f2b32f063a",
              "version_major": 2,
              "version_minor": 0
            },
            "text/plain": [
              "Validation: |          | 0/? [00:00<?, ?it/s]"
            ]
          },
          "metadata": {},
          "output_type": "display_data"
        },
        {
          "data": {
            "application/vnd.jupyter.widget-view+json": {
              "model_id": "8bab1652e71b4ea2a844642ff68d9a01",
              "version_major": 2,
              "version_minor": 0
            },
            "text/plain": [
              "Validation: |          | 0/? [00:00<?, ?it/s]"
            ]
          },
          "metadata": {},
          "output_type": "display_data"
        },
        {
          "data": {
            "application/vnd.jupyter.widget-view+json": {
              "model_id": "8407554ba3f2450fa18b31a658bc8788",
              "version_major": 2,
              "version_minor": 0
            },
            "text/plain": [
              "Validation: |          | 0/? [00:00<?, ?it/s]"
            ]
          },
          "metadata": {},
          "output_type": "display_data"
        },
        {
          "data": {
            "application/vnd.jupyter.widget-view+json": {
              "model_id": "84f8e330d6bb42589c86778228af569d",
              "version_major": 2,
              "version_minor": 0
            },
            "text/plain": [
              "Validation: |          | 0/? [00:00<?, ?it/s]"
            ]
          },
          "metadata": {},
          "output_type": "display_data"
        },
        {
          "data": {
            "application/vnd.jupyter.widget-view+json": {
              "model_id": "cd1661d19c804af69c9ecaa18030950a",
              "version_major": 2,
              "version_minor": 0
            },
            "text/plain": [
              "Validation: |          | 0/? [00:00<?, ?it/s]"
            ]
          },
          "metadata": {},
          "output_type": "display_data"
        },
        {
          "name": "stderr",
          "output_type": "stream",
          "text": [
            "`Trainer.fit` stopped: `max_epochs=5` reached.\n"
          ]
        },
        {
          "data": {
            "application/vnd.jupyter.widget-view+json": {
              "model_id": "9a1830cfe645408b8289b7d51079e2fe",
              "version_major": 2,
              "version_minor": 0
            },
            "text/plain": [
              "VBox(children=(Label(value='0.001 MB of 0.001 MB uploaded\\r'), FloatProgress(value=1.0, max=1.0)))"
            ]
          },
          "metadata": {},
          "output_type": "display_data"
        },
        {
          "data": {
            "text/html": [
              "<style>\n",
              "    table.wandb td:nth-child(1) { padding: 0 10px; text-align: left ; width: auto;} td:nth-child(2) {text-align: left ; width: 100%}\n",
              "    .wandb-row { display: flex; flex-direction: row; flex-wrap: wrap; justify-content: flex-start; width: 100% }\n",
              "    .wandb-col { display: flex; flex-direction: column; flex-basis: 100%; flex: 1; padding: 10px; }\n",
              "    </style>\n",
              "<div class=\"wandb-row\"><div class=\"wandb-col\"><h3>Run history:</h3><br/><table class=\"wandb\"><tr><td>epoch</td><td>▁▁▁▁▁▁▁▁▃▃▃▃▃▃▃▃▅▅▅▅▅▅▅▅▆▆▆▆▆▆▆▆████████</td></tr><tr><td>train_loss</td><td>█▅▆▆▅▅▄▄▃▄▃▃▃▃▅▃▂▂▁▂▃▃▂▁▂▃▂▁▁▁▂▂▁▂▂▂▁▂▁▁</td></tr><tr><td>trainer/global_step</td><td>▁▁▁▂▂▂▂▂▂▃▃▃▃▃▃▄▄▄▄▄▅▅▅▅▅▅▆▆▆▆▆▇▇▇▇▇▇███</td></tr><tr><td>val_loss</td><td>█▂▁▂▂</td></tr></table><br/></div><div class=\"wandb-col\"><h3>Run summary:</h3><br/><table class=\"wandb\"><tr><td>epoch</td><td>4</td></tr><tr><td>train_loss</td><td>5.93842</td></tr><tr><td>trainer/global_step</td><td>10694</td></tr><tr><td>val_loss</td><td>10.96312</td></tr></table><br/></div></div>"
            ],
            "text/plain": [
              "<IPython.core.display.HTML object>"
            ]
          },
          "metadata": {},
          "output_type": "display_data"
        },
        {
          "data": {
            "text/html": [
              " View run <strong style=\"color:#cdcd00\">parallel_convolutions</strong> at: <a href='https://wandb.ai/hse-iad/DL-HW-4/runs/1y4c0dv7' target=\"_blank\">https://wandb.ai/hse-iad/DL-HW-4/runs/1y4c0dv7</a><br/>Synced 5 W&B file(s), 0 media file(s), 0 artifact file(s) and 0 other file(s)"
            ],
            "text/plain": [
              "<IPython.core.display.HTML object>"
            ]
          },
          "metadata": {},
          "output_type": "display_data"
        },
        {
          "data": {
            "text/html": [
              "Find logs at: <code>.\\wandb\\run-20231217_132452-1y4c0dv7\\logs</code>"
            ],
            "text/plain": [
              "<IPython.core.display.HTML object>"
            ]
          },
          "metadata": {},
          "output_type": "display_data"
        }
      ],
      "source": [
        "fix_random()\n",
        "\n",
        "wandb_logger = pytorch_lightning.loggers.WandbLogger(project = \"DL-HW-4\", name = \"parallel_convolutions\")\n",
        "trainer = pytorch_lightning.Trainer(accelerator = \"gpu\", max_epochs = EPOCHS, logger = wandb_logger)\n",
        "parallel_convolutions_model = ParallelConvolutionsClassifier(VOCAB_SIZE, EMBEDDING_DIM, NUM_CLASSES)\n",
        "\n",
        "train_module = TrainLightningModule(parallel_convolutions_model, LR, criterion)\n",
        "trainer.fit(train_module, titles_train_loader, titles_val_loader)\n",
        "wandb.finish()"
      ]
    },
    {
      "cell_type": "code",
      "execution_count": 51,
      "metadata": {},
      "outputs": [
        {
          "name": "stdout",
          "output_type": "stream",
          "text": [
            "(0.16200000047683716, 0.7474231719970703, 0.48423105478286743)\n",
            "(0.1599999964237213, 0.57053142786026, 0.38663655519485474)\n"
          ]
        }
      ],
      "source": [
        "print(get_threshold(*get_predict(parallel_convolutions_model, titles_val_ds)))\n",
        "print(get_threshold(*get_predict(parallel_convolutions_model, titles_oob_ds)))"
      ]
    },
    {
      "cell_type": "markdown",
      "metadata": {},
      "source": [
        "![Alternative Text][1702909965293]\n",
        "\n",
        "[1702909965293]:data:image/png;base64,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"
      ]
    },
    {
      "cell_type": "markdown",
      "metadata": {
        "id": "7kMKmn72M_zl"
      },
      "source": [
        "__[0.5]__ Скачайте с сайта [Rusvectores](https://rusvectores.org/ru/models/) любые новостные word2vec эмбединги. Возьмите из модели эмбеддинги для всех слов, которые встречаются вв вашем словаре и добавьте их в модель первым слоем. Заморозьте этот слой и не обновляйте в нём веса. Если у вас в словаре есть слово, но его нет среди предобученных эмбеддингов, замените его на токен `#UNKN`."
      ]
    },
    {
      "cell_type": "markdown",
      "metadata": {
        "id": "k9ldlZ5gM_zl"
      },
      "source": [
        "__Ваш лог экспериментов:__\n",
        "\n",
        "-\n",
        "-\n",
        "-"
      ]
    },
    {
      "cell_type": "code",
      "execution_count": 52,
      "metadata": {
        "id": "XoIlDPe0M_zl"
      },
      "outputs": [],
      "source": [
        "# your code here\n",
        "# =^･ｪ･^="
      ]
    },
    {
      "cell_type": "markdown",
      "metadata": {
        "id": "w8ziz2ATM_zl"
      },
      "source": [
        "__[1 балл]__ Зафайнтьюньте трансформер для решения задачи с помощью библиотеки `hugging face`. Выбор предобученной модели кратко обоснуйте."
      ]
    },
    {
      "cell_type": "markdown",
      "metadata": {
        "id": "GoVv-AS4M_zl"
      },
      "source": [
        "__Ваш лог экспериментов:__\n",
        "\n",
        "-\n",
        "-\n",
        "-"
      ]
    },
    {
      "cell_type": "code",
      "execution_count": 53,
      "metadata": {
        "id": "Dg02xRLrM_zl"
      },
      "outputs": [],
      "source": [
        "# your code here\n",
        "# ٩(ˊ〇ˋ*)و\n"
      ]
    },
    {
      "cell_type": "markdown",
      "metadata": {
        "id": "vt8mcUllUmM8"
      },
      "source": [
        "Сравните все обученные модели между собой на тестовой выборке."
      ]
    },
    {
      "cell_type": "code",
      "execution_count": 54,
      "metadata": {
        "id": "Kq-sVD7HUkz3"
      },
      "outputs": [
        {
          "name": "stdout",
          "output_type": "stream",
          "text": [
            "(0.10999999940395355, 0.5796090960502625, 0.4609474837779999)\n",
            "(0.085999995470047, 0.5514487624168396, 0.459168016910553)\n",
            "(0.14799998700618744, 0.5921931862831116, 0.44103917479515076)\n",
            "(0.14999999105930328, 0.5893456339836121, 0.43953534960746765)\n",
            "(0.14799998700618744, 0.5968402028083801, 0.4447507858276367)\n"
          ]
        }
      ],
      "source": [
        "print(get_threshold(*get_predict(titles_model, titles_test_ds)))\n",
        "print(get_threshold(*get_predict(snippets_model, snippets_test_ds)))\n",
        "print(get_threshold(*get_predict(one_convolution_model, titles_test_ds)))\n",
        "print(get_threshold(*get_predict(sequential_convolutions_model, titles_test_ds)))\n",
        "print(get_threshold(*get_predict(parallel_convolutions_model, titles_test_ds)))"
      ]
    },
    {
      "cell_type": "markdown",
      "metadata": {
        "id": "SoCALHfJM_zm"
      },
      "source": [
        "## Часть 2: предсказание категорий (0.3 балла)"
      ]
    },
    {
      "cell_type": "markdown",
      "metadata": {},
      "source": [
        "Возьмите датасет `df_vk` и для всех новостей из него предскажите категории с помощью лучшей, получившейся у вас модели."
      ]
    },
    {
      "cell_type": "code",
      "execution_count": 105,
      "metadata": {},
      "outputs": [
        {
          "name": "stderr",
          "output_type": "stream",
          "text": [
            "100%|██████████| 312/312 [00:04<00:00, 66.13it/s]\n"
          ]
        },
        {
          "data": {
            "text/html": [
              "<div>\n",
              "<style scoped>\n",
              "    .dataframe tbody tr th:only-of-type {\n",
              "        vertical-align: middle;\n",
              "    }\n",
              "\n",
              "    .dataframe tbody tr th {\n",
              "        vertical-align: top;\n",
              "    }\n",
              "\n",
              "    .dataframe thead th {\n",
              "        text-align: right;\n",
              "    }\n",
              "</style>\n",
              "<table border=\"1\" class=\"dataframe\">\n",
              "  <thead>\n",
              "    <tr style=\"text-align: right;\">\n",
              "      <th></th>\n",
              "      <th>id</th>\n",
              "      <th>href</th>\n",
              "      <th>datetime</th>\n",
              "      <th>title</th>\n",
              "      <th>likes</th>\n",
              "      <th>comments</th>\n",
              "      <th>snippet</th>\n",
              "      <th>title_clean</th>\n",
              "      <th>snippet_clean</th>\n",
              "      <th>target_tags</th>\n",
              "    </tr>\n",
              "  </thead>\n",
              "  <tbody>\n",
              "    <tr>\n",
              "      <th>0</th>\n",
              "      <td>24006362</td>\n",
              "      <td>/20190201/1550280358.html</td>\n",
              "      <td>2019-02-01 23:13:17</td>\n",
              "      <td>В ДНР заявили о задержании диверсантов, причас...</td>\n",
              "      <td>15</td>\n",
              "      <td>28</td>\n",
              "      <td>NaN</td>\n",
              "      <td>в днр заявили о задержании диверсантов причаст...</td>\n",
              "      <td>#UNK#</td>\n",
              "      <td>в мире</td>\n",
              "    </tr>\n",
              "    <tr>\n",
              "      <th>1</th>\n",
              "      <td>24006240</td>\n",
              "      <td>/20190201/1550268781.html</td>\n",
              "      <td>2019-02-01 22:38:41</td>\n",
              "      <td>Житель Урала \"заминировал\" ТЦ из-за снятия  со...</td>\n",
              "      <td>32</td>\n",
              "      <td>42</td>\n",
              "      <td>NaN</td>\n",
              "      <td>житель урала заминировал тц изза снятия  сотов...</td>\n",
              "      <td>#UNK#</td>\n",
              "      <td>происшествия</td>\n",
              "    </tr>\n",
              "    <tr>\n",
              "      <th>2</th>\n",
              "      <td>24006100</td>\n",
              "      <td>/20190201/1550282212.html</td>\n",
              "      <td>2019-02-01 21:58:52</td>\n",
              "      <td>В Черном море нашли \"потерянный флот Гитлера\"</td>\n",
              "      <td>84</td>\n",
              "      <td>23</td>\n",
              "      <td>NaN</td>\n",
              "      <td>в черном море нашли потерянный флот гитлера</td>\n",
              "      <td>#UNK#</td>\n",
              "      <td>происшествия</td>\n",
              "    </tr>\n",
              "    <tr>\n",
              "      <th>3</th>\n",
              "      <td>24005972</td>\n",
              "      <td>/20190202/1550283179.html</td>\n",
              "      <td>2019-02-01 21:27:06</td>\n",
              "      <td>В США освободили задержанную российскую актрис...</td>\n",
              "      <td>58</td>\n",
              "      <td>35</td>\n",
              "      <td>NaN</td>\n",
              "      <td>в сша освободили задержанную российскую актрис...</td>\n",
              "      <td>#UNK#</td>\n",
              "      <td>сша, россия</td>\n",
              "    </tr>\n",
              "    <tr>\n",
              "      <th>4</th>\n",
              "      <td>24005764</td>\n",
              "      <td>/20190201/1550262848.html</td>\n",
              "      <td>2019-02-01 20:55:54</td>\n",
              "      <td>Толкнувший Скабееву депутат Рады заявил о гроз...</td>\n",
              "      <td>45</td>\n",
              "      <td>145</td>\n",
              "      <td>NaN</td>\n",
              "      <td>толкнувший скабееву депутат рады заявил о гроз...</td>\n",
              "      <td>#UNK#</td>\n",
              "      <td>в мире</td>\n",
              "    </tr>\n",
              "  </tbody>\n",
              "</table>\n",
              "</div>"
            ],
            "text/plain": [
              "         id                       href             datetime  \\\n",
              "0  24006362  /20190201/1550280358.html  2019-02-01 23:13:17   \n",
              "1  24006240  /20190201/1550268781.html  2019-02-01 22:38:41   \n",
              "2  24006100  /20190201/1550282212.html  2019-02-01 21:58:52   \n",
              "3  24005972  /20190202/1550283179.html  2019-02-01 21:27:06   \n",
              "4  24005764  /20190201/1550262848.html  2019-02-01 20:55:54   \n",
              "\n",
              "                                               title  likes  comments snippet  \\\n",
              "0  В ДНР заявили о задержании диверсантов, причас...     15        28     NaN   \n",
              "1  Житель Урала \"заминировал\" ТЦ из-за снятия  со...     32        42     NaN   \n",
              "2      В Черном море нашли \"потерянный флот Гитлера\"     84        23     NaN   \n",
              "3  В США освободили задержанную российскую актрис...     58        35     NaN   \n",
              "4  Толкнувший Скабееву депутат Рады заявил о гроз...     45       145     NaN   \n",
              "\n",
              "                                         title_clean snippet_clean  \\\n",
              "0  в днр заявили о задержании диверсантов причаст...         #UNK#   \n",
              "1  житель урала заминировал тц изза снятия  сотов...         #UNK#   \n",
              "2        в черном море нашли потерянный флот гитлера         #UNK#   \n",
              "3  в сша освободили задержанную российскую актрис...         #UNK#   \n",
              "4  толкнувший скабееву депутат рады заявил о гроз...         #UNK#   \n",
              "\n",
              "    target_tags  \n",
              "0        в мире  \n",
              "1  происшествия  \n",
              "2  происшествия  \n",
              "3   сша, россия  \n",
              "4        в мире  "
            ]
          },
          "execution_count": 105,
          "metadata": {},
          "output_type": "execute_result"
        }
      ],
      "source": [
        "vk_ds = torch.utils.data.TensorDataset(titles_train_ds.create_text(df_vk.title_clean.values, 60))\n",
        "vk_loader = torch.utils.data.DataLoader(vk_ds, shuffle = False, batch_size = 64)\n",
        "\n",
        "best_threshold, _, __ = get_threshold(*get_predict(parallel_convolutions_model, titles_test_ds))\n",
        "parallel_convolutions_model.eval()\n",
        "vk_tags = [ ]\n",
        "\n",
        "for (titles,) in tqdm.tqdm(vk_loader):\n",
        "    with torch.no_grad():\n",
        "        output = parallel_convolutions_model(titles.to(device))\n",
        "        pred_prob = torch.nn.functional.softmax(output, dim = 1)\n",
        "    # Maybe inefficient, but it's fine\n",
        "    for i in range(pred_prob.shape[0]):\n",
        "        idxs = torch.nonzero(pred_prob[i] > best_threshold).flatten().tolist()\n",
        "        vk_tags.append(', '.join(map(lambda idx: idx2tag[idx], idxs)))\n",
        "\n",
        "df_vk['target_tags'] = vk_tags\n",
        "df_vk.head()"
      ]
    },
    {
      "cell_type": "markdown",
      "metadata": {
        "id": "qpw07S0UM_zm"
      },
      "source": [
        "На всякий случай сохраните табличку с получившимися у вас предсказаниями. Мало ли, вы не доделаете последнее задание, а потом захотите вернуться к нему. Не прогонять же обучение нейросети и инференс по второму кругу..."
      ]
    },
    {
      "cell_type": "code",
      "execution_count": 108,
      "metadata": {
        "id": "alIF9U2tM_zm"
      },
      "outputs": [],
      "source": [
        "df_vk.to_csv(\"data/predicted_vk.csv\")"
      ]
    },
    {
      "cell_type": "markdown",
      "metadata": {
        "id": "H_jo72yzM_zm"
      },
      "source": [
        "## Часть 3: сентимент-классификатор (0.5 балла)"
      ]
    },
    {
      "cell_type": "markdown",
      "metadata": {
        "id": "uI33vB5bM_zm"
      },
      "source": [
        "В этой части тетрадки нам предстоит прогнать все комментарии из ВК через сентимент-классификатор. Мы будем делать это с помощью библиотеки HuggingFace. В ней есть удобная [функциональность pipline,](https://huggingface.co/docs/transformers/pipeline_tutorial) чтобы прогонять на своих данных уже обученные модели. 🤗🤗🤗"
      ]
    },
    {
      "cell_type": "code",
      "execution_count": 114,
      "metadata": {
        "id": "4VEwMUYxM_zm",
        "outputId": "09157c72-c06e-426b-b1a4-bd6794f849d3"
      },
      "outputs": [
        {
          "data": {
            "text/html": [
              "<div>\n",
              "<style scoped>\n",
              "    .dataframe tbody tr th:only-of-type {\n",
              "        vertical-align: middle;\n",
              "    }\n",
              "\n",
              "    .dataframe tbody tr th {\n",
              "        vertical-align: top;\n",
              "    }\n",
              "\n",
              "    .dataframe thead th {\n",
              "        text-align: right;\n",
              "    }\n",
              "</style>\n",
              "<table border=\"1\" class=\"dataframe\">\n",
              "  <thead>\n",
              "    <tr style=\"text-align: right;\">\n",
              "      <th></th>\n",
              "      <th>id</th>\n",
              "      <th>post_id</th>\n",
              "      <th>datetime</th>\n",
              "      <th>text</th>\n",
              "      <th>likes</th>\n",
              "    </tr>\n",
              "  </thead>\n",
              "  <tbody>\n",
              "    <tr>\n",
              "      <th>0</th>\n",
              "      <td>24006366.0</td>\n",
              "      <td>24006362.0</td>\n",
              "      <td>2019-02-01 23:14:14</td>\n",
              "      <td>ЧВК Вагнера?</td>\n",
              "      <td>5.0</td>\n",
              "    </tr>\n",
              "    <tr>\n",
              "      <th>1</th>\n",
              "      <td>24006370.0</td>\n",
              "      <td>24006362.0</td>\n",
              "      <td>2019-02-01 23:15:23</td>\n",
              "      <td>[id4710641|Евгений], выздоравливай.</td>\n",
              "      <td>3.0</td>\n",
              "    </tr>\n",
              "    <tr>\n",
              "      <th>2</th>\n",
              "      <td>24006371.0</td>\n",
              "      <td>24006362.0</td>\n",
              "      <td>2019-02-01 23:16:21</td>\n",
              "      <td>[id442655034|Андрей], искренне желаю этого все...</td>\n",
              "      <td>4.0</td>\n",
              "    </tr>\n",
              "    <tr>\n",
              "      <th>3</th>\n",
              "      <td>24006374.0</td>\n",
              "      <td>24006362.0</td>\n",
              "      <td>2019-02-01 23:16:38</td>\n",
              "      <td>Опять про Украину новости?</td>\n",
              "      <td>1.0</td>\n",
              "    </tr>\n",
              "    <tr>\n",
              "      <th>4</th>\n",
              "      <td>24006375.0</td>\n",
              "      <td>24006362.0</td>\n",
              "      <td>2019-02-01 23:16:40</td>\n",
              "      <td>Че такое ДНР?</td>\n",
              "      <td>2.0</td>\n",
              "    </tr>\n",
              "  </tbody>\n",
              "</table>\n",
              "</div>"
            ],
            "text/plain": [
              "           id     post_id             datetime  \\\n",
              "0  24006366.0  24006362.0  2019-02-01 23:14:14   \n",
              "1  24006370.0  24006362.0  2019-02-01 23:15:23   \n",
              "2  24006371.0  24006362.0  2019-02-01 23:16:21   \n",
              "3  24006374.0  24006362.0  2019-02-01 23:16:38   \n",
              "4  24006375.0  24006362.0  2019-02-01 23:16:40   \n",
              "\n",
              "                                                text  likes  \n",
              "0                                       ЧВК Вагнера?    5.0  \n",
              "1                [id4710641|Евгений], выздоравливай.    3.0  \n",
              "2  [id442655034|Андрей], искренне желаю этого все...    4.0  \n",
              "3                         Опять про Украину новости?    1.0  \n",
              "4                                      Че такое ДНР?    2.0  "
            ]
          },
          "execution_count": 114,
          "metadata": {},
          "output_type": "execute_result"
        }
      ],
      "source": [
        "df_comments.head()"
      ]
    },
    {
      "cell_type": "markdown",
      "metadata": {
        "id": "3gVL29D3M_zm"
      },
      "source": [
        "Для классификации комментариев на позитивные, негативные и нейтральные будем использовать [модель, о которой можно почитать по ссылке](https://huggingface.co/seara/rubert-tiny2-russian-sentiment)\n",
        "\n",
        "Ответьте на следующие вопросы:\n",
        "\n",
        "1. Как зовут автора модели?\n",
        "2. Как выглядит архитектура модели? Насколько модель большая?\n",
        "3. На каких данных обучена модель? Адекватно ли использовать её для классификации комментариев ВК?"
      ]
    },
    {
      "cell_type": "markdown",
      "metadata": {
        "id": "4cDtjMFaM_zm"
      },
      "source": [
        "Разберитесь как можно прогнать модель на корпусе комментариев и сделайте это. Да, с помощью pipeline можно запустить довольно сложные модели, обученные другими людьми в пару строчек. При объявлении модели не забудьте положить её на нужный `device` 🤗🤗🤗"
      ]
    },
    {
      "cell_type": "code",
      "execution_count": 2,
      "metadata": {},
      "outputs": [],
      "source": [
        "# Get the model\n",
        "MODEL_BATCH_SIZE = 12\n",
        "LOOP_BATCH_SIZE = 12000\n",
        "MODEL = \"seara/rubert-tiny2-russian-sentiment\"\n",
        "model = transformers.pipeline(model = MODEL, device = device, batch_size = MODEL_BATCH_SIZE, truncation = True)"
      ]
    },
    {
      "cell_type": "code",
      "execution_count": 6,
      "metadata": {},
      "outputs": [
        {
          "name": "stdout",
          "output_type": "stream",
          "text": [
            "Author name: seara\n"
          ]
        }
      ],
      "source": [
        "print(\"Author name: seara\")"
      ]
    },
    {
      "cell_type": "code",
      "execution_count": 7,
      "metadata": {},
      "outputs": [
        {
          "name": "stdout",
          "output_type": "stream",
          "text": [
            "BertForSequenceClassification(\n",
            "  (bert): BertModel(\n",
            "    (embeddings): BertEmbeddings(\n",
            "      (word_embeddings): Embedding(83828, 312, padding_idx=0)\n",
            "      (position_embeddings): Embedding(2048, 312)\n",
            "      (token_type_embeddings): Embedding(2, 312)\n",
            "      (LayerNorm): LayerNorm((312,), eps=1e-12, elementwise_affine=True)\n",
            "      (dropout): Dropout(p=0.1, inplace=False)\n",
            "    )\n",
            "    (encoder): BertEncoder(\n",
            "      (layer): ModuleList(\n",
            "        (0-2): 3 x BertLayer(\n",
            "          (attention): BertAttention(\n",
            "            (self): BertSelfAttention(\n",
            "              (query): Linear(in_features=312, out_features=312, bias=True)\n",
            "              (key): Linear(in_features=312, out_features=312, bias=True)\n",
            "              (value): Linear(in_features=312, out_features=312, bias=True)\n",
            "              (dropout): Dropout(p=0.1, inplace=False)\n",
            "            )\n",
            "            (output): BertSelfOutput(\n",
            "              (dense): Linear(in_features=312, out_features=312, bias=True)\n",
            "              (LayerNorm): LayerNorm((312,), eps=1e-12, elementwise_affine=True)\n",
            "              (dropout): Dropout(p=0.1, inplace=False)\n",
            "            )\n",
            "          )\n",
            "          (intermediate): BertIntermediate(\n",
            "            (dense): Linear(in_features=312, out_features=600, bias=True)\n",
            "            (intermediate_act_fn): GELUActivation()\n",
            "          )\n",
            "          (output): BertOutput(\n",
            "            (dense): Linear(in_features=600, out_features=312, bias=True)\n",
            "            (LayerNorm): LayerNorm((312,), eps=1e-12, elementwise_affine=True)\n",
            "            (dropout): Dropout(p=0.1, inplace=False)\n",
            "          )\n",
            "        )\n",
            "      )\n",
            "    )\n",
            "    (pooler): BertPooler(\n",
            "      (dense): Linear(in_features=312, out_features=312, bias=True)\n",
            "      (activation): Tanh()\n",
            "    )\n",
            "  )\n",
            "  (dropout): Dropout(p=0.1, inplace=False)\n",
            "  (classifier): Linear(in_features=312, out_features=3, bias=True)\n",
            ")\n"
          ]
        }
      ],
      "source": [
        "print(model.model)"
      ]
    },
    {
      "cell_type": "code",
      "execution_count": 11,
      "metadata": {},
      "outputs": [
        {
          "name": "stdout",
          "output_type": "stream",
          "text": [
            "Parameters: 29194707\n"
          ]
        }
      ],
      "source": [
        "print('Parameters:', sum(p.numel() for p in model.model.parameters()))"
      ]
    },
    {
      "cell_type": "markdown",
      "metadata": {},
      "source": [
        "Модель обучена на датасете rureviews, состоящем из русскоязычных комментариев из онлайн-магазинов. В целом, датасет достаточно похож на комментарии в ВК."
      ]
    },
    {
      "cell_type": "code",
      "execution_count": null,
      "metadata": {},
      "outputs": [],
      "source": [
        "# Split into batches by hand to get a progress bar\n",
        "comments = df_comments.text.values\n",
        "batches = numpy.array_split(comments, (len(comments) + (LOOP_BATCH_SIZE - 1)) / LOOP_BATCH_SIZE)\n",
        "assert len(comments) == numpy.sum([ *map(len, batches) ])\n",
        "\n",
        "labels = numpy.array([])\n",
        "scores = numpy.array([])\n",
        "for batch in tqdm.tqdm(batches):\n",
        "    batch_predictions = model(batch.tolist())\n",
        "    batch_labels = list(map(lambda item: item['label'], batch_predictions))\n",
        "    batch_scores = list(map(lambda item: item['score'], batch_predictions))\n",
        "    labels = numpy.append(labels, batch_labels)\n",
        "    scores = numpy.append(scores, batch_scores)\n",
        "\n",
        "print(len(labels), len(scores))\n",
        "assert len(comments) == len(labels)\n",
        "assert len(comments) == len(scores)\n",
        "\n",
        "# Оно работает, я случайно очистил вывод :(\n",
        "# Ниже демонстрация на небольшом количестве комментариев"
      ]
    },
    {
      "cell_type": "code",
      "execution_count": 117,
      "metadata": {},
      "outputs": [
        {
          "name": "stderr",
          "output_type": "stream",
          "text": [
            "100%|██████████| 5/5 [00:00<00:00, 21.14it/s]"
          ]
        },
        {
          "name": "stdout",
          "output_type": "stream",
          "text": [
            "100 100\n",
            "['neutral' 'neutral' 'positive' 'neutral' 'neutral' 'neutral' 'neutral'\n",
            " 'neutral' 'neutral' 'neutral' 'neutral' 'neutral' 'neutral' 'neutral'\n",
            " 'negative' 'neutral' 'negative' 'negative' 'neutral' 'neutral' 'neutral'\n",
            " 'positive' 'neutral' 'neutral' 'neutral' 'neutral' 'negative' 'neutral'\n",
            " 'neutral' 'neutral' 'neutral' 'neutral' 'negative' 'neutral' 'neutral'\n",
            " 'negative' 'negative' 'negative' 'neutral' 'neutral' 'neutral' 'neutral'\n",
            " 'neutral' 'neutral' 'neutral' 'negative' 'negative' 'positive' 'neutral'\n",
            " 'neutral' 'negative' 'neutral' 'neutral' 'neutral' 'neutral' 'negative'\n",
            " 'negative' 'neutral' 'neutral' 'neutral' 'negative' 'negative' 'neutral'\n",
            " 'negative' 'negative' 'neutral' 'neutral' 'neutral' 'neutral' 'negative'\n",
            " 'neutral' 'positive' 'neutral' 'neutral' 'negative' 'neutral' 'negative'\n",
            " 'neutral' 'neutral' 'negative' 'neutral' 'neutral' 'neutral' 'neutral'\n",
            " 'positive' 'neutral' 'neutral' 'neutral' 'neutral' 'negative' 'neutral'\n",
            " 'neutral' 'neutral' 'neutral' 'neutral' 'neutral' 'negative' 'positive'\n",
            " 'neutral' 'neutral'] [0.91224629 0.87937033 0.67626107 0.9259392  0.8662225  0.84285122\n",
            " 0.92457581 0.91195947 0.78738755 0.88370281 0.89234561 0.85072941\n",
            " 0.84343362 0.53091055 0.79106688 0.76857668 0.57918406 0.8996489\n",
            " 0.82369542 0.47507823 0.54946458 0.65924895 0.75130272 0.90900147\n",
            " 0.90483952 0.91315329 0.48280615 0.638924   0.67154765 0.88914943\n",
            " 0.7842921  0.60999405 0.89926422 0.89042455 0.83711296 0.7473188\n",
            " 0.51908249 0.65558475 0.8236956  0.93736923 0.71755427 0.71763295\n",
            " 0.89234567 0.8184613  0.87590784 0.6083706  0.69602227 0.95125222\n",
            " 0.67008621 0.52110451 0.75981683 0.76827139 0.90155637 0.66566789\n",
            " 0.71453404 0.47563484 0.77651113 0.90540296 0.70148355 0.49594152\n",
            " 0.71876895 0.48660642 0.91455352 0.71315008 0.73015815 0.52264577\n",
            " 0.57707363 0.73239774 0.64267755 0.73255229 0.57793128 0.96930444\n",
            " 0.94300866 0.72353727 0.74441808 0.85598838 0.51035321 0.68735713\n",
            " 0.85057086 0.72874427 0.75133741 0.78719145 0.47507805 0.65510499\n",
            " 0.81243157 0.50508064 0.60871381 0.80090266 0.66623306 0.7363717\n",
            " 0.56374568 0.51257813 0.93550801 0.94486642 0.68567497 0.61115402\n",
            " 0.42424154 0.99358678 0.79657614 0.62369692]\n"
          ]
        },
        {
          "name": "stderr",
          "output_type": "stream",
          "text": [
            "\n"
          ]
        }
      ],
      "source": [
        "# Split into batches by hand to get a progress bar\n",
        "def demo():\n",
        "    comments = df_comments.text.values[:100]\n",
        "    batches = numpy.array_split(comments, (len(comments) + (24 - 1)) / 24)\n",
        "    assert len(comments) == numpy.sum([ *map(len, batches) ])\n",
        "\n",
        "    labels = numpy.array([])\n",
        "    scores = numpy.array([])\n",
        "    for batch in tqdm.tqdm(batches):\n",
        "        batch_predictions = model(batch.tolist())\n",
        "        batch_labels = list(map(lambda item: item['label'], batch_predictions))\n",
        "        batch_scores = list(map(lambda item: item['score'], batch_predictions))\n",
        "        labels = numpy.append(labels, batch_labels)\n",
        "        scores = numpy.append(scores, batch_scores)\n",
        "\n",
        "    print(len(labels), len(scores))\n",
        "    print(labels, scores)\n",
        "    assert len(comments) == len(labels)\n",
        "    assert len(comments) == len(scores)\n",
        "demo()"
      ]
    },
    {
      "cell_type": "markdown",
      "metadata": {
        "id": "5XmrUVvhM_zm"
      },
      "source": [
        "Цикл для сентимент-анализа комментариев может работать довольно долго. Я крайне рекомендую вам переодически сохранять к себе на компьютер промежуточные результаты. Итоговый результат я рекомендую записать отдельным столбиком в таблицу с комментариями, а затем сохранить полученные результаты. 🤗🤗🤗"
      ]
    },
    {
      "cell_type": "code",
      "execution_count": null,
      "metadata": {},
      "outputs": [],
      "source": [
        "df_comments['sentiment_verdict'] = labels\n",
        "df_comments['sentiment_score'] = scores\n",
        "df_comments"
      ]
    },
    {
      "cell_type": "code",
      "execution_count": null,
      "metadata": {},
      "outputs": [],
      "source": [
        "df_comments.to_csv(\"data/comments_scored.csv\")"
      ]
    },
    {
      "cell_type": "markdown",
      "metadata": {
        "id": "smRVE1hVM_zn"
      },
      "source": [
        "## Часть 4: аналитика (1 балл + 0.2 бонусных)"
      ]
    },
    {
      "cell_type": "markdown",
      "metadata": {},
      "source": [
        "Мы с вами огромные молодцы. Мы обучили модель для категоризации новостей, построили с её помощью прогнозы. Мы проскорили комментарии на их сентимент-окрас. Теперь давайте проанализируем новости. Описывайте полученные результаты таким образом, чтобы не получить уголовку на 5 лет за дискредитацию чего-нибудь или оскорбление чувств кого-нибудь 💜"
      ]
    },
    {
      "cell_type": "code",
      "execution_count": 118,
      "metadata": {},
      "outputs": [
        {
          "name": "stdout",
          "output_type": "stream",
          "text": [
            "(2612629, 8)\n"
          ]
        },
        {
          "data": {
            "text/html": [
              "<div>\n",
              "<style scoped>\n",
              "    .dataframe tbody tr th:only-of-type {\n",
              "        vertical-align: middle;\n",
              "    }\n",
              "\n",
              "    .dataframe tbody tr th {\n",
              "        vertical-align: top;\n",
              "    }\n",
              "\n",
              "    .dataframe thead th {\n",
              "        text-align: right;\n",
              "    }\n",
              "</style>\n",
              "<table border=\"1\" class=\"dataframe\">\n",
              "  <thead>\n",
              "    <tr style=\"text-align: right;\">\n",
              "      <th></th>\n",
              "      <th>Unnamed: 0</th>\n",
              "      <th>id</th>\n",
              "      <th>post_id</th>\n",
              "      <th>datetime</th>\n",
              "      <th>text</th>\n",
              "      <th>likes</th>\n",
              "      <th>sentiment_verdict</th>\n",
              "      <th>sentiment_score</th>\n",
              "    </tr>\n",
              "  </thead>\n",
              "  <tbody>\n",
              "    <tr>\n",
              "      <th>0</th>\n",
              "      <td>0</td>\n",
              "      <td>24006366.0</td>\n",
              "      <td>24006362.0</td>\n",
              "      <td>2019-02-01 23:14:14</td>\n",
              "      <td>ЧВК Вагнера?</td>\n",
              "      <td>5.0</td>\n",
              "      <td>neutral</td>\n",
              "      <td>0.912246</td>\n",
              "    </tr>\n",
              "    <tr>\n",
              "      <th>1</th>\n",
              "      <td>1</td>\n",
              "      <td>24006370.0</td>\n",
              "      <td>24006362.0</td>\n",
              "      <td>2019-02-01 23:15:23</td>\n",
              "      <td>[id4710641|Евгений], выздоравливай.</td>\n",
              "      <td>3.0</td>\n",
              "      <td>neutral</td>\n",
              "      <td>0.879370</td>\n",
              "    </tr>\n",
              "    <tr>\n",
              "      <th>2</th>\n",
              "      <td>2</td>\n",
              "      <td>24006371.0</td>\n",
              "      <td>24006362.0</td>\n",
              "      <td>2019-02-01 23:16:21</td>\n",
              "      <td>[id442655034|Андрей], искренне желаю этого все...</td>\n",
              "      <td>4.0</td>\n",
              "      <td>positive</td>\n",
              "      <td>0.676261</td>\n",
              "    </tr>\n",
              "    <tr>\n",
              "      <th>3</th>\n",
              "      <td>3</td>\n",
              "      <td>24006374.0</td>\n",
              "      <td>24006362.0</td>\n",
              "      <td>2019-02-01 23:16:38</td>\n",
              "      <td>Опять про Украину новости?</td>\n",
              "      <td>1.0</td>\n",
              "      <td>neutral</td>\n",
              "      <td>0.925939</td>\n",
              "    </tr>\n",
              "    <tr>\n",
              "      <th>4</th>\n",
              "      <td>4</td>\n",
              "      <td>24006375.0</td>\n",
              "      <td>24006362.0</td>\n",
              "      <td>2019-02-01 23:16:40</td>\n",
              "      <td>Че такое ДНР?</td>\n",
              "      <td>2.0</td>\n",
              "      <td>neutral</td>\n",
              "      <td>0.866223</td>\n",
              "    </tr>\n",
              "  </tbody>\n",
              "</table>\n",
              "</div>"
            ],
            "text/plain": [
              "   Unnamed: 0          id     post_id             datetime  \\\n",
              "0           0  24006366.0  24006362.0  2019-02-01 23:14:14   \n",
              "1           1  24006370.0  24006362.0  2019-02-01 23:15:23   \n",
              "2           2  24006371.0  24006362.0  2019-02-01 23:16:21   \n",
              "3           3  24006374.0  24006362.0  2019-02-01 23:16:38   \n",
              "4           4  24006375.0  24006362.0  2019-02-01 23:16:40   \n",
              "\n",
              "                                                text  likes sentiment_verdict  \\\n",
              "0                                       ЧВК Вагнера?    5.0           neutral   \n",
              "1                [id4710641|Евгений], выздоравливай.    3.0           neutral   \n",
              "2  [id442655034|Андрей], искренне желаю этого все...    4.0          positive   \n",
              "3                         Опять про Украину новости?    1.0           neutral   \n",
              "4                                      Че такое ДНР?    2.0           neutral   \n",
              "\n",
              "   sentiment_score  \n",
              "0         0.912246  \n",
              "1         0.879370  \n",
              "2         0.676261  \n",
              "3         0.925939  \n",
              "4         0.866223  "
            ]
          },
          "execution_count": 118,
          "metadata": {},
          "output_type": "execute_result"
        }
      ],
      "source": [
        "df_comments = pandas.read_csv('data/comments_scored.csv')\n",
        "print(df_comments.shape)\n",
        "df_comments.head()"
      ]
    },
    {
      "cell_type": "code",
      "execution_count": 119,
      "metadata": {},
      "outputs": [],
      "source": [
        "df_comments_positive = df_comments[df_comments.sentiment_verdict == \"positive\"]\n",
        "df_comments_neutral = df_comments[df_comments.sentiment_verdict == \"neutral\"]\n",
        "df_comments_negative = df_comments[df_comments.sentiment_verdict == \"negative\"]\n",
        "assert len(df_comments_positive) + len(df_comments_neutral) + len(df_comments_negative) == len(df_comments)"
      ]
    },
    {
      "cell_type": "markdown",
      "metadata": {
        "id": "7z-jdjgeM_zn"
      },
      "source": [
        "__[0.2 балла]__ Какая доля комментариев позитивная? Какая доля комментариев негативная? Выведите 10 самых позитивных комментариев.\n",
        "\n",
        "Выведите 10 самых негативных комментариев, поугарайте с них. Удалите их вывод из тетрадки. Никто не должен их видеть, это должно остаться только между нами. Поззитивные не удаляйте. Они пусть останутся."
      ]
    },
    {
      "cell_type": "code",
      "execution_count": 120,
      "metadata": {},
      "outputs": [
        {
          "name": "stdout",
          "output_type": "stream",
          "text": [
            "Positive part: 0.07200180354730809\n",
            "Negative part: 0.22879865453533585\n"
          ]
        },
        {
          "data": {
            "text/html": [
              "<div>\n",
              "<style scoped>\n",
              "    .dataframe tbody tr th:only-of-type {\n",
              "        vertical-align: middle;\n",
              "    }\n",
              "\n",
              "    .dataframe tbody tr th {\n",
              "        vertical-align: top;\n",
              "    }\n",
              "\n",
              "    .dataframe thead th {\n",
              "        text-align: right;\n",
              "    }\n",
              "</style>\n",
              "<table border=\"1\" class=\"dataframe\">\n",
              "  <thead>\n",
              "    <tr style=\"text-align: right;\">\n",
              "      <th></th>\n",
              "      <th>Unnamed: 0</th>\n",
              "      <th>id</th>\n",
              "      <th>post_id</th>\n",
              "      <th>datetime</th>\n",
              "      <th>text</th>\n",
              "      <th>likes</th>\n",
              "      <th>sentiment_verdict</th>\n",
              "      <th>sentiment_score</th>\n",
              "    </tr>\n",
              "  </thead>\n",
              "  <tbody>\n",
              "    <tr>\n",
              "      <th>493792</th>\n",
              "      <td>508965</td>\n",
              "      <td>23095070.0</td>\n",
              "      <td>23094261.0</td>\n",
              "      <td>2018-11-17 11:21:56</td>\n",
              "      <td>Отлично, молодец!Поздравляю!✨💫🌟💥</td>\n",
              "      <td>0.0</td>\n",
              "      <td>positive</td>\n",
              "      <td>0.996725</td>\n",
              "    </tr>\n",
              "    <tr>\n",
              "      <th>1379447</th>\n",
              "      <td>1424111</td>\n",
              "      <td>21323499.0</td>\n",
              "      <td>21322970.0</td>\n",
              "      <td>2018-06-20 18:54:40</td>\n",
              "      <td>Отлично! Просто отлично! Молодцы! Поздравляю о...</td>\n",
              "      <td>3.0</td>\n",
              "      <td>positive</td>\n",
              "      <td>0.996674</td>\n",
              "    </tr>\n",
              "    <tr>\n",
              "      <th>2352264</th>\n",
              "      <td>2434524</td>\n",
              "      <td>18718201.0</td>\n",
              "      <td>18718179.0</td>\n",
              "      <td>2017-11-30 13:22:42</td>\n",
              "      <td>отлично,молодцы!!!👍 респект</td>\n",
              "      <td>3.0</td>\n",
              "      <td>positive</td>\n",
              "      <td>0.996605</td>\n",
              "    </tr>\n",
              "    <tr>\n",
              "      <th>2057938</th>\n",
              "      <td>2128990</td>\n",
              "      <td>19643844.0</td>\n",
              "      <td>19640879.0</td>\n",
              "      <td>2018-02-16 08:33:19</td>\n",
              "      <td>Отлично! \\nПоздравляем!!!</td>\n",
              "      <td>1.0</td>\n",
              "      <td>positive</td>\n",
              "      <td>0.996536</td>\n",
              "    </tr>\n",
              "    <tr>\n",
              "      <th>2074701</th>\n",
              "      <td>2146325</td>\n",
              "      <td>19591344.0</td>\n",
              "      <td>19588477.0</td>\n",
              "      <td>2018-02-12 08:25:08</td>\n",
              "      <td>Отлично,я рад.</td>\n",
              "      <td>0.0</td>\n",
              "      <td>positive</td>\n",
              "      <td>0.996462</td>\n",
              "    </tr>\n",
              "    <tr>\n",
              "      <th>236794</th>\n",
              "      <td>243929</td>\n",
              "      <td>23585686.0</td>\n",
              "      <td>23584622.0</td>\n",
              "      <td>2018-12-29 11:48:39</td>\n",
              "      <td>Отлично,молодцы</td>\n",
              "      <td>2.0</td>\n",
              "      <td>positive</td>\n",
              "      <td>0.996461</td>\n",
              "    </tr>\n",
              "    <tr>\n",
              "      <th>1300899</th>\n",
              "      <td>1342337</td>\n",
              "      <td>21515168.0</td>\n",
              "      <td>21514312.0</td>\n",
              "      <td>2018-07-06 15:22:04</td>\n",
              "      <td>Отлично,люблю ездить в Эмираты</td>\n",
              "      <td>0.0</td>\n",
              "      <td>positive</td>\n",
              "      <td>0.996450</td>\n",
              "    </tr>\n",
              "    <tr>\n",
              "      <th>288287</th>\n",
              "      <td>296711</td>\n",
              "      <td>23487341.0</td>\n",
              "      <td>23487299.0</td>\n",
              "      <td>2018-12-20 12:34:50</td>\n",
              "      <td>Отлично! Здоровья всем желаю!</td>\n",
              "      <td>8.0</td>\n",
              "      <td>positive</td>\n",
              "      <td>0.996444</td>\n",
              "    </tr>\n",
              "    <tr>\n",
              "      <th>411428</th>\n",
              "      <td>423821</td>\n",
              "      <td>23248899.0</td>\n",
              "      <td>23242108.0</td>\n",
              "      <td>2018-11-30 07:31:37</td>\n",
              "      <td>Я очень счастлива! Поздравляю!</td>\n",
              "      <td>0.0</td>\n",
              "      <td>positive</td>\n",
              "      <td>0.996431</td>\n",
              "    </tr>\n",
              "    <tr>\n",
              "      <th>1681663</th>\n",
              "      <td>1737559</td>\n",
              "      <td>20633834.0</td>\n",
              "      <td>20633609.0</td>\n",
              "      <td>2018-04-25 10:13:42</td>\n",
              "      <td>Отлично, просто отлично!</td>\n",
              "      <td>0.0</td>\n",
              "      <td>positive</td>\n",
              "      <td>0.996418</td>\n",
              "    </tr>\n",
              "  </tbody>\n",
              "</table>\n",
              "</div>"
            ],
            "text/plain": [
              "         Unnamed: 0          id     post_id             datetime  \\\n",
              "493792       508965  23095070.0  23094261.0  2018-11-17 11:21:56   \n",
              "1379447     1424111  21323499.0  21322970.0  2018-06-20 18:54:40   \n",
              "2352264     2434524  18718201.0  18718179.0  2017-11-30 13:22:42   \n",
              "2057938     2128990  19643844.0  19640879.0  2018-02-16 08:33:19   \n",
              "2074701     2146325  19591344.0  19588477.0  2018-02-12 08:25:08   \n",
              "236794       243929  23585686.0  23584622.0  2018-12-29 11:48:39   \n",
              "1300899     1342337  21515168.0  21514312.0  2018-07-06 15:22:04   \n",
              "288287       296711  23487341.0  23487299.0  2018-12-20 12:34:50   \n",
              "411428       423821  23248899.0  23242108.0  2018-11-30 07:31:37   \n",
              "1681663     1737559  20633834.0  20633609.0  2018-04-25 10:13:42   \n",
              "\n",
              "                                                      text  likes  \\\n",
              "493792                    Отлично, молодец!Поздравляю!✨💫🌟💥    0.0   \n",
              "1379447  Отлично! Просто отлично! Молодцы! Поздравляю о...    3.0   \n",
              "2352264                        отлично,молодцы!!!👍 респект    3.0   \n",
              "2057938                          Отлично! \\nПоздравляем!!!    1.0   \n",
              "2074701                                     Отлично,я рад.    0.0   \n",
              "236794                                     Отлично,молодцы    2.0   \n",
              "1300899                     Отлично,люблю ездить в Эмираты    0.0   \n",
              "288287                       Отлично! Здоровья всем желаю!    8.0   \n",
              "411428                      Я очень счастлива! Поздравляю!    0.0   \n",
              "1681663                           Отлично, просто отлично!    0.0   \n",
              "\n",
              "        sentiment_verdict  sentiment_score  \n",
              "493792           positive         0.996725  \n",
              "1379447          positive         0.996674  \n",
              "2352264          positive         0.996605  \n",
              "2057938          positive         0.996536  \n",
              "2074701          positive         0.996462  \n",
              "236794           positive         0.996461  \n",
              "1300899          positive         0.996450  \n",
              "288287           positive         0.996444  \n",
              "411428           positive         0.996431  \n",
              "1681663          positive         0.996418  "
            ]
          },
          "execution_count": 120,
          "metadata": {},
          "output_type": "execute_result"
        }
      ],
      "source": [
        "print(\"Positive part:\", len(df_comments_positive) / len(df_comments))\n",
        "print(\"Negative part:\", len(df_comments_negative) / len(df_comments))\n",
        "df_comments_positive.sort_values(by = \"sentiment_score\", ascending = False).head(10)"
      ]
    },
    {
      "cell_type": "markdown",
      "metadata": {
        "id": "SGfBQto1M_zn"
      },
      "source": [
        "__[0.2 балла]__ Для каждой новости из датасета посчитайте количество негативных и позитивных комментариев под ней. Сохраните эти количества в виде новых колонок."
      ]
    },
    {
      "cell_type": "code",
      "execution_count": 121,
      "metadata": {},
      "outputs": [
        {
          "data": {
            "text/html": [
              "<div>\n",
              "<style scoped>\n",
              "    .dataframe tbody tr th:only-of-type {\n",
              "        vertical-align: middle;\n",
              "    }\n",
              "\n",
              "    .dataframe tbody tr th {\n",
              "        vertical-align: top;\n",
              "    }\n",
              "\n",
              "    .dataframe thead th {\n",
              "        text-align: right;\n",
              "    }\n",
              "</style>\n",
              "<table border=\"1\" class=\"dataframe\">\n",
              "  <thead>\n",
              "    <tr style=\"text-align: right;\">\n",
              "      <th></th>\n",
              "      <th>id</th>\n",
              "      <th>href</th>\n",
              "      <th>datetime</th>\n",
              "      <th>title</th>\n",
              "      <th>likes</th>\n",
              "      <th>comments</th>\n",
              "      <th>snippet</th>\n",
              "      <th>title_clean</th>\n",
              "      <th>snippet_clean</th>\n",
              "      <th>target_tags</th>\n",
              "      <th>positive</th>\n",
              "      <th>neutral</th>\n",
              "      <th>negative</th>\n",
              "      <th>total</th>\n",
              "    </tr>\n",
              "  </thead>\n",
              "  <tbody>\n",
              "    <tr>\n",
              "      <th>0</th>\n",
              "      <td>24006362</td>\n",
              "      <td>/20190201/1550280358.html</td>\n",
              "      <td>2019-02-01 23:13:17</td>\n",
              "      <td>В ДНР заявили о задержании диверсантов, причас...</td>\n",
              "      <td>15</td>\n",
              "      <td>28</td>\n",
              "      <td>NaN</td>\n",
              "      <td>в днр заявили о задержании диверсантов причаст...</td>\n",
              "      <td>#UNK#</td>\n",
              "      <td>в мире</td>\n",
              "      <td>2.0</td>\n",
              "      <td>35.0</td>\n",
              "      <td>10.0</td>\n",
              "      <td>47.0</td>\n",
              "    </tr>\n",
              "    <tr>\n",
              "      <th>1</th>\n",
              "      <td>24006240</td>\n",
              "      <td>/20190201/1550268781.html</td>\n",
              "      <td>2019-02-01 22:38:41</td>\n",
              "      <td>Житель Урала \"заминировал\" ТЦ из-за снятия  со...</td>\n",
              "      <td>32</td>\n",
              "      <td>42</td>\n",
              "      <td>NaN</td>\n",
              "      <td>житель урала заминировал тц изза снятия  сотов...</td>\n",
              "      <td>#UNK#</td>\n",
              "      <td>происшествия</td>\n",
              "      <td>3.0</td>\n",
              "      <td>28.0</td>\n",
              "      <td>11.0</td>\n",
              "      <td>42.0</td>\n",
              "    </tr>\n",
              "    <tr>\n",
              "      <th>2</th>\n",
              "      <td>24006100</td>\n",
              "      <td>/20190201/1550282212.html</td>\n",
              "      <td>2019-02-01 21:58:52</td>\n",
              "      <td>В Черном море нашли \"потерянный флот Гитлера\"</td>\n",
              "      <td>84</td>\n",
              "      <td>23</td>\n",
              "      <td>NaN</td>\n",
              "      <td>в черном море нашли потерянный флот гитлера</td>\n",
              "      <td>#UNK#</td>\n",
              "      <td>происшествия</td>\n",
              "      <td>3.0</td>\n",
              "      <td>15.0</td>\n",
              "      <td>4.0</td>\n",
              "      <td>22.0</td>\n",
              "    </tr>\n",
              "    <tr>\n",
              "      <th>3</th>\n",
              "      <td>24005972</td>\n",
              "      <td>/20190202/1550283179.html</td>\n",
              "      <td>2019-02-01 21:27:06</td>\n",
              "      <td>В США освободили задержанную российскую актрис...</td>\n",
              "      <td>58</td>\n",
              "      <td>35</td>\n",
              "      <td>NaN</td>\n",
              "      <td>в сша освободили задержанную российскую актрис...</td>\n",
              "      <td>#UNK#</td>\n",
              "      <td>сша, россия</td>\n",
              "      <td>2.0</td>\n",
              "      <td>28.0</td>\n",
              "      <td>10.0</td>\n",
              "      <td>40.0</td>\n",
              "    </tr>\n",
              "    <tr>\n",
              "      <th>4</th>\n",
              "      <td>24005764</td>\n",
              "      <td>/20190201/1550262848.html</td>\n",
              "      <td>2019-02-01 20:55:54</td>\n",
              "      <td>Толкнувший Скабееву депутат Рады заявил о гроз...</td>\n",
              "      <td>45</td>\n",
              "      <td>145</td>\n",
              "      <td>NaN</td>\n",
              "      <td>толкнувший скабееву депутат рады заявил о гроз...</td>\n",
              "      <td>#UNK#</td>\n",
              "      <td>в мире</td>\n",
              "      <td>10.0</td>\n",
              "      <td>93.0</td>\n",
              "      <td>37.0</td>\n",
              "      <td>140.0</td>\n",
              "    </tr>\n",
              "  </tbody>\n",
              "</table>\n",
              "</div>"
            ],
            "text/plain": [
              "         id                       href             datetime  \\\n",
              "0  24006362  /20190201/1550280358.html  2019-02-01 23:13:17   \n",
              "1  24006240  /20190201/1550268781.html  2019-02-01 22:38:41   \n",
              "2  24006100  /20190201/1550282212.html  2019-02-01 21:58:52   \n",
              "3  24005972  /20190202/1550283179.html  2019-02-01 21:27:06   \n",
              "4  24005764  /20190201/1550262848.html  2019-02-01 20:55:54   \n",
              "\n",
              "                                               title  likes  comments snippet  \\\n",
              "0  В ДНР заявили о задержании диверсантов, причас...     15        28     NaN   \n",
              "1  Житель Урала \"заминировал\" ТЦ из-за снятия  со...     32        42     NaN   \n",
              "2      В Черном море нашли \"потерянный флот Гитлера\"     84        23     NaN   \n",
              "3  В США освободили задержанную российскую актрис...     58        35     NaN   \n",
              "4  Толкнувший Скабееву депутат Рады заявил о гроз...     45       145     NaN   \n",
              "\n",
              "                                         title_clean snippet_clean  \\\n",
              "0  в днр заявили о задержании диверсантов причаст...         #UNK#   \n",
              "1  житель урала заминировал тц изза снятия  сотов...         #UNK#   \n",
              "2        в черном море нашли потерянный флот гитлера         #UNK#   \n",
              "3  в сша освободили задержанную российскую актрис...         #UNK#   \n",
              "4  толкнувший скабееву депутат рады заявил о гроз...         #UNK#   \n",
              "\n",
              "    target_tags  positive  neutral  negative  total  \n",
              "0        в мире       2.0     35.0      10.0   47.0  \n",
              "1  происшествия       3.0     28.0      11.0   42.0  \n",
              "2  происшествия       3.0     15.0       4.0   22.0  \n",
              "3   сша, россия       2.0     28.0      10.0   40.0  \n",
              "4        в мире      10.0     93.0      37.0  140.0  "
            ]
          },
          "execution_count": 121,
          "metadata": {},
          "output_type": "execute_result"
        }
      ],
      "source": [
        "def add_comments(dest: pandas.DataFrame, src: pandas.DataFrame, name: str):\n",
        "    counts = src[[\"id\", \"post_id\"]].groupby(by = [ \"post_id\" ]).count().rename(columns = { 'id': name })\n",
        "    dest = dest.merge(counts, how = 'left', left_on = 'id', right_on = 'post_id', validate = 'one_to_one')\n",
        "    dest[[name]] = dest[[name]].fillna(value = 0)\n",
        "    return dest\n",
        "\n",
        "df_vk_comments = add_comments(df_vk, df_comments_positive, \"positive\")\n",
        "df_vk_comments = add_comments(df_vk_comments, df_comments_neutral, \"neutral\")\n",
        "df_vk_comments = add_comments(df_vk_comments, df_comments_negative, \"negative\")\n",
        "df_vk_comments[\"total\"] = df_vk_comments.positive.values + df_vk_comments.neutral.values + df_vk_comments.negative.values\n",
        "df_vk_comments.head()"
      ]
    },
    {
      "cell_type": "markdown",
      "metadata": {
        "id": "jBOzB5yBM_zn"
      },
      "source": [
        "__[0.2 балл]__ Правда ли, что новости с большим количеством лайков получают больше негативных комментариев? А позитивных? Правда ли, что чем больше лайков, тем под новостью больше комментариев?\n",
        "\n",
        "Постройте визуализацию, которая могла бы это проиллюстрировать."
      ]
    },
    {
      "cell_type": "code",
      "execution_count": 122,
      "metadata": {
        "id": "UjI74lt5M_zn"
      },
      "outputs": [
        {
          "name": "stdout",
          "output_type": "stream",
          "text": [
            "Likes - negative comments correlation: 0.10144554068367093\n",
            "Likes - positive comments correlation: 0.5812735834217725\n",
            "Likes - total comments correlation: 0.2012393732898615\n"
          ]
        },
        {
          "data": {
            "image/png": "[encoded data removed]",
            "text/plain": [
              "<Figure size 2000x300 with 3 Axes>"
            ]
          },
          "metadata": {},
          "output_type": "display_data"
        }
      ],
      "source": [
        "plt.figure(figsize = (20, 3))\n",
        "\n",
        "plt.subplot(1, 3, 1)\n",
        "plt.xlim((0, 5000))\n",
        "plt.ylim((0, 400))\n",
        "plt.xlabel(\"Likes\")\n",
        "plt.ylabel(\"Negative comments\")\n",
        "plt.title(\"Negative comments by likes\")\n",
        "plt.scatter(df_vk_comments.likes, df_vk_comments.negative)\n",
        "print('Likes - negative comments correlation:', df_vk_comments.likes.corr(df_vk_comments.negative))\n",
        "\n",
        "plt.subplot(1, 3, 2)\n",
        "plt.xlim((0, 5000))\n",
        "plt.ylim((0, 200))\n",
        "plt.xlabel(\"Likes\")\n",
        "plt.ylabel(\"Positive comments\")\n",
        "plt.title(\"Positive comments by likes\")\n",
        "plt.scatter(df_vk_comments.likes, df_vk_comments.positive)\n",
        "print('Likes - positive comments correlation:', df_vk_comments.likes.corr(df_vk_comments.positive))\n",
        "\n",
        "\n",
        "plt.subplot(1, 3, 3)\n",
        "plt.xlim((0, 5000))\n",
        "plt.ylim((0, 1500))\n",
        "plt.xlabel(\"Likes\")\n",
        "plt.ylabel(\"Total comments\")\n",
        "plt.title(\"Total comments by likes\")\n",
        "plt.scatter(df_vk_comments.likes, df_vk_comments.total)\n",
        "print('Likes - total comments correlation:', df_vk_comments.likes.corr(df_vk_comments.total))\n",
        "\n",
        "plt.show()"
      ]
    },
    {
      "cell_type": "markdown",
      "metadata": {},
      "source": [
        "`Правда ли, что новости с большим количеством лайков получают больше негативных комментариев?` \\\n",
        "Точно нет. Корреляция всего лишь 0.1 \\\n",
        "`А позитивных?` \\\n",
        "Возможно, да. Корреляция почти 0.6 \\\n",
        "`Правда ли, что чем больше лайков, тем под новостью больше комментариев?` \\\n",
        "Скорее нет. Корелляция 0.2"
      ]
    },
    {
      "cell_type": "markdown",
      "metadata": {
        "id": "3wN5AFrAM_zn"
      },
      "source": [
        "__[0.2]__  Давайте построим по сентимент-окрасу комментариев топ позитивных новостей.\n",
        "\n",
        "- Если под новостью оставлено 100 комментариев, из которых 80 позитивные, мы можем быть уверены в том, что новость была хорошо воспринята людьми.\n",
        "- Если под новостью всего один комментарий и он оказался позитивным, то у нас 100% позитивных комментариев, но это вовсе не означает, что новость была воспринята хорошо.\n",
        "\n",
        "Получается, что сортировать по доле позитивных комментариев нельзя. Давайте поступим умнее. Доля позитивных комментариев под постом -- это случайная величина. Её довольно часто моделируют с помощью бета-распределения. Если это случайная величина, мы можем построить для неё предиктивный интервал. Пусть $u$ - число позитивных комментариев, а $d$ - нейтральных и негативных.  Пусть\n",
        "\n",
        "$$\n",
        "a = 1 + u \\qquad b = 1 + d.\n",
        "$$\n",
        "\n",
        "Тогда нижняя граница $95\\%$ предиктивного интервала для доли будет вычисляться по такой формуле:\n",
        "\n",
        "$$\n",
        "\\frac{a}{a + b} - 1.65 \\cdot \\sqrt{\\frac{a \\cdot b}{(a + b)^2 \\cdot (a + b + 1)}}\n",
        "$$\n",
        "\n",
        "Если под новостью был всего один комментарий, у такой случайной величины будет высокая дисперсия. Это означаen, что штука, которую мы вычитаем из доли, окажется высокой. Левая граница интервала окажется маленькой и мы не поднимем комментарий в нашем топе наверх. Фактически мы делаем сортировку по квантилю уровня $0.05$ вместо среднего.\n",
        "\n",
        "От вас требуется вбить эту формулу, сделать сортировку и вывести на экран топ позитивных новостей. Подробнее про то, откуда берётся эта формула можно почитать [в этой книге.](https://disk.yandex.ru/i/Ctd08bTwC9eI3g) Ищите 4 главу, страницу 140."
      ]
    },
    {
      "cell_type": "code",
      "execution_count": 123,
      "metadata": {
        "id": "ToygzCZwM_zn"
      },
      "outputs": [
        {
          "data": {
            "text/html": [
              "<div>\n",
              "<style scoped>\n",
              "    .dataframe tbody tr th:only-of-type {\n",
              "        vertical-align: middle;\n",
              "    }\n",
              "\n",
              "    .dataframe tbody tr th {\n",
              "        vertical-align: top;\n",
              "    }\n",
              "\n",
              "    .dataframe thead th {\n",
              "        text-align: right;\n",
              "    }\n",
              "</style>\n",
              "<table border=\"1\" class=\"dataframe\">\n",
              "  <thead>\n",
              "    <tr style=\"text-align: right;\">\n",
              "      <th></th>\n",
              "      <th>id</th>\n",
              "      <th>datetime</th>\n",
              "      <th>title</th>\n",
              "      <th>likes</th>\n",
              "      <th>snippet</th>\n",
              "      <th>title_clean</th>\n",
              "      <th>snippet_clean</th>\n",
              "      <th>target_tags</th>\n",
              "      <th>positive</th>\n",
              "      <th>neutral</th>\n",
              "      <th>negative</th>\n",
              "      <th>total</th>\n",
              "      <th>score</th>\n",
              "    </tr>\n",
              "  </thead>\n",
              "  <tbody>\n",
              "    <tr>\n",
              "      <th>6651</th>\n",
              "      <td>22320852</td>\n",
              "      <td>2018-09-13 16:40:33</td>\n",
              "      <td>Сборная России выиграла командный турнир на че...</td>\n",
              "      <td>1387</td>\n",
              "      <td>NaN</td>\n",
              "      <td>сборная россии выиграла командный турнир на че...</td>\n",
              "      <td>#UNK#</td>\n",
              "      <td>художественная гимнастика</td>\n",
              "      <td>34.0</td>\n",
              "      <td>16.0</td>\n",
              "      <td>0.0</td>\n",
              "      <td>50.0</td>\n",
              "      <td>0.566760</td>\n",
              "    </tr>\n",
              "    <tr>\n",
              "      <th>14020</th>\n",
              "      <td>20027260</td>\n",
              "      <td>2018-03-16 03:54:32</td>\n",
              "      <td>Миленина выиграла биатлонную гонку на 12,5 км,...</td>\n",
              "      <td>1106</td>\n",
              "      <td>Россиянка Анна Миленина завоевала седьмое золо...</td>\n",
              "      <td>миленина выиграла биатлонную гонку на 125 км с...</td>\n",
              "      <td>россиянка анна миленина завоевала седьмое золо...</td>\n",
              "      <td>сборная россии - пхенчхан 2018, паралимпийские...</td>\n",
              "      <td>16.0</td>\n",
              "      <td>8.0</td>\n",
              "      <td>0.0</td>\n",
              "      <td>24.0</td>\n",
              "      <td>0.502777</td>\n",
              "    </tr>\n",
              "    <tr>\n",
              "      <th>6620</th>\n",
              "      <td>22326485</td>\n",
              "      <td>2018-09-14 07:55:44</td>\n",
              "      <td>Россиянки заняли третье место в ските среди юн...</td>\n",
              "      <td>359</td>\n",
              "      <td>NaN</td>\n",
              "      <td>россиянки заняли третье место в ските среди юн...</td>\n",
              "      <td>#UNK#</td>\n",
              "      <td>стрелковый спорт</td>\n",
              "      <td>10.0</td>\n",
              "      <td>4.0</td>\n",
              "      <td>0.0</td>\n",
              "      <td>14.0</td>\n",
              "      <td>0.502010</td>\n",
              "    </tr>\n",
              "    <tr>\n",
              "      <th>13735</th>\n",
              "      <td>20128079</td>\n",
              "      <td>2018-03-23 07:19:58</td>\n",
              "      <td>Россиянка Мельникова победила в многоборье на ...</td>\n",
              "      <td>670</td>\n",
              "      <td>NaN</td>\n",
              "      <td>россиянка мельникова победила в многоборье на ...</td>\n",
              "      <td>#UNK#</td>\n",
              "      <td>спортивная гимнастика</td>\n",
              "      <td>10.0</td>\n",
              "      <td>4.0</td>\n",
              "      <td>0.0</td>\n",
              "      <td>14.0</td>\n",
              "      <td>0.502010</td>\n",
              "    </tr>\n",
              "    <tr>\n",
              "      <th>12529</th>\n",
              "      <td>20591225</td>\n",
              "      <td>2018-04-22 16:30:18</td>\n",
              "      <td>\"Ак Барс\" стал трехкратным обладателем Кубка Г...</td>\n",
              "      <td>1292</td>\n",
              "      <td>NaN</td>\n",
              "      <td>ак барс стал трехкратным обладателем кубка гаг...</td>\n",
              "      <td>#UNK#</td>\n",
              "      <td>спорт, хоккей</td>\n",
              "      <td>42.0</td>\n",
              "      <td>26.0</td>\n",
              "      <td>3.0</td>\n",
              "      <td>71.0</td>\n",
              "      <td>0.494670</td>\n",
              "    </tr>\n",
              "  </tbody>\n",
              "</table>\n",
              "</div>"
            ],
            "text/plain": [
              "             id             datetime  \\\n",
              "6651   22320852  2018-09-13 16:40:33   \n",
              "14020  20027260  2018-03-16 03:54:32   \n",
              "6620   22326485  2018-09-14 07:55:44   \n",
              "13735  20128079  2018-03-23 07:19:58   \n",
              "12529  20591225  2018-04-22 16:30:18   \n",
              "\n",
              "                                                   title  likes  \\\n",
              "6651   Сборная России выиграла командный турнир на че...   1387   \n",
              "14020  Миленина выиграла биатлонную гонку на 12,5 км,...   1106   \n",
              "6620   Россиянки заняли третье место в ските среди юн...    359   \n",
              "13735  Россиянка Мельникова победила в многоборье на ...    670   \n",
              "12529  \"Ак Барс\" стал трехкратным обладателем Кубка Г...   1292   \n",
              "\n",
              "                                                 snippet  \\\n",
              "6651                                                 NaN   \n",
              "14020  Россиянка Анна Миленина завоевала седьмое золо...   \n",
              "6620                                                 NaN   \n",
              "13735                                                NaN   \n",
              "12529                                                NaN   \n",
              "\n",
              "                                             title_clean  \\\n",
              "6651   сборная россии выиграла командный турнир на че...   \n",
              "14020  миленина выиграла биатлонную гонку на 125 км с...   \n",
              "6620   россиянки заняли третье место в ските среди юн...   \n",
              "13735  россиянка мельникова победила в многоборье на ...   \n",
              "12529  ак барс стал трехкратным обладателем кубка гаг...   \n",
              "\n",
              "                                           snippet_clean  \\\n",
              "6651                                               #UNK#   \n",
              "14020  россиянка анна миленина завоевала седьмое золо...   \n",
              "6620                                               #UNK#   \n",
              "13735                                              #UNK#   \n",
              "12529                                              #UNK#   \n",
              "\n",
              "                                             target_tags  positive  neutral  \\\n",
              "6651                           художественная гимнастика      34.0     16.0   \n",
              "14020  сборная россии - пхенчхан 2018, паралимпийские...      16.0      8.0   \n",
              "6620                                    стрелковый спорт      10.0      4.0   \n",
              "13735                              спортивная гимнастика      10.0      4.0   \n",
              "12529                                      спорт, хоккей      42.0     26.0   \n",
              "\n",
              "       negative  total     score  \n",
              "6651        0.0   50.0  0.566760  \n",
              "14020       0.0   24.0  0.502777  \n",
              "6620        0.0   14.0  0.502010  \n",
              "13735       0.0   14.0  0.502010  \n",
              "12529       3.0   71.0  0.494670  "
            ]
          },
          "execution_count": 123,
          "metadata": {},
          "output_type": "execute_result"
        }
      ],
      "source": [
        "a = 1 + df_vk_comments.positive.values\n",
        "b = 1 + df_vk_comments.neutral.values + df_vk_comments.negative.values\n",
        "center = (a / (a + b))\n",
        "offset = (a * b) / (numpy.power(a + b, 2) * (a + b + 1))\n",
        "df_vk_comments['score'] = center - 1.65 * numpy.sqrt(offset)\n",
        "df_vk_comments.sort_values(by = 'score', ascending = False).drop(columns = [ 'href', 'comments' ]).head()"
      ]
    },
    {
      "cell_type": "markdown",
      "metadata": {
        "id": "8CuDk6kbM_zn"
      },
      "source": [
        "Построили? Срочно пришлите свою любимую позитивную  новость в общий чат!!!\n",
        "\n",
        "Топ негативных новостей строить не будем. Вокруг итак слишком много негатива 😻😻😻"
      ]
    },
    {
      "cell_type": "markdown",
      "metadata": {
        "id": "Gg_wCzsBM_zn"
      },
      "source": [
        "__[0.2]__ Какие категории новостей оказались самыми позитивными? Придумайте способ найти такие категории и опишите его тут.\n",
        "\n",
        "__Ответ:__ усредним значения, полученные в прошлом задании, по категориям. Чем более позитивные новости в категории, тем больше будет среднее. Таким образом, самыми позитивными категориями будем считать те, у которых наибольшее среднее значение \"позитивности\" новостей."
      ]
    },
    {
      "cell_type": "code",
      "execution_count": 176,
      "metadata": {},
      "outputs": [
        {
          "data": {
            "text/html": [
              "<div>\n",
              "<style scoped>\n",
              "    .dataframe tbody tr th:only-of-type {\n",
              "        vertical-align: middle;\n",
              "    }\n",
              "\n",
              "    .dataframe tbody tr th {\n",
              "        vertical-align: top;\n",
              "    }\n",
              "\n",
              "    .dataframe thead th {\n",
              "        text-align: right;\n",
              "    }\n",
              "</style>\n",
              "<table border=\"1\" class=\"dataframe\">\n",
              "  <thead>\n",
              "    <tr style=\"text-align: right;\">\n",
              "      <th></th>\n",
              "      <th>tag</th>\n",
              "      <th>score</th>\n",
              "    </tr>\n",
              "  </thead>\n",
              "  <tbody>\n",
              "    <tr>\n",
              "      <th>742</th>\n",
              "      <td>тайвань</td>\n",
              "      <td>0.360550</td>\n",
              "    </tr>\n",
              "    <tr>\n",
              "      <th>15</th>\n",
              "      <td>iaaf</td>\n",
              "      <td>0.307278</td>\n",
              "    </tr>\n",
              "    <tr>\n",
              "      <th>831</th>\n",
              "      <td>художественная гимнастика</td>\n",
              "      <td>0.300713</td>\n",
              "    </tr>\n",
              "    <tr>\n",
              "      <th>606</th>\n",
              "      <td>регби</td>\n",
              "      <td>0.300370</td>\n",
              "    </tr>\n",
              "    <tr>\n",
              "      <th>71</th>\n",
              "      <td>андрей дементьев</td>\n",
              "      <td>0.263808</td>\n",
              "    </tr>\n",
              "    <tr>\n",
              "      <th>390</th>\n",
              "      <td>культура - риа новости. итоги дня</td>\n",
              "      <td>0.262243</td>\n",
              "    </tr>\n",
              "    <tr>\n",
              "      <th>551</th>\n",
              "      <td>паралимпийские игры - пхенчхан 2018</td>\n",
              "      <td>0.252715</td>\n",
              "    </tr>\n",
              "    <tr>\n",
              "      <th>566</th>\n",
              "      <td>пляжный футбол</td>\n",
              "      <td>0.234086</td>\n",
              "    </tr>\n",
              "    <tr>\n",
              "      <th>662</th>\n",
              "      <td>сборная россии - пхенчхан 2018</td>\n",
              "      <td>0.233878</td>\n",
              "    </tr>\n",
              "    <tr>\n",
              "      <th>596</th>\n",
              "      <td>пхенчхан 2018</td>\n",
              "      <td>0.233283</td>\n",
              "    </tr>\n",
              "  </tbody>\n",
              "</table>\n",
              "</div>"
            ],
            "text/plain": [
              "                                     tag     score\n",
              "742                              тайвань  0.360550\n",
              "15                                  iaaf  0.307278\n",
              "831            художественная гимнастика  0.300713\n",
              "606                                регби  0.300370\n",
              "71                      андрей дементьев  0.263808\n",
              "390    культура - риа новости. итоги дня  0.262243\n",
              "551  паралимпийские игры - пхенчхан 2018  0.252715\n",
              "566                       пляжный футбол  0.234086\n",
              "662       сборная россии - пхенчхан 2018  0.233878\n",
              "596                        пхенчхан 2018  0.233283"
            ]
          },
          "execution_count": 176,
          "metadata": {},
          "output_type": "execute_result"
        }
      ],
      "source": [
        "df_tag_scores =  [ ]\n",
        "for (_, item) in df_vk_comments.iterrows():\n",
        "    if not item[\"target_tags\"]: continue\n",
        "    for tag in item[\"target_tags\"].split(', '):\n",
        "        df_tag_scores.append([ tag, item['score'] ])\n",
        "df_tag_scores = pandas.DataFrame(df_tag_scores, columns = [ 'tag', 'score' ])\n",
        "df_tag_scores.groupby(by = \"tag\").mean().reset_index().sort_values(by = \"score\", ascending = False).head(10)"
      ]
    },
    {
      "cell_type": "markdown",
      "metadata": {
        "id": "gDFw6uQeM_zn"
      },
      "source": [
        "__[0.2 бонусных]__ Проанализируйте, как температура комментария (вероятность того, что он негативный) зависит от длины трэда (число комментариев под новостью)? Значима ли эта взаимосвязь? Если вам для проверки этого хочется построить линейную регрессию, не сдерживайтесь."
      ]
    },
    {
      "cell_type": "code",
      "execution_count": null,
      "metadata": {
        "id": "usdYfPV0M_zn"
      },
      "outputs": [],
      "source": [
        "# your code here\n",
        "# ヾ(๑╹◡╹)ﾉ"
      ]
    }
  ],
  "metadata": {
    "accelerator": "GPU",
    "colab": {
      "gpuType": "T4",
      "provenance": []
    },
    "kernelspec": {
      "display_name": "Python 3",
      "name": "python3"
    },
    "language_info": {
      "codemirror_mode": {
        "name": "ipython",
        "version": 3
      },
      "file_extension": ".py",
      "mimetype": "text/x-python",
      "name": "python",
      "nbconvert_exporter": "python",
      "pygments_lexer": "ipython3",
      "version": "3.10.11"
    },
    "widgets": {
      "application/vnd.jupyter.widget-state+json": {
        "0029cbbc48c64effb57bffff5d199e34": {
          "model_module": "@jupyter-widgets/controls",
          "model_module_version": "1.5.0",
          "model_name": "HTMLModel",
          "state": {
            "_dom_classes": [],
            "_model_module": "@jupyter-widgets/controls",
            "_model_module_version": "1.5.0",
            "_model_name": "HTMLModel",
            "_view_count": null,
            "_view_module": "@jupyter-widgets/controls",
            "_view_module_version": "1.5.0",
            "_view_name": "HTMLView",
            "description": "",
            "description_tooltip": null,
            "layout": "IPY_MODEL_0140e6c8951147b6a7e079682e938e7f",
            "placeholder": "​",
            "style": "IPY_MODEL_534e121744814f4d8880072004513e37",
            "value": " 11/11 [00:00&lt;00:00, 19.45it/s]"
          }
        },
        "0140e6c8951147b6a7e079682e938e7f": {
          "model_module": "@jupyter-widgets/base",
          "model_module_version": "1.2.0",
          "model_name": "LayoutModel",
          "state": {
            "_model_module": "@jupyter-widgets/base",
            "_model_module_version": "1.2.0",
            "_model_name": "LayoutModel",
            "_view_count": null,
            "_view_module": "@jupyter-widgets/base",
            "_view_module_version": "1.2.0",
            "_view_name": "LayoutView",
            "align_content": null,
            "align_items": null,
            "align_self": null,
            "border": null,
            "bottom": null,
            "display": null,
            "flex": null,
            "flex_flow": null,
            "grid_area": null,
            "grid_auto_columns": null,
            "grid_auto_flow": null,
            "grid_auto_rows": null,
            "grid_column": null,
            "grid_gap": null,
            "grid_row": null,
            "grid_template_areas": null,
            "grid_template_columns": null,
            "grid_template_rows": null,
            "height": null,
            "justify_content": null,
            "justify_items": null,
            "left": null,
            "margin": null,
            "max_height": null,
            "max_width": null,
            "min_height": null,
            "min_width": null,
            "object_fit": null,
            "object_position": null,
            "order": null,
            "overflow": null,
            "overflow_x": null,
            "overflow_y": null,
            "padding": null,
            "right": null,
            "top": null,
            "visibility": null,
            "width": null
          }
        },
        "09093bb710bd4903abf2e10db6efc0a0": {
          "model_module": "@jupyter-widgets/controls",
          "model_module_version": "1.5.0",
          "model_name": "HTMLModel",
          "state": {
            "_dom_classes": [],
            "_model_module": "@jupyter-widgets/controls",
            "_model_module_version": "1.5.0",
            "_model_name": "HTMLModel",
            "_view_count": null,
            "_view_module": "@jupyter-widgets/controls",
            "_view_module_version": "1.5.0",
            "_view_name": "HTMLView",
            "description": "",
            "description_tooltip": null,
            "layout": "IPY_MODEL_8fc5cc9d0df74d5081fa3f8c89595daf",
            "placeholder": "​",
            "style": "IPY_MODEL_0cbe638b1d354bea83ccba54ee3d1f5c",
            "value": " 11/11 [00:00&lt;00:00, 32.16it/s]"
          }
        },
        "0a54156fabcd4ef3b73b038b71485a6a": {
          "model_module": "@jupyter-widgets/controls",
          "model_module_version": "1.5.0",
          "model_name": "DescriptionStyleModel",
          "state": {
            "_model_module": "@jupyter-widgets/controls",
            "_model_module_version": "1.5.0",
            "_model_name": "DescriptionStyleModel",
            "_view_count": null,
            "_view_module": "@jupyter-widgets/base",
            "_view_module_version": "1.2.0",
            "_view_name": "StyleView",
            "description_width": ""
          }
        },
        "0cbe638b1d354bea83ccba54ee3d1f5c": {
          "model_module": "@jupyter-widgets/controls",
          "model_module_version": "1.5.0",
          "model_name": "DescriptionStyleModel",
          "state": {
            "_model_module": "@jupyter-widgets/controls",
            "_model_module_version": "1.5.0",
            "_model_name": "DescriptionStyleModel",
            "_view_count": null,
            "_view_module": "@jupyter-widgets/base",
            "_view_module_version": "1.2.0",
            "_view_name": "StyleView",
            "description_width": ""
          }
        },
        "100219bd594645c5b60c3da4a44344fe": {
          "model_module": "@jupyter-widgets/controls",
          "model_module_version": "1.5.0",
          "model_name": "DescriptionStyleModel",
          "state": {
            "_model_module": "@jupyter-widgets/controls",
            "_model_module_version": "1.5.0",
            "_model_name": "DescriptionStyleModel",
            "_view_count": null,
            "_view_module": "@jupyter-widgets/base",
            "_view_module_version": "1.2.0",
            "_view_name": "StyleView",
            "description_width": ""
          }
        },
        "13a1fd50c8f24f12a0f28485b6168606": {
          "model_module": "@jupyter-widgets/controls",
          "model_module_version": "1.5.0",
          "model_name": "DescriptionStyleModel",
          "state": {
            "_model_module": "@jupyter-widgets/controls",
            "_model_module_version": "1.5.0",
            "_model_name": "DescriptionStyleModel",
            "_view_count": null,
            "_view_module": "@jupyter-widgets/base",
            "_view_module_version": "1.2.0",
            "_view_name": "StyleView",
            "description_width": ""
          }
        },
        "17d8af2b171440cba00f8b2df1a08073": {
          "model_module": "@jupyter-widgets/controls",
          "model_module_version": "1.5.0",
          "model_name": "HTMLModel",
          "state": {
            "_dom_classes": [],
            "_model_module": "@jupyter-widgets/controls",
            "_model_module_version": "1.5.0",
            "_model_name": "HTMLModel",
            "_view_count": null,
            "_view_module": "@jupyter-widgets/controls",
            "_view_module_version": "1.5.0",
            "_view_name": "HTMLView",
            "description": "",
            "description_tooltip": null,
            "layout": "IPY_MODEL_201a41be363549eaa0fdc903fb41f83e",
            "placeholder": "​",
            "style": "IPY_MODEL_60c4aa6c4c8145949cd16ec0670227a1",
            "value": "Validation DataLoader 0: 100%"
          }
        },
        "17e62da8657f44d9a998f4acbbd29671": {
          "model_module": "@jupyter-widgets/base",
          "model_module_version": "1.2.0",
          "model_name": "LayoutModel",
          "state": {
            "_model_module": "@jupyter-widgets/base",
            "_model_module_version": "1.2.0",
            "_model_name": "LayoutModel",
            "_view_count": null,
            "_view_module": "@jupyter-widgets/base",
            "_view_module_version": "1.2.0",
            "_view_name": "LayoutView",
            "align_content": null,
            "align_items": null,
            "align_self": null,
            "border": null,
            "bottom": null,
            "display": null,
            "flex": null,
            "flex_flow": null,
            "grid_area": null,
            "grid_auto_columns": null,
            "grid_auto_flow": null,
            "grid_auto_rows": null,
            "grid_column": null,
            "grid_gap": null,
            "grid_row": null,
            "grid_template_areas": null,
            "grid_template_columns": null,
            "grid_template_rows": null,
            "height": null,
            "justify_content": null,
            "justify_items": null,
            "left": null,
            "margin": null,
            "max_height": null,
            "max_width": null,
            "min_height": null,
            "min_width": null,
            "object_fit": null,
            "object_position": null,
            "order": null,
            "overflow": null,
            "overflow_x": null,
            "overflow_y": null,
            "padding": null,
            "right": null,
            "top": null,
            "visibility": null,
            "width": null
          }
        },
        "1ae57433e573436b8bbdf6c22630930d": {
          "model_module": "@jupyter-widgets/controls",
          "model_module_version": "1.5.0",
          "model_name": "HTMLModel",
          "state": {
            "_dom_classes": [],
            "_model_module": "@jupyter-widgets/controls",
            "_model_module_version": "1.5.0",
            "_model_name": "HTMLModel",
            "_view_count": null,
            "_view_module": "@jupyter-widgets/controls",
            "_view_module_version": "1.5.0",
            "_view_name": "HTMLView",
            "description": "",
            "description_tooltip": null,
            "layout": "IPY_MODEL_5d422f8cbd47402bb8f28b258e5abed0",
            "placeholder": "​",
            "style": "IPY_MODEL_80d177b53a5f4fe0a733d3b7d36e9b30",
            "value": "Validation DataLoader 0: 100%"
          }
        },
        "1ae6951f8b984b318210df9d009479d8": {
          "model_module": "@jupyter-widgets/controls",
          "model_module_version": "1.5.0",
          "model_name": "HBoxModel",
          "state": {
            "_dom_classes": [],
            "_model_module": "@jupyter-widgets/controls",
            "_model_module_version": "1.5.0",
            "_model_name": "HBoxModel",
            "_view_count": null,
            "_view_module": "@jupyter-widgets/controls",
            "_view_module_version": "1.5.0",
            "_view_name": "HBoxView",
            "box_style": "",
            "children": [
              "IPY_MODEL_d9456651273140f9bd6e587ab852eeec",
              "IPY_MODEL_b174cb3407a04b2989e6049555265446",
              "IPY_MODEL_7bd174d7cd2346be9db9d5a0a170f8cb"
            ],
            "layout": "IPY_MODEL_3ada921ee7644de997b57ffd2c57044d"
          }
        },
        "1c10405770654b90a3635ba4acabb6ef": {
          "model_module": "@jupyter-widgets/controls",
          "model_module_version": "1.5.0",
          "model_name": "ProgressStyleModel",
          "state": {
            "_model_module": "@jupyter-widgets/controls",
            "_model_module_version": "1.5.0",
            "_model_name": "ProgressStyleModel",
            "_view_count": null,
            "_view_module": "@jupyter-widgets/base",
            "_view_module_version": "1.2.0",
            "_view_name": "StyleView",
            "bar_color": null,
            "description_width": ""
          }
        },
        "201a41be363549eaa0fdc903fb41f83e": {
          "model_module": "@jupyter-widgets/base",
          "model_module_version": "1.2.0",
          "model_name": "LayoutModel",
          "state": {
            "_model_module": "@jupyter-widgets/base",
            "_model_module_version": "1.2.0",
            "_model_name": "LayoutModel",
            "_view_count": null,
            "_view_module": "@jupyter-widgets/base",
            "_view_module_version": "1.2.0",
            "_view_name": "LayoutView",
            "align_content": null,
            "align_items": null,
            "align_self": null,
            "border": null,
            "bottom": null,
            "display": null,
            "flex": null,
            "flex_flow": null,
            "grid_area": null,
            "grid_auto_columns": null,
            "grid_auto_flow": null,
            "grid_auto_rows": null,
            "grid_column": null,
            "grid_gap": null,
            "grid_row": null,
            "grid_template_areas": null,
            "grid_template_columns": null,
            "grid_template_rows": null,
            "height": null,
            "justify_content": null,
            "justify_items": null,
            "left": null,
            "margin": null,
            "max_height": null,
            "max_width": null,
            "min_height": null,
            "min_width": null,
            "object_fit": null,
            "object_position": null,
            "order": null,
            "overflow": null,
            "overflow_x": null,
            "overflow_y": null,
            "padding": null,
            "right": null,
            "top": null,
            "visibility": null,
            "width": null
          }
        },
        "286fbf1303dc4f0b9c1bb3cfb34f920e": {
          "model_module": "@jupyter-widgets/controls",
          "model_module_version": "1.5.0",
          "model_name": "ProgressStyleModel",
          "state": {
            "_model_module": "@jupyter-widgets/controls",
            "_model_module_version": "1.5.0",
            "_model_name": "ProgressStyleModel",
            "_view_count": null,
            "_view_module": "@jupyter-widgets/base",
            "_view_module_version": "1.2.0",
            "_view_name": "StyleView",
            "bar_color": null,
            "description_width": ""
          }
        },
        "2a38ec8f52d74e018a4c1876d3a2f874": {
          "model_module": "@jupyter-widgets/controls",
          "model_module_version": "1.5.0",
          "model_name": "HBoxModel",
          "state": {
            "_dom_classes": [],
            "_model_module": "@jupyter-widgets/controls",
            "_model_module_version": "1.5.0",
            "_model_name": "HBoxModel",
            "_view_count": null,
            "_view_module": "@jupyter-widgets/controls",
            "_view_module_version": "1.5.0",
            "_view_name": "HBoxView",
            "box_style": "",
            "children": [
              "IPY_MODEL_fd22c38d837a404ab892ddaddf4a8988",
              "IPY_MODEL_a474d8d377674579b3c9f5327fbb1862",
              "IPY_MODEL_0029cbbc48c64effb57bffff5d199e34"
            ],
            "layout": "IPY_MODEL_e9d2f22400db472283508e8c01f08fbb"
          }
        },
        "2aa0bc933aae46729672d55e60c17616": {
          "model_module": "@jupyter-widgets/controls",
          "model_module_version": "1.5.0",
          "model_name": "FloatProgressModel",
          "state": {
            "_dom_classes": [],
            "_model_module": "@jupyter-widgets/controls",
            "_model_module_version": "1.5.0",
            "_model_name": "FloatProgressModel",
            "_view_count": null,
            "_view_module": "@jupyter-widgets/controls",
            "_view_module_version": "1.5.0",
            "_view_name": "ProgressView",
            "bar_style": "",
            "description": "",
            "description_tooltip": null,
            "layout": "IPY_MODEL_546d1deb5c934916b722fb9ab0ce5e67",
            "max": 11,
            "min": 0,
            "orientation": "horizontal",
            "style": "IPY_MODEL_86ed101f86384b9b92eb3faccae5bca2",
            "value": 11
          }
        },
        "2cb3f56ff669424da4e9bace352831b8": {
          "model_module": "@jupyter-widgets/base",
          "model_module_version": "1.2.0",
          "model_name": "LayoutModel",
          "state": {
            "_model_module": "@jupyter-widgets/base",
            "_model_module_version": "1.2.0",
            "_model_name": "LayoutModel",
            "_view_count": null,
            "_view_module": "@jupyter-widgets/base",
            "_view_module_version": "1.2.0",
            "_view_name": "LayoutView",
            "align_content": null,
            "align_items": null,
            "align_self": null,
            "border": null,
            "bottom": null,
            "display": "inline-flex",
            "flex": null,
            "flex_flow": "row wrap",
            "grid_area": null,
            "grid_auto_columns": null,
            "grid_auto_flow": null,
            "grid_auto_rows": null,
            "grid_column": null,
            "grid_gap": null,
            "grid_row": null,
            "grid_template_areas": null,
            "grid_template_columns": null,
            "grid_template_rows": null,
            "height": null,
            "justify_content": null,
            "justify_items": null,
            "left": null,
            "margin": null,
            "max_height": null,
            "max_width": null,
            "min_height": null,
            "min_width": null,
            "object_fit": null,
            "object_position": null,
            "order": null,
            "overflow": null,
            "overflow_x": null,
            "overflow_y": null,
            "padding": null,
            "right": null,
            "top": null,
            "visibility": "hidden",
            "width": "100%"
          }
        },
        "2d71626a24cb45f39095e7e3fd621707": {
          "model_module": "@jupyter-widgets/controls",
          "model_module_version": "1.5.0",
          "model_name": "HTMLModel",
          "state": {
            "_dom_classes": [],
            "_model_module": "@jupyter-widgets/controls",
            "_model_module_version": "1.5.0",
            "_model_name": "HTMLModel",
            "_view_count": null,
            "_view_module": "@jupyter-widgets/controls",
            "_view_module_version": "1.5.0",
            "_view_name": "HTMLView",
            "description": "",
            "description_tooltip": null,
            "layout": "IPY_MODEL_6fa8591a1a834d8785b1ebe8eff2b10d",
            "placeholder": "​",
            "style": "IPY_MODEL_acfec13aec454320b585c0b8331e9448",
            "value": " 2/2 [00:00&lt;00:00, 14.02it/s]"
          }
        },
        "2d98065fccb34cb1b44740aa4510f0e7": {
          "model_module": "@jupyter-widgets/controls",
          "model_module_version": "1.5.0",
          "model_name": "HTMLModel",
          "state": {
            "_dom_classes": [],
            "_model_module": "@jupyter-widgets/controls",
            "_model_module_version": "1.5.0",
            "_model_name": "HTMLModel",
            "_view_count": null,
            "_view_module": "@jupyter-widgets/controls",
            "_view_module_version": "1.5.0",
            "_view_name": "HTMLView",
            "description": "",
            "description_tooltip": null,
            "layout": "IPY_MODEL_6072601881c341fb8e5329fab05ee52d",
            "placeholder": "​",
            "style": "IPY_MODEL_13a1fd50c8f24f12a0f28485b6168606",
            "value": "Validation DataLoader 0: 100%"
          }
        },
        "2da5b84f9384445a8d9db58ef3dafa5e": {
          "model_module": "@jupyter-widgets/base",
          "model_module_version": "1.2.0",
          "model_name": "LayoutModel",
          "state": {
            "_model_module": "@jupyter-widgets/base",
            "_model_module_version": "1.2.0",
            "_model_name": "LayoutModel",
            "_view_count": null,
            "_view_module": "@jupyter-widgets/base",
            "_view_module_version": "1.2.0",
            "_view_name": "LayoutView",
            "align_content": null,
            "align_items": null,
            "align_self": null,
            "border": null,
            "bottom": null,
            "display": null,
            "flex": null,
            "flex_flow": null,
            "grid_area": null,
            "grid_auto_columns": null,
            "grid_auto_flow": null,
            "grid_auto_rows": null,
            "grid_column": null,
            "grid_gap": null,
            "grid_row": null,
            "grid_template_areas": null,
            "grid_template_columns": null,
            "grid_template_rows": null,
            "height": null,
            "justify_content": null,
            "justify_items": null,
            "left": null,
            "margin": null,
            "max_height": null,
            "max_width": null,
            "min_height": null,
            "min_width": null,
            "object_fit": null,
            "object_position": null,
            "order": null,
            "overflow": null,
            "overflow_x": null,
            "overflow_y": null,
            "padding": null,
            "right": null,
            "top": null,
            "visibility": null,
            "width": null
          }
        },
        "2e02be5bf0be40bf87f1364b1fd587ec": {
          "model_module": "@jupyter-widgets/base",
          "model_module_version": "1.2.0",
          "model_name": "LayoutModel",
          "state": {
            "_model_module": "@jupyter-widgets/base",
            "_model_module_version": "1.2.0",
            "_model_name": "LayoutModel",
            "_view_count": null,
            "_view_module": "@jupyter-widgets/base",
            "_view_module_version": "1.2.0",
            "_view_name": "LayoutView",
            "align_content": null,
            "align_items": null,
            "align_self": null,
            "border": null,
            "bottom": null,
            "display": null,
            "flex": "2",
            "flex_flow": null,
            "grid_area": null,
            "grid_auto_columns": null,
            "grid_auto_flow": null,
            "grid_auto_rows": null,
            "grid_column": null,
            "grid_gap": null,
            "grid_row": null,
            "grid_template_areas": null,
            "grid_template_columns": null,
            "grid_template_rows": null,
            "height": null,
            "justify_content": null,
            "justify_items": null,
            "left": null,
            "margin": null,
            "max_height": null,
            "max_width": null,
            "min_height": null,
            "min_width": null,
            "object_fit": null,
            "object_position": null,
            "order": null,
            "overflow": null,
            "overflow_x": null,
            "overflow_y": null,
            "padding": null,
            "right": null,
            "top": null,
            "visibility": null,
            "width": null
          }
        },
        "2f4dcf310c634bdba125e8bf46d3db26": {
          "model_module": "@jupyter-widgets/base",
          "model_module_version": "1.2.0",
          "model_name": "LayoutModel",
          "state": {
            "_model_module": "@jupyter-widgets/base",
            "_model_module_version": "1.2.0",
            "_model_name": "LayoutModel",
            "_view_count": null,
            "_view_module": "@jupyter-widgets/base",
            "_view_module_version": "1.2.0",
            "_view_name": "LayoutView",
            "align_content": null,
            "align_items": null,
            "align_self": null,
            "border": null,
            "bottom": null,
            "display": "inline-flex",
            "flex": null,
            "flex_flow": "row wrap",
            "grid_area": null,
            "grid_auto_columns": null,
            "grid_auto_flow": null,
            "grid_auto_rows": null,
            "grid_column": null,
            "grid_gap": null,
            "grid_row": null,
            "grid_template_areas": null,
            "grid_template_columns": null,
            "grid_template_rows": null,
            "height": null,
            "justify_content": null,
            "justify_items": null,
            "left": null,
            "margin": null,
            "max_height": null,
            "max_width": null,
            "min_height": null,
            "min_width": null,
            "object_fit": null,
            "object_position": null,
            "order": null,
            "overflow": null,
            "overflow_x": null,
            "overflow_y": null,
            "padding": null,
            "right": null,
            "top": null,
            "visibility": "hidden",
            "width": "100%"
          }
        },
        "3ada921ee7644de997b57ffd2c57044d": {
          "model_module": "@jupyter-widgets/base",
          "model_module_version": "1.2.0",
          "model_name": "LayoutModel",
          "state": {
            "_model_module": "@jupyter-widgets/base",
            "_model_module_version": "1.2.0",
            "_model_name": "LayoutModel",
            "_view_count": null,
            "_view_module": "@jupyter-widgets/base",
            "_view_module_version": "1.2.0",
            "_view_name": "LayoutView",
            "align_content": null,
            "align_items": null,
            "align_self": null,
            "border": null,
            "bottom": null,
            "display": "inline-flex",
            "flex": null,
            "flex_flow": "row wrap",
            "grid_area": null,
            "grid_auto_columns": null,
            "grid_auto_flow": null,
            "grid_auto_rows": null,
            "grid_column": null,
            "grid_gap": null,
            "grid_row": null,
            "grid_template_areas": null,
            "grid_template_columns": null,
            "grid_template_rows": null,
            "height": null,
            "justify_content": null,
            "justify_items": null,
            "left": null,
            "margin": null,
            "max_height": null,
            "max_width": null,
            "min_height": null,
            "min_width": null,
            "object_fit": null,
            "object_position": null,
            "order": null,
            "overflow": null,
            "overflow_x": null,
            "overflow_y": null,
            "padding": null,
            "right": null,
            "top": null,
            "visibility": null,
            "width": "100%"
          }
        },
        "3dc20b49832e46c6ad70dc754f43555f": {
          "model_module": "@jupyter-widgets/base",
          "model_module_version": "1.2.0",
          "model_name": "LayoutModel",
          "state": {
            "_model_module": "@jupyter-widgets/base",
            "_model_module_version": "1.2.0",
            "_model_name": "LayoutModel",
            "_view_count": null,
            "_view_module": "@jupyter-widgets/base",
            "_view_module_version": "1.2.0",
            "_view_name": "LayoutView",
            "align_content": null,
            "align_items": null,
            "align_self": null,
            "border": null,
            "bottom": null,
            "display": null,
            "flex": null,
            "flex_flow": null,
            "grid_area": null,
            "grid_auto_columns": null,
            "grid_auto_flow": null,
            "grid_auto_rows": null,
            "grid_column": null,
            "grid_gap": null,
            "grid_row": null,
            "grid_template_areas": null,
            "grid_template_columns": null,
            "grid_template_rows": null,
            "height": null,
            "justify_content": null,
            "justify_items": null,
            "left": null,
            "margin": null,
            "max_height": null,
            "max_width": null,
            "min_height": null,
            "min_width": null,
            "object_fit": null,
            "object_position": null,
            "order": null,
            "overflow": null,
            "overflow_x": null,
            "overflow_y": null,
            "padding": null,
            "right": null,
            "top": null,
            "visibility": null,
            "width": null
          }
        },
        "3ef009aeabae43b48bc913a592d1a019": {
          "model_module": "@jupyter-widgets/controls",
          "model_module_version": "1.5.0",
          "model_name": "HBoxModel",
          "state": {
            "_dom_classes": [],
            "_model_module": "@jupyter-widgets/controls",
            "_model_module_version": "1.5.0",
            "_model_name": "HBoxModel",
            "_view_count": null,
            "_view_module": "@jupyter-widgets/controls",
            "_view_module_version": "1.5.0",
            "_view_name": "HBoxView",
            "box_style": "",
            "children": [
              "IPY_MODEL_75b99a050a37493389ff96724a9a3b72",
              "IPY_MODEL_78fe9e3a3d614de9a6f3efacde67d247",
              "IPY_MODEL_2d71626a24cb45f39095e7e3fd621707"
            ],
            "layout": "IPY_MODEL_4f75594be29e49cc99fe61a6787e7564"
          }
        },
        "46204f92abf1414da360d79b4ca7a924": {
          "model_module": "@jupyter-widgets/base",
          "model_module_version": "1.2.0",
          "model_name": "LayoutModel",
          "state": {
            "_model_module": "@jupyter-widgets/base",
            "_model_module_version": "1.2.0",
            "_model_name": "LayoutModel",
            "_view_count": null,
            "_view_module": "@jupyter-widgets/base",
            "_view_module_version": "1.2.0",
            "_view_name": "LayoutView",
            "align_content": null,
            "align_items": null,
            "align_self": null,
            "border": null,
            "bottom": null,
            "display": null,
            "flex": null,
            "flex_flow": null,
            "grid_area": null,
            "grid_auto_columns": null,
            "grid_auto_flow": null,
            "grid_auto_rows": null,
            "grid_column": null,
            "grid_gap": null,
            "grid_row": null,
            "grid_template_areas": null,
            "grid_template_columns": null,
            "grid_template_rows": null,
            "height": null,
            "justify_content": null,
            "justify_items": null,
            "left": null,
            "margin": null,
            "max_height": null,
            "max_width": null,
            "min_height": null,
            "min_width": null,
            "object_fit": null,
            "object_position": null,
            "order": null,
            "overflow": null,
            "overflow_x": null,
            "overflow_y": null,
            "padding": null,
            "right": null,
            "top": null,
            "visibility": null,
            "width": null
          }
        },
        "4f75594be29e49cc99fe61a6787e7564": {
          "model_module": "@jupyter-widgets/base",
          "model_module_version": "1.2.0",
          "model_name": "LayoutModel",
          "state": {
            "_model_module": "@jupyter-widgets/base",
            "_model_module_version": "1.2.0",
            "_model_name": "LayoutModel",
            "_view_count": null,
            "_view_module": "@jupyter-widgets/base",
            "_view_module_version": "1.2.0",
            "_view_name": "LayoutView",
            "align_content": null,
            "align_items": null,
            "align_self": null,
            "border": null,
            "bottom": null,
            "display": "inline-flex",
            "flex": null,
            "flex_flow": "row wrap",
            "grid_area": null,
            "grid_auto_columns": null,
            "grid_auto_flow": null,
            "grid_auto_rows": null,
            "grid_column": null,
            "grid_gap": null,
            "grid_row": null,
            "grid_template_areas": null,
            "grid_template_columns": null,
            "grid_template_rows": null,
            "height": null,
            "justify_content": null,
            "justify_items": null,
            "left": null,
            "margin": null,
            "max_height": null,
            "max_width": null,
            "min_height": null,
            "min_width": null,
            "object_fit": null,
            "object_position": null,
            "order": null,
            "overflow": null,
            "overflow_x": null,
            "overflow_y": null,
            "padding": null,
            "right": null,
            "top": null,
            "visibility": "hidden",
            "width": "100%"
          }
        },
        "515318593400421487560182023801f1": {
          "model_module": "@jupyter-widgets/controls",
          "model_module_version": "1.5.0",
          "model_name": "DescriptionStyleModel",
          "state": {
            "_model_module": "@jupyter-widgets/controls",
            "_model_module_version": "1.5.0",
            "_model_name": "DescriptionStyleModel",
            "_view_count": null,
            "_view_module": "@jupyter-widgets/base",
            "_view_module_version": "1.2.0",
            "_view_name": "StyleView",
            "description_width": ""
          }
        },
        "534e121744814f4d8880072004513e37": {
          "model_module": "@jupyter-widgets/controls",
          "model_module_version": "1.5.0",
          "model_name": "DescriptionStyleModel",
          "state": {
            "_model_module": "@jupyter-widgets/controls",
            "_model_module_version": "1.5.0",
            "_model_name": "DescriptionStyleModel",
            "_view_count": null,
            "_view_module": "@jupyter-widgets/base",
            "_view_module_version": "1.2.0",
            "_view_name": "StyleView",
            "description_width": ""
          }
        },
        "546d1deb5c934916b722fb9ab0ce5e67": {
          "model_module": "@jupyter-widgets/base",
          "model_module_version": "1.2.0",
          "model_name": "LayoutModel",
          "state": {
            "_model_module": "@jupyter-widgets/base",
            "_model_module_version": "1.2.0",
            "_model_name": "LayoutModel",
            "_view_count": null,
            "_view_module": "@jupyter-widgets/base",
            "_view_module_version": "1.2.0",
            "_view_name": "LayoutView",
            "align_content": null,
            "align_items": null,
            "align_self": null,
            "border": null,
            "bottom": null,
            "display": null,
            "flex": "2",
            "flex_flow": null,
            "grid_area": null,
            "grid_auto_columns": null,
            "grid_auto_flow": null,
            "grid_auto_rows": null,
            "grid_column": null,
            "grid_gap": null,
            "grid_row": null,
            "grid_template_areas": null,
            "grid_template_columns": null,
            "grid_template_rows": null,
            "height": null,
            "justify_content": null,
            "justify_items": null,
            "left": null,
            "margin": null,
            "max_height": null,
            "max_width": null,
            "min_height": null,
            "min_width": null,
            "object_fit": null,
            "object_position": null,
            "order": null,
            "overflow": null,
            "overflow_x": null,
            "overflow_y": null,
            "padding": null,
            "right": null,
            "top": null,
            "visibility": null,
            "width": null
          }
        },
        "560450b99c8f4636b3a700db3fc21253": {
          "model_module": "@jupyter-widgets/controls",
          "model_module_version": "1.5.0",
          "model_name": "ProgressStyleModel",
          "state": {
            "_model_module": "@jupyter-widgets/controls",
            "_model_module_version": "1.5.0",
            "_model_name": "ProgressStyleModel",
            "_view_count": null,
            "_view_module": "@jupyter-widgets/base",
            "_view_module_version": "1.2.0",
            "_view_name": "StyleView",
            "bar_color": null,
            "description_width": ""
          }
        },
        "58fbdeafd7ee40cd9392cd4a62c49b81": {
          "model_module": "@jupyter-widgets/base",
          "model_module_version": "1.2.0",
          "model_name": "LayoutModel",
          "state": {
            "_model_module": "@jupyter-widgets/base",
            "_model_module_version": "1.2.0",
            "_model_name": "LayoutModel",
            "_view_count": null,
            "_view_module": "@jupyter-widgets/base",
            "_view_module_version": "1.2.0",
            "_view_name": "LayoutView",
            "align_content": null,
            "align_items": null,
            "align_self": null,
            "border": null,
            "bottom": null,
            "display": null,
            "flex": "2",
            "flex_flow": null,
            "grid_area": null,
            "grid_auto_columns": null,
            "grid_auto_flow": null,
            "grid_auto_rows": null,
            "grid_column": null,
            "grid_gap": null,
            "grid_row": null,
            "grid_template_areas": null,
            "grid_template_columns": null,
            "grid_template_rows": null,
            "height": null,
            "justify_content": null,
            "justify_items": null,
            "left": null,
            "margin": null,
            "max_height": null,
            "max_width": null,
            "min_height": null,
            "min_width": null,
            "object_fit": null,
            "object_position": null,
            "order": null,
            "overflow": null,
            "overflow_x": null,
            "overflow_y": null,
            "padding": null,
            "right": null,
            "top": null,
            "visibility": null,
            "width": null
          }
        },
        "5d422f8cbd47402bb8f28b258e5abed0": {
          "model_module": "@jupyter-widgets/base",
          "model_module_version": "1.2.0",
          "model_name": "LayoutModel",
          "state": {
            "_model_module": "@jupyter-widgets/base",
            "_model_module_version": "1.2.0",
            "_model_name": "LayoutModel",
            "_view_count": null,
            "_view_module": "@jupyter-widgets/base",
            "_view_module_version": "1.2.0",
            "_view_name": "LayoutView",
            "align_content": null,
            "align_items": null,
            "align_self": null,
            "border": null,
            "bottom": null,
            "display": null,
            "flex": null,
            "flex_flow": null,
            "grid_area": null,
            "grid_auto_columns": null,
            "grid_auto_flow": null,
            "grid_auto_rows": null,
            "grid_column": null,
            "grid_gap": null,
            "grid_row": null,
            "grid_template_areas": null,
            "grid_template_columns": null,
            "grid_template_rows": null,
            "height": null,
            "justify_content": null,
            "justify_items": null,
            "left": null,
            "margin": null,
            "max_height": null,
            "max_width": null,
            "min_height": null,
            "min_width": null,
            "object_fit": null,
            "object_position": null,
            "order": null,
            "overflow": null,
            "overflow_x": null,
            "overflow_y": null,
            "padding": null,
            "right": null,
            "top": null,
            "visibility": null,
            "width": null
          }
        },
        "5db675de6b8348e9a9823384541bdfff": {
          "model_module": "@jupyter-widgets/controls",
          "model_module_version": "1.5.0",
          "model_name": "ProgressStyleModel",
          "state": {
            "_model_module": "@jupyter-widgets/controls",
            "_model_module_version": "1.5.0",
            "_model_name": "ProgressStyleModel",
            "_view_count": null,
            "_view_module": "@jupyter-widgets/base",
            "_view_module_version": "1.2.0",
            "_view_name": "StyleView",
            "bar_color": null,
            "description_width": ""
          }
        },
        "6072601881c341fb8e5329fab05ee52d": {
          "model_module": "@jupyter-widgets/base",
          "model_module_version": "1.2.0",
          "model_name": "LayoutModel",
          "state": {
            "_model_module": "@jupyter-widgets/base",
            "_model_module_version": "1.2.0",
            "_model_name": "LayoutModel",
            "_view_count": null,
            "_view_module": "@jupyter-widgets/base",
            "_view_module_version": "1.2.0",
            "_view_name": "LayoutView",
            "align_content": null,
            "align_items": null,
            "align_self": null,
            "border": null,
            "bottom": null,
            "display": null,
            "flex": null,
            "flex_flow": null,
            "grid_area": null,
            "grid_auto_columns": null,
            "grid_auto_flow": null,
            "grid_auto_rows": null,
            "grid_column": null,
            "grid_gap": null,
            "grid_row": null,
            "grid_template_areas": null,
            "grid_template_columns": null,
            "grid_template_rows": null,
            "height": null,
            "justify_content": null,
            "justify_items": null,
            "left": null,
            "margin": null,
            "max_height": null,
            "max_width": null,
            "min_height": null,
            "min_width": null,
            "object_fit": null,
            "object_position": null,
            "order": null,
            "overflow": null,
            "overflow_x": null,
            "overflow_y": null,
            "padding": null,
            "right": null,
            "top": null,
            "visibility": null,
            "width": null
          }
        },
        "60c4aa6c4c8145949cd16ec0670227a1": {
          "model_module": "@jupyter-widgets/controls",
          "model_module_version": "1.5.0",
          "model_name": "DescriptionStyleModel",
          "state": {
            "_model_module": "@jupyter-widgets/controls",
            "_model_module_version": "1.5.0",
            "_model_name": "DescriptionStyleModel",
            "_view_count": null,
            "_view_module": "@jupyter-widgets/base",
            "_view_module_version": "1.2.0",
            "_view_name": "StyleView",
            "description_width": ""
          }
        },
        "6351ca36d8d648afa472093df7e73e45": {
          "model_module": "@jupyter-widgets/controls",
          "model_module_version": "1.5.0",
          "model_name": "FloatProgressModel",
          "state": {
            "_dom_classes": [],
            "_model_module": "@jupyter-widgets/controls",
            "_model_module_version": "1.5.0",
            "_model_name": "FloatProgressModel",
            "_view_count": null,
            "_view_module": "@jupyter-widgets/controls",
            "_view_module_version": "1.5.0",
            "_view_name": "ProgressView",
            "bar_style": "",
            "description": "",
            "description_tooltip": null,
            "layout": "IPY_MODEL_7a6a637bb7664b4495b2b56b45d88ee4",
            "max": 11,
            "min": 0,
            "orientation": "horizontal",
            "style": "IPY_MODEL_74bf3b2a873e40ffa139f1afe652ffe8",
            "value": 11
          }
        },
        "640ac5a06820498585c48a1b69355d0d": {
          "model_module": "@jupyter-widgets/base",
          "model_module_version": "1.2.0",
          "model_name": "LayoutModel",
          "state": {
            "_model_module": "@jupyter-widgets/base",
            "_model_module_version": "1.2.0",
            "_model_name": "LayoutModel",
            "_view_count": null,
            "_view_module": "@jupyter-widgets/base",
            "_view_module_version": "1.2.0",
            "_view_name": "LayoutView",
            "align_content": null,
            "align_items": null,
            "align_self": null,
            "border": null,
            "bottom": null,
            "display": null,
            "flex": null,
            "flex_flow": null,
            "grid_area": null,
            "grid_auto_columns": null,
            "grid_auto_flow": null,
            "grid_auto_rows": null,
            "grid_column": null,
            "grid_gap": null,
            "grid_row": null,
            "grid_template_areas": null,
            "grid_template_columns": null,
            "grid_template_rows": null,
            "height": null,
            "justify_content": null,
            "justify_items": null,
            "left": null,
            "margin": null,
            "max_height": null,
            "max_width": null,
            "min_height": null,
            "min_width": null,
            "object_fit": null,
            "object_position": null,
            "order": null,
            "overflow": null,
            "overflow_x": null,
            "overflow_y": null,
            "padding": null,
            "right": null,
            "top": null,
            "visibility": null,
            "width": null
          }
        },
        "6769dc278aae487db30d78caa97c6dd8": {
          "model_module": "@jupyter-widgets/controls",
          "model_module_version": "1.5.0",
          "model_name": "FloatProgressModel",
          "state": {
            "_dom_classes": [],
            "_model_module": "@jupyter-widgets/controls",
            "_model_module_version": "1.5.0",
            "_model_name": "FloatProgressModel",
            "_view_count": null,
            "_view_module": "@jupyter-widgets/controls",
            "_view_module_version": "1.5.0",
            "_view_name": "ProgressView",
            "bar_style": "",
            "description": "",
            "description_tooltip": null,
            "layout": "IPY_MODEL_71c435b7fa6f4a0fb44a4c8a8b5a73f6",
            "max": 11,
            "min": 0,
            "orientation": "horizontal",
            "style": "IPY_MODEL_c05c8b6064f94652a1f2ed5c3bb7c2b0",
            "value": 11
          }
        },
        "6fa8591a1a834d8785b1ebe8eff2b10d": {
          "model_module": "@jupyter-widgets/base",
          "model_module_version": "1.2.0",
          "model_name": "LayoutModel",
          "state": {
            "_model_module": "@jupyter-widgets/base",
            "_model_module_version": "1.2.0",
            "_model_name": "LayoutModel",
            "_view_count": null,
            "_view_module": "@jupyter-widgets/base",
            "_view_module_version": "1.2.0",
            "_view_name": "LayoutView",
            "align_content": null,
            "align_items": null,
            "align_self": null,
            "border": null,
            "bottom": null,
            "display": null,
            "flex": null,
            "flex_flow": null,
            "grid_area": null,
            "grid_auto_columns": null,
            "grid_auto_flow": null,
            "grid_auto_rows": null,
            "grid_column": null,
            "grid_gap": null,
            "grid_row": null,
            "grid_template_areas": null,
            "grid_template_columns": null,
            "grid_template_rows": null,
            "height": null,
            "justify_content": null,
            "justify_items": null,
            "left": null,
            "margin": null,
            "max_height": null,
            "max_width": null,
            "min_height": null,
            "min_width": null,
            "object_fit": null,
            "object_position": null,
            "order": null,
            "overflow": null,
            "overflow_x": null,
            "overflow_y": null,
            "padding": null,
            "right": null,
            "top": null,
            "visibility": null,
            "width": null
          }
        },
        "71c435b7fa6f4a0fb44a4c8a8b5a73f6": {
          "model_module": "@jupyter-widgets/base",
          "model_module_version": "1.2.0",
          "model_name": "LayoutModel",
          "state": {
            "_model_module": "@jupyter-widgets/base",
            "_model_module_version": "1.2.0",
            "_model_name": "LayoutModel",
            "_view_count": null,
            "_view_module": "@jupyter-widgets/base",
            "_view_module_version": "1.2.0",
            "_view_name": "LayoutView",
            "align_content": null,
            "align_items": null,
            "align_self": null,
            "border": null,
            "bottom": null,
            "display": null,
            "flex": "2",
            "flex_flow": null,
            "grid_area": null,
            "grid_auto_columns": null,
            "grid_auto_flow": null,
            "grid_auto_rows": null,
            "grid_column": null,
            "grid_gap": null,
            "grid_row": null,
            "grid_template_areas": null,
            "grid_template_columns": null,
            "grid_template_rows": null,
            "height": null,
            "justify_content": null,
            "justify_items": null,
            "left": null,
            "margin": null,
            "max_height": null,
            "max_width": null,
            "min_height": null,
            "min_width": null,
            "object_fit": null,
            "object_position": null,
            "order": null,
            "overflow": null,
            "overflow_x": null,
            "overflow_y": null,
            "padding": null,
            "right": null,
            "top": null,
            "visibility": null,
            "width": null
          }
        },
        "74bf3b2a873e40ffa139f1afe652ffe8": {
          "model_module": "@jupyter-widgets/controls",
          "model_module_version": "1.5.0",
          "model_name": "ProgressStyleModel",
          "state": {
            "_model_module": "@jupyter-widgets/controls",
            "_model_module_version": "1.5.0",
            "_model_name": "ProgressStyleModel",
            "_view_count": null,
            "_view_module": "@jupyter-widgets/base",
            "_view_module_version": "1.2.0",
            "_view_name": "StyleView",
            "bar_color": null,
            "description_width": ""
          }
        },
        "75b99a050a37493389ff96724a9a3b72": {
          "model_module": "@jupyter-widgets/controls",
          "model_module_version": "1.5.0",
          "model_name": "HTMLModel",
          "state": {
            "_dom_classes": [],
            "_model_module": "@jupyter-widgets/controls",
            "_model_module_version": "1.5.0",
            "_model_name": "HTMLModel",
            "_view_count": null,
            "_view_module": "@jupyter-widgets/controls",
            "_view_module_version": "1.5.0",
            "_view_name": "HTMLView",
            "description": "",
            "description_tooltip": null,
            "layout": "IPY_MODEL_9ab912602cc24346a011fdf58feafbde",
            "placeholder": "​",
            "style": "IPY_MODEL_af211f3be2ce4fb1b6733fa552ed041b",
            "value": "Sanity Checking DataLoader 0: 100%"
          }
        },
        "78fe9e3a3d614de9a6f3efacde67d247": {
          "model_module": "@jupyter-widgets/controls",
          "model_module_version": "1.5.0",
          "model_name": "FloatProgressModel",
          "state": {
            "_dom_classes": [],
            "_model_module": "@jupyter-widgets/controls",
            "_model_module_version": "1.5.0",
            "_model_name": "FloatProgressModel",
            "_view_count": null,
            "_view_module": "@jupyter-widgets/controls",
            "_view_module_version": "1.5.0",
            "_view_name": "ProgressView",
            "bar_style": "",
            "description": "",
            "description_tooltip": null,
            "layout": "IPY_MODEL_84f32a71a7cd4de6b55a9558717d00ef",
            "max": 2,
            "min": 0,
            "orientation": "horizontal",
            "style": "IPY_MODEL_5db675de6b8348e9a9823384541bdfff",
            "value": 2
          }
        },
        "7a6a637bb7664b4495b2b56b45d88ee4": {
          "model_module": "@jupyter-widgets/base",
          "model_module_version": "1.2.0",
          "model_name": "LayoutModel",
          "state": {
            "_model_module": "@jupyter-widgets/base",
            "_model_module_version": "1.2.0",
            "_model_name": "LayoutModel",
            "_view_count": null,
            "_view_module": "@jupyter-widgets/base",
            "_view_module_version": "1.2.0",
            "_view_name": "LayoutView",
            "align_content": null,
            "align_items": null,
            "align_self": null,
            "border": null,
            "bottom": null,
            "display": null,
            "flex": "2",
            "flex_flow": null,
            "grid_area": null,
            "grid_auto_columns": null,
            "grid_auto_flow": null,
            "grid_auto_rows": null,
            "grid_column": null,
            "grid_gap": null,
            "grid_row": null,
            "grid_template_areas": null,
            "grid_template_columns": null,
            "grid_template_rows": null,
            "height": null,
            "justify_content": null,
            "justify_items": null,
            "left": null,
            "margin": null,
            "max_height": null,
            "max_width": null,
            "min_height": null,
            "min_width": null,
            "object_fit": null,
            "object_position": null,
            "order": null,
            "overflow": null,
            "overflow_x": null,
            "overflow_y": null,
            "padding": null,
            "right": null,
            "top": null,
            "visibility": null,
            "width": null
          }
        },
        "7bb5cc7b77654cc0b27a22552941a1ce": {
          "model_module": "@jupyter-widgets/controls",
          "model_module_version": "1.5.0",
          "model_name": "DescriptionStyleModel",
          "state": {
            "_model_module": "@jupyter-widgets/controls",
            "_model_module_version": "1.5.0",
            "_model_name": "DescriptionStyleModel",
            "_view_count": null,
            "_view_module": "@jupyter-widgets/base",
            "_view_module_version": "1.2.0",
            "_view_name": "StyleView",
            "description_width": ""
          }
        },
        "7bd174d7cd2346be9db9d5a0a170f8cb": {
          "model_module": "@jupyter-widgets/controls",
          "model_module_version": "1.5.0",
          "model_name": "HTMLModel",
          "state": {
            "_dom_classes": [],
            "_model_module": "@jupyter-widgets/controls",
            "_model_module_version": "1.5.0",
            "_model_name": "HTMLModel",
            "_view_count": null,
            "_view_module": "@jupyter-widgets/controls",
            "_view_module_version": "1.5.0",
            "_view_name": "HTMLView",
            "description": "",
            "description_tooltip": null,
            "layout": "IPY_MODEL_2da5b84f9384445a8d9db58ef3dafa5e",
            "placeholder": "​",
            "style": "IPY_MODEL_abcb57f0947f413d9cb83c62c6529562",
            "value": " 2139/2139 [00:17&lt;00:00, 122.83it/s, v_num=1, train_loss=7.280, val_loss=10.70]"
          }
        },
        "7dc052c589534aa986569d863596a2a3": {
          "model_module": "@jupyter-widgets/base",
          "model_module_version": "1.2.0",
          "model_name": "LayoutModel",
          "state": {
            "_model_module": "@jupyter-widgets/base",
            "_model_module_version": "1.2.0",
            "_model_name": "LayoutModel",
            "_view_count": null,
            "_view_module": "@jupyter-widgets/base",
            "_view_module_version": "1.2.0",
            "_view_name": "LayoutView",
            "align_content": null,
            "align_items": null,
            "align_self": null,
            "border": null,
            "bottom": null,
            "display": "inline-flex",
            "flex": null,
            "flex_flow": "row wrap",
            "grid_area": null,
            "grid_auto_columns": null,
            "grid_auto_flow": null,
            "grid_auto_rows": null,
            "grid_column": null,
            "grid_gap": null,
            "grid_row": null,
            "grid_template_areas": null,
            "grid_template_columns": null,
            "grid_template_rows": null,
            "height": null,
            "justify_content": null,
            "justify_items": null,
            "left": null,
            "margin": null,
            "max_height": null,
            "max_width": null,
            "min_height": null,
            "min_width": null,
            "object_fit": null,
            "object_position": null,
            "order": null,
            "overflow": null,
            "overflow_x": null,
            "overflow_y": null,
            "padding": null,
            "right": null,
            "top": null,
            "visibility": "hidden",
            "width": "100%"
          }
        },
        "80d177b53a5f4fe0a733d3b7d36e9b30": {
          "model_module": "@jupyter-widgets/controls",
          "model_module_version": "1.5.0",
          "model_name": "DescriptionStyleModel",
          "state": {
            "_model_module": "@jupyter-widgets/controls",
            "_model_module_version": "1.5.0",
            "_model_name": "DescriptionStyleModel",
            "_view_count": null,
            "_view_module": "@jupyter-widgets/base",
            "_view_module_version": "1.2.0",
            "_view_name": "StyleView",
            "description_width": ""
          }
        },
        "84f32a71a7cd4de6b55a9558717d00ef": {
          "model_module": "@jupyter-widgets/base",
          "model_module_version": "1.2.0",
          "model_name": "LayoutModel",
          "state": {
            "_model_module": "@jupyter-widgets/base",
            "_model_module_version": "1.2.0",
            "_model_name": "LayoutModel",
            "_view_count": null,
            "_view_module": "@jupyter-widgets/base",
            "_view_module_version": "1.2.0",
            "_view_name": "LayoutView",
            "align_content": null,
            "align_items": null,
            "align_self": null,
            "border": null,
            "bottom": null,
            "display": null,
            "flex": "2",
            "flex_flow": null,
            "grid_area": null,
            "grid_auto_columns": null,
            "grid_auto_flow": null,
            "grid_auto_rows": null,
            "grid_column": null,
            "grid_gap": null,
            "grid_row": null,
            "grid_template_areas": null,
            "grid_template_columns": null,
            "grid_template_rows": null,
            "height": null,
            "justify_content": null,
            "justify_items": null,
            "left": null,
            "margin": null,
            "max_height": null,
            "max_width": null,
            "min_height": null,
            "min_width": null,
            "object_fit": null,
            "object_position": null,
            "order": null,
            "overflow": null,
            "overflow_x": null,
            "overflow_y": null,
            "padding": null,
            "right": null,
            "top": null,
            "visibility": null,
            "width": null
          }
        },
        "86ed101f86384b9b92eb3faccae5bca2": {
          "model_module": "@jupyter-widgets/controls",
          "model_module_version": "1.5.0",
          "model_name": "ProgressStyleModel",
          "state": {
            "_model_module": "@jupyter-widgets/controls",
            "_model_module_version": "1.5.0",
            "_model_name": "ProgressStyleModel",
            "_view_count": null,
            "_view_module": "@jupyter-widgets/base",
            "_view_module_version": "1.2.0",
            "_view_name": "StyleView",
            "bar_color": null,
            "description_width": ""
          }
        },
        "8fc5cc9d0df74d5081fa3f8c89595daf": {
          "model_module": "@jupyter-widgets/base",
          "model_module_version": "1.2.0",
          "model_name": "LayoutModel",
          "state": {
            "_model_module": "@jupyter-widgets/base",
            "_model_module_version": "1.2.0",
            "_model_name": "LayoutModel",
            "_view_count": null,
            "_view_module": "@jupyter-widgets/base",
            "_view_module_version": "1.2.0",
            "_view_name": "LayoutView",
            "align_content": null,
            "align_items": null,
            "align_self": null,
            "border": null,
            "bottom": null,
            "display": null,
            "flex": null,
            "flex_flow": null,
            "grid_area": null,
            "grid_auto_columns": null,
            "grid_auto_flow": null,
            "grid_auto_rows": null,
            "grid_column": null,
            "grid_gap": null,
            "grid_row": null,
            "grid_template_areas": null,
            "grid_template_columns": null,
            "grid_template_rows": null,
            "height": null,
            "justify_content": null,
            "justify_items": null,
            "left": null,
            "margin": null,
            "max_height": null,
            "max_width": null,
            "min_height": null,
            "min_width": null,
            "object_fit": null,
            "object_position": null,
            "order": null,
            "overflow": null,
            "overflow_x": null,
            "overflow_y": null,
            "padding": null,
            "right": null,
            "top": null,
            "visibility": null,
            "width": null
          }
        },
        "938d3da0eef54ee997fc0ce7ccf1807b": {
          "model_module": "@jupyter-widgets/base",
          "model_module_version": "1.2.0",
          "model_name": "LayoutModel",
          "state": {
            "_model_module": "@jupyter-widgets/base",
            "_model_module_version": "1.2.0",
            "_model_name": "LayoutModel",
            "_view_count": null,
            "_view_module": "@jupyter-widgets/base",
            "_view_module_version": "1.2.0",
            "_view_name": "LayoutView",
            "align_content": null,
            "align_items": null,
            "align_self": null,
            "border": null,
            "bottom": null,
            "display": null,
            "flex": "2",
            "flex_flow": null,
            "grid_area": null,
            "grid_auto_columns": null,
            "grid_auto_flow": null,
            "grid_auto_rows": null,
            "grid_column": null,
            "grid_gap": null,
            "grid_row": null,
            "grid_template_areas": null,
            "grid_template_columns": null,
            "grid_template_rows": null,
            "height": null,
            "justify_content": null,
            "justify_items": null,
            "left": null,
            "margin": null,
            "max_height": null,
            "max_width": null,
            "min_height": null,
            "min_width": null,
            "object_fit": null,
            "object_position": null,
            "order": null,
            "overflow": null,
            "overflow_x": null,
            "overflow_y": null,
            "padding": null,
            "right": null,
            "top": null,
            "visibility": null,
            "width": null
          }
        },
        "950950a569914ad1a263f3f295e57852": {
          "model_module": "@jupyter-widgets/controls",
          "model_module_version": "1.5.0",
          "model_name": "HTMLModel",
          "state": {
            "_dom_classes": [],
            "_model_module": "@jupyter-widgets/controls",
            "_model_module_version": "1.5.0",
            "_model_name": "HTMLModel",
            "_view_count": null,
            "_view_module": "@jupyter-widgets/controls",
            "_view_module_version": "1.5.0",
            "_view_name": "HTMLView",
            "description": "",
            "description_tooltip": null,
            "layout": "IPY_MODEL_cba28fcac7c349e8ac9794d507768744",
            "placeholder": "​",
            "style": "IPY_MODEL_7bb5cc7b77654cc0b27a22552941a1ce",
            "value": " 11/11 [00:00&lt;00:00, 23.50it/s]"
          }
        },
        "9ab912602cc24346a011fdf58feafbde": {
          "model_module": "@jupyter-widgets/base",
          "model_module_version": "1.2.0",
          "model_name": "LayoutModel",
          "state": {
            "_model_module": "@jupyter-widgets/base",
            "_model_module_version": "1.2.0",
            "_model_name": "LayoutModel",
            "_view_count": null,
            "_view_module": "@jupyter-widgets/base",
            "_view_module_version": "1.2.0",
            "_view_name": "LayoutView",
            "align_content": null,
            "align_items": null,
            "align_self": null,
            "border": null,
            "bottom": null,
            "display": null,
            "flex": null,
            "flex_flow": null,
            "grid_area": null,
            "grid_auto_columns": null,
            "grid_auto_flow": null,
            "grid_auto_rows": null,
            "grid_column": null,
            "grid_gap": null,
            "grid_row": null,
            "grid_template_areas": null,
            "grid_template_columns": null,
            "grid_template_rows": null,
            "height": null,
            "justify_content": null,
            "justify_items": null,
            "left": null,
            "margin": null,
            "max_height": null,
            "max_width": null,
            "min_height": null,
            "min_width": null,
            "object_fit": null,
            "object_position": null,
            "order": null,
            "overflow": null,
            "overflow_x": null,
            "overflow_y": null,
            "padding": null,
            "right": null,
            "top": null,
            "visibility": null,
            "width": null
          }
        },
        "9ec11067fc81414d97457b47e93b78a1": {
          "model_module": "@jupyter-widgets/controls",
          "model_module_version": "1.5.0",
          "model_name": "HTMLModel",
          "state": {
            "_dom_classes": [],
            "_model_module": "@jupyter-widgets/controls",
            "_model_module_version": "1.5.0",
            "_model_name": "HTMLModel",
            "_view_count": null,
            "_view_module": "@jupyter-widgets/controls",
            "_view_module_version": "1.5.0",
            "_view_name": "HTMLView",
            "description": "",
            "description_tooltip": null,
            "layout": "IPY_MODEL_3dc20b49832e46c6ad70dc754f43555f",
            "placeholder": "​",
            "style": "IPY_MODEL_100219bd594645c5b60c3da4a44344fe",
            "value": "Validation DataLoader 0: 100%"
          }
        },
        "a2903f89f4584f16b9f5b412d2730672": {
          "model_module": "@jupyter-widgets/controls",
          "model_module_version": "1.5.0",
          "model_name": "DescriptionStyleModel",
          "state": {
            "_model_module": "@jupyter-widgets/controls",
            "_model_module_version": "1.5.0",
            "_model_name": "DescriptionStyleModel",
            "_view_count": null,
            "_view_module": "@jupyter-widgets/base",
            "_view_module_version": "1.2.0",
            "_view_name": "StyleView",
            "description_width": ""
          }
        },
        "a474d8d377674579b3c9f5327fbb1862": {
          "model_module": "@jupyter-widgets/controls",
          "model_module_version": "1.5.0",
          "model_name": "FloatProgressModel",
          "state": {
            "_dom_classes": [],
            "_model_module": "@jupyter-widgets/controls",
            "_model_module_version": "1.5.0",
            "_model_name": "FloatProgressModel",
            "_view_count": null,
            "_view_module": "@jupyter-widgets/controls",
            "_view_module_version": "1.5.0",
            "_view_name": "ProgressView",
            "bar_style": "",
            "description": "",
            "description_tooltip": null,
            "layout": "IPY_MODEL_2e02be5bf0be40bf87f1364b1fd587ec",
            "max": 11,
            "min": 0,
            "orientation": "horizontal",
            "style": "IPY_MODEL_560450b99c8f4636b3a700db3fc21253",
            "value": 11
          }
        },
        "abcb57f0947f413d9cb83c62c6529562": {
          "model_module": "@jupyter-widgets/controls",
          "model_module_version": "1.5.0",
          "model_name": "DescriptionStyleModel",
          "state": {
            "_model_module": "@jupyter-widgets/controls",
            "_model_module_version": "1.5.0",
            "_model_name": "DescriptionStyleModel",
            "_view_count": null,
            "_view_module": "@jupyter-widgets/base",
            "_view_module_version": "1.2.0",
            "_view_name": "StyleView",
            "description_width": ""
          }
        },
        "acfec13aec454320b585c0b8331e9448": {
          "model_module": "@jupyter-widgets/controls",
          "model_module_version": "1.5.0",
          "model_name": "DescriptionStyleModel",
          "state": {
            "_model_module": "@jupyter-widgets/controls",
            "_model_module_version": "1.5.0",
            "_model_name": "DescriptionStyleModel",
            "_view_count": null,
            "_view_module": "@jupyter-widgets/base",
            "_view_module_version": "1.2.0",
            "_view_name": "StyleView",
            "description_width": ""
          }
        },
        "af211f3be2ce4fb1b6733fa552ed041b": {
          "model_module": "@jupyter-widgets/controls",
          "model_module_version": "1.5.0",
          "model_name": "DescriptionStyleModel",
          "state": {
            "_model_module": "@jupyter-widgets/controls",
            "_model_module_version": "1.5.0",
            "_model_name": "DescriptionStyleModel",
            "_view_count": null,
            "_view_module": "@jupyter-widgets/base",
            "_view_module_version": "1.2.0",
            "_view_name": "StyleView",
            "description_width": ""
          }
        },
        "b174cb3407a04b2989e6049555265446": {
          "model_module": "@jupyter-widgets/controls",
          "model_module_version": "1.5.0",
          "model_name": "FloatProgressModel",
          "state": {
            "_dom_classes": [],
            "_model_module": "@jupyter-widgets/controls",
            "_model_module_version": "1.5.0",
            "_model_name": "FloatProgressModel",
            "_view_count": null,
            "_view_module": "@jupyter-widgets/controls",
            "_view_module_version": "1.5.0",
            "_view_name": "ProgressView",
            "bar_style": "success",
            "description": "",
            "description_tooltip": null,
            "layout": "IPY_MODEL_938d3da0eef54ee997fc0ce7ccf1807b",
            "max": 2139,
            "min": 0,
            "orientation": "horizontal",
            "style": "IPY_MODEL_1c10405770654b90a3635ba4acabb6ef",
            "value": 2139
          }
        },
        "b23fac677f5e4e8884f84fe60585330d": {
          "model_module": "@jupyter-widgets/controls",
          "model_module_version": "1.5.0",
          "model_name": "HBoxModel",
          "state": {
            "_dom_classes": [],
            "_model_module": "@jupyter-widgets/controls",
            "_model_module_version": "1.5.0",
            "_model_name": "HBoxModel",
            "_view_count": null,
            "_view_module": "@jupyter-widgets/controls",
            "_view_module_version": "1.5.0",
            "_view_name": "HBoxView",
            "box_style": "",
            "children": [
              "IPY_MODEL_1ae57433e573436b8bbdf6c22630930d",
              "IPY_MODEL_6769dc278aae487db30d78caa97c6dd8",
              "IPY_MODEL_b5b6d56829af44d99b904176b9552101"
            ],
            "layout": "IPY_MODEL_7dc052c589534aa986569d863596a2a3"
          }
        },
        "b5b6d56829af44d99b904176b9552101": {
          "model_module": "@jupyter-widgets/controls",
          "model_module_version": "1.5.0",
          "model_name": "HTMLModel",
          "state": {
            "_dom_classes": [],
            "_model_module": "@jupyter-widgets/controls",
            "_model_module_version": "1.5.0",
            "_model_name": "HTMLModel",
            "_view_count": null,
            "_view_module": "@jupyter-widgets/controls",
            "_view_module_version": "1.5.0",
            "_view_name": "HTMLView",
            "description": "",
            "description_tooltip": null,
            "layout": "IPY_MODEL_c44756a0ec83400f9f6daf8d1179ad91",
            "placeholder": "​",
            "style": "IPY_MODEL_a2903f89f4584f16b9f5b412d2730672",
            "value": " 11/11 [00:00&lt;00:00, 27.27it/s]"
          }
        },
        "b6179f72e8f94772a4e1e2a503bc1d47": {
          "model_module": "@jupyter-widgets/controls",
          "model_module_version": "1.5.0",
          "model_name": "HBoxModel",
          "state": {
            "_dom_classes": [],
            "_model_module": "@jupyter-widgets/controls",
            "_model_module_version": "1.5.0",
            "_model_name": "HBoxModel",
            "_view_count": null,
            "_view_module": "@jupyter-widgets/controls",
            "_view_module_version": "1.5.0",
            "_view_name": "HBoxView",
            "box_style": "",
            "children": [
              "IPY_MODEL_9ec11067fc81414d97457b47e93b78a1",
              "IPY_MODEL_6351ca36d8d648afa472093df7e73e45",
              "IPY_MODEL_d1efd4fe9adc4243a81d401784b77530"
            ],
            "layout": "IPY_MODEL_2cb3f56ff669424da4e9bace352831b8"
          }
        },
        "be93fd003ef54d7e85bb1fcaa894e467": {
          "model_module": "@jupyter-widgets/controls",
          "model_module_version": "1.5.0",
          "model_name": "DescriptionStyleModel",
          "state": {
            "_model_module": "@jupyter-widgets/controls",
            "_model_module_version": "1.5.0",
            "_model_name": "DescriptionStyleModel",
            "_view_count": null,
            "_view_module": "@jupyter-widgets/base",
            "_view_module_version": "1.2.0",
            "_view_name": "StyleView",
            "description_width": ""
          }
        },
        "c05c8b6064f94652a1f2ed5c3bb7c2b0": {
          "model_module": "@jupyter-widgets/controls",
          "model_module_version": "1.5.0",
          "model_name": "ProgressStyleModel",
          "state": {
            "_model_module": "@jupyter-widgets/controls",
            "_model_module_version": "1.5.0",
            "_model_name": "ProgressStyleModel",
            "_view_count": null,
            "_view_module": "@jupyter-widgets/base",
            "_view_module_version": "1.2.0",
            "_view_name": "StyleView",
            "bar_color": null,
            "description_width": ""
          }
        },
        "c44756a0ec83400f9f6daf8d1179ad91": {
          "model_module": "@jupyter-widgets/base",
          "model_module_version": "1.2.0",
          "model_name": "LayoutModel",
          "state": {
            "_model_module": "@jupyter-widgets/base",
            "_model_module_version": "1.2.0",
            "_model_name": "LayoutModel",
            "_view_count": null,
            "_view_module": "@jupyter-widgets/base",
            "_view_module_version": "1.2.0",
            "_view_name": "LayoutView",
            "align_content": null,
            "align_items": null,
            "align_self": null,
            "border": null,
            "bottom": null,
            "display": null,
            "flex": null,
            "flex_flow": null,
            "grid_area": null,
            "grid_auto_columns": null,
            "grid_auto_flow": null,
            "grid_auto_rows": null,
            "grid_column": null,
            "grid_gap": null,
            "grid_row": null,
            "grid_template_areas": null,
            "grid_template_columns": null,
            "grid_template_rows": null,
            "height": null,
            "justify_content": null,
            "justify_items": null,
            "left": null,
            "margin": null,
            "max_height": null,
            "max_width": null,
            "min_height": null,
            "min_width": null,
            "object_fit": null,
            "object_position": null,
            "order": null,
            "overflow": null,
            "overflow_x": null,
            "overflow_y": null,
            "padding": null,
            "right": null,
            "top": null,
            "visibility": null,
            "width": null
          }
        },
        "cba28fcac7c349e8ac9794d507768744": {
          "model_module": "@jupyter-widgets/base",
          "model_module_version": "1.2.0",
          "model_name": "LayoutModel",
          "state": {
            "_model_module": "@jupyter-widgets/base",
            "_model_module_version": "1.2.0",
            "_model_name": "LayoutModel",
            "_view_count": null,
            "_view_module": "@jupyter-widgets/base",
            "_view_module_version": "1.2.0",
            "_view_name": "LayoutView",
            "align_content": null,
            "align_items": null,
            "align_self": null,
            "border": null,
            "bottom": null,
            "display": null,
            "flex": null,
            "flex_flow": null,
            "grid_area": null,
            "grid_auto_columns": null,
            "grid_auto_flow": null,
            "grid_auto_rows": null,
            "grid_column": null,
            "grid_gap": null,
            "grid_row": null,
            "grid_template_areas": null,
            "grid_template_columns": null,
            "grid_template_rows": null,
            "height": null,
            "justify_content": null,
            "justify_items": null,
            "left": null,
            "margin": null,
            "max_height": null,
            "max_width": null,
            "min_height": null,
            "min_width": null,
            "object_fit": null,
            "object_position": null,
            "order": null,
            "overflow": null,
            "overflow_x": null,
            "overflow_y": null,
            "padding": null,
            "right": null,
            "top": null,
            "visibility": null,
            "width": null
          }
        },
        "d1efd4fe9adc4243a81d401784b77530": {
          "model_module": "@jupyter-widgets/controls",
          "model_module_version": "1.5.0",
          "model_name": "HTMLModel",
          "state": {
            "_dom_classes": [],
            "_model_module": "@jupyter-widgets/controls",
            "_model_module_version": "1.5.0",
            "_model_name": "HTMLModel",
            "_view_count": null,
            "_view_module": "@jupyter-widgets/controls",
            "_view_module_version": "1.5.0",
            "_view_name": "HTMLView",
            "description": "",
            "description_tooltip": null,
            "layout": "IPY_MODEL_640ac5a06820498585c48a1b69355d0d",
            "placeholder": "​",
            "style": "IPY_MODEL_515318593400421487560182023801f1",
            "value": " 11/11 [00:00&lt;00:00, 15.17it/s]"
          }
        },
        "d8cd82c7af8747148b5b4750e8f1372a": {
          "model_module": "@jupyter-widgets/controls",
          "model_module_version": "1.5.0",
          "model_name": "HBoxModel",
          "state": {
            "_dom_classes": [],
            "_model_module": "@jupyter-widgets/controls",
            "_model_module_version": "1.5.0",
            "_model_name": "HBoxModel",
            "_view_count": null,
            "_view_module": "@jupyter-widgets/controls",
            "_view_module_version": "1.5.0",
            "_view_name": "HBoxView",
            "box_style": "",
            "children": [
              "IPY_MODEL_17d8af2b171440cba00f8b2df1a08073",
              "IPY_MODEL_fde8213392c546b58ad8a81aacf4fcb3",
              "IPY_MODEL_09093bb710bd4903abf2e10db6efc0a0"
            ],
            "layout": "IPY_MODEL_d92ec28e7e6c47c4b2e3669b502b8b9e"
          }
        },
        "d92ec28e7e6c47c4b2e3669b502b8b9e": {
          "model_module": "@jupyter-widgets/base",
          "model_module_version": "1.2.0",
          "model_name": "LayoutModel",
          "state": {
            "_model_module": "@jupyter-widgets/base",
            "_model_module_version": "1.2.0",
            "_model_name": "LayoutModel",
            "_view_count": null,
            "_view_module": "@jupyter-widgets/base",
            "_view_module_version": "1.2.0",
            "_view_name": "LayoutView",
            "align_content": null,
            "align_items": null,
            "align_self": null,
            "border": null,
            "bottom": null,
            "display": "inline-flex",
            "flex": null,
            "flex_flow": "row wrap",
            "grid_area": null,
            "grid_auto_columns": null,
            "grid_auto_flow": null,
            "grid_auto_rows": null,
            "grid_column": null,
            "grid_gap": null,
            "grid_row": null,
            "grid_template_areas": null,
            "grid_template_columns": null,
            "grid_template_rows": null,
            "height": null,
            "justify_content": null,
            "justify_items": null,
            "left": null,
            "margin": null,
            "max_height": null,
            "max_width": null,
            "min_height": null,
            "min_width": null,
            "object_fit": null,
            "object_position": null,
            "order": null,
            "overflow": null,
            "overflow_x": null,
            "overflow_y": null,
            "padding": null,
            "right": null,
            "top": null,
            "visibility": "hidden",
            "width": "100%"
          }
        },
        "d9456651273140f9bd6e587ab852eeec": {
          "model_module": "@jupyter-widgets/controls",
          "model_module_version": "1.5.0",
          "model_name": "HTMLModel",
          "state": {
            "_dom_classes": [],
            "_model_module": "@jupyter-widgets/controls",
            "_model_module_version": "1.5.0",
            "_model_name": "HTMLModel",
            "_view_count": null,
            "_view_module": "@jupyter-widgets/controls",
            "_view_module_version": "1.5.0",
            "_view_name": "HTMLView",
            "description": "",
            "description_tooltip": null,
            "layout": "IPY_MODEL_17e62da8657f44d9a998f4acbbd29671",
            "placeholder": "​",
            "style": "IPY_MODEL_be93fd003ef54d7e85bb1fcaa894e467",
            "value": "Epoch 4: 100%"
          }
        },
        "e9d2f22400db472283508e8c01f08fbb": {
          "model_module": "@jupyter-widgets/base",
          "model_module_version": "1.2.0",
          "model_name": "LayoutModel",
          "state": {
            "_model_module": "@jupyter-widgets/base",
            "_model_module_version": "1.2.0",
            "_model_name": "LayoutModel",
            "_view_count": null,
            "_view_module": "@jupyter-widgets/base",
            "_view_module_version": "1.2.0",
            "_view_name": "LayoutView",
            "align_content": null,
            "align_items": null,
            "align_self": null,
            "border": null,
            "bottom": null,
            "display": "inline-flex",
            "flex": null,
            "flex_flow": "row wrap",
            "grid_area": null,
            "grid_auto_columns": null,
            "grid_auto_flow": null,
            "grid_auto_rows": null,
            "grid_column": null,
            "grid_gap": null,
            "grid_row": null,
            "grid_template_areas": null,
            "grid_template_columns": null,
            "grid_template_rows": null,
            "height": null,
            "justify_content": null,
            "justify_items": null,
            "left": null,
            "margin": null,
            "max_height": null,
            "max_width": null,
            "min_height": null,
            "min_width": null,
            "object_fit": null,
            "object_position": null,
            "order": null,
            "overflow": null,
            "overflow_x": null,
            "overflow_y": null,
            "padding": null,
            "right": null,
            "top": null,
            "visibility": "hidden",
            "width": "100%"
          }
        },
        "f2b6c28c36e64f66b54834f543cec282": {
          "model_module": "@jupyter-widgets/controls",
          "model_module_version": "1.5.0",
          "model_name": "HBoxModel",
          "state": {
            "_dom_classes": [],
            "_model_module": "@jupyter-widgets/controls",
            "_model_module_version": "1.5.0",
            "_model_name": "HBoxModel",
            "_view_count": null,
            "_view_module": "@jupyter-widgets/controls",
            "_view_module_version": "1.5.0",
            "_view_name": "HBoxView",
            "box_style": "",
            "children": [
              "IPY_MODEL_2d98065fccb34cb1b44740aa4510f0e7",
              "IPY_MODEL_2aa0bc933aae46729672d55e60c17616",
              "IPY_MODEL_950950a569914ad1a263f3f295e57852"
            ],
            "layout": "IPY_MODEL_2f4dcf310c634bdba125e8bf46d3db26"
          }
        },
        "fd22c38d837a404ab892ddaddf4a8988": {
          "model_module": "@jupyter-widgets/controls",
          "model_module_version": "1.5.0",
          "model_name": "HTMLModel",
          "state": {
            "_dom_classes": [],
            "_model_module": "@jupyter-widgets/controls",
            "_model_module_version": "1.5.0",
            "_model_name": "HTMLModel",
            "_view_count": null,
            "_view_module": "@jupyter-widgets/controls",
            "_view_module_version": "1.5.0",
            "_view_name": "HTMLView",
            "description": "",
            "description_tooltip": null,
            "layout": "IPY_MODEL_46204f92abf1414da360d79b4ca7a924",
            "placeholder": "​",
            "style": "IPY_MODEL_0a54156fabcd4ef3b73b038b71485a6a",
            "value": "Validation DataLoader 0: 100%"
          }
        },
        "fde8213392c546b58ad8a81aacf4fcb3": {
          "model_module": "@jupyter-widgets/controls",
          "model_module_version": "1.5.0",
          "model_name": "FloatProgressModel",
          "state": {
            "_dom_classes": [],
            "_model_module": "@jupyter-widgets/controls",
            "_model_module_version": "1.5.0",
            "_model_name": "FloatProgressModel",
            "_view_count": null,
            "_view_module": "@jupyter-widgets/controls",
            "_view_module_version": "1.5.0",
            "_view_name": "ProgressView",
            "bar_style": "",
            "description": "",
            "description_tooltip": null,
            "layout": "IPY_MODEL_58fbdeafd7ee40cd9392cd4a62c49b81",
            "max": 11,
            "min": 0,
            "orientation": "horizontal",
            "style": "IPY_MODEL_286fbf1303dc4f0b9c1bb3cfb34f920e",
            "value": 11
          }
        }
      }
    }
  },
  "nbformat": 4,
  "nbformat_minor": 0
}
