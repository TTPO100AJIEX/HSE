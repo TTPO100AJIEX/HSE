{
  "cells": [
    {
      "cell_type": "markdown",
      "metadata": {
        "id": "N0MMALtdLU6F"
      },
      "source": [
        "<center>\n",
        "<img src=\"https://raw.githubusercontent.com/dvgodoy/PyTorch101_ODSC_Europe2020/master/images/linear_dogs.jpg\" width=\"800\">\n",
        "\n",
        "# Основы глубинного обучения: домашнее задание 4\n",
        "</center>"
      ]
    },
    {
      "cell_type": "markdown",
      "metadata": {
        "id": "W2LjTioKM_zP"
      },
      "source": [
        "## Общая информация"
      ]
    },
    {
      "cell_type": "markdown",
      "metadata": {},
      "source": [
        "__Дата выдачи:__ 09.12.2023\n",
        "\n",
        "__Дедлайн:__ 23:59MSK 18.12.2023\n",
        "\n",
        "В случае этой домашки мягкий дедлан совпадает с жёстким."
      ]
    },
    {
      "cell_type": "markdown",
      "metadata": {
        "id": "pGGDD519LWaa"
      },
      "source": [
        "## Оценивание и штрафы"
      ]
    },
    {
      "cell_type": "markdown",
      "metadata": {},
      "source": [
        "Каждая из задач имеет определенную «стоимость» (указана в скобках около задачи). Максимально допустимая оценка за работу — 5.2 балла (3 основных балла и ещё 2.2 бонусных).\n",
        "\n",
        "Задание выполняется самостоятельно. «Похожие» решения считаются плагиатом и все задействованные студенты (в том числе те, у кого списали) не могут получить за него больше 0 баллов. Если вы нашли решение какого-то из заданий (или его часть) в открытом источнике, необходимо указать ссылку на этот источник (скорее всего вы будете не единственным, кто это нашел, поэтому чтобы исключить подозрение в плагиате, необходима ссылка на источник)."
      ]
    },
    {
      "cell_type": "code",
      "execution_count": null,
      "metadata": {
        "id": "e88B7C_7M_zQ"
      },
      "outputs": [],
      "source": [
        "import os\n",
        "import re\n",
        "import math\n",
        "import random\n",
        "import collections\n",
        "\n",
        "import nltk\n",
        "import torch\n",
        "import numpy\n",
        "import wandb\n",
        "import pandas\n",
        "import pytorch_lightning\n",
        "\n",
        "device = torch.device(\n",
        "    \"cuda\" if torch.cuda.is_available()\n",
        "    else \"mps\" if torch.backends.mps.is_available()\n",
        "    else \"cpu\"\n",
        ")\n",
        "print(device)\n",
        "\n",
        "RANDOM_STATE = 42\n",
        "def set_random_seed(seed: int) -> None:\n",
        "    random.seed(seed)\n",
        "    numpy.random.seed(seed)\n",
        "    torch.manual_seed(seed)\n",
        "    torch.cuda.manual_seed(seed)\n",
        "    os.environ[\"PYTHONHASHSEED\"] = str(seed)\n",
        "    torch.backends.cudnn.deterministic = True\n",
        "def fix_random() -> None:\n",
        "    return set_random_seed(RANDOM_STATE)\n",
        "fix_random()"
      ]
    },
    {
      "cell_type": "code",
      "execution_count": null,
      "metadata": {},
      "outputs": [],
      "source": [
        "wandb.login(anonymous = \"allow\")"
      ]
    },
    {
      "cell_type": "markdown",
      "metadata": {
        "id": "GkjGmtWoM_zR"
      },
      "source": [
        "## Описание данных"
      ]
    },
    {
      "cell_type": "markdown",
      "metadata": {},
      "source": [
        "Данные можно [скачать с гугл-диска.](https://drive.google.com/drive/folders/11oCcLplWtp_qm-WuEbfCFP_Mz5K_z3ps?usp=sharing) Если вы делаете задание в колабе, то строчки ниже сами скачают вам данные."
      ]
    },
    {
      "cell_type": "markdown",
      "metadata": {
        "id": "fNAzGcglM_zS"
      },
      "source": [
        "В таблице `ria_news.tsv`  лежат данные о новостях, вышедших на сайте РИА-НОВОСТИ с 15 марта 2018 года по 31 декабря 2018 года.\n",
        "\n",
        "- `href` - уникальный идентификатор новости (ссылка на неё)\n",
        "- `date` - дата публикации новости\n",
        "- `time` - время публикации новости\n",
        "- `title` - заголовок новости\n",
        "- `snippet` - краткое описание новости\n",
        "- `text` - текст новости\n",
        "- `category` - категория новости\n",
        "- `keywords` - ключевые слова (подкатегории новости)\n",
        "- `shows` - счётчик с числом просмотров новости на сайте (на момент парсинга)"
      ]
    },
    {
      "cell_type": "code",
      "execution_count": null,
      "metadata": {},
      "outputs": [],
      "source": [
        "df_ria = pandas.read_csv('data/ria_news.tsv', sep = '\\t')\n",
        "df_ria = df_ria[~df_ria.tags.isnull()]\n",
        "print(df_ria.shape)\n",
        "df_ria.head()"
      ]
    },
    {
      "cell_type": "markdown",
      "metadata": {
        "id": "smOrAVujM_zS"
      },
      "source": [
        "Многие новостные агенства поддерживают странички в социальных сетях. Они постят туда самые сочные сюжеты. В таблице `vk_news.tsv` лежат данные о новостях, которые РИА запостили ВКонтакте в период времени с  `2017-09-29 01:28:55` по `2019-02-01 23:13:17`.\n",
        "\n",
        "- `id` - уникальный идентификатор поста\n",
        "- `href` - ссылка на сайт (если она была указана в посте)\n",
        "- `datetime` - дата и время публикации новости\n",
        "- `title` - заголовок новости\n",
        "- `text` - текст новости в социальной сети\n",
        "- `likes` - число лайков под постом\n",
        "- `comments` - число комментариев под постом"
      ]
    },
    {
      "cell_type": "code",
      "execution_count": null,
      "metadata": {},
      "outputs": [],
      "source": [
        "df_vk = pandas.read_csv('data/vk_news.tsv', sep = '\\t')\n",
        "df_vk['snippet'] = df_vk['text']\n",
        "df_vk.drop('text', axis = 1, inplace = True)\n",
        "print(df_vk.shape)\n",
        "df_vk.head()"
      ]
    },
    {
      "cell_type": "markdown",
      "metadata": {
        "id": "HFaQtcOVM_zT"
      },
      "source": [
        "В таблице `vk_comments.tsv` лежат комментарии к новостям.\n",
        "\n",
        "- `id` - уникальный идентификатор комментария\n",
        "- `post_id` - идентификатор новости, под которой был оставлен комментарий\n",
        "- `datetime` - дата и время, когда был оставлен комментарий\n",
        "- `text` - текст комментария\n",
        "- `likes` - число лайков под комментарием"
      ]
    },
    {
      "cell_type": "code",
      "execution_count": null,
      "metadata": {},
      "outputs": [],
      "source": [
        "df_comments = pandas.read_csv('data/vk_comments.tsv', sep = '\\t')\n",
        "df_comments = df_comments[~df_comments.text.isnull()]\n",
        "print(df_comments.shape)\n",
        "df_comments.head()"
      ]
    },
    {
      "cell_type": "markdown",
      "metadata": {
        "id": "58hpgVLvM_zT"
      },
      "source": [
        "## А что надо сделать то?"
      ]
    },
    {
      "cell_type": "markdown",
      "metadata": {},
      "source": [
        "В тетрадке вам предстоит сделать следующие шаги:\n",
        "\n",
        "1. Вы обучите нейросеть предсказывать категорию новости\n",
        "2. Вы построите предсказания для тех новостей, где мы ничего не знаем о категории\n",
        "3. Вы используете уже обученный для сентимент-анализа классификатор из библиотеки `hugging face` чтобы предсказать эмоциональную окраску каждого комментария\n",
        "4. Вы проведёте аналитику по новостям, а именно построите топы из самых позитивных и негативных категорий и новостей\n",
        "\n",
        "Для первого шага вам будет дан бэйзлайн. Если вы его прогоните, у вас получится базовая модель, которая даст некоторое качество решения задачи. Вам надо будет выяснить, насколько это качество оказалось хорошим, а затем внести в код некоторые улучшения."
      ]
    },
    {
      "cell_type": "markdown",
      "metadata": {
        "id": "hdb5XYa_M_zT"
      },
      "source": [
        "## Часть 1: категоризация новостей (1.2 + 2 бонусных балла)"
      ]
    },
    {
      "cell_type": "markdown",
      "metadata": {},
      "source": [
        "Каждой новости в соотвествие поставлены ключевые слова. Будем считать, что эти ключевые слова — тематики новости. Нужно научиться предсказывать тематики по тексту новости. Готовые тематики у нас есть только по новостям с сайта. Они за 2018 год. По новостям из ВКонтакте у нас тематик нет. Мы собираемся их предсказать.\n",
        "\n",
        "Новости, опубликованные ВКонтакте, отличаются от новостей с сайта тем, что у них есть только титул и короткое описание. Странно будет обучать нейросеть на длинных текстах, а потом использовать её на коротких описаниях. Мы не будем так делать. Мы попробуем обучить базовый вариант нейронной сети только на заголовках новостей. Все, кто захочет получить бонусные баллы, смогут попробовать добавить в нейросеть сниппеты (так назыают короткие описания новостей)."
      ]
    },
    {
      "cell_type": "markdown",
      "metadata": {
        "id": "NmGxSLP-M_zT"
      },
      "source": [
        "### 1.1 Подготовка таргета\n",
        "\n",
        "Поработаем с таргетом. Мы будем предсказывать переменную `tags`. Давайте выясним скоько уникальных тегов существует."
      ]
    },
    {
      "cell_type": "code",
      "execution_count": null,
      "metadata": {
        "colab": {
          "base_uri": "https://localhost:8080/"
        },
        "id": "NZDxrSvkM_zT",
        "outputId": "f943777c-de05-437d-9cb0-27c24cb8b2f6"
      },
      "outputs": [],
      "source": [
        "# удалим все лишние пробелы и сделаем lowercase\n",
        "df_ria['tags'] = (df_ria.tags.apply(lambda w: ','.join([item.strip() for item in w.lower().split(',')])))\n",
        "\n",
        "tags = ','.join(list(df_ria.tags.values))\n",
        "tags_cnt = collections.Counter(tags.split(','))\n",
        "\n",
        "print(len(tags_cnt))\n",
        "tags_cnt.most_common()[-20:]"
      ]
    },
    {
      "cell_type": "markdown",
      "metadata": {
        "id": "5Wv68z36M_zT"
      },
      "source": [
        "Всего в выборке есть порядка 13 000 тэгов. Многие встречаются всего по разу. Давайте оставим в выборке только те тэги, которые встречаются более 30 раз."
      ]
    },
    {
      "cell_type": "code",
      "execution_count": null,
      "metadata": {
        "colab": {
          "base_uri": "https://localhost:8080/"
        },
        "id": "eA6H34iKM_zU",
        "outputId": "f5b55784-1052-455a-e961-a0fa85bd3932"
      },
      "outputs": [],
      "source": [
        "target_tags = { tag for tag, cnt in tags_cnt.most_common() if cnt > 30 }\n",
        "len(target_tags)"
      ]
    },
    {
      "cell_type": "markdown",
      "metadata": {
        "id": "RLrQSyCDM_zU"
      },
      "source": [
        "Закодируем теги для OHE."
      ]
    },
    {
      "cell_type": "code",
      "execution_count": null,
      "metadata": {
        "id": "J2fKnLmTM_zU"
      },
      "outputs": [],
      "source": [
        "tag2idx = dict(zip(target_tags, range(len(target_tags))))\n",
        "idx2tag = { jtem: item for item, jtem in tag2idx.items() }"
      ]
    },
    {
      "cell_type": "markdown",
      "metadata": {
        "id": "8QDNftQqM_zU"
      },
      "source": [
        "Почистим таргет от лишних тэгов."
      ]
    },
    {
      "cell_type": "code",
      "execution_count": null,
      "metadata": {
        "colab": {
          "base_uri": "https://localhost:8080/"
        },
        "id": "9pqA60YiM_zU",
        "outputId": "af3ccfd7-ae21-43fd-ac89-926cc4b36867"
      },
      "outputs": [],
      "source": [
        "df_ria['target_tags'] = (df_ria.tags.apply(lambda w: [ tag2idx.get(item) for item in w.split(',') if item in target_tags ]))\n",
        "df_ria = df_ria[df_ria.target_tags.apply(len) > 0]\n",
        "df_ria.shape"
      ]
    },
    {
      "cell_type": "code",
      "execution_count": null,
      "metadata": {
        "colab": {
          "base_uri": "https://localhost:8080/"
        },
        "id": "y0KaYfuQM_zU",
        "outputId": "a8ddc5b6-ffeb-4697-feb8-2a4f011e05b2"
      },
      "outputs": [],
      "source": [
        "df_ria.target_tags.values[:3]"
      ]
    },
    {
      "cell_type": "markdown",
      "metadata": {
        "id": "Y-hjLFKRM_zU"
      },
      "source": [
        "### 1.2 Подготовка текстов"
      ]
    },
    {
      "cell_type": "markdown",
      "metadata": {},
      "source": [
        "Теперь займёмся предобработкой текстов. Приведём все слова к маленькому регистру и выбросим мусорные символы. В качестве токенов будем рассматривать отдельные слова.\n",
        "\n",
        "Напомню, что мы пока что решили работать только с названиями статей. Поэтому вся предобработка применяется исключительно к ним. **Спойлер:** предобработку для сниппетов вы сделаете сами в первом же задании."
      ]
    },
    {
      "cell_type": "code",
      "execution_count": null,
      "metadata": {
        "colab": {
          "base_uri": "https://localhost:8080/"
        },
        "id": "DUEWRZWTQsHy",
        "outputId": "2fe04954-273e-441e-e29d-d689166692a8"
      },
      "outputs": [],
      "source": [
        "nltk.download('punkt')\n",
        "nltk.download('stopwords')\n",
        "\n",
        "stops_ru = set(nltk.corpus.stopwords.words('russian'))\n",
        "len(stops_ru)"
      ]
    },
    {
      "cell_type": "code",
      "execution_count": null,
      "metadata": {},
      "outputs": [],
      "source": [
        "def normalize_text(text):\n",
        "    # сурово регулярками выкидываем мусорные символы\n",
        "    is_null = not isinstance(text, str) and math.isnan(text)\n",
        "    return \"#UNK#\" if is_null else re.sub('[^а-яa-z0-9 ]', '', text.lower()).strip()\n",
        "\n",
        "def create_vocab(text, stops_ru = stops_ru):\n",
        "    k = 2\n",
        "    vocabulary = { \"#PAD#\": 0, \"#UNK#\": 1 }\n",
        "    for word, _ in collections.Counter(nltk.tokenize.word_tokenize(text)).most_common():\n",
        "        if word not in stops_ru:\n",
        "            vocabulary[word] = k\n",
        "            k += 1\n",
        "    return vocabulary"
      ]
    },
    {
      "cell_type": "code",
      "execution_count": null,
      "metadata": {
        "colab": {
          "base_uri": "https://localhost:8080/"
        },
        "id": "bLHWjtkoM_zU",
        "outputId": "b31d890c-e3bc-4be5-e285-372503938fda"
      },
      "outputs": [],
      "source": [
        "df_ria['title_clean'] = df_ria.title.apply(normalize_text)\n",
        "print(len(create_vocab(' '.join(df_ria.title_clean.values))))\n",
        "df_ria.head()"
      ]
    },
    {
      "cell_type": "markdown",
      "metadata": {
        "id": "lnYJT9BXM_zV"
      },
      "source": [
        "__[0.2 балла] Задание 1:__\n",
        "\n",
        "- Cделайте аналогичную предобработку титулов из таблички `df_vk`. Запишите получившийся результат в столбец `title_clean` по аналогии с таблицей `df_ria`.\n",
        "- Сделайте для обеих таблиц предобработку колонок со сниппетами `snippet` и запишите получившийся результат в столбец `snippet_clean`. Все пропуски заполните токеном `\"#UNKN\"`."
      ]
    },
    {
      "cell_type": "code",
      "execution_count": null,
      "metadata": {},
      "outputs": [],
      "source": [
        "df_vk['title_clean'] = df_vk.title.apply(normalize_text)\n",
        "print(len(create_vocab(' '.join(df_vk.title_clean.values))))\n",
        "df_vk.head()"
      ]
    },
    {
      "cell_type": "code",
      "execution_count": null,
      "metadata": {},
      "outputs": [],
      "source": [
        "df_ria['snippet_clean'] = df_ria.snippet.apply(normalize_text)\n",
        "print(len(create_vocab(' '.join(df_ria.snippet_clean.values))))\n",
        "df_ria.head()"
      ]
    },
    {
      "cell_type": "code",
      "execution_count": null,
      "metadata": {
        "id": "FTlZA9amM_zV"
      },
      "outputs": [],
      "source": [
        "df_vk['snippet_clean'] = df_vk.snippet.apply(normalize_text)\n",
        "print(len(create_vocab(' '.join(df_vk.snippet_clean.values))))\n",
        "df_vk.head()"
      ]
    },
    {
      "cell_type": "markdown",
      "metadata": {
        "id": "WrRKg_QHM_zV"
      },
      "source": [
        "### 1.3 Поставка данных"
      ]
    },
    {
      "cell_type": "markdown",
      "metadata": {
        "id": "S2vPPWsEM_zV"
      },
      "source": [
        "Пересечение сайта и ВК по опубликованным новостям довольно маленькое. Мы обучаем модель на данных с сайта. Предсказания мы будем строить на данных из ВК. У этих данных разная природа. В ВК описание статей и заголовки короче. Модель может хорошо показать себя на данных с новостного сайта, но сильно просесть в качестве на данных из ВК.\n",
        "\n",
        "Давайте сохраним пересечение в отдельную табличку, чтобы на нём можно было понять, насколько сильно деградирует модель."
      ]
    },
    {
      "cell_type": "code",
      "execution_count": null,
      "metadata": {
        "colab": {
          "base_uri": "https://localhost:8080/"
        },
        "id": "8KjCNaTLM_zW",
        "outputId": "a0de14af-5d32-4dff-89f7-3b04a7e35271"
      },
      "outputs": [],
      "source": [
        "ria_hrefs = set(df_ria.href.values)\n",
        "vk_hrefs = set(df_vk.href.values)\n",
        "test_hrefs = (vk_hrefs & ria_hrefs)\n",
        "\n",
        "print('Размер отложенной выборки:', len(test_hrefs))\n",
        "df = df_ria[~df_ria.href.isin(test_hrefs)]"
      ]
    },
    {
      "cell_type": "markdown",
      "metadata": {
        "id": "FVutzHbPM_zg"
      },
      "source": [
        "По странному совпадению (я правда не знаю почему) пересечение лежит в декабре. Мы будем его использовать как тестовую выборку."
      ]
    },
    {
      "cell_type": "code",
      "execution_count": null,
      "metadata": {
        "colab": {
          "base_uri": "https://localhost:8080/"
        },
        "id": "1fGs6y6PM_zg",
        "outputId": "5a639a55-e194-4d78-bba0-f6297339f49d"
      },
      "outputs": [],
      "source": [
        "df_ria[df_ria.href.isin(test_hrefs)].date.min(), df_ria[df_ria.href.isin(test_hrefs)].date.max()"
      ]
    },
    {
      "cell_type": "markdown",
      "metadata": {
        "id": "VJ_7VGvnM_zg"
      },
      "source": [
        "Предположим, что мы делим выборку на обучающую и тестовую случайно. За один и тот же промежуток времени может выйти довольно большое число новостей с одинаковым заголовком. Давайте представим себе, что в тесте и трэйне есть много статей про одно и то же событие. Модель научилась на обучающей выборке хорошо его тегировать. Остальные события модель тегирует намного хуже. Метрики на тестовой выборке высокие. В следующем месяце СМИ перестают освещать это событие, в потоке новостей совершенно другие новости. Качество модели резко проседает.\n",
        "\n",
        "Чтобы не напороться на завышенные метрики, обычно выборку дробят на обучающую и тестовую по времени. Тогда статьи из теста будут имитировать поток новых новостей, освещающих новые события."
      ]
    },
    {
      "cell_type": "code",
      "execution_count": null,
      "metadata": {
        "colab": {
          "base_uri": "https://localhost:8080/"
        },
        "id": "WscwQXAuM_zg",
        "outputId": "0a83dd25-a157-45e9-b757-f9fdf70a56e2"
      },
      "outputs": [],
      "source": [
        "df.date.min(), df.date.max()"
      ]
    },
    {
      "cell_type": "markdown",
      "metadata": {
        "id": "bzM_6-ntM_zg"
      },
      "source": [
        "__[0.2 балла] Задание 2:__ Разбейте выборку на обучающую, валидационную и тестовую. В тест возьмите весь декабрь. В валидацию октябрь и ноябрь."
      ]
    },
    {
      "cell_type": "code",
      "execution_count": null,
      "metadata": {
        "id": "Yzr5nNIvM_zg"
      },
      "outputs": [],
      "source": [
        "october_mask = df_ria.date.apply(lambda date: date.startswith('2018-10-'))\n",
        "november_mask = df_ria.date.apply(lambda date: date.startswith('2018-11-'))\n",
        "december_mask = df_ria.date.apply(lambda date: date.startswith('2018-12-'))\n",
        "\n",
        "df_test = df_ria[december_mask]\n",
        "df_val = df_ria[october_mask | november_mask]\n",
        "df_train = df_ria[~(october_mask | november_mask | december_mask)]\n",
        "assert len(df_test) + len(df_val) + len(df_train) == len(df_ria)\n",
        "print('Val:', len(df_val), df_val.date.min(), df_val.date.max())\n",
        "print('Test:', len(df_test), df_test.date.min(), df_test.date.max())\n",
        "print('Train:', len(df_train), df_train.date.min(), df_train.date.max())"
      ]
    },
    {
      "cell_type": "markdown",
      "metadata": {
        "id": "AlG-87v8M_zh"
      },
      "source": [
        "Сформируем отложенную выборку (пересечение ВКонтакте и РИА)."
      ]
    },
    {
      "cell_type": "code",
      "execution_count": null,
      "metadata": {
        "colab": {
          "base_uri": "https://localhost:8080/",
          "height": 206
        },
        "id": "KmBZjIx4M_zh",
        "outputId": "6b4bc36b-9d88-4182-a0b0-9d4c4314a248"
      },
      "outputs": [],
      "source": [
        "df_oob = df_vk[df_vk.href.isin(test_hrefs)][['href', 'title_clean', 'snippet_clean']]\n",
        "df_ria_oob = df_ria[df_ria.href.isin(test_hrefs)][['href', 'target_tags']]\n",
        "df_oob = df_oob.set_index('href').join(df_ria_oob.set_index('href')).reset_index()\n",
        "df_oob.head()"
      ]
    },
    {
      "cell_type": "markdown",
      "metadata": {
        "id": "laZ8tkFjM_zh"
      },
      "source": [
        "Напишем датасет для поставки данных в нейросеть.\n"
      ]
    },
    {
      "cell_type": "code",
      "execution_count": null,
      "metadata": {
        "id": "0if_RkA_M_zh"
      },
      "outputs": [],
      "source": [
        "class NewsDataset(torch.utils.data.Dataset):\n",
        "    def __init__(\n",
        "            self,\n",
        "            num_classes, targets,\n",
        "            vocab, vocab_size,\n",
        "            titles, title_len,\n",
        "            snippets = None, snippet_len = None\n",
        "        ):\n",
        "        self.y = self.target_ohe(num_classes, targets)\n",
        "        self.vocab = { word: idx for word, idx in vocab.items() if idx < vocab_size }\n",
        "        self.titles = self.create_text(titles, title_len)\n",
        "        self.snippets = self.create_text(snippets, snippet_len)\n",
        "\n",
        "    def target_ohe(self, num_classes, target):\n",
        "        y = torch.zeros((len(target), num_classes))\n",
        "        for i, t in enumerate(target):\n",
        "            y[[ i ] * len(t), t] = 1.0\n",
        "        return y\n",
        "\n",
        "    def create_text(self, texts, max_len = 100000000):\n",
        "        if texts is None: return None\n",
        "        result = [ ]\n",
        "        for sent in texts:\n",
        "            # {#PAD: 0, #UNKN: 1}\n",
        "            sent_tokenize = [ self.vocab.get(item, 1) for item in nltk.tokenize.word_tokenize(sent) ]\n",
        "            # приводим все тексты к max_len\n",
        "            if len(sent_tokenize) >= max_len: sent_tokenize = sent_tokenize[:max_len]\n",
        "            else: sent_tokenize += [ 0 ] * (max_len - len(sent_tokenize))\n",
        "            result.append(sent_tokenize)\n",
        "        return torch.tensor(result, dtype = torch.int)\n",
        "\n",
        "    def __len__(self):\n",
        "        return len(self.titles)\n",
        "\n",
        "    def __getitem__(self, idx):\n",
        "        if self.snippets is None: return (self.titles[idx, :], self.y[idx])\n",
        "        else: return (self.titles[idx, :], self.snippets[idx, :], self.y[idx])"
      ]
    },
    {
      "cell_type": "markdown",
      "metadata": {
        "id": "xQMfQ1ZkM_zh"
      },
      "source": [
        "__[0.2 балла] Задание 3:__ Сейчас датасет умеет работать только с полем `title_clean`. Давайте сделаем этот датасет более многофукнциональным и добавим в него возможность добавить в обработку данных сниппет.\n",
        "\n",
        "1. Внутри датасета `snippet` надо обработать точно также как и `title`.\n",
        "2. Если `snippet=None`, датасет должен вернуть два объекта: `X_title, y`. В обратном случае датасет должен вернуть три объекта.\n",
        "\n",
        "**Важно:** Весь код ниже работает сейчас без сниппета. Он не должен развалиться от того, что сниппет в нём нигде не указан."
      ]
    },
    {
      "cell_type": "markdown",
      "metadata": {
        "id": "1v_Rgi_DM_zh"
      },
      "source": [
        "Объявим датасеты, оставим в словаре 30 000 самых частотных слов. Будем смотреть на титулы максимальной длины 20."
      ]
    },
    {
      "cell_type": "code",
      "execution_count": null,
      "metadata": {
        "id": "2zjgEiWWM_zh"
      },
      "outputs": [],
      "source": [
        "NUM_CLASSES = len(idx2tag)\n",
        "VOCAB_SIZE = 30000\n",
        "MAX_TITLE_LEN = 20\n",
        "\n",
        "# словарь создаем по всей выборке\n",
        "titles_vocabulary = create_vocab(' '.join(df_train.title_clean.values))\n",
        "\n",
        "# объявляем датасеты\n",
        "titles_train_ds = NewsDataset(\n",
        "    NUM_CLASSES, df_train.target_tags.values,\n",
        "    titles_vocabulary, VOCAB_SIZE,\n",
        "    df_train.title_clean.values, MAX_TITLE_LEN\n",
        ")\n",
        "titles_val_ds = NewsDataset(\n",
        "    NUM_CLASSES, df_val.target_tags.values,\n",
        "    titles_vocabulary, VOCAB_SIZE,\n",
        "    df_val.title_clean.values, MAX_TITLE_LEN\n",
        ")\n",
        "titles_test_ds = NewsDataset(\n",
        "    NUM_CLASSES, df_test.target_tags.values,\n",
        "    titles_vocabulary, VOCAB_SIZE,\n",
        "    df_test.title_clean.values, MAX_TITLE_LEN\n",
        ")\n",
        "titles_oob_ds = NewsDataset(\n",
        "    NUM_CLASSES, df_oob.target_tags.values,\n",
        "    titles_vocabulary, VOCAB_SIZE,\n",
        "    df_oob.title_clean.values, MAX_TITLE_LEN\n",
        ")\n",
        "\n",
        "# даталоадеры\n",
        "titles_train_loader = torch.utils.data.DataLoader(titles_train_ds, shuffle = True, batch_size = 64)\n",
        "titles_val_loader = torch.utils.data.DataLoader(titles_val_ds, shuffle = False, batch_size = 4096)"
      ]
    },
    {
      "cell_type": "code",
      "execution_count": null,
      "metadata": {},
      "outputs": [],
      "source": [
        "MAX_SNIPPET_LEN = 50\n",
        "\n",
        "# словарь создаем по всей выборке\n",
        "snippets_vocabulary = create_vocab(' '.join(df_train.title_clean.values))\n",
        "\n",
        "# объявляем датасеты\n",
        "snippets_train_ds = NewsDataset(\n",
        "    NUM_CLASSES, df_train.target_tags.values,\n",
        "    titles_vocabulary, VOCAB_SIZE,\n",
        "    df_train.title_clean.values, MAX_TITLE_LEN,\n",
        "    df_train.snippet_clean.values, MAX_SNIPPET_LEN\n",
        ")\n",
        "snippets_val_ds = NewsDataset(\n",
        "    NUM_CLASSES, df_val.target_tags.values,\n",
        "    titles_vocabulary, VOCAB_SIZE,\n",
        "    df_val.title_clean.values, MAX_TITLE_LEN,\n",
        "    df_val.snippet_clean.values, MAX_SNIPPET_LEN\n",
        ")\n",
        "snippets_test_ds = NewsDataset(\n",
        "    NUM_CLASSES, df_test.target_tags.values,\n",
        "    titles_vocabulary, VOCAB_SIZE,\n",
        "    df_test.title_clean.values, MAX_TITLE_LEN,\n",
        "    df_test.snippet_clean.values, MAX_SNIPPET_LEN\n",
        ")\n",
        "snippets_oob_ds = NewsDataset(\n",
        "    NUM_CLASSES, df_oob.target_tags.values,\n",
        "    titles_vocabulary, VOCAB_SIZE,\n",
        "    df_oob.title_clean.values, MAX_TITLE_LEN,\n",
        "    df_oob.snippet_clean.values, MAX_SNIPPET_LEN\n",
        ")\n",
        "\n",
        "# даталоадеры\n",
        "snippets_train_loader = torch.utils.data.DataLoader(snippets_train_ds, shuffle = True, batch_size = 64)\n",
        "snippets_val_loader = torch.utils.data.DataLoader(snippets_val_ds, shuffle = False, batch_size = 4096)"
      ]
    },
    {
      "cell_type": "markdown",
      "metadata": {
        "id": "WvQXMtISM_zh"
      },
      "source": [
        "### 1.4 Архитектуры\n",
        "\n",
        "Соберём базовую архитектуру для обучения."
      ]
    },
    {
      "cell_type": "code",
      "execution_count": null,
      "metadata": {
        "id": "dN8DAIIkM_zh"
      },
      "outputs": [],
      "source": [
        "class TitlesClassifier(torch.nn.Module):\n",
        "    def __init__(self, vocab_size, embedding_dim, output_dim):\n",
        "        super().__init__()\n",
        "        self.embedding = torch.nn.Embedding(vocab_size, embedding_dim)\n",
        "        self.fc = torch.nn.Linear(embedding_dim, output_dim)\n",
        "\n",
        "    def forward(self, titles):\n",
        "        return self.fc(self.embedding(titles).mean(dim = 1))"
      ]
    },
    {
      "cell_type": "markdown",
      "metadata": {
        "id": "slQEltBQM_zh"
      },
      "source": [
        "Соберём в `pytorch_lightning` модуль для обучения нейронки."
      ]
    },
    {
      "cell_type": "code",
      "execution_count": null,
      "metadata": {
        "id": "5E6J3of9M_zi"
      },
      "outputs": [],
      "source": [
        "class TrainLightningModule(pytorch_lightning.LightningModule):\n",
        "    def __init__(self, model, learning_rate, criterion):\n",
        "        super().__init__()\n",
        "        self.model = model\n",
        "        self.criterion = criterion\n",
        "        self.learning_rate = learning_rate\n",
        "\n",
        "    def forward(self, titles):\n",
        "        return self.model(titles)\n",
        "\n",
        "    def configure_optimizers(self):\n",
        "        return torch.optim.Adam(self.parameters(), lr = self.learning_rate)\n",
        "\n",
        "    def training_step(self, train_batch, batch_idx):\n",
        "        logits = self.model(*train_batch[:-1])\n",
        "        loss = self.criterion(logits, train_batch[-1])\n",
        "        self.log(\"train_loss\", loss, prog_bar = True)\n",
        "        return loss\n",
        "\n",
        "    def validation_step(self, val_batch, batch_idx):\n",
        "        logits = self.model(*val_batch[:-1])\n",
        "        loss = self.criterion(logits, val_batch[-1])\n",
        "        self.log(\"val_loss\", loss, prog_bar = True)\n",
        "        return loss"
      ]
    },
    {
      "cell_type": "markdown",
      "metadata": {
        "id": "6BirneLfM_zi"
      },
      "source": [
        "Обучим модель."
      ]
    },
    {
      "cell_type": "code",
      "execution_count": null,
      "metadata": {},
      "outputs": [],
      "source": [
        "LR = 1e-3\n",
        "EPOCHS = 5\n",
        "EMBEDDING_DIM = 300\n",
        "\n",
        "criterion = torch.nn.CrossEntropyLoss()"
      ]
    },
    {
      "cell_type": "code",
      "execution_count": null,
      "metadata": {
        "colab": {
          "base_uri": "https://localhost:8080/",
          "height": 349,
          "referenced_widgets": [
            "3ef009aeabae43b48bc913a592d1a019",
            "75b99a050a37493389ff96724a9a3b72",
            "78fe9e3a3d614de9a6f3efacde67d247",
            "2d71626a24cb45f39095e7e3fd621707",
            "4f75594be29e49cc99fe61a6787e7564",
            "9ab912602cc24346a011fdf58feafbde",
            "af211f3be2ce4fb1b6733fa552ed041b",
            "84f32a71a7cd4de6b55a9558717d00ef",
            "5db675de6b8348e9a9823384541bdfff",
            "6fa8591a1a834d8785b1ebe8eff2b10d",
            "acfec13aec454320b585c0b8331e9448",
            "1ae6951f8b984b318210df9d009479d8",
            "d9456651273140f9bd6e587ab852eeec",
            "b174cb3407a04b2989e6049555265446",
            "7bd174d7cd2346be9db9d5a0a170f8cb",
            "3ada921ee7644de997b57ffd2c57044d",
            "17e62da8657f44d9a998f4acbbd29671",
            "be93fd003ef54d7e85bb1fcaa894e467",
            "938d3da0eef54ee997fc0ce7ccf1807b",
            "1c10405770654b90a3635ba4acabb6ef",
            "2da5b84f9384445a8d9db58ef3dafa5e",
            "abcb57f0947f413d9cb83c62c6529562",
            "d8cd82c7af8747148b5b4750e8f1372a",
            "17d8af2b171440cba00f8b2df1a08073",
            "fde8213392c546b58ad8a81aacf4fcb3",
            "09093bb710bd4903abf2e10db6efc0a0",
            "d92ec28e7e6c47c4b2e3669b502b8b9e",
            "201a41be363549eaa0fdc903fb41f83e",
            "60c4aa6c4c8145949cd16ec0670227a1",
            "58fbdeafd7ee40cd9392cd4a62c49b81",
            "286fbf1303dc4f0b9c1bb3cfb34f920e",
            "8fc5cc9d0df74d5081fa3f8c89595daf",
            "0cbe638b1d354bea83ccba54ee3d1f5c",
            "f2b6c28c36e64f66b54834f543cec282",
            "2d98065fccb34cb1b44740aa4510f0e7",
            "2aa0bc933aae46729672d55e60c17616",
            "950950a569914ad1a263f3f295e57852",
            "2f4dcf310c634bdba125e8bf46d3db26",
            "6072601881c341fb8e5329fab05ee52d",
            "13a1fd50c8f24f12a0f28485b6168606",
            "546d1deb5c934916b722fb9ab0ce5e67",
            "86ed101f86384b9b92eb3faccae5bca2",
            "cba28fcac7c349e8ac9794d507768744",
            "7bb5cc7b77654cc0b27a22552941a1ce",
            "b6179f72e8f94772a4e1e2a503bc1d47",
            "9ec11067fc81414d97457b47e93b78a1",
            "6351ca36d8d648afa472093df7e73e45",
            "d1efd4fe9adc4243a81d401784b77530",
            "2cb3f56ff669424da4e9bace352831b8",
            "3dc20b49832e46c6ad70dc754f43555f",
            "100219bd594645c5b60c3da4a44344fe",
            "7a6a637bb7664b4495b2b56b45d88ee4",
            "74bf3b2a873e40ffa139f1afe652ffe8",
            "640ac5a06820498585c48a1b69355d0d",
            "515318593400421487560182023801f1",
            "2a38ec8f52d74e018a4c1876d3a2f874",
            "fd22c38d837a404ab892ddaddf4a8988",
            "a474d8d377674579b3c9f5327fbb1862",
            "0029cbbc48c64effb57bffff5d199e34",
            "e9d2f22400db472283508e8c01f08fbb",
            "46204f92abf1414da360d79b4ca7a924",
            "0a54156fabcd4ef3b73b038b71485a6a",
            "2e02be5bf0be40bf87f1364b1fd587ec",
            "560450b99c8f4636b3a700db3fc21253",
            "0140e6c8951147b6a7e079682e938e7f",
            "534e121744814f4d8880072004513e37",
            "b23fac677f5e4e8884f84fe60585330d",
            "1ae57433e573436b8bbdf6c22630930d",
            "6769dc278aae487db30d78caa97c6dd8",
            "b5b6d56829af44d99b904176b9552101",
            "7dc052c589534aa986569d863596a2a3",
            "5d422f8cbd47402bb8f28b258e5abed0",
            "80d177b53a5f4fe0a733d3b7d36e9b30",
            "71c435b7fa6f4a0fb44a4c8a8b5a73f6",
            "c05c8b6064f94652a1f2ed5c3bb7c2b0",
            "c44756a0ec83400f9f6daf8d1179ad91",
            "a2903f89f4584f16b9f5b412d2730672"
          ]
        },
        "id": "5ShTLAStM_zi",
        "outputId": "c1894412-c82d-4061-971d-4c732c3ae599"
      },
      "outputs": [],
      "source": [
        "titles_model = TitlesClassifier(VOCAB_SIZE, EMBEDDING_DIM, NUM_CLASSES)\n",
        "trainer = pytorch_lightning.Trainer(accelerator = \"gpu\", max_epochs = EPOCHS)\n",
        "\n",
        "train_module = TrainLightningModule(titles_model, LR, criterion)\n",
        "trainer.fit(train_module, titles_train_loader, titles_val_loader)"
      ]
    },
    {
      "cell_type": "markdown",
      "metadata": {
        "id": "Qj9QJ-xEM_zi"
      },
      "source": [
        "__[0.2 балла] Задание 4:__  Модель выше работает только с титулом.\n",
        "\n",
        "- Залоггируйте её обучение на [WandB](https://wandb.ai/).\n",
        "- Соберите архитектуру, которая будет принимать на вход не только титул, но ещё и сниппет. В этой архитектуре должно происходить следующее:\n",
        "\n",
        "1. Общий слой `nn.Embedding` применяется к сниппету и титулу параллельно.\n",
        "2. Происходит усреднее по текстам.\n",
        "3. Вектора конкатятся в один длины 600\n",
        "4. Линейный слой делает классификацию\n",
        "\n",
        "Обучите эту модель. Сравните траектории обучения на WandB. Прикрепите ссылку на дашборд либо скришот к тетрадке.\n",
        "\n",
        "Даталоадеры придётся объявить заново с учётом сниппетов. Правда ли, что она бьёт на валидационной выборке модель, обученную только на титулах статей?"
      ]
    },
    {
      "cell_type": "code",
      "execution_count": null,
      "metadata": {
        "id": "pOJSMhYMM_zi"
      },
      "outputs": [],
      "source": [
        "wandb_logger = pytorch_lightning.loggers.WandbLogger(project = \"DL-HW-4\", name = \"titles\", log_model = \"all\")\n",
        "trainer = pytorch_lightning.Trainer(accelerator = \"gpu\", max_epochs = EPOCHS, logger = wandb_logger)\n",
        "titles_model = TitlesClassifier(VOCAB_SIZE, EMBEDDING_DIM, NUM_CLASSES)\n",
        "\n",
        "train_module = TrainLightningModule(titles_model, LR, criterion)\n",
        "trainer.fit(train_module, titles_train_loader, titles_val_loader)\n",
        "wandb.finish()"
      ]
    },
    {
      "cell_type": "markdown",
      "metadata": {},
      "source": [
        "![Alternative Text][1702567258605]\n",
        "\n",
        "[1702567258605]:data:image/png;base64,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"
      ]
    },
    {
      "cell_type": "code",
      "execution_count": null,
      "metadata": {},
      "outputs": [],
      "source": [
        "class SnippetsClassifier(torch.nn.Module):\n",
        "    def __init__(self, vocab_size, embedding_dim, output_dim):\n",
        "        super().__init__()\n",
        "        self.embedding = torch.nn.Embedding(vocab_size, embedding_dim)\n",
        "        self.fc = torch.nn.Linear(2 * embedding_dim, output_dim)\n",
        "\n",
        "    def forward(self, titles, snippets):\n",
        "        embedded_titles = self.embedding(titles).mean(dim = 1)\n",
        "        embedded_snippets = self.embedding(snippets).mean(dim = 1)\n",
        "        return self.fc(torch.cat([ embedded_titles, embedded_snippets ], dim = 1))"
      ]
    },
    {
      "cell_type": "code",
      "execution_count": null,
      "metadata": {},
      "outputs": [],
      "source": [
        "wandb_logger = pytorch_lightning.loggers.WandbLogger(project = \"DL-HW-4\", name = \"snippets\", log_model = \"all\")\n",
        "trainer = pytorch_lightning.Trainer(accelerator = \"gpu\", max_epochs = EPOCHS, logger = wandb_logger)\n",
        "snippets_model = SnippetsClassifier(VOCAB_SIZE, EMBEDDING_DIM, NUM_CLASSES)\n",
        "\n",
        "train_module = TrainLightningModule(snippets_model, LR, criterion)\n",
        "trainer.fit(train_module, snippets_train_loader, snippets_val_loader)\n",
        "wandb.finish()"
      ]
    },
    {
      "cell_type": "markdown",
      "metadata": {
        "id": "qKdBptFbM_zi"
      },
      "source": [
        "### 1.5 Инференс и оценка качества моделей"
      ]
    },
    {
      "cell_type": "markdown",
      "metadata": {},
      "source": [
        "Для каждой новости нам надо предсказывать несколько тэгов. То есть в нашем случае настоящее значение таргета это множество из тэгов $y_i = [tag1, tag2, tag3]$. Прогноз модели также множество из тэгов $\\hat y_i = [tag1, tag4]$.\n",
        "\n",
        "Будем считать метрики качества следующим образом (под $|A|$ имеется в виду мощность множества, то есть число элементов в нём):\n",
        "\n",
        "$$\n",
        "Precision = \\frac{1}{n} \\sum_{i = 1}^n \\frac{|y_i \\cap \\hat{y}_i|}{|\\hat{y}_i|}\n",
        "$$\n",
        "\n",
        "$$\n",
        "Recall = \\frac{1}{n} \\sum_{i = 1}^n \\frac{|y_i \\cap \\hat{y}_i|}{|y_i|}\n",
        "$$\n",
        "\n",
        "Также можно считать аналог Accuracy, но это не самая удачная идея, так как у нас в выборке огромное число нулей и эта метрика при любом разумном пороге для принятия решения будет очень высокой.\n",
        "\n",
        "$$\n",
        "Exact Match = \\frac{1}{n} \\cdot \\frac{1}{k} \\sum_{i = 1}^n \\sum_{k=1}^K [y_{ij} = \\hat{y}_{ij}]\n",
        "$$"
      ]
    },
    {
      "cell_type": "code",
      "execution_count": null,
      "metadata": {
        "id": "tgBsB48FM_zi"
      },
      "outputs": [],
      "source": [
        "def precision(target, y_pred):\n",
        "    num = ((y_pred == 1) & (target == 1)).sum(dim = 1)\n",
        "    denum = (y_pred == 1).sum(dim = 1)\n",
        "    return (num / (denum + 1e-5)).mean().item()\n",
        "\n",
        "def recall(target, y_pred):\n",
        "    num = ((y_pred == 1) & (target == 1)).sum(dim = 1)\n",
        "    denum = (target == 1).sum(dim = 1)\n",
        "    return (num / (denum + 1e-5)).mean().item()\n",
        "\n",
        "def exact_match(target, y_pred):\n",
        "    return (1. * (y_pred == target)).mean().item()"
      ]
    },
    {
      "cell_type": "markdown",
      "metadata": {
        "id": "eD9UeFECM_zi"
      },
      "source": [
        "Построим прогноз на тестовой выборке."
      ]
    },
    {
      "cell_type": "code",
      "execution_count": null,
      "metadata": {
        "id": "JHHDcGUDM_zi"
      },
      "outputs": [],
      "source": [
        "test_loader = torch.utils.data.DataLoader(titles_test_ds, shuffle = False, batch_size = len(titles_test_ds))\n",
        "for titles, target in test_loader:\n",
        "    logit = titles_model(titles)\n",
        "    pred_prob = torch.nn.functional.softmax(logit, dim = 1)\n",
        "\n",
        "assert pred_prob.shape[0] == len(titles_test_ds)"
      ]
    },
    {
      "cell_type": "markdown",
      "metadata": {
        "id": "mzbiK9llM_zi"
      },
      "source": [
        "Теперь выбирая различное значение порога, мы можем получать разные предсказания. Если взять очень большое значение порога, то метрики сильно просядут, так как во многих документах никакого прогноза не будет построено вообще."
      ]
    },
    {
      "cell_type": "code",
      "execution_count": null,
      "metadata": {
        "colab": {
          "base_uri": "https://localhost:8080/"
        },
        "id": "v2UI7GKqM_zj",
        "outputId": "c0385b7a-87c8-4e0a-914c-9ac9a93ce67a"
      },
      "outputs": [],
      "source": [
        "TRESHOLD = 0.01\n",
        "y_pred = 1 * (pred_prob > TRESHOLD)\n",
        "print('Exact Match:', exact_match(target, y_pred))\n",
        "print('Precision:', precision(target, y_pred))\n",
        "print('Recall:', recall(target, y_pred))"
      ]
    },
    {
      "cell_type": "code",
      "execution_count": null,
      "metadata": {
        "colab": {
          "base_uri": "https://localhost:8080/"
        },
        "id": "6v3CTYheM_zj",
        "outputId": "eec95f36-d6c3-444d-dc0d-0b7161d31a9d"
      },
      "outputs": [],
      "source": [
        "TRESHOLD = 0.05\n",
        "y_pred = 1 * (pred_prob > TRESHOLD)\n",
        "print('Exact Match:', exact_match(target, y_pred))\n",
        "print('Precision:', precision(target, y_pred))\n",
        "print('Recall:', recall(target, y_pred))"
      ]
    },
    {
      "cell_type": "code",
      "execution_count": null,
      "metadata": {
        "colab": {
          "base_uri": "https://localhost:8080/"
        },
        "id": "7mokX9IVM_zj",
        "outputId": "239c1246-ca6d-4579-be5b-5ebebb4fe526"
      },
      "outputs": [],
      "source": [
        "TRESHOLD = 0.9\n",
        "y_pred = 1 * (pred_prob > TRESHOLD)\n",
        "\n",
        "print('Exact Match:', exact_match(target, y_pred))\n",
        "print('Precision:', precision(target, y_pred))\n",
        "print('Recall:', recall(target, y_pred))"
      ]
    },
    {
      "cell_type": "markdown",
      "metadata": {
        "id": "IUWFt7jjM_zj"
      },
      "source": [
        "Дальше мы будем строить довольно много прогнозов. Давайте напишем код для их строительства в виде функции. Обратите внимание, что на модели со снипетом она упадёт. Когда вы доберётесь до строительства прогнозов, функцию придётся немного модернизировать."
      ]
    },
    {
      "cell_type": "code",
      "execution_count": null,
      "metadata": {
        "id": "B3YFX4d2M_zk"
      },
      "outputs": [],
      "source": [
        "def get_predict(model, dataset):\n",
        "    loader = torch.utils.data.DataLoader(dataset, shuffle = False, batch_size = len(dataset))\n",
        "    for data in loader:\n",
        "        logit = model(*data[:-1])\n",
        "        pred_prob = torch.nn.functional.softmax(logit, dim = 1)\n",
        "        assert pred_prob.shape[0] == len(dataset)\n",
        "        return pred_prob, data[-1]"
      ]
    },
    {
      "cell_type": "markdown",
      "metadata": {
        "id": "g0n493n_M_zk"
      },
      "source": [
        "__[0.2 балла] Задание 5:__ Какая метрика для нас в этой задаче важнее? Точность или полнота? Почему?\n",
        "\n",
        "__ваш ответ:__ \\\n",
        "Ответ, безусловно, зависит от бизнес-задачи, которую мы пытаемся решить нашей моделью. С учётом только той информации, которая дана в задании, я считаю, что precision для нас важнее: лучше, чтобы у новости было мало тегов, все из которых действительно подходят, чем много тегов, большинство из которых не имеют отношения к реальному содержанию. \\\n",
        "Более того, для любых предсказаний можно выбрать порог (например, равный 0), при котором recall равен единице. В такой постановке любая модель работает идеально. Очевидно, это не то, что мы хотим: precision нужно учитывать в любом случае. При необходимости выбора только одной из метрик, целесообразно отдать предпочтение precision."
      ]
    },
    {
      "cell_type": "markdown",
      "metadata": {
        "id": "6TFEvxI6M_zk"
      },
      "source": [
        "- Напишите функцию, которая будет подбирать оптимальное значение порога, оптимизирующее выбранную вами метрику.\n",
        "- Подберите значение порога на валидационной выборке.\n",
        "- Сравните модель со сниппетами и без сниппетов, используя выбранную вами метрику при оптимальном значении порога на тестовой выборке.\n",
        "- Какая из них оказалась лучше?"
      ]
    },
    {
      "cell_type": "code",
      "execution_count": null,
      "metadata": {
        "id": "BCq67JmUM_zl"
      },
      "outputs": [],
      "source": [
        "def get_threshold(pred_prob, target, step = 0.002):\n",
        "    target = target.to(device)\n",
        "    pred_prob = pred_prob.to(device)\n",
        "    best_precision = target.new_tensor([ 0. ])\n",
        "    best_threshold = target.new_tensor([ 0. ])\n",
        "    for threshold in torch.arange(0, 1, step):\n",
        "        y_pred = 1 * (pred_prob > threshold)\n",
        "        prec = precision(target, y_pred)\n",
        "        if prec > best_precision:\n",
        "            best_precision = prec\n",
        "            best_threshold = threshold\n",
        "    return best_threshold.item(), best_precision, recall(target, 1 * (pred_prob > best_threshold))"
      ]
    },
    {
      "cell_type": "code",
      "execution_count": null,
      "metadata": {},
      "outputs": [],
      "source": [
        "get_threshold(*get_predict(titles_model, titles_val_ds))"
      ]
    },
    {
      "cell_type": "code",
      "execution_count": null,
      "metadata": {},
      "outputs": [],
      "source": [
        "get_threshold(*get_predict(snippets_model, snippets_val_ds))"
      ]
    },
    {
      "cell_type": "markdown",
      "metadata": {},
      "source": [
        "Интересно, модель без снипетов оказалась немного лучше."
      ]
    },
    {
      "cell_type": "markdown",
      "metadata": {
        "id": "o-QRc-UXM_zl"
      },
      "source": [
        "__[0.2 балла] Задание 6:__  Постройте прогнозы для отложенной выборки, которая представляет из себя пересечение сайта РИА-новостей и ВКонтакте. Проседает ли на ней качество модели? Насколько сильно?"
      ]
    },
    {
      "cell_type": "code",
      "execution_count": null,
      "metadata": {
        "colab": {
          "base_uri": "https://localhost:8080/",
          "height": 206
        },
        "id": "3Tc02SgLM_zl",
        "outputId": "5525c33a-b896-47bb-f9d5-9fb9c87f06f7"
      },
      "outputs": [],
      "source": [
        "df_oob.head()"
      ]
    },
    {
      "cell_type": "code",
      "execution_count": null,
      "metadata": {
        "id": "1Z5AvLtcM_zl"
      },
      "outputs": [],
      "source": [
        "get_threshold(*get_predict(titles_model, titles_oob_ds))"
      ]
    },
    {
      "cell_type": "code",
      "execution_count": null,
      "metadata": {},
      "outputs": [],
      "source": [
        "get_threshold(*get_predict(snippets_model, snippets_oob_ds))"
      ]
    },
    {
      "cell_type": "markdown",
      "metadata": {},
      "source": [
        "Проседает, причем достаточно заметно."
      ]
    },
    {
      "cell_type": "markdown",
      "metadata": {
        "id": "EmFzWAHtM_zl"
      },
      "source": [
        "### [NOT DONE] 1.6 Бонусное задание "
      ]
    },
    {
      "cell_type": "markdown",
      "metadata": {},
      "source": [
        "Давайте модернизируем наши архитектуры настолько, насколько это возможно.\n",
        "\n",
        "__[0.5 балла]__ Попробуйте собрать более большую архитектуру. Например, сразу после слоя эмбеддингов вы можете попробовать добавить свёрточные слои (`Conv1D` свёртки). Поиграйте с оптимизатором и тп.\n",
        "\n",
        "Опишите результаты своих экспериментов ниже. Расскажите, что конкретно вы делали и удалось ли вам улучшить качество модели. Все траектории обучения залоггируйте на WandB.  "
      ]
    },
    {
      "cell_type": "markdown",
      "metadata": {
        "id": "obvk588CM_zl"
      },
      "source": [
        "__Ваш лог экспериментов:__\n",
        "\n",
        "-\n",
        "-\n",
        "-"
      ]
    },
    {
      "cell_type": "code",
      "execution_count": null,
      "metadata": {
        "id": "mII3wWHOM_zl"
      },
      "outputs": [],
      "source": [
        "# your code here\n",
        "# (⊙_⊙)"
      ]
    },
    {
      "cell_type": "markdown",
      "metadata": {
        "id": "7kMKmn72M_zl"
      },
      "source": [
        "__[0.5]__ Скачайте с сайта [Rusvectores](https://rusvectores.org/ru/models/) любые новостные word2vec эмбединги. Возьмите из модели эмбеддинги для всех слов, которые встречаются вв вашем словаре и добавьте их в модель первым слоем. Заморозьте этот слой и не обновляйте в нём веса. Если у вас в словаре есть слово, но его нет среди предобученных эмбеддингов, замените его на токен `#UNKN`."
      ]
    },
    {
      "cell_type": "markdown",
      "metadata": {
        "id": "k9ldlZ5gM_zl"
      },
      "source": [
        "__Ваш лог экспериментов:__\n",
        "\n",
        "-\n",
        "-\n",
        "-"
      ]
    },
    {
      "cell_type": "code",
      "execution_count": null,
      "metadata": {
        "id": "XoIlDPe0M_zl"
      },
      "outputs": [],
      "source": [
        "# your code here\n",
        "# =^･ｪ･^="
      ]
    },
    {
      "cell_type": "markdown",
      "metadata": {
        "id": "w8ziz2ATM_zl"
      },
      "source": [
        "__[1 балл]__ Зафайнтьюньте трансформер для решения задачи с помощью библиотеки `hugging face`. Выбор предобученной модели кратко обоснуйте."
      ]
    },
    {
      "cell_type": "markdown",
      "metadata": {
        "id": "GoVv-AS4M_zl"
      },
      "source": [
        "__Ваш лог экспериментов:__\n",
        "\n",
        "-\n",
        "-\n",
        "-"
      ]
    },
    {
      "cell_type": "code",
      "execution_count": null,
      "metadata": {
        "id": "Dg02xRLrM_zl"
      },
      "outputs": [],
      "source": [
        "# your code here\n",
        "# ٩(ˊ〇ˋ*)و\n"
      ]
    },
    {
      "cell_type": "markdown",
      "metadata": {
        "id": "vt8mcUllUmM8"
      },
      "source": [
        "Сравните все обученные модели между собой на тестовой выборке."
      ]
    },
    {
      "cell_type": "code",
      "execution_count": null,
      "metadata": {
        "id": "Kq-sVD7HUkz3"
      },
      "outputs": [],
      "source": [
        "# your code here\n",
        "# (⌐■_■)"
      ]
    },
    {
      "cell_type": "markdown",
      "metadata": {
        "id": "SoCALHfJM_zm"
      },
      "source": [
        "## Часть 2: предсказание категорий (0.3 балла)\n",
        "\n",
        "Возьмите датасет `df_vk` и для всех новостей из него предскажите категории с помощью лучшей, получившейся у вас модели."
      ]
    },
    {
      "cell_type": "code",
      "execution_count": null,
      "metadata": {
        "id": "99fmOzZUM_zm"
      },
      "outputs": [],
      "source": [
        "df_vk['target_tags'] = [[0]]*df_vk.shape[0]\n",
        "\n",
        "# your code here\n",
        "# (っ˘ڡ˘ς)"
      ]
    },
    {
      "cell_type": "markdown",
      "metadata": {
        "id": "qpw07S0UM_zm"
      },
      "source": [
        "На всякий случай сохраните табличку с получившимися у вас предсказаниями. Мало ли, вы не доделаете последнее задание, а потом захотите вернуться к нему. Не прогонять же обучение нейросети и инференс по второму кругу..."
      ]
    },
    {
      "cell_type": "code",
      "execution_count": null,
      "metadata": {
        "id": "alIF9U2tM_zm"
      },
      "outputs": [],
      "source": [
        "# Ваш код с сохранением данных\n",
        "\n",
        "# your code here\n",
        "# ¯\\_(ツ)_/¯"
      ]
    },
    {
      "cell_type": "markdown",
      "metadata": {
        "id": "H_jo72yzM_zm"
      },
      "source": [
        "## Часть 3: сентимент-классификатор (0.5 балла)"
      ]
    },
    {
      "cell_type": "markdown",
      "metadata": {
        "id": "uI33vB5bM_zm"
      },
      "source": [
        "В этой части тетрадки нам предстоит прогнать все комментарии из ВК через сентимент-классификатор. Мы будем делать это с помощью библиотеки HuggingFace. В ней есть удобная [функциональность pipline,](https://huggingface.co/docs/transformers/pipeline_tutorial) чтобы прогонять на своих данных уже обученные модели. 🤗🤗🤗"
      ]
    },
    {
      "cell_type": "code",
      "execution_count": null,
      "metadata": {
        "id": "4VEwMUYxM_zm",
        "outputId": "09157c72-c06e-426b-b1a4-bd6794f849d3"
      },
      "outputs": [],
      "source": [
        "df_comments.head()"
      ]
    },
    {
      "cell_type": "markdown",
      "metadata": {
        "id": "3gVL29D3M_zm"
      },
      "source": [
        "Для классификации комментариев на позитивные, негативные и нейтральные будем использовать [модель, о которой можно почитать по ссылке](https://huggingface.co/seara/rubert-tiny2-russian-sentiment)\n",
        "\n",
        "Ответьте на следующие вопросы:\n",
        "\n",
        "1. Как зовут автора модели?\n",
        "2. Как выглядит архитектура модели? Насколько модель большая?\n",
        "3. На каких данных обучена модель? Адекватно ли использовать её для классификации комментариев ВК?"
      ]
    },
    {
      "cell_type": "markdown",
      "metadata": {
        "id": "hedd3_EAM_zm"
      },
      "source": [
        "Установим библиотеку. 🤗🤗🤗"
      ]
    },
    {
      "cell_type": "code",
      "execution_count": null,
      "metadata": {
        "id": "-ZCfZ0ZfM_zm"
      },
      "outputs": [],
      "source": [
        "!pip3 install transformers"
      ]
    },
    {
      "cell_type": "markdown",
      "metadata": {
        "id": "4cDtjMFaM_zm"
      },
      "source": [
        "Разберитесь как можно прогнать модель на корпусе комментариев и сделайте это. Да, с помощью pipeline можно запустить довольно сложные модели, обученные другими людьми в пару строчек. При объявлении модели не забудьте положить её на нужный `device` 🤗🤗🤗"
      ]
    },
    {
      "cell_type": "code",
      "execution_count": null,
      "metadata": {
        "id": "sEfhf12pM_zm",
        "outputId": "d718568b-38bb-4a26-c8e6-e61c96088c87"
      },
      "outputs": [],
      "source": [
        "# your code here\n",
        "# ʕ•ᴥ•ʔ"
      ]
    },
    {
      "cell_type": "markdown",
      "metadata": {
        "id": "5XmrUVvhM_zm"
      },
      "source": [
        "Цикл для сентимент-анализа комментариев может работать довольно долго. Я крайне рекомендую вам переодически сохранять к себе на компьютер промежуточные результаты. Итоговый результат я рекомендую записать отдельным столбиком в таблицу с комментариями, а затем сохранить полученные результаты. 🤗🤗🤗"
      ]
    },
    {
      "cell_type": "code",
      "execution_count": null,
      "metadata": {
        "id": "jYpqlGahM_zm"
      },
      "outputs": [],
      "source": [
        "df_vk['sentiment_verdict'] = ...\n",
        "df_vk['sentiment_score'] = ...\n",
        "\n",
        "# <ваш код для сохранения данных>\n",
        "\n",
        "# your code here\n",
        "# ¯\\_(ツ)_/¯\n",
        "\n",
        "# P.S. Код для скоринга комментариев работает довольно долго. Первый, кто проскорит всю базу, может поделиться ей в общем чате с однокурсниками\n",
        "# Если вы используете эту базу, просто продемонстрируйте при решении этого пункта, что ваш код работает"
      ]
    },
    {
      "cell_type": "markdown",
      "metadata": {
        "id": "smRVE1hVM_zn"
      },
      "source": [
        "## Часть 4: аналитика (1 балл + 0.2 бонусных)\n",
        "\n",
        "Мы с вами огромные молодцы. Мы обучили модель для категоризации новостей, построили с её помощью прогнозы. Мы проскорили комментарии на их сентимент-окрас. Теперь давайте проанализируем новости. Описывайте полученные результаты таким образом, чтобы не получить уголовку на 5 лет за дискредитацию чего-нибудь или оскорбление чувств кого-нибудь 💜"
      ]
    },
    {
      "cell_type": "markdown",
      "metadata": {
        "id": "7z-jdjgeM_zn"
      },
      "source": [
        "__[0.2 балла]__ Какая доля комментариев позитивная? Какая доля комментариев негативная? Выведите 10 самых позитивных комментариев.\n",
        "\n",
        "Выведите 10 самых негативных комментариев, поугарайте с них. Удалите их вывод из тетрадки. Никто не должен их видеть, это должно остаться только между нами. Поззитивные не удаляйте. Они пусть останутся."
      ]
    },
    {
      "cell_type": "code",
      "execution_count": null,
      "metadata": {
        "id": "EqOwlAusM_zn"
      },
      "outputs": [],
      "source": [
        "# your code here\n",
        "# ʕ•ᴥ•ʔ"
      ]
    },
    {
      "cell_type": "markdown",
      "metadata": {
        "id": "SGfBQto1M_zn"
      },
      "source": [
        "__[0.2 балла]__ Для каждой новости из датасета посчитайте количество негативных и позитивных комментариев под ней. Сохраните эти количества в виде новых колонок."
      ]
    },
    {
      "cell_type": "code",
      "execution_count": null,
      "metadata": {
        "id": "WNySt0w7M_zn"
      },
      "outputs": [],
      "source": [
        "# your code here\n",
        "# [✖‿✖]"
      ]
    },
    {
      "cell_type": "markdown",
      "metadata": {
        "id": "jBOzB5yBM_zn"
      },
      "source": [
        "__[0.2 балл]__ Правда ли, что новости с большим количеством лайков получают больше негативных комментариев? А позитивных? Правда ли, что чем больше лайков, тем под новостью больше комментариев?\n",
        "\n",
        "Постройте визуализацию, которая могла бы это проиллюстрировать."
      ]
    },
    {
      "cell_type": "code",
      "execution_count": null,
      "metadata": {
        "id": "UjI74lt5M_zn"
      },
      "outputs": [],
      "source": [
        "# your code here\n",
        "# ┌(ಠ_ಠ)┘"
      ]
    },
    {
      "cell_type": "markdown",
      "metadata": {
        "id": "3wN5AFrAM_zn"
      },
      "source": [
        "__[0.2]__  Давайте построим по сентимент-окрасу комментариев топ позитивных новостей.\n",
        "\n",
        "- Если под новостью оставлено 100 комментариев, из которых 80 позитивные, мы можем быть уверены в том, что новость была хорошо воспринята людьми.\n",
        "- Если под новостью всего один комментарий и он оказался позитивным, то у нас 100% позитивных комментариев, но это вовсе не означает, что новость была воспринята хорошо.\n",
        "\n",
        "Получается, что сортировать по доле позитивных комментариев нельзя. Давайте поступим умнее. Доля позитивных комментариев под постом -- это случайная величина. Её довольно часто моделируют с помощью бета-распределения. Если это случайная величина, мы можем построить для неё предиктивный интервал. Пусть $u$ - число позитивных комментариев, а $d$ - нейтральных и негативных.  Пусть\n",
        "\n",
        "$$\n",
        "a = 1 + u \\qquad b = 1 + d.\n",
        "$$\n",
        "\n",
        "Тогда нижняя граница $95\\%$ предиктивного интервала для доли будет вычисляться по такой формуле:\n",
        "\n",
        "$$\n",
        "\\frac{a}{a + b} - 1.65 \\cdot \\sqrt{\\frac{a \\cdot b}{(a + b)^2 \\cdot (a + b + 1)}}\n",
        "$$\n",
        "\n",
        "Если под новостью был всего один комментарий, у такой случайной величины будет высокая дисперсия. Это означаen, что штука, которую мы вычитаем из доли, окажется высокой. Левая граница интервала окажется маленькой и мы не поднимем комментарий в нашем топе наверх. Фактически мы делаем сортировку по квантилю уровня $0.05$ вместо среднего.\n",
        "\n",
        "От вас требуется вбить эту формулу, сделать сортировку и вывести на экран топ позитивных новостей. Подробнее про то, откуда берётся эта формула можно почитать [в этой книге.](https://disk.yandex.ru/i/Ctd08bTwC9eI3g) Ищите 4 главу, страницу 140."
      ]
    },
    {
      "cell_type": "code",
      "execution_count": null,
      "metadata": {
        "id": "ToygzCZwM_zn"
      },
      "outputs": [],
      "source": [
        "# your code here\n",
        "# ฅ^•ﻌ•^ฅ"
      ]
    },
    {
      "cell_type": "markdown",
      "metadata": {
        "id": "8CuDk6kbM_zn"
      },
      "source": [
        "Построили? Срочно пришлите свою любимую позитивную  новость в общий чат!!!\n",
        "\n",
        "Топ негативных новостей строить не будем. Вокруг итак слишком много негатива 😻😻😻"
      ]
    },
    {
      "cell_type": "markdown",
      "metadata": {
        "id": "Gg_wCzsBM_zn"
      },
      "source": [
        "__[0.2]__ Какие категории новостей оказались самыми позитивными? Придумайте способ найти такие категории и опишите его тут.\n",
        "\n",
        "__Ответ:__"
      ]
    },
    {
      "cell_type": "code",
      "execution_count": null,
      "metadata": {
        "id": "SNEWqGVpM_zn"
      },
      "outputs": [],
      "source": [
        "# your code here\n",
        "# ٩(⁎❛ᴗ❛⁎)۶"
      ]
    },
    {
      "cell_type": "markdown",
      "metadata": {
        "id": "gDFw6uQeM_zn"
      },
      "source": [
        "__[0.2 бонусных]__ Проанализируйте, как температура комментария (вероятность того, что он негативный) зависит от длины трэда (число комментариев под новостью)? Значима ли эта взаимосвязь? Если вам для проверки этого хочется построить линейную регрессию, не сдерживайтесь."
      ]
    },
    {
      "cell_type": "code",
      "execution_count": null,
      "metadata": {
        "id": "usdYfPV0M_zn"
      },
      "outputs": [],
      "source": [
        "# your code here\n",
        "# ヾ(๑╹◡╹)ﾉ"
      ]
    }
  ],
  "metadata": {
    "accelerator": "GPU",
    "colab": {
      "gpuType": "T4",
      "provenance": []
    },
    "kernelspec": {
      "display_name": "Python 3",
      "name": "python3"
    },
    "language_info": {
      "codemirror_mode": {
        "name": "ipython",
        "version": 3
      },
      "file_extension": ".py",
      "mimetype": "text/x-python",
      "name": "python",
      "nbconvert_exporter": "python",
      "pygments_lexer": "ipython3",
      "version": "3.10.11"
    },
    "widgets": {
      "application/vnd.jupyter.widget-state+json": {
        "0029cbbc48c64effb57bffff5d199e34": {
          "model_module": "@jupyter-widgets/controls",
          "model_module_version": "1.5.0",
          "model_name": "HTMLModel",
          "state": {
            "_dom_classes": [],
            "_model_module": "@jupyter-widgets/controls",
            "_model_module_version": "1.5.0",
            "_model_name": "HTMLModel",
            "_view_count": null,
            "_view_module": "@jupyter-widgets/controls",
            "_view_module_version": "1.5.0",
            "_view_name": "HTMLView",
            "description": "",
            "description_tooltip": null,
            "layout": "IPY_MODEL_0140e6c8951147b6a7e079682e938e7f",
            "placeholder": "​",
            "style": "IPY_MODEL_534e121744814f4d8880072004513e37",
            "value": " 11/11 [00:00&lt;00:00, 19.45it/s]"
          }
        },
        "0140e6c8951147b6a7e079682e938e7f": {
          "model_module": "@jupyter-widgets/base",
          "model_module_version": "1.2.0",
          "model_name": "LayoutModel",
          "state": {
            "_model_module": "@jupyter-widgets/base",
            "_model_module_version": "1.2.0",
            "_model_name": "LayoutModel",
            "_view_count": null,
            "_view_module": "@jupyter-widgets/base",
            "_view_module_version": "1.2.0",
            "_view_name": "LayoutView",
            "align_content": null,
            "align_items": null,
            "align_self": null,
            "border": null,
            "bottom": null,
            "display": null,
            "flex": null,
            "flex_flow": null,
            "grid_area": null,
            "grid_auto_columns": null,
            "grid_auto_flow": null,
            "grid_auto_rows": null,
            "grid_column": null,
            "grid_gap": null,
            "grid_row": null,
            "grid_template_areas": null,
            "grid_template_columns": null,
            "grid_template_rows": null,
            "height": null,
            "justify_content": null,
            "justify_items": null,
            "left": null,
            "margin": null,
            "max_height": null,
            "max_width": null,
            "min_height": null,
            "min_width": null,
            "object_fit": null,
            "object_position": null,
            "order": null,
            "overflow": null,
            "overflow_x": null,
            "overflow_y": null,
            "padding": null,
            "right": null,
            "top": null,
            "visibility": null,
            "width": null
          }
        },
        "09093bb710bd4903abf2e10db6efc0a0": {
          "model_module": "@jupyter-widgets/controls",
          "model_module_version": "1.5.0",
          "model_name": "HTMLModel",
          "state": {
            "_dom_classes": [],
            "_model_module": "@jupyter-widgets/controls",
            "_model_module_version": "1.5.0",
            "_model_name": "HTMLModel",
            "_view_count": null,
            "_view_module": "@jupyter-widgets/controls",
            "_view_module_version": "1.5.0",
            "_view_name": "HTMLView",
            "description": "",
            "description_tooltip": null,
            "layout": "IPY_MODEL_8fc5cc9d0df74d5081fa3f8c89595daf",
            "placeholder": "​",
            "style": "IPY_MODEL_0cbe638b1d354bea83ccba54ee3d1f5c",
            "value": " 11/11 [00:00&lt;00:00, 32.16it/s]"
          }
        },
        "0a54156fabcd4ef3b73b038b71485a6a": {
          "model_module": "@jupyter-widgets/controls",
          "model_module_version": "1.5.0",
          "model_name": "DescriptionStyleModel",
          "state": {
            "_model_module": "@jupyter-widgets/controls",
            "_model_module_version": "1.5.0",
            "_model_name": "DescriptionStyleModel",
            "_view_count": null,
            "_view_module": "@jupyter-widgets/base",
            "_view_module_version": "1.2.0",
            "_view_name": "StyleView",
            "description_width": ""
          }
        },
        "0cbe638b1d354bea83ccba54ee3d1f5c": {
          "model_module": "@jupyter-widgets/controls",
          "model_module_version": "1.5.0",
          "model_name": "DescriptionStyleModel",
          "state": {
            "_model_module": "@jupyter-widgets/controls",
            "_model_module_version": "1.5.0",
            "_model_name": "DescriptionStyleModel",
            "_view_count": null,
            "_view_module": "@jupyter-widgets/base",
            "_view_module_version": "1.2.0",
            "_view_name": "StyleView",
            "description_width": ""
          }
        },
        "100219bd594645c5b60c3da4a44344fe": {
          "model_module": "@jupyter-widgets/controls",
          "model_module_version": "1.5.0",
          "model_name": "DescriptionStyleModel",
          "state": {
            "_model_module": "@jupyter-widgets/controls",
            "_model_module_version": "1.5.0",
            "_model_name": "DescriptionStyleModel",
            "_view_count": null,
            "_view_module": "@jupyter-widgets/base",
            "_view_module_version": "1.2.0",
            "_view_name": "StyleView",
            "description_width": ""
          }
        },
        "13a1fd50c8f24f12a0f28485b6168606": {
          "model_module": "@jupyter-widgets/controls",
          "model_module_version": "1.5.0",
          "model_name": "DescriptionStyleModel",
          "state": {
            "_model_module": "@jupyter-widgets/controls",
            "_model_module_version": "1.5.0",
            "_model_name": "DescriptionStyleModel",
            "_view_count": null,
            "_view_module": "@jupyter-widgets/base",
            "_view_module_version": "1.2.0",
            "_view_name": "StyleView",
            "description_width": ""
          }
        },
        "17d8af2b171440cba00f8b2df1a08073": {
          "model_module": "@jupyter-widgets/controls",
          "model_module_version": "1.5.0",
          "model_name": "HTMLModel",
          "state": {
            "_dom_classes": [],
            "_model_module": "@jupyter-widgets/controls",
            "_model_module_version": "1.5.0",
            "_model_name": "HTMLModel",
            "_view_count": null,
            "_view_module": "@jupyter-widgets/controls",
            "_view_module_version": "1.5.0",
            "_view_name": "HTMLView",
            "description": "",
            "description_tooltip": null,
            "layout": "IPY_MODEL_201a41be363549eaa0fdc903fb41f83e",
            "placeholder": "​",
            "style": "IPY_MODEL_60c4aa6c4c8145949cd16ec0670227a1",
            "value": "Validation DataLoader 0: 100%"
          }
        },
        "17e62da8657f44d9a998f4acbbd29671": {
          "model_module": "@jupyter-widgets/base",
          "model_module_version": "1.2.0",
          "model_name": "LayoutModel",
          "state": {
            "_model_module": "@jupyter-widgets/base",
            "_model_module_version": "1.2.0",
            "_model_name": "LayoutModel",
            "_view_count": null,
            "_view_module": "@jupyter-widgets/base",
            "_view_module_version": "1.2.0",
            "_view_name": "LayoutView",
            "align_content": null,
            "align_items": null,
            "align_self": null,
            "border": null,
            "bottom": null,
            "display": null,
            "flex": null,
            "flex_flow": null,
            "grid_area": null,
            "grid_auto_columns": null,
            "grid_auto_flow": null,
            "grid_auto_rows": null,
            "grid_column": null,
            "grid_gap": null,
            "grid_row": null,
            "grid_template_areas": null,
            "grid_template_columns": null,
            "grid_template_rows": null,
            "height": null,
            "justify_content": null,
            "justify_items": null,
            "left": null,
            "margin": null,
            "max_height": null,
            "max_width": null,
            "min_height": null,
            "min_width": null,
            "object_fit": null,
            "object_position": null,
            "order": null,
            "overflow": null,
            "overflow_x": null,
            "overflow_y": null,
            "padding": null,
            "right": null,
            "top": null,
            "visibility": null,
            "width": null
          }
        },
        "1ae57433e573436b8bbdf6c22630930d": {
          "model_module": "@jupyter-widgets/controls",
          "model_module_version": "1.5.0",
          "model_name": "HTMLModel",
          "state": {
            "_dom_classes": [],
            "_model_module": "@jupyter-widgets/controls",
            "_model_module_version": "1.5.0",
            "_model_name": "HTMLModel",
            "_view_count": null,
            "_view_module": "@jupyter-widgets/controls",
            "_view_module_version": "1.5.0",
            "_view_name": "HTMLView",
            "description": "",
            "description_tooltip": null,
            "layout": "IPY_MODEL_5d422f8cbd47402bb8f28b258e5abed0",
            "placeholder": "​",
            "style": "IPY_MODEL_80d177b53a5f4fe0a733d3b7d36e9b30",
            "value": "Validation DataLoader 0: 100%"
          }
        },
        "1ae6951f8b984b318210df9d009479d8": {
          "model_module": "@jupyter-widgets/controls",
          "model_module_version": "1.5.0",
          "model_name": "HBoxModel",
          "state": {
            "_dom_classes": [],
            "_model_module": "@jupyter-widgets/controls",
            "_model_module_version": "1.5.0",
            "_model_name": "HBoxModel",
            "_view_count": null,
            "_view_module": "@jupyter-widgets/controls",
            "_view_module_version": "1.5.0",
            "_view_name": "HBoxView",
            "box_style": "",
            "children": [
              "IPY_MODEL_d9456651273140f9bd6e587ab852eeec",
              "IPY_MODEL_b174cb3407a04b2989e6049555265446",
              "IPY_MODEL_7bd174d7cd2346be9db9d5a0a170f8cb"
            ],
            "layout": "IPY_MODEL_3ada921ee7644de997b57ffd2c57044d"
          }
        },
        "1c10405770654b90a3635ba4acabb6ef": {
          "model_module": "@jupyter-widgets/controls",
          "model_module_version": "1.5.0",
          "model_name": "ProgressStyleModel",
          "state": {
            "_model_module": "@jupyter-widgets/controls",
            "_model_module_version": "1.5.0",
            "_model_name": "ProgressStyleModel",
            "_view_count": null,
            "_view_module": "@jupyter-widgets/base",
            "_view_module_version": "1.2.0",
            "_view_name": "StyleView",
            "bar_color": null,
            "description_width": ""
          }
        },
        "201a41be363549eaa0fdc903fb41f83e": {
          "model_module": "@jupyter-widgets/base",
          "model_module_version": "1.2.0",
          "model_name": "LayoutModel",
          "state": {
            "_model_module": "@jupyter-widgets/base",
            "_model_module_version": "1.2.0",
            "_model_name": "LayoutModel",
            "_view_count": null,
            "_view_module": "@jupyter-widgets/base",
            "_view_module_version": "1.2.0",
            "_view_name": "LayoutView",
            "align_content": null,
            "align_items": null,
            "align_self": null,
            "border": null,
            "bottom": null,
            "display": null,
            "flex": null,
            "flex_flow": null,
            "grid_area": null,
            "grid_auto_columns": null,
            "grid_auto_flow": null,
            "grid_auto_rows": null,
            "grid_column": null,
            "grid_gap": null,
            "grid_row": null,
            "grid_template_areas": null,
            "grid_template_columns": null,
            "grid_template_rows": null,
            "height": null,
            "justify_content": null,
            "justify_items": null,
            "left": null,
            "margin": null,
            "max_height": null,
            "max_width": null,
            "min_height": null,
            "min_width": null,
            "object_fit": null,
            "object_position": null,
            "order": null,
            "overflow": null,
            "overflow_x": null,
            "overflow_y": null,
            "padding": null,
            "right": null,
            "top": null,
            "visibility": null,
            "width": null
          }
        },
        "286fbf1303dc4f0b9c1bb3cfb34f920e": {
          "model_module": "@jupyter-widgets/controls",
          "model_module_version": "1.5.0",
          "model_name": "ProgressStyleModel",
          "state": {
            "_model_module": "@jupyter-widgets/controls",
            "_model_module_version": "1.5.0",
            "_model_name": "ProgressStyleModel",
            "_view_count": null,
            "_view_module": "@jupyter-widgets/base",
            "_view_module_version": "1.2.0",
            "_view_name": "StyleView",
            "bar_color": null,
            "description_width": ""
          }
        },
        "2a38ec8f52d74e018a4c1876d3a2f874": {
          "model_module": "@jupyter-widgets/controls",
          "model_module_version": "1.5.0",
          "model_name": "HBoxModel",
          "state": {
            "_dom_classes": [],
            "_model_module": "@jupyter-widgets/controls",
            "_model_module_version": "1.5.0",
            "_model_name": "HBoxModel",
            "_view_count": null,
            "_view_module": "@jupyter-widgets/controls",
            "_view_module_version": "1.5.0",
            "_view_name": "HBoxView",
            "box_style": "",
            "children": [
              "IPY_MODEL_fd22c38d837a404ab892ddaddf4a8988",
              "IPY_MODEL_a474d8d377674579b3c9f5327fbb1862",
              "IPY_MODEL_0029cbbc48c64effb57bffff5d199e34"
            ],
            "layout": "IPY_MODEL_e9d2f22400db472283508e8c01f08fbb"
          }
        },
        "2aa0bc933aae46729672d55e60c17616": {
          "model_module": "@jupyter-widgets/controls",
          "model_module_version": "1.5.0",
          "model_name": "FloatProgressModel",
          "state": {
            "_dom_classes": [],
            "_model_module": "@jupyter-widgets/controls",
            "_model_module_version": "1.5.0",
            "_model_name": "FloatProgressModel",
            "_view_count": null,
            "_view_module": "@jupyter-widgets/controls",
            "_view_module_version": "1.5.0",
            "_view_name": "ProgressView",
            "bar_style": "",
            "description": "",
            "description_tooltip": null,
            "layout": "IPY_MODEL_546d1deb5c934916b722fb9ab0ce5e67",
            "max": 11,
            "min": 0,
            "orientation": "horizontal",
            "style": "IPY_MODEL_86ed101f86384b9b92eb3faccae5bca2",
            "value": 11
          }
        },
        "2cb3f56ff669424da4e9bace352831b8": {
          "model_module": "@jupyter-widgets/base",
          "model_module_version": "1.2.0",
          "model_name": "LayoutModel",
          "state": {
            "_model_module": "@jupyter-widgets/base",
            "_model_module_version": "1.2.0",
            "_model_name": "LayoutModel",
            "_view_count": null,
            "_view_module": "@jupyter-widgets/base",
            "_view_module_version": "1.2.0",
            "_view_name": "LayoutView",
            "align_content": null,
            "align_items": null,
            "align_self": null,
            "border": null,
            "bottom": null,
            "display": "inline-flex",
            "flex": null,
            "flex_flow": "row wrap",
            "grid_area": null,
            "grid_auto_columns": null,
            "grid_auto_flow": null,
            "grid_auto_rows": null,
            "grid_column": null,
            "grid_gap": null,
            "grid_row": null,
            "grid_template_areas": null,
            "grid_template_columns": null,
            "grid_template_rows": null,
            "height": null,
            "justify_content": null,
            "justify_items": null,
            "left": null,
            "margin": null,
            "max_height": null,
            "max_width": null,
            "min_height": null,
            "min_width": null,
            "object_fit": null,
            "object_position": null,
            "order": null,
            "overflow": null,
            "overflow_x": null,
            "overflow_y": null,
            "padding": null,
            "right": null,
            "top": null,
            "visibility": "hidden",
            "width": "100%"
          }
        },
        "2d71626a24cb45f39095e7e3fd621707": {
          "model_module": "@jupyter-widgets/controls",
          "model_module_version": "1.5.0",
          "model_name": "HTMLModel",
          "state": {
            "_dom_classes": [],
            "_model_module": "@jupyter-widgets/controls",
            "_model_module_version": "1.5.0",
            "_model_name": "HTMLModel",
            "_view_count": null,
            "_view_module": "@jupyter-widgets/controls",
            "_view_module_version": "1.5.0",
            "_view_name": "HTMLView",
            "description": "",
            "description_tooltip": null,
            "layout": "IPY_MODEL_6fa8591a1a834d8785b1ebe8eff2b10d",
            "placeholder": "​",
            "style": "IPY_MODEL_acfec13aec454320b585c0b8331e9448",
            "value": " 2/2 [00:00&lt;00:00, 14.02it/s]"
          }
        },
        "2d98065fccb34cb1b44740aa4510f0e7": {
          "model_module": "@jupyter-widgets/controls",
          "model_module_version": "1.5.0",
          "model_name": "HTMLModel",
          "state": {
            "_dom_classes": [],
            "_model_module": "@jupyter-widgets/controls",
            "_model_module_version": "1.5.0",
            "_model_name": "HTMLModel",
            "_view_count": null,
            "_view_module": "@jupyter-widgets/controls",
            "_view_module_version": "1.5.0",
            "_view_name": "HTMLView",
            "description": "",
            "description_tooltip": null,
            "layout": "IPY_MODEL_6072601881c341fb8e5329fab05ee52d",
            "placeholder": "​",
            "style": "IPY_MODEL_13a1fd50c8f24f12a0f28485b6168606",
            "value": "Validation DataLoader 0: 100%"
          }
        },
        "2da5b84f9384445a8d9db58ef3dafa5e": {
          "model_module": "@jupyter-widgets/base",
          "model_module_version": "1.2.0",
          "model_name": "LayoutModel",
          "state": {
            "_model_module": "@jupyter-widgets/base",
            "_model_module_version": "1.2.0",
            "_model_name": "LayoutModel",
            "_view_count": null,
            "_view_module": "@jupyter-widgets/base",
            "_view_module_version": "1.2.0",
            "_view_name": "LayoutView",
            "align_content": null,
            "align_items": null,
            "align_self": null,
            "border": null,
            "bottom": null,
            "display": null,
            "flex": null,
            "flex_flow": null,
            "grid_area": null,
            "grid_auto_columns": null,
            "grid_auto_flow": null,
            "grid_auto_rows": null,
            "grid_column": null,
            "grid_gap": null,
            "grid_row": null,
            "grid_template_areas": null,
            "grid_template_columns": null,
            "grid_template_rows": null,
            "height": null,
            "justify_content": null,
            "justify_items": null,
            "left": null,
            "margin": null,
            "max_height": null,
            "max_width": null,
            "min_height": null,
            "min_width": null,
            "object_fit": null,
            "object_position": null,
            "order": null,
            "overflow": null,
            "overflow_x": null,
            "overflow_y": null,
            "padding": null,
            "right": null,
            "top": null,
            "visibility": null,
            "width": null
          }
        },
        "2e02be5bf0be40bf87f1364b1fd587ec": {
          "model_module": "@jupyter-widgets/base",
          "model_module_version": "1.2.0",
          "model_name": "LayoutModel",
          "state": {
            "_model_module": "@jupyter-widgets/base",
            "_model_module_version": "1.2.0",
            "_model_name": "LayoutModel",
            "_view_count": null,
            "_view_module": "@jupyter-widgets/base",
            "_view_module_version": "1.2.0",
            "_view_name": "LayoutView",
            "align_content": null,
            "align_items": null,
            "align_self": null,
            "border": null,
            "bottom": null,
            "display": null,
            "flex": "2",
            "flex_flow": null,
            "grid_area": null,
            "grid_auto_columns": null,
            "grid_auto_flow": null,
            "grid_auto_rows": null,
            "grid_column": null,
            "grid_gap": null,
            "grid_row": null,
            "grid_template_areas": null,
            "grid_template_columns": null,
            "grid_template_rows": null,
            "height": null,
            "justify_content": null,
            "justify_items": null,
            "left": null,
            "margin": null,
            "max_height": null,
            "max_width": null,
            "min_height": null,
            "min_width": null,
            "object_fit": null,
            "object_position": null,
            "order": null,
            "overflow": null,
            "overflow_x": null,
            "overflow_y": null,
            "padding": null,
            "right": null,
            "top": null,
            "visibility": null,
            "width": null
          }
        },
        "2f4dcf310c634bdba125e8bf46d3db26": {
          "model_module": "@jupyter-widgets/base",
          "model_module_version": "1.2.0",
          "model_name": "LayoutModel",
          "state": {
            "_model_module": "@jupyter-widgets/base",
            "_model_module_version": "1.2.0",
            "_model_name": "LayoutModel",
            "_view_count": null,
            "_view_module": "@jupyter-widgets/base",
            "_view_module_version": "1.2.0",
            "_view_name": "LayoutView",
            "align_content": null,
            "align_items": null,
            "align_self": null,
            "border": null,
            "bottom": null,
            "display": "inline-flex",
            "flex": null,
            "flex_flow": "row wrap",
            "grid_area": null,
            "grid_auto_columns": null,
            "grid_auto_flow": null,
            "grid_auto_rows": null,
            "grid_column": null,
            "grid_gap": null,
            "grid_row": null,
            "grid_template_areas": null,
            "grid_template_columns": null,
            "grid_template_rows": null,
            "height": null,
            "justify_content": null,
            "justify_items": null,
            "left": null,
            "margin": null,
            "max_height": null,
            "max_width": null,
            "min_height": null,
            "min_width": null,
            "object_fit": null,
            "object_position": null,
            "order": null,
            "overflow": null,
            "overflow_x": null,
            "overflow_y": null,
            "padding": null,
            "right": null,
            "top": null,
            "visibility": "hidden",
            "width": "100%"
          }
        },
        "3ada921ee7644de997b57ffd2c57044d": {
          "model_module": "@jupyter-widgets/base",
          "model_module_version": "1.2.0",
          "model_name": "LayoutModel",
          "state": {
            "_model_module": "@jupyter-widgets/base",
            "_model_module_version": "1.2.0",
            "_model_name": "LayoutModel",
            "_view_count": null,
            "_view_module": "@jupyter-widgets/base",
            "_view_module_version": "1.2.0",
            "_view_name": "LayoutView",
            "align_content": null,
            "align_items": null,
            "align_self": null,
            "border": null,
            "bottom": null,
            "display": "inline-flex",
            "flex": null,
            "flex_flow": "row wrap",
            "grid_area": null,
            "grid_auto_columns": null,
            "grid_auto_flow": null,
            "grid_auto_rows": null,
            "grid_column": null,
            "grid_gap": null,
            "grid_row": null,
            "grid_template_areas": null,
            "grid_template_columns": null,
            "grid_template_rows": null,
            "height": null,
            "justify_content": null,
            "justify_items": null,
            "left": null,
            "margin": null,
            "max_height": null,
            "max_width": null,
            "min_height": null,
            "min_width": null,
            "object_fit": null,
            "object_position": null,
            "order": null,
            "overflow": null,
            "overflow_x": null,
            "overflow_y": null,
            "padding": null,
            "right": null,
            "top": null,
            "visibility": null,
            "width": "100%"
          }
        },
        "3dc20b49832e46c6ad70dc754f43555f": {
          "model_module": "@jupyter-widgets/base",
          "model_module_version": "1.2.0",
          "model_name": "LayoutModel",
          "state": {
            "_model_module": "@jupyter-widgets/base",
            "_model_module_version": "1.2.0",
            "_model_name": "LayoutModel",
            "_view_count": null,
            "_view_module": "@jupyter-widgets/base",
            "_view_module_version": "1.2.0",
            "_view_name": "LayoutView",
            "align_content": null,
            "align_items": null,
            "align_self": null,
            "border": null,
            "bottom": null,
            "display": null,
            "flex": null,
            "flex_flow": null,
            "grid_area": null,
            "grid_auto_columns": null,
            "grid_auto_flow": null,
            "grid_auto_rows": null,
            "grid_column": null,
            "grid_gap": null,
            "grid_row": null,
            "grid_template_areas": null,
            "grid_template_columns": null,
            "grid_template_rows": null,
            "height": null,
            "justify_content": null,
            "justify_items": null,
            "left": null,
            "margin": null,
            "max_height": null,
            "max_width": null,
            "min_height": null,
            "min_width": null,
            "object_fit": null,
            "object_position": null,
            "order": null,
            "overflow": null,
            "overflow_x": null,
            "overflow_y": null,
            "padding": null,
            "right": null,
            "top": null,
            "visibility": null,
            "width": null
          }
        },
        "3ef009aeabae43b48bc913a592d1a019": {
          "model_module": "@jupyter-widgets/controls",
          "model_module_version": "1.5.0",
          "model_name": "HBoxModel",
          "state": {
            "_dom_classes": [],
            "_model_module": "@jupyter-widgets/controls",
            "_model_module_version": "1.5.0",
            "_model_name": "HBoxModel",
            "_view_count": null,
            "_view_module": "@jupyter-widgets/controls",
            "_view_module_version": "1.5.0",
            "_view_name": "HBoxView",
            "box_style": "",
            "children": [
              "IPY_MODEL_75b99a050a37493389ff96724a9a3b72",
              "IPY_MODEL_78fe9e3a3d614de9a6f3efacde67d247",
              "IPY_MODEL_2d71626a24cb45f39095e7e3fd621707"
            ],
            "layout": "IPY_MODEL_4f75594be29e49cc99fe61a6787e7564"
          }
        },
        "46204f92abf1414da360d79b4ca7a924": {
          "model_module": "@jupyter-widgets/base",
          "model_module_version": "1.2.0",
          "model_name": "LayoutModel",
          "state": {
            "_model_module": "@jupyter-widgets/base",
            "_model_module_version": "1.2.0",
            "_model_name": "LayoutModel",
            "_view_count": null,
            "_view_module": "@jupyter-widgets/base",
            "_view_module_version": "1.2.0",
            "_view_name": "LayoutView",
            "align_content": null,
            "align_items": null,
            "align_self": null,
            "border": null,
            "bottom": null,
            "display": null,
            "flex": null,
            "flex_flow": null,
            "grid_area": null,
            "grid_auto_columns": null,
            "grid_auto_flow": null,
            "grid_auto_rows": null,
            "grid_column": null,
            "grid_gap": null,
            "grid_row": null,
            "grid_template_areas": null,
            "grid_template_columns": null,
            "grid_template_rows": null,
            "height": null,
            "justify_content": null,
            "justify_items": null,
            "left": null,
            "margin": null,
            "max_height": null,
            "max_width": null,
            "min_height": null,
            "min_width": null,
            "object_fit": null,
            "object_position": null,
            "order": null,
            "overflow": null,
            "overflow_x": null,
            "overflow_y": null,
            "padding": null,
            "right": null,
            "top": null,
            "visibility": null,
            "width": null
          }
        },
        "4f75594be29e49cc99fe61a6787e7564": {
          "model_module": "@jupyter-widgets/base",
          "model_module_version": "1.2.0",
          "model_name": "LayoutModel",
          "state": {
            "_model_module": "@jupyter-widgets/base",
            "_model_module_version": "1.2.0",
            "_model_name": "LayoutModel",
            "_view_count": null,
            "_view_module": "@jupyter-widgets/base",
            "_view_module_version": "1.2.0",
            "_view_name": "LayoutView",
            "align_content": null,
            "align_items": null,
            "align_self": null,
            "border": null,
            "bottom": null,
            "display": "inline-flex",
            "flex": null,
            "flex_flow": "row wrap",
            "grid_area": null,
            "grid_auto_columns": null,
            "grid_auto_flow": null,
            "grid_auto_rows": null,
            "grid_column": null,
            "grid_gap": null,
            "grid_row": null,
            "grid_template_areas": null,
            "grid_template_columns": null,
            "grid_template_rows": null,
            "height": null,
            "justify_content": null,
            "justify_items": null,
            "left": null,
            "margin": null,
            "max_height": null,
            "max_width": null,
            "min_height": null,
            "min_width": null,
            "object_fit": null,
            "object_position": null,
            "order": null,
            "overflow": null,
            "overflow_x": null,
            "overflow_y": null,
            "padding": null,
            "right": null,
            "top": null,
            "visibility": "hidden",
            "width": "100%"
          }
        },
        "515318593400421487560182023801f1": {
          "model_module": "@jupyter-widgets/controls",
          "model_module_version": "1.5.0",
          "model_name": "DescriptionStyleModel",
          "state": {
            "_model_module": "@jupyter-widgets/controls",
            "_model_module_version": "1.5.0",
            "_model_name": "DescriptionStyleModel",
            "_view_count": null,
            "_view_module": "@jupyter-widgets/base",
            "_view_module_version": "1.2.0",
            "_view_name": "StyleView",
            "description_width": ""
          }
        },
        "534e121744814f4d8880072004513e37": {
          "model_module": "@jupyter-widgets/controls",
          "model_module_version": "1.5.0",
          "model_name": "DescriptionStyleModel",
          "state": {
            "_model_module": "@jupyter-widgets/controls",
            "_model_module_version": "1.5.0",
            "_model_name": "DescriptionStyleModel",
            "_view_count": null,
            "_view_module": "@jupyter-widgets/base",
            "_view_module_version": "1.2.0",
            "_view_name": "StyleView",
            "description_width": ""
          }
        },
        "546d1deb5c934916b722fb9ab0ce5e67": {
          "model_module": "@jupyter-widgets/base",
          "model_module_version": "1.2.0",
          "model_name": "LayoutModel",
          "state": {
            "_model_module": "@jupyter-widgets/base",
            "_model_module_version": "1.2.0",
            "_model_name": "LayoutModel",
            "_view_count": null,
            "_view_module": "@jupyter-widgets/base",
            "_view_module_version": "1.2.0",
            "_view_name": "LayoutView",
            "align_content": null,
            "align_items": null,
            "align_self": null,
            "border": null,
            "bottom": null,
            "display": null,
            "flex": "2",
            "flex_flow": null,
            "grid_area": null,
            "grid_auto_columns": null,
            "grid_auto_flow": null,
            "grid_auto_rows": null,
            "grid_column": null,
            "grid_gap": null,
            "grid_row": null,
            "grid_template_areas": null,
            "grid_template_columns": null,
            "grid_template_rows": null,
            "height": null,
            "justify_content": null,
            "justify_items": null,
            "left": null,
            "margin": null,
            "max_height": null,
            "max_width": null,
            "min_height": null,
            "min_width": null,
            "object_fit": null,
            "object_position": null,
            "order": null,
            "overflow": null,
            "overflow_x": null,
            "overflow_y": null,
            "padding": null,
            "right": null,
            "top": null,
            "visibility": null,
            "width": null
          }
        },
        "560450b99c8f4636b3a700db3fc21253": {
          "model_module": "@jupyter-widgets/controls",
          "model_module_version": "1.5.0",
          "model_name": "ProgressStyleModel",
          "state": {
            "_model_module": "@jupyter-widgets/controls",
            "_model_module_version": "1.5.0",
            "_model_name": "ProgressStyleModel",
            "_view_count": null,
            "_view_module": "@jupyter-widgets/base",
            "_view_module_version": "1.2.0",
            "_view_name": "StyleView",
            "bar_color": null,
            "description_width": ""
          }
        },
        "58fbdeafd7ee40cd9392cd4a62c49b81": {
          "model_module": "@jupyter-widgets/base",
          "model_module_version": "1.2.0",
          "model_name": "LayoutModel",
          "state": {
            "_model_module": "@jupyter-widgets/base",
            "_model_module_version": "1.2.0",
            "_model_name": "LayoutModel",
            "_view_count": null,
            "_view_module": "@jupyter-widgets/base",
            "_view_module_version": "1.2.0",
            "_view_name": "LayoutView",
            "align_content": null,
            "align_items": null,
            "align_self": null,
            "border": null,
            "bottom": null,
            "display": null,
            "flex": "2",
            "flex_flow": null,
            "grid_area": null,
            "grid_auto_columns": null,
            "grid_auto_flow": null,
            "grid_auto_rows": null,
            "grid_column": null,
            "grid_gap": null,
            "grid_row": null,
            "grid_template_areas": null,
            "grid_template_columns": null,
            "grid_template_rows": null,
            "height": null,
            "justify_content": null,
            "justify_items": null,
            "left": null,
            "margin": null,
            "max_height": null,
            "max_width": null,
            "min_height": null,
            "min_width": null,
            "object_fit": null,
            "object_position": null,
            "order": null,
            "overflow": null,
            "overflow_x": null,
            "overflow_y": null,
            "padding": null,
            "right": null,
            "top": null,
            "visibility": null,
            "width": null
          }
        },
        "5d422f8cbd47402bb8f28b258e5abed0": {
          "model_module": "@jupyter-widgets/base",
          "model_module_version": "1.2.0",
          "model_name": "LayoutModel",
          "state": {
            "_model_module": "@jupyter-widgets/base",
            "_model_module_version": "1.2.0",
            "_model_name": "LayoutModel",
            "_view_count": null,
            "_view_module": "@jupyter-widgets/base",
            "_view_module_version": "1.2.0",
            "_view_name": "LayoutView",
            "align_content": null,
            "align_items": null,
            "align_self": null,
            "border": null,
            "bottom": null,
            "display": null,
            "flex": null,
            "flex_flow": null,
            "grid_area": null,
            "grid_auto_columns": null,
            "grid_auto_flow": null,
            "grid_auto_rows": null,
            "grid_column": null,
            "grid_gap": null,
            "grid_row": null,
            "grid_template_areas": null,
            "grid_template_columns": null,
            "grid_template_rows": null,
            "height": null,
            "justify_content": null,
            "justify_items": null,
            "left": null,
            "margin": null,
            "max_height": null,
            "max_width": null,
            "min_height": null,
            "min_width": null,
            "object_fit": null,
            "object_position": null,
            "order": null,
            "overflow": null,
            "overflow_x": null,
            "overflow_y": null,
            "padding": null,
            "right": null,
            "top": null,
            "visibility": null,
            "width": null
          }
        },
        "5db675de6b8348e9a9823384541bdfff": {
          "model_module": "@jupyter-widgets/controls",
          "model_module_version": "1.5.0",
          "model_name": "ProgressStyleModel",
          "state": {
            "_model_module": "@jupyter-widgets/controls",
            "_model_module_version": "1.5.0",
            "_model_name": "ProgressStyleModel",
            "_view_count": null,
            "_view_module": "@jupyter-widgets/base",
            "_view_module_version": "1.2.0",
            "_view_name": "StyleView",
            "bar_color": null,
            "description_width": ""
          }
        },
        "6072601881c341fb8e5329fab05ee52d": {
          "model_module": "@jupyter-widgets/base",
          "model_module_version": "1.2.0",
          "model_name": "LayoutModel",
          "state": {
            "_model_module": "@jupyter-widgets/base",
            "_model_module_version": "1.2.0",
            "_model_name": "LayoutModel",
            "_view_count": null,
            "_view_module": "@jupyter-widgets/base",
            "_view_module_version": "1.2.0",
            "_view_name": "LayoutView",
            "align_content": null,
            "align_items": null,
            "align_self": null,
            "border": null,
            "bottom": null,
            "display": null,
            "flex": null,
            "flex_flow": null,
            "grid_area": null,
            "grid_auto_columns": null,
            "grid_auto_flow": null,
            "grid_auto_rows": null,
            "grid_column": null,
            "grid_gap": null,
            "grid_row": null,
            "grid_template_areas": null,
            "grid_template_columns": null,
            "grid_template_rows": null,
            "height": null,
            "justify_content": null,
            "justify_items": null,
            "left": null,
            "margin": null,
            "max_height": null,
            "max_width": null,
            "min_height": null,
            "min_width": null,
            "object_fit": null,
            "object_position": null,
            "order": null,
            "overflow": null,
            "overflow_x": null,
            "overflow_y": null,
            "padding": null,
            "right": null,
            "top": null,
            "visibility": null,
            "width": null
          }
        },
        "60c4aa6c4c8145949cd16ec0670227a1": {
          "model_module": "@jupyter-widgets/controls",
          "model_module_version": "1.5.0",
          "model_name": "DescriptionStyleModel",
          "state": {
            "_model_module": "@jupyter-widgets/controls",
            "_model_module_version": "1.5.0",
            "_model_name": "DescriptionStyleModel",
            "_view_count": null,
            "_view_module": "@jupyter-widgets/base",
            "_view_module_version": "1.2.0",
            "_view_name": "StyleView",
            "description_width": ""
          }
        },
        "6351ca36d8d648afa472093df7e73e45": {
          "model_module": "@jupyter-widgets/controls",
          "model_module_version": "1.5.0",
          "model_name": "FloatProgressModel",
          "state": {
            "_dom_classes": [],
            "_model_module": "@jupyter-widgets/controls",
            "_model_module_version": "1.5.0",
            "_model_name": "FloatProgressModel",
            "_view_count": null,
            "_view_module": "@jupyter-widgets/controls",
            "_view_module_version": "1.5.0",
            "_view_name": "ProgressView",
            "bar_style": "",
            "description": "",
            "description_tooltip": null,
            "layout": "IPY_MODEL_7a6a637bb7664b4495b2b56b45d88ee4",
            "max": 11,
            "min": 0,
            "orientation": "horizontal",
            "style": "IPY_MODEL_74bf3b2a873e40ffa139f1afe652ffe8",
            "value": 11
          }
        },
        "640ac5a06820498585c48a1b69355d0d": {
          "model_module": "@jupyter-widgets/base",
          "model_module_version": "1.2.0",
          "model_name": "LayoutModel",
          "state": {
            "_model_module": "@jupyter-widgets/base",
            "_model_module_version": "1.2.0",
            "_model_name": "LayoutModel",
            "_view_count": null,
            "_view_module": "@jupyter-widgets/base",
            "_view_module_version": "1.2.0",
            "_view_name": "LayoutView",
            "align_content": null,
            "align_items": null,
            "align_self": null,
            "border": null,
            "bottom": null,
            "display": null,
            "flex": null,
            "flex_flow": null,
            "grid_area": null,
            "grid_auto_columns": null,
            "grid_auto_flow": null,
            "grid_auto_rows": null,
            "grid_column": null,
            "grid_gap": null,
            "grid_row": null,
            "grid_template_areas": null,
            "grid_template_columns": null,
            "grid_template_rows": null,
            "height": null,
            "justify_content": null,
            "justify_items": null,
            "left": null,
            "margin": null,
            "max_height": null,
            "max_width": null,
            "min_height": null,
            "min_width": null,
            "object_fit": null,
            "object_position": null,
            "order": null,
            "overflow": null,
            "overflow_x": null,
            "overflow_y": null,
            "padding": null,
            "right": null,
            "top": null,
            "visibility": null,
            "width": null
          }
        },
        "6769dc278aae487db30d78caa97c6dd8": {
          "model_module": "@jupyter-widgets/controls",
          "model_module_version": "1.5.0",
          "model_name": "FloatProgressModel",
          "state": {
            "_dom_classes": [],
            "_model_module": "@jupyter-widgets/controls",
            "_model_module_version": "1.5.0",
            "_model_name": "FloatProgressModel",
            "_view_count": null,
            "_view_module": "@jupyter-widgets/controls",
            "_view_module_version": "1.5.0",
            "_view_name": "ProgressView",
            "bar_style": "",
            "description": "",
            "description_tooltip": null,
            "layout": "IPY_MODEL_71c435b7fa6f4a0fb44a4c8a8b5a73f6",
            "max": 11,
            "min": 0,
            "orientation": "horizontal",
            "style": "IPY_MODEL_c05c8b6064f94652a1f2ed5c3bb7c2b0",
            "value": 11
          }
        },
        "6fa8591a1a834d8785b1ebe8eff2b10d": {
          "model_module": "@jupyter-widgets/base",
          "model_module_version": "1.2.0",
          "model_name": "LayoutModel",
          "state": {
            "_model_module": "@jupyter-widgets/base",
            "_model_module_version": "1.2.0",
            "_model_name": "LayoutModel",
            "_view_count": null,
            "_view_module": "@jupyter-widgets/base",
            "_view_module_version": "1.2.0",
            "_view_name": "LayoutView",
            "align_content": null,
            "align_items": null,
            "align_self": null,
            "border": null,
            "bottom": null,
            "display": null,
            "flex": null,
            "flex_flow": null,
            "grid_area": null,
            "grid_auto_columns": null,
            "grid_auto_flow": null,
            "grid_auto_rows": null,
            "grid_column": null,
            "grid_gap": null,
            "grid_row": null,
            "grid_template_areas": null,
            "grid_template_columns": null,
            "grid_template_rows": null,
            "height": null,
            "justify_content": null,
            "justify_items": null,
            "left": null,
            "margin": null,
            "max_height": null,
            "max_width": null,
            "min_height": null,
            "min_width": null,
            "object_fit": null,
            "object_position": null,
            "order": null,
            "overflow": null,
            "overflow_x": null,
            "overflow_y": null,
            "padding": null,
            "right": null,
            "top": null,
            "visibility": null,
            "width": null
          }
        },
        "71c435b7fa6f4a0fb44a4c8a8b5a73f6": {
          "model_module": "@jupyter-widgets/base",
          "model_module_version": "1.2.0",
          "model_name": "LayoutModel",
          "state": {
            "_model_module": "@jupyter-widgets/base",
            "_model_module_version": "1.2.0",
            "_model_name": "LayoutModel",
            "_view_count": null,
            "_view_module": "@jupyter-widgets/base",
            "_view_module_version": "1.2.0",
            "_view_name": "LayoutView",
            "align_content": null,
            "align_items": null,
            "align_self": null,
            "border": null,
            "bottom": null,
            "display": null,
            "flex": "2",
            "flex_flow": null,
            "grid_area": null,
            "grid_auto_columns": null,
            "grid_auto_flow": null,
            "grid_auto_rows": null,
            "grid_column": null,
            "grid_gap": null,
            "grid_row": null,
            "grid_template_areas": null,
            "grid_template_columns": null,
            "grid_template_rows": null,
            "height": null,
            "justify_content": null,
            "justify_items": null,
            "left": null,
            "margin": null,
            "max_height": null,
            "max_width": null,
            "min_height": null,
            "min_width": null,
            "object_fit": null,
            "object_position": null,
            "order": null,
            "overflow": null,
            "overflow_x": null,
            "overflow_y": null,
            "padding": null,
            "right": null,
            "top": null,
            "visibility": null,
            "width": null
          }
        },
        "74bf3b2a873e40ffa139f1afe652ffe8": {
          "model_module": "@jupyter-widgets/controls",
          "model_module_version": "1.5.0",
          "model_name": "ProgressStyleModel",
          "state": {
            "_model_module": "@jupyter-widgets/controls",
            "_model_module_version": "1.5.0",
            "_model_name": "ProgressStyleModel",
            "_view_count": null,
            "_view_module": "@jupyter-widgets/base",
            "_view_module_version": "1.2.0",
            "_view_name": "StyleView",
            "bar_color": null,
            "description_width": ""
          }
        },
        "75b99a050a37493389ff96724a9a3b72": {
          "model_module": "@jupyter-widgets/controls",
          "model_module_version": "1.5.0",
          "model_name": "HTMLModel",
          "state": {
            "_dom_classes": [],
            "_model_module": "@jupyter-widgets/controls",
            "_model_module_version": "1.5.0",
            "_model_name": "HTMLModel",
            "_view_count": null,
            "_view_module": "@jupyter-widgets/controls",
            "_view_module_version": "1.5.0",
            "_view_name": "HTMLView",
            "description": "",
            "description_tooltip": null,
            "layout": "IPY_MODEL_9ab912602cc24346a011fdf58feafbde",
            "placeholder": "​",
            "style": "IPY_MODEL_af211f3be2ce4fb1b6733fa552ed041b",
            "value": "Sanity Checking DataLoader 0: 100%"
          }
        },
        "78fe9e3a3d614de9a6f3efacde67d247": {
          "model_module": "@jupyter-widgets/controls",
          "model_module_version": "1.5.0",
          "model_name": "FloatProgressModel",
          "state": {
            "_dom_classes": [],
            "_model_module": "@jupyter-widgets/controls",
            "_model_module_version": "1.5.0",
            "_model_name": "FloatProgressModel",
            "_view_count": null,
            "_view_module": "@jupyter-widgets/controls",
            "_view_module_version": "1.5.0",
            "_view_name": "ProgressView",
            "bar_style": "",
            "description": "",
            "description_tooltip": null,
            "layout": "IPY_MODEL_84f32a71a7cd4de6b55a9558717d00ef",
            "max": 2,
            "min": 0,
            "orientation": "horizontal",
            "style": "IPY_MODEL_5db675de6b8348e9a9823384541bdfff",
            "value": 2
          }
        },
        "7a6a637bb7664b4495b2b56b45d88ee4": {
          "model_module": "@jupyter-widgets/base",
          "model_module_version": "1.2.0",
          "model_name": "LayoutModel",
          "state": {
            "_model_module": "@jupyter-widgets/base",
            "_model_module_version": "1.2.0",
            "_model_name": "LayoutModel",
            "_view_count": null,
            "_view_module": "@jupyter-widgets/base",
            "_view_module_version": "1.2.0",
            "_view_name": "LayoutView",
            "align_content": null,
            "align_items": null,
            "align_self": null,
            "border": null,
            "bottom": null,
            "display": null,
            "flex": "2",
            "flex_flow": null,
            "grid_area": null,
            "grid_auto_columns": null,
            "grid_auto_flow": null,
            "grid_auto_rows": null,
            "grid_column": null,
            "grid_gap": null,
            "grid_row": null,
            "grid_template_areas": null,
            "grid_template_columns": null,
            "grid_template_rows": null,
            "height": null,
            "justify_content": null,
            "justify_items": null,
            "left": null,
            "margin": null,
            "max_height": null,
            "max_width": null,
            "min_height": null,
            "min_width": null,
            "object_fit": null,
            "object_position": null,
            "order": null,
            "overflow": null,
            "overflow_x": null,
            "overflow_y": null,
            "padding": null,
            "right": null,
            "top": null,
            "visibility": null,
            "width": null
          }
        },
        "7bb5cc7b77654cc0b27a22552941a1ce": {
          "model_module": "@jupyter-widgets/controls",
          "model_module_version": "1.5.0",
          "model_name": "DescriptionStyleModel",
          "state": {
            "_model_module": "@jupyter-widgets/controls",
            "_model_module_version": "1.5.0",
            "_model_name": "DescriptionStyleModel",
            "_view_count": null,
            "_view_module": "@jupyter-widgets/base",
            "_view_module_version": "1.2.0",
            "_view_name": "StyleView",
            "description_width": ""
          }
        },
        "7bd174d7cd2346be9db9d5a0a170f8cb": {
          "model_module": "@jupyter-widgets/controls",
          "model_module_version": "1.5.0",
          "model_name": "HTMLModel",
          "state": {
            "_dom_classes": [],
            "_model_module": "@jupyter-widgets/controls",
            "_model_module_version": "1.5.0",
            "_model_name": "HTMLModel",
            "_view_count": null,
            "_view_module": "@jupyter-widgets/controls",
            "_view_module_version": "1.5.0",
            "_view_name": "HTMLView",
            "description": "",
            "description_tooltip": null,
            "layout": "IPY_MODEL_2da5b84f9384445a8d9db58ef3dafa5e",
            "placeholder": "​",
            "style": "IPY_MODEL_abcb57f0947f413d9cb83c62c6529562",
            "value": " 2139/2139 [00:17&lt;00:00, 122.83it/s, v_num=1, train_loss=7.280, val_loss=10.70]"
          }
        },
        "7dc052c589534aa986569d863596a2a3": {
          "model_module": "@jupyter-widgets/base",
          "model_module_version": "1.2.0",
          "model_name": "LayoutModel",
          "state": {
            "_model_module": "@jupyter-widgets/base",
            "_model_module_version": "1.2.0",
            "_model_name": "LayoutModel",
            "_view_count": null,
            "_view_module": "@jupyter-widgets/base",
            "_view_module_version": "1.2.0",
            "_view_name": "LayoutView",
            "align_content": null,
            "align_items": null,
            "align_self": null,
            "border": null,
            "bottom": null,
            "display": "inline-flex",
            "flex": null,
            "flex_flow": "row wrap",
            "grid_area": null,
            "grid_auto_columns": null,
            "grid_auto_flow": null,
            "grid_auto_rows": null,
            "grid_column": null,
            "grid_gap": null,
            "grid_row": null,
            "grid_template_areas": null,
            "grid_template_columns": null,
            "grid_template_rows": null,
            "height": null,
            "justify_content": null,
            "justify_items": null,
            "left": null,
            "margin": null,
            "max_height": null,
            "max_width": null,
            "min_height": null,
            "min_width": null,
            "object_fit": null,
            "object_position": null,
            "order": null,
            "overflow": null,
            "overflow_x": null,
            "overflow_y": null,
            "padding": null,
            "right": null,
            "top": null,
            "visibility": "hidden",
            "width": "100%"
          }
        },
        "80d177b53a5f4fe0a733d3b7d36e9b30": {
          "model_module": "@jupyter-widgets/controls",
          "model_module_version": "1.5.0",
          "model_name": "DescriptionStyleModel",
          "state": {
            "_model_module": "@jupyter-widgets/controls",
            "_model_module_version": "1.5.0",
            "_model_name": "DescriptionStyleModel",
            "_view_count": null,
            "_view_module": "@jupyter-widgets/base",
            "_view_module_version": "1.2.0",
            "_view_name": "StyleView",
            "description_width": ""
          }
        },
        "84f32a71a7cd4de6b55a9558717d00ef": {
          "model_module": "@jupyter-widgets/base",
          "model_module_version": "1.2.0",
          "model_name": "LayoutModel",
          "state": {
            "_model_module": "@jupyter-widgets/base",
            "_model_module_version": "1.2.0",
            "_model_name": "LayoutModel",
            "_view_count": null,
            "_view_module": "@jupyter-widgets/base",
            "_view_module_version": "1.2.0",
            "_view_name": "LayoutView",
            "align_content": null,
            "align_items": null,
            "align_self": null,
            "border": null,
            "bottom": null,
            "display": null,
            "flex": "2",
            "flex_flow": null,
            "grid_area": null,
            "grid_auto_columns": null,
            "grid_auto_flow": null,
            "grid_auto_rows": null,
            "grid_column": null,
            "grid_gap": null,
            "grid_row": null,
            "grid_template_areas": null,
            "grid_template_columns": null,
            "grid_template_rows": null,
            "height": null,
            "justify_content": null,
            "justify_items": null,
            "left": null,
            "margin": null,
            "max_height": null,
            "max_width": null,
            "min_height": null,
            "min_width": null,
            "object_fit": null,
            "object_position": null,
            "order": null,
            "overflow": null,
            "overflow_x": null,
            "overflow_y": null,
            "padding": null,
            "right": null,
            "top": null,
            "visibility": null,
            "width": null
          }
        },
        "86ed101f86384b9b92eb3faccae5bca2": {
          "model_module": "@jupyter-widgets/controls",
          "model_module_version": "1.5.0",
          "model_name": "ProgressStyleModel",
          "state": {
            "_model_module": "@jupyter-widgets/controls",
            "_model_module_version": "1.5.0",
            "_model_name": "ProgressStyleModel",
            "_view_count": null,
            "_view_module": "@jupyter-widgets/base",
            "_view_module_version": "1.2.0",
            "_view_name": "StyleView",
            "bar_color": null,
            "description_width": ""
          }
        },
        "8fc5cc9d0df74d5081fa3f8c89595daf": {
          "model_module": "@jupyter-widgets/base",
          "model_module_version": "1.2.0",
          "model_name": "LayoutModel",
          "state": {
            "_model_module": "@jupyter-widgets/base",
            "_model_module_version": "1.2.0",
            "_model_name": "LayoutModel",
            "_view_count": null,
            "_view_module": "@jupyter-widgets/base",
            "_view_module_version": "1.2.0",
            "_view_name": "LayoutView",
            "align_content": null,
            "align_items": null,
            "align_self": null,
            "border": null,
            "bottom": null,
            "display": null,
            "flex": null,
            "flex_flow": null,
            "grid_area": null,
            "grid_auto_columns": null,
            "grid_auto_flow": null,
            "grid_auto_rows": null,
            "grid_column": null,
            "grid_gap": null,
            "grid_row": null,
            "grid_template_areas": null,
            "grid_template_columns": null,
            "grid_template_rows": null,
            "height": null,
            "justify_content": null,
            "justify_items": null,
            "left": null,
            "margin": null,
            "max_height": null,
            "max_width": null,
            "min_height": null,
            "min_width": null,
            "object_fit": null,
            "object_position": null,
            "order": null,
            "overflow": null,
            "overflow_x": null,
            "overflow_y": null,
            "padding": null,
            "right": null,
            "top": null,
            "visibility": null,
            "width": null
          }
        },
        "938d3da0eef54ee997fc0ce7ccf1807b": {
          "model_module": "@jupyter-widgets/base",
          "model_module_version": "1.2.0",
          "model_name": "LayoutModel",
          "state": {
            "_model_module": "@jupyter-widgets/base",
            "_model_module_version": "1.2.0",
            "_model_name": "LayoutModel",
            "_view_count": null,
            "_view_module": "@jupyter-widgets/base",
            "_view_module_version": "1.2.0",
            "_view_name": "LayoutView",
            "align_content": null,
            "align_items": null,
            "align_self": null,
            "border": null,
            "bottom": null,
            "display": null,
            "flex": "2",
            "flex_flow": null,
            "grid_area": null,
            "grid_auto_columns": null,
            "grid_auto_flow": null,
            "grid_auto_rows": null,
            "grid_column": null,
            "grid_gap": null,
            "grid_row": null,
            "grid_template_areas": null,
            "grid_template_columns": null,
            "grid_template_rows": null,
            "height": null,
            "justify_content": null,
            "justify_items": null,
            "left": null,
            "margin": null,
            "max_height": null,
            "max_width": null,
            "min_height": null,
            "min_width": null,
            "object_fit": null,
            "object_position": null,
            "order": null,
            "overflow": null,
            "overflow_x": null,
            "overflow_y": null,
            "padding": null,
            "right": null,
            "top": null,
            "visibility": null,
            "width": null
          }
        },
        "950950a569914ad1a263f3f295e57852": {
          "model_module": "@jupyter-widgets/controls",
          "model_module_version": "1.5.0",
          "model_name": "HTMLModel",
          "state": {
            "_dom_classes": [],
            "_model_module": "@jupyter-widgets/controls",
            "_model_module_version": "1.5.0",
            "_model_name": "HTMLModel",
            "_view_count": null,
            "_view_module": "@jupyter-widgets/controls",
            "_view_module_version": "1.5.0",
            "_view_name": "HTMLView",
            "description": "",
            "description_tooltip": null,
            "layout": "IPY_MODEL_cba28fcac7c349e8ac9794d507768744",
            "placeholder": "​",
            "style": "IPY_MODEL_7bb5cc7b77654cc0b27a22552941a1ce",
            "value": " 11/11 [00:00&lt;00:00, 23.50it/s]"
          }
        },
        "9ab912602cc24346a011fdf58feafbde": {
          "model_module": "@jupyter-widgets/base",
          "model_module_version": "1.2.0",
          "model_name": "LayoutModel",
          "state": {
            "_model_module": "@jupyter-widgets/base",
            "_model_module_version": "1.2.0",
            "_model_name": "LayoutModel",
            "_view_count": null,
            "_view_module": "@jupyter-widgets/base",
            "_view_module_version": "1.2.0",
            "_view_name": "LayoutView",
            "align_content": null,
            "align_items": null,
            "align_self": null,
            "border": null,
            "bottom": null,
            "display": null,
            "flex": null,
            "flex_flow": null,
            "grid_area": null,
            "grid_auto_columns": null,
            "grid_auto_flow": null,
            "grid_auto_rows": null,
            "grid_column": null,
            "grid_gap": null,
            "grid_row": null,
            "grid_template_areas": null,
            "grid_template_columns": null,
            "grid_template_rows": null,
            "height": null,
            "justify_content": null,
            "justify_items": null,
            "left": null,
            "margin": null,
            "max_height": null,
            "max_width": null,
            "min_height": null,
            "min_width": null,
            "object_fit": null,
            "object_position": null,
            "order": null,
            "overflow": null,
            "overflow_x": null,
            "overflow_y": null,
            "padding": null,
            "right": null,
            "top": null,
            "visibility": null,
            "width": null
          }
        },
        "9ec11067fc81414d97457b47e93b78a1": {
          "model_module": "@jupyter-widgets/controls",
          "model_module_version": "1.5.0",
          "model_name": "HTMLModel",
          "state": {
            "_dom_classes": [],
            "_model_module": "@jupyter-widgets/controls",
            "_model_module_version": "1.5.0",
            "_model_name": "HTMLModel",
            "_view_count": null,
            "_view_module": "@jupyter-widgets/controls",
            "_view_module_version": "1.5.0",
            "_view_name": "HTMLView",
            "description": "",
            "description_tooltip": null,
            "layout": "IPY_MODEL_3dc20b49832e46c6ad70dc754f43555f",
            "placeholder": "​",
            "style": "IPY_MODEL_100219bd594645c5b60c3da4a44344fe",
            "value": "Validation DataLoader 0: 100%"
          }
        },
        "a2903f89f4584f16b9f5b412d2730672": {
          "model_module": "@jupyter-widgets/controls",
          "model_module_version": "1.5.0",
          "model_name": "DescriptionStyleModel",
          "state": {
            "_model_module": "@jupyter-widgets/controls",
            "_model_module_version": "1.5.0",
            "_model_name": "DescriptionStyleModel",
            "_view_count": null,
            "_view_module": "@jupyter-widgets/base",
            "_view_module_version": "1.2.0",
            "_view_name": "StyleView",
            "description_width": ""
          }
        },
        "a474d8d377674579b3c9f5327fbb1862": {
          "model_module": "@jupyter-widgets/controls",
          "model_module_version": "1.5.0",
          "model_name": "FloatProgressModel",
          "state": {
            "_dom_classes": [],
            "_model_module": "@jupyter-widgets/controls",
            "_model_module_version": "1.5.0",
            "_model_name": "FloatProgressModel",
            "_view_count": null,
            "_view_module": "@jupyter-widgets/controls",
            "_view_module_version": "1.5.0",
            "_view_name": "ProgressView",
            "bar_style": "",
            "description": "",
            "description_tooltip": null,
            "layout": "IPY_MODEL_2e02be5bf0be40bf87f1364b1fd587ec",
            "max": 11,
            "min": 0,
            "orientation": "horizontal",
            "style": "IPY_MODEL_560450b99c8f4636b3a700db3fc21253",
            "value": 11
          }
        },
        "abcb57f0947f413d9cb83c62c6529562": {
          "model_module": "@jupyter-widgets/controls",
          "model_module_version": "1.5.0",
          "model_name": "DescriptionStyleModel",
          "state": {
            "_model_module": "@jupyter-widgets/controls",
            "_model_module_version": "1.5.0",
            "_model_name": "DescriptionStyleModel",
            "_view_count": null,
            "_view_module": "@jupyter-widgets/base",
            "_view_module_version": "1.2.0",
            "_view_name": "StyleView",
            "description_width": ""
          }
        },
        "acfec13aec454320b585c0b8331e9448": {
          "model_module": "@jupyter-widgets/controls",
          "model_module_version": "1.5.0",
          "model_name": "DescriptionStyleModel",
          "state": {
            "_model_module": "@jupyter-widgets/controls",
            "_model_module_version": "1.5.0",
            "_model_name": "DescriptionStyleModel",
            "_view_count": null,
            "_view_module": "@jupyter-widgets/base",
            "_view_module_version": "1.2.0",
            "_view_name": "StyleView",
            "description_width": ""
          }
        },
        "af211f3be2ce4fb1b6733fa552ed041b": {
          "model_module": "@jupyter-widgets/controls",
          "model_module_version": "1.5.0",
          "model_name": "DescriptionStyleModel",
          "state": {
            "_model_module": "@jupyter-widgets/controls",
            "_model_module_version": "1.5.0",
            "_model_name": "DescriptionStyleModel",
            "_view_count": null,
            "_view_module": "@jupyter-widgets/base",
            "_view_module_version": "1.2.0",
            "_view_name": "StyleView",
            "description_width": ""
          }
        },
        "b174cb3407a04b2989e6049555265446": {
          "model_module": "@jupyter-widgets/controls",
          "model_module_version": "1.5.0",
          "model_name": "FloatProgressModel",
          "state": {
            "_dom_classes": [],
            "_model_module": "@jupyter-widgets/controls",
            "_model_module_version": "1.5.0",
            "_model_name": "FloatProgressModel",
            "_view_count": null,
            "_view_module": "@jupyter-widgets/controls",
            "_view_module_version": "1.5.0",
            "_view_name": "ProgressView",
            "bar_style": "success",
            "description": "",
            "description_tooltip": null,
            "layout": "IPY_MODEL_938d3da0eef54ee997fc0ce7ccf1807b",
            "max": 2139,
            "min": 0,
            "orientation": "horizontal",
            "style": "IPY_MODEL_1c10405770654b90a3635ba4acabb6ef",
            "value": 2139
          }
        },
        "b23fac677f5e4e8884f84fe60585330d": {
          "model_module": "@jupyter-widgets/controls",
          "model_module_version": "1.5.0",
          "model_name": "HBoxModel",
          "state": {
            "_dom_classes": [],
            "_model_module": "@jupyter-widgets/controls",
            "_model_module_version": "1.5.0",
            "_model_name": "HBoxModel",
            "_view_count": null,
            "_view_module": "@jupyter-widgets/controls",
            "_view_module_version": "1.5.0",
            "_view_name": "HBoxView",
            "box_style": "",
            "children": [
              "IPY_MODEL_1ae57433e573436b8bbdf6c22630930d",
              "IPY_MODEL_6769dc278aae487db30d78caa97c6dd8",
              "IPY_MODEL_b5b6d56829af44d99b904176b9552101"
            ],
            "layout": "IPY_MODEL_7dc052c589534aa986569d863596a2a3"
          }
        },
        "b5b6d56829af44d99b904176b9552101": {
          "model_module": "@jupyter-widgets/controls",
          "model_module_version": "1.5.0",
          "model_name": "HTMLModel",
          "state": {
            "_dom_classes": [],
            "_model_module": "@jupyter-widgets/controls",
            "_model_module_version": "1.5.0",
            "_model_name": "HTMLModel",
            "_view_count": null,
            "_view_module": "@jupyter-widgets/controls",
            "_view_module_version": "1.5.0",
            "_view_name": "HTMLView",
            "description": "",
            "description_tooltip": null,
            "layout": "IPY_MODEL_c44756a0ec83400f9f6daf8d1179ad91",
            "placeholder": "​",
            "style": "IPY_MODEL_a2903f89f4584f16b9f5b412d2730672",
            "value": " 11/11 [00:00&lt;00:00, 27.27it/s]"
          }
        },
        "b6179f72e8f94772a4e1e2a503bc1d47": {
          "model_module": "@jupyter-widgets/controls",
          "model_module_version": "1.5.0",
          "model_name": "HBoxModel",
          "state": {
            "_dom_classes": [],
            "_model_module": "@jupyter-widgets/controls",
            "_model_module_version": "1.5.0",
            "_model_name": "HBoxModel",
            "_view_count": null,
            "_view_module": "@jupyter-widgets/controls",
            "_view_module_version": "1.5.0",
            "_view_name": "HBoxView",
            "box_style": "",
            "children": [
              "IPY_MODEL_9ec11067fc81414d97457b47e93b78a1",
              "IPY_MODEL_6351ca36d8d648afa472093df7e73e45",
              "IPY_MODEL_d1efd4fe9adc4243a81d401784b77530"
            ],
            "layout": "IPY_MODEL_2cb3f56ff669424da4e9bace352831b8"
          }
        },
        "be93fd003ef54d7e85bb1fcaa894e467": {
          "model_module": "@jupyter-widgets/controls",
          "model_module_version": "1.5.0",
          "model_name": "DescriptionStyleModel",
          "state": {
            "_model_module": "@jupyter-widgets/controls",
            "_model_module_version": "1.5.0",
            "_model_name": "DescriptionStyleModel",
            "_view_count": null,
            "_view_module": "@jupyter-widgets/base",
            "_view_module_version": "1.2.0",
            "_view_name": "StyleView",
            "description_width": ""
          }
        },
        "c05c8b6064f94652a1f2ed5c3bb7c2b0": {
          "model_module": "@jupyter-widgets/controls",
          "model_module_version": "1.5.0",
          "model_name": "ProgressStyleModel",
          "state": {
            "_model_module": "@jupyter-widgets/controls",
            "_model_module_version": "1.5.0",
            "_model_name": "ProgressStyleModel",
            "_view_count": null,
            "_view_module": "@jupyter-widgets/base",
            "_view_module_version": "1.2.0",
            "_view_name": "StyleView",
            "bar_color": null,
            "description_width": ""
          }
        },
        "c44756a0ec83400f9f6daf8d1179ad91": {
          "model_module": "@jupyter-widgets/base",
          "model_module_version": "1.2.0",
          "model_name": "LayoutModel",
          "state": {
            "_model_module": "@jupyter-widgets/base",
            "_model_module_version": "1.2.0",
            "_model_name": "LayoutModel",
            "_view_count": null,
            "_view_module": "@jupyter-widgets/base",
            "_view_module_version": "1.2.0",
            "_view_name": "LayoutView",
            "align_content": null,
            "align_items": null,
            "align_self": null,
            "border": null,
            "bottom": null,
            "display": null,
            "flex": null,
            "flex_flow": null,
            "grid_area": null,
            "grid_auto_columns": null,
            "grid_auto_flow": null,
            "grid_auto_rows": null,
            "grid_column": null,
            "grid_gap": null,
            "grid_row": null,
            "grid_template_areas": null,
            "grid_template_columns": null,
            "grid_template_rows": null,
            "height": null,
            "justify_content": null,
            "justify_items": null,
            "left": null,
            "margin": null,
            "max_height": null,
            "max_width": null,
            "min_height": null,
            "min_width": null,
            "object_fit": null,
            "object_position": null,
            "order": null,
            "overflow": null,
            "overflow_x": null,
            "overflow_y": null,
            "padding": null,
            "right": null,
            "top": null,
            "visibility": null,
            "width": null
          }
        },
        "cba28fcac7c349e8ac9794d507768744": {
          "model_module": "@jupyter-widgets/base",
          "model_module_version": "1.2.0",
          "model_name": "LayoutModel",
          "state": {
            "_model_module": "@jupyter-widgets/base",
            "_model_module_version": "1.2.0",
            "_model_name": "LayoutModel",
            "_view_count": null,
            "_view_module": "@jupyter-widgets/base",
            "_view_module_version": "1.2.0",
            "_view_name": "LayoutView",
            "align_content": null,
            "align_items": null,
            "align_self": null,
            "border": null,
            "bottom": null,
            "display": null,
            "flex": null,
            "flex_flow": null,
            "grid_area": null,
            "grid_auto_columns": null,
            "grid_auto_flow": null,
            "grid_auto_rows": null,
            "grid_column": null,
            "grid_gap": null,
            "grid_row": null,
            "grid_template_areas": null,
            "grid_template_columns": null,
            "grid_template_rows": null,
            "height": null,
            "justify_content": null,
            "justify_items": null,
            "left": null,
            "margin": null,
            "max_height": null,
            "max_width": null,
            "min_height": null,
            "min_width": null,
            "object_fit": null,
            "object_position": null,
            "order": null,
            "overflow": null,
            "overflow_x": null,
            "overflow_y": null,
            "padding": null,
            "right": null,
            "top": null,
            "visibility": null,
            "width": null
          }
        },
        "d1efd4fe9adc4243a81d401784b77530": {
          "model_module": "@jupyter-widgets/controls",
          "model_module_version": "1.5.0",
          "model_name": "HTMLModel",
          "state": {
            "_dom_classes": [],
            "_model_module": "@jupyter-widgets/controls",
            "_model_module_version": "1.5.0",
            "_model_name": "HTMLModel",
            "_view_count": null,
            "_view_module": "@jupyter-widgets/controls",
            "_view_module_version": "1.5.0",
            "_view_name": "HTMLView",
            "description": "",
            "description_tooltip": null,
            "layout": "IPY_MODEL_640ac5a06820498585c48a1b69355d0d",
            "placeholder": "​",
            "style": "IPY_MODEL_515318593400421487560182023801f1",
            "value": " 11/11 [00:00&lt;00:00, 15.17it/s]"
          }
        },
        "d8cd82c7af8747148b5b4750e8f1372a": {
          "model_module": "@jupyter-widgets/controls",
          "model_module_version": "1.5.0",
          "model_name": "HBoxModel",
          "state": {
            "_dom_classes": [],
            "_model_module": "@jupyter-widgets/controls",
            "_model_module_version": "1.5.0",
            "_model_name": "HBoxModel",
            "_view_count": null,
            "_view_module": "@jupyter-widgets/controls",
            "_view_module_version": "1.5.0",
            "_view_name": "HBoxView",
            "box_style": "",
            "children": [
              "IPY_MODEL_17d8af2b171440cba00f8b2df1a08073",
              "IPY_MODEL_fde8213392c546b58ad8a81aacf4fcb3",
              "IPY_MODEL_09093bb710bd4903abf2e10db6efc0a0"
            ],
            "layout": "IPY_MODEL_d92ec28e7e6c47c4b2e3669b502b8b9e"
          }
        },
        "d92ec28e7e6c47c4b2e3669b502b8b9e": {
          "model_module": "@jupyter-widgets/base",
          "model_module_version": "1.2.0",
          "model_name": "LayoutModel",
          "state": {
            "_model_module": "@jupyter-widgets/base",
            "_model_module_version": "1.2.0",
            "_model_name": "LayoutModel",
            "_view_count": null,
            "_view_module": "@jupyter-widgets/base",
            "_view_module_version": "1.2.0",
            "_view_name": "LayoutView",
            "align_content": null,
            "align_items": null,
            "align_self": null,
            "border": null,
            "bottom": null,
            "display": "inline-flex",
            "flex": null,
            "flex_flow": "row wrap",
            "grid_area": null,
            "grid_auto_columns": null,
            "grid_auto_flow": null,
            "grid_auto_rows": null,
            "grid_column": null,
            "grid_gap": null,
            "grid_row": null,
            "grid_template_areas": null,
            "grid_template_columns": null,
            "grid_template_rows": null,
            "height": null,
            "justify_content": null,
            "justify_items": null,
            "left": null,
            "margin": null,
            "max_height": null,
            "max_width": null,
            "min_height": null,
            "min_width": null,
            "object_fit": null,
            "object_position": null,
            "order": null,
            "overflow": null,
            "overflow_x": null,
            "overflow_y": null,
            "padding": null,
            "right": null,
            "top": null,
            "visibility": "hidden",
            "width": "100%"
          }
        },
        "d9456651273140f9bd6e587ab852eeec": {
          "model_module": "@jupyter-widgets/controls",
          "model_module_version": "1.5.0",
          "model_name": "HTMLModel",
          "state": {
            "_dom_classes": [],
            "_model_module": "@jupyter-widgets/controls",
            "_model_module_version": "1.5.0",
            "_model_name": "HTMLModel",
            "_view_count": null,
            "_view_module": "@jupyter-widgets/controls",
            "_view_module_version": "1.5.0",
            "_view_name": "HTMLView",
            "description": "",
            "description_tooltip": null,
            "layout": "IPY_MODEL_17e62da8657f44d9a998f4acbbd29671",
            "placeholder": "​",
            "style": "IPY_MODEL_be93fd003ef54d7e85bb1fcaa894e467",
            "value": "Epoch 4: 100%"
          }
        },
        "e9d2f22400db472283508e8c01f08fbb": {
          "model_module": "@jupyter-widgets/base",
          "model_module_version": "1.2.0",
          "model_name": "LayoutModel",
          "state": {
            "_model_module": "@jupyter-widgets/base",
            "_model_module_version": "1.2.0",
            "_model_name": "LayoutModel",
            "_view_count": null,
            "_view_module": "@jupyter-widgets/base",
            "_view_module_version": "1.2.0",
            "_view_name": "LayoutView",
            "align_content": null,
            "align_items": null,
            "align_self": null,
            "border": null,
            "bottom": null,
            "display": "inline-flex",
            "flex": null,
            "flex_flow": "row wrap",
            "grid_area": null,
            "grid_auto_columns": null,
            "grid_auto_flow": null,
            "grid_auto_rows": null,
            "grid_column": null,
            "grid_gap": null,
            "grid_row": null,
            "grid_template_areas": null,
            "grid_template_columns": null,
            "grid_template_rows": null,
            "height": null,
            "justify_content": null,
            "justify_items": null,
            "left": null,
            "margin": null,
            "max_height": null,
            "max_width": null,
            "min_height": null,
            "min_width": null,
            "object_fit": null,
            "object_position": null,
            "order": null,
            "overflow": null,
            "overflow_x": null,
            "overflow_y": null,
            "padding": null,
            "right": null,
            "top": null,
            "visibility": "hidden",
            "width": "100%"
          }
        },
        "f2b6c28c36e64f66b54834f543cec282": {
          "model_module": "@jupyter-widgets/controls",
          "model_module_version": "1.5.0",
          "model_name": "HBoxModel",
          "state": {
            "_dom_classes": [],
            "_model_module": "@jupyter-widgets/controls",
            "_model_module_version": "1.5.0",
            "_model_name": "HBoxModel",
            "_view_count": null,
            "_view_module": "@jupyter-widgets/controls",
            "_view_module_version": "1.5.0",
            "_view_name": "HBoxView",
            "box_style": "",
            "children": [
              "IPY_MODEL_2d98065fccb34cb1b44740aa4510f0e7",
              "IPY_MODEL_2aa0bc933aae46729672d55e60c17616",
              "IPY_MODEL_950950a569914ad1a263f3f295e57852"
            ],
            "layout": "IPY_MODEL_2f4dcf310c634bdba125e8bf46d3db26"
          }
        },
        "fd22c38d837a404ab892ddaddf4a8988": {
          "model_module": "@jupyter-widgets/controls",
          "model_module_version": "1.5.0",
          "model_name": "HTMLModel",
          "state": {
            "_dom_classes": [],
            "_model_module": "@jupyter-widgets/controls",
            "_model_module_version": "1.5.0",
            "_model_name": "HTMLModel",
            "_view_count": null,
            "_view_module": "@jupyter-widgets/controls",
            "_view_module_version": "1.5.0",
            "_view_name": "HTMLView",
            "description": "",
            "description_tooltip": null,
            "layout": "IPY_MODEL_46204f92abf1414da360d79b4ca7a924",
            "placeholder": "​",
            "style": "IPY_MODEL_0a54156fabcd4ef3b73b038b71485a6a",
            "value": "Validation DataLoader 0: 100%"
          }
        },
        "fde8213392c546b58ad8a81aacf4fcb3": {
          "model_module": "@jupyter-widgets/controls",
          "model_module_version": "1.5.0",
          "model_name": "FloatProgressModel",
          "state": {
            "_dom_classes": [],
            "_model_module": "@jupyter-widgets/controls",
            "_model_module_version": "1.5.0",
            "_model_name": "FloatProgressModel",
            "_view_count": null,
            "_view_module": "@jupyter-widgets/controls",
            "_view_module_version": "1.5.0",
            "_view_name": "ProgressView",
            "bar_style": "",
            "description": "",
            "description_tooltip": null,
            "layout": "IPY_MODEL_58fbdeafd7ee40cd9392cd4a62c49b81",
            "max": 11,
            "min": 0,
            "orientation": "horizontal",
            "style": "IPY_MODEL_286fbf1303dc4f0b9c1bb3cfb34f920e",
            "value": 11
          }
        }
      }
    }
  },
  "nbformat": 4,
  "nbformat_minor": 0
}
