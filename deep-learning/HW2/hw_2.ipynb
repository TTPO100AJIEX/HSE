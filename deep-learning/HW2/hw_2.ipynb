{
 "cells": [
  {
   "cell_type": "markdown",
   "metadata": {
    "cell_id": 1,
    "id": "kr9vAeEQlRVG"
   },
   "source": [
    "# Домашнее задание 2. Классификация изображений."
   ]
  },
  {
   "cell_type": "markdown",
   "metadata": {
    "cell_id": 3,
    "id": "BxX49gLclRVJ"
   },
   "source": [
    "В этом задании потребуется обучить классификатор изображений. Будем работать с датасетом, название которого раскрывать не будем. Можете посмотреть самостоятельно на картинки, которые в есть датасете. В нём 200 классов и около 5 тысяч картинок на каждый класс. Классы пронумерованы, как нетрудно догадаться, от 0 до 199. Скачать датасет можно вот [тут](https://yadi.sk/d/BNR41Vu3y0c7qA).\n",
    "\n",
    "Структура датасета простая -- есть директории train/ и val/, в которых лежат обучающие и валидационные данные. В train/ и val/ лежат директориии, соответствующие классам изображений, в которых лежат, собственно, сами изображения.\n",
    " \n",
    "__Задание__. Необходимо выполнить два задания\n",
    "\n",
    "1) Добейтесь accuracy **на валидации не менее 0.44**. В этом задании **запрещено** пользоваться предобученными моделями и ресайзом картинок. 5 баллов\n",
    "\n",
    "2) Добейтесь accuracy **на валидации не менее 0.84**. В этом задании делать ресайз и использовать претрейн можно. 5 баллов\n",
    "\n",
    "Напишите краткий отчёт о проделанных экспериментах. Что сработало и что не сработало? Почему вы решили, сделать так, а не иначе? Обязательно указывайте ссылки на чужой код, если вы его используете. Обязательно ссылайтесь на статьи / блогпосты / вопросы на stackoverflow / видосы от ютуберов-машинлернеров / курсы / подсказки от Дяди Васи и прочие дополнительные материалы, если вы их используете. \n",
    "\n",
    "Ваш код обязательно должен проходить все `assert`'ы ниже.\n",
    "\n",
    "__Использовать внешние данные для обучения строго запрещено в обоих заданиях. Также запрещено обучаться на валидационной выборке__.\n",
    "\n",
    "\n",
    "__Критерии оценки__: Оценка вычисляется по простой формуле: `min(10, 10 * Ваша accuracy / 0.44)` для первого задания и `min(10, 10 * (Ваша accuracy - 0.5) / 0.34)` для второго. Оценка округляется до десятых по арифметическим правилам.\n",
    "\n",
    "\n",
    "__Советы и указания__:\n",
    " - Наверняка вам потребуется много гуглить о классификации и о том, как заставить её работать. Это нормально, все гуглят. Но не забывайте, что нужно быть готовым за скатанный код отвечать :)\n",
    " - Используйте аугментации. Для этого пользуйтесь модулем `torchvision.transforms` или библиотекой [albumentations](https://github.com/albumentations-team/albumentations)\n",
    " - Можно обучать с нуля или файнтюнить (в зависимости от задания) модели из `torchvision`.\n",
    " - Рекомендуем написать вам сначала класс-датасет (или воспользоваться классом `ImageFolder`), который возвращает картинки и соответствующие им классы, а затем функции для трейна по шаблонам ниже. Однако делать это мы не заставляем. Если вам так неудобно, то можете писать код в удобном стиле. Однако учтите, что чрезмерное изменение нижеперечисленных шаблонов увеличит количество вопросов к вашему коду и повысит вероятность вызова на защиту :)\n",
    " - Валидируйте. Трекайте ошибки как можно раньше, чтобы не тратить время впустую.\n",
    " - Чтобы быстро отладить код, пробуйте обучаться на маленькой части датасета (скажем, 5-10 картинок просто чтобы убедиться что код запускается). Когда вы поняли, что смогли всё отдебажить, переходите обучению по всему датасету\n",
    " - На каждый запуск делайте ровно одно изменение в модели/аугментации/оптимайзере, чтобы понять, что и как влияет на результат.\n",
    " - Фиксируйте random seed.\n",
    " - Начинайте с простых моделей и постепенно переходите к сложным. Обучение лёгких моделей экономит много времени.\n",
    " - Ставьте расписание на learning rate. Уменьшайте его, когда лосс на валидации перестаёт убывать.\n",
    " - Советуем использовать GPU. Если у вас его нет, используйте google colab. Если вам неудобно его использовать на постоянной основе, напишите и отладьте весь код локально на CPU, а затем запустите уже написанный ноутбук в колабе. Авторское решение задания достигает требуемой точности в колабе за 15 минут обучения.\n",
    " \n",
    "Good luck & have fun! :)"
   ]
  },
  {
   "cell_type": "code",
   "execution_count": null,
   "metadata": {},
   "outputs": [],
   "source": [
    "import os\n",
    "import abc\n",
    "import time\n",
    "import typing\n",
    "import random\n",
    "import warnings\n",
    "\n",
    "import PIL\n",
    "import tqdm\n",
    "import torch\n",
    "import wandb\n",
    "import numpy\n",
    "import pandas\n",
    "import torchscan\n",
    "import torchvision\n",
    "import sklearn.metrics\n",
    "import matplotlib.pyplot as plt\n",
    "import torch.utils.data as torchdata\n",
    "from torchvision.transforms import v2 as transforms\n",
    "\n",
    "device = torch.device(\n",
    "    \"cuda\" if torch.cuda.is_available()\n",
    "    else \"mps\" if torch.backends.mps.is_available()\n",
    "    else \"cpu\"\n",
    ")\n",
    "print(device)\n",
    "\n",
    "RANDOM_STATE = 42\n",
    "def set_random_seed(seed):\n",
    "    random.seed(seed)\n",
    "    os.environ[\"PYTHONHASHSEED\"] = str(seed)\n",
    "    numpy.random.seed(seed)\n",
    "    torch.manual_seed(seed)\n",
    "    torch.cuda.manual_seed(seed)\n",
    "    torch.backends.cudnn.deterministic = True\n",
    "def fix_random():\n",
    "    return set_random_seed(RANDOM_STATE)\n",
    "fix_random()"
   ]
  },
  {
   "cell_type": "code",
   "execution_count": null,
   "metadata": {},
   "outputs": [],
   "source": [
    "wandb.login(anonymous = \"allow\")"
   ]
  },
  {
   "cell_type": "markdown",
   "metadata": {},
   "source": [
    "**✨ Внимание ✨**\n",
    "\n",
    "В этом домашнем задании предлагается использовать библиотеку `pytorch_lightning`. Доступ к ее [документации](https://lightning.ai/docs/pytorch/stable/) заблокирован с территории РФ. Вы можете:\n",
    "\n",
    "1. Получить к ней доступ с помощью VPN.\n",
    "\n",
    "2. Собрать документацию самостоятельно. Для этого склонируйте [github-репозиторий](https://github.com/Lightning-AI/lightning/tree/master), запустите в нем терминал (на windows – git bash) и выполните команды:\n",
    "\n",
    "```shell\n",
    "git submodule update --init --recursive\n",
    "make docs\n",
    "```\n",
    "После этого откройте появившийся файл `docs/build/html/index.html`. Для работы команд в вашем окружении должен быть `pip`. Полная инструкция [по ссылке](https://github.com/Lightning-AI/lightning/tree/master/docs).\n",
    "\n",
    "3. Гуглить `<error message> pytorch lightning` или `<how to do this> pytorch lightning`. Stack overflow на территории РФ все еще доступен 😉\n",
    "\n",
    "4. Не пользоваться `pytorch_lightning` и написать цикл обучения модели самостоятельно. Например, по аналогии с функцией `fit` из [семинара 4](https://github.com/hse-ds/iad-deep-learning/blob/master/2023/seminars/04.%20Optim%20%26%20Lightning/04_Optim%26Lightning_solution.ipynb)."
   ]
  },
  {
   "cell_type": "markdown",
   "metadata": {
    "id": "RytEDW0ylRVN"
   },
   "source": [
    "## Задание 0"
   ]
  },
  {
   "cell_type": "markdown",
   "metadata": {
    "id": "2HZECedTvepi"
   },
   "source": [
    "### Что поможет сделать на 10 из 10 (одно задание - 5 баллов)"
   ]
  },
  {
   "cell_type": "markdown",
   "metadata": {
    "id": "dOioHGEiveso"
   },
   "source": [
    "1. Использовать все возможные методы оптимизации и эксперемнтировать с ними.\n",
    "2. Подбор learning rate. Пример из прошлого семинара как это делать: [Как найти lr](https://pytorch-lightning.readthedocs.io/en/1.4.5/advanced/lr_finder.html)\n",
    "\n",
    "```\n",
    "  trainer = pl.Trainer(accelerator=\"gpu\", max_epochs=2, auto_lr_find=True) \n",
    "\n",
    "  trainer.tune(module, train_dataloader, eval_dataloader)\n",
    "\n",
    "  trainer.fit(module, train_dataloader, eval_dataloader))\n",
    "```\n",
    "\n",
    "\n",
    "\n",
    "3. Аугментация данных. [Документация (полезная)](https://pytorch.org/vision/main/transforms.html), а также [библиотека albumentation](https://towardsdatascience.com/getting-started-with-albumentation-winning-deep-learning-image-augmentation-technique-in-pytorch-47aaba0ee3f8)\n",
    "4. Подбор архитектуры модели. \n",
    "5. Можно написать модель руками свою в YourNet, а можно импортировать не предобученную сетку известной архитектуры из модуля torchvision.models. Один из способов как можно сделать: \n",
    "\n",
    "  * `torchvision.models.resnet18(pretrained=False, num_classes=200).to(device)`\n",
    "  * Документация по возможным моделям и как их можно брать: [Документация (полезная)](https://pytorch.org/vision/stable/models.html)\n",
    "6. Правильно нормализовывать данные при создании, пример [тык, но тут и в целом гайд от и до](https://www.pluralsight.com/guides/image-classification-with-pytorch)\n",
    "7. Model Checkpointing. Сохраняйте свой прогресс (модели), чтобы когда что-то пойдет не так вы сможете начать с этого места или просто воспроизвести свои результаты модели, которые обучали. \n",
    " * Пример как можно с wandb тут: [Сохраняем лучшие модели в wandb](https://docs.wandb.ai/guides/integrations/lightning)\n",
    " * По простому можно так: [Сохраняем модели в pytorch дока](https://pytorch.org/tutorials/beginner/saving_loading_models.html)"
   ]
  },
  {
   "cell_type": "markdown",
   "metadata": {
    "id": "WYePsQgNRB-n"
   },
   "source": [
    "### Подготовка данных"
   ]
  },
  {
   "cell_type": "code",
   "execution_count": null,
   "metadata": {},
   "outputs": [],
   "source": [
    "class MysteriousDataset(torchdata.Dataset):\n",
    "    def __init__(\n",
    "            self,\n",
    "            train: bool,\n",
    "            preload: bool = True,\n",
    "            precalculate_transform: bool = True,\n",
    "            transform: typing.Optional[transforms.Compose] = None\n",
    "        ):\n",
    "        self.name = \"train\" if train else \"val\"\n",
    "        self.dataset_src = \"./dataset/{}\".format(self.name)\n",
    "        self.dataset = torchvision.datasets.ImageFolder(self.dataset_src)\n",
    "        self.classes = self.dataset.classes\n",
    "        self.precalculated_transform = None\n",
    "        self.transform = None\n",
    "\n",
    "        if preload or precalculate_transform:\n",
    "            if precalculate_transform:\n",
    "                self.precalculated_transform = transform\n",
    "                self.transform = transform\n",
    "                transform = None\n",
    "            self.images, self.targets = self.load_all(\"Preload {}\".format(self.name))\n",
    "        self.transform = transform\n",
    "\n",
    "    def load_all(self, progress_bar: bool = False):\n",
    "        images = [ ]\n",
    "        targets = [ ]\n",
    "        for record in (tqdm.tqdm(self, desc = progress_bar) if progress_bar else self):\n",
    "            images.append(record[0])\n",
    "            targets.append(record[1])\n",
    "        try: return torch.stack(images), targets\n",
    "        except: return images, targets\n",
    "\n",
    "    def __len__(self):\n",
    "        return len(self.dataset)\n",
    "\n",
    "    def __getitem__(self, idx):\n",
    "        if hasattr(self, 'images') and hasattr(self, 'targets'):\n",
    "            image, target = self.images[idx], self.targets[idx]\n",
    "        else:\n",
    "            image, target = self.dataset[idx]\n",
    "        if self.transform is not None:\n",
    "            image = self.transform(image)\n",
    "        return image, target\n",
    "    \n",
    "    def channel_stats(self):\n",
    "        images, _ = self.load_all()\n",
    "        return torch.mean(images, dim = [0, 2, 3]), torch.std(images, dim = [0, 2, 3])"
   ]
  },
  {
   "cell_type": "code",
   "execution_count": null,
   "metadata": {},
   "outputs": [],
   "source": [
    "transform = transforms.Compose([ transforms.ToImage(), transforms.ToDtype(torch.float32, scale = True) ])\n",
    "\n",
    "no_preload = MysteriousDataset(True, transform = transform, preload = False, precalculate_transform = False)\n",
    "no_precalc = MysteriousDataset(True, transform = transform, preload = True, precalculate_transform = False)\n",
    "preload = MysteriousDataset(True, transform = transform, preload = True, precalculate_transform = True)\n",
    "torch_dataset = torchvision.datasets.ImageFolder(\"./dataset/train\", transform = transform)"
   ]
  },
  {
   "cell_type": "code",
   "execution_count": null,
   "metadata": {},
   "outputs": [],
   "source": [
    "# Check that it is actually faster to loop through the dataset when it is preloaded into RAM\n",
    "def test_loading(*args):\n",
    "    for dataset, desc in args:\n",
    "        loader = torchdata.DataLoader(dataset, batch_size = 256)\n",
    "        for item in tqdm.tqdm(loader, desc = desc):\n",
    "            pass\n",
    "\n",
    "test_loading(\n",
    "    (torch_dataset, 'torch_dataset'),\n",
    "    (no_preload, 'no_preload'),\n",
    "    (no_precalc, 'no_precalc'),\n",
    "    (preload, 'preload')\n",
    ")"
   ]
  },
  {
   "cell_type": "markdown",
   "metadata": {},
   "source": [
    "#### Посчитаем поканальные средние и стандартные отклонения для нормализации данных"
   ]
  },
  {
   "cell_type": "code",
   "execution_count": null,
   "metadata": {},
   "outputs": [],
   "source": [
    "mean, std = preload.channel_stats()\n",
    "print(mean, std)"
   ]
  },
  {
   "cell_type": "code",
   "execution_count": null,
   "metadata": {},
   "outputs": [],
   "source": [
    "del torch_dataset\n",
    "del no_preload\n",
    "del no_precalc\n",
    "del preload"
   ]
  },
  {
   "cell_type": "markdown",
   "metadata": {},
   "source": [
    "#### Создадим датасеты"
   ]
  },
  {
   "cell_type": "code",
   "execution_count": null,
   "metadata": {},
   "outputs": [],
   "source": [
    "fix_random()\n",
    "\n",
    "# Transforms\n",
    "transform = transforms.Compose([\n",
    "    transforms.ToImage(),\n",
    "    transforms.ToDtype(torch.float32, scale = True),\n",
    "    transforms.Normalize(mean, std)\n",
    "])\n",
    "\n",
    "# Load datasets\n",
    "train_set = MysteriousDataset(train = True, preload = True, precalculate_transform = True, transform = transform)\n",
    "test_set = MysteriousDataset(train = False, preload = True, precalculate_transform = True, transform = transform)\n",
    "\n",
    "# Check\n",
    "print(len(train_set), len(test_set))\n",
    "\n",
    "# Just very simple sanity checks\n",
    "assert isinstance(train_set[0], tuple)\n",
    "assert len(train_set[0]) == 2\n",
    "assert isinstance(train_set[1][1], int)\n",
    "assert isinstance(train_set[1][0], torch.Tensor)\n",
    "assert train_set[1][0].shape == torch.Size([ 3, 64, 64 ])\n",
    "print(\"Dataset tests passed\")\n",
    "\n",
    "for images, targets in torchdata.DataLoader(train_set, batch_size = 256):\n",
    "    assert isinstance(images, torch.Tensor)\n",
    "    assert isinstance(targets, torch.Tensor)\n",
    "    assert images.shape == torch.Size([ 256, 3, 64, 64 ])\n",
    "    assert targets.shape == torch.Size([ 256 ])\n",
    "    print(\"DataLoader tests passed\")\n",
    "    break"
   ]
  },
  {
   "cell_type": "markdown",
   "metadata": {
    "id": "EOuM0EEYj7Ml"
   },
   "source": [
    "### Посмотрим на картиночки"
   ]
  },
  {
   "cell_type": "code",
   "execution_count": null,
   "metadata": {},
   "outputs": [],
   "source": [
    "fix_random()\n",
    "\n",
    "# Denormalization\n",
    "denormalize = transforms.Compose([\n",
    "    transforms.Normalize(mean = [ 0., 0., 0. ], std = 1 / std),\n",
    "    transforms.Normalize(mean = -mean, std = [ 1., 1., 1. ])\n",
    "])\n",
    "\n",
    "# Display some samples from each dataset\n",
    "def display_examples(dataset: MysteriousDataset, row: int):\n",
    "    train_loader = torchdata.DataLoader(dataset, batch_size = 10, shuffle = True)\n",
    "    for i, (image, label) in enumerate(zip(*next(iter(train_loader)))):\n",
    "        plt.subplot(3, 10, i + 10 * (row - 1) + 1)\n",
    "        plt.axis('off')\n",
    "        plt.title('{}'.format(label))\n",
    "        plt.imshow((denormalize(image).permute(1, 2, 0).numpy() * 255).astype(numpy.uint8))\n",
    "\n",
    "plt.rcParams[\"figure.figsize\"] = (15, 5)\n",
    "display_examples(train_set, 1)\n",
    "display_examples(test_set, 2)"
   ]
  },
  {
   "cell_type": "markdown",
   "metadata": {
    "id": "LCwKB-3nKm1-"
   },
   "source": [
    "## Задание 1. \n",
    "\n",
    "5 баллов\n",
    "Добейтесь accuracy на валидации не менее 0.44. В этом задании запрещено пользоваться предобученными моделями и ресайзом картинок.\n",
    "\n",
    "\n",
    "Для того чтобы выбить скор (считается ниже) на 2.5/5 балла (то есть половину за задание) достаточно соблюдать пару простых жизненных правил:\n",
    "1. Аугментация (без нее сложно очень будет)\n",
    "2. Оптимайзеры можно (и нужно) использовать друг с другом. Однако когда что-то проверяете, то не меняйте несколько параметров сразу - собьете логику экспериментов\n",
    "3. Не используйте полносвязные модели или самые первые сверточные, используйте более современные архитектуры (что на лекциях встречались)\n",
    "4. Посмотреть все ноутбуки прошедших семинаров и слепить из них что-то общее. Семинарских тетрадок хватит сверх"
   ]
  },
  {
   "cell_type": "code",
   "execution_count": null,
   "metadata": {},
   "outputs": [],
   "source": [
    "class BaseClassifier(abc.ABC):\n",
    "    @abc.abstractmethod\n",
    "    def fit(self, train_set: torchdata.Dataset, val_set: torchdata.Dataset, n_epochs: int = 25):\n",
    "        raise NotImplementedError\n",
    "\n",
    "    @abc.abstractmethod\n",
    "    def predict(self, images: torch.Tensor) -> typing.Tuple[torch.Tensor, torch.Tensor]:\n",
    "        raise NotImplementedError\n",
    "    \n",
    "    def calc_metrics(self, dataset: torchdata.Dataset) -> dict:\n",
    "        all_labels = torch.tensor([])\n",
    "        all_scores = torch.empty((0, len(dataset.classes)))\n",
    "        all_predictions = torch.tensor([])\n",
    "        loader = torchdata.DataLoader(dataset, batch_size = 256, shuffle = False)\n",
    "        for images, labels in loader:\n",
    "            all_labels = torch.cat([ all_labels, labels ])\n",
    "            predictions, scores = self.predict(images)\n",
    "            all_scores = torch.cat([ all_scores, scores.detach().cpu() ])\n",
    "            all_predictions = torch.cat([ all_predictions, predictions.detach().cpu() ])\n",
    "\n",
    "        return {\n",
    "            'Accuracy':       sklearn.metrics.accuracy_score      (all_labels, all_predictions),\n",
    "            'TOP-2 Accuracy': sklearn.metrics.top_k_accuracy_score(all_labels, all_scores, k = 2),\n",
    "            'TOP-3 Accuracy': sklearn.metrics.top_k_accuracy_score(all_labels, all_scores, k = 3),\n",
    "            'TOP-4 Accuracy': sklearn.metrics.top_k_accuracy_score(all_labels, all_scores, k = 4),\n",
    "            'TOP-5 Accuracy': sklearn.metrics.top_k_accuracy_score(all_labels, all_scores, k = 5),\n",
    "            'TOP-6 Accuracy': sklearn.metrics.top_k_accuracy_score(all_labels, all_scores, k = 6),\n",
    "            'TOP-7 Accuracy': sklearn.metrics.top_k_accuracy_score(all_labels, all_scores, k = 7),\n",
    "            'TOP-8 Accuracy': sklearn.metrics.top_k_accuracy_score(all_labels, all_scores, k = 8),\n",
    "            'TOP-9 Accuracy': sklearn.metrics.top_k_accuracy_score(all_labels, all_scores, k = 9),\n",
    "            # 'AUC-ROC':        sklearn.metrics.roc_auc_score       (all_labels, all_scores, multi_class = 'ovo'),\n",
    "            'Precision':      sklearn.metrics.precision_score     (all_labels, all_predictions, average = 'macro', labels = numpy.unique(all_predictions)),\n",
    "            'Recall':         sklearn.metrics.recall_score        (all_labels, all_predictions, average = 'macro', labels = numpy.unique(all_predictions)),\n",
    "            'F1-score':       sklearn.metrics.f1_score            (all_labels, all_predictions, average = 'macro', labels = numpy.unique(all_predictions))\n",
    "        }"
   ]
  },
  {
   "cell_type": "code",
   "execution_count": null,
   "metadata": {},
   "outputs": [],
   "source": [
    "class Classifier(BaseClassifier):\n",
    "    results = [ ]\n",
    "\n",
    "    def __init__(\n",
    "            self,\n",
    "            name: str,\n",
    "            model: torch.nn.Module,\n",
    "            batch_size: int = 256,\n",
    "            learning_rate: int = 1e-3,\n",
    "            device: torch.device = device,\n",
    "            optimizer: typing.Optional[torch.optim.Optimizer] = None,\n",
    "            scheduler: typing.Optional[torch.optim.lr_scheduler.LRScheduler] = None,\n",
    "        ):\n",
    "        self.name = name\n",
    "        self.history = [ ]\n",
    "        self.device = device\n",
    "        self.input_shape = None\n",
    "        self.scheduler = scheduler\n",
    "        self.batch_size = batch_size\n",
    "        self.model = model.to(self.device)\n",
    "        self.optimizer = optimizer or torch.optim.AdamW(self.model.parameters(), lr = learning_rate)\n",
    "\n",
    "\n",
    "    def train(self, images: torch.Tensor, labels: torch.Tensor) -> float:\n",
    "        self.model.train() # Enter train mode\n",
    "        self.optimizer.zero_grad() # Zero gradients\n",
    "        output = self.model(images.to(self.device)) # Get predictions\n",
    "        loss = torch.nn.functional.cross_entropy(output, labels.to(self.device)) # Calculate loss\n",
    "        loss.backward() # Calculate gradients\n",
    "        self.optimizer.step() # Update weights\n",
    "        return loss.item()\n",
    "\n",
    "    def train_epoch(self, loader: torchdata.DataLoader) -> float:\n",
    "        sum_loss = 0\n",
    "        for images, labels in loader:\n",
    "            sum_loss += self.train(images, labels) # Train one batch\n",
    "        if self.scheduler is not None:\n",
    "            self.scheduler.step()\n",
    "        return sum_loss / len(loader) # Return average loss to avoid random-dependent graph\n",
    "       \n",
    "    def fit(self, train_set: torchdata.Dataset, val_set: torchdata.Dataset, n_epochs: int = 25):\n",
    "        if self.input_shape is None:\n",
    "            self.predict(train_set[0][0].unsqueeze(0)) # Initialize lazy layers and input shape\n",
    "        loader = torchdata.DataLoader(train_set, batch_size = self.batch_size, shuffle = True)\n",
    "        wandb.init(project = \"DL-HW-2\", name = self.name, anonymous = \"allow\")\n",
    "        wandb.watch(self.model, log = \"all\")\n",
    "        for epoch in tqdm.trange(n_epochs, desc = 'Epochs'):\n",
    "            # Train\n",
    "            train_start = time.perf_counter()\n",
    "            loss = self.train_epoch(loader)\n",
    "            train_time = time.perf_counter() - train_start\n",
    "\n",
    "            # Validate\n",
    "            val_start = time.perf_counter()\n",
    "            metrics = self.calc_metrics(val_set)\n",
    "            val_time = time.perf_counter() - val_start\n",
    "            \n",
    "            # Upload metrics\n",
    "            metrics['Validation time'] = val_time\n",
    "            metrics['Train time'] = train_time\n",
    "            metrics['Loss'] = loss\n",
    "            wandb.log(metrics)\n",
    "            metrics['Epoch'] = epoch + 1\n",
    "            self.history.append(metrics)\n",
    "\n",
    "        # Finish the run\n",
    "        wandb.finish(quiet = True)\n",
    "\n",
    "        # Store best metrics\n",
    "        self.best_metrics = max(self.history, key = lambda item: item['Accuracy'])\n",
    "        Classifier.results.append({ 'Name': self.name, **self.best_metrics })\n",
    "\n",
    "        return self\n",
    "    \n",
    "\n",
    "    def predict(self, images: torch.Tensor) -> typing.Tuple[torch.Tensor, torch.Tensor]:\n",
    "        if self.input_shape is None:\n",
    "            self.input_shape = images[0].shape # Lazily initialize input shape\n",
    "        self.model.eval() # Enter evaluation mode\n",
    "        with torch.no_grad():\n",
    "            outputs = self.model(images.to(self.device)) # Get outputs\n",
    "            scores = torch.softmax(outputs, dim = 1) # Make probabilities\n",
    "            predictions = torch.argmax(scores, dim = 1) # Calculate predictions\n",
    "        return predictions, scores\n",
    "    \n",
    "\n",
    "    def summary(self):\n",
    "        warnings.filterwarnings(\"ignore\")\n",
    "        display(pandas.DataFrame(Classifier.results))\n",
    "        torchscan.summary(self.model.eval(), self.input_shape, receptive_field = True)"
   ]
  },
  {
   "cell_type": "markdown",
   "metadata": {},
   "source": [
    "### TODO: эксперименты"
   ]
  },
  {
   "cell_type": "markdown",
   "metadata": {},
   "source": [
    "### Итоговая модель"
   ]
  },
  {
   "cell_type": "code",
   "execution_count": null,
   "metadata": {},
   "outputs": [],
   "source": [
    "fix_random()\n",
    "model = torch.nn.Sequential(\n",
    "    torch.nn.Conv2d(in_channels = 3, out_channels = 16, kernel_size = 3, padding = 1), torch.nn.BatchNorm2d(16), torch.nn.GELU(), torch.nn.MaxPool2d(2, 2),\n",
    "    torch.nn.Conv2d(in_channels = 16, out_channels = 32, kernel_size = 3, padding = 1), torch.nn.BatchNorm2d(32), torch.nn.GELU(), torch.nn.MaxPool2d(2, 2),\n",
    "    torch.nn.Conv2d(in_channels = 32, out_channels = 64, kernel_size = 3, padding = 1), torch.nn.BatchNorm2d(64), torch.nn.GELU(),\n",
    "    torch.nn.Conv2d(in_channels = 64, out_channels = 128, kernel_size = 3, padding = 1), torch.nn.BatchNorm2d(128), torch.nn.GELU(), torch.nn.MaxPool2d(2, 2),\n",
    "    torch.nn.Conv2d(in_channels = 128, out_channels = 256, kernel_size = 3, padding = 1), torch.nn.BatchNorm2d(256), torch.nn.GELU(),\n",
    "    torch.nn.Conv2d(in_channels = 256, out_channels = 512, kernel_size = 3, padding = 1), torch.nn.BatchNorm2d(512), torch.nn.GELU(), torch.nn.MaxPool2d(2, 2),\n",
    "\n",
    "    torch.nn.Flatten(), torch.nn.Dropout(0.5), torch.nn.LazyLinear(1024), torch.nn.BatchNorm1d(1024), torch.nn.GELU(),\n",
    "    torch.nn.Dropout(0.5), torch.nn.Linear(1024, 200)\n",
    ")\n",
    "final_model = Classifier('First model', model).fit(train_set, test_set, 25)\n",
    "accuracy = final_model.calc_metrics(test_set)['Accuracy']\n",
    "print(f\"Оценка за это задание составит {numpy.clip(10 * accuracy / 0.44, 0, 10):.2f} баллов\")"
   ]
  },
  {
   "cell_type": "markdown",
   "metadata": {
    "id": "cZqSdlQQKukS"
   },
   "source": [
    "## Задание 2\n",
    "\n",
    "5 баллов\n",
    "Добейтесь accuracy на валидации не менее 0.84. В этом задании делать ресайз и использовать претрейн можно.\n",
    "\n",
    "Для того чтобы выбить скор (считается ниже) на 2.5/5 балла (то есть половину за задание) достаточно соблюдать пару простых жизненных правил:\n",
    "1. Аугментация (без нее сложно очень будет)\n",
    "2. Оптимайзеры можно (и нужно) использовать друг с другом. Однако когда что-то проверяете, то не меняйте несколько параметров сразу - собьете логику экспериментов\n",
    "3. Не используйте полносвязные модели или самые первые сверточные, используйте более современные архитектуры (что на лекциях встречались или можете пойти дальше).\n",
    "4. Попробуйте сначала посмотреть качество исходной модели без дообучения, сохраните как baseline. Отсюда поймете какие слои нужно дообучать.\n",
    "5. Посмотреть все ноутбуки прошедших семинаров и слепить из них что-то общее. Семинарских тетрадок хватит сверх"
   ]
  },
  {
   "cell_type": "code",
   "execution_count": null,
   "metadata": {},
   "outputs": [],
   "source": [
    "# Feels like I can achieve needed quality without augmentation, so let's just extract and store features of all images beforehand\n",
    "class FeaturesDataset(torchdata.StackDataset):\n",
    "    def __init__(\n",
    "            self,\n",
    "            dataset: torchdata.Dataset,\n",
    "            extractor_weights: torchvision.models.WeightsEnum,\n",
    "            extractor_builder: typing.Callable[[], torch.nn.Module],\n",
    "            batch_size: int = 256,\n",
    "            extractor_device: torch.device = device\n",
    "        ):\n",
    "        self.name = 'Features for {}'.format(dataset.name if 'name' in dataset else 'undefined')\n",
    "\n",
    "        # If it is already a dataset of features, return\n",
    "        if isinstance(dataset, FeaturesDataset):\n",
    "            return super().__init__(dataset)\n",
    "\n",
    "        # https://github.com/pytorch/vision/issues/7744\n",
    "        def get_state_dict(self, *args, **kwargs):\n",
    "            kwargs.pop(\"check_hash\")\n",
    "            return torch.hub.load_state_dict_from_url(self.url, *args, **kwargs)\n",
    "        torchvision.models._api.WeightsEnum.get_state_dict = get_state_dict\n",
    "\n",
    "        # Load a pretrained model\n",
    "        self.extractor_device = extractor_device\n",
    "        self.extractor_weights = extractor_weights\n",
    "        self.extractor = extractor_builder(weights = self.extractor_weights)\n",
    "        last_layer = list(self.extractor.named_children())[-1]\n",
    "        self.extractor[last_layer[0]] = torch.nn.Identity()\n",
    "        self.extractor.to(self.extractor_device).eval()\n",
    "        print(last_layer)\n",
    "        \n",
    "        save_transform = dataset.transform if 'transform' in dataset else None\n",
    "        dataset.transform = None\n",
    "        assert isinstance(dataset[0][0], PIL.Image) # Without transsforms it should return PIL.Image\n",
    "        dataset.transform = self.extractor_weights.transforms() # Set transforms from pretrained model\n",
    "\n",
    "        with torch.no_grad():\n",
    "            targets = [ ]\n",
    "            features = [ ]\n",
    "            loader = torchdata.DataLoader(dataset, batch_size = batch_size)\n",
    "            for images_batch, targets_batch in tqdm.tqdm(loader, desc = self.name):\n",
    "                features_batch = self.extractor(images_batch.to(self.extractor_device))\n",
    "                features.append(features_batch.to('cpu'))\n",
    "                targets.append(targets_batch)\n",
    "\n",
    "        dataset.transform = save_transform # Restore transforms of the base dataset\n",
    "        super().__init__(torch.cat(features), torch.cat(targets)) # Initialize StackDataset"
   ]
  },
  {
   "cell_type": "markdown",
   "metadata": {},
   "source": [
    "### TODO: эксперименты"
   ]
  },
  {
   "cell_type": "markdown",
   "metadata": {},
   "source": [
    "### Итоговая модель"
   ]
  },
  {
   "cell_type": "code",
   "execution_count": null,
   "metadata": {},
   "outputs": [],
   "source": [
    "fix_random()\n",
    "builder = torchvision.models.resnext101_64x4d\n",
    "weights = torchvision.models.ResNeXt101_64X4D_Weights.IMAGENET1K_V1\n",
    "train_features = FeaturesDataset(train_set, weights, builder)\n",
    "test_features = FeaturesDataset(test_set, weights, builder)\n",
    "\n",
    "model = torch.nn.Sequential(torch.nn.Linear(2048, 1024), torch.nn.GELU(), torch.nn.Linear(1024, 200))\n",
    "final_model = Classifier('resnext101_64x4d', model, learning_rate = 3e-5).fit(train_features, test_features, 25)\n",
    "accuracy = final_model.calc_metrics(test_features)['Accuracy']\n",
    "print(f\"Оценка за это задание составит {numpy.clip(10 * (accuracy - 0.5) / 0.34, 0, 10):.2f} баллов\")"
   ]
  },
  {
   "cell_type": "markdown",
   "metadata": {
    "cell_id": 15,
    "id": "pT8vfPSolRVb"
   },
   "source": [
    "# Отчёт об экспериментах \n",
    "\n",
    "текст писать тут (или ссылочку на wandb/любой трекер экспреиментов) для каждого задания, то есть не обязательно именно тут рисовать графики, если вы используете готовые трекеры/мониторинги ваших моделей."
   ]
  },
  {
   "cell_type": "markdown",
   "metadata": {},
   "source": [
    "TODO"
   ]
  }
 ],
 "metadata": {
  "colab": {
   "collapsed_sections": [],
   "provenance": [],
   "toc_visible": true
  },
  "kernelspec": {
   "display_name": "Python 3",
   "language": "python",
   "name": "python3"
  },
  "language_info": {
   "codemirror_mode": {
    "name": "ipython",
    "version": 3
   },
   "file_extension": ".py",
   "mimetype": "text/x-python",
   "name": "python",
   "nbconvert_exporter": "python",
   "pygments_lexer": "ipython3",
   "version": "3.11.5"
  },
  "max_cell_id": 35
 },
 "nbformat": 4,
 "nbformat_minor": 0
}
