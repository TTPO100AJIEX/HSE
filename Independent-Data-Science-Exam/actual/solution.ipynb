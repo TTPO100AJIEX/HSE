{
 "cells": [
  {
   "cell_type": "code",
   "execution_count": 283,
   "metadata": {},
   "outputs": [
    {
     "data": {
      "image/png": "[encoded data removed]",
      "text/plain": [
       "<Figure size 640x480 with 1 Axes>"
      ]
     },
     "metadata": {},
     "output_type": "display_data"
    },
    {
     "data": {
      "text/plain": [
       "<sympy.plotting.plot.Plot at 0x167ee0f7340>"
      ]
     },
     "execution_count": 283,
     "metadata": {},
     "output_type": "execute_result"
    }
   ],
   "source": [
    "import numpy\n",
    "\n",
    "\n",
    "import sympy\n",
    "\n",
    "x = sympy.Symbol('x')\n",
    "\n",
    "sympy.plot(1 * (sympy.E ** (-1 * x)), (x, 0, 5))"
   ]
  },
  {
   "cell_type": "code",
   "execution_count": 284,
   "metadata": {},
   "outputs": [
    {
     "data": {
      "text/latex": [
       "$\\displaystyle 0.0855482148687488$"
      ],
      "text/plain": [
       "0.0855482148687488"
      ]
     },
     "execution_count": 284,
     "metadata": {},
     "output_type": "execute_result"
    }
   ],
   "source": [
    "(1 * (sympy.E ** (-1 * 2)) - 1 * (sympy.E ** (-1 * 3))).evalf()"
   ]
  },
  {
   "cell_type": "code",
   "execution_count": 285,
   "metadata": {},
   "outputs": [
    {
     "data": {
      "text/latex": [
       "$\\displaystyle 0.993262053000915$"
      ],
      "text/plain": [
       "0.993262053000915"
      ]
     },
     "execution_count": 285,
     "metadata": {},
     "output_type": "execute_result"
    }
   ],
   "source": [
    "f = (1 * (sympy.E ** (-1 * x)))\n",
    "sympy.integrate(f, (x, 0, 5)).evalf()"
   ]
  },
  {
   "cell_type": "code",
   "execution_count": 286,
   "metadata": {},
   "outputs": [
    {
     "data": {
      "text/plain": [
       "1.25"
      ]
     },
     "execution_count": 286,
     "metadata": {},
     "output_type": "execute_result"
    }
   ],
   "source": [
    "2 * 0.5 + 1 * 0.25 + 0 * 0.25"
   ]
  },
  {
   "cell_type": "code",
   "execution_count": 287,
   "metadata": {},
   "outputs": [
    {
     "data": {
      "text/html": [
       "<div>\n",
       "<style scoped>\n",
       "    .dataframe tbody tr th:only-of-type {\n",
       "        vertical-align: middle;\n",
       "    }\n",
       "\n",
       "    .dataframe tbody tr th {\n",
       "        vertical-align: top;\n",
       "    }\n",
       "\n",
       "    .dataframe thead th {\n",
       "        text-align: right;\n",
       "    }\n",
       "</style>\n",
       "<table border=\"1\" class=\"dataframe\">\n",
       "  <thead>\n",
       "    <tr style=\"text-align: right;\">\n",
       "      <th></th>\n",
       "      <th>0</th>\n",
       "      <th>1</th>\n",
       "    </tr>\n",
       "  </thead>\n",
       "  <tbody>\n",
       "    <tr>\n",
       "      <th>0</th>\n",
       "      <td>1.0</td>\n",
       "      <td>-0.5</td>\n",
       "    </tr>\n",
       "    <tr>\n",
       "      <th>1</th>\n",
       "      <td>-0.5</td>\n",
       "      <td>1.0</td>\n",
       "    </tr>\n",
       "  </tbody>\n",
       "</table>\n",
       "</div>"
      ],
      "text/plain": [
       "     0    1\n",
       "0  1.0 -0.5\n",
       "1 -0.5  1.0"
      ]
     },
     "execution_count": 287,
     "metadata": {},
     "output_type": "execute_result"
    }
   ],
   "source": [
    "import pandas\n",
    "\n",
    "pandas.DataFrame([\n",
    "    [ 1, 7 ],\n",
    "    [ 2, 1 ],\n",
    "    [ 3, 4 ]\n",
    "]).corr('spearman')"
   ]
  },
  {
   "cell_type": "code",
   "execution_count": 288,
   "metadata": {},
   "outputs": [
    {
     "data": {
      "text/html": [
       "<div>\n",
       "<style scoped>\n",
       "    .dataframe tbody tr th:only-of-type {\n",
       "        vertical-align: middle;\n",
       "    }\n",
       "\n",
       "    .dataframe tbody tr th {\n",
       "        vertical-align: top;\n",
       "    }\n",
       "\n",
       "    .dataframe thead th {\n",
       "        text-align: right;\n",
       "    }\n",
       "</style>\n",
       "<table border=\"1\" class=\"dataframe\">\n",
       "  <thead>\n",
       "    <tr style=\"text-align: right;\">\n",
       "      <th></th>\n",
       "      <th>0</th>\n",
       "      <th>1</th>\n",
       "    </tr>\n",
       "  </thead>\n",
       "  <tbody>\n",
       "    <tr>\n",
       "      <th>0</th>\n",
       "      <td>1</td>\n",
       "      <td>4</td>\n",
       "    </tr>\n",
       "    <tr>\n",
       "      <th>1</th>\n",
       "      <td>2</td>\n",
       "      <td>5</td>\n",
       "    </tr>\n",
       "    <tr>\n",
       "      <th>2</th>\n",
       "      <td>3</td>\n",
       "      <td>6</td>\n",
       "    </tr>\n",
       "  </tbody>\n",
       "</table>\n",
       "</div>"
      ],
      "text/plain": [
       "   0  1\n",
       "0  1  4\n",
       "1  2  5\n",
       "2  3  6"
      ]
     },
     "execution_count": 288,
     "metadata": {},
     "output_type": "execute_result"
    }
   ],
   "source": [
    "pandas.DataFrame([\n",
    "    [ 1, 4 ],\n",
    "    [ 2, 5 ],\n",
    "    [ 3, 6 ]\n",
    "])"
   ]
  },
  {
   "cell_type": "code",
   "execution_count": 289,
   "metadata": {},
   "outputs": [
    {
     "data": {
      "text/plain": [
       "16"
      ]
     },
     "execution_count": 289,
     "metadata": {},
     "output_type": "execute_result"
    }
   ],
   "source": [
    "2 ** 4"
   ]
  },
  {
   "cell_type": "code",
   "execution_count": 290,
   "metadata": {},
   "outputs": [
    {
     "data": {
      "text/plain": [
       "8.0"
      ]
     },
     "execution_count": 290,
     "metadata": {},
     "output_type": "execute_result"
    }
   ],
   "source": [
    "(800 * 600 * 8) / (400 * 300 * 4)"
   ]
  },
  {
   "cell_type": "markdown",
   "metadata": {},
   "source": [
    "Задача 12 некорректна. \\\n",
    "F1-score = 0.7 невозможен при precision в 1.5 раза больше recall!"
   ]
  },
  {
   "cell_type": "markdown",
   "metadata": {},
   "source": [
    "iads@hse.ru"
   ]
  },
  {
   "cell_type": "markdown",
   "metadata": {},
   "source": [
    "\n",
    "![Alternative Text][1718019621311]\n",
    "\n",
    "[1718019621311]:data:image/png;base64,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"
   ]
  },
  {
   "cell_type": "code",
   "execution_count": 1,
   "metadata": {},
   "outputs": [
    {
     "name": "stdout",
     "output_type": "stream",
     "text": [
      "5\n",
      "0.5104166666666667\n",
      "4.083333333333333\n",
      "2.552083333333334\n",
      "0.6250000000000002\n",
      "0.63\n"
     ]
    }
   ],
   "source": [
    "r = 7 / 12\n",
    "p = 7 / 8\n",
    "\n",
    "x1 = 5\n",
    "x2 = r * p\n",
    "x3 = 4*p + r\n",
    "res1 = x1 * x2\n",
    "res2 = res1 / x3\n",
    "res = x1*x2/x3\n",
    "\n",
    "print(x1)\n",
    "print(x2)\n",
    "print(x3)\n",
    "print(res1)\n",
    "print(res2)\n",
    "print(round(res, 2))"
   ]
  },
  {
   "cell_type": "code",
   "execution_count": 2,
   "metadata": {},
   "outputs": [
    {
     "data": {
      "text/plain": [
       "0.35000000000000003"
      ]
     },
     "execution_count": 2,
     "metadata": {},
     "output_type": "execute_result"
    }
   ],
   "source": [
    "(p * r) / (p + r)"
   ]
  },
  {
   "cell_type": "code",
   "execution_count": 346,
   "metadata": {},
   "outputs": [
    {
     "data": {
      "text/plain": [
       "[1.16666666666667]"
      ]
     },
     "execution_count": 346,
     "metadata": {},
     "output_type": "execute_result"
    }
   ],
   "source": [
    "x = sympy.Symbol('x')\n",
    "eq = sympy.Eq((1.5 * x * x) / (1.5 * x + x), 0.7)\n",
    "sympy.solve(eq)"
   ]
  },
  {
   "cell_type": "code",
   "execution_count": 292,
   "metadata": {},
   "outputs": [
    {
     "name": "stdout",
     "output_type": "stream",
     "text": [
      "1.75 1.1666666666666667\n",
      "0.7000000000000001\n",
      "1.2500000000000004\n"
     ]
    }
   ],
   "source": [
    "rec = 0.7 * 2.5 / 1.5\n",
    "pr = 1.5 * rec\n",
    "print(pr, rec)\n",
    "print((pr * rec) / (pr + rec))\n",
    "print(5 * (pr * rec) / (4 * pr + rec))"
   ]
  },
  {
   "cell_type": "code",
   "execution_count": 293,
   "metadata": {},
   "outputs": [
    {
     "data": {
      "text/plain": [
       "1.25"
      ]
     },
     "execution_count": 293,
     "metadata": {},
     "output_type": "execute_result"
    }
   ],
   "source": [
    "5 * (7 / 4 * 7 / 6) / (7 + 7 / 6)"
   ]
  },
  {
   "cell_type": "code",
   "execution_count": 294,
   "metadata": {},
   "outputs": [
    {
     "name": "stdout",
     "output_type": "stream",
     "text": [
      "1.3\n",
      "1.2999999999999998\n",
      "0.9000000000000001\n",
      "0.3500000000000001\n",
      "0.5999999999999999\n",
      "0.30000000000000027\n",
      "1.5999999999999999\n",
      "1.05\n"
     ]
    },
    {
     "data": {
      "text/plain": [
       "5"
      ]
     },
     "execution_count": 294,
     "metadata": {},
     "output_type": "execute_result"
    }
   ],
   "source": [
    "items = [\n",
    "    (0.7, 3),\n",
    "    (1, 3.3),\n",
    "    (0.8, 2),\n",
    "    (1.1, 2.25),\n",
    "    (1.4, 1.8),\n",
    "    (1.6, 2.3),\n",
    "    (1.8, 3.5),\n",
    "    (1.75, 1.7)\n",
    "]\n",
    "\n",
    "dists = [ ]\n",
    "for item in items:\n",
    "    coords = (1.35, 2.35)\n",
    "    dx = abs(item[0] - coords[0])\n",
    "    dy = abs(item[1] - coords[1])\n",
    "    dists.append(dx + dy)\n",
    "    print(dx + dy)\n",
    "\n",
    "numpy.argmin(dists)"
   ]
  },
  {
   "cell_type": "code",
   "execution_count": 295,
   "metadata": {},
   "outputs": [
    {
     "data": {
      "text/plain": [
       "array([0.7 , 1.  , 0.8 , 1.1 , 1.4 , 1.6 , 1.8 , 1.75])"
      ]
     },
     "execution_count": 295,
     "metadata": {},
     "output_type": "execute_result"
    }
   ],
   "source": [
    "numpy.array(items)[:, 0]"
   ]
  },
  {
   "cell_type": "code",
   "execution_count": 296,
   "metadata": {},
   "outputs": [
    {
     "data": {
      "text/plain": [
       "<matplotlib.collections.PathCollection at 0x167f0dc6560>"
      ]
     },
     "execution_count": 296,
     "metadata": {},
     "output_type": "execute_result"
    },
    {
     "data": {
      "image/png": "[encoded data removed]",
      "text/plain": [
       "<Figure size 640x480 with 1 Axes>"
      ]
     },
     "metadata": {},
     "output_type": "display_data"
    }
   ],
   "source": [
    "import matplotlib.pyplot as plt\n",
    "\n",
    "plt.scatter(\n",
    "    numpy.array(items)[:, 0],\n",
    "    numpy.array(items)[:, 1],\n",
    "    c = [\n",
    "        'blue',\n",
    "        'blue',\n",
    "        'blue',\n",
    "        'blue',\n",
    "        'red',\n",
    "        'red',\n",
    "        'red',\n",
    "        'red'\n",
    "    ]\n",
    ")\n",
    "plt.scatter([ 1.35 ], [ 2.35 ])"
   ]
  },
  {
   "cell_type": "code",
   "execution_count": 297,
   "metadata": {},
   "outputs": [
    {
     "name": "stdout",
     "output_type": "stream",
     "text": [
      "[-2.5  0.  -0.5  1.   4. ]\n"
     ]
    },
    {
     "data": {
      "text/plain": [
       "8.0"
      ]
     },
     "execution_count": 297,
     "metadata": {},
     "output_type": "execute_result"
    }
   ],
   "source": [
    "a=numpy.array([1,2,-1,2,4])\n",
    "b=numpy.array((1.5, 2, 2.5, 2,4))\n",
    "c=numpy.array((5,4,2,3,4))\n",
    "ans = a + b - c\n",
    "print(ans)\n",
    "numpy.linalg.norm(ans, 1)"
   ]
  },
  {
   "cell_type": "code",
   "execution_count": 298,
   "metadata": {},
   "outputs": [
    {
     "name": "stdout",
     "output_type": "stream",
     "text": [
      "0.3333333333333333 0.6666666666666667\n"
     ]
    }
   ],
   "source": [
    "ok = 1 / 3\n",
    "notok = 1 - 1 / 3\n",
    "print(ok, notok)"
   ]
  },
  {
   "cell_type": "code",
   "execution_count": 299,
   "metadata": {},
   "outputs": [
    {
     "data": {
      "text/plain": [
       "0.3950617283950618"
      ]
     },
     "execution_count": 299,
     "metadata": {},
     "output_type": "execute_result"
    }
   ],
   "source": [
    "(ok * (notok ** 3)) * 4"
   ]
  },
  {
   "cell_type": "code",
   "execution_count": 300,
   "metadata": {},
   "outputs": [
    {
     "data": {
      "text/html": [
       "<div>\n",
       "<style scoped>\n",
       "    .dataframe tbody tr th:only-of-type {\n",
       "        vertical-align: middle;\n",
       "    }\n",
       "\n",
       "    .dataframe tbody tr th {\n",
       "        vertical-align: top;\n",
       "    }\n",
       "\n",
       "    .dataframe thead th {\n",
       "        text-align: right;\n",
       "    }\n",
       "</style>\n",
       "<table border=\"1\" class=\"dataframe\">\n",
       "  <thead>\n",
       "    <tr style=\"text-align: right;\">\n",
       "      <th></th>\n",
       "      <th>work_year</th>\n",
       "      <th>experience_level</th>\n",
       "      <th>employment_type</th>\n",
       "      <th>job_title</th>\n",
       "      <th>salary_currency</th>\n",
       "      <th>employee_residence</th>\n",
       "      <th>remote_ratio</th>\n",
       "      <th>company_location</th>\n",
       "      <th>company_size</th>\n",
       "      <th>salary_in_usd</th>\n",
       "    </tr>\n",
       "  </thead>\n",
       "  <tbody>\n",
       "    <tr>\n",
       "      <th>0</th>\n",
       "      <td>2022</td>\n",
       "      <td>MI</td>\n",
       "      <td>CT</td>\n",
       "      <td>NLP Engineer</td>\n",
       "      <td>USD</td>\n",
       "      <td>IN</td>\n",
       "      <td>100</td>\n",
       "      <td>US</td>\n",
       "      <td>S</td>\n",
       "      <td>60000</td>\n",
       "    </tr>\n",
       "    <tr>\n",
       "      <th>1</th>\n",
       "      <td>2022</td>\n",
       "      <td>SE</td>\n",
       "      <td>FT</td>\n",
       "      <td>Data Engineer</td>\n",
       "      <td>USD</td>\n",
       "      <td>US</td>\n",
       "      <td>0</td>\n",
       "      <td>US</td>\n",
       "      <td>M</td>\n",
       "      <td>172200</td>\n",
       "    </tr>\n",
       "    <tr>\n",
       "      <th>2</th>\n",
       "      <td>2022</td>\n",
       "      <td>SE</td>\n",
       "      <td>FT</td>\n",
       "      <td>Data Analyst</td>\n",
       "      <td>USD</td>\n",
       "      <td>US</td>\n",
       "      <td>100</td>\n",
       "      <td>US</td>\n",
       "      <td>M</td>\n",
       "      <td>127000</td>\n",
       "    </tr>\n",
       "    <tr>\n",
       "      <th>3</th>\n",
       "      <td>2023</td>\n",
       "      <td>SE</td>\n",
       "      <td>FT</td>\n",
       "      <td>Data Engineer</td>\n",
       "      <td>USD</td>\n",
       "      <td>US</td>\n",
       "      <td>0</td>\n",
       "      <td>US</td>\n",
       "      <td>M</td>\n",
       "      <td>180000</td>\n",
       "    </tr>\n",
       "    <tr>\n",
       "      <th>4</th>\n",
       "      <td>2023</td>\n",
       "      <td>EN</td>\n",
       "      <td>FT</td>\n",
       "      <td>Data Engineer</td>\n",
       "      <td>USD</td>\n",
       "      <td>US</td>\n",
       "      <td>100</td>\n",
       "      <td>US</td>\n",
       "      <td>M</td>\n",
       "      <td>62000</td>\n",
       "    </tr>\n",
       "    <tr>\n",
       "      <th>...</th>\n",
       "      <td>...</td>\n",
       "      <td>...</td>\n",
       "      <td>...</td>\n",
       "      <td>...</td>\n",
       "      <td>...</td>\n",
       "      <td>...</td>\n",
       "      <td>...</td>\n",
       "      <td>...</td>\n",
       "      <td>...</td>\n",
       "      <td>...</td>\n",
       "    </tr>\n",
       "    <tr>\n",
       "      <th>2811</th>\n",
       "      <td>2023</td>\n",
       "      <td>SE</td>\n",
       "      <td>FT</td>\n",
       "      <td>Machine Learning Engineer</td>\n",
       "      <td>USD</td>\n",
       "      <td>US</td>\n",
       "      <td>100</td>\n",
       "      <td>US</td>\n",
       "      <td>M</td>\n",
       "      <td>150000</td>\n",
       "    </tr>\n",
       "    <tr>\n",
       "      <th>2812</th>\n",
       "      <td>2023</td>\n",
       "      <td>SE</td>\n",
       "      <td>FT</td>\n",
       "      <td>Data Analyst</td>\n",
       "      <td>USD</td>\n",
       "      <td>US</td>\n",
       "      <td>0</td>\n",
       "      <td>US</td>\n",
       "      <td>M</td>\n",
       "      <td>180180</td>\n",
       "    </tr>\n",
       "    <tr>\n",
       "      <th>2813</th>\n",
       "      <td>2023</td>\n",
       "      <td>EX</td>\n",
       "      <td>FT</td>\n",
       "      <td>Data Engineer</td>\n",
       "      <td>USD</td>\n",
       "      <td>US</td>\n",
       "      <td>100</td>\n",
       "      <td>US</td>\n",
       "      <td>M</td>\n",
       "      <td>310000</td>\n",
       "    </tr>\n",
       "    <tr>\n",
       "      <th>2814</th>\n",
       "      <td>2021</td>\n",
       "      <td>MI</td>\n",
       "      <td>FT</td>\n",
       "      <td>Research Scientist</td>\n",
       "      <td>EUR</td>\n",
       "      <td>FR</td>\n",
       "      <td>50</td>\n",
       "      <td>FR</td>\n",
       "      <td>M</td>\n",
       "      <td>62649</td>\n",
       "    </tr>\n",
       "    <tr>\n",
       "      <th>2815</th>\n",
       "      <td>2022</td>\n",
       "      <td>MI</td>\n",
       "      <td>FT</td>\n",
       "      <td>Machine Learning Engineer</td>\n",
       "      <td>EUR</td>\n",
       "      <td>FR</td>\n",
       "      <td>100</td>\n",
       "      <td>DE</td>\n",
       "      <td>M</td>\n",
       "      <td>84053</td>\n",
       "    </tr>\n",
       "  </tbody>\n",
       "</table>\n",
       "<p>2816 rows × 10 columns</p>\n",
       "</div>"
      ],
      "text/plain": [
       "      work_year experience_level employment_type                  job_title  \\\n",
       "0          2022               MI              CT               NLP Engineer   \n",
       "1          2022               SE              FT              Data Engineer   \n",
       "2          2022               SE              FT               Data Analyst   \n",
       "3          2023               SE              FT              Data Engineer   \n",
       "4          2023               EN              FT              Data Engineer   \n",
       "...         ...              ...             ...                        ...   \n",
       "2811       2023               SE              FT  Machine Learning Engineer   \n",
       "2812       2023               SE              FT               Data Analyst   \n",
       "2813       2023               EX              FT              Data Engineer   \n",
       "2814       2021               MI              FT         Research Scientist   \n",
       "2815       2022               MI              FT  Machine Learning Engineer   \n",
       "\n",
       "     salary_currency employee_residence  remote_ratio company_location  \\\n",
       "0                USD                 IN           100               US   \n",
       "1                USD                 US             0               US   \n",
       "2                USD                 US           100               US   \n",
       "3                USD                 US             0               US   \n",
       "4                USD                 US           100               US   \n",
       "...              ...                ...           ...              ...   \n",
       "2811             USD                 US           100               US   \n",
       "2812             USD                 US             0               US   \n",
       "2813             USD                 US           100               US   \n",
       "2814             EUR                 FR            50               FR   \n",
       "2815             EUR                 FR           100               DE   \n",
       "\n",
       "     company_size  salary_in_usd  \n",
       "0               S          60000  \n",
       "1               M         172200  \n",
       "2               M         127000  \n",
       "3               M         180000  \n",
       "4               M          62000  \n",
       "...           ...            ...  \n",
       "2811            M         150000  \n",
       "2812            M         180180  \n",
       "2813            M         310000  \n",
       "2814            M          62649  \n",
       "2815            M          84053  \n",
       "\n",
       "[2816 rows x 10 columns]"
      ]
     },
     "execution_count": 300,
     "metadata": {},
     "output_type": "execute_result"
    }
   ],
   "source": [
    "df_train = pandas.read_csv(\"ds_train.csv\")\n",
    "df_train"
   ]
  },
  {
   "cell_type": "code",
   "execution_count": 301,
   "metadata": {},
   "outputs": [
    {
     "data": {
      "text/html": [
       "<div>\n",
       "<style scoped>\n",
       "    .dataframe tbody tr th:only-of-type {\n",
       "        vertical-align: middle;\n",
       "    }\n",
       "\n",
       "    .dataframe tbody tr th {\n",
       "        vertical-align: top;\n",
       "    }\n",
       "\n",
       "    .dataframe thead th {\n",
       "        text-align: right;\n",
       "    }\n",
       "</style>\n",
       "<table border=\"1\" class=\"dataframe\">\n",
       "  <thead>\n",
       "    <tr style=\"text-align: right;\">\n",
       "      <th></th>\n",
       "      <th>work_year</th>\n",
       "      <th>experience_level</th>\n",
       "      <th>employment_type</th>\n",
       "      <th>job_title</th>\n",
       "      <th>salary_currency</th>\n",
       "      <th>employee_residence</th>\n",
       "      <th>remote_ratio</th>\n",
       "      <th>company_location</th>\n",
       "      <th>company_size</th>\n",
       "    </tr>\n",
       "  </thead>\n",
       "  <tbody>\n",
       "    <tr>\n",
       "      <th>0</th>\n",
       "      <td>2022</td>\n",
       "      <td>SE</td>\n",
       "      <td>FT</td>\n",
       "      <td>Machine Learning Software Engineer</td>\n",
       "      <td>USD</td>\n",
       "      <td>CA</td>\n",
       "      <td>100</td>\n",
       "      <td>CA</td>\n",
       "      <td>M</td>\n",
       "    </tr>\n",
       "    <tr>\n",
       "      <th>1</th>\n",
       "      <td>2023</td>\n",
       "      <td>SE</td>\n",
       "      <td>FT</td>\n",
       "      <td>Data Analyst</td>\n",
       "      <td>USD</td>\n",
       "      <td>US</td>\n",
       "      <td>100</td>\n",
       "      <td>US</td>\n",
       "      <td>M</td>\n",
       "    </tr>\n",
       "    <tr>\n",
       "      <th>2</th>\n",
       "      <td>2022</td>\n",
       "      <td>SE</td>\n",
       "      <td>FT</td>\n",
       "      <td>Data Scientist</td>\n",
       "      <td>USD</td>\n",
       "      <td>US</td>\n",
       "      <td>100</td>\n",
       "      <td>US</td>\n",
       "      <td>M</td>\n",
       "    </tr>\n",
       "    <tr>\n",
       "      <th>3</th>\n",
       "      <td>2023</td>\n",
       "      <td>SE</td>\n",
       "      <td>FT</td>\n",
       "      <td>Applied Scientist</td>\n",
       "      <td>USD</td>\n",
       "      <td>US</td>\n",
       "      <td>0</td>\n",
       "      <td>US</td>\n",
       "      <td>L</td>\n",
       "    </tr>\n",
       "    <tr>\n",
       "      <th>4</th>\n",
       "      <td>2021</td>\n",
       "      <td>EX</td>\n",
       "      <td>FT</td>\n",
       "      <td>Head of Data</td>\n",
       "      <td>USD</td>\n",
       "      <td>RU</td>\n",
       "      <td>50</td>\n",
       "      <td>RU</td>\n",
       "      <td>L</td>\n",
       "    </tr>\n",
       "    <tr>\n",
       "      <th>...</th>\n",
       "      <td>...</td>\n",
       "      <td>...</td>\n",
       "      <td>...</td>\n",
       "      <td>...</td>\n",
       "      <td>...</td>\n",
       "      <td>...</td>\n",
       "      <td>...</td>\n",
       "      <td>...</td>\n",
       "      <td>...</td>\n",
       "    </tr>\n",
       "    <tr>\n",
       "      <th>934</th>\n",
       "      <td>2023</td>\n",
       "      <td>MI</td>\n",
       "      <td>FT</td>\n",
       "      <td>Data Analyst</td>\n",
       "      <td>USD</td>\n",
       "      <td>US</td>\n",
       "      <td>0</td>\n",
       "      <td>US</td>\n",
       "      <td>M</td>\n",
       "    </tr>\n",
       "    <tr>\n",
       "      <th>935</th>\n",
       "      <td>2023</td>\n",
       "      <td>SE</td>\n",
       "      <td>FT</td>\n",
       "      <td>Machine Learning Scientist</td>\n",
       "      <td>USD</td>\n",
       "      <td>US</td>\n",
       "      <td>0</td>\n",
       "      <td>US</td>\n",
       "      <td>M</td>\n",
       "    </tr>\n",
       "    <tr>\n",
       "      <th>936</th>\n",
       "      <td>2022</td>\n",
       "      <td>MI</td>\n",
       "      <td>FT</td>\n",
       "      <td>Data Analyst</td>\n",
       "      <td>USD</td>\n",
       "      <td>US</td>\n",
       "      <td>100</td>\n",
       "      <td>US</td>\n",
       "      <td>M</td>\n",
       "    </tr>\n",
       "    <tr>\n",
       "      <th>937</th>\n",
       "      <td>2022</td>\n",
       "      <td>SE</td>\n",
       "      <td>FT</td>\n",
       "      <td>Data Engineer</td>\n",
       "      <td>USD</td>\n",
       "      <td>US</td>\n",
       "      <td>0</td>\n",
       "      <td>US</td>\n",
       "      <td>M</td>\n",
       "    </tr>\n",
       "    <tr>\n",
       "      <th>938</th>\n",
       "      <td>2023</td>\n",
       "      <td>MI</td>\n",
       "      <td>FT</td>\n",
       "      <td>Data Engineer</td>\n",
       "      <td>USD</td>\n",
       "      <td>US</td>\n",
       "      <td>0</td>\n",
       "      <td>US</td>\n",
       "      <td>M</td>\n",
       "    </tr>\n",
       "  </tbody>\n",
       "</table>\n",
       "<p>939 rows × 9 columns</p>\n",
       "</div>"
      ],
      "text/plain": [
       "     work_year experience_level employment_type  \\\n",
       "0         2022               SE              FT   \n",
       "1         2023               SE              FT   \n",
       "2         2022               SE              FT   \n",
       "3         2023               SE              FT   \n",
       "4         2021               EX              FT   \n",
       "..         ...              ...             ...   \n",
       "934       2023               MI              FT   \n",
       "935       2023               SE              FT   \n",
       "936       2022               MI              FT   \n",
       "937       2022               SE              FT   \n",
       "938       2023               MI              FT   \n",
       "\n",
       "                              job_title salary_currency employee_residence  \\\n",
       "0    Machine Learning Software Engineer             USD                 CA   \n",
       "1                          Data Analyst             USD                 US   \n",
       "2                        Data Scientist             USD                 US   \n",
       "3                     Applied Scientist             USD                 US   \n",
       "4                          Head of Data             USD                 RU   \n",
       "..                                  ...             ...                ...   \n",
       "934                        Data Analyst             USD                 US   \n",
       "935          Machine Learning Scientist             USD                 US   \n",
       "936                        Data Analyst             USD                 US   \n",
       "937                       Data Engineer             USD                 US   \n",
       "938                       Data Engineer             USD                 US   \n",
       "\n",
       "     remote_ratio company_location company_size  \n",
       "0             100               CA            M  \n",
       "1             100               US            M  \n",
       "2             100               US            M  \n",
       "3               0               US            L  \n",
       "4              50               RU            L  \n",
       "..            ...              ...          ...  \n",
       "934             0               US            M  \n",
       "935             0               US            M  \n",
       "936           100               US            M  \n",
       "937             0               US            M  \n",
       "938             0               US            M  \n",
       "\n",
       "[939 rows x 9 columns]"
      ]
     },
     "execution_count": 301,
     "metadata": {},
     "output_type": "execute_result"
    }
   ],
   "source": [
    "df_test = pandas.read_csv(\"ds_test.csv\")\n",
    "df_test"
   ]
  },
  {
   "cell_type": "code",
   "execution_count": 302,
   "metadata": {},
   "outputs": [
    {
     "data": {
      "text/plain": [
       "7"
      ]
     },
     "execution_count": 302,
     "metadata": {},
     "output_type": "execute_result"
    }
   ],
   "source": [
    "(df_train.dtypes == 'object').sum()"
   ]
  },
  {
   "cell_type": "code",
   "execution_count": 303,
   "metadata": {},
   "outputs": [
    {
     "data": {
      "text/plain": [
       "0       MI\n",
       "1       SE\n",
       "2       SE\n",
       "3       SE\n",
       "4       EN\n",
       "        ..\n",
       "2811    SE\n",
       "2812    SE\n",
       "2813    EX\n",
       "2814    MI\n",
       "2815    MI\n",
       "Name: experience_level, Length: 2816, dtype: object"
      ]
     },
     "execution_count": 303,
     "metadata": {},
     "output_type": "execute_result"
    }
   ],
   "source": [
    "df_train['experience_level']"
   ]
  },
  {
   "cell_type": "code",
   "execution_count": 304,
   "metadata": {},
   "outputs": [
    {
     "data": {
      "text/html": [
       "<div>\n",
       "<style scoped>\n",
       "    .dataframe tbody tr th:only-of-type {\n",
       "        vertical-align: middle;\n",
       "    }\n",
       "\n",
       "    .dataframe tbody tr th {\n",
       "        vertical-align: top;\n",
       "    }\n",
       "\n",
       "    .dataframe thead th {\n",
       "        text-align: right;\n",
       "    }\n",
       "</style>\n",
       "<table border=\"1\" class=\"dataframe\">\n",
       "  <thead>\n",
       "    <tr style=\"text-align: right;\">\n",
       "      <th></th>\n",
       "      <th>work_year</th>\n",
       "      <th>experience_level</th>\n",
       "      <th>employment_type</th>\n",
       "      <th>job_title</th>\n",
       "      <th>salary_currency</th>\n",
       "      <th>employee_residence</th>\n",
       "      <th>remote_ratio</th>\n",
       "      <th>company_location</th>\n",
       "      <th>company_size</th>\n",
       "      <th>salary_in_usd</th>\n",
       "      <th>greate_experience</th>\n",
       "    </tr>\n",
       "  </thead>\n",
       "  <tbody>\n",
       "    <tr>\n",
       "      <th>0</th>\n",
       "      <td>2022</td>\n",
       "      <td>MI</td>\n",
       "      <td>CT</td>\n",
       "      <td>NLP Engineer</td>\n",
       "      <td>USD</td>\n",
       "      <td>IN</td>\n",
       "      <td>100</td>\n",
       "      <td>US</td>\n",
       "      <td>S</td>\n",
       "      <td>60000</td>\n",
       "      <td>0</td>\n",
       "    </tr>\n",
       "    <tr>\n",
       "      <th>1</th>\n",
       "      <td>2022</td>\n",
       "      <td>SE</td>\n",
       "      <td>FT</td>\n",
       "      <td>Data Engineer</td>\n",
       "      <td>USD</td>\n",
       "      <td>US</td>\n",
       "      <td>0</td>\n",
       "      <td>US</td>\n",
       "      <td>M</td>\n",
       "      <td>172200</td>\n",
       "      <td>1</td>\n",
       "    </tr>\n",
       "    <tr>\n",
       "      <th>2</th>\n",
       "      <td>2022</td>\n",
       "      <td>SE</td>\n",
       "      <td>FT</td>\n",
       "      <td>Data Analyst</td>\n",
       "      <td>USD</td>\n",
       "      <td>US</td>\n",
       "      <td>100</td>\n",
       "      <td>US</td>\n",
       "      <td>M</td>\n",
       "      <td>127000</td>\n",
       "      <td>1</td>\n",
       "    </tr>\n",
       "    <tr>\n",
       "      <th>3</th>\n",
       "      <td>2023</td>\n",
       "      <td>SE</td>\n",
       "      <td>FT</td>\n",
       "      <td>Data Engineer</td>\n",
       "      <td>USD</td>\n",
       "      <td>US</td>\n",
       "      <td>0</td>\n",
       "      <td>US</td>\n",
       "      <td>M</td>\n",
       "      <td>180000</td>\n",
       "      <td>1</td>\n",
       "    </tr>\n",
       "    <tr>\n",
       "      <th>4</th>\n",
       "      <td>2023</td>\n",
       "      <td>EN</td>\n",
       "      <td>FT</td>\n",
       "      <td>Data Engineer</td>\n",
       "      <td>USD</td>\n",
       "      <td>US</td>\n",
       "      <td>100</td>\n",
       "      <td>US</td>\n",
       "      <td>M</td>\n",
       "      <td>62000</td>\n",
       "      <td>0</td>\n",
       "    </tr>\n",
       "    <tr>\n",
       "      <th>...</th>\n",
       "      <td>...</td>\n",
       "      <td>...</td>\n",
       "      <td>...</td>\n",
       "      <td>...</td>\n",
       "      <td>...</td>\n",
       "      <td>...</td>\n",
       "      <td>...</td>\n",
       "      <td>...</td>\n",
       "      <td>...</td>\n",
       "      <td>...</td>\n",
       "      <td>...</td>\n",
       "    </tr>\n",
       "    <tr>\n",
       "      <th>2811</th>\n",
       "      <td>2023</td>\n",
       "      <td>SE</td>\n",
       "      <td>FT</td>\n",
       "      <td>Machine Learning Engineer</td>\n",
       "      <td>USD</td>\n",
       "      <td>US</td>\n",
       "      <td>100</td>\n",
       "      <td>US</td>\n",
       "      <td>M</td>\n",
       "      <td>150000</td>\n",
       "      <td>1</td>\n",
       "    </tr>\n",
       "    <tr>\n",
       "      <th>2812</th>\n",
       "      <td>2023</td>\n",
       "      <td>SE</td>\n",
       "      <td>FT</td>\n",
       "      <td>Data Analyst</td>\n",
       "      <td>USD</td>\n",
       "      <td>US</td>\n",
       "      <td>0</td>\n",
       "      <td>US</td>\n",
       "      <td>M</td>\n",
       "      <td>180180</td>\n",
       "      <td>1</td>\n",
       "    </tr>\n",
       "    <tr>\n",
       "      <th>2813</th>\n",
       "      <td>2023</td>\n",
       "      <td>EX</td>\n",
       "      <td>FT</td>\n",
       "      <td>Data Engineer</td>\n",
       "      <td>USD</td>\n",
       "      <td>US</td>\n",
       "      <td>100</td>\n",
       "      <td>US</td>\n",
       "      <td>M</td>\n",
       "      <td>310000</td>\n",
       "      <td>0</td>\n",
       "    </tr>\n",
       "    <tr>\n",
       "      <th>2814</th>\n",
       "      <td>2021</td>\n",
       "      <td>MI</td>\n",
       "      <td>FT</td>\n",
       "      <td>Research Scientist</td>\n",
       "      <td>EUR</td>\n",
       "      <td>FR</td>\n",
       "      <td>50</td>\n",
       "      <td>FR</td>\n",
       "      <td>M</td>\n",
       "      <td>62649</td>\n",
       "      <td>0</td>\n",
       "    </tr>\n",
       "    <tr>\n",
       "      <th>2815</th>\n",
       "      <td>2022</td>\n",
       "      <td>MI</td>\n",
       "      <td>FT</td>\n",
       "      <td>Machine Learning Engineer</td>\n",
       "      <td>EUR</td>\n",
       "      <td>FR</td>\n",
       "      <td>100</td>\n",
       "      <td>DE</td>\n",
       "      <td>M</td>\n",
       "      <td>84053</td>\n",
       "      <td>0</td>\n",
       "    </tr>\n",
       "  </tbody>\n",
       "</table>\n",
       "<p>2816 rows × 11 columns</p>\n",
       "</div>"
      ],
      "text/plain": [
       "      work_year experience_level employment_type                  job_title  \\\n",
       "0          2022               MI              CT               NLP Engineer   \n",
       "1          2022               SE              FT              Data Engineer   \n",
       "2          2022               SE              FT               Data Analyst   \n",
       "3          2023               SE              FT              Data Engineer   \n",
       "4          2023               EN              FT              Data Engineer   \n",
       "...         ...              ...             ...                        ...   \n",
       "2811       2023               SE              FT  Machine Learning Engineer   \n",
       "2812       2023               SE              FT               Data Analyst   \n",
       "2813       2023               EX              FT              Data Engineer   \n",
       "2814       2021               MI              FT         Research Scientist   \n",
       "2815       2022               MI              FT  Machine Learning Engineer   \n",
       "\n",
       "     salary_currency employee_residence  remote_ratio company_location  \\\n",
       "0                USD                 IN           100               US   \n",
       "1                USD                 US             0               US   \n",
       "2                USD                 US           100               US   \n",
       "3                USD                 US             0               US   \n",
       "4                USD                 US           100               US   \n",
       "...              ...                ...           ...              ...   \n",
       "2811             USD                 US           100               US   \n",
       "2812             USD                 US             0               US   \n",
       "2813             USD                 US           100               US   \n",
       "2814             EUR                 FR            50               FR   \n",
       "2815             EUR                 FR           100               DE   \n",
       "\n",
       "     company_size  salary_in_usd  greate_experience  \n",
       "0               S          60000                  0  \n",
       "1               M         172200                  1  \n",
       "2               M         127000                  1  \n",
       "3               M         180000                  1  \n",
       "4               M          62000                  0  \n",
       "...           ...            ...                ...  \n",
       "2811            M         150000                  1  \n",
       "2812            M         180180                  1  \n",
       "2813            M         310000                  0  \n",
       "2814            M          62649                  0  \n",
       "2815            M          84053                  0  \n",
       "\n",
       "[2816 rows x 11 columns]"
      ]
     },
     "execution_count": 304,
     "metadata": {},
     "output_type": "execute_result"
    }
   ],
   "source": [
    "df_train['greate_experience'] = (df_train['experience_level'] == 'SE') * 1\n",
    "df_train"
   ]
  },
  {
   "cell_type": "code",
   "execution_count": 305,
   "metadata": {},
   "outputs": [
    {
     "data": {
      "text/html": [
       "<div>\n",
       "<style scoped>\n",
       "    .dataframe tbody tr th:only-of-type {\n",
       "        vertical-align: middle;\n",
       "    }\n",
       "\n",
       "    .dataframe tbody tr th {\n",
       "        vertical-align: top;\n",
       "    }\n",
       "\n",
       "    .dataframe thead th {\n",
       "        text-align: right;\n",
       "    }\n",
       "</style>\n",
       "<table border=\"1\" class=\"dataframe\">\n",
       "  <thead>\n",
       "    <tr style=\"text-align: right;\">\n",
       "      <th></th>\n",
       "      <th>work_year</th>\n",
       "      <th>experience_level</th>\n",
       "      <th>employment_type</th>\n",
       "      <th>job_title</th>\n",
       "      <th>salary_currency</th>\n",
       "      <th>employee_residence</th>\n",
       "      <th>remote_ratio</th>\n",
       "      <th>company_location</th>\n",
       "      <th>company_size</th>\n",
       "      <th>greate_experience</th>\n",
       "    </tr>\n",
       "  </thead>\n",
       "  <tbody>\n",
       "    <tr>\n",
       "      <th>0</th>\n",
       "      <td>2022</td>\n",
       "      <td>SE</td>\n",
       "      <td>FT</td>\n",
       "      <td>Machine Learning Software Engineer</td>\n",
       "      <td>USD</td>\n",
       "      <td>CA</td>\n",
       "      <td>100</td>\n",
       "      <td>CA</td>\n",
       "      <td>M</td>\n",
       "      <td>1</td>\n",
       "    </tr>\n",
       "    <tr>\n",
       "      <th>1</th>\n",
       "      <td>2023</td>\n",
       "      <td>SE</td>\n",
       "      <td>FT</td>\n",
       "      <td>Data Analyst</td>\n",
       "      <td>USD</td>\n",
       "      <td>US</td>\n",
       "      <td>100</td>\n",
       "      <td>US</td>\n",
       "      <td>M</td>\n",
       "      <td>1</td>\n",
       "    </tr>\n",
       "    <tr>\n",
       "      <th>2</th>\n",
       "      <td>2022</td>\n",
       "      <td>SE</td>\n",
       "      <td>FT</td>\n",
       "      <td>Data Scientist</td>\n",
       "      <td>USD</td>\n",
       "      <td>US</td>\n",
       "      <td>100</td>\n",
       "      <td>US</td>\n",
       "      <td>M</td>\n",
       "      <td>1</td>\n",
       "    </tr>\n",
       "    <tr>\n",
       "      <th>3</th>\n",
       "      <td>2023</td>\n",
       "      <td>SE</td>\n",
       "      <td>FT</td>\n",
       "      <td>Applied Scientist</td>\n",
       "      <td>USD</td>\n",
       "      <td>US</td>\n",
       "      <td>0</td>\n",
       "      <td>US</td>\n",
       "      <td>L</td>\n",
       "      <td>1</td>\n",
       "    </tr>\n",
       "    <tr>\n",
       "      <th>4</th>\n",
       "      <td>2021</td>\n",
       "      <td>EX</td>\n",
       "      <td>FT</td>\n",
       "      <td>Head of Data</td>\n",
       "      <td>USD</td>\n",
       "      <td>RU</td>\n",
       "      <td>50</td>\n",
       "      <td>RU</td>\n",
       "      <td>L</td>\n",
       "      <td>0</td>\n",
       "    </tr>\n",
       "    <tr>\n",
       "      <th>...</th>\n",
       "      <td>...</td>\n",
       "      <td>...</td>\n",
       "      <td>...</td>\n",
       "      <td>...</td>\n",
       "      <td>...</td>\n",
       "      <td>...</td>\n",
       "      <td>...</td>\n",
       "      <td>...</td>\n",
       "      <td>...</td>\n",
       "      <td>...</td>\n",
       "    </tr>\n",
       "    <tr>\n",
       "      <th>934</th>\n",
       "      <td>2023</td>\n",
       "      <td>MI</td>\n",
       "      <td>FT</td>\n",
       "      <td>Data Analyst</td>\n",
       "      <td>USD</td>\n",
       "      <td>US</td>\n",
       "      <td>0</td>\n",
       "      <td>US</td>\n",
       "      <td>M</td>\n",
       "      <td>0</td>\n",
       "    </tr>\n",
       "    <tr>\n",
       "      <th>935</th>\n",
       "      <td>2023</td>\n",
       "      <td>SE</td>\n",
       "      <td>FT</td>\n",
       "      <td>Machine Learning Scientist</td>\n",
       "      <td>USD</td>\n",
       "      <td>US</td>\n",
       "      <td>0</td>\n",
       "      <td>US</td>\n",
       "      <td>M</td>\n",
       "      <td>1</td>\n",
       "    </tr>\n",
       "    <tr>\n",
       "      <th>936</th>\n",
       "      <td>2022</td>\n",
       "      <td>MI</td>\n",
       "      <td>FT</td>\n",
       "      <td>Data Analyst</td>\n",
       "      <td>USD</td>\n",
       "      <td>US</td>\n",
       "      <td>100</td>\n",
       "      <td>US</td>\n",
       "      <td>M</td>\n",
       "      <td>0</td>\n",
       "    </tr>\n",
       "    <tr>\n",
       "      <th>937</th>\n",
       "      <td>2022</td>\n",
       "      <td>SE</td>\n",
       "      <td>FT</td>\n",
       "      <td>Data Engineer</td>\n",
       "      <td>USD</td>\n",
       "      <td>US</td>\n",
       "      <td>0</td>\n",
       "      <td>US</td>\n",
       "      <td>M</td>\n",
       "      <td>1</td>\n",
       "    </tr>\n",
       "    <tr>\n",
       "      <th>938</th>\n",
       "      <td>2023</td>\n",
       "      <td>MI</td>\n",
       "      <td>FT</td>\n",
       "      <td>Data Engineer</td>\n",
       "      <td>USD</td>\n",
       "      <td>US</td>\n",
       "      <td>0</td>\n",
       "      <td>US</td>\n",
       "      <td>M</td>\n",
       "      <td>0</td>\n",
       "    </tr>\n",
       "  </tbody>\n",
       "</table>\n",
       "<p>939 rows × 10 columns</p>\n",
       "</div>"
      ],
      "text/plain": [
       "     work_year experience_level employment_type  \\\n",
       "0         2022               SE              FT   \n",
       "1         2023               SE              FT   \n",
       "2         2022               SE              FT   \n",
       "3         2023               SE              FT   \n",
       "4         2021               EX              FT   \n",
       "..         ...              ...             ...   \n",
       "934       2023               MI              FT   \n",
       "935       2023               SE              FT   \n",
       "936       2022               MI              FT   \n",
       "937       2022               SE              FT   \n",
       "938       2023               MI              FT   \n",
       "\n",
       "                              job_title salary_currency employee_residence  \\\n",
       "0    Machine Learning Software Engineer             USD                 CA   \n",
       "1                          Data Analyst             USD                 US   \n",
       "2                        Data Scientist             USD                 US   \n",
       "3                     Applied Scientist             USD                 US   \n",
       "4                          Head of Data             USD                 RU   \n",
       "..                                  ...             ...                ...   \n",
       "934                        Data Analyst             USD                 US   \n",
       "935          Machine Learning Scientist             USD                 US   \n",
       "936                        Data Analyst             USD                 US   \n",
       "937                       Data Engineer             USD                 US   \n",
       "938                       Data Engineer             USD                 US   \n",
       "\n",
       "     remote_ratio company_location company_size  greate_experience  \n",
       "0             100               CA            M                  1  \n",
       "1             100               US            M                  1  \n",
       "2             100               US            M                  1  \n",
       "3               0               US            L                  1  \n",
       "4              50               RU            L                  0  \n",
       "..            ...              ...          ...                ...  \n",
       "934             0               US            M                  0  \n",
       "935             0               US            M                  1  \n",
       "936           100               US            M                  0  \n",
       "937             0               US            M                  1  \n",
       "938             0               US            M                  0  \n",
       "\n",
       "[939 rows x 10 columns]"
      ]
     },
     "execution_count": 305,
     "metadata": {},
     "output_type": "execute_result"
    }
   ],
   "source": [
    "df_test['greate_experience'] = (df_test['experience_level'] == 'SE') * 1\n",
    "df_test"
   ]
  },
  {
   "cell_type": "code",
   "execution_count": 306,
   "metadata": {},
   "outputs": [
    {
     "data": {
      "text/plain": [
       "925"
      ]
     },
     "execution_count": 306,
     "metadata": {},
     "output_type": "execute_result"
    }
   ],
   "source": [
    "(df_train['greate_experience'] == 0).sum()"
   ]
  },
  {
   "cell_type": "code",
   "execution_count": 307,
   "metadata": {},
   "outputs": [
    {
     "data": {
      "text/plain": [
       "925"
      ]
     },
     "execution_count": 307,
     "metadata": {},
     "output_type": "execute_result"
    }
   ],
   "source": [
    "(df_train['experience_level'] != 'SE').sum()"
   ]
  },
  {
   "cell_type": "code",
   "execution_count": 308,
   "metadata": {},
   "outputs": [
    {
     "data": {
      "text/plain": [
       "0.6081438392384981"
      ]
     },
     "execution_count": 308,
     "metadata": {},
     "output_type": "execute_result"
    }
   ],
   "source": [
    "sal = df_train[df_train['greate_experience'] == 1]['salary_in_usd']\n",
    "(sal > 135000).sum() / len(sal)"
   ]
  },
  {
   "cell_type": "code",
   "execution_count": 309,
   "metadata": {},
   "outputs": [
    {
     "data": {
      "text/plain": [
       "work_year             False\n",
       "experience_level      False\n",
       "employment_type       False\n",
       "job_title             False\n",
       "salary_currency       False\n",
       "employee_residence    False\n",
       "remote_ratio          False\n",
       "company_location      False\n",
       "company_size          False\n",
       "salary_in_usd         False\n",
       "greate_experience     False\n",
       "dtype: bool"
      ]
     },
     "execution_count": 309,
     "metadata": {},
     "output_type": "execute_result"
    }
   ],
   "source": [
    "df_train.isna().any()"
   ]
  },
  {
   "cell_type": "code",
   "execution_count": 310,
   "metadata": {},
   "outputs": [
    {
     "data": {
      "text/plain": [
       "146000.0"
      ]
     },
     "execution_count": 310,
     "metadata": {},
     "output_type": "execute_result"
    }
   ],
   "source": [
    "df_train[df_train['employee_residence'] == 'US']['salary_in_usd'].median()"
   ]
  },
  {
   "cell_type": "code",
   "execution_count": 311,
   "metadata": {},
   "outputs": [
    {
     "data": {
      "text/plain": [
       "60.37735849056604"
      ]
     },
     "execution_count": 311,
     "metadata": {},
     "output_type": "execute_result"
    }
   ],
   "source": [
    "small_companies = df_train[df_train['company_size'] == 'S']\n",
    "(small_companies['remote_ratio'] == 100).sum() / len(small_companies) * 100"
   ]
  },
  {
   "cell_type": "code",
   "execution_count": 312,
   "metadata": {},
   "outputs": [
    {
     "data": {
      "text/plain": [
       "790"
      ]
     },
     "execution_count": 312,
     "metadata": {},
     "output_type": "execute_result"
    }
   ],
   "source": [
    "numpy.unique(df_train['job_title'], return_counts = True)[1].max()"
   ]
  },
  {
   "cell_type": "code",
   "execution_count": 313,
   "metadata": {},
   "outputs": [
    {
     "data": {
      "text/plain": [
       "175000.0"
      ]
     },
     "execution_count": 313,
     "metadata": {},
     "output_type": "execute_result"
    }
   ],
   "source": [
    "task22 = df_train[(df_train['work_year'] == 2023) & (df_train['remote_ratio'] == 0)]\n",
    "numpy.percentile(task22['salary_in_usd'], 70)"
   ]
  },
  {
   "cell_type": "code",
   "execution_count": 314,
   "metadata": {},
   "outputs": [
    {
     "data": {
      "text/html": [
       "<div>\n",
       "<style scoped>\n",
       "    .dataframe tbody tr th:only-of-type {\n",
       "        vertical-align: middle;\n",
       "    }\n",
       "\n",
       "    .dataframe tbody tr th {\n",
       "        vertical-align: top;\n",
       "    }\n",
       "\n",
       "    .dataframe thead th {\n",
       "        text-align: right;\n",
       "    }\n",
       "</style>\n",
       "<table border=\"1\" class=\"dataframe\">\n",
       "  <thead>\n",
       "    <tr style=\"text-align: right;\">\n",
       "      <th></th>\n",
       "      <th>work_year</th>\n",
       "      <th>experience_level</th>\n",
       "      <th>employment_type</th>\n",
       "      <th>job_title</th>\n",
       "      <th>salary_currency</th>\n",
       "      <th>employee_residence</th>\n",
       "      <th>remote_ratio</th>\n",
       "      <th>company_location</th>\n",
       "      <th>company_size</th>\n",
       "      <th>salary_in_usd</th>\n",
       "      <th>greate_experience</th>\n",
       "    </tr>\n",
       "  </thead>\n",
       "  <tbody>\n",
       "    <tr>\n",
       "      <th>0</th>\n",
       "      <td>2022</td>\n",
       "      <td>MI</td>\n",
       "      <td>CT</td>\n",
       "      <td>NLP Engineer</td>\n",
       "      <td>USD</td>\n",
       "      <td>IN</td>\n",
       "      <td>100</td>\n",
       "      <td>US</td>\n",
       "      <td>S</td>\n",
       "      <td>60000</td>\n",
       "      <td>0</td>\n",
       "    </tr>\n",
       "    <tr>\n",
       "      <th>1</th>\n",
       "      <td>2022</td>\n",
       "      <td>SE</td>\n",
       "      <td>FT</td>\n",
       "      <td>Data Engineer</td>\n",
       "      <td>USD</td>\n",
       "      <td>US</td>\n",
       "      <td>0</td>\n",
       "      <td>US</td>\n",
       "      <td>M</td>\n",
       "      <td>172200</td>\n",
       "      <td>1</td>\n",
       "    </tr>\n",
       "    <tr>\n",
       "      <th>2</th>\n",
       "      <td>2022</td>\n",
       "      <td>SE</td>\n",
       "      <td>FT</td>\n",
       "      <td>Data Analyst</td>\n",
       "      <td>USD</td>\n",
       "      <td>US</td>\n",
       "      <td>100</td>\n",
       "      <td>US</td>\n",
       "      <td>M</td>\n",
       "      <td>127000</td>\n",
       "      <td>1</td>\n",
       "    </tr>\n",
       "    <tr>\n",
       "      <th>3</th>\n",
       "      <td>2023</td>\n",
       "      <td>SE</td>\n",
       "      <td>FT</td>\n",
       "      <td>Data Engineer</td>\n",
       "      <td>USD</td>\n",
       "      <td>US</td>\n",
       "      <td>0</td>\n",
       "      <td>US</td>\n",
       "      <td>M</td>\n",
       "      <td>180000</td>\n",
       "      <td>1</td>\n",
       "    </tr>\n",
       "    <tr>\n",
       "      <th>4</th>\n",
       "      <td>2023</td>\n",
       "      <td>EN</td>\n",
       "      <td>FT</td>\n",
       "      <td>Data Engineer</td>\n",
       "      <td>USD</td>\n",
       "      <td>US</td>\n",
       "      <td>100</td>\n",
       "      <td>US</td>\n",
       "      <td>M</td>\n",
       "      <td>62000</td>\n",
       "      <td>0</td>\n",
       "    </tr>\n",
       "    <tr>\n",
       "      <th>...</th>\n",
       "      <td>...</td>\n",
       "      <td>...</td>\n",
       "      <td>...</td>\n",
       "      <td>...</td>\n",
       "      <td>...</td>\n",
       "      <td>...</td>\n",
       "      <td>...</td>\n",
       "      <td>...</td>\n",
       "      <td>...</td>\n",
       "      <td>...</td>\n",
       "      <td>...</td>\n",
       "    </tr>\n",
       "    <tr>\n",
       "      <th>2811</th>\n",
       "      <td>2023</td>\n",
       "      <td>SE</td>\n",
       "      <td>FT</td>\n",
       "      <td>Machine Learning Engineer</td>\n",
       "      <td>USD</td>\n",
       "      <td>US</td>\n",
       "      <td>100</td>\n",
       "      <td>US</td>\n",
       "      <td>M</td>\n",
       "      <td>150000</td>\n",
       "      <td>1</td>\n",
       "    </tr>\n",
       "    <tr>\n",
       "      <th>2812</th>\n",
       "      <td>2023</td>\n",
       "      <td>SE</td>\n",
       "      <td>FT</td>\n",
       "      <td>Data Analyst</td>\n",
       "      <td>USD</td>\n",
       "      <td>US</td>\n",
       "      <td>0</td>\n",
       "      <td>US</td>\n",
       "      <td>M</td>\n",
       "      <td>180180</td>\n",
       "      <td>1</td>\n",
       "    </tr>\n",
       "    <tr>\n",
       "      <th>2813</th>\n",
       "      <td>2023</td>\n",
       "      <td>EX</td>\n",
       "      <td>FT</td>\n",
       "      <td>Data Engineer</td>\n",
       "      <td>USD</td>\n",
       "      <td>US</td>\n",
       "      <td>100</td>\n",
       "      <td>US</td>\n",
       "      <td>M</td>\n",
       "      <td>310000</td>\n",
       "      <td>0</td>\n",
       "    </tr>\n",
       "    <tr>\n",
       "      <th>2814</th>\n",
       "      <td>2021</td>\n",
       "      <td>MI</td>\n",
       "      <td>FT</td>\n",
       "      <td>Research Scientist</td>\n",
       "      <td>EUR</td>\n",
       "      <td>FR</td>\n",
       "      <td>50</td>\n",
       "      <td>FR</td>\n",
       "      <td>M</td>\n",
       "      <td>62649</td>\n",
       "      <td>0</td>\n",
       "    </tr>\n",
       "    <tr>\n",
       "      <th>2815</th>\n",
       "      <td>2022</td>\n",
       "      <td>MI</td>\n",
       "      <td>FT</td>\n",
       "      <td>Machine Learning Engineer</td>\n",
       "      <td>EUR</td>\n",
       "      <td>FR</td>\n",
       "      <td>100</td>\n",
       "      <td>DE</td>\n",
       "      <td>M</td>\n",
       "      <td>84053</td>\n",
       "      <td>0</td>\n",
       "    </tr>\n",
       "  </tbody>\n",
       "</table>\n",
       "<p>2816 rows × 11 columns</p>\n",
       "</div>"
      ],
      "text/plain": [
       "      work_year experience_level employment_type                  job_title  \\\n",
       "0          2022               MI              CT               NLP Engineer   \n",
       "1          2022               SE              FT              Data Engineer   \n",
       "2          2022               SE              FT               Data Analyst   \n",
       "3          2023               SE              FT              Data Engineer   \n",
       "4          2023               EN              FT              Data Engineer   \n",
       "...         ...              ...             ...                        ...   \n",
       "2811       2023               SE              FT  Machine Learning Engineer   \n",
       "2812       2023               SE              FT               Data Analyst   \n",
       "2813       2023               EX              FT              Data Engineer   \n",
       "2814       2021               MI              FT         Research Scientist   \n",
       "2815       2022               MI              FT  Machine Learning Engineer   \n",
       "\n",
       "     salary_currency employee_residence  remote_ratio company_location  \\\n",
       "0                USD                 IN           100               US   \n",
       "1                USD                 US             0               US   \n",
       "2                USD                 US           100               US   \n",
       "3                USD                 US             0               US   \n",
       "4                USD                 US           100               US   \n",
       "...              ...                ...           ...              ...   \n",
       "2811             USD                 US           100               US   \n",
       "2812             USD                 US             0               US   \n",
       "2813             USD                 US           100               US   \n",
       "2814             EUR                 FR            50               FR   \n",
       "2815             EUR                 FR           100               DE   \n",
       "\n",
       "     company_size  salary_in_usd  greate_experience  \n",
       "0               S          60000                  0  \n",
       "1               M         172200                  1  \n",
       "2               M         127000                  1  \n",
       "3               M         180000                  1  \n",
       "4               M          62000                  0  \n",
       "...           ...            ...                ...  \n",
       "2811            M         150000                  1  \n",
       "2812            M         180180                  1  \n",
       "2813            M         310000                  0  \n",
       "2814            M          62649                  0  \n",
       "2815            M          84053                  0  \n",
       "\n",
       "[2816 rows x 11 columns]"
      ]
     },
     "execution_count": 314,
     "metadata": {},
     "output_type": "execute_result"
    }
   ],
   "source": [
    "df_train"
   ]
  },
  {
   "cell_type": "code",
   "execution_count": 315,
   "metadata": {},
   "outputs": [
    {
     "data": {
      "text/html": [
       "<div>\n",
       "<style scoped>\n",
       "    .dataframe tbody tr th:only-of-type {\n",
       "        vertical-align: middle;\n",
       "    }\n",
       "\n",
       "    .dataframe tbody tr th {\n",
       "        vertical-align: top;\n",
       "    }\n",
       "\n",
       "    .dataframe thead th {\n",
       "        text-align: right;\n",
       "    }\n",
       "</style>\n",
       "<table border=\"1\" class=\"dataframe\">\n",
       "  <thead>\n",
       "    <tr style=\"text-align: right;\">\n",
       "      <th></th>\n",
       "      <th>work_year</th>\n",
       "      <th>experience_level</th>\n",
       "      <th>employment_type</th>\n",
       "      <th>job_title</th>\n",
       "      <th>remote_ratio</th>\n",
       "      <th>company_size</th>\n",
       "      <th>salary_in_usd</th>\n",
       "      <th>greate_experience</th>\n",
       "    </tr>\n",
       "  </thead>\n",
       "  <tbody>\n",
       "    <tr>\n",
       "      <th>0</th>\n",
       "      <td>2022</td>\n",
       "      <td>MI</td>\n",
       "      <td>CT</td>\n",
       "      <td>NLP Engineer</td>\n",
       "      <td>100</td>\n",
       "      <td>S</td>\n",
       "      <td>60000</td>\n",
       "      <td>0</td>\n",
       "    </tr>\n",
       "    <tr>\n",
       "      <th>1</th>\n",
       "      <td>2022</td>\n",
       "      <td>SE</td>\n",
       "      <td>FT</td>\n",
       "      <td>Data Engineer</td>\n",
       "      <td>0</td>\n",
       "      <td>M</td>\n",
       "      <td>172200</td>\n",
       "      <td>1</td>\n",
       "    </tr>\n",
       "    <tr>\n",
       "      <th>2</th>\n",
       "      <td>2022</td>\n",
       "      <td>SE</td>\n",
       "      <td>FT</td>\n",
       "      <td>Data Analyst</td>\n",
       "      <td>100</td>\n",
       "      <td>M</td>\n",
       "      <td>127000</td>\n",
       "      <td>1</td>\n",
       "    </tr>\n",
       "    <tr>\n",
       "      <th>3</th>\n",
       "      <td>2023</td>\n",
       "      <td>SE</td>\n",
       "      <td>FT</td>\n",
       "      <td>Data Engineer</td>\n",
       "      <td>0</td>\n",
       "      <td>M</td>\n",
       "      <td>180000</td>\n",
       "      <td>1</td>\n",
       "    </tr>\n",
       "    <tr>\n",
       "      <th>4</th>\n",
       "      <td>2023</td>\n",
       "      <td>EN</td>\n",
       "      <td>FT</td>\n",
       "      <td>Data Engineer</td>\n",
       "      <td>100</td>\n",
       "      <td>M</td>\n",
       "      <td>62000</td>\n",
       "      <td>0</td>\n",
       "    </tr>\n",
       "    <tr>\n",
       "      <th>...</th>\n",
       "      <td>...</td>\n",
       "      <td>...</td>\n",
       "      <td>...</td>\n",
       "      <td>...</td>\n",
       "      <td>...</td>\n",
       "      <td>...</td>\n",
       "      <td>...</td>\n",
       "      <td>...</td>\n",
       "    </tr>\n",
       "    <tr>\n",
       "      <th>2811</th>\n",
       "      <td>2023</td>\n",
       "      <td>SE</td>\n",
       "      <td>FT</td>\n",
       "      <td>Machine Learning Engineer</td>\n",
       "      <td>100</td>\n",
       "      <td>M</td>\n",
       "      <td>150000</td>\n",
       "      <td>1</td>\n",
       "    </tr>\n",
       "    <tr>\n",
       "      <th>2812</th>\n",
       "      <td>2023</td>\n",
       "      <td>SE</td>\n",
       "      <td>FT</td>\n",
       "      <td>Data Analyst</td>\n",
       "      <td>0</td>\n",
       "      <td>M</td>\n",
       "      <td>180180</td>\n",
       "      <td>1</td>\n",
       "    </tr>\n",
       "    <tr>\n",
       "      <th>2813</th>\n",
       "      <td>2023</td>\n",
       "      <td>EX</td>\n",
       "      <td>FT</td>\n",
       "      <td>Data Engineer</td>\n",
       "      <td>100</td>\n",
       "      <td>M</td>\n",
       "      <td>310000</td>\n",
       "      <td>0</td>\n",
       "    </tr>\n",
       "    <tr>\n",
       "      <th>2814</th>\n",
       "      <td>2021</td>\n",
       "      <td>MI</td>\n",
       "      <td>FT</td>\n",
       "      <td>Research Scientist</td>\n",
       "      <td>50</td>\n",
       "      <td>M</td>\n",
       "      <td>62649</td>\n",
       "      <td>0</td>\n",
       "    </tr>\n",
       "    <tr>\n",
       "      <th>2815</th>\n",
       "      <td>2022</td>\n",
       "      <td>MI</td>\n",
       "      <td>FT</td>\n",
       "      <td>Machine Learning Engineer</td>\n",
       "      <td>100</td>\n",
       "      <td>M</td>\n",
       "      <td>84053</td>\n",
       "      <td>0</td>\n",
       "    </tr>\n",
       "  </tbody>\n",
       "</table>\n",
       "<p>2816 rows × 8 columns</p>\n",
       "</div>"
      ],
      "text/plain": [
       "      work_year experience_level employment_type                  job_title  \\\n",
       "0          2022               MI              CT               NLP Engineer   \n",
       "1          2022               SE              FT              Data Engineer   \n",
       "2          2022               SE              FT               Data Analyst   \n",
       "3          2023               SE              FT              Data Engineer   \n",
       "4          2023               EN              FT              Data Engineer   \n",
       "...         ...              ...             ...                        ...   \n",
       "2811       2023               SE              FT  Machine Learning Engineer   \n",
       "2812       2023               SE              FT               Data Analyst   \n",
       "2813       2023               EX              FT              Data Engineer   \n",
       "2814       2021               MI              FT         Research Scientist   \n",
       "2815       2022               MI              FT  Machine Learning Engineer   \n",
       "\n",
       "      remote_ratio company_size  salary_in_usd  greate_experience  \n",
       "0              100            S          60000                  0  \n",
       "1                0            M         172200                  1  \n",
       "2              100            M         127000                  1  \n",
       "3                0            M         180000                  1  \n",
       "4              100            M          62000                  0  \n",
       "...            ...          ...            ...                ...  \n",
       "2811           100            M         150000                  1  \n",
       "2812             0            M         180180                  1  \n",
       "2813           100            M         310000                  0  \n",
       "2814            50            M          62649                  0  \n",
       "2815           100            M          84053                  0  \n",
       "\n",
       "[2816 rows x 8 columns]"
      ]
     },
     "execution_count": 315,
     "metadata": {},
     "output_type": "execute_result"
    }
   ],
   "source": [
    "df_train_23 = df_train.drop(\n",
    "    [ 'salary_currency', 'employee_residence', 'company_location' ],\n",
    "    axis = 1\n",
    ")\n",
    "df_train_23"
   ]
  },
  {
   "cell_type": "code",
   "execution_count": 316,
   "metadata": {},
   "outputs": [
    {
     "data": {
      "text/html": [
       "<div>\n",
       "<style scoped>\n",
       "    .dataframe tbody tr th:only-of-type {\n",
       "        vertical-align: middle;\n",
       "    }\n",
       "\n",
       "    .dataframe tbody tr th {\n",
       "        vertical-align: top;\n",
       "    }\n",
       "\n",
       "    .dataframe thead th {\n",
       "        text-align: right;\n",
       "    }\n",
       "</style>\n",
       "<table border=\"1\" class=\"dataframe\">\n",
       "  <thead>\n",
       "    <tr style=\"text-align: right;\">\n",
       "      <th></th>\n",
       "      <th>work_year</th>\n",
       "      <th>experience_level</th>\n",
       "      <th>employment_type</th>\n",
       "      <th>job_title</th>\n",
       "      <th>salary_currency</th>\n",
       "      <th>employee_residence</th>\n",
       "      <th>remote_ratio</th>\n",
       "      <th>company_location</th>\n",
       "      <th>company_size</th>\n",
       "      <th>greate_experience</th>\n",
       "    </tr>\n",
       "  </thead>\n",
       "  <tbody>\n",
       "    <tr>\n",
       "      <th>0</th>\n",
       "      <td>2022</td>\n",
       "      <td>SE</td>\n",
       "      <td>FT</td>\n",
       "      <td>Machine Learning Software Engineer</td>\n",
       "      <td>USD</td>\n",
       "      <td>CA</td>\n",
       "      <td>100</td>\n",
       "      <td>CA</td>\n",
       "      <td>M</td>\n",
       "      <td>1</td>\n",
       "    </tr>\n",
       "    <tr>\n",
       "      <th>1</th>\n",
       "      <td>2023</td>\n",
       "      <td>SE</td>\n",
       "      <td>FT</td>\n",
       "      <td>Data Analyst</td>\n",
       "      <td>USD</td>\n",
       "      <td>US</td>\n",
       "      <td>100</td>\n",
       "      <td>US</td>\n",
       "      <td>M</td>\n",
       "      <td>1</td>\n",
       "    </tr>\n",
       "    <tr>\n",
       "      <th>2</th>\n",
       "      <td>2022</td>\n",
       "      <td>SE</td>\n",
       "      <td>FT</td>\n",
       "      <td>Data Scientist</td>\n",
       "      <td>USD</td>\n",
       "      <td>US</td>\n",
       "      <td>100</td>\n",
       "      <td>US</td>\n",
       "      <td>M</td>\n",
       "      <td>1</td>\n",
       "    </tr>\n",
       "    <tr>\n",
       "      <th>3</th>\n",
       "      <td>2023</td>\n",
       "      <td>SE</td>\n",
       "      <td>FT</td>\n",
       "      <td>Applied Scientist</td>\n",
       "      <td>USD</td>\n",
       "      <td>US</td>\n",
       "      <td>0</td>\n",
       "      <td>US</td>\n",
       "      <td>L</td>\n",
       "      <td>1</td>\n",
       "    </tr>\n",
       "    <tr>\n",
       "      <th>4</th>\n",
       "      <td>2021</td>\n",
       "      <td>EX</td>\n",
       "      <td>FT</td>\n",
       "      <td>Head of Data</td>\n",
       "      <td>USD</td>\n",
       "      <td>RU</td>\n",
       "      <td>50</td>\n",
       "      <td>RU</td>\n",
       "      <td>L</td>\n",
       "      <td>0</td>\n",
       "    </tr>\n",
       "    <tr>\n",
       "      <th>...</th>\n",
       "      <td>...</td>\n",
       "      <td>...</td>\n",
       "      <td>...</td>\n",
       "      <td>...</td>\n",
       "      <td>...</td>\n",
       "      <td>...</td>\n",
       "      <td>...</td>\n",
       "      <td>...</td>\n",
       "      <td>...</td>\n",
       "      <td>...</td>\n",
       "    </tr>\n",
       "    <tr>\n",
       "      <th>934</th>\n",
       "      <td>2023</td>\n",
       "      <td>MI</td>\n",
       "      <td>FT</td>\n",
       "      <td>Data Analyst</td>\n",
       "      <td>USD</td>\n",
       "      <td>US</td>\n",
       "      <td>0</td>\n",
       "      <td>US</td>\n",
       "      <td>M</td>\n",
       "      <td>0</td>\n",
       "    </tr>\n",
       "    <tr>\n",
       "      <th>935</th>\n",
       "      <td>2023</td>\n",
       "      <td>SE</td>\n",
       "      <td>FT</td>\n",
       "      <td>Machine Learning Scientist</td>\n",
       "      <td>USD</td>\n",
       "      <td>US</td>\n",
       "      <td>0</td>\n",
       "      <td>US</td>\n",
       "      <td>M</td>\n",
       "      <td>1</td>\n",
       "    </tr>\n",
       "    <tr>\n",
       "      <th>936</th>\n",
       "      <td>2022</td>\n",
       "      <td>MI</td>\n",
       "      <td>FT</td>\n",
       "      <td>Data Analyst</td>\n",
       "      <td>USD</td>\n",
       "      <td>US</td>\n",
       "      <td>100</td>\n",
       "      <td>US</td>\n",
       "      <td>M</td>\n",
       "      <td>0</td>\n",
       "    </tr>\n",
       "    <tr>\n",
       "      <th>937</th>\n",
       "      <td>2022</td>\n",
       "      <td>SE</td>\n",
       "      <td>FT</td>\n",
       "      <td>Data Engineer</td>\n",
       "      <td>USD</td>\n",
       "      <td>US</td>\n",
       "      <td>0</td>\n",
       "      <td>US</td>\n",
       "      <td>M</td>\n",
       "      <td>1</td>\n",
       "    </tr>\n",
       "    <tr>\n",
       "      <th>938</th>\n",
       "      <td>2023</td>\n",
       "      <td>MI</td>\n",
       "      <td>FT</td>\n",
       "      <td>Data Engineer</td>\n",
       "      <td>USD</td>\n",
       "      <td>US</td>\n",
       "      <td>0</td>\n",
       "      <td>US</td>\n",
       "      <td>M</td>\n",
       "      <td>0</td>\n",
       "    </tr>\n",
       "  </tbody>\n",
       "</table>\n",
       "<p>939 rows × 10 columns</p>\n",
       "</div>"
      ],
      "text/plain": [
       "     work_year experience_level employment_type  \\\n",
       "0         2022               SE              FT   \n",
       "1         2023               SE              FT   \n",
       "2         2022               SE              FT   \n",
       "3         2023               SE              FT   \n",
       "4         2021               EX              FT   \n",
       "..         ...              ...             ...   \n",
       "934       2023               MI              FT   \n",
       "935       2023               SE              FT   \n",
       "936       2022               MI              FT   \n",
       "937       2022               SE              FT   \n",
       "938       2023               MI              FT   \n",
       "\n",
       "                              job_title salary_currency employee_residence  \\\n",
       "0    Machine Learning Software Engineer             USD                 CA   \n",
       "1                          Data Analyst             USD                 US   \n",
       "2                        Data Scientist             USD                 US   \n",
       "3                     Applied Scientist             USD                 US   \n",
       "4                          Head of Data             USD                 RU   \n",
       "..                                  ...             ...                ...   \n",
       "934                        Data Analyst             USD                 US   \n",
       "935          Machine Learning Scientist             USD                 US   \n",
       "936                        Data Analyst             USD                 US   \n",
       "937                       Data Engineer             USD                 US   \n",
       "938                       Data Engineer             USD                 US   \n",
       "\n",
       "     remote_ratio company_location company_size  greate_experience  \n",
       "0             100               CA            M                  1  \n",
       "1             100               US            M                  1  \n",
       "2             100               US            M                  1  \n",
       "3               0               US            L                  1  \n",
       "4              50               RU            L                  0  \n",
       "..            ...              ...          ...                ...  \n",
       "934             0               US            M                  0  \n",
       "935             0               US            M                  1  \n",
       "936           100               US            M                  0  \n",
       "937             0               US            M                  1  \n",
       "938             0               US            M                  0  \n",
       "\n",
       "[939 rows x 10 columns]"
      ]
     },
     "execution_count": 316,
     "metadata": {},
     "output_type": "execute_result"
    }
   ],
   "source": [
    "df_test"
   ]
  },
  {
   "cell_type": "code",
   "execution_count": 317,
   "metadata": {},
   "outputs": [
    {
     "data": {
      "text/html": [
       "<div>\n",
       "<style scoped>\n",
       "    .dataframe tbody tr th:only-of-type {\n",
       "        vertical-align: middle;\n",
       "    }\n",
       "\n",
       "    .dataframe tbody tr th {\n",
       "        vertical-align: top;\n",
       "    }\n",
       "\n",
       "    .dataframe thead th {\n",
       "        text-align: right;\n",
       "    }\n",
       "</style>\n",
       "<table border=\"1\" class=\"dataframe\">\n",
       "  <thead>\n",
       "    <tr style=\"text-align: right;\">\n",
       "      <th></th>\n",
       "      <th>work_year</th>\n",
       "      <th>experience_level</th>\n",
       "      <th>employment_type</th>\n",
       "      <th>job_title</th>\n",
       "      <th>remote_ratio</th>\n",
       "      <th>company_size</th>\n",
       "      <th>greate_experience</th>\n",
       "    </tr>\n",
       "  </thead>\n",
       "  <tbody>\n",
       "    <tr>\n",
       "      <th>0</th>\n",
       "      <td>2022</td>\n",
       "      <td>SE</td>\n",
       "      <td>FT</td>\n",
       "      <td>Machine Learning Software Engineer</td>\n",
       "      <td>100</td>\n",
       "      <td>M</td>\n",
       "      <td>1</td>\n",
       "    </tr>\n",
       "    <tr>\n",
       "      <th>1</th>\n",
       "      <td>2023</td>\n",
       "      <td>SE</td>\n",
       "      <td>FT</td>\n",
       "      <td>Data Analyst</td>\n",
       "      <td>100</td>\n",
       "      <td>M</td>\n",
       "      <td>1</td>\n",
       "    </tr>\n",
       "    <tr>\n",
       "      <th>2</th>\n",
       "      <td>2022</td>\n",
       "      <td>SE</td>\n",
       "      <td>FT</td>\n",
       "      <td>Data Scientist</td>\n",
       "      <td>100</td>\n",
       "      <td>M</td>\n",
       "      <td>1</td>\n",
       "    </tr>\n",
       "    <tr>\n",
       "      <th>3</th>\n",
       "      <td>2023</td>\n",
       "      <td>SE</td>\n",
       "      <td>FT</td>\n",
       "      <td>Applied Scientist</td>\n",
       "      <td>0</td>\n",
       "      <td>L</td>\n",
       "      <td>1</td>\n",
       "    </tr>\n",
       "    <tr>\n",
       "      <th>4</th>\n",
       "      <td>2021</td>\n",
       "      <td>EX</td>\n",
       "      <td>FT</td>\n",
       "      <td>Head of Data</td>\n",
       "      <td>50</td>\n",
       "      <td>L</td>\n",
       "      <td>0</td>\n",
       "    </tr>\n",
       "    <tr>\n",
       "      <th>...</th>\n",
       "      <td>...</td>\n",
       "      <td>...</td>\n",
       "      <td>...</td>\n",
       "      <td>...</td>\n",
       "      <td>...</td>\n",
       "      <td>...</td>\n",
       "      <td>...</td>\n",
       "    </tr>\n",
       "    <tr>\n",
       "      <th>934</th>\n",
       "      <td>2023</td>\n",
       "      <td>MI</td>\n",
       "      <td>FT</td>\n",
       "      <td>Data Analyst</td>\n",
       "      <td>0</td>\n",
       "      <td>M</td>\n",
       "      <td>0</td>\n",
       "    </tr>\n",
       "    <tr>\n",
       "      <th>935</th>\n",
       "      <td>2023</td>\n",
       "      <td>SE</td>\n",
       "      <td>FT</td>\n",
       "      <td>Machine Learning Scientist</td>\n",
       "      <td>0</td>\n",
       "      <td>M</td>\n",
       "      <td>1</td>\n",
       "    </tr>\n",
       "    <tr>\n",
       "      <th>936</th>\n",
       "      <td>2022</td>\n",
       "      <td>MI</td>\n",
       "      <td>FT</td>\n",
       "      <td>Data Analyst</td>\n",
       "      <td>100</td>\n",
       "      <td>M</td>\n",
       "      <td>0</td>\n",
       "    </tr>\n",
       "    <tr>\n",
       "      <th>937</th>\n",
       "      <td>2022</td>\n",
       "      <td>SE</td>\n",
       "      <td>FT</td>\n",
       "      <td>Data Engineer</td>\n",
       "      <td>0</td>\n",
       "      <td>M</td>\n",
       "      <td>1</td>\n",
       "    </tr>\n",
       "    <tr>\n",
       "      <th>938</th>\n",
       "      <td>2023</td>\n",
       "      <td>MI</td>\n",
       "      <td>FT</td>\n",
       "      <td>Data Engineer</td>\n",
       "      <td>0</td>\n",
       "      <td>M</td>\n",
       "      <td>0</td>\n",
       "    </tr>\n",
       "  </tbody>\n",
       "</table>\n",
       "<p>939 rows × 7 columns</p>\n",
       "</div>"
      ],
      "text/plain": [
       "     work_year experience_level employment_type  \\\n",
       "0         2022               SE              FT   \n",
       "1         2023               SE              FT   \n",
       "2         2022               SE              FT   \n",
       "3         2023               SE              FT   \n",
       "4         2021               EX              FT   \n",
       "..         ...              ...             ...   \n",
       "934       2023               MI              FT   \n",
       "935       2023               SE              FT   \n",
       "936       2022               MI              FT   \n",
       "937       2022               SE              FT   \n",
       "938       2023               MI              FT   \n",
       "\n",
       "                              job_title  remote_ratio company_size  \\\n",
       "0    Machine Learning Software Engineer           100            M   \n",
       "1                          Data Analyst           100            M   \n",
       "2                        Data Scientist           100            M   \n",
       "3                     Applied Scientist             0            L   \n",
       "4                          Head of Data            50            L   \n",
       "..                                  ...           ...          ...   \n",
       "934                        Data Analyst             0            M   \n",
       "935          Machine Learning Scientist             0            M   \n",
       "936                        Data Analyst           100            M   \n",
       "937                       Data Engineer             0            M   \n",
       "938                       Data Engineer             0            M   \n",
       "\n",
       "     greate_experience  \n",
       "0                    1  \n",
       "1                    1  \n",
       "2                    1  \n",
       "3                    1  \n",
       "4                    0  \n",
       "..                 ...  \n",
       "934                  0  \n",
       "935                  1  \n",
       "936                  0  \n",
       "937                  1  \n",
       "938                  0  \n",
       "\n",
       "[939 rows x 7 columns]"
      ]
     },
     "execution_count": 317,
     "metadata": {},
     "output_type": "execute_result"
    }
   ],
   "source": [
    "df_test_23 = df_test.drop(\n",
    "    [ 'salary_currency', 'employee_residence', 'company_location' ],\n",
    "    axis = 1\n",
    ")\n",
    "df_test_23"
   ]
  },
  {
   "cell_type": "code",
   "execution_count": 318,
   "metadata": {},
   "outputs": [
    {
     "name": "stdout",
     "output_type": "stream",
     "text": [
      "(2816,)\n",
      "(2816, 7)\n"
     ]
    }
   ],
   "source": [
    "y_train = df_train_23['salary_in_usd'].to_numpy()\n",
    "X_train = df_train_23.drop([ 'salary_in_usd' ], axis = 1)\n",
    "print(y_train.shape)\n",
    "print(X_train.shape)"
   ]
  },
  {
   "cell_type": "code",
   "execution_count": 319,
   "metadata": {},
   "outputs": [
    {
     "name": "stdout",
     "output_type": "stream",
     "text": [
      "(939, 7)\n"
     ]
    }
   ],
   "source": [
    "X_test = df_test_23\n",
    "print(X_test.shape)"
   ]
  },
  {
   "cell_type": "code",
   "execution_count": 320,
   "metadata": {},
   "outputs": [
    {
     "name": "stdout",
     "output_type": "stream",
     "text": [
      "(2816, 98)\n",
      "(939, 98)\n"
     ]
    }
   ],
   "source": [
    "from sklearn.compose import ColumnTransformer\n",
    "from sklearn.preprocessing import OneHotEncoder\n",
    "from sklearn.pipeline import Pipeline\n",
    "\n",
    "\n",
    "numeric_columns = X_train.select_dtypes(include=['int', 'float']).columns\n",
    "categorical_columns = X_train.select_dtypes(include=['object']).columns\n",
    "\n",
    "\n",
    "preprocessor = ColumnTransformer(\n",
    "   transformers=[\n",
    "       ('num', 'passthrough', numeric_columns),\n",
    "       ('cat', OneHotEncoder(handle_unknown='ignore'), categorical_columns)\n",
    "   ])\n",
    "\n",
    "\n",
    "pipeline = Pipeline([\n",
    "   ('preprocessor', preprocessor)\n",
    "])\n",
    "\n",
    "X_train = pipeline.fit_transform(X_train)\n",
    "X_test = pipeline.transform(X_test)\n",
    "print(X_train.shape)\n",
    "print(X_test.shape)"
   ]
  },
  {
   "cell_type": "code",
   "execution_count": 321,
   "metadata": {},
   "outputs": [
    {
     "data": {
      "text/plain": [
       "0.2749820285080593"
      ]
     },
     "execution_count": 321,
     "metadata": {},
     "output_type": "execute_result"
    }
   ],
   "source": [
    "import sklearn.linear_model\n",
    "import sklearn.model_selection\n",
    "\n",
    "model = sklearn.linear_model.LinearRegression(\n",
    "    fit_intercept=True, copy_X=True, n_jobs=None, positive=False\n",
    ")\n",
    "\n",
    "sklearn.model_selection.cross_val_score(\n",
    "    estimator = model,\n",
    "    X = X_train,\n",
    "    y = y_train,\n",
    "    scoring = 'r2'\n",
    ").mean()"
   ]
  },
  {
   "cell_type": "code",
   "execution_count": 322,
   "metadata": {},
   "outputs": [
    {
     "data": {
      "text/plain": [
       "0.2749820285080593"
      ]
     },
     "execution_count": 322,
     "metadata": {},
     "output_type": "execute_result"
    }
   ],
   "source": [
    "sklearn.model_selection.cross_validate(\n",
    "    estimator = model,\n",
    "    X = X_train,\n",
    "    y = y_train,\n",
    "    scoring = 'r2'\n",
    ")['test_score'].mean()"
   ]
  },
  {
   "cell_type": "code",
   "execution_count": 323,
   "metadata": {},
   "outputs": [
    {
     "data": {
      "text/plain": [
       "array([[2.022e+03, 1.000e+02, 0.000e+00, ..., 0.000e+00, 0.000e+00,\n",
       "        1.000e+00],\n",
       "       [2.022e+03, 0.000e+00, 1.000e+00, ..., 0.000e+00, 1.000e+00,\n",
       "        0.000e+00],\n",
       "       [2.022e+03, 1.000e+02, 1.000e+00, ..., 0.000e+00, 1.000e+00,\n",
       "        0.000e+00],\n",
       "       ...,\n",
       "       [2.023e+03, 1.000e+02, 0.000e+00, ..., 0.000e+00, 1.000e+00,\n",
       "        0.000e+00],\n",
       "       [2.021e+03, 5.000e+01, 0.000e+00, ..., 0.000e+00, 1.000e+00,\n",
       "        0.000e+00],\n",
       "       [2.022e+03, 1.000e+02, 0.000e+00, ..., 0.000e+00, 1.000e+00,\n",
       "        0.000e+00]])"
      ]
     },
     "execution_count": 323,
     "metadata": {},
     "output_type": "execute_result"
    }
   ],
   "source": [
    "X_train_dense = X_train.toarray()\n",
    "X_test_dense = X_test.toarray()\n",
    "X_train_dense"
   ]
  },
  {
   "cell_type": "code",
   "execution_count": 324,
   "metadata": {},
   "outputs": [
    {
     "data": {
      "text/plain": [
       "array([[-0.5238817 ,  1.08444468, -1.4297987 , ..., -0.37612148,\n",
       "        -2.27794008,  5.05628695],\n",
       "       [-0.5238817 , -0.97198375,  0.69939915, ..., -0.37612148,\n",
       "         0.43899311, -0.19777359],\n",
       "       [-0.5238817 ,  1.08444468,  0.69939915, ..., -0.37612148,\n",
       "         0.43899311, -0.19777359],\n",
       "       ...,\n",
       "       [ 0.9210261 ,  1.08444468, -1.4297987 , ..., -0.37612148,\n",
       "         0.43899311, -0.19777359],\n",
       "       [-1.96878949,  0.05623047, -1.4297987 , ..., -0.37612148,\n",
       "         0.43899311, -0.19777359],\n",
       "       [-0.5238817 ,  1.08444468, -1.4297987 , ..., -0.37612148,\n",
       "         0.43899311, -0.19777359]])"
      ]
     },
     "execution_count": 324,
     "metadata": {},
     "output_type": "execute_result"
    }
   ],
   "source": [
    "import sklearn.linear_model\n",
    "import sklearn.preprocessing\n",
    "\n",
    "\n",
    "ss = sklearn.preprocessing.StandardScaler()\n",
    "train_X = ss.fit_transform(X_train_dense)\n",
    "test_X = ss.transform(X_test_dense)\n",
    "train_y = y_train.copy()\n",
    "train_X"
   ]
  },
  {
   "cell_type": "code",
   "execution_count": 325,
   "metadata": {},
   "outputs": [
    {
     "data": {
      "text/plain": [
       "{'mean_fit_time': array([0.00368444, 0.00268356, 0.00320228, 0.00318154, 0.00369207,\n",
       "        0.0031747 , 0.00318058, 0.00289146, 0.00287278, 0.0029312 ,\n",
       "        0.0031964 , 0.00319433, 0.00252541, 0.00265511, 0.00287493,\n",
       "        0.00305049, 0.00302672, 0.00286388, 0.00298278, 0.00319481,\n",
       "        0.00334668, 0.00317001, 0.0035398 , 0.00336353, 0.00286595,\n",
       "        0.00286643, 0.00318185, 0.00333595, 0.0031902 , 0.00318869,\n",
       "        0.00352732, 0.0030268 , 0.00309563, 0.00286301, 0.00287231,\n",
       "        0.00351969, 0.00351389, 0.00305605, 0.0038685 , 0.00298731,\n",
       "        0.00329097, 0.00320037, 0.00339127, 0.00286229, 0.00319393,\n",
       "        0.00368611, 0.00273395, 0.00302998, 0.00350587, 0.0031933 ,\n",
       "        0.00318448, 0.0037202 , 0.00285792, 0.00352812, 0.00370892,\n",
       "        0.00340128, 0.00385928, 0.00319219, 0.00319338, 0.00469168,\n",
       "        0.00251778, 0.00285864, 0.00318495, 0.00291936, 0.00285021,\n",
       "        0.00332475, 0.00304198, 0.0028588 , 0.00353034, 0.00301154,\n",
       "        0.00284648, 0.00319465, 0.00286404, 0.00323455, 0.00299271,\n",
       "        0.00353201, 0.00320117, 0.0033768 , 0.00252446, 0.00286428,\n",
       "        0.00219162, 0.00305247, 0.00335352, 0.00286341, 0.00320903,\n",
       "        0.00317915, 0.0033764 , 0.00294415, 0.00302935, 0.00286222,\n",
       "        0.00284219, 0.00299207, 0.00285347, 0.00265638, 0.00284823,\n",
       "        0.00340382, 0.00250451, 0.00303809, 0.00284696, 0.00356857]),\n",
       " 'std_fit_time': array([1.26266438e-03, 4.76504263e-04, 2.66823117e-04, 2.55696883e-04,\n",
       "        4.90378482e-04, 2.41817591e-04, 2.54176744e-04, 2.32144808e-04,\n",
       "        1.82477128e-04, 4.78741116e-04, 2.59971917e-04, 8.58565684e-04,\n",
       "        7.45944267e-04, 4.87638227e-04, 1.72865290e-04, 7.83238801e-05,\n",
       "        4.07026021e-04, 1.90676541e-04, 8.24086138e-04, 6.03081795e-04,\n",
       "        4.58491760e-04, 6.13781980e-04, 1.11930636e-03, 9.05089711e-04,\n",
       "        8.36102521e-04, 8.50354333e-04, 2.60955013e-04, 4.98091201e-04,\n",
       "        8.58820883e-04, 8.55021067e-04, 4.26403939e-04, 8.19050153e-04,\n",
       "        3.96094279e-04, 8.39801535e-04, 1.88056935e-04, 4.22746792e-04,\n",
       "        6.85444565e-04, 4.07150575e-04, 6.55210993e-04, 8.13500900e-06,\n",
       "        7.08383215e-04, 2.72900404e-04, 2.77604080e-04, 6.52164649e-04,\n",
       "        2.76932893e-04, 4.81692562e-04, 6.50891047e-04, 7.10858853e-05,\n",
       "        7.13694307e-04, 1.06677368e-03, 8.60581174e-04, 1.96022640e-04,\n",
       "        1.97770475e-04, 4.11381292e-04, 2.35628680e-04, 5.60891282e-04,\n",
       "        1.85426924e-04, 1.06067623e-03, 8.61489787e-04, 6.51691221e-04,\n",
       "        4.04331778e-04, 2.00315974e-04, 2.81153525e-04, 1.43271162e-04,\n",
       "        6.51985218e-04, 9.37005784e-04, 5.85005545e-05, 1.97865620e-04,\n",
       "        3.81942909e-04, 2.01857935e-05, 6.39806937e-04, 5.97765964e-04,\n",
       "        6.25879766e-04, 4.57873155e-04, 1.42178701e-05, 1.10996002e-03,\n",
       "        2.91906940e-04, 1.06380778e-03, 4.14200407e-04, 1.98934109e-04,\n",
       "        2.50319551e-04, 8.81131656e-04, 4.57100518e-04, 2.03430527e-04,\n",
       "        2.65920796e-04, 2.86480490e-04, 9.68572777e-04, 3.04643988e-04,\n",
       "        4.04614429e-05, 1.97587878e-04, 2.17707453e-04, 8.12763780e-04,\n",
       "        2.01060084e-04, 4.62707601e-04, 2.11749376e-04, 2.84478849e-04,\n",
       "        3.96129071e-04, 8.58891878e-04, 6.42262304e-04, 1.11561427e-03]),\n",
       " 'mean_score_time': array([0.00053104, 0.00033029, 0.00033236, 0.00067703, 0.00050338,\n",
       "        0.00100017, 0.00052007, 0.00101447, 0.00065541, 0.00064715,\n",
       "        0.00065811, 0.0003353 , 0.00066964, 0.00066447, 0.00065136,\n",
       "        0.00066233, 0.00067846, 0.00033275, 0.00087444, 0.00100064,\n",
       "        0.0010306 , 0.00067989, 0.00033243, 0.00068148, 0.00065796,\n",
       "        0.0011483 , 0.00034475, 0.00066924, 0.00087309, 0.00066749,\n",
       "        0.00066789, 0.00087897, 0.00047374, 0.00099977, 0.00098523,\n",
       "        0.00067274, 0.00068482, 0.00066312, 0.        , 0.00084368,\n",
       "        0.00044084, 0.00033061, 0.00066288, 0.00098999, 0.00033506,\n",
       "        0.00018096, 0.00098777, 0.00101097, 0.00067918, 0.00033363,\n",
       "        0.00068092, 0.00068243, 0.00066868, 0.00098856, 0.00033307,\n",
       "        0.        , 0.        , 0.00101272, 0.00033347, 0.00066789,\n",
       "        0.00068482, 0.00033291, 0.00083693, 0.00098054, 0.00068021,\n",
       "        0.00070087, 0.00033267, 0.00051379, 0.00034086, 0.00051498,\n",
       "        0.00033307, 0.00033307, 0.00101304, 0.00100764, 0.00084464,\n",
       "        0.00066272, 0.00065875, 0.00066861, 0.00101145, 0.00033045,\n",
       "        0.00119178, 0.00099937, 0.00083876, 0.00117564, 0.00066638,\n",
       "        0.00066622, 0.000319  , 0.00101336, 0.00099993, 0.00099874,\n",
       "        0.04198194, 0.00084519, 0.00100295, 0.00120378, 0.00101376,\n",
       "        0.00033116, 0.00121522, 0.0006659 , 0.00033371, 0.00033498]),\n",
       " 'std_score_time': array([4.22335676e-04, 4.67099473e-04, 4.70021655e-04, 4.78923142e-04,\n",
       "        3.96382980e-04, 1.21570099e-06, 4.09378763e-04, 1.43104120e-05,\n",
       "        4.63531380e-04, 4.57615064e-04, 4.65411645e-04, 4.74180144e-04,\n",
       "        4.73511556e-04, 4.69858400e-04, 4.60951890e-04, 4.68342618e-04,\n",
       "        4.80199733e-04, 4.70583613e-04, 6.68660773e-04, 8.67747557e-06,\n",
       "        4.06969007e-04, 4.81010388e-04, 4.70134046e-04, 4.82173085e-04,\n",
       "        4.65464975e-04, 2.01758787e-04, 4.87554744e-04, 4.73226507e-04,\n",
       "        6.64020897e-04, 4.71988758e-04, 4.72272736e-04, 6.75792330e-04,\n",
       "        3.95959931e-04, 6.19378655e-06, 1.70935018e-05, 4.75930478e-04,\n",
       "        4.84417440e-04, 4.68902628e-04, 0.00000000e+00, 2.13303616e-04,\n",
       "        4.12842544e-04, 4.67549039e-04, 4.68732072e-04, 8.17160202e-04,\n",
       "        4.73842969e-04, 2.55915664e-04, 1.46751752e-05, 1.88680687e-05,\n",
       "        4.80684075e-04, 4.71819920e-04, 4.81833193e-04, 4.82795222e-04,\n",
       "        4.72835452e-04, 1.45550371e-05, 4.71033179e-04, 0.00000000e+00,\n",
       "        0.00000000e+00, 1.95293133e-05, 4.71595137e-04, 4.72272054e-04,\n",
       "        4.84505440e-04, 4.70808396e-04, 2.31359759e-04, 2.40525893e-05,\n",
       "        4.81154015e-04, 4.97548304e-04, 4.70471221e-04, 4.09761988e-04,\n",
       "        4.82047555e-04, 4.10734438e-04, 4.71033179e-04, 4.71033179e-04,\n",
       "        2.02314239e-05, 2.70926697e-05, 6.37078545e-04, 4.68659466e-04,\n",
       "        4.66063990e-04, 4.72787522e-04, 1.44426481e-05, 4.67324256e-04,\n",
       "        2.96113849e-04, 1.26658896e-06, 2.11071507e-04, 2.47655819e-04,\n",
       "        4.71201857e-04, 4.71784378e-04, 4.51139866e-04, 1.91926545e-05,\n",
       "        2.74612944e-06, 8.42487284e-06, 5.79220790e-02, 6.36672103e-04,\n",
       "        4.67338258e-06, 2.85759363e-04, 2.61312274e-05, 4.68335781e-04,\n",
       "        2.75457632e-04, 4.70870879e-04, 4.71932312e-04, 4.73730577e-04]),\n",
       " 'param_alpha': masked_array(data=[0.1, 0.2, 0.30000000000000004, 0.4, 0.5, 0.6,\n",
       "                    0.7000000000000001, 0.8, 0.9, 1.0, 1.1,\n",
       "                    1.2000000000000002, 1.3000000000000003,\n",
       "                    1.4000000000000001, 1.5000000000000002, 1.6,\n",
       "                    1.7000000000000002, 1.8000000000000003,\n",
       "                    1.9000000000000001, 2.0, 2.1, 2.2, 2.3000000000000003,\n",
       "                    2.4000000000000004, 2.5000000000000004, 2.6, 2.7,\n",
       "                    2.8000000000000003, 2.9000000000000004,\n",
       "                    3.0000000000000004, 3.1, 3.2, 3.3000000000000003,\n",
       "                    3.4000000000000004, 3.5000000000000004, 3.6, 3.7,\n",
       "                    3.8000000000000003, 3.9000000000000004, 4.0, 4.1, 4.2,\n",
       "                    4.3, 4.3999999999999995, 4.5, 4.6, 4.7, 4.8, 4.9, 5.0,\n",
       "                    5.1, 5.2, 5.3, 5.4, 5.5, 5.6, 5.7, 5.8, 5.9, 6.0, 6.1,\n",
       "                    6.2, 6.3, 6.4, 6.5, 6.6, 6.7, 6.8, 6.9, 7.0, 7.1, 7.2,\n",
       "                    7.3, 7.4, 7.5, 7.6, 7.7, 7.8, 7.9, 8.0, 8.1, 8.2, 8.3,\n",
       "                    8.4, 8.5, 8.6, 8.7, 8.8, 8.9, 9.0, 9.1, 9.2, 9.3, 9.4,\n",
       "                    9.5, 9.6, 9.700000000000001, 9.8, 9.9, 10.0],\n",
       "              mask=[False, False, False, False, False, False, False, False,\n",
       "                    False, False, False, False, False, False, False, False,\n",
       "                    False, False, False, False, False, False, False, False,\n",
       "                    False, False, False, False, False, False, False, False,\n",
       "                    False, False, False, False, False, False, False, False,\n",
       "                    False, False, False, False, False, False, False, False,\n",
       "                    False, False, False, False, False, False, False, False,\n",
       "                    False, False, False, False, False, False, False, False,\n",
       "                    False, False, False, False, False, False, False, False,\n",
       "                    False, False, False, False, False, False, False, False,\n",
       "                    False, False, False, False, False, False, False, False,\n",
       "                    False, False, False, False, False, False, False, False,\n",
       "                    False, False, False, False],\n",
       "        fill_value=1e+20),\n",
       " 'params': [{'alpha': 0.1},\n",
       "  {'alpha': 0.2},\n",
       "  {'alpha': 0.30000000000000004},\n",
       "  {'alpha': 0.4},\n",
       "  {'alpha': 0.5},\n",
       "  {'alpha': 0.6},\n",
       "  {'alpha': 0.7000000000000001},\n",
       "  {'alpha': 0.8},\n",
       "  {'alpha': 0.9},\n",
       "  {'alpha': 1.0},\n",
       "  {'alpha': 1.1},\n",
       "  {'alpha': 1.2000000000000002},\n",
       "  {'alpha': 1.3000000000000003},\n",
       "  {'alpha': 1.4000000000000001},\n",
       "  {'alpha': 1.5000000000000002},\n",
       "  {'alpha': 1.6},\n",
       "  {'alpha': 1.7000000000000002},\n",
       "  {'alpha': 1.8000000000000003},\n",
       "  {'alpha': 1.9000000000000001},\n",
       "  {'alpha': 2.0},\n",
       "  {'alpha': 2.1},\n",
       "  {'alpha': 2.2},\n",
       "  {'alpha': 2.3000000000000003},\n",
       "  {'alpha': 2.4000000000000004},\n",
       "  {'alpha': 2.5000000000000004},\n",
       "  {'alpha': 2.6},\n",
       "  {'alpha': 2.7},\n",
       "  {'alpha': 2.8000000000000003},\n",
       "  {'alpha': 2.9000000000000004},\n",
       "  {'alpha': 3.0000000000000004},\n",
       "  {'alpha': 3.1},\n",
       "  {'alpha': 3.2},\n",
       "  {'alpha': 3.3000000000000003},\n",
       "  {'alpha': 3.4000000000000004},\n",
       "  {'alpha': 3.5000000000000004},\n",
       "  {'alpha': 3.6},\n",
       "  {'alpha': 3.7},\n",
       "  {'alpha': 3.8000000000000003},\n",
       "  {'alpha': 3.9000000000000004},\n",
       "  {'alpha': 4.0},\n",
       "  {'alpha': 4.1},\n",
       "  {'alpha': 4.2},\n",
       "  {'alpha': 4.3},\n",
       "  {'alpha': 4.3999999999999995},\n",
       "  {'alpha': 4.5},\n",
       "  {'alpha': 4.6},\n",
       "  {'alpha': 4.7},\n",
       "  {'alpha': 4.8},\n",
       "  {'alpha': 4.9},\n",
       "  {'alpha': 5.0},\n",
       "  {'alpha': 5.1},\n",
       "  {'alpha': 5.2},\n",
       "  {'alpha': 5.3},\n",
       "  {'alpha': 5.4},\n",
       "  {'alpha': 5.5},\n",
       "  {'alpha': 5.6},\n",
       "  {'alpha': 5.7},\n",
       "  {'alpha': 5.8},\n",
       "  {'alpha': 5.9},\n",
       "  {'alpha': 6.0},\n",
       "  {'alpha': 6.1},\n",
       "  {'alpha': 6.2},\n",
       "  {'alpha': 6.3},\n",
       "  {'alpha': 6.4},\n",
       "  {'alpha': 6.5},\n",
       "  {'alpha': 6.6},\n",
       "  {'alpha': 6.7},\n",
       "  {'alpha': 6.8},\n",
       "  {'alpha': 6.9},\n",
       "  {'alpha': 7.0},\n",
       "  {'alpha': 7.1},\n",
       "  {'alpha': 7.2},\n",
       "  {'alpha': 7.3},\n",
       "  {'alpha': 7.4},\n",
       "  {'alpha': 7.5},\n",
       "  {'alpha': 7.6},\n",
       "  {'alpha': 7.7},\n",
       "  {'alpha': 7.8},\n",
       "  {'alpha': 7.9},\n",
       "  {'alpha': 8.0},\n",
       "  {'alpha': 8.1},\n",
       "  {'alpha': 8.2},\n",
       "  {'alpha': 8.3},\n",
       "  {'alpha': 8.4},\n",
       "  {'alpha': 8.5},\n",
       "  {'alpha': 8.6},\n",
       "  {'alpha': 8.7},\n",
       "  {'alpha': 8.8},\n",
       "  {'alpha': 8.9},\n",
       "  {'alpha': 9.0},\n",
       "  {'alpha': 9.1},\n",
       "  {'alpha': 9.2},\n",
       "  {'alpha': 9.3},\n",
       "  {'alpha': 9.4},\n",
       "  {'alpha': 9.5},\n",
       "  {'alpha': 9.6},\n",
       "  {'alpha': 9.700000000000001},\n",
       "  {'alpha': 9.8},\n",
       "  {'alpha': 9.9},\n",
       "  {'alpha': 10.0}],\n",
       " 'split0_test_score': array([0.30208019, 0.30208268, 0.30208517, 0.30208765, 0.30209014,\n",
       "        0.30209262, 0.3020951 , 0.30209758, 0.30210005, 0.30210252,\n",
       "        0.302105  , 0.30210746, 0.30210993, 0.3021124 , 0.30211486,\n",
       "        0.30211732, 0.30211978, 0.30212224, 0.30212469, 0.30212715,\n",
       "        0.3021296 , 0.30213205, 0.30213449, 0.30213694, 0.30213938,\n",
       "        0.30214182, 0.30214426, 0.3021467 , 0.30214913, 0.30215157,\n",
       "        0.302154  , 0.30215642, 0.30215885, 0.30216128, 0.3021637 ,\n",
       "        0.30216612, 0.30216854, 0.30217096, 0.30217337, 0.30217578,\n",
       "        0.30217819, 0.3021806 , 0.30218301, 0.30218542, 0.30218782,\n",
       "        0.30219022, 0.30219262, 0.30219502, 0.30219741, 0.3021998 ,\n",
       "        0.30220219, 0.30220458, 0.30220697, 0.30220936, 0.30221174,\n",
       "        0.30221412, 0.3022165 , 0.30221888, 0.30222125, 0.30222362,\n",
       "        0.30222599, 0.30222836, 0.30223073, 0.3022331 , 0.30223546,\n",
       "        0.30223782, 0.30224018, 0.30224254, 0.30224489, 0.30224725,\n",
       "        0.3022496 , 0.30225195, 0.30225429, 0.30225664, 0.30225898,\n",
       "        0.30226133, 0.30226366, 0.302266  , 0.30226834, 0.30227067,\n",
       "        0.302273  , 0.30227533, 0.30227766, 0.30227999, 0.30228231,\n",
       "        0.30228463, 0.30228695, 0.30228927, 0.30229159, 0.3022939 ,\n",
       "        0.30229621, 0.30229852, 0.30230083, 0.30230314, 0.30230544,\n",
       "        0.30230775, 0.30231005, 0.30231234, 0.30231464, 0.30231694]),\n",
       " 'split1_test_score': array([0.25700349, 0.25700785, 0.2570122 , 0.25701656, 0.25702091,\n",
       "        0.25702526, 0.2570296 , 0.25703395, 0.25703829, 0.25704263,\n",
       "        0.25704697, 0.25705131, 0.25705564, 0.25705998, 0.25706431,\n",
       "        0.25706863, 0.25707296, 0.25707729, 0.25708161, 0.25708593,\n",
       "        0.25709025, 0.25709456, 0.25709888, 0.25710319, 0.2571075 ,\n",
       "        0.25711181, 0.25711611, 0.25712042, 0.25712472, 0.25712902,\n",
       "        0.25713332, 0.25713761, 0.25714191, 0.2571462 , 0.25715049,\n",
       "        0.25715478, 0.25715906, 0.25716335, 0.25716763, 0.25717191,\n",
       "        0.25717619, 0.25718046, 0.25718474, 0.25718901, 0.25719328,\n",
       "        0.25719754, 0.25720181, 0.25720607, 0.25721034, 0.25721459,\n",
       "        0.25721885, 0.25722311, 0.25722736, 0.25723161, 0.25723586,\n",
       "        0.25724011, 0.25724436, 0.2572486 , 0.25725284, 0.25725708,\n",
       "        0.25726132, 0.25726555, 0.25726979, 0.25727402, 0.25727825,\n",
       "        0.25728247, 0.2572867 , 0.25729092, 0.25729515, 0.25729936,\n",
       "        0.25730358, 0.2573078 , 0.25731201, 0.25731622, 0.25732043,\n",
       "        0.25732464, 0.25732884, 0.25733305, 0.25733725, 0.25734145,\n",
       "        0.25734565, 0.25734984, 0.25735404, 0.25735823, 0.25736242,\n",
       "        0.2573666 , 0.25737079, 0.25737497, 0.25737916, 0.25738333,\n",
       "        0.25738751, 0.25739169, 0.25739586, 0.25740003, 0.2574042 ,\n",
       "        0.25740837, 0.25741254, 0.2574167 , 0.25742086, 0.25742502]),\n",
       " 'split2_test_score': array([0.29145245, 0.29146124, 0.29147003, 0.29147881, 0.29148759,\n",
       "        0.29149637, 0.29150514, 0.29151391, 0.29152268, 0.29153144,\n",
       "        0.2915402 , 0.29154895, 0.2915577 , 0.29156645, 0.2915752 ,\n",
       "        0.29158394, 0.29159268, 0.29160142, 0.29161015, 0.29161888,\n",
       "        0.2916276 , 0.29163633, 0.29164504, 0.29165376, 0.29166247,\n",
       "        0.29167118, 0.29167989, 0.29168859, 0.29169729, 0.29170598,\n",
       "        0.29171467, 0.29172336, 0.29173205, 0.29174073, 0.29174941,\n",
       "        0.29175809, 0.29176676, 0.29177543, 0.29178409, 0.29179275,\n",
       "        0.29180141, 0.29181007, 0.29181872, 0.29182737, 0.29183602,\n",
       "        0.29184466, 0.2918533 , 0.29186193, 0.29187057, 0.29187919,\n",
       "        0.29188782, 0.29189644, 0.29190506, 0.29191368, 0.29192229,\n",
       "        0.2919309 , 0.29193951, 0.29194811, 0.29195671, 0.2919653 ,\n",
       "        0.2919739 , 0.29198249, 0.29199107, 0.29199966, 0.29200824,\n",
       "        0.29201681, 0.29202538, 0.29203395, 0.29204252, 0.29205108,\n",
       "        0.29205964, 0.2920682 , 0.29207675, 0.2920853 , 0.29209385,\n",
       "        0.29210239, 0.29211093, 0.29211947, 0.292128  , 0.29213654,\n",
       "        0.29214506, 0.29215359, 0.29216211, 0.29217062, 0.29217914,\n",
       "        0.29218765, 0.29219616, 0.29220466, 0.29221316, 0.29222166,\n",
       "        0.29223015, 0.29223865, 0.29224713, 0.29225562, 0.2922641 ,\n",
       "        0.29227258, 0.29228105, 0.29228952, 0.29229799, 0.29230646]),\n",
       " 'mean_test_score': array([0.28351205, 0.28351726, 0.28352247, 0.28352767, 0.28353288,\n",
       "        0.28353808, 0.28354328, 0.28354848, 0.28355367, 0.28355886,\n",
       "        0.28356405, 0.28356924, 0.28357443, 0.28357961, 0.28358479,\n",
       "        0.28358997, 0.28359514, 0.28360031, 0.28360548, 0.28361065,\n",
       "        0.28361582, 0.28362098, 0.28362614, 0.2836313 , 0.28363645,\n",
       "        0.2836416 , 0.28364675, 0.2836519 , 0.28365705, 0.28366219,\n",
       "        0.28366733, 0.28367247, 0.2836776 , 0.28368274, 0.28368787,\n",
       "        0.28369299, 0.28369812, 0.28370324, 0.28370836, 0.28371348,\n",
       "        0.2837186 , 0.28372371, 0.28372882, 0.28373393, 0.28373904,\n",
       "        0.28374414, 0.28374924, 0.28375434, 0.28375944, 0.28376453,\n",
       "        0.28376962, 0.28377471, 0.2837798 , 0.28378488, 0.28378996,\n",
       "        0.28379504, 0.28380012, 0.28380519, 0.28381027, 0.28381534,\n",
       "        0.2838204 , 0.28382547, 0.28383053, 0.28383559, 0.28384065,\n",
       "        0.2838457 , 0.28385076, 0.28385581, 0.28386085, 0.2838659 ,\n",
       "        0.28387094, 0.28387598, 0.28388102, 0.28388606, 0.28389109,\n",
       "        0.28389612, 0.28390115, 0.28390617, 0.2839112 , 0.28391622,\n",
       "        0.28392124, 0.28392625, 0.28393127, 0.28393628, 0.28394129,\n",
       "        0.2839463 , 0.2839513 , 0.2839563 , 0.2839613 , 0.2839663 ,\n",
       "        0.28397129, 0.28397629, 0.28398128, 0.28398626, 0.28399125,\n",
       "        0.28399623, 0.28400121, 0.28400619, 0.28401117, 0.28401614]),\n",
       " 'std_test_score': array([0.01923997, 0.01923998, 0.01923999, 0.01924   , 0.01924001,\n",
       "        0.01924002, 0.01924003, 0.01924004, 0.01924005, 0.01924006,\n",
       "        0.01924007, 0.01924008, 0.01924009, 0.0192401 , 0.01924012,\n",
       "        0.01924013, 0.01924014, 0.01924015, 0.01924016, 0.01924018,\n",
       "        0.01924019, 0.0192402 , 0.01924022, 0.01924023, 0.01924024,\n",
       "        0.01924026, 0.01924027, 0.01924028, 0.0192403 , 0.01924031,\n",
       "        0.01924033, 0.01924034, 0.01924036, 0.01924037, 0.01924039,\n",
       "        0.0192404 , 0.01924042, 0.01924043, 0.01924045, 0.01924046,\n",
       "        0.01924048, 0.0192405 , 0.01924051, 0.01924053, 0.01924055,\n",
       "        0.01924056, 0.01924058, 0.0192406 , 0.01924062, 0.01924064,\n",
       "        0.01924065, 0.01924067, 0.01924069, 0.01924071, 0.01924073,\n",
       "        0.01924075, 0.01924077, 0.01924079, 0.0192408 , 0.01924082,\n",
       "        0.01924084, 0.01924086, 0.01924088, 0.01924091, 0.01924093,\n",
       "        0.01924095, 0.01924097, 0.01924099, 0.01924101, 0.01924103,\n",
       "        0.01924105, 0.01924108, 0.0192411 , 0.01924112, 0.01924114,\n",
       "        0.01924116, 0.01924119, 0.01924121, 0.01924123, 0.01924126,\n",
       "        0.01924128, 0.0192413 , 0.01924133, 0.01924135, 0.01924138,\n",
       "        0.0192414 , 0.01924143, 0.01924145, 0.01924147, 0.0192415 ,\n",
       "        0.01924153, 0.01924155, 0.01924158, 0.0192416 , 0.01924163,\n",
       "        0.01924165, 0.01924168, 0.01924171, 0.01924173, 0.01924176]),\n",
       " 'rank_test_score': array([100,  99,  98,  97,  96,  95,  94,  93,  92,  91,  90,  89,  88,\n",
       "         87,  86,  85,  84,  83,  82,  81,  80,  79,  78,  77,  76,  75,\n",
       "         74,  73,  72,  71,  70,  69,  68,  67,  66,  65,  64,  63,  62,\n",
       "         61,  60,  59,  58,  57,  56,  55,  54,  53,  52,  51,  50,  49,\n",
       "         48,  47,  46,  45,  44,  43,  42,  41,  40,  39,  38,  37,  36,\n",
       "         35,  34,  33,  32,  31,  30,  29,  28,  27,  26,  25,  24,  23,\n",
       "         22,  21,  20,  19,  18,  17,  16,  15,  14,  13,  12,  11,  10,\n",
       "          9,   8,   7,   6,   5,   4,   3,   2,   1])}"
      ]
     },
     "execution_count": 325,
     "metadata": {},
     "output_type": "execute_result"
    }
   ],
   "source": [
    "import sklearn.linear_model\n",
    "import sklearn.model_selection\n",
    "\n",
    "numpy.random.seed(42)\n",
    "model = sklearn.linear_model.Ridge(\n",
    "    random_state = 42,\n",
    "    fit_intercept=True, copy_X=True, max_iter=None, tol=0.0001, solver='auto', positive=False\n",
    ")\n",
    "\n",
    "cv = sklearn.model_selection.GridSearchCV(\n",
    "    estimator = model,\n",
    "    param_grid = {\n",
    "        'alpha': numpy.arange(0.1, 10.05, 0.1)\n",
    "    },\n",
    "    cv = 3,\n",
    "    scoring = 'r2'\n",
    ").fit(train_X, train_y)\n",
    "\n",
    "res = cv.cv_results_\n",
    "res"
   ]
  },
  {
   "cell_type": "code",
   "execution_count": 326,
   "metadata": {},
   "outputs": [
    {
     "data": {
      "text/plain": [
       "{'alpha': 10.0}"
      ]
     },
     "execution_count": 326,
     "metadata": {},
     "output_type": "execute_result"
    }
   ],
   "source": [
    "cv.best_params_"
   ]
  },
  {
   "cell_type": "code",
   "execution_count": 327,
   "metadata": {},
   "outputs": [
    {
     "data": {
      "text/plain": [
       "{'alpha': 10.0}"
      ]
     },
     "execution_count": 327,
     "metadata": {},
     "output_type": "execute_result"
    }
   ],
   "source": [
    "res['params'][res['mean_test_score'].argmax()]"
   ]
  },
  {
   "cell_type": "code",
   "execution_count": 328,
   "metadata": {},
   "outputs": [
    {
     "data": {
      "text/plain": [
       "0.2840161385329869"
      ]
     },
     "execution_count": 328,
     "metadata": {},
     "output_type": "execute_result"
    }
   ],
   "source": [
    "res['mean_test_score'].max()"
   ]
  },
  {
   "cell_type": "code",
   "execution_count": 329,
   "metadata": {},
   "outputs": [
    {
     "data": {
      "text/plain": [
       "0.2840161385329869"
      ]
     },
     "execution_count": 329,
     "metadata": {},
     "output_type": "execute_result"
    }
   ],
   "source": [
    "cv.best_score_"
   ]
  },
  {
   "cell_type": "code",
   "execution_count": 330,
   "metadata": {},
   "outputs": [
    {
     "data": {
      "text/plain": [
       "array([[-0.5238817 ,  1.08444468, -1.4297987 , ..., -0.37612148,\n",
       "        -2.27794008,  5.05628695],\n",
       "       [-0.5238817 , -0.97198375,  0.69939915, ..., -0.37612148,\n",
       "         0.43899311, -0.19777359],\n",
       "       [-0.5238817 ,  1.08444468,  0.69939915, ..., -0.37612148,\n",
       "         0.43899311, -0.19777359],\n",
       "       ...,\n",
       "       [ 0.9210261 ,  1.08444468, -1.4297987 , ..., -0.37612148,\n",
       "         0.43899311, -0.19777359],\n",
       "       [-1.96878949,  0.05623047, -1.4297987 , ..., -0.37612148,\n",
       "         0.43899311, -0.19777359],\n",
       "       [-0.5238817 ,  1.08444468, -1.4297987 , ..., -0.37612148,\n",
       "         0.43899311, -0.19777359]])"
      ]
     },
     "execution_count": 330,
     "metadata": {},
     "output_type": "execute_result"
    }
   ],
   "source": [
    "train_X"
   ]
  },
  {
   "cell_type": "code",
   "execution_count": 331,
   "metadata": {},
   "outputs": [
    {
     "data": {
      "text/plain": [
       "array([ 60000, 172200, 127000, ..., 310000,  62649,  84053], dtype=int64)"
      ]
     },
     "execution_count": 331,
     "metadata": {},
     "output_type": "execute_result"
    }
   ],
   "source": [
    "train_y"
   ]
  },
  {
   "cell_type": "code",
   "execution_count": 332,
   "metadata": {},
   "outputs": [
    {
     "data": {
      "text/plain": [
       "array([[-0.5238817 ,  1.08444468,  0.69939915, ..., -0.37612148,\n",
       "         0.43899311, -0.19777359],\n",
       "       [ 0.9210261 ,  1.08444468,  0.69939915, ..., -0.37612148,\n",
       "         0.43899311, -0.19777359],\n",
       "       [-0.5238817 ,  1.08444468,  0.69939915, ..., -0.37612148,\n",
       "         0.43899311, -0.19777359],\n",
       "       ...,\n",
       "       [-0.5238817 ,  1.08444468, -1.4297987 , ..., -0.37612148,\n",
       "         0.43899311, -0.19777359],\n",
       "       [-0.5238817 , -0.97198375,  0.69939915, ..., -0.37612148,\n",
       "         0.43899311, -0.19777359],\n",
       "       [ 0.9210261 , -0.97198375, -1.4297987 , ..., -0.37612148,\n",
       "         0.43899311, -0.19777359]])"
      ]
     },
     "execution_count": 332,
     "metadata": {},
     "output_type": "execute_result"
    }
   ],
   "source": [
    "test_X"
   ]
  },
  {
   "cell_type": "code",
   "execution_count": 333,
   "metadata": {},
   "outputs": [
    {
     "data": {
      "text/plain": [
       "array([[-1.24149827],\n",
       "       [ 0.54782129],\n",
       "       [-0.17300976],\n",
       "       ...,\n",
       "       [ 2.74539913],\n",
       "       [-1.1992531 ],\n",
       "       [-0.85791089]])"
      ]
     },
     "execution_count": 333,
     "metadata": {},
     "output_type": "execute_result"
    }
   ],
   "source": [
    "import sklearn.preprocessing\n",
    "\n",
    "\n",
    "target_scaler = sklearn.preprocessing.StandardScaler()\n",
    "train_y_scaled = target_scaler.fit_transform(train_y.reshape(-1, 1))\n",
    "train_y_scaled"
   ]
  },
  {
   "cell_type": "code",
   "execution_count": 334,
   "metadata": {},
   "outputs": [
    {
     "name": "stdout",
     "output_type": "stream",
     "text": [
      "(2816, 98)\n",
      "(2816, 1)\n",
      "-------------\n",
      "(2112, 98)\n",
      "(704, 98)\n",
      "(2112, 1)\n",
      "(704, 1)\n",
      "(939, 98)\n"
     ]
    }
   ],
   "source": [
    "import sklearn.model_selection\n",
    "import sklearn.preprocessing\n",
    "\n",
    "numpy.random.seed(42)\n",
    "trainX, valX, trainY, valY = sklearn.model_selection.train_test_split(\n",
    "    train_X, train_y_scaled, test_size = 0.25\n",
    ")\n",
    "print(train_X.shape)\n",
    "print(train_y_scaled.shape)\n",
    "print('-------------')\n",
    "print(trainX.shape)\n",
    "print(valX.shape)\n",
    "print(trainY.shape)\n",
    "print(valY.shape)\n",
    "\n",
    "testX = test_X.copy()\n",
    "print(testX.shape)"
   ]
  },
  {
   "cell_type": "code",
   "execution_count": 335,
   "metadata": {},
   "outputs": [
    {
     "name": "stdout",
     "output_type": "stream",
     "text": [
      "0.22646610656060995\n"
     ]
    }
   ],
   "source": [
    "import sklearn.linear_model\n",
    "import sklearn.metrics\n",
    "import sklearn.model_selection\n",
    "\n",
    "numpy.random.seed(42)\n",
    "model = sklearn.linear_model.Ridge(\n",
    "    random_state = 42,\n",
    "    alpha = 10.0,\n",
    "    fit_intercept=True, copy_X=True, max_iter=None, tol=0.0001, solver='auto', positive=False\n",
    ").fit(trainX, trainY)\n",
    "\n",
    "print(sklearn.metrics.r2_score(valY, model.predict(valX)))\n",
    "pandas.DataFrame(\n",
    "    model.predict(testX).astype(numpy.int64), columns = [ 'prediction' ]\n",
    ").to_csv('result.csv', index = False)"
   ]
  },
  {
   "cell_type": "code",
   "execution_count": 336,
   "metadata": {},
   "outputs": [
    {
     "data": {
      "text/plain": [
       "<2816x98 sparse matrix of type '<class 'numpy.float64'>'\n",
       "\twith 17374 stored elements in Compressed Sparse Row format>"
      ]
     },
     "execution_count": 336,
     "metadata": {},
     "output_type": "execute_result"
    }
   ],
   "source": [
    "X_train"
   ]
  },
  {
   "cell_type": "markdown",
   "metadata": {},
   "source": [
    "## Task 27"
   ]
  },
  {
   "cell_type": "code",
   "execution_count": 337,
   "metadata": {},
   "outputs": [
    {
     "name": "stdout",
     "output_type": "stream",
     "text": [
      "(2816,)\n",
      "(2816, 10)\n"
     ]
    }
   ],
   "source": [
    "y_train = df_train['salary_in_usd'].to_numpy()\n",
    "X_train = df_train.drop([ 'salary_in_usd' ], axis = 1)\n",
    "print(y_train.shape)\n",
    "print(X_train.shape)"
   ]
  },
  {
   "cell_type": "code",
   "execution_count": 338,
   "metadata": {},
   "outputs": [
    {
     "name": "stdout",
     "output_type": "stream",
     "text": [
      "(939, 10)\n"
     ]
    }
   ],
   "source": [
    "X_test = df_test\n",
    "print(X_test.shape)"
   ]
  },
  {
   "cell_type": "code",
   "execution_count": 339,
   "metadata": {},
   "outputs": [
    {
     "name": "stdout",
     "output_type": "stream",
     "text": [
      "(2816, 252)\n",
      "(939, 252)\n"
     ]
    }
   ],
   "source": [
    "from sklearn.compose import ColumnTransformer\n",
    "from sklearn.preprocessing import OneHotEncoder\n",
    "from sklearn.pipeline import Pipeline\n",
    "\n",
    "\n",
    "numeric_columns = X_train.select_dtypes(include=['int', 'float']).columns\n",
    "categorical_columns = X_train.select_dtypes(include=['object']).columns\n",
    "\n",
    "\n",
    "preprocessor = ColumnTransformer(\n",
    "   transformers=[\n",
    "       ('num', 'passthrough', numeric_columns),\n",
    "       ('cat', OneHotEncoder(handle_unknown='ignore'), categorical_columns)\n",
    "   ])\n",
    "\n",
    "\n",
    "pipeline = Pipeline([\n",
    "   ('preprocessor', preprocessor)\n",
    "])\n",
    "\n",
    "X_train = pipeline.fit_transform(X_train)\n",
    "X_test = pipeline.transform(X_test)\n",
    "print(X_train.shape)\n",
    "print(X_test.shape)"
   ]
  },
  {
   "cell_type": "code",
   "execution_count": 340,
   "metadata": {},
   "outputs": [
    {
     "data": {
      "text/plain": [
       "array([[2.022e+03, 1.000e+02, 0.000e+00, ..., 0.000e+00, 0.000e+00,\n",
       "        1.000e+00],\n",
       "       [2.022e+03, 0.000e+00, 1.000e+00, ..., 0.000e+00, 1.000e+00,\n",
       "        0.000e+00],\n",
       "       [2.022e+03, 1.000e+02, 1.000e+00, ..., 0.000e+00, 1.000e+00,\n",
       "        0.000e+00],\n",
       "       ...,\n",
       "       [2.023e+03, 1.000e+02, 0.000e+00, ..., 0.000e+00, 1.000e+00,\n",
       "        0.000e+00],\n",
       "       [2.021e+03, 5.000e+01, 0.000e+00, ..., 0.000e+00, 1.000e+00,\n",
       "        0.000e+00],\n",
       "       [2.022e+03, 1.000e+02, 0.000e+00, ..., 0.000e+00, 1.000e+00,\n",
       "        0.000e+00]])"
      ]
     },
     "execution_count": 340,
     "metadata": {},
     "output_type": "execute_result"
    }
   ],
   "source": [
    "X_train_dense = X_train.toarray()\n",
    "X_test_dense = X_test.toarray()\n",
    "X_train_dense"
   ]
  },
  {
   "cell_type": "code",
   "execution_count": 341,
   "metadata": {},
   "outputs": [
    {
     "data": {
      "text/plain": [
       "array([[-0.5238817 ,  1.08444468, -1.4297987 , ..., -0.37612148,\n",
       "        -2.27794008,  5.05628695],\n",
       "       [-0.5238817 , -0.97198375,  0.69939915, ..., -0.37612148,\n",
       "         0.43899311, -0.19777359],\n",
       "       [-0.5238817 ,  1.08444468,  0.69939915, ..., -0.37612148,\n",
       "         0.43899311, -0.19777359],\n",
       "       ...,\n",
       "       [ 0.9210261 ,  1.08444468, -1.4297987 , ..., -0.37612148,\n",
       "         0.43899311, -0.19777359],\n",
       "       [-1.96878949,  0.05623047, -1.4297987 , ..., -0.37612148,\n",
       "         0.43899311, -0.19777359],\n",
       "       [-0.5238817 ,  1.08444468, -1.4297987 , ..., -0.37612148,\n",
       "         0.43899311, -0.19777359]])"
      ]
     },
     "execution_count": 341,
     "metadata": {},
     "output_type": "execute_result"
    }
   ],
   "source": [
    "import sklearn.linear_model\n",
    "import sklearn.preprocessing\n",
    "\n",
    "ss = sklearn.preprocessing.StandardScaler()\n",
    "train_X = ss.fit_transform(X_train_dense)\n",
    "test_X = ss.transform(X_test_dense)\n",
    "train_y = y_train.copy()\n",
    "train_X"
   ]
  },
  {
   "cell_type": "code",
   "execution_count": 342,
   "metadata": {},
   "outputs": [
    {
     "data": {
      "text/plain": [
       "array([[-1.24149827],\n",
       "       [ 0.54782129],\n",
       "       [-0.17300976],\n",
       "       ...,\n",
       "       [ 2.74539913],\n",
       "       [-1.1992531 ],\n",
       "       [-0.85791089]])"
      ]
     },
     "execution_count": 342,
     "metadata": {},
     "output_type": "execute_result"
    }
   ],
   "source": [
    "import sklearn.preprocessing\n",
    "\n",
    "\n",
    "target_scaler = sklearn.preprocessing.StandardScaler()\n",
    "train_y_scaled = target_scaler.fit_transform(train_y.reshape(-1, 1))\n",
    "train_y_scaled"
   ]
  },
  {
   "cell_type": "code",
   "execution_count": 343,
   "metadata": {},
   "outputs": [
    {
     "name": "stdout",
     "output_type": "stream",
     "text": [
      "(2816, 252)\n",
      "(2816, 1)\n",
      "-------------\n",
      "(2675, 252)\n",
      "(141, 252)\n",
      "(2675, 1)\n",
      "(141, 1)\n",
      "(939, 252)\n"
     ]
    }
   ],
   "source": [
    "import sklearn.model_selection\n",
    "import sklearn.preprocessing\n",
    "\n",
    "numpy.random.seed(42)\n",
    "trainX, valX, trainY, valY = sklearn.model_selection.train_test_split(\n",
    "    train_X, train_y_scaled, test_size = 0.05\n",
    ")\n",
    "print(train_X.shape)\n",
    "print(train_y_scaled.shape)\n",
    "print('-------------')\n",
    "print(trainX.shape)\n",
    "print(valX.shape)\n",
    "print(trainY.shape)\n",
    "print(valY.shape)\n",
    "\n",
    "testX = test_X.copy()\n",
    "print(testX.shape)"
   ]
  },
  {
   "cell_type": "code",
   "execution_count": 344,
   "metadata": {},
   "outputs": [],
   "source": [
    "import torch\n",
    "import torch.utils.data\n",
    "\n",
    "train_ds = torch.utils.data.TensorDataset(\n",
    "    torch.tensor(trainX, dtype = torch.float),\n",
    "    torch.tensor(trainY, dtype = torch.float)\n",
    ")\n",
    "train_dl = torch.utils.data.DataLoader(train_ds, batch_size = 64, shuffle = True)"
   ]
  },
  {
   "cell_type": "code",
   "execution_count": 345,
   "metadata": {},
   "outputs": [
    {
     "name": "stdout",
     "output_type": "stream",
     "text": [
      "62 0.3702440907076531\n"
     ]
    }
   ],
   "source": [
    "import sklearn.metrics\n",
    "import torch\n",
    "\n",
    "torch.manual_seed(42)\n",
    "model = torch.nn.Sequential(\n",
    "    torch.nn.Linear(trainX.shape[1], 32), torch.nn.ReLU(),\n",
    "    torch.nn.Linear(32, 8), torch.nn.ReLU(),\n",
    "    torch.nn.Dropout(0.1), torch.nn.Linear(8, 1)\n",
    ")\n",
    "\n",
    "optimizer = torch.optim.AdamW(\n",
    "    params = model.parameters(),\n",
    "    lr = 3e-5\n",
    ")\n",
    "\n",
    "for epoch in range(63):\n",
    "    for (X, y) in train_dl:\n",
    "        optimizer.zero_grad()\n",
    "        pred = model(X)\n",
    "        loss = torch.nn.functional.mse_loss(pred, y)\n",
    "        loss.backward()\n",
    "        optimizer.step()\n",
    "\n",
    "    with torch.no_grad():\n",
    "        val_pred = model(torch.tensor(valX, dtype = torch.float)).detach().numpy()\n",
    "        r2 = sklearn.metrics.r2_score(valY, val_pred)\n",
    "        if r2 > 0.34:\n",
    "            print(epoch, r2)\n",
    "\n",
    "pred = model(torch.tensor(testX, dtype = torch.float)).detach().numpy()\n",
    "pred = target_scaler.inverse_transform(pred)\n",
    "pandas.DataFrame(\n",
    "    pred.astype(numpy.int64), columns = [ 'prediction' ]\n",
    ").to_csv('result.csv', index = False)"
   ]
  }
 ],
 "metadata": {
  "kernelspec": {
   "display_name": "Python 3",
   "language": "python",
   "name": "python3"
  },
  "language_info": {
   "codemirror_mode": {
    "name": "ipython",
    "version": 3
   },
   "file_extension": ".py",
   "mimetype": "text/x-python",
   "name": "python",
   "nbconvert_exporter": "python",
   "pygments_lexer": "ipython3",
   "version": "3.10.11"
  }
 },
 "nbformat": 4,
 "nbformat_minor": 2
}
