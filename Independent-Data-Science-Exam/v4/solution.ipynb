{
 "cells": [
  {
   "cell_type": "code",
   "execution_count": 3,
   "metadata": {},
   "outputs": [
    {
     "data": {
      "text/plain": [
       "0.27222222222222214"
      ]
     },
     "execution_count": 3,
     "metadata": {},
     "output_type": "execute_result"
    }
   ],
   "source": [
    "import sklearn.metrics\n",
    "\n",
    "sklearn.metrics.average_precision_score(\n",
    "    [ 1, -1, -1, 1, 1 ],\n",
    "    [ 0.7, 0.6, 0.3, 0.45, 0.92 ]\n",
    ") - sklearn.metrics.average_precision_score(\n",
    "    [ 1, -1, -1, 1, 1 ],\n",
    "    [ 1, 1, -1, -1, 1 ]\n",
    ")"
   ]
  },
  {
   "cell_type": "code",
   "execution_count": 27,
   "metadata": {},
   "outputs": [
    {
     "data": {
      "text/latex": [
       "$\\displaystyle \\left|{w_{0} + 2.3 w_{1} - 5}\\right| + \\left|{w_{0} + 5 w_{1} - 9}\\right| + \\left|{w_{0} + 7.7 w_{1} + 15}\\right|$"
      ],
      "text/plain": [
       "Abs(w0 + 2.3*w1 - 5) + Abs(w0 + 5*w1 - 9) + Abs(w0 + 7.7*w1 + 15)"
      ]
     },
     "execution_count": 27,
     "metadata": {},
     "output_type": "execute_result"
    }
   ],
   "source": [
    "import tqdm\n",
    "import sympy\n",
    "\n",
    "def ro(z):\n",
    "    return sympy.Abs(z) / 2\n",
    "\n",
    "w0, w1 = sympy.symbols('w0 w1')\n",
    "\n",
    "def a(xi):\n",
    "    return w0 + w1 * xi\n",
    "    \n",
    "q = 1 / sympy.S(3) * (\n",
    "    ro(9 - a(5)) +\n",
    "    ro(5 - a(2.3)) +\n",
    "    ro(-15 - a(7.7))\n",
    ") * 6\n",
    "q"
   ]
  },
  {
   "cell_type": "code",
   "execution_count": 28,
   "metadata": {},
   "outputs": [
    {
     "data": {
      "text/plain": [
       "1.4409448818897639"
      ]
     },
     "execution_count": 28,
     "metadata": {},
     "output_type": "execute_result"
    }
   ],
   "source": [
    "w0 = -57 / 127\n",
    "w1 = -240 / 127\n",
    "w0 + w1 * (-1)"
   ]
  },
  {
   "cell_type": "code",
   "execution_count": 29,
   "metadata": {},
   "outputs": [
    {
     "data": {
      "text/plain": [
       "0.06095238095238095"
      ]
     },
     "execution_count": 29,
     "metadata": {},
     "output_type": "execute_result"
    }
   ],
   "source": [
    "h = 0.4 * 0.6 * 2 \n",
    "h1 = (50 / 70) * (20 / 70) * 2\n",
    "h2 = (10 / 30) * (20 / 30) * 2\n",
    "h - (70/100) * h1 - (30/100) * h2"
   ]
  },
  {
   "cell_type": "code",
   "execution_count": 30,
   "metadata": {},
   "outputs": [
    {
     "data": {
      "text/plain": [
       "0.13533528323661262"
      ]
     },
     "execution_count": 30,
     "metadata": {},
     "output_type": "execute_result"
    }
   ],
   "source": [
    "import numpy\n",
    "a = numpy.array([ 1, 1, 1 ])\n",
    "b = numpy.array([ 1, 2, 0 ])\n",
    "\n",
    "def skal(x1, x2):\n",
    "    return numpy.exp(-1 * (numpy.linalg.norm(x1 - x2) ** 2))\n",
    "\n",
    "skal(a, b) / numpy.sqrt(skal(a, a) * skal(b, b))"
   ]
  }
 ],
 "metadata": {
  "kernelspec": {
   "display_name": "Python 3",
   "language": "python",
   "name": "python3"
  },
  "language_info": {
   "codemirror_mode": {
    "name": "ipython",
    "version": 3
   },
   "file_extension": ".py",
   "mimetype": "text/x-python",
   "name": "python",
   "nbconvert_exporter": "python",
   "pygments_lexer": "ipython3",
   "version": "3.10.11"
  }
 },
 "nbformat": 4,
 "nbformat_minor": 2
}
