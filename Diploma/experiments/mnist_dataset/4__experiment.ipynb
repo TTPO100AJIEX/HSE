{
 "cells": [
  {
   "cell_type": "code",
   "execution_count": 3,
   "metadata": {},
   "outputs": [
    {
     "name": "stdout",
     "output_type": "stream",
     "text": [
      "The autoreload extension is already loaded. To reload it, use:\n",
      "  %reload_ext autoreload\n"
     ]
    }
   ],
   "source": [
    "%load_ext autoreload\n",
    "%autoreload 2\n",
    "\n",
    "import os\n",
    "import sys\n",
    "sys.path.append(os.path.dirname(os.path.abspath(os.path.join('../'))))\n",
    "\n",
    "import umap\n",
    "import tqdm\n",
    "import numpy\n",
    "import itertools\n",
    "import torchvision\n",
    "import gtda.images\n",
    "import gtda.diagrams\n",
    "import gtda.homology\n",
    "import sklearn.pipeline\n",
    "import sklearn.ensemble\n",
    "import sklearn.metrics\n",
    "import sklearn.neighbors\n",
    "import tqdm.contrib.itertools\n",
    "import sklearn.decomposition\n",
    "\n",
    "import cvtda.topology"
   ]
  },
  {
   "cell_type": "code",
   "execution_count": 4,
   "metadata": {},
   "outputs": [],
   "source": [
    "BINARIZATION_THESHOLD = 0.2\n",
    "\n",
    "height_filtration_directions = [\n",
    "    [ -1, -1 ], [ 1, 1 ], [ 1, -1 ], [ -1, 1 ],\n",
    "    [ 0, -1 ], [ 0, 1 ], [ -1, 0 ], [ 1, 0 ]\n",
    "]\n",
    "\n",
    "\n",
    "radial_filtration_centers = list(itertools.product([ 7, 14, 21 ], [ 7, 14, 21 ]))\n",
    "radial_filtration_metrics = [ \"euclidean\", \"manhattan\", \"cosine\" ]\n",
    "\n",
    "density_filtration_metrics = [ \"euclidean\" , \"manhattan\", \"cosine\" ]\n",
    "density_filtration_radiuses = [ 1, 5, 15 ]\n",
    "\n",
    "FILTRATIONS = [\n",
    "    *[ [ gtda.images.HeightFiltration, { 'direction': numpy.array(direction), 'n_jobs': -1 } ] for direction in height_filtration_directions ],\n",
    "    *[\n",
    "        [ gtda.images.RadialFiltration, { 'center': numpy.array(center), 'metric': metric, 'n_jobs': -1 } ]\n",
    "        for center in radial_filtration_centers\n",
    "        for metric in radial_filtration_metrics\n",
    "    ],\n",
    "    [ gtda.images.DilationFiltration, { 'n_jobs': -1 } ],\n",
    "    [ gtda.images.ErosionFiltration, { 'n_jobs': -1 } ],\n",
    "    [ gtda.images.SignedDistanceFiltration, { 'n_jobs': -1 } ],\n",
    "    *[\n",
    "        [ gtda.images.DensityFiltration, { 'radius': radius, 'metric': metric, 'n_jobs': -1 } ]\n",
    "        for metric in density_filtration_metrics\n",
    "        for radius in density_filtration_radiuses\n",
    "    ]\n",
    "]"
   ]
  },
  {
   "cell_type": "code",
   "execution_count": 5,
   "metadata": {},
   "outputs": [],
   "source": [
    "train = torchvision.datasets.MNIST('mnist', train = True, download = True)\n",
    "test = torchvision.datasets.MNIST('mnist', train = False, download = True)\n",
    "\n",
    "train_images = numpy.array([ item[0] for item in train ])\n",
    "train_labels = numpy.array([ item[1] for item in train ])\n",
    "\n",
    "test_images = numpy.array([ item[0] for item in test ])\n",
    "test_labels = numpy.array([ item[1] for item in test ])"
   ]
  },
  {
   "cell_type": "code",
   "execution_count": 6,
   "metadata": {},
   "outputs": [],
   "source": [
    "def make_filtrations(images: numpy.ndarray):\n",
    "    images_bin = gtda.images.Binarizer(threshold = BINARIZATION_THESHOLD).fit_transform(images)\n",
    "    filtrations = [\n",
    "        filtration[0](**filtration[1]).fit_transform(images_bin)\n",
    "        for filtration in tqdm.tqdm(FILTRATIONS, desc = 'filtrations')\n",
    "    ]\n",
    "    return [ images, images_bin ] + filtrations\n",
    "\n",
    "\n",
    "def make_point_clouds(images: numpy.ndarray):\n",
    "    def make_point_cloud(image, threshold):\n",
    "        point_cloud = [ ]\n",
    "        for i in range(image.shape[0]):\n",
    "            for j in range(image.shape[1]):\n",
    "                if image[i][j] < threshold:\n",
    "                    continue\n",
    "                point_cloud.append([ i, j, image[i][j] ])\n",
    "        return numpy.array(point_cloud)\n",
    "\n",
    "    def _make_point_clouds(imgs, threshold):\n",
    "        imgs = numpy.swapaxes(numpy.flip(imgs, axis = 1), 1, 2)\n",
    "        return [ make_point_cloud(image, threshold) for image in tqdm.tqdm(imgs, desc = 'point_clouds') ]\n",
    "\n",
    "    images_bin = gtda.images.Binarizer(threshold = BINARIZATION_THESHOLD).fit_transform(images)\n",
    "    point_cloud = gtda.images.ImageToPointCloud().fit_transform(images_bin)\n",
    "    return [ point_cloud, _make_point_clouds(images, 50) ]"
   ]
  },
  {
   "cell_type": "code",
   "execution_count": 7,
   "metadata": {},
   "outputs": [],
   "source": [
    "def make_filtration_diagrams(images: numpy.ndarray):\n",
    "    filtrations = make_filtrations(images)\n",
    "    all_filtrations = [ ]\n",
    "    for diagrams in zip(*filtrations):\n",
    "        all_filtrations.extend(diagrams)\n",
    "\n",
    "    print('Making filtration diagrams')\n",
    "    persistence = gtda.homology.CubicalPersistence(homology_dimensions = [ 0, 1 ], n_jobs = -1)\n",
    "    return persistence.fit_transform(all_filtrations)\n",
    "\n",
    "def make_point_cloud_diagrams(images: numpy.ndarray):\n",
    "    point_clouds = make_point_clouds(images)\n",
    "    all_point_clouds = [ ]\n",
    "    for diagrams in zip(*point_clouds):\n",
    "        all_point_clouds.extend(diagrams)\n",
    "        \n",
    "    print('Making point cloud diagrams')\n",
    "    persistence = gtda.homology.VietorisRipsPersistence(homology_dimensions = [ 0, 1, 2 ], n_jobs = -1)\n",
    "    return persistence.fit_transform(all_point_clouds)"
   ]
  },
  {
   "cell_type": "code",
   "execution_count": 9,
   "metadata": {},
   "outputs": [
    {
     "name": "stderr",
     "output_type": "stream",
     "text": [
      "filtrations: 100%|██████████| 47/47 [04:38<00:00,  5.93s/it]\n"
     ]
    },
    {
     "name": "stdout",
     "output_type": "stream",
     "text": [
      "Making filtration diagrams\n"
     ]
    },
    {
     "data": {
      "text/plain": [
       "(2940000, 80, 3)"
      ]
     },
     "execution_count": 9,
     "metadata": {},
     "output_type": "execute_result"
    }
   ],
   "source": [
    "train_filtration_diagrams = make_filtration_diagrams(train_images)\n",
    "numpy.save(\"4__train_filtration_diagrams.npy\", train_filtration_diagrams)\n",
    "\n",
    "train_filtration_diagrams = numpy.load(\"4__train_filtration_diagrams.npy\")\n",
    "train_filtration_diagrams.shape"
   ]
  },
  {
   "cell_type": "code",
   "execution_count": 10,
   "metadata": {},
   "outputs": [
    {
     "name": "stderr",
     "output_type": "stream",
     "text": [
      "point_clouds: 100%|██████████| 60000/60000 [00:46<00:00, 1291.65it/s]\n"
     ]
    },
    {
     "name": "stdout",
     "output_type": "stream",
     "text": [
      "Making point cloud diagrams\n"
     ]
    },
    {
     "data": {
      "text/plain": [
       "(120000, 665, 3)"
      ]
     },
     "execution_count": 10,
     "metadata": {},
     "output_type": "execute_result"
    }
   ],
   "source": [
    "train_pointcloud_diagrams = make_point_cloud_diagrams(train_images)\n",
    "numpy.save(\"4__train_pointcloud_diagrams.npy\", train_pointcloud_diagrams)\n",
    "\n",
    "train_pointcloud_diagrams = numpy.load(\"4__train_pointcloud_diagrams.npy\")\n",
    "train_pointcloud_diagrams.shape"
   ]
  },
  {
   "cell_type": "code",
   "execution_count": 8,
   "metadata": {},
   "outputs": [
    {
     "name": "stderr",
     "output_type": "stream",
     "text": [
      "filtrations: 100%|██████████| 47/47 [00:48<00:00,  1.04s/it]\n"
     ]
    },
    {
     "name": "stdout",
     "output_type": "stream",
     "text": [
      "Making filtration diagrams\n"
     ]
    },
    {
     "data": {
      "text/plain": [
       "(490000, 72, 3)"
      ]
     },
     "execution_count": 8,
     "metadata": {},
     "output_type": "execute_result"
    }
   ],
   "source": [
    "test_filtration_diagrams = make_filtration_diagrams(test_images)\n",
    "numpy.save(\"4__test_filtration_diagrams.npy\", test_filtration_diagrams)\n",
    "\n",
    "test_filtration_diagrams = numpy.load(\"4__test_filtration_diagrams.npy\")\n",
    "test_filtration_diagrams.shape"
   ]
  },
  {
   "cell_type": "code",
   "execution_count": 12,
   "metadata": {},
   "outputs": [
    {
     "name": "stderr",
     "output_type": "stream",
     "text": [
      "point_clouds: 100%|██████████| 10000/10000 [00:07<00:00, 1301.70it/s]\n"
     ]
    },
    {
     "name": "stdout",
     "output_type": "stream",
     "text": [
      "Making point cloud diagrams\n"
     ]
    },
    {
     "data": {
      "text/plain": [
       "(20000, 545, 3)"
      ]
     },
     "execution_count": 12,
     "metadata": {},
     "output_type": "execute_result"
    }
   ],
   "source": [
    "test_pointcloud_diagrams = make_point_cloud_diagrams(test_images)\n",
    "numpy.save(\"4__test_pointcloud_diagrams.npy\", test_pointcloud_diagrams)\n",
    "\n",
    "test_pointcloud_diagrams = numpy.load(\"4__test_pointcloud_diagrams.npy\")\n",
    "test_pointcloud_diagrams.shape"
   ]
  },
  {
   "cell_type": "code",
   "execution_count": 13,
   "metadata": {},
   "outputs": [],
   "source": [
    "def calculate_features(diagrams: numpy.ndarray, N: int = 122500):\n",
    "    features = None\n",
    "    for i in range(0, len(diagrams), N):\n",
    "        print(f'Calculating {i} - {i + N}')\n",
    "        feature_calculator = lib.topology.FeatureCalculator(n_jobs = -1, verbose = True)\n",
    "        batch = feature_calculator.calc_features(diagrams[i:i + N])\n",
    "        if features is None:\n",
    "            features = batch\n",
    "        else:\n",
    "            features = numpy.concatenate((features, batch), axis = 0)\n",
    "    return features"
   ]
  },
  {
   "cell_type": "code",
   "execution_count": 14,
   "metadata": {},
   "outputs": [
    {
     "name": "stdout",
     "output_type": "stream",
     "text": [
      "Calculating 0 - 122500\n",
      "Filtered diagrams: (122500, 71, 3)\n",
      "Calculating Betti features\n",
      "Calculating landscape features\n",
      "Calculating silhouette features\n",
      "Calculating entropy features\n",
      "Calculating number of points features\n"
     ]
    },
    {
     "name": "stderr",
     "output_type": "stream",
     "text": [
      "amplitudes: 100%|██████████| 21/21 [02:01<00:00,  5.77s/it]\n"
     ]
    },
    {
     "name": "stdout",
     "output_type": "stream",
     "text": [
      "Calculating lifetime features\n",
      "Calculating 122500 - 245000\n",
      "Filtered diagrams: (122500, 53, 3)\n",
      "Calculating Betti features\n",
      "Calculating landscape features\n",
      "Calculating silhouette features\n",
      "Calculating entropy features\n",
      "Calculating number of points features\n"
     ]
    },
    {
     "name": "stderr",
     "output_type": "stream",
     "text": [
      "amplitudes: 100%|██████████| 21/21 [01:48<00:00,  5.18s/it]\n"
     ]
    },
    {
     "name": "stdout",
     "output_type": "stream",
     "text": [
      "Calculating lifetime features\n",
      "Calculating 245000 - 367500\n",
      "Filtered diagrams: (122500, 73, 3)\n",
      "Calculating Betti features\n",
      "Calculating landscape features\n",
      "Calculating silhouette features\n",
      "Calculating entropy features\n",
      "Calculating number of points features\n"
     ]
    },
    {
     "name": "stderr",
     "output_type": "stream",
     "text": [
      "amplitudes: 100%|██████████| 21/21 [01:54<00:00,  5.44s/it]\n"
     ]
    },
    {
     "name": "stdout",
     "output_type": "stream",
     "text": [
      "Calculating lifetime features\n",
      "Calculating 367500 - 490000\n",
      "Filtered diagrams: (122500, 69, 3)\n",
      "Calculating Betti features\n",
      "Calculating landscape features\n",
      "Calculating silhouette features\n",
      "Calculating entropy features\n",
      "Calculating number of points features\n"
     ]
    },
    {
     "name": "stderr",
     "output_type": "stream",
     "text": [
      "amplitudes: 100%|██████████| 21/21 [01:46<00:00,  5.08s/it]\n"
     ]
    },
    {
     "name": "stdout",
     "output_type": "stream",
     "text": [
      "Calculating lifetime features\n",
      "Calculating 490000 - 612500\n",
      "Filtered diagrams: (122500, 76, 3)\n",
      "Calculating Betti features\n",
      "Calculating landscape features\n",
      "Calculating silhouette features\n",
      "Calculating entropy features\n",
      "Calculating number of points features\n"
     ]
    },
    {
     "name": "stderr",
     "output_type": "stream",
     "text": [
      "amplitudes: 100%|██████████| 21/21 [01:55<00:00,  5.51s/it]\n"
     ]
    },
    {
     "name": "stdout",
     "output_type": "stream",
     "text": [
      "Calculating lifetime features\n",
      "Calculating 612500 - 735000\n",
      "Filtered diagrams: (122500, 62, 3)\n",
      "Calculating Betti features\n",
      "Calculating landscape features\n",
      "Calculating silhouette features\n",
      "Calculating entropy features\n",
      "Calculating number of points features\n"
     ]
    },
    {
     "name": "stderr",
     "output_type": "stream",
     "text": [
      "amplitudes: 100%|██████████| 21/21 [01:48<00:00,  5.18s/it]\n"
     ]
    },
    {
     "name": "stdout",
     "output_type": "stream",
     "text": [
      "Calculating lifetime features\n",
      "Calculating 735000 - 857500\n",
      "Filtered diagrams: (122500, 52, 3)\n",
      "Calculating Betti features\n",
      "Calculating landscape features\n",
      "Calculating silhouette features\n",
      "Calculating entropy features\n",
      "Calculating number of points features\n"
     ]
    },
    {
     "name": "stderr",
     "output_type": "stream",
     "text": [
      "amplitudes: 100%|██████████| 21/21 [01:42<00:00,  4.87s/it]\n"
     ]
    },
    {
     "name": "stdout",
     "output_type": "stream",
     "text": [
      "Calculating lifetime features\n",
      "Calculating 857500 - 980000\n",
      "Filtered diagrams: (122500, 58, 3)\n",
      "Calculating Betti features\n",
      "Calculating landscape features\n",
      "Calculating silhouette features\n",
      "Calculating entropy features\n",
      "Calculating number of points features\n"
     ]
    },
    {
     "name": "stderr",
     "output_type": "stream",
     "text": [
      "amplitudes: 100%|██████████| 21/21 [01:45<00:00,  5.03s/it]\n"
     ]
    },
    {
     "name": "stdout",
     "output_type": "stream",
     "text": [
      "Calculating lifetime features\n",
      "Calculating 980000 - 1102500\n",
      "Filtered diagrams: (122500, 50, 3)\n",
      "Calculating Betti features\n",
      "Calculating landscape features\n",
      "Calculating silhouette features\n",
      "Calculating entropy features\n",
      "Calculating number of points features\n"
     ]
    },
    {
     "name": "stderr",
     "output_type": "stream",
     "text": [
      "amplitudes: 100%|██████████| 21/21 [01:36<00:00,  4.60s/it]\n"
     ]
    },
    {
     "name": "stdout",
     "output_type": "stream",
     "text": [
      "Calculating lifetime features\n",
      "Calculating 1102500 - 1225000\n",
      "Filtered diagrams: (122500, 62, 3)\n",
      "Calculating Betti features\n",
      "Calculating landscape features\n",
      "Calculating silhouette features\n",
      "Calculating entropy features\n",
      "Calculating number of points features\n"
     ]
    },
    {
     "name": "stderr",
     "output_type": "stream",
     "text": [
      "amplitudes: 100%|██████████| 21/21 [01:46<00:00,  5.08s/it]\n"
     ]
    },
    {
     "name": "stdout",
     "output_type": "stream",
     "text": [
      "Calculating lifetime features\n",
      "Calculating 1225000 - 1347500\n",
      "Filtered diagrams: (122500, 52, 3)\n",
      "Calculating Betti features\n",
      "Calculating landscape features\n",
      "Calculating silhouette features\n",
      "Calculating entropy features\n",
      "Calculating number of points features\n"
     ]
    },
    {
     "name": "stderr",
     "output_type": "stream",
     "text": [
      "amplitudes: 100%|██████████| 21/21 [01:38<00:00,  4.68s/it]\n"
     ]
    },
    {
     "name": "stdout",
     "output_type": "stream",
     "text": [
      "Calculating lifetime features\n",
      "Calculating 1347500 - 1470000\n",
      "Filtered diagrams: (122500, 68, 3)\n",
      "Calculating Betti features\n",
      "Calculating landscape features\n",
      "Calculating silhouette features\n",
      "Calculating entropy features\n",
      "Calculating number of points features\n"
     ]
    },
    {
     "name": "stderr",
     "output_type": "stream",
     "text": [
      "amplitudes: 100%|██████████| 21/21 [01:51<00:00,  5.30s/it]\n"
     ]
    },
    {
     "name": "stdout",
     "output_type": "stream",
     "text": [
      "Calculating lifetime features\n",
      "Calculating 1470000 - 1592500\n",
      "Filtered diagrams: (122500, 59, 3)\n",
      "Calculating Betti features\n",
      "Calculating landscape features\n",
      "Calculating silhouette features\n",
      "Calculating entropy features\n",
      "Calculating number of points features\n"
     ]
    },
    {
     "name": "stderr",
     "output_type": "stream",
     "text": [
      "amplitudes: 100%|██████████| 21/21 [01:48<00:00,  5.16s/it]\n"
     ]
    },
    {
     "name": "stdout",
     "output_type": "stream",
     "text": [
      "Calculating lifetime features\n",
      "Calculating 1592500 - 1715000\n",
      "Filtered diagrams: (122500, 47, 3)\n",
      "Calculating Betti features\n",
      "Calculating landscape features\n",
      "Calculating silhouette features\n",
      "Calculating entropy features\n",
      "Calculating number of points features\n"
     ]
    },
    {
     "name": "stderr",
     "output_type": "stream",
     "text": [
      "amplitudes: 100%|██████████| 21/21 [01:35<00:00,  4.56s/it]\n"
     ]
    },
    {
     "name": "stdout",
     "output_type": "stream",
     "text": [
      "Calculating lifetime features\n",
      "Calculating 1715000 - 1837500\n",
      "Filtered diagrams: (122500, 73, 3)\n",
      "Calculating Betti features\n",
      "Calculating landscape features\n",
      "Calculating silhouette features\n",
      "Calculating entropy features\n",
      "Calculating number of points features\n"
     ]
    },
    {
     "name": "stderr",
     "output_type": "stream",
     "text": [
      "amplitudes: 100%|██████████| 21/21 [01:55<00:00,  5.51s/it]\n"
     ]
    },
    {
     "name": "stdout",
     "output_type": "stream",
     "text": [
      "Calculating lifetime features\n",
      "Calculating 1837500 - 1960000\n",
      "Filtered diagrams: (122500, 58, 3)\n",
      "Calculating Betti features\n",
      "Calculating landscape features\n",
      "Calculating silhouette features\n",
      "Calculating entropy features\n",
      "Calculating number of points features\n"
     ]
    },
    {
     "name": "stderr",
     "output_type": "stream",
     "text": [
      "amplitudes: 100%|██████████| 21/21 [01:45<00:00,  5.04s/it]\n"
     ]
    },
    {
     "name": "stdout",
     "output_type": "stream",
     "text": [
      "Calculating lifetime features\n",
      "Calculating 1960000 - 2082500\n",
      "Filtered diagrams: (122500, 60, 3)\n",
      "Calculating Betti features\n",
      "Calculating landscape features\n",
      "Calculating silhouette features\n",
      "Calculating entropy features\n",
      "Calculating number of points features\n"
     ]
    },
    {
     "name": "stderr",
     "output_type": "stream",
     "text": [
      "amplitudes: 100%|██████████| 21/21 [01:47<00:00,  5.10s/it]\n"
     ]
    },
    {
     "name": "stdout",
     "output_type": "stream",
     "text": [
      "Calculating lifetime features\n",
      "Calculating 2082500 - 2205000\n",
      "Filtered diagrams: (122500, 49, 3)\n",
      "Calculating Betti features\n",
      "Calculating landscape features\n",
      "Calculating silhouette features\n",
      "Calculating entropy features\n",
      "Calculating number of points features\n"
     ]
    },
    {
     "name": "stderr",
     "output_type": "stream",
     "text": [
      "amplitudes: 100%|██████████| 21/21 [01:40<00:00,  4.77s/it]\n"
     ]
    },
    {
     "name": "stdout",
     "output_type": "stream",
     "text": [
      "Calculating lifetime features\n",
      "Calculating 2205000 - 2327500\n",
      "Filtered diagrams: (122500, 77, 3)\n",
      "Calculating Betti features\n",
      "Calculating landscape features\n",
      "Calculating silhouette features\n",
      "Calculating entropy features\n",
      "Calculating number of points features\n"
     ]
    },
    {
     "name": "stderr",
     "output_type": "stream",
     "text": [
      "amplitudes: 100%|██████████| 21/21 [01:56<00:00,  5.55s/it]\n"
     ]
    },
    {
     "name": "stdout",
     "output_type": "stream",
     "text": [
      "Calculating lifetime features\n",
      "Calculating 2327500 - 2450000\n",
      "Filtered diagrams: (122500, 63, 3)\n",
      "Calculating Betti features\n",
      "Calculating landscape features\n",
      "Calculating silhouette features\n",
      "Calculating entropy features\n",
      "Calculating number of points features\n"
     ]
    },
    {
     "name": "stderr",
     "output_type": "stream",
     "text": [
      "amplitudes: 100%|██████████| 21/21 [01:51<00:00,  5.29s/it]\n"
     ]
    },
    {
     "name": "stdout",
     "output_type": "stream",
     "text": [
      "Calculating lifetime features\n",
      "Calculating 2450000 - 2572500\n",
      "Filtered diagrams: (122500, 60, 3)\n",
      "Calculating Betti features\n",
      "Calculating landscape features\n",
      "Calculating silhouette features\n",
      "Calculating entropy features\n",
      "Calculating number of points features\n"
     ]
    },
    {
     "name": "stderr",
     "output_type": "stream",
     "text": [
      "amplitudes: 100%|██████████| 21/21 [01:43<00:00,  4.95s/it]\n"
     ]
    },
    {
     "name": "stdout",
     "output_type": "stream",
     "text": [
      "Calculating lifetime features\n",
      "Calculating 2572500 - 2695000\n",
      "Filtered diagrams: (122500, 72, 3)\n",
      "Calculating Betti features\n",
      "Calculating landscape features\n",
      "Calculating silhouette features\n",
      "Calculating entropy features\n",
      "Calculating number of points features\n"
     ]
    },
    {
     "name": "stderr",
     "output_type": "stream",
     "text": [
      "amplitudes: 100%|██████████| 21/21 [01:50<00:00,  5.25s/it]\n"
     ]
    },
    {
     "name": "stdout",
     "output_type": "stream",
     "text": [
      "Calculating lifetime features\n",
      "Calculating 2695000 - 2817500\n",
      "Filtered diagrams: (122500, 69, 3)\n",
      "Calculating Betti features\n",
      "Calculating landscape features\n",
      "Calculating silhouette features\n",
      "Calculating entropy features\n",
      "Calculating number of points features\n"
     ]
    },
    {
     "name": "stderr",
     "output_type": "stream",
     "text": [
      "amplitudes: 100%|██████████| 21/21 [01:48<00:00,  5.18s/it]\n"
     ]
    },
    {
     "name": "stdout",
     "output_type": "stream",
     "text": [
      "Calculating lifetime features\n",
      "Calculating 2817500 - 2940000\n",
      "Filtered diagrams: (122500, 50, 3)\n",
      "Calculating Betti features\n",
      "Calculating landscape features\n",
      "Calculating silhouette features\n",
      "Calculating entropy features\n",
      "Calculating number of points features\n"
     ]
    },
    {
     "name": "stderr",
     "output_type": "stream",
     "text": [
      "amplitudes: 100%|██████████| 21/21 [01:37<00:00,  4.66s/it]\n"
     ]
    },
    {
     "name": "stdout",
     "output_type": "stream",
     "text": [
      "Calculating lifetime features\n"
     ]
    },
    {
     "data": {
      "text/plain": [
       "(2940000, 172)"
      ]
     },
     "execution_count": 14,
     "metadata": {},
     "output_type": "execute_result"
    }
   ],
   "source": [
    "train_filtration_features = calculate_features(train_filtration_diagrams)\n",
    "numpy.save(\"4__train_filtration_features.npy\", train_filtration_features)\n",
    "\n",
    "train_filtration_features = numpy.load(\"4__train_filtration_features.npy\")\n",
    "train_filtration_features.shape"
   ]
  },
  {
   "cell_type": "code",
   "execution_count": 18,
   "metadata": {},
   "outputs": [
    {
     "name": "stdout",
     "output_type": "stream",
     "text": [
      "Calculating 0 - 30625\n",
      "Filtered diagrams: (30625, 339, 3)\n",
      "Calculating Betti features\n",
      "Calculating landscape features\n",
      "Calculating silhouette features\n",
      "Calculating entropy features\n",
      "Calculating number of points features\n"
     ]
    },
    {
     "name": "stderr",
     "output_type": "stream",
     "text": [
      "amplitudes: 100%|██████████| 21/21 [01:42<00:00,  4.88s/it]\n"
     ]
    },
    {
     "name": "stdout",
     "output_type": "stream",
     "text": [
      "Calculating lifetime features\n",
      "Calculating 30625 - 61250\n",
      "Filtered diagrams: (30625, 356, 3)\n",
      "Calculating Betti features\n",
      "Calculating landscape features\n",
      "Calculating silhouette features\n",
      "Calculating entropy features\n",
      "Calculating number of points features\n"
     ]
    },
    {
     "name": "stderr",
     "output_type": "stream",
     "text": [
      "amplitudes: 100%|██████████| 21/21 [01:46<00:00,  5.08s/it]\n"
     ]
    },
    {
     "name": "stdout",
     "output_type": "stream",
     "text": [
      "Calculating lifetime features\n",
      "Calculating 61250 - 91875\n",
      "Filtered diagrams: (30625, 384, 3)\n",
      "Calculating Betti features\n",
      "Calculating landscape features\n",
      "Calculating silhouette features\n",
      "Calculating entropy features\n",
      "Calculating number of points features\n"
     ]
    },
    {
     "name": "stderr",
     "output_type": "stream",
     "text": [
      "amplitudes: 100%|██████████| 21/21 [01:50<00:00,  5.28s/it]\n"
     ]
    },
    {
     "name": "stdout",
     "output_type": "stream",
     "text": [
      "Calculating lifetime features\n",
      "Calculating 91875 - 122500\n",
      "Filtered diagrams: (28125, 350, 3)\n",
      "Calculating Betti features\n",
      "Calculating landscape features\n",
      "Calculating silhouette features\n",
      "Calculating entropy features\n",
      "Calculating number of points features\n"
     ]
    },
    {
     "name": "stderr",
     "output_type": "stream",
     "text": [
      "amplitudes: 100%|██████████| 21/21 [01:39<00:00,  4.76s/it]\n"
     ]
    },
    {
     "name": "stdout",
     "output_type": "stream",
     "text": [
      "Calculating lifetime features\n"
     ]
    },
    {
     "data": {
      "text/plain": [
       "(120000, 231)"
      ]
     },
     "execution_count": 18,
     "metadata": {},
     "output_type": "execute_result"
    }
   ],
   "source": [
    "train_pointcloud_features = calculate_features(train_pointcloud_diagrams, N = 30625)\n",
    "numpy.save(\"4__train_pointcloud_features.npy\", train_pointcloud_features)\n",
    "\n",
    "train_pointcloud_features = numpy.load(\"4__train_pointcloud_features.npy\")\n",
    "train_pointcloud_features.shape"
   ]
  },
  {
   "cell_type": "code",
   "execution_count": 19,
   "metadata": {},
   "outputs": [
    {
     "name": "stdout",
     "output_type": "stream",
     "text": [
      "Calculating 0 - 122500\n",
      "Filtered diagrams: (122500, 54, 3)\n",
      "Calculating Betti features\n",
      "Calculating landscape features\n",
      "Calculating silhouette features\n",
      "Calculating entropy features\n",
      "Calculating number of points features\n"
     ]
    },
    {
     "name": "stderr",
     "output_type": "stream",
     "text": [
      "amplitudes: 100%|██████████| 21/21 [01:45<00:00,  5.04s/it]\n"
     ]
    },
    {
     "name": "stdout",
     "output_type": "stream",
     "text": [
      "Calculating lifetime features\n",
      "Calculating 122500 - 245000\n",
      "Filtered diagrams: (122500, 72, 3)\n",
      "Calculating Betti features\n",
      "Calculating landscape features\n",
      "Calculating silhouette features\n",
      "Calculating entropy features\n",
      "Calculating number of points features\n"
     ]
    },
    {
     "name": "stderr",
     "output_type": "stream",
     "text": [
      "amplitudes: 100%|██████████| 21/21 [01:57<00:00,  5.58s/it]\n"
     ]
    },
    {
     "name": "stdout",
     "output_type": "stream",
     "text": [
      "Calculating lifetime features\n",
      "Calculating 245000 - 367500\n",
      "Filtered diagrams: (122500, 60, 3)\n",
      "Calculating Betti features\n",
      "Calculating landscape features\n",
      "Calculating silhouette features\n",
      "Calculating entropy features\n",
      "Calculating number of points features\n"
     ]
    },
    {
     "name": "stderr",
     "output_type": "stream",
     "text": [
      "amplitudes: 100%|██████████| 21/21 [01:48<00:00,  5.15s/it]\n"
     ]
    },
    {
     "name": "stdout",
     "output_type": "stream",
     "text": [
      "Calculating lifetime features\n",
      "Calculating 367500 - 490000\n",
      "Filtered diagrams: (122500, 62, 3)\n",
      "Calculating Betti features\n",
      "Calculating landscape features\n",
      "Calculating silhouette features\n",
      "Calculating entropy features\n",
      "Calculating number of points features\n"
     ]
    },
    {
     "name": "stderr",
     "output_type": "stream",
     "text": [
      "amplitudes: 100%|██████████| 21/21 [01:49<00:00,  5.22s/it]\n"
     ]
    },
    {
     "name": "stdout",
     "output_type": "stream",
     "text": [
      "Calculating lifetime features\n"
     ]
    },
    {
     "data": {
      "text/plain": [
       "(490000, 172)"
      ]
     },
     "execution_count": 19,
     "metadata": {},
     "output_type": "execute_result"
    }
   ],
   "source": [
    "test_filtration_features = calculate_features(test_filtration_diagrams)\n",
    "numpy.save(\"4__test_filtration_features.npy\", test_filtration_features)\n",
    "\n",
    "test_filtration_features = numpy.load(\"4__test_filtration_features.npy\")\n",
    "test_filtration_features.shape"
   ]
  },
  {
   "cell_type": "code",
   "execution_count": 20,
   "metadata": {},
   "outputs": [
    {
     "name": "stdout",
     "output_type": "stream",
     "text": [
      "Calculating 0 - 30000\n",
      "Filtered diagrams: (20000, 334, 3)\n",
      "Calculating Betti features\n",
      "Calculating landscape features\n",
      "Calculating silhouette features\n",
      "Calculating entropy features\n",
      "Calculating number of points features\n"
     ]
    },
    {
     "name": "stderr",
     "output_type": "stream",
     "text": [
      "amplitudes: 100%|██████████| 21/21 [01:11<00:00,  3.40s/it]\n"
     ]
    },
    {
     "name": "stdout",
     "output_type": "stream",
     "text": [
      "Calculating lifetime features\n"
     ]
    },
    {
     "data": {
      "text/plain": [
       "(20000, 231)"
      ]
     },
     "execution_count": 20,
     "metadata": {},
     "output_type": "execute_result"
    }
   ],
   "source": [
    "test_pointcloud_features = calculate_features(test_pointcloud_diagrams, N = 30000)\n",
    "numpy.save(\"4__test_pointcloud_features.npy\", test_pointcloud_features)\n",
    "\n",
    "test_pointcloud_features = numpy.load(\"4__test_pointcloud_features.npy\")\n",
    "test_pointcloud_features.shape"
   ]
  },
  {
   "cell_type": "code",
   "execution_count": 21,
   "metadata": {},
   "outputs": [
    {
     "name": "stderr",
     "output_type": "stream",
     "text": [
      "combine features: 100%|██████████| 60000/60000 [00:06<00:00, 8882.88it/s] \n",
      "combine features: 100%|██████████| 10000/10000 [00:00<00:00, 22178.06it/s]\n"
     ]
    }
   ],
   "source": [
    "def make_features(images: numpy.ndarray, filtration_features: numpy.ndarray, pointcloud_features: numpy.ndarray):\n",
    "    filtrations_per_image = len(filtration_features) // len(images)\n",
    "    point_clouds_per_image = len(pointcloud_features) // len(images)\n",
    "    \n",
    "    features = [ ]\n",
    "    for img_idx in tqdm.trange(len(images), desc = 'combine features'):\n",
    "        idx1 = filtrations_per_image * img_idx\n",
    "        idx2 = filtrations_per_image * (img_idx + 1)\n",
    "        filtration_features_flat = filtration_features[idx1:idx2].flatten()\n",
    "        \n",
    "        idx1 = point_clouds_per_image * img_idx\n",
    "        idx2 = point_clouds_per_image * (img_idx + 1)\n",
    "        pointcloud_features_flat = pointcloud_features[idx1:idx2].flatten()\n",
    "        \n",
    "        features_flat = numpy.concatenate((filtration_features_flat, pointcloud_features_flat), axis = 0)\n",
    "        features.append(features_flat)\n",
    "\n",
    "    return numpy.array(features)\n",
    "\n",
    "train_features = make_features(train_images, train_filtration_features, train_pointcloud_features)\n",
    "test_features = make_features(test_images, test_filtration_features, test_pointcloud_features)"
   ]
  },
  {
   "cell_type": "code",
   "execution_count": 22,
   "metadata": {},
   "outputs": [],
   "source": [
    "train_features = numpy.minimum(train_features, 1e9)\n",
    "test_features = numpy.minimum(test_features, 1e9)"
   ]
  },
  {
   "cell_type": "code",
   "execution_count": 23,
   "metadata": {},
   "outputs": [
    {
     "name": "stdout",
     "output_type": "stream",
     "text": [
      "0.9722\n"
     ]
    }
   ],
   "source": [
    "rf = sklearn.ensemble.RandomForestClassifier(n_jobs = -1, n_estimators = 100)\n",
    "rf.fit(train_features, train_labels)\n",
    "print(rf.score(test_features, test_labels))"
   ]
  },
  {
   "cell_type": "code",
   "execution_count": 25,
   "metadata": {},
   "outputs": [
    {
     "data": {
      "text/plain": [
       "<sklearn.metrics._plot.confusion_matrix.ConfusionMatrixDisplay at 0x1418183d060>"
      ]
     },
     "execution_count": 25,
     "metadata": {},
     "output_type": "execute_result"
    },
    {
     "data": {
      "image/png": "[encoded data removed]",
      "text/plain": [
       "<Figure size 640x480 with 2 Axes>"
      ]
     },
     "metadata": {},
     "output_type": "display_data"
    }
   ],
   "source": [
    "predictions = rf.predict(test_features)\n",
    "sklearn.metrics.ConfusionMatrixDisplay.from_predictions(test_labels, predictions)"
   ]
  },
  {
   "cell_type": "code",
   "execution_count": 26,
   "metadata": {},
   "outputs": [],
   "source": [
    "import sklearn.preprocessing\n",
    "\n",
    "sc = sklearn.preprocessing.StandardScaler()\n",
    "train_features_scaled = sc.fit_transform(train_features)\n",
    "test_features_scaled = sc.fit_transform(test_features)"
   ]
  },
  {
   "cell_type": "code",
   "execution_count": 28,
   "metadata": {},
   "outputs": [
    {
     "name": "stdout",
     "output_type": "stream",
     "text": [
      "0.9725\n"
     ]
    }
   ],
   "source": [
    "rf = sklearn.ensemble.RandomForestClassifier(n_jobs = -1, n_estimators = 100)\n",
    "rf.fit(train_features_scaled, train_labels)\n",
    "print(rf.score(test_features_scaled, test_labels))"
   ]
  },
  {
   "cell_type": "code",
   "execution_count": 33,
   "metadata": {},
   "outputs": [
    {
     "name": "stdout",
     "output_type": "stream",
     "text": [
      "Explained variance 0.96\n",
      "[0.392, 0.131, 0.053, 0.046, 0.036, 0.025, 0.021, 0.018, 0.014, 0.012, 0.011, 0.01, 0.01, 0.008, 0.008, 0.007, 0.007, 0.006, 0.006, 0.005, 0.005, 0.005, 0.005, 0.004, 0.004, 0.004, 0.004, 0.003, 0.003, 0.003, 0.003, 0.003, 0.003, 0.002, 0.002, 0.002, 0.002, 0.002, 0.002, 0.002, 0.002, 0.002, 0.002, 0.002, 0.002, 0.002, 0.002, 0.002, 0.001, 0.001, 0.001, 0.001, 0.001, 0.001, 0.001, 0.001, 0.001, 0.001, 0.001, 0.001, 0.001, 0.001, 0.001, 0.001, 0.001, 0.001, 0.001, 0.001, 0.001, 0.001, 0.001, 0.001, 0.001, 0.001, 0.001, 0.001, 0.001, 0.001, 0.001, 0.001, 0.001, 0.001, 0.001, 0.001, 0.001, 0.001, 0.001, 0.001, 0.001, 0.001, 0.001, 0.001, 0.001, 0.001, 0.001, 0.001, 0.001, 0.001, 0.001, 0.001, 0.0, 0.0, 0.0, 0.0, 0.0, 0.0, 0.0, 0.0, 0.0, 0.0, 0.0, 0.0, 0.0, 0.0, 0.0, 0.0, 0.0, 0.0, 0.0, 0.0, 0.0, 0.0, 0.0, 0.0, 0.0, 0.0, 0.0, 0.0]\n"
     ]
    }
   ],
   "source": [
    "pca = sklearn.decomposition.PCA(n_components = 128, random_state = 42)\n",
    "train_features_reduced = pca.fit_transform(train_features_scaled)\n",
    "print('Explained variance', round(pca.explained_variance_ratio_.sum(), 2))\n",
    "print([ round(x, 3) for x in pca.explained_variance_ratio_ ])\n",
    "test_features_reduced = pca.transform(test_features_scaled)"
   ]
  },
  {
   "cell_type": "code",
   "execution_count": 30,
   "metadata": {},
   "outputs": [
    {
     "name": "stdout",
     "output_type": "stream",
     "text": [
      "0.9432\n"
     ]
    }
   ],
   "source": [
    "rf_reduced = sklearn.ensemble.RandomForestClassifier(n_jobs = -1, n_estimators = 1000)\n",
    "rf_reduced.fit(train_features_reduced, train_labels)\n",
    "print(rf_reduced.score(test_features_reduced, test_labels))"
   ]
  },
  {
   "cell_type": "code",
   "execution_count": 31,
   "metadata": {},
   "outputs": [
    {
     "name": "stdout",
     "output_type": "stream",
     "text": [
      "0.9401\n"
     ]
    }
   ],
   "source": [
    "rf = sklearn.neighbors.KNeighborsClassifier(n_jobs = -1, n_neighbors = 10)\n",
    "rf.fit(train_features_reduced, train_labels)\n",
    "print(rf.score(test_features_reduced, test_labels))"
   ]
  },
  {
   "cell_type": "code",
   "execution_count": 32,
   "metadata": {},
   "outputs": [
    {
     "ename": "KeyboardInterrupt",
     "evalue": "",
     "output_type": "error",
     "traceback": [
      "\u001b[1;31m---------------------------------------------------------------------------\u001b[0m",
      "\u001b[1;31mKeyboardInterrupt\u001b[0m                         Traceback (most recent call last)",
      "Cell \u001b[1;32mIn[32], line 2\u001b[0m\n\u001b[0;32m      1\u001b[0m umap_ \u001b[38;5;241m=\u001b[39m umap\u001b[38;5;241m.\u001b[39mUMAP(n_components \u001b[38;5;241m=\u001b[39m \u001b[38;5;241m8\u001b[39m, n_jobs \u001b[38;5;241m=\u001b[39m \u001b[38;5;241m-\u001b[39m\u001b[38;5;241m1\u001b[39m)\n\u001b[1;32m----> 2\u001b[0m train_features_reduced \u001b[38;5;241m=\u001b[39m \u001b[43mumap_\u001b[49m\u001b[38;5;241;43m.\u001b[39;49m\u001b[43mfit_transform\u001b[49m\u001b[43m(\u001b[49m\u001b[43mtrain_features\u001b[49m\u001b[43m)\u001b[49m\n\u001b[0;32m      3\u001b[0m test_features_reduced \u001b[38;5;241m=\u001b[39m umap_\u001b[38;5;241m.\u001b[39mtransform(test_features)\n",
      "File \u001b[1;32md:\\Programs\\Programming\\Python\\lib\\site-packages\\umap\\umap_.py:2928\u001b[0m, in \u001b[0;36mUMAP.fit_transform\u001b[1;34m(self, X, y, force_all_finite, **kwargs)\u001b[0m\n\u001b[0;32m   2890\u001b[0m \u001b[38;5;28;01mdef\u001b[39;00m \u001b[38;5;21mfit_transform\u001b[39m(\u001b[38;5;28mself\u001b[39m, X, y\u001b[38;5;241m=\u001b[39m\u001b[38;5;28;01mNone\u001b[39;00m, force_all_finite\u001b[38;5;241m=\u001b[39m\u001b[38;5;28;01mTrue\u001b[39;00m, \u001b[38;5;241m*\u001b[39m\u001b[38;5;241m*\u001b[39mkwargs):\n\u001b[0;32m   2891\u001b[0m \u001b[38;5;250m    \u001b[39m\u001b[38;5;124;03m\"\"\"Fit X into an embedded space and return that transformed\u001b[39;00m\n\u001b[0;32m   2892\u001b[0m \u001b[38;5;124;03m    output.\u001b[39;00m\n\u001b[0;32m   2893\u001b[0m \n\u001b[1;32m   (...)\u001b[0m\n\u001b[0;32m   2926\u001b[0m \u001b[38;5;124;03m        Local radii of data points in the embedding (log-transformed).\u001b[39;00m\n\u001b[0;32m   2927\u001b[0m \u001b[38;5;124;03m    \"\"\"\u001b[39;00m\n\u001b[1;32m-> 2928\u001b[0m     \u001b[38;5;28mself\u001b[39m\u001b[38;5;241m.\u001b[39mfit(X, y, force_all_finite, \u001b[38;5;241m*\u001b[39m\u001b[38;5;241m*\u001b[39mkwargs)\n\u001b[0;32m   2929\u001b[0m     \u001b[38;5;28;01mif\u001b[39;00m \u001b[38;5;28mself\u001b[39m\u001b[38;5;241m.\u001b[39mtransform_mode \u001b[38;5;241m==\u001b[39m \u001b[38;5;124m\"\u001b[39m\u001b[38;5;124membedding\u001b[39m\u001b[38;5;124m\"\u001b[39m:\n\u001b[0;32m   2930\u001b[0m         \u001b[38;5;28;01mif\u001b[39;00m \u001b[38;5;28mself\u001b[39m\u001b[38;5;241m.\u001b[39moutput_dens:\n",
      "File \u001b[1;32md:\\Programs\\Programming\\Python\\lib\\site-packages\\umap\\umap_.py:2635\u001b[0m, in \u001b[0;36mUMAP.fit\u001b[1;34m(self, X, y, force_all_finite, **kwargs)\u001b[0m\n\u001b[0;32m   2629\u001b[0m     nn_metric \u001b[38;5;241m=\u001b[39m \u001b[38;5;28mself\u001b[39m\u001b[38;5;241m.\u001b[39m_input_distance_func\n\u001b[0;32m   2630\u001b[0m \u001b[38;5;28;01mif\u001b[39;00m \u001b[38;5;28mself\u001b[39m\u001b[38;5;241m.\u001b[39mknn_dists \u001b[38;5;129;01mis\u001b[39;00m \u001b[38;5;28;01mNone\u001b[39;00m:\n\u001b[0;32m   2631\u001b[0m     (\n\u001b[0;32m   2632\u001b[0m         \u001b[38;5;28mself\u001b[39m\u001b[38;5;241m.\u001b[39m_knn_indices,\n\u001b[0;32m   2633\u001b[0m         \u001b[38;5;28mself\u001b[39m\u001b[38;5;241m.\u001b[39m_knn_dists,\n\u001b[0;32m   2634\u001b[0m         \u001b[38;5;28mself\u001b[39m\u001b[38;5;241m.\u001b[39m_knn_search_index,\n\u001b[1;32m-> 2635\u001b[0m     ) \u001b[38;5;241m=\u001b[39m \u001b[43mnearest_neighbors\u001b[49m\u001b[43m(\u001b[49m\n\u001b[0;32m   2636\u001b[0m \u001b[43m        \u001b[49m\u001b[43mX\u001b[49m\u001b[43m[\u001b[49m\u001b[43mindex\u001b[49m\u001b[43m]\u001b[49m\u001b[43m,\u001b[49m\n\u001b[0;32m   2637\u001b[0m \u001b[43m        \u001b[49m\u001b[38;5;28;43mself\u001b[39;49m\u001b[38;5;241;43m.\u001b[39;49m\u001b[43m_n_neighbors\u001b[49m\u001b[43m,\u001b[49m\n\u001b[0;32m   2638\u001b[0m \u001b[43m        \u001b[49m\u001b[43mnn_metric\u001b[49m\u001b[43m,\u001b[49m\n\u001b[0;32m   2639\u001b[0m \u001b[43m        \u001b[49m\u001b[38;5;28;43mself\u001b[39;49m\u001b[38;5;241;43m.\u001b[39;49m\u001b[43m_metric_kwds\u001b[49m\u001b[43m,\u001b[49m\n\u001b[0;32m   2640\u001b[0m \u001b[43m        \u001b[49m\u001b[38;5;28;43mself\u001b[39;49m\u001b[38;5;241;43m.\u001b[39;49m\u001b[43mangular_rp_forest\u001b[49m\u001b[43m,\u001b[49m\n\u001b[0;32m   2641\u001b[0m \u001b[43m        \u001b[49m\u001b[43mrandom_state\u001b[49m\u001b[43m,\u001b[49m\n\u001b[0;32m   2642\u001b[0m \u001b[43m        \u001b[49m\u001b[38;5;28;43mself\u001b[39;49m\u001b[38;5;241;43m.\u001b[39;49m\u001b[43mlow_memory\u001b[49m\u001b[43m,\u001b[49m\n\u001b[0;32m   2643\u001b[0m \u001b[43m        \u001b[49m\u001b[43muse_pynndescent\u001b[49m\u001b[38;5;241;43m=\u001b[39;49m\u001b[38;5;28;43;01mTrue\u001b[39;49;00m\u001b[43m,\u001b[49m\n\u001b[0;32m   2644\u001b[0m \u001b[43m        \u001b[49m\u001b[43mn_jobs\u001b[49m\u001b[38;5;241;43m=\u001b[39;49m\u001b[38;5;28;43mself\u001b[39;49m\u001b[38;5;241;43m.\u001b[39;49m\u001b[43mn_jobs\u001b[49m\u001b[43m,\u001b[49m\n\u001b[0;32m   2645\u001b[0m \u001b[43m        \u001b[49m\u001b[43mverbose\u001b[49m\u001b[38;5;241;43m=\u001b[39;49m\u001b[38;5;28;43mself\u001b[39;49m\u001b[38;5;241;43m.\u001b[39;49m\u001b[43mverbose\u001b[49m\u001b[43m,\u001b[49m\n\u001b[0;32m   2646\u001b[0m \u001b[43m    \u001b[49m\u001b[43m)\u001b[49m\n\u001b[0;32m   2647\u001b[0m \u001b[38;5;28;01melse\u001b[39;00m:\n\u001b[0;32m   2648\u001b[0m     \u001b[38;5;28mself\u001b[39m\u001b[38;5;241m.\u001b[39m_knn_indices \u001b[38;5;241m=\u001b[39m \u001b[38;5;28mself\u001b[39m\u001b[38;5;241m.\u001b[39mknn_indices\n",
      "File \u001b[1;32md:\\Programs\\Programming\\Python\\lib\\site-packages\\umap\\umap_.py:330\u001b[0m, in \u001b[0;36mnearest_neighbors\u001b[1;34m(X, n_neighbors, metric, metric_kwds, angular, random_state, low_memory, use_pynndescent, n_jobs, verbose)\u001b[0m\n\u001b[0;32m    327\u001b[0m     n_trees \u001b[38;5;241m=\u001b[39m \u001b[38;5;28mmin\u001b[39m(\u001b[38;5;241m64\u001b[39m, \u001b[38;5;241m5\u001b[39m \u001b[38;5;241m+\u001b[39m \u001b[38;5;28mint\u001b[39m(\u001b[38;5;28mround\u001b[39m((X\u001b[38;5;241m.\u001b[39mshape[\u001b[38;5;241m0\u001b[39m]) \u001b[38;5;241m*\u001b[39m\u001b[38;5;241m*\u001b[39m \u001b[38;5;241m0.5\u001b[39m \u001b[38;5;241m/\u001b[39m \u001b[38;5;241m20.0\u001b[39m)))\n\u001b[0;32m    328\u001b[0m     n_iters \u001b[38;5;241m=\u001b[39m \u001b[38;5;28mmax\u001b[39m(\u001b[38;5;241m5\u001b[39m, \u001b[38;5;28mint\u001b[39m(\u001b[38;5;28mround\u001b[39m(np\u001b[38;5;241m.\u001b[39mlog2(X\u001b[38;5;241m.\u001b[39mshape[\u001b[38;5;241m0\u001b[39m]))))\n\u001b[1;32m--> 330\u001b[0m     knn_search_index \u001b[38;5;241m=\u001b[39m \u001b[43mNNDescent\u001b[49m\u001b[43m(\u001b[49m\n\u001b[0;32m    331\u001b[0m \u001b[43m        \u001b[49m\u001b[43mX\u001b[49m\u001b[43m,\u001b[49m\n\u001b[0;32m    332\u001b[0m \u001b[43m        \u001b[49m\u001b[43mn_neighbors\u001b[49m\u001b[38;5;241;43m=\u001b[39;49m\u001b[43mn_neighbors\u001b[49m\u001b[43m,\u001b[49m\n\u001b[0;32m    333\u001b[0m \u001b[43m        \u001b[49m\u001b[43mmetric\u001b[49m\u001b[38;5;241;43m=\u001b[39;49m\u001b[43mmetric\u001b[49m\u001b[43m,\u001b[49m\n\u001b[0;32m    334\u001b[0m \u001b[43m        \u001b[49m\u001b[43mmetric_kwds\u001b[49m\u001b[38;5;241;43m=\u001b[39;49m\u001b[43mmetric_kwds\u001b[49m\u001b[43m,\u001b[49m\n\u001b[0;32m    335\u001b[0m \u001b[43m        \u001b[49m\u001b[43mrandom_state\u001b[49m\u001b[38;5;241;43m=\u001b[39;49m\u001b[43mrandom_state\u001b[49m\u001b[43m,\u001b[49m\n\u001b[0;32m    336\u001b[0m \u001b[43m        \u001b[49m\u001b[43mn_trees\u001b[49m\u001b[38;5;241;43m=\u001b[39;49m\u001b[43mn_trees\u001b[49m\u001b[43m,\u001b[49m\n\u001b[0;32m    337\u001b[0m \u001b[43m        \u001b[49m\u001b[43mn_iters\u001b[49m\u001b[38;5;241;43m=\u001b[39;49m\u001b[43mn_iters\u001b[49m\u001b[43m,\u001b[49m\n\u001b[0;32m    338\u001b[0m \u001b[43m        \u001b[49m\u001b[43mmax_candidates\u001b[49m\u001b[38;5;241;43m=\u001b[39;49m\u001b[38;5;241;43m60\u001b[39;49m\u001b[43m,\u001b[49m\n\u001b[0;32m    339\u001b[0m \u001b[43m        \u001b[49m\u001b[43mlow_memory\u001b[49m\u001b[38;5;241;43m=\u001b[39;49m\u001b[43mlow_memory\u001b[49m\u001b[43m,\u001b[49m\n\u001b[0;32m    340\u001b[0m \u001b[43m        \u001b[49m\u001b[43mn_jobs\u001b[49m\u001b[38;5;241;43m=\u001b[39;49m\u001b[43mn_jobs\u001b[49m\u001b[43m,\u001b[49m\n\u001b[0;32m    341\u001b[0m \u001b[43m        \u001b[49m\u001b[43mverbose\u001b[49m\u001b[38;5;241;43m=\u001b[39;49m\u001b[43mverbose\u001b[49m\u001b[43m,\u001b[49m\n\u001b[0;32m    342\u001b[0m \u001b[43m        \u001b[49m\u001b[43mcompressed\u001b[49m\u001b[38;5;241;43m=\u001b[39;49m\u001b[38;5;28;43;01mFalse\u001b[39;49;00m\u001b[43m,\u001b[49m\n\u001b[0;32m    343\u001b[0m \u001b[43m    \u001b[49m\u001b[43m)\u001b[49m\n\u001b[0;32m    344\u001b[0m     knn_indices, knn_dists \u001b[38;5;241m=\u001b[39m knn_search_index\u001b[38;5;241m.\u001b[39mneighbor_graph\n\u001b[0;32m    346\u001b[0m \u001b[38;5;28;01mif\u001b[39;00m verbose:\n",
      "File \u001b[1;32md:\\Programs\\Programming\\Python\\lib\\site-packages\\pynndescent\\pynndescent_.py:794\u001b[0m, in \u001b[0;36mNNDescent.__init__\u001b[1;34m(self, data, metric, metric_kwds, n_neighbors, n_trees, leaf_size, pruning_degree_multiplier, diversify_prob, n_search_trees, tree_init, init_graph, init_dist, random_state, low_memory, max_candidates, max_rptree_depth, n_iters, delta, n_jobs, compressed, parallel_batch_queries, verbose)\u001b[0m\n\u001b[0;32m    792\u001b[0m     \u001b[38;5;28;01mif\u001b[39;00m verbose:\n\u001b[0;32m    793\u001b[0m         \u001b[38;5;28mprint\u001b[39m(ts(), \u001b[38;5;124m\"\u001b[39m\u001b[38;5;124mBuilding RP forest with\u001b[39m\u001b[38;5;124m\"\u001b[39m, \u001b[38;5;28mstr\u001b[39m(n_trees), \u001b[38;5;124m\"\u001b[39m\u001b[38;5;124mtrees\u001b[39m\u001b[38;5;124m\"\u001b[39m)\n\u001b[1;32m--> 794\u001b[0m     \u001b[38;5;28mself\u001b[39m\u001b[38;5;241m.\u001b[39m_rp_forest \u001b[38;5;241m=\u001b[39m \u001b[43mmake_forest\u001b[49m\u001b[43m(\u001b[49m\n\u001b[0;32m    795\u001b[0m \u001b[43m        \u001b[49m\u001b[43mdata\u001b[49m\u001b[43m,\u001b[49m\n\u001b[0;32m    796\u001b[0m \u001b[43m        \u001b[49m\u001b[43mn_neighbors\u001b[49m\u001b[43m,\u001b[49m\n\u001b[0;32m    797\u001b[0m \u001b[43m        \u001b[49m\u001b[43mn_trees\u001b[49m\u001b[43m,\u001b[49m\n\u001b[0;32m    798\u001b[0m \u001b[43m        \u001b[49m\u001b[43mleaf_size\u001b[49m\u001b[43m,\u001b[49m\n\u001b[0;32m    799\u001b[0m \u001b[43m        \u001b[49m\u001b[38;5;28;43mself\u001b[39;49m\u001b[38;5;241;43m.\u001b[39;49m\u001b[43mrng_state\u001b[49m\u001b[43m,\u001b[49m\n\u001b[0;32m    800\u001b[0m \u001b[43m        \u001b[49m\u001b[43mcurrent_random_state\u001b[49m\u001b[43m,\u001b[49m\n\u001b[0;32m    801\u001b[0m \u001b[43m        \u001b[49m\u001b[38;5;28;43mself\u001b[39;49m\u001b[38;5;241;43m.\u001b[39;49m\u001b[43mn_jobs\u001b[49m\u001b[43m,\u001b[49m\n\u001b[0;32m    802\u001b[0m \u001b[43m        \u001b[49m\u001b[38;5;28;43mself\u001b[39;49m\u001b[38;5;241;43m.\u001b[39;49m\u001b[43m_angular_trees\u001b[49m\u001b[43m,\u001b[49m\n\u001b[0;32m    803\u001b[0m \u001b[43m        \u001b[49m\u001b[38;5;28;43mself\u001b[39;49m\u001b[38;5;241;43m.\u001b[39;49m\u001b[43m_bit_trees\u001b[49m\u001b[43m,\u001b[49m\n\u001b[0;32m    804\u001b[0m \u001b[43m        \u001b[49m\u001b[43mmax_depth\u001b[49m\u001b[38;5;241;43m=\u001b[39;49m\u001b[38;5;28;43mself\u001b[39;49m\u001b[38;5;241;43m.\u001b[39;49m\u001b[43mmax_rptree_depth\u001b[49m\u001b[43m,\u001b[49m\n\u001b[0;32m    805\u001b[0m \u001b[43m    \u001b[49m\u001b[43m)\u001b[49m\n\u001b[0;32m    806\u001b[0m     leaf_array \u001b[38;5;241m=\u001b[39m rptree_leaf_array(\u001b[38;5;28mself\u001b[39m\u001b[38;5;241m.\u001b[39m_rp_forest)\n\u001b[0;32m    807\u001b[0m \u001b[38;5;28;01melse\u001b[39;00m:\n",
      "File \u001b[1;32md:\\Programs\\Programming\\Python\\lib\\site-packages\\pynndescent\\rp_trees.py:1388\u001b[0m, in \u001b[0;36mmake_forest\u001b[1;34m(data, n_neighbors, n_trees, leaf_size, rng_state, random_state, n_jobs, angular, bit_tree, max_depth)\u001b[0m\n\u001b[0;32m   1377\u001b[0m         result \u001b[38;5;241m=\u001b[39m joblib\u001b[38;5;241m.\u001b[39mParallel(n_jobs\u001b[38;5;241m=\u001b[39mn_jobs, require\u001b[38;5;241m=\u001b[39m\u001b[38;5;124m\"\u001b[39m\u001b[38;5;124msharedmem\u001b[39m\u001b[38;5;124m\"\u001b[39m)(\n\u001b[0;32m   1378\u001b[0m             joblib\u001b[38;5;241m.\u001b[39mdelayed(make_dense_bit_tree)(\n\u001b[0;32m   1379\u001b[0m                 data,\n\u001b[1;32m   (...)\u001b[0m\n\u001b[0;32m   1385\u001b[0m             \u001b[38;5;28;01mfor\u001b[39;00m i \u001b[38;5;129;01min\u001b[39;00m \u001b[38;5;28mrange\u001b[39m(n_trees)\n\u001b[0;32m   1386\u001b[0m         )\n\u001b[0;32m   1387\u001b[0m     \u001b[38;5;28;01melse\u001b[39;00m:\n\u001b[1;32m-> 1388\u001b[0m         result \u001b[38;5;241m=\u001b[39m \u001b[43mjoblib\u001b[49m\u001b[38;5;241;43m.\u001b[39;49m\u001b[43mParallel\u001b[49m\u001b[43m(\u001b[49m\u001b[43mn_jobs\u001b[49m\u001b[38;5;241;43m=\u001b[39;49m\u001b[43mn_jobs\u001b[49m\u001b[43m,\u001b[49m\u001b[43m \u001b[49m\u001b[43mrequire\u001b[49m\u001b[38;5;241;43m=\u001b[39;49m\u001b[38;5;124;43m\"\u001b[39;49m\u001b[38;5;124;43msharedmem\u001b[39;49m\u001b[38;5;124;43m\"\u001b[39;49m\u001b[43m)\u001b[49m\u001b[43m(\u001b[49m\n\u001b[0;32m   1389\u001b[0m \u001b[43m            \u001b[49m\u001b[43mjoblib\u001b[49m\u001b[38;5;241;43m.\u001b[39;49m\u001b[43mdelayed\u001b[49m\u001b[43m(\u001b[49m\u001b[43mmake_dense_tree\u001b[49m\u001b[43m)\u001b[49m\u001b[43m(\u001b[49m\n\u001b[0;32m   1390\u001b[0m \u001b[43m                \u001b[49m\u001b[43mdata\u001b[49m\u001b[43m,\u001b[49m\n\u001b[0;32m   1391\u001b[0m \u001b[43m                \u001b[49m\u001b[43mrng_states\u001b[49m\u001b[43m[\u001b[49m\u001b[43mi\u001b[49m\u001b[43m]\u001b[49m\u001b[43m,\u001b[49m\n\u001b[0;32m   1392\u001b[0m \u001b[43m                \u001b[49m\u001b[43mleaf_size\u001b[49m\u001b[43m,\u001b[49m\n\u001b[0;32m   1393\u001b[0m \u001b[43m                \u001b[49m\u001b[43mangular\u001b[49m\u001b[43m,\u001b[49m\n\u001b[0;32m   1394\u001b[0m \u001b[43m                \u001b[49m\u001b[43mmax_depth\u001b[49m\u001b[38;5;241;43m=\u001b[39;49m\u001b[43mmax_depth\u001b[49m\n\u001b[0;32m   1395\u001b[0m \u001b[43m            \u001b[49m\u001b[43m)\u001b[49m\n\u001b[0;32m   1396\u001b[0m \u001b[43m            \u001b[49m\u001b[38;5;28;43;01mfor\u001b[39;49;00m\u001b[43m \u001b[49m\u001b[43mi\u001b[49m\u001b[43m \u001b[49m\u001b[38;5;129;43;01min\u001b[39;49;00m\u001b[43m \u001b[49m\u001b[38;5;28;43mrange\u001b[39;49m\u001b[43m(\u001b[49m\u001b[43mn_trees\u001b[49m\u001b[43m)\u001b[49m\n\u001b[0;32m   1397\u001b[0m \u001b[43m        \u001b[49m\u001b[43m)\u001b[49m\n\u001b[0;32m   1398\u001b[0m \u001b[38;5;28;01mexcept\u001b[39;00m (\u001b[38;5;167;01mRuntimeError\u001b[39;00m, \u001b[38;5;167;01mRecursionError\u001b[39;00m, \u001b[38;5;167;01mSystemError\u001b[39;00m):\n\u001b[0;32m   1399\u001b[0m     warn(\n\u001b[0;32m   1400\u001b[0m         \u001b[38;5;124m\"\u001b[39m\u001b[38;5;124mRandom Projection forest initialisation failed due to recursion\u001b[39m\u001b[38;5;124m\"\u001b[39m\n\u001b[0;32m   1401\u001b[0m         \u001b[38;5;124m\"\u001b[39m\u001b[38;5;124mlimit being reached. Something is a little strange with your \u001b[39m\u001b[38;5;124m\"\u001b[39m\n\u001b[0;32m   1402\u001b[0m         \u001b[38;5;124m\"\u001b[39m\u001b[38;5;124mgraph_data, and this may take longer than normal to compute.\u001b[39m\u001b[38;5;124m\"\u001b[39m\n\u001b[0;32m   1403\u001b[0m     )\n",
      "File \u001b[1;32md:\\Programs\\Programming\\Python\\lib\\site-packages\\joblib\\parallel.py:2007\u001b[0m, in \u001b[0;36mParallel.__call__\u001b[1;34m(self, iterable)\u001b[0m\n\u001b[0;32m   2001\u001b[0m \u001b[38;5;66;03m# The first item from the output is blank, but it makes the interpreter\u001b[39;00m\n\u001b[0;32m   2002\u001b[0m \u001b[38;5;66;03m# progress until it enters the Try/Except block of the generator and\u001b[39;00m\n\u001b[0;32m   2003\u001b[0m \u001b[38;5;66;03m# reaches the first `yield` statement. This starts the asynchronous\u001b[39;00m\n\u001b[0;32m   2004\u001b[0m \u001b[38;5;66;03m# dispatch of the tasks to the workers.\u001b[39;00m\n\u001b[0;32m   2005\u001b[0m \u001b[38;5;28mnext\u001b[39m(output)\n\u001b[1;32m-> 2007\u001b[0m \u001b[38;5;28;01mreturn\u001b[39;00m output \u001b[38;5;28;01mif\u001b[39;00m \u001b[38;5;28mself\u001b[39m\u001b[38;5;241m.\u001b[39mreturn_generator \u001b[38;5;28;01melse\u001b[39;00m \u001b[38;5;28;43mlist\u001b[39;49m\u001b[43m(\u001b[49m\u001b[43moutput\u001b[49m\u001b[43m)\u001b[49m\n",
      "File \u001b[1;32md:\\Programs\\Programming\\Python\\lib\\site-packages\\joblib\\parallel.py:1650\u001b[0m, in \u001b[0;36mParallel._get_outputs\u001b[1;34m(self, iterator, pre_dispatch)\u001b[0m\n\u001b[0;32m   1647\u001b[0m     \u001b[38;5;28;01myield\u001b[39;00m\n\u001b[0;32m   1649\u001b[0m     \u001b[38;5;28;01mwith\u001b[39;00m \u001b[38;5;28mself\u001b[39m\u001b[38;5;241m.\u001b[39m_backend\u001b[38;5;241m.\u001b[39mretrieval_context():\n\u001b[1;32m-> 1650\u001b[0m         \u001b[38;5;28;01myield from\u001b[39;00m \u001b[38;5;28mself\u001b[39m\u001b[38;5;241m.\u001b[39m_retrieve()\n\u001b[0;32m   1652\u001b[0m \u001b[38;5;28;01mexcept\u001b[39;00m \u001b[38;5;167;01mGeneratorExit\u001b[39;00m:\n\u001b[0;32m   1653\u001b[0m     \u001b[38;5;66;03m# The generator has been garbage collected before being fully\u001b[39;00m\n\u001b[0;32m   1654\u001b[0m     \u001b[38;5;66;03m# consumed. This aborts the remaining tasks if possible and warn\u001b[39;00m\n\u001b[0;32m   1655\u001b[0m     \u001b[38;5;66;03m# the user if necessary.\u001b[39;00m\n\u001b[0;32m   1656\u001b[0m     \u001b[38;5;28mself\u001b[39m\u001b[38;5;241m.\u001b[39m_exception \u001b[38;5;241m=\u001b[39m \u001b[38;5;28;01mTrue\u001b[39;00m\n",
      "File \u001b[1;32md:\\Programs\\Programming\\Python\\lib\\site-packages\\joblib\\parallel.py:1762\u001b[0m, in \u001b[0;36mParallel._retrieve\u001b[1;34m(self)\u001b[0m\n\u001b[0;32m   1757\u001b[0m \u001b[38;5;66;03m# If the next job is not ready for retrieval yet, we just wait for\u001b[39;00m\n\u001b[0;32m   1758\u001b[0m \u001b[38;5;66;03m# async callbacks to progress.\u001b[39;00m\n\u001b[0;32m   1759\u001b[0m \u001b[38;5;28;01mif\u001b[39;00m ((\u001b[38;5;28mlen\u001b[39m(\u001b[38;5;28mself\u001b[39m\u001b[38;5;241m.\u001b[39m_jobs) \u001b[38;5;241m==\u001b[39m \u001b[38;5;241m0\u001b[39m) \u001b[38;5;129;01mor\u001b[39;00m\n\u001b[0;32m   1760\u001b[0m     (\u001b[38;5;28mself\u001b[39m\u001b[38;5;241m.\u001b[39m_jobs[\u001b[38;5;241m0\u001b[39m]\u001b[38;5;241m.\u001b[39mget_status(\n\u001b[0;32m   1761\u001b[0m         timeout\u001b[38;5;241m=\u001b[39m\u001b[38;5;28mself\u001b[39m\u001b[38;5;241m.\u001b[39mtimeout) \u001b[38;5;241m==\u001b[39m TASK_PENDING)):\n\u001b[1;32m-> 1762\u001b[0m     \u001b[43mtime\u001b[49m\u001b[38;5;241;43m.\u001b[39;49m\u001b[43msleep\u001b[49m\u001b[43m(\u001b[49m\u001b[38;5;241;43m0.01\u001b[39;49m\u001b[43m)\u001b[49m\n\u001b[0;32m   1763\u001b[0m     \u001b[38;5;28;01mcontinue\u001b[39;00m\n\u001b[0;32m   1765\u001b[0m \u001b[38;5;66;03m# We need to be careful: the job list can be filling up as\u001b[39;00m\n\u001b[0;32m   1766\u001b[0m \u001b[38;5;66;03m# we empty it and Python list are not thread-safe by\u001b[39;00m\n\u001b[0;32m   1767\u001b[0m \u001b[38;5;66;03m# default hence the use of the lock\u001b[39;00m\n",
      "\u001b[1;31mKeyboardInterrupt\u001b[0m: "
     ]
    }
   ],
   "source": [
    "umap_ = umap.UMAP(n_components = 8, n_jobs = -1)\n",
    "train_features_reduced = umap_.fit_transform(train_features)\n",
    "test_features_reduced = umap_.transform(test_features)"
   ]
  },
  {
   "cell_type": "code",
   "execution_count": 38,
   "metadata": {},
   "outputs": [
    {
     "name": "stdout",
     "output_type": "stream",
     "text": [
      "0.4565\n"
     ]
    }
   ],
   "source": [
    "rf_reduced = sklearn.ensemble.RandomForestClassifier(n_jobs = -1, n_estimators = 1000)\n",
    "rf_reduced.fit(train_features_reduced, train_labels)\n",
    "print(rf_reduced.score(test_features_reduced, test_labels))"
   ]
  },
  {
   "cell_type": "code",
   "execution_count": 41,
   "metadata": {},
   "outputs": [
    {
     "name": "stdout",
     "output_type": "stream",
     "text": [
      "0.4196\n"
     ]
    }
   ],
   "source": [
    "rf = sklearn.neighbors.KNeighborsClassifier(n_jobs = -1, n_neighbors = 1000)\n",
    "rf.fit(train_features_reduced, train_labels)\n",
    "print(rf.score(test_features_reduced, test_labels))"
   ]
  },
  {
   "cell_type": "code",
   "execution_count": 34,
   "metadata": {},
   "outputs": [
    {
     "name": "stdout",
     "output_type": "stream",
     "text": [
      "epoch 0: loss = 519.088623046875, acc = 0.9331\n",
      "epoch 1: loss = 309.5721740722656, acc = 0.9661\n",
      "epoch 2: loss = 207.8317413330078, acc = 0.9734\n",
      "epoch 3: loss = 147.201171875, acc = 0.9732\n",
      "epoch 4: loss = 103.54418182373047, acc = 0.9782\n",
      "epoch 5: loss = 75.25910949707031, acc = 0.977\n",
      "epoch 6: loss = 67.66312408447266, acc = 0.9794\n",
      "epoch 7: loss = 64.28288269042969, acc = 0.979\n",
      "epoch 8: loss = 55.706424713134766, acc = 0.9785\n",
      "epoch 9: loss = 49.08966064453125, acc = 0.9817\n",
      "epoch 10: loss = 38.6754264831543, acc = 0.9794\n",
      "epoch 11: loss = 46.68344497680664, acc = 0.9785\n",
      "epoch 12: loss = 33.631378173828125, acc = 0.9777\n",
      "epoch 13: loss = 30.900978088378906, acc = 0.9808\n",
      "epoch 14: loss = 31.594947814941406, acc = 0.9783\n",
      "epoch 15: loss = 35.51460266113281, acc = 0.9828\n",
      "epoch 16: loss = 29.238981246948242, acc = 0.9792\n",
      "epoch 17: loss = 21.822174072265625, acc = 0.9804\n",
      "epoch 18: loss = 19.562084197998047, acc = 0.9819\n",
      "epoch 19: loss = 15.557062149047852, acc = 0.982\n",
      "epoch 20: loss = 10.292595863342285, acc = 0.9797\n",
      "epoch 21: loss = 13.438348770141602, acc = 0.9824\n",
      "epoch 22: loss = 14.877939224243164, acc = 0.9786\n",
      "epoch 23: loss = 12.239405632019043, acc = 0.9769\n",
      "epoch 24: loss = 18.957447052001953, acc = 0.9812\n",
      "epoch 25: loss = 18.197967529296875, acc = 0.98\n",
      "epoch 26: loss = 18.236709594726562, acc = 0.9818\n",
      "epoch 27: loss = 10.280492782592773, acc = 0.9816\n",
      "epoch 28: loss = 9.911108016967773, acc = 0.9796\n",
      "epoch 29: loss = 14.99828052520752, acc = 0.9822\n",
      "epoch 30: loss = 12.092789649963379, acc = 0.9796\n",
      "epoch 31: loss = 22.530126571655273, acc = 0.9792\n",
      "epoch 32: loss = 8.057594299316406, acc = 0.9819\n",
      "epoch 33: loss = 10.998478889465332, acc = 0.9786\n",
      "epoch 34: loss = 5.199519634246826, acc = 0.9815\n",
      "epoch 35: loss = 6.711054801940918, acc = 0.9815\n",
      "epoch 36: loss = 6.196807861328125, acc = 0.9825\n",
      "epoch 37: loss = 3.424248218536377, acc = 0.9803\n",
      "epoch 38: loss = 5.114280700683594, acc = 0.984\n",
      "epoch 39: loss = 3.6052703857421875, acc = 0.9808\n",
      "epoch 40: loss = 4.268159866333008, acc = 0.9816\n",
      "epoch 41: loss = 11.831811904907227, acc = 0.9709\n",
      "epoch 42: loss = 5.399044036865234, acc = 0.9788\n",
      "epoch 43: loss = 7.1685614585876465, acc = 0.978\n",
      "epoch 44: loss = 8.937396049499512, acc = 0.9815\n",
      "epoch 45: loss = 15.290905952453613, acc = 0.9768\n",
      "epoch 46: loss = 4.295821189880371, acc = 0.9801\n",
      "epoch 47: loss = 3.5520217418670654, acc = 0.9799\n",
      "epoch 48: loss = 5.862190246582031, acc = 0.9814\n",
      "epoch 49: loss = 2.703617811203003, acc = 0.982\n"
     ]
    }
   ],
   "source": [
    "import torch\n",
    "import random\n",
    "RANDOM_STATE = 42\n",
    "def set_random_seed(seed):\n",
    "    random.seed(seed)\n",
    "    numpy.random.seed(seed)\n",
    "    torch.manual_seed(seed)\n",
    "    torch.cuda.manual_seed(seed)\n",
    "    torch.backends.cudnn.deterministic = True\n",
    "set_random_seed(RANDOM_STATE)\n",
    "\n",
    "device = torch.device(\"cuda\")\n",
    "\n",
    "\n",
    "train_ds = torch.utils.data.TensorDataset(\n",
    "    torch.tensor(train_features_scaled, dtype = torch.float),\n",
    "    torch.tensor(train_labels, dtype = torch.long)\n",
    ")\n",
    "\n",
    "test_ds = torch.utils.data.TensorDataset(\n",
    "    torch.tensor(test_features_scaled, dtype = torch.float),\n",
    "    torch.tensor(test_labels, dtype = torch.long)\n",
    ")\n",
    "\n",
    "train_dl = torch.utils.data.DataLoader(train_ds, batch_size = 1024, shuffle = True)\n",
    "test_dl = torch.utils.data.DataLoader(test_ds, batch_size = 1024, shuffle = False)\n",
    "\n",
    "model = torch.nn.Sequential(\n",
    "    torch.nn.Linear(train_features_scaled.shape[1], 128), torch.nn.BatchNorm1d(128), torch.nn.GELU(),\n",
    "    torch.nn.Linear(128, 64), torch.nn.BatchNorm1d(64), torch.nn.GELU(),\n",
    "    torch.nn.Linear(64, 32), torch.nn.BatchNorm1d(32), torch.nn.GELU(),\n",
    "    torch.nn.Linear(32, 10)\n",
    ").to(device)\n",
    "\n",
    "optimizer = torch.optim.AdamW(\n",
    "    params = model.parameters(),\n",
    "    lr = 5e-4\n",
    ")\n",
    "\n",
    "for epoch in range(50):\n",
    "    model.train()\n",
    "    for (X, y) in train_dl:\n",
    "        optimizer.zero_grad()\n",
    "        pred = model(X.to(device))\n",
    "        loss = torch.nn.functional.cross_entropy(pred, y.to(device), reduction = 'sum')\n",
    "        loss.backward()\n",
    "        optimizer.step()\n",
    "\n",
    "    with torch.no_grad():\n",
    "        model.eval()\n",
    "        preds = [ ]\n",
    "        Y = [ ]\n",
    "        for batch_x, batch_y in test_dl:\n",
    "            preds.extend(torch.argmax(model(batch_x.to(device)), axis = 1).cpu())\n",
    "            Y.extend(batch_y)\n",
    "        accuracy = sklearn.metrics.accuracy_score(Y, preds)\n",
    "\n",
    "    print(f\"epoch {epoch}: loss = {loss.item()}, acc = {accuracy}\")"
   ]
  },
  {
   "cell_type": "code",
   "execution_count": 35,
   "metadata": {},
   "outputs": [
    {
     "data": {
      "text/plain": [
       "<sklearn.metrics._plot.confusion_matrix.ConfusionMatrixDisplay at 0x1441c60e770>"
      ]
     },
     "execution_count": 35,
     "metadata": {},
     "output_type": "execute_result"
    },
    {
     "data": {
      "image/png": "[encoded data removed]",
      "text/plain": [
       "<Figure size 640x480 with 2 Axes>"
      ]
     },
     "metadata": {},
     "output_type": "display_data"
    }
   ],
   "source": [
    "sklearn.metrics.ConfusionMatrixDisplay.from_predictions(test_labels, numpy.array(preds))"
   ]
  },
  {
   "cell_type": "code",
   "execution_count": 90,
   "metadata": {},
   "outputs": [
    {
     "name": "stdout",
     "output_type": "stream",
     "text": [
      "0.9448\n"
     ]
    }
   ],
   "source": [
    "rf = sklearn.neighbors.KNeighborsClassifier(n_jobs = -1, n_neighbors = 1)\n",
    "rf.fit(train_features_scaled, train_labels)\n",
    "print(rf.score(test_features_scaled, test_labels))"
   ]
  },
  {
   "cell_type": "code",
   "execution_count": 16,
   "metadata": {},
   "outputs": [],
   "source": [
    "def calculate_images(diagrams: numpy.ndarray, N: int = 49000):\n",
    "    images = [ ]\n",
    "    for i in range(0, len(diagrams), N):\n",
    "        print(f'Calculating {i} - {i + N}')\n",
    "        hk = gtda.diagrams.PersistenceImage(sigma = 1.6, n_jobs = -1)\n",
    "        images.append(\n",
    "            hk.fit_transform(diagrams[i:i + N])\n",
    "        )\n",
    "    return numpy.concatenate(images, axis = 0)"
   ]
  },
  {
   "cell_type": "code",
   "execution_count": 22,
   "metadata": {},
   "outputs": [
    {
     "data": {
      "text/plain": [
       "(49000, 2, 100, 100)"
      ]
     },
     "execution_count": 22,
     "metadata": {},
     "output_type": "execute_result"
    }
   ],
   "source": [
    "# train_filtration_pis = calculate_images(train_filtration_diagrams[:49000])\n",
    "# numpy.save(\"4__train_filtration_pis.npy\", train_filtration_pis)\n",
    "\n",
    "train_filtration_pis = numpy.load(\"4__train_filtration_pis.npy\")\n",
    "train_filtration_pis.shape"
   ]
  },
  {
   "cell_type": "code",
   "execution_count": 24,
   "metadata": {},
   "outputs": [
    {
     "name": "stdout",
     "output_type": "stream",
     "text": [
      "Calculating 0 - 49000\n"
     ]
    },
    {
     "data": {
      "text/plain": [
       "(4900, 2, 100, 100)"
      ]
     },
     "execution_count": 24,
     "metadata": {},
     "output_type": "execute_result"
    }
   ],
   "source": [
    "test_filtration_pis = calculate_images(test_filtration_diagrams[:4900])\n",
    "numpy.save(\"4__test_filtration_pis.npy\", test_filtration_pis)\n",
    "\n",
    "test_filtration_pis = numpy.load(\"4__test_filtration_pis.npy\")\n",
    "test_filtration_pis.shape"
   ]
  },
  {
   "cell_type": "code",
   "execution_count": 31,
   "metadata": {},
   "outputs": [
    {
     "name": "stderr",
     "output_type": "stream",
     "text": [
      "combine images: 100%|██████████| 1000/1000 [00:03<00:00, 269.19it/s]\n",
      "combine images: 100%|██████████| 100/100 [00:00<00:00, 260.12it/s]\n"
     ]
    }
   ],
   "source": [
    "def make_images(filtration_pis: numpy.ndarray):\n",
    "    images = [ ]\n",
    "    for img_idx in tqdm.trange(len(filtration_pis) // 49, desc = 'combine images'):\n",
    "        idx1 = 49 * img_idx\n",
    "        idx2 = 49 * (img_idx + 1)\n",
    "        images.append(numpy.concatenate(filtration_pis[idx1:idx2], axis = 0))\n",
    "\n",
    "    return numpy.array(images)\n",
    "\n",
    "train_images = make_images(train_filtration_pis)\n",
    "test_images = make_images(test_filtration_pis)"
   ]
  },
  {
   "cell_type": "code",
   "execution_count": 60,
   "metadata": {},
   "outputs": [
    {
     "name": "stdout",
     "output_type": "stream",
     "text": [
      "epoch 0: loss = 15.74434757232666, acc = 0.14\n",
      "epoch 1: loss = 10.03386116027832, acc = 0.21\n",
      "epoch 2: loss = 8.581578254699707, acc = 0.17\n",
      "epoch 3: loss = 10.991872787475586, acc = 0.2\n",
      "epoch 4: loss = 6.203951835632324, acc = 0.21\n",
      "epoch 5: loss = 1.505049228668213, acc = 0.17\n",
      "epoch 6: loss = 0.8678723573684692, acc = 0.21\n",
      "epoch 7: loss = 0.9153925180435181, acc = 0.22\n",
      "epoch 8: loss = 1.1510440111160278, acc = 0.2\n",
      "epoch 9: loss = 2.201138734817505, acc = 0.23\n",
      "epoch 10: loss = 1.2548195123672485, acc = 0.19\n",
      "epoch 11: loss = 1.3541066646575928, acc = 0.21\n",
      "epoch 12: loss = 0.372041791677475, acc = 0.22\n",
      "epoch 13: loss = 0.13058283925056458, acc = 0.18\n",
      "epoch 14: loss = 0.15174895524978638, acc = 0.19\n",
      "epoch 15: loss = 1.630298376083374, acc = 0.15\n",
      "epoch 16: loss = 0.19768336415290833, acc = 0.2\n",
      "epoch 17: loss = 2.128767728805542, acc = 0.19\n"
     ]
    },
    {
     "ename": "KeyboardInterrupt",
     "evalue": "",
     "output_type": "error",
     "traceback": [
      "\u001b[1;31m---------------------------------------------------------------------------\u001b[0m",
      "\u001b[1;31mKeyboardInterrupt\u001b[0m                         Traceback (most recent call last)",
      "Cell \u001b[1;32mIn[60], line 46\u001b[0m\n\u001b[0;32m     44\u001b[0m \u001b[38;5;28;01mfor\u001b[39;00m (X, y) \u001b[38;5;129;01min\u001b[39;00m train_dl:\n\u001b[0;32m     45\u001b[0m     optimizer\u001b[38;5;241m.\u001b[39mzero_grad()\n\u001b[1;32m---> 46\u001b[0m     pred \u001b[38;5;241m=\u001b[39m \u001b[43mmodel\u001b[49m\u001b[43m(\u001b[49m\u001b[43mX\u001b[49m\u001b[38;5;241;43m.\u001b[39;49m\u001b[43mto\u001b[49m\u001b[43m(\u001b[49m\u001b[43mdevice\u001b[49m\u001b[43m)\u001b[49m\u001b[43m)\u001b[49m\n\u001b[0;32m     47\u001b[0m     loss \u001b[38;5;241m=\u001b[39m torch\u001b[38;5;241m.\u001b[39mnn\u001b[38;5;241m.\u001b[39mfunctional\u001b[38;5;241m.\u001b[39mcross_entropy(pred, y\u001b[38;5;241m.\u001b[39mto(device), reduction \u001b[38;5;241m=\u001b[39m \u001b[38;5;124m'\u001b[39m\u001b[38;5;124msum\u001b[39m\u001b[38;5;124m'\u001b[39m)\n\u001b[0;32m     48\u001b[0m     loss\u001b[38;5;241m.\u001b[39mbackward()\n",
      "File \u001b[1;32m~\\AppData\\Roaming\\Python\\Python310\\site-packages\\torch\\nn\\modules\\module.py:1736\u001b[0m, in \u001b[0;36mModule._wrapped_call_impl\u001b[1;34m(self, *args, **kwargs)\u001b[0m\n\u001b[0;32m   1734\u001b[0m     \u001b[38;5;28;01mreturn\u001b[39;00m \u001b[38;5;28mself\u001b[39m\u001b[38;5;241m.\u001b[39m_compiled_call_impl(\u001b[38;5;241m*\u001b[39margs, \u001b[38;5;241m*\u001b[39m\u001b[38;5;241m*\u001b[39mkwargs)  \u001b[38;5;66;03m# type: ignore[misc]\u001b[39;00m\n\u001b[0;32m   1735\u001b[0m \u001b[38;5;28;01melse\u001b[39;00m:\n\u001b[1;32m-> 1736\u001b[0m     \u001b[38;5;28;01mreturn\u001b[39;00m \u001b[38;5;28mself\u001b[39m\u001b[38;5;241m.\u001b[39m_call_impl(\u001b[38;5;241m*\u001b[39margs, \u001b[38;5;241m*\u001b[39m\u001b[38;5;241m*\u001b[39mkwargs)\n",
      "File \u001b[1;32m~\\AppData\\Roaming\\Python\\Python310\\site-packages\\torch\\nn\\modules\\module.py:1747\u001b[0m, in \u001b[0;36mModule._call_impl\u001b[1;34m(self, *args, **kwargs)\u001b[0m\n\u001b[0;32m   1742\u001b[0m \u001b[38;5;66;03m# If we don't have any hooks, we want to skip the rest of the logic in\u001b[39;00m\n\u001b[0;32m   1743\u001b[0m \u001b[38;5;66;03m# this function, and just call forward.\u001b[39;00m\n\u001b[0;32m   1744\u001b[0m \u001b[38;5;28;01mif\u001b[39;00m \u001b[38;5;129;01mnot\u001b[39;00m (\u001b[38;5;28mself\u001b[39m\u001b[38;5;241m.\u001b[39m_backward_hooks \u001b[38;5;129;01mor\u001b[39;00m \u001b[38;5;28mself\u001b[39m\u001b[38;5;241m.\u001b[39m_backward_pre_hooks \u001b[38;5;129;01mor\u001b[39;00m \u001b[38;5;28mself\u001b[39m\u001b[38;5;241m.\u001b[39m_forward_hooks \u001b[38;5;129;01mor\u001b[39;00m \u001b[38;5;28mself\u001b[39m\u001b[38;5;241m.\u001b[39m_forward_pre_hooks\n\u001b[0;32m   1745\u001b[0m         \u001b[38;5;129;01mor\u001b[39;00m _global_backward_pre_hooks \u001b[38;5;129;01mor\u001b[39;00m _global_backward_hooks\n\u001b[0;32m   1746\u001b[0m         \u001b[38;5;129;01mor\u001b[39;00m _global_forward_hooks \u001b[38;5;129;01mor\u001b[39;00m _global_forward_pre_hooks):\n\u001b[1;32m-> 1747\u001b[0m     \u001b[38;5;28;01mreturn\u001b[39;00m forward_call(\u001b[38;5;241m*\u001b[39margs, \u001b[38;5;241m*\u001b[39m\u001b[38;5;241m*\u001b[39mkwargs)\n\u001b[0;32m   1749\u001b[0m result \u001b[38;5;241m=\u001b[39m \u001b[38;5;28;01mNone\u001b[39;00m\n\u001b[0;32m   1750\u001b[0m called_always_called_hooks \u001b[38;5;241m=\u001b[39m \u001b[38;5;28mset\u001b[39m()\n",
      "File \u001b[1;32m~\\AppData\\Roaming\\Python\\Python310\\site-packages\\torch\\nn\\modules\\container.py:250\u001b[0m, in \u001b[0;36mSequential.forward\u001b[1;34m(self, input)\u001b[0m\n\u001b[0;32m    248\u001b[0m \u001b[38;5;28;01mdef\u001b[39;00m \u001b[38;5;21mforward\u001b[39m(\u001b[38;5;28mself\u001b[39m, \u001b[38;5;28minput\u001b[39m):\n\u001b[0;32m    249\u001b[0m     \u001b[38;5;28;01mfor\u001b[39;00m module \u001b[38;5;129;01min\u001b[39;00m \u001b[38;5;28mself\u001b[39m:\n\u001b[1;32m--> 250\u001b[0m         \u001b[38;5;28minput\u001b[39m \u001b[38;5;241m=\u001b[39m \u001b[43mmodule\u001b[49m\u001b[43m(\u001b[49m\u001b[38;5;28;43minput\u001b[39;49m\u001b[43m)\u001b[49m\n\u001b[0;32m    251\u001b[0m     \u001b[38;5;28;01mreturn\u001b[39;00m \u001b[38;5;28minput\u001b[39m\n",
      "File \u001b[1;32m~\\AppData\\Roaming\\Python\\Python310\\site-packages\\torch\\nn\\modules\\module.py:1736\u001b[0m, in \u001b[0;36mModule._wrapped_call_impl\u001b[1;34m(self, *args, **kwargs)\u001b[0m\n\u001b[0;32m   1734\u001b[0m     \u001b[38;5;28;01mreturn\u001b[39;00m \u001b[38;5;28mself\u001b[39m\u001b[38;5;241m.\u001b[39m_compiled_call_impl(\u001b[38;5;241m*\u001b[39margs, \u001b[38;5;241m*\u001b[39m\u001b[38;5;241m*\u001b[39mkwargs)  \u001b[38;5;66;03m# type: ignore[misc]\u001b[39;00m\n\u001b[0;32m   1735\u001b[0m \u001b[38;5;28;01melse\u001b[39;00m:\n\u001b[1;32m-> 1736\u001b[0m     \u001b[38;5;28;01mreturn\u001b[39;00m \u001b[38;5;28mself\u001b[39m\u001b[38;5;241m.\u001b[39m_call_impl(\u001b[38;5;241m*\u001b[39margs, \u001b[38;5;241m*\u001b[39m\u001b[38;5;241m*\u001b[39mkwargs)\n",
      "File \u001b[1;32m~\\AppData\\Roaming\\Python\\Python310\\site-packages\\torch\\nn\\modules\\module.py:1747\u001b[0m, in \u001b[0;36mModule._call_impl\u001b[1;34m(self, *args, **kwargs)\u001b[0m\n\u001b[0;32m   1742\u001b[0m \u001b[38;5;66;03m# If we don't have any hooks, we want to skip the rest of the logic in\u001b[39;00m\n\u001b[0;32m   1743\u001b[0m \u001b[38;5;66;03m# this function, and just call forward.\u001b[39;00m\n\u001b[0;32m   1744\u001b[0m \u001b[38;5;28;01mif\u001b[39;00m \u001b[38;5;129;01mnot\u001b[39;00m (\u001b[38;5;28mself\u001b[39m\u001b[38;5;241m.\u001b[39m_backward_hooks \u001b[38;5;129;01mor\u001b[39;00m \u001b[38;5;28mself\u001b[39m\u001b[38;5;241m.\u001b[39m_backward_pre_hooks \u001b[38;5;129;01mor\u001b[39;00m \u001b[38;5;28mself\u001b[39m\u001b[38;5;241m.\u001b[39m_forward_hooks \u001b[38;5;129;01mor\u001b[39;00m \u001b[38;5;28mself\u001b[39m\u001b[38;5;241m.\u001b[39m_forward_pre_hooks\n\u001b[0;32m   1745\u001b[0m         \u001b[38;5;129;01mor\u001b[39;00m _global_backward_pre_hooks \u001b[38;5;129;01mor\u001b[39;00m _global_backward_hooks\n\u001b[0;32m   1746\u001b[0m         \u001b[38;5;129;01mor\u001b[39;00m _global_forward_hooks \u001b[38;5;129;01mor\u001b[39;00m _global_forward_pre_hooks):\n\u001b[1;32m-> 1747\u001b[0m     \u001b[38;5;28;01mreturn\u001b[39;00m forward_call(\u001b[38;5;241m*\u001b[39margs, \u001b[38;5;241m*\u001b[39m\u001b[38;5;241m*\u001b[39mkwargs)\n\u001b[0;32m   1749\u001b[0m result \u001b[38;5;241m=\u001b[39m \u001b[38;5;28;01mNone\u001b[39;00m\n\u001b[0;32m   1750\u001b[0m called_always_called_hooks \u001b[38;5;241m=\u001b[39m \u001b[38;5;28mset\u001b[39m()\n",
      "File \u001b[1;32m~\\AppData\\Roaming\\Python\\Python310\\site-packages\\torch\\nn\\modules\\conv.py:554\u001b[0m, in \u001b[0;36mConv2d.forward\u001b[1;34m(self, input)\u001b[0m\n\u001b[0;32m    553\u001b[0m \u001b[38;5;28;01mdef\u001b[39;00m \u001b[38;5;21mforward\u001b[39m(\u001b[38;5;28mself\u001b[39m, \u001b[38;5;28minput\u001b[39m: Tensor) \u001b[38;5;241m-\u001b[39m\u001b[38;5;241m>\u001b[39m Tensor:\n\u001b[1;32m--> 554\u001b[0m     \u001b[38;5;28;01mreturn\u001b[39;00m \u001b[38;5;28;43mself\u001b[39;49m\u001b[38;5;241;43m.\u001b[39;49m\u001b[43m_conv_forward\u001b[49m\u001b[43m(\u001b[49m\u001b[38;5;28;43minput\u001b[39;49m\u001b[43m,\u001b[49m\u001b[43m \u001b[49m\u001b[38;5;28;43mself\u001b[39;49m\u001b[38;5;241;43m.\u001b[39;49m\u001b[43mweight\u001b[49m\u001b[43m,\u001b[49m\u001b[43m \u001b[49m\u001b[38;5;28;43mself\u001b[39;49m\u001b[38;5;241;43m.\u001b[39;49m\u001b[43mbias\u001b[49m\u001b[43m)\u001b[49m\n",
      "File \u001b[1;32m~\\AppData\\Roaming\\Python\\Python310\\site-packages\\torch\\nn\\modules\\conv.py:549\u001b[0m, in \u001b[0;36mConv2d._conv_forward\u001b[1;34m(self, input, weight, bias)\u001b[0m\n\u001b[0;32m    537\u001b[0m \u001b[38;5;28;01mif\u001b[39;00m \u001b[38;5;28mself\u001b[39m\u001b[38;5;241m.\u001b[39mpadding_mode \u001b[38;5;241m!=\u001b[39m \u001b[38;5;124m\"\u001b[39m\u001b[38;5;124mzeros\u001b[39m\u001b[38;5;124m\"\u001b[39m:\n\u001b[0;32m    538\u001b[0m     \u001b[38;5;28;01mreturn\u001b[39;00m F\u001b[38;5;241m.\u001b[39mconv2d(\n\u001b[0;32m    539\u001b[0m         F\u001b[38;5;241m.\u001b[39mpad(\n\u001b[0;32m    540\u001b[0m             \u001b[38;5;28minput\u001b[39m, \u001b[38;5;28mself\u001b[39m\u001b[38;5;241m.\u001b[39m_reversed_padding_repeated_twice, mode\u001b[38;5;241m=\u001b[39m\u001b[38;5;28mself\u001b[39m\u001b[38;5;241m.\u001b[39mpadding_mode\n\u001b[1;32m   (...)\u001b[0m\n\u001b[0;32m    547\u001b[0m         \u001b[38;5;28mself\u001b[39m\u001b[38;5;241m.\u001b[39mgroups,\n\u001b[0;32m    548\u001b[0m     )\n\u001b[1;32m--> 549\u001b[0m \u001b[38;5;28;01mreturn\u001b[39;00m \u001b[43mF\u001b[49m\u001b[38;5;241;43m.\u001b[39;49m\u001b[43mconv2d\u001b[49m\u001b[43m(\u001b[49m\n\u001b[0;32m    550\u001b[0m \u001b[43m    \u001b[49m\u001b[38;5;28;43minput\u001b[39;49m\u001b[43m,\u001b[49m\u001b[43m \u001b[49m\u001b[43mweight\u001b[49m\u001b[43m,\u001b[49m\u001b[43m \u001b[49m\u001b[43mbias\u001b[49m\u001b[43m,\u001b[49m\u001b[43m \u001b[49m\u001b[38;5;28;43mself\u001b[39;49m\u001b[38;5;241;43m.\u001b[39;49m\u001b[43mstride\u001b[49m\u001b[43m,\u001b[49m\u001b[43m \u001b[49m\u001b[38;5;28;43mself\u001b[39;49m\u001b[38;5;241;43m.\u001b[39;49m\u001b[43mpadding\u001b[49m\u001b[43m,\u001b[49m\u001b[43m \u001b[49m\u001b[38;5;28;43mself\u001b[39;49m\u001b[38;5;241;43m.\u001b[39;49m\u001b[43mdilation\u001b[49m\u001b[43m,\u001b[49m\u001b[43m \u001b[49m\u001b[38;5;28;43mself\u001b[39;49m\u001b[38;5;241;43m.\u001b[39;49m\u001b[43mgroups\u001b[49m\n\u001b[0;32m    551\u001b[0m \u001b[43m\u001b[49m\u001b[43m)\u001b[49m\n",
      "\u001b[1;31mKeyboardInterrupt\u001b[0m: "
     ]
    }
   ],
   "source": [
    "import torch\n",
    "import random\n",
    "\n",
    "RANDOM_STATE = 42\n",
    "def set_random_seed(seed):\n",
    "    random.seed(seed)\n",
    "    numpy.random.seed(seed)\n",
    "    torch.manual_seed(seed)\n",
    "    torch.cuda.manual_seed(seed)\n",
    "    torch.backends.cudnn.deterministic = True\n",
    "set_random_seed(RANDOM_STATE)\n",
    "\n",
    "device = torch.device(\"cuda\")\n",
    "\n",
    "train_ds = torch.utils.data.TensorDataset(\n",
    "    torch.tensor(train_images, dtype = torch.float),\n",
    "    torch.tensor(train_labels[:1000], dtype = torch.long)\n",
    ")\n",
    "\n",
    "test_ds = torch.utils.data.TensorDataset(\n",
    "    torch.tensor(test_images, dtype = torch.float),\n",
    "    torch.tensor(test_labels[:100], dtype = torch.long)\n",
    ")\n",
    "\n",
    "train_dl = torch.utils.data.DataLoader(train_ds, batch_size = 16, shuffle = True)\n",
    "test_dl = torch.utils.data.DataLoader(test_ds, batch_size = 16, shuffle = False)\n",
    "\n",
    "model = torch.nn.Sequential(\n",
    "    torch.nn.Conv2d(98, 98, kernel_size = 7), torch.nn.BatchNorm2d(98), torch.nn.GELU(), torch.nn.MaxPool2d(3, 3),\n",
    "    torch.nn.Conv2d(98, 196, kernel_size = 5), torch.nn.BatchNorm2d(196), torch.nn.GELU(), torch.nn.MaxPool2d(2, 2),\n",
    "    torch.nn.Conv2d(196, 394, kernel_size = 3, dilation = 2), torch.nn.BatchNorm2d(394), torch.nn.GELU(), torch.nn.MaxPool2d(2, 2),\n",
    "\n",
    "    torch.nn.Flatten(), torch.nn.LazyLinear(1024), torch.nn.BatchNorm1d(1024), torch.nn.GELU(),\n",
    "    torch.nn.Linear(1024, 200)\n",
    ").to(device)\n",
    "\n",
    "optimizer = torch.optim.AdamW(\n",
    "    params = model.parameters(),\n",
    "    lr = 1e-4\n",
    ")\n",
    "\n",
    "for epoch in range(63):\n",
    "    model.train()\n",
    "    for (X, y) in train_dl:\n",
    "        optimizer.zero_grad()\n",
    "        pred = model(X.to(device))\n",
    "        loss = torch.nn.functional.cross_entropy(pred, y.to(device), reduction = 'sum')\n",
    "        loss.backward()\n",
    "        optimizer.step()\n",
    "\n",
    "    with torch.no_grad():\n",
    "        model.eval()\n",
    "        preds = [ ]\n",
    "        Y = [ ]\n",
    "        for batch_x, batch_y in test_dl:\n",
    "            preds.extend(torch.argmax(model(batch_x.to(device)), axis = 1).cpu())\n",
    "            Y.extend(batch_y)\n",
    "        accuracy = sklearn.metrics.accuracy_score(Y, preds)\n",
    "\n",
    "    print(f\"epoch {epoch}: loss = {loss.item()}, acc = {accuracy}\")"
   ]
  }
 ],
 "metadata": {
  "kernelspec": {
   "display_name": "Python 3",
   "language": "python",
   "name": "python3"
  },
  "language_info": {
   "codemirror_mode": {
    "name": "ipython",
    "version": 3
   },
   "file_extension": ".py",
   "mimetype": "text/x-python",
   "name": "python",
   "nbconvert_exporter": "python",
   "pygments_lexer": "ipython3",
   "version": "3.10.11"
  }
 },
 "nbformat": 4,
 "nbformat_minor": 2
}
