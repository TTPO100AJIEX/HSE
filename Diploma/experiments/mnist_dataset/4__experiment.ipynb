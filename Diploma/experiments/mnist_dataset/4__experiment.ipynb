{
 "cells": [
  {
   "cell_type": "code",
   "execution_count": 62,
   "metadata": {},
   "outputs": [
    {
     "name": "stdout",
     "output_type": "stream",
     "text": [
      "The autoreload extension is already loaded. To reload it, use:\n",
      "  %reload_ext autoreload\n"
     ]
    }
   ],
   "source": [
    "%load_ext autoreload\n",
    "%autoreload 2\n",
    "\n",
    "import os\n",
    "import sys\n",
    "sys.path.append(os.path.dirname(os.path.abspath(os.path.join('../'))))\n",
    "\n",
    "import umap\n",
    "import tqdm\n",
    "import numpy\n",
    "import itertools\n",
    "import torchvision\n",
    "import gtda.images\n",
    "import gtda.diagrams\n",
    "import gtda.homology\n",
    "import sklearn.pipeline\n",
    "import sklearn.ensemble\n",
    "import sklearn.metrics\n",
    "import sklearn.neighbors\n",
    "import tqdm.contrib.itertools\n",
    "import sklearn.decomposition\n",
    "\n",
    "import lib.topology"
   ]
  },
  {
   "cell_type": "code",
   "execution_count": 63,
   "metadata": {},
   "outputs": [],
   "source": [
    "BINARIZATION_THESHOLD = 0.4\n",
    "\n",
    "height_filtration_directions = [\n",
    "    [ -1, -1 ], [ 1, 1 ], [ 1, -1 ], [ -1, 1 ],\n",
    "    [ 0, -1 ], [ 0, 1 ], [ -1, 0 ], [ 1, 0 ]\n",
    "]\n",
    "\n",
    "\n",
    "radial_filtration_centers = list(itertools.product([ 7, 14, 21 ], [ 7, 14, 21 ]))\n",
    "radial_filtration_metrics = [ \"euclidean\", \"manhattan\", \"cosine\" ]\n",
    "\n",
    "density_filtration_metrics = [ \"euclidean\" , \"manhattan\", \"cosine\" ]\n",
    "density_filtration_radiuses = [ 1, 5, 15 ]\n",
    "\n",
    "FILTRATIONS = [\n",
    "    *[ [ gtda.images.HeightFiltration, { 'direction': numpy.array(direction), 'n_jobs': -1 } ] for direction in height_filtration_directions ],\n",
    "    *[\n",
    "        [ gtda.images.RadialFiltration, { 'center': numpy.array(center), 'metric': metric, 'n_jobs': -1 } ]\n",
    "        for center in radial_filtration_centers\n",
    "        for metric in radial_filtration_metrics\n",
    "    ],\n",
    "    [ gtda.images.DilationFiltration, { 'n_jobs': -1 } ],\n",
    "    [ gtda.images.ErosionFiltration, { 'n_jobs': -1 } ],\n",
    "    [ gtda.images.SignedDistanceFiltration, { 'n_jobs': -1 } ],\n",
    "    *[\n",
    "        [ gtda.images.DensityFiltration, { 'radius': radius, 'metric': metric, 'n_jobs': -1 } ]\n",
    "        for metric in density_filtration_metrics\n",
    "        for radius in density_filtration_radiuses\n",
    "    ]\n",
    "]"
   ]
  },
  {
   "cell_type": "code",
   "execution_count": 64,
   "metadata": {},
   "outputs": [],
   "source": [
    "train = torchvision.datasets.MNIST('mnist', train = True, download = True)\n",
    "test = torchvision.datasets.MNIST('mnist', train = False, download = True)\n",
    "\n",
    "train_images = numpy.array([ item[0] for item in train ])\n",
    "train_labels = numpy.array([ item[1] for item in train ])\n",
    "\n",
    "test_images = numpy.array([ item[0] for item in test ])\n",
    "test_labels = numpy.array([ item[1] for item in test ])"
   ]
  },
  {
   "cell_type": "code",
   "execution_count": 65,
   "metadata": {},
   "outputs": [],
   "source": [
    "def make_filtrations(images: numpy.ndarray):\n",
    "    images_bin = gtda.images.Binarizer(threshold = BINARIZATION_THESHOLD).fit_transform(images)\n",
    "    filtrations = [\n",
    "        filtration[0](**filtration[1]).fit_transform(images_bin)\n",
    "        for filtration in tqdm.tqdm(FILTRATIONS, desc = 'filtrations')\n",
    "    ]\n",
    "    return [ images, images_bin ] + filtrations\n",
    "\n",
    "\n",
    "def make_point_clouds(images: numpy.ndarray):\n",
    "    def make_point_cloud(image, threshold):\n",
    "        point_cloud = [ ]\n",
    "        for i in range(image.shape[0]):\n",
    "            for j in range(image.shape[1]):\n",
    "                if image[i][j] < threshold:\n",
    "                    continue\n",
    "                point_cloud.append([ i, j, image[i][j] ])\n",
    "        return numpy.array(point_cloud)\n",
    "\n",
    "    def _make_point_clouds(imgs, threshold):\n",
    "        imgs = numpy.swapaxes(numpy.flip(imgs, axis = 1), 1, 2)\n",
    "        return [ make_point_cloud(image, threshold) for image in tqdm.tqdm(imgs, desc = 'point_clouds') ]\n",
    "\n",
    "    images_bin = gtda.images.Binarizer(threshold = BINARIZATION_THESHOLD).fit_transform(images)\n",
    "    point_cloud = gtda.images.ImageToPointCloud().fit_transform(images_bin)\n",
    "    return [ point_cloud, _make_point_clouds(images, 50) ]"
   ]
  },
  {
   "cell_type": "code",
   "execution_count": 66,
   "metadata": {},
   "outputs": [],
   "source": [
    "def make_filtration_diagrams(images: numpy.ndarray):\n",
    "    filtrations = make_filtrations(images)\n",
    "    all_filtrations = [ ]\n",
    "    for diagrams in zip(*filtrations):\n",
    "        all_filtrations.extend(diagrams)\n",
    "\n",
    "    print('Making filtration diagrams')\n",
    "    persistence = gtda.homology.CubicalPersistence(homology_dimensions = [ 0, 1 ], n_jobs = -1)\n",
    "    return persistence.fit_transform(all_filtrations)\n",
    "\n",
    "def make_point_cloud_diagrams(images: numpy.ndarray):\n",
    "    point_clouds = make_point_clouds(images)\n",
    "    all_point_clouds = [ ]\n",
    "    for diagrams in zip(*point_clouds):\n",
    "        all_point_clouds.extend(diagrams)\n",
    "        \n",
    "    print('Making point cloud diagrams')\n",
    "    persistence = gtda.homology.VietorisRipsPersistence(homology_dimensions = [ 0, 1, 2 ], n_jobs = -1)\n",
    "    return persistence.fit_transform(all_point_clouds)"
   ]
  },
  {
   "cell_type": "code",
   "execution_count": 67,
   "metadata": {},
   "outputs": [
    {
     "data": {
      "text/plain": [
       "(2940000, 80, 3)"
      ]
     },
     "execution_count": 67,
     "metadata": {},
     "output_type": "execute_result"
    }
   ],
   "source": [
    "# train_filtration_diagrams = make_filtration_diagrams(train_images)\n",
    "# numpy.save(\"4__train_filtration_diagrams.npy\", train_filtration_diagrams)\n",
    "\n",
    "train_filtration_diagrams = numpy.load(\"4__train_filtration_diagrams.npy\")\n",
    "train_filtration_diagrams.shape"
   ]
  },
  {
   "cell_type": "code",
   "execution_count": 68,
   "metadata": {},
   "outputs": [
    {
     "data": {
      "text/plain": [
       "(120000, 639, 3)"
      ]
     },
     "execution_count": 68,
     "metadata": {},
     "output_type": "execute_result"
    }
   ],
   "source": [
    "# train_pointcloud_diagrams = make_point_cloud_diagrams(train_images)\n",
    "# numpy.save(\"4__train_pointcloud_diagrams.npy\", train_pointcloud_diagrams)\n",
    "\n",
    "train_pointcloud_diagrams = numpy.load(\"4__train_pointcloud_diagrams.npy\")\n",
    "train_pointcloud_diagrams.shape"
   ]
  },
  {
   "cell_type": "code",
   "execution_count": 69,
   "metadata": {},
   "outputs": [
    {
     "data": {
      "text/plain": [
       "(490000, 72, 3)"
      ]
     },
     "execution_count": 69,
     "metadata": {},
     "output_type": "execute_result"
    }
   ],
   "source": [
    "# test_filtration_diagrams = make_filtration_diagrams(test_images)\n",
    "# numpy.save(\"4__test_filtration_diagrams.npy\", test_filtration_diagrams)\n",
    "\n",
    "test_filtration_diagrams = numpy.load(\"4__test_filtration_diagrams.npy\")\n",
    "test_filtration_diagrams.shape"
   ]
  },
  {
   "cell_type": "code",
   "execution_count": 70,
   "metadata": {},
   "outputs": [
    {
     "data": {
      "text/plain": [
       "(20000, 527, 3)"
      ]
     },
     "execution_count": 70,
     "metadata": {},
     "output_type": "execute_result"
    }
   ],
   "source": [
    "# test_pointcloud_diagrams = make_point_cloud_diagrams(test_images)\n",
    "# numpy.save(\"4__test_pointcloud_diagrams.npy\", test_pointcloud_diagrams)\n",
    "\n",
    "test_pointcloud_diagrams = numpy.load(\"4__test_pointcloud_diagrams.npy\")\n",
    "test_pointcloud_diagrams.shape"
   ]
  },
  {
   "cell_type": "code",
   "execution_count": 71,
   "metadata": {},
   "outputs": [],
   "source": [
    "def calculate_features(diagrams: numpy.ndarray, N: int = 122500):\n",
    "    features = None\n",
    "    for i in range(0, len(diagrams), N):\n",
    "        print(f'Calculating {i} - {i + N}')\n",
    "        feature_calculator = lib.topology.FeatureCalculator(n_jobs = -1, verbose = True)\n",
    "        batch = feature_calculator.calc_features(diagrams[i:i + N])\n",
    "        if features is None:\n",
    "            features = batch\n",
    "        else:\n",
    "            features = numpy.concatenate((features, batch), axis = 0)\n",
    "    return features"
   ]
  },
  {
   "cell_type": "code",
   "execution_count": 72,
   "metadata": {},
   "outputs": [
    {
     "data": {
      "text/plain": [
       "(2940000, 172)"
      ]
     },
     "execution_count": 72,
     "metadata": {},
     "output_type": "execute_result"
    }
   ],
   "source": [
    "# train_filtration_features = calculate_features(train_filtration_diagrams)\n",
    "# numpy.save(\"4__train_filtration_features.npy\", train_filtration_features)\n",
    "\n",
    "train_filtration_features = numpy.load(\"4__train_filtration_features.npy\")\n",
    "train_filtration_features.shape"
   ]
  },
  {
   "cell_type": "code",
   "execution_count": 73,
   "metadata": {},
   "outputs": [
    {
     "data": {
      "text/plain": [
       "(120000, 231)"
      ]
     },
     "execution_count": 73,
     "metadata": {},
     "output_type": "execute_result"
    }
   ],
   "source": [
    "# train_pointcloud_features = calculate_features(train_pointcloud_diagrams, N = 30000)\n",
    "# numpy.save(\"4__train_pointcloud_features.npy\", train_pointcloud_features)\n",
    "\n",
    "train_pointcloud_features = numpy.load(\"4__train_pointcloud_features.npy\")\n",
    "train_pointcloud_features.shape"
   ]
  },
  {
   "cell_type": "code",
   "execution_count": 74,
   "metadata": {},
   "outputs": [
    {
     "data": {
      "text/plain": [
       "(490000, 172)"
      ]
     },
     "execution_count": 74,
     "metadata": {},
     "output_type": "execute_result"
    }
   ],
   "source": [
    "# test_filtration_features = calculate_features(test_filtration_diagrams)\n",
    "# numpy.save(\"4__test_filtration_features.npy\", test_filtration_features)\n",
    "\n",
    "test_filtration_features = numpy.load(\"4__test_filtration_features.npy\")\n",
    "test_filtration_features.shape"
   ]
  },
  {
   "cell_type": "code",
   "execution_count": 75,
   "metadata": {},
   "outputs": [
    {
     "data": {
      "text/plain": [
       "(20000, 231)"
      ]
     },
     "execution_count": 75,
     "metadata": {},
     "output_type": "execute_result"
    }
   ],
   "source": [
    "# test_pointcloud_features = calculate_features(test_pointcloud_diagrams, N = 30000)\n",
    "# numpy.save(\"4__test_pointcloud_features.npy\", test_pointcloud_features)\n",
    "\n",
    "test_pointcloud_features = numpy.load(\"4__test_pointcloud_features.npy\")\n",
    "test_pointcloud_features.shape"
   ]
  },
  {
   "cell_type": "code",
   "execution_count": 76,
   "metadata": {},
   "outputs": [
    {
     "name": "stderr",
     "output_type": "stream",
     "text": [
      "combine features: 100%|██████████| 60000/60000 [00:02<00:00, 24490.43it/s]\n",
      "combine features: 100%|██████████| 10000/10000 [00:00<00:00, 24052.71it/s]\n"
     ]
    }
   ],
   "source": [
    "def make_features(images: numpy.ndarray, filtration_features: numpy.ndarray, pointcloud_features: numpy.ndarray):\n",
    "    filtrations_per_image = len(filtration_features) // len(images)\n",
    "    point_clouds_per_image = len(pointcloud_features) // len(images)\n",
    "    \n",
    "    features = [ ]\n",
    "    for img_idx in tqdm.trange(len(images), desc = 'combine features'):\n",
    "        idx1 = filtrations_per_image * img_idx\n",
    "        idx2 = filtrations_per_image * (img_idx + 1)\n",
    "        filtration_features_flat = filtration_features[idx1:idx2].flatten()\n",
    "        \n",
    "        idx1 = point_clouds_per_image * img_idx\n",
    "        idx2 = point_clouds_per_image * (img_idx + 1)\n",
    "        pointcloud_features_flat = pointcloud_features[idx1:idx2].flatten()\n",
    "        \n",
    "        features_flat = numpy.concatenate((filtration_features_flat, pointcloud_features_flat), axis = 0)\n",
    "        features.append(features_flat)\n",
    "\n",
    "    return numpy.array(features)\n",
    "\n",
    "train_features = make_features(train_images, train_filtration_features, train_pointcloud_features)\n",
    "test_features = make_features(test_images, test_filtration_features, test_pointcloud_features)"
   ]
  },
  {
   "cell_type": "code",
   "execution_count": 77,
   "metadata": {},
   "outputs": [],
   "source": [
    "train_features = numpy.minimum(train_features, 1e9)\n",
    "test_features = numpy.minimum(test_features, 1e9)"
   ]
  },
  {
   "cell_type": "code",
   "execution_count": 42,
   "metadata": {},
   "outputs": [
    {
     "name": "stdout",
     "output_type": "stream",
     "text": [
      "0.9728\n"
     ]
    }
   ],
   "source": [
    "rf = sklearn.ensemble.RandomForestClassifier(n_jobs = -1, n_estimators = 100)\n",
    "rf.fit(train_features, train_labels)\n",
    "print(rf.score(test_features, test_labels))"
   ]
  },
  {
   "cell_type": "code",
   "execution_count": 49,
   "metadata": {},
   "outputs": [
    {
     "data": {
      "text/plain": [
       "<sklearn.metrics._plot.confusion_matrix.ConfusionMatrixDisplay at 0x2b5cf82d780>"
      ]
     },
     "execution_count": 49,
     "metadata": {},
     "output_type": "execute_result"
    },
    {
     "data": {
      "image/png": "[encoded data removed]",
      "text/plain": [
       "<Figure size 640x480 with 2 Axes>"
      ]
     },
     "metadata": {},
     "output_type": "display_data"
    }
   ],
   "source": [
    "predictions = rf.predict(test_features)\n",
    "sklearn.metrics.ConfusionMatrixDisplay.from_predictions(test_labels, predictions)"
   ]
  },
  {
   "cell_type": "code",
   "execution_count": 112,
   "metadata": {},
   "outputs": [
    {
     "name": "stdout",
     "output_type": "stream",
     "text": [
      "Explained variance 0.96\n",
      "[0.387, 0.14, 0.054, 0.045, 0.034, 0.026, 0.023, 0.018, 0.014, 0.011, 0.01, 0.01, 0.009, 0.008, 0.007, 0.007, 0.006, 0.006, 0.006, 0.005, 0.005, 0.005, 0.004, 0.004, 0.004, 0.004, 0.004, 0.003, 0.003, 0.003, 0.003, 0.003, 0.003, 0.003, 0.002, 0.002, 0.002, 0.002, 0.002, 0.002, 0.002, 0.002, 0.002, 0.002, 0.002, 0.002, 0.002, 0.001, 0.001, 0.001, 0.001, 0.001, 0.001, 0.001, 0.001, 0.001, 0.001, 0.001, 0.001, 0.001, 0.001, 0.001, 0.001, 0.001, 0.001, 0.001, 0.001, 0.001, 0.001, 0.001, 0.001, 0.001, 0.001, 0.001, 0.001, 0.001, 0.001, 0.001, 0.001, 0.001, 0.001, 0.001, 0.001, 0.001, 0.001, 0.001, 0.001, 0.001, 0.001, 0.001, 0.001, 0.001, 0.001, 0.001, 0.001, 0.001, 0.001, 0.001, 0.001, 0.001, 0.0, 0.0, 0.0, 0.0, 0.0, 0.0, 0.0, 0.0, 0.0, 0.0, 0.0, 0.0, 0.0, 0.0, 0.0, 0.0, 0.0, 0.0, 0.0, 0.0, 0.0, 0.0, 0.0, 0.0, 0.0, 0.0, 0.0, 0.0]\n"
     ]
    }
   ],
   "source": [
    "pca = sklearn.decomposition.PCA(n_components = 128, random_state = 42)\n",
    "train_features_reduced = pca.fit_transform(train_features_scaled)\n",
    "print('Explained variance', round(pca.explained_variance_ratio_.sum(), 2))\n",
    "print([ round(x, 3) for x in pca.explained_variance_ratio_ ])\n",
    "test_features_reduced = pca.transform(test_features_scaled)"
   ]
  },
  {
   "cell_type": "code",
   "execution_count": 114,
   "metadata": {},
   "outputs": [
    {
     "name": "stdout",
     "output_type": "stream",
     "text": [
      "0.9398\n"
     ]
    }
   ],
   "source": [
    "rf_reduced = sklearn.ensemble.RandomForestClassifier(n_jobs = -1, n_estimators = 1000)\n",
    "rf_reduced.fit(train_features_reduced, train_labels)\n",
    "print(rf_reduced.score(test_features_reduced, test_labels))"
   ]
  },
  {
   "cell_type": "code",
   "execution_count": 113,
   "metadata": {},
   "outputs": [
    {
     "name": "stdout",
     "output_type": "stream",
     "text": [
      "0.9401\n"
     ]
    }
   ],
   "source": [
    "rf = sklearn.neighbors.KNeighborsClassifier(n_jobs = -1, n_neighbors = 10)\n",
    "rf.fit(train_features_reduced, train_labels)\n",
    "print(rf.score(test_features_reduced, test_labels))"
   ]
  },
  {
   "cell_type": "code",
   "execution_count": 34,
   "metadata": {},
   "outputs": [],
   "source": [
    "umap_ = umap.UMAP(n_components = 8, n_jobs = -1)\n",
    "train_features_reduced = umap_.fit_transform(train_features)\n",
    "test_features_reduced = umap_.transform(test_features)"
   ]
  },
  {
   "cell_type": "code",
   "execution_count": 38,
   "metadata": {},
   "outputs": [
    {
     "name": "stdout",
     "output_type": "stream",
     "text": [
      "0.4565\n"
     ]
    }
   ],
   "source": [
    "rf_reduced = sklearn.ensemble.RandomForestClassifier(n_jobs = -1, n_estimators = 1000)\n",
    "rf_reduced.fit(train_features_reduced, train_labels)\n",
    "print(rf_reduced.score(test_features_reduced, test_labels))"
   ]
  },
  {
   "cell_type": "code",
   "execution_count": 41,
   "metadata": {},
   "outputs": [
    {
     "name": "stdout",
     "output_type": "stream",
     "text": [
      "0.4196\n"
     ]
    }
   ],
   "source": [
    "rf = sklearn.neighbors.KNeighborsClassifier(n_jobs = -1, n_neighbors = 1000)\n",
    "rf.fit(train_features_reduced, train_labels)\n",
    "print(rf.score(test_features_reduced, test_labels))"
   ]
  },
  {
   "cell_type": "code",
   "execution_count": 130,
   "metadata": {},
   "outputs": [
    {
     "name": "stdout",
     "output_type": "stream",
     "text": [
      "epoch 0: loss = 644.3302001953125, acc = 0.893\n",
      "epoch 1: loss = 394.3129577636719, acc = 0.9439\n",
      "epoch 2: loss = 262.9677429199219, acc = 0.9592\n",
      "epoch 3: loss = 171.90731811523438, acc = 0.9674\n",
      "epoch 4: loss = 107.68948364257812, acc = 0.9712\n",
      "epoch 5: loss = 105.65052032470703, acc = 0.9739\n",
      "epoch 6: loss = 81.82074737548828, acc = 0.9753\n",
      "epoch 7: loss = 83.57513427734375, acc = 0.9752\n",
      "epoch 8: loss = 74.81822204589844, acc = 0.9752\n",
      "epoch 9: loss = 48.3697624206543, acc = 0.9777\n",
      "epoch 10: loss = 53.89626693725586, acc = 0.978\n",
      "epoch 11: loss = 47.23657989501953, acc = 0.9786\n",
      "epoch 12: loss = 35.1957893371582, acc = 0.9785\n",
      "epoch 13: loss = 33.75276565551758, acc = 0.9787\n",
      "epoch 14: loss = 37.895999908447266, acc = 0.9794\n",
      "epoch 15: loss = 30.127429962158203, acc = 0.9788\n",
      "epoch 16: loss = 26.396818161010742, acc = 0.9783\n",
      "epoch 17: loss = 34.181922912597656, acc = 0.9794\n",
      "epoch 18: loss = 20.302532196044922, acc = 0.9795\n",
      "epoch 19: loss = 23.003026962280273, acc = 0.9794\n",
      "epoch 20: loss = 11.870380401611328, acc = 0.9798\n",
      "epoch 21: loss = 13.038039207458496, acc = 0.9797\n",
      "epoch 22: loss = 16.93635368347168, acc = 0.979\n",
      "epoch 23: loss = 16.383056640625, acc = 0.9791\n",
      "epoch 24: loss = 7.945080757141113, acc = 0.9791\n",
      "epoch 25: loss = 12.590604782104492, acc = 0.9784\n",
      "epoch 26: loss = 8.867904663085938, acc = 0.9785\n",
      "epoch 27: loss = 16.236875534057617, acc = 0.9771\n",
      "epoch 28: loss = 8.755373001098633, acc = 0.978\n",
      "epoch 29: loss = 7.918336391448975, acc = 0.9784\n",
      "epoch 30: loss = 5.70878791809082, acc = 0.9776\n",
      "epoch 31: loss = 10.961313247680664, acc = 0.9793\n",
      "epoch 32: loss = 9.215627670288086, acc = 0.979\n",
      "epoch 33: loss = 4.639386177062988, acc = 0.9783\n",
      "epoch 34: loss = 5.529493808746338, acc = 0.9791\n",
      "epoch 35: loss = 4.391667366027832, acc = 0.9783\n",
      "epoch 36: loss = 8.075444221496582, acc = 0.9771\n",
      "epoch 37: loss = 4.6112380027771, acc = 0.978\n",
      "epoch 38: loss = 4.332095623016357, acc = 0.978\n",
      "epoch 39: loss = 5.138790607452393, acc = 0.979\n",
      "epoch 40: loss = 3.896672248840332, acc = 0.9773\n",
      "epoch 41: loss = 4.027216911315918, acc = 0.9785\n",
      "epoch 42: loss = 4.963194847106934, acc = 0.9787\n",
      "epoch 43: loss = 4.752779006958008, acc = 0.9783\n",
      "epoch 44: loss = 4.974735736846924, acc = 0.9782\n",
      "epoch 45: loss = 2.4612553119659424, acc = 0.9776\n",
      "epoch 46: loss = 9.940810203552246, acc = 0.975\n",
      "epoch 47: loss = 3.1653835773468018, acc = 0.9774\n",
      "epoch 48: loss = 2.25307297706604, acc = 0.9761\n",
      "epoch 49: loss = 5.846395015716553, acc = 0.9774\n"
     ]
    }
   ],
   "source": [
    "import torch\n",
    "import random\n",
    "import sklearn.preprocessing\n",
    "\n",
    "RANDOM_STATE = 42\n",
    "def set_random_seed(seed):\n",
    "    random.seed(seed)\n",
    "    numpy.random.seed(seed)\n",
    "    torch.manual_seed(seed)\n",
    "    torch.cuda.manual_seed(seed)\n",
    "    torch.backends.cudnn.deterministic = True\n",
    "set_random_seed(RANDOM_STATE)\n",
    "\n",
    "device = torch.device(\"cuda\")\n",
    "\n",
    "# sc = sklearn.preprocessing.StandardScaler()\n",
    "# train_features_scaled = sc.fit_transform(train_features)\n",
    "# test_features_scaled = sc.fit_transform(test_features)\n",
    "\n",
    "train_ds = torch.utils.data.TensorDataset(\n",
    "    torch.tensor(train_features_reduced, dtype = torch.float),\n",
    "    torch.tensor(train_labels, dtype = torch.long)\n",
    ")\n",
    "\n",
    "test_ds = torch.utils.data.TensorDataset(\n",
    "    torch.tensor(test_features_reduced, dtype = torch.float),\n",
    "    torch.tensor(test_labels, dtype = torch.long)\n",
    ")\n",
    "\n",
    "train_dl = torch.utils.data.DataLoader(train_ds, batch_size = 1024, shuffle = True)\n",
    "test_dl = torch.utils.data.DataLoader(test_ds, batch_size = 1024, shuffle = False)\n",
    "\n",
    "model = torch.nn.Sequential(\n",
    "    torch.nn.Linear(train_features_reduced.shape[1], 128), torch.nn.BatchNorm1d(128), torch.nn.GELU(),\n",
    "    torch.nn.Linear(128, 64), torch.nn.BatchNorm1d(64), torch.nn.GELU(),\n",
    "    torch.nn.Linear(64, 32), torch.nn.BatchNorm1d(32), torch.nn.GELU(),\n",
    "    torch.nn.Linear(32, 10)\n",
    ").to(device)\n",
    "\n",
    "optimizer = torch.optim.AdamW(\n",
    "    params = model.parameters(),\n",
    "    lr = 5e-4\n",
    ")\n",
    "\n",
    "for epoch in range(50):\n",
    "    model.train()\n",
    "    for (X, y) in train_dl:\n",
    "        optimizer.zero_grad()\n",
    "        pred = model(X.to(device))\n",
    "        loss = torch.nn.functional.cross_entropy(pred, y.to(device), reduction = 'sum')\n",
    "        loss.backward()\n",
    "        optimizer.step()\n",
    "\n",
    "    with torch.no_grad():\n",
    "        model.eval()\n",
    "        preds = [ ]\n",
    "        Y = [ ]\n",
    "        for batch_x, batch_y in test_dl:\n",
    "            preds.extend(torch.argmax(model(batch_x.to(device)), axis = 1).cpu())\n",
    "            Y.extend(batch_y)\n",
    "        accuracy = sklearn.metrics.accuracy_score(Y, preds)\n",
    "\n",
    "    print(f\"epoch {epoch}: loss = {loss.item()}, acc = {accuracy}\")"
   ]
  },
  {
   "cell_type": "code",
   "execution_count": 131,
   "metadata": {},
   "outputs": [
    {
     "data": {
      "text/plain": [
       "<sklearn.metrics._plot.confusion_matrix.ConfusionMatrixDisplay at 0x2280a1f5930>"
      ]
     },
     "execution_count": 131,
     "metadata": {},
     "output_type": "execute_result"
    },
    {
     "data": {
      "image/png": "[encoded data removed]",
      "text/plain": [
       "<Figure size 640x480 with 2 Axes>"
      ]
     },
     "metadata": {},
     "output_type": "display_data"
    }
   ],
   "source": [
    "sklearn.metrics.ConfusionMatrixDisplay.from_predictions(test_labels, numpy.array(preds))"
   ]
  },
  {
   "cell_type": "code",
   "execution_count": 90,
   "metadata": {},
   "outputs": [
    {
     "name": "stdout",
     "output_type": "stream",
     "text": [
      "0.9448\n"
     ]
    }
   ],
   "source": [
    "rf = sklearn.neighbors.KNeighborsClassifier(n_jobs = -1, n_neighbors = 1)\n",
    "rf.fit(train_features_scaled, train_labels)\n",
    "print(rf.score(test_features_scaled, test_labels))"
   ]
  },
  {
   "cell_type": "code",
   "execution_count": 16,
   "metadata": {},
   "outputs": [],
   "source": [
    "def calculate_images(diagrams: numpy.ndarray, N: int = 49000):\n",
    "    images = [ ]\n",
    "    for i in range(0, len(diagrams), N):\n",
    "        print(f'Calculating {i} - {i + N}')\n",
    "        hk = gtda.diagrams.PersistenceImage(sigma = 1.6, n_jobs = -1)\n",
    "        images.append(\n",
    "            hk.fit_transform(diagrams[i:i + N])\n",
    "        )\n",
    "    return numpy.concatenate(images, axis = 0)"
   ]
  },
  {
   "cell_type": "code",
   "execution_count": 22,
   "metadata": {},
   "outputs": [
    {
     "data": {
      "text/plain": [
       "(49000, 2, 100, 100)"
      ]
     },
     "execution_count": 22,
     "metadata": {},
     "output_type": "execute_result"
    }
   ],
   "source": [
    "# train_filtration_pis = calculate_images(train_filtration_diagrams[:49000])\n",
    "# numpy.save(\"4__train_filtration_pis.npy\", train_filtration_pis)\n",
    "\n",
    "train_filtration_pis = numpy.load(\"4__train_filtration_pis.npy\")\n",
    "train_filtration_pis.shape"
   ]
  },
  {
   "cell_type": "code",
   "execution_count": 24,
   "metadata": {},
   "outputs": [
    {
     "name": "stdout",
     "output_type": "stream",
     "text": [
      "Calculating 0 - 49000\n"
     ]
    },
    {
     "data": {
      "text/plain": [
       "(4900, 2, 100, 100)"
      ]
     },
     "execution_count": 24,
     "metadata": {},
     "output_type": "execute_result"
    }
   ],
   "source": [
    "test_filtration_pis = calculate_images(test_filtration_diagrams[:4900])\n",
    "numpy.save(\"4__test_filtration_pis.npy\", test_filtration_pis)\n",
    "\n",
    "test_filtration_pis = numpy.load(\"4__test_filtration_pis.npy\")\n",
    "test_filtration_pis.shape"
   ]
  },
  {
   "cell_type": "code",
   "execution_count": 31,
   "metadata": {},
   "outputs": [
    {
     "name": "stderr",
     "output_type": "stream",
     "text": [
      "combine images: 100%|██████████| 1000/1000 [00:03<00:00, 269.19it/s]\n",
      "combine images: 100%|██████████| 100/100 [00:00<00:00, 260.12it/s]\n"
     ]
    }
   ],
   "source": [
    "def make_images(filtration_pis: numpy.ndarray):\n",
    "    images = [ ]\n",
    "    for img_idx in tqdm.trange(len(filtration_pis) // 49, desc = 'combine images'):\n",
    "        idx1 = 49 * img_idx\n",
    "        idx2 = 49 * (img_idx + 1)\n",
    "        images.append(numpy.concatenate(filtration_pis[idx1:idx2], axis = 0))\n",
    "\n",
    "    return numpy.array(images)\n",
    "\n",
    "train_images = make_images(train_filtration_pis)\n",
    "test_images = make_images(test_filtration_pis)"
   ]
  },
  {
   "cell_type": "code",
   "execution_count": 60,
   "metadata": {},
   "outputs": [
    {
     "name": "stdout",
     "output_type": "stream",
     "text": [
      "epoch 0: loss = 15.74434757232666, acc = 0.14\n",
      "epoch 1: loss = 10.03386116027832, acc = 0.21\n",
      "epoch 2: loss = 8.581578254699707, acc = 0.17\n",
      "epoch 3: loss = 10.991872787475586, acc = 0.2\n",
      "epoch 4: loss = 6.203951835632324, acc = 0.21\n",
      "epoch 5: loss = 1.505049228668213, acc = 0.17\n",
      "epoch 6: loss = 0.8678723573684692, acc = 0.21\n",
      "epoch 7: loss = 0.9153925180435181, acc = 0.22\n",
      "epoch 8: loss = 1.1510440111160278, acc = 0.2\n",
      "epoch 9: loss = 2.201138734817505, acc = 0.23\n",
      "epoch 10: loss = 1.2548195123672485, acc = 0.19\n",
      "epoch 11: loss = 1.3541066646575928, acc = 0.21\n",
      "epoch 12: loss = 0.372041791677475, acc = 0.22\n",
      "epoch 13: loss = 0.13058283925056458, acc = 0.18\n",
      "epoch 14: loss = 0.15174895524978638, acc = 0.19\n",
      "epoch 15: loss = 1.630298376083374, acc = 0.15\n",
      "epoch 16: loss = 0.19768336415290833, acc = 0.2\n",
      "epoch 17: loss = 2.128767728805542, acc = 0.19\n"
     ]
    },
    {
     "ename": "KeyboardInterrupt",
     "evalue": "",
     "output_type": "error",
     "traceback": [
      "\u001b[1;31m---------------------------------------------------------------------------\u001b[0m",
      "\u001b[1;31mKeyboardInterrupt\u001b[0m                         Traceback (most recent call last)",
      "Cell \u001b[1;32mIn[60], line 46\u001b[0m\n\u001b[0;32m     44\u001b[0m \u001b[38;5;28;01mfor\u001b[39;00m (X, y) \u001b[38;5;129;01min\u001b[39;00m train_dl:\n\u001b[0;32m     45\u001b[0m     optimizer\u001b[38;5;241m.\u001b[39mzero_grad()\n\u001b[1;32m---> 46\u001b[0m     pred \u001b[38;5;241m=\u001b[39m \u001b[43mmodel\u001b[49m\u001b[43m(\u001b[49m\u001b[43mX\u001b[49m\u001b[38;5;241;43m.\u001b[39;49m\u001b[43mto\u001b[49m\u001b[43m(\u001b[49m\u001b[43mdevice\u001b[49m\u001b[43m)\u001b[49m\u001b[43m)\u001b[49m\n\u001b[0;32m     47\u001b[0m     loss \u001b[38;5;241m=\u001b[39m torch\u001b[38;5;241m.\u001b[39mnn\u001b[38;5;241m.\u001b[39mfunctional\u001b[38;5;241m.\u001b[39mcross_entropy(pred, y\u001b[38;5;241m.\u001b[39mto(device), reduction \u001b[38;5;241m=\u001b[39m \u001b[38;5;124m'\u001b[39m\u001b[38;5;124msum\u001b[39m\u001b[38;5;124m'\u001b[39m)\n\u001b[0;32m     48\u001b[0m     loss\u001b[38;5;241m.\u001b[39mbackward()\n",
      "File \u001b[1;32m~\\AppData\\Roaming\\Python\\Python310\\site-packages\\torch\\nn\\modules\\module.py:1736\u001b[0m, in \u001b[0;36mModule._wrapped_call_impl\u001b[1;34m(self, *args, **kwargs)\u001b[0m\n\u001b[0;32m   1734\u001b[0m     \u001b[38;5;28;01mreturn\u001b[39;00m \u001b[38;5;28mself\u001b[39m\u001b[38;5;241m.\u001b[39m_compiled_call_impl(\u001b[38;5;241m*\u001b[39margs, \u001b[38;5;241m*\u001b[39m\u001b[38;5;241m*\u001b[39mkwargs)  \u001b[38;5;66;03m# type: ignore[misc]\u001b[39;00m\n\u001b[0;32m   1735\u001b[0m \u001b[38;5;28;01melse\u001b[39;00m:\n\u001b[1;32m-> 1736\u001b[0m     \u001b[38;5;28;01mreturn\u001b[39;00m \u001b[38;5;28mself\u001b[39m\u001b[38;5;241m.\u001b[39m_call_impl(\u001b[38;5;241m*\u001b[39margs, \u001b[38;5;241m*\u001b[39m\u001b[38;5;241m*\u001b[39mkwargs)\n",
      "File \u001b[1;32m~\\AppData\\Roaming\\Python\\Python310\\site-packages\\torch\\nn\\modules\\module.py:1747\u001b[0m, in \u001b[0;36mModule._call_impl\u001b[1;34m(self, *args, **kwargs)\u001b[0m\n\u001b[0;32m   1742\u001b[0m \u001b[38;5;66;03m# If we don't have any hooks, we want to skip the rest of the logic in\u001b[39;00m\n\u001b[0;32m   1743\u001b[0m \u001b[38;5;66;03m# this function, and just call forward.\u001b[39;00m\n\u001b[0;32m   1744\u001b[0m \u001b[38;5;28;01mif\u001b[39;00m \u001b[38;5;129;01mnot\u001b[39;00m (\u001b[38;5;28mself\u001b[39m\u001b[38;5;241m.\u001b[39m_backward_hooks \u001b[38;5;129;01mor\u001b[39;00m \u001b[38;5;28mself\u001b[39m\u001b[38;5;241m.\u001b[39m_backward_pre_hooks \u001b[38;5;129;01mor\u001b[39;00m \u001b[38;5;28mself\u001b[39m\u001b[38;5;241m.\u001b[39m_forward_hooks \u001b[38;5;129;01mor\u001b[39;00m \u001b[38;5;28mself\u001b[39m\u001b[38;5;241m.\u001b[39m_forward_pre_hooks\n\u001b[0;32m   1745\u001b[0m         \u001b[38;5;129;01mor\u001b[39;00m _global_backward_pre_hooks \u001b[38;5;129;01mor\u001b[39;00m _global_backward_hooks\n\u001b[0;32m   1746\u001b[0m         \u001b[38;5;129;01mor\u001b[39;00m _global_forward_hooks \u001b[38;5;129;01mor\u001b[39;00m _global_forward_pre_hooks):\n\u001b[1;32m-> 1747\u001b[0m     \u001b[38;5;28;01mreturn\u001b[39;00m forward_call(\u001b[38;5;241m*\u001b[39margs, \u001b[38;5;241m*\u001b[39m\u001b[38;5;241m*\u001b[39mkwargs)\n\u001b[0;32m   1749\u001b[0m result \u001b[38;5;241m=\u001b[39m \u001b[38;5;28;01mNone\u001b[39;00m\n\u001b[0;32m   1750\u001b[0m called_always_called_hooks \u001b[38;5;241m=\u001b[39m \u001b[38;5;28mset\u001b[39m()\n",
      "File \u001b[1;32m~\\AppData\\Roaming\\Python\\Python310\\site-packages\\torch\\nn\\modules\\container.py:250\u001b[0m, in \u001b[0;36mSequential.forward\u001b[1;34m(self, input)\u001b[0m\n\u001b[0;32m    248\u001b[0m \u001b[38;5;28;01mdef\u001b[39;00m \u001b[38;5;21mforward\u001b[39m(\u001b[38;5;28mself\u001b[39m, \u001b[38;5;28minput\u001b[39m):\n\u001b[0;32m    249\u001b[0m     \u001b[38;5;28;01mfor\u001b[39;00m module \u001b[38;5;129;01min\u001b[39;00m \u001b[38;5;28mself\u001b[39m:\n\u001b[1;32m--> 250\u001b[0m         \u001b[38;5;28minput\u001b[39m \u001b[38;5;241m=\u001b[39m \u001b[43mmodule\u001b[49m\u001b[43m(\u001b[49m\u001b[38;5;28;43minput\u001b[39;49m\u001b[43m)\u001b[49m\n\u001b[0;32m    251\u001b[0m     \u001b[38;5;28;01mreturn\u001b[39;00m \u001b[38;5;28minput\u001b[39m\n",
      "File \u001b[1;32m~\\AppData\\Roaming\\Python\\Python310\\site-packages\\torch\\nn\\modules\\module.py:1736\u001b[0m, in \u001b[0;36mModule._wrapped_call_impl\u001b[1;34m(self, *args, **kwargs)\u001b[0m\n\u001b[0;32m   1734\u001b[0m     \u001b[38;5;28;01mreturn\u001b[39;00m \u001b[38;5;28mself\u001b[39m\u001b[38;5;241m.\u001b[39m_compiled_call_impl(\u001b[38;5;241m*\u001b[39margs, \u001b[38;5;241m*\u001b[39m\u001b[38;5;241m*\u001b[39mkwargs)  \u001b[38;5;66;03m# type: ignore[misc]\u001b[39;00m\n\u001b[0;32m   1735\u001b[0m \u001b[38;5;28;01melse\u001b[39;00m:\n\u001b[1;32m-> 1736\u001b[0m     \u001b[38;5;28;01mreturn\u001b[39;00m \u001b[38;5;28mself\u001b[39m\u001b[38;5;241m.\u001b[39m_call_impl(\u001b[38;5;241m*\u001b[39margs, \u001b[38;5;241m*\u001b[39m\u001b[38;5;241m*\u001b[39mkwargs)\n",
      "File \u001b[1;32m~\\AppData\\Roaming\\Python\\Python310\\site-packages\\torch\\nn\\modules\\module.py:1747\u001b[0m, in \u001b[0;36mModule._call_impl\u001b[1;34m(self, *args, **kwargs)\u001b[0m\n\u001b[0;32m   1742\u001b[0m \u001b[38;5;66;03m# If we don't have any hooks, we want to skip the rest of the logic in\u001b[39;00m\n\u001b[0;32m   1743\u001b[0m \u001b[38;5;66;03m# this function, and just call forward.\u001b[39;00m\n\u001b[0;32m   1744\u001b[0m \u001b[38;5;28;01mif\u001b[39;00m \u001b[38;5;129;01mnot\u001b[39;00m (\u001b[38;5;28mself\u001b[39m\u001b[38;5;241m.\u001b[39m_backward_hooks \u001b[38;5;129;01mor\u001b[39;00m \u001b[38;5;28mself\u001b[39m\u001b[38;5;241m.\u001b[39m_backward_pre_hooks \u001b[38;5;129;01mor\u001b[39;00m \u001b[38;5;28mself\u001b[39m\u001b[38;5;241m.\u001b[39m_forward_hooks \u001b[38;5;129;01mor\u001b[39;00m \u001b[38;5;28mself\u001b[39m\u001b[38;5;241m.\u001b[39m_forward_pre_hooks\n\u001b[0;32m   1745\u001b[0m         \u001b[38;5;129;01mor\u001b[39;00m _global_backward_pre_hooks \u001b[38;5;129;01mor\u001b[39;00m _global_backward_hooks\n\u001b[0;32m   1746\u001b[0m         \u001b[38;5;129;01mor\u001b[39;00m _global_forward_hooks \u001b[38;5;129;01mor\u001b[39;00m _global_forward_pre_hooks):\n\u001b[1;32m-> 1747\u001b[0m     \u001b[38;5;28;01mreturn\u001b[39;00m forward_call(\u001b[38;5;241m*\u001b[39margs, \u001b[38;5;241m*\u001b[39m\u001b[38;5;241m*\u001b[39mkwargs)\n\u001b[0;32m   1749\u001b[0m result \u001b[38;5;241m=\u001b[39m \u001b[38;5;28;01mNone\u001b[39;00m\n\u001b[0;32m   1750\u001b[0m called_always_called_hooks \u001b[38;5;241m=\u001b[39m \u001b[38;5;28mset\u001b[39m()\n",
      "File \u001b[1;32m~\\AppData\\Roaming\\Python\\Python310\\site-packages\\torch\\nn\\modules\\conv.py:554\u001b[0m, in \u001b[0;36mConv2d.forward\u001b[1;34m(self, input)\u001b[0m\n\u001b[0;32m    553\u001b[0m \u001b[38;5;28;01mdef\u001b[39;00m \u001b[38;5;21mforward\u001b[39m(\u001b[38;5;28mself\u001b[39m, \u001b[38;5;28minput\u001b[39m: Tensor) \u001b[38;5;241m-\u001b[39m\u001b[38;5;241m>\u001b[39m Tensor:\n\u001b[1;32m--> 554\u001b[0m     \u001b[38;5;28;01mreturn\u001b[39;00m \u001b[38;5;28;43mself\u001b[39;49m\u001b[38;5;241;43m.\u001b[39;49m\u001b[43m_conv_forward\u001b[49m\u001b[43m(\u001b[49m\u001b[38;5;28;43minput\u001b[39;49m\u001b[43m,\u001b[49m\u001b[43m \u001b[49m\u001b[38;5;28;43mself\u001b[39;49m\u001b[38;5;241;43m.\u001b[39;49m\u001b[43mweight\u001b[49m\u001b[43m,\u001b[49m\u001b[43m \u001b[49m\u001b[38;5;28;43mself\u001b[39;49m\u001b[38;5;241;43m.\u001b[39;49m\u001b[43mbias\u001b[49m\u001b[43m)\u001b[49m\n",
      "File \u001b[1;32m~\\AppData\\Roaming\\Python\\Python310\\site-packages\\torch\\nn\\modules\\conv.py:549\u001b[0m, in \u001b[0;36mConv2d._conv_forward\u001b[1;34m(self, input, weight, bias)\u001b[0m\n\u001b[0;32m    537\u001b[0m \u001b[38;5;28;01mif\u001b[39;00m \u001b[38;5;28mself\u001b[39m\u001b[38;5;241m.\u001b[39mpadding_mode \u001b[38;5;241m!=\u001b[39m \u001b[38;5;124m\"\u001b[39m\u001b[38;5;124mzeros\u001b[39m\u001b[38;5;124m\"\u001b[39m:\n\u001b[0;32m    538\u001b[0m     \u001b[38;5;28;01mreturn\u001b[39;00m F\u001b[38;5;241m.\u001b[39mconv2d(\n\u001b[0;32m    539\u001b[0m         F\u001b[38;5;241m.\u001b[39mpad(\n\u001b[0;32m    540\u001b[0m             \u001b[38;5;28minput\u001b[39m, \u001b[38;5;28mself\u001b[39m\u001b[38;5;241m.\u001b[39m_reversed_padding_repeated_twice, mode\u001b[38;5;241m=\u001b[39m\u001b[38;5;28mself\u001b[39m\u001b[38;5;241m.\u001b[39mpadding_mode\n\u001b[1;32m   (...)\u001b[0m\n\u001b[0;32m    547\u001b[0m         \u001b[38;5;28mself\u001b[39m\u001b[38;5;241m.\u001b[39mgroups,\n\u001b[0;32m    548\u001b[0m     )\n\u001b[1;32m--> 549\u001b[0m \u001b[38;5;28;01mreturn\u001b[39;00m \u001b[43mF\u001b[49m\u001b[38;5;241;43m.\u001b[39;49m\u001b[43mconv2d\u001b[49m\u001b[43m(\u001b[49m\n\u001b[0;32m    550\u001b[0m \u001b[43m    \u001b[49m\u001b[38;5;28;43minput\u001b[39;49m\u001b[43m,\u001b[49m\u001b[43m \u001b[49m\u001b[43mweight\u001b[49m\u001b[43m,\u001b[49m\u001b[43m \u001b[49m\u001b[43mbias\u001b[49m\u001b[43m,\u001b[49m\u001b[43m \u001b[49m\u001b[38;5;28;43mself\u001b[39;49m\u001b[38;5;241;43m.\u001b[39;49m\u001b[43mstride\u001b[49m\u001b[43m,\u001b[49m\u001b[43m \u001b[49m\u001b[38;5;28;43mself\u001b[39;49m\u001b[38;5;241;43m.\u001b[39;49m\u001b[43mpadding\u001b[49m\u001b[43m,\u001b[49m\u001b[43m \u001b[49m\u001b[38;5;28;43mself\u001b[39;49m\u001b[38;5;241;43m.\u001b[39;49m\u001b[43mdilation\u001b[49m\u001b[43m,\u001b[49m\u001b[43m \u001b[49m\u001b[38;5;28;43mself\u001b[39;49m\u001b[38;5;241;43m.\u001b[39;49m\u001b[43mgroups\u001b[49m\n\u001b[0;32m    551\u001b[0m \u001b[43m\u001b[49m\u001b[43m)\u001b[49m\n",
      "\u001b[1;31mKeyboardInterrupt\u001b[0m: "
     ]
    }
   ],
   "source": [
    "import torch\n",
    "import random\n",
    "\n",
    "RANDOM_STATE = 42\n",
    "def set_random_seed(seed):\n",
    "    random.seed(seed)\n",
    "    numpy.random.seed(seed)\n",
    "    torch.manual_seed(seed)\n",
    "    torch.cuda.manual_seed(seed)\n",
    "    torch.backends.cudnn.deterministic = True\n",
    "set_random_seed(RANDOM_STATE)\n",
    "\n",
    "device = torch.device(\"cuda\")\n",
    "\n",
    "train_ds = torch.utils.data.TensorDataset(\n",
    "    torch.tensor(train_images, dtype = torch.float),\n",
    "    torch.tensor(train_labels[:1000], dtype = torch.long)\n",
    ")\n",
    "\n",
    "test_ds = torch.utils.data.TensorDataset(\n",
    "    torch.tensor(test_images, dtype = torch.float),\n",
    "    torch.tensor(test_labels[:100], dtype = torch.long)\n",
    ")\n",
    "\n",
    "train_dl = torch.utils.data.DataLoader(train_ds, batch_size = 16, shuffle = True)\n",
    "test_dl = torch.utils.data.DataLoader(test_ds, batch_size = 16, shuffle = False)\n",
    "\n",
    "model = torch.nn.Sequential(\n",
    "    torch.nn.Conv2d(98, 98, kernel_size = 7), torch.nn.BatchNorm2d(98), torch.nn.GELU(), torch.nn.MaxPool2d(3, 3),\n",
    "    torch.nn.Conv2d(98, 196, kernel_size = 5), torch.nn.BatchNorm2d(196), torch.nn.GELU(), torch.nn.MaxPool2d(2, 2),\n",
    "    torch.nn.Conv2d(196, 394, kernel_size = 3, dilation = 2), torch.nn.BatchNorm2d(394), torch.nn.GELU(), torch.nn.MaxPool2d(2, 2),\n",
    "\n",
    "    torch.nn.Flatten(), torch.nn.LazyLinear(1024), torch.nn.BatchNorm1d(1024), torch.nn.GELU(),\n",
    "    torch.nn.Linear(1024, 200)\n",
    ").to(device)\n",
    "\n",
    "optimizer = torch.optim.AdamW(\n",
    "    params = model.parameters(),\n",
    "    lr = 1e-4\n",
    ")\n",
    "\n",
    "for epoch in range(63):\n",
    "    model.train()\n",
    "    for (X, y) in train_dl:\n",
    "        optimizer.zero_grad()\n",
    "        pred = model(X.to(device))\n",
    "        loss = torch.nn.functional.cross_entropy(pred, y.to(device), reduction = 'sum')\n",
    "        loss.backward()\n",
    "        optimizer.step()\n",
    "\n",
    "    with torch.no_grad():\n",
    "        model.eval()\n",
    "        preds = [ ]\n",
    "        Y = [ ]\n",
    "        for batch_x, batch_y in test_dl:\n",
    "            preds.extend(torch.argmax(model(batch_x.to(device)), axis = 1).cpu())\n",
    "            Y.extend(batch_y)\n",
    "        accuracy = sklearn.metrics.accuracy_score(Y, preds)\n",
    "\n",
    "    print(f\"epoch {epoch}: loss = {loss.item()}, acc = {accuracy}\")"
   ]
  }
 ],
 "metadata": {
  "kernelspec": {
   "display_name": "Python 3",
   "language": "python",
   "name": "python3"
  },
  "language_info": {
   "codemirror_mode": {
    "name": "ipython",
    "version": 3
   },
   "file_extension": ".py",
   "mimetype": "text/x-python",
   "name": "python",
   "nbconvert_exporter": "python",
   "pygments_lexer": "ipython3",
   "version": "3.10.11"
  }
 },
 "nbformat": 4,
 "nbformat_minor": 2
}
