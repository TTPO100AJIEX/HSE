{
 "cells": [
  {
   "cell_type": "code",
   "execution_count": 3,
   "metadata": {},
   "outputs": [
    {
     "name": "stdout",
     "output_type": "stream",
     "text": [
      "The autoreload extension is already loaded. To reload it, use:\n",
      "  %reload_ext autoreload\n"
     ]
    }
   ],
   "source": [
    "%load_ext autoreload\n",
    "%autoreload 2\n",
    "\n",
    "import os\n",
    "import sys\n",
    "sys.path.append(os.path.dirname(os.path.abspath(os.path.join('../'))))\n",
    "\n",
    "import tqdm\n",
    "import numpy\n",
    "import torch\n",
    "import wandb\n",
    "import pandas\n",
    "import joblib\n",
    "import itertools\n",
    "import torchvision\n",
    "import gtda.images\n",
    "import gtda.diagrams\n",
    "import gtda.homology\n",
    "import sklearn.pipeline\n",
    "import sklearn.ensemble\n",
    "import sklearn.metrics\n",
    "import tqdm.contrib.itertools\n",
    "import sklearn.decomposition\n",
    "\n",
    "import lib.topology"
   ]
  },
  {
   "cell_type": "code",
   "execution_count": 4,
   "metadata": {},
   "outputs": [],
   "source": [
    "BINARIZATION_THESHOLD = 0.4\n",
    "\n",
    "height_filtration_directions = [\n",
    "    [ -1, -1 ], [ 1, 1 ], [ 1, -1 ], [ -1, 1 ],\n",
    "    [ 0, -1 ], [ 0, 1 ], [ -1, 0 ], [ 1, 0 ]\n",
    "]\n",
    "\n",
    "\n",
    "radial_filtration_centers = list(itertools.product([ 7, 14, 21 ], [ 7, 14, 21 ]))\n",
    "radial_filtration_metrics = [ \"euclidean\", \"manhattan\", \"cosine\" ]\n",
    "\n",
    "density_filtration_metrics = [ \"euclidean\" , \"manhattan\", \"cosine\" ]\n",
    "density_filtration_radiuses = [ 1, 5, 15 ]\n",
    "\n",
    "FILTRATIONS = [\n",
    "    *[ [ gtda.images.HeightFiltration, { 'direction': numpy.array(direction), 'n_jobs': -1 } ] for direction in height_filtration_directions ],\n",
    "    *[\n",
    "        [ gtda.images.RadialFiltration, { 'center': numpy.array(center), 'metric': metric, 'n_jobs': -1 } ]\n",
    "        for center in radial_filtration_centers\n",
    "        for metric in radial_filtration_metrics\n",
    "    ],\n",
    "    [ gtda.images.DilationFiltration, { 'n_jobs': -1 } ],\n",
    "    [ gtda.images.ErosionFiltration, { 'n_jobs': -1 } ],\n",
    "    [ gtda.images.SignedDistanceFiltration, { 'n_jobs': -1 } ],\n",
    "    *[\n",
    "        [ gtda.images.DensityFiltration, { 'radius': radius, 'metric': metric, 'n_jobs': -1 } ]\n",
    "        for metric in density_filtration_metrics\n",
    "        for radius in density_filtration_radiuses\n",
    "    ]\n",
    "]"
   ]
  },
  {
   "cell_type": "code",
   "execution_count": 5,
   "metadata": {},
   "outputs": [],
   "source": [
    "train = torchvision.datasets.MNIST('mnist', train = True, download = True)\n",
    "test = torchvision.datasets.MNIST('mnist', train = False, download = True)\n",
    "\n",
    "train_images = numpy.array([ item[0] for item in train ])\n",
    "train_labels = numpy.array([ item[1] for item in train ])\n",
    "\n",
    "test_images = numpy.array([ item[0] for item in test ])\n",
    "test_labels = numpy.array([ item[1] for item in test ])"
   ]
  },
  {
   "cell_type": "code",
   "execution_count": 6,
   "metadata": {},
   "outputs": [],
   "source": [
    "def make_filtrations(images: numpy.ndarray):\n",
    "    images_bin = gtda.images.Binarizer(threshold = BINARIZATION_THESHOLD).fit_transform(images)\n",
    "    filtrations = [\n",
    "        filtration[0](**filtration[1]).fit_transform(images_bin)\n",
    "        for filtration in tqdm.tqdm(FILTRATIONS, desc = 'filtrations')\n",
    "    ]\n",
    "    return [ images, images_bin ] + filtrations\n",
    "\n",
    "\n",
    "def make_point_clouds(images: numpy.ndarray):\n",
    "    def make_point_cloud(image, threshold):\n",
    "        point_cloud = [ ]\n",
    "        for i in range(image.shape[0]):\n",
    "            for j in range(image.shape[1]):\n",
    "                if image[i][j] < threshold:\n",
    "                    continue\n",
    "                point_cloud.append([ i, j, image[i][j] ])\n",
    "        return numpy.array(point_cloud)\n",
    "\n",
    "    def _make_point_clouds(imgs, threshold):\n",
    "        imgs = numpy.swapaxes(numpy.flip(imgs, axis = 1), 1, 2)\n",
    "        return [ make_point_cloud(image, threshold) for image in tqdm.tqdm(imgs, desc = 'point_clouds') ]\n",
    "\n",
    "    images_bin = gtda.images.Binarizer(threshold = BINARIZATION_THESHOLD).fit_transform(images)\n",
    "    point_cloud = gtda.images.ImageToPointCloud().fit_transform(images_bin)\n",
    "    return [ point_cloud, _make_point_clouds(images, 50) ]"
   ]
  },
  {
   "cell_type": "code",
   "execution_count": 7,
   "metadata": {},
   "outputs": [],
   "source": [
    "def make_filtration_diagrams(images: numpy.ndarray):\n",
    "    filtrations = make_filtrations(images)\n",
    "    all_filtrations = [ ]\n",
    "    for diagrams in zip(*filtrations):\n",
    "        all_filtrations.extend(diagrams)\n",
    "\n",
    "    print('Making filtration diagrams')\n",
    "    persistence = gtda.homology.CubicalPersistence(homology_dimensions = [ 0, 1 ], n_jobs = -1)\n",
    "    return persistence.fit_transform(all_filtrations)\n",
    "\n",
    "def make_point_cloud_diagrams(images: numpy.ndarray):\n",
    "    point_clouds = make_point_clouds(images)\n",
    "    all_point_clouds = [ ]\n",
    "    for diagrams in zip(*point_clouds):\n",
    "        all_point_clouds.extend(diagrams)\n",
    "        \n",
    "    print('Making point cloud diagrams')\n",
    "    persistence = gtda.homology.VietorisRipsPersistence(homology_dimensions = [ 0, 1, 2 ], n_jobs = -1)\n",
    "    return persistence.fit_transform(all_point_clouds)"
   ]
  },
  {
   "cell_type": "code",
   "execution_count": 8,
   "metadata": {},
   "outputs": [],
   "source": [
    "def make_filtration_features(images: numpy.ndarray):\n",
    "    feature_calculator = lib.topology.FeatureCalculator(n_jobs = -1, verbose = True)\n",
    "    return feature_calculator.calc_features(make_filtration_diagrams(images), prefix = 'filtration')\n",
    "\n",
    "def make_point_cloud_features(images: numpy.ndarray):\n",
    "    feature_calculator = lib.topology.FeatureCalculator(n_jobs = -1, verbose = True)\n",
    "    return feature_calculator.calc_features(make_point_cloud_diagrams(images), prefix = 'point_cloud')\n",
    "\n",
    "def make_features(images: numpy.ndarray):\n",
    "    filtration_features = make_filtration_features(images)\n",
    "    point_cloud_features = make_point_cloud_features(images)\n",
    "\n",
    "    filtrations_per_image = len(filtration_features) // len(images)\n",
    "    point_clouds_per_image = len(point_cloud_features) // len(images)\n",
    "    \n",
    "    features = [ ]\n",
    "    for img_idx in tqdm.trange(len(images), desc = 'combine features'):\n",
    "        idx1 = filtrations_per_image * img_idx\n",
    "        idx2 = filtrations_per_image * (img_idx + 1)\n",
    "        filtration_features_flat = filtration_features[idx1:idx2].to_numpy().flatten()\n",
    "        \n",
    "        idx1 = point_clouds_per_image * img_idx\n",
    "        idx2 = point_clouds_per_image * (img_idx + 1)\n",
    "        point_cloud_features_flat = point_cloud_features[idx1:idx2].to_numpy().flatten()\n",
    "        \n",
    "        features_flat = numpy.concatenate((filtration_features_flat, point_cloud_features_flat), axis = 0)\n",
    "        features.append(features_flat)\n",
    "\n",
    "    return numpy.array(features)"
   ]
  },
  {
   "cell_type": "code",
   "execution_count": 7,
   "metadata": {},
   "outputs": [
    {
     "name": "stdout",
     "output_type": "stream",
     "text": [
      "Calculating 0 - 4000\n"
     ]
    },
    {
     "name": "stderr",
     "output_type": "stream",
     "text": [
      "filtrations: 100%|██████████| 47/47 [00:15<00:00,  3.00it/s]\n"
     ]
    },
    {
     "name": "stdout",
     "output_type": "stream",
     "text": [
      "Making filtration diagrams\n",
      "Filtered diagrams: (196000, 71, 3)\n",
      "Calculating Betti features\n"
     ]
    },
    {
     "name": "stderr",
     "output_type": "stream",
     "text": [
      "filtration betti: 100%|██████████| 196000/196000 [01:04<00:00, 3059.93it/s]\n"
     ]
    },
    {
     "name": "stdout",
     "output_type": "stream",
     "text": [
      "Calculating landscape features\n"
     ]
    },
    {
     "name": "stderr",
     "output_type": "stream",
     "text": [
      "filtration landscape: 100%|██████████| 196000/196000 [01:03<00:00, 3109.61it/s]\n"
     ]
    },
    {
     "name": "stdout",
     "output_type": "stream",
     "text": [
      "Calculating silhouette features\n"
     ]
    },
    {
     "name": "stderr",
     "output_type": "stream",
     "text": [
      "filtration silhouette-1: 100%|██████████| 196000/196000 [01:01<00:00, 3162.92it/s]\n",
      "filtration silhouette-2: 100%|██████████| 196000/196000 [00:58<00:00, 3332.56it/s]\n"
     ]
    },
    {
     "name": "stdout",
     "output_type": "stream",
     "text": [
      "Calculating entropy features\n",
      "Calculating number of points features\n",
      "Calculating amplitude features\n"
     ]
    },
    {
     "name": "stderr",
     "output_type": "stream",
     "text": [
      "filtration amplitudes: 100%|██████████| 17/17 [02:06<00:00,  7.46s/it]\n"
     ]
    },
    {
     "name": "stdout",
     "output_type": "stream",
     "text": [
      "Calculating lifetime features\n"
     ]
    },
    {
     "name": "stderr",
     "output_type": "stream",
     "text": [
      "filtration lifetime: 100%|██████████| 196000/196000 [02:48<00:00, 1162.77it/s]\n",
      "point_clouds: 100%|██████████| 4000/4000 [00:03<00:00, 1317.18it/s]\n"
     ]
    },
    {
     "name": "stdout",
     "output_type": "stream",
     "text": [
      "Making point cloud diagrams\n",
      "Filtered diagrams: (8000, 316, 3)\n",
      "Calculating Betti features\n"
     ]
    },
    {
     "name": "stderr",
     "output_type": "stream",
     "text": [
      "point_cloud betti: 100%|██████████| 8000/8000 [00:03<00:00, 2067.62it/s]\n"
     ]
    },
    {
     "name": "stdout",
     "output_type": "stream",
     "text": [
      "Calculating landscape features\n"
     ]
    },
    {
     "name": "stderr",
     "output_type": "stream",
     "text": [
      "point_cloud landscape: 100%|██████████| 8000/8000 [00:03<00:00, 2073.75it/s]\n"
     ]
    },
    {
     "name": "stdout",
     "output_type": "stream",
     "text": [
      "Calculating silhouette features\n"
     ]
    },
    {
     "name": "stderr",
     "output_type": "stream",
     "text": [
      "point_cloud silhouette-1: 100%|██████████| 8000/8000 [00:03<00:00, 2028.92it/s]\n",
      "point_cloud silhouette-2: 100%|██████████| 8000/8000 [00:03<00:00, 2166.53it/s]\n"
     ]
    },
    {
     "name": "stdout",
     "output_type": "stream",
     "text": [
      "Calculating entropy features\n",
      "Calculating number of points features\n",
      "Calculating amplitude features\n"
     ]
    },
    {
     "name": "stderr",
     "output_type": "stream",
     "text": [
      "point_cloud amplitudes: 100%|██████████| 17/17 [00:17<00:00,  1.01s/it]\n"
     ]
    },
    {
     "name": "stdout",
     "output_type": "stream",
     "text": [
      "Calculating lifetime features\n"
     ]
    },
    {
     "name": "stderr",
     "output_type": "stream",
     "text": [
      "point_cloud lifetime: 100%|██████████| 8000/8000 [00:10<00:00, 745.92it/s]\n",
      "combine features: 100%|██████████| 4000/4000 [00:01<00:00, 3152.93it/s]\n"
     ]
    },
    {
     "name": "stdout",
     "output_type": "stream",
     "text": [
      "Calculating 4000 - 8000\n"
     ]
    },
    {
     "name": "stderr",
     "output_type": "stream",
     "text": [
      "filtrations: 100%|██████████| 47/47 [00:13<00:00,  3.51it/s]\n"
     ]
    },
    {
     "name": "stdout",
     "output_type": "stream",
     "text": [
      "Making filtration diagrams\n",
      "Filtered diagrams: (196000, 73, 3)\n",
      "Calculating Betti features\n"
     ]
    },
    {
     "name": "stderr",
     "output_type": "stream",
     "text": [
      "filtration betti: 100%|██████████| 196000/196000 [01:02<00:00, 3123.69it/s]\n"
     ]
    },
    {
     "name": "stdout",
     "output_type": "stream",
     "text": [
      "Calculating landscape features\n"
     ]
    },
    {
     "name": "stderr",
     "output_type": "stream",
     "text": [
      "filtration landscape: 100%|██████████| 196000/196000 [01:03<00:00, 3102.87it/s]\n"
     ]
    },
    {
     "name": "stdout",
     "output_type": "stream",
     "text": [
      "Calculating silhouette features\n"
     ]
    },
    {
     "name": "stderr",
     "output_type": "stream",
     "text": [
      "filtration silhouette-1: 100%|██████████| 196000/196000 [01:02<00:00, 3127.25it/s]\n",
      "filtration silhouette-2: 100%|██████████| 196000/196000 [01:02<00:00, 3147.68it/s]\n"
     ]
    },
    {
     "name": "stdout",
     "output_type": "stream",
     "text": [
      "Calculating entropy features\n",
      "Calculating number of points features\n",
      "Calculating amplitude features\n"
     ]
    },
    {
     "name": "stderr",
     "output_type": "stream",
     "text": [
      "filtration amplitudes: 100%|██████████| 17/17 [02:04<00:00,  7.34s/it]\n"
     ]
    },
    {
     "name": "stdout",
     "output_type": "stream",
     "text": [
      "Calculating lifetime features\n"
     ]
    },
    {
     "name": "stderr",
     "output_type": "stream",
     "text": [
      "filtration lifetime: 100%|██████████| 196000/196000 [02:51<00:00, 1145.40it/s]\n",
      "point_clouds: 100%|██████████| 4000/4000 [00:03<00:00, 1302.45it/s]\n"
     ]
    },
    {
     "name": "stdout",
     "output_type": "stream",
     "text": [
      "Making point cloud diagrams\n",
      "Filtered diagrams: (8000, 333, 3)\n",
      "Calculating Betti features\n"
     ]
    },
    {
     "name": "stderr",
     "output_type": "stream",
     "text": [
      "point_cloud betti: 100%|██████████| 8000/8000 [00:03<00:00, 2105.01it/s]\n"
     ]
    },
    {
     "name": "stdout",
     "output_type": "stream",
     "text": [
      "Calculating landscape features\n"
     ]
    },
    {
     "name": "stderr",
     "output_type": "stream",
     "text": [
      "point_cloud landscape: 100%|██████████| 8000/8000 [00:03<00:00, 2032.45it/s]\n"
     ]
    },
    {
     "name": "stdout",
     "output_type": "stream",
     "text": [
      "Calculating silhouette features\n"
     ]
    },
    {
     "name": "stderr",
     "output_type": "stream",
     "text": [
      "point_cloud silhouette-1: 100%|██████████| 8000/8000 [00:03<00:00, 2082.97it/s]\n",
      "point_cloud silhouette-2: 100%|██████████| 8000/8000 [00:03<00:00, 2052.73it/s]\n"
     ]
    },
    {
     "name": "stdout",
     "output_type": "stream",
     "text": [
      "Calculating entropy features\n",
      "Calculating number of points features\n",
      "Calculating amplitude features\n"
     ]
    },
    {
     "name": "stderr",
     "output_type": "stream",
     "text": [
      "point_cloud amplitudes: 100%|██████████| 17/17 [00:17<00:00,  1.03s/it]\n"
     ]
    },
    {
     "name": "stdout",
     "output_type": "stream",
     "text": [
      "Calculating lifetime features\n"
     ]
    },
    {
     "name": "stderr",
     "output_type": "stream",
     "text": [
      "point_cloud lifetime: 100%|██████████| 8000/8000 [00:11<00:00, 705.98it/s]\n",
      "combine features: 100%|██████████| 4000/4000 [00:01<00:00, 2910.76it/s]\n"
     ]
    },
    {
     "name": "stdout",
     "output_type": "stream",
     "text": [
      "Calculating 8000 - 12000\n"
     ]
    },
    {
     "name": "stderr",
     "output_type": "stream",
     "text": [
      "filtrations: 100%|██████████| 47/47 [00:13<00:00,  3.51it/s]\n"
     ]
    },
    {
     "name": "stdout",
     "output_type": "stream",
     "text": [
      "Making filtration diagrams\n",
      "Filtered diagrams: (196000, 76, 3)\n",
      "Calculating Betti features\n"
     ]
    },
    {
     "name": "stderr",
     "output_type": "stream",
     "text": [
      "filtration betti: 100%|██████████| 196000/196000 [01:03<00:00, 3104.97it/s]\n"
     ]
    },
    {
     "name": "stdout",
     "output_type": "stream",
     "text": [
      "Calculating landscape features\n"
     ]
    },
    {
     "name": "stderr",
     "output_type": "stream",
     "text": [
      "filtration landscape: 100%|██████████| 196000/196000 [01:01<00:00, 3184.46it/s]\n"
     ]
    },
    {
     "name": "stdout",
     "output_type": "stream",
     "text": [
      "Calculating silhouette features\n"
     ]
    },
    {
     "name": "stderr",
     "output_type": "stream",
     "text": [
      "filtration silhouette-1: 100%|██████████| 196000/196000 [01:01<00:00, 3177.51it/s]\n",
      "filtration silhouette-2: 100%|██████████| 196000/196000 [01:01<00:00, 3169.73it/s]\n"
     ]
    },
    {
     "name": "stdout",
     "output_type": "stream",
     "text": [
      "Calculating entropy features\n",
      "Calculating number of points features\n",
      "Calculating amplitude features\n"
     ]
    },
    {
     "name": "stderr",
     "output_type": "stream",
     "text": [
      "filtration amplitudes: 100%|██████████| 17/17 [02:09<00:00,  7.61s/it]\n"
     ]
    },
    {
     "name": "stdout",
     "output_type": "stream",
     "text": [
      "Calculating lifetime features\n"
     ]
    },
    {
     "name": "stderr",
     "output_type": "stream",
     "text": [
      "filtration lifetime: 100%|██████████| 196000/196000 [02:50<00:00, 1151.10it/s]\n",
      "point_clouds: 100%|██████████| 4000/4000 [00:03<00:00, 1273.91it/s]\n"
     ]
    },
    {
     "name": "stdout",
     "output_type": "stream",
     "text": [
      "Making point cloud diagrams\n",
      "Filtered diagrams: (8000, 339, 3)\n",
      "Calculating Betti features\n"
     ]
    },
    {
     "name": "stderr",
     "output_type": "stream",
     "text": [
      "point_cloud betti: 100%|██████████| 8000/8000 [00:03<00:00, 2118.33it/s]\n"
     ]
    },
    {
     "name": "stdout",
     "output_type": "stream",
     "text": [
      "Calculating landscape features\n"
     ]
    },
    {
     "name": "stderr",
     "output_type": "stream",
     "text": [
      "point_cloud landscape: 100%|██████████| 8000/8000 [00:03<00:00, 2136.77it/s]\n"
     ]
    },
    {
     "name": "stdout",
     "output_type": "stream",
     "text": [
      "Calculating silhouette features\n"
     ]
    },
    {
     "name": "stderr",
     "output_type": "stream",
     "text": [
      "point_cloud silhouette-1: 100%|██████████| 8000/8000 [00:03<00:00, 2111.03it/s]\n",
      "point_cloud silhouette-2: 100%|██████████| 8000/8000 [00:03<00:00, 2150.90it/s]\n"
     ]
    },
    {
     "name": "stdout",
     "output_type": "stream",
     "text": [
      "Calculating entropy features\n",
      "Calculating number of points features\n",
      "Calculating amplitude features\n"
     ]
    },
    {
     "name": "stderr",
     "output_type": "stream",
     "text": [
      "point_cloud amplitudes: 100%|██████████| 17/17 [00:17<00:00,  1.04s/it]\n"
     ]
    },
    {
     "name": "stdout",
     "output_type": "stream",
     "text": [
      "Calculating lifetime features\n"
     ]
    },
    {
     "name": "stderr",
     "output_type": "stream",
     "text": [
      "point_cloud lifetime: 100%|██████████| 8000/8000 [00:10<00:00, 754.30it/s]\n",
      "combine features: 100%|██████████| 4000/4000 [00:01<00:00, 3009.05it/s]\n"
     ]
    },
    {
     "name": "stdout",
     "output_type": "stream",
     "text": [
      "Calculating 12000 - 16000\n"
     ]
    },
    {
     "name": "stderr",
     "output_type": "stream",
     "text": [
      "filtrations: 100%|██████████| 47/47 [00:13<00:00,  3.48it/s]\n"
     ]
    },
    {
     "name": "stdout",
     "output_type": "stream",
     "text": [
      "Making filtration diagrams\n",
      "Filtered diagrams: (196000, 62, 3)\n",
      "Calculating Betti features\n"
     ]
    },
    {
     "name": "stderr",
     "output_type": "stream",
     "text": [
      "filtration betti: 100%|██████████| 196000/196000 [01:03<00:00, 3094.91it/s]\n"
     ]
    },
    {
     "name": "stdout",
     "output_type": "stream",
     "text": [
      "Calculating landscape features\n"
     ]
    },
    {
     "name": "stderr",
     "output_type": "stream",
     "text": [
      "filtration landscape: 100%|██████████| 196000/196000 [01:01<00:00, 3170.27it/s]\n"
     ]
    },
    {
     "name": "stdout",
     "output_type": "stream",
     "text": [
      "Calculating silhouette features\n"
     ]
    },
    {
     "name": "stderr",
     "output_type": "stream",
     "text": [
      "filtration silhouette-1: 100%|██████████| 196000/196000 [01:00<00:00, 3219.82it/s]\n",
      "filtration silhouette-2: 100%|██████████| 196000/196000 [01:02<00:00, 3154.26it/s]\n"
     ]
    },
    {
     "name": "stdout",
     "output_type": "stream",
     "text": [
      "Calculating entropy features\n",
      "Calculating number of points features\n",
      "Calculating amplitude features\n"
     ]
    },
    {
     "name": "stderr",
     "output_type": "stream",
     "text": [
      "filtration amplitudes: 100%|██████████| 17/17 [01:53<00:00,  6.68s/it]\n"
     ]
    },
    {
     "name": "stdout",
     "output_type": "stream",
     "text": [
      "Calculating lifetime features\n"
     ]
    },
    {
     "name": "stderr",
     "output_type": "stream",
     "text": [
      "filtration lifetime: 100%|██████████| 196000/196000 [02:57<00:00, 1103.74it/s]\n",
      "point_clouds: 100%|██████████| 4000/4000 [00:03<00:00, 1270.88it/s]\n"
     ]
    },
    {
     "name": "stdout",
     "output_type": "stream",
     "text": [
      "Making point cloud diagrams\n",
      "Filtered diagrams: (8000, 308, 3)\n",
      "Calculating Betti features\n"
     ]
    },
    {
     "name": "stderr",
     "output_type": "stream",
     "text": [
      "point_cloud betti: 100%|██████████| 8000/8000 [00:03<00:00, 2078.63it/s]\n"
     ]
    },
    {
     "name": "stdout",
     "output_type": "stream",
     "text": [
      "Calculating landscape features\n"
     ]
    },
    {
     "name": "stderr",
     "output_type": "stream",
     "text": [
      "point_cloud landscape: 100%|██████████| 8000/8000 [00:03<00:00, 2025.54it/s]\n"
     ]
    },
    {
     "name": "stdout",
     "output_type": "stream",
     "text": [
      "Calculating silhouette features\n"
     ]
    },
    {
     "name": "stderr",
     "output_type": "stream",
     "text": [
      "point_cloud silhouette-1: 100%|██████████| 8000/8000 [00:03<00:00, 2079.40it/s]\n",
      "point_cloud silhouette-2: 100%|██████████| 8000/8000 [00:03<00:00, 2089.44it/s]\n"
     ]
    },
    {
     "name": "stdout",
     "output_type": "stream",
     "text": [
      "Calculating entropy features\n",
      "Calculating number of points features\n",
      "Calculating amplitude features\n"
     ]
    },
    {
     "name": "stderr",
     "output_type": "stream",
     "text": [
      "point_cloud amplitudes: 100%|██████████| 17/17 [00:17<00:00,  1.03s/it]\n"
     ]
    },
    {
     "name": "stdout",
     "output_type": "stream",
     "text": [
      "Calculating lifetime features\n"
     ]
    },
    {
     "name": "stderr",
     "output_type": "stream",
     "text": [
      "point_cloud lifetime: 100%|██████████| 8000/8000 [00:11<00:00, 721.79it/s]\n",
      "combine features: 100%|██████████| 4000/4000 [00:01<00:00, 2847.36it/s]\n"
     ]
    },
    {
     "name": "stdout",
     "output_type": "stream",
     "text": [
      "Calculating 16000 - 20000\n"
     ]
    },
    {
     "name": "stderr",
     "output_type": "stream",
     "text": [
      "filtrations: 100%|██████████| 47/47 [00:14<00:00,  3.28it/s]\n"
     ]
    },
    {
     "name": "stdout",
     "output_type": "stream",
     "text": [
      "Making filtration diagrams\n",
      "Filtered diagrams: (196000, 58, 3)\n",
      "Calculating Betti features\n"
     ]
    },
    {
     "name": "stderr",
     "output_type": "stream",
     "text": [
      "filtration betti: 100%|██████████| 196000/196000 [01:05<00:00, 3007.91it/s]\n"
     ]
    },
    {
     "name": "stdout",
     "output_type": "stream",
     "text": [
      "Calculating landscape features\n"
     ]
    },
    {
     "name": "stderr",
     "output_type": "stream",
     "text": [
      "filtration landscape: 100%|██████████| 196000/196000 [01:03<00:00, 3083.48it/s]\n"
     ]
    },
    {
     "name": "stdout",
     "output_type": "stream",
     "text": [
      "Calculating silhouette features\n"
     ]
    },
    {
     "name": "stderr",
     "output_type": "stream",
     "text": [
      "filtration silhouette-1: 100%|██████████| 196000/196000 [01:03<00:00, 3078.99it/s]\n",
      "filtration silhouette-2: 100%|██████████| 196000/196000 [01:03<00:00, 3093.23it/s]\n"
     ]
    },
    {
     "name": "stdout",
     "output_type": "stream",
     "text": [
      "Calculating entropy features\n",
      "Calculating number of points features\n",
      "Calculating amplitude features\n"
     ]
    },
    {
     "name": "stderr",
     "output_type": "stream",
     "text": [
      "filtration amplitudes: 100%|██████████| 17/17 [02:00<00:00,  7.07s/it]\n"
     ]
    },
    {
     "name": "stdout",
     "output_type": "stream",
     "text": [
      "Calculating lifetime features\n"
     ]
    },
    {
     "name": "stderr",
     "output_type": "stream",
     "text": [
      "filtration lifetime: 100%|██████████| 196000/196000 [02:59<00:00, 1088.99it/s]\n",
      "point_clouds: 100%|██████████| 4000/4000 [00:03<00:00, 1272.66it/s]\n"
     ]
    },
    {
     "name": "stdout",
     "output_type": "stream",
     "text": [
      "Making point cloud diagrams\n",
      "Filtered diagrams: (8000, 299, 3)\n",
      "Calculating Betti features\n"
     ]
    },
    {
     "name": "stderr",
     "output_type": "stream",
     "text": [
      "point_cloud betti: 100%|██████████| 8000/8000 [00:03<00:00, 2168.93it/s]\n"
     ]
    },
    {
     "name": "stdout",
     "output_type": "stream",
     "text": [
      "Calculating landscape features\n"
     ]
    },
    {
     "name": "stderr",
     "output_type": "stream",
     "text": [
      "point_cloud landscape: 100%|██████████| 8000/8000 [00:03<00:00, 2141.28it/s]\n"
     ]
    },
    {
     "name": "stdout",
     "output_type": "stream",
     "text": [
      "Calculating silhouette features\n"
     ]
    },
    {
     "name": "stderr",
     "output_type": "stream",
     "text": [
      "point_cloud silhouette-1: 100%|██████████| 8000/8000 [00:03<00:00, 2121.67it/s]\n",
      "point_cloud silhouette-2: 100%|██████████| 8000/8000 [00:03<00:00, 2112.35it/s]\n"
     ]
    },
    {
     "name": "stdout",
     "output_type": "stream",
     "text": [
      "Calculating entropy features\n",
      "Calculating number of points features\n",
      "Calculating amplitude features\n"
     ]
    },
    {
     "name": "stderr",
     "output_type": "stream",
     "text": [
      "point_cloud amplitudes: 100%|██████████| 17/17 [00:17<00:00,  1.02s/it]\n"
     ]
    },
    {
     "name": "stdout",
     "output_type": "stream",
     "text": [
      "Calculating lifetime features\n"
     ]
    },
    {
     "name": "stderr",
     "output_type": "stream",
     "text": [
      "point_cloud lifetime: 100%|██████████| 8000/8000 [00:10<00:00, 755.35it/s] \n",
      "combine features: 100%|██████████| 4000/4000 [00:01<00:00, 2374.34it/s]\n"
     ]
    },
    {
     "name": "stdout",
     "output_type": "stream",
     "text": [
      "Calculating 20000 - 24000\n"
     ]
    },
    {
     "name": "stderr",
     "output_type": "stream",
     "text": [
      "filtrations: 100%|██████████| 47/47 [00:13<00:00,  3.41it/s]\n"
     ]
    },
    {
     "name": "stdout",
     "output_type": "stream",
     "text": [
      "Making filtration diagrams\n",
      "Filtered diagrams: (196000, 62, 3)\n",
      "Calculating Betti features\n"
     ]
    },
    {
     "name": "stderr",
     "output_type": "stream",
     "text": [
      "filtration betti: 100%|██████████| 196000/196000 [01:02<00:00, 3159.61it/s]\n"
     ]
    },
    {
     "name": "stdout",
     "output_type": "stream",
     "text": [
      "Calculating landscape features\n"
     ]
    },
    {
     "name": "stderr",
     "output_type": "stream",
     "text": [
      "filtration landscape: 100%|██████████| 196000/196000 [01:01<00:00, 3197.91it/s]\n"
     ]
    },
    {
     "name": "stdout",
     "output_type": "stream",
     "text": [
      "Calculating silhouette features\n"
     ]
    },
    {
     "name": "stderr",
     "output_type": "stream",
     "text": [
      "filtration silhouette-1: 100%|██████████| 196000/196000 [01:00<00:00, 3260.22it/s]\n",
      "filtration silhouette-2: 100%|██████████| 196000/196000 [00:59<00:00, 3314.06it/s]\n"
     ]
    },
    {
     "name": "stdout",
     "output_type": "stream",
     "text": [
      "Calculating entropy features\n",
      "Calculating number of points features\n",
      "Calculating amplitude features\n"
     ]
    },
    {
     "name": "stderr",
     "output_type": "stream",
     "text": [
      "filtration amplitudes: 100%|██████████| 17/17 [01:56<00:00,  6.83s/it]\n"
     ]
    },
    {
     "name": "stdout",
     "output_type": "stream",
     "text": [
      "Calculating lifetime features\n"
     ]
    },
    {
     "name": "stderr",
     "output_type": "stream",
     "text": [
      "filtration lifetime: 100%|██████████| 196000/196000 [02:52<00:00, 1139.13it/s]\n",
      "point_clouds: 100%|██████████| 4000/4000 [00:03<00:00, 1242.03it/s]\n"
     ]
    },
    {
     "name": "stdout",
     "output_type": "stream",
     "text": [
      "Making point cloud diagrams\n",
      "Filtered diagrams: (8000, 317, 3)\n",
      "Calculating Betti features\n"
     ]
    },
    {
     "name": "stderr",
     "output_type": "stream",
     "text": [
      "point_cloud betti: 100%|██████████| 8000/8000 [00:03<00:00, 2107.13it/s]\n"
     ]
    },
    {
     "name": "stdout",
     "output_type": "stream",
     "text": [
      "Calculating landscape features\n"
     ]
    },
    {
     "name": "stderr",
     "output_type": "stream",
     "text": [
      "point_cloud landscape: 100%|██████████| 8000/8000 [00:03<00:00, 2130.01it/s]\n"
     ]
    },
    {
     "name": "stdout",
     "output_type": "stream",
     "text": [
      "Calculating silhouette features\n"
     ]
    },
    {
     "name": "stderr",
     "output_type": "stream",
     "text": [
      "point_cloud silhouette-1: 100%|██████████| 8000/8000 [00:03<00:00, 2112.83it/s]\n",
      "point_cloud silhouette-2: 100%|██████████| 8000/8000 [00:03<00:00, 2134.40it/s]\n"
     ]
    },
    {
     "name": "stdout",
     "output_type": "stream",
     "text": [
      "Calculating entropy features\n",
      "Calculating number of points features\n",
      "Calculating amplitude features\n"
     ]
    },
    {
     "name": "stderr",
     "output_type": "stream",
     "text": [
      "point_cloud amplitudes: 100%|██████████| 17/17 [00:17<00:00,  1.02s/it]\n"
     ]
    },
    {
     "name": "stdout",
     "output_type": "stream",
     "text": [
      "Calculating lifetime features\n"
     ]
    },
    {
     "name": "stderr",
     "output_type": "stream",
     "text": [
      "point_cloud lifetime: 100%|██████████| 8000/8000 [00:10<00:00, 738.33it/s]\n",
      "combine features: 100%|██████████| 4000/4000 [00:01<00:00, 2740.59it/s]\n"
     ]
    },
    {
     "name": "stdout",
     "output_type": "stream",
     "text": [
      "Calculating 24000 - 28000\n"
     ]
    },
    {
     "name": "stderr",
     "output_type": "stream",
     "text": [
      "filtrations: 100%|██████████| 47/47 [00:13<00:00,  3.49it/s]\n"
     ]
    },
    {
     "name": "stdout",
     "output_type": "stream",
     "text": [
      "Making filtration diagrams\n",
      "Filtered diagrams: (196000, 53, 3)\n",
      "Calculating Betti features\n"
     ]
    },
    {
     "name": "stderr",
     "output_type": "stream",
     "text": [
      "filtration betti: 100%|██████████| 196000/196000 [01:03<00:00, 3083.24it/s]\n"
     ]
    },
    {
     "name": "stdout",
     "output_type": "stream",
     "text": [
      "Calculating landscape features\n"
     ]
    },
    {
     "name": "stderr",
     "output_type": "stream",
     "text": [
      "filtration landscape: 100%|██████████| 196000/196000 [01:01<00:00, 3166.67it/s]\n"
     ]
    },
    {
     "name": "stdout",
     "output_type": "stream",
     "text": [
      "Calculating silhouette features\n"
     ]
    },
    {
     "name": "stderr",
     "output_type": "stream",
     "text": [
      "filtration silhouette-1: 100%|██████████| 196000/196000 [01:02<00:00, 3160.01it/s]\n",
      "filtration silhouette-2: 100%|██████████| 196000/196000 [01:01<00:00, 3164.38it/s]\n"
     ]
    },
    {
     "name": "stdout",
     "output_type": "stream",
     "text": [
      "Calculating entropy features\n",
      "Calculating number of points features\n",
      "Calculating amplitude features\n"
     ]
    },
    {
     "name": "stderr",
     "output_type": "stream",
     "text": [
      "filtration amplitudes: 100%|██████████| 17/17 [01:52<00:00,  6.60s/it]\n"
     ]
    },
    {
     "name": "stdout",
     "output_type": "stream",
     "text": [
      "Calculating lifetime features\n"
     ]
    },
    {
     "name": "stderr",
     "output_type": "stream",
     "text": [
      "filtration lifetime: 100%|██████████| 196000/196000 [02:51<00:00, 1146.08it/s]\n",
      "point_clouds: 100%|██████████| 4000/4000 [00:03<00:00, 1277.36it/s]\n"
     ]
    },
    {
     "name": "stdout",
     "output_type": "stream",
     "text": [
      "Making point cloud diagrams\n",
      "Filtered diagrams: (8000, 349, 3)\n",
      "Calculating Betti features\n"
     ]
    },
    {
     "name": "stderr",
     "output_type": "stream",
     "text": [
      "point_cloud betti: 100%|██████████| 8000/8000 [00:03<00:00, 2110.46it/s]\n"
     ]
    },
    {
     "name": "stdout",
     "output_type": "stream",
     "text": [
      "Calculating landscape features\n"
     ]
    },
    {
     "name": "stderr",
     "output_type": "stream",
     "text": [
      "point_cloud landscape: 100%|██████████| 8000/8000 [00:03<00:00, 2137.13it/s]\n"
     ]
    },
    {
     "name": "stdout",
     "output_type": "stream",
     "text": [
      "Calculating silhouette features\n"
     ]
    },
    {
     "name": "stderr",
     "output_type": "stream",
     "text": [
      "point_cloud silhouette-1: 100%|██████████| 8000/8000 [00:03<00:00, 2081.48it/s]\n",
      "point_cloud silhouette-2: 100%|██████████| 8000/8000 [00:03<00:00, 2124.30it/s]\n"
     ]
    },
    {
     "name": "stdout",
     "output_type": "stream",
     "text": [
      "Calculating entropy features\n",
      "Calculating number of points features\n",
      "Calculating amplitude features\n"
     ]
    },
    {
     "name": "stderr",
     "output_type": "stream",
     "text": [
      "point_cloud amplitudes: 100%|██████████| 17/17 [00:17<00:00,  1.05s/it]\n"
     ]
    },
    {
     "name": "stdout",
     "output_type": "stream",
     "text": [
      "Calculating lifetime features\n"
     ]
    },
    {
     "name": "stderr",
     "output_type": "stream",
     "text": [
      "point_cloud lifetime: 100%|██████████| 8000/8000 [00:10<00:00, 728.06it/s]\n",
      "combine features: 100%|██████████| 4000/4000 [00:01<00:00, 2847.74it/s]\n"
     ]
    },
    {
     "name": "stdout",
     "output_type": "stream",
     "text": [
      "Calculating 28000 - 32000\n"
     ]
    },
    {
     "name": "stderr",
     "output_type": "stream",
     "text": [
      "filtrations: 100%|██████████| 47/47 [00:13<00:00,  3.45it/s]\n"
     ]
    },
    {
     "name": "stdout",
     "output_type": "stream",
     "text": [
      "Making filtration diagrams\n",
      "Filtered diagrams: (196000, 68, 3)\n",
      "Calculating Betti features\n"
     ]
    },
    {
     "name": "stderr",
     "output_type": "stream",
     "text": [
      "filtration betti: 100%|██████████| 196000/196000 [01:04<00:00, 3029.77it/s]\n"
     ]
    },
    {
     "name": "stdout",
     "output_type": "stream",
     "text": [
      "Calculating landscape features\n"
     ]
    },
    {
     "name": "stderr",
     "output_type": "stream",
     "text": [
      "filtration landscape: 100%|██████████| 196000/196000 [01:03<00:00, 3098.44it/s]\n"
     ]
    },
    {
     "name": "stdout",
     "output_type": "stream",
     "text": [
      "Calculating silhouette features\n"
     ]
    },
    {
     "name": "stderr",
     "output_type": "stream",
     "text": [
      "filtration silhouette-1: 100%|██████████| 196000/196000 [01:01<00:00, 3208.89it/s]\n",
      "filtration silhouette-2: 100%|██████████| 196000/196000 [00:59<00:00, 3310.62it/s]\n"
     ]
    },
    {
     "name": "stdout",
     "output_type": "stream",
     "text": [
      "Calculating entropy features\n",
      "Calculating number of points features\n",
      "Calculating amplitude features\n"
     ]
    },
    {
     "name": "stderr",
     "output_type": "stream",
     "text": [
      "filtration amplitudes: 100%|██████████| 17/17 [02:05<00:00,  7.35s/it]\n"
     ]
    },
    {
     "name": "stdout",
     "output_type": "stream",
     "text": [
      "Calculating lifetime features\n"
     ]
    },
    {
     "name": "stderr",
     "output_type": "stream",
     "text": [
      "filtration lifetime: 100%|██████████| 196000/196000 [02:52<00:00, 1137.01it/s]\n",
      "point_clouds: 100%|██████████| 4000/4000 [00:02<00:00, 1348.05it/s]\n"
     ]
    },
    {
     "name": "stdout",
     "output_type": "stream",
     "text": [
      "Making point cloud diagrams\n",
      "Filtered diagrams: (8000, 326, 3)\n",
      "Calculating Betti features\n"
     ]
    },
    {
     "name": "stderr",
     "output_type": "stream",
     "text": [
      "point_cloud betti: 100%|██████████| 8000/8000 [00:04<00:00, 1997.54it/s]\n"
     ]
    },
    {
     "name": "stdout",
     "output_type": "stream",
     "text": [
      "Calculating landscape features\n"
     ]
    },
    {
     "name": "stderr",
     "output_type": "stream",
     "text": [
      "point_cloud landscape: 100%|██████████| 8000/8000 [00:04<00:00, 1798.61it/s]\n"
     ]
    },
    {
     "name": "stdout",
     "output_type": "stream",
     "text": [
      "Calculating silhouette features\n"
     ]
    },
    {
     "name": "stderr",
     "output_type": "stream",
     "text": [
      "point_cloud silhouette-1: 100%|██████████| 8000/8000 [00:03<00:00, 2033.42it/s]\n",
      "point_cloud silhouette-2: 100%|██████████| 8000/8000 [00:04<00:00, 1996.86it/s]\n"
     ]
    },
    {
     "name": "stdout",
     "output_type": "stream",
     "text": [
      "Calculating entropy features\n",
      "Calculating number of points features\n",
      "Calculating amplitude features\n"
     ]
    },
    {
     "name": "stderr",
     "output_type": "stream",
     "text": [
      "point_cloud amplitudes: 100%|██████████| 17/17 [00:18<00:00,  1.11s/it]\n"
     ]
    },
    {
     "name": "stdout",
     "output_type": "stream",
     "text": [
      "Calculating lifetime features\n"
     ]
    },
    {
     "name": "stderr",
     "output_type": "stream",
     "text": [
      "point_cloud lifetime: 100%|██████████| 8000/8000 [00:11<00:00, 705.23it/s]\n",
      "combine features: 100%|██████████| 4000/4000 [00:01<00:00, 2741.32it/s]\n"
     ]
    },
    {
     "name": "stdout",
     "output_type": "stream",
     "text": [
      "Calculating 32000 - 36000\n"
     ]
    },
    {
     "name": "stderr",
     "output_type": "stream",
     "text": [
      "filtrations: 100%|██████████| 47/47 [00:14<00:00,  3.16it/s]\n"
     ]
    },
    {
     "name": "stdout",
     "output_type": "stream",
     "text": [
      "Making filtration diagrams\n",
      "Filtered diagrams: (196000, 59, 3)\n",
      "Calculating Betti features\n"
     ]
    },
    {
     "name": "stderr",
     "output_type": "stream",
     "text": [
      "filtration betti: 100%|██████████| 196000/196000 [01:06<00:00, 2955.95it/s]\n"
     ]
    },
    {
     "name": "stdout",
     "output_type": "stream",
     "text": [
      "Calculating landscape features\n"
     ]
    },
    {
     "name": "stderr",
     "output_type": "stream",
     "text": [
      "filtration landscape: 100%|██████████| 196000/196000 [01:06<00:00, 2966.10it/s]\n"
     ]
    },
    {
     "name": "stdout",
     "output_type": "stream",
     "text": [
      "Calculating silhouette features\n"
     ]
    },
    {
     "name": "stderr",
     "output_type": "stream",
     "text": [
      "filtration silhouette-1: 100%|██████████| 196000/196000 [01:05<00:00, 2978.73it/s]\n",
      "filtration silhouette-2: 100%|██████████| 196000/196000 [01:07<00:00, 2887.47it/s]\n"
     ]
    },
    {
     "name": "stdout",
     "output_type": "stream",
     "text": [
      "Calculating entropy features\n",
      "Calculating number of points features\n",
      "Calculating amplitude features\n"
     ]
    },
    {
     "name": "stderr",
     "output_type": "stream",
     "text": [
      "filtration amplitudes: 100%|██████████| 17/17 [02:07<00:00,  7.53s/it]\n"
     ]
    },
    {
     "name": "stdout",
     "output_type": "stream",
     "text": [
      "Calculating lifetime features\n"
     ]
    },
    {
     "name": "stderr",
     "output_type": "stream",
     "text": [
      "filtration lifetime: 100%|██████████| 196000/196000 [02:53<00:00, 1126.60it/s]\n",
      "point_clouds: 100%|██████████| 4000/4000 [00:03<00:00, 1210.64it/s]\n"
     ]
    },
    {
     "name": "stdout",
     "output_type": "stream",
     "text": [
      "Making point cloud diagrams\n",
      "Filtered diagrams: (8000, 290, 3)\n",
      "Calculating Betti features\n"
     ]
    },
    {
     "name": "stderr",
     "output_type": "stream",
     "text": [
      "point_cloud betti: 100%|██████████| 8000/8000 [00:03<00:00, 2235.06it/s]\n"
     ]
    },
    {
     "name": "stdout",
     "output_type": "stream",
     "text": [
      "Calculating landscape features\n"
     ]
    },
    {
     "name": "stderr",
     "output_type": "stream",
     "text": [
      "point_cloud landscape: 100%|██████████| 8000/8000 [00:03<00:00, 2292.05it/s]\n"
     ]
    },
    {
     "name": "stdout",
     "output_type": "stream",
     "text": [
      "Calculating silhouette features\n"
     ]
    },
    {
     "name": "stderr",
     "output_type": "stream",
     "text": [
      "point_cloud silhouette-1: 100%|██████████| 8000/8000 [00:03<00:00, 2094.05it/s]\n",
      "point_cloud silhouette-2: 100%|██████████| 8000/8000 [00:03<00:00, 2291.60it/s]\n"
     ]
    },
    {
     "name": "stdout",
     "output_type": "stream",
     "text": [
      "Calculating entropy features\n",
      "Calculating number of points features\n",
      "Calculating amplitude features\n"
     ]
    },
    {
     "name": "stderr",
     "output_type": "stream",
     "text": [
      "point_cloud amplitudes: 100%|██████████| 17/17 [00:15<00:00,  1.09it/s]\n"
     ]
    },
    {
     "name": "stdout",
     "output_type": "stream",
     "text": [
      "Calculating lifetime features\n"
     ]
    },
    {
     "name": "stderr",
     "output_type": "stream",
     "text": [
      "point_cloud lifetime: 100%|██████████| 8000/8000 [00:10<00:00, 771.61it/s] \n",
      "combine features: 100%|██████████| 4000/4000 [00:01<00:00, 2991.34it/s]\n"
     ]
    },
    {
     "name": "stdout",
     "output_type": "stream",
     "text": [
      "Calculating 36000 - 40000\n"
     ]
    },
    {
     "name": "stderr",
     "output_type": "stream",
     "text": [
      "filtrations: 100%|██████████| 47/47 [00:13<00:00,  3.42it/s]\n"
     ]
    },
    {
     "name": "stdout",
     "output_type": "stream",
     "text": [
      "Making filtration diagrams\n",
      "Filtered diagrams: (196000, 73, 3)\n",
      "Calculating Betti features\n"
     ]
    },
    {
     "name": "stderr",
     "output_type": "stream",
     "text": [
      "filtration betti: 100%|██████████| 196000/196000 [01:06<00:00, 2966.10it/s]\n"
     ]
    },
    {
     "name": "stdout",
     "output_type": "stream",
     "text": [
      "Calculating landscape features\n"
     ]
    },
    {
     "name": "stderr",
     "output_type": "stream",
     "text": [
      "filtration landscape: 100%|██████████| 196000/196000 [01:04<00:00, 3032.61it/s]\n"
     ]
    },
    {
     "name": "stdout",
     "output_type": "stream",
     "text": [
      "Calculating silhouette features\n"
     ]
    },
    {
     "name": "stderr",
     "output_type": "stream",
     "text": [
      "filtration silhouette-1: 100%|██████████| 196000/196000 [01:07<00:00, 2885.54it/s]\n",
      "filtration silhouette-2: 100%|██████████| 196000/196000 [01:06<00:00, 2954.96it/s]\n"
     ]
    },
    {
     "name": "stdout",
     "output_type": "stream",
     "text": [
      "Calculating entropy features\n",
      "Calculating number of points features\n",
      "Calculating amplitude features\n"
     ]
    },
    {
     "name": "stderr",
     "output_type": "stream",
     "text": [
      "filtration amplitudes: 100%|██████████| 17/17 [02:20<00:00,  8.25s/it]\n"
     ]
    },
    {
     "name": "stdout",
     "output_type": "stream",
     "text": [
      "Calculating lifetime features\n"
     ]
    },
    {
     "name": "stderr",
     "output_type": "stream",
     "text": [
      "filtration lifetime: 100%|██████████| 196000/196000 [02:49<00:00, 1158.94it/s]\n",
      "point_clouds: 100%|██████████| 4000/4000 [00:02<00:00, 1340.45it/s]\n"
     ]
    },
    {
     "name": "stdout",
     "output_type": "stream",
     "text": [
      "Making point cloud diagrams\n",
      "Filtered diagrams: (8000, 322, 3)\n",
      "Calculating Betti features\n"
     ]
    },
    {
     "name": "stderr",
     "output_type": "stream",
     "text": [
      "point_cloud betti: 100%|██████████| 8000/8000 [00:03<00:00, 2111.00it/s]\n"
     ]
    },
    {
     "name": "stdout",
     "output_type": "stream",
     "text": [
      "Calculating landscape features\n"
     ]
    },
    {
     "name": "stderr",
     "output_type": "stream",
     "text": [
      "point_cloud landscape: 100%|██████████| 8000/8000 [00:03<00:00, 2118.50it/s]\n"
     ]
    },
    {
     "name": "stdout",
     "output_type": "stream",
     "text": [
      "Calculating silhouette features\n"
     ]
    },
    {
     "name": "stderr",
     "output_type": "stream",
     "text": [
      "point_cloud silhouette-1: 100%|██████████| 8000/8000 [00:03<00:00, 2167.95it/s]\n",
      "point_cloud silhouette-2: 100%|██████████| 8000/8000 [00:03<00:00, 2090.21it/s]\n"
     ]
    },
    {
     "name": "stdout",
     "output_type": "stream",
     "text": [
      "Calculating entropy features\n",
      "Calculating number of points features\n",
      "Calculating amplitude features\n"
     ]
    },
    {
     "name": "stderr",
     "output_type": "stream",
     "text": [
      "point_cloud amplitudes: 100%|██████████| 17/17 [00:17<00:00,  1.03s/it]\n"
     ]
    },
    {
     "name": "stdout",
     "output_type": "stream",
     "text": [
      "Calculating lifetime features\n"
     ]
    },
    {
     "name": "stderr",
     "output_type": "stream",
     "text": [
      "point_cloud lifetime: 100%|██████████| 8000/8000 [00:11<00:00, 688.17it/s]\n",
      "combine features: 100%|██████████| 4000/4000 [00:01<00:00, 2615.10it/s]\n"
     ]
    },
    {
     "name": "stdout",
     "output_type": "stream",
     "text": [
      "Calculating 40000 - 44000\n"
     ]
    },
    {
     "name": "stderr",
     "output_type": "stream",
     "text": [
      "filtrations: 100%|██████████| 47/47 [00:13<00:00,  3.44it/s]\n"
     ]
    },
    {
     "name": "stdout",
     "output_type": "stream",
     "text": [
      "Making filtration diagrams\n",
      "Filtered diagrams: (196000, 60, 3)\n",
      "Calculating Betti features\n"
     ]
    },
    {
     "name": "stderr",
     "output_type": "stream",
     "text": [
      "filtration betti: 100%|██████████| 196000/196000 [01:05<00:00, 3000.42it/s]\n"
     ]
    },
    {
     "name": "stdout",
     "output_type": "stream",
     "text": [
      "Calculating landscape features\n"
     ]
    },
    {
     "name": "stderr",
     "output_type": "stream",
     "text": [
      "filtration landscape: 100%|██████████| 196000/196000 [01:01<00:00, 3168.99it/s]\n"
     ]
    },
    {
     "name": "stdout",
     "output_type": "stream",
     "text": [
      "Calculating silhouette features\n"
     ]
    },
    {
     "name": "stderr",
     "output_type": "stream",
     "text": [
      "filtration silhouette-1: 100%|██████████| 196000/196000 [01:00<00:00, 3236.40it/s]\n",
      "filtration silhouette-2: 100%|██████████| 196000/196000 [01:01<00:00, 3166.87it/s]\n"
     ]
    },
    {
     "name": "stdout",
     "output_type": "stream",
     "text": [
      "Calculating entropy features\n",
      "Calculating number of points features\n",
      "Calculating amplitude features\n"
     ]
    },
    {
     "name": "stderr",
     "output_type": "stream",
     "text": [
      "filtration amplitudes: 100%|██████████| 17/17 [02:00<00:00,  7.11s/it]\n"
     ]
    },
    {
     "name": "stdout",
     "output_type": "stream",
     "text": [
      "Calculating lifetime features\n"
     ]
    },
    {
     "name": "stderr",
     "output_type": "stream",
     "text": [
      "filtration lifetime: 100%|██████████| 196000/196000 [02:54<00:00, 1121.78it/s]\n",
      "point_clouds: 100%|██████████| 4000/4000 [00:03<00:00, 1278.67it/s]\n"
     ]
    },
    {
     "name": "stdout",
     "output_type": "stream",
     "text": [
      "Making point cloud diagrams\n",
      "Filtered diagrams: (8000, 383, 3)\n",
      "Calculating Betti features\n"
     ]
    },
    {
     "name": "stderr",
     "output_type": "stream",
     "text": [
      "point_cloud betti: 100%|██████████| 8000/8000 [00:03<00:00, 2100.78it/s]\n"
     ]
    },
    {
     "name": "stdout",
     "output_type": "stream",
     "text": [
      "Calculating landscape features\n"
     ]
    },
    {
     "name": "stderr",
     "output_type": "stream",
     "text": [
      "point_cloud landscape: 100%|██████████| 8000/8000 [00:04<00:00, 1983.40it/s]\n"
     ]
    },
    {
     "name": "stdout",
     "output_type": "stream",
     "text": [
      "Calculating silhouette features\n"
     ]
    },
    {
     "name": "stderr",
     "output_type": "stream",
     "text": [
      "point_cloud silhouette-1: 100%|██████████| 8000/8000 [00:03<00:00, 2108.30it/s]\n",
      "point_cloud silhouette-2: 100%|██████████| 8000/8000 [00:03<00:00, 2131.85it/s]\n"
     ]
    },
    {
     "name": "stdout",
     "output_type": "stream",
     "text": [
      "Calculating entropy features\n",
      "Calculating number of points features\n",
      "Calculating amplitude features\n"
     ]
    },
    {
     "name": "stderr",
     "output_type": "stream",
     "text": [
      "point_cloud amplitudes: 100%|██████████| 17/17 [00:19<00:00,  1.13s/it]\n"
     ]
    },
    {
     "name": "stdout",
     "output_type": "stream",
     "text": [
      "Calculating lifetime features\n"
     ]
    },
    {
     "name": "stderr",
     "output_type": "stream",
     "text": [
      "point_cloud lifetime: 100%|██████████| 8000/8000 [00:10<00:00, 742.39it/s]\n",
      "combine features: 100%|██████████| 4000/4000 [00:01<00:00, 2826.91it/s]\n"
     ]
    },
    {
     "name": "stdout",
     "output_type": "stream",
     "text": [
      "Calculating 44000 - 48000\n"
     ]
    },
    {
     "name": "stderr",
     "output_type": "stream",
     "text": [
      "filtrations: 100%|██████████| 47/47 [00:13<00:00,  3.50it/s]\n"
     ]
    },
    {
     "name": "stdout",
     "output_type": "stream",
     "text": [
      "Making filtration diagrams\n",
      "Filtered diagrams: (196000, 77, 3)\n",
      "Calculating Betti features\n"
     ]
    },
    {
     "name": "stderr",
     "output_type": "stream",
     "text": [
      "filtration betti: 100%|██████████| 196000/196000 [01:03<00:00, 3092.48it/s]\n"
     ]
    },
    {
     "name": "stdout",
     "output_type": "stream",
     "text": [
      "Calculating landscape features\n"
     ]
    },
    {
     "name": "stderr",
     "output_type": "stream",
     "text": [
      "filtration landscape: 100%|██████████| 196000/196000 [01:02<00:00, 3135.84it/s]\n"
     ]
    },
    {
     "name": "stdout",
     "output_type": "stream",
     "text": [
      "Calculating silhouette features\n"
     ]
    },
    {
     "name": "stderr",
     "output_type": "stream",
     "text": [
      "filtration silhouette-1: 100%|██████████| 196000/196000 [01:00<00:00, 3238.69it/s]\n",
      "filtration silhouette-2: 100%|██████████| 196000/196000 [01:01<00:00, 3182.43it/s]\n"
     ]
    },
    {
     "name": "stdout",
     "output_type": "stream",
     "text": [
      "Calculating entropy features\n",
      "Calculating number of points features\n",
      "Calculating amplitude features\n"
     ]
    },
    {
     "name": "stderr",
     "output_type": "stream",
     "text": [
      "filtration amplitudes: 100%|██████████| 17/17 [02:17<00:00,  8.06s/it]\n"
     ]
    },
    {
     "name": "stdout",
     "output_type": "stream",
     "text": [
      "Calculating lifetime features\n"
     ]
    },
    {
     "name": "stderr",
     "output_type": "stream",
     "text": [
      "filtration lifetime: 100%|██████████| 196000/196000 [02:57<00:00, 1106.62it/s]\n",
      "point_clouds: 100%|██████████| 4000/4000 [00:03<00:00, 1253.75it/s]\n"
     ]
    },
    {
     "name": "stdout",
     "output_type": "stream",
     "text": [
      "Making point cloud diagrams\n",
      "Filtered diagrams: (8000, 320, 3)\n",
      "Calculating Betti features\n"
     ]
    },
    {
     "name": "stderr",
     "output_type": "stream",
     "text": [
      "point_cloud betti: 100%|██████████| 8000/8000 [00:03<00:00, 2020.34it/s]\n"
     ]
    },
    {
     "name": "stdout",
     "output_type": "stream",
     "text": [
      "Calculating landscape features\n"
     ]
    },
    {
     "name": "stderr",
     "output_type": "stream",
     "text": [
      "point_cloud landscape: 100%|██████████| 8000/8000 [00:03<00:00, 2055.41it/s]\n"
     ]
    },
    {
     "name": "stdout",
     "output_type": "stream",
     "text": [
      "Calculating silhouette features\n"
     ]
    },
    {
     "name": "stderr",
     "output_type": "stream",
     "text": [
      "point_cloud silhouette-1: 100%|██████████| 8000/8000 [00:03<00:00, 2058.76it/s]\n",
      "point_cloud silhouette-2: 100%|██████████| 8000/8000 [00:03<00:00, 2050.93it/s]\n"
     ]
    },
    {
     "name": "stdout",
     "output_type": "stream",
     "text": [
      "Calculating entropy features\n",
      "Calculating number of points features\n",
      "Calculating amplitude features\n"
     ]
    },
    {
     "name": "stderr",
     "output_type": "stream",
     "text": [
      "point_cloud amplitudes: 100%|██████████| 17/17 [00:17<00:00,  1.06s/it]\n"
     ]
    },
    {
     "name": "stdout",
     "output_type": "stream",
     "text": [
      "Calculating lifetime features\n"
     ]
    },
    {
     "name": "stderr",
     "output_type": "stream",
     "text": [
      "point_cloud lifetime: 100%|██████████| 8000/8000 [00:11<00:00, 702.80it/s]\n",
      "combine features: 100%|██████████| 4000/4000 [00:01<00:00, 2808.57it/s]\n"
     ]
    },
    {
     "name": "stdout",
     "output_type": "stream",
     "text": [
      "Calculating 48000 - 52000\n"
     ]
    },
    {
     "name": "stderr",
     "output_type": "stream",
     "text": [
      "filtrations: 100%|██████████| 47/47 [00:14<00:00,  3.34it/s]\n"
     ]
    },
    {
     "name": "stdout",
     "output_type": "stream",
     "text": [
      "Making filtration diagrams\n",
      "Filtered diagrams: (196000, 63, 3)\n",
      "Calculating Betti features\n"
     ]
    },
    {
     "name": "stderr",
     "output_type": "stream",
     "text": [
      "filtration betti: 100%|██████████| 196000/196000 [01:05<00:00, 3005.12it/s]\n"
     ]
    },
    {
     "name": "stdout",
     "output_type": "stream",
     "text": [
      "Calculating landscape features\n"
     ]
    },
    {
     "name": "stderr",
     "output_type": "stream",
     "text": [
      "filtration landscape: 100%|██████████| 196000/196000 [01:05<00:00, 3013.09it/s]\n"
     ]
    },
    {
     "name": "stdout",
     "output_type": "stream",
     "text": [
      "Calculating silhouette features\n"
     ]
    },
    {
     "name": "stderr",
     "output_type": "stream",
     "text": [
      "filtration silhouette-1: 100%|██████████| 196000/196000 [01:03<00:00, 3089.28it/s]\n",
      "filtration silhouette-2: 100%|██████████| 196000/196000 [01:05<00:00, 2998.38it/s]\n"
     ]
    },
    {
     "name": "stdout",
     "output_type": "stream",
     "text": [
      "Calculating entropy features\n",
      "Calculating number of points features\n",
      "Calculating amplitude features\n"
     ]
    },
    {
     "name": "stderr",
     "output_type": "stream",
     "text": [
      "filtration amplitudes: 100%|██████████| 17/17 [02:12<00:00,  7.81s/it]\n"
     ]
    },
    {
     "name": "stdout",
     "output_type": "stream",
     "text": [
      "Calculating lifetime features\n"
     ]
    },
    {
     "name": "stderr",
     "output_type": "stream",
     "text": [
      "filtration lifetime: 100%|██████████| 196000/196000 [03:13<00:00, 1014.94it/s]\n",
      "point_clouds: 100%|██████████| 4000/4000 [00:03<00:00, 1231.54it/s]\n"
     ]
    },
    {
     "name": "stdout",
     "output_type": "stream",
     "text": [
      "Making point cloud diagrams\n",
      "Filtered diagrams: (8000, 314, 3)\n",
      "Calculating Betti features\n"
     ]
    },
    {
     "name": "stderr",
     "output_type": "stream",
     "text": [
      "point_cloud betti: 100%|██████████| 8000/8000 [00:03<00:00, 2009.51it/s]\n"
     ]
    },
    {
     "name": "stdout",
     "output_type": "stream",
     "text": [
      "Calculating landscape features\n"
     ]
    },
    {
     "name": "stderr",
     "output_type": "stream",
     "text": [
      "point_cloud landscape: 100%|██████████| 8000/8000 [00:03<00:00, 2217.54it/s]\n"
     ]
    },
    {
     "name": "stdout",
     "output_type": "stream",
     "text": [
      "Calculating silhouette features\n"
     ]
    },
    {
     "name": "stderr",
     "output_type": "stream",
     "text": [
      "point_cloud silhouette-1: 100%|██████████| 8000/8000 [00:03<00:00, 2186.29it/s]\n",
      "point_cloud silhouette-2: 100%|██████████| 8000/8000 [00:03<00:00, 2106.27it/s]\n"
     ]
    },
    {
     "name": "stdout",
     "output_type": "stream",
     "text": [
      "Calculating entropy features\n",
      "Calculating number of points features\n",
      "Calculating amplitude features\n"
     ]
    },
    {
     "name": "stderr",
     "output_type": "stream",
     "text": [
      "point_cloud amplitudes: 100%|██████████| 17/17 [00:17<00:00,  1.06s/it]\n"
     ]
    },
    {
     "name": "stdout",
     "output_type": "stream",
     "text": [
      "Calculating lifetime features\n"
     ]
    },
    {
     "name": "stderr",
     "output_type": "stream",
     "text": [
      "point_cloud lifetime: 100%|██████████| 8000/8000 [00:11<00:00, 699.41it/s]\n",
      "combine features: 100%|██████████| 4000/4000 [00:01<00:00, 2314.64it/s]\n"
     ]
    },
    {
     "name": "stdout",
     "output_type": "stream",
     "text": [
      "Calculating 52000 - 56000\n"
     ]
    },
    {
     "name": "stderr",
     "output_type": "stream",
     "text": [
      "filtrations: 100%|██████████| 47/47 [00:14<00:00,  3.25it/s]\n"
     ]
    },
    {
     "name": "stdout",
     "output_type": "stream",
     "text": [
      "Making filtration diagrams\n",
      "Filtered diagrams: (196000, 74, 3)\n",
      "Calculating Betti features\n"
     ]
    },
    {
     "name": "stderr",
     "output_type": "stream",
     "text": [
      "filtration betti: 100%|██████████| 196000/196000 [01:06<00:00, 2951.26it/s]\n"
     ]
    },
    {
     "name": "stdout",
     "output_type": "stream",
     "text": [
      "Calculating landscape features\n"
     ]
    },
    {
     "name": "stderr",
     "output_type": "stream",
     "text": [
      "filtration landscape: 100%|██████████| 196000/196000 [01:05<00:00, 2975.92it/s]\n"
     ]
    },
    {
     "name": "stdout",
     "output_type": "stream",
     "text": [
      "Calculating silhouette features\n"
     ]
    },
    {
     "name": "stderr",
     "output_type": "stream",
     "text": [
      "filtration silhouette-1: 100%|██████████| 196000/196000 [01:05<00:00, 3012.63it/s]\n",
      "filtration silhouette-2: 100%|██████████| 196000/196000 [01:06<00:00, 2954.91it/s]\n"
     ]
    },
    {
     "name": "stdout",
     "output_type": "stream",
     "text": [
      "Calculating entropy features\n",
      "Calculating number of points features\n",
      "Calculating amplitude features\n"
     ]
    },
    {
     "name": "stderr",
     "output_type": "stream",
     "text": [
      "filtration amplitudes: 100%|██████████| 17/17 [02:29<00:00,  8.77s/it]\n"
     ]
    },
    {
     "name": "stdout",
     "output_type": "stream",
     "text": [
      "Calculating lifetime features\n"
     ]
    },
    {
     "name": "stderr",
     "output_type": "stream",
     "text": [
      "filtration lifetime: 100%|██████████| 196000/196000 [03:09<00:00, 1035.18it/s]\n",
      "point_clouds: 100%|██████████| 4000/4000 [00:03<00:00, 1249.12it/s]\n"
     ]
    },
    {
     "name": "stdout",
     "output_type": "stream",
     "text": [
      "Making point cloud diagrams\n",
      "Filtered diagrams: (8000, 299, 3)\n",
      "Calculating Betti features\n"
     ]
    },
    {
     "name": "stderr",
     "output_type": "stream",
     "text": [
      "point_cloud betti: 100%|██████████| 8000/8000 [00:03<00:00, 2020.56it/s]\n"
     ]
    },
    {
     "name": "stdout",
     "output_type": "stream",
     "text": [
      "Calculating landscape features\n"
     ]
    },
    {
     "name": "stderr",
     "output_type": "stream",
     "text": [
      "point_cloud landscape: 100%|██████████| 8000/8000 [00:03<00:00, 2020.39it/s]\n"
     ]
    },
    {
     "name": "stdout",
     "output_type": "stream",
     "text": [
      "Calculating silhouette features\n"
     ]
    },
    {
     "name": "stderr",
     "output_type": "stream",
     "text": [
      "point_cloud silhouette-1: 100%|██████████| 8000/8000 [00:04<00:00, 1970.05it/s]\n",
      "point_cloud silhouette-2: 100%|██████████| 8000/8000 [00:03<00:00, 2031.23it/s]\n"
     ]
    },
    {
     "name": "stdout",
     "output_type": "stream",
     "text": [
      "Calculating entropy features\n",
      "Calculating number of points features\n",
      "Calculating amplitude features\n"
     ]
    },
    {
     "name": "stderr",
     "output_type": "stream",
     "text": [
      "point_cloud amplitudes: 100%|██████████| 17/17 [00:17<00:00,  1.02s/it]\n"
     ]
    },
    {
     "name": "stdout",
     "output_type": "stream",
     "text": [
      "Calculating lifetime features\n"
     ]
    },
    {
     "name": "stderr",
     "output_type": "stream",
     "text": [
      "point_cloud lifetime: 100%|██████████| 8000/8000 [00:11<00:00, 705.53it/s]\n",
      "combine features: 100%|██████████| 4000/4000 [00:01<00:00, 2759.69it/s]\n"
     ]
    },
    {
     "name": "stdout",
     "output_type": "stream",
     "text": [
      "Calculating 56000 - 60000\n"
     ]
    },
    {
     "name": "stderr",
     "output_type": "stream",
     "text": [
      "filtrations: 100%|██████████| 47/47 [00:14<00:00,  3.22it/s]\n"
     ]
    },
    {
     "name": "stdout",
     "output_type": "stream",
     "text": [
      "Making filtration diagrams\n",
      "Filtered diagrams: (196000, 61, 3)\n",
      "Calculating Betti features\n"
     ]
    },
    {
     "name": "stderr",
     "output_type": "stream",
     "text": [
      "filtration betti: 100%|██████████| 196000/196000 [00:59<00:00, 3276.31it/s]\n"
     ]
    },
    {
     "name": "stdout",
     "output_type": "stream",
     "text": [
      "Calculating landscape features\n"
     ]
    },
    {
     "name": "stderr",
     "output_type": "stream",
     "text": [
      "filtration landscape: 100%|██████████| 196000/196000 [00:59<00:00, 3300.16it/s]\n"
     ]
    },
    {
     "name": "stdout",
     "output_type": "stream",
     "text": [
      "Calculating silhouette features\n"
     ]
    },
    {
     "name": "stderr",
     "output_type": "stream",
     "text": [
      "filtration silhouette-1: 100%|██████████| 196000/196000 [01:04<00:00, 3035.71it/s]\n",
      "filtration silhouette-2: 100%|██████████| 196000/196000 [01:06<00:00, 2950.53it/s]\n"
     ]
    },
    {
     "name": "stdout",
     "output_type": "stream",
     "text": [
      "Calculating entropy features\n",
      "Calculating number of points features\n",
      "Calculating amplitude features\n"
     ]
    },
    {
     "name": "stderr",
     "output_type": "stream",
     "text": [
      "filtration amplitudes: 100%|██████████| 17/17 [02:12<00:00,  7.77s/it]\n"
     ]
    },
    {
     "name": "stdout",
     "output_type": "stream",
     "text": [
      "Calculating lifetime features\n"
     ]
    },
    {
     "name": "stderr",
     "output_type": "stream",
     "text": [
      "filtration lifetime: 100%|██████████| 196000/196000 [02:59<00:00, 1093.26it/s]\n",
      "point_clouds: 100%|██████████| 4000/4000 [00:03<00:00, 1271.95it/s]\n"
     ]
    },
    {
     "name": "stdout",
     "output_type": "stream",
     "text": [
      "Making point cloud diagrams\n",
      "Filtered diagrams: (8000, 334, 3)\n",
      "Calculating Betti features\n"
     ]
    },
    {
     "name": "stderr",
     "output_type": "stream",
     "text": [
      "point_cloud betti: 100%|██████████| 8000/8000 [00:04<00:00, 1988.57it/s]\n"
     ]
    },
    {
     "name": "stdout",
     "output_type": "stream",
     "text": [
      "Calculating landscape features\n"
     ]
    },
    {
     "name": "stderr",
     "output_type": "stream",
     "text": [
      "point_cloud landscape: 100%|██████████| 8000/8000 [00:03<00:00, 2055.54it/s]\n"
     ]
    },
    {
     "name": "stdout",
     "output_type": "stream",
     "text": [
      "Calculating silhouette features\n"
     ]
    },
    {
     "name": "stderr",
     "output_type": "stream",
     "text": [
      "point_cloud silhouette-1: 100%|██████████| 8000/8000 [00:03<00:00, 2075.32it/s]\n",
      "point_cloud silhouette-2: 100%|██████████| 8000/8000 [00:03<00:00, 2100.88it/s]\n"
     ]
    },
    {
     "name": "stdout",
     "output_type": "stream",
     "text": [
      "Calculating entropy features\n",
      "Calculating number of points features\n",
      "Calculating amplitude features\n"
     ]
    },
    {
     "name": "stderr",
     "output_type": "stream",
     "text": [
      "point_cloud amplitudes: 100%|██████████| 17/17 [00:18<00:00,  1.08s/it]\n"
     ]
    },
    {
     "name": "stdout",
     "output_type": "stream",
     "text": [
      "Calculating lifetime features\n"
     ]
    },
    {
     "name": "stderr",
     "output_type": "stream",
     "text": [
      "point_cloud lifetime: 100%|██████████| 8000/8000 [00:11<00:00, 715.43it/s]\n",
      "combine features: 100%|██████████| 4000/4000 [00:01<00:00, 2660.91it/s]\n"
     ]
    }
   ],
   "source": [
    "train_features = None\n",
    "for i in range(0, 60000, 4000):\n",
    "    print(f'Calculating {i} - {i + 4000}')\n",
    "    train_features_batch = make_features(train_images[i:i + 4000])\n",
    "    if train_features is None:\n",
    "        train_features = train_features_batch\n",
    "    else:\n",
    "        train_features = numpy.concatenate((train_features, train_features_batch), axis = 0)\n",
    "    numpy.save(\"train_features.npy\", train_features)"
   ]
  },
  {
   "cell_type": "code",
   "execution_count": 11,
   "metadata": {},
   "outputs": [
    {
     "name": "stdout",
     "output_type": "stream",
     "text": [
      "Calculating 0 - 2500\n"
     ]
    },
    {
     "name": "stderr",
     "output_type": "stream",
     "text": [
      "filtrations: 100%|██████████| 47/47 [00:08<00:00,  5.73it/s]\n"
     ]
    },
    {
     "name": "stdout",
     "output_type": "stream",
     "text": [
      "Making filtration diagrams\n",
      "Filtered diagrams: (122500, 56, 3)\n",
      "Calculating Betti features\n"
     ]
    },
    {
     "name": "stderr",
     "output_type": "stream",
     "text": [
      "filtration betti: 100%|██████████| 122500/122500 [00:42<00:00, 2869.31it/s]\n"
     ]
    },
    {
     "name": "stdout",
     "output_type": "stream",
     "text": [
      "Calculating landscape features\n"
     ]
    },
    {
     "name": "stderr",
     "output_type": "stream",
     "text": [
      "filtration landscape: 100%|██████████| 122500/122500 [00:41<00:00, 2976.50it/s]\n"
     ]
    },
    {
     "name": "stdout",
     "output_type": "stream",
     "text": [
      "Calculating silhouette features\n"
     ]
    },
    {
     "name": "stderr",
     "output_type": "stream",
     "text": [
      "filtration silhouette-1: 100%|██████████| 122500/122500 [00:40<00:00, 3011.48it/s]\n",
      "filtration silhouette-2: 100%|██████████| 122500/122500 [00:43<00:00, 2843.11it/s]\n"
     ]
    },
    {
     "name": "stdout",
     "output_type": "stream",
     "text": [
      "Calculating entropy features\n",
      "Calculating number of points features\n",
      "Calculating amplitude features\n"
     ]
    },
    {
     "name": "stderr",
     "output_type": "stream",
     "text": [
      "filtration amplitudes: 100%|██████████| 17/17 [01:16<00:00,  4.52s/it]\n"
     ]
    },
    {
     "name": "stdout",
     "output_type": "stream",
     "text": [
      "Calculating lifetime features\n"
     ]
    },
    {
     "name": "stderr",
     "output_type": "stream",
     "text": [
      "filtration lifetime: 100%|██████████| 122500/122500 [01:56<00:00, 1050.70it/s]\n",
      "point_clouds: 100%|██████████| 2500/2500 [00:03<00:00, 637.29it/s]\n"
     ]
    },
    {
     "name": "stdout",
     "output_type": "stream",
     "text": [
      "Making point cloud diagrams\n",
      "Filtered diagrams: (5000, 314, 3)\n",
      "Calculating Betti features\n"
     ]
    },
    {
     "name": "stderr",
     "output_type": "stream",
     "text": [
      "point_cloud betti: 100%|██████████| 5000/5000 [00:02<00:00, 1835.59it/s]\n"
     ]
    },
    {
     "name": "stdout",
     "output_type": "stream",
     "text": [
      "Calculating landscape features\n"
     ]
    },
    {
     "name": "stderr",
     "output_type": "stream",
     "text": [
      "point_cloud landscape: 100%|██████████| 5000/5000 [00:02<00:00, 1905.79it/s]\n"
     ]
    },
    {
     "name": "stdout",
     "output_type": "stream",
     "text": [
      "Calculating silhouette features\n"
     ]
    },
    {
     "name": "stderr",
     "output_type": "stream",
     "text": [
      "point_cloud silhouette-1: 100%|██████████| 5000/5000 [00:02<00:00, 1917.73it/s]\n",
      "point_cloud silhouette-2: 100%|██████████| 5000/5000 [00:02<00:00, 1914.69it/s]\n"
     ]
    },
    {
     "name": "stdout",
     "output_type": "stream",
     "text": [
      "Calculating entropy features\n",
      "Calculating number of points features\n",
      "Calculating amplitude features\n"
     ]
    },
    {
     "name": "stderr",
     "output_type": "stream",
     "text": [
      "point_cloud amplitudes: 100%|██████████| 17/17 [00:13<00:00,  1.23it/s]\n"
     ]
    },
    {
     "name": "stdout",
     "output_type": "stream",
     "text": [
      "Calculating lifetime features\n"
     ]
    },
    {
     "name": "stderr",
     "output_type": "stream",
     "text": [
      "point_cloud lifetime: 100%|██████████| 5000/5000 [00:08<00:00, 608.05it/s]\n",
      "combine features: 100%|██████████| 2500/2500 [00:01<00:00, 1584.74it/s]\n"
     ]
    },
    {
     "name": "stdout",
     "output_type": "stream",
     "text": [
      "Calculating 2500 - 5000\n"
     ]
    },
    {
     "name": "stderr",
     "output_type": "stream",
     "text": [
      "filtrations: 100%|██████████| 47/47 [00:08<00:00,  5.34it/s]\n"
     ]
    },
    {
     "name": "stdout",
     "output_type": "stream",
     "text": [
      "Making filtration diagrams\n",
      "Filtered diagrams: (122500, 72, 3)\n",
      "Calculating Betti features\n"
     ]
    },
    {
     "name": "stderr",
     "output_type": "stream",
     "text": [
      "filtration betti: 100%|██████████| 122500/122500 [00:42<00:00, 2896.55it/s]\n"
     ]
    },
    {
     "name": "stdout",
     "output_type": "stream",
     "text": [
      "Calculating landscape features\n"
     ]
    },
    {
     "name": "stderr",
     "output_type": "stream",
     "text": [
      "filtration landscape: 100%|██████████| 122500/122500 [00:42<00:00, 2866.93it/s]\n"
     ]
    },
    {
     "name": "stdout",
     "output_type": "stream",
     "text": [
      "Calculating silhouette features\n"
     ]
    },
    {
     "name": "stderr",
     "output_type": "stream",
     "text": [
      "filtration silhouette-1: 100%|██████████| 122500/122500 [00:42<00:00, 2908.36it/s]\n",
      "filtration silhouette-2: 100%|██████████| 122500/122500 [00:41<00:00, 2927.36it/s]\n"
     ]
    },
    {
     "name": "stdout",
     "output_type": "stream",
     "text": [
      "Calculating entropy features\n",
      "Calculating number of points features\n",
      "Calculating amplitude features\n"
     ]
    },
    {
     "name": "stderr",
     "output_type": "stream",
     "text": [
      "filtration amplitudes: 100%|██████████| 17/17 [01:24<00:00,  4.98s/it]\n"
     ]
    },
    {
     "name": "stdout",
     "output_type": "stream",
     "text": [
      "Calculating lifetime features\n"
     ]
    },
    {
     "name": "stderr",
     "output_type": "stream",
     "text": [
      "filtration lifetime: 100%|██████████| 122500/122500 [01:52<00:00, 1087.58it/s]\n",
      "point_clouds: 100%|██████████| 2500/2500 [00:01<00:00, 1264.62it/s]\n"
     ]
    },
    {
     "name": "stdout",
     "output_type": "stream",
     "text": [
      "Making point cloud diagrams\n",
      "Filtered diagrams: (5000, 331, 3)\n",
      "Calculating Betti features\n"
     ]
    },
    {
     "name": "stderr",
     "output_type": "stream",
     "text": [
      "point_cloud betti: 100%|██████████| 5000/5000 [00:02<00:00, 1931.68it/s]\n"
     ]
    },
    {
     "name": "stdout",
     "output_type": "stream",
     "text": [
      "Calculating landscape features\n"
     ]
    },
    {
     "name": "stderr",
     "output_type": "stream",
     "text": [
      "point_cloud landscape: 100%|██████████| 5000/5000 [00:02<00:00, 1937.96it/s]\n"
     ]
    },
    {
     "name": "stdout",
     "output_type": "stream",
     "text": [
      "Calculating silhouette features\n"
     ]
    },
    {
     "name": "stderr",
     "output_type": "stream",
     "text": [
      "point_cloud silhouette-1: 100%|██████████| 5000/5000 [00:02<00:00, 1713.00it/s]\n",
      "point_cloud silhouette-2: 100%|██████████| 5000/5000 [00:02<00:00, 1866.97it/s]\n"
     ]
    },
    {
     "name": "stdout",
     "output_type": "stream",
     "text": [
      "Calculating entropy features\n",
      "Calculating number of points features\n",
      "Calculating amplitude features\n"
     ]
    },
    {
     "name": "stderr",
     "output_type": "stream",
     "text": [
      "point_cloud amplitudes: 100%|██████████| 17/17 [00:12<00:00,  1.32it/s]\n"
     ]
    },
    {
     "name": "stdout",
     "output_type": "stream",
     "text": [
      "Calculating lifetime features\n"
     ]
    },
    {
     "name": "stderr",
     "output_type": "stream",
     "text": [
      "point_cloud lifetime: 100%|██████████| 5000/5000 [00:07<00:00, 640.39it/s]\n",
      "combine features: 100%|██████████| 2500/2500 [00:01<00:00, 2491.56it/s]\n"
     ]
    },
    {
     "name": "stdout",
     "output_type": "stream",
     "text": [
      "Calculating 5000 - 7500\n"
     ]
    },
    {
     "name": "stderr",
     "output_type": "stream",
     "text": [
      "filtrations: 100%|██████████| 47/47 [00:08<00:00,  5.67it/s]\n"
     ]
    },
    {
     "name": "stdout",
     "output_type": "stream",
     "text": [
      "Making filtration diagrams\n",
      "Filtered diagrams: (122500, 60, 3)\n",
      "Calculating Betti features\n"
     ]
    },
    {
     "name": "stderr",
     "output_type": "stream",
     "text": [
      "filtration betti: 100%|██████████| 122500/122500 [00:41<00:00, 2977.84it/s]\n"
     ]
    },
    {
     "name": "stdout",
     "output_type": "stream",
     "text": [
      "Calculating landscape features\n"
     ]
    },
    {
     "name": "stderr",
     "output_type": "stream",
     "text": [
      "filtration landscape: 100%|██████████| 122500/122500 [00:41<00:00, 2923.66it/s]\n"
     ]
    },
    {
     "name": "stdout",
     "output_type": "stream",
     "text": [
      "Calculating silhouette features\n"
     ]
    },
    {
     "name": "stderr",
     "output_type": "stream",
     "text": [
      "filtration silhouette-1: 100%|██████████| 122500/122500 [00:40<00:00, 3027.95it/s]\n",
      "filtration silhouette-2: 100%|██████████| 122500/122500 [00:40<00:00, 3038.26it/s]\n"
     ]
    },
    {
     "name": "stdout",
     "output_type": "stream",
     "text": [
      "Calculating entropy features\n",
      "Calculating number of points features\n",
      "Calculating amplitude features\n"
     ]
    },
    {
     "name": "stderr",
     "output_type": "stream",
     "text": [
      "filtration amplitudes: 100%|██████████| 17/17 [01:13<00:00,  4.32s/it]\n"
     ]
    },
    {
     "name": "stdout",
     "output_type": "stream",
     "text": [
      "Calculating lifetime features\n"
     ]
    },
    {
     "name": "stderr",
     "output_type": "stream",
     "text": [
      "filtration lifetime: 100%|██████████| 122500/122500 [01:51<00:00, 1097.65it/s]\n",
      "point_clouds: 100%|██████████| 2500/2500 [00:02<00:00, 1242.71it/s]\n"
     ]
    },
    {
     "name": "stdout",
     "output_type": "stream",
     "text": [
      "Making point cloud diagrams\n",
      "Filtered diagrams: (5000, 307, 3)\n",
      "Calculating Betti features\n"
     ]
    },
    {
     "name": "stderr",
     "output_type": "stream",
     "text": [
      "point_cloud betti: 100%|██████████| 5000/5000 [00:02<00:00, 1925.89it/s]\n"
     ]
    },
    {
     "name": "stdout",
     "output_type": "stream",
     "text": [
      "Calculating landscape features\n"
     ]
    },
    {
     "name": "stderr",
     "output_type": "stream",
     "text": [
      "point_cloud landscape: 100%|██████████| 5000/5000 [00:02<00:00, 1849.64it/s]\n"
     ]
    },
    {
     "name": "stdout",
     "output_type": "stream",
     "text": [
      "Calculating silhouette features\n"
     ]
    },
    {
     "name": "stderr",
     "output_type": "stream",
     "text": [
      "point_cloud silhouette-1: 100%|██████████| 5000/5000 [00:02<00:00, 1828.87it/s]\n",
      "point_cloud silhouette-2: 100%|██████████| 5000/5000 [00:02<00:00, 1878.84it/s]\n"
     ]
    },
    {
     "name": "stdout",
     "output_type": "stream",
     "text": [
      "Calculating entropy features\n",
      "Calculating number of points features\n",
      "Calculating amplitude features\n"
     ]
    },
    {
     "name": "stderr",
     "output_type": "stream",
     "text": [
      "point_cloud amplitudes: 100%|██████████| 17/17 [00:14<00:00,  1.19it/s]\n"
     ]
    },
    {
     "name": "stdout",
     "output_type": "stream",
     "text": [
      "Calculating lifetime features\n"
     ]
    },
    {
     "name": "stderr",
     "output_type": "stream",
     "text": [
      "point_cloud lifetime: 100%|██████████| 5000/5000 [00:07<00:00, 639.21it/s] \n",
      "combine features: 100%|██████████| 2500/2500 [00:00<00:00, 2575.55it/s]\n"
     ]
    },
    {
     "name": "stdout",
     "output_type": "stream",
     "text": [
      "Calculating 7500 - 10000\n"
     ]
    },
    {
     "name": "stderr",
     "output_type": "stream",
     "text": [
      "filtrations: 100%|██████████| 47/47 [00:08<00:00,  5.70it/s]\n"
     ]
    },
    {
     "name": "stdout",
     "output_type": "stream",
     "text": [
      "Making filtration diagrams\n",
      "Filtered diagrams: (122500, 62, 3)\n",
      "Calculating Betti features\n"
     ]
    },
    {
     "name": "stderr",
     "output_type": "stream",
     "text": [
      "filtration betti: 100%|██████████| 122500/122500 [00:40<00:00, 2988.06it/s]\n"
     ]
    },
    {
     "name": "stdout",
     "output_type": "stream",
     "text": [
      "Calculating landscape features\n"
     ]
    },
    {
     "name": "stderr",
     "output_type": "stream",
     "text": [
      "filtration landscape: 100%|██████████| 122500/122500 [00:40<00:00, 3015.45it/s]\n"
     ]
    },
    {
     "name": "stdout",
     "output_type": "stream",
     "text": [
      "Calculating silhouette features\n"
     ]
    },
    {
     "name": "stderr",
     "output_type": "stream",
     "text": [
      "filtration silhouette-1: 100%|██████████| 122500/122500 [00:40<00:00, 3016.72it/s]\n",
      "filtration silhouette-2: 100%|██████████| 122500/122500 [00:40<00:00, 3056.33it/s]\n"
     ]
    },
    {
     "name": "stdout",
     "output_type": "stream",
     "text": [
      "Calculating entropy features\n",
      "Calculating number of points features\n",
      "Calculating amplitude features\n"
     ]
    },
    {
     "name": "stderr",
     "output_type": "stream",
     "text": [
      "filtration amplitudes: 100%|██████████| 17/17 [01:14<00:00,  4.39s/it]\n"
     ]
    },
    {
     "name": "stdout",
     "output_type": "stream",
     "text": [
      "Calculating lifetime features\n"
     ]
    },
    {
     "name": "stderr",
     "output_type": "stream",
     "text": [
      "filtration lifetime: 100%|██████████| 122500/122500 [01:49<00:00, 1113.67it/s]\n",
      "point_clouds: 100%|██████████| 2500/2500 [00:02<00:00, 1233.01it/s]\n"
     ]
    },
    {
     "name": "stdout",
     "output_type": "stream",
     "text": [
      "Making point cloud diagrams\n",
      "Filtered diagrams: (5000, 325, 3)\n",
      "Calculating Betti features\n"
     ]
    },
    {
     "name": "stderr",
     "output_type": "stream",
     "text": [
      "point_cloud betti: 100%|██████████| 5000/5000 [00:02<00:00, 1892.61it/s]\n"
     ]
    },
    {
     "name": "stdout",
     "output_type": "stream",
     "text": [
      "Calculating landscape features\n"
     ]
    },
    {
     "name": "stderr",
     "output_type": "stream",
     "text": [
      "point_cloud landscape: 100%|██████████| 5000/5000 [00:02<00:00, 1958.14it/s]\n"
     ]
    },
    {
     "name": "stdout",
     "output_type": "stream",
     "text": [
      "Calculating silhouette features\n"
     ]
    },
    {
     "name": "stderr",
     "output_type": "stream",
     "text": [
      "point_cloud silhouette-1: 100%|██████████| 5000/5000 [00:02<00:00, 1895.34it/s]\n",
      "point_cloud silhouette-2: 100%|██████████| 5000/5000 [00:02<00:00, 1857.95it/s]\n"
     ]
    },
    {
     "name": "stdout",
     "output_type": "stream",
     "text": [
      "Calculating entropy features\n",
      "Calculating number of points features\n",
      "Calculating amplitude features\n"
     ]
    },
    {
     "name": "stderr",
     "output_type": "stream",
     "text": [
      "point_cloud amplitudes: 100%|██████████| 17/17 [00:12<00:00,  1.32it/s]\n"
     ]
    },
    {
     "name": "stdout",
     "output_type": "stream",
     "text": [
      "Calculating lifetime features\n"
     ]
    },
    {
     "name": "stderr",
     "output_type": "stream",
     "text": [
      "point_cloud lifetime: 100%|██████████| 5000/5000 [00:07<00:00, 658.14it/s]\n",
      "combine features: 100%|██████████| 2500/2500 [00:00<00:00, 2540.88it/s]\n"
     ]
    }
   ],
   "source": [
    "test_features = None\n",
    "for i in range(0, 10000, 2500):\n",
    "    print(f'Calculating {i} - {i + 2500}')\n",
    "    test_features_batch = make_features(test_images[i:i + 2500])\n",
    "    if test_features is None:\n",
    "        test_features = test_features_batch\n",
    "    else:\n",
    "        test_features = numpy.concatenate((test_features, test_features_batch), axis = 0)\n",
    "    numpy.save(\"test_features.npy\", test_features)"
   ]
  },
  {
   "cell_type": "code",
   "execution_count": 9,
   "metadata": {},
   "outputs": [],
   "source": [
    "train_features = numpy.load(\"train_features.npy\")\n",
    "test_features = numpy.load(\"test_features.npy\")"
   ]
  },
  {
   "cell_type": "code",
   "execution_count": 4,
   "metadata": {},
   "outputs": [],
   "source": [
    "train_features = numpy.minimum(train_features, 1e9)\n",
    "test_features = numpy.minimum(test_features, 1e9)"
   ]
  },
  {
   "cell_type": "code",
   "execution_count": 5,
   "metadata": {},
   "outputs": [
    {
     "name": "stdout",
     "output_type": "stream",
     "text": [
      "0.9736\n"
     ]
    }
   ],
   "source": [
    "rf = sklearn.ensemble.RandomForestClassifier(n_jobs = -1, n_estimators = 1000)\n",
    "rf.fit(train_features, train_labels)\n",
    "print(rf.score(test_features, test_labels))"
   ]
  },
  {
   "cell_type": "code",
   "execution_count": 8,
   "metadata": {},
   "outputs": [
    {
     "name": "stdout",
     "output_type": "stream",
     "text": [
      "Explained variance 1.0\n",
      "[0.476, 0.381, 0.143, 0.0, 0.0, 0.0, 0.0, 0.0]\n"
     ]
    }
   ],
   "source": [
    "pca = sklearn.decomposition.PCA(n_components = 8, random_state = 42)\n",
    "train_features_reduced = pca.fit_transform(train_features)\n",
    "print('Explained variance', round(pca.explained_variance_ratio_.sum(), 2))\n",
    "print([ round(x, 3) for x in pca.explained_variance_ratio_ ])\n",
    "test_features_reduced = pca.transform(test_features)"
   ]
  },
  {
   "cell_type": "code",
   "execution_count": null,
   "metadata": {},
   "outputs": [],
   "source": [
    "rf_reduced = sklearn.ensemble.RandomForestClassifier(n_jobs = -1, n_estimators = 10000)\n",
    "rf_reduced.fit(train_features_reduced, train_labels)\n",
    "print(rf_reduced.score(test_features_reduced, test_labels))"
   ]
  }
 ],
 "metadata": {
  "kernelspec": {
   "display_name": "Python 3",
   "language": "python",
   "name": "python3"
  },
  "language_info": {
   "codemirror_mode": {
    "name": "ipython",
    "version": 3
   },
   "file_extension": ".py",
   "mimetype": "text/x-python",
   "name": "python",
   "nbconvert_exporter": "python",
   "pygments_lexer": "ipython3",
   "version": "3.10.11"
  }
 },
 "nbformat": 4,
 "nbformat_minor": 2
}
