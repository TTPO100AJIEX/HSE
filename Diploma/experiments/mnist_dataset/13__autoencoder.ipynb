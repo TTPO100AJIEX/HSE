{
 "cells": [
  {
   "cell_type": "code",
   "execution_count": 1,
   "metadata": {},
   "outputs": [],
   "source": [
    "import numpy\n",
    "import torchvision\n",
    "\n",
    "train = torchvision.datasets.MNIST('mnist', train = True, download = False)\n",
    "test = torchvision.datasets.MNIST('mnist', train = False, download = False)\n",
    "\n",
    "train_images = numpy.array([ numpy.array(item[0]) / 255 for item in train ])\n",
    "train_labels = numpy.array([ item[1] for item in train ])\n",
    "\n",
    "test_images = numpy.array([ numpy.array(item[0]) / 255 for item in test ])\n",
    "test_labels = numpy.array([ item[1] for item in test ])"
   ]
  },
  {
   "cell_type": "code",
   "execution_count": 2,
   "metadata": {},
   "outputs": [
    {
     "name": "stdout",
     "output_type": "stream",
     "text": [
      "Calculating inverted images\n",
      "Got the result from ./12/train/greyscale/features.npy\n",
      "Got the result from ./12/train/greyscale/features.npy\n",
      "Got the result from ./12/train/inverted_greyscale/features.npy\n",
      "Got the result from ./12/train/inverted_greyscale/features.npy\n",
      "Fitting filtrations\n",
      "Calculated radial centers for images of size 28x28: [ 4 10 17 23]x[ 4 10 17 23]\n",
      "Fitting filtration 1/72: 2/HeightFiltrartion_-1_-1\n",
      "Got the result from ./12/train/filtrations/2/HeightFiltrartion_-1_-1/features.npy\n",
      "Fitting filtration 2/72: 2/HeightFiltrartion_1_1\n",
      "Got the result from ./12/train/filtrations/2/HeightFiltrartion_1_1/features.npy\n",
      "Fitting filtration 3/72: 2/HeightFiltrartion_1_-1\n",
      "Got the result from ./12/train/filtrations/2/HeightFiltrartion_1_-1/features.npy\n",
      "Fitting filtration 4/72: 2/HeightFiltrartion_-1_1\n",
      "Got the result from ./12/train/filtrations/2/HeightFiltrartion_-1_1/features.npy\n",
      "Fitting filtration 5/72: 2/HeightFiltrartion_0_-1\n",
      "Got the result from ./12/train/filtrations/2/HeightFiltrartion_0_-1/features.npy\n",
      "Fitting filtration 6/72: 2/HeightFiltrartion_0_1\n",
      "Got the result from ./12/train/filtrations/2/HeightFiltrartion_0_1/features.npy\n",
      "Fitting filtration 7/72: 2/HeightFiltrartion_-1_0\n",
      "Got the result from ./12/train/filtrations/2/HeightFiltrartion_-1_0/features.npy\n",
      "Fitting filtration 8/72: 2/HeightFiltrartion_1_0\n",
      "Got the result from ./12/train/filtrations/2/HeightFiltrartion_1_0/features.npy\n",
      "Fitting filtration 9/72: 2/RadialFiltration_4_4\n",
      "Got the result from ./12/train/filtrations/2/RadialFiltration_4_4/features.npy\n",
      "Fitting filtration 10/72: 2/RadialFiltration_4_10\n",
      "Got the result from ./12/train/filtrations/2/RadialFiltration_4_10/features.npy\n",
      "Fitting filtration 11/72: 2/RadialFiltration_4_17\n",
      "Got the result from ./12/train/filtrations/2/RadialFiltration_4_17/features.npy\n",
      "Fitting filtration 12/72: 2/RadialFiltration_4_23\n",
      "Got the result from ./12/train/filtrations/2/RadialFiltration_4_23/features.npy\n",
      "Fitting filtration 13/72: 2/RadialFiltration_10_4\n",
      "Got the result from ./12/train/filtrations/2/RadialFiltration_10_4/features.npy\n",
      "Fitting filtration 14/72: 2/RadialFiltration_10_10\n",
      "Got the result from ./12/train/filtrations/2/RadialFiltration_10_10/features.npy\n",
      "Fitting filtration 15/72: 2/RadialFiltration_10_17\n",
      "Got the result from ./12/train/filtrations/2/RadialFiltration_10_17/features.npy\n",
      "Fitting filtration 16/72: 2/RadialFiltration_10_23\n",
      "Got the result from ./12/train/filtrations/2/RadialFiltration_10_23/features.npy\n",
      "Fitting filtration 17/72: 2/RadialFiltration_17_4\n",
      "Got the result from ./12/train/filtrations/2/RadialFiltration_17_4/features.npy\n",
      "Fitting filtration 18/72: 2/RadialFiltration_17_10\n",
      "Got the result from ./12/train/filtrations/2/RadialFiltration_17_10/features.npy\n",
      "Fitting filtration 19/72: 2/RadialFiltration_17_17\n",
      "Got the result from ./12/train/filtrations/2/RadialFiltration_17_17/features.npy\n",
      "Fitting filtration 20/72: 2/RadialFiltration_17_23\n",
      "Got the result from ./12/train/filtrations/2/RadialFiltration_17_23/features.npy\n",
      "Fitting filtration 21/72: 2/RadialFiltration_23_4\n",
      "Got the result from ./12/train/filtrations/2/RadialFiltration_23_4/features.npy\n",
      "Fitting filtration 22/72: 2/RadialFiltration_23_10\n",
      "Got the result from ./12/train/filtrations/2/RadialFiltration_23_10/features.npy\n",
      "Fitting filtration 23/72: 2/RadialFiltration_23_17\n",
      "Got the result from ./12/train/filtrations/2/RadialFiltration_23_17/features.npy\n",
      "Fitting filtration 24/72: 2/RadialFiltration_23_23\n",
      "Got the result from ./12/train/filtrations/2/RadialFiltration_23_23/features.npy\n",
      "Fitting filtration 25/72: 4/HeightFiltrartion_-1_-1\n",
      "Got the result from ./12/train/filtrations/4/HeightFiltrartion_-1_-1/features.npy\n",
      "Fitting filtration 26/72: 4/HeightFiltrartion_1_1\n",
      "Got the result from ./12/train/filtrations/4/HeightFiltrartion_1_1/features.npy\n",
      "Fitting filtration 27/72: 4/HeightFiltrartion_1_-1\n",
      "Got the result from ./12/train/filtrations/4/HeightFiltrartion_1_-1/features.npy\n",
      "Fitting filtration 28/72: 4/HeightFiltrartion_-1_1\n",
      "Got the result from ./12/train/filtrations/4/HeightFiltrartion_-1_1/features.npy\n",
      "Fitting filtration 29/72: 4/HeightFiltrartion_0_-1\n",
      "Got the result from ./12/train/filtrations/4/HeightFiltrartion_0_-1/features.npy\n",
      "Fitting filtration 30/72: 4/HeightFiltrartion_0_1\n",
      "Got the result from ./12/train/filtrations/4/HeightFiltrartion_0_1/features.npy\n",
      "Fitting filtration 31/72: 4/HeightFiltrartion_-1_0\n",
      "Got the result from ./12/train/filtrations/4/HeightFiltrartion_-1_0/features.npy\n",
      "Fitting filtration 32/72: 4/HeightFiltrartion_1_0\n",
      "Got the result from ./12/train/filtrations/4/HeightFiltrartion_1_0/features.npy\n",
      "Fitting filtration 33/72: 4/RadialFiltration_4_4\n",
      "Got the result from ./12/train/filtrations/4/RadialFiltration_4_4/features.npy\n",
      "Fitting filtration 34/72: 4/RadialFiltration_4_10\n",
      "Got the result from ./12/train/filtrations/4/RadialFiltration_4_10/features.npy\n",
      "Fitting filtration 35/72: 4/RadialFiltration_4_17\n",
      "Got the result from ./12/train/filtrations/4/RadialFiltration_4_17/features.npy\n",
      "Fitting filtration 36/72: 4/RadialFiltration_4_23\n",
      "Got the result from ./12/train/filtrations/4/RadialFiltration_4_23/features.npy\n",
      "Fitting filtration 37/72: 4/RadialFiltration_10_4\n",
      "Got the result from ./12/train/filtrations/4/RadialFiltration_10_4/features.npy\n",
      "Fitting filtration 38/72: 4/RadialFiltration_10_10\n",
      "Got the result from ./12/train/filtrations/4/RadialFiltration_10_10/features.npy\n",
      "Fitting filtration 39/72: 4/RadialFiltration_10_17\n",
      "Got the result from ./12/train/filtrations/4/RadialFiltration_10_17/features.npy\n",
      "Fitting filtration 40/72: 4/RadialFiltration_10_23\n",
      "Got the result from ./12/train/filtrations/4/RadialFiltration_10_23/features.npy\n",
      "Fitting filtration 41/72: 4/RadialFiltration_17_4\n",
      "Got the result from ./12/train/filtrations/4/RadialFiltration_17_4/features.npy\n",
      "Fitting filtration 42/72: 4/RadialFiltration_17_10\n",
      "Got the result from ./12/train/filtrations/4/RadialFiltration_17_10/features.npy\n",
      "Fitting filtration 43/72: 4/RadialFiltration_17_17\n",
      "Got the result from ./12/train/filtrations/4/RadialFiltration_17_17/features.npy\n",
      "Fitting filtration 44/72: 4/RadialFiltration_17_23\n",
      "Got the result from ./12/train/filtrations/4/RadialFiltration_17_23/features.npy\n",
      "Fitting filtration 45/72: 4/RadialFiltration_23_4\n",
      "Got the result from ./12/train/filtrations/4/RadialFiltration_23_4/features.npy\n",
      "Fitting filtration 46/72: 4/RadialFiltration_23_10\n",
      "Got the result from ./12/train/filtrations/4/RadialFiltration_23_10/features.npy\n",
      "Fitting filtration 47/72: 4/RadialFiltration_23_17\n",
      "Got the result from ./12/train/filtrations/4/RadialFiltration_23_17/features.npy\n",
      "Fitting filtration 48/72: 4/RadialFiltration_23_23\n",
      "Got the result from ./12/train/filtrations/4/RadialFiltration_23_23/features.npy\n",
      "Fitting filtration 49/72: 6/HeightFiltrartion_-1_-1\n",
      "Got the result from ./12/train/filtrations/6/HeightFiltrartion_-1_-1/features.npy\n",
      "Fitting filtration 50/72: 6/HeightFiltrartion_1_1\n",
      "Got the result from ./12/train/filtrations/6/HeightFiltrartion_1_1/features.npy\n",
      "Fitting filtration 51/72: 6/HeightFiltrartion_1_-1\n",
      "Got the result from ./12/train/filtrations/6/HeightFiltrartion_1_-1/features.npy\n",
      "Fitting filtration 52/72: 6/HeightFiltrartion_-1_1\n",
      "Got the result from ./12/train/filtrations/6/HeightFiltrartion_-1_1/features.npy\n",
      "Fitting filtration 53/72: 6/HeightFiltrartion_0_-1\n",
      "Got the result from ./12/train/filtrations/6/HeightFiltrartion_0_-1/features.npy\n",
      "Fitting filtration 54/72: 6/HeightFiltrartion_0_1\n",
      "Got the result from ./12/train/filtrations/6/HeightFiltrartion_0_1/features.npy\n",
      "Fitting filtration 55/72: 6/HeightFiltrartion_-1_0\n",
      "Got the result from ./12/train/filtrations/6/HeightFiltrartion_-1_0/features.npy\n",
      "Fitting filtration 56/72: 6/HeightFiltrartion_1_0\n",
      "Got the result from ./12/train/filtrations/6/HeightFiltrartion_1_0/features.npy\n",
      "Fitting filtration 57/72: 6/RadialFiltration_4_4\n",
      "Got the result from ./12/train/filtrations/6/RadialFiltration_4_4/features.npy\n",
      "Fitting filtration 58/72: 6/RadialFiltration_4_10\n",
      "Got the result from ./12/train/filtrations/6/RadialFiltration_4_10/features.npy\n",
      "Fitting filtration 59/72: 6/RadialFiltration_4_17\n",
      "Got the result from ./12/train/filtrations/6/RadialFiltration_4_17/features.npy\n",
      "Fitting filtration 60/72: 6/RadialFiltration_4_23\n",
      "Got the result from ./12/train/filtrations/6/RadialFiltration_4_23/features.npy\n",
      "Fitting filtration 61/72: 6/RadialFiltration_10_4\n",
      "Got the result from ./12/train/filtrations/6/RadialFiltration_10_4/features.npy\n",
      "Fitting filtration 62/72: 6/RadialFiltration_10_10\n",
      "Got the result from ./12/train/filtrations/6/RadialFiltration_10_10/features.npy\n",
      "Fitting filtration 63/72: 6/RadialFiltration_10_17\n",
      "Got the result from ./12/train/filtrations/6/RadialFiltration_10_17/features.npy\n",
      "Fitting filtration 64/72: 6/RadialFiltration_10_23\n",
      "Got the result from ./12/train/filtrations/6/RadialFiltration_10_23/features.npy\n",
      "Fitting filtration 65/72: 6/RadialFiltration_17_4\n",
      "Got the result from ./12/train/filtrations/6/RadialFiltration_17_4/features.npy\n",
      "Fitting filtration 66/72: 6/RadialFiltration_17_10\n",
      "Got the result from ./12/train/filtrations/6/RadialFiltration_17_10/features.npy\n",
      "Fitting filtration 67/72: 6/RadialFiltration_17_17\n",
      "Got the result from ./12/train/filtrations/6/RadialFiltration_17_17/features.npy\n",
      "Fitting filtration 68/72: 6/RadialFiltration_17_23\n",
      "Got the result from ./12/train/filtrations/6/RadialFiltration_17_23/features.npy\n",
      "Fitting filtration 69/72: 6/RadialFiltration_23_4\n",
      "Got the result from ./12/train/filtrations/6/RadialFiltration_23_4/features.npy\n",
      "Fitting filtration 70/72: 6/RadialFiltration_23_10\n",
      "Got the result from ./12/train/filtrations/6/RadialFiltration_23_10/features.npy\n",
      "Fitting filtration 71/72: 6/RadialFiltration_23_17\n",
      "Got the result from ./12/train/filtrations/6/RadialFiltration_23_17/features.npy\n",
      "Fitting filtration 72/72: 6/RadialFiltration_23_23\n",
      "Got the result from ./12/train/filtrations/6/RadialFiltration_23_23/features.npy\n",
      "Applying filtrations\n",
      "Applying filtration 1/72: 2/HeightFiltrartion_-1_-1\n",
      "Got the result from ./12/train/filtrations/2/HeightFiltrartion_-1_-1/features.npy\n",
      "Applying filtration 2/72: 2/HeightFiltrartion_1_1\n",
      "Got the result from ./12/train/filtrations/2/HeightFiltrartion_1_1/features.npy\n",
      "Applying filtration 3/72: 2/HeightFiltrartion_1_-1\n",
      "Got the result from ./12/train/filtrations/2/HeightFiltrartion_1_-1/features.npy\n",
      "Applying filtration 4/72: 2/HeightFiltrartion_-1_1\n",
      "Got the result from ./12/train/filtrations/2/HeightFiltrartion_-1_1/features.npy\n",
      "Applying filtration 5/72: 2/HeightFiltrartion_0_-1\n",
      "Got the result from ./12/train/filtrations/2/HeightFiltrartion_0_-1/features.npy\n",
      "Applying filtration 6/72: 2/HeightFiltrartion_0_1\n",
      "Got the result from ./12/train/filtrations/2/HeightFiltrartion_0_1/features.npy\n",
      "Applying filtration 7/72: 2/HeightFiltrartion_-1_0\n",
      "Got the result from ./12/train/filtrations/2/HeightFiltrartion_-1_0/features.npy\n",
      "Applying filtration 8/72: 2/HeightFiltrartion_1_0\n",
      "Got the result from ./12/train/filtrations/2/HeightFiltrartion_1_0/features.npy\n",
      "Applying filtration 9/72: 2/RadialFiltration_4_4\n",
      "Got the result from ./12/train/filtrations/2/RadialFiltration_4_4/features.npy\n",
      "Applying filtration 10/72: 2/RadialFiltration_4_10\n",
      "Got the result from ./12/train/filtrations/2/RadialFiltration_4_10/features.npy\n",
      "Applying filtration 11/72: 2/RadialFiltration_4_17\n",
      "Got the result from ./12/train/filtrations/2/RadialFiltration_4_17/features.npy\n",
      "Applying filtration 12/72: 2/RadialFiltration_4_23\n",
      "Got the result from ./12/train/filtrations/2/RadialFiltration_4_23/features.npy\n",
      "Applying filtration 13/72: 2/RadialFiltration_10_4\n",
      "Got the result from ./12/train/filtrations/2/RadialFiltration_10_4/features.npy\n",
      "Applying filtration 14/72: 2/RadialFiltration_10_10\n",
      "Got the result from ./12/train/filtrations/2/RadialFiltration_10_10/features.npy\n",
      "Applying filtration 15/72: 2/RadialFiltration_10_17\n",
      "Got the result from ./12/train/filtrations/2/RadialFiltration_10_17/features.npy\n",
      "Applying filtration 16/72: 2/RadialFiltration_10_23\n",
      "Got the result from ./12/train/filtrations/2/RadialFiltration_10_23/features.npy\n",
      "Applying filtration 17/72: 2/RadialFiltration_17_4\n",
      "Got the result from ./12/train/filtrations/2/RadialFiltration_17_4/features.npy\n",
      "Applying filtration 18/72: 2/RadialFiltration_17_10\n",
      "Got the result from ./12/train/filtrations/2/RadialFiltration_17_10/features.npy\n",
      "Applying filtration 19/72: 2/RadialFiltration_17_17\n",
      "Got the result from ./12/train/filtrations/2/RadialFiltration_17_17/features.npy\n",
      "Applying filtration 20/72: 2/RadialFiltration_17_23\n",
      "Got the result from ./12/train/filtrations/2/RadialFiltration_17_23/features.npy\n",
      "Applying filtration 21/72: 2/RadialFiltration_23_4\n",
      "Got the result from ./12/train/filtrations/2/RadialFiltration_23_4/features.npy\n",
      "Applying filtration 22/72: 2/RadialFiltration_23_10\n",
      "Got the result from ./12/train/filtrations/2/RadialFiltration_23_10/features.npy\n",
      "Applying filtration 23/72: 2/RadialFiltration_23_17\n",
      "Got the result from ./12/train/filtrations/2/RadialFiltration_23_17/features.npy\n",
      "Applying filtration 24/72: 2/RadialFiltration_23_23\n",
      "Got the result from ./12/train/filtrations/2/RadialFiltration_23_23/features.npy\n",
      "Applying filtration 25/72: 4/HeightFiltrartion_-1_-1\n",
      "Got the result from ./12/train/filtrations/4/HeightFiltrartion_-1_-1/features.npy\n",
      "Applying filtration 26/72: 4/HeightFiltrartion_1_1\n",
      "Got the result from ./12/train/filtrations/4/HeightFiltrartion_1_1/features.npy\n",
      "Applying filtration 27/72: 4/HeightFiltrartion_1_-1\n",
      "Got the result from ./12/train/filtrations/4/HeightFiltrartion_1_-1/features.npy\n",
      "Applying filtration 28/72: 4/HeightFiltrartion_-1_1\n",
      "Got the result from ./12/train/filtrations/4/HeightFiltrartion_-1_1/features.npy\n",
      "Applying filtration 29/72: 4/HeightFiltrartion_0_-1\n",
      "Got the result from ./12/train/filtrations/4/HeightFiltrartion_0_-1/features.npy\n",
      "Applying filtration 30/72: 4/HeightFiltrartion_0_1\n",
      "Got the result from ./12/train/filtrations/4/HeightFiltrartion_0_1/features.npy\n",
      "Applying filtration 31/72: 4/HeightFiltrartion_-1_0\n",
      "Got the result from ./12/train/filtrations/4/HeightFiltrartion_-1_0/features.npy\n",
      "Applying filtration 32/72: 4/HeightFiltrartion_1_0\n",
      "Got the result from ./12/train/filtrations/4/HeightFiltrartion_1_0/features.npy\n",
      "Applying filtration 33/72: 4/RadialFiltration_4_4\n",
      "Got the result from ./12/train/filtrations/4/RadialFiltration_4_4/features.npy\n",
      "Applying filtration 34/72: 4/RadialFiltration_4_10\n",
      "Got the result from ./12/train/filtrations/4/RadialFiltration_4_10/features.npy\n",
      "Applying filtration 35/72: 4/RadialFiltration_4_17\n",
      "Got the result from ./12/train/filtrations/4/RadialFiltration_4_17/features.npy\n",
      "Applying filtration 36/72: 4/RadialFiltration_4_23\n",
      "Got the result from ./12/train/filtrations/4/RadialFiltration_4_23/features.npy\n",
      "Applying filtration 37/72: 4/RadialFiltration_10_4\n",
      "Got the result from ./12/train/filtrations/4/RadialFiltration_10_4/features.npy\n",
      "Applying filtration 38/72: 4/RadialFiltration_10_10\n",
      "Got the result from ./12/train/filtrations/4/RadialFiltration_10_10/features.npy\n",
      "Applying filtration 39/72: 4/RadialFiltration_10_17\n",
      "Got the result from ./12/train/filtrations/4/RadialFiltration_10_17/features.npy\n",
      "Applying filtration 40/72: 4/RadialFiltration_10_23\n",
      "Got the result from ./12/train/filtrations/4/RadialFiltration_10_23/features.npy\n",
      "Applying filtration 41/72: 4/RadialFiltration_17_4\n",
      "Got the result from ./12/train/filtrations/4/RadialFiltration_17_4/features.npy\n",
      "Applying filtration 42/72: 4/RadialFiltration_17_10\n",
      "Got the result from ./12/train/filtrations/4/RadialFiltration_17_10/features.npy\n",
      "Applying filtration 43/72: 4/RadialFiltration_17_17\n",
      "Got the result from ./12/train/filtrations/4/RadialFiltration_17_17/features.npy\n",
      "Applying filtration 44/72: 4/RadialFiltration_17_23\n",
      "Got the result from ./12/train/filtrations/4/RadialFiltration_17_23/features.npy\n",
      "Applying filtration 45/72: 4/RadialFiltration_23_4\n",
      "Got the result from ./12/train/filtrations/4/RadialFiltration_23_4/features.npy\n",
      "Applying filtration 46/72: 4/RadialFiltration_23_10\n",
      "Got the result from ./12/train/filtrations/4/RadialFiltration_23_10/features.npy\n",
      "Applying filtration 47/72: 4/RadialFiltration_23_17\n",
      "Got the result from ./12/train/filtrations/4/RadialFiltration_23_17/features.npy\n",
      "Applying filtration 48/72: 4/RadialFiltration_23_23\n",
      "Got the result from ./12/train/filtrations/4/RadialFiltration_23_23/features.npy\n",
      "Applying filtration 49/72: 6/HeightFiltrartion_-1_-1\n",
      "Got the result from ./12/train/filtrations/6/HeightFiltrartion_-1_-1/features.npy\n",
      "Applying filtration 50/72: 6/HeightFiltrartion_1_1\n",
      "Got the result from ./12/train/filtrations/6/HeightFiltrartion_1_1/features.npy\n",
      "Applying filtration 51/72: 6/HeightFiltrartion_1_-1\n",
      "Got the result from ./12/train/filtrations/6/HeightFiltrartion_1_-1/features.npy\n",
      "Applying filtration 52/72: 6/HeightFiltrartion_-1_1\n",
      "Got the result from ./12/train/filtrations/6/HeightFiltrartion_-1_1/features.npy\n",
      "Applying filtration 53/72: 6/HeightFiltrartion_0_-1\n",
      "Got the result from ./12/train/filtrations/6/HeightFiltrartion_0_-1/features.npy\n",
      "Applying filtration 54/72: 6/HeightFiltrartion_0_1\n",
      "Got the result from ./12/train/filtrations/6/HeightFiltrartion_0_1/features.npy\n",
      "Applying filtration 55/72: 6/HeightFiltrartion_-1_0\n",
      "Got the result from ./12/train/filtrations/6/HeightFiltrartion_-1_0/features.npy\n",
      "Applying filtration 56/72: 6/HeightFiltrartion_1_0\n",
      "Got the result from ./12/train/filtrations/6/HeightFiltrartion_1_0/features.npy\n",
      "Applying filtration 57/72: 6/RadialFiltration_4_4\n",
      "Got the result from ./12/train/filtrations/6/RadialFiltration_4_4/features.npy\n",
      "Applying filtration 58/72: 6/RadialFiltration_4_10\n",
      "Got the result from ./12/train/filtrations/6/RadialFiltration_4_10/features.npy\n",
      "Applying filtration 59/72: 6/RadialFiltration_4_17\n",
      "Got the result from ./12/train/filtrations/6/RadialFiltration_4_17/features.npy\n",
      "Applying filtration 60/72: 6/RadialFiltration_4_23\n",
      "Got the result from ./12/train/filtrations/6/RadialFiltration_4_23/features.npy\n",
      "Applying filtration 61/72: 6/RadialFiltration_10_4\n",
      "Got the result from ./12/train/filtrations/6/RadialFiltration_10_4/features.npy\n",
      "Applying filtration 62/72: 6/RadialFiltration_10_10\n",
      "Got the result from ./12/train/filtrations/6/RadialFiltration_10_10/features.npy\n",
      "Applying filtration 63/72: 6/RadialFiltration_10_17\n",
      "Got the result from ./12/train/filtrations/6/RadialFiltration_10_17/features.npy\n",
      "Applying filtration 64/72: 6/RadialFiltration_10_23\n",
      "Got the result from ./12/train/filtrations/6/RadialFiltration_10_23/features.npy\n",
      "Applying filtration 65/72: 6/RadialFiltration_17_4\n",
      "Got the result from ./12/train/filtrations/6/RadialFiltration_17_4/features.npy\n",
      "Applying filtration 66/72: 6/RadialFiltration_17_10\n",
      "Got the result from ./12/train/filtrations/6/RadialFiltration_17_10/features.npy\n",
      "Applying filtration 67/72: 6/RadialFiltration_17_17\n",
      "Got the result from ./12/train/filtrations/6/RadialFiltration_17_17/features.npy\n",
      "Applying filtration 68/72: 6/RadialFiltration_17_23\n",
      "Got the result from ./12/train/filtrations/6/RadialFiltration_17_23/features.npy\n",
      "Applying filtration 69/72: 6/RadialFiltration_23_4\n",
      "Got the result from ./12/train/filtrations/6/RadialFiltration_23_4/features.npy\n",
      "Applying filtration 70/72: 6/RadialFiltration_23_10\n",
      "Got the result from ./12/train/filtrations/6/RadialFiltration_23_10/features.npy\n",
      "Applying filtration 71/72: 6/RadialFiltration_23_17\n",
      "Got the result from ./12/train/filtrations/6/RadialFiltration_23_17/features.npy\n",
      "Applying filtration 72/72: 6/RadialFiltration_23_23\n",
      "Got the result from ./12/train/filtrations/6/RadialFiltration_23_23/features.npy\n",
      "Got the result from ./12/train/geometry/features.npy\n",
      "Applying StandardScaler.\n",
      "Calculating inverted images\n",
      "Got the result from ./12/train/greyscale/features.npy\n",
      "Got the result from ./12/train/inverted_greyscale/features.npy\n",
      "Applying filtrations\n",
      "Applying filtration 1/72: 2/HeightFiltrartion_-1_-1\n",
      "Got the result from ./12/train/filtrations/2/HeightFiltrartion_-1_-1/features.npy\n",
      "Applying filtration 2/72: 2/HeightFiltrartion_1_1\n",
      "Got the result from ./12/train/filtrations/2/HeightFiltrartion_1_1/features.npy\n",
      "Applying filtration 3/72: 2/HeightFiltrartion_1_-1\n",
      "Got the result from ./12/train/filtrations/2/HeightFiltrartion_1_-1/features.npy\n",
      "Applying filtration 4/72: 2/HeightFiltrartion_-1_1\n",
      "Got the result from ./12/train/filtrations/2/HeightFiltrartion_-1_1/features.npy\n",
      "Applying filtration 5/72: 2/HeightFiltrartion_0_-1\n",
      "Got the result from ./12/train/filtrations/2/HeightFiltrartion_0_-1/features.npy\n",
      "Applying filtration 6/72: 2/HeightFiltrartion_0_1\n",
      "Got the result from ./12/train/filtrations/2/HeightFiltrartion_0_1/features.npy\n",
      "Applying filtration 7/72: 2/HeightFiltrartion_-1_0\n",
      "Got the result from ./12/train/filtrations/2/HeightFiltrartion_-1_0/features.npy\n",
      "Applying filtration 8/72: 2/HeightFiltrartion_1_0\n",
      "Got the result from ./12/train/filtrations/2/HeightFiltrartion_1_0/features.npy\n",
      "Applying filtration 9/72: 2/RadialFiltration_4_4\n",
      "Got the result from ./12/train/filtrations/2/RadialFiltration_4_4/features.npy\n",
      "Applying filtration 10/72: 2/RadialFiltration_4_10\n",
      "Got the result from ./12/train/filtrations/2/RadialFiltration_4_10/features.npy\n",
      "Applying filtration 11/72: 2/RadialFiltration_4_17\n",
      "Got the result from ./12/train/filtrations/2/RadialFiltration_4_17/features.npy\n",
      "Applying filtration 12/72: 2/RadialFiltration_4_23\n",
      "Got the result from ./12/train/filtrations/2/RadialFiltration_4_23/features.npy\n",
      "Applying filtration 13/72: 2/RadialFiltration_10_4\n",
      "Got the result from ./12/train/filtrations/2/RadialFiltration_10_4/features.npy\n",
      "Applying filtration 14/72: 2/RadialFiltration_10_10\n",
      "Got the result from ./12/train/filtrations/2/RadialFiltration_10_10/features.npy\n",
      "Applying filtration 15/72: 2/RadialFiltration_10_17\n",
      "Got the result from ./12/train/filtrations/2/RadialFiltration_10_17/features.npy\n",
      "Applying filtration 16/72: 2/RadialFiltration_10_23\n",
      "Got the result from ./12/train/filtrations/2/RadialFiltration_10_23/features.npy\n",
      "Applying filtration 17/72: 2/RadialFiltration_17_4\n",
      "Got the result from ./12/train/filtrations/2/RadialFiltration_17_4/features.npy\n",
      "Applying filtration 18/72: 2/RadialFiltration_17_10\n",
      "Got the result from ./12/train/filtrations/2/RadialFiltration_17_10/features.npy\n",
      "Applying filtration 19/72: 2/RadialFiltration_17_17\n",
      "Got the result from ./12/train/filtrations/2/RadialFiltration_17_17/features.npy\n",
      "Applying filtration 20/72: 2/RadialFiltration_17_23\n",
      "Got the result from ./12/train/filtrations/2/RadialFiltration_17_23/features.npy\n",
      "Applying filtration 21/72: 2/RadialFiltration_23_4\n",
      "Got the result from ./12/train/filtrations/2/RadialFiltration_23_4/features.npy\n",
      "Applying filtration 22/72: 2/RadialFiltration_23_10\n",
      "Got the result from ./12/train/filtrations/2/RadialFiltration_23_10/features.npy\n",
      "Applying filtration 23/72: 2/RadialFiltration_23_17\n",
      "Got the result from ./12/train/filtrations/2/RadialFiltration_23_17/features.npy\n",
      "Applying filtration 24/72: 2/RadialFiltration_23_23\n",
      "Got the result from ./12/train/filtrations/2/RadialFiltration_23_23/features.npy\n",
      "Applying filtration 25/72: 4/HeightFiltrartion_-1_-1\n",
      "Got the result from ./12/train/filtrations/4/HeightFiltrartion_-1_-1/features.npy\n",
      "Applying filtration 26/72: 4/HeightFiltrartion_1_1\n",
      "Got the result from ./12/train/filtrations/4/HeightFiltrartion_1_1/features.npy\n",
      "Applying filtration 27/72: 4/HeightFiltrartion_1_-1\n",
      "Got the result from ./12/train/filtrations/4/HeightFiltrartion_1_-1/features.npy\n",
      "Applying filtration 28/72: 4/HeightFiltrartion_-1_1\n",
      "Got the result from ./12/train/filtrations/4/HeightFiltrartion_-1_1/features.npy\n",
      "Applying filtration 29/72: 4/HeightFiltrartion_0_-1\n",
      "Got the result from ./12/train/filtrations/4/HeightFiltrartion_0_-1/features.npy\n",
      "Applying filtration 30/72: 4/HeightFiltrartion_0_1\n",
      "Got the result from ./12/train/filtrations/4/HeightFiltrartion_0_1/features.npy\n",
      "Applying filtration 31/72: 4/HeightFiltrartion_-1_0\n",
      "Got the result from ./12/train/filtrations/4/HeightFiltrartion_-1_0/features.npy\n",
      "Applying filtration 32/72: 4/HeightFiltrartion_1_0\n",
      "Got the result from ./12/train/filtrations/4/HeightFiltrartion_1_0/features.npy\n",
      "Applying filtration 33/72: 4/RadialFiltration_4_4\n",
      "Got the result from ./12/train/filtrations/4/RadialFiltration_4_4/features.npy\n",
      "Applying filtration 34/72: 4/RadialFiltration_4_10\n",
      "Got the result from ./12/train/filtrations/4/RadialFiltration_4_10/features.npy\n",
      "Applying filtration 35/72: 4/RadialFiltration_4_17\n",
      "Got the result from ./12/train/filtrations/4/RadialFiltration_4_17/features.npy\n",
      "Applying filtration 36/72: 4/RadialFiltration_4_23\n",
      "Got the result from ./12/train/filtrations/4/RadialFiltration_4_23/features.npy\n",
      "Applying filtration 37/72: 4/RadialFiltration_10_4\n",
      "Got the result from ./12/train/filtrations/4/RadialFiltration_10_4/features.npy\n",
      "Applying filtration 38/72: 4/RadialFiltration_10_10\n",
      "Got the result from ./12/train/filtrations/4/RadialFiltration_10_10/features.npy\n",
      "Applying filtration 39/72: 4/RadialFiltration_10_17\n",
      "Got the result from ./12/train/filtrations/4/RadialFiltration_10_17/features.npy\n",
      "Applying filtration 40/72: 4/RadialFiltration_10_23\n",
      "Got the result from ./12/train/filtrations/4/RadialFiltration_10_23/features.npy\n",
      "Applying filtration 41/72: 4/RadialFiltration_17_4\n",
      "Got the result from ./12/train/filtrations/4/RadialFiltration_17_4/features.npy\n",
      "Applying filtration 42/72: 4/RadialFiltration_17_10\n",
      "Got the result from ./12/train/filtrations/4/RadialFiltration_17_10/features.npy\n",
      "Applying filtration 43/72: 4/RadialFiltration_17_17\n",
      "Got the result from ./12/train/filtrations/4/RadialFiltration_17_17/features.npy\n",
      "Applying filtration 44/72: 4/RadialFiltration_17_23\n",
      "Got the result from ./12/train/filtrations/4/RadialFiltration_17_23/features.npy\n",
      "Applying filtration 45/72: 4/RadialFiltration_23_4\n",
      "Got the result from ./12/train/filtrations/4/RadialFiltration_23_4/features.npy\n",
      "Applying filtration 46/72: 4/RadialFiltration_23_10\n",
      "Got the result from ./12/train/filtrations/4/RadialFiltration_23_10/features.npy\n",
      "Applying filtration 47/72: 4/RadialFiltration_23_17\n",
      "Got the result from ./12/train/filtrations/4/RadialFiltration_23_17/features.npy\n",
      "Applying filtration 48/72: 4/RadialFiltration_23_23\n",
      "Got the result from ./12/train/filtrations/4/RadialFiltration_23_23/features.npy\n",
      "Applying filtration 49/72: 6/HeightFiltrartion_-1_-1\n",
      "Got the result from ./12/train/filtrations/6/HeightFiltrartion_-1_-1/features.npy\n",
      "Applying filtration 50/72: 6/HeightFiltrartion_1_1\n",
      "Got the result from ./12/train/filtrations/6/HeightFiltrartion_1_1/features.npy\n",
      "Applying filtration 51/72: 6/HeightFiltrartion_1_-1\n",
      "Got the result from ./12/train/filtrations/6/HeightFiltrartion_1_-1/features.npy\n",
      "Applying filtration 52/72: 6/HeightFiltrartion_-1_1\n",
      "Got the result from ./12/train/filtrations/6/HeightFiltrartion_-1_1/features.npy\n",
      "Applying filtration 53/72: 6/HeightFiltrartion_0_-1\n",
      "Got the result from ./12/train/filtrations/6/HeightFiltrartion_0_-1/features.npy\n",
      "Applying filtration 54/72: 6/HeightFiltrartion_0_1\n",
      "Got the result from ./12/train/filtrations/6/HeightFiltrartion_0_1/features.npy\n",
      "Applying filtration 55/72: 6/HeightFiltrartion_-1_0\n",
      "Got the result from ./12/train/filtrations/6/HeightFiltrartion_-1_0/features.npy\n",
      "Applying filtration 56/72: 6/HeightFiltrartion_1_0\n",
      "Got the result from ./12/train/filtrations/6/HeightFiltrartion_1_0/features.npy\n",
      "Applying filtration 57/72: 6/RadialFiltration_4_4\n",
      "Got the result from ./12/train/filtrations/6/RadialFiltration_4_4/features.npy\n",
      "Applying filtration 58/72: 6/RadialFiltration_4_10\n",
      "Got the result from ./12/train/filtrations/6/RadialFiltration_4_10/features.npy\n",
      "Applying filtration 59/72: 6/RadialFiltration_4_17\n",
      "Got the result from ./12/train/filtrations/6/RadialFiltration_4_17/features.npy\n",
      "Applying filtration 60/72: 6/RadialFiltration_4_23\n",
      "Got the result from ./12/train/filtrations/6/RadialFiltration_4_23/features.npy\n",
      "Applying filtration 61/72: 6/RadialFiltration_10_4\n",
      "Got the result from ./12/train/filtrations/6/RadialFiltration_10_4/features.npy\n",
      "Applying filtration 62/72: 6/RadialFiltration_10_10\n",
      "Got the result from ./12/train/filtrations/6/RadialFiltration_10_10/features.npy\n",
      "Applying filtration 63/72: 6/RadialFiltration_10_17\n",
      "Got the result from ./12/train/filtrations/6/RadialFiltration_10_17/features.npy\n",
      "Applying filtration 64/72: 6/RadialFiltration_10_23\n",
      "Got the result from ./12/train/filtrations/6/RadialFiltration_10_23/features.npy\n",
      "Applying filtration 65/72: 6/RadialFiltration_17_4\n",
      "Got the result from ./12/train/filtrations/6/RadialFiltration_17_4/features.npy\n",
      "Applying filtration 66/72: 6/RadialFiltration_17_10\n",
      "Got the result from ./12/train/filtrations/6/RadialFiltration_17_10/features.npy\n",
      "Applying filtration 67/72: 6/RadialFiltration_17_17\n",
      "Got the result from ./12/train/filtrations/6/RadialFiltration_17_17/features.npy\n",
      "Applying filtration 68/72: 6/RadialFiltration_17_23\n",
      "Got the result from ./12/train/filtrations/6/RadialFiltration_17_23/features.npy\n",
      "Applying filtration 69/72: 6/RadialFiltration_23_4\n",
      "Got the result from ./12/train/filtrations/6/RadialFiltration_23_4/features.npy\n",
      "Applying filtration 70/72: 6/RadialFiltration_23_10\n",
      "Got the result from ./12/train/filtrations/6/RadialFiltration_23_10/features.npy\n",
      "Applying filtration 71/72: 6/RadialFiltration_23_17\n",
      "Got the result from ./12/train/filtrations/6/RadialFiltration_23_17/features.npy\n",
      "Applying filtration 72/72: 6/RadialFiltration_23_23\n",
      "Got the result from ./12/train/filtrations/6/RadialFiltration_23_23/features.npy\n",
      "Got the result from ./12/train/geometry/features.npy\n",
      "Applying StandardScaler.\n",
      "Calculating inverted images\n",
      "Got the result from ./12/test/greyscale/features.npy\n",
      "Got the result from ./12/test/inverted_greyscale/features.npy\n",
      "Applying filtrations\n",
      "Applying filtration 1/72: 2/HeightFiltrartion_-1_-1\n",
      "Got the result from ./12/test/filtrations/2/HeightFiltrartion_-1_-1/features.npy\n",
      "Applying filtration 2/72: 2/HeightFiltrartion_1_1\n",
      "Got the result from ./12/test/filtrations/2/HeightFiltrartion_1_1/features.npy\n",
      "Applying filtration 3/72: 2/HeightFiltrartion_1_-1\n",
      "Got the result from ./12/test/filtrations/2/HeightFiltrartion_1_-1/features.npy\n",
      "Applying filtration 4/72: 2/HeightFiltrartion_-1_1\n",
      "Got the result from ./12/test/filtrations/2/HeightFiltrartion_-1_1/features.npy\n",
      "Applying filtration 5/72: 2/HeightFiltrartion_0_-1\n",
      "Got the result from ./12/test/filtrations/2/HeightFiltrartion_0_-1/features.npy\n",
      "Applying filtration 6/72: 2/HeightFiltrartion_0_1\n",
      "Got the result from ./12/test/filtrations/2/HeightFiltrartion_0_1/features.npy\n",
      "Applying filtration 7/72: 2/HeightFiltrartion_-1_0\n",
      "Got the result from ./12/test/filtrations/2/HeightFiltrartion_-1_0/features.npy\n",
      "Applying filtration 8/72: 2/HeightFiltrartion_1_0\n",
      "Got the result from ./12/test/filtrations/2/HeightFiltrartion_1_0/features.npy\n",
      "Applying filtration 9/72: 2/RadialFiltration_4_4\n",
      "Got the result from ./12/test/filtrations/2/RadialFiltration_4_4/features.npy\n",
      "Applying filtration 10/72: 2/RadialFiltration_4_10\n",
      "Got the result from ./12/test/filtrations/2/RadialFiltration_4_10/features.npy\n",
      "Applying filtration 11/72: 2/RadialFiltration_4_17\n",
      "Got the result from ./12/test/filtrations/2/RadialFiltration_4_17/features.npy\n",
      "Applying filtration 12/72: 2/RadialFiltration_4_23\n",
      "Got the result from ./12/test/filtrations/2/RadialFiltration_4_23/features.npy\n",
      "Applying filtration 13/72: 2/RadialFiltration_10_4\n",
      "Got the result from ./12/test/filtrations/2/RadialFiltration_10_4/features.npy\n",
      "Applying filtration 14/72: 2/RadialFiltration_10_10\n",
      "Got the result from ./12/test/filtrations/2/RadialFiltration_10_10/features.npy\n",
      "Applying filtration 15/72: 2/RadialFiltration_10_17\n",
      "Got the result from ./12/test/filtrations/2/RadialFiltration_10_17/features.npy\n",
      "Applying filtration 16/72: 2/RadialFiltration_10_23\n",
      "Got the result from ./12/test/filtrations/2/RadialFiltration_10_23/features.npy\n",
      "Applying filtration 17/72: 2/RadialFiltration_17_4\n",
      "Got the result from ./12/test/filtrations/2/RadialFiltration_17_4/features.npy\n",
      "Applying filtration 18/72: 2/RadialFiltration_17_10\n",
      "Got the result from ./12/test/filtrations/2/RadialFiltration_17_10/features.npy\n",
      "Applying filtration 19/72: 2/RadialFiltration_17_17\n",
      "Got the result from ./12/test/filtrations/2/RadialFiltration_17_17/features.npy\n",
      "Applying filtration 20/72: 2/RadialFiltration_17_23\n",
      "Got the result from ./12/test/filtrations/2/RadialFiltration_17_23/features.npy\n",
      "Applying filtration 21/72: 2/RadialFiltration_23_4\n",
      "Got the result from ./12/test/filtrations/2/RadialFiltration_23_4/features.npy\n",
      "Applying filtration 22/72: 2/RadialFiltration_23_10\n",
      "Got the result from ./12/test/filtrations/2/RadialFiltration_23_10/features.npy\n",
      "Applying filtration 23/72: 2/RadialFiltration_23_17\n",
      "Got the result from ./12/test/filtrations/2/RadialFiltration_23_17/features.npy\n",
      "Applying filtration 24/72: 2/RadialFiltration_23_23\n",
      "Got the result from ./12/test/filtrations/2/RadialFiltration_23_23/features.npy\n",
      "Applying filtration 25/72: 4/HeightFiltrartion_-1_-1\n",
      "Got the result from ./12/test/filtrations/4/HeightFiltrartion_-1_-1/features.npy\n",
      "Applying filtration 26/72: 4/HeightFiltrartion_1_1\n",
      "Got the result from ./12/test/filtrations/4/HeightFiltrartion_1_1/features.npy\n",
      "Applying filtration 27/72: 4/HeightFiltrartion_1_-1\n",
      "Got the result from ./12/test/filtrations/4/HeightFiltrartion_1_-1/features.npy\n",
      "Applying filtration 28/72: 4/HeightFiltrartion_-1_1\n",
      "Got the result from ./12/test/filtrations/4/HeightFiltrartion_-1_1/features.npy\n",
      "Applying filtration 29/72: 4/HeightFiltrartion_0_-1\n",
      "Got the result from ./12/test/filtrations/4/HeightFiltrartion_0_-1/features.npy\n",
      "Applying filtration 30/72: 4/HeightFiltrartion_0_1\n",
      "Got the result from ./12/test/filtrations/4/HeightFiltrartion_0_1/features.npy\n",
      "Applying filtration 31/72: 4/HeightFiltrartion_-1_0\n",
      "Got the result from ./12/test/filtrations/4/HeightFiltrartion_-1_0/features.npy\n",
      "Applying filtration 32/72: 4/HeightFiltrartion_1_0\n",
      "Got the result from ./12/test/filtrations/4/HeightFiltrartion_1_0/features.npy\n",
      "Applying filtration 33/72: 4/RadialFiltration_4_4\n",
      "Got the result from ./12/test/filtrations/4/RadialFiltration_4_4/features.npy\n",
      "Applying filtration 34/72: 4/RadialFiltration_4_10\n",
      "Got the result from ./12/test/filtrations/4/RadialFiltration_4_10/features.npy\n",
      "Applying filtration 35/72: 4/RadialFiltration_4_17\n",
      "Got the result from ./12/test/filtrations/4/RadialFiltration_4_17/features.npy\n",
      "Applying filtration 36/72: 4/RadialFiltration_4_23\n",
      "Got the result from ./12/test/filtrations/4/RadialFiltration_4_23/features.npy\n",
      "Applying filtration 37/72: 4/RadialFiltration_10_4\n",
      "Got the result from ./12/test/filtrations/4/RadialFiltration_10_4/features.npy\n",
      "Applying filtration 38/72: 4/RadialFiltration_10_10\n",
      "Got the result from ./12/test/filtrations/4/RadialFiltration_10_10/features.npy\n",
      "Applying filtration 39/72: 4/RadialFiltration_10_17\n",
      "Got the result from ./12/test/filtrations/4/RadialFiltration_10_17/features.npy\n",
      "Applying filtration 40/72: 4/RadialFiltration_10_23\n",
      "Got the result from ./12/test/filtrations/4/RadialFiltration_10_23/features.npy\n",
      "Applying filtration 41/72: 4/RadialFiltration_17_4\n",
      "Got the result from ./12/test/filtrations/4/RadialFiltration_17_4/features.npy\n",
      "Applying filtration 42/72: 4/RadialFiltration_17_10\n",
      "Got the result from ./12/test/filtrations/4/RadialFiltration_17_10/features.npy\n",
      "Applying filtration 43/72: 4/RadialFiltration_17_17\n",
      "Got the result from ./12/test/filtrations/4/RadialFiltration_17_17/features.npy\n",
      "Applying filtration 44/72: 4/RadialFiltration_17_23\n",
      "Got the result from ./12/test/filtrations/4/RadialFiltration_17_23/features.npy\n",
      "Applying filtration 45/72: 4/RadialFiltration_23_4\n",
      "Got the result from ./12/test/filtrations/4/RadialFiltration_23_4/features.npy\n",
      "Applying filtration 46/72: 4/RadialFiltration_23_10\n",
      "Got the result from ./12/test/filtrations/4/RadialFiltration_23_10/features.npy\n",
      "Applying filtration 47/72: 4/RadialFiltration_23_17\n",
      "Got the result from ./12/test/filtrations/4/RadialFiltration_23_17/features.npy\n",
      "Applying filtration 48/72: 4/RadialFiltration_23_23\n",
      "Got the result from ./12/test/filtrations/4/RadialFiltration_23_23/features.npy\n",
      "Applying filtration 49/72: 6/HeightFiltrartion_-1_-1\n",
      "Got the result from ./12/test/filtrations/6/HeightFiltrartion_-1_-1/features.npy\n",
      "Applying filtration 50/72: 6/HeightFiltrartion_1_1\n",
      "Got the result from ./12/test/filtrations/6/HeightFiltrartion_1_1/features.npy\n",
      "Applying filtration 51/72: 6/HeightFiltrartion_1_-1\n",
      "Got the result from ./12/test/filtrations/6/HeightFiltrartion_1_-1/features.npy\n",
      "Applying filtration 52/72: 6/HeightFiltrartion_-1_1\n",
      "Got the result from ./12/test/filtrations/6/HeightFiltrartion_-1_1/features.npy\n",
      "Applying filtration 53/72: 6/HeightFiltrartion_0_-1\n",
      "Got the result from ./12/test/filtrations/6/HeightFiltrartion_0_-1/features.npy\n",
      "Applying filtration 54/72: 6/HeightFiltrartion_0_1\n",
      "Got the result from ./12/test/filtrations/6/HeightFiltrartion_0_1/features.npy\n",
      "Applying filtration 55/72: 6/HeightFiltrartion_-1_0\n",
      "Got the result from ./12/test/filtrations/6/HeightFiltrartion_-1_0/features.npy\n",
      "Applying filtration 56/72: 6/HeightFiltrartion_1_0\n",
      "Got the result from ./12/test/filtrations/6/HeightFiltrartion_1_0/features.npy\n",
      "Applying filtration 57/72: 6/RadialFiltration_4_4\n",
      "Got the result from ./12/test/filtrations/6/RadialFiltration_4_4/features.npy\n",
      "Applying filtration 58/72: 6/RadialFiltration_4_10\n",
      "Got the result from ./12/test/filtrations/6/RadialFiltration_4_10/features.npy\n",
      "Applying filtration 59/72: 6/RadialFiltration_4_17\n",
      "Got the result from ./12/test/filtrations/6/RadialFiltration_4_17/features.npy\n",
      "Applying filtration 60/72: 6/RadialFiltration_4_23\n",
      "Got the result from ./12/test/filtrations/6/RadialFiltration_4_23/features.npy\n",
      "Applying filtration 61/72: 6/RadialFiltration_10_4\n",
      "Got the result from ./12/test/filtrations/6/RadialFiltration_10_4/features.npy\n",
      "Applying filtration 62/72: 6/RadialFiltration_10_10\n",
      "Got the result from ./12/test/filtrations/6/RadialFiltration_10_10/features.npy\n",
      "Applying filtration 63/72: 6/RadialFiltration_10_17\n",
      "Got the result from ./12/test/filtrations/6/RadialFiltration_10_17/features.npy\n",
      "Applying filtration 64/72: 6/RadialFiltration_10_23\n",
      "Got the result from ./12/test/filtrations/6/RadialFiltration_10_23/features.npy\n",
      "Applying filtration 65/72: 6/RadialFiltration_17_4\n",
      "Got the result from ./12/test/filtrations/6/RadialFiltration_17_4/features.npy\n",
      "Applying filtration 66/72: 6/RadialFiltration_17_10\n",
      "Got the result from ./12/test/filtrations/6/RadialFiltration_17_10/features.npy\n",
      "Applying filtration 67/72: 6/RadialFiltration_17_17\n",
      "Got the result from ./12/test/filtrations/6/RadialFiltration_17_17/features.npy\n",
      "Applying filtration 68/72: 6/RadialFiltration_17_23\n",
      "Got the result from ./12/test/filtrations/6/RadialFiltration_17_23/features.npy\n",
      "Applying filtration 69/72: 6/RadialFiltration_23_4\n",
      "Got the result from ./12/test/filtrations/6/RadialFiltration_23_4/features.npy\n",
      "Applying filtration 70/72: 6/RadialFiltration_23_10\n",
      "Got the result from ./12/test/filtrations/6/RadialFiltration_23_10/features.npy\n",
      "Applying filtration 71/72: 6/RadialFiltration_23_17\n",
      "Got the result from ./12/test/filtrations/6/RadialFiltration_23_17/features.npy\n",
      "Applying filtration 72/72: 6/RadialFiltration_23_23\n",
      "Got the result from ./12/test/filtrations/6/RadialFiltration_23_23/features.npy\n",
      "Got the result from ./12/test/geometry/features.npy\n",
      "Applying StandardScaler.\n"
     ]
    }
   ],
   "source": [
    "import cvtda.topology\n",
    "extractor = cvtda.topology.FeatureExtractor(only_get_from_dump = True, return_diagrams = False)\n",
    "extractor = extractor.fit(train_images, \"12/train\")\n",
    "train_features = extractor.transform(train_images, \"12/train\")\n",
    "test_features = extractor.transform(test_images, \"12/test\")"
   ]
  },
  {
   "cell_type": "code",
   "execution_count": 3,
   "metadata": {},
   "outputs": [
    {
     "name": "stdout",
     "output_type": "stream",
     "text": [
      "Calculating inverted images\n",
      "Got the result from ./12/train/greyscale/diagrams.npy\n",
      "Applying Scaler to persistence diagrams.\n",
      "Got the result from ./12/train/greyscale/diagrams.npy\n",
      "Applying Scaler to persistence diagrams.\n",
      "Got the result from ./12/train/inverted_greyscale/diagrams.npy\n",
      "Applying Scaler to persistence diagrams.\n",
      "Got the result from ./12/train/inverted_greyscale/diagrams.npy\n",
      "Applying Scaler to persistence diagrams.\n",
      "Fitting filtrations\n",
      "Calculated radial centers for images of size 28x28: [ 4 10 17 23]x[ 4 10 17 23]\n",
      "Fitting filtration 1/72: 2/HeightFiltrartion_-1_-1\n",
      "Got the result from ./12/train/filtrations/2/HeightFiltrartion_-1_-1/diagrams.npy\n",
      "Applying Scaler to persistence diagrams.\n",
      "Fitting filtration 2/72: 2/HeightFiltrartion_1_1\n",
      "Got the result from ./12/train/filtrations/2/HeightFiltrartion_1_1/diagrams.npy\n",
      "Applying Scaler to persistence diagrams.\n",
      "Fitting filtration 3/72: 2/HeightFiltrartion_1_-1\n",
      "Got the result from ./12/train/filtrations/2/HeightFiltrartion_1_-1/diagrams.npy\n",
      "Applying Scaler to persistence diagrams.\n",
      "Fitting filtration 4/72: 2/HeightFiltrartion_-1_1\n",
      "Got the result from ./12/train/filtrations/2/HeightFiltrartion_-1_1/diagrams.npy\n",
      "Applying Scaler to persistence diagrams.\n",
      "Fitting filtration 5/72: 2/HeightFiltrartion_0_-1\n",
      "Got the result from ./12/train/filtrations/2/HeightFiltrartion_0_-1/diagrams.npy\n",
      "Applying Scaler to persistence diagrams.\n",
      "Fitting filtration 6/72: 2/HeightFiltrartion_0_1\n",
      "Got the result from ./12/train/filtrations/2/HeightFiltrartion_0_1/diagrams.npy\n",
      "Applying Scaler to persistence diagrams.\n",
      "Fitting filtration 7/72: 2/HeightFiltrartion_-1_0\n",
      "Got the result from ./12/train/filtrations/2/HeightFiltrartion_-1_0/diagrams.npy\n",
      "Applying Scaler to persistence diagrams.\n",
      "Fitting filtration 8/72: 2/HeightFiltrartion_1_0\n",
      "Got the result from ./12/train/filtrations/2/HeightFiltrartion_1_0/diagrams.npy\n",
      "Applying Scaler to persistence diagrams.\n",
      "Fitting filtration 9/72: 2/RadialFiltration_4_4\n",
      "Got the result from ./12/train/filtrations/2/RadialFiltration_4_4/diagrams.npy\n",
      "Applying Scaler to persistence diagrams.\n",
      "Fitting filtration 10/72: 2/RadialFiltration_4_10\n",
      "Got the result from ./12/train/filtrations/2/RadialFiltration_4_10/diagrams.npy\n",
      "Applying Scaler to persistence diagrams.\n",
      "Fitting filtration 11/72: 2/RadialFiltration_4_17\n",
      "Got the result from ./12/train/filtrations/2/RadialFiltration_4_17/diagrams.npy\n",
      "Applying Scaler to persistence diagrams.\n",
      "Fitting filtration 12/72: 2/RadialFiltration_4_23\n",
      "Got the result from ./12/train/filtrations/2/RadialFiltration_4_23/diagrams.npy\n",
      "Applying Scaler to persistence diagrams.\n",
      "Fitting filtration 13/72: 2/RadialFiltration_10_4\n",
      "Got the result from ./12/train/filtrations/2/RadialFiltration_10_4/diagrams.npy\n",
      "Applying Scaler to persistence diagrams.\n",
      "Fitting filtration 14/72: 2/RadialFiltration_10_10\n",
      "Got the result from ./12/train/filtrations/2/RadialFiltration_10_10/diagrams.npy\n",
      "Applying Scaler to persistence diagrams.\n",
      "Fitting filtration 15/72: 2/RadialFiltration_10_17\n",
      "Got the result from ./12/train/filtrations/2/RadialFiltration_10_17/diagrams.npy\n",
      "Applying Scaler to persistence diagrams.\n",
      "Fitting filtration 16/72: 2/RadialFiltration_10_23\n",
      "Got the result from ./12/train/filtrations/2/RadialFiltration_10_23/diagrams.npy\n",
      "Applying Scaler to persistence diagrams.\n",
      "Fitting filtration 17/72: 2/RadialFiltration_17_4\n",
      "Got the result from ./12/train/filtrations/2/RadialFiltration_17_4/diagrams.npy\n",
      "Applying Scaler to persistence diagrams.\n",
      "Fitting filtration 18/72: 2/RadialFiltration_17_10\n",
      "Got the result from ./12/train/filtrations/2/RadialFiltration_17_10/diagrams.npy\n",
      "Applying Scaler to persistence diagrams.\n",
      "Fitting filtration 19/72: 2/RadialFiltration_17_17\n",
      "Got the result from ./12/train/filtrations/2/RadialFiltration_17_17/diagrams.npy\n",
      "Applying Scaler to persistence diagrams.\n",
      "Fitting filtration 20/72: 2/RadialFiltration_17_23\n",
      "Got the result from ./12/train/filtrations/2/RadialFiltration_17_23/diagrams.npy\n",
      "Applying Scaler to persistence diagrams.\n",
      "Fitting filtration 21/72: 2/RadialFiltration_23_4\n",
      "Got the result from ./12/train/filtrations/2/RadialFiltration_23_4/diagrams.npy\n",
      "Applying Scaler to persistence diagrams.\n",
      "Fitting filtration 22/72: 2/RadialFiltration_23_10\n",
      "Got the result from ./12/train/filtrations/2/RadialFiltration_23_10/diagrams.npy\n",
      "Applying Scaler to persistence diagrams.\n",
      "Fitting filtration 23/72: 2/RadialFiltration_23_17\n",
      "Got the result from ./12/train/filtrations/2/RadialFiltration_23_17/diagrams.npy\n",
      "Applying Scaler to persistence diagrams.\n",
      "Fitting filtration 24/72: 2/RadialFiltration_23_23\n",
      "Got the result from ./12/train/filtrations/2/RadialFiltration_23_23/diagrams.npy\n",
      "Applying Scaler to persistence diagrams.\n",
      "Fitting filtration 25/72: 4/HeightFiltrartion_-1_-1\n",
      "Got the result from ./12/train/filtrations/4/HeightFiltrartion_-1_-1/diagrams.npy\n",
      "Applying Scaler to persistence diagrams.\n",
      "Fitting filtration 26/72: 4/HeightFiltrartion_1_1\n",
      "Got the result from ./12/train/filtrations/4/HeightFiltrartion_1_1/diagrams.npy\n",
      "Applying Scaler to persistence diagrams.\n",
      "Fitting filtration 27/72: 4/HeightFiltrartion_1_-1\n",
      "Got the result from ./12/train/filtrations/4/HeightFiltrartion_1_-1/diagrams.npy\n",
      "Applying Scaler to persistence diagrams.\n",
      "Fitting filtration 28/72: 4/HeightFiltrartion_-1_1\n",
      "Got the result from ./12/train/filtrations/4/HeightFiltrartion_-1_1/diagrams.npy\n",
      "Applying Scaler to persistence diagrams.\n",
      "Fitting filtration 29/72: 4/HeightFiltrartion_0_-1\n",
      "Got the result from ./12/train/filtrations/4/HeightFiltrartion_0_-1/diagrams.npy\n",
      "Applying Scaler to persistence diagrams.\n",
      "Fitting filtration 30/72: 4/HeightFiltrartion_0_1\n",
      "Got the result from ./12/train/filtrations/4/HeightFiltrartion_0_1/diagrams.npy\n",
      "Applying Scaler to persistence diagrams.\n",
      "Fitting filtration 31/72: 4/HeightFiltrartion_-1_0\n",
      "Got the result from ./12/train/filtrations/4/HeightFiltrartion_-1_0/diagrams.npy\n",
      "Applying Scaler to persistence diagrams.\n",
      "Fitting filtration 32/72: 4/HeightFiltrartion_1_0\n",
      "Got the result from ./12/train/filtrations/4/HeightFiltrartion_1_0/diagrams.npy\n",
      "Applying Scaler to persistence diagrams.\n",
      "Fitting filtration 33/72: 4/RadialFiltration_4_4\n",
      "Got the result from ./12/train/filtrations/4/RadialFiltration_4_4/diagrams.npy\n",
      "Applying Scaler to persistence diagrams.\n",
      "Fitting filtration 34/72: 4/RadialFiltration_4_10\n",
      "Got the result from ./12/train/filtrations/4/RadialFiltration_4_10/diagrams.npy\n",
      "Applying Scaler to persistence diagrams.\n",
      "Fitting filtration 35/72: 4/RadialFiltration_4_17\n",
      "Got the result from ./12/train/filtrations/4/RadialFiltration_4_17/diagrams.npy\n",
      "Applying Scaler to persistence diagrams.\n",
      "Fitting filtration 36/72: 4/RadialFiltration_4_23\n",
      "Got the result from ./12/train/filtrations/4/RadialFiltration_4_23/diagrams.npy\n",
      "Applying Scaler to persistence diagrams.\n",
      "Fitting filtration 37/72: 4/RadialFiltration_10_4\n",
      "Got the result from ./12/train/filtrations/4/RadialFiltration_10_4/diagrams.npy\n",
      "Applying Scaler to persistence diagrams.\n",
      "Fitting filtration 38/72: 4/RadialFiltration_10_10\n",
      "Got the result from ./12/train/filtrations/4/RadialFiltration_10_10/diagrams.npy\n",
      "Applying Scaler to persistence diagrams.\n",
      "Fitting filtration 39/72: 4/RadialFiltration_10_17\n",
      "Got the result from ./12/train/filtrations/4/RadialFiltration_10_17/diagrams.npy\n",
      "Applying Scaler to persistence diagrams.\n",
      "Fitting filtration 40/72: 4/RadialFiltration_10_23\n",
      "Got the result from ./12/train/filtrations/4/RadialFiltration_10_23/diagrams.npy\n",
      "Applying Scaler to persistence diagrams.\n",
      "Fitting filtration 41/72: 4/RadialFiltration_17_4\n",
      "Got the result from ./12/train/filtrations/4/RadialFiltration_17_4/diagrams.npy\n",
      "Applying Scaler to persistence diagrams.\n",
      "Fitting filtration 42/72: 4/RadialFiltration_17_10\n",
      "Got the result from ./12/train/filtrations/4/RadialFiltration_17_10/diagrams.npy\n",
      "Applying Scaler to persistence diagrams.\n",
      "Fitting filtration 43/72: 4/RadialFiltration_17_17\n",
      "Got the result from ./12/train/filtrations/4/RadialFiltration_17_17/diagrams.npy\n",
      "Applying Scaler to persistence diagrams.\n",
      "Fitting filtration 44/72: 4/RadialFiltration_17_23\n",
      "Got the result from ./12/train/filtrations/4/RadialFiltration_17_23/diagrams.npy\n",
      "Applying Scaler to persistence diagrams.\n",
      "Fitting filtration 45/72: 4/RadialFiltration_23_4\n",
      "Got the result from ./12/train/filtrations/4/RadialFiltration_23_4/diagrams.npy\n",
      "Applying Scaler to persistence diagrams.\n",
      "Fitting filtration 46/72: 4/RadialFiltration_23_10\n",
      "Got the result from ./12/train/filtrations/4/RadialFiltration_23_10/diagrams.npy\n",
      "Applying Scaler to persistence diagrams.\n",
      "Fitting filtration 47/72: 4/RadialFiltration_23_17\n",
      "Got the result from ./12/train/filtrations/4/RadialFiltration_23_17/diagrams.npy\n",
      "Applying Scaler to persistence diagrams.\n",
      "Fitting filtration 48/72: 4/RadialFiltration_23_23\n",
      "Got the result from ./12/train/filtrations/4/RadialFiltration_23_23/diagrams.npy\n",
      "Applying Scaler to persistence diagrams.\n",
      "Fitting filtration 49/72: 6/HeightFiltrartion_-1_-1\n",
      "Got the result from ./12/train/filtrations/6/HeightFiltrartion_-1_-1/diagrams.npy\n",
      "Applying Scaler to persistence diagrams.\n",
      "Fitting filtration 50/72: 6/HeightFiltrartion_1_1\n",
      "Got the result from ./12/train/filtrations/6/HeightFiltrartion_1_1/diagrams.npy\n",
      "Applying Scaler to persistence diagrams.\n",
      "Fitting filtration 51/72: 6/HeightFiltrartion_1_-1\n",
      "Got the result from ./12/train/filtrations/6/HeightFiltrartion_1_-1/diagrams.npy\n",
      "Applying Scaler to persistence diagrams.\n",
      "Fitting filtration 52/72: 6/HeightFiltrartion_-1_1\n",
      "Got the result from ./12/train/filtrations/6/HeightFiltrartion_-1_1/diagrams.npy\n",
      "Applying Scaler to persistence diagrams.\n",
      "Fitting filtration 53/72: 6/HeightFiltrartion_0_-1\n",
      "Got the result from ./12/train/filtrations/6/HeightFiltrartion_0_-1/diagrams.npy\n",
      "Applying Scaler to persistence diagrams.\n",
      "Fitting filtration 54/72: 6/HeightFiltrartion_0_1\n",
      "Got the result from ./12/train/filtrations/6/HeightFiltrartion_0_1/diagrams.npy\n",
      "Applying Scaler to persistence diagrams.\n",
      "Fitting filtration 55/72: 6/HeightFiltrartion_-1_0\n",
      "Got the result from ./12/train/filtrations/6/HeightFiltrartion_-1_0/diagrams.npy\n",
      "Applying Scaler to persistence diagrams.\n",
      "Fitting filtration 56/72: 6/HeightFiltrartion_1_0\n",
      "Got the result from ./12/train/filtrations/6/HeightFiltrartion_1_0/diagrams.npy\n",
      "Applying Scaler to persistence diagrams.\n",
      "Fitting filtration 57/72: 6/RadialFiltration_4_4\n",
      "Got the result from ./12/train/filtrations/6/RadialFiltration_4_4/diagrams.npy\n",
      "Applying Scaler to persistence diagrams.\n",
      "Fitting filtration 58/72: 6/RadialFiltration_4_10\n",
      "Got the result from ./12/train/filtrations/6/RadialFiltration_4_10/diagrams.npy\n",
      "Applying Scaler to persistence diagrams.\n",
      "Fitting filtration 59/72: 6/RadialFiltration_4_17\n",
      "Got the result from ./12/train/filtrations/6/RadialFiltration_4_17/diagrams.npy\n",
      "Applying Scaler to persistence diagrams.\n",
      "Fitting filtration 60/72: 6/RadialFiltration_4_23\n",
      "Got the result from ./12/train/filtrations/6/RadialFiltration_4_23/diagrams.npy\n",
      "Applying Scaler to persistence diagrams.\n",
      "Fitting filtration 61/72: 6/RadialFiltration_10_4\n",
      "Got the result from ./12/train/filtrations/6/RadialFiltration_10_4/diagrams.npy\n",
      "Applying Scaler to persistence diagrams.\n",
      "Fitting filtration 62/72: 6/RadialFiltration_10_10\n",
      "Got the result from ./12/train/filtrations/6/RadialFiltration_10_10/diagrams.npy\n",
      "Applying Scaler to persistence diagrams.\n",
      "Fitting filtration 63/72: 6/RadialFiltration_10_17\n",
      "Got the result from ./12/train/filtrations/6/RadialFiltration_10_17/diagrams.npy\n",
      "Applying Scaler to persistence diagrams.\n",
      "Fitting filtration 64/72: 6/RadialFiltration_10_23\n",
      "Got the result from ./12/train/filtrations/6/RadialFiltration_10_23/diagrams.npy\n",
      "Applying Scaler to persistence diagrams.\n",
      "Fitting filtration 65/72: 6/RadialFiltration_17_4\n",
      "Got the result from ./12/train/filtrations/6/RadialFiltration_17_4/diagrams.npy\n",
      "Applying Scaler to persistence diagrams.\n",
      "Fitting filtration 66/72: 6/RadialFiltration_17_10\n",
      "Got the result from ./12/train/filtrations/6/RadialFiltration_17_10/diagrams.npy\n",
      "Applying Scaler to persistence diagrams.\n",
      "Fitting filtration 67/72: 6/RadialFiltration_17_17\n",
      "Got the result from ./12/train/filtrations/6/RadialFiltration_17_17/diagrams.npy\n",
      "Applying Scaler to persistence diagrams.\n",
      "Fitting filtration 68/72: 6/RadialFiltration_17_23\n",
      "Got the result from ./12/train/filtrations/6/RadialFiltration_17_23/diagrams.npy\n",
      "Applying Scaler to persistence diagrams.\n",
      "Fitting filtration 69/72: 6/RadialFiltration_23_4\n",
      "Got the result from ./12/train/filtrations/6/RadialFiltration_23_4/diagrams.npy\n",
      "Applying Scaler to persistence diagrams.\n",
      "Fitting filtration 70/72: 6/RadialFiltration_23_10\n",
      "Got the result from ./12/train/filtrations/6/RadialFiltration_23_10/diagrams.npy\n",
      "Applying Scaler to persistence diagrams.\n",
      "Fitting filtration 71/72: 6/RadialFiltration_23_17\n",
      "Got the result from ./12/train/filtrations/6/RadialFiltration_23_17/diagrams.npy\n",
      "Applying Scaler to persistence diagrams.\n",
      "Fitting filtration 72/72: 6/RadialFiltration_23_23\n",
      "Got the result from ./12/train/filtrations/6/RadialFiltration_23_23/diagrams.npy\n",
      "Applying Scaler to persistence diagrams.\n",
      "Applying filtrations\n",
      "Applying filtration 1/72: 2/HeightFiltrartion_-1_-1\n",
      "Got the result from ./12/train/filtrations/2/HeightFiltrartion_-1_-1/diagrams.npy\n",
      "Applying Scaler to persistence diagrams.\n",
      "Applying filtration 2/72: 2/HeightFiltrartion_1_1\n",
      "Got the result from ./12/train/filtrations/2/HeightFiltrartion_1_1/diagrams.npy\n",
      "Applying Scaler to persistence diagrams.\n",
      "Applying filtration 3/72: 2/HeightFiltrartion_1_-1\n",
      "Got the result from ./12/train/filtrations/2/HeightFiltrartion_1_-1/diagrams.npy\n",
      "Applying Scaler to persistence diagrams.\n",
      "Applying filtration 4/72: 2/HeightFiltrartion_-1_1\n",
      "Got the result from ./12/train/filtrations/2/HeightFiltrartion_-1_1/diagrams.npy\n",
      "Applying Scaler to persistence diagrams.\n",
      "Applying filtration 5/72: 2/HeightFiltrartion_0_-1\n",
      "Got the result from ./12/train/filtrations/2/HeightFiltrartion_0_-1/diagrams.npy\n",
      "Applying Scaler to persistence diagrams.\n",
      "Applying filtration 6/72: 2/HeightFiltrartion_0_1\n",
      "Got the result from ./12/train/filtrations/2/HeightFiltrartion_0_1/diagrams.npy\n",
      "Applying Scaler to persistence diagrams.\n",
      "Applying filtration 7/72: 2/HeightFiltrartion_-1_0\n",
      "Got the result from ./12/train/filtrations/2/HeightFiltrartion_-1_0/diagrams.npy\n",
      "Applying Scaler to persistence diagrams.\n",
      "Applying filtration 8/72: 2/HeightFiltrartion_1_0\n",
      "Got the result from ./12/train/filtrations/2/HeightFiltrartion_1_0/diagrams.npy\n",
      "Applying Scaler to persistence diagrams.\n",
      "Applying filtration 9/72: 2/RadialFiltration_4_4\n",
      "Got the result from ./12/train/filtrations/2/RadialFiltration_4_4/diagrams.npy\n",
      "Applying Scaler to persistence diagrams.\n",
      "Applying filtration 10/72: 2/RadialFiltration_4_10\n",
      "Got the result from ./12/train/filtrations/2/RadialFiltration_4_10/diagrams.npy\n",
      "Applying Scaler to persistence diagrams.\n",
      "Applying filtration 11/72: 2/RadialFiltration_4_17\n",
      "Got the result from ./12/train/filtrations/2/RadialFiltration_4_17/diagrams.npy\n",
      "Applying Scaler to persistence diagrams.\n",
      "Applying filtration 12/72: 2/RadialFiltration_4_23\n",
      "Got the result from ./12/train/filtrations/2/RadialFiltration_4_23/diagrams.npy\n",
      "Applying Scaler to persistence diagrams.\n",
      "Applying filtration 13/72: 2/RadialFiltration_10_4\n",
      "Got the result from ./12/train/filtrations/2/RadialFiltration_10_4/diagrams.npy\n",
      "Applying Scaler to persistence diagrams.\n",
      "Applying filtration 14/72: 2/RadialFiltration_10_10\n",
      "Got the result from ./12/train/filtrations/2/RadialFiltration_10_10/diagrams.npy\n",
      "Applying Scaler to persistence diagrams.\n",
      "Applying filtration 15/72: 2/RadialFiltration_10_17\n",
      "Got the result from ./12/train/filtrations/2/RadialFiltration_10_17/diagrams.npy\n",
      "Applying Scaler to persistence diagrams.\n",
      "Applying filtration 16/72: 2/RadialFiltration_10_23\n",
      "Got the result from ./12/train/filtrations/2/RadialFiltration_10_23/diagrams.npy\n",
      "Applying Scaler to persistence diagrams.\n",
      "Applying filtration 17/72: 2/RadialFiltration_17_4\n",
      "Got the result from ./12/train/filtrations/2/RadialFiltration_17_4/diagrams.npy\n",
      "Applying Scaler to persistence diagrams.\n",
      "Applying filtration 18/72: 2/RadialFiltration_17_10\n",
      "Got the result from ./12/train/filtrations/2/RadialFiltration_17_10/diagrams.npy\n",
      "Applying Scaler to persistence diagrams.\n",
      "Applying filtration 19/72: 2/RadialFiltration_17_17\n",
      "Got the result from ./12/train/filtrations/2/RadialFiltration_17_17/diagrams.npy\n",
      "Applying Scaler to persistence diagrams.\n",
      "Applying filtration 20/72: 2/RadialFiltration_17_23\n",
      "Got the result from ./12/train/filtrations/2/RadialFiltration_17_23/diagrams.npy\n",
      "Applying Scaler to persistence diagrams.\n",
      "Applying filtration 21/72: 2/RadialFiltration_23_4\n",
      "Got the result from ./12/train/filtrations/2/RadialFiltration_23_4/diagrams.npy\n",
      "Applying Scaler to persistence diagrams.\n",
      "Applying filtration 22/72: 2/RadialFiltration_23_10\n",
      "Got the result from ./12/train/filtrations/2/RadialFiltration_23_10/diagrams.npy\n",
      "Applying Scaler to persistence diagrams.\n",
      "Applying filtration 23/72: 2/RadialFiltration_23_17\n",
      "Got the result from ./12/train/filtrations/2/RadialFiltration_23_17/diagrams.npy\n",
      "Applying Scaler to persistence diagrams.\n",
      "Applying filtration 24/72: 2/RadialFiltration_23_23\n",
      "Got the result from ./12/train/filtrations/2/RadialFiltration_23_23/diagrams.npy\n",
      "Applying Scaler to persistence diagrams.\n",
      "Applying filtration 25/72: 4/HeightFiltrartion_-1_-1\n",
      "Got the result from ./12/train/filtrations/4/HeightFiltrartion_-1_-1/diagrams.npy\n",
      "Applying Scaler to persistence diagrams.\n",
      "Applying filtration 26/72: 4/HeightFiltrartion_1_1\n",
      "Got the result from ./12/train/filtrations/4/HeightFiltrartion_1_1/diagrams.npy\n",
      "Applying Scaler to persistence diagrams.\n",
      "Applying filtration 27/72: 4/HeightFiltrartion_1_-1\n",
      "Got the result from ./12/train/filtrations/4/HeightFiltrartion_1_-1/diagrams.npy\n",
      "Applying Scaler to persistence diagrams.\n",
      "Applying filtration 28/72: 4/HeightFiltrartion_-1_1\n",
      "Got the result from ./12/train/filtrations/4/HeightFiltrartion_-1_1/diagrams.npy\n",
      "Applying Scaler to persistence diagrams.\n",
      "Applying filtration 29/72: 4/HeightFiltrartion_0_-1\n",
      "Got the result from ./12/train/filtrations/4/HeightFiltrartion_0_-1/diagrams.npy\n",
      "Applying Scaler to persistence diagrams.\n",
      "Applying filtration 30/72: 4/HeightFiltrartion_0_1\n",
      "Got the result from ./12/train/filtrations/4/HeightFiltrartion_0_1/diagrams.npy\n",
      "Applying Scaler to persistence diagrams.\n",
      "Applying filtration 31/72: 4/HeightFiltrartion_-1_0\n",
      "Got the result from ./12/train/filtrations/4/HeightFiltrartion_-1_0/diagrams.npy\n",
      "Applying Scaler to persistence diagrams.\n",
      "Applying filtration 32/72: 4/HeightFiltrartion_1_0\n",
      "Got the result from ./12/train/filtrations/4/HeightFiltrartion_1_0/diagrams.npy\n",
      "Applying Scaler to persistence diagrams.\n",
      "Applying filtration 33/72: 4/RadialFiltration_4_4\n",
      "Got the result from ./12/train/filtrations/4/RadialFiltration_4_4/diagrams.npy\n",
      "Applying Scaler to persistence diagrams.\n",
      "Applying filtration 34/72: 4/RadialFiltration_4_10\n",
      "Got the result from ./12/train/filtrations/4/RadialFiltration_4_10/diagrams.npy\n",
      "Applying Scaler to persistence diagrams.\n",
      "Applying filtration 35/72: 4/RadialFiltration_4_17\n",
      "Got the result from ./12/train/filtrations/4/RadialFiltration_4_17/diagrams.npy\n",
      "Applying Scaler to persistence diagrams.\n",
      "Applying filtration 36/72: 4/RadialFiltration_4_23\n",
      "Got the result from ./12/train/filtrations/4/RadialFiltration_4_23/diagrams.npy\n",
      "Applying Scaler to persistence diagrams.\n",
      "Applying filtration 37/72: 4/RadialFiltration_10_4\n",
      "Got the result from ./12/train/filtrations/4/RadialFiltration_10_4/diagrams.npy\n",
      "Applying Scaler to persistence diagrams.\n",
      "Applying filtration 38/72: 4/RadialFiltration_10_10\n",
      "Got the result from ./12/train/filtrations/4/RadialFiltration_10_10/diagrams.npy\n",
      "Applying Scaler to persistence diagrams.\n",
      "Applying filtration 39/72: 4/RadialFiltration_10_17\n",
      "Got the result from ./12/train/filtrations/4/RadialFiltration_10_17/diagrams.npy\n",
      "Applying Scaler to persistence diagrams.\n",
      "Applying filtration 40/72: 4/RadialFiltration_10_23\n",
      "Got the result from ./12/train/filtrations/4/RadialFiltration_10_23/diagrams.npy\n",
      "Applying Scaler to persistence diagrams.\n",
      "Applying filtration 41/72: 4/RadialFiltration_17_4\n",
      "Got the result from ./12/train/filtrations/4/RadialFiltration_17_4/diagrams.npy\n",
      "Applying Scaler to persistence diagrams.\n",
      "Applying filtration 42/72: 4/RadialFiltration_17_10\n",
      "Got the result from ./12/train/filtrations/4/RadialFiltration_17_10/diagrams.npy\n",
      "Applying Scaler to persistence diagrams.\n",
      "Applying filtration 43/72: 4/RadialFiltration_17_17\n",
      "Got the result from ./12/train/filtrations/4/RadialFiltration_17_17/diagrams.npy\n",
      "Applying Scaler to persistence diagrams.\n",
      "Applying filtration 44/72: 4/RadialFiltration_17_23\n",
      "Got the result from ./12/train/filtrations/4/RadialFiltration_17_23/diagrams.npy\n",
      "Applying Scaler to persistence diagrams.\n",
      "Applying filtration 45/72: 4/RadialFiltration_23_4\n",
      "Got the result from ./12/train/filtrations/4/RadialFiltration_23_4/diagrams.npy\n",
      "Applying Scaler to persistence diagrams.\n",
      "Applying filtration 46/72: 4/RadialFiltration_23_10\n",
      "Got the result from ./12/train/filtrations/4/RadialFiltration_23_10/diagrams.npy\n",
      "Applying Scaler to persistence diagrams.\n",
      "Applying filtration 47/72: 4/RadialFiltration_23_17\n",
      "Got the result from ./12/train/filtrations/4/RadialFiltration_23_17/diagrams.npy\n",
      "Applying Scaler to persistence diagrams.\n",
      "Applying filtration 48/72: 4/RadialFiltration_23_23\n",
      "Got the result from ./12/train/filtrations/4/RadialFiltration_23_23/diagrams.npy\n",
      "Applying Scaler to persistence diagrams.\n",
      "Applying filtration 49/72: 6/HeightFiltrartion_-1_-1\n",
      "Got the result from ./12/train/filtrations/6/HeightFiltrartion_-1_-1/diagrams.npy\n",
      "Applying Scaler to persistence diagrams.\n",
      "Applying filtration 50/72: 6/HeightFiltrartion_1_1\n",
      "Got the result from ./12/train/filtrations/6/HeightFiltrartion_1_1/diagrams.npy\n",
      "Applying Scaler to persistence diagrams.\n",
      "Applying filtration 51/72: 6/HeightFiltrartion_1_-1\n",
      "Got the result from ./12/train/filtrations/6/HeightFiltrartion_1_-1/diagrams.npy\n",
      "Applying Scaler to persistence diagrams.\n",
      "Applying filtration 52/72: 6/HeightFiltrartion_-1_1\n",
      "Got the result from ./12/train/filtrations/6/HeightFiltrartion_-1_1/diagrams.npy\n",
      "Applying Scaler to persistence diagrams.\n",
      "Applying filtration 53/72: 6/HeightFiltrartion_0_-1\n",
      "Got the result from ./12/train/filtrations/6/HeightFiltrartion_0_-1/diagrams.npy\n",
      "Applying Scaler to persistence diagrams.\n",
      "Applying filtration 54/72: 6/HeightFiltrartion_0_1\n",
      "Got the result from ./12/train/filtrations/6/HeightFiltrartion_0_1/diagrams.npy\n",
      "Applying Scaler to persistence diagrams.\n",
      "Applying filtration 55/72: 6/HeightFiltrartion_-1_0\n",
      "Got the result from ./12/train/filtrations/6/HeightFiltrartion_-1_0/diagrams.npy\n",
      "Applying Scaler to persistence diagrams.\n",
      "Applying filtration 56/72: 6/HeightFiltrartion_1_0\n",
      "Got the result from ./12/train/filtrations/6/HeightFiltrartion_1_0/diagrams.npy\n",
      "Applying Scaler to persistence diagrams.\n",
      "Applying filtration 57/72: 6/RadialFiltration_4_4\n",
      "Got the result from ./12/train/filtrations/6/RadialFiltration_4_4/diagrams.npy\n",
      "Applying Scaler to persistence diagrams.\n",
      "Applying filtration 58/72: 6/RadialFiltration_4_10\n",
      "Got the result from ./12/train/filtrations/6/RadialFiltration_4_10/diagrams.npy\n",
      "Applying Scaler to persistence diagrams.\n",
      "Applying filtration 59/72: 6/RadialFiltration_4_17\n",
      "Got the result from ./12/train/filtrations/6/RadialFiltration_4_17/diagrams.npy\n",
      "Applying Scaler to persistence diagrams.\n",
      "Applying filtration 60/72: 6/RadialFiltration_4_23\n",
      "Got the result from ./12/train/filtrations/6/RadialFiltration_4_23/diagrams.npy\n",
      "Applying Scaler to persistence diagrams.\n",
      "Applying filtration 61/72: 6/RadialFiltration_10_4\n",
      "Got the result from ./12/train/filtrations/6/RadialFiltration_10_4/diagrams.npy\n",
      "Applying Scaler to persistence diagrams.\n",
      "Applying filtration 62/72: 6/RadialFiltration_10_10\n",
      "Got the result from ./12/train/filtrations/6/RadialFiltration_10_10/diagrams.npy\n",
      "Applying Scaler to persistence diagrams.\n",
      "Applying filtration 63/72: 6/RadialFiltration_10_17\n",
      "Got the result from ./12/train/filtrations/6/RadialFiltration_10_17/diagrams.npy\n",
      "Applying Scaler to persistence diagrams.\n",
      "Applying filtration 64/72: 6/RadialFiltration_10_23\n",
      "Got the result from ./12/train/filtrations/6/RadialFiltration_10_23/diagrams.npy\n",
      "Applying Scaler to persistence diagrams.\n",
      "Applying filtration 65/72: 6/RadialFiltration_17_4\n",
      "Got the result from ./12/train/filtrations/6/RadialFiltration_17_4/diagrams.npy\n",
      "Applying Scaler to persistence diagrams.\n",
      "Applying filtration 66/72: 6/RadialFiltration_17_10\n",
      "Got the result from ./12/train/filtrations/6/RadialFiltration_17_10/diagrams.npy\n",
      "Applying Scaler to persistence diagrams.\n",
      "Applying filtration 67/72: 6/RadialFiltration_17_17\n",
      "Got the result from ./12/train/filtrations/6/RadialFiltration_17_17/diagrams.npy\n",
      "Applying Scaler to persistence diagrams.\n",
      "Applying filtration 68/72: 6/RadialFiltration_17_23\n",
      "Got the result from ./12/train/filtrations/6/RadialFiltration_17_23/diagrams.npy\n",
      "Applying Scaler to persistence diagrams.\n",
      "Applying filtration 69/72: 6/RadialFiltration_23_4\n",
      "Got the result from ./12/train/filtrations/6/RadialFiltration_23_4/diagrams.npy\n",
      "Applying Scaler to persistence diagrams.\n",
      "Applying filtration 70/72: 6/RadialFiltration_23_10\n",
      "Got the result from ./12/train/filtrations/6/RadialFiltration_23_10/diagrams.npy\n",
      "Applying Scaler to persistence diagrams.\n",
      "Applying filtration 71/72: 6/RadialFiltration_23_17\n",
      "Got the result from ./12/train/filtrations/6/RadialFiltration_23_17/diagrams.npy\n",
      "Applying Scaler to persistence diagrams.\n",
      "Applying filtration 72/72: 6/RadialFiltration_23_23\n",
      "Got the result from ./12/train/filtrations/6/RadialFiltration_23_23/diagrams.npy\n",
      "Applying Scaler to persistence diagrams.\n",
      "Diagrams requested. Returning diagrams.\n",
      "Calculating inverted images\n",
      "Got the result from ./12/train/greyscale/diagrams.npy\n",
      "Applying Scaler to persistence diagrams.\n",
      "Got the result from ./12/train/inverted_greyscale/diagrams.npy\n",
      "Applying Scaler to persistence diagrams.\n",
      "Applying filtrations\n",
      "Applying filtration 1/72: 2/HeightFiltrartion_-1_-1\n",
      "Got the result from ./12/train/filtrations/2/HeightFiltrartion_-1_-1/diagrams.npy\n",
      "Applying Scaler to persistence diagrams.\n",
      "Applying filtration 2/72: 2/HeightFiltrartion_1_1\n",
      "Got the result from ./12/train/filtrations/2/HeightFiltrartion_1_1/diagrams.npy\n",
      "Applying Scaler to persistence diagrams.\n",
      "Applying filtration 3/72: 2/HeightFiltrartion_1_-1\n",
      "Got the result from ./12/train/filtrations/2/HeightFiltrartion_1_-1/diagrams.npy\n",
      "Applying Scaler to persistence diagrams.\n",
      "Applying filtration 4/72: 2/HeightFiltrartion_-1_1\n",
      "Got the result from ./12/train/filtrations/2/HeightFiltrartion_-1_1/diagrams.npy\n",
      "Applying Scaler to persistence diagrams.\n",
      "Applying filtration 5/72: 2/HeightFiltrartion_0_-1\n",
      "Got the result from ./12/train/filtrations/2/HeightFiltrartion_0_-1/diagrams.npy\n",
      "Applying Scaler to persistence diagrams.\n",
      "Applying filtration 6/72: 2/HeightFiltrartion_0_1\n",
      "Got the result from ./12/train/filtrations/2/HeightFiltrartion_0_1/diagrams.npy\n",
      "Applying Scaler to persistence diagrams.\n",
      "Applying filtration 7/72: 2/HeightFiltrartion_-1_0\n",
      "Got the result from ./12/train/filtrations/2/HeightFiltrartion_-1_0/diagrams.npy\n",
      "Applying Scaler to persistence diagrams.\n",
      "Applying filtration 8/72: 2/HeightFiltrartion_1_0\n",
      "Got the result from ./12/train/filtrations/2/HeightFiltrartion_1_0/diagrams.npy\n",
      "Applying Scaler to persistence diagrams.\n",
      "Applying filtration 9/72: 2/RadialFiltration_4_4\n",
      "Got the result from ./12/train/filtrations/2/RadialFiltration_4_4/diagrams.npy\n",
      "Applying Scaler to persistence diagrams.\n",
      "Applying filtration 10/72: 2/RadialFiltration_4_10\n",
      "Got the result from ./12/train/filtrations/2/RadialFiltration_4_10/diagrams.npy\n",
      "Applying Scaler to persistence diagrams.\n",
      "Applying filtration 11/72: 2/RadialFiltration_4_17\n",
      "Got the result from ./12/train/filtrations/2/RadialFiltration_4_17/diagrams.npy\n",
      "Applying Scaler to persistence diagrams.\n",
      "Applying filtration 12/72: 2/RadialFiltration_4_23\n",
      "Got the result from ./12/train/filtrations/2/RadialFiltration_4_23/diagrams.npy\n",
      "Applying Scaler to persistence diagrams.\n",
      "Applying filtration 13/72: 2/RadialFiltration_10_4\n",
      "Got the result from ./12/train/filtrations/2/RadialFiltration_10_4/diagrams.npy\n",
      "Applying Scaler to persistence diagrams.\n",
      "Applying filtration 14/72: 2/RadialFiltration_10_10\n",
      "Got the result from ./12/train/filtrations/2/RadialFiltration_10_10/diagrams.npy\n",
      "Applying Scaler to persistence diagrams.\n",
      "Applying filtration 15/72: 2/RadialFiltration_10_17\n",
      "Got the result from ./12/train/filtrations/2/RadialFiltration_10_17/diagrams.npy\n",
      "Applying Scaler to persistence diagrams.\n",
      "Applying filtration 16/72: 2/RadialFiltration_10_23\n",
      "Got the result from ./12/train/filtrations/2/RadialFiltration_10_23/diagrams.npy\n",
      "Applying Scaler to persistence diagrams.\n",
      "Applying filtration 17/72: 2/RadialFiltration_17_4\n",
      "Got the result from ./12/train/filtrations/2/RadialFiltration_17_4/diagrams.npy\n",
      "Applying Scaler to persistence diagrams.\n",
      "Applying filtration 18/72: 2/RadialFiltration_17_10\n",
      "Got the result from ./12/train/filtrations/2/RadialFiltration_17_10/diagrams.npy\n",
      "Applying Scaler to persistence diagrams.\n",
      "Applying filtration 19/72: 2/RadialFiltration_17_17\n",
      "Got the result from ./12/train/filtrations/2/RadialFiltration_17_17/diagrams.npy\n",
      "Applying Scaler to persistence diagrams.\n",
      "Applying filtration 20/72: 2/RadialFiltration_17_23\n",
      "Got the result from ./12/train/filtrations/2/RadialFiltration_17_23/diagrams.npy\n",
      "Applying Scaler to persistence diagrams.\n",
      "Applying filtration 21/72: 2/RadialFiltration_23_4\n",
      "Got the result from ./12/train/filtrations/2/RadialFiltration_23_4/diagrams.npy\n",
      "Applying Scaler to persistence diagrams.\n",
      "Applying filtration 22/72: 2/RadialFiltration_23_10\n",
      "Got the result from ./12/train/filtrations/2/RadialFiltration_23_10/diagrams.npy\n",
      "Applying Scaler to persistence diagrams.\n",
      "Applying filtration 23/72: 2/RadialFiltration_23_17\n",
      "Got the result from ./12/train/filtrations/2/RadialFiltration_23_17/diagrams.npy\n",
      "Applying Scaler to persistence diagrams.\n",
      "Applying filtration 24/72: 2/RadialFiltration_23_23\n",
      "Got the result from ./12/train/filtrations/2/RadialFiltration_23_23/diagrams.npy\n",
      "Applying Scaler to persistence diagrams.\n",
      "Applying filtration 25/72: 4/HeightFiltrartion_-1_-1\n",
      "Got the result from ./12/train/filtrations/4/HeightFiltrartion_-1_-1/diagrams.npy\n",
      "Applying Scaler to persistence diagrams.\n",
      "Applying filtration 26/72: 4/HeightFiltrartion_1_1\n",
      "Got the result from ./12/train/filtrations/4/HeightFiltrartion_1_1/diagrams.npy\n",
      "Applying Scaler to persistence diagrams.\n",
      "Applying filtration 27/72: 4/HeightFiltrartion_1_-1\n",
      "Got the result from ./12/train/filtrations/4/HeightFiltrartion_1_-1/diagrams.npy\n",
      "Applying Scaler to persistence diagrams.\n",
      "Applying filtration 28/72: 4/HeightFiltrartion_-1_1\n",
      "Got the result from ./12/train/filtrations/4/HeightFiltrartion_-1_1/diagrams.npy\n",
      "Applying Scaler to persistence diagrams.\n",
      "Applying filtration 29/72: 4/HeightFiltrartion_0_-1\n",
      "Got the result from ./12/train/filtrations/4/HeightFiltrartion_0_-1/diagrams.npy\n",
      "Applying Scaler to persistence diagrams.\n",
      "Applying filtration 30/72: 4/HeightFiltrartion_0_1\n",
      "Got the result from ./12/train/filtrations/4/HeightFiltrartion_0_1/diagrams.npy\n",
      "Applying Scaler to persistence diagrams.\n",
      "Applying filtration 31/72: 4/HeightFiltrartion_-1_0\n",
      "Got the result from ./12/train/filtrations/4/HeightFiltrartion_-1_0/diagrams.npy\n",
      "Applying Scaler to persistence diagrams.\n",
      "Applying filtration 32/72: 4/HeightFiltrartion_1_0\n",
      "Got the result from ./12/train/filtrations/4/HeightFiltrartion_1_0/diagrams.npy\n",
      "Applying Scaler to persistence diagrams.\n",
      "Applying filtration 33/72: 4/RadialFiltration_4_4\n",
      "Got the result from ./12/train/filtrations/4/RadialFiltration_4_4/diagrams.npy\n",
      "Applying Scaler to persistence diagrams.\n",
      "Applying filtration 34/72: 4/RadialFiltration_4_10\n",
      "Got the result from ./12/train/filtrations/4/RadialFiltration_4_10/diagrams.npy\n",
      "Applying Scaler to persistence diagrams.\n",
      "Applying filtration 35/72: 4/RadialFiltration_4_17\n",
      "Got the result from ./12/train/filtrations/4/RadialFiltration_4_17/diagrams.npy\n",
      "Applying Scaler to persistence diagrams.\n",
      "Applying filtration 36/72: 4/RadialFiltration_4_23\n",
      "Got the result from ./12/train/filtrations/4/RadialFiltration_4_23/diagrams.npy\n",
      "Applying Scaler to persistence diagrams.\n",
      "Applying filtration 37/72: 4/RadialFiltration_10_4\n",
      "Got the result from ./12/train/filtrations/4/RadialFiltration_10_4/diagrams.npy\n",
      "Applying Scaler to persistence diagrams.\n",
      "Applying filtration 38/72: 4/RadialFiltration_10_10\n",
      "Got the result from ./12/train/filtrations/4/RadialFiltration_10_10/diagrams.npy\n",
      "Applying Scaler to persistence diagrams.\n",
      "Applying filtration 39/72: 4/RadialFiltration_10_17\n",
      "Got the result from ./12/train/filtrations/4/RadialFiltration_10_17/diagrams.npy\n",
      "Applying Scaler to persistence diagrams.\n",
      "Applying filtration 40/72: 4/RadialFiltration_10_23\n",
      "Got the result from ./12/train/filtrations/4/RadialFiltration_10_23/diagrams.npy\n",
      "Applying Scaler to persistence diagrams.\n",
      "Applying filtration 41/72: 4/RadialFiltration_17_4\n",
      "Got the result from ./12/train/filtrations/4/RadialFiltration_17_4/diagrams.npy\n",
      "Applying Scaler to persistence diagrams.\n",
      "Applying filtration 42/72: 4/RadialFiltration_17_10\n",
      "Got the result from ./12/train/filtrations/4/RadialFiltration_17_10/diagrams.npy\n",
      "Applying Scaler to persistence diagrams.\n",
      "Applying filtration 43/72: 4/RadialFiltration_17_17\n",
      "Got the result from ./12/train/filtrations/4/RadialFiltration_17_17/diagrams.npy\n",
      "Applying Scaler to persistence diagrams.\n",
      "Applying filtration 44/72: 4/RadialFiltration_17_23\n",
      "Got the result from ./12/train/filtrations/4/RadialFiltration_17_23/diagrams.npy\n",
      "Applying Scaler to persistence diagrams.\n",
      "Applying filtration 45/72: 4/RadialFiltration_23_4\n",
      "Got the result from ./12/train/filtrations/4/RadialFiltration_23_4/diagrams.npy\n",
      "Applying Scaler to persistence diagrams.\n",
      "Applying filtration 46/72: 4/RadialFiltration_23_10\n",
      "Got the result from ./12/train/filtrations/4/RadialFiltration_23_10/diagrams.npy\n",
      "Applying Scaler to persistence diagrams.\n",
      "Applying filtration 47/72: 4/RadialFiltration_23_17\n",
      "Got the result from ./12/train/filtrations/4/RadialFiltration_23_17/diagrams.npy\n",
      "Applying Scaler to persistence diagrams.\n",
      "Applying filtration 48/72: 4/RadialFiltration_23_23\n",
      "Got the result from ./12/train/filtrations/4/RadialFiltration_23_23/diagrams.npy\n",
      "Applying Scaler to persistence diagrams.\n",
      "Applying filtration 49/72: 6/HeightFiltrartion_-1_-1\n",
      "Got the result from ./12/train/filtrations/6/HeightFiltrartion_-1_-1/diagrams.npy\n",
      "Applying Scaler to persistence diagrams.\n",
      "Applying filtration 50/72: 6/HeightFiltrartion_1_1\n",
      "Got the result from ./12/train/filtrations/6/HeightFiltrartion_1_1/diagrams.npy\n",
      "Applying Scaler to persistence diagrams.\n",
      "Applying filtration 51/72: 6/HeightFiltrartion_1_-1\n",
      "Got the result from ./12/train/filtrations/6/HeightFiltrartion_1_-1/diagrams.npy\n",
      "Applying Scaler to persistence diagrams.\n",
      "Applying filtration 52/72: 6/HeightFiltrartion_-1_1\n",
      "Got the result from ./12/train/filtrations/6/HeightFiltrartion_-1_1/diagrams.npy\n",
      "Applying Scaler to persistence diagrams.\n",
      "Applying filtration 53/72: 6/HeightFiltrartion_0_-1\n",
      "Got the result from ./12/train/filtrations/6/HeightFiltrartion_0_-1/diagrams.npy\n",
      "Applying Scaler to persistence diagrams.\n",
      "Applying filtration 54/72: 6/HeightFiltrartion_0_1\n",
      "Got the result from ./12/train/filtrations/6/HeightFiltrartion_0_1/diagrams.npy\n",
      "Applying Scaler to persistence diagrams.\n",
      "Applying filtration 55/72: 6/HeightFiltrartion_-1_0\n",
      "Got the result from ./12/train/filtrations/6/HeightFiltrartion_-1_0/diagrams.npy\n",
      "Applying Scaler to persistence diagrams.\n",
      "Applying filtration 56/72: 6/HeightFiltrartion_1_0\n",
      "Got the result from ./12/train/filtrations/6/HeightFiltrartion_1_0/diagrams.npy\n",
      "Applying Scaler to persistence diagrams.\n",
      "Applying filtration 57/72: 6/RadialFiltration_4_4\n",
      "Got the result from ./12/train/filtrations/6/RadialFiltration_4_4/diagrams.npy\n",
      "Applying Scaler to persistence diagrams.\n",
      "Applying filtration 58/72: 6/RadialFiltration_4_10\n",
      "Got the result from ./12/train/filtrations/6/RadialFiltration_4_10/diagrams.npy\n",
      "Applying Scaler to persistence diagrams.\n",
      "Applying filtration 59/72: 6/RadialFiltration_4_17\n",
      "Got the result from ./12/train/filtrations/6/RadialFiltration_4_17/diagrams.npy\n",
      "Applying Scaler to persistence diagrams.\n",
      "Applying filtration 60/72: 6/RadialFiltration_4_23\n",
      "Got the result from ./12/train/filtrations/6/RadialFiltration_4_23/diagrams.npy\n",
      "Applying Scaler to persistence diagrams.\n",
      "Applying filtration 61/72: 6/RadialFiltration_10_4\n",
      "Got the result from ./12/train/filtrations/6/RadialFiltration_10_4/diagrams.npy\n",
      "Applying Scaler to persistence diagrams.\n",
      "Applying filtration 62/72: 6/RadialFiltration_10_10\n",
      "Got the result from ./12/train/filtrations/6/RadialFiltration_10_10/diagrams.npy\n",
      "Applying Scaler to persistence diagrams.\n",
      "Applying filtration 63/72: 6/RadialFiltration_10_17\n",
      "Got the result from ./12/train/filtrations/6/RadialFiltration_10_17/diagrams.npy\n",
      "Applying Scaler to persistence diagrams.\n",
      "Applying filtration 64/72: 6/RadialFiltration_10_23\n",
      "Got the result from ./12/train/filtrations/6/RadialFiltration_10_23/diagrams.npy\n",
      "Applying Scaler to persistence diagrams.\n",
      "Applying filtration 65/72: 6/RadialFiltration_17_4\n",
      "Got the result from ./12/train/filtrations/6/RadialFiltration_17_4/diagrams.npy\n",
      "Applying Scaler to persistence diagrams.\n",
      "Applying filtration 66/72: 6/RadialFiltration_17_10\n",
      "Got the result from ./12/train/filtrations/6/RadialFiltration_17_10/diagrams.npy\n",
      "Applying Scaler to persistence diagrams.\n",
      "Applying filtration 67/72: 6/RadialFiltration_17_17\n",
      "Got the result from ./12/train/filtrations/6/RadialFiltration_17_17/diagrams.npy\n",
      "Applying Scaler to persistence diagrams.\n",
      "Applying filtration 68/72: 6/RadialFiltration_17_23\n",
      "Got the result from ./12/train/filtrations/6/RadialFiltration_17_23/diagrams.npy\n",
      "Applying Scaler to persistence diagrams.\n",
      "Applying filtration 69/72: 6/RadialFiltration_23_4\n",
      "Got the result from ./12/train/filtrations/6/RadialFiltration_23_4/diagrams.npy\n",
      "Applying Scaler to persistence diagrams.\n",
      "Applying filtration 70/72: 6/RadialFiltration_23_10\n",
      "Got the result from ./12/train/filtrations/6/RadialFiltration_23_10/diagrams.npy\n",
      "Applying Scaler to persistence diagrams.\n",
      "Applying filtration 71/72: 6/RadialFiltration_23_17\n",
      "Got the result from ./12/train/filtrations/6/RadialFiltration_23_17/diagrams.npy\n",
      "Applying Scaler to persistence diagrams.\n",
      "Applying filtration 72/72: 6/RadialFiltration_23_23\n",
      "Got the result from ./12/train/filtrations/6/RadialFiltration_23_23/diagrams.npy\n",
      "Applying Scaler to persistence diagrams.\n",
      "Diagrams requested. Returning diagrams.\n",
      "Calculating inverted images\n",
      "Got the result from ./12/test/greyscale/diagrams.npy\n",
      "Applying Scaler to persistence diagrams.\n",
      "Got the result from ./12/test/inverted_greyscale/diagrams.npy\n",
      "Applying Scaler to persistence diagrams.\n",
      "Applying filtrations\n",
      "Applying filtration 1/72: 2/HeightFiltrartion_-1_-1\n",
      "Got the result from ./12/test/filtrations/2/HeightFiltrartion_-1_-1/diagrams.npy\n",
      "Applying Scaler to persistence diagrams.\n",
      "Applying filtration 2/72: 2/HeightFiltrartion_1_1\n",
      "Got the result from ./12/test/filtrations/2/HeightFiltrartion_1_1/diagrams.npy\n",
      "Applying Scaler to persistence diagrams.\n",
      "Applying filtration 3/72: 2/HeightFiltrartion_1_-1\n",
      "Got the result from ./12/test/filtrations/2/HeightFiltrartion_1_-1/diagrams.npy\n",
      "Applying Scaler to persistence diagrams.\n",
      "Applying filtration 4/72: 2/HeightFiltrartion_-1_1\n",
      "Got the result from ./12/test/filtrations/2/HeightFiltrartion_-1_1/diagrams.npy\n",
      "Applying Scaler to persistence diagrams.\n",
      "Applying filtration 5/72: 2/HeightFiltrartion_0_-1\n",
      "Got the result from ./12/test/filtrations/2/HeightFiltrartion_0_-1/diagrams.npy\n",
      "Applying Scaler to persistence diagrams.\n",
      "Applying filtration 6/72: 2/HeightFiltrartion_0_1\n",
      "Got the result from ./12/test/filtrations/2/HeightFiltrartion_0_1/diagrams.npy\n",
      "Applying Scaler to persistence diagrams.\n",
      "Applying filtration 7/72: 2/HeightFiltrartion_-1_0\n",
      "Got the result from ./12/test/filtrations/2/HeightFiltrartion_-1_0/diagrams.npy\n",
      "Applying Scaler to persistence diagrams.\n",
      "Applying filtration 8/72: 2/HeightFiltrartion_1_0\n",
      "Got the result from ./12/test/filtrations/2/HeightFiltrartion_1_0/diagrams.npy\n",
      "Applying Scaler to persistence diagrams.\n",
      "Applying filtration 9/72: 2/RadialFiltration_4_4\n",
      "Got the result from ./12/test/filtrations/2/RadialFiltration_4_4/diagrams.npy\n",
      "Applying Scaler to persistence diagrams.\n",
      "Applying filtration 10/72: 2/RadialFiltration_4_10\n",
      "Got the result from ./12/test/filtrations/2/RadialFiltration_4_10/diagrams.npy\n",
      "Applying Scaler to persistence diagrams.\n",
      "Applying filtration 11/72: 2/RadialFiltration_4_17\n",
      "Got the result from ./12/test/filtrations/2/RadialFiltration_4_17/diagrams.npy\n",
      "Applying Scaler to persistence diagrams.\n",
      "Applying filtration 12/72: 2/RadialFiltration_4_23\n",
      "Got the result from ./12/test/filtrations/2/RadialFiltration_4_23/diagrams.npy\n",
      "Applying Scaler to persistence diagrams.\n",
      "Applying filtration 13/72: 2/RadialFiltration_10_4\n",
      "Got the result from ./12/test/filtrations/2/RadialFiltration_10_4/diagrams.npy\n",
      "Applying Scaler to persistence diagrams.\n",
      "Applying filtration 14/72: 2/RadialFiltration_10_10\n",
      "Got the result from ./12/test/filtrations/2/RadialFiltration_10_10/diagrams.npy\n",
      "Applying Scaler to persistence diagrams.\n",
      "Applying filtration 15/72: 2/RadialFiltration_10_17\n",
      "Got the result from ./12/test/filtrations/2/RadialFiltration_10_17/diagrams.npy\n",
      "Applying Scaler to persistence diagrams.\n",
      "Applying filtration 16/72: 2/RadialFiltration_10_23\n",
      "Got the result from ./12/test/filtrations/2/RadialFiltration_10_23/diagrams.npy\n",
      "Applying Scaler to persistence diagrams.\n",
      "Applying filtration 17/72: 2/RadialFiltration_17_4\n",
      "Got the result from ./12/test/filtrations/2/RadialFiltration_17_4/diagrams.npy\n",
      "Applying Scaler to persistence diagrams.\n",
      "Applying filtration 18/72: 2/RadialFiltration_17_10\n",
      "Got the result from ./12/test/filtrations/2/RadialFiltration_17_10/diagrams.npy\n",
      "Applying Scaler to persistence diagrams.\n",
      "Applying filtration 19/72: 2/RadialFiltration_17_17\n",
      "Got the result from ./12/test/filtrations/2/RadialFiltration_17_17/diagrams.npy\n",
      "Applying Scaler to persistence diagrams.\n",
      "Applying filtration 20/72: 2/RadialFiltration_17_23\n",
      "Got the result from ./12/test/filtrations/2/RadialFiltration_17_23/diagrams.npy\n",
      "Applying Scaler to persistence diagrams.\n",
      "Applying filtration 21/72: 2/RadialFiltration_23_4\n",
      "Got the result from ./12/test/filtrations/2/RadialFiltration_23_4/diagrams.npy\n",
      "Applying Scaler to persistence diagrams.\n",
      "Applying filtration 22/72: 2/RadialFiltration_23_10\n",
      "Got the result from ./12/test/filtrations/2/RadialFiltration_23_10/diagrams.npy\n",
      "Applying Scaler to persistence diagrams.\n",
      "Applying filtration 23/72: 2/RadialFiltration_23_17\n",
      "Got the result from ./12/test/filtrations/2/RadialFiltration_23_17/diagrams.npy\n",
      "Applying Scaler to persistence diagrams.\n",
      "Applying filtration 24/72: 2/RadialFiltration_23_23\n",
      "Got the result from ./12/test/filtrations/2/RadialFiltration_23_23/diagrams.npy\n",
      "Applying Scaler to persistence diagrams.\n",
      "Applying filtration 25/72: 4/HeightFiltrartion_-1_-1\n",
      "Got the result from ./12/test/filtrations/4/HeightFiltrartion_-1_-1/diagrams.npy\n",
      "Applying Scaler to persistence diagrams.\n",
      "Applying filtration 26/72: 4/HeightFiltrartion_1_1\n",
      "Got the result from ./12/test/filtrations/4/HeightFiltrartion_1_1/diagrams.npy\n",
      "Applying Scaler to persistence diagrams.\n",
      "Applying filtration 27/72: 4/HeightFiltrartion_1_-1\n",
      "Got the result from ./12/test/filtrations/4/HeightFiltrartion_1_-1/diagrams.npy\n",
      "Applying Scaler to persistence diagrams.\n",
      "Applying filtration 28/72: 4/HeightFiltrartion_-1_1\n",
      "Got the result from ./12/test/filtrations/4/HeightFiltrartion_-1_1/diagrams.npy\n",
      "Applying Scaler to persistence diagrams.\n",
      "Applying filtration 29/72: 4/HeightFiltrartion_0_-1\n",
      "Got the result from ./12/test/filtrations/4/HeightFiltrartion_0_-1/diagrams.npy\n",
      "Applying Scaler to persistence diagrams.\n",
      "Applying filtration 30/72: 4/HeightFiltrartion_0_1\n",
      "Got the result from ./12/test/filtrations/4/HeightFiltrartion_0_1/diagrams.npy\n",
      "Applying Scaler to persistence diagrams.\n",
      "Applying filtration 31/72: 4/HeightFiltrartion_-1_0\n",
      "Got the result from ./12/test/filtrations/4/HeightFiltrartion_-1_0/diagrams.npy\n",
      "Applying Scaler to persistence diagrams.\n",
      "Applying filtration 32/72: 4/HeightFiltrartion_1_0\n",
      "Got the result from ./12/test/filtrations/4/HeightFiltrartion_1_0/diagrams.npy\n",
      "Applying Scaler to persistence diagrams.\n",
      "Applying filtration 33/72: 4/RadialFiltration_4_4\n",
      "Got the result from ./12/test/filtrations/4/RadialFiltration_4_4/diagrams.npy\n",
      "Applying Scaler to persistence diagrams.\n",
      "Applying filtration 34/72: 4/RadialFiltration_4_10\n",
      "Got the result from ./12/test/filtrations/4/RadialFiltration_4_10/diagrams.npy\n",
      "Applying Scaler to persistence diagrams.\n",
      "Applying filtration 35/72: 4/RadialFiltration_4_17\n",
      "Got the result from ./12/test/filtrations/4/RadialFiltration_4_17/diagrams.npy\n",
      "Applying Scaler to persistence diagrams.\n",
      "Applying filtration 36/72: 4/RadialFiltration_4_23\n",
      "Got the result from ./12/test/filtrations/4/RadialFiltration_4_23/diagrams.npy\n",
      "Applying Scaler to persistence diagrams.\n",
      "Applying filtration 37/72: 4/RadialFiltration_10_4\n",
      "Got the result from ./12/test/filtrations/4/RadialFiltration_10_4/diagrams.npy\n",
      "Applying Scaler to persistence diagrams.\n",
      "Applying filtration 38/72: 4/RadialFiltration_10_10\n",
      "Got the result from ./12/test/filtrations/4/RadialFiltration_10_10/diagrams.npy\n",
      "Applying Scaler to persistence diagrams.\n",
      "Applying filtration 39/72: 4/RadialFiltration_10_17\n",
      "Got the result from ./12/test/filtrations/4/RadialFiltration_10_17/diagrams.npy\n",
      "Applying Scaler to persistence diagrams.\n",
      "Applying filtration 40/72: 4/RadialFiltration_10_23\n",
      "Got the result from ./12/test/filtrations/4/RadialFiltration_10_23/diagrams.npy\n",
      "Applying Scaler to persistence diagrams.\n",
      "Applying filtration 41/72: 4/RadialFiltration_17_4\n",
      "Got the result from ./12/test/filtrations/4/RadialFiltration_17_4/diagrams.npy\n",
      "Applying Scaler to persistence diagrams.\n",
      "Applying filtration 42/72: 4/RadialFiltration_17_10\n",
      "Got the result from ./12/test/filtrations/4/RadialFiltration_17_10/diagrams.npy\n",
      "Applying Scaler to persistence diagrams.\n",
      "Applying filtration 43/72: 4/RadialFiltration_17_17\n",
      "Got the result from ./12/test/filtrations/4/RadialFiltration_17_17/diagrams.npy\n",
      "Applying Scaler to persistence diagrams.\n",
      "Applying filtration 44/72: 4/RadialFiltration_17_23\n",
      "Got the result from ./12/test/filtrations/4/RadialFiltration_17_23/diagrams.npy\n",
      "Applying Scaler to persistence diagrams.\n",
      "Applying filtration 45/72: 4/RadialFiltration_23_4\n",
      "Got the result from ./12/test/filtrations/4/RadialFiltration_23_4/diagrams.npy\n",
      "Applying Scaler to persistence diagrams.\n",
      "Applying filtration 46/72: 4/RadialFiltration_23_10\n",
      "Got the result from ./12/test/filtrations/4/RadialFiltration_23_10/diagrams.npy\n",
      "Applying Scaler to persistence diagrams.\n",
      "Applying filtration 47/72: 4/RadialFiltration_23_17\n",
      "Got the result from ./12/test/filtrations/4/RadialFiltration_23_17/diagrams.npy\n",
      "Applying Scaler to persistence diagrams.\n",
      "Applying filtration 48/72: 4/RadialFiltration_23_23\n",
      "Got the result from ./12/test/filtrations/4/RadialFiltration_23_23/diagrams.npy\n",
      "Applying Scaler to persistence diagrams.\n",
      "Applying filtration 49/72: 6/HeightFiltrartion_-1_-1\n",
      "Got the result from ./12/test/filtrations/6/HeightFiltrartion_-1_-1/diagrams.npy\n",
      "Applying Scaler to persistence diagrams.\n",
      "Applying filtration 50/72: 6/HeightFiltrartion_1_1\n",
      "Got the result from ./12/test/filtrations/6/HeightFiltrartion_1_1/diagrams.npy\n",
      "Applying Scaler to persistence diagrams.\n",
      "Applying filtration 51/72: 6/HeightFiltrartion_1_-1\n",
      "Got the result from ./12/test/filtrations/6/HeightFiltrartion_1_-1/diagrams.npy\n",
      "Applying Scaler to persistence diagrams.\n",
      "Applying filtration 52/72: 6/HeightFiltrartion_-1_1\n",
      "Got the result from ./12/test/filtrations/6/HeightFiltrartion_-1_1/diagrams.npy\n",
      "Applying Scaler to persistence diagrams.\n",
      "Applying filtration 53/72: 6/HeightFiltrartion_0_-1\n",
      "Got the result from ./12/test/filtrations/6/HeightFiltrartion_0_-1/diagrams.npy\n",
      "Applying Scaler to persistence diagrams.\n",
      "Applying filtration 54/72: 6/HeightFiltrartion_0_1\n",
      "Got the result from ./12/test/filtrations/6/HeightFiltrartion_0_1/diagrams.npy\n",
      "Applying Scaler to persistence diagrams.\n",
      "Applying filtration 55/72: 6/HeightFiltrartion_-1_0\n",
      "Got the result from ./12/test/filtrations/6/HeightFiltrartion_-1_0/diagrams.npy\n",
      "Applying Scaler to persistence diagrams.\n",
      "Applying filtration 56/72: 6/HeightFiltrartion_1_0\n",
      "Got the result from ./12/test/filtrations/6/HeightFiltrartion_1_0/diagrams.npy\n",
      "Applying Scaler to persistence diagrams.\n",
      "Applying filtration 57/72: 6/RadialFiltration_4_4\n",
      "Got the result from ./12/test/filtrations/6/RadialFiltration_4_4/diagrams.npy\n",
      "Applying Scaler to persistence diagrams.\n",
      "Applying filtration 58/72: 6/RadialFiltration_4_10\n",
      "Got the result from ./12/test/filtrations/6/RadialFiltration_4_10/diagrams.npy\n",
      "Applying Scaler to persistence diagrams.\n",
      "Applying filtration 59/72: 6/RadialFiltration_4_17\n",
      "Got the result from ./12/test/filtrations/6/RadialFiltration_4_17/diagrams.npy\n",
      "Applying Scaler to persistence diagrams.\n",
      "Applying filtration 60/72: 6/RadialFiltration_4_23\n",
      "Got the result from ./12/test/filtrations/6/RadialFiltration_4_23/diagrams.npy\n",
      "Applying Scaler to persistence diagrams.\n",
      "Applying filtration 61/72: 6/RadialFiltration_10_4\n",
      "Got the result from ./12/test/filtrations/6/RadialFiltration_10_4/diagrams.npy\n",
      "Applying Scaler to persistence diagrams.\n",
      "Applying filtration 62/72: 6/RadialFiltration_10_10\n",
      "Got the result from ./12/test/filtrations/6/RadialFiltration_10_10/diagrams.npy\n",
      "Applying Scaler to persistence diagrams.\n",
      "Applying filtration 63/72: 6/RadialFiltration_10_17\n",
      "Got the result from ./12/test/filtrations/6/RadialFiltration_10_17/diagrams.npy\n",
      "Applying Scaler to persistence diagrams.\n",
      "Applying filtration 64/72: 6/RadialFiltration_10_23\n",
      "Got the result from ./12/test/filtrations/6/RadialFiltration_10_23/diagrams.npy\n",
      "Applying Scaler to persistence diagrams.\n",
      "Applying filtration 65/72: 6/RadialFiltration_17_4\n",
      "Got the result from ./12/test/filtrations/6/RadialFiltration_17_4/diagrams.npy\n",
      "Applying Scaler to persistence diagrams.\n",
      "Applying filtration 66/72: 6/RadialFiltration_17_10\n",
      "Got the result from ./12/test/filtrations/6/RadialFiltration_17_10/diagrams.npy\n",
      "Applying Scaler to persistence diagrams.\n",
      "Applying filtration 67/72: 6/RadialFiltration_17_17\n",
      "Got the result from ./12/test/filtrations/6/RadialFiltration_17_17/diagrams.npy\n",
      "Applying Scaler to persistence diagrams.\n",
      "Applying filtration 68/72: 6/RadialFiltration_17_23\n",
      "Got the result from ./12/test/filtrations/6/RadialFiltration_17_23/diagrams.npy\n",
      "Applying Scaler to persistence diagrams.\n",
      "Applying filtration 69/72: 6/RadialFiltration_23_4\n",
      "Got the result from ./12/test/filtrations/6/RadialFiltration_23_4/diagrams.npy\n",
      "Applying Scaler to persistence diagrams.\n",
      "Applying filtration 70/72: 6/RadialFiltration_23_10\n",
      "Got the result from ./12/test/filtrations/6/RadialFiltration_23_10/diagrams.npy\n",
      "Applying Scaler to persistence diagrams.\n",
      "Applying filtration 71/72: 6/RadialFiltration_23_17\n",
      "Got the result from ./12/test/filtrations/6/RadialFiltration_23_17/diagrams.npy\n",
      "Applying Scaler to persistence diagrams.\n",
      "Applying filtration 72/72: 6/RadialFiltration_23_23\n",
      "Got the result from ./12/test/filtrations/6/RadialFiltration_23_23/diagrams.npy\n",
      "Applying Scaler to persistence diagrams.\n",
      "Diagrams requested. Returning diagrams.\n"
     ]
    }
   ],
   "source": [
    "import cvtda.topology\n",
    "extractor = cvtda.topology.FeatureExtractor(only_get_from_dump = True, return_diagrams = True)\n",
    "extractor = extractor.fit(train_images, \"12/train\")\n",
    "train_diagrams = extractor.transform(train_images, \"12/train\")\n",
    "test_diagrams = extractor.transform(test_images, \"12/test\")"
   ]
  },
  {
   "cell_type": "code",
   "execution_count": 6,
   "metadata": {},
   "outputs": [
    {
     "name": "stderr",
     "output_type": "stream",
     "text": [
      "Dataset: processing diagrams: 100%|██████████| 74/74 [01:05<00:00,  1.13it/s]\n"
     ]
    },
    {
     "name": "stdout",
     "output_type": "stream",
     "text": [
      "Constructed a dataset of 60000 images of shape torch.Size([1, 28, 28]) with 148 diagrams and 10278 features\n"
     ]
    },
    {
     "name": "stderr",
     "output_type": "stream",
     "text": [
      "Dataset: processing diagrams: 100%|██████████| 74/74 [00:10<00:00,  6.93it/s]\n"
     ]
    },
    {
     "name": "stdout",
     "output_type": "stream",
     "text": [
      "Constructed a dataset of 10000 images of shape torch.Size([1, 28, 28]) with 148 diagrams and 10278 features\n",
      "Trying features - <cvtda.autoencoder.Autoencoder.Autoencoder object at 0x000001FE6E189ED0>\n",
      "Got the result from ./13/predictions/features_decoded.npy\n",
      "{'model': 'Топологические признаки', 'MAE': 10.351210320883462, 'MSE': 1.7167875628844849}\n",
      "Trying images - <cvtda.autoencoder.Autoencoder.Autoencoder object at 0x000001FE6E177A30>\n",
      "Encoder Base parameters: 25600960\n",
      "Decoder parameters: 1745857\n"
     ]
    },
    {
     "name": "stderr",
     "output_type": "stream",
     "text": [
      "Epoch 0: 100%|██████████| 235/235 [01:05<00:00,  3.57it/s]\n"
     ]
    },
    {
     "name": "stdout",
     "output_type": "stream",
     "text": [
      "Epoch 0: {'loss': 15.574610710144043, 'lr': 0.1, 'MAE': 103.955444, 'MSE': 46.325695}\n"
     ]
    },
    {
     "name": "stderr",
     "output_type": "stream",
     "text": [
      "Epoch 1: 100%|██████████| 235/235 [01:07<00:00,  3.50it/s]\n"
     ]
    },
    {
     "name": "stdout",
     "output_type": "stream",
     "text": [
      "Epoch 1: {'loss': 13.255417607724667, 'lr': 0.1, 'MAE': 101.14447, 'MSE': 45.33699}\n"
     ]
    },
    {
     "name": "stderr",
     "output_type": "stream",
     "text": [
      "Epoch 2: 100%|██████████| 235/235 [01:06<00:00,  3.55it/s]\n"
     ]
    },
    {
     "name": "stdout",
     "output_type": "stream",
     "text": [
      "Epoch 2: {'loss': 12.81721618026495, 'lr': 0.1, 'MAE': 104.32147, 'MSE': 52.910187}\n"
     ]
    },
    {
     "name": "stderr",
     "output_type": "stream",
     "text": [
      "Epoch 3: 100%|██████████| 235/235 [01:06<00:00,  3.53it/s]\n"
     ]
    },
    {
     "name": "stdout",
     "output_type": "stream",
     "text": [
      "Epoch 3: {'loss': 12.628776989877224, 'lr': 0.1, 'MAE': 91.63601, 'MSE': 41.414837}\n"
     ]
    },
    {
     "name": "stderr",
     "output_type": "stream",
     "text": [
      "Epoch 4: 100%|██████████| 235/235 [01:06<00:00,  3.53it/s]\n"
     ]
    },
    {
     "name": "stdout",
     "output_type": "stream",
     "text": [
      "Epoch 4: {'loss': 10.90476656705141, 'lr': 0.1, 'MAE': 86.112915, 'MSE': 41.41894}\n"
     ]
    },
    {
     "name": "stderr",
     "output_type": "stream",
     "text": [
      "Epoch 5: 100%|██████████| 235/235 [01:06<00:00,  3.53it/s]\n"
     ]
    },
    {
     "name": "stdout",
     "output_type": "stream",
     "text": [
      "Epoch 5: {'loss': 10.334518238902092, 'lr': 0.1, 'MAE': 79.00431, 'MSE': 32.794964}\n"
     ]
    },
    {
     "name": "stderr",
     "output_type": "stream",
     "text": [
      "Epoch 6: 100%|██████████| 235/235 [01:06<00:00,  3.52it/s]\n"
     ]
    },
    {
     "name": "stdout",
     "output_type": "stream",
     "text": [
      "Epoch 6: {'loss': 8.313940363004804, 'lr': 0.1, 'MAE': 65.42301, 'MSE': 28.226162}\n"
     ]
    },
    {
     "name": "stderr",
     "output_type": "stream",
     "text": [
      "Epoch 7: 100%|██████████| 235/235 [01:06<00:00,  3.52it/s]\n"
     ]
    },
    {
     "name": "stdout",
     "output_type": "stream",
     "text": [
      "Epoch 7: {'loss': 6.837127737700939, 'lr': 0.1, 'MAE': 52.619686, 'MSE': 21.231913}\n"
     ]
    },
    {
     "name": "stderr",
     "output_type": "stream",
     "text": [
      "Epoch 8: 100%|██████████| 235/235 [01:06<00:00,  3.52it/s]\n"
     ]
    },
    {
     "name": "stdout",
     "output_type": "stream",
     "text": [
      "Epoch 8: {'loss': 5.784053077921271, 'lr': 0.1, 'MAE': 50.978188, 'MSE': 20.3968}\n"
     ]
    },
    {
     "name": "stderr",
     "output_type": "stream",
     "text": [
      "Epoch 9: 100%|██████████| 235/235 [01:06<00:00,  3.52it/s]\n"
     ]
    },
    {
     "name": "stdout",
     "output_type": "stream",
     "text": [
      "Epoch 9: {'loss': 5.180948941037059, 'lr': 0.1, 'MAE': 49.160217, 'MSE': 18.344486}\n"
     ]
    },
    {
     "name": "stderr",
     "output_type": "stream",
     "text": [
      "Epoch 10: 100%|██████████| 235/235 [01:06<00:00,  3.55it/s]\n"
     ]
    },
    {
     "name": "stdout",
     "output_type": "stream",
     "text": [
      "Epoch 10: {'loss': 4.0643091425299644, 'lr': 0.010000000000000002, 'MAE': 38.10967, 'MSE': 12.603873}\n"
     ]
    },
    {
     "name": "stderr",
     "output_type": "stream",
     "text": [
      "Epoch 11: 100%|██████████| 235/235 [01:06<00:00,  3.54it/s]\n"
     ]
    },
    {
     "name": "stdout",
     "output_type": "stream",
     "text": [
      "Epoch 11: {'loss': 3.820829465985298, 'lr': 0.010000000000000002, 'MAE': 36.62525, 'MSE': 12.095264}\n"
     ]
    },
    {
     "name": "stderr",
     "output_type": "stream",
     "text": [
      "Epoch 12: 100%|██████████| 235/235 [01:06<00:00,  3.55it/s]\n"
     ]
    },
    {
     "name": "stdout",
     "output_type": "stream",
     "text": [
      "Epoch 12: {'loss': 3.5981348594650626, 'lr': 0.010000000000000002, 'MAE': 34.99399, 'MSE': 11.302952}\n"
     ]
    },
    {
     "name": "stderr",
     "output_type": "stream",
     "text": [
      "Epoch 13: 100%|██████████| 235/235 [01:06<00:00,  3.52it/s]\n"
     ]
    },
    {
     "name": "stdout",
     "output_type": "stream",
     "text": [
      "Epoch 13: {'loss': 3.4340087696909904, 'lr': 0.010000000000000002, 'MAE': 34.061428, 'MSE': 10.831079}\n"
     ]
    },
    {
     "name": "stderr",
     "output_type": "stream",
     "text": [
      "Epoch 14: 100%|██████████| 235/235 [01:03<00:00,  3.72it/s]\n"
     ]
    },
    {
     "name": "stdout",
     "output_type": "stream",
     "text": [
      "Epoch 14: {'loss': 3.294149074703455, 'lr': 0.010000000000000002, 'MAE': 33.367527, 'MSE': 10.524171}\n"
     ]
    },
    {
     "name": "stderr",
     "output_type": "stream",
     "text": [
      "Epoch 15: 100%|██████████| 235/235 [01:03<00:00,  3.68it/s]\n"
     ]
    },
    {
     "name": "stdout",
     "output_type": "stream",
     "text": [
      "Epoch 15: {'loss': 3.1193029079586267, 'lr': 0.010000000000000002, 'MAE': 32.27945, 'MSE': 10.195269}\n"
     ]
    },
    {
     "name": "stderr",
     "output_type": "stream",
     "text": [
      "Epoch 16: 100%|██████████| 235/235 [01:01<00:00,  3.79it/s]\n"
     ]
    },
    {
     "name": "stdout",
     "output_type": "stream",
     "text": [
      "Epoch 16: {'loss': 3.006947848945856, 'lr': 0.010000000000000002, 'MAE': 31.2164, 'MSE': 9.731816}\n"
     ]
    },
    {
     "name": "stderr",
     "output_type": "stream",
     "text": [
      "Epoch 17: 100%|██████████| 235/235 [00:59<00:00,  3.93it/s]\n"
     ]
    },
    {
     "name": "stdout",
     "output_type": "stream",
     "text": [
      "Epoch 17: {'loss': 2.9111234648153186, 'lr': 0.010000000000000002, 'MAE': 31.515903, 'MSE': 9.774541}\n"
     ]
    },
    {
     "name": "stderr",
     "output_type": "stream",
     "text": [
      "Epoch 18: 100%|██████████| 235/235 [00:59<00:00,  3.97it/s]\n"
     ]
    },
    {
     "name": "stdout",
     "output_type": "stream",
     "text": [
      "Epoch 18: {'loss': 2.856128729879856, 'lr': 0.010000000000000002, 'MAE': 30.33302, 'MSE': 9.385642}\n"
     ]
    },
    {
     "name": "stderr",
     "output_type": "stream",
     "text": [
      "Epoch 19: 100%|██████████| 235/235 [00:59<00:00,  3.95it/s]\n"
     ]
    },
    {
     "name": "stdout",
     "output_type": "stream",
     "text": [
      "Epoch 19: {'loss': 2.7729005543515086, 'lr': 0.010000000000000002, 'MAE': 30.216228, 'MSE': 9.19162}\n"
     ]
    },
    {
     "name": "stderr",
     "output_type": "stream",
     "text": [
      "Epoch 20: 100%|██████████| 235/235 [00:59<00:00,  3.97it/s]\n"
     ]
    },
    {
     "name": "stdout",
     "output_type": "stream",
     "text": [
      "Epoch 20: {'loss': 2.6529096635058522, 'lr': 0.010000000000000002, 'MAE': 29.774755, 'MSE': 8.951109}\n"
     ]
    },
    {
     "name": "stderr",
     "output_type": "stream",
     "text": [
      "Epoch 21: 100%|██████████| 235/235 [00:59<00:00,  3.96it/s]\n"
     ]
    },
    {
     "name": "stdout",
     "output_type": "stream",
     "text": [
      "Epoch 21: {'loss': 2.5743305748328567, 'lr': 0.010000000000000002, 'MAE': 29.118671, 'MSE': 8.792154}\n"
     ]
    },
    {
     "name": "stderr",
     "output_type": "stream",
     "text": [
      "Epoch 22: 100%|██████████| 235/235 [01:01<00:00,  3.82it/s]\n"
     ]
    },
    {
     "name": "stdout",
     "output_type": "stream",
     "text": [
      "Epoch 22: {'loss': 2.471553581766784, 'lr': 0.010000000000000002, 'MAE': 27.691584, 'MSE': 8.075591}\n"
     ]
    },
    {
     "name": "stderr",
     "output_type": "stream",
     "text": [
      "Epoch 23: 100%|██████████| 235/235 [01:01<00:00,  3.81it/s]\n"
     ]
    },
    {
     "name": "stdout",
     "output_type": "stream",
     "text": [
      "Epoch 23: {'loss': 2.350705124437809, 'lr': 0.010000000000000002, 'MAE': 27.7158, 'MSE': 8.014888}\n"
     ]
    },
    {
     "name": "stderr",
     "output_type": "stream",
     "text": [
      "Epoch 24: 100%|██████████| 235/235 [01:00<00:00,  3.91it/s]\n"
     ]
    },
    {
     "name": "stdout",
     "output_type": "stream",
     "text": [
      "Epoch 24: {'loss': 2.2828932544216514, 'lr': 0.010000000000000002, 'MAE': 26.299788, 'MSE': 7.461142}\n"
     ]
    },
    {
     "name": "stderr",
     "output_type": "stream",
     "text": [
      "Epoch 25: 100%|██████████| 235/235 [01:01<00:00,  3.84it/s]\n"
     ]
    },
    {
     "name": "stdout",
     "output_type": "stream",
     "text": [
      "Epoch 25: {'loss': 1.9856912163086236, 'lr': 0.001, 'MAE': 24.104496, 'MSE': 6.548044}\n"
     ]
    },
    {
     "name": "stderr",
     "output_type": "stream",
     "text": [
      "Epoch 26: 100%|██████████| 235/235 [01:00<00:00,  3.90it/s]\n"
     ]
    },
    {
     "name": "stdout",
     "output_type": "stream",
     "text": [
      "Epoch 26: {'loss': 1.9339607954025269, 'lr': 0.001, 'MAE': 23.884556, 'MSE': 6.494075}\n"
     ]
    },
    {
     "name": "stderr",
     "output_type": "stream",
     "text": [
      "Epoch 27: 100%|██████████| 235/235 [00:59<00:00,  3.96it/s]\n"
     ]
    },
    {
     "name": "stdout",
     "output_type": "stream",
     "text": [
      "Epoch 27: {'loss': 1.9187444122508168, 'lr': 0.001, 'MAE': 23.755432, 'MSE': 6.4152594}\n"
     ]
    },
    {
     "name": "stderr",
     "output_type": "stream",
     "text": [
      "Epoch 28: 100%|██████████| 235/235 [00:59<00:00,  3.97it/s]\n"
     ]
    },
    {
     "name": "stdout",
     "output_type": "stream",
     "text": [
      "Epoch 28: {'loss': 1.9010468404740095, 'lr': 0.001, 'MAE': 23.658197, 'MSE': 6.380873}\n"
     ]
    },
    {
     "name": "stderr",
     "output_type": "stream",
     "text": [
      "Epoch 29: 100%|██████████| 235/235 [00:58<00:00,  4.00it/s]\n"
     ]
    },
    {
     "name": "stdout",
     "output_type": "stream",
     "text": [
      "Epoch 29: {'loss': 1.8905346733517945, 'lr': 0.001, 'MAE': 23.585579, 'MSE': 6.3663125}\n"
     ]
    },
    {
     "name": "stderr",
     "output_type": "stream",
     "text": [
      "Epoch 30: 100%|██████████| 235/235 [00:59<00:00,  3.97it/s]\n"
     ]
    },
    {
     "name": "stdout",
     "output_type": "stream",
     "text": [
      "Epoch 30: {'loss': 1.876495567150414, 'lr': 0.001, 'MAE': 23.617172, 'MSE': 6.358058}\n"
     ]
    },
    {
     "name": "stderr",
     "output_type": "stream",
     "text": [
      "Epoch 31: 100%|██████████| 235/235 [00:59<00:00,  3.96it/s]\n"
     ]
    },
    {
     "name": "stdout",
     "output_type": "stream",
     "text": [
      "Epoch 31: {'loss': 1.864165331237018, 'lr': 0.001, 'MAE': 23.29646, 'MSE': 6.2963476}\n"
     ]
    },
    {
     "name": "stderr",
     "output_type": "stream",
     "text": [
      "Epoch 32: 100%|██████████| 235/235 [00:59<00:00,  3.96it/s]\n"
     ]
    },
    {
     "name": "stdout",
     "output_type": "stream",
     "text": [
      "Epoch 32: {'loss': 1.8516809209249914, 'lr': 0.001, 'MAE': 23.302582, 'MSE': 6.2451954}\n"
     ]
    },
    {
     "name": "stderr",
     "output_type": "stream",
     "text": [
      "Epoch 33: 100%|██████████| 235/235 [00:58<00:00,  4.00it/s]\n"
     ]
    },
    {
     "name": "stdout",
     "output_type": "stream",
     "text": [
      "Epoch 33: {'loss': 1.8425017739646137, 'lr': 0.001, 'MAE': 23.112555, 'MSE': 6.2047725}\n"
     ]
    },
    {
     "name": "stderr",
     "output_type": "stream",
     "text": [
      "Epoch 34: 100%|██████████| 235/235 [00:58<00:00,  3.99it/s]\n"
     ]
    },
    {
     "name": "stdout",
     "output_type": "stream",
     "text": [
      "Epoch 34: {'loss': 1.8233645004220307, 'lr': 0.001, 'MAE': 23.28825, 'MSE': 6.222979}\n"
     ]
    },
    {
     "name": "stderr",
     "output_type": "stream",
     "text": [
      "Epoch 35: 100%|██████████| 235/235 [00:58<00:00,  4.00it/s]\n"
     ]
    },
    {
     "name": "stdout",
     "output_type": "stream",
     "text": [
      "Epoch 35: {'loss': 1.8145443862304091, 'lr': 0.001, 'MAE': 23.019772, 'MSE': 6.1761494}\n"
     ]
    },
    {
     "name": "stderr",
     "output_type": "stream",
     "text": [
      "Epoch 36: 100%|██████████| 235/235 [01:00<00:00,  3.90it/s]\n"
     ]
    },
    {
     "name": "stdout",
     "output_type": "stream",
     "text": [
      "Epoch 36: {'loss': 1.8017545389011502, 'lr': 0.001, 'MAE': 22.919117, 'MSE': 6.1270337}\n"
     ]
    },
    {
     "name": "stderr",
     "output_type": "stream",
     "text": [
      "Epoch 37: 100%|██████████| 235/235 [01:01<00:00,  3.81it/s]\n"
     ]
    },
    {
     "name": "stdout",
     "output_type": "stream",
     "text": [
      "Epoch 37: {'loss': 1.79259272525087, 'lr': 0.001, 'MAE': 23.05015, 'MSE': 6.138144}\n"
     ]
    },
    {
     "name": "stderr",
     "output_type": "stream",
     "text": [
      "Epoch 38: 100%|██████████| 235/235 [01:01<00:00,  3.80it/s]\n"
     ]
    },
    {
     "name": "stdout",
     "output_type": "stream",
     "text": [
      "Epoch 38: {'loss': 1.7859437968581915, 'lr': 0.001, 'MAE': 22.761728, 'MSE': 6.0712013}\n"
     ]
    },
    {
     "name": "stderr",
     "output_type": "stream",
     "text": [
      "Epoch 39: 100%|██████████| 235/235 [01:02<00:00,  3.76it/s]\n"
     ]
    },
    {
     "name": "stdout",
     "output_type": "stream",
     "text": [
      "Epoch 39: {'loss': 1.7653754311613739, 'lr': 0.001, 'MAE': 22.701242, 'MSE': 6.0484304}\n"
     ]
    },
    {
     "name": "stderr",
     "output_type": "stream",
     "text": [
      "Epoch 40: 100%|██████████| 235/235 [01:00<00:00,  3.88it/s]\n"
     ]
    },
    {
     "name": "stdout",
     "output_type": "stream",
     "text": [
      "Epoch 40: {'loss': 1.7579127228818834, 'lr': 0.001, 'MAE': 22.572863, 'MSE': 6.013325}\n"
     ]
    },
    {
     "name": "stderr",
     "output_type": "stream",
     "text": [
      "Epoch 41: 100%|██████████| 235/235 [01:01<00:00,  3.83it/s]\n"
     ]
    },
    {
     "name": "stdout",
     "output_type": "stream",
     "text": [
      "Epoch 41: {'loss': 1.7428728779777884, 'lr': 0.001, 'MAE': 22.449385, 'MSE': 5.9610634}\n"
     ]
    },
    {
     "name": "stderr",
     "output_type": "stream",
     "text": [
      "Epoch 42: 100%|██████████| 235/235 [01:02<00:00,  3.78it/s]\n"
     ]
    },
    {
     "name": "stdout",
     "output_type": "stream",
     "text": [
      "Epoch 42: {'loss': 1.723639328032732, 'lr': 0.001, 'MAE': 22.512478, 'MSE': 5.960947}\n"
     ]
    },
    {
     "name": "stderr",
     "output_type": "stream",
     "text": [
      "Epoch 43: 100%|██████████| 235/235 [01:02<00:00,  3.78it/s]\n"
     ]
    },
    {
     "name": "stdout",
     "output_type": "stream",
     "text": [
      "Epoch 43: {'loss': 1.7213169164024293, 'lr': 0.001, 'MAE': 22.43412, 'MSE': 5.9436255}\n"
     ]
    },
    {
     "name": "stderr",
     "output_type": "stream",
     "text": [
      "Epoch 44: 100%|██████████| 235/235 [01:01<00:00,  3.82it/s]\n"
     ]
    },
    {
     "name": "stdout",
     "output_type": "stream",
     "text": [
      "Epoch 44: {'loss': 1.7157457512803376, 'lr': 0.001, 'MAE': 22.295519, 'MSE': 5.9290257}\n"
     ]
    },
    {
     "name": "stderr",
     "output_type": "stream",
     "text": [
      "Epoch 45: 100%|██████████| 235/235 [01:00<00:00,  3.87it/s]\n"
     ]
    },
    {
     "name": "stdout",
     "output_type": "stream",
     "text": [
      "Epoch 45: {'loss': 1.7003336832858622, 'lr': 0.001, 'MAE': 22.18708, 'MSE': 5.8777366}\n"
     ]
    },
    {
     "name": "stderr",
     "output_type": "stream",
     "text": [
      "Epoch 46: 100%|██████████| 235/235 [01:01<00:00,  3.82it/s]\n"
     ]
    },
    {
     "name": "stdout",
     "output_type": "stream",
     "text": [
      "Epoch 46: {'loss': 1.6884441343136132, 'lr': 0.001, 'MAE': 22.142807, 'MSE': 5.827885}\n"
     ]
    },
    {
     "name": "stderr",
     "output_type": "stream",
     "text": [
      "Epoch 47: 100%|██████████| 235/235 [01:00<00:00,  3.91it/s]\n"
     ]
    },
    {
     "name": "stdout",
     "output_type": "stream",
     "text": [
      "Epoch 47: {'loss': 1.6726974486373365, 'lr': 0.001, 'MAE': 22.028885, 'MSE': 5.790256}\n"
     ]
    },
    {
     "name": "stderr",
     "output_type": "stream",
     "text": [
      "Epoch 48: 100%|██████████| 235/235 [01:00<00:00,  3.86it/s]\n"
     ]
    },
    {
     "name": "stdout",
     "output_type": "stream",
     "text": [
      "Epoch 48: {'loss': 1.6639919341541827, 'lr': 0.001, 'MAE': 21.988256, 'MSE': 5.775925}\n"
     ]
    },
    {
     "name": "stderr",
     "output_type": "stream",
     "text": [
      "Epoch 49: 100%|██████████| 235/235 [01:01<00:00,  3.85it/s]\n"
     ]
    },
    {
     "name": "stdout",
     "output_type": "stream",
     "text": [
      "Epoch 49: {'loss': 1.6514661558903754, 'lr': 0.001, 'MAE': 21.9007, 'MSE': 5.7399}\n"
     ]
    },
    {
     "name": "stderr",
     "output_type": "stream",
     "text": [
      "Epoch 50: 100%|██████████| 235/235 [01:01<00:00,  3.85it/s]\n"
     ]
    },
    {
     "name": "stdout",
     "output_type": "stream",
     "text": [
      "Epoch 50: {'loss': 1.6127523919567466, 'lr': 0.0001, 'MAE': 21.65979, 'MSE': 5.644298}\n"
     ]
    },
    {
     "name": "stderr",
     "output_type": "stream",
     "text": [
      "Epoch 51: 100%|██████████| 235/235 [01:00<00:00,  3.90it/s]\n"
     ]
    },
    {
     "name": "stdout",
     "output_type": "stream",
     "text": [
      "Epoch 51: {'loss': 1.6018633269704878, 'lr': 0.0001, 'MAE': 21.631874, 'MSE': 5.6443076}\n"
     ]
    },
    {
     "name": "stderr",
     "output_type": "stream",
     "text": [
      "Epoch 52: 100%|██████████| 235/235 [01:00<00:00,  3.86it/s]\n"
     ]
    },
    {
     "name": "stdout",
     "output_type": "stream",
     "text": [
      "Epoch 52: {'loss': 1.6033385251648724, 'lr': 0.0001, 'MAE': 21.603418, 'MSE': 5.630605}\n"
     ]
    },
    {
     "name": "stderr",
     "output_type": "stream",
     "text": [
      "Epoch 53: 100%|██████████| 235/235 [01:01<00:00,  3.84it/s]\n"
     ]
    },
    {
     "name": "stdout",
     "output_type": "stream",
     "text": [
      "Epoch 53: {'loss': 1.60083063878119, 'lr': 0.0001, 'MAE': 21.603806, 'MSE': 5.631976}\n"
     ]
    },
    {
     "name": "stderr",
     "output_type": "stream",
     "text": [
      "Epoch 54: 100%|██████████| 235/235 [00:59<00:00,  3.98it/s]\n"
     ]
    },
    {
     "name": "stdout",
     "output_type": "stream",
     "text": [
      "Epoch 54: {'loss': 1.5926289530470967, 'lr': 0.0001, 'MAE': 21.552473, 'MSE': 5.6177197}\n"
     ]
    },
    {
     "name": "stderr",
     "output_type": "stream",
     "text": [
      "Epoch 55: 100%|██████████| 235/235 [00:59<00:00,  3.92it/s]\n"
     ]
    },
    {
     "name": "stdout",
     "output_type": "stream",
     "text": [
      "Epoch 55: {'loss': 1.5983886970207095, 'lr': 0.0001, 'MAE': 21.534231, 'MSE': 5.6130395}\n"
     ]
    },
    {
     "name": "stderr",
     "output_type": "stream",
     "text": [
      "Epoch 56: 100%|██████████| 235/235 [00:59<00:00,  3.96it/s]\n"
     ]
    },
    {
     "name": "stdout",
     "output_type": "stream",
     "text": [
      "Epoch 56: {'loss': 1.5926284408196807, 'lr': 0.0001, 'MAE': 21.532698, 'MSE': 5.6067424}\n"
     ]
    },
    {
     "name": "stderr",
     "output_type": "stream",
     "text": [
      "Epoch 57: 100%|██████████| 235/235 [00:58<00:00,  3.99it/s]\n"
     ]
    },
    {
     "name": "stdout",
     "output_type": "stream",
     "text": [
      "Epoch 57: {'loss': 1.5888331048190594, 'lr': 0.0001, 'MAE': 21.521471, 'MSE': 5.6194897}\n"
     ]
    },
    {
     "name": "stderr",
     "output_type": "stream",
     "text": [
      "Epoch 58: 100%|██████████| 235/235 [00:58<00:00,  3.99it/s]\n"
     ]
    },
    {
     "name": "stdout",
     "output_type": "stream",
     "text": [
      "Epoch 58: {'loss': 1.5894321468658745, 'lr': 0.0001, 'MAE': 21.525764, 'MSE': 5.601149}\n"
     ]
    },
    {
     "name": "stderr",
     "output_type": "stream",
     "text": [
      "Epoch 59: 100%|██████████| 235/235 [00:58<00:00,  4.00it/s]\n"
     ]
    },
    {
     "name": "stdout",
     "output_type": "stream",
     "text": [
      "Epoch 59: {'loss': 1.5859879390336573, 'lr': 0.0001, 'MAE': 21.484959, 'MSE': 5.5906405}\n"
     ]
    },
    {
     "name": "stderr",
     "output_type": "stream",
     "text": [
      "Epoch 60: 100%|██████████| 235/235 [00:58<00:00,  4.01it/s]\n"
     ]
    },
    {
     "name": "stdout",
     "output_type": "stream",
     "text": [
      "Epoch 60: {'loss': 1.5859856009483337, 'lr': 0.0001, 'MAE': 21.5138, 'MSE': 5.6004076}\n"
     ]
    },
    {
     "name": "stderr",
     "output_type": "stream",
     "text": [
      "Epoch 61: 100%|██████████| 235/235 [00:58<00:00,  4.00it/s]\n"
     ]
    },
    {
     "name": "stdout",
     "output_type": "stream",
     "text": [
      "Epoch 61: {'loss': 1.5868901191279292, 'lr': 0.0001, 'MAE': 21.45297, 'MSE': 5.5783143}\n"
     ]
    },
    {
     "name": "stderr",
     "output_type": "stream",
     "text": [
      "Epoch 62: 100%|██████████| 235/235 [00:59<00:00,  3.97it/s]\n"
     ]
    },
    {
     "name": "stdout",
     "output_type": "stream",
     "text": [
      "Epoch 62: {'loss': 1.5793599244207144, 'lr': 0.0001, 'MAE': 21.457235, 'MSE': 5.584582}\n"
     ]
    },
    {
     "name": "stderr",
     "output_type": "stream",
     "text": [
      "Epoch 63: 100%|██████████| 235/235 [00:58<00:00,  4.01it/s]\n"
     ]
    },
    {
     "name": "stdout",
     "output_type": "stream",
     "text": [
      "Epoch 63: {'loss': 1.5806202120147645, 'lr': 0.0001, 'MAE': 21.436068, 'MSE': 5.5767226}\n"
     ]
    },
    {
     "name": "stderr",
     "output_type": "stream",
     "text": [
      "Epoch 64: 100%|██████████| 235/235 [00:58<00:00,  4.00it/s]\n"
     ]
    },
    {
     "name": "stdout",
     "output_type": "stream",
     "text": [
      "Epoch 64: {'loss': 1.578558445442468, 'lr': 0.0001, 'MAE': 21.431963, 'MSE': 5.583029}\n"
     ]
    },
    {
     "name": "stderr",
     "output_type": "stream",
     "text": [
      "Epoch 65: 100%|██████████| 235/235 [00:59<00:00,  3.96it/s]\n"
     ]
    },
    {
     "name": "stdout",
     "output_type": "stream",
     "text": [
      "Epoch 65: {'loss': 1.5760091473348439, 'lr': 0.0001, 'MAE': 21.367493, 'MSE': 5.5654435}\n"
     ]
    },
    {
     "name": "stderr",
     "output_type": "stream",
     "text": [
      "Epoch 66: 100%|██████████| 235/235 [00:59<00:00,  3.97it/s]\n"
     ]
    },
    {
     "name": "stdout",
     "output_type": "stream",
     "text": [
      "Epoch 66: {'loss': 1.5821802862919867, 'lr': 0.0001, 'MAE': 21.416979, 'MSE': 5.5879607}\n"
     ]
    },
    {
     "name": "stderr",
     "output_type": "stream",
     "text": [
      "Epoch 67: 100%|██████████| 235/235 [00:59<00:00,  3.92it/s]\n"
     ]
    },
    {
     "name": "stdout",
     "output_type": "stream",
     "text": [
      "Epoch 67: {'loss': 1.5748165156692266, 'lr': 0.0001, 'MAE': 21.383665, 'MSE': 5.5564666}\n"
     ]
    },
    {
     "name": "stderr",
     "output_type": "stream",
     "text": [
      "Epoch 68: 100%|██████████| 235/235 [00:59<00:00,  3.92it/s]\n"
     ]
    },
    {
     "name": "stdout",
     "output_type": "stream",
     "text": [
      "Epoch 68: {'loss': 1.5713357543572783, 'lr': 0.0001, 'MAE': 21.365332, 'MSE': 5.544074}\n"
     ]
    },
    {
     "name": "stderr",
     "output_type": "stream",
     "text": [
      "Epoch 69: 100%|██████████| 235/235 [00:59<00:00,  3.92it/s]\n"
     ]
    },
    {
     "name": "stdout",
     "output_type": "stream",
     "text": [
      "Epoch 69: {'loss': 1.5687470086850226, 'lr': 0.0001, 'MAE': 21.355131, 'MSE': 5.544362}\n"
     ]
    },
    {
     "name": "stderr",
     "output_type": "stream",
     "text": [
      "Epoch 70: 100%|██████████| 235/235 [00:59<00:00,  3.95it/s]\n"
     ]
    },
    {
     "name": "stdout",
     "output_type": "stream",
     "text": [
      "Epoch 70: {'loss': 1.5666675716638565, 'lr': 0.0001, 'MAE': 21.343369, 'MSE': 5.5421185}\n"
     ]
    },
    {
     "name": "stderr",
     "output_type": "stream",
     "text": [
      "Epoch 71: 100%|██████████| 235/235 [00:59<00:00,  3.95it/s]\n"
     ]
    },
    {
     "name": "stdout",
     "output_type": "stream",
     "text": [
      "Epoch 71: {'loss': 1.5704244864173234, 'lr': 0.0001, 'MAE': 21.3527, 'MSE': 5.5481367}\n"
     ]
    },
    {
     "name": "stderr",
     "output_type": "stream",
     "text": [
      "Epoch 72: 100%|██████████| 235/235 [00:58<00:00,  3.99it/s]\n"
     ]
    },
    {
     "name": "stdout",
     "output_type": "stream",
     "text": [
      "Epoch 72: {'loss': 1.5679160580039024, 'lr': 0.0001, 'MAE': 21.325527, 'MSE': 5.5324364}\n"
     ]
    },
    {
     "name": "stderr",
     "output_type": "stream",
     "text": [
      "Epoch 73: 100%|██████████| 235/235 [00:58<00:00,  3.99it/s]\n"
     ]
    },
    {
     "name": "stdout",
     "output_type": "stream",
     "text": [
      "Epoch 73: {'loss': 1.563630742020905, 'lr': 0.0001, 'MAE': 21.323816, 'MSE': 5.5325627}\n"
     ]
    },
    {
     "name": "stderr",
     "output_type": "stream",
     "text": [
      "Epoch 74: 100%|██████████| 235/235 [00:59<00:00,  3.93it/s]\n"
     ]
    },
    {
     "name": "stdout",
     "output_type": "stream",
     "text": [
      "Epoch 74: {'loss': 1.5591801619157195, 'lr': 0.0001, 'MAE': 21.330238, 'MSE': 5.533333}\n"
     ]
    },
    {
     "name": "stderr",
     "output_type": "stream",
     "text": [
      "Epoch 75: 100%|██████████| 235/235 [01:00<00:00,  3.90it/s]\n"
     ]
    },
    {
     "name": "stdout",
     "output_type": "stream",
     "text": [
      "Epoch 75: {'loss': 1.5543952463194728, 'lr': 1e-05, 'MAE': 21.284643, 'MSE': 5.518236}\n"
     ]
    },
    {
     "name": "stderr",
     "output_type": "stream",
     "text": [
      "Epoch 76: 100%|██████████| 235/235 [01:00<00:00,  3.87it/s]\n"
     ]
    },
    {
     "name": "stdout",
     "output_type": "stream",
     "text": [
      "Epoch 76: {'loss': 1.5589090283028781, 'lr': 1e-05, 'MAE': 21.313023, 'MSE': 5.5219173}\n"
     ]
    },
    {
     "name": "stderr",
     "output_type": "stream",
     "text": [
      "Epoch 77: 100%|██████████| 235/235 [01:00<00:00,  3.89it/s]\n"
     ]
    },
    {
     "name": "stdout",
     "output_type": "stream",
     "text": [
      "Epoch 77: {'loss': 1.5568259567953646, 'lr': 1e-05, 'MAE': 21.2879, 'MSE': 5.516705}\n"
     ]
    },
    {
     "name": "stderr",
     "output_type": "stream",
     "text": [
      "Epoch 78: 100%|██████████| 235/235 [01:01<00:00,  3.80it/s]\n"
     ]
    },
    {
     "name": "stdout",
     "output_type": "stream",
     "text": [
      "Epoch 78: {'loss': 1.5568357142619789, 'lr': 1e-05, 'MAE': 21.295097, 'MSE': 5.51305}\n"
     ]
    },
    {
     "name": "stderr",
     "output_type": "stream",
     "text": [
      "Epoch 79: 100%|██████████| 235/235 [01:02<00:00,  3.77it/s]\n"
     ]
    },
    {
     "name": "stdout",
     "output_type": "stream",
     "text": [
      "Epoch 79: {'loss': 1.5549915404990315, 'lr': 1e-05, 'MAE': 21.303465, 'MSE': 5.5196404}\n"
     ]
    },
    {
     "name": "stderr",
     "output_type": "stream",
     "text": [
      "Epoch 80: 100%|██████████| 235/235 [01:02<00:00,  3.79it/s]\n"
     ]
    },
    {
     "name": "stdout",
     "output_type": "stream",
     "text": [
      "Epoch 80: {'loss': 1.5519797895103693, 'lr': 1e-05, 'MAE': 21.269854, 'MSE': 5.5197473}\n"
     ]
    },
    {
     "name": "stderr",
     "output_type": "stream",
     "text": [
      "Epoch 81: 100%|██████████| 235/235 [01:02<00:00,  3.76it/s]\n"
     ]
    },
    {
     "name": "stdout",
     "output_type": "stream",
     "text": [
      "Epoch 81: {'loss': 1.5560928797349334, 'lr': 1e-05, 'MAE': 21.31426, 'MSE': 5.526852}\n"
     ]
    },
    {
     "name": "stderr",
     "output_type": "stream",
     "text": [
      "Epoch 82: 100%|██████████| 235/235 [01:02<00:00,  3.77it/s]\n"
     ]
    },
    {
     "name": "stdout",
     "output_type": "stream",
     "text": [
      "Epoch 82: {'loss': 1.550311972387135, 'lr': 1e-05, 'MAE': 21.28596, 'MSE': 5.5176196}\n"
     ]
    },
    {
     "name": "stderr",
     "output_type": "stream",
     "text": [
      "Epoch 83: 100%|██████████| 235/235 [01:01<00:00,  3.81it/s]\n"
     ]
    },
    {
     "name": "stdout",
     "output_type": "stream",
     "text": [
      "Epoch 83: {'loss': 1.5516671477817, 'lr': 1e-05, 'MAE': 21.262703, 'MSE': 5.517351}\n"
     ]
    },
    {
     "name": "stderr",
     "output_type": "stream",
     "text": [
      "Epoch 84: 100%|██████████| 235/235 [01:02<00:00,  3.79it/s]\n"
     ]
    },
    {
     "name": "stdout",
     "output_type": "stream",
     "text": [
      "Epoch 84: {'loss': 1.5527917691506445, 'lr': 1e-05, 'MAE': 21.321554, 'MSE': 5.527499}\n"
     ]
    },
    {
     "name": "stderr",
     "output_type": "stream",
     "text": [
      "Epoch 85: 100%|██████████| 235/235 [01:02<00:00,  3.78it/s]\n"
     ]
    },
    {
     "name": "stdout",
     "output_type": "stream",
     "text": [
      "Epoch 85: {'loss': 1.5538045191206038, 'lr': 1e-05, 'MAE': 21.251947, 'MSE': 5.518401}\n"
     ]
    },
    {
     "name": "stderr",
     "output_type": "stream",
     "text": [
      "Epoch 86: 100%|██████████| 235/235 [01:01<00:00,  3.79it/s]\n"
     ]
    },
    {
     "name": "stdout",
     "output_type": "stream",
     "text": [
      "Epoch 86: {'loss': 1.550389596261084, 'lr': 1e-05, 'MAE': 21.244438, 'MSE': 5.5093694}\n"
     ]
    },
    {
     "name": "stderr",
     "output_type": "stream",
     "text": [
      "Epoch 87: 100%|██████████| 235/235 [01:01<00:00,  3.80it/s]\n"
     ]
    },
    {
     "name": "stdout",
     "output_type": "stream",
     "text": [
      "Epoch 87: {'loss': 1.5566265685483813, 'lr': 1e-05, 'MAE': 21.28018, 'MSE': 5.5102587}\n"
     ]
    },
    {
     "name": "stderr",
     "output_type": "stream",
     "text": [
      "Epoch 88: 100%|██████████| 235/235 [01:02<00:00,  3.78it/s]\n"
     ]
    },
    {
     "name": "stdout",
     "output_type": "stream",
     "text": [
      "Epoch 88: {'loss': 1.5562826409004629, 'lr': 1e-05, 'MAE': 21.304794, 'MSE': 5.5202312}\n"
     ]
    },
    {
     "name": "stderr",
     "output_type": "stream",
     "text": [
      "Epoch 89: 100%|██████████| 235/235 [01:02<00:00,  3.79it/s]\n"
     ]
    },
    {
     "name": "stdout",
     "output_type": "stream",
     "text": [
      "Epoch 89: {'loss': 1.556194833945483, 'lr': 1e-05, 'MAE': 21.254965, 'MSE': 5.507958}\n"
     ]
    },
    {
     "name": "stderr",
     "output_type": "stream",
     "text": [
      "Epoch 90: 100%|██████████| 235/235 [01:01<00:00,  3.79it/s]\n"
     ]
    },
    {
     "name": "stdout",
     "output_type": "stream",
     "text": [
      "Epoch 90: {'loss': 1.551353161688894, 'lr': 1e-05, 'MAE': 21.279093, 'MSE': 5.5283313}\n"
     ]
    },
    {
     "name": "stderr",
     "output_type": "stream",
     "text": [
      "Epoch 91: 100%|██████████| 235/235 [01:01<00:00,  3.79it/s]\n"
     ]
    },
    {
     "name": "stdout",
     "output_type": "stream",
     "text": [
      "Epoch 91: {'loss': 1.5530588277615607, 'lr': 1e-05, 'MAE': 21.353813, 'MSE': 5.554026}\n"
     ]
    },
    {
     "name": "stderr",
     "output_type": "stream",
     "text": [
      "Epoch 92: 100%|██████████| 235/235 [01:01<00:00,  3.79it/s]\n"
     ]
    },
    {
     "name": "stdout",
     "output_type": "stream",
     "text": [
      "Epoch 92: {'loss': 1.5523049258626997, 'lr': 1e-05, 'MAE': 21.254358, 'MSE': 5.5133963}\n"
     ]
    },
    {
     "name": "stderr",
     "output_type": "stream",
     "text": [
      "Epoch 93: 100%|██████████| 235/235 [01:01<00:00,  3.80it/s]\n"
     ]
    },
    {
     "name": "stdout",
     "output_type": "stream",
     "text": [
      "Epoch 93: {'loss': 1.5518575287424028, 'lr': 1e-05, 'MAE': 21.260754, 'MSE': 5.5208793}\n"
     ]
    },
    {
     "name": "stderr",
     "output_type": "stream",
     "text": [
      "Epoch 94: 100%|██████████| 235/235 [01:01<00:00,  3.79it/s]\n"
     ]
    },
    {
     "name": "stdout",
     "output_type": "stream",
     "text": [
      "Epoch 94: {'loss': 1.5528848874382675, 'lr': 1e-05, 'MAE': 21.307438, 'MSE': 5.520124}\n"
     ]
    },
    {
     "name": "stderr",
     "output_type": "stream",
     "text": [
      "Epoch 95: 100%|██████████| 235/235 [01:02<00:00,  3.77it/s]\n"
     ]
    },
    {
     "name": "stdout",
     "output_type": "stream",
     "text": [
      "Epoch 95: {'loss': 1.5516496077179909, 'lr': 1e-05, 'MAE': 21.267159, 'MSE': 5.521691}\n"
     ]
    },
    {
     "name": "stderr",
     "output_type": "stream",
     "text": [
      "Epoch 96: 100%|██████████| 235/235 [01:01<00:00,  3.79it/s]\n"
     ]
    },
    {
     "name": "stdout",
     "output_type": "stream",
     "text": [
      "Epoch 96: {'loss': 1.5458959322422743, 'lr': 1e-05, 'MAE': 21.253859, 'MSE': 5.511167}\n"
     ]
    },
    {
     "name": "stderr",
     "output_type": "stream",
     "text": [
      "Epoch 97: 100%|██████████| 235/235 [01:02<00:00,  3.79it/s]\n"
     ]
    },
    {
     "name": "stdout",
     "output_type": "stream",
     "text": [
      "Epoch 97: {'loss': 1.5521499952301383, 'lr': 1e-05, 'MAE': 21.238295, 'MSE': 5.509724}\n"
     ]
    },
    {
     "name": "stderr",
     "output_type": "stream",
     "text": [
      "Epoch 98: 100%|██████████| 235/235 [01:01<00:00,  3.79it/s]\n"
     ]
    },
    {
     "name": "stdout",
     "output_type": "stream",
     "text": [
      "Epoch 98: {'loss': 1.551817873492837, 'lr': 1e-05, 'MAE': 21.249832, 'MSE': 5.504079}\n"
     ]
    },
    {
     "name": "stderr",
     "output_type": "stream",
     "text": [
      "Epoch 99: 100%|██████████| 235/235 [01:02<00:00,  3.76it/s]\n"
     ]
    },
    {
     "name": "stdout",
     "output_type": "stream",
     "text": [
      "Epoch 99: {'loss': 1.555564922746271, 'lr': 1e-05, 'MAE': 21.239922, 'MSE': 5.5053334}\n",
      "Saving the result to ./13/predictions/images_encoded.npy\n",
      "Saving the result to ./13/predictions/images_decoded.npy\n",
      "{'model': 'ResNet50 – базовая модель', 'MAE': 21.239921498151553, 'MSE': 5.505333345827394}\n",
      "Trying features_images - <cvtda.autoencoder.Autoencoder.Autoencoder object at 0x000001FC899CC310>\n",
      "Encoder Base parameters: 36126656\n",
      "Decoder parameters: 1745857\n"
     ]
    },
    {
     "name": "stderr",
     "output_type": "stream",
     "text": [
      "Epoch 0: 100%|██████████| 235/235 [01:03<00:00,  3.70it/s]\n"
     ]
    },
    {
     "name": "stdout",
     "output_type": "stream",
     "text": [
      "Epoch 0: {'loss': 12.659787684679031, 'lr': 0.1, 'MAE': 63.253494, 'MSE': 25.5614}\n"
     ]
    },
    {
     "name": "stderr",
     "output_type": "stream",
     "text": [
      "Epoch 1: 100%|██████████| 235/235 [01:03<00:00,  3.70it/s]\n"
     ]
    },
    {
     "name": "stdout",
     "output_type": "stream",
     "text": [
      "Epoch 1: {'loss': 5.482827244326472, 'lr': 0.1, 'MAE': 41.93912, 'MSE': 15.259484}\n"
     ]
    },
    {
     "name": "stderr",
     "output_type": "stream",
     "text": [
      "Epoch 2: 100%|██████████| 235/235 [01:04<00:00,  3.66it/s]\n"
     ]
    },
    {
     "name": "stdout",
     "output_type": "stream",
     "text": [
      "Epoch 2: {'loss': 3.5463293492794037, 'lr': 0.1, 'MAE': 32.632393, 'MSE': 10.311035}\n"
     ]
    },
    {
     "name": "stderr",
     "output_type": "stream",
     "text": [
      "Epoch 3: 100%|██████████| 235/235 [01:03<00:00,  3.69it/s]\n"
     ]
    },
    {
     "name": "stdout",
     "output_type": "stream",
     "text": [
      "Epoch 3: {'loss': 2.568782920949161, 'lr': 0.1, 'MAE': 27.604637, 'MSE': 7.9588976}\n"
     ]
    },
    {
     "name": "stderr",
     "output_type": "stream",
     "text": [
      "Epoch 4: 100%|██████████| 235/235 [01:03<00:00,  3.72it/s]\n"
     ]
    },
    {
     "name": "stdout",
     "output_type": "stream",
     "text": [
      "Epoch 4: {'loss': 2.077709723263979, 'lr': 0.1, 'MAE': 25.489515, 'MSE': 6.881097}\n"
     ]
    },
    {
     "name": "stderr",
     "output_type": "stream",
     "text": [
      "Epoch 5: 100%|██████████| 235/235 [01:03<00:00,  3.71it/s]\n"
     ]
    },
    {
     "name": "stdout",
     "output_type": "stream",
     "text": [
      "Epoch 5: {'loss': 1.7758640996180475, 'lr': 0.1, 'MAE': 23.210695, 'MSE': 5.8804216}\n"
     ]
    },
    {
     "name": "stderr",
     "output_type": "stream",
     "text": [
      "Epoch 6: 100%|██████████| 235/235 [01:04<00:00,  3.62it/s]\n"
     ]
    },
    {
     "name": "stdout",
     "output_type": "stream",
     "text": [
      "Epoch 6: {'loss': 1.5961399031803012, 'lr': 0.1, 'MAE': 22.184563, 'MSE': 5.4021635}\n"
     ]
    },
    {
     "name": "stderr",
     "output_type": "stream",
     "text": [
      "Epoch 7: 100%|██████████| 235/235 [01:02<00:00,  3.77it/s]\n"
     ]
    },
    {
     "name": "stdout",
     "output_type": "stream",
     "text": [
      "Epoch 7: {'loss': 1.4819190516136587, 'lr': 0.1, 'MAE': 20.935171, 'MSE': 4.8895774}\n"
     ]
    },
    {
     "name": "stderr",
     "output_type": "stream",
     "text": [
      "Epoch 8: 100%|██████████| 235/235 [01:01<00:00,  3.81it/s]\n"
     ]
    },
    {
     "name": "stdout",
     "output_type": "stream",
     "text": [
      "Epoch 8: {'loss': 1.3687810287810862, 'lr': 0.1, 'MAE': 19.900558, 'MSE': 4.6199937}\n"
     ]
    },
    {
     "name": "stderr",
     "output_type": "stream",
     "text": [
      "Epoch 9: 100%|██████████| 235/235 [01:02<00:00,  3.76it/s]\n"
     ]
    },
    {
     "name": "stdout",
     "output_type": "stream",
     "text": [
      "Epoch 9: {'loss': 1.3428366840817034, 'lr': 0.1, 'MAE': 20.241875, 'MSE': 4.7119327}\n"
     ]
    },
    {
     "name": "stderr",
     "output_type": "stream",
     "text": [
      "Epoch 10: 100%|██████████| 235/235 [01:01<00:00,  3.80it/s]\n"
     ]
    },
    {
     "name": "stdout",
     "output_type": "stream",
     "text": [
      "Epoch 10: {'loss': 0.8805948777589947, 'lr': 0.010000000000000002, 'MAE': 15.342605, 'MSE': 2.9043996}\n"
     ]
    },
    {
     "name": "stderr",
     "output_type": "stream",
     "text": [
      "Epoch 11: 100%|██████████| 235/235 [01:02<00:00,  3.76it/s]\n"
     ]
    },
    {
     "name": "stdout",
     "output_type": "stream",
     "text": [
      "Epoch 11: {'loss': 0.7952539045363665, 'lr': 0.010000000000000002, 'MAE': 14.970662, 'MSE': 2.7936003}\n"
     ]
    },
    {
     "name": "stderr",
     "output_type": "stream",
     "text": [
      "Epoch 12: 100%|██████████| 235/235 [01:03<00:00,  3.73it/s]\n"
     ]
    },
    {
     "name": "stdout",
     "output_type": "stream",
     "text": [
      "Epoch 12: {'loss': 0.7629904972855002, 'lr': 0.010000000000000002, 'MAE': 14.730134, 'MSE': 2.7184296}\n"
     ]
    },
    {
     "name": "stderr",
     "output_type": "stream",
     "text": [
      "Epoch 13: 100%|██████████| 235/235 [01:05<00:00,  3.60it/s]\n"
     ]
    },
    {
     "name": "stdout",
     "output_type": "stream",
     "text": [
      "Epoch 13: {'loss': 0.7395047300960869, 'lr': 0.010000000000000002, 'MAE': 14.490372, 'MSE': 2.6576905}\n"
     ]
    },
    {
     "name": "stderr",
     "output_type": "stream",
     "text": [
      "Epoch 14: 100%|██████████| 235/235 [01:04<00:00,  3.62it/s]\n"
     ]
    },
    {
     "name": "stdout",
     "output_type": "stream",
     "text": [
      "Epoch 14: {'loss': 0.7217871469911188, 'lr': 0.010000000000000002, 'MAE': 14.353653, 'MSE': 2.632561}\n"
     ]
    },
    {
     "name": "stderr",
     "output_type": "stream",
     "text": [
      "Epoch 15: 100%|██████████| 235/235 [01:02<00:00,  3.74it/s]\n"
     ]
    },
    {
     "name": "stdout",
     "output_type": "stream",
     "text": [
      "Epoch 15: {'loss': 0.7051604951266199, 'lr': 0.010000000000000002, 'MAE': 14.111558, 'MSE': 2.5802824}\n"
     ]
    },
    {
     "name": "stderr",
     "output_type": "stream",
     "text": [
      "Epoch 16: 100%|██████████| 235/235 [00:59<00:00,  3.92it/s]\n"
     ]
    },
    {
     "name": "stdout",
     "output_type": "stream",
     "text": [
      "Epoch 16: {'loss': 0.6903216924984008, 'lr': 0.010000000000000002, 'MAE': 13.9697, 'MSE': 2.5384092}\n"
     ]
    },
    {
     "name": "stderr",
     "output_type": "stream",
     "text": [
      "Epoch 17: 100%|██████████| 235/235 [01:00<00:00,  3.89it/s]\n"
     ]
    },
    {
     "name": "stdout",
     "output_type": "stream",
     "text": [
      "Epoch 17: {'loss': 0.6808925040531904, 'lr': 0.010000000000000002, 'MAE': 13.815579, 'MSE': 2.5059283}\n"
     ]
    },
    {
     "name": "stderr",
     "output_type": "stream",
     "text": [
      "Epoch 18: 100%|██████████| 235/235 [01:00<00:00,  3.88it/s]\n"
     ]
    },
    {
     "name": "stdout",
     "output_type": "stream",
     "text": [
      "Epoch 18: {'loss': 0.6666094856336713, 'lr': 0.010000000000000002, 'MAE': 13.776403, 'MSE': 2.5057704}\n"
     ]
    },
    {
     "name": "stderr",
     "output_type": "stream",
     "text": [
      "Epoch 19: 100%|██████████| 235/235 [01:00<00:00,  3.87it/s]\n"
     ]
    },
    {
     "name": "stdout",
     "output_type": "stream",
     "text": [
      "Epoch 19: {'loss': 0.6543603311292827, 'lr': 0.010000000000000002, 'MAE': 13.552047, 'MSE': 2.4284248}\n"
     ]
    },
    {
     "name": "stderr",
     "output_type": "stream",
     "text": [
      "Epoch 20: 100%|██████████| 235/235 [01:00<00:00,  3.87it/s]\n"
     ]
    },
    {
     "name": "stdout",
     "output_type": "stream",
     "text": [
      "Epoch 20: {'loss': 0.6431682882830501, 'lr': 0.010000000000000002, 'MAE': 13.555409, 'MSE': 2.4411767}\n"
     ]
    },
    {
     "name": "stderr",
     "output_type": "stream",
     "text": [
      "Epoch 21: 100%|██████████| 235/235 [01:00<00:00,  3.90it/s]\n"
     ]
    },
    {
     "name": "stdout",
     "output_type": "stream",
     "text": [
      "Epoch 21: {'loss': 0.6328175286762416, 'lr': 0.010000000000000002, 'MAE': 13.261006, 'MSE': 2.368623}\n"
     ]
    },
    {
     "name": "stderr",
     "output_type": "stream",
     "text": [
      "Epoch 22: 100%|██████████| 235/235 [01:00<00:00,  3.85it/s]\n"
     ]
    },
    {
     "name": "stdout",
     "output_type": "stream",
     "text": [
      "Epoch 22: {'loss': 0.6217696024104953, 'lr': 0.010000000000000002, 'MAE': 13.142974, 'MSE': 2.3359692}\n"
     ]
    },
    {
     "name": "stderr",
     "output_type": "stream",
     "text": [
      "Epoch 23: 100%|██████████| 235/235 [01:00<00:00,  3.86it/s]\n"
     ]
    },
    {
     "name": "stdout",
     "output_type": "stream",
     "text": [
      "Epoch 23: {'loss': 0.6151587227359414, 'lr': 0.010000000000000002, 'MAE': 13.084186, 'MSE': 2.3432317}\n"
     ]
    },
    {
     "name": "stderr",
     "output_type": "stream",
     "text": [
      "Epoch 24: 100%|██████████| 235/235 [01:00<00:00,  3.91it/s]\n"
     ]
    },
    {
     "name": "stdout",
     "output_type": "stream",
     "text": [
      "Epoch 24: {'loss': 0.6051449850201607, 'lr': 0.010000000000000002, 'MAE': 13.190851, 'MSE': 2.3699327}\n"
     ]
    },
    {
     "name": "stderr",
     "output_type": "stream",
     "text": [
      "Epoch 25: 100%|██████████| 235/235 [01:00<00:00,  3.90it/s]\n"
     ]
    },
    {
     "name": "stdout",
     "output_type": "stream",
     "text": [
      "Epoch 25: {'loss': 0.5161070058820769, 'lr': 0.001, 'MAE': 12.06283, 'MSE': 2.0191736}\n"
     ]
    },
    {
     "name": "stderr",
     "output_type": "stream",
     "text": [
      "Epoch 26: 100%|██████████| 235/235 [01:00<00:00,  3.89it/s]\n"
     ]
    },
    {
     "name": "stdout",
     "output_type": "stream",
     "text": [
      "Epoch 26: {'loss': 0.5007447291864082, 'lr': 0.001, 'MAE': 11.991412, 'MSE': 2.0034997}\n"
     ]
    },
    {
     "name": "stderr",
     "output_type": "stream",
     "text": [
      "Epoch 27: 100%|██████████| 235/235 [01:00<00:00,  3.91it/s]\n"
     ]
    },
    {
     "name": "stdout",
     "output_type": "stream",
     "text": [
      "Epoch 27: {'loss': 0.4960137492744252, 'lr': 0.001, 'MAE': 11.972519, 'MSE': 1.9977254}\n"
     ]
    },
    {
     "name": "stderr",
     "output_type": "stream",
     "text": [
      "Epoch 28: 100%|██████████| 235/235 [01:00<00:00,  3.87it/s]\n"
     ]
    },
    {
     "name": "stdout",
     "output_type": "stream",
     "text": [
      "Epoch 28: {'loss': 0.4924263103166595, 'lr': 0.001, 'MAE': 11.91898, 'MSE': 1.9876133}\n"
     ]
    },
    {
     "name": "stderr",
     "output_type": "stream",
     "text": [
      "Epoch 29: 100%|██████████| 235/235 [01:01<00:00,  3.80it/s]\n"
     ]
    },
    {
     "name": "stdout",
     "output_type": "stream",
     "text": [
      "Epoch 29: {'loss': 0.48959024192299694, 'lr': 0.001, 'MAE': 11.886034, 'MSE': 1.9852176}\n"
     ]
    },
    {
     "name": "stderr",
     "output_type": "stream",
     "text": [
      "Epoch 30: 100%|██████████| 235/235 [01:00<00:00,  3.89it/s]\n"
     ]
    },
    {
     "name": "stdout",
     "output_type": "stream",
     "text": [
      "Epoch 30: {'loss': 0.4870110444026068, 'lr': 0.001, 'MAE': 11.841311, 'MSE': 1.977138}\n"
     ]
    },
    {
     "name": "stderr",
     "output_type": "stream",
     "text": [
      "Epoch 31: 100%|██████████| 235/235 [01:01<00:00,  3.85it/s]\n"
     ]
    },
    {
     "name": "stdout",
     "output_type": "stream",
     "text": [
      "Epoch 31: {'loss': 0.48447129933629185, 'lr': 0.001, 'MAE': 11.82431, 'MSE': 1.9712392}\n"
     ]
    },
    {
     "name": "stderr",
     "output_type": "stream",
     "text": [
      "Epoch 32: 100%|██████████| 235/235 [01:00<00:00,  3.87it/s]\n"
     ]
    },
    {
     "name": "stdout",
     "output_type": "stream",
     "text": [
      "Epoch 32: {'loss': 0.4813708160072565, 'lr': 0.001, 'MAE': 11.8105545, 'MSE': 1.9632782}\n"
     ]
    },
    {
     "name": "stderr",
     "output_type": "stream",
     "text": [
      "Epoch 33: 100%|██████████| 235/235 [01:00<00:00,  3.88it/s]\n"
     ]
    },
    {
     "name": "stdout",
     "output_type": "stream",
     "text": [
      "Epoch 33: {'loss': 0.47842521115671843, 'lr': 0.001, 'MAE': 11.768905, 'MSE': 1.9567633}\n"
     ]
    },
    {
     "name": "stderr",
     "output_type": "stream",
     "text": [
      "Epoch 34: 100%|██████████| 235/235 [01:00<00:00,  3.90it/s]\n"
     ]
    },
    {
     "name": "stdout",
     "output_type": "stream",
     "text": [
      "Epoch 34: {'loss': 0.4759050008142367, 'lr': 0.001, 'MAE': 11.750873, 'MSE': 1.9561404}\n"
     ]
    },
    {
     "name": "stderr",
     "output_type": "stream",
     "text": [
      "Epoch 35: 100%|██████████| 235/235 [01:00<00:00,  3.89it/s]\n"
     ]
    },
    {
     "name": "stdout",
     "output_type": "stream",
     "text": [
      "Epoch 35: {'loss': 0.4735663073370233, 'lr': 0.001, 'MAE': 11.722492, 'MSE': 1.9486842}\n"
     ]
    },
    {
     "name": "stderr",
     "output_type": "stream",
     "text": [
      "Epoch 36: 100%|██████████| 235/235 [01:00<00:00,  3.87it/s]\n"
     ]
    },
    {
     "name": "stdout",
     "output_type": "stream",
     "text": [
      "Epoch 36: {'loss': 0.4706856309203431, 'lr': 0.001, 'MAE': 11.6675415, 'MSE': 1.9423742}\n"
     ]
    },
    {
     "name": "stderr",
     "output_type": "stream",
     "text": [
      "Epoch 37: 100%|██████████| 235/235 [01:00<00:00,  3.91it/s]\n"
     ]
    },
    {
     "name": "stdout",
     "output_type": "stream",
     "text": [
      "Epoch 37: {'loss': 0.4682797356508672, 'lr': 0.001, 'MAE': 11.641414, 'MSE': 1.9368896}\n"
     ]
    },
    {
     "name": "stderr",
     "output_type": "stream",
     "text": [
      "Epoch 38: 100%|██████████| 235/235 [01:00<00:00,  3.90it/s]\n"
     ]
    },
    {
     "name": "stdout",
     "output_type": "stream",
     "text": [
      "Epoch 38: {'loss': 0.46490836271550506, 'lr': 0.001, 'MAE': 11.629477, 'MSE': 1.9262719}\n"
     ]
    },
    {
     "name": "stderr",
     "output_type": "stream",
     "text": [
      "Epoch 39: 100%|██████████| 235/235 [01:01<00:00,  3.82it/s]\n"
     ]
    },
    {
     "name": "stdout",
     "output_type": "stream",
     "text": [
      "Epoch 39: {'loss': 0.4623119061579928, 'lr': 0.001, 'MAE': 11.595081, 'MSE': 1.9199394}\n"
     ]
    },
    {
     "name": "stderr",
     "output_type": "stream",
     "text": [
      "Epoch 40: 100%|██████████| 235/235 [01:00<00:00,  3.89it/s]\n"
     ]
    },
    {
     "name": "stdout",
     "output_type": "stream",
     "text": [
      "Epoch 40: {'loss': 0.4595805599819869, 'lr': 0.001, 'MAE': 11.568691, 'MSE': 1.9218518}\n"
     ]
    },
    {
     "name": "stderr",
     "output_type": "stream",
     "text": [
      "Epoch 41: 100%|██████████| 235/235 [01:00<00:00,  3.91it/s]\n"
     ]
    },
    {
     "name": "stdout",
     "output_type": "stream",
     "text": [
      "Epoch 41: {'loss': 0.4571994176367298, 'lr': 0.001, 'MAE': 11.532603, 'MSE': 1.9121879}\n"
     ]
    },
    {
     "name": "stderr",
     "output_type": "stream",
     "text": [
      "Epoch 42: 100%|██████████| 235/235 [01:00<00:00,  3.87it/s]\n"
     ]
    },
    {
     "name": "stdout",
     "output_type": "stream",
     "text": [
      "Epoch 42: {'loss': 0.45437209436204284, 'lr': 0.001, 'MAE': 11.486996, 'MSE': 1.9049699}\n"
     ]
    },
    {
     "name": "stderr",
     "output_type": "stream",
     "text": [
      "Epoch 43: 100%|██████████| 235/235 [01:01<00:00,  3.84it/s]\n"
     ]
    },
    {
     "name": "stdout",
     "output_type": "stream",
     "text": [
      "Epoch 43: {'loss': 0.45219555916264653, 'lr': 0.001, 'MAE': 11.43959, 'MSE': 1.8950948}\n"
     ]
    },
    {
     "name": "stderr",
     "output_type": "stream",
     "text": [
      "Epoch 44: 100%|██████████| 235/235 [01:00<00:00,  3.87it/s]\n"
     ]
    },
    {
     "name": "stdout",
     "output_type": "stream",
     "text": [
      "Epoch 44: {'loss': 0.4491553051630035, 'lr': 0.001, 'MAE': 11.441219, 'MSE': 1.898083}\n"
     ]
    },
    {
     "name": "stderr",
     "output_type": "stream",
     "text": [
      "Epoch 45: 100%|██████████| 235/235 [01:00<00:00,  3.91it/s]\n"
     ]
    },
    {
     "name": "stdout",
     "output_type": "stream",
     "text": [
      "Epoch 45: {'loss': 0.4465955620398745, 'lr': 0.001, 'MAE': 11.391578, 'MSE': 1.8898847}\n"
     ]
    },
    {
     "name": "stderr",
     "output_type": "stream",
     "text": [
      "Epoch 46: 100%|██████████| 235/235 [01:01<00:00,  3.84it/s]\n"
     ]
    },
    {
     "name": "stdout",
     "output_type": "stream",
     "text": [
      "Epoch 46: {'loss': 0.4442834622459486, 'lr': 0.001, 'MAE': 11.404913, 'MSE': 1.8901443}\n"
     ]
    },
    {
     "name": "stderr",
     "output_type": "stream",
     "text": [
      "Epoch 47: 100%|██████████| 235/235 [01:01<00:00,  3.85it/s]\n"
     ]
    },
    {
     "name": "stdout",
     "output_type": "stream",
     "text": [
      "Epoch 47: {'loss': 0.44190494692884386, 'lr': 0.001, 'MAE': 11.36242, 'MSE': 1.8782277}\n"
     ]
    },
    {
     "name": "stderr",
     "output_type": "stream",
     "text": [
      "Epoch 48: 100%|██████████| 235/235 [01:00<00:00,  3.90it/s]\n"
     ]
    },
    {
     "name": "stdout",
     "output_type": "stream",
     "text": [
      "Epoch 48: {'loss': 0.43950761773157865, 'lr': 0.001, 'MAE': 11.339353, 'MSE': 1.8742633}\n"
     ]
    },
    {
     "name": "stderr",
     "output_type": "stream",
     "text": [
      "Epoch 49: 100%|██████████| 235/235 [01:01<00:00,  3.81it/s]\n"
     ]
    },
    {
     "name": "stdout",
     "output_type": "stream",
     "text": [
      "Epoch 49: {'loss': 0.4375219600042328, 'lr': 0.001, 'MAE': 11.304977, 'MSE': 1.8777673}\n"
     ]
    },
    {
     "name": "stderr",
     "output_type": "stream",
     "text": [
      "Epoch 50: 100%|██████████| 235/235 [01:02<00:00,  3.79it/s]\n"
     ]
    },
    {
     "name": "stdout",
     "output_type": "stream",
     "text": [
      "Epoch 50: {'loss': 0.4243449945934117, 'lr': 0.0001, 'MAE': 11.208923, 'MSE': 1.8451977}\n"
     ]
    },
    {
     "name": "stderr",
     "output_type": "stream",
     "text": [
      "Epoch 51: 100%|██████████| 235/235 [01:00<00:00,  3.87it/s]\n"
     ]
    },
    {
     "name": "stdout",
     "output_type": "stream",
     "text": [
      "Epoch 51: {'loss': 0.4223297954304144, 'lr': 0.0001, 'MAE': 11.2014065, 'MSE': 1.8443383}\n"
     ]
    },
    {
     "name": "stderr",
     "output_type": "stream",
     "text": [
      "Epoch 52: 100%|██████████| 235/235 [01:01<00:00,  3.81it/s]\n"
     ]
    },
    {
     "name": "stdout",
     "output_type": "stream",
     "text": [
      "Epoch 52: {'loss': 0.42169501539319754, 'lr': 0.0001, 'MAE': 11.202074, 'MSE': 1.8433881}\n"
     ]
    },
    {
     "name": "stderr",
     "output_type": "stream",
     "text": [
      "Epoch 53: 100%|██████████| 235/235 [01:04<00:00,  3.63it/s]\n"
     ]
    },
    {
     "name": "stdout",
     "output_type": "stream",
     "text": [
      "Epoch 53: {'loss': 0.42131297872401774, 'lr': 0.0001, 'MAE': 11.190285, 'MSE': 1.8431156}\n"
     ]
    },
    {
     "name": "stderr",
     "output_type": "stream",
     "text": [
      "Epoch 54: 100%|██████████| 235/235 [01:05<00:00,  3.57it/s]\n"
     ]
    },
    {
     "name": "stdout",
     "output_type": "stream",
     "text": [
      "Epoch 54: {'loss': 0.42078997020144016, 'lr': 0.0001, 'MAE': 11.19021, 'MSE': 1.8426098}\n"
     ]
    },
    {
     "name": "stderr",
     "output_type": "stream",
     "text": [
      "Epoch 55: 100%|██████████| 235/235 [01:07<00:00,  3.50it/s]\n"
     ]
    },
    {
     "name": "stdout",
     "output_type": "stream",
     "text": [
      "Epoch 55: {'loss': 0.42084866401273757, 'lr': 0.0001, 'MAE': 11.182417, 'MSE': 1.8419877}\n"
     ]
    },
    {
     "name": "stderr",
     "output_type": "stream",
     "text": [
      "Epoch 56: 100%|██████████| 235/235 [01:08<00:00,  3.44it/s]\n"
     ]
    },
    {
     "name": "stdout",
     "output_type": "stream",
     "text": [
      "Epoch 56: {'loss': 0.4201798113062978, 'lr': 0.0001, 'MAE': 11.192454, 'MSE': 1.841957}\n"
     ]
    },
    {
     "name": "stderr",
     "output_type": "stream",
     "text": [
      "Epoch 57: 100%|██████████| 235/235 [01:07<00:00,  3.46it/s]\n"
     ]
    },
    {
     "name": "stdout",
     "output_type": "stream",
     "text": [
      "Epoch 57: {'loss': 0.41970712214242667, 'lr': 0.0001, 'MAE': 11.186257, 'MSE': 1.8414747}\n"
     ]
    },
    {
     "name": "stderr",
     "output_type": "stream",
     "text": [
      "Epoch 58: 100%|██████████| 235/235 [01:08<00:00,  3.45it/s]\n"
     ]
    },
    {
     "name": "stdout",
     "output_type": "stream",
     "text": [
      "Epoch 58: {'loss': 0.4193073428468779, 'lr': 0.0001, 'MAE': 11.179728, 'MSE': 1.8412459}\n"
     ]
    },
    {
     "name": "stderr",
     "output_type": "stream",
     "text": [
      "Epoch 59: 100%|██████████| 235/235 [01:08<00:00,  3.43it/s]\n"
     ]
    },
    {
     "name": "stdout",
     "output_type": "stream",
     "text": [
      "Epoch 59: {'loss': 0.41892813716549426, 'lr': 0.0001, 'MAE': 11.173562, 'MSE': 1.8407153}\n"
     ]
    },
    {
     "name": "stderr",
     "output_type": "stream",
     "text": [
      "Epoch 60: 100%|██████████| 235/235 [01:07<00:00,  3.46it/s]\n"
     ]
    },
    {
     "name": "stdout",
     "output_type": "stream",
     "text": [
      "Epoch 60: {'loss': 0.41863564623054117, 'lr': 0.0001, 'MAE': 11.167839, 'MSE': 1.8417149}\n"
     ]
    },
    {
     "name": "stderr",
     "output_type": "stream",
     "text": [
      "Epoch 61: 100%|██████████| 235/235 [01:07<00:00,  3.47it/s]\n"
     ]
    },
    {
     "name": "stdout",
     "output_type": "stream",
     "text": [
      "Epoch 61: {'loss': 0.41847281181253493, 'lr': 0.0001, 'MAE': 11.162901, 'MSE': 1.8398412}\n"
     ]
    },
    {
     "name": "stderr",
     "output_type": "stream",
     "text": [
      "Epoch 62: 100%|██████████| 235/235 [01:08<00:00,  3.45it/s]\n"
     ]
    },
    {
     "name": "stdout",
     "output_type": "stream",
     "text": [
      "Epoch 62: {'loss': 0.4178953676018864, 'lr': 0.0001, 'MAE': 11.154803, 'MSE': 1.8404912}\n"
     ]
    },
    {
     "name": "stderr",
     "output_type": "stream",
     "text": [
      "Epoch 63: 100%|██████████| 235/235 [01:07<00:00,  3.46it/s]\n"
     ]
    },
    {
     "name": "stdout",
     "output_type": "stream",
     "text": [
      "Epoch 63: {'loss': 0.417462159646675, 'lr': 0.0001, 'MAE': 11.159392, 'MSE': 1.8403492}\n"
     ]
    },
    {
     "name": "stderr",
     "output_type": "stream",
     "text": [
      "Epoch 64: 100%|██████████| 235/235 [01:08<00:00,  3.45it/s]\n"
     ]
    },
    {
     "name": "stdout",
     "output_type": "stream",
     "text": [
      "Epoch 64: {'loss': 0.4174797845771536, 'lr': 0.0001, 'MAE': 11.152011, 'MSE': 1.8394701}\n"
     ]
    },
    {
     "name": "stderr",
     "output_type": "stream",
     "text": [
      "Epoch 65: 100%|██████████| 235/235 [01:08<00:00,  3.45it/s]\n"
     ]
    },
    {
     "name": "stdout",
     "output_type": "stream",
     "text": [
      "Epoch 65: {'loss': 0.4171315840212628, 'lr': 0.0001, 'MAE': 11.154652, 'MSE': 1.8389041}\n"
     ]
    },
    {
     "name": "stderr",
     "output_type": "stream",
     "text": [
      "Epoch 66: 100%|██████████| 235/235 [01:04<00:00,  3.63it/s]\n"
     ]
    },
    {
     "name": "stdout",
     "output_type": "stream",
     "text": [
      "Epoch 66: {'loss': 0.41658775543328375, 'lr': 0.0001, 'MAE': 11.14857, 'MSE': 1.838399}\n"
     ]
    },
    {
     "name": "stderr",
     "output_type": "stream",
     "text": [
      "Epoch 67: 100%|██████████| 235/235 [01:04<00:00,  3.66it/s]\n"
     ]
    },
    {
     "name": "stdout",
     "output_type": "stream",
     "text": [
      "Epoch 67: {'loss': 0.4163435890804976, 'lr': 0.0001, 'MAE': 11.1434355, 'MSE': 1.8387222}\n"
     ]
    },
    {
     "name": "stderr",
     "output_type": "stream",
     "text": [
      "Epoch 68: 100%|██████████| 235/235 [01:06<00:00,  3.56it/s]\n"
     ]
    },
    {
     "name": "stdout",
     "output_type": "stream",
     "text": [
      "Epoch 68: {'loss': 0.41567493393085897, 'lr': 0.0001, 'MAE': 11.142105, 'MSE': 1.8371844}\n"
     ]
    },
    {
     "name": "stderr",
     "output_type": "stream",
     "text": [
      "Epoch 69: 100%|██████████| 235/235 [01:05<00:00,  3.58it/s]\n"
     ]
    },
    {
     "name": "stdout",
     "output_type": "stream",
     "text": [
      "Epoch 69: {'loss': 0.41554293129593134, 'lr': 0.0001, 'MAE': 11.133376, 'MSE': 1.8371352}\n"
     ]
    },
    {
     "name": "stderr",
     "output_type": "stream",
     "text": [
      "Epoch 70: 100%|██████████| 235/235 [01:06<00:00,  3.56it/s]\n"
     ]
    },
    {
     "name": "stdout",
     "output_type": "stream",
     "text": [
      "Epoch 70: {'loss': 0.4153645682381466, 'lr': 0.0001, 'MAE': 11.128666, 'MSE': 1.836501}\n"
     ]
    },
    {
     "name": "stderr",
     "output_type": "stream",
     "text": [
      "Epoch 71: 100%|██████████| 235/235 [01:04<00:00,  3.67it/s]\n"
     ]
    },
    {
     "name": "stdout",
     "output_type": "stream",
     "text": [
      "Epoch 71: {'loss': 0.41522570175584406, 'lr': 0.0001, 'MAE': 11.130865, 'MSE': 1.8356988}\n"
     ]
    },
    {
     "name": "stderr",
     "output_type": "stream",
     "text": [
      "Epoch 72: 100%|██████████| 235/235 [01:03<00:00,  3.69it/s]\n"
     ]
    },
    {
     "name": "stdout",
     "output_type": "stream",
     "text": [
      "Epoch 72: {'loss': 0.4148351000621915, 'lr': 0.0001, 'MAE': 11.124525, 'MSE': 1.836692}\n"
     ]
    },
    {
     "name": "stderr",
     "output_type": "stream",
     "text": [
      "Epoch 73: 100%|██████████| 235/235 [01:04<00:00,  3.67it/s]\n"
     ]
    },
    {
     "name": "stdout",
     "output_type": "stream",
     "text": [
      "Epoch 73: {'loss': 0.4143236563540995, 'lr': 0.0001, 'MAE': 11.122875, 'MSE': 1.8351307}\n"
     ]
    },
    {
     "name": "stderr",
     "output_type": "stream",
     "text": [
      "Epoch 74: 100%|██████████| 235/235 [01:05<00:00,  3.60it/s]\n"
     ]
    },
    {
     "name": "stdout",
     "output_type": "stream",
     "text": [
      "Epoch 74: {'loss': 0.41428356640972197, 'lr': 0.0001, 'MAE': 11.109995, 'MSE': 1.8352075}\n"
     ]
    },
    {
     "name": "stderr",
     "output_type": "stream",
     "text": [
      "Epoch 75: 100%|██████████| 235/235 [01:04<00:00,  3.62it/s]\n"
     ]
    },
    {
     "name": "stdout",
     "output_type": "stream",
     "text": [
      "Epoch 75: {'loss': 0.41232294612564147, 'lr': 1e-05, 'MAE': 11.107304, 'MSE': 1.8337188}\n"
     ]
    },
    {
     "name": "stderr",
     "output_type": "stream",
     "text": [
      "Epoch 76: 100%|██████████| 235/235 [01:04<00:00,  3.62it/s]\n"
     ]
    },
    {
     "name": "stdout",
     "output_type": "stream",
     "text": [
      "Epoch 76: {'loss': 0.41214334161486477, 'lr': 1e-05, 'MAE': 11.109078, 'MSE': 1.8338084}\n"
     ]
    },
    {
     "name": "stderr",
     "output_type": "stream",
     "text": [
      "Epoch 77: 100%|██████████| 235/235 [01:04<00:00,  3.64it/s]\n"
     ]
    },
    {
     "name": "stdout",
     "output_type": "stream",
     "text": [
      "Epoch 77: {'loss': 0.41200574103277177, 'lr': 1e-05, 'MAE': 11.105802, 'MSE': 1.8336129}\n"
     ]
    },
    {
     "name": "stderr",
     "output_type": "stream",
     "text": [
      "Epoch 78: 100%|██████████| 235/235 [01:05<00:00,  3.61it/s]\n"
     ]
    },
    {
     "name": "stdout",
     "output_type": "stream",
     "text": [
      "Epoch 78: {'loss': 0.4119141990086064, 'lr': 1e-05, 'MAE': 11.107229, 'MSE': 1.8338035}\n"
     ]
    },
    {
     "name": "stderr",
     "output_type": "stream",
     "text": [
      "Epoch 79: 100%|██████████| 235/235 [01:05<00:00,  3.59it/s]\n"
     ]
    },
    {
     "name": "stdout",
     "output_type": "stream",
     "text": [
      "Epoch 79: {'loss': 0.412351599894464, 'lr': 1e-05, 'MAE': 11.109558, 'MSE': 1.8338873}\n"
     ]
    },
    {
     "name": "stderr",
     "output_type": "stream",
     "text": [
      "Epoch 80: 100%|██████████| 235/235 [01:05<00:00,  3.60it/s]\n"
     ]
    },
    {
     "name": "stdout",
     "output_type": "stream",
     "text": [
      "Epoch 80: {'loss': 0.4119145672302693, 'lr': 1e-05, 'MAE': 11.106348, 'MSE': 1.8337787}\n"
     ]
    },
    {
     "name": "stderr",
     "output_type": "stream",
     "text": [
      "Epoch 81: 100%|██████████| 235/235 [01:03<00:00,  3.68it/s]\n"
     ]
    },
    {
     "name": "stdout",
     "output_type": "stream",
     "text": [
      "Epoch 81: {'loss': 0.4117753813043237, 'lr': 1e-05, 'MAE': 11.106879, 'MSE': 1.8337842}\n"
     ]
    },
    {
     "name": "stderr",
     "output_type": "stream",
     "text": [
      "Epoch 82: 100%|██████████| 235/235 [01:03<00:00,  3.68it/s]\n"
     ]
    },
    {
     "name": "stdout",
     "output_type": "stream",
     "text": [
      "Epoch 82: {'loss': 0.41167887952178717, 'lr': 1e-05, 'MAE': 11.105851, 'MSE': 1.8337166}\n"
     ]
    },
    {
     "name": "stderr",
     "output_type": "stream",
     "text": [
      "Epoch 83: 100%|██████████| 235/235 [01:04<00:00,  3.65it/s]\n"
     ]
    },
    {
     "name": "stdout",
     "output_type": "stream",
     "text": [
      "Epoch 83: {'loss': 0.4118359142448753, 'lr': 1e-05, 'MAE': 11.105636, 'MSE': 1.8335555}\n"
     ]
    },
    {
     "name": "stderr",
     "output_type": "stream",
     "text": [
      "Epoch 84: 100%|██████████| 235/235 [01:03<00:00,  3.69it/s]\n"
     ]
    },
    {
     "name": "stdout",
     "output_type": "stream",
     "text": [
      "Epoch 84: {'loss': 0.4116204815218225, 'lr': 1e-05, 'MAE': 11.104731, 'MSE': 1.8338568}\n"
     ]
    },
    {
     "name": "stderr",
     "output_type": "stream",
     "text": [
      "Epoch 85: 100%|██████████| 235/235 [01:03<00:00,  3.69it/s]\n"
     ]
    },
    {
     "name": "stdout",
     "output_type": "stream",
     "text": [
      "Epoch 85: {'loss': 0.4117068947525695, 'lr': 1e-05, 'MAE': 11.106873, 'MSE': 1.8341426}\n"
     ]
    },
    {
     "name": "stderr",
     "output_type": "stream",
     "text": [
      "Epoch 86: 100%|██████████| 235/235 [01:04<00:00,  3.64it/s]\n"
     ]
    },
    {
     "name": "stdout",
     "output_type": "stream",
     "text": [
      "Epoch 86: {'loss': 0.4118016727734357, 'lr': 1e-05, 'MAE': 11.108499, 'MSE': 1.8344656}\n"
     ]
    },
    {
     "name": "stderr",
     "output_type": "stream",
     "text": [
      "Epoch 87: 100%|██████████| 235/235 [01:03<00:00,  3.68it/s]\n"
     ]
    },
    {
     "name": "stdout",
     "output_type": "stream",
     "text": [
      "Epoch 87: {'loss': 0.4119011461734772, 'lr': 1e-05, 'MAE': 11.102289, 'MSE': 1.8338085}\n"
     ]
    },
    {
     "name": "stderr",
     "output_type": "stream",
     "text": [
      "Epoch 88: 100%|██████████| 235/235 [01:03<00:00,  3.69it/s]\n"
     ]
    },
    {
     "name": "stdout",
     "output_type": "stream",
     "text": [
      "Epoch 88: {'loss': 0.41145746677648276, 'lr': 1e-05, 'MAE': 11.101994, 'MSE': 1.8333992}\n"
     ]
    },
    {
     "name": "stderr",
     "output_type": "stream",
     "text": [
      "Epoch 89: 100%|██████████| 235/235 [01:03<00:00,  3.68it/s]\n"
     ]
    },
    {
     "name": "stdout",
     "output_type": "stream",
     "text": [
      "Epoch 89: {'loss': 0.4116071262396872, 'lr': 1e-05, 'MAE': 11.101697, 'MSE': 1.8335586}\n"
     ]
    },
    {
     "name": "stderr",
     "output_type": "stream",
     "text": [
      "Epoch 90: 100%|██████████| 235/235 [01:04<00:00,  3.67it/s]\n"
     ]
    },
    {
     "name": "stdout",
     "output_type": "stream",
     "text": [
      "Epoch 90: {'loss': 0.4114912967197597, 'lr': 1e-05, 'MAE': 11.100606, 'MSE': 1.8332664}\n"
     ]
    },
    {
     "name": "stderr",
     "output_type": "stream",
     "text": [
      "Epoch 91: 100%|██████████| 235/235 [01:04<00:00,  3.63it/s]\n"
     ]
    },
    {
     "name": "stdout",
     "output_type": "stream",
     "text": [
      "Epoch 91: {'loss': 0.41147047211416066, 'lr': 1e-05, 'MAE': 11.104087, 'MSE': 1.8336582}\n"
     ]
    },
    {
     "name": "stderr",
     "output_type": "stream",
     "text": [
      "Epoch 92: 100%|██████████| 235/235 [01:04<00:00,  3.65it/s]\n"
     ]
    },
    {
     "name": "stdout",
     "output_type": "stream",
     "text": [
      "Epoch 92: {'loss': 0.41136369050946087, 'lr': 1e-05, 'MAE': 11.102188, 'MSE': 1.8332112}\n"
     ]
    },
    {
     "name": "stderr",
     "output_type": "stream",
     "text": [
      "Epoch 93: 100%|██████████| 235/235 [01:03<00:00,  3.68it/s]\n"
     ]
    },
    {
     "name": "stdout",
     "output_type": "stream",
     "text": [
      "Epoch 93: {'loss': 0.41169141978025436, 'lr': 1e-05, 'MAE': 11.100237, 'MSE': 1.8331779}\n"
     ]
    },
    {
     "name": "stderr",
     "output_type": "stream",
     "text": [
      "Epoch 94: 100%|██████████| 235/235 [01:03<00:00,  3.70it/s]\n"
     ]
    },
    {
     "name": "stdout",
     "output_type": "stream",
     "text": [
      "Epoch 94: {'loss': 0.4114219364710152, 'lr': 1e-05, 'MAE': 11.1005125, 'MSE': 1.8333333}\n"
     ]
    },
    {
     "name": "stderr",
     "output_type": "stream",
     "text": [
      "Epoch 95: 100%|██████████| 235/235 [01:03<00:00,  3.69it/s]\n"
     ]
    },
    {
     "name": "stdout",
     "output_type": "stream",
     "text": [
      "Epoch 95: {'loss': 0.41155734297353774, 'lr': 1e-05, 'MAE': 11.102824, 'MSE': 1.8337528}\n"
     ]
    },
    {
     "name": "stderr",
     "output_type": "stream",
     "text": [
      "Epoch 96: 100%|██████████| 235/235 [01:03<00:00,  3.71it/s]\n"
     ]
    },
    {
     "name": "stdout",
     "output_type": "stream",
     "text": [
      "Epoch 96: {'loss': 0.4110979246906936, 'lr': 1e-05, 'MAE': 11.100871, 'MSE': 1.8330547}\n"
     ]
    },
    {
     "name": "stderr",
     "output_type": "stream",
     "text": [
      "Epoch 97: 100%|██████████| 235/235 [01:03<00:00,  3.69it/s]\n"
     ]
    },
    {
     "name": "stdout",
     "output_type": "stream",
     "text": [
      "Epoch 97: {'loss': 0.4113966834265739, 'lr': 1e-05, 'MAE': 11.09994, 'MSE': 1.8332782}\n"
     ]
    },
    {
     "name": "stderr",
     "output_type": "stream",
     "text": [
      "Epoch 98: 100%|██████████| 235/235 [01:03<00:00,  3.68it/s]\n"
     ]
    },
    {
     "name": "stdout",
     "output_type": "stream",
     "text": [
      "Epoch 98: {'loss': 0.4113022987730801, 'lr': 1e-05, 'MAE': 11.1025715, 'MSE': 1.8340871}\n"
     ]
    },
    {
     "name": "stderr",
     "output_type": "stream",
     "text": [
      "Epoch 99: 100%|██████████| 235/235 [01:03<00:00,  3.70it/s]\n"
     ]
    },
    {
     "name": "stdout",
     "output_type": "stream",
     "text": [
      "Epoch 99: {'loss': 0.41122012201230973, 'lr': 1e-05, 'MAE': 11.1034155, 'MSE': 1.83369}\n",
      "Saving the result to ./13/predictions/features_images_encoded.npy\n",
      "Saving the result to ./13/predictions/features_images_decoded.npy\n",
      "{'model': 'Комбинированная нейронная сеть', 'MAE': 11.103415359540715, 'MSE': 1.833690103653751}\n",
      "Trying diagrams - <cvtda.autoencoder.Autoencoder.Autoencoder object at 0x000001FD5E8FEBF0>\n",
      "Encoder Base parameters: 9738240\n",
      "Decoder parameters: 1745857\n"
     ]
    },
    {
     "name": "stderr",
     "output_type": "stream",
     "text": [
      "Epoch 0: 100%|██████████| 235/235 [02:49<00:00,  1.39it/s]\n"
     ]
    },
    {
     "name": "stdout",
     "output_type": "stream",
     "text": [
      "Epoch 0: {'loss': 13.041932363063097, 'lr': 0.1, 'MAE': 67.40149, 'MSE': 28.538216}\n"
     ]
    },
    {
     "name": "stderr",
     "output_type": "stream",
     "text": [
      "Epoch 1: 100%|██████████| 235/235 [02:45<00:00,  1.42it/s]\n"
     ]
    },
    {
     "name": "stdout",
     "output_type": "stream",
     "text": [
      "Epoch 1: {'loss': 6.886879667639732, 'lr': 0.1, 'MAE': 51.19807, 'MSE': 19.22739}\n"
     ]
    },
    {
     "name": "stderr",
     "output_type": "stream",
     "text": [
      "Epoch 2: 100%|██████████| 235/235 [02:49<00:00,  1.38it/s]\n"
     ]
    },
    {
     "name": "stdout",
     "output_type": "stream",
     "text": [
      "Epoch 2: {'loss': 4.83019332587719, 'lr': 0.010000000000000002, 'MAE': 43.50376, 'MSE': 15.536272}\n"
     ]
    },
    {
     "name": "stderr",
     "output_type": "stream",
     "text": [
      "Epoch 3: 100%|██████████| 235/235 [02:45<00:00,  1.42it/s]\n"
     ]
    },
    {
     "name": "stdout",
     "output_type": "stream",
     "text": [
      "Epoch 3: {'loss': 4.447014102712274, 'lr': 0.010000000000000002, 'MAE': 41.67962, 'MSE': 14.602537}\n"
     ]
    },
    {
     "name": "stderr",
     "output_type": "stream",
     "text": [
      "Epoch 4: 100%|██████████| 235/235 [02:49<00:00,  1.39it/s]\n"
     ]
    },
    {
     "name": "stdout",
     "output_type": "stream",
     "text": [
      "Epoch 4: {'loss': 4.166779698804021, 'lr': 0.010000000000000002, 'MAE': 40.10873, 'MSE': 13.785915}\n"
     ]
    },
    {
     "name": "stderr",
     "output_type": "stream",
     "text": [
      "Epoch 5: 100%|██████████| 235/235 [02:46<00:00,  1.41it/s]\n"
     ]
    },
    {
     "name": "stdout",
     "output_type": "stream",
     "text": [
      "Epoch 5: {'loss': 3.882029315456748, 'lr': 0.001, 'MAE': 38.999477, 'MSE': 13.255649}\n"
     ]
    },
    {
     "name": "stderr",
     "output_type": "stream",
     "text": [
      "Epoch 6: 100%|██████████| 235/235 [02:49<00:00,  1.39it/s]\n"
     ]
    },
    {
     "name": "stdout",
     "output_type": "stream",
     "text": [
      "Epoch 6: {'loss': 3.830995434895158, 'lr': 0.001, 'MAE': 38.6105, 'MSE': 13.137739}\n"
     ]
    },
    {
     "name": "stderr",
     "output_type": "stream",
     "text": [
      "Epoch 7: 100%|██████████| 235/235 [02:46<00:00,  1.41it/s]\n"
     ]
    },
    {
     "name": "stdout",
     "output_type": "stream",
     "text": [
      "Epoch 7: {'loss': 3.7940063923597336, 'lr': 0.001, 'MAE': 38.357773, 'MSE': 13.031465}\n"
     ]
    },
    {
     "name": "stderr",
     "output_type": "stream",
     "text": [
      "Epoch 8: 100%|██████████| 235/235 [02:49<00:00,  1.39it/s]\n"
     ]
    },
    {
     "name": "stdout",
     "output_type": "stream",
     "text": [
      "Epoch 8: {'loss': 3.757072719745338, 'lr': 0.001, 'MAE': 38.097515, 'MSE': 12.928506}\n"
     ]
    },
    {
     "name": "stderr",
     "output_type": "stream",
     "text": [
      "Epoch 9: 100%|██████████| 235/235 [02:47<00:00,  1.40it/s]\n"
     ]
    },
    {
     "name": "stdout",
     "output_type": "stream",
     "text": [
      "Epoch 9: {'loss': 3.721523657441139, 'lr': 0.001, 'MAE': 37.8623, 'MSE': 12.819585}\n"
     ]
    },
    {
     "name": "stderr",
     "output_type": "stream",
     "text": [
      "Epoch 10: 100%|██████████| 235/235 [02:48<00:00,  1.40it/s]\n"
     ]
    },
    {
     "name": "stdout",
     "output_type": "stream",
     "text": [
      "Epoch 10: {'loss': 3.6794393621385098, 'lr': 0.0001, 'MAE': 37.797333, 'MSE': 12.777277}\n"
     ]
    },
    {
     "name": "stderr",
     "output_type": "stream",
     "text": [
      "Epoch 11: 100%|██████████| 235/235 [02:51<00:00,  1.37it/s]\n"
     ]
    },
    {
     "name": "stdout",
     "output_type": "stream",
     "text": [
      "Epoch 11: {'loss': 3.673659510910511, 'lr': 0.0001, 'MAE': 37.732693, 'MSE': 12.767633}\n"
     ]
    },
    {
     "name": "stderr",
     "output_type": "stream",
     "text": [
      "Epoch 12: 100%|██████████| 235/235 [02:50<00:00,  1.38it/s]\n"
     ]
    },
    {
     "name": "stdout",
     "output_type": "stream",
     "text": [
      "Epoch 12: {'loss': 3.669941021129489, 'lr': 0.0001, 'MAE': 37.731224, 'MSE': 12.753645}\n"
     ]
    },
    {
     "name": "stderr",
     "output_type": "stream",
     "text": [
      "Epoch 13: 100%|██████████| 235/235 [02:49<00:00,  1.39it/s]\n"
     ]
    },
    {
     "name": "stdout",
     "output_type": "stream",
     "text": [
      "Epoch 13: {'loss': 3.6636294899508357, 'lr': 0.0001, 'MAE': 37.687992, 'MSE': 12.737817}\n"
     ]
    },
    {
     "name": "stderr",
     "output_type": "stream",
     "text": [
      "Epoch 14: 100%|██████████| 235/235 [02:55<00:00,  1.34it/s]\n"
     ]
    },
    {
     "name": "stdout",
     "output_type": "stream",
     "text": [
      "Epoch 14: {'loss': 3.659746579825878, 'lr': 0.0001, 'MAE': 37.62, 'MSE': 12.727814}\n"
     ]
    },
    {
     "name": "stderr",
     "output_type": "stream",
     "text": [
      "Epoch 15: 100%|██████████| 235/235 [02:50<00:00,  1.37it/s]\n"
     ]
    },
    {
     "name": "stdout",
     "output_type": "stream",
     "text": [
      "Epoch 15: {'loss': 3.655241313390434, 'lr': 1e-05, 'MAE': 37.62829, 'MSE': 12.723069}\n"
     ]
    },
    {
     "name": "stderr",
     "output_type": "stream",
     "text": [
      "Epoch 16: 100%|██████████| 235/235 [02:52<00:00,  1.36it/s]\n"
     ]
    },
    {
     "name": "stdout",
     "output_type": "stream",
     "text": [
      "Epoch 16: {'loss': 3.653201498091221, 'lr': 1e-05, 'MAE': 37.620125, 'MSE': 12.7213955}\n"
     ]
    },
    {
     "name": "stderr",
     "output_type": "stream",
     "text": [
      "Epoch 17: 100%|██████████| 235/235 [02:51<00:00,  1.37it/s]\n"
     ]
    },
    {
     "name": "stdout",
     "output_type": "stream",
     "text": [
      "Epoch 17: {'loss': 3.6528892759233713, 'lr': 1e-05, 'MAE': 37.61066, 'MSE': 12.72023}\n"
     ]
    },
    {
     "name": "stderr",
     "output_type": "stream",
     "text": [
      "Epoch 18: 100%|██████████| 235/235 [02:52<00:00,  1.36it/s]\n"
     ]
    },
    {
     "name": "stdout",
     "output_type": "stream",
     "text": [
      "Epoch 18: {'loss': 3.652524823322892, 'lr': 1e-05, 'MAE': 37.61139, 'MSE': 12.718662}\n"
     ]
    },
    {
     "name": "stderr",
     "output_type": "stream",
     "text": [
      "Epoch 19: 100%|██████████| 235/235 [02:50<00:00,  1.37it/s]\n"
     ]
    },
    {
     "name": "stdout",
     "output_type": "stream",
     "text": [
      "Epoch 19: {'loss': 3.6521365456283092, 'lr': 1e-05, 'MAE': 37.604458, 'MSE': 12.716976}\n",
      "Saving the result to ./13/predictions/diagrams_encoded.npy\n",
      "Saving the result to ./13/predictions/diagrams_decoded.npy\n",
      "{'model': 'Обучаемая векторизация диаграмм', 'MAE': 37.604460386337955, 'MSE': 12.716975613977821}\n"
     ]
    },
    {
     "data": {
      "text/html": [
       "<div>\n",
       "<style scoped>\n",
       "    .dataframe tbody tr th:only-of-type {\n",
       "        vertical-align: middle;\n",
       "    }\n",
       "\n",
       "    .dataframe tbody tr th {\n",
       "        vertical-align: top;\n",
       "    }\n",
       "\n",
       "    .dataframe thead th {\n",
       "        text-align: right;\n",
       "    }\n",
       "</style>\n",
       "<table border=\"1\" class=\"dataframe\">\n",
       "  <thead>\n",
       "    <tr style=\"text-align: right;\">\n",
       "      <th></th>\n",
       "      <th>model</th>\n",
       "      <th>MAE</th>\n",
       "      <th>MSE</th>\n",
       "    </tr>\n",
       "  </thead>\n",
       "  <tbody>\n",
       "    <tr>\n",
       "      <th>0</th>\n",
       "      <td>Топологические признаки</td>\n",
       "      <td>10.351210</td>\n",
       "      <td>1.716788</td>\n",
       "    </tr>\n",
       "    <tr>\n",
       "      <th>1</th>\n",
       "      <td>ResNet50 – базовая модель</td>\n",
       "      <td>21.239921</td>\n",
       "      <td>5.505333</td>\n",
       "    </tr>\n",
       "    <tr>\n",
       "      <th>2</th>\n",
       "      <td>Комбинированная нейронная сеть</td>\n",
       "      <td>11.103415</td>\n",
       "      <td>1.833690</td>\n",
       "    </tr>\n",
       "    <tr>\n",
       "      <th>3</th>\n",
       "      <td>Обучаемая векторизация диаграмм</td>\n",
       "      <td>37.604460</td>\n",
       "      <td>12.716976</td>\n",
       "    </tr>\n",
       "  </tbody>\n",
       "</table>\n",
       "</div>"
      ],
      "text/plain": [
       "                             model        MAE        MSE\n",
       "0          Топологические признаки  10.351210   1.716788\n",
       "1        ResNet50 – базовая модель  21.239921   5.505333\n",
       "2   Комбинированная нейронная сеть  11.103415   1.833690\n",
       "3  Обучаемая векторизация диаграмм  37.604460  12.716976"
      ]
     },
     "execution_count": 6,
     "metadata": {},
     "output_type": "execute_result"
    }
   ],
   "source": [
    "import cvtda.autoencoder\n",
    "\n",
    "cvtda.autoencoder.try_autoencoders(\n",
    "    train_images, train_features, train_diagrams,\n",
    "    test_images, test_features, test_diagrams,\n",
    "    dump_name = \"13/predictions\", only_get_from_dump = False\n",
    ")"
   ]
  }
 ],
 "metadata": {
  "kernelspec": {
   "display_name": "Python 3",
   "language": "python",
   "name": "python3"
  },
  "language_info": {
   "codemirror_mode": {
    "name": "ipython",
    "version": 3
   },
   "file_extension": ".py",
   "mimetype": "text/x-python",
   "name": "python",
   "nbconvert_exporter": "python",
   "pygments_lexer": "ipython3",
   "version": "3.10.11"
  }
 },
 "nbformat": 4,
 "nbformat_minor": 2
}
