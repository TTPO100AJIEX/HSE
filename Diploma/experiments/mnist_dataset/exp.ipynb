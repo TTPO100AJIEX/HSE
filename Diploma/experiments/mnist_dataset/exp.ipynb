{
 "cells": [
  {
   "cell_type": "code",
   "execution_count": 1,
   "metadata": {},
   "outputs": [],
   "source": [
    "%load_ext autoreload\n",
    "%autoreload 2"
   ]
  },
  {
   "cell_type": "code",
   "execution_count": 2,
   "metadata": {},
   "outputs": [],
   "source": [
    "import torch\n",
    "import torchph\n",
    "import torchph.nn.slayer\n",
    "import gtda.diagrams"
   ]
  },
  {
   "cell_type": "code",
   "execution_count": 3,
   "metadata": {},
   "outputs": [
    {
     "data": {
      "text/plain": [
       "((60000,), (10000,))"
      ]
     },
     "execution_count": 3,
     "metadata": {},
     "output_type": "execute_result"
    }
   ],
   "source": [
    "import numpy\n",
    "import torchvision\n",
    "\n",
    "train = torchvision.datasets.MNIST('mnist', train = True, download = False)\n",
    "test = torchvision.datasets.MNIST('mnist', train = False, download = False)\n",
    "\n",
    "train_labels = numpy.array([ item[1] for item in train ])\n",
    "test_labels = numpy.array([ item[1] for item in test ])\n",
    "\n",
    "train_labels.shape, test_labels.shape"
   ]
  },
  {
   "cell_type": "code",
   "execution_count": 4,
   "metadata": {},
   "outputs": [
    {
     "data": {
      "text/plain": [
       "((2040000, 80, 3), (340000, 72, 3))"
      ]
     },
     "execution_count": 4,
     "metadata": {},
     "output_type": "execute_result"
    }
   ],
   "source": [
    "import numpy\n",
    "\n",
    "train_diagrams = numpy.load(\"8/train/filtration_diagrams.npy\")\n",
    "test_diagrams = numpy.load(\"8/test/filtration_diagrams.npy\")\n",
    "\n",
    "train_diagrams.shape, test_diagrams.shape"
   ]
  },
  {
   "cell_type": "code",
   "execution_count": 5,
   "metadata": {},
   "outputs": [
    {
     "data": {
      "text/plain": [
       "((2040000, 80, 3), (340000, 72, 3))"
      ]
     },
     "execution_count": 5,
     "metadata": {},
     "output_type": "execute_result"
    }
   ],
   "source": [
    "scaler = gtda.diagrams.Scaler()\n",
    "train_diagrams = scaler.fit_transform(train_diagrams)\n",
    "test_diagrams = scaler.transform(test_diagrams)\n",
    "\n",
    "train_diagrams.shape, test_diagrams.shape"
   ]
  },
  {
   "cell_type": "code",
   "execution_count": 6,
   "metadata": {},
   "outputs": [
    {
     "data": {
      "text/plain": [
       "(torch.Size([2040000, 80, 3]), torch.Size([340000, 72, 3]))"
      ]
     },
     "execution_count": 6,
     "metadata": {},
     "output_type": "execute_result"
    }
   ],
   "source": [
    "train_diagrams = torch.tensor(train_diagrams, dtype = torch.float32)\n",
    "test_diagrams = torch.tensor(test_diagrams, dtype = torch.float32)\n",
    "\n",
    "train_diagrams.shape, test_diagrams.shape"
   ]
  },
  {
   "cell_type": "code",
   "execution_count": 7,
   "metadata": {},
   "outputs": [
    {
     "data": {
      "text/plain": [
       "(torch.Size([60000, 34, 80, 3]), torch.Size([10000, 34, 72, 3]))"
      ]
     },
     "execution_count": 7,
     "metadata": {},
     "output_type": "execute_result"
    }
   ],
   "source": [
    "train_diagrams = train_diagrams.reshape((train_labels.shape[0], -1, *train_diagrams.shape[1:]))\n",
    "test_diagrams = test_diagrams.reshape((test_labels.shape[0], -1, *test_diagrams.shape[1:]))\n",
    "\n",
    "train_diagrams.shape, test_diagrams.shape"
   ]
  },
  {
   "cell_type": "code",
   "execution_count": 8,
   "metadata": {},
   "outputs": [
    {
     "name": "stderr",
     "output_type": "stream",
     "text": [
      "100%|██████████| 34/34 [07:14<00:00, 12.79s/it]\n",
      "100%|██████████| 34/34 [01:13<00:00,  2.16s/it]"
     ]
    },
    {
     "name": "stdout",
     "output_type": "stream",
     "text": [
      "136 torch.Size([60000, 28, 2]) torch.Size([60000, 28])\n",
      "136 torch.Size([10000, 22, 2]) torch.Size([10000, 22])\n"
     ]
    },
    {
     "name": "stderr",
     "output_type": "stream",
     "text": [
      "\n"
     ]
    }
   ],
   "source": [
    "import tqdm\n",
    "import joblib\n",
    "\n",
    "def process(data_diagrams):\n",
    "    def transform(diagram, dim):\n",
    "        dim_filter = (diagram[:, 2] == dim)\n",
    "        non_degenerate_filter = (diagram[:, 0] != diagram[:, 1])\n",
    "        rotation = torchph.nn.slayer.UpperDiagonalThresholdedLogTransform(0.05)\n",
    "        return rotation(diagram[dim_filter & non_degenerate_filter][:, 0:2])\n",
    "\n",
    "    data = [ ]\n",
    "    for i in tqdm.trange(data_diagrams.shape[1]):\n",
    "        for dim in [ 0, 1 ]:\n",
    "            diagrams = joblib.Parallel(n_jobs = 1)(\n",
    "                joblib.delayed(transform)(item[i], dim)\n",
    "                for item in data_diagrams\n",
    "            )\n",
    "            diagrams, non_dummy_points, _, _ = torchph.nn.slayer.prepare_batch(diagrams)\n",
    "            data.append(diagrams)\n",
    "            data.append(non_dummy_points)\n",
    "    return data\n",
    "\n",
    "train_diagrams = process(train_diagrams)\n",
    "test_diagrams = process(test_diagrams)\n",
    " \n",
    "print(len(train_diagrams), train_diagrams[0].shape, train_diagrams[1].shape)\n",
    "print(len(test_diagrams), test_diagrams[0].shape, test_diagrams[1].shape)"
   ]
  },
  {
   "cell_type": "code",
   "execution_count": 9,
   "metadata": {},
   "outputs": [],
   "source": [
    "device = torch.device('cuda')\n",
    "\n",
    "class Net(torch.nn.Module):\n",
    "    def __init__(self):\n",
    "        super().__init__()\n",
    "        self.n_elements = 128\n",
    "        self.num_diagrams = 68\n",
    "        \n",
    "        self.slayers = [\n",
    "            torchph.nn.slayer.SLayerExponential(self.n_elements).to(device)\n",
    "            for _ in range(self.num_diagrams)\n",
    "        ]\n",
    "\n",
    "        self.classifier = torch.nn.Sequential(\n",
    "            torch.nn.Dropout(0.4), torch.nn.Linear(self.num_diagrams * self.n_elements, 256), torch.nn.BatchNorm1d(256), torch.nn.ReLU(),\n",
    "            torch.nn.Dropout(0.3), torch.nn.Linear(256, 128), torch.nn.BatchNorm1d(128), torch.nn.ReLU(),\n",
    "            torch.nn.Dropout(0.2), torch.nn.Linear(128, 64), torch.nn.BatchNorm1d(64), torch.nn.ReLU(),\n",
    "            torch.nn.Dropout(0.1), torch.nn.Linear(64, 32), torch.nn.BatchNorm1d(32), torch.nn.ReLU(),\n",
    "            torch.nn.Linear(32, 10), torch.nn.Softmax(dim = 1)\n",
    "        ).to(device)\n",
    "    \n",
    "    def forward(self, *args):\n",
    "        features = [ ]\n",
    "        for i in range(0, len(args), 2):\n",
    "            slayer_args = (args[i].to(device), args[i + 1].to(device), args[i].shape[1], len(args[i]))\n",
    "            features.append(self.slayers[i // 2](slayer_args))\n",
    "        return self.classifier(torch.cat(features, dim = 1))"
   ]
  },
  {
   "cell_type": "code",
   "execution_count": 10,
   "metadata": {},
   "outputs": [
    {
     "name": "stderr",
     "output_type": "stream",
     "text": [
      "100%|██████████| 469/469 [01:47<00:00,  4.34it/s]\n",
      "100%|██████████| 79/79 [00:05<00:00, 13.94it/s]\n"
     ]
    },
    {
     "name": "stdout",
     "output_type": "stream",
     "text": [
      "{'loss': 124345.12350463867, 'val_acc': 0.7756}\n"
     ]
    },
    {
     "name": "stderr",
     "output_type": "stream",
     "text": [
      "100%|██████████| 469/469 [01:47<00:00,  4.36it/s]\n",
      "100%|██████████| 79/79 [00:05<00:00, 14.05it/s]\n"
     ]
    },
    {
     "name": "stdout",
     "output_type": "stream",
     "text": [
      "{'loss': 110337.82974243164, 'val_acc': 0.825}\n"
     ]
    },
    {
     "name": "stderr",
     "output_type": "stream",
     "text": [
      "100%|██████████| 469/469 [01:48<00:00,  4.34it/s]\n",
      "100%|██████████| 79/79 [00:05<00:00, 14.11it/s]\n"
     ]
    },
    {
     "name": "stdout",
     "output_type": "stream",
     "text": [
      "{'loss': 103256.84013366699, 'val_acc': 0.9256}\n"
     ]
    },
    {
     "name": "stderr",
     "output_type": "stream",
     "text": [
      "100%|██████████| 469/469 [01:46<00:00,  4.41it/s]\n",
      "100%|██████████| 79/79 [00:05<00:00, 13.89it/s]\n"
     ]
    },
    {
     "name": "stdout",
     "output_type": "stream",
     "text": [
      "{'loss': 98267.06907653809, 'val_acc': 0.9384}\n"
     ]
    },
    {
     "name": "stderr",
     "output_type": "stream",
     "text": [
      "100%|██████████| 469/469 [01:46<00:00,  4.39it/s]\n",
      "100%|██████████| 79/79 [00:05<00:00, 13.59it/s]\n"
     ]
    },
    {
     "name": "stdout",
     "output_type": "stream",
     "text": [
      "{'loss': 95823.8133392334, 'val_acc': 0.9328}\n"
     ]
    },
    {
     "name": "stderr",
     "output_type": "stream",
     "text": [
      "100%|██████████| 469/469 [01:43<00:00,  4.52it/s]\n",
      "100%|██████████| 79/79 [00:05<00:00, 14.52it/s]\n"
     ]
    },
    {
     "name": "stdout",
     "output_type": "stream",
     "text": [
      "{'loss': 94702.98522949219, 'val_acc': 0.9433}\n"
     ]
    },
    {
     "name": "stderr",
     "output_type": "stream",
     "text": [
      "100%|██████████| 469/469 [01:43<00:00,  4.54it/s]\n",
      "100%|██████████| 79/79 [00:05<00:00, 14.40it/s]\n"
     ]
    },
    {
     "name": "stdout",
     "output_type": "stream",
     "text": [
      "{'loss': 93953.74647521973, 'val_acc': 0.9464}\n"
     ]
    },
    {
     "name": "stderr",
     "output_type": "stream",
     "text": [
      "100%|██████████| 469/469 [01:41<00:00,  4.61it/s]\n",
      "100%|██████████| 79/79 [00:05<00:00, 14.72it/s]\n"
     ]
    },
    {
     "name": "stdout",
     "output_type": "stream",
     "text": [
      "{'loss': 93445.61747741699, 'val_acc': 0.9468}\n"
     ]
    },
    {
     "name": "stderr",
     "output_type": "stream",
     "text": [
      "100%|██████████| 469/469 [01:43<00:00,  4.52it/s]\n",
      "100%|██████████| 79/79 [00:05<00:00, 14.21it/s]\n"
     ]
    },
    {
     "name": "stdout",
     "output_type": "stream",
     "text": [
      "{'loss': 93155.09976196289, 'val_acc': 0.9477}\n"
     ]
    },
    {
     "name": "stderr",
     "output_type": "stream",
     "text": [
      " 98%|█████████▊| 460/469 [01:43<00:02,  4.44it/s]\n"
     ]
    },
    {
     "ename": "KeyboardInterrupt",
     "evalue": "",
     "output_type": "error",
     "traceback": [
      "\u001b[1;31m---------------------------------------------------------------------------\u001b[0m",
      "\u001b[1;31mKeyboardInterrupt\u001b[0m                         Traceback (most recent call last)",
      "Cell \u001b[1;32mIn[10], line 36\u001b[0m\n\u001b[0;32m     34\u001b[0m \u001b[38;5;28;01mfor\u001b[39;00m (y, \u001b[38;5;241m*\u001b[39margs) \u001b[38;5;129;01min\u001b[39;00m tqdm\u001b[38;5;241m.\u001b[39mtqdm(train_dl):\n\u001b[0;32m     35\u001b[0m     optimizer\u001b[38;5;241m.\u001b[39mzero_grad()\n\u001b[1;32m---> 36\u001b[0m     pred \u001b[38;5;241m=\u001b[39m \u001b[43mclassifier\u001b[49m\u001b[43m(\u001b[49m\u001b[38;5;241;43m*\u001b[39;49m\u001b[43margs\u001b[49m\u001b[43m)\u001b[49m\n\u001b[0;32m     38\u001b[0m     loss \u001b[38;5;241m=\u001b[39m torch\u001b[38;5;241m.\u001b[39mnn\u001b[38;5;241m.\u001b[39mfunctional\u001b[38;5;241m.\u001b[39mcross_entropy(pred, y, reduction \u001b[38;5;241m=\u001b[39m \u001b[38;5;124m'\u001b[39m\u001b[38;5;124msum\u001b[39m\u001b[38;5;124m'\u001b[39m)\n\u001b[0;32m     39\u001b[0m     loss\u001b[38;5;241m.\u001b[39mbackward()\n",
      "File \u001b[1;32md:\\Programs\\Programming\\Python\\lib\\site-packages\\torch\\nn\\modules\\module.py:1736\u001b[0m, in \u001b[0;36mModule._wrapped_call_impl\u001b[1;34m(self, *args, **kwargs)\u001b[0m\n\u001b[0;32m   1734\u001b[0m     \u001b[38;5;28;01mreturn\u001b[39;00m \u001b[38;5;28mself\u001b[39m\u001b[38;5;241m.\u001b[39m_compiled_call_impl(\u001b[38;5;241m*\u001b[39margs, \u001b[38;5;241m*\u001b[39m\u001b[38;5;241m*\u001b[39mkwargs)  \u001b[38;5;66;03m# type: ignore[misc]\u001b[39;00m\n\u001b[0;32m   1735\u001b[0m \u001b[38;5;28;01melse\u001b[39;00m:\n\u001b[1;32m-> 1736\u001b[0m     \u001b[38;5;28;01mreturn\u001b[39;00m \u001b[38;5;28mself\u001b[39m\u001b[38;5;241m.\u001b[39m_call_impl(\u001b[38;5;241m*\u001b[39margs, \u001b[38;5;241m*\u001b[39m\u001b[38;5;241m*\u001b[39mkwargs)\n",
      "File \u001b[1;32md:\\Programs\\Programming\\Python\\lib\\site-packages\\torch\\nn\\modules\\module.py:1747\u001b[0m, in \u001b[0;36mModule._call_impl\u001b[1;34m(self, *args, **kwargs)\u001b[0m\n\u001b[0;32m   1742\u001b[0m \u001b[38;5;66;03m# If we don't have any hooks, we want to skip the rest of the logic in\u001b[39;00m\n\u001b[0;32m   1743\u001b[0m \u001b[38;5;66;03m# this function, and just call forward.\u001b[39;00m\n\u001b[0;32m   1744\u001b[0m \u001b[38;5;28;01mif\u001b[39;00m \u001b[38;5;129;01mnot\u001b[39;00m (\u001b[38;5;28mself\u001b[39m\u001b[38;5;241m.\u001b[39m_backward_hooks \u001b[38;5;129;01mor\u001b[39;00m \u001b[38;5;28mself\u001b[39m\u001b[38;5;241m.\u001b[39m_backward_pre_hooks \u001b[38;5;129;01mor\u001b[39;00m \u001b[38;5;28mself\u001b[39m\u001b[38;5;241m.\u001b[39m_forward_hooks \u001b[38;5;129;01mor\u001b[39;00m \u001b[38;5;28mself\u001b[39m\u001b[38;5;241m.\u001b[39m_forward_pre_hooks\n\u001b[0;32m   1745\u001b[0m         \u001b[38;5;129;01mor\u001b[39;00m _global_backward_pre_hooks \u001b[38;5;129;01mor\u001b[39;00m _global_backward_hooks\n\u001b[0;32m   1746\u001b[0m         \u001b[38;5;129;01mor\u001b[39;00m _global_forward_hooks \u001b[38;5;129;01mor\u001b[39;00m _global_forward_pre_hooks):\n\u001b[1;32m-> 1747\u001b[0m     \u001b[38;5;28;01mreturn\u001b[39;00m forward_call(\u001b[38;5;241m*\u001b[39margs, \u001b[38;5;241m*\u001b[39m\u001b[38;5;241m*\u001b[39mkwargs)\n\u001b[0;32m   1749\u001b[0m result \u001b[38;5;241m=\u001b[39m \u001b[38;5;28;01mNone\u001b[39;00m\n\u001b[0;32m   1750\u001b[0m called_always_called_hooks \u001b[38;5;241m=\u001b[39m \u001b[38;5;28mset\u001b[39m()\n",
      "Cell \u001b[1;32mIn[9], line 26\u001b[0m, in \u001b[0;36mNet.forward\u001b[1;34m(self, *args)\u001b[0m\n\u001b[0;32m     24\u001b[0m \u001b[38;5;28;01mfor\u001b[39;00m i \u001b[38;5;129;01min\u001b[39;00m \u001b[38;5;28mrange\u001b[39m(\u001b[38;5;241m0\u001b[39m, \u001b[38;5;28mlen\u001b[39m(args), \u001b[38;5;241m2\u001b[39m):\n\u001b[0;32m     25\u001b[0m     slayer_args \u001b[38;5;241m=\u001b[39m (args[i]\u001b[38;5;241m.\u001b[39mto(device), args[i \u001b[38;5;241m+\u001b[39m \u001b[38;5;241m1\u001b[39m]\u001b[38;5;241m.\u001b[39mto(device), args[i]\u001b[38;5;241m.\u001b[39mshape[\u001b[38;5;241m1\u001b[39m], \u001b[38;5;28mlen\u001b[39m(args[i]))\n\u001b[1;32m---> 26\u001b[0m     features\u001b[38;5;241m.\u001b[39mappend(\u001b[38;5;28;43mself\u001b[39;49m\u001b[38;5;241;43m.\u001b[39;49m\u001b[43mslayers\u001b[49m\u001b[43m[\u001b[49m\u001b[43mi\u001b[49m\u001b[43m \u001b[49m\u001b[38;5;241;43m/\u001b[39;49m\u001b[38;5;241;43m/\u001b[39;49m\u001b[43m \u001b[49m\u001b[38;5;241;43m2\u001b[39;49m\u001b[43m]\u001b[49m\u001b[43m(\u001b[49m\u001b[43mslayer_args\u001b[49m\u001b[43m)\u001b[49m)\n\u001b[0;32m     27\u001b[0m \u001b[38;5;28;01mreturn\u001b[39;00m \u001b[38;5;28mself\u001b[39m\u001b[38;5;241m.\u001b[39mclassifier(torch\u001b[38;5;241m.\u001b[39mcat(features, dim \u001b[38;5;241m=\u001b[39m \u001b[38;5;241m1\u001b[39m))\n",
      "File \u001b[1;32md:\\Programs\\Programming\\Python\\lib\\site-packages\\torch\\nn\\modules\\module.py:1736\u001b[0m, in \u001b[0;36mModule._wrapped_call_impl\u001b[1;34m(self, *args, **kwargs)\u001b[0m\n\u001b[0;32m   1734\u001b[0m     \u001b[38;5;28;01mreturn\u001b[39;00m \u001b[38;5;28mself\u001b[39m\u001b[38;5;241m.\u001b[39m_compiled_call_impl(\u001b[38;5;241m*\u001b[39margs, \u001b[38;5;241m*\u001b[39m\u001b[38;5;241m*\u001b[39mkwargs)  \u001b[38;5;66;03m# type: ignore[misc]\u001b[39;00m\n\u001b[0;32m   1735\u001b[0m \u001b[38;5;28;01melse\u001b[39;00m:\n\u001b[1;32m-> 1736\u001b[0m     \u001b[38;5;28;01mreturn\u001b[39;00m \u001b[38;5;28mself\u001b[39m\u001b[38;5;241m.\u001b[39m_call_impl(\u001b[38;5;241m*\u001b[39margs, \u001b[38;5;241m*\u001b[39m\u001b[38;5;241m*\u001b[39mkwargs)\n",
      "File \u001b[1;32md:\\Programs\\Programming\\Python\\lib\\site-packages\\torch\\nn\\modules\\module.py:1747\u001b[0m, in \u001b[0;36mModule._call_impl\u001b[1;34m(self, *args, **kwargs)\u001b[0m\n\u001b[0;32m   1742\u001b[0m \u001b[38;5;66;03m# If we don't have any hooks, we want to skip the rest of the logic in\u001b[39;00m\n\u001b[0;32m   1743\u001b[0m \u001b[38;5;66;03m# this function, and just call forward.\u001b[39;00m\n\u001b[0;32m   1744\u001b[0m \u001b[38;5;28;01mif\u001b[39;00m \u001b[38;5;129;01mnot\u001b[39;00m (\u001b[38;5;28mself\u001b[39m\u001b[38;5;241m.\u001b[39m_backward_hooks \u001b[38;5;129;01mor\u001b[39;00m \u001b[38;5;28mself\u001b[39m\u001b[38;5;241m.\u001b[39m_backward_pre_hooks \u001b[38;5;129;01mor\u001b[39;00m \u001b[38;5;28mself\u001b[39m\u001b[38;5;241m.\u001b[39m_forward_hooks \u001b[38;5;129;01mor\u001b[39;00m \u001b[38;5;28mself\u001b[39m\u001b[38;5;241m.\u001b[39m_forward_pre_hooks\n\u001b[0;32m   1745\u001b[0m         \u001b[38;5;129;01mor\u001b[39;00m _global_backward_pre_hooks \u001b[38;5;129;01mor\u001b[39;00m _global_backward_hooks\n\u001b[0;32m   1746\u001b[0m         \u001b[38;5;129;01mor\u001b[39;00m _global_forward_hooks \u001b[38;5;129;01mor\u001b[39;00m _global_forward_pre_hooks):\n\u001b[1;32m-> 1747\u001b[0m     \u001b[38;5;28;01mreturn\u001b[39;00m forward_call(\u001b[38;5;241m*\u001b[39margs, \u001b[38;5;241m*\u001b[39m\u001b[38;5;241m*\u001b[39mkwargs)\n\u001b[0;32m   1749\u001b[0m result \u001b[38;5;241m=\u001b[39m \u001b[38;5;28;01mNone\u001b[39;00m\n\u001b[0;32m   1750\u001b[0m called_always_called_hooks \u001b[38;5;241m=\u001b[39m \u001b[38;5;28mset\u001b[39m()\n",
      "File \u001b[1;32md:\\Programs\\Programming\\Python\\lib\\site-packages\\torchph\\nn\\slayer.py:218\u001b[0m, in \u001b[0;36mSLayerExponential.forward\u001b[1;34m(self, input)\u001b[0m\n\u001b[0;32m    216\u001b[0m x \u001b[38;5;241m=\u001b[39m centers \u001b[38;5;241m-\u001b[39m batch\n\u001b[0;32m    217\u001b[0m x \u001b[38;5;241m=\u001b[39m x\u001b[38;5;241m.\u001b[39mpow(\u001b[38;5;241m2\u001b[39m)\n\u001b[1;32m--> 218\u001b[0m x \u001b[38;5;241m=\u001b[39m \u001b[43mtorch\u001b[49m\u001b[38;5;241;43m.\u001b[39;49m\u001b[43mmul\u001b[49m\u001b[43m(\u001b[49m\u001b[43mx\u001b[49m\u001b[43m,\u001b[49m\u001b[43m \u001b[49m\u001b[43msharpness\u001b[49m\u001b[43m)\u001b[49m\n\u001b[0;32m    219\u001b[0m x \u001b[38;5;241m=\u001b[39m torch\u001b[38;5;241m.\u001b[39msum(x, \u001b[38;5;241m2\u001b[39m)\n\u001b[0;32m    220\u001b[0m x \u001b[38;5;241m=\u001b[39m torch\u001b[38;5;241m.\u001b[39mexp(\u001b[38;5;241m-\u001b[39mx)\n",
      "\u001b[1;31mKeyboardInterrupt\u001b[0m: "
     ]
    }
   ],
   "source": [
    "import sklearn.metrics\n",
    "import cvtda.utils\n",
    "cvtda.utils.set_random_seed(42)\n",
    "\n",
    "train_dl = torch.utils.data.DataLoader(\n",
    "    torch.utils.data.TensorDataset(\n",
    "        torch.tensor(train_labels, device = device, dtype = torch.long),\n",
    "        *train_diagrams\n",
    "    ),\n",
    "    batch_size = 128,\n",
    "    shuffle = True\n",
    ")\n",
    "\n",
    "test_dl = torch.utils.data.DataLoader(\n",
    "    torch.utils.data.TensorDataset(\n",
    "        torch.tensor(test_labels, device = device, dtype = torch.long),\n",
    "        *test_diagrams\n",
    "    ),\n",
    "    batch_size = 128,\n",
    "    shuffle = False\n",
    ")\n",
    "\n",
    "classifier = Net()\n",
    "\n",
    "optimizer = torch.optim.AdamW(\n",
    "    params = classifier.parameters(),\n",
    "    lr = 1e-4\n",
    ")\n",
    "\n",
    "for _ in range(100):\n",
    "    sum_loss = 0\n",
    "\n",
    "    classifier.train()\n",
    "    for (y, *args) in tqdm.tqdm(train_dl):\n",
    "        optimizer.zero_grad()\n",
    "        pred = classifier(*args)\n",
    "\n",
    "        loss = torch.nn.functional.cross_entropy(pred, y, reduction = 'sum')\n",
    "        loss.backward()\n",
    "        optimizer.step()\n",
    "        sum_loss += loss.item()\n",
    "    postfix = { 'loss': sum_loss }\n",
    "\n",
    "    classifier.eval()\n",
    "    with torch.no_grad():\n",
    "        preds = [ ]\n",
    "        real = [ ]\n",
    "        for (y, *args) in tqdm.tqdm(test_dl):\n",
    "            proba = classifier(*args)\n",
    "            preds.extend(torch.argmax(proba, axis = 1).cpu().detach())\n",
    "            real.extend(y.cpu())\n",
    "\n",
    "        postfix['val_acc'] = sklearn.metrics.accuracy_score(preds, real)\n",
    "\n",
    "    print(postfix)"
   ]
  }
 ],
 "metadata": {
  "kernelspec": {
   "display_name": "Python 3",
   "language": "python",
   "name": "python3"
  },
  "language_info": {
   "codemirror_mode": {
    "name": "ipython",
    "version": 3
   },
   "file_extension": ".py",
   "mimetype": "text/x-python",
   "name": "python",
   "nbconvert_exporter": "python",
   "pygments_lexer": "ipython3",
   "version": "3.10.11"
  }
 },
 "nbformat": 4,
 "nbformat_minor": 2
}
