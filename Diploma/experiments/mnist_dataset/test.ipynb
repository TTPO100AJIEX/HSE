{
 "cells": [
  {
   "cell_type": "code",
   "execution_count": 1,
   "metadata": {},
   "outputs": [],
   "source": [
    "%load_ext autoreload\n",
    "%autoreload 2"
   ]
  },
  {
   "cell_type": "code",
   "execution_count": 2,
   "metadata": {},
   "outputs": [],
   "source": [
    "import torch"
   ]
  },
  {
   "cell_type": "code",
   "execution_count": 3,
   "metadata": {},
   "outputs": [],
   "source": [
    "with torch.no_grad():\n",
    "    pass"
   ]
  },
  {
   "cell_type": "code",
   "execution_count": 9,
   "metadata": {},
   "outputs": [
    {
     "ename": "ImportError",
     "evalue": "cannot import name 'BaseLogger' from partially initialized module 'cvtda.logging.base' (most likely due to a circular import) (/Users/ttpo100ajiex/Desktop/HSE/Diploma/cvtda/cvtda/logging/base.py)",
     "output_type": "error",
     "traceback": [
      "\u001b[0;31m---------------------------------------------------------------------------\u001b[0m",
      "\u001b[0;31mImportError\u001b[0m                               Traceback (most recent call last)",
      "Cell \u001b[0;32mIn[9], line 1\u001b[0m\n\u001b[0;32m----> 1\u001b[0m \u001b[38;5;28;01mimport\u001b[39;00m \u001b[38;5;21;01mcvtda\u001b[39;00m\u001b[38;5;21;01m.\u001b[39;00m\u001b[38;5;21;01mlogging\u001b[39;00m\n",
      "File \u001b[0;32m~/Desktop/HSE/Diploma/cvtda/cvtda/logging/__init__.py:1\u001b[0m\n\u001b[0;32m----> 1\u001b[0m \u001b[38;5;28;01mfrom\u001b[39;00m \u001b[38;5;21;01m.\u001b[39;00m\u001b[38;5;21;01mbase\u001b[39;00m \u001b[38;5;28;01mimport\u001b[39;00m BaseLogger\n\u001b[1;32m      2\u001b[0m \u001b[38;5;28;01mfrom\u001b[39;00m \u001b[38;5;21;01m.\u001b[39;00m\u001b[38;5;21;01mcli\u001b[39;00m \u001b[38;5;28;01mimport\u001b[39;00m CLILogger\n\u001b[1;32m      3\u001b[0m \u001b[38;5;28;01mfrom\u001b[39;00m \u001b[38;5;21;01m.\u001b[39;00m\u001b[38;5;21;01mdevnull\u001b[39;00m \u001b[38;5;28;01mimport\u001b[39;00m DevNullLogger\n",
      "File \u001b[0;32m~/Desktop/HSE/Diploma/cvtda/cvtda/logging/base.py:4\u001b[0m\n\u001b[1;32m      1\u001b[0m \u001b[38;5;28;01mimport\u001b[39;00m \u001b[38;5;21;01mabc\u001b[39;00m\n\u001b[1;32m      2\u001b[0m \u001b[38;5;28;01mimport\u001b[39;00m \u001b[38;5;21;01mtyping\u001b[39;00m\n\u001b[0;32m----> 4\u001b[0m \u001b[38;5;28;01mimport\u001b[39;00m \u001b[38;5;21;01mcvtda\u001b[39;00m\u001b[38;5;21;01m.\u001b[39;00m\u001b[38;5;21;01mlogging\u001b[39;00m\u001b[38;5;21;01m.\u001b[39;00m\u001b[38;5;21;01mcli\u001b[39;00m\n\u001b[1;32m      6\u001b[0m T \u001b[38;5;241m=\u001b[39m typing\u001b[38;5;241m.\u001b[39mTypeVar(\u001b[38;5;124m\"\u001b[39m\u001b[38;5;124mT\u001b[39m\u001b[38;5;124m\"\u001b[39m)\n\u001b[1;32m      8\u001b[0m \u001b[38;5;28;01mclass\u001b[39;00m \u001b[38;5;21;01mBaseLogger\u001b[39;00m(abc\u001b[38;5;241m.\u001b[39mABC):\n",
      "File \u001b[0;32m~/Desktop/HSE/Diploma/cvtda/cvtda/logging/cli.py:6\u001b[0m\n\u001b[1;32m      3\u001b[0m \u001b[38;5;28;01mimport\u001b[39;00m \u001b[38;5;21;01mtqdm\u001b[39;00m\n\u001b[1;32m      4\u001b[0m \u001b[38;5;28;01mimport\u001b[39;00m \u001b[38;5;21;01mtqdm\u001b[39;00m\u001b[38;5;21;01m.\u001b[39;00m\u001b[38;5;21;01mcontrib\u001b[39;00m\n\u001b[0;32m----> 6\u001b[0m \u001b[38;5;28;01mfrom\u001b[39;00m \u001b[38;5;21;01m.\u001b[39;00m\u001b[38;5;21;01mbase\u001b[39;00m \u001b[38;5;28;01mimport\u001b[39;00m BaseLogger\n\u001b[1;32m      8\u001b[0m T \u001b[38;5;241m=\u001b[39m typing\u001b[38;5;241m.\u001b[39mTypeVar(\u001b[38;5;124m\"\u001b[39m\u001b[38;5;124mT\u001b[39m\u001b[38;5;124m\"\u001b[39m)\n\u001b[1;32m     10\u001b[0m \u001b[38;5;28;01mclass\u001b[39;00m \u001b[38;5;21;01mCLILogger\u001b[39;00m(BaseLogger):\n",
      "\u001b[0;31mImportError\u001b[0m: cannot import name 'BaseLogger' from partially initialized module 'cvtda.logging.base' (most likely due to a circular import) (/Users/ttpo100ajiex/Desktop/HSE/Diploma/cvtda/cvtda/logging/base.py)"
     ]
    }
   ],
   "source": [
    "import cvtda.logging"
   ]
  },
  {
   "cell_type": "code",
   "execution_count": 9,
   "metadata": {},
   "outputs": [
    {
     "ename": "TypeError",
     "evalue": "Can't instantiate abstract class DevNullLogger with abstract method __init__",
     "output_type": "error",
     "traceback": [
      "\u001b[0;31m---------------------------------------------------------------------------\u001b[0m",
      "\u001b[0;31mTypeError\u001b[0m                                 Traceback (most recent call last)",
      "Cell \u001b[0;32mIn[9], line 3\u001b[0m\n\u001b[1;32m      1\u001b[0m \u001b[38;5;28;01massert\u001b[39;00m \u001b[38;5;28misinstance\u001b[39m(cvtda\u001b[38;5;241m.\u001b[39mlogging\u001b[38;5;241m.\u001b[39mBaseLogger\u001b[38;5;241m.\u001b[39mget(), cvtda\u001b[38;5;241m.\u001b[39mlogging\u001b[38;5;241m.\u001b[39mCLILogger)\n\u001b[0;32m----> 3\u001b[0m \u001b[38;5;28;01mwith\u001b[39;00m \u001b[43mcvtda\u001b[49m\u001b[38;5;241;43m.\u001b[39;49m\u001b[43mlogging\u001b[49m\u001b[38;5;241;43m.\u001b[39;49m\u001b[43mDevNullLogger\u001b[49m\u001b[43m(\u001b[49m\u001b[43m)\u001b[49m:\n\u001b[1;32m      4\u001b[0m     \u001b[38;5;28;01massert\u001b[39;00m \u001b[38;5;28misinstance\u001b[39m(cvtda\u001b[38;5;241m.\u001b[39mlogging\u001b[38;5;241m.\u001b[39mBaseLogger\u001b[38;5;241m.\u001b[39mget(), cvtda\u001b[38;5;241m.\u001b[39mlogging\u001b[38;5;241m.\u001b[39mDevNullLogger)\n\u001b[1;32m      6\u001b[0m     \u001b[38;5;28;01mwith\u001b[39;00m cvtda\u001b[38;5;241m.\u001b[39mlogging\u001b[38;5;241m.\u001b[39mCLILogger():\n",
      "\u001b[0;31mTypeError\u001b[0m: Can't instantiate abstract class DevNullLogger with abstract method __init__"
     ]
    }
   ],
   "source": [
    "assert isinstance(cvtda.logging.BaseLogger.get(), cvtda.logging.CLILogger)\n",
    "\n",
    "with cvtda.logging.DevNullLogger():\n",
    "    assert isinstance(cvtda.logging.BaseLogger.get(), cvtda.logging.DevNullLogger)\n",
    "\n",
    "    with cvtda.logging.CLILogger():\n",
    "        assert isinstance(cvtda.logging.BaseLogger.get(), cvtda.logging.CLILogger)\n",
    "    \n",
    "    assert isinstance(cvtda.logging.BaseLogger.get(), cvtda.logging.DevNullLogger)\n",
    "\n",
    "assert isinstance(cvtda.logging.BaseLogger.get(), cvtda.logging.CLILogger)"
   ]
  }
 ],
 "metadata": {
  "kernelspec": {
   "display_name": "Python 3",
   "language": "python",
   "name": "python3"
  },
  "language_info": {
   "codemirror_mode": {
    "name": "ipython",
    "version": 3
   },
   "file_extension": ".py",
   "mimetype": "text/x-python",
   "name": "python",
   "nbconvert_exporter": "python",
   "pygments_lexer": "ipython3",
   "version": "3.10.16"
  }
 },
 "nbformat": 4,
 "nbformat_minor": 2
}
