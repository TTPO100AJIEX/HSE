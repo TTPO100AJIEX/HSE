{
 "cells": [
  {
   "cell_type": "code",
   "execution_count": 1,
   "metadata": {},
   "outputs": [],
   "source": [
    "import os\n",
    "import sys\n",
    "sys.path.append(os.path.dirname(os.path.abspath(os.path.join('../'))))"
   ]
  },
  {
   "cell_type": "code",
   "execution_count": 2,
   "metadata": {},
   "outputs": [],
   "source": [
    "import numpy\n",
    "import torchvision\n",
    "\n",
    "train = torchvision.datasets.MNIST('mnist', train = True, download = False)\n",
    "test = torchvision.datasets.MNIST('mnist', train = False, download = False)\n",
    "\n",
    "train_images = numpy.array([ numpy.array(item[0]) for item in train ])\n",
    "train_labels = numpy.array([ item[1] for item in train ])\n",
    "\n",
    "test_images = numpy.array([ numpy.array(item[0]) for item in test ])\n",
    "test_labels = numpy.array([ item[1] for item in test ])"
   ]
  },
  {
   "cell_type": "code",
   "execution_count": null,
   "metadata": {},
   "outputs": [],
   "source": [
    "import matplotlib.pyplot as plt\n",
    "import gtda.images\n",
    "\n",
    "\n",
    "b = gtda.images.Binarizer(threshold = 0.1)\n",
    "df = gtda.images.DensityFiltration(n_jobs = -1, radius = 3, metric = 'chebyshev')\n",
    "\n",
    "img = df.fit_transform(b.fit_transform(test_images[:10]))[4]\n",
    "plt.imshow(img)"
   ]
  },
  {
   "cell_type": "code",
   "execution_count": null,
   "metadata": {},
   "outputs": [],
   "source": [
    "import matplotlib.pyplot as plt\n",
    "import gtda.images\n",
    "\n",
    "\n",
    "i = gtda.images.Inverter()\n",
    "df = gtda.images.DensityFiltration(n_jobs = -1, radius = 3, metric = 'chebyshev')\n",
    "\n",
    "img = df.fit_transform(b.fit_transform(test_images[:10]))[4]\n",
    "\n",
    "img = i.fit_transform(test_images[:10])[4]\n",
    "plt.imshow(img)"
   ]
  },
  {
   "cell_type": "code",
   "execution_count": null,
   "metadata": {},
   "outputs": [],
   "source": [
    "import gtda.homology\n",
    "\n",
    "gtda.homology.CubicalPersistence().fit_transform_plot(\n",
    "    i.fit_transform(test_images[7:10])\n",
    ")"
   ]
  },
  {
   "cell_type": "code",
   "execution_count": null,
   "metadata": {},
   "outputs": [],
   "source": [
    "import gtda.homology\n",
    "\n",
    "gtda.homology.CubicalPersistence().fit_transform_plot(\n",
    "    test_images[7:10]\n",
    ")"
   ]
  },
  {
   "cell_type": "code",
   "execution_count": null,
   "metadata": {},
   "outputs": [],
   "source": [
    "_, width, height = train_images.shape\n",
    "\n",
    "num_centers = 5\n",
    "\n",
    "w_step = (width - num_centers) // (num_centers + 1)\n",
    "numpy.arange(w_step, width, w_step + 1)"
   ]
  },
  {
   "cell_type": "code",
   "execution_count": 5,
   "metadata": {},
   "outputs": [
    {
     "name": "stdout",
     "output_type": "stream",
     "text": [
      "Fitting the binarizer\n"
     ]
    },
    {
     "name": "stderr",
     "output_type": "stream",
     "text": [
      "Fitting the filtrations: 100%|██████████| 38/38 [00:00<00:00, 3588.91it/s]\n"
     ]
    },
    {
     "name": "stdout",
     "output_type": "stream",
     "text": [
      "Fitting the inverter\n"
     ]
    },
    {
     "name": "stderr",
     "output_type": "stream",
     "text": [
      "Fitting the inverted filtrations: 100%|██████████| 38/38 [00:00<00:00, 4197.07it/s]\n"
     ]
    },
    {
     "name": "stdout",
     "output_type": "stream",
     "text": [
      "Fitting complete\n"
     ]
    },
    {
     "name": "stderr",
     "output_type": "stream",
     "text": [
      "Filtrations: 100%|██████████| 38/38 [00:00<00:00, 74.24it/s]\n",
      "Inverted filtrations: 100%|██████████| 38/38 [00:00<00:00, 74.41it/s]\n"
     ]
    }
   ],
   "source": [
    "import itertools\n",
    "\n",
    "import cvtda.topology\n",
    "\n",
    "f = cvtda.topology.GreyscaleToFiltrations(\n",
    "    radial_filtration_centers=list(itertools.product([ 3, 8, 13, 18, 23 ], [ 3, 8, 13, 18, 23 ]))\n",
    ").fit_transform(train_images[:100])"
   ]
  },
  {
   "cell_type": "code",
   "execution_count": 6,
   "metadata": {},
   "outputs": [
    {
     "name": "stdout",
     "output_type": "stream",
     "text": [
      "Fitting the binarizer\n",
      "Fitting the inverter\n",
      "Fitting the converter\n",
      "Fitting image_to_point_cloud\n",
      "Fitting complete\n",
      "Applying the binarizer\n",
      "Applying the inverter\n"
     ]
    },
    {
     "name": "stderr",
     "output_type": "stream",
     "text": [
      "Converting images to point clouds: 100%|██████████| 60000/60000 [00:01<00:00, 50427.37it/s]\n",
      "Converting inverted images to point clouds: 100%|██████████| 60000/60000 [00:01<00:00, 45678.75it/s]\n"
     ]
    },
    {
     "name": "stdout",
     "output_type": "stream",
     "text": [
      "Converting binary to point clouds\n"
     ]
    },
    {
     "data": {
      "application/vnd.jupyter.widget-view+json": {
       "model_id": "9939c0655b754fef95319b173596e12f",
       "version_major": 2,
       "version_minor": 0
      },
      "text/plain": [
       "Combining the point clouds:   0%|          | 0/60000 [00:00<?, ?it/s]"
      ]
     },
     "metadata": {},
     "output_type": "display_data"
    },
    {
     "data": {
      "text/plain": [
       "4"
      ]
     },
     "execution_count": 6,
     "metadata": {},
     "output_type": "execute_result"
    }
   ],
   "source": [
    "res = cvtda.topology.GreyscaleToPointClouds().fit_transform(train_images)\n",
    "\n",
    "len(res[0])"
   ]
  },
  {
   "cell_type": "code",
   "execution_count": 6,
   "metadata": {},
   "outputs": [
    {
     "name": "stdout",
     "output_type": "stream",
     "text": [
      "(100, 79, 28, 28)\n",
      "(7900, 28, 28)\n",
      "(100, 79, 28, 28)\n"
     ]
    },
    {
     "data": {
      "text/plain": [
       "True"
      ]
     },
     "execution_count": 6,
     "metadata": {},
     "output_type": "execute_result"
    }
   ],
   "source": [
    "import cvtda.utils\n",
    "\n",
    "\n",
    "fb = cvtda.utils.FlattenBatch().fit(f)\n",
    "print(f.shape)\n",
    "\n",
    "g = fb.transform(f)\n",
    "print(g.shape)\n",
    "\n",
    "e = fb.inverse_transform(g)\n",
    "print(e.shape)\n",
    "\n",
    "numpy.allclose(f, e)"
   ]
  },
  {
   "cell_type": "code",
   "execution_count": 15,
   "metadata": {},
   "outputs": [
    {
     "data": {
      "text/plain": [
       "[[1, 2], [3], [4], [5, 6, 7]]"
      ]
     },
     "execution_count": 15,
     "metadata": {},
     "output_type": "execute_result"
    }
   ],
   "source": [
    "import itertools\n",
    "\n",
    "a = [\n",
    "    [ [ 1, 2 ], [ 3 ] ],\n",
    "    [ [ 4 ], [ 5, 6, 7 ] ]\n",
    "]\n",
    "list(itertools.chain(*a))"
   ]
  },
  {
   "cell_type": "code",
   "execution_count": 28,
   "metadata": {},
   "outputs": [],
   "source": [
    "import typing\n",
    "\n",
    "import numpy\n",
    "import sklearn.base\n",
    "\n",
    "T = typing.TypeVar(\"T\")\n",
    "\n",
    "class FlattenBatch(sklearn.base.TransformerMixin):\n",
    "    def fit(self, data: typing.Iterable[typing.Iterable[T]]):\n",
    "        self.dimension_ = len(data[0])\n",
    "        self.fitted_ = True\n",
    "        return self\n",
    "    \n",
    "    def transform(self, data: typing.Iterable[typing.Iterable[T]]) -> typing.Iterable[T]:\n",
    "        assert self.fitted_ is True\n",
    "        assert len(data[0]) == self.dimension_\n",
    "\n",
    "        if type(data) == numpy.ndarray:\n",
    "            return data.reshape((-1, *data.shape[2:]))\n",
    "        else:\n",
    "            return list(itertools.chain(*data))\n",
    "    \n",
    "    def inverse_transform(self, data: typing.Iterable[T]) -> typing.Iterable[typing.Iterable[T]]:\n",
    "        assert self.fitted_ is True\n",
    "        assert len(data) % self.dimension_ == 0\n",
    "\n",
    "        if type(data) == numpy.ndarray:\n",
    "            return data.reshape((-1, self.dimension_, *data.shape[1:]))\n",
    "        else:\n",
    "            return [\n",
    "                data[i:i + self.dimension_]\n",
    "                for i in range(0, len(data), self.dimension_)\n",
    "            ]\n"
   ]
  },
  {
   "cell_type": "code",
   "execution_count": 38,
   "metadata": {},
   "outputs": [
    {
     "name": "stdout",
     "output_type": "stream",
     "text": [
      "60000\n",
      "240000\n",
      "60000\n"
     ]
    }
   ],
   "source": [
    "import cvtda.utils\n",
    "\n",
    "\n",
    "fb = FlattenBatch().fit(res)\n",
    "\n",
    "print(len(res))\n",
    "a = fb.transform(res)\n",
    "print(len(a))\n",
    "\n",
    "b = fb.inverse_transform(a)\n",
    "print(len(b))\n",
    "\n",
    "for i in range(60000):\n",
    "    for j in range(4):\n",
    "        if not numpy.allclose(res[i][j], b[i][j]):\n",
    "            print(i, j)\n"
   ]
  },
  {
   "cell_type": "code",
   "execution_count": 42,
   "metadata": {},
   "outputs": [
    {
     "name": "stdout",
     "output_type": "stream",
     "text": [
      "(7900, 28, 28)\n",
      "(100, 79, 28, 28)\n"
     ]
    },
    {
     "data": {
      "text/plain": [
       "True"
      ]
     },
     "execution_count": 42,
     "metadata": {},
     "output_type": "execute_result"
    }
   ],
   "source": [
    "fb = FlattenBatch().fit(f)\n",
    "\n",
    "g = fb.transform(f)\n",
    "print(g.shape)\n",
    "\n",
    "e = fb.inverse_transform(g)\n",
    "print(e.shape)\n",
    "\n",
    "numpy.allclose(f, e)"
   ]
  },
  {
   "cell_type": "code",
   "execution_count": 1,
   "metadata": {},
   "outputs": [],
   "source": [
    "import cvtda.utils"
   ]
  }
 ],
 "metadata": {
  "kernelspec": {
   "display_name": "Python 3",
   "language": "python",
   "name": "python3"
  },
  "language_info": {
   "codemirror_mode": {
    "name": "ipython",
    "version": 3
   },
   "file_extension": ".py",
   "mimetype": "text/x-python",
   "name": "python",
   "nbconvert_exporter": "python",
   "pygments_lexer": "ipython3",
   "version": "3.10.16"
  }
 },
 "nbformat": 4,
 "nbformat_minor": 2
}
