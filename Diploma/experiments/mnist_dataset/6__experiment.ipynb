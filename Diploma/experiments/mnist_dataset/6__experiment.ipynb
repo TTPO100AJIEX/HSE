{
 "cells": [
  {
   "cell_type": "code",
   "execution_count": 1,
   "metadata": {},
   "outputs": [],
   "source": [
    "import os\n",
    "import sys\n",
    "sys.path.append(os.path.dirname(os.path.abspath(os.path.join('../'))))"
   ]
  },
  {
   "cell_type": "code",
   "execution_count": 2,
   "metadata": {},
   "outputs": [],
   "source": [
    "import numpy\n",
    "import torchvision\n",
    "\n",
    "train = torchvision.datasets.MNIST('mnist', train = True, download = False)\n",
    "test = torchvision.datasets.MNIST('mnist', train = False, download = False)\n",
    "\n",
    "train_images = numpy.array([ numpy.array(item[0]) for item in train ])\n",
    "train_labels = numpy.array([ item[1] for item in train ])\n",
    "\n",
    "test_images = numpy.array([ numpy.array(item[0]) for item in test ])\n",
    "test_labels = numpy.array([ item[1] for item in test ])"
   ]
  },
  {
   "cell_type": "code",
   "execution_count": null,
   "metadata": {},
   "outputs": [],
   "source": [
    "import matplotlib.pyplot as plt\n",
    "import gtda.images\n",
    "\n",
    "\n",
    "b = gtda.images.Binarizer(threshold = 0.1)\n",
    "df = gtda.images.DensityFiltration(n_jobs = -1, radius = 3, metric = 'chebyshev')\n",
    "\n",
    "img = df.fit_transform(b.fit_transform(test_images[:10]))[4]\n",
    "plt.imshow(img)"
   ]
  },
  {
   "cell_type": "code",
   "execution_count": null,
   "metadata": {},
   "outputs": [],
   "source": [
    "import matplotlib.pyplot as plt\n",
    "import gtda.images\n",
    "\n",
    "\n",
    "i = gtda.images.Inverter()\n",
    "df = gtda.images.DensityFiltration(n_jobs = -1, radius = 3, metric = 'chebyshev')\n",
    "\n",
    "img = df.fit_transform(b.fit_transform(test_images[:10]))[4]\n",
    "\n",
    "img = i.fit_transform(test_images[:10])[4]\n",
    "plt.imshow(img)"
   ]
  },
  {
   "cell_type": "code",
   "execution_count": null,
   "metadata": {},
   "outputs": [],
   "source": [
    "import gtda.homology\n",
    "\n",
    "gtda.homology.CubicalPersistence().fit_transform_plot(\n",
    "    i.fit_transform(test_images[7:10])\n",
    ")"
   ]
  },
  {
   "cell_type": "code",
   "execution_count": null,
   "metadata": {},
   "outputs": [],
   "source": [
    "import gtda.homology\n",
    "\n",
    "gtda.homology.CubicalPersistence().fit_transform_plot(\n",
    "    test_images[7:10]\n",
    ")"
   ]
  },
  {
   "cell_type": "code",
   "execution_count": null,
   "metadata": {},
   "outputs": [],
   "source": [
    "_, width, height = train_images.shape\n",
    "\n",
    "num_centers = 5\n",
    "\n",
    "w_step = (width - num_centers) // (num_centers + 1)\n",
    "numpy.arange(w_step, width, w_step + 1)"
   ]
  },
  {
   "cell_type": "code",
   "execution_count": 22,
   "metadata": {},
   "outputs": [
    {
     "name": "stdout",
     "output_type": "stream",
     "text": [
      "Fitting the binarizer\n"
     ]
    },
    {
     "name": "stderr",
     "output_type": "stream",
     "text": [
      "Fitting the filtrations: 100%|██████████| 38/38 [00:00<00:00, 4443.86it/s]\n"
     ]
    },
    {
     "name": "stdout",
     "output_type": "stream",
     "text": [
      "Fitting the inverter\n"
     ]
    },
    {
     "name": "stderr",
     "output_type": "stream",
     "text": [
      "Fitting the inverted filtrations: 100%|██████████| 38/38 [00:00<00:00, 4753.04it/s]\n"
     ]
    },
    {
     "name": "stdout",
     "output_type": "stream",
     "text": [
      "Fitting complete\n"
     ]
    },
    {
     "name": "stderr",
     "output_type": "stream",
     "text": [
      "Filtrations: 100%|██████████| 38/38 [00:00<00:00, 74.25it/s]\n",
      "Inverted filtrations: 100%|██████████| 38/38 [00:00<00:00, 74.20it/s]\n"
     ]
    },
    {
     "data": {
      "text/plain": [
       "(100, 79, 28, 28)"
      ]
     },
     "execution_count": 22,
     "metadata": {},
     "output_type": "execute_result"
    }
   ],
   "source": [
    "import itertools\n",
    "\n",
    "import cvtda.topology\n",
    "\n",
    "cvtda.topology.GreyscaleToFiltrations(\n",
    "    radial_filtration_centers=list(itertools.product([ 3, 8, 13, 18, 23 ], [ 3, 8, 13, 18, 23 ]))\n",
    ").fit_transform(train_images[:100]).shape"
   ]
  },
  {
   "cell_type": "code",
   "execution_count": 23,
   "metadata": {},
   "outputs": [
    {
     "name": "stdout",
     "output_type": "stream",
     "text": [
      "Fitting the binarizer\n",
      "Fitting the inverter\n",
      "Fitting the converter\n",
      "Fitting image_to_point_cloud\n",
      "Fitting complete\n",
      "Applying the binarizer\n",
      "Applying the inverter\n"
     ]
    },
    {
     "name": "stderr",
     "output_type": "stream",
     "text": [
      "Converting images to point clouds: 100%|██████████| 60000/60000 [00:01<00:00, 34859.63it/s]\n",
      "Converting inverted images to point clouds: 100%|██████████| 60000/60000 [00:01<00:00, 59431.12it/s]\n"
     ]
    },
    {
     "name": "stdout",
     "output_type": "stream",
     "text": [
      "Converting binary to point clouds\n"
     ]
    },
    {
     "data": {
      "application/vnd.jupyter.widget-view+json": {
       "model_id": "9d0ebac73e0e485b8a99f447623275f5",
       "version_major": 2,
       "version_minor": 0
      },
      "text/plain": [
       "Combining the point clouds:   0%|          | 0/60000 [00:00<?, ?it/s]"
      ]
     },
     "metadata": {},
     "output_type": "display_data"
    },
    {
     "data": {
      "text/plain": [
       "4"
      ]
     },
     "execution_count": 23,
     "metadata": {},
     "output_type": "execute_result"
    }
   ],
   "source": [
    "res = cvtda.topology.GreyscaleToPointClouds().fit_transform(train_images)\n",
    "\n",
    "len(res[0])"
   ]
  }
 ],
 "metadata": {
  "kernelspec": {
   "display_name": "Python 3",
   "language": "python",
   "name": "python3"
  },
  "language_info": {
   "codemirror_mode": {
    "name": "ipython",
    "version": 3
   },
   "file_extension": ".py",
   "mimetype": "text/x-python",
   "name": "python",
   "nbconvert_exporter": "python",
   "pygments_lexer": "ipython3",
   "version": "3.10.16"
  }
 },
 "nbformat": 4,
 "nbformat_minor": 2
}
