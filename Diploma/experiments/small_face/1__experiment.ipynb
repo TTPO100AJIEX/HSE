{
 "cells": [
  {
   "cell_type": "code",
   "execution_count": 210,
   "metadata": {},
   "outputs": [
    {
     "name": "stdout",
     "output_type": "stream",
     "text": [
      "The autoreload extension is already loaded. To reload it, use:\n",
      "  %reload_ext autoreload\n"
     ]
    }
   ],
   "source": [
    "%load_ext autoreload\n",
    "%autoreload 2"
   ]
  },
  {
   "cell_type": "code",
   "execution_count": 211,
   "metadata": {},
   "outputs": [],
   "source": [
    "import torch\n",
    "import torchvision\n",
    "import torchvision.transforms.v2\n",
    "import matplotlib.pyplot as plt\n",
    "\n",
    "transform = torchvision.transforms.v2.Compose([\n",
    "    # torchvision.transforms.v2.Resize((96, 96), antialias = True),\n",
    "    torchvision.transforms.v2.Grayscale(),\n",
    "    torchvision.transforms.v2.ToImage(),\n",
    "    torchvision.transforms.v2.ToDtype(torch.float32, scale = True),\n",
    "    # torchvision.transforms.v2.Normalize(mean, std)\n",
    "])\n",
    "\n",
    "train = torchvision.datasets.ImageFolder(\"faces/training\", transform = transform)\n",
    "test = torchvision.datasets.ImageFolder(\"faces/testing\", transform = transform)"
   ]
  },
  {
   "cell_type": "code",
   "execution_count": 212,
   "metadata": {},
   "outputs": [
    {
     "name": "stderr",
     "output_type": "stream",
     "text": [
      "100%|██████████| 370/370 [00:00<00:00, 3473.96it/s]\n",
      "100%|██████████| 30/30 [00:00<00:00, 2779.59it/s]\n"
     ]
    },
    {
     "data": {
      "text/plain": [
       "((370, 112, 92), (30, 112, 92))"
      ]
     },
     "execution_count": 212,
     "metadata": {},
     "output_type": "execute_result"
    }
   ],
   "source": [
    "import tqdm\n",
    "import numpy\n",
    "\n",
    "train_images = numpy.array([ numpy.array(item[0]).squeeze() for item in tqdm.tqdm(train) ])\n",
    "train_labels = numpy.array([ item[1] for item in train ])\n",
    "\n",
    "test_images = numpy.array([ numpy.array(item[0]).squeeze() for item in tqdm.tqdm(test) ])\n",
    "test_labels = numpy.array([ item[1] for item in test ])\n",
    "\n",
    "train_images.shape, test_images.shape"
   ]
  },
  {
   "cell_type": "code",
   "execution_count": 213,
   "metadata": {},
   "outputs": [],
   "source": [
    "import os\n",
    "import itertools\n",
    "\n",
    "import typing\n",
    "\n",
    "import tqdm\n",
    "import numpy\n",
    "import joblib\n",
    "import gtda.images\n",
    "\n",
    "import cvtda.utils\n",
    "import cvtda.topology\n",
    "\n",
    "def make_diagrams(\n",
    "    binarizer,\n",
    "    filtration,\n",
    "    n_jobs: int = 1\n",
    ") -> typing.Tuple[numpy.ndarray, numpy.ndarray]:\n",
    "    dir = f\"1/{str(filtration or 'None')}\"\n",
    "    if os.path.exists(f\"{dir}/test_features.npy\"):\n",
    "        return 1, 2\n",
    "    os.makedirs(dir, exist_ok = True)\n",
    "    \n",
    "    with joblib.parallel_backend(\"loky\", inner_max_num_threads = n_jobs):\n",
    "        train = train_images.copy()\n",
    "        test = test_images.copy()\n",
    "\n",
    "        if binarizer is not None:\n",
    "            train = binarizer.fit_transform(train)\n",
    "            test = binarizer.transform(test)\n",
    "            \n",
    "        if filtration is not None:\n",
    "            train = filtration.fit_transform(train)\n",
    "            test = filtration.transform(test)\n",
    "        \n",
    "        filtrations_to_diagrams = cvtda.topology.FiltrationsToDiagrams(verbose = False, n_jobs = n_jobs)\n",
    "        train = filtrations_to_diagrams.fit_transform(train)\n",
    "        test = filtrations_to_diagrams.transform(test)\n",
    "\n",
    "    numpy.save(f\"{dir}/train_diagrams.npy\", train)\n",
    "    numpy.save(f\"{dir}/test_diagrams.npy\", test)\n",
    "    \n",
    "    if len(train[0]) < 96:\n",
    "        n_bins = 32\n",
    "    elif len(train[0]) < 192:\n",
    "        n_bins = 64\n",
    "    else:\n",
    "        n_bins = 128\n",
    "\n",
    "    with joblib.parallel_backend(\"loky\", inner_max_num_threads = n_jobs):\n",
    "        digrams_to_features = cvtda.topology.DiagramsToFeatures(batch_size = 500, n_bins = n_bins, verbose = False, n_jobs = n_jobs)\n",
    "        train = digrams_to_features.fit_transform(train)\n",
    "        test = digrams_to_features.transform(test)\n",
    "\n",
    "    numpy.save(f\"{dir}/train_features.npy\", train)\n",
    "    numpy.save(f\"{dir}/test_features.npy\", test)\n",
    "\n",
    "    return train, test\n",
    "\n",
    "def process(binarizer_threshold: float) -> typing.Tuple[numpy.ndarray, numpy.ndarray]:\n",
    "    centers = [ 5, 12, 18, 25 ]\n",
    "    greyscale_to_filtrations = cvtda.topology.GreyscaleToFiltrations(\n",
    "        n_jobs = 2,\n",
    "        radial_filtration_centers = list(itertools.product(centers, centers))\n",
    "    )\n",
    "    diagrams = joblib.Parallel(return_as = 'generator', n_jobs = 8)(\n",
    "        joblib.delayed(make_diagrams)(\n",
    "            binarizer = gtda.images.Binarizer(threshold = binarizer_threshold, n_jobs = 1),\n",
    "            filtration = filtration,\n",
    "            n_jobs = 2\n",
    "        )\n",
    "        for filtration in greyscale_to_filtrations.filtrations_\n",
    "    )\n",
    "    for train, test in tqdm.tqdm(diagrams, total = len(greyscale_to_filtrations.filtrations_)):\n",
    "        pass\n",
    "\n",
    "    make_diagrams(\n",
    "        binarizer = None,\n",
    "        filtration = None,\n",
    "        n_jobs = -1\n",
    "    )"
   ]
  },
  {
   "cell_type": "code",
   "execution_count": 214,
   "metadata": {},
   "outputs": [
    {
     "name": "stderr",
     "output_type": "stream",
     "text": [
      "100%|██████████| 24/24 [00:00<00:00, 140.09it/s]\n"
     ]
    }
   ],
   "source": [
    "process(0.4)"
   ]
  },
  {
   "cell_type": "code",
   "execution_count": 215,
   "metadata": {},
   "outputs": [
    {
     "name": "stderr",
     "output_type": "stream",
     "text": [
      "100%|██████████| 25/25 [00:00<00:00, 1610.84it/s]\n"
     ]
    },
    {
     "data": {
      "text/plain": [
       "((370, 1750), (30, 1750))"
      ]
     },
     "execution_count": 215,
     "metadata": {},
     "output_type": "execute_result"
    }
   ],
   "source": [
    "train_features = [ ]\n",
    "test_features = [ ]\n",
    "for filtration in tqdm.tqdm(os.listdir(f\"1/\")):\n",
    "    train_features.append(numpy.load(f\"1/{filtration}/train_features.npy\"))\n",
    "    test_features.append(numpy.load(f\"1/{filtration}/test_features.npy\"))\n",
    "\n",
    "train_features = numpy.hstack(train_features)\n",
    "test_features = numpy.hstack(test_features)\n",
    "\n",
    "train_features.shape, test_features.shape"
   ]
  },
  {
   "cell_type": "code",
   "execution_count": 216,
   "metadata": {},
   "outputs": [],
   "source": [
    "import sklearn.preprocessing\n",
    "\n",
    "selected_standard_scaler = sklearn.preprocessing.StandardScaler()\n",
    "train_features = selected_standard_scaler.fit_transform(train_features)\n",
    "test_features = selected_standard_scaler.transform(test_features)"
   ]
  },
  {
   "cell_type": "code",
   "execution_count": 217,
   "metadata": {},
   "outputs": [],
   "source": [
    "train_features = torch.tensor(train_features, dtype = torch.float32)\n",
    "test_features = torch.tensor(test_features, dtype = torch.float32)\n",
    "\n",
    "train_labels = torch.tensor(train_labels, dtype = torch.long)\n",
    "test_labels = torch.tensor(test_labels, dtype = torch.long)"
   ]
  },
  {
   "cell_type": "code",
   "execution_count": 218,
   "metadata": {},
   "outputs": [
    {
     "data": {
      "text/plain": [
       "(19, 1)"
      ]
     },
     "execution_count": 218,
     "metadata": {},
     "output_type": "execute_result"
    },
    {
     "data": {
      "image/png": "[encoded data removed]",
      "text/plain": [
       "<Figure size 1000x300 with 1 Axes>"
      ]
     },
     "metadata": {},
     "output_type": "display_data"
    },
    {
     "data": {
      "image/png": "[encoded data removed]",
      "text/plain": [
       "<Figure size 1000x300 with 1 Axes>"
      ]
     },
     "metadata": {},
     "output_type": "display_data"
    }
   ],
   "source": [
    "import pytorch_metric_learning.samplers\n",
    "\n",
    "def show_class_distribtion(labels, classes):\n",
    "    plt.figure(figsize = (10, 3))\n",
    "    x, counts = labels.unique(return_counts = True)\n",
    "    plt.bar(numpy.array(classes)[x], height = counts)\n",
    "\n",
    "N_EPOCHS = 25\n",
    "LENGTH_BEFORE_NEW_ITER = 1280\n",
    "train_mpc_sampler = pytorch_metric_learning.samplers.MPerClassSampler(labels = train_labels, m = 4, length_before_new_iter = LENGTH_BEFORE_NEW_ITER)\n",
    "train_set = torch.utils.data.TensorDataset(train_features, train_labels)\n",
    "train_loader = torch.utils.data.DataLoader(train_set, batch_size = 64, sampler = train_mpc_sampler)\n",
    "show_class_distribtion(next(iter(train_loader))[1], train.classes)\n",
    "\n",
    "\n",
    "test_set = torch.utils.data.TensorDataset(test_features, test_labels)\n",
    "test_loader = torch.utils.data.DataLoader(test_set, batch_size = len(test_set))\n",
    "show_class_distribtion(next(iter(test_loader))[1], test.classes)\n",
    "\n",
    "len(train_loader), len(test_loader)"
   ]
  },
  {
   "cell_type": "code",
   "execution_count": 219,
   "metadata": {},
   "outputs": [
    {
     "data": {
      "text/plain": [
       "torch.Size([30, 256])"
      ]
     },
     "execution_count": 219,
     "metadata": {},
     "output_type": "execute_result"
    }
   ],
   "source": [
    "model = torch.nn.Sequential(\n",
    "    torch.nn.Dropout(0.3), torch.nn.Linear(1750, 1024), torch.nn.BatchNorm1d(1024), torch.nn.ReLU(),\n",
    "    torch.nn.Dropout(0.15), torch.nn.Linear(1024, 512), torch.nn.BatchNorm1d(512), torch.nn.ReLU(),\n",
    "    torch.nn.Linear(512, 256)\n",
    ")\n",
    "model(next(iter(test_loader))[0]).shape"
   ]
  },
  {
   "cell_type": "code",
   "execution_count": 220,
   "metadata": {},
   "outputs": [],
   "source": [
    "MARGIN = 0.1 # Standard value in PyTorch TripletMarginLoss, should be good"
   ]
  },
  {
   "cell_type": "code",
   "execution_count": 221,
   "metadata": {},
   "outputs": [
    {
     "name": "stdout",
     "output_type": "stream",
     "text": [
      "torch.Size([64, 256])\n",
      "3 torch.Size([6027]) torch.Size([6027]) torch.Size([6027])\n"
     ]
    }
   ],
   "source": [
    "import pytorch_metric_learning.miners\n",
    "\n",
    "train_miner = pytorch_metric_learning.miners.TripletMarginMiner(margin = MARGIN, type_of_triplets = \"all\")\n",
    "\n",
    "images, labels = next(iter(train_loader))\n",
    "embeddings = model(images)\n",
    "print(embeddings.shape)\n",
    "\n",
    "indices = train_miner(embeddings, labels)\n",
    "print(len(indices), indices[0].shape, indices[1].shape, indices[2].shape)"
   ]
  },
  {
   "cell_type": "code",
   "execution_count": 222,
   "metadata": {},
   "outputs": [
    {
     "name": "stdout",
     "output_type": "stream",
     "text": [
      "tensor(0.0938, grad_fn=<MeanBackward0>)\n"
     ]
    }
   ],
   "source": [
    "import pytorch_metric_learning.losses\n",
    "\n",
    "criterion = pytorch_metric_learning.losses.TripletMarginLoss(margin = MARGIN)\n",
    "loss = criterion(embeddings, labels, indices)\n",
    "print(loss)"
   ]
  },
  {
   "cell_type": "code",
   "execution_count": 223,
   "metadata": {},
   "outputs": [
    {
     "data": {
      "text/plain": [
       "{'AMI': 0.7468327705097921,\n",
       " 'NMI': 0.7649659696235374,\n",
       " 'mean_average_precision': 0.8664596695651047,\n",
       " 'mean_average_precision_at_r': 0.7643121693121693,\n",
       " 'mean_reciprocal_rank': 1.0,\n",
       " 'precision_at_1': 1.0,\n",
       " 'r_precision': 0.7888888888888888}"
      ]
     },
     "execution_count": 223,
     "metadata": {},
     "output_type": "execute_result"
    }
   ],
   "source": [
    "import pytorch_metric_learning.utils.accuracy_calculator\n",
    "\n",
    "device = torch.device('cuda')\n",
    "\n",
    "metrics = pytorch_metric_learning.utils.accuracy_calculator.AccuracyCalculator()\n",
    "def validate(model: torch.nn.Module) -> dict:\n",
    "    with torch.no_grad():\n",
    "        images, targets = next(iter(test_loader))\n",
    "        model = model.to(device)\n",
    "        model.eval()\n",
    "        embeddings = model(images.to(device))\n",
    "        return metrics.get_accuracy(embeddings, targets.to(device))\n",
    "\n",
    "validate(model)"
   ]
  },
  {
   "cell_type": "code",
   "execution_count": 224,
   "metadata": {},
   "outputs": [
    {
     "name": "stderr",
     "output_type": "stream",
     "text": [
      "Epoch 1: 100%|██████████| 19/19 [00:00<00:00, 79.87it/s]\n"
     ]
    },
    {
     "name": "stdout",
     "output_type": "stream",
     "text": [
      "Train loss: 0.10044, Test MAP: 0.89239, Test AMI: 0.61483, Test NMI: 0.64332\n"
     ]
    },
    {
     "name": "stderr",
     "output_type": "stream",
     "text": [
      "Epoch 2: 100%|██████████| 19/19 [00:00<00:00, 117.26it/s]"
     ]
    },
    {
     "name": "stdout",
     "output_type": "stream",
     "text": [
      "Train loss: 0.08269, Test MAP: 0.93060, Test AMI: 1.00000, Test NMI: 1.00000"
     ]
    },
    {
     "name": "stderr",
     "output_type": "stream",
     "text": [
      "\n"
     ]
    },
    {
     "name": "stdout",
     "output_type": "stream",
     "text": [
      "\n"
     ]
    },
    {
     "name": "stderr",
     "output_type": "stream",
     "text": [
      "Epoch 3: 100%|██████████| 19/19 [00:00<00:00, 129.74it/s]\n"
     ]
    },
    {
     "name": "stdout",
     "output_type": "stream",
     "text": [
      "Train loss: 0.07430, Test MAP: 0.93874, Test AMI: 1.00000, Test NMI: 1.00000\n"
     ]
    },
    {
     "name": "stderr",
     "output_type": "stream",
     "text": [
      "Epoch 4: 100%|██████████| 19/19 [00:00<00:00, 132.84it/s]\n"
     ]
    },
    {
     "name": "stdout",
     "output_type": "stream",
     "text": [
      "Train loss: 0.06955, Test MAP: 0.96031, Test AMI: 0.62463, Test NMI: 0.65662\n"
     ]
    },
    {
     "name": "stderr",
     "output_type": "stream",
     "text": [
      "Epoch 5: 100%|██████████| 19/19 [00:00<00:00, 126.98it/s]\n"
     ]
    },
    {
     "name": "stdout",
     "output_type": "stream",
     "text": [
      "Train loss: 0.06809, Test MAP: 0.96440, Test AMI: 1.00000, Test NMI: 1.00000\n"
     ]
    },
    {
     "name": "stderr",
     "output_type": "stream",
     "text": [
      "Epoch 6: 100%|██████████| 19/19 [00:00<00:00, 137.80it/s]\n"
     ]
    },
    {
     "name": "stdout",
     "output_type": "stream",
     "text": [
      "Train loss: 0.06597, Test MAP: 0.95581, Test AMI: 1.00000, Test NMI: 1.00000\n"
     ]
    },
    {
     "name": "stderr",
     "output_type": "stream",
     "text": [
      "Epoch 7: 100%|██████████| 19/19 [00:00<00:00, 144.08it/s]\n"
     ]
    },
    {
     "name": "stdout",
     "output_type": "stream",
     "text": [
      "Train loss: 0.06496, Test MAP: 0.95893, Test AMI: 1.00000, Test NMI: 1.00000\n"
     ]
    },
    {
     "name": "stderr",
     "output_type": "stream",
     "text": [
      "Epoch 8: 100%|██████████| 19/19 [00:00<00:00, 131.13it/s]\n"
     ]
    },
    {
     "name": "stdout",
     "output_type": "stream",
     "text": [
      "Train loss: 0.05775, Test MAP: 0.97254, Test AMI: 1.00000, Test NMI: 1.00000\n"
     ]
    },
    {
     "name": "stderr",
     "output_type": "stream",
     "text": [
      "Epoch 9: 100%|██████████| 19/19 [00:00<00:00, 109.10it/s]\n"
     ]
    },
    {
     "name": "stdout",
     "output_type": "stream",
     "text": [
      "Train loss: 0.05990, Test MAP: 0.99660, Test AMI: 1.00000, Test NMI: 1.00000\n"
     ]
    },
    {
     "name": "stderr",
     "output_type": "stream",
     "text": [
      "Epoch 10: 100%|██████████| 19/19 [00:00<00:00, 142.11it/s]\n"
     ]
    },
    {
     "name": "stdout",
     "output_type": "stream",
     "text": [
      "Train loss: 0.06087, Test MAP: 0.97607, Test AMI: 1.00000, Test NMI: 1.00000\n"
     ]
    },
    {
     "name": "stderr",
     "output_type": "stream",
     "text": [
      "Epoch 11: 100%|██████████| 19/19 [00:00<00:00, 133.57it/s]\n"
     ]
    },
    {
     "name": "stdout",
     "output_type": "stream",
     "text": [
      "Train loss: 0.05886, Test MAP: 0.98218, Test AMI: 1.00000, Test NMI: 1.00000\n"
     ]
    },
    {
     "name": "stderr",
     "output_type": "stream",
     "text": [
      "Epoch 12: 100%|██████████| 19/19 [00:00<00:00, 153.05it/s]\n"
     ]
    },
    {
     "name": "stdout",
     "output_type": "stream",
     "text": [
      "Train loss: 0.05006, Test MAP: 0.98696, Test AMI: 1.00000, Test NMI: 1.00000\n"
     ]
    },
    {
     "name": "stderr",
     "output_type": "stream",
     "text": [
      "Epoch 13: 100%|██████████| 19/19 [00:00<00:00, 156.28it/s]\n"
     ]
    },
    {
     "name": "stdout",
     "output_type": "stream",
     "text": [
      "Train loss: 0.05737, Test MAP: 0.98592, Test AMI: 1.00000, Test NMI: 1.00000\n"
     ]
    },
    {
     "name": "stderr",
     "output_type": "stream",
     "text": [
      "Epoch 14: 100%|██████████| 19/19 [00:00<00:00, 161.19it/s]\n"
     ]
    },
    {
     "name": "stdout",
     "output_type": "stream",
     "text": [
      "Train loss: 0.05610, Test MAP: 0.99243, Test AMI: 1.00000, Test NMI: 1.00000\n"
     ]
    },
    {
     "name": "stderr",
     "output_type": "stream",
     "text": [
      "Epoch 15: 100%|██████████| 19/19 [00:00<00:00, 141.67it/s]\n"
     ]
    },
    {
     "name": "stdout",
     "output_type": "stream",
     "text": [
      "Train loss: 0.05986, Test MAP: 0.99126, Test AMI: 1.00000, Test NMI: 1.00000\n"
     ]
    },
    {
     "name": "stderr",
     "output_type": "stream",
     "text": [
      "Epoch 16: 100%|██████████| 19/19 [00:00<00:00, 148.20it/s]\n"
     ]
    },
    {
     "name": "stdout",
     "output_type": "stream",
     "text": [
      "Train loss: 0.04893, Test MAP: 0.99896, Test AMI: 1.00000, Test NMI: 1.00000\n"
     ]
    },
    {
     "name": "stderr",
     "output_type": "stream",
     "text": [
      "Epoch 17: 100%|██████████| 19/19 [00:00<00:00, 155.77it/s]\n"
     ]
    },
    {
     "name": "stdout",
     "output_type": "stream",
     "text": [
      "Train loss: 0.04709, Test MAP: 0.96857, Test AMI: 1.00000, Test NMI: 1.00000\n"
     ]
    },
    {
     "name": "stderr",
     "output_type": "stream",
     "text": [
      "Epoch 18: 100%|██████████| 19/19 [00:00<00:00, 166.46it/s]\n"
     ]
    },
    {
     "name": "stdout",
     "output_type": "stream",
     "text": [
      "Train loss: 0.05090, Test MAP: 0.98209, Test AMI: 0.68335, Test NMI: 0.70870\n"
     ]
    },
    {
     "name": "stderr",
     "output_type": "stream",
     "text": [
      "Epoch 19: 100%|██████████| 19/19 [00:00<00:00, 158.17it/s]\n"
     ]
    },
    {
     "name": "stdout",
     "output_type": "stream",
     "text": [
      "Train loss: 0.04449, Test MAP: 0.97569, Test AMI: 1.00000, Test NMI: 1.00000\n"
     ]
    },
    {
     "name": "stderr",
     "output_type": "stream",
     "text": [
      "Epoch 20: 100%|██████████| 19/19 [00:00<00:00, 151.78it/s]\n"
     ]
    },
    {
     "name": "stdout",
     "output_type": "stream",
     "text": [
      "Train loss: 0.05038, Test MAP: 0.99613, Test AMI: 1.00000, Test NMI: 1.00000\n"
     ]
    },
    {
     "name": "stderr",
     "output_type": "stream",
     "text": [
      "Epoch 21: 100%|██████████| 19/19 [00:00<00:00, 146.07it/s]\n"
     ]
    },
    {
     "name": "stdout",
     "output_type": "stream",
     "text": [
      "Train loss: 0.04394, Test MAP: 0.98375, Test AMI: 0.78281, Test NMI: 0.79799\n"
     ]
    },
    {
     "name": "stderr",
     "output_type": "stream",
     "text": [
      "Epoch 22: 100%|██████████| 19/19 [00:00<00:00, 147.60it/s]\n"
     ]
    },
    {
     "name": "stdout",
     "output_type": "stream",
     "text": [
      "Train loss: 0.04218, Test MAP: 0.97461, Test AMI: 1.00000, Test NMI: 1.00000\n"
     ]
    },
    {
     "name": "stderr",
     "output_type": "stream",
     "text": [
      "Epoch 23: 100%|██████████| 19/19 [00:00<00:00, 144.93it/s]\n"
     ]
    },
    {
     "name": "stdout",
     "output_type": "stream",
     "text": [
      "Train loss: 0.04648, Test MAP: 0.98604, Test AMI: 1.00000, Test NMI: 1.00000\n"
     ]
    },
    {
     "name": "stderr",
     "output_type": "stream",
     "text": [
      "Epoch 24: 100%|██████████| 19/19 [00:00<00:00, 144.99it/s]\n"
     ]
    },
    {
     "name": "stdout",
     "output_type": "stream",
     "text": [
      "Train loss: 0.04171, Test MAP: 0.97445, Test AMI: 1.00000, Test NMI: 1.00000\n"
     ]
    },
    {
     "name": "stderr",
     "output_type": "stream",
     "text": [
      "Epoch 25: 100%|██████████| 19/19 [00:00<00:00, 149.68it/s]\n"
     ]
    },
    {
     "name": "stdout",
     "output_type": "stream",
     "text": [
      "Train loss: 0.04687, Test MAP: 0.98496, Test AMI: 1.00000, Test NMI: 1.00000\n"
     ]
    },
    {
     "name": "stderr",
     "output_type": "stream",
     "text": [
      "Epoch 26: 100%|██████████| 19/19 [00:00<00:00, 150.49it/s]\n"
     ]
    },
    {
     "name": "stdout",
     "output_type": "stream",
     "text": [
      "Train loss: 0.03364, Test MAP: 0.96594, Test AMI: 1.00000, Test NMI: 1.00000\n"
     ]
    },
    {
     "name": "stderr",
     "output_type": "stream",
     "text": [
      "Epoch 27: 100%|██████████| 19/19 [00:00<00:00, 159.33it/s]\n"
     ]
    },
    {
     "name": "stdout",
     "output_type": "stream",
     "text": [
      "Train loss: 0.04547, Test MAP: 0.98469, Test AMI: 1.00000, Test NMI: 1.00000\n"
     ]
    },
    {
     "name": "stderr",
     "output_type": "stream",
     "text": [
      "Epoch 28: 100%|██████████| 19/19 [00:00<00:00, 162.06it/s]\n"
     ]
    },
    {
     "name": "stdout",
     "output_type": "stream",
     "text": [
      "Train loss: 0.05357, Test MAP: 0.98753, Test AMI: 1.00000, Test NMI: 1.00000\n"
     ]
    },
    {
     "name": "stderr",
     "output_type": "stream",
     "text": [
      "Epoch 29: 100%|██████████| 19/19 [00:00<00:00, 138.13it/s]\n"
     ]
    },
    {
     "name": "stdout",
     "output_type": "stream",
     "text": [
      "Train loss: 0.03638, Test MAP: 0.99263, Test AMI: 1.00000, Test NMI: 1.00000\n"
     ]
    },
    {
     "name": "stderr",
     "output_type": "stream",
     "text": [
      "Epoch 30: 100%|██████████| 19/19 [00:00<00:00, 147.98it/s]\n"
     ]
    },
    {
     "name": "stdout",
     "output_type": "stream",
     "text": [
      "Train loss: 0.03545, Test MAP: 0.98930, Test AMI: 1.00000, Test NMI: 1.00000\n"
     ]
    },
    {
     "name": "stderr",
     "output_type": "stream",
     "text": [
      "Epoch 31: 100%|██████████| 19/19 [00:00<00:00, 183.76it/s]\n"
     ]
    },
    {
     "name": "stdout",
     "output_type": "stream",
     "text": [
      "Train loss: 0.04164, Test MAP: 0.98452, Test AMI: 1.00000, Test NMI: 1.00000\n"
     ]
    },
    {
     "name": "stderr",
     "output_type": "stream",
     "text": [
      "Epoch 32: 100%|██████████| 19/19 [00:00<00:00, 142.74it/s]\n"
     ]
    },
    {
     "name": "stdout",
     "output_type": "stream",
     "text": [
      "Train loss: 0.03782, Test MAP: 0.99720, Test AMI: 1.00000, Test NMI: 1.00000\n"
     ]
    },
    {
     "name": "stderr",
     "output_type": "stream",
     "text": [
      "Epoch 33: 100%|██████████| 19/19 [00:00<00:00, 158.20it/s]\n"
     ]
    },
    {
     "name": "stdout",
     "output_type": "stream",
     "text": [
      "Train loss: 0.04477, Test MAP: 0.98851, Test AMI: 1.00000, Test NMI: 1.00000\n"
     ]
    },
    {
     "name": "stderr",
     "output_type": "stream",
     "text": [
      "Epoch 34: 100%|██████████| 19/19 [00:00<00:00, 162.32it/s]\n"
     ]
    },
    {
     "name": "stdout",
     "output_type": "stream",
     "text": [
      "Train loss: 0.03910, Test MAP: 0.98788, Test AMI: 1.00000, Test NMI: 1.00000\n"
     ]
    },
    {
     "name": "stderr",
     "output_type": "stream",
     "text": [
      "Epoch 35: 100%|██████████| 19/19 [00:00<00:00, 174.91it/s]\n"
     ]
    },
    {
     "name": "stdout",
     "output_type": "stream",
     "text": [
      "Train loss: 0.04457, Test MAP: 0.98147, Test AMI: 1.00000, Test NMI: 1.00000\n"
     ]
    },
    {
     "name": "stderr",
     "output_type": "stream",
     "text": [
      "Epoch 36: 100%|██████████| 19/19 [00:00<00:00, 158.70it/s]\n"
     ]
    },
    {
     "name": "stdout",
     "output_type": "stream",
     "text": [
      "Train loss: 0.03909, Test MAP: 0.98557, Test AMI: 1.00000, Test NMI: 1.00000\n"
     ]
    },
    {
     "name": "stderr",
     "output_type": "stream",
     "text": [
      "Epoch 37: 100%|██████████| 19/19 [00:00<00:00, 152.21it/s]\n"
     ]
    },
    {
     "name": "stdout",
     "output_type": "stream",
     "text": [
      "Train loss: 0.04001, Test MAP: 0.98685, Test AMI: 1.00000, Test NMI: 1.00000\n"
     ]
    },
    {
     "name": "stderr",
     "output_type": "stream",
     "text": [
      "Epoch 38: 100%|██████████| 19/19 [00:00<00:00, 171.39it/s]\n"
     ]
    },
    {
     "name": "stdout",
     "output_type": "stream",
     "text": [
      "Train loss: 0.03210, Test MAP: 0.97973, Test AMI: 1.00000, Test NMI: 1.00000\n"
     ]
    },
    {
     "name": "stderr",
     "output_type": "stream",
     "text": [
      "Epoch 39: 100%|██████████| 19/19 [00:00<00:00, 165.01it/s]\n"
     ]
    },
    {
     "name": "stdout",
     "output_type": "stream",
     "text": [
      "Train loss: 0.05391, Test MAP: 0.99926, Test AMI: 1.00000, Test NMI: 1.00000\n"
     ]
    },
    {
     "name": "stderr",
     "output_type": "stream",
     "text": [
      "Epoch 40: 100%|██████████| 19/19 [00:00<00:00, 162.80it/s]\n"
     ]
    },
    {
     "name": "stdout",
     "output_type": "stream",
     "text": [
      "Train loss: 0.03983, Test MAP: 0.99507, Test AMI: 1.00000, Test NMI: 1.00000\n"
     ]
    },
    {
     "name": "stderr",
     "output_type": "stream",
     "text": [
      "Epoch 41: 100%|██████████| 19/19 [00:00<00:00, 168.01it/s]\n"
     ]
    },
    {
     "name": "stdout",
     "output_type": "stream",
     "text": [
      "Train loss: 0.04040, Test MAP: 0.98748, Test AMI: 1.00000, Test NMI: 1.00000\n"
     ]
    },
    {
     "name": "stderr",
     "output_type": "stream",
     "text": [
      "Epoch 42: 100%|██████████| 19/19 [00:00<00:00, 164.63it/s]\n"
     ]
    },
    {
     "name": "stdout",
     "output_type": "stream",
     "text": [
      "Train loss: 0.03599, Test MAP: 0.98784, Test AMI: 1.00000, Test NMI: 1.00000\n"
     ]
    },
    {
     "name": "stderr",
     "output_type": "stream",
     "text": [
      "Epoch 43: 100%|██████████| 19/19 [00:00<00:00, 161.27it/s]\n"
     ]
    },
    {
     "name": "stdout",
     "output_type": "stream",
     "text": [
      "Train loss: 0.04965, Test MAP: 0.98922, Test AMI: 1.00000, Test NMI: 1.00000\n"
     ]
    },
    {
     "name": "stderr",
     "output_type": "stream",
     "text": [
      "Epoch 44: 100%|██████████| 19/19 [00:00<00:00, 160.27it/s]\n"
     ]
    },
    {
     "name": "stdout",
     "output_type": "stream",
     "text": [
      "Train loss: 0.03121, Test MAP: 0.98340, Test AMI: 1.00000, Test NMI: 1.00000\n"
     ]
    },
    {
     "name": "stderr",
     "output_type": "stream",
     "text": [
      "Epoch 45: 100%|██████████| 19/19 [00:00<00:00, 159.42it/s]\n"
     ]
    },
    {
     "name": "stdout",
     "output_type": "stream",
     "text": [
      "Train loss: 0.03598, Test MAP: 0.99521, Test AMI: 1.00000, Test NMI: 1.00000\n"
     ]
    },
    {
     "name": "stderr",
     "output_type": "stream",
     "text": [
      "Epoch 46: 100%|██████████| 19/19 [00:00<00:00, 175.01it/s]\n"
     ]
    },
    {
     "name": "stdout",
     "output_type": "stream",
     "text": [
      "Train loss: 0.02726, Test MAP: 0.98414, Test AMI: 1.00000, Test NMI: 1.00000\n"
     ]
    },
    {
     "name": "stderr",
     "output_type": "stream",
     "text": [
      "Epoch 47: 100%|██████████| 19/19 [00:00<00:00, 183.92it/s]\n"
     ]
    },
    {
     "name": "stdout",
     "output_type": "stream",
     "text": [
      "Train loss: 0.01673, Test MAP: 0.98978, Test AMI: 1.00000, Test NMI: 1.00000\n"
     ]
    },
    {
     "name": "stderr",
     "output_type": "stream",
     "text": [
      "Epoch 48: 100%|██████████| 19/19 [00:00<00:00, 158.31it/s]\n"
     ]
    },
    {
     "name": "stdout",
     "output_type": "stream",
     "text": [
      "Train loss: 0.02322, Test MAP: 0.99232, Test AMI: 1.00000, Test NMI: 1.00000\n"
     ]
    },
    {
     "name": "stderr",
     "output_type": "stream",
     "text": [
      "Epoch 49: 100%|██████████| 19/19 [00:00<00:00, 162.08it/s]\n"
     ]
    },
    {
     "name": "stdout",
     "output_type": "stream",
     "text": [
      "Train loss: 0.02687, Test MAP: 0.98998, Test AMI: 1.00000, Test NMI: 1.00000\n"
     ]
    },
    {
     "name": "stderr",
     "output_type": "stream",
     "text": [
      "Epoch 50: 100%|██████████| 19/19 [00:00<00:00, 168.23it/s]"
     ]
    },
    {
     "name": "stdout",
     "output_type": "stream",
     "text": [
      "Train loss: 0.03367, Test MAP: 0.99280, Test AMI: 1.00000, Test NMI: 1.00000\n"
     ]
    },
    {
     "name": "stderr",
     "output_type": "stream",
     "text": [
      "\n"
     ]
    }
   ],
   "source": [
    "def train(model: torch.nn.Module, n_epochs: int) -> None:\n",
    "    model = model.to(device)\n",
    "    optimizer = torch.optim.AdamW(model.parameters(), lr = 1e-4)\n",
    "    for epoch in range(n_epochs):\n",
    "        sum_loss = 0\n",
    "        for (images, targets) in tqdm.tqdm(train_loader, desc = 'Epoch {}'.format(epoch + 1)):\n",
    "            if len(targets) == 0:\n",
    "                continue\n",
    "            model.train() # Enter train mode\n",
    "            optimizer.zero_grad() # Zero gradients\n",
    "            embeddings = model(images.to(device))\n",
    "            indices = train_miner(embeddings, targets)\n",
    "            loss = criterion(embeddings, targets.to(device), indices)\n",
    "            loss.backward() # Calculate gradients\n",
    "            optimizer.step() # Update weights\n",
    "            sum_loss += loss.item()\n",
    "        train_loss = sum_loss / len(train_loader)\n",
    "        metrics = validate(model)\n",
    "        mean_avg_pr = metrics['mean_average_precision']\n",
    "        AMI = metrics['AMI']\n",
    "        NMI = metrics['NMI']\n",
    "        print(f\"Train loss: {train_loss:.5f}, Test MAP: {mean_avg_pr:.5f}, Test AMI: {AMI:.5f}, Test NMI: {NMI:.5f}\")\n",
    "\n",
    "train(model, N_EPOCHS * 2)"
   ]
  },
  {
   "cell_type": "code",
   "execution_count": 225,
   "metadata": {},
   "outputs": [
    {
     "data": {
      "text/plain": [
       "{'AMI': 1.0,\n",
       " 'NMI': 1.0,\n",
       " 'mean_average_precision': 0.9928004608560164,\n",
       " 'mean_average_precision_at_r': 0.9727880658436214,\n",
       " 'mean_reciprocal_rank': 1.0,\n",
       " 'precision_at_1': 1.0,\n",
       " 'r_precision': 0.974074074074074}"
      ]
     },
     "execution_count": 225,
     "metadata": {},
     "output_type": "execute_result"
    }
   ],
   "source": [
    "model.eval()\n",
    "validate(model)"
   ]
  },
  {
   "cell_type": "code",
   "execution_count": 226,
   "metadata": {},
   "outputs": [],
   "source": [
    "with torch.no_grad():\n",
    "    test_embeddings = model(test_features.to(device))"
   ]
  },
  {
   "cell_type": "code",
   "execution_count": 227,
   "metadata": {},
   "outputs": [
    {
     "data": {
      "text/html": [
       "<div>\n",
       "<style scoped>\n",
       "    .dataframe tbody tr th:only-of-type {\n",
       "        vertical-align: middle;\n",
       "    }\n",
       "\n",
       "    .dataframe tbody tr th {\n",
       "        vertical-align: top;\n",
       "    }\n",
       "\n",
       "    .dataframe thead th {\n",
       "        text-align: right;\n",
       "    }\n",
       "</style>\n",
       "<table border=\"1\" class=\"dataframe\">\n",
       "  <thead>\n",
       "    <tr style=\"text-align: right;\">\n",
       "      <th></th>\n",
       "      <th>0</th>\n",
       "      <th>0</th>\n",
       "      <th>0</th>\n",
       "      <th>0</th>\n",
       "      <th>0</th>\n",
       "      <th>0</th>\n",
       "      <th>0</th>\n",
       "      <th>0</th>\n",
       "      <th>0</th>\n",
       "      <th>0</th>\n",
       "      <th>1</th>\n",
       "      <th>1</th>\n",
       "      <th>1</th>\n",
       "      <th>1</th>\n",
       "      <th>1</th>\n",
       "      <th>1</th>\n",
       "      <th>1</th>\n",
       "      <th>1</th>\n",
       "      <th>1</th>\n",
       "      <th>1</th>\n",
       "      <th>2</th>\n",
       "      <th>2</th>\n",
       "      <th>2</th>\n",
       "      <th>2</th>\n",
       "      <th>2</th>\n",
       "      <th>2</th>\n",
       "      <th>2</th>\n",
       "      <th>2</th>\n",
       "      <th>2</th>\n",
       "      <th>2</th>\n",
       "    </tr>\n",
       "  </thead>\n",
       "  <tbody>\n",
       "    <tr>\n",
       "      <th>0</th>\n",
       "      <td>0.00</td>\n",
       "      <td>4.75</td>\n",
       "      <td>7.37</td>\n",
       "      <td>5.81</td>\n",
       "      <td>4.14</td>\n",
       "      <td>4.28</td>\n",
       "      <td>4.95</td>\n",
       "      <td>5.70</td>\n",
       "      <td>4.79</td>\n",
       "      <td>4.61</td>\n",
       "      <td>9.78</td>\n",
       "      <td>9.14</td>\n",
       "      <td>8.09</td>\n",
       "      <td>9.30</td>\n",
       "      <td>11.67</td>\n",
       "      <td>8.38</td>\n",
       "      <td>9.44</td>\n",
       "      <td>7.66</td>\n",
       "      <td>10.72</td>\n",
       "      <td>8.53</td>\n",
       "      <td>11.47</td>\n",
       "      <td>13.27</td>\n",
       "      <td>10.96</td>\n",
       "      <td>12.95</td>\n",
       "      <td>12.06</td>\n",
       "      <td>11.19</td>\n",
       "      <td>11.47</td>\n",
       "      <td>12.24</td>\n",
       "      <td>12.36</td>\n",
       "      <td>12.05</td>\n",
       "    </tr>\n",
       "    <tr>\n",
       "      <th>0</th>\n",
       "      <td>4.75</td>\n",
       "      <td>0.00</td>\n",
       "      <td>7.44</td>\n",
       "      <td>7.01</td>\n",
       "      <td>5.47</td>\n",
       "      <td>5.18</td>\n",
       "      <td>6.13</td>\n",
       "      <td>5.45</td>\n",
       "      <td>6.33</td>\n",
       "      <td>6.18</td>\n",
       "      <td>10.77</td>\n",
       "      <td>10.22</td>\n",
       "      <td>9.24</td>\n",
       "      <td>10.36</td>\n",
       "      <td>12.07</td>\n",
       "      <td>9.43</td>\n",
       "      <td>10.25</td>\n",
       "      <td>9.12</td>\n",
       "      <td>11.55</td>\n",
       "      <td>9.27</td>\n",
       "      <td>11.45</td>\n",
       "      <td>12.83</td>\n",
       "      <td>10.84</td>\n",
       "      <td>12.58</td>\n",
       "      <td>12.21</td>\n",
       "      <td>10.99</td>\n",
       "      <td>11.46</td>\n",
       "      <td>12.24</td>\n",
       "      <td>12.30</td>\n",
       "      <td>11.88</td>\n",
       "    </tr>\n",
       "    <tr>\n",
       "      <th>0</th>\n",
       "      <td>7.37</td>\n",
       "      <td>7.44</td>\n",
       "      <td>0.00</td>\n",
       "      <td>5.70</td>\n",
       "      <td>6.36</td>\n",
       "      <td>8.79</td>\n",
       "      <td>8.97</td>\n",
       "      <td>6.02</td>\n",
       "      <td>7.38</td>\n",
       "      <td>9.46</td>\n",
       "      <td>9.43</td>\n",
       "      <td>9.56</td>\n",
       "      <td>8.02</td>\n",
       "      <td>9.02</td>\n",
       "      <td>11.27</td>\n",
       "      <td>9.09</td>\n",
       "      <td>9.58</td>\n",
       "      <td>8.48</td>\n",
       "      <td>10.46</td>\n",
       "      <td>10.02</td>\n",
       "      <td>11.16</td>\n",
       "      <td>12.92</td>\n",
       "      <td>10.46</td>\n",
       "      <td>12.57</td>\n",
       "      <td>11.58</td>\n",
       "      <td>11.24</td>\n",
       "      <td>10.94</td>\n",
       "      <td>12.08</td>\n",
       "      <td>11.94</td>\n",
       "      <td>12.08</td>\n",
       "    </tr>\n",
       "    <tr>\n",
       "      <th>0</th>\n",
       "      <td>5.81</td>\n",
       "      <td>7.01</td>\n",
       "      <td>5.70</td>\n",
       "      <td>0.00</td>\n",
       "      <td>6.22</td>\n",
       "      <td>6.98</td>\n",
       "      <td>6.09</td>\n",
       "      <td>6.10</td>\n",
       "      <td>4.84</td>\n",
       "      <td>7.53</td>\n",
       "      <td>9.72</td>\n",
       "      <td>9.42</td>\n",
       "      <td>8.11</td>\n",
       "      <td>8.95</td>\n",
       "      <td>11.67</td>\n",
       "      <td>9.35</td>\n",
       "      <td>9.60</td>\n",
       "      <td>8.38</td>\n",
       "      <td>10.74</td>\n",
       "      <td>10.35</td>\n",
       "      <td>12.24</td>\n",
       "      <td>14.15</td>\n",
       "      <td>11.68</td>\n",
       "      <td>13.78</td>\n",
       "      <td>12.73</td>\n",
       "      <td>12.35</td>\n",
       "      <td>12.22</td>\n",
       "      <td>12.96</td>\n",
       "      <td>12.97</td>\n",
       "      <td>13.07</td>\n",
       "    </tr>\n",
       "    <tr>\n",
       "      <th>0</th>\n",
       "      <td>4.14</td>\n",
       "      <td>5.47</td>\n",
       "      <td>6.36</td>\n",
       "      <td>6.22</td>\n",
       "      <td>0.00</td>\n",
       "      <td>6.02</td>\n",
       "      <td>7.32</td>\n",
       "      <td>3.98</td>\n",
       "      <td>5.39</td>\n",
       "      <td>7.25</td>\n",
       "      <td>10.23</td>\n",
       "      <td>9.85</td>\n",
       "      <td>8.28</td>\n",
       "      <td>10.10</td>\n",
       "      <td>11.84</td>\n",
       "      <td>8.96</td>\n",
       "      <td>9.99</td>\n",
       "      <td>8.16</td>\n",
       "      <td>10.75</td>\n",
       "      <td>9.49</td>\n",
       "      <td>12.64</td>\n",
       "      <td>14.27</td>\n",
       "      <td>11.92</td>\n",
       "      <td>14.01</td>\n",
       "      <td>12.97</td>\n",
       "      <td>12.11</td>\n",
       "      <td>12.41</td>\n",
       "      <td>13.38</td>\n",
       "      <td>13.49</td>\n",
       "      <td>13.30</td>\n",
       "    </tr>\n",
       "    <tr>\n",
       "      <th>0</th>\n",
       "      <td>4.28</td>\n",
       "      <td>5.18</td>\n",
       "      <td>8.79</td>\n",
       "      <td>6.98</td>\n",
       "      <td>6.02</td>\n",
       "      <td>0.00</td>\n",
       "      <td>5.50</td>\n",
       "      <td>7.08</td>\n",
       "      <td>4.90</td>\n",
       "      <td>4.63</td>\n",
       "      <td>10.77</td>\n",
       "      <td>9.58</td>\n",
       "      <td>9.33</td>\n",
       "      <td>10.40</td>\n",
       "      <td>11.96</td>\n",
       "      <td>8.67</td>\n",
       "      <td>9.89</td>\n",
       "      <td>7.92</td>\n",
       "      <td>11.15</td>\n",
       "      <td>8.50</td>\n",
       "      <td>12.13</td>\n",
       "      <td>13.24</td>\n",
       "      <td>11.36</td>\n",
       "      <td>13.05</td>\n",
       "      <td>12.53</td>\n",
       "      <td>11.45</td>\n",
       "      <td>11.72</td>\n",
       "      <td>12.54</td>\n",
       "      <td>12.69</td>\n",
       "      <td>12.46</td>\n",
       "    </tr>\n",
       "    <tr>\n",
       "      <th>0</th>\n",
       "      <td>4.95</td>\n",
       "      <td>6.13</td>\n",
       "      <td>8.97</td>\n",
       "      <td>6.09</td>\n",
       "      <td>7.32</td>\n",
       "      <td>5.50</td>\n",
       "      <td>0.00</td>\n",
       "      <td>7.69</td>\n",
       "      <td>5.73</td>\n",
       "      <td>3.54</td>\n",
       "      <td>11.69</td>\n",
       "      <td>11.11</td>\n",
       "      <td>10.36</td>\n",
       "      <td>10.85</td>\n",
       "      <td>13.70</td>\n",
       "      <td>10.65</td>\n",
       "      <td>11.47</td>\n",
       "      <td>10.15</td>\n",
       "      <td>12.82</td>\n",
       "      <td>10.82</td>\n",
       "      <td>13.14</td>\n",
       "      <td>14.68</td>\n",
       "      <td>12.72</td>\n",
       "      <td>14.57</td>\n",
       "      <td>13.56</td>\n",
       "      <td>12.94</td>\n",
       "      <td>13.29</td>\n",
       "      <td>13.90</td>\n",
       "      <td>13.91</td>\n",
       "      <td>13.76</td>\n",
       "    </tr>\n",
       "    <tr>\n",
       "      <th>0</th>\n",
       "      <td>5.70</td>\n",
       "      <td>5.45</td>\n",
       "      <td>6.02</td>\n",
       "      <td>6.10</td>\n",
       "      <td>3.98</td>\n",
       "      <td>7.08</td>\n",
       "      <td>7.69</td>\n",
       "      <td>0.00</td>\n",
       "      <td>5.88</td>\n",
       "      <td>7.77</td>\n",
       "      <td>11.37</td>\n",
       "      <td>10.92</td>\n",
       "      <td>9.56</td>\n",
       "      <td>11.14</td>\n",
       "      <td>12.59</td>\n",
       "      <td>10.37</td>\n",
       "      <td>11.02</td>\n",
       "      <td>9.55</td>\n",
       "      <td>11.70</td>\n",
       "      <td>10.74</td>\n",
       "      <td>13.26</td>\n",
       "      <td>15.19</td>\n",
       "      <td>12.71</td>\n",
       "      <td>14.69</td>\n",
       "      <td>13.96</td>\n",
       "      <td>13.22</td>\n",
       "      <td>13.32</td>\n",
       "      <td>14.16</td>\n",
       "      <td>14.22</td>\n",
       "      <td>14.00</td>\n",
       "    </tr>\n",
       "    <tr>\n",
       "      <th>0</th>\n",
       "      <td>4.79</td>\n",
       "      <td>6.33</td>\n",
       "      <td>7.38</td>\n",
       "      <td>4.84</td>\n",
       "      <td>5.39</td>\n",
       "      <td>4.90</td>\n",
       "      <td>5.73</td>\n",
       "      <td>5.88</td>\n",
       "      <td>0.00</td>\n",
       "      <td>5.70</td>\n",
       "      <td>9.86</td>\n",
       "      <td>9.00</td>\n",
       "      <td>8.13</td>\n",
       "      <td>9.33</td>\n",
       "      <td>11.37</td>\n",
       "      <td>8.33</td>\n",
       "      <td>9.35</td>\n",
       "      <td>7.57</td>\n",
       "      <td>10.35</td>\n",
       "      <td>9.18</td>\n",
       "      <td>12.45</td>\n",
       "      <td>13.53</td>\n",
       "      <td>11.76</td>\n",
       "      <td>13.58</td>\n",
       "      <td>12.36</td>\n",
       "      <td>11.59</td>\n",
       "      <td>12.09</td>\n",
       "      <td>13.04</td>\n",
       "      <td>13.18</td>\n",
       "      <td>13.08</td>\n",
       "    </tr>\n",
       "    <tr>\n",
       "      <th>0</th>\n",
       "      <td>4.61</td>\n",
       "      <td>6.18</td>\n",
       "      <td>9.46</td>\n",
       "      <td>7.53</td>\n",
       "      <td>7.25</td>\n",
       "      <td>4.63</td>\n",
       "      <td>3.54</td>\n",
       "      <td>7.77</td>\n",
       "      <td>5.70</td>\n",
       "      <td>0.00</td>\n",
       "      <td>11.31</td>\n",
       "      <td>10.46</td>\n",
       "      <td>10.08</td>\n",
       "      <td>10.84</td>\n",
       "      <td>12.80</td>\n",
       "      <td>9.70</td>\n",
       "      <td>10.84</td>\n",
       "      <td>9.32</td>\n",
       "      <td>11.90</td>\n",
       "      <td>9.51</td>\n",
       "      <td>12.73</td>\n",
       "      <td>14.16</td>\n",
       "      <td>12.36</td>\n",
       "      <td>13.98</td>\n",
       "      <td>13.21</td>\n",
       "      <td>12.35</td>\n",
       "      <td>12.67</td>\n",
       "      <td>13.41</td>\n",
       "      <td>13.49</td>\n",
       "      <td>13.18</td>\n",
       "    </tr>\n",
       "    <tr>\n",
       "      <th>1</th>\n",
       "      <td>9.78</td>\n",
       "      <td>10.77</td>\n",
       "      <td>9.43</td>\n",
       "      <td>9.72</td>\n",
       "      <td>10.23</td>\n",
       "      <td>10.77</td>\n",
       "      <td>11.69</td>\n",
       "      <td>11.37</td>\n",
       "      <td>9.86</td>\n",
       "      <td>11.31</td>\n",
       "      <td>0.00</td>\n",
       "      <td>4.73</td>\n",
       "      <td>3.17</td>\n",
       "      <td>2.88</td>\n",
       "      <td>5.18</td>\n",
       "      <td>5.17</td>\n",
       "      <td>3.66</td>\n",
       "      <td>5.71</td>\n",
       "      <td>4.99</td>\n",
       "      <td>5.87</td>\n",
       "      <td>7.53</td>\n",
       "      <td>9.74</td>\n",
       "      <td>7.38</td>\n",
       "      <td>8.89</td>\n",
       "      <td>7.18</td>\n",
       "      <td>7.83</td>\n",
       "      <td>7.02</td>\n",
       "      <td>7.78</td>\n",
       "      <td>8.11</td>\n",
       "      <td>8.11</td>\n",
       "    </tr>\n",
       "    <tr>\n",
       "      <th>1</th>\n",
       "      <td>9.14</td>\n",
       "      <td>10.22</td>\n",
       "      <td>9.56</td>\n",
       "      <td>9.42</td>\n",
       "      <td>9.85</td>\n",
       "      <td>9.58</td>\n",
       "      <td>11.11</td>\n",
       "      <td>10.92</td>\n",
       "      <td>9.00</td>\n",
       "      <td>10.46</td>\n",
       "      <td>4.73</td>\n",
       "      <td>0.00</td>\n",
       "      <td>5.69</td>\n",
       "      <td>4.96</td>\n",
       "      <td>5.19</td>\n",
       "      <td>2.98</td>\n",
       "      <td>2.51</td>\n",
       "      <td>3.64</td>\n",
       "      <td>4.72</td>\n",
       "      <td>6.01</td>\n",
       "      <td>7.53</td>\n",
       "      <td>9.95</td>\n",
       "      <td>7.21</td>\n",
       "      <td>8.46</td>\n",
       "      <td>7.77</td>\n",
       "      <td>7.90</td>\n",
       "      <td>6.93</td>\n",
       "      <td>7.48</td>\n",
       "      <td>7.98</td>\n",
       "      <td>8.09</td>\n",
       "    </tr>\n",
       "    <tr>\n",
       "      <th>1</th>\n",
       "      <td>8.09</td>\n",
       "      <td>9.24</td>\n",
       "      <td>8.02</td>\n",
       "      <td>8.11</td>\n",
       "      <td>8.28</td>\n",
       "      <td>9.33</td>\n",
       "      <td>10.36</td>\n",
       "      <td>9.56</td>\n",
       "      <td>8.13</td>\n",
       "      <td>10.08</td>\n",
       "      <td>3.17</td>\n",
       "      <td>5.69</td>\n",
       "      <td>0.00</td>\n",
       "      <td>3.67</td>\n",
       "      <td>6.67</td>\n",
       "      <td>5.53</td>\n",
       "      <td>4.88</td>\n",
       "      <td>5.26</td>\n",
       "      <td>6.10</td>\n",
       "      <td>5.87</td>\n",
       "      <td>8.72</td>\n",
       "      <td>10.79</td>\n",
       "      <td>8.42</td>\n",
       "      <td>10.23</td>\n",
       "      <td>8.64</td>\n",
       "      <td>8.68</td>\n",
       "      <td>8.26</td>\n",
       "      <td>9.22</td>\n",
       "      <td>9.49</td>\n",
       "      <td>9.31</td>\n",
       "    </tr>\n",
       "    <tr>\n",
       "      <th>1</th>\n",
       "      <td>9.30</td>\n",
       "      <td>10.36</td>\n",
       "      <td>9.02</td>\n",
       "      <td>8.95</td>\n",
       "      <td>10.10</td>\n",
       "      <td>10.40</td>\n",
       "      <td>10.85</td>\n",
       "      <td>11.14</td>\n",
       "      <td>9.33</td>\n",
       "      <td>10.84</td>\n",
       "      <td>2.88</td>\n",
       "      <td>4.96</td>\n",
       "      <td>3.67</td>\n",
       "      <td>0.00</td>\n",
       "      <td>7.07</td>\n",
       "      <td>5.67</td>\n",
       "      <td>4.44</td>\n",
       "      <td>6.18</td>\n",
       "      <td>6.96</td>\n",
       "      <td>6.91</td>\n",
       "      <td>7.02</td>\n",
       "      <td>9.50</td>\n",
       "      <td>6.96</td>\n",
       "      <td>8.63</td>\n",
       "      <td>6.72</td>\n",
       "      <td>7.52</td>\n",
       "      <td>6.91</td>\n",
       "      <td>7.48</td>\n",
       "      <td>7.72</td>\n",
       "      <td>7.84</td>\n",
       "    </tr>\n",
       "    <tr>\n",
       "      <th>1</th>\n",
       "      <td>11.67</td>\n",
       "      <td>12.07</td>\n",
       "      <td>11.27</td>\n",
       "      <td>11.67</td>\n",
       "      <td>11.84</td>\n",
       "      <td>11.96</td>\n",
       "      <td>13.70</td>\n",
       "      <td>12.59</td>\n",
       "      <td>11.37</td>\n",
       "      <td>12.80</td>\n",
       "      <td>5.18</td>\n",
       "      <td>5.19</td>\n",
       "      <td>6.67</td>\n",
       "      <td>7.07</td>\n",
       "      <td>0.00</td>\n",
       "      <td>5.81</td>\n",
       "      <td>3.82</td>\n",
       "      <td>6.19</td>\n",
       "      <td>3.05</td>\n",
       "      <td>6.24</td>\n",
       "      <td>8.48</td>\n",
       "      <td>10.92</td>\n",
       "      <td>8.48</td>\n",
       "      <td>9.26</td>\n",
       "      <td>9.20</td>\n",
       "      <td>9.26</td>\n",
       "      <td>7.82</td>\n",
       "      <td>8.35</td>\n",
       "      <td>8.80</td>\n",
       "      <td>8.65</td>\n",
       "    </tr>\n",
       "    <tr>\n",
       "      <th>1</th>\n",
       "      <td>8.38</td>\n",
       "      <td>9.43</td>\n",
       "      <td>9.09</td>\n",
       "      <td>9.35</td>\n",
       "      <td>8.96</td>\n",
       "      <td>8.67</td>\n",
       "      <td>10.65</td>\n",
       "      <td>10.37</td>\n",
       "      <td>8.33</td>\n",
       "      <td>9.70</td>\n",
       "      <td>5.17</td>\n",
       "      <td>2.98</td>\n",
       "      <td>5.53</td>\n",
       "      <td>5.67</td>\n",
       "      <td>5.81</td>\n",
       "      <td>0.00</td>\n",
       "      <td>3.48</td>\n",
       "      <td>3.20</td>\n",
       "      <td>4.81</td>\n",
       "      <td>4.76</td>\n",
       "      <td>8.10</td>\n",
       "      <td>9.10</td>\n",
       "      <td>7.51</td>\n",
       "      <td>8.64</td>\n",
       "      <td>7.56</td>\n",
       "      <td>7.01</td>\n",
       "      <td>6.97</td>\n",
       "      <td>8.12</td>\n",
       "      <td>8.57</td>\n",
       "      <td>8.47</td>\n",
       "    </tr>\n",
       "    <tr>\n",
       "      <th>1</th>\n",
       "      <td>9.44</td>\n",
       "      <td>10.25</td>\n",
       "      <td>9.58</td>\n",
       "      <td>9.60</td>\n",
       "      <td>9.99</td>\n",
       "      <td>9.89</td>\n",
       "      <td>11.47</td>\n",
       "      <td>11.02</td>\n",
       "      <td>9.35</td>\n",
       "      <td>10.84</td>\n",
       "      <td>3.66</td>\n",
       "      <td>2.51</td>\n",
       "      <td>4.88</td>\n",
       "      <td>4.44</td>\n",
       "      <td>3.82</td>\n",
       "      <td>3.48</td>\n",
       "      <td>0.00</td>\n",
       "      <td>4.07</td>\n",
       "      <td>4.03</td>\n",
       "      <td>5.14</td>\n",
       "      <td>6.94</td>\n",
       "      <td>9.63</td>\n",
       "      <td>6.80</td>\n",
       "      <td>8.04</td>\n",
       "      <td>7.50</td>\n",
       "      <td>7.61</td>\n",
       "      <td>6.41</td>\n",
       "      <td>6.97</td>\n",
       "      <td>7.46</td>\n",
       "      <td>7.36</td>\n",
       "    </tr>\n",
       "    <tr>\n",
       "      <th>1</th>\n",
       "      <td>7.66</td>\n",
       "      <td>9.12</td>\n",
       "      <td>8.48</td>\n",
       "      <td>8.38</td>\n",
       "      <td>8.16</td>\n",
       "      <td>7.92</td>\n",
       "      <td>10.15</td>\n",
       "      <td>9.55</td>\n",
       "      <td>7.57</td>\n",
       "      <td>9.32</td>\n",
       "      <td>5.71</td>\n",
       "      <td>3.64</td>\n",
       "      <td>5.26</td>\n",
       "      <td>6.18</td>\n",
       "      <td>6.19</td>\n",
       "      <td>3.20</td>\n",
       "      <td>4.07</td>\n",
       "      <td>0.00</td>\n",
       "      <td>5.27</td>\n",
       "      <td>5.13</td>\n",
       "      <td>8.91</td>\n",
       "      <td>10.96</td>\n",
       "      <td>8.38</td>\n",
       "      <td>9.87</td>\n",
       "      <td>9.28</td>\n",
       "      <td>8.88</td>\n",
       "      <td>8.04</td>\n",
       "      <td>8.99</td>\n",
       "      <td>9.38</td>\n",
       "      <td>9.35</td>\n",
       "    </tr>\n",
       "    <tr>\n",
       "      <th>1</th>\n",
       "      <td>10.72</td>\n",
       "      <td>11.55</td>\n",
       "      <td>10.46</td>\n",
       "      <td>10.74</td>\n",
       "      <td>10.75</td>\n",
       "      <td>11.15</td>\n",
       "      <td>12.82</td>\n",
       "      <td>11.70</td>\n",
       "      <td>10.35</td>\n",
       "      <td>11.90</td>\n",
       "      <td>4.99</td>\n",
       "      <td>4.72</td>\n",
       "      <td>6.10</td>\n",
       "      <td>6.96</td>\n",
       "      <td>3.05</td>\n",
       "      <td>4.81</td>\n",
       "      <td>4.03</td>\n",
       "      <td>5.27</td>\n",
       "      <td>0.00</td>\n",
       "      <td>6.14</td>\n",
       "      <td>9.85</td>\n",
       "      <td>11.60</td>\n",
       "      <td>9.59</td>\n",
       "      <td>10.67</td>\n",
       "      <td>9.85</td>\n",
       "      <td>9.83</td>\n",
       "      <td>9.01</td>\n",
       "      <td>9.86</td>\n",
       "      <td>10.28</td>\n",
       "      <td>10.18</td>\n",
       "    </tr>\n",
       "    <tr>\n",
       "      <th>1</th>\n",
       "      <td>8.53</td>\n",
       "      <td>9.27</td>\n",
       "      <td>10.02</td>\n",
       "      <td>10.35</td>\n",
       "      <td>9.49</td>\n",
       "      <td>8.50</td>\n",
       "      <td>10.82</td>\n",
       "      <td>10.74</td>\n",
       "      <td>9.18</td>\n",
       "      <td>9.51</td>\n",
       "      <td>5.87</td>\n",
       "      <td>6.01</td>\n",
       "      <td>5.87</td>\n",
       "      <td>6.91</td>\n",
       "      <td>6.24</td>\n",
       "      <td>4.76</td>\n",
       "      <td>5.14</td>\n",
       "      <td>5.13</td>\n",
       "      <td>6.14</td>\n",
       "      <td>0.00</td>\n",
       "      <td>8.21</td>\n",
       "      <td>9.58</td>\n",
       "      <td>7.89</td>\n",
       "      <td>9.10</td>\n",
       "      <td>8.44</td>\n",
       "      <td>7.87</td>\n",
       "      <td>7.52</td>\n",
       "      <td>8.41</td>\n",
       "      <td>8.76</td>\n",
       "      <td>8.16</td>\n",
       "    </tr>\n",
       "    <tr>\n",
       "      <th>2</th>\n",
       "      <td>11.47</td>\n",
       "      <td>11.45</td>\n",
       "      <td>11.16</td>\n",
       "      <td>12.24</td>\n",
       "      <td>12.64</td>\n",
       "      <td>12.13</td>\n",
       "      <td>13.14</td>\n",
       "      <td>13.26</td>\n",
       "      <td>12.45</td>\n",
       "      <td>12.73</td>\n",
       "      <td>7.53</td>\n",
       "      <td>7.53</td>\n",
       "      <td>8.72</td>\n",
       "      <td>7.02</td>\n",
       "      <td>8.48</td>\n",
       "      <td>8.10</td>\n",
       "      <td>6.94</td>\n",
       "      <td>8.91</td>\n",
       "      <td>9.85</td>\n",
       "      <td>8.21</td>\n",
       "      <td>0.00</td>\n",
       "      <td>7.22</td>\n",
       "      <td>2.74</td>\n",
       "      <td>3.69</td>\n",
       "      <td>5.47</td>\n",
       "      <td>5.92</td>\n",
       "      <td>3.45</td>\n",
       "      <td>2.33</td>\n",
       "      <td>2.03</td>\n",
       "      <td>1.95</td>\n",
       "    </tr>\n",
       "    <tr>\n",
       "      <th>2</th>\n",
       "      <td>13.27</td>\n",
       "      <td>12.83</td>\n",
       "      <td>12.92</td>\n",
       "      <td>14.15</td>\n",
       "      <td>14.27</td>\n",
       "      <td>13.24</td>\n",
       "      <td>14.68</td>\n",
       "      <td>15.19</td>\n",
       "      <td>13.53</td>\n",
       "      <td>14.16</td>\n",
       "      <td>9.74</td>\n",
       "      <td>9.95</td>\n",
       "      <td>10.79</td>\n",
       "      <td>9.50</td>\n",
       "      <td>10.92</td>\n",
       "      <td>9.10</td>\n",
       "      <td>9.63</td>\n",
       "      <td>10.96</td>\n",
       "      <td>11.60</td>\n",
       "      <td>9.58</td>\n",
       "      <td>7.22</td>\n",
       "      <td>0.00</td>\n",
       "      <td>6.43</td>\n",
       "      <td>5.38</td>\n",
       "      <td>4.34</td>\n",
       "      <td>3.38</td>\n",
       "      <td>5.72</td>\n",
       "      <td>6.77</td>\n",
       "      <td>6.83</td>\n",
       "      <td>6.93</td>\n",
       "    </tr>\n",
       "    <tr>\n",
       "      <th>2</th>\n",
       "      <td>10.96</td>\n",
       "      <td>10.84</td>\n",
       "      <td>10.46</td>\n",
       "      <td>11.68</td>\n",
       "      <td>11.92</td>\n",
       "      <td>11.36</td>\n",
       "      <td>12.72</td>\n",
       "      <td>12.71</td>\n",
       "      <td>11.76</td>\n",
       "      <td>12.36</td>\n",
       "      <td>7.38</td>\n",
       "      <td>7.21</td>\n",
       "      <td>8.42</td>\n",
       "      <td>6.96</td>\n",
       "      <td>8.48</td>\n",
       "      <td>7.51</td>\n",
       "      <td>6.80</td>\n",
       "      <td>8.38</td>\n",
       "      <td>9.59</td>\n",
       "      <td>7.89</td>\n",
       "      <td>2.74</td>\n",
       "      <td>6.43</td>\n",
       "      <td>0.00</td>\n",
       "      <td>3.63</td>\n",
       "      <td>4.92</td>\n",
       "      <td>5.16</td>\n",
       "      <td>3.14</td>\n",
       "      <td>3.05</td>\n",
       "      <td>2.87</td>\n",
       "      <td>3.23</td>\n",
       "    </tr>\n",
       "    <tr>\n",
       "      <th>2</th>\n",
       "      <td>12.95</td>\n",
       "      <td>12.58</td>\n",
       "      <td>12.57</td>\n",
       "      <td>13.78</td>\n",
       "      <td>14.01</td>\n",
       "      <td>13.05</td>\n",
       "      <td>14.57</td>\n",
       "      <td>14.69</td>\n",
       "      <td>13.58</td>\n",
       "      <td>13.98</td>\n",
       "      <td>8.89</td>\n",
       "      <td>8.46</td>\n",
       "      <td>10.23</td>\n",
       "      <td>8.63</td>\n",
       "      <td>9.26</td>\n",
       "      <td>8.64</td>\n",
       "      <td>8.04</td>\n",
       "      <td>9.87</td>\n",
       "      <td>10.67</td>\n",
       "      <td>9.10</td>\n",
       "      <td>3.69</td>\n",
       "      <td>5.38</td>\n",
       "      <td>3.63</td>\n",
       "      <td>0.00</td>\n",
       "      <td>5.03</td>\n",
       "      <td>4.86</td>\n",
       "      <td>2.68</td>\n",
       "      <td>2.69</td>\n",
       "      <td>3.00</td>\n",
       "      <td>3.29</td>\n",
       "    </tr>\n",
       "    <tr>\n",
       "      <th>2</th>\n",
       "      <td>12.06</td>\n",
       "      <td>12.21</td>\n",
       "      <td>11.58</td>\n",
       "      <td>12.73</td>\n",
       "      <td>12.97</td>\n",
       "      <td>12.53</td>\n",
       "      <td>13.56</td>\n",
       "      <td>13.96</td>\n",
       "      <td>12.36</td>\n",
       "      <td>13.21</td>\n",
       "      <td>7.18</td>\n",
       "      <td>7.77</td>\n",
       "      <td>8.64</td>\n",
       "      <td>6.72</td>\n",
       "      <td>9.20</td>\n",
       "      <td>7.56</td>\n",
       "      <td>7.50</td>\n",
       "      <td>9.28</td>\n",
       "      <td>9.85</td>\n",
       "      <td>8.44</td>\n",
       "      <td>5.47</td>\n",
       "      <td>4.34</td>\n",
       "      <td>4.92</td>\n",
       "      <td>5.03</td>\n",
       "      <td>0.00</td>\n",
       "      <td>3.38</td>\n",
       "      <td>4.63</td>\n",
       "      <td>5.36</td>\n",
       "      <td>5.39</td>\n",
       "      <td>5.91</td>\n",
       "    </tr>\n",
       "    <tr>\n",
       "      <th>2</th>\n",
       "      <td>11.19</td>\n",
       "      <td>10.99</td>\n",
       "      <td>11.24</td>\n",
       "      <td>12.35</td>\n",
       "      <td>12.11</td>\n",
       "      <td>11.45</td>\n",
       "      <td>12.94</td>\n",
       "      <td>13.22</td>\n",
       "      <td>11.59</td>\n",
       "      <td>12.35</td>\n",
       "      <td>7.83</td>\n",
       "      <td>7.90</td>\n",
       "      <td>8.68</td>\n",
       "      <td>7.52</td>\n",
       "      <td>9.26</td>\n",
       "      <td>7.01</td>\n",
       "      <td>7.61</td>\n",
       "      <td>8.88</td>\n",
       "      <td>9.83</td>\n",
       "      <td>7.87</td>\n",
       "      <td>5.92</td>\n",
       "      <td>3.38</td>\n",
       "      <td>5.16</td>\n",
       "      <td>4.86</td>\n",
       "      <td>3.38</td>\n",
       "      <td>0.00</td>\n",
       "      <td>4.31</td>\n",
       "      <td>5.68</td>\n",
       "      <td>5.90</td>\n",
       "      <td>5.91</td>\n",
       "    </tr>\n",
       "    <tr>\n",
       "      <th>2</th>\n",
       "      <td>11.47</td>\n",
       "      <td>11.46</td>\n",
       "      <td>10.94</td>\n",
       "      <td>12.22</td>\n",
       "      <td>12.41</td>\n",
       "      <td>11.72</td>\n",
       "      <td>13.29</td>\n",
       "      <td>13.32</td>\n",
       "      <td>12.09</td>\n",
       "      <td>12.67</td>\n",
       "      <td>7.02</td>\n",
       "      <td>6.93</td>\n",
       "      <td>8.26</td>\n",
       "      <td>6.91</td>\n",
       "      <td>7.82</td>\n",
       "      <td>6.97</td>\n",
       "      <td>6.41</td>\n",
       "      <td>8.04</td>\n",
       "      <td>9.01</td>\n",
       "      <td>7.52</td>\n",
       "      <td>3.45</td>\n",
       "      <td>5.72</td>\n",
       "      <td>3.14</td>\n",
       "      <td>2.68</td>\n",
       "      <td>4.63</td>\n",
       "      <td>4.31</td>\n",
       "      <td>0.00</td>\n",
       "      <td>2.61</td>\n",
       "      <td>3.05</td>\n",
       "      <td>3.38</td>\n",
       "    </tr>\n",
       "    <tr>\n",
       "      <th>2</th>\n",
       "      <td>12.24</td>\n",
       "      <td>12.24</td>\n",
       "      <td>12.08</td>\n",
       "      <td>12.96</td>\n",
       "      <td>13.38</td>\n",
       "      <td>12.54</td>\n",
       "      <td>13.90</td>\n",
       "      <td>14.16</td>\n",
       "      <td>13.04</td>\n",
       "      <td>13.41</td>\n",
       "      <td>7.78</td>\n",
       "      <td>7.48</td>\n",
       "      <td>9.22</td>\n",
       "      <td>7.48</td>\n",
       "      <td>8.35</td>\n",
       "      <td>8.12</td>\n",
       "      <td>6.97</td>\n",
       "      <td>8.99</td>\n",
       "      <td>9.86</td>\n",
       "      <td>8.41</td>\n",
       "      <td>2.33</td>\n",
       "      <td>6.77</td>\n",
       "      <td>3.05</td>\n",
       "      <td>2.69</td>\n",
       "      <td>5.36</td>\n",
       "      <td>5.68</td>\n",
       "      <td>2.61</td>\n",
       "      <td>0.00</td>\n",
       "      <td>1.44</td>\n",
       "      <td>2.07</td>\n",
       "    </tr>\n",
       "    <tr>\n",
       "      <th>2</th>\n",
       "      <td>12.36</td>\n",
       "      <td>12.30</td>\n",
       "      <td>11.94</td>\n",
       "      <td>12.97</td>\n",
       "      <td>13.49</td>\n",
       "      <td>12.69</td>\n",
       "      <td>13.91</td>\n",
       "      <td>14.22</td>\n",
       "      <td>13.18</td>\n",
       "      <td>13.49</td>\n",
       "      <td>8.11</td>\n",
       "      <td>7.98</td>\n",
       "      <td>9.49</td>\n",
       "      <td>7.72</td>\n",
       "      <td>8.80</td>\n",
       "      <td>8.57</td>\n",
       "      <td>7.46</td>\n",
       "      <td>9.38</td>\n",
       "      <td>10.28</td>\n",
       "      <td>8.76</td>\n",
       "      <td>2.03</td>\n",
       "      <td>6.83</td>\n",
       "      <td>2.87</td>\n",
       "      <td>3.00</td>\n",
       "      <td>5.39</td>\n",
       "      <td>5.90</td>\n",
       "      <td>3.05</td>\n",
       "      <td>1.44</td>\n",
       "      <td>0.00</td>\n",
       "      <td>2.17</td>\n",
       "    </tr>\n",
       "    <tr>\n",
       "      <th>2</th>\n",
       "      <td>12.05</td>\n",
       "      <td>11.88</td>\n",
       "      <td>12.08</td>\n",
       "      <td>13.07</td>\n",
       "      <td>13.30</td>\n",
       "      <td>12.46</td>\n",
       "      <td>13.76</td>\n",
       "      <td>14.00</td>\n",
       "      <td>13.08</td>\n",
       "      <td>13.18</td>\n",
       "      <td>8.11</td>\n",
       "      <td>8.09</td>\n",
       "      <td>9.31</td>\n",
       "      <td>7.84</td>\n",
       "      <td>8.65</td>\n",
       "      <td>8.47</td>\n",
       "      <td>7.36</td>\n",
       "      <td>9.35</td>\n",
       "      <td>10.18</td>\n",
       "      <td>8.16</td>\n",
       "      <td>1.95</td>\n",
       "      <td>6.93</td>\n",
       "      <td>3.23</td>\n",
       "      <td>3.29</td>\n",
       "      <td>5.91</td>\n",
       "      <td>5.91</td>\n",
       "      <td>3.38</td>\n",
       "      <td>2.07</td>\n",
       "      <td>2.17</td>\n",
       "      <td>0.00</td>\n",
       "    </tr>\n",
       "  </tbody>\n",
       "</table>\n",
       "</div>"
      ],
      "text/plain": [
       "       0      0      0      0      0      0      0      0      0      0  \\\n",
       "0   0.00   4.75   7.37   5.81   4.14   4.28   4.95   5.70   4.79   4.61   \n",
       "0   4.75   0.00   7.44   7.01   5.47   5.18   6.13   5.45   6.33   6.18   \n",
       "0   7.37   7.44   0.00   5.70   6.36   8.79   8.97   6.02   7.38   9.46   \n",
       "0   5.81   7.01   5.70   0.00   6.22   6.98   6.09   6.10   4.84   7.53   \n",
       "0   4.14   5.47   6.36   6.22   0.00   6.02   7.32   3.98   5.39   7.25   \n",
       "0   4.28   5.18   8.79   6.98   6.02   0.00   5.50   7.08   4.90   4.63   \n",
       "0   4.95   6.13   8.97   6.09   7.32   5.50   0.00   7.69   5.73   3.54   \n",
       "0   5.70   5.45   6.02   6.10   3.98   7.08   7.69   0.00   5.88   7.77   \n",
       "0   4.79   6.33   7.38   4.84   5.39   4.90   5.73   5.88   0.00   5.70   \n",
       "0   4.61   6.18   9.46   7.53   7.25   4.63   3.54   7.77   5.70   0.00   \n",
       "1   9.78  10.77   9.43   9.72  10.23  10.77  11.69  11.37   9.86  11.31   \n",
       "1   9.14  10.22   9.56   9.42   9.85   9.58  11.11  10.92   9.00  10.46   \n",
       "1   8.09   9.24   8.02   8.11   8.28   9.33  10.36   9.56   8.13  10.08   \n",
       "1   9.30  10.36   9.02   8.95  10.10  10.40  10.85  11.14   9.33  10.84   \n",
       "1  11.67  12.07  11.27  11.67  11.84  11.96  13.70  12.59  11.37  12.80   \n",
       "1   8.38   9.43   9.09   9.35   8.96   8.67  10.65  10.37   8.33   9.70   \n",
       "1   9.44  10.25   9.58   9.60   9.99   9.89  11.47  11.02   9.35  10.84   \n",
       "1   7.66   9.12   8.48   8.38   8.16   7.92  10.15   9.55   7.57   9.32   \n",
       "1  10.72  11.55  10.46  10.74  10.75  11.15  12.82  11.70  10.35  11.90   \n",
       "1   8.53   9.27  10.02  10.35   9.49   8.50  10.82  10.74   9.18   9.51   \n",
       "2  11.47  11.45  11.16  12.24  12.64  12.13  13.14  13.26  12.45  12.73   \n",
       "2  13.27  12.83  12.92  14.15  14.27  13.24  14.68  15.19  13.53  14.16   \n",
       "2  10.96  10.84  10.46  11.68  11.92  11.36  12.72  12.71  11.76  12.36   \n",
       "2  12.95  12.58  12.57  13.78  14.01  13.05  14.57  14.69  13.58  13.98   \n",
       "2  12.06  12.21  11.58  12.73  12.97  12.53  13.56  13.96  12.36  13.21   \n",
       "2  11.19  10.99  11.24  12.35  12.11  11.45  12.94  13.22  11.59  12.35   \n",
       "2  11.47  11.46  10.94  12.22  12.41  11.72  13.29  13.32  12.09  12.67   \n",
       "2  12.24  12.24  12.08  12.96  13.38  12.54  13.90  14.16  13.04  13.41   \n",
       "2  12.36  12.30  11.94  12.97  13.49  12.69  13.91  14.22  13.18  13.49   \n",
       "2  12.05  11.88  12.08  13.07  13.30  12.46  13.76  14.00  13.08  13.18   \n",
       "\n",
       "       1      1      1      1      1      1      1      1      1      1  \\\n",
       "0   9.78   9.14   8.09   9.30  11.67   8.38   9.44   7.66  10.72   8.53   \n",
       "0  10.77  10.22   9.24  10.36  12.07   9.43  10.25   9.12  11.55   9.27   \n",
       "0   9.43   9.56   8.02   9.02  11.27   9.09   9.58   8.48  10.46  10.02   \n",
       "0   9.72   9.42   8.11   8.95  11.67   9.35   9.60   8.38  10.74  10.35   \n",
       "0  10.23   9.85   8.28  10.10  11.84   8.96   9.99   8.16  10.75   9.49   \n",
       "0  10.77   9.58   9.33  10.40  11.96   8.67   9.89   7.92  11.15   8.50   \n",
       "0  11.69  11.11  10.36  10.85  13.70  10.65  11.47  10.15  12.82  10.82   \n",
       "0  11.37  10.92   9.56  11.14  12.59  10.37  11.02   9.55  11.70  10.74   \n",
       "0   9.86   9.00   8.13   9.33  11.37   8.33   9.35   7.57  10.35   9.18   \n",
       "0  11.31  10.46  10.08  10.84  12.80   9.70  10.84   9.32  11.90   9.51   \n",
       "1   0.00   4.73   3.17   2.88   5.18   5.17   3.66   5.71   4.99   5.87   \n",
       "1   4.73   0.00   5.69   4.96   5.19   2.98   2.51   3.64   4.72   6.01   \n",
       "1   3.17   5.69   0.00   3.67   6.67   5.53   4.88   5.26   6.10   5.87   \n",
       "1   2.88   4.96   3.67   0.00   7.07   5.67   4.44   6.18   6.96   6.91   \n",
       "1   5.18   5.19   6.67   7.07   0.00   5.81   3.82   6.19   3.05   6.24   \n",
       "1   5.17   2.98   5.53   5.67   5.81   0.00   3.48   3.20   4.81   4.76   \n",
       "1   3.66   2.51   4.88   4.44   3.82   3.48   0.00   4.07   4.03   5.14   \n",
       "1   5.71   3.64   5.26   6.18   6.19   3.20   4.07   0.00   5.27   5.13   \n",
       "1   4.99   4.72   6.10   6.96   3.05   4.81   4.03   5.27   0.00   6.14   \n",
       "1   5.87   6.01   5.87   6.91   6.24   4.76   5.14   5.13   6.14   0.00   \n",
       "2   7.53   7.53   8.72   7.02   8.48   8.10   6.94   8.91   9.85   8.21   \n",
       "2   9.74   9.95  10.79   9.50  10.92   9.10   9.63  10.96  11.60   9.58   \n",
       "2   7.38   7.21   8.42   6.96   8.48   7.51   6.80   8.38   9.59   7.89   \n",
       "2   8.89   8.46  10.23   8.63   9.26   8.64   8.04   9.87  10.67   9.10   \n",
       "2   7.18   7.77   8.64   6.72   9.20   7.56   7.50   9.28   9.85   8.44   \n",
       "2   7.83   7.90   8.68   7.52   9.26   7.01   7.61   8.88   9.83   7.87   \n",
       "2   7.02   6.93   8.26   6.91   7.82   6.97   6.41   8.04   9.01   7.52   \n",
       "2   7.78   7.48   9.22   7.48   8.35   8.12   6.97   8.99   9.86   8.41   \n",
       "2   8.11   7.98   9.49   7.72   8.80   8.57   7.46   9.38  10.28   8.76   \n",
       "2   8.11   8.09   9.31   7.84   8.65   8.47   7.36   9.35  10.18   8.16   \n",
       "\n",
       "       2      2      2      2      2      2      2      2      2      2  \n",
       "0  11.47  13.27  10.96  12.95  12.06  11.19  11.47  12.24  12.36  12.05  \n",
       "0  11.45  12.83  10.84  12.58  12.21  10.99  11.46  12.24  12.30  11.88  \n",
       "0  11.16  12.92  10.46  12.57  11.58  11.24  10.94  12.08  11.94  12.08  \n",
       "0  12.24  14.15  11.68  13.78  12.73  12.35  12.22  12.96  12.97  13.07  \n",
       "0  12.64  14.27  11.92  14.01  12.97  12.11  12.41  13.38  13.49  13.30  \n",
       "0  12.13  13.24  11.36  13.05  12.53  11.45  11.72  12.54  12.69  12.46  \n",
       "0  13.14  14.68  12.72  14.57  13.56  12.94  13.29  13.90  13.91  13.76  \n",
       "0  13.26  15.19  12.71  14.69  13.96  13.22  13.32  14.16  14.22  14.00  \n",
       "0  12.45  13.53  11.76  13.58  12.36  11.59  12.09  13.04  13.18  13.08  \n",
       "0  12.73  14.16  12.36  13.98  13.21  12.35  12.67  13.41  13.49  13.18  \n",
       "1   7.53   9.74   7.38   8.89   7.18   7.83   7.02   7.78   8.11   8.11  \n",
       "1   7.53   9.95   7.21   8.46   7.77   7.90   6.93   7.48   7.98   8.09  \n",
       "1   8.72  10.79   8.42  10.23   8.64   8.68   8.26   9.22   9.49   9.31  \n",
       "1   7.02   9.50   6.96   8.63   6.72   7.52   6.91   7.48   7.72   7.84  \n",
       "1   8.48  10.92   8.48   9.26   9.20   9.26   7.82   8.35   8.80   8.65  \n",
       "1   8.10   9.10   7.51   8.64   7.56   7.01   6.97   8.12   8.57   8.47  \n",
       "1   6.94   9.63   6.80   8.04   7.50   7.61   6.41   6.97   7.46   7.36  \n",
       "1   8.91  10.96   8.38   9.87   9.28   8.88   8.04   8.99   9.38   9.35  \n",
       "1   9.85  11.60   9.59  10.67   9.85   9.83   9.01   9.86  10.28  10.18  \n",
       "1   8.21   9.58   7.89   9.10   8.44   7.87   7.52   8.41   8.76   8.16  \n",
       "2   0.00   7.22   2.74   3.69   5.47   5.92   3.45   2.33   2.03   1.95  \n",
       "2   7.22   0.00   6.43   5.38   4.34   3.38   5.72   6.77   6.83   6.93  \n",
       "2   2.74   6.43   0.00   3.63   4.92   5.16   3.14   3.05   2.87   3.23  \n",
       "2   3.69   5.38   3.63   0.00   5.03   4.86   2.68   2.69   3.00   3.29  \n",
       "2   5.47   4.34   4.92   5.03   0.00   3.38   4.63   5.36   5.39   5.91  \n",
       "2   5.92   3.38   5.16   4.86   3.38   0.00   4.31   5.68   5.90   5.91  \n",
       "2   3.45   5.72   3.14   2.68   4.63   4.31   0.00   2.61   3.05   3.38  \n",
       "2   2.33   6.77   3.05   2.69   5.36   5.68   2.61   0.00   1.44   2.07  \n",
       "2   2.03   6.83   2.87   3.00   5.39   5.90   3.05   1.44   0.00   2.17  \n",
       "2   1.95   6.93   3.23   3.29   5.91   5.91   3.38   2.07   2.17   0.00  "
      ]
     },
     "execution_count": 227,
     "metadata": {},
     "output_type": "execute_result"
    }
   ],
   "source": [
    "import pandas\n",
    "\n",
    "matrix = [ [ \"-1\" ] * len(test_labels) for i in range(len(test_labels)) ]\n",
    "for i, (emb1, label1) in enumerate(zip(test_embeddings, test_labels)):\n",
    "    for j, (emb2, label2) in enumerate(zip(test_embeddings, test_labels)):\n",
    "        euc_dist = torch.nn.functional.pairwise_distance(emb1, emb2).item()\n",
    "        matrix[i][j] = \"{0:.2f}\".format(euc_dist)\n",
    "\n",
    "pandas.options.display.max_columns = 30\n",
    "df = pandas.DataFrame(matrix, columns = test_labels.tolist())\n",
    "df.index = test_labels.tolist()\n",
    "df"
   ]
  },
  {
   "cell_type": "code",
   "execution_count": 228,
   "metadata": {},
   "outputs": [
    {
     "data": {
      "text/plain": [
       "[<matplotlib.lines.Line2D at 0x23726fd0d30>]"
      ]
     },
     "execution_count": 228,
     "metadata": {},
     "output_type": "execute_result"
    },
    {
     "data": {
      "image/png": "[encoded data removed]",
      "text/plain": [
       "<Figure size 1000x200 with 1 Axes>"
      ]
     },
     "metadata": {},
     "output_type": "display_data"
    }
   ],
   "source": [
    "\n",
    "correct_dists = [ ]\n",
    "incorrect_dists = [ ]\n",
    "for i, (emb1, label1) in enumerate(zip(test_embeddings, test_labels)):\n",
    "    for j, (emb2, label2) in enumerate(zip(test_embeddings, test_labels)):\n",
    "        euc_dist = torch.nn.functional.pairwise_distance(emb1, emb2).item()\n",
    "        if label1 == label2: correct_dists.append(euc_dist)\n",
    "        else: incorrect_dists.append(euc_dist)\n",
    "\n",
    "plt.figure(figsize = (10, 2))\n",
    "plt.ylim(-1, 2)\n",
    "plt.plot(correct_dists, numpy.zeros_like(correct_dists), 'x')\n",
    "plt.plot(incorrect_dists, numpy.ones_like(incorrect_dists), 'x')"
   ]
  },
  {
   "cell_type": "code",
   "execution_count": 229,
   "metadata": {},
   "outputs": [
    {
     "data": {
      "text/plain": [
       "[<matplotlib.lines.Line2D at 0x23726add0f0>]"
      ]
     },
     "execution_count": 229,
     "metadata": {},
     "output_type": "execute_result"
    },
    {
     "data": {
      "image/png": "[encoded data removed]",
      "text/plain": [
       "<Figure size 1000x200 with 1 Axes>"
      ]
     },
     "metadata": {},
     "output_type": "display_data"
    }
   ],
   "source": [
    "correct_dists = [ ]\n",
    "incorrect_dists = [ ]\n",
    "for i, (emb1, label1) in enumerate(zip(test_embeddings, test_labels)):\n",
    "    for j, (emb2, label2) in enumerate(zip(test_embeddings, test_labels)):\n",
    "        cos_dist = torch.nn.functional.cosine_similarity(emb1, emb2, dim = 0).item()\n",
    "        if label1 == label2: correct_dists.append(cos_dist)\n",
    "        else: incorrect_dists.append(cos_dist)\n",
    "\n",
    "plt.figure(figsize = (10, 2))\n",
    "plt.ylim(-1, 2)\n",
    "plt.plot(correct_dists, numpy.zeros_like(correct_dists), 'x')\n",
    "plt.plot(incorrect_dists, numpy.ones_like(incorrect_dists), 'x')"
   ]
  }
 ],
 "metadata": {
  "kernelspec": {
   "display_name": "Python 3",
   "language": "python",
   "name": "python3"
  },
  "language_info": {
   "codemirror_mode": {
    "name": "ipython",
    "version": 3
   },
   "file_extension": ".py",
   "mimetype": "text/x-python",
   "name": "python",
   "nbconvert_exporter": "python",
   "pygments_lexer": "ipython3",
   "version": "3.10.11"
  }
 },
 "nbformat": 4,
 "nbformat_minor": 2
}
