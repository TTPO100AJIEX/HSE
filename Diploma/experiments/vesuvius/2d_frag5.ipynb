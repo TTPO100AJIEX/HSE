{
 "cells": [
  {
   "cell_type": "code",
   "execution_count": 1,
   "id": "c285d98d",
   "metadata": {},
   "outputs": [],
   "source": [
    "PREFIX = './fragments/Frag5/'"
   ]
  },
  {
   "cell_type": "code",
   "execution_count": 2,
   "id": "0ea917e5",
   "metadata": {},
   "outputs": [
    {
     "name": "stdout",
     "output_type": "stream",
     "text": [
      "0.13725490196078433 1.0 (7309, 4560, 4)\n",
      "0 255 (7309, 4560)\n",
      "0 1 (7309, 4560)\n"
     ]
    }
   ],
   "source": [
    "import numpy\n",
    "import PIL.Image\n",
    "\n",
    "image = numpy.array(PIL.Image.open(f\"{PREFIX}/ir.png\")) / 255\n",
    "print(image.min(), image.max(), image.shape)\n",
    "\n",
    "mask = numpy.array(PIL.Image.open(f\"{PREFIX}/mask.png\"))\n",
    "print(mask.min(), mask.max(), mask.shape)\n",
    "\n",
    "target = numpy.array(PIL.Image.open(f\"{PREFIX}/inklabels.png\"))\n",
    "print(target.min(), target.max(), target.shape)"
   ]
  },
  {
   "cell_type": "code",
   "execution_count": 3,
   "id": "af7f1fd9",
   "metadata": {},
   "outputs": [
    {
     "data": {
      "text/plain": [
       "<matplotlib.patches.Rectangle at 0x26dfe113a90>"
      ]
     },
     "execution_count": 3,
     "metadata": {},
     "output_type": "execute_result"
    },
    {
     "data": {
      "image/png": "[encoded data removed]",
      "text/plain": [
       "<Figure size 640x480 with 1 Axes>"
      ]
     },
     "metadata": {},
     "output_type": "display_data"
    }
   ],
   "source": [
    "import matplotlib.pyplot as plt\n",
    "import matplotlib.patches as patches\n",
    "\n",
    "VAL_X = (928, 2208)\n",
    "VAL_Y = (5616, 7056)\n",
    "\n",
    "plt.imshow(target)\n",
    "plt.gca().add_patch(\n",
    "    patches.Rectangle(\n",
    "        (VAL_X[0], VAL_Y[0]),\n",
    "        VAL_X[1] - VAL_X[0],\n",
    "        VAL_Y[1] - VAL_Y[0],\n",
    "        linewidth = 2,\n",
    "        edgecolor = 'r',\n",
    "        facecolor = 'none'\n",
    "    )\n",
    ")"
   ]
  },
  {
   "cell_type": "code",
   "execution_count": 4,
   "id": "e0d0155a",
   "metadata": {},
   "outputs": [
    {
     "name": "stdout",
     "output_type": "stream",
     "text": [
      "(4992, 128, 128, 4) (4992, 128, 128) (460, 128, 128, 4) (460, 128, 128)\n"
     ]
    }
   ],
   "source": [
    "WINDOW = 128\n",
    "HALF = (WINDOW // 2)\n",
    "PADDING = (WINDOW // 4)\n",
    "\n",
    "train_images, train_labels, train_idxs = [], [], []\n",
    "test_images, test_labels, test_idxs = [], [], []\n",
    "for i in range(image.shape[0] - WINDOW):\n",
    "    if i % HALF != 0:\n",
    "        continue\n",
    "    for j in range(image.shape[1] - WINDOW):\n",
    "        if j % HALF != 0:\n",
    "            continue\n",
    "        if mask[i][j] == 0:\n",
    "            continue\n",
    "\n",
    "        img = image[i:i + WINDOW, j:j + WINDOW]\n",
    "        label = target[i:i + WINDOW, j:j + WINDOW]\n",
    "\n",
    "        if (i > VAL_Y[0]) and (i < VAL_Y[1]) and (j > VAL_X[0]) and (j < VAL_X[1]):\n",
    "            test_images.append(img)\n",
    "            test_labels.append(label)\n",
    "            test_idxs.append((i, j))\n",
    "        else:\n",
    "            train_images.append(img)\n",
    "            train_labels.append(label)\n",
    "            train_idxs.append((i, j))\n",
    "\n",
    "train_images = numpy.stack(train_images)\n",
    "train_labels = numpy.stack(train_labels)\n",
    "test_images = numpy.stack(test_images)\n",
    "test_labels = numpy.stack(test_labels)\n",
    "\n",
    "print(train_images.shape, train_labels.shape, test_images.shape, test_labels.shape)"
   ]
  },
  {
   "cell_type": "code",
   "execution_count": null,
   "id": "1edfcf77",
   "metadata": {},
   "outputs": [],
   "source": [
    "import torchvision.tv_tensors\n",
    "import torchvision.transforms.v2\n",
    "\n",
    "RESIZE_FACTOR = 2\n",
    "\n",
    "WINDOW = WINDOW // RESIZE_FACTOR\n",
    "HALF = (WINDOW // 2)\n",
    "PADDING = (WINDOW // 4)\n",
    "\n",
    "transform = torchvision.transforms.v2.Resize((WINDOW, WINDOW))\n",
    "\n",
    "def resize(images, labels, idxs):\n",
    "    images = torchvision.tv_tensors.Image(images)\n",
    "    labels = torchvision.tv_tensors.Mask(labels)\n",
    "    images, labels = transform(images, labels)\n",
    "    idxs = [(i // RESIZE_FACTOR, j // RESIZE_FACTOR) for (i, j) in idxs]\n",
    "    return images.numpy(), labels.numpy(), idxs\n",
    "\n",
    "train_images, train_labels, train_idxs = resize(train_images, train_labels, train_idxs)\n",
    "test_images, test_labels, test_idxs = resize(test_images, test_labels, test_idxs)\n",
    "\n",
    "print(train_images.shape, train_labels.shape, test_images.shape, test_labels.shape)"
   ]
  },
  {
   "cell_type": "code",
   "execution_count": null,
   "id": "51260696",
   "metadata": {},
   "outputs": [
    {
     "name": "stdout",
     "output_type": "stream",
     "text": [
      "Calculating inverted images\n",
      "GreyscaleExtractor: processing ./fragments/Frag4//train/greyscale, do_fit = True\n",
      "Saving the result to ././fragments/Frag4//train/greyscale/diagrams.npy\n",
      "Applying Scaler to persistence diagrams.\n",
      "DiagramVectorizer: fitting complete\n"
     ]
    },
    {
     "name": "stderr",
     "output_type": "stream",
     "text": [
      "DiagramVectorizer: batch:   0%|          | 0/20 [00:00<?, ?it/s]d:\\Programs\\Programming\\Python\\lib\\site-packages\\joblib\\externals\\loky\\process_executor.py:752: UserWarning: A worker stopped while some jobs were given to the executor. This can be caused by a too short worker timeout or by a memory leak.\n",
      "  warnings.warn(\n",
      "DiagramVectorizer: batch: 100%|██████████| 20/20 [00:12<00:00,  1.55it/s]\n"
     ]
    },
    {
     "name": "stdout",
     "output_type": "stream",
     "text": [
      "Saving the result to ././fragments/Frag4//train/greyscale/features.npy\n",
      "GreyscaleExtractor: processing ./fragments/Frag4//train/greyscale, do_fit = False\n",
      "Got the result from ././fragments/Frag4//train/greyscale/diagrams.npy\n",
      "Applying Scaler to persistence diagrams.\n",
      "Got the result from ././fragments/Frag4//train/greyscale/features.npy\n",
      "GreyscaleExtractor: processing ./fragments/Frag4//train/inverted_greyscale, do_fit = True\n",
      "Saving the result to ././fragments/Frag4//train/inverted_greyscale/diagrams.npy\n",
      "Applying Scaler to persistence diagrams.\n",
      "DiagramVectorizer: fitting complete\n"
     ]
    },
    {
     "name": "stderr",
     "output_type": "stream",
     "text": [
      "DiagramVectorizer: batch: 100%|██████████| 20/20 [00:04<00:00,  4.14it/s]\n"
     ]
    },
    {
     "name": "stdout",
     "output_type": "stream",
     "text": [
      "Saving the result to ././fragments/Frag4//train/inverted_greyscale/features.npy\n",
      "GreyscaleExtractor: processing ./fragments/Frag4//train/inverted_greyscale, do_fit = False\n",
      "Got the result from ././fragments/Frag4//train/inverted_greyscale/diagrams.npy\n",
      "Applying Scaler to persistence diagrams.\n",
      "Got the result from ././fragments/Frag4//train/inverted_greyscale/features.npy\n",
      "Fitting filtrations\n",
      "Calculated radial centers for images of size 64x64: [12 25 38 51]x[12 25 38 51]\n",
      "Fitting filtration 1/72: 2/HeightFiltrartion_-1_-1\n",
      "FiltrationExtractor: processing ./fragments/Frag4//train/filtrations/2/HeightFiltrartion_-1_-1, do_fit = True, filtration = HeightFiltration(direction=array([-1, -1]), n_jobs=-1)\n"
     ]
    },
    {
     "name": "stderr",
     "output_type": "stream",
     "text": [
      "d:\\Programs\\Programming\\Python\\lib\\site-packages\\joblib\\externals\\loky\\process_executor.py:752: UserWarning: A worker stopped while some jobs were given to the executor. This can be caused by a too short worker timeout or by a memory leak.\n",
      "  warnings.warn(\n",
      "d:\\Programs\\Programming\\Python\\lib\\site-packages\\gtda\\diagrams\\preprocessing.py:295: RuntimeWarning: invalid value encountered in divide\n",
      "  Xs[:, :, :2] /= self.scale_\n"
     ]
    },
    {
     "name": "stdout",
     "output_type": "stream",
     "text": [
      "Saving the result to ././fragments/Frag4//train/filtrations/2/HeightFiltrartion_-1_-1/diagrams.npy\n",
      "Applying Scaler to persistence diagrams.\n",
      "DiagramVectorizer: fitting complete\n"
     ]
    },
    {
     "name": "stderr",
     "output_type": "stream",
     "text": [
      "DiagramVectorizer: batch: 100%|██████████| 20/20 [00:03<00:00,  5.89it/s]\n"
     ]
    },
    {
     "name": "stdout",
     "output_type": "stream",
     "text": [
      "Saving the result to ././fragments/Frag4//train/filtrations/2/HeightFiltrartion_-1_-1/features.npy\n",
      "Fitting filtration 2/72: 2/HeightFiltrartion_1_1\n",
      "FiltrationExtractor: processing ./fragments/Frag4//train/filtrations/2/HeightFiltrartion_1_1, do_fit = True, filtration = HeightFiltration(direction=array([1, 1]), n_jobs=-1)\n"
     ]
    },
    {
     "name": "stderr",
     "output_type": "stream",
     "text": [
      "d:\\Programs\\Programming\\Python\\lib\\site-packages\\joblib\\externals\\loky\\process_executor.py:752: UserWarning: A worker stopped while some jobs were given to the executor. This can be caused by a too short worker timeout or by a memory leak.\n",
      "  warnings.warn(\n",
      "d:\\Programs\\Programming\\Python\\lib\\site-packages\\gtda\\diagrams\\preprocessing.py:295: RuntimeWarning: invalid value encountered in divide\n",
      "  Xs[:, :, :2] /= self.scale_\n"
     ]
    },
    {
     "name": "stdout",
     "output_type": "stream",
     "text": [
      "Saving the result to ././fragments/Frag4//train/filtrations/2/HeightFiltrartion_1_1/diagrams.npy\n",
      "Applying Scaler to persistence diagrams.\n",
      "DiagramVectorizer: fitting complete\n"
     ]
    },
    {
     "name": "stderr",
     "output_type": "stream",
     "text": [
      "DiagramVectorizer: batch: 100%|██████████| 20/20 [00:04<00:00,  4.20it/s]\n"
     ]
    },
    {
     "name": "stdout",
     "output_type": "stream",
     "text": [
      "Saving the result to ././fragments/Frag4//train/filtrations/2/HeightFiltrartion_1_1/features.npy\n",
      "Fitting filtration 3/72: 2/HeightFiltrartion_1_-1\n",
      "FiltrationExtractor: processing ./fragments/Frag4//train/filtrations/2/HeightFiltrartion_1_-1, do_fit = True, filtration = HeightFiltration(direction=array([ 1, -1]), n_jobs=-1)\n"
     ]
    },
    {
     "name": "stderr",
     "output_type": "stream",
     "text": [
      "d:\\Programs\\Programming\\Python\\lib\\site-packages\\joblib\\externals\\loky\\process_executor.py:752: UserWarning: A worker stopped while some jobs were given to the executor. This can be caused by a too short worker timeout or by a memory leak.\n",
      "  warnings.warn(\n",
      "d:\\Programs\\Programming\\Python\\lib\\site-packages\\gtda\\diagrams\\preprocessing.py:295: RuntimeWarning: invalid value encountered in divide\n",
      "  Xs[:, :, :2] /= self.scale_\n"
     ]
    },
    {
     "name": "stdout",
     "output_type": "stream",
     "text": [
      "Saving the result to ././fragments/Frag4//train/filtrations/2/HeightFiltrartion_1_-1/diagrams.npy\n",
      "Applying Scaler to persistence diagrams.\n",
      "DiagramVectorizer: fitting complete\n"
     ]
    },
    {
     "name": "stderr",
     "output_type": "stream",
     "text": [
      "DiagramVectorizer: batch: 100%|██████████| 20/20 [00:03<00:00,  5.26it/s]\n"
     ]
    },
    {
     "name": "stdout",
     "output_type": "stream",
     "text": [
      "Saving the result to ././fragments/Frag4//train/filtrations/2/HeightFiltrartion_1_-1/features.npy\n",
      "Fitting filtration 4/72: 2/HeightFiltrartion_-1_1\n",
      "FiltrationExtractor: processing ./fragments/Frag4//train/filtrations/2/HeightFiltrartion_-1_1, do_fit = True, filtration = HeightFiltration(direction=array([-1,  1]), n_jobs=-1)\n"
     ]
    },
    {
     "name": "stderr",
     "output_type": "stream",
     "text": [
      "d:\\Programs\\Programming\\Python\\lib\\site-packages\\joblib\\externals\\loky\\process_executor.py:752: UserWarning: A worker stopped while some jobs were given to the executor. This can be caused by a too short worker timeout or by a memory leak.\n",
      "  warnings.warn(\n",
      "d:\\Programs\\Programming\\Python\\lib\\site-packages\\gtda\\diagrams\\preprocessing.py:295: RuntimeWarning: invalid value encountered in divide\n",
      "  Xs[:, :, :2] /= self.scale_\n"
     ]
    },
    {
     "name": "stdout",
     "output_type": "stream",
     "text": [
      "Saving the result to ././fragments/Frag4//train/filtrations/2/HeightFiltrartion_-1_1/diagrams.npy\n",
      "Applying Scaler to persistence diagrams.\n",
      "DiagramVectorizer: fitting complete\n"
     ]
    },
    {
     "name": "stderr",
     "output_type": "stream",
     "text": [
      "DiagramVectorizer: batch: 100%|██████████| 20/20 [00:04<00:00,  4.98it/s]\n"
     ]
    },
    {
     "name": "stdout",
     "output_type": "stream",
     "text": [
      "Saving the result to ././fragments/Frag4//train/filtrations/2/HeightFiltrartion_-1_1/features.npy\n",
      "Fitting filtration 5/72: 2/HeightFiltrartion_0_-1\n",
      "FiltrationExtractor: processing ./fragments/Frag4//train/filtrations/2/HeightFiltrartion_0_-1, do_fit = True, filtration = HeightFiltration(direction=array([ 0, -1]), n_jobs=-1)\n"
     ]
    },
    {
     "name": "stderr",
     "output_type": "stream",
     "text": [
      "d:\\Programs\\Programming\\Python\\lib\\site-packages\\joblib\\externals\\loky\\process_executor.py:752: UserWarning: A worker stopped while some jobs were given to the executor. This can be caused by a too short worker timeout or by a memory leak.\n",
      "  warnings.warn(\n",
      "d:\\Programs\\Programming\\Python\\lib\\site-packages\\gtda\\diagrams\\preprocessing.py:295: RuntimeWarning: invalid value encountered in divide\n",
      "  Xs[:, :, :2] /= self.scale_\n"
     ]
    },
    {
     "name": "stdout",
     "output_type": "stream",
     "text": [
      "Saving the result to ././fragments/Frag4//train/filtrations/2/HeightFiltrartion_0_-1/diagrams.npy\n",
      "Applying Scaler to persistence diagrams.\n",
      "DiagramVectorizer: fitting complete\n"
     ]
    },
    {
     "name": "stderr",
     "output_type": "stream",
     "text": [
      "DiagramVectorizer: batch: 100%|██████████| 20/20 [00:03<00:00,  5.91it/s]\n"
     ]
    },
    {
     "name": "stdout",
     "output_type": "stream",
     "text": [
      "Saving the result to ././fragments/Frag4//train/filtrations/2/HeightFiltrartion_0_-1/features.npy\n",
      "Fitting filtration 6/72: 2/HeightFiltrartion_0_1\n",
      "FiltrationExtractor: processing ./fragments/Frag4//train/filtrations/2/HeightFiltrartion_0_1, do_fit = True, filtration = HeightFiltration(direction=array([0, 1]), n_jobs=-1)\n"
     ]
    },
    {
     "name": "stderr",
     "output_type": "stream",
     "text": [
      "d:\\Programs\\Programming\\Python\\lib\\site-packages\\joblib\\externals\\loky\\process_executor.py:752: UserWarning: A worker stopped while some jobs were given to the executor. This can be caused by a too short worker timeout or by a memory leak.\n",
      "  warnings.warn(\n",
      "d:\\Programs\\Programming\\Python\\lib\\site-packages\\gtda\\diagrams\\preprocessing.py:295: RuntimeWarning: invalid value encountered in divide\n",
      "  Xs[:, :, :2] /= self.scale_\n"
     ]
    },
    {
     "name": "stdout",
     "output_type": "stream",
     "text": [
      "Saving the result to ././fragments/Frag4//train/filtrations/2/HeightFiltrartion_0_1/diagrams.npy\n",
      "Applying Scaler to persistence diagrams.\n",
      "DiagramVectorizer: fitting complete\n"
     ]
    },
    {
     "name": "stderr",
     "output_type": "stream",
     "text": [
      "DiagramVectorizer: batch: 100%|██████████| 20/20 [00:03<00:00,  5.33it/s]\n"
     ]
    },
    {
     "name": "stdout",
     "output_type": "stream",
     "text": [
      "Saving the result to ././fragments/Frag4//train/filtrations/2/HeightFiltrartion_0_1/features.npy\n",
      "Fitting filtration 7/72: 2/HeightFiltrartion_-1_0\n",
      "FiltrationExtractor: processing ./fragments/Frag4//train/filtrations/2/HeightFiltrartion_-1_0, do_fit = True, filtration = HeightFiltration(direction=array([-1,  0]), n_jobs=-1)\n"
     ]
    },
    {
     "name": "stderr",
     "output_type": "stream",
     "text": [
      "d:\\Programs\\Programming\\Python\\lib\\site-packages\\joblib\\externals\\loky\\process_executor.py:752: UserWarning: A worker stopped while some jobs were given to the executor. This can be caused by a too short worker timeout or by a memory leak.\n",
      "  warnings.warn(\n",
      "d:\\Programs\\Programming\\Python\\lib\\site-packages\\gtda\\diagrams\\preprocessing.py:295: RuntimeWarning: invalid value encountered in divide\n",
      "  Xs[:, :, :2] /= self.scale_\n"
     ]
    },
    {
     "name": "stdout",
     "output_type": "stream",
     "text": [
      "Saving the result to ././fragments/Frag4//train/filtrations/2/HeightFiltrartion_-1_0/diagrams.npy\n",
      "Applying Scaler to persistence diagrams.\n",
      "DiagramVectorizer: fitting complete\n"
     ]
    },
    {
     "name": "stderr",
     "output_type": "stream",
     "text": [
      "DiagramVectorizer: batch: 100%|██████████| 20/20 [00:03<00:00,  5.93it/s]\n"
     ]
    },
    {
     "name": "stdout",
     "output_type": "stream",
     "text": [
      "Saving the result to ././fragments/Frag4//train/filtrations/2/HeightFiltrartion_-1_0/features.npy\n",
      "Fitting filtration 8/72: 2/HeightFiltrartion_1_0\n",
      "FiltrationExtractor: processing ./fragments/Frag4//train/filtrations/2/HeightFiltrartion_1_0, do_fit = True, filtration = HeightFiltration(direction=array([1, 0]), n_jobs=-1)\n"
     ]
    },
    {
     "name": "stderr",
     "output_type": "stream",
     "text": [
      "d:\\Programs\\Programming\\Python\\lib\\site-packages\\joblib\\externals\\loky\\process_executor.py:752: UserWarning: A worker stopped while some jobs were given to the executor. This can be caused by a too short worker timeout or by a memory leak.\n",
      "  warnings.warn(\n",
      "d:\\Programs\\Programming\\Python\\lib\\site-packages\\gtda\\diagrams\\preprocessing.py:295: RuntimeWarning: invalid value encountered in divide\n",
      "  Xs[:, :, :2] /= self.scale_\n"
     ]
    },
    {
     "name": "stdout",
     "output_type": "stream",
     "text": [
      "Saving the result to ././fragments/Frag4//train/filtrations/2/HeightFiltrartion_1_0/diagrams.npy\n",
      "Applying Scaler to persistence diagrams.\n",
      "DiagramVectorizer: fitting complete\n"
     ]
    },
    {
     "name": "stderr",
     "output_type": "stream",
     "text": [
      "DiagramVectorizer: batch: 100%|██████████| 20/20 [00:03<00:00,  5.41it/s]\n"
     ]
    },
    {
     "name": "stdout",
     "output_type": "stream",
     "text": [
      "Saving the result to ././fragments/Frag4//train/filtrations/2/HeightFiltrartion_1_0/features.npy\n",
      "Fitting filtration 9/72: 2/RadialFiltration_12_12\n",
      "FiltrationExtractor: processing ./fragments/Frag4//train/filtrations/2/RadialFiltration_12_12, do_fit = True, filtration = RadialFiltration(center=array([12, 12]), n_jobs=-1)\n"
     ]
    },
    {
     "name": "stderr",
     "output_type": "stream",
     "text": [
      "d:\\Programs\\Programming\\Python\\lib\\site-packages\\joblib\\externals\\loky\\process_executor.py:752: UserWarning: A worker stopped while some jobs were given to the executor. This can be caused by a too short worker timeout or by a memory leak.\n",
      "  warnings.warn(\n",
      "d:\\Programs\\Programming\\Python\\lib\\site-packages\\gtda\\diagrams\\preprocessing.py:295: RuntimeWarning: invalid value encountered in divide\n",
      "  Xs[:, :, :2] /= self.scale_\n"
     ]
    },
    {
     "name": "stdout",
     "output_type": "stream",
     "text": [
      "Saving the result to ././fragments/Frag4//train/filtrations/2/RadialFiltration_12_12/diagrams.npy\n",
      "Applying Scaler to persistence diagrams.\n",
      "DiagramVectorizer: fitting complete\n"
     ]
    },
    {
     "name": "stderr",
     "output_type": "stream",
     "text": [
      "DiagramVectorizer: batch: 100%|██████████| 20/20 [00:03<00:00,  5.92it/s]\n"
     ]
    },
    {
     "name": "stdout",
     "output_type": "stream",
     "text": [
      "Saving the result to ././fragments/Frag4//train/filtrations/2/RadialFiltration_12_12/features.npy\n",
      "Fitting filtration 10/72: 2/RadialFiltration_12_25\n",
      "FiltrationExtractor: processing ./fragments/Frag4//train/filtrations/2/RadialFiltration_12_25, do_fit = True, filtration = RadialFiltration(center=array([12, 25]), n_jobs=-1)\n"
     ]
    },
    {
     "name": "stderr",
     "output_type": "stream",
     "text": [
      "d:\\Programs\\Programming\\Python\\lib\\site-packages\\joblib\\externals\\loky\\process_executor.py:752: UserWarning: A worker stopped while some jobs were given to the executor. This can be caused by a too short worker timeout or by a memory leak.\n",
      "  warnings.warn(\n",
      "d:\\Programs\\Programming\\Python\\lib\\site-packages\\gtda\\diagrams\\preprocessing.py:295: RuntimeWarning: invalid value encountered in divide\n",
      "  Xs[:, :, :2] /= self.scale_\n"
     ]
    },
    {
     "name": "stdout",
     "output_type": "stream",
     "text": [
      "Saving the result to ././fragments/Frag4//train/filtrations/2/RadialFiltration_12_25/diagrams.npy\n",
      "Applying Scaler to persistence diagrams.\n",
      "DiagramVectorizer: fitting complete\n"
     ]
    },
    {
     "name": "stderr",
     "output_type": "stream",
     "text": [
      "DiagramVectorizer: batch: 100%|██████████| 20/20 [00:03<00:00,  5.30it/s]\n"
     ]
    },
    {
     "name": "stdout",
     "output_type": "stream",
     "text": [
      "Saving the result to ././fragments/Frag4//train/filtrations/2/RadialFiltration_12_25/features.npy\n",
      "Fitting filtration 11/72: 2/RadialFiltration_12_38\n",
      "FiltrationExtractor: processing ./fragments/Frag4//train/filtrations/2/RadialFiltration_12_38, do_fit = True, filtration = RadialFiltration(center=array([12, 38]), n_jobs=-1)\n"
     ]
    },
    {
     "name": "stderr",
     "output_type": "stream",
     "text": [
      "d:\\Programs\\Programming\\Python\\lib\\site-packages\\joblib\\externals\\loky\\process_executor.py:752: UserWarning: A worker stopped while some jobs were given to the executor. This can be caused by a too short worker timeout or by a memory leak.\n",
      "  warnings.warn(\n",
      "d:\\Programs\\Programming\\Python\\lib\\site-packages\\gtda\\diagrams\\preprocessing.py:295: RuntimeWarning: invalid value encountered in divide\n",
      "  Xs[:, :, :2] /= self.scale_\n"
     ]
    },
    {
     "name": "stdout",
     "output_type": "stream",
     "text": [
      "Saving the result to ././fragments/Frag4//train/filtrations/2/RadialFiltration_12_38/diagrams.npy\n",
      "Applying Scaler to persistence diagrams.\n",
      "DiagramVectorizer: fitting complete\n"
     ]
    },
    {
     "name": "stderr",
     "output_type": "stream",
     "text": [
      "DiagramVectorizer: batch: 100%|██████████| 20/20 [00:03<00:00,  5.99it/s]\n"
     ]
    },
    {
     "name": "stdout",
     "output_type": "stream",
     "text": [
      "Saving the result to ././fragments/Frag4//train/filtrations/2/RadialFiltration_12_38/features.npy\n",
      "Fitting filtration 12/72: 2/RadialFiltration_12_51\n",
      "FiltrationExtractor: processing ./fragments/Frag4//train/filtrations/2/RadialFiltration_12_51, do_fit = True, filtration = RadialFiltration(center=array([12, 51]), n_jobs=-1)\n"
     ]
    },
    {
     "name": "stderr",
     "output_type": "stream",
     "text": [
      "d:\\Programs\\Programming\\Python\\lib\\site-packages\\joblib\\externals\\loky\\process_executor.py:752: UserWarning: A worker stopped while some jobs were given to the executor. This can be caused by a too short worker timeout or by a memory leak.\n",
      "  warnings.warn(\n",
      "d:\\Programs\\Programming\\Python\\lib\\site-packages\\gtda\\diagrams\\preprocessing.py:295: RuntimeWarning: invalid value encountered in divide\n",
      "  Xs[:, :, :2] /= self.scale_\n"
     ]
    },
    {
     "name": "stdout",
     "output_type": "stream",
     "text": [
      "Saving the result to ././fragments/Frag4//train/filtrations/2/RadialFiltration_12_51/diagrams.npy\n",
      "Applying Scaler to persistence diagrams.\n",
      "DiagramVectorizer: fitting complete\n"
     ]
    },
    {
     "name": "stderr",
     "output_type": "stream",
     "text": [
      "DiagramVectorizer: batch: 100%|██████████| 20/20 [00:03<00:00,  5.07it/s]\n"
     ]
    },
    {
     "name": "stdout",
     "output_type": "stream",
     "text": [
      "Saving the result to ././fragments/Frag4//train/filtrations/2/RadialFiltration_12_51/features.npy\n",
      "Fitting filtration 13/72: 2/RadialFiltration_25_12\n",
      "FiltrationExtractor: processing ./fragments/Frag4//train/filtrations/2/RadialFiltration_25_12, do_fit = True, filtration = RadialFiltration(center=array([25, 12]), n_jobs=-1)\n"
     ]
    },
    {
     "name": "stderr",
     "output_type": "stream",
     "text": [
      "d:\\Programs\\Programming\\Python\\lib\\site-packages\\joblib\\externals\\loky\\process_executor.py:752: UserWarning: A worker stopped while some jobs were given to the executor. This can be caused by a too short worker timeout or by a memory leak.\n",
      "  warnings.warn(\n",
      "d:\\Programs\\Programming\\Python\\lib\\site-packages\\gtda\\diagrams\\preprocessing.py:295: RuntimeWarning: invalid value encountered in divide\n",
      "  Xs[:, :, :2] /= self.scale_\n"
     ]
    },
    {
     "name": "stdout",
     "output_type": "stream",
     "text": [
      "Saving the result to ././fragments/Frag4//train/filtrations/2/RadialFiltration_25_12/diagrams.npy\n",
      "Applying Scaler to persistence diagrams.\n",
      "DiagramVectorizer: fitting complete\n"
     ]
    },
    {
     "name": "stderr",
     "output_type": "stream",
     "text": [
      "DiagramVectorizer: batch: 100%|██████████| 20/20 [00:03<00:00,  5.36it/s]\n"
     ]
    },
    {
     "name": "stdout",
     "output_type": "stream",
     "text": [
      "Saving the result to ././fragments/Frag4//train/filtrations/2/RadialFiltration_25_12/features.npy\n",
      "Fitting filtration 14/72: 2/RadialFiltration_25_25\n",
      "FiltrationExtractor: processing ./fragments/Frag4//train/filtrations/2/RadialFiltration_25_25, do_fit = True, filtration = RadialFiltration(center=array([25, 25]), n_jobs=-1)\n"
     ]
    },
    {
     "name": "stderr",
     "output_type": "stream",
     "text": [
      "d:\\Programs\\Programming\\Python\\lib\\site-packages\\joblib\\externals\\loky\\process_executor.py:752: UserWarning: A worker stopped while some jobs were given to the executor. This can be caused by a too short worker timeout or by a memory leak.\n",
      "  warnings.warn(\n",
      "d:\\Programs\\Programming\\Python\\lib\\site-packages\\gtda\\diagrams\\preprocessing.py:295: RuntimeWarning: invalid value encountered in divide\n",
      "  Xs[:, :, :2] /= self.scale_\n"
     ]
    },
    {
     "name": "stdout",
     "output_type": "stream",
     "text": [
      "Saving the result to ././fragments/Frag4//train/filtrations/2/RadialFiltration_25_25/diagrams.npy\n",
      "Applying Scaler to persistence diagrams.\n",
      "DiagramVectorizer: fitting complete\n"
     ]
    },
    {
     "name": "stderr",
     "output_type": "stream",
     "text": [
      "DiagramVectorizer: batch: 100%|██████████| 20/20 [00:04<00:00,  4.20it/s]\n"
     ]
    },
    {
     "name": "stdout",
     "output_type": "stream",
     "text": [
      "Saving the result to ././fragments/Frag4//train/filtrations/2/RadialFiltration_25_25/features.npy\n",
      "Fitting filtration 15/72: 2/RadialFiltration_25_38\n",
      "FiltrationExtractor: processing ./fragments/Frag4//train/filtrations/2/RadialFiltration_25_38, do_fit = True, filtration = RadialFiltration(center=array([25, 38]), n_jobs=-1)\n"
     ]
    },
    {
     "name": "stderr",
     "output_type": "stream",
     "text": [
      "d:\\Programs\\Programming\\Python\\lib\\site-packages\\joblib\\externals\\loky\\process_executor.py:752: UserWarning: A worker stopped while some jobs were given to the executor. This can be caused by a too short worker timeout or by a memory leak.\n",
      "  warnings.warn(\n",
      "d:\\Programs\\Programming\\Python\\lib\\site-packages\\gtda\\diagrams\\preprocessing.py:295: RuntimeWarning: invalid value encountered in divide\n",
      "  Xs[:, :, :2] /= self.scale_\n"
     ]
    },
    {
     "name": "stdout",
     "output_type": "stream",
     "text": [
      "Saving the result to ././fragments/Frag4//train/filtrations/2/RadialFiltration_25_38/diagrams.npy\n",
      "Applying Scaler to persistence diagrams.\n",
      "DiagramVectorizer: fitting complete\n"
     ]
    },
    {
     "name": "stderr",
     "output_type": "stream",
     "text": [
      "DiagramVectorizer: batch: 100%|██████████| 20/20 [00:03<00:00,  6.48it/s]\n"
     ]
    },
    {
     "name": "stdout",
     "output_type": "stream",
     "text": [
      "Saving the result to ././fragments/Frag4//train/filtrations/2/RadialFiltration_25_38/features.npy\n",
      "Fitting filtration 16/72: 2/RadialFiltration_25_51\n",
      "FiltrationExtractor: processing ./fragments/Frag4//train/filtrations/2/RadialFiltration_25_51, do_fit = True, filtration = RadialFiltration(center=array([25, 51]), n_jobs=-1)\n"
     ]
    },
    {
     "name": "stderr",
     "output_type": "stream",
     "text": [
      "d:\\Programs\\Programming\\Python\\lib\\site-packages\\joblib\\externals\\loky\\process_executor.py:752: UserWarning: A worker stopped while some jobs were given to the executor. This can be caused by a too short worker timeout or by a memory leak.\n",
      "  warnings.warn(\n",
      "d:\\Programs\\Programming\\Python\\lib\\site-packages\\gtda\\diagrams\\preprocessing.py:295: RuntimeWarning: invalid value encountered in divide\n",
      "  Xs[:, :, :2] /= self.scale_\n"
     ]
    },
    {
     "name": "stdout",
     "output_type": "stream",
     "text": [
      "Saving the result to ././fragments/Frag4//train/filtrations/2/RadialFiltration_25_51/diagrams.npy\n",
      "Applying Scaler to persistence diagrams.\n",
      "DiagramVectorizer: fitting complete\n"
     ]
    },
    {
     "name": "stderr",
     "output_type": "stream",
     "text": [
      "DiagramVectorizer: batch: 100%|██████████| 20/20 [00:04<00:00,  4.82it/s]\n"
     ]
    },
    {
     "name": "stdout",
     "output_type": "stream",
     "text": [
      "Saving the result to ././fragments/Frag4//train/filtrations/2/RadialFiltration_25_51/features.npy\n",
      "Fitting filtration 17/72: 2/RadialFiltration_38_12\n",
      "FiltrationExtractor: processing ./fragments/Frag4//train/filtrations/2/RadialFiltration_38_12, do_fit = True, filtration = RadialFiltration(center=array([38, 12]), n_jobs=-1)\n"
     ]
    },
    {
     "name": "stderr",
     "output_type": "stream",
     "text": [
      "d:\\Programs\\Programming\\Python\\lib\\site-packages\\joblib\\externals\\loky\\process_executor.py:752: UserWarning: A worker stopped while some jobs were given to the executor. This can be caused by a too short worker timeout or by a memory leak.\n",
      "  warnings.warn(\n",
      "d:\\Programs\\Programming\\Python\\lib\\site-packages\\gtda\\diagrams\\preprocessing.py:295: RuntimeWarning: invalid value encountered in divide\n",
      "  Xs[:, :, :2] /= self.scale_\n"
     ]
    },
    {
     "name": "stdout",
     "output_type": "stream",
     "text": [
      "Saving the result to ././fragments/Frag4//train/filtrations/2/RadialFiltration_38_12/diagrams.npy\n",
      "Applying Scaler to persistence diagrams.\n",
      "DiagramVectorizer: fitting complete\n"
     ]
    },
    {
     "name": "stderr",
     "output_type": "stream",
     "text": [
      "DiagramVectorizer: batch: 100%|██████████| 20/20 [00:03<00:00,  5.36it/s]\n"
     ]
    },
    {
     "name": "stdout",
     "output_type": "stream",
     "text": [
      "Saving the result to ././fragments/Frag4//train/filtrations/2/RadialFiltration_38_12/features.npy\n",
      "Fitting filtration 18/72: 2/RadialFiltration_38_25\n",
      "FiltrationExtractor: processing ./fragments/Frag4//train/filtrations/2/RadialFiltration_38_25, do_fit = True, filtration = RadialFiltration(center=array([38, 25]), n_jobs=-1)\n"
     ]
    },
    {
     "name": "stderr",
     "output_type": "stream",
     "text": [
      "d:\\Programs\\Programming\\Python\\lib\\site-packages\\joblib\\externals\\loky\\process_executor.py:752: UserWarning: A worker stopped while some jobs were given to the executor. This can be caused by a too short worker timeout or by a memory leak.\n",
      "  warnings.warn(\n",
      "d:\\Programs\\Programming\\Python\\lib\\site-packages\\gtda\\diagrams\\preprocessing.py:295: RuntimeWarning: invalid value encountered in divide\n",
      "  Xs[:, :, :2] /= self.scale_\n"
     ]
    },
    {
     "name": "stdout",
     "output_type": "stream",
     "text": [
      "Saving the result to ././fragments/Frag4//train/filtrations/2/RadialFiltration_38_25/diagrams.npy\n",
      "Applying Scaler to persistence diagrams.\n",
      "DiagramVectorizer: fitting complete\n"
     ]
    },
    {
     "name": "stderr",
     "output_type": "stream",
     "text": [
      "DiagramVectorizer: batch: 100%|██████████| 20/20 [00:03<00:00,  5.92it/s]\n"
     ]
    },
    {
     "name": "stdout",
     "output_type": "stream",
     "text": [
      "Saving the result to ././fragments/Frag4//train/filtrations/2/RadialFiltration_38_25/features.npy\n",
      "Fitting filtration 19/72: 2/RadialFiltration_38_38\n",
      "FiltrationExtractor: processing ./fragments/Frag4//train/filtrations/2/RadialFiltration_38_38, do_fit = True, filtration = RadialFiltration(center=array([38, 38]), n_jobs=-1)\n"
     ]
    },
    {
     "name": "stderr",
     "output_type": "stream",
     "text": [
      "d:\\Programs\\Programming\\Python\\lib\\site-packages\\joblib\\externals\\loky\\process_executor.py:752: UserWarning: A worker stopped while some jobs were given to the executor. This can be caused by a too short worker timeout or by a memory leak.\n",
      "  warnings.warn(\n",
      "d:\\Programs\\Programming\\Python\\lib\\site-packages\\gtda\\diagrams\\preprocessing.py:295: RuntimeWarning: invalid value encountered in divide\n",
      "  Xs[:, :, :2] /= self.scale_\n"
     ]
    },
    {
     "name": "stdout",
     "output_type": "stream",
     "text": [
      "Saving the result to ././fragments/Frag4//train/filtrations/2/RadialFiltration_38_38/diagrams.npy\n",
      "Applying Scaler to persistence diagrams.\n",
      "DiagramVectorizer: fitting complete\n"
     ]
    },
    {
     "name": "stderr",
     "output_type": "stream",
     "text": [
      "DiagramVectorizer: batch: 100%|██████████| 20/20 [00:04<00:00,  4.81it/s]\n"
     ]
    },
    {
     "name": "stdout",
     "output_type": "stream",
     "text": [
      "Saving the result to ././fragments/Frag4//train/filtrations/2/RadialFiltration_38_38/features.npy\n",
      "Fitting filtration 20/72: 2/RadialFiltration_38_51\n",
      "FiltrationExtractor: processing ./fragments/Frag4//train/filtrations/2/RadialFiltration_38_51, do_fit = True, filtration = RadialFiltration(center=array([38, 51]), n_jobs=-1)\n"
     ]
    },
    {
     "name": "stderr",
     "output_type": "stream",
     "text": [
      "d:\\Programs\\Programming\\Python\\lib\\site-packages\\joblib\\externals\\loky\\process_executor.py:752: UserWarning: A worker stopped while some jobs were given to the executor. This can be caused by a too short worker timeout or by a memory leak.\n",
      "  warnings.warn(\n",
      "d:\\Programs\\Programming\\Python\\lib\\site-packages\\gtda\\diagrams\\preprocessing.py:295: RuntimeWarning: invalid value encountered in divide\n",
      "  Xs[:, :, :2] /= self.scale_\n"
     ]
    },
    {
     "name": "stdout",
     "output_type": "stream",
     "text": [
      "Saving the result to ././fragments/Frag4//train/filtrations/2/RadialFiltration_38_51/diagrams.npy\n",
      "Applying Scaler to persistence diagrams.\n",
      "DiagramVectorizer: fitting complete\n"
     ]
    },
    {
     "name": "stderr",
     "output_type": "stream",
     "text": [
      "DiagramVectorizer: batch: 100%|██████████| 20/20 [00:04<00:00,  4.95it/s]\n"
     ]
    },
    {
     "name": "stdout",
     "output_type": "stream",
     "text": [
      "Saving the result to ././fragments/Frag4//train/filtrations/2/RadialFiltration_38_51/features.npy\n",
      "Fitting filtration 21/72: 2/RadialFiltration_51_12\n",
      "FiltrationExtractor: processing ./fragments/Frag4//train/filtrations/2/RadialFiltration_51_12, do_fit = True, filtration = RadialFiltration(center=array([51, 12]), n_jobs=-1)\n"
     ]
    },
    {
     "name": "stderr",
     "output_type": "stream",
     "text": [
      "d:\\Programs\\Programming\\Python\\lib\\site-packages\\joblib\\externals\\loky\\process_executor.py:752: UserWarning: A worker stopped while some jobs were given to the executor. This can be caused by a too short worker timeout or by a memory leak.\n",
      "  warnings.warn(\n",
      "d:\\Programs\\Programming\\Python\\lib\\site-packages\\gtda\\diagrams\\preprocessing.py:295: RuntimeWarning: invalid value encountered in divide\n",
      "  Xs[:, :, :2] /= self.scale_\n"
     ]
    },
    {
     "name": "stdout",
     "output_type": "stream",
     "text": [
      "Saving the result to ././fragments/Frag4//train/filtrations/2/RadialFiltration_51_12/diagrams.npy\n",
      "Applying Scaler to persistence diagrams.\n",
      "DiagramVectorizer: fitting complete\n"
     ]
    },
    {
     "name": "stderr",
     "output_type": "stream",
     "text": [
      "DiagramVectorizer: batch: 100%|██████████| 20/20 [00:04<00:00,  4.93it/s]\n"
     ]
    },
    {
     "name": "stdout",
     "output_type": "stream",
     "text": [
      "Saving the result to ././fragments/Frag4//train/filtrations/2/RadialFiltration_51_12/features.npy\n",
      "Fitting filtration 22/72: 2/RadialFiltration_51_25\n",
      "FiltrationExtractor: processing ./fragments/Frag4//train/filtrations/2/RadialFiltration_51_25, do_fit = True, filtration = RadialFiltration(center=array([51, 25]), n_jobs=-1)\n"
     ]
    },
    {
     "name": "stderr",
     "output_type": "stream",
     "text": [
      "d:\\Programs\\Programming\\Python\\lib\\site-packages\\joblib\\externals\\loky\\process_executor.py:752: UserWarning: A worker stopped while some jobs were given to the executor. This can be caused by a too short worker timeout or by a memory leak.\n",
      "  warnings.warn(\n",
      "d:\\Programs\\Programming\\Python\\lib\\site-packages\\gtda\\diagrams\\preprocessing.py:295: RuntimeWarning: invalid value encountered in divide\n",
      "  Xs[:, :, :2] /= self.scale_\n"
     ]
    },
    {
     "name": "stdout",
     "output_type": "stream",
     "text": [
      "Saving the result to ././fragments/Frag4//train/filtrations/2/RadialFiltration_51_25/diagrams.npy\n",
      "Applying Scaler to persistence diagrams.\n",
      "DiagramVectorizer: fitting complete\n"
     ]
    },
    {
     "name": "stderr",
     "output_type": "stream",
     "text": [
      "DiagramVectorizer: batch: 100%|██████████| 20/20 [00:04<00:00,  4.56it/s]\n"
     ]
    },
    {
     "name": "stdout",
     "output_type": "stream",
     "text": [
      "Saving the result to ././fragments/Frag4//train/filtrations/2/RadialFiltration_51_25/features.npy\n",
      "Fitting filtration 23/72: 2/RadialFiltration_51_38\n",
      "FiltrationExtractor: processing ./fragments/Frag4//train/filtrations/2/RadialFiltration_51_38, do_fit = True, filtration = RadialFiltration(center=array([51, 38]), n_jobs=-1)\n"
     ]
    },
    {
     "name": "stderr",
     "output_type": "stream",
     "text": [
      "d:\\Programs\\Programming\\Python\\lib\\site-packages\\joblib\\externals\\loky\\process_executor.py:752: UserWarning: A worker stopped while some jobs were given to the executor. This can be caused by a too short worker timeout or by a memory leak.\n",
      "  warnings.warn(\n",
      "d:\\Programs\\Programming\\Python\\lib\\site-packages\\gtda\\diagrams\\preprocessing.py:295: RuntimeWarning: invalid value encountered in divide\n",
      "  Xs[:, :, :2] /= self.scale_\n"
     ]
    },
    {
     "name": "stdout",
     "output_type": "stream",
     "text": [
      "Saving the result to ././fragments/Frag4//train/filtrations/2/RadialFiltration_51_38/diagrams.npy\n",
      "Applying Scaler to persistence diagrams.\n",
      "DiagramVectorizer: fitting complete\n"
     ]
    },
    {
     "name": "stderr",
     "output_type": "stream",
     "text": [
      "DiagramVectorizer: batch: 100%|██████████| 20/20 [00:04<00:00,  4.46it/s]\n"
     ]
    },
    {
     "name": "stdout",
     "output_type": "stream",
     "text": [
      "Saving the result to ././fragments/Frag4//train/filtrations/2/RadialFiltration_51_38/features.npy\n",
      "Fitting filtration 24/72: 2/RadialFiltration_51_51\n",
      "FiltrationExtractor: processing ./fragments/Frag4//train/filtrations/2/RadialFiltration_51_51, do_fit = True, filtration = RadialFiltration(center=array([51, 51]), n_jobs=-1)\n"
     ]
    },
    {
     "name": "stderr",
     "output_type": "stream",
     "text": [
      "d:\\Programs\\Programming\\Python\\lib\\site-packages\\joblib\\externals\\loky\\process_executor.py:752: UserWarning: A worker stopped while some jobs were given to the executor. This can be caused by a too short worker timeout or by a memory leak.\n",
      "  warnings.warn(\n",
      "d:\\Programs\\Programming\\Python\\lib\\site-packages\\gtda\\diagrams\\preprocessing.py:295: RuntimeWarning: invalid value encountered in divide\n",
      "  Xs[:, :, :2] /= self.scale_\n"
     ]
    },
    {
     "name": "stdout",
     "output_type": "stream",
     "text": [
      "Saving the result to ././fragments/Frag4//train/filtrations/2/RadialFiltration_51_51/diagrams.npy\n",
      "Applying Scaler to persistence diagrams.\n",
      "DiagramVectorizer: fitting complete\n"
     ]
    },
    {
     "name": "stderr",
     "output_type": "stream",
     "text": [
      "DiagramVectorizer: batch: 100%|██████████| 20/20 [00:03<00:00,  5.37it/s]\n"
     ]
    },
    {
     "name": "stdout",
     "output_type": "stream",
     "text": [
      "Saving the result to ././fragments/Frag4//train/filtrations/2/RadialFiltration_51_51/features.npy\n",
      "Fitting filtration 25/72: 4/HeightFiltrartion_-1_-1\n",
      "FiltrationExtractor: processing ./fragments/Frag4//train/filtrations/4/HeightFiltrartion_-1_-1, do_fit = True, filtration = HeightFiltration(direction=array([-1, -1]), n_jobs=-1)\n"
     ]
    },
    {
     "name": "stderr",
     "output_type": "stream",
     "text": [
      "d:\\Programs\\Programming\\Python\\lib\\site-packages\\joblib\\externals\\loky\\process_executor.py:752: UserWarning: A worker stopped while some jobs were given to the executor. This can be caused by a too short worker timeout or by a memory leak.\n",
      "  warnings.warn(\n"
     ]
    },
    {
     "name": "stdout",
     "output_type": "stream",
     "text": [
      "Saving the result to ././fragments/Frag4//train/filtrations/4/HeightFiltrartion_-1_-1/diagrams.npy\n",
      "Applying Scaler to persistence diagrams.\n",
      "DiagramVectorizer: fitting complete\n"
     ]
    },
    {
     "name": "stderr",
     "output_type": "stream",
     "text": [
      "DiagramVectorizer: batch: 100%|██████████| 20/20 [00:03<00:00,  6.01it/s]\n"
     ]
    },
    {
     "name": "stdout",
     "output_type": "stream",
     "text": [
      "Saving the result to ././fragments/Frag4//train/filtrations/4/HeightFiltrartion_-1_-1/features.npy\n",
      "Fitting filtration 26/72: 4/HeightFiltrartion_1_1\n",
      "FiltrationExtractor: processing ./fragments/Frag4//train/filtrations/4/HeightFiltrartion_1_1, do_fit = True, filtration = HeightFiltration(direction=array([1, 1]), n_jobs=-1)\n"
     ]
    },
    {
     "name": "stderr",
     "output_type": "stream",
     "text": [
      "d:\\Programs\\Programming\\Python\\lib\\site-packages\\joblib\\externals\\loky\\process_executor.py:752: UserWarning: A worker stopped while some jobs were given to the executor. This can be caused by a too short worker timeout or by a memory leak.\n",
      "  warnings.warn(\n"
     ]
    },
    {
     "name": "stdout",
     "output_type": "stream",
     "text": [
      "Saving the result to ././fragments/Frag4//train/filtrations/4/HeightFiltrartion_1_1/diagrams.npy\n",
      "Applying Scaler to persistence diagrams.\n",
      "DiagramVectorizer: fitting complete\n"
     ]
    },
    {
     "name": "stderr",
     "output_type": "stream",
     "text": [
      "DiagramVectorizer: batch: 100%|██████████| 20/20 [00:03<00:00,  5.27it/s]\n"
     ]
    },
    {
     "name": "stdout",
     "output_type": "stream",
     "text": [
      "Saving the result to ././fragments/Frag4//train/filtrations/4/HeightFiltrartion_1_1/features.npy\n",
      "Fitting filtration 27/72: 4/HeightFiltrartion_1_-1\n",
      "FiltrationExtractor: processing ./fragments/Frag4//train/filtrations/4/HeightFiltrartion_1_-1, do_fit = True, filtration = HeightFiltration(direction=array([ 1, -1]), n_jobs=-1)\n"
     ]
    },
    {
     "name": "stderr",
     "output_type": "stream",
     "text": [
      "d:\\Programs\\Programming\\Python\\lib\\site-packages\\joblib\\externals\\loky\\process_executor.py:752: UserWarning: A worker stopped while some jobs were given to the executor. This can be caused by a too short worker timeout or by a memory leak.\n",
      "  warnings.warn(\n"
     ]
    },
    {
     "name": "stdout",
     "output_type": "stream",
     "text": [
      "Saving the result to ././fragments/Frag4//train/filtrations/4/HeightFiltrartion_1_-1/diagrams.npy\n",
      "Applying Scaler to persistence diagrams.\n",
      "DiagramVectorizer: fitting complete\n"
     ]
    },
    {
     "name": "stderr",
     "output_type": "stream",
     "text": [
      "DiagramVectorizer: batch: 100%|██████████| 20/20 [00:04<00:00,  4.82it/s]\n"
     ]
    },
    {
     "name": "stdout",
     "output_type": "stream",
     "text": [
      "Saving the result to ././fragments/Frag4//train/filtrations/4/HeightFiltrartion_1_-1/features.npy\n",
      "Fitting filtration 28/72: 4/HeightFiltrartion_-1_1\n",
      "FiltrationExtractor: processing ./fragments/Frag4//train/filtrations/4/HeightFiltrartion_-1_1, do_fit = True, filtration = HeightFiltration(direction=array([-1,  1]), n_jobs=-1)\n"
     ]
    },
    {
     "name": "stderr",
     "output_type": "stream",
     "text": [
      "d:\\Programs\\Programming\\Python\\lib\\site-packages\\joblib\\externals\\loky\\process_executor.py:752: UserWarning: A worker stopped while some jobs were given to the executor. This can be caused by a too short worker timeout or by a memory leak.\n",
      "  warnings.warn(\n"
     ]
    },
    {
     "name": "stdout",
     "output_type": "stream",
     "text": [
      "Saving the result to ././fragments/Frag4//train/filtrations/4/HeightFiltrartion_-1_1/diagrams.npy\n",
      "Applying Scaler to persistence diagrams.\n",
      "DiagramVectorizer: fitting complete\n"
     ]
    },
    {
     "name": "stderr",
     "output_type": "stream",
     "text": [
      "DiagramVectorizer: batch: 100%|██████████| 20/20 [00:04<00:00,  4.47it/s]\n"
     ]
    },
    {
     "name": "stdout",
     "output_type": "stream",
     "text": [
      "Saving the result to ././fragments/Frag4//train/filtrations/4/HeightFiltrartion_-1_1/features.npy\n",
      "Fitting filtration 29/72: 4/HeightFiltrartion_0_-1\n",
      "FiltrationExtractor: processing ./fragments/Frag4//train/filtrations/4/HeightFiltrartion_0_-1, do_fit = True, filtration = HeightFiltration(direction=array([ 0, -1]), n_jobs=-1)\n"
     ]
    },
    {
     "name": "stderr",
     "output_type": "stream",
     "text": [
      "d:\\Programs\\Programming\\Python\\lib\\site-packages\\joblib\\externals\\loky\\process_executor.py:752: UserWarning: A worker stopped while some jobs were given to the executor. This can be caused by a too short worker timeout or by a memory leak.\n",
      "  warnings.warn(\n"
     ]
    },
    {
     "name": "stdout",
     "output_type": "stream",
     "text": [
      "Saving the result to ././fragments/Frag4//train/filtrations/4/HeightFiltrartion_0_-1/diagrams.npy\n",
      "Applying Scaler to persistence diagrams.\n",
      "DiagramVectorizer: fitting complete\n"
     ]
    },
    {
     "name": "stderr",
     "output_type": "stream",
     "text": [
      "DiagramVectorizer: batch: 100%|██████████| 20/20 [00:03<00:00,  5.60it/s]\n"
     ]
    },
    {
     "name": "stdout",
     "output_type": "stream",
     "text": [
      "Saving the result to ././fragments/Frag4//train/filtrations/4/HeightFiltrartion_0_-1/features.npy\n",
      "Fitting filtration 30/72: 4/HeightFiltrartion_0_1\n",
      "FiltrationExtractor: processing ./fragments/Frag4//train/filtrations/4/HeightFiltrartion_0_1, do_fit = True, filtration = HeightFiltration(direction=array([0, 1]), n_jobs=-1)\n"
     ]
    },
    {
     "name": "stderr",
     "output_type": "stream",
     "text": [
      "d:\\Programs\\Programming\\Python\\lib\\site-packages\\joblib\\externals\\loky\\process_executor.py:752: UserWarning: A worker stopped while some jobs were given to the executor. This can be caused by a too short worker timeout or by a memory leak.\n",
      "  warnings.warn(\n"
     ]
    },
    {
     "name": "stdout",
     "output_type": "stream",
     "text": [
      "Saving the result to ././fragments/Frag4//train/filtrations/4/HeightFiltrartion_0_1/diagrams.npy\n",
      "Applying Scaler to persistence diagrams.\n",
      "DiagramVectorizer: fitting complete\n"
     ]
    },
    {
     "name": "stderr",
     "output_type": "stream",
     "text": [
      "DiagramVectorizer: batch: 100%|██████████| 20/20 [00:03<00:00,  5.66it/s]\n"
     ]
    },
    {
     "name": "stdout",
     "output_type": "stream",
     "text": [
      "Saving the result to ././fragments/Frag4//train/filtrations/4/HeightFiltrartion_0_1/features.npy\n",
      "Fitting filtration 31/72: 4/HeightFiltrartion_-1_0\n",
      "FiltrationExtractor: processing ./fragments/Frag4//train/filtrations/4/HeightFiltrartion_-1_0, do_fit = True, filtration = HeightFiltration(direction=array([-1,  0]), n_jobs=-1)\n"
     ]
    },
    {
     "name": "stderr",
     "output_type": "stream",
     "text": [
      "d:\\Programs\\Programming\\Python\\lib\\site-packages\\joblib\\externals\\loky\\process_executor.py:752: UserWarning: A worker stopped while some jobs were given to the executor. This can be caused by a too short worker timeout or by a memory leak.\n",
      "  warnings.warn(\n"
     ]
    },
    {
     "name": "stdout",
     "output_type": "stream",
     "text": [
      "Saving the result to ././fragments/Frag4//train/filtrations/4/HeightFiltrartion_-1_0/diagrams.npy\n",
      "Applying Scaler to persistence diagrams.\n",
      "DiagramVectorizer: fitting complete\n"
     ]
    },
    {
     "name": "stderr",
     "output_type": "stream",
     "text": [
      "DiagramVectorizer: batch: 100%|██████████| 20/20 [00:03<00:00,  5.48it/s]\n"
     ]
    },
    {
     "name": "stdout",
     "output_type": "stream",
     "text": [
      "Saving the result to ././fragments/Frag4//train/filtrations/4/HeightFiltrartion_-1_0/features.npy\n",
      "Fitting filtration 32/72: 4/HeightFiltrartion_1_0\n",
      "FiltrationExtractor: processing ./fragments/Frag4//train/filtrations/4/HeightFiltrartion_1_0, do_fit = True, filtration = HeightFiltration(direction=array([1, 0]), n_jobs=-1)\n"
     ]
    },
    {
     "name": "stderr",
     "output_type": "stream",
     "text": [
      "d:\\Programs\\Programming\\Python\\lib\\site-packages\\joblib\\externals\\loky\\process_executor.py:752: UserWarning: A worker stopped while some jobs were given to the executor. This can be caused by a too short worker timeout or by a memory leak.\n",
      "  warnings.warn(\n"
     ]
    },
    {
     "name": "stdout",
     "output_type": "stream",
     "text": [
      "Saving the result to ././fragments/Frag4//train/filtrations/4/HeightFiltrartion_1_0/diagrams.npy\n",
      "Applying Scaler to persistence diagrams.\n",
      "DiagramVectorizer: fitting complete\n"
     ]
    },
    {
     "name": "stderr",
     "output_type": "stream",
     "text": [
      "DiagramVectorizer: batch: 100%|██████████| 20/20 [00:03<00:00,  5.92it/s]\n"
     ]
    },
    {
     "name": "stdout",
     "output_type": "stream",
     "text": [
      "Saving the result to ././fragments/Frag4//train/filtrations/4/HeightFiltrartion_1_0/features.npy\n",
      "Fitting filtration 33/72: 4/RadialFiltration_12_12\n",
      "FiltrationExtractor: processing ./fragments/Frag4//train/filtrations/4/RadialFiltration_12_12, do_fit = True, filtration = RadialFiltration(center=array([12, 12]), n_jobs=-1)\n"
     ]
    },
    {
     "name": "stderr",
     "output_type": "stream",
     "text": [
      "d:\\Programs\\Programming\\Python\\lib\\site-packages\\joblib\\externals\\loky\\process_executor.py:752: UserWarning: A worker stopped while some jobs were given to the executor. This can be caused by a too short worker timeout or by a memory leak.\n",
      "  warnings.warn(\n"
     ]
    },
    {
     "name": "stdout",
     "output_type": "stream",
     "text": [
      "Saving the result to ././fragments/Frag4//train/filtrations/4/RadialFiltration_12_12/diagrams.npy\n",
      "Applying Scaler to persistence diagrams.\n",
      "DiagramVectorizer: fitting complete\n"
     ]
    },
    {
     "name": "stderr",
     "output_type": "stream",
     "text": [
      "DiagramVectorizer: batch: 100%|██████████| 20/20 [00:03<00:00,  6.02it/s]\n"
     ]
    },
    {
     "name": "stdout",
     "output_type": "stream",
     "text": [
      "Saving the result to ././fragments/Frag4//train/filtrations/4/RadialFiltration_12_12/features.npy\n",
      "Fitting filtration 34/72: 4/RadialFiltration_12_25\n",
      "FiltrationExtractor: processing ./fragments/Frag4//train/filtrations/4/RadialFiltration_12_25, do_fit = True, filtration = RadialFiltration(center=array([12, 25]), n_jobs=-1)\n"
     ]
    },
    {
     "name": "stderr",
     "output_type": "stream",
     "text": [
      "d:\\Programs\\Programming\\Python\\lib\\site-packages\\joblib\\externals\\loky\\process_executor.py:752: UserWarning: A worker stopped while some jobs were given to the executor. This can be caused by a too short worker timeout or by a memory leak.\n",
      "  warnings.warn(\n"
     ]
    },
    {
     "name": "stdout",
     "output_type": "stream",
     "text": [
      "Saving the result to ././fragments/Frag4//train/filtrations/4/RadialFiltration_12_25/diagrams.npy\n",
      "Applying Scaler to persistence diagrams.\n",
      "DiagramVectorizer: fitting complete\n"
     ]
    },
    {
     "name": "stderr",
     "output_type": "stream",
     "text": [
      "DiagramVectorizer: batch: 100%|██████████| 20/20 [00:03<00:00,  5.23it/s]\n"
     ]
    },
    {
     "name": "stdout",
     "output_type": "stream",
     "text": [
      "Saving the result to ././fragments/Frag4//train/filtrations/4/RadialFiltration_12_25/features.npy\n",
      "Fitting filtration 35/72: 4/RadialFiltration_12_38\n",
      "FiltrationExtractor: processing ./fragments/Frag4//train/filtrations/4/RadialFiltration_12_38, do_fit = True, filtration = RadialFiltration(center=array([12, 38]), n_jobs=-1)\n"
     ]
    },
    {
     "name": "stderr",
     "output_type": "stream",
     "text": [
      "d:\\Programs\\Programming\\Python\\lib\\site-packages\\joblib\\externals\\loky\\process_executor.py:752: UserWarning: A worker stopped while some jobs were given to the executor. This can be caused by a too short worker timeout or by a memory leak.\n",
      "  warnings.warn(\n"
     ]
    },
    {
     "name": "stdout",
     "output_type": "stream",
     "text": [
      "Saving the result to ././fragments/Frag4//train/filtrations/4/RadialFiltration_12_38/diagrams.npy\n",
      "Applying Scaler to persistence diagrams.\n",
      "DiagramVectorizer: fitting complete\n"
     ]
    },
    {
     "name": "stderr",
     "output_type": "stream",
     "text": [
      "DiagramVectorizer: batch: 100%|██████████| 20/20 [00:03<00:00,  6.03it/s]\n"
     ]
    },
    {
     "name": "stdout",
     "output_type": "stream",
     "text": [
      "Saving the result to ././fragments/Frag4//train/filtrations/4/RadialFiltration_12_38/features.npy\n",
      "Fitting filtration 36/72: 4/RadialFiltration_12_51\n",
      "FiltrationExtractor: processing ./fragments/Frag4//train/filtrations/4/RadialFiltration_12_51, do_fit = True, filtration = RadialFiltration(center=array([12, 51]), n_jobs=-1)\n"
     ]
    },
    {
     "name": "stderr",
     "output_type": "stream",
     "text": [
      "d:\\Programs\\Programming\\Python\\lib\\site-packages\\joblib\\externals\\loky\\process_executor.py:752: UserWarning: A worker stopped while some jobs were given to the executor. This can be caused by a too short worker timeout or by a memory leak.\n",
      "  warnings.warn(\n"
     ]
    },
    {
     "name": "stdout",
     "output_type": "stream",
     "text": [
      "Saving the result to ././fragments/Frag4//train/filtrations/4/RadialFiltration_12_51/diagrams.npy\n",
      "Applying Scaler to persistence diagrams.\n",
      "DiagramVectorizer: fitting complete\n"
     ]
    },
    {
     "name": "stderr",
     "output_type": "stream",
     "text": [
      "DiagramVectorizer: batch: 100%|██████████| 20/20 [00:03<00:00,  5.30it/s]\n"
     ]
    },
    {
     "name": "stdout",
     "output_type": "stream",
     "text": [
      "Saving the result to ././fragments/Frag4//train/filtrations/4/RadialFiltration_12_51/features.npy\n",
      "Fitting filtration 37/72: 4/RadialFiltration_25_12\n",
      "FiltrationExtractor: processing ./fragments/Frag4//train/filtrations/4/RadialFiltration_25_12, do_fit = True, filtration = RadialFiltration(center=array([25, 12]), n_jobs=-1)\n"
     ]
    },
    {
     "name": "stderr",
     "output_type": "stream",
     "text": [
      "d:\\Programs\\Programming\\Python\\lib\\site-packages\\joblib\\externals\\loky\\process_executor.py:752: UserWarning: A worker stopped while some jobs were given to the executor. This can be caused by a too short worker timeout or by a memory leak.\n",
      "  warnings.warn(\n"
     ]
    },
    {
     "name": "stdout",
     "output_type": "stream",
     "text": [
      "Saving the result to ././fragments/Frag4//train/filtrations/4/RadialFiltration_25_12/diagrams.npy\n",
      "Applying Scaler to persistence diagrams.\n",
      "DiagramVectorizer: fitting complete\n"
     ]
    },
    {
     "name": "stderr",
     "output_type": "stream",
     "text": [
      "DiagramVectorizer: batch: 100%|██████████| 20/20 [00:03<00:00,  5.98it/s]\n"
     ]
    },
    {
     "name": "stdout",
     "output_type": "stream",
     "text": [
      "Saving the result to ././fragments/Frag4//train/filtrations/4/RadialFiltration_25_12/features.npy\n",
      "Fitting filtration 38/72: 4/RadialFiltration_25_25\n",
      "FiltrationExtractor: processing ./fragments/Frag4//train/filtrations/4/RadialFiltration_25_25, do_fit = True, filtration = RadialFiltration(center=array([25, 25]), n_jobs=-1)\n"
     ]
    },
    {
     "name": "stderr",
     "output_type": "stream",
     "text": [
      "d:\\Programs\\Programming\\Python\\lib\\site-packages\\joblib\\externals\\loky\\process_executor.py:752: UserWarning: A worker stopped while some jobs were given to the executor. This can be caused by a too short worker timeout or by a memory leak.\n",
      "  warnings.warn(\n"
     ]
    },
    {
     "name": "stdout",
     "output_type": "stream",
     "text": [
      "Saving the result to ././fragments/Frag4//train/filtrations/4/RadialFiltration_25_25/diagrams.npy\n",
      "Applying Scaler to persistence diagrams.\n",
      "DiagramVectorizer: fitting complete\n"
     ]
    },
    {
     "name": "stderr",
     "output_type": "stream",
     "text": [
      "DiagramVectorizer: batch: 100%|██████████| 20/20 [00:04<00:00,  4.50it/s]\n"
     ]
    },
    {
     "name": "stdout",
     "output_type": "stream",
     "text": [
      "Saving the result to ././fragments/Frag4//train/filtrations/4/RadialFiltration_25_25/features.npy\n",
      "Fitting filtration 39/72: 4/RadialFiltration_25_38\n",
      "FiltrationExtractor: processing ./fragments/Frag4//train/filtrations/4/RadialFiltration_25_38, do_fit = True, filtration = RadialFiltration(center=array([25, 38]), n_jobs=-1)\n"
     ]
    },
    {
     "name": "stderr",
     "output_type": "stream",
     "text": [
      "d:\\Programs\\Programming\\Python\\lib\\site-packages\\joblib\\externals\\loky\\process_executor.py:752: UserWarning: A worker stopped while some jobs were given to the executor. This can be caused by a too short worker timeout or by a memory leak.\n",
      "  warnings.warn(\n"
     ]
    },
    {
     "name": "stdout",
     "output_type": "stream",
     "text": [
      "Saving the result to ././fragments/Frag4//train/filtrations/4/RadialFiltration_25_38/diagrams.npy\n",
      "Applying Scaler to persistence diagrams.\n",
      "DiagramVectorizer: fitting complete\n"
     ]
    },
    {
     "name": "stderr",
     "output_type": "stream",
     "text": [
      "DiagramVectorizer: batch: 100%|██████████| 20/20 [00:03<00:00,  6.01it/s]\n"
     ]
    },
    {
     "name": "stdout",
     "output_type": "stream",
     "text": [
      "Saving the result to ././fragments/Frag4//train/filtrations/4/RadialFiltration_25_38/features.npy\n",
      "Fitting filtration 40/72: 4/RadialFiltration_25_51\n",
      "FiltrationExtractor: processing ./fragments/Frag4//train/filtrations/4/RadialFiltration_25_51, do_fit = True, filtration = RadialFiltration(center=array([25, 51]), n_jobs=-1)\n"
     ]
    },
    {
     "name": "stderr",
     "output_type": "stream",
     "text": [
      "d:\\Programs\\Programming\\Python\\lib\\site-packages\\joblib\\externals\\loky\\process_executor.py:752: UserWarning: A worker stopped while some jobs were given to the executor. This can be caused by a too short worker timeout or by a memory leak.\n",
      "  warnings.warn(\n"
     ]
    },
    {
     "name": "stdout",
     "output_type": "stream",
     "text": [
      "Saving the result to ././fragments/Frag4//train/filtrations/4/RadialFiltration_25_51/diagrams.npy\n",
      "Applying Scaler to persistence diagrams.\n",
      "DiagramVectorizer: fitting complete\n"
     ]
    },
    {
     "name": "stderr",
     "output_type": "stream",
     "text": [
      "DiagramVectorizer: batch: 100%|██████████| 20/20 [00:04<00:00,  4.51it/s]\n"
     ]
    },
    {
     "name": "stdout",
     "output_type": "stream",
     "text": [
      "Saving the result to ././fragments/Frag4//train/filtrations/4/RadialFiltration_25_51/features.npy\n",
      "Fitting filtration 41/72: 4/RadialFiltration_38_12\n",
      "FiltrationExtractor: processing ./fragments/Frag4//train/filtrations/4/RadialFiltration_38_12, do_fit = True, filtration = RadialFiltration(center=array([38, 12]), n_jobs=-1)\n"
     ]
    },
    {
     "name": "stderr",
     "output_type": "stream",
     "text": [
      "d:\\Programs\\Programming\\Python\\lib\\site-packages\\joblib\\externals\\loky\\process_executor.py:752: UserWarning: A worker stopped while some jobs were given to the executor. This can be caused by a too short worker timeout or by a memory leak.\n",
      "  warnings.warn(\n"
     ]
    },
    {
     "name": "stdout",
     "output_type": "stream",
     "text": [
      "Saving the result to ././fragments/Frag4//train/filtrations/4/RadialFiltration_38_12/diagrams.npy\n",
      "Applying Scaler to persistence diagrams.\n",
      "DiagramVectorizer: fitting complete\n"
     ]
    },
    {
     "name": "stderr",
     "output_type": "stream",
     "text": [
      "DiagramVectorizer: batch: 100%|██████████| 20/20 [00:03<00:00,  5.41it/s]\n"
     ]
    },
    {
     "name": "stdout",
     "output_type": "stream",
     "text": [
      "Saving the result to ././fragments/Frag4//train/filtrations/4/RadialFiltration_38_12/features.npy\n",
      "Fitting filtration 42/72: 4/RadialFiltration_38_25\n",
      "FiltrationExtractor: processing ./fragments/Frag4//train/filtrations/4/RadialFiltration_38_25, do_fit = True, filtration = RadialFiltration(center=array([38, 25]), n_jobs=-1)\n"
     ]
    },
    {
     "name": "stderr",
     "output_type": "stream",
     "text": [
      "d:\\Programs\\Programming\\Python\\lib\\site-packages\\joblib\\externals\\loky\\process_executor.py:752: UserWarning: A worker stopped while some jobs were given to the executor. This can be caused by a too short worker timeout or by a memory leak.\n",
      "  warnings.warn(\n"
     ]
    },
    {
     "name": "stdout",
     "output_type": "stream",
     "text": [
      "Saving the result to ././fragments/Frag4//train/filtrations/4/RadialFiltration_38_25/diagrams.npy\n",
      "Applying Scaler to persistence diagrams.\n",
      "DiagramVectorizer: fitting complete\n"
     ]
    },
    {
     "name": "stderr",
     "output_type": "stream",
     "text": [
      "DiagramVectorizer: batch: 100%|██████████| 20/20 [00:03<00:00,  5.45it/s]\n"
     ]
    },
    {
     "name": "stdout",
     "output_type": "stream",
     "text": [
      "Saving the result to ././fragments/Frag4//train/filtrations/4/RadialFiltration_38_25/features.npy\n",
      "Fitting filtration 43/72: 4/RadialFiltration_38_38\n",
      "FiltrationExtractor: processing ./fragments/Frag4//train/filtrations/4/RadialFiltration_38_38, do_fit = True, filtration = RadialFiltration(center=array([38, 38]), n_jobs=-1)\n"
     ]
    },
    {
     "name": "stderr",
     "output_type": "stream",
     "text": [
      "d:\\Programs\\Programming\\Python\\lib\\site-packages\\joblib\\externals\\loky\\process_executor.py:752: UserWarning: A worker stopped while some jobs were given to the executor. This can be caused by a too short worker timeout or by a memory leak.\n",
      "  warnings.warn(\n"
     ]
    },
    {
     "name": "stdout",
     "output_type": "stream",
     "text": [
      "Saving the result to ././fragments/Frag4//train/filtrations/4/RadialFiltration_38_38/diagrams.npy\n",
      "Applying Scaler to persistence diagrams.\n",
      "DiagramVectorizer: fitting complete\n"
     ]
    },
    {
     "name": "stderr",
     "output_type": "stream",
     "text": [
      "DiagramVectorizer: batch: 100%|██████████| 20/20 [00:03<00:00,  5.36it/s]\n"
     ]
    },
    {
     "name": "stdout",
     "output_type": "stream",
     "text": [
      "Saving the result to ././fragments/Frag4//train/filtrations/4/RadialFiltration_38_38/features.npy\n",
      "Fitting filtration 44/72: 4/RadialFiltration_38_51\n",
      "FiltrationExtractor: processing ./fragments/Frag4//train/filtrations/4/RadialFiltration_38_51, do_fit = True, filtration = RadialFiltration(center=array([38, 51]), n_jobs=-1)\n"
     ]
    },
    {
     "name": "stderr",
     "output_type": "stream",
     "text": [
      "d:\\Programs\\Programming\\Python\\lib\\site-packages\\joblib\\externals\\loky\\process_executor.py:752: UserWarning: A worker stopped while some jobs were given to the executor. This can be caused by a too short worker timeout or by a memory leak.\n",
      "  warnings.warn(\n"
     ]
    },
    {
     "name": "stdout",
     "output_type": "stream",
     "text": [
      "Saving the result to ././fragments/Frag4//train/filtrations/4/RadialFiltration_38_51/diagrams.npy\n",
      "Applying Scaler to persistence diagrams.\n",
      "DiagramVectorizer: fitting complete\n"
     ]
    },
    {
     "name": "stderr",
     "output_type": "stream",
     "text": [
      "DiagramVectorizer: batch: 100%|██████████| 20/20 [00:04<00:00,  4.47it/s]\n"
     ]
    },
    {
     "name": "stdout",
     "output_type": "stream",
     "text": [
      "Saving the result to ././fragments/Frag4//train/filtrations/4/RadialFiltration_38_51/features.npy\n",
      "Fitting filtration 45/72: 4/RadialFiltration_51_12\n",
      "FiltrationExtractor: processing ./fragments/Frag4//train/filtrations/4/RadialFiltration_51_12, do_fit = True, filtration = RadialFiltration(center=array([51, 12]), n_jobs=-1)\n"
     ]
    },
    {
     "name": "stderr",
     "output_type": "stream",
     "text": [
      "d:\\Programs\\Programming\\Python\\lib\\site-packages\\joblib\\externals\\loky\\process_executor.py:752: UserWarning: A worker stopped while some jobs were given to the executor. This can be caused by a too short worker timeout or by a memory leak.\n",
      "  warnings.warn(\n"
     ]
    },
    {
     "name": "stdout",
     "output_type": "stream",
     "text": [
      "Saving the result to ././fragments/Frag4//train/filtrations/4/RadialFiltration_51_12/diagrams.npy\n",
      "Applying Scaler to persistence diagrams.\n",
      "DiagramVectorizer: fitting complete\n"
     ]
    },
    {
     "name": "stderr",
     "output_type": "stream",
     "text": [
      "DiagramVectorizer: batch: 100%|██████████| 20/20 [00:03<00:00,  6.37it/s]\n"
     ]
    },
    {
     "name": "stdout",
     "output_type": "stream",
     "text": [
      "Saving the result to ././fragments/Frag4//train/filtrations/4/RadialFiltration_51_12/features.npy\n",
      "Fitting filtration 46/72: 4/RadialFiltration_51_25\n",
      "FiltrationExtractor: processing ./fragments/Frag4//train/filtrations/4/RadialFiltration_51_25, do_fit = True, filtration = RadialFiltration(center=array([51, 25]), n_jobs=-1)\n"
     ]
    },
    {
     "name": "stderr",
     "output_type": "stream",
     "text": [
      "d:\\Programs\\Programming\\Python\\lib\\site-packages\\joblib\\externals\\loky\\process_executor.py:752: UserWarning: A worker stopped while some jobs were given to the executor. This can be caused by a too short worker timeout or by a memory leak.\n",
      "  warnings.warn(\n"
     ]
    },
    {
     "name": "stdout",
     "output_type": "stream",
     "text": [
      "Saving the result to ././fragments/Frag4//train/filtrations/4/RadialFiltration_51_25/diagrams.npy\n",
      "Applying Scaler to persistence diagrams.\n",
      "DiagramVectorizer: fitting complete\n"
     ]
    },
    {
     "name": "stderr",
     "output_type": "stream",
     "text": [
      "DiagramVectorizer: batch: 100%|██████████| 20/20 [00:03<00:00,  5.79it/s]\n"
     ]
    },
    {
     "name": "stdout",
     "output_type": "stream",
     "text": [
      "Saving the result to ././fragments/Frag4//train/filtrations/4/RadialFiltration_51_25/features.npy\n",
      "Fitting filtration 47/72: 4/RadialFiltration_51_38\n",
      "FiltrationExtractor: processing ./fragments/Frag4//train/filtrations/4/RadialFiltration_51_38, do_fit = True, filtration = RadialFiltration(center=array([51, 38]), n_jobs=-1)\n"
     ]
    },
    {
     "name": "stderr",
     "output_type": "stream",
     "text": [
      "d:\\Programs\\Programming\\Python\\lib\\site-packages\\joblib\\externals\\loky\\process_executor.py:752: UserWarning: A worker stopped while some jobs were given to the executor. This can be caused by a too short worker timeout or by a memory leak.\n",
      "  warnings.warn(\n"
     ]
    },
    {
     "name": "stdout",
     "output_type": "stream",
     "text": [
      "Saving the result to ././fragments/Frag4//train/filtrations/4/RadialFiltration_51_38/diagrams.npy\n",
      "Applying Scaler to persistence diagrams.\n",
      "DiagramVectorizer: fitting complete\n"
     ]
    },
    {
     "name": "stderr",
     "output_type": "stream",
     "text": [
      "DiagramVectorizer: batch: 100%|██████████| 20/20 [00:03<00:00,  6.23it/s]\n"
     ]
    },
    {
     "name": "stdout",
     "output_type": "stream",
     "text": [
      "Saving the result to ././fragments/Frag4//train/filtrations/4/RadialFiltration_51_38/features.npy\n",
      "Fitting filtration 48/72: 4/RadialFiltration_51_51\n",
      "FiltrationExtractor: processing ./fragments/Frag4//train/filtrations/4/RadialFiltration_51_51, do_fit = True, filtration = RadialFiltration(center=array([51, 51]), n_jobs=-1)\n"
     ]
    },
    {
     "name": "stderr",
     "output_type": "stream",
     "text": [
      "d:\\Programs\\Programming\\Python\\lib\\site-packages\\joblib\\externals\\loky\\process_executor.py:752: UserWarning: A worker stopped while some jobs were given to the executor. This can be caused by a too short worker timeout or by a memory leak.\n",
      "  warnings.warn(\n"
     ]
    },
    {
     "name": "stdout",
     "output_type": "stream",
     "text": [
      "Saving the result to ././fragments/Frag4//train/filtrations/4/RadialFiltration_51_51/diagrams.npy\n",
      "Applying Scaler to persistence diagrams.\n",
      "DiagramVectorizer: fitting complete\n"
     ]
    },
    {
     "name": "stderr",
     "output_type": "stream",
     "text": [
      "DiagramVectorizer: batch: 100%|██████████| 20/20 [00:03<00:00,  5.97it/s]\n"
     ]
    },
    {
     "name": "stdout",
     "output_type": "stream",
     "text": [
      "Saving the result to ././fragments/Frag4//train/filtrations/4/RadialFiltration_51_51/features.npy\n",
      "Fitting filtration 49/72: 6/HeightFiltrartion_-1_-1\n",
      "FiltrationExtractor: processing ./fragments/Frag4//train/filtrations/6/HeightFiltrartion_-1_-1, do_fit = True, filtration = HeightFiltration(direction=array([-1, -1]), n_jobs=-1)\n"
     ]
    },
    {
     "name": "stderr",
     "output_type": "stream",
     "text": [
      "d:\\Programs\\Programming\\Python\\lib\\site-packages\\joblib\\externals\\loky\\process_executor.py:752: UserWarning: A worker stopped while some jobs were given to the executor. This can be caused by a too short worker timeout or by a memory leak.\n",
      "  warnings.warn(\n"
     ]
    },
    {
     "name": "stdout",
     "output_type": "stream",
     "text": [
      "Saving the result to ././fragments/Frag4//train/filtrations/6/HeightFiltrartion_-1_-1/diagrams.npy\n",
      "Applying Scaler to persistence diagrams.\n",
      "DiagramVectorizer: fitting complete\n"
     ]
    },
    {
     "name": "stderr",
     "output_type": "stream",
     "text": [
      "DiagramVectorizer: batch: 100%|██████████| 20/20 [00:03<00:00,  5.66it/s]\n"
     ]
    },
    {
     "name": "stdout",
     "output_type": "stream",
     "text": [
      "Saving the result to ././fragments/Frag4//train/filtrations/6/HeightFiltrartion_-1_-1/features.npy\n",
      "Fitting filtration 50/72: 6/HeightFiltrartion_1_1\n",
      "FiltrationExtractor: processing ./fragments/Frag4//train/filtrations/6/HeightFiltrartion_1_1, do_fit = True, filtration = HeightFiltration(direction=array([1, 1]), n_jobs=-1)\n"
     ]
    },
    {
     "name": "stderr",
     "output_type": "stream",
     "text": [
      "d:\\Programs\\Programming\\Python\\lib\\site-packages\\joblib\\externals\\loky\\process_executor.py:752: UserWarning: A worker stopped while some jobs were given to the executor. This can be caused by a too short worker timeout or by a memory leak.\n",
      "  warnings.warn(\n"
     ]
    },
    {
     "name": "stdout",
     "output_type": "stream",
     "text": [
      "Saving the result to ././fragments/Frag4//train/filtrations/6/HeightFiltrartion_1_1/diagrams.npy\n",
      "Applying Scaler to persistence diagrams.\n",
      "DiagramVectorizer: fitting complete\n"
     ]
    },
    {
     "name": "stderr",
     "output_type": "stream",
     "text": [
      "DiagramVectorizer: batch: 100%|██████████| 20/20 [00:04<00:00,  4.76it/s]\n"
     ]
    },
    {
     "name": "stdout",
     "output_type": "stream",
     "text": [
      "Saving the result to ././fragments/Frag4//train/filtrations/6/HeightFiltrartion_1_1/features.npy\n",
      "Fitting filtration 51/72: 6/HeightFiltrartion_1_-1\n",
      "FiltrationExtractor: processing ./fragments/Frag4//train/filtrations/6/HeightFiltrartion_1_-1, do_fit = True, filtration = HeightFiltration(direction=array([ 1, -1]), n_jobs=-1)\n"
     ]
    },
    {
     "name": "stderr",
     "output_type": "stream",
     "text": [
      "d:\\Programs\\Programming\\Python\\lib\\site-packages\\joblib\\externals\\loky\\process_executor.py:752: UserWarning: A worker stopped while some jobs were given to the executor. This can be caused by a too short worker timeout or by a memory leak.\n",
      "  warnings.warn(\n"
     ]
    },
    {
     "name": "stdout",
     "output_type": "stream",
     "text": [
      "Saving the result to ././fragments/Frag4//train/filtrations/6/HeightFiltrartion_1_-1/diagrams.npy\n",
      "Applying Scaler to persistence diagrams.\n",
      "DiagramVectorizer: fitting complete\n"
     ]
    },
    {
     "name": "stderr",
     "output_type": "stream",
     "text": [
      "DiagramVectorizer: batch: 100%|██████████| 20/20 [00:03<00:00,  5.04it/s]\n"
     ]
    },
    {
     "name": "stdout",
     "output_type": "stream",
     "text": [
      "Saving the result to ././fragments/Frag4//train/filtrations/6/HeightFiltrartion_1_-1/features.npy\n",
      "Fitting filtration 52/72: 6/HeightFiltrartion_-1_1\n",
      "FiltrationExtractor: processing ./fragments/Frag4//train/filtrations/6/HeightFiltrartion_-1_1, do_fit = True, filtration = HeightFiltration(direction=array([-1,  1]), n_jobs=-1)\n"
     ]
    },
    {
     "name": "stderr",
     "output_type": "stream",
     "text": [
      "d:\\Programs\\Programming\\Python\\lib\\site-packages\\joblib\\externals\\loky\\process_executor.py:752: UserWarning: A worker stopped while some jobs were given to the executor. This can be caused by a too short worker timeout or by a memory leak.\n",
      "  warnings.warn(\n"
     ]
    },
    {
     "name": "stdout",
     "output_type": "stream",
     "text": [
      "Saving the result to ././fragments/Frag4//train/filtrations/6/HeightFiltrartion_-1_1/diagrams.npy\n",
      "Applying Scaler to persistence diagrams.\n",
      "DiagramVectorizer: fitting complete\n"
     ]
    },
    {
     "name": "stderr",
     "output_type": "stream",
     "text": [
      "DiagramVectorizer: batch: 100%|██████████| 20/20 [00:04<00:00,  4.58it/s]\n"
     ]
    },
    {
     "name": "stdout",
     "output_type": "stream",
     "text": [
      "Saving the result to ././fragments/Frag4//train/filtrations/6/HeightFiltrartion_-1_1/features.npy\n",
      "Fitting filtration 53/72: 6/HeightFiltrartion_0_-1\n",
      "FiltrationExtractor: processing ./fragments/Frag4//train/filtrations/6/HeightFiltrartion_0_-1, do_fit = True, filtration = HeightFiltration(direction=array([ 0, -1]), n_jobs=-1)\n"
     ]
    },
    {
     "name": "stderr",
     "output_type": "stream",
     "text": [
      "d:\\Programs\\Programming\\Python\\lib\\site-packages\\joblib\\externals\\loky\\process_executor.py:752: UserWarning: A worker stopped while some jobs were given to the executor. This can be caused by a too short worker timeout or by a memory leak.\n",
      "  warnings.warn(\n"
     ]
    },
    {
     "name": "stdout",
     "output_type": "stream",
     "text": [
      "Saving the result to ././fragments/Frag4//train/filtrations/6/HeightFiltrartion_0_-1/diagrams.npy\n",
      "Applying Scaler to persistence diagrams.\n",
      "DiagramVectorizer: fitting complete\n"
     ]
    },
    {
     "name": "stderr",
     "output_type": "stream",
     "text": [
      "DiagramVectorizer: batch: 100%|██████████| 20/20 [00:04<00:00,  4.23it/s]\n"
     ]
    },
    {
     "name": "stdout",
     "output_type": "stream",
     "text": [
      "Saving the result to ././fragments/Frag4//train/filtrations/6/HeightFiltrartion_0_-1/features.npy\n",
      "Fitting filtration 54/72: 6/HeightFiltrartion_0_1\n",
      "FiltrationExtractor: processing ./fragments/Frag4//train/filtrations/6/HeightFiltrartion_0_1, do_fit = True, filtration = HeightFiltration(direction=array([0, 1]), n_jobs=-1)\n"
     ]
    },
    {
     "name": "stderr",
     "output_type": "stream",
     "text": [
      "d:\\Programs\\Programming\\Python\\lib\\site-packages\\joblib\\externals\\loky\\process_executor.py:752: UserWarning: A worker stopped while some jobs were given to the executor. This can be caused by a too short worker timeout or by a memory leak.\n",
      "  warnings.warn(\n"
     ]
    },
    {
     "name": "stdout",
     "output_type": "stream",
     "text": [
      "Saving the result to ././fragments/Frag4//train/filtrations/6/HeightFiltrartion_0_1/diagrams.npy\n",
      "Applying Scaler to persistence diagrams.\n",
      "DiagramVectorizer: fitting complete\n"
     ]
    },
    {
     "name": "stderr",
     "output_type": "stream",
     "text": [
      "DiagramVectorizer: batch: 100%|██████████| 20/20 [00:04<00:00,  4.68it/s]\n"
     ]
    },
    {
     "name": "stdout",
     "output_type": "stream",
     "text": [
      "Saving the result to ././fragments/Frag4//train/filtrations/6/HeightFiltrartion_0_1/features.npy\n",
      "Fitting filtration 55/72: 6/HeightFiltrartion_-1_0\n",
      "FiltrationExtractor: processing ./fragments/Frag4//train/filtrations/6/HeightFiltrartion_-1_0, do_fit = True, filtration = HeightFiltration(direction=array([-1,  0]), n_jobs=-1)\n"
     ]
    },
    {
     "name": "stderr",
     "output_type": "stream",
     "text": [
      "d:\\Programs\\Programming\\Python\\lib\\site-packages\\joblib\\externals\\loky\\process_executor.py:752: UserWarning: A worker stopped while some jobs were given to the executor. This can be caused by a too short worker timeout or by a memory leak.\n",
      "  warnings.warn(\n"
     ]
    },
    {
     "name": "stdout",
     "output_type": "stream",
     "text": [
      "Saving the result to ././fragments/Frag4//train/filtrations/6/HeightFiltrartion_-1_0/diagrams.npy\n",
      "Applying Scaler to persistence diagrams.\n",
      "DiagramVectorizer: fitting complete\n"
     ]
    },
    {
     "name": "stderr",
     "output_type": "stream",
     "text": [
      "DiagramVectorizer: batch: 100%|██████████| 20/20 [00:03<00:00,  5.73it/s]\n"
     ]
    },
    {
     "name": "stdout",
     "output_type": "stream",
     "text": [
      "Saving the result to ././fragments/Frag4//train/filtrations/6/HeightFiltrartion_-1_0/features.npy\n",
      "Fitting filtration 56/72: 6/HeightFiltrartion_1_0\n",
      "FiltrationExtractor: processing ./fragments/Frag4//train/filtrations/6/HeightFiltrartion_1_0, do_fit = True, filtration = HeightFiltration(direction=array([1, 0]), n_jobs=-1)\n"
     ]
    },
    {
     "name": "stderr",
     "output_type": "stream",
     "text": [
      "d:\\Programs\\Programming\\Python\\lib\\site-packages\\joblib\\externals\\loky\\process_executor.py:752: UserWarning: A worker stopped while some jobs were given to the executor. This can be caused by a too short worker timeout or by a memory leak.\n",
      "  warnings.warn(\n"
     ]
    },
    {
     "name": "stdout",
     "output_type": "stream",
     "text": [
      "Saving the result to ././fragments/Frag4//train/filtrations/6/HeightFiltrartion_1_0/diagrams.npy\n",
      "Applying Scaler to persistence diagrams.\n",
      "DiagramVectorizer: fitting complete\n"
     ]
    },
    {
     "name": "stderr",
     "output_type": "stream",
     "text": [
      "DiagramVectorizer: batch: 100%|██████████| 20/20 [00:04<00:00,  4.66it/s]\n"
     ]
    },
    {
     "name": "stdout",
     "output_type": "stream",
     "text": [
      "Saving the result to ././fragments/Frag4//train/filtrations/6/HeightFiltrartion_1_0/features.npy\n",
      "Fitting filtration 57/72: 6/RadialFiltration_12_12\n",
      "FiltrationExtractor: processing ./fragments/Frag4//train/filtrations/6/RadialFiltration_12_12, do_fit = True, filtration = RadialFiltration(center=array([12, 12]), n_jobs=-1)\n"
     ]
    },
    {
     "name": "stderr",
     "output_type": "stream",
     "text": [
      "d:\\Programs\\Programming\\Python\\lib\\site-packages\\joblib\\externals\\loky\\process_executor.py:752: UserWarning: A worker stopped while some jobs were given to the executor. This can be caused by a too short worker timeout or by a memory leak.\n",
      "  warnings.warn(\n"
     ]
    },
    {
     "name": "stdout",
     "output_type": "stream",
     "text": [
      "Saving the result to ././fragments/Frag4//train/filtrations/6/RadialFiltration_12_12/diagrams.npy\n",
      "Applying Scaler to persistence diagrams.\n",
      "DiagramVectorizer: fitting complete\n"
     ]
    },
    {
     "name": "stderr",
     "output_type": "stream",
     "text": [
      "DiagramVectorizer: batch: 100%|██████████| 20/20 [00:04<00:00,  4.36it/s]\n"
     ]
    },
    {
     "name": "stdout",
     "output_type": "stream",
     "text": [
      "Saving the result to ././fragments/Frag4//train/filtrations/6/RadialFiltration_12_12/features.npy\n",
      "Fitting filtration 58/72: 6/RadialFiltration_12_25\n",
      "FiltrationExtractor: processing ./fragments/Frag4//train/filtrations/6/RadialFiltration_12_25, do_fit = True, filtration = RadialFiltration(center=array([12, 25]), n_jobs=-1)\n"
     ]
    },
    {
     "name": "stderr",
     "output_type": "stream",
     "text": [
      "d:\\Programs\\Programming\\Python\\lib\\site-packages\\joblib\\externals\\loky\\process_executor.py:752: UserWarning: A worker stopped while some jobs were given to the executor. This can be caused by a too short worker timeout or by a memory leak.\n",
      "  warnings.warn(\n"
     ]
    },
    {
     "name": "stdout",
     "output_type": "stream",
     "text": [
      "Saving the result to ././fragments/Frag4//train/filtrations/6/RadialFiltration_12_25/diagrams.npy\n",
      "Applying Scaler to persistence diagrams.\n",
      "DiagramVectorizer: fitting complete\n"
     ]
    },
    {
     "name": "stderr",
     "output_type": "stream",
     "text": [
      "DiagramVectorizer: batch: 100%|██████████| 20/20 [00:03<00:00,  5.65it/s]\n"
     ]
    },
    {
     "name": "stdout",
     "output_type": "stream",
     "text": [
      "Saving the result to ././fragments/Frag4//train/filtrations/6/RadialFiltration_12_25/features.npy\n",
      "Fitting filtration 59/72: 6/RadialFiltration_12_38\n",
      "FiltrationExtractor: processing ./fragments/Frag4//train/filtrations/6/RadialFiltration_12_38, do_fit = True, filtration = RadialFiltration(center=array([12, 38]), n_jobs=-1)\n"
     ]
    },
    {
     "name": "stderr",
     "output_type": "stream",
     "text": [
      "d:\\Programs\\Programming\\Python\\lib\\site-packages\\joblib\\externals\\loky\\process_executor.py:752: UserWarning: A worker stopped while some jobs were given to the executor. This can be caused by a too short worker timeout or by a memory leak.\n",
      "  warnings.warn(\n"
     ]
    },
    {
     "name": "stdout",
     "output_type": "stream",
     "text": [
      "Saving the result to ././fragments/Frag4//train/filtrations/6/RadialFiltration_12_38/diagrams.npy\n",
      "Applying Scaler to persistence diagrams.\n",
      "DiagramVectorizer: fitting complete\n"
     ]
    },
    {
     "name": "stderr",
     "output_type": "stream",
     "text": [
      "DiagramVectorizer: batch: 100%|██████████| 20/20 [00:04<00:00,  4.98it/s]\n"
     ]
    },
    {
     "name": "stdout",
     "output_type": "stream",
     "text": [
      "Saving the result to ././fragments/Frag4//train/filtrations/6/RadialFiltration_12_38/features.npy\n",
      "Fitting filtration 60/72: 6/RadialFiltration_12_51\n",
      "FiltrationExtractor: processing ./fragments/Frag4//train/filtrations/6/RadialFiltration_12_51, do_fit = True, filtration = RadialFiltration(center=array([12, 51]), n_jobs=-1)\n"
     ]
    },
    {
     "name": "stderr",
     "output_type": "stream",
     "text": [
      "d:\\Programs\\Programming\\Python\\lib\\site-packages\\joblib\\externals\\loky\\process_executor.py:752: UserWarning: A worker stopped while some jobs were given to the executor. This can be caused by a too short worker timeout or by a memory leak.\n",
      "  warnings.warn(\n"
     ]
    },
    {
     "name": "stdout",
     "output_type": "stream",
     "text": [
      "Saving the result to ././fragments/Frag4//train/filtrations/6/RadialFiltration_12_51/diagrams.npy\n",
      "Applying Scaler to persistence diagrams.\n",
      "DiagramVectorizer: fitting complete\n"
     ]
    },
    {
     "name": "stderr",
     "output_type": "stream",
     "text": [
      "DiagramVectorizer: batch: 100%|██████████| 20/20 [00:03<00:00,  5.55it/s]\n"
     ]
    },
    {
     "name": "stdout",
     "output_type": "stream",
     "text": [
      "Saving the result to ././fragments/Frag4//train/filtrations/6/RadialFiltration_12_51/features.npy\n",
      "Fitting filtration 61/72: 6/RadialFiltration_25_12\n",
      "FiltrationExtractor: processing ./fragments/Frag4//train/filtrations/6/RadialFiltration_25_12, do_fit = True, filtration = RadialFiltration(center=array([25, 12]), n_jobs=-1)\n"
     ]
    },
    {
     "name": "stderr",
     "output_type": "stream",
     "text": [
      "d:\\Programs\\Programming\\Python\\lib\\site-packages\\joblib\\externals\\loky\\process_executor.py:752: UserWarning: A worker stopped while some jobs were given to the executor. This can be caused by a too short worker timeout or by a memory leak.\n",
      "  warnings.warn(\n"
     ]
    },
    {
     "name": "stdout",
     "output_type": "stream",
     "text": [
      "Saving the result to ././fragments/Frag4//train/filtrations/6/RadialFiltration_25_12/diagrams.npy\n",
      "Applying Scaler to persistence diagrams.\n",
      "DiagramVectorizer: fitting complete\n"
     ]
    },
    {
     "name": "stderr",
     "output_type": "stream",
     "text": [
      "DiagramVectorizer: batch: 100%|██████████| 20/20 [00:04<00:00,  4.29it/s]\n"
     ]
    },
    {
     "name": "stdout",
     "output_type": "stream",
     "text": [
      "Saving the result to ././fragments/Frag4//train/filtrations/6/RadialFiltration_25_12/features.npy\n",
      "Fitting filtration 62/72: 6/RadialFiltration_25_25\n",
      "FiltrationExtractor: processing ./fragments/Frag4//train/filtrations/6/RadialFiltration_25_25, do_fit = True, filtration = RadialFiltration(center=array([25, 25]), n_jobs=-1)\n"
     ]
    },
    {
     "name": "stderr",
     "output_type": "stream",
     "text": [
      "d:\\Programs\\Programming\\Python\\lib\\site-packages\\joblib\\externals\\loky\\process_executor.py:752: UserWarning: A worker stopped while some jobs were given to the executor. This can be caused by a too short worker timeout or by a memory leak.\n",
      "  warnings.warn(\n"
     ]
    },
    {
     "name": "stdout",
     "output_type": "stream",
     "text": [
      "Saving the result to ././fragments/Frag4//train/filtrations/6/RadialFiltration_25_25/diagrams.npy\n",
      "Applying Scaler to persistence diagrams.\n",
      "DiagramVectorizer: fitting complete\n"
     ]
    },
    {
     "name": "stderr",
     "output_type": "stream",
     "text": [
      "DiagramVectorizer: batch: 100%|██████████| 20/20 [00:04<00:00,  4.95it/s]\n"
     ]
    },
    {
     "name": "stdout",
     "output_type": "stream",
     "text": [
      "Saving the result to ././fragments/Frag4//train/filtrations/6/RadialFiltration_25_25/features.npy\n",
      "Fitting filtration 63/72: 6/RadialFiltration_25_38\n",
      "FiltrationExtractor: processing ./fragments/Frag4//train/filtrations/6/RadialFiltration_25_38, do_fit = True, filtration = RadialFiltration(center=array([25, 38]), n_jobs=-1)\n"
     ]
    },
    {
     "name": "stderr",
     "output_type": "stream",
     "text": [
      "d:\\Programs\\Programming\\Python\\lib\\site-packages\\joblib\\externals\\loky\\process_executor.py:752: UserWarning: A worker stopped while some jobs were given to the executor. This can be caused by a too short worker timeout or by a memory leak.\n",
      "  warnings.warn(\n"
     ]
    },
    {
     "name": "stdout",
     "output_type": "stream",
     "text": [
      "Saving the result to ././fragments/Frag4//train/filtrations/6/RadialFiltration_25_38/diagrams.npy\n",
      "Applying Scaler to persistence diagrams.\n",
      "DiagramVectorizer: fitting complete\n"
     ]
    },
    {
     "name": "stderr",
     "output_type": "stream",
     "text": [
      "DiagramVectorizer: batch: 100%|██████████| 20/20 [00:04<00:00,  4.68it/s]\n"
     ]
    },
    {
     "name": "stdout",
     "output_type": "stream",
     "text": [
      "Saving the result to ././fragments/Frag4//train/filtrations/6/RadialFiltration_25_38/features.npy\n",
      "Fitting filtration 64/72: 6/RadialFiltration_25_51\n",
      "FiltrationExtractor: processing ./fragments/Frag4//train/filtrations/6/RadialFiltration_25_51, do_fit = True, filtration = RadialFiltration(center=array([25, 51]), n_jobs=-1)\n"
     ]
    },
    {
     "name": "stderr",
     "output_type": "stream",
     "text": [
      "d:\\Programs\\Programming\\Python\\lib\\site-packages\\joblib\\externals\\loky\\process_executor.py:752: UserWarning: A worker stopped while some jobs were given to the executor. This can be caused by a too short worker timeout or by a memory leak.\n",
      "  warnings.warn(\n"
     ]
    },
    {
     "name": "stdout",
     "output_type": "stream",
     "text": [
      "Saving the result to ././fragments/Frag4//train/filtrations/6/RadialFiltration_25_51/diagrams.npy\n",
      "Applying Scaler to persistence diagrams.\n",
      "DiagramVectorizer: fitting complete\n"
     ]
    },
    {
     "name": "stderr",
     "output_type": "stream",
     "text": [
      "DiagramVectorizer: batch: 100%|██████████| 20/20 [00:03<00:00,  5.04it/s]\n"
     ]
    },
    {
     "name": "stdout",
     "output_type": "stream",
     "text": [
      "Saving the result to ././fragments/Frag4//train/filtrations/6/RadialFiltration_25_51/features.npy\n",
      "Fitting filtration 65/72: 6/RadialFiltration_38_12\n",
      "FiltrationExtractor: processing ./fragments/Frag4//train/filtrations/6/RadialFiltration_38_12, do_fit = True, filtration = RadialFiltration(center=array([38, 12]), n_jobs=-1)\n"
     ]
    },
    {
     "name": "stderr",
     "output_type": "stream",
     "text": [
      "d:\\Programs\\Programming\\Python\\lib\\site-packages\\joblib\\externals\\loky\\process_executor.py:752: UserWarning: A worker stopped while some jobs were given to the executor. This can be caused by a too short worker timeout or by a memory leak.\n",
      "  warnings.warn(\n"
     ]
    },
    {
     "name": "stdout",
     "output_type": "stream",
     "text": [
      "Saving the result to ././fragments/Frag4//train/filtrations/6/RadialFiltration_38_12/diagrams.npy\n",
      "Applying Scaler to persistence diagrams.\n",
      "DiagramVectorizer: fitting complete\n"
     ]
    },
    {
     "name": "stderr",
     "output_type": "stream",
     "text": [
      "DiagramVectorizer: batch: 100%|██████████| 20/20 [00:03<00:00,  5.13it/s]\n"
     ]
    },
    {
     "name": "stdout",
     "output_type": "stream",
     "text": [
      "Saving the result to ././fragments/Frag4//train/filtrations/6/RadialFiltration_38_12/features.npy\n",
      "Fitting filtration 66/72: 6/RadialFiltration_38_25\n",
      "FiltrationExtractor: processing ./fragments/Frag4//train/filtrations/6/RadialFiltration_38_25, do_fit = True, filtration = RadialFiltration(center=array([38, 25]), n_jobs=-1)\n"
     ]
    },
    {
     "name": "stderr",
     "output_type": "stream",
     "text": [
      "d:\\Programs\\Programming\\Python\\lib\\site-packages\\joblib\\externals\\loky\\process_executor.py:752: UserWarning: A worker stopped while some jobs were given to the executor. This can be caused by a too short worker timeout or by a memory leak.\n",
      "  warnings.warn(\n"
     ]
    },
    {
     "name": "stdout",
     "output_type": "stream",
     "text": [
      "Saving the result to ././fragments/Frag4//train/filtrations/6/RadialFiltration_38_25/diagrams.npy\n",
      "Applying Scaler to persistence diagrams.\n",
      "DiagramVectorizer: fitting complete\n"
     ]
    },
    {
     "name": "stderr",
     "output_type": "stream",
     "text": [
      "DiagramVectorizer: batch: 100%|██████████| 20/20 [00:03<00:00,  5.30it/s]\n"
     ]
    },
    {
     "name": "stdout",
     "output_type": "stream",
     "text": [
      "Saving the result to ././fragments/Frag4//train/filtrations/6/RadialFiltration_38_25/features.npy\n",
      "Fitting filtration 67/72: 6/RadialFiltration_38_38\n",
      "FiltrationExtractor: processing ./fragments/Frag4//train/filtrations/6/RadialFiltration_38_38, do_fit = True, filtration = RadialFiltration(center=array([38, 38]), n_jobs=-1)\n"
     ]
    },
    {
     "name": "stderr",
     "output_type": "stream",
     "text": [
      "d:\\Programs\\Programming\\Python\\lib\\site-packages\\joblib\\externals\\loky\\process_executor.py:752: UserWarning: A worker stopped while some jobs were given to the executor. This can be caused by a too short worker timeout or by a memory leak.\n",
      "  warnings.warn(\n"
     ]
    },
    {
     "name": "stdout",
     "output_type": "stream",
     "text": [
      "Saving the result to ././fragments/Frag4//train/filtrations/6/RadialFiltration_38_38/diagrams.npy\n",
      "Applying Scaler to persistence diagrams.\n",
      "DiagramVectorizer: fitting complete\n"
     ]
    },
    {
     "name": "stderr",
     "output_type": "stream",
     "text": [
      "DiagramVectorizer: batch: 100%|██████████| 20/20 [00:03<00:00,  5.72it/s]\n"
     ]
    },
    {
     "name": "stdout",
     "output_type": "stream",
     "text": [
      "Saving the result to ././fragments/Frag4//train/filtrations/6/RadialFiltration_38_38/features.npy\n",
      "Fitting filtration 68/72: 6/RadialFiltration_38_51\n",
      "FiltrationExtractor: processing ./fragments/Frag4//train/filtrations/6/RadialFiltration_38_51, do_fit = True, filtration = RadialFiltration(center=array([38, 51]), n_jobs=-1)\n"
     ]
    },
    {
     "name": "stderr",
     "output_type": "stream",
     "text": [
      "d:\\Programs\\Programming\\Python\\lib\\site-packages\\joblib\\externals\\loky\\process_executor.py:752: UserWarning: A worker stopped while some jobs were given to the executor. This can be caused by a too short worker timeout or by a memory leak.\n",
      "  warnings.warn(\n"
     ]
    },
    {
     "name": "stdout",
     "output_type": "stream",
     "text": [
      "Saving the result to ././fragments/Frag4//train/filtrations/6/RadialFiltration_38_51/diagrams.npy\n",
      "Applying Scaler to persistence diagrams.\n",
      "DiagramVectorizer: fitting complete\n"
     ]
    },
    {
     "name": "stderr",
     "output_type": "stream",
     "text": [
      "DiagramVectorizer: batch: 100%|██████████| 20/20 [00:04<00:00,  4.70it/s]\n"
     ]
    },
    {
     "name": "stdout",
     "output_type": "stream",
     "text": [
      "Saving the result to ././fragments/Frag4//train/filtrations/6/RadialFiltration_38_51/features.npy\n",
      "Fitting filtration 69/72: 6/RadialFiltration_51_12\n",
      "FiltrationExtractor: processing ./fragments/Frag4//train/filtrations/6/RadialFiltration_51_12, do_fit = True, filtration = RadialFiltration(center=array([51, 12]), n_jobs=-1)\n"
     ]
    },
    {
     "name": "stderr",
     "output_type": "stream",
     "text": [
      "d:\\Programs\\Programming\\Python\\lib\\site-packages\\joblib\\externals\\loky\\process_executor.py:752: UserWarning: A worker stopped while some jobs were given to the executor. This can be caused by a too short worker timeout or by a memory leak.\n",
      "  warnings.warn(\n"
     ]
    },
    {
     "name": "stdout",
     "output_type": "stream",
     "text": [
      "Saving the result to ././fragments/Frag4//train/filtrations/6/RadialFiltration_51_12/diagrams.npy\n",
      "Applying Scaler to persistence diagrams.\n",
      "DiagramVectorizer: fitting complete\n"
     ]
    },
    {
     "name": "stderr",
     "output_type": "stream",
     "text": [
      "DiagramVectorizer: batch: 100%|██████████| 20/20 [00:03<00:00,  5.41it/s]\n"
     ]
    },
    {
     "name": "stdout",
     "output_type": "stream",
     "text": [
      "Saving the result to ././fragments/Frag4//train/filtrations/6/RadialFiltration_51_12/features.npy\n",
      "Fitting filtration 70/72: 6/RadialFiltration_51_25\n",
      "FiltrationExtractor: processing ./fragments/Frag4//train/filtrations/6/RadialFiltration_51_25, do_fit = True, filtration = RadialFiltration(center=array([51, 25]), n_jobs=-1)\n"
     ]
    },
    {
     "name": "stderr",
     "output_type": "stream",
     "text": [
      "d:\\Programs\\Programming\\Python\\lib\\site-packages\\joblib\\externals\\loky\\process_executor.py:752: UserWarning: A worker stopped while some jobs were given to the executor. This can be caused by a too short worker timeout or by a memory leak.\n",
      "  warnings.warn(\n"
     ]
    },
    {
     "name": "stdout",
     "output_type": "stream",
     "text": [
      "Saving the result to ././fragments/Frag4//train/filtrations/6/RadialFiltration_51_25/diagrams.npy\n",
      "Applying Scaler to persistence diagrams.\n",
      "DiagramVectorizer: fitting complete\n"
     ]
    },
    {
     "name": "stderr",
     "output_type": "stream",
     "text": [
      "DiagramVectorizer: batch: 100%|██████████| 20/20 [00:03<00:00,  5.16it/s]\n"
     ]
    },
    {
     "name": "stdout",
     "output_type": "stream",
     "text": [
      "Saving the result to ././fragments/Frag4//train/filtrations/6/RadialFiltration_51_25/features.npy\n",
      "Fitting filtration 71/72: 6/RadialFiltration_51_38\n",
      "FiltrationExtractor: processing ./fragments/Frag4//train/filtrations/6/RadialFiltration_51_38, do_fit = True, filtration = RadialFiltration(center=array([51, 38]), n_jobs=-1)\n"
     ]
    },
    {
     "name": "stderr",
     "output_type": "stream",
     "text": [
      "d:\\Programs\\Programming\\Python\\lib\\site-packages\\joblib\\externals\\loky\\process_executor.py:752: UserWarning: A worker stopped while some jobs were given to the executor. This can be caused by a too short worker timeout or by a memory leak.\n",
      "  warnings.warn(\n"
     ]
    },
    {
     "name": "stdout",
     "output_type": "stream",
     "text": [
      "Saving the result to ././fragments/Frag4//train/filtrations/6/RadialFiltration_51_38/diagrams.npy\n",
      "Applying Scaler to persistence diagrams.\n",
      "DiagramVectorizer: fitting complete\n"
     ]
    },
    {
     "name": "stderr",
     "output_type": "stream",
     "text": [
      "DiagramVectorizer: batch: 100%|██████████| 20/20 [00:03<00:00,  5.91it/s]\n"
     ]
    },
    {
     "name": "stdout",
     "output_type": "stream",
     "text": [
      "Saving the result to ././fragments/Frag4//train/filtrations/6/RadialFiltration_51_38/features.npy\n",
      "Fitting filtration 72/72: 6/RadialFiltration_51_51\n",
      "FiltrationExtractor: processing ./fragments/Frag4//train/filtrations/6/RadialFiltration_51_51, do_fit = True, filtration = RadialFiltration(center=array([51, 51]), n_jobs=-1)\n"
     ]
    },
    {
     "name": "stderr",
     "output_type": "stream",
     "text": [
      "d:\\Programs\\Programming\\Python\\lib\\site-packages\\joblib\\externals\\loky\\process_executor.py:752: UserWarning: A worker stopped while some jobs were given to the executor. This can be caused by a too short worker timeout or by a memory leak.\n",
      "  warnings.warn(\n"
     ]
    },
    {
     "name": "stdout",
     "output_type": "stream",
     "text": [
      "Saving the result to ././fragments/Frag4//train/filtrations/6/RadialFiltration_51_51/diagrams.npy\n",
      "Applying Scaler to persistence diagrams.\n",
      "DiagramVectorizer: fitting complete\n"
     ]
    },
    {
     "name": "stderr",
     "output_type": "stream",
     "text": [
      "DiagramVectorizer: batch: 100%|██████████| 20/20 [00:04<00:00,  4.59it/s]\n"
     ]
    },
    {
     "name": "stdout",
     "output_type": "stream",
     "text": [
      "Saving the result to ././fragments/Frag4//train/filtrations/6/RadialFiltration_51_51/features.npy\n",
      "Applying filtrations\n",
      "Applying filtration 1/72: 2/HeightFiltrartion_-1_-1\n",
      "FiltrationExtractor: processing ./fragments/Frag4//train/filtrations/2/HeightFiltrartion_-1_-1, do_fit = False, filtration = HeightFiltration(direction=array([-1, -1]), n_jobs=-1)\n"
     ]
    },
    {
     "name": "stderr",
     "output_type": "stream",
     "text": [
      "d:\\Programs\\Programming\\Python\\lib\\site-packages\\joblib\\externals\\loky\\process_executor.py:752: UserWarning: A worker stopped while some jobs were given to the executor. This can be caused by a too short worker timeout or by a memory leak.\n",
      "  warnings.warn(\n"
     ]
    },
    {
     "name": "stdout",
     "output_type": "stream",
     "text": [
      "Got the result from ././fragments/Frag4//train/filtrations/2/HeightFiltrartion_-1_-1/diagrams.npy\n",
      "Applying Scaler to persistence diagrams.\n",
      "Got the result from ././fragments/Frag4//train/filtrations/2/HeightFiltrartion_-1_-1/features.npy\n",
      "Applying filtration 2/72: 2/HeightFiltrartion_1_1\n",
      "FiltrationExtractor: processing ./fragments/Frag4//train/filtrations/2/HeightFiltrartion_1_1, do_fit = False, filtration = HeightFiltration(direction=array([1, 1]), n_jobs=-1)\n"
     ]
    },
    {
     "name": "stderr",
     "output_type": "stream",
     "text": [
      "d:\\Programs\\Programming\\Python\\lib\\site-packages\\gtda\\diagrams\\preprocessing.py:295: RuntimeWarning: invalid value encountered in divide\n",
      "  Xs[:, :, :2] /= self.scale_\n"
     ]
    },
    {
     "name": "stdout",
     "output_type": "stream",
     "text": [
      "Got the result from ././fragments/Frag4//train/filtrations/2/HeightFiltrartion_1_1/diagrams.npy\n",
      "Applying Scaler to persistence diagrams.\n",
      "Got the result from ././fragments/Frag4//train/filtrations/2/HeightFiltrartion_1_1/features.npy\n",
      "Applying filtration 3/72: 2/HeightFiltrartion_1_-1\n",
      "FiltrationExtractor: processing ./fragments/Frag4//train/filtrations/2/HeightFiltrartion_1_-1, do_fit = False, filtration = HeightFiltration(direction=array([ 1, -1]), n_jobs=-1)\n"
     ]
    },
    {
     "name": "stderr",
     "output_type": "stream",
     "text": [
      "d:\\Programs\\Programming\\Python\\lib\\site-packages\\gtda\\diagrams\\preprocessing.py:295: RuntimeWarning: invalid value encountered in divide\n",
      "  Xs[:, :, :2] /= self.scale_\n"
     ]
    },
    {
     "name": "stdout",
     "output_type": "stream",
     "text": [
      "Got the result from ././fragments/Frag4//train/filtrations/2/HeightFiltrartion_1_-1/diagrams.npy\n",
      "Applying Scaler to persistence diagrams.\n",
      "Got the result from ././fragments/Frag4//train/filtrations/2/HeightFiltrartion_1_-1/features.npy\n",
      "Applying filtration 4/72: 2/HeightFiltrartion_-1_1\n",
      "FiltrationExtractor: processing ./fragments/Frag4//train/filtrations/2/HeightFiltrartion_-1_1, do_fit = False, filtration = HeightFiltration(direction=array([-1,  1]), n_jobs=-1)\n"
     ]
    },
    {
     "name": "stderr",
     "output_type": "stream",
     "text": [
      "d:\\Programs\\Programming\\Python\\lib\\site-packages\\gtda\\diagrams\\preprocessing.py:295: RuntimeWarning: invalid value encountered in divide\n",
      "  Xs[:, :, :2] /= self.scale_\n"
     ]
    },
    {
     "name": "stdout",
     "output_type": "stream",
     "text": [
      "Got the result from ././fragments/Frag4//train/filtrations/2/HeightFiltrartion_-1_1/diagrams.npy\n",
      "Applying Scaler to persistence diagrams.\n",
      "Got the result from ././fragments/Frag4//train/filtrations/2/HeightFiltrartion_-1_1/features.npy\n",
      "Applying filtration 5/72: 2/HeightFiltrartion_0_-1\n",
      "FiltrationExtractor: processing ./fragments/Frag4//train/filtrations/2/HeightFiltrartion_0_-1, do_fit = False, filtration = HeightFiltration(direction=array([ 0, -1]), n_jobs=-1)\n"
     ]
    },
    {
     "name": "stderr",
     "output_type": "stream",
     "text": [
      "d:\\Programs\\Programming\\Python\\lib\\site-packages\\gtda\\diagrams\\preprocessing.py:295: RuntimeWarning: invalid value encountered in divide\n",
      "  Xs[:, :, :2] /= self.scale_\n"
     ]
    },
    {
     "name": "stdout",
     "output_type": "stream",
     "text": [
      "Got the result from ././fragments/Frag4//train/filtrations/2/HeightFiltrartion_0_-1/diagrams.npy\n",
      "Applying Scaler to persistence diagrams.\n",
      "Got the result from ././fragments/Frag4//train/filtrations/2/HeightFiltrartion_0_-1/features.npy\n",
      "Applying filtration 6/72: 2/HeightFiltrartion_0_1\n",
      "FiltrationExtractor: processing ./fragments/Frag4//train/filtrations/2/HeightFiltrartion_0_1, do_fit = False, filtration = HeightFiltration(direction=array([0, 1]), n_jobs=-1)\n"
     ]
    },
    {
     "name": "stderr",
     "output_type": "stream",
     "text": [
      "d:\\Programs\\Programming\\Python\\lib\\site-packages\\gtda\\diagrams\\preprocessing.py:295: RuntimeWarning: invalid value encountered in divide\n",
      "  Xs[:, :, :2] /= self.scale_\n"
     ]
    },
    {
     "name": "stdout",
     "output_type": "stream",
     "text": [
      "Got the result from ././fragments/Frag4//train/filtrations/2/HeightFiltrartion_0_1/diagrams.npy\n",
      "Applying Scaler to persistence diagrams.\n",
      "Got the result from ././fragments/Frag4//train/filtrations/2/HeightFiltrartion_0_1/features.npy\n",
      "Applying filtration 7/72: 2/HeightFiltrartion_-1_0\n",
      "FiltrationExtractor: processing ./fragments/Frag4//train/filtrations/2/HeightFiltrartion_-1_0, do_fit = False, filtration = HeightFiltration(direction=array([-1,  0]), n_jobs=-1)\n"
     ]
    },
    {
     "name": "stderr",
     "output_type": "stream",
     "text": [
      "d:\\Programs\\Programming\\Python\\lib\\site-packages\\gtda\\diagrams\\preprocessing.py:295: RuntimeWarning: invalid value encountered in divide\n",
      "  Xs[:, :, :2] /= self.scale_\n"
     ]
    },
    {
     "name": "stdout",
     "output_type": "stream",
     "text": [
      "Got the result from ././fragments/Frag4//train/filtrations/2/HeightFiltrartion_-1_0/diagrams.npy\n",
      "Applying Scaler to persistence diagrams.\n",
      "Got the result from ././fragments/Frag4//train/filtrations/2/HeightFiltrartion_-1_0/features.npy\n",
      "Applying filtration 8/72: 2/HeightFiltrartion_1_0\n",
      "FiltrationExtractor: processing ./fragments/Frag4//train/filtrations/2/HeightFiltrartion_1_0, do_fit = False, filtration = HeightFiltration(direction=array([1, 0]), n_jobs=-1)\n"
     ]
    },
    {
     "name": "stderr",
     "output_type": "stream",
     "text": [
      "d:\\Programs\\Programming\\Python\\lib\\site-packages\\gtda\\diagrams\\preprocessing.py:295: RuntimeWarning: invalid value encountered in divide\n",
      "  Xs[:, :, :2] /= self.scale_\n"
     ]
    },
    {
     "name": "stdout",
     "output_type": "stream",
     "text": [
      "Got the result from ././fragments/Frag4//train/filtrations/2/HeightFiltrartion_1_0/diagrams.npy\n",
      "Applying Scaler to persistence diagrams.\n",
      "Got the result from ././fragments/Frag4//train/filtrations/2/HeightFiltrartion_1_0/features.npy\n",
      "Applying filtration 9/72: 2/RadialFiltration_12_12\n",
      "FiltrationExtractor: processing ./fragments/Frag4//train/filtrations/2/RadialFiltration_12_12, do_fit = False, filtration = RadialFiltration(center=array([12, 12]), n_jobs=-1)\n"
     ]
    },
    {
     "name": "stderr",
     "output_type": "stream",
     "text": [
      "d:\\Programs\\Programming\\Python\\lib\\site-packages\\gtda\\diagrams\\preprocessing.py:295: RuntimeWarning: invalid value encountered in divide\n",
      "  Xs[:, :, :2] /= self.scale_\n"
     ]
    },
    {
     "name": "stdout",
     "output_type": "stream",
     "text": [
      "Got the result from ././fragments/Frag4//train/filtrations/2/RadialFiltration_12_12/diagrams.npy\n",
      "Applying Scaler to persistence diagrams.\n",
      "Got the result from ././fragments/Frag4//train/filtrations/2/RadialFiltration_12_12/features.npy\n",
      "Applying filtration 10/72: 2/RadialFiltration_12_25\n",
      "FiltrationExtractor: processing ./fragments/Frag4//train/filtrations/2/RadialFiltration_12_25, do_fit = False, filtration = RadialFiltration(center=array([12, 25]), n_jobs=-1)\n"
     ]
    },
    {
     "name": "stderr",
     "output_type": "stream",
     "text": [
      "d:\\Programs\\Programming\\Python\\lib\\site-packages\\gtda\\diagrams\\preprocessing.py:295: RuntimeWarning: invalid value encountered in divide\n",
      "  Xs[:, :, :2] /= self.scale_\n"
     ]
    },
    {
     "name": "stdout",
     "output_type": "stream",
     "text": [
      "Got the result from ././fragments/Frag4//train/filtrations/2/RadialFiltration_12_25/diagrams.npy\n",
      "Applying Scaler to persistence diagrams.\n",
      "Got the result from ././fragments/Frag4//train/filtrations/2/RadialFiltration_12_25/features.npy\n",
      "Applying filtration 11/72: 2/RadialFiltration_12_38\n",
      "FiltrationExtractor: processing ./fragments/Frag4//train/filtrations/2/RadialFiltration_12_38, do_fit = False, filtration = RadialFiltration(center=array([12, 38]), n_jobs=-1)\n"
     ]
    },
    {
     "name": "stderr",
     "output_type": "stream",
     "text": [
      "d:\\Programs\\Programming\\Python\\lib\\site-packages\\gtda\\diagrams\\preprocessing.py:295: RuntimeWarning: invalid value encountered in divide\n",
      "  Xs[:, :, :2] /= self.scale_\n"
     ]
    },
    {
     "name": "stdout",
     "output_type": "stream",
     "text": [
      "Got the result from ././fragments/Frag4//train/filtrations/2/RadialFiltration_12_38/diagrams.npy\n",
      "Applying Scaler to persistence diagrams.\n",
      "Got the result from ././fragments/Frag4//train/filtrations/2/RadialFiltration_12_38/features.npy\n",
      "Applying filtration 12/72: 2/RadialFiltration_12_51\n",
      "FiltrationExtractor: processing ./fragments/Frag4//train/filtrations/2/RadialFiltration_12_51, do_fit = False, filtration = RadialFiltration(center=array([12, 51]), n_jobs=-1)\n"
     ]
    },
    {
     "name": "stderr",
     "output_type": "stream",
     "text": [
      "d:\\Programs\\Programming\\Python\\lib\\site-packages\\gtda\\diagrams\\preprocessing.py:295: RuntimeWarning: invalid value encountered in divide\n",
      "  Xs[:, :, :2] /= self.scale_\n"
     ]
    },
    {
     "name": "stdout",
     "output_type": "stream",
     "text": [
      "Got the result from ././fragments/Frag4//train/filtrations/2/RadialFiltration_12_51/diagrams.npy\n",
      "Applying Scaler to persistence diagrams.\n",
      "Got the result from ././fragments/Frag4//train/filtrations/2/RadialFiltration_12_51/features.npy\n",
      "Applying filtration 13/72: 2/RadialFiltration_25_12\n",
      "FiltrationExtractor: processing ./fragments/Frag4//train/filtrations/2/RadialFiltration_25_12, do_fit = False, filtration = RadialFiltration(center=array([25, 12]), n_jobs=-1)\n"
     ]
    },
    {
     "name": "stderr",
     "output_type": "stream",
     "text": [
      "d:\\Programs\\Programming\\Python\\lib\\site-packages\\gtda\\diagrams\\preprocessing.py:295: RuntimeWarning: invalid value encountered in divide\n",
      "  Xs[:, :, :2] /= self.scale_\n"
     ]
    },
    {
     "name": "stdout",
     "output_type": "stream",
     "text": [
      "Got the result from ././fragments/Frag4//train/filtrations/2/RadialFiltration_25_12/diagrams.npy\n",
      "Applying Scaler to persistence diagrams.\n",
      "Got the result from ././fragments/Frag4//train/filtrations/2/RadialFiltration_25_12/features.npy\n",
      "Applying filtration 14/72: 2/RadialFiltration_25_25\n",
      "FiltrationExtractor: processing ./fragments/Frag4//train/filtrations/2/RadialFiltration_25_25, do_fit = False, filtration = RadialFiltration(center=array([25, 25]), n_jobs=-1)\n"
     ]
    },
    {
     "name": "stderr",
     "output_type": "stream",
     "text": [
      "d:\\Programs\\Programming\\Python\\lib\\site-packages\\gtda\\diagrams\\preprocessing.py:295: RuntimeWarning: invalid value encountered in divide\n",
      "  Xs[:, :, :2] /= self.scale_\n"
     ]
    },
    {
     "name": "stdout",
     "output_type": "stream",
     "text": [
      "Got the result from ././fragments/Frag4//train/filtrations/2/RadialFiltration_25_25/diagrams.npy\n",
      "Applying Scaler to persistence diagrams.\n",
      "Got the result from ././fragments/Frag4//train/filtrations/2/RadialFiltration_25_25/features.npy\n",
      "Applying filtration 15/72: 2/RadialFiltration_25_38\n",
      "FiltrationExtractor: processing ./fragments/Frag4//train/filtrations/2/RadialFiltration_25_38, do_fit = False, filtration = RadialFiltration(center=array([25, 38]), n_jobs=-1)\n"
     ]
    },
    {
     "name": "stderr",
     "output_type": "stream",
     "text": [
      "d:\\Programs\\Programming\\Python\\lib\\site-packages\\gtda\\diagrams\\preprocessing.py:295: RuntimeWarning: invalid value encountered in divide\n",
      "  Xs[:, :, :2] /= self.scale_\n"
     ]
    },
    {
     "name": "stdout",
     "output_type": "stream",
     "text": [
      "Got the result from ././fragments/Frag4//train/filtrations/2/RadialFiltration_25_38/diagrams.npy\n",
      "Applying Scaler to persistence diagrams.\n",
      "Got the result from ././fragments/Frag4//train/filtrations/2/RadialFiltration_25_38/features.npy\n",
      "Applying filtration 16/72: 2/RadialFiltration_25_51\n",
      "FiltrationExtractor: processing ./fragments/Frag4//train/filtrations/2/RadialFiltration_25_51, do_fit = False, filtration = RadialFiltration(center=array([25, 51]), n_jobs=-1)\n"
     ]
    },
    {
     "name": "stderr",
     "output_type": "stream",
     "text": [
      "d:\\Programs\\Programming\\Python\\lib\\site-packages\\gtda\\diagrams\\preprocessing.py:295: RuntimeWarning: invalid value encountered in divide\n",
      "  Xs[:, :, :2] /= self.scale_\n"
     ]
    },
    {
     "name": "stdout",
     "output_type": "stream",
     "text": [
      "Got the result from ././fragments/Frag4//train/filtrations/2/RadialFiltration_25_51/diagrams.npy\n",
      "Applying Scaler to persistence diagrams.\n",
      "Got the result from ././fragments/Frag4//train/filtrations/2/RadialFiltration_25_51/features.npy\n",
      "Applying filtration 17/72: 2/RadialFiltration_38_12\n",
      "FiltrationExtractor: processing ./fragments/Frag4//train/filtrations/2/RadialFiltration_38_12, do_fit = False, filtration = RadialFiltration(center=array([38, 12]), n_jobs=-1)\n"
     ]
    },
    {
     "name": "stderr",
     "output_type": "stream",
     "text": [
      "d:\\Programs\\Programming\\Python\\lib\\site-packages\\gtda\\diagrams\\preprocessing.py:295: RuntimeWarning: invalid value encountered in divide\n",
      "  Xs[:, :, :2] /= self.scale_\n"
     ]
    },
    {
     "name": "stdout",
     "output_type": "stream",
     "text": [
      "Got the result from ././fragments/Frag4//train/filtrations/2/RadialFiltration_38_12/diagrams.npy\n",
      "Applying Scaler to persistence diagrams.\n",
      "Got the result from ././fragments/Frag4//train/filtrations/2/RadialFiltration_38_12/features.npy\n",
      "Applying filtration 18/72: 2/RadialFiltration_38_25\n",
      "FiltrationExtractor: processing ./fragments/Frag4//train/filtrations/2/RadialFiltration_38_25, do_fit = False, filtration = RadialFiltration(center=array([38, 25]), n_jobs=-1)\n"
     ]
    },
    {
     "name": "stderr",
     "output_type": "stream",
     "text": [
      "d:\\Programs\\Programming\\Python\\lib\\site-packages\\gtda\\diagrams\\preprocessing.py:295: RuntimeWarning: invalid value encountered in divide\n",
      "  Xs[:, :, :2] /= self.scale_\n"
     ]
    },
    {
     "name": "stdout",
     "output_type": "stream",
     "text": [
      "Got the result from ././fragments/Frag4//train/filtrations/2/RadialFiltration_38_25/diagrams.npy\n",
      "Applying Scaler to persistence diagrams.\n",
      "Got the result from ././fragments/Frag4//train/filtrations/2/RadialFiltration_38_25/features.npy\n",
      "Applying filtration 19/72: 2/RadialFiltration_38_38\n",
      "FiltrationExtractor: processing ./fragments/Frag4//train/filtrations/2/RadialFiltration_38_38, do_fit = False, filtration = RadialFiltration(center=array([38, 38]), n_jobs=-1)\n"
     ]
    },
    {
     "name": "stderr",
     "output_type": "stream",
     "text": [
      "d:\\Programs\\Programming\\Python\\lib\\site-packages\\gtda\\diagrams\\preprocessing.py:295: RuntimeWarning: invalid value encountered in divide\n",
      "  Xs[:, :, :2] /= self.scale_\n"
     ]
    },
    {
     "name": "stdout",
     "output_type": "stream",
     "text": [
      "Got the result from ././fragments/Frag4//train/filtrations/2/RadialFiltration_38_38/diagrams.npy\n",
      "Applying Scaler to persistence diagrams.\n",
      "Got the result from ././fragments/Frag4//train/filtrations/2/RadialFiltration_38_38/features.npy\n",
      "Applying filtration 20/72: 2/RadialFiltration_38_51\n",
      "FiltrationExtractor: processing ./fragments/Frag4//train/filtrations/2/RadialFiltration_38_51, do_fit = False, filtration = RadialFiltration(center=array([38, 51]), n_jobs=-1)\n"
     ]
    },
    {
     "name": "stderr",
     "output_type": "stream",
     "text": [
      "d:\\Programs\\Programming\\Python\\lib\\site-packages\\gtda\\diagrams\\preprocessing.py:295: RuntimeWarning: invalid value encountered in divide\n",
      "  Xs[:, :, :2] /= self.scale_\n"
     ]
    },
    {
     "name": "stdout",
     "output_type": "stream",
     "text": [
      "Got the result from ././fragments/Frag4//train/filtrations/2/RadialFiltration_38_51/diagrams.npy\n",
      "Applying Scaler to persistence diagrams.\n",
      "Got the result from ././fragments/Frag4//train/filtrations/2/RadialFiltration_38_51/features.npy\n",
      "Applying filtration 21/72: 2/RadialFiltration_51_12\n",
      "FiltrationExtractor: processing ./fragments/Frag4//train/filtrations/2/RadialFiltration_51_12, do_fit = False, filtration = RadialFiltration(center=array([51, 12]), n_jobs=-1)\n"
     ]
    },
    {
     "name": "stderr",
     "output_type": "stream",
     "text": [
      "d:\\Programs\\Programming\\Python\\lib\\site-packages\\gtda\\diagrams\\preprocessing.py:295: RuntimeWarning: invalid value encountered in divide\n",
      "  Xs[:, :, :2] /= self.scale_\n"
     ]
    },
    {
     "name": "stdout",
     "output_type": "stream",
     "text": [
      "Got the result from ././fragments/Frag4//train/filtrations/2/RadialFiltration_51_12/diagrams.npy\n",
      "Applying Scaler to persistence diagrams.\n",
      "Got the result from ././fragments/Frag4//train/filtrations/2/RadialFiltration_51_12/features.npy\n",
      "Applying filtration 22/72: 2/RadialFiltration_51_25\n",
      "FiltrationExtractor: processing ./fragments/Frag4//train/filtrations/2/RadialFiltration_51_25, do_fit = False, filtration = RadialFiltration(center=array([51, 25]), n_jobs=-1)\n"
     ]
    },
    {
     "name": "stderr",
     "output_type": "stream",
     "text": [
      "d:\\Programs\\Programming\\Python\\lib\\site-packages\\gtda\\diagrams\\preprocessing.py:295: RuntimeWarning: invalid value encountered in divide\n",
      "  Xs[:, :, :2] /= self.scale_\n"
     ]
    },
    {
     "name": "stdout",
     "output_type": "stream",
     "text": [
      "Got the result from ././fragments/Frag4//train/filtrations/2/RadialFiltration_51_25/diagrams.npy\n",
      "Applying Scaler to persistence diagrams.\n",
      "Got the result from ././fragments/Frag4//train/filtrations/2/RadialFiltration_51_25/features.npy\n",
      "Applying filtration 23/72: 2/RadialFiltration_51_38\n",
      "FiltrationExtractor: processing ./fragments/Frag4//train/filtrations/2/RadialFiltration_51_38, do_fit = False, filtration = RadialFiltration(center=array([51, 38]), n_jobs=-1)\n"
     ]
    },
    {
     "name": "stderr",
     "output_type": "stream",
     "text": [
      "d:\\Programs\\Programming\\Python\\lib\\site-packages\\gtda\\diagrams\\preprocessing.py:295: RuntimeWarning: invalid value encountered in divide\n",
      "  Xs[:, :, :2] /= self.scale_\n"
     ]
    },
    {
     "name": "stdout",
     "output_type": "stream",
     "text": [
      "Got the result from ././fragments/Frag4//train/filtrations/2/RadialFiltration_51_38/diagrams.npy\n",
      "Applying Scaler to persistence diagrams.\n",
      "Got the result from ././fragments/Frag4//train/filtrations/2/RadialFiltration_51_38/features.npy\n",
      "Applying filtration 24/72: 2/RadialFiltration_51_51\n",
      "FiltrationExtractor: processing ./fragments/Frag4//train/filtrations/2/RadialFiltration_51_51, do_fit = False, filtration = RadialFiltration(center=array([51, 51]), n_jobs=-1)\n"
     ]
    },
    {
     "name": "stderr",
     "output_type": "stream",
     "text": [
      "d:\\Programs\\Programming\\Python\\lib\\site-packages\\gtda\\diagrams\\preprocessing.py:295: RuntimeWarning: invalid value encountered in divide\n",
      "  Xs[:, :, :2] /= self.scale_\n"
     ]
    },
    {
     "name": "stdout",
     "output_type": "stream",
     "text": [
      "Got the result from ././fragments/Frag4//train/filtrations/2/RadialFiltration_51_51/diagrams.npy\n",
      "Applying Scaler to persistence diagrams.\n",
      "Got the result from ././fragments/Frag4//train/filtrations/2/RadialFiltration_51_51/features.npy\n",
      "Applying filtration 25/72: 4/HeightFiltrartion_-1_-1\n",
      "FiltrationExtractor: processing ./fragments/Frag4//train/filtrations/4/HeightFiltrartion_-1_-1, do_fit = False, filtration = HeightFiltration(direction=array([-1, -1]), n_jobs=-1)\n"
     ]
    },
    {
     "name": "stderr",
     "output_type": "stream",
     "text": [
      "d:\\Programs\\Programming\\Python\\lib\\site-packages\\gtda\\diagrams\\preprocessing.py:295: RuntimeWarning: invalid value encountered in divide\n",
      "  Xs[:, :, :2] /= self.scale_\n"
     ]
    },
    {
     "name": "stdout",
     "output_type": "stream",
     "text": [
      "Got the result from ././fragments/Frag4//train/filtrations/4/HeightFiltrartion_-1_-1/diagrams.npy\n",
      "Applying Scaler to persistence diagrams.\n",
      "Got the result from ././fragments/Frag4//train/filtrations/4/HeightFiltrartion_-1_-1/features.npy\n",
      "Applying filtration 26/72: 4/HeightFiltrartion_1_1\n",
      "FiltrationExtractor: processing ./fragments/Frag4//train/filtrations/4/HeightFiltrartion_1_1, do_fit = False, filtration = HeightFiltration(direction=array([1, 1]), n_jobs=-1)\n",
      "Got the result from ././fragments/Frag4//train/filtrations/4/HeightFiltrartion_1_1/diagrams.npy\n",
      "Applying Scaler to persistence diagrams.\n",
      "Got the result from ././fragments/Frag4//train/filtrations/4/HeightFiltrartion_1_1/features.npy\n",
      "Applying filtration 27/72: 4/HeightFiltrartion_1_-1\n",
      "FiltrationExtractor: processing ./fragments/Frag4//train/filtrations/4/HeightFiltrartion_1_-1, do_fit = False, filtration = HeightFiltration(direction=array([ 1, -1]), n_jobs=-1)\n",
      "Got the result from ././fragments/Frag4//train/filtrations/4/HeightFiltrartion_1_-1/diagrams.npy\n",
      "Applying Scaler to persistence diagrams.\n",
      "Got the result from ././fragments/Frag4//train/filtrations/4/HeightFiltrartion_1_-1/features.npy\n",
      "Applying filtration 28/72: 4/HeightFiltrartion_-1_1\n",
      "FiltrationExtractor: processing ./fragments/Frag4//train/filtrations/4/HeightFiltrartion_-1_1, do_fit = False, filtration = HeightFiltration(direction=array([-1,  1]), n_jobs=-1)\n",
      "Got the result from ././fragments/Frag4//train/filtrations/4/HeightFiltrartion_-1_1/diagrams.npy\n",
      "Applying Scaler to persistence diagrams.\n",
      "Got the result from ././fragments/Frag4//train/filtrations/4/HeightFiltrartion_-1_1/features.npy\n",
      "Applying filtration 29/72: 4/HeightFiltrartion_0_-1\n",
      "FiltrationExtractor: processing ./fragments/Frag4//train/filtrations/4/HeightFiltrartion_0_-1, do_fit = False, filtration = HeightFiltration(direction=array([ 0, -1]), n_jobs=-1)\n",
      "Got the result from ././fragments/Frag4//train/filtrations/4/HeightFiltrartion_0_-1/diagrams.npy\n",
      "Applying Scaler to persistence diagrams.\n",
      "Got the result from ././fragments/Frag4//train/filtrations/4/HeightFiltrartion_0_-1/features.npy\n",
      "Applying filtration 30/72: 4/HeightFiltrartion_0_1\n",
      "FiltrationExtractor: processing ./fragments/Frag4//train/filtrations/4/HeightFiltrartion_0_1, do_fit = False, filtration = HeightFiltration(direction=array([0, 1]), n_jobs=-1)\n",
      "Got the result from ././fragments/Frag4//train/filtrations/4/HeightFiltrartion_0_1/diagrams.npy\n",
      "Applying Scaler to persistence diagrams.\n",
      "Got the result from ././fragments/Frag4//train/filtrations/4/HeightFiltrartion_0_1/features.npy\n",
      "Applying filtration 31/72: 4/HeightFiltrartion_-1_0\n",
      "FiltrationExtractor: processing ./fragments/Frag4//train/filtrations/4/HeightFiltrartion_-1_0, do_fit = False, filtration = HeightFiltration(direction=array([-1,  0]), n_jobs=-1)\n",
      "Got the result from ././fragments/Frag4//train/filtrations/4/HeightFiltrartion_-1_0/diagrams.npy\n",
      "Applying Scaler to persistence diagrams.\n",
      "Got the result from ././fragments/Frag4//train/filtrations/4/HeightFiltrartion_-1_0/features.npy\n",
      "Applying filtration 32/72: 4/HeightFiltrartion_1_0\n",
      "FiltrationExtractor: processing ./fragments/Frag4//train/filtrations/4/HeightFiltrartion_1_0, do_fit = False, filtration = HeightFiltration(direction=array([1, 0]), n_jobs=-1)\n",
      "Got the result from ././fragments/Frag4//train/filtrations/4/HeightFiltrartion_1_0/diagrams.npy\n",
      "Applying Scaler to persistence diagrams.\n",
      "Got the result from ././fragments/Frag4//train/filtrations/4/HeightFiltrartion_1_0/features.npy\n",
      "Applying filtration 33/72: 4/RadialFiltration_12_12\n",
      "FiltrationExtractor: processing ./fragments/Frag4//train/filtrations/4/RadialFiltration_12_12, do_fit = False, filtration = RadialFiltration(center=array([12, 12]), n_jobs=-1)\n",
      "Got the result from ././fragments/Frag4//train/filtrations/4/RadialFiltration_12_12/diagrams.npy\n",
      "Applying Scaler to persistence diagrams.\n",
      "Got the result from ././fragments/Frag4//train/filtrations/4/RadialFiltration_12_12/features.npy\n",
      "Applying filtration 34/72: 4/RadialFiltration_12_25\n",
      "FiltrationExtractor: processing ./fragments/Frag4//train/filtrations/4/RadialFiltration_12_25, do_fit = False, filtration = RadialFiltration(center=array([12, 25]), n_jobs=-1)\n",
      "Got the result from ././fragments/Frag4//train/filtrations/4/RadialFiltration_12_25/diagrams.npy\n",
      "Applying Scaler to persistence diagrams.\n",
      "Got the result from ././fragments/Frag4//train/filtrations/4/RadialFiltration_12_25/features.npy\n",
      "Applying filtration 35/72: 4/RadialFiltration_12_38\n",
      "FiltrationExtractor: processing ./fragments/Frag4//train/filtrations/4/RadialFiltration_12_38, do_fit = False, filtration = RadialFiltration(center=array([12, 38]), n_jobs=-1)\n",
      "Got the result from ././fragments/Frag4//train/filtrations/4/RadialFiltration_12_38/diagrams.npy\n",
      "Applying Scaler to persistence diagrams.\n",
      "Got the result from ././fragments/Frag4//train/filtrations/4/RadialFiltration_12_38/features.npy\n",
      "Applying filtration 36/72: 4/RadialFiltration_12_51\n",
      "FiltrationExtractor: processing ./fragments/Frag4//train/filtrations/4/RadialFiltration_12_51, do_fit = False, filtration = RadialFiltration(center=array([12, 51]), n_jobs=-1)\n",
      "Got the result from ././fragments/Frag4//train/filtrations/4/RadialFiltration_12_51/diagrams.npy\n",
      "Applying Scaler to persistence diagrams.\n",
      "Got the result from ././fragments/Frag4//train/filtrations/4/RadialFiltration_12_51/features.npy\n",
      "Applying filtration 37/72: 4/RadialFiltration_25_12\n",
      "FiltrationExtractor: processing ./fragments/Frag4//train/filtrations/4/RadialFiltration_25_12, do_fit = False, filtration = RadialFiltration(center=array([25, 12]), n_jobs=-1)\n",
      "Got the result from ././fragments/Frag4//train/filtrations/4/RadialFiltration_25_12/diagrams.npy\n",
      "Applying Scaler to persistence diagrams.\n",
      "Got the result from ././fragments/Frag4//train/filtrations/4/RadialFiltration_25_12/features.npy\n",
      "Applying filtration 38/72: 4/RadialFiltration_25_25\n",
      "FiltrationExtractor: processing ./fragments/Frag4//train/filtrations/4/RadialFiltration_25_25, do_fit = False, filtration = RadialFiltration(center=array([25, 25]), n_jobs=-1)\n",
      "Got the result from ././fragments/Frag4//train/filtrations/4/RadialFiltration_25_25/diagrams.npy\n",
      "Applying Scaler to persistence diagrams.\n",
      "Got the result from ././fragments/Frag4//train/filtrations/4/RadialFiltration_25_25/features.npy\n",
      "Applying filtration 39/72: 4/RadialFiltration_25_38\n",
      "FiltrationExtractor: processing ./fragments/Frag4//train/filtrations/4/RadialFiltration_25_38, do_fit = False, filtration = RadialFiltration(center=array([25, 38]), n_jobs=-1)\n",
      "Got the result from ././fragments/Frag4//train/filtrations/4/RadialFiltration_25_38/diagrams.npy\n",
      "Applying Scaler to persistence diagrams.\n",
      "Got the result from ././fragments/Frag4//train/filtrations/4/RadialFiltration_25_38/features.npy\n",
      "Applying filtration 40/72: 4/RadialFiltration_25_51\n",
      "FiltrationExtractor: processing ./fragments/Frag4//train/filtrations/4/RadialFiltration_25_51, do_fit = False, filtration = RadialFiltration(center=array([25, 51]), n_jobs=-1)\n",
      "Got the result from ././fragments/Frag4//train/filtrations/4/RadialFiltration_25_51/diagrams.npy\n",
      "Applying Scaler to persistence diagrams.\n",
      "Got the result from ././fragments/Frag4//train/filtrations/4/RadialFiltration_25_51/features.npy\n",
      "Applying filtration 41/72: 4/RadialFiltration_38_12\n",
      "FiltrationExtractor: processing ./fragments/Frag4//train/filtrations/4/RadialFiltration_38_12, do_fit = False, filtration = RadialFiltration(center=array([38, 12]), n_jobs=-1)\n",
      "Got the result from ././fragments/Frag4//train/filtrations/4/RadialFiltration_38_12/diagrams.npy\n",
      "Applying Scaler to persistence diagrams.\n",
      "Got the result from ././fragments/Frag4//train/filtrations/4/RadialFiltration_38_12/features.npy\n",
      "Applying filtration 42/72: 4/RadialFiltration_38_25\n",
      "FiltrationExtractor: processing ./fragments/Frag4//train/filtrations/4/RadialFiltration_38_25, do_fit = False, filtration = RadialFiltration(center=array([38, 25]), n_jobs=-1)\n",
      "Got the result from ././fragments/Frag4//train/filtrations/4/RadialFiltration_38_25/diagrams.npy\n",
      "Applying Scaler to persistence diagrams.\n",
      "Got the result from ././fragments/Frag4//train/filtrations/4/RadialFiltration_38_25/features.npy\n",
      "Applying filtration 43/72: 4/RadialFiltration_38_38\n",
      "FiltrationExtractor: processing ./fragments/Frag4//train/filtrations/4/RadialFiltration_38_38, do_fit = False, filtration = RadialFiltration(center=array([38, 38]), n_jobs=-1)\n",
      "Got the result from ././fragments/Frag4//train/filtrations/4/RadialFiltration_38_38/diagrams.npy\n",
      "Applying Scaler to persistence diagrams.\n",
      "Got the result from ././fragments/Frag4//train/filtrations/4/RadialFiltration_38_38/features.npy\n",
      "Applying filtration 44/72: 4/RadialFiltration_38_51\n",
      "FiltrationExtractor: processing ./fragments/Frag4//train/filtrations/4/RadialFiltration_38_51, do_fit = False, filtration = RadialFiltration(center=array([38, 51]), n_jobs=-1)\n",
      "Got the result from ././fragments/Frag4//train/filtrations/4/RadialFiltration_38_51/diagrams.npy\n",
      "Applying Scaler to persistence diagrams.\n",
      "Got the result from ././fragments/Frag4//train/filtrations/4/RadialFiltration_38_51/features.npy\n",
      "Applying filtration 45/72: 4/RadialFiltration_51_12\n",
      "FiltrationExtractor: processing ./fragments/Frag4//train/filtrations/4/RadialFiltration_51_12, do_fit = False, filtration = RadialFiltration(center=array([51, 12]), n_jobs=-1)\n",
      "Got the result from ././fragments/Frag4//train/filtrations/4/RadialFiltration_51_12/diagrams.npy\n",
      "Applying Scaler to persistence diagrams.\n",
      "Got the result from ././fragments/Frag4//train/filtrations/4/RadialFiltration_51_12/features.npy\n",
      "Applying filtration 46/72: 4/RadialFiltration_51_25\n",
      "FiltrationExtractor: processing ./fragments/Frag4//train/filtrations/4/RadialFiltration_51_25, do_fit = False, filtration = RadialFiltration(center=array([51, 25]), n_jobs=-1)\n",
      "Got the result from ././fragments/Frag4//train/filtrations/4/RadialFiltration_51_25/diagrams.npy\n",
      "Applying Scaler to persistence diagrams.\n",
      "Got the result from ././fragments/Frag4//train/filtrations/4/RadialFiltration_51_25/features.npy\n",
      "Applying filtration 47/72: 4/RadialFiltration_51_38\n",
      "FiltrationExtractor: processing ./fragments/Frag4//train/filtrations/4/RadialFiltration_51_38, do_fit = False, filtration = RadialFiltration(center=array([51, 38]), n_jobs=-1)\n",
      "Got the result from ././fragments/Frag4//train/filtrations/4/RadialFiltration_51_38/diagrams.npy\n",
      "Applying Scaler to persistence diagrams.\n",
      "Got the result from ././fragments/Frag4//train/filtrations/4/RadialFiltration_51_38/features.npy\n",
      "Applying filtration 48/72: 4/RadialFiltration_51_51\n",
      "FiltrationExtractor: processing ./fragments/Frag4//train/filtrations/4/RadialFiltration_51_51, do_fit = False, filtration = RadialFiltration(center=array([51, 51]), n_jobs=-1)\n",
      "Got the result from ././fragments/Frag4//train/filtrations/4/RadialFiltration_51_51/diagrams.npy\n",
      "Applying Scaler to persistence diagrams.\n",
      "Got the result from ././fragments/Frag4//train/filtrations/4/RadialFiltration_51_51/features.npy\n",
      "Applying filtration 49/72: 6/HeightFiltrartion_-1_-1\n",
      "FiltrationExtractor: processing ./fragments/Frag4//train/filtrations/6/HeightFiltrartion_-1_-1, do_fit = False, filtration = HeightFiltration(direction=array([-1, -1]), n_jobs=-1)\n",
      "Got the result from ././fragments/Frag4//train/filtrations/6/HeightFiltrartion_-1_-1/diagrams.npy\n",
      "Applying Scaler to persistence diagrams.\n",
      "Got the result from ././fragments/Frag4//train/filtrations/6/HeightFiltrartion_-1_-1/features.npy\n",
      "Applying filtration 50/72: 6/HeightFiltrartion_1_1\n",
      "FiltrationExtractor: processing ./fragments/Frag4//train/filtrations/6/HeightFiltrartion_1_1, do_fit = False, filtration = HeightFiltration(direction=array([1, 1]), n_jobs=-1)\n",
      "Got the result from ././fragments/Frag4//train/filtrations/6/HeightFiltrartion_1_1/diagrams.npy\n",
      "Applying Scaler to persistence diagrams.\n",
      "Got the result from ././fragments/Frag4//train/filtrations/6/HeightFiltrartion_1_1/features.npy\n",
      "Applying filtration 51/72: 6/HeightFiltrartion_1_-1\n",
      "FiltrationExtractor: processing ./fragments/Frag4//train/filtrations/6/HeightFiltrartion_1_-1, do_fit = False, filtration = HeightFiltration(direction=array([ 1, -1]), n_jobs=-1)\n",
      "Got the result from ././fragments/Frag4//train/filtrations/6/HeightFiltrartion_1_-1/diagrams.npy\n",
      "Applying Scaler to persistence diagrams.\n",
      "Got the result from ././fragments/Frag4//train/filtrations/6/HeightFiltrartion_1_-1/features.npy\n",
      "Applying filtration 52/72: 6/HeightFiltrartion_-1_1\n",
      "FiltrationExtractor: processing ./fragments/Frag4//train/filtrations/6/HeightFiltrartion_-1_1, do_fit = False, filtration = HeightFiltration(direction=array([-1,  1]), n_jobs=-1)\n",
      "Got the result from ././fragments/Frag4//train/filtrations/6/HeightFiltrartion_-1_1/diagrams.npy\n",
      "Applying Scaler to persistence diagrams.\n",
      "Got the result from ././fragments/Frag4//train/filtrations/6/HeightFiltrartion_-1_1/features.npy\n",
      "Applying filtration 53/72: 6/HeightFiltrartion_0_-1\n",
      "FiltrationExtractor: processing ./fragments/Frag4//train/filtrations/6/HeightFiltrartion_0_-1, do_fit = False, filtration = HeightFiltration(direction=array([ 0, -1]), n_jobs=-1)\n",
      "Got the result from ././fragments/Frag4//train/filtrations/6/HeightFiltrartion_0_-1/diagrams.npy\n",
      "Applying Scaler to persistence diagrams.\n",
      "Got the result from ././fragments/Frag4//train/filtrations/6/HeightFiltrartion_0_-1/features.npy\n",
      "Applying filtration 54/72: 6/HeightFiltrartion_0_1\n",
      "FiltrationExtractor: processing ./fragments/Frag4//train/filtrations/6/HeightFiltrartion_0_1, do_fit = False, filtration = HeightFiltration(direction=array([0, 1]), n_jobs=-1)\n",
      "Got the result from ././fragments/Frag4//train/filtrations/6/HeightFiltrartion_0_1/diagrams.npy\n",
      "Applying Scaler to persistence diagrams.\n",
      "Got the result from ././fragments/Frag4//train/filtrations/6/HeightFiltrartion_0_1/features.npy\n",
      "Applying filtration 55/72: 6/HeightFiltrartion_-1_0\n",
      "FiltrationExtractor: processing ./fragments/Frag4//train/filtrations/6/HeightFiltrartion_-1_0, do_fit = False, filtration = HeightFiltration(direction=array([-1,  0]), n_jobs=-1)\n",
      "Got the result from ././fragments/Frag4//train/filtrations/6/HeightFiltrartion_-1_0/diagrams.npy\n",
      "Applying Scaler to persistence diagrams.\n",
      "Got the result from ././fragments/Frag4//train/filtrations/6/HeightFiltrartion_-1_0/features.npy\n",
      "Applying filtration 56/72: 6/HeightFiltrartion_1_0\n",
      "FiltrationExtractor: processing ./fragments/Frag4//train/filtrations/6/HeightFiltrartion_1_0, do_fit = False, filtration = HeightFiltration(direction=array([1, 0]), n_jobs=-1)\n",
      "Got the result from ././fragments/Frag4//train/filtrations/6/HeightFiltrartion_1_0/diagrams.npy\n",
      "Applying Scaler to persistence diagrams.\n",
      "Got the result from ././fragments/Frag4//train/filtrations/6/HeightFiltrartion_1_0/features.npy\n",
      "Applying filtration 57/72: 6/RadialFiltration_12_12\n",
      "FiltrationExtractor: processing ./fragments/Frag4//train/filtrations/6/RadialFiltration_12_12, do_fit = False, filtration = RadialFiltration(center=array([12, 12]), n_jobs=-1)\n",
      "Got the result from ././fragments/Frag4//train/filtrations/6/RadialFiltration_12_12/diagrams.npy\n",
      "Applying Scaler to persistence diagrams.\n",
      "Got the result from ././fragments/Frag4//train/filtrations/6/RadialFiltration_12_12/features.npy\n",
      "Applying filtration 58/72: 6/RadialFiltration_12_25\n",
      "FiltrationExtractor: processing ./fragments/Frag4//train/filtrations/6/RadialFiltration_12_25, do_fit = False, filtration = RadialFiltration(center=array([12, 25]), n_jobs=-1)\n",
      "Got the result from ././fragments/Frag4//train/filtrations/6/RadialFiltration_12_25/diagrams.npy\n",
      "Applying Scaler to persistence diagrams.\n",
      "Got the result from ././fragments/Frag4//train/filtrations/6/RadialFiltration_12_25/features.npy\n",
      "Applying filtration 59/72: 6/RadialFiltration_12_38\n",
      "FiltrationExtractor: processing ./fragments/Frag4//train/filtrations/6/RadialFiltration_12_38, do_fit = False, filtration = RadialFiltration(center=array([12, 38]), n_jobs=-1)\n",
      "Got the result from ././fragments/Frag4//train/filtrations/6/RadialFiltration_12_38/diagrams.npy\n",
      "Applying Scaler to persistence diagrams.\n",
      "Got the result from ././fragments/Frag4//train/filtrations/6/RadialFiltration_12_38/features.npy\n",
      "Applying filtration 60/72: 6/RadialFiltration_12_51\n",
      "FiltrationExtractor: processing ./fragments/Frag4//train/filtrations/6/RadialFiltration_12_51, do_fit = False, filtration = RadialFiltration(center=array([12, 51]), n_jobs=-1)\n",
      "Got the result from ././fragments/Frag4//train/filtrations/6/RadialFiltration_12_51/diagrams.npy\n",
      "Applying Scaler to persistence diagrams.\n",
      "Got the result from ././fragments/Frag4//train/filtrations/6/RadialFiltration_12_51/features.npy\n",
      "Applying filtration 61/72: 6/RadialFiltration_25_12\n",
      "FiltrationExtractor: processing ./fragments/Frag4//train/filtrations/6/RadialFiltration_25_12, do_fit = False, filtration = RadialFiltration(center=array([25, 12]), n_jobs=-1)\n",
      "Got the result from ././fragments/Frag4//train/filtrations/6/RadialFiltration_25_12/diagrams.npy\n",
      "Applying Scaler to persistence diagrams.\n",
      "Got the result from ././fragments/Frag4//train/filtrations/6/RadialFiltration_25_12/features.npy\n",
      "Applying filtration 62/72: 6/RadialFiltration_25_25\n",
      "FiltrationExtractor: processing ./fragments/Frag4//train/filtrations/6/RadialFiltration_25_25, do_fit = False, filtration = RadialFiltration(center=array([25, 25]), n_jobs=-1)\n",
      "Got the result from ././fragments/Frag4//train/filtrations/6/RadialFiltration_25_25/diagrams.npy\n",
      "Applying Scaler to persistence diagrams.\n",
      "Got the result from ././fragments/Frag4//train/filtrations/6/RadialFiltration_25_25/features.npy\n",
      "Applying filtration 63/72: 6/RadialFiltration_25_38\n",
      "FiltrationExtractor: processing ./fragments/Frag4//train/filtrations/6/RadialFiltration_25_38, do_fit = False, filtration = RadialFiltration(center=array([25, 38]), n_jobs=-1)\n",
      "Got the result from ././fragments/Frag4//train/filtrations/6/RadialFiltration_25_38/diagrams.npy\n",
      "Applying Scaler to persistence diagrams.\n",
      "Got the result from ././fragments/Frag4//train/filtrations/6/RadialFiltration_25_38/features.npy\n",
      "Applying filtration 64/72: 6/RadialFiltration_25_51\n",
      "FiltrationExtractor: processing ./fragments/Frag4//train/filtrations/6/RadialFiltration_25_51, do_fit = False, filtration = RadialFiltration(center=array([25, 51]), n_jobs=-1)\n",
      "Got the result from ././fragments/Frag4//train/filtrations/6/RadialFiltration_25_51/diagrams.npy\n",
      "Applying Scaler to persistence diagrams.\n",
      "Got the result from ././fragments/Frag4//train/filtrations/6/RadialFiltration_25_51/features.npy\n",
      "Applying filtration 65/72: 6/RadialFiltration_38_12\n",
      "FiltrationExtractor: processing ./fragments/Frag4//train/filtrations/6/RadialFiltration_38_12, do_fit = False, filtration = RadialFiltration(center=array([38, 12]), n_jobs=-1)\n",
      "Got the result from ././fragments/Frag4//train/filtrations/6/RadialFiltration_38_12/diagrams.npy\n",
      "Applying Scaler to persistence diagrams.\n",
      "Got the result from ././fragments/Frag4//train/filtrations/6/RadialFiltration_38_12/features.npy\n",
      "Applying filtration 66/72: 6/RadialFiltration_38_25\n",
      "FiltrationExtractor: processing ./fragments/Frag4//train/filtrations/6/RadialFiltration_38_25, do_fit = False, filtration = RadialFiltration(center=array([38, 25]), n_jobs=-1)\n",
      "Got the result from ././fragments/Frag4//train/filtrations/6/RadialFiltration_38_25/diagrams.npy\n",
      "Applying Scaler to persistence diagrams.\n",
      "Got the result from ././fragments/Frag4//train/filtrations/6/RadialFiltration_38_25/features.npy\n",
      "Applying filtration 67/72: 6/RadialFiltration_38_38\n",
      "FiltrationExtractor: processing ./fragments/Frag4//train/filtrations/6/RadialFiltration_38_38, do_fit = False, filtration = RadialFiltration(center=array([38, 38]), n_jobs=-1)\n",
      "Got the result from ././fragments/Frag4//train/filtrations/6/RadialFiltration_38_38/diagrams.npy\n",
      "Applying Scaler to persistence diagrams.\n",
      "Got the result from ././fragments/Frag4//train/filtrations/6/RadialFiltration_38_38/features.npy\n",
      "Applying filtration 68/72: 6/RadialFiltration_38_51\n",
      "FiltrationExtractor: processing ./fragments/Frag4//train/filtrations/6/RadialFiltration_38_51, do_fit = False, filtration = RadialFiltration(center=array([38, 51]), n_jobs=-1)\n",
      "Got the result from ././fragments/Frag4//train/filtrations/6/RadialFiltration_38_51/diagrams.npy\n",
      "Applying Scaler to persistence diagrams.\n",
      "Got the result from ././fragments/Frag4//train/filtrations/6/RadialFiltration_38_51/features.npy\n",
      "Applying filtration 69/72: 6/RadialFiltration_51_12\n",
      "FiltrationExtractor: processing ./fragments/Frag4//train/filtrations/6/RadialFiltration_51_12, do_fit = False, filtration = RadialFiltration(center=array([51, 12]), n_jobs=-1)\n",
      "Got the result from ././fragments/Frag4//train/filtrations/6/RadialFiltration_51_12/diagrams.npy\n",
      "Applying Scaler to persistence diagrams.\n",
      "Got the result from ././fragments/Frag4//train/filtrations/6/RadialFiltration_51_12/features.npy\n",
      "Applying filtration 70/72: 6/RadialFiltration_51_25\n",
      "FiltrationExtractor: processing ./fragments/Frag4//train/filtrations/6/RadialFiltration_51_25, do_fit = False, filtration = RadialFiltration(center=array([51, 25]), n_jobs=-1)\n",
      "Got the result from ././fragments/Frag4//train/filtrations/6/RadialFiltration_51_25/diagrams.npy\n",
      "Applying Scaler to persistence diagrams.\n",
      "Got the result from ././fragments/Frag4//train/filtrations/6/RadialFiltration_51_25/features.npy\n",
      "Applying filtration 71/72: 6/RadialFiltration_51_38\n",
      "FiltrationExtractor: processing ./fragments/Frag4//train/filtrations/6/RadialFiltration_51_38, do_fit = False, filtration = RadialFiltration(center=array([51, 38]), n_jobs=-1)\n",
      "Got the result from ././fragments/Frag4//train/filtrations/6/RadialFiltration_51_38/diagrams.npy\n",
      "Applying Scaler to persistence diagrams.\n",
      "Got the result from ././fragments/Frag4//train/filtrations/6/RadialFiltration_51_38/features.npy\n",
      "Applying filtration 72/72: 6/RadialFiltration_51_51\n",
      "FiltrationExtractor: processing ./fragments/Frag4//train/filtrations/6/RadialFiltration_51_51, do_fit = False, filtration = RadialFiltration(center=array([51, 51]), n_jobs=-1)\n",
      "Got the result from ././fragments/Frag4//train/filtrations/6/RadialFiltration_51_51/diagrams.npy\n",
      "Applying Scaler to persistence diagrams.\n",
      "Got the result from ././fragments/Frag4//train/filtrations/6/RadialFiltration_51_51/features.npy\n"
     ]
    },
    {
     "name": "stderr",
     "output_type": "stream",
     "text": [
      "GrayGeometryExtractor:   1%|          | 96/10229 [00:03<07:00, 24.07it/s]d:\\Programs\\Programming\\Python\\lib\\site-packages\\joblib\\externals\\loky\\process_executor.py:752: UserWarning: A worker stopped while some jobs were given to the executor. This can be caused by a too short worker timeout or by a memory leak.\n",
      "  warnings.warn(\n",
      "GrayGeometryExtractor: 100%|██████████| 10229/10229 [01:59<00:00, 85.76it/s]\n"
     ]
    },
    {
     "name": "stdout",
     "output_type": "stream",
     "text": [
      "Saving the result to ././fragments/Frag4//train/geometry/features.npy\n",
      "Got the result from ././fragments/Frag4//train/geometry/features.npy\n",
      "Applying StandardScaler.\n",
      "Calculating inverted images\n",
      "GreyscaleExtractor: processing ./fragments/Frag4//train/greyscale, do_fit = False\n",
      "Got the result from ././fragments/Frag4//train/greyscale/diagrams.npy\n",
      "Applying Scaler to persistence diagrams.\n",
      "Got the result from ././fragments/Frag4//train/greyscale/features.npy\n",
      "GreyscaleExtractor: processing ./fragments/Frag4//train/inverted_greyscale, do_fit = False\n",
      "Got the result from ././fragments/Frag4//train/inverted_greyscale/diagrams.npy\n",
      "Applying Scaler to persistence diagrams.\n",
      "Got the result from ././fragments/Frag4//train/inverted_greyscale/features.npy\n",
      "Applying filtrations\n",
      "Applying filtration 1/72: 2/HeightFiltrartion_-1_-1\n",
      "FiltrationExtractor: processing ./fragments/Frag4//train/filtrations/2/HeightFiltrartion_-1_-1, do_fit = False, filtration = HeightFiltration(direction=array([-1, -1]), n_jobs=-1)\n",
      "Got the result from ././fragments/Frag4//train/filtrations/2/HeightFiltrartion_-1_-1/diagrams.npy\n",
      "Applying Scaler to persistence diagrams.\n",
      "Got the result from ././fragments/Frag4//train/filtrations/2/HeightFiltrartion_-1_-1/features.npy\n",
      "Applying filtration 2/72: 2/HeightFiltrartion_1_1\n",
      "FiltrationExtractor: processing ./fragments/Frag4//train/filtrations/2/HeightFiltrartion_1_1, do_fit = False, filtration = HeightFiltration(direction=array([1, 1]), n_jobs=-1)\n"
     ]
    },
    {
     "name": "stderr",
     "output_type": "stream",
     "text": [
      "d:\\Programs\\Programming\\Python\\lib\\site-packages\\gtda\\diagrams\\preprocessing.py:295: RuntimeWarning: invalid value encountered in divide\n",
      "  Xs[:, :, :2] /= self.scale_\n"
     ]
    },
    {
     "name": "stdout",
     "output_type": "stream",
     "text": [
      "Got the result from ././fragments/Frag4//train/filtrations/2/HeightFiltrartion_1_1/diagrams.npy\n",
      "Applying Scaler to persistence diagrams.\n",
      "Got the result from ././fragments/Frag4//train/filtrations/2/HeightFiltrartion_1_1/features.npy\n",
      "Applying filtration 3/72: 2/HeightFiltrartion_1_-1\n",
      "FiltrationExtractor: processing ./fragments/Frag4//train/filtrations/2/HeightFiltrartion_1_-1, do_fit = False, filtration = HeightFiltration(direction=array([ 1, -1]), n_jobs=-1)\n"
     ]
    },
    {
     "name": "stderr",
     "output_type": "stream",
     "text": [
      "d:\\Programs\\Programming\\Python\\lib\\site-packages\\gtda\\diagrams\\preprocessing.py:295: RuntimeWarning: invalid value encountered in divide\n",
      "  Xs[:, :, :2] /= self.scale_\n"
     ]
    },
    {
     "name": "stdout",
     "output_type": "stream",
     "text": [
      "Got the result from ././fragments/Frag4//train/filtrations/2/HeightFiltrartion_1_-1/diagrams.npy\n",
      "Applying Scaler to persistence diagrams.\n",
      "Got the result from ././fragments/Frag4//train/filtrations/2/HeightFiltrartion_1_-1/features.npy\n",
      "Applying filtration 4/72: 2/HeightFiltrartion_-1_1\n",
      "FiltrationExtractor: processing ./fragments/Frag4//train/filtrations/2/HeightFiltrartion_-1_1, do_fit = False, filtration = HeightFiltration(direction=array([-1,  1]), n_jobs=-1)\n"
     ]
    },
    {
     "name": "stderr",
     "output_type": "stream",
     "text": [
      "d:\\Programs\\Programming\\Python\\lib\\site-packages\\gtda\\diagrams\\preprocessing.py:295: RuntimeWarning: invalid value encountered in divide\n",
      "  Xs[:, :, :2] /= self.scale_\n"
     ]
    },
    {
     "name": "stdout",
     "output_type": "stream",
     "text": [
      "Got the result from ././fragments/Frag4//train/filtrations/2/HeightFiltrartion_-1_1/diagrams.npy\n",
      "Applying Scaler to persistence diagrams.\n",
      "Got the result from ././fragments/Frag4//train/filtrations/2/HeightFiltrartion_-1_1/features.npy\n",
      "Applying filtration 5/72: 2/HeightFiltrartion_0_-1\n",
      "FiltrationExtractor: processing ./fragments/Frag4//train/filtrations/2/HeightFiltrartion_0_-1, do_fit = False, filtration = HeightFiltration(direction=array([ 0, -1]), n_jobs=-1)\n"
     ]
    },
    {
     "name": "stderr",
     "output_type": "stream",
     "text": [
      "d:\\Programs\\Programming\\Python\\lib\\site-packages\\gtda\\diagrams\\preprocessing.py:295: RuntimeWarning: invalid value encountered in divide\n",
      "  Xs[:, :, :2] /= self.scale_\n"
     ]
    },
    {
     "name": "stdout",
     "output_type": "stream",
     "text": [
      "Got the result from ././fragments/Frag4//train/filtrations/2/HeightFiltrartion_0_-1/diagrams.npy\n",
      "Applying Scaler to persistence diagrams.\n",
      "Got the result from ././fragments/Frag4//train/filtrations/2/HeightFiltrartion_0_-1/features.npy\n",
      "Applying filtration 6/72: 2/HeightFiltrartion_0_1\n",
      "FiltrationExtractor: processing ./fragments/Frag4//train/filtrations/2/HeightFiltrartion_0_1, do_fit = False, filtration = HeightFiltration(direction=array([0, 1]), n_jobs=-1)\n"
     ]
    },
    {
     "name": "stderr",
     "output_type": "stream",
     "text": [
      "d:\\Programs\\Programming\\Python\\lib\\site-packages\\gtda\\diagrams\\preprocessing.py:295: RuntimeWarning: invalid value encountered in divide\n",
      "  Xs[:, :, :2] /= self.scale_\n"
     ]
    },
    {
     "name": "stdout",
     "output_type": "stream",
     "text": [
      "Got the result from ././fragments/Frag4//train/filtrations/2/HeightFiltrartion_0_1/diagrams.npy\n",
      "Applying Scaler to persistence diagrams.\n",
      "Got the result from ././fragments/Frag4//train/filtrations/2/HeightFiltrartion_0_1/features.npy\n",
      "Applying filtration 7/72: 2/HeightFiltrartion_-1_0\n",
      "FiltrationExtractor: processing ./fragments/Frag4//train/filtrations/2/HeightFiltrartion_-1_0, do_fit = False, filtration = HeightFiltration(direction=array([-1,  0]), n_jobs=-1)\n"
     ]
    },
    {
     "name": "stderr",
     "output_type": "stream",
     "text": [
      "d:\\Programs\\Programming\\Python\\lib\\site-packages\\gtda\\diagrams\\preprocessing.py:295: RuntimeWarning: invalid value encountered in divide\n",
      "  Xs[:, :, :2] /= self.scale_\n"
     ]
    },
    {
     "name": "stdout",
     "output_type": "stream",
     "text": [
      "Got the result from ././fragments/Frag4//train/filtrations/2/HeightFiltrartion_-1_0/diagrams.npy\n",
      "Applying Scaler to persistence diagrams.\n",
      "Got the result from ././fragments/Frag4//train/filtrations/2/HeightFiltrartion_-1_0/features.npy\n",
      "Applying filtration 8/72: 2/HeightFiltrartion_1_0\n",
      "FiltrationExtractor: processing ./fragments/Frag4//train/filtrations/2/HeightFiltrartion_1_0, do_fit = False, filtration = HeightFiltration(direction=array([1, 0]), n_jobs=-1)\n"
     ]
    },
    {
     "name": "stderr",
     "output_type": "stream",
     "text": [
      "d:\\Programs\\Programming\\Python\\lib\\site-packages\\gtda\\diagrams\\preprocessing.py:295: RuntimeWarning: invalid value encountered in divide\n",
      "  Xs[:, :, :2] /= self.scale_\n"
     ]
    },
    {
     "name": "stdout",
     "output_type": "stream",
     "text": [
      "Got the result from ././fragments/Frag4//train/filtrations/2/HeightFiltrartion_1_0/diagrams.npy\n",
      "Applying Scaler to persistence diagrams.\n",
      "Got the result from ././fragments/Frag4//train/filtrations/2/HeightFiltrartion_1_0/features.npy\n",
      "Applying filtration 9/72: 2/RadialFiltration_12_12\n",
      "FiltrationExtractor: processing ./fragments/Frag4//train/filtrations/2/RadialFiltration_12_12, do_fit = False, filtration = RadialFiltration(center=array([12, 12]), n_jobs=-1)\n"
     ]
    },
    {
     "name": "stderr",
     "output_type": "stream",
     "text": [
      "d:\\Programs\\Programming\\Python\\lib\\site-packages\\gtda\\diagrams\\preprocessing.py:295: RuntimeWarning: invalid value encountered in divide\n",
      "  Xs[:, :, :2] /= self.scale_\n"
     ]
    },
    {
     "name": "stdout",
     "output_type": "stream",
     "text": [
      "Got the result from ././fragments/Frag4//train/filtrations/2/RadialFiltration_12_12/diagrams.npy\n",
      "Applying Scaler to persistence diagrams.\n",
      "Got the result from ././fragments/Frag4//train/filtrations/2/RadialFiltration_12_12/features.npy\n",
      "Applying filtration 10/72: 2/RadialFiltration_12_25\n",
      "FiltrationExtractor: processing ./fragments/Frag4//train/filtrations/2/RadialFiltration_12_25, do_fit = False, filtration = RadialFiltration(center=array([12, 25]), n_jobs=-1)\n"
     ]
    },
    {
     "name": "stderr",
     "output_type": "stream",
     "text": [
      "d:\\Programs\\Programming\\Python\\lib\\site-packages\\gtda\\diagrams\\preprocessing.py:295: RuntimeWarning: invalid value encountered in divide\n",
      "  Xs[:, :, :2] /= self.scale_\n"
     ]
    },
    {
     "name": "stdout",
     "output_type": "stream",
     "text": [
      "Got the result from ././fragments/Frag4//train/filtrations/2/RadialFiltration_12_25/diagrams.npy\n",
      "Applying Scaler to persistence diagrams.\n",
      "Got the result from ././fragments/Frag4//train/filtrations/2/RadialFiltration_12_25/features.npy\n",
      "Applying filtration 11/72: 2/RadialFiltration_12_38\n",
      "FiltrationExtractor: processing ./fragments/Frag4//train/filtrations/2/RadialFiltration_12_38, do_fit = False, filtration = RadialFiltration(center=array([12, 38]), n_jobs=-1)\n"
     ]
    },
    {
     "name": "stderr",
     "output_type": "stream",
     "text": [
      "d:\\Programs\\Programming\\Python\\lib\\site-packages\\gtda\\diagrams\\preprocessing.py:295: RuntimeWarning: invalid value encountered in divide\n",
      "  Xs[:, :, :2] /= self.scale_\n"
     ]
    },
    {
     "name": "stdout",
     "output_type": "stream",
     "text": [
      "Got the result from ././fragments/Frag4//train/filtrations/2/RadialFiltration_12_38/diagrams.npy\n",
      "Applying Scaler to persistence diagrams.\n",
      "Got the result from ././fragments/Frag4//train/filtrations/2/RadialFiltration_12_38/features.npy\n",
      "Applying filtration 12/72: 2/RadialFiltration_12_51\n",
      "FiltrationExtractor: processing ./fragments/Frag4//train/filtrations/2/RadialFiltration_12_51, do_fit = False, filtration = RadialFiltration(center=array([12, 51]), n_jobs=-1)\n"
     ]
    },
    {
     "name": "stderr",
     "output_type": "stream",
     "text": [
      "d:\\Programs\\Programming\\Python\\lib\\site-packages\\gtda\\diagrams\\preprocessing.py:295: RuntimeWarning: invalid value encountered in divide\n",
      "  Xs[:, :, :2] /= self.scale_\n"
     ]
    },
    {
     "name": "stdout",
     "output_type": "stream",
     "text": [
      "Got the result from ././fragments/Frag4//train/filtrations/2/RadialFiltration_12_51/diagrams.npy\n",
      "Applying Scaler to persistence diagrams.\n",
      "Got the result from ././fragments/Frag4//train/filtrations/2/RadialFiltration_12_51/features.npy\n",
      "Applying filtration 13/72: 2/RadialFiltration_25_12\n",
      "FiltrationExtractor: processing ./fragments/Frag4//train/filtrations/2/RadialFiltration_25_12, do_fit = False, filtration = RadialFiltration(center=array([25, 12]), n_jobs=-1)\n"
     ]
    },
    {
     "name": "stderr",
     "output_type": "stream",
     "text": [
      "d:\\Programs\\Programming\\Python\\lib\\site-packages\\gtda\\diagrams\\preprocessing.py:295: RuntimeWarning: invalid value encountered in divide\n",
      "  Xs[:, :, :2] /= self.scale_\n"
     ]
    },
    {
     "name": "stdout",
     "output_type": "stream",
     "text": [
      "Got the result from ././fragments/Frag4//train/filtrations/2/RadialFiltration_25_12/diagrams.npy\n",
      "Applying Scaler to persistence diagrams.\n",
      "Got the result from ././fragments/Frag4//train/filtrations/2/RadialFiltration_25_12/features.npy\n",
      "Applying filtration 14/72: 2/RadialFiltration_25_25\n",
      "FiltrationExtractor: processing ./fragments/Frag4//train/filtrations/2/RadialFiltration_25_25, do_fit = False, filtration = RadialFiltration(center=array([25, 25]), n_jobs=-1)\n"
     ]
    },
    {
     "name": "stderr",
     "output_type": "stream",
     "text": [
      "d:\\Programs\\Programming\\Python\\lib\\site-packages\\gtda\\diagrams\\preprocessing.py:295: RuntimeWarning: invalid value encountered in divide\n",
      "  Xs[:, :, :2] /= self.scale_\n"
     ]
    },
    {
     "name": "stdout",
     "output_type": "stream",
     "text": [
      "Got the result from ././fragments/Frag4//train/filtrations/2/RadialFiltration_25_25/diagrams.npy\n",
      "Applying Scaler to persistence diagrams.\n",
      "Got the result from ././fragments/Frag4//train/filtrations/2/RadialFiltration_25_25/features.npy\n",
      "Applying filtration 15/72: 2/RadialFiltration_25_38\n",
      "FiltrationExtractor: processing ./fragments/Frag4//train/filtrations/2/RadialFiltration_25_38, do_fit = False, filtration = RadialFiltration(center=array([25, 38]), n_jobs=-1)\n"
     ]
    },
    {
     "name": "stderr",
     "output_type": "stream",
     "text": [
      "d:\\Programs\\Programming\\Python\\lib\\site-packages\\gtda\\diagrams\\preprocessing.py:295: RuntimeWarning: invalid value encountered in divide\n",
      "  Xs[:, :, :2] /= self.scale_\n"
     ]
    },
    {
     "name": "stdout",
     "output_type": "stream",
     "text": [
      "Got the result from ././fragments/Frag4//train/filtrations/2/RadialFiltration_25_38/diagrams.npy\n",
      "Applying Scaler to persistence diagrams.\n",
      "Got the result from ././fragments/Frag4//train/filtrations/2/RadialFiltration_25_38/features.npy\n",
      "Applying filtration 16/72: 2/RadialFiltration_25_51\n",
      "FiltrationExtractor: processing ./fragments/Frag4//train/filtrations/2/RadialFiltration_25_51, do_fit = False, filtration = RadialFiltration(center=array([25, 51]), n_jobs=-1)\n"
     ]
    },
    {
     "name": "stderr",
     "output_type": "stream",
     "text": [
      "d:\\Programs\\Programming\\Python\\lib\\site-packages\\gtda\\diagrams\\preprocessing.py:295: RuntimeWarning: invalid value encountered in divide\n",
      "  Xs[:, :, :2] /= self.scale_\n"
     ]
    },
    {
     "name": "stdout",
     "output_type": "stream",
     "text": [
      "Got the result from ././fragments/Frag4//train/filtrations/2/RadialFiltration_25_51/diagrams.npy\n",
      "Applying Scaler to persistence diagrams.\n",
      "Got the result from ././fragments/Frag4//train/filtrations/2/RadialFiltration_25_51/features.npy\n",
      "Applying filtration 17/72: 2/RadialFiltration_38_12\n",
      "FiltrationExtractor: processing ./fragments/Frag4//train/filtrations/2/RadialFiltration_38_12, do_fit = False, filtration = RadialFiltration(center=array([38, 12]), n_jobs=-1)\n"
     ]
    },
    {
     "name": "stderr",
     "output_type": "stream",
     "text": [
      "d:\\Programs\\Programming\\Python\\lib\\site-packages\\gtda\\diagrams\\preprocessing.py:295: RuntimeWarning: invalid value encountered in divide\n",
      "  Xs[:, :, :2] /= self.scale_\n"
     ]
    },
    {
     "name": "stdout",
     "output_type": "stream",
     "text": [
      "Got the result from ././fragments/Frag4//train/filtrations/2/RadialFiltration_38_12/diagrams.npy\n",
      "Applying Scaler to persistence diagrams.\n",
      "Got the result from ././fragments/Frag4//train/filtrations/2/RadialFiltration_38_12/features.npy\n",
      "Applying filtration 18/72: 2/RadialFiltration_38_25\n",
      "FiltrationExtractor: processing ./fragments/Frag4//train/filtrations/2/RadialFiltration_38_25, do_fit = False, filtration = RadialFiltration(center=array([38, 25]), n_jobs=-1)\n"
     ]
    },
    {
     "name": "stderr",
     "output_type": "stream",
     "text": [
      "d:\\Programs\\Programming\\Python\\lib\\site-packages\\gtda\\diagrams\\preprocessing.py:295: RuntimeWarning: invalid value encountered in divide\n",
      "  Xs[:, :, :2] /= self.scale_\n"
     ]
    },
    {
     "name": "stdout",
     "output_type": "stream",
     "text": [
      "Got the result from ././fragments/Frag4//train/filtrations/2/RadialFiltration_38_25/diagrams.npy\n",
      "Applying Scaler to persistence diagrams.\n",
      "Got the result from ././fragments/Frag4//train/filtrations/2/RadialFiltration_38_25/features.npy\n",
      "Applying filtration 19/72: 2/RadialFiltration_38_38\n",
      "FiltrationExtractor: processing ./fragments/Frag4//train/filtrations/2/RadialFiltration_38_38, do_fit = False, filtration = RadialFiltration(center=array([38, 38]), n_jobs=-1)\n"
     ]
    },
    {
     "name": "stderr",
     "output_type": "stream",
     "text": [
      "d:\\Programs\\Programming\\Python\\lib\\site-packages\\gtda\\diagrams\\preprocessing.py:295: RuntimeWarning: invalid value encountered in divide\n",
      "  Xs[:, :, :2] /= self.scale_\n"
     ]
    },
    {
     "name": "stdout",
     "output_type": "stream",
     "text": [
      "Got the result from ././fragments/Frag4//train/filtrations/2/RadialFiltration_38_38/diagrams.npy\n",
      "Applying Scaler to persistence diagrams.\n",
      "Got the result from ././fragments/Frag4//train/filtrations/2/RadialFiltration_38_38/features.npy\n",
      "Applying filtration 20/72: 2/RadialFiltration_38_51\n",
      "FiltrationExtractor: processing ./fragments/Frag4//train/filtrations/2/RadialFiltration_38_51, do_fit = False, filtration = RadialFiltration(center=array([38, 51]), n_jobs=-1)\n"
     ]
    },
    {
     "name": "stderr",
     "output_type": "stream",
     "text": [
      "d:\\Programs\\Programming\\Python\\lib\\site-packages\\gtda\\diagrams\\preprocessing.py:295: RuntimeWarning: invalid value encountered in divide\n",
      "  Xs[:, :, :2] /= self.scale_\n"
     ]
    },
    {
     "name": "stdout",
     "output_type": "stream",
     "text": [
      "Got the result from ././fragments/Frag4//train/filtrations/2/RadialFiltration_38_51/diagrams.npy\n",
      "Applying Scaler to persistence diagrams.\n",
      "Got the result from ././fragments/Frag4//train/filtrations/2/RadialFiltration_38_51/features.npy\n",
      "Applying filtration 21/72: 2/RadialFiltration_51_12\n",
      "FiltrationExtractor: processing ./fragments/Frag4//train/filtrations/2/RadialFiltration_51_12, do_fit = False, filtration = RadialFiltration(center=array([51, 12]), n_jobs=-1)\n"
     ]
    },
    {
     "name": "stderr",
     "output_type": "stream",
     "text": [
      "d:\\Programs\\Programming\\Python\\lib\\site-packages\\gtda\\diagrams\\preprocessing.py:295: RuntimeWarning: invalid value encountered in divide\n",
      "  Xs[:, :, :2] /= self.scale_\n"
     ]
    },
    {
     "name": "stdout",
     "output_type": "stream",
     "text": [
      "Got the result from ././fragments/Frag4//train/filtrations/2/RadialFiltration_51_12/diagrams.npy\n",
      "Applying Scaler to persistence diagrams.\n",
      "Got the result from ././fragments/Frag4//train/filtrations/2/RadialFiltration_51_12/features.npy\n",
      "Applying filtration 22/72: 2/RadialFiltration_51_25\n",
      "FiltrationExtractor: processing ./fragments/Frag4//train/filtrations/2/RadialFiltration_51_25, do_fit = False, filtration = RadialFiltration(center=array([51, 25]), n_jobs=-1)\n"
     ]
    },
    {
     "name": "stderr",
     "output_type": "stream",
     "text": [
      "d:\\Programs\\Programming\\Python\\lib\\site-packages\\gtda\\diagrams\\preprocessing.py:295: RuntimeWarning: invalid value encountered in divide\n",
      "  Xs[:, :, :2] /= self.scale_\n"
     ]
    },
    {
     "name": "stdout",
     "output_type": "stream",
     "text": [
      "Got the result from ././fragments/Frag4//train/filtrations/2/RadialFiltration_51_25/diagrams.npy\n",
      "Applying Scaler to persistence diagrams.\n",
      "Got the result from ././fragments/Frag4//train/filtrations/2/RadialFiltration_51_25/features.npy\n",
      "Applying filtration 23/72: 2/RadialFiltration_51_38\n",
      "FiltrationExtractor: processing ./fragments/Frag4//train/filtrations/2/RadialFiltration_51_38, do_fit = False, filtration = RadialFiltration(center=array([51, 38]), n_jobs=-1)\n"
     ]
    },
    {
     "name": "stderr",
     "output_type": "stream",
     "text": [
      "d:\\Programs\\Programming\\Python\\lib\\site-packages\\gtda\\diagrams\\preprocessing.py:295: RuntimeWarning: invalid value encountered in divide\n",
      "  Xs[:, :, :2] /= self.scale_\n"
     ]
    },
    {
     "name": "stdout",
     "output_type": "stream",
     "text": [
      "Got the result from ././fragments/Frag4//train/filtrations/2/RadialFiltration_51_38/diagrams.npy\n",
      "Applying Scaler to persistence diagrams.\n",
      "Got the result from ././fragments/Frag4//train/filtrations/2/RadialFiltration_51_38/features.npy\n",
      "Applying filtration 24/72: 2/RadialFiltration_51_51\n",
      "FiltrationExtractor: processing ./fragments/Frag4//train/filtrations/2/RadialFiltration_51_51, do_fit = False, filtration = RadialFiltration(center=array([51, 51]), n_jobs=-1)\n"
     ]
    },
    {
     "name": "stderr",
     "output_type": "stream",
     "text": [
      "d:\\Programs\\Programming\\Python\\lib\\site-packages\\gtda\\diagrams\\preprocessing.py:295: RuntimeWarning: invalid value encountered in divide\n",
      "  Xs[:, :, :2] /= self.scale_\n"
     ]
    },
    {
     "name": "stdout",
     "output_type": "stream",
     "text": [
      "Got the result from ././fragments/Frag4//train/filtrations/2/RadialFiltration_51_51/diagrams.npy\n",
      "Applying Scaler to persistence diagrams.\n",
      "Got the result from ././fragments/Frag4//train/filtrations/2/RadialFiltration_51_51/features.npy\n",
      "Applying filtration 25/72: 4/HeightFiltrartion_-1_-1\n",
      "FiltrationExtractor: processing ./fragments/Frag4//train/filtrations/4/HeightFiltrartion_-1_-1, do_fit = False, filtration = HeightFiltration(direction=array([-1, -1]), n_jobs=-1)\n"
     ]
    },
    {
     "name": "stderr",
     "output_type": "stream",
     "text": [
      "d:\\Programs\\Programming\\Python\\lib\\site-packages\\gtda\\diagrams\\preprocessing.py:295: RuntimeWarning: invalid value encountered in divide\n",
      "  Xs[:, :, :2] /= self.scale_\n"
     ]
    },
    {
     "name": "stdout",
     "output_type": "stream",
     "text": [
      "Got the result from ././fragments/Frag4//train/filtrations/4/HeightFiltrartion_-1_-1/diagrams.npy\n",
      "Applying Scaler to persistence diagrams.\n",
      "Got the result from ././fragments/Frag4//train/filtrations/4/HeightFiltrartion_-1_-1/features.npy\n",
      "Applying filtration 26/72: 4/HeightFiltrartion_1_1\n",
      "FiltrationExtractor: processing ./fragments/Frag4//train/filtrations/4/HeightFiltrartion_1_1, do_fit = False, filtration = HeightFiltration(direction=array([1, 1]), n_jobs=-1)\n",
      "Got the result from ././fragments/Frag4//train/filtrations/4/HeightFiltrartion_1_1/diagrams.npy\n",
      "Applying Scaler to persistence diagrams.\n",
      "Got the result from ././fragments/Frag4//train/filtrations/4/HeightFiltrartion_1_1/features.npy\n",
      "Applying filtration 27/72: 4/HeightFiltrartion_1_-1\n",
      "FiltrationExtractor: processing ./fragments/Frag4//train/filtrations/4/HeightFiltrartion_1_-1, do_fit = False, filtration = HeightFiltration(direction=array([ 1, -1]), n_jobs=-1)\n",
      "Got the result from ././fragments/Frag4//train/filtrations/4/HeightFiltrartion_1_-1/diagrams.npy\n",
      "Applying Scaler to persistence diagrams.\n",
      "Got the result from ././fragments/Frag4//train/filtrations/4/HeightFiltrartion_1_-1/features.npy\n",
      "Applying filtration 28/72: 4/HeightFiltrartion_-1_1\n",
      "FiltrationExtractor: processing ./fragments/Frag4//train/filtrations/4/HeightFiltrartion_-1_1, do_fit = False, filtration = HeightFiltration(direction=array([-1,  1]), n_jobs=-1)\n",
      "Got the result from ././fragments/Frag4//train/filtrations/4/HeightFiltrartion_-1_1/diagrams.npy\n",
      "Applying Scaler to persistence diagrams.\n",
      "Got the result from ././fragments/Frag4//train/filtrations/4/HeightFiltrartion_-1_1/features.npy\n",
      "Applying filtration 29/72: 4/HeightFiltrartion_0_-1\n",
      "FiltrationExtractor: processing ./fragments/Frag4//train/filtrations/4/HeightFiltrartion_0_-1, do_fit = False, filtration = HeightFiltration(direction=array([ 0, -1]), n_jobs=-1)\n",
      "Got the result from ././fragments/Frag4//train/filtrations/4/HeightFiltrartion_0_-1/diagrams.npy\n",
      "Applying Scaler to persistence diagrams.\n",
      "Got the result from ././fragments/Frag4//train/filtrations/4/HeightFiltrartion_0_-1/features.npy\n",
      "Applying filtration 30/72: 4/HeightFiltrartion_0_1\n",
      "FiltrationExtractor: processing ./fragments/Frag4//train/filtrations/4/HeightFiltrartion_0_1, do_fit = False, filtration = HeightFiltration(direction=array([0, 1]), n_jobs=-1)\n",
      "Got the result from ././fragments/Frag4//train/filtrations/4/HeightFiltrartion_0_1/diagrams.npy\n",
      "Applying Scaler to persistence diagrams.\n",
      "Got the result from ././fragments/Frag4//train/filtrations/4/HeightFiltrartion_0_1/features.npy\n",
      "Applying filtration 31/72: 4/HeightFiltrartion_-1_0\n",
      "FiltrationExtractor: processing ./fragments/Frag4//train/filtrations/4/HeightFiltrartion_-1_0, do_fit = False, filtration = HeightFiltration(direction=array([-1,  0]), n_jobs=-1)\n",
      "Got the result from ././fragments/Frag4//train/filtrations/4/HeightFiltrartion_-1_0/diagrams.npy\n",
      "Applying Scaler to persistence diagrams.\n",
      "Got the result from ././fragments/Frag4//train/filtrations/4/HeightFiltrartion_-1_0/features.npy\n",
      "Applying filtration 32/72: 4/HeightFiltrartion_1_0\n",
      "FiltrationExtractor: processing ./fragments/Frag4//train/filtrations/4/HeightFiltrartion_1_0, do_fit = False, filtration = HeightFiltration(direction=array([1, 0]), n_jobs=-1)\n",
      "Got the result from ././fragments/Frag4//train/filtrations/4/HeightFiltrartion_1_0/diagrams.npy\n",
      "Applying Scaler to persistence diagrams.\n",
      "Got the result from ././fragments/Frag4//train/filtrations/4/HeightFiltrartion_1_0/features.npy\n",
      "Applying filtration 33/72: 4/RadialFiltration_12_12\n",
      "FiltrationExtractor: processing ./fragments/Frag4//train/filtrations/4/RadialFiltration_12_12, do_fit = False, filtration = RadialFiltration(center=array([12, 12]), n_jobs=-1)\n",
      "Got the result from ././fragments/Frag4//train/filtrations/4/RadialFiltration_12_12/diagrams.npy\n",
      "Applying Scaler to persistence diagrams.\n",
      "Got the result from ././fragments/Frag4//train/filtrations/4/RadialFiltration_12_12/features.npy\n",
      "Applying filtration 34/72: 4/RadialFiltration_12_25\n",
      "FiltrationExtractor: processing ./fragments/Frag4//train/filtrations/4/RadialFiltration_12_25, do_fit = False, filtration = RadialFiltration(center=array([12, 25]), n_jobs=-1)\n",
      "Got the result from ././fragments/Frag4//train/filtrations/4/RadialFiltration_12_25/diagrams.npy\n",
      "Applying Scaler to persistence diagrams.\n",
      "Got the result from ././fragments/Frag4//train/filtrations/4/RadialFiltration_12_25/features.npy\n",
      "Applying filtration 35/72: 4/RadialFiltration_12_38\n",
      "FiltrationExtractor: processing ./fragments/Frag4//train/filtrations/4/RadialFiltration_12_38, do_fit = False, filtration = RadialFiltration(center=array([12, 38]), n_jobs=-1)\n",
      "Got the result from ././fragments/Frag4//train/filtrations/4/RadialFiltration_12_38/diagrams.npy\n",
      "Applying Scaler to persistence diagrams.\n",
      "Got the result from ././fragments/Frag4//train/filtrations/4/RadialFiltration_12_38/features.npy\n",
      "Applying filtration 36/72: 4/RadialFiltration_12_51\n",
      "FiltrationExtractor: processing ./fragments/Frag4//train/filtrations/4/RadialFiltration_12_51, do_fit = False, filtration = RadialFiltration(center=array([12, 51]), n_jobs=-1)\n",
      "Got the result from ././fragments/Frag4//train/filtrations/4/RadialFiltration_12_51/diagrams.npy\n",
      "Applying Scaler to persistence diagrams.\n",
      "Got the result from ././fragments/Frag4//train/filtrations/4/RadialFiltration_12_51/features.npy\n",
      "Applying filtration 37/72: 4/RadialFiltration_25_12\n",
      "FiltrationExtractor: processing ./fragments/Frag4//train/filtrations/4/RadialFiltration_25_12, do_fit = False, filtration = RadialFiltration(center=array([25, 12]), n_jobs=-1)\n",
      "Got the result from ././fragments/Frag4//train/filtrations/4/RadialFiltration_25_12/diagrams.npy\n",
      "Applying Scaler to persistence diagrams.\n",
      "Got the result from ././fragments/Frag4//train/filtrations/4/RadialFiltration_25_12/features.npy\n",
      "Applying filtration 38/72: 4/RadialFiltration_25_25\n",
      "FiltrationExtractor: processing ./fragments/Frag4//train/filtrations/4/RadialFiltration_25_25, do_fit = False, filtration = RadialFiltration(center=array([25, 25]), n_jobs=-1)\n",
      "Got the result from ././fragments/Frag4//train/filtrations/4/RadialFiltration_25_25/diagrams.npy\n",
      "Applying Scaler to persistence diagrams.\n",
      "Got the result from ././fragments/Frag4//train/filtrations/4/RadialFiltration_25_25/features.npy\n",
      "Applying filtration 39/72: 4/RadialFiltration_25_38\n",
      "FiltrationExtractor: processing ./fragments/Frag4//train/filtrations/4/RadialFiltration_25_38, do_fit = False, filtration = RadialFiltration(center=array([25, 38]), n_jobs=-1)\n",
      "Got the result from ././fragments/Frag4//train/filtrations/4/RadialFiltration_25_38/diagrams.npy\n",
      "Applying Scaler to persistence diagrams.\n",
      "Got the result from ././fragments/Frag4//train/filtrations/4/RadialFiltration_25_38/features.npy\n",
      "Applying filtration 40/72: 4/RadialFiltration_25_51\n",
      "FiltrationExtractor: processing ./fragments/Frag4//train/filtrations/4/RadialFiltration_25_51, do_fit = False, filtration = RadialFiltration(center=array([25, 51]), n_jobs=-1)\n",
      "Got the result from ././fragments/Frag4//train/filtrations/4/RadialFiltration_25_51/diagrams.npy\n",
      "Applying Scaler to persistence diagrams.\n",
      "Got the result from ././fragments/Frag4//train/filtrations/4/RadialFiltration_25_51/features.npy\n",
      "Applying filtration 41/72: 4/RadialFiltration_38_12\n",
      "FiltrationExtractor: processing ./fragments/Frag4//train/filtrations/4/RadialFiltration_38_12, do_fit = False, filtration = RadialFiltration(center=array([38, 12]), n_jobs=-1)\n",
      "Got the result from ././fragments/Frag4//train/filtrations/4/RadialFiltration_38_12/diagrams.npy\n",
      "Applying Scaler to persistence diagrams.\n",
      "Got the result from ././fragments/Frag4//train/filtrations/4/RadialFiltration_38_12/features.npy\n",
      "Applying filtration 42/72: 4/RadialFiltration_38_25\n",
      "FiltrationExtractor: processing ./fragments/Frag4//train/filtrations/4/RadialFiltration_38_25, do_fit = False, filtration = RadialFiltration(center=array([38, 25]), n_jobs=-1)\n",
      "Got the result from ././fragments/Frag4//train/filtrations/4/RadialFiltration_38_25/diagrams.npy\n",
      "Applying Scaler to persistence diagrams.\n",
      "Got the result from ././fragments/Frag4//train/filtrations/4/RadialFiltration_38_25/features.npy\n",
      "Applying filtration 43/72: 4/RadialFiltration_38_38\n",
      "FiltrationExtractor: processing ./fragments/Frag4//train/filtrations/4/RadialFiltration_38_38, do_fit = False, filtration = RadialFiltration(center=array([38, 38]), n_jobs=-1)\n",
      "Got the result from ././fragments/Frag4//train/filtrations/4/RadialFiltration_38_38/diagrams.npy\n",
      "Applying Scaler to persistence diagrams.\n",
      "Got the result from ././fragments/Frag4//train/filtrations/4/RadialFiltration_38_38/features.npy\n",
      "Applying filtration 44/72: 4/RadialFiltration_38_51\n",
      "FiltrationExtractor: processing ./fragments/Frag4//train/filtrations/4/RadialFiltration_38_51, do_fit = False, filtration = RadialFiltration(center=array([38, 51]), n_jobs=-1)\n",
      "Got the result from ././fragments/Frag4//train/filtrations/4/RadialFiltration_38_51/diagrams.npy\n",
      "Applying Scaler to persistence diagrams.\n",
      "Got the result from ././fragments/Frag4//train/filtrations/4/RadialFiltration_38_51/features.npy\n",
      "Applying filtration 45/72: 4/RadialFiltration_51_12\n",
      "FiltrationExtractor: processing ./fragments/Frag4//train/filtrations/4/RadialFiltration_51_12, do_fit = False, filtration = RadialFiltration(center=array([51, 12]), n_jobs=-1)\n",
      "Got the result from ././fragments/Frag4//train/filtrations/4/RadialFiltration_51_12/diagrams.npy\n",
      "Applying Scaler to persistence diagrams.\n",
      "Got the result from ././fragments/Frag4//train/filtrations/4/RadialFiltration_51_12/features.npy\n",
      "Applying filtration 46/72: 4/RadialFiltration_51_25\n",
      "FiltrationExtractor: processing ./fragments/Frag4//train/filtrations/4/RadialFiltration_51_25, do_fit = False, filtration = RadialFiltration(center=array([51, 25]), n_jobs=-1)\n",
      "Got the result from ././fragments/Frag4//train/filtrations/4/RadialFiltration_51_25/diagrams.npy\n",
      "Applying Scaler to persistence diagrams.\n",
      "Got the result from ././fragments/Frag4//train/filtrations/4/RadialFiltration_51_25/features.npy\n",
      "Applying filtration 47/72: 4/RadialFiltration_51_38\n",
      "FiltrationExtractor: processing ./fragments/Frag4//train/filtrations/4/RadialFiltration_51_38, do_fit = False, filtration = RadialFiltration(center=array([51, 38]), n_jobs=-1)\n",
      "Got the result from ././fragments/Frag4//train/filtrations/4/RadialFiltration_51_38/diagrams.npy\n",
      "Applying Scaler to persistence diagrams.\n",
      "Got the result from ././fragments/Frag4//train/filtrations/4/RadialFiltration_51_38/features.npy\n",
      "Applying filtration 48/72: 4/RadialFiltration_51_51\n",
      "FiltrationExtractor: processing ./fragments/Frag4//train/filtrations/4/RadialFiltration_51_51, do_fit = False, filtration = RadialFiltration(center=array([51, 51]), n_jobs=-1)\n",
      "Got the result from ././fragments/Frag4//train/filtrations/4/RadialFiltration_51_51/diagrams.npy\n",
      "Applying Scaler to persistence diagrams.\n",
      "Got the result from ././fragments/Frag4//train/filtrations/4/RadialFiltration_51_51/features.npy\n",
      "Applying filtration 49/72: 6/HeightFiltrartion_-1_-1\n",
      "FiltrationExtractor: processing ./fragments/Frag4//train/filtrations/6/HeightFiltrartion_-1_-1, do_fit = False, filtration = HeightFiltration(direction=array([-1, -1]), n_jobs=-1)\n",
      "Got the result from ././fragments/Frag4//train/filtrations/6/HeightFiltrartion_-1_-1/diagrams.npy\n",
      "Applying Scaler to persistence diagrams.\n",
      "Got the result from ././fragments/Frag4//train/filtrations/6/HeightFiltrartion_-1_-1/features.npy\n",
      "Applying filtration 50/72: 6/HeightFiltrartion_1_1\n",
      "FiltrationExtractor: processing ./fragments/Frag4//train/filtrations/6/HeightFiltrartion_1_1, do_fit = False, filtration = HeightFiltration(direction=array([1, 1]), n_jobs=-1)\n",
      "Got the result from ././fragments/Frag4//train/filtrations/6/HeightFiltrartion_1_1/diagrams.npy\n",
      "Applying Scaler to persistence diagrams.\n",
      "Got the result from ././fragments/Frag4//train/filtrations/6/HeightFiltrartion_1_1/features.npy\n",
      "Applying filtration 51/72: 6/HeightFiltrartion_1_-1\n",
      "FiltrationExtractor: processing ./fragments/Frag4//train/filtrations/6/HeightFiltrartion_1_-1, do_fit = False, filtration = HeightFiltration(direction=array([ 1, -1]), n_jobs=-1)\n",
      "Got the result from ././fragments/Frag4//train/filtrations/6/HeightFiltrartion_1_-1/diagrams.npy\n",
      "Applying Scaler to persistence diagrams.\n",
      "Got the result from ././fragments/Frag4//train/filtrations/6/HeightFiltrartion_1_-1/features.npy\n",
      "Applying filtration 52/72: 6/HeightFiltrartion_-1_1\n",
      "FiltrationExtractor: processing ./fragments/Frag4//train/filtrations/6/HeightFiltrartion_-1_1, do_fit = False, filtration = HeightFiltration(direction=array([-1,  1]), n_jobs=-1)\n",
      "Got the result from ././fragments/Frag4//train/filtrations/6/HeightFiltrartion_-1_1/diagrams.npy\n",
      "Applying Scaler to persistence diagrams.\n",
      "Got the result from ././fragments/Frag4//train/filtrations/6/HeightFiltrartion_-1_1/features.npy\n",
      "Applying filtration 53/72: 6/HeightFiltrartion_0_-1\n",
      "FiltrationExtractor: processing ./fragments/Frag4//train/filtrations/6/HeightFiltrartion_0_-1, do_fit = False, filtration = HeightFiltration(direction=array([ 0, -1]), n_jobs=-1)\n",
      "Got the result from ././fragments/Frag4//train/filtrations/6/HeightFiltrartion_0_-1/diagrams.npy\n",
      "Applying Scaler to persistence diagrams.\n",
      "Got the result from ././fragments/Frag4//train/filtrations/6/HeightFiltrartion_0_-1/features.npy\n",
      "Applying filtration 54/72: 6/HeightFiltrartion_0_1\n",
      "FiltrationExtractor: processing ./fragments/Frag4//train/filtrations/6/HeightFiltrartion_0_1, do_fit = False, filtration = HeightFiltration(direction=array([0, 1]), n_jobs=-1)\n",
      "Got the result from ././fragments/Frag4//train/filtrations/6/HeightFiltrartion_0_1/diagrams.npy\n",
      "Applying Scaler to persistence diagrams.\n",
      "Got the result from ././fragments/Frag4//train/filtrations/6/HeightFiltrartion_0_1/features.npy\n",
      "Applying filtration 55/72: 6/HeightFiltrartion_-1_0\n",
      "FiltrationExtractor: processing ./fragments/Frag4//train/filtrations/6/HeightFiltrartion_-1_0, do_fit = False, filtration = HeightFiltration(direction=array([-1,  0]), n_jobs=-1)\n",
      "Got the result from ././fragments/Frag4//train/filtrations/6/HeightFiltrartion_-1_0/diagrams.npy\n",
      "Applying Scaler to persistence diagrams.\n",
      "Got the result from ././fragments/Frag4//train/filtrations/6/HeightFiltrartion_-1_0/features.npy\n",
      "Applying filtration 56/72: 6/HeightFiltrartion_1_0\n",
      "FiltrationExtractor: processing ./fragments/Frag4//train/filtrations/6/HeightFiltrartion_1_0, do_fit = False, filtration = HeightFiltration(direction=array([1, 0]), n_jobs=-1)\n",
      "Got the result from ././fragments/Frag4//train/filtrations/6/HeightFiltrartion_1_0/diagrams.npy\n",
      "Applying Scaler to persistence diagrams.\n",
      "Got the result from ././fragments/Frag4//train/filtrations/6/HeightFiltrartion_1_0/features.npy\n",
      "Applying filtration 57/72: 6/RadialFiltration_12_12\n",
      "FiltrationExtractor: processing ./fragments/Frag4//train/filtrations/6/RadialFiltration_12_12, do_fit = False, filtration = RadialFiltration(center=array([12, 12]), n_jobs=-1)\n",
      "Got the result from ././fragments/Frag4//train/filtrations/6/RadialFiltration_12_12/diagrams.npy\n",
      "Applying Scaler to persistence diagrams.\n",
      "Got the result from ././fragments/Frag4//train/filtrations/6/RadialFiltration_12_12/features.npy\n",
      "Applying filtration 58/72: 6/RadialFiltration_12_25\n",
      "FiltrationExtractor: processing ./fragments/Frag4//train/filtrations/6/RadialFiltration_12_25, do_fit = False, filtration = RadialFiltration(center=array([12, 25]), n_jobs=-1)\n",
      "Got the result from ././fragments/Frag4//train/filtrations/6/RadialFiltration_12_25/diagrams.npy\n",
      "Applying Scaler to persistence diagrams.\n",
      "Got the result from ././fragments/Frag4//train/filtrations/6/RadialFiltration_12_25/features.npy\n",
      "Applying filtration 59/72: 6/RadialFiltration_12_38\n",
      "FiltrationExtractor: processing ./fragments/Frag4//train/filtrations/6/RadialFiltration_12_38, do_fit = False, filtration = RadialFiltration(center=array([12, 38]), n_jobs=-1)\n",
      "Got the result from ././fragments/Frag4//train/filtrations/6/RadialFiltration_12_38/diagrams.npy\n",
      "Applying Scaler to persistence diagrams.\n",
      "Got the result from ././fragments/Frag4//train/filtrations/6/RadialFiltration_12_38/features.npy\n",
      "Applying filtration 60/72: 6/RadialFiltration_12_51\n",
      "FiltrationExtractor: processing ./fragments/Frag4//train/filtrations/6/RadialFiltration_12_51, do_fit = False, filtration = RadialFiltration(center=array([12, 51]), n_jobs=-1)\n",
      "Got the result from ././fragments/Frag4//train/filtrations/6/RadialFiltration_12_51/diagrams.npy\n",
      "Applying Scaler to persistence diagrams.\n",
      "Got the result from ././fragments/Frag4//train/filtrations/6/RadialFiltration_12_51/features.npy\n",
      "Applying filtration 61/72: 6/RadialFiltration_25_12\n",
      "FiltrationExtractor: processing ./fragments/Frag4//train/filtrations/6/RadialFiltration_25_12, do_fit = False, filtration = RadialFiltration(center=array([25, 12]), n_jobs=-1)\n",
      "Got the result from ././fragments/Frag4//train/filtrations/6/RadialFiltration_25_12/diagrams.npy\n",
      "Applying Scaler to persistence diagrams.\n",
      "Got the result from ././fragments/Frag4//train/filtrations/6/RadialFiltration_25_12/features.npy\n",
      "Applying filtration 62/72: 6/RadialFiltration_25_25\n",
      "FiltrationExtractor: processing ./fragments/Frag4//train/filtrations/6/RadialFiltration_25_25, do_fit = False, filtration = RadialFiltration(center=array([25, 25]), n_jobs=-1)\n",
      "Got the result from ././fragments/Frag4//train/filtrations/6/RadialFiltration_25_25/diagrams.npy\n",
      "Applying Scaler to persistence diagrams.\n",
      "Got the result from ././fragments/Frag4//train/filtrations/6/RadialFiltration_25_25/features.npy\n",
      "Applying filtration 63/72: 6/RadialFiltration_25_38\n",
      "FiltrationExtractor: processing ./fragments/Frag4//train/filtrations/6/RadialFiltration_25_38, do_fit = False, filtration = RadialFiltration(center=array([25, 38]), n_jobs=-1)\n",
      "Got the result from ././fragments/Frag4//train/filtrations/6/RadialFiltration_25_38/diagrams.npy\n",
      "Applying Scaler to persistence diagrams.\n",
      "Got the result from ././fragments/Frag4//train/filtrations/6/RadialFiltration_25_38/features.npy\n",
      "Applying filtration 64/72: 6/RadialFiltration_25_51\n",
      "FiltrationExtractor: processing ./fragments/Frag4//train/filtrations/6/RadialFiltration_25_51, do_fit = False, filtration = RadialFiltration(center=array([25, 51]), n_jobs=-1)\n",
      "Got the result from ././fragments/Frag4//train/filtrations/6/RadialFiltration_25_51/diagrams.npy\n",
      "Applying Scaler to persistence diagrams.\n",
      "Got the result from ././fragments/Frag4//train/filtrations/6/RadialFiltration_25_51/features.npy\n",
      "Applying filtration 65/72: 6/RadialFiltration_38_12\n",
      "FiltrationExtractor: processing ./fragments/Frag4//train/filtrations/6/RadialFiltration_38_12, do_fit = False, filtration = RadialFiltration(center=array([38, 12]), n_jobs=-1)\n",
      "Got the result from ././fragments/Frag4//train/filtrations/6/RadialFiltration_38_12/diagrams.npy\n",
      "Applying Scaler to persistence diagrams.\n",
      "Got the result from ././fragments/Frag4//train/filtrations/6/RadialFiltration_38_12/features.npy\n",
      "Applying filtration 66/72: 6/RadialFiltration_38_25\n",
      "FiltrationExtractor: processing ./fragments/Frag4//train/filtrations/6/RadialFiltration_38_25, do_fit = False, filtration = RadialFiltration(center=array([38, 25]), n_jobs=-1)\n",
      "Got the result from ././fragments/Frag4//train/filtrations/6/RadialFiltration_38_25/diagrams.npy\n",
      "Applying Scaler to persistence diagrams.\n",
      "Got the result from ././fragments/Frag4//train/filtrations/6/RadialFiltration_38_25/features.npy\n",
      "Applying filtration 67/72: 6/RadialFiltration_38_38\n",
      "FiltrationExtractor: processing ./fragments/Frag4//train/filtrations/6/RadialFiltration_38_38, do_fit = False, filtration = RadialFiltration(center=array([38, 38]), n_jobs=-1)\n",
      "Got the result from ././fragments/Frag4//train/filtrations/6/RadialFiltration_38_38/diagrams.npy\n",
      "Applying Scaler to persistence diagrams.\n",
      "Got the result from ././fragments/Frag4//train/filtrations/6/RadialFiltration_38_38/features.npy\n",
      "Applying filtration 68/72: 6/RadialFiltration_38_51\n",
      "FiltrationExtractor: processing ./fragments/Frag4//train/filtrations/6/RadialFiltration_38_51, do_fit = False, filtration = RadialFiltration(center=array([38, 51]), n_jobs=-1)\n",
      "Got the result from ././fragments/Frag4//train/filtrations/6/RadialFiltration_38_51/diagrams.npy\n",
      "Applying Scaler to persistence diagrams.\n",
      "Got the result from ././fragments/Frag4//train/filtrations/6/RadialFiltration_38_51/features.npy\n",
      "Applying filtration 69/72: 6/RadialFiltration_51_12\n",
      "FiltrationExtractor: processing ./fragments/Frag4//train/filtrations/6/RadialFiltration_51_12, do_fit = False, filtration = RadialFiltration(center=array([51, 12]), n_jobs=-1)\n",
      "Got the result from ././fragments/Frag4//train/filtrations/6/RadialFiltration_51_12/diagrams.npy\n",
      "Applying Scaler to persistence diagrams.\n",
      "Got the result from ././fragments/Frag4//train/filtrations/6/RadialFiltration_51_12/features.npy\n",
      "Applying filtration 70/72: 6/RadialFiltration_51_25\n",
      "FiltrationExtractor: processing ./fragments/Frag4//train/filtrations/6/RadialFiltration_51_25, do_fit = False, filtration = RadialFiltration(center=array([51, 25]), n_jobs=-1)\n",
      "Got the result from ././fragments/Frag4//train/filtrations/6/RadialFiltration_51_25/diagrams.npy\n",
      "Applying Scaler to persistence diagrams.\n",
      "Got the result from ././fragments/Frag4//train/filtrations/6/RadialFiltration_51_25/features.npy\n",
      "Applying filtration 71/72: 6/RadialFiltration_51_38\n",
      "FiltrationExtractor: processing ./fragments/Frag4//train/filtrations/6/RadialFiltration_51_38, do_fit = False, filtration = RadialFiltration(center=array([51, 38]), n_jobs=-1)\n",
      "Got the result from ././fragments/Frag4//train/filtrations/6/RadialFiltration_51_38/diagrams.npy\n",
      "Applying Scaler to persistence diagrams.\n",
      "Got the result from ././fragments/Frag4//train/filtrations/6/RadialFiltration_51_38/features.npy\n",
      "Applying filtration 72/72: 6/RadialFiltration_51_51\n",
      "FiltrationExtractor: processing ./fragments/Frag4//train/filtrations/6/RadialFiltration_51_51, do_fit = False, filtration = RadialFiltration(center=array([51, 51]), n_jobs=-1)\n",
      "Got the result from ././fragments/Frag4//train/filtrations/6/RadialFiltration_51_51/diagrams.npy\n",
      "Applying Scaler to persistence diagrams.\n",
      "Got the result from ././fragments/Frag4//train/filtrations/6/RadialFiltration_51_51/features.npy\n",
      "Got the result from ././fragments/Frag4//train/geometry/features.npy\n",
      "Applying StandardScaler.\n",
      "Calculating inverted images\n",
      "GreyscaleExtractor: processing ./fragments/Frag4//test/greyscale, do_fit = False\n",
      "Saving the result to ././fragments/Frag4//test/greyscale/diagrams.npy\n",
      "Applying Scaler to persistence diagrams.\n"
     ]
    },
    {
     "name": "stderr",
     "output_type": "stream",
     "text": [
      "DiagramVectorizer: batch: 100%|██████████| 2/2 [00:00<00:00,  4.42it/s]\n"
     ]
    },
    {
     "name": "stdout",
     "output_type": "stream",
     "text": [
      "Saving the result to ././fragments/Frag4//test/greyscale/features.npy\n",
      "GreyscaleExtractor: processing ./fragments/Frag4//test/inverted_greyscale, do_fit = False\n",
      "Saving the result to ././fragments/Frag4//test/inverted_greyscale/diagrams.npy\n",
      "Applying Scaler to persistence diagrams.\n"
     ]
    },
    {
     "name": "stderr",
     "output_type": "stream",
     "text": [
      "DiagramVectorizer: batch: 100%|██████████| 2/2 [00:00<00:00,  4.18it/s]\n"
     ]
    },
    {
     "name": "stdout",
     "output_type": "stream",
     "text": [
      "Saving the result to ././fragments/Frag4//test/inverted_greyscale/features.npy\n",
      "Applying filtrations\n",
      "Applying filtration 1/72: 2/HeightFiltrartion_-1_-1\n",
      "FiltrationExtractor: processing ./fragments/Frag4//test/filtrations/2/HeightFiltrartion_-1_-1, do_fit = False, filtration = HeightFiltration(direction=array([-1, -1]), n_jobs=-1)\n"
     ]
    },
    {
     "name": "stderr",
     "output_type": "stream",
     "text": [
      "d:\\Programs\\Programming\\Python\\lib\\site-packages\\gtda\\diagrams\\preprocessing.py:295: RuntimeWarning: invalid value encountered in divide\n",
      "  Xs[:, :, :2] /= self.scale_\n"
     ]
    },
    {
     "name": "stdout",
     "output_type": "stream",
     "text": [
      "Saving the result to ././fragments/Frag4//test/filtrations/2/HeightFiltrartion_-1_-1/diagrams.npy\n",
      "Applying Scaler to persistence diagrams.\n"
     ]
    },
    {
     "name": "stderr",
     "output_type": "stream",
     "text": [
      "DiagramVectorizer: batch: 100%|██████████| 2/2 [00:00<00:00, 100.01it/s]"
     ]
    },
    {
     "name": "stdout",
     "output_type": "stream",
     "text": [
      "Saving the result to ././fragments/Frag4//test/filtrations/2/HeightFiltrartion_-1_-1/features.npy\n",
      "Applying filtration 2/72: 2/HeightFiltrartion_1_1\n",
      "FiltrationExtractor: processing ./fragments/Frag4//test/filtrations/2/HeightFiltrartion_1_1, do_fit = False, filtration = HeightFiltration(direction=array([1, 1]), n_jobs=-1)\n"
     ]
    },
    {
     "name": "stderr",
     "output_type": "stream",
     "text": [
      "\n",
      "d:\\Programs\\Programming\\Python\\lib\\site-packages\\gtda\\diagrams\\preprocessing.py:295: RuntimeWarning: invalid value encountered in divide\n",
      "  Xs[:, :, :2] /= self.scale_\n"
     ]
    },
    {
     "name": "stdout",
     "output_type": "stream",
     "text": [
      "Saving the result to ././fragments/Frag4//test/filtrations/2/HeightFiltrartion_1_1/diagrams.npy\n",
      "Applying Scaler to persistence diagrams.\n"
     ]
    },
    {
     "name": "stderr",
     "output_type": "stream",
     "text": [
      "DiagramVectorizer: batch: 100%|██████████| 2/2 [00:00<00:00, 95.24it/s]"
     ]
    },
    {
     "name": "stdout",
     "output_type": "stream",
     "text": [
      "Saving the result to ././fragments/Frag4//test/filtrations/2/HeightFiltrartion_1_1/features.npy\n",
      "Applying filtration 3/72: 2/HeightFiltrartion_1_-1\n",
      "FiltrationExtractor: processing ./fragments/Frag4//test/filtrations/2/HeightFiltrartion_1_-1, do_fit = False, filtration = HeightFiltration(direction=array([ 1, -1]), n_jobs=-1)\n"
     ]
    },
    {
     "name": "stderr",
     "output_type": "stream",
     "text": [
      "\n",
      "d:\\Programs\\Programming\\Python\\lib\\site-packages\\gtda\\diagrams\\preprocessing.py:295: RuntimeWarning: invalid value encountered in divide\n",
      "  Xs[:, :, :2] /= self.scale_\n"
     ]
    },
    {
     "name": "stdout",
     "output_type": "stream",
     "text": [
      "Saving the result to ././fragments/Frag4//test/filtrations/2/HeightFiltrartion_1_-1/diagrams.npy\n",
      "Applying Scaler to persistence diagrams.\n"
     ]
    },
    {
     "name": "stderr",
     "output_type": "stream",
     "text": [
      "DiagramVectorizer: batch: 100%|██████████| 2/2 [00:00<00:00, 100.02it/s]"
     ]
    },
    {
     "name": "stdout",
     "output_type": "stream",
     "text": [
      "Saving the result to ././fragments/Frag4//test/filtrations/2/HeightFiltrartion_1_-1/features.npy\n",
      "Applying filtration 4/72: 2/HeightFiltrartion_-1_1\n",
      "FiltrationExtractor: processing ./fragments/Frag4//test/filtrations/2/HeightFiltrartion_-1_1, do_fit = False, filtration = HeightFiltration(direction=array([-1,  1]), n_jobs=-1)\n"
     ]
    },
    {
     "name": "stderr",
     "output_type": "stream",
     "text": [
      "\n",
      "d:\\Programs\\Programming\\Python\\lib\\site-packages\\gtda\\diagrams\\preprocessing.py:295: RuntimeWarning: invalid value encountered in divide\n",
      "  Xs[:, :, :2] /= self.scale_\n"
     ]
    },
    {
     "name": "stdout",
     "output_type": "stream",
     "text": [
      "Saving the result to ././fragments/Frag4//test/filtrations/2/HeightFiltrartion_-1_1/diagrams.npy\n",
      "Applying Scaler to persistence diagrams.\n"
     ]
    },
    {
     "name": "stderr",
     "output_type": "stream",
     "text": [
      "DiagramVectorizer: batch: 100%|██████████| 2/2 [00:00<00:00, 166.69it/s]"
     ]
    },
    {
     "name": "stdout",
     "output_type": "stream",
     "text": [
      "Saving the result to ././fragments/Frag4//test/filtrations/2/HeightFiltrartion_-1_1/features.npy\n",
      "Applying filtration 5/72: 2/HeightFiltrartion_0_-1\n",
      "FiltrationExtractor: processing ./fragments/Frag4//test/filtrations/2/HeightFiltrartion_0_-1, do_fit = False, filtration = HeightFiltration(direction=array([ 0, -1]), n_jobs=-1)\n"
     ]
    },
    {
     "name": "stderr",
     "output_type": "stream",
     "text": [
      "\n",
      "d:\\Programs\\Programming\\Python\\lib\\site-packages\\gtda\\diagrams\\preprocessing.py:295: RuntimeWarning: invalid value encountered in divide\n",
      "  Xs[:, :, :2] /= self.scale_\n"
     ]
    },
    {
     "name": "stdout",
     "output_type": "stream",
     "text": [
      "Saving the result to ././fragments/Frag4//test/filtrations/2/HeightFiltrartion_0_-1/diagrams.npy\n",
      "Applying Scaler to persistence diagrams.\n"
     ]
    },
    {
     "name": "stderr",
     "output_type": "stream",
     "text": [
      "DiagramVectorizer: batch: 100%|██████████| 2/2 [00:00<00:00, 133.34it/s]"
     ]
    },
    {
     "name": "stdout",
     "output_type": "stream",
     "text": [
      "Saving the result to ././fragments/Frag4//test/filtrations/2/HeightFiltrartion_0_-1/features.npy\n",
      "Applying filtration 6/72: 2/HeightFiltrartion_0_1\n",
      "FiltrationExtractor: processing ./fragments/Frag4//test/filtrations/2/HeightFiltrartion_0_1, do_fit = False, filtration = HeightFiltration(direction=array([0, 1]), n_jobs=-1)\n"
     ]
    },
    {
     "name": "stderr",
     "output_type": "stream",
     "text": [
      "\n",
      "d:\\Programs\\Programming\\Python\\lib\\site-packages\\gtda\\diagrams\\preprocessing.py:295: RuntimeWarning: invalid value encountered in divide\n",
      "  Xs[:, :, :2] /= self.scale_\n"
     ]
    },
    {
     "name": "stdout",
     "output_type": "stream",
     "text": [
      "Saving the result to ././fragments/Frag4//test/filtrations/2/HeightFiltrartion_0_1/diagrams.npy\n",
      "Applying Scaler to persistence diagrams.\n"
     ]
    },
    {
     "name": "stderr",
     "output_type": "stream",
     "text": [
      "DiagramVectorizer: batch: 100%|██████████| 2/2 [00:00<00:00, 181.87it/s]"
     ]
    },
    {
     "name": "stdout",
     "output_type": "stream",
     "text": [
      "Saving the result to ././fragments/Frag4//test/filtrations/2/HeightFiltrartion_0_1/features.npy\n",
      "Applying filtration 7/72: 2/HeightFiltrartion_-1_0\n",
      "FiltrationExtractor: processing ./fragments/Frag4//test/filtrations/2/HeightFiltrartion_-1_0, do_fit = False, filtration = HeightFiltration(direction=array([-1,  0]), n_jobs=-1)\n"
     ]
    },
    {
     "name": "stderr",
     "output_type": "stream",
     "text": [
      "\n",
      "d:\\Programs\\Programming\\Python\\lib\\site-packages\\gtda\\diagrams\\preprocessing.py:295: RuntimeWarning: invalid value encountered in divide\n",
      "  Xs[:, :, :2] /= self.scale_\n"
     ]
    },
    {
     "name": "stdout",
     "output_type": "stream",
     "text": [
      "Saving the result to ././fragments/Frag4//test/filtrations/2/HeightFiltrartion_-1_0/diagrams.npy\n",
      "Applying Scaler to persistence diagrams.\n"
     ]
    },
    {
     "name": "stderr",
     "output_type": "stream",
     "text": [
      "DiagramVectorizer: batch: 100%|██████████| 2/2 [00:00<00:00, 100.01it/s]"
     ]
    },
    {
     "name": "stdout",
     "output_type": "stream",
     "text": [
      "Saving the result to ././fragments/Frag4//test/filtrations/2/HeightFiltrartion_-1_0/features.npy\n",
      "Applying filtration 8/72: 2/HeightFiltrartion_1_0\n",
      "FiltrationExtractor: processing ./fragments/Frag4//test/filtrations/2/HeightFiltrartion_1_0, do_fit = False, filtration = HeightFiltration(direction=array([1, 0]), n_jobs=-1)\n"
     ]
    },
    {
     "name": "stderr",
     "output_type": "stream",
     "text": [
      "\n",
      "d:\\Programs\\Programming\\Python\\lib\\site-packages\\gtda\\diagrams\\preprocessing.py:295: RuntimeWarning: invalid value encountered in divide\n",
      "  Xs[:, :, :2] /= self.scale_\n"
     ]
    },
    {
     "name": "stdout",
     "output_type": "stream",
     "text": [
      "Saving the result to ././fragments/Frag4//test/filtrations/2/HeightFiltrartion_1_0/diagrams.npy\n",
      "Applying Scaler to persistence diagrams.\n"
     ]
    },
    {
     "name": "stderr",
     "output_type": "stream",
     "text": [
      "DiagramVectorizer: batch: 100%|██████████| 2/2 [00:00<00:00, 90.93it/s]"
     ]
    },
    {
     "name": "stdout",
     "output_type": "stream",
     "text": [
      "Saving the result to ././fragments/Frag4//test/filtrations/2/HeightFiltrartion_1_0/features.npy\n",
      "Applying filtration 9/72: 2/RadialFiltration_12_12\n",
      "FiltrationExtractor: processing ./fragments/Frag4//test/filtrations/2/RadialFiltration_12_12, do_fit = False, filtration = RadialFiltration(center=array([12, 12]), n_jobs=-1)\n"
     ]
    },
    {
     "name": "stderr",
     "output_type": "stream",
     "text": [
      "\n",
      "d:\\Programs\\Programming\\Python\\lib\\site-packages\\gtda\\diagrams\\preprocessing.py:295: RuntimeWarning: invalid value encountered in divide\n",
      "  Xs[:, :, :2] /= self.scale_\n"
     ]
    },
    {
     "name": "stdout",
     "output_type": "stream",
     "text": [
      "Saving the result to ././fragments/Frag4//test/filtrations/2/RadialFiltration_12_12/diagrams.npy\n",
      "Applying Scaler to persistence diagrams.\n"
     ]
    },
    {
     "name": "stderr",
     "output_type": "stream",
     "text": [
      "DiagramVectorizer: batch: 100%|██████████| 2/2 [00:00<00:00, 105.26it/s]"
     ]
    },
    {
     "name": "stdout",
     "output_type": "stream",
     "text": [
      "Saving the result to ././fragments/Frag4//test/filtrations/2/RadialFiltration_12_12/features.npy\n",
      "Applying filtration 10/72: 2/RadialFiltration_12_25\n",
      "FiltrationExtractor: processing ./fragments/Frag4//test/filtrations/2/RadialFiltration_12_25, do_fit = False, filtration = RadialFiltration(center=array([12, 25]), n_jobs=-1)\n"
     ]
    },
    {
     "name": "stderr",
     "output_type": "stream",
     "text": [
      "\n",
      "d:\\Programs\\Programming\\Python\\lib\\site-packages\\gtda\\diagrams\\preprocessing.py:295: RuntimeWarning: invalid value encountered in divide\n",
      "  Xs[:, :, :2] /= self.scale_\n"
     ]
    },
    {
     "name": "stdout",
     "output_type": "stream",
     "text": [
      "Saving the result to ././fragments/Frag4//test/filtrations/2/RadialFiltration_12_25/diagrams.npy\n",
      "Applying Scaler to persistence diagrams.\n"
     ]
    },
    {
     "name": "stderr",
     "output_type": "stream",
     "text": [
      "DiagramVectorizer: batch: 100%|██████████| 2/2 [00:00<00:00, 166.72it/s]"
     ]
    },
    {
     "name": "stdout",
     "output_type": "stream",
     "text": [
      "Saving the result to ././fragments/Frag4//test/filtrations/2/RadialFiltration_12_25/features.npy\n",
      "Applying filtration 11/72: 2/RadialFiltration_12_38\n",
      "FiltrationExtractor: processing ./fragments/Frag4//test/filtrations/2/RadialFiltration_12_38, do_fit = False, filtration = RadialFiltration(center=array([12, 38]), n_jobs=-1)\n"
     ]
    },
    {
     "name": "stderr",
     "output_type": "stream",
     "text": [
      "\n",
      "d:\\Programs\\Programming\\Python\\lib\\site-packages\\gtda\\diagrams\\preprocessing.py:295: RuntimeWarning: invalid value encountered in divide\n",
      "  Xs[:, :, :2] /= self.scale_\n"
     ]
    },
    {
     "name": "stdout",
     "output_type": "stream",
     "text": [
      "Saving the result to ././fragments/Frag4//test/filtrations/2/RadialFiltration_12_38/diagrams.npy\n",
      "Applying Scaler to persistence diagrams.\n"
     ]
    },
    {
     "name": "stderr",
     "output_type": "stream",
     "text": [
      "DiagramVectorizer: batch: 100%|██████████| 2/2 [00:00<00:00, 166.76it/s]"
     ]
    },
    {
     "name": "stdout",
     "output_type": "stream",
     "text": [
      "Saving the result to ././fragments/Frag4//test/filtrations/2/RadialFiltration_12_38/features.npy\n",
      "Applying filtration 12/72: 2/RadialFiltration_12_51\n",
      "FiltrationExtractor: processing ./fragments/Frag4//test/filtrations/2/RadialFiltration_12_51, do_fit = False, filtration = RadialFiltration(center=array([12, 51]), n_jobs=-1)\n"
     ]
    },
    {
     "name": "stderr",
     "output_type": "stream",
     "text": [
      "\n",
      "d:\\Programs\\Programming\\Python\\lib\\site-packages\\gtda\\diagrams\\preprocessing.py:295: RuntimeWarning: invalid value encountered in divide\n",
      "  Xs[:, :, :2] /= self.scale_\n"
     ]
    },
    {
     "name": "stdout",
     "output_type": "stream",
     "text": [
      "Saving the result to ././fragments/Frag4//test/filtrations/2/RadialFiltration_12_51/diagrams.npy\n",
      "Applying Scaler to persistence diagrams.\n"
     ]
    },
    {
     "name": "stderr",
     "output_type": "stream",
     "text": [
      "DiagramVectorizer: batch: 100%|██████████| 2/2 [00:00<00:00, 95.27it/s]"
     ]
    },
    {
     "name": "stdout",
     "output_type": "stream",
     "text": [
      "Saving the result to ././fragments/Frag4//test/filtrations/2/RadialFiltration_12_51/features.npy\n",
      "Applying filtration 13/72: 2/RadialFiltration_25_12\n",
      "FiltrationExtractor: processing ./fragments/Frag4//test/filtrations/2/RadialFiltration_25_12, do_fit = False, filtration = RadialFiltration(center=array([25, 12]), n_jobs=-1)\n"
     ]
    },
    {
     "name": "stderr",
     "output_type": "stream",
     "text": [
      "\n",
      "d:\\Programs\\Programming\\Python\\lib\\site-packages\\gtda\\diagrams\\preprocessing.py:295: RuntimeWarning: invalid value encountered in divide\n",
      "  Xs[:, :, :2] /= self.scale_\n"
     ]
    },
    {
     "name": "stdout",
     "output_type": "stream",
     "text": [
      "Saving the result to ././fragments/Frag4//test/filtrations/2/RadialFiltration_25_12/diagrams.npy\n",
      "Applying Scaler to persistence diagrams.\n"
     ]
    },
    {
     "name": "stderr",
     "output_type": "stream",
     "text": [
      "DiagramVectorizer: batch: 100%|██████████| 2/2 [00:00<00:00, 95.26it/s]"
     ]
    },
    {
     "name": "stdout",
     "output_type": "stream",
     "text": [
      "Saving the result to ././fragments/Frag4//test/filtrations/2/RadialFiltration_25_12/features.npy\n",
      "Applying filtration 14/72: 2/RadialFiltration_25_25\n",
      "FiltrationExtractor: processing ./fragments/Frag4//test/filtrations/2/RadialFiltration_25_25, do_fit = False, filtration = RadialFiltration(center=array([25, 25]), n_jobs=-1)\n"
     ]
    },
    {
     "name": "stderr",
     "output_type": "stream",
     "text": [
      "\n",
      "d:\\Programs\\Programming\\Python\\lib\\site-packages\\gtda\\diagrams\\preprocessing.py:295: RuntimeWarning: invalid value encountered in divide\n",
      "  Xs[:, :, :2] /= self.scale_\n"
     ]
    },
    {
     "name": "stdout",
     "output_type": "stream",
     "text": [
      "Saving the result to ././fragments/Frag4//test/filtrations/2/RadialFiltration_25_25/diagrams.npy\n",
      "Applying Scaler to persistence diagrams.\n"
     ]
    },
    {
     "name": "stderr",
     "output_type": "stream",
     "text": [
      "DiagramVectorizer: batch: 100%|██████████| 2/2 [00:00<00:00, 86.96it/s]"
     ]
    },
    {
     "name": "stdout",
     "output_type": "stream",
     "text": [
      "Saving the result to ././fragments/Frag4//test/filtrations/2/RadialFiltration_25_25/features.npy\n",
      "Applying filtration 15/72: 2/RadialFiltration_25_38\n",
      "FiltrationExtractor: processing ./fragments/Frag4//test/filtrations/2/RadialFiltration_25_38, do_fit = False, filtration = RadialFiltration(center=array([25, 38]), n_jobs=-1)\n"
     ]
    },
    {
     "name": "stderr",
     "output_type": "stream",
     "text": [
      "\n",
      "d:\\Programs\\Programming\\Python\\lib\\site-packages\\gtda\\diagrams\\preprocessing.py:295: RuntimeWarning: invalid value encountered in divide\n",
      "  Xs[:, :, :2] /= self.scale_\n"
     ]
    },
    {
     "name": "stdout",
     "output_type": "stream",
     "text": [
      "Saving the result to ././fragments/Frag4//test/filtrations/2/RadialFiltration_25_38/diagrams.npy\n",
      "Applying Scaler to persistence diagrams.\n"
     ]
    },
    {
     "name": "stderr",
     "output_type": "stream",
     "text": [
      "DiagramVectorizer: batch: 100%|██████████| 2/2 [00:00<00:00, 86.84it/s]"
     ]
    },
    {
     "name": "stdout",
     "output_type": "stream",
     "text": [
      "Saving the result to ././fragments/Frag4//test/filtrations/2/RadialFiltration_25_38/features.npy\n",
      "Applying filtration 16/72: 2/RadialFiltration_25_51\n",
      "FiltrationExtractor: processing ./fragments/Frag4//test/filtrations/2/RadialFiltration_25_51, do_fit = False, filtration = RadialFiltration(center=array([25, 51]), n_jobs=-1)\n"
     ]
    },
    {
     "name": "stderr",
     "output_type": "stream",
     "text": [
      "\n",
      "d:\\Programs\\Programming\\Python\\lib\\site-packages\\gtda\\diagrams\\preprocessing.py:295: RuntimeWarning: invalid value encountered in divide\n",
      "  Xs[:, :, :2] /= self.scale_\n"
     ]
    },
    {
     "name": "stdout",
     "output_type": "stream",
     "text": [
      "Saving the result to ././fragments/Frag4//test/filtrations/2/RadialFiltration_25_51/diagrams.npy\n",
      "Applying Scaler to persistence diagrams.\n"
     ]
    },
    {
     "name": "stderr",
     "output_type": "stream",
     "text": [
      "DiagramVectorizer: batch: 100%|██████████| 2/2 [00:00<00:00, 90.91it/s]"
     ]
    },
    {
     "name": "stdout",
     "output_type": "stream",
     "text": [
      "Saving the result to ././fragments/Frag4//test/filtrations/2/RadialFiltration_25_51/features.npy\n",
      "Applying filtration 17/72: 2/RadialFiltration_38_12\n",
      "FiltrationExtractor: processing ./fragments/Frag4//test/filtrations/2/RadialFiltration_38_12, do_fit = False, filtration = RadialFiltration(center=array([38, 12]), n_jobs=-1)\n"
     ]
    },
    {
     "name": "stderr",
     "output_type": "stream",
     "text": [
      "\n",
      "d:\\Programs\\Programming\\Python\\lib\\site-packages\\gtda\\diagrams\\preprocessing.py:295: RuntimeWarning: invalid value encountered in divide\n",
      "  Xs[:, :, :2] /= self.scale_\n"
     ]
    },
    {
     "name": "stdout",
     "output_type": "stream",
     "text": [
      "Saving the result to ././fragments/Frag4//test/filtrations/2/RadialFiltration_38_12/diagrams.npy\n",
      "Applying Scaler to persistence diagrams.\n"
     ]
    },
    {
     "name": "stderr",
     "output_type": "stream",
     "text": [
      "DiagramVectorizer: batch: 100%|██████████| 2/2 [00:00<00:00, 83.33it/s]"
     ]
    },
    {
     "name": "stdout",
     "output_type": "stream",
     "text": [
      "Saving the result to ././fragments/Frag4//test/filtrations/2/RadialFiltration_38_12/features.npy\n",
      "Applying filtration 18/72: 2/RadialFiltration_38_25\n",
      "FiltrationExtractor: processing ./fragments/Frag4//test/filtrations/2/RadialFiltration_38_25, do_fit = False, filtration = RadialFiltration(center=array([38, 25]), n_jobs=-1)\n"
     ]
    },
    {
     "name": "stderr",
     "output_type": "stream",
     "text": [
      "\n",
      "d:\\Programs\\Programming\\Python\\lib\\site-packages\\gtda\\diagrams\\preprocessing.py:295: RuntimeWarning: invalid value encountered in divide\n",
      "  Xs[:, :, :2] /= self.scale_\n"
     ]
    },
    {
     "name": "stdout",
     "output_type": "stream",
     "text": [
      "Saving the result to ././fragments/Frag4//test/filtrations/2/RadialFiltration_38_25/diagrams.npy\n",
      "Applying Scaler to persistence diagrams.\n"
     ]
    },
    {
     "name": "stderr",
     "output_type": "stream",
     "text": [
      "DiagramVectorizer: batch: 100%|██████████| 2/2 [00:00<00:00, 166.61it/s]"
     ]
    },
    {
     "name": "stdout",
     "output_type": "stream",
     "text": [
      "Saving the result to ././fragments/Frag4//test/filtrations/2/RadialFiltration_38_25/features.npy\n",
      "Applying filtration 19/72: 2/RadialFiltration_38_38\n",
      "FiltrationExtractor: processing ./fragments/Frag4//test/filtrations/2/RadialFiltration_38_38, do_fit = False, filtration = RadialFiltration(center=array([38, 38]), n_jobs=-1)\n"
     ]
    },
    {
     "name": "stderr",
     "output_type": "stream",
     "text": [
      "\n",
      "d:\\Programs\\Programming\\Python\\lib\\site-packages\\gtda\\diagrams\\preprocessing.py:295: RuntimeWarning: invalid value encountered in divide\n",
      "  Xs[:, :, :2] /= self.scale_\n"
     ]
    },
    {
     "name": "stdout",
     "output_type": "stream",
     "text": [
      "Saving the result to ././fragments/Frag4//test/filtrations/2/RadialFiltration_38_38/diagrams.npy\n",
      "Applying Scaler to persistence diagrams.\n"
     ]
    },
    {
     "name": "stderr",
     "output_type": "stream",
     "text": [
      "DiagramVectorizer: batch: 100%|██████████| 2/2 [00:00<00:00, 181.87it/s]"
     ]
    },
    {
     "name": "stdout",
     "output_type": "stream",
     "text": [
      "Saving the result to ././fragments/Frag4//test/filtrations/2/RadialFiltration_38_38/features.npy\n",
      "Applying filtration 20/72: 2/RadialFiltration_38_51\n",
      "FiltrationExtractor: processing ./fragments/Frag4//test/filtrations/2/RadialFiltration_38_51, do_fit = False, filtration = RadialFiltration(center=array([38, 51]), n_jobs=-1)\n"
     ]
    },
    {
     "name": "stderr",
     "output_type": "stream",
     "text": [
      "\n",
      "d:\\Programs\\Programming\\Python\\lib\\site-packages\\gtda\\diagrams\\preprocessing.py:295: RuntimeWarning: invalid value encountered in divide\n",
      "  Xs[:, :, :2] /= self.scale_\n"
     ]
    },
    {
     "name": "stdout",
     "output_type": "stream",
     "text": [
      "Saving the result to ././fragments/Frag4//test/filtrations/2/RadialFiltration_38_51/diagrams.npy\n",
      "Applying Scaler to persistence diagrams.\n"
     ]
    },
    {
     "name": "stderr",
     "output_type": "stream",
     "text": [
      "DiagramVectorizer: batch: 100%|██████████| 2/2 [00:00<00:00, 90.91it/s]"
     ]
    },
    {
     "name": "stdout",
     "output_type": "stream",
     "text": [
      "Saving the result to ././fragments/Frag4//test/filtrations/2/RadialFiltration_38_51/features.npy\n",
      "Applying filtration 21/72: 2/RadialFiltration_51_12\n",
      "FiltrationExtractor: processing ./fragments/Frag4//test/filtrations/2/RadialFiltration_51_12, do_fit = False, filtration = RadialFiltration(center=array([51, 12]), n_jobs=-1)\n"
     ]
    },
    {
     "name": "stderr",
     "output_type": "stream",
     "text": [
      "\n",
      "d:\\Programs\\Programming\\Python\\lib\\site-packages\\gtda\\diagrams\\preprocessing.py:295: RuntimeWarning: invalid value encountered in divide\n",
      "  Xs[:, :, :2] /= self.scale_\n"
     ]
    },
    {
     "name": "stdout",
     "output_type": "stream",
     "text": [
      "Saving the result to ././fragments/Frag4//test/filtrations/2/RadialFiltration_51_12/diagrams.npy\n",
      "Applying Scaler to persistence diagrams.\n"
     ]
    },
    {
     "name": "stderr",
     "output_type": "stream",
     "text": [
      "DiagramVectorizer: batch: 100%|██████████| 2/2 [00:00<00:00, 95.24it/s]"
     ]
    },
    {
     "name": "stdout",
     "output_type": "stream",
     "text": [
      "Saving the result to ././fragments/Frag4//test/filtrations/2/RadialFiltration_51_12/features.npy\n",
      "Applying filtration 22/72: 2/RadialFiltration_51_25\n",
      "FiltrationExtractor: processing ./fragments/Frag4//test/filtrations/2/RadialFiltration_51_25, do_fit = False, filtration = RadialFiltration(center=array([51, 25]), n_jobs=-1)\n"
     ]
    },
    {
     "name": "stderr",
     "output_type": "stream",
     "text": [
      "\n",
      "d:\\Programs\\Programming\\Python\\lib\\site-packages\\gtda\\diagrams\\preprocessing.py:295: RuntimeWarning: invalid value encountered in divide\n",
      "  Xs[:, :, :2] /= self.scale_\n"
     ]
    },
    {
     "name": "stdout",
     "output_type": "stream",
     "text": [
      "Saving the result to ././fragments/Frag4//test/filtrations/2/RadialFiltration_51_25/diagrams.npy\n",
      "Applying Scaler to persistence diagrams.\n"
     ]
    },
    {
     "name": "stderr",
     "output_type": "stream",
     "text": [
      "DiagramVectorizer: batch: 100%|██████████| 2/2 [00:00<00:00, 105.27it/s]"
     ]
    },
    {
     "name": "stdout",
     "output_type": "stream",
     "text": [
      "Saving the result to ././fragments/Frag4//test/filtrations/2/RadialFiltration_51_25/features.npy\n",
      "Applying filtration 23/72: 2/RadialFiltration_51_38\n",
      "FiltrationExtractor: processing ./fragments/Frag4//test/filtrations/2/RadialFiltration_51_38, do_fit = False, filtration = RadialFiltration(center=array([51, 38]), n_jobs=-1)\n"
     ]
    },
    {
     "name": "stderr",
     "output_type": "stream",
     "text": [
      "\n",
      "d:\\Programs\\Programming\\Python\\lib\\site-packages\\gtda\\diagrams\\preprocessing.py:295: RuntimeWarning: invalid value encountered in divide\n",
      "  Xs[:, :, :2] /= self.scale_\n"
     ]
    },
    {
     "name": "stdout",
     "output_type": "stream",
     "text": [
      "Saving the result to ././fragments/Frag4//test/filtrations/2/RadialFiltration_51_38/diagrams.npy\n",
      "Applying Scaler to persistence diagrams.\n"
     ]
    },
    {
     "name": "stderr",
     "output_type": "stream",
     "text": [
      "DiagramVectorizer: batch: 100%|██████████| 2/2 [00:00<00:00, 90.92it/s]"
     ]
    },
    {
     "name": "stdout",
     "output_type": "stream",
     "text": [
      "Saving the result to ././fragments/Frag4//test/filtrations/2/RadialFiltration_51_38/features.npy\n",
      "Applying filtration 24/72: 2/RadialFiltration_51_51\n",
      "FiltrationExtractor: processing ./fragments/Frag4//test/filtrations/2/RadialFiltration_51_51, do_fit = False, filtration = RadialFiltration(center=array([51, 51]), n_jobs=-1)\n"
     ]
    },
    {
     "name": "stderr",
     "output_type": "stream",
     "text": [
      "\n",
      "d:\\Programs\\Programming\\Python\\lib\\site-packages\\gtda\\diagrams\\preprocessing.py:295: RuntimeWarning: invalid value encountered in divide\n",
      "  Xs[:, :, :2] /= self.scale_\n"
     ]
    },
    {
     "name": "stdout",
     "output_type": "stream",
     "text": [
      "Saving the result to ././fragments/Frag4//test/filtrations/2/RadialFiltration_51_51/diagrams.npy\n",
      "Applying Scaler to persistence diagrams.\n"
     ]
    },
    {
     "name": "stderr",
     "output_type": "stream",
     "text": [
      "DiagramVectorizer: batch: 100%|██████████| 2/2 [00:00<00:00, 90.72it/s]"
     ]
    },
    {
     "name": "stdout",
     "output_type": "stream",
     "text": [
      "Saving the result to ././fragments/Frag4//test/filtrations/2/RadialFiltration_51_51/features.npy\n",
      "Applying filtration 25/72: 4/HeightFiltrartion_-1_-1\n",
      "FiltrationExtractor: processing ./fragments/Frag4//test/filtrations/4/HeightFiltrartion_-1_-1, do_fit = False, filtration = HeightFiltration(direction=array([-1, -1]), n_jobs=-1)\n"
     ]
    },
    {
     "name": "stderr",
     "output_type": "stream",
     "text": [
      "\n"
     ]
    },
    {
     "name": "stdout",
     "output_type": "stream",
     "text": [
      "Saving the result to ././fragments/Frag4//test/filtrations/4/HeightFiltrartion_-1_-1/diagrams.npy\n",
      "Applying Scaler to persistence diagrams.\n"
     ]
    },
    {
     "name": "stderr",
     "output_type": "stream",
     "text": [
      "DiagramVectorizer: batch: 100%|██████████| 2/2 [00:00<00:00, 95.25it/s]"
     ]
    },
    {
     "name": "stdout",
     "output_type": "stream",
     "text": [
      "Saving the result to ././fragments/Frag4//test/filtrations/4/HeightFiltrartion_-1_-1/features.npy\n",
      "Applying filtration 26/72: 4/HeightFiltrartion_1_1\n",
      "FiltrationExtractor: processing ./fragments/Frag4//test/filtrations/4/HeightFiltrartion_1_1, do_fit = False, filtration = HeightFiltration(direction=array([1, 1]), n_jobs=-1)\n"
     ]
    },
    {
     "name": "stderr",
     "output_type": "stream",
     "text": [
      "\n"
     ]
    },
    {
     "name": "stdout",
     "output_type": "stream",
     "text": [
      "Saving the result to ././fragments/Frag4//test/filtrations/4/HeightFiltrartion_1_1/diagrams.npy\n",
      "Applying Scaler to persistence diagrams.\n"
     ]
    },
    {
     "name": "stderr",
     "output_type": "stream",
     "text": [
      "DiagramVectorizer: batch: 100%|██████████| 2/2 [00:00<00:00, 153.86it/s]"
     ]
    },
    {
     "name": "stdout",
     "output_type": "stream",
     "text": [
      "Saving the result to ././fragments/Frag4//test/filtrations/4/HeightFiltrartion_1_1/features.npy\n",
      "Applying filtration 27/72: 4/HeightFiltrartion_1_-1\n",
      "FiltrationExtractor: processing ./fragments/Frag4//test/filtrations/4/HeightFiltrartion_1_-1, do_fit = False, filtration = HeightFiltration(direction=array([ 1, -1]), n_jobs=-1)\n"
     ]
    },
    {
     "name": "stderr",
     "output_type": "stream",
     "text": [
      "\n"
     ]
    },
    {
     "name": "stdout",
     "output_type": "stream",
     "text": [
      "Saving the result to ././fragments/Frag4//test/filtrations/4/HeightFiltrartion_1_-1/diagrams.npy\n",
      "Applying Scaler to persistence diagrams.\n"
     ]
    },
    {
     "name": "stderr",
     "output_type": "stream",
     "text": [
      "DiagramVectorizer: batch: 100%|██████████| 2/2 [00:00<00:00, 153.85it/s]"
     ]
    },
    {
     "name": "stdout",
     "output_type": "stream",
     "text": [
      "Saving the result to ././fragments/Frag4//test/filtrations/4/HeightFiltrartion_1_-1/features.npy\n",
      "Applying filtration 28/72: 4/HeightFiltrartion_-1_1\n",
      "FiltrationExtractor: processing ./fragments/Frag4//test/filtrations/4/HeightFiltrartion_-1_1, do_fit = False, filtration = HeightFiltration(direction=array([-1,  1]), n_jobs=-1)\n"
     ]
    },
    {
     "name": "stderr",
     "output_type": "stream",
     "text": [
      "\n"
     ]
    },
    {
     "name": "stdout",
     "output_type": "stream",
     "text": [
      "Saving the result to ././fragments/Frag4//test/filtrations/4/HeightFiltrartion_-1_1/diagrams.npy\n",
      "Applying Scaler to persistence diagrams.\n"
     ]
    },
    {
     "name": "stderr",
     "output_type": "stream",
     "text": [
      "DiagramVectorizer: batch: 100%|██████████| 2/2 [00:00<00:00, 95.23it/s]"
     ]
    },
    {
     "name": "stdout",
     "output_type": "stream",
     "text": [
      "Saving the result to ././fragments/Frag4//test/filtrations/4/HeightFiltrartion_-1_1/features.npy\n",
      "Applying filtration 29/72: 4/HeightFiltrartion_0_-1\n",
      "FiltrationExtractor: processing ./fragments/Frag4//test/filtrations/4/HeightFiltrartion_0_-1, do_fit = False, filtration = HeightFiltration(direction=array([ 0, -1]), n_jobs=-1)\n"
     ]
    },
    {
     "name": "stderr",
     "output_type": "stream",
     "text": [
      "\n"
     ]
    },
    {
     "name": "stdout",
     "output_type": "stream",
     "text": [
      "Saving the result to ././fragments/Frag4//test/filtrations/4/HeightFiltrartion_0_-1/diagrams.npy\n",
      "Applying Scaler to persistence diagrams.\n"
     ]
    },
    {
     "name": "stderr",
     "output_type": "stream",
     "text": [
      "DiagramVectorizer: batch: 100%|██████████| 2/2 [00:00<00:00, 86.95it/s]"
     ]
    },
    {
     "name": "stdout",
     "output_type": "stream",
     "text": [
      "Saving the result to ././fragments/Frag4//test/filtrations/4/HeightFiltrartion_0_-1/features.npy\n",
      "Applying filtration 30/72: 4/HeightFiltrartion_0_1\n",
      "FiltrationExtractor: processing ./fragments/Frag4//test/filtrations/4/HeightFiltrartion_0_1, do_fit = False, filtration = HeightFiltration(direction=array([0, 1]), n_jobs=-1)\n"
     ]
    },
    {
     "name": "stderr",
     "output_type": "stream",
     "text": [
      "\n"
     ]
    },
    {
     "name": "stdout",
     "output_type": "stream",
     "text": [
      "Saving the result to ././fragments/Frag4//test/filtrations/4/HeightFiltrartion_0_1/diagrams.npy\n",
      "Applying Scaler to persistence diagrams.\n"
     ]
    },
    {
     "name": "stderr",
     "output_type": "stream",
     "text": [
      "DiagramVectorizer: batch: 100%|██████████| 2/2 [00:00<00:00, 86.97it/s]"
     ]
    },
    {
     "name": "stdout",
     "output_type": "stream",
     "text": [
      "Saving the result to ././fragments/Frag4//test/filtrations/4/HeightFiltrartion_0_1/features.npy\n",
      "Applying filtration 31/72: 4/HeightFiltrartion_-1_0\n",
      "FiltrationExtractor: processing ./fragments/Frag4//test/filtrations/4/HeightFiltrartion_-1_0, do_fit = False, filtration = HeightFiltration(direction=array([-1,  0]), n_jobs=-1)\n"
     ]
    },
    {
     "name": "stderr",
     "output_type": "stream",
     "text": [
      "\n"
     ]
    },
    {
     "name": "stdout",
     "output_type": "stream",
     "text": [
      "Saving the result to ././fragments/Frag4//test/filtrations/4/HeightFiltrartion_-1_0/diagrams.npy\n",
      "Applying Scaler to persistence diagrams.\n"
     ]
    },
    {
     "name": "stderr",
     "output_type": "stream",
     "text": [
      "DiagramVectorizer: batch: 100%|██████████| 2/2 [00:00<00:00, 86.98it/s]"
     ]
    },
    {
     "name": "stdout",
     "output_type": "stream",
     "text": [
      "Saving the result to ././fragments/Frag4//test/filtrations/4/HeightFiltrartion_-1_0/features.npy\n",
      "Applying filtration 32/72: 4/HeightFiltrartion_1_0\n",
      "FiltrationExtractor: processing ./fragments/Frag4//test/filtrations/4/HeightFiltrartion_1_0, do_fit = False, filtration = HeightFiltration(direction=array([1, 0]), n_jobs=-1)\n"
     ]
    },
    {
     "name": "stderr",
     "output_type": "stream",
     "text": [
      "\n"
     ]
    },
    {
     "name": "stdout",
     "output_type": "stream",
     "text": [
      "Saving the result to ././fragments/Frag4//test/filtrations/4/HeightFiltrartion_1_0/diagrams.npy\n",
      "Applying Scaler to persistence diagrams.\n"
     ]
    },
    {
     "name": "stderr",
     "output_type": "stream",
     "text": [
      "DiagramVectorizer: batch: 100%|██████████| 2/2 [00:00<00:00, 80.00it/s]"
     ]
    },
    {
     "name": "stdout",
     "output_type": "stream",
     "text": [
      "Saving the result to ././fragments/Frag4//test/filtrations/4/HeightFiltrartion_1_0/features.npy\n",
      "Applying filtration 33/72: 4/RadialFiltration_12_12\n",
      "FiltrationExtractor: processing ./fragments/Frag4//test/filtrations/4/RadialFiltration_12_12, do_fit = False, filtration = RadialFiltration(center=array([12, 12]), n_jobs=-1)\n"
     ]
    },
    {
     "name": "stderr",
     "output_type": "stream",
     "text": [
      "\n"
     ]
    },
    {
     "name": "stdout",
     "output_type": "stream",
     "text": [
      "Saving the result to ././fragments/Frag4//test/filtrations/4/RadialFiltration_12_12/diagrams.npy\n",
      "Applying Scaler to persistence diagrams.\n"
     ]
    },
    {
     "name": "stderr",
     "output_type": "stream",
     "text": [
      "DiagramVectorizer: batch: 100%|██████████| 2/2 [00:00<00:00, 181.83it/s]"
     ]
    },
    {
     "name": "stdout",
     "output_type": "stream",
     "text": [
      "Saving the result to ././fragments/Frag4//test/filtrations/4/RadialFiltration_12_12/features.npy\n",
      "Applying filtration 34/72: 4/RadialFiltration_12_25\n",
      "FiltrationExtractor: processing ./fragments/Frag4//test/filtrations/4/RadialFiltration_12_25, do_fit = False, filtration = RadialFiltration(center=array([12, 25]), n_jobs=-1)\n"
     ]
    },
    {
     "name": "stderr",
     "output_type": "stream",
     "text": [
      "\n"
     ]
    },
    {
     "name": "stdout",
     "output_type": "stream",
     "text": [
      "Saving the result to ././fragments/Frag4//test/filtrations/4/RadialFiltration_12_25/diagrams.npy\n",
      "Applying Scaler to persistence diagrams.\n"
     ]
    },
    {
     "name": "stderr",
     "output_type": "stream",
     "text": [
      "DiagramVectorizer: batch: 100%|██████████| 2/2 [00:00<00:00, 95.24it/s]"
     ]
    },
    {
     "name": "stdout",
     "output_type": "stream",
     "text": [
      "Saving the result to ././fragments/Frag4//test/filtrations/4/RadialFiltration_12_25/features.npy\n",
      "Applying filtration 35/72: 4/RadialFiltration_12_38\n",
      "FiltrationExtractor: processing ./fragments/Frag4//test/filtrations/4/RadialFiltration_12_38, do_fit = False, filtration = RadialFiltration(center=array([12, 38]), n_jobs=-1)\n"
     ]
    },
    {
     "name": "stderr",
     "output_type": "stream",
     "text": [
      "\n"
     ]
    },
    {
     "name": "stdout",
     "output_type": "stream",
     "text": [
      "Saving the result to ././fragments/Frag4//test/filtrations/4/RadialFiltration_12_38/diagrams.npy\n",
      "Applying Scaler to persistence diagrams.\n"
     ]
    },
    {
     "name": "stderr",
     "output_type": "stream",
     "text": [
      "DiagramVectorizer: batch: 100%|██████████| 2/2 [00:00<00:00, 95.25it/s]"
     ]
    },
    {
     "name": "stdout",
     "output_type": "stream",
     "text": [
      "Saving the result to ././fragments/Frag4//test/filtrations/4/RadialFiltration_12_38/features.npy\n",
      "Applying filtration 36/72: 4/RadialFiltration_12_51\n",
      "FiltrationExtractor: processing ./fragments/Frag4//test/filtrations/4/RadialFiltration_12_51, do_fit = False, filtration = RadialFiltration(center=array([12, 51]), n_jobs=-1)\n"
     ]
    },
    {
     "name": "stderr",
     "output_type": "stream",
     "text": [
      "\n"
     ]
    },
    {
     "name": "stdout",
     "output_type": "stream",
     "text": [
      "Saving the result to ././fragments/Frag4//test/filtrations/4/RadialFiltration_12_51/diagrams.npy\n",
      "Applying Scaler to persistence diagrams.\n"
     ]
    },
    {
     "name": "stderr",
     "output_type": "stream",
     "text": [
      "DiagramVectorizer: batch: 100%|██████████| 2/2 [00:00<00:00, 90.91it/s]"
     ]
    },
    {
     "name": "stdout",
     "output_type": "stream",
     "text": [
      "Saving the result to ././fragments/Frag4//test/filtrations/4/RadialFiltration_12_51/features.npy\n",
      "Applying filtration 37/72: 4/RadialFiltration_25_12\n",
      "FiltrationExtractor: processing ./fragments/Frag4//test/filtrations/4/RadialFiltration_25_12, do_fit = False, filtration = RadialFiltration(center=array([25, 12]), n_jobs=-1)\n"
     ]
    },
    {
     "name": "stderr",
     "output_type": "stream",
     "text": [
      "\n"
     ]
    },
    {
     "name": "stdout",
     "output_type": "stream",
     "text": [
      "Saving the result to ././fragments/Frag4//test/filtrations/4/RadialFiltration_25_12/diagrams.npy\n",
      "Applying Scaler to persistence diagrams.\n"
     ]
    },
    {
     "name": "stderr",
     "output_type": "stream",
     "text": [
      "DiagramVectorizer: batch: 100%|██████████| 2/2 [00:00<00:00, 83.38it/s]"
     ]
    },
    {
     "name": "stdout",
     "output_type": "stream",
     "text": [
      "Saving the result to ././fragments/Frag4//test/filtrations/4/RadialFiltration_25_12/features.npy\n",
      "Applying filtration 38/72: 4/RadialFiltration_25_25\n",
      "FiltrationExtractor: processing ./fragments/Frag4//test/filtrations/4/RadialFiltration_25_25, do_fit = False, filtration = RadialFiltration(center=array([25, 25]), n_jobs=-1)\n"
     ]
    },
    {
     "name": "stderr",
     "output_type": "stream",
     "text": [
      "\n"
     ]
    },
    {
     "name": "stdout",
     "output_type": "stream",
     "text": [
      "Saving the result to ././fragments/Frag4//test/filtrations/4/RadialFiltration_25_25/diagrams.npy\n",
      "Applying Scaler to persistence diagrams.\n"
     ]
    },
    {
     "name": "stderr",
     "output_type": "stream",
     "text": [
      "DiagramVectorizer: batch: 100%|██████████| 2/2 [00:00<00:00, 90.75it/s]"
     ]
    },
    {
     "name": "stdout",
     "output_type": "stream",
     "text": [
      "Saving the result to ././fragments/Frag4//test/filtrations/4/RadialFiltration_25_25/features.npy\n",
      "Applying filtration 39/72: 4/RadialFiltration_25_38\n",
      "FiltrationExtractor: processing ./fragments/Frag4//test/filtrations/4/RadialFiltration_25_38, do_fit = False, filtration = RadialFiltration(center=array([25, 38]), n_jobs=-1)\n"
     ]
    },
    {
     "name": "stderr",
     "output_type": "stream",
     "text": [
      "\n"
     ]
    },
    {
     "name": "stdout",
     "output_type": "stream",
     "text": [
      "Saving the result to ././fragments/Frag4//test/filtrations/4/RadialFiltration_25_38/diagrams.npy\n",
      "Applying Scaler to persistence diagrams.\n"
     ]
    },
    {
     "name": "stderr",
     "output_type": "stream",
     "text": [
      "DiagramVectorizer: batch: 100%|██████████| 2/2 [00:00<00:00, 95.23it/s]"
     ]
    },
    {
     "name": "stdout",
     "output_type": "stream",
     "text": [
      "Saving the result to ././fragments/Frag4//test/filtrations/4/RadialFiltration_25_38/features.npy\n",
      "Applying filtration 40/72: 4/RadialFiltration_25_51\n",
      "FiltrationExtractor: processing ./fragments/Frag4//test/filtrations/4/RadialFiltration_25_51, do_fit = False, filtration = RadialFiltration(center=array([25, 51]), n_jobs=-1)\n"
     ]
    },
    {
     "name": "stderr",
     "output_type": "stream",
     "text": [
      "\n"
     ]
    },
    {
     "name": "stdout",
     "output_type": "stream",
     "text": [
      "Saving the result to ././fragments/Frag4//test/filtrations/4/RadialFiltration_25_51/diagrams.npy\n",
      "Applying Scaler to persistence diagrams.\n"
     ]
    },
    {
     "name": "stderr",
     "output_type": "stream",
     "text": [
      "DiagramVectorizer: batch: 100%|██████████| 2/2 [00:00<00:00, 153.85it/s]"
     ]
    },
    {
     "name": "stdout",
     "output_type": "stream",
     "text": [
      "Saving the result to ././fragments/Frag4//test/filtrations/4/RadialFiltration_25_51/features.npy\n",
      "Applying filtration 41/72: 4/RadialFiltration_38_12\n",
      "FiltrationExtractor: processing ./fragments/Frag4//test/filtrations/4/RadialFiltration_38_12, do_fit = False, filtration = RadialFiltration(center=array([38, 12]), n_jobs=-1)\n"
     ]
    },
    {
     "name": "stderr",
     "output_type": "stream",
     "text": [
      "\n"
     ]
    },
    {
     "name": "stdout",
     "output_type": "stream",
     "text": [
      "Saving the result to ././fragments/Frag4//test/filtrations/4/RadialFiltration_38_12/diagrams.npy\n",
      "Applying Scaler to persistence diagrams.\n"
     ]
    },
    {
     "name": "stderr",
     "output_type": "stream",
     "text": [
      "DiagramVectorizer: batch: 100%|██████████| 2/2 [00:00<00:00, 153.88it/s]"
     ]
    },
    {
     "name": "stdout",
     "output_type": "stream",
     "text": [
      "Saving the result to ././fragments/Frag4//test/filtrations/4/RadialFiltration_38_12/features.npy\n",
      "Applying filtration 42/72: 4/RadialFiltration_38_25\n",
      "FiltrationExtractor: processing ./fragments/Frag4//test/filtrations/4/RadialFiltration_38_25, do_fit = False, filtration = RadialFiltration(center=array([38, 25]), n_jobs=-1)\n"
     ]
    },
    {
     "name": "stderr",
     "output_type": "stream",
     "text": [
      "\n"
     ]
    },
    {
     "name": "stdout",
     "output_type": "stream",
     "text": [
      "Saving the result to ././fragments/Frag4//test/filtrations/4/RadialFiltration_38_25/diagrams.npy\n",
      "Applying Scaler to persistence diagrams.\n"
     ]
    },
    {
     "name": "stderr",
     "output_type": "stream",
     "text": [
      "DiagramVectorizer: batch: 100%|██████████| 2/2 [00:00<00:00, 100.01it/s]"
     ]
    },
    {
     "name": "stdout",
     "output_type": "stream",
     "text": [
      "Saving the result to ././fragments/Frag4//test/filtrations/4/RadialFiltration_38_25/features.npy\n",
      "Applying filtration 43/72: 4/RadialFiltration_38_38\n",
      "FiltrationExtractor: processing ./fragments/Frag4//test/filtrations/4/RadialFiltration_38_38, do_fit = False, filtration = RadialFiltration(center=array([38, 38]), n_jobs=-1)\n"
     ]
    },
    {
     "name": "stderr",
     "output_type": "stream",
     "text": [
      "\n"
     ]
    },
    {
     "name": "stdout",
     "output_type": "stream",
     "text": [
      "Saving the result to ././fragments/Frag4//test/filtrations/4/RadialFiltration_38_38/diagrams.npy\n",
      "Applying Scaler to persistence diagrams.\n"
     ]
    },
    {
     "name": "stderr",
     "output_type": "stream",
     "text": [
      "DiagramVectorizer: batch: 100%|██████████| 2/2 [00:00<00:00, 95.24it/s]"
     ]
    },
    {
     "name": "stdout",
     "output_type": "stream",
     "text": [
      "Saving the result to ././fragments/Frag4//test/filtrations/4/RadialFiltration_38_38/features.npy\n",
      "Applying filtration 44/72: 4/RadialFiltration_38_51\n",
      "FiltrationExtractor: processing ./fragments/Frag4//test/filtrations/4/RadialFiltration_38_51, do_fit = False, filtration = RadialFiltration(center=array([38, 51]), n_jobs=-1)\n"
     ]
    },
    {
     "name": "stderr",
     "output_type": "stream",
     "text": [
      "\n"
     ]
    },
    {
     "name": "stdout",
     "output_type": "stream",
     "text": [
      "Saving the result to ././fragments/Frag4//test/filtrations/4/RadialFiltration_38_51/diagrams.npy\n",
      "Applying Scaler to persistence diagrams.\n"
     ]
    },
    {
     "name": "stderr",
     "output_type": "stream",
     "text": [
      "DiagramVectorizer: batch: 100%|██████████| 2/2 [00:00<00:00, 86.97it/s]"
     ]
    },
    {
     "name": "stdout",
     "output_type": "stream",
     "text": [
      "Saving the result to ././fragments/Frag4//test/filtrations/4/RadialFiltration_38_51/features.npy\n",
      "Applying filtration 45/72: 4/RadialFiltration_51_12\n",
      "FiltrationExtractor: processing ./fragments/Frag4//test/filtrations/4/RadialFiltration_51_12, do_fit = False, filtration = RadialFiltration(center=array([51, 12]), n_jobs=-1)\n"
     ]
    },
    {
     "name": "stderr",
     "output_type": "stream",
     "text": [
      "\n"
     ]
    },
    {
     "name": "stdout",
     "output_type": "stream",
     "text": [
      "Saving the result to ././fragments/Frag4//test/filtrations/4/RadialFiltration_51_12/diagrams.npy\n",
      "Applying Scaler to persistence diagrams.\n"
     ]
    },
    {
     "name": "stderr",
     "output_type": "stream",
     "text": [
      "DiagramVectorizer: batch: 100%|██████████| 2/2 [00:00<00:00, 86.99it/s]"
     ]
    },
    {
     "name": "stdout",
     "output_type": "stream",
     "text": [
      "Saving the result to ././fragments/Frag4//test/filtrations/4/RadialFiltration_51_12/features.npy\n",
      "Applying filtration 46/72: 4/RadialFiltration_51_25\n",
      "FiltrationExtractor: processing ./fragments/Frag4//test/filtrations/4/RadialFiltration_51_25, do_fit = False, filtration = RadialFiltration(center=array([51, 25]), n_jobs=-1)\n"
     ]
    },
    {
     "name": "stderr",
     "output_type": "stream",
     "text": [
      "\n"
     ]
    },
    {
     "name": "stdout",
     "output_type": "stream",
     "text": [
      "Saving the result to ././fragments/Frag4//test/filtrations/4/RadialFiltration_51_25/diagrams.npy\n",
      "Applying Scaler to persistence diagrams.\n"
     ]
    },
    {
     "name": "stderr",
     "output_type": "stream",
     "text": [
      "DiagramVectorizer: batch: 100%|██████████| 2/2 [00:00<00:00, 166.67it/s]"
     ]
    },
    {
     "name": "stdout",
     "output_type": "stream",
     "text": [
      "Saving the result to ././fragments/Frag4//test/filtrations/4/RadialFiltration_51_25/features.npy\n",
      "Applying filtration 47/72: 4/RadialFiltration_51_38\n",
      "FiltrationExtractor: processing ./fragments/Frag4//test/filtrations/4/RadialFiltration_51_38, do_fit = False, filtration = RadialFiltration(center=array([51, 38]), n_jobs=-1)\n"
     ]
    },
    {
     "name": "stderr",
     "output_type": "stream",
     "text": [
      "\n"
     ]
    },
    {
     "name": "stdout",
     "output_type": "stream",
     "text": [
      "Saving the result to ././fragments/Frag4//test/filtrations/4/RadialFiltration_51_38/diagrams.npy\n",
      "Applying Scaler to persistence diagrams.\n"
     ]
    },
    {
     "name": "stderr",
     "output_type": "stream",
     "text": [
      "DiagramVectorizer: batch: 100%|██████████| 2/2 [00:00<00:00, 80.01it/s]"
     ]
    },
    {
     "name": "stdout",
     "output_type": "stream",
     "text": [
      "Saving the result to ././fragments/Frag4//test/filtrations/4/RadialFiltration_51_38/features.npy\n",
      "Applying filtration 48/72: 4/RadialFiltration_51_51\n",
      "FiltrationExtractor: processing ./fragments/Frag4//test/filtrations/4/RadialFiltration_51_51, do_fit = False, filtration = RadialFiltration(center=array([51, 51]), n_jobs=-1)\n"
     ]
    },
    {
     "name": "stderr",
     "output_type": "stream",
     "text": [
      "\n"
     ]
    },
    {
     "name": "stdout",
     "output_type": "stream",
     "text": [
      "Saving the result to ././fragments/Frag4//test/filtrations/4/RadialFiltration_51_51/diagrams.npy\n",
      "Applying Scaler to persistence diagrams.\n"
     ]
    },
    {
     "name": "stderr",
     "output_type": "stream",
     "text": [
      "DiagramVectorizer: batch: 100%|██████████| 2/2 [00:00<00:00, 181.86it/s]"
     ]
    },
    {
     "name": "stdout",
     "output_type": "stream",
     "text": [
      "Saving the result to ././fragments/Frag4//test/filtrations/4/RadialFiltration_51_51/features.npy\n",
      "Applying filtration 49/72: 6/HeightFiltrartion_-1_-1\n",
      "FiltrationExtractor: processing ./fragments/Frag4//test/filtrations/6/HeightFiltrartion_-1_-1, do_fit = False, filtration = HeightFiltration(direction=array([-1, -1]), n_jobs=-1)\n"
     ]
    },
    {
     "name": "stderr",
     "output_type": "stream",
     "text": [
      "\n"
     ]
    },
    {
     "name": "stdout",
     "output_type": "stream",
     "text": [
      "Saving the result to ././fragments/Frag4//test/filtrations/6/HeightFiltrartion_-1_-1/diagrams.npy\n",
      "Applying Scaler to persistence diagrams.\n"
     ]
    },
    {
     "name": "stderr",
     "output_type": "stream",
     "text": [
      "DiagramVectorizer: batch: 100%|██████████| 2/2 [00:00<00:00, 30.77it/s]"
     ]
    },
    {
     "name": "stdout",
     "output_type": "stream",
     "text": [
      "Saving the result to ././fragments/Frag4//test/filtrations/6/HeightFiltrartion_-1_-1/features.npy\n",
      "Applying filtration 50/72: 6/HeightFiltrartion_1_1\n",
      "FiltrationExtractor: processing ./fragments/Frag4//test/filtrations/6/HeightFiltrartion_1_1, do_fit = False, filtration = HeightFiltration(direction=array([1, 1]), n_jobs=-1)\n"
     ]
    },
    {
     "name": "stderr",
     "output_type": "stream",
     "text": [
      "\n"
     ]
    },
    {
     "name": "stdout",
     "output_type": "stream",
     "text": [
      "Saving the result to ././fragments/Frag4//test/filtrations/6/HeightFiltrartion_1_1/diagrams.npy\n",
      "Applying Scaler to persistence diagrams.\n"
     ]
    },
    {
     "name": "stderr",
     "output_type": "stream",
     "text": [
      "DiagramVectorizer: batch: 100%|██████████| 2/2 [00:00<00:00, 32.26it/s]"
     ]
    },
    {
     "name": "stdout",
     "output_type": "stream",
     "text": [
      "Saving the result to ././fragments/Frag4//test/filtrations/6/HeightFiltrartion_1_1/features.npy\n",
      "Applying filtration 51/72: 6/HeightFiltrartion_1_-1\n",
      "FiltrationExtractor: processing ./fragments/Frag4//test/filtrations/6/HeightFiltrartion_1_-1, do_fit = False, filtration = HeightFiltration(direction=array([ 1, -1]), n_jobs=-1)\n"
     ]
    },
    {
     "name": "stderr",
     "output_type": "stream",
     "text": [
      "\n"
     ]
    },
    {
     "name": "stdout",
     "output_type": "stream",
     "text": [
      "Saving the result to ././fragments/Frag4//test/filtrations/6/HeightFiltrartion_1_-1/diagrams.npy\n",
      "Applying Scaler to persistence diagrams.\n"
     ]
    },
    {
     "name": "stderr",
     "output_type": "stream",
     "text": [
      "DiagramVectorizer: batch: 100%|██████████| 2/2 [00:00<00:00, 32.26it/s]"
     ]
    },
    {
     "name": "stdout",
     "output_type": "stream",
     "text": [
      "Saving the result to ././fragments/Frag4//test/filtrations/6/HeightFiltrartion_1_-1/features.npy\n",
      "Applying filtration 52/72: 6/HeightFiltrartion_-1_1\n",
      "FiltrationExtractor: processing ./fragments/Frag4//test/filtrations/6/HeightFiltrartion_-1_1, do_fit = False, filtration = HeightFiltration(direction=array([-1,  1]), n_jobs=-1)\n"
     ]
    },
    {
     "name": "stderr",
     "output_type": "stream",
     "text": [
      "\n"
     ]
    },
    {
     "name": "stdout",
     "output_type": "stream",
     "text": [
      "Saving the result to ././fragments/Frag4//test/filtrations/6/HeightFiltrartion_-1_1/diagrams.npy\n",
      "Applying Scaler to persistence diagrams.\n"
     ]
    },
    {
     "name": "stderr",
     "output_type": "stream",
     "text": [
      "DiagramVectorizer: batch: 100%|██████████| 2/2 [00:00<00:00, 28.57it/s]"
     ]
    },
    {
     "name": "stdout",
     "output_type": "stream",
     "text": [
      "Saving the result to ././fragments/Frag4//test/filtrations/6/HeightFiltrartion_-1_1/features.npy\n",
      "Applying filtration 53/72: 6/HeightFiltrartion_0_-1\n",
      "FiltrationExtractor: processing ./fragments/Frag4//test/filtrations/6/HeightFiltrartion_0_-1, do_fit = False, filtration = HeightFiltration(direction=array([ 0, -1]), n_jobs=-1)\n"
     ]
    },
    {
     "name": "stderr",
     "output_type": "stream",
     "text": [
      "\n"
     ]
    },
    {
     "name": "stdout",
     "output_type": "stream",
     "text": [
      "Saving the result to ././fragments/Frag4//test/filtrations/6/HeightFiltrartion_0_-1/diagrams.npy\n",
      "Applying Scaler to persistence diagrams.\n"
     ]
    },
    {
     "name": "stderr",
     "output_type": "stream",
     "text": [
      "DiagramVectorizer: batch: 100%|██████████| 2/2 [00:00<00:00, 37.74it/s]"
     ]
    },
    {
     "name": "stdout",
     "output_type": "stream",
     "text": [
      "Saving the result to ././fragments/Frag4//test/filtrations/6/HeightFiltrartion_0_-1/features.npy\n",
      "Applying filtration 54/72: 6/HeightFiltrartion_0_1\n",
      "FiltrationExtractor: processing ./fragments/Frag4//test/filtrations/6/HeightFiltrartion_0_1, do_fit = False, filtration = HeightFiltration(direction=array([0, 1]), n_jobs=-1)\n"
     ]
    },
    {
     "name": "stderr",
     "output_type": "stream",
     "text": [
      "\n"
     ]
    },
    {
     "name": "stdout",
     "output_type": "stream",
     "text": [
      "Saving the result to ././fragments/Frag4//test/filtrations/6/HeightFiltrartion_0_1/diagrams.npy\n",
      "Applying Scaler to persistence diagrams.\n"
     ]
    },
    {
     "name": "stderr",
     "output_type": "stream",
     "text": [
      "DiagramVectorizer: batch: 100%|██████████| 2/2 [00:00<00:00, 35.71it/s]"
     ]
    },
    {
     "name": "stdout",
     "output_type": "stream",
     "text": [
      "Saving the result to ././fragments/Frag4//test/filtrations/6/HeightFiltrartion_0_1/features.npy\n",
      "Applying filtration 55/72: 6/HeightFiltrartion_-1_0\n",
      "FiltrationExtractor: processing ./fragments/Frag4//test/filtrations/6/HeightFiltrartion_-1_0, do_fit = False, filtration = HeightFiltration(direction=array([-1,  0]), n_jobs=-1)\n"
     ]
    },
    {
     "name": "stderr",
     "output_type": "stream",
     "text": [
      "\n"
     ]
    },
    {
     "name": "stdout",
     "output_type": "stream",
     "text": [
      "Saving the result to ././fragments/Frag4//test/filtrations/6/HeightFiltrartion_-1_0/diagrams.npy\n",
      "Applying Scaler to persistence diagrams.\n"
     ]
    },
    {
     "name": "stderr",
     "output_type": "stream",
     "text": [
      "DiagramVectorizer: batch: 100%|██████████| 2/2 [00:00<00:00, 35.09it/s]"
     ]
    },
    {
     "name": "stdout",
     "output_type": "stream",
     "text": [
      "Saving the result to ././fragments/Frag4//test/filtrations/6/HeightFiltrartion_-1_0/features.npy\n",
      "Applying filtration 56/72: 6/HeightFiltrartion_1_0\n",
      "FiltrationExtractor: processing ./fragments/Frag4//test/filtrations/6/HeightFiltrartion_1_0, do_fit = False, filtration = HeightFiltration(direction=array([1, 0]), n_jobs=-1)\n"
     ]
    },
    {
     "name": "stderr",
     "output_type": "stream",
     "text": [
      "\n"
     ]
    },
    {
     "name": "stdout",
     "output_type": "stream",
     "text": [
      "Saving the result to ././fragments/Frag4//test/filtrations/6/HeightFiltrartion_1_0/diagrams.npy\n",
      "Applying Scaler to persistence diagrams.\n"
     ]
    },
    {
     "name": "stderr",
     "output_type": "stream",
     "text": [
      "DiagramVectorizer: batch: 100%|██████████| 2/2 [00:00<00:00, 31.25it/s]"
     ]
    },
    {
     "name": "stdout",
     "output_type": "stream",
     "text": [
      "Saving the result to ././fragments/Frag4//test/filtrations/6/HeightFiltrartion_1_0/features.npy\n",
      "Applying filtration 57/72: 6/RadialFiltration_12_12\n",
      "FiltrationExtractor: processing ./fragments/Frag4//test/filtrations/6/RadialFiltration_12_12, do_fit = False, filtration = RadialFiltration(center=array([12, 12]), n_jobs=-1)\n"
     ]
    },
    {
     "name": "stderr",
     "output_type": "stream",
     "text": [
      "\n"
     ]
    },
    {
     "name": "stdout",
     "output_type": "stream",
     "text": [
      "Saving the result to ././fragments/Frag4//test/filtrations/6/RadialFiltration_12_12/diagrams.npy\n",
      "Applying Scaler to persistence diagrams.\n"
     ]
    },
    {
     "name": "stderr",
     "output_type": "stream",
     "text": [
      "DiagramVectorizer: batch: 100%|██████████| 2/2 [00:00<00:00, 28.17it/s]"
     ]
    },
    {
     "name": "stdout",
     "output_type": "stream",
     "text": [
      "Saving the result to ././fragments/Frag4//test/filtrations/6/RadialFiltration_12_12/features.npy\n",
      "Applying filtration 58/72: 6/RadialFiltration_12_25\n",
      "FiltrationExtractor: processing ./fragments/Frag4//test/filtrations/6/RadialFiltration_12_25, do_fit = False, filtration = RadialFiltration(center=array([12, 25]), n_jobs=-1)\n"
     ]
    },
    {
     "name": "stderr",
     "output_type": "stream",
     "text": [
      "\n"
     ]
    },
    {
     "name": "stdout",
     "output_type": "stream",
     "text": [
      "Saving the result to ././fragments/Frag4//test/filtrations/6/RadialFiltration_12_25/diagrams.npy\n",
      "Applying Scaler to persistence diagrams.\n"
     ]
    },
    {
     "name": "stderr",
     "output_type": "stream",
     "text": [
      "DiagramVectorizer: batch: 100%|██████████| 2/2 [00:00<00:00, 25.64it/s]"
     ]
    },
    {
     "name": "stdout",
     "output_type": "stream",
     "text": [
      "Saving the result to ././fragments/Frag4//test/filtrations/6/RadialFiltration_12_25/features.npy\n",
      "Applying filtration 59/72: 6/RadialFiltration_12_38\n",
      "FiltrationExtractor: processing ./fragments/Frag4//test/filtrations/6/RadialFiltration_12_38, do_fit = False, filtration = RadialFiltration(center=array([12, 38]), n_jobs=-1)\n"
     ]
    },
    {
     "name": "stderr",
     "output_type": "stream",
     "text": [
      "\n"
     ]
    },
    {
     "name": "stdout",
     "output_type": "stream",
     "text": [
      "Saving the result to ././fragments/Frag4//test/filtrations/6/RadialFiltration_12_38/diagrams.npy\n",
      "Applying Scaler to persistence diagrams.\n"
     ]
    },
    {
     "name": "stderr",
     "output_type": "stream",
     "text": [
      "DiagramVectorizer: batch: 100%|██████████| 2/2 [00:00<00:00, 29.85it/s]"
     ]
    },
    {
     "name": "stdout",
     "output_type": "stream",
     "text": [
      "Saving the result to ././fragments/Frag4//test/filtrations/6/RadialFiltration_12_38/features.npy\n",
      "Applying filtration 60/72: 6/RadialFiltration_12_51\n",
      "FiltrationExtractor: processing ./fragments/Frag4//test/filtrations/6/RadialFiltration_12_51, do_fit = False, filtration = RadialFiltration(center=array([12, 51]), n_jobs=-1)\n"
     ]
    },
    {
     "name": "stderr",
     "output_type": "stream",
     "text": [
      "\n"
     ]
    },
    {
     "name": "stdout",
     "output_type": "stream",
     "text": [
      "Saving the result to ././fragments/Frag4//test/filtrations/6/RadialFiltration_12_51/diagrams.npy\n",
      "Applying Scaler to persistence diagrams.\n"
     ]
    },
    {
     "name": "stderr",
     "output_type": "stream",
     "text": [
      "DiagramVectorizer: batch: 100%|██████████| 2/2 [00:00<00:00, 31.25it/s]"
     ]
    },
    {
     "name": "stdout",
     "output_type": "stream",
     "text": [
      "Saving the result to ././fragments/Frag4//test/filtrations/6/RadialFiltration_12_51/features.npy\n",
      "Applying filtration 61/72: 6/RadialFiltration_25_12\n",
      "FiltrationExtractor: processing ./fragments/Frag4//test/filtrations/6/RadialFiltration_25_12, do_fit = False, filtration = RadialFiltration(center=array([25, 12]), n_jobs=-1)\n"
     ]
    },
    {
     "name": "stderr",
     "output_type": "stream",
     "text": [
      "\n"
     ]
    },
    {
     "name": "stdout",
     "output_type": "stream",
     "text": [
      "Saving the result to ././fragments/Frag4//test/filtrations/6/RadialFiltration_25_12/diagrams.npy\n",
      "Applying Scaler to persistence diagrams.\n"
     ]
    },
    {
     "name": "stderr",
     "output_type": "stream",
     "text": [
      "DiagramVectorizer: batch: 100%|██████████| 2/2 [00:00<00:00, 26.32it/s]"
     ]
    },
    {
     "name": "stdout",
     "output_type": "stream",
     "text": [
      "Saving the result to ././fragments/Frag4//test/filtrations/6/RadialFiltration_25_12/features.npy\n",
      "Applying filtration 62/72: 6/RadialFiltration_25_25\n",
      "FiltrationExtractor: processing ./fragments/Frag4//test/filtrations/6/RadialFiltration_25_25, do_fit = False, filtration = RadialFiltration(center=array([25, 25]), n_jobs=-1)\n"
     ]
    },
    {
     "name": "stderr",
     "output_type": "stream",
     "text": [
      "\n"
     ]
    },
    {
     "name": "stdout",
     "output_type": "stream",
     "text": [
      "Saving the result to ././fragments/Frag4//test/filtrations/6/RadialFiltration_25_25/diagrams.npy\n",
      "Applying Scaler to persistence diagrams.\n"
     ]
    },
    {
     "name": "stderr",
     "output_type": "stream",
     "text": [
      "DiagramVectorizer: batch: 100%|██████████| 2/2 [00:00<00:00, 25.32it/s]"
     ]
    },
    {
     "name": "stdout",
     "output_type": "stream",
     "text": [
      "Saving the result to ././fragments/Frag4//test/filtrations/6/RadialFiltration_25_25/features.npy\n",
      "Applying filtration 63/72: 6/RadialFiltration_25_38\n",
      "FiltrationExtractor: processing ./fragments/Frag4//test/filtrations/6/RadialFiltration_25_38, do_fit = False, filtration = RadialFiltration(center=array([25, 38]), n_jobs=-1)\n"
     ]
    },
    {
     "name": "stderr",
     "output_type": "stream",
     "text": [
      "\n"
     ]
    },
    {
     "name": "stdout",
     "output_type": "stream",
     "text": [
      "Saving the result to ././fragments/Frag4//test/filtrations/6/RadialFiltration_25_38/diagrams.npy\n",
      "Applying Scaler to persistence diagrams.\n"
     ]
    },
    {
     "name": "stderr",
     "output_type": "stream",
     "text": [
      "DiagramVectorizer: batch: 100%|██████████| 2/2 [00:00<00:00, 23.26it/s]"
     ]
    },
    {
     "name": "stdout",
     "output_type": "stream",
     "text": [
      "Saving the result to ././fragments/Frag4//test/filtrations/6/RadialFiltration_25_38/features.npy\n",
      "Applying filtration 64/72: 6/RadialFiltration_25_51\n",
      "FiltrationExtractor: processing ./fragments/Frag4//test/filtrations/6/RadialFiltration_25_51, do_fit = False, filtration = RadialFiltration(center=array([25, 51]), n_jobs=-1)\n"
     ]
    },
    {
     "name": "stderr",
     "output_type": "stream",
     "text": [
      "\n"
     ]
    },
    {
     "name": "stdout",
     "output_type": "stream",
     "text": [
      "Saving the result to ././fragments/Frag4//test/filtrations/6/RadialFiltration_25_51/diagrams.npy\n",
      "Applying Scaler to persistence diagrams.\n"
     ]
    },
    {
     "name": "stderr",
     "output_type": "stream",
     "text": [
      "DiagramVectorizer: batch: 100%|██████████| 2/2 [00:00<00:00, 33.33it/s]"
     ]
    },
    {
     "name": "stdout",
     "output_type": "stream",
     "text": [
      "Saving the result to ././fragments/Frag4//test/filtrations/6/RadialFiltration_25_51/features.npy\n",
      "Applying filtration 65/72: 6/RadialFiltration_38_12\n",
      "FiltrationExtractor: processing ./fragments/Frag4//test/filtrations/6/RadialFiltration_38_12, do_fit = False, filtration = RadialFiltration(center=array([38, 12]), n_jobs=-1)\n"
     ]
    },
    {
     "name": "stderr",
     "output_type": "stream",
     "text": [
      "\n"
     ]
    },
    {
     "name": "stdout",
     "output_type": "stream",
     "text": [
      "Saving the result to ././fragments/Frag4//test/filtrations/6/RadialFiltration_38_12/diagrams.npy\n",
      "Applying Scaler to persistence diagrams.\n"
     ]
    },
    {
     "name": "stderr",
     "output_type": "stream",
     "text": [
      "DiagramVectorizer: batch: 100%|██████████| 2/2 [00:00<00:00, 28.99it/s]"
     ]
    },
    {
     "name": "stdout",
     "output_type": "stream",
     "text": [
      "Saving the result to ././fragments/Frag4//test/filtrations/6/RadialFiltration_38_12/features.npy\n",
      "Applying filtration 66/72: 6/RadialFiltration_38_25\n",
      "FiltrationExtractor: processing ./fragments/Frag4//test/filtrations/6/RadialFiltration_38_25, do_fit = False, filtration = RadialFiltration(center=array([38, 25]), n_jobs=-1)\n"
     ]
    },
    {
     "name": "stderr",
     "output_type": "stream",
     "text": [
      "\n"
     ]
    },
    {
     "name": "stdout",
     "output_type": "stream",
     "text": [
      "Saving the result to ././fragments/Frag4//test/filtrations/6/RadialFiltration_38_25/diagrams.npy\n",
      "Applying Scaler to persistence diagrams.\n"
     ]
    },
    {
     "name": "stderr",
     "output_type": "stream",
     "text": [
      "DiagramVectorizer: batch: 100%|██████████| 2/2 [00:00<00:00, 25.64it/s]"
     ]
    },
    {
     "name": "stdout",
     "output_type": "stream",
     "text": [
      "Saving the result to ././fragments/Frag4//test/filtrations/6/RadialFiltration_38_25/features.npy\n",
      "Applying filtration 67/72: 6/RadialFiltration_38_38\n",
      "FiltrationExtractor: processing ./fragments/Frag4//test/filtrations/6/RadialFiltration_38_38, do_fit = False, filtration = RadialFiltration(center=array([38, 38]), n_jobs=-1)\n"
     ]
    },
    {
     "name": "stderr",
     "output_type": "stream",
     "text": [
      "\n"
     ]
    },
    {
     "name": "stdout",
     "output_type": "stream",
     "text": [
      "Saving the result to ././fragments/Frag4//test/filtrations/6/RadialFiltration_38_38/diagrams.npy\n",
      "Applying Scaler to persistence diagrams.\n"
     ]
    },
    {
     "name": "stderr",
     "output_type": "stream",
     "text": [
      "DiagramVectorizer: batch: 100%|██████████| 2/2 [00:00<00:00, 32.79it/s]"
     ]
    },
    {
     "name": "stdout",
     "output_type": "stream",
     "text": [
      "Saving the result to ././fragments/Frag4//test/filtrations/6/RadialFiltration_38_38/features.npy\n",
      "Applying filtration 68/72: 6/RadialFiltration_38_51\n",
      "FiltrationExtractor: processing ./fragments/Frag4//test/filtrations/6/RadialFiltration_38_51, do_fit = False, filtration = RadialFiltration(center=array([38, 51]), n_jobs=-1)\n"
     ]
    },
    {
     "name": "stderr",
     "output_type": "stream",
     "text": [
      "\n"
     ]
    },
    {
     "name": "stdout",
     "output_type": "stream",
     "text": [
      "Saving the result to ././fragments/Frag4//test/filtrations/6/RadialFiltration_38_51/diagrams.npy\n",
      "Applying Scaler to persistence diagrams.\n"
     ]
    },
    {
     "name": "stderr",
     "output_type": "stream",
     "text": [
      "DiagramVectorizer: batch: 100%|██████████| 2/2 [00:00<00:00, 32.26it/s]"
     ]
    },
    {
     "name": "stdout",
     "output_type": "stream",
     "text": [
      "Saving the result to ././fragments/Frag4//test/filtrations/6/RadialFiltration_38_51/features.npy\n",
      "Applying filtration 69/72: 6/RadialFiltration_51_12\n",
      "FiltrationExtractor: processing ./fragments/Frag4//test/filtrations/6/RadialFiltration_51_12, do_fit = False, filtration = RadialFiltration(center=array([51, 12]), n_jobs=-1)\n"
     ]
    },
    {
     "name": "stderr",
     "output_type": "stream",
     "text": [
      "\n"
     ]
    },
    {
     "name": "stdout",
     "output_type": "stream",
     "text": [
      "Saving the result to ././fragments/Frag4//test/filtrations/6/RadialFiltration_51_12/diagrams.npy\n",
      "Applying Scaler to persistence diagrams.\n"
     ]
    },
    {
     "name": "stderr",
     "output_type": "stream",
     "text": [
      "DiagramVectorizer: batch: 100%|██████████| 2/2 [00:00<00:00, 25.64it/s]"
     ]
    },
    {
     "name": "stdout",
     "output_type": "stream",
     "text": [
      "Saving the result to ././fragments/Frag4//test/filtrations/6/RadialFiltration_51_12/features.npy\n",
      "Applying filtration 70/72: 6/RadialFiltration_51_25\n",
      "FiltrationExtractor: processing ./fragments/Frag4//test/filtrations/6/RadialFiltration_51_25, do_fit = False, filtration = RadialFiltration(center=array([51, 25]), n_jobs=-1)\n"
     ]
    },
    {
     "name": "stderr",
     "output_type": "stream",
     "text": [
      "\n"
     ]
    },
    {
     "name": "stdout",
     "output_type": "stream",
     "text": [
      "Saving the result to ././fragments/Frag4//test/filtrations/6/RadialFiltration_51_25/diagrams.npy\n",
      "Applying Scaler to persistence diagrams.\n"
     ]
    },
    {
     "name": "stderr",
     "output_type": "stream",
     "text": [
      "DiagramVectorizer: batch: 100%|██████████| 2/2 [00:00<00:00, 24.10it/s]"
     ]
    },
    {
     "name": "stdout",
     "output_type": "stream",
     "text": [
      "Saving the result to ././fragments/Frag4//test/filtrations/6/RadialFiltration_51_25/features.npy\n",
      "Applying filtration 71/72: 6/RadialFiltration_51_38\n",
      "FiltrationExtractor: processing ./fragments/Frag4//test/filtrations/6/RadialFiltration_51_38, do_fit = False, filtration = RadialFiltration(center=array([51, 38]), n_jobs=-1)\n"
     ]
    },
    {
     "name": "stderr",
     "output_type": "stream",
     "text": [
      "\n"
     ]
    },
    {
     "name": "stdout",
     "output_type": "stream",
     "text": [
      "Saving the result to ././fragments/Frag4//test/filtrations/6/RadialFiltration_51_38/diagrams.npy\n",
      "Applying Scaler to persistence diagrams.\n"
     ]
    },
    {
     "name": "stderr",
     "output_type": "stream",
     "text": [
      "DiagramVectorizer: batch: 100%|██████████| 2/2 [00:00<00:00, 21.05it/s]"
     ]
    },
    {
     "name": "stdout",
     "output_type": "stream",
     "text": [
      "Saving the result to ././fragments/Frag4//test/filtrations/6/RadialFiltration_51_38/features.npy\n",
      "Applying filtration 72/72: 6/RadialFiltration_51_51\n",
      "FiltrationExtractor: processing ./fragments/Frag4//test/filtrations/6/RadialFiltration_51_51, do_fit = False, filtration = RadialFiltration(center=array([51, 51]), n_jobs=-1)\n"
     ]
    },
    {
     "name": "stderr",
     "output_type": "stream",
     "text": [
      "\n"
     ]
    },
    {
     "name": "stdout",
     "output_type": "stream",
     "text": [
      "Saving the result to ././fragments/Frag4//test/filtrations/6/RadialFiltration_51_51/diagrams.npy\n",
      "Applying Scaler to persistence diagrams.\n"
     ]
    },
    {
     "name": "stderr",
     "output_type": "stream",
     "text": [
      "DiagramVectorizer: batch: 100%|██████████| 2/2 [00:00<00:00, 29.41it/s]\n"
     ]
    },
    {
     "name": "stdout",
     "output_type": "stream",
     "text": [
      "Saving the result to ././fragments/Frag4//test/filtrations/6/RadialFiltration_51_51/features.npy\n"
     ]
    },
    {
     "name": "stderr",
     "output_type": "stream",
     "text": [
      "GrayGeometryExtractor: 100%|██████████| 551/551 [00:05<00:00, 106.29it/s]\n"
     ]
    },
    {
     "name": "stdout",
     "output_type": "stream",
     "text": [
      "Saving the result to ././fragments/Frag4//test/geometry/features.npy\n",
      "Applying StandardScaler.\n"
     ]
    },
    {
     "data": {
      "text/plain": [
       "((10229, 7353), (551, 7353))"
      ]
     },
     "execution_count": 6,
     "metadata": {},
     "output_type": "execute_result"
    }
   ],
   "source": [
    "import cvtda.topology\n",
    "\n",
    "extractor = cvtda.topology.FeatureExtractor(only_get_from_dump = False, return_diagrams = False)\n",
    "extractor = extractor.fit(train_images, f\"{PREFIX}/train\")\n",
    "train_features = extractor.transform(train_images, f\"{PREFIX}/train\")\n",
    "test_features = extractor.transform(test_images, f\"{PREFIX}/test\")\n",
    "\n",
    "train_features.shape, test_features.shape"
   ]
  },
  {
   "cell_type": "code",
   "execution_count": null,
   "id": "326d2043",
   "metadata": {},
   "outputs": [
    {
     "name": "stdout",
     "output_type": "stream",
     "text": [
      "Trying no - <cvtda.segmentation.MiniUnet.MiniUnet object at 0x00000269A325AB00>\n",
      "Parameters: 42163945\n"
     ]
    },
    {
     "name": "stderr",
     "output_type": "stream",
     "text": [
      "100%|██████████| 100/100 [23:02<00:00, 13.83s/it, loss=204, lr=1e-5, Accuracy=0.846, AUC-ROC=0.5, Precision=0, Recall=0, F1-score=0, Jaccard score=0] \n"
     ]
    },
    {
     "name": "stdout",
     "output_type": "stream",
     "text": [
      "Saving the result to ././fragments/Frag4//predictions/no.npy\n",
      "{'model': 'Без признаков', 'Accuracy': 0.8455272196857986, 'AUC-ROC': 0.49990171812752177, 'Precision': 0.0, 'Recall': 0.0, 'F1-score': 0.0, 'Jaccard score': 0.0}\n",
      "Trying images - <cvtda.segmentation.MiniUnet.MiniUnet object at 0x00000269A325AC20>\n",
      "Parameters: 42163945\n"
     ]
    },
    {
     "name": "stderr",
     "output_type": "stream",
     "text": [
      "100%|██████████| 100/100 [24:19<00:00, 14.60s/it, loss=80.1, lr=1e-5, Accuracy=0.907, AUC-ROC=0.92, Precision=0.864, Recall=0.471, F1-score=0.61, Jaccard score=0.439]   \n"
     ]
    },
    {
     "name": "stdout",
     "output_type": "stream",
     "text": [
      "Saving the result to ././fragments/Frag4//predictions/images.npy\n",
      "{'model': 'Без топологических признаков', 'Accuracy': 0.9068884875510436, 'AUC-ROC': 0.920219826128771, 'Precision': 0.8642451341399263, 'Recall': 0.47125454279477613, 'F1-score': 0.6099281828154787, 'Jaccard score': 0.4387745836404619}\n",
      "Trying topological - <cvtda.segmentation.MiniUnet.MiniUnet object at 0x00000269A325B040>\n",
      "Parameters: 42163945\n"
     ]
    },
    {
     "name": "stderr",
     "output_type": "stream",
     "text": [
      "100%|██████████| 100/100 [26:39<00:00, 16.00s/it, loss=51.5, lr=1e-5, Accuracy=0.862, AUC-ROC=0.871, Precision=0.833, Recall=0.137, F1-score=0.235, Jaccard score=0.133]  \n"
     ]
    },
    {
     "name": "stdout",
     "output_type": "stream",
     "text": [
      "Saving the result to ././fragments/Frag4//predictions/topological.npy\n",
      "{'model': 'Только топологические признаки', 'Accuracy': 0.8623964063917876, 'AUC-ROC': 0.8709078579524686, 'Precision': 0.8332516368474493, 'Recall': 0.13652622128394368, 'F1-score': 0.23461186786970334, 'Jaccard score': 0.1328953466944387}\n",
      "Trying combined - <cvtda.segmentation.MiniUnet.MiniUnet object at 0x00000269A325AC80>\n",
      "Parameters: 42237673\n"
     ]
    },
    {
     "name": "stderr",
     "output_type": "stream",
     "text": [
      "100%|██████████| 100/100 [31:38<00:00, 18.99s/it, loss=63.8, lr=1e-5, Accuracy=0.883, AUC-ROC=0.93, Precision=0.828, Recall=0.306, F1-score=0.447, Jaccard score=0.288]  \n"
     ]
    },
    {
     "name": "stdout",
     "output_type": "stream",
     "text": [
      "Saving the result to ././fragments/Frag4//predictions/combined.npy\n",
      "{'model': 'Комбинированные признаки', 'Accuracy': 0.8830216367967332, 'AUC-ROC': 0.9303924647571764, 'Precision': 0.8278892427870643, 'Recall': 0.3064288971944388, 'F1-score': 0.4472981233827679, 'Jaccard score': 0.2880772736343093}\n"
     ]
    },
    {
     "data": {
      "text/html": [
       "<div>\n",
       "<style scoped>\n",
       "    .dataframe tbody tr th:only-of-type {\n",
       "        vertical-align: middle;\n",
       "    }\n",
       "\n",
       "    .dataframe tbody tr th {\n",
       "        vertical-align: top;\n",
       "    }\n",
       "\n",
       "    .dataframe thead th {\n",
       "        text-align: right;\n",
       "    }\n",
       "</style>\n",
       "<table border=\"1\" class=\"dataframe\">\n",
       "  <thead>\n",
       "    <tr style=\"text-align: right;\">\n",
       "      <th></th>\n",
       "      <th>model</th>\n",
       "      <th>Accuracy</th>\n",
       "      <th>AUC-ROC</th>\n",
       "      <th>Precision</th>\n",
       "      <th>Recall</th>\n",
       "      <th>F1-score</th>\n",
       "      <th>Jaccard score</th>\n",
       "    </tr>\n",
       "  </thead>\n",
       "  <tbody>\n",
       "    <tr>\n",
       "      <th>0</th>\n",
       "      <td>Без признаков</td>\n",
       "      <td>0.845527</td>\n",
       "      <td>0.499902</td>\n",
       "      <td>0.000000</td>\n",
       "      <td>0.000000</td>\n",
       "      <td>0.000000</td>\n",
       "      <td>0.000000</td>\n",
       "    </tr>\n",
       "    <tr>\n",
       "      <th>1</th>\n",
       "      <td>Без топологических признаков</td>\n",
       "      <td>0.906888</td>\n",
       "      <td>0.920220</td>\n",
       "      <td>0.864245</td>\n",
       "      <td>0.471255</td>\n",
       "      <td>0.609928</td>\n",
       "      <td>0.438775</td>\n",
       "    </tr>\n",
       "    <tr>\n",
       "      <th>2</th>\n",
       "      <td>Только топологические признаки</td>\n",
       "      <td>0.862396</td>\n",
       "      <td>0.870908</td>\n",
       "      <td>0.833252</td>\n",
       "      <td>0.136526</td>\n",
       "      <td>0.234612</td>\n",
       "      <td>0.132895</td>\n",
       "    </tr>\n",
       "    <tr>\n",
       "      <th>3</th>\n",
       "      <td>Комбинированные признаки</td>\n",
       "      <td>0.883022</td>\n",
       "      <td>0.930392</td>\n",
       "      <td>0.827889</td>\n",
       "      <td>0.306429</td>\n",
       "      <td>0.447298</td>\n",
       "      <td>0.288077</td>\n",
       "    </tr>\n",
       "  </tbody>\n",
       "</table>\n",
       "</div>"
      ],
      "text/plain": [
       "                            model  Accuracy   AUC-ROC  Precision    Recall  \\\n",
       "0                   Без признаков  0.845527  0.499902   0.000000  0.000000   \n",
       "1    Без топологических признаков  0.906888  0.920220   0.864245  0.471255   \n",
       "2  Только топологические признаки  0.862396  0.870908   0.833252  0.136526   \n",
       "3        Комбинированные признаки  0.883022  0.930392   0.827889  0.306429   \n",
       "\n",
       "   F1-score  Jaccard score  \n",
       "0  0.000000       0.000000  \n",
       "1  0.609928       0.438775  \n",
       "2  0.234612       0.132895  \n",
       "3  0.447298       0.288077  "
      ]
     },
     "execution_count": 7,
     "metadata": {},
     "output_type": "execute_result"
    }
   ],
   "source": [
    "import cvtda.segmentation\n",
    "\n",
    "cvtda.segmentation.segment(\n",
    "    train_images, train_features, train_labels,\n",
    "    test_images, test_features, test_labels,\n",
    "    dump_name = f\"{PREFIX}/predictions\", remove_cross_maps = True\n",
    ")"
   ]
  },
  {
   "cell_type": "code",
   "execution_count": null,
   "id": "01f9bd38",
   "metadata": {},
   "outputs": [
    {
     "data": {
      "image/png": "[encoded data removed]",
      "text/plain": [
       "<Figure size 2000x500 with 4 Axes>"
      ]
     },
     "metadata": {},
     "output_type": "display_data"
    }
   ],
   "source": [
    "import numpy\n",
    "import matplotlib.pyplot as plt\n",
    "\n",
    "def restore(imgs, idxs, ax):\n",
    "    restored = numpy.zeros((image.shape[0] // RESIZE_FACTOR, image.shape[1] // RESIZE_FACTOR))\n",
    "\n",
    "    for img, (i, j) in zip(imgs, idxs):\n",
    "        i_from, i_to = i + PADDING, i + WINDOW - PADDING\n",
    "        j_from, j_to = j + PADDING, j + WINDOW - PADDING\n",
    "        img_part = img[PADDING:-PADDING, PADDING:-PADDING]\n",
    "        restored[i_from:i_to, j_from:j_to] = img_part\n",
    "\n",
    "    ax.imshow(restored, cmap = 'gray')\n",
    "\n",
    "fig, axes = plt.subplots(1, 4, figsize = (20, 5))\n",
    "\n",
    "axes[0].set_title(\"Target\")\n",
    "restore(test_labels, test_idxs, axes[0])\n",
    "\n",
    "axes[1].set_title(\"Only images\")\n",
    "restore(numpy.squeeze(numpy.load(f'{PREFIX}/predictions/images.npy')), test_idxs, axes[1])\n",
    "\n",
    "axes[2].set_title(\"Only topological\")\n",
    "restore(numpy.squeeze(numpy.load(f'{PREFIX}/predictions/topological.npy')), test_idxs, axes[2])\n",
    "\n",
    "axes[3].set_title(\"Combined\")\n",
    "restore(numpy.squeeze(numpy.load(f'{PREFIX}/predictions/combined.npy')), test_idxs, axes[3])"
   ]
  }
 ],
 "metadata": {
  "kernelspec": {
   "display_name": "Python 3",
   "language": "python",
   "name": "python3"
  },
  "language_info": {
   "codemirror_mode": {
    "name": "ipython",
    "version": 3
   },
   "file_extension": ".py",
   "mimetype": "text/x-python",
   "name": "python",
   "nbconvert_exporter": "python",
   "pygments_lexer": "ipython3",
   "version": "3.10.11"
  }
 },
 "nbformat": 4,
 "nbformat_minor": 5
}
