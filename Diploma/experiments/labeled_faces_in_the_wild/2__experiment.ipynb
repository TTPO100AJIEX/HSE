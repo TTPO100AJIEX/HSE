{
 "cells": [
  {
   "cell_type": "code",
   "execution_count": 2,
   "metadata": {},
   "outputs": [],
   "source": [
    "import numpy\n",
    "import torchvision\n",
    "import torchvision.transforms.v2\n",
    "\n",
    "transform = torchvision.transforms.v2.Compose([\n",
    "    torchvision.transforms.v2.CenterCrop((128, 128)),\n",
    "    torchvision.transforms.v2.Resize((64, 64))\n",
    "])\n",
    "\n",
    "train = torchvision.datasets.ImageFolder(\"lfw/training\", transform = transform)\n",
    "test = torchvision.datasets.ImageFolder(\"lfw/testing\", transform = transform)"
   ]
  },
  {
   "cell_type": "code",
   "execution_count": 3,
   "metadata": {},
   "outputs": [
    {
     "name": "stdout",
     "output_type": "stream",
     "text": [
      "(9030, 64, 64, 3) (134, 64, 64, 3)\n"
     ]
    }
   ],
   "source": [
    "train_images = numpy.array([ numpy.array(item[0]) / 255 for item in train ])\n",
    "train_labels = numpy.array([ item[1] for item in train ])\n",
    "\n",
    "test_images = numpy.array([ numpy.array(item[0]) / 255 for item in test ])\n",
    "test_labels = numpy.array([ item[1] for item in test ])\n",
    "\n",
    "print(train_images.shape, test_images.shape)"
   ]
  },
  {
   "cell_type": "code",
   "execution_count": 4,
   "metadata": {},
   "outputs": [
    {
     "name": "stdout",
     "output_type": "stream",
     "text": [
      "Calculating inverted images\n",
      "RGB images received. Transforming to grayscale.\n"
     ]
    },
    {
     "name": "stderr",
     "output_type": "stream",
     "text": [
      "rgb2gray: 100%|██████████| 9030/9030 [00:02<00:00, 4059.33it/s]\n"
     ]
    },
    {
     "name": "stdout",
     "output_type": "stream",
     "text": [
      "Got the result from ./1/train/greyscale/gray/features.npy\n",
      "Got the result from ./1/train/greyscale/gray/features.npy\n",
      "Got the result from ./1/train/greyscale/red/features.npy\n",
      "Got the result from ./1/train/greyscale/red/features.npy\n",
      "Got the result from ./1/train/greyscale/green/features.npy\n",
      "Got the result from ./1/train/greyscale/green/features.npy\n",
      "Got the result from ./1/train/greyscale/blue/features.npy\n",
      "Got the result from ./1/train/greyscale/blue/features.npy\n",
      "RGB images received. Transforming to grayscale.\n"
     ]
    },
    {
     "name": "stderr",
     "output_type": "stream",
     "text": [
      "rgb2gray: 100%|██████████| 9030/9030 [00:01<00:00, 5735.73it/s]\n"
     ]
    },
    {
     "name": "stdout",
     "output_type": "stream",
     "text": [
      "Got the result from ./1/train/greyscale/gray/features.npy\n",
      "Got the result from ./1/train/greyscale/red/features.npy\n",
      "Got the result from ./1/train/greyscale/green/features.npy\n",
      "Got the result from ./1/train/greyscale/blue/features.npy\n",
      "RGB images received. Transforming to grayscale.\n"
     ]
    },
    {
     "name": "stderr",
     "output_type": "stream",
     "text": [
      "rgb2gray: 100%|██████████| 9030/9030 [00:01<00:00, 5497.68it/s]\n"
     ]
    },
    {
     "name": "stdout",
     "output_type": "stream",
     "text": [
      "Got the result from ./1/train/inverted_greyscale/gray/features.npy\n",
      "Got the result from ./1/train/inverted_greyscale/gray/features.npy\n",
      "Got the result from ./1/train/inverted_greyscale/red/features.npy\n",
      "Got the result from ./1/train/inverted_greyscale/red/features.npy\n",
      "Got the result from ./1/train/inverted_greyscale/green/features.npy\n",
      "Got the result from ./1/train/inverted_greyscale/green/features.npy\n",
      "Got the result from ./1/train/inverted_greyscale/blue/features.npy\n",
      "Got the result from ./1/train/inverted_greyscale/blue/features.npy\n",
      "RGB images received. Transforming to grayscale.\n"
     ]
    },
    {
     "name": "stderr",
     "output_type": "stream",
     "text": [
      "rgb2gray: 100%|██████████| 9030/9030 [00:01<00:00, 5867.45it/s]\n"
     ]
    },
    {
     "name": "stdout",
     "output_type": "stream",
     "text": [
      "Got the result from ./1/train/inverted_greyscale/gray/features.npy\n",
      "Got the result from ./1/train/inverted_greyscale/red/features.npy\n",
      "Got the result from ./1/train/inverted_greyscale/green/features.npy\n",
      "Got the result from ./1/train/inverted_greyscale/blue/features.npy\n",
      "Fitting filtrations\n",
      "Calculated radial centers for images of size 64x64: [12 25 38 51]x[12 25 38 51]\n",
      "Fitting filtration 1/72: 2/HeightFiltrartion_-1_-1\n",
      "RGB images received. Transforming to grayscale.\n"
     ]
    },
    {
     "name": "stderr",
     "output_type": "stream",
     "text": [
      "rgb2gray: 100%|██████████| 9030/9030 [00:01<00:00, 6011.98it/s]\n"
     ]
    },
    {
     "name": "stdout",
     "output_type": "stream",
     "text": [
      "Got the result from ./1/train/filtrations/2/HeightFiltrartion_-1_-1/gray/features.npy\n",
      "Got the result from ./1/train/filtrations/2/HeightFiltrartion_-1_-1/gray/features.npy\n",
      "Got the result from ./1/train/filtrations/2/HeightFiltrartion_-1_-1/red/features.npy\n",
      "Got the result from ./1/train/filtrations/2/HeightFiltrartion_-1_-1/red/features.npy\n",
      "Got the result from ./1/train/filtrations/2/HeightFiltrartion_-1_-1/green/features.npy\n",
      "Got the result from ./1/train/filtrations/2/HeightFiltrartion_-1_-1/green/features.npy\n",
      "Got the result from ./1/train/filtrations/2/HeightFiltrartion_-1_-1/blue/features.npy\n",
      "Got the result from ./1/train/filtrations/2/HeightFiltrartion_-1_-1/blue/features.npy\n",
      "Fitting filtration 2/72: 2/HeightFiltrartion_1_1\n",
      "RGB images received. Transforming to grayscale.\n"
     ]
    },
    {
     "name": "stderr",
     "output_type": "stream",
     "text": [
      "rgb2gray: 100%|██████████| 9030/9030 [00:01<00:00, 5921.31it/s]\n"
     ]
    },
    {
     "name": "stdout",
     "output_type": "stream",
     "text": [
      "Got the result from ./1/train/filtrations/2/HeightFiltrartion_1_1/gray/features.npy\n",
      "Got the result from ./1/train/filtrations/2/HeightFiltrartion_1_1/gray/features.npy\n",
      "Got the result from ./1/train/filtrations/2/HeightFiltrartion_1_1/red/features.npy\n",
      "Got the result from ./1/train/filtrations/2/HeightFiltrartion_1_1/red/features.npy\n",
      "Got the result from ./1/train/filtrations/2/HeightFiltrartion_1_1/green/features.npy\n",
      "Got the result from ./1/train/filtrations/2/HeightFiltrartion_1_1/green/features.npy\n",
      "Got the result from ./1/train/filtrations/2/HeightFiltrartion_1_1/blue/features.npy\n",
      "Got the result from ./1/train/filtrations/2/HeightFiltrartion_1_1/blue/features.npy\n",
      "Fitting filtration 3/72: 2/HeightFiltrartion_1_-1\n",
      "RGB images received. Transforming to grayscale.\n"
     ]
    },
    {
     "name": "stderr",
     "output_type": "stream",
     "text": [
      "rgb2gray: 100%|██████████| 9030/9030 [00:01<00:00, 6005.94it/s]\n"
     ]
    },
    {
     "name": "stdout",
     "output_type": "stream",
     "text": [
      "Got the result from ./1/train/filtrations/2/HeightFiltrartion_1_-1/gray/features.npy\n",
      "Got the result from ./1/train/filtrations/2/HeightFiltrartion_1_-1/gray/features.npy\n",
      "Got the result from ./1/train/filtrations/2/HeightFiltrartion_1_-1/red/features.npy\n",
      "Got the result from ./1/train/filtrations/2/HeightFiltrartion_1_-1/red/features.npy\n",
      "Got the result from ./1/train/filtrations/2/HeightFiltrartion_1_-1/green/features.npy\n",
      "Got the result from ./1/train/filtrations/2/HeightFiltrartion_1_-1/green/features.npy\n",
      "Got the result from ./1/train/filtrations/2/HeightFiltrartion_1_-1/blue/features.npy\n",
      "Got the result from ./1/train/filtrations/2/HeightFiltrartion_1_-1/blue/features.npy\n",
      "Fitting filtration 4/72: 2/HeightFiltrartion_-1_1\n",
      "RGB images received. Transforming to grayscale.\n"
     ]
    },
    {
     "name": "stderr",
     "output_type": "stream",
     "text": [
      "rgb2gray: 100%|██████████| 9030/9030 [00:01<00:00, 5986.05it/s]\n"
     ]
    },
    {
     "name": "stdout",
     "output_type": "stream",
     "text": [
      "Got the result from ./1/train/filtrations/2/HeightFiltrartion_-1_1/gray/features.npy\n",
      "Got the result from ./1/train/filtrations/2/HeightFiltrartion_-1_1/gray/features.npy\n",
      "Got the result from ./1/train/filtrations/2/HeightFiltrartion_-1_1/red/features.npy\n",
      "Got the result from ./1/train/filtrations/2/HeightFiltrartion_-1_1/red/features.npy\n",
      "Got the result from ./1/train/filtrations/2/HeightFiltrartion_-1_1/green/features.npy\n",
      "Got the result from ./1/train/filtrations/2/HeightFiltrartion_-1_1/green/features.npy\n",
      "Got the result from ./1/train/filtrations/2/HeightFiltrartion_-1_1/blue/features.npy\n",
      "Got the result from ./1/train/filtrations/2/HeightFiltrartion_-1_1/blue/features.npy\n",
      "Fitting filtration 5/72: 2/HeightFiltrartion_0_-1\n",
      "RGB images received. Transforming to grayscale.\n"
     ]
    },
    {
     "name": "stderr",
     "output_type": "stream",
     "text": [
      "rgb2gray: 100%|██████████| 9030/9030 [00:01<00:00, 5724.22it/s]\n"
     ]
    },
    {
     "name": "stdout",
     "output_type": "stream",
     "text": [
      "Got the result from ./1/train/filtrations/2/HeightFiltrartion_0_-1/gray/features.npy\n",
      "Got the result from ./1/train/filtrations/2/HeightFiltrartion_0_-1/gray/features.npy\n",
      "Got the result from ./1/train/filtrations/2/HeightFiltrartion_0_-1/red/features.npy\n",
      "Got the result from ./1/train/filtrations/2/HeightFiltrartion_0_-1/red/features.npy\n",
      "Got the result from ./1/train/filtrations/2/HeightFiltrartion_0_-1/green/features.npy\n",
      "Got the result from ./1/train/filtrations/2/HeightFiltrartion_0_-1/green/features.npy\n",
      "Got the result from ./1/train/filtrations/2/HeightFiltrartion_0_-1/blue/features.npy\n",
      "Got the result from ./1/train/filtrations/2/HeightFiltrartion_0_-1/blue/features.npy\n",
      "Fitting filtration 6/72: 2/HeightFiltrartion_0_1\n",
      "RGB images received. Transforming to grayscale.\n"
     ]
    },
    {
     "name": "stderr",
     "output_type": "stream",
     "text": [
      "rgb2gray: 100%|██████████| 9030/9030 [00:01<00:00, 5733.34it/s]\n"
     ]
    },
    {
     "name": "stdout",
     "output_type": "stream",
     "text": [
      "Got the result from ./1/train/filtrations/2/HeightFiltrartion_0_1/gray/features.npy\n",
      "Got the result from ./1/train/filtrations/2/HeightFiltrartion_0_1/gray/features.npy\n",
      "Got the result from ./1/train/filtrations/2/HeightFiltrartion_0_1/red/features.npy\n",
      "Got the result from ./1/train/filtrations/2/HeightFiltrartion_0_1/red/features.npy\n",
      "Got the result from ./1/train/filtrations/2/HeightFiltrartion_0_1/green/features.npy\n",
      "Got the result from ./1/train/filtrations/2/HeightFiltrartion_0_1/green/features.npy\n",
      "Got the result from ./1/train/filtrations/2/HeightFiltrartion_0_1/blue/features.npy\n",
      "Got the result from ./1/train/filtrations/2/HeightFiltrartion_0_1/blue/features.npy\n",
      "Fitting filtration 7/72: 2/HeightFiltrartion_-1_0\n",
      "RGB images received. Transforming to grayscale.\n"
     ]
    },
    {
     "name": "stderr",
     "output_type": "stream",
     "text": [
      "rgb2gray: 100%|██████████| 9030/9030 [00:01<00:00, 6040.15it/s]\n"
     ]
    },
    {
     "name": "stdout",
     "output_type": "stream",
     "text": [
      "Got the result from ./1/train/filtrations/2/HeightFiltrartion_-1_0/gray/features.npy\n",
      "Got the result from ./1/train/filtrations/2/HeightFiltrartion_-1_0/gray/features.npy\n",
      "Got the result from ./1/train/filtrations/2/HeightFiltrartion_-1_0/red/features.npy\n",
      "Got the result from ./1/train/filtrations/2/HeightFiltrartion_-1_0/red/features.npy\n",
      "Got the result from ./1/train/filtrations/2/HeightFiltrartion_-1_0/green/features.npy\n",
      "Got the result from ./1/train/filtrations/2/HeightFiltrartion_-1_0/green/features.npy\n",
      "Got the result from ./1/train/filtrations/2/HeightFiltrartion_-1_0/blue/features.npy\n",
      "Got the result from ./1/train/filtrations/2/HeightFiltrartion_-1_0/blue/features.npy\n",
      "Fitting filtration 8/72: 2/HeightFiltrartion_1_0\n",
      "RGB images received. Transforming to grayscale.\n"
     ]
    },
    {
     "name": "stderr",
     "output_type": "stream",
     "text": [
      "rgb2gray: 100%|██████████| 9030/9030 [00:01<00:00, 6056.35it/s]\n"
     ]
    },
    {
     "name": "stdout",
     "output_type": "stream",
     "text": [
      "Got the result from ./1/train/filtrations/2/HeightFiltrartion_1_0/gray/features.npy\n",
      "Got the result from ./1/train/filtrations/2/HeightFiltrartion_1_0/gray/features.npy\n",
      "Got the result from ./1/train/filtrations/2/HeightFiltrartion_1_0/red/features.npy\n",
      "Got the result from ./1/train/filtrations/2/HeightFiltrartion_1_0/red/features.npy\n",
      "Got the result from ./1/train/filtrations/2/HeightFiltrartion_1_0/green/features.npy\n",
      "Got the result from ./1/train/filtrations/2/HeightFiltrartion_1_0/green/features.npy\n",
      "Got the result from ./1/train/filtrations/2/HeightFiltrartion_1_0/blue/features.npy\n",
      "Got the result from ./1/train/filtrations/2/HeightFiltrartion_1_0/blue/features.npy\n",
      "Fitting filtration 9/72: 2/RadialFiltration_12_12\n",
      "RGB images received. Transforming to grayscale.\n"
     ]
    },
    {
     "name": "stderr",
     "output_type": "stream",
     "text": [
      "rgb2gray: 100%|██████████| 9030/9030 [00:01<00:00, 5907.89it/s]\n"
     ]
    },
    {
     "name": "stdout",
     "output_type": "stream",
     "text": [
      "Got the result from ./1/train/filtrations/2/RadialFiltration_12_12/gray/features.npy\n",
      "Got the result from ./1/train/filtrations/2/RadialFiltration_12_12/gray/features.npy\n",
      "Got the result from ./1/train/filtrations/2/RadialFiltration_12_12/red/features.npy\n",
      "Got the result from ./1/train/filtrations/2/RadialFiltration_12_12/red/features.npy\n",
      "Got the result from ./1/train/filtrations/2/RadialFiltration_12_12/green/features.npy\n",
      "Got the result from ./1/train/filtrations/2/RadialFiltration_12_12/green/features.npy\n",
      "Got the result from ./1/train/filtrations/2/RadialFiltration_12_12/blue/features.npy\n",
      "Got the result from ./1/train/filtrations/2/RadialFiltration_12_12/blue/features.npy\n",
      "Fitting filtration 10/72: 2/RadialFiltration_12_25\n",
      "RGB images received. Transforming to grayscale.\n"
     ]
    },
    {
     "name": "stderr",
     "output_type": "stream",
     "text": [
      "rgb2gray: 100%|██████████| 9030/9030 [00:01<00:00, 5720.17it/s]\n"
     ]
    },
    {
     "name": "stdout",
     "output_type": "stream",
     "text": [
      "Got the result from ./1/train/filtrations/2/RadialFiltration_12_25/gray/features.npy\n",
      "Got the result from ./1/train/filtrations/2/RadialFiltration_12_25/gray/features.npy\n",
      "Got the result from ./1/train/filtrations/2/RadialFiltration_12_25/red/features.npy\n",
      "Got the result from ./1/train/filtrations/2/RadialFiltration_12_25/red/features.npy\n",
      "Got the result from ./1/train/filtrations/2/RadialFiltration_12_25/green/features.npy\n",
      "Got the result from ./1/train/filtrations/2/RadialFiltration_12_25/green/features.npy\n",
      "Got the result from ./1/train/filtrations/2/RadialFiltration_12_25/blue/features.npy\n",
      "Got the result from ./1/train/filtrations/2/RadialFiltration_12_25/blue/features.npy\n",
      "Fitting filtration 11/72: 2/RadialFiltration_12_38\n",
      "RGB images received. Transforming to grayscale.\n"
     ]
    },
    {
     "name": "stderr",
     "output_type": "stream",
     "text": [
      "rgb2gray: 100%|██████████| 9030/9030 [00:01<00:00, 5970.33it/s]\n"
     ]
    },
    {
     "name": "stdout",
     "output_type": "stream",
     "text": [
      "Got the result from ./1/train/filtrations/2/RadialFiltration_12_38/gray/features.npy\n",
      "Got the result from ./1/train/filtrations/2/RadialFiltration_12_38/gray/features.npy\n",
      "Got the result from ./1/train/filtrations/2/RadialFiltration_12_38/red/features.npy\n",
      "Got the result from ./1/train/filtrations/2/RadialFiltration_12_38/red/features.npy\n",
      "Got the result from ./1/train/filtrations/2/RadialFiltration_12_38/green/features.npy\n",
      "Got the result from ./1/train/filtrations/2/RadialFiltration_12_38/green/features.npy\n",
      "Got the result from ./1/train/filtrations/2/RadialFiltration_12_38/blue/features.npy\n",
      "Got the result from ./1/train/filtrations/2/RadialFiltration_12_38/blue/features.npy\n",
      "Fitting filtration 12/72: 2/RadialFiltration_12_51\n",
      "RGB images received. Transforming to grayscale.\n"
     ]
    },
    {
     "name": "stderr",
     "output_type": "stream",
     "text": [
      "rgb2gray: 100%|██████████| 9030/9030 [00:01<00:00, 6105.47it/s]\n"
     ]
    },
    {
     "name": "stdout",
     "output_type": "stream",
     "text": [
      "Got the result from ./1/train/filtrations/2/RadialFiltration_12_51/gray/features.npy\n",
      "Got the result from ./1/train/filtrations/2/RadialFiltration_12_51/gray/features.npy\n",
      "Got the result from ./1/train/filtrations/2/RadialFiltration_12_51/red/features.npy\n",
      "Got the result from ./1/train/filtrations/2/RadialFiltration_12_51/red/features.npy\n",
      "Got the result from ./1/train/filtrations/2/RadialFiltration_12_51/green/features.npy\n",
      "Got the result from ./1/train/filtrations/2/RadialFiltration_12_51/green/features.npy\n",
      "Got the result from ./1/train/filtrations/2/RadialFiltration_12_51/blue/features.npy\n",
      "Got the result from ./1/train/filtrations/2/RadialFiltration_12_51/blue/features.npy\n",
      "Fitting filtration 13/72: 2/RadialFiltration_25_12\n",
      "RGB images received. Transforming to grayscale.\n"
     ]
    },
    {
     "name": "stderr",
     "output_type": "stream",
     "text": [
      "rgb2gray: 100%|██████████| 9030/9030 [00:01<00:00, 5905.68it/s]\n"
     ]
    },
    {
     "name": "stdout",
     "output_type": "stream",
     "text": [
      "Got the result from ./1/train/filtrations/2/RadialFiltration_25_12/gray/features.npy\n",
      "Got the result from ./1/train/filtrations/2/RadialFiltration_25_12/gray/features.npy\n",
      "Got the result from ./1/train/filtrations/2/RadialFiltration_25_12/red/features.npy\n",
      "Got the result from ./1/train/filtrations/2/RadialFiltration_25_12/red/features.npy\n",
      "Got the result from ./1/train/filtrations/2/RadialFiltration_25_12/green/features.npy\n",
      "Got the result from ./1/train/filtrations/2/RadialFiltration_25_12/green/features.npy\n",
      "Got the result from ./1/train/filtrations/2/RadialFiltration_25_12/blue/features.npy\n",
      "Got the result from ./1/train/filtrations/2/RadialFiltration_25_12/blue/features.npy\n",
      "Fitting filtration 14/72: 2/RadialFiltration_25_25\n",
      "RGB images received. Transforming to grayscale.\n"
     ]
    },
    {
     "name": "stderr",
     "output_type": "stream",
     "text": [
      "rgb2gray: 100%|██████████| 9030/9030 [00:01<00:00, 6171.14it/s]\n"
     ]
    },
    {
     "name": "stdout",
     "output_type": "stream",
     "text": [
      "Got the result from ./1/train/filtrations/2/RadialFiltration_25_25/gray/features.npy\n",
      "Got the result from ./1/train/filtrations/2/RadialFiltration_25_25/gray/features.npy\n",
      "Got the result from ./1/train/filtrations/2/RadialFiltration_25_25/red/features.npy\n",
      "Got the result from ./1/train/filtrations/2/RadialFiltration_25_25/red/features.npy\n",
      "Got the result from ./1/train/filtrations/2/RadialFiltration_25_25/green/features.npy\n",
      "Got the result from ./1/train/filtrations/2/RadialFiltration_25_25/green/features.npy\n",
      "Got the result from ./1/train/filtrations/2/RadialFiltration_25_25/blue/features.npy\n",
      "Got the result from ./1/train/filtrations/2/RadialFiltration_25_25/blue/features.npy\n",
      "Fitting filtration 15/72: 2/RadialFiltration_25_38\n",
      "RGB images received. Transforming to grayscale.\n"
     ]
    },
    {
     "name": "stderr",
     "output_type": "stream",
     "text": [
      "rgb2gray: 100%|██████████| 9030/9030 [00:01<00:00, 6013.57it/s]\n"
     ]
    },
    {
     "name": "stdout",
     "output_type": "stream",
     "text": [
      "Got the result from ./1/train/filtrations/2/RadialFiltration_25_38/gray/features.npy\n",
      "Got the result from ./1/train/filtrations/2/RadialFiltration_25_38/gray/features.npy\n",
      "Got the result from ./1/train/filtrations/2/RadialFiltration_25_38/red/features.npy\n",
      "Got the result from ./1/train/filtrations/2/RadialFiltration_25_38/red/features.npy\n",
      "Got the result from ./1/train/filtrations/2/RadialFiltration_25_38/green/features.npy\n",
      "Got the result from ./1/train/filtrations/2/RadialFiltration_25_38/green/features.npy\n",
      "Got the result from ./1/train/filtrations/2/RadialFiltration_25_38/blue/features.npy\n",
      "Got the result from ./1/train/filtrations/2/RadialFiltration_25_38/blue/features.npy\n",
      "Fitting filtration 16/72: 2/RadialFiltration_25_51\n",
      "RGB images received. Transforming to grayscale.\n"
     ]
    },
    {
     "name": "stderr",
     "output_type": "stream",
     "text": [
      "rgb2gray: 100%|██████████| 9030/9030 [00:01<00:00, 5648.79it/s] \n"
     ]
    },
    {
     "name": "stdout",
     "output_type": "stream",
     "text": [
      "Got the result from ./1/train/filtrations/2/RadialFiltration_25_51/gray/features.npy\n",
      "Got the result from ./1/train/filtrations/2/RadialFiltration_25_51/gray/features.npy\n",
      "Got the result from ./1/train/filtrations/2/RadialFiltration_25_51/red/features.npy\n",
      "Got the result from ./1/train/filtrations/2/RadialFiltration_25_51/red/features.npy\n",
      "Got the result from ./1/train/filtrations/2/RadialFiltration_25_51/green/features.npy\n",
      "Got the result from ./1/train/filtrations/2/RadialFiltration_25_51/green/features.npy\n",
      "Got the result from ./1/train/filtrations/2/RadialFiltration_25_51/blue/features.npy\n",
      "Got the result from ./1/train/filtrations/2/RadialFiltration_25_51/blue/features.npy\n",
      "Fitting filtration 17/72: 2/RadialFiltration_38_12\n",
      "RGB images received. Transforming to grayscale.\n"
     ]
    },
    {
     "name": "stderr",
     "output_type": "stream",
     "text": [
      "rgb2gray: 100%|██████████| 9030/9030 [00:01<00:00, 5856.04it/s]\n"
     ]
    },
    {
     "name": "stdout",
     "output_type": "stream",
     "text": [
      "Got the result from ./1/train/filtrations/2/RadialFiltration_38_12/gray/features.npy\n",
      "Got the result from ./1/train/filtrations/2/RadialFiltration_38_12/gray/features.npy\n",
      "Got the result from ./1/train/filtrations/2/RadialFiltration_38_12/red/features.npy\n",
      "Got the result from ./1/train/filtrations/2/RadialFiltration_38_12/red/features.npy\n",
      "Got the result from ./1/train/filtrations/2/RadialFiltration_38_12/green/features.npy\n",
      "Got the result from ./1/train/filtrations/2/RadialFiltration_38_12/green/features.npy\n",
      "Got the result from ./1/train/filtrations/2/RadialFiltration_38_12/blue/features.npy\n",
      "Got the result from ./1/train/filtrations/2/RadialFiltration_38_12/blue/features.npy\n",
      "Fitting filtration 18/72: 2/RadialFiltration_38_25\n",
      "RGB images received. Transforming to grayscale.\n"
     ]
    },
    {
     "name": "stderr",
     "output_type": "stream",
     "text": [
      "rgb2gray: 100%|██████████| 9030/9030 [00:01<00:00, 5833.33it/s]\n"
     ]
    },
    {
     "name": "stdout",
     "output_type": "stream",
     "text": [
      "Got the result from ./1/train/filtrations/2/RadialFiltration_38_25/gray/features.npy\n",
      "Got the result from ./1/train/filtrations/2/RadialFiltration_38_25/gray/features.npy\n",
      "Got the result from ./1/train/filtrations/2/RadialFiltration_38_25/red/features.npy\n",
      "Got the result from ./1/train/filtrations/2/RadialFiltration_38_25/red/features.npy\n",
      "Got the result from ./1/train/filtrations/2/RadialFiltration_38_25/green/features.npy\n",
      "Got the result from ./1/train/filtrations/2/RadialFiltration_38_25/green/features.npy\n",
      "Got the result from ./1/train/filtrations/2/RadialFiltration_38_25/blue/features.npy\n",
      "Got the result from ./1/train/filtrations/2/RadialFiltration_38_25/blue/features.npy\n",
      "Fitting filtration 19/72: 2/RadialFiltration_38_38\n",
      "RGB images received. Transforming to grayscale.\n"
     ]
    },
    {
     "name": "stderr",
     "output_type": "stream",
     "text": [
      "rgb2gray: 100%|██████████| 9030/9030 [00:01<00:00, 6054.27it/s]\n"
     ]
    },
    {
     "name": "stdout",
     "output_type": "stream",
     "text": [
      "Got the result from ./1/train/filtrations/2/RadialFiltration_38_38/gray/features.npy\n",
      "Got the result from ./1/train/filtrations/2/RadialFiltration_38_38/gray/features.npy\n",
      "Got the result from ./1/train/filtrations/2/RadialFiltration_38_38/red/features.npy\n",
      "Got the result from ./1/train/filtrations/2/RadialFiltration_38_38/red/features.npy\n",
      "Got the result from ./1/train/filtrations/2/RadialFiltration_38_38/green/features.npy\n",
      "Got the result from ./1/train/filtrations/2/RadialFiltration_38_38/green/features.npy\n",
      "Got the result from ./1/train/filtrations/2/RadialFiltration_38_38/blue/features.npy\n",
      "Got the result from ./1/train/filtrations/2/RadialFiltration_38_38/blue/features.npy\n",
      "Fitting filtration 20/72: 2/RadialFiltration_38_51\n",
      "RGB images received. Transforming to grayscale.\n"
     ]
    },
    {
     "name": "stderr",
     "output_type": "stream",
     "text": [
      "rgb2gray: 100%|██████████| 9030/9030 [00:01<00:00, 5946.62it/s]\n"
     ]
    },
    {
     "name": "stdout",
     "output_type": "stream",
     "text": [
      "Got the result from ./1/train/filtrations/2/RadialFiltration_38_51/gray/features.npy\n",
      "Got the result from ./1/train/filtrations/2/RadialFiltration_38_51/gray/features.npy\n",
      "Got the result from ./1/train/filtrations/2/RadialFiltration_38_51/red/features.npy\n",
      "Got the result from ./1/train/filtrations/2/RadialFiltration_38_51/red/features.npy\n",
      "Got the result from ./1/train/filtrations/2/RadialFiltration_38_51/green/features.npy\n",
      "Got the result from ./1/train/filtrations/2/RadialFiltration_38_51/green/features.npy\n",
      "Got the result from ./1/train/filtrations/2/RadialFiltration_38_51/blue/features.npy\n",
      "Got the result from ./1/train/filtrations/2/RadialFiltration_38_51/blue/features.npy\n",
      "Fitting filtration 21/72: 2/RadialFiltration_51_12\n",
      "RGB images received. Transforming to grayscale.\n"
     ]
    },
    {
     "name": "stderr",
     "output_type": "stream",
     "text": [
      "rgb2gray: 100%|██████████| 9030/9030 [00:01<00:00, 5912.58it/s]\n"
     ]
    },
    {
     "name": "stdout",
     "output_type": "stream",
     "text": [
      "Got the result from ./1/train/filtrations/2/RadialFiltration_51_12/gray/features.npy\n",
      "Got the result from ./1/train/filtrations/2/RadialFiltration_51_12/gray/features.npy\n",
      "Got the result from ./1/train/filtrations/2/RadialFiltration_51_12/red/features.npy\n",
      "Got the result from ./1/train/filtrations/2/RadialFiltration_51_12/red/features.npy\n",
      "Got the result from ./1/train/filtrations/2/RadialFiltration_51_12/green/features.npy\n",
      "Got the result from ./1/train/filtrations/2/RadialFiltration_51_12/green/features.npy\n",
      "Got the result from ./1/train/filtrations/2/RadialFiltration_51_12/blue/features.npy\n",
      "Got the result from ./1/train/filtrations/2/RadialFiltration_51_12/blue/features.npy\n",
      "Fitting filtration 22/72: 2/RadialFiltration_51_25\n",
      "RGB images received. Transforming to grayscale.\n"
     ]
    },
    {
     "name": "stderr",
     "output_type": "stream",
     "text": [
      "rgb2gray: 100%|██████████| 9030/9030 [00:01<00:00, 5948.64it/s]\n"
     ]
    },
    {
     "name": "stdout",
     "output_type": "stream",
     "text": [
      "Got the result from ./1/train/filtrations/2/RadialFiltration_51_25/gray/features.npy\n",
      "Got the result from ./1/train/filtrations/2/RadialFiltration_51_25/gray/features.npy\n",
      "Got the result from ./1/train/filtrations/2/RadialFiltration_51_25/red/features.npy\n",
      "Got the result from ./1/train/filtrations/2/RadialFiltration_51_25/red/features.npy\n",
      "Got the result from ./1/train/filtrations/2/RadialFiltration_51_25/green/features.npy\n",
      "Got the result from ./1/train/filtrations/2/RadialFiltration_51_25/green/features.npy\n",
      "Got the result from ./1/train/filtrations/2/RadialFiltration_51_25/blue/features.npy\n",
      "Got the result from ./1/train/filtrations/2/RadialFiltration_51_25/blue/features.npy\n",
      "Fitting filtration 23/72: 2/RadialFiltration_51_38\n",
      "RGB images received. Transforming to grayscale.\n"
     ]
    },
    {
     "name": "stderr",
     "output_type": "stream",
     "text": [
      "rgb2gray: 100%|██████████| 9030/9030 [00:01<00:00, 5984.10it/s]\n"
     ]
    },
    {
     "name": "stdout",
     "output_type": "stream",
     "text": [
      "Got the result from ./1/train/filtrations/2/RadialFiltration_51_38/gray/features.npy\n",
      "Got the result from ./1/train/filtrations/2/RadialFiltration_51_38/gray/features.npy\n",
      "Got the result from ./1/train/filtrations/2/RadialFiltration_51_38/red/features.npy\n",
      "Got the result from ./1/train/filtrations/2/RadialFiltration_51_38/red/features.npy\n",
      "Got the result from ./1/train/filtrations/2/RadialFiltration_51_38/green/features.npy\n",
      "Got the result from ./1/train/filtrations/2/RadialFiltration_51_38/green/features.npy\n",
      "Got the result from ./1/train/filtrations/2/RadialFiltration_51_38/blue/features.npy\n",
      "Got the result from ./1/train/filtrations/2/RadialFiltration_51_38/blue/features.npy\n",
      "Fitting filtration 24/72: 2/RadialFiltration_51_51\n",
      "RGB images received. Transforming to grayscale.\n"
     ]
    },
    {
     "name": "stderr",
     "output_type": "stream",
     "text": [
      "rgb2gray: 100%|██████████| 9030/9030 [00:01<00:00, 6076.72it/s]\n"
     ]
    },
    {
     "name": "stdout",
     "output_type": "stream",
     "text": [
      "Got the result from ./1/train/filtrations/2/RadialFiltration_51_51/gray/features.npy\n",
      "Got the result from ./1/train/filtrations/2/RadialFiltration_51_51/gray/features.npy\n",
      "Got the result from ./1/train/filtrations/2/RadialFiltration_51_51/red/features.npy\n",
      "Got the result from ./1/train/filtrations/2/RadialFiltration_51_51/red/features.npy\n",
      "Got the result from ./1/train/filtrations/2/RadialFiltration_51_51/green/features.npy\n",
      "Got the result from ./1/train/filtrations/2/RadialFiltration_51_51/green/features.npy\n",
      "Got the result from ./1/train/filtrations/2/RadialFiltration_51_51/blue/features.npy\n",
      "Got the result from ./1/train/filtrations/2/RadialFiltration_51_51/blue/features.npy\n",
      "Fitting filtration 25/72: 4/HeightFiltrartion_-1_-1\n",
      "RGB images received. Transforming to grayscale.\n"
     ]
    },
    {
     "name": "stderr",
     "output_type": "stream",
     "text": [
      "rgb2gray: 100%|██████████| 9030/9030 [00:01<00:00, 5985.87it/s]\n"
     ]
    },
    {
     "name": "stdout",
     "output_type": "stream",
     "text": [
      "Got the result from ./1/train/filtrations/4/HeightFiltrartion_-1_-1/gray/features.npy\n",
      "Got the result from ./1/train/filtrations/4/HeightFiltrartion_-1_-1/gray/features.npy\n",
      "Got the result from ./1/train/filtrations/4/HeightFiltrartion_-1_-1/red/features.npy\n",
      "Got the result from ./1/train/filtrations/4/HeightFiltrartion_-1_-1/red/features.npy\n",
      "Got the result from ./1/train/filtrations/4/HeightFiltrartion_-1_-1/green/features.npy\n",
      "Got the result from ./1/train/filtrations/4/HeightFiltrartion_-1_-1/green/features.npy\n",
      "Got the result from ./1/train/filtrations/4/HeightFiltrartion_-1_-1/blue/features.npy\n",
      "Got the result from ./1/train/filtrations/4/HeightFiltrartion_-1_-1/blue/features.npy\n",
      "Fitting filtration 26/72: 4/HeightFiltrartion_1_1\n",
      "RGB images received. Transforming to grayscale.\n"
     ]
    },
    {
     "name": "stderr",
     "output_type": "stream",
     "text": [
      "rgb2gray: 100%|██████████| 9030/9030 [00:01<00:00, 6075.23it/s]\n"
     ]
    },
    {
     "name": "stdout",
     "output_type": "stream",
     "text": [
      "Got the result from ./1/train/filtrations/4/HeightFiltrartion_1_1/gray/features.npy\n",
      "Got the result from ./1/train/filtrations/4/HeightFiltrartion_1_1/gray/features.npy\n",
      "Got the result from ./1/train/filtrations/4/HeightFiltrartion_1_1/red/features.npy\n",
      "Got the result from ./1/train/filtrations/4/HeightFiltrartion_1_1/red/features.npy\n",
      "Got the result from ./1/train/filtrations/4/HeightFiltrartion_1_1/green/features.npy\n",
      "Got the result from ./1/train/filtrations/4/HeightFiltrartion_1_1/green/features.npy\n",
      "Got the result from ./1/train/filtrations/4/HeightFiltrartion_1_1/blue/features.npy\n",
      "Got the result from ./1/train/filtrations/4/HeightFiltrartion_1_1/blue/features.npy\n",
      "Fitting filtration 27/72: 4/HeightFiltrartion_1_-1\n",
      "RGB images received. Transforming to grayscale.\n"
     ]
    },
    {
     "name": "stderr",
     "output_type": "stream",
     "text": [
      "rgb2gray: 100%|██████████| 9030/9030 [00:01<00:00, 5790.47it/s]\n"
     ]
    },
    {
     "name": "stdout",
     "output_type": "stream",
     "text": [
      "Got the result from ./1/train/filtrations/4/HeightFiltrartion_1_-1/gray/features.npy\n",
      "Got the result from ./1/train/filtrations/4/HeightFiltrartion_1_-1/gray/features.npy\n",
      "Got the result from ./1/train/filtrations/4/HeightFiltrartion_1_-1/red/features.npy\n",
      "Got the result from ./1/train/filtrations/4/HeightFiltrartion_1_-1/red/features.npy\n",
      "Got the result from ./1/train/filtrations/4/HeightFiltrartion_1_-1/green/features.npy\n",
      "Got the result from ./1/train/filtrations/4/HeightFiltrartion_1_-1/green/features.npy\n",
      "Got the result from ./1/train/filtrations/4/HeightFiltrartion_1_-1/blue/features.npy\n",
      "Got the result from ./1/train/filtrations/4/HeightFiltrartion_1_-1/blue/features.npy\n",
      "Fitting filtration 28/72: 4/HeightFiltrartion_-1_1\n",
      "RGB images received. Transforming to grayscale.\n"
     ]
    },
    {
     "name": "stderr",
     "output_type": "stream",
     "text": [
      "rgb2gray: 100%|██████████| 9030/9030 [00:01<00:00, 4536.53it/s]\n"
     ]
    },
    {
     "name": "stdout",
     "output_type": "stream",
     "text": [
      "Got the result from ./1/train/filtrations/4/HeightFiltrartion_-1_1/gray/features.npy\n",
      "Got the result from ./1/train/filtrations/4/HeightFiltrartion_-1_1/gray/features.npy\n",
      "Got the result from ./1/train/filtrations/4/HeightFiltrartion_-1_1/red/features.npy\n",
      "Got the result from ./1/train/filtrations/4/HeightFiltrartion_-1_1/red/features.npy\n",
      "Got the result from ./1/train/filtrations/4/HeightFiltrartion_-1_1/green/features.npy\n",
      "Got the result from ./1/train/filtrations/4/HeightFiltrartion_-1_1/green/features.npy\n",
      "Got the result from ./1/train/filtrations/4/HeightFiltrartion_-1_1/blue/features.npy\n",
      "Got the result from ./1/train/filtrations/4/HeightFiltrartion_-1_1/blue/features.npy\n",
      "Fitting filtration 29/72: 4/HeightFiltrartion_0_-1\n",
      "RGB images received. Transforming to grayscale.\n"
     ]
    },
    {
     "name": "stderr",
     "output_type": "stream",
     "text": [
      "rgb2gray: 100%|██████████| 9030/9030 [00:01<00:00, 5711.58it/s]\n"
     ]
    },
    {
     "name": "stdout",
     "output_type": "stream",
     "text": [
      "Got the result from ./1/train/filtrations/4/HeightFiltrartion_0_-1/gray/features.npy\n",
      "Got the result from ./1/train/filtrations/4/HeightFiltrartion_0_-1/gray/features.npy\n",
      "Got the result from ./1/train/filtrations/4/HeightFiltrartion_0_-1/red/features.npy\n",
      "Got the result from ./1/train/filtrations/4/HeightFiltrartion_0_-1/red/features.npy\n",
      "Got the result from ./1/train/filtrations/4/HeightFiltrartion_0_-1/green/features.npy\n",
      "Got the result from ./1/train/filtrations/4/HeightFiltrartion_0_-1/green/features.npy\n",
      "Got the result from ./1/train/filtrations/4/HeightFiltrartion_0_-1/blue/features.npy\n",
      "Got the result from ./1/train/filtrations/4/HeightFiltrartion_0_-1/blue/features.npy\n",
      "Fitting filtration 30/72: 4/HeightFiltrartion_0_1\n",
      "RGB images received. Transforming to grayscale.\n"
     ]
    },
    {
     "name": "stderr",
     "output_type": "stream",
     "text": [
      "rgb2gray: 100%|██████████| 9030/9030 [00:01<00:00, 5995.11it/s]\n"
     ]
    },
    {
     "name": "stdout",
     "output_type": "stream",
     "text": [
      "Got the result from ./1/train/filtrations/4/HeightFiltrartion_0_1/gray/features.npy\n",
      "Got the result from ./1/train/filtrations/4/HeightFiltrartion_0_1/gray/features.npy\n",
      "Got the result from ./1/train/filtrations/4/HeightFiltrartion_0_1/red/features.npy\n",
      "Got the result from ./1/train/filtrations/4/HeightFiltrartion_0_1/red/features.npy\n",
      "Got the result from ./1/train/filtrations/4/HeightFiltrartion_0_1/green/features.npy\n",
      "Got the result from ./1/train/filtrations/4/HeightFiltrartion_0_1/green/features.npy\n",
      "Got the result from ./1/train/filtrations/4/HeightFiltrartion_0_1/blue/features.npy\n",
      "Got the result from ./1/train/filtrations/4/HeightFiltrartion_0_1/blue/features.npy\n",
      "Fitting filtration 31/72: 4/HeightFiltrartion_-1_0\n",
      "RGB images received. Transforming to grayscale.\n"
     ]
    },
    {
     "name": "stderr",
     "output_type": "stream",
     "text": [
      "rgb2gray: 100%|██████████| 9030/9030 [00:01<00:00, 5911.60it/s]\n"
     ]
    },
    {
     "name": "stdout",
     "output_type": "stream",
     "text": [
      "Got the result from ./1/train/filtrations/4/HeightFiltrartion_-1_0/gray/features.npy\n",
      "Got the result from ./1/train/filtrations/4/HeightFiltrartion_-1_0/gray/features.npy\n",
      "Got the result from ./1/train/filtrations/4/HeightFiltrartion_-1_0/red/features.npy\n",
      "Got the result from ./1/train/filtrations/4/HeightFiltrartion_-1_0/red/features.npy\n",
      "Got the result from ./1/train/filtrations/4/HeightFiltrartion_-1_0/green/features.npy\n",
      "Got the result from ./1/train/filtrations/4/HeightFiltrartion_-1_0/green/features.npy\n",
      "Got the result from ./1/train/filtrations/4/HeightFiltrartion_-1_0/blue/features.npy\n",
      "Got the result from ./1/train/filtrations/4/HeightFiltrartion_-1_0/blue/features.npy\n",
      "Fitting filtration 32/72: 4/HeightFiltrartion_1_0\n",
      "RGB images received. Transforming to grayscale.\n"
     ]
    },
    {
     "name": "stderr",
     "output_type": "stream",
     "text": [
      "rgb2gray: 100%|██████████| 9030/9030 [00:01<00:00, 5856.04it/s]\n"
     ]
    },
    {
     "name": "stdout",
     "output_type": "stream",
     "text": [
      "Got the result from ./1/train/filtrations/4/HeightFiltrartion_1_0/gray/features.npy\n",
      "Got the result from ./1/train/filtrations/4/HeightFiltrartion_1_0/gray/features.npy\n",
      "Got the result from ./1/train/filtrations/4/HeightFiltrartion_1_0/red/features.npy\n",
      "Got the result from ./1/train/filtrations/4/HeightFiltrartion_1_0/red/features.npy\n",
      "Got the result from ./1/train/filtrations/4/HeightFiltrartion_1_0/green/features.npy\n",
      "Got the result from ./1/train/filtrations/4/HeightFiltrartion_1_0/green/features.npy\n",
      "Got the result from ./1/train/filtrations/4/HeightFiltrartion_1_0/blue/features.npy\n",
      "Got the result from ./1/train/filtrations/4/HeightFiltrartion_1_0/blue/features.npy\n",
      "Fitting filtration 33/72: 4/RadialFiltration_12_12\n",
      "RGB images received. Transforming to grayscale.\n"
     ]
    },
    {
     "name": "stderr",
     "output_type": "stream",
     "text": [
      "rgb2gray: 100%|██████████| 9030/9030 [00:01<00:00, 5898.26it/s]\n"
     ]
    },
    {
     "name": "stdout",
     "output_type": "stream",
     "text": [
      "Got the result from ./1/train/filtrations/4/RadialFiltration_12_12/gray/features.npy\n",
      "Got the result from ./1/train/filtrations/4/RadialFiltration_12_12/gray/features.npy\n",
      "Got the result from ./1/train/filtrations/4/RadialFiltration_12_12/red/features.npy\n",
      "Got the result from ./1/train/filtrations/4/RadialFiltration_12_12/red/features.npy\n",
      "Got the result from ./1/train/filtrations/4/RadialFiltration_12_12/green/features.npy\n",
      "Got the result from ./1/train/filtrations/4/RadialFiltration_12_12/green/features.npy\n",
      "Got the result from ./1/train/filtrations/4/RadialFiltration_12_12/blue/features.npy\n",
      "Got the result from ./1/train/filtrations/4/RadialFiltration_12_12/blue/features.npy\n",
      "Fitting filtration 34/72: 4/RadialFiltration_12_25\n",
      "RGB images received. Transforming to grayscale.\n"
     ]
    },
    {
     "name": "stderr",
     "output_type": "stream",
     "text": [
      "rgb2gray: 100%|██████████| 9030/9030 [00:01<00:00, 6109.61it/s]\n"
     ]
    },
    {
     "name": "stdout",
     "output_type": "stream",
     "text": [
      "Got the result from ./1/train/filtrations/4/RadialFiltration_12_25/gray/features.npy\n",
      "Got the result from ./1/train/filtrations/4/RadialFiltration_12_25/gray/features.npy\n",
      "Got the result from ./1/train/filtrations/4/RadialFiltration_12_25/red/features.npy\n",
      "Got the result from ./1/train/filtrations/4/RadialFiltration_12_25/red/features.npy\n",
      "Got the result from ./1/train/filtrations/4/RadialFiltration_12_25/green/features.npy\n",
      "Got the result from ./1/train/filtrations/4/RadialFiltration_12_25/green/features.npy\n",
      "Got the result from ./1/train/filtrations/4/RadialFiltration_12_25/blue/features.npy\n",
      "Got the result from ./1/train/filtrations/4/RadialFiltration_12_25/blue/features.npy\n",
      "Fitting filtration 35/72: 4/RadialFiltration_12_38\n",
      "RGB images received. Transforming to grayscale.\n"
     ]
    },
    {
     "name": "stderr",
     "output_type": "stream",
     "text": [
      "rgb2gray: 100%|██████████| 9030/9030 [00:01<00:00, 5974.16it/s]\n"
     ]
    },
    {
     "name": "stdout",
     "output_type": "stream",
     "text": [
      "Got the result from ./1/train/filtrations/4/RadialFiltration_12_38/gray/features.npy\n",
      "Got the result from ./1/train/filtrations/4/RadialFiltration_12_38/gray/features.npy\n",
      "Got the result from ./1/train/filtrations/4/RadialFiltration_12_38/red/features.npy\n",
      "Got the result from ./1/train/filtrations/4/RadialFiltration_12_38/red/features.npy\n",
      "Got the result from ./1/train/filtrations/4/RadialFiltration_12_38/green/features.npy\n",
      "Got the result from ./1/train/filtrations/4/RadialFiltration_12_38/green/features.npy\n",
      "Got the result from ./1/train/filtrations/4/RadialFiltration_12_38/blue/features.npy\n",
      "Got the result from ./1/train/filtrations/4/RadialFiltration_12_38/blue/features.npy\n",
      "Fitting filtration 36/72: 4/RadialFiltration_12_51\n",
      "RGB images received. Transforming to grayscale.\n"
     ]
    },
    {
     "name": "stderr",
     "output_type": "stream",
     "text": [
      "rgb2gray: 100%|██████████| 9030/9030 [00:01<00:00, 5888.55it/s]\n"
     ]
    },
    {
     "name": "stdout",
     "output_type": "stream",
     "text": [
      "Got the result from ./1/train/filtrations/4/RadialFiltration_12_51/gray/features.npy\n",
      "Got the result from ./1/train/filtrations/4/RadialFiltration_12_51/gray/features.npy\n",
      "Got the result from ./1/train/filtrations/4/RadialFiltration_12_51/red/features.npy\n",
      "Got the result from ./1/train/filtrations/4/RadialFiltration_12_51/red/features.npy\n",
      "Got the result from ./1/train/filtrations/4/RadialFiltration_12_51/green/features.npy\n",
      "Got the result from ./1/train/filtrations/4/RadialFiltration_12_51/green/features.npy\n",
      "Got the result from ./1/train/filtrations/4/RadialFiltration_12_51/blue/features.npy\n",
      "Got the result from ./1/train/filtrations/4/RadialFiltration_12_51/blue/features.npy\n",
      "Fitting filtration 37/72: 4/RadialFiltration_25_12\n",
      "RGB images received. Transforming to grayscale.\n"
     ]
    },
    {
     "name": "stderr",
     "output_type": "stream",
     "text": [
      "rgb2gray: 100%|██████████| 9030/9030 [00:01<00:00, 5923.22it/s]\n"
     ]
    },
    {
     "name": "stdout",
     "output_type": "stream",
     "text": [
      "Got the result from ./1/train/filtrations/4/RadialFiltration_25_12/gray/features.npy\n",
      "Got the result from ./1/train/filtrations/4/RadialFiltration_25_12/gray/features.npy\n",
      "Got the result from ./1/train/filtrations/4/RadialFiltration_25_12/red/features.npy\n",
      "Got the result from ./1/train/filtrations/4/RadialFiltration_25_12/red/features.npy\n",
      "Got the result from ./1/train/filtrations/4/RadialFiltration_25_12/green/features.npy\n",
      "Got the result from ./1/train/filtrations/4/RadialFiltration_25_12/green/features.npy\n",
      "Got the result from ./1/train/filtrations/4/RadialFiltration_25_12/blue/features.npy\n",
      "Got the result from ./1/train/filtrations/4/RadialFiltration_25_12/blue/features.npy\n",
      "Fitting filtration 38/72: 4/RadialFiltration_25_25\n",
      "RGB images received. Transforming to grayscale.\n"
     ]
    },
    {
     "name": "stderr",
     "output_type": "stream",
     "text": [
      "rgb2gray: 100%|██████████| 9030/9030 [00:01<00:00, 6052.28it/s]\n"
     ]
    },
    {
     "name": "stdout",
     "output_type": "stream",
     "text": [
      "Got the result from ./1/train/filtrations/4/RadialFiltration_25_25/gray/features.npy\n",
      "Got the result from ./1/train/filtrations/4/RadialFiltration_25_25/gray/features.npy\n",
      "Got the result from ./1/train/filtrations/4/RadialFiltration_25_25/red/features.npy\n",
      "Got the result from ./1/train/filtrations/4/RadialFiltration_25_25/red/features.npy\n",
      "Got the result from ./1/train/filtrations/4/RadialFiltration_25_25/green/features.npy\n",
      "Got the result from ./1/train/filtrations/4/RadialFiltration_25_25/green/features.npy\n",
      "Got the result from ./1/train/filtrations/4/RadialFiltration_25_25/blue/features.npy\n",
      "Got the result from ./1/train/filtrations/4/RadialFiltration_25_25/blue/features.npy\n",
      "Fitting filtration 39/72: 4/RadialFiltration_25_38\n",
      "RGB images received. Transforming to grayscale.\n"
     ]
    },
    {
     "name": "stderr",
     "output_type": "stream",
     "text": [
      "rgb2gray: 100%|██████████| 9030/9030 [00:01<00:00, 5931.01it/s]\n"
     ]
    },
    {
     "name": "stdout",
     "output_type": "stream",
     "text": [
      "Got the result from ./1/train/filtrations/4/RadialFiltration_25_38/gray/features.npy\n",
      "Got the result from ./1/train/filtrations/4/RadialFiltration_25_38/gray/features.npy\n",
      "Got the result from ./1/train/filtrations/4/RadialFiltration_25_38/red/features.npy\n",
      "Got the result from ./1/train/filtrations/4/RadialFiltration_25_38/red/features.npy\n",
      "Got the result from ./1/train/filtrations/4/RadialFiltration_25_38/green/features.npy\n",
      "Got the result from ./1/train/filtrations/4/RadialFiltration_25_38/green/features.npy\n",
      "Got the result from ./1/train/filtrations/4/RadialFiltration_25_38/blue/features.npy\n",
      "Got the result from ./1/train/filtrations/4/RadialFiltration_25_38/blue/features.npy\n",
      "Fitting filtration 40/72: 4/RadialFiltration_25_51\n",
      "RGB images received. Transforming to grayscale.\n"
     ]
    },
    {
     "name": "stderr",
     "output_type": "stream",
     "text": [
      "rgb2gray: 100%|██████████| 9030/9030 [00:01<00:00, 4625.47it/s]\n"
     ]
    },
    {
     "name": "stdout",
     "output_type": "stream",
     "text": [
      "Got the result from ./1/train/filtrations/4/RadialFiltration_25_51/gray/features.npy\n",
      "Got the result from ./1/train/filtrations/4/RadialFiltration_25_51/gray/features.npy\n",
      "Got the result from ./1/train/filtrations/4/RadialFiltration_25_51/red/features.npy\n",
      "Got the result from ./1/train/filtrations/4/RadialFiltration_25_51/red/features.npy\n",
      "Got the result from ./1/train/filtrations/4/RadialFiltration_25_51/green/features.npy\n",
      "Got the result from ./1/train/filtrations/4/RadialFiltration_25_51/green/features.npy\n",
      "Got the result from ./1/train/filtrations/4/RadialFiltration_25_51/blue/features.npy\n",
      "Got the result from ./1/train/filtrations/4/RadialFiltration_25_51/blue/features.npy\n",
      "Fitting filtration 41/72: 4/RadialFiltration_38_12\n",
      "RGB images received. Transforming to grayscale.\n"
     ]
    },
    {
     "name": "stderr",
     "output_type": "stream",
     "text": [
      "rgb2gray: 100%|██████████| 9030/9030 [00:01<00:00, 5856.03it/s] \n"
     ]
    },
    {
     "name": "stdout",
     "output_type": "stream",
     "text": [
      "Got the result from ./1/train/filtrations/4/RadialFiltration_38_12/gray/features.npy\n",
      "Got the result from ./1/train/filtrations/4/RadialFiltration_38_12/gray/features.npy\n",
      "Got the result from ./1/train/filtrations/4/RadialFiltration_38_12/red/features.npy\n",
      "Got the result from ./1/train/filtrations/4/RadialFiltration_38_12/red/features.npy\n",
      "Got the result from ./1/train/filtrations/4/RadialFiltration_38_12/green/features.npy\n",
      "Got the result from ./1/train/filtrations/4/RadialFiltration_38_12/green/features.npy\n",
      "Got the result from ./1/train/filtrations/4/RadialFiltration_38_12/blue/features.npy\n",
      "Got the result from ./1/train/filtrations/4/RadialFiltration_38_12/blue/features.npy\n",
      "Fitting filtration 42/72: 4/RadialFiltration_38_25\n",
      "RGB images received. Transforming to grayscale.\n"
     ]
    },
    {
     "name": "stderr",
     "output_type": "stream",
     "text": [
      "rgb2gray: 100%|██████████| 9030/9030 [00:01<00:00, 5835.30it/s]\n"
     ]
    },
    {
     "name": "stdout",
     "output_type": "stream",
     "text": [
      "Got the result from ./1/train/filtrations/4/RadialFiltration_38_25/gray/features.npy\n",
      "Got the result from ./1/train/filtrations/4/RadialFiltration_38_25/gray/features.npy\n",
      "Got the result from ./1/train/filtrations/4/RadialFiltration_38_25/red/features.npy\n",
      "Got the result from ./1/train/filtrations/4/RadialFiltration_38_25/red/features.npy\n",
      "Got the result from ./1/train/filtrations/4/RadialFiltration_38_25/green/features.npy\n",
      "Got the result from ./1/train/filtrations/4/RadialFiltration_38_25/green/features.npy\n",
      "Got the result from ./1/train/filtrations/4/RadialFiltration_38_25/blue/features.npy\n",
      "Got the result from ./1/train/filtrations/4/RadialFiltration_38_25/blue/features.npy\n",
      "Fitting filtration 43/72: 4/RadialFiltration_38_38\n",
      "RGB images received. Transforming to grayscale.\n"
     ]
    },
    {
     "name": "stderr",
     "output_type": "stream",
     "text": [
      "rgb2gray: 100%|██████████| 9030/9030 [00:01<00:00, 5936.43it/s]\n"
     ]
    },
    {
     "name": "stdout",
     "output_type": "stream",
     "text": [
      "Got the result from ./1/train/filtrations/4/RadialFiltration_38_38/gray/features.npy\n",
      "Got the result from ./1/train/filtrations/4/RadialFiltration_38_38/gray/features.npy\n",
      "Got the result from ./1/train/filtrations/4/RadialFiltration_38_38/red/features.npy\n",
      "Got the result from ./1/train/filtrations/4/RadialFiltration_38_38/red/features.npy\n",
      "Got the result from ./1/train/filtrations/4/RadialFiltration_38_38/green/features.npy\n",
      "Got the result from ./1/train/filtrations/4/RadialFiltration_38_38/green/features.npy\n",
      "Got the result from ./1/train/filtrations/4/RadialFiltration_38_38/blue/features.npy\n",
      "Got the result from ./1/train/filtrations/4/RadialFiltration_38_38/blue/features.npy\n",
      "Fitting filtration 44/72: 4/RadialFiltration_38_51\n",
      "RGB images received. Transforming to grayscale.\n"
     ]
    },
    {
     "name": "stderr",
     "output_type": "stream",
     "text": [
      "rgb2gray: 100%|██████████| 9030/9030 [00:01<00:00, 5997.82it/s]\n"
     ]
    },
    {
     "name": "stdout",
     "output_type": "stream",
     "text": [
      "Got the result from ./1/train/filtrations/4/RadialFiltration_38_51/gray/features.npy\n",
      "Got the result from ./1/train/filtrations/4/RadialFiltration_38_51/gray/features.npy\n",
      "Got the result from ./1/train/filtrations/4/RadialFiltration_38_51/red/features.npy\n",
      "Got the result from ./1/train/filtrations/4/RadialFiltration_38_51/red/features.npy\n",
      "Got the result from ./1/train/filtrations/4/RadialFiltration_38_51/green/features.npy\n",
      "Got the result from ./1/train/filtrations/4/RadialFiltration_38_51/green/features.npy\n",
      "Got the result from ./1/train/filtrations/4/RadialFiltration_38_51/blue/features.npy\n",
      "Got the result from ./1/train/filtrations/4/RadialFiltration_38_51/blue/features.npy\n",
      "Fitting filtration 45/72: 4/RadialFiltration_51_12\n",
      "RGB images received. Transforming to grayscale.\n"
     ]
    },
    {
     "name": "stderr",
     "output_type": "stream",
     "text": [
      "rgb2gray: 100%|██████████| 9030/9030 [00:01<00:00, 6089.00it/s]\n"
     ]
    },
    {
     "name": "stdout",
     "output_type": "stream",
     "text": [
      "Got the result from ./1/train/filtrations/4/RadialFiltration_51_12/gray/features.npy\n",
      "Got the result from ./1/train/filtrations/4/RadialFiltration_51_12/gray/features.npy\n",
      "Got the result from ./1/train/filtrations/4/RadialFiltration_51_12/red/features.npy\n",
      "Got the result from ./1/train/filtrations/4/RadialFiltration_51_12/red/features.npy\n",
      "Got the result from ./1/train/filtrations/4/RadialFiltration_51_12/green/features.npy\n",
      "Got the result from ./1/train/filtrations/4/RadialFiltration_51_12/green/features.npy\n",
      "Got the result from ./1/train/filtrations/4/RadialFiltration_51_12/blue/features.npy\n",
      "Got the result from ./1/train/filtrations/4/RadialFiltration_51_12/blue/features.npy\n",
      "Fitting filtration 46/72: 4/RadialFiltration_51_25\n",
      "RGB images received. Transforming to grayscale.\n"
     ]
    },
    {
     "name": "stderr",
     "output_type": "stream",
     "text": [
      "rgb2gray: 100%|██████████| 9030/9030 [00:01<00:00, 5964.35it/s]\n"
     ]
    },
    {
     "name": "stdout",
     "output_type": "stream",
     "text": [
      "Got the result from ./1/train/filtrations/4/RadialFiltration_51_25/gray/features.npy\n",
      "Got the result from ./1/train/filtrations/4/RadialFiltration_51_25/gray/features.npy\n",
      "Got the result from ./1/train/filtrations/4/RadialFiltration_51_25/red/features.npy\n",
      "Got the result from ./1/train/filtrations/4/RadialFiltration_51_25/red/features.npy\n",
      "Got the result from ./1/train/filtrations/4/RadialFiltration_51_25/green/features.npy\n",
      "Got the result from ./1/train/filtrations/4/RadialFiltration_51_25/green/features.npy\n",
      "Got the result from ./1/train/filtrations/4/RadialFiltration_51_25/blue/features.npy\n",
      "Got the result from ./1/train/filtrations/4/RadialFiltration_51_25/blue/features.npy\n",
      "Fitting filtration 47/72: 4/RadialFiltration_51_38\n",
      "RGB images received. Transforming to grayscale.\n"
     ]
    },
    {
     "name": "stderr",
     "output_type": "stream",
     "text": [
      "rgb2gray: 100%|██████████| 9030/9030 [00:01<00:00, 6024.02it/s]\n"
     ]
    },
    {
     "name": "stdout",
     "output_type": "stream",
     "text": [
      "Got the result from ./1/train/filtrations/4/RadialFiltration_51_38/gray/features.npy\n",
      "Got the result from ./1/train/filtrations/4/RadialFiltration_51_38/gray/features.npy\n",
      "Got the result from ./1/train/filtrations/4/RadialFiltration_51_38/red/features.npy\n",
      "Got the result from ./1/train/filtrations/4/RadialFiltration_51_38/red/features.npy\n",
      "Got the result from ./1/train/filtrations/4/RadialFiltration_51_38/green/features.npy\n",
      "Got the result from ./1/train/filtrations/4/RadialFiltration_51_38/green/features.npy\n",
      "Got the result from ./1/train/filtrations/4/RadialFiltration_51_38/blue/features.npy\n",
      "Got the result from ./1/train/filtrations/4/RadialFiltration_51_38/blue/features.npy\n",
      "Fitting filtration 48/72: 4/RadialFiltration_51_51\n",
      "RGB images received. Transforming to grayscale.\n"
     ]
    },
    {
     "name": "stderr",
     "output_type": "stream",
     "text": [
      "rgb2gray: 100%|██████████| 9030/9030 [00:01<00:00, 5944.22it/s]\n"
     ]
    },
    {
     "name": "stdout",
     "output_type": "stream",
     "text": [
      "Got the result from ./1/train/filtrations/4/RadialFiltration_51_51/gray/features.npy\n",
      "Got the result from ./1/train/filtrations/4/RadialFiltration_51_51/gray/features.npy\n",
      "Got the result from ./1/train/filtrations/4/RadialFiltration_51_51/red/features.npy\n",
      "Got the result from ./1/train/filtrations/4/RadialFiltration_51_51/red/features.npy\n",
      "Got the result from ./1/train/filtrations/4/RadialFiltration_51_51/green/features.npy\n",
      "Got the result from ./1/train/filtrations/4/RadialFiltration_51_51/green/features.npy\n",
      "Got the result from ./1/train/filtrations/4/RadialFiltration_51_51/blue/features.npy\n",
      "Got the result from ./1/train/filtrations/4/RadialFiltration_51_51/blue/features.npy\n",
      "Fitting filtration 49/72: 6/HeightFiltrartion_-1_-1\n",
      "RGB images received. Transforming to grayscale.\n"
     ]
    },
    {
     "name": "stderr",
     "output_type": "stream",
     "text": [
      "rgb2gray: 100%|██████████| 9030/9030 [00:01<00:00, 5962.95it/s]\n"
     ]
    },
    {
     "name": "stdout",
     "output_type": "stream",
     "text": [
      "Got the result from ./1/train/filtrations/6/HeightFiltrartion_-1_-1/gray/features.npy\n",
      "Got the result from ./1/train/filtrations/6/HeightFiltrartion_-1_-1/gray/features.npy\n",
      "Got the result from ./1/train/filtrations/6/HeightFiltrartion_-1_-1/red/features.npy\n",
      "Got the result from ./1/train/filtrations/6/HeightFiltrartion_-1_-1/red/features.npy\n",
      "Got the result from ./1/train/filtrations/6/HeightFiltrartion_-1_-1/green/features.npy\n",
      "Got the result from ./1/train/filtrations/6/HeightFiltrartion_-1_-1/green/features.npy\n",
      "Got the result from ./1/train/filtrations/6/HeightFiltrartion_-1_-1/blue/features.npy\n",
      "Got the result from ./1/train/filtrations/6/HeightFiltrartion_-1_-1/blue/features.npy\n",
      "Fitting filtration 50/72: 6/HeightFiltrartion_1_1\n",
      "RGB images received. Transforming to grayscale.\n"
     ]
    },
    {
     "name": "stderr",
     "output_type": "stream",
     "text": [
      "rgb2gray: 100%|██████████| 9030/9030 [00:01<00:00, 5996.02it/s]\n"
     ]
    },
    {
     "name": "stdout",
     "output_type": "stream",
     "text": [
      "Got the result from ./1/train/filtrations/6/HeightFiltrartion_1_1/gray/features.npy\n",
      "Got the result from ./1/train/filtrations/6/HeightFiltrartion_1_1/gray/features.npy\n",
      "Got the result from ./1/train/filtrations/6/HeightFiltrartion_1_1/red/features.npy\n",
      "Got the result from ./1/train/filtrations/6/HeightFiltrartion_1_1/red/features.npy\n",
      "Got the result from ./1/train/filtrations/6/HeightFiltrartion_1_1/green/features.npy\n",
      "Got the result from ./1/train/filtrations/6/HeightFiltrartion_1_1/green/features.npy\n",
      "Got the result from ./1/train/filtrations/6/HeightFiltrartion_1_1/blue/features.npy\n",
      "Got the result from ./1/train/filtrations/6/HeightFiltrartion_1_1/blue/features.npy\n",
      "Fitting filtration 51/72: 6/HeightFiltrartion_1_-1\n",
      "RGB images received. Transforming to grayscale.\n"
     ]
    },
    {
     "name": "stderr",
     "output_type": "stream",
     "text": [
      "rgb2gray: 100%|██████████| 9030/9030 [00:01<00:00, 5598.27it/s]\n"
     ]
    },
    {
     "name": "stdout",
     "output_type": "stream",
     "text": [
      "Got the result from ./1/train/filtrations/6/HeightFiltrartion_1_-1/gray/features.npy\n",
      "Got the result from ./1/train/filtrations/6/HeightFiltrartion_1_-1/gray/features.npy\n",
      "Got the result from ./1/train/filtrations/6/HeightFiltrartion_1_-1/red/features.npy\n",
      "Got the result from ./1/train/filtrations/6/HeightFiltrartion_1_-1/red/features.npy\n",
      "Got the result from ./1/train/filtrations/6/HeightFiltrartion_1_-1/green/features.npy\n",
      "Got the result from ./1/train/filtrations/6/HeightFiltrartion_1_-1/green/features.npy\n",
      "Got the result from ./1/train/filtrations/6/HeightFiltrartion_1_-1/blue/features.npy\n",
      "Got the result from ./1/train/filtrations/6/HeightFiltrartion_1_-1/blue/features.npy\n",
      "Fitting filtration 52/72: 6/HeightFiltrartion_-1_1\n",
      "RGB images received. Transforming to grayscale.\n"
     ]
    },
    {
     "name": "stderr",
     "output_type": "stream",
     "text": [
      "rgb2gray: 100%|██████████| 9030/9030 [00:01<00:00, 5901.99it/s]\n"
     ]
    },
    {
     "name": "stdout",
     "output_type": "stream",
     "text": [
      "Got the result from ./1/train/filtrations/6/HeightFiltrartion_-1_1/gray/features.npy\n",
      "Got the result from ./1/train/filtrations/6/HeightFiltrartion_-1_1/gray/features.npy\n",
      "Got the result from ./1/train/filtrations/6/HeightFiltrartion_-1_1/red/features.npy\n",
      "Got the result from ./1/train/filtrations/6/HeightFiltrartion_-1_1/red/features.npy\n",
      "Got the result from ./1/train/filtrations/6/HeightFiltrartion_-1_1/green/features.npy\n",
      "Got the result from ./1/train/filtrations/6/HeightFiltrartion_-1_1/green/features.npy\n",
      "Got the result from ./1/train/filtrations/6/HeightFiltrartion_-1_1/blue/features.npy\n",
      "Got the result from ./1/train/filtrations/6/HeightFiltrartion_-1_1/blue/features.npy\n",
      "Fitting filtration 53/72: 6/HeightFiltrartion_0_-1\n",
      "RGB images received. Transforming to grayscale.\n"
     ]
    },
    {
     "name": "stderr",
     "output_type": "stream",
     "text": [
      "rgb2gray: 100%|██████████| 9030/9030 [00:01<00:00, 5760.73it/s]\n"
     ]
    },
    {
     "name": "stdout",
     "output_type": "stream",
     "text": [
      "Got the result from ./1/train/filtrations/6/HeightFiltrartion_0_-1/gray/features.npy\n",
      "Got the result from ./1/train/filtrations/6/HeightFiltrartion_0_-1/gray/features.npy\n",
      "Got the result from ./1/train/filtrations/6/HeightFiltrartion_0_-1/red/features.npy\n",
      "Got the result from ./1/train/filtrations/6/HeightFiltrartion_0_-1/red/features.npy\n",
      "Got the result from ./1/train/filtrations/6/HeightFiltrartion_0_-1/green/features.npy\n",
      "Got the result from ./1/train/filtrations/6/HeightFiltrartion_0_-1/green/features.npy\n",
      "Got the result from ./1/train/filtrations/6/HeightFiltrartion_0_-1/blue/features.npy\n",
      "Got the result from ./1/train/filtrations/6/HeightFiltrartion_0_-1/blue/features.npy\n",
      "Fitting filtration 54/72: 6/HeightFiltrartion_0_1\n",
      "RGB images received. Transforming to grayscale.\n"
     ]
    },
    {
     "name": "stderr",
     "output_type": "stream",
     "text": [
      "rgb2gray: 100%|██████████| 9030/9030 [00:01<00:00, 5861.70it/s]\n"
     ]
    },
    {
     "name": "stdout",
     "output_type": "stream",
     "text": [
      "Got the result from ./1/train/filtrations/6/HeightFiltrartion_0_1/gray/features.npy\n",
      "Got the result from ./1/train/filtrations/6/HeightFiltrartion_0_1/gray/features.npy\n",
      "Got the result from ./1/train/filtrations/6/HeightFiltrartion_0_1/red/features.npy\n",
      "Got the result from ./1/train/filtrations/6/HeightFiltrartion_0_1/red/features.npy\n",
      "Got the result from ./1/train/filtrations/6/HeightFiltrartion_0_1/green/features.npy\n",
      "Got the result from ./1/train/filtrations/6/HeightFiltrartion_0_1/green/features.npy\n",
      "Got the result from ./1/train/filtrations/6/HeightFiltrartion_0_1/blue/features.npy\n",
      "Got the result from ./1/train/filtrations/6/HeightFiltrartion_0_1/blue/features.npy\n",
      "Fitting filtration 55/72: 6/HeightFiltrartion_-1_0\n",
      "RGB images received. Transforming to grayscale.\n"
     ]
    },
    {
     "name": "stderr",
     "output_type": "stream",
     "text": [
      "rgb2gray: 100%|██████████| 9030/9030 [00:01<00:00, 5984.08it/s]\n"
     ]
    },
    {
     "name": "stdout",
     "output_type": "stream",
     "text": [
      "Got the result from ./1/train/filtrations/6/HeightFiltrartion_-1_0/gray/features.npy\n",
      "Got the result from ./1/train/filtrations/6/HeightFiltrartion_-1_0/gray/features.npy\n",
      "Got the result from ./1/train/filtrations/6/HeightFiltrartion_-1_0/red/features.npy\n",
      "Got the result from ./1/train/filtrations/6/HeightFiltrartion_-1_0/red/features.npy\n",
      "Got the result from ./1/train/filtrations/6/HeightFiltrartion_-1_0/green/features.npy\n",
      "Got the result from ./1/train/filtrations/6/HeightFiltrartion_-1_0/green/features.npy\n",
      "Got the result from ./1/train/filtrations/6/HeightFiltrartion_-1_0/blue/features.npy\n",
      "Got the result from ./1/train/filtrations/6/HeightFiltrartion_-1_0/blue/features.npy\n",
      "Fitting filtration 56/72: 6/HeightFiltrartion_1_0\n",
      "RGB images received. Transforming to grayscale.\n"
     ]
    },
    {
     "name": "stderr",
     "output_type": "stream",
     "text": [
      "rgb2gray: 100%|██████████| 9030/9030 [00:01<00:00, 5988.07it/s]\n"
     ]
    },
    {
     "name": "stdout",
     "output_type": "stream",
     "text": [
      "Got the result from ./1/train/filtrations/6/HeightFiltrartion_1_0/gray/features.npy\n",
      "Got the result from ./1/train/filtrations/6/HeightFiltrartion_1_0/gray/features.npy\n",
      "Got the result from ./1/train/filtrations/6/HeightFiltrartion_1_0/red/features.npy\n",
      "Got the result from ./1/train/filtrations/6/HeightFiltrartion_1_0/red/features.npy\n",
      "Got the result from ./1/train/filtrations/6/HeightFiltrartion_1_0/green/features.npy\n",
      "Got the result from ./1/train/filtrations/6/HeightFiltrartion_1_0/green/features.npy\n",
      "Got the result from ./1/train/filtrations/6/HeightFiltrartion_1_0/blue/features.npy\n",
      "Got the result from ./1/train/filtrations/6/HeightFiltrartion_1_0/blue/features.npy\n",
      "Fitting filtration 57/72: 6/RadialFiltration_12_12\n",
      "RGB images received. Transforming to grayscale.\n"
     ]
    },
    {
     "name": "stderr",
     "output_type": "stream",
     "text": [
      "rgb2gray: 100%|██████████| 9030/9030 [00:01<00:00, 5650.82it/s]\n"
     ]
    },
    {
     "name": "stdout",
     "output_type": "stream",
     "text": [
      "Got the result from ./1/train/filtrations/6/RadialFiltration_12_12/gray/features.npy\n",
      "Got the result from ./1/train/filtrations/6/RadialFiltration_12_12/gray/features.npy\n",
      "Got the result from ./1/train/filtrations/6/RadialFiltration_12_12/red/features.npy\n",
      "Got the result from ./1/train/filtrations/6/RadialFiltration_12_12/red/features.npy\n",
      "Got the result from ./1/train/filtrations/6/RadialFiltration_12_12/green/features.npy\n",
      "Got the result from ./1/train/filtrations/6/RadialFiltration_12_12/green/features.npy\n",
      "Got the result from ./1/train/filtrations/6/RadialFiltration_12_12/blue/features.npy\n",
      "Got the result from ./1/train/filtrations/6/RadialFiltration_12_12/blue/features.npy\n",
      "Fitting filtration 58/72: 6/RadialFiltration_12_25\n",
      "RGB images received. Transforming to grayscale.\n"
     ]
    },
    {
     "name": "stderr",
     "output_type": "stream",
     "text": [
      "rgb2gray: 100%|██████████| 9030/9030 [00:01<00:00, 5713.34it/s]\n"
     ]
    },
    {
     "name": "stdout",
     "output_type": "stream",
     "text": [
      "Got the result from ./1/train/filtrations/6/RadialFiltration_12_25/gray/features.npy\n",
      "Got the result from ./1/train/filtrations/6/RadialFiltration_12_25/gray/features.npy\n",
      "Got the result from ./1/train/filtrations/6/RadialFiltration_12_25/red/features.npy\n",
      "Got the result from ./1/train/filtrations/6/RadialFiltration_12_25/red/features.npy\n",
      "Got the result from ./1/train/filtrations/6/RadialFiltration_12_25/green/features.npy\n",
      "Got the result from ./1/train/filtrations/6/RadialFiltration_12_25/green/features.npy\n",
      "Got the result from ./1/train/filtrations/6/RadialFiltration_12_25/blue/features.npy\n",
      "Got the result from ./1/train/filtrations/6/RadialFiltration_12_25/blue/features.npy\n",
      "Fitting filtration 59/72: 6/RadialFiltration_12_38\n",
      "RGB images received. Transforming to grayscale.\n"
     ]
    },
    {
     "name": "stderr",
     "output_type": "stream",
     "text": [
      "rgb2gray: 100%|██████████| 9030/9030 [00:01<00:00, 5884.64it/s]\n"
     ]
    },
    {
     "name": "stdout",
     "output_type": "stream",
     "text": [
      "Got the result from ./1/train/filtrations/6/RadialFiltration_12_38/gray/features.npy\n",
      "Got the result from ./1/train/filtrations/6/RadialFiltration_12_38/gray/features.npy\n",
      "Got the result from ./1/train/filtrations/6/RadialFiltration_12_38/red/features.npy\n",
      "Got the result from ./1/train/filtrations/6/RadialFiltration_12_38/red/features.npy\n",
      "Got the result from ./1/train/filtrations/6/RadialFiltration_12_38/green/features.npy\n",
      "Got the result from ./1/train/filtrations/6/RadialFiltration_12_38/green/features.npy\n",
      "Got the result from ./1/train/filtrations/6/RadialFiltration_12_38/blue/features.npy\n",
      "Got the result from ./1/train/filtrations/6/RadialFiltration_12_38/blue/features.npy\n",
      "Fitting filtration 60/72: 6/RadialFiltration_12_51\n",
      "RGB images received. Transforming to grayscale.\n"
     ]
    },
    {
     "name": "stderr",
     "output_type": "stream",
     "text": [
      "rgb2gray: 100%|██████████| 9030/9030 [00:01<00:00, 6019.99it/s]\n"
     ]
    },
    {
     "name": "stdout",
     "output_type": "stream",
     "text": [
      "Got the result from ./1/train/filtrations/6/RadialFiltration_12_51/gray/features.npy\n",
      "Got the result from ./1/train/filtrations/6/RadialFiltration_12_51/gray/features.npy\n",
      "Got the result from ./1/train/filtrations/6/RadialFiltration_12_51/red/features.npy\n",
      "Got the result from ./1/train/filtrations/6/RadialFiltration_12_51/red/features.npy\n",
      "Got the result from ./1/train/filtrations/6/RadialFiltration_12_51/green/features.npy\n",
      "Got the result from ./1/train/filtrations/6/RadialFiltration_12_51/green/features.npy\n",
      "Got the result from ./1/train/filtrations/6/RadialFiltration_12_51/blue/features.npy\n",
      "Got the result from ./1/train/filtrations/6/RadialFiltration_12_51/blue/features.npy\n",
      "Fitting filtration 61/72: 6/RadialFiltration_25_12\n",
      "RGB images received. Transforming to grayscale.\n"
     ]
    },
    {
     "name": "stderr",
     "output_type": "stream",
     "text": [
      "rgb2gray: 100%|██████████| 9030/9030 [00:01<00:00, 5972.45it/s]\n"
     ]
    },
    {
     "name": "stdout",
     "output_type": "stream",
     "text": [
      "Got the result from ./1/train/filtrations/6/RadialFiltration_25_12/gray/features.npy\n",
      "Got the result from ./1/train/filtrations/6/RadialFiltration_25_12/gray/features.npy\n",
      "Got the result from ./1/train/filtrations/6/RadialFiltration_25_12/red/features.npy\n",
      "Got the result from ./1/train/filtrations/6/RadialFiltration_25_12/red/features.npy\n",
      "Got the result from ./1/train/filtrations/6/RadialFiltration_25_12/green/features.npy\n",
      "Got the result from ./1/train/filtrations/6/RadialFiltration_25_12/green/features.npy\n",
      "Got the result from ./1/train/filtrations/6/RadialFiltration_25_12/blue/features.npy\n",
      "Got the result from ./1/train/filtrations/6/RadialFiltration_25_12/blue/features.npy\n",
      "Fitting filtration 62/72: 6/RadialFiltration_25_25\n",
      "RGB images received. Transforming to grayscale.\n"
     ]
    },
    {
     "name": "stderr",
     "output_type": "stream",
     "text": [
      "rgb2gray: 100%|██████████| 9030/9030 [00:01<00:00, 5844.66it/s]\n"
     ]
    },
    {
     "name": "stdout",
     "output_type": "stream",
     "text": [
      "Got the result from ./1/train/filtrations/6/RadialFiltration_25_25/gray/features.npy\n",
      "Got the result from ./1/train/filtrations/6/RadialFiltration_25_25/gray/features.npy\n",
      "Got the result from ./1/train/filtrations/6/RadialFiltration_25_25/red/features.npy\n",
      "Got the result from ./1/train/filtrations/6/RadialFiltration_25_25/red/features.npy\n",
      "Got the result from ./1/train/filtrations/6/RadialFiltration_25_25/green/features.npy\n",
      "Got the result from ./1/train/filtrations/6/RadialFiltration_25_25/green/features.npy\n",
      "Got the result from ./1/train/filtrations/6/RadialFiltration_25_25/blue/features.npy\n",
      "Got the result from ./1/train/filtrations/6/RadialFiltration_25_25/blue/features.npy\n",
      "Fitting filtration 63/72: 6/RadialFiltration_25_38\n",
      "RGB images received. Transforming to grayscale.\n"
     ]
    },
    {
     "name": "stderr",
     "output_type": "stream",
     "text": [
      "rgb2gray: 100%|██████████| 9030/9030 [00:01<00:00, 5746.07it/s]\n"
     ]
    },
    {
     "name": "stdout",
     "output_type": "stream",
     "text": [
      "Got the result from ./1/train/filtrations/6/RadialFiltration_25_38/gray/features.npy\n",
      "Got the result from ./1/train/filtrations/6/RadialFiltration_25_38/gray/features.npy\n",
      "Got the result from ./1/train/filtrations/6/RadialFiltration_25_38/red/features.npy\n",
      "Got the result from ./1/train/filtrations/6/RadialFiltration_25_38/red/features.npy\n",
      "Got the result from ./1/train/filtrations/6/RadialFiltration_25_38/green/features.npy\n",
      "Got the result from ./1/train/filtrations/6/RadialFiltration_25_38/green/features.npy\n",
      "Got the result from ./1/train/filtrations/6/RadialFiltration_25_38/blue/features.npy\n",
      "Got the result from ./1/train/filtrations/6/RadialFiltration_25_38/blue/features.npy\n",
      "Fitting filtration 64/72: 6/RadialFiltration_25_51\n",
      "RGB images received. Transforming to grayscale.\n"
     ]
    },
    {
     "name": "stderr",
     "output_type": "stream",
     "text": [
      "rgb2gray: 100%|██████████| 9030/9030 [00:01<00:00, 4571.74it/s]\n"
     ]
    },
    {
     "name": "stdout",
     "output_type": "stream",
     "text": [
      "Got the result from ./1/train/filtrations/6/RadialFiltration_25_51/gray/features.npy\n",
      "Got the result from ./1/train/filtrations/6/RadialFiltration_25_51/gray/features.npy\n",
      "Got the result from ./1/train/filtrations/6/RadialFiltration_25_51/red/features.npy\n",
      "Got the result from ./1/train/filtrations/6/RadialFiltration_25_51/red/features.npy\n",
      "Got the result from ./1/train/filtrations/6/RadialFiltration_25_51/green/features.npy\n",
      "Got the result from ./1/train/filtrations/6/RadialFiltration_25_51/green/features.npy\n",
      "Got the result from ./1/train/filtrations/6/RadialFiltration_25_51/blue/features.npy\n",
      "Got the result from ./1/train/filtrations/6/RadialFiltration_25_51/blue/features.npy\n",
      "Fitting filtration 65/72: 6/RadialFiltration_38_12\n",
      "RGB images received. Transforming to grayscale.\n"
     ]
    },
    {
     "name": "stderr",
     "output_type": "stream",
     "text": [
      "rgb2gray: 100%|██████████| 9030/9030 [00:01<00:00, 5898.11it/s]\n"
     ]
    },
    {
     "name": "stdout",
     "output_type": "stream",
     "text": [
      "Got the result from ./1/train/filtrations/6/RadialFiltration_38_12/gray/features.npy\n",
      "Got the result from ./1/train/filtrations/6/RadialFiltration_38_12/gray/features.npy\n",
      "Got the result from ./1/train/filtrations/6/RadialFiltration_38_12/red/features.npy\n",
      "Got the result from ./1/train/filtrations/6/RadialFiltration_38_12/red/features.npy\n",
      "Got the result from ./1/train/filtrations/6/RadialFiltration_38_12/green/features.npy\n",
      "Got the result from ./1/train/filtrations/6/RadialFiltration_38_12/green/features.npy\n",
      "Got the result from ./1/train/filtrations/6/RadialFiltration_38_12/blue/features.npy\n",
      "Got the result from ./1/train/filtrations/6/RadialFiltration_38_12/blue/features.npy\n",
      "Fitting filtration 66/72: 6/RadialFiltration_38_25\n",
      "RGB images received. Transforming to grayscale.\n"
     ]
    },
    {
     "name": "stderr",
     "output_type": "stream",
     "text": [
      "rgb2gray: 100%|██████████| 9030/9030 [00:01<00:00, 5901.96it/s]\n"
     ]
    },
    {
     "name": "stdout",
     "output_type": "stream",
     "text": [
      "Got the result from ./1/train/filtrations/6/RadialFiltration_38_25/gray/features.npy\n",
      "Got the result from ./1/train/filtrations/6/RadialFiltration_38_25/gray/features.npy\n",
      "Got the result from ./1/train/filtrations/6/RadialFiltration_38_25/red/features.npy\n",
      "Got the result from ./1/train/filtrations/6/RadialFiltration_38_25/red/features.npy\n",
      "Got the result from ./1/train/filtrations/6/RadialFiltration_38_25/green/features.npy\n",
      "Got the result from ./1/train/filtrations/6/RadialFiltration_38_25/green/features.npy\n",
      "Got the result from ./1/train/filtrations/6/RadialFiltration_38_25/blue/features.npy\n",
      "Got the result from ./1/train/filtrations/6/RadialFiltration_38_25/blue/features.npy\n",
      "Fitting filtration 67/72: 6/RadialFiltration_38_38\n",
      "RGB images received. Transforming to grayscale.\n"
     ]
    },
    {
     "name": "stderr",
     "output_type": "stream",
     "text": [
      "rgb2gray: 100%|██████████| 9030/9030 [00:01<00:00, 5750.45it/s]\n"
     ]
    },
    {
     "name": "stdout",
     "output_type": "stream",
     "text": [
      "Got the result from ./1/train/filtrations/6/RadialFiltration_38_38/gray/features.npy\n",
      "Got the result from ./1/train/filtrations/6/RadialFiltration_38_38/gray/features.npy\n",
      "Got the result from ./1/train/filtrations/6/RadialFiltration_38_38/red/features.npy\n",
      "Got the result from ./1/train/filtrations/6/RadialFiltration_38_38/red/features.npy\n",
      "Got the result from ./1/train/filtrations/6/RadialFiltration_38_38/green/features.npy\n",
      "Got the result from ./1/train/filtrations/6/RadialFiltration_38_38/green/features.npy\n",
      "Got the result from ./1/train/filtrations/6/RadialFiltration_38_38/blue/features.npy\n",
      "Got the result from ./1/train/filtrations/6/RadialFiltration_38_38/blue/features.npy\n",
      "Fitting filtration 68/72: 6/RadialFiltration_38_51\n",
      "RGB images received. Transforming to grayscale.\n"
     ]
    },
    {
     "name": "stderr",
     "output_type": "stream",
     "text": [
      "rgb2gray: 100%|██████████| 9030/9030 [00:01<00:00, 5927.12it/s] \n"
     ]
    },
    {
     "name": "stdout",
     "output_type": "stream",
     "text": [
      "Got the result from ./1/train/filtrations/6/RadialFiltration_38_51/gray/features.npy\n",
      "Got the result from ./1/train/filtrations/6/RadialFiltration_38_51/gray/features.npy\n",
      "Got the result from ./1/train/filtrations/6/RadialFiltration_38_51/red/features.npy\n",
      "Got the result from ./1/train/filtrations/6/RadialFiltration_38_51/red/features.npy\n",
      "Got the result from ./1/train/filtrations/6/RadialFiltration_38_51/green/features.npy\n",
      "Got the result from ./1/train/filtrations/6/RadialFiltration_38_51/green/features.npy\n",
      "Got the result from ./1/train/filtrations/6/RadialFiltration_38_51/blue/features.npy\n",
      "Got the result from ./1/train/filtrations/6/RadialFiltration_38_51/blue/features.npy\n",
      "Fitting filtration 69/72: 6/RadialFiltration_51_12\n",
      "RGB images received. Transforming to grayscale.\n"
     ]
    },
    {
     "name": "stderr",
     "output_type": "stream",
     "text": [
      "rgb2gray: 100%|██████████| 9030/9030 [00:01<00:00, 5890.35it/s]\n"
     ]
    },
    {
     "name": "stdout",
     "output_type": "stream",
     "text": [
      "Got the result from ./1/train/filtrations/6/RadialFiltration_51_12/gray/features.npy\n",
      "Got the result from ./1/train/filtrations/6/RadialFiltration_51_12/gray/features.npy\n",
      "Got the result from ./1/train/filtrations/6/RadialFiltration_51_12/red/features.npy\n",
      "Got the result from ./1/train/filtrations/6/RadialFiltration_51_12/red/features.npy\n",
      "Got the result from ./1/train/filtrations/6/RadialFiltration_51_12/green/features.npy\n",
      "Got the result from ./1/train/filtrations/6/RadialFiltration_51_12/green/features.npy\n",
      "Got the result from ./1/train/filtrations/6/RadialFiltration_51_12/blue/features.npy\n",
      "Got the result from ./1/train/filtrations/6/RadialFiltration_51_12/blue/features.npy\n",
      "Fitting filtration 70/72: 6/RadialFiltration_51_25\n",
      "RGB images received. Transforming to grayscale.\n"
     ]
    },
    {
     "name": "stderr",
     "output_type": "stream",
     "text": [
      "rgb2gray: 100%|██████████| 9030/9030 [00:01<00:00, 5826.81it/s]\n"
     ]
    },
    {
     "name": "stdout",
     "output_type": "stream",
     "text": [
      "Got the result from ./1/train/filtrations/6/RadialFiltration_51_25/gray/features.npy\n",
      "Got the result from ./1/train/filtrations/6/RadialFiltration_51_25/gray/features.npy\n",
      "Got the result from ./1/train/filtrations/6/RadialFiltration_51_25/red/features.npy\n",
      "Got the result from ./1/train/filtrations/6/RadialFiltration_51_25/red/features.npy\n",
      "Got the result from ./1/train/filtrations/6/RadialFiltration_51_25/green/features.npy\n",
      "Got the result from ./1/train/filtrations/6/RadialFiltration_51_25/green/features.npy\n",
      "Got the result from ./1/train/filtrations/6/RadialFiltration_51_25/blue/features.npy\n",
      "Got the result from ./1/train/filtrations/6/RadialFiltration_51_25/blue/features.npy\n",
      "Fitting filtration 71/72: 6/RadialFiltration_51_38\n",
      "RGB images received. Transforming to grayscale.\n"
     ]
    },
    {
     "name": "stderr",
     "output_type": "stream",
     "text": [
      "rgb2gray: 100%|██████████| 9030/9030 [00:01<00:00, 5829.57it/s]\n"
     ]
    },
    {
     "name": "stdout",
     "output_type": "stream",
     "text": [
      "Got the result from ./1/train/filtrations/6/RadialFiltration_51_38/gray/features.npy\n",
      "Got the result from ./1/train/filtrations/6/RadialFiltration_51_38/gray/features.npy\n",
      "Got the result from ./1/train/filtrations/6/RadialFiltration_51_38/red/features.npy\n",
      "Got the result from ./1/train/filtrations/6/RadialFiltration_51_38/red/features.npy\n",
      "Got the result from ./1/train/filtrations/6/RadialFiltration_51_38/green/features.npy\n",
      "Got the result from ./1/train/filtrations/6/RadialFiltration_51_38/green/features.npy\n",
      "Got the result from ./1/train/filtrations/6/RadialFiltration_51_38/blue/features.npy\n",
      "Got the result from ./1/train/filtrations/6/RadialFiltration_51_38/blue/features.npy\n",
      "Fitting filtration 72/72: 6/RadialFiltration_51_51\n",
      "RGB images received. Transforming to grayscale.\n"
     ]
    },
    {
     "name": "stderr",
     "output_type": "stream",
     "text": [
      "rgb2gray: 100%|██████████| 9030/9030 [00:01<00:00, 5848.59it/s]\n"
     ]
    },
    {
     "name": "stdout",
     "output_type": "stream",
     "text": [
      "Got the result from ./1/train/filtrations/6/RadialFiltration_51_51/gray/features.npy\n",
      "Got the result from ./1/train/filtrations/6/RadialFiltration_51_51/gray/features.npy\n",
      "Got the result from ./1/train/filtrations/6/RadialFiltration_51_51/red/features.npy\n",
      "Got the result from ./1/train/filtrations/6/RadialFiltration_51_51/red/features.npy\n",
      "Got the result from ./1/train/filtrations/6/RadialFiltration_51_51/green/features.npy\n",
      "Got the result from ./1/train/filtrations/6/RadialFiltration_51_51/green/features.npy\n",
      "Got the result from ./1/train/filtrations/6/RadialFiltration_51_51/blue/features.npy\n",
      "Got the result from ./1/train/filtrations/6/RadialFiltration_51_51/blue/features.npy\n",
      "Applying filtrations\n",
      "Applying filtration 1/72: 2/HeightFiltrartion_-1_-1\n",
      "RGB images received. Transforming to grayscale.\n"
     ]
    },
    {
     "name": "stderr",
     "output_type": "stream",
     "text": [
      "rgb2gray: 100%|██████████| 9030/9030 [00:01<00:00, 5903.84it/s]\n"
     ]
    },
    {
     "name": "stdout",
     "output_type": "stream",
     "text": [
      "Got the result from ./1/train/filtrations/2/HeightFiltrartion_-1_-1/gray/features.npy\n",
      "Got the result from ./1/train/filtrations/2/HeightFiltrartion_-1_-1/red/features.npy\n",
      "Got the result from ./1/train/filtrations/2/HeightFiltrartion_-1_-1/green/features.npy\n",
      "Got the result from ./1/train/filtrations/2/HeightFiltrartion_-1_-1/blue/features.npy\n",
      "Applying filtration 2/72: 2/HeightFiltrartion_1_1\n",
      "RGB images received. Transforming to grayscale.\n"
     ]
    },
    {
     "name": "stderr",
     "output_type": "stream",
     "text": [
      "rgb2gray: 100%|██████████| 9030/9030 [00:01<00:00, 5911.58it/s]\n"
     ]
    },
    {
     "name": "stdout",
     "output_type": "stream",
     "text": [
      "Got the result from ./1/train/filtrations/2/HeightFiltrartion_1_1/gray/features.npy\n",
      "Got the result from ./1/train/filtrations/2/HeightFiltrartion_1_1/red/features.npy\n",
      "Got the result from ./1/train/filtrations/2/HeightFiltrartion_1_1/green/features.npy\n",
      "Got the result from ./1/train/filtrations/2/HeightFiltrartion_1_1/blue/features.npy\n",
      "Applying filtration 3/72: 2/HeightFiltrartion_1_-1\n",
      "RGB images received. Transforming to grayscale.\n"
     ]
    },
    {
     "name": "stderr",
     "output_type": "stream",
     "text": [
      "rgb2gray: 100%|██████████| 9030/9030 [00:01<00:00, 5571.95it/s]\n"
     ]
    },
    {
     "name": "stdout",
     "output_type": "stream",
     "text": [
      "Got the result from ./1/train/filtrations/2/HeightFiltrartion_1_-1/gray/features.npy\n",
      "Got the result from ./1/train/filtrations/2/HeightFiltrartion_1_-1/red/features.npy\n",
      "Got the result from ./1/train/filtrations/2/HeightFiltrartion_1_-1/green/features.npy\n",
      "Got the result from ./1/train/filtrations/2/HeightFiltrartion_1_-1/blue/features.npy\n",
      "Applying filtration 4/72: 2/HeightFiltrartion_-1_1\n",
      "RGB images received. Transforming to grayscale.\n"
     ]
    },
    {
     "name": "stderr",
     "output_type": "stream",
     "text": [
      "rgb2gray: 100%|██████████| 9030/9030 [00:01<00:00, 6088.98it/s]\n"
     ]
    },
    {
     "name": "stdout",
     "output_type": "stream",
     "text": [
      "Got the result from ./1/train/filtrations/2/HeightFiltrartion_-1_1/gray/features.npy\n",
      "Got the result from ./1/train/filtrations/2/HeightFiltrartion_-1_1/red/features.npy\n",
      "Got the result from ./1/train/filtrations/2/HeightFiltrartion_-1_1/green/features.npy\n",
      "Got the result from ./1/train/filtrations/2/HeightFiltrartion_-1_1/blue/features.npy\n",
      "Applying filtration 5/72: 2/HeightFiltrartion_0_-1\n",
      "RGB images received. Transforming to grayscale.\n"
     ]
    },
    {
     "name": "stderr",
     "output_type": "stream",
     "text": [
      "rgb2gray: 100%|██████████| 9030/9030 [00:01<00:00, 5933.09it/s]\n"
     ]
    },
    {
     "name": "stdout",
     "output_type": "stream",
     "text": [
      "Got the result from ./1/train/filtrations/2/HeightFiltrartion_0_-1/gray/features.npy\n",
      "Got the result from ./1/train/filtrations/2/HeightFiltrartion_0_-1/red/features.npy\n",
      "Got the result from ./1/train/filtrations/2/HeightFiltrartion_0_-1/green/features.npy\n",
      "Got the result from ./1/train/filtrations/2/HeightFiltrartion_0_-1/blue/features.npy\n",
      "Applying filtration 6/72: 2/HeightFiltrartion_0_1\n",
      "RGB images received. Transforming to grayscale.\n"
     ]
    },
    {
     "name": "stderr",
     "output_type": "stream",
     "text": [
      "rgb2gray: 100%|██████████| 9030/9030 [00:01<00:00, 5932.37it/s]\n"
     ]
    },
    {
     "name": "stdout",
     "output_type": "stream",
     "text": [
      "Got the result from ./1/train/filtrations/2/HeightFiltrartion_0_1/gray/features.npy\n",
      "Got the result from ./1/train/filtrations/2/HeightFiltrartion_0_1/red/features.npy\n",
      "Got the result from ./1/train/filtrations/2/HeightFiltrartion_0_1/green/features.npy\n",
      "Got the result from ./1/train/filtrations/2/HeightFiltrartion_0_1/blue/features.npy\n",
      "Applying filtration 7/72: 2/HeightFiltrartion_-1_0\n",
      "RGB images received. Transforming to grayscale.\n"
     ]
    },
    {
     "name": "stderr",
     "output_type": "stream",
     "text": [
      "rgb2gray: 100%|██████████| 9030/9030 [00:01<00:00, 5997.96it/s]\n"
     ]
    },
    {
     "name": "stdout",
     "output_type": "stream",
     "text": [
      "Got the result from ./1/train/filtrations/2/HeightFiltrartion_-1_0/gray/features.npy\n",
      "Got the result from ./1/train/filtrations/2/HeightFiltrartion_-1_0/red/features.npy\n",
      "Got the result from ./1/train/filtrations/2/HeightFiltrartion_-1_0/green/features.npy\n",
      "Got the result from ./1/train/filtrations/2/HeightFiltrartion_-1_0/blue/features.npy\n",
      "Applying filtration 8/72: 2/HeightFiltrartion_1_0\n",
      "RGB images received. Transforming to grayscale.\n"
     ]
    },
    {
     "name": "stderr",
     "output_type": "stream",
     "text": [
      "rgb2gray: 100%|██████████| 9030/9030 [00:01<00:00, 5444.66it/s]\n"
     ]
    },
    {
     "name": "stdout",
     "output_type": "stream",
     "text": [
      "Got the result from ./1/train/filtrations/2/HeightFiltrartion_1_0/gray/features.npy\n",
      "Got the result from ./1/train/filtrations/2/HeightFiltrartion_1_0/red/features.npy\n",
      "Got the result from ./1/train/filtrations/2/HeightFiltrartion_1_0/green/features.npy\n",
      "Got the result from ./1/train/filtrations/2/HeightFiltrartion_1_0/blue/features.npy\n",
      "Applying filtration 9/72: 2/RadialFiltration_12_12\n",
      "RGB images received. Transforming to grayscale.\n"
     ]
    },
    {
     "name": "stderr",
     "output_type": "stream",
     "text": [
      "rgb2gray: 100%|██████████| 9030/9030 [00:01<00:00, 4741.35it/s]\n"
     ]
    },
    {
     "name": "stdout",
     "output_type": "stream",
     "text": [
      "Got the result from ./1/train/filtrations/2/RadialFiltration_12_12/gray/features.npy\n",
      "Got the result from ./1/train/filtrations/2/RadialFiltration_12_12/red/features.npy\n",
      "Got the result from ./1/train/filtrations/2/RadialFiltration_12_12/green/features.npy\n",
      "Got the result from ./1/train/filtrations/2/RadialFiltration_12_12/blue/features.npy\n",
      "Applying filtration 10/72: 2/RadialFiltration_12_25\n",
      "RGB images received. Transforming to grayscale.\n"
     ]
    },
    {
     "name": "stderr",
     "output_type": "stream",
     "text": [
      "rgb2gray: 100%|██████████| 9030/9030 [00:01<00:00, 5443.04it/s]\n"
     ]
    },
    {
     "name": "stdout",
     "output_type": "stream",
     "text": [
      "Got the result from ./1/train/filtrations/2/RadialFiltration_12_25/gray/features.npy\n",
      "Got the result from ./1/train/filtrations/2/RadialFiltration_12_25/red/features.npy\n",
      "Got the result from ./1/train/filtrations/2/RadialFiltration_12_25/green/features.npy\n",
      "Got the result from ./1/train/filtrations/2/RadialFiltration_12_25/blue/features.npy\n",
      "Applying filtration 11/72: 2/RadialFiltration_12_38\n",
      "RGB images received. Transforming to grayscale.\n"
     ]
    },
    {
     "name": "stderr",
     "output_type": "stream",
     "text": [
      "rgb2gray: 100%|██████████| 9030/9030 [00:01<00:00, 5507.71it/s]\n"
     ]
    },
    {
     "name": "stdout",
     "output_type": "stream",
     "text": [
      "Got the result from ./1/train/filtrations/2/RadialFiltration_12_38/gray/features.npy\n",
      "Got the result from ./1/train/filtrations/2/RadialFiltration_12_38/red/features.npy\n",
      "Got the result from ./1/train/filtrations/2/RadialFiltration_12_38/green/features.npy\n",
      "Got the result from ./1/train/filtrations/2/RadialFiltration_12_38/blue/features.npy\n",
      "Applying filtration 12/72: 2/RadialFiltration_12_51\n",
      "RGB images received. Transforming to grayscale.\n"
     ]
    },
    {
     "name": "stderr",
     "output_type": "stream",
     "text": [
      "rgb2gray: 100%|██████████| 9030/9030 [00:01<00:00, 5691.73it/s]\n"
     ]
    },
    {
     "name": "stdout",
     "output_type": "stream",
     "text": [
      "Got the result from ./1/train/filtrations/2/RadialFiltration_12_51/gray/features.npy\n",
      "Got the result from ./1/train/filtrations/2/RadialFiltration_12_51/red/features.npy\n",
      "Got the result from ./1/train/filtrations/2/RadialFiltration_12_51/green/features.npy\n",
      "Got the result from ./1/train/filtrations/2/RadialFiltration_12_51/blue/features.npy\n",
      "Applying filtration 13/72: 2/RadialFiltration_25_12\n",
      "RGB images received. Transforming to grayscale.\n"
     ]
    },
    {
     "name": "stderr",
     "output_type": "stream",
     "text": [
      "rgb2gray: 100%|██████████| 9030/9030 [00:01<00:00, 5316.35it/s]\n"
     ]
    },
    {
     "name": "stdout",
     "output_type": "stream",
     "text": [
      "Got the result from ./1/train/filtrations/2/RadialFiltration_25_12/gray/features.npy\n",
      "Got the result from ./1/train/filtrations/2/RadialFiltration_25_12/red/features.npy\n",
      "Got the result from ./1/train/filtrations/2/RadialFiltration_25_12/green/features.npy\n",
      "Got the result from ./1/train/filtrations/2/RadialFiltration_25_12/blue/features.npy\n",
      "Applying filtration 14/72: 2/RadialFiltration_25_25\n",
      "RGB images received. Transforming to grayscale.\n"
     ]
    },
    {
     "name": "stderr",
     "output_type": "stream",
     "text": [
      "rgb2gray: 100%|██████████| 9030/9030 [00:01<00:00, 5579.23it/s]\n"
     ]
    },
    {
     "name": "stdout",
     "output_type": "stream",
     "text": [
      "Got the result from ./1/train/filtrations/2/RadialFiltration_25_25/gray/features.npy\n",
      "Got the result from ./1/train/filtrations/2/RadialFiltration_25_25/red/features.npy\n",
      "Got the result from ./1/train/filtrations/2/RadialFiltration_25_25/green/features.npy\n",
      "Got the result from ./1/train/filtrations/2/RadialFiltration_25_25/blue/features.npy\n",
      "Applying filtration 15/72: 2/RadialFiltration_25_38\n",
      "RGB images received. Transforming to grayscale.\n"
     ]
    },
    {
     "name": "stderr",
     "output_type": "stream",
     "text": [
      "rgb2gray: 100%|██████████| 9030/9030 [00:01<00:00, 5164.40it/s]\n"
     ]
    },
    {
     "name": "stdout",
     "output_type": "stream",
     "text": [
      "Got the result from ./1/train/filtrations/2/RadialFiltration_25_38/gray/features.npy\n",
      "Got the result from ./1/train/filtrations/2/RadialFiltration_25_38/red/features.npy\n",
      "Got the result from ./1/train/filtrations/2/RadialFiltration_25_38/green/features.npy\n",
      "Got the result from ./1/train/filtrations/2/RadialFiltration_25_38/blue/features.npy\n",
      "Applying filtration 16/72: 2/RadialFiltration_25_51\n",
      "RGB images received. Transforming to grayscale.\n"
     ]
    },
    {
     "name": "stderr",
     "output_type": "stream",
     "text": [
      "rgb2gray: 100%|██████████| 9030/9030 [00:01<00:00, 5382.97it/s] \n"
     ]
    },
    {
     "name": "stdout",
     "output_type": "stream",
     "text": [
      "Got the result from ./1/train/filtrations/2/RadialFiltration_25_51/gray/features.npy\n",
      "Got the result from ./1/train/filtrations/2/RadialFiltration_25_51/red/features.npy\n",
      "Got the result from ./1/train/filtrations/2/RadialFiltration_25_51/green/features.npy\n",
      "Got the result from ./1/train/filtrations/2/RadialFiltration_25_51/blue/features.npy\n",
      "Applying filtration 17/72: 2/RadialFiltration_38_12\n",
      "RGB images received. Transforming to grayscale.\n"
     ]
    },
    {
     "name": "stderr",
     "output_type": "stream",
     "text": [
      "rgb2gray: 100%|██████████| 9030/9030 [00:01<00:00, 5366.99it/s]\n"
     ]
    },
    {
     "name": "stdout",
     "output_type": "stream",
     "text": [
      "Got the result from ./1/train/filtrations/2/RadialFiltration_38_12/gray/features.npy\n",
      "Got the result from ./1/train/filtrations/2/RadialFiltration_38_12/red/features.npy\n",
      "Got the result from ./1/train/filtrations/2/RadialFiltration_38_12/green/features.npy\n",
      "Got the result from ./1/train/filtrations/2/RadialFiltration_38_12/blue/features.npy\n",
      "Applying filtration 18/72: 2/RadialFiltration_38_25\n",
      "RGB images received. Transforming to grayscale.\n"
     ]
    },
    {
     "name": "stderr",
     "output_type": "stream",
     "text": [
      "rgb2gray: 100%|██████████| 9030/9030 [00:01<00:00, 5373.36it/s]\n"
     ]
    },
    {
     "name": "stdout",
     "output_type": "stream",
     "text": [
      "Got the result from ./1/train/filtrations/2/RadialFiltration_38_25/gray/features.npy\n",
      "Got the result from ./1/train/filtrations/2/RadialFiltration_38_25/red/features.npy\n",
      "Got the result from ./1/train/filtrations/2/RadialFiltration_38_25/green/features.npy\n",
      "Got the result from ./1/train/filtrations/2/RadialFiltration_38_25/blue/features.npy\n",
      "Applying filtration 19/72: 2/RadialFiltration_38_38\n",
      "RGB images received. Transforming to grayscale.\n"
     ]
    },
    {
     "name": "stderr",
     "output_type": "stream",
     "text": [
      "rgb2gray: 100%|██████████| 9030/9030 [00:01<00:00, 5546.82it/s]\n"
     ]
    },
    {
     "name": "stdout",
     "output_type": "stream",
     "text": [
      "Got the result from ./1/train/filtrations/2/RadialFiltration_38_38/gray/features.npy\n",
      "Got the result from ./1/train/filtrations/2/RadialFiltration_38_38/red/features.npy\n",
      "Got the result from ./1/train/filtrations/2/RadialFiltration_38_38/green/features.npy\n",
      "Got the result from ./1/train/filtrations/2/RadialFiltration_38_38/blue/features.npy\n",
      "Applying filtration 20/72: 2/RadialFiltration_38_51\n",
      "RGB images received. Transforming to grayscale.\n"
     ]
    },
    {
     "name": "stderr",
     "output_type": "stream",
     "text": [
      "rgb2gray: 100%|██████████| 9030/9030 [00:01<00:00, 5589.73it/s]\n"
     ]
    },
    {
     "name": "stdout",
     "output_type": "stream",
     "text": [
      "Got the result from ./1/train/filtrations/2/RadialFiltration_38_51/gray/features.npy\n",
      "Got the result from ./1/train/filtrations/2/RadialFiltration_38_51/red/features.npy\n",
      "Got the result from ./1/train/filtrations/2/RadialFiltration_38_51/green/features.npy\n",
      "Got the result from ./1/train/filtrations/2/RadialFiltration_38_51/blue/features.npy\n",
      "Applying filtration 21/72: 2/RadialFiltration_51_12\n",
      "RGB images received. Transforming to grayscale.\n"
     ]
    },
    {
     "name": "stderr",
     "output_type": "stream",
     "text": [
      "rgb2gray: 100%|██████████| 9030/9030 [00:01<00:00, 5434.82it/s]\n"
     ]
    },
    {
     "name": "stdout",
     "output_type": "stream",
     "text": [
      "Got the result from ./1/train/filtrations/2/RadialFiltration_51_12/gray/features.npy\n",
      "Got the result from ./1/train/filtrations/2/RadialFiltration_51_12/red/features.npy\n",
      "Got the result from ./1/train/filtrations/2/RadialFiltration_51_12/green/features.npy\n",
      "Got the result from ./1/train/filtrations/2/RadialFiltration_51_12/blue/features.npy\n",
      "Applying filtration 22/72: 2/RadialFiltration_51_25\n",
      "RGB images received. Transforming to grayscale.\n"
     ]
    },
    {
     "name": "stderr",
     "output_type": "stream",
     "text": [
      "rgb2gray: 100%|██████████| 9030/9030 [00:01<00:00, 5563.70it/s]\n"
     ]
    },
    {
     "name": "stdout",
     "output_type": "stream",
     "text": [
      "Got the result from ./1/train/filtrations/2/RadialFiltration_51_25/gray/features.npy\n",
      "Got the result from ./1/train/filtrations/2/RadialFiltration_51_25/red/features.npy\n",
      "Got the result from ./1/train/filtrations/2/RadialFiltration_51_25/green/features.npy\n",
      "Got the result from ./1/train/filtrations/2/RadialFiltration_51_25/blue/features.npy\n",
      "Applying filtration 23/72: 2/RadialFiltration_51_38\n",
      "RGB images received. Transforming to grayscale.\n"
     ]
    },
    {
     "name": "stderr",
     "output_type": "stream",
     "text": [
      "rgb2gray: 100%|██████████| 9030/9030 [00:01<00:00, 5363.79it/s]\n"
     ]
    },
    {
     "name": "stdout",
     "output_type": "stream",
     "text": [
      "Got the result from ./1/train/filtrations/2/RadialFiltration_51_38/gray/features.npy\n",
      "Got the result from ./1/train/filtrations/2/RadialFiltration_51_38/red/features.npy\n",
      "Got the result from ./1/train/filtrations/2/RadialFiltration_51_38/green/features.npy\n",
      "Got the result from ./1/train/filtrations/2/RadialFiltration_51_38/blue/features.npy\n",
      "Applying filtration 24/72: 2/RadialFiltration_51_51\n",
      "RGB images received. Transforming to grayscale.\n"
     ]
    },
    {
     "name": "stderr",
     "output_type": "stream",
     "text": [
      "rgb2gray: 100%|██████████| 9030/9030 [00:01<00:00, 5575.73it/s]\n"
     ]
    },
    {
     "name": "stdout",
     "output_type": "stream",
     "text": [
      "Got the result from ./1/train/filtrations/2/RadialFiltration_51_51/gray/features.npy\n",
      "Got the result from ./1/train/filtrations/2/RadialFiltration_51_51/red/features.npy\n",
      "Got the result from ./1/train/filtrations/2/RadialFiltration_51_51/green/features.npy\n",
      "Got the result from ./1/train/filtrations/2/RadialFiltration_51_51/blue/features.npy\n",
      "Applying filtration 25/72: 4/HeightFiltrartion_-1_-1\n",
      "RGB images received. Transforming to grayscale.\n"
     ]
    },
    {
     "name": "stderr",
     "output_type": "stream",
     "text": [
      "rgb2gray: 100%|██████████| 9030/9030 [00:01<00:00, 5599.95it/s]\n"
     ]
    },
    {
     "name": "stdout",
     "output_type": "stream",
     "text": [
      "Got the result from ./1/train/filtrations/4/HeightFiltrartion_-1_-1/gray/features.npy\n",
      "Got the result from ./1/train/filtrations/4/HeightFiltrartion_-1_-1/red/features.npy\n",
      "Got the result from ./1/train/filtrations/4/HeightFiltrartion_-1_-1/green/features.npy\n",
      "Got the result from ./1/train/filtrations/4/HeightFiltrartion_-1_-1/blue/features.npy\n",
      "Applying filtration 26/72: 4/HeightFiltrartion_1_1\n",
      "RGB images received. Transforming to grayscale.\n"
     ]
    },
    {
     "name": "stderr",
     "output_type": "stream",
     "text": [
      "rgb2gray: 100%|██████████| 9030/9030 [00:01<00:00, 4786.60it/s]\n"
     ]
    },
    {
     "name": "stdout",
     "output_type": "stream",
     "text": [
      "Got the result from ./1/train/filtrations/4/HeightFiltrartion_1_1/gray/features.npy\n",
      "Got the result from ./1/train/filtrations/4/HeightFiltrartion_1_1/red/features.npy\n",
      "Got the result from ./1/train/filtrations/4/HeightFiltrartion_1_1/green/features.npy\n",
      "Got the result from ./1/train/filtrations/4/HeightFiltrartion_1_1/blue/features.npy\n",
      "Applying filtration 27/72: 4/HeightFiltrartion_1_-1\n",
      "RGB images received. Transforming to grayscale.\n"
     ]
    },
    {
     "name": "stderr",
     "output_type": "stream",
     "text": [
      "rgb2gray: 100%|██████████| 9030/9030 [00:01<00:00, 5192.46it/s]\n"
     ]
    },
    {
     "name": "stdout",
     "output_type": "stream",
     "text": [
      "Got the result from ./1/train/filtrations/4/HeightFiltrartion_1_-1/gray/features.npy\n",
      "Got the result from ./1/train/filtrations/4/HeightFiltrartion_1_-1/red/features.npy\n",
      "Got the result from ./1/train/filtrations/4/HeightFiltrartion_1_-1/green/features.npy\n",
      "Got the result from ./1/train/filtrations/4/HeightFiltrartion_1_-1/blue/features.npy\n",
      "Applying filtration 28/72: 4/HeightFiltrartion_-1_1\n",
      "RGB images received. Transforming to grayscale.\n"
     ]
    },
    {
     "name": "stderr",
     "output_type": "stream",
     "text": [
      "rgb2gray: 100%|██████████| 9030/9030 [00:01<00:00, 5392.62it/s]\n"
     ]
    },
    {
     "name": "stdout",
     "output_type": "stream",
     "text": [
      "Got the result from ./1/train/filtrations/4/HeightFiltrartion_-1_1/gray/features.npy\n",
      "Got the result from ./1/train/filtrations/4/HeightFiltrartion_-1_1/red/features.npy\n",
      "Got the result from ./1/train/filtrations/4/HeightFiltrartion_-1_1/green/features.npy\n",
      "Got the result from ./1/train/filtrations/4/HeightFiltrartion_-1_1/blue/features.npy\n",
      "Applying filtration 29/72: 4/HeightFiltrartion_0_-1\n",
      "RGB images received. Transforming to grayscale.\n"
     ]
    },
    {
     "name": "stderr",
     "output_type": "stream",
     "text": [
      "rgb2gray: 100%|██████████| 9030/9030 [00:01<00:00, 5393.30it/s]\n"
     ]
    },
    {
     "name": "stdout",
     "output_type": "stream",
     "text": [
      "Got the result from ./1/train/filtrations/4/HeightFiltrartion_0_-1/gray/features.npy\n",
      "Got the result from ./1/train/filtrations/4/HeightFiltrartion_0_-1/red/features.npy\n",
      "Got the result from ./1/train/filtrations/4/HeightFiltrartion_0_-1/green/features.npy\n",
      "Got the result from ./1/train/filtrations/4/HeightFiltrartion_0_-1/blue/features.npy\n",
      "Applying filtration 30/72: 4/HeightFiltrartion_0_1\n",
      "RGB images received. Transforming to grayscale.\n"
     ]
    },
    {
     "name": "stderr",
     "output_type": "stream",
     "text": [
      "rgb2gray: 100%|██████████| 9030/9030 [00:01<00:00, 5582.67it/s]\n"
     ]
    },
    {
     "name": "stdout",
     "output_type": "stream",
     "text": [
      "Got the result from ./1/train/filtrations/4/HeightFiltrartion_0_1/gray/features.npy\n",
      "Got the result from ./1/train/filtrations/4/HeightFiltrartion_0_1/red/features.npy\n",
      "Got the result from ./1/train/filtrations/4/HeightFiltrartion_0_1/green/features.npy\n",
      "Got the result from ./1/train/filtrations/4/HeightFiltrartion_0_1/blue/features.npy\n",
      "Applying filtration 31/72: 4/HeightFiltrartion_-1_0\n",
      "RGB images received. Transforming to grayscale.\n"
     ]
    },
    {
     "name": "stderr",
     "output_type": "stream",
     "text": [
      "rgb2gray: 100%|██████████| 9030/9030 [00:01<00:00, 5534.72it/s]\n"
     ]
    },
    {
     "name": "stdout",
     "output_type": "stream",
     "text": [
      "Got the result from ./1/train/filtrations/4/HeightFiltrartion_-1_0/gray/features.npy\n",
      "Got the result from ./1/train/filtrations/4/HeightFiltrartion_-1_0/red/features.npy\n",
      "Got the result from ./1/train/filtrations/4/HeightFiltrartion_-1_0/green/features.npy\n",
      "Got the result from ./1/train/filtrations/4/HeightFiltrartion_-1_0/blue/features.npy\n",
      "Applying filtration 32/72: 4/HeightFiltrartion_1_0\n",
      "RGB images received. Transforming to grayscale.\n"
     ]
    },
    {
     "name": "stderr",
     "output_type": "stream",
     "text": [
      "rgb2gray: 100%|██████████| 9030/9030 [00:01<00:00, 5274.01it/s]\n"
     ]
    },
    {
     "name": "stdout",
     "output_type": "stream",
     "text": [
      "Got the result from ./1/train/filtrations/4/HeightFiltrartion_1_0/gray/features.npy\n",
      "Got the result from ./1/train/filtrations/4/HeightFiltrartion_1_0/red/features.npy\n",
      "Got the result from ./1/train/filtrations/4/HeightFiltrartion_1_0/green/features.npy\n",
      "Got the result from ./1/train/filtrations/4/HeightFiltrartion_1_0/blue/features.npy\n",
      "Applying filtration 33/72: 4/RadialFiltration_12_12\n",
      "RGB images received. Transforming to grayscale.\n"
     ]
    },
    {
     "name": "stderr",
     "output_type": "stream",
     "text": [
      "rgb2gray: 100%|██████████| 9030/9030 [00:01<00:00, 5363.77it/s]\n"
     ]
    },
    {
     "name": "stdout",
     "output_type": "stream",
     "text": [
      "Got the result from ./1/train/filtrations/4/RadialFiltration_12_12/gray/features.npy\n",
      "Got the result from ./1/train/filtrations/4/RadialFiltration_12_12/red/features.npy\n",
      "Got the result from ./1/train/filtrations/4/RadialFiltration_12_12/green/features.npy\n",
      "Got the result from ./1/train/filtrations/4/RadialFiltration_12_12/blue/features.npy\n",
      "Applying filtration 34/72: 4/RadialFiltration_12_25\n",
      "RGB images received. Transforming to grayscale.\n"
     ]
    },
    {
     "name": "stderr",
     "output_type": "stream",
     "text": [
      "rgb2gray: 100%|██████████| 9030/9030 [00:01<00:00, 5397.49it/s]\n"
     ]
    },
    {
     "name": "stdout",
     "output_type": "stream",
     "text": [
      "Got the result from ./1/train/filtrations/4/RadialFiltration_12_25/gray/features.npy\n",
      "Got the result from ./1/train/filtrations/4/RadialFiltration_12_25/red/features.npy\n",
      "Got the result from ./1/train/filtrations/4/RadialFiltration_12_25/green/features.npy\n",
      "Got the result from ./1/train/filtrations/4/RadialFiltration_12_25/blue/features.npy\n",
      "Applying filtration 35/72: 4/RadialFiltration_12_38\n",
      "RGB images received. Transforming to grayscale.\n"
     ]
    },
    {
     "name": "stderr",
     "output_type": "stream",
     "text": [
      "rgb2gray: 100%|██████████| 9030/9030 [00:01<00:00, 5499.40it/s]\n"
     ]
    },
    {
     "name": "stdout",
     "output_type": "stream",
     "text": [
      "Got the result from ./1/train/filtrations/4/RadialFiltration_12_38/gray/features.npy\n",
      "Got the result from ./1/train/filtrations/4/RadialFiltration_12_38/red/features.npy\n",
      "Got the result from ./1/train/filtrations/4/RadialFiltration_12_38/green/features.npy\n",
      "Got the result from ./1/train/filtrations/4/RadialFiltration_12_38/blue/features.npy\n",
      "Applying filtration 36/72: 4/RadialFiltration_12_51\n",
      "RGB images received. Transforming to grayscale.\n"
     ]
    },
    {
     "name": "stderr",
     "output_type": "stream",
     "text": [
      "rgb2gray: 100%|██████████| 9030/9030 [00:01<00:00, 5615.67it/s]\n"
     ]
    },
    {
     "name": "stdout",
     "output_type": "stream",
     "text": [
      "Got the result from ./1/train/filtrations/4/RadialFiltration_12_51/gray/features.npy\n",
      "Got the result from ./1/train/filtrations/4/RadialFiltration_12_51/red/features.npy\n",
      "Got the result from ./1/train/filtrations/4/RadialFiltration_12_51/green/features.npy\n",
      "Got the result from ./1/train/filtrations/4/RadialFiltration_12_51/blue/features.npy\n",
      "Applying filtration 37/72: 4/RadialFiltration_25_12\n",
      "RGB images received. Transforming to grayscale.\n"
     ]
    },
    {
     "name": "stderr",
     "output_type": "stream",
     "text": [
      "rgb2gray: 100%|██████████| 9030/9030 [00:01<00:00, 5509.44it/s]\n"
     ]
    },
    {
     "name": "stdout",
     "output_type": "stream",
     "text": [
      "Got the result from ./1/train/filtrations/4/RadialFiltration_25_12/gray/features.npy\n",
      "Got the result from ./1/train/filtrations/4/RadialFiltration_25_12/red/features.npy\n",
      "Got the result from ./1/train/filtrations/4/RadialFiltration_25_12/green/features.npy\n",
      "Got the result from ./1/train/filtrations/4/RadialFiltration_25_12/blue/features.npy\n",
      "Applying filtration 38/72: 4/RadialFiltration_25_25\n",
      "RGB images received. Transforming to grayscale.\n"
     ]
    },
    {
     "name": "stderr",
     "output_type": "stream",
     "text": [
      "rgb2gray: 100%|██████████| 9030/9030 [00:01<00:00, 5107.46it/s]\n"
     ]
    },
    {
     "name": "stdout",
     "output_type": "stream",
     "text": [
      "Got the result from ./1/train/filtrations/4/RadialFiltration_25_25/gray/features.npy\n",
      "Got the result from ./1/train/filtrations/4/RadialFiltration_25_25/red/features.npy\n",
      "Got the result from ./1/train/filtrations/4/RadialFiltration_25_25/green/features.npy\n",
      "Got the result from ./1/train/filtrations/4/RadialFiltration_25_25/blue/features.npy\n",
      "Applying filtration 39/72: 4/RadialFiltration_25_38\n",
      "RGB images received. Transforming to grayscale.\n"
     ]
    },
    {
     "name": "stderr",
     "output_type": "stream",
     "text": [
      "rgb2gray: 100%|██████████| 9030/9030 [00:01<00:00, 5323.71it/s]\n"
     ]
    },
    {
     "name": "stdout",
     "output_type": "stream",
     "text": [
      "Got the result from ./1/train/filtrations/4/RadialFiltration_25_38/gray/features.npy\n",
      "Got the result from ./1/train/filtrations/4/RadialFiltration_25_38/red/features.npy\n",
      "Got the result from ./1/train/filtrations/4/RadialFiltration_25_38/green/features.npy\n",
      "Got the result from ./1/train/filtrations/4/RadialFiltration_25_38/blue/features.npy\n",
      "Applying filtration 40/72: 4/RadialFiltration_25_51\n",
      "RGB images received. Transforming to grayscale.\n"
     ]
    },
    {
     "name": "stderr",
     "output_type": "stream",
     "text": [
      "rgb2gray: 100%|██████████| 9030/9030 [00:01<00:00, 5327.17it/s]\n"
     ]
    },
    {
     "name": "stdout",
     "output_type": "stream",
     "text": [
      "Got the result from ./1/train/filtrations/4/RadialFiltration_25_51/gray/features.npy\n",
      "Got the result from ./1/train/filtrations/4/RadialFiltration_25_51/red/features.npy\n",
      "Got the result from ./1/train/filtrations/4/RadialFiltration_25_51/green/features.npy\n",
      "Got the result from ./1/train/filtrations/4/RadialFiltration_25_51/blue/features.npy\n",
      "Applying filtration 41/72: 4/RadialFiltration_38_12\n",
      "RGB images received. Transforming to grayscale.\n"
     ]
    },
    {
     "name": "stderr",
     "output_type": "stream",
     "text": [
      "rgb2gray: 100%|██████████| 9030/9030 [00:01<00:00, 5587.87it/s]\n"
     ]
    },
    {
     "name": "stdout",
     "output_type": "stream",
     "text": [
      "Got the result from ./1/train/filtrations/4/RadialFiltration_38_12/gray/features.npy\n",
      "Got the result from ./1/train/filtrations/4/RadialFiltration_38_12/red/features.npy\n",
      "Got the result from ./1/train/filtrations/4/RadialFiltration_38_12/green/features.npy\n",
      "Got the result from ./1/train/filtrations/4/RadialFiltration_38_12/blue/features.npy\n",
      "Applying filtration 42/72: 4/RadialFiltration_38_25\n",
      "RGB images received. Transforming to grayscale.\n"
     ]
    },
    {
     "name": "stderr",
     "output_type": "stream",
     "text": [
      "rgb2gray: 100%|██████████| 9030/9030 [00:01<00:00, 5825.81it/s]\n"
     ]
    },
    {
     "name": "stdout",
     "output_type": "stream",
     "text": [
      "Got the result from ./1/train/filtrations/4/RadialFiltration_38_25/gray/features.npy\n",
      "Got the result from ./1/train/filtrations/4/RadialFiltration_38_25/red/features.npy\n",
      "Got the result from ./1/train/filtrations/4/RadialFiltration_38_25/green/features.npy\n",
      "Got the result from ./1/train/filtrations/4/RadialFiltration_38_25/blue/features.npy\n",
      "Applying filtration 43/72: 4/RadialFiltration_38_38\n",
      "RGB images received. Transforming to grayscale.\n"
     ]
    },
    {
     "name": "stderr",
     "output_type": "stream",
     "text": [
      "rgb2gray: 100%|██████████| 9030/9030 [00:01<00:00, 5065.89it/s]\n"
     ]
    },
    {
     "name": "stdout",
     "output_type": "stream",
     "text": [
      "Got the result from ./1/train/filtrations/4/RadialFiltration_38_38/gray/features.npy\n",
      "Got the result from ./1/train/filtrations/4/RadialFiltration_38_38/red/features.npy\n",
      "Got the result from ./1/train/filtrations/4/RadialFiltration_38_38/green/features.npy\n",
      "Got the result from ./1/train/filtrations/4/RadialFiltration_38_38/blue/features.npy\n",
      "Applying filtration 44/72: 4/RadialFiltration_38_51\n",
      "RGB images received. Transforming to grayscale.\n"
     ]
    },
    {
     "name": "stderr",
     "output_type": "stream",
     "text": [
      "rgb2gray: 100%|██████████| 9030/9030 [00:02<00:00, 4018.69it/s]\n"
     ]
    },
    {
     "name": "stdout",
     "output_type": "stream",
     "text": [
      "Got the result from ./1/train/filtrations/4/RadialFiltration_38_51/gray/features.npy\n",
      "Got the result from ./1/train/filtrations/4/RadialFiltration_38_51/red/features.npy\n",
      "Got the result from ./1/train/filtrations/4/RadialFiltration_38_51/green/features.npy\n",
      "Got the result from ./1/train/filtrations/4/RadialFiltration_38_51/blue/features.npy\n",
      "Applying filtration 45/72: 4/RadialFiltration_51_12\n",
      "RGB images received. Transforming to grayscale.\n"
     ]
    },
    {
     "name": "stderr",
     "output_type": "stream",
     "text": [
      "rgb2gray: 100%|██████████| 9030/9030 [00:01<00:00, 5189.65it/s]\n"
     ]
    },
    {
     "name": "stdout",
     "output_type": "stream",
     "text": [
      "Got the result from ./1/train/filtrations/4/RadialFiltration_51_12/gray/features.npy\n",
      "Got the result from ./1/train/filtrations/4/RadialFiltration_51_12/red/features.npy\n",
      "Got the result from ./1/train/filtrations/4/RadialFiltration_51_12/green/features.npy\n",
      "Got the result from ./1/train/filtrations/4/RadialFiltration_51_12/blue/features.npy\n",
      "Applying filtration 46/72: 4/RadialFiltration_51_25\n",
      "RGB images received. Transforming to grayscale.\n"
     ]
    },
    {
     "name": "stderr",
     "output_type": "stream",
     "text": [
      "rgb2gray: 100%|██████████| 9030/9030 [00:01<00:00, 5323.41it/s]\n"
     ]
    },
    {
     "name": "stdout",
     "output_type": "stream",
     "text": [
      "Got the result from ./1/train/filtrations/4/RadialFiltration_51_25/gray/features.npy\n",
      "Got the result from ./1/train/filtrations/4/RadialFiltration_51_25/red/features.npy\n",
      "Got the result from ./1/train/filtrations/4/RadialFiltration_51_25/green/features.npy\n",
      "Got the result from ./1/train/filtrations/4/RadialFiltration_51_25/blue/features.npy\n",
      "Applying filtration 47/72: 4/RadialFiltration_51_38\n",
      "RGB images received. Transforming to grayscale.\n"
     ]
    },
    {
     "name": "stderr",
     "output_type": "stream",
     "text": [
      "rgb2gray: 100%|██████████| 9030/9030 [00:01<00:00, 5431.55it/s]\n"
     ]
    },
    {
     "name": "stdout",
     "output_type": "stream",
     "text": [
      "Got the result from ./1/train/filtrations/4/RadialFiltration_51_38/gray/features.npy\n",
      "Got the result from ./1/train/filtrations/4/RadialFiltration_51_38/red/features.npy\n",
      "Got the result from ./1/train/filtrations/4/RadialFiltration_51_38/green/features.npy\n",
      "Got the result from ./1/train/filtrations/4/RadialFiltration_51_38/blue/features.npy\n",
      "Applying filtration 48/72: 4/RadialFiltration_51_51\n",
      "RGB images received. Transforming to grayscale.\n"
     ]
    },
    {
     "name": "stderr",
     "output_type": "stream",
     "text": [
      "rgb2gray: 100%|██████████| 9030/9030 [00:01<00:00, 5459.49it/s]\n"
     ]
    },
    {
     "name": "stdout",
     "output_type": "stream",
     "text": [
      "Got the result from ./1/train/filtrations/4/RadialFiltration_51_51/gray/features.npy\n",
      "Got the result from ./1/train/filtrations/4/RadialFiltration_51_51/red/features.npy\n",
      "Got the result from ./1/train/filtrations/4/RadialFiltration_51_51/green/features.npy\n",
      "Got the result from ./1/train/filtrations/4/RadialFiltration_51_51/blue/features.npy\n",
      "Applying filtration 49/72: 6/HeightFiltrartion_-1_-1\n",
      "RGB images received. Transforming to grayscale.\n"
     ]
    },
    {
     "name": "stderr",
     "output_type": "stream",
     "text": [
      "rgb2gray: 100%|██████████| 9030/9030 [00:01<00:00, 5600.79it/s]\n"
     ]
    },
    {
     "name": "stdout",
     "output_type": "stream",
     "text": [
      "Got the result from ./1/train/filtrations/6/HeightFiltrartion_-1_-1/gray/features.npy\n",
      "Got the result from ./1/train/filtrations/6/HeightFiltrartion_-1_-1/red/features.npy\n",
      "Got the result from ./1/train/filtrations/6/HeightFiltrartion_-1_-1/green/features.npy\n",
      "Got the result from ./1/train/filtrations/6/HeightFiltrartion_-1_-1/blue/features.npy\n",
      "Applying filtration 50/72: 6/HeightFiltrartion_1_1\n",
      "RGB images received. Transforming to grayscale.\n"
     ]
    },
    {
     "name": "stderr",
     "output_type": "stream",
     "text": [
      "rgb2gray: 100%|██████████| 9030/9030 [00:01<00:00, 5023.63it/s]\n"
     ]
    },
    {
     "name": "stdout",
     "output_type": "stream",
     "text": [
      "Got the result from ./1/train/filtrations/6/HeightFiltrartion_1_1/gray/features.npy\n",
      "Got the result from ./1/train/filtrations/6/HeightFiltrartion_1_1/red/features.npy\n",
      "Got the result from ./1/train/filtrations/6/HeightFiltrartion_1_1/green/features.npy\n",
      "Got the result from ./1/train/filtrations/6/HeightFiltrartion_1_1/blue/features.npy\n",
      "Applying filtration 51/72: 6/HeightFiltrartion_1_-1\n",
      "RGB images received. Transforming to grayscale.\n"
     ]
    },
    {
     "name": "stderr",
     "output_type": "stream",
     "text": [
      "rgb2gray: 100%|██████████| 9030/9030 [00:01<00:00, 5477.54it/s]\n"
     ]
    },
    {
     "name": "stdout",
     "output_type": "stream",
     "text": [
      "Got the result from ./1/train/filtrations/6/HeightFiltrartion_1_-1/gray/features.npy\n",
      "Got the result from ./1/train/filtrations/6/HeightFiltrartion_1_-1/red/features.npy\n",
      "Got the result from ./1/train/filtrations/6/HeightFiltrartion_1_-1/green/features.npy\n",
      "Got the result from ./1/train/filtrations/6/HeightFiltrartion_1_-1/blue/features.npy\n",
      "Applying filtration 52/72: 6/HeightFiltrartion_-1_1\n",
      "RGB images received. Transforming to grayscale.\n"
     ]
    },
    {
     "name": "stderr",
     "output_type": "stream",
     "text": [
      "rgb2gray: 100%|██████████| 9030/9030 [00:01<00:00, 5654.36it/s]\n"
     ]
    },
    {
     "name": "stdout",
     "output_type": "stream",
     "text": [
      "Got the result from ./1/train/filtrations/6/HeightFiltrartion_-1_1/gray/features.npy\n",
      "Got the result from ./1/train/filtrations/6/HeightFiltrartion_-1_1/red/features.npy\n",
      "Got the result from ./1/train/filtrations/6/HeightFiltrartion_-1_1/green/features.npy\n",
      "Got the result from ./1/train/filtrations/6/HeightFiltrartion_-1_1/blue/features.npy\n",
      "Applying filtration 53/72: 6/HeightFiltrartion_0_-1\n",
      "RGB images received. Transforming to grayscale.\n"
     ]
    },
    {
     "name": "stderr",
     "output_type": "stream",
     "text": [
      "rgb2gray: 100%|██████████| 9030/9030 [00:01<00:00, 5286.89it/s]\n"
     ]
    },
    {
     "name": "stdout",
     "output_type": "stream",
     "text": [
      "Got the result from ./1/train/filtrations/6/HeightFiltrartion_0_-1/gray/features.npy\n",
      "Got the result from ./1/train/filtrations/6/HeightFiltrartion_0_-1/red/features.npy\n",
      "Got the result from ./1/train/filtrations/6/HeightFiltrartion_0_-1/green/features.npy\n",
      "Got the result from ./1/train/filtrations/6/HeightFiltrartion_0_-1/blue/features.npy\n",
      "Applying filtration 54/72: 6/HeightFiltrartion_0_1\n",
      "RGB images received. Transforming to grayscale.\n"
     ]
    },
    {
     "name": "stderr",
     "output_type": "stream",
     "text": [
      "rgb2gray: 100%|██████████| 9030/9030 [00:01<00:00, 5407.18it/s]\n"
     ]
    },
    {
     "name": "stdout",
     "output_type": "stream",
     "text": [
      "Got the result from ./1/train/filtrations/6/HeightFiltrartion_0_1/gray/features.npy\n",
      "Got the result from ./1/train/filtrations/6/HeightFiltrartion_0_1/red/features.npy\n",
      "Got the result from ./1/train/filtrations/6/HeightFiltrartion_0_1/green/features.npy\n",
      "Got the result from ./1/train/filtrations/6/HeightFiltrartion_0_1/blue/features.npy\n",
      "Applying filtration 55/72: 6/HeightFiltrartion_-1_0\n",
      "RGB images received. Transforming to grayscale.\n"
     ]
    },
    {
     "name": "stderr",
     "output_type": "stream",
     "text": [
      "rgb2gray: 100%|██████████| 9030/9030 [00:01<00:00, 5355.88it/s]\n"
     ]
    },
    {
     "name": "stdout",
     "output_type": "stream",
     "text": [
      "Got the result from ./1/train/filtrations/6/HeightFiltrartion_-1_0/gray/features.npy\n",
      "Got the result from ./1/train/filtrations/6/HeightFiltrartion_-1_0/red/features.npy\n",
      "Got the result from ./1/train/filtrations/6/HeightFiltrartion_-1_0/green/features.npy\n",
      "Got the result from ./1/train/filtrations/6/HeightFiltrartion_-1_0/blue/features.npy\n",
      "Applying filtration 56/72: 6/HeightFiltrartion_1_0\n",
      "RGB images received. Transforming to grayscale.\n"
     ]
    },
    {
     "name": "stderr",
     "output_type": "stream",
     "text": [
      "rgb2gray: 100%|██████████| 9030/9030 [00:01<00:00, 5371.80it/s]\n"
     ]
    },
    {
     "name": "stdout",
     "output_type": "stream",
     "text": [
      "Got the result from ./1/train/filtrations/6/HeightFiltrartion_1_0/gray/features.npy\n",
      "Got the result from ./1/train/filtrations/6/HeightFiltrartion_1_0/red/features.npy\n",
      "Got the result from ./1/train/filtrations/6/HeightFiltrartion_1_0/green/features.npy\n",
      "Got the result from ./1/train/filtrations/6/HeightFiltrartion_1_0/blue/features.npy\n",
      "Applying filtration 57/72: 6/RadialFiltration_12_12\n",
      "RGB images received. Transforming to grayscale.\n"
     ]
    },
    {
     "name": "stderr",
     "output_type": "stream",
     "text": [
      "rgb2gray: 100%|██████████| 9030/9030 [00:01<00:00, 5371.80it/s]\n"
     ]
    },
    {
     "name": "stdout",
     "output_type": "stream",
     "text": [
      "Got the result from ./1/train/filtrations/6/RadialFiltration_12_12/gray/features.npy\n",
      "Got the result from ./1/train/filtrations/6/RadialFiltration_12_12/red/features.npy\n",
      "Got the result from ./1/train/filtrations/6/RadialFiltration_12_12/green/features.npy\n",
      "Got the result from ./1/train/filtrations/6/RadialFiltration_12_12/blue/features.npy\n",
      "Applying filtration 58/72: 6/RadialFiltration_12_25\n",
      "RGB images received. Transforming to grayscale.\n"
     ]
    },
    {
     "name": "stderr",
     "output_type": "stream",
     "text": [
      "rgb2gray: 100%|██████████| 9030/9030 [00:01<00:00, 5711.58it/s]\n"
     ]
    },
    {
     "name": "stdout",
     "output_type": "stream",
     "text": [
      "Got the result from ./1/train/filtrations/6/RadialFiltration_12_25/gray/features.npy\n",
      "Got the result from ./1/train/filtrations/6/RadialFiltration_12_25/red/features.npy\n",
      "Got the result from ./1/train/filtrations/6/RadialFiltration_12_25/green/features.npy\n",
      "Got the result from ./1/train/filtrations/6/RadialFiltration_12_25/blue/features.npy\n",
      "Applying filtration 59/72: 6/RadialFiltration_12_38\n",
      "RGB images received. Transforming to grayscale.\n"
     ]
    },
    {
     "name": "stderr",
     "output_type": "stream",
     "text": [
      "rgb2gray: 100%|██████████| 9030/9030 [00:01<00:00, 5081.59it/s]\n"
     ]
    },
    {
     "name": "stdout",
     "output_type": "stream",
     "text": [
      "Got the result from ./1/train/filtrations/6/RadialFiltration_12_38/gray/features.npy\n",
      "Got the result from ./1/train/filtrations/6/RadialFiltration_12_38/red/features.npy\n",
      "Got the result from ./1/train/filtrations/6/RadialFiltration_12_38/green/features.npy\n",
      "Got the result from ./1/train/filtrations/6/RadialFiltration_12_38/blue/features.npy\n",
      "Applying filtration 60/72: 6/RadialFiltration_12_51\n",
      "RGB images received. Transforming to grayscale.\n"
     ]
    },
    {
     "name": "stderr",
     "output_type": "stream",
     "text": [
      "rgb2gray: 100%|██████████| 9030/9030 [00:01<00:00, 5429.94it/s]\n"
     ]
    },
    {
     "name": "stdout",
     "output_type": "stream",
     "text": [
      "Got the result from ./1/train/filtrations/6/RadialFiltration_12_51/gray/features.npy\n",
      "Got the result from ./1/train/filtrations/6/RadialFiltration_12_51/red/features.npy\n",
      "Got the result from ./1/train/filtrations/6/RadialFiltration_12_51/green/features.npy\n",
      "Got the result from ./1/train/filtrations/6/RadialFiltration_12_51/blue/features.npy\n",
      "Applying filtration 61/72: 6/RadialFiltration_25_12\n",
      "RGB images received. Transforming to grayscale.\n"
     ]
    },
    {
     "name": "stderr",
     "output_type": "stream",
     "text": [
      "rgb2gray: 100%|██████████| 9030/9030 [00:01<00:00, 5216.64it/s]\n"
     ]
    },
    {
     "name": "stdout",
     "output_type": "stream",
     "text": [
      "Got the result from ./1/train/filtrations/6/RadialFiltration_25_12/gray/features.npy\n",
      "Got the result from ./1/train/filtrations/6/RadialFiltration_25_12/red/features.npy\n",
      "Got the result from ./1/train/filtrations/6/RadialFiltration_25_12/green/features.npy\n",
      "Got the result from ./1/train/filtrations/6/RadialFiltration_25_12/blue/features.npy\n",
      "Applying filtration 62/72: 6/RadialFiltration_25_25\n",
      "RGB images received. Transforming to grayscale.\n"
     ]
    },
    {
     "name": "stderr",
     "output_type": "stream",
     "text": [
      "rgb2gray: 100%|██████████| 9030/9030 [00:01<00:00, 5848.44it/s]\n"
     ]
    },
    {
     "name": "stdout",
     "output_type": "stream",
     "text": [
      "Got the result from ./1/train/filtrations/6/RadialFiltration_25_25/gray/features.npy\n",
      "Got the result from ./1/train/filtrations/6/RadialFiltration_25_25/red/features.npy\n",
      "Got the result from ./1/train/filtrations/6/RadialFiltration_25_25/green/features.npy\n",
      "Got the result from ./1/train/filtrations/6/RadialFiltration_25_25/blue/features.npy\n",
      "Applying filtration 63/72: 6/RadialFiltration_25_38\n",
      "RGB images received. Transforming to grayscale.\n"
     ]
    },
    {
     "name": "stderr",
     "output_type": "stream",
     "text": [
      "rgb2gray: 100%|██████████| 9030/9030 [00:01<00:00, 5346.36it/s]\n"
     ]
    },
    {
     "name": "stdout",
     "output_type": "stream",
     "text": [
      "Got the result from ./1/train/filtrations/6/RadialFiltration_25_38/gray/features.npy\n",
      "Got the result from ./1/train/filtrations/6/RadialFiltration_25_38/red/features.npy\n",
      "Got the result from ./1/train/filtrations/6/RadialFiltration_25_38/green/features.npy\n",
      "Got the result from ./1/train/filtrations/6/RadialFiltration_25_38/blue/features.npy\n",
      "Applying filtration 64/72: 6/RadialFiltration_25_51\n",
      "RGB images received. Transforming to grayscale.\n"
     ]
    },
    {
     "name": "stderr",
     "output_type": "stream",
     "text": [
      "rgb2gray: 100%|██████████| 9030/9030 [00:01<00:00, 5472.73it/s]\n"
     ]
    },
    {
     "name": "stdout",
     "output_type": "stream",
     "text": [
      "Got the result from ./1/train/filtrations/6/RadialFiltration_25_51/gray/features.npy\n",
      "Got the result from ./1/train/filtrations/6/RadialFiltration_25_51/red/features.npy\n",
      "Got the result from ./1/train/filtrations/6/RadialFiltration_25_51/green/features.npy\n",
      "Got the result from ./1/train/filtrations/6/RadialFiltration_25_51/blue/features.npy\n",
      "Applying filtration 65/72: 6/RadialFiltration_38_12\n",
      "RGB images received. Transforming to grayscale.\n"
     ]
    },
    {
     "name": "stderr",
     "output_type": "stream",
     "text": [
      "rgb2gray: 100%|██████████| 9030/9030 [00:01<00:00, 5496.05it/s]\n"
     ]
    },
    {
     "name": "stdout",
     "output_type": "stream",
     "text": [
      "Got the result from ./1/train/filtrations/6/RadialFiltration_38_12/gray/features.npy\n",
      "Got the result from ./1/train/filtrations/6/RadialFiltration_38_12/red/features.npy\n",
      "Got the result from ./1/train/filtrations/6/RadialFiltration_38_12/green/features.npy\n",
      "Got the result from ./1/train/filtrations/6/RadialFiltration_38_12/blue/features.npy\n",
      "Applying filtration 66/72: 6/RadialFiltration_38_25\n",
      "RGB images received. Transforming to grayscale.\n"
     ]
    },
    {
     "name": "stderr",
     "output_type": "stream",
     "text": [
      "rgb2gray: 100%|██████████| 9030/9030 [00:01<00:00, 5436.49it/s]\n"
     ]
    },
    {
     "name": "stdout",
     "output_type": "stream",
     "text": [
      "Got the result from ./1/train/filtrations/6/RadialFiltration_38_25/gray/features.npy\n",
      "Got the result from ./1/train/filtrations/6/RadialFiltration_38_25/red/features.npy\n",
      "Got the result from ./1/train/filtrations/6/RadialFiltration_38_25/green/features.npy\n",
      "Got the result from ./1/train/filtrations/6/RadialFiltration_38_25/blue/features.npy\n",
      "Applying filtration 67/72: 6/RadialFiltration_38_38\n",
      "RGB images received. Transforming to grayscale.\n"
     ]
    },
    {
     "name": "stderr",
     "output_type": "stream",
     "text": [
      "rgb2gray: 100%|██████████| 9030/9030 [00:01<00:00, 5387.84it/s]\n"
     ]
    },
    {
     "name": "stdout",
     "output_type": "stream",
     "text": [
      "Got the result from ./1/train/filtrations/6/RadialFiltration_38_38/gray/features.npy\n",
      "Got the result from ./1/train/filtrations/6/RadialFiltration_38_38/red/features.npy\n",
      "Got the result from ./1/train/filtrations/6/RadialFiltration_38_38/green/features.npy\n",
      "Got the result from ./1/train/filtrations/6/RadialFiltration_38_38/blue/features.npy\n",
      "Applying filtration 68/72: 6/RadialFiltration_38_51\n",
      "RGB images received. Transforming to grayscale.\n"
     ]
    },
    {
     "name": "stderr",
     "output_type": "stream",
     "text": [
      "rgb2gray: 100%|██████████| 9030/9030 [00:01<00:00, 5679.25it/s]\n"
     ]
    },
    {
     "name": "stdout",
     "output_type": "stream",
     "text": [
      "Got the result from ./1/train/filtrations/6/RadialFiltration_38_51/gray/features.npy\n",
      "Got the result from ./1/train/filtrations/6/RadialFiltration_38_51/red/features.npy\n",
      "Got the result from ./1/train/filtrations/6/RadialFiltration_38_51/green/features.npy\n",
      "Got the result from ./1/train/filtrations/6/RadialFiltration_38_51/blue/features.npy\n",
      "Applying filtration 69/72: 6/RadialFiltration_51_12\n",
      "RGB images received. Transforming to grayscale.\n"
     ]
    },
    {
     "name": "stderr",
     "output_type": "stream",
     "text": [
      "rgb2gray: 100%|██████████| 9030/9030 [00:01<00:00, 5000.00it/s]\n"
     ]
    },
    {
     "name": "stdout",
     "output_type": "stream",
     "text": [
      "Got the result from ./1/train/filtrations/6/RadialFiltration_51_12/gray/features.npy\n",
      "Got the result from ./1/train/filtrations/6/RadialFiltration_51_12/red/features.npy\n",
      "Got the result from ./1/train/filtrations/6/RadialFiltration_51_12/green/features.npy\n",
      "Got the result from ./1/train/filtrations/6/RadialFiltration_51_12/blue/features.npy\n",
      "Applying filtration 70/72: 6/RadialFiltration_51_25\n",
      "RGB images received. Transforming to grayscale.\n"
     ]
    },
    {
     "name": "stderr",
     "output_type": "stream",
     "text": [
      "rgb2gray: 100%|██████████| 9030/9030 [00:01<00:00, 4917.04it/s]\n"
     ]
    },
    {
     "name": "stdout",
     "output_type": "stream",
     "text": [
      "Got the result from ./1/train/filtrations/6/RadialFiltration_51_25/gray/features.npy\n",
      "Got the result from ./1/train/filtrations/6/RadialFiltration_51_25/red/features.npy\n",
      "Got the result from ./1/train/filtrations/6/RadialFiltration_51_25/green/features.npy\n",
      "Got the result from ./1/train/filtrations/6/RadialFiltration_51_25/blue/features.npy\n",
      "Applying filtration 71/72: 6/RadialFiltration_51_38\n",
      "RGB images received. Transforming to grayscale.\n"
     ]
    },
    {
     "name": "stderr",
     "output_type": "stream",
     "text": [
      "rgb2gray: 100%|██████████| 9030/9030 [00:01<00:00, 5108.88it/s]\n"
     ]
    },
    {
     "name": "stdout",
     "output_type": "stream",
     "text": [
      "Got the result from ./1/train/filtrations/6/RadialFiltration_51_38/gray/features.npy\n",
      "Got the result from ./1/train/filtrations/6/RadialFiltration_51_38/red/features.npy\n",
      "Got the result from ./1/train/filtrations/6/RadialFiltration_51_38/green/features.npy\n",
      "Got the result from ./1/train/filtrations/6/RadialFiltration_51_38/blue/features.npy\n",
      "Applying filtration 72/72: 6/RadialFiltration_51_51\n",
      "RGB images received. Transforming to grayscale.\n"
     ]
    },
    {
     "name": "stderr",
     "output_type": "stream",
     "text": [
      "rgb2gray: 100%|██████████| 9030/9030 [00:01<00:00, 5619.16it/s]\n"
     ]
    },
    {
     "name": "stdout",
     "output_type": "stream",
     "text": [
      "Got the result from ./1/train/filtrations/6/RadialFiltration_51_51/gray/features.npy\n",
      "Got the result from ./1/train/filtrations/6/RadialFiltration_51_51/red/features.npy\n",
      "Got the result from ./1/train/filtrations/6/RadialFiltration_51_51/green/features.npy\n",
      "Got the result from ./1/train/filtrations/6/RadialFiltration_51_51/blue/features.npy\n",
      "RGB images received. Transforming to grayscale.\n",
      "Got the result from ./1/train/geometry/rgb/features.npy\n"
     ]
    },
    {
     "name": "stderr",
     "output_type": "stream",
     "text": [
      "rgb2gray: 100%|██████████| 9030/9030 [00:02<00:00, 4179.57it/s]\n"
     ]
    },
    {
     "name": "stdout",
     "output_type": "stream",
     "text": [
      "Got the result from ./1/train/geometry/gray/features.npy\n",
      "Got the result from ./1/train/geometry/red/features.npy\n",
      "Got the result from ./1/train/geometry/green/features.npy\n",
      "Got the result from ./1/train/geometry/blue/features.npy\n",
      "RGB images received. Transforming to grayscale.\n",
      "Got the result from ./1/train/geometry/rgb/features.npy\n"
     ]
    },
    {
     "name": "stderr",
     "output_type": "stream",
     "text": [
      "rgb2gray: 100%|██████████| 9030/9030 [00:01<00:00, 5491.02it/s]\n"
     ]
    },
    {
     "name": "stdout",
     "output_type": "stream",
     "text": [
      "Got the result from ./1/train/geometry/gray/features.npy\n",
      "Got the result from ./1/train/geometry/red/features.npy\n",
      "Got the result from ./1/train/geometry/green/features.npy\n",
      "Got the result from ./1/train/geometry/blue/features.npy\n",
      "Applying StandardScaler.\n",
      "Calculating inverted images\n",
      "RGB images received. Transforming to grayscale.\n"
     ]
    },
    {
     "name": "stderr",
     "output_type": "stream",
     "text": [
      "rgb2gray: 100%|██████████| 9030/9030 [00:01<00:00, 5375.01it/s]\n"
     ]
    },
    {
     "name": "stdout",
     "output_type": "stream",
     "text": [
      "Got the result from ./1/train/greyscale/gray/features.npy\n",
      "Got the result from ./1/train/greyscale/red/features.npy\n",
      "Got the result from ./1/train/greyscale/green/features.npy\n",
      "Got the result from ./1/train/greyscale/blue/features.npy\n",
      "RGB images received. Transforming to grayscale.\n"
     ]
    },
    {
     "name": "stderr",
     "output_type": "stream",
     "text": [
      "rgb2gray: 100%|██████████| 9030/9030 [00:01<00:00, 5426.68it/s]\n"
     ]
    },
    {
     "name": "stdout",
     "output_type": "stream",
     "text": [
      "Got the result from ./1/train/inverted_greyscale/gray/features.npy\n",
      "Got the result from ./1/train/inverted_greyscale/red/features.npy\n",
      "Got the result from ./1/train/inverted_greyscale/green/features.npy\n",
      "Got the result from ./1/train/inverted_greyscale/blue/features.npy\n",
      "Applying filtrations\n",
      "Applying filtration 1/72: 2/HeightFiltrartion_-1_-1\n",
      "RGB images received. Transforming to grayscale.\n"
     ]
    },
    {
     "name": "stderr",
     "output_type": "stream",
     "text": [
      "rgb2gray: 100%|██████████| 9030/9030 [00:01<00:00, 5715.19it/s]\n"
     ]
    },
    {
     "name": "stdout",
     "output_type": "stream",
     "text": [
      "Got the result from ./1/train/filtrations/2/HeightFiltrartion_-1_-1/gray/features.npy\n",
      "Got the result from ./1/train/filtrations/2/HeightFiltrartion_-1_-1/red/features.npy\n",
      "Got the result from ./1/train/filtrations/2/HeightFiltrartion_-1_-1/green/features.npy\n",
      "Got the result from ./1/train/filtrations/2/HeightFiltrartion_-1_-1/blue/features.npy\n",
      "Applying filtration 2/72: 2/HeightFiltrartion_1_1\n",
      "RGB images received. Transforming to grayscale.\n"
     ]
    },
    {
     "name": "stderr",
     "output_type": "stream",
     "text": [
      "rgb2gray: 100%|██████████| 9030/9030 [00:01<00:00, 5397.49it/s]\n"
     ]
    },
    {
     "name": "stdout",
     "output_type": "stream",
     "text": [
      "Got the result from ./1/train/filtrations/2/HeightFiltrartion_1_1/gray/features.npy\n",
      "Got the result from ./1/train/filtrations/2/HeightFiltrartion_1_1/red/features.npy\n",
      "Got the result from ./1/train/filtrations/2/HeightFiltrartion_1_1/green/features.npy\n",
      "Got the result from ./1/train/filtrations/2/HeightFiltrartion_1_1/blue/features.npy\n",
      "Applying filtration 3/72: 2/HeightFiltrartion_1_-1\n",
      "RGB images received. Transforming to grayscale.\n"
     ]
    },
    {
     "name": "stderr",
     "output_type": "stream",
     "text": [
      "rgb2gray: 100%|██████████| 9030/9030 [00:01<00:00, 5098.82it/s]\n"
     ]
    },
    {
     "name": "stdout",
     "output_type": "stream",
     "text": [
      "Got the result from ./1/train/filtrations/2/HeightFiltrartion_1_-1/gray/features.npy\n",
      "Got the result from ./1/train/filtrations/2/HeightFiltrartion_1_-1/red/features.npy\n",
      "Got the result from ./1/train/filtrations/2/HeightFiltrartion_1_-1/green/features.npy\n",
      "Got the result from ./1/train/filtrations/2/HeightFiltrartion_1_-1/blue/features.npy\n",
      "Applying filtration 4/72: 2/HeightFiltrartion_-1_1\n",
      "RGB images received. Transforming to grayscale.\n"
     ]
    },
    {
     "name": "stderr",
     "output_type": "stream",
     "text": [
      "rgb2gray: 100%|██████████| 9030/9030 [00:01<00:00, 5584.42it/s]\n"
     ]
    },
    {
     "name": "stdout",
     "output_type": "stream",
     "text": [
      "Got the result from ./1/train/filtrations/2/HeightFiltrartion_-1_1/gray/features.npy\n",
      "Got the result from ./1/train/filtrations/2/HeightFiltrartion_-1_1/red/features.npy\n",
      "Got the result from ./1/train/filtrations/2/HeightFiltrartion_-1_1/green/features.npy\n",
      "Got the result from ./1/train/filtrations/2/HeightFiltrartion_-1_1/blue/features.npy\n",
      "Applying filtration 5/72: 2/HeightFiltrartion_0_-1\n",
      "RGB images received. Transforming to grayscale.\n"
     ]
    },
    {
     "name": "stderr",
     "output_type": "stream",
     "text": [
      "rgb2gray: 100%|██████████| 9030/9030 [00:01<00:00, 5216.41it/s]\n"
     ]
    },
    {
     "name": "stdout",
     "output_type": "stream",
     "text": [
      "Got the result from ./1/train/filtrations/2/HeightFiltrartion_0_-1/gray/features.npy\n",
      "Got the result from ./1/train/filtrations/2/HeightFiltrartion_0_-1/red/features.npy\n",
      "Got the result from ./1/train/filtrations/2/HeightFiltrartion_0_-1/green/features.npy\n",
      "Got the result from ./1/train/filtrations/2/HeightFiltrartion_0_-1/blue/features.npy\n",
      "Applying filtration 6/72: 2/HeightFiltrartion_0_1\n",
      "RGB images received. Transforming to grayscale.\n"
     ]
    },
    {
     "name": "stderr",
     "output_type": "stream",
     "text": [
      "rgb2gray: 100%|██████████| 9030/9030 [00:01<00:00, 5458.76it/s]\n"
     ]
    },
    {
     "name": "stdout",
     "output_type": "stream",
     "text": [
      "Got the result from ./1/train/filtrations/2/HeightFiltrartion_0_1/gray/features.npy\n",
      "Got the result from ./1/train/filtrations/2/HeightFiltrartion_0_1/red/features.npy\n",
      "Got the result from ./1/train/filtrations/2/HeightFiltrartion_0_1/green/features.npy\n",
      "Got the result from ./1/train/filtrations/2/HeightFiltrartion_0_1/blue/features.npy\n",
      "Applying filtration 7/72: 2/HeightFiltrartion_-1_0\n",
      "RGB images received. Transforming to grayscale.\n"
     ]
    },
    {
     "name": "stderr",
     "output_type": "stream",
     "text": [
      "rgb2gray: 100%|██████████| 9030/9030 [00:01<00:00, 5225.53it/s]\n"
     ]
    },
    {
     "name": "stdout",
     "output_type": "stream",
     "text": [
      "Got the result from ./1/train/filtrations/2/HeightFiltrartion_-1_0/gray/features.npy\n",
      "Got the result from ./1/train/filtrations/2/HeightFiltrartion_-1_0/red/features.npy\n",
      "Got the result from ./1/train/filtrations/2/HeightFiltrartion_-1_0/green/features.npy\n",
      "Got the result from ./1/train/filtrations/2/HeightFiltrartion_-1_0/blue/features.npy\n",
      "Applying filtration 8/72: 2/HeightFiltrartion_1_0\n",
      "RGB images received. Transforming to grayscale.\n"
     ]
    },
    {
     "name": "stderr",
     "output_type": "stream",
     "text": [
      "rgb2gray: 100%|██████████| 9030/9030 [00:01<00:00, 5161.45it/s]\n"
     ]
    },
    {
     "name": "stdout",
     "output_type": "stream",
     "text": [
      "Got the result from ./1/train/filtrations/2/HeightFiltrartion_1_0/gray/features.npy\n",
      "Got the result from ./1/train/filtrations/2/HeightFiltrartion_1_0/red/features.npy\n",
      "Got the result from ./1/train/filtrations/2/HeightFiltrartion_1_0/green/features.npy\n",
      "Got the result from ./1/train/filtrations/2/HeightFiltrartion_1_0/blue/features.npy\n",
      "Applying filtration 9/72: 2/RadialFiltration_12_12\n",
      "RGB images received. Transforming to grayscale.\n"
     ]
    },
    {
     "name": "stderr",
     "output_type": "stream",
     "text": [
      "rgb2gray: 100%|██████████| 9030/9030 [00:01<00:00, 5305.52it/s]\n"
     ]
    },
    {
     "name": "stdout",
     "output_type": "stream",
     "text": [
      "Got the result from ./1/train/filtrations/2/RadialFiltration_12_12/gray/features.npy\n",
      "Got the result from ./1/train/filtrations/2/RadialFiltration_12_12/red/features.npy\n",
      "Got the result from ./1/train/filtrations/2/RadialFiltration_12_12/green/features.npy\n",
      "Got the result from ./1/train/filtrations/2/RadialFiltration_12_12/blue/features.npy\n",
      "Applying filtration 10/72: 2/RadialFiltration_12_25\n",
      "RGB images received. Transforming to grayscale.\n"
     ]
    },
    {
     "name": "stderr",
     "output_type": "stream",
     "text": [
      "rgb2gray: 100%|██████████| 9030/9030 [00:01<00:00, 5598.28it/s]\n"
     ]
    },
    {
     "name": "stdout",
     "output_type": "stream",
     "text": [
      "Got the result from ./1/train/filtrations/2/RadialFiltration_12_25/gray/features.npy\n",
      "Got the result from ./1/train/filtrations/2/RadialFiltration_12_25/red/features.npy\n",
      "Got the result from ./1/train/filtrations/2/RadialFiltration_12_25/green/features.npy\n",
      "Got the result from ./1/train/filtrations/2/RadialFiltration_12_25/blue/features.npy\n",
      "Applying filtration 11/72: 2/RadialFiltration_12_38\n",
      "RGB images received. Transforming to grayscale.\n"
     ]
    },
    {
     "name": "stderr",
     "output_type": "stream",
     "text": [
      "rgb2gray: 100%|██████████| 9030/9030 [00:01<00:00, 5283.79it/s]\n"
     ]
    },
    {
     "name": "stdout",
     "output_type": "stream",
     "text": [
      "Got the result from ./1/train/filtrations/2/RadialFiltration_12_38/gray/features.npy\n",
      "Got the result from ./1/train/filtrations/2/RadialFiltration_12_38/red/features.npy\n",
      "Got the result from ./1/train/filtrations/2/RadialFiltration_12_38/green/features.npy\n",
      "Got the result from ./1/train/filtrations/2/RadialFiltration_12_38/blue/features.npy\n",
      "Applying filtration 12/72: 2/RadialFiltration_12_51\n",
      "RGB images received. Transforming to grayscale.\n"
     ]
    },
    {
     "name": "stderr",
     "output_type": "stream",
     "text": [
      "rgb2gray: 100%|██████████| 9030/9030 [00:01<00:00, 5047.52it/s]\n"
     ]
    },
    {
     "name": "stdout",
     "output_type": "stream",
     "text": [
      "Got the result from ./1/train/filtrations/2/RadialFiltration_12_51/gray/features.npy\n",
      "Got the result from ./1/train/filtrations/2/RadialFiltration_12_51/red/features.npy\n",
      "Got the result from ./1/train/filtrations/2/RadialFiltration_12_51/green/features.npy\n",
      "Got the result from ./1/train/filtrations/2/RadialFiltration_12_51/blue/features.npy\n",
      "Applying filtration 13/72: 2/RadialFiltration_25_12\n",
      "RGB images received. Transforming to grayscale.\n"
     ]
    },
    {
     "name": "stderr",
     "output_type": "stream",
     "text": [
      "rgb2gray: 100%|██████████| 9030/9030 [00:01<00:00, 5305.53it/s]\n"
     ]
    },
    {
     "name": "stdout",
     "output_type": "stream",
     "text": [
      "Got the result from ./1/train/filtrations/2/RadialFiltration_25_12/gray/features.npy\n",
      "Got the result from ./1/train/filtrations/2/RadialFiltration_25_12/red/features.npy\n",
      "Got the result from ./1/train/filtrations/2/RadialFiltration_25_12/green/features.npy\n",
      "Got the result from ./1/train/filtrations/2/RadialFiltration_25_12/blue/features.npy\n",
      "Applying filtration 14/72: 2/RadialFiltration_25_25\n",
      "RGB images received. Transforming to grayscale.\n"
     ]
    },
    {
     "name": "stderr",
     "output_type": "stream",
     "text": [
      "rgb2gray: 100%|██████████| 9030/9030 [00:01<00:00, 5420.16it/s]\n"
     ]
    },
    {
     "name": "stdout",
     "output_type": "stream",
     "text": [
      "Got the result from ./1/train/filtrations/2/RadialFiltration_25_25/gray/features.npy\n",
      "Got the result from ./1/train/filtrations/2/RadialFiltration_25_25/red/features.npy\n",
      "Got the result from ./1/train/filtrations/2/RadialFiltration_25_25/green/features.npy\n",
      "Got the result from ./1/train/filtrations/2/RadialFiltration_25_25/blue/features.npy\n",
      "Applying filtration 15/72: 2/RadialFiltration_25_38\n",
      "RGB images received. Transforming to grayscale.\n"
     ]
    },
    {
     "name": "stderr",
     "output_type": "stream",
     "text": [
      "rgb2gray: 100%|██████████| 9030/9030 [00:01<00:00, 5633.83it/s]\n"
     ]
    },
    {
     "name": "stdout",
     "output_type": "stream",
     "text": [
      "Got the result from ./1/train/filtrations/2/RadialFiltration_25_38/gray/features.npy\n",
      "Got the result from ./1/train/filtrations/2/RadialFiltration_25_38/red/features.npy\n",
      "Got the result from ./1/train/filtrations/2/RadialFiltration_25_38/green/features.npy\n",
      "Got the result from ./1/train/filtrations/2/RadialFiltration_25_38/blue/features.npy\n",
      "Applying filtration 16/72: 2/RadialFiltration_25_51\n",
      "RGB images received. Transforming to grayscale.\n"
     ]
    },
    {
     "name": "stderr",
     "output_type": "stream",
     "text": [
      "rgb2gray: 100%|██████████| 9030/9030 [00:01<00:00, 5259.01it/s]\n"
     ]
    },
    {
     "name": "stdout",
     "output_type": "stream",
     "text": [
      "Got the result from ./1/train/filtrations/2/RadialFiltration_25_51/gray/features.npy\n",
      "Got the result from ./1/train/filtrations/2/RadialFiltration_25_51/red/features.npy\n",
      "Got the result from ./1/train/filtrations/2/RadialFiltration_25_51/green/features.npy\n",
      "Got the result from ./1/train/filtrations/2/RadialFiltration_25_51/blue/features.npy\n",
      "Applying filtration 17/72: 2/RadialFiltration_38_12\n",
      "RGB images received. Transforming to grayscale.\n"
     ]
    },
    {
     "name": "stderr",
     "output_type": "stream",
     "text": [
      "rgb2gray: 100%|██████████| 9030/9030 [00:01<00:00, 5414.06it/s]\n"
     ]
    },
    {
     "name": "stdout",
     "output_type": "stream",
     "text": [
      "Got the result from ./1/train/filtrations/2/RadialFiltration_38_12/gray/features.npy\n",
      "Got the result from ./1/train/filtrations/2/RadialFiltration_38_12/red/features.npy\n",
      "Got the result from ./1/train/filtrations/2/RadialFiltration_38_12/green/features.npy\n",
      "Got the result from ./1/train/filtrations/2/RadialFiltration_38_12/blue/features.npy\n",
      "Applying filtration 18/72: 2/RadialFiltration_38_25\n",
      "RGB images received. Transforming to grayscale.\n"
     ]
    },
    {
     "name": "stderr",
     "output_type": "stream",
     "text": [
      "rgb2gray: 100%|██████████| 9030/9030 [00:01<00:00, 5299.23it/s]\n"
     ]
    },
    {
     "name": "stdout",
     "output_type": "stream",
     "text": [
      "Got the result from ./1/train/filtrations/2/RadialFiltration_38_25/gray/features.npy\n",
      "Got the result from ./1/train/filtrations/2/RadialFiltration_38_25/red/features.npy\n",
      "Got the result from ./1/train/filtrations/2/RadialFiltration_38_25/green/features.npy\n",
      "Got the result from ./1/train/filtrations/2/RadialFiltration_38_25/blue/features.npy\n",
      "Applying filtration 19/72: 2/RadialFiltration_38_38\n",
      "RGB images received. Transforming to grayscale.\n"
     ]
    },
    {
     "name": "stderr",
     "output_type": "stream",
     "text": [
      "rgb2gray: 100%|██████████| 9030/9030 [00:01<00:00, 5527.95it/s]\n"
     ]
    },
    {
     "name": "stdout",
     "output_type": "stream",
     "text": [
      "Got the result from ./1/train/filtrations/2/RadialFiltration_38_38/gray/features.npy\n",
      "Got the result from ./1/train/filtrations/2/RadialFiltration_38_38/red/features.npy\n",
      "Got the result from ./1/train/filtrations/2/RadialFiltration_38_38/green/features.npy\n",
      "Got the result from ./1/train/filtrations/2/RadialFiltration_38_38/blue/features.npy\n",
      "Applying filtration 20/72: 2/RadialFiltration_38_51\n",
      "RGB images received. Transforming to grayscale.\n"
     ]
    },
    {
     "name": "stderr",
     "output_type": "stream",
     "text": [
      "rgb2gray: 100%|██████████| 9030/9030 [00:01<00:00, 4966.61it/s]\n"
     ]
    },
    {
     "name": "stdout",
     "output_type": "stream",
     "text": [
      "Got the result from ./1/train/filtrations/2/RadialFiltration_38_51/gray/features.npy\n",
      "Got the result from ./1/train/filtrations/2/RadialFiltration_38_51/red/features.npy\n",
      "Got the result from ./1/train/filtrations/2/RadialFiltration_38_51/green/features.npy\n",
      "Got the result from ./1/train/filtrations/2/RadialFiltration_38_51/blue/features.npy\n",
      "Applying filtration 21/72: 2/RadialFiltration_51_12\n",
      "RGB images received. Transforming to grayscale.\n"
     ]
    },
    {
     "name": "stderr",
     "output_type": "stream",
     "text": [
      "rgb2gray: 100%|██████████| 9030/9030 [00:01<00:00, 5596.49it/s]\n"
     ]
    },
    {
     "name": "stdout",
     "output_type": "stream",
     "text": [
      "Got the result from ./1/train/filtrations/2/RadialFiltration_51_12/gray/features.npy\n",
      "Got the result from ./1/train/filtrations/2/RadialFiltration_51_12/red/features.npy\n",
      "Got the result from ./1/train/filtrations/2/RadialFiltration_51_12/green/features.npy\n",
      "Got the result from ./1/train/filtrations/2/RadialFiltration_51_12/blue/features.npy\n",
      "Applying filtration 22/72: 2/RadialFiltration_51_25\n",
      "RGB images received. Transforming to grayscale.\n"
     ]
    },
    {
     "name": "stderr",
     "output_type": "stream",
     "text": [
      "rgb2gray: 100%|██████████| 9030/9030 [00:01<00:00, 5439.59it/s]\n"
     ]
    },
    {
     "name": "stdout",
     "output_type": "stream",
     "text": [
      "Got the result from ./1/train/filtrations/2/RadialFiltration_51_25/gray/features.npy\n",
      "Got the result from ./1/train/filtrations/2/RadialFiltration_51_25/red/features.npy\n",
      "Got the result from ./1/train/filtrations/2/RadialFiltration_51_25/green/features.npy\n",
      "Got the result from ./1/train/filtrations/2/RadialFiltration_51_25/blue/features.npy\n",
      "Applying filtration 23/72: 2/RadialFiltration_51_38\n",
      "RGB images received. Transforming to grayscale.\n"
     ]
    },
    {
     "name": "stderr",
     "output_type": "stream",
     "text": [
      "rgb2gray: 100%|██████████| 9030/9030 [00:01<00:00, 5603.43it/s]\n"
     ]
    },
    {
     "name": "stdout",
     "output_type": "stream",
     "text": [
      "Got the result from ./1/train/filtrations/2/RadialFiltration_51_38/gray/features.npy\n",
      "Got the result from ./1/train/filtrations/2/RadialFiltration_51_38/red/features.npy\n",
      "Got the result from ./1/train/filtrations/2/RadialFiltration_51_38/green/features.npy\n",
      "Got the result from ./1/train/filtrations/2/RadialFiltration_51_38/blue/features.npy\n",
      "Applying filtration 24/72: 2/RadialFiltration_51_51\n",
      "RGB images received. Transforming to grayscale.\n"
     ]
    },
    {
     "name": "stderr",
     "output_type": "stream",
     "text": [
      "rgb2gray: 100%|██████████| 9030/9030 [00:01<00:00, 5252.03it/s]\n"
     ]
    },
    {
     "name": "stdout",
     "output_type": "stream",
     "text": [
      "Got the result from ./1/train/filtrations/2/RadialFiltration_51_51/gray/features.npy\n",
      "Got the result from ./1/train/filtrations/2/RadialFiltration_51_51/red/features.npy\n",
      "Got the result from ./1/train/filtrations/2/RadialFiltration_51_51/green/features.npy\n",
      "Got the result from ./1/train/filtrations/2/RadialFiltration_51_51/blue/features.npy\n",
      "Applying filtration 25/72: 4/HeightFiltrartion_-1_-1\n",
      "RGB images received. Transforming to grayscale.\n"
     ]
    },
    {
     "name": "stderr",
     "output_type": "stream",
     "text": [
      "rgb2gray: 100%|██████████| 9030/9030 [00:01<00:00, 5482.42it/s]\n"
     ]
    },
    {
     "name": "stdout",
     "output_type": "stream",
     "text": [
      "Got the result from ./1/train/filtrations/4/HeightFiltrartion_-1_-1/gray/features.npy\n",
      "Got the result from ./1/train/filtrations/4/HeightFiltrartion_-1_-1/red/features.npy\n",
      "Got the result from ./1/train/filtrations/4/HeightFiltrartion_-1_-1/green/features.npy\n",
      "Got the result from ./1/train/filtrations/4/HeightFiltrartion_-1_-1/blue/features.npy\n",
      "Applying filtration 26/72: 4/HeightFiltrartion_1_1\n",
      "RGB images received. Transforming to grayscale.\n"
     ]
    },
    {
     "name": "stderr",
     "output_type": "stream",
     "text": [
      "rgb2gray: 100%|██████████| 9030/9030 [00:01<00:00, 5481.07it/s]\n"
     ]
    },
    {
     "name": "stdout",
     "output_type": "stream",
     "text": [
      "Got the result from ./1/train/filtrations/4/HeightFiltrartion_1_1/gray/features.npy\n",
      "Got the result from ./1/train/filtrations/4/HeightFiltrartion_1_1/red/features.npy\n",
      "Got the result from ./1/train/filtrations/4/HeightFiltrartion_1_1/green/features.npy\n",
      "Got the result from ./1/train/filtrations/4/HeightFiltrartion_1_1/blue/features.npy\n",
      "Applying filtration 27/72: 4/HeightFiltrartion_1_-1\n",
      "RGB images received. Transforming to grayscale.\n"
     ]
    },
    {
     "name": "stderr",
     "output_type": "stream",
     "text": [
      "rgb2gray: 100%|██████████| 9030/9030 [00:01<00:00, 5684.57it/s]\n"
     ]
    },
    {
     "name": "stdout",
     "output_type": "stream",
     "text": [
      "Got the result from ./1/train/filtrations/4/HeightFiltrartion_1_-1/gray/features.npy\n",
      "Got the result from ./1/train/filtrations/4/HeightFiltrartion_1_-1/red/features.npy\n",
      "Got the result from ./1/train/filtrations/4/HeightFiltrartion_1_-1/green/features.npy\n",
      "Got the result from ./1/train/filtrations/4/HeightFiltrartion_1_-1/blue/features.npy\n",
      "Applying filtration 28/72: 4/HeightFiltrartion_-1_1\n",
      "RGB images received. Transforming to grayscale.\n"
     ]
    },
    {
     "name": "stderr",
     "output_type": "stream",
     "text": [
      "rgb2gray: 100%|██████████| 9030/9030 [00:01<00:00, 5375.34it/s]\n"
     ]
    },
    {
     "name": "stdout",
     "output_type": "stream",
     "text": [
      "Got the result from ./1/train/filtrations/4/HeightFiltrartion_-1_1/gray/features.npy\n",
      "Got the result from ./1/train/filtrations/4/HeightFiltrartion_-1_1/red/features.npy\n",
      "Got the result from ./1/train/filtrations/4/HeightFiltrartion_-1_1/green/features.npy\n",
      "Got the result from ./1/train/filtrations/4/HeightFiltrartion_-1_1/blue/features.npy\n",
      "Applying filtration 29/72: 4/HeightFiltrartion_0_-1\n",
      "RGB images received. Transforming to grayscale.\n"
     ]
    },
    {
     "name": "stderr",
     "output_type": "stream",
     "text": [
      "rgb2gray: 100%|██████████| 9030/9030 [00:01<00:00, 5471.57it/s]\n"
     ]
    },
    {
     "name": "stdout",
     "output_type": "stream",
     "text": [
      "Got the result from ./1/train/filtrations/4/HeightFiltrartion_0_-1/gray/features.npy\n",
      "Got the result from ./1/train/filtrations/4/HeightFiltrartion_0_-1/red/features.npy\n",
      "Got the result from ./1/train/filtrations/4/HeightFiltrartion_0_-1/green/features.npy\n",
      "Got the result from ./1/train/filtrations/4/HeightFiltrartion_0_-1/blue/features.npy\n",
      "Applying filtration 30/72: 4/HeightFiltrartion_0_1\n",
      "RGB images received. Transforming to grayscale.\n"
     ]
    },
    {
     "name": "stderr",
     "output_type": "stream",
     "text": [
      "rgb2gray: 100%|██████████| 9030/9030 [00:01<00:00, 5558.59it/s]\n"
     ]
    },
    {
     "name": "stdout",
     "output_type": "stream",
     "text": [
      "Got the result from ./1/train/filtrations/4/HeightFiltrartion_0_1/gray/features.npy\n",
      "Got the result from ./1/train/filtrations/4/HeightFiltrartion_0_1/red/features.npy\n",
      "Got the result from ./1/train/filtrations/4/HeightFiltrartion_0_1/green/features.npy\n",
      "Got the result from ./1/train/filtrations/4/HeightFiltrartion_0_1/blue/features.npy\n",
      "Applying filtration 31/72: 4/HeightFiltrartion_-1_0\n",
      "RGB images received. Transforming to grayscale.\n"
     ]
    },
    {
     "name": "stderr",
     "output_type": "stream",
     "text": [
      "rgb2gray: 100%|██████████| 9030/9030 [00:01<00:00, 5059.25it/s]\n"
     ]
    },
    {
     "name": "stdout",
     "output_type": "stream",
     "text": [
      "Got the result from ./1/train/filtrations/4/HeightFiltrartion_-1_0/gray/features.npy\n",
      "Got the result from ./1/train/filtrations/4/HeightFiltrartion_-1_0/red/features.npy\n",
      "Got the result from ./1/train/filtrations/4/HeightFiltrartion_-1_0/green/features.npy\n",
      "Got the result from ./1/train/filtrations/4/HeightFiltrartion_-1_0/blue/features.npy\n",
      "Applying filtration 32/72: 4/HeightFiltrartion_1_0\n",
      "RGB images received. Transforming to grayscale.\n"
     ]
    },
    {
     "name": "stderr",
     "output_type": "stream",
     "text": [
      "rgb2gray: 100%|██████████| 9030/9030 [00:01<00:00, 5402.31it/s]\n"
     ]
    },
    {
     "name": "stdout",
     "output_type": "stream",
     "text": [
      "Got the result from ./1/train/filtrations/4/HeightFiltrartion_1_0/gray/features.npy\n",
      "Got the result from ./1/train/filtrations/4/HeightFiltrartion_1_0/red/features.npy\n",
      "Got the result from ./1/train/filtrations/4/HeightFiltrartion_1_0/green/features.npy\n",
      "Got the result from ./1/train/filtrations/4/HeightFiltrartion_1_0/blue/features.npy\n",
      "Applying filtration 33/72: 4/RadialFiltration_12_12\n",
      "RGB images received. Transforming to grayscale.\n"
     ]
    },
    {
     "name": "stderr",
     "output_type": "stream",
     "text": [
      "rgb2gray: 100%|██████████| 9030/9030 [00:02<00:00, 4151.72it/s]\n"
     ]
    },
    {
     "name": "stdout",
     "output_type": "stream",
     "text": [
      "Got the result from ./1/train/filtrations/4/RadialFiltration_12_12/gray/features.npy\n",
      "Got the result from ./1/train/filtrations/4/RadialFiltration_12_12/red/features.npy\n",
      "Got the result from ./1/train/filtrations/4/RadialFiltration_12_12/green/features.npy\n",
      "Got the result from ./1/train/filtrations/4/RadialFiltration_12_12/blue/features.npy\n",
      "Applying filtration 34/72: 4/RadialFiltration_12_25\n",
      "RGB images received. Transforming to grayscale.\n"
     ]
    },
    {
     "name": "stderr",
     "output_type": "stream",
     "text": [
      "rgb2gray: 100%|██████████| 9030/9030 [00:01<00:00, 5479.37it/s]\n"
     ]
    },
    {
     "name": "stdout",
     "output_type": "stream",
     "text": [
      "Got the result from ./1/train/filtrations/4/RadialFiltration_12_25/gray/features.npy\n",
      "Got the result from ./1/train/filtrations/4/RadialFiltration_12_25/red/features.npy\n",
      "Got the result from ./1/train/filtrations/4/RadialFiltration_12_25/green/features.npy\n",
      "Got the result from ./1/train/filtrations/4/RadialFiltration_12_25/blue/features.npy\n",
      "Applying filtration 35/72: 4/RadialFiltration_12_38\n",
      "RGB images received. Transforming to grayscale.\n"
     ]
    },
    {
     "name": "stderr",
     "output_type": "stream",
     "text": [
      "rgb2gray: 100%|██████████| 9030/9030 [00:01<00:00, 5516.33it/s]\n"
     ]
    },
    {
     "name": "stdout",
     "output_type": "stream",
     "text": [
      "Got the result from ./1/train/filtrations/4/RadialFiltration_12_38/gray/features.npy\n",
      "Got the result from ./1/train/filtrations/4/RadialFiltration_12_38/red/features.npy\n",
      "Got the result from ./1/train/filtrations/4/RadialFiltration_12_38/green/features.npy\n",
      "Got the result from ./1/train/filtrations/4/RadialFiltration_12_38/blue/features.npy\n",
      "Applying filtration 36/72: 4/RadialFiltration_12_51\n",
      "RGB images received. Transforming to grayscale.\n"
     ]
    },
    {
     "name": "stderr",
     "output_type": "stream",
     "text": [
      "rgb2gray: 100%|██████████| 9030/9030 [00:01<00:00, 5407.19it/s]\n"
     ]
    },
    {
     "name": "stdout",
     "output_type": "stream",
     "text": [
      "Got the result from ./1/train/filtrations/4/RadialFiltration_12_51/gray/features.npy\n",
      "Got the result from ./1/train/filtrations/4/RadialFiltration_12_51/red/features.npy\n",
      "Got the result from ./1/train/filtrations/4/RadialFiltration_12_51/green/features.npy\n",
      "Got the result from ./1/train/filtrations/4/RadialFiltration_12_51/blue/features.npy\n",
      "Applying filtration 37/72: 4/RadialFiltration_25_12\n",
      "RGB images received. Transforming to grayscale.\n"
     ]
    },
    {
     "name": "stderr",
     "output_type": "stream",
     "text": [
      "rgb2gray: 100%|██████████| 9030/9030 [00:01<00:00, 5225.69it/s]\n"
     ]
    },
    {
     "name": "stdout",
     "output_type": "stream",
     "text": [
      "Got the result from ./1/train/filtrations/4/RadialFiltration_25_12/gray/features.npy\n",
      "Got the result from ./1/train/filtrations/4/RadialFiltration_25_12/red/features.npy\n",
      "Got the result from ./1/train/filtrations/4/RadialFiltration_25_12/green/features.npy\n",
      "Got the result from ./1/train/filtrations/4/RadialFiltration_25_12/blue/features.npy\n",
      "Applying filtration 38/72: 4/RadialFiltration_25_25\n",
      "RGB images received. Transforming to grayscale.\n"
     ]
    },
    {
     "name": "stderr",
     "output_type": "stream",
     "text": [
      "rgb2gray: 100%|██████████| 9030/9030 [00:01<00:00, 5118.73it/s]\n"
     ]
    },
    {
     "name": "stdout",
     "output_type": "stream",
     "text": [
      "Got the result from ./1/train/filtrations/4/RadialFiltration_25_25/gray/features.npy\n",
      "Got the result from ./1/train/filtrations/4/RadialFiltration_25_25/red/features.npy\n",
      "Got the result from ./1/train/filtrations/4/RadialFiltration_25_25/green/features.npy\n",
      "Got the result from ./1/train/filtrations/4/RadialFiltration_25_25/blue/features.npy\n",
      "Applying filtration 39/72: 4/RadialFiltration_25_38\n",
      "RGB images received. Transforming to grayscale.\n"
     ]
    },
    {
     "name": "stderr",
     "output_type": "stream",
     "text": [
      "rgb2gray: 100%|██████████| 9030/9030 [00:01<00:00, 5001.37it/s]\n"
     ]
    },
    {
     "name": "stdout",
     "output_type": "stream",
     "text": [
      "Got the result from ./1/train/filtrations/4/RadialFiltration_25_38/gray/features.npy\n",
      "Got the result from ./1/train/filtrations/4/RadialFiltration_25_38/red/features.npy\n",
      "Got the result from ./1/train/filtrations/4/RadialFiltration_25_38/green/features.npy\n",
      "Got the result from ./1/train/filtrations/4/RadialFiltration_25_38/blue/features.npy\n",
      "Applying filtration 40/72: 4/RadialFiltration_25_51\n",
      "RGB images received. Transforming to grayscale.\n"
     ]
    },
    {
     "name": "stderr",
     "output_type": "stream",
     "text": [
      "rgb2gray: 100%|██████████| 9030/9030 [00:01<00:00, 5302.40it/s]\n"
     ]
    },
    {
     "name": "stdout",
     "output_type": "stream",
     "text": [
      "Got the result from ./1/train/filtrations/4/RadialFiltration_25_51/gray/features.npy\n",
      "Got the result from ./1/train/filtrations/4/RadialFiltration_25_51/red/features.npy\n",
      "Got the result from ./1/train/filtrations/4/RadialFiltration_25_51/green/features.npy\n",
      "Got the result from ./1/train/filtrations/4/RadialFiltration_25_51/blue/features.npy\n",
      "Applying filtration 41/72: 4/RadialFiltration_38_12\n",
      "RGB images received. Transforming to grayscale.\n"
     ]
    },
    {
     "name": "stderr",
     "output_type": "stream",
     "text": [
      "rgb2gray: 100%|██████████| 9030/9030 [00:01<00:00, 5447.93it/s]\n"
     ]
    },
    {
     "name": "stdout",
     "output_type": "stream",
     "text": [
      "Got the result from ./1/train/filtrations/4/RadialFiltration_38_12/gray/features.npy\n",
      "Got the result from ./1/train/filtrations/4/RadialFiltration_38_12/red/features.npy\n",
      "Got the result from ./1/train/filtrations/4/RadialFiltration_38_12/green/features.npy\n",
      "Got the result from ./1/train/filtrations/4/RadialFiltration_38_12/blue/features.npy\n",
      "Applying filtration 42/72: 4/RadialFiltration_38_25\n",
      "RGB images received. Transforming to grayscale.\n"
     ]
    },
    {
     "name": "stderr",
     "output_type": "stream",
     "text": [
      "rgb2gray: 100%|██████████| 9030/9030 [00:01<00:00, 5206.08it/s]\n"
     ]
    },
    {
     "name": "stdout",
     "output_type": "stream",
     "text": [
      "Got the result from ./1/train/filtrations/4/RadialFiltration_38_25/gray/features.npy\n",
      "Got the result from ./1/train/filtrations/4/RadialFiltration_38_25/red/features.npy\n",
      "Got the result from ./1/train/filtrations/4/RadialFiltration_38_25/green/features.npy\n",
      "Got the result from ./1/train/filtrations/4/RadialFiltration_38_25/blue/features.npy\n",
      "Applying filtration 43/72: 4/RadialFiltration_38_38\n",
      "RGB images received. Transforming to grayscale.\n"
     ]
    },
    {
     "name": "stderr",
     "output_type": "stream",
     "text": [
      "rgb2gray: 100%|██████████| 9030/9030 [00:01<00:00, 5344.75it/s]\n"
     ]
    },
    {
     "name": "stdout",
     "output_type": "stream",
     "text": [
      "Got the result from ./1/train/filtrations/4/RadialFiltration_38_38/gray/features.npy\n",
      "Got the result from ./1/train/filtrations/4/RadialFiltration_38_38/red/features.npy\n",
      "Got the result from ./1/train/filtrations/4/RadialFiltration_38_38/green/features.npy\n",
      "Got the result from ./1/train/filtrations/4/RadialFiltration_38_38/blue/features.npy\n",
      "Applying filtration 44/72: 4/RadialFiltration_38_51\n",
      "RGB images received. Transforming to grayscale.\n"
     ]
    },
    {
     "name": "stderr",
     "output_type": "stream",
     "text": [
      "rgb2gray: 100%|██████████| 9030/9030 [00:01<00:00, 5083.00it/s]\n"
     ]
    },
    {
     "name": "stdout",
     "output_type": "stream",
     "text": [
      "Got the result from ./1/train/filtrations/4/RadialFiltration_38_51/gray/features.npy\n",
      "Got the result from ./1/train/filtrations/4/RadialFiltration_38_51/red/features.npy\n",
      "Got the result from ./1/train/filtrations/4/RadialFiltration_38_51/green/features.npy\n",
      "Got the result from ./1/train/filtrations/4/RadialFiltration_38_51/blue/features.npy\n",
      "Applying filtration 45/72: 4/RadialFiltration_51_12\n",
      "RGB images received. Transforming to grayscale.\n"
     ]
    },
    {
     "name": "stderr",
     "output_type": "stream",
     "text": [
      "rgb2gray: 100%|██████████| 9030/9030 [00:01<00:00, 5529.71it/s]\n"
     ]
    },
    {
     "name": "stdout",
     "output_type": "stream",
     "text": [
      "Got the result from ./1/train/filtrations/4/RadialFiltration_51_12/gray/features.npy\n",
      "Got the result from ./1/train/filtrations/4/RadialFiltration_51_12/red/features.npy\n",
      "Got the result from ./1/train/filtrations/4/RadialFiltration_51_12/green/features.npy\n",
      "Got the result from ./1/train/filtrations/4/RadialFiltration_51_12/blue/features.npy\n",
      "Applying filtration 46/72: 4/RadialFiltration_51_25\n",
      "RGB images received. Transforming to grayscale.\n"
     ]
    },
    {
     "name": "stderr",
     "output_type": "stream",
     "text": [
      "rgb2gray: 100%|██████████| 9030/9030 [00:01<00:00, 5174.78it/s]\n"
     ]
    },
    {
     "name": "stdout",
     "output_type": "stream",
     "text": [
      "Got the result from ./1/train/filtrations/4/RadialFiltration_51_25/gray/features.npy\n",
      "Got the result from ./1/train/filtrations/4/RadialFiltration_51_25/red/features.npy\n",
      "Got the result from ./1/train/filtrations/4/RadialFiltration_51_25/green/features.npy\n",
      "Got the result from ./1/train/filtrations/4/RadialFiltration_51_25/blue/features.npy\n",
      "Applying filtration 47/72: 4/RadialFiltration_51_38\n",
      "RGB images received. Transforming to grayscale.\n"
     ]
    },
    {
     "name": "stderr",
     "output_type": "stream",
     "text": [
      "rgb2gray: 100%|██████████| 9030/9030 [00:01<00:00, 5553.50it/s]\n"
     ]
    },
    {
     "name": "stdout",
     "output_type": "stream",
     "text": [
      "Got the result from ./1/train/filtrations/4/RadialFiltration_51_38/gray/features.npy\n",
      "Got the result from ./1/train/filtrations/4/RadialFiltration_51_38/red/features.npy\n",
      "Got the result from ./1/train/filtrations/4/RadialFiltration_51_38/green/features.npy\n",
      "Got the result from ./1/train/filtrations/4/RadialFiltration_51_38/blue/features.npy\n",
      "Applying filtration 48/72: 4/RadialFiltration_51_51\n",
      "RGB images received. Transforming to grayscale.\n"
     ]
    },
    {
     "name": "stderr",
     "output_type": "stream",
     "text": [
      "rgb2gray: 100%|██████████| 9030/9030 [00:01<00:00, 5394.27it/s]\n"
     ]
    },
    {
     "name": "stdout",
     "output_type": "stream",
     "text": [
      "Got the result from ./1/train/filtrations/4/RadialFiltration_51_51/gray/features.npy\n",
      "Got the result from ./1/train/filtrations/4/RadialFiltration_51_51/red/features.npy\n",
      "Got the result from ./1/train/filtrations/4/RadialFiltration_51_51/green/features.npy\n",
      "Got the result from ./1/train/filtrations/4/RadialFiltration_51_51/blue/features.npy\n",
      "Applying filtration 49/72: 6/HeightFiltrartion_-1_-1\n",
      "RGB images received. Transforming to grayscale.\n"
     ]
    },
    {
     "name": "stderr",
     "output_type": "stream",
     "text": [
      "rgb2gray: 100%|██████████| 9030/9030 [00:01<00:00, 5550.10it/s]\n"
     ]
    },
    {
     "name": "stdout",
     "output_type": "stream",
     "text": [
      "Got the result from ./1/train/filtrations/6/HeightFiltrartion_-1_-1/gray/features.npy\n",
      "Got the result from ./1/train/filtrations/6/HeightFiltrartion_-1_-1/red/features.npy\n",
      "Got the result from ./1/train/filtrations/6/HeightFiltrartion_-1_-1/green/features.npy\n",
      "Got the result from ./1/train/filtrations/6/HeightFiltrartion_-1_-1/blue/features.npy\n",
      "Applying filtration 50/72: 6/HeightFiltrartion_1_1\n",
      "RGB images received. Transforming to grayscale.\n"
     ]
    },
    {
     "name": "stderr",
     "output_type": "stream",
     "text": [
      "rgb2gray: 100%|██████████| 9030/9030 [00:01<00:00, 5533.09it/s]\n"
     ]
    },
    {
     "name": "stdout",
     "output_type": "stream",
     "text": [
      "Got the result from ./1/train/filtrations/6/HeightFiltrartion_1_1/gray/features.npy\n",
      "Got the result from ./1/train/filtrations/6/HeightFiltrartion_1_1/red/features.npy\n",
      "Got the result from ./1/train/filtrations/6/HeightFiltrartion_1_1/green/features.npy\n",
      "Got the result from ./1/train/filtrations/6/HeightFiltrartion_1_1/blue/features.npy\n",
      "Applying filtration 51/72: 6/HeightFiltrartion_1_-1\n",
      "RGB images received. Transforming to grayscale.\n"
     ]
    },
    {
     "name": "stderr",
     "output_type": "stream",
     "text": [
      "rgb2gray: 100%|██████████| 9030/9030 [00:01<00:00, 5413.67it/s]\n"
     ]
    },
    {
     "name": "stdout",
     "output_type": "stream",
     "text": [
      "Got the result from ./1/train/filtrations/6/HeightFiltrartion_1_-1/gray/features.npy\n",
      "Got the result from ./1/train/filtrations/6/HeightFiltrartion_1_-1/red/features.npy\n",
      "Got the result from ./1/train/filtrations/6/HeightFiltrartion_1_-1/green/features.npy\n",
      "Got the result from ./1/train/filtrations/6/HeightFiltrartion_1_-1/blue/features.npy\n",
      "Applying filtration 52/72: 6/HeightFiltrartion_-1_1\n",
      "RGB images received. Transforming to grayscale.\n"
     ]
    },
    {
     "name": "stderr",
     "output_type": "stream",
     "text": [
      "rgb2gray: 100%|██████████| 9030/9030 [00:01<00:00, 5601.74it/s] \n"
     ]
    },
    {
     "name": "stdout",
     "output_type": "stream",
     "text": [
      "Got the result from ./1/train/filtrations/6/HeightFiltrartion_-1_1/gray/features.npy\n",
      "Got the result from ./1/train/filtrations/6/HeightFiltrartion_-1_1/red/features.npy\n",
      "Got the result from ./1/train/filtrations/6/HeightFiltrartion_-1_1/green/features.npy\n",
      "Got the result from ./1/train/filtrations/6/HeightFiltrartion_-1_1/blue/features.npy\n",
      "Applying filtration 53/72: 6/HeightFiltrartion_0_-1\n",
      "RGB images received. Transforming to grayscale.\n"
     ]
    },
    {
     "name": "stderr",
     "output_type": "stream",
     "text": [
      "rgb2gray: 100%|██████████| 9030/9030 [00:01<00:00, 5381.40it/s]\n"
     ]
    },
    {
     "name": "stdout",
     "output_type": "stream",
     "text": [
      "Got the result from ./1/train/filtrations/6/HeightFiltrartion_0_-1/gray/features.npy\n",
      "Got the result from ./1/train/filtrations/6/HeightFiltrartion_0_-1/red/features.npy\n",
      "Got the result from ./1/train/filtrations/6/HeightFiltrartion_0_-1/green/features.npy\n",
      "Got the result from ./1/train/filtrations/6/HeightFiltrartion_0_-1/blue/features.npy\n",
      "Applying filtration 54/72: 6/HeightFiltrartion_0_1\n",
      "RGB images received. Transforming to grayscale.\n"
     ]
    },
    {
     "name": "stderr",
     "output_type": "stream",
     "text": [
      "rgb2gray: 100%|██████████| 9030/9030 [00:01<00:00, 5413.68it/s]\n"
     ]
    },
    {
     "name": "stdout",
     "output_type": "stream",
     "text": [
      "Got the result from ./1/train/filtrations/6/HeightFiltrartion_0_1/gray/features.npy\n",
      "Got the result from ./1/train/filtrations/6/HeightFiltrartion_0_1/red/features.npy\n",
      "Got the result from ./1/train/filtrations/6/HeightFiltrartion_0_1/green/features.npy\n",
      "Got the result from ./1/train/filtrations/6/HeightFiltrartion_0_1/blue/features.npy\n",
      "Applying filtration 55/72: 6/HeightFiltrartion_-1_0\n",
      "RGB images received. Transforming to grayscale.\n"
     ]
    },
    {
     "name": "stderr",
     "output_type": "stream",
     "text": [
      "rgb2gray: 100%|██████████| 9030/9030 [00:01<00:00, 5397.49it/s]\n"
     ]
    },
    {
     "name": "stdout",
     "output_type": "stream",
     "text": [
      "Got the result from ./1/train/filtrations/6/HeightFiltrartion_-1_0/gray/features.npy\n",
      "Got the result from ./1/train/filtrations/6/HeightFiltrartion_-1_0/red/features.npy\n",
      "Got the result from ./1/train/filtrations/6/HeightFiltrartion_-1_0/green/features.npy\n",
      "Got the result from ./1/train/filtrations/6/HeightFiltrartion_-1_0/blue/features.npy\n",
      "Applying filtration 56/72: 6/HeightFiltrartion_1_0\n",
      "RGB images received. Transforming to grayscale.\n"
     ]
    },
    {
     "name": "stderr",
     "output_type": "stream",
     "text": [
      "rgb2gray: 100%|██████████| 9030/9030 [00:01<00:00, 4956.09it/s]\n"
     ]
    },
    {
     "name": "stdout",
     "output_type": "stream",
     "text": [
      "Got the result from ./1/train/filtrations/6/HeightFiltrartion_1_0/gray/features.npy\n",
      "Got the result from ./1/train/filtrations/6/HeightFiltrartion_1_0/red/features.npy\n",
      "Got the result from ./1/train/filtrations/6/HeightFiltrartion_1_0/green/features.npy\n",
      "Got the result from ./1/train/filtrations/6/HeightFiltrartion_1_0/blue/features.npy\n",
      "Applying filtration 57/72: 6/RadialFiltration_12_12\n",
      "RGB images received. Transforming to grayscale.\n"
     ]
    },
    {
     "name": "stderr",
     "output_type": "stream",
     "text": [
      "rgb2gray: 100%|██████████| 9030/9030 [00:01<00:00, 5410.43it/s]\n"
     ]
    },
    {
     "name": "stdout",
     "output_type": "stream",
     "text": [
      "Got the result from ./1/train/filtrations/6/RadialFiltration_12_12/gray/features.npy\n",
      "Got the result from ./1/train/filtrations/6/RadialFiltration_12_12/red/features.npy\n",
      "Got the result from ./1/train/filtrations/6/RadialFiltration_12_12/green/features.npy\n",
      "Got the result from ./1/train/filtrations/6/RadialFiltration_12_12/blue/features.npy\n",
      "Applying filtration 58/72: 6/RadialFiltration_12_25\n",
      "RGB images received. Transforming to grayscale.\n"
     ]
    },
    {
     "name": "stderr",
     "output_type": "stream",
     "text": [
      "rgb2gray: 100%|██████████| 9030/9030 [00:01<00:00, 5469.41it/s]\n"
     ]
    },
    {
     "name": "stdout",
     "output_type": "stream",
     "text": [
      "Got the result from ./1/train/filtrations/6/RadialFiltration_12_25/gray/features.npy\n",
      "Got the result from ./1/train/filtrations/6/RadialFiltration_12_25/red/features.npy\n",
      "Got the result from ./1/train/filtrations/6/RadialFiltration_12_25/green/features.npy\n",
      "Got the result from ./1/train/filtrations/6/RadialFiltration_12_25/blue/features.npy\n",
      "Applying filtration 59/72: 6/RadialFiltration_12_38\n",
      "RGB images received. Transforming to grayscale.\n"
     ]
    },
    {
     "name": "stderr",
     "output_type": "stream",
     "text": [
      "rgb2gray: 100%|██████████| 9030/9030 [00:01<00:00, 5456.18it/s]\n"
     ]
    },
    {
     "name": "stdout",
     "output_type": "stream",
     "text": [
      "Got the result from ./1/train/filtrations/6/RadialFiltration_12_38/gray/features.npy\n",
      "Got the result from ./1/train/filtrations/6/RadialFiltration_12_38/red/features.npy\n",
      "Got the result from ./1/train/filtrations/6/RadialFiltration_12_38/green/features.npy\n",
      "Got the result from ./1/train/filtrations/6/RadialFiltration_12_38/blue/features.npy\n",
      "Applying filtration 60/72: 6/RadialFiltration_12_51\n",
      "RGB images received. Transforming to grayscale.\n"
     ]
    },
    {
     "name": "stderr",
     "output_type": "stream",
     "text": [
      "rgb2gray: 100%|██████████| 9030/9030 [00:01<00:00, 5286.88it/s]\n"
     ]
    },
    {
     "name": "stdout",
     "output_type": "stream",
     "text": [
      "Got the result from ./1/train/filtrations/6/RadialFiltration_12_51/gray/features.npy\n",
      "Got the result from ./1/train/filtrations/6/RadialFiltration_12_51/red/features.npy\n",
      "Got the result from ./1/train/filtrations/6/RadialFiltration_12_51/green/features.npy\n",
      "Got the result from ./1/train/filtrations/6/RadialFiltration_12_51/blue/features.npy\n",
      "Applying filtration 61/72: 6/RadialFiltration_25_12\n",
      "RGB images received. Transforming to grayscale.\n"
     ]
    },
    {
     "name": "stderr",
     "output_type": "stream",
     "text": [
      "rgb2gray: 100%|██████████| 9030/9030 [00:01<00:00, 5008.32it/s]\n"
     ]
    },
    {
     "name": "stdout",
     "output_type": "stream",
     "text": [
      "Got the result from ./1/train/filtrations/6/RadialFiltration_25_12/gray/features.npy\n",
      "Got the result from ./1/train/filtrations/6/RadialFiltration_25_12/red/features.npy\n",
      "Got the result from ./1/train/filtrations/6/RadialFiltration_25_12/green/features.npy\n",
      "Got the result from ./1/train/filtrations/6/RadialFiltration_25_12/blue/features.npy\n",
      "Applying filtration 62/72: 6/RadialFiltration_25_25\n",
      "RGB images received. Transforming to grayscale.\n"
     ]
    },
    {
     "name": "stderr",
     "output_type": "stream",
     "text": [
      "rgb2gray: 100%|██████████| 9030/9030 [00:01<00:00, 5472.73it/s]\n"
     ]
    },
    {
     "name": "stdout",
     "output_type": "stream",
     "text": [
      "Got the result from ./1/train/filtrations/6/RadialFiltration_25_25/gray/features.npy\n",
      "Got the result from ./1/train/filtrations/6/RadialFiltration_25_25/red/features.npy\n",
      "Got the result from ./1/train/filtrations/6/RadialFiltration_25_25/green/features.npy\n",
      "Got the result from ./1/train/filtrations/6/RadialFiltration_25_25/blue/features.npy\n",
      "Applying filtration 63/72: 6/RadialFiltration_25_38\n",
      "RGB images received. Transforming to grayscale.\n"
     ]
    },
    {
     "name": "stderr",
     "output_type": "stream",
     "text": [
      "rgb2gray: 100%|██████████| 9030/9030 [00:01<00:00, 5347.92it/s]\n"
     ]
    },
    {
     "name": "stdout",
     "output_type": "stream",
     "text": [
      "Got the result from ./1/train/filtrations/6/RadialFiltration_25_38/gray/features.npy\n",
      "Got the result from ./1/train/filtrations/6/RadialFiltration_25_38/red/features.npy\n",
      "Got the result from ./1/train/filtrations/6/RadialFiltration_25_38/green/features.npy\n",
      "Got the result from ./1/train/filtrations/6/RadialFiltration_25_38/blue/features.npy\n",
      "Applying filtration 64/72: 6/RadialFiltration_25_51\n",
      "RGB images received. Transforming to grayscale.\n"
     ]
    },
    {
     "name": "stderr",
     "output_type": "stream",
     "text": [
      "rgb2gray: 100%|██████████| 9030/9030 [00:01<00:00, 5496.05it/s]\n"
     ]
    },
    {
     "name": "stdout",
     "output_type": "stream",
     "text": [
      "Got the result from ./1/train/filtrations/6/RadialFiltration_25_51/gray/features.npy\n",
      "Got the result from ./1/train/filtrations/6/RadialFiltration_25_51/red/features.npy\n",
      "Got the result from ./1/train/filtrations/6/RadialFiltration_25_51/green/features.npy\n",
      "Got the result from ./1/train/filtrations/6/RadialFiltration_25_51/blue/features.npy\n",
      "Applying filtration 65/72: 6/RadialFiltration_38_12\n",
      "RGB images received. Transforming to grayscale.\n"
     ]
    },
    {
     "name": "stderr",
     "output_type": "stream",
     "text": [
      "rgb2gray: 100%|██████████| 9030/9030 [00:01<00:00, 5120.48it/s]\n"
     ]
    },
    {
     "name": "stdout",
     "output_type": "stream",
     "text": [
      "Got the result from ./1/train/filtrations/6/RadialFiltration_38_12/gray/features.npy\n",
      "Got the result from ./1/train/filtrations/6/RadialFiltration_38_12/red/features.npy\n",
      "Got the result from ./1/train/filtrations/6/RadialFiltration_38_12/green/features.npy\n",
      "Got the result from ./1/train/filtrations/6/RadialFiltration_38_12/blue/features.npy\n",
      "Applying filtration 66/72: 6/RadialFiltration_38_25\n",
      "RGB images received. Transforming to grayscale.\n"
     ]
    },
    {
     "name": "stderr",
     "output_type": "stream",
     "text": [
      "rgb2gray: 100%|██████████| 9030/9030 [00:01<00:00, 5534.73it/s]\n"
     ]
    },
    {
     "name": "stdout",
     "output_type": "stream",
     "text": [
      "Got the result from ./1/train/filtrations/6/RadialFiltration_38_25/gray/features.npy\n",
      "Got the result from ./1/train/filtrations/6/RadialFiltration_38_25/red/features.npy\n",
      "Got the result from ./1/train/filtrations/6/RadialFiltration_38_25/green/features.npy\n",
      "Got the result from ./1/train/filtrations/6/RadialFiltration_38_25/blue/features.npy\n",
      "Applying filtration 67/72: 6/RadialFiltration_38_38\n",
      "RGB images received. Transforming to grayscale.\n"
     ]
    },
    {
     "name": "stderr",
     "output_type": "stream",
     "text": [
      "rgb2gray: 100%|██████████| 9030/9030 [00:01<00:00, 5538.65it/s]\n"
     ]
    },
    {
     "name": "stdout",
     "output_type": "stream",
     "text": [
      "Got the result from ./1/train/filtrations/6/RadialFiltration_38_38/gray/features.npy\n",
      "Got the result from ./1/train/filtrations/6/RadialFiltration_38_38/red/features.npy\n",
      "Got the result from ./1/train/filtrations/6/RadialFiltration_38_38/green/features.npy\n",
      "Got the result from ./1/train/filtrations/6/RadialFiltration_38_38/blue/features.npy\n",
      "Applying filtration 68/72: 6/RadialFiltration_38_51\n",
      "RGB images received. Transforming to grayscale.\n"
     ]
    },
    {
     "name": "stderr",
     "output_type": "stream",
     "text": [
      "rgb2gray: 100%|██████████| 9030/9030 [00:01<00:00, 5034.82it/s]\n"
     ]
    },
    {
     "name": "stdout",
     "output_type": "stream",
     "text": [
      "Got the result from ./1/train/filtrations/6/RadialFiltration_38_51/gray/features.npy\n",
      "Got the result from ./1/train/filtrations/6/RadialFiltration_38_51/red/features.npy\n",
      "Got the result from ./1/train/filtrations/6/RadialFiltration_38_51/green/features.npy\n",
      "Got the result from ./1/train/filtrations/6/RadialFiltration_38_51/blue/features.npy\n",
      "Applying filtration 69/72: 6/RadialFiltration_51_12\n",
      "RGB images received. Transforming to grayscale.\n"
     ]
    },
    {
     "name": "stderr",
     "output_type": "stream",
     "text": [
      "rgb2gray: 100%|██████████| 9030/9030 [00:01<00:00, 5555.17it/s]\n"
     ]
    },
    {
     "name": "stdout",
     "output_type": "stream",
     "text": [
      "Got the result from ./1/train/filtrations/6/RadialFiltration_51_12/gray/features.npy\n",
      "Got the result from ./1/train/filtrations/6/RadialFiltration_51_12/red/features.npy\n",
      "Got the result from ./1/train/filtrations/6/RadialFiltration_51_12/green/features.npy\n",
      "Got the result from ./1/train/filtrations/6/RadialFiltration_51_12/blue/features.npy\n",
      "Applying filtration 70/72: 6/RadialFiltration_51_25\n",
      "RGB images received. Transforming to grayscale.\n"
     ]
    },
    {
     "name": "stderr",
     "output_type": "stream",
     "text": [
      "rgb2gray: 100%|██████████| 9030/9030 [00:01<00:00, 5185.11it/s]\n"
     ]
    },
    {
     "name": "stdout",
     "output_type": "stream",
     "text": [
      "Got the result from ./1/train/filtrations/6/RadialFiltration_51_25/gray/features.npy\n",
      "Got the result from ./1/train/filtrations/6/RadialFiltration_51_25/red/features.npy\n",
      "Got the result from ./1/train/filtrations/6/RadialFiltration_51_25/green/features.npy\n",
      "Got the result from ./1/train/filtrations/6/RadialFiltration_51_25/blue/features.npy\n",
      "Applying filtration 71/72: 6/RadialFiltration_51_38\n",
      "RGB images received. Transforming to grayscale.\n"
     ]
    },
    {
     "name": "stderr",
     "output_type": "stream",
     "text": [
      "rgb2gray: 100%|██████████| 9030/9030 [00:01<00:00, 5412.01it/s]\n"
     ]
    },
    {
     "name": "stdout",
     "output_type": "stream",
     "text": [
      "Got the result from ./1/train/filtrations/6/RadialFiltration_51_38/gray/features.npy\n",
      "Got the result from ./1/train/filtrations/6/RadialFiltration_51_38/red/features.npy\n",
      "Got the result from ./1/train/filtrations/6/RadialFiltration_51_38/green/features.npy\n",
      "Got the result from ./1/train/filtrations/6/RadialFiltration_51_38/blue/features.npy\n",
      "Applying filtration 72/72: 6/RadialFiltration_51_51\n",
      "RGB images received. Transforming to grayscale.\n"
     ]
    },
    {
     "name": "stderr",
     "output_type": "stream",
     "text": [
      "rgb2gray: 100%|██████████| 9030/9030 [00:01<00:00, 5410.42it/s]\n"
     ]
    },
    {
     "name": "stdout",
     "output_type": "stream",
     "text": [
      "Got the result from ./1/train/filtrations/6/RadialFiltration_51_51/gray/features.npy\n",
      "Got the result from ./1/train/filtrations/6/RadialFiltration_51_51/red/features.npy\n",
      "Got the result from ./1/train/filtrations/6/RadialFiltration_51_51/green/features.npy\n",
      "Got the result from ./1/train/filtrations/6/RadialFiltration_51_51/blue/features.npy\n",
      "RGB images received. Transforming to grayscale.\n",
      "Got the result from ./1/train/geometry/rgb/features.npy\n"
     ]
    },
    {
     "name": "stderr",
     "output_type": "stream",
     "text": [
      "rgb2gray: 100%|██████████| 9030/9030 [00:01<00:00, 5443.05it/s]\n"
     ]
    },
    {
     "name": "stdout",
     "output_type": "stream",
     "text": [
      "Got the result from ./1/train/geometry/gray/features.npy\n",
      "Got the result from ./1/train/geometry/red/features.npy\n",
      "Got the result from ./1/train/geometry/green/features.npy\n",
      "Got the result from ./1/train/geometry/blue/features.npy\n",
      "Applying StandardScaler.\n",
      "Calculating inverted images\n",
      "RGB images received. Transforming to grayscale.\n"
     ]
    },
    {
     "name": "stderr",
     "output_type": "stream",
     "text": [
      "rgb2gray: 100%|██████████| 134/134 [00:00<00:00, 5582.30it/s]\n"
     ]
    },
    {
     "name": "stdout",
     "output_type": "stream",
     "text": [
      "Got the result from ./1/test/greyscale/gray/features.npy\n",
      "Got the result from ./1/test/greyscale/red/features.npy\n",
      "Got the result from ./1/test/greyscale/green/features.npy\n",
      "Got the result from ./1/test/greyscale/blue/features.npy\n",
      "RGB images received. Transforming to grayscale.\n"
     ]
    },
    {
     "name": "stderr",
     "output_type": "stream",
     "text": [
      "rgb2gray: 100%|██████████| 134/134 [00:00<00:00, 6091.09it/s]\n"
     ]
    },
    {
     "name": "stdout",
     "output_type": "stream",
     "text": [
      "Got the result from ./1/test/inverted_greyscale/gray/features.npy\n",
      "Got the result from ./1/test/inverted_greyscale/red/features.npy\n",
      "Got the result from ./1/test/inverted_greyscale/green/features.npy\n",
      "Got the result from ./1/test/inverted_greyscale/blue/features.npy\n",
      "Applying filtrations\n",
      "Applying filtration 1/72: 2/HeightFiltrartion_-1_-1\n",
      "RGB images received. Transforming to grayscale.\n"
     ]
    },
    {
     "name": "stderr",
     "output_type": "stream",
     "text": [
      "rgb2gray: 100%|██████████| 134/134 [00:00<00:00, 5825.30it/s]"
     ]
    },
    {
     "name": "stdout",
     "output_type": "stream",
     "text": [
      "Got the result from ./1/test/filtrations/2/HeightFiltrartion_-1_-1/gray/features.npy"
     ]
    },
    {
     "name": "stderr",
     "output_type": "stream",
     "text": [
      "\n"
     ]
    },
    {
     "name": "stdout",
     "output_type": "stream",
     "text": [
      "\n",
      "Got the result from ./1/test/filtrations/2/HeightFiltrartion_-1_-1/red/features.npy\n",
      "Got the result from ./1/test/filtrations/2/HeightFiltrartion_-1_-1/green/features.npy\n",
      "Got the result from ./1/test/filtrations/2/HeightFiltrartion_-1_-1/blue/features.npy\n",
      "Applying filtration 2/72: 2/HeightFiltrartion_1_1\n",
      "RGB images received. Transforming to grayscale.\n"
     ]
    },
    {
     "name": "stderr",
     "output_type": "stream",
     "text": [
      "rgb2gray: 100%|██████████| 134/134 [00:00<00:00, 5360.64it/s]"
     ]
    },
    {
     "name": "stdout",
     "output_type": "stream",
     "text": [
      "Got the result from ./1/test/filtrations/2/HeightFiltrartion_1_1/gray/features.npy"
     ]
    },
    {
     "name": "stderr",
     "output_type": "stream",
     "text": [
      "\n"
     ]
    },
    {
     "name": "stdout",
     "output_type": "stream",
     "text": [
      "\n",
      "Got the result from ./1/test/filtrations/2/HeightFiltrartion_1_1/red/features.npy\n",
      "Got the result from ./1/test/filtrations/2/HeightFiltrartion_1_1/green/features.npy\n",
      "Got the result from ./1/test/filtrations/2/HeightFiltrartion_1_1/blue/features.npy\n",
      "Applying filtration 3/72: 2/HeightFiltrartion_1_-1\n",
      "RGB images received. Transforming to grayscale.\n"
     ]
    },
    {
     "name": "stderr",
     "output_type": "stream",
     "text": [
      "rgb2gray: 100%|██████████| 134/134 [00:00<00:00, 4060.78it/s]\n"
     ]
    },
    {
     "name": "stdout",
     "output_type": "stream",
     "text": [
      "Got the result from ./1/test/filtrations/2/HeightFiltrartion_1_-1/gray/features.npy\n",
      "Got the result from ./1/test/filtrations/2/HeightFiltrartion_1_-1/red/features.npy\n",
      "Got the result from ./1/test/filtrations/2/HeightFiltrartion_1_-1/green/features.npy\n",
      "Got the result from ./1/test/filtrations/2/HeightFiltrartion_1_-1/blue/features.npy\n",
      "Applying filtration 4/72: 2/HeightFiltrartion_-1_1\n",
      "RGB images received. Transforming to grayscale.\n"
     ]
    },
    {
     "name": "stderr",
     "output_type": "stream",
     "text": [
      "rgb2gray: 100%|██████████| 134/134 [00:00<00:00, 4619.85it/s]\n"
     ]
    },
    {
     "name": "stdout",
     "output_type": "stream",
     "text": [
      "Got the result from ./1/test/filtrations/2/HeightFiltrartion_-1_1/gray/features.npy\n",
      "Got the result from ./1/test/filtrations/2/HeightFiltrartion_-1_1/red/features.npy\n",
      "Got the result from ./1/test/filtrations/2/HeightFiltrartion_-1_1/green/features.npy\n",
      "Got the result from ./1/test/filtrations/2/HeightFiltrartion_-1_1/blue/features.npy\n",
      "Applying filtration 5/72: 2/HeightFiltrartion_0_-1\n",
      "RGB images received. Transforming to grayscale.\n"
     ]
    },
    {
     "name": "stderr",
     "output_type": "stream",
     "text": [
      "rgb2gray: 100%|██████████| 134/134 [00:00<00:00, 5583.63it/s]"
     ]
    },
    {
     "name": "stdout",
     "output_type": "stream",
     "text": [
      "Got the result from ./1/test/filtrations/2/HeightFiltrartion_0_-1/gray/features.npy"
     ]
    },
    {
     "name": "stderr",
     "output_type": "stream",
     "text": [
      "\n"
     ]
    },
    {
     "name": "stdout",
     "output_type": "stream",
     "text": [
      "\n",
      "Got the result from ./1/test/filtrations/2/HeightFiltrartion_0_-1/red/features.npy\n",
      "Got the result from ./1/test/filtrations/2/HeightFiltrartion_0_-1/green/features.npy\n",
      "Got the result from ./1/test/filtrations/2/HeightFiltrartion_0_-1/blue/features.npy\n",
      "Applying filtration 6/72: 2/HeightFiltrartion_0_1\n",
      "RGB images received. Transforming to grayscale.\n"
     ]
    },
    {
     "name": "stderr",
     "output_type": "stream",
     "text": [
      "rgb2gray: 100%|██████████| 134/134 [00:00<00:00, 4787.00it/s]"
     ]
    },
    {
     "name": "stdout",
     "output_type": "stream",
     "text": [
      "Got the result from ./1/test/filtrations/2/HeightFiltrartion_0_1/gray/features.npy"
     ]
    },
    {
     "name": "stderr",
     "output_type": "stream",
     "text": [
      "\n"
     ]
    },
    {
     "name": "stdout",
     "output_type": "stream",
     "text": [
      "\n",
      "Got the result from ./1/test/filtrations/2/HeightFiltrartion_0_1/red/features.npy\n",
      "Got the result from ./1/test/filtrations/2/HeightFiltrartion_0_1/green/features.npy\n",
      "Got the result from ./1/test/filtrations/2/HeightFiltrartion_0_1/blue/features.npy\n",
      "Applying filtration 7/72: 2/HeightFiltrartion_-1_0\n",
      "RGB images received. Transforming to grayscale.\n"
     ]
    },
    {
     "name": "stderr",
     "output_type": "stream",
     "text": [
      "rgb2gray: 100%|██████████| 134/134 [00:00<00:00, 4962.75it/s]"
     ]
    },
    {
     "name": "stdout",
     "output_type": "stream",
     "text": [
      "Got the result from ./1/test/filtrations/2/HeightFiltrartion_-1_0/gray/features.npy\n"
     ]
    },
    {
     "name": "stderr",
     "output_type": "stream",
     "text": [
      "\n"
     ]
    },
    {
     "name": "stdout",
     "output_type": "stream",
     "text": [
      "Got the result from ./1/test/filtrations/2/HeightFiltrartion_-1_0/red/features.npy\n",
      "Got the result from ./1/test/filtrations/2/HeightFiltrartion_-1_0/green/features.npy\n",
      "Got the result from ./1/test/filtrations/2/HeightFiltrartion_-1_0/blue/features.npy\n",
      "Applying filtration 8/72: 2/HeightFiltrartion_1_0\n",
      "RGB images received. Transforming to grayscale.\n"
     ]
    },
    {
     "name": "stderr",
     "output_type": "stream",
     "text": [
      "rgb2gray: 100%|██████████| 134/134 [00:00<00:00, 6379.89it/s]\n"
     ]
    },
    {
     "name": "stdout",
     "output_type": "stream",
     "text": [
      "Got the result from ./1/test/filtrations/2/HeightFiltrartion_1_0/gray/features.npy\n",
      "Got the result from ./1/test/filtrations/2/HeightFiltrartion_1_0/red/features.npy\n",
      "Got the result from ./1/test/filtrations/2/HeightFiltrartion_1_0/green/features.npy\n",
      "Got the result from ./1/test/filtrations/2/HeightFiltrartion_1_0/blue/features.npy\n",
      "Applying filtration 9/72: 2/RadialFiltration_12_12\n",
      "RGB images received. Transforming to grayscale.\n"
     ]
    },
    {
     "name": "stderr",
     "output_type": "stream",
     "text": [
      "rgb2gray: 100%|██████████| 134/134 [00:00<00:00, 5583.29it/s]"
     ]
    },
    {
     "name": "stdout",
     "output_type": "stream",
     "text": [
      "Got the result from ./1/test/filtrations/2/RadialFiltration_12_12/gray/features.npy\n",
      "Got the result from ./1/test/filtrations/2/RadialFiltration_12_12/red/features.npy\n",
      "Got the result from ./1/test/filtrations/2/RadialFiltration_12_12/green/features.npy\n",
      "Got the result from ./1/test/filtrations/2/RadialFiltration_12_12/blue/features.npy\n"
     ]
    },
    {
     "name": "stderr",
     "output_type": "stream",
     "text": [
      "\n"
     ]
    },
    {
     "name": "stdout",
     "output_type": "stream",
     "text": [
      "Applying filtration 10/72: 2/RadialFiltration_12_25\n",
      "RGB images received. Transforming to grayscale.\n"
     ]
    },
    {
     "name": "stderr",
     "output_type": "stream",
     "text": [
      "rgb2gray: 100%|██████████| 134/134 [00:00<00:00, 5360.64it/s]"
     ]
    },
    {
     "name": "stdout",
     "output_type": "stream",
     "text": [
      "Got the result from ./1/test/filtrations/2/RadialFiltration_12_25/gray/features.npy\n",
      "Got the result from ./1/test/filtrations/2/RadialFiltration_12_25/red/features.npy\n",
      "Got the result from ./1/test/filtrations/2/RadialFiltration_12_25/green/features.npy\n",
      "Got the result from ./1/test/filtrations/2/RadialFiltration_12_25/blue/features.npy\n"
     ]
    },
    {
     "name": "stderr",
     "output_type": "stream",
     "text": [
      "\n"
     ]
    },
    {
     "name": "stdout",
     "output_type": "stream",
     "text": [
      "Applying filtration 11/72: 2/RadialFiltration_12_38\n",
      "RGB images received. Transforming to grayscale.\n"
     ]
    },
    {
     "name": "stderr",
     "output_type": "stream",
     "text": [
      "rgb2gray: 100%|██████████| 134/134 [00:00<00:00, 4962.14it/s]"
     ]
    },
    {
     "name": "stdout",
     "output_type": "stream",
     "text": [
      "Got the result from ./1/test/filtrations/2/RadialFiltration_12_38/gray/features.npy\n"
     ]
    },
    {
     "name": "stderr",
     "output_type": "stream",
     "text": [
      "\n"
     ]
    },
    {
     "name": "stdout",
     "output_type": "stream",
     "text": [
      "Got the result from ./1/test/filtrations/2/RadialFiltration_12_38/red/features.npy\n",
      "Got the result from ./1/test/filtrations/2/RadialFiltration_12_38/green/features.npy\n",
      "Got the result from ./1/test/filtrations/2/RadialFiltration_12_38/blue/features.npy\n",
      "Applying filtration 12/72: 2/RadialFiltration_12_51\n",
      "RGB images received. Transforming to grayscale.\n"
     ]
    },
    {
     "name": "stderr",
     "output_type": "stream",
     "text": [
      "rgb2gray: 100%|██████████| 134/134 [00:00<00:00, 6381.49it/s]"
     ]
    },
    {
     "name": "stdout",
     "output_type": "stream",
     "text": [
      "Got the result from ./1/test/filtrations/2/RadialFiltration_12_51/gray/features.npy"
     ]
    },
    {
     "name": "stderr",
     "output_type": "stream",
     "text": [
      "\n"
     ]
    },
    {
     "name": "stdout",
     "output_type": "stream",
     "text": [
      "\n",
      "Got the result from ./1/test/filtrations/2/RadialFiltration_12_51/red/features.npy\n",
      "Got the result from ./1/test/filtrations/2/RadialFiltration_12_51/green/features.npy\n",
      "Got the result from ./1/test/filtrations/2/RadialFiltration_12_51/blue/features.npy\n",
      "Applying filtration 13/72: 2/RadialFiltration_25_12\n",
      "RGB images received. Transforming to grayscale.\n"
     ]
    },
    {
     "name": "stderr",
     "output_type": "stream",
     "text": [
      "rgb2gray: 100%|██████████| 134/134 [00:00<00:00, 4962.23it/s]\n"
     ]
    },
    {
     "name": "stdout",
     "output_type": "stream",
     "text": [
      "Got the result from ./1/test/filtrations/2/RadialFiltration_25_12/gray/features.npy\n",
      "Got the result from ./1/test/filtrations/2/RadialFiltration_25_12/red/features.npy\n",
      "Got the result from ./1/test/filtrations/2/RadialFiltration_25_12/green/features.npy\n",
      "Got the result from ./1/test/filtrations/2/RadialFiltration_25_12/blue/features.npy\n",
      "Applying filtration 14/72: 2/RadialFiltration_25_25\n",
      "RGB images received. Transforming to grayscale.\n"
     ]
    },
    {
     "name": "stderr",
     "output_type": "stream",
     "text": [
      "rgb2gray: 100%|██████████| 134/134 [00:00<00:00, 6381.41it/s]\n"
     ]
    },
    {
     "name": "stdout",
     "output_type": "stream",
     "text": [
      "Got the result from ./1/test/filtrations/2/RadialFiltration_25_25/gray/features.npy\n",
      "Got the result from ./1/test/filtrations/2/RadialFiltration_25_25/red/features.npy\n",
      "Got the result from ./1/test/filtrations/2/RadialFiltration_25_25/green/features.npy\n",
      "Got the result from ./1/test/filtrations/2/RadialFiltration_25_25/blue/features.npy\n",
      "Applying filtration 15/72: 2/RadialFiltration_25_38\n",
      "RGB images received. Transforming to grayscale.\n"
     ]
    },
    {
     "name": "stderr",
     "output_type": "stream",
     "text": [
      "rgb2gray: 100%|██████████| 134/134 [00:00<00:00, 5826.87it/s]\n"
     ]
    },
    {
     "name": "stdout",
     "output_type": "stream",
     "text": [
      "Got the result from ./1/test/filtrations/2/RadialFiltration_25_38/gray/features.npy\n",
      "Got the result from ./1/test/filtrations/2/RadialFiltration_25_38/red/features.npy\n",
      "Got the result from ./1/test/filtrations/2/RadialFiltration_25_38/green/features.npy\n",
      "Got the result from ./1/test/filtrations/2/RadialFiltration_25_38/blue/features.npy\n",
      "Applying filtration 16/72: 2/RadialFiltration_25_51\n",
      "RGB images received. Transforming to grayscale.\n"
     ]
    },
    {
     "name": "stderr",
     "output_type": "stream",
     "text": [
      "rgb2gray: 100%|██████████| 134/134 [00:00<00:00, 6089.24it/s]"
     ]
    },
    {
     "name": "stdout",
     "output_type": "stream",
     "text": [
      "Got the result from ./1/test/filtrations/2/RadialFiltration_25_51/gray/features.npy"
     ]
    },
    {
     "name": "stderr",
     "output_type": "stream",
     "text": [
      "\n"
     ]
    },
    {
     "name": "stdout",
     "output_type": "stream",
     "text": [
      "\n",
      "Got the result from ./1/test/filtrations/2/RadialFiltration_25_51/red/features.npy\n",
      "Got the result from ./1/test/filtrations/2/RadialFiltration_25_51/green/features.npy\n",
      "Got the result from ./1/test/filtrations/2/RadialFiltration_25_51/blue/features.npy\n",
      "Applying filtration 17/72: 2/RadialFiltration_38_12\n",
      "RGB images received. Transforming to grayscale.\n"
     ]
    },
    {
     "name": "stderr",
     "output_type": "stream",
     "text": [
      "rgb2gray: 100%|██████████| 134/134 [00:00<00:00, 6090.43it/s]"
     ]
    },
    {
     "name": "stdout",
     "output_type": "stream",
     "text": [
      "Got the result from ./1/test/filtrations/2/RadialFiltration_38_12/gray/features.npy"
     ]
    },
    {
     "name": "stderr",
     "output_type": "stream",
     "text": [
      "\n"
     ]
    },
    {
     "name": "stdout",
     "output_type": "stream",
     "text": [
      "\n",
      "Got the result from ./1/test/filtrations/2/RadialFiltration_38_12/red/features.npy\n",
      "Got the result from ./1/test/filtrations/2/RadialFiltration_38_12/green/features.npy\n",
      "Got the result from ./1/test/filtrations/2/RadialFiltration_38_12/blue/features.npy\n",
      "Applying filtration 18/72: 2/RadialFiltration_38_25\n",
      "RGB images received. Transforming to grayscale.\n"
     ]
    },
    {
     "name": "stderr",
     "output_type": "stream",
     "text": [
      "rgb2gray: 100%|██████████| 134/134 [00:00<00:00, 5825.60it/s]\n"
     ]
    },
    {
     "name": "stdout",
     "output_type": "stream",
     "text": [
      "Got the result from ./1/test/filtrations/2/RadialFiltration_38_25/gray/features.npy\n",
      "Got the result from ./1/test/filtrations/2/RadialFiltration_38_25/red/features.npy\n",
      "Got the result from ./1/test/filtrations/2/RadialFiltration_38_25/green/features.npy\n",
      "Got the result from ./1/test/filtrations/2/RadialFiltration_38_25/blue/features.npy\n",
      "Applying filtration 19/72: 2/RadialFiltration_38_38\n",
      "RGB images received. Transforming to grayscale.\n"
     ]
    },
    {
     "name": "stderr",
     "output_type": "stream",
     "text": [
      "rgb2gray: 100%|██████████| 134/134 [00:00<00:00, 6102.20it/s]"
     ]
    },
    {
     "name": "stdout",
     "output_type": "stream",
     "text": [
      "Got the result from ./1/test/filtrations/2/RadialFiltration_38_38/gray/features.npy\n"
     ]
    },
    {
     "name": "stderr",
     "output_type": "stream",
     "text": [
      "\n"
     ]
    },
    {
     "name": "stdout",
     "output_type": "stream",
     "text": [
      "Got the result from ./1/test/filtrations/2/RadialFiltration_38_38/red/features.npy\n",
      "Got the result from ./1/test/filtrations/2/RadialFiltration_38_38/green/features.npy\n",
      "Got the result from ./1/test/filtrations/2/RadialFiltration_38_38/blue/features.npy\n",
      "Applying filtration 20/72: 2/RadialFiltration_38_51\n",
      "RGB images received. Transforming to grayscale.\n"
     ]
    },
    {
     "name": "stderr",
     "output_type": "stream",
     "text": [
      "rgb2gray: 100%|██████████| 134/134 [00:00<00:00, 5825.42it/s]\n"
     ]
    },
    {
     "name": "stdout",
     "output_type": "stream",
     "text": [
      "Got the result from ./1/test/filtrations/2/RadialFiltration_38_51/gray/features.npy\n",
      "Got the result from ./1/test/filtrations/2/RadialFiltration_38_51/red/features.npy\n",
      "Got the result from ./1/test/filtrations/2/RadialFiltration_38_51/green/features.npy\n",
      "Got the result from ./1/test/filtrations/2/RadialFiltration_38_51/blue/features.npy\n",
      "Applying filtration 21/72: 2/RadialFiltration_51_12\n",
      "RGB images received. Transforming to grayscale.\n"
     ]
    },
    {
     "name": "stderr",
     "output_type": "stream",
     "text": [
      "rgb2gray: 100%|██████████| 134/134 [00:00<00:00, 5827.36it/s]\n"
     ]
    },
    {
     "name": "stdout",
     "output_type": "stream",
     "text": [
      "Got the result from ./1/test/filtrations/2/RadialFiltration_51_12/gray/features.npy\n",
      "Got the result from ./1/test/filtrations/2/RadialFiltration_51_12/red/features.npy\n",
      "Got the result from ./1/test/filtrations/2/RadialFiltration_51_12/green/features.npy\n",
      "Got the result from ./1/test/filtrations/2/RadialFiltration_51_12/blue/features.npy\n",
      "Applying filtration 22/72: 2/RadialFiltration_51_25\n",
      "RGB images received. Transforming to grayscale.\n"
     ]
    },
    {
     "name": "stderr",
     "output_type": "stream",
     "text": [
      "rgb2gray: 100%|██████████| 134/134 [00:00<00:00, 5584.90it/s]\n"
     ]
    },
    {
     "name": "stdout",
     "output_type": "stream",
     "text": [
      "Got the result from ./1/test/filtrations/2/RadialFiltration_51_25/gray/features.npy\n",
      "Got the result from ./1/test/filtrations/2/RadialFiltration_51_25/red/features.npy\n",
      "Got the result from ./1/test/filtrations/2/RadialFiltration_51_25/green/features.npy\n",
      "Got the result from ./1/test/filtrations/2/RadialFiltration_51_25/blue/features.npy\n",
      "Applying filtration 23/72: 2/RadialFiltration_51_38\n",
      "RGB images received. Transforming to grayscale.\n"
     ]
    },
    {
     "name": "stderr",
     "output_type": "stream",
     "text": [
      "rgb2gray: 100%|██████████| 134/134 [00:00<00:00, 4620.72it/s]"
     ]
    },
    {
     "name": "stdout",
     "output_type": "stream",
     "text": [
      "Got the result from ./1/test/filtrations/2/RadialFiltration_51_38/gray/features.npy\n"
     ]
    },
    {
     "name": "stderr",
     "output_type": "stream",
     "text": [
      "\n"
     ]
    },
    {
     "name": "stdout",
     "output_type": "stream",
     "text": [
      "Got the result from ./1/test/filtrations/2/RadialFiltration_51_38/red/features.npy\n",
      "Got the result from ./1/test/filtrations/2/RadialFiltration_51_38/green/features.npy\n",
      "Got the result from ./1/test/filtrations/2/RadialFiltration_51_38/blue/features.npy\n",
      "Applying filtration 24/72: 2/RadialFiltration_51_51\n",
      "RGB images received. Transforming to grayscale.\n"
     ]
    },
    {
     "name": "stderr",
     "output_type": "stream",
     "text": [
      "rgb2gray: 100%|██████████| 134/134 [00:00<00:00, 5153.46it/s]"
     ]
    },
    {
     "name": "stdout",
     "output_type": "stream",
     "text": [
      "Got the result from ./1/test/filtrations/2/RadialFiltration_51_51/gray/features.npy"
     ]
    },
    {
     "name": "stderr",
     "output_type": "stream",
     "text": [
      "\n"
     ]
    },
    {
     "name": "stdout",
     "output_type": "stream",
     "text": [
      "\n",
      "Got the result from ./1/test/filtrations/2/RadialFiltration_51_51/red/features.npy\n",
      "Got the result from ./1/test/filtrations/2/RadialFiltration_51_51/green/features.npy\n",
      "Got the result from ./1/test/filtrations/2/RadialFiltration_51_51/blue/features.npy\n",
      "Applying filtration 25/72: 4/HeightFiltrartion_-1_-1\n",
      "RGB images received. Transforming to grayscale.\n"
     ]
    },
    {
     "name": "stderr",
     "output_type": "stream",
     "text": [
      "rgb2gray: 100%|██████████| 134/134 [00:00<00:00, 5360.49it/s]"
     ]
    },
    {
     "name": "stdout",
     "output_type": "stream",
     "text": [
      "Got the result from ./1/test/filtrations/4/HeightFiltrartion_-1_-1/gray/features.npy"
     ]
    },
    {
     "name": "stderr",
     "output_type": "stream",
     "text": [
      "\n"
     ]
    },
    {
     "name": "stdout",
     "output_type": "stream",
     "text": [
      "\n",
      "Got the result from ./1/test/filtrations/4/HeightFiltrartion_-1_-1/red/features.npy\n",
      "Got the result from ./1/test/filtrations/4/HeightFiltrartion_-1_-1/green/features.npy\n",
      "Got the result from ./1/test/filtrations/4/HeightFiltrartion_-1_-1/blue/features.npy\n",
      "Applying filtration 26/72: 4/HeightFiltrartion_1_1\n",
      "RGB images received. Transforming to grayscale.\n"
     ]
    },
    {
     "name": "stderr",
     "output_type": "stream",
     "text": [
      "rgb2gray: 100%|██████████| 134/134 [00:00<00:00, 5358.75it/s]"
     ]
    },
    {
     "name": "stdout",
     "output_type": "stream",
     "text": [
      "Got the result from ./1/test/filtrations/4/HeightFiltrartion_1_1/gray/features.npy\n"
     ]
    },
    {
     "name": "stderr",
     "output_type": "stream",
     "text": [
      "\n"
     ]
    },
    {
     "name": "stdout",
     "output_type": "stream",
     "text": [
      "Got the result from ./1/test/filtrations/4/HeightFiltrartion_1_1/red/features.npy\n",
      "Got the result from ./1/test/filtrations/4/HeightFiltrartion_1_1/green/features.npy\n",
      "Got the result from ./1/test/filtrations/4/HeightFiltrartion_1_1/blue/features.npy\n",
      "Applying filtration 27/72: 4/HeightFiltrartion_1_-1\n",
      "RGB images received. Transforming to grayscale.\n"
     ]
    },
    {
     "name": "stderr",
     "output_type": "stream",
     "text": [
      "rgb2gray: 100%|██████████| 134/134 [00:00<00:00, 6092.08it/s]"
     ]
    },
    {
     "name": "stdout",
     "output_type": "stream",
     "text": [
      "Got the result from ./1/test/filtrations/4/HeightFiltrartion_1_-1/gray/features.npy\n"
     ]
    },
    {
     "name": "stderr",
     "output_type": "stream",
     "text": [
      "\n"
     ]
    },
    {
     "name": "stdout",
     "output_type": "stream",
     "text": [
      "Got the result from ./1/test/filtrations/4/HeightFiltrartion_1_-1/red/features.npy\n",
      "Got the result from ./1/test/filtrations/4/HeightFiltrartion_1_-1/green/features.npy\n",
      "Got the result from ./1/test/filtrations/4/HeightFiltrartion_1_-1/blue/features.npy\n",
      "Applying filtration 28/72: 4/HeightFiltrartion_-1_1\n",
      "RGB images received. Transforming to grayscale.\n"
     ]
    },
    {
     "name": "stderr",
     "output_type": "stream",
     "text": [
      "rgb2gray: 100%|██████████| 134/134 [00:00<00:00, 5582.63it/s]\n"
     ]
    },
    {
     "name": "stdout",
     "output_type": "stream",
     "text": [
      "Got the result from ./1/test/filtrations/4/HeightFiltrartion_-1_1/gray/features.npy\n",
      "Got the result from ./1/test/filtrations/4/HeightFiltrartion_-1_1/red/features.npy\n",
      "Got the result from ./1/test/filtrations/4/HeightFiltrartion_-1_1/green/features.npy\n",
      "Got the result from ./1/test/filtrations/4/HeightFiltrartion_-1_1/blue/features.npy\n",
      "Applying filtration 29/72: 4/HeightFiltrartion_0_-1\n",
      "RGB images received. Transforming to grayscale.\n"
     ]
    },
    {
     "name": "stderr",
     "output_type": "stream",
     "text": [
      "rgb2gray: 100%|██████████| 134/134 [00:00<00:00, 5827.11it/s]\n"
     ]
    },
    {
     "name": "stdout",
     "output_type": "stream",
     "text": [
      "Got the result from ./1/test/filtrations/4/HeightFiltrartion_0_-1/gray/features.npy\n",
      "Got the result from ./1/test/filtrations/4/HeightFiltrartion_0_-1/red/features.npy\n",
      "Got the result from ./1/test/filtrations/4/HeightFiltrartion_0_-1/green/features.npy\n",
      "Got the result from ./1/test/filtrations/4/HeightFiltrartion_0_-1/blue/features.npy\n",
      "Applying filtration 30/72: 4/HeightFiltrartion_0_1\n",
      "RGB images received. Transforming to grayscale.\n"
     ]
    },
    {
     "name": "stderr",
     "output_type": "stream",
     "text": [
      "rgb2gray: 100%|██████████| 134/134 [00:00<00:00, 6091.55it/s]\n"
     ]
    },
    {
     "name": "stdout",
     "output_type": "stream",
     "text": [
      "Got the result from ./1/test/filtrations/4/HeightFiltrartion_0_1/gray/features.npy\n",
      "Got the result from ./1/test/filtrations/4/HeightFiltrartion_0_1/red/features.npy\n",
      "Got the result from ./1/test/filtrations/4/HeightFiltrartion_0_1/green/features.npy\n",
      "Got the result from ./1/test/filtrations/4/HeightFiltrartion_0_1/blue/features.npy\n",
      "Applying filtration 31/72: 4/HeightFiltrartion_-1_0\n",
      "RGB images received. Transforming to grayscale.\n"
     ]
    },
    {
     "name": "stderr",
     "output_type": "stream",
     "text": [
      "rgb2gray: 100%|██████████| 134/134 [00:00<00:00, 6090.43it/s]\n"
     ]
    },
    {
     "name": "stdout",
     "output_type": "stream",
     "text": [
      "Got the result from ./1/test/filtrations/4/HeightFiltrartion_-1_0/gray/features.npy\n",
      "Got the result from ./1/test/filtrations/4/HeightFiltrartion_-1_0/red/features.npy\n",
      "Got the result from ./1/test/filtrations/4/HeightFiltrartion_-1_0/green/features.npy\n",
      "Got the result from ./1/test/filtrations/4/HeightFiltrartion_-1_0/blue/features.npy\n",
      "Applying filtration 32/72: 4/HeightFiltrartion_1_0\n",
      "RGB images received. Transforming to grayscale.\n"
     ]
    },
    {
     "name": "stderr",
     "output_type": "stream",
     "text": [
      "rgb2gray: 100%|██████████| 134/134 [00:00<00:00, 5582.52it/s]\n"
     ]
    },
    {
     "name": "stdout",
     "output_type": "stream",
     "text": [
      "Got the result from ./1/test/filtrations/4/HeightFiltrartion_1_0/gray/features.npy\n",
      "Got the result from ./1/test/filtrations/4/HeightFiltrartion_1_0/red/features.npy\n",
      "Got the result from ./1/test/filtrations/4/HeightFiltrartion_1_0/green/features.npy\n",
      "Got the result from ./1/test/filtrations/4/HeightFiltrartion_1_0/blue/features.npy\n",
      "Applying filtration 33/72: 4/RadialFiltration_12_12\n",
      "RGB images received. Transforming to grayscale.\n"
     ]
    },
    {
     "name": "stderr",
     "output_type": "stream",
     "text": [
      "rgb2gray: 100%|██████████| 134/134 [00:00<00:00, 6089.90it/s]\n"
     ]
    },
    {
     "name": "stdout",
     "output_type": "stream",
     "text": [
      "Got the result from ./1/test/filtrations/4/RadialFiltration_12_12/gray/features.npy\n",
      "Got the result from ./1/test/filtrations/4/RadialFiltration_12_12/red/features.npy\n",
      "Got the result from ./1/test/filtrations/4/RadialFiltration_12_12/green/features.npy\n",
      "Got the result from ./1/test/filtrations/4/RadialFiltration_12_12/blue/features.npy\n",
      "Applying filtration 34/72: 4/RadialFiltration_12_25\n",
      "RGB images received. Transforming to grayscale.\n"
     ]
    },
    {
     "name": "stderr",
     "output_type": "stream",
     "text": [
      "rgb2gray: 100%|██████████| 134/134 [00:00<00:00, 5359.62it/s]\n"
     ]
    },
    {
     "name": "stdout",
     "output_type": "stream",
     "text": [
      "Got the result from ./1/test/filtrations/4/RadialFiltration_12_25/gray/features.npy\n",
      "Got the result from ./1/test/filtrations/4/RadialFiltration_12_25/red/features.npy\n",
      "Got the result from ./1/test/filtrations/4/RadialFiltration_12_25/green/features.npy\n",
      "Got the result from ./1/test/filtrations/4/RadialFiltration_12_25/blue/features.npy\n",
      "Applying filtration 35/72: 4/RadialFiltration_12_38\n",
      "RGB images received. Transforming to grayscale.\n"
     ]
    },
    {
     "name": "stderr",
     "output_type": "stream",
     "text": [
      "rgb2gray: 100%|██████████| 134/134 [00:00<00:00, 6089.90it/s]"
     ]
    },
    {
     "name": "stdout",
     "output_type": "stream",
     "text": [
      "Got the result from ./1/test/filtrations/4/RadialFiltration_12_38/gray/features.npy"
     ]
    },
    {
     "name": "stderr",
     "output_type": "stream",
     "text": [
      "\n"
     ]
    },
    {
     "name": "stdout",
     "output_type": "stream",
     "text": [
      "\n",
      "Got the result from ./1/test/filtrations/4/RadialFiltration_12_38/red/features.npy\n",
      "Got the result from ./1/test/filtrations/4/RadialFiltration_12_38/green/features.npy\n",
      "Got the result from ./1/test/filtrations/4/RadialFiltration_12_38/blue/features.npy\n",
      "Applying filtration 36/72: 4/RadialFiltration_12_51\n",
      "RGB images received. Transforming to grayscale.\n"
     ]
    },
    {
     "name": "stderr",
     "output_type": "stream",
     "text": [
      "rgb2gray: 100%|██████████| 134/134 [00:00<00:00, 4786.14it/s]\n"
     ]
    },
    {
     "name": "stdout",
     "output_type": "stream",
     "text": [
      "Got the result from ./1/test/filtrations/4/RadialFiltration_12_51/gray/features.npy\n",
      "Got the result from ./1/test/filtrations/4/RadialFiltration_12_51/red/features.npy\n",
      "Got the result from ./1/test/filtrations/4/RadialFiltration_12_51/green/features.npy\n",
      "Got the result from ./1/test/filtrations/4/RadialFiltration_12_51/blue/features.npy\n",
      "Applying filtration 37/72: 4/RadialFiltration_25_12\n",
      "RGB images received. Transforming to grayscale.\n"
     ]
    },
    {
     "name": "stderr",
     "output_type": "stream",
     "text": [
      "rgb2gray: 100%|██████████| 134/134 [00:00<00:00, 5152.94it/s]\n"
     ]
    },
    {
     "name": "stdout",
     "output_type": "stream",
     "text": [
      "Got the result from ./1/test/filtrations/4/RadialFiltration_25_12/gray/features.npy\n",
      "Got the result from ./1/test/filtrations/4/RadialFiltration_25_12/red/features.npy\n",
      "Got the result from ./1/test/filtrations/4/RadialFiltration_25_12/green/features.npy\n",
      "Got the result from ./1/test/filtrations/4/RadialFiltration_25_12/blue/features.npy\n",
      "Applying filtration 38/72: 4/RadialFiltration_25_25\n",
      "RGB images received. Transforming to grayscale.\n"
     ]
    },
    {
     "name": "stderr",
     "output_type": "stream",
     "text": [
      "rgb2gray: 100%|██████████| 134/134 [00:00<00:00, 6090.43it/s]"
     ]
    },
    {
     "name": "stdout",
     "output_type": "stream",
     "text": [
      "Got the result from ./1/test/filtrations/4/RadialFiltration_25_25/gray/features.npy"
     ]
    },
    {
     "name": "stderr",
     "output_type": "stream",
     "text": [
      "\n"
     ]
    },
    {
     "name": "stdout",
     "output_type": "stream",
     "text": [
      "\n",
      "Got the result from ./1/test/filtrations/4/RadialFiltration_25_25/red/features.npy\n",
      "Got the result from ./1/test/filtrations/4/RadialFiltration_25_25/green/features.npy\n",
      "Got the result from ./1/test/filtrations/4/RadialFiltration_25_25/blue/features.npy\n",
      "Applying filtration 39/72: 4/RadialFiltration_25_38\n",
      "RGB images received. Transforming to grayscale.\n"
     ]
    },
    {
     "name": "stderr",
     "output_type": "stream",
     "text": [
      "rgb2gray: 100%|██████████| 134/134 [00:00<00:00, 6089.30it/s]\n"
     ]
    },
    {
     "name": "stdout",
     "output_type": "stream",
     "text": [
      "Got the result from ./1/test/filtrations/4/RadialFiltration_25_38/gray/features.npy\n",
      "Got the result from ./1/test/filtrations/4/RadialFiltration_25_38/red/features.npy\n",
      "Got the result from ./1/test/filtrations/4/RadialFiltration_25_38/green/features.npy\n",
      "Got the result from ./1/test/filtrations/4/RadialFiltration_25_38/blue/features.npy\n",
      "Applying filtration 40/72: 4/RadialFiltration_25_51\n",
      "RGB images received. Transforming to grayscale.\n"
     ]
    },
    {
     "name": "stderr",
     "output_type": "stream",
     "text": [
      "rgb2gray: 100%|██████████| 134/134 [00:00<00:00, 5826.45it/s]"
     ]
    },
    {
     "name": "stdout",
     "output_type": "stream",
     "text": [
      "Got the result from ./1/test/filtrations/4/RadialFiltration_25_51/gray/features.npy\n"
     ]
    },
    {
     "name": "stderr",
     "output_type": "stream",
     "text": [
      "\n"
     ]
    },
    {
     "name": "stdout",
     "output_type": "stream",
     "text": [
      "Got the result from ./1/test/filtrations/4/RadialFiltration_25_51/red/features.npy\n",
      "Got the result from ./1/test/filtrations/4/RadialFiltration_25_51/green/features.npy\n",
      "Got the result from ./1/test/filtrations/4/RadialFiltration_25_51/blue/features.npy\n",
      "Applying filtration 41/72: 4/RadialFiltration_38_12\n",
      "RGB images received. Transforming to grayscale.\n"
     ]
    },
    {
     "name": "stderr",
     "output_type": "stream",
     "text": [
      "rgb2gray: 100%|██████████| 134/134 [00:00<00:00, 5825.66it/s]\n"
     ]
    },
    {
     "name": "stdout",
     "output_type": "stream",
     "text": [
      "Got the result from ./1/test/filtrations/4/RadialFiltration_38_12/gray/features.npy\n",
      "Got the result from ./1/test/filtrations/4/RadialFiltration_38_12/red/features.npy\n",
      "Got the result from ./1/test/filtrations/4/RadialFiltration_38_12/green/features.npy\n",
      "Got the result from ./1/test/filtrations/4/RadialFiltration_38_12/blue/features.npy\n",
      "Applying filtration 42/72: 4/RadialFiltration_38_25\n",
      "RGB images received. Transforming to grayscale.\n"
     ]
    },
    {
     "name": "stderr",
     "output_type": "stream",
     "text": [
      "rgb2gray: 100%|██████████| 134/134 [00:00<00:00, 4187.62it/s]"
     ]
    },
    {
     "name": "stdout",
     "output_type": "stream",
     "text": [
      "Got the result from ./1/test/filtrations/4/RadialFiltration_38_25/gray/features.npy\n"
     ]
    },
    {
     "name": "stderr",
     "output_type": "stream",
     "text": [
      "\n"
     ]
    },
    {
     "name": "stdout",
     "output_type": "stream",
     "text": [
      "Got the result from ./1/test/filtrations/4/RadialFiltration_38_25/red/features.npy\n",
      "Got the result from ./1/test/filtrations/4/RadialFiltration_38_25/green/features.npy\n",
      "Got the result from ./1/test/filtrations/4/RadialFiltration_38_25/blue/features.npy\n",
      "Applying filtration 43/72: 4/RadialFiltration_38_38\n",
      "RGB images received. Transforming to grayscale.\n"
     ]
    },
    {
     "name": "stderr",
     "output_type": "stream",
     "text": [
      "rgb2gray: 100%|██████████| 134/134 [00:00<00:00, 5825.18it/s]\n"
     ]
    },
    {
     "name": "stdout",
     "output_type": "stream",
     "text": [
      "Got the result from ./1/test/filtrations/4/RadialFiltration_38_38/gray/features.npy\n",
      "Got the result from ./1/test/filtrations/4/RadialFiltration_38_38/red/features.npy\n",
      "Got the result from ./1/test/filtrations/4/RadialFiltration_38_38/green/features.npy\n",
      "Got the result from ./1/test/filtrations/4/RadialFiltration_38_38/blue/features.npy\n",
      "Applying filtration 44/72: 4/RadialFiltration_38_51\n",
      "RGB images received. Transforming to grayscale.\n"
     ]
    },
    {
     "name": "stderr",
     "output_type": "stream",
     "text": [
      "rgb2gray: 100%|██████████| 134/134 [00:00<00:00, 5153.04it/s]"
     ]
    },
    {
     "name": "stdout",
     "output_type": "stream",
     "text": [
      "Got the result from ./1/test/filtrations/4/RadialFiltration_38_51/gray/features.npy"
     ]
    },
    {
     "name": "stderr",
     "output_type": "stream",
     "text": [
      "\n"
     ]
    },
    {
     "name": "stdout",
     "output_type": "stream",
     "text": [
      "\n",
      "Got the result from ./1/test/filtrations/4/RadialFiltration_38_51/red/features.npy\n",
      "Got the result from ./1/test/filtrations/4/RadialFiltration_38_51/green/features.npy\n",
      "Got the result from ./1/test/filtrations/4/RadialFiltration_38_51/blue/features.npy\n",
      "Applying filtration 45/72: 4/RadialFiltration_51_12\n",
      "RGB images received. Transforming to grayscale.\n"
     ]
    },
    {
     "name": "stderr",
     "output_type": "stream",
     "text": [
      "rgb2gray: 100%|██████████| 134/134 [00:00<00:00, 6090.10it/s]"
     ]
    },
    {
     "name": "stdout",
     "output_type": "stream",
     "text": [
      "Got the result from ./1/test/filtrations/4/RadialFiltration_51_12/gray/features.npy"
     ]
    },
    {
     "name": "stderr",
     "output_type": "stream",
     "text": [
      "\n"
     ]
    },
    {
     "name": "stdout",
     "output_type": "stream",
     "text": [
      "\n",
      "Got the result from ./1/test/filtrations/4/RadialFiltration_51_12/red/features.npy\n",
      "Got the result from ./1/test/filtrations/4/RadialFiltration_51_12/green/features.npy\n",
      "Got the result from ./1/test/filtrations/4/RadialFiltration_51_12/blue/features.npy\n",
      "Applying filtration 46/72: 4/RadialFiltration_51_25\n",
      "RGB images received. Transforming to grayscale.\n"
     ]
    },
    {
     "name": "stderr",
     "output_type": "stream",
     "text": [
      "rgb2gray: 100%|██████████| 134/134 [00:00<00:00, 5153.79it/s]\n"
     ]
    },
    {
     "name": "stdout",
     "output_type": "stream",
     "text": [
      "Got the result from ./1/test/filtrations/4/RadialFiltration_51_25/gray/features.npy\n",
      "Got the result from ./1/test/filtrations/4/RadialFiltration_51_25/red/features.npy\n",
      "Got the result from ./1/test/filtrations/4/RadialFiltration_51_25/green/features.npy\n",
      "Got the result from ./1/test/filtrations/4/RadialFiltration_51_25/blue/features.npy\n",
      "Applying filtration 47/72: 4/RadialFiltration_51_38\n",
      "RGB images received. Transforming to grayscale.\n"
     ]
    },
    {
     "name": "stderr",
     "output_type": "stream",
     "text": [
      "rgb2gray: 100%|██████████| 134/134 [00:00<00:00, 5825.06it/s]\n"
     ]
    },
    {
     "name": "stdout",
     "output_type": "stream",
     "text": [
      "Got the result from ./1/test/filtrations/4/RadialFiltration_51_38/gray/features.npy\n",
      "Got the result from ./1/test/filtrations/4/RadialFiltration_51_38/red/features.npy\n",
      "Got the result from ./1/test/filtrations/4/RadialFiltration_51_38/green/features.npy\n",
      "Got the result from ./1/test/filtrations/4/RadialFiltration_51_38/blue/features.npy\n",
      "Applying filtration 48/72: 4/RadialFiltration_51_51\n",
      "RGB images received. Transforming to grayscale.\n"
     ]
    },
    {
     "name": "stderr",
     "output_type": "stream",
     "text": [
      "rgb2gray: 100%|██████████| 134/134 [00:00<00:00, 5154.36it/s]\n"
     ]
    },
    {
     "name": "stdout",
     "output_type": "stream",
     "text": [
      "Got the result from ./1/test/filtrations/4/RadialFiltration_51_51/gray/features.npy\n",
      "Got the result from ./1/test/filtrations/4/RadialFiltration_51_51/red/features.npy\n",
      "Got the result from ./1/test/filtrations/4/RadialFiltration_51_51/green/features.npy\n",
      "Got the result from ./1/test/filtrations/4/RadialFiltration_51_51/blue/features.npy\n",
      "Applying filtration 49/72: 6/HeightFiltrartion_-1_-1\n",
      "RGB images received. Transforming to grayscale.\n"
     ]
    },
    {
     "name": "stderr",
     "output_type": "stream",
     "text": [
      "rgb2gray: 100%|██████████| 134/134 [00:00<00:00, 5359.88it/s]\n"
     ]
    },
    {
     "name": "stdout",
     "output_type": "stream",
     "text": [
      "Got the result from ./1/test/filtrations/6/HeightFiltrartion_-1_-1/gray/features.npy\n",
      "Got the result from ./1/test/filtrations/6/HeightFiltrartion_-1_-1/red/features.npy\n",
      "Got the result from ./1/test/filtrations/6/HeightFiltrartion_-1_-1/green/features.npy\n",
      "Got the result from ./1/test/filtrations/6/HeightFiltrartion_-1_-1/blue/features.npy\n",
      "Applying filtration 50/72: 6/HeightFiltrartion_1_1\n",
      "RGB images received. Transforming to grayscale.\n"
     ]
    },
    {
     "name": "stderr",
     "output_type": "stream",
     "text": [
      "rgb2gray: 100%|██████████| 134/134 [00:00<00:00, 5825.06it/s]"
     ]
    },
    {
     "name": "stdout",
     "output_type": "stream",
     "text": [
      "Got the result from ./1/test/filtrations/6/HeightFiltrartion_1_1/gray/features.npy"
     ]
    },
    {
     "name": "stderr",
     "output_type": "stream",
     "text": [
      "\n"
     ]
    },
    {
     "name": "stdout",
     "output_type": "stream",
     "text": [
      "\n",
      "Got the result from ./1/test/filtrations/6/HeightFiltrartion_1_1/red/features.npy\n",
      "Got the result from ./1/test/filtrations/6/HeightFiltrartion_1_1/green/features.npy\n",
      "Got the result from ./1/test/filtrations/6/HeightFiltrartion_1_1/blue/features.npy\n",
      "Applying filtration 51/72: 6/HeightFiltrartion_1_-1\n",
      "RGB images received. Transforming to grayscale.\n"
     ]
    },
    {
     "name": "stderr",
     "output_type": "stream",
     "text": [
      "rgb2gray: 100%|██████████| 134/134 [00:00<00:00, 5582.13it/s]"
     ]
    },
    {
     "name": "stdout",
     "output_type": "stream",
     "text": [
      "Got the result from ./1/test/filtrations/6/HeightFiltrartion_1_-1/gray/features.npy"
     ]
    },
    {
     "name": "stderr",
     "output_type": "stream",
     "text": [
      "\n"
     ]
    },
    {
     "name": "stdout",
     "output_type": "stream",
     "text": [
      "\n",
      "Got the result from ./1/test/filtrations/6/HeightFiltrartion_1_-1/red/features.npy\n",
      "Got the result from ./1/test/filtrations/6/HeightFiltrartion_1_-1/green/features.npy\n",
      "Got the result from ./1/test/filtrations/6/HeightFiltrartion_1_-1/blue/features.npy\n",
      "Applying filtration 52/72: 6/HeightFiltrartion_-1_1\n",
      "RGB images received. Transforming to grayscale.\n"
     ]
    },
    {
     "name": "stderr",
     "output_type": "stream",
     "text": [
      "rgb2gray: 100%|██████████| 134/134 [00:00<00:00, 5583.13it/s]\n"
     ]
    },
    {
     "name": "stdout",
     "output_type": "stream",
     "text": [
      "Got the result from ./1/test/filtrations/6/HeightFiltrartion_-1_1/gray/features.npy\n",
      "Got the result from ./1/test/filtrations/6/HeightFiltrartion_-1_1/red/features.npy\n",
      "Got the result from ./1/test/filtrations/6/HeightFiltrartion_-1_1/green/features.npy\n",
      "Got the result from ./1/test/filtrations/6/HeightFiltrartion_-1_1/blue/features.npy\n",
      "Applying filtration 53/72: 6/HeightFiltrartion_0_-1\n",
      "RGB images received. Transforming to grayscale.\n"
     ]
    },
    {
     "name": "stderr",
     "output_type": "stream",
     "text": [
      "rgb2gray: 100%|██████████| 134/134 [00:00<00:00, 5153.37it/s]"
     ]
    },
    {
     "name": "stdout",
     "output_type": "stream",
     "text": [
      "Got the result from ./1/test/filtrations/6/HeightFiltrartion_0_-1/gray/features.npy\n"
     ]
    },
    {
     "name": "stderr",
     "output_type": "stream",
     "text": [
      "\n"
     ]
    },
    {
     "name": "stdout",
     "output_type": "stream",
     "text": [
      "Got the result from ./1/test/filtrations/6/HeightFiltrartion_0_-1/red/features.npy\n",
      "Got the result from ./1/test/filtrations/6/HeightFiltrartion_0_-1/green/features.npy\n",
      "Got the result from ./1/test/filtrations/6/HeightFiltrartion_0_-1/blue/features.npy\n",
      "Applying filtration 54/72: 6/HeightFiltrartion_0_1\n",
      "RGB images received. Transforming to grayscale.\n"
     ]
    },
    {
     "name": "stderr",
     "output_type": "stream",
     "text": [
      "rgb2gray: 100%|██████████| 134/134 [00:00<00:00, 5583.02it/s]"
     ]
    },
    {
     "name": "stdout",
     "output_type": "stream",
     "text": [
      "Got the result from ./1/test/filtrations/6/HeightFiltrartion_0_1/gray/features.npy\n",
      "Got the result from ./1/test/filtrations/6/HeightFiltrartion_0_1/red/features.npy"
     ]
    },
    {
     "name": "stderr",
     "output_type": "stream",
     "text": [
      "\n"
     ]
    },
    {
     "name": "stdout",
     "output_type": "stream",
     "text": [
      "\n",
      "Got the result from ./1/test/filtrations/6/HeightFiltrartion_0_1/green/features.npy\n",
      "Got the result from ./1/test/filtrations/6/HeightFiltrartion_0_1/blue/features.npy\n",
      "Applying filtration 55/72: 6/HeightFiltrartion_-1_0\n",
      "RGB images received. Transforming to grayscale.\n"
     ]
    },
    {
     "name": "stderr",
     "output_type": "stream",
     "text": [
      "rgb2gray: 100%|██████████| 134/134 [00:00<00:00, 5359.57it/s]"
     ]
    },
    {
     "name": "stdout",
     "output_type": "stream",
     "text": [
      "Got the result from ./1/test/filtrations/6/HeightFiltrartion_-1_0/gray/features.npy\n"
     ]
    },
    {
     "name": "stderr",
     "output_type": "stream",
     "text": [
      "\n"
     ]
    },
    {
     "name": "stdout",
     "output_type": "stream",
     "text": [
      "Got the result from ./1/test/filtrations/6/HeightFiltrartion_-1_0/red/features.npy\n",
      "Got the result from ./1/test/filtrations/6/HeightFiltrartion_-1_0/green/features.npy\n",
      "Got the result from ./1/test/filtrations/6/HeightFiltrartion_-1_0/blue/features.npy\n",
      "Applying filtration 56/72: 6/HeightFiltrartion_1_0\n",
      "RGB images received. Transforming to grayscale.\n"
     ]
    },
    {
     "name": "stderr",
     "output_type": "stream",
     "text": [
      "rgb2gray: 100%|██████████| 134/134 [00:00<00:00, 5359.62it/s]"
     ]
    },
    {
     "name": "stdout",
     "output_type": "stream",
     "text": [
      "Got the result from ./1/test/filtrations/6/HeightFiltrartion_1_0/gray/features.npy\n"
     ]
    },
    {
     "name": "stderr",
     "output_type": "stream",
     "text": [
      "\n"
     ]
    },
    {
     "name": "stdout",
     "output_type": "stream",
     "text": [
      "Got the result from ./1/test/filtrations/6/HeightFiltrartion_1_0/red/features.npy\n",
      "Got the result from ./1/test/filtrations/6/HeightFiltrartion_1_0/green/features.npy\n",
      "Got the result from ./1/test/filtrations/6/HeightFiltrartion_1_0/blue/features.npy\n",
      "Applying filtration 57/72: 6/RadialFiltration_12_12\n",
      "RGB images received. Transforming to grayscale.\n"
     ]
    },
    {
     "name": "stderr",
     "output_type": "stream",
     "text": [
      "rgb2gray: 100%|██████████| 134/134 [00:00<00:00, 5825.91it/s]\n"
     ]
    },
    {
     "name": "stdout",
     "output_type": "stream",
     "text": [
      "Got the result from ./1/test/filtrations/6/RadialFiltration_12_12/gray/features.npy\n",
      "Got the result from ./1/test/filtrations/6/RadialFiltration_12_12/red/features.npy\n",
      "Got the result from ./1/test/filtrations/6/RadialFiltration_12_12/green/features.npy\n",
      "Got the result from ./1/test/filtrations/6/RadialFiltration_12_12/blue/features.npy\n",
      "Applying filtration 58/72: 6/RadialFiltration_12_25\n",
      "RGB images received. Transforming to grayscale.\n"
     ]
    },
    {
     "name": "stderr",
     "output_type": "stream",
     "text": [
      "rgb2gray: 100%|██████████| 134/134 [00:00<00:00, 6701.20it/s]\n"
     ]
    },
    {
     "name": "stdout",
     "output_type": "stream",
     "text": [
      "Got the result from ./1/test/filtrations/6/RadialFiltration_12_25/gray/features.npy\n",
      "Got the result from ./1/test/filtrations/6/RadialFiltration_12_25/red/features.npy\n",
      "Got the result from ./1/test/filtrations/6/RadialFiltration_12_25/green/features.npy\n",
      "Got the result from ./1/test/filtrations/6/RadialFiltration_12_25/blue/features.npy\n",
      "Applying filtration 59/72: 6/RadialFiltration_12_38\n",
      "RGB images received. Transforming to grayscale.\n"
     ]
    },
    {
     "name": "stderr",
     "output_type": "stream",
     "text": [
      "rgb2gray: 100%|██████████| 134/134 [00:00<00:00, 4322.66it/s]\n"
     ]
    },
    {
     "name": "stdout",
     "output_type": "stream",
     "text": [
      "Got the result from ./1/test/filtrations/6/RadialFiltration_12_38/gray/features.npy\n",
      "Got the result from ./1/test/filtrations/6/RadialFiltration_12_38/red/features.npy\n",
      "Got the result from ./1/test/filtrations/6/RadialFiltration_12_38/green/features.npy\n",
      "Got the result from ./1/test/filtrations/6/RadialFiltration_12_38/blue/features.npy\n",
      "Applying filtration 60/72: 6/RadialFiltration_12_51\n",
      "RGB images received. Transforming to grayscale.\n"
     ]
    },
    {
     "name": "stderr",
     "output_type": "stream",
     "text": [
      "rgb2gray: 100%|██████████| 134/134 [00:00<00:00, 6089.77it/s]\n"
     ]
    },
    {
     "name": "stdout",
     "output_type": "stream",
     "text": [
      "Got the result from ./1/test/filtrations/6/RadialFiltration_12_51/gray/features.npy\n",
      "Got the result from ./1/test/filtrations/6/RadialFiltration_12_51/red/features.npy\n",
      "Got the result from ./1/test/filtrations/6/RadialFiltration_12_51/green/features.npy\n",
      "Got the result from ./1/test/filtrations/6/RadialFiltration_12_51/blue/features.npy\n",
      "Applying filtration 61/72: 6/RadialFiltration_25_12\n",
      "RGB images received. Transforming to grayscale.\n"
     ]
    },
    {
     "name": "stderr",
     "output_type": "stream",
     "text": [
      "rgb2gray: 100%|██████████| 134/134 [00:00<00:00, 6093.13it/s]\n"
     ]
    },
    {
     "name": "stdout",
     "output_type": "stream",
     "text": [
      "Got the result from ./1/test/filtrations/6/RadialFiltration_25_12/gray/features.npy\n",
      "Got the result from ./1/test/filtrations/6/RadialFiltration_25_12/red/features.npy\n",
      "Got the result from ./1/test/filtrations/6/RadialFiltration_25_12/green/features.npy\n",
      "Got the result from ./1/test/filtrations/6/RadialFiltration_25_12/blue/features.npy\n",
      "Applying filtration 62/72: 6/RadialFiltration_25_25\n",
      "RGB images received. Transforming to grayscale.\n"
     ]
    },
    {
     "name": "stderr",
     "output_type": "stream",
     "text": [
      "rgb2gray: 100%|██████████| 134/134 [00:00<00:00, 6380.11it/s]\n"
     ]
    },
    {
     "name": "stdout",
     "output_type": "stream",
     "text": [
      "Got the result from ./1/test/filtrations/6/RadialFiltration_25_25/gray/features.npy\n",
      "Got the result from ./1/test/filtrations/6/RadialFiltration_25_25/red/features.npy\n",
      "Got the result from ./1/test/filtrations/6/RadialFiltration_25_25/green/features.npy\n",
      "Got the result from ./1/test/filtrations/6/RadialFiltration_25_25/blue/features.npy\n",
      "Applying filtration 63/72: 6/RadialFiltration_25_38\n",
      "RGB images received. Transforming to grayscale.\n"
     ]
    },
    {
     "name": "stderr",
     "output_type": "stream",
     "text": [
      "rgb2gray: 100%|██████████| 134/134 [00:00<00:00, 5359.37it/s]\n"
     ]
    },
    {
     "name": "stdout",
     "output_type": "stream",
     "text": [
      "Got the result from ./1/test/filtrations/6/RadialFiltration_25_38/gray/features.npy\n",
      "Got the result from ./1/test/filtrations/6/RadialFiltration_25_38/red/features.npy\n",
      "Got the result from ./1/test/filtrations/6/RadialFiltration_25_38/green/features.npy\n",
      "Got the result from ./1/test/filtrations/6/RadialFiltration_25_38/blue/features.npy\n",
      "Applying filtration 64/72: 6/RadialFiltration_25_51\n",
      "RGB images received. Transforming to grayscale.\n"
     ]
    },
    {
     "name": "stderr",
     "output_type": "stream",
     "text": [
      "rgb2gray: 100%|██████████| 134/134 [00:00<00:00, 6381.34it/s]\n"
     ]
    },
    {
     "name": "stdout",
     "output_type": "stream",
     "text": [
      "Got the result from ./1/test/filtrations/6/RadialFiltration_25_51/gray/features.npy\n",
      "Got the result from ./1/test/filtrations/6/RadialFiltration_25_51/red/features.npy\n",
      "Got the result from ./1/test/filtrations/6/RadialFiltration_25_51/green/features.npy\n",
      "Got the result from ./1/test/filtrations/6/RadialFiltration_25_51/blue/features.npy\n",
      "Applying filtration 65/72: 6/RadialFiltration_38_12\n",
      "RGB images received. Transforming to grayscale.\n"
     ]
    },
    {
     "name": "stderr",
     "output_type": "stream",
     "text": [
      "rgb2gray: 100%|██████████| 134/134 [00:00<00:00, 6090.76it/s]\n"
     ]
    },
    {
     "name": "stdout",
     "output_type": "stream",
     "text": [
      "Got the result from ./1/test/filtrations/6/RadialFiltration_38_12/gray/features.npy\n",
      "Got the result from ./1/test/filtrations/6/RadialFiltration_38_12/red/features.npy\n",
      "Got the result from ./1/test/filtrations/6/RadialFiltration_38_12/green/features.npy\n",
      "Got the result from ./1/test/filtrations/6/RadialFiltration_38_12/blue/features.npy\n",
      "Applying filtration 66/72: 6/RadialFiltration_38_25\n",
      "RGB images received. Transforming to grayscale.\n"
     ]
    },
    {
     "name": "stderr",
     "output_type": "stream",
     "text": [
      "rgb2gray: 100%|██████████| 134/134 [00:00<00:00, 5826.27it/s]\n"
     ]
    },
    {
     "name": "stdout",
     "output_type": "stream",
     "text": [
      "Got the result from ./1/test/filtrations/6/RadialFiltration_38_25/gray/features.npy\n",
      "Got the result from ./1/test/filtrations/6/RadialFiltration_38_25/red/features.npy\n",
      "Got the result from ./1/test/filtrations/6/RadialFiltration_38_25/green/features.npy\n",
      "Got the result from ./1/test/filtrations/6/RadialFiltration_38_25/blue/features.npy\n",
      "Applying filtration 67/72: 6/RadialFiltration_38_38\n",
      "RGB images received. Transforming to grayscale.\n"
     ]
    },
    {
     "name": "stderr",
     "output_type": "stream",
     "text": [
      "rgb2gray: 100%|██████████| 134/134 [00:00<00:00, 4963.98it/s]"
     ]
    },
    {
     "name": "stdout",
     "output_type": "stream",
     "text": [
      "Got the result from ./1/test/filtrations/6/RadialFiltration_38_38/gray/features.npy"
     ]
    },
    {
     "name": "stderr",
     "output_type": "stream",
     "text": [
      "\n"
     ]
    },
    {
     "name": "stdout",
     "output_type": "stream",
     "text": [
      "\n",
      "Got the result from ./1/test/filtrations/6/RadialFiltration_38_38/red/features.npy\n",
      "Got the result from ./1/test/filtrations/6/RadialFiltration_38_38/green/features.npy\n",
      "Got the result from ./1/test/filtrations/6/RadialFiltration_38_38/blue/features.npy\n",
      "Applying filtration 68/72: 6/RadialFiltration_38_51\n",
      "RGB images received. Transforming to grayscale.\n"
     ]
    },
    {
     "name": "stderr",
     "output_type": "stream",
     "text": [
      "rgb2gray: 100%|██████████| 134/134 [00:00<00:00, 5359.67it/s]"
     ]
    },
    {
     "name": "stdout",
     "output_type": "stream",
     "text": [
      "Got the result from ./1/test/filtrations/6/RadialFiltration_38_51/gray/features.npy"
     ]
    },
    {
     "name": "stderr",
     "output_type": "stream",
     "text": [
      "\n"
     ]
    },
    {
     "name": "stdout",
     "output_type": "stream",
     "text": [
      "\n",
      "Got the result from ./1/test/filtrations/6/RadialFiltration_38_51/red/features.npy\n",
      "Got the result from ./1/test/filtrations/6/RadialFiltration_38_51/green/features.npy\n",
      "Got the result from ./1/test/filtrations/6/RadialFiltration_38_51/blue/features.npy\n",
      "Applying filtration 69/72: 6/RadialFiltration_51_12\n",
      "RGB images received. Transforming to grayscale.\n"
     ]
    },
    {
     "name": "stderr",
     "output_type": "stream",
     "text": [
      "rgb2gray: 100%|██████████| 134/134 [00:00<00:00, 5825.84it/s]"
     ]
    },
    {
     "name": "stdout",
     "output_type": "stream",
     "text": [
      "Got the result from ./1/test/filtrations/6/RadialFiltration_51_12/gray/features.npy\n"
     ]
    },
    {
     "name": "stderr",
     "output_type": "stream",
     "text": [
      "\n"
     ]
    },
    {
     "name": "stdout",
     "output_type": "stream",
     "text": [
      "Got the result from ./1/test/filtrations/6/RadialFiltration_51_12/red/features.npy\n",
      "Got the result from ./1/test/filtrations/6/RadialFiltration_51_12/green/features.npy\n",
      "Got the result from ./1/test/filtrations/6/RadialFiltration_51_12/blue/features.npy\n",
      "Applying filtration 70/72: 6/RadialFiltration_51_25\n",
      "RGB images received. Transforming to grayscale.\n"
     ]
    },
    {
     "name": "stderr",
     "output_type": "stream",
     "text": [
      "rgb2gray: 100%|██████████| 134/134 [00:00<00:00, 6381.92it/s]\n"
     ]
    },
    {
     "name": "stdout",
     "output_type": "stream",
     "text": [
      "Got the result from ./1/test/filtrations/6/RadialFiltration_51_25/gray/features.npy\n",
      "Got the result from ./1/test/filtrations/6/RadialFiltration_51_25/red/features.npy\n",
      "Got the result from ./1/test/filtrations/6/RadialFiltration_51_25/green/features.npy\n",
      "Got the result from ./1/test/filtrations/6/RadialFiltration_51_25/blue/features.npy\n",
      "Applying filtration 71/72: 6/RadialFiltration_51_38\n",
      "RGB images received. Transforming to grayscale.\n"
     ]
    },
    {
     "name": "stderr",
     "output_type": "stream",
     "text": [
      "rgb2gray: 100%|██████████| 134/134 [00:00<00:00, 5825.72it/s]\n"
     ]
    },
    {
     "name": "stdout",
     "output_type": "stream",
     "text": [
      "Got the result from ./1/test/filtrations/6/RadialFiltration_51_38/gray/features.npy\n",
      "Got the result from ./1/test/filtrations/6/RadialFiltration_51_38/red/features.npy\n",
      "Got the result from ./1/test/filtrations/6/RadialFiltration_51_38/green/features.npy\n",
      "Got the result from ./1/test/filtrations/6/RadialFiltration_51_38/blue/features.npy\n",
      "Applying filtration 72/72: 6/RadialFiltration_51_51\n",
      "RGB images received. Transforming to grayscale.\n"
     ]
    },
    {
     "name": "stderr",
     "output_type": "stream",
     "text": [
      "rgb2gray: 100%|██████████| 134/134 [00:00<00:00, 5826.93it/s]\n"
     ]
    },
    {
     "name": "stdout",
     "output_type": "stream",
     "text": [
      "Got the result from ./1/test/filtrations/6/RadialFiltration_51_51/gray/features.npy\n",
      "Got the result from ./1/test/filtrations/6/RadialFiltration_51_51/red/features.npy\n",
      "Got the result from ./1/test/filtrations/6/RadialFiltration_51_51/green/features.npy\n",
      "Got the result from ./1/test/filtrations/6/RadialFiltration_51_51/blue/features.npy\n",
      "RGB images received. Transforming to grayscale.\n",
      "Got the result from ./1/test/geometry/rgb/features.npy\n"
     ]
    },
    {
     "name": "stderr",
     "output_type": "stream",
     "text": [
      "rgb2gray: 100%|██████████| 134/134 [00:00<00:00, 5359.21it/s]\n"
     ]
    },
    {
     "name": "stdout",
     "output_type": "stream",
     "text": [
      "Got the result from ./1/test/geometry/gray/features.npy\n",
      "Got the result from ./1/test/geometry/red/features.npy\n",
      "Got the result from ./1/test/geometry/green/features.npy\n",
      "Got the result from ./1/test/geometry/blue/features.npy\n",
      "Applying StandardScaler.\n"
     ]
    }
   ],
   "source": [
    "import cvtda.topology\n",
    "extractor = cvtda.topology.FeatureExtractor(only_get_from_dump = True, return_diagrams = False)\n",
    "extractor = extractor.fit(train_images, \"1/train\")\n",
    "train_features = extractor.transform(train_images, \"1/train\")\n",
    "test_features = extractor.transform(test_images, \"1/test\")"
   ]
  },
  {
   "cell_type": "code",
   "execution_count": 5,
   "metadata": {},
   "outputs": [
    {
     "name": "stdout",
     "output_type": "stream",
     "text": [
      "Calculating inverted images\n",
      "RGB images received. Transforming to grayscale.\n"
     ]
    },
    {
     "name": "stderr",
     "output_type": "stream",
     "text": [
      "rgb2gray: 100%|██████████| 9030/9030 [00:01<00:00, 5201.60it/s]\n"
     ]
    },
    {
     "name": "stdout",
     "output_type": "stream",
     "text": [
      "Got the result from ./1/train/greyscale/gray/diagrams.npy\n",
      "Applying Scaler to persistence diagrams.\n",
      "Got the result from ./1/train/greyscale/gray/diagrams.npy\n",
      "Applying Scaler to persistence diagrams.\n",
      "Got the result from ./1/train/greyscale/red/diagrams.npy\n",
      "Applying Scaler to persistence diagrams.\n",
      "Got the result from ./1/train/greyscale/red/diagrams.npy\n",
      "Applying Scaler to persistence diagrams.\n",
      "Got the result from ./1/train/greyscale/green/diagrams.npy\n",
      "Applying Scaler to persistence diagrams.\n",
      "Got the result from ./1/train/greyscale/green/diagrams.npy\n",
      "Applying Scaler to persistence diagrams.\n",
      "Got the result from ./1/train/greyscale/blue/diagrams.npy\n",
      "Applying Scaler to persistence diagrams.\n",
      "Got the result from ./1/train/greyscale/blue/diagrams.npy\n",
      "Applying Scaler to persistence diagrams.\n",
      "RGB images received. Transforming to grayscale.\n"
     ]
    },
    {
     "name": "stderr",
     "output_type": "stream",
     "text": [
      "rgb2gray: 100%|██████████| 9030/9030 [00:01<00:00, 5475.98it/s]\n"
     ]
    },
    {
     "name": "stdout",
     "output_type": "stream",
     "text": [
      "Got the result from ./1/train/greyscale/gray/diagrams.npy\n",
      "Applying Scaler to persistence diagrams.\n",
      "Got the result from ./1/train/greyscale/red/diagrams.npy\n",
      "Applying Scaler to persistence diagrams.\n",
      "Got the result from ./1/train/greyscale/green/diagrams.npy\n",
      "Applying Scaler to persistence diagrams.\n",
      "Got the result from ./1/train/greyscale/blue/diagrams.npy\n",
      "Applying Scaler to persistence diagrams.\n",
      "RGB images received. Transforming to grayscale.\n"
     ]
    },
    {
     "name": "stderr",
     "output_type": "stream",
     "text": [
      "rgb2gray: 100%|██████████| 9030/9030 [00:01<00:00, 5454.53it/s]\n"
     ]
    },
    {
     "name": "stdout",
     "output_type": "stream",
     "text": [
      "Got the result from ./1/train/inverted_greyscale/gray/diagrams.npy\n",
      "Applying Scaler to persistence diagrams.\n",
      "Got the result from ./1/train/inverted_greyscale/gray/diagrams.npy\n",
      "Applying Scaler to persistence diagrams.\n",
      "Got the result from ./1/train/inverted_greyscale/red/diagrams.npy\n",
      "Applying Scaler to persistence diagrams.\n",
      "Got the result from ./1/train/inverted_greyscale/red/diagrams.npy\n",
      "Applying Scaler to persistence diagrams.\n",
      "Got the result from ./1/train/inverted_greyscale/green/diagrams.npy\n",
      "Applying Scaler to persistence diagrams.\n",
      "Got the result from ./1/train/inverted_greyscale/green/diagrams.npy\n",
      "Applying Scaler to persistence diagrams.\n",
      "Got the result from ./1/train/inverted_greyscale/blue/diagrams.npy\n",
      "Applying Scaler to persistence diagrams.\n",
      "Got the result from ./1/train/inverted_greyscale/blue/diagrams.npy\n",
      "Applying Scaler to persistence diagrams.\n",
      "RGB images received. Transforming to grayscale.\n"
     ]
    },
    {
     "name": "stderr",
     "output_type": "stream",
     "text": [
      "rgb2gray: 100%|██████████| 9030/9030 [00:01<00:00, 5525.52it/s]\n"
     ]
    },
    {
     "name": "stdout",
     "output_type": "stream",
     "text": [
      "Got the result from ./1/train/inverted_greyscale/gray/diagrams.npy\n",
      "Applying Scaler to persistence diagrams.\n",
      "Got the result from ./1/train/inverted_greyscale/red/diagrams.npy\n",
      "Applying Scaler to persistence diagrams.\n",
      "Got the result from ./1/train/inverted_greyscale/green/diagrams.npy\n",
      "Applying Scaler to persistence diagrams.\n",
      "Got the result from ./1/train/inverted_greyscale/blue/diagrams.npy\n",
      "Applying Scaler to persistence diagrams.\n",
      "Fitting filtrations\n",
      "Calculated radial centers for images of size 64x64: [12 25 38 51]x[12 25 38 51]\n",
      "Fitting filtration 1/72: 2/HeightFiltrartion_-1_-1\n",
      "RGB images received. Transforming to grayscale.\n"
     ]
    },
    {
     "name": "stderr",
     "output_type": "stream",
     "text": [
      "rgb2gray: 100%|██████████| 9030/9030 [00:01<00:00, 5352.35it/s]\n"
     ]
    },
    {
     "name": "stdout",
     "output_type": "stream",
     "text": [
      "Got the result from ./1/train/filtrations/2/HeightFiltrartion_-1_-1/gray/diagrams.npy\n",
      "Applying Scaler to persistence diagrams.\n",
      "Got the result from ./1/train/filtrations/2/HeightFiltrartion_-1_-1/gray/diagrams.npy\n",
      "Applying Scaler to persistence diagrams.\n",
      "Got the result from ./1/train/filtrations/2/HeightFiltrartion_-1_-1/red/diagrams.npy\n",
      "Applying Scaler to persistence diagrams.\n",
      "Got the result from ./1/train/filtrations/2/HeightFiltrartion_-1_-1/red/diagrams.npy\n",
      "Applying Scaler to persistence diagrams.\n",
      "Got the result from ./1/train/filtrations/2/HeightFiltrartion_-1_-1/green/diagrams.npy\n",
      "Applying Scaler to persistence diagrams.\n",
      "Got the result from ./1/train/filtrations/2/HeightFiltrartion_-1_-1/green/diagrams.npy\n",
      "Applying Scaler to persistence diagrams.\n",
      "Got the result from ./1/train/filtrations/2/HeightFiltrartion_-1_-1/blue/diagrams.npy\n",
      "Applying Scaler to persistence diagrams.\n",
      "Got the result from ./1/train/filtrations/2/HeightFiltrartion_-1_-1/blue/diagrams.npy\n",
      "Applying Scaler to persistence diagrams.\n",
      "Fitting filtration 2/72: 2/HeightFiltrartion_1_1\n",
      "RGB images received. Transforming to grayscale.\n"
     ]
    },
    {
     "name": "stderr",
     "output_type": "stream",
     "text": [
      "rgb2gray: 100%|██████████| 9030/9030 [00:01<00:00, 5396.39it/s]\n"
     ]
    },
    {
     "name": "stdout",
     "output_type": "stream",
     "text": [
      "Got the result from ./1/train/filtrations/2/HeightFiltrartion_1_1/gray/diagrams.npy\n",
      "Applying Scaler to persistence diagrams.\n",
      "Got the result from ./1/train/filtrations/2/HeightFiltrartion_1_1/gray/diagrams.npy\n",
      "Applying Scaler to persistence diagrams.\n",
      "Got the result from ./1/train/filtrations/2/HeightFiltrartion_1_1/red/diagrams.npy\n",
      "Applying Scaler to persistence diagrams.\n",
      "Got the result from ./1/train/filtrations/2/HeightFiltrartion_1_1/red/diagrams.npy\n",
      "Applying Scaler to persistence diagrams.\n",
      "Got the result from ./1/train/filtrations/2/HeightFiltrartion_1_1/green/diagrams.npy\n",
      "Applying Scaler to persistence diagrams.\n",
      "Got the result from ./1/train/filtrations/2/HeightFiltrartion_1_1/green/diagrams.npy\n",
      "Applying Scaler to persistence diagrams.\n",
      "Got the result from ./1/train/filtrations/2/HeightFiltrartion_1_1/blue/diagrams.npy\n",
      "Applying Scaler to persistence diagrams.\n",
      "Got the result from ./1/train/filtrations/2/HeightFiltrartion_1_1/blue/diagrams.npy\n",
      "Applying Scaler to persistence diagrams.\n",
      "Fitting filtration 3/72: 2/HeightFiltrartion_1_-1\n",
      "RGB images received. Transforming to grayscale.\n"
     ]
    },
    {
     "name": "stderr",
     "output_type": "stream",
     "text": [
      "rgb2gray: 100%|██████████| 9030/9030 [00:01<00:00, 5656.08it/s]\n"
     ]
    },
    {
     "name": "stdout",
     "output_type": "stream",
     "text": [
      "Got the result from ./1/train/filtrations/2/HeightFiltrartion_1_-1/gray/diagrams.npy\n",
      "Applying Scaler to persistence diagrams.\n",
      "Got the result from ./1/train/filtrations/2/HeightFiltrartion_1_-1/gray/diagrams.npy\n",
      "Applying Scaler to persistence diagrams.\n",
      "Got the result from ./1/train/filtrations/2/HeightFiltrartion_1_-1/red/diagrams.npy\n",
      "Applying Scaler to persistence diagrams.\n",
      "Got the result from ./1/train/filtrations/2/HeightFiltrartion_1_-1/red/diagrams.npy\n",
      "Applying Scaler to persistence diagrams.\n",
      "Got the result from ./1/train/filtrations/2/HeightFiltrartion_1_-1/green/diagrams.npy\n",
      "Applying Scaler to persistence diagrams.\n",
      "Got the result from ./1/train/filtrations/2/HeightFiltrartion_1_-1/green/diagrams.npy\n",
      "Applying Scaler to persistence diagrams.\n",
      "Got the result from ./1/train/filtrations/2/HeightFiltrartion_1_-1/blue/diagrams.npy\n",
      "Applying Scaler to persistence diagrams.\n",
      "Got the result from ./1/train/filtrations/2/HeightFiltrartion_1_-1/blue/diagrams.npy\n",
      "Applying Scaler to persistence diagrams.\n",
      "Fitting filtration 4/72: 2/HeightFiltrartion_-1_1\n",
      "RGB images received. Transforming to grayscale.\n"
     ]
    },
    {
     "name": "stderr",
     "output_type": "stream",
     "text": [
      "rgb2gray: 100%|██████████| 9030/9030 [00:01<00:00, 5421.75it/s] \n"
     ]
    },
    {
     "name": "stdout",
     "output_type": "stream",
     "text": [
      "Got the result from ./1/train/filtrations/2/HeightFiltrartion_-1_1/gray/diagrams.npy\n",
      "Applying Scaler to persistence diagrams.\n",
      "Got the result from ./1/train/filtrations/2/HeightFiltrartion_-1_1/gray/diagrams.npy\n",
      "Applying Scaler to persistence diagrams.\n",
      "Got the result from ./1/train/filtrations/2/HeightFiltrartion_-1_1/red/diagrams.npy\n",
      "Applying Scaler to persistence diagrams.\n",
      "Got the result from ./1/train/filtrations/2/HeightFiltrartion_-1_1/red/diagrams.npy\n",
      "Applying Scaler to persistence diagrams.\n",
      "Got the result from ./1/train/filtrations/2/HeightFiltrartion_-1_1/green/diagrams.npy\n",
      "Applying Scaler to persistence diagrams.\n",
      "Got the result from ./1/train/filtrations/2/HeightFiltrartion_-1_1/green/diagrams.npy\n",
      "Applying Scaler to persistence diagrams.\n",
      "Got the result from ./1/train/filtrations/2/HeightFiltrartion_-1_1/blue/diagrams.npy\n",
      "Applying Scaler to persistence diagrams.\n",
      "Got the result from ./1/train/filtrations/2/HeightFiltrartion_-1_1/blue/diagrams.npy\n",
      "Applying Scaler to persistence diagrams.\n",
      "Fitting filtration 5/72: 2/HeightFiltrartion_0_-1\n",
      "RGB images received. Transforming to grayscale.\n"
     ]
    },
    {
     "name": "stderr",
     "output_type": "stream",
     "text": [
      "rgb2gray: 100%|██████████| 9030/9030 [00:01<00:00, 5324.29it/s]\n"
     ]
    },
    {
     "name": "stdout",
     "output_type": "stream",
     "text": [
      "Got the result from ./1/train/filtrations/2/HeightFiltrartion_0_-1/gray/diagrams.npy\n",
      "Applying Scaler to persistence diagrams.\n",
      "Got the result from ./1/train/filtrations/2/HeightFiltrartion_0_-1/gray/diagrams.npy\n",
      "Applying Scaler to persistence diagrams.\n",
      "Got the result from ./1/train/filtrations/2/HeightFiltrartion_0_-1/red/diagrams.npy\n",
      "Applying Scaler to persistence diagrams.\n",
      "Got the result from ./1/train/filtrations/2/HeightFiltrartion_0_-1/red/diagrams.npy\n",
      "Applying Scaler to persistence diagrams.\n",
      "Got the result from ./1/train/filtrations/2/HeightFiltrartion_0_-1/green/diagrams.npy\n",
      "Applying Scaler to persistence diagrams.\n",
      "Got the result from ./1/train/filtrations/2/HeightFiltrartion_0_-1/green/diagrams.npy\n",
      "Applying Scaler to persistence diagrams.\n",
      "Got the result from ./1/train/filtrations/2/HeightFiltrartion_0_-1/blue/diagrams.npy\n",
      "Applying Scaler to persistence diagrams.\n",
      "Got the result from ./1/train/filtrations/2/HeightFiltrartion_0_-1/blue/diagrams.npy\n",
      "Applying Scaler to persistence diagrams.\n",
      "Fitting filtration 6/72: 2/HeightFiltrartion_0_1\n",
      "RGB images received. Transforming to grayscale.\n"
     ]
    },
    {
     "name": "stderr",
     "output_type": "stream",
     "text": [
      "rgb2gray: 100%|██████████| 9030/9030 [00:02<00:00, 4218.63it/s]\n"
     ]
    },
    {
     "name": "stdout",
     "output_type": "stream",
     "text": [
      "Got the result from ./1/train/filtrations/2/HeightFiltrartion_0_1/gray/diagrams.npy\n",
      "Applying Scaler to persistence diagrams.\n",
      "Got the result from ./1/train/filtrations/2/HeightFiltrartion_0_1/gray/diagrams.npy\n",
      "Applying Scaler to persistence diagrams.\n",
      "Got the result from ./1/train/filtrations/2/HeightFiltrartion_0_1/red/diagrams.npy\n",
      "Applying Scaler to persistence diagrams.\n",
      "Got the result from ./1/train/filtrations/2/HeightFiltrartion_0_1/red/diagrams.npy\n",
      "Applying Scaler to persistence diagrams.\n",
      "Got the result from ./1/train/filtrations/2/HeightFiltrartion_0_1/green/diagrams.npy\n",
      "Applying Scaler to persistence diagrams.\n",
      "Got the result from ./1/train/filtrations/2/HeightFiltrartion_0_1/green/diagrams.npy\n",
      "Applying Scaler to persistence diagrams.\n",
      "Got the result from ./1/train/filtrations/2/HeightFiltrartion_0_1/blue/diagrams.npy\n",
      "Applying Scaler to persistence diagrams.\n",
      "Got the result from ./1/train/filtrations/2/HeightFiltrartion_0_1/blue/diagrams.npy\n",
      "Applying Scaler to persistence diagrams.\n",
      "Fitting filtration 7/72: 2/HeightFiltrartion_-1_0\n",
      "RGB images received. Transforming to grayscale.\n"
     ]
    },
    {
     "name": "stderr",
     "output_type": "stream",
     "text": [
      "rgb2gray: 100%|██████████| 9030/9030 [00:01<00:00, 5408.78it/s]\n"
     ]
    },
    {
     "name": "stdout",
     "output_type": "stream",
     "text": [
      "Got the result from ./1/train/filtrations/2/HeightFiltrartion_-1_0/gray/diagrams.npy\n",
      "Applying Scaler to persistence diagrams.\n",
      "Got the result from ./1/train/filtrations/2/HeightFiltrartion_-1_0/gray/diagrams.npy\n",
      "Applying Scaler to persistence diagrams.\n",
      "Got the result from ./1/train/filtrations/2/HeightFiltrartion_-1_0/red/diagrams.npy\n",
      "Applying Scaler to persistence diagrams.\n",
      "Got the result from ./1/train/filtrations/2/HeightFiltrartion_-1_0/red/diagrams.npy\n",
      "Applying Scaler to persistence diagrams.\n",
      "Got the result from ./1/train/filtrations/2/HeightFiltrartion_-1_0/green/diagrams.npy\n",
      "Applying Scaler to persistence diagrams.\n",
      "Got the result from ./1/train/filtrations/2/HeightFiltrartion_-1_0/green/diagrams.npy\n",
      "Applying Scaler to persistence diagrams.\n",
      "Got the result from ./1/train/filtrations/2/HeightFiltrartion_-1_0/blue/diagrams.npy\n",
      "Applying Scaler to persistence diagrams.\n",
      "Got the result from ./1/train/filtrations/2/HeightFiltrartion_-1_0/blue/diagrams.npy\n",
      "Applying Scaler to persistence diagrams.\n",
      "Fitting filtration 8/72: 2/HeightFiltrartion_1_0\n",
      "RGB images received. Transforming to grayscale.\n"
     ]
    },
    {
     "name": "stderr",
     "output_type": "stream",
     "text": [
      "rgb2gray: 100%|██████████| 9030/9030 [00:01<00:00, 5522.93it/s]\n"
     ]
    },
    {
     "name": "stdout",
     "output_type": "stream",
     "text": [
      "Got the result from ./1/train/filtrations/2/HeightFiltrartion_1_0/gray/diagrams.npy\n",
      "Applying Scaler to persistence diagrams.\n",
      "Got the result from ./1/train/filtrations/2/HeightFiltrartion_1_0/gray/diagrams.npy\n",
      "Applying Scaler to persistence diagrams.\n",
      "Got the result from ./1/train/filtrations/2/HeightFiltrartion_1_0/red/diagrams.npy\n",
      "Applying Scaler to persistence diagrams.\n",
      "Got the result from ./1/train/filtrations/2/HeightFiltrartion_1_0/red/diagrams.npy\n",
      "Applying Scaler to persistence diagrams.\n",
      "Got the result from ./1/train/filtrations/2/HeightFiltrartion_1_0/green/diagrams.npy\n",
      "Applying Scaler to persistence diagrams.\n",
      "Got the result from ./1/train/filtrations/2/HeightFiltrartion_1_0/green/diagrams.npy\n",
      "Applying Scaler to persistence diagrams.\n",
      "Got the result from ./1/train/filtrations/2/HeightFiltrartion_1_0/blue/diagrams.npy\n",
      "Applying Scaler to persistence diagrams.\n",
      "Got the result from ./1/train/filtrations/2/HeightFiltrartion_1_0/blue/diagrams.npy\n",
      "Applying Scaler to persistence diagrams.\n",
      "Fitting filtration 9/72: 2/RadialFiltration_12_12\n",
      "RGB images received. Transforming to grayscale.\n"
     ]
    },
    {
     "name": "stderr",
     "output_type": "stream",
     "text": [
      "rgb2gray: 100%|██████████| 9030/9030 [00:01<00:00, 5425.02it/s]\n"
     ]
    },
    {
     "name": "stdout",
     "output_type": "stream",
     "text": [
      "Got the result from ./1/train/filtrations/2/RadialFiltration_12_12/gray/diagrams.npy\n",
      "Applying Scaler to persistence diagrams.\n",
      "Got the result from ./1/train/filtrations/2/RadialFiltration_12_12/gray/diagrams.npy\n",
      "Applying Scaler to persistence diagrams.\n",
      "Got the result from ./1/train/filtrations/2/RadialFiltration_12_12/red/diagrams.npy\n",
      "Applying Scaler to persistence diagrams.\n",
      "Got the result from ./1/train/filtrations/2/RadialFiltration_12_12/red/diagrams.npy\n",
      "Applying Scaler to persistence diagrams.\n",
      "Got the result from ./1/train/filtrations/2/RadialFiltration_12_12/green/diagrams.npy\n",
      "Applying Scaler to persistence diagrams.\n",
      "Got the result from ./1/train/filtrations/2/RadialFiltration_12_12/green/diagrams.npy\n",
      "Applying Scaler to persistence diagrams.\n",
      "Got the result from ./1/train/filtrations/2/RadialFiltration_12_12/blue/diagrams.npy\n",
      "Applying Scaler to persistence diagrams.\n",
      "Got the result from ./1/train/filtrations/2/RadialFiltration_12_12/blue/diagrams.npy\n",
      "Applying Scaler to persistence diagrams.\n",
      "Fitting filtration 10/72: 2/RadialFiltration_12_25\n",
      "RGB images received. Transforming to grayscale.\n"
     ]
    },
    {
     "name": "stderr",
     "output_type": "stream",
     "text": [
      "rgb2gray: 100%|██████████| 9030/9030 [00:01<00:00, 5474.36it/s]\n"
     ]
    },
    {
     "name": "stdout",
     "output_type": "stream",
     "text": [
      "Got the result from ./1/train/filtrations/2/RadialFiltration_12_25/gray/diagrams.npy\n",
      "Applying Scaler to persistence diagrams.\n",
      "Got the result from ./1/train/filtrations/2/RadialFiltration_12_25/gray/diagrams.npy\n",
      "Applying Scaler to persistence diagrams.\n",
      "Got the result from ./1/train/filtrations/2/RadialFiltration_12_25/red/diagrams.npy\n",
      "Applying Scaler to persistence diagrams.\n",
      "Got the result from ./1/train/filtrations/2/RadialFiltration_12_25/red/diagrams.npy\n",
      "Applying Scaler to persistence diagrams.\n",
      "Got the result from ./1/train/filtrations/2/RadialFiltration_12_25/green/diagrams.npy\n",
      "Applying Scaler to persistence diagrams.\n",
      "Got the result from ./1/train/filtrations/2/RadialFiltration_12_25/green/diagrams.npy\n",
      "Applying Scaler to persistence diagrams.\n",
      "Got the result from ./1/train/filtrations/2/RadialFiltration_12_25/blue/diagrams.npy\n",
      "Applying Scaler to persistence diagrams.\n",
      "Got the result from ./1/train/filtrations/2/RadialFiltration_12_25/blue/diagrams.npy\n",
      "Applying Scaler to persistence diagrams.\n",
      "Fitting filtration 11/72: 2/RadialFiltration_12_38\n",
      "RGB images received. Transforming to grayscale.\n"
     ]
    },
    {
     "name": "stderr",
     "output_type": "stream",
     "text": [
      "rgb2gray: 100%|██████████| 9030/9030 [00:01<00:00, 5579.68it/s]\n"
     ]
    },
    {
     "name": "stdout",
     "output_type": "stream",
     "text": [
      "Got the result from ./1/train/filtrations/2/RadialFiltration_12_38/gray/diagrams.npy\n",
      "Applying Scaler to persistence diagrams.\n",
      "Got the result from ./1/train/filtrations/2/RadialFiltration_12_38/gray/diagrams.npy\n",
      "Applying Scaler to persistence diagrams.\n",
      "Got the result from ./1/train/filtrations/2/RadialFiltration_12_38/red/diagrams.npy\n",
      "Applying Scaler to persistence diagrams.\n",
      "Got the result from ./1/train/filtrations/2/RadialFiltration_12_38/red/diagrams.npy\n",
      "Applying Scaler to persistence diagrams.\n",
      "Got the result from ./1/train/filtrations/2/RadialFiltration_12_38/green/diagrams.npy\n",
      "Applying Scaler to persistence diagrams.\n",
      "Got the result from ./1/train/filtrations/2/RadialFiltration_12_38/green/diagrams.npy\n",
      "Applying Scaler to persistence diagrams.\n",
      "Got the result from ./1/train/filtrations/2/RadialFiltration_12_38/blue/diagrams.npy\n",
      "Applying Scaler to persistence diagrams.\n",
      "Got the result from ./1/train/filtrations/2/RadialFiltration_12_38/blue/diagrams.npy\n",
      "Applying Scaler to persistence diagrams.\n",
      "Fitting filtration 12/72: 2/RadialFiltration_12_51\n",
      "RGB images received. Transforming to grayscale.\n"
     ]
    },
    {
     "name": "stderr",
     "output_type": "stream",
     "text": [
      "rgb2gray: 100%|██████████| 9030/9030 [00:01<00:00, 5342.41it/s]\n"
     ]
    },
    {
     "name": "stdout",
     "output_type": "stream",
     "text": [
      "Got the result from ./1/train/filtrations/2/RadialFiltration_12_51/gray/diagrams.npy\n",
      "Applying Scaler to persistence diagrams.\n",
      "Got the result from ./1/train/filtrations/2/RadialFiltration_12_51/gray/diagrams.npy\n",
      "Applying Scaler to persistence diagrams.\n",
      "Got the result from ./1/train/filtrations/2/RadialFiltration_12_51/red/diagrams.npy\n",
      "Applying Scaler to persistence diagrams.\n",
      "Got the result from ./1/train/filtrations/2/RadialFiltration_12_51/red/diagrams.npy\n",
      "Applying Scaler to persistence diagrams.\n",
      "Got the result from ./1/train/filtrations/2/RadialFiltration_12_51/green/diagrams.npy\n",
      "Applying Scaler to persistence diagrams.\n",
      "Got the result from ./1/train/filtrations/2/RadialFiltration_12_51/green/diagrams.npy\n",
      "Applying Scaler to persistence diagrams.\n",
      "Got the result from ./1/train/filtrations/2/RadialFiltration_12_51/blue/diagrams.npy\n",
      "Applying Scaler to persistence diagrams.\n",
      "Got the result from ./1/train/filtrations/2/RadialFiltration_12_51/blue/diagrams.npy\n",
      "Applying Scaler to persistence diagrams.\n",
      "Fitting filtration 13/72: 2/RadialFiltration_25_12\n",
      "RGB images received. Transforming to grayscale.\n"
     ]
    },
    {
     "name": "stderr",
     "output_type": "stream",
     "text": [
      "rgb2gray: 100%|██████████| 9030/9030 [00:01<00:00, 5399.07it/s]\n"
     ]
    },
    {
     "name": "stdout",
     "output_type": "stream",
     "text": [
      "Got the result from ./1/train/filtrations/2/RadialFiltration_25_12/gray/diagrams.npy\n",
      "Applying Scaler to persistence diagrams.\n",
      "Got the result from ./1/train/filtrations/2/RadialFiltration_25_12/gray/diagrams.npy\n",
      "Applying Scaler to persistence diagrams.\n",
      "Got the result from ./1/train/filtrations/2/RadialFiltration_25_12/red/diagrams.npy\n",
      "Applying Scaler to persistence diagrams.\n",
      "Got the result from ./1/train/filtrations/2/RadialFiltration_25_12/red/diagrams.npy\n",
      "Applying Scaler to persistence diagrams.\n",
      "Got the result from ./1/train/filtrations/2/RadialFiltration_25_12/green/diagrams.npy\n",
      "Applying Scaler to persistence diagrams.\n",
      "Got the result from ./1/train/filtrations/2/RadialFiltration_25_12/green/diagrams.npy\n",
      "Applying Scaler to persistence diagrams.\n",
      "Got the result from ./1/train/filtrations/2/RadialFiltration_25_12/blue/diagrams.npy\n",
      "Applying Scaler to persistence diagrams.\n",
      "Got the result from ./1/train/filtrations/2/RadialFiltration_25_12/blue/diagrams.npy\n",
      "Applying Scaler to persistence diagrams.\n",
      "Fitting filtration 14/72: 2/RadialFiltration_25_25\n",
      "RGB images received. Transforming to grayscale.\n"
     ]
    },
    {
     "name": "stderr",
     "output_type": "stream",
     "text": [
      "rgb2gray: 100%|██████████| 9030/9030 [00:01<00:00, 4924.97it/s]\n"
     ]
    },
    {
     "name": "stdout",
     "output_type": "stream",
     "text": [
      "Got the result from ./1/train/filtrations/2/RadialFiltration_25_25/gray/diagrams.npy\n",
      "Applying Scaler to persistence diagrams.\n",
      "Got the result from ./1/train/filtrations/2/RadialFiltration_25_25/gray/diagrams.npy\n",
      "Applying Scaler to persistence diagrams.\n",
      "Got the result from ./1/train/filtrations/2/RadialFiltration_25_25/red/diagrams.npy\n",
      "Applying Scaler to persistence diagrams.\n",
      "Got the result from ./1/train/filtrations/2/RadialFiltration_25_25/red/diagrams.npy\n",
      "Applying Scaler to persistence diagrams.\n",
      "Got the result from ./1/train/filtrations/2/RadialFiltration_25_25/green/diagrams.npy\n",
      "Applying Scaler to persistence diagrams.\n",
      "Got the result from ./1/train/filtrations/2/RadialFiltration_25_25/green/diagrams.npy\n",
      "Applying Scaler to persistence diagrams.\n",
      "Got the result from ./1/train/filtrations/2/RadialFiltration_25_25/blue/diagrams.npy\n",
      "Applying Scaler to persistence diagrams.\n",
      "Got the result from ./1/train/filtrations/2/RadialFiltration_25_25/blue/diagrams.npy\n",
      "Applying Scaler to persistence diagrams.\n",
      "Fitting filtration 15/72: 2/RadialFiltration_25_38\n",
      "RGB images received. Transforming to grayscale.\n"
     ]
    },
    {
     "name": "stderr",
     "output_type": "stream",
     "text": [
      "rgb2gray: 100%|██████████| 9030/9030 [00:01<00:00, 5360.62it/s]\n"
     ]
    },
    {
     "name": "stdout",
     "output_type": "stream",
     "text": [
      "Got the result from ./1/train/filtrations/2/RadialFiltration_25_38/gray/diagrams.npy\n",
      "Applying Scaler to persistence diagrams.\n",
      "Got the result from ./1/train/filtrations/2/RadialFiltration_25_38/gray/diagrams.npy\n",
      "Applying Scaler to persistence diagrams.\n",
      "Got the result from ./1/train/filtrations/2/RadialFiltration_25_38/red/diagrams.npy\n",
      "Applying Scaler to persistence diagrams.\n",
      "Got the result from ./1/train/filtrations/2/RadialFiltration_25_38/red/diagrams.npy\n",
      "Applying Scaler to persistence diagrams.\n",
      "Got the result from ./1/train/filtrations/2/RadialFiltration_25_38/green/diagrams.npy\n",
      "Applying Scaler to persistence diagrams.\n",
      "Got the result from ./1/train/filtrations/2/RadialFiltration_25_38/green/diagrams.npy\n",
      "Applying Scaler to persistence diagrams.\n",
      "Got the result from ./1/train/filtrations/2/RadialFiltration_25_38/blue/diagrams.npy\n",
      "Applying Scaler to persistence diagrams.\n",
      "Got the result from ./1/train/filtrations/2/RadialFiltration_25_38/blue/diagrams.npy\n",
      "Applying Scaler to persistence diagrams.\n",
      "Fitting filtration 16/72: 2/RadialFiltration_25_51\n",
      "RGB images received. Transforming to grayscale.\n"
     ]
    },
    {
     "name": "stderr",
     "output_type": "stream",
     "text": [
      "rgb2gray: 100%|██████████| 9030/9030 [00:01<00:00, 5584.41it/s]\n"
     ]
    },
    {
     "name": "stdout",
     "output_type": "stream",
     "text": [
      "Got the result from ./1/train/filtrations/2/RadialFiltration_25_51/gray/diagrams.npy\n",
      "Applying Scaler to persistence diagrams.\n",
      "Got the result from ./1/train/filtrations/2/RadialFiltration_25_51/gray/diagrams.npy\n",
      "Applying Scaler to persistence diagrams.\n",
      "Got the result from ./1/train/filtrations/2/RadialFiltration_25_51/red/diagrams.npy\n",
      "Applying Scaler to persistence diagrams.\n",
      "Got the result from ./1/train/filtrations/2/RadialFiltration_25_51/red/diagrams.npy\n",
      "Applying Scaler to persistence diagrams.\n",
      "Got the result from ./1/train/filtrations/2/RadialFiltration_25_51/green/diagrams.npy\n",
      "Applying Scaler to persistence diagrams.\n",
      "Got the result from ./1/train/filtrations/2/RadialFiltration_25_51/green/diagrams.npy\n",
      "Applying Scaler to persistence diagrams.\n",
      "Got the result from ./1/train/filtrations/2/RadialFiltration_25_51/blue/diagrams.npy\n",
      "Applying Scaler to persistence diagrams.\n",
      "Got the result from ./1/train/filtrations/2/RadialFiltration_25_51/blue/diagrams.npy\n",
      "Applying Scaler to persistence diagrams.\n",
      "Fitting filtration 17/72: 2/RadialFiltration_38_12\n",
      "RGB images received. Transforming to grayscale.\n"
     ]
    },
    {
     "name": "stderr",
     "output_type": "stream",
     "text": [
      "rgb2gray: 100%|██████████| 9030/9030 [00:01<00:00, 5387.83it/s]\n"
     ]
    },
    {
     "name": "stdout",
     "output_type": "stream",
     "text": [
      "Got the result from ./1/train/filtrations/2/RadialFiltration_38_12/gray/diagrams.npy\n",
      "Applying Scaler to persistence diagrams.\n",
      "Got the result from ./1/train/filtrations/2/RadialFiltration_38_12/gray/diagrams.npy\n",
      "Applying Scaler to persistence diagrams.\n",
      "Got the result from ./1/train/filtrations/2/RadialFiltration_38_12/red/diagrams.npy\n",
      "Applying Scaler to persistence diagrams.\n",
      "Got the result from ./1/train/filtrations/2/RadialFiltration_38_12/red/diagrams.npy\n",
      "Applying Scaler to persistence diagrams.\n",
      "Got the result from ./1/train/filtrations/2/RadialFiltration_38_12/green/diagrams.npy\n",
      "Applying Scaler to persistence diagrams.\n",
      "Got the result from ./1/train/filtrations/2/RadialFiltration_38_12/green/diagrams.npy\n",
      "Applying Scaler to persistence diagrams.\n",
      "Got the result from ./1/train/filtrations/2/RadialFiltration_38_12/blue/diagrams.npy\n",
      "Applying Scaler to persistence diagrams.\n",
      "Got the result from ./1/train/filtrations/2/RadialFiltration_38_12/blue/diagrams.npy\n",
      "Applying Scaler to persistence diagrams.\n",
      "Fitting filtration 18/72: 2/RadialFiltration_38_25\n",
      "RGB images received. Transforming to grayscale.\n"
     ]
    },
    {
     "name": "stderr",
     "output_type": "stream",
     "text": [
      "rgb2gray: 100%|██████████| 9030/9030 [00:01<00:00, 5471.03it/s]\n"
     ]
    },
    {
     "name": "stdout",
     "output_type": "stream",
     "text": [
      "Got the result from ./1/train/filtrations/2/RadialFiltration_38_25/gray/diagrams.npy\n",
      "Applying Scaler to persistence diagrams.\n",
      "Got the result from ./1/train/filtrations/2/RadialFiltration_38_25/gray/diagrams.npy\n",
      "Applying Scaler to persistence diagrams.\n",
      "Got the result from ./1/train/filtrations/2/RadialFiltration_38_25/red/diagrams.npy\n",
      "Applying Scaler to persistence diagrams.\n",
      "Got the result from ./1/train/filtrations/2/RadialFiltration_38_25/red/diagrams.npy\n",
      "Applying Scaler to persistence diagrams.\n",
      "Got the result from ./1/train/filtrations/2/RadialFiltration_38_25/green/diagrams.npy\n",
      "Applying Scaler to persistence diagrams.\n",
      "Got the result from ./1/train/filtrations/2/RadialFiltration_38_25/green/diagrams.npy\n",
      "Applying Scaler to persistence diagrams.\n",
      "Got the result from ./1/train/filtrations/2/RadialFiltration_38_25/blue/diagrams.npy\n",
      "Applying Scaler to persistence diagrams.\n",
      "Got the result from ./1/train/filtrations/2/RadialFiltration_38_25/blue/diagrams.npy\n",
      "Applying Scaler to persistence diagrams.\n",
      "Fitting filtration 19/72: 2/RadialFiltration_38_38\n",
      "RGB images received. Transforming to grayscale.\n"
     ]
    },
    {
     "name": "stderr",
     "output_type": "stream",
     "text": [
      "rgb2gray: 100%|██████████| 9030/9030 [00:01<00:00, 5543.23it/s]\n"
     ]
    },
    {
     "name": "stdout",
     "output_type": "stream",
     "text": [
      "Got the result from ./1/train/filtrations/2/RadialFiltration_38_38/gray/diagrams.npy\n",
      "Applying Scaler to persistence diagrams.\n",
      "Got the result from ./1/train/filtrations/2/RadialFiltration_38_38/gray/diagrams.npy\n",
      "Applying Scaler to persistence diagrams.\n",
      "Got the result from ./1/train/filtrations/2/RadialFiltration_38_38/red/diagrams.npy\n",
      "Applying Scaler to persistence diagrams.\n",
      "Got the result from ./1/train/filtrations/2/RadialFiltration_38_38/red/diagrams.npy\n",
      "Applying Scaler to persistence diagrams.\n",
      "Got the result from ./1/train/filtrations/2/RadialFiltration_38_38/green/diagrams.npy\n",
      "Applying Scaler to persistence diagrams.\n",
      "Got the result from ./1/train/filtrations/2/RadialFiltration_38_38/green/diagrams.npy\n",
      "Applying Scaler to persistence diagrams.\n",
      "Got the result from ./1/train/filtrations/2/RadialFiltration_38_38/blue/diagrams.npy\n",
      "Applying Scaler to persistence diagrams.\n",
      "Got the result from ./1/train/filtrations/2/RadialFiltration_38_38/blue/diagrams.npy\n",
      "Applying Scaler to persistence diagrams.\n",
      "Fitting filtration 20/72: 2/RadialFiltration_38_51\n",
      "RGB images received. Transforming to grayscale.\n"
     ]
    },
    {
     "name": "stderr",
     "output_type": "stream",
     "text": [
      "rgb2gray: 100%|██████████| 9030/9030 [00:01<00:00, 5445.53it/s]\n"
     ]
    },
    {
     "name": "stdout",
     "output_type": "stream",
     "text": [
      "Got the result from ./1/train/filtrations/2/RadialFiltration_38_51/gray/diagrams.npy\n",
      "Applying Scaler to persistence diagrams.\n",
      "Got the result from ./1/train/filtrations/2/RadialFiltration_38_51/gray/diagrams.npy\n",
      "Applying Scaler to persistence diagrams.\n",
      "Got the result from ./1/train/filtrations/2/RadialFiltration_38_51/red/diagrams.npy\n",
      "Applying Scaler to persistence diagrams.\n",
      "Got the result from ./1/train/filtrations/2/RadialFiltration_38_51/red/diagrams.npy\n",
      "Applying Scaler to persistence diagrams.\n",
      "Got the result from ./1/train/filtrations/2/RadialFiltration_38_51/green/diagrams.npy\n",
      "Applying Scaler to persistence diagrams.\n",
      "Got the result from ./1/train/filtrations/2/RadialFiltration_38_51/green/diagrams.npy\n",
      "Applying Scaler to persistence diagrams.\n",
      "Got the result from ./1/train/filtrations/2/RadialFiltration_38_51/blue/diagrams.npy\n",
      "Applying Scaler to persistence diagrams.\n",
      "Got the result from ./1/train/filtrations/2/RadialFiltration_38_51/blue/diagrams.npy\n",
      "Applying Scaler to persistence diagrams.\n",
      "Fitting filtration 21/72: 2/RadialFiltration_51_12\n",
      "RGB images received. Transforming to grayscale.\n"
     ]
    },
    {
     "name": "stderr",
     "output_type": "stream",
     "text": [
      "rgb2gray: 100%|██████████| 9030/9030 [00:01<00:00, 5379.79it/s]\n"
     ]
    },
    {
     "name": "stdout",
     "output_type": "stream",
     "text": [
      "Got the result from ./1/train/filtrations/2/RadialFiltration_51_12/gray/diagrams.npy\n",
      "Applying Scaler to persistence diagrams.\n",
      "Got the result from ./1/train/filtrations/2/RadialFiltration_51_12/gray/diagrams.npy\n",
      "Applying Scaler to persistence diagrams.\n",
      "Got the result from ./1/train/filtrations/2/RadialFiltration_51_12/red/diagrams.npy\n",
      "Applying Scaler to persistence diagrams.\n",
      "Got the result from ./1/train/filtrations/2/RadialFiltration_51_12/red/diagrams.npy\n",
      "Applying Scaler to persistence diagrams.\n",
      "Got the result from ./1/train/filtrations/2/RadialFiltration_51_12/green/diagrams.npy\n",
      "Applying Scaler to persistence diagrams.\n",
      "Got the result from ./1/train/filtrations/2/RadialFiltration_51_12/green/diagrams.npy\n",
      "Applying Scaler to persistence diagrams.\n",
      "Got the result from ./1/train/filtrations/2/RadialFiltration_51_12/blue/diagrams.npy\n",
      "Applying Scaler to persistence diagrams.\n",
      "Got the result from ./1/train/filtrations/2/RadialFiltration_51_12/blue/diagrams.npy\n",
      "Applying Scaler to persistence diagrams.\n",
      "Fitting filtration 22/72: 2/RadialFiltration_51_25\n",
      "RGB images received. Transforming to grayscale.\n"
     ]
    },
    {
     "name": "stderr",
     "output_type": "stream",
     "text": [
      "rgb2gray: 100%|██████████| 9030/9030 [00:01<00:00, 5462.80it/s]\n"
     ]
    },
    {
     "name": "stdout",
     "output_type": "stream",
     "text": [
      "Got the result from ./1/train/filtrations/2/RadialFiltration_51_25/gray/diagrams.npy\n",
      "Applying Scaler to persistence diagrams.\n",
      "Got the result from ./1/train/filtrations/2/RadialFiltration_51_25/gray/diagrams.npy\n",
      "Applying Scaler to persistence diagrams.\n",
      "Got the result from ./1/train/filtrations/2/RadialFiltration_51_25/red/diagrams.npy\n",
      "Applying Scaler to persistence diagrams.\n",
      "Got the result from ./1/train/filtrations/2/RadialFiltration_51_25/red/diagrams.npy\n",
      "Applying Scaler to persistence diagrams.\n",
      "Got the result from ./1/train/filtrations/2/RadialFiltration_51_25/green/diagrams.npy\n",
      "Applying Scaler to persistence diagrams.\n",
      "Got the result from ./1/train/filtrations/2/RadialFiltration_51_25/green/diagrams.npy\n",
      "Applying Scaler to persistence diagrams.\n",
      "Got the result from ./1/train/filtrations/2/RadialFiltration_51_25/blue/diagrams.npy\n",
      "Applying Scaler to persistence diagrams.\n",
      "Got the result from ./1/train/filtrations/2/RadialFiltration_51_25/blue/diagrams.npy\n",
      "Applying Scaler to persistence diagrams.\n",
      "Fitting filtration 23/72: 2/RadialFiltration_51_38\n",
      "RGB images received. Transforming to grayscale.\n"
     ]
    },
    {
     "name": "stderr",
     "output_type": "stream",
     "text": [
      "rgb2gray: 100%|██████████| 9030/9030 [00:01<00:00, 4908.92it/s]\n"
     ]
    },
    {
     "name": "stdout",
     "output_type": "stream",
     "text": [
      "Got the result from ./1/train/filtrations/2/RadialFiltration_51_38/gray/diagrams.npy\n",
      "Applying Scaler to persistence diagrams.\n",
      "Got the result from ./1/train/filtrations/2/RadialFiltration_51_38/gray/diagrams.npy\n",
      "Applying Scaler to persistence diagrams.\n",
      "Got the result from ./1/train/filtrations/2/RadialFiltration_51_38/red/diagrams.npy\n",
      "Applying Scaler to persistence diagrams.\n",
      "Got the result from ./1/train/filtrations/2/RadialFiltration_51_38/red/diagrams.npy\n",
      "Applying Scaler to persistence diagrams.\n",
      "Got the result from ./1/train/filtrations/2/RadialFiltration_51_38/green/diagrams.npy\n",
      "Applying Scaler to persistence diagrams.\n",
      "Got the result from ./1/train/filtrations/2/RadialFiltration_51_38/green/diagrams.npy\n",
      "Applying Scaler to persistence diagrams.\n",
      "Got the result from ./1/train/filtrations/2/RadialFiltration_51_38/blue/diagrams.npy\n",
      "Applying Scaler to persistence diagrams.\n",
      "Got the result from ./1/train/filtrations/2/RadialFiltration_51_38/blue/diagrams.npy\n",
      "Applying Scaler to persistence diagrams.\n",
      "Fitting filtration 24/72: 2/RadialFiltration_51_51\n",
      "RGB images received. Transforming to grayscale.\n"
     ]
    },
    {
     "name": "stderr",
     "output_type": "stream",
     "text": [
      "rgb2gray: 100%|██████████| 9030/9030 [00:01<00:00, 5479.91it/s]\n"
     ]
    },
    {
     "name": "stdout",
     "output_type": "stream",
     "text": [
      "Got the result from ./1/train/filtrations/2/RadialFiltration_51_51/gray/diagrams.npy\n",
      "Applying Scaler to persistence diagrams.\n",
      "Got the result from ./1/train/filtrations/2/RadialFiltration_51_51/gray/diagrams.npy\n",
      "Applying Scaler to persistence diagrams.\n",
      "Got the result from ./1/train/filtrations/2/RadialFiltration_51_51/red/diagrams.npy\n",
      "Applying Scaler to persistence diagrams.\n",
      "Got the result from ./1/train/filtrations/2/RadialFiltration_51_51/red/diagrams.npy\n",
      "Applying Scaler to persistence diagrams.\n",
      "Got the result from ./1/train/filtrations/2/RadialFiltration_51_51/green/diagrams.npy\n",
      "Applying Scaler to persistence diagrams.\n",
      "Got the result from ./1/train/filtrations/2/RadialFiltration_51_51/green/diagrams.npy\n",
      "Applying Scaler to persistence diagrams.\n",
      "Got the result from ./1/train/filtrations/2/RadialFiltration_51_51/blue/diagrams.npy\n",
      "Applying Scaler to persistence diagrams.\n",
      "Got the result from ./1/train/filtrations/2/RadialFiltration_51_51/blue/diagrams.npy\n",
      "Applying Scaler to persistence diagrams.\n",
      "Fitting filtration 25/72: 4/HeightFiltrartion_-1_-1\n",
      "RGB images received. Transforming to grayscale.\n"
     ]
    },
    {
     "name": "stderr",
     "output_type": "stream",
     "text": [
      "rgb2gray: 100%|██████████| 9030/9030 [00:01<00:00, 5480.97it/s]\n"
     ]
    },
    {
     "name": "stdout",
     "output_type": "stream",
     "text": [
      "Got the result from ./1/train/filtrations/4/HeightFiltrartion_-1_-1/gray/diagrams.npy\n",
      "Applying Scaler to persistence diagrams.\n",
      "Got the result from ./1/train/filtrations/4/HeightFiltrartion_-1_-1/gray/diagrams.npy\n",
      "Applying Scaler to persistence diagrams.\n",
      "Got the result from ./1/train/filtrations/4/HeightFiltrartion_-1_-1/red/diagrams.npy\n",
      "Applying Scaler to persistence diagrams.\n",
      "Got the result from ./1/train/filtrations/4/HeightFiltrartion_-1_-1/red/diagrams.npy\n",
      "Applying Scaler to persistence diagrams.\n",
      "Got the result from ./1/train/filtrations/4/HeightFiltrartion_-1_-1/green/diagrams.npy\n",
      "Applying Scaler to persistence diagrams.\n",
      "Got the result from ./1/train/filtrations/4/HeightFiltrartion_-1_-1/green/diagrams.npy\n",
      "Applying Scaler to persistence diagrams.\n",
      "Got the result from ./1/train/filtrations/4/HeightFiltrartion_-1_-1/blue/diagrams.npy\n",
      "Applying Scaler to persistence diagrams.\n",
      "Got the result from ./1/train/filtrations/4/HeightFiltrartion_-1_-1/blue/diagrams.npy\n",
      "Applying Scaler to persistence diagrams.\n",
      "Fitting filtration 26/72: 4/HeightFiltrartion_1_1\n",
      "RGB images received. Transforming to grayscale.\n"
     ]
    },
    {
     "name": "stderr",
     "output_type": "stream",
     "text": [
      "rgb2gray: 100%|██████████| 9030/9030 [00:01<00:00, 5413.66it/s] \n"
     ]
    },
    {
     "name": "stdout",
     "output_type": "stream",
     "text": [
      "Got the result from ./1/train/filtrations/4/HeightFiltrartion_1_1/gray/diagrams.npy\n",
      "Applying Scaler to persistence diagrams.\n",
      "Got the result from ./1/train/filtrations/4/HeightFiltrartion_1_1/gray/diagrams.npy\n",
      "Applying Scaler to persistence diagrams.\n",
      "Got the result from ./1/train/filtrations/4/HeightFiltrartion_1_1/red/diagrams.npy\n",
      "Applying Scaler to persistence diagrams.\n",
      "Got the result from ./1/train/filtrations/4/HeightFiltrartion_1_1/red/diagrams.npy\n",
      "Applying Scaler to persistence diagrams.\n",
      "Got the result from ./1/train/filtrations/4/HeightFiltrartion_1_1/green/diagrams.npy\n",
      "Applying Scaler to persistence diagrams.\n",
      "Got the result from ./1/train/filtrations/4/HeightFiltrartion_1_1/green/diagrams.npy\n",
      "Applying Scaler to persistence diagrams.\n",
      "Got the result from ./1/train/filtrations/4/HeightFiltrartion_1_1/blue/diagrams.npy\n",
      "Applying Scaler to persistence diagrams.\n",
      "Got the result from ./1/train/filtrations/4/HeightFiltrartion_1_1/blue/diagrams.npy\n",
      "Applying Scaler to persistence diagrams.\n",
      "Fitting filtration 27/72: 4/HeightFiltrartion_1_-1\n",
      "RGB images received. Transforming to grayscale.\n"
     ]
    },
    {
     "name": "stderr",
     "output_type": "stream",
     "text": [
      "rgb2gray: 100%|██████████| 9030/9030 [00:01<00:00, 5457.93it/s]\n"
     ]
    },
    {
     "name": "stdout",
     "output_type": "stream",
     "text": [
      "Got the result from ./1/train/filtrations/4/HeightFiltrartion_1_-1/gray/diagrams.npy\n",
      "Applying Scaler to persistence diagrams.\n",
      "Got the result from ./1/train/filtrations/4/HeightFiltrartion_1_-1/gray/diagrams.npy\n",
      "Applying Scaler to persistence diagrams.\n",
      "Got the result from ./1/train/filtrations/4/HeightFiltrartion_1_-1/red/diagrams.npy\n",
      "Applying Scaler to persistence diagrams.\n",
      "Got the result from ./1/train/filtrations/4/HeightFiltrartion_1_-1/red/diagrams.npy\n",
      "Applying Scaler to persistence diagrams.\n",
      "Got the result from ./1/train/filtrations/4/HeightFiltrartion_1_-1/green/diagrams.npy\n",
      "Applying Scaler to persistence diagrams.\n",
      "Got the result from ./1/train/filtrations/4/HeightFiltrartion_1_-1/green/diagrams.npy\n",
      "Applying Scaler to persistence diagrams.\n",
      "Got the result from ./1/train/filtrations/4/HeightFiltrartion_1_-1/blue/diagrams.npy\n",
      "Applying Scaler to persistence diagrams.\n",
      "Got the result from ./1/train/filtrations/4/HeightFiltrartion_1_-1/blue/diagrams.npy\n",
      "Applying Scaler to persistence diagrams.\n",
      "Fitting filtration 28/72: 4/HeightFiltrartion_-1_1\n",
      "RGB images received. Transforming to grayscale.\n"
     ]
    },
    {
     "name": "stderr",
     "output_type": "stream",
     "text": [
      "rgb2gray: 100%|██████████| 9030/9030 [00:01<00:00, 5407.32it/s]\n"
     ]
    },
    {
     "name": "stdout",
     "output_type": "stream",
     "text": [
      "Got the result from ./1/train/filtrations/4/HeightFiltrartion_-1_1/gray/diagrams.npy\n",
      "Applying Scaler to persistence diagrams.\n",
      "Got the result from ./1/train/filtrations/4/HeightFiltrartion_-1_1/gray/diagrams.npy\n",
      "Applying Scaler to persistence diagrams.\n",
      "Got the result from ./1/train/filtrations/4/HeightFiltrartion_-1_1/red/diagrams.npy\n",
      "Applying Scaler to persistence diagrams.\n",
      "Got the result from ./1/train/filtrations/4/HeightFiltrartion_-1_1/red/diagrams.npy\n",
      "Applying Scaler to persistence diagrams.\n",
      "Got the result from ./1/train/filtrations/4/HeightFiltrartion_-1_1/green/diagrams.npy\n",
      "Applying Scaler to persistence diagrams.\n",
      "Got the result from ./1/train/filtrations/4/HeightFiltrartion_-1_1/green/diagrams.npy\n",
      "Applying Scaler to persistence diagrams.\n",
      "Got the result from ./1/train/filtrations/4/HeightFiltrartion_-1_1/blue/diagrams.npy\n",
      "Applying Scaler to persistence diagrams.\n",
      "Got the result from ./1/train/filtrations/4/HeightFiltrartion_-1_1/blue/diagrams.npy\n",
      "Applying Scaler to persistence diagrams.\n",
      "Fitting filtration 29/72: 4/HeightFiltrartion_0_-1\n",
      "RGB images received. Transforming to grayscale.\n"
     ]
    },
    {
     "name": "stderr",
     "output_type": "stream",
     "text": [
      "rgb2gray: 100%|██████████| 9030/9030 [00:01<00:00, 5509.46it/s]\n"
     ]
    },
    {
     "name": "stdout",
     "output_type": "stream",
     "text": [
      "Got the result from ./1/train/filtrations/4/HeightFiltrartion_0_-1/gray/diagrams.npy\n",
      "Applying Scaler to persistence diagrams.\n",
      "Got the result from ./1/train/filtrations/4/HeightFiltrartion_0_-1/gray/diagrams.npy\n",
      "Applying Scaler to persistence diagrams.\n",
      "Got the result from ./1/train/filtrations/4/HeightFiltrartion_0_-1/red/diagrams.npy\n",
      "Applying Scaler to persistence diagrams.\n",
      "Got the result from ./1/train/filtrations/4/HeightFiltrartion_0_-1/red/diagrams.npy\n",
      "Applying Scaler to persistence diagrams.\n",
      "Got the result from ./1/train/filtrations/4/HeightFiltrartion_0_-1/green/diagrams.npy\n",
      "Applying Scaler to persistence diagrams.\n",
      "Got the result from ./1/train/filtrations/4/HeightFiltrartion_0_-1/green/diagrams.npy\n",
      "Applying Scaler to persistence diagrams.\n",
      "Got the result from ./1/train/filtrations/4/HeightFiltrartion_0_-1/blue/diagrams.npy\n",
      "Applying Scaler to persistence diagrams.\n",
      "Got the result from ./1/train/filtrations/4/HeightFiltrartion_0_-1/blue/diagrams.npy\n",
      "Applying Scaler to persistence diagrams.\n",
      "Fitting filtration 30/72: 4/HeightFiltrartion_0_1\n",
      "RGB images received. Transforming to grayscale.\n"
     ]
    },
    {
     "name": "stderr",
     "output_type": "stream",
     "text": [
      "rgb2gray: 100%|██████████| 9030/9030 [00:01<00:00, 5454.52it/s]\n"
     ]
    },
    {
     "name": "stdout",
     "output_type": "stream",
     "text": [
      "Got the result from ./1/train/filtrations/4/HeightFiltrartion_0_1/gray/diagrams.npy\n",
      "Applying Scaler to persistence diagrams.\n",
      "Got the result from ./1/train/filtrations/4/HeightFiltrartion_0_1/gray/diagrams.npy\n",
      "Applying Scaler to persistence diagrams.\n",
      "Got the result from ./1/train/filtrations/4/HeightFiltrartion_0_1/red/diagrams.npy\n",
      "Applying Scaler to persistence diagrams.\n",
      "Got the result from ./1/train/filtrations/4/HeightFiltrartion_0_1/red/diagrams.npy\n",
      "Applying Scaler to persistence diagrams.\n",
      "Got the result from ./1/train/filtrations/4/HeightFiltrartion_0_1/green/diagrams.npy\n",
      "Applying Scaler to persistence diagrams.\n",
      "Got the result from ./1/train/filtrations/4/HeightFiltrartion_0_1/green/diagrams.npy\n",
      "Applying Scaler to persistence diagrams.\n",
      "Got the result from ./1/train/filtrations/4/HeightFiltrartion_0_1/blue/diagrams.npy\n",
      "Applying Scaler to persistence diagrams.\n",
      "Got the result from ./1/train/filtrations/4/HeightFiltrartion_0_1/blue/diagrams.npy\n",
      "Applying Scaler to persistence diagrams.\n",
      "Fitting filtration 31/72: 4/HeightFiltrartion_-1_0\n",
      "RGB images received. Transforming to grayscale.\n"
     ]
    },
    {
     "name": "stderr",
     "output_type": "stream",
     "text": [
      "rgb2gray: 100%|██████████| 9030/9030 [00:01<00:00, 5482.27it/s]\n"
     ]
    },
    {
     "name": "stdout",
     "output_type": "stream",
     "text": [
      "Got the result from ./1/train/filtrations/4/HeightFiltrartion_-1_0/gray/diagrams.npy\n",
      "Applying Scaler to persistence diagrams.\n",
      "Got the result from ./1/train/filtrations/4/HeightFiltrartion_-1_0/gray/diagrams.npy\n",
      "Applying Scaler to persistence diagrams.\n",
      "Got the result from ./1/train/filtrations/4/HeightFiltrartion_-1_0/red/diagrams.npy\n",
      "Applying Scaler to persistence diagrams.\n",
      "Got the result from ./1/train/filtrations/4/HeightFiltrartion_-1_0/red/diagrams.npy\n",
      "Applying Scaler to persistence diagrams.\n",
      "Got the result from ./1/train/filtrations/4/HeightFiltrartion_-1_0/green/diagrams.npy\n",
      "Applying Scaler to persistence diagrams.\n",
      "Got the result from ./1/train/filtrations/4/HeightFiltrartion_-1_0/green/diagrams.npy\n",
      "Applying Scaler to persistence diagrams.\n",
      "Got the result from ./1/train/filtrations/4/HeightFiltrartion_-1_0/blue/diagrams.npy\n",
      "Applying Scaler to persistence diagrams.\n",
      "Got the result from ./1/train/filtrations/4/HeightFiltrartion_-1_0/blue/diagrams.npy\n",
      "Applying Scaler to persistence diagrams.\n",
      "Fitting filtration 32/72: 4/HeightFiltrartion_1_0\n",
      "RGB images received. Transforming to grayscale.\n"
     ]
    },
    {
     "name": "stderr",
     "output_type": "stream",
     "text": [
      "rgb2gray: 100%|██████████| 9030/9030 [00:01<00:00, 5105.98it/s]\n"
     ]
    },
    {
     "name": "stdout",
     "output_type": "stream",
     "text": [
      "Got the result from ./1/train/filtrations/4/HeightFiltrartion_1_0/gray/diagrams.npy\n",
      "Applying Scaler to persistence diagrams.\n",
      "Got the result from ./1/train/filtrations/4/HeightFiltrartion_1_0/gray/diagrams.npy\n",
      "Applying Scaler to persistence diagrams.\n",
      "Got the result from ./1/train/filtrations/4/HeightFiltrartion_1_0/red/diagrams.npy\n",
      "Applying Scaler to persistence diagrams.\n",
      "Got the result from ./1/train/filtrations/4/HeightFiltrartion_1_0/red/diagrams.npy\n",
      "Applying Scaler to persistence diagrams.\n",
      "Got the result from ./1/train/filtrations/4/HeightFiltrartion_1_0/green/diagrams.npy\n",
      "Applying Scaler to persistence diagrams.\n",
      "Got the result from ./1/train/filtrations/4/HeightFiltrartion_1_0/green/diagrams.npy\n",
      "Applying Scaler to persistence diagrams.\n",
      "Got the result from ./1/train/filtrations/4/HeightFiltrartion_1_0/blue/diagrams.npy\n",
      "Applying Scaler to persistence diagrams.\n",
      "Got the result from ./1/train/filtrations/4/HeightFiltrartion_1_0/blue/diagrams.npy\n",
      "Applying Scaler to persistence diagrams.\n",
      "Fitting filtration 33/72: 4/RadialFiltration_12_12\n",
      "RGB images received. Transforming to grayscale.\n"
     ]
    },
    {
     "name": "stderr",
     "output_type": "stream",
     "text": [
      "rgb2gray: 100%|██████████| 9030/9030 [00:01<00:00, 5441.34it/s]\n"
     ]
    },
    {
     "name": "stdout",
     "output_type": "stream",
     "text": [
      "Got the result from ./1/train/filtrations/4/RadialFiltration_12_12/gray/diagrams.npy\n",
      "Applying Scaler to persistence diagrams.\n",
      "Got the result from ./1/train/filtrations/4/RadialFiltration_12_12/gray/diagrams.npy\n",
      "Applying Scaler to persistence diagrams.\n",
      "Got the result from ./1/train/filtrations/4/RadialFiltration_12_12/red/diagrams.npy\n",
      "Applying Scaler to persistence diagrams.\n",
      "Got the result from ./1/train/filtrations/4/RadialFiltration_12_12/red/diagrams.npy\n",
      "Applying Scaler to persistence diagrams.\n",
      "Got the result from ./1/train/filtrations/4/RadialFiltration_12_12/green/diagrams.npy\n",
      "Applying Scaler to persistence diagrams.\n",
      "Got the result from ./1/train/filtrations/4/RadialFiltration_12_12/green/diagrams.npy\n",
      "Applying Scaler to persistence diagrams.\n",
      "Got the result from ./1/train/filtrations/4/RadialFiltration_12_12/blue/diagrams.npy\n",
      "Applying Scaler to persistence diagrams.\n",
      "Got the result from ./1/train/filtrations/4/RadialFiltration_12_12/blue/diagrams.npy\n",
      "Applying Scaler to persistence diagrams.\n",
      "Fitting filtration 34/72: 4/RadialFiltration_12_25\n",
      "RGB images received. Transforming to grayscale.\n"
     ]
    },
    {
     "name": "stderr",
     "output_type": "stream",
     "text": [
      "rgb2gray: 100%|██████████| 9030/9030 [00:01<00:00, 5540.01it/s]\n"
     ]
    },
    {
     "name": "stdout",
     "output_type": "stream",
     "text": [
      "Got the result from ./1/train/filtrations/4/RadialFiltration_12_25/gray/diagrams.npy\n",
      "Applying Scaler to persistence diagrams.\n",
      "Got the result from ./1/train/filtrations/4/RadialFiltration_12_25/gray/diagrams.npy\n",
      "Applying Scaler to persistence diagrams.\n",
      "Got the result from ./1/train/filtrations/4/RadialFiltration_12_25/red/diagrams.npy\n",
      "Applying Scaler to persistence diagrams.\n",
      "Got the result from ./1/train/filtrations/4/RadialFiltration_12_25/red/diagrams.npy\n",
      "Applying Scaler to persistence diagrams.\n",
      "Got the result from ./1/train/filtrations/4/RadialFiltration_12_25/green/diagrams.npy\n",
      "Applying Scaler to persistence diagrams.\n",
      "Got the result from ./1/train/filtrations/4/RadialFiltration_12_25/green/diagrams.npy\n",
      "Applying Scaler to persistence diagrams.\n",
      "Got the result from ./1/train/filtrations/4/RadialFiltration_12_25/blue/diagrams.npy\n",
      "Applying Scaler to persistence diagrams.\n",
      "Got the result from ./1/train/filtrations/4/RadialFiltration_12_25/blue/diagrams.npy\n",
      "Applying Scaler to persistence diagrams.\n",
      "Fitting filtration 35/72: 4/RadialFiltration_12_38\n",
      "RGB images received. Transforming to grayscale.\n"
     ]
    },
    {
     "name": "stderr",
     "output_type": "stream",
     "text": [
      "rgb2gray: 100%|██████████| 9030/9030 [00:01<00:00, 5408.78it/s]\n"
     ]
    },
    {
     "name": "stdout",
     "output_type": "stream",
     "text": [
      "Got the result from ./1/train/filtrations/4/RadialFiltration_12_38/gray/diagrams.npy\n",
      "Applying Scaler to persistence diagrams.\n",
      "Got the result from ./1/train/filtrations/4/RadialFiltration_12_38/gray/diagrams.npy\n",
      "Applying Scaler to persistence diagrams.\n",
      "Got the result from ./1/train/filtrations/4/RadialFiltration_12_38/red/diagrams.npy\n",
      "Applying Scaler to persistence diagrams.\n",
      "Got the result from ./1/train/filtrations/4/RadialFiltration_12_38/red/diagrams.npy\n",
      "Applying Scaler to persistence diagrams.\n",
      "Got the result from ./1/train/filtrations/4/RadialFiltration_12_38/green/diagrams.npy\n",
      "Applying Scaler to persistence diagrams.\n",
      "Got the result from ./1/train/filtrations/4/RadialFiltration_12_38/green/diagrams.npy\n",
      "Applying Scaler to persistence diagrams.\n",
      "Got the result from ./1/train/filtrations/4/RadialFiltration_12_38/blue/diagrams.npy\n",
      "Applying Scaler to persistence diagrams.\n",
      "Got the result from ./1/train/filtrations/4/RadialFiltration_12_38/blue/diagrams.npy\n",
      "Applying Scaler to persistence diagrams.\n",
      "Fitting filtration 36/72: 4/RadialFiltration_12_51\n",
      "RGB images received. Transforming to grayscale.\n"
     ]
    },
    {
     "name": "stderr",
     "output_type": "stream",
     "text": [
      "rgb2gray: 100%|██████████| 9030/9030 [00:01<00:00, 5402.60it/s]\n"
     ]
    },
    {
     "name": "stdout",
     "output_type": "stream",
     "text": [
      "Got the result from ./1/train/filtrations/4/RadialFiltration_12_51/gray/diagrams.npy\n",
      "Applying Scaler to persistence diagrams.\n",
      "Got the result from ./1/train/filtrations/4/RadialFiltration_12_51/gray/diagrams.npy\n",
      "Applying Scaler to persistence diagrams.\n",
      "Got the result from ./1/train/filtrations/4/RadialFiltration_12_51/red/diagrams.npy\n",
      "Applying Scaler to persistence diagrams.\n",
      "Got the result from ./1/train/filtrations/4/RadialFiltration_12_51/red/diagrams.npy\n",
      "Applying Scaler to persistence diagrams.\n",
      "Got the result from ./1/train/filtrations/4/RadialFiltration_12_51/green/diagrams.npy\n",
      "Applying Scaler to persistence diagrams.\n",
      "Got the result from ./1/train/filtrations/4/RadialFiltration_12_51/green/diagrams.npy\n",
      "Applying Scaler to persistence diagrams.\n",
      "Got the result from ./1/train/filtrations/4/RadialFiltration_12_51/blue/diagrams.npy\n",
      "Applying Scaler to persistence diagrams.\n",
      "Got the result from ./1/train/filtrations/4/RadialFiltration_12_51/blue/diagrams.npy\n",
      "Applying Scaler to persistence diagrams.\n",
      "Fitting filtration 37/72: 4/RadialFiltration_25_12\n",
      "RGB images received. Transforming to grayscale.\n"
     ]
    },
    {
     "name": "stderr",
     "output_type": "stream",
     "text": [
      "rgb2gray: 100%|██████████| 9030/9030 [00:01<00:00, 5403.94it/s]\n"
     ]
    },
    {
     "name": "stdout",
     "output_type": "stream",
     "text": [
      "Got the result from ./1/train/filtrations/4/RadialFiltration_25_12/gray/diagrams.npy\n",
      "Applying Scaler to persistence diagrams.\n",
      "Got the result from ./1/train/filtrations/4/RadialFiltration_25_12/gray/diagrams.npy\n",
      "Applying Scaler to persistence diagrams.\n",
      "Got the result from ./1/train/filtrations/4/RadialFiltration_25_12/red/diagrams.npy\n",
      "Applying Scaler to persistence diagrams.\n",
      "Got the result from ./1/train/filtrations/4/RadialFiltration_25_12/red/diagrams.npy\n",
      "Applying Scaler to persistence diagrams.\n",
      "Got the result from ./1/train/filtrations/4/RadialFiltration_25_12/green/diagrams.npy\n",
      "Applying Scaler to persistence diagrams.\n",
      "Got the result from ./1/train/filtrations/4/RadialFiltration_25_12/green/diagrams.npy\n",
      "Applying Scaler to persistence diagrams.\n",
      "Got the result from ./1/train/filtrations/4/RadialFiltration_25_12/blue/diagrams.npy\n",
      "Applying Scaler to persistence diagrams.\n",
      "Got the result from ./1/train/filtrations/4/RadialFiltration_25_12/blue/diagrams.npy\n",
      "Applying Scaler to persistence diagrams.\n",
      "Fitting filtration 38/72: 4/RadialFiltration_25_25\n",
      "RGB images received. Transforming to grayscale.\n"
     ]
    },
    {
     "name": "stderr",
     "output_type": "stream",
     "text": [
      "rgb2gray: 100%|██████████| 9030/9030 [00:01<00:00, 5117.58it/s]\n"
     ]
    },
    {
     "name": "stdout",
     "output_type": "stream",
     "text": [
      "Got the result from ./1/train/filtrations/4/RadialFiltration_25_25/gray/diagrams.npy\n",
      "Applying Scaler to persistence diagrams.\n",
      "Got the result from ./1/train/filtrations/4/RadialFiltration_25_25/gray/diagrams.npy\n",
      "Applying Scaler to persistence diagrams.\n",
      "Got the result from ./1/train/filtrations/4/RadialFiltration_25_25/red/diagrams.npy\n",
      "Applying Scaler to persistence diagrams.\n",
      "Got the result from ./1/train/filtrations/4/RadialFiltration_25_25/red/diagrams.npy\n",
      "Applying Scaler to persistence diagrams.\n",
      "Got the result from ./1/train/filtrations/4/RadialFiltration_25_25/green/diagrams.npy\n",
      "Applying Scaler to persistence diagrams.\n",
      "Got the result from ./1/train/filtrations/4/RadialFiltration_25_25/green/diagrams.npy\n",
      "Applying Scaler to persistence diagrams.\n",
      "Got the result from ./1/train/filtrations/4/RadialFiltration_25_25/blue/diagrams.npy\n",
      "Applying Scaler to persistence diagrams.\n",
      "Got the result from ./1/train/filtrations/4/RadialFiltration_25_25/blue/diagrams.npy\n",
      "Applying Scaler to persistence diagrams.\n",
      "Fitting filtration 39/72: 4/RadialFiltration_25_38\n",
      "RGB images received. Transforming to grayscale.\n"
     ]
    },
    {
     "name": "stderr",
     "output_type": "stream",
     "text": [
      "rgb2gray: 100%|██████████| 9030/9030 [00:01<00:00, 5522.94it/s]\n"
     ]
    },
    {
     "name": "stdout",
     "output_type": "stream",
     "text": [
      "Got the result from ./1/train/filtrations/4/RadialFiltration_25_38/gray/diagrams.npy\n",
      "Applying Scaler to persistence diagrams.\n",
      "Got the result from ./1/train/filtrations/4/RadialFiltration_25_38/gray/diagrams.npy\n",
      "Applying Scaler to persistence diagrams.\n",
      "Got the result from ./1/train/filtrations/4/RadialFiltration_25_38/red/diagrams.npy\n",
      "Applying Scaler to persistence diagrams.\n",
      "Got the result from ./1/train/filtrations/4/RadialFiltration_25_38/red/diagrams.npy\n",
      "Applying Scaler to persistence diagrams.\n",
      "Got the result from ./1/train/filtrations/4/RadialFiltration_25_38/green/diagrams.npy\n",
      "Applying Scaler to persistence diagrams.\n",
      "Got the result from ./1/train/filtrations/4/RadialFiltration_25_38/green/diagrams.npy\n",
      "Applying Scaler to persistence diagrams.\n",
      "Got the result from ./1/train/filtrations/4/RadialFiltration_25_38/blue/diagrams.npy\n",
      "Applying Scaler to persistence diagrams.\n",
      "Got the result from ./1/train/filtrations/4/RadialFiltration_25_38/blue/diagrams.npy\n",
      "Applying Scaler to persistence diagrams.\n",
      "Fitting filtration 40/72: 4/RadialFiltration_25_51\n",
      "RGB images received. Transforming to grayscale.\n"
     ]
    },
    {
     "name": "stderr",
     "output_type": "stream",
     "text": [
      "rgb2gray: 100%|██████████| 9030/9030 [00:01<00:00, 5479.37it/s]\n"
     ]
    },
    {
     "name": "stdout",
     "output_type": "stream",
     "text": [
      "Got the result from ./1/train/filtrations/4/RadialFiltration_25_51/gray/diagrams.npy\n",
      "Applying Scaler to persistence diagrams.\n",
      "Got the result from ./1/train/filtrations/4/RadialFiltration_25_51/gray/diagrams.npy\n",
      "Applying Scaler to persistence diagrams.\n",
      "Got the result from ./1/train/filtrations/4/RadialFiltration_25_51/red/diagrams.npy\n",
      "Applying Scaler to persistence diagrams.\n",
      "Got the result from ./1/train/filtrations/4/RadialFiltration_25_51/red/diagrams.npy\n",
      "Applying Scaler to persistence diagrams.\n",
      "Got the result from ./1/train/filtrations/4/RadialFiltration_25_51/green/diagrams.npy\n",
      "Applying Scaler to persistence diagrams.\n",
      "Got the result from ./1/train/filtrations/4/RadialFiltration_25_51/green/diagrams.npy\n",
      "Applying Scaler to persistence diagrams.\n",
      "Got the result from ./1/train/filtrations/4/RadialFiltration_25_51/blue/diagrams.npy\n",
      "Applying Scaler to persistence diagrams.\n",
      "Got the result from ./1/train/filtrations/4/RadialFiltration_25_51/blue/diagrams.npy\n",
      "Applying Scaler to persistence diagrams.\n",
      "Fitting filtration 41/72: 4/RadialFiltration_38_12\n",
      "RGB images received. Transforming to grayscale.\n"
     ]
    },
    {
     "name": "stderr",
     "output_type": "stream",
     "text": [
      "rgb2gray: 100%|██████████| 9030/9030 [00:01<00:00, 5230.69it/s]\n"
     ]
    },
    {
     "name": "stdout",
     "output_type": "stream",
     "text": [
      "Got the result from ./1/train/filtrations/4/RadialFiltration_38_12/gray/diagrams.npy\n",
      "Applying Scaler to persistence diagrams.\n",
      "Got the result from ./1/train/filtrations/4/RadialFiltration_38_12/gray/diagrams.npy\n",
      "Applying Scaler to persistence diagrams.\n",
      "Got the result from ./1/train/filtrations/4/RadialFiltration_38_12/red/diagrams.npy\n",
      "Applying Scaler to persistence diagrams.\n",
      "Got the result from ./1/train/filtrations/4/RadialFiltration_38_12/red/diagrams.npy\n",
      "Applying Scaler to persistence diagrams.\n",
      "Got the result from ./1/train/filtrations/4/RadialFiltration_38_12/green/diagrams.npy\n",
      "Applying Scaler to persistence diagrams.\n",
      "Got the result from ./1/train/filtrations/4/RadialFiltration_38_12/green/diagrams.npy\n",
      "Applying Scaler to persistence diagrams.\n",
      "Got the result from ./1/train/filtrations/4/RadialFiltration_38_12/blue/diagrams.npy\n",
      "Applying Scaler to persistence diagrams.\n",
      "Got the result from ./1/train/filtrations/4/RadialFiltration_38_12/blue/diagrams.npy\n",
      "Applying Scaler to persistence diagrams.\n",
      "Fitting filtration 42/72: 4/RadialFiltration_38_25\n",
      "RGB images received. Transforming to grayscale.\n"
     ]
    },
    {
     "name": "stderr",
     "output_type": "stream",
     "text": [
      "rgb2gray: 100%|██████████| 9030/9030 [00:01<00:00, 5383.06it/s]\n"
     ]
    },
    {
     "name": "stdout",
     "output_type": "stream",
     "text": [
      "Got the result from ./1/train/filtrations/4/RadialFiltration_38_25/gray/diagrams.npy\n",
      "Applying Scaler to persistence diagrams.\n",
      "Got the result from ./1/train/filtrations/4/RadialFiltration_38_25/gray/diagrams.npy\n",
      "Applying Scaler to persistence diagrams.\n",
      "Got the result from ./1/train/filtrations/4/RadialFiltration_38_25/red/diagrams.npy\n",
      "Applying Scaler to persistence diagrams.\n",
      "Got the result from ./1/train/filtrations/4/RadialFiltration_38_25/red/diagrams.npy\n",
      "Applying Scaler to persistence diagrams.\n",
      "Got the result from ./1/train/filtrations/4/RadialFiltration_38_25/green/diagrams.npy\n",
      "Applying Scaler to persistence diagrams.\n",
      "Got the result from ./1/train/filtrations/4/RadialFiltration_38_25/green/diagrams.npy\n",
      "Applying Scaler to persistence diagrams.\n",
      "Got the result from ./1/train/filtrations/4/RadialFiltration_38_25/blue/diagrams.npy\n",
      "Applying Scaler to persistence diagrams.\n",
      "Got the result from ./1/train/filtrations/4/RadialFiltration_38_25/blue/diagrams.npy\n",
      "Applying Scaler to persistence diagrams.\n",
      "Fitting filtration 43/72: 4/RadialFiltration_38_38\n",
      "RGB images received. Transforming to grayscale.\n"
     ]
    },
    {
     "name": "stderr",
     "output_type": "stream",
     "text": [
      "rgb2gray: 100%|██████████| 9030/9030 [00:01<00:00, 5265.31it/s]\n"
     ]
    },
    {
     "name": "stdout",
     "output_type": "stream",
     "text": [
      "Got the result from ./1/train/filtrations/4/RadialFiltration_38_38/gray/diagrams.npy\n",
      "Applying Scaler to persistence diagrams.\n",
      "Got the result from ./1/train/filtrations/4/RadialFiltration_38_38/gray/diagrams.npy\n",
      "Applying Scaler to persistence diagrams.\n",
      "Got the result from ./1/train/filtrations/4/RadialFiltration_38_38/red/diagrams.npy\n",
      "Applying Scaler to persistence diagrams.\n",
      "Got the result from ./1/train/filtrations/4/RadialFiltration_38_38/red/diagrams.npy\n",
      "Applying Scaler to persistence diagrams.\n",
      "Got the result from ./1/train/filtrations/4/RadialFiltration_38_38/green/diagrams.npy\n",
      "Applying Scaler to persistence diagrams.\n",
      "Got the result from ./1/train/filtrations/4/RadialFiltration_38_38/green/diagrams.npy\n",
      "Applying Scaler to persistence diagrams.\n",
      "Got the result from ./1/train/filtrations/4/RadialFiltration_38_38/blue/diagrams.npy\n",
      "Applying Scaler to persistence diagrams.\n",
      "Got the result from ./1/train/filtrations/4/RadialFiltration_38_38/blue/diagrams.npy\n",
      "Applying Scaler to persistence diagrams.\n",
      "Fitting filtration 44/72: 4/RadialFiltration_38_51\n",
      "RGB images received. Transforming to grayscale.\n"
     ]
    },
    {
     "name": "stderr",
     "output_type": "stream",
     "text": [
      "rgb2gray: 100%|██████████| 9030/9030 [00:01<00:00, 5408.80it/s]\n"
     ]
    },
    {
     "name": "stdout",
     "output_type": "stream",
     "text": [
      "Got the result from ./1/train/filtrations/4/RadialFiltration_38_51/gray/diagrams.npy\n",
      "Applying Scaler to persistence diagrams.\n",
      "Got the result from ./1/train/filtrations/4/RadialFiltration_38_51/gray/diagrams.npy\n",
      "Applying Scaler to persistence diagrams.\n",
      "Got the result from ./1/train/filtrations/4/RadialFiltration_38_51/red/diagrams.npy\n",
      "Applying Scaler to persistence diagrams.\n",
      "Got the result from ./1/train/filtrations/4/RadialFiltration_38_51/red/diagrams.npy\n",
      "Applying Scaler to persistence diagrams.\n",
      "Got the result from ./1/train/filtrations/4/RadialFiltration_38_51/green/diagrams.npy\n",
      "Applying Scaler to persistence diagrams.\n",
      "Got the result from ./1/train/filtrations/4/RadialFiltration_38_51/green/diagrams.npy\n",
      "Applying Scaler to persistence diagrams.\n",
      "Got the result from ./1/train/filtrations/4/RadialFiltration_38_51/blue/diagrams.npy\n",
      "Applying Scaler to persistence diagrams.\n",
      "Got the result from ./1/train/filtrations/4/RadialFiltration_38_51/blue/diagrams.npy\n",
      "Applying Scaler to persistence diagrams.\n",
      "Fitting filtration 45/72: 4/RadialFiltration_51_12\n",
      "RGB images received. Transforming to grayscale.\n"
     ]
    },
    {
     "name": "stderr",
     "output_type": "stream",
     "text": [
      "rgb2gray: 100%|██████████| 9030/9030 [00:01<00:00, 5451.23it/s]\n"
     ]
    },
    {
     "name": "stdout",
     "output_type": "stream",
     "text": [
      "Got the result from ./1/train/filtrations/4/RadialFiltration_51_12/gray/diagrams.npy\n",
      "Applying Scaler to persistence diagrams.\n",
      "Got the result from ./1/train/filtrations/4/RadialFiltration_51_12/gray/diagrams.npy\n",
      "Applying Scaler to persistence diagrams.\n",
      "Got the result from ./1/train/filtrations/4/RadialFiltration_51_12/red/diagrams.npy\n",
      "Applying Scaler to persistence diagrams.\n",
      "Got the result from ./1/train/filtrations/4/RadialFiltration_51_12/red/diagrams.npy\n",
      "Applying Scaler to persistence diagrams.\n",
      "Got the result from ./1/train/filtrations/4/RadialFiltration_51_12/green/diagrams.npy\n",
      "Applying Scaler to persistence diagrams.\n",
      "Got the result from ./1/train/filtrations/4/RadialFiltration_51_12/green/diagrams.npy\n",
      "Applying Scaler to persistence diagrams.\n",
      "Got the result from ./1/train/filtrations/4/RadialFiltration_51_12/blue/diagrams.npy\n",
      "Applying Scaler to persistence diagrams.\n",
      "Got the result from ./1/train/filtrations/4/RadialFiltration_51_12/blue/diagrams.npy\n",
      "Applying Scaler to persistence diagrams.\n",
      "Fitting filtration 46/72: 4/RadialFiltration_51_25\n",
      "RGB images received. Transforming to grayscale.\n"
     ]
    },
    {
     "name": "stderr",
     "output_type": "stream",
     "text": [
      "rgb2gray: 100%|██████████| 9030/9030 [00:01<00:00, 5375.00it/s]\n"
     ]
    },
    {
     "name": "stdout",
     "output_type": "stream",
     "text": [
      "Got the result from ./1/train/filtrations/4/RadialFiltration_51_25/gray/diagrams.npy\n",
      "Applying Scaler to persistence diagrams.\n",
      "Got the result from ./1/train/filtrations/4/RadialFiltration_51_25/gray/diagrams.npy\n",
      "Applying Scaler to persistence diagrams.\n",
      "Got the result from ./1/train/filtrations/4/RadialFiltration_51_25/red/diagrams.npy\n",
      "Applying Scaler to persistence diagrams.\n",
      "Got the result from ./1/train/filtrations/4/RadialFiltration_51_25/red/diagrams.npy\n",
      "Applying Scaler to persistence diagrams.\n",
      "Got the result from ./1/train/filtrations/4/RadialFiltration_51_25/green/diagrams.npy\n",
      "Applying Scaler to persistence diagrams.\n",
      "Got the result from ./1/train/filtrations/4/RadialFiltration_51_25/green/diagrams.npy\n",
      "Applying Scaler to persistence diagrams.\n",
      "Got the result from ./1/train/filtrations/4/RadialFiltration_51_25/blue/diagrams.npy\n",
      "Applying Scaler to persistence diagrams.\n",
      "Got the result from ./1/train/filtrations/4/RadialFiltration_51_25/blue/diagrams.npy\n",
      "Applying Scaler to persistence diagrams.\n",
      "Fitting filtration 47/72: 4/RadialFiltration_51_38\n",
      "RGB images received. Transforming to grayscale.\n"
     ]
    },
    {
     "name": "stderr",
     "output_type": "stream",
     "text": [
      "rgb2gray: 100%|██████████| 9030/9030 [00:01<00:00, 5374.25it/s]\n"
     ]
    },
    {
     "name": "stdout",
     "output_type": "stream",
     "text": [
      "Got the result from ./1/train/filtrations/4/RadialFiltration_51_38/gray/diagrams.npy\n",
      "Applying Scaler to persistence diagrams.\n",
      "Got the result from ./1/train/filtrations/4/RadialFiltration_51_38/gray/diagrams.npy\n",
      "Applying Scaler to persistence diagrams.\n",
      "Got the result from ./1/train/filtrations/4/RadialFiltration_51_38/red/diagrams.npy\n",
      "Applying Scaler to persistence diagrams.\n",
      "Got the result from ./1/train/filtrations/4/RadialFiltration_51_38/red/diagrams.npy\n",
      "Applying Scaler to persistence diagrams.\n",
      "Got the result from ./1/train/filtrations/4/RadialFiltration_51_38/green/diagrams.npy\n",
      "Applying Scaler to persistence diagrams.\n",
      "Got the result from ./1/train/filtrations/4/RadialFiltration_51_38/green/diagrams.npy\n",
      "Applying Scaler to persistence diagrams.\n",
      "Got the result from ./1/train/filtrations/4/RadialFiltration_51_38/blue/diagrams.npy\n",
      "Applying Scaler to persistence diagrams.\n",
      "Got the result from ./1/train/filtrations/4/RadialFiltration_51_38/blue/diagrams.npy\n",
      "Applying Scaler to persistence diagrams.\n",
      "Fitting filtration 48/72: 4/RadialFiltration_51_51\n",
      "RGB images received. Transforming to grayscale.\n"
     ]
    },
    {
     "name": "stderr",
     "output_type": "stream",
     "text": [
      "rgb2gray: 100%|██████████| 9030/9030 [00:01<00:00, 5441.37it/s]\n"
     ]
    },
    {
     "name": "stdout",
     "output_type": "stream",
     "text": [
      "Got the result from ./1/train/filtrations/4/RadialFiltration_51_51/gray/diagrams.npy\n",
      "Applying Scaler to persistence diagrams.\n",
      "Got the result from ./1/train/filtrations/4/RadialFiltration_51_51/gray/diagrams.npy\n",
      "Applying Scaler to persistence diagrams.\n",
      "Got the result from ./1/train/filtrations/4/RadialFiltration_51_51/red/diagrams.npy\n",
      "Applying Scaler to persistence diagrams.\n",
      "Got the result from ./1/train/filtrations/4/RadialFiltration_51_51/red/diagrams.npy\n",
      "Applying Scaler to persistence diagrams.\n",
      "Got the result from ./1/train/filtrations/4/RadialFiltration_51_51/green/diagrams.npy\n",
      "Applying Scaler to persistence diagrams.\n",
      "Got the result from ./1/train/filtrations/4/RadialFiltration_51_51/green/diagrams.npy\n",
      "Applying Scaler to persistence diagrams.\n",
      "Got the result from ./1/train/filtrations/4/RadialFiltration_51_51/blue/diagrams.npy\n",
      "Applying Scaler to persistence diagrams.\n",
      "Got the result from ./1/train/filtrations/4/RadialFiltration_51_51/blue/diagrams.npy\n",
      "Applying Scaler to persistence diagrams.\n",
      "Fitting filtration 49/72: 6/HeightFiltrartion_-1_-1\n",
      "RGB images received. Transforming to grayscale.\n"
     ]
    },
    {
     "name": "stderr",
     "output_type": "stream",
     "text": [
      "rgb2gray: 100%|██████████| 9030/9030 [00:01<00:00, 5498.10it/s]\n"
     ]
    },
    {
     "name": "stdout",
     "output_type": "stream",
     "text": [
      "Got the result from ./1/train/filtrations/6/HeightFiltrartion_-1_-1/gray/diagrams.npy\n",
      "Applying Scaler to persistence diagrams.\n",
      "Got the result from ./1/train/filtrations/6/HeightFiltrartion_-1_-1/gray/diagrams.npy\n",
      "Applying Scaler to persistence diagrams.\n",
      "Got the result from ./1/train/filtrations/6/HeightFiltrartion_-1_-1/red/diagrams.npy\n",
      "Applying Scaler to persistence diagrams.\n",
      "Got the result from ./1/train/filtrations/6/HeightFiltrartion_-1_-1/red/diagrams.npy\n",
      "Applying Scaler to persistence diagrams.\n",
      "Got the result from ./1/train/filtrations/6/HeightFiltrartion_-1_-1/green/diagrams.npy\n",
      "Applying Scaler to persistence diagrams.\n",
      "Got the result from ./1/train/filtrations/6/HeightFiltrartion_-1_-1/green/diagrams.npy\n",
      "Applying Scaler to persistence diagrams.\n",
      "Got the result from ./1/train/filtrations/6/HeightFiltrartion_-1_-1/blue/diagrams.npy\n",
      "Applying Scaler to persistence diagrams.\n",
      "Got the result from ./1/train/filtrations/6/HeightFiltrartion_-1_-1/blue/diagrams.npy\n",
      "Applying Scaler to persistence diagrams.\n",
      "Fitting filtration 50/72: 6/HeightFiltrartion_1_1\n",
      "RGB images received. Transforming to grayscale.\n"
     ]
    },
    {
     "name": "stderr",
     "output_type": "stream",
     "text": [
      "rgb2gray: 100%|██████████| 9030/9030 [00:01<00:00, 5030.28it/s]\n"
     ]
    },
    {
     "name": "stdout",
     "output_type": "stream",
     "text": [
      "Got the result from ./1/train/filtrations/6/HeightFiltrartion_1_1/gray/diagrams.npy\n",
      "Applying Scaler to persistence diagrams.\n",
      "Got the result from ./1/train/filtrations/6/HeightFiltrartion_1_1/gray/diagrams.npy\n",
      "Applying Scaler to persistence diagrams.\n",
      "Got the result from ./1/train/filtrations/6/HeightFiltrartion_1_1/red/diagrams.npy\n",
      "Applying Scaler to persistence diagrams.\n",
      "Got the result from ./1/train/filtrations/6/HeightFiltrartion_1_1/red/diagrams.npy\n",
      "Applying Scaler to persistence diagrams.\n",
      "Got the result from ./1/train/filtrations/6/HeightFiltrartion_1_1/green/diagrams.npy\n",
      "Applying Scaler to persistence diagrams.\n",
      "Got the result from ./1/train/filtrations/6/HeightFiltrartion_1_1/green/diagrams.npy\n",
      "Applying Scaler to persistence diagrams.\n",
      "Got the result from ./1/train/filtrations/6/HeightFiltrartion_1_1/blue/diagrams.npy\n",
      "Applying Scaler to persistence diagrams.\n",
      "Got the result from ./1/train/filtrations/6/HeightFiltrartion_1_1/blue/diagrams.npy\n",
      "Applying Scaler to persistence diagrams.\n",
      "Fitting filtration 51/72: 6/HeightFiltrartion_1_-1\n",
      "RGB images received. Transforming to grayscale.\n"
     ]
    },
    {
     "name": "stderr",
     "output_type": "stream",
     "text": [
      "rgb2gray: 100%|██████████| 9030/9030 [00:01<00:00, 5340.03it/s]\n"
     ]
    },
    {
     "name": "stdout",
     "output_type": "stream",
     "text": [
      "Got the result from ./1/train/filtrations/6/HeightFiltrartion_1_-1/gray/diagrams.npy\n",
      "Applying Scaler to persistence diagrams.\n",
      "Got the result from ./1/train/filtrations/6/HeightFiltrartion_1_-1/gray/diagrams.npy\n",
      "Applying Scaler to persistence diagrams.\n",
      "Got the result from ./1/train/filtrations/6/HeightFiltrartion_1_-1/red/diagrams.npy\n",
      "Applying Scaler to persistence diagrams.\n",
      "Got the result from ./1/train/filtrations/6/HeightFiltrartion_1_-1/red/diagrams.npy\n",
      "Applying Scaler to persistence diagrams.\n",
      "Got the result from ./1/train/filtrations/6/HeightFiltrartion_1_-1/green/diagrams.npy\n",
      "Applying Scaler to persistence diagrams.\n",
      "Got the result from ./1/train/filtrations/6/HeightFiltrartion_1_-1/green/diagrams.npy\n",
      "Applying Scaler to persistence diagrams.\n",
      "Got the result from ./1/train/filtrations/6/HeightFiltrartion_1_-1/blue/diagrams.npy\n",
      "Applying Scaler to persistence diagrams.\n",
      "Got the result from ./1/train/filtrations/6/HeightFiltrartion_1_-1/blue/diagrams.npy\n",
      "Applying Scaler to persistence diagrams.\n",
      "Fitting filtration 52/72: 6/HeightFiltrartion_-1_1\n",
      "RGB images received. Transforming to grayscale.\n"
     ]
    },
    {
     "name": "stderr",
     "output_type": "stream",
     "text": [
      "rgb2gray: 100%|██████████| 9030/9030 [00:01<00:00, 5412.02it/s]\n"
     ]
    },
    {
     "name": "stdout",
     "output_type": "stream",
     "text": [
      "Got the result from ./1/train/filtrations/6/HeightFiltrartion_-1_1/gray/diagrams.npy\n",
      "Applying Scaler to persistence diagrams.\n",
      "Got the result from ./1/train/filtrations/6/HeightFiltrartion_-1_1/gray/diagrams.npy\n",
      "Applying Scaler to persistence diagrams.\n",
      "Got the result from ./1/train/filtrations/6/HeightFiltrartion_-1_1/red/diagrams.npy\n",
      "Applying Scaler to persistence diagrams.\n",
      "Got the result from ./1/train/filtrations/6/HeightFiltrartion_-1_1/red/diagrams.npy\n",
      "Applying Scaler to persistence diagrams.\n",
      "Got the result from ./1/train/filtrations/6/HeightFiltrartion_-1_1/green/diagrams.npy\n",
      "Applying Scaler to persistence diagrams.\n",
      "Got the result from ./1/train/filtrations/6/HeightFiltrartion_-1_1/green/diagrams.npy\n",
      "Applying Scaler to persistence diagrams.\n",
      "Got the result from ./1/train/filtrations/6/HeightFiltrartion_-1_1/blue/diagrams.npy\n",
      "Applying Scaler to persistence diagrams.\n",
      "Got the result from ./1/train/filtrations/6/HeightFiltrartion_-1_1/blue/diagrams.npy\n",
      "Applying Scaler to persistence diagrams.\n",
      "Fitting filtration 53/72: 6/HeightFiltrartion_0_-1\n",
      "RGB images received. Transforming to grayscale.\n"
     ]
    },
    {
     "name": "stderr",
     "output_type": "stream",
     "text": [
      "rgb2gray: 100%|██████████| 9030/9030 [00:01<00:00, 5412.52it/s]\n"
     ]
    },
    {
     "name": "stdout",
     "output_type": "stream",
     "text": [
      "Got the result from ./1/train/filtrations/6/HeightFiltrartion_0_-1/gray/diagrams.npy\n",
      "Applying Scaler to persistence diagrams.\n",
      "Got the result from ./1/train/filtrations/6/HeightFiltrartion_0_-1/gray/diagrams.npy\n",
      "Applying Scaler to persistence diagrams.\n",
      "Got the result from ./1/train/filtrations/6/HeightFiltrartion_0_-1/red/diagrams.npy\n",
      "Applying Scaler to persistence diagrams.\n",
      "Got the result from ./1/train/filtrations/6/HeightFiltrartion_0_-1/red/diagrams.npy\n",
      "Applying Scaler to persistence diagrams.\n",
      "Got the result from ./1/train/filtrations/6/HeightFiltrartion_0_-1/green/diagrams.npy\n",
      "Applying Scaler to persistence diagrams.\n",
      "Got the result from ./1/train/filtrations/6/HeightFiltrartion_0_-1/green/diagrams.npy\n",
      "Applying Scaler to persistence diagrams.\n",
      "Got the result from ./1/train/filtrations/6/HeightFiltrartion_0_-1/blue/diagrams.npy\n",
      "Applying Scaler to persistence diagrams.\n",
      "Got the result from ./1/train/filtrations/6/HeightFiltrartion_0_-1/blue/diagrams.npy\n",
      "Applying Scaler to persistence diagrams.\n",
      "Fitting filtration 54/72: 6/HeightFiltrartion_0_1\n",
      "RGB images received. Transforming to grayscale.\n"
     ]
    },
    {
     "name": "stderr",
     "output_type": "stream",
     "text": [
      "rgb2gray: 100%|██████████| 9030/9030 [00:01<00:00, 5421.77it/s]\n"
     ]
    },
    {
     "name": "stdout",
     "output_type": "stream",
     "text": [
      "Got the result from ./1/train/filtrations/6/HeightFiltrartion_0_1/gray/diagrams.npy\n",
      "Applying Scaler to persistence diagrams.\n",
      "Got the result from ./1/train/filtrations/6/HeightFiltrartion_0_1/gray/diagrams.npy\n",
      "Applying Scaler to persistence diagrams.\n",
      "Got the result from ./1/train/filtrations/6/HeightFiltrartion_0_1/red/diagrams.npy\n",
      "Applying Scaler to persistence diagrams.\n",
      "Got the result from ./1/train/filtrations/6/HeightFiltrartion_0_1/red/diagrams.npy\n",
      "Applying Scaler to persistence diagrams.\n",
      "Got the result from ./1/train/filtrations/6/HeightFiltrartion_0_1/green/diagrams.npy\n",
      "Applying Scaler to persistence diagrams.\n",
      "Got the result from ./1/train/filtrations/6/HeightFiltrartion_0_1/green/diagrams.npy\n",
      "Applying Scaler to persistence diagrams.\n",
      "Got the result from ./1/train/filtrations/6/HeightFiltrartion_0_1/blue/diagrams.npy\n",
      "Applying Scaler to persistence diagrams.\n",
      "Got the result from ./1/train/filtrations/6/HeightFiltrartion_0_1/blue/diagrams.npy\n",
      "Applying Scaler to persistence diagrams.\n",
      "Fitting filtration 55/72: 6/HeightFiltrartion_-1_0\n",
      "RGB images received. Transforming to grayscale.\n"
     ]
    },
    {
     "name": "stderr",
     "output_type": "stream",
     "text": [
      "rgb2gray: 100%|██████████| 9030/9030 [00:01<00:00, 5371.37it/s]\n"
     ]
    },
    {
     "name": "stdout",
     "output_type": "stream",
     "text": [
      "Got the result from ./1/train/filtrations/6/HeightFiltrartion_-1_0/gray/diagrams.npy\n",
      "Applying Scaler to persistence diagrams.\n",
      "Got the result from ./1/train/filtrations/6/HeightFiltrartion_-1_0/gray/diagrams.npy\n",
      "Applying Scaler to persistence diagrams.\n",
      "Got the result from ./1/train/filtrations/6/HeightFiltrartion_-1_0/red/diagrams.npy\n",
      "Applying Scaler to persistence diagrams.\n",
      "Got the result from ./1/train/filtrations/6/HeightFiltrartion_-1_0/red/diagrams.npy\n",
      "Applying Scaler to persistence diagrams.\n",
      "Got the result from ./1/train/filtrations/6/HeightFiltrartion_-1_0/green/diagrams.npy\n",
      "Applying Scaler to persistence diagrams.\n",
      "Got the result from ./1/train/filtrations/6/HeightFiltrartion_-1_0/green/diagrams.npy\n",
      "Applying Scaler to persistence diagrams.\n",
      "Got the result from ./1/train/filtrations/6/HeightFiltrartion_-1_0/blue/diagrams.npy\n",
      "Applying Scaler to persistence diagrams.\n",
      "Got the result from ./1/train/filtrations/6/HeightFiltrartion_-1_0/blue/diagrams.npy\n",
      "Applying Scaler to persistence diagrams.\n",
      "Fitting filtration 56/72: 6/HeightFiltrartion_1_0\n",
      "RGB images received. Transforming to grayscale.\n"
     ]
    },
    {
     "name": "stderr",
     "output_type": "stream",
     "text": [
      "rgb2gray: 100%|██████████| 9030/9030 [00:01<00:00, 5402.36it/s]\n"
     ]
    },
    {
     "name": "stdout",
     "output_type": "stream",
     "text": [
      "Got the result from ./1/train/filtrations/6/HeightFiltrartion_1_0/gray/diagrams.npy\n",
      "Applying Scaler to persistence diagrams.\n",
      "Got the result from ./1/train/filtrations/6/HeightFiltrartion_1_0/gray/diagrams.npy\n",
      "Applying Scaler to persistence diagrams.\n",
      "Got the result from ./1/train/filtrations/6/HeightFiltrartion_1_0/red/diagrams.npy\n",
      "Applying Scaler to persistence diagrams.\n",
      "Got the result from ./1/train/filtrations/6/HeightFiltrartion_1_0/red/diagrams.npy\n",
      "Applying Scaler to persistence diagrams.\n",
      "Got the result from ./1/train/filtrations/6/HeightFiltrartion_1_0/green/diagrams.npy\n",
      "Applying Scaler to persistence diagrams.\n",
      "Got the result from ./1/train/filtrations/6/HeightFiltrartion_1_0/green/diagrams.npy\n",
      "Applying Scaler to persistence diagrams.\n",
      "Got the result from ./1/train/filtrations/6/HeightFiltrartion_1_0/blue/diagrams.npy\n",
      "Applying Scaler to persistence diagrams.\n",
      "Got the result from ./1/train/filtrations/6/HeightFiltrartion_1_0/blue/diagrams.npy\n",
      "Applying Scaler to persistence diagrams.\n",
      "Fitting filtration 57/72: 6/RadialFiltration_12_12\n",
      "RGB images received. Transforming to grayscale.\n"
     ]
    },
    {
     "name": "stderr",
     "output_type": "stream",
     "text": [
      "rgb2gray: 100%|██████████| 9030/9030 [00:01<00:00, 5355.81it/s]\n"
     ]
    },
    {
     "name": "stdout",
     "output_type": "stream",
     "text": [
      "Got the result from ./1/train/filtrations/6/RadialFiltration_12_12/gray/diagrams.npy\n",
      "Applying Scaler to persistence diagrams.\n",
      "Got the result from ./1/train/filtrations/6/RadialFiltration_12_12/gray/diagrams.npy\n",
      "Applying Scaler to persistence diagrams.\n",
      "Got the result from ./1/train/filtrations/6/RadialFiltration_12_12/red/diagrams.npy\n",
      "Applying Scaler to persistence diagrams.\n",
      "Got the result from ./1/train/filtrations/6/RadialFiltration_12_12/red/diagrams.npy\n",
      "Applying Scaler to persistence diagrams.\n",
      "Got the result from ./1/train/filtrations/6/RadialFiltration_12_12/green/diagrams.npy\n",
      "Applying Scaler to persistence diagrams.\n",
      "Got the result from ./1/train/filtrations/6/RadialFiltration_12_12/green/diagrams.npy\n",
      "Applying Scaler to persistence diagrams.\n",
      "Got the result from ./1/train/filtrations/6/RadialFiltration_12_12/blue/diagrams.npy\n",
      "Applying Scaler to persistence diagrams.\n",
      "Got the result from ./1/train/filtrations/6/RadialFiltration_12_12/blue/diagrams.npy\n",
      "Applying Scaler to persistence diagrams.\n",
      "Fitting filtration 58/72: 6/RadialFiltration_12_25\n",
      "RGB images received. Transforming to grayscale.\n"
     ]
    },
    {
     "name": "stderr",
     "output_type": "stream",
     "text": [
      "rgb2gray: 100%|██████████| 9030/9030 [00:01<00:00, 5497.77it/s]\n"
     ]
    },
    {
     "name": "stdout",
     "output_type": "stream",
     "text": [
      "Got the result from ./1/train/filtrations/6/RadialFiltration_12_25/gray/diagrams.npy\n",
      "Applying Scaler to persistence diagrams.\n",
      "Got the result from ./1/train/filtrations/6/RadialFiltration_12_25/gray/diagrams.npy\n",
      "Applying Scaler to persistence diagrams.\n",
      "Got the result from ./1/train/filtrations/6/RadialFiltration_12_25/red/diagrams.npy\n",
      "Applying Scaler to persistence diagrams.\n",
      "Got the result from ./1/train/filtrations/6/RadialFiltration_12_25/red/diagrams.npy\n",
      "Applying Scaler to persistence diagrams.\n",
      "Got the result from ./1/train/filtrations/6/RadialFiltration_12_25/green/diagrams.npy\n",
      "Applying Scaler to persistence diagrams.\n",
      "Got the result from ./1/train/filtrations/6/RadialFiltration_12_25/green/diagrams.npy\n",
      "Applying Scaler to persistence diagrams.\n",
      "Got the result from ./1/train/filtrations/6/RadialFiltration_12_25/blue/diagrams.npy\n",
      "Applying Scaler to persistence diagrams.\n",
      "Got the result from ./1/train/filtrations/6/RadialFiltration_12_25/blue/diagrams.npy\n",
      "Applying Scaler to persistence diagrams.\n",
      "Fitting filtration 59/72: 6/RadialFiltration_12_38\n",
      "RGB images received. Transforming to grayscale.\n"
     ]
    },
    {
     "name": "stderr",
     "output_type": "stream",
     "text": [
      "rgb2gray: 100%|██████████| 9030/9030 [00:01<00:00, 5288.40it/s]\n"
     ]
    },
    {
     "name": "stdout",
     "output_type": "stream",
     "text": [
      "Got the result from ./1/train/filtrations/6/RadialFiltration_12_38/gray/diagrams.npy\n",
      "Applying Scaler to persistence diagrams.\n",
      "Got the result from ./1/train/filtrations/6/RadialFiltration_12_38/gray/diagrams.npy\n",
      "Applying Scaler to persistence diagrams.\n",
      "Got the result from ./1/train/filtrations/6/RadialFiltration_12_38/red/diagrams.npy\n",
      "Applying Scaler to persistence diagrams.\n",
      "Got the result from ./1/train/filtrations/6/RadialFiltration_12_38/red/diagrams.npy\n",
      "Applying Scaler to persistence diagrams.\n",
      "Got the result from ./1/train/filtrations/6/RadialFiltration_12_38/green/diagrams.npy\n",
      "Applying Scaler to persistence diagrams.\n",
      "Got the result from ./1/train/filtrations/6/RadialFiltration_12_38/green/diagrams.npy\n",
      "Applying Scaler to persistence diagrams.\n",
      "Got the result from ./1/train/filtrations/6/RadialFiltration_12_38/blue/diagrams.npy\n",
      "Applying Scaler to persistence diagrams.\n",
      "Got the result from ./1/train/filtrations/6/RadialFiltration_12_38/blue/diagrams.npy\n",
      "Applying Scaler to persistence diagrams.\n",
      "Fitting filtration 60/72: 6/RadialFiltration_12_51\n",
      "RGB images received. Transforming to grayscale.\n"
     ]
    },
    {
     "name": "stderr",
     "output_type": "stream",
     "text": [
      "rgb2gray: 100%|██████████| 9030/9030 [00:01<00:00, 5346.36it/s]\n"
     ]
    },
    {
     "name": "stdout",
     "output_type": "stream",
     "text": [
      "Got the result from ./1/train/filtrations/6/RadialFiltration_12_51/gray/diagrams.npy\n",
      "Applying Scaler to persistence diagrams.\n",
      "Got the result from ./1/train/filtrations/6/RadialFiltration_12_51/gray/diagrams.npy\n",
      "Applying Scaler to persistence diagrams.\n",
      "Got the result from ./1/train/filtrations/6/RadialFiltration_12_51/red/diagrams.npy\n",
      "Applying Scaler to persistence diagrams.\n",
      "Got the result from ./1/train/filtrations/6/RadialFiltration_12_51/red/diagrams.npy\n",
      "Applying Scaler to persistence diagrams.\n",
      "Got the result from ./1/train/filtrations/6/RadialFiltration_12_51/green/diagrams.npy\n",
      "Applying Scaler to persistence diagrams.\n",
      "Got the result from ./1/train/filtrations/6/RadialFiltration_12_51/green/diagrams.npy\n",
      "Applying Scaler to persistence diagrams.\n",
      "Got the result from ./1/train/filtrations/6/RadialFiltration_12_51/blue/diagrams.npy\n",
      "Applying Scaler to persistence diagrams.\n",
      "Got the result from ./1/train/filtrations/6/RadialFiltration_12_51/blue/diagrams.npy\n",
      "Applying Scaler to persistence diagrams.\n",
      "Fitting filtration 61/72: 6/RadialFiltration_25_12\n",
      "RGB images received. Transforming to grayscale.\n"
     ]
    },
    {
     "name": "stderr",
     "output_type": "stream",
     "text": [
      "rgb2gray: 100%|██████████| 9030/9030 [00:01<00:00, 5405.68it/s]\n"
     ]
    },
    {
     "name": "stdout",
     "output_type": "stream",
     "text": [
      "Got the result from ./1/train/filtrations/6/RadialFiltration_25_12/gray/diagrams.npy\n",
      "Applying Scaler to persistence diagrams.\n",
      "Got the result from ./1/train/filtrations/6/RadialFiltration_25_12/gray/diagrams.npy\n",
      "Applying Scaler to persistence diagrams.\n",
      "Got the result from ./1/train/filtrations/6/RadialFiltration_25_12/red/diagrams.npy\n",
      "Applying Scaler to persistence diagrams.\n",
      "Got the result from ./1/train/filtrations/6/RadialFiltration_25_12/red/diagrams.npy\n",
      "Applying Scaler to persistence diagrams.\n",
      "Got the result from ./1/train/filtrations/6/RadialFiltration_25_12/green/diagrams.npy\n",
      "Applying Scaler to persistence diagrams.\n",
      "Got the result from ./1/train/filtrations/6/RadialFiltration_25_12/green/diagrams.npy\n",
      "Applying Scaler to persistence diagrams.\n",
      "Got the result from ./1/train/filtrations/6/RadialFiltration_25_12/blue/diagrams.npy\n",
      "Applying Scaler to persistence diagrams.\n",
      "Got the result from ./1/train/filtrations/6/RadialFiltration_25_12/blue/diagrams.npy\n",
      "Applying Scaler to persistence diagrams.\n",
      "Fitting filtration 62/72: 6/RadialFiltration_25_25\n",
      "RGB images received. Transforming to grayscale.\n"
     ]
    },
    {
     "name": "stderr",
     "output_type": "stream",
     "text": [
      "rgb2gray: 100%|██████████| 9030/9030 [00:01<00:00, 5382.98it/s]\n"
     ]
    },
    {
     "name": "stdout",
     "output_type": "stream",
     "text": [
      "Got the result from ./1/train/filtrations/6/RadialFiltration_25_25/gray/diagrams.npy\n",
      "Applying Scaler to persistence diagrams.\n",
      "Got the result from ./1/train/filtrations/6/RadialFiltration_25_25/gray/diagrams.npy\n",
      "Applying Scaler to persistence diagrams.\n",
      "Got the result from ./1/train/filtrations/6/RadialFiltration_25_25/red/diagrams.npy\n",
      "Applying Scaler to persistence diagrams.\n",
      "Got the result from ./1/train/filtrations/6/RadialFiltration_25_25/red/diagrams.npy\n",
      "Applying Scaler to persistence diagrams.\n",
      "Got the result from ./1/train/filtrations/6/RadialFiltration_25_25/green/diagrams.npy\n",
      "Applying Scaler to persistence diagrams.\n",
      "Got the result from ./1/train/filtrations/6/RadialFiltration_25_25/green/diagrams.npy\n",
      "Applying Scaler to persistence diagrams.\n",
      "Got the result from ./1/train/filtrations/6/RadialFiltration_25_25/blue/diagrams.npy\n",
      "Applying Scaler to persistence diagrams.\n",
      "Got the result from ./1/train/filtrations/6/RadialFiltration_25_25/blue/diagrams.npy\n",
      "Applying Scaler to persistence diagrams.\n",
      "Fitting filtration 63/72: 6/RadialFiltration_25_38\n",
      "RGB images received. Transforming to grayscale.\n"
     ]
    },
    {
     "name": "stderr",
     "output_type": "stream",
     "text": [
      "rgb2gray: 100%|██████████| 9030/9030 [00:01<00:00, 5396.95it/s]\n"
     ]
    },
    {
     "name": "stdout",
     "output_type": "stream",
     "text": [
      "Got the result from ./1/train/filtrations/6/RadialFiltration_25_38/gray/diagrams.npy\n",
      "Applying Scaler to persistence diagrams.\n",
      "Got the result from ./1/train/filtrations/6/RadialFiltration_25_38/gray/diagrams.npy\n",
      "Applying Scaler to persistence diagrams.\n",
      "Got the result from ./1/train/filtrations/6/RadialFiltration_25_38/red/diagrams.npy\n",
      "Applying Scaler to persistence diagrams.\n",
      "Got the result from ./1/train/filtrations/6/RadialFiltration_25_38/red/diagrams.npy\n",
      "Applying Scaler to persistence diagrams.\n",
      "Got the result from ./1/train/filtrations/6/RadialFiltration_25_38/green/diagrams.npy\n",
      "Applying Scaler to persistence diagrams.\n",
      "Got the result from ./1/train/filtrations/6/RadialFiltration_25_38/green/diagrams.npy\n",
      "Applying Scaler to persistence diagrams.\n",
      "Got the result from ./1/train/filtrations/6/RadialFiltration_25_38/blue/diagrams.npy\n",
      "Applying Scaler to persistence diagrams.\n",
      "Got the result from ./1/train/filtrations/6/RadialFiltration_25_38/blue/diagrams.npy\n",
      "Applying Scaler to persistence diagrams.\n",
      "Fitting filtration 64/72: 6/RadialFiltration_25_51\n",
      "RGB images received. Transforming to grayscale.\n"
     ]
    },
    {
     "name": "stderr",
     "output_type": "stream",
     "text": [
      "rgb2gray: 100%|██████████| 9030/9030 [00:01<00:00, 5638.43it/s]\n"
     ]
    },
    {
     "name": "stdout",
     "output_type": "stream",
     "text": [
      "Got the result from ./1/train/filtrations/6/RadialFiltration_25_51/gray/diagrams.npy\n",
      "Applying Scaler to persistence diagrams.\n",
      "Got the result from ./1/train/filtrations/6/RadialFiltration_25_51/gray/diagrams.npy\n",
      "Applying Scaler to persistence diagrams.\n",
      "Got the result from ./1/train/filtrations/6/RadialFiltration_25_51/red/diagrams.npy\n",
      "Applying Scaler to persistence diagrams.\n",
      "Got the result from ./1/train/filtrations/6/RadialFiltration_25_51/red/diagrams.npy\n",
      "Applying Scaler to persistence diagrams.\n",
      "Got the result from ./1/train/filtrations/6/RadialFiltration_25_51/green/diagrams.npy\n",
      "Applying Scaler to persistence diagrams.\n",
      "Got the result from ./1/train/filtrations/6/RadialFiltration_25_51/green/diagrams.npy\n",
      "Applying Scaler to persistence diagrams.\n",
      "Got the result from ./1/train/filtrations/6/RadialFiltration_25_51/blue/diagrams.npy\n",
      "Applying Scaler to persistence diagrams.\n",
      "Got the result from ./1/train/filtrations/6/RadialFiltration_25_51/blue/diagrams.npy\n",
      "Applying Scaler to persistence diagrams.\n",
      "Fitting filtration 65/72: 6/RadialFiltration_38_12\n",
      "RGB images received. Transforming to grayscale.\n"
     ]
    },
    {
     "name": "stderr",
     "output_type": "stream",
     "text": [
      "rgb2gray: 100%|██████████| 9030/9030 [00:01<00:00, 5487.66it/s]\n"
     ]
    },
    {
     "name": "stdout",
     "output_type": "stream",
     "text": [
      "Got the result from ./1/train/filtrations/6/RadialFiltration_38_12/gray/diagrams.npy\n",
      "Applying Scaler to persistence diagrams.\n",
      "Got the result from ./1/train/filtrations/6/RadialFiltration_38_12/gray/diagrams.npy\n",
      "Applying Scaler to persistence diagrams.\n",
      "Got the result from ./1/train/filtrations/6/RadialFiltration_38_12/red/diagrams.npy\n",
      "Applying Scaler to persistence diagrams.\n",
      "Got the result from ./1/train/filtrations/6/RadialFiltration_38_12/red/diagrams.npy\n",
      "Applying Scaler to persistence diagrams.\n",
      "Got the result from ./1/train/filtrations/6/RadialFiltration_38_12/green/diagrams.npy\n",
      "Applying Scaler to persistence diagrams.\n",
      "Got the result from ./1/train/filtrations/6/RadialFiltration_38_12/green/diagrams.npy\n",
      "Applying Scaler to persistence diagrams.\n",
      "Got the result from ./1/train/filtrations/6/RadialFiltration_38_12/blue/diagrams.npy\n",
      "Applying Scaler to persistence diagrams.\n",
      "Got the result from ./1/train/filtrations/6/RadialFiltration_38_12/blue/diagrams.npy\n",
      "Applying Scaler to persistence diagrams.\n",
      "Fitting filtration 66/72: 6/RadialFiltration_38_25\n",
      "RGB images received. Transforming to grayscale.\n"
     ]
    },
    {
     "name": "stderr",
     "output_type": "stream",
     "text": [
      "rgb2gray: 100%|██████████| 9030/9030 [00:01<00:00, 5412.70it/s]\n"
     ]
    },
    {
     "name": "stdout",
     "output_type": "stream",
     "text": [
      "Got the result from ./1/train/filtrations/6/RadialFiltration_38_25/gray/diagrams.npy\n",
      "Applying Scaler to persistence diagrams.\n",
      "Got the result from ./1/train/filtrations/6/RadialFiltration_38_25/gray/diagrams.npy\n",
      "Applying Scaler to persistence diagrams.\n",
      "Got the result from ./1/train/filtrations/6/RadialFiltration_38_25/red/diagrams.npy\n",
      "Applying Scaler to persistence diagrams.\n",
      "Got the result from ./1/train/filtrations/6/RadialFiltration_38_25/red/diagrams.npy\n",
      "Applying Scaler to persistence diagrams.\n",
      "Got the result from ./1/train/filtrations/6/RadialFiltration_38_25/green/diagrams.npy\n",
      "Applying Scaler to persistence diagrams.\n",
      "Got the result from ./1/train/filtrations/6/RadialFiltration_38_25/green/diagrams.npy\n",
      "Applying Scaler to persistence diagrams.\n",
      "Got the result from ./1/train/filtrations/6/RadialFiltration_38_25/blue/diagrams.npy\n",
      "Applying Scaler to persistence diagrams.\n",
      "Got the result from ./1/train/filtrations/6/RadialFiltration_38_25/blue/diagrams.npy\n",
      "Applying Scaler to persistence diagrams.\n",
      "Fitting filtration 67/72: 6/RadialFiltration_38_38\n",
      "RGB images received. Transforming to grayscale.\n"
     ]
    },
    {
     "name": "stderr",
     "output_type": "stream",
     "text": [
      "rgb2gray: 100%|██████████| 9030/9030 [00:01<00:00, 5412.02it/s]\n"
     ]
    },
    {
     "name": "stdout",
     "output_type": "stream",
     "text": [
      "Got the result from ./1/train/filtrations/6/RadialFiltration_38_38/gray/diagrams.npy\n",
      "Applying Scaler to persistence diagrams.\n",
      "Got the result from ./1/train/filtrations/6/RadialFiltration_38_38/gray/diagrams.npy\n",
      "Applying Scaler to persistence diagrams.\n",
      "Got the result from ./1/train/filtrations/6/RadialFiltration_38_38/red/diagrams.npy\n",
      "Applying Scaler to persistence diagrams.\n",
      "Got the result from ./1/train/filtrations/6/RadialFiltration_38_38/red/diagrams.npy\n",
      "Applying Scaler to persistence diagrams.\n",
      "Got the result from ./1/train/filtrations/6/RadialFiltration_38_38/green/diagrams.npy\n",
      "Applying Scaler to persistence diagrams.\n",
      "Got the result from ./1/train/filtrations/6/RadialFiltration_38_38/green/diagrams.npy\n",
      "Applying Scaler to persistence diagrams.\n",
      "Got the result from ./1/train/filtrations/6/RadialFiltration_38_38/blue/diagrams.npy\n",
      "Applying Scaler to persistence diagrams.\n",
      "Got the result from ./1/train/filtrations/6/RadialFiltration_38_38/blue/diagrams.npy\n",
      "Applying Scaler to persistence diagrams.\n",
      "Fitting filtration 68/72: 6/RadialFiltration_38_51\n",
      "RGB images received. Transforming to grayscale.\n"
     ]
    },
    {
     "name": "stderr",
     "output_type": "stream",
     "text": [
      "rgb2gray: 100%|██████████| 9030/9030 [00:01<00:00, 5173.28it/s]\n"
     ]
    },
    {
     "name": "stdout",
     "output_type": "stream",
     "text": [
      "Got the result from ./1/train/filtrations/6/RadialFiltration_38_51/gray/diagrams.npy\n",
      "Applying Scaler to persistence diagrams.\n",
      "Got the result from ./1/train/filtrations/6/RadialFiltration_38_51/gray/diagrams.npy\n",
      "Applying Scaler to persistence diagrams.\n",
      "Got the result from ./1/train/filtrations/6/RadialFiltration_38_51/red/diagrams.npy\n",
      "Applying Scaler to persistence diagrams.\n",
      "Got the result from ./1/train/filtrations/6/RadialFiltration_38_51/red/diagrams.npy\n",
      "Applying Scaler to persistence diagrams.\n",
      "Got the result from ./1/train/filtrations/6/RadialFiltration_38_51/green/diagrams.npy\n",
      "Applying Scaler to persistence diagrams.\n",
      "Got the result from ./1/train/filtrations/6/RadialFiltration_38_51/green/diagrams.npy\n",
      "Applying Scaler to persistence diagrams.\n",
      "Got the result from ./1/train/filtrations/6/RadialFiltration_38_51/blue/diagrams.npy\n",
      "Applying Scaler to persistence diagrams.\n",
      "Got the result from ./1/train/filtrations/6/RadialFiltration_38_51/blue/diagrams.npy\n",
      "Applying Scaler to persistence diagrams.\n",
      "Fitting filtration 69/72: 6/RadialFiltration_51_12\n",
      "RGB images received. Transforming to grayscale.\n"
     ]
    },
    {
     "name": "stderr",
     "output_type": "stream",
     "text": [
      "rgb2gray: 100%|██████████| 9030/9030 [00:01<00:00, 5489.36it/s]\n"
     ]
    },
    {
     "name": "stdout",
     "output_type": "stream",
     "text": [
      "Got the result from ./1/train/filtrations/6/RadialFiltration_51_12/gray/diagrams.npy\n",
      "Applying Scaler to persistence diagrams.\n",
      "Got the result from ./1/train/filtrations/6/RadialFiltration_51_12/gray/diagrams.npy\n",
      "Applying Scaler to persistence diagrams.\n",
      "Got the result from ./1/train/filtrations/6/RadialFiltration_51_12/red/diagrams.npy\n",
      "Applying Scaler to persistence diagrams.\n",
      "Got the result from ./1/train/filtrations/6/RadialFiltration_51_12/red/diagrams.npy\n",
      "Applying Scaler to persistence diagrams.\n",
      "Got the result from ./1/train/filtrations/6/RadialFiltration_51_12/green/diagrams.npy\n",
      "Applying Scaler to persistence diagrams.\n",
      "Got the result from ./1/train/filtrations/6/RadialFiltration_51_12/green/diagrams.npy\n",
      "Applying Scaler to persistence diagrams.\n",
      "Got the result from ./1/train/filtrations/6/RadialFiltration_51_12/blue/diagrams.npy\n",
      "Applying Scaler to persistence diagrams.\n",
      "Got the result from ./1/train/filtrations/6/RadialFiltration_51_12/blue/diagrams.npy\n",
      "Applying Scaler to persistence diagrams.\n",
      "Fitting filtration 70/72: 6/RadialFiltration_51_25\n",
      "RGB images received. Transforming to grayscale.\n"
     ]
    },
    {
     "name": "stderr",
     "output_type": "stream",
     "text": [
      "rgb2gray: 100%|██████████| 9030/9030 [00:01<00:00, 5410.58it/s]\n"
     ]
    },
    {
     "name": "stdout",
     "output_type": "stream",
     "text": [
      "Got the result from ./1/train/filtrations/6/RadialFiltration_51_25/gray/diagrams.npy\n",
      "Applying Scaler to persistence diagrams.\n",
      "Got the result from ./1/train/filtrations/6/RadialFiltration_51_25/gray/diagrams.npy\n",
      "Applying Scaler to persistence diagrams.\n",
      "Got the result from ./1/train/filtrations/6/RadialFiltration_51_25/red/diagrams.npy\n",
      "Applying Scaler to persistence diagrams.\n",
      "Got the result from ./1/train/filtrations/6/RadialFiltration_51_25/red/diagrams.npy\n",
      "Applying Scaler to persistence diagrams.\n",
      "Got the result from ./1/train/filtrations/6/RadialFiltration_51_25/green/diagrams.npy\n",
      "Applying Scaler to persistence diagrams.\n",
      "Got the result from ./1/train/filtrations/6/RadialFiltration_51_25/green/diagrams.npy\n",
      "Applying Scaler to persistence diagrams.\n",
      "Got the result from ./1/train/filtrations/6/RadialFiltration_51_25/blue/diagrams.npy\n",
      "Applying Scaler to persistence diagrams.\n",
      "Got the result from ./1/train/filtrations/6/RadialFiltration_51_25/blue/diagrams.npy\n",
      "Applying Scaler to persistence diagrams.\n",
      "Fitting filtration 71/72: 6/RadialFiltration_51_38\n",
      "RGB images received. Transforming to grayscale.\n"
     ]
    },
    {
     "name": "stderr",
     "output_type": "stream",
     "text": [
      "rgb2gray: 100%|██████████| 9030/9030 [00:01<00:00, 5491.00it/s]\n"
     ]
    },
    {
     "name": "stdout",
     "output_type": "stream",
     "text": [
      "Got the result from ./1/train/filtrations/6/RadialFiltration_51_38/gray/diagrams.npy\n",
      "Applying Scaler to persistence diagrams.\n",
      "Got the result from ./1/train/filtrations/6/RadialFiltration_51_38/gray/diagrams.npy\n",
      "Applying Scaler to persistence diagrams.\n",
      "Got the result from ./1/train/filtrations/6/RadialFiltration_51_38/red/diagrams.npy\n",
      "Applying Scaler to persistence diagrams.\n",
      "Got the result from ./1/train/filtrations/6/RadialFiltration_51_38/red/diagrams.npy\n",
      "Applying Scaler to persistence diagrams.\n",
      "Got the result from ./1/train/filtrations/6/RadialFiltration_51_38/green/diagrams.npy\n",
      "Applying Scaler to persistence diagrams.\n",
      "Got the result from ./1/train/filtrations/6/RadialFiltration_51_38/green/diagrams.npy\n",
      "Applying Scaler to persistence diagrams.\n",
      "Got the result from ./1/train/filtrations/6/RadialFiltration_51_38/blue/diagrams.npy\n",
      "Applying Scaler to persistence diagrams.\n",
      "Got the result from ./1/train/filtrations/6/RadialFiltration_51_38/blue/diagrams.npy\n",
      "Applying Scaler to persistence diagrams.\n",
      "Fitting filtration 72/72: 6/RadialFiltration_51_51\n",
      "RGB images received. Transforming to grayscale.\n"
     ]
    },
    {
     "name": "stderr",
     "output_type": "stream",
     "text": [
      "rgb2gray: 100%|██████████| 9030/9030 [00:01<00:00, 5393.25it/s]\n"
     ]
    },
    {
     "name": "stdout",
     "output_type": "stream",
     "text": [
      "Got the result from ./1/train/filtrations/6/RadialFiltration_51_51/gray/diagrams.npy\n",
      "Applying Scaler to persistence diagrams.\n",
      "Got the result from ./1/train/filtrations/6/RadialFiltration_51_51/gray/diagrams.npy\n",
      "Applying Scaler to persistence diagrams.\n",
      "Got the result from ./1/train/filtrations/6/RadialFiltration_51_51/red/diagrams.npy\n",
      "Applying Scaler to persistence diagrams.\n",
      "Got the result from ./1/train/filtrations/6/RadialFiltration_51_51/red/diagrams.npy\n",
      "Applying Scaler to persistence diagrams.\n",
      "Got the result from ./1/train/filtrations/6/RadialFiltration_51_51/green/diagrams.npy\n",
      "Applying Scaler to persistence diagrams.\n",
      "Got the result from ./1/train/filtrations/6/RadialFiltration_51_51/green/diagrams.npy\n",
      "Applying Scaler to persistence diagrams.\n",
      "Got the result from ./1/train/filtrations/6/RadialFiltration_51_51/blue/diagrams.npy\n",
      "Applying Scaler to persistence diagrams.\n",
      "Got the result from ./1/train/filtrations/6/RadialFiltration_51_51/blue/diagrams.npy\n",
      "Applying Scaler to persistence diagrams.\n",
      "Applying filtrations\n",
      "Applying filtration 1/72: 2/HeightFiltrartion_-1_-1\n",
      "RGB images received. Transforming to grayscale.\n"
     ]
    },
    {
     "name": "stderr",
     "output_type": "stream",
     "text": [
      "rgb2gray: 100%|██████████| 9030/9030 [00:01<00:00, 5416.92it/s]\n"
     ]
    },
    {
     "name": "stdout",
     "output_type": "stream",
     "text": [
      "Got the result from ./1/train/filtrations/2/HeightFiltrartion_-1_-1/gray/diagrams.npy\n",
      "Applying Scaler to persistence diagrams.\n",
      "Got the result from ./1/train/filtrations/2/HeightFiltrartion_-1_-1/red/diagrams.npy\n",
      "Applying Scaler to persistence diagrams.\n",
      "Got the result from ./1/train/filtrations/2/HeightFiltrartion_-1_-1/green/diagrams.npy\n",
      "Applying Scaler to persistence diagrams.\n",
      "Got the result from ./1/train/filtrations/2/HeightFiltrartion_-1_-1/blue/diagrams.npy\n",
      "Applying Scaler to persistence diagrams.\n",
      "Applying filtration 2/72: 2/HeightFiltrartion_1_1\n",
      "RGB images received. Transforming to grayscale.\n"
     ]
    },
    {
     "name": "stderr",
     "output_type": "stream",
     "text": [
      "rgb2gray: 100%|██████████| 9030/9030 [00:01<00:00, 5563.76it/s]\n"
     ]
    },
    {
     "name": "stdout",
     "output_type": "stream",
     "text": [
      "Got the result from ./1/train/filtrations/2/HeightFiltrartion_1_1/gray/diagrams.npy\n",
      "Applying Scaler to persistence diagrams.\n",
      "Got the result from ./1/train/filtrations/2/HeightFiltrartion_1_1/red/diagrams.npy\n",
      "Applying Scaler to persistence diagrams.\n",
      "Got the result from ./1/train/filtrations/2/HeightFiltrartion_1_1/green/diagrams.npy\n",
      "Applying Scaler to persistence diagrams.\n",
      "Got the result from ./1/train/filtrations/2/HeightFiltrartion_1_1/blue/diagrams.npy\n",
      "Applying Scaler to persistence diagrams.\n",
      "Applying filtration 3/72: 2/HeightFiltrartion_1_-1\n",
      "RGB images received. Transforming to grayscale.\n"
     ]
    },
    {
     "name": "stderr",
     "output_type": "stream",
     "text": [
      "rgb2gray: 100%|██████████| 9030/9030 [00:01<00:00, 5489.36it/s]\n"
     ]
    },
    {
     "name": "stdout",
     "output_type": "stream",
     "text": [
      "Got the result from ./1/train/filtrations/2/HeightFiltrartion_1_-1/gray/diagrams.npy\n",
      "Applying Scaler to persistence diagrams.\n",
      "Got the result from ./1/train/filtrations/2/HeightFiltrartion_1_-1/red/diagrams.npy\n",
      "Applying Scaler to persistence diagrams.\n",
      "Got the result from ./1/train/filtrations/2/HeightFiltrartion_1_-1/green/diagrams.npy\n",
      "Applying Scaler to persistence diagrams.\n",
      "Got the result from ./1/train/filtrations/2/HeightFiltrartion_1_-1/blue/diagrams.npy\n",
      "Applying Scaler to persistence diagrams.\n",
      "Applying filtration 4/72: 2/HeightFiltrartion_-1_1\n",
      "RGB images received. Transforming to grayscale.\n"
     ]
    },
    {
     "name": "stderr",
     "output_type": "stream",
     "text": [
      "rgb2gray: 100%|██████████| 9030/9030 [00:01<00:00, 5240.86it/s]\n"
     ]
    },
    {
     "name": "stdout",
     "output_type": "stream",
     "text": [
      "Got the result from ./1/train/filtrations/2/HeightFiltrartion_-1_1/gray/diagrams.npy\n",
      "Applying Scaler to persistence diagrams.\n",
      "Got the result from ./1/train/filtrations/2/HeightFiltrartion_-1_1/red/diagrams.npy\n",
      "Applying Scaler to persistence diagrams.\n",
      "Got the result from ./1/train/filtrations/2/HeightFiltrartion_-1_1/green/diagrams.npy\n",
      "Applying Scaler to persistence diagrams.\n",
      "Got the result from ./1/train/filtrations/2/HeightFiltrartion_-1_1/blue/diagrams.npy\n",
      "Applying Scaler to persistence diagrams.\n",
      "Applying filtration 5/72: 2/HeightFiltrartion_0_-1\n",
      "RGB images received. Transforming to grayscale.\n"
     ]
    },
    {
     "name": "stderr",
     "output_type": "stream",
     "text": [
      "rgb2gray: 100%|██████████| 9030/9030 [00:01<00:00, 5260.69it/s]\n"
     ]
    },
    {
     "name": "stdout",
     "output_type": "stream",
     "text": [
      "Got the result from ./1/train/filtrations/2/HeightFiltrartion_0_-1/gray/diagrams.npy\n",
      "Applying Scaler to persistence diagrams.\n",
      "Got the result from ./1/train/filtrations/2/HeightFiltrartion_0_-1/red/diagrams.npy\n",
      "Applying Scaler to persistence diagrams.\n",
      "Got the result from ./1/train/filtrations/2/HeightFiltrartion_0_-1/green/diagrams.npy\n",
      "Applying Scaler to persistence diagrams.\n",
      "Got the result from ./1/train/filtrations/2/HeightFiltrartion_0_-1/blue/diagrams.npy\n",
      "Applying Scaler to persistence diagrams.\n",
      "Applying filtration 6/72: 2/HeightFiltrartion_0_1\n",
      "RGB images received. Transforming to grayscale.\n"
     ]
    },
    {
     "name": "stderr",
     "output_type": "stream",
     "text": [
      "rgb2gray: 100%|██████████| 9030/9030 [00:01<00:00, 5345.01it/s]\n"
     ]
    },
    {
     "name": "stdout",
     "output_type": "stream",
     "text": [
      "Got the result from ./1/train/filtrations/2/HeightFiltrartion_0_1/gray/diagrams.npy\n",
      "Applying Scaler to persistence diagrams.\n",
      "Got the result from ./1/train/filtrations/2/HeightFiltrartion_0_1/red/diagrams.npy\n",
      "Applying Scaler to persistence diagrams.\n",
      "Got the result from ./1/train/filtrations/2/HeightFiltrartion_0_1/green/diagrams.npy\n",
      "Applying Scaler to persistence diagrams.\n",
      "Got the result from ./1/train/filtrations/2/HeightFiltrartion_0_1/blue/diagrams.npy\n",
      "Applying Scaler to persistence diagrams.\n",
      "Applying filtration 7/72: 2/HeightFiltrartion_-1_0\n",
      "RGB images received. Transforming to grayscale.\n"
     ]
    },
    {
     "name": "stderr",
     "output_type": "stream",
     "text": [
      "rgb2gray: 100%|██████████| 9030/9030 [00:01<00:00, 5370.16it/s]\n"
     ]
    },
    {
     "name": "stdout",
     "output_type": "stream",
     "text": [
      "Got the result from ./1/train/filtrations/2/HeightFiltrartion_-1_0/gray/diagrams.npy\n",
      "Applying Scaler to persistence diagrams.\n",
      "Got the result from ./1/train/filtrations/2/HeightFiltrartion_-1_0/red/diagrams.npy\n",
      "Applying Scaler to persistence diagrams.\n",
      "Got the result from ./1/train/filtrations/2/HeightFiltrartion_-1_0/green/diagrams.npy\n",
      "Applying Scaler to persistence diagrams.\n",
      "Got the result from ./1/train/filtrations/2/HeightFiltrartion_-1_0/blue/diagrams.npy\n",
      "Applying Scaler to persistence diagrams.\n",
      "Applying filtration 8/72: 2/HeightFiltrartion_1_0\n",
      "RGB images received. Transforming to grayscale.\n"
     ]
    },
    {
     "name": "stderr",
     "output_type": "stream",
     "text": [
      "rgb2gray: 100%|██████████| 9030/9030 [00:01<00:00, 5209.09it/s]\n"
     ]
    },
    {
     "name": "stdout",
     "output_type": "stream",
     "text": [
      "Got the result from ./1/train/filtrations/2/HeightFiltrartion_1_0/gray/diagrams.npy\n",
      "Applying Scaler to persistence diagrams.\n",
      "Got the result from ./1/train/filtrations/2/HeightFiltrartion_1_0/red/diagrams.npy\n",
      "Applying Scaler to persistence diagrams.\n",
      "Got the result from ./1/train/filtrations/2/HeightFiltrartion_1_0/green/diagrams.npy\n",
      "Applying Scaler to persistence diagrams.\n",
      "Got the result from ./1/train/filtrations/2/HeightFiltrartion_1_0/blue/diagrams.npy\n",
      "Applying Scaler to persistence diagrams.\n",
      "Applying filtration 9/72: 2/RadialFiltration_12_12\n",
      "RGB images received. Transforming to grayscale.\n"
     ]
    },
    {
     "name": "stderr",
     "output_type": "stream",
     "text": [
      "rgb2gray: 100%|██████████| 9030/9030 [00:01<00:00, 4871.84it/s]\n"
     ]
    },
    {
     "name": "stdout",
     "output_type": "stream",
     "text": [
      "Got the result from ./1/train/filtrations/2/RadialFiltration_12_12/gray/diagrams.npy\n",
      "Applying Scaler to persistence diagrams.\n",
      "Got the result from ./1/train/filtrations/2/RadialFiltration_12_12/red/diagrams.npy\n",
      "Applying Scaler to persistence diagrams.\n",
      "Got the result from ./1/train/filtrations/2/RadialFiltration_12_12/green/diagrams.npy\n",
      "Applying Scaler to persistence diagrams.\n",
      "Got the result from ./1/train/filtrations/2/RadialFiltration_12_12/blue/diagrams.npy\n",
      "Applying Scaler to persistence diagrams.\n",
      "Applying filtration 10/72: 2/RadialFiltration_12_25\n",
      "RGB images received. Transforming to grayscale.\n"
     ]
    },
    {
     "name": "stderr",
     "output_type": "stream",
     "text": [
      "rgb2gray: 100%|██████████| 9030/9030 [00:01<00:00, 5338.43it/s]\n"
     ]
    },
    {
     "name": "stdout",
     "output_type": "stream",
     "text": [
      "Got the result from ./1/train/filtrations/2/RadialFiltration_12_25/gray/diagrams.npy\n",
      "Applying Scaler to persistence diagrams.\n",
      "Got the result from ./1/train/filtrations/2/RadialFiltration_12_25/red/diagrams.npy\n",
      "Applying Scaler to persistence diagrams.\n",
      "Got the result from ./1/train/filtrations/2/RadialFiltration_12_25/green/diagrams.npy\n",
      "Applying Scaler to persistence diagrams.\n",
      "Got the result from ./1/train/filtrations/2/RadialFiltration_12_25/blue/diagrams.npy\n",
      "Applying Scaler to persistence diagrams.\n",
      "Applying filtration 11/72: 2/RadialFiltration_12_38\n",
      "RGB images received. Transforming to grayscale.\n"
     ]
    },
    {
     "name": "stderr",
     "output_type": "stream",
     "text": [
      "rgb2gray: 100%|██████████| 9030/9030 [00:01<00:00, 5210.31it/s]\n"
     ]
    },
    {
     "name": "stdout",
     "output_type": "stream",
     "text": [
      "Got the result from ./1/train/filtrations/2/RadialFiltration_12_38/gray/diagrams.npy\n",
      "Applying Scaler to persistence diagrams.\n",
      "Got the result from ./1/train/filtrations/2/RadialFiltration_12_38/red/diagrams.npy\n",
      "Applying Scaler to persistence diagrams.\n",
      "Got the result from ./1/train/filtrations/2/RadialFiltration_12_38/green/diagrams.npy\n",
      "Applying Scaler to persistence diagrams.\n",
      "Got the result from ./1/train/filtrations/2/RadialFiltration_12_38/blue/diagrams.npy\n",
      "Applying Scaler to persistence diagrams.\n",
      "Applying filtration 12/72: 2/RadialFiltration_12_51\n",
      "RGB images received. Transforming to grayscale.\n"
     ]
    },
    {
     "name": "stderr",
     "output_type": "stream",
     "text": [
      "rgb2gray: 100%|██████████| 9030/9030 [00:01<00:00, 5251.49it/s]\n"
     ]
    },
    {
     "name": "stdout",
     "output_type": "stream",
     "text": [
      "Got the result from ./1/train/filtrations/2/RadialFiltration_12_51/gray/diagrams.npy\n",
      "Applying Scaler to persistence diagrams.\n",
      "Got the result from ./1/train/filtrations/2/RadialFiltration_12_51/red/diagrams.npy\n",
      "Applying Scaler to persistence diagrams.\n",
      "Got the result from ./1/train/filtrations/2/RadialFiltration_12_51/green/diagrams.npy\n",
      "Applying Scaler to persistence diagrams.\n",
      "Got the result from ./1/train/filtrations/2/RadialFiltration_12_51/blue/diagrams.npy\n",
      "Applying Scaler to persistence diagrams.\n",
      "Applying filtration 13/72: 2/RadialFiltration_25_12\n",
      "RGB images received. Transforming to grayscale.\n"
     ]
    },
    {
     "name": "stderr",
     "output_type": "stream",
     "text": [
      "rgb2gray: 100%|██████████| 9030/9030 [00:01<00:00, 5245.39it/s]\n"
     ]
    },
    {
     "name": "stdout",
     "output_type": "stream",
     "text": [
      "Got the result from ./1/train/filtrations/2/RadialFiltration_25_12/gray/diagrams.npy\n",
      "Applying Scaler to persistence diagrams.\n",
      "Got the result from ./1/train/filtrations/2/RadialFiltration_25_12/red/diagrams.npy\n",
      "Applying Scaler to persistence diagrams.\n",
      "Got the result from ./1/train/filtrations/2/RadialFiltration_25_12/green/diagrams.npy\n",
      "Applying Scaler to persistence diagrams.\n",
      "Got the result from ./1/train/filtrations/2/RadialFiltration_25_12/blue/diagrams.npy\n",
      "Applying Scaler to persistence diagrams.\n",
      "Applying filtration 14/72: 2/RadialFiltration_25_25\n",
      "RGB images received. Transforming to grayscale.\n"
     ]
    },
    {
     "name": "stderr",
     "output_type": "stream",
     "text": [
      "rgb2gray: 100%|██████████| 9030/9030 [00:02<00:00, 4053.86it/s]\n"
     ]
    },
    {
     "name": "stdout",
     "output_type": "stream",
     "text": [
      "Got the result from ./1/train/filtrations/2/RadialFiltration_25_25/gray/diagrams.npy\n",
      "Applying Scaler to persistence diagrams.\n",
      "Got the result from ./1/train/filtrations/2/RadialFiltration_25_25/red/diagrams.npy\n",
      "Applying Scaler to persistence diagrams.\n",
      "Got the result from ./1/train/filtrations/2/RadialFiltration_25_25/green/diagrams.npy\n",
      "Applying Scaler to persistence diagrams.\n",
      "Got the result from ./1/train/filtrations/2/RadialFiltration_25_25/blue/diagrams.npy\n",
      "Applying Scaler to persistence diagrams.\n",
      "Applying filtration 15/72: 2/RadialFiltration_25_38\n",
      "RGB images received. Transforming to grayscale.\n"
     ]
    },
    {
     "name": "stderr",
     "output_type": "stream",
     "text": [
      "rgb2gray: 100%|██████████| 9030/9030 [00:01<00:00, 5291.51it/s]\n"
     ]
    },
    {
     "name": "stdout",
     "output_type": "stream",
     "text": [
      "Got the result from ./1/train/filtrations/2/RadialFiltration_25_38/gray/diagrams.npy\n",
      "Applying Scaler to persistence diagrams.\n",
      "Got the result from ./1/train/filtrations/2/RadialFiltration_25_38/red/diagrams.npy\n",
      "Applying Scaler to persistence diagrams.\n",
      "Got the result from ./1/train/filtrations/2/RadialFiltration_25_38/green/diagrams.npy\n",
      "Applying Scaler to persistence diagrams.\n",
      "Got the result from ./1/train/filtrations/2/RadialFiltration_25_38/blue/diagrams.npy\n",
      "Applying Scaler to persistence diagrams.\n",
      "Applying filtration 16/72: 2/RadialFiltration_25_51\n",
      "RGB images received. Transforming to grayscale.\n"
     ]
    },
    {
     "name": "stderr",
     "output_type": "stream",
     "text": [
      "rgb2gray: 100%|██████████| 9030/9030 [00:01<00:00, 5194.11it/s]\n"
     ]
    },
    {
     "name": "stdout",
     "output_type": "stream",
     "text": [
      "Got the result from ./1/train/filtrations/2/RadialFiltration_25_51/gray/diagrams.npy\n",
      "Applying Scaler to persistence diagrams.\n",
      "Got the result from ./1/train/filtrations/2/RadialFiltration_25_51/red/diagrams.npy\n",
      "Applying Scaler to persistence diagrams.\n",
      "Got the result from ./1/train/filtrations/2/RadialFiltration_25_51/green/diagrams.npy\n",
      "Applying Scaler to persistence diagrams.\n",
      "Got the result from ./1/train/filtrations/2/RadialFiltration_25_51/blue/diagrams.npy\n",
      "Applying Scaler to persistence diagrams.\n",
      "Applying filtration 17/72: 2/RadialFiltration_38_12\n",
      "RGB images received. Transforming to grayscale.\n"
     ]
    },
    {
     "name": "stderr",
     "output_type": "stream",
     "text": [
      "rgb2gray: 100%|██████████| 9030/9030 [00:01<00:00, 5254.54it/s] \n"
     ]
    },
    {
     "name": "stdout",
     "output_type": "stream",
     "text": [
      "Got the result from ./1/train/filtrations/2/RadialFiltration_38_12/gray/diagrams.npy\n",
      "Applying Scaler to persistence diagrams.\n",
      "Got the result from ./1/train/filtrations/2/RadialFiltration_38_12/red/diagrams.npy\n",
      "Applying Scaler to persistence diagrams.\n",
      "Got the result from ./1/train/filtrations/2/RadialFiltration_38_12/green/diagrams.npy\n",
      "Applying Scaler to persistence diagrams.\n",
      "Got the result from ./1/train/filtrations/2/RadialFiltration_38_12/blue/diagrams.npy\n",
      "Applying Scaler to persistence diagrams.\n",
      "Applying filtration 18/72: 2/RadialFiltration_38_25\n",
      "RGB images received. Transforming to grayscale.\n"
     ]
    },
    {
     "name": "stderr",
     "output_type": "stream",
     "text": [
      "rgb2gray: 100%|██████████| 9030/9030 [00:01<00:00, 5146.74it/s]\n"
     ]
    },
    {
     "name": "stdout",
     "output_type": "stream",
     "text": [
      "Got the result from ./1/train/filtrations/2/RadialFiltration_38_25/gray/diagrams.npy\n",
      "Applying Scaler to persistence diagrams.\n",
      "Got the result from ./1/train/filtrations/2/RadialFiltration_38_25/red/diagrams.npy\n",
      "Applying Scaler to persistence diagrams.\n",
      "Got the result from ./1/train/filtrations/2/RadialFiltration_38_25/green/diagrams.npy\n",
      "Applying Scaler to persistence diagrams.\n",
      "Got the result from ./1/train/filtrations/2/RadialFiltration_38_25/blue/diagrams.npy\n",
      "Applying Scaler to persistence diagrams.\n",
      "Applying filtration 19/72: 2/RadialFiltration_38_38\n",
      "RGB images received. Transforming to grayscale.\n"
     ]
    },
    {
     "name": "stderr",
     "output_type": "stream",
     "text": [
      "rgb2gray: 100%|██████████| 9030/9030 [00:01<00:00, 4903.59it/s]\n"
     ]
    },
    {
     "name": "stdout",
     "output_type": "stream",
     "text": [
      "Got the result from ./1/train/filtrations/2/RadialFiltration_38_38/gray/diagrams.npy\n",
      "Applying Scaler to persistence diagrams.\n",
      "Got the result from ./1/train/filtrations/2/RadialFiltration_38_38/red/diagrams.npy\n",
      "Applying Scaler to persistence diagrams.\n",
      "Got the result from ./1/train/filtrations/2/RadialFiltration_38_38/green/diagrams.npy\n",
      "Applying Scaler to persistence diagrams.\n",
      "Got the result from ./1/train/filtrations/2/RadialFiltration_38_38/blue/diagrams.npy\n",
      "Applying Scaler to persistence diagrams.\n",
      "Applying filtration 20/72: 2/RadialFiltration_38_51\n",
      "RGB images received. Transforming to grayscale.\n"
     ]
    },
    {
     "name": "stderr",
     "output_type": "stream",
     "text": [
      "rgb2gray: 100%|██████████| 9030/9030 [00:01<00:00, 5107.47it/s]\n"
     ]
    },
    {
     "name": "stdout",
     "output_type": "stream",
     "text": [
      "Got the result from ./1/train/filtrations/2/RadialFiltration_38_51/gray/diagrams.npy\n",
      "Applying Scaler to persistence diagrams.\n",
      "Got the result from ./1/train/filtrations/2/RadialFiltration_38_51/red/diagrams.npy\n",
      "Applying Scaler to persistence diagrams.\n",
      "Got the result from ./1/train/filtrations/2/RadialFiltration_38_51/green/diagrams.npy\n",
      "Applying Scaler to persistence diagrams.\n",
      "Got the result from ./1/train/filtrations/2/RadialFiltration_38_51/blue/diagrams.npy\n",
      "Applying Scaler to persistence diagrams.\n",
      "Applying filtration 21/72: 2/RadialFiltration_51_12\n",
      "RGB images received. Transforming to grayscale.\n"
     ]
    },
    {
     "name": "stderr",
     "output_type": "stream",
     "text": [
      "rgb2gray: 100%|██████████| 9030/9030 [00:01<00:00, 5259.18it/s]\n"
     ]
    },
    {
     "name": "stdout",
     "output_type": "stream",
     "text": [
      "Got the result from ./1/train/filtrations/2/RadialFiltration_51_12/gray/diagrams.npy\n",
      "Applying Scaler to persistence diagrams.\n",
      "Got the result from ./1/train/filtrations/2/RadialFiltration_51_12/red/diagrams.npy\n",
      "Applying Scaler to persistence diagrams.\n",
      "Got the result from ./1/train/filtrations/2/RadialFiltration_51_12/green/diagrams.npy\n",
      "Applying Scaler to persistence diagrams.\n",
      "Got the result from ./1/train/filtrations/2/RadialFiltration_51_12/blue/diagrams.npy\n",
      "Applying Scaler to persistence diagrams.\n",
      "Applying filtration 22/72: 2/RadialFiltration_51_25\n",
      "RGB images received. Transforming to grayscale.\n"
     ]
    },
    {
     "name": "stderr",
     "output_type": "stream",
     "text": [
      "rgb2gray: 100%|██████████| 9030/9030 [00:01<00:00, 5231.75it/s]\n"
     ]
    },
    {
     "name": "stdout",
     "output_type": "stream",
     "text": [
      "Got the result from ./1/train/filtrations/2/RadialFiltration_51_25/gray/diagrams.npy\n",
      "Applying Scaler to persistence diagrams.\n",
      "Got the result from ./1/train/filtrations/2/RadialFiltration_51_25/red/diagrams.npy\n",
      "Applying Scaler to persistence diagrams.\n",
      "Got the result from ./1/train/filtrations/2/RadialFiltration_51_25/green/diagrams.npy\n",
      "Applying Scaler to persistence diagrams.\n",
      "Got the result from ./1/train/filtrations/2/RadialFiltration_51_25/blue/diagrams.npy\n",
      "Applying Scaler to persistence diagrams.\n",
      "Applying filtration 23/72: 2/RadialFiltration_51_38\n",
      "RGB images received. Transforming to grayscale.\n"
     ]
    },
    {
     "name": "stderr",
     "output_type": "stream",
     "text": [
      "rgb2gray: 100%|██████████| 9030/9030 [00:01<00:00, 5332.14it/s]\n"
     ]
    },
    {
     "name": "stdout",
     "output_type": "stream",
     "text": [
      "Got the result from ./1/train/filtrations/2/RadialFiltration_51_38/gray/diagrams.npy\n",
      "Applying Scaler to persistence diagrams.\n",
      "Got the result from ./1/train/filtrations/2/RadialFiltration_51_38/red/diagrams.npy\n",
      "Applying Scaler to persistence diagrams.\n",
      "Got the result from ./1/train/filtrations/2/RadialFiltration_51_38/green/diagrams.npy\n",
      "Applying Scaler to persistence diagrams.\n",
      "Got the result from ./1/train/filtrations/2/RadialFiltration_51_38/blue/diagrams.npy\n",
      "Applying Scaler to persistence diagrams.\n",
      "Applying filtration 24/72: 2/RadialFiltration_51_51\n",
      "RGB images received. Transforming to grayscale.\n"
     ]
    },
    {
     "name": "stderr",
     "output_type": "stream",
     "text": [
      "rgb2gray: 100%|██████████| 9030/9030 [00:02<00:00, 4502.60it/s]\n"
     ]
    },
    {
     "name": "stdout",
     "output_type": "stream",
     "text": [
      "Got the result from ./1/train/filtrations/2/RadialFiltration_51_51/gray/diagrams.npy\n",
      "Applying Scaler to persistence diagrams.\n",
      "Got the result from ./1/train/filtrations/2/RadialFiltration_51_51/red/diagrams.npy\n",
      "Applying Scaler to persistence diagrams.\n",
      "Got the result from ./1/train/filtrations/2/RadialFiltration_51_51/green/diagrams.npy\n",
      "Applying Scaler to persistence diagrams.\n",
      "Got the result from ./1/train/filtrations/2/RadialFiltration_51_51/blue/diagrams.npy\n",
      "Applying Scaler to persistence diagrams.\n",
      "Applying filtration 25/72: 4/HeightFiltrartion_-1_-1\n",
      "RGB images received. Transforming to grayscale.\n"
     ]
    },
    {
     "name": "stderr",
     "output_type": "stream",
     "text": [
      "rgb2gray: 100%|██████████| 9030/9030 [00:01<00:00, 4807.00it/s]\n"
     ]
    },
    {
     "name": "stdout",
     "output_type": "stream",
     "text": [
      "Got the result from ./1/train/filtrations/4/HeightFiltrartion_-1_-1/gray/diagrams.npy\n",
      "Applying Scaler to persistence diagrams.\n",
      "Got the result from ./1/train/filtrations/4/HeightFiltrartion_-1_-1/red/diagrams.npy\n",
      "Applying Scaler to persistence diagrams.\n",
      "Got the result from ./1/train/filtrations/4/HeightFiltrartion_-1_-1/green/diagrams.npy\n",
      "Applying Scaler to persistence diagrams.\n",
      "Got the result from ./1/train/filtrations/4/HeightFiltrartion_-1_-1/blue/diagrams.npy\n",
      "Applying Scaler to persistence diagrams.\n",
      "Applying filtration 26/72: 4/HeightFiltrartion_1_1\n",
      "RGB images received. Transforming to grayscale.\n"
     ]
    },
    {
     "name": "stderr",
     "output_type": "stream",
     "text": [
      "rgb2gray: 100%|██████████| 9030/9030 [00:01<00:00, 5085.88it/s]\n"
     ]
    },
    {
     "name": "stdout",
     "output_type": "stream",
     "text": [
      "Got the result from ./1/train/filtrations/4/HeightFiltrartion_1_1/gray/diagrams.npy\n",
      "Applying Scaler to persistence diagrams.\n",
      "Got the result from ./1/train/filtrations/4/HeightFiltrartion_1_1/red/diagrams.npy\n",
      "Applying Scaler to persistence diagrams.\n",
      "Got the result from ./1/train/filtrations/4/HeightFiltrartion_1_1/green/diagrams.npy\n",
      "Applying Scaler to persistence diagrams.\n",
      "Got the result from ./1/train/filtrations/4/HeightFiltrartion_1_1/blue/diagrams.npy\n",
      "Applying Scaler to persistence diagrams.\n",
      "Applying filtration 27/72: 4/HeightFiltrartion_1_-1\n",
      "RGB images received. Transforming to grayscale.\n"
     ]
    },
    {
     "name": "stderr",
     "output_type": "stream",
     "text": [
      "rgb2gray: 100%|██████████| 9030/9030 [00:01<00:00, 4629.56it/s]\n"
     ]
    },
    {
     "name": "stdout",
     "output_type": "stream",
     "text": [
      "Got the result from ./1/train/filtrations/4/HeightFiltrartion_1_-1/gray/diagrams.npy\n",
      "Applying Scaler to persistence diagrams.\n",
      "Got the result from ./1/train/filtrations/4/HeightFiltrartion_1_-1/red/diagrams.npy\n",
      "Applying Scaler to persistence diagrams.\n",
      "Got the result from ./1/train/filtrations/4/HeightFiltrartion_1_-1/green/diagrams.npy\n",
      "Applying Scaler to persistence diagrams.\n",
      "Got the result from ./1/train/filtrations/4/HeightFiltrartion_1_-1/blue/diagrams.npy\n",
      "Applying Scaler to persistence diagrams.\n",
      "Applying filtration 28/72: 4/HeightFiltrartion_-1_1\n",
      "RGB images received. Transforming to grayscale.\n"
     ]
    },
    {
     "name": "stderr",
     "output_type": "stream",
     "text": [
      "rgb2gray: 100%|██████████| 9030/9030 [00:02<00:00, 4491.40it/s]\n"
     ]
    },
    {
     "name": "stdout",
     "output_type": "stream",
     "text": [
      "Got the result from ./1/train/filtrations/4/HeightFiltrartion_-1_1/gray/diagrams.npy\n",
      "Applying Scaler to persistence diagrams.\n",
      "Got the result from ./1/train/filtrations/4/HeightFiltrartion_-1_1/red/diagrams.npy\n",
      "Applying Scaler to persistence diagrams.\n",
      "Got the result from ./1/train/filtrations/4/HeightFiltrartion_-1_1/green/diagrams.npy\n",
      "Applying Scaler to persistence diagrams.\n",
      "Got the result from ./1/train/filtrations/4/HeightFiltrartion_-1_1/blue/diagrams.npy\n",
      "Applying Scaler to persistence diagrams.\n",
      "Applying filtration 29/72: 4/HeightFiltrartion_0_-1\n",
      "RGB images received. Transforming to grayscale.\n"
     ]
    },
    {
     "name": "stderr",
     "output_type": "stream",
     "text": [
      "rgb2gray: 100%|██████████| 9030/9030 [00:01<00:00, 4562.91it/s]\n"
     ]
    },
    {
     "name": "stdout",
     "output_type": "stream",
     "text": [
      "Got the result from ./1/train/filtrations/4/HeightFiltrartion_0_-1/gray/diagrams.npy\n",
      "Applying Scaler to persistence diagrams.\n",
      "Got the result from ./1/train/filtrations/4/HeightFiltrartion_0_-1/red/diagrams.npy\n",
      "Applying Scaler to persistence diagrams.\n",
      "Got the result from ./1/train/filtrations/4/HeightFiltrartion_0_-1/green/diagrams.npy\n",
      "Applying Scaler to persistence diagrams.\n",
      "Got the result from ./1/train/filtrations/4/HeightFiltrartion_0_-1/blue/diagrams.npy\n",
      "Applying Scaler to persistence diagrams.\n",
      "Applying filtration 30/72: 4/HeightFiltrartion_0_1\n",
      "RGB images received. Transforming to grayscale.\n"
     ]
    },
    {
     "name": "stderr",
     "output_type": "stream",
     "text": [
      "rgb2gray: 100%|██████████| 9030/9030 [00:02<00:00, 4214.68it/s]\n"
     ]
    },
    {
     "name": "stdout",
     "output_type": "stream",
     "text": [
      "Got the result from ./1/train/filtrations/4/HeightFiltrartion_0_1/gray/diagrams.npy\n",
      "Applying Scaler to persistence diagrams.\n",
      "Got the result from ./1/train/filtrations/4/HeightFiltrartion_0_1/red/diagrams.npy\n",
      "Applying Scaler to persistence diagrams.\n",
      "Got the result from ./1/train/filtrations/4/HeightFiltrartion_0_1/green/diagrams.npy\n",
      "Applying Scaler to persistence diagrams.\n",
      "Got the result from ./1/train/filtrations/4/HeightFiltrartion_0_1/blue/diagrams.npy\n",
      "Applying Scaler to persistence diagrams.\n",
      "Applying filtration 31/72: 4/HeightFiltrartion_-1_0\n",
      "RGB images received. Transforming to grayscale.\n"
     ]
    },
    {
     "name": "stderr",
     "output_type": "stream",
     "text": [
      "rgb2gray: 100%|██████████| 9030/9030 [00:01<00:00, 4613.01it/s]\n"
     ]
    },
    {
     "name": "stdout",
     "output_type": "stream",
     "text": [
      "Got the result from ./1/train/filtrations/4/HeightFiltrartion_-1_0/gray/diagrams.npy\n",
      "Applying Scaler to persistence diagrams.\n",
      "Got the result from ./1/train/filtrations/4/HeightFiltrartion_-1_0/red/diagrams.npy\n",
      "Applying Scaler to persistence diagrams.\n",
      "Got the result from ./1/train/filtrations/4/HeightFiltrartion_-1_0/green/diagrams.npy\n",
      "Applying Scaler to persistence diagrams.\n",
      "Got the result from ./1/train/filtrations/4/HeightFiltrartion_-1_0/blue/diagrams.npy\n",
      "Applying Scaler to persistence diagrams.\n",
      "Applying filtration 32/72: 4/HeightFiltrartion_1_0\n",
      "RGB images received. Transforming to grayscale.\n"
     ]
    },
    {
     "name": "stderr",
     "output_type": "stream",
     "text": [
      "rgb2gray: 100%|██████████| 9030/9030 [00:01<00:00, 4725.00it/s]\n"
     ]
    },
    {
     "name": "stdout",
     "output_type": "stream",
     "text": [
      "Got the result from ./1/train/filtrations/4/HeightFiltrartion_1_0/gray/diagrams.npy\n",
      "Applying Scaler to persistence diagrams.\n",
      "Got the result from ./1/train/filtrations/4/HeightFiltrartion_1_0/red/diagrams.npy\n",
      "Applying Scaler to persistence diagrams.\n",
      "Got the result from ./1/train/filtrations/4/HeightFiltrartion_1_0/green/diagrams.npy\n",
      "Applying Scaler to persistence diagrams.\n",
      "Got the result from ./1/train/filtrations/4/HeightFiltrartion_1_0/blue/diagrams.npy\n",
      "Applying Scaler to persistence diagrams.\n",
      "Applying filtration 33/72: 4/RadialFiltration_12_12\n",
      "RGB images received. Transforming to grayscale.\n"
     ]
    },
    {
     "name": "stderr",
     "output_type": "stream",
     "text": [
      "rgb2gray: 100%|██████████| 9030/9030 [00:01<00:00, 4538.81it/s]\n"
     ]
    },
    {
     "name": "stdout",
     "output_type": "stream",
     "text": [
      "Got the result from ./1/train/filtrations/4/RadialFiltration_12_12/gray/diagrams.npy\n",
      "Applying Scaler to persistence diagrams.\n",
      "Got the result from ./1/train/filtrations/4/RadialFiltration_12_12/red/diagrams.npy\n",
      "Applying Scaler to persistence diagrams.\n",
      "Got the result from ./1/train/filtrations/4/RadialFiltration_12_12/green/diagrams.npy\n",
      "Applying Scaler to persistence diagrams.\n",
      "Got the result from ./1/train/filtrations/4/RadialFiltration_12_12/blue/diagrams.npy\n",
      "Applying Scaler to persistence diagrams.\n",
      "Applying filtration 34/72: 4/RadialFiltration_12_25\n",
      "RGB images received. Transforming to grayscale.\n"
     ]
    },
    {
     "name": "stderr",
     "output_type": "stream",
     "text": [
      "rgb2gray: 100%|██████████| 9030/9030 [00:02<00:00, 4390.93it/s]\n"
     ]
    },
    {
     "name": "stdout",
     "output_type": "stream",
     "text": [
      "Got the result from ./1/train/filtrations/4/RadialFiltration_12_25/gray/diagrams.npy\n",
      "Applying Scaler to persistence diagrams.\n",
      "Got the result from ./1/train/filtrations/4/RadialFiltration_12_25/red/diagrams.npy\n",
      "Applying Scaler to persistence diagrams.\n",
      "Got the result from ./1/train/filtrations/4/RadialFiltration_12_25/green/diagrams.npy\n",
      "Applying Scaler to persistence diagrams.\n",
      "Got the result from ./1/train/filtrations/4/RadialFiltration_12_25/blue/diagrams.npy\n",
      "Applying Scaler to persistence diagrams.\n",
      "Applying filtration 35/72: 4/RadialFiltration_12_38\n",
      "RGB images received. Transforming to grayscale.\n"
     ]
    },
    {
     "name": "stderr",
     "output_type": "stream",
     "text": [
      "rgb2gray: 100%|██████████| 9030/9030 [00:02<00:00, 4403.78it/s]\n"
     ]
    },
    {
     "name": "stdout",
     "output_type": "stream",
     "text": [
      "Got the result from ./1/train/filtrations/4/RadialFiltration_12_38/gray/diagrams.npy\n",
      "Applying Scaler to persistence diagrams.\n",
      "Got the result from ./1/train/filtrations/4/RadialFiltration_12_38/red/diagrams.npy\n",
      "Applying Scaler to persistence diagrams.\n",
      "Got the result from ./1/train/filtrations/4/RadialFiltration_12_38/green/diagrams.npy\n",
      "Applying Scaler to persistence diagrams.\n",
      "Got the result from ./1/train/filtrations/4/RadialFiltration_12_38/blue/diagrams.npy\n",
      "Applying Scaler to persistence diagrams.\n",
      "Applying filtration 36/72: 4/RadialFiltration_12_51\n",
      "RGB images received. Transforming to grayscale.\n"
     ]
    },
    {
     "name": "stderr",
     "output_type": "stream",
     "text": [
      "rgb2gray: 100%|██████████| 9030/9030 [00:01<00:00, 4731.43it/s]\n"
     ]
    },
    {
     "name": "stdout",
     "output_type": "stream",
     "text": [
      "Got the result from ./1/train/filtrations/4/RadialFiltration_12_51/gray/diagrams.npy\n",
      "Applying Scaler to persistence diagrams.\n",
      "Got the result from ./1/train/filtrations/4/RadialFiltration_12_51/red/diagrams.npy\n",
      "Applying Scaler to persistence diagrams.\n",
      "Got the result from ./1/train/filtrations/4/RadialFiltration_12_51/green/diagrams.npy\n",
      "Applying Scaler to persistence diagrams.\n",
      "Got the result from ./1/train/filtrations/4/RadialFiltration_12_51/blue/diagrams.npy\n",
      "Applying Scaler to persistence diagrams.\n",
      "Applying filtration 37/72: 4/RadialFiltration_25_12\n",
      "RGB images received. Transforming to grayscale.\n"
     ]
    },
    {
     "name": "stderr",
     "output_type": "stream",
     "text": [
      "rgb2gray: 100%|██████████| 9030/9030 [00:02<00:00, 4158.39it/s]\n"
     ]
    },
    {
     "name": "stdout",
     "output_type": "stream",
     "text": [
      "Got the result from ./1/train/filtrations/4/RadialFiltration_25_12/gray/diagrams.npy\n",
      "Applying Scaler to persistence diagrams.\n",
      "Got the result from ./1/train/filtrations/4/RadialFiltration_25_12/red/diagrams.npy\n",
      "Applying Scaler to persistence diagrams.\n",
      "Got the result from ./1/train/filtrations/4/RadialFiltration_25_12/green/diagrams.npy\n",
      "Applying Scaler to persistence diagrams.\n",
      "Got the result from ./1/train/filtrations/4/RadialFiltration_25_12/blue/diagrams.npy\n",
      "Applying Scaler to persistence diagrams.\n",
      "Applying filtration 38/72: 4/RadialFiltration_25_25\n",
      "RGB images received. Transforming to grayscale.\n"
     ]
    },
    {
     "name": "stderr",
     "output_type": "stream",
     "text": [
      "rgb2gray: 100%|██████████| 9030/9030 [00:01<00:00, 4577.98it/s]\n"
     ]
    },
    {
     "name": "stdout",
     "output_type": "stream",
     "text": [
      "Got the result from ./1/train/filtrations/4/RadialFiltration_25_25/gray/diagrams.npy\n",
      "Applying Scaler to persistence diagrams.\n",
      "Got the result from ./1/train/filtrations/4/RadialFiltration_25_25/red/diagrams.npy\n",
      "Applying Scaler to persistence diagrams.\n",
      "Got the result from ./1/train/filtrations/4/RadialFiltration_25_25/green/diagrams.npy\n",
      "Applying Scaler to persistence diagrams.\n",
      "Got the result from ./1/train/filtrations/4/RadialFiltration_25_25/blue/diagrams.npy\n",
      "Applying Scaler to persistence diagrams.\n",
      "Applying filtration 39/72: 4/RadialFiltration_25_38\n",
      "RGB images received. Transforming to grayscale.\n"
     ]
    },
    {
     "name": "stderr",
     "output_type": "stream",
     "text": [
      "rgb2gray: 100%|██████████| 9030/9030 [00:02<00:00, 4508.23it/s]\n"
     ]
    },
    {
     "name": "stdout",
     "output_type": "stream",
     "text": [
      "Got the result from ./1/train/filtrations/4/RadialFiltration_25_38/gray/diagrams.npy\n",
      "Applying Scaler to persistence diagrams.\n",
      "Got the result from ./1/train/filtrations/4/RadialFiltration_25_38/red/diagrams.npy\n",
      "Applying Scaler to persistence diagrams.\n",
      "Got the result from ./1/train/filtrations/4/RadialFiltration_25_38/green/diagrams.npy\n",
      "Applying Scaler to persistence diagrams.\n",
      "Got the result from ./1/train/filtrations/4/RadialFiltration_25_38/blue/diagrams.npy\n",
      "Applying Scaler to persistence diagrams.\n",
      "Applying filtration 40/72: 4/RadialFiltration_25_51\n",
      "RGB images received. Transforming to grayscale.\n"
     ]
    },
    {
     "name": "stderr",
     "output_type": "stream",
     "text": [
      "rgb2gray: 100%|██████████| 9030/9030 [00:01<00:00, 4534.25it/s]\n"
     ]
    },
    {
     "name": "stdout",
     "output_type": "stream",
     "text": [
      "Got the result from ./1/train/filtrations/4/RadialFiltration_25_51/gray/diagrams.npy\n",
      "Applying Scaler to persistence diagrams.\n",
      "Got the result from ./1/train/filtrations/4/RadialFiltration_25_51/red/diagrams.npy\n",
      "Applying Scaler to persistence diagrams.\n",
      "Got the result from ./1/train/filtrations/4/RadialFiltration_25_51/green/diagrams.npy\n",
      "Applying Scaler to persistence diagrams.\n",
      "Got the result from ./1/train/filtrations/4/RadialFiltration_25_51/blue/diagrams.npy\n",
      "Applying Scaler to persistence diagrams.\n",
      "Applying filtration 41/72: 4/RadialFiltration_38_12\n",
      "RGB images received. Transforming to grayscale.\n"
     ]
    },
    {
     "name": "stderr",
     "output_type": "stream",
     "text": [
      "rgb2gray: 100%|██████████| 9030/9030 [00:01<00:00, 4582.56it/s]\n"
     ]
    },
    {
     "name": "stdout",
     "output_type": "stream",
     "text": [
      "Got the result from ./1/train/filtrations/4/RadialFiltration_38_12/gray/diagrams.npy\n",
      "Applying Scaler to persistence diagrams.\n",
      "Got the result from ./1/train/filtrations/4/RadialFiltration_38_12/red/diagrams.npy\n",
      "Applying Scaler to persistence diagrams.\n",
      "Got the result from ./1/train/filtrations/4/RadialFiltration_38_12/green/diagrams.npy\n",
      "Applying Scaler to persistence diagrams.\n",
      "Got the result from ./1/train/filtrations/4/RadialFiltration_38_12/blue/diagrams.npy\n",
      "Applying Scaler to persistence diagrams.\n",
      "Applying filtration 42/72: 4/RadialFiltration_38_25\n",
      "RGB images received. Transforming to grayscale.\n"
     ]
    },
    {
     "name": "stderr",
     "output_type": "stream",
     "text": [
      "rgb2gray: 100%|██████████| 9030/9030 [00:01<00:00, 4649.85it/s]\n"
     ]
    },
    {
     "name": "stdout",
     "output_type": "stream",
     "text": [
      "Got the result from ./1/train/filtrations/4/RadialFiltration_38_25/gray/diagrams.npy\n",
      "Applying Scaler to persistence diagrams.\n",
      "Got the result from ./1/train/filtrations/4/RadialFiltration_38_25/red/diagrams.npy\n",
      "Applying Scaler to persistence diagrams.\n",
      "Got the result from ./1/train/filtrations/4/RadialFiltration_38_25/green/diagrams.npy\n",
      "Applying Scaler to persistence diagrams.\n",
      "Got the result from ./1/train/filtrations/4/RadialFiltration_38_25/blue/diagrams.npy\n",
      "Applying Scaler to persistence diagrams.\n",
      "Applying filtration 43/72: 4/RadialFiltration_38_38\n",
      "RGB images received. Transforming to grayscale.\n"
     ]
    },
    {
     "name": "stderr",
     "output_type": "stream",
     "text": [
      "rgb2gray: 100%|██████████| 9030/9030 [00:01<00:00, 4617.71it/s]\n"
     ]
    },
    {
     "name": "stdout",
     "output_type": "stream",
     "text": [
      "Got the result from ./1/train/filtrations/4/RadialFiltration_38_38/gray/diagrams.npy\n",
      "Applying Scaler to persistence diagrams.\n",
      "Got the result from ./1/train/filtrations/4/RadialFiltration_38_38/red/diagrams.npy\n",
      "Applying Scaler to persistence diagrams.\n",
      "Got the result from ./1/train/filtrations/4/RadialFiltration_38_38/green/diagrams.npy\n",
      "Applying Scaler to persistence diagrams.\n",
      "Got the result from ./1/train/filtrations/4/RadialFiltration_38_38/blue/diagrams.npy\n",
      "Applying Scaler to persistence diagrams.\n",
      "Applying filtration 44/72: 4/RadialFiltration_38_51\n",
      "RGB images received. Transforming to grayscale.\n"
     ]
    },
    {
     "name": "stderr",
     "output_type": "stream",
     "text": [
      "rgb2gray: 100%|██████████| 9030/9030 [00:02<00:00, 3641.85it/s]\n"
     ]
    },
    {
     "name": "stdout",
     "output_type": "stream",
     "text": [
      "Got the result from ./1/train/filtrations/4/RadialFiltration_38_51/gray/diagrams.npy\n",
      "Applying Scaler to persistence diagrams.\n",
      "Got the result from ./1/train/filtrations/4/RadialFiltration_38_51/red/diagrams.npy\n",
      "Applying Scaler to persistence diagrams.\n",
      "Got the result from ./1/train/filtrations/4/RadialFiltration_38_51/green/diagrams.npy\n",
      "Applying Scaler to persistence diagrams.\n",
      "Got the result from ./1/train/filtrations/4/RadialFiltration_38_51/blue/diagrams.npy\n",
      "Applying Scaler to persistence diagrams.\n",
      "Applying filtration 45/72: 4/RadialFiltration_51_12\n",
      "RGB images received. Transforming to grayscale.\n"
     ]
    },
    {
     "name": "stderr",
     "output_type": "stream",
     "text": [
      "rgb2gray: 100%|██████████| 9030/9030 [00:02<00:00, 4452.04it/s]\n"
     ]
    },
    {
     "name": "stdout",
     "output_type": "stream",
     "text": [
      "Got the result from ./1/train/filtrations/4/RadialFiltration_51_12/gray/diagrams.npy\n",
      "Applying Scaler to persistence diagrams.\n",
      "Got the result from ./1/train/filtrations/4/RadialFiltration_51_12/red/diagrams.npy\n",
      "Applying Scaler to persistence diagrams.\n",
      "Got the result from ./1/train/filtrations/4/RadialFiltration_51_12/green/diagrams.npy\n",
      "Applying Scaler to persistence diagrams.\n",
      "Got the result from ./1/train/filtrations/4/RadialFiltration_51_12/blue/diagrams.npy\n",
      "Applying Scaler to persistence diagrams.\n",
      "Applying filtration 46/72: 4/RadialFiltration_51_25\n",
      "RGB images received. Transforming to grayscale.\n"
     ]
    },
    {
     "name": "stderr",
     "output_type": "stream",
     "text": [
      "rgb2gray: 100%|██████████| 9030/9030 [00:02<00:00, 4417.78it/s]\n"
     ]
    },
    {
     "name": "stdout",
     "output_type": "stream",
     "text": [
      "Got the result from ./1/train/filtrations/4/RadialFiltration_51_25/gray/diagrams.npy\n",
      "Applying Scaler to persistence diagrams.\n",
      "Got the result from ./1/train/filtrations/4/RadialFiltration_51_25/red/diagrams.npy\n",
      "Applying Scaler to persistence diagrams.\n",
      "Got the result from ./1/train/filtrations/4/RadialFiltration_51_25/green/diagrams.npy\n",
      "Applying Scaler to persistence diagrams.\n",
      "Got the result from ./1/train/filtrations/4/RadialFiltration_51_25/blue/diagrams.npy\n",
      "Applying Scaler to persistence diagrams.\n",
      "Applying filtration 47/72: 4/RadialFiltration_51_38\n",
      "RGB images received. Transforming to grayscale.\n"
     ]
    },
    {
     "name": "stderr",
     "output_type": "stream",
     "text": [
      "rgb2gray: 100%|██████████| 9030/9030 [00:02<00:00, 4382.41it/s]\n"
     ]
    },
    {
     "name": "stdout",
     "output_type": "stream",
     "text": [
      "Got the result from ./1/train/filtrations/4/RadialFiltration_51_38/gray/diagrams.npy\n",
      "Applying Scaler to persistence diagrams.\n",
      "Got the result from ./1/train/filtrations/4/RadialFiltration_51_38/red/diagrams.npy\n",
      "Applying Scaler to persistence diagrams.\n",
      "Got the result from ./1/train/filtrations/4/RadialFiltration_51_38/green/diagrams.npy\n",
      "Applying Scaler to persistence diagrams.\n",
      "Got the result from ./1/train/filtrations/4/RadialFiltration_51_38/blue/diagrams.npy\n",
      "Applying Scaler to persistence diagrams.\n",
      "Applying filtration 48/72: 4/RadialFiltration_51_51\n",
      "RGB images received. Transforming to grayscale.\n"
     ]
    },
    {
     "name": "stderr",
     "output_type": "stream",
     "text": [
      "rgb2gray: 100%|██████████| 9030/9030 [00:02<00:00, 4458.14it/s]\n"
     ]
    },
    {
     "name": "stdout",
     "output_type": "stream",
     "text": [
      "Got the result from ./1/train/filtrations/4/RadialFiltration_51_51/gray/diagrams.npy\n",
      "Applying Scaler to persistence diagrams.\n",
      "Got the result from ./1/train/filtrations/4/RadialFiltration_51_51/red/diagrams.npy\n",
      "Applying Scaler to persistence diagrams.\n",
      "Got the result from ./1/train/filtrations/4/RadialFiltration_51_51/green/diagrams.npy\n",
      "Applying Scaler to persistence diagrams.\n",
      "Got the result from ./1/train/filtrations/4/RadialFiltration_51_51/blue/diagrams.npy\n",
      "Applying Scaler to persistence diagrams.\n",
      "Applying filtration 49/72: 6/HeightFiltrartion_-1_-1\n",
      "RGB images received. Transforming to grayscale.\n"
     ]
    },
    {
     "name": "stderr",
     "output_type": "stream",
     "text": [
      "rgb2gray: 100%|██████████| 9030/9030 [00:02<00:00, 4289.73it/s]\n"
     ]
    },
    {
     "name": "stdout",
     "output_type": "stream",
     "text": [
      "Got the result from ./1/train/filtrations/6/HeightFiltrartion_-1_-1/gray/diagrams.npy\n",
      "Applying Scaler to persistence diagrams.\n",
      "Got the result from ./1/train/filtrations/6/HeightFiltrartion_-1_-1/red/diagrams.npy\n",
      "Applying Scaler to persistence diagrams.\n",
      "Got the result from ./1/train/filtrations/6/HeightFiltrartion_-1_-1/green/diagrams.npy\n",
      "Applying Scaler to persistence diagrams.\n",
      "Got the result from ./1/train/filtrations/6/HeightFiltrartion_-1_-1/blue/diagrams.npy\n",
      "Applying Scaler to persistence diagrams.\n",
      "Applying filtration 50/72: 6/HeightFiltrartion_1_1\n",
      "RGB images received. Transforming to grayscale.\n"
     ]
    },
    {
     "name": "stderr",
     "output_type": "stream",
     "text": [
      "rgb2gray: 100%|██████████| 9030/9030 [00:02<00:00, 4448.28it/s]\n"
     ]
    },
    {
     "name": "stdout",
     "output_type": "stream",
     "text": [
      "Got the result from ./1/train/filtrations/6/HeightFiltrartion_1_1/gray/diagrams.npy\n",
      "Applying Scaler to persistence diagrams.\n",
      "Got the result from ./1/train/filtrations/6/HeightFiltrartion_1_1/red/diagrams.npy\n",
      "Applying Scaler to persistence diagrams.\n",
      "Got the result from ./1/train/filtrations/6/HeightFiltrartion_1_1/green/diagrams.npy\n",
      "Applying Scaler to persistence diagrams.\n",
      "Got the result from ./1/train/filtrations/6/HeightFiltrartion_1_1/blue/diagrams.npy\n",
      "Applying Scaler to persistence diagrams.\n",
      "Applying filtration 51/72: 6/HeightFiltrartion_1_-1\n",
      "RGB images received. Transforming to grayscale.\n"
     ]
    },
    {
     "name": "stderr",
     "output_type": "stream",
     "text": [
      "rgb2gray: 100%|██████████| 9030/9030 [00:02<00:00, 4007.15it/s]\n"
     ]
    },
    {
     "name": "stdout",
     "output_type": "stream",
     "text": [
      "Got the result from ./1/train/filtrations/6/HeightFiltrartion_1_-1/gray/diagrams.npy\n",
      "Applying Scaler to persistence diagrams.\n",
      "Got the result from ./1/train/filtrations/6/HeightFiltrartion_1_-1/red/diagrams.npy\n",
      "Applying Scaler to persistence diagrams.\n",
      "Got the result from ./1/train/filtrations/6/HeightFiltrartion_1_-1/green/diagrams.npy\n",
      "Applying Scaler to persistence diagrams.\n",
      "Got the result from ./1/train/filtrations/6/HeightFiltrartion_1_-1/blue/diagrams.npy\n",
      "Applying Scaler to persistence diagrams.\n",
      "Applying filtration 52/72: 6/HeightFiltrartion_-1_1\n",
      "RGB images received. Transforming to grayscale.\n"
     ]
    },
    {
     "name": "stderr",
     "output_type": "stream",
     "text": [
      "rgb2gray: 100%|██████████| 9030/9030 [00:01<00:00, 4577.93it/s]\n"
     ]
    },
    {
     "name": "stdout",
     "output_type": "stream",
     "text": [
      "Got the result from ./1/train/filtrations/6/HeightFiltrartion_-1_1/gray/diagrams.npy\n",
      "Applying Scaler to persistence diagrams.\n",
      "Got the result from ./1/train/filtrations/6/HeightFiltrartion_-1_1/red/diagrams.npy\n",
      "Applying Scaler to persistence diagrams.\n",
      "Got the result from ./1/train/filtrations/6/HeightFiltrartion_-1_1/green/diagrams.npy\n",
      "Applying Scaler to persistence diagrams.\n",
      "Got the result from ./1/train/filtrations/6/HeightFiltrartion_-1_1/blue/diagrams.npy\n",
      "Applying Scaler to persistence diagrams.\n",
      "Applying filtration 53/72: 6/HeightFiltrartion_0_-1\n",
      "RGB images received. Transforming to grayscale.\n"
     ]
    },
    {
     "name": "stderr",
     "output_type": "stream",
     "text": [
      "rgb2gray: 100%|██████████| 9030/9030 [00:01<00:00, 4605.95it/s]\n"
     ]
    },
    {
     "name": "stdout",
     "output_type": "stream",
     "text": [
      "Got the result from ./1/train/filtrations/6/HeightFiltrartion_0_-1/gray/diagrams.npy\n",
      "Applying Scaler to persistence diagrams.\n",
      "Got the result from ./1/train/filtrations/6/HeightFiltrartion_0_-1/red/diagrams.npy\n",
      "Applying Scaler to persistence diagrams.\n",
      "Got the result from ./1/train/filtrations/6/HeightFiltrartion_0_-1/green/diagrams.npy\n",
      "Applying Scaler to persistence diagrams.\n",
      "Got the result from ./1/train/filtrations/6/HeightFiltrartion_0_-1/blue/diagrams.npy\n",
      "Applying Scaler to persistence diagrams.\n",
      "Applying filtration 54/72: 6/HeightFiltrartion_0_1\n",
      "RGB images received. Transforming to grayscale.\n"
     ]
    },
    {
     "name": "stderr",
     "output_type": "stream",
     "text": [
      "rgb2gray: 100%|██████████| 9030/9030 [00:02<00:00, 4313.49it/s]\n"
     ]
    },
    {
     "name": "stdout",
     "output_type": "stream",
     "text": [
      "Got the result from ./1/train/filtrations/6/HeightFiltrartion_0_1/gray/diagrams.npy\n",
      "Applying Scaler to persistence diagrams.\n",
      "Got the result from ./1/train/filtrations/6/HeightFiltrartion_0_1/red/diagrams.npy\n",
      "Applying Scaler to persistence diagrams.\n",
      "Got the result from ./1/train/filtrations/6/HeightFiltrartion_0_1/green/diagrams.npy\n",
      "Applying Scaler to persistence diagrams.\n",
      "Got the result from ./1/train/filtrations/6/HeightFiltrartion_0_1/blue/diagrams.npy\n",
      "Applying Scaler to persistence diagrams.\n",
      "Applying filtration 55/72: 6/HeightFiltrartion_-1_0\n",
      "RGB images received. Transforming to grayscale.\n"
     ]
    },
    {
     "name": "stderr",
     "output_type": "stream",
     "text": [
      "rgb2gray: 100%|██████████| 9030/9030 [00:02<00:00, 4256.79it/s]\n"
     ]
    },
    {
     "name": "stdout",
     "output_type": "stream",
     "text": [
      "Got the result from ./1/train/filtrations/6/HeightFiltrartion_-1_0/gray/diagrams.npy\n",
      "Applying Scaler to persistence diagrams.\n",
      "Got the result from ./1/train/filtrations/6/HeightFiltrartion_-1_0/red/diagrams.npy\n",
      "Applying Scaler to persistence diagrams.\n",
      "Got the result from ./1/train/filtrations/6/HeightFiltrartion_-1_0/green/diagrams.npy\n",
      "Applying Scaler to persistence diagrams.\n",
      "Got the result from ./1/train/filtrations/6/HeightFiltrartion_-1_0/blue/diagrams.npy\n",
      "Applying Scaler to persistence diagrams.\n",
      "Applying filtration 56/72: 6/HeightFiltrartion_1_0\n",
      "RGB images received. Transforming to grayscale.\n"
     ]
    },
    {
     "name": "stderr",
     "output_type": "stream",
     "text": [
      "rgb2gray: 100%|██████████| 9030/9030 [00:02<00:00, 4361.25it/s]\n"
     ]
    },
    {
     "name": "stdout",
     "output_type": "stream",
     "text": [
      "Got the result from ./1/train/filtrations/6/HeightFiltrartion_1_0/gray/diagrams.npy\n",
      "Applying Scaler to persistence diagrams.\n",
      "Got the result from ./1/train/filtrations/6/HeightFiltrartion_1_0/red/diagrams.npy\n",
      "Applying Scaler to persistence diagrams.\n",
      "Got the result from ./1/train/filtrations/6/HeightFiltrartion_1_0/green/diagrams.npy\n",
      "Applying Scaler to persistence diagrams.\n",
      "Got the result from ./1/train/filtrations/6/HeightFiltrartion_1_0/blue/diagrams.npy\n",
      "Applying Scaler to persistence diagrams.\n",
      "Applying filtration 57/72: 6/RadialFiltration_12_12\n",
      "RGB images received. Transforming to grayscale.\n"
     ]
    },
    {
     "name": "stderr",
     "output_type": "stream",
     "text": [
      "rgb2gray: 100%|██████████| 9030/9030 [00:02<00:00, 4242.41it/s]\n"
     ]
    },
    {
     "name": "stdout",
     "output_type": "stream",
     "text": [
      "Got the result from ./1/train/filtrations/6/RadialFiltration_12_12/gray/diagrams.npy\n",
      "Applying Scaler to persistence diagrams.\n",
      "Got the result from ./1/train/filtrations/6/RadialFiltration_12_12/red/diagrams.npy\n",
      "Applying Scaler to persistence diagrams.\n",
      "Got the result from ./1/train/filtrations/6/RadialFiltration_12_12/green/diagrams.npy\n",
      "Applying Scaler to persistence diagrams.\n",
      "Got the result from ./1/train/filtrations/6/RadialFiltration_12_12/blue/diagrams.npy\n",
      "Applying Scaler to persistence diagrams.\n",
      "Applying filtration 58/72: 6/RadialFiltration_12_25\n",
      "RGB images received. Transforming to grayscale.\n"
     ]
    },
    {
     "name": "stderr",
     "output_type": "stream",
     "text": [
      "rgb2gray: 100%|██████████| 9030/9030 [00:02<00:00, 4242.77it/s]\n"
     ]
    },
    {
     "name": "stdout",
     "output_type": "stream",
     "text": [
      "Got the result from ./1/train/filtrations/6/RadialFiltration_12_25/gray/diagrams.npy\n",
      "Applying Scaler to persistence diagrams.\n",
      "Got the result from ./1/train/filtrations/6/RadialFiltration_12_25/red/diagrams.npy\n",
      "Applying Scaler to persistence diagrams.\n",
      "Got the result from ./1/train/filtrations/6/RadialFiltration_12_25/green/diagrams.npy\n",
      "Applying Scaler to persistence diagrams.\n",
      "Got the result from ./1/train/filtrations/6/RadialFiltration_12_25/blue/diagrams.npy\n",
      "Applying Scaler to persistence diagrams.\n",
      "Applying filtration 59/72: 6/RadialFiltration_12_38\n",
      "RGB images received. Transforming to grayscale.\n"
     ]
    },
    {
     "name": "stderr",
     "output_type": "stream",
     "text": [
      "rgb2gray: 100%|██████████| 9030/9030 [00:02<00:00, 4357.53it/s]\n"
     ]
    },
    {
     "name": "stdout",
     "output_type": "stream",
     "text": [
      "Got the result from ./1/train/filtrations/6/RadialFiltration_12_38/gray/diagrams.npy\n",
      "Applying Scaler to persistence diagrams.\n",
      "Got the result from ./1/train/filtrations/6/RadialFiltration_12_38/red/diagrams.npy\n",
      "Applying Scaler to persistence diagrams.\n",
      "Got the result from ./1/train/filtrations/6/RadialFiltration_12_38/green/diagrams.npy\n",
      "Applying Scaler to persistence diagrams.\n",
      "Got the result from ./1/train/filtrations/6/RadialFiltration_12_38/blue/diagrams.npy\n",
      "Applying Scaler to persistence diagrams.\n",
      "Applying filtration 60/72: 6/RadialFiltration_12_51\n",
      "RGB images received. Transforming to grayscale.\n"
     ]
    },
    {
     "name": "stderr",
     "output_type": "stream",
     "text": [
      "rgb2gray: 100%|██████████| 9030/9030 [00:02<00:00, 4292.74it/s]\n"
     ]
    },
    {
     "name": "stdout",
     "output_type": "stream",
     "text": [
      "Got the result from ./1/train/filtrations/6/RadialFiltration_12_51/gray/diagrams.npy\n",
      "Applying Scaler to persistence diagrams.\n",
      "Got the result from ./1/train/filtrations/6/RadialFiltration_12_51/red/diagrams.npy\n",
      "Applying Scaler to persistence diagrams.\n",
      "Got the result from ./1/train/filtrations/6/RadialFiltration_12_51/green/diagrams.npy\n",
      "Applying Scaler to persistence diagrams.\n",
      "Got the result from ./1/train/filtrations/6/RadialFiltration_12_51/blue/diagrams.npy\n",
      "Applying Scaler to persistence diagrams.\n",
      "Applying filtration 61/72: 6/RadialFiltration_25_12\n",
      "RGB images received. Transforming to grayscale.\n"
     ]
    },
    {
     "name": "stderr",
     "output_type": "stream",
     "text": [
      "rgb2gray: 100%|██████████| 9030/9030 [00:02<00:00, 4209.67it/s]\n"
     ]
    },
    {
     "name": "stdout",
     "output_type": "stream",
     "text": [
      "Got the result from ./1/train/filtrations/6/RadialFiltration_25_12/gray/diagrams.npy\n",
      "Applying Scaler to persistence diagrams.\n",
      "Got the result from ./1/train/filtrations/6/RadialFiltration_25_12/red/diagrams.npy\n",
      "Applying Scaler to persistence diagrams.\n",
      "Got the result from ./1/train/filtrations/6/RadialFiltration_25_12/green/diagrams.npy\n",
      "Applying Scaler to persistence diagrams.\n",
      "Got the result from ./1/train/filtrations/6/RadialFiltration_25_12/blue/diagrams.npy\n",
      "Applying Scaler to persistence diagrams.\n",
      "Applying filtration 62/72: 6/RadialFiltration_25_25\n",
      "RGB images received. Transforming to grayscale.\n"
     ]
    },
    {
     "name": "stderr",
     "output_type": "stream",
     "text": [
      "rgb2gray: 100%|██████████| 9030/9030 [00:02<00:00, 4222.54it/s]\n"
     ]
    },
    {
     "name": "stdout",
     "output_type": "stream",
     "text": [
      "Got the result from ./1/train/filtrations/6/RadialFiltration_25_25/gray/diagrams.npy\n",
      "Applying Scaler to persistence diagrams.\n",
      "Got the result from ./1/train/filtrations/6/RadialFiltration_25_25/red/diagrams.npy\n",
      "Applying Scaler to persistence diagrams.\n",
      "Got the result from ./1/train/filtrations/6/RadialFiltration_25_25/green/diagrams.npy\n",
      "Applying Scaler to persistence diagrams.\n",
      "Got the result from ./1/train/filtrations/6/RadialFiltration_25_25/blue/diagrams.npy\n",
      "Applying Scaler to persistence diagrams.\n",
      "Applying filtration 63/72: 6/RadialFiltration_25_38\n",
      "RGB images received. Transforming to grayscale.\n"
     ]
    },
    {
     "name": "stderr",
     "output_type": "stream",
     "text": [
      "rgb2gray: 100%|██████████| 9030/9030 [00:02<00:00, 4261.44it/s]\n"
     ]
    },
    {
     "name": "stdout",
     "output_type": "stream",
     "text": [
      "Got the result from ./1/train/filtrations/6/RadialFiltration_25_38/gray/diagrams.npy\n",
      "Applying Scaler to persistence diagrams.\n",
      "Got the result from ./1/train/filtrations/6/RadialFiltration_25_38/red/diagrams.npy\n",
      "Applying Scaler to persistence diagrams.\n",
      "Got the result from ./1/train/filtrations/6/RadialFiltration_25_38/green/diagrams.npy\n",
      "Applying Scaler to persistence diagrams.\n",
      "Got the result from ./1/train/filtrations/6/RadialFiltration_25_38/blue/diagrams.npy\n",
      "Applying Scaler to persistence diagrams.\n",
      "Applying filtration 64/72: 6/RadialFiltration_25_51\n",
      "RGB images received. Transforming to grayscale.\n"
     ]
    },
    {
     "name": "stderr",
     "output_type": "stream",
     "text": [
      "rgb2gray: 100%|██████████| 9030/9030 [00:02<00:00, 4214.69it/s]\n"
     ]
    },
    {
     "name": "stdout",
     "output_type": "stream",
     "text": [
      "Got the result from ./1/train/filtrations/6/RadialFiltration_25_51/gray/diagrams.npy\n",
      "Applying Scaler to persistence diagrams.\n",
      "Got the result from ./1/train/filtrations/6/RadialFiltration_25_51/red/diagrams.npy\n",
      "Applying Scaler to persistence diagrams.\n",
      "Got the result from ./1/train/filtrations/6/RadialFiltration_25_51/green/diagrams.npy\n",
      "Applying Scaler to persistence diagrams.\n",
      "Got the result from ./1/train/filtrations/6/RadialFiltration_25_51/blue/diagrams.npy\n",
      "Applying Scaler to persistence diagrams.\n",
      "Applying filtration 65/72: 6/RadialFiltration_38_12\n",
      "RGB images received. Transforming to grayscale.\n"
     ]
    },
    {
     "name": "stderr",
     "output_type": "stream",
     "text": [
      "rgb2gray: 100%|██████████| 9030/9030 [00:02<00:00, 4180.81it/s]\n"
     ]
    },
    {
     "name": "stdout",
     "output_type": "stream",
     "text": [
      "Got the result from ./1/train/filtrations/6/RadialFiltration_38_12/gray/diagrams.npy\n",
      "Applying Scaler to persistence diagrams.\n",
      "Got the result from ./1/train/filtrations/6/RadialFiltration_38_12/red/diagrams.npy\n",
      "Applying Scaler to persistence diagrams.\n",
      "Got the result from ./1/train/filtrations/6/RadialFiltration_38_12/green/diagrams.npy\n",
      "Applying Scaler to persistence diagrams.\n",
      "Got the result from ./1/train/filtrations/6/RadialFiltration_38_12/blue/diagrams.npy\n",
      "Applying Scaler to persistence diagrams.\n",
      "Applying filtration 66/72: 6/RadialFiltration_38_25\n",
      "RGB images received. Transforming to grayscale.\n"
     ]
    },
    {
     "name": "stderr",
     "output_type": "stream",
     "text": [
      "rgb2gray: 100%|██████████| 9030/9030 [00:02<00:00, 3621.40it/s]\n"
     ]
    },
    {
     "name": "stdout",
     "output_type": "stream",
     "text": [
      "Got the result from ./1/train/filtrations/6/RadialFiltration_38_25/gray/diagrams.npy\n",
      "Applying Scaler to persistence diagrams.\n",
      "Got the result from ./1/train/filtrations/6/RadialFiltration_38_25/red/diagrams.npy\n",
      "Applying Scaler to persistence diagrams.\n",
      "Got the result from ./1/train/filtrations/6/RadialFiltration_38_25/green/diagrams.npy\n",
      "Applying Scaler to persistence diagrams.\n",
      "Got the result from ./1/train/filtrations/6/RadialFiltration_38_25/blue/diagrams.npy\n",
      "Applying Scaler to persistence diagrams.\n",
      "Applying filtration 67/72: 6/RadialFiltration_38_38\n",
      "RGB images received. Transforming to grayscale.\n"
     ]
    },
    {
     "name": "stderr",
     "output_type": "stream",
     "text": [
      "rgb2gray: 100%|██████████| 9030/9030 [00:02<00:00, 3640.38it/s]\n"
     ]
    },
    {
     "name": "stdout",
     "output_type": "stream",
     "text": [
      "Got the result from ./1/train/filtrations/6/RadialFiltration_38_38/gray/diagrams.npy\n",
      "Applying Scaler to persistence diagrams.\n",
      "Got the result from ./1/train/filtrations/6/RadialFiltration_38_38/red/diagrams.npy\n",
      "Applying Scaler to persistence diagrams.\n",
      "Got the result from ./1/train/filtrations/6/RadialFiltration_38_38/green/diagrams.npy\n",
      "Applying Scaler to persistence diagrams.\n",
      "Got the result from ./1/train/filtrations/6/RadialFiltration_38_38/blue/diagrams.npy\n",
      "Applying Scaler to persistence diagrams.\n",
      "Applying filtration 68/72: 6/RadialFiltration_38_51\n",
      "RGB images received. Transforming to grayscale.\n"
     ]
    },
    {
     "name": "stderr",
     "output_type": "stream",
     "text": [
      "rgb2gray: 100%|██████████| 9030/9030 [00:02<00:00, 3858.14it/s]\n"
     ]
    },
    {
     "name": "stdout",
     "output_type": "stream",
     "text": [
      "Got the result from ./1/train/filtrations/6/RadialFiltration_38_51/gray/diagrams.npy\n",
      "Applying Scaler to persistence diagrams.\n",
      "Got the result from ./1/train/filtrations/6/RadialFiltration_38_51/red/diagrams.npy\n",
      "Applying Scaler to persistence diagrams.\n",
      "Got the result from ./1/train/filtrations/6/RadialFiltration_38_51/green/diagrams.npy\n",
      "Applying Scaler to persistence diagrams.\n",
      "Got the result from ./1/train/filtrations/6/RadialFiltration_38_51/blue/diagrams.npy\n",
      "Applying Scaler to persistence diagrams.\n",
      "Applying filtration 69/72: 6/RadialFiltration_51_12\n",
      "RGB images received. Transforming to grayscale.\n"
     ]
    },
    {
     "name": "stderr",
     "output_type": "stream",
     "text": [
      "rgb2gray: 100%|██████████| 9030/9030 [00:02<00:00, 4142.57it/s]\n"
     ]
    },
    {
     "name": "stdout",
     "output_type": "stream",
     "text": [
      "Got the result from ./1/train/filtrations/6/RadialFiltration_51_12/gray/diagrams.npy\n",
      "Applying Scaler to persistence diagrams.\n",
      "Got the result from ./1/train/filtrations/6/RadialFiltration_51_12/red/diagrams.npy\n",
      "Applying Scaler to persistence diagrams.\n",
      "Got the result from ./1/train/filtrations/6/RadialFiltration_51_12/green/diagrams.npy\n",
      "Applying Scaler to persistence diagrams.\n",
      "Got the result from ./1/train/filtrations/6/RadialFiltration_51_12/blue/diagrams.npy\n",
      "Applying Scaler to persistence diagrams.\n",
      "Applying filtration 70/72: 6/RadialFiltration_51_25\n",
      "RGB images received. Transforming to grayscale.\n"
     ]
    },
    {
     "name": "stderr",
     "output_type": "stream",
     "text": [
      "rgb2gray: 100%|██████████| 9030/9030 [00:02<00:00, 4220.59it/s]\n"
     ]
    },
    {
     "name": "stdout",
     "output_type": "stream",
     "text": [
      "Got the result from ./1/train/filtrations/6/RadialFiltration_51_25/gray/diagrams.npy\n",
      "Applying Scaler to persistence diagrams.\n",
      "Got the result from ./1/train/filtrations/6/RadialFiltration_51_25/red/diagrams.npy\n",
      "Applying Scaler to persistence diagrams.\n",
      "Got the result from ./1/train/filtrations/6/RadialFiltration_51_25/green/diagrams.npy\n",
      "Applying Scaler to persistence diagrams.\n",
      "Got the result from ./1/train/filtrations/6/RadialFiltration_51_25/blue/diagrams.npy\n",
      "Applying Scaler to persistence diagrams.\n",
      "Applying filtration 71/72: 6/RadialFiltration_51_38\n",
      "RGB images received. Transforming to grayscale.\n"
     ]
    },
    {
     "name": "stderr",
     "output_type": "stream",
     "text": [
      "rgb2gray: 100%|██████████| 9030/9030 [00:02<00:00, 3601.18it/s]\n"
     ]
    },
    {
     "name": "stdout",
     "output_type": "stream",
     "text": [
      "Got the result from ./1/train/filtrations/6/RadialFiltration_51_38/gray/diagrams.npy\n",
      "Applying Scaler to persistence diagrams.\n",
      "Got the result from ./1/train/filtrations/6/RadialFiltration_51_38/red/diagrams.npy\n",
      "Applying Scaler to persistence diagrams.\n",
      "Got the result from ./1/train/filtrations/6/RadialFiltration_51_38/green/diagrams.npy\n",
      "Applying Scaler to persistence diagrams.\n",
      "Got the result from ./1/train/filtrations/6/RadialFiltration_51_38/blue/diagrams.npy\n",
      "Applying Scaler to persistence diagrams.\n",
      "Applying filtration 72/72: 6/RadialFiltration_51_51\n",
      "RGB images received. Transforming to grayscale.\n"
     ]
    },
    {
     "name": "stderr",
     "output_type": "stream",
     "text": [
      "rgb2gray: 100%|██████████| 9030/9030 [00:02<00:00, 4206.83it/s]\n"
     ]
    },
    {
     "name": "stdout",
     "output_type": "stream",
     "text": [
      "Got the result from ./1/train/filtrations/6/RadialFiltration_51_51/gray/diagrams.npy\n",
      "Applying Scaler to persistence diagrams.\n",
      "Got the result from ./1/train/filtrations/6/RadialFiltration_51_51/red/diagrams.npy\n",
      "Applying Scaler to persistence diagrams.\n",
      "Got the result from ./1/train/filtrations/6/RadialFiltration_51_51/green/diagrams.npy\n",
      "Applying Scaler to persistence diagrams.\n",
      "Got the result from ./1/train/filtrations/6/RadialFiltration_51_51/blue/diagrams.npy\n",
      "Applying Scaler to persistence diagrams.\n",
      "Diagrams requested. Returning diagrams.\n",
      "Calculating inverted images\n",
      "RGB images received. Transforming to grayscale.\n"
     ]
    },
    {
     "name": "stderr",
     "output_type": "stream",
     "text": [
      "rgb2gray: 100%|██████████| 9030/9030 [00:01<00:00, 5240.85it/s]\n"
     ]
    },
    {
     "name": "stdout",
     "output_type": "stream",
     "text": [
      "Got the result from ./1/train/greyscale/gray/diagrams.npy\n",
      "Applying Scaler to persistence diagrams.\n",
      "Got the result from ./1/train/greyscale/red/diagrams.npy\n",
      "Applying Scaler to persistence diagrams.\n",
      "Got the result from ./1/train/greyscale/green/diagrams.npy\n",
      "Applying Scaler to persistence diagrams.\n",
      "Got the result from ./1/train/greyscale/blue/diagrams.npy\n",
      "Applying Scaler to persistence diagrams.\n",
      "RGB images received. Transforming to grayscale.\n"
     ]
    },
    {
     "name": "stderr",
     "output_type": "stream",
     "text": [
      "rgb2gray: 100%|██████████| 9030/9030 [00:01<00:00, 5266.81it/s]\n"
     ]
    },
    {
     "name": "stdout",
     "output_type": "stream",
     "text": [
      "Got the result from ./1/train/inverted_greyscale/gray/diagrams.npy\n",
      "Applying Scaler to persistence diagrams.\n",
      "Got the result from ./1/train/inverted_greyscale/red/diagrams.npy\n",
      "Applying Scaler to persistence diagrams.\n",
      "Got the result from ./1/train/inverted_greyscale/green/diagrams.npy\n",
      "Applying Scaler to persistence diagrams.\n",
      "Got the result from ./1/train/inverted_greyscale/blue/diagrams.npy\n",
      "Applying Scaler to persistence diagrams.\n",
      "Applying filtrations\n",
      "Applying filtration 1/72: 2/HeightFiltrartion_-1_-1\n",
      "RGB images received. Transforming to grayscale.\n"
     ]
    },
    {
     "name": "stderr",
     "output_type": "stream",
     "text": [
      "rgb2gray: 100%|██████████| 9030/9030 [00:01<00:00, 5155.56it/s]\n"
     ]
    },
    {
     "name": "stdout",
     "output_type": "stream",
     "text": [
      "Got the result from ./1/train/filtrations/2/HeightFiltrartion_-1_-1/gray/diagrams.npy\n",
      "Applying Scaler to persistence diagrams.\n",
      "Got the result from ./1/train/filtrations/2/HeightFiltrartion_-1_-1/red/diagrams.npy\n",
      "Applying Scaler to persistence diagrams.\n",
      "Got the result from ./1/train/filtrations/2/HeightFiltrartion_-1_-1/green/diagrams.npy\n",
      "Applying Scaler to persistence diagrams.\n",
      "Got the result from ./1/train/filtrations/2/HeightFiltrartion_-1_-1/blue/diagrams.npy\n",
      "Applying Scaler to persistence diagrams.\n",
      "Applying filtration 2/72: 2/HeightFiltrartion_1_1\n",
      "RGB images received. Transforming to grayscale.\n"
     ]
    },
    {
     "name": "stderr",
     "output_type": "stream",
     "text": [
      "rgb2gray: 100%|██████████| 9030/9030 [00:01<00:00, 5225.70it/s]\n"
     ]
    },
    {
     "name": "stdout",
     "output_type": "stream",
     "text": [
      "Got the result from ./1/train/filtrations/2/HeightFiltrartion_1_1/gray/diagrams.npy\n",
      "Applying Scaler to persistence diagrams.\n",
      "Got the result from ./1/train/filtrations/2/HeightFiltrartion_1_1/red/diagrams.npy\n",
      "Applying Scaler to persistence diagrams.\n",
      "Got the result from ./1/train/filtrations/2/HeightFiltrartion_1_1/green/diagrams.npy\n",
      "Applying Scaler to persistence diagrams.\n",
      "Got the result from ./1/train/filtrations/2/HeightFiltrartion_1_1/blue/diagrams.npy\n",
      "Applying Scaler to persistence diagrams.\n",
      "Applying filtration 3/72: 2/HeightFiltrartion_1_-1\n",
      "RGB images received. Transforming to grayscale.\n"
     ]
    },
    {
     "name": "stderr",
     "output_type": "stream",
     "text": [
      "rgb2gray: 100%|██████████| 9030/9030 [00:01<00:00, 4828.88it/s]\n"
     ]
    },
    {
     "name": "stdout",
     "output_type": "stream",
     "text": [
      "Got the result from ./1/train/filtrations/2/HeightFiltrartion_1_-1/gray/diagrams.npy\n",
      "Applying Scaler to persistence diagrams.\n",
      "Got the result from ./1/train/filtrations/2/HeightFiltrartion_1_-1/red/diagrams.npy\n",
      "Applying Scaler to persistence diagrams.\n",
      "Got the result from ./1/train/filtrations/2/HeightFiltrartion_1_-1/green/diagrams.npy\n",
      "Applying Scaler to persistence diagrams.\n",
      "Got the result from ./1/train/filtrations/2/HeightFiltrartion_1_-1/blue/diagrams.npy\n",
      "Applying Scaler to persistence diagrams.\n",
      "Applying filtration 4/72: 2/HeightFiltrartion_-1_1\n",
      "RGB images received. Transforming to grayscale.\n"
     ]
    },
    {
     "name": "stderr",
     "output_type": "stream",
     "text": [
      "rgb2gray: 100%|██████████| 9030/9030 [00:01<00:00, 5333.72it/s] \n"
     ]
    },
    {
     "name": "stdout",
     "output_type": "stream",
     "text": [
      "Got the result from ./1/train/filtrations/2/HeightFiltrartion_-1_1/gray/diagrams.npy\n",
      "Applying Scaler to persistence diagrams.\n",
      "Got the result from ./1/train/filtrations/2/HeightFiltrartion_-1_1/red/diagrams.npy\n",
      "Applying Scaler to persistence diagrams.\n",
      "Got the result from ./1/train/filtrations/2/HeightFiltrartion_-1_1/green/diagrams.npy\n",
      "Applying Scaler to persistence diagrams.\n",
      "Got the result from ./1/train/filtrations/2/HeightFiltrartion_-1_1/blue/diagrams.npy\n",
      "Applying Scaler to persistence diagrams.\n",
      "Applying filtration 5/72: 2/HeightFiltrartion_0_-1\n",
      "RGB images received. Transforming to grayscale.\n"
     ]
    },
    {
     "name": "stderr",
     "output_type": "stream",
     "text": [
      "rgb2gray: 100%|██████████| 9030/9030 [00:01<00:00, 5314.89it/s]\n"
     ]
    },
    {
     "name": "stdout",
     "output_type": "stream",
     "text": [
      "Got the result from ./1/train/filtrations/2/HeightFiltrartion_0_-1/gray/diagrams.npy\n",
      "Applying Scaler to persistence diagrams.\n",
      "Got the result from ./1/train/filtrations/2/HeightFiltrartion_0_-1/red/diagrams.npy\n",
      "Applying Scaler to persistence diagrams.\n",
      "Got the result from ./1/train/filtrations/2/HeightFiltrartion_0_-1/green/diagrams.npy\n",
      "Applying Scaler to persistence diagrams.\n",
      "Got the result from ./1/train/filtrations/2/HeightFiltrartion_0_-1/blue/diagrams.npy\n",
      "Applying Scaler to persistence diagrams.\n",
      "Applying filtration 6/72: 2/HeightFiltrartion_0_1\n",
      "RGB images received. Transforming to grayscale.\n"
     ]
    },
    {
     "name": "stderr",
     "output_type": "stream",
     "text": [
      "rgb2gray: 100%|██████████| 9030/9030 [00:01<00:00, 5044.70it/s]\n"
     ]
    },
    {
     "name": "stdout",
     "output_type": "stream",
     "text": [
      "Got the result from ./1/train/filtrations/2/HeightFiltrartion_0_1/gray/diagrams.npy\n",
      "Applying Scaler to persistence diagrams.\n",
      "Got the result from ./1/train/filtrations/2/HeightFiltrartion_0_1/red/diagrams.npy\n",
      "Applying Scaler to persistence diagrams.\n",
      "Got the result from ./1/train/filtrations/2/HeightFiltrartion_0_1/green/diagrams.npy\n",
      "Applying Scaler to persistence diagrams.\n",
      "Got the result from ./1/train/filtrations/2/HeightFiltrartion_0_1/blue/diagrams.npy\n",
      "Applying Scaler to persistence diagrams.\n",
      "Applying filtration 7/72: 2/HeightFiltrartion_-1_0\n",
      "RGB images received. Transforming to grayscale.\n"
     ]
    },
    {
     "name": "stderr",
     "output_type": "stream",
     "text": [
      "rgb2gray: 100%|██████████| 9030/9030 [00:01<00:00, 5182.74it/s]\n"
     ]
    },
    {
     "name": "stdout",
     "output_type": "stream",
     "text": [
      "Got the result from ./1/train/filtrations/2/HeightFiltrartion_-1_0/gray/diagrams.npy\n",
      "Applying Scaler to persistence diagrams.\n",
      "Got the result from ./1/train/filtrations/2/HeightFiltrartion_-1_0/red/diagrams.npy\n",
      "Applying Scaler to persistence diagrams.\n",
      "Got the result from ./1/train/filtrations/2/HeightFiltrartion_-1_0/green/diagrams.npy\n",
      "Applying Scaler to persistence diagrams.\n",
      "Got the result from ./1/train/filtrations/2/HeightFiltrartion_-1_0/blue/diagrams.npy\n",
      "Applying Scaler to persistence diagrams.\n",
      "Applying filtration 8/72: 2/HeightFiltrartion_1_0\n",
      "RGB images received. Transforming to grayscale.\n"
     ]
    },
    {
     "name": "stderr",
     "output_type": "stream",
     "text": [
      "rgb2gray: 100%|██████████| 9030/9030 [00:01<00:00, 5227.54it/s]\n"
     ]
    },
    {
     "name": "stdout",
     "output_type": "stream",
     "text": [
      "Got the result from ./1/train/filtrations/2/HeightFiltrartion_1_0/gray/diagrams.npy\n",
      "Applying Scaler to persistence diagrams.\n",
      "Got the result from ./1/train/filtrations/2/HeightFiltrartion_1_0/red/diagrams.npy\n",
      "Applying Scaler to persistence diagrams.\n",
      "Got the result from ./1/train/filtrations/2/HeightFiltrartion_1_0/green/diagrams.npy\n",
      "Applying Scaler to persistence diagrams.\n",
      "Got the result from ./1/train/filtrations/2/HeightFiltrartion_1_0/blue/diagrams.npy\n",
      "Applying Scaler to persistence diagrams.\n",
      "Applying filtration 9/72: 2/RadialFiltration_12_12\n",
      "RGB images received. Transforming to grayscale.\n"
     ]
    },
    {
     "name": "stderr",
     "output_type": "stream",
     "text": [
      "rgb2gray: 100%|██████████| 9030/9030 [00:01<00:00, 5423.19it/s]\n"
     ]
    },
    {
     "name": "stdout",
     "output_type": "stream",
     "text": [
      "Got the result from ./1/train/filtrations/2/RadialFiltration_12_12/gray/diagrams.npy\n",
      "Applying Scaler to persistence diagrams.\n",
      "Got the result from ./1/train/filtrations/2/RadialFiltration_12_12/red/diagrams.npy\n",
      "Applying Scaler to persistence diagrams.\n",
      "Got the result from ./1/train/filtrations/2/RadialFiltration_12_12/green/diagrams.npy\n",
      "Applying Scaler to persistence diagrams.\n",
      "Got the result from ./1/train/filtrations/2/RadialFiltration_12_12/blue/diagrams.npy\n",
      "Applying Scaler to persistence diagrams.\n",
      "Applying filtration 10/72: 2/RadialFiltration_12_25\n",
      "RGB images received. Transforming to grayscale.\n"
     ]
    },
    {
     "name": "stderr",
     "output_type": "stream",
     "text": [
      "rgb2gray: 100%|██████████| 9030/9030 [00:01<00:00, 5293.76it/s]\n"
     ]
    },
    {
     "name": "stdout",
     "output_type": "stream",
     "text": [
      "Got the result from ./1/train/filtrations/2/RadialFiltration_12_25/gray/diagrams.npy\n",
      "Applying Scaler to persistence diagrams.\n",
      "Got the result from ./1/train/filtrations/2/RadialFiltration_12_25/red/diagrams.npy\n",
      "Applying Scaler to persistence diagrams.\n",
      "Got the result from ./1/train/filtrations/2/RadialFiltration_12_25/green/diagrams.npy\n",
      "Applying Scaler to persistence diagrams.\n",
      "Got the result from ./1/train/filtrations/2/RadialFiltration_12_25/blue/diagrams.npy\n",
      "Applying Scaler to persistence diagrams.\n",
      "Applying filtration 11/72: 2/RadialFiltration_12_38\n",
      "RGB images received. Transforming to grayscale.\n"
     ]
    },
    {
     "name": "stderr",
     "output_type": "stream",
     "text": [
      "rgb2gray: 100%|██████████| 9030/9030 [00:01<00:00, 5194.11it/s]\n"
     ]
    },
    {
     "name": "stdout",
     "output_type": "stream",
     "text": [
      "Got the result from ./1/train/filtrations/2/RadialFiltration_12_38/gray/diagrams.npy\n",
      "Applying Scaler to persistence diagrams.\n",
      "Got the result from ./1/train/filtrations/2/RadialFiltration_12_38/red/diagrams.npy\n",
      "Applying Scaler to persistence diagrams.\n",
      "Got the result from ./1/train/filtrations/2/RadialFiltration_12_38/green/diagrams.npy\n",
      "Applying Scaler to persistence diagrams.\n",
      "Got the result from ./1/train/filtrations/2/RadialFiltration_12_38/blue/diagrams.npy\n",
      "Applying Scaler to persistence diagrams.\n",
      "Applying filtration 12/72: 2/RadialFiltration_12_51\n",
      "RGB images received. Transforming to grayscale.\n"
     ]
    },
    {
     "name": "stderr",
     "output_type": "stream",
     "text": [
      "rgb2gray: 100%|██████████| 9030/9030 [00:01<00:00, 4995.83it/s]\n"
     ]
    },
    {
     "name": "stdout",
     "output_type": "stream",
     "text": [
      "Got the result from ./1/train/filtrations/2/RadialFiltration_12_51/gray/diagrams.npy\n",
      "Applying Scaler to persistence diagrams.\n",
      "Got the result from ./1/train/filtrations/2/RadialFiltration_12_51/red/diagrams.npy\n",
      "Applying Scaler to persistence diagrams.\n",
      "Got the result from ./1/train/filtrations/2/RadialFiltration_12_51/green/diagrams.npy\n",
      "Applying Scaler to persistence diagrams.\n",
      "Got the result from ./1/train/filtrations/2/RadialFiltration_12_51/blue/diagrams.npy\n",
      "Applying Scaler to persistence diagrams.\n",
      "Applying filtration 13/72: 2/RadialFiltration_25_12\n",
      "RGB images received. Transforming to grayscale.\n"
     ]
    },
    {
     "name": "stderr",
     "output_type": "stream",
     "text": [
      "rgb2gray: 100%|██████████| 9030/9030 [00:01<00:00, 5071.58it/s] \n"
     ]
    },
    {
     "name": "stdout",
     "output_type": "stream",
     "text": [
      "Got the result from ./1/train/filtrations/2/RadialFiltration_25_12/gray/diagrams.npy\n",
      "Applying Scaler to persistence diagrams.\n",
      "Got the result from ./1/train/filtrations/2/RadialFiltration_25_12/red/diagrams.npy\n",
      "Applying Scaler to persistence diagrams.\n",
      "Got the result from ./1/train/filtrations/2/RadialFiltration_25_12/green/diagrams.npy\n",
      "Applying Scaler to persistence diagrams.\n",
      "Got the result from ./1/train/filtrations/2/RadialFiltration_25_12/blue/diagrams.npy\n",
      "Applying Scaler to persistence diagrams.\n",
      "Applying filtration 14/72: 2/RadialFiltration_25_25\n",
      "RGB images received. Transforming to grayscale.\n"
     ]
    },
    {
     "name": "stderr",
     "output_type": "stream",
     "text": [
      "rgb2gray: 100%|██████████| 9030/9030 [00:01<00:00, 5269.90it/s]\n"
     ]
    },
    {
     "name": "stdout",
     "output_type": "stream",
     "text": [
      "Got the result from ./1/train/filtrations/2/RadialFiltration_25_25/gray/diagrams.npy\n",
      "Applying Scaler to persistence diagrams.\n",
      "Got the result from ./1/train/filtrations/2/RadialFiltration_25_25/red/diagrams.npy\n",
      "Applying Scaler to persistence diagrams.\n",
      "Got the result from ./1/train/filtrations/2/RadialFiltration_25_25/green/diagrams.npy\n",
      "Applying Scaler to persistence diagrams.\n",
      "Got the result from ./1/train/filtrations/2/RadialFiltration_25_25/blue/diagrams.npy\n",
      "Applying Scaler to persistence diagrams.\n",
      "Applying filtration 15/72: 2/RadialFiltration_25_38\n",
      "RGB images received. Transforming to grayscale.\n"
     ]
    },
    {
     "name": "stderr",
     "output_type": "stream",
     "text": [
      "rgb2gray: 100%|██████████| 9030/9030 [00:01<00:00, 4916.89it/s]\n"
     ]
    },
    {
     "name": "stdout",
     "output_type": "stream",
     "text": [
      "Got the result from ./1/train/filtrations/2/RadialFiltration_25_38/gray/diagrams.npy\n",
      "Applying Scaler to persistence diagrams.\n",
      "Got the result from ./1/train/filtrations/2/RadialFiltration_25_38/red/diagrams.npy\n",
      "Applying Scaler to persistence diagrams.\n",
      "Got the result from ./1/train/filtrations/2/RadialFiltration_25_38/green/diagrams.npy\n",
      "Applying Scaler to persistence diagrams.\n",
      "Got the result from ./1/train/filtrations/2/RadialFiltration_25_38/blue/diagrams.npy\n",
      "Applying Scaler to persistence diagrams.\n",
      "Applying filtration 16/72: 2/RadialFiltration_25_51\n",
      "RGB images received. Transforming to grayscale.\n"
     ]
    },
    {
     "name": "stderr",
     "output_type": "stream",
     "text": [
      "rgb2gray: 100%|██████████| 9030/9030 [00:01<00:00, 5095.94it/s]\n"
     ]
    },
    {
     "name": "stdout",
     "output_type": "stream",
     "text": [
      "Got the result from ./1/train/filtrations/2/RadialFiltration_25_51/gray/diagrams.npy\n",
      "Applying Scaler to persistence diagrams.\n",
      "Got the result from ./1/train/filtrations/2/RadialFiltration_25_51/red/diagrams.npy\n",
      "Applying Scaler to persistence diagrams.\n",
      "Got the result from ./1/train/filtrations/2/RadialFiltration_25_51/green/diagrams.npy\n",
      "Applying Scaler to persistence diagrams.\n",
      "Got the result from ./1/train/filtrations/2/RadialFiltration_25_51/blue/diagrams.npy\n",
      "Applying Scaler to persistence diagrams.\n",
      "Applying filtration 17/72: 2/RadialFiltration_38_12\n",
      "RGB images received. Transforming to grayscale.\n"
     ]
    },
    {
     "name": "stderr",
     "output_type": "stream",
     "text": [
      "rgb2gray: 100%|██████████| 9030/9030 [00:01<00:00, 5171.81it/s]\n"
     ]
    },
    {
     "name": "stdout",
     "output_type": "stream",
     "text": [
      "Got the result from ./1/train/filtrations/2/RadialFiltration_38_12/gray/diagrams.npy\n",
      "Applying Scaler to persistence diagrams.\n",
      "Got the result from ./1/train/filtrations/2/RadialFiltration_38_12/red/diagrams.npy\n",
      "Applying Scaler to persistence diagrams.\n",
      "Got the result from ./1/train/filtrations/2/RadialFiltration_38_12/green/diagrams.npy\n",
      "Applying Scaler to persistence diagrams.\n",
      "Got the result from ./1/train/filtrations/2/RadialFiltration_38_12/blue/diagrams.npy\n",
      "Applying Scaler to persistence diagrams.\n",
      "Applying filtration 18/72: 2/RadialFiltration_38_25\n",
      "RGB images received. Transforming to grayscale.\n"
     ]
    },
    {
     "name": "stderr",
     "output_type": "stream",
     "text": [
      "rgb2gray: 100%|██████████| 9030/9030 [00:02<00:00, 3863.64it/s]\n"
     ]
    },
    {
     "name": "stdout",
     "output_type": "stream",
     "text": [
      "Got the result from ./1/train/filtrations/2/RadialFiltration_38_25/gray/diagrams.npy\n",
      "Applying Scaler to persistence diagrams.\n",
      "Got the result from ./1/train/filtrations/2/RadialFiltration_38_25/red/diagrams.npy\n",
      "Applying Scaler to persistence diagrams.\n",
      "Got the result from ./1/train/filtrations/2/RadialFiltration_38_25/green/diagrams.npy\n",
      "Applying Scaler to persistence diagrams.\n",
      "Got the result from ./1/train/filtrations/2/RadialFiltration_38_25/blue/diagrams.npy\n",
      "Applying Scaler to persistence diagrams.\n",
      "Applying filtration 19/72: 2/RadialFiltration_38_38\n",
      "RGB images received. Transforming to grayscale.\n"
     ]
    },
    {
     "name": "stderr",
     "output_type": "stream",
     "text": [
      "rgb2gray: 100%|██████████| 9030/9030 [00:01<00:00, 5225.43it/s]\n"
     ]
    },
    {
     "name": "stdout",
     "output_type": "stream",
     "text": [
      "Got the result from ./1/train/filtrations/2/RadialFiltration_38_38/gray/diagrams.npy\n",
      "Applying Scaler to persistence diagrams.\n",
      "Got the result from ./1/train/filtrations/2/RadialFiltration_38_38/red/diagrams.npy\n",
      "Applying Scaler to persistence diagrams.\n",
      "Got the result from ./1/train/filtrations/2/RadialFiltration_38_38/green/diagrams.npy\n",
      "Applying Scaler to persistence diagrams.\n",
      "Got the result from ./1/train/filtrations/2/RadialFiltration_38_38/blue/diagrams.npy\n",
      "Applying Scaler to persistence diagrams.\n",
      "Applying filtration 20/72: 2/RadialFiltration_38_51\n",
      "RGB images received. Transforming to grayscale.\n"
     ]
    },
    {
     "name": "stderr",
     "output_type": "stream",
     "text": [
      "rgb2gray: 100%|██████████| 9030/9030 [00:01<00:00, 5282.22it/s]\n"
     ]
    },
    {
     "name": "stdout",
     "output_type": "stream",
     "text": [
      "Got the result from ./1/train/filtrations/2/RadialFiltration_38_51/gray/diagrams.npy\n",
      "Applying Scaler to persistence diagrams.\n",
      "Got the result from ./1/train/filtrations/2/RadialFiltration_38_51/red/diagrams.npy\n",
      "Applying Scaler to persistence diagrams.\n",
      "Got the result from ./1/train/filtrations/2/RadialFiltration_38_51/green/diagrams.npy\n",
      "Applying Scaler to persistence diagrams.\n",
      "Got the result from ./1/train/filtrations/2/RadialFiltration_38_51/blue/diagrams.npy\n",
      "Applying Scaler to persistence diagrams.\n",
      "Applying filtration 21/72: 2/RadialFiltration_51_12\n",
      "RGB images received. Transforming to grayscale.\n"
     ]
    },
    {
     "name": "stderr",
     "output_type": "stream",
     "text": [
      "rgb2gray: 100%|██████████| 9030/9030 [00:01<00:00, 4840.23it/s]\n"
     ]
    },
    {
     "name": "stdout",
     "output_type": "stream",
     "text": [
      "Got the result from ./1/train/filtrations/2/RadialFiltration_51_12/gray/diagrams.npy\n",
      "Applying Scaler to persistence diagrams.\n",
      "Got the result from ./1/train/filtrations/2/RadialFiltration_51_12/red/diagrams.npy\n",
      "Applying Scaler to persistence diagrams.\n",
      "Got the result from ./1/train/filtrations/2/RadialFiltration_51_12/green/diagrams.npy\n",
      "Applying Scaler to persistence diagrams.\n",
      "Got the result from ./1/train/filtrations/2/RadialFiltration_51_12/blue/diagrams.npy\n",
      "Applying Scaler to persistence diagrams.\n",
      "Applying filtration 22/72: 2/RadialFiltration_51_25\n",
      "RGB images received. Transforming to grayscale.\n"
     ]
    },
    {
     "name": "stderr",
     "output_type": "stream",
     "text": [
      "rgb2gray: 100%|██████████| 9030/9030 [00:01<00:00, 4677.52it/s]\n"
     ]
    },
    {
     "name": "stdout",
     "output_type": "stream",
     "text": [
      "Got the result from ./1/train/filtrations/2/RadialFiltration_51_25/gray/diagrams.npy\n",
      "Applying Scaler to persistence diagrams.\n",
      "Got the result from ./1/train/filtrations/2/RadialFiltration_51_25/red/diagrams.npy\n",
      "Applying Scaler to persistence diagrams.\n",
      "Got the result from ./1/train/filtrations/2/RadialFiltration_51_25/green/diagrams.npy\n",
      "Applying Scaler to persistence diagrams.\n",
      "Got the result from ./1/train/filtrations/2/RadialFiltration_51_25/blue/diagrams.npy\n",
      "Applying Scaler to persistence diagrams.\n",
      "Applying filtration 23/72: 2/RadialFiltration_51_38\n",
      "RGB images received. Transforming to grayscale.\n"
     ]
    },
    {
     "name": "stderr",
     "output_type": "stream",
     "text": [
      "rgb2gray: 100%|██████████| 9030/9030 [00:02<00:00, 4351.81it/s]\n"
     ]
    },
    {
     "name": "stdout",
     "output_type": "stream",
     "text": [
      "Got the result from ./1/train/filtrations/2/RadialFiltration_51_38/gray/diagrams.npy\n",
      "Applying Scaler to persistence diagrams.\n",
      "Got the result from ./1/train/filtrations/2/RadialFiltration_51_38/red/diagrams.npy\n",
      "Applying Scaler to persistence diagrams.\n",
      "Got the result from ./1/train/filtrations/2/RadialFiltration_51_38/green/diagrams.npy\n",
      "Applying Scaler to persistence diagrams.\n",
      "Got the result from ./1/train/filtrations/2/RadialFiltration_51_38/blue/diagrams.npy\n",
      "Applying Scaler to persistence diagrams.\n",
      "Applying filtration 24/72: 2/RadialFiltration_51_51\n",
      "RGB images received. Transforming to grayscale.\n"
     ]
    },
    {
     "name": "stderr",
     "output_type": "stream",
     "text": [
      "rgb2gray: 100%|██████████| 9030/9030 [00:01<00:00, 4570.97it/s]\n"
     ]
    },
    {
     "name": "stdout",
     "output_type": "stream",
     "text": [
      "Got the result from ./1/train/filtrations/2/RadialFiltration_51_51/gray/diagrams.npy\n",
      "Applying Scaler to persistence diagrams.\n",
      "Got the result from ./1/train/filtrations/2/RadialFiltration_51_51/red/diagrams.npy\n",
      "Applying Scaler to persistence diagrams.\n",
      "Got the result from ./1/train/filtrations/2/RadialFiltration_51_51/green/diagrams.npy\n",
      "Applying Scaler to persistence diagrams.\n",
      "Got the result from ./1/train/filtrations/2/RadialFiltration_51_51/blue/diagrams.npy\n",
      "Applying Scaler to persistence diagrams.\n",
      "Applying filtration 25/72: 4/HeightFiltrartion_-1_-1\n",
      "RGB images received. Transforming to grayscale.\n"
     ]
    },
    {
     "name": "stderr",
     "output_type": "stream",
     "text": [
      "rgb2gray: 100%|██████████| 9030/9030 [00:02<00:00, 4495.88it/s]\n"
     ]
    },
    {
     "name": "stdout",
     "output_type": "stream",
     "text": [
      "Got the result from ./1/train/filtrations/4/HeightFiltrartion_-1_-1/gray/diagrams.npy\n",
      "Applying Scaler to persistence diagrams.\n",
      "Got the result from ./1/train/filtrations/4/HeightFiltrartion_-1_-1/red/diagrams.npy\n",
      "Applying Scaler to persistence diagrams.\n",
      "Got the result from ./1/train/filtrations/4/HeightFiltrartion_-1_-1/green/diagrams.npy\n",
      "Applying Scaler to persistence diagrams.\n",
      "Got the result from ./1/train/filtrations/4/HeightFiltrartion_-1_-1/blue/diagrams.npy\n",
      "Applying Scaler to persistence diagrams.\n",
      "Applying filtration 26/72: 4/HeightFiltrartion_1_1\n",
      "RGB images received. Transforming to grayscale.\n"
     ]
    },
    {
     "name": "stderr",
     "output_type": "stream",
     "text": [
      "rgb2gray: 100%|██████████| 9030/9030 [00:01<00:00, 4616.57it/s]\n"
     ]
    },
    {
     "name": "stdout",
     "output_type": "stream",
     "text": [
      "Got the result from ./1/train/filtrations/4/HeightFiltrartion_1_1/gray/diagrams.npy\n",
      "Applying Scaler to persistence diagrams.\n",
      "Got the result from ./1/train/filtrations/4/HeightFiltrartion_1_1/red/diagrams.npy\n",
      "Applying Scaler to persistence diagrams.\n",
      "Got the result from ./1/train/filtrations/4/HeightFiltrartion_1_1/green/diagrams.npy\n",
      "Applying Scaler to persistence diagrams.\n",
      "Got the result from ./1/train/filtrations/4/HeightFiltrartion_1_1/blue/diagrams.npy\n",
      "Applying Scaler to persistence diagrams.\n",
      "Applying filtration 27/72: 4/HeightFiltrartion_1_-1\n",
      "RGB images received. Transforming to grayscale.\n"
     ]
    },
    {
     "name": "stderr",
     "output_type": "stream",
     "text": [
      "rgb2gray: 100%|██████████| 9030/9030 [00:01<00:00, 4665.43it/s]\n"
     ]
    },
    {
     "name": "stdout",
     "output_type": "stream",
     "text": [
      "Got the result from ./1/train/filtrations/4/HeightFiltrartion_1_-1/gray/diagrams.npy\n",
      "Applying Scaler to persistence diagrams.\n",
      "Got the result from ./1/train/filtrations/4/HeightFiltrartion_1_-1/red/diagrams.npy\n",
      "Applying Scaler to persistence diagrams.\n",
      "Got the result from ./1/train/filtrations/4/HeightFiltrartion_1_-1/green/diagrams.npy\n",
      "Applying Scaler to persistence diagrams.\n",
      "Got the result from ./1/train/filtrations/4/HeightFiltrartion_1_-1/blue/diagrams.npy\n",
      "Applying Scaler to persistence diagrams.\n",
      "Applying filtration 28/72: 4/HeightFiltrartion_-1_1\n",
      "RGB images received. Transforming to grayscale.\n"
     ]
    },
    {
     "name": "stderr",
     "output_type": "stream",
     "text": [
      "rgb2gray: 100%|██████████| 9030/9030 [00:01<00:00, 4612.20it/s]\n"
     ]
    },
    {
     "name": "stdout",
     "output_type": "stream",
     "text": [
      "Got the result from ./1/train/filtrations/4/HeightFiltrartion_-1_1/gray/diagrams.npy\n",
      "Applying Scaler to persistence diagrams.\n",
      "Got the result from ./1/train/filtrations/4/HeightFiltrartion_-1_1/red/diagrams.npy\n",
      "Applying Scaler to persistence diagrams.\n",
      "Got the result from ./1/train/filtrations/4/HeightFiltrartion_-1_1/green/diagrams.npy\n",
      "Applying Scaler to persistence diagrams.\n",
      "Got the result from ./1/train/filtrations/4/HeightFiltrartion_-1_1/blue/diagrams.npy\n",
      "Applying Scaler to persistence diagrams.\n",
      "Applying filtration 29/72: 4/HeightFiltrartion_0_-1\n",
      "RGB images received. Transforming to grayscale.\n"
     ]
    },
    {
     "name": "stderr",
     "output_type": "stream",
     "text": [
      "rgb2gray: 100%|██████████| 9030/9030 [00:01<00:00, 4784.08it/s]\n"
     ]
    },
    {
     "name": "stdout",
     "output_type": "stream",
     "text": [
      "Got the result from ./1/train/filtrations/4/HeightFiltrartion_0_-1/gray/diagrams.npy\n",
      "Applying Scaler to persistence diagrams.\n",
      "Got the result from ./1/train/filtrations/4/HeightFiltrartion_0_-1/red/diagrams.npy\n",
      "Applying Scaler to persistence diagrams.\n",
      "Got the result from ./1/train/filtrations/4/HeightFiltrartion_0_-1/green/diagrams.npy\n",
      "Applying Scaler to persistence diagrams.\n",
      "Got the result from ./1/train/filtrations/4/HeightFiltrartion_0_-1/blue/diagrams.npy\n",
      "Applying Scaler to persistence diagrams.\n",
      "Applying filtration 30/72: 4/HeightFiltrartion_0_1\n",
      "RGB images received. Transforming to grayscale.\n"
     ]
    },
    {
     "name": "stderr",
     "output_type": "stream",
     "text": [
      "rgb2gray: 100%|██████████| 9030/9030 [00:01<00:00, 4649.85it/s]\n"
     ]
    },
    {
     "name": "stdout",
     "output_type": "stream",
     "text": [
      "Got the result from ./1/train/filtrations/4/HeightFiltrartion_0_1/gray/diagrams.npy\n",
      "Applying Scaler to persistence diagrams.\n",
      "Got the result from ./1/train/filtrations/4/HeightFiltrartion_0_1/red/diagrams.npy\n",
      "Applying Scaler to persistence diagrams.\n",
      "Got the result from ./1/train/filtrations/4/HeightFiltrartion_0_1/green/diagrams.npy\n",
      "Applying Scaler to persistence diagrams.\n",
      "Got the result from ./1/train/filtrations/4/HeightFiltrartion_0_1/blue/diagrams.npy\n",
      "Applying Scaler to persistence diagrams.\n",
      "Applying filtration 31/72: 4/HeightFiltrartion_-1_0\n",
      "RGB images received. Transforming to grayscale.\n"
     ]
    },
    {
     "name": "stderr",
     "output_type": "stream",
     "text": [
      "rgb2gray: 100%|██████████| 9030/9030 [00:02<00:00, 4500.41it/s]\n"
     ]
    },
    {
     "name": "stdout",
     "output_type": "stream",
     "text": [
      "Got the result from ./1/train/filtrations/4/HeightFiltrartion_-1_0/gray/diagrams.npy\n",
      "Applying Scaler to persistence diagrams.\n",
      "Got the result from ./1/train/filtrations/4/HeightFiltrartion_-1_0/red/diagrams.npy\n",
      "Applying Scaler to persistence diagrams.\n",
      "Got the result from ./1/train/filtrations/4/HeightFiltrartion_-1_0/green/diagrams.npy\n",
      "Applying Scaler to persistence diagrams.\n",
      "Got the result from ./1/train/filtrations/4/HeightFiltrartion_-1_0/blue/diagrams.npy\n",
      "Applying Scaler to persistence diagrams.\n",
      "Applying filtration 32/72: 4/HeightFiltrartion_1_0\n",
      "RGB images received. Transforming to grayscale.\n"
     ]
    },
    {
     "name": "stderr",
     "output_type": "stream",
     "text": [
      "rgb2gray: 100%|██████████| 9030/9030 [00:01<00:00, 4672.68it/s]\n"
     ]
    },
    {
     "name": "stdout",
     "output_type": "stream",
     "text": [
      "Got the result from ./1/train/filtrations/4/HeightFiltrartion_1_0/gray/diagrams.npy\n",
      "Applying Scaler to persistence diagrams.\n",
      "Got the result from ./1/train/filtrations/4/HeightFiltrartion_1_0/red/diagrams.npy\n",
      "Applying Scaler to persistence diagrams.\n",
      "Got the result from ./1/train/filtrations/4/HeightFiltrartion_1_0/green/diagrams.npy\n",
      "Applying Scaler to persistence diagrams.\n",
      "Got the result from ./1/train/filtrations/4/HeightFiltrartion_1_0/blue/diagrams.npy\n",
      "Applying Scaler to persistence diagrams.\n",
      "Applying filtration 33/72: 4/RadialFiltration_12_12\n",
      "RGB images received. Transforming to grayscale.\n"
     ]
    },
    {
     "name": "stderr",
     "output_type": "stream",
     "text": [
      "rgb2gray: 100%|██████████| 9030/9030 [00:01<00:00, 4658.23it/s]\n"
     ]
    },
    {
     "name": "stdout",
     "output_type": "stream",
     "text": [
      "Got the result from ./1/train/filtrations/4/RadialFiltration_12_12/gray/diagrams.npy\n",
      "Applying Scaler to persistence diagrams.\n",
      "Got the result from ./1/train/filtrations/4/RadialFiltration_12_12/red/diagrams.npy\n",
      "Applying Scaler to persistence diagrams.\n",
      "Got the result from ./1/train/filtrations/4/RadialFiltration_12_12/green/diagrams.npy\n",
      "Applying Scaler to persistence diagrams.\n",
      "Got the result from ./1/train/filtrations/4/RadialFiltration_12_12/blue/diagrams.npy\n",
      "Applying Scaler to persistence diagrams.\n",
      "Applying filtration 34/72: 4/RadialFiltration_12_25\n",
      "RGB images received. Transforming to grayscale.\n"
     ]
    },
    {
     "name": "stderr",
     "output_type": "stream",
     "text": [
      "rgb2gray: 100%|██████████| 9030/9030 [00:01<00:00, 4520.63it/s]\n"
     ]
    },
    {
     "name": "stdout",
     "output_type": "stream",
     "text": [
      "Got the result from ./1/train/filtrations/4/RadialFiltration_12_25/gray/diagrams.npy\n",
      "Applying Scaler to persistence diagrams.\n",
      "Got the result from ./1/train/filtrations/4/RadialFiltration_12_25/red/diagrams.npy\n",
      "Applying Scaler to persistence diagrams.\n",
      "Got the result from ./1/train/filtrations/4/RadialFiltration_12_25/green/diagrams.npy\n",
      "Applying Scaler to persistence diagrams.\n",
      "Got the result from ./1/train/filtrations/4/RadialFiltration_12_25/blue/diagrams.npy\n",
      "Applying Scaler to persistence diagrams.\n",
      "Applying filtration 35/72: 4/RadialFiltration_12_38\n",
      "RGB images received. Transforming to grayscale.\n"
     ]
    },
    {
     "name": "stderr",
     "output_type": "stream",
     "text": [
      "rgb2gray: 100%|██████████| 9030/9030 [00:02<00:00, 4466.43it/s]\n"
     ]
    },
    {
     "name": "stdout",
     "output_type": "stream",
     "text": [
      "Got the result from ./1/train/filtrations/4/RadialFiltration_12_38/gray/diagrams.npy\n",
      "Applying Scaler to persistence diagrams.\n",
      "Got the result from ./1/train/filtrations/4/RadialFiltration_12_38/red/diagrams.npy\n",
      "Applying Scaler to persistence diagrams.\n",
      "Got the result from ./1/train/filtrations/4/RadialFiltration_12_38/green/diagrams.npy\n",
      "Applying Scaler to persistence diagrams.\n",
      "Got the result from ./1/train/filtrations/4/RadialFiltration_12_38/blue/diagrams.npy\n",
      "Applying Scaler to persistence diagrams.\n",
      "Applying filtration 36/72: 4/RadialFiltration_12_51\n",
      "RGB images received. Transforming to grayscale.\n"
     ]
    },
    {
     "name": "stderr",
     "output_type": "stream",
     "text": [
      "rgb2gray: 100%|██████████| 9030/9030 [00:02<00:00, 4105.90it/s]\n"
     ]
    },
    {
     "name": "stdout",
     "output_type": "stream",
     "text": [
      "Got the result from ./1/train/filtrations/4/RadialFiltration_12_51/gray/diagrams.npy\n",
      "Applying Scaler to persistence diagrams.\n",
      "Got the result from ./1/train/filtrations/4/RadialFiltration_12_51/red/diagrams.npy\n",
      "Applying Scaler to persistence diagrams.\n",
      "Got the result from ./1/train/filtrations/4/RadialFiltration_12_51/green/diagrams.npy\n",
      "Applying Scaler to persistence diagrams.\n",
      "Got the result from ./1/train/filtrations/4/RadialFiltration_12_51/blue/diagrams.npy\n",
      "Applying Scaler to persistence diagrams.\n",
      "Applying filtration 37/72: 4/RadialFiltration_25_12\n",
      "RGB images received. Transforming to grayscale.\n"
     ]
    },
    {
     "name": "stderr",
     "output_type": "stream",
     "text": [
      "rgb2gray: 100%|██████████| 9030/9030 [00:02<00:00, 4330.12it/s]\n"
     ]
    },
    {
     "name": "stdout",
     "output_type": "stream",
     "text": [
      "Got the result from ./1/train/filtrations/4/RadialFiltration_25_12/gray/diagrams.npy\n",
      "Applying Scaler to persistence diagrams.\n",
      "Got the result from ./1/train/filtrations/4/RadialFiltration_25_12/red/diagrams.npy\n",
      "Applying Scaler to persistence diagrams.\n",
      "Got the result from ./1/train/filtrations/4/RadialFiltration_25_12/green/diagrams.npy\n",
      "Applying Scaler to persistence diagrams.\n",
      "Got the result from ./1/train/filtrations/4/RadialFiltration_25_12/blue/diagrams.npy\n",
      "Applying Scaler to persistence diagrams.\n",
      "Applying filtration 38/72: 4/RadialFiltration_25_25\n",
      "RGB images received. Transforming to grayscale.\n"
     ]
    },
    {
     "name": "stderr",
     "output_type": "stream",
     "text": [
      "rgb2gray: 100%|██████████| 9030/9030 [00:02<00:00, 4491.40it/s]\n"
     ]
    },
    {
     "name": "stdout",
     "output_type": "stream",
     "text": [
      "Got the result from ./1/train/filtrations/4/RadialFiltration_25_25/gray/diagrams.npy\n",
      "Applying Scaler to persistence diagrams.\n",
      "Got the result from ./1/train/filtrations/4/RadialFiltration_25_25/red/diagrams.npy\n",
      "Applying Scaler to persistence diagrams.\n",
      "Got the result from ./1/train/filtrations/4/RadialFiltration_25_25/green/diagrams.npy\n",
      "Applying Scaler to persistence diagrams.\n",
      "Got the result from ./1/train/filtrations/4/RadialFiltration_25_25/blue/diagrams.npy\n",
      "Applying Scaler to persistence diagrams.\n",
      "Applying filtration 39/72: 4/RadialFiltration_25_38\n",
      "RGB images received. Transforming to grayscale.\n"
     ]
    },
    {
     "name": "stderr",
     "output_type": "stream",
     "text": [
      "rgb2gray: 100%|██████████| 9030/9030 [00:01<00:00, 4604.03it/s]\n"
     ]
    },
    {
     "name": "stdout",
     "output_type": "stream",
     "text": [
      "Got the result from ./1/train/filtrations/4/RadialFiltration_25_38/gray/diagrams.npy\n",
      "Applying Scaler to persistence diagrams.\n",
      "Got the result from ./1/train/filtrations/4/RadialFiltration_25_38/red/diagrams.npy\n",
      "Applying Scaler to persistence diagrams.\n",
      "Got the result from ./1/train/filtrations/4/RadialFiltration_25_38/green/diagrams.npy\n",
      "Applying Scaler to persistence diagrams.\n",
      "Got the result from ./1/train/filtrations/4/RadialFiltration_25_38/blue/diagrams.npy\n",
      "Applying Scaler to persistence diagrams.\n",
      "Applying filtration 40/72: 4/RadialFiltration_25_51\n",
      "RGB images received. Transforming to grayscale.\n"
     ]
    },
    {
     "name": "stderr",
     "output_type": "stream",
     "text": [
      "rgb2gray: 100%|██████████| 9030/9030 [00:01<00:00, 4546.83it/s]\n"
     ]
    },
    {
     "name": "stdout",
     "output_type": "stream",
     "text": [
      "Got the result from ./1/train/filtrations/4/RadialFiltration_25_51/gray/diagrams.npy\n",
      "Applying Scaler to persistence diagrams.\n",
      "Got the result from ./1/train/filtrations/4/RadialFiltration_25_51/red/diagrams.npy\n",
      "Applying Scaler to persistence diagrams.\n",
      "Got the result from ./1/train/filtrations/4/RadialFiltration_25_51/green/diagrams.npy\n",
      "Applying Scaler to persistence diagrams.\n",
      "Got the result from ./1/train/filtrations/4/RadialFiltration_25_51/blue/diagrams.npy\n",
      "Applying Scaler to persistence diagrams.\n",
      "Applying filtration 41/72: 4/RadialFiltration_38_12\n",
      "RGB images received. Transforming to grayscale.\n"
     ]
    },
    {
     "name": "stderr",
     "output_type": "stream",
     "text": [
      "rgb2gray: 100%|██████████| 9030/9030 [00:02<00:00, 4418.87it/s]\n"
     ]
    },
    {
     "name": "stdout",
     "output_type": "stream",
     "text": [
      "Got the result from ./1/train/filtrations/4/RadialFiltration_38_12/gray/diagrams.npy\n",
      "Applying Scaler to persistence diagrams.\n",
      "Got the result from ./1/train/filtrations/4/RadialFiltration_38_12/red/diagrams.npy\n",
      "Applying Scaler to persistence diagrams.\n",
      "Got the result from ./1/train/filtrations/4/RadialFiltration_38_12/green/diagrams.npy\n",
      "Applying Scaler to persistence diagrams.\n",
      "Got the result from ./1/train/filtrations/4/RadialFiltration_38_12/blue/diagrams.npy\n",
      "Applying Scaler to persistence diagrams.\n",
      "Applying filtration 42/72: 4/RadialFiltration_38_25\n",
      "RGB images received. Transforming to grayscale.\n"
     ]
    },
    {
     "name": "stderr",
     "output_type": "stream",
     "text": [
      "rgb2gray: 100%|██████████| 9030/9030 [00:02<00:00, 4421.13it/s]\n"
     ]
    },
    {
     "name": "stdout",
     "output_type": "stream",
     "text": [
      "Got the result from ./1/train/filtrations/4/RadialFiltration_38_25/gray/diagrams.npy\n",
      "Applying Scaler to persistence diagrams.\n",
      "Got the result from ./1/train/filtrations/4/RadialFiltration_38_25/red/diagrams.npy\n",
      "Applying Scaler to persistence diagrams.\n",
      "Got the result from ./1/train/filtrations/4/RadialFiltration_38_25/green/diagrams.npy\n",
      "Applying Scaler to persistence diagrams.\n",
      "Got the result from ./1/train/filtrations/4/RadialFiltration_38_25/blue/diagrams.npy\n",
      "Applying Scaler to persistence diagrams.\n",
      "Applying filtration 43/72: 4/RadialFiltration_38_38\n",
      "RGB images received. Transforming to grayscale.\n"
     ]
    },
    {
     "name": "stderr",
     "output_type": "stream",
     "text": [
      "rgb2gray: 100%|██████████| 9030/9030 [00:02<00:00, 3999.98it/s]\n"
     ]
    },
    {
     "name": "stdout",
     "output_type": "stream",
     "text": [
      "Got the result from ./1/train/filtrations/4/RadialFiltration_38_38/gray/diagrams.npy\n",
      "Applying Scaler to persistence diagrams.\n",
      "Got the result from ./1/train/filtrations/4/RadialFiltration_38_38/red/diagrams.npy\n",
      "Applying Scaler to persistence diagrams.\n",
      "Got the result from ./1/train/filtrations/4/RadialFiltration_38_38/green/diagrams.npy\n",
      "Applying Scaler to persistence diagrams.\n",
      "Got the result from ./1/train/filtrations/4/RadialFiltration_38_38/blue/diagrams.npy\n",
      "Applying Scaler to persistence diagrams.\n",
      "Applying filtration 44/72: 4/RadialFiltration_38_51\n",
      "RGB images received. Transforming to grayscale.\n"
     ]
    },
    {
     "name": "stderr",
     "output_type": "stream",
     "text": [
      "rgb2gray: 100%|██████████| 9030/9030 [00:02<00:00, 4405.84it/s]\n"
     ]
    },
    {
     "name": "stdout",
     "output_type": "stream",
     "text": [
      "Got the result from ./1/train/filtrations/4/RadialFiltration_38_51/gray/diagrams.npy\n",
      "Applying Scaler to persistence diagrams.\n",
      "Got the result from ./1/train/filtrations/4/RadialFiltration_38_51/red/diagrams.npy\n",
      "Applying Scaler to persistence diagrams.\n",
      "Got the result from ./1/train/filtrations/4/RadialFiltration_38_51/green/diagrams.npy\n",
      "Applying Scaler to persistence diagrams.\n",
      "Got the result from ./1/train/filtrations/4/RadialFiltration_38_51/blue/diagrams.npy\n",
      "Applying Scaler to persistence diagrams.\n",
      "Applying filtration 45/72: 4/RadialFiltration_51_12\n",
      "RGB images received. Transforming to grayscale.\n"
     ]
    },
    {
     "name": "stderr",
     "output_type": "stream",
     "text": [
      "rgb2gray: 100%|██████████| 9030/9030 [00:02<00:00, 4370.26it/s]\n"
     ]
    },
    {
     "name": "stdout",
     "output_type": "stream",
     "text": [
      "Got the result from ./1/train/filtrations/4/RadialFiltration_51_12/gray/diagrams.npy\n",
      "Applying Scaler to persistence diagrams.\n",
      "Got the result from ./1/train/filtrations/4/RadialFiltration_51_12/red/diagrams.npy\n",
      "Applying Scaler to persistence diagrams.\n",
      "Got the result from ./1/train/filtrations/4/RadialFiltration_51_12/green/diagrams.npy\n",
      "Applying Scaler to persistence diagrams.\n",
      "Got the result from ./1/train/filtrations/4/RadialFiltration_51_12/blue/diagrams.npy\n",
      "Applying Scaler to persistence diagrams.\n",
      "Applying filtration 46/72: 4/RadialFiltration_51_25\n",
      "RGB images received. Transforming to grayscale.\n"
     ]
    },
    {
     "name": "stderr",
     "output_type": "stream",
     "text": [
      "rgb2gray: 100%|██████████| 9030/9030 [00:02<00:00, 4361.25it/s]\n"
     ]
    },
    {
     "name": "stdout",
     "output_type": "stream",
     "text": [
      "Got the result from ./1/train/filtrations/4/RadialFiltration_51_25/gray/diagrams.npy\n",
      "Applying Scaler to persistence diagrams.\n",
      "Got the result from ./1/train/filtrations/4/RadialFiltration_51_25/red/diagrams.npy\n",
      "Applying Scaler to persistence diagrams.\n",
      "Got the result from ./1/train/filtrations/4/RadialFiltration_51_25/green/diagrams.npy\n",
      "Applying Scaler to persistence diagrams.\n",
      "Got the result from ./1/train/filtrations/4/RadialFiltration_51_25/blue/diagrams.npy\n",
      "Applying Scaler to persistence diagrams.\n",
      "Applying filtration 47/72: 4/RadialFiltration_51_38\n",
      "RGB images received. Transforming to grayscale.\n"
     ]
    },
    {
     "name": "stderr",
     "output_type": "stream",
     "text": [
      "rgb2gray: 100%|██████████| 9030/9030 [00:02<00:00, 4470.30it/s]\n"
     ]
    },
    {
     "name": "stdout",
     "output_type": "stream",
     "text": [
      "Got the result from ./1/train/filtrations/4/RadialFiltration_51_38/gray/diagrams.npy\n",
      "Applying Scaler to persistence diagrams.\n",
      "Got the result from ./1/train/filtrations/4/RadialFiltration_51_38/red/diagrams.npy\n",
      "Applying Scaler to persistence diagrams.\n",
      "Got the result from ./1/train/filtrations/4/RadialFiltration_51_38/green/diagrams.npy\n",
      "Applying Scaler to persistence diagrams.\n",
      "Got the result from ./1/train/filtrations/4/RadialFiltration_51_38/blue/diagrams.npy\n",
      "Applying Scaler to persistence diagrams.\n",
      "Applying filtration 48/72: 4/RadialFiltration_51_51\n",
      "RGB images received. Transforming to grayscale.\n"
     ]
    },
    {
     "name": "stderr",
     "output_type": "stream",
     "text": [
      "rgb2gray: 100%|██████████| 9030/9030 [00:02<00:00, 4354.94it/s]\n"
     ]
    },
    {
     "name": "stdout",
     "output_type": "stream",
     "text": [
      "Got the result from ./1/train/filtrations/4/RadialFiltration_51_51/gray/diagrams.npy\n",
      "Applying Scaler to persistence diagrams.\n",
      "Got the result from ./1/train/filtrations/4/RadialFiltration_51_51/red/diagrams.npy\n",
      "Applying Scaler to persistence diagrams.\n",
      "Got the result from ./1/train/filtrations/4/RadialFiltration_51_51/green/diagrams.npy\n",
      "Applying Scaler to persistence diagrams.\n",
      "Got the result from ./1/train/filtrations/4/RadialFiltration_51_51/blue/diagrams.npy\n",
      "Applying Scaler to persistence diagrams.\n",
      "Applying filtration 49/72: 6/HeightFiltrartion_-1_-1\n",
      "RGB images received. Transforming to grayscale.\n"
     ]
    },
    {
     "name": "stderr",
     "output_type": "stream",
     "text": [
      "rgb2gray: 100%|██████████| 9030/9030 [00:02<00:00, 4432.14it/s]\n"
     ]
    },
    {
     "name": "stdout",
     "output_type": "stream",
     "text": [
      "Got the result from ./1/train/filtrations/6/HeightFiltrartion_-1_-1/gray/diagrams.npy\n",
      "Applying Scaler to persistence diagrams.\n",
      "Got the result from ./1/train/filtrations/6/HeightFiltrartion_-1_-1/red/diagrams.npy\n",
      "Applying Scaler to persistence diagrams.\n",
      "Got the result from ./1/train/filtrations/6/HeightFiltrartion_-1_-1/green/diagrams.npy\n",
      "Applying Scaler to persistence diagrams.\n",
      "Got the result from ./1/train/filtrations/6/HeightFiltrartion_-1_-1/blue/diagrams.npy\n",
      "Applying Scaler to persistence diagrams.\n",
      "Applying filtration 50/72: 6/HeightFiltrartion_1_1\n",
      "RGB images received. Transforming to grayscale.\n"
     ]
    },
    {
     "name": "stderr",
     "output_type": "stream",
     "text": [
      "rgb2gray: 100%|██████████| 9030/9030 [00:02<00:00, 4101.81it/s]\n"
     ]
    },
    {
     "name": "stdout",
     "output_type": "stream",
     "text": [
      "Got the result from ./1/train/filtrations/6/HeightFiltrartion_1_1/gray/diagrams.npy\n",
      "Applying Scaler to persistence diagrams.\n",
      "Got the result from ./1/train/filtrations/6/HeightFiltrartion_1_1/red/diagrams.npy\n",
      "Applying Scaler to persistence diagrams.\n",
      "Got the result from ./1/train/filtrations/6/HeightFiltrartion_1_1/green/diagrams.npy\n",
      "Applying Scaler to persistence diagrams.\n",
      "Got the result from ./1/train/filtrations/6/HeightFiltrartion_1_1/blue/diagrams.npy\n",
      "Applying Scaler to persistence diagrams.\n",
      "Applying filtration 51/72: 6/HeightFiltrartion_1_-1\n",
      "RGB images received. Transforming to grayscale.\n"
     ]
    },
    {
     "name": "stderr",
     "output_type": "stream",
     "text": [
      "rgb2gray: 100%|██████████| 9030/9030 [00:02<00:00, 4315.39it/s]\n"
     ]
    },
    {
     "name": "stdout",
     "output_type": "stream",
     "text": [
      "Got the result from ./1/train/filtrations/6/HeightFiltrartion_1_-1/gray/diagrams.npy\n",
      "Applying Scaler to persistence diagrams.\n",
      "Got the result from ./1/train/filtrations/6/HeightFiltrartion_1_-1/red/diagrams.npy\n",
      "Applying Scaler to persistence diagrams.\n",
      "Got the result from ./1/train/filtrations/6/HeightFiltrartion_1_-1/green/diagrams.npy\n",
      "Applying Scaler to persistence diagrams.\n",
      "Got the result from ./1/train/filtrations/6/HeightFiltrartion_1_-1/blue/diagrams.npy\n",
      "Applying Scaler to persistence diagrams.\n",
      "Applying filtration 52/72: 6/HeightFiltrartion_-1_1\n",
      "RGB images received. Transforming to grayscale.\n"
     ]
    },
    {
     "name": "stderr",
     "output_type": "stream",
     "text": [
      "rgb2gray: 100%|██████████| 9030/9030 [00:02<00:00, 4337.18it/s]\n"
     ]
    },
    {
     "name": "stdout",
     "output_type": "stream",
     "text": [
      "Got the result from ./1/train/filtrations/6/HeightFiltrartion_-1_1/gray/diagrams.npy\n",
      "Applying Scaler to persistence diagrams.\n",
      "Got the result from ./1/train/filtrations/6/HeightFiltrartion_-1_1/red/diagrams.npy\n",
      "Applying Scaler to persistence diagrams.\n",
      "Got the result from ./1/train/filtrations/6/HeightFiltrartion_-1_1/green/diagrams.npy\n",
      "Applying Scaler to persistence diagrams.\n",
      "Got the result from ./1/train/filtrations/6/HeightFiltrartion_-1_1/blue/diagrams.npy\n",
      "Applying Scaler to persistence diagrams.\n",
      "Applying filtration 53/72: 6/HeightFiltrartion_0_-1\n",
      "RGB images received. Transforming to grayscale.\n"
     ]
    },
    {
     "name": "stderr",
     "output_type": "stream",
     "text": [
      "rgb2gray: 100%|██████████| 9030/9030 [00:02<00:00, 4315.39it/s]\n"
     ]
    },
    {
     "name": "stdout",
     "output_type": "stream",
     "text": [
      "Got the result from ./1/train/filtrations/6/HeightFiltrartion_0_-1/gray/diagrams.npy\n",
      "Applying Scaler to persistence diagrams.\n",
      "Got the result from ./1/train/filtrations/6/HeightFiltrartion_0_-1/red/diagrams.npy\n",
      "Applying Scaler to persistence diagrams.\n",
      "Got the result from ./1/train/filtrations/6/HeightFiltrartion_0_-1/green/diagrams.npy\n",
      "Applying Scaler to persistence diagrams.\n",
      "Got the result from ./1/train/filtrations/6/HeightFiltrartion_0_-1/blue/diagrams.npy\n",
      "Applying Scaler to persistence diagrams.\n",
      "Applying filtration 54/72: 6/HeightFiltrartion_0_1\n",
      "RGB images received. Transforming to grayscale.\n"
     ]
    },
    {
     "name": "stderr",
     "output_type": "stream",
     "text": [
      "rgb2gray: 100%|██████████| 9030/9030 [00:02<00:00, 4263.29it/s]\n"
     ]
    },
    {
     "name": "stdout",
     "output_type": "stream",
     "text": [
      "Got the result from ./1/train/filtrations/6/HeightFiltrartion_0_1/gray/diagrams.npy\n",
      "Applying Scaler to persistence diagrams.\n",
      "Got the result from ./1/train/filtrations/6/HeightFiltrartion_0_1/red/diagrams.npy\n",
      "Applying Scaler to persistence diagrams.\n",
      "Got the result from ./1/train/filtrations/6/HeightFiltrartion_0_1/green/diagrams.npy\n",
      "Applying Scaler to persistence diagrams.\n",
      "Got the result from ./1/train/filtrations/6/HeightFiltrartion_0_1/blue/diagrams.npy\n",
      "Applying Scaler to persistence diagrams.\n",
      "Applying filtration 55/72: 6/HeightFiltrartion_-1_0\n",
      "RGB images received. Transforming to grayscale.\n"
     ]
    },
    {
     "name": "stderr",
     "output_type": "stream",
     "text": [
      "rgb2gray: 100%|██████████| 9030/9030 [00:02<00:00, 4378.16it/s]\n"
     ]
    },
    {
     "name": "stdout",
     "output_type": "stream",
     "text": [
      "Got the result from ./1/train/filtrations/6/HeightFiltrartion_-1_0/gray/diagrams.npy\n",
      "Applying Scaler to persistence diagrams.\n",
      "Got the result from ./1/train/filtrations/6/HeightFiltrartion_-1_0/red/diagrams.npy\n",
      "Applying Scaler to persistence diagrams.\n",
      "Got the result from ./1/train/filtrations/6/HeightFiltrartion_-1_0/green/diagrams.npy\n",
      "Applying Scaler to persistence diagrams.\n",
      "Got the result from ./1/train/filtrations/6/HeightFiltrartion_-1_0/blue/diagrams.npy\n",
      "Applying Scaler to persistence diagrams.\n",
      "Applying filtration 56/72: 6/HeightFiltrartion_1_0\n",
      "RGB images received. Transforming to grayscale.\n"
     ]
    },
    {
     "name": "stderr",
     "output_type": "stream",
     "text": [
      "rgb2gray: 100%|██████████| 9030/9030 [00:02<00:00, 4292.81it/s]\n"
     ]
    },
    {
     "name": "stdout",
     "output_type": "stream",
     "text": [
      "Got the result from ./1/train/filtrations/6/HeightFiltrartion_1_0/gray/diagrams.npy\n",
      "Applying Scaler to persistence diagrams.\n",
      "Got the result from ./1/train/filtrations/6/HeightFiltrartion_1_0/red/diagrams.npy\n",
      "Applying Scaler to persistence diagrams.\n",
      "Got the result from ./1/train/filtrations/6/HeightFiltrartion_1_0/green/diagrams.npy\n",
      "Applying Scaler to persistence diagrams.\n",
      "Got the result from ./1/train/filtrations/6/HeightFiltrartion_1_0/blue/diagrams.npy\n",
      "Applying Scaler to persistence diagrams.\n",
      "Applying filtration 57/72: 6/RadialFiltration_12_12\n",
      "RGB images received. Transforming to grayscale.\n"
     ]
    },
    {
     "name": "stderr",
     "output_type": "stream",
     "text": [
      "rgb2gray: 100%|██████████| 9030/9030 [00:02<00:00, 3622.84it/s]\n"
     ]
    },
    {
     "name": "stdout",
     "output_type": "stream",
     "text": [
      "Got the result from ./1/train/filtrations/6/RadialFiltration_12_12/gray/diagrams.npy\n",
      "Applying Scaler to persistence diagrams.\n",
      "Got the result from ./1/train/filtrations/6/RadialFiltration_12_12/red/diagrams.npy\n",
      "Applying Scaler to persistence diagrams.\n",
      "Got the result from ./1/train/filtrations/6/RadialFiltration_12_12/green/diagrams.npy\n",
      "Applying Scaler to persistence diagrams.\n",
      "Got the result from ./1/train/filtrations/6/RadialFiltration_12_12/blue/diagrams.npy\n",
      "Applying Scaler to persistence diagrams.\n",
      "Applying filtration 58/72: 6/RadialFiltration_12_25\n",
      "RGB images received. Transforming to grayscale.\n"
     ]
    },
    {
     "name": "stderr",
     "output_type": "stream",
     "text": [
      "rgb2gray: 100%|██████████| 9030/9030 [00:02<00:00, 3798.09it/s]\n"
     ]
    },
    {
     "name": "stdout",
     "output_type": "stream",
     "text": [
      "Got the result from ./1/train/filtrations/6/RadialFiltration_12_25/gray/diagrams.npy\n",
      "Applying Scaler to persistence diagrams.\n",
      "Got the result from ./1/train/filtrations/6/RadialFiltration_12_25/red/diagrams.npy\n",
      "Applying Scaler to persistence diagrams.\n",
      "Got the result from ./1/train/filtrations/6/RadialFiltration_12_25/green/diagrams.npy\n",
      "Applying Scaler to persistence diagrams.\n",
      "Got the result from ./1/train/filtrations/6/RadialFiltration_12_25/blue/diagrams.npy\n",
      "Applying Scaler to persistence diagrams.\n",
      "Applying filtration 59/72: 6/RadialFiltration_12_38\n",
      "RGB images received. Transforming to grayscale.\n"
     ]
    },
    {
     "name": "stderr",
     "output_type": "stream",
     "text": [
      "rgb2gray: 100%|██████████| 9030/9030 [00:02<00:00, 4088.77it/s]\n"
     ]
    },
    {
     "name": "stdout",
     "output_type": "stream",
     "text": [
      "Got the result from ./1/train/filtrations/6/RadialFiltration_12_38/gray/diagrams.npy\n",
      "Applying Scaler to persistence diagrams.\n",
      "Got the result from ./1/train/filtrations/6/RadialFiltration_12_38/red/diagrams.npy\n",
      "Applying Scaler to persistence diagrams.\n",
      "Got the result from ./1/train/filtrations/6/RadialFiltration_12_38/green/diagrams.npy\n",
      "Applying Scaler to persistence diagrams.\n",
      "Got the result from ./1/train/filtrations/6/RadialFiltration_12_38/blue/diagrams.npy\n",
      "Applying Scaler to persistence diagrams.\n",
      "Applying filtration 60/72: 6/RadialFiltration_12_51\n",
      "RGB images received. Transforming to grayscale.\n"
     ]
    },
    {
     "name": "stderr",
     "output_type": "stream",
     "text": [
      "rgb2gray: 100%|██████████| 9030/9030 [00:02<00:00, 4293.87it/s]\n"
     ]
    },
    {
     "name": "stdout",
     "output_type": "stream",
     "text": [
      "Got the result from ./1/train/filtrations/6/RadialFiltration_12_51/gray/diagrams.npy\n",
      "Applying Scaler to persistence diagrams.\n",
      "Got the result from ./1/train/filtrations/6/RadialFiltration_12_51/red/diagrams.npy\n",
      "Applying Scaler to persistence diagrams.\n",
      "Got the result from ./1/train/filtrations/6/RadialFiltration_12_51/green/diagrams.npy\n",
      "Applying Scaler to persistence diagrams.\n",
      "Got the result from ./1/train/filtrations/6/RadialFiltration_12_51/blue/diagrams.npy\n",
      "Applying Scaler to persistence diagrams.\n",
      "Applying filtration 61/72: 6/RadialFiltration_25_12\n",
      "RGB images received. Transforming to grayscale.\n"
     ]
    },
    {
     "name": "stderr",
     "output_type": "stream",
     "text": [
      "rgb2gray: 100%|██████████| 9030/9030 [00:02<00:00, 4163.01it/s]\n"
     ]
    },
    {
     "name": "stdout",
     "output_type": "stream",
     "text": [
      "Got the result from ./1/train/filtrations/6/RadialFiltration_25_12/gray/diagrams.npy\n",
      "Applying Scaler to persistence diagrams.\n",
      "Got the result from ./1/train/filtrations/6/RadialFiltration_25_12/red/diagrams.npy\n",
      "Applying Scaler to persistence diagrams.\n",
      "Got the result from ./1/train/filtrations/6/RadialFiltration_25_12/green/diagrams.npy\n",
      "Applying Scaler to persistence diagrams.\n",
      "Got the result from ./1/train/filtrations/6/RadialFiltration_25_12/blue/diagrams.npy\n",
      "Applying Scaler to persistence diagrams.\n",
      "Applying filtration 62/72: 6/RadialFiltration_25_25\n",
      "RGB images received. Transforming to grayscale.\n"
     ]
    },
    {
     "name": "stderr",
     "output_type": "stream",
     "text": [
      "rgb2gray: 100%|██████████| 9030/9030 [00:02<00:00, 3526.65it/s]\n"
     ]
    },
    {
     "name": "stdout",
     "output_type": "stream",
     "text": [
      "Got the result from ./1/train/filtrations/6/RadialFiltration_25_25/gray/diagrams.npy\n",
      "Applying Scaler to persistence diagrams.\n",
      "Got the result from ./1/train/filtrations/6/RadialFiltration_25_25/red/diagrams.npy\n",
      "Applying Scaler to persistence diagrams.\n",
      "Got the result from ./1/train/filtrations/6/RadialFiltration_25_25/green/diagrams.npy\n",
      "Applying Scaler to persistence diagrams.\n",
      "Got the result from ./1/train/filtrations/6/RadialFiltration_25_25/blue/diagrams.npy\n",
      "Applying Scaler to persistence diagrams.\n",
      "Applying filtration 63/72: 6/RadialFiltration_25_38\n",
      "RGB images received. Transforming to grayscale.\n"
     ]
    },
    {
     "name": "stderr",
     "output_type": "stream",
     "text": [
      "rgb2gray: 100%|██████████| 9030/9030 [00:02<00:00, 4133.94it/s]\n"
     ]
    },
    {
     "name": "stdout",
     "output_type": "stream",
     "text": [
      "Got the result from ./1/train/filtrations/6/RadialFiltration_25_38/gray/diagrams.npy\n",
      "Applying Scaler to persistence diagrams.\n",
      "Got the result from ./1/train/filtrations/6/RadialFiltration_25_38/red/diagrams.npy\n",
      "Applying Scaler to persistence diagrams.\n",
      "Got the result from ./1/train/filtrations/6/RadialFiltration_25_38/green/diagrams.npy\n",
      "Applying Scaler to persistence diagrams.\n",
      "Got the result from ./1/train/filtrations/6/RadialFiltration_25_38/blue/diagrams.npy\n",
      "Applying Scaler to persistence diagrams.\n",
      "Applying filtration 64/72: 6/RadialFiltration_25_51\n",
      "RGB images received. Transforming to grayscale.\n"
     ]
    },
    {
     "name": "stderr",
     "output_type": "stream",
     "text": [
      "rgb2gray: 100%|██████████| 9030/9030 [00:02<00:00, 4118.57it/s]\n"
     ]
    },
    {
     "name": "stdout",
     "output_type": "stream",
     "text": [
      "Got the result from ./1/train/filtrations/6/RadialFiltration_25_51/gray/diagrams.npy\n",
      "Applying Scaler to persistence diagrams.\n",
      "Got the result from ./1/train/filtrations/6/RadialFiltration_25_51/red/diagrams.npy\n",
      "Applying Scaler to persistence diagrams.\n",
      "Got the result from ./1/train/filtrations/6/RadialFiltration_25_51/green/diagrams.npy\n",
      "Applying Scaler to persistence diagrams.\n",
      "Got the result from ./1/train/filtrations/6/RadialFiltration_25_51/blue/diagrams.npy\n",
      "Applying Scaler to persistence diagrams.\n",
      "Applying filtration 65/72: 6/RadialFiltration_38_12\n",
      "RGB images received. Transforming to grayscale.\n"
     ]
    },
    {
     "name": "stderr",
     "output_type": "stream",
     "text": [
      "rgb2gray: 100%|██████████| 9030/9030 [00:02<00:00, 4148.76it/s]\n"
     ]
    },
    {
     "name": "stdout",
     "output_type": "stream",
     "text": [
      "Got the result from ./1/train/filtrations/6/RadialFiltration_38_12/gray/diagrams.npy\n",
      "Applying Scaler to persistence diagrams.\n",
      "Got the result from ./1/train/filtrations/6/RadialFiltration_38_12/red/diagrams.npy\n",
      "Applying Scaler to persistence diagrams.\n",
      "Got the result from ./1/train/filtrations/6/RadialFiltration_38_12/green/diagrams.npy\n",
      "Applying Scaler to persistence diagrams.\n",
      "Got the result from ./1/train/filtrations/6/RadialFiltration_38_12/blue/diagrams.npy\n",
      "Applying Scaler to persistence diagrams.\n",
      "Applying filtration 66/72: 6/RadialFiltration_38_25\n",
      "RGB images received. Transforming to grayscale.\n"
     ]
    },
    {
     "name": "stderr",
     "output_type": "stream",
     "text": [
      "rgb2gray: 100%|██████████| 9030/9030 [00:02<00:00, 3548.82it/s]\n"
     ]
    },
    {
     "name": "stdout",
     "output_type": "stream",
     "text": [
      "Got the result from ./1/train/filtrations/6/RadialFiltration_38_25/gray/diagrams.npy\n",
      "Applying Scaler to persistence diagrams.\n",
      "Got the result from ./1/train/filtrations/6/RadialFiltration_38_25/red/diagrams.npy\n",
      "Applying Scaler to persistence diagrams.\n",
      "Got the result from ./1/train/filtrations/6/RadialFiltration_38_25/green/diagrams.npy\n",
      "Applying Scaler to persistence diagrams.\n",
      "Got the result from ./1/train/filtrations/6/RadialFiltration_38_25/blue/diagrams.npy\n",
      "Applying Scaler to persistence diagrams.\n",
      "Applying filtration 67/72: 6/RadialFiltration_38_38\n",
      "RGB images received. Transforming to grayscale.\n"
     ]
    },
    {
     "name": "stderr",
     "output_type": "stream",
     "text": [
      "rgb2gray: 100%|██████████| 9030/9030 [00:02<00:00, 3279.26it/s]\n"
     ]
    },
    {
     "name": "stdout",
     "output_type": "stream",
     "text": [
      "Got the result from ./1/train/filtrations/6/RadialFiltration_38_38/gray/diagrams.npy\n",
      "Applying Scaler to persistence diagrams.\n",
      "Got the result from ./1/train/filtrations/6/RadialFiltration_38_38/red/diagrams.npy\n",
      "Applying Scaler to persistence diagrams.\n",
      "Got the result from ./1/train/filtrations/6/RadialFiltration_38_38/green/diagrams.npy\n",
      "Applying Scaler to persistence diagrams.\n",
      "Got the result from ./1/train/filtrations/6/RadialFiltration_38_38/blue/diagrams.npy\n",
      "Applying Scaler to persistence diagrams.\n",
      "Applying filtration 68/72: 6/RadialFiltration_38_51\n",
      "RGB images received. Transforming to grayscale.\n"
     ]
    },
    {
     "name": "stderr",
     "output_type": "stream",
     "text": [
      "rgb2gray: 100%|██████████| 9030/9030 [00:02<00:00, 4326.78it/s]\n"
     ]
    },
    {
     "name": "stdout",
     "output_type": "stream",
     "text": [
      "Got the result from ./1/train/filtrations/6/RadialFiltration_38_51/gray/diagrams.npy\n",
      "Applying Scaler to persistence diagrams.\n",
      "Got the result from ./1/train/filtrations/6/RadialFiltration_38_51/red/diagrams.npy\n",
      "Applying Scaler to persistence diagrams.\n",
      "Got the result from ./1/train/filtrations/6/RadialFiltration_38_51/green/diagrams.npy\n",
      "Applying Scaler to persistence diagrams.\n",
      "Got the result from ./1/train/filtrations/6/RadialFiltration_38_51/blue/diagrams.npy\n",
      "Applying Scaler to persistence diagrams.\n",
      "Applying filtration 69/72: 6/RadialFiltration_51_12\n",
      "RGB images received. Transforming to grayscale.\n"
     ]
    },
    {
     "name": "stderr",
     "output_type": "stream",
     "text": [
      "rgb2gray: 100%|██████████| 9030/9030 [00:02<00:00, 3545.26it/s]\n"
     ]
    },
    {
     "name": "stdout",
     "output_type": "stream",
     "text": [
      "Got the result from ./1/train/filtrations/6/RadialFiltration_51_12/gray/diagrams.npy\n",
      "Applying Scaler to persistence diagrams.\n",
      "Got the result from ./1/train/filtrations/6/RadialFiltration_51_12/red/diagrams.npy\n",
      "Applying Scaler to persistence diagrams.\n",
      "Got the result from ./1/train/filtrations/6/RadialFiltration_51_12/green/diagrams.npy\n",
      "Applying Scaler to persistence diagrams.\n",
      "Got the result from ./1/train/filtrations/6/RadialFiltration_51_12/blue/diagrams.npy\n",
      "Applying Scaler to persistence diagrams.\n",
      "Applying filtration 70/72: 6/RadialFiltration_51_25\n",
      "RGB images received. Transforming to grayscale.\n"
     ]
    },
    {
     "name": "stderr",
     "output_type": "stream",
     "text": [
      "rgb2gray: 100%|██████████| 9030/9030 [00:02<00:00, 4291.63it/s]\n"
     ]
    },
    {
     "name": "stdout",
     "output_type": "stream",
     "text": [
      "Got the result from ./1/train/filtrations/6/RadialFiltration_51_25/gray/diagrams.npy\n",
      "Applying Scaler to persistence diagrams.\n",
      "Got the result from ./1/train/filtrations/6/RadialFiltration_51_25/red/diagrams.npy\n",
      "Applying Scaler to persistence diagrams.\n",
      "Got the result from ./1/train/filtrations/6/RadialFiltration_51_25/green/diagrams.npy\n",
      "Applying Scaler to persistence diagrams.\n",
      "Got the result from ./1/train/filtrations/6/RadialFiltration_51_25/blue/diagrams.npy\n",
      "Applying Scaler to persistence diagrams.\n",
      "Applying filtration 71/72: 6/RadialFiltration_51_38\n",
      "RGB images received. Transforming to grayscale.\n"
     ]
    },
    {
     "name": "stderr",
     "output_type": "stream",
     "text": [
      "rgb2gray: 100%|██████████| 9030/9030 [00:02<00:00, 4173.73it/s]\n"
     ]
    },
    {
     "name": "stdout",
     "output_type": "stream",
     "text": [
      "Got the result from ./1/train/filtrations/6/RadialFiltration_51_38/gray/diagrams.npy\n",
      "Applying Scaler to persistence diagrams.\n",
      "Got the result from ./1/train/filtrations/6/RadialFiltration_51_38/red/diagrams.npy\n",
      "Applying Scaler to persistence diagrams.\n",
      "Got the result from ./1/train/filtrations/6/RadialFiltration_51_38/green/diagrams.npy\n",
      "Applying Scaler to persistence diagrams.\n",
      "Got the result from ./1/train/filtrations/6/RadialFiltration_51_38/blue/diagrams.npy\n",
      "Applying Scaler to persistence diagrams.\n",
      "Applying filtration 72/72: 6/RadialFiltration_51_51\n",
      "RGB images received. Transforming to grayscale.\n"
     ]
    },
    {
     "name": "stderr",
     "output_type": "stream",
     "text": [
      "rgb2gray: 100%|██████████| 9030/9030 [00:02<00:00, 3451.17it/s]\n"
     ]
    },
    {
     "name": "stdout",
     "output_type": "stream",
     "text": [
      "Got the result from ./1/train/filtrations/6/RadialFiltration_51_51/gray/diagrams.npy\n",
      "Applying Scaler to persistence diagrams.\n",
      "Got the result from ./1/train/filtrations/6/RadialFiltration_51_51/red/diagrams.npy\n",
      "Applying Scaler to persistence diagrams.\n",
      "Got the result from ./1/train/filtrations/6/RadialFiltration_51_51/green/diagrams.npy\n",
      "Applying Scaler to persistence diagrams.\n",
      "Got the result from ./1/train/filtrations/6/RadialFiltration_51_51/blue/diagrams.npy\n",
      "Applying Scaler to persistence diagrams.\n",
      "Diagrams requested. Returning diagrams.\n",
      "Calculating inverted images\n",
      "RGB images received. Transforming to grayscale.\n"
     ]
    },
    {
     "name": "stderr",
     "output_type": "stream",
     "text": [
      "rgb2gray: 100%|██████████| 134/134 [00:00<00:00, 3621.32it/s]\n"
     ]
    },
    {
     "name": "stdout",
     "output_type": "stream",
     "text": [
      "Got the result from ./1/test/greyscale/gray/diagrams.npy\n",
      "Applying Scaler to persistence diagrams.\n",
      "Got the result from ./1/test/greyscale/red/diagrams.npy\n",
      "Applying Scaler to persistence diagrams.\n",
      "Got the result from ./1/test/greyscale/green/diagrams.npy\n",
      "Applying Scaler to persistence diagrams.\n",
      "Got the result from ./1/test/greyscale/blue/diagrams.npy\n",
      "Applying Scaler to persistence diagrams.\n",
      "RGB images received. Transforming to grayscale.\n"
     ]
    },
    {
     "name": "stderr",
     "output_type": "stream",
     "text": [
      "rgb2gray: 100%|██████████| 134/134 [00:00<00:00, 4323.23it/s]\n"
     ]
    },
    {
     "name": "stdout",
     "output_type": "stream",
     "text": [
      "Got the result from ./1/test/inverted_greyscale/gray/diagrams.npy\n",
      "Applying Scaler to persistence diagrams.\n",
      "Got the result from ./1/test/inverted_greyscale/red/diagrams.npy\n",
      "Applying Scaler to persistence diagrams.\n",
      "Got the result from ./1/test/inverted_greyscale/green/diagrams.npy\n",
      "Applying Scaler to persistence diagrams.\n",
      "Got the result from ./1/test/inverted_greyscale/blue/diagrams.npy\n",
      "Applying Scaler to persistence diagrams.\n",
      "Applying filtrations\n",
      "Applying filtration 1/72: 2/HeightFiltrartion_-1_-1\n",
      "RGB images received. Transforming to grayscale.\n"
     ]
    },
    {
     "name": "stderr",
     "output_type": "stream",
     "text": [
      "rgb2gray: 100%|██████████| 134/134 [00:00<00:00, 1654.32it/s]\n"
     ]
    },
    {
     "name": "stdout",
     "output_type": "stream",
     "text": [
      "Got the result from ./1/test/filtrations/2/HeightFiltrartion_-1_-1/gray/diagrams.npy\n",
      "Applying Scaler to persistence diagrams.\n",
      "Got the result from ./1/test/filtrations/2/HeightFiltrartion_-1_-1/red/diagrams.npy\n",
      "Applying Scaler to persistence diagrams.\n",
      "Got the result from ./1/test/filtrations/2/HeightFiltrartion_-1_-1/green/diagrams.npy\n",
      "Applying Scaler to persistence diagrams.\n",
      "Got the result from ./1/test/filtrations/2/HeightFiltrartion_-1_-1/blue/diagrams.npy\n",
      "Applying Scaler to persistence diagrams.\n",
      "Applying filtration 2/72: 2/HeightFiltrartion_1_1\n",
      "RGB images received. Transforming to grayscale.\n"
     ]
    },
    {
     "name": "stderr",
     "output_type": "stream",
     "text": [
      "rgb2gray: 100%|██████████| 134/134 [00:00<00:00, 3435.89it/s]\n"
     ]
    },
    {
     "name": "stdout",
     "output_type": "stream",
     "text": [
      "Got the result from ./1/test/filtrations/2/HeightFiltrartion_1_1/gray/diagrams.npy\n",
      "Applying Scaler to persistence diagrams.\n",
      "Got the result from ./1/test/filtrations/2/HeightFiltrartion_1_1/red/diagrams.npy\n",
      "Applying Scaler to persistence diagrams.\n",
      "Got the result from ./1/test/filtrations/2/HeightFiltrartion_1_1/green/diagrams.npy\n",
      "Applying Scaler to persistence diagrams.\n",
      "Got the result from ./1/test/filtrations/2/HeightFiltrartion_1_1/blue/diagrams.npy\n",
      "Applying Scaler to persistence diagrams.\n",
      "Applying filtration 3/72: 2/HeightFiltrartion_1_-1\n",
      "RGB images received. Transforming to grayscale.\n"
     ]
    },
    {
     "name": "stderr",
     "output_type": "stream",
     "text": [
      "rgb2gray: 100%|██████████| 134/134 [00:00<00:00, 4060.72it/s]"
     ]
    },
    {
     "name": "stdout",
     "output_type": "stream",
     "text": [
      "Got the result from ./1/test/filtrations/2/HeightFiltrartion_1_-1/gray/diagrams.npy"
     ]
    },
    {
     "name": "stderr",
     "output_type": "stream",
     "text": [
      "\n"
     ]
    },
    {
     "name": "stdout",
     "output_type": "stream",
     "text": [
      "\n",
      "Applying Scaler to persistence diagrams.\n",
      "Got the result from ./1/test/filtrations/2/HeightFiltrartion_1_-1/red/diagrams.npy\n",
      "Applying Scaler to persistence diagrams.\n",
      "Got the result from ./1/test/filtrations/2/HeightFiltrartion_1_-1/green/diagrams.npy\n",
      "Applying Scaler to persistence diagrams.\n",
      "Got the result from ./1/test/filtrations/2/HeightFiltrartion_1_-1/blue/diagrams.npy\n",
      "Applying Scaler to persistence diagrams.\n",
      "Applying filtration 4/72: 2/HeightFiltrartion_-1_1\n",
      "RGB images received. Transforming to grayscale.\n"
     ]
    },
    {
     "name": "stderr",
     "output_type": "stream",
     "text": [
      "rgb2gray: 100%|██████████| 134/134 [00:00<00:00, 3435.62it/s]"
     ]
    },
    {
     "name": "stdout",
     "output_type": "stream",
     "text": [
      "Got the result from ./1/test/filtrations/2/HeightFiltrartion_-1_1/gray/diagrams.npy"
     ]
    },
    {
     "name": "stderr",
     "output_type": "stream",
     "text": [
      "\n"
     ]
    },
    {
     "name": "stdout",
     "output_type": "stream",
     "text": [
      "\n",
      "Applying Scaler to persistence diagrams.\n",
      "Got the result from ./1/test/filtrations/2/HeightFiltrartion_-1_1/red/diagrams.npy\n",
      "Applying Scaler to persistence diagrams.\n",
      "Got the result from ./1/test/filtrations/2/HeightFiltrartion_-1_1/green/diagrams.npy\n",
      "Applying Scaler to persistence diagrams.\n",
      "Got the result from ./1/test/filtrations/2/HeightFiltrartion_-1_1/blue/diagrams.npy\n",
      "Applying Scaler to persistence diagrams.\n",
      "Applying filtration 5/72: 2/HeightFiltrartion_0_-1\n",
      "RGB images received. Transforming to grayscale.\n"
     ]
    },
    {
     "name": "stderr",
     "output_type": "stream",
     "text": [
      "rgb2gray: 100%|██████████| 134/134 [00:00<00:00, 3350.02it/s]"
     ]
    },
    {
     "name": "stdout",
     "output_type": "stream",
     "text": [
      "Got the result from ./1/test/filtrations/2/HeightFiltrartion_0_-1/gray/diagrams.npy"
     ]
    },
    {
     "name": "stderr",
     "output_type": "stream",
     "text": [
      "\n"
     ]
    },
    {
     "name": "stdout",
     "output_type": "stream",
     "text": [
      "\n",
      "Applying Scaler to persistence diagrams.\n",
      "Got the result from ./1/test/filtrations/2/HeightFiltrartion_0_-1/red/diagrams.npy\n",
      "Applying Scaler to persistence diagrams.\n",
      "Got the result from ./1/test/filtrations/2/HeightFiltrartion_0_-1/green/diagrams.npy\n",
      "Applying Scaler to persistence diagrams.\n",
      "Got the result from ./1/test/filtrations/2/HeightFiltrartion_0_-1/blue/diagrams.npy\n",
      "Applying Scaler to persistence diagrams.\n",
      "Applying filtration 6/72: 2/HeightFiltrartion_0_1\n",
      "RGB images received. Transforming to grayscale.\n"
     ]
    },
    {
     "name": "stderr",
     "output_type": "stream",
     "text": [
      "rgb2gray: 100%|██████████| 134/134 [00:00<00:00, 2576.85it/s]"
     ]
    },
    {
     "name": "stdout",
     "output_type": "stream",
     "text": [
      "Got the result from ./1/test/filtrations/2/HeightFiltrartion_0_1/gray/diagrams.npy\n"
     ]
    },
    {
     "name": "stderr",
     "output_type": "stream",
     "text": [
      "\n"
     ]
    },
    {
     "name": "stdout",
     "output_type": "stream",
     "text": [
      "Applying Scaler to persistence diagrams.\n",
      "Got the result from ./1/test/filtrations/2/HeightFiltrartion_0_1/red/diagrams.npy\n",
      "Applying Scaler to persistence diagrams.\n",
      "Got the result from ./1/test/filtrations/2/HeightFiltrartion_0_1/green/diagrams.npy\n",
      "Applying Scaler to persistence diagrams.\n",
      "Got the result from ./1/test/filtrations/2/HeightFiltrartion_0_1/blue/diagrams.npy\n",
      "Applying Scaler to persistence diagrams.\n",
      "Applying filtration 7/72: 2/HeightFiltrartion_-1_0\n",
      "RGB images received. Transforming to grayscale.\n"
     ]
    },
    {
     "name": "stderr",
     "output_type": "stream",
     "text": [
      "rgb2gray: 100%|██████████| 134/134 [00:00<00:00, 2679.86it/s]\n"
     ]
    },
    {
     "name": "stdout",
     "output_type": "stream",
     "text": [
      "Got the result from ./1/test/filtrations/2/HeightFiltrartion_-1_0/gray/diagrams.npy\n",
      "Applying Scaler to persistence diagrams.\n",
      "Got the result from ./1/test/filtrations/2/HeightFiltrartion_-1_0/red/diagrams.npy\n",
      "Applying Scaler to persistence diagrams.\n",
      "Got the result from ./1/test/filtrations/2/HeightFiltrartion_-1_0/green/diagrams.npy\n",
      "Applying Scaler to persistence diagrams.\n",
      "Got the result from ./1/test/filtrations/2/HeightFiltrartion_-1_0/blue/diagrams.npy\n",
      "Applying Scaler to persistence diagrams.\n",
      "Applying filtration 8/72: 2/HeightFiltrartion_1_0\n",
      "RGB images received. Transforming to grayscale.\n"
     ]
    },
    {
     "name": "stderr",
     "output_type": "stream",
     "text": [
      "rgb2gray: 100%|██████████| 134/134 [00:00<00:00, 4187.27it/s]\n"
     ]
    },
    {
     "name": "stdout",
     "output_type": "stream",
     "text": [
      "Got the result from ./1/test/filtrations/2/HeightFiltrartion_1_0/gray/diagrams.npy\n",
      "Applying Scaler to persistence diagrams.\n",
      "Got the result from ./1/test/filtrations/2/HeightFiltrartion_1_0/red/diagrams.npy\n",
      "Applying Scaler to persistence diagrams.\n",
      "Got the result from ./1/test/filtrations/2/HeightFiltrartion_1_0/green/diagrams.npy\n",
      "Applying Scaler to persistence diagrams.\n",
      "Got the result from ./1/test/filtrations/2/HeightFiltrartion_1_0/blue/diagrams.npy\n",
      "Applying Scaler to persistence diagrams.\n",
      "Applying filtration 9/72: 2/RadialFiltration_12_12\n",
      "RGB images received. Transforming to grayscale.\n"
     ]
    },
    {
     "name": "stderr",
     "output_type": "stream",
     "text": [
      "rgb2gray: 100%|██████████| 134/134 [00:00<00:00, 3526.33it/s]"
     ]
    },
    {
     "name": "stdout",
     "output_type": "stream",
     "text": [
      "Got the result from ./1/test/filtrations/2/RadialFiltration_12_12/gray/diagrams.npy"
     ]
    },
    {
     "name": "stderr",
     "output_type": "stream",
     "text": [
      "\n"
     ]
    },
    {
     "name": "stdout",
     "output_type": "stream",
     "text": [
      "\n",
      "Applying Scaler to persistence diagrams.\n",
      "Got the result from ./1/test/filtrations/2/RadialFiltration_12_12/red/diagrams.npy\n",
      "Applying Scaler to persistence diagrams.\n",
      "Got the result from ./1/test/filtrations/2/RadialFiltration_12_12/green/diagrams.npy\n",
      "Applying Scaler to persistence diagrams.\n",
      "Got the result from ./1/test/filtrations/2/RadialFiltration_12_12/blue/diagrams.npy\n",
      "Applying Scaler to persistence diagrams.\n",
      "Applying filtration 10/72: 2/RadialFiltration_12_25\n",
      "RGB images received. Transforming to grayscale.\n"
     ]
    },
    {
     "name": "stderr",
     "output_type": "stream",
     "text": [
      "rgb2gray: 100%|██████████| 134/134 [00:00<00:00, 3526.04it/s]"
     ]
    },
    {
     "name": "stdout",
     "output_type": "stream",
     "text": [
      "Got the result from ./1/test/filtrations/2/RadialFiltration_12_25/gray/diagrams.npy"
     ]
    },
    {
     "name": "stderr",
     "output_type": "stream",
     "text": [
      "\n"
     ]
    },
    {
     "name": "stdout",
     "output_type": "stream",
     "text": [
      "\n",
      "Applying Scaler to persistence diagrams.\n",
      "Got the result from ./1/test/filtrations/2/RadialFiltration_12_25/red/diagrams.npy\n",
      "Applying Scaler to persistence diagrams.\n",
      "Got the result from ./1/test/filtrations/2/RadialFiltration_12_25/green/diagrams.npy\n",
      "Applying Scaler to persistence diagrams.\n",
      "Got the result from ./1/test/filtrations/2/RadialFiltration_12_25/blue/diagrams.npy\n",
      "Applying Scaler to persistence diagrams.\n",
      "Applying filtration 11/72: 2/RadialFiltration_12_38\n",
      "RGB images received. Transforming to grayscale.\n"
     ]
    },
    {
     "name": "stderr",
     "output_type": "stream",
     "text": [
      "rgb2gray: 100%|██████████| 134/134 [00:00<00:00, 3190.44it/s]\n"
     ]
    },
    {
     "name": "stdout",
     "output_type": "stream",
     "text": [
      "Got the result from ./1/test/filtrations/2/RadialFiltration_12_38/gray/diagrams.npy\n",
      "Applying Scaler to persistence diagrams.\n",
      "Got the result from ./1/test/filtrations/2/RadialFiltration_12_38/red/diagrams.npy\n",
      "Applying Scaler to persistence diagrams.\n",
      "Got the result from ./1/test/filtrations/2/RadialFiltration_12_38/green/diagrams.npy\n",
      "Applying Scaler to persistence diagrams.\n",
      "Got the result from ./1/test/filtrations/2/RadialFiltration_12_38/blue/diagrams.npy\n",
      "Applying Scaler to persistence diagrams.\n",
      "Applying filtration 12/72: 2/RadialFiltration_12_51\n",
      "RGB images received. Transforming to grayscale.\n"
     ]
    },
    {
     "name": "stderr",
     "output_type": "stream",
     "text": [
      "rgb2gray: 100%|██████████| 134/134 [00:00<00:00, 3722.00it/s]\n"
     ]
    },
    {
     "name": "stdout",
     "output_type": "stream",
     "text": [
      "Got the result from ./1/test/filtrations/2/RadialFiltration_12_51/gray/diagrams.npy\n",
      "Applying Scaler to persistence diagrams.\n",
      "Got the result from ./1/test/filtrations/2/RadialFiltration_12_51/red/diagrams.npy\n",
      "Applying Scaler to persistence diagrams.\n",
      "Got the result from ./1/test/filtrations/2/RadialFiltration_12_51/green/diagrams.npy\n",
      "Applying Scaler to persistence diagrams.\n",
      "Got the result from ./1/test/filtrations/2/RadialFiltration_12_51/blue/diagrams.npy\n",
      "Applying Scaler to persistence diagrams.\n",
      "Applying filtration 13/72: 2/RadialFiltration_25_12\n",
      "RGB images received. Transforming to grayscale.\n"
     ]
    },
    {
     "name": "stderr",
     "output_type": "stream",
     "text": [
      "rgb2gray: 100%|██████████| 134/134 [00:00<00:00, 3526.22it/s]"
     ]
    },
    {
     "name": "stdout",
     "output_type": "stream",
     "text": [
      "Got the result from ./1/test/filtrations/2/RadialFiltration_25_12/gray/diagrams.npy\n"
     ]
    },
    {
     "name": "stderr",
     "output_type": "stream",
     "text": [
      "\n"
     ]
    },
    {
     "name": "stdout",
     "output_type": "stream",
     "text": [
      "Applying Scaler to persistence diagrams.\n",
      "Got the result from ./1/test/filtrations/2/RadialFiltration_25_12/red/diagrams.npy\n",
      "Applying Scaler to persistence diagrams.\n",
      "Got the result from ./1/test/filtrations/2/RadialFiltration_25_12/green/diagrams.npy\n",
      "Applying Scaler to persistence diagrams.\n",
      "Got the result from ./1/test/filtrations/2/RadialFiltration_25_12/blue/diagrams.npy\n",
      "Applying Scaler to persistence diagrams.\n",
      "Applying filtration 14/72: 2/RadialFiltration_25_25\n",
      "RGB images received. Transforming to grayscale.\n"
     ]
    },
    {
     "name": "stderr",
     "output_type": "stream",
     "text": [
      "rgb2gray: 100%|██████████| 134/134 [00:00<00:00, 3115.99it/s]\n"
     ]
    },
    {
     "name": "stdout",
     "output_type": "stream",
     "text": [
      "Got the result from ./1/test/filtrations/2/RadialFiltration_25_25/gray/diagrams.npy\n",
      "Applying Scaler to persistence diagrams.\n",
      "Got the result from ./1/test/filtrations/2/RadialFiltration_25_25/red/diagrams.npy\n",
      "Applying Scaler to persistence diagrams.\n",
      "Got the result from ./1/test/filtrations/2/RadialFiltration_25_25/green/diagrams.npy\n",
      "Applying Scaler to persistence diagrams.\n",
      "Got the result from ./1/test/filtrations/2/RadialFiltration_25_25/blue/diagrams.npy\n",
      "Applying Scaler to persistence diagrams.\n",
      "Applying filtration 15/72: 2/RadialFiltration_25_38\n",
      "RGB images received. Transforming to grayscale.\n"
     ]
    },
    {
     "name": "stderr",
     "output_type": "stream",
     "text": [
      "rgb2gray: 100%|██████████| 134/134 [00:00<00:00, 3435.98it/s]\n"
     ]
    },
    {
     "name": "stdout",
     "output_type": "stream",
     "text": [
      "Got the result from ./1/test/filtrations/2/RadialFiltration_25_38/gray/diagrams.npy\n",
      "Applying Scaler to persistence diagrams.\n",
      "Got the result from ./1/test/filtrations/2/RadialFiltration_25_38/red/diagrams.npy\n",
      "Applying Scaler to persistence diagrams.\n",
      "Got the result from ./1/test/filtrations/2/RadialFiltration_25_38/green/diagrams.npy\n",
      "Applying Scaler to persistence diagrams.\n",
      "Got the result from ./1/test/filtrations/2/RadialFiltration_25_38/blue/diagrams.npy\n",
      "Applying Scaler to persistence diagrams.\n",
      "Applying filtration 16/72: 2/RadialFiltration_25_51\n",
      "RGB images received. Transforming to grayscale.\n"
     ]
    },
    {
     "name": "stderr",
     "output_type": "stream",
     "text": [
      "rgb2gray: 100%|██████████| 134/134 [00:00<00:00, 3116.38it/s]"
     ]
    },
    {
     "name": "stdout",
     "output_type": "stream",
     "text": [
      "Got the result from ./1/test/filtrations/2/RadialFiltration_25_51/gray/diagrams.npy\n"
     ]
    },
    {
     "name": "stderr",
     "output_type": "stream",
     "text": [
      "\n"
     ]
    },
    {
     "name": "stdout",
     "output_type": "stream",
     "text": [
      "Applying Scaler to persistence diagrams.\n",
      "Got the result from ./1/test/filtrations/2/RadialFiltration_25_51/red/diagrams.npy\n",
      "Applying Scaler to persistence diagrams.\n",
      "Got the result from ./1/test/filtrations/2/RadialFiltration_25_51/green/diagrams.npy\n",
      "Applying Scaler to persistence diagrams.\n",
      "Got the result from ./1/test/filtrations/2/RadialFiltration_25_51/blue/diagrams.npy\n",
      "Applying Scaler to persistence diagrams.\n",
      "Applying filtration 17/72: 2/RadialFiltration_38_12\n",
      "RGB images received. Transforming to grayscale.\n"
     ]
    },
    {
     "name": "stderr",
     "output_type": "stream",
     "text": [
      "rgb2gray: 100%|██████████| 134/134 [00:00<00:00, 3268.05it/s]"
     ]
    },
    {
     "name": "stdout",
     "output_type": "stream",
     "text": [
      "Got the result from ./1/test/filtrations/2/RadialFiltration_38_12/gray/diagrams.npy"
     ]
    },
    {
     "name": "stderr",
     "output_type": "stream",
     "text": [
      "\n"
     ]
    },
    {
     "name": "stdout",
     "output_type": "stream",
     "text": [
      "\n",
      "Applying Scaler to persistence diagrams.\n",
      "Got the result from ./1/test/filtrations/2/RadialFiltration_38_12/red/diagrams.npy\n",
      "Applying Scaler to persistence diagrams.\n",
      "Got the result from ./1/test/filtrations/2/RadialFiltration_38_12/green/diagrams.npy\n",
      "Applying Scaler to persistence diagrams.\n",
      "Got the result from ./1/test/filtrations/2/RadialFiltration_38_12/blue/diagrams.npy\n",
      "Applying Scaler to persistence diagrams.\n",
      "Applying filtration 18/72: 2/RadialFiltration_38_25\n",
      "RGB images received. Transforming to grayscale.\n"
     ]
    },
    {
     "name": "stderr",
     "output_type": "stream",
     "text": [
      "rgb2gray: 100%|██████████| 134/134 [00:00<00:00, 3526.26it/s]"
     ]
    },
    {
     "name": "stdout",
     "output_type": "stream",
     "text": [
      "Got the result from ./1/test/filtrations/2/RadialFiltration_38_25/gray/diagrams.npy\n"
     ]
    },
    {
     "name": "stderr",
     "output_type": "stream",
     "text": [
      "\n"
     ]
    },
    {
     "name": "stdout",
     "output_type": "stream",
     "text": [
      "Applying Scaler to persistence diagrams.\n",
      "Got the result from ./1/test/filtrations/2/RadialFiltration_38_25/red/diagrams.npy\n",
      "Applying Scaler to persistence diagrams.\n",
      "Got the result from ./1/test/filtrations/2/RadialFiltration_38_25/green/diagrams.npy\n",
      "Applying Scaler to persistence diagrams.\n",
      "Got the result from ./1/test/filtrations/2/RadialFiltration_38_25/blue/diagrams.npy\n",
      "Applying Scaler to persistence diagrams.\n",
      "Applying filtration 19/72: 2/RadialFiltration_38_38\n",
      "RGB images received. Transforming to grayscale.\n"
     ]
    },
    {
     "name": "stderr",
     "output_type": "stream",
     "text": [
      "rgb2gray: 100%|██████████| 134/134 [00:00<00:00, 3941.24it/s]"
     ]
    },
    {
     "name": "stdout",
     "output_type": "stream",
     "text": [
      "Got the result from ./1/test/filtrations/2/RadialFiltration_38_38/gray/diagrams.npy\n"
     ]
    },
    {
     "name": "stderr",
     "output_type": "stream",
     "text": [
      "\n"
     ]
    },
    {
     "name": "stdout",
     "output_type": "stream",
     "text": [
      "Applying Scaler to persistence diagrams.\n",
      "Got the result from ./1/test/filtrations/2/RadialFiltration_38_38/red/diagrams.npy\n",
      "Applying Scaler to persistence diagrams.\n",
      "Got the result from ./1/test/filtrations/2/RadialFiltration_38_38/green/diagrams.npy\n",
      "Applying Scaler to persistence diagrams.\n",
      "Got the result from ./1/test/filtrations/2/RadialFiltration_38_38/blue/diagrams.npy\n",
      "Applying Scaler to persistence diagrams.\n",
      "Applying filtration 20/72: 2/RadialFiltration_38_51\n",
      "RGB images received. Transforming to grayscale.\n"
     ]
    },
    {
     "name": "stderr",
     "output_type": "stream",
     "text": [
      "rgb2gray: 100%|██████████| 134/134 [00:00<00:00, 4060.46it/s]"
     ]
    },
    {
     "name": "stdout",
     "output_type": "stream",
     "text": [
      "Got the result from ./1/test/filtrations/2/RadialFiltration_38_51/gray/diagrams.npy\n"
     ]
    },
    {
     "name": "stderr",
     "output_type": "stream",
     "text": [
      "\n"
     ]
    },
    {
     "name": "stdout",
     "output_type": "stream",
     "text": [
      "Applying Scaler to persistence diagrams.\n",
      "Got the result from ./1/test/filtrations/2/RadialFiltration_38_51/red/diagrams.npy\n",
      "Applying Scaler to persistence diagrams.\n",
      "Got the result from ./1/test/filtrations/2/RadialFiltration_38_51/green/diagrams.npy\n",
      "Applying Scaler to persistence diagrams.\n",
      "Got the result from ./1/test/filtrations/2/RadialFiltration_38_51/blue/diagrams.npy\n",
      "Applying Scaler to persistence diagrams.\n",
      "Applying filtration 21/72: 2/RadialFiltration_51_12\n",
      "RGB images received. Transforming to grayscale.\n"
     ]
    },
    {
     "name": "stderr",
     "output_type": "stream",
     "text": [
      "rgb2gray: 100%|██████████| 134/134 [00:00<00:00, 3941.21it/s]"
     ]
    },
    {
     "name": "stdout",
     "output_type": "stream",
     "text": [
      "Got the result from ./1/test/filtrations/2/RadialFiltration_51_12/gray/diagrams.npy\n"
     ]
    },
    {
     "name": "stderr",
     "output_type": "stream",
     "text": [
      "\n"
     ]
    },
    {
     "name": "stdout",
     "output_type": "stream",
     "text": [
      "Applying Scaler to persistence diagrams.\n",
      "Got the result from ./1/test/filtrations/2/RadialFiltration_51_12/red/diagrams.npy\n",
      "Applying Scaler to persistence diagrams.\n",
      "Got the result from ./1/test/filtrations/2/RadialFiltration_51_12/green/diagrams.npy\n",
      "Applying Scaler to persistence diagrams.\n",
      "Got the result from ./1/test/filtrations/2/RadialFiltration_51_12/blue/diagrams.npy\n",
      "Applying Scaler to persistence diagrams.\n",
      "Applying filtration 22/72: 2/RadialFiltration_51_25\n",
      "RGB images received. Transforming to grayscale.\n"
     ]
    },
    {
     "name": "stderr",
     "output_type": "stream",
     "text": [
      "rgb2gray: 100%|██████████| 134/134 [00:00<00:00, 4060.49it/s]"
     ]
    },
    {
     "name": "stdout",
     "output_type": "stream",
     "text": [
      "Got the result from ./1/test/filtrations/2/RadialFiltration_51_25/gray/diagrams.npy\n",
      "Applying Scaler to persistence diagrams."
     ]
    },
    {
     "name": "stderr",
     "output_type": "stream",
     "text": [
      "\n"
     ]
    },
    {
     "name": "stdout",
     "output_type": "stream",
     "text": [
      "\n",
      "Got the result from ./1/test/filtrations/2/RadialFiltration_51_25/red/diagrams.npy\n",
      "Applying Scaler to persistence diagrams.\n",
      "Got the result from ./1/test/filtrations/2/RadialFiltration_51_25/green/diagrams.npy\n",
      "Applying Scaler to persistence diagrams.\n",
      "Got the result from ./1/test/filtrations/2/RadialFiltration_51_25/blue/diagrams.npy\n",
      "Applying Scaler to persistence diagrams.\n",
      "Applying filtration 23/72: 2/RadialFiltration_51_38\n",
      "RGB images received. Transforming to grayscale.\n"
     ]
    },
    {
     "name": "stderr",
     "output_type": "stream",
     "text": [
      "rgb2gray: 100%|██████████| 134/134 [00:00<00:00, 4322.63it/s]"
     ]
    },
    {
     "name": "stdout",
     "output_type": "stream",
     "text": [
      "Got the result from ./1/test/filtrations/2/RadialFiltration_51_38/gray/diagrams.npy\n",
      "Applying Scaler to persistence diagrams."
     ]
    },
    {
     "name": "stderr",
     "output_type": "stream",
     "text": [
      "\n"
     ]
    },
    {
     "name": "stdout",
     "output_type": "stream",
     "text": [
      "\n",
      "Got the result from ./1/test/filtrations/2/RadialFiltration_51_38/red/diagrams.npy\n",
      "Applying Scaler to persistence diagrams.\n",
      "Got the result from ./1/test/filtrations/2/RadialFiltration_51_38/green/diagrams.npy\n",
      "Applying Scaler to persistence diagrams.\n",
      "Got the result from ./1/test/filtrations/2/RadialFiltration_51_38/blue/diagrams.npy\n",
      "Applying Scaler to persistence diagrams.\n",
      "Applying filtration 24/72: 2/RadialFiltration_51_51\n",
      "RGB images received. Transforming to grayscale.\n"
     ]
    },
    {
     "name": "stderr",
     "output_type": "stream",
     "text": [
      "rgb2gray: 100%|██████████| 134/134 [00:00<00:00, 2734.53it/s]\n"
     ]
    },
    {
     "name": "stdout",
     "output_type": "stream",
     "text": [
      "Got the result from ./1/test/filtrations/2/RadialFiltration_51_51/gray/diagrams.npy\n",
      "Applying Scaler to persistence diagrams.\n",
      "Got the result from ./1/test/filtrations/2/RadialFiltration_51_51/red/diagrams.npy\n",
      "Applying Scaler to persistence diagrams.\n",
      "Got the result from ./1/test/filtrations/2/RadialFiltration_51_51/green/diagrams.npy\n",
      "Applying Scaler to persistence diagrams.\n",
      "Got the result from ./1/test/filtrations/2/RadialFiltration_51_51/blue/diagrams.npy\n",
      "Applying Scaler to persistence diagrams.\n",
      "Applying filtration 25/72: 4/HeightFiltrartion_-1_-1\n",
      "RGB images received. Transforming to grayscale.\n"
     ]
    },
    {
     "name": "stderr",
     "output_type": "stream",
     "text": [
      "rgb2gray: 100%|██████████| 134/134 [00:00<00:00, 4187.65it/s]\n"
     ]
    },
    {
     "name": "stdout",
     "output_type": "stream",
     "text": [
      "Got the result from ./1/test/filtrations/4/HeightFiltrartion_-1_-1/gray/diagrams.npy\n",
      "Applying Scaler to persistence diagrams.\n",
      "Got the result from ./1/test/filtrations/4/HeightFiltrartion_-1_-1/red/diagrams.npy\n",
      "Applying Scaler to persistence diagrams.\n",
      "Got the result from ./1/test/filtrations/4/HeightFiltrartion_-1_-1/green/diagrams.npy\n",
      "Applying Scaler to persistence diagrams.\n",
      "Got the result from ./1/test/filtrations/4/HeightFiltrartion_-1_-1/blue/diagrams.npy\n",
      "Applying Scaler to persistence diagrams.\n",
      "Applying filtration 26/72: 4/HeightFiltrartion_1_1\n",
      "RGB images received. Transforming to grayscale.\n"
     ]
    },
    {
     "name": "stderr",
     "output_type": "stream",
     "text": [
      "rgb2gray: 100%|██████████| 134/134 [00:00<00:00, 3722.57it/s]"
     ]
    },
    {
     "name": "stdout",
     "output_type": "stream",
     "text": [
      "Got the result from ./1/test/filtrations/4/HeightFiltrartion_1_1/gray/diagrams.npy"
     ]
    },
    {
     "name": "stderr",
     "output_type": "stream",
     "text": [
      "\n"
     ]
    },
    {
     "name": "stdout",
     "output_type": "stream",
     "text": [
      "\n",
      "Applying Scaler to persistence diagrams.\n",
      "Got the result from ./1/test/filtrations/4/HeightFiltrartion_1_1/red/diagrams.npy\n",
      "Applying Scaler to persistence diagrams.\n",
      "Got the result from ./1/test/filtrations/4/HeightFiltrartion_1_1/green/diagrams.npy\n",
      "Applying Scaler to persistence diagrams.\n",
      "Got the result from ./1/test/filtrations/4/HeightFiltrartion_1_1/blue/diagrams.npy\n",
      "Applying Scaler to persistence diagrams.\n",
      "Applying filtration 27/72: 4/HeightFiltrartion_1_-1\n",
      "RGB images received. Transforming to grayscale.\n"
     ]
    },
    {
     "name": "stderr",
     "output_type": "stream",
     "text": [
      "rgb2gray: 100%|██████████| 134/134 [00:00<00:00, 4468.27it/s]"
     ]
    },
    {
     "name": "stdout",
     "output_type": "stream",
     "text": [
      "Got the result from ./1/test/filtrations/4/HeightFiltrartion_1_-1/gray/diagrams.npy"
     ]
    },
    {
     "name": "stderr",
     "output_type": "stream",
     "text": [
      "\n"
     ]
    },
    {
     "name": "stdout",
     "output_type": "stream",
     "text": [
      "\n",
      "Applying Scaler to persistence diagrams.\n",
      "Got the result from ./1/test/filtrations/4/HeightFiltrartion_1_-1/red/diagrams.npy\n",
      "Applying Scaler to persistence diagrams.\n",
      "Got the result from ./1/test/filtrations/4/HeightFiltrartion_1_-1/green/diagrams.npy\n",
      "Applying Scaler to persistence diagrams.\n",
      "Got the result from ./1/test/filtrations/4/HeightFiltrartion_1_-1/blue/diagrams.npy\n",
      "Applying Scaler to persistence diagrams.\n",
      "Applying filtration 28/72: 4/HeightFiltrartion_-1_1\n",
      "RGB images received. Transforming to grayscale.\n"
     ]
    },
    {
     "name": "stderr",
     "output_type": "stream",
     "text": [
      "rgb2gray: 100%|██████████| 134/134 [00:00<00:00, 4322.53it/s]\n"
     ]
    },
    {
     "name": "stdout",
     "output_type": "stream",
     "text": [
      "Got the result from ./1/test/filtrations/4/HeightFiltrartion_-1_1/gray/diagrams.npy\n",
      "Applying Scaler to persistence diagrams.\n",
      "Got the result from ./1/test/filtrations/4/HeightFiltrartion_-1_1/red/diagrams.npy\n",
      "Applying Scaler to persistence diagrams.\n",
      "Got the result from ./1/test/filtrations/4/HeightFiltrartion_-1_1/green/diagrams.npy\n",
      "Applying Scaler to persistence diagrams.\n",
      "Got the result from ./1/test/filtrations/4/HeightFiltrartion_-1_1/blue/diagrams.npy\n",
      "Applying Scaler to persistence diagrams.\n",
      "Applying filtration 29/72: 4/HeightFiltrartion_0_-1\n",
      "RGB images received. Transforming to grayscale.\n"
     ]
    },
    {
     "name": "stderr",
     "output_type": "stream",
     "text": [
      "rgb2gray: 100%|██████████| 134/134 [00:00<00:00, 4620.87it/s]\n"
     ]
    },
    {
     "name": "stdout",
     "output_type": "stream",
     "text": [
      "Got the result from ./1/test/filtrations/4/HeightFiltrartion_0_-1/gray/diagrams.npy\n",
      "Applying Scaler to persistence diagrams.\n",
      "Got the result from ./1/test/filtrations/4/HeightFiltrartion_0_-1/red/diagrams.npy\n",
      "Applying Scaler to persistence diagrams.\n",
      "Got the result from ./1/test/filtrations/4/HeightFiltrartion_0_-1/green/diagrams.npy\n",
      "Applying Scaler to persistence diagrams.\n",
      "Got the result from ./1/test/filtrations/4/HeightFiltrartion_0_-1/blue/diagrams.npy\n",
      "Applying Scaler to persistence diagrams.\n",
      "Applying filtration 30/72: 4/HeightFiltrartion_0_1\n",
      "RGB images received. Transforming to grayscale.\n"
     ]
    },
    {
     "name": "stderr",
     "output_type": "stream",
     "text": [
      "rgb2gray: 100%|██████████| 134/134 [00:00<00:00, 3116.18it/s]\n"
     ]
    },
    {
     "name": "stdout",
     "output_type": "stream",
     "text": [
      "Got the result from ./1/test/filtrations/4/HeightFiltrartion_0_1/gray/diagrams.npy\n",
      "Applying Scaler to persistence diagrams.\n",
      "Got the result from ./1/test/filtrations/4/HeightFiltrartion_0_1/red/diagrams.npy\n",
      "Applying Scaler to persistence diagrams.\n",
      "Got the result from ./1/test/filtrations/4/HeightFiltrartion_0_1/green/diagrams.npy\n",
      "Applying Scaler to persistence diagrams.\n",
      "Got the result from ./1/test/filtrations/4/HeightFiltrartion_0_1/blue/diagrams.npy\n",
      "Applying Scaler to persistence diagrams.\n",
      "Applying filtration 31/72: 4/HeightFiltrartion_-1_0\n",
      "RGB images received. Transforming to grayscale.\n"
     ]
    },
    {
     "name": "stderr",
     "output_type": "stream",
     "text": [
      "rgb2gray: 100%|██████████| 134/134 [00:00<00:00, 4187.52it/s]"
     ]
    },
    {
     "name": "stdout",
     "output_type": "stream",
     "text": [
      "Got the result from ./1/test/filtrations/4/HeightFiltrartion_-1_0/gray/diagrams.npy"
     ]
    },
    {
     "name": "stderr",
     "output_type": "stream",
     "text": [
      "\n"
     ]
    },
    {
     "name": "stdout",
     "output_type": "stream",
     "text": [
      "\n",
      "Applying Scaler to persistence diagrams.\n",
      "Got the result from ./1/test/filtrations/4/HeightFiltrartion_-1_0/red/diagrams.npy\n",
      "Applying Scaler to persistence diagrams.\n",
      "Got the result from ./1/test/filtrations/4/HeightFiltrartion_-1_0/green/diagrams.npy\n",
      "Applying Scaler to persistence diagrams.\n",
      "Got the result from ./1/test/filtrations/4/HeightFiltrartion_-1_0/blue/diagrams.npy\n",
      "Applying Scaler to persistence diagrams.\n",
      "Applying filtration 32/72: 4/HeightFiltrartion_1_0\n",
      "RGB images received. Transforming to grayscale.\n"
     ]
    },
    {
     "name": "stderr",
     "output_type": "stream",
     "text": [
      "rgb2gray: 100%|██████████| 134/134 [00:00<00:00, 4324.92it/s]"
     ]
    },
    {
     "name": "stdout",
     "output_type": "stream",
     "text": [
      "Got the result from ./1/test/filtrations/4/HeightFiltrartion_1_0/gray/diagrams.npy"
     ]
    },
    {
     "name": "stderr",
     "output_type": "stream",
     "text": [
      "\n"
     ]
    },
    {
     "name": "stdout",
     "output_type": "stream",
     "text": [
      "\n",
      "Applying Scaler to persistence diagrams.\n",
      "Got the result from ./1/test/filtrations/4/HeightFiltrartion_1_0/red/diagrams.npy\n",
      "Applying Scaler to persistence diagrams.\n",
      "Got the result from ./1/test/filtrations/4/HeightFiltrartion_1_0/green/diagrams.npy\n",
      "Applying Scaler to persistence diagrams.\n",
      "Got the result from ./1/test/filtrations/4/HeightFiltrartion_1_0/blue/diagrams.npy\n",
      "Applying Scaler to persistence diagrams.\n",
      "Applying filtration 33/72: 4/RadialFiltration_12_12\n",
      "RGB images received. Transforming to grayscale.\n"
     ]
    },
    {
     "name": "stderr",
     "output_type": "stream",
     "text": [
      "rgb2gray: 100%|██████████| 134/134 [00:00<00:00, 4466.71it/s]\n"
     ]
    },
    {
     "name": "stdout",
     "output_type": "stream",
     "text": [
      "Got the result from ./1/test/filtrations/4/RadialFiltration_12_12/gray/diagrams.npy\n",
      "Applying Scaler to persistence diagrams.\n",
      "Got the result from ./1/test/filtrations/4/RadialFiltration_12_12/red/diagrams.npy\n",
      "Applying Scaler to persistence diagrams.\n",
      "Got the result from ./1/test/filtrations/4/RadialFiltration_12_12/green/diagrams.npy\n",
      "Applying Scaler to persistence diagrams.\n",
      "Got the result from ./1/test/filtrations/4/RadialFiltration_12_12/blue/diagrams.npy\n",
      "Applying Scaler to persistence diagrams.\n",
      "Applying filtration 34/72: 4/RadialFiltration_12_25\n",
      "RGB images received. Transforming to grayscale.\n"
     ]
    },
    {
     "name": "stderr",
     "output_type": "stream",
     "text": [
      "rgb2gray: 100%|██████████| 134/134 [00:00<00:00, 4466.56it/s]"
     ]
    },
    {
     "name": "stdout",
     "output_type": "stream",
     "text": [
      "Got the result from ./1/test/filtrations/4/RadialFiltration_12_25/gray/diagrams.npy"
     ]
    },
    {
     "name": "stderr",
     "output_type": "stream",
     "text": [
      "\n"
     ]
    },
    {
     "name": "stdout",
     "output_type": "stream",
     "text": [
      "\n",
      "Applying Scaler to persistence diagrams.\n",
      "Got the result from ./1/test/filtrations/4/RadialFiltration_12_25/red/diagrams.npy\n",
      "Applying Scaler to persistence diagrams.\n",
      "Got the result from ./1/test/filtrations/4/RadialFiltration_12_25/green/diagrams.npy\n",
      "Applying Scaler to persistence diagrams.\n",
      "Got the result from ./1/test/filtrations/4/RadialFiltration_12_25/blue/diagrams.npy\n",
      "Applying Scaler to persistence diagrams.\n",
      "Applying filtration 35/72: 4/RadialFiltration_12_38\n",
      "RGB images received. Transforming to grayscale.\n"
     ]
    },
    {
     "name": "stderr",
     "output_type": "stream",
     "text": [
      "rgb2gray: 100%|██████████| 134/134 [00:00<00:00, 4322.79it/s]"
     ]
    },
    {
     "name": "stdout",
     "output_type": "stream",
     "text": [
      "Got the result from ./1/test/filtrations/4/RadialFiltration_12_38/gray/diagrams.npy\n"
     ]
    },
    {
     "name": "stderr",
     "output_type": "stream",
     "text": [
      "\n"
     ]
    },
    {
     "name": "stdout",
     "output_type": "stream",
     "text": [
      "Applying Scaler to persistence diagrams.\n",
      "Got the result from ./1/test/filtrations/4/RadialFiltration_12_38/red/diagrams.npy\n",
      "Applying Scaler to persistence diagrams.\n",
      "Got the result from ./1/test/filtrations/4/RadialFiltration_12_38/green/diagrams.npy\n",
      "Applying Scaler to persistence diagrams.\n",
      "Got the result from ./1/test/filtrations/4/RadialFiltration_12_38/blue/diagrams.npy\n",
      "Applying Scaler to persistence diagrams.\n",
      "Applying filtration 36/72: 4/RadialFiltration_12_51\n",
      "RGB images received. Transforming to grayscale.\n"
     ]
    },
    {
     "name": "stderr",
     "output_type": "stream",
     "text": [
      "rgb2gray: 100%|██████████| 134/134 [00:00<00:00, 2851.00it/s]\n"
     ]
    },
    {
     "name": "stdout",
     "output_type": "stream",
     "text": [
      "Got the result from ./1/test/filtrations/4/RadialFiltration_12_51/gray/diagrams.npy\n",
      "Applying Scaler to persistence diagrams.\n",
      "Got the result from ./1/test/filtrations/4/RadialFiltration_12_51/red/diagrams.npy\n",
      "Applying Scaler to persistence diagrams.\n",
      "Got the result from ./1/test/filtrations/4/RadialFiltration_12_51/green/diagrams.npy\n",
      "Applying Scaler to persistence diagrams.\n",
      "Got the result from ./1/test/filtrations/4/RadialFiltration_12_51/blue/diagrams.npy\n",
      "Applying Scaler to persistence diagrams.\n",
      "Applying filtration 37/72: 4/RadialFiltration_25_12\n",
      "RGB images received. Transforming to grayscale.\n"
     ]
    },
    {
     "name": "stderr",
     "output_type": "stream",
     "text": [
      "rgb2gray: 100%|██████████| 134/134 [00:00<00:00, 4060.75it/s]"
     ]
    },
    {
     "name": "stdout",
     "output_type": "stream",
     "text": [
      "Got the result from ./1/test/filtrations/4/RadialFiltration_25_12/gray/diagrams.npy\n"
     ]
    },
    {
     "name": "stderr",
     "output_type": "stream",
     "text": [
      "\n"
     ]
    },
    {
     "name": "stdout",
     "output_type": "stream",
     "text": [
      "Applying Scaler to persistence diagrams.\n",
      "Got the result from ./1/test/filtrations/4/RadialFiltration_25_12/red/diagrams.npy\n",
      "Applying Scaler to persistence diagrams.\n",
      "Got the result from ./1/test/filtrations/4/RadialFiltration_25_12/green/diagrams.npy\n",
      "Applying Scaler to persistence diagrams.\n",
      "Got the result from ./1/test/filtrations/4/RadialFiltration_25_12/blue/diagrams.npy\n",
      "Applying Scaler to persistence diagrams.\n",
      "Applying filtration 38/72: 4/RadialFiltration_25_25\n",
      "RGB images received. Transforming to grayscale.\n"
     ]
    },
    {
     "name": "stderr",
     "output_type": "stream",
     "text": [
      "rgb2gray: 100%|██████████| 134/134 [00:00<00:00, 4060.52it/s]"
     ]
    },
    {
     "name": "stdout",
     "output_type": "stream",
     "text": [
      "Got the result from ./1/test/filtrations/4/RadialFiltration_25_25/gray/diagrams.npy"
     ]
    },
    {
     "name": "stderr",
     "output_type": "stream",
     "text": [
      "\n"
     ]
    },
    {
     "name": "stdout",
     "output_type": "stream",
     "text": [
      "\n",
      "Applying Scaler to persistence diagrams.\n",
      "Got the result from ./1/test/filtrations/4/RadialFiltration_25_25/red/diagrams.npy\n",
      "Applying Scaler to persistence diagrams.\n",
      "Got the result from ./1/test/filtrations/4/RadialFiltration_25_25/green/diagrams.npy\n",
      "Applying Scaler to persistence diagrams.\n",
      "Got the result from ./1/test/filtrations/4/RadialFiltration_25_25/blue/diagrams.npy\n",
      "Applying Scaler to persistence diagrams.\n",
      "Applying filtration 39/72: 4/RadialFiltration_25_38\n",
      "RGB images received. Transforming to grayscale.\n"
     ]
    },
    {
     "name": "stderr",
     "output_type": "stream",
     "text": [
      "rgb2gray: 100%|██████████| 134/134 [00:00<00:00, 4322.89it/s]"
     ]
    },
    {
     "name": "stdout",
     "output_type": "stream",
     "text": [
      "Got the result from ./1/test/filtrations/4/RadialFiltration_25_38/gray/diagrams.npy\n"
     ]
    },
    {
     "name": "stderr",
     "output_type": "stream",
     "text": [
      "\n"
     ]
    },
    {
     "name": "stdout",
     "output_type": "stream",
     "text": [
      "Applying Scaler to persistence diagrams.\n",
      "Got the result from ./1/test/filtrations/4/RadialFiltration_25_38/red/diagrams.npy\n",
      "Applying Scaler to persistence diagrams.\n",
      "Got the result from ./1/test/filtrations/4/RadialFiltration_25_38/green/diagrams.npy\n",
      "Applying Scaler to persistence diagrams.\n",
      "Got the result from ./1/test/filtrations/4/RadialFiltration_25_38/blue/diagrams.npy\n",
      "Applying Scaler to persistence diagrams.\n",
      "Applying filtration 40/72: 4/RadialFiltration_25_51\n",
      "RGB images received. Transforming to grayscale.\n"
     ]
    },
    {
     "name": "stderr",
     "output_type": "stream",
     "text": [
      "rgb2gray: 100%|██████████| 134/134 [00:00<00:00, 4060.67it/s]"
     ]
    },
    {
     "name": "stdout",
     "output_type": "stream",
     "text": [
      "Got the result from ./1/test/filtrations/4/RadialFiltration_25_51/gray/diagrams.npy\n"
     ]
    },
    {
     "name": "stderr",
     "output_type": "stream",
     "text": [
      "\n"
     ]
    },
    {
     "name": "stdout",
     "output_type": "stream",
     "text": [
      "Applying Scaler to persistence diagrams.\n",
      "Got the result from ./1/test/filtrations/4/RadialFiltration_25_51/red/diagrams.npy\n",
      "Applying Scaler to persistence diagrams.\n",
      "Got the result from ./1/test/filtrations/4/RadialFiltration_25_51/green/diagrams.npy\n",
      "Applying Scaler to persistence diagrams.\n",
      "Got the result from ./1/test/filtrations/4/RadialFiltration_25_51/blue/diagrams.npy\n",
      "Applying Scaler to persistence diagrams.\n",
      "Applying filtration 41/72: 4/RadialFiltration_38_12\n",
      "RGB images received. Transforming to grayscale.\n"
     ]
    },
    {
     "name": "stderr",
     "output_type": "stream",
     "text": [
      "rgb2gray: 100%|██████████| 134/134 [00:00<00:00, 3045.31it/s]\n"
     ]
    },
    {
     "name": "stdout",
     "output_type": "stream",
     "text": [
      "Got the result from ./1/test/filtrations/4/RadialFiltration_38_12/gray/diagrams.npy\n",
      "Applying Scaler to persistence diagrams.\n",
      "Got the result from ./1/test/filtrations/4/RadialFiltration_38_12/red/diagrams.npy\n",
      "Applying Scaler to persistence diagrams.\n",
      "Got the result from ./1/test/filtrations/4/RadialFiltration_38_12/green/diagrams.npy\n",
      "Applying Scaler to persistence diagrams.\n",
      "Got the result from ./1/test/filtrations/4/RadialFiltration_38_12/blue/diagrams.npy\n",
      "Applying Scaler to persistence diagrams.\n",
      "Applying filtration 42/72: 4/RadialFiltration_38_25\n",
      "RGB images received. Transforming to grayscale.\n"
     ]
    },
    {
     "name": "stderr",
     "output_type": "stream",
     "text": [
      "rgb2gray: 100%|██████████| 134/134 [00:00<00:00, 4466.49it/s]\n"
     ]
    },
    {
     "name": "stdout",
     "output_type": "stream",
     "text": [
      "Got the result from ./1/test/filtrations/4/RadialFiltration_38_25/gray/diagrams.npy\n",
      "Applying Scaler to persistence diagrams.\n",
      "Got the result from ./1/test/filtrations/4/RadialFiltration_38_25/red/diagrams.npy\n",
      "Applying Scaler to persistence diagrams.\n",
      "Got the result from ./1/test/filtrations/4/RadialFiltration_38_25/green/diagrams.npy\n",
      "Applying Scaler to persistence diagrams.\n",
      "Got the result from ./1/test/filtrations/4/RadialFiltration_38_25/blue/diagrams.npy\n",
      "Applying Scaler to persistence diagrams.\n",
      "Applying filtration 43/72: 4/RadialFiltration_38_38\n",
      "RGB images received. Transforming to grayscale.\n"
     ]
    },
    {
     "name": "stderr",
     "output_type": "stream",
     "text": [
      "rgb2gray: 100%|██████████| 134/134 [00:00<00:00, 4322.59it/s]\n"
     ]
    },
    {
     "name": "stdout",
     "output_type": "stream",
     "text": [
      "Got the result from ./1/test/filtrations/4/RadialFiltration_38_38/gray/diagrams.npy\n",
      "Applying Scaler to persistence diagrams.\n",
      "Got the result from ./1/test/filtrations/4/RadialFiltration_38_38/red/diagrams.npy\n",
      "Applying Scaler to persistence diagrams.\n",
      "Got the result from ./1/test/filtrations/4/RadialFiltration_38_38/green/diagrams.npy\n",
      "Applying Scaler to persistence diagrams.\n",
      "Got the result from ./1/test/filtrations/4/RadialFiltration_38_38/blue/diagrams.npy\n",
      "Applying Scaler to persistence diagrams.\n",
      "Applying filtration 44/72: 4/RadialFiltration_38_51\n",
      "RGB images received. Transforming to grayscale.\n"
     ]
    },
    {
     "name": "stderr",
     "output_type": "stream",
     "text": [
      "rgb2gray: 100%|██████████| 134/134 [00:00<00:00, 4620.76it/s]"
     ]
    },
    {
     "name": "stdout",
     "output_type": "stream",
     "text": [
      "Got the result from ./1/test/filtrations/4/RadialFiltration_38_51/gray/diagrams.npy"
     ]
    },
    {
     "name": "stderr",
     "output_type": "stream",
     "text": [
      "\n"
     ]
    },
    {
     "name": "stdout",
     "output_type": "stream",
     "text": [
      "\n",
      "Applying Scaler to persistence diagrams.\n",
      "Got the result from ./1/test/filtrations/4/RadialFiltration_38_51/red/diagrams.npy\n",
      "Applying Scaler to persistence diagrams.\n",
      "Got the result from ./1/test/filtrations/4/RadialFiltration_38_51/green/diagrams.npy\n",
      "Applying Scaler to persistence diagrams.\n",
      "Got the result from ./1/test/filtrations/4/RadialFiltration_38_51/blue/diagrams.npy\n",
      "Applying Scaler to persistence diagrams.\n",
      "Applying filtration 45/72: 4/RadialFiltration_51_12\n",
      "RGB images received. Transforming to grayscale.\n"
     ]
    },
    {
     "name": "stderr",
     "output_type": "stream",
     "text": [
      "rgb2gray: 100%|██████████| 134/134 [00:00<00:00, 4466.60it/s]"
     ]
    },
    {
     "name": "stdout",
     "output_type": "stream",
     "text": [
      "Got the result from ./1/test/filtrations/4/RadialFiltration_51_12/gray/diagrams.npy"
     ]
    },
    {
     "name": "stderr",
     "output_type": "stream",
     "text": [
      "\n"
     ]
    },
    {
     "name": "stdout",
     "output_type": "stream",
     "text": [
      "\n",
      "Applying Scaler to persistence diagrams.\n",
      "Got the result from ./1/test/filtrations/4/RadialFiltration_51_12/red/diagrams.npy\n",
      "Applying Scaler to persistence diagrams.\n",
      "Got the result from ./1/test/filtrations/4/RadialFiltration_51_12/green/diagrams.npy\n",
      "Applying Scaler to persistence diagrams.\n",
      "Got the result from ./1/test/filtrations/4/RadialFiltration_51_12/blue/diagrams.npy\n",
      "Applying Scaler to persistence diagrams.\n",
      "Applying filtration 46/72: 4/RadialFiltration_51_25\n",
      "RGB images received. Transforming to grayscale.\n"
     ]
    },
    {
     "name": "stderr",
     "output_type": "stream",
     "text": [
      "rgb2gray: 100%|██████████| 134/134 [00:00<00:00, 4322.73it/s]"
     ]
    },
    {
     "name": "stdout",
     "output_type": "stream",
     "text": [
      "Got the result from ./1/test/filtrations/4/RadialFiltration_51_25/gray/diagrams.npy\n"
     ]
    },
    {
     "name": "stderr",
     "output_type": "stream",
     "text": [
      "\n"
     ]
    },
    {
     "name": "stdout",
     "output_type": "stream",
     "text": [
      "Applying Scaler to persistence diagrams.\n",
      "Got the result from ./1/test/filtrations/4/RadialFiltration_51_25/red/diagrams.npy\n",
      "Applying Scaler to persistence diagrams.\n",
      "Got the result from ./1/test/filtrations/4/RadialFiltration_51_25/green/diagrams.npy\n",
      "Applying Scaler to persistence diagrams.\n",
      "Got the result from ./1/test/filtrations/4/RadialFiltration_51_25/blue/diagrams.npy\n",
      "Applying Scaler to persistence diagrams.\n",
      "Applying filtration 47/72: 4/RadialFiltration_51_38\n",
      "RGB images received. Transforming to grayscale.\n"
     ]
    },
    {
     "name": "stderr",
     "output_type": "stream",
     "text": [
      "rgb2gray: 100%|██████████| 134/134 [00:00<00:00, 2679.81it/s]\n"
     ]
    },
    {
     "name": "stdout",
     "output_type": "stream",
     "text": [
      "Got the result from ./1/test/filtrations/4/RadialFiltration_51_38/gray/diagrams.npy\n",
      "Applying Scaler to persistence diagrams.\n",
      "Got the result from ./1/test/filtrations/4/RadialFiltration_51_38/red/diagrams.npy\n",
      "Applying Scaler to persistence diagrams.\n",
      "Got the result from ./1/test/filtrations/4/RadialFiltration_51_38/green/diagrams.npy\n",
      "Applying Scaler to persistence diagrams.\n",
      "Got the result from ./1/test/filtrations/4/RadialFiltration_51_38/blue/diagrams.npy\n",
      "Applying Scaler to persistence diagrams.\n",
      "Applying filtration 48/72: 4/RadialFiltration_51_51\n",
      "RGB images received. Transforming to grayscale.\n"
     ]
    },
    {
     "name": "stderr",
     "output_type": "stream",
     "text": [
      "rgb2gray: 100%|██████████| 134/134 [00:00<00:00, 4187.49it/s]\n"
     ]
    },
    {
     "name": "stdout",
     "output_type": "stream",
     "text": [
      "Got the result from ./1/test/filtrations/4/RadialFiltration_51_51/gray/diagrams.npy\n",
      "Applying Scaler to persistence diagrams.\n",
      "Got the result from ./1/test/filtrations/4/RadialFiltration_51_51/red/diagrams.npy\n",
      "Applying Scaler to persistence diagrams.\n",
      "Got the result from ./1/test/filtrations/4/RadialFiltration_51_51/green/diagrams.npy\n",
      "Applying Scaler to persistence diagrams.\n",
      "Got the result from ./1/test/filtrations/4/RadialFiltration_51_51/blue/diagrams.npy\n",
      "Applying Scaler to persistence diagrams.\n",
      "Applying filtration 49/72: 6/HeightFiltrartion_-1_-1\n",
      "RGB images received. Transforming to grayscale.\n"
     ]
    },
    {
     "name": "stderr",
     "output_type": "stream",
     "text": [
      "rgb2gray: 100%|██████████| 134/134 [00:00<00:00, 4322.50it/s]"
     ]
    },
    {
     "name": "stdout",
     "output_type": "stream",
     "text": [
      "Got the result from ./1/test/filtrations/6/HeightFiltrartion_-1_-1/gray/diagrams.npy"
     ]
    },
    {
     "name": "stderr",
     "output_type": "stream",
     "text": [
      "\n"
     ]
    },
    {
     "name": "stdout",
     "output_type": "stream",
     "text": [
      "\n",
      "Applying Scaler to persistence diagrams.\n",
      "Got the result from ./1/test/filtrations/6/HeightFiltrartion_-1_-1/red/diagrams.npy\n",
      "Applying Scaler to persistence diagrams.\n",
      "Got the result from ./1/test/filtrations/6/HeightFiltrartion_-1_-1/green/diagrams.npy\n",
      "Applying Scaler to persistence diagrams.\n",
      "Got the result from ./1/test/filtrations/6/HeightFiltrartion_-1_-1/blue/diagrams.npy\n",
      "Applying Scaler to persistence diagrams.\n",
      "Applying filtration 50/72: 6/HeightFiltrartion_1_1\n",
      "RGB images received. Transforming to grayscale.\n"
     ]
    },
    {
     "name": "stderr",
     "output_type": "stream",
     "text": [
      "rgb2gray: 100%|██████████| 134/134 [00:00<00:00, 4060.64it/s]"
     ]
    },
    {
     "name": "stdout",
     "output_type": "stream",
     "text": [
      "Got the result from ./1/test/filtrations/6/HeightFiltrartion_1_1/gray/diagrams.npy"
     ]
    },
    {
     "name": "stderr",
     "output_type": "stream",
     "text": [
      "\n"
     ]
    },
    {
     "name": "stdout",
     "output_type": "stream",
     "text": [
      "\n",
      "Applying Scaler to persistence diagrams.\n",
      "Got the result from ./1/test/filtrations/6/HeightFiltrartion_1_1/red/diagrams.npy\n",
      "Applying Scaler to persistence diagrams.\n",
      "Got the result from ./1/test/filtrations/6/HeightFiltrartion_1_1/green/diagrams.npy\n",
      "Applying Scaler to persistence diagrams.\n",
      "Got the result from ./1/test/filtrations/6/HeightFiltrartion_1_1/blue/diagrams.npy\n",
      "Applying Scaler to persistence diagrams.\n",
      "Applying filtration 51/72: 6/HeightFiltrartion_1_-1\n",
      "RGB images received. Transforming to grayscale.\n"
     ]
    },
    {
     "name": "stderr",
     "output_type": "stream",
     "text": [
      "rgb2gray: 100%|██████████| 134/134 [00:00<00:00, 4322.86it/s]"
     ]
    },
    {
     "name": "stdout",
     "output_type": "stream",
     "text": [
      "Got the result from ./1/test/filtrations/6/HeightFiltrartion_1_-1/gray/diagrams.npy\n"
     ]
    },
    {
     "name": "stderr",
     "output_type": "stream",
     "text": [
      "\n"
     ]
    },
    {
     "name": "stdout",
     "output_type": "stream",
     "text": [
      "Applying Scaler to persistence diagrams.\n",
      "Got the result from ./1/test/filtrations/6/HeightFiltrartion_1_-1/red/diagrams.npy\n",
      "Applying Scaler to persistence diagrams.\n",
      "Got the result from ./1/test/filtrations/6/HeightFiltrartion_1_-1/green/diagrams.npy\n",
      "Applying Scaler to persistence diagrams.\n",
      "Got the result from ./1/test/filtrations/6/HeightFiltrartion_1_-1/blue/diagrams.npy\n",
      "Applying Scaler to persistence diagrams.\n",
      "Applying filtration 52/72: 6/HeightFiltrartion_-1_1\n",
      "RGB images received. Transforming to grayscale.\n"
     ]
    },
    {
     "name": "stderr",
     "output_type": "stream",
     "text": [
      "rgb2gray: 100%|██████████| 134/134 [00:00<00:00, 4466.60it/s]\n"
     ]
    },
    {
     "name": "stdout",
     "output_type": "stream",
     "text": [
      "Got the result from ./1/test/filtrations/6/HeightFiltrartion_-1_1/gray/diagrams.npy\n",
      "Applying Scaler to persistence diagrams.\n",
      "Got the result from ./1/test/filtrations/6/HeightFiltrartion_-1_1/red/diagrams.npy\n",
      "Applying Scaler to persistence diagrams.\n",
      "Got the result from ./1/test/filtrations/6/HeightFiltrartion_-1_1/green/diagrams.npy\n",
      "Applying Scaler to persistence diagrams.\n",
      "Got the result from ./1/test/filtrations/6/HeightFiltrartion_-1_1/blue/diagrams.npy\n",
      "Applying Scaler to persistence diagrams.\n",
      "Applying filtration 53/72: 6/HeightFiltrartion_0_-1\n",
      "RGB images received. Transforming to grayscale.\n"
     ]
    },
    {
     "name": "stderr",
     "output_type": "stream",
     "text": [
      "rgb2gray: 100%|██████████| 134/134 [00:00<00:00, 3721.51it/s]"
     ]
    },
    {
     "name": "stdout",
     "output_type": "stream",
     "text": [
      "Got the result from ./1/test/filtrations/6/HeightFiltrartion_0_-1/gray/diagrams.npy\n"
     ]
    },
    {
     "name": "stderr",
     "output_type": "stream",
     "text": [
      "\n"
     ]
    },
    {
     "name": "stdout",
     "output_type": "stream",
     "text": [
      "Applying Scaler to persistence diagrams.\n",
      "Got the result from ./1/test/filtrations/6/HeightFiltrartion_0_-1/red/diagrams.npy\n",
      "Applying Scaler to persistence diagrams.\n",
      "Got the result from ./1/test/filtrations/6/HeightFiltrartion_0_-1/green/diagrams.npy\n",
      "Applying Scaler to persistence diagrams.\n",
      "Got the result from ./1/test/filtrations/6/HeightFiltrartion_0_-1/blue/diagrams.npy\n",
      "Applying Scaler to persistence diagrams.\n",
      "Applying filtration 54/72: 6/HeightFiltrartion_0_1\n",
      "RGB images received. Transforming to grayscale.\n"
     ]
    },
    {
     "name": "stderr",
     "output_type": "stream",
     "text": [
      "rgb2gray: 100%|██████████| 134/134 [00:00<00:00, 4322.46it/s]"
     ]
    },
    {
     "name": "stdout",
     "output_type": "stream",
     "text": [
      "Got the result from ./1/test/filtrations/6/HeightFiltrartion_0_1/gray/diagrams.npy\n"
     ]
    },
    {
     "name": "stderr",
     "output_type": "stream",
     "text": [
      "\n"
     ]
    },
    {
     "name": "stdout",
     "output_type": "stream",
     "text": [
      "Applying Scaler to persistence diagrams.\n",
      "Got the result from ./1/test/filtrations/6/HeightFiltrartion_0_1/red/diagrams.npy\n",
      "Applying Scaler to persistence diagrams.\n",
      "Got the result from ./1/test/filtrations/6/HeightFiltrartion_0_1/green/diagrams.npy\n",
      "Applying Scaler to persistence diagrams.\n",
      "Got the result from ./1/test/filtrations/6/HeightFiltrartion_0_1/blue/diagrams.npy\n",
      "Applying Scaler to persistence diagrams.\n",
      "Applying filtration 55/72: 6/HeightFiltrartion_-1_0\n",
      "RGB images received. Transforming to grayscale.\n"
     ]
    },
    {
     "name": "stderr",
     "output_type": "stream",
     "text": [
      "rgb2gray: 100%|██████████| 134/134 [00:00<00:00, 4060.70it/s]"
     ]
    },
    {
     "name": "stdout",
     "output_type": "stream",
     "text": [
      "Got the result from ./1/test/filtrations/6/HeightFiltrartion_-1_0/gray/diagrams.npy\n"
     ]
    },
    {
     "name": "stderr",
     "output_type": "stream",
     "text": [
      "\n"
     ]
    },
    {
     "name": "stdout",
     "output_type": "stream",
     "text": [
      "Applying Scaler to persistence diagrams.\n",
      "Got the result from ./1/test/filtrations/6/HeightFiltrartion_-1_0/red/diagrams.npy\n",
      "Applying Scaler to persistence diagrams.\n",
      "Got the result from ./1/test/filtrations/6/HeightFiltrartion_-1_0/green/diagrams.npy\n",
      "Applying Scaler to persistence diagrams.\n",
      "Got the result from ./1/test/filtrations/6/HeightFiltrartion_-1_0/blue/diagrams.npy\n",
      "Applying Scaler to persistence diagrams.\n",
      "Applying filtration 56/72: 6/HeightFiltrartion_1_0\n",
      "RGB images received. Transforming to grayscale.\n"
     ]
    },
    {
     "name": "stderr",
     "output_type": "stream",
     "text": [
      "rgb2gray: 100%|██████████| 134/134 [00:00<00:00, 2977.88it/s]\n"
     ]
    },
    {
     "name": "stdout",
     "output_type": "stream",
     "text": [
      "Got the result from ./1/test/filtrations/6/HeightFiltrartion_1_0/gray/diagrams.npy\n",
      "Applying Scaler to persistence diagrams.\n",
      "Got the result from ./1/test/filtrations/6/HeightFiltrartion_1_0/red/diagrams.npy\n",
      "Applying Scaler to persistence diagrams.\n",
      "Got the result from ./1/test/filtrations/6/HeightFiltrartion_1_0/green/diagrams.npy\n",
      "Applying Scaler to persistence diagrams.\n",
      "Got the result from ./1/test/filtrations/6/HeightFiltrartion_1_0/blue/diagrams.npy\n",
      "Applying Scaler to persistence diagrams.\n",
      "Applying filtration 57/72: 6/RadialFiltration_12_12\n",
      "RGB images received. Transforming to grayscale.\n"
     ]
    },
    {
     "name": "stderr",
     "output_type": "stream",
     "text": [
      "rgb2gray: 100%|██████████| 134/134 [00:00<00:00, 3941.32it/s]\n"
     ]
    },
    {
     "name": "stdout",
     "output_type": "stream",
     "text": [
      "Got the result from ./1/test/filtrations/6/RadialFiltration_12_12/gray/diagrams.npy\n",
      "Applying Scaler to persistence diagrams.\n",
      "Got the result from ./1/test/filtrations/6/RadialFiltration_12_12/red/diagrams.npy\n",
      "Applying Scaler to persistence diagrams.\n",
      "Got the result from ./1/test/filtrations/6/RadialFiltration_12_12/green/diagrams.npy\n",
      "Applying Scaler to persistence diagrams.\n",
      "Got the result from ./1/test/filtrations/6/RadialFiltration_12_12/blue/diagrams.npy\n",
      "Applying Scaler to persistence diagrams.\n",
      "Applying filtration 58/72: 6/RadialFiltration_12_25\n",
      "RGB images received. Transforming to grayscale.\n"
     ]
    },
    {
     "name": "stderr",
     "output_type": "stream",
     "text": [
      "rgb2gray: 100%|██████████| 134/134 [00:00<00:00, 4322.33it/s]\n"
     ]
    },
    {
     "name": "stdout",
     "output_type": "stream",
     "text": [
      "Got the result from ./1/test/filtrations/6/RadialFiltration_12_25/gray/diagrams.npy\n",
      "Applying Scaler to persistence diagrams.\n",
      "Got the result from ./1/test/filtrations/6/RadialFiltration_12_25/red/diagrams.npy\n",
      "Applying Scaler to persistence diagrams.\n",
      "Got the result from ./1/test/filtrations/6/RadialFiltration_12_25/green/diagrams.npy\n",
      "Applying Scaler to persistence diagrams.\n",
      "Got the result from ./1/test/filtrations/6/RadialFiltration_12_25/blue/diagrams.npy\n",
      "Applying Scaler to persistence diagrams.\n",
      "Applying filtration 59/72: 6/RadialFiltration_12_38\n",
      "RGB images received. Transforming to grayscale.\n"
     ]
    },
    {
     "name": "stderr",
     "output_type": "stream",
     "text": [
      "rgb2gray: 100%|██████████| 134/134 [00:00<00:00, 4466.85it/s]\n"
     ]
    },
    {
     "name": "stdout",
     "output_type": "stream",
     "text": [
      "Got the result from ./1/test/filtrations/6/RadialFiltration_12_38/gray/diagrams.npy\n",
      "Applying Scaler to persistence diagrams.\n",
      "Got the result from ./1/test/filtrations/6/RadialFiltration_12_38/red/diagrams.npy\n",
      "Applying Scaler to persistence diagrams.\n",
      "Got the result from ./1/test/filtrations/6/RadialFiltration_12_38/green/diagrams.npy\n",
      "Applying Scaler to persistence diagrams.\n",
      "Got the result from ./1/test/filtrations/6/RadialFiltration_12_38/blue/diagrams.npy\n",
      "Applying Scaler to persistence diagrams.\n",
      "Applying filtration 60/72: 6/RadialFiltration_12_51\n",
      "RGB images received. Transforming to grayscale.\n"
     ]
    },
    {
     "name": "stderr",
     "output_type": "stream",
     "text": [
      "rgb2gray: 100%|██████████| 134/134 [00:00<00:00, 4466.42it/s]\n"
     ]
    },
    {
     "name": "stdout",
     "output_type": "stream",
     "text": [
      "Got the result from ./1/test/filtrations/6/RadialFiltration_12_51/gray/diagrams.npy\n",
      "Applying Scaler to persistence diagrams.\n",
      "Got the result from ./1/test/filtrations/6/RadialFiltration_12_51/red/diagrams.npy\n",
      "Applying Scaler to persistence diagrams.\n",
      "Got the result from ./1/test/filtrations/6/RadialFiltration_12_51/green/diagrams.npy\n",
      "Applying Scaler to persistence diagrams.\n",
      "Got the result from ./1/test/filtrations/6/RadialFiltration_12_51/blue/diagrams.npy\n",
      "Applying Scaler to persistence diagrams.\n",
      "Applying filtration 61/72: 6/RadialFiltration_25_12\n",
      "RGB images received. Transforming to grayscale.\n"
     ]
    },
    {
     "name": "stderr",
     "output_type": "stream",
     "text": [
      "rgb2gray: 100%|██████████| 134/134 [00:00<00:00, 4187.71it/s]\n"
     ]
    },
    {
     "name": "stdout",
     "output_type": "stream",
     "text": [
      "Got the result from ./1/test/filtrations/6/RadialFiltration_25_12/gray/diagrams.npy\n",
      "Applying Scaler to persistence diagrams.\n",
      "Got the result from ./1/test/filtrations/6/RadialFiltration_25_12/red/diagrams.npy\n",
      "Applying Scaler to persistence diagrams.\n",
      "Got the result from ./1/test/filtrations/6/RadialFiltration_25_12/green/diagrams.npy\n",
      "Applying Scaler to persistence diagrams.\n",
      "Got the result from ./1/test/filtrations/6/RadialFiltration_25_12/blue/diagrams.npy\n",
      "Applying Scaler to persistence diagrams.\n",
      "Applying filtration 62/72: 6/RadialFiltration_25_25\n",
      "RGB images received. Transforming to grayscale.\n"
     ]
    },
    {
     "name": "stderr",
     "output_type": "stream",
     "text": [
      "rgb2gray: 100%|██████████| 134/134 [00:00<00:00, 4187.30it/s]\n"
     ]
    },
    {
     "name": "stdout",
     "output_type": "stream",
     "text": [
      "Got the result from ./1/test/filtrations/6/RadialFiltration_25_25/gray/diagrams.npy\n",
      "Applying Scaler to persistence diagrams.\n",
      "Got the result from ./1/test/filtrations/6/RadialFiltration_25_25/red/diagrams.npy\n",
      "Applying Scaler to persistence diagrams.\n",
      "Got the result from ./1/test/filtrations/6/RadialFiltration_25_25/green/diagrams.npy\n",
      "Applying Scaler to persistence diagrams.\n",
      "Got the result from ./1/test/filtrations/6/RadialFiltration_25_25/blue/diagrams.npy\n",
      "Applying Scaler to persistence diagrams.\n",
      "Applying filtration 63/72: 6/RadialFiltration_25_38\n",
      "RGB images received. Transforming to grayscale.\n"
     ]
    },
    {
     "name": "stderr",
     "output_type": "stream",
     "text": [
      "rgb2gray: 100%|██████████| 134/134 [00:00<00:00, 3828.51it/s]\n"
     ]
    },
    {
     "name": "stdout",
     "output_type": "stream",
     "text": [
      "Got the result from ./1/test/filtrations/6/RadialFiltration_25_38/gray/diagrams.npy\n",
      "Applying Scaler to persistence diagrams.\n",
      "Got the result from ./1/test/filtrations/6/RadialFiltration_25_38/red/diagrams.npy\n",
      "Applying Scaler to persistence diagrams.\n",
      "Got the result from ./1/test/filtrations/6/RadialFiltration_25_38/green/diagrams.npy\n",
      "Applying Scaler to persistence diagrams.\n",
      "Got the result from ./1/test/filtrations/6/RadialFiltration_25_38/blue/diagrams.npy\n",
      "Applying Scaler to persistence diagrams.\n",
      "Applying filtration 64/72: 6/RadialFiltration_25_51\n",
      "RGB images received. Transforming to grayscale.\n"
     ]
    },
    {
     "name": "stderr",
     "output_type": "stream",
     "text": [
      "rgb2gray: 100%|██████████| 134/134 [00:00<00:00, 4187.65it/s]\n"
     ]
    },
    {
     "name": "stdout",
     "output_type": "stream",
     "text": [
      "Got the result from ./1/test/filtrations/6/RadialFiltration_25_51/gray/diagrams.npy\n",
      "Applying Scaler to persistence diagrams.\n",
      "Got the result from ./1/test/filtrations/6/RadialFiltration_25_51/red/diagrams.npy\n",
      "Applying Scaler to persistence diagrams.\n",
      "Got the result from ./1/test/filtrations/6/RadialFiltration_25_51/green/diagrams.npy\n",
      "Applying Scaler to persistence diagrams.\n",
      "Got the result from ./1/test/filtrations/6/RadialFiltration_25_51/blue/diagrams.npy\n",
      "Applying Scaler to persistence diagrams.\n",
      "Applying filtration 65/72: 6/RadialFiltration_38_12\n",
      "RGB images received. Transforming to grayscale.\n"
     ]
    },
    {
     "name": "stderr",
     "output_type": "stream",
     "text": [
      "rgb2gray: 100%|██████████| 134/134 [00:00<00:00, 4466.78it/s]"
     ]
    },
    {
     "name": "stdout",
     "output_type": "stream",
     "text": [
      "Got the result from ./1/test/filtrations/6/RadialFiltration_38_12/gray/diagrams.npy\n"
     ]
    },
    {
     "name": "stderr",
     "output_type": "stream",
     "text": [
      "\n"
     ]
    },
    {
     "name": "stdout",
     "output_type": "stream",
     "text": [
      "Applying Scaler to persistence diagrams.\n",
      "Got the result from ./1/test/filtrations/6/RadialFiltration_38_12/red/diagrams.npy\n",
      "Applying Scaler to persistence diagrams.\n",
      "Got the result from ./1/test/filtrations/6/RadialFiltration_38_12/green/diagrams.npy\n",
      "Applying Scaler to persistence diagrams.\n",
      "Got the result from ./1/test/filtrations/6/RadialFiltration_38_12/blue/diagrams.npy\n",
      "Applying Scaler to persistence diagrams.\n",
      "Applying filtration 66/72: 6/RadialFiltration_38_25\n",
      "RGB images received. Transforming to grayscale.\n"
     ]
    },
    {
     "name": "stderr",
     "output_type": "stream",
     "text": [
      "rgb2gray: 100%|██████████| 134/134 [00:00<00:00, 3941.21it/s]"
     ]
    },
    {
     "name": "stdout",
     "output_type": "stream",
     "text": [
      "Got the result from ./1/test/filtrations/6/RadialFiltration_38_25/gray/diagrams.npy"
     ]
    },
    {
     "name": "stderr",
     "output_type": "stream",
     "text": [
      "\n"
     ]
    },
    {
     "name": "stdout",
     "output_type": "stream",
     "text": [
      "\n",
      "Applying Scaler to persistence diagrams.\n",
      "Got the result from ./1/test/filtrations/6/RadialFiltration_38_25/red/diagrams.npy\n",
      "Applying Scaler to persistence diagrams.\n",
      "Got the result from ./1/test/filtrations/6/RadialFiltration_38_25/green/diagrams.npy\n",
      "Applying Scaler to persistence diagrams.\n",
      "Got the result from ./1/test/filtrations/6/RadialFiltration_38_25/blue/diagrams.npy\n",
      "Applying Scaler to persistence diagrams.\n",
      "Applying filtration 67/72: 6/RadialFiltration_38_38\n",
      "RGB images received. Transforming to grayscale.\n"
     ]
    },
    {
     "name": "stderr",
     "output_type": "stream",
     "text": [
      "rgb2gray: 100%|██████████| 134/134 [00:00<00:00, 4187.65it/s]"
     ]
    },
    {
     "name": "stdout",
     "output_type": "stream",
     "text": [
      "Got the result from ./1/test/filtrations/6/RadialFiltration_38_38/gray/diagrams.npy\n"
     ]
    },
    {
     "name": "stderr",
     "output_type": "stream",
     "text": [
      "\n"
     ]
    },
    {
     "name": "stdout",
     "output_type": "stream",
     "text": [
      "Applying Scaler to persistence diagrams.\n",
      "Got the result from ./1/test/filtrations/6/RadialFiltration_38_38/red/diagrams.npy\n",
      "Applying Scaler to persistence diagrams.\n",
      "Got the result from ./1/test/filtrations/6/RadialFiltration_38_38/green/diagrams.npy\n",
      "Applying Scaler to persistence diagrams.\n",
      "Got the result from ./1/test/filtrations/6/RadialFiltration_38_38/blue/diagrams.npy\n",
      "Applying Scaler to persistence diagrams.\n",
      "Applying filtration 68/72: 6/RadialFiltration_38_51\n",
      "RGB images received. Transforming to grayscale.\n"
     ]
    },
    {
     "name": "stderr",
     "output_type": "stream",
     "text": [
      "rgb2gray: 100%|██████████| 134/134 [00:00<00:00, 2850.79it/s]\n"
     ]
    },
    {
     "name": "stdout",
     "output_type": "stream",
     "text": [
      "Got the result from ./1/test/filtrations/6/RadialFiltration_38_51/gray/diagrams.npy\n",
      "Applying Scaler to persistence diagrams.\n",
      "Got the result from ./1/test/filtrations/6/RadialFiltration_38_51/red/diagrams.npy\n",
      "Applying Scaler to persistence diagrams.\n",
      "Got the result from ./1/test/filtrations/6/RadialFiltration_38_51/green/diagrams.npy\n",
      "Applying Scaler to persistence diagrams.\n",
      "Got the result from ./1/test/filtrations/6/RadialFiltration_38_51/blue/diagrams.npy\n",
      "Applying Scaler to persistence diagrams.\n",
      "Applying filtration 69/72: 6/RadialFiltration_51_12\n",
      "RGB images received. Transforming to grayscale.\n"
     ]
    },
    {
     "name": "stderr",
     "output_type": "stream",
     "text": [
      "rgb2gray: 100%|██████████| 134/134 [00:00<00:00, 3941.43it/s]\n"
     ]
    },
    {
     "name": "stdout",
     "output_type": "stream",
     "text": [
      "Got the result from ./1/test/filtrations/6/RadialFiltration_51_12/gray/diagrams.npy\n",
      "Applying Scaler to persistence diagrams.\n",
      "Got the result from ./1/test/filtrations/6/RadialFiltration_51_12/red/diagrams.npy\n",
      "Applying Scaler to persistence diagrams.\n",
      "Got the result from ./1/test/filtrations/6/RadialFiltration_51_12/green/diagrams.npy\n",
      "Applying Scaler to persistence diagrams.\n",
      "Got the result from ./1/test/filtrations/6/RadialFiltration_51_12/blue/diagrams.npy\n",
      "Applying Scaler to persistence diagrams.\n",
      "Applying filtration 70/72: 6/RadialFiltration_51_25\n",
      "RGB images received. Transforming to grayscale.\n"
     ]
    },
    {
     "name": "stderr",
     "output_type": "stream",
     "text": [
      "rgb2gray: 100%|██████████| 134/134 [00:00<00:00, 4322.63it/s]"
     ]
    },
    {
     "name": "stdout",
     "output_type": "stream",
     "text": [
      "Got the result from ./1/test/filtrations/6/RadialFiltration_51_25/gray/diagrams.npy"
     ]
    },
    {
     "name": "stderr",
     "output_type": "stream",
     "text": [
      "\n"
     ]
    },
    {
     "name": "stdout",
     "output_type": "stream",
     "text": [
      "\n",
      "Applying Scaler to persistence diagrams.\n",
      "Got the result from ./1/test/filtrations/6/RadialFiltration_51_25/red/diagrams.npy\n",
      "Applying Scaler to persistence diagrams.\n",
      "Got the result from ./1/test/filtrations/6/RadialFiltration_51_25/green/diagrams.npy\n",
      "Applying Scaler to persistence diagrams.\n",
      "Got the result from ./1/test/filtrations/6/RadialFiltration_51_25/blue/diagrams.npy\n",
      "Applying Scaler to persistence diagrams.\n",
      "Applying filtration 71/72: 6/RadialFiltration_51_38\n",
      "RGB images received. Transforming to grayscale.\n"
     ]
    },
    {
     "name": "stderr",
     "output_type": "stream",
     "text": [
      "rgb2gray: 100%|██████████| 134/134 [00:00<00:00, 4466.64it/s]\n"
     ]
    },
    {
     "name": "stdout",
     "output_type": "stream",
     "text": [
      "Got the result from ./1/test/filtrations/6/RadialFiltration_51_38/gray/diagrams.npy\n",
      "Applying Scaler to persistence diagrams.\n",
      "Got the result from ./1/test/filtrations/6/RadialFiltration_51_38/red/diagrams.npy\n",
      "Applying Scaler to persistence diagrams.\n",
      "Got the result from ./1/test/filtrations/6/RadialFiltration_51_38/green/diagrams.npy\n",
      "Applying Scaler to persistence diagrams.\n",
      "Got the result from ./1/test/filtrations/6/RadialFiltration_51_38/blue/diagrams.npy\n",
      "Applying Scaler to persistence diagrams.\n",
      "Applying filtration 72/72: 6/RadialFiltration_51_51\n",
      "RGB images received. Transforming to grayscale.\n"
     ]
    },
    {
     "name": "stderr",
     "output_type": "stream",
     "text": [
      "rgb2gray: 100%|██████████| 134/134 [00:00<00:00, 4786.10it/s]\n"
     ]
    },
    {
     "name": "stdout",
     "output_type": "stream",
     "text": [
      "Got the result from ./1/test/filtrations/6/RadialFiltration_51_51/gray/diagrams.npy\n",
      "Applying Scaler to persistence diagrams.\n",
      "Got the result from ./1/test/filtrations/6/RadialFiltration_51_51/red/diagrams.npy\n",
      "Applying Scaler to persistence diagrams.\n",
      "Got the result from ./1/test/filtrations/6/RadialFiltration_51_51/green/diagrams.npy\n",
      "Applying Scaler to persistence diagrams.\n",
      "Got the result from ./1/test/filtrations/6/RadialFiltration_51_51/blue/diagrams.npy\n",
      "Applying Scaler to persistence diagrams.\n",
      "Diagrams requested. Returning diagrams.\n"
     ]
    }
   ],
   "source": [
    "import cvtda.topology\n",
    "extractor = cvtda.topology.FeatureExtractor(only_get_from_dump = True, return_diagrams = True)\n",
    "extractor = extractor.fit(train_images, \"1/train\")\n",
    "train_diagrams = extractor.transform(train_images, \"1/train\")\n",
    "test_diagrams = extractor.transform(test_images, \"1/test\")"
   ]
  },
  {
   "cell_type": "code",
   "execution_count": 6,
   "metadata": {},
   "outputs": [
    {
     "name": "stderr",
     "output_type": "stream",
     "text": [
      "Dataset: processing diagrams: 100%|██████████| 296/296 [11:22<00:00,  2.31s/it]\n"
     ]
    },
    {
     "name": "stdout",
     "output_type": "stream",
     "text": [
      "Constructed a dataset of 9030 images of shape torch.Size([3, 64, 64]) with 592 diagrams and 57599 features\n"
     ]
    },
    {
     "name": "stderr",
     "output_type": "stream",
     "text": [
      "Dataset: processing diagrams: 100%|██████████| 296/296 [00:09<00:00, 29.64it/s]\n"
     ]
    },
    {
     "name": "stdout",
     "output_type": "stream",
     "text": [
      "Constructed a dataset of 134 images of shape torch.Size([3, 64, 64]) with 592 diagrams and 57599 features\n",
      "Trying SimpleTopologicalLearner - <cvtda.face_recognition.SimpleTopologicalLearner.SimpleTopologicalLearner object at 0x0000025ADB2D8070>\n"
     ]
    },
    {
     "name": "stderr",
     "output_type": "stream",
     "text": [
      "Calculating pairwise distances: 100%|██████████| 17956/17956 [00:02<00:00, 6198.14it/s]\n",
      "Analyzing distances: 100%|██████████| 17956/17956 [00:01<00:00, 10022.87it/s]\n"
     ]
    },
    {
     "name": "stdout",
     "output_type": "stream",
     "text": [
      "Trying DiagramsLearner - <cvtda.face_recognition.DiagramsLearner.DiagramsLearner object at 0x0000025AEF32BB80>\n"
     ]
    },
    {
     "name": "stderr",
     "output_type": "stream",
     "text": [
      "Calculating pairwise distances: 100%|██████████| 17956/17956 [41:27<00:00,  7.22it/s] \n",
      "Analyzing distances: 100%|██████████| 17956/17956 [00:02<00:00, 6854.73it/s]\n"
     ]
    },
    {
     "name": "stdout",
     "output_type": "stream",
     "text": [
      "Trying NNLearner_images - <cvtda.face_recognition.NNLearner.NNLearner object at 0x0000025AEF32BBE0>\n",
      "Topology:  False\n",
      "Images:  torch.Size([64, 3, 64, 64])\n",
      "Features:  torch.Size([64, 57599])\n"
     ]
    },
    {
     "name": "stderr",
     "output_type": "stream",
     "text": [
      "d:\\Programs\\Programming\\Python\\lib\\site-packages\\torch\\nn\\init.py:511: UserWarning: Initializing zero-element tensors is a no-op\n",
      "  warnings.warn(\"Initializing zero-element tensors is a no-op\")\n"
     ]
    },
    {
     "name": "stdout",
     "output_type": "stream",
     "text": [
      "Parameters: 23541840\n"
     ]
    },
    {
     "name": "stderr",
     "output_type": "stream",
     "text": [
      "Train: 100%|██████████| 100/100 [21:35<00:00, 12.95s/it, loss=7.94, AMI=0.386, NMI=0.705, mean_average_precision=0.487, mean_average_precision_at_r=0.346, mean_reciprocal_rank=0.623, precision_at_1=0.493, r_precision=0.421]\n",
      "Calculating pairwise distances: 100%|██████████| 17956/17956 [03:10<00:00, 94.21it/s] \n",
      "Analyzing distances: 100%|██████████| 17956/17956 [00:01<00:00, 14789.67it/s]\n",
      "d:\\Programs\\Programming\\Python\\lib\\site-packages\\torch\\nn\\init.py:511: UserWarning: Initializing zero-element tensors is a no-op\n",
      "  warnings.warn(\"Initializing zero-element tensors is a no-op\")\n"
     ]
    },
    {
     "name": "stdout",
     "output_type": "stream",
     "text": [
      "Trying NNLearner_features - <cvtda.face_recognition.NNLearner.NNLearner object at 0x0000025AEF32BA60>\n",
      "Topology:  True\n",
      "Images:  torch.Size([64, 3, 64, 64])\n",
      "Features:  torch.Size([64, 57599])\n",
      "Input to LazyLinear: 1024\n",
      "Parameters: 61349888\n"
     ]
    },
    {
     "name": "stderr",
     "output_type": "stream",
     "text": [
      "Train: 100%|██████████| 200/200 [11:44<00:00,  3.52s/it, loss=9.84, AMI=0.306, NMI=0.673, mean_average_precision=0.368, mean_average_precision_at_r=0.209, mean_reciprocal_rank=0.508, precision_at_1=0.336, r_precision=0.294]\n",
      "Calculating pairwise distances: 100%|██████████| 17956/17956 [00:27<00:00, 647.62it/s]\n",
      "Analyzing distances: 100%|██████████| 17956/17956 [00:01<00:00, 15111.18it/s]\n",
      "d:\\Programs\\Programming\\Python\\lib\\site-packages\\torch\\nn\\init.py:511: UserWarning: Initializing zero-element tensors is a no-op\n",
      "  warnings.warn(\"Initializing zero-element tensors is a no-op\")\n"
     ]
    },
    {
     "name": "stdout",
     "output_type": "stream",
     "text": [
      "Trying NNLearner_features_images - <cvtda.face_recognition.NNLearner.NNLearner object at 0x0000025ADB977340>\n",
      "Topology:  True\n",
      "Images:  torch.Size([64, 3, 64, 64])\n",
      "Features:  torch.Size([64, 57599])\n",
      "Input to LazyLinear: 1280\n",
      "Parameters: 85644608\n"
     ]
    },
    {
     "name": "stderr",
     "output_type": "stream",
     "text": [
      "Train: 100%|██████████| 100/100 [24:03<00:00, 14.44s/it, loss=10.1, AMI=0.273, NMI=0.659, mean_average_precision=0.341, mean_average_precision_at_r=0.198, mean_reciprocal_rank=0.504, precision_at_1=0.373, r_precision=0.275]\n",
      "Calculating pairwise distances: 100%|██████████| 17956/17956 [02:23<00:00, 125.03it/s]\n",
      "Analyzing distances: 100%|██████████| 17956/17956 [00:01<00:00, 15268.37it/s]\n"
     ]
    },
    {
     "name": "stdout",
     "output_type": "stream",
     "text": [
      "Trying NNLearner_diagrams - <cvtda.face_recognition.NNLearner.NNLearner object at 0x0000025ADB977BE0>\n",
      "Topology:  True\n",
      "Images:  torch.Size([64, 3, 64, 64])\n",
      "Features:  torch.Size([64, 57599])\n",
      "Input to LazyLinear: 1024\n",
      "Parameters: 41316352\n"
     ]
    },
    {
     "name": "stderr",
     "output_type": "stream",
     "text": [
      "Train: 100%|██████████| 25/25 [1:40:40<00:00, 241.61s/it, loss=10.3, AMI=0.218, NMI=0.624, mean_average_precision=0.278, mean_average_precision_at_r=0.164, mean_reciprocal_rank=0.398, precision_at_1=0.254, r_precision=0.225]\n",
      "Calculating pairwise distances: 100%|██████████| 17956/17956 [1:00:36<00:00,  4.94it/s]\n",
      "Analyzing distances: 100%|██████████| 17956/17956 [00:01<00:00, 9439.18it/s]\n"
     ]
    },
    {
     "data": {
      "image/png": "[encoded data removed]",
      "text/plain": [
       "<Figure size 1400x500 with 6 Axes>"
      ]
     },
     "metadata": {},
     "output_type": "display_data"
    }
   ],
   "source": [
    "import cvtda.face_recognition\n",
    "\n",
    "cvtda.face_recognition.learn(\n",
    "    train_images, train_features, train_labels, train_diagrams,\n",
    "    test_images, test_features, test_labels, test_diagrams,\n",
    "    dump_name = \"2/predictions\", n_jobs = 1\n",
    ")"
   ]
  }
 ],
 "metadata": {
  "kernelspec": {
   "display_name": "Python 3",
   "language": "python",
   "name": "python3"
  },
  "language_info": {
   "codemirror_mode": {
    "name": "ipython",
    "version": 3
   },
   "file_extension": ".py",
   "mimetype": "text/x-python",
   "name": "python",
   "nbconvert_exporter": "python",
   "pygments_lexer": "ipython3",
   "version": "3.10.11"
  }
 },
 "nbformat": 4,
 "nbformat_minor": 2
}
