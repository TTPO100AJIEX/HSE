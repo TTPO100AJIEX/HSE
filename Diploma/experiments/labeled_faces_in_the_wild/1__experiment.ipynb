{
 "cells": [
  {
   "cell_type": "code",
   "execution_count": 2,
   "metadata": {},
   "outputs": [],
   "source": [
    "import numpy\n",
    "import torchvision\n",
    "import torchvision.transforms.v2\n",
    "\n",
    "transform = torchvision.transforms.v2.Compose([\n",
    "    torchvision.transforms.v2.CenterCrop((128, 128)),\n",
    "    torchvision.transforms.v2.Resize((64, 64))\n",
    "])\n",
    "\n",
    "train = torchvision.datasets.ImageFolder(\"lfw/training\", transform = transform)\n",
    "test = torchvision.datasets.ImageFolder(\"lfw/testing\", transform = transform)"
   ]
  },
  {
   "cell_type": "code",
   "execution_count": 3,
   "metadata": {},
   "outputs": [
    {
     "name": "stdout",
     "output_type": "stream",
     "text": [
      "(9030, 64, 64, 3) (134, 64, 64, 3)\n"
     ]
    }
   ],
   "source": [
    "train_images = numpy.array([ numpy.array(item[0]) / 255 for item in train ])\n",
    "train_labels = numpy.array([ item[1] for item in train ])\n",
    "\n",
    "test_images = numpy.array([ numpy.array(item[0]) / 255 for item in test ])\n",
    "test_labels = numpy.array([ item[1] for item in test ])\n",
    "\n",
    "print(train_images.shape, test_images.shape)"
   ]
  },
  {
   "cell_type": "code",
   "execution_count": 4,
   "metadata": {},
   "outputs": [
    {
     "name": "stdout",
     "output_type": "stream",
     "text": [
      "Calculating inverted images\n",
      "RGB images received. Transforming to grayscale.\n"
     ]
    },
    {
     "name": "stderr",
     "output_type": "stream",
     "text": [
      "rgb2gray: 100%|██████████| 9030/9030 [00:02<00:00, 3883.59it/s]\n"
     ]
    },
    {
     "name": "stdout",
     "output_type": "stream",
     "text": [
      "Got the result from ./1/train/greyscale/gray/features.npy\n",
      "Got the result from ./1/train/greyscale/gray/features.npy\n",
      "Got the result from ./1/train/greyscale/red/features.npy\n",
      "Got the result from ./1/train/greyscale/red/features.npy\n",
      "Got the result from ./1/train/greyscale/green/features.npy\n",
      "Got the result from ./1/train/greyscale/green/features.npy\n",
      "Got the result from ./1/train/greyscale/blue/features.npy\n",
      "Got the result from ./1/train/greyscale/blue/features.npy\n",
      "RGB images received. Transforming to grayscale.\n"
     ]
    },
    {
     "name": "stderr",
     "output_type": "stream",
     "text": [
      "rgb2gray: 100%|██████████| 9030/9030 [00:01<00:00, 6472.76it/s]\n"
     ]
    },
    {
     "name": "stdout",
     "output_type": "stream",
     "text": [
      "Got the result from ./1/train/greyscale/gray/features.npy\n",
      "Got the result from ./1/train/greyscale/red/features.npy\n",
      "Got the result from ./1/train/greyscale/green/features.npy\n",
      "Got the result from ./1/train/greyscale/blue/features.npy\n",
      "RGB images received. Transforming to grayscale.\n"
     ]
    },
    {
     "name": "stderr",
     "output_type": "stream",
     "text": [
      "rgb2gray: 100%|██████████| 9030/9030 [00:01<00:00, 6033.49it/s]\n"
     ]
    },
    {
     "name": "stdout",
     "output_type": "stream",
     "text": [
      "Got the result from ./1/train/inverted_greyscale/gray/features.npy\n",
      "Got the result from ./1/train/inverted_greyscale/gray/features.npy\n",
      "Got the result from ./1/train/inverted_greyscale/red/features.npy\n",
      "Got the result from ./1/train/inverted_greyscale/red/features.npy\n",
      "Got the result from ./1/train/inverted_greyscale/green/features.npy\n",
      "Got the result from ./1/train/inverted_greyscale/green/features.npy\n",
      "Got the result from ./1/train/inverted_greyscale/blue/features.npy\n",
      "Got the result from ./1/train/inverted_greyscale/blue/features.npy\n",
      "RGB images received. Transforming to grayscale.\n"
     ]
    },
    {
     "name": "stderr",
     "output_type": "stream",
     "text": [
      "rgb2gray: 100%|██████████| 9030/9030 [00:01<00:00, 6586.92it/s]\n"
     ]
    },
    {
     "name": "stdout",
     "output_type": "stream",
     "text": [
      "Got the result from ./1/train/inverted_greyscale/gray/features.npy\n",
      "Got the result from ./1/train/inverted_greyscale/red/features.npy\n",
      "Got the result from ./1/train/inverted_greyscale/green/features.npy\n",
      "Got the result from ./1/train/inverted_greyscale/blue/features.npy\n",
      "Fitting filtrations\n",
      "Calculated radial centers for images of size 64x64: [12 25 38 51]x[12 25 38 51]\n",
      "Fitting filtration 1/72: 2/HeightFiltrartion_-1_-1\n",
      "RGB images received. Transforming to grayscale.\n"
     ]
    },
    {
     "name": "stderr",
     "output_type": "stream",
     "text": [
      "rgb2gray: 100%|██████████| 9030/9030 [00:01<00:00, 6191.27it/s] \n"
     ]
    },
    {
     "name": "stdout",
     "output_type": "stream",
     "text": [
      "Got the result from ./1/train/filtrations/2/HeightFiltrartion_-1_-1/gray/features.npy\n",
      "Got the result from ./1/train/filtrations/2/HeightFiltrartion_-1_-1/gray/features.npy\n",
      "Got the result from ./1/train/filtrations/2/HeightFiltrartion_-1_-1/red/features.npy\n",
      "Got the result from ./1/train/filtrations/2/HeightFiltrartion_-1_-1/red/features.npy\n",
      "Got the result from ./1/train/filtrations/2/HeightFiltrartion_-1_-1/green/features.npy\n",
      "Got the result from ./1/train/filtrations/2/HeightFiltrartion_-1_-1/green/features.npy\n",
      "Got the result from ./1/train/filtrations/2/HeightFiltrartion_-1_-1/blue/features.npy\n",
      "Got the result from ./1/train/filtrations/2/HeightFiltrartion_-1_-1/blue/features.npy\n",
      "Fitting filtration 2/72: 2/HeightFiltrartion_1_1\n",
      "RGB images received. Transforming to grayscale.\n"
     ]
    },
    {
     "name": "stderr",
     "output_type": "stream",
     "text": [
      "rgb2gray: 100%|██████████| 9030/9030 [00:01<00:00, 6470.74it/s]\n"
     ]
    },
    {
     "name": "stdout",
     "output_type": "stream",
     "text": [
      "Got the result from ./1/train/filtrations/2/HeightFiltrartion_1_1/gray/features.npy\n",
      "Got the result from ./1/train/filtrations/2/HeightFiltrartion_1_1/gray/features.npy\n",
      "Got the result from ./1/train/filtrations/2/HeightFiltrartion_1_1/red/features.npy\n",
      "Got the result from ./1/train/filtrations/2/HeightFiltrartion_1_1/red/features.npy\n",
      "Got the result from ./1/train/filtrations/2/HeightFiltrartion_1_1/green/features.npy\n",
      "Got the result from ./1/train/filtrations/2/HeightFiltrartion_1_1/green/features.npy\n",
      "Got the result from ./1/train/filtrations/2/HeightFiltrartion_1_1/blue/features.npy\n",
      "Got the result from ./1/train/filtrations/2/HeightFiltrartion_1_1/blue/features.npy\n",
      "Fitting filtration 3/72: 2/HeightFiltrartion_1_-1\n",
      "RGB images received. Transforming to grayscale.\n"
     ]
    },
    {
     "name": "stderr",
     "output_type": "stream",
     "text": [
      "rgb2gray: 100%|██████████| 9030/9030 [00:01<00:00, 6524.23it/s] \n"
     ]
    },
    {
     "name": "stdout",
     "output_type": "stream",
     "text": [
      "Got the result from ./1/train/filtrations/2/HeightFiltrartion_1_-1/gray/features.npy\n",
      "Got the result from ./1/train/filtrations/2/HeightFiltrartion_1_-1/gray/features.npy\n",
      "Got the result from ./1/train/filtrations/2/HeightFiltrartion_1_-1/red/features.npy\n",
      "Got the result from ./1/train/filtrations/2/HeightFiltrartion_1_-1/red/features.npy\n",
      "Got the result from ./1/train/filtrations/2/HeightFiltrartion_1_-1/green/features.npy\n",
      "Got the result from ./1/train/filtrations/2/HeightFiltrartion_1_-1/green/features.npy\n",
      "Got the result from ./1/train/filtrations/2/HeightFiltrartion_1_-1/blue/features.npy\n",
      "Got the result from ./1/train/filtrations/2/HeightFiltrartion_1_-1/blue/features.npy\n",
      "Fitting filtration 4/72: 2/HeightFiltrartion_-1_1\n",
      "RGB images received. Transforming to grayscale.\n"
     ]
    },
    {
     "name": "stderr",
     "output_type": "stream",
     "text": [
      "rgb2gray: 100%|██████████| 9030/9030 [00:01<00:00, 6303.63it/s] \n"
     ]
    },
    {
     "name": "stdout",
     "output_type": "stream",
     "text": [
      "Got the result from ./1/train/filtrations/2/HeightFiltrartion_-1_1/gray/features.npy\n",
      "Got the result from ./1/train/filtrations/2/HeightFiltrartion_-1_1/gray/features.npy\n",
      "Got the result from ./1/train/filtrations/2/HeightFiltrartion_-1_1/red/features.npy\n",
      "Got the result from ./1/train/filtrations/2/HeightFiltrartion_-1_1/red/features.npy\n",
      "Got the result from ./1/train/filtrations/2/HeightFiltrartion_-1_1/green/features.npy\n",
      "Got the result from ./1/train/filtrations/2/HeightFiltrartion_-1_1/green/features.npy\n",
      "Got the result from ./1/train/filtrations/2/HeightFiltrartion_-1_1/blue/features.npy\n",
      "Got the result from ./1/train/filtrations/2/HeightFiltrartion_-1_1/blue/features.npy\n",
      "Fitting filtration 5/72: 2/HeightFiltrartion_0_-1\n",
      "RGB images received. Transforming to grayscale.\n"
     ]
    },
    {
     "name": "stderr",
     "output_type": "stream",
     "text": [
      "rgb2gray: 100%|██████████| 9030/9030 [00:01<00:00, 5880.72it/s]\n"
     ]
    },
    {
     "name": "stdout",
     "output_type": "stream",
     "text": [
      "Got the result from ./1/train/filtrations/2/HeightFiltrartion_0_-1/gray/features.npy\n",
      "Got the result from ./1/train/filtrations/2/HeightFiltrartion_0_-1/gray/features.npy\n",
      "Got the result from ./1/train/filtrations/2/HeightFiltrartion_0_-1/red/features.npy\n",
      "Got the result from ./1/train/filtrations/2/HeightFiltrartion_0_-1/red/features.npy\n",
      "Got the result from ./1/train/filtrations/2/HeightFiltrartion_0_-1/green/features.npy\n",
      "Got the result from ./1/train/filtrations/2/HeightFiltrartion_0_-1/green/features.npy\n",
      "Got the result from ./1/train/filtrations/2/HeightFiltrartion_0_-1/blue/features.npy\n",
      "Got the result from ./1/train/filtrations/2/HeightFiltrartion_0_-1/blue/features.npy\n",
      "Fitting filtration 6/72: 2/HeightFiltrartion_0_1\n",
      "RGB images received. Transforming to grayscale.\n"
     ]
    },
    {
     "name": "stderr",
     "output_type": "stream",
     "text": [
      "rgb2gray: 100%|██████████| 9030/9030 [00:01<00:00, 5979.00it/s]\n"
     ]
    },
    {
     "name": "stdout",
     "output_type": "stream",
     "text": [
      "Got the result from ./1/train/filtrations/2/HeightFiltrartion_0_1/gray/features.npy\n",
      "Got the result from ./1/train/filtrations/2/HeightFiltrartion_0_1/gray/features.npy\n",
      "Got the result from ./1/train/filtrations/2/HeightFiltrartion_0_1/red/features.npy\n",
      "Got the result from ./1/train/filtrations/2/HeightFiltrartion_0_1/red/features.npy\n",
      "Got the result from ./1/train/filtrations/2/HeightFiltrartion_0_1/green/features.npy\n",
      "Got the result from ./1/train/filtrations/2/HeightFiltrartion_0_1/green/features.npy\n",
      "Got the result from ./1/train/filtrations/2/HeightFiltrartion_0_1/blue/features.npy\n",
      "Got the result from ./1/train/filtrations/2/HeightFiltrartion_0_1/blue/features.npy\n",
      "Fitting filtration 7/72: 2/HeightFiltrartion_-1_0\n",
      "RGB images received. Transforming to grayscale.\n"
     ]
    },
    {
     "name": "stderr",
     "output_type": "stream",
     "text": [
      "rgb2gray: 100%|██████████| 9030/9030 [00:01<00:00, 5964.64it/s]\n"
     ]
    },
    {
     "name": "stdout",
     "output_type": "stream",
     "text": [
      "Got the result from ./1/train/filtrations/2/HeightFiltrartion_-1_0/gray/features.npy\n",
      "Got the result from ./1/train/filtrations/2/HeightFiltrartion_-1_0/gray/features.npy\n",
      "Got the result from ./1/train/filtrations/2/HeightFiltrartion_-1_0/red/features.npy\n",
      "Got the result from ./1/train/filtrations/2/HeightFiltrartion_-1_0/red/features.npy\n",
      "Got the result from ./1/train/filtrations/2/HeightFiltrartion_-1_0/green/features.npy\n",
      "Got the result from ./1/train/filtrations/2/HeightFiltrartion_-1_0/green/features.npy\n",
      "Got the result from ./1/train/filtrations/2/HeightFiltrartion_-1_0/blue/features.npy\n",
      "Got the result from ./1/train/filtrations/2/HeightFiltrartion_-1_0/blue/features.npy\n",
      "Fitting filtration 8/72: 2/HeightFiltrartion_1_0\n",
      "RGB images received. Transforming to grayscale.\n"
     ]
    },
    {
     "name": "stderr",
     "output_type": "stream",
     "text": [
      "rgb2gray: 100%|██████████| 9030/9030 [00:01<00:00, 6311.00it/s]\n"
     ]
    },
    {
     "name": "stdout",
     "output_type": "stream",
     "text": [
      "Got the result from ./1/train/filtrations/2/HeightFiltrartion_1_0/gray/features.npy\n",
      "Got the result from ./1/train/filtrations/2/HeightFiltrartion_1_0/gray/features.npy\n",
      "Got the result from ./1/train/filtrations/2/HeightFiltrartion_1_0/red/features.npy\n",
      "Got the result from ./1/train/filtrations/2/HeightFiltrartion_1_0/red/features.npy\n",
      "Got the result from ./1/train/filtrations/2/HeightFiltrartion_1_0/green/features.npy\n",
      "Got the result from ./1/train/filtrations/2/HeightFiltrartion_1_0/green/features.npy\n",
      "Got the result from ./1/train/filtrations/2/HeightFiltrartion_1_0/blue/features.npy\n",
      "Got the result from ./1/train/filtrations/2/HeightFiltrartion_1_0/blue/features.npy\n",
      "Fitting filtration 9/72: 2/RadialFiltration_12_12\n",
      "RGB images received. Transforming to grayscale.\n"
     ]
    },
    {
     "name": "stderr",
     "output_type": "stream",
     "text": [
      "rgb2gray: 100%|██████████| 9030/9030 [00:01<00:00, 6404.29it/s] \n"
     ]
    },
    {
     "name": "stdout",
     "output_type": "stream",
     "text": [
      "Got the result from ./1/train/filtrations/2/RadialFiltration_12_12/gray/features.npy\n",
      "Got the result from ./1/train/filtrations/2/RadialFiltration_12_12/gray/features.npy\n",
      "Got the result from ./1/train/filtrations/2/RadialFiltration_12_12/red/features.npy\n",
      "Got the result from ./1/train/filtrations/2/RadialFiltration_12_12/red/features.npy\n",
      "Got the result from ./1/train/filtrations/2/RadialFiltration_12_12/green/features.npy\n",
      "Got the result from ./1/train/filtrations/2/RadialFiltration_12_12/green/features.npy\n",
      "Got the result from ./1/train/filtrations/2/RadialFiltration_12_12/blue/features.npy\n",
      "Got the result from ./1/train/filtrations/2/RadialFiltration_12_12/blue/features.npy\n",
      "Fitting filtration 10/72: 2/RadialFiltration_12_25\n",
      "RGB images received. Transforming to grayscale.\n"
     ]
    },
    {
     "name": "stderr",
     "output_type": "stream",
     "text": [
      "rgb2gray: 100%|██████████| 9030/9030 [00:01<00:00, 6040.01it/s]\n"
     ]
    },
    {
     "name": "stdout",
     "output_type": "stream",
     "text": [
      "Got the result from ./1/train/filtrations/2/RadialFiltration_12_25/gray/features.npy\n",
      "Got the result from ./1/train/filtrations/2/RadialFiltration_12_25/gray/features.npy\n",
      "Got the result from ./1/train/filtrations/2/RadialFiltration_12_25/red/features.npy\n",
      "Got the result from ./1/train/filtrations/2/RadialFiltration_12_25/red/features.npy\n",
      "Got the result from ./1/train/filtrations/2/RadialFiltration_12_25/green/features.npy\n",
      "Got the result from ./1/train/filtrations/2/RadialFiltration_12_25/green/features.npy\n",
      "Got the result from ./1/train/filtrations/2/RadialFiltration_12_25/blue/features.npy\n",
      "Got the result from ./1/train/filtrations/2/RadialFiltration_12_25/blue/features.npy\n",
      "Fitting filtration 11/72: 2/RadialFiltration_12_38\n",
      "RGB images received. Transforming to grayscale.\n"
     ]
    },
    {
     "name": "stderr",
     "output_type": "stream",
     "text": [
      "rgb2gray: 100%|██████████| 9030/9030 [00:01<00:00, 6279.14it/s]\n"
     ]
    },
    {
     "name": "stdout",
     "output_type": "stream",
     "text": [
      "Got the result from ./1/train/filtrations/2/RadialFiltration_12_38/gray/features.npy\n",
      "Got the result from ./1/train/filtrations/2/RadialFiltration_12_38/gray/features.npy\n",
      "Got the result from ./1/train/filtrations/2/RadialFiltration_12_38/red/features.npy\n",
      "Got the result from ./1/train/filtrations/2/RadialFiltration_12_38/red/features.npy\n",
      "Got the result from ./1/train/filtrations/2/RadialFiltration_12_38/green/features.npy\n",
      "Got the result from ./1/train/filtrations/2/RadialFiltration_12_38/green/features.npy\n",
      "Got the result from ./1/train/filtrations/2/RadialFiltration_12_38/blue/features.npy\n",
      "Got the result from ./1/train/filtrations/2/RadialFiltration_12_38/blue/features.npy\n",
      "Fitting filtration 12/72: 2/RadialFiltration_12_51\n",
      "RGB images received. Transforming to grayscale.\n"
     ]
    },
    {
     "name": "stderr",
     "output_type": "stream",
     "text": [
      "rgb2gray: 100%|██████████| 9030/9030 [00:01<00:00, 6333.65it/s]\n"
     ]
    },
    {
     "name": "stdout",
     "output_type": "stream",
     "text": [
      "Got the result from ./1/train/filtrations/2/RadialFiltration_12_51/gray/features.npy\n",
      "Got the result from ./1/train/filtrations/2/RadialFiltration_12_51/gray/features.npy\n",
      "Got the result from ./1/train/filtrations/2/RadialFiltration_12_51/red/features.npy\n",
      "Got the result from ./1/train/filtrations/2/RadialFiltration_12_51/red/features.npy\n",
      "Got the result from ./1/train/filtrations/2/RadialFiltration_12_51/green/features.npy\n",
      "Got the result from ./1/train/filtrations/2/RadialFiltration_12_51/green/features.npy\n",
      "Got the result from ./1/train/filtrations/2/RadialFiltration_12_51/blue/features.npy\n",
      "Got the result from ./1/train/filtrations/2/RadialFiltration_12_51/blue/features.npy\n",
      "Fitting filtration 13/72: 2/RadialFiltration_25_12\n",
      "RGB images received. Transforming to grayscale.\n"
     ]
    },
    {
     "name": "stderr",
     "output_type": "stream",
     "text": [
      "rgb2gray: 100%|██████████| 9030/9030 [00:01<00:00, 6357.79it/s] \n"
     ]
    },
    {
     "name": "stdout",
     "output_type": "stream",
     "text": [
      "Got the result from ./1/train/filtrations/2/RadialFiltration_25_12/gray/features.npy\n",
      "Got the result from ./1/train/filtrations/2/RadialFiltration_25_12/gray/features.npy\n",
      "Got the result from ./1/train/filtrations/2/RadialFiltration_25_12/red/features.npy\n",
      "Got the result from ./1/train/filtrations/2/RadialFiltration_25_12/red/features.npy\n",
      "Got the result from ./1/train/filtrations/2/RadialFiltration_25_12/green/features.npy\n",
      "Got the result from ./1/train/filtrations/2/RadialFiltration_25_12/green/features.npy\n",
      "Got the result from ./1/train/filtrations/2/RadialFiltration_25_12/blue/features.npy\n",
      "Got the result from ./1/train/filtrations/2/RadialFiltration_25_12/blue/features.npy\n",
      "Fitting filtration 14/72: 2/RadialFiltration_25_25\n",
      "RGB images received. Transforming to grayscale.\n"
     ]
    },
    {
     "name": "stderr",
     "output_type": "stream",
     "text": [
      "rgb2gray: 100%|██████████| 9030/9030 [00:01<00:00, 6519.86it/s]\n"
     ]
    },
    {
     "name": "stdout",
     "output_type": "stream",
     "text": [
      "Got the result from ./1/train/filtrations/2/RadialFiltration_25_25/gray/features.npy\n",
      "Got the result from ./1/train/filtrations/2/RadialFiltration_25_25/gray/features.npy\n",
      "Got the result from ./1/train/filtrations/2/RadialFiltration_25_25/red/features.npy\n",
      "Got the result from ./1/train/filtrations/2/RadialFiltration_25_25/red/features.npy\n",
      "Got the result from ./1/train/filtrations/2/RadialFiltration_25_25/green/features.npy\n",
      "Got the result from ./1/train/filtrations/2/RadialFiltration_25_25/green/features.npy\n",
      "Got the result from ./1/train/filtrations/2/RadialFiltration_25_25/blue/features.npy\n",
      "Got the result from ./1/train/filtrations/2/RadialFiltration_25_25/blue/features.npy\n",
      "Fitting filtration 15/72: 2/RadialFiltration_25_38\n",
      "RGB images received. Transforming to grayscale.\n"
     ]
    },
    {
     "name": "stderr",
     "output_type": "stream",
     "text": [
      "rgb2gray: 100%|██████████| 9030/9030 [00:01<00:00, 6361.61it/s]\n"
     ]
    },
    {
     "name": "stdout",
     "output_type": "stream",
     "text": [
      "Got the result from ./1/train/filtrations/2/RadialFiltration_25_38/gray/features.npy\n",
      "Got the result from ./1/train/filtrations/2/RadialFiltration_25_38/gray/features.npy\n",
      "Got the result from ./1/train/filtrations/2/RadialFiltration_25_38/red/features.npy\n",
      "Got the result from ./1/train/filtrations/2/RadialFiltration_25_38/red/features.npy\n",
      "Got the result from ./1/train/filtrations/2/RadialFiltration_25_38/green/features.npy\n",
      "Got the result from ./1/train/filtrations/2/RadialFiltration_25_38/green/features.npy\n",
      "Got the result from ./1/train/filtrations/2/RadialFiltration_25_38/blue/features.npy\n",
      "Got the result from ./1/train/filtrations/2/RadialFiltration_25_38/blue/features.npy\n",
      "Fitting filtration 16/72: 2/RadialFiltration_25_51\n",
      "RGB images received. Transforming to grayscale.\n"
     ]
    },
    {
     "name": "stderr",
     "output_type": "stream",
     "text": [
      "rgb2gray: 100%|██████████| 9030/9030 [00:01<00:00, 5825.85it/s] \n"
     ]
    },
    {
     "name": "stdout",
     "output_type": "stream",
     "text": [
      "Got the result from ./1/train/filtrations/2/RadialFiltration_25_51/gray/features.npy\n",
      "Got the result from ./1/train/filtrations/2/RadialFiltration_25_51/gray/features.npy\n",
      "Got the result from ./1/train/filtrations/2/RadialFiltration_25_51/red/features.npy\n",
      "Got the result from ./1/train/filtrations/2/RadialFiltration_25_51/red/features.npy\n",
      "Got the result from ./1/train/filtrations/2/RadialFiltration_25_51/green/features.npy\n",
      "Got the result from ./1/train/filtrations/2/RadialFiltration_25_51/green/features.npy\n",
      "Got the result from ./1/train/filtrations/2/RadialFiltration_25_51/blue/features.npy\n",
      "Got the result from ./1/train/filtrations/2/RadialFiltration_25_51/blue/features.npy\n",
      "Fitting filtration 17/72: 2/RadialFiltration_38_12\n",
      "RGB images received. Transforming to grayscale.\n"
     ]
    },
    {
     "name": "stderr",
     "output_type": "stream",
     "text": [
      "rgb2gray: 100%|██████████| 9030/9030 [00:01<00:00, 6074.63it/s]\n"
     ]
    },
    {
     "name": "stdout",
     "output_type": "stream",
     "text": [
      "Got the result from ./1/train/filtrations/2/RadialFiltration_38_12/gray/features.npy\n",
      "Got the result from ./1/train/filtrations/2/RadialFiltration_38_12/gray/features.npy\n",
      "Got the result from ./1/train/filtrations/2/RadialFiltration_38_12/red/features.npy\n",
      "Got the result from ./1/train/filtrations/2/RadialFiltration_38_12/red/features.npy\n",
      "Got the result from ./1/train/filtrations/2/RadialFiltration_38_12/green/features.npy\n",
      "Got the result from ./1/train/filtrations/2/RadialFiltration_38_12/green/features.npy\n",
      "Got the result from ./1/train/filtrations/2/RadialFiltration_38_12/blue/features.npy\n",
      "Got the result from ./1/train/filtrations/2/RadialFiltration_38_12/blue/features.npy\n",
      "Fitting filtration 18/72: 2/RadialFiltration_38_25\n",
      "RGB images received. Transforming to grayscale.\n"
     ]
    },
    {
     "name": "stderr",
     "output_type": "stream",
     "text": [
      "rgb2gray: 100%|██████████| 9030/9030 [00:01<00:00, 6233.97it/s]\n"
     ]
    },
    {
     "name": "stdout",
     "output_type": "stream",
     "text": [
      "Got the result from ./1/train/filtrations/2/RadialFiltration_38_25/gray/features.npy\n",
      "Got the result from ./1/train/filtrations/2/RadialFiltration_38_25/gray/features.npy\n",
      "Got the result from ./1/train/filtrations/2/RadialFiltration_38_25/red/features.npy\n",
      "Got the result from ./1/train/filtrations/2/RadialFiltration_38_25/red/features.npy\n",
      "Got the result from ./1/train/filtrations/2/RadialFiltration_38_25/green/features.npy\n",
      "Got the result from ./1/train/filtrations/2/RadialFiltration_38_25/green/features.npy\n",
      "Got the result from ./1/train/filtrations/2/RadialFiltration_38_25/blue/features.npy\n",
      "Got the result from ./1/train/filtrations/2/RadialFiltration_38_25/blue/features.npy\n",
      "Fitting filtration 19/72: 2/RadialFiltration_38_38\n",
      "RGB images received. Transforming to grayscale.\n"
     ]
    },
    {
     "name": "stderr",
     "output_type": "stream",
     "text": [
      "rgb2gray: 100%|██████████| 9030/9030 [00:01<00:00, 6103.17it/s]\n"
     ]
    },
    {
     "name": "stdout",
     "output_type": "stream",
     "text": [
      "Got the result from ./1/train/filtrations/2/RadialFiltration_38_38/gray/features.npy\n",
      "Got the result from ./1/train/filtrations/2/RadialFiltration_38_38/gray/features.npy\n",
      "Got the result from ./1/train/filtrations/2/RadialFiltration_38_38/red/features.npy\n",
      "Got the result from ./1/train/filtrations/2/RadialFiltration_38_38/red/features.npy\n",
      "Got the result from ./1/train/filtrations/2/RadialFiltration_38_38/green/features.npy\n",
      "Got the result from ./1/train/filtrations/2/RadialFiltration_38_38/green/features.npy\n",
      "Got the result from ./1/train/filtrations/2/RadialFiltration_38_38/blue/features.npy\n",
      "Got the result from ./1/train/filtrations/2/RadialFiltration_38_38/blue/features.npy\n",
      "Fitting filtration 20/72: 2/RadialFiltration_38_51\n",
      "RGB images received. Transforming to grayscale.\n"
     ]
    },
    {
     "name": "stderr",
     "output_type": "stream",
     "text": [
      "rgb2gray: 100%|██████████| 9030/9030 [00:01<00:00, 6261.12it/s]\n"
     ]
    },
    {
     "name": "stdout",
     "output_type": "stream",
     "text": [
      "Got the result from ./1/train/filtrations/2/RadialFiltration_38_51/gray/features.npy\n",
      "Got the result from ./1/train/filtrations/2/RadialFiltration_38_51/gray/features.npy\n",
      "Got the result from ./1/train/filtrations/2/RadialFiltration_38_51/red/features.npy\n",
      "Got the result from ./1/train/filtrations/2/RadialFiltration_38_51/red/features.npy\n",
      "Got the result from ./1/train/filtrations/2/RadialFiltration_38_51/green/features.npy\n",
      "Got the result from ./1/train/filtrations/2/RadialFiltration_38_51/green/features.npy\n",
      "Got the result from ./1/train/filtrations/2/RadialFiltration_38_51/blue/features.npy\n",
      "Got the result from ./1/train/filtrations/2/RadialFiltration_38_51/blue/features.npy\n",
      "Fitting filtration 21/72: 2/RadialFiltration_51_12\n",
      "RGB images received. Transforming to grayscale.\n"
     ]
    },
    {
     "name": "stderr",
     "output_type": "stream",
     "text": [
      "rgb2gray: 100%|██████████| 9030/9030 [00:01<00:00, 6334.60it/s]\n"
     ]
    },
    {
     "name": "stdout",
     "output_type": "stream",
     "text": [
      "Got the result from ./1/train/filtrations/2/RadialFiltration_51_12/gray/features.npy\n",
      "Got the result from ./1/train/filtrations/2/RadialFiltration_51_12/gray/features.npy\n",
      "Got the result from ./1/train/filtrations/2/RadialFiltration_51_12/red/features.npy\n",
      "Got the result from ./1/train/filtrations/2/RadialFiltration_51_12/red/features.npy\n",
      "Got the result from ./1/train/filtrations/2/RadialFiltration_51_12/green/features.npy\n",
      "Got the result from ./1/train/filtrations/2/RadialFiltration_51_12/green/features.npy\n",
      "Got the result from ./1/train/filtrations/2/RadialFiltration_51_12/blue/features.npy\n",
      "Got the result from ./1/train/filtrations/2/RadialFiltration_51_12/blue/features.npy\n",
      "Fitting filtration 22/72: 2/RadialFiltration_51_25\n",
      "RGB images received. Transforming to grayscale.\n"
     ]
    },
    {
     "name": "stderr",
     "output_type": "stream",
     "text": [
      "rgb2gray: 100%|██████████| 9030/9030 [00:01<00:00, 6067.39it/s]\n"
     ]
    },
    {
     "name": "stdout",
     "output_type": "stream",
     "text": [
      "Got the result from ./1/train/filtrations/2/RadialFiltration_51_25/gray/features.npy\n",
      "Got the result from ./1/train/filtrations/2/RadialFiltration_51_25/gray/features.npy\n",
      "Got the result from ./1/train/filtrations/2/RadialFiltration_51_25/red/features.npy\n",
      "Got the result from ./1/train/filtrations/2/RadialFiltration_51_25/red/features.npy\n",
      "Got the result from ./1/train/filtrations/2/RadialFiltration_51_25/green/features.npy\n",
      "Got the result from ./1/train/filtrations/2/RadialFiltration_51_25/green/features.npy\n",
      "Got the result from ./1/train/filtrations/2/RadialFiltration_51_25/blue/features.npy\n",
      "Got the result from ./1/train/filtrations/2/RadialFiltration_51_25/blue/features.npy\n",
      "Fitting filtration 23/72: 2/RadialFiltration_51_38\n",
      "RGB images received. Transforming to grayscale.\n"
     ]
    },
    {
     "name": "stderr",
     "output_type": "stream",
     "text": [
      "rgb2gray: 100%|██████████| 9030/9030 [00:01<00:00, 6279.55it/s]\n"
     ]
    },
    {
     "name": "stdout",
     "output_type": "stream",
     "text": [
      "Got the result from ./1/train/filtrations/2/RadialFiltration_51_38/gray/features.npy\n",
      "Got the result from ./1/train/filtrations/2/RadialFiltration_51_38/gray/features.npy\n",
      "Got the result from ./1/train/filtrations/2/RadialFiltration_51_38/red/features.npy\n",
      "Got the result from ./1/train/filtrations/2/RadialFiltration_51_38/red/features.npy\n",
      "Got the result from ./1/train/filtrations/2/RadialFiltration_51_38/green/features.npy\n",
      "Got the result from ./1/train/filtrations/2/RadialFiltration_51_38/green/features.npy\n",
      "Got the result from ./1/train/filtrations/2/RadialFiltration_51_38/blue/features.npy\n",
      "Got the result from ./1/train/filtrations/2/RadialFiltration_51_38/blue/features.npy\n",
      "Fitting filtration 24/72: 2/RadialFiltration_51_51\n",
      "RGB images received. Transforming to grayscale.\n"
     ]
    },
    {
     "name": "stderr",
     "output_type": "stream",
     "text": [
      "rgb2gray: 100%|██████████| 9030/9030 [00:01<00:00, 5917.44it/s]\n"
     ]
    },
    {
     "name": "stdout",
     "output_type": "stream",
     "text": [
      "Got the result from ./1/train/filtrations/2/RadialFiltration_51_51/gray/features.npy\n",
      "Got the result from ./1/train/filtrations/2/RadialFiltration_51_51/gray/features.npy\n",
      "Got the result from ./1/train/filtrations/2/RadialFiltration_51_51/red/features.npy\n",
      "Got the result from ./1/train/filtrations/2/RadialFiltration_51_51/red/features.npy\n",
      "Got the result from ./1/train/filtrations/2/RadialFiltration_51_51/green/features.npy\n",
      "Got the result from ./1/train/filtrations/2/RadialFiltration_51_51/green/features.npy\n",
      "Got the result from ./1/train/filtrations/2/RadialFiltration_51_51/blue/features.npy\n",
      "Got the result from ./1/train/filtrations/2/RadialFiltration_51_51/blue/features.npy\n",
      "Fitting filtration 25/72: 4/HeightFiltrartion_-1_-1\n",
      "RGB images received. Transforming to grayscale.\n"
     ]
    },
    {
     "name": "stderr",
     "output_type": "stream",
     "text": [
      "rgb2gray: 100%|██████████| 9030/9030 [00:01<00:00, 6165.85it/s]\n"
     ]
    },
    {
     "name": "stdout",
     "output_type": "stream",
     "text": [
      "Got the result from ./1/train/filtrations/4/HeightFiltrartion_-1_-1/gray/features.npy\n",
      "Got the result from ./1/train/filtrations/4/HeightFiltrartion_-1_-1/gray/features.npy\n",
      "Got the result from ./1/train/filtrations/4/HeightFiltrartion_-1_-1/red/features.npy\n",
      "Got the result from ./1/train/filtrations/4/HeightFiltrartion_-1_-1/red/features.npy\n",
      "Got the result from ./1/train/filtrations/4/HeightFiltrartion_-1_-1/green/features.npy\n",
      "Got the result from ./1/train/filtrations/4/HeightFiltrartion_-1_-1/green/features.npy\n",
      "Got the result from ./1/train/filtrations/4/HeightFiltrartion_-1_-1/blue/features.npy\n",
      "Got the result from ./1/train/filtrations/4/HeightFiltrartion_-1_-1/blue/features.npy\n",
      "Fitting filtration 26/72: 4/HeightFiltrartion_1_1\n",
      "RGB images received. Transforming to grayscale.\n"
     ]
    },
    {
     "name": "stderr",
     "output_type": "stream",
     "text": [
      "rgb2gray: 100%|██████████| 9030/9030 [00:01<00:00, 5713.35it/s]\n"
     ]
    },
    {
     "name": "stdout",
     "output_type": "stream",
     "text": [
      "Got the result from ./1/train/filtrations/4/HeightFiltrartion_1_1/gray/features.npy\n",
      "Got the result from ./1/train/filtrations/4/HeightFiltrartion_1_1/gray/features.npy\n",
      "Got the result from ./1/train/filtrations/4/HeightFiltrartion_1_1/red/features.npy\n",
      "Got the result from ./1/train/filtrations/4/HeightFiltrartion_1_1/red/features.npy\n",
      "Got the result from ./1/train/filtrations/4/HeightFiltrartion_1_1/green/features.npy\n",
      "Got the result from ./1/train/filtrations/4/HeightFiltrartion_1_1/green/features.npy\n",
      "Got the result from ./1/train/filtrations/4/HeightFiltrartion_1_1/blue/features.npy\n",
      "Got the result from ./1/train/filtrations/4/HeightFiltrartion_1_1/blue/features.npy\n",
      "Fitting filtration 27/72: 4/HeightFiltrartion_1_-1\n",
      "RGB images received. Transforming to grayscale.\n"
     ]
    },
    {
     "name": "stderr",
     "output_type": "stream",
     "text": [
      "rgb2gray: 100%|██████████| 9030/9030 [00:01<00:00, 6101.35it/s]\n"
     ]
    },
    {
     "name": "stdout",
     "output_type": "stream",
     "text": [
      "Got the result from ./1/train/filtrations/4/HeightFiltrartion_1_-1/gray/features.npy\n",
      "Got the result from ./1/train/filtrations/4/HeightFiltrartion_1_-1/gray/features.npy\n",
      "Got the result from ./1/train/filtrations/4/HeightFiltrartion_1_-1/red/features.npy\n",
      "Got the result from ./1/train/filtrations/4/HeightFiltrartion_1_-1/red/features.npy\n",
      "Got the result from ./1/train/filtrations/4/HeightFiltrartion_1_-1/green/features.npy\n",
      "Got the result from ./1/train/filtrations/4/HeightFiltrartion_1_-1/green/features.npy\n",
      "Got the result from ./1/train/filtrations/4/HeightFiltrartion_1_-1/blue/features.npy\n",
      "Got the result from ./1/train/filtrations/4/HeightFiltrartion_1_-1/blue/features.npy\n",
      "Fitting filtration 28/72: 4/HeightFiltrartion_-1_1\n",
      "RGB images received. Transforming to grayscale.\n"
     ]
    },
    {
     "name": "stderr",
     "output_type": "stream",
     "text": [
      "rgb2gray: 100%|██████████| 9030/9030 [00:01<00:00, 5875.07it/s]\n"
     ]
    },
    {
     "name": "stdout",
     "output_type": "stream",
     "text": [
      "Got the result from ./1/train/filtrations/4/HeightFiltrartion_-1_1/gray/features.npy\n",
      "Got the result from ./1/train/filtrations/4/HeightFiltrartion_-1_1/gray/features.npy\n",
      "Got the result from ./1/train/filtrations/4/HeightFiltrartion_-1_1/red/features.npy\n",
      "Got the result from ./1/train/filtrations/4/HeightFiltrartion_-1_1/red/features.npy\n",
      "Got the result from ./1/train/filtrations/4/HeightFiltrartion_-1_1/green/features.npy\n",
      "Got the result from ./1/train/filtrations/4/HeightFiltrartion_-1_1/green/features.npy\n",
      "Got the result from ./1/train/filtrations/4/HeightFiltrartion_-1_1/blue/features.npy\n",
      "Got the result from ./1/train/filtrations/4/HeightFiltrartion_-1_1/blue/features.npy\n",
      "Fitting filtration 29/72: 4/HeightFiltrartion_0_-1\n",
      "RGB images received. Transforming to grayscale.\n"
     ]
    },
    {
     "name": "stderr",
     "output_type": "stream",
     "text": [
      "rgb2gray: 100%|██████████| 9030/9030 [00:01<00:00, 6388.38it/s]\n"
     ]
    },
    {
     "name": "stdout",
     "output_type": "stream",
     "text": [
      "Got the result from ./1/train/filtrations/4/HeightFiltrartion_0_-1/gray/features.npy\n",
      "Got the result from ./1/train/filtrations/4/HeightFiltrartion_0_-1/gray/features.npy\n",
      "Got the result from ./1/train/filtrations/4/HeightFiltrartion_0_-1/red/features.npy\n",
      "Got the result from ./1/train/filtrations/4/HeightFiltrartion_0_-1/red/features.npy\n",
      "Got the result from ./1/train/filtrations/4/HeightFiltrartion_0_-1/green/features.npy\n",
      "Got the result from ./1/train/filtrations/4/HeightFiltrartion_0_-1/green/features.npy\n",
      "Got the result from ./1/train/filtrations/4/HeightFiltrartion_0_-1/blue/features.npy\n",
      "Got the result from ./1/train/filtrations/4/HeightFiltrartion_0_-1/blue/features.npy\n",
      "Fitting filtration 30/72: 4/HeightFiltrartion_0_1\n",
      "RGB images received. Transforming to grayscale.\n"
     ]
    },
    {
     "name": "stderr",
     "output_type": "stream",
     "text": [
      "rgb2gray: 100%|██████████| 9030/9030 [00:01<00:00, 6491.44it/s]\n"
     ]
    },
    {
     "name": "stdout",
     "output_type": "stream",
     "text": [
      "Got the result from ./1/train/filtrations/4/HeightFiltrartion_0_1/gray/features.npy\n",
      "Got the result from ./1/train/filtrations/4/HeightFiltrartion_0_1/gray/features.npy\n",
      "Got the result from ./1/train/filtrations/4/HeightFiltrartion_0_1/red/features.npy\n",
      "Got the result from ./1/train/filtrations/4/HeightFiltrartion_0_1/red/features.npy\n",
      "Got the result from ./1/train/filtrations/4/HeightFiltrartion_0_1/green/features.npy\n",
      "Got the result from ./1/train/filtrations/4/HeightFiltrartion_0_1/green/features.npy\n",
      "Got the result from ./1/train/filtrations/4/HeightFiltrartion_0_1/blue/features.npy\n",
      "Got the result from ./1/train/filtrations/4/HeightFiltrartion_0_1/blue/features.npy\n",
      "Fitting filtration 31/72: 4/HeightFiltrartion_-1_0\n",
      "RGB images received. Transforming to grayscale.\n"
     ]
    },
    {
     "name": "stderr",
     "output_type": "stream",
     "text": [
      "rgb2gray: 100%|██████████| 9030/9030 [00:01<00:00, 6347.76it/s]\n"
     ]
    },
    {
     "name": "stdout",
     "output_type": "stream",
     "text": [
      "Got the result from ./1/train/filtrations/4/HeightFiltrartion_-1_0/gray/features.npy\n",
      "Got the result from ./1/train/filtrations/4/HeightFiltrartion_-1_0/gray/features.npy\n",
      "Got the result from ./1/train/filtrations/4/HeightFiltrartion_-1_0/red/features.npy\n",
      "Got the result from ./1/train/filtrations/4/HeightFiltrartion_-1_0/red/features.npy\n",
      "Got the result from ./1/train/filtrations/4/HeightFiltrartion_-1_0/green/features.npy\n",
      "Got the result from ./1/train/filtrations/4/HeightFiltrartion_-1_0/green/features.npy\n",
      "Got the result from ./1/train/filtrations/4/HeightFiltrartion_-1_0/blue/features.npy\n",
      "Got the result from ./1/train/filtrations/4/HeightFiltrartion_-1_0/blue/features.npy\n",
      "Fitting filtration 32/72: 4/HeightFiltrartion_1_0\n",
      "RGB images received. Transforming to grayscale.\n"
     ]
    },
    {
     "name": "stderr",
     "output_type": "stream",
     "text": [
      "rgb2gray: 100%|██████████| 9030/9030 [00:01<00:00, 6180.56it/s]\n"
     ]
    },
    {
     "name": "stdout",
     "output_type": "stream",
     "text": [
      "Got the result from ./1/train/filtrations/4/HeightFiltrartion_1_0/gray/features.npy\n",
      "Got the result from ./1/train/filtrations/4/HeightFiltrartion_1_0/gray/features.npy\n",
      "Got the result from ./1/train/filtrations/4/HeightFiltrartion_1_0/red/features.npy\n",
      "Got the result from ./1/train/filtrations/4/HeightFiltrartion_1_0/red/features.npy\n",
      "Got the result from ./1/train/filtrations/4/HeightFiltrartion_1_0/green/features.npy\n",
      "Got the result from ./1/train/filtrations/4/HeightFiltrartion_1_0/green/features.npy\n",
      "Got the result from ./1/train/filtrations/4/HeightFiltrartion_1_0/blue/features.npy\n",
      "Got the result from ./1/train/filtrations/4/HeightFiltrartion_1_0/blue/features.npy\n",
      "Fitting filtration 33/72: 4/RadialFiltration_12_12\n",
      "RGB images received. Transforming to grayscale.\n"
     ]
    },
    {
     "name": "stderr",
     "output_type": "stream",
     "text": [
      "rgb2gray: 100%|██████████| 9030/9030 [00:01<00:00, 6072.46it/s]\n"
     ]
    },
    {
     "name": "stdout",
     "output_type": "stream",
     "text": [
      "Got the result from ./1/train/filtrations/4/RadialFiltration_12_12/gray/features.npy\n",
      "Got the result from ./1/train/filtrations/4/RadialFiltration_12_12/gray/features.npy\n",
      "Got the result from ./1/train/filtrations/4/RadialFiltration_12_12/red/features.npy\n",
      "Got the result from ./1/train/filtrations/4/RadialFiltration_12_12/red/features.npy\n",
      "Got the result from ./1/train/filtrations/4/RadialFiltration_12_12/green/features.npy\n",
      "Got the result from ./1/train/filtrations/4/RadialFiltration_12_12/green/features.npy\n",
      "Got the result from ./1/train/filtrations/4/RadialFiltration_12_12/blue/features.npy\n",
      "Got the result from ./1/train/filtrations/4/RadialFiltration_12_12/blue/features.npy\n",
      "Fitting filtration 34/72: 4/RadialFiltration_12_25\n",
      "RGB images received. Transforming to grayscale.\n"
     ]
    },
    {
     "name": "stderr",
     "output_type": "stream",
     "text": [
      "rgb2gray: 100%|██████████| 9030/9030 [00:01<00:00, 5913.39it/s]\n"
     ]
    },
    {
     "name": "stdout",
     "output_type": "stream",
     "text": [
      "Got the result from ./1/train/filtrations/4/RadialFiltration_12_25/gray/features.npy\n",
      "Got the result from ./1/train/filtrations/4/RadialFiltration_12_25/gray/features.npy\n",
      "Got the result from ./1/train/filtrations/4/RadialFiltration_12_25/red/features.npy\n",
      "Got the result from ./1/train/filtrations/4/RadialFiltration_12_25/red/features.npy\n",
      "Got the result from ./1/train/filtrations/4/RadialFiltration_12_25/green/features.npy\n",
      "Got the result from ./1/train/filtrations/4/RadialFiltration_12_25/green/features.npy\n",
      "Got the result from ./1/train/filtrations/4/RadialFiltration_12_25/blue/features.npy\n",
      "Got the result from ./1/train/filtrations/4/RadialFiltration_12_25/blue/features.npy\n",
      "Fitting filtration 35/72: 4/RadialFiltration_12_38\n",
      "RGB images received. Transforming to grayscale.\n"
     ]
    },
    {
     "name": "stderr",
     "output_type": "stream",
     "text": [
      "rgb2gray: 100%|██████████| 9030/9030 [00:01<00:00, 5615.67it/s]\n"
     ]
    },
    {
     "name": "stdout",
     "output_type": "stream",
     "text": [
      "Got the result from ./1/train/filtrations/4/RadialFiltration_12_38/gray/features.npy\n",
      "Got the result from ./1/train/filtrations/4/RadialFiltration_12_38/gray/features.npy\n",
      "Got the result from ./1/train/filtrations/4/RadialFiltration_12_38/red/features.npy\n",
      "Got the result from ./1/train/filtrations/4/RadialFiltration_12_38/red/features.npy\n",
      "Got the result from ./1/train/filtrations/4/RadialFiltration_12_38/green/features.npy\n",
      "Got the result from ./1/train/filtrations/4/RadialFiltration_12_38/green/features.npy\n",
      "Got the result from ./1/train/filtrations/4/RadialFiltration_12_38/blue/features.npy\n",
      "Got the result from ./1/train/filtrations/4/RadialFiltration_12_38/blue/features.npy\n",
      "Fitting filtration 36/72: 4/RadialFiltration_12_51\n",
      "RGB images received. Transforming to grayscale.\n"
     ]
    },
    {
     "name": "stderr",
     "output_type": "stream",
     "text": [
      "rgb2gray: 100%|██████████| 9030/9030 [00:01<00:00, 6229.67it/s]\n"
     ]
    },
    {
     "name": "stdout",
     "output_type": "stream",
     "text": [
      "Got the result from ./1/train/filtrations/4/RadialFiltration_12_51/gray/features.npy\n",
      "Got the result from ./1/train/filtrations/4/RadialFiltration_12_51/gray/features.npy\n",
      "Got the result from ./1/train/filtrations/4/RadialFiltration_12_51/red/features.npy\n",
      "Got the result from ./1/train/filtrations/4/RadialFiltration_12_51/red/features.npy\n",
      "Got the result from ./1/train/filtrations/4/RadialFiltration_12_51/green/features.npy\n",
      "Got the result from ./1/train/filtrations/4/RadialFiltration_12_51/green/features.npy\n",
      "Got the result from ./1/train/filtrations/4/RadialFiltration_12_51/blue/features.npy\n",
      "Got the result from ./1/train/filtrations/4/RadialFiltration_12_51/blue/features.npy\n",
      "Fitting filtration 37/72: 4/RadialFiltration_25_12\n",
      "RGB images received. Transforming to grayscale.\n"
     ]
    },
    {
     "name": "stderr",
     "output_type": "stream",
     "text": [
      "rgb2gray: 100%|██████████| 9030/9030 [00:01<00:00, 5663.80it/s]\n"
     ]
    },
    {
     "name": "stdout",
     "output_type": "stream",
     "text": [
      "Got the result from ./1/train/filtrations/4/RadialFiltration_25_12/gray/features.npy\n",
      "Got the result from ./1/train/filtrations/4/RadialFiltration_25_12/gray/features.npy\n",
      "Got the result from ./1/train/filtrations/4/RadialFiltration_25_12/red/features.npy\n",
      "Got the result from ./1/train/filtrations/4/RadialFiltration_25_12/red/features.npy\n",
      "Got the result from ./1/train/filtrations/4/RadialFiltration_25_12/green/features.npy\n",
      "Got the result from ./1/train/filtrations/4/RadialFiltration_25_12/green/features.npy\n",
      "Got the result from ./1/train/filtrations/4/RadialFiltration_25_12/blue/features.npy\n",
      "Got the result from ./1/train/filtrations/4/RadialFiltration_25_12/blue/features.npy\n",
      "Fitting filtration 38/72: 4/RadialFiltration_25_25\n",
      "RGB images received. Transforming to grayscale.\n"
     ]
    },
    {
     "name": "stderr",
     "output_type": "stream",
     "text": [
      "rgb2gray: 100%|██████████| 9030/9030 [00:01<00:00, 6251.41it/s] \n"
     ]
    },
    {
     "name": "stdout",
     "output_type": "stream",
     "text": [
      "Got the result from ./1/train/filtrations/4/RadialFiltration_25_25/gray/features.npy\n",
      "Got the result from ./1/train/filtrations/4/RadialFiltration_25_25/gray/features.npy\n",
      "Got the result from ./1/train/filtrations/4/RadialFiltration_25_25/red/features.npy\n",
      "Got the result from ./1/train/filtrations/4/RadialFiltration_25_25/red/features.npy\n",
      "Got the result from ./1/train/filtrations/4/RadialFiltration_25_25/green/features.npy\n",
      "Got the result from ./1/train/filtrations/4/RadialFiltration_25_25/green/features.npy\n",
      "Got the result from ./1/train/filtrations/4/RadialFiltration_25_25/blue/features.npy\n",
      "Got the result from ./1/train/filtrations/4/RadialFiltration_25_25/blue/features.npy\n",
      "Fitting filtration 39/72: 4/RadialFiltration_25_38\n",
      "RGB images received. Transforming to grayscale.\n"
     ]
    },
    {
     "name": "stderr",
     "output_type": "stream",
     "text": [
      "rgb2gray: 100%|██████████| 9030/9030 [00:01<00:00, 6194.08it/s]\n"
     ]
    },
    {
     "name": "stdout",
     "output_type": "stream",
     "text": [
      "Got the result from ./1/train/filtrations/4/RadialFiltration_25_38/gray/features.npy\n",
      "Got the result from ./1/train/filtrations/4/RadialFiltration_25_38/gray/features.npy\n",
      "Got the result from ./1/train/filtrations/4/RadialFiltration_25_38/red/features.npy\n",
      "Got the result from ./1/train/filtrations/4/RadialFiltration_25_38/red/features.npy\n",
      "Got the result from ./1/train/filtrations/4/RadialFiltration_25_38/green/features.npy\n",
      "Got the result from ./1/train/filtrations/4/RadialFiltration_25_38/green/features.npy\n",
      "Got the result from ./1/train/filtrations/4/RadialFiltration_25_38/blue/features.npy\n",
      "Got the result from ./1/train/filtrations/4/RadialFiltration_25_38/blue/features.npy\n",
      "Fitting filtration 40/72: 4/RadialFiltration_25_51\n",
      "RGB images received. Transforming to grayscale.\n"
     ]
    },
    {
     "name": "stderr",
     "output_type": "stream",
     "text": [
      "rgb2gray: 100%|██████████| 9030/9030 [00:01<00:00, 6368.13it/s]\n"
     ]
    },
    {
     "name": "stdout",
     "output_type": "stream",
     "text": [
      "Got the result from ./1/train/filtrations/4/RadialFiltration_25_51/gray/features.npy\n",
      "Got the result from ./1/train/filtrations/4/RadialFiltration_25_51/gray/features.npy\n",
      "Got the result from ./1/train/filtrations/4/RadialFiltration_25_51/red/features.npy\n",
      "Got the result from ./1/train/filtrations/4/RadialFiltration_25_51/red/features.npy\n",
      "Got the result from ./1/train/filtrations/4/RadialFiltration_25_51/green/features.npy\n",
      "Got the result from ./1/train/filtrations/4/RadialFiltration_25_51/green/features.npy\n",
      "Got the result from ./1/train/filtrations/4/RadialFiltration_25_51/blue/features.npy\n",
      "Got the result from ./1/train/filtrations/4/RadialFiltration_25_51/blue/features.npy\n",
      "Fitting filtration 41/72: 4/RadialFiltration_38_12\n",
      "RGB images received. Transforming to grayscale.\n"
     ]
    },
    {
     "name": "stderr",
     "output_type": "stream",
     "text": [
      "rgb2gray: 100%|██████████| 9030/9030 [00:01<00:00, 6011.97it/s]\n"
     ]
    },
    {
     "name": "stdout",
     "output_type": "stream",
     "text": [
      "Got the result from ./1/train/filtrations/4/RadialFiltration_38_12/gray/features.npy\n",
      "Got the result from ./1/train/filtrations/4/RadialFiltration_38_12/gray/features.npy\n",
      "Got the result from ./1/train/filtrations/4/RadialFiltration_38_12/red/features.npy\n",
      "Got the result from ./1/train/filtrations/4/RadialFiltration_38_12/red/features.npy\n",
      "Got the result from ./1/train/filtrations/4/RadialFiltration_38_12/green/features.npy\n",
      "Got the result from ./1/train/filtrations/4/RadialFiltration_38_12/green/features.npy\n",
      "Got the result from ./1/train/filtrations/4/RadialFiltration_38_12/blue/features.npy\n",
      "Got the result from ./1/train/filtrations/4/RadialFiltration_38_12/blue/features.npy\n",
      "Fitting filtration 42/72: 4/RadialFiltration_38_25\n",
      "RGB images received. Transforming to grayscale.\n"
     ]
    },
    {
     "name": "stderr",
     "output_type": "stream",
     "text": [
      "rgb2gray: 100%|██████████| 9030/9030 [00:01<00:00, 5680.99it/s]\n"
     ]
    },
    {
     "name": "stdout",
     "output_type": "stream",
     "text": [
      "Got the result from ./1/train/filtrations/4/RadialFiltration_38_25/gray/features.npy\n",
      "Got the result from ./1/train/filtrations/4/RadialFiltration_38_25/gray/features.npy\n",
      "Got the result from ./1/train/filtrations/4/RadialFiltration_38_25/red/features.npy\n",
      "Got the result from ./1/train/filtrations/4/RadialFiltration_38_25/red/features.npy\n",
      "Got the result from ./1/train/filtrations/4/RadialFiltration_38_25/green/features.npy\n",
      "Got the result from ./1/train/filtrations/4/RadialFiltration_38_25/green/features.npy\n",
      "Got the result from ./1/train/filtrations/4/RadialFiltration_38_25/blue/features.npy\n",
      "Got the result from ./1/train/filtrations/4/RadialFiltration_38_25/blue/features.npy\n",
      "Fitting filtration 43/72: 4/RadialFiltration_38_38\n",
      "RGB images received. Transforming to grayscale.\n"
     ]
    },
    {
     "name": "stderr",
     "output_type": "stream",
     "text": [
      "rgb2gray: 100%|██████████| 9030/9030 [00:01<00:00, 6197.11it/s]\n"
     ]
    },
    {
     "name": "stdout",
     "output_type": "stream",
     "text": [
      "Got the result from ./1/train/filtrations/4/RadialFiltration_38_38/gray/features.npy\n",
      "Got the result from ./1/train/filtrations/4/RadialFiltration_38_38/gray/features.npy\n",
      "Got the result from ./1/train/filtrations/4/RadialFiltration_38_38/red/features.npy\n",
      "Got the result from ./1/train/filtrations/4/RadialFiltration_38_38/red/features.npy\n",
      "Got the result from ./1/train/filtrations/4/RadialFiltration_38_38/green/features.npy\n",
      "Got the result from ./1/train/filtrations/4/RadialFiltration_38_38/green/features.npy\n",
      "Got the result from ./1/train/filtrations/4/RadialFiltration_38_38/blue/features.npy\n",
      "Got the result from ./1/train/filtrations/4/RadialFiltration_38_38/blue/features.npy\n",
      "Fitting filtration 44/72: 4/RadialFiltration_38_51\n",
      "RGB images received. Transforming to grayscale.\n"
     ]
    },
    {
     "name": "stderr",
     "output_type": "stream",
     "text": [
      "rgb2gray: 100%|██████████| 9030/9030 [00:01<00:00, 6416.02it/s] \n"
     ]
    },
    {
     "name": "stdout",
     "output_type": "stream",
     "text": [
      "Got the result from ./1/train/filtrations/4/RadialFiltration_38_51/gray/features.npy\n",
      "Got the result from ./1/train/filtrations/4/RadialFiltration_38_51/gray/features.npy\n",
      "Got the result from ./1/train/filtrations/4/RadialFiltration_38_51/red/features.npy\n",
      "Got the result from ./1/train/filtrations/4/RadialFiltration_38_51/red/features.npy\n",
      "Got the result from ./1/train/filtrations/4/RadialFiltration_38_51/green/features.npy\n",
      "Got the result from ./1/train/filtrations/4/RadialFiltration_38_51/green/features.npy\n",
      "Got the result from ./1/train/filtrations/4/RadialFiltration_38_51/blue/features.npy\n",
      "Got the result from ./1/train/filtrations/4/RadialFiltration_38_51/blue/features.npy\n",
      "Fitting filtration 45/72: 4/RadialFiltration_51_12\n",
      "RGB images received. Transforming to grayscale.\n"
     ]
    },
    {
     "name": "stderr",
     "output_type": "stream",
     "text": [
      "rgb2gray: 100%|██████████| 9030/9030 [00:01<00:00, 5941.20it/s] \n"
     ]
    },
    {
     "name": "stdout",
     "output_type": "stream",
     "text": [
      "Got the result from ./1/train/filtrations/4/RadialFiltration_51_12/gray/features.npy\n",
      "Got the result from ./1/train/filtrations/4/RadialFiltration_51_12/gray/features.npy\n",
      "Got the result from ./1/train/filtrations/4/RadialFiltration_51_12/red/features.npy\n",
      "Got the result from ./1/train/filtrations/4/RadialFiltration_51_12/red/features.npy\n",
      "Got the result from ./1/train/filtrations/4/RadialFiltration_51_12/green/features.npy\n",
      "Got the result from ./1/train/filtrations/4/RadialFiltration_51_12/green/features.npy\n",
      "Got the result from ./1/train/filtrations/4/RadialFiltration_51_12/blue/features.npy\n",
      "Got the result from ./1/train/filtrations/4/RadialFiltration_51_12/blue/features.npy\n",
      "Fitting filtration 46/72: 4/RadialFiltration_51_25\n",
      "RGB images received. Transforming to grayscale.\n"
     ]
    },
    {
     "name": "stderr",
     "output_type": "stream",
     "text": [
      "rgb2gray: 100%|██████████| 9030/9030 [00:01<00:00, 6741.41it/s] \n"
     ]
    },
    {
     "name": "stdout",
     "output_type": "stream",
     "text": [
      "Got the result from ./1/train/filtrations/4/RadialFiltration_51_25/gray/features.npy\n",
      "Got the result from ./1/train/filtrations/4/RadialFiltration_51_25/gray/features.npy\n",
      "Got the result from ./1/train/filtrations/4/RadialFiltration_51_25/red/features.npy\n",
      "Got the result from ./1/train/filtrations/4/RadialFiltration_51_25/red/features.npy\n",
      "Got the result from ./1/train/filtrations/4/RadialFiltration_51_25/green/features.npy\n",
      "Got the result from ./1/train/filtrations/4/RadialFiltration_51_25/green/features.npy\n",
      "Got the result from ./1/train/filtrations/4/RadialFiltration_51_25/blue/features.npy\n",
      "Got the result from ./1/train/filtrations/4/RadialFiltration_51_25/blue/features.npy\n",
      "Fitting filtration 47/72: 4/RadialFiltration_51_38\n",
      "RGB images received. Transforming to grayscale.\n"
     ]
    },
    {
     "name": "stderr",
     "output_type": "stream",
     "text": [
      "rgb2gray: 100%|██████████| 9030/9030 [00:01<00:00, 6206.24it/s]\n"
     ]
    },
    {
     "name": "stdout",
     "output_type": "stream",
     "text": [
      "Got the result from ./1/train/filtrations/4/RadialFiltration_51_38/gray/features.npy\n",
      "Got the result from ./1/train/filtrations/4/RadialFiltration_51_38/gray/features.npy\n",
      "Got the result from ./1/train/filtrations/4/RadialFiltration_51_38/red/features.npy\n",
      "Got the result from ./1/train/filtrations/4/RadialFiltration_51_38/red/features.npy\n",
      "Got the result from ./1/train/filtrations/4/RadialFiltration_51_38/green/features.npy\n",
      "Got the result from ./1/train/filtrations/4/RadialFiltration_51_38/green/features.npy\n",
      "Got the result from ./1/train/filtrations/4/RadialFiltration_51_38/blue/features.npy\n",
      "Got the result from ./1/train/filtrations/4/RadialFiltration_51_38/blue/features.npy\n",
      "Fitting filtration 48/72: 4/RadialFiltration_51_51\n",
      "RGB images received. Transforming to grayscale.\n"
     ]
    },
    {
     "name": "stderr",
     "output_type": "stream",
     "text": [
      "rgb2gray: 100%|██████████| 9030/9030 [00:01<00:00, 6142.13it/s]\n"
     ]
    },
    {
     "name": "stdout",
     "output_type": "stream",
     "text": [
      "Got the result from ./1/train/filtrations/4/RadialFiltration_51_51/gray/features.npy\n",
      "Got the result from ./1/train/filtrations/4/RadialFiltration_51_51/gray/features.npy\n",
      "Got the result from ./1/train/filtrations/4/RadialFiltration_51_51/red/features.npy\n",
      "Got the result from ./1/train/filtrations/4/RadialFiltration_51_51/red/features.npy\n",
      "Got the result from ./1/train/filtrations/4/RadialFiltration_51_51/green/features.npy\n",
      "Got the result from ./1/train/filtrations/4/RadialFiltration_51_51/green/features.npy\n",
      "Got the result from ./1/train/filtrations/4/RadialFiltration_51_51/blue/features.npy\n",
      "Got the result from ./1/train/filtrations/4/RadialFiltration_51_51/blue/features.npy\n",
      "Fitting filtration 49/72: 6/HeightFiltrartion_-1_-1\n",
      "RGB images received. Transforming to grayscale.\n"
     ]
    },
    {
     "name": "stderr",
     "output_type": "stream",
     "text": [
      "rgb2gray: 100%|██████████| 9030/9030 [00:01<00:00, 6319.10it/s]\n"
     ]
    },
    {
     "name": "stdout",
     "output_type": "stream",
     "text": [
      "Got the result from ./1/train/filtrations/6/HeightFiltrartion_-1_-1/gray/features.npy\n",
      "Got the result from ./1/train/filtrations/6/HeightFiltrartion_-1_-1/gray/features.npy\n",
      "Got the result from ./1/train/filtrations/6/HeightFiltrartion_-1_-1/red/features.npy\n",
      "Got the result from ./1/train/filtrations/6/HeightFiltrartion_-1_-1/red/features.npy\n",
      "Got the result from ./1/train/filtrations/6/HeightFiltrartion_-1_-1/green/features.npy\n",
      "Got the result from ./1/train/filtrations/6/HeightFiltrartion_-1_-1/green/features.npy\n",
      "Got the result from ./1/train/filtrations/6/HeightFiltrartion_-1_-1/blue/features.npy\n",
      "Got the result from ./1/train/filtrations/6/HeightFiltrartion_-1_-1/blue/features.npy\n",
      "Fitting filtration 50/72: 6/HeightFiltrartion_1_1\n",
      "RGB images received. Transforming to grayscale.\n"
     ]
    },
    {
     "name": "stderr",
     "output_type": "stream",
     "text": [
      "rgb2gray: 100%|██████████| 9030/9030 [00:01<00:00, 6336.84it/s] \n"
     ]
    },
    {
     "name": "stdout",
     "output_type": "stream",
     "text": [
      "Got the result from ./1/train/filtrations/6/HeightFiltrartion_1_1/gray/features.npy\n",
      "Got the result from ./1/train/filtrations/6/HeightFiltrartion_1_1/gray/features.npy\n",
      "Got the result from ./1/train/filtrations/6/HeightFiltrartion_1_1/red/features.npy\n",
      "Got the result from ./1/train/filtrations/6/HeightFiltrartion_1_1/red/features.npy\n",
      "Got the result from ./1/train/filtrations/6/HeightFiltrartion_1_1/green/features.npy\n",
      "Got the result from ./1/train/filtrations/6/HeightFiltrartion_1_1/green/features.npy\n",
      "Got the result from ./1/train/filtrations/6/HeightFiltrartion_1_1/blue/features.npy\n",
      "Got the result from ./1/train/filtrations/6/HeightFiltrartion_1_1/blue/features.npy\n",
      "Fitting filtration 51/72: 6/HeightFiltrartion_1_-1\n",
      "RGB images received. Transforming to grayscale.\n"
     ]
    },
    {
     "name": "stderr",
     "output_type": "stream",
     "text": [
      "rgb2gray: 100%|██████████| 9030/9030 [00:01<00:00, 5960.95it/s]\n"
     ]
    },
    {
     "name": "stdout",
     "output_type": "stream",
     "text": [
      "Got the result from ./1/train/filtrations/6/HeightFiltrartion_1_-1/gray/features.npy\n",
      "Got the result from ./1/train/filtrations/6/HeightFiltrartion_1_-1/gray/features.npy\n",
      "Got the result from ./1/train/filtrations/6/HeightFiltrartion_1_-1/red/features.npy\n",
      "Got the result from ./1/train/filtrations/6/HeightFiltrartion_1_-1/red/features.npy\n",
      "Got the result from ./1/train/filtrations/6/HeightFiltrartion_1_-1/green/features.npy\n",
      "Got the result from ./1/train/filtrations/6/HeightFiltrartion_1_-1/green/features.npy\n",
      "Got the result from ./1/train/filtrations/6/HeightFiltrartion_1_-1/blue/features.npy\n",
      "Got the result from ./1/train/filtrations/6/HeightFiltrartion_1_-1/blue/features.npy\n",
      "Fitting filtration 52/72: 6/HeightFiltrartion_-1_1\n",
      "RGB images received. Transforming to grayscale.\n"
     ]
    },
    {
     "name": "stderr",
     "output_type": "stream",
     "text": [
      "rgb2gray: 100%|██████████| 9030/9030 [00:01<00:00, 6449.98it/s]\n"
     ]
    },
    {
     "name": "stdout",
     "output_type": "stream",
     "text": [
      "Got the result from ./1/train/filtrations/6/HeightFiltrartion_-1_1/gray/features.npy\n",
      "Got the result from ./1/train/filtrations/6/HeightFiltrartion_-1_1/gray/features.npy\n",
      "Got the result from ./1/train/filtrations/6/HeightFiltrartion_-1_1/red/features.npy\n",
      "Got the result from ./1/train/filtrations/6/HeightFiltrartion_-1_1/red/features.npy\n",
      "Got the result from ./1/train/filtrations/6/HeightFiltrartion_-1_1/green/features.npy\n",
      "Got the result from ./1/train/filtrations/6/HeightFiltrartion_-1_1/green/features.npy\n",
      "Got the result from ./1/train/filtrations/6/HeightFiltrartion_-1_1/blue/features.npy\n",
      "Got the result from ./1/train/filtrations/6/HeightFiltrartion_-1_1/blue/features.npy\n",
      "Fitting filtration 53/72: 6/HeightFiltrartion_0_-1\n",
      "RGB images received. Transforming to grayscale.\n"
     ]
    },
    {
     "name": "stderr",
     "output_type": "stream",
     "text": [
      "rgb2gray: 100%|██████████| 9030/9030 [00:01<00:00, 6517.57it/s]\n"
     ]
    },
    {
     "name": "stdout",
     "output_type": "stream",
     "text": [
      "Got the result from ./1/train/filtrations/6/HeightFiltrartion_0_-1/gray/features.npy\n",
      "Got the result from ./1/train/filtrations/6/HeightFiltrartion_0_-1/gray/features.npy\n",
      "Got the result from ./1/train/filtrations/6/HeightFiltrartion_0_-1/red/features.npy\n",
      "Got the result from ./1/train/filtrations/6/HeightFiltrartion_0_-1/red/features.npy\n",
      "Got the result from ./1/train/filtrations/6/HeightFiltrartion_0_-1/green/features.npy\n",
      "Got the result from ./1/train/filtrations/6/HeightFiltrartion_0_-1/green/features.npy\n",
      "Got the result from ./1/train/filtrations/6/HeightFiltrartion_0_-1/blue/features.npy\n",
      "Got the result from ./1/train/filtrations/6/HeightFiltrartion_0_-1/blue/features.npy\n",
      "Fitting filtration 54/72: 6/HeightFiltrartion_0_1\n",
      "RGB images received. Transforming to grayscale.\n"
     ]
    },
    {
     "name": "stderr",
     "output_type": "stream",
     "text": [
      "rgb2gray: 100%|██████████| 9030/9030 [00:01<00:00, 6673.61it/s] \n"
     ]
    },
    {
     "name": "stdout",
     "output_type": "stream",
     "text": [
      "Got the result from ./1/train/filtrations/6/HeightFiltrartion_0_1/gray/features.npy\n",
      "Got the result from ./1/train/filtrations/6/HeightFiltrartion_0_1/gray/features.npy\n",
      "Got the result from ./1/train/filtrations/6/HeightFiltrartion_0_1/red/features.npy\n",
      "Got the result from ./1/train/filtrations/6/HeightFiltrartion_0_1/red/features.npy\n",
      "Got the result from ./1/train/filtrations/6/HeightFiltrartion_0_1/green/features.npy\n",
      "Got the result from ./1/train/filtrations/6/HeightFiltrartion_0_1/green/features.npy\n",
      "Got the result from ./1/train/filtrations/6/HeightFiltrartion_0_1/blue/features.npy\n",
      "Got the result from ./1/train/filtrations/6/HeightFiltrartion_0_1/blue/features.npy\n",
      "Fitting filtration 55/72: 6/HeightFiltrartion_-1_0\n",
      "RGB images received. Transforming to grayscale.\n"
     ]
    },
    {
     "name": "stderr",
     "output_type": "stream",
     "text": [
      "rgb2gray: 100%|██████████| 9030/9030 [00:01<00:00, 6512.79it/s] \n"
     ]
    },
    {
     "name": "stdout",
     "output_type": "stream",
     "text": [
      "Got the result from ./1/train/filtrations/6/HeightFiltrartion_-1_0/gray/features.npy\n",
      "Got the result from ./1/train/filtrations/6/HeightFiltrartion_-1_0/gray/features.npy\n",
      "Got the result from ./1/train/filtrations/6/HeightFiltrartion_-1_0/red/features.npy\n",
      "Got the result from ./1/train/filtrations/6/HeightFiltrartion_-1_0/red/features.npy\n",
      "Got the result from ./1/train/filtrations/6/HeightFiltrartion_-1_0/green/features.npy\n",
      "Got the result from ./1/train/filtrations/6/HeightFiltrartion_-1_0/green/features.npy\n",
      "Got the result from ./1/train/filtrations/6/HeightFiltrartion_-1_0/blue/features.npy\n",
      "Got the result from ./1/train/filtrations/6/HeightFiltrartion_-1_0/blue/features.npy\n",
      "Fitting filtration 56/72: 6/HeightFiltrartion_1_0\n",
      "RGB images received. Transforming to grayscale.\n"
     ]
    },
    {
     "name": "stderr",
     "output_type": "stream",
     "text": [
      "rgb2gray: 100%|██████████| 9030/9030 [00:01<00:00, 5892.30it/s]\n"
     ]
    },
    {
     "name": "stdout",
     "output_type": "stream",
     "text": [
      "Got the result from ./1/train/filtrations/6/HeightFiltrartion_1_0/gray/features.npy\n",
      "Got the result from ./1/train/filtrations/6/HeightFiltrartion_1_0/gray/features.npy\n",
      "Got the result from ./1/train/filtrations/6/HeightFiltrartion_1_0/red/features.npy\n",
      "Got the result from ./1/train/filtrations/6/HeightFiltrartion_1_0/red/features.npy\n",
      "Got the result from ./1/train/filtrations/6/HeightFiltrartion_1_0/green/features.npy\n",
      "Got the result from ./1/train/filtrations/6/HeightFiltrartion_1_0/green/features.npy\n",
      "Got the result from ./1/train/filtrations/6/HeightFiltrartion_1_0/blue/features.npy\n",
      "Got the result from ./1/train/filtrations/6/HeightFiltrartion_1_0/blue/features.npy\n",
      "Fitting filtration 57/72: 6/RadialFiltration_12_12\n",
      "RGB images received. Transforming to grayscale.\n"
     ]
    },
    {
     "name": "stderr",
     "output_type": "stream",
     "text": [
      "rgb2gray: 100%|██████████| 9030/9030 [00:01<00:00, 5966.12it/s]\n"
     ]
    },
    {
     "name": "stdout",
     "output_type": "stream",
     "text": [
      "Got the result from ./1/train/filtrations/6/RadialFiltration_12_12/gray/features.npy\n",
      "Got the result from ./1/train/filtrations/6/RadialFiltration_12_12/gray/features.npy\n",
      "Got the result from ./1/train/filtrations/6/RadialFiltration_12_12/red/features.npy\n",
      "Got the result from ./1/train/filtrations/6/RadialFiltration_12_12/red/features.npy\n",
      "Got the result from ./1/train/filtrations/6/RadialFiltration_12_12/green/features.npy\n",
      "Got the result from ./1/train/filtrations/6/RadialFiltration_12_12/green/features.npy\n",
      "Got the result from ./1/train/filtrations/6/RadialFiltration_12_12/blue/features.npy\n",
      "Got the result from ./1/train/filtrations/6/RadialFiltration_12_12/blue/features.npy\n",
      "Fitting filtration 58/72: 6/RadialFiltration_12_25\n",
      "RGB images received. Transforming to grayscale.\n"
     ]
    },
    {
     "name": "stderr",
     "output_type": "stream",
     "text": [
      "rgb2gray: 100%|██████████| 9030/9030 [00:01<00:00, 5878.91it/s]\n"
     ]
    },
    {
     "name": "stdout",
     "output_type": "stream",
     "text": [
      "Got the result from ./1/train/filtrations/6/RadialFiltration_12_25/gray/features.npy\n",
      "Got the result from ./1/train/filtrations/6/RadialFiltration_12_25/gray/features.npy\n",
      "Got the result from ./1/train/filtrations/6/RadialFiltration_12_25/red/features.npy\n",
      "Got the result from ./1/train/filtrations/6/RadialFiltration_12_25/red/features.npy\n",
      "Got the result from ./1/train/filtrations/6/RadialFiltration_12_25/green/features.npy\n",
      "Got the result from ./1/train/filtrations/6/RadialFiltration_12_25/green/features.npy\n",
      "Got the result from ./1/train/filtrations/6/RadialFiltration_12_25/blue/features.npy\n",
      "Got the result from ./1/train/filtrations/6/RadialFiltration_12_25/blue/features.npy\n",
      "Fitting filtration 59/72: 6/RadialFiltration_12_38\n",
      "RGB images received. Transforming to grayscale.\n"
     ]
    },
    {
     "name": "stderr",
     "output_type": "stream",
     "text": [
      "rgb2gray: 100%|██████████| 9030/9030 [00:01<00:00, 5956.61it/s]\n"
     ]
    },
    {
     "name": "stdout",
     "output_type": "stream",
     "text": [
      "Got the result from ./1/train/filtrations/6/RadialFiltration_12_38/gray/features.npy\n",
      "Got the result from ./1/train/filtrations/6/RadialFiltration_12_38/gray/features.npy\n",
      "Got the result from ./1/train/filtrations/6/RadialFiltration_12_38/red/features.npy\n",
      "Got the result from ./1/train/filtrations/6/RadialFiltration_12_38/red/features.npy\n",
      "Got the result from ./1/train/filtrations/6/RadialFiltration_12_38/green/features.npy\n",
      "Got the result from ./1/train/filtrations/6/RadialFiltration_12_38/green/features.npy\n",
      "Got the result from ./1/train/filtrations/6/RadialFiltration_12_38/blue/features.npy\n",
      "Got the result from ./1/train/filtrations/6/RadialFiltration_12_38/blue/features.npy\n",
      "Fitting filtration 60/72: 6/RadialFiltration_12_51\n",
      "RGB images received. Transforming to grayscale.\n"
     ]
    },
    {
     "name": "stderr",
     "output_type": "stream",
     "text": [
      "rgb2gray: 100%|██████████| 9030/9030 [00:01<00:00, 5040.35it/s]\n"
     ]
    },
    {
     "name": "stdout",
     "output_type": "stream",
     "text": [
      "Got the result from ./1/train/filtrations/6/RadialFiltration_12_51/gray/features.npy\n",
      "Got the result from ./1/train/filtrations/6/RadialFiltration_12_51/gray/features.npy\n",
      "Got the result from ./1/train/filtrations/6/RadialFiltration_12_51/red/features.npy\n",
      "Got the result from ./1/train/filtrations/6/RadialFiltration_12_51/red/features.npy\n",
      "Got the result from ./1/train/filtrations/6/RadialFiltration_12_51/green/features.npy\n",
      "Got the result from ./1/train/filtrations/6/RadialFiltration_12_51/green/features.npy\n",
      "Got the result from ./1/train/filtrations/6/RadialFiltration_12_51/blue/features.npy\n",
      "Got the result from ./1/train/filtrations/6/RadialFiltration_12_51/blue/features.npy\n",
      "Fitting filtration 61/72: 6/RadialFiltration_25_12\n",
      "RGB images received. Transforming to grayscale.\n"
     ]
    },
    {
     "name": "stderr",
     "output_type": "stream",
     "text": [
      "rgb2gray: 100%|██████████| 9030/9030 [00:01<00:00, 4877.17it/s]\n"
     ]
    },
    {
     "name": "stdout",
     "output_type": "stream",
     "text": [
      "Got the result from ./1/train/filtrations/6/RadialFiltration_25_12/gray/features.npy\n",
      "Got the result from ./1/train/filtrations/6/RadialFiltration_25_12/gray/features.npy\n",
      "Got the result from ./1/train/filtrations/6/RadialFiltration_25_12/red/features.npy\n",
      "Got the result from ./1/train/filtrations/6/RadialFiltration_25_12/red/features.npy\n",
      "Got the result from ./1/train/filtrations/6/RadialFiltration_25_12/green/features.npy\n",
      "Got the result from ./1/train/filtrations/6/RadialFiltration_25_12/green/features.npy\n",
      "Got the result from ./1/train/filtrations/6/RadialFiltration_25_12/blue/features.npy\n",
      "Got the result from ./1/train/filtrations/6/RadialFiltration_25_12/blue/features.npy\n",
      "Fitting filtration 62/72: 6/RadialFiltration_25_25\n",
      "RGB images received. Transforming to grayscale.\n"
     ]
    },
    {
     "name": "stderr",
     "output_type": "stream",
     "text": [
      "rgb2gray: 100%|██████████| 9030/9030 [00:01<00:00, 4856.67it/s]\n"
     ]
    },
    {
     "name": "stdout",
     "output_type": "stream",
     "text": [
      "Got the result from ./1/train/filtrations/6/RadialFiltration_25_25/gray/features.npy\n",
      "Got the result from ./1/train/filtrations/6/RadialFiltration_25_25/gray/features.npy\n",
      "Got the result from ./1/train/filtrations/6/RadialFiltration_25_25/red/features.npy\n",
      "Got the result from ./1/train/filtrations/6/RadialFiltration_25_25/red/features.npy\n",
      "Got the result from ./1/train/filtrations/6/RadialFiltration_25_25/green/features.npy\n",
      "Got the result from ./1/train/filtrations/6/RadialFiltration_25_25/green/features.npy\n",
      "Got the result from ./1/train/filtrations/6/RadialFiltration_25_25/blue/features.npy\n",
      "Got the result from ./1/train/filtrations/6/RadialFiltration_25_25/blue/features.npy\n",
      "Fitting filtration 63/72: 6/RadialFiltration_25_38\n",
      "RGB images received. Transforming to grayscale.\n"
     ]
    },
    {
     "name": "stderr",
     "output_type": "stream",
     "text": [
      "rgb2gray: 100%|██████████| 9030/9030 [00:01<00:00, 5812.26it/s]\n"
     ]
    },
    {
     "name": "stdout",
     "output_type": "stream",
     "text": [
      "Got the result from ./1/train/filtrations/6/RadialFiltration_25_38/gray/features.npy\n",
      "Got the result from ./1/train/filtrations/6/RadialFiltration_25_38/gray/features.npy\n",
      "Got the result from ./1/train/filtrations/6/RadialFiltration_25_38/red/features.npy\n",
      "Got the result from ./1/train/filtrations/6/RadialFiltration_25_38/red/features.npy\n",
      "Got the result from ./1/train/filtrations/6/RadialFiltration_25_38/green/features.npy\n",
      "Got the result from ./1/train/filtrations/6/RadialFiltration_25_38/green/features.npy\n",
      "Got the result from ./1/train/filtrations/6/RadialFiltration_25_38/blue/features.npy\n",
      "Got the result from ./1/train/filtrations/6/RadialFiltration_25_38/blue/features.npy\n",
      "Fitting filtration 64/72: 6/RadialFiltration_25_51\n",
      "RGB images received. Transforming to grayscale.\n"
     ]
    },
    {
     "name": "stderr",
     "output_type": "stream",
     "text": [
      "rgb2gray: 100%|██████████| 9030/9030 [00:01<00:00, 5858.01it/s]\n"
     ]
    },
    {
     "name": "stdout",
     "output_type": "stream",
     "text": [
      "Got the result from ./1/train/filtrations/6/RadialFiltration_25_51/gray/features.npy\n",
      "Got the result from ./1/train/filtrations/6/RadialFiltration_25_51/gray/features.npy\n",
      "Got the result from ./1/train/filtrations/6/RadialFiltration_25_51/red/features.npy\n",
      "Got the result from ./1/train/filtrations/6/RadialFiltration_25_51/red/features.npy\n",
      "Got the result from ./1/train/filtrations/6/RadialFiltration_25_51/green/features.npy\n",
      "Got the result from ./1/train/filtrations/6/RadialFiltration_25_51/green/features.npy\n",
      "Got the result from ./1/train/filtrations/6/RadialFiltration_25_51/blue/features.npy\n",
      "Got the result from ./1/train/filtrations/6/RadialFiltration_25_51/blue/features.npy\n",
      "Fitting filtration 65/72: 6/RadialFiltration_38_12\n",
      "RGB images received. Transforming to grayscale.\n"
     ]
    },
    {
     "name": "stderr",
     "output_type": "stream",
     "text": [
      "rgb2gray: 100%|██████████| 9030/9030 [00:01<00:00, 6244.80it/s]\n"
     ]
    },
    {
     "name": "stdout",
     "output_type": "stream",
     "text": [
      "Got the result from ./1/train/filtrations/6/RadialFiltration_38_12/gray/features.npy\n",
      "Got the result from ./1/train/filtrations/6/RadialFiltration_38_12/gray/features.npy\n",
      "Got the result from ./1/train/filtrations/6/RadialFiltration_38_12/red/features.npy\n",
      "Got the result from ./1/train/filtrations/6/RadialFiltration_38_12/red/features.npy\n",
      "Got the result from ./1/train/filtrations/6/RadialFiltration_38_12/green/features.npy\n",
      "Got the result from ./1/train/filtrations/6/RadialFiltration_38_12/green/features.npy\n",
      "Got the result from ./1/train/filtrations/6/RadialFiltration_38_12/blue/features.npy\n",
      "Got the result from ./1/train/filtrations/6/RadialFiltration_38_12/blue/features.npy\n",
      "Fitting filtration 66/72: 6/RadialFiltration_38_25\n",
      "RGB images received. Transforming to grayscale.\n"
     ]
    },
    {
     "name": "stderr",
     "output_type": "stream",
     "text": [
      "rgb2gray: 100%|██████████| 9030/9030 [00:01<00:00, 5999.99it/s]\n"
     ]
    },
    {
     "name": "stdout",
     "output_type": "stream",
     "text": [
      "Got the result from ./1/train/filtrations/6/RadialFiltration_38_25/gray/features.npy\n",
      "Got the result from ./1/train/filtrations/6/RadialFiltration_38_25/gray/features.npy\n",
      "Got the result from ./1/train/filtrations/6/RadialFiltration_38_25/red/features.npy\n",
      "Got the result from ./1/train/filtrations/6/RadialFiltration_38_25/red/features.npy\n",
      "Got the result from ./1/train/filtrations/6/RadialFiltration_38_25/green/features.npy\n",
      "Got the result from ./1/train/filtrations/6/RadialFiltration_38_25/green/features.npy\n",
      "Got the result from ./1/train/filtrations/6/RadialFiltration_38_25/blue/features.npy\n",
      "Got the result from ./1/train/filtrations/6/RadialFiltration_38_25/blue/features.npy\n",
      "Fitting filtration 67/72: 6/RadialFiltration_38_38\n",
      "RGB images received. Transforming to grayscale.\n"
     ]
    },
    {
     "name": "stderr",
     "output_type": "stream",
     "text": [
      "rgb2gray: 100%|██████████| 9030/9030 [00:01<00:00, 5854.06it/s]\n"
     ]
    },
    {
     "name": "stdout",
     "output_type": "stream",
     "text": [
      "Got the result from ./1/train/filtrations/6/RadialFiltration_38_38/gray/features.npy\n",
      "Got the result from ./1/train/filtrations/6/RadialFiltration_38_38/gray/features.npy\n",
      "Got the result from ./1/train/filtrations/6/RadialFiltration_38_38/red/features.npy\n",
      "Got the result from ./1/train/filtrations/6/RadialFiltration_38_38/red/features.npy\n",
      "Got the result from ./1/train/filtrations/6/RadialFiltration_38_38/green/features.npy\n",
      "Got the result from ./1/train/filtrations/6/RadialFiltration_38_38/green/features.npy\n",
      "Got the result from ./1/train/filtrations/6/RadialFiltration_38_38/blue/features.npy\n",
      "Got the result from ./1/train/filtrations/6/RadialFiltration_38_38/blue/features.npy\n",
      "Fitting filtration 68/72: 6/RadialFiltration_38_51\n",
      "RGB images received. Transforming to grayscale.\n"
     ]
    },
    {
     "name": "stderr",
     "output_type": "stream",
     "text": [
      "rgb2gray: 100%|██████████| 9030/9030 [00:01<00:00, 6037.77it/s]\n"
     ]
    },
    {
     "name": "stdout",
     "output_type": "stream",
     "text": [
      "Got the result from ./1/train/filtrations/6/RadialFiltration_38_51/gray/features.npy\n",
      "Got the result from ./1/train/filtrations/6/RadialFiltration_38_51/gray/features.npy\n",
      "Got the result from ./1/train/filtrations/6/RadialFiltration_38_51/red/features.npy\n",
      "Got the result from ./1/train/filtrations/6/RadialFiltration_38_51/red/features.npy\n",
      "Got the result from ./1/train/filtrations/6/RadialFiltration_38_51/green/features.npy\n",
      "Got the result from ./1/train/filtrations/6/RadialFiltration_38_51/green/features.npy\n",
      "Got the result from ./1/train/filtrations/6/RadialFiltration_38_51/blue/features.npy\n",
      "Got the result from ./1/train/filtrations/6/RadialFiltration_38_51/blue/features.npy\n",
      "Fitting filtration 69/72: 6/RadialFiltration_51_12\n",
      "RGB images received. Transforming to grayscale.\n"
     ]
    },
    {
     "name": "stderr",
     "output_type": "stream",
     "text": [
      "rgb2gray: 100%|██████████| 9030/9030 [00:01<00:00, 5430.94it/s]\n"
     ]
    },
    {
     "name": "stdout",
     "output_type": "stream",
     "text": [
      "Got the result from ./1/train/filtrations/6/RadialFiltration_51_12/gray/features.npy\n",
      "Got the result from ./1/train/filtrations/6/RadialFiltration_51_12/gray/features.npy\n",
      "Got the result from ./1/train/filtrations/6/RadialFiltration_51_12/red/features.npy\n",
      "Got the result from ./1/train/filtrations/6/RadialFiltration_51_12/red/features.npy\n",
      "Got the result from ./1/train/filtrations/6/RadialFiltration_51_12/green/features.npy\n",
      "Got the result from ./1/train/filtrations/6/RadialFiltration_51_12/green/features.npy\n",
      "Got the result from ./1/train/filtrations/6/RadialFiltration_51_12/blue/features.npy\n",
      "Got the result from ./1/train/filtrations/6/RadialFiltration_51_12/blue/features.npy\n",
      "Fitting filtration 70/72: 6/RadialFiltration_51_25\n",
      "RGB images received. Transforming to grayscale.\n"
     ]
    },
    {
     "name": "stderr",
     "output_type": "stream",
     "text": [
      "rgb2gray: 100%|██████████| 9030/9030 [00:01<00:00, 6047.33it/s]\n"
     ]
    },
    {
     "name": "stdout",
     "output_type": "stream",
     "text": [
      "Got the result from ./1/train/filtrations/6/RadialFiltration_51_25/gray/features.npy\n",
      "Got the result from ./1/train/filtrations/6/RadialFiltration_51_25/gray/features.npy\n",
      "Got the result from ./1/train/filtrations/6/RadialFiltration_51_25/red/features.npy\n",
      "Got the result from ./1/train/filtrations/6/RadialFiltration_51_25/red/features.npy\n",
      "Got the result from ./1/train/filtrations/6/RadialFiltration_51_25/green/features.npy\n",
      "Got the result from ./1/train/filtrations/6/RadialFiltration_51_25/green/features.npy\n",
      "Got the result from ./1/train/filtrations/6/RadialFiltration_51_25/blue/features.npy\n",
      "Got the result from ./1/train/filtrations/6/RadialFiltration_51_25/blue/features.npy\n",
      "Fitting filtration 71/72: 6/RadialFiltration_51_38\n",
      "RGB images received. Transforming to grayscale.\n"
     ]
    },
    {
     "name": "stderr",
     "output_type": "stream",
     "text": [
      "rgb2gray: 100%|██████████| 9030/9030 [00:01<00:00, 5930.95it/s]\n"
     ]
    },
    {
     "name": "stdout",
     "output_type": "stream",
     "text": [
      "Got the result from ./1/train/filtrations/6/RadialFiltration_51_38/gray/features.npy\n",
      "Got the result from ./1/train/filtrations/6/RadialFiltration_51_38/gray/features.npy\n",
      "Got the result from ./1/train/filtrations/6/RadialFiltration_51_38/red/features.npy\n",
      "Got the result from ./1/train/filtrations/6/RadialFiltration_51_38/red/features.npy\n",
      "Got the result from ./1/train/filtrations/6/RadialFiltration_51_38/green/features.npy\n",
      "Got the result from ./1/train/filtrations/6/RadialFiltration_51_38/green/features.npy\n",
      "Got the result from ./1/train/filtrations/6/RadialFiltration_51_38/blue/features.npy\n",
      "Got the result from ./1/train/filtrations/6/RadialFiltration_51_38/blue/features.npy\n",
      "Fitting filtration 72/72: 6/RadialFiltration_51_51\n",
      "RGB images received. Transforming to grayscale.\n"
     ]
    },
    {
     "name": "stderr",
     "output_type": "stream",
     "text": [
      "rgb2gray: 100%|██████████| 9030/9030 [00:01<00:00, 5890.27it/s]\n"
     ]
    },
    {
     "name": "stdout",
     "output_type": "stream",
     "text": [
      "Got the result from ./1/train/filtrations/6/RadialFiltration_51_51/gray/features.npy\n",
      "Got the result from ./1/train/filtrations/6/RadialFiltration_51_51/gray/features.npy\n",
      "Got the result from ./1/train/filtrations/6/RadialFiltration_51_51/red/features.npy\n",
      "Got the result from ./1/train/filtrations/6/RadialFiltration_51_51/red/features.npy\n",
      "Got the result from ./1/train/filtrations/6/RadialFiltration_51_51/green/features.npy\n",
      "Got the result from ./1/train/filtrations/6/RadialFiltration_51_51/green/features.npy\n",
      "Got the result from ./1/train/filtrations/6/RadialFiltration_51_51/blue/features.npy\n",
      "Got the result from ./1/train/filtrations/6/RadialFiltration_51_51/blue/features.npy\n",
      "Applying filtrations\n",
      "Applying filtration 1/72: 2/HeightFiltrartion_-1_-1\n",
      "RGB images received. Transforming to grayscale.\n"
     ]
    },
    {
     "name": "stderr",
     "output_type": "stream",
     "text": [
      "rgb2gray: 100%|██████████| 9030/9030 [00:01<00:00, 6332.89it/s]\n"
     ]
    },
    {
     "name": "stdout",
     "output_type": "stream",
     "text": [
      "Got the result from ./1/train/filtrations/2/HeightFiltrartion_-1_-1/gray/features.npy\n",
      "Got the result from ./1/train/filtrations/2/HeightFiltrartion_-1_-1/red/features.npy\n",
      "Got the result from ./1/train/filtrations/2/HeightFiltrartion_-1_-1/green/features.npy\n",
      "Got the result from ./1/train/filtrations/2/HeightFiltrartion_-1_-1/blue/features.npy\n",
      "Applying filtration 2/72: 2/HeightFiltrartion_1_1\n",
      "RGB images received. Transforming to grayscale.\n"
     ]
    },
    {
     "name": "stderr",
     "output_type": "stream",
     "text": [
      "rgb2gray: 100%|██████████| 9030/9030 [00:01<00:00, 6152.98it/s]\n"
     ]
    },
    {
     "name": "stdout",
     "output_type": "stream",
     "text": [
      "Got the result from ./1/train/filtrations/2/HeightFiltrartion_1_1/gray/features.npy\n",
      "Got the result from ./1/train/filtrations/2/HeightFiltrartion_1_1/red/features.npy\n",
      "Got the result from ./1/train/filtrations/2/HeightFiltrartion_1_1/green/features.npy\n",
      "Got the result from ./1/train/filtrations/2/HeightFiltrartion_1_1/blue/features.npy\n",
      "Applying filtration 3/72: 2/HeightFiltrartion_1_-1\n",
      "RGB images received. Transforming to grayscale.\n"
     ]
    },
    {
     "name": "stderr",
     "output_type": "stream",
     "text": [
      "rgb2gray: 100%|██████████| 9030/9030 [00:01<00:00, 5863.64it/s]\n"
     ]
    },
    {
     "name": "stdout",
     "output_type": "stream",
     "text": [
      "Got the result from ./1/train/filtrations/2/HeightFiltrartion_1_-1/gray/features.npy\n",
      "Got the result from ./1/train/filtrations/2/HeightFiltrartion_1_-1/red/features.npy\n",
      "Got the result from ./1/train/filtrations/2/HeightFiltrartion_1_-1/green/features.npy\n",
      "Got the result from ./1/train/filtrations/2/HeightFiltrartion_1_-1/blue/features.npy\n",
      "Applying filtration 4/72: 2/HeightFiltrartion_-1_1\n",
      "RGB images received. Transforming to grayscale.\n"
     ]
    },
    {
     "name": "stderr",
     "output_type": "stream",
     "text": [
      "rgb2gray: 100%|██████████| 9030/9030 [00:01<00:00, 6153.12it/s]\n"
     ]
    },
    {
     "name": "stdout",
     "output_type": "stream",
     "text": [
      "Got the result from ./1/train/filtrations/2/HeightFiltrartion_-1_1/gray/features.npy\n",
      "Got the result from ./1/train/filtrations/2/HeightFiltrartion_-1_1/red/features.npy\n",
      "Got the result from ./1/train/filtrations/2/HeightFiltrartion_-1_1/green/features.npy\n",
      "Got the result from ./1/train/filtrations/2/HeightFiltrartion_-1_1/blue/features.npy\n",
      "Applying filtration 5/72: 2/HeightFiltrartion_0_-1\n",
      "RGB images received. Transforming to grayscale.\n"
     ]
    },
    {
     "name": "stderr",
     "output_type": "stream",
     "text": [
      "rgb2gray: 100%|██████████| 9030/9030 [00:01<00:00, 6017.97it/s]\n"
     ]
    },
    {
     "name": "stdout",
     "output_type": "stream",
     "text": [
      "Got the result from ./1/train/filtrations/2/HeightFiltrartion_0_-1/gray/features.npy\n",
      "Got the result from ./1/train/filtrations/2/HeightFiltrartion_0_-1/red/features.npy\n",
      "Got the result from ./1/train/filtrations/2/HeightFiltrartion_0_-1/green/features.npy\n",
      "Got the result from ./1/train/filtrations/2/HeightFiltrartion_0_-1/blue/features.npy\n",
      "Applying filtration 6/72: 2/HeightFiltrartion_0_1\n",
      "RGB images received. Transforming to grayscale.\n"
     ]
    },
    {
     "name": "stderr",
     "output_type": "stream",
     "text": [
      "rgb2gray: 100%|██████████| 9030/9030 [00:01<00:00, 5860.65it/s]\n"
     ]
    },
    {
     "name": "stdout",
     "output_type": "stream",
     "text": [
      "Got the result from ./1/train/filtrations/2/HeightFiltrartion_0_1/gray/features.npy\n",
      "Got the result from ./1/train/filtrations/2/HeightFiltrartion_0_1/red/features.npy\n",
      "Got the result from ./1/train/filtrations/2/HeightFiltrartion_0_1/green/features.npy\n",
      "Got the result from ./1/train/filtrations/2/HeightFiltrartion_0_1/blue/features.npy\n",
      "Applying filtration 7/72: 2/HeightFiltrartion_-1_0\n",
      "RGB images received. Transforming to grayscale.\n"
     ]
    },
    {
     "name": "stderr",
     "output_type": "stream",
     "text": [
      "rgb2gray: 100%|██████████| 9030/9030 [00:01<00:00, 5913.57it/s]\n"
     ]
    },
    {
     "name": "stdout",
     "output_type": "stream",
     "text": [
      "Got the result from ./1/train/filtrations/2/HeightFiltrartion_-1_0/gray/features.npy\n",
      "Got the result from ./1/train/filtrations/2/HeightFiltrartion_-1_0/red/features.npy\n",
      "Got the result from ./1/train/filtrations/2/HeightFiltrartion_-1_0/green/features.npy\n",
      "Got the result from ./1/train/filtrations/2/HeightFiltrartion_-1_0/blue/features.npy\n",
      "Applying filtration 8/72: 2/HeightFiltrartion_1_0\n",
      "RGB images received. Transforming to grayscale.\n"
     ]
    },
    {
     "name": "stderr",
     "output_type": "stream",
     "text": [
      "rgb2gray: 100%|██████████| 9030/9030 [00:01<00:00, 5923.26it/s]\n"
     ]
    },
    {
     "name": "stdout",
     "output_type": "stream",
     "text": [
      "Got the result from ./1/train/filtrations/2/HeightFiltrartion_1_0/gray/features.npy\n",
      "Got the result from ./1/train/filtrations/2/HeightFiltrartion_1_0/red/features.npy\n",
      "Got the result from ./1/train/filtrations/2/HeightFiltrartion_1_0/green/features.npy\n",
      "Got the result from ./1/train/filtrations/2/HeightFiltrartion_1_0/blue/features.npy\n",
      "Applying filtration 9/72: 2/RadialFiltration_12_12\n",
      "RGB images received. Transforming to grayscale.\n"
     ]
    },
    {
     "name": "stderr",
     "output_type": "stream",
     "text": [
      "rgb2gray: 100%|██████████| 9030/9030 [00:01<00:00, 5562.02it/s]\n"
     ]
    },
    {
     "name": "stdout",
     "output_type": "stream",
     "text": [
      "Got the result from ./1/train/filtrations/2/RadialFiltration_12_12/gray/features.npy\n",
      "Got the result from ./1/train/filtrations/2/RadialFiltration_12_12/red/features.npy\n",
      "Got the result from ./1/train/filtrations/2/RadialFiltration_12_12/green/features.npy\n",
      "Got the result from ./1/train/filtrations/2/RadialFiltration_12_12/blue/features.npy\n",
      "Applying filtration 10/72: 2/RadialFiltration_12_25\n",
      "RGB images received. Transforming to grayscale.\n"
     ]
    },
    {
     "name": "stderr",
     "output_type": "stream",
     "text": [
      "rgb2gray: 100%|██████████| 9030/9030 [00:01<00:00, 5956.47it/s]\n"
     ]
    },
    {
     "name": "stdout",
     "output_type": "stream",
     "text": [
      "Got the result from ./1/train/filtrations/2/RadialFiltration_12_25/gray/features.npy\n",
      "Got the result from ./1/train/filtrations/2/RadialFiltration_12_25/red/features.npy\n",
      "Got the result from ./1/train/filtrations/2/RadialFiltration_12_25/green/features.npy\n",
      "Got the result from ./1/train/filtrations/2/RadialFiltration_12_25/blue/features.npy\n",
      "Applying filtration 11/72: 2/RadialFiltration_12_38\n",
      "RGB images received. Transforming to grayscale.\n"
     ]
    },
    {
     "name": "stderr",
     "output_type": "stream",
     "text": [
      "rgb2gray: 100%|██████████| 9030/9030 [00:01<00:00, 5950.53it/s]\n"
     ]
    },
    {
     "name": "stdout",
     "output_type": "stream",
     "text": [
      "Got the result from ./1/train/filtrations/2/RadialFiltration_12_38/gray/features.npy\n",
      "Got the result from ./1/train/filtrations/2/RadialFiltration_12_38/red/features.npy\n",
      "Got the result from ./1/train/filtrations/2/RadialFiltration_12_38/green/features.npy\n",
      "Got the result from ./1/train/filtrations/2/RadialFiltration_12_38/blue/features.npy\n",
      "Applying filtration 12/72: 2/RadialFiltration_12_51\n",
      "RGB images received. Transforming to grayscale.\n"
     ]
    },
    {
     "name": "stderr",
     "output_type": "stream",
     "text": [
      "rgb2gray: 100%|██████████| 9030/9030 [00:01<00:00, 5901.95it/s] \n"
     ]
    },
    {
     "name": "stdout",
     "output_type": "stream",
     "text": [
      "Got the result from ./1/train/filtrations/2/RadialFiltration_12_51/gray/features.npy\n",
      "Got the result from ./1/train/filtrations/2/RadialFiltration_12_51/red/features.npy\n",
      "Got the result from ./1/train/filtrations/2/RadialFiltration_12_51/green/features.npy\n",
      "Got the result from ./1/train/filtrations/2/RadialFiltration_12_51/blue/features.npy\n",
      "Applying filtration 13/72: 2/RadialFiltration_25_12\n",
      "RGB images received. Transforming to grayscale.\n"
     ]
    },
    {
     "name": "stderr",
     "output_type": "stream",
     "text": [
      "rgb2gray: 100%|██████████| 9030/9030 [00:01<00:00, 5909.68it/s]\n"
     ]
    },
    {
     "name": "stdout",
     "output_type": "stream",
     "text": [
      "Got the result from ./1/train/filtrations/2/RadialFiltration_25_12/gray/features.npy\n",
      "Got the result from ./1/train/filtrations/2/RadialFiltration_25_12/red/features.npy\n",
      "Got the result from ./1/train/filtrations/2/RadialFiltration_25_12/green/features.npy\n",
      "Got the result from ./1/train/filtrations/2/RadialFiltration_25_12/blue/features.npy\n",
      "Applying filtration 14/72: 2/RadialFiltration_25_25\n",
      "RGB images received. Transforming to grayscale.\n"
     ]
    },
    {
     "name": "stderr",
     "output_type": "stream",
     "text": [
      "rgb2gray: 100%|██████████| 9030/9030 [00:01<00:00, 5790.29it/s]\n"
     ]
    },
    {
     "name": "stdout",
     "output_type": "stream",
     "text": [
      "Got the result from ./1/train/filtrations/2/RadialFiltration_25_25/gray/features.npy\n",
      "Got the result from ./1/train/filtrations/2/RadialFiltration_25_25/red/features.npy\n",
      "Got the result from ./1/train/filtrations/2/RadialFiltration_25_25/green/features.npy\n",
      "Got the result from ./1/train/filtrations/2/RadialFiltration_25_25/blue/features.npy\n",
      "Applying filtration 15/72: 2/RadialFiltration_25_38\n",
      "RGB images received. Transforming to grayscale.\n"
     ]
    },
    {
     "name": "stderr",
     "output_type": "stream",
     "text": [
      "rgb2gray: 100%|██████████| 9030/9030 [00:01<00:00, 5389.54it/s]\n"
     ]
    },
    {
     "name": "stdout",
     "output_type": "stream",
     "text": [
      "Got the result from ./1/train/filtrations/2/RadialFiltration_25_38/gray/features.npy\n",
      "Got the result from ./1/train/filtrations/2/RadialFiltration_25_38/red/features.npy\n",
      "Got the result from ./1/train/filtrations/2/RadialFiltration_25_38/green/features.npy\n",
      "Got the result from ./1/train/filtrations/2/RadialFiltration_25_38/blue/features.npy\n",
      "Applying filtration 16/72: 2/RadialFiltration_25_51\n",
      "RGB images received. Transforming to grayscale.\n"
     ]
    },
    {
     "name": "stderr",
     "output_type": "stream",
     "text": [
      "rgb2gray: 100%|██████████| 9030/9030 [00:01<00:00, 5898.09it/s]\n"
     ]
    },
    {
     "name": "stdout",
     "output_type": "stream",
     "text": [
      "Got the result from ./1/train/filtrations/2/RadialFiltration_25_51/gray/features.npy\n",
      "Got the result from ./1/train/filtrations/2/RadialFiltration_25_51/red/features.npy\n",
      "Got the result from ./1/train/filtrations/2/RadialFiltration_25_51/green/features.npy\n",
      "Got the result from ./1/train/filtrations/2/RadialFiltration_25_51/blue/features.npy\n",
      "Applying filtration 17/72: 2/RadialFiltration_38_12\n",
      "RGB images received. Transforming to grayscale.\n"
     ]
    },
    {
     "name": "stderr",
     "output_type": "stream",
     "text": [
      "rgb2gray: 100%|██████████| 9030/9030 [00:01<00:00, 5987.68it/s]\n"
     ]
    },
    {
     "name": "stdout",
     "output_type": "stream",
     "text": [
      "Got the result from ./1/train/filtrations/2/RadialFiltration_38_12/gray/features.npy\n",
      "Got the result from ./1/train/filtrations/2/RadialFiltration_38_12/red/features.npy\n",
      "Got the result from ./1/train/filtrations/2/RadialFiltration_38_12/green/features.npy\n",
      "Got the result from ./1/train/filtrations/2/RadialFiltration_38_12/blue/features.npy\n",
      "Applying filtration 18/72: 2/RadialFiltration_38_25\n",
      "RGB images received. Transforming to grayscale.\n"
     ]
    },
    {
     "name": "stderr",
     "output_type": "stream",
     "text": [
      "rgb2gray: 100%|██████████| 9030/9030 [00:01<00:00, 6127.41it/s]\n"
     ]
    },
    {
     "name": "stdout",
     "output_type": "stream",
     "text": [
      "Got the result from ./1/train/filtrations/2/RadialFiltration_38_25/gray/features.npy\n",
      "Got the result from ./1/train/filtrations/2/RadialFiltration_38_25/red/features.npy\n",
      "Got the result from ./1/train/filtrations/2/RadialFiltration_38_25/green/features.npy\n",
      "Got the result from ./1/train/filtrations/2/RadialFiltration_38_25/blue/features.npy\n",
      "Applying filtration 19/72: 2/RadialFiltration_38_38\n",
      "RGB images received. Transforming to grayscale.\n"
     ]
    },
    {
     "name": "stderr",
     "output_type": "stream",
     "text": [
      "rgb2gray: 100%|██████████| 9030/9030 [00:01<00:00, 5951.22it/s]\n"
     ]
    },
    {
     "name": "stdout",
     "output_type": "stream",
     "text": [
      "Got the result from ./1/train/filtrations/2/RadialFiltration_38_38/gray/features.npy\n",
      "Got the result from ./1/train/filtrations/2/RadialFiltration_38_38/red/features.npy\n",
      "Got the result from ./1/train/filtrations/2/RadialFiltration_38_38/green/features.npy\n",
      "Got the result from ./1/train/filtrations/2/RadialFiltration_38_38/blue/features.npy\n",
      "Applying filtration 20/72: 2/RadialFiltration_38_51\n",
      "RGB images received. Transforming to grayscale.\n"
     ]
    },
    {
     "name": "stderr",
     "output_type": "stream",
     "text": [
      "rgb2gray: 100%|██████████| 9030/9030 [00:01<00:00, 5990.02it/s]\n"
     ]
    },
    {
     "name": "stdout",
     "output_type": "stream",
     "text": [
      "Got the result from ./1/train/filtrations/2/RadialFiltration_38_51/gray/features.npy\n",
      "Got the result from ./1/train/filtrations/2/RadialFiltration_38_51/red/features.npy\n",
      "Got the result from ./1/train/filtrations/2/RadialFiltration_38_51/green/features.npy\n",
      "Got the result from ./1/train/filtrations/2/RadialFiltration_38_51/blue/features.npy\n",
      "Applying filtration 21/72: 2/RadialFiltration_51_12\n",
      "RGB images received. Transforming to grayscale.\n"
     ]
    },
    {
     "name": "stderr",
     "output_type": "stream",
     "text": [
      "rgb2gray: 100%|██████████| 9030/9030 [00:01<00:00, 6271.35it/s]\n"
     ]
    },
    {
     "name": "stdout",
     "output_type": "stream",
     "text": [
      "Got the result from ./1/train/filtrations/2/RadialFiltration_51_12/gray/features.npy\n",
      "Got the result from ./1/train/filtrations/2/RadialFiltration_51_12/red/features.npy\n",
      "Got the result from ./1/train/filtrations/2/RadialFiltration_51_12/green/features.npy\n",
      "Got the result from ./1/train/filtrations/2/RadialFiltration_51_12/blue/features.npy\n",
      "Applying filtration 22/72: 2/RadialFiltration_51_25\n",
      "RGB images received. Transforming to grayscale.\n"
     ]
    },
    {
     "name": "stderr",
     "output_type": "stream",
     "text": [
      "rgb2gray: 100%|██████████| 9030/9030 [00:01<00:00, 5546.69it/s]\n"
     ]
    },
    {
     "name": "stdout",
     "output_type": "stream",
     "text": [
      "Got the result from ./1/train/filtrations/2/RadialFiltration_51_25/gray/features.npy\n",
      "Got the result from ./1/train/filtrations/2/RadialFiltration_51_25/red/features.npy\n",
      "Got the result from ./1/train/filtrations/2/RadialFiltration_51_25/green/features.npy\n",
      "Got the result from ./1/train/filtrations/2/RadialFiltration_51_25/blue/features.npy\n",
      "Applying filtration 23/72: 2/RadialFiltration_51_38\n",
      "RGB images received. Transforming to grayscale.\n"
     ]
    },
    {
     "name": "stderr",
     "output_type": "stream",
     "text": [
      "rgb2gray: 100%|██████████| 9030/9030 [00:01<00:00, 6179.75it/s]\n"
     ]
    },
    {
     "name": "stdout",
     "output_type": "stream",
     "text": [
      "Got the result from ./1/train/filtrations/2/RadialFiltration_51_38/gray/features.npy\n",
      "Got the result from ./1/train/filtrations/2/RadialFiltration_51_38/red/features.npy\n",
      "Got the result from ./1/train/filtrations/2/RadialFiltration_51_38/green/features.npy\n",
      "Got the result from ./1/train/filtrations/2/RadialFiltration_51_38/blue/features.npy\n",
      "Applying filtration 24/72: 2/RadialFiltration_51_51\n",
      "RGB images received. Transforming to grayscale.\n"
     ]
    },
    {
     "name": "stderr",
     "output_type": "stream",
     "text": [
      "rgb2gray: 100%|██████████| 9030/9030 [00:01<00:00, 6013.95it/s]\n"
     ]
    },
    {
     "name": "stdout",
     "output_type": "stream",
     "text": [
      "Got the result from ./1/train/filtrations/2/RadialFiltration_51_51/gray/features.npy\n",
      "Got the result from ./1/train/filtrations/2/RadialFiltration_51_51/red/features.npy\n",
      "Got the result from ./1/train/filtrations/2/RadialFiltration_51_51/green/features.npy\n",
      "Got the result from ./1/train/filtrations/2/RadialFiltration_51_51/blue/features.npy\n",
      "Applying filtration 25/72: 4/HeightFiltrartion_-1_-1\n",
      "RGB images received. Transforming to grayscale.\n"
     ]
    },
    {
     "name": "stderr",
     "output_type": "stream",
     "text": [
      "rgb2gray: 100%|██████████| 9030/9030 [00:01<00:00, 6105.48it/s]\n"
     ]
    },
    {
     "name": "stdout",
     "output_type": "stream",
     "text": [
      "Got the result from ./1/train/filtrations/4/HeightFiltrartion_-1_-1/gray/features.npy\n",
      "Got the result from ./1/train/filtrations/4/HeightFiltrartion_-1_-1/red/features.npy\n",
      "Got the result from ./1/train/filtrations/4/HeightFiltrartion_-1_-1/green/features.npy\n",
      "Got the result from ./1/train/filtrations/4/HeightFiltrartion_-1_-1/blue/features.npy\n",
      "Applying filtration 26/72: 4/HeightFiltrartion_1_1\n",
      "RGB images received. Transforming to grayscale.\n"
     ]
    },
    {
     "name": "stderr",
     "output_type": "stream",
     "text": [
      "rgb2gray: 100%|██████████| 9030/9030 [00:01<00:00, 6151.05it/s]\n"
     ]
    },
    {
     "name": "stdout",
     "output_type": "stream",
     "text": [
      "Got the result from ./1/train/filtrations/4/HeightFiltrartion_1_1/gray/features.npy\n",
      "Got the result from ./1/train/filtrations/4/HeightFiltrartion_1_1/red/features.npy\n",
      "Got the result from ./1/train/filtrations/4/HeightFiltrartion_1_1/green/features.npy\n",
      "Got the result from ./1/train/filtrations/4/HeightFiltrartion_1_1/blue/features.npy\n",
      "Applying filtration 27/72: 4/HeightFiltrartion_1_-1\n",
      "RGB images received. Transforming to grayscale.\n"
     ]
    },
    {
     "name": "stderr",
     "output_type": "stream",
     "text": [
      "rgb2gray: 100%|██████████| 9030/9030 [00:01<00:00, 5796.30it/s]\n"
     ]
    },
    {
     "name": "stdout",
     "output_type": "stream",
     "text": [
      "Got the result from ./1/train/filtrations/4/HeightFiltrartion_1_-1/gray/features.npy\n",
      "Got the result from ./1/train/filtrations/4/HeightFiltrartion_1_-1/red/features.npy\n",
      "Got the result from ./1/train/filtrations/4/HeightFiltrartion_1_-1/green/features.npy\n",
      "Got the result from ./1/train/filtrations/4/HeightFiltrartion_1_-1/blue/features.npy\n",
      "Applying filtration 28/72: 4/HeightFiltrartion_-1_1\n",
      "RGB images received. Transforming to grayscale.\n"
     ]
    },
    {
     "name": "stderr",
     "output_type": "stream",
     "text": [
      "rgb2gray: 100%|██████████| 9030/9030 [00:01<00:00, 6060.21it/s]\n"
     ]
    },
    {
     "name": "stdout",
     "output_type": "stream",
     "text": [
      "Got the result from ./1/train/filtrations/4/HeightFiltrartion_-1_1/gray/features.npy\n",
      "Got the result from ./1/train/filtrations/4/HeightFiltrartion_-1_1/red/features.npy\n",
      "Got the result from ./1/train/filtrations/4/HeightFiltrartion_-1_1/green/features.npy\n",
      "Got the result from ./1/train/filtrations/4/HeightFiltrartion_-1_1/blue/features.npy\n",
      "Applying filtration 29/72: 4/HeightFiltrartion_0_-1\n",
      "RGB images received. Transforming to grayscale.\n"
     ]
    },
    {
     "name": "stderr",
     "output_type": "stream",
     "text": [
      "rgb2gray: 100%|██████████| 9030/9030 [00:01<00:00, 5936.88it/s]\n"
     ]
    },
    {
     "name": "stdout",
     "output_type": "stream",
     "text": [
      "Got the result from ./1/train/filtrations/4/HeightFiltrartion_0_-1/gray/features.npy\n",
      "Got the result from ./1/train/filtrations/4/HeightFiltrartion_0_-1/red/features.npy\n",
      "Got the result from ./1/train/filtrations/4/HeightFiltrartion_0_-1/green/features.npy\n",
      "Got the result from ./1/train/filtrations/4/HeightFiltrartion_0_-1/blue/features.npy\n",
      "Applying filtration 30/72: 4/HeightFiltrartion_0_1\n",
      "RGB images received. Transforming to grayscale.\n"
     ]
    },
    {
     "name": "stderr",
     "output_type": "stream",
     "text": [
      "rgb2gray: 100%|██████████| 9030/9030 [00:01<00:00, 5918.35it/s]\n"
     ]
    },
    {
     "name": "stdout",
     "output_type": "stream",
     "text": [
      "Got the result from ./1/train/filtrations/4/HeightFiltrartion_0_1/gray/features.npy\n",
      "Got the result from ./1/train/filtrations/4/HeightFiltrartion_0_1/red/features.npy\n",
      "Got the result from ./1/train/filtrations/4/HeightFiltrartion_0_1/green/features.npy\n",
      "Got the result from ./1/train/filtrations/4/HeightFiltrartion_0_1/blue/features.npy\n",
      "Applying filtration 31/72: 4/HeightFiltrartion_-1_0\n",
      "RGB images received. Transforming to grayscale.\n"
     ]
    },
    {
     "name": "stderr",
     "output_type": "stream",
     "text": [
      "rgb2gray: 100%|██████████| 9030/9030 [00:01<00:00, 6116.19it/s]\n"
     ]
    },
    {
     "name": "stdout",
     "output_type": "stream",
     "text": [
      "Got the result from ./1/train/filtrations/4/HeightFiltrartion_-1_0/gray/features.npy\n",
      "Got the result from ./1/train/filtrations/4/HeightFiltrartion_-1_0/red/features.npy\n",
      "Got the result from ./1/train/filtrations/4/HeightFiltrartion_-1_0/green/features.npy\n",
      "Got the result from ./1/train/filtrations/4/HeightFiltrartion_-1_0/blue/features.npy\n",
      "Applying filtration 32/72: 4/HeightFiltrartion_1_0\n",
      "RGB images received. Transforming to grayscale.\n"
     ]
    },
    {
     "name": "stderr",
     "output_type": "stream",
     "text": [
      "rgb2gray: 100%|██████████| 9030/9030 [00:01<00:00, 5805.26it/s]\n"
     ]
    },
    {
     "name": "stdout",
     "output_type": "stream",
     "text": [
      "Got the result from ./1/train/filtrations/4/HeightFiltrartion_1_0/gray/features.npy\n",
      "Got the result from ./1/train/filtrations/4/HeightFiltrartion_1_0/red/features.npy\n",
      "Got the result from ./1/train/filtrations/4/HeightFiltrartion_1_0/green/features.npy\n",
      "Got the result from ./1/train/filtrations/4/HeightFiltrartion_1_0/blue/features.npy\n",
      "Applying filtration 33/72: 4/RadialFiltration_12_12\n",
      "RGB images received. Transforming to grayscale.\n"
     ]
    },
    {
     "name": "stderr",
     "output_type": "stream",
     "text": [
      "rgb2gray: 100%|██████████| 9030/9030 [00:01<00:00, 5209.08it/s]\n"
     ]
    },
    {
     "name": "stdout",
     "output_type": "stream",
     "text": [
      "Got the result from ./1/train/filtrations/4/RadialFiltration_12_12/gray/features.npy\n",
      "Got the result from ./1/train/filtrations/4/RadialFiltration_12_12/red/features.npy\n",
      "Got the result from ./1/train/filtrations/4/RadialFiltration_12_12/green/features.npy\n",
      "Got the result from ./1/train/filtrations/4/RadialFiltration_12_12/blue/features.npy\n",
      "Applying filtration 34/72: 4/RadialFiltration_12_25\n",
      "RGB images received. Transforming to grayscale.\n"
     ]
    },
    {
     "name": "stderr",
     "output_type": "stream",
     "text": [
      "rgb2gray: 100%|██████████| 9030/9030 [00:01<00:00, 6186.61it/s]\n"
     ]
    },
    {
     "name": "stdout",
     "output_type": "stream",
     "text": [
      "Got the result from ./1/train/filtrations/4/RadialFiltration_12_25/gray/features.npy\n",
      "Got the result from ./1/train/filtrations/4/RadialFiltration_12_25/red/features.npy\n",
      "Got the result from ./1/train/filtrations/4/RadialFiltration_12_25/green/features.npy\n",
      "Got the result from ./1/train/filtrations/4/RadialFiltration_12_25/blue/features.npy\n",
      "Applying filtration 35/72: 4/RadialFiltration_12_38\n",
      "RGB images received. Transforming to grayscale.\n"
     ]
    },
    {
     "name": "stderr",
     "output_type": "stream",
     "text": [
      "rgb2gray: 100%|██████████| 9030/9030 [00:01<00:00, 6060.40it/s]\n"
     ]
    },
    {
     "name": "stdout",
     "output_type": "stream",
     "text": [
      "Got the result from ./1/train/filtrations/4/RadialFiltration_12_38/gray/features.npy\n",
      "Got the result from ./1/train/filtrations/4/RadialFiltration_12_38/red/features.npy\n",
      "Got the result from ./1/train/filtrations/4/RadialFiltration_12_38/green/features.npy\n",
      "Got the result from ./1/train/filtrations/4/RadialFiltration_12_38/blue/features.npy\n",
      "Applying filtration 36/72: 4/RadialFiltration_12_51\n",
      "RGB images received. Transforming to grayscale.\n"
     ]
    },
    {
     "name": "stderr",
     "output_type": "stream",
     "text": [
      "rgb2gray: 100%|██████████| 9030/9030 [00:01<00:00, 5846.52it/s]\n"
     ]
    },
    {
     "name": "stdout",
     "output_type": "stream",
     "text": [
      "Got the result from ./1/train/filtrations/4/RadialFiltration_12_51/gray/features.npy\n",
      "Got the result from ./1/train/filtrations/4/RadialFiltration_12_51/red/features.npy\n",
      "Got the result from ./1/train/filtrations/4/RadialFiltration_12_51/green/features.npy\n",
      "Got the result from ./1/train/filtrations/4/RadialFiltration_12_51/blue/features.npy\n",
      "Applying filtration 37/72: 4/RadialFiltration_25_12\n",
      "RGB images received. Transforming to grayscale.\n"
     ]
    },
    {
     "name": "stderr",
     "output_type": "stream",
     "text": [
      "rgb2gray: 100%|██████████| 9030/9030 [00:01<00:00, 5925.78it/s]\n"
     ]
    },
    {
     "name": "stdout",
     "output_type": "stream",
     "text": [
      "Got the result from ./1/train/filtrations/4/RadialFiltration_25_12/gray/features.npy\n",
      "Got the result from ./1/train/filtrations/4/RadialFiltration_25_12/red/features.npy\n",
      "Got the result from ./1/train/filtrations/4/RadialFiltration_25_12/green/features.npy\n",
      "Got the result from ./1/train/filtrations/4/RadialFiltration_25_12/blue/features.npy\n",
      "Applying filtration 38/72: 4/RadialFiltration_25_25\n",
      "RGB images received. Transforming to grayscale.\n"
     ]
    },
    {
     "name": "stderr",
     "output_type": "stream",
     "text": [
      "rgb2gray: 100%|██████████| 9030/9030 [00:01<00:00, 5515.31it/s]\n"
     ]
    },
    {
     "name": "stdout",
     "output_type": "stream",
     "text": [
      "Got the result from ./1/train/filtrations/4/RadialFiltration_25_25/gray/features.npy\n",
      "Got the result from ./1/train/filtrations/4/RadialFiltration_25_25/red/features.npy\n",
      "Got the result from ./1/train/filtrations/4/RadialFiltration_25_25/green/features.npy\n",
      "Got the result from ./1/train/filtrations/4/RadialFiltration_25_25/blue/features.npy\n",
      "Applying filtration 39/72: 4/RadialFiltration_25_38\n",
      "RGB images received. Transforming to grayscale.\n"
     ]
    },
    {
     "name": "stderr",
     "output_type": "stream",
     "text": [
      "rgb2gray: 100%|██████████| 9030/9030 [00:01<00:00, 5863.79it/s]\n"
     ]
    },
    {
     "name": "stdout",
     "output_type": "stream",
     "text": [
      "Got the result from ./1/train/filtrations/4/RadialFiltration_25_38/gray/features.npy\n",
      "Got the result from ./1/train/filtrations/4/RadialFiltration_25_38/red/features.npy\n",
      "Got the result from ./1/train/filtrations/4/RadialFiltration_25_38/green/features.npy\n",
      "Got the result from ./1/train/filtrations/4/RadialFiltration_25_38/blue/features.npy\n",
      "Applying filtration 40/72: 4/RadialFiltration_25_51\n",
      "RGB images received. Transforming to grayscale.\n"
     ]
    },
    {
     "name": "stderr",
     "output_type": "stream",
     "text": [
      "rgb2gray: 100%|██████████| 9030/9030 [00:01<00:00, 5502.81it/s]\n"
     ]
    },
    {
     "name": "stdout",
     "output_type": "stream",
     "text": [
      "Got the result from ./1/train/filtrations/4/RadialFiltration_25_51/gray/features.npy\n",
      "Got the result from ./1/train/filtrations/4/RadialFiltration_25_51/red/features.npy\n",
      "Got the result from ./1/train/filtrations/4/RadialFiltration_25_51/green/features.npy\n",
      "Got the result from ./1/train/filtrations/4/RadialFiltration_25_51/blue/features.npy\n",
      "Applying filtration 41/72: 4/RadialFiltration_38_12\n",
      "RGB images received. Transforming to grayscale.\n"
     ]
    },
    {
     "name": "stderr",
     "output_type": "stream",
     "text": [
      "rgb2gray: 100%|██████████| 9030/9030 [00:01<00:00, 5559.41it/s]\n"
     ]
    },
    {
     "name": "stdout",
     "output_type": "stream",
     "text": [
      "Got the result from ./1/train/filtrations/4/RadialFiltration_38_12/gray/features.npy\n",
      "Got the result from ./1/train/filtrations/4/RadialFiltration_38_12/red/features.npy\n",
      "Got the result from ./1/train/filtrations/4/RadialFiltration_38_12/green/features.npy\n",
      "Got the result from ./1/train/filtrations/4/RadialFiltration_38_12/blue/features.npy\n",
      "Applying filtration 42/72: 4/RadialFiltration_38_25\n",
      "RGB images received. Transforming to grayscale.\n"
     ]
    },
    {
     "name": "stderr",
     "output_type": "stream",
     "text": [
      "rgb2gray: 100%|██████████| 9030/9030 [00:01<00:00, 5704.36it/s]\n"
     ]
    },
    {
     "name": "stdout",
     "output_type": "stream",
     "text": [
      "Got the result from ./1/train/filtrations/4/RadialFiltration_38_25/gray/features.npy\n",
      "Got the result from ./1/train/filtrations/4/RadialFiltration_38_25/red/features.npy\n",
      "Got the result from ./1/train/filtrations/4/RadialFiltration_38_25/green/features.npy\n",
      "Got the result from ./1/train/filtrations/4/RadialFiltration_38_25/blue/features.npy\n",
      "Applying filtration 43/72: 4/RadialFiltration_38_38\n",
      "RGB images received. Transforming to grayscale.\n"
     ]
    },
    {
     "name": "stderr",
     "output_type": "stream",
     "text": [
      "rgb2gray: 100%|██████████| 9030/9030 [00:01<00:00, 5354.72it/s]\n"
     ]
    },
    {
     "name": "stdout",
     "output_type": "stream",
     "text": [
      "Got the result from ./1/train/filtrations/4/RadialFiltration_38_38/gray/features.npy\n",
      "Got the result from ./1/train/filtrations/4/RadialFiltration_38_38/red/features.npy\n",
      "Got the result from ./1/train/filtrations/4/RadialFiltration_38_38/green/features.npy\n",
      "Got the result from ./1/train/filtrations/4/RadialFiltration_38_38/blue/features.npy\n",
      "Applying filtration 44/72: 4/RadialFiltration_38_51\n",
      "RGB images received. Transforming to grayscale.\n"
     ]
    },
    {
     "name": "stderr",
     "output_type": "stream",
     "text": [
      "rgb2gray: 100%|██████████| 9030/9030 [00:01<00:00, 5807.07it/s]\n"
     ]
    },
    {
     "name": "stdout",
     "output_type": "stream",
     "text": [
      "Got the result from ./1/train/filtrations/4/RadialFiltration_38_51/gray/features.npy\n",
      "Got the result from ./1/train/filtrations/4/RadialFiltration_38_51/red/features.npy\n",
      "Got the result from ./1/train/filtrations/4/RadialFiltration_38_51/green/features.npy\n",
      "Got the result from ./1/train/filtrations/4/RadialFiltration_38_51/blue/features.npy\n",
      "Applying filtration 45/72: 4/RadialFiltration_51_12\n",
      "RGB images received. Transforming to grayscale.\n"
     ]
    },
    {
     "name": "stderr",
     "output_type": "stream",
     "text": [
      "rgb2gray: 100%|██████████| 9030/9030 [00:01<00:00, 5245.92it/s]\n"
     ]
    },
    {
     "name": "stdout",
     "output_type": "stream",
     "text": [
      "Got the result from ./1/train/filtrations/4/RadialFiltration_51_12/gray/features.npy\n",
      "Got the result from ./1/train/filtrations/4/RadialFiltration_51_12/red/features.npy\n",
      "Got the result from ./1/train/filtrations/4/RadialFiltration_51_12/green/features.npy\n",
      "Got the result from ./1/train/filtrations/4/RadialFiltration_51_12/blue/features.npy\n",
      "Applying filtration 46/72: 4/RadialFiltration_51_25\n",
      "RGB images received. Transforming to grayscale.\n"
     ]
    },
    {
     "name": "stderr",
     "output_type": "stream",
     "text": [
      "rgb2gray: 100%|██████████| 9030/9030 [00:01<00:00, 6134.49it/s]\n"
     ]
    },
    {
     "name": "stdout",
     "output_type": "stream",
     "text": [
      "Got the result from ./1/train/filtrations/4/RadialFiltration_51_25/gray/features.npy\n",
      "Got the result from ./1/train/filtrations/4/RadialFiltration_51_25/red/features.npy\n",
      "Got the result from ./1/train/filtrations/4/RadialFiltration_51_25/green/features.npy\n",
      "Got the result from ./1/train/filtrations/4/RadialFiltration_51_25/blue/features.npy\n",
      "Applying filtration 47/72: 4/RadialFiltration_51_38\n",
      "RGB images received. Transforming to grayscale.\n"
     ]
    },
    {
     "name": "stderr",
     "output_type": "stream",
     "text": [
      "rgb2gray: 100%|██████████| 9030/9030 [00:01<00:00, 6003.99it/s]\n"
     ]
    },
    {
     "name": "stdout",
     "output_type": "stream",
     "text": [
      "Got the result from ./1/train/filtrations/4/RadialFiltration_51_38/gray/features.npy\n",
      "Got the result from ./1/train/filtrations/4/RadialFiltration_51_38/red/features.npy\n",
      "Got the result from ./1/train/filtrations/4/RadialFiltration_51_38/green/features.npy\n",
      "Got the result from ./1/train/filtrations/4/RadialFiltration_51_38/blue/features.npy\n",
      "Applying filtration 48/72: 4/RadialFiltration_51_51\n",
      "RGB images received. Transforming to grayscale.\n"
     ]
    },
    {
     "name": "stderr",
     "output_type": "stream",
     "text": [
      "rgb2gray: 100%|██████████| 9030/9030 [00:01<00:00, 6129.37it/s]\n"
     ]
    },
    {
     "name": "stdout",
     "output_type": "stream",
     "text": [
      "Got the result from ./1/train/filtrations/4/RadialFiltration_51_51/gray/features.npy\n",
      "Got the result from ./1/train/filtrations/4/RadialFiltration_51_51/red/features.npy\n",
      "Got the result from ./1/train/filtrations/4/RadialFiltration_51_51/green/features.npy\n",
      "Got the result from ./1/train/filtrations/4/RadialFiltration_51_51/blue/features.npy\n",
      "Applying filtration 49/72: 6/HeightFiltrartion_-1_-1\n",
      "RGB images received. Transforming to grayscale.\n"
     ]
    },
    {
     "name": "stderr",
     "output_type": "stream",
     "text": [
      "rgb2gray: 100%|██████████| 9030/9030 [00:01<00:00, 5677.43it/s]\n"
     ]
    },
    {
     "name": "stdout",
     "output_type": "stream",
     "text": [
      "Got the result from ./1/train/filtrations/6/HeightFiltrartion_-1_-1/gray/features.npy\n",
      "Got the result from ./1/train/filtrations/6/HeightFiltrartion_-1_-1/red/features.npy\n",
      "Got the result from ./1/train/filtrations/6/HeightFiltrartion_-1_-1/green/features.npy\n",
      "Got the result from ./1/train/filtrations/6/HeightFiltrartion_-1_-1/blue/features.npy\n",
      "Applying filtration 50/72: 6/HeightFiltrartion_1_1\n",
      "RGB images received. Transforming to grayscale.\n"
     ]
    },
    {
     "name": "stderr",
     "output_type": "stream",
     "text": [
      "rgb2gray: 100%|██████████| 9030/9030 [00:01<00:00, 5921.32it/s]\n"
     ]
    },
    {
     "name": "stdout",
     "output_type": "stream",
     "text": [
      "Got the result from ./1/train/filtrations/6/HeightFiltrartion_1_1/gray/features.npy\n",
      "Got the result from ./1/train/filtrations/6/HeightFiltrartion_1_1/red/features.npy\n",
      "Got the result from ./1/train/filtrations/6/HeightFiltrartion_1_1/green/features.npy\n",
      "Got the result from ./1/train/filtrations/6/HeightFiltrartion_1_1/blue/features.npy\n",
      "Applying filtration 51/72: 6/HeightFiltrartion_1_-1\n",
      "RGB images received. Transforming to grayscale.\n"
     ]
    },
    {
     "name": "stderr",
     "output_type": "stream",
     "text": [
      "rgb2gray: 100%|██████████| 9030/9030 [00:01<00:00, 5909.68it/s]\n"
     ]
    },
    {
     "name": "stdout",
     "output_type": "stream",
     "text": [
      "Got the result from ./1/train/filtrations/6/HeightFiltrartion_1_-1/gray/features.npy\n",
      "Got the result from ./1/train/filtrations/6/HeightFiltrartion_1_-1/red/features.npy\n",
      "Got the result from ./1/train/filtrations/6/HeightFiltrartion_1_-1/green/features.npy\n",
      "Got the result from ./1/train/filtrations/6/HeightFiltrartion_1_-1/blue/features.npy\n",
      "Applying filtration 52/72: 6/HeightFiltrartion_-1_1\n",
      "RGB images received. Transforming to grayscale.\n"
     ]
    },
    {
     "name": "stderr",
     "output_type": "stream",
     "text": [
      "rgb2gray: 100%|██████████| 9030/9030 [00:01<00:00, 6010.32it/s]\n"
     ]
    },
    {
     "name": "stdout",
     "output_type": "stream",
     "text": [
      "Got the result from ./1/train/filtrations/6/HeightFiltrartion_-1_1/gray/features.npy\n",
      "Got the result from ./1/train/filtrations/6/HeightFiltrartion_-1_1/red/features.npy\n",
      "Got the result from ./1/train/filtrations/6/HeightFiltrartion_-1_1/green/features.npy\n",
      "Got the result from ./1/train/filtrations/6/HeightFiltrartion_-1_1/blue/features.npy\n",
      "Applying filtration 53/72: 6/HeightFiltrartion_0_-1\n",
      "RGB images received. Transforming to grayscale.\n"
     ]
    },
    {
     "name": "stderr",
     "output_type": "stream",
     "text": [
      "rgb2gray: 100%|██████████| 9030/9030 [00:01<00:00, 5936.88it/s]\n"
     ]
    },
    {
     "name": "stdout",
     "output_type": "stream",
     "text": [
      "Got the result from ./1/train/filtrations/6/HeightFiltrartion_0_-1/gray/features.npy\n",
      "Got the result from ./1/train/filtrations/6/HeightFiltrartion_0_-1/red/features.npy\n",
      "Got the result from ./1/train/filtrations/6/HeightFiltrartion_0_-1/green/features.npy\n",
      "Got the result from ./1/train/filtrations/6/HeightFiltrartion_0_-1/blue/features.npy\n",
      "Applying filtration 54/72: 6/HeightFiltrartion_0_1\n",
      "RGB images received. Transforming to grayscale.\n"
     ]
    },
    {
     "name": "stderr",
     "output_type": "stream",
     "text": [
      "rgb2gray: 100%|██████████| 9030/9030 [00:01<00:00, 5663.18it/s]\n"
     ]
    },
    {
     "name": "stdout",
     "output_type": "stream",
     "text": [
      "Got the result from ./1/train/filtrations/6/HeightFiltrartion_0_1/gray/features.npy\n",
      "Got the result from ./1/train/filtrations/6/HeightFiltrartion_0_1/red/features.npy\n",
      "Got the result from ./1/train/filtrations/6/HeightFiltrartion_0_1/green/features.npy\n",
      "Got the result from ./1/train/filtrations/6/HeightFiltrartion_0_1/blue/features.npy\n",
      "Applying filtration 55/72: 6/HeightFiltrartion_-1_0\n",
      "RGB images received. Transforming to grayscale.\n"
     ]
    },
    {
     "name": "stderr",
     "output_type": "stream",
     "text": [
      "rgb2gray: 100%|██████████| 9030/9030 [00:01<00:00, 6170.11it/s] \n"
     ]
    },
    {
     "name": "stdout",
     "output_type": "stream",
     "text": [
      "Got the result from ./1/train/filtrations/6/HeightFiltrartion_-1_0/gray/features.npy\n",
      "Got the result from ./1/train/filtrations/6/HeightFiltrartion_-1_0/red/features.npy\n",
      "Got the result from ./1/train/filtrations/6/HeightFiltrartion_-1_0/green/features.npy\n",
      "Got the result from ./1/train/filtrations/6/HeightFiltrartion_-1_0/blue/features.npy\n",
      "Applying filtration 56/72: 6/HeightFiltrartion_1_0\n",
      "RGB images received. Transforming to grayscale.\n"
     ]
    },
    {
     "name": "stderr",
     "output_type": "stream",
     "text": [
      "rgb2gray: 100%|██████████| 9030/9030 [00:01<00:00, 6186.58it/s]\n"
     ]
    },
    {
     "name": "stdout",
     "output_type": "stream",
     "text": [
      "Got the result from ./1/train/filtrations/6/HeightFiltrartion_1_0/gray/features.npy\n",
      "Got the result from ./1/train/filtrations/6/HeightFiltrartion_1_0/red/features.npy\n",
      "Got the result from ./1/train/filtrations/6/HeightFiltrartion_1_0/green/features.npy\n",
      "Got the result from ./1/train/filtrations/6/HeightFiltrartion_1_0/blue/features.npy\n",
      "Applying filtration 57/72: 6/RadialFiltration_12_12\n",
      "RGB images received. Transforming to grayscale.\n"
     ]
    },
    {
     "name": "stderr",
     "output_type": "stream",
     "text": [
      "rgb2gray: 100%|██████████| 9030/9030 [00:01<00:00, 5962.31it/s]\n"
     ]
    },
    {
     "name": "stdout",
     "output_type": "stream",
     "text": [
      "Got the result from ./1/train/filtrations/6/RadialFiltration_12_12/gray/features.npy\n",
      "Got the result from ./1/train/filtrations/6/RadialFiltration_12_12/red/features.npy\n",
      "Got the result from ./1/train/filtrations/6/RadialFiltration_12_12/green/features.npy\n",
      "Got the result from ./1/train/filtrations/6/RadialFiltration_12_12/blue/features.npy\n",
      "Applying filtration 58/72: 6/RadialFiltration_12_25\n",
      "RGB images received. Transforming to grayscale.\n"
     ]
    },
    {
     "name": "stderr",
     "output_type": "stream",
     "text": [
      "rgb2gray: 100%|██████████| 9030/9030 [00:01<00:00, 5756.00it/s]\n"
     ]
    },
    {
     "name": "stdout",
     "output_type": "stream",
     "text": [
      "Got the result from ./1/train/filtrations/6/RadialFiltration_12_25/gray/features.npy\n",
      "Got the result from ./1/train/filtrations/6/RadialFiltration_12_25/red/features.npy\n",
      "Got the result from ./1/train/filtrations/6/RadialFiltration_12_25/green/features.npy\n",
      "Got the result from ./1/train/filtrations/6/RadialFiltration_12_25/blue/features.npy\n",
      "Applying filtration 59/72: 6/RadialFiltration_12_38\n",
      "RGB images received. Transforming to grayscale.\n"
     ]
    },
    {
     "name": "stderr",
     "output_type": "stream",
     "text": [
      "rgb2gray: 100%|██████████| 9030/9030 [00:01<00:00, 6117.90it/s]\n"
     ]
    },
    {
     "name": "stdout",
     "output_type": "stream",
     "text": [
      "Got the result from ./1/train/filtrations/6/RadialFiltration_12_38/gray/features.npy\n",
      "Got the result from ./1/train/filtrations/6/RadialFiltration_12_38/red/features.npy\n",
      "Got the result from ./1/train/filtrations/6/RadialFiltration_12_38/green/features.npy\n",
      "Got the result from ./1/train/filtrations/6/RadialFiltration_12_38/blue/features.npy\n",
      "Applying filtration 60/72: 6/RadialFiltration_12_51\n",
      "RGB images received. Transforming to grayscale.\n"
     ]
    },
    {
     "name": "stderr",
     "output_type": "stream",
     "text": [
      "rgb2gray: 100%|██████████| 9030/9030 [00:01<00:00, 6347.76it/s]\n"
     ]
    },
    {
     "name": "stdout",
     "output_type": "stream",
     "text": [
      "Got the result from ./1/train/filtrations/6/RadialFiltration_12_51/gray/features.npy\n",
      "Got the result from ./1/train/filtrations/6/RadialFiltration_12_51/red/features.npy\n",
      "Got the result from ./1/train/filtrations/6/RadialFiltration_12_51/green/features.npy\n",
      "Got the result from ./1/train/filtrations/6/RadialFiltration_12_51/blue/features.npy\n",
      "Applying filtration 61/72: 6/RadialFiltration_25_12\n",
      "RGB images received. Transforming to grayscale.\n"
     ]
    },
    {
     "name": "stderr",
     "output_type": "stream",
     "text": [
      "rgb2gray: 100%|██████████| 9030/9030 [00:01<00:00, 6366.24it/s]\n"
     ]
    },
    {
     "name": "stdout",
     "output_type": "stream",
     "text": [
      "Got the result from ./1/train/filtrations/6/RadialFiltration_25_12/gray/features.npy\n",
      "Got the result from ./1/train/filtrations/6/RadialFiltration_25_12/red/features.npy\n",
      "Got the result from ./1/train/filtrations/6/RadialFiltration_25_12/green/features.npy\n",
      "Got the result from ./1/train/filtrations/6/RadialFiltration_25_12/blue/features.npy\n",
      "Applying filtration 62/72: 6/RadialFiltration_25_25\n",
      "RGB images received. Transforming to grayscale.\n"
     ]
    },
    {
     "name": "stderr",
     "output_type": "stream",
     "text": [
      "rgb2gray: 100%|██████████| 9030/9030 [00:01<00:00, 6249.04it/s]\n"
     ]
    },
    {
     "name": "stdout",
     "output_type": "stream",
     "text": [
      "Got the result from ./1/train/filtrations/6/RadialFiltration_25_25/gray/features.npy\n",
      "Got the result from ./1/train/filtrations/6/RadialFiltration_25_25/red/features.npy\n",
      "Got the result from ./1/train/filtrations/6/RadialFiltration_25_25/green/features.npy\n",
      "Got the result from ./1/train/filtrations/6/RadialFiltration_25_25/blue/features.npy\n",
      "Applying filtration 63/72: 6/RadialFiltration_25_38\n",
      "RGB images received. Transforming to grayscale.\n"
     ]
    },
    {
     "name": "stderr",
     "output_type": "stream",
     "text": [
      "rgb2gray: 100%|██████████| 9030/9030 [00:01<00:00, 6305.87it/s]\n"
     ]
    },
    {
     "name": "stdout",
     "output_type": "stream",
     "text": [
      "Got the result from ./1/train/filtrations/6/RadialFiltration_25_38/gray/features.npy\n",
      "Got the result from ./1/train/filtrations/6/RadialFiltration_25_38/red/features.npy\n",
      "Got the result from ./1/train/filtrations/6/RadialFiltration_25_38/green/features.npy\n",
      "Got the result from ./1/train/filtrations/6/RadialFiltration_25_38/blue/features.npy\n",
      "Applying filtration 64/72: 6/RadialFiltration_25_51\n",
      "RGB images received. Transforming to grayscale.\n"
     ]
    },
    {
     "name": "stderr",
     "output_type": "stream",
     "text": [
      "rgb2gray: 100%|██████████| 9030/9030 [00:01<00:00, 5641.82it/s]\n"
     ]
    },
    {
     "name": "stdout",
     "output_type": "stream",
     "text": [
      "Got the result from ./1/train/filtrations/6/RadialFiltration_25_51/gray/features.npy\n",
      "Got the result from ./1/train/filtrations/6/RadialFiltration_25_51/red/features.npy\n",
      "Got the result from ./1/train/filtrations/6/RadialFiltration_25_51/green/features.npy\n",
      "Got the result from ./1/train/filtrations/6/RadialFiltration_25_51/blue/features.npy\n",
      "Applying filtration 65/72: 6/RadialFiltration_38_12\n",
      "RGB images received. Transforming to grayscale.\n"
     ]
    },
    {
     "name": "stderr",
     "output_type": "stream",
     "text": [
      "rgb2gray: 100%|██████████| 9030/9030 [00:01<00:00, 5966.26it/s]\n"
     ]
    },
    {
     "name": "stdout",
     "output_type": "stream",
     "text": [
      "Got the result from ./1/train/filtrations/6/RadialFiltration_38_12/gray/features.npy\n",
      "Got the result from ./1/train/filtrations/6/RadialFiltration_38_12/red/features.npy\n",
      "Got the result from ./1/train/filtrations/6/RadialFiltration_38_12/green/features.npy\n",
      "Got the result from ./1/train/filtrations/6/RadialFiltration_38_12/blue/features.npy\n",
      "Applying filtration 66/72: 6/RadialFiltration_38_25\n",
      "RGB images received. Transforming to grayscale.\n"
     ]
    },
    {
     "name": "stderr",
     "output_type": "stream",
     "text": [
      "rgb2gray: 100%|██████████| 9030/9030 [00:01<00:00, 5526.30it/s]\n"
     ]
    },
    {
     "name": "stdout",
     "output_type": "stream",
     "text": [
      "Got the result from ./1/train/filtrations/6/RadialFiltration_38_25/gray/features.npy\n",
      "Got the result from ./1/train/filtrations/6/RadialFiltration_38_25/red/features.npy\n",
      "Got the result from ./1/train/filtrations/6/RadialFiltration_38_25/green/features.npy\n",
      "Got the result from ./1/train/filtrations/6/RadialFiltration_38_25/blue/features.npy\n",
      "Applying filtration 67/72: 6/RadialFiltration_38_38\n",
      "RGB images received. Transforming to grayscale.\n"
     ]
    },
    {
     "name": "stderr",
     "output_type": "stream",
     "text": [
      "rgb2gray: 100%|██████████| 9030/9030 [00:01<00:00, 5462.80it/s]\n"
     ]
    },
    {
     "name": "stdout",
     "output_type": "stream",
     "text": [
      "Got the result from ./1/train/filtrations/6/RadialFiltration_38_38/gray/features.npy\n",
      "Got the result from ./1/train/filtrations/6/RadialFiltration_38_38/red/features.npy\n",
      "Got the result from ./1/train/filtrations/6/RadialFiltration_38_38/green/features.npy\n",
      "Got the result from ./1/train/filtrations/6/RadialFiltration_38_38/blue/features.npy\n",
      "Applying filtration 68/72: 6/RadialFiltration_38_51\n",
      "RGB images received. Transforming to grayscale.\n"
     ]
    },
    {
     "name": "stderr",
     "output_type": "stream",
     "text": [
      "rgb2gray: 100%|██████████| 9030/9030 [00:01<00:00, 5627.90it/s]\n"
     ]
    },
    {
     "name": "stdout",
     "output_type": "stream",
     "text": [
      "Got the result from ./1/train/filtrations/6/RadialFiltration_38_51/gray/features.npy\n",
      "Got the result from ./1/train/filtrations/6/RadialFiltration_38_51/red/features.npy\n",
      "Got the result from ./1/train/filtrations/6/RadialFiltration_38_51/green/features.npy\n",
      "Got the result from ./1/train/filtrations/6/RadialFiltration_38_51/blue/features.npy\n",
      "Applying filtration 69/72: 6/RadialFiltration_51_12\n",
      "RGB images received. Transforming to grayscale.\n"
     ]
    },
    {
     "name": "stderr",
     "output_type": "stream",
     "text": [
      "rgb2gray: 100%|██████████| 9030/9030 [00:01<00:00, 5538.13it/s]\n"
     ]
    },
    {
     "name": "stdout",
     "output_type": "stream",
     "text": [
      "Got the result from ./1/train/filtrations/6/RadialFiltration_51_12/gray/features.npy\n",
      "Got the result from ./1/train/filtrations/6/RadialFiltration_51_12/red/features.npy\n",
      "Got the result from ./1/train/filtrations/6/RadialFiltration_51_12/green/features.npy\n",
      "Got the result from ./1/train/filtrations/6/RadialFiltration_51_12/blue/features.npy\n",
      "Applying filtration 70/72: 6/RadialFiltration_51_25\n",
      "RGB images received. Transforming to grayscale.\n"
     ]
    },
    {
     "name": "stderr",
     "output_type": "stream",
     "text": [
      "rgb2gray: 100%|██████████| 9030/9030 [00:01<00:00, 5070.18it/s]\n"
     ]
    },
    {
     "name": "stdout",
     "output_type": "stream",
     "text": [
      "Got the result from ./1/train/filtrations/6/RadialFiltration_51_25/gray/features.npy\n",
      "Got the result from ./1/train/filtrations/6/RadialFiltration_51_25/red/features.npy\n",
      "Got the result from ./1/train/filtrations/6/RadialFiltration_51_25/green/features.npy\n",
      "Got the result from ./1/train/filtrations/6/RadialFiltration_51_25/blue/features.npy\n",
      "Applying filtration 71/72: 6/RadialFiltration_51_38\n",
      "RGB images received. Transforming to grayscale.\n"
     ]
    },
    {
     "name": "stderr",
     "output_type": "stream",
     "text": [
      "rgb2gray: 100%|██████████| 9030/9030 [00:01<00:00, 5619.16it/s]\n"
     ]
    },
    {
     "name": "stdout",
     "output_type": "stream",
     "text": [
      "Got the result from ./1/train/filtrations/6/RadialFiltration_51_38/gray/features.npy\n",
      "Got the result from ./1/train/filtrations/6/RadialFiltration_51_38/red/features.npy\n",
      "Got the result from ./1/train/filtrations/6/RadialFiltration_51_38/green/features.npy\n",
      "Got the result from ./1/train/filtrations/6/RadialFiltration_51_38/blue/features.npy\n",
      "Applying filtration 72/72: 6/RadialFiltration_51_51\n",
      "RGB images received. Transforming to grayscale.\n"
     ]
    },
    {
     "name": "stderr",
     "output_type": "stream",
     "text": [
      "rgb2gray: 100%|██████████| 9030/9030 [00:01<00:00, 5846.81it/s]\n"
     ]
    },
    {
     "name": "stdout",
     "output_type": "stream",
     "text": [
      "Got the result from ./1/train/filtrations/6/RadialFiltration_51_51/gray/features.npy\n",
      "Got the result from ./1/train/filtrations/6/RadialFiltration_51_51/red/features.npy\n",
      "Got the result from ./1/train/filtrations/6/RadialFiltration_51_51/green/features.npy\n",
      "Got the result from ./1/train/filtrations/6/RadialFiltration_51_51/blue/features.npy\n",
      "RGB images received. Transforming to grayscale.\n",
      "Got the result from ./1/train/geometry/rgb/features.npy\n"
     ]
    },
    {
     "name": "stderr",
     "output_type": "stream",
     "text": [
      "rgb2gray: 100%|██████████| 9030/9030 [00:01<00:00, 5805.81it/s]\n"
     ]
    },
    {
     "name": "stdout",
     "output_type": "stream",
     "text": [
      "Got the result from ./1/train/geometry/gray/features.npy\n",
      "Got the result from ./1/train/geometry/red/features.npy\n",
      "Got the result from ./1/train/geometry/green/features.npy\n",
      "Got the result from ./1/train/geometry/blue/features.npy\n",
      "RGB images received. Transforming to grayscale.\n",
      "Got the result from ./1/train/geometry/rgb/features.npy\n"
     ]
    },
    {
     "name": "stderr",
     "output_type": "stream",
     "text": [
      "rgb2gray: 100%|██████████| 9030/9030 [00:01<00:00, 5773.53it/s]\n"
     ]
    },
    {
     "name": "stdout",
     "output_type": "stream",
     "text": [
      "Got the result from ./1/train/geometry/gray/features.npy\n",
      "Got the result from ./1/train/geometry/red/features.npy\n",
      "Got the result from ./1/train/geometry/green/features.npy\n",
      "Got the result from ./1/train/geometry/blue/features.npy\n",
      "Applying StandardScaler.\n",
      "Calculating inverted images\n",
      "RGB images received. Transforming to grayscale.\n"
     ]
    },
    {
     "name": "stderr",
     "output_type": "stream",
     "text": [
      "rgb2gray: 100%|██████████| 9030/9030 [00:01<00:00, 5504.50it/s]\n"
     ]
    },
    {
     "name": "stdout",
     "output_type": "stream",
     "text": [
      "Got the result from ./1/train/greyscale/gray/features.npy\n",
      "Got the result from ./1/train/greyscale/red/features.npy\n",
      "Got the result from ./1/train/greyscale/green/features.npy\n",
      "Got the result from ./1/train/greyscale/blue/features.npy\n",
      "RGB images received. Transforming to grayscale.\n"
     ]
    },
    {
     "name": "stderr",
     "output_type": "stream",
     "text": [
      "rgb2gray: 100%|██████████| 9030/9030 [00:01<00:00, 5511.11it/s]\n"
     ]
    },
    {
     "name": "stdout",
     "output_type": "stream",
     "text": [
      "Got the result from ./1/train/inverted_greyscale/gray/features.npy\n",
      "Got the result from ./1/train/inverted_greyscale/red/features.npy\n",
      "Got the result from ./1/train/inverted_greyscale/green/features.npy\n",
      "Got the result from ./1/train/inverted_greyscale/blue/features.npy\n",
      "Applying filtrations\n",
      "Applying filtration 1/72: 2/HeightFiltrartion_-1_-1\n",
      "RGB images received. Transforming to grayscale.\n"
     ]
    },
    {
     "name": "stderr",
     "output_type": "stream",
     "text": [
      "rgb2gray: 100%|██████████| 9030/9030 [00:01<00:00, 5466.12it/s]\n"
     ]
    },
    {
     "name": "stdout",
     "output_type": "stream",
     "text": [
      "Got the result from ./1/train/filtrations/2/HeightFiltrartion_-1_-1/gray/features.npy\n",
      "Got the result from ./1/train/filtrations/2/HeightFiltrartion_-1_-1/red/features.npy\n",
      "Got the result from ./1/train/filtrations/2/HeightFiltrartion_-1_-1/green/features.npy\n",
      "Got the result from ./1/train/filtrations/2/HeightFiltrartion_-1_-1/blue/features.npy\n",
      "Applying filtration 2/72: 2/HeightFiltrartion_1_1\n",
      "RGB images received. Transforming to grayscale.\n"
     ]
    },
    {
     "name": "stderr",
     "output_type": "stream",
     "text": [
      "rgb2gray: 100%|██████████| 9030/9030 [00:01<00:00, 5151.91it/s]\n"
     ]
    },
    {
     "name": "stdout",
     "output_type": "stream",
     "text": [
      "Got the result from ./1/train/filtrations/2/HeightFiltrartion_1_1/gray/features.npy\n",
      "Got the result from ./1/train/filtrations/2/HeightFiltrartion_1_1/red/features.npy\n",
      "Got the result from ./1/train/filtrations/2/HeightFiltrartion_1_1/green/features.npy\n",
      "Got the result from ./1/train/filtrations/2/HeightFiltrartion_1_1/blue/features.npy\n",
      "Applying filtration 3/72: 2/HeightFiltrartion_1_-1\n",
      "RGB images received. Transforming to grayscale.\n"
     ]
    },
    {
     "name": "stderr",
     "output_type": "stream",
     "text": [
      "rgb2gray: 100%|██████████| 9030/9030 [00:01<00:00, 4754.47it/s]\n"
     ]
    },
    {
     "name": "stdout",
     "output_type": "stream",
     "text": [
      "Got the result from ./1/train/filtrations/2/HeightFiltrartion_1_-1/gray/features.npy\n",
      "Got the result from ./1/train/filtrations/2/HeightFiltrartion_1_-1/red/features.npy\n",
      "Got the result from ./1/train/filtrations/2/HeightFiltrartion_1_-1/green/features.npy\n",
      "Got the result from ./1/train/filtrations/2/HeightFiltrartion_1_-1/blue/features.npy\n",
      "Applying filtration 4/72: 2/HeightFiltrartion_-1_1\n",
      "RGB images received. Transforming to grayscale.\n"
     ]
    },
    {
     "name": "stderr",
     "output_type": "stream",
     "text": [
      "rgb2gray: 100%|██████████| 9030/9030 [00:01<00:00, 5877.40it/s]\n"
     ]
    },
    {
     "name": "stdout",
     "output_type": "stream",
     "text": [
      "Got the result from ./1/train/filtrations/2/HeightFiltrartion_-1_1/gray/features.npy\n",
      "Got the result from ./1/train/filtrations/2/HeightFiltrartion_-1_1/red/features.npy\n",
      "Got the result from ./1/train/filtrations/2/HeightFiltrartion_-1_1/green/features.npy\n",
      "Got the result from ./1/train/filtrations/2/HeightFiltrartion_-1_1/blue/features.npy\n",
      "Applying filtration 5/72: 2/HeightFiltrartion_0_-1\n",
      "RGB images received. Transforming to grayscale.\n"
     ]
    },
    {
     "name": "stderr",
     "output_type": "stream",
     "text": [
      "rgb2gray: 100%|██████████| 9030/9030 [00:01<00:00, 6300.98it/s] \n"
     ]
    },
    {
     "name": "stdout",
     "output_type": "stream",
     "text": [
      "Got the result from ./1/train/filtrations/2/HeightFiltrartion_0_-1/gray/features.npy\n",
      "Got the result from ./1/train/filtrations/2/HeightFiltrartion_0_-1/red/features.npy\n",
      "Got the result from ./1/train/filtrations/2/HeightFiltrartion_0_-1/green/features.npy\n",
      "Got the result from ./1/train/filtrations/2/HeightFiltrartion_0_-1/blue/features.npy\n",
      "Applying filtration 6/72: 2/HeightFiltrartion_0_1\n",
      "RGB images received. Transforming to grayscale.\n"
     ]
    },
    {
     "name": "stderr",
     "output_type": "stream",
     "text": [
      "rgb2gray: 100%|██████████| 9030/9030 [00:01<00:00, 5771.74it/s]\n"
     ]
    },
    {
     "name": "stdout",
     "output_type": "stream",
     "text": [
      "Got the result from ./1/train/filtrations/2/HeightFiltrartion_0_1/gray/features.npy\n",
      "Got the result from ./1/train/filtrations/2/HeightFiltrartion_0_1/red/features.npy\n",
      "Got the result from ./1/train/filtrations/2/HeightFiltrartion_0_1/green/features.npy\n",
      "Got the result from ./1/train/filtrations/2/HeightFiltrartion_0_1/blue/features.npy\n",
      "Applying filtration 7/72: 2/HeightFiltrartion_-1_0\n",
      "RGB images received. Transforming to grayscale.\n"
     ]
    },
    {
     "name": "stderr",
     "output_type": "stream",
     "text": [
      "rgb2gray: 100%|██████████| 9030/9030 [00:01<00:00, 6140.90it/s] \n"
     ]
    },
    {
     "name": "stdout",
     "output_type": "stream",
     "text": [
      "Got the result from ./1/train/filtrations/2/HeightFiltrartion_-1_0/gray/features.npy\n",
      "Got the result from ./1/train/filtrations/2/HeightFiltrartion_-1_0/red/features.npy\n",
      "Got the result from ./1/train/filtrations/2/HeightFiltrartion_-1_0/green/features.npy\n",
      "Got the result from ./1/train/filtrations/2/HeightFiltrartion_-1_0/blue/features.npy\n",
      "Applying filtration 8/72: 2/HeightFiltrartion_1_0\n",
      "RGB images received. Transforming to grayscale.\n"
     ]
    },
    {
     "name": "stderr",
     "output_type": "stream",
     "text": [
      "rgb2gray: 100%|██████████| 9030/9030 [00:01<00:00, 5448.86it/s]\n"
     ]
    },
    {
     "name": "stdout",
     "output_type": "stream",
     "text": [
      "Got the result from ./1/train/filtrations/2/HeightFiltrartion_1_0/gray/features.npy\n",
      "Got the result from ./1/train/filtrations/2/HeightFiltrartion_1_0/red/features.npy\n",
      "Got the result from ./1/train/filtrations/2/HeightFiltrartion_1_0/green/features.npy\n",
      "Got the result from ./1/train/filtrations/2/HeightFiltrartion_1_0/blue/features.npy\n",
      "Applying filtration 9/72: 2/RadialFiltration_12_12\n",
      "RGB images received. Transforming to grayscale.\n"
     ]
    },
    {
     "name": "stderr",
     "output_type": "stream",
     "text": [
      "rgb2gray: 100%|██████████| 9030/9030 [00:01<00:00, 5945.61it/s]\n"
     ]
    },
    {
     "name": "stdout",
     "output_type": "stream",
     "text": [
      "Got the result from ./1/train/filtrations/2/RadialFiltration_12_12/gray/features.npy\n",
      "Got the result from ./1/train/filtrations/2/RadialFiltration_12_12/red/features.npy\n",
      "Got the result from ./1/train/filtrations/2/RadialFiltration_12_12/green/features.npy\n",
      "Got the result from ./1/train/filtrations/2/RadialFiltration_12_12/blue/features.npy\n",
      "Applying filtration 10/72: 2/RadialFiltration_12_25\n",
      "RGB images received. Transforming to grayscale.\n"
     ]
    },
    {
     "name": "stderr",
     "output_type": "stream",
     "text": [
      "rgb2gray: 100%|██████████| 9030/9030 [00:01<00:00, 5977.63it/s]\n"
     ]
    },
    {
     "name": "stdout",
     "output_type": "stream",
     "text": [
      "Got the result from ./1/train/filtrations/2/RadialFiltration_12_25/gray/features.npy\n",
      "Got the result from ./1/train/filtrations/2/RadialFiltration_12_25/red/features.npy\n",
      "Got the result from ./1/train/filtrations/2/RadialFiltration_12_25/green/features.npy\n",
      "Got the result from ./1/train/filtrations/2/RadialFiltration_12_25/blue/features.npy\n",
      "Applying filtration 11/72: 2/RadialFiltration_12_38\n",
      "RGB images received. Transforming to grayscale.\n"
     ]
    },
    {
     "name": "stderr",
     "output_type": "stream",
     "text": [
      "rgb2gray: 100%|██████████| 9030/9030 [00:01<00:00, 5233.73it/s]\n"
     ]
    },
    {
     "name": "stdout",
     "output_type": "stream",
     "text": [
      "Got the result from ./1/train/filtrations/2/RadialFiltration_12_38/gray/features.npy\n",
      "Got the result from ./1/train/filtrations/2/RadialFiltration_12_38/red/features.npy\n",
      "Got the result from ./1/train/filtrations/2/RadialFiltration_12_38/green/features.npy\n",
      "Got the result from ./1/train/filtrations/2/RadialFiltration_12_38/blue/features.npy\n",
      "Applying filtration 12/72: 2/RadialFiltration_12_51\n",
      "RGB images received. Transforming to grayscale.\n"
     ]
    },
    {
     "name": "stderr",
     "output_type": "stream",
     "text": [
      "rgb2gray: 100%|██████████| 9030/9030 [00:01<00:00, 5090.08it/s]\n"
     ]
    },
    {
     "name": "stdout",
     "output_type": "stream",
     "text": [
      "Got the result from ./1/train/filtrations/2/RadialFiltration_12_51/gray/features.npy\n",
      "Got the result from ./1/train/filtrations/2/RadialFiltration_12_51/red/features.npy\n",
      "Got the result from ./1/train/filtrations/2/RadialFiltration_12_51/green/features.npy\n",
      "Got the result from ./1/train/filtrations/2/RadialFiltration_12_51/blue/features.npy\n",
      "Applying filtration 13/72: 2/RadialFiltration_25_12\n",
      "RGB images received. Transforming to grayscale.\n"
     ]
    },
    {
     "name": "stderr",
     "output_type": "stream",
     "text": [
      "rgb2gray: 100%|██████████| 9030/9030 [00:01<00:00, 5723.51it/s]\n"
     ]
    },
    {
     "name": "stdout",
     "output_type": "stream",
     "text": [
      "Got the result from ./1/train/filtrations/2/RadialFiltration_25_12/gray/features.npy\n",
      "Got the result from ./1/train/filtrations/2/RadialFiltration_25_12/red/features.npy\n",
      "Got the result from ./1/train/filtrations/2/RadialFiltration_25_12/green/features.npy\n",
      "Got the result from ./1/train/filtrations/2/RadialFiltration_25_12/blue/features.npy\n",
      "Applying filtration 14/72: 2/RadialFiltration_25_25\n",
      "RGB images received. Transforming to grayscale.\n"
     ]
    },
    {
     "name": "stderr",
     "output_type": "stream",
     "text": [
      "rgb2gray: 100%|██████████| 9030/9030 [00:01<00:00, 5662.34it/s]\n"
     ]
    },
    {
     "name": "stdout",
     "output_type": "stream",
     "text": [
      "Got the result from ./1/train/filtrations/2/RadialFiltration_25_25/gray/features.npy\n",
      "Got the result from ./1/train/filtrations/2/RadialFiltration_25_25/red/features.npy\n",
      "Got the result from ./1/train/filtrations/2/RadialFiltration_25_25/green/features.npy\n",
      "Got the result from ./1/train/filtrations/2/RadialFiltration_25_25/blue/features.npy\n",
      "Applying filtration 15/72: 2/RadialFiltration_25_38\n",
      "RGB images received. Transforming to grayscale.\n"
     ]
    },
    {
     "name": "stderr",
     "output_type": "stream",
     "text": [
      "rgb2gray: 100%|██████████| 9030/9030 [00:01<00:00, 6313.01it/s]\n"
     ]
    },
    {
     "name": "stdout",
     "output_type": "stream",
     "text": [
      "Got the result from ./1/train/filtrations/2/RadialFiltration_25_38/gray/features.npy\n",
      "Got the result from ./1/train/filtrations/2/RadialFiltration_25_38/red/features.npy\n",
      "Got the result from ./1/train/filtrations/2/RadialFiltration_25_38/green/features.npy\n",
      "Got the result from ./1/train/filtrations/2/RadialFiltration_25_38/blue/features.npy\n",
      "Applying filtration 16/72: 2/RadialFiltration_25_51\n",
      "RGB images received. Transforming to grayscale.\n"
     ]
    },
    {
     "name": "stderr",
     "output_type": "stream",
     "text": [
      "rgb2gray: 100%|██████████| 9030/9030 [00:01<00:00, 6032.68it/s]\n"
     ]
    },
    {
     "name": "stdout",
     "output_type": "stream",
     "text": [
      "Got the result from ./1/train/filtrations/2/RadialFiltration_25_51/gray/features.npy\n",
      "Got the result from ./1/train/filtrations/2/RadialFiltration_25_51/red/features.npy\n",
      "Got the result from ./1/train/filtrations/2/RadialFiltration_25_51/green/features.npy\n",
      "Got the result from ./1/train/filtrations/2/RadialFiltration_25_51/blue/features.npy\n",
      "Applying filtration 17/72: 2/RadialFiltration_38_12\n",
      "RGB images received. Transforming to grayscale.\n"
     ]
    },
    {
     "name": "stderr",
     "output_type": "stream",
     "text": [
      "rgb2gray: 100%|██████████| 9030/9030 [00:01<00:00, 5835.94it/s]\n"
     ]
    },
    {
     "name": "stdout",
     "output_type": "stream",
     "text": [
      "Got the result from ./1/train/filtrations/2/RadialFiltration_38_12/gray/features.npy\n",
      "Got the result from ./1/train/filtrations/2/RadialFiltration_38_12/red/features.npy\n",
      "Got the result from ./1/train/filtrations/2/RadialFiltration_38_12/green/features.npy\n",
      "Got the result from ./1/train/filtrations/2/RadialFiltration_38_12/blue/features.npy\n",
      "Applying filtration 18/72: 2/RadialFiltration_38_25\n",
      "RGB images received. Transforming to grayscale.\n"
     ]
    },
    {
     "name": "stderr",
     "output_type": "stream",
     "text": [
      "rgb2gray: 100%|██████████| 9030/9030 [00:01<00:00, 5697.56it/s]\n"
     ]
    },
    {
     "name": "stdout",
     "output_type": "stream",
     "text": [
      "Got the result from ./1/train/filtrations/2/RadialFiltration_38_25/gray/features.npy\n",
      "Got the result from ./1/train/filtrations/2/RadialFiltration_38_25/red/features.npy\n",
      "Got the result from ./1/train/filtrations/2/RadialFiltration_38_25/green/features.npy\n",
      "Got the result from ./1/train/filtrations/2/RadialFiltration_38_25/blue/features.npy\n",
      "Applying filtration 19/72: 2/RadialFiltration_38_38\n",
      "RGB images received. Transforming to grayscale.\n"
     ]
    },
    {
     "name": "stderr",
     "output_type": "stream",
     "text": [
      "rgb2gray: 100%|██████████| 9030/9030 [00:01<00:00, 6219.32it/s]\n"
     ]
    },
    {
     "name": "stdout",
     "output_type": "stream",
     "text": [
      "Got the result from ./1/train/filtrations/2/RadialFiltration_38_38/gray/features.npy\n",
      "Got the result from ./1/train/filtrations/2/RadialFiltration_38_38/red/features.npy\n",
      "Got the result from ./1/train/filtrations/2/RadialFiltration_38_38/green/features.npy\n",
      "Got the result from ./1/train/filtrations/2/RadialFiltration_38_38/blue/features.npy\n",
      "Applying filtration 20/72: 2/RadialFiltration_38_51\n",
      "RGB images received. Transforming to grayscale.\n"
     ]
    },
    {
     "name": "stderr",
     "output_type": "stream",
     "text": [
      "rgb2gray: 100%|██████████| 9030/9030 [00:01<00:00, 6136.55it/s]\n"
     ]
    },
    {
     "name": "stdout",
     "output_type": "stream",
     "text": [
      "Got the result from ./1/train/filtrations/2/RadialFiltration_38_51/gray/features.npy\n",
      "Got the result from ./1/train/filtrations/2/RadialFiltration_38_51/red/features.npy\n",
      "Got the result from ./1/train/filtrations/2/RadialFiltration_38_51/green/features.npy\n",
      "Got the result from ./1/train/filtrations/2/RadialFiltration_38_51/blue/features.npy\n",
      "Applying filtration 21/72: 2/RadialFiltration_51_12\n",
      "RGB images received. Transforming to grayscale.\n"
     ]
    },
    {
     "name": "stderr",
     "output_type": "stream",
     "text": [
      "rgb2gray: 100%|██████████| 9030/9030 [00:01<00:00, 6091.02it/s]\n"
     ]
    },
    {
     "name": "stdout",
     "output_type": "stream",
     "text": [
      "Got the result from ./1/train/filtrations/2/RadialFiltration_51_12/gray/features.npy\n",
      "Got the result from ./1/train/filtrations/2/RadialFiltration_51_12/red/features.npy\n",
      "Got the result from ./1/train/filtrations/2/RadialFiltration_51_12/green/features.npy\n",
      "Got the result from ./1/train/filtrations/2/RadialFiltration_51_12/blue/features.npy\n",
      "Applying filtration 22/72: 2/RadialFiltration_51_25\n",
      "RGB images received. Transforming to grayscale.\n"
     ]
    },
    {
     "name": "stderr",
     "output_type": "stream",
     "text": [
      "rgb2gray: 100%|██████████| 9030/9030 [00:01<00:00, 6159.63it/s]\n"
     ]
    },
    {
     "name": "stdout",
     "output_type": "stream",
     "text": [
      "Got the result from ./1/train/filtrations/2/RadialFiltration_51_25/gray/features.npy\n",
      "Got the result from ./1/train/filtrations/2/RadialFiltration_51_25/red/features.npy\n",
      "Got the result from ./1/train/filtrations/2/RadialFiltration_51_25/green/features.npy\n",
      "Got the result from ./1/train/filtrations/2/RadialFiltration_51_25/blue/features.npy\n",
      "Applying filtration 23/72: 2/RadialFiltration_51_38\n",
      "RGB images received. Transforming to grayscale.\n"
     ]
    },
    {
     "name": "stderr",
     "output_type": "stream",
     "text": [
      "rgb2gray: 100%|██████████| 9030/9030 [00:01<00:00, 5948.44it/s]\n"
     ]
    },
    {
     "name": "stdout",
     "output_type": "stream",
     "text": [
      "Got the result from ./1/train/filtrations/2/RadialFiltration_51_38/gray/features.npy\n",
      "Got the result from ./1/train/filtrations/2/RadialFiltration_51_38/red/features.npy\n",
      "Got the result from ./1/train/filtrations/2/RadialFiltration_51_38/green/features.npy\n",
      "Got the result from ./1/train/filtrations/2/RadialFiltration_51_38/blue/features.npy\n",
      "Applying filtration 24/72: 2/RadialFiltration_51_51\n",
      "RGB images received. Transforming to grayscale.\n"
     ]
    },
    {
     "name": "stderr",
     "output_type": "stream",
     "text": [
      "rgb2gray: 100%|██████████| 9030/9030 [00:01<00:00, 6290.40it/s]\n"
     ]
    },
    {
     "name": "stdout",
     "output_type": "stream",
     "text": [
      "Got the result from ./1/train/filtrations/2/RadialFiltration_51_51/gray/features.npy\n",
      "Got the result from ./1/train/filtrations/2/RadialFiltration_51_51/red/features.npy\n",
      "Got the result from ./1/train/filtrations/2/RadialFiltration_51_51/green/features.npy\n",
      "Got the result from ./1/train/filtrations/2/RadialFiltration_51_51/blue/features.npy\n",
      "Applying filtration 25/72: 4/HeightFiltrartion_-1_-1\n",
      "RGB images received. Transforming to grayscale.\n"
     ]
    },
    {
     "name": "stderr",
     "output_type": "stream",
     "text": [
      "rgb2gray: 100%|██████████| 9030/9030 [00:01<00:00, 6266.54it/s]\n"
     ]
    },
    {
     "name": "stdout",
     "output_type": "stream",
     "text": [
      "Got the result from ./1/train/filtrations/4/HeightFiltrartion_-1_-1/gray/features.npy\n",
      "Got the result from ./1/train/filtrations/4/HeightFiltrartion_-1_-1/red/features.npy\n",
      "Got the result from ./1/train/filtrations/4/HeightFiltrartion_-1_-1/green/features.npy\n",
      "Got the result from ./1/train/filtrations/4/HeightFiltrartion_-1_-1/blue/features.npy\n",
      "Applying filtration 26/72: 4/HeightFiltrartion_1_1\n",
      "RGB images received. Transforming to grayscale.\n"
     ]
    },
    {
     "name": "stderr",
     "output_type": "stream",
     "text": [
      "rgb2gray: 100%|██████████| 9030/9030 [00:01<00:00, 5874.19it/s]\n"
     ]
    },
    {
     "name": "stdout",
     "output_type": "stream",
     "text": [
      "Got the result from ./1/train/filtrations/4/HeightFiltrartion_1_1/gray/features.npy\n",
      "Got the result from ./1/train/filtrations/4/HeightFiltrartion_1_1/red/features.npy\n",
      "Got the result from ./1/train/filtrations/4/HeightFiltrartion_1_1/green/features.npy\n",
      "Got the result from ./1/train/filtrations/4/HeightFiltrartion_1_1/blue/features.npy\n",
      "Applying filtration 27/72: 4/HeightFiltrartion_1_-1\n",
      "RGB images received. Transforming to grayscale.\n"
     ]
    },
    {
     "name": "stderr",
     "output_type": "stream",
     "text": [
      "rgb2gray: 100%|██████████| 9030/9030 [00:01<00:00, 5438.39it/s]\n"
     ]
    },
    {
     "name": "stdout",
     "output_type": "stream",
     "text": [
      "Got the result from ./1/train/filtrations/4/HeightFiltrartion_1_-1/gray/features.npy\n",
      "Got the result from ./1/train/filtrations/4/HeightFiltrartion_1_-1/red/features.npy\n",
      "Got the result from ./1/train/filtrations/4/HeightFiltrartion_1_-1/green/features.npy\n",
      "Got the result from ./1/train/filtrations/4/HeightFiltrartion_1_-1/blue/features.npy\n",
      "Applying filtration 28/72: 4/HeightFiltrartion_-1_1\n",
      "RGB images received. Transforming to grayscale.\n"
     ]
    },
    {
     "name": "stderr",
     "output_type": "stream",
     "text": [
      "rgb2gray: 100%|██████████| 9030/9030 [00:01<00:00, 5011.59it/s]\n"
     ]
    },
    {
     "name": "stdout",
     "output_type": "stream",
     "text": [
      "Got the result from ./1/train/filtrations/4/HeightFiltrartion_-1_1/gray/features.npy\n",
      "Got the result from ./1/train/filtrations/4/HeightFiltrartion_-1_1/red/features.npy\n",
      "Got the result from ./1/train/filtrations/4/HeightFiltrartion_-1_1/green/features.npy\n",
      "Got the result from ./1/train/filtrations/4/HeightFiltrartion_-1_1/blue/features.npy\n",
      "Applying filtration 29/72: 4/HeightFiltrartion_0_-1\n",
      "RGB images received. Transforming to grayscale.\n"
     ]
    },
    {
     "name": "stderr",
     "output_type": "stream",
     "text": [
      "rgb2gray: 100%|██████████| 9030/9030 [00:01<00:00, 6201.25it/s]\n"
     ]
    },
    {
     "name": "stdout",
     "output_type": "stream",
     "text": [
      "Got the result from ./1/train/filtrations/4/HeightFiltrartion_0_-1/gray/features.npy\n",
      "Got the result from ./1/train/filtrations/4/HeightFiltrartion_0_-1/red/features.npy\n",
      "Got the result from ./1/train/filtrations/4/HeightFiltrartion_0_-1/green/features.npy\n",
      "Got the result from ./1/train/filtrations/4/HeightFiltrartion_0_-1/blue/features.npy\n",
      "Applying filtration 30/72: 4/HeightFiltrartion_0_1\n",
      "RGB images received. Transforming to grayscale.\n"
     ]
    },
    {
     "name": "stderr",
     "output_type": "stream",
     "text": [
      "rgb2gray: 100%|██████████| 9030/9030 [00:01<00:00, 6134.52it/s]\n"
     ]
    },
    {
     "name": "stdout",
     "output_type": "stream",
     "text": [
      "Got the result from ./1/train/filtrations/4/HeightFiltrartion_0_1/gray/features.npy\n",
      "Got the result from ./1/train/filtrations/4/HeightFiltrartion_0_1/red/features.npy\n",
      "Got the result from ./1/train/filtrations/4/HeightFiltrartion_0_1/green/features.npy\n",
      "Got the result from ./1/train/filtrations/4/HeightFiltrartion_0_1/blue/features.npy\n",
      "Applying filtration 31/72: 4/HeightFiltrartion_-1_0\n",
      "RGB images received. Transforming to grayscale.\n"
     ]
    },
    {
     "name": "stderr",
     "output_type": "stream",
     "text": [
      "rgb2gray: 100%|██████████| 9030/9030 [00:01<00:00, 6144.93it/s]\n"
     ]
    },
    {
     "name": "stdout",
     "output_type": "stream",
     "text": [
      "Got the result from ./1/train/filtrations/4/HeightFiltrartion_-1_0/gray/features.npy\n",
      "Got the result from ./1/train/filtrations/4/HeightFiltrartion_-1_0/red/features.npy\n",
      "Got the result from ./1/train/filtrations/4/HeightFiltrartion_-1_0/green/features.npy\n",
      "Got the result from ./1/train/filtrations/4/HeightFiltrartion_-1_0/blue/features.npy\n",
      "Applying filtration 32/72: 4/HeightFiltrartion_1_0\n",
      "RGB images received. Transforming to grayscale.\n"
     ]
    },
    {
     "name": "stderr",
     "output_type": "stream",
     "text": [
      "rgb2gray: 100%|██████████| 9030/9030 [00:01<00:00, 5966.06it/s]\n"
     ]
    },
    {
     "name": "stdout",
     "output_type": "stream",
     "text": [
      "Got the result from ./1/train/filtrations/4/HeightFiltrartion_1_0/gray/features.npy\n",
      "Got the result from ./1/train/filtrations/4/HeightFiltrartion_1_0/red/features.npy\n",
      "Got the result from ./1/train/filtrations/4/HeightFiltrartion_1_0/green/features.npy\n",
      "Got the result from ./1/train/filtrations/4/HeightFiltrartion_1_0/blue/features.npy\n",
      "Applying filtration 33/72: 4/RadialFiltration_12_12\n",
      "RGB images received. Transforming to grayscale.\n"
     ]
    },
    {
     "name": "stderr",
     "output_type": "stream",
     "text": [
      "rgb2gray: 100%|██████████| 9030/9030 [00:01<00:00, 5748.47it/s]\n"
     ]
    },
    {
     "name": "stdout",
     "output_type": "stream",
     "text": [
      "Got the result from ./1/train/filtrations/4/RadialFiltration_12_12/gray/features.npy\n",
      "Got the result from ./1/train/filtrations/4/RadialFiltration_12_12/red/features.npy\n",
      "Got the result from ./1/train/filtrations/4/RadialFiltration_12_12/green/features.npy\n",
      "Got the result from ./1/train/filtrations/4/RadialFiltration_12_12/blue/features.npy\n",
      "Applying filtration 34/72: 4/RadialFiltration_12_25\n",
      "RGB images received. Transforming to grayscale.\n"
     ]
    },
    {
     "name": "stderr",
     "output_type": "stream",
     "text": [
      "rgb2gray: 100%|██████████| 9030/9030 [00:01<00:00, 5506.50it/s]\n"
     ]
    },
    {
     "name": "stdout",
     "output_type": "stream",
     "text": [
      "Got the result from ./1/train/filtrations/4/RadialFiltration_12_25/gray/features.npy\n",
      "Got the result from ./1/train/filtrations/4/RadialFiltration_12_25/red/features.npy\n",
      "Got the result from ./1/train/filtrations/4/RadialFiltration_12_25/green/features.npy\n",
      "Got the result from ./1/train/filtrations/4/RadialFiltration_12_25/blue/features.npy\n",
      "Applying filtration 35/72: 4/RadialFiltration_12_38\n",
      "RGB images received. Transforming to grayscale.\n"
     ]
    },
    {
     "name": "stderr",
     "output_type": "stream",
     "text": [
      "rgb2gray: 100%|██████████| 9030/9030 [00:01<00:00, 5534.53it/s]\n"
     ]
    },
    {
     "name": "stdout",
     "output_type": "stream",
     "text": [
      "Got the result from ./1/train/filtrations/4/RadialFiltration_12_38/gray/features.npy\n",
      "Got the result from ./1/train/filtrations/4/RadialFiltration_12_38/red/features.npy\n",
      "Got the result from ./1/train/filtrations/4/RadialFiltration_12_38/green/features.npy\n",
      "Got the result from ./1/train/filtrations/4/RadialFiltration_12_38/blue/features.npy\n",
      "Applying filtration 36/72: 4/RadialFiltration_12_51\n",
      "RGB images received. Transforming to grayscale.\n"
     ]
    },
    {
     "name": "stderr",
     "output_type": "stream",
     "text": [
      "rgb2gray: 100%|██████████| 9030/9030 [00:01<00:00, 5502.09it/s]\n"
     ]
    },
    {
     "name": "stdout",
     "output_type": "stream",
     "text": [
      "Got the result from ./1/train/filtrations/4/RadialFiltration_12_51/gray/features.npy\n",
      "Got the result from ./1/train/filtrations/4/RadialFiltration_12_51/red/features.npy\n",
      "Got the result from ./1/train/filtrations/4/RadialFiltration_12_51/green/features.npy\n",
      "Got the result from ./1/train/filtrations/4/RadialFiltration_12_51/blue/features.npy\n",
      "Applying filtration 37/72: 4/RadialFiltration_25_12\n",
      "RGB images received. Transforming to grayscale.\n"
     ]
    },
    {
     "name": "stderr",
     "output_type": "stream",
     "text": [
      "rgb2gray: 100%|██████████| 9030/9030 [00:01<00:00, 5293.69it/s]\n"
     ]
    },
    {
     "name": "stdout",
     "output_type": "stream",
     "text": [
      "Got the result from ./1/train/filtrations/4/RadialFiltration_25_12/gray/features.npy\n",
      "Got the result from ./1/train/filtrations/4/RadialFiltration_25_12/red/features.npy\n",
      "Got the result from ./1/train/filtrations/4/RadialFiltration_25_12/green/features.npy\n",
      "Got the result from ./1/train/filtrations/4/RadialFiltration_25_12/blue/features.npy\n",
      "Applying filtration 38/72: 4/RadialFiltration_25_25\n",
      "RGB images received. Transforming to grayscale.\n"
     ]
    },
    {
     "name": "stderr",
     "output_type": "stream",
     "text": [
      "rgb2gray: 100%|██████████| 9030/9030 [00:01<00:00, 5508.04it/s]\n"
     ]
    },
    {
     "name": "stdout",
     "output_type": "stream",
     "text": [
      "Got the result from ./1/train/filtrations/4/RadialFiltration_25_25/gray/features.npy\n",
      "Got the result from ./1/train/filtrations/4/RadialFiltration_25_25/red/features.npy\n",
      "Got the result from ./1/train/filtrations/4/RadialFiltration_25_25/green/features.npy\n",
      "Got the result from ./1/train/filtrations/4/RadialFiltration_25_25/blue/features.npy\n",
      "Applying filtration 39/72: 4/RadialFiltration_25_38\n",
      "RGB images received. Transforming to grayscale.\n"
     ]
    },
    {
     "name": "stderr",
     "output_type": "stream",
     "text": [
      "rgb2gray: 100%|██████████| 9030/9030 [00:01<00:00, 5086.80it/s]\n"
     ]
    },
    {
     "name": "stdout",
     "output_type": "stream",
     "text": [
      "Got the result from ./1/train/filtrations/4/RadialFiltration_25_38/gray/features.npy\n",
      "Got the result from ./1/train/filtrations/4/RadialFiltration_25_38/red/features.npy\n",
      "Got the result from ./1/train/filtrations/4/RadialFiltration_25_38/green/features.npy\n",
      "Got the result from ./1/train/filtrations/4/RadialFiltration_25_38/blue/features.npy\n",
      "Applying filtration 40/72: 4/RadialFiltration_25_51\n",
      "RGB images received. Transforming to grayscale.\n"
     ]
    },
    {
     "name": "stderr",
     "output_type": "stream",
     "text": [
      "rgb2gray: 100%|██████████| 9030/9030 [00:01<00:00, 5538.33it/s]\n"
     ]
    },
    {
     "name": "stdout",
     "output_type": "stream",
     "text": [
      "Got the result from ./1/train/filtrations/4/RadialFiltration_25_51/gray/features.npy\n",
      "Got the result from ./1/train/filtrations/4/RadialFiltration_25_51/red/features.npy\n",
      "Got the result from ./1/train/filtrations/4/RadialFiltration_25_51/green/features.npy\n",
      "Got the result from ./1/train/filtrations/4/RadialFiltration_25_51/blue/features.npy\n",
      "Applying filtration 41/72: 4/RadialFiltration_38_12\n",
      "RGB images received. Transforming to grayscale.\n"
     ]
    },
    {
     "name": "stderr",
     "output_type": "stream",
     "text": [
      "rgb2gray: 100%|██████████| 9030/9030 [00:02<00:00, 3862.57it/s]\n"
     ]
    },
    {
     "name": "stdout",
     "output_type": "stream",
     "text": [
      "Got the result from ./1/train/filtrations/4/RadialFiltration_38_12/gray/features.npy\n",
      "Got the result from ./1/train/filtrations/4/RadialFiltration_38_12/red/features.npy\n",
      "Got the result from ./1/train/filtrations/4/RadialFiltration_38_12/green/features.npy\n",
      "Got the result from ./1/train/filtrations/4/RadialFiltration_38_12/blue/features.npy\n",
      "Applying filtration 42/72: 4/RadialFiltration_38_25\n",
      "RGB images received. Transforming to grayscale.\n"
     ]
    },
    {
     "name": "stderr",
     "output_type": "stream",
     "text": [
      "rgb2gray: 100%|██████████| 9030/9030 [00:01<00:00, 5331.43it/s]\n"
     ]
    },
    {
     "name": "stdout",
     "output_type": "stream",
     "text": [
      "Got the result from ./1/train/filtrations/4/RadialFiltration_38_25/gray/features.npy\n",
      "Got the result from ./1/train/filtrations/4/RadialFiltration_38_25/red/features.npy\n",
      "Got the result from ./1/train/filtrations/4/RadialFiltration_38_25/green/features.npy\n",
      "Got the result from ./1/train/filtrations/4/RadialFiltration_38_25/blue/features.npy\n",
      "Applying filtration 43/72: 4/RadialFiltration_38_38\n",
      "RGB images received. Transforming to grayscale.\n"
     ]
    },
    {
     "name": "stderr",
     "output_type": "stream",
     "text": [
      "rgb2gray: 100%|██████████| 9030/9030 [00:01<00:00, 5931.02it/s]\n"
     ]
    },
    {
     "name": "stdout",
     "output_type": "stream",
     "text": [
      "Got the result from ./1/train/filtrations/4/RadialFiltration_38_38/gray/features.npy\n",
      "Got the result from ./1/train/filtrations/4/RadialFiltration_38_38/red/features.npy\n",
      "Got the result from ./1/train/filtrations/4/RadialFiltration_38_38/green/features.npy\n",
      "Got the result from ./1/train/filtrations/4/RadialFiltration_38_38/blue/features.npy\n",
      "Applying filtration 44/72: 4/RadialFiltration_38_51\n",
      "RGB images received. Transforming to grayscale.\n"
     ]
    },
    {
     "name": "stderr",
     "output_type": "stream",
     "text": [
      "rgb2gray: 100%|██████████| 9030/9030 [00:01<00:00, 6304.87it/s]\n"
     ]
    },
    {
     "name": "stdout",
     "output_type": "stream",
     "text": [
      "Got the result from ./1/train/filtrations/4/RadialFiltration_38_51/gray/features.npy\n",
      "Got the result from ./1/train/filtrations/4/RadialFiltration_38_51/red/features.npy\n",
      "Got the result from ./1/train/filtrations/4/RadialFiltration_38_51/green/features.npy\n",
      "Got the result from ./1/train/filtrations/4/RadialFiltration_38_51/blue/features.npy\n",
      "Applying filtration 45/72: 4/RadialFiltration_51_12\n",
      "RGB images received. Transforming to grayscale.\n"
     ]
    },
    {
     "name": "stderr",
     "output_type": "stream",
     "text": [
      "rgb2gray: 100%|██████████| 9030/9030 [00:01<00:00, 5985.70it/s]\n"
     ]
    },
    {
     "name": "stdout",
     "output_type": "stream",
     "text": [
      "Got the result from ./1/train/filtrations/4/RadialFiltration_51_12/gray/features.npy\n",
      "Got the result from ./1/train/filtrations/4/RadialFiltration_51_12/red/features.npy\n",
      "Got the result from ./1/train/filtrations/4/RadialFiltration_51_12/green/features.npy\n",
      "Got the result from ./1/train/filtrations/4/RadialFiltration_51_12/blue/features.npy\n",
      "Applying filtration 46/72: 4/RadialFiltration_51_25\n",
      "RGB images received. Transforming to grayscale.\n"
     ]
    },
    {
     "name": "stderr",
     "output_type": "stream",
     "text": [
      "rgb2gray: 100%|██████████| 9030/9030 [00:01<00:00, 5961.16it/s]\n"
     ]
    },
    {
     "name": "stdout",
     "output_type": "stream",
     "text": [
      "Got the result from ./1/train/filtrations/4/RadialFiltration_51_25/gray/features.npy\n",
      "Got the result from ./1/train/filtrations/4/RadialFiltration_51_25/red/features.npy\n",
      "Got the result from ./1/train/filtrations/4/RadialFiltration_51_25/green/features.npy\n",
      "Got the result from ./1/train/filtrations/4/RadialFiltration_51_25/blue/features.npy\n",
      "Applying filtration 47/72: 4/RadialFiltration_51_38\n",
      "RGB images received. Transforming to grayscale.\n"
     ]
    },
    {
     "name": "stderr",
     "output_type": "stream",
     "text": [
      "rgb2gray: 100%|██████████| 9030/9030 [00:01<00:00, 5514.47it/s]\n"
     ]
    },
    {
     "name": "stdout",
     "output_type": "stream",
     "text": [
      "Got the result from ./1/train/filtrations/4/RadialFiltration_51_38/gray/features.npy\n",
      "Got the result from ./1/train/filtrations/4/RadialFiltration_51_38/red/features.npy\n",
      "Got the result from ./1/train/filtrations/4/RadialFiltration_51_38/green/features.npy\n",
      "Got the result from ./1/train/filtrations/4/RadialFiltration_51_38/blue/features.npy\n",
      "Applying filtration 48/72: 4/RadialFiltration_51_51\n",
      "RGB images received. Transforming to grayscale.\n"
     ]
    },
    {
     "name": "stderr",
     "output_type": "stream",
     "text": [
      "rgb2gray: 100%|██████████| 9030/9030 [00:01<00:00, 5731.92it/s]\n"
     ]
    },
    {
     "name": "stdout",
     "output_type": "stream",
     "text": [
      "Got the result from ./1/train/filtrations/4/RadialFiltration_51_51/gray/features.npy\n",
      "Got the result from ./1/train/filtrations/4/RadialFiltration_51_51/red/features.npy\n",
      "Got the result from ./1/train/filtrations/4/RadialFiltration_51_51/green/features.npy\n",
      "Got the result from ./1/train/filtrations/4/RadialFiltration_51_51/blue/features.npy\n",
      "Applying filtration 49/72: 6/HeightFiltrartion_-1_-1\n",
      "RGB images received. Transforming to grayscale.\n"
     ]
    },
    {
     "name": "stderr",
     "output_type": "stream",
     "text": [
      "rgb2gray: 100%|██████████| 9030/9030 [00:01<00:00, 5718.81it/s]\n"
     ]
    },
    {
     "name": "stdout",
     "output_type": "stream",
     "text": [
      "Got the result from ./1/train/filtrations/6/HeightFiltrartion_-1_-1/gray/features.npy\n",
      "Got the result from ./1/train/filtrations/6/HeightFiltrartion_-1_-1/red/features.npy\n",
      "Got the result from ./1/train/filtrations/6/HeightFiltrartion_-1_-1/green/features.npy\n",
      "Got the result from ./1/train/filtrations/6/HeightFiltrartion_-1_-1/blue/features.npy\n",
      "Applying filtration 50/72: 6/HeightFiltrartion_1_1\n",
      "RGB images received. Transforming to grayscale.\n"
     ]
    },
    {
     "name": "stderr",
     "output_type": "stream",
     "text": [
      "rgb2gray: 100%|██████████| 9030/9030 [00:01<00:00, 6032.07it/s]\n"
     ]
    },
    {
     "name": "stdout",
     "output_type": "stream",
     "text": [
      "Got the result from ./1/train/filtrations/6/HeightFiltrartion_1_1/gray/features.npy\n",
      "Got the result from ./1/train/filtrations/6/HeightFiltrartion_1_1/red/features.npy\n",
      "Got the result from ./1/train/filtrations/6/HeightFiltrartion_1_1/green/features.npy\n",
      "Got the result from ./1/train/filtrations/6/HeightFiltrartion_1_1/blue/features.npy\n",
      "Applying filtration 51/72: 6/HeightFiltrartion_1_-1\n",
      "RGB images received. Transforming to grayscale.\n"
     ]
    },
    {
     "name": "stderr",
     "output_type": "stream",
     "text": [
      "rgb2gray: 100%|██████████| 9030/9030 [00:01<00:00, 6174.32it/s]\n"
     ]
    },
    {
     "name": "stdout",
     "output_type": "stream",
     "text": [
      "Got the result from ./1/train/filtrations/6/HeightFiltrartion_1_-1/gray/features.npy\n",
      "Got the result from ./1/train/filtrations/6/HeightFiltrartion_1_-1/red/features.npy\n",
      "Got the result from ./1/train/filtrations/6/HeightFiltrartion_1_-1/green/features.npy\n",
      "Got the result from ./1/train/filtrations/6/HeightFiltrartion_1_-1/blue/features.npy\n",
      "Applying filtration 52/72: 6/HeightFiltrartion_-1_1\n",
      "RGB images received. Transforming to grayscale.\n"
     ]
    },
    {
     "name": "stderr",
     "output_type": "stream",
     "text": [
      "rgb2gray: 100%|██████████| 9030/9030 [00:01<00:00, 5599.97it/s]\n"
     ]
    },
    {
     "name": "stdout",
     "output_type": "stream",
     "text": [
      "Got the result from ./1/train/filtrations/6/HeightFiltrartion_-1_1/gray/features.npy\n",
      "Got the result from ./1/train/filtrations/6/HeightFiltrartion_-1_1/red/features.npy\n",
      "Got the result from ./1/train/filtrations/6/HeightFiltrartion_-1_1/green/features.npy\n",
      "Got the result from ./1/train/filtrations/6/HeightFiltrartion_-1_1/blue/features.npy\n",
      "Applying filtration 53/72: 6/HeightFiltrartion_0_-1\n",
      "RGB images received. Transforming to grayscale.\n"
     ]
    },
    {
     "name": "stderr",
     "output_type": "stream",
     "text": [
      "rgb2gray: 100%|██████████| 9030/9030 [00:01<00:00, 5749.60it/s]\n"
     ]
    },
    {
     "name": "stdout",
     "output_type": "stream",
     "text": [
      "Got the result from ./1/train/filtrations/6/HeightFiltrartion_0_-1/gray/features.npy\n",
      "Got the result from ./1/train/filtrations/6/HeightFiltrartion_0_-1/red/features.npy\n",
      "Got the result from ./1/train/filtrations/6/HeightFiltrartion_0_-1/green/features.npy\n",
      "Got the result from ./1/train/filtrations/6/HeightFiltrartion_0_-1/blue/features.npy\n",
      "Applying filtration 54/72: 6/HeightFiltrartion_0_1\n",
      "RGB images received. Transforming to grayscale.\n"
     ]
    },
    {
     "name": "stderr",
     "output_type": "stream",
     "text": [
      "rgb2gray: 100%|██████████| 9030/9030 [00:01<00:00, 5964.33it/s]\n"
     ]
    },
    {
     "name": "stdout",
     "output_type": "stream",
     "text": [
      "Got the result from ./1/train/filtrations/6/HeightFiltrartion_0_1/gray/features.npy\n",
      "Got the result from ./1/train/filtrations/6/HeightFiltrartion_0_1/red/features.npy\n",
      "Got the result from ./1/train/filtrations/6/HeightFiltrartion_0_1/green/features.npy\n",
      "Got the result from ./1/train/filtrations/6/HeightFiltrartion_0_1/blue/features.npy\n",
      "Applying filtration 55/72: 6/HeightFiltrartion_-1_0\n",
      "RGB images received. Transforming to grayscale.\n"
     ]
    },
    {
     "name": "stderr",
     "output_type": "stream",
     "text": [
      "rgb2gray: 100%|██████████| 9030/9030 [00:01<00:00, 5905.82it/s]\n"
     ]
    },
    {
     "name": "stdout",
     "output_type": "stream",
     "text": [
      "Got the result from ./1/train/filtrations/6/HeightFiltrartion_-1_0/gray/features.npy\n",
      "Got the result from ./1/train/filtrations/6/HeightFiltrartion_-1_0/red/features.npy\n",
      "Got the result from ./1/train/filtrations/6/HeightFiltrartion_-1_0/green/features.npy\n",
      "Got the result from ./1/train/filtrations/6/HeightFiltrartion_-1_0/blue/features.npy\n",
      "Applying filtration 56/72: 6/HeightFiltrartion_1_0\n",
      "RGB images received. Transforming to grayscale.\n"
     ]
    },
    {
     "name": "stderr",
     "output_type": "stream",
     "text": [
      "rgb2gray: 100%|██████████| 9030/9030 [00:01<00:00, 5857.80it/s]\n"
     ]
    },
    {
     "name": "stdout",
     "output_type": "stream",
     "text": [
      "Got the result from ./1/train/filtrations/6/HeightFiltrartion_1_0/gray/features.npy\n",
      "Got the result from ./1/train/filtrations/6/HeightFiltrartion_1_0/red/features.npy\n",
      "Got the result from ./1/train/filtrations/6/HeightFiltrartion_1_0/green/features.npy\n",
      "Got the result from ./1/train/filtrations/6/HeightFiltrartion_1_0/blue/features.npy\n",
      "Applying filtration 57/72: 6/RadialFiltration_12_12\n",
      "RGB images received. Transforming to grayscale.\n"
     ]
    },
    {
     "name": "stderr",
     "output_type": "stream",
     "text": [
      "rgb2gray: 100%|██████████| 9030/9030 [00:01<00:00, 5421.76it/s]\n"
     ]
    },
    {
     "name": "stdout",
     "output_type": "stream",
     "text": [
      "Got the result from ./1/train/filtrations/6/RadialFiltration_12_12/gray/features.npy\n",
      "Got the result from ./1/train/filtrations/6/RadialFiltration_12_12/red/features.npy\n",
      "Got the result from ./1/train/filtrations/6/RadialFiltration_12_12/green/features.npy\n",
      "Got the result from ./1/train/filtrations/6/RadialFiltration_12_12/blue/features.npy\n",
      "Applying filtration 58/72: 6/RadialFiltration_12_25\n",
      "RGB images received. Transforming to grayscale.\n"
     ]
    },
    {
     "name": "stderr",
     "output_type": "stream",
     "text": [
      "rgb2gray: 100%|██████████| 9030/9030 [00:01<00:00, 5636.16it/s]\n"
     ]
    },
    {
     "name": "stdout",
     "output_type": "stream",
     "text": [
      "Got the result from ./1/train/filtrations/6/RadialFiltration_12_25/gray/features.npy\n",
      "Got the result from ./1/train/filtrations/6/RadialFiltration_12_25/red/features.npy\n",
      "Got the result from ./1/train/filtrations/6/RadialFiltration_12_25/green/features.npy\n",
      "Got the result from ./1/train/filtrations/6/RadialFiltration_12_25/blue/features.npy\n",
      "Applying filtration 59/72: 6/RadialFiltration_12_38\n",
      "RGB images received. Transforming to grayscale.\n"
     ]
    },
    {
     "name": "stderr",
     "output_type": "stream",
     "text": [
      "rgb2gray: 100%|██████████| 9030/9030 [00:01<00:00, 5563.78it/s]\n"
     ]
    },
    {
     "name": "stdout",
     "output_type": "stream",
     "text": [
      "Got the result from ./1/train/filtrations/6/RadialFiltration_12_38/gray/features.npy\n",
      "Got the result from ./1/train/filtrations/6/RadialFiltration_12_38/red/features.npy\n",
      "Got the result from ./1/train/filtrations/6/RadialFiltration_12_38/green/features.npy\n",
      "Got the result from ./1/train/filtrations/6/RadialFiltration_12_38/blue/features.npy\n",
      "Applying filtration 60/72: 6/RadialFiltration_12_51\n",
      "RGB images received. Transforming to grayscale.\n"
     ]
    },
    {
     "name": "stderr",
     "output_type": "stream",
     "text": [
      "rgb2gray: 100%|██████████| 9030/9030 [00:01<00:00, 5739.19it/s]\n"
     ]
    },
    {
     "name": "stdout",
     "output_type": "stream",
     "text": [
      "Got the result from ./1/train/filtrations/6/RadialFiltration_12_51/gray/features.npy\n",
      "Got the result from ./1/train/filtrations/6/RadialFiltration_12_51/red/features.npy\n",
      "Got the result from ./1/train/filtrations/6/RadialFiltration_12_51/green/features.npy\n",
      "Got the result from ./1/train/filtrations/6/RadialFiltration_12_51/blue/features.npy\n",
      "Applying filtration 61/72: 6/RadialFiltration_25_12\n",
      "RGB images received. Transforming to grayscale.\n"
     ]
    },
    {
     "name": "stderr",
     "output_type": "stream",
     "text": [
      "rgb2gray: 100%|██████████| 9030/9030 [00:01<00:00, 5982.08it/s]\n"
     ]
    },
    {
     "name": "stdout",
     "output_type": "stream",
     "text": [
      "Got the result from ./1/train/filtrations/6/RadialFiltration_25_12/gray/features.npy\n",
      "Got the result from ./1/train/filtrations/6/RadialFiltration_25_12/red/features.npy\n",
      "Got the result from ./1/train/filtrations/6/RadialFiltration_25_12/green/features.npy\n",
      "Got the result from ./1/train/filtrations/6/RadialFiltration_25_12/blue/features.npy\n",
      "Applying filtration 62/72: 6/RadialFiltration_25_25\n",
      "RGB images received. Transforming to grayscale.\n"
     ]
    },
    {
     "name": "stderr",
     "output_type": "stream",
     "text": [
      "rgb2gray: 100%|██████████| 9030/9030 [00:01<00:00, 5992.88it/s]\n"
     ]
    },
    {
     "name": "stdout",
     "output_type": "stream",
     "text": [
      "Got the result from ./1/train/filtrations/6/RadialFiltration_25_25/gray/features.npy\n",
      "Got the result from ./1/train/filtrations/6/RadialFiltration_25_25/red/features.npy\n",
      "Got the result from ./1/train/filtrations/6/RadialFiltration_25_25/green/features.npy\n",
      "Got the result from ./1/train/filtrations/6/RadialFiltration_25_25/blue/features.npy\n",
      "Applying filtration 63/72: 6/RadialFiltration_25_38\n",
      "RGB images received. Transforming to grayscale.\n"
     ]
    },
    {
     "name": "stderr",
     "output_type": "stream",
     "text": [
      "rgb2gray: 100%|██████████| 9030/9030 [00:01<00:00, 6076.72it/s]\n"
     ]
    },
    {
     "name": "stdout",
     "output_type": "stream",
     "text": [
      "Got the result from ./1/train/filtrations/6/RadialFiltration_25_38/gray/features.npy\n",
      "Got the result from ./1/train/filtrations/6/RadialFiltration_25_38/red/features.npy\n",
      "Got the result from ./1/train/filtrations/6/RadialFiltration_25_38/green/features.npy\n",
      "Got the result from ./1/train/filtrations/6/RadialFiltration_25_38/blue/features.npy\n",
      "Applying filtration 64/72: 6/RadialFiltration_25_51\n",
      "RGB images received. Transforming to grayscale.\n"
     ]
    },
    {
     "name": "stderr",
     "output_type": "stream",
     "text": [
      "rgb2gray: 100%|██████████| 9030/9030 [00:01<00:00, 5811.60it/s]\n"
     ]
    },
    {
     "name": "stdout",
     "output_type": "stream",
     "text": [
      "Got the result from ./1/train/filtrations/6/RadialFiltration_25_51/gray/features.npy\n",
      "Got the result from ./1/train/filtrations/6/RadialFiltration_25_51/red/features.npy\n",
      "Got the result from ./1/train/filtrations/6/RadialFiltration_25_51/green/features.npy\n",
      "Got the result from ./1/train/filtrations/6/RadialFiltration_25_51/blue/features.npy\n",
      "Applying filtration 65/72: 6/RadialFiltration_38_12\n",
      "RGB images received. Transforming to grayscale.\n"
     ]
    },
    {
     "name": "stderr",
     "output_type": "stream",
     "text": [
      "rgb2gray: 100%|██████████| 9030/9030 [00:01<00:00, 6089.81it/s]\n"
     ]
    },
    {
     "name": "stdout",
     "output_type": "stream",
     "text": [
      "Got the result from ./1/train/filtrations/6/RadialFiltration_38_12/gray/features.npy\n",
      "Got the result from ./1/train/filtrations/6/RadialFiltration_38_12/red/features.npy\n",
      "Got the result from ./1/train/filtrations/6/RadialFiltration_38_12/green/features.npy\n",
      "Got the result from ./1/train/filtrations/6/RadialFiltration_38_12/blue/features.npy\n",
      "Applying filtration 66/72: 6/RadialFiltration_38_25\n",
      "RGB images received. Transforming to grayscale.\n"
     ]
    },
    {
     "name": "stderr",
     "output_type": "stream",
     "text": [
      "rgb2gray: 100%|██████████| 9030/9030 [00:01<00:00, 6206.22it/s]\n"
     ]
    },
    {
     "name": "stdout",
     "output_type": "stream",
     "text": [
      "Got the result from ./1/train/filtrations/6/RadialFiltration_38_25/gray/features.npy\n",
      "Got the result from ./1/train/filtrations/6/RadialFiltration_38_25/red/features.npy\n",
      "Got the result from ./1/train/filtrations/6/RadialFiltration_38_25/green/features.npy\n",
      "Got the result from ./1/train/filtrations/6/RadialFiltration_38_25/blue/features.npy\n",
      "Applying filtration 67/72: 6/RadialFiltration_38_38\n",
      "RGB images received. Transforming to grayscale.\n"
     ]
    },
    {
     "name": "stderr",
     "output_type": "stream",
     "text": [
      "rgb2gray: 100%|██████████| 9030/9030 [00:01<00:00, 6359.16it/s]\n"
     ]
    },
    {
     "name": "stdout",
     "output_type": "stream",
     "text": [
      "Got the result from ./1/train/filtrations/6/RadialFiltration_38_38/gray/features.npy\n",
      "Got the result from ./1/train/filtrations/6/RadialFiltration_38_38/red/features.npy\n",
      "Got the result from ./1/train/filtrations/6/RadialFiltration_38_38/green/features.npy\n",
      "Got the result from ./1/train/filtrations/6/RadialFiltration_38_38/blue/features.npy\n",
      "Applying filtration 68/72: 6/RadialFiltration_38_51\n",
      "RGB images received. Transforming to grayscale.\n"
     ]
    },
    {
     "name": "stderr",
     "output_type": "stream",
     "text": [
      "rgb2gray: 100%|██████████| 9030/9030 [00:01<00:00, 6292.68it/s]\n"
     ]
    },
    {
     "name": "stdout",
     "output_type": "stream",
     "text": [
      "Got the result from ./1/train/filtrations/6/RadialFiltration_38_51/gray/features.npy\n",
      "Got the result from ./1/train/filtrations/6/RadialFiltration_38_51/red/features.npy\n",
      "Got the result from ./1/train/filtrations/6/RadialFiltration_38_51/green/features.npy\n",
      "Got the result from ./1/train/filtrations/6/RadialFiltration_38_51/blue/features.npy\n",
      "Applying filtration 69/72: 6/RadialFiltration_51_12\n",
      "RGB images received. Transforming to grayscale.\n"
     ]
    },
    {
     "name": "stderr",
     "output_type": "stream",
     "text": [
      "rgb2gray: 100%|██████████| 9030/9030 [00:01<00:00, 6418.48it/s] \n"
     ]
    },
    {
     "name": "stdout",
     "output_type": "stream",
     "text": [
      "Got the result from ./1/train/filtrations/6/RadialFiltration_51_12/gray/features.npy\n",
      "Got the result from ./1/train/filtrations/6/RadialFiltration_51_12/red/features.npy\n",
      "Got the result from ./1/train/filtrations/6/RadialFiltration_51_12/green/features.npy\n",
      "Got the result from ./1/train/filtrations/6/RadialFiltration_51_12/blue/features.npy\n",
      "Applying filtration 70/72: 6/RadialFiltration_51_25\n",
      "RGB images received. Transforming to grayscale.\n"
     ]
    },
    {
     "name": "stderr",
     "output_type": "stream",
     "text": [
      "rgb2gray: 100%|██████████| 9030/9030 [00:01<00:00, 6046.86it/s]\n"
     ]
    },
    {
     "name": "stdout",
     "output_type": "stream",
     "text": [
      "Got the result from ./1/train/filtrations/6/RadialFiltration_51_25/gray/features.npy\n",
      "Got the result from ./1/train/filtrations/6/RadialFiltration_51_25/red/features.npy\n",
      "Got the result from ./1/train/filtrations/6/RadialFiltration_51_25/green/features.npy\n",
      "Got the result from ./1/train/filtrations/6/RadialFiltration_51_25/blue/features.npy\n",
      "Applying filtration 71/72: 6/RadialFiltration_51_38\n",
      "RGB images received. Transforming to grayscale.\n"
     ]
    },
    {
     "name": "stderr",
     "output_type": "stream",
     "text": [
      "rgb2gray: 100%|██████████| 9030/9030 [00:01<00:00, 6402.15it/s]\n"
     ]
    },
    {
     "name": "stdout",
     "output_type": "stream",
     "text": [
      "Got the result from ./1/train/filtrations/6/RadialFiltration_51_38/gray/features.npy\n",
      "Got the result from ./1/train/filtrations/6/RadialFiltration_51_38/red/features.npy\n",
      "Got the result from ./1/train/filtrations/6/RadialFiltration_51_38/green/features.npy\n",
      "Got the result from ./1/train/filtrations/6/RadialFiltration_51_38/blue/features.npy\n",
      "Applying filtration 72/72: 6/RadialFiltration_51_51\n",
      "RGB images received. Transforming to grayscale.\n"
     ]
    },
    {
     "name": "stderr",
     "output_type": "stream",
     "text": [
      "rgb2gray: 100%|██████████| 9030/9030 [00:01<00:00, 5519.11it/s]\n"
     ]
    },
    {
     "name": "stdout",
     "output_type": "stream",
     "text": [
      "Got the result from ./1/train/filtrations/6/RadialFiltration_51_51/gray/features.npy\n",
      "Got the result from ./1/train/filtrations/6/RadialFiltration_51_51/red/features.npy\n",
      "Got the result from ./1/train/filtrations/6/RadialFiltration_51_51/green/features.npy\n",
      "Got the result from ./1/train/filtrations/6/RadialFiltration_51_51/blue/features.npy\n",
      "RGB images received. Transforming to grayscale.\n",
      "Got the result from ./1/train/geometry/rgb/features.npy\n"
     ]
    },
    {
     "name": "stderr",
     "output_type": "stream",
     "text": [
      "rgb2gray: 100%|██████████| 9030/9030 [00:01<00:00, 6126.19it/s]\n"
     ]
    },
    {
     "name": "stdout",
     "output_type": "stream",
     "text": [
      "Got the result from ./1/train/geometry/gray/features.npy\n",
      "Got the result from ./1/train/geometry/red/features.npy\n",
      "Got the result from ./1/train/geometry/green/features.npy\n",
      "Got the result from ./1/train/geometry/blue/features.npy\n",
      "Applying StandardScaler.\n",
      "Calculating inverted images\n",
      "RGB images received. Transforming to grayscale.\n"
     ]
    },
    {
     "name": "stderr",
     "output_type": "stream",
     "text": [
      "rgb2gray: 100%|██████████| 134/134 [00:00<00:00, 6368.90it/s]\n"
     ]
    },
    {
     "name": "stdout",
     "output_type": "stream",
     "text": [
      "Got the result from ./1/test/greyscale/gray/features.npy\n",
      "Got the result from ./1/test/greyscale/red/features.npy\n",
      "Got the result from ./1/test/greyscale/green/features.npy\n",
      "Got the result from ./1/test/greyscale/blue/features.npy\n",
      "RGB images received. Transforming to grayscale.\n"
     ]
    },
    {
     "name": "stderr",
     "output_type": "stream",
     "text": [
      "rgb2gray: 100%|██████████| 134/134 [00:00<00:00, 6380.33it/s]\n"
     ]
    },
    {
     "name": "stdout",
     "output_type": "stream",
     "text": [
      "Got the result from ./1/test/inverted_greyscale/gray/features.npy\n",
      "Got the result from ./1/test/inverted_greyscale/red/features.npy\n",
      "Got the result from ./1/test/inverted_greyscale/green/features.npy\n",
      "Got the result from ./1/test/inverted_greyscale/blue/features.npy\n",
      "Applying filtrations\n",
      "Applying filtration 1/72: 2/HeightFiltrartion_-1_-1\n",
      "RGB images received. Transforming to grayscale.\n"
     ]
    },
    {
     "name": "stderr",
     "output_type": "stream",
     "text": [
      "rgb2gray: 100%|██████████| 134/134 [00:00<00:00, 6090.23it/s]\n"
     ]
    },
    {
     "name": "stdout",
     "output_type": "stream",
     "text": [
      "Got the result from ./1/test/filtrations/2/HeightFiltrartion_-1_-1/gray/features.npy\n",
      "Got the result from ./1/test/filtrations/2/HeightFiltrartion_-1_-1/red/features.npy\n",
      "Got the result from ./1/test/filtrations/2/HeightFiltrartion_-1_-1/green/features.npy\n",
      "Got the result from ./1/test/filtrations/2/HeightFiltrartion_-1_-1/blue/features.npy\n",
      "Applying filtration 2/72: 2/HeightFiltrartion_1_1\n",
      "RGB images received. Transforming to grayscale.\n"
     ]
    },
    {
     "name": "stderr",
     "output_type": "stream",
     "text": [
      "rgb2gray: 100%|██████████| 134/134 [00:00<00:00, 7052.79it/s]\n"
     ]
    },
    {
     "name": "stdout",
     "output_type": "stream",
     "text": [
      "Got the result from ./1/test/filtrations/2/HeightFiltrartion_1_1/gray/features.npy\n",
      "Got the result from ./1/test/filtrations/2/HeightFiltrartion_1_1/red/features.npy\n",
      "Got the result from ./1/test/filtrations/2/HeightFiltrartion_1_1/green/features.npy\n",
      "Got the result from ./1/test/filtrations/2/HeightFiltrartion_1_1/blue/features.npy\n",
      "Applying filtration 3/72: 2/HeightFiltrartion_1_-1\n",
      "RGB images received. Transforming to grayscale.\n"
     ]
    },
    {
     "name": "stderr",
     "output_type": "stream",
     "text": [
      "rgb2gray: 100%|██████████| 134/134 [00:00<00:00, 7444.29it/s]\n"
     ]
    },
    {
     "name": "stdout",
     "output_type": "stream",
     "text": [
      "Got the result from ./1/test/filtrations/2/HeightFiltrartion_1_-1/gray/features.npy\n",
      "Got the result from ./1/test/filtrations/2/HeightFiltrartion_1_-1/red/features.npy\n",
      "Got the result from ./1/test/filtrations/2/HeightFiltrartion_1_-1/green/features.npy\n",
      "Got the result from ./1/test/filtrations/2/HeightFiltrartion_1_-1/blue/features.npy\n",
      "Applying filtration 4/72: 2/HeightFiltrartion_-1_1\n",
      "RGB images received. Transforming to grayscale.\n"
     ]
    },
    {
     "name": "stderr",
     "output_type": "stream",
     "text": [
      "rgb2gray: 100%|██████████| 134/134 [00:00<00:00, 7444.98it/s]\n"
     ]
    },
    {
     "name": "stdout",
     "output_type": "stream",
     "text": [
      "Got the result from ./1/test/filtrations/2/HeightFiltrartion_-1_1/gray/features.npy\n",
      "Got the result from ./1/test/filtrations/2/HeightFiltrartion_-1_1/red/features.npy\n",
      "Got the result from ./1/test/filtrations/2/HeightFiltrartion_-1_1/green/features.npy\n",
      "Got the result from ./1/test/filtrations/2/HeightFiltrartion_-1_1/blue/features.npy\n",
      "Applying filtration 5/72: 2/HeightFiltrartion_0_-1\n",
      "RGB images received. Transforming to grayscale.\n"
     ]
    },
    {
     "name": "stderr",
     "output_type": "stream",
     "text": [
      "rgb2gray: 100%|██████████| 134/134 [00:00<00:00, 6699.69it/s]"
     ]
    },
    {
     "name": "stdout",
     "output_type": "stream",
     "text": [
      "Got the result from ./1/test/filtrations/2/HeightFiltrartion_0_-1/gray/features.npy"
     ]
    },
    {
     "name": "stderr",
     "output_type": "stream",
     "text": [
      "\n"
     ]
    },
    {
     "name": "stdout",
     "output_type": "stream",
     "text": [
      "\n",
      "Got the result from ./1/test/filtrations/2/HeightFiltrartion_0_-1/red/features.npy\n",
      "Got the result from ./1/test/filtrations/2/HeightFiltrartion_0_-1/green/features.npy\n",
      "Got the result from ./1/test/filtrations/2/HeightFiltrartion_0_-1/blue/features.npy\n",
      "Applying filtration 6/72: 2/HeightFiltrartion_0_1\n",
      "RGB images received. Transforming to grayscale.\n"
     ]
    },
    {
     "name": "stderr",
     "output_type": "stream",
     "text": [
      "rgb2gray: 100%|██████████| 134/134 [00:00<00:00, 6090.76it/s]\n"
     ]
    },
    {
     "name": "stdout",
     "output_type": "stream",
     "text": [
      "Got the result from ./1/test/filtrations/2/HeightFiltrartion_0_1/gray/features.npy\n",
      "Got the result from ./1/test/filtrations/2/HeightFiltrartion_0_1/red/features.npy\n",
      "Got the result from ./1/test/filtrations/2/HeightFiltrartion_0_1/green/features.npy\n",
      "Got the result from ./1/test/filtrations/2/HeightFiltrartion_0_1/blue/features.npy\n",
      "Applying filtration 7/72: 2/HeightFiltrartion_-1_0\n",
      "RGB images received. Transforming to grayscale.\n"
     ]
    },
    {
     "name": "stderr",
     "output_type": "stream",
     "text": [
      "rgb2gray: 100%|██████████| 134/134 [00:00<00:00, 5826.15it/s]\n"
     ]
    },
    {
     "name": "stdout",
     "output_type": "stream",
     "text": [
      "Got the result from ./1/test/filtrations/2/HeightFiltrartion_-1_0/gray/features.npy\n",
      "Got the result from ./1/test/filtrations/2/HeightFiltrartion_-1_0/red/features.npy\n",
      "Got the result from ./1/test/filtrations/2/HeightFiltrartion_-1_0/green/features.npy\n",
      "Got the result from ./1/test/filtrations/2/HeightFiltrartion_-1_0/blue/features.npy\n",
      "Applying filtration 8/72: 2/HeightFiltrartion_1_0\n",
      "RGB images received. Transforming to grayscale.\n"
     ]
    },
    {
     "name": "stderr",
     "output_type": "stream",
     "text": [
      "rgb2gray: 100%|██████████| 134/134 [00:00<00:00, 5826.33it/s]"
     ]
    },
    {
     "name": "stdout",
     "output_type": "stream",
     "text": [
      "Got the result from ./1/test/filtrations/2/HeightFiltrartion_1_0/gray/features.npy"
     ]
    },
    {
     "name": "stderr",
     "output_type": "stream",
     "text": [
      "\n"
     ]
    },
    {
     "name": "stdout",
     "output_type": "stream",
     "text": [
      "\n",
      "Got the result from ./1/test/filtrations/2/HeightFiltrartion_1_0/red/features.npy\n",
      "Got the result from ./1/test/filtrations/2/HeightFiltrartion_1_0/green/features.npy\n",
      "Got the result from ./1/test/filtrations/2/HeightFiltrartion_1_0/blue/features.npy\n",
      "Applying filtration 9/72: 2/RadialFiltration_12_12\n",
      "RGB images received. Transforming to grayscale.\n"
     ]
    },
    {
     "name": "stderr",
     "output_type": "stream",
     "text": [
      "rgb2gray: 100%|██████████| 134/134 [00:00<00:00, 4962.75it/s]"
     ]
    },
    {
     "name": "stdout",
     "output_type": "stream",
     "text": [
      "Got the result from ./1/test/filtrations/2/RadialFiltration_12_12/gray/features.npy"
     ]
    },
    {
     "name": "stderr",
     "output_type": "stream",
     "text": [
      "\n"
     ]
    },
    {
     "name": "stdout",
     "output_type": "stream",
     "text": [
      "\n",
      "Got the result from ./1/test/filtrations/2/RadialFiltration_12_12/red/features.npy\n",
      "Got the result from ./1/test/filtrations/2/RadialFiltration_12_12/green/features.npy\n",
      "Got the result from ./1/test/filtrations/2/RadialFiltration_12_12/blue/features.npy\n",
      "Applying filtration 10/72: 2/RadialFiltration_12_25\n",
      "RGB images received. Transforming to grayscale.\n"
     ]
    },
    {
     "name": "stderr",
     "output_type": "stream",
     "text": [
      "rgb2gray: 100%|██████████| 134/134 [00:00<00:00, 5826.99it/s]\n"
     ]
    },
    {
     "name": "stdout",
     "output_type": "stream",
     "text": [
      "Got the result from ./1/test/filtrations/2/RadialFiltration_12_25/gray/features.npy\n",
      "Got the result from ./1/test/filtrations/2/RadialFiltration_12_25/red/features.npy\n",
      "Got the result from ./1/test/filtrations/2/RadialFiltration_12_25/green/features.npy\n",
      "Got the result from ./1/test/filtrations/2/RadialFiltration_12_25/blue/features.npy\n",
      "Applying filtration 11/72: 2/RadialFiltration_12_38\n",
      "RGB images received. Transforming to grayscale.\n"
     ]
    },
    {
     "name": "stderr",
     "output_type": "stream",
     "text": [
      "rgb2gray: 100%|██████████| 134/134 [00:00<00:00, 6382.07it/s]"
     ]
    },
    {
     "name": "stdout",
     "output_type": "stream",
     "text": [
      "Got the result from ./1/test/filtrations/2/RadialFiltration_12_38/gray/features.npy\n"
     ]
    },
    {
     "name": "stderr",
     "output_type": "stream",
     "text": [
      "\n"
     ]
    },
    {
     "name": "stdout",
     "output_type": "stream",
     "text": [
      "Got the result from ./1/test/filtrations/2/RadialFiltration_12_38/red/features.npy\n",
      "Got the result from ./1/test/filtrations/2/RadialFiltration_12_38/green/features.npy\n",
      "Got the result from ./1/test/filtrations/2/RadialFiltration_12_38/blue/features.npy\n",
      "Applying filtration 12/72: 2/RadialFiltration_12_51\n",
      "RGB images received. Transforming to grayscale.\n"
     ]
    },
    {
     "name": "stderr",
     "output_type": "stream",
     "text": [
      "rgb2gray: 100%|██████████| 134/134 [00:00<00:00, 4466.74it/s]\n"
     ]
    },
    {
     "name": "stdout",
     "output_type": "stream",
     "text": [
      "Got the result from ./1/test/filtrations/2/RadialFiltration_12_51/gray/features.npy\n",
      "Got the result from ./1/test/filtrations/2/RadialFiltration_12_51/red/features.npy\n",
      "Got the result from ./1/test/filtrations/2/RadialFiltration_12_51/green/features.npy\n",
      "Got the result from ./1/test/filtrations/2/RadialFiltration_12_51/blue/features.npy\n",
      "Applying filtration 13/72: 2/RadialFiltration_25_12\n",
      "RGB images received. Transforming to grayscale.\n"
     ]
    },
    {
     "name": "stderr",
     "output_type": "stream",
     "text": [
      "rgb2gray: 100%|██████████| 134/134 [00:00<00:00, 5583.35it/s]\n"
     ]
    },
    {
     "name": "stdout",
     "output_type": "stream",
     "text": [
      "Got the result from ./1/test/filtrations/2/RadialFiltration_25_12/gray/features.npy\n",
      "Got the result from ./1/test/filtrations/2/RadialFiltration_25_12/red/features.npy\n",
      "Got the result from ./1/test/filtrations/2/RadialFiltration_25_12/green/features.npy\n",
      "Got the result from ./1/test/filtrations/2/RadialFiltration_25_12/blue/features.npy\n",
      "Applying filtration 14/72: 2/RadialFiltration_25_25\n",
      "RGB images received. Transforming to grayscale.\n"
     ]
    },
    {
     "name": "stderr",
     "output_type": "stream",
     "text": [
      "rgb2gray: 100%|██████████| 134/134 [00:00<00:00, 5583.13it/s]\n"
     ]
    },
    {
     "name": "stdout",
     "output_type": "stream",
     "text": [
      "Got the result from ./1/test/filtrations/2/RadialFiltration_25_25/gray/features.npy\n",
      "Got the result from ./1/test/filtrations/2/RadialFiltration_25_25/red/features.npy\n",
      "Got the result from ./1/test/filtrations/2/RadialFiltration_25_25/green/features.npy\n",
      "Got the result from ./1/test/filtrations/2/RadialFiltration_25_25/blue/features.npy\n",
      "Applying filtration 15/72: 2/RadialFiltration_25_38\n",
      "RGB images received. Transforming to grayscale.\n"
     ]
    },
    {
     "name": "stderr",
     "output_type": "stream",
     "text": [
      "rgb2gray: 100%|██████████| 134/134 [00:00<00:00, 5583.24it/s]"
     ]
    },
    {
     "name": "stdout",
     "output_type": "stream",
     "text": [
      "Got the result from ./1/test/filtrations/2/RadialFiltration_25_38/gray/features.npy"
     ]
    },
    {
     "name": "stderr",
     "output_type": "stream",
     "text": [
      "\n"
     ]
    },
    {
     "name": "stdout",
     "output_type": "stream",
     "text": [
      "\n",
      "Got the result from ./1/test/filtrations/2/RadialFiltration_25_38/red/features.npy\n",
      "Got the result from ./1/test/filtrations/2/RadialFiltration_25_38/green/features.npy\n",
      "Got the result from ./1/test/filtrations/2/RadialFiltration_25_38/blue/features.npy\n",
      "Applying filtration 16/72: 2/RadialFiltration_25_51\n",
      "RGB images received. Transforming to grayscale.\n"
     ]
    },
    {
     "name": "stderr",
     "output_type": "stream",
     "text": [
      "rgb2gray: 100%|██████████| 134/134 [00:00<00:00, 6090.76it/s]\n"
     ]
    },
    {
     "name": "stdout",
     "output_type": "stream",
     "text": [
      "Got the result from ./1/test/filtrations/2/RadialFiltration_25_51/gray/features.npy\n",
      "Got the result from ./1/test/filtrations/2/RadialFiltration_25_51/red/features.npy\n",
      "Got the result from ./1/test/filtrations/2/RadialFiltration_25_51/green/features.npy\n",
      "Got the result from ./1/test/filtrations/2/RadialFiltration_25_51/blue/features.npy\n",
      "Applying filtration 17/72: 2/RadialFiltration_38_12\n",
      "RGB images received. Transforming to grayscale.\n"
     ]
    },
    {
     "name": "stderr",
     "output_type": "stream",
     "text": [
      "rgb2gray: 100%|██████████| 134/134 [00:00<00:00, 6091.09it/s]"
     ]
    },
    {
     "name": "stdout",
     "output_type": "stream",
     "text": [
      "Got the result from ./1/test/filtrations/2/RadialFiltration_38_12/gray/features.npy"
     ]
    },
    {
     "name": "stderr",
     "output_type": "stream",
     "text": [
      "\n"
     ]
    },
    {
     "name": "stdout",
     "output_type": "stream",
     "text": [
      "\n",
      "Got the result from ./1/test/filtrations/2/RadialFiltration_38_12/red/features.npy\n",
      "Got the result from ./1/test/filtrations/2/RadialFiltration_38_12/green/features.npy\n",
      "Got the result from ./1/test/filtrations/2/RadialFiltration_38_12/blue/features.npy\n",
      "Applying filtration 18/72: 2/RadialFiltration_38_25\n",
      "RGB images received. Transforming to grayscale.\n"
     ]
    },
    {
     "name": "stderr",
     "output_type": "stream",
     "text": [
      "rgb2gray: 100%|██████████| 134/134 [00:00<00:00, 6381.05it/s]"
     ]
    },
    {
     "name": "stdout",
     "output_type": "stream",
     "text": [
      "Got the result from ./1/test/filtrations/2/RadialFiltration_38_25/gray/features.npy\n"
     ]
    },
    {
     "name": "stderr",
     "output_type": "stream",
     "text": [
      "\n"
     ]
    },
    {
     "name": "stdout",
     "output_type": "stream",
     "text": [
      "Got the result from ./1/test/filtrations/2/RadialFiltration_38_25/red/features.npy\n",
      "Got the result from ./1/test/filtrations/2/RadialFiltration_38_25/green/features.npy\n",
      "Got the result from ./1/test/filtrations/2/RadialFiltration_38_25/blue/features.npy\n",
      "Applying filtration 19/72: 2/RadialFiltration_38_38\n",
      "RGB images received. Transforming to grayscale.\n"
     ]
    },
    {
     "name": "stderr",
     "output_type": "stream",
     "text": [
      "rgb2gray: 100%|██████████| 134/134 [00:00<00:00, 6381.34it/s]"
     ]
    },
    {
     "name": "stdout",
     "output_type": "stream",
     "text": [
      "Got the result from ./1/test/filtrations/2/RadialFiltration_38_38/gray/features.npy"
     ]
    },
    {
     "name": "stderr",
     "output_type": "stream",
     "text": [
      "\n"
     ]
    },
    {
     "name": "stdout",
     "output_type": "stream",
     "text": [
      "\n",
      "Got the result from ./1/test/filtrations/2/RadialFiltration_38_38/red/features.npy\n",
      "Got the result from ./1/test/filtrations/2/RadialFiltration_38_38/green/features.npy\n",
      "Got the result from ./1/test/filtrations/2/RadialFiltration_38_38/blue/features.npy\n",
      "Applying filtration 20/72: 2/RadialFiltration_38_51\n",
      "RGB images received. Transforming to grayscale.\n"
     ]
    },
    {
     "name": "stderr",
     "output_type": "stream",
     "text": [
      "rgb2gray: 100%|██████████| 134/134 [00:00<00:00, 7444.29it/s]\n"
     ]
    },
    {
     "name": "stdout",
     "output_type": "stream",
     "text": [
      "Got the result from ./1/test/filtrations/2/RadialFiltration_38_51/gray/features.npy\n",
      "Got the result from ./1/test/filtrations/2/RadialFiltration_38_51/red/features.npy\n",
      "Got the result from ./1/test/filtrations/2/RadialFiltration_38_51/green/features.npy\n",
      "Got the result from ./1/test/filtrations/2/RadialFiltration_38_51/blue/features.npy\n",
      "Applying filtration 21/72: 2/RadialFiltration_51_12\n",
      "RGB images received. Transforming to grayscale.\n"
     ]
    },
    {
     "name": "stderr",
     "output_type": "stream",
     "text": [
      "rgb2gray: 100%|██████████| 134/134 [00:00<00:00, 6380.55it/s]\n"
     ]
    },
    {
     "name": "stdout",
     "output_type": "stream",
     "text": [
      "Got the result from ./1/test/filtrations/2/RadialFiltration_51_12/gray/features.npy\n",
      "Got the result from ./1/test/filtrations/2/RadialFiltration_51_12/red/features.npy\n",
      "Got the result from ./1/test/filtrations/2/RadialFiltration_51_12/green/features.npy\n",
      "Got the result from ./1/test/filtrations/2/RadialFiltration_51_12/blue/features.npy\n",
      "Applying filtration 22/72: 2/RadialFiltration_51_25\n",
      "RGB images received. Transforming to grayscale.\n"
     ]
    },
    {
     "name": "stderr",
     "output_type": "stream",
     "text": [
      "rgb2gray: 100%|██████████| 134/134 [00:00<00:00, 5583.29it/s]\n"
     ]
    },
    {
     "name": "stdout",
     "output_type": "stream",
     "text": [
      "Got the result from ./1/test/filtrations/2/RadialFiltration_51_25/gray/features.npy\n",
      "Got the result from ./1/test/filtrations/2/RadialFiltration_51_25/red/features.npy\n",
      "Got the result from ./1/test/filtrations/2/RadialFiltration_51_25/green/features.npy\n",
      "Got the result from ./1/test/filtrations/2/RadialFiltration_51_25/blue/features.npy\n",
      "Applying filtration 23/72: 2/RadialFiltration_51_38\n",
      "RGB images received. Transforming to grayscale.\n"
     ]
    },
    {
     "name": "stderr",
     "output_type": "stream",
     "text": [
      "rgb2gray: 100%|██████████| 134/134 [00:00<00:00, 5583.29it/s]\n"
     ]
    },
    {
     "name": "stdout",
     "output_type": "stream",
     "text": [
      "Got the result from ./1/test/filtrations/2/RadialFiltration_51_38/gray/features.npy\n",
      "Got the result from ./1/test/filtrations/2/RadialFiltration_51_38/red/features.npy\n",
      "Got the result from ./1/test/filtrations/2/RadialFiltration_51_38/green/features.npy\n",
      "Got the result from ./1/test/filtrations/2/RadialFiltration_51_38/blue/features.npy\n",
      "Applying filtration 24/72: 2/RadialFiltration_51_51\n",
      "RGB images received. Transforming to grayscale.\n"
     ]
    },
    {
     "name": "stderr",
     "output_type": "stream",
     "text": [
      "rgb2gray: 100%|██████████| 134/134 [00:00<00:00, 5825.97it/s]\n"
     ]
    },
    {
     "name": "stdout",
     "output_type": "stream",
     "text": [
      "Got the result from ./1/test/filtrations/2/RadialFiltration_51_51/gray/features.npy\n",
      "Got the result from ./1/test/filtrations/2/RadialFiltration_51_51/red/features.npy\n",
      "Got the result from ./1/test/filtrations/2/RadialFiltration_51_51/green/features.npy\n",
      "Got the result from ./1/test/filtrations/2/RadialFiltration_51_51/blue/features.npy\n",
      "Applying filtration 25/72: 4/HeightFiltrartion_-1_-1\n",
      "RGB images received. Transforming to grayscale.\n"
     ]
    },
    {
     "name": "stderr",
     "output_type": "stream",
     "text": [
      "rgb2gray: 100%|██████████| 134/134 [00:00<00:00, 6380.76it/s]\n"
     ]
    },
    {
     "name": "stdout",
     "output_type": "stream",
     "text": [
      "Got the result from ./1/test/filtrations/4/HeightFiltrartion_-1_-1/gray/features.npy\n",
      "Got the result from ./1/test/filtrations/4/HeightFiltrartion_-1_-1/red/features.npy\n",
      "Got the result from ./1/test/filtrations/4/HeightFiltrartion_-1_-1/green/features.npy\n",
      "Got the result from ./1/test/filtrations/4/HeightFiltrartion_-1_-1/blue/features.npy\n",
      "Applying filtration 26/72: 4/HeightFiltrartion_1_1\n",
      "RGB images received. Transforming to grayscale.\n"
     ]
    },
    {
     "name": "stderr",
     "output_type": "stream",
     "text": [
      "rgb2gray: 100%|██████████| 134/134 [00:00<00:00, 5153.56it/s]\n"
     ]
    },
    {
     "name": "stdout",
     "output_type": "stream",
     "text": [
      "Got the result from ./1/test/filtrations/4/HeightFiltrartion_1_1/gray/features.npy\n",
      "Got the result from ./1/test/filtrations/4/HeightFiltrartion_1_1/red/features.npy\n",
      "Got the result from ./1/test/filtrations/4/HeightFiltrartion_1_1/green/features.npy\n",
      "Got the result from ./1/test/filtrations/4/HeightFiltrartion_1_1/blue/features.npy\n",
      "Applying filtration 27/72: 4/HeightFiltrartion_1_-1\n",
      "RGB images received. Transforming to grayscale.\n"
     ]
    },
    {
     "name": "stderr",
     "output_type": "stream",
     "text": [
      "rgb2gray: 100%|██████████| 134/134 [00:00<00:00, 6380.55it/s]\n"
     ]
    },
    {
     "name": "stdout",
     "output_type": "stream",
     "text": [
      "Got the result from ./1/test/filtrations/4/HeightFiltrartion_1_-1/gray/features.npy\n",
      "Got the result from ./1/test/filtrations/4/HeightFiltrartion_1_-1/red/features.npy\n",
      "Got the result from ./1/test/filtrations/4/HeightFiltrartion_1_-1/green/features.npy\n",
      "Got the result from ./1/test/filtrations/4/HeightFiltrartion_1_-1/blue/features.npy\n",
      "Applying filtration 28/72: 4/HeightFiltrartion_-1_1\n",
      "RGB images received. Transforming to grayscale.\n"
     ]
    },
    {
     "name": "stderr",
     "output_type": "stream",
     "text": [
      "rgb2gray: 100%|██████████| 134/134 [00:00<00:00, 7053.50it/s]\n"
     ]
    },
    {
     "name": "stdout",
     "output_type": "stream",
     "text": [
      "Got the result from ./1/test/filtrations/4/HeightFiltrartion_-1_1/gray/features.npy\n",
      "Got the result from ./1/test/filtrations/4/HeightFiltrartion_-1_1/red/features.npy\n",
      "Got the result from ./1/test/filtrations/4/HeightFiltrartion_-1_1/green/features.npy\n",
      "Got the result from ./1/test/filtrations/4/HeightFiltrartion_-1_1/blue/features.npy\n",
      "Applying filtration 29/72: 4/HeightFiltrartion_0_-1\n",
      "RGB images received. Transforming to grayscale.\n"
     ]
    },
    {
     "name": "stderr",
     "output_type": "stream",
     "text": [
      "rgb2gray: 100%|██████████| 134/134 [00:00<00:00, 6700.09it/s]"
     ]
    },
    {
     "name": "stdout",
     "output_type": "stream",
     "text": [
      "Got the result from ./1/test/filtrations/4/HeightFiltrartion_0_-1/gray/features.npy\n"
     ]
    },
    {
     "name": "stderr",
     "output_type": "stream",
     "text": [
      "\n"
     ]
    },
    {
     "name": "stdout",
     "output_type": "stream",
     "text": [
      "Got the result from ./1/test/filtrations/4/HeightFiltrartion_0_-1/red/features.npy\n",
      "Got the result from ./1/test/filtrations/4/HeightFiltrartion_0_-1/green/features.npy\n",
      "Got the result from ./1/test/filtrations/4/HeightFiltrartion_0_-1/blue/features.npy\n",
      "Applying filtration 30/72: 4/HeightFiltrartion_0_1\n",
      "RGB images received. Transforming to grayscale.\n"
     ]
    },
    {
     "name": "stderr",
     "output_type": "stream",
     "text": [
      "rgb2gray: 100%|██████████| 134/134 [00:00<00:00, 7444.20it/s]\n"
     ]
    },
    {
     "name": "stdout",
     "output_type": "stream",
     "text": [
      "Got the result from ./1/test/filtrations/4/HeightFiltrartion_0_1/gray/features.npy\n",
      "Got the result from ./1/test/filtrations/4/HeightFiltrartion_0_1/red/features.npy\n",
      "Got the result from ./1/test/filtrations/4/HeightFiltrartion_0_1/green/features.npy\n",
      "Got the result from ./1/test/filtrations/4/HeightFiltrartion_0_1/blue/features.npy\n",
      "Applying filtration 31/72: 4/HeightFiltrartion_-1_0\n",
      "RGB images received. Transforming to grayscale.\n"
     ]
    },
    {
     "name": "stderr",
     "output_type": "stream",
     "text": [
      "rgb2gray: 100%|██████████| 134/134 [00:00<00:00, 7052.70it/s]"
     ]
    },
    {
     "name": "stdout",
     "output_type": "stream",
     "text": [
      "Got the result from ./1/test/filtrations/4/HeightFiltrartion_-1_0/gray/features.npy"
     ]
    },
    {
     "name": "stderr",
     "output_type": "stream",
     "text": [
      "\n"
     ]
    },
    {
     "name": "stdout",
     "output_type": "stream",
     "text": [
      "\n",
      "Got the result from ./1/test/filtrations/4/HeightFiltrartion_-1_0/red/features.npy\n",
      "Got the result from ./1/test/filtrations/4/HeightFiltrartion_-1_0/green/features.npy\n",
      "Got the result from ./1/test/filtrations/4/HeightFiltrartion_-1_0/blue/features.npy\n",
      "Applying filtration 32/72: 4/HeightFiltrartion_1_0\n",
      "RGB images received. Transforming to grayscale.\n"
     ]
    },
    {
     "name": "stderr",
     "output_type": "stream",
     "text": [
      "rgb2gray: 100%|██████████| 134/134 [00:00<00:00, 7052.61it/s]\n"
     ]
    },
    {
     "name": "stdout",
     "output_type": "stream",
     "text": [
      "Got the result from ./1/test/filtrations/4/HeightFiltrartion_1_0/gray/features.npy\n",
      "Got the result from ./1/test/filtrations/4/HeightFiltrartion_1_0/red/features.npy\n",
      "Got the result from ./1/test/filtrations/4/HeightFiltrartion_1_0/green/features.npy\n",
      "Got the result from ./1/test/filtrations/4/HeightFiltrartion_1_0/blue/features.npy\n",
      "Applying filtration 33/72: 4/RadialFiltration_12_12\n",
      "RGB images received. Transforming to grayscale.\n"
     ]
    },
    {
     "name": "stderr",
     "output_type": "stream",
     "text": [
      "rgb2gray: 100%|██████████| 134/134 [00:00<00:00, 7052.79it/s]\n"
     ]
    },
    {
     "name": "stdout",
     "output_type": "stream",
     "text": [
      "Got the result from ./1/test/filtrations/4/RadialFiltration_12_12/gray/features.npy\n",
      "Got the result from ./1/test/filtrations/4/RadialFiltration_12_12/red/features.npy\n",
      "Got the result from ./1/test/filtrations/4/RadialFiltration_12_12/green/features.npy\n",
      "Got the result from ./1/test/filtrations/4/RadialFiltration_12_12/blue/features.npy\n",
      "Applying filtration 34/72: 4/RadialFiltration_12_25\n",
      "RGB images received. Transforming to grayscale.\n"
     ]
    },
    {
     "name": "stderr",
     "output_type": "stream",
     "text": [
      "rgb2gray: 100%|██████████| 134/134 [00:00<00:00, 7444.10it/s]\n"
     ]
    },
    {
     "name": "stdout",
     "output_type": "stream",
     "text": [
      "Got the result from ./1/test/filtrations/4/RadialFiltration_12_25/gray/features.npy\n",
      "Got the result from ./1/test/filtrations/4/RadialFiltration_12_25/red/features.npy\n",
      "Got the result from ./1/test/filtrations/4/RadialFiltration_12_25/green/features.npy\n",
      "Got the result from ./1/test/filtrations/4/RadialFiltration_12_25/blue/features.npy\n",
      "Applying filtration 35/72: 4/RadialFiltration_12_38\n",
      "RGB images received. Transforming to grayscale.\n"
     ]
    },
    {
     "name": "stderr",
     "output_type": "stream",
     "text": [
      "rgb2gray: 100%|██████████| 134/134 [00:00<00:00, 7053.59it/s]"
     ]
    },
    {
     "name": "stdout",
     "output_type": "stream",
     "text": [
      "Got the result from ./1/test/filtrations/4/RadialFiltration_12_38/gray/features.npy"
     ]
    },
    {
     "name": "stderr",
     "output_type": "stream",
     "text": [
      "\n"
     ]
    },
    {
     "name": "stdout",
     "output_type": "stream",
     "text": [
      "\n",
      "Got the result from ./1/test/filtrations/4/RadialFiltration_12_38/red/features.npy\n",
      "Got the result from ./1/test/filtrations/4/RadialFiltration_12_38/green/features.npy\n",
      "Got the result from ./1/test/filtrations/4/RadialFiltration_12_38/blue/features.npy\n",
      "Applying filtration 36/72: 4/RadialFiltration_12_51\n",
      "RGB images received. Transforming to grayscale.\n"
     ]
    },
    {
     "name": "stderr",
     "output_type": "stream",
     "text": [
      "rgb2gray: 100%|██████████| 134/134 [00:00<00:00, 7444.00it/s]"
     ]
    },
    {
     "name": "stdout",
     "output_type": "stream",
     "text": [
      "Got the result from ./1/test/filtrations/4/RadialFiltration_12_51/gray/features.npy\n"
     ]
    },
    {
     "name": "stderr",
     "output_type": "stream",
     "text": [
      "\n"
     ]
    },
    {
     "name": "stdout",
     "output_type": "stream",
     "text": [
      "Got the result from ./1/test/filtrations/4/RadialFiltration_12_51/red/features.npy\n",
      "Got the result from ./1/test/filtrations/4/RadialFiltration_12_51/green/features.npy\n",
      "Got the result from ./1/test/filtrations/4/RadialFiltration_12_51/blue/features.npy\n",
      "Applying filtration 37/72: 4/RadialFiltration_25_12\n",
      "RGB images received. Transforming to grayscale.\n"
     ]
    },
    {
     "name": "stderr",
     "output_type": "stream",
     "text": [
      "rgb2gray: 100%|██████████| 134/134 [00:00<00:00, 7444.59it/s]"
     ]
    },
    {
     "name": "stdout",
     "output_type": "stream",
     "text": [
      "Got the result from ./1/test/filtrations/4/RadialFiltration_25_12/gray/features.npy\n"
     ]
    },
    {
     "name": "stderr",
     "output_type": "stream",
     "text": [
      "\n"
     ]
    },
    {
     "name": "stdout",
     "output_type": "stream",
     "text": [
      "Got the result from ./1/test/filtrations/4/RadialFiltration_25_12/red/features.npy\n",
      "Got the result from ./1/test/filtrations/4/RadialFiltration_25_12/green/features.npy\n",
      "Got the result from ./1/test/filtrations/4/RadialFiltration_25_12/blue/features.npy\n",
      "Applying filtration 38/72: 4/RadialFiltration_25_25\n",
      "RGB images received. Transforming to grayscale.\n"
     ]
    },
    {
     "name": "stderr",
     "output_type": "stream",
     "text": [
      "rgb2gray: 100%|██████████| 134/134 [00:00<00:00, 7052.52it/s]"
     ]
    },
    {
     "name": "stdout",
     "output_type": "stream",
     "text": [
      "Got the result from ./1/test/filtrations/4/RadialFiltration_25_25/gray/features.npy"
     ]
    },
    {
     "name": "stderr",
     "output_type": "stream",
     "text": [
      "\n"
     ]
    },
    {
     "name": "stdout",
     "output_type": "stream",
     "text": [
      "\n",
      "Got the result from ./1/test/filtrations/4/RadialFiltration_25_25/red/features.npy\n",
      "Got the result from ./1/test/filtrations/4/RadialFiltration_25_25/green/features.npy\n",
      "Got the result from ./1/test/filtrations/4/RadialFiltration_25_25/blue/features.npy\n",
      "Applying filtration 39/72: 4/RadialFiltration_25_38\n",
      "RGB images received. Transforming to grayscale.\n"
     ]
    },
    {
     "name": "stderr",
     "output_type": "stream",
     "text": [
      "rgb2gray: 100%|██████████| 134/134 [00:00<00:00, 4620.23it/s]\n"
     ]
    },
    {
     "name": "stdout",
     "output_type": "stream",
     "text": [
      "Got the result from ./1/test/filtrations/4/RadialFiltration_25_38/gray/features.npy\n",
      "Got the result from ./1/test/filtrations/4/RadialFiltration_25_38/red/features.npy\n",
      "Got the result from ./1/test/filtrations/4/RadialFiltration_25_38/green/features.npy\n",
      "Got the result from ./1/test/filtrations/4/RadialFiltration_25_38/blue/features.npy\n",
      "Applying filtration 40/72: 4/RadialFiltration_25_51\n",
      "RGB images received. Transforming to grayscale.\n"
     ]
    },
    {
     "name": "stderr",
     "output_type": "stream",
     "text": [
      "rgb2gray: 100%|██████████| 134/134 [00:00<00:00, 6091.94it/s]\n"
     ]
    },
    {
     "name": "stdout",
     "output_type": "stream",
     "text": [
      "Got the result from ./1/test/filtrations/4/RadialFiltration_25_51/gray/features.npy\n",
      "Got the result from ./1/test/filtrations/4/RadialFiltration_25_51/red/features.npy\n",
      "Got the result from ./1/test/filtrations/4/RadialFiltration_25_51/green/features.npy\n",
      "Got the result from ./1/test/filtrations/4/RadialFiltration_25_51/blue/features.npy\n",
      "Applying filtration 41/72: 4/RadialFiltration_38_12\n",
      "RGB images received. Transforming to grayscale.\n"
     ]
    },
    {
     "name": "stderr",
     "output_type": "stream",
     "text": [
      "rgb2gray: 100%|██████████| 134/134 [00:00<00:00, 6381.05it/s]\n"
     ]
    },
    {
     "name": "stdout",
     "output_type": "stream",
     "text": [
      "Got the result from ./1/test/filtrations/4/RadialFiltration_38_12/gray/features.npy\n",
      "Got the result from ./1/test/filtrations/4/RadialFiltration_38_12/red/features.npy\n",
      "Got the result from ./1/test/filtrations/4/RadialFiltration_38_12/green/features.npy\n",
      "Got the result from ./1/test/filtrations/4/RadialFiltration_38_12/blue/features.npy\n",
      "Applying filtration 42/72: 4/RadialFiltration_38_25\n",
      "RGB images received. Transforming to grayscale.\n"
     ]
    },
    {
     "name": "stderr",
     "output_type": "stream",
     "text": [
      "rgb2gray: 100%|██████████| 134/134 [00:00<00:00, 6380.98it/s]\n"
     ]
    },
    {
     "name": "stdout",
     "output_type": "stream",
     "text": [
      "Got the result from ./1/test/filtrations/4/RadialFiltration_38_25/gray/features.npy\n",
      "Got the result from ./1/test/filtrations/4/RadialFiltration_38_25/red/features.npy\n",
      "Got the result from ./1/test/filtrations/4/RadialFiltration_38_25/green/features.npy\n",
      "Got the result from ./1/test/filtrations/4/RadialFiltration_38_25/blue/features.npy\n",
      "Applying filtration 43/72: 4/RadialFiltration_38_38\n",
      "RGB images received. Transforming to grayscale.\n"
     ]
    },
    {
     "name": "stderr",
     "output_type": "stream",
     "text": [
      "rgb2gray: 100%|██████████| 134/134 [00:00<00:00, 6380.76it/s]"
     ]
    },
    {
     "name": "stdout",
     "output_type": "stream",
     "text": [
      "Got the result from ./1/test/filtrations/4/RadialFiltration_38_38/gray/features.npy"
     ]
    },
    {
     "name": "stderr",
     "output_type": "stream",
     "text": [
      "\n"
     ]
    },
    {
     "name": "stdout",
     "output_type": "stream",
     "text": [
      "\n",
      "Got the result from ./1/test/filtrations/4/RadialFiltration_38_38/red/features.npy\n",
      "Got the result from ./1/test/filtrations/4/RadialFiltration_38_38/green/features.npy\n",
      "Got the result from ./1/test/filtrations/4/RadialFiltration_38_38/blue/features.npy\n",
      "Applying filtration 44/72: 4/RadialFiltration_38_51\n",
      "RGB images received. Transforming to grayscale.\n"
     ]
    },
    {
     "name": "stderr",
     "output_type": "stream",
     "text": [
      "rgb2gray: 100%|██████████| 134/134 [00:00<00:00, 7052.26it/s]\n"
     ]
    },
    {
     "name": "stdout",
     "output_type": "stream",
     "text": [
      "Got the result from ./1/test/filtrations/4/RadialFiltration_38_51/gray/features.npy\n",
      "Got the result from ./1/test/filtrations/4/RadialFiltration_38_51/red/features.npy\n",
      "Got the result from ./1/test/filtrations/4/RadialFiltration_38_51/green/features.npy\n",
      "Got the result from ./1/test/filtrations/4/RadialFiltration_38_51/blue/features.npy\n",
      "Applying filtration 45/72: 4/RadialFiltration_51_12\n",
      "RGB images received. Transforming to grayscale.\n"
     ]
    },
    {
     "name": "stderr",
     "output_type": "stream",
     "text": [
      "rgb2gray: 100%|██████████| 134/134 [00:00<00:00, 7050.93it/s]"
     ]
    },
    {
     "name": "stdout",
     "output_type": "stream",
     "text": [
      "Got the result from ./1/test/filtrations/4/RadialFiltration_51_12/gray/features.npy"
     ]
    },
    {
     "name": "stderr",
     "output_type": "stream",
     "text": [
      "\n"
     ]
    },
    {
     "name": "stdout",
     "output_type": "stream",
     "text": [
      "\n",
      "Got the result from ./1/test/filtrations/4/RadialFiltration_51_12/red/features.npy\n",
      "Got the result from ./1/test/filtrations/4/RadialFiltration_51_12/green/features.npy\n",
      "Got the result from ./1/test/filtrations/4/RadialFiltration_51_12/blue/features.npy\n",
      "Applying filtration 46/72: 4/RadialFiltration_51_25\n",
      "RGB images received. Transforming to grayscale.\n"
     ]
    },
    {
     "name": "stderr",
     "output_type": "stream",
     "text": [
      "rgb2gray: 100%|██████████| 134/134 [00:00<00:00, 7052.08it/s]"
     ]
    },
    {
     "name": "stdout",
     "output_type": "stream",
     "text": [
      "Got the result from ./1/test/filtrations/4/RadialFiltration_51_25/gray/features.npy"
     ]
    },
    {
     "name": "stderr",
     "output_type": "stream",
     "text": [
      "\n"
     ]
    },
    {
     "name": "stdout",
     "output_type": "stream",
     "text": [
      "\n",
      "Got the result from ./1/test/filtrations/4/RadialFiltration_51_25/red/features.npy\n",
      "Got the result from ./1/test/filtrations/4/RadialFiltration_51_25/green/features.npy\n",
      "Got the result from ./1/test/filtrations/4/RadialFiltration_51_25/blue/features.npy\n",
      "Applying filtration 47/72: 4/RadialFiltration_51_38\n",
      "RGB images received. Transforming to grayscale.\n"
     ]
    },
    {
     "name": "stderr",
     "output_type": "stream",
     "text": [
      "rgb2gray: 100%|██████████| 134/134 [00:00<00:00, 7051.82it/s]"
     ]
    },
    {
     "name": "stdout",
     "output_type": "stream",
     "text": [
      "Got the result from ./1/test/filtrations/4/RadialFiltration_51_38/gray/features.npy\n"
     ]
    },
    {
     "name": "stderr",
     "output_type": "stream",
     "text": [
      "\n"
     ]
    },
    {
     "name": "stdout",
     "output_type": "stream",
     "text": [
      "Got the result from ./1/test/filtrations/4/RadialFiltration_51_38/red/features.npy\n",
      "Got the result from ./1/test/filtrations/4/RadialFiltration_51_38/green/features.npy\n",
      "Got the result from ./1/test/filtrations/4/RadialFiltration_51_38/blue/features.npy\n",
      "Applying filtration 48/72: 4/RadialFiltration_51_51\n",
      "RGB images received. Transforming to grayscale.\n"
     ]
    },
    {
     "name": "stderr",
     "output_type": "stream",
     "text": [
      "rgb2gray: 100%|██████████| 134/134 [00:00<00:00, 6699.93it/s]\n"
     ]
    },
    {
     "name": "stdout",
     "output_type": "stream",
     "text": [
      "Got the result from ./1/test/filtrations/4/RadialFiltration_51_51/gray/features.npy\n",
      "Got the result from ./1/test/filtrations/4/RadialFiltration_51_51/red/features.npy\n",
      "Got the result from ./1/test/filtrations/4/RadialFiltration_51_51/green/features.npy\n",
      "Got the result from ./1/test/filtrations/4/RadialFiltration_51_51/blue/features.npy\n",
      "Applying filtration 49/72: 6/HeightFiltrartion_-1_-1\n",
      "RGB images received. Transforming to grayscale.\n"
     ]
    },
    {
     "name": "stderr",
     "output_type": "stream",
     "text": [
      "rgb2gray: 100%|██████████| 134/134 [00:00<00:00, 6090.76it/s]\n"
     ]
    },
    {
     "name": "stdout",
     "output_type": "stream",
     "text": [
      "Got the result from ./1/test/filtrations/6/HeightFiltrartion_-1_-1/gray/features.npy\n",
      "Got the result from ./1/test/filtrations/6/HeightFiltrartion_-1_-1/red/features.npy\n",
      "Got the result from ./1/test/filtrations/6/HeightFiltrartion_-1_-1/green/features.npy\n",
      "Got the result from ./1/test/filtrations/6/HeightFiltrartion_-1_-1/blue/features.npy\n",
      "Applying filtration 50/72: 6/HeightFiltrartion_1_1\n",
      "RGB images received. Transforming to grayscale.\n"
     ]
    },
    {
     "name": "stderr",
     "output_type": "stream",
     "text": [
      "rgb2gray: 100%|██████████| 134/134 [00:00<00:00, 5826.15it/s]\n"
     ]
    },
    {
     "name": "stdout",
     "output_type": "stream",
     "text": [
      "Got the result from ./1/test/filtrations/6/HeightFiltrartion_1_1/gray/features.npy\n",
      "Got the result from ./1/test/filtrations/6/HeightFiltrartion_1_1/red/features.npy\n",
      "Got the result from ./1/test/filtrations/6/HeightFiltrartion_1_1/green/features.npy\n",
      "Got the result from ./1/test/filtrations/6/HeightFiltrartion_1_1/blue/features.npy\n",
      "Applying filtration 51/72: 6/HeightFiltrartion_1_-1\n",
      "RGB images received. Transforming to grayscale.\n"
     ]
    },
    {
     "name": "stderr",
     "output_type": "stream",
     "text": [
      "rgb2gray: 100%|██████████| 134/134 [00:00<00:00, 4620.45it/s]"
     ]
    },
    {
     "name": "stdout",
     "output_type": "stream",
     "text": [
      "Got the result from ./1/test/filtrations/6/HeightFiltrartion_1_-1/gray/features.npy"
     ]
    },
    {
     "name": "stderr",
     "output_type": "stream",
     "text": [
      "\n"
     ]
    },
    {
     "name": "stdout",
     "output_type": "stream",
     "text": [
      "\n",
      "Got the result from ./1/test/filtrations/6/HeightFiltrartion_1_-1/red/features.npy\n",
      "Got the result from ./1/test/filtrations/6/HeightFiltrartion_1_-1/green/features.npy\n",
      "Got the result from ./1/test/filtrations/6/HeightFiltrartion_1_-1/blue/features.npy\n",
      "Applying filtration 52/72: 6/HeightFiltrartion_-1_1\n",
      "RGB images received. Transforming to grayscale.\n"
     ]
    },
    {
     "name": "stderr",
     "output_type": "stream",
     "text": [
      "rgb2gray: 100%|██████████| 134/134 [00:00<00:00, 7051.90it/s]\n"
     ]
    },
    {
     "name": "stdout",
     "output_type": "stream",
     "text": [
      "Got the result from ./1/test/filtrations/6/HeightFiltrartion_-1_1/gray/features.npy\n",
      "Got the result from ./1/test/filtrations/6/HeightFiltrartion_-1_1/red/features.npy\n",
      "Got the result from ./1/test/filtrations/6/HeightFiltrartion_-1_1/green/features.npy\n",
      "Got the result from ./1/test/filtrations/6/HeightFiltrartion_-1_1/blue/features.npy\n",
      "Applying filtration 53/72: 6/HeightFiltrartion_0_-1\n",
      "RGB images received. Transforming to grayscale.\n"
     ]
    },
    {
     "name": "stderr",
     "output_type": "stream",
     "text": [
      "rgb2gray: 100%|██████████| 134/134 [00:00<00:00, 6091.35it/s]\n"
     ]
    },
    {
     "name": "stdout",
     "output_type": "stream",
     "text": [
      "Got the result from ./1/test/filtrations/6/HeightFiltrartion_0_-1/gray/features.npy\n",
      "Got the result from ./1/test/filtrations/6/HeightFiltrartion_0_-1/red/features.npy\n",
      "Got the result from ./1/test/filtrations/6/HeightFiltrartion_0_-1/green/features.npy\n",
      "Got the result from ./1/test/filtrations/6/HeightFiltrartion_0_-1/blue/features.npy\n",
      "Applying filtration 54/72: 6/HeightFiltrartion_0_1\n",
      "RGB images received. Transforming to grayscale.\n"
     ]
    },
    {
     "name": "stderr",
     "output_type": "stream",
     "text": [
      "rgb2gray: 100%|██████████| 134/134 [00:00<00:00, 6381.13it/s]\n"
     ]
    },
    {
     "name": "stdout",
     "output_type": "stream",
     "text": [
      "Got the result from ./1/test/filtrations/6/HeightFiltrartion_0_1/gray/features.npy\n",
      "Got the result from ./1/test/filtrations/6/HeightFiltrartion_0_1/red/features.npy\n",
      "Got the result from ./1/test/filtrations/6/HeightFiltrartion_0_1/green/features.npy\n",
      "Got the result from ./1/test/filtrations/6/HeightFiltrartion_0_1/blue/features.npy\n",
      "Applying filtration 55/72: 6/HeightFiltrartion_-1_0\n",
      "RGB images received. Transforming to grayscale.\n"
     ]
    },
    {
     "name": "stderr",
     "output_type": "stream",
     "text": [
      "rgb2gray: 100%|██████████| 134/134 [00:00<00:00, 7052.43it/s]\n"
     ]
    },
    {
     "name": "stdout",
     "output_type": "stream",
     "text": [
      "Got the result from ./1/test/filtrations/6/HeightFiltrartion_-1_0/gray/features.npy\n",
      "Got the result from ./1/test/filtrations/6/HeightFiltrartion_-1_0/red/features.npy\n",
      "Got the result from ./1/test/filtrations/6/HeightFiltrartion_-1_0/green/features.npy\n",
      "Got the result from ./1/test/filtrations/6/HeightFiltrartion_-1_0/blue/features.npy\n",
      "Applying filtration 56/72: 6/HeightFiltrartion_1_0\n",
      "RGB images received. Transforming to grayscale.\n"
     ]
    },
    {
     "name": "stderr",
     "output_type": "stream",
     "text": [
      "rgb2gray: 100%|██████████| 134/134 [00:00<00:00, 6091.75it/s]\n"
     ]
    },
    {
     "name": "stdout",
     "output_type": "stream",
     "text": [
      "Got the result from ./1/test/filtrations/6/HeightFiltrartion_1_0/gray/features.npy\n",
      "Got the result from ./1/test/filtrations/6/HeightFiltrartion_1_0/red/features.npy\n",
      "Got the result from ./1/test/filtrations/6/HeightFiltrartion_1_0/green/features.npy\n",
      "Got the result from ./1/test/filtrations/6/HeightFiltrartion_1_0/blue/features.npy\n",
      "Applying filtration 57/72: 6/RadialFiltration_12_12\n",
      "RGB images received. Transforming to grayscale.\n"
     ]
    },
    {
     "name": "stderr",
     "output_type": "stream",
     "text": [
      "rgb2gray: 100%|██████████| 134/134 [00:00<00:00, 7053.05it/s]"
     ]
    },
    {
     "name": "stdout",
     "output_type": "stream",
     "text": [
      "Got the result from ./1/test/filtrations/6/RadialFiltration_12_12/gray/features.npy"
     ]
    },
    {
     "name": "stderr",
     "output_type": "stream",
     "text": [
      "\n"
     ]
    },
    {
     "name": "stdout",
     "output_type": "stream",
     "text": [
      "\n",
      "Got the result from ./1/test/filtrations/6/RadialFiltration_12_12/red/features.npy\n",
      "Got the result from ./1/test/filtrations/6/RadialFiltration_12_12/green/features.npy\n",
      "Got the result from ./1/test/filtrations/6/RadialFiltration_12_12/blue/features.npy\n",
      "Applying filtration 58/72: 6/RadialFiltration_12_25\n",
      "RGB images received. Transforming to grayscale.\n"
     ]
    },
    {
     "name": "stderr",
     "output_type": "stream",
     "text": [
      "rgb2gray: 100%|██████████| 134/134 [00:00<00:00, 6090.95it/s]\n"
     ]
    },
    {
     "name": "stdout",
     "output_type": "stream",
     "text": [
      "Got the result from ./1/test/filtrations/6/RadialFiltration_12_25/gray/features.npy\n",
      "Got the result from ./1/test/filtrations/6/RadialFiltration_12_25/red/features.npy\n",
      "Got the result from ./1/test/filtrations/6/RadialFiltration_12_25/green/features.npy\n",
      "Got the result from ./1/test/filtrations/6/RadialFiltration_12_25/blue/features.npy\n",
      "Applying filtration 59/72: 6/RadialFiltration_12_38\n",
      "RGB images received. Transforming to grayscale.\n"
     ]
    },
    {
     "name": "stderr",
     "output_type": "stream",
     "text": [
      "rgb2gray: 100%|██████████| 134/134 [00:00<00:00, 5583.13it/s]\n"
     ]
    },
    {
     "name": "stdout",
     "output_type": "stream",
     "text": [
      "Got the result from ./1/test/filtrations/6/RadialFiltration_12_38/gray/features.npy\n",
      "Got the result from ./1/test/filtrations/6/RadialFiltration_12_38/red/features.npy\n",
      "Got the result from ./1/test/filtrations/6/RadialFiltration_12_38/green/features.npy\n",
      "Got the result from ./1/test/filtrations/6/RadialFiltration_12_38/blue/features.npy\n",
      "Applying filtration 60/72: 6/RadialFiltration_12_51\n",
      "RGB images received. Transforming to grayscale.\n"
     ]
    },
    {
     "name": "stderr",
     "output_type": "stream",
     "text": [
      "rgb2gray: 100%|██████████| 134/134 [00:00<00:00, 5825.66it/s]\n"
     ]
    },
    {
     "name": "stdout",
     "output_type": "stream",
     "text": [
      "Got the result from ./1/test/filtrations/6/RadialFiltration_12_51/gray/features.npy\n",
      "Got the result from ./1/test/filtrations/6/RadialFiltration_12_51/red/features.npy\n",
      "Got the result from ./1/test/filtrations/6/RadialFiltration_12_51/green/features.npy\n",
      "Got the result from ./1/test/filtrations/6/RadialFiltration_12_51/blue/features.npy\n",
      "Applying filtration 61/72: 6/RadialFiltration_25_12\n",
      "RGB images received. Transforming to grayscale.\n"
     ]
    },
    {
     "name": "stderr",
     "output_type": "stream",
     "text": [
      "rgb2gray: 100%|██████████| 134/134 [00:00<00:00, 6380.40it/s]\n"
     ]
    },
    {
     "name": "stdout",
     "output_type": "stream",
     "text": [
      "Got the result from ./1/test/filtrations/6/RadialFiltration_25_12/gray/features.npy\n",
      "Got the result from ./1/test/filtrations/6/RadialFiltration_25_12/red/features.npy\n",
      "Got the result from ./1/test/filtrations/6/RadialFiltration_25_12/green/features.npy\n",
      "Got the result from ./1/test/filtrations/6/RadialFiltration_25_12/blue/features.npy\n",
      "Applying filtration 62/72: 6/RadialFiltration_25_25\n",
      "RGB images received. Transforming to grayscale.\n"
     ]
    },
    {
     "name": "stderr",
     "output_type": "stream",
     "text": [
      "rgb2gray: 100%|██████████| 134/134 [00:00<00:00, 6090.29it/s]\n"
     ]
    },
    {
     "name": "stdout",
     "output_type": "stream",
     "text": [
      "Got the result from ./1/test/filtrations/6/RadialFiltration_25_25/gray/features.npy\n",
      "Got the result from ./1/test/filtrations/6/RadialFiltration_25_25/red/features.npy\n",
      "Got the result from ./1/test/filtrations/6/RadialFiltration_25_25/green/features.npy\n",
      "Got the result from ./1/test/filtrations/6/RadialFiltration_25_25/blue/features.npy\n",
      "Applying filtration 63/72: 6/RadialFiltration_25_38\n",
      "RGB images received. Transforming to grayscale.\n"
     ]
    },
    {
     "name": "stderr",
     "output_type": "stream",
     "text": [
      "rgb2gray: 100%|██████████| 134/134 [00:00<00:00, 4060.72it/s]\n"
     ]
    },
    {
     "name": "stdout",
     "output_type": "stream",
     "text": [
      "Got the result from ./1/test/filtrations/6/RadialFiltration_25_38/gray/features.npy\n",
      "Got the result from ./1/test/filtrations/6/RadialFiltration_25_38/red/features.npy\n",
      "Got the result from ./1/test/filtrations/6/RadialFiltration_25_38/green/features.npy\n",
      "Got the result from ./1/test/filtrations/6/RadialFiltration_25_38/blue/features.npy\n",
      "Applying filtration 64/72: 6/RadialFiltration_25_51\n",
      "RGB images received. Transforming to grayscale.\n"
     ]
    },
    {
     "name": "stderr",
     "output_type": "stream",
     "text": [
      "rgb2gray: 100%|██████████| 134/134 [00:00<00:00, 6380.91it/s]\n"
     ]
    },
    {
     "name": "stdout",
     "output_type": "stream",
     "text": [
      "Got the result from ./1/test/filtrations/6/RadialFiltration_25_51/gray/features.npy\n",
      "Got the result from ./1/test/filtrations/6/RadialFiltration_25_51/red/features.npy\n",
      "Got the result from ./1/test/filtrations/6/RadialFiltration_25_51/green/features.npy\n",
      "Got the result from ./1/test/filtrations/6/RadialFiltration_25_51/blue/features.npy\n",
      "Applying filtration 65/72: 6/RadialFiltration_38_12\n",
      "RGB images received. Transforming to grayscale.\n"
     ]
    },
    {
     "name": "stderr",
     "output_type": "stream",
     "text": [
      "rgb2gray: 100%|██████████| 134/134 [00:00<00:00, 5826.21it/s]"
     ]
    },
    {
     "name": "stdout",
     "output_type": "stream",
     "text": [
      "Got the result from ./1/test/filtrations/6/RadialFiltration_38_12/gray/features.npy\n"
     ]
    },
    {
     "name": "stderr",
     "output_type": "stream",
     "text": [
      "\n"
     ]
    },
    {
     "name": "stdout",
     "output_type": "stream",
     "text": [
      "Got the result from ./1/test/filtrations/6/RadialFiltration_38_12/red/features.npy\n",
      "Got the result from ./1/test/filtrations/6/RadialFiltration_38_12/green/features.npy\n",
      "Got the result from ./1/test/filtrations/6/RadialFiltration_38_12/blue/features.npy\n",
      "Applying filtration 66/72: 6/RadialFiltration_38_25\n",
      "RGB images received. Transforming to grayscale.\n"
     ]
    },
    {
     "name": "stderr",
     "output_type": "stream",
     "text": [
      "rgb2gray: 100%|██████████| 134/134 [00:00<00:00, 6380.76it/s]"
     ]
    },
    {
     "name": "stdout",
     "output_type": "stream",
     "text": [
      "Got the result from ./1/test/filtrations/6/RadialFiltration_38_25/gray/features.npy"
     ]
    },
    {
     "name": "stderr",
     "output_type": "stream",
     "text": [
      "\n"
     ]
    },
    {
     "name": "stdout",
     "output_type": "stream",
     "text": [
      "\n",
      "Got the result from ./1/test/filtrations/6/RadialFiltration_38_25/red/features.npy\n",
      "Got the result from ./1/test/filtrations/6/RadialFiltration_38_25/green/features.npy\n",
      "Got the result from ./1/test/filtrations/6/RadialFiltration_38_25/blue/features.npy\n",
      "Applying filtration 67/72: 6/RadialFiltration_38_38\n",
      "RGB images received. Transforming to grayscale.\n"
     ]
    },
    {
     "name": "stderr",
     "output_type": "stream",
     "text": [
      "rgb2gray: 100%|██████████| 134/134 [00:00<00:00, 5826.21it/s]"
     ]
    },
    {
     "name": "stdout",
     "output_type": "stream",
     "text": [
      "Got the result from ./1/test/filtrations/6/RadialFiltration_38_38/gray/features.npy\n"
     ]
    },
    {
     "name": "stderr",
     "output_type": "stream",
     "text": [
      "\n"
     ]
    },
    {
     "name": "stdout",
     "output_type": "stream",
     "text": [
      "Got the result from ./1/test/filtrations/6/RadialFiltration_38_38/red/features.npy\n",
      "Got the result from ./1/test/filtrations/6/RadialFiltration_38_38/green/features.npy\n",
      "Got the result from ./1/test/filtrations/6/RadialFiltration_38_38/blue/features.npy\n",
      "Applying filtration 68/72: 6/RadialFiltration_38_51\n",
      "RGB images received. Transforming to grayscale.\n"
     ]
    },
    {
     "name": "stderr",
     "output_type": "stream",
     "text": [
      "rgb2gray: 100%|██████████| 134/134 [00:00<00:00, 5593.02it/s]\n"
     ]
    },
    {
     "name": "stdout",
     "output_type": "stream",
     "text": [
      "Got the result from ./1/test/filtrations/6/RadialFiltration_38_51/gray/features.npy\n",
      "Got the result from ./1/test/filtrations/6/RadialFiltration_38_51/red/features.npy\n",
      "Got the result from ./1/test/filtrations/6/RadialFiltration_38_51/green/features.npy\n",
      "Got the result from ./1/test/filtrations/6/RadialFiltration_38_51/blue/features.npy\n",
      "Applying filtration 69/72: 6/RadialFiltration_51_12\n",
      "RGB images received. Transforming to grayscale.\n"
     ]
    },
    {
     "name": "stderr",
     "output_type": "stream",
     "text": [
      "rgb2gray: 100%|██████████| 134/134 [00:00<00:00, 6380.62it/s]"
     ]
    },
    {
     "name": "stdout",
     "output_type": "stream",
     "text": [
      "Got the result from ./1/test/filtrations/6/RadialFiltration_51_12/gray/features.npy\n"
     ]
    },
    {
     "name": "stderr",
     "output_type": "stream",
     "text": [
      "\n"
     ]
    },
    {
     "name": "stdout",
     "output_type": "stream",
     "text": [
      "Got the result from ./1/test/filtrations/6/RadialFiltration_51_12/red/features.npy\n",
      "Got the result from ./1/test/filtrations/6/RadialFiltration_51_12/green/features.npy\n",
      "Got the result from ./1/test/filtrations/6/RadialFiltration_51_12/blue/features.npy\n",
      "Applying filtration 70/72: 6/RadialFiltration_51_25\n",
      "RGB images received. Transforming to grayscale.\n"
     ]
    },
    {
     "name": "stderr",
     "output_type": "stream",
     "text": [
      "rgb2gray: 100%|██████████| 134/134 [00:00<00:00, 7052.79it/s]\n"
     ]
    },
    {
     "name": "stdout",
     "output_type": "stream",
     "text": [
      "Got the result from ./1/test/filtrations/6/RadialFiltration_51_25/gray/features.npy\n",
      "Got the result from ./1/test/filtrations/6/RadialFiltration_51_25/red/features.npy\n",
      "Got the result from ./1/test/filtrations/6/RadialFiltration_51_25/green/features.npy\n",
      "Got the result from ./1/test/filtrations/6/RadialFiltration_51_25/blue/features.npy\n",
      "Applying filtration 71/72: 6/RadialFiltration_51_38\n",
      "RGB images received. Transforming to grayscale.\n"
     ]
    },
    {
     "name": "stderr",
     "output_type": "stream",
     "text": [
      "rgb2gray: 100%|██████████| 134/134 [00:00<00:00, 7052.88it/s]\n"
     ]
    },
    {
     "name": "stdout",
     "output_type": "stream",
     "text": [
      "Got the result from ./1/test/filtrations/6/RadialFiltration_51_38/gray/features.npy\n",
      "Got the result from ./1/test/filtrations/6/RadialFiltration_51_38/red/features.npy\n",
      "Got the result from ./1/test/filtrations/6/RadialFiltration_51_38/green/features.npy\n",
      "Got the result from ./1/test/filtrations/6/RadialFiltration_51_38/blue/features.npy\n",
      "Applying filtration 72/72: 6/RadialFiltration_51_51\n",
      "RGB images received. Transforming to grayscale.\n"
     ]
    },
    {
     "name": "stderr",
     "output_type": "stream",
     "text": [
      "rgb2gray: 100%|██████████| 134/134 [00:00<00:00, 7052.08it/s]\n"
     ]
    },
    {
     "name": "stdout",
     "output_type": "stream",
     "text": [
      "Got the result from ./1/test/filtrations/6/RadialFiltration_51_51/gray/features.npy\n",
      "Got the result from ./1/test/filtrations/6/RadialFiltration_51_51/red/features.npy\n",
      "Got the result from ./1/test/filtrations/6/RadialFiltration_51_51/green/features.npy\n",
      "Got the result from ./1/test/filtrations/6/RadialFiltration_51_51/blue/features.npy\n",
      "RGB images received. Transforming to grayscale.\n",
      "Got the result from ./1/test/geometry/rgb/features.npy\n"
     ]
    },
    {
     "name": "stderr",
     "output_type": "stream",
     "text": [
      "rgb2gray: 100%|██████████| 134/134 [00:00<00:00, 7443.80it/s]\n"
     ]
    },
    {
     "name": "stdout",
     "output_type": "stream",
     "text": [
      "Got the result from ./1/test/geometry/gray/features.npy\n",
      "Got the result from ./1/test/geometry/red/features.npy\n",
      "Got the result from ./1/test/geometry/green/features.npy\n",
      "Got the result from ./1/test/geometry/blue/features.npy\n",
      "Applying StandardScaler.\n"
     ]
    }
   ],
   "source": [
    "import cvtda.topology\n",
    "extractor = cvtda.topology.FeatureExtractor(only_get_from_dump = True, return_diagrams = False)\n",
    "extractor = extractor.fit(train_images, \"1/train\")\n",
    "train_features = extractor.transform(train_images, \"1/train\")\n",
    "test_features = extractor.transform(test_images, \"1/test\")"
   ]
  },
  {
   "cell_type": "code",
   "execution_count": 5,
   "metadata": {},
   "outputs": [
    {
     "name": "stdout",
     "output_type": "stream",
     "text": [
      "Calculating inverted images\n",
      "RGB images received. Transforming to grayscale.\n"
     ]
    },
    {
     "name": "stderr",
     "output_type": "stream",
     "text": [
      "rgb2gray: 100%|██████████| 9030/9030 [00:01<00:00, 5974.77it/s]\n"
     ]
    },
    {
     "name": "stdout",
     "output_type": "stream",
     "text": [
      "Got the result from ./1/train/greyscale/gray/diagrams.npy\n",
      "Applying Scaler to persistence diagrams.\n",
      "Got the result from ./1/train/greyscale/gray/diagrams.npy\n",
      "Got the result from ./1/train/greyscale/red/diagrams.npy\n",
      "Applying Scaler to persistence diagrams.\n",
      "Got the result from ./1/train/greyscale/red/diagrams.npy\n",
      "Got the result from ./1/train/greyscale/green/diagrams.npy\n",
      "Applying Scaler to persistence diagrams.\n",
      "Got the result from ./1/train/greyscale/green/diagrams.npy\n",
      "Got the result from ./1/train/greyscale/blue/diagrams.npy\n",
      "Applying Scaler to persistence diagrams.\n",
      "Got the result from ./1/train/greyscale/blue/diagrams.npy\n",
      "RGB images received. Transforming to grayscale.\n"
     ]
    },
    {
     "name": "stderr",
     "output_type": "stream",
     "text": [
      "rgb2gray: 100%|██████████| 9030/9030 [00:01<00:00, 6181.03it/s]\n"
     ]
    },
    {
     "name": "stdout",
     "output_type": "stream",
     "text": [
      "Got the result from ./1/train/greyscale/gray/diagrams.npy\n",
      "Got the result from ./1/train/greyscale/red/diagrams.npy\n",
      "Got the result from ./1/train/greyscale/green/diagrams.npy\n",
      "Got the result from ./1/train/greyscale/blue/diagrams.npy\n",
      "RGB images received. Transforming to grayscale.\n"
     ]
    },
    {
     "name": "stderr",
     "output_type": "stream",
     "text": [
      "rgb2gray: 100%|██████████| 9030/9030 [00:01<00:00, 5441.37it/s]\n"
     ]
    },
    {
     "name": "stdout",
     "output_type": "stream",
     "text": [
      "Got the result from ./1/train/inverted_greyscale/gray/diagrams.npy\n",
      "Applying Scaler to persistence diagrams.\n",
      "Got the result from ./1/train/inverted_greyscale/gray/diagrams.npy\n",
      "Got the result from ./1/train/inverted_greyscale/red/diagrams.npy\n",
      "Applying Scaler to persistence diagrams.\n",
      "Got the result from ./1/train/inverted_greyscale/red/diagrams.npy\n",
      "Got the result from ./1/train/inverted_greyscale/green/diagrams.npy\n",
      "Applying Scaler to persistence diagrams.\n",
      "Got the result from ./1/train/inverted_greyscale/green/diagrams.npy\n",
      "Got the result from ./1/train/inverted_greyscale/blue/diagrams.npy\n",
      "Applying Scaler to persistence diagrams.\n",
      "Got the result from ./1/train/inverted_greyscale/blue/diagrams.npy\n",
      "RGB images received. Transforming to grayscale.\n"
     ]
    },
    {
     "name": "stderr",
     "output_type": "stream",
     "text": [
      "rgb2gray: 100%|██████████| 9030/9030 [00:01<00:00, 5881.38it/s]\n"
     ]
    },
    {
     "name": "stdout",
     "output_type": "stream",
     "text": [
      "Got the result from ./1/train/inverted_greyscale/gray/diagrams.npy\n",
      "Got the result from ./1/train/inverted_greyscale/red/diagrams.npy\n",
      "Got the result from ./1/train/inverted_greyscale/green/diagrams.npy\n",
      "Got the result from ./1/train/inverted_greyscale/blue/diagrams.npy\n",
      "Fitting filtrations\n",
      "Calculated radial centers for images of size 64x64: [12 25 38 51]x[12 25 38 51]\n",
      "Fitting filtration 1/72: 2/HeightFiltrartion_-1_-1\n",
      "RGB images received. Transforming to grayscale.\n"
     ]
    },
    {
     "name": "stderr",
     "output_type": "stream",
     "text": [
      "rgb2gray: 100%|██████████| 9030/9030 [00:01<00:00, 6237.10it/s]\n"
     ]
    },
    {
     "name": "stdout",
     "output_type": "stream",
     "text": [
      "Got the result from ./1/train/filtrations/2/HeightFiltrartion_-1_-1/gray/diagrams.npy\n",
      "Applying Scaler to persistence diagrams.\n",
      "Got the result from ./1/train/filtrations/2/HeightFiltrartion_-1_-1/gray/diagrams.npy\n",
      "Got the result from ./1/train/filtrations/2/HeightFiltrartion_-1_-1/red/diagrams.npy\n",
      "Applying Scaler to persistence diagrams.\n",
      "Got the result from ./1/train/filtrations/2/HeightFiltrartion_-1_-1/red/diagrams.npy\n",
      "Got the result from ./1/train/filtrations/2/HeightFiltrartion_-1_-1/green/diagrams.npy\n",
      "Applying Scaler to persistence diagrams.\n",
      "Got the result from ./1/train/filtrations/2/HeightFiltrartion_-1_-1/green/diagrams.npy\n",
      "Got the result from ./1/train/filtrations/2/HeightFiltrartion_-1_-1/blue/diagrams.npy\n",
      "Applying Scaler to persistence diagrams.\n",
      "Got the result from ./1/train/filtrations/2/HeightFiltrartion_-1_-1/blue/diagrams.npy\n",
      "Fitting filtration 2/72: 2/HeightFiltrartion_1_1\n",
      "RGB images received. Transforming to grayscale.\n"
     ]
    },
    {
     "name": "stderr",
     "output_type": "stream",
     "text": [
      "rgb2gray: 100%|██████████| 9030/9030 [00:01<00:00, 6431.62it/s] \n"
     ]
    },
    {
     "name": "stdout",
     "output_type": "stream",
     "text": [
      "Got the result from ./1/train/filtrations/2/HeightFiltrartion_1_1/gray/diagrams.npy\n",
      "Applying Scaler to persistence diagrams.\n",
      "Got the result from ./1/train/filtrations/2/HeightFiltrartion_1_1/gray/diagrams.npy\n",
      "Got the result from ./1/train/filtrations/2/HeightFiltrartion_1_1/red/diagrams.npy\n",
      "Applying Scaler to persistence diagrams.\n",
      "Got the result from ./1/train/filtrations/2/HeightFiltrartion_1_1/red/diagrams.npy\n",
      "Got the result from ./1/train/filtrations/2/HeightFiltrartion_1_1/green/diagrams.npy\n",
      "Applying Scaler to persistence diagrams.\n",
      "Got the result from ./1/train/filtrations/2/HeightFiltrartion_1_1/green/diagrams.npy\n",
      "Got the result from ./1/train/filtrations/2/HeightFiltrartion_1_1/blue/diagrams.npy\n",
      "Applying Scaler to persistence diagrams.\n",
      "Got the result from ./1/train/filtrations/2/HeightFiltrartion_1_1/blue/diagrams.npy\n",
      "Fitting filtration 3/72: 2/HeightFiltrartion_1_-1\n",
      "RGB images received. Transforming to grayscale.\n"
     ]
    },
    {
     "name": "stderr",
     "output_type": "stream",
     "text": [
      "rgb2gray: 100%|██████████| 9030/9030 [00:01<00:00, 5759.22it/s]\n"
     ]
    },
    {
     "name": "stdout",
     "output_type": "stream",
     "text": [
      "Got the result from ./1/train/filtrations/2/HeightFiltrartion_1_-1/gray/diagrams.npy\n",
      "Applying Scaler to persistence diagrams.\n",
      "Got the result from ./1/train/filtrations/2/HeightFiltrartion_1_-1/gray/diagrams.npy\n",
      "Got the result from ./1/train/filtrations/2/HeightFiltrartion_1_-1/red/diagrams.npy\n",
      "Applying Scaler to persistence diagrams.\n",
      "Got the result from ./1/train/filtrations/2/HeightFiltrartion_1_-1/red/diagrams.npy\n",
      "Got the result from ./1/train/filtrations/2/HeightFiltrartion_1_-1/green/diagrams.npy\n",
      "Applying Scaler to persistence diagrams.\n",
      "Got the result from ./1/train/filtrations/2/HeightFiltrartion_1_-1/green/diagrams.npy\n",
      "Got the result from ./1/train/filtrations/2/HeightFiltrartion_1_-1/blue/diagrams.npy\n",
      "Applying Scaler to persistence diagrams.\n",
      "Got the result from ./1/train/filtrations/2/HeightFiltrartion_1_-1/blue/diagrams.npy\n",
      "Fitting filtration 4/72: 2/HeightFiltrartion_-1_1\n",
      "RGB images received. Transforming to grayscale.\n"
     ]
    },
    {
     "name": "stderr",
     "output_type": "stream",
     "text": [
      "rgb2gray: 100%|██████████| 9030/9030 [00:01<00:00, 5871.45it/s]\n"
     ]
    },
    {
     "name": "stdout",
     "output_type": "stream",
     "text": [
      "Got the result from ./1/train/filtrations/2/HeightFiltrartion_-1_1/gray/diagrams.npy\n",
      "Applying Scaler to persistence diagrams.\n",
      "Got the result from ./1/train/filtrations/2/HeightFiltrartion_-1_1/gray/diagrams.npy\n",
      "Got the result from ./1/train/filtrations/2/HeightFiltrartion_-1_1/red/diagrams.npy\n",
      "Applying Scaler to persistence diagrams.\n",
      "Got the result from ./1/train/filtrations/2/HeightFiltrartion_-1_1/red/diagrams.npy\n",
      "Got the result from ./1/train/filtrations/2/HeightFiltrartion_-1_1/green/diagrams.npy\n",
      "Applying Scaler to persistence diagrams.\n",
      "Got the result from ./1/train/filtrations/2/HeightFiltrartion_-1_1/green/diagrams.npy\n",
      "Got the result from ./1/train/filtrations/2/HeightFiltrartion_-1_1/blue/diagrams.npy\n",
      "Applying Scaler to persistence diagrams.\n",
      "Got the result from ./1/train/filtrations/2/HeightFiltrartion_-1_1/blue/diagrams.npy\n",
      "Fitting filtration 5/72: 2/HeightFiltrartion_0_-1\n",
      "RGB images received. Transforming to grayscale.\n"
     ]
    },
    {
     "name": "stderr",
     "output_type": "stream",
     "text": [
      "rgb2gray: 100%|██████████| 9030/9030 [00:01<00:00, 6289.14it/s]\n"
     ]
    },
    {
     "name": "stdout",
     "output_type": "stream",
     "text": [
      "Got the result from ./1/train/filtrations/2/HeightFiltrartion_0_-1/gray/diagrams.npy\n",
      "Applying Scaler to persistence diagrams.\n",
      "Got the result from ./1/train/filtrations/2/HeightFiltrartion_0_-1/gray/diagrams.npy\n",
      "Got the result from ./1/train/filtrations/2/HeightFiltrartion_0_-1/red/diagrams.npy\n",
      "Applying Scaler to persistence diagrams.\n",
      "Got the result from ./1/train/filtrations/2/HeightFiltrartion_0_-1/red/diagrams.npy\n",
      "Got the result from ./1/train/filtrations/2/HeightFiltrartion_0_-1/green/diagrams.npy\n",
      "Applying Scaler to persistence diagrams.\n",
      "Got the result from ./1/train/filtrations/2/HeightFiltrartion_0_-1/green/diagrams.npy\n",
      "Got the result from ./1/train/filtrations/2/HeightFiltrartion_0_-1/blue/diagrams.npy\n",
      "Applying Scaler to persistence diagrams.\n",
      "Got the result from ./1/train/filtrations/2/HeightFiltrartion_0_-1/blue/diagrams.npy\n",
      "Fitting filtration 6/72: 2/HeightFiltrartion_0_1\n",
      "RGB images received. Transforming to grayscale.\n"
     ]
    },
    {
     "name": "stderr",
     "output_type": "stream",
     "text": [
      "rgb2gray: 100%|██████████| 9030/9030 [00:01<00:00, 6343.49it/s]\n"
     ]
    },
    {
     "name": "stdout",
     "output_type": "stream",
     "text": [
      "Got the result from ./1/train/filtrations/2/HeightFiltrartion_0_1/gray/diagrams.npy\n",
      "Applying Scaler to persistence diagrams.\n",
      "Got the result from ./1/train/filtrations/2/HeightFiltrartion_0_1/gray/diagrams.npy\n",
      "Got the result from ./1/train/filtrations/2/HeightFiltrartion_0_1/red/diagrams.npy\n",
      "Applying Scaler to persistence diagrams.\n",
      "Got the result from ./1/train/filtrations/2/HeightFiltrartion_0_1/red/diagrams.npy\n",
      "Got the result from ./1/train/filtrations/2/HeightFiltrartion_0_1/green/diagrams.npy\n",
      "Applying Scaler to persistence diagrams.\n",
      "Got the result from ./1/train/filtrations/2/HeightFiltrartion_0_1/green/diagrams.npy\n",
      "Got the result from ./1/train/filtrations/2/HeightFiltrartion_0_1/blue/diagrams.npy\n",
      "Applying Scaler to persistence diagrams.\n",
      "Got the result from ./1/train/filtrations/2/HeightFiltrartion_0_1/blue/diagrams.npy\n",
      "Fitting filtration 7/72: 2/HeightFiltrartion_-1_0\n",
      "RGB images received. Transforming to grayscale.\n"
     ]
    },
    {
     "name": "stderr",
     "output_type": "stream",
     "text": [
      "rgb2gray: 100%|██████████| 9030/9030 [00:01<00:00, 6128.29it/s] \n"
     ]
    },
    {
     "name": "stdout",
     "output_type": "stream",
     "text": [
      "Got the result from ./1/train/filtrations/2/HeightFiltrartion_-1_0/gray/diagrams.npy\n",
      "Applying Scaler to persistence diagrams.\n",
      "Got the result from ./1/train/filtrations/2/HeightFiltrartion_-1_0/gray/diagrams.npy\n",
      "Got the result from ./1/train/filtrations/2/HeightFiltrartion_-1_0/red/diagrams.npy\n",
      "Applying Scaler to persistence diagrams.\n",
      "Got the result from ./1/train/filtrations/2/HeightFiltrartion_-1_0/red/diagrams.npy\n",
      "Got the result from ./1/train/filtrations/2/HeightFiltrartion_-1_0/green/diagrams.npy\n",
      "Applying Scaler to persistence diagrams.\n",
      "Got the result from ./1/train/filtrations/2/HeightFiltrartion_-1_0/green/diagrams.npy\n",
      "Got the result from ./1/train/filtrations/2/HeightFiltrartion_-1_0/blue/diagrams.npy\n",
      "Applying Scaler to persistence diagrams.\n",
      "Got the result from ./1/train/filtrations/2/HeightFiltrartion_-1_0/blue/diagrams.npy\n",
      "Fitting filtration 8/72: 2/HeightFiltrartion_1_0\n",
      "RGB images received. Transforming to grayscale.\n"
     ]
    },
    {
     "name": "stderr",
     "output_type": "stream",
     "text": [
      "rgb2gray: 100%|██████████| 9030/9030 [00:01<00:00, 5829.56it/s]\n"
     ]
    },
    {
     "name": "stdout",
     "output_type": "stream",
     "text": [
      "Got the result from ./1/train/filtrations/2/HeightFiltrartion_1_0/gray/diagrams.npy\n",
      "Applying Scaler to persistence diagrams.\n",
      "Got the result from ./1/train/filtrations/2/HeightFiltrartion_1_0/gray/diagrams.npy\n",
      "Got the result from ./1/train/filtrations/2/HeightFiltrartion_1_0/red/diagrams.npy\n",
      "Applying Scaler to persistence diagrams.\n",
      "Got the result from ./1/train/filtrations/2/HeightFiltrartion_1_0/red/diagrams.npy\n",
      "Got the result from ./1/train/filtrations/2/HeightFiltrartion_1_0/green/diagrams.npy\n",
      "Applying Scaler to persistence diagrams.\n",
      "Got the result from ./1/train/filtrations/2/HeightFiltrartion_1_0/green/diagrams.npy\n",
      "Got the result from ./1/train/filtrations/2/HeightFiltrartion_1_0/blue/diagrams.npy\n",
      "Applying Scaler to persistence diagrams.\n",
      "Got the result from ./1/train/filtrations/2/HeightFiltrartion_1_0/blue/diagrams.npy\n",
      "Fitting filtration 9/72: 2/RadialFiltration_12_12\n",
      "RGB images received. Transforming to grayscale.\n"
     ]
    },
    {
     "name": "stderr",
     "output_type": "stream",
     "text": [
      "rgb2gray: 100%|██████████| 9030/9030 [00:01<00:00, 5867.84it/s]\n"
     ]
    },
    {
     "name": "stdout",
     "output_type": "stream",
     "text": [
      "Got the result from ./1/train/filtrations/2/RadialFiltration_12_12/gray/diagrams.npy\n",
      "Applying Scaler to persistence diagrams.\n",
      "Got the result from ./1/train/filtrations/2/RadialFiltration_12_12/gray/diagrams.npy\n",
      "Got the result from ./1/train/filtrations/2/RadialFiltration_12_12/red/diagrams.npy\n",
      "Applying Scaler to persistence diagrams.\n",
      "Got the result from ./1/train/filtrations/2/RadialFiltration_12_12/red/diagrams.npy\n",
      "Got the result from ./1/train/filtrations/2/RadialFiltration_12_12/green/diagrams.npy\n",
      "Applying Scaler to persistence diagrams.\n",
      "Got the result from ./1/train/filtrations/2/RadialFiltration_12_12/green/diagrams.npy\n",
      "Got the result from ./1/train/filtrations/2/RadialFiltration_12_12/blue/diagrams.npy\n",
      "Applying Scaler to persistence diagrams.\n",
      "Got the result from ./1/train/filtrations/2/RadialFiltration_12_12/blue/diagrams.npy\n",
      "Fitting filtration 10/72: 2/RadialFiltration_12_25\n",
      "RGB images received. Transforming to grayscale.\n"
     ]
    },
    {
     "name": "stderr",
     "output_type": "stream",
     "text": [
      "rgb2gray: 100%|██████████| 9030/9030 [00:01<00:00, 6122.26it/s]\n"
     ]
    },
    {
     "name": "stdout",
     "output_type": "stream",
     "text": [
      "Got the result from ./1/train/filtrations/2/RadialFiltration_12_25/gray/diagrams.npy\n",
      "Applying Scaler to persistence diagrams.\n",
      "Got the result from ./1/train/filtrations/2/RadialFiltration_12_25/gray/diagrams.npy\n",
      "Got the result from ./1/train/filtrations/2/RadialFiltration_12_25/red/diagrams.npy\n",
      "Applying Scaler to persistence diagrams.\n",
      "Got the result from ./1/train/filtrations/2/RadialFiltration_12_25/red/diagrams.npy\n",
      "Got the result from ./1/train/filtrations/2/RadialFiltration_12_25/green/diagrams.npy\n",
      "Applying Scaler to persistence diagrams.\n",
      "Got the result from ./1/train/filtrations/2/RadialFiltration_12_25/green/diagrams.npy\n",
      "Got the result from ./1/train/filtrations/2/RadialFiltration_12_25/blue/diagrams.npy\n",
      "Applying Scaler to persistence diagrams.\n",
      "Got the result from ./1/train/filtrations/2/RadialFiltration_12_25/blue/diagrams.npy\n",
      "Fitting filtration 11/72: 2/RadialFiltration_12_38\n",
      "RGB images received. Transforming to grayscale.\n"
     ]
    },
    {
     "name": "stderr",
     "output_type": "stream",
     "text": [
      "rgb2gray: 100%|██████████| 9030/9030 [00:01<00:00, 5637.00it/s]\n"
     ]
    },
    {
     "name": "stdout",
     "output_type": "stream",
     "text": [
      "Got the result from ./1/train/filtrations/2/RadialFiltration_12_38/gray/diagrams.npy\n",
      "Applying Scaler to persistence diagrams.\n",
      "Got the result from ./1/train/filtrations/2/RadialFiltration_12_38/gray/diagrams.npy\n",
      "Got the result from ./1/train/filtrations/2/RadialFiltration_12_38/red/diagrams.npy\n",
      "Applying Scaler to persistence diagrams.\n",
      "Got the result from ./1/train/filtrations/2/RadialFiltration_12_38/red/diagrams.npy\n",
      "Got the result from ./1/train/filtrations/2/RadialFiltration_12_38/green/diagrams.npy\n",
      "Applying Scaler to persistence diagrams.\n",
      "Got the result from ./1/train/filtrations/2/RadialFiltration_12_38/green/diagrams.npy\n",
      "Got the result from ./1/train/filtrations/2/RadialFiltration_12_38/blue/diagrams.npy\n",
      "Applying Scaler to persistence diagrams.\n",
      "Got the result from ./1/train/filtrations/2/RadialFiltration_12_38/blue/diagrams.npy\n",
      "Fitting filtration 12/72: 2/RadialFiltration_12_51\n",
      "RGB images received. Transforming to grayscale.\n"
     ]
    },
    {
     "name": "stderr",
     "output_type": "stream",
     "text": [
      "rgb2gray: 100%|██████████| 9030/9030 [00:01<00:00, 5032.33it/s]\n"
     ]
    },
    {
     "name": "stdout",
     "output_type": "stream",
     "text": [
      "Got the result from ./1/train/filtrations/2/RadialFiltration_12_51/gray/diagrams.npy\n",
      "Applying Scaler to persistence diagrams.\n",
      "Got the result from ./1/train/filtrations/2/RadialFiltration_12_51/gray/diagrams.npy\n",
      "Got the result from ./1/train/filtrations/2/RadialFiltration_12_51/red/diagrams.npy\n",
      "Applying Scaler to persistence diagrams.\n",
      "Got the result from ./1/train/filtrations/2/RadialFiltration_12_51/red/diagrams.npy\n",
      "Got the result from ./1/train/filtrations/2/RadialFiltration_12_51/green/diagrams.npy\n",
      "Applying Scaler to persistence diagrams.\n",
      "Got the result from ./1/train/filtrations/2/RadialFiltration_12_51/green/diagrams.npy\n",
      "Got the result from ./1/train/filtrations/2/RadialFiltration_12_51/blue/diagrams.npy\n",
      "Applying Scaler to persistence diagrams.\n",
      "Got the result from ./1/train/filtrations/2/RadialFiltration_12_51/blue/diagrams.npy\n",
      "Fitting filtration 13/72: 2/RadialFiltration_25_12\n",
      "RGB images received. Transforming to grayscale.\n"
     ]
    },
    {
     "name": "stderr",
     "output_type": "stream",
     "text": [
      "rgb2gray: 100%|██████████| 9030/9030 [00:01<00:00, 5447.48it/s]\n"
     ]
    },
    {
     "name": "stdout",
     "output_type": "stream",
     "text": [
      "Got the result from ./1/train/filtrations/2/RadialFiltration_25_12/gray/diagrams.npy\n",
      "Applying Scaler to persistence diagrams.\n",
      "Got the result from ./1/train/filtrations/2/RadialFiltration_25_12/gray/diagrams.npy\n",
      "Got the result from ./1/train/filtrations/2/RadialFiltration_25_12/red/diagrams.npy\n",
      "Applying Scaler to persistence diagrams.\n",
      "Got the result from ./1/train/filtrations/2/RadialFiltration_25_12/red/diagrams.npy\n",
      "Got the result from ./1/train/filtrations/2/RadialFiltration_25_12/green/diagrams.npy\n",
      "Applying Scaler to persistence diagrams.\n",
      "Got the result from ./1/train/filtrations/2/RadialFiltration_25_12/green/diagrams.npy\n",
      "Got the result from ./1/train/filtrations/2/RadialFiltration_25_12/blue/diagrams.npy\n",
      "Applying Scaler to persistence diagrams.\n",
      "Got the result from ./1/train/filtrations/2/RadialFiltration_25_12/blue/diagrams.npy\n",
      "Fitting filtration 14/72: 2/RadialFiltration_25_25\n",
      "RGB images received. Transforming to grayscale.\n"
     ]
    },
    {
     "name": "stderr",
     "output_type": "stream",
     "text": [
      "rgb2gray: 100%|██████████| 9030/9030 [00:01<00:00, 6001.00it/s]\n"
     ]
    },
    {
     "name": "stdout",
     "output_type": "stream",
     "text": [
      "Got the result from ./1/train/filtrations/2/RadialFiltration_25_25/gray/diagrams.npy\n",
      "Applying Scaler to persistence diagrams.\n",
      "Got the result from ./1/train/filtrations/2/RadialFiltration_25_25/gray/diagrams.npy\n",
      "Got the result from ./1/train/filtrations/2/RadialFiltration_25_25/red/diagrams.npy\n",
      "Applying Scaler to persistence diagrams.\n",
      "Got the result from ./1/train/filtrations/2/RadialFiltration_25_25/red/diagrams.npy\n",
      "Got the result from ./1/train/filtrations/2/RadialFiltration_25_25/green/diagrams.npy\n",
      "Applying Scaler to persistence diagrams.\n",
      "Got the result from ./1/train/filtrations/2/RadialFiltration_25_25/green/diagrams.npy\n",
      "Got the result from ./1/train/filtrations/2/RadialFiltration_25_25/blue/diagrams.npy\n",
      "Applying Scaler to persistence diagrams.\n",
      "Got the result from ./1/train/filtrations/2/RadialFiltration_25_25/blue/diagrams.npy\n",
      "Fitting filtration 15/72: 2/RadialFiltration_25_38\n",
      "RGB images received. Transforming to grayscale.\n"
     ]
    },
    {
     "name": "stderr",
     "output_type": "stream",
     "text": [
      "rgb2gray: 100%|██████████| 9030/9030 [00:01<00:00, 5867.99it/s]\n"
     ]
    },
    {
     "name": "stdout",
     "output_type": "stream",
     "text": [
      "Got the result from ./1/train/filtrations/2/RadialFiltration_25_38/gray/diagrams.npy\n",
      "Applying Scaler to persistence diagrams.\n",
      "Got the result from ./1/train/filtrations/2/RadialFiltration_25_38/gray/diagrams.npy\n",
      "Got the result from ./1/train/filtrations/2/RadialFiltration_25_38/red/diagrams.npy\n",
      "Applying Scaler to persistence diagrams.\n",
      "Got the result from ./1/train/filtrations/2/RadialFiltration_25_38/red/diagrams.npy\n",
      "Got the result from ./1/train/filtrations/2/RadialFiltration_25_38/green/diagrams.npy\n",
      "Applying Scaler to persistence diagrams.\n",
      "Got the result from ./1/train/filtrations/2/RadialFiltration_25_38/green/diagrams.npy\n",
      "Got the result from ./1/train/filtrations/2/RadialFiltration_25_38/blue/diagrams.npy\n",
      "Applying Scaler to persistence diagrams.\n",
      "Got the result from ./1/train/filtrations/2/RadialFiltration_25_38/blue/diagrams.npy\n",
      "Fitting filtration 16/72: 2/RadialFiltration_25_51\n",
      "RGB images received. Transforming to grayscale.\n"
     ]
    },
    {
     "name": "stderr",
     "output_type": "stream",
     "text": [
      "rgb2gray: 100%|██████████| 9030/9030 [00:01<00:00, 5764.42it/s] \n"
     ]
    },
    {
     "name": "stdout",
     "output_type": "stream",
     "text": [
      "Got the result from ./1/train/filtrations/2/RadialFiltration_25_51/gray/diagrams.npy\n",
      "Applying Scaler to persistence diagrams.\n",
      "Got the result from ./1/train/filtrations/2/RadialFiltration_25_51/gray/diagrams.npy\n",
      "Got the result from ./1/train/filtrations/2/RadialFiltration_25_51/red/diagrams.npy\n",
      "Applying Scaler to persistence diagrams.\n",
      "Got the result from ./1/train/filtrations/2/RadialFiltration_25_51/red/diagrams.npy\n",
      "Got the result from ./1/train/filtrations/2/RadialFiltration_25_51/green/diagrams.npy\n",
      "Applying Scaler to persistence diagrams.\n",
      "Got the result from ./1/train/filtrations/2/RadialFiltration_25_51/green/diagrams.npy\n",
      "Got the result from ./1/train/filtrations/2/RadialFiltration_25_51/blue/diagrams.npy\n",
      "Applying Scaler to persistence diagrams.\n",
      "Got the result from ./1/train/filtrations/2/RadialFiltration_25_51/blue/diagrams.npy\n",
      "Fitting filtration 17/72: 2/RadialFiltration_38_12\n",
      "RGB images received. Transforming to grayscale.\n"
     ]
    },
    {
     "name": "stderr",
     "output_type": "stream",
     "text": [
      "rgb2gray: 100%|██████████| 9030/9030 [00:01<00:00, 5766.88it/s] \n"
     ]
    },
    {
     "name": "stdout",
     "output_type": "stream",
     "text": [
      "Got the result from ./1/train/filtrations/2/RadialFiltration_38_12/gray/diagrams.npy\n",
      "Applying Scaler to persistence diagrams.\n",
      "Got the result from ./1/train/filtrations/2/RadialFiltration_38_12/gray/diagrams.npy\n",
      "Got the result from ./1/train/filtrations/2/RadialFiltration_38_12/red/diagrams.npy\n",
      "Applying Scaler to persistence diagrams.\n",
      "Got the result from ./1/train/filtrations/2/RadialFiltration_38_12/red/diagrams.npy\n",
      "Got the result from ./1/train/filtrations/2/RadialFiltration_38_12/green/diagrams.npy\n",
      "Applying Scaler to persistence diagrams.\n",
      "Got the result from ./1/train/filtrations/2/RadialFiltration_38_12/green/diagrams.npy\n",
      "Got the result from ./1/train/filtrations/2/RadialFiltration_38_12/blue/diagrams.npy\n",
      "Applying Scaler to persistence diagrams.\n",
      "Got the result from ./1/train/filtrations/2/RadialFiltration_38_12/blue/diagrams.npy\n",
      "Fitting filtration 18/72: 2/RadialFiltration_38_25\n",
      "RGB images received. Transforming to grayscale.\n"
     ]
    },
    {
     "name": "stderr",
     "output_type": "stream",
     "text": [
      "rgb2gray: 100%|██████████| 9030/9030 [00:01<00:00, 6142.85it/s]\n"
     ]
    },
    {
     "name": "stdout",
     "output_type": "stream",
     "text": [
      "Got the result from ./1/train/filtrations/2/RadialFiltration_38_25/gray/diagrams.npy\n",
      "Applying Scaler to persistence diagrams.\n",
      "Got the result from ./1/train/filtrations/2/RadialFiltration_38_25/gray/diagrams.npy\n",
      "Got the result from ./1/train/filtrations/2/RadialFiltration_38_25/red/diagrams.npy\n",
      "Applying Scaler to persistence diagrams.\n",
      "Got the result from ./1/train/filtrations/2/RadialFiltration_38_25/red/diagrams.npy\n",
      "Got the result from ./1/train/filtrations/2/RadialFiltration_38_25/green/diagrams.npy\n",
      "Applying Scaler to persistence diagrams.\n",
      "Got the result from ./1/train/filtrations/2/RadialFiltration_38_25/green/diagrams.npy\n",
      "Got the result from ./1/train/filtrations/2/RadialFiltration_38_25/blue/diagrams.npy\n",
      "Applying Scaler to persistence diagrams.\n",
      "Got the result from ./1/train/filtrations/2/RadialFiltration_38_25/blue/diagrams.npy\n",
      "Fitting filtration 19/72: 2/RadialFiltration_38_38\n",
      "RGB images received. Transforming to grayscale.\n"
     ]
    },
    {
     "name": "stderr",
     "output_type": "stream",
     "text": [
      "rgb2gray: 100%|██████████| 9030/9030 [00:01<00:00, 6130.21it/s]\n"
     ]
    },
    {
     "name": "stdout",
     "output_type": "stream",
     "text": [
      "Got the result from ./1/train/filtrations/2/RadialFiltration_38_38/gray/diagrams.npy\n",
      "Applying Scaler to persistence diagrams.\n",
      "Got the result from ./1/train/filtrations/2/RadialFiltration_38_38/gray/diagrams.npy\n",
      "Got the result from ./1/train/filtrations/2/RadialFiltration_38_38/red/diagrams.npy\n",
      "Applying Scaler to persistence diagrams.\n",
      "Got the result from ./1/train/filtrations/2/RadialFiltration_38_38/red/diagrams.npy\n",
      "Got the result from ./1/train/filtrations/2/RadialFiltration_38_38/green/diagrams.npy\n",
      "Applying Scaler to persistence diagrams.\n",
      "Got the result from ./1/train/filtrations/2/RadialFiltration_38_38/green/diagrams.npy\n",
      "Got the result from ./1/train/filtrations/2/RadialFiltration_38_38/blue/diagrams.npy\n",
      "Applying Scaler to persistence diagrams.\n",
      "Got the result from ./1/train/filtrations/2/RadialFiltration_38_38/blue/diagrams.npy\n",
      "Fitting filtration 20/72: 2/RadialFiltration_38_51\n",
      "RGB images received. Transforming to grayscale.\n"
     ]
    },
    {
     "name": "stderr",
     "output_type": "stream",
     "text": [
      "rgb2gray: 100%|██████████| 9030/9030 [00:01<00:00, 5833.33it/s]\n"
     ]
    },
    {
     "name": "stdout",
     "output_type": "stream",
     "text": [
      "Got the result from ./1/train/filtrations/2/RadialFiltration_38_51/gray/diagrams.npy\n",
      "Applying Scaler to persistence diagrams.\n",
      "Got the result from ./1/train/filtrations/2/RadialFiltration_38_51/gray/diagrams.npy\n",
      "Got the result from ./1/train/filtrations/2/RadialFiltration_38_51/red/diagrams.npy\n",
      "Applying Scaler to persistence diagrams.\n",
      "Got the result from ./1/train/filtrations/2/RadialFiltration_38_51/red/diagrams.npy\n",
      "Got the result from ./1/train/filtrations/2/RadialFiltration_38_51/green/diagrams.npy\n",
      "Applying Scaler to persistence diagrams.\n",
      "Got the result from ./1/train/filtrations/2/RadialFiltration_38_51/green/diagrams.npy\n",
      "Got the result from ./1/train/filtrations/2/RadialFiltration_38_51/blue/diagrams.npy\n",
      "Applying Scaler to persistence diagrams.\n",
      "Got the result from ./1/train/filtrations/2/RadialFiltration_38_51/blue/diagrams.npy\n",
      "Fitting filtration 21/72: 2/RadialFiltration_51_12\n",
      "RGB images received. Transforming to grayscale.\n"
     ]
    },
    {
     "name": "stderr",
     "output_type": "stream",
     "text": [
      "rgb2gray: 100%|██████████| 9030/9030 [00:01<00:00, 6153.29it/s]\n"
     ]
    },
    {
     "name": "stdout",
     "output_type": "stream",
     "text": [
      "Got the result from ./1/train/filtrations/2/RadialFiltration_51_12/gray/diagrams.npy\n",
      "Applying Scaler to persistence diagrams.\n",
      "Got the result from ./1/train/filtrations/2/RadialFiltration_51_12/gray/diagrams.npy\n",
      "Got the result from ./1/train/filtrations/2/RadialFiltration_51_12/red/diagrams.npy\n",
      "Applying Scaler to persistence diagrams.\n",
      "Got the result from ./1/train/filtrations/2/RadialFiltration_51_12/red/diagrams.npy\n",
      "Got the result from ./1/train/filtrations/2/RadialFiltration_51_12/green/diagrams.npy\n",
      "Applying Scaler to persistence diagrams.\n",
      "Got the result from ./1/train/filtrations/2/RadialFiltration_51_12/green/diagrams.npy\n",
      "Got the result from ./1/train/filtrations/2/RadialFiltration_51_12/blue/diagrams.npy\n",
      "Applying Scaler to persistence diagrams.\n",
      "Got the result from ./1/train/filtrations/2/RadialFiltration_51_12/blue/diagrams.npy\n",
      "Fitting filtration 22/72: 2/RadialFiltration_51_25\n",
      "RGB images received. Transforming to grayscale.\n"
     ]
    },
    {
     "name": "stderr",
     "output_type": "stream",
     "text": [
      "rgb2gray: 100%|██████████| 9030/9030 [00:01<00:00, 5086.46it/s]\n"
     ]
    },
    {
     "name": "stdout",
     "output_type": "stream",
     "text": [
      "Got the result from ./1/train/filtrations/2/RadialFiltration_51_25/gray/diagrams.npy\n",
      "Applying Scaler to persistence diagrams.\n",
      "Got the result from ./1/train/filtrations/2/RadialFiltration_51_25/gray/diagrams.npy\n",
      "Got the result from ./1/train/filtrations/2/RadialFiltration_51_25/red/diagrams.npy\n",
      "Applying Scaler to persistence diagrams.\n",
      "Got the result from ./1/train/filtrations/2/RadialFiltration_51_25/red/diagrams.npy\n",
      "Got the result from ./1/train/filtrations/2/RadialFiltration_51_25/green/diagrams.npy\n",
      "Applying Scaler to persistence diagrams.\n",
      "Got the result from ./1/train/filtrations/2/RadialFiltration_51_25/green/diagrams.npy\n",
      "Got the result from ./1/train/filtrations/2/RadialFiltration_51_25/blue/diagrams.npy\n",
      "Applying Scaler to persistence diagrams.\n",
      "Got the result from ./1/train/filtrations/2/RadialFiltration_51_25/blue/diagrams.npy\n",
      "Fitting filtration 23/72: 2/RadialFiltration_51_38\n",
      "RGB images received. Transforming to grayscale.\n"
     ]
    },
    {
     "name": "stderr",
     "output_type": "stream",
     "text": [
      "rgb2gray: 100%|██████████| 9030/9030 [00:01<00:00, 6210.29it/s]\n"
     ]
    },
    {
     "name": "stdout",
     "output_type": "stream",
     "text": [
      "Got the result from ./1/train/filtrations/2/RadialFiltration_51_38/gray/diagrams.npy\n",
      "Applying Scaler to persistence diagrams.\n",
      "Got the result from ./1/train/filtrations/2/RadialFiltration_51_38/gray/diagrams.npy\n",
      "Got the result from ./1/train/filtrations/2/RadialFiltration_51_38/red/diagrams.npy\n",
      "Applying Scaler to persistence diagrams.\n",
      "Got the result from ./1/train/filtrations/2/RadialFiltration_51_38/red/diagrams.npy\n",
      "Got the result from ./1/train/filtrations/2/RadialFiltration_51_38/green/diagrams.npy\n",
      "Applying Scaler to persistence diagrams.\n",
      "Got the result from ./1/train/filtrations/2/RadialFiltration_51_38/green/diagrams.npy\n",
      "Got the result from ./1/train/filtrations/2/RadialFiltration_51_38/blue/diagrams.npy\n",
      "Applying Scaler to persistence diagrams.\n",
      "Got the result from ./1/train/filtrations/2/RadialFiltration_51_38/blue/diagrams.npy\n",
      "Fitting filtration 24/72: 2/RadialFiltration_51_51\n",
      "RGB images received. Transforming to grayscale.\n"
     ]
    },
    {
     "name": "stderr",
     "output_type": "stream",
     "text": [
      "rgb2gray: 100%|██████████| 9030/9030 [00:01<00:00, 5934.91it/s]\n"
     ]
    },
    {
     "name": "stdout",
     "output_type": "stream",
     "text": [
      "Got the result from ./1/train/filtrations/2/RadialFiltration_51_51/gray/diagrams.npy\n",
      "Applying Scaler to persistence diagrams.\n",
      "Got the result from ./1/train/filtrations/2/RadialFiltration_51_51/gray/diagrams.npy\n",
      "Got the result from ./1/train/filtrations/2/RadialFiltration_51_51/red/diagrams.npy\n",
      "Applying Scaler to persistence diagrams.\n",
      "Got the result from ./1/train/filtrations/2/RadialFiltration_51_51/red/diagrams.npy\n",
      "Got the result from ./1/train/filtrations/2/RadialFiltration_51_51/green/diagrams.npy\n",
      "Applying Scaler to persistence diagrams.\n",
      "Got the result from ./1/train/filtrations/2/RadialFiltration_51_51/green/diagrams.npy\n",
      "Got the result from ./1/train/filtrations/2/RadialFiltration_51_51/blue/diagrams.npy\n",
      "Applying Scaler to persistence diagrams.\n",
      "Got the result from ./1/train/filtrations/2/RadialFiltration_51_51/blue/diagrams.npy\n",
      "Fitting filtration 25/72: 4/HeightFiltrartion_-1_-1\n",
      "RGB images received. Transforming to grayscale.\n"
     ]
    },
    {
     "name": "stderr",
     "output_type": "stream",
     "text": [
      "rgb2gray: 100%|██████████| 9030/9030 [00:01<00:00, 5835.00it/s]\n"
     ]
    },
    {
     "name": "stdout",
     "output_type": "stream",
     "text": [
      "Got the result from ./1/train/filtrations/4/HeightFiltrartion_-1_-1/gray/diagrams.npy\n",
      "Applying Scaler to persistence diagrams.\n",
      "Got the result from ./1/train/filtrations/4/HeightFiltrartion_-1_-1/gray/diagrams.npy\n",
      "Got the result from ./1/train/filtrations/4/HeightFiltrartion_-1_-1/red/diagrams.npy\n",
      "Applying Scaler to persistence diagrams.\n",
      "Got the result from ./1/train/filtrations/4/HeightFiltrartion_-1_-1/red/diagrams.npy\n",
      "Got the result from ./1/train/filtrations/4/HeightFiltrartion_-1_-1/green/diagrams.npy\n",
      "Applying Scaler to persistence diagrams.\n",
      "Got the result from ./1/train/filtrations/4/HeightFiltrartion_-1_-1/green/diagrams.npy\n",
      "Got the result from ./1/train/filtrations/4/HeightFiltrartion_-1_-1/blue/diagrams.npy\n",
      "Applying Scaler to persistence diagrams.\n",
      "Got the result from ./1/train/filtrations/4/HeightFiltrartion_-1_-1/blue/diagrams.npy\n",
      "Fitting filtration 26/72: 4/HeightFiltrartion_1_1\n",
      "RGB images received. Transforming to grayscale.\n"
     ]
    },
    {
     "name": "stderr",
     "output_type": "stream",
     "text": [
      "rgb2gray: 100%|██████████| 9030/9030 [00:01<00:00, 5736.98it/s]\n"
     ]
    },
    {
     "name": "stdout",
     "output_type": "stream",
     "text": [
      "Got the result from ./1/train/filtrations/4/HeightFiltrartion_1_1/gray/diagrams.npy\n",
      "Applying Scaler to persistence diagrams.\n",
      "Got the result from ./1/train/filtrations/4/HeightFiltrartion_1_1/gray/diagrams.npy\n",
      "Got the result from ./1/train/filtrations/4/HeightFiltrartion_1_1/red/diagrams.npy\n",
      "Applying Scaler to persistence diagrams.\n",
      "Got the result from ./1/train/filtrations/4/HeightFiltrartion_1_1/red/diagrams.npy\n",
      "Got the result from ./1/train/filtrations/4/HeightFiltrartion_1_1/green/diagrams.npy\n",
      "Applying Scaler to persistence diagrams.\n",
      "Got the result from ./1/train/filtrations/4/HeightFiltrartion_1_1/green/diagrams.npy\n",
      "Got the result from ./1/train/filtrations/4/HeightFiltrartion_1_1/blue/diagrams.npy\n",
      "Applying Scaler to persistence diagrams.\n",
      "Got the result from ./1/train/filtrations/4/HeightFiltrartion_1_1/blue/diagrams.npy\n",
      "Fitting filtration 27/72: 4/HeightFiltrartion_1_-1\n",
      "RGB images received. Transforming to grayscale.\n"
     ]
    },
    {
     "name": "stderr",
     "output_type": "stream",
     "text": [
      "rgb2gray: 100%|██████████| 9030/9030 [00:01<00:00, 5833.77it/s]\n"
     ]
    },
    {
     "name": "stdout",
     "output_type": "stream",
     "text": [
      "Got the result from ./1/train/filtrations/4/HeightFiltrartion_1_-1/gray/diagrams.npy\n",
      "Applying Scaler to persistence diagrams.\n",
      "Got the result from ./1/train/filtrations/4/HeightFiltrartion_1_-1/gray/diagrams.npy\n",
      "Got the result from ./1/train/filtrations/4/HeightFiltrartion_1_-1/red/diagrams.npy\n",
      "Applying Scaler to persistence diagrams.\n",
      "Got the result from ./1/train/filtrations/4/HeightFiltrartion_1_-1/red/diagrams.npy\n",
      "Got the result from ./1/train/filtrations/4/HeightFiltrartion_1_-1/green/diagrams.npy\n",
      "Applying Scaler to persistence diagrams.\n",
      "Got the result from ./1/train/filtrations/4/HeightFiltrartion_1_-1/green/diagrams.npy\n",
      "Got the result from ./1/train/filtrations/4/HeightFiltrartion_1_-1/blue/diagrams.npy\n",
      "Applying Scaler to persistence diagrams.\n",
      "Got the result from ./1/train/filtrations/4/HeightFiltrartion_1_-1/blue/diagrams.npy\n",
      "Fitting filtration 28/72: 4/HeightFiltrartion_-1_1\n",
      "RGB images received. Transforming to grayscale.\n"
     ]
    },
    {
     "name": "stderr",
     "output_type": "stream",
     "text": [
      "rgb2gray: 100%|██████████| 9030/9030 [00:01<00:00, 6094.60it/s]\n"
     ]
    },
    {
     "name": "stdout",
     "output_type": "stream",
     "text": [
      "Got the result from ./1/train/filtrations/4/HeightFiltrartion_-1_1/gray/diagrams.npy\n",
      "Applying Scaler to persistence diagrams.\n",
      "Got the result from ./1/train/filtrations/4/HeightFiltrartion_-1_1/gray/diagrams.npy\n",
      "Got the result from ./1/train/filtrations/4/HeightFiltrartion_-1_1/red/diagrams.npy\n",
      "Applying Scaler to persistence diagrams.\n",
      "Got the result from ./1/train/filtrations/4/HeightFiltrartion_-1_1/red/diagrams.npy\n",
      "Got the result from ./1/train/filtrations/4/HeightFiltrartion_-1_1/green/diagrams.npy\n",
      "Applying Scaler to persistence diagrams.\n",
      "Got the result from ./1/train/filtrations/4/HeightFiltrartion_-1_1/green/diagrams.npy\n",
      "Got the result from ./1/train/filtrations/4/HeightFiltrartion_-1_1/blue/diagrams.npy\n",
      "Applying Scaler to persistence diagrams.\n",
      "Got the result from ./1/train/filtrations/4/HeightFiltrartion_-1_1/blue/diagrams.npy\n",
      "Fitting filtration 29/72: 4/HeightFiltrartion_0_-1\n",
      "RGB images received. Transforming to grayscale.\n"
     ]
    },
    {
     "name": "stderr",
     "output_type": "stream",
     "text": [
      "rgb2gray: 100%|██████████| 9030/9030 [00:01<00:00, 5878.91it/s]\n"
     ]
    },
    {
     "name": "stdout",
     "output_type": "stream",
     "text": [
      "Got the result from ./1/train/filtrations/4/HeightFiltrartion_0_-1/gray/diagrams.npy\n",
      "Applying Scaler to persistence diagrams.\n",
      "Got the result from ./1/train/filtrations/4/HeightFiltrartion_0_-1/gray/diagrams.npy\n",
      "Got the result from ./1/train/filtrations/4/HeightFiltrartion_0_-1/red/diagrams.npy\n",
      "Applying Scaler to persistence diagrams.\n",
      "Got the result from ./1/train/filtrations/4/HeightFiltrartion_0_-1/red/diagrams.npy\n",
      "Got the result from ./1/train/filtrations/4/HeightFiltrartion_0_-1/green/diagrams.npy\n",
      "Applying Scaler to persistence diagrams.\n",
      "Got the result from ./1/train/filtrations/4/HeightFiltrartion_0_-1/green/diagrams.npy\n",
      "Got the result from ./1/train/filtrations/4/HeightFiltrartion_0_-1/blue/diagrams.npy\n",
      "Applying Scaler to persistence diagrams.\n",
      "Got the result from ./1/train/filtrations/4/HeightFiltrartion_0_-1/blue/diagrams.npy\n",
      "Fitting filtration 30/72: 4/HeightFiltrartion_0_1\n",
      "RGB images received. Transforming to grayscale.\n"
     ]
    },
    {
     "name": "stderr",
     "output_type": "stream",
     "text": [
      "rgb2gray: 100%|██████████| 9030/9030 [00:01<00:00, 6041.94it/s]\n"
     ]
    },
    {
     "name": "stdout",
     "output_type": "stream",
     "text": [
      "Got the result from ./1/train/filtrations/4/HeightFiltrartion_0_1/gray/diagrams.npy\n",
      "Applying Scaler to persistence diagrams.\n",
      "Got the result from ./1/train/filtrations/4/HeightFiltrartion_0_1/gray/diagrams.npy\n",
      "Got the result from ./1/train/filtrations/4/HeightFiltrartion_0_1/red/diagrams.npy\n",
      "Applying Scaler to persistence diagrams.\n",
      "Got the result from ./1/train/filtrations/4/HeightFiltrartion_0_1/red/diagrams.npy\n",
      "Got the result from ./1/train/filtrations/4/HeightFiltrartion_0_1/green/diagrams.npy\n",
      "Applying Scaler to persistence diagrams.\n",
      "Got the result from ./1/train/filtrations/4/HeightFiltrartion_0_1/green/diagrams.npy\n",
      "Got the result from ./1/train/filtrations/4/HeightFiltrartion_0_1/blue/diagrams.npy\n",
      "Applying Scaler to persistence diagrams.\n",
      "Got the result from ./1/train/filtrations/4/HeightFiltrartion_0_1/blue/diagrams.npy\n",
      "Fitting filtration 31/72: 4/HeightFiltrartion_-1_0\n",
      "RGB images received. Transforming to grayscale.\n"
     ]
    },
    {
     "name": "stderr",
     "output_type": "stream",
     "text": [
      "rgb2gray: 100%|██████████| 9030/9030 [00:01<00:00, 5673.98it/s]\n"
     ]
    },
    {
     "name": "stdout",
     "output_type": "stream",
     "text": [
      "Got the result from ./1/train/filtrations/4/HeightFiltrartion_-1_0/gray/diagrams.npy\n",
      "Applying Scaler to persistence diagrams.\n",
      "Got the result from ./1/train/filtrations/4/HeightFiltrartion_-1_0/gray/diagrams.npy\n",
      "Got the result from ./1/train/filtrations/4/HeightFiltrartion_-1_0/red/diagrams.npy\n",
      "Applying Scaler to persistence diagrams.\n",
      "Got the result from ./1/train/filtrations/4/HeightFiltrartion_-1_0/red/diagrams.npy\n",
      "Got the result from ./1/train/filtrations/4/HeightFiltrartion_-1_0/green/diagrams.npy\n",
      "Applying Scaler to persistence diagrams.\n",
      "Got the result from ./1/train/filtrations/4/HeightFiltrartion_-1_0/green/diagrams.npy\n",
      "Got the result from ./1/train/filtrations/4/HeightFiltrartion_-1_0/blue/diagrams.npy\n",
      "Applying Scaler to persistence diagrams.\n",
      "Got the result from ./1/train/filtrations/4/HeightFiltrartion_-1_0/blue/diagrams.npy\n",
      "Fitting filtration 32/72: 4/HeightFiltrartion_1_0\n",
      "RGB images received. Transforming to grayscale.\n"
     ]
    },
    {
     "name": "stderr",
     "output_type": "stream",
     "text": [
      "rgb2gray: 100%|██████████| 9030/9030 [00:01<00:00, 5833.33it/s]\n"
     ]
    },
    {
     "name": "stdout",
     "output_type": "stream",
     "text": [
      "Got the result from ./1/train/filtrations/4/HeightFiltrartion_1_0/gray/diagrams.npy\n",
      "Applying Scaler to persistence diagrams.\n",
      "Got the result from ./1/train/filtrations/4/HeightFiltrartion_1_0/gray/diagrams.npy\n",
      "Got the result from ./1/train/filtrations/4/HeightFiltrartion_1_0/red/diagrams.npy\n",
      "Applying Scaler to persistence diagrams.\n",
      "Got the result from ./1/train/filtrations/4/HeightFiltrartion_1_0/red/diagrams.npy\n",
      "Got the result from ./1/train/filtrations/4/HeightFiltrartion_1_0/green/diagrams.npy\n",
      "Applying Scaler to persistence diagrams.\n",
      "Got the result from ./1/train/filtrations/4/HeightFiltrartion_1_0/green/diagrams.npy\n",
      "Got the result from ./1/train/filtrations/4/HeightFiltrartion_1_0/blue/diagrams.npy\n",
      "Applying Scaler to persistence diagrams.\n",
      "Got the result from ./1/train/filtrations/4/HeightFiltrartion_1_0/blue/diagrams.npy\n",
      "Fitting filtration 33/72: 4/RadialFiltration_12_12\n",
      "RGB images received. Transforming to grayscale.\n"
     ]
    },
    {
     "name": "stderr",
     "output_type": "stream",
     "text": [
      "rgb2gray: 100%|██████████| 9030/9030 [00:01<00:00, 6184.21it/s]\n"
     ]
    },
    {
     "name": "stdout",
     "output_type": "stream",
     "text": [
      "Got the result from ./1/train/filtrations/4/RadialFiltration_12_12/gray/diagrams.npy\n",
      "Applying Scaler to persistence diagrams.\n",
      "Got the result from ./1/train/filtrations/4/RadialFiltration_12_12/gray/diagrams.npy\n",
      "Got the result from ./1/train/filtrations/4/RadialFiltration_12_12/red/diagrams.npy\n",
      "Applying Scaler to persistence diagrams.\n",
      "Got the result from ./1/train/filtrations/4/RadialFiltration_12_12/red/diagrams.npy\n",
      "Got the result from ./1/train/filtrations/4/RadialFiltration_12_12/green/diagrams.npy\n",
      "Applying Scaler to persistence diagrams.\n",
      "Got the result from ./1/train/filtrations/4/RadialFiltration_12_12/green/diagrams.npy\n",
      "Got the result from ./1/train/filtrations/4/RadialFiltration_12_12/blue/diagrams.npy\n",
      "Applying Scaler to persistence diagrams.\n",
      "Got the result from ./1/train/filtrations/4/RadialFiltration_12_12/blue/diagrams.npy\n",
      "Fitting filtration 34/72: 4/RadialFiltration_12_25\n",
      "RGB images received. Transforming to grayscale.\n"
     ]
    },
    {
     "name": "stderr",
     "output_type": "stream",
     "text": [
      "rgb2gray: 100%|██████████| 9030/9030 [00:01<00:00, 5768.10it/s]\n"
     ]
    },
    {
     "name": "stdout",
     "output_type": "stream",
     "text": [
      "Got the result from ./1/train/filtrations/4/RadialFiltration_12_25/gray/diagrams.npy\n",
      "Applying Scaler to persistence diagrams.\n",
      "Got the result from ./1/train/filtrations/4/RadialFiltration_12_25/gray/diagrams.npy\n",
      "Got the result from ./1/train/filtrations/4/RadialFiltration_12_25/red/diagrams.npy\n",
      "Applying Scaler to persistence diagrams.\n",
      "Got the result from ./1/train/filtrations/4/RadialFiltration_12_25/red/diagrams.npy\n",
      "Got the result from ./1/train/filtrations/4/RadialFiltration_12_25/green/diagrams.npy\n",
      "Applying Scaler to persistence diagrams.\n",
      "Got the result from ./1/train/filtrations/4/RadialFiltration_12_25/green/diagrams.npy\n",
      "Got the result from ./1/train/filtrations/4/RadialFiltration_12_25/blue/diagrams.npy\n",
      "Applying Scaler to persistence diagrams.\n",
      "Got the result from ./1/train/filtrations/4/RadialFiltration_12_25/blue/diagrams.npy\n",
      "Fitting filtration 35/72: 4/RadialFiltration_12_38\n",
      "RGB images received. Transforming to grayscale.\n"
     ]
    },
    {
     "name": "stderr",
     "output_type": "stream",
     "text": [
      "rgb2gray: 100%|██████████| 9030/9030 [00:01<00:00, 6194.53it/s]\n"
     ]
    },
    {
     "name": "stdout",
     "output_type": "stream",
     "text": [
      "Got the result from ./1/train/filtrations/4/RadialFiltration_12_38/gray/diagrams.npy\n",
      "Applying Scaler to persistence diagrams.\n",
      "Got the result from ./1/train/filtrations/4/RadialFiltration_12_38/gray/diagrams.npy\n",
      "Got the result from ./1/train/filtrations/4/RadialFiltration_12_38/red/diagrams.npy\n",
      "Applying Scaler to persistence diagrams.\n",
      "Got the result from ./1/train/filtrations/4/RadialFiltration_12_38/red/diagrams.npy\n",
      "Got the result from ./1/train/filtrations/4/RadialFiltration_12_38/green/diagrams.npy\n",
      "Applying Scaler to persistence diagrams.\n",
      "Got the result from ./1/train/filtrations/4/RadialFiltration_12_38/green/diagrams.npy\n",
      "Got the result from ./1/train/filtrations/4/RadialFiltration_12_38/blue/diagrams.npy\n",
      "Applying Scaler to persistence diagrams.\n",
      "Got the result from ./1/train/filtrations/4/RadialFiltration_12_38/blue/diagrams.npy\n",
      "Fitting filtration 36/72: 4/RadialFiltration_12_51\n",
      "RGB images received. Transforming to grayscale.\n"
     ]
    },
    {
     "name": "stderr",
     "output_type": "stream",
     "text": [
      "rgb2gray: 100%|██████████| 9030/9030 [00:01<00:00, 6089.02it/s]\n"
     ]
    },
    {
     "name": "stdout",
     "output_type": "stream",
     "text": [
      "Got the result from ./1/train/filtrations/4/RadialFiltration_12_51/gray/diagrams.npy\n",
      "Applying Scaler to persistence diagrams.\n",
      "Got the result from ./1/train/filtrations/4/RadialFiltration_12_51/gray/diagrams.npy\n",
      "Got the result from ./1/train/filtrations/4/RadialFiltration_12_51/red/diagrams.npy\n",
      "Applying Scaler to persistence diagrams.\n",
      "Got the result from ./1/train/filtrations/4/RadialFiltration_12_51/red/diagrams.npy\n",
      "Got the result from ./1/train/filtrations/4/RadialFiltration_12_51/green/diagrams.npy\n",
      "Applying Scaler to persistence diagrams.\n",
      "Got the result from ./1/train/filtrations/4/RadialFiltration_12_51/green/diagrams.npy\n",
      "Got the result from ./1/train/filtrations/4/RadialFiltration_12_51/blue/diagrams.npy\n",
      "Applying Scaler to persistence diagrams.\n",
      "Got the result from ./1/train/filtrations/4/RadialFiltration_12_51/blue/diagrams.npy\n",
      "Fitting filtration 37/72: 4/RadialFiltration_25_12\n",
      "RGB images received. Transforming to grayscale.\n"
     ]
    },
    {
     "name": "stderr",
     "output_type": "stream",
     "text": [
      "rgb2gray: 100%|██████████| 9030/9030 [00:01<00:00, 5816.40it/s]\n"
     ]
    },
    {
     "name": "stdout",
     "output_type": "stream",
     "text": [
      "Got the result from ./1/train/filtrations/4/RadialFiltration_25_12/gray/diagrams.npy\n",
      "Applying Scaler to persistence diagrams.\n",
      "Got the result from ./1/train/filtrations/4/RadialFiltration_25_12/gray/diagrams.npy\n",
      "Got the result from ./1/train/filtrations/4/RadialFiltration_25_12/red/diagrams.npy\n",
      "Applying Scaler to persistence diagrams.\n",
      "Got the result from ./1/train/filtrations/4/RadialFiltration_25_12/red/diagrams.npy\n",
      "Got the result from ./1/train/filtrations/4/RadialFiltration_25_12/green/diagrams.npy\n",
      "Applying Scaler to persistence diagrams.\n",
      "Got the result from ./1/train/filtrations/4/RadialFiltration_25_12/green/diagrams.npy\n",
      "Got the result from ./1/train/filtrations/4/RadialFiltration_25_12/blue/diagrams.npy\n",
      "Applying Scaler to persistence diagrams.\n",
      "Got the result from ./1/train/filtrations/4/RadialFiltration_25_12/blue/diagrams.npy\n",
      "Fitting filtration 38/72: 4/RadialFiltration_25_25\n",
      "RGB images received. Transforming to grayscale.\n"
     ]
    },
    {
     "name": "stderr",
     "output_type": "stream",
     "text": [
      "rgb2gray: 100%|██████████| 9030/9030 [00:01<00:00, 5925.08it/s]\n"
     ]
    },
    {
     "name": "stdout",
     "output_type": "stream",
     "text": [
      "Got the result from ./1/train/filtrations/4/RadialFiltration_25_25/gray/diagrams.npy\n",
      "Applying Scaler to persistence diagrams.\n",
      "Got the result from ./1/train/filtrations/4/RadialFiltration_25_25/gray/diagrams.npy\n",
      "Got the result from ./1/train/filtrations/4/RadialFiltration_25_25/red/diagrams.npy\n",
      "Applying Scaler to persistence diagrams.\n",
      "Got the result from ./1/train/filtrations/4/RadialFiltration_25_25/red/diagrams.npy\n",
      "Got the result from ./1/train/filtrations/4/RadialFiltration_25_25/green/diagrams.npy\n",
      "Applying Scaler to persistence diagrams.\n",
      "Got the result from ./1/train/filtrations/4/RadialFiltration_25_25/green/diagrams.npy\n",
      "Got the result from ./1/train/filtrations/4/RadialFiltration_25_25/blue/diagrams.npy\n",
      "Applying Scaler to persistence diagrams.\n",
      "Got the result from ./1/train/filtrations/4/RadialFiltration_25_25/blue/diagrams.npy\n",
      "Fitting filtration 39/72: 4/RadialFiltration_25_38\n",
      "RGB images received. Transforming to grayscale.\n"
     ]
    },
    {
     "name": "stderr",
     "output_type": "stream",
     "text": [
      "rgb2gray: 100%|██████████| 9030/9030 [00:01<00:00, 5898.10it/s]\n"
     ]
    },
    {
     "name": "stdout",
     "output_type": "stream",
     "text": [
      "Got the result from ./1/train/filtrations/4/RadialFiltration_25_38/gray/diagrams.npy\n",
      "Applying Scaler to persistence diagrams.\n",
      "Got the result from ./1/train/filtrations/4/RadialFiltration_25_38/gray/diagrams.npy\n",
      "Got the result from ./1/train/filtrations/4/RadialFiltration_25_38/red/diagrams.npy\n",
      "Applying Scaler to persistence diagrams.\n",
      "Got the result from ./1/train/filtrations/4/RadialFiltration_25_38/red/diagrams.npy\n",
      "Got the result from ./1/train/filtrations/4/RadialFiltration_25_38/green/diagrams.npy\n",
      "Applying Scaler to persistence diagrams.\n",
      "Got the result from ./1/train/filtrations/4/RadialFiltration_25_38/green/diagrams.npy\n",
      "Got the result from ./1/train/filtrations/4/RadialFiltration_25_38/blue/diagrams.npy\n",
      "Applying Scaler to persistence diagrams.\n",
      "Got the result from ./1/train/filtrations/4/RadialFiltration_25_38/blue/diagrams.npy\n",
      "Fitting filtration 40/72: 4/RadialFiltration_25_51\n",
      "RGB images received. Transforming to grayscale.\n"
     ]
    },
    {
     "name": "stderr",
     "output_type": "stream",
     "text": [
      "rgb2gray: 100%|██████████| 9030/9030 [00:01<00:00, 5757.63it/s]\n"
     ]
    },
    {
     "name": "stdout",
     "output_type": "stream",
     "text": [
      "Got the result from ./1/train/filtrations/4/RadialFiltration_25_51/gray/diagrams.npy\n",
      "Applying Scaler to persistence diagrams.\n",
      "Got the result from ./1/train/filtrations/4/RadialFiltration_25_51/gray/diagrams.npy\n",
      "Got the result from ./1/train/filtrations/4/RadialFiltration_25_51/red/diagrams.npy\n",
      "Applying Scaler to persistence diagrams.\n",
      "Got the result from ./1/train/filtrations/4/RadialFiltration_25_51/red/diagrams.npy\n",
      "Got the result from ./1/train/filtrations/4/RadialFiltration_25_51/green/diagrams.npy\n",
      "Applying Scaler to persistence diagrams.\n",
      "Got the result from ./1/train/filtrations/4/RadialFiltration_25_51/green/diagrams.npy\n",
      "Got the result from ./1/train/filtrations/4/RadialFiltration_25_51/blue/diagrams.npy\n",
      "Applying Scaler to persistence diagrams.\n",
      "Got the result from ./1/train/filtrations/4/RadialFiltration_25_51/blue/diagrams.npy\n",
      "Fitting filtration 41/72: 4/RadialFiltration_38_12\n",
      "RGB images received. Transforming to grayscale.\n"
     ]
    },
    {
     "name": "stderr",
     "output_type": "stream",
     "text": [
      "rgb2gray: 100%|██████████| 9030/9030 [00:01<00:00, 6097.07it/s]\n"
     ]
    },
    {
     "name": "stdout",
     "output_type": "stream",
     "text": [
      "Got the result from ./1/train/filtrations/4/RadialFiltration_38_12/gray/diagrams.npy\n",
      "Applying Scaler to persistence diagrams.\n",
      "Got the result from ./1/train/filtrations/4/RadialFiltration_38_12/gray/diagrams.npy\n",
      "Got the result from ./1/train/filtrations/4/RadialFiltration_38_12/red/diagrams.npy\n",
      "Applying Scaler to persistence diagrams.\n",
      "Got the result from ./1/train/filtrations/4/RadialFiltration_38_12/red/diagrams.npy\n",
      "Got the result from ./1/train/filtrations/4/RadialFiltration_38_12/green/diagrams.npy\n",
      "Applying Scaler to persistence diagrams.\n",
      "Got the result from ./1/train/filtrations/4/RadialFiltration_38_12/green/diagrams.npy\n",
      "Got the result from ./1/train/filtrations/4/RadialFiltration_38_12/blue/diagrams.npy\n",
      "Applying Scaler to persistence diagrams.\n",
      "Got the result from ./1/train/filtrations/4/RadialFiltration_38_12/blue/diagrams.npy\n",
      "Fitting filtration 42/72: 4/RadialFiltration_38_25\n",
      "RGB images received. Transforming to grayscale.\n"
     ]
    },
    {
     "name": "stderr",
     "output_type": "stream",
     "text": [
      "rgb2gray: 100%|██████████| 9030/9030 [00:01<00:00, 5292.95it/s]\n"
     ]
    },
    {
     "name": "stdout",
     "output_type": "stream",
     "text": [
      "Got the result from ./1/train/filtrations/4/RadialFiltration_38_25/gray/diagrams.npy\n",
      "Applying Scaler to persistence diagrams.\n",
      "Got the result from ./1/train/filtrations/4/RadialFiltration_38_25/gray/diagrams.npy\n",
      "Got the result from ./1/train/filtrations/4/RadialFiltration_38_25/red/diagrams.npy\n",
      "Applying Scaler to persistence diagrams.\n",
      "Got the result from ./1/train/filtrations/4/RadialFiltration_38_25/red/diagrams.npy\n",
      "Got the result from ./1/train/filtrations/4/RadialFiltration_38_25/green/diagrams.npy\n",
      "Applying Scaler to persistence diagrams.\n",
      "Got the result from ./1/train/filtrations/4/RadialFiltration_38_25/green/diagrams.npy\n",
      "Got the result from ./1/train/filtrations/4/RadialFiltration_38_25/blue/diagrams.npy\n",
      "Applying Scaler to persistence diagrams.\n",
      "Got the result from ./1/train/filtrations/4/RadialFiltration_38_25/blue/diagrams.npy\n",
      "Fitting filtration 43/72: 4/RadialFiltration_38_38\n",
      "RGB images received. Transforming to grayscale.\n"
     ]
    },
    {
     "name": "stderr",
     "output_type": "stream",
     "text": [
      "rgb2gray: 100%|██████████| 9030/9030 [00:01<00:00, 5871.41it/s]\n"
     ]
    },
    {
     "name": "stdout",
     "output_type": "stream",
     "text": [
      "Got the result from ./1/train/filtrations/4/RadialFiltration_38_38/gray/diagrams.npy\n",
      "Applying Scaler to persistence diagrams.\n",
      "Got the result from ./1/train/filtrations/4/RadialFiltration_38_38/gray/diagrams.npy\n",
      "Got the result from ./1/train/filtrations/4/RadialFiltration_38_38/red/diagrams.npy\n",
      "Applying Scaler to persistence diagrams.\n",
      "Got the result from ./1/train/filtrations/4/RadialFiltration_38_38/red/diagrams.npy\n",
      "Got the result from ./1/train/filtrations/4/RadialFiltration_38_38/green/diagrams.npy\n",
      "Applying Scaler to persistence diagrams.\n",
      "Got the result from ./1/train/filtrations/4/RadialFiltration_38_38/green/diagrams.npy\n",
      "Got the result from ./1/train/filtrations/4/RadialFiltration_38_38/blue/diagrams.npy\n",
      "Applying Scaler to persistence diagrams.\n",
      "Got the result from ./1/train/filtrations/4/RadialFiltration_38_38/blue/diagrams.npy\n",
      "Fitting filtration 44/72: 4/RadialFiltration_38_51\n",
      "RGB images received. Transforming to grayscale.\n"
     ]
    },
    {
     "name": "stderr",
     "output_type": "stream",
     "text": [
      "rgb2gray: 100%|██████████| 9030/9030 [00:01<00:00, 5807.07it/s]\n"
     ]
    },
    {
     "name": "stdout",
     "output_type": "stream",
     "text": [
      "Got the result from ./1/train/filtrations/4/RadialFiltration_38_51/gray/diagrams.npy\n",
      "Applying Scaler to persistence diagrams.\n",
      "Got the result from ./1/train/filtrations/4/RadialFiltration_38_51/gray/diagrams.npy\n",
      "Got the result from ./1/train/filtrations/4/RadialFiltration_38_51/red/diagrams.npy\n",
      "Applying Scaler to persistence diagrams.\n",
      "Got the result from ./1/train/filtrations/4/RadialFiltration_38_51/red/diagrams.npy\n",
      "Got the result from ./1/train/filtrations/4/RadialFiltration_38_51/green/diagrams.npy\n",
      "Applying Scaler to persistence diagrams.\n",
      "Got the result from ./1/train/filtrations/4/RadialFiltration_38_51/green/diagrams.npy\n",
      "Got the result from ./1/train/filtrations/4/RadialFiltration_38_51/blue/diagrams.npy\n",
      "Applying Scaler to persistence diagrams.\n",
      "Got the result from ./1/train/filtrations/4/RadialFiltration_38_51/blue/diagrams.npy\n",
      "Fitting filtration 45/72: 4/RadialFiltration_51_12\n",
      "RGB images received. Transforming to grayscale.\n"
     ]
    },
    {
     "name": "stderr",
     "output_type": "stream",
     "text": [
      "rgb2gray: 100%|██████████| 9030/9030 [00:01<00:00, 5788.46it/s]\n"
     ]
    },
    {
     "name": "stdout",
     "output_type": "stream",
     "text": [
      "Got the result from ./1/train/filtrations/4/RadialFiltration_51_12/gray/diagrams.npy\n",
      "Applying Scaler to persistence diagrams.\n",
      "Got the result from ./1/train/filtrations/4/RadialFiltration_51_12/gray/diagrams.npy\n",
      "Got the result from ./1/train/filtrations/4/RadialFiltration_51_12/red/diagrams.npy\n",
      "Applying Scaler to persistence diagrams.\n",
      "Got the result from ./1/train/filtrations/4/RadialFiltration_51_12/red/diagrams.npy\n",
      "Got the result from ./1/train/filtrations/4/RadialFiltration_51_12/green/diagrams.npy\n",
      "Applying Scaler to persistence diagrams.\n",
      "Got the result from ./1/train/filtrations/4/RadialFiltration_51_12/green/diagrams.npy\n",
      "Got the result from ./1/train/filtrations/4/RadialFiltration_51_12/blue/diagrams.npy\n",
      "Applying Scaler to persistence diagrams.\n",
      "Got the result from ./1/train/filtrations/4/RadialFiltration_51_12/blue/diagrams.npy\n",
      "Fitting filtration 46/72: 4/RadialFiltration_51_25\n",
      "RGB images received. Transforming to grayscale.\n"
     ]
    },
    {
     "name": "stderr",
     "output_type": "stream",
     "text": [
      "rgb2gray: 100%|██████████| 9030/9030 [00:01<00:00, 5779.37it/s]\n"
     ]
    },
    {
     "name": "stdout",
     "output_type": "stream",
     "text": [
      "Got the result from ./1/train/filtrations/4/RadialFiltration_51_25/gray/diagrams.npy\n",
      "Applying Scaler to persistence diagrams.\n",
      "Got the result from ./1/train/filtrations/4/RadialFiltration_51_25/gray/diagrams.npy\n",
      "Got the result from ./1/train/filtrations/4/RadialFiltration_51_25/red/diagrams.npy\n",
      "Applying Scaler to persistence diagrams.\n",
      "Got the result from ./1/train/filtrations/4/RadialFiltration_51_25/red/diagrams.npy\n",
      "Got the result from ./1/train/filtrations/4/RadialFiltration_51_25/green/diagrams.npy\n",
      "Applying Scaler to persistence diagrams.\n",
      "Got the result from ./1/train/filtrations/4/RadialFiltration_51_25/green/diagrams.npy\n",
      "Got the result from ./1/train/filtrations/4/RadialFiltration_51_25/blue/diagrams.npy\n",
      "Applying Scaler to persistence diagrams.\n",
      "Got the result from ./1/train/filtrations/4/RadialFiltration_51_25/blue/diagrams.npy\n",
      "Fitting filtration 47/72: 4/RadialFiltration_51_38\n",
      "RGB images received. Transforming to grayscale.\n"
     ]
    },
    {
     "name": "stderr",
     "output_type": "stream",
     "text": [
      "rgb2gray: 100%|██████████| 9030/9030 [00:01<00:00, 5863.00it/s]\n"
     ]
    },
    {
     "name": "stdout",
     "output_type": "stream",
     "text": [
      "Got the result from ./1/train/filtrations/4/RadialFiltration_51_38/gray/diagrams.npy\n",
      "Applying Scaler to persistence diagrams.\n",
      "Got the result from ./1/train/filtrations/4/RadialFiltration_51_38/gray/diagrams.npy\n",
      "Got the result from ./1/train/filtrations/4/RadialFiltration_51_38/red/diagrams.npy\n",
      "Applying Scaler to persistence diagrams.\n",
      "Got the result from ./1/train/filtrations/4/RadialFiltration_51_38/red/diagrams.npy\n",
      "Got the result from ./1/train/filtrations/4/RadialFiltration_51_38/green/diagrams.npy\n",
      "Applying Scaler to persistence diagrams.\n",
      "Got the result from ./1/train/filtrations/4/RadialFiltration_51_38/green/diagrams.npy\n",
      "Got the result from ./1/train/filtrations/4/RadialFiltration_51_38/blue/diagrams.npy\n",
      "Applying Scaler to persistence diagrams.\n",
      "Got the result from ./1/train/filtrations/4/RadialFiltration_51_38/blue/diagrams.npy\n",
      "Fitting filtration 48/72: 4/RadialFiltration_51_51\n",
      "RGB images received. Transforming to grayscale.\n"
     ]
    },
    {
     "name": "stderr",
     "output_type": "stream",
     "text": [
      "rgb2gray: 100%|██████████| 9030/9030 [00:01<00:00, 5972.06it/s]\n"
     ]
    },
    {
     "name": "stdout",
     "output_type": "stream",
     "text": [
      "Got the result from ./1/train/filtrations/4/RadialFiltration_51_51/gray/diagrams.npy\n",
      "Applying Scaler to persistence diagrams.\n",
      "Got the result from ./1/train/filtrations/4/RadialFiltration_51_51/gray/diagrams.npy\n",
      "Got the result from ./1/train/filtrations/4/RadialFiltration_51_51/red/diagrams.npy\n",
      "Applying Scaler to persistence diagrams.\n",
      "Got the result from ./1/train/filtrations/4/RadialFiltration_51_51/red/diagrams.npy\n",
      "Got the result from ./1/train/filtrations/4/RadialFiltration_51_51/green/diagrams.npy\n",
      "Applying Scaler to persistence diagrams.\n",
      "Got the result from ./1/train/filtrations/4/RadialFiltration_51_51/green/diagrams.npy\n",
      "Got the result from ./1/train/filtrations/4/RadialFiltration_51_51/blue/diagrams.npy\n",
      "Applying Scaler to persistence diagrams.\n",
      "Got the result from ./1/train/filtrations/4/RadialFiltration_51_51/blue/diagrams.npy\n",
      "Fitting filtration 49/72: 6/HeightFiltrartion_-1_-1\n",
      "RGB images received. Transforming to grayscale.\n"
     ]
    },
    {
     "name": "stderr",
     "output_type": "stream",
     "text": [
      "rgb2gray: 100%|██████████| 9030/9030 [00:01<00:00, 6291.81it/s]\n"
     ]
    },
    {
     "name": "stdout",
     "output_type": "stream",
     "text": [
      "Got the result from ./1/train/filtrations/6/HeightFiltrartion_-1_-1/gray/diagrams.npy\n",
      "Applying Scaler to persistence diagrams.\n",
      "Got the result from ./1/train/filtrations/6/HeightFiltrartion_-1_-1/gray/diagrams.npy\n",
      "Got the result from ./1/train/filtrations/6/HeightFiltrartion_-1_-1/red/diagrams.npy\n",
      "Applying Scaler to persistence diagrams.\n",
      "Got the result from ./1/train/filtrations/6/HeightFiltrartion_-1_-1/red/diagrams.npy\n",
      "Got the result from ./1/train/filtrations/6/HeightFiltrartion_-1_-1/green/diagrams.npy\n",
      "Applying Scaler to persistence diagrams.\n",
      "Got the result from ./1/train/filtrations/6/HeightFiltrartion_-1_-1/green/diagrams.npy\n",
      "Got the result from ./1/train/filtrations/6/HeightFiltrartion_-1_-1/blue/diagrams.npy\n",
      "Applying Scaler to persistence diagrams.\n",
      "Got the result from ./1/train/filtrations/6/HeightFiltrartion_-1_-1/blue/diagrams.npy\n",
      "Fitting filtration 50/72: 6/HeightFiltrartion_1_1\n",
      "RGB images received. Transforming to grayscale.\n"
     ]
    },
    {
     "name": "stderr",
     "output_type": "stream",
     "text": [
      "rgb2gray: 100%|██████████| 9030/9030 [00:01<00:00, 6268.63it/s]\n"
     ]
    },
    {
     "name": "stdout",
     "output_type": "stream",
     "text": [
      "Got the result from ./1/train/filtrations/6/HeightFiltrartion_1_1/gray/diagrams.npy\n",
      "Applying Scaler to persistence diagrams.\n",
      "Got the result from ./1/train/filtrations/6/HeightFiltrartion_1_1/gray/diagrams.npy\n",
      "Got the result from ./1/train/filtrations/6/HeightFiltrartion_1_1/red/diagrams.npy\n",
      "Applying Scaler to persistence diagrams.\n",
      "Got the result from ./1/train/filtrations/6/HeightFiltrartion_1_1/red/diagrams.npy\n",
      "Got the result from ./1/train/filtrations/6/HeightFiltrartion_1_1/green/diagrams.npy\n",
      "Applying Scaler to persistence diagrams.\n",
      "Got the result from ./1/train/filtrations/6/HeightFiltrartion_1_1/green/diagrams.npy\n",
      "Got the result from ./1/train/filtrations/6/HeightFiltrartion_1_1/blue/diagrams.npy\n",
      "Applying Scaler to persistence diagrams.\n",
      "Got the result from ./1/train/filtrations/6/HeightFiltrartion_1_1/blue/diagrams.npy\n",
      "Fitting filtration 51/72: 6/HeightFiltrartion_1_-1\n",
      "RGB images received. Transforming to grayscale.\n"
     ]
    },
    {
     "name": "stderr",
     "output_type": "stream",
     "text": [
      "rgb2gray: 100%|██████████| 9030/9030 [00:01<00:00, 5346.73it/s]\n"
     ]
    },
    {
     "name": "stdout",
     "output_type": "stream",
     "text": [
      "Got the result from ./1/train/filtrations/6/HeightFiltrartion_1_-1/gray/diagrams.npy\n",
      "Applying Scaler to persistence diagrams.\n",
      "Got the result from ./1/train/filtrations/6/HeightFiltrartion_1_-1/gray/diagrams.npy\n",
      "Got the result from ./1/train/filtrations/6/HeightFiltrartion_1_-1/red/diagrams.npy\n",
      "Applying Scaler to persistence diagrams.\n",
      "Got the result from ./1/train/filtrations/6/HeightFiltrartion_1_-1/red/diagrams.npy\n",
      "Got the result from ./1/train/filtrations/6/HeightFiltrartion_1_-1/green/diagrams.npy\n",
      "Applying Scaler to persistence diagrams.\n",
      "Got the result from ./1/train/filtrations/6/HeightFiltrartion_1_-1/green/diagrams.npy\n",
      "Got the result from ./1/train/filtrations/6/HeightFiltrartion_1_-1/blue/diagrams.npy\n",
      "Applying Scaler to persistence diagrams.\n",
      "Got the result from ./1/train/filtrations/6/HeightFiltrartion_1_-1/blue/diagrams.npy\n",
      "Fitting filtration 52/72: 6/HeightFiltrartion_-1_1\n",
      "RGB images received. Transforming to grayscale.\n"
     ]
    },
    {
     "name": "stderr",
     "output_type": "stream",
     "text": [
      "rgb2gray: 100%|██████████| 9030/9030 [00:01<00:00, 5593.01it/s]\n"
     ]
    },
    {
     "name": "stdout",
     "output_type": "stream",
     "text": [
      "Got the result from ./1/train/filtrations/6/HeightFiltrartion_-1_1/gray/diagrams.npy\n",
      "Applying Scaler to persistence diagrams.\n",
      "Got the result from ./1/train/filtrations/6/HeightFiltrartion_-1_1/gray/diagrams.npy\n",
      "Got the result from ./1/train/filtrations/6/HeightFiltrartion_-1_1/red/diagrams.npy\n",
      "Applying Scaler to persistence diagrams.\n",
      "Got the result from ./1/train/filtrations/6/HeightFiltrartion_-1_1/red/diagrams.npy\n",
      "Got the result from ./1/train/filtrations/6/HeightFiltrartion_-1_1/green/diagrams.npy\n",
      "Applying Scaler to persistence diagrams.\n",
      "Got the result from ./1/train/filtrations/6/HeightFiltrartion_-1_1/green/diagrams.npy\n",
      "Got the result from ./1/train/filtrations/6/HeightFiltrartion_-1_1/blue/diagrams.npy\n",
      "Applying Scaler to persistence diagrams.\n",
      "Got the result from ./1/train/filtrations/6/HeightFiltrartion_-1_1/blue/diagrams.npy\n",
      "Fitting filtration 53/72: 6/HeightFiltrartion_0_-1\n",
      "RGB images received. Transforming to grayscale.\n"
     ]
    },
    {
     "name": "stderr",
     "output_type": "stream",
     "text": [
      "rgb2gray: 100%|██████████| 9030/9030 [00:01<00:00, 5458.08it/s]\n"
     ]
    },
    {
     "name": "stdout",
     "output_type": "stream",
     "text": [
      "Got the result from ./1/train/filtrations/6/HeightFiltrartion_0_-1/gray/diagrams.npy\n",
      "Applying Scaler to persistence diagrams.\n",
      "Got the result from ./1/train/filtrations/6/HeightFiltrartion_0_-1/gray/diagrams.npy\n",
      "Got the result from ./1/train/filtrations/6/HeightFiltrartion_0_-1/red/diagrams.npy\n",
      "Applying Scaler to persistence diagrams.\n",
      "Got the result from ./1/train/filtrations/6/HeightFiltrartion_0_-1/red/diagrams.npy\n",
      "Got the result from ./1/train/filtrations/6/HeightFiltrartion_0_-1/green/diagrams.npy\n",
      "Applying Scaler to persistence diagrams.\n",
      "Got the result from ./1/train/filtrations/6/HeightFiltrartion_0_-1/green/diagrams.npy\n",
      "Got the result from ./1/train/filtrations/6/HeightFiltrartion_0_-1/blue/diagrams.npy\n",
      "Applying Scaler to persistence diagrams.\n",
      "Got the result from ./1/train/filtrations/6/HeightFiltrartion_0_-1/blue/diagrams.npy\n",
      "Fitting filtration 54/72: 6/HeightFiltrartion_0_1\n",
      "RGB images received. Transforming to grayscale.\n"
     ]
    },
    {
     "name": "stderr",
     "output_type": "stream",
     "text": [
      "rgb2gray: 100%|██████████| 9030/9030 [00:01<00:00, 5833.33it/s]\n"
     ]
    },
    {
     "name": "stdout",
     "output_type": "stream",
     "text": [
      "Got the result from ./1/train/filtrations/6/HeightFiltrartion_0_1/gray/diagrams.npy\n",
      "Applying Scaler to persistence diagrams.\n",
      "Got the result from ./1/train/filtrations/6/HeightFiltrartion_0_1/gray/diagrams.npy\n",
      "Got the result from ./1/train/filtrations/6/HeightFiltrartion_0_1/red/diagrams.npy\n",
      "Applying Scaler to persistence diagrams.\n",
      "Got the result from ./1/train/filtrations/6/HeightFiltrartion_0_1/red/diagrams.npy\n",
      "Got the result from ./1/train/filtrations/6/HeightFiltrartion_0_1/green/diagrams.npy\n",
      "Applying Scaler to persistence diagrams.\n",
      "Got the result from ./1/train/filtrations/6/HeightFiltrartion_0_1/green/diagrams.npy\n",
      "Got the result from ./1/train/filtrations/6/HeightFiltrartion_0_1/blue/diagrams.npy\n",
      "Applying Scaler to persistence diagrams.\n",
      "Got the result from ./1/train/filtrations/6/HeightFiltrartion_0_1/blue/diagrams.npy\n",
      "Fitting filtration 55/72: 6/HeightFiltrartion_-1_0\n",
      "RGB images received. Transforming to grayscale.\n"
     ]
    },
    {
     "name": "stderr",
     "output_type": "stream",
     "text": [
      "rgb2gray: 100%|██████████| 9030/9030 [00:01<00:00, 5822.05it/s]\n"
     ]
    },
    {
     "name": "stdout",
     "output_type": "stream",
     "text": [
      "Got the result from ./1/train/filtrations/6/HeightFiltrartion_-1_0/gray/diagrams.npy\n",
      "Applying Scaler to persistence diagrams.\n",
      "Got the result from ./1/train/filtrations/6/HeightFiltrartion_-1_0/gray/diagrams.npy\n",
      "Got the result from ./1/train/filtrations/6/HeightFiltrartion_-1_0/red/diagrams.npy\n",
      "Applying Scaler to persistence diagrams.\n",
      "Got the result from ./1/train/filtrations/6/HeightFiltrartion_-1_0/red/diagrams.npy\n",
      "Got the result from ./1/train/filtrations/6/HeightFiltrartion_-1_0/green/diagrams.npy\n",
      "Applying Scaler to persistence diagrams.\n",
      "Got the result from ./1/train/filtrations/6/HeightFiltrartion_-1_0/green/diagrams.npy\n",
      "Got the result from ./1/train/filtrations/6/HeightFiltrartion_-1_0/blue/diagrams.npy\n",
      "Applying Scaler to persistence diagrams.\n",
      "Got the result from ./1/train/filtrations/6/HeightFiltrartion_-1_0/blue/diagrams.npy\n",
      "Fitting filtration 56/72: 6/HeightFiltrartion_1_0\n",
      "RGB images received. Transforming to grayscale.\n"
     ]
    },
    {
     "name": "stderr",
     "output_type": "stream",
     "text": [
      "rgb2gray: 100%|██████████| 9030/9030 [00:01<00:00, 5896.16it/s]\n"
     ]
    },
    {
     "name": "stdout",
     "output_type": "stream",
     "text": [
      "Got the result from ./1/train/filtrations/6/HeightFiltrartion_1_0/gray/diagrams.npy\n",
      "Applying Scaler to persistence diagrams.\n",
      "Got the result from ./1/train/filtrations/6/HeightFiltrartion_1_0/gray/diagrams.npy\n",
      "Got the result from ./1/train/filtrations/6/HeightFiltrartion_1_0/red/diagrams.npy\n",
      "Applying Scaler to persistence diagrams.\n",
      "Got the result from ./1/train/filtrations/6/HeightFiltrartion_1_0/red/diagrams.npy\n",
      "Got the result from ./1/train/filtrations/6/HeightFiltrartion_1_0/green/diagrams.npy\n",
      "Applying Scaler to persistence diagrams.\n",
      "Got the result from ./1/train/filtrations/6/HeightFiltrartion_1_0/green/diagrams.npy\n",
      "Got the result from ./1/train/filtrations/6/HeightFiltrartion_1_0/blue/diagrams.npy\n",
      "Applying Scaler to persistence diagrams.\n",
      "Got the result from ./1/train/filtrations/6/HeightFiltrartion_1_0/blue/diagrams.npy\n",
      "Fitting filtration 57/72: 6/RadialFiltration_12_12\n",
      "RGB images received. Transforming to grayscale.\n"
     ]
    },
    {
     "name": "stderr",
     "output_type": "stream",
     "text": [
      "rgb2gray: 100%|██████████| 9030/9030 [00:01<00:00, 6072.63it/s]\n"
     ]
    },
    {
     "name": "stdout",
     "output_type": "stream",
     "text": [
      "Got the result from ./1/train/filtrations/6/RadialFiltration_12_12/gray/diagrams.npy\n",
      "Applying Scaler to persistence diagrams.\n",
      "Got the result from ./1/train/filtrations/6/RadialFiltration_12_12/gray/diagrams.npy\n",
      "Got the result from ./1/train/filtrations/6/RadialFiltration_12_12/red/diagrams.npy\n",
      "Applying Scaler to persistence diagrams.\n",
      "Got the result from ./1/train/filtrations/6/RadialFiltration_12_12/red/diagrams.npy\n",
      "Got the result from ./1/train/filtrations/6/RadialFiltration_12_12/green/diagrams.npy\n",
      "Applying Scaler to persistence diagrams.\n",
      "Got the result from ./1/train/filtrations/6/RadialFiltration_12_12/green/diagrams.npy\n",
      "Got the result from ./1/train/filtrations/6/RadialFiltration_12_12/blue/diagrams.npy\n",
      "Applying Scaler to persistence diagrams.\n",
      "Got the result from ./1/train/filtrations/6/RadialFiltration_12_12/blue/diagrams.npy\n",
      "Fitting filtration 58/72: 6/RadialFiltration_12_25\n",
      "RGB images received. Transforming to grayscale.\n"
     ]
    },
    {
     "name": "stderr",
     "output_type": "stream",
     "text": [
      "rgb2gray: 100%|██████████| 9030/9030 [00:01<00:00, 6134.52it/s]\n"
     ]
    },
    {
     "name": "stdout",
     "output_type": "stream",
     "text": [
      "Got the result from ./1/train/filtrations/6/RadialFiltration_12_25/gray/diagrams.npy\n",
      "Applying Scaler to persistence diagrams.\n",
      "Got the result from ./1/train/filtrations/6/RadialFiltration_12_25/gray/diagrams.npy\n",
      "Got the result from ./1/train/filtrations/6/RadialFiltration_12_25/red/diagrams.npy\n",
      "Applying Scaler to persistence diagrams.\n",
      "Got the result from ./1/train/filtrations/6/RadialFiltration_12_25/red/diagrams.npy\n",
      "Got the result from ./1/train/filtrations/6/RadialFiltration_12_25/green/diagrams.npy\n",
      "Applying Scaler to persistence diagrams.\n",
      "Got the result from ./1/train/filtrations/6/RadialFiltration_12_25/green/diagrams.npy\n",
      "Got the result from ./1/train/filtrations/6/RadialFiltration_12_25/blue/diagrams.npy\n",
      "Applying Scaler to persistence diagrams.\n",
      "Got the result from ./1/train/filtrations/6/RadialFiltration_12_25/blue/diagrams.npy\n",
      "Fitting filtration 59/72: 6/RadialFiltration_12_38\n",
      "RGB images received. Transforming to grayscale.\n"
     ]
    },
    {
     "name": "stderr",
     "output_type": "stream",
     "text": [
      "rgb2gray: 100%|██████████| 9030/9030 [00:01<00:00, 5996.56it/s]\n"
     ]
    },
    {
     "name": "stdout",
     "output_type": "stream",
     "text": [
      "Got the result from ./1/train/filtrations/6/RadialFiltration_12_38/gray/diagrams.npy\n",
      "Applying Scaler to persistence diagrams.\n",
      "Got the result from ./1/train/filtrations/6/RadialFiltration_12_38/gray/diagrams.npy\n",
      "Got the result from ./1/train/filtrations/6/RadialFiltration_12_38/red/diagrams.npy\n",
      "Applying Scaler to persistence diagrams.\n",
      "Got the result from ./1/train/filtrations/6/RadialFiltration_12_38/red/diagrams.npy\n",
      "Got the result from ./1/train/filtrations/6/RadialFiltration_12_38/green/diagrams.npy\n",
      "Applying Scaler to persistence diagrams.\n",
      "Got the result from ./1/train/filtrations/6/RadialFiltration_12_38/green/diagrams.npy\n",
      "Got the result from ./1/train/filtrations/6/RadialFiltration_12_38/blue/diagrams.npy\n",
      "Applying Scaler to persistence diagrams.\n",
      "Got the result from ./1/train/filtrations/6/RadialFiltration_12_38/blue/diagrams.npy\n",
      "Fitting filtration 60/72: 6/RadialFiltration_12_51\n",
      "RGB images received. Transforming to grayscale.\n"
     ]
    },
    {
     "name": "stderr",
     "output_type": "stream",
     "text": [
      "rgb2gray: 100%|██████████| 9030/9030 [00:01<00:00, 5533.09it/s]\n"
     ]
    },
    {
     "name": "stdout",
     "output_type": "stream",
     "text": [
      "Got the result from ./1/train/filtrations/6/RadialFiltration_12_51/gray/diagrams.npy\n",
      "Applying Scaler to persistence diagrams.\n",
      "Got the result from ./1/train/filtrations/6/RadialFiltration_12_51/gray/diagrams.npy\n",
      "Got the result from ./1/train/filtrations/6/RadialFiltration_12_51/red/diagrams.npy\n",
      "Applying Scaler to persistence diagrams.\n",
      "Got the result from ./1/train/filtrations/6/RadialFiltration_12_51/red/diagrams.npy\n",
      "Got the result from ./1/train/filtrations/6/RadialFiltration_12_51/green/diagrams.npy\n",
      "Applying Scaler to persistence diagrams.\n",
      "Got the result from ./1/train/filtrations/6/RadialFiltration_12_51/green/diagrams.npy\n",
      "Got the result from ./1/train/filtrations/6/RadialFiltration_12_51/blue/diagrams.npy\n",
      "Applying Scaler to persistence diagrams.\n",
      "Got the result from ./1/train/filtrations/6/RadialFiltration_12_51/blue/diagrams.npy\n",
      "Fitting filtration 61/72: 6/RadialFiltration_25_12\n",
      "RGB images received. Transforming to grayscale.\n"
     ]
    },
    {
     "name": "stderr",
     "output_type": "stream",
     "text": [
      "rgb2gray: 100%|██████████| 9030/9030 [00:01<00:00, 6269.72it/s]\n"
     ]
    },
    {
     "name": "stdout",
     "output_type": "stream",
     "text": [
      "Got the result from ./1/train/filtrations/6/RadialFiltration_25_12/gray/diagrams.npy\n",
      "Applying Scaler to persistence diagrams.\n",
      "Got the result from ./1/train/filtrations/6/RadialFiltration_25_12/gray/diagrams.npy\n",
      "Got the result from ./1/train/filtrations/6/RadialFiltration_25_12/red/diagrams.npy\n",
      "Applying Scaler to persistence diagrams.\n",
      "Got the result from ./1/train/filtrations/6/RadialFiltration_25_12/red/diagrams.npy\n",
      "Got the result from ./1/train/filtrations/6/RadialFiltration_25_12/green/diagrams.npy\n",
      "Applying Scaler to persistence diagrams.\n",
      "Got the result from ./1/train/filtrations/6/RadialFiltration_25_12/green/diagrams.npy\n",
      "Got the result from ./1/train/filtrations/6/RadialFiltration_25_12/blue/diagrams.npy\n",
      "Applying Scaler to persistence diagrams.\n",
      "Got the result from ./1/train/filtrations/6/RadialFiltration_25_12/blue/diagrams.npy\n",
      "Fitting filtration 62/72: 6/RadialFiltration_25_25\n",
      "RGB images received. Transforming to grayscale.\n"
     ]
    },
    {
     "name": "stderr",
     "output_type": "stream",
     "text": [
      "rgb2gray: 100%|██████████| 9030/9030 [00:01<00:00, 6321.38it/s]\n"
     ]
    },
    {
     "name": "stdout",
     "output_type": "stream",
     "text": [
      "Got the result from ./1/train/filtrations/6/RadialFiltration_25_25/gray/diagrams.npy\n",
      "Applying Scaler to persistence diagrams.\n",
      "Got the result from ./1/train/filtrations/6/RadialFiltration_25_25/gray/diagrams.npy\n",
      "Got the result from ./1/train/filtrations/6/RadialFiltration_25_25/red/diagrams.npy\n",
      "Applying Scaler to persistence diagrams.\n",
      "Got the result from ./1/train/filtrations/6/RadialFiltration_25_25/red/diagrams.npy\n",
      "Got the result from ./1/train/filtrations/6/RadialFiltration_25_25/green/diagrams.npy\n",
      "Applying Scaler to persistence diagrams.\n",
      "Got the result from ./1/train/filtrations/6/RadialFiltration_25_25/green/diagrams.npy\n",
      "Got the result from ./1/train/filtrations/6/RadialFiltration_25_25/blue/diagrams.npy\n",
      "Applying Scaler to persistence diagrams.\n",
      "Got the result from ./1/train/filtrations/6/RadialFiltration_25_25/blue/diagrams.npy\n",
      "Fitting filtration 63/72: 6/RadialFiltration_25_38\n",
      "RGB images received. Transforming to grayscale.\n"
     ]
    },
    {
     "name": "stderr",
     "output_type": "stream",
     "text": [
      "rgb2gray: 100%|██████████| 9030/9030 [00:01<00:00, 6049.88it/s]\n"
     ]
    },
    {
     "name": "stdout",
     "output_type": "stream",
     "text": [
      "Got the result from ./1/train/filtrations/6/RadialFiltration_25_38/gray/diagrams.npy\n",
      "Applying Scaler to persistence diagrams.\n",
      "Got the result from ./1/train/filtrations/6/RadialFiltration_25_38/gray/diagrams.npy\n",
      "Got the result from ./1/train/filtrations/6/RadialFiltration_25_38/red/diagrams.npy\n",
      "Applying Scaler to persistence diagrams.\n",
      "Got the result from ./1/train/filtrations/6/RadialFiltration_25_38/red/diagrams.npy\n",
      "Got the result from ./1/train/filtrations/6/RadialFiltration_25_38/green/diagrams.npy\n",
      "Applying Scaler to persistence diagrams.\n",
      "Got the result from ./1/train/filtrations/6/RadialFiltration_25_38/green/diagrams.npy\n",
      "Got the result from ./1/train/filtrations/6/RadialFiltration_25_38/blue/diagrams.npy\n",
      "Applying Scaler to persistence diagrams.\n",
      "Got the result from ./1/train/filtrations/6/RadialFiltration_25_38/blue/diagrams.npy\n",
      "Fitting filtration 64/72: 6/RadialFiltration_25_51\n",
      "RGB images received. Transforming to grayscale.\n"
     ]
    },
    {
     "name": "stderr",
     "output_type": "stream",
     "text": [
      "rgb2gray: 100%|██████████| 9030/9030 [00:01<00:00, 6088.48it/s]\n"
     ]
    },
    {
     "name": "stdout",
     "output_type": "stream",
     "text": [
      "Got the result from ./1/train/filtrations/6/RadialFiltration_25_51/gray/diagrams.npy\n",
      "Applying Scaler to persistence diagrams.\n",
      "Got the result from ./1/train/filtrations/6/RadialFiltration_25_51/gray/diagrams.npy\n",
      "Got the result from ./1/train/filtrations/6/RadialFiltration_25_51/red/diagrams.npy\n",
      "Applying Scaler to persistence diagrams.\n",
      "Got the result from ./1/train/filtrations/6/RadialFiltration_25_51/red/diagrams.npy\n",
      "Got the result from ./1/train/filtrations/6/RadialFiltration_25_51/green/diagrams.npy\n",
      "Applying Scaler to persistence diagrams.\n",
      "Got the result from ./1/train/filtrations/6/RadialFiltration_25_51/green/diagrams.npy\n",
      "Got the result from ./1/train/filtrations/6/RadialFiltration_25_51/blue/diagrams.npy\n",
      "Applying Scaler to persistence diagrams.\n",
      "Got the result from ./1/train/filtrations/6/RadialFiltration_25_51/blue/diagrams.npy\n",
      "Fitting filtration 65/72: 6/RadialFiltration_38_12\n",
      "RGB images received. Transforming to grayscale.\n"
     ]
    },
    {
     "name": "stderr",
     "output_type": "stream",
     "text": [
      "rgb2gray: 100%|██████████| 9030/9030 [00:01<00:00, 6446.21it/s]\n"
     ]
    },
    {
     "name": "stdout",
     "output_type": "stream",
     "text": [
      "Got the result from ./1/train/filtrations/6/RadialFiltration_38_12/gray/diagrams.npy\n",
      "Applying Scaler to persistence diagrams.\n",
      "Got the result from ./1/train/filtrations/6/RadialFiltration_38_12/gray/diagrams.npy\n",
      "Got the result from ./1/train/filtrations/6/RadialFiltration_38_12/red/diagrams.npy\n",
      "Applying Scaler to persistence diagrams.\n",
      "Got the result from ./1/train/filtrations/6/RadialFiltration_38_12/red/diagrams.npy\n",
      "Got the result from ./1/train/filtrations/6/RadialFiltration_38_12/green/diagrams.npy\n",
      "Applying Scaler to persistence diagrams.\n",
      "Got the result from ./1/train/filtrations/6/RadialFiltration_38_12/green/diagrams.npy\n",
      "Got the result from ./1/train/filtrations/6/RadialFiltration_38_12/blue/diagrams.npy\n",
      "Applying Scaler to persistence diagrams.\n",
      "Got the result from ./1/train/filtrations/6/RadialFiltration_38_12/blue/diagrams.npy\n",
      "Fitting filtration 66/72: 6/RadialFiltration_38_25\n",
      "RGB images received. Transforming to grayscale.\n"
     ]
    },
    {
     "name": "stderr",
     "output_type": "stream",
     "text": [
      "rgb2gray: 100%|██████████| 9030/9030 [00:01<00:00, 6393.86it/s]\n"
     ]
    },
    {
     "name": "stdout",
     "output_type": "stream",
     "text": [
      "Got the result from ./1/train/filtrations/6/RadialFiltration_38_25/gray/diagrams.npy\n",
      "Applying Scaler to persistence diagrams.\n",
      "Got the result from ./1/train/filtrations/6/RadialFiltration_38_25/gray/diagrams.npy\n",
      "Got the result from ./1/train/filtrations/6/RadialFiltration_38_25/red/diagrams.npy\n",
      "Applying Scaler to persistence diagrams.\n",
      "Got the result from ./1/train/filtrations/6/RadialFiltration_38_25/red/diagrams.npy\n",
      "Got the result from ./1/train/filtrations/6/RadialFiltration_38_25/green/diagrams.npy\n",
      "Applying Scaler to persistence diagrams.\n",
      "Got the result from ./1/train/filtrations/6/RadialFiltration_38_25/green/diagrams.npy\n",
      "Got the result from ./1/train/filtrations/6/RadialFiltration_38_25/blue/diagrams.npy\n",
      "Applying Scaler to persistence diagrams.\n",
      "Got the result from ./1/train/filtrations/6/RadialFiltration_38_25/blue/diagrams.npy\n",
      "Fitting filtration 67/72: 6/RadialFiltration_38_38\n",
      "RGB images received. Transforming to grayscale.\n"
     ]
    },
    {
     "name": "stderr",
     "output_type": "stream",
     "text": [
      "rgb2gray: 100%|██████████| 9030/9030 [00:01<00:00, 5863.39it/s]\n"
     ]
    },
    {
     "name": "stdout",
     "output_type": "stream",
     "text": [
      "Got the result from ./1/train/filtrations/6/RadialFiltration_38_38/gray/diagrams.npy\n",
      "Applying Scaler to persistence diagrams.\n",
      "Got the result from ./1/train/filtrations/6/RadialFiltration_38_38/gray/diagrams.npy\n",
      "Got the result from ./1/train/filtrations/6/RadialFiltration_38_38/red/diagrams.npy\n",
      "Applying Scaler to persistence diagrams.\n",
      "Got the result from ./1/train/filtrations/6/RadialFiltration_38_38/red/diagrams.npy\n",
      "Got the result from ./1/train/filtrations/6/RadialFiltration_38_38/green/diagrams.npy\n",
      "Applying Scaler to persistence diagrams.\n",
      "Got the result from ./1/train/filtrations/6/RadialFiltration_38_38/green/diagrams.npy\n",
      "Got the result from ./1/train/filtrations/6/RadialFiltration_38_38/blue/diagrams.npy\n",
      "Applying Scaler to persistence diagrams.\n",
      "Got the result from ./1/train/filtrations/6/RadialFiltration_38_38/blue/diagrams.npy\n",
      "Fitting filtration 68/72: 6/RadialFiltration_38_51\n",
      "RGB images received. Transforming to grayscale.\n"
     ]
    },
    {
     "name": "stderr",
     "output_type": "stream",
     "text": [
      "rgb2gray: 100%|██████████| 9030/9030 [00:01<00:00, 5576.93it/s]\n"
     ]
    },
    {
     "name": "stdout",
     "output_type": "stream",
     "text": [
      "Got the result from ./1/train/filtrations/6/RadialFiltration_38_51/gray/diagrams.npy\n",
      "Applying Scaler to persistence diagrams.\n",
      "Got the result from ./1/train/filtrations/6/RadialFiltration_38_51/gray/diagrams.npy\n",
      "Got the result from ./1/train/filtrations/6/RadialFiltration_38_51/red/diagrams.npy\n",
      "Applying Scaler to persistence diagrams.\n",
      "Got the result from ./1/train/filtrations/6/RadialFiltration_38_51/red/diagrams.npy\n",
      "Got the result from ./1/train/filtrations/6/RadialFiltration_38_51/green/diagrams.npy\n",
      "Applying Scaler to persistence diagrams.\n",
      "Got the result from ./1/train/filtrations/6/RadialFiltration_38_51/green/diagrams.npy\n",
      "Got the result from ./1/train/filtrations/6/RadialFiltration_38_51/blue/diagrams.npy\n",
      "Applying Scaler to persistence diagrams.\n",
      "Got the result from ./1/train/filtrations/6/RadialFiltration_38_51/blue/diagrams.npy\n",
      "Fitting filtration 69/72: 6/RadialFiltration_51_12\n",
      "RGB images received. Transforming to grayscale.\n"
     ]
    },
    {
     "name": "stderr",
     "output_type": "stream",
     "text": [
      "rgb2gray: 100%|██████████| 9030/9030 [00:01<00:00, 5780.25it/s]\n"
     ]
    },
    {
     "name": "stdout",
     "output_type": "stream",
     "text": [
      "Got the result from ./1/train/filtrations/6/RadialFiltration_51_12/gray/diagrams.npy\n",
      "Applying Scaler to persistence diagrams.\n",
      "Got the result from ./1/train/filtrations/6/RadialFiltration_51_12/gray/diagrams.npy\n",
      "Got the result from ./1/train/filtrations/6/RadialFiltration_51_12/red/diagrams.npy\n",
      "Applying Scaler to persistence diagrams.\n",
      "Got the result from ./1/train/filtrations/6/RadialFiltration_51_12/red/diagrams.npy\n",
      "Got the result from ./1/train/filtrations/6/RadialFiltration_51_12/green/diagrams.npy\n",
      "Applying Scaler to persistence diagrams.\n",
      "Got the result from ./1/train/filtrations/6/RadialFiltration_51_12/green/diagrams.npy\n",
      "Got the result from ./1/train/filtrations/6/RadialFiltration_51_12/blue/diagrams.npy\n",
      "Applying Scaler to persistence diagrams.\n",
      "Got the result from ./1/train/filtrations/6/RadialFiltration_51_12/blue/diagrams.npy\n",
      "Fitting filtration 70/72: 6/RadialFiltration_51_25\n",
      "RGB images received. Transforming to grayscale.\n"
     ]
    },
    {
     "name": "stderr",
     "output_type": "stream",
     "text": [
      "rgb2gray: 100%|██████████| 9030/9030 [00:01<00:00, 5562.02it/s]\n"
     ]
    },
    {
     "name": "stdout",
     "output_type": "stream",
     "text": [
      "Got the result from ./1/train/filtrations/6/RadialFiltration_51_25/gray/diagrams.npy\n",
      "Applying Scaler to persistence diagrams.\n",
      "Got the result from ./1/train/filtrations/6/RadialFiltration_51_25/gray/diagrams.npy\n",
      "Got the result from ./1/train/filtrations/6/RadialFiltration_51_25/red/diagrams.npy\n",
      "Applying Scaler to persistence diagrams.\n",
      "Got the result from ./1/train/filtrations/6/RadialFiltration_51_25/red/diagrams.npy\n",
      "Got the result from ./1/train/filtrations/6/RadialFiltration_51_25/green/diagrams.npy\n",
      "Applying Scaler to persistence diagrams.\n",
      "Got the result from ./1/train/filtrations/6/RadialFiltration_51_25/green/diagrams.npy\n",
      "Got the result from ./1/train/filtrations/6/RadialFiltration_51_25/blue/diagrams.npy\n",
      "Applying Scaler to persistence diagrams.\n",
      "Got the result from ./1/train/filtrations/6/RadialFiltration_51_25/blue/diagrams.npy\n",
      "Fitting filtration 71/72: 6/RadialFiltration_51_38\n",
      "RGB images received. Transforming to grayscale.\n"
     ]
    },
    {
     "name": "stderr",
     "output_type": "stream",
     "text": [
      "rgb2gray: 100%|██████████| 9030/9030 [00:01<00:00, 6085.87it/s]\n"
     ]
    },
    {
     "name": "stdout",
     "output_type": "stream",
     "text": [
      "Got the result from ./1/train/filtrations/6/RadialFiltration_51_38/gray/diagrams.npy\n",
      "Applying Scaler to persistence diagrams.\n",
      "Got the result from ./1/train/filtrations/6/RadialFiltration_51_38/gray/diagrams.npy\n",
      "Got the result from ./1/train/filtrations/6/RadialFiltration_51_38/red/diagrams.npy\n",
      "Applying Scaler to persistence diagrams.\n",
      "Got the result from ./1/train/filtrations/6/RadialFiltration_51_38/red/diagrams.npy\n",
      "Got the result from ./1/train/filtrations/6/RadialFiltration_51_38/green/diagrams.npy\n",
      "Applying Scaler to persistence diagrams.\n",
      "Got the result from ./1/train/filtrations/6/RadialFiltration_51_38/green/diagrams.npy\n",
      "Got the result from ./1/train/filtrations/6/RadialFiltration_51_38/blue/diagrams.npy\n",
      "Applying Scaler to persistence diagrams.\n",
      "Got the result from ./1/train/filtrations/6/RadialFiltration_51_38/blue/diagrams.npy\n",
      "Fitting filtration 72/72: 6/RadialFiltration_51_51\n",
      "RGB images received. Transforming to grayscale.\n"
     ]
    },
    {
     "name": "stderr",
     "output_type": "stream",
     "text": [
      "rgb2gray: 100%|██████████| 9030/9030 [00:01<00:00, 6301.47it/s]\n"
     ]
    },
    {
     "name": "stdout",
     "output_type": "stream",
     "text": [
      "Got the result from ./1/train/filtrations/6/RadialFiltration_51_51/gray/diagrams.npy\n",
      "Applying Scaler to persistence diagrams.\n",
      "Got the result from ./1/train/filtrations/6/RadialFiltration_51_51/gray/diagrams.npy\n",
      "Got the result from ./1/train/filtrations/6/RadialFiltration_51_51/red/diagrams.npy\n",
      "Applying Scaler to persistence diagrams.\n",
      "Got the result from ./1/train/filtrations/6/RadialFiltration_51_51/red/diagrams.npy\n",
      "Got the result from ./1/train/filtrations/6/RadialFiltration_51_51/green/diagrams.npy\n",
      "Applying Scaler to persistence diagrams.\n",
      "Got the result from ./1/train/filtrations/6/RadialFiltration_51_51/green/diagrams.npy\n",
      "Got the result from ./1/train/filtrations/6/RadialFiltration_51_51/blue/diagrams.npy\n",
      "Applying Scaler to persistence diagrams.\n",
      "Got the result from ./1/train/filtrations/6/RadialFiltration_51_51/blue/diagrams.npy\n",
      "Applying filtrations\n",
      "Applying filtration 1/72: 2/HeightFiltrartion_-1_-1\n",
      "RGB images received. Transforming to grayscale.\n"
     ]
    },
    {
     "name": "stderr",
     "output_type": "stream",
     "text": [
      "rgb2gray: 100%|██████████| 9030/9030 [00:01<00:00, 6353.40it/s]\n"
     ]
    },
    {
     "name": "stdout",
     "output_type": "stream",
     "text": [
      "Got the result from ./1/train/filtrations/2/HeightFiltrartion_-1_-1/gray/diagrams.npy\n",
      "Got the result from ./1/train/filtrations/2/HeightFiltrartion_-1_-1/red/diagrams.npy\n",
      "Got the result from ./1/train/filtrations/2/HeightFiltrartion_-1_-1/green/diagrams.npy\n",
      "Got the result from ./1/train/filtrations/2/HeightFiltrartion_-1_-1/blue/diagrams.npy\n",
      "Applying filtration 2/72: 2/HeightFiltrartion_1_1\n",
      "RGB images received. Transforming to grayscale.\n"
     ]
    },
    {
     "name": "stderr",
     "output_type": "stream",
     "text": [
      "rgb2gray: 100%|██████████| 9030/9030 [00:01<00:00, 5960.41it/s]\n"
     ]
    },
    {
     "name": "stdout",
     "output_type": "stream",
     "text": [
      "Got the result from ./1/train/filtrations/2/HeightFiltrartion_1_1/gray/diagrams.npy\n",
      "Got the result from ./1/train/filtrations/2/HeightFiltrartion_1_1/red/diagrams.npy\n",
      "Got the result from ./1/train/filtrations/2/HeightFiltrartion_1_1/green/diagrams.npy\n",
      "Got the result from ./1/train/filtrations/2/HeightFiltrartion_1_1/blue/diagrams.npy\n",
      "Applying filtration 3/72: 2/HeightFiltrartion_1_-1\n",
      "RGB images received. Transforming to grayscale.\n"
     ]
    },
    {
     "name": "stderr",
     "output_type": "stream",
     "text": [
      "rgb2gray: 100%|██████████| 9030/9030 [00:01<00:00, 5636.39it/s]\n"
     ]
    },
    {
     "name": "stdout",
     "output_type": "stream",
     "text": [
      "Got the result from ./1/train/filtrations/2/HeightFiltrartion_1_-1/gray/diagrams.npy\n",
      "Got the result from ./1/train/filtrations/2/HeightFiltrartion_1_-1/red/diagrams.npy\n",
      "Got the result from ./1/train/filtrations/2/HeightFiltrartion_1_-1/green/diagrams.npy\n",
      "Got the result from ./1/train/filtrations/2/HeightFiltrartion_1_-1/blue/diagrams.npy\n",
      "Applying filtration 4/72: 2/HeightFiltrartion_-1_1\n",
      "RGB images received. Transforming to grayscale.\n"
     ]
    },
    {
     "name": "stderr",
     "output_type": "stream",
     "text": [
      "rgb2gray: 100%|██████████| 9030/9030 [00:01<00:00, 5978.12it/s]\n"
     ]
    },
    {
     "name": "stdout",
     "output_type": "stream",
     "text": [
      "Got the result from ./1/train/filtrations/2/HeightFiltrartion_-1_1/gray/diagrams.npy\n",
      "Got the result from ./1/train/filtrations/2/HeightFiltrartion_-1_1/red/diagrams.npy\n",
      "Got the result from ./1/train/filtrations/2/HeightFiltrartion_-1_1/green/diagrams.npy\n",
      "Got the result from ./1/train/filtrations/2/HeightFiltrartion_-1_1/blue/diagrams.npy\n",
      "Applying filtration 5/72: 2/HeightFiltrartion_0_-1\n",
      "RGB images received. Transforming to grayscale.\n"
     ]
    },
    {
     "name": "stderr",
     "output_type": "stream",
     "text": [
      "rgb2gray: 100%|██████████| 9030/9030 [00:01<00:00, 6142.86it/s]\n"
     ]
    },
    {
     "name": "stdout",
     "output_type": "stream",
     "text": [
      "Got the result from ./1/train/filtrations/2/HeightFiltrartion_0_-1/gray/diagrams.npy\n",
      "Got the result from ./1/train/filtrations/2/HeightFiltrartion_0_-1/red/diagrams.npy\n",
      "Got the result from ./1/train/filtrations/2/HeightFiltrartion_0_-1/green/diagrams.npy\n",
      "Got the result from ./1/train/filtrations/2/HeightFiltrartion_0_-1/blue/diagrams.npy\n",
      "Applying filtration 6/72: 2/HeightFiltrartion_0_1\n",
      "RGB images received. Transforming to grayscale.\n"
     ]
    },
    {
     "name": "stderr",
     "output_type": "stream",
     "text": [
      "rgb2gray: 100%|██████████| 9030/9030 [00:01<00:00, 5986.61it/s]\n"
     ]
    },
    {
     "name": "stdout",
     "output_type": "stream",
     "text": [
      "Got the result from ./1/train/filtrations/2/HeightFiltrartion_0_1/gray/diagrams.npy\n",
      "Got the result from ./1/train/filtrations/2/HeightFiltrartion_0_1/red/diagrams.npy\n",
      "Got the result from ./1/train/filtrations/2/HeightFiltrartion_0_1/green/diagrams.npy\n",
      "Got the result from ./1/train/filtrations/2/HeightFiltrartion_0_1/blue/diagrams.npy\n",
      "Applying filtration 7/72: 2/HeightFiltrartion_-1_0\n",
      "RGB images received. Transforming to grayscale.\n"
     ]
    },
    {
     "name": "stderr",
     "output_type": "stream",
     "text": [
      "rgb2gray: 100%|██████████| 9030/9030 [00:01<00:00, 5293.09it/s]\n"
     ]
    },
    {
     "name": "stdout",
     "output_type": "stream",
     "text": [
      "Got the result from ./1/train/filtrations/2/HeightFiltrartion_-1_0/gray/diagrams.npy\n",
      "Got the result from ./1/train/filtrations/2/HeightFiltrartion_-1_0/red/diagrams.npy\n",
      "Got the result from ./1/train/filtrations/2/HeightFiltrartion_-1_0/green/diagrams.npy\n",
      "Got the result from ./1/train/filtrations/2/HeightFiltrartion_-1_0/blue/diagrams.npy\n",
      "Applying filtration 8/72: 2/HeightFiltrartion_1_0\n",
      "RGB images received. Transforming to grayscale.\n"
     ]
    },
    {
     "name": "stderr",
     "output_type": "stream",
     "text": [
      "rgb2gray: 100%|██████████| 9030/9030 [00:01<00:00, 5517.84it/s]\n"
     ]
    },
    {
     "name": "stdout",
     "output_type": "stream",
     "text": [
      "Got the result from ./1/train/filtrations/2/HeightFiltrartion_1_0/gray/diagrams.npy\n",
      "Got the result from ./1/train/filtrations/2/HeightFiltrartion_1_0/red/diagrams.npy\n",
      "Got the result from ./1/train/filtrations/2/HeightFiltrartion_1_0/green/diagrams.npy\n",
      "Got the result from ./1/train/filtrations/2/HeightFiltrartion_1_0/blue/diagrams.npy\n",
      "Applying filtration 9/72: 2/RadialFiltration_12_12\n",
      "RGB images received. Transforming to grayscale.\n"
     ]
    },
    {
     "name": "stderr",
     "output_type": "stream",
     "text": [
      "rgb2gray: 100%|██████████| 9030/9030 [00:01<00:00, 5921.32it/s]\n"
     ]
    },
    {
     "name": "stdout",
     "output_type": "stream",
     "text": [
      "Got the result from ./1/train/filtrations/2/RadialFiltration_12_12/gray/diagrams.npy\n",
      "Got the result from ./1/train/filtrations/2/RadialFiltration_12_12/red/diagrams.npy\n",
      "Got the result from ./1/train/filtrations/2/RadialFiltration_12_12/green/diagrams.npy\n",
      "Got the result from ./1/train/filtrations/2/RadialFiltration_12_12/blue/diagrams.npy\n",
      "Applying filtration 10/72: 2/RadialFiltration_12_25\n",
      "RGB images received. Transforming to grayscale.\n"
     ]
    },
    {
     "name": "stderr",
     "output_type": "stream",
     "text": [
      "rgb2gray: 100%|██████████| 9030/9030 [00:01<00:00, 6220.89it/s]\n"
     ]
    },
    {
     "name": "stdout",
     "output_type": "stream",
     "text": [
      "Got the result from ./1/train/filtrations/2/RadialFiltration_12_25/gray/diagrams.npy\n",
      "Got the result from ./1/train/filtrations/2/RadialFiltration_12_25/red/diagrams.npy\n",
      "Got the result from ./1/train/filtrations/2/RadialFiltration_12_25/green/diagrams.npy\n",
      "Got the result from ./1/train/filtrations/2/RadialFiltration_12_25/blue/diagrams.npy\n",
      "Applying filtration 11/72: 2/RadialFiltration_12_38\n",
      "RGB images received. Transforming to grayscale.\n"
     ]
    },
    {
     "name": "stderr",
     "output_type": "stream",
     "text": [
      "rgb2gray: 100%|██████████| 9030/9030 [00:01<00:00, 5563.77it/s]\n"
     ]
    },
    {
     "name": "stdout",
     "output_type": "stream",
     "text": [
      "Got the result from ./1/train/filtrations/2/RadialFiltration_12_38/gray/diagrams.npy\n",
      "Got the result from ./1/train/filtrations/2/RadialFiltration_12_38/red/diagrams.npy\n",
      "Got the result from ./1/train/filtrations/2/RadialFiltration_12_38/green/diagrams.npy\n",
      "Got the result from ./1/train/filtrations/2/RadialFiltration_12_38/blue/diagrams.npy\n",
      "Applying filtration 12/72: 2/RadialFiltration_12_51\n",
      "RGB images received. Transforming to grayscale.\n"
     ]
    },
    {
     "name": "stderr",
     "output_type": "stream",
     "text": [
      "rgb2gray: 100%|██████████| 9030/9030 [00:01<00:00, 6221.13it/s]\n"
     ]
    },
    {
     "name": "stdout",
     "output_type": "stream",
     "text": [
      "Got the result from ./1/train/filtrations/2/RadialFiltration_12_51/gray/diagrams.npy\n",
      "Got the result from ./1/train/filtrations/2/RadialFiltration_12_51/red/diagrams.npy\n",
      "Got the result from ./1/train/filtrations/2/RadialFiltration_12_51/green/diagrams.npy\n",
      "Got the result from ./1/train/filtrations/2/RadialFiltration_12_51/blue/diagrams.npy\n",
      "Applying filtration 13/72: 2/RadialFiltration_25_12\n",
      "RGB images received. Transforming to grayscale.\n"
     ]
    },
    {
     "name": "stderr",
     "output_type": "stream",
     "text": [
      "rgb2gray: 100%|██████████| 9030/9030 [00:01<00:00, 5956.62it/s]\n"
     ]
    },
    {
     "name": "stdout",
     "output_type": "stream",
     "text": [
      "Got the result from ./1/train/filtrations/2/RadialFiltration_25_12/gray/diagrams.npy\n",
      "Got the result from ./1/train/filtrations/2/RadialFiltration_25_12/red/diagrams.npy\n",
      "Got the result from ./1/train/filtrations/2/RadialFiltration_25_12/green/diagrams.npy\n",
      "Got the result from ./1/train/filtrations/2/RadialFiltration_25_12/blue/diagrams.npy\n",
      "Applying filtration 14/72: 2/RadialFiltration_25_25\n",
      "RGB images received. Transforming to grayscale.\n"
     ]
    },
    {
     "name": "stderr",
     "output_type": "stream",
     "text": [
      "rgb2gray: 100%|██████████| 9030/9030 [00:01<00:00, 5700.63it/s]\n"
     ]
    },
    {
     "name": "stdout",
     "output_type": "stream",
     "text": [
      "Got the result from ./1/train/filtrations/2/RadialFiltration_25_25/gray/diagrams.npy\n",
      "Got the result from ./1/train/filtrations/2/RadialFiltration_25_25/red/diagrams.npy\n",
      "Got the result from ./1/train/filtrations/2/RadialFiltration_25_25/green/diagrams.npy\n",
      "Got the result from ./1/train/filtrations/2/RadialFiltration_25_25/blue/diagrams.npy\n",
      "Applying filtration 15/72: 2/RadialFiltration_25_38\n",
      "RGB images received. Transforming to grayscale.\n"
     ]
    },
    {
     "name": "stderr",
     "output_type": "stream",
     "text": [
      "rgb2gray: 100%|██████████| 9030/9030 [00:01<00:00, 5996.03it/s]\n"
     ]
    },
    {
     "name": "stdout",
     "output_type": "stream",
     "text": [
      "Got the result from ./1/train/filtrations/2/RadialFiltration_25_38/gray/diagrams.npy\n",
      "Got the result from ./1/train/filtrations/2/RadialFiltration_25_38/red/diagrams.npy\n",
      "Got the result from ./1/train/filtrations/2/RadialFiltration_25_38/green/diagrams.npy\n",
      "Got the result from ./1/train/filtrations/2/RadialFiltration_25_38/blue/diagrams.npy\n",
      "Applying filtration 16/72: 2/RadialFiltration_25_51\n",
      "RGB images received. Transforming to grayscale.\n"
     ]
    },
    {
     "name": "stderr",
     "output_type": "stream",
     "text": [
      "rgb2gray: 100%|██████████| 9030/9030 [00:01<00:00, 5957.52it/s]\n"
     ]
    },
    {
     "name": "stdout",
     "output_type": "stream",
     "text": [
      "Got the result from ./1/train/filtrations/2/RadialFiltration_25_51/gray/diagrams.npy\n",
      "Got the result from ./1/train/filtrations/2/RadialFiltration_25_51/red/diagrams.npy\n",
      "Got the result from ./1/train/filtrations/2/RadialFiltration_25_51/green/diagrams.npy\n",
      "Got the result from ./1/train/filtrations/2/RadialFiltration_25_51/blue/diagrams.npy\n",
      "Applying filtration 17/72: 2/RadialFiltration_38_12\n",
      "RGB images received. Transforming to grayscale.\n"
     ]
    },
    {
     "name": "stderr",
     "output_type": "stream",
     "text": [
      "rgb2gray: 100%|██████████| 9030/9030 [00:01<00:00, 5326.42it/s]\n"
     ]
    },
    {
     "name": "stdout",
     "output_type": "stream",
     "text": [
      "Got the result from ./1/train/filtrations/2/RadialFiltration_38_12/gray/diagrams.npy\n",
      "Got the result from ./1/train/filtrations/2/RadialFiltration_38_12/red/diagrams.npy\n",
      "Got the result from ./1/train/filtrations/2/RadialFiltration_38_12/green/diagrams.npy\n",
      "Got the result from ./1/train/filtrations/2/RadialFiltration_38_12/blue/diagrams.npy\n",
      "Applying filtration 18/72: 2/RadialFiltration_38_25\n",
      "RGB images received. Transforming to grayscale.\n"
     ]
    },
    {
     "name": "stderr",
     "output_type": "stream",
     "text": [
      "rgb2gray: 100%|██████████| 9030/9030 [00:01<00:00, 5864.32it/s]\n"
     ]
    },
    {
     "name": "stdout",
     "output_type": "stream",
     "text": [
      "Got the result from ./1/train/filtrations/2/RadialFiltration_38_25/gray/diagrams.npy\n",
      "Got the result from ./1/train/filtrations/2/RadialFiltration_38_25/red/diagrams.npy\n",
      "Got the result from ./1/train/filtrations/2/RadialFiltration_38_25/green/diagrams.npy\n",
      "Got the result from ./1/train/filtrations/2/RadialFiltration_38_25/blue/diagrams.npy\n",
      "Applying filtration 19/72: 2/RadialFiltration_38_38\n",
      "RGB images received. Transforming to grayscale.\n"
     ]
    },
    {
     "name": "stderr",
     "output_type": "stream",
     "text": [
      "rgb2gray: 100%|██████████| 9030/9030 [00:01<00:00, 5431.77it/s]\n"
     ]
    },
    {
     "name": "stdout",
     "output_type": "stream",
     "text": [
      "Got the result from ./1/train/filtrations/2/RadialFiltration_38_38/gray/diagrams.npy\n",
      "Got the result from ./1/train/filtrations/2/RadialFiltration_38_38/red/diagrams.npy\n",
      "Got the result from ./1/train/filtrations/2/RadialFiltration_38_38/green/diagrams.npy\n",
      "Got the result from ./1/train/filtrations/2/RadialFiltration_38_38/blue/diagrams.npy\n",
      "Applying filtration 20/72: 2/RadialFiltration_38_51\n",
      "RGB images received. Transforming to grayscale.\n"
     ]
    },
    {
     "name": "stderr",
     "output_type": "stream",
     "text": [
      "rgb2gray: 100%|██████████| 9030/9030 [00:01<00:00, 5848.96it/s]\n"
     ]
    },
    {
     "name": "stdout",
     "output_type": "stream",
     "text": [
      "Got the result from ./1/train/filtrations/2/RadialFiltration_38_51/gray/diagrams.npy\n",
      "Got the result from ./1/train/filtrations/2/RadialFiltration_38_51/red/diagrams.npy\n",
      "Got the result from ./1/train/filtrations/2/RadialFiltration_38_51/green/diagrams.npy\n",
      "Got the result from ./1/train/filtrations/2/RadialFiltration_38_51/blue/diagrams.npy\n",
      "Applying filtration 21/72: 2/RadialFiltration_51_12\n",
      "RGB images received. Transforming to grayscale.\n"
     ]
    },
    {
     "name": "stderr",
     "output_type": "stream",
     "text": [
      "rgb2gray: 100%|██████████| 9030/9030 [00:01<00:00, 5766.29it/s]\n"
     ]
    },
    {
     "name": "stdout",
     "output_type": "stream",
     "text": [
      "Got the result from ./1/train/filtrations/2/RadialFiltration_51_12/gray/diagrams.npy\n",
      "Got the result from ./1/train/filtrations/2/RadialFiltration_51_12/red/diagrams.npy\n",
      "Got the result from ./1/train/filtrations/2/RadialFiltration_51_12/green/diagrams.npy\n",
      "Got the result from ./1/train/filtrations/2/RadialFiltration_51_12/blue/diagrams.npy\n",
      "Applying filtration 22/72: 2/RadialFiltration_51_25\n",
      "RGB images received. Transforming to grayscale.\n"
     ]
    },
    {
     "name": "stderr",
     "output_type": "stream",
     "text": [
      "rgb2gray: 100%|██████████| 9030/9030 [00:01<00:00, 5330.11it/s]\n"
     ]
    },
    {
     "name": "stdout",
     "output_type": "stream",
     "text": [
      "Got the result from ./1/train/filtrations/2/RadialFiltration_51_25/gray/diagrams.npy\n",
      "Got the result from ./1/train/filtrations/2/RadialFiltration_51_25/red/diagrams.npy\n",
      "Got the result from ./1/train/filtrations/2/RadialFiltration_51_25/green/diagrams.npy\n",
      "Got the result from ./1/train/filtrations/2/RadialFiltration_51_25/blue/diagrams.npy\n",
      "Applying filtration 23/72: 2/RadialFiltration_51_38\n",
      "RGB images received. Transforming to grayscale.\n"
     ]
    },
    {
     "name": "stderr",
     "output_type": "stream",
     "text": [
      "rgb2gray: 100%|██████████| 9030/9030 [00:01<00:00, 5632.44it/s]\n"
     ]
    },
    {
     "name": "stdout",
     "output_type": "stream",
     "text": [
      "Got the result from ./1/train/filtrations/2/RadialFiltration_51_38/gray/diagrams.npy\n",
      "Got the result from ./1/train/filtrations/2/RadialFiltration_51_38/red/diagrams.npy\n",
      "Got the result from ./1/train/filtrations/2/RadialFiltration_51_38/green/diagrams.npy\n",
      "Got the result from ./1/train/filtrations/2/RadialFiltration_51_38/blue/diagrams.npy\n",
      "Applying filtration 24/72: 2/RadialFiltration_51_51\n",
      "RGB images received. Transforming to grayscale.\n"
     ]
    },
    {
     "name": "stderr",
     "output_type": "stream",
     "text": [
      "rgb2gray: 100%|██████████| 9030/9030 [00:01<00:00, 5531.68it/s]\n"
     ]
    },
    {
     "name": "stdout",
     "output_type": "stream",
     "text": [
      "Got the result from ./1/train/filtrations/2/RadialFiltration_51_51/gray/diagrams.npy\n",
      "Got the result from ./1/train/filtrations/2/RadialFiltration_51_51/red/diagrams.npy\n",
      "Got the result from ./1/train/filtrations/2/RadialFiltration_51_51/green/diagrams.npy\n",
      "Got the result from ./1/train/filtrations/2/RadialFiltration_51_51/blue/diagrams.npy\n",
      "Applying filtration 25/72: 4/HeightFiltrartion_-1_-1\n",
      "RGB images received. Transforming to grayscale.\n"
     ]
    },
    {
     "name": "stderr",
     "output_type": "stream",
     "text": [
      "rgb2gray: 100%|██████████| 9030/9030 [00:01<00:00, 5563.51it/s]\n"
     ]
    },
    {
     "name": "stdout",
     "output_type": "stream",
     "text": [
      "Got the result from ./1/train/filtrations/4/HeightFiltrartion_-1_-1/gray/diagrams.npy\n",
      "Got the result from ./1/train/filtrations/4/HeightFiltrartion_-1_-1/red/diagrams.npy\n",
      "Got the result from ./1/train/filtrations/4/HeightFiltrartion_-1_-1/green/diagrams.npy\n",
      "Got the result from ./1/train/filtrations/4/HeightFiltrartion_-1_-1/blue/diagrams.npy\n",
      "Applying filtration 26/72: 4/HeightFiltrartion_1_1\n",
      "RGB images received. Transforming to grayscale.\n"
     ]
    },
    {
     "name": "stderr",
     "output_type": "stream",
     "text": [
      "rgb2gray: 100%|██████████| 9030/9030 [00:01<00:00, 5526.32it/s]\n"
     ]
    },
    {
     "name": "stdout",
     "output_type": "stream",
     "text": [
      "Got the result from ./1/train/filtrations/4/HeightFiltrartion_1_1/gray/diagrams.npy\n",
      "Got the result from ./1/train/filtrations/4/HeightFiltrartion_1_1/red/diagrams.npy\n",
      "Got the result from ./1/train/filtrations/4/HeightFiltrartion_1_1/green/diagrams.npy\n",
      "Got the result from ./1/train/filtrations/4/HeightFiltrartion_1_1/blue/diagrams.npy\n",
      "Applying filtration 27/72: 4/HeightFiltrartion_1_-1\n",
      "RGB images received. Transforming to grayscale.\n"
     ]
    },
    {
     "name": "stderr",
     "output_type": "stream",
     "text": [
      "rgb2gray: 100%|██████████| 9030/9030 [00:01<00:00, 5545.24it/s]\n"
     ]
    },
    {
     "name": "stdout",
     "output_type": "stream",
     "text": [
      "Got the result from ./1/train/filtrations/4/HeightFiltrartion_1_-1/gray/diagrams.npy\n",
      "Got the result from ./1/train/filtrations/4/HeightFiltrartion_1_-1/red/diagrams.npy\n",
      "Got the result from ./1/train/filtrations/4/HeightFiltrartion_1_-1/green/diagrams.npy\n",
      "Got the result from ./1/train/filtrations/4/HeightFiltrartion_1_-1/blue/diagrams.npy\n",
      "Applying filtration 28/72: 4/HeightFiltrartion_-1_1\n",
      "RGB images received. Transforming to grayscale.\n"
     ]
    },
    {
     "name": "stderr",
     "output_type": "stream",
     "text": [
      "rgb2gray: 100%|██████████| 9030/9030 [00:01<00:00, 4954.71it/s]\n"
     ]
    },
    {
     "name": "stdout",
     "output_type": "stream",
     "text": [
      "Got the result from ./1/train/filtrations/4/HeightFiltrartion_-1_1/gray/diagrams.npy\n",
      "Got the result from ./1/train/filtrations/4/HeightFiltrartion_-1_1/red/diagrams.npy\n",
      "Got the result from ./1/train/filtrations/4/HeightFiltrartion_-1_1/green/diagrams.npy\n",
      "Got the result from ./1/train/filtrations/4/HeightFiltrartion_-1_1/blue/diagrams.npy\n",
      "Applying filtration 29/72: 4/HeightFiltrartion_0_-1\n",
      "RGB images received. Transforming to grayscale.\n"
     ]
    },
    {
     "name": "stderr",
     "output_type": "stream",
     "text": [
      "rgb2gray: 100%|██████████| 9030/9030 [00:01<00:00, 5410.43it/s]\n"
     ]
    },
    {
     "name": "stdout",
     "output_type": "stream",
     "text": [
      "Got the result from ./1/train/filtrations/4/HeightFiltrartion_0_-1/gray/diagrams.npy\n",
      "Got the result from ./1/train/filtrations/4/HeightFiltrartion_0_-1/red/diagrams.npy\n",
      "Got the result from ./1/train/filtrations/4/HeightFiltrartion_0_-1/green/diagrams.npy\n",
      "Got the result from ./1/train/filtrations/4/HeightFiltrartion_0_-1/blue/diagrams.npy\n",
      "Applying filtration 30/72: 4/HeightFiltrartion_0_1\n",
      "RGB images received. Transforming to grayscale.\n"
     ]
    },
    {
     "name": "stderr",
     "output_type": "stream",
     "text": [
      "rgb2gray: 100%|██████████| 9030/9030 [00:01<00:00, 5773.66it/s]\n"
     ]
    },
    {
     "name": "stdout",
     "output_type": "stream",
     "text": [
      "Got the result from ./1/train/filtrations/4/HeightFiltrartion_0_1/gray/diagrams.npy\n",
      "Got the result from ./1/train/filtrations/4/HeightFiltrartion_0_1/red/diagrams.npy\n",
      "Got the result from ./1/train/filtrations/4/HeightFiltrartion_0_1/green/diagrams.npy\n",
      "Got the result from ./1/train/filtrations/4/HeightFiltrartion_0_1/blue/diagrams.npy\n",
      "Applying filtration 31/72: 4/HeightFiltrartion_-1_0\n",
      "RGB images received. Transforming to grayscale.\n"
     ]
    },
    {
     "name": "stderr",
     "output_type": "stream",
     "text": [
      "rgb2gray: 100%|██████████| 9030/9030 [00:01<00:00, 5311.93it/s]\n"
     ]
    },
    {
     "name": "stdout",
     "output_type": "stream",
     "text": [
      "Got the result from ./1/train/filtrations/4/HeightFiltrartion_-1_0/gray/diagrams.npy\n",
      "Got the result from ./1/train/filtrations/4/HeightFiltrartion_-1_0/red/diagrams.npy\n",
      "Got the result from ./1/train/filtrations/4/HeightFiltrartion_-1_0/green/diagrams.npy\n",
      "Got the result from ./1/train/filtrations/4/HeightFiltrartion_-1_0/blue/diagrams.npy\n",
      "Applying filtration 32/72: 4/HeightFiltrartion_1_0\n",
      "RGB images received. Transforming to grayscale.\n"
     ]
    },
    {
     "name": "stderr",
     "output_type": "stream",
     "text": [
      "rgb2gray: 100%|██████████| 9030/9030 [00:01<00:00, 5266.83it/s]\n"
     ]
    },
    {
     "name": "stdout",
     "output_type": "stream",
     "text": [
      "Got the result from ./1/train/filtrations/4/HeightFiltrartion_1_0/gray/diagrams.npy\n",
      "Got the result from ./1/train/filtrations/4/HeightFiltrartion_1_0/red/diagrams.npy\n",
      "Got the result from ./1/train/filtrations/4/HeightFiltrartion_1_0/green/diagrams.npy\n",
      "Got the result from ./1/train/filtrations/4/HeightFiltrartion_1_0/blue/diagrams.npy\n",
      "Applying filtration 33/72: 4/RadialFiltration_12_12\n",
      "RGB images received. Transforming to grayscale.\n"
     ]
    },
    {
     "name": "stderr",
     "output_type": "stream",
     "text": [
      "rgb2gray: 100%|██████████| 9030/9030 [00:01<00:00, 4997.23it/s]\n"
     ]
    },
    {
     "name": "stdout",
     "output_type": "stream",
     "text": [
      "Got the result from ./1/train/filtrations/4/RadialFiltration_12_12/gray/diagrams.npy\n",
      "Got the result from ./1/train/filtrations/4/RadialFiltration_12_12/red/diagrams.npy\n",
      "Got the result from ./1/train/filtrations/4/RadialFiltration_12_12/green/diagrams.npy\n",
      "Got the result from ./1/train/filtrations/4/RadialFiltration_12_12/blue/diagrams.npy\n",
      "Applying filtration 34/72: 4/RadialFiltration_12_25\n",
      "RGB images received. Transforming to grayscale.\n"
     ]
    },
    {
     "name": "stderr",
     "output_type": "stream",
     "text": [
      "rgb2gray: 100%|██████████| 9030/9030 [00:01<00:00, 4887.64it/s]\n"
     ]
    },
    {
     "name": "stdout",
     "output_type": "stream",
     "text": [
      "Got the result from ./1/train/filtrations/4/RadialFiltration_12_25/gray/diagrams.npy\n",
      "Got the result from ./1/train/filtrations/4/RadialFiltration_12_25/red/diagrams.npy\n",
      "Got the result from ./1/train/filtrations/4/RadialFiltration_12_25/green/diagrams.npy\n",
      "Got the result from ./1/train/filtrations/4/RadialFiltration_12_25/blue/diagrams.npy\n",
      "Applying filtration 35/72: 4/RadialFiltration_12_38\n",
      "RGB images received. Transforming to grayscale.\n"
     ]
    },
    {
     "name": "stderr",
     "output_type": "stream",
     "text": [
      "rgb2gray: 100%|██████████| 9030/9030 [00:02<00:00, 4497.69it/s]\n"
     ]
    },
    {
     "name": "stdout",
     "output_type": "stream",
     "text": [
      "Got the result from ./1/train/filtrations/4/RadialFiltration_12_38/gray/diagrams.npy\n",
      "Got the result from ./1/train/filtrations/4/RadialFiltration_12_38/red/diagrams.npy\n",
      "Got the result from ./1/train/filtrations/4/RadialFiltration_12_38/green/diagrams.npy\n",
      "Got the result from ./1/train/filtrations/4/RadialFiltration_12_38/blue/diagrams.npy\n",
      "Applying filtration 36/72: 4/RadialFiltration_12_51\n",
      "RGB images received. Transforming to grayscale.\n"
     ]
    },
    {
     "name": "stderr",
     "output_type": "stream",
     "text": [
      "rgb2gray: 100%|██████████| 9030/9030 [00:01<00:00, 4642.24it/s]\n"
     ]
    },
    {
     "name": "stdout",
     "output_type": "stream",
     "text": [
      "Got the result from ./1/train/filtrations/4/RadialFiltration_12_51/gray/diagrams.npy\n",
      "Got the result from ./1/train/filtrations/4/RadialFiltration_12_51/red/diagrams.npy\n",
      "Got the result from ./1/train/filtrations/4/RadialFiltration_12_51/green/diagrams.npy\n",
      "Got the result from ./1/train/filtrations/4/RadialFiltration_12_51/blue/diagrams.npy\n",
      "Applying filtration 37/72: 4/RadialFiltration_25_12\n",
      "RGB images received. Transforming to grayscale.\n"
     ]
    },
    {
     "name": "stderr",
     "output_type": "stream",
     "text": [
      "rgb2gray: 100%|██████████| 9030/9030 [00:01<00:00, 4777.32it/s]\n"
     ]
    },
    {
     "name": "stdout",
     "output_type": "stream",
     "text": [
      "Got the result from ./1/train/filtrations/4/RadialFiltration_25_12/gray/diagrams.npy\n",
      "Got the result from ./1/train/filtrations/4/RadialFiltration_25_12/red/diagrams.npy\n",
      "Got the result from ./1/train/filtrations/4/RadialFiltration_25_12/green/diagrams.npy\n",
      "Got the result from ./1/train/filtrations/4/RadialFiltration_25_12/blue/diagrams.npy\n",
      "Applying filtration 38/72: 4/RadialFiltration_25_25\n",
      "RGB images received. Transforming to grayscale.\n"
     ]
    },
    {
     "name": "stderr",
     "output_type": "stream",
     "text": [
      "rgb2gray: 100%|██████████| 9030/9030 [00:01<00:00, 4744.77it/s]\n"
     ]
    },
    {
     "name": "stdout",
     "output_type": "stream",
     "text": [
      "Got the result from ./1/train/filtrations/4/RadialFiltration_25_25/gray/diagrams.npy\n",
      "Got the result from ./1/train/filtrations/4/RadialFiltration_25_25/red/diagrams.npy\n",
      "Got the result from ./1/train/filtrations/4/RadialFiltration_25_25/green/diagrams.npy\n",
      "Got the result from ./1/train/filtrations/4/RadialFiltration_25_25/blue/diagrams.npy\n",
      "Applying filtration 39/72: 4/RadialFiltration_25_38\n",
      "RGB images received. Transforming to grayscale.\n"
     ]
    },
    {
     "name": "stderr",
     "output_type": "stream",
     "text": [
      "rgb2gray: 100%|██████████| 9030/9030 [00:01<00:00, 5037.28it/s]\n"
     ]
    },
    {
     "name": "stdout",
     "output_type": "stream",
     "text": [
      "Got the result from ./1/train/filtrations/4/RadialFiltration_25_38/gray/diagrams.npy\n",
      "Got the result from ./1/train/filtrations/4/RadialFiltration_25_38/red/diagrams.npy\n",
      "Got the result from ./1/train/filtrations/4/RadialFiltration_25_38/green/diagrams.npy\n",
      "Got the result from ./1/train/filtrations/4/RadialFiltration_25_38/blue/diagrams.npy\n",
      "Applying filtration 40/72: 4/RadialFiltration_25_51\n",
      "RGB images received. Transforming to grayscale.\n"
     ]
    },
    {
     "name": "stderr",
     "output_type": "stream",
     "text": [
      "rgb2gray: 100%|██████████| 9030/9030 [00:01<00:00, 5377.77it/s]\n"
     ]
    },
    {
     "name": "stdout",
     "output_type": "stream",
     "text": [
      "Got the result from ./1/train/filtrations/4/RadialFiltration_25_51/gray/diagrams.npy\n",
      "Got the result from ./1/train/filtrations/4/RadialFiltration_25_51/red/diagrams.npy\n",
      "Got the result from ./1/train/filtrations/4/RadialFiltration_25_51/green/diagrams.npy\n",
      "Got the result from ./1/train/filtrations/4/RadialFiltration_25_51/blue/diagrams.npy\n",
      "Applying filtration 41/72: 4/RadialFiltration_38_12\n",
      "RGB images received. Transforming to grayscale.\n"
     ]
    },
    {
     "name": "stderr",
     "output_type": "stream",
     "text": [
      "rgb2gray: 100%|██████████| 9030/9030 [00:01<00:00, 5322.91it/s]\n"
     ]
    },
    {
     "name": "stdout",
     "output_type": "stream",
     "text": [
      "Got the result from ./1/train/filtrations/4/RadialFiltration_38_12/gray/diagrams.npy\n",
      "Got the result from ./1/train/filtrations/4/RadialFiltration_38_12/red/diagrams.npy\n",
      "Got the result from ./1/train/filtrations/4/RadialFiltration_38_12/green/diagrams.npy\n",
      "Got the result from ./1/train/filtrations/4/RadialFiltration_38_12/blue/diagrams.npy\n",
      "Applying filtration 42/72: 4/RadialFiltration_38_25\n",
      "RGB images received. Transforming to grayscale.\n"
     ]
    },
    {
     "name": "stderr",
     "output_type": "stream",
     "text": [
      "rgb2gray: 100%|██████████| 9030/9030 [00:01<00:00, 4950.91it/s]\n"
     ]
    },
    {
     "name": "stdout",
     "output_type": "stream",
     "text": [
      "Got the result from ./1/train/filtrations/4/RadialFiltration_38_25/gray/diagrams.npy\n",
      "Got the result from ./1/train/filtrations/4/RadialFiltration_38_25/red/diagrams.npy\n",
      "Got the result from ./1/train/filtrations/4/RadialFiltration_38_25/green/diagrams.npy\n",
      "Got the result from ./1/train/filtrations/4/RadialFiltration_38_25/blue/diagrams.npy\n",
      "Applying filtration 43/72: 4/RadialFiltration_38_38\n",
      "RGB images received. Transforming to grayscale.\n"
     ]
    },
    {
     "name": "stderr",
     "output_type": "stream",
     "text": [
      "rgb2gray: 100%|██████████| 9030/9030 [00:01<00:00, 5223.89it/s] \n"
     ]
    },
    {
     "name": "stdout",
     "output_type": "stream",
     "text": [
      "Got the result from ./1/train/filtrations/4/RadialFiltration_38_38/gray/diagrams.npy\n",
      "Got the result from ./1/train/filtrations/4/RadialFiltration_38_38/red/diagrams.npy\n",
      "Got the result from ./1/train/filtrations/4/RadialFiltration_38_38/green/diagrams.npy\n",
      "Got the result from ./1/train/filtrations/4/RadialFiltration_38_38/blue/diagrams.npy\n",
      "Applying filtration 44/72: 4/RadialFiltration_38_51\n",
      "RGB images received. Transforming to grayscale.\n"
     ]
    },
    {
     "name": "stderr",
     "output_type": "stream",
     "text": [
      "rgb2gray: 100%|██████████| 9030/9030 [00:01<00:00, 5020.76it/s]\n"
     ]
    },
    {
     "name": "stdout",
     "output_type": "stream",
     "text": [
      "Got the result from ./1/train/filtrations/4/RadialFiltration_38_51/gray/diagrams.npy\n",
      "Got the result from ./1/train/filtrations/4/RadialFiltration_38_51/red/diagrams.npy\n",
      "Got the result from ./1/train/filtrations/4/RadialFiltration_38_51/green/diagrams.npy\n",
      "Got the result from ./1/train/filtrations/4/RadialFiltration_38_51/blue/diagrams.npy\n",
      "Applying filtration 45/72: 4/RadialFiltration_51_12\n",
      "RGB images received. Transforming to grayscale.\n"
     ]
    },
    {
     "name": "stderr",
     "output_type": "stream",
     "text": [
      "rgb2gray: 100%|██████████| 9030/9030 [00:01<00:00, 4903.19it/s]\n"
     ]
    },
    {
     "name": "stdout",
     "output_type": "stream",
     "text": [
      "Got the result from ./1/train/filtrations/4/RadialFiltration_51_12/gray/diagrams.npy\n",
      "Got the result from ./1/train/filtrations/4/RadialFiltration_51_12/red/diagrams.npy\n",
      "Got the result from ./1/train/filtrations/4/RadialFiltration_51_12/green/diagrams.npy\n",
      "Got the result from ./1/train/filtrations/4/RadialFiltration_51_12/blue/diagrams.npy\n",
      "Applying filtration 46/72: 4/RadialFiltration_51_25\n",
      "RGB images received. Transforming to grayscale.\n"
     ]
    },
    {
     "name": "stderr",
     "output_type": "stream",
     "text": [
      "rgb2gray: 100%|██████████| 9030/9030 [00:01<00:00, 5156.44it/s]\n"
     ]
    },
    {
     "name": "stdout",
     "output_type": "stream",
     "text": [
      "Got the result from ./1/train/filtrations/4/RadialFiltration_51_25/gray/diagrams.npy\n",
      "Got the result from ./1/train/filtrations/4/RadialFiltration_51_25/red/diagrams.npy\n",
      "Got the result from ./1/train/filtrations/4/RadialFiltration_51_25/green/diagrams.npy\n",
      "Got the result from ./1/train/filtrations/4/RadialFiltration_51_25/blue/diagrams.npy\n",
      "Applying filtration 47/72: 4/RadialFiltration_51_38\n",
      "RGB images received. Transforming to grayscale.\n"
     ]
    },
    {
     "name": "stderr",
     "output_type": "stream",
     "text": [
      "rgb2gray: 100%|██████████| 9030/9030 [00:01<00:00, 5116.15it/s]\n"
     ]
    },
    {
     "name": "stdout",
     "output_type": "stream",
     "text": [
      "Got the result from ./1/train/filtrations/4/RadialFiltration_51_38/gray/diagrams.npy\n",
      "Got the result from ./1/train/filtrations/4/RadialFiltration_51_38/red/diagrams.npy\n",
      "Got the result from ./1/train/filtrations/4/RadialFiltration_51_38/green/diagrams.npy\n",
      "Got the result from ./1/train/filtrations/4/RadialFiltration_51_38/blue/diagrams.npy\n",
      "Applying filtration 48/72: 4/RadialFiltration_51_51\n",
      "RGB images received. Transforming to grayscale.\n"
     ]
    },
    {
     "name": "stderr",
     "output_type": "stream",
     "text": [
      "rgb2gray: 100%|██████████| 9030/9030 [00:01<00:00, 5016.67it/s]\n"
     ]
    },
    {
     "name": "stdout",
     "output_type": "stream",
     "text": [
      "Got the result from ./1/train/filtrations/4/RadialFiltration_51_51/gray/diagrams.npy\n",
      "Got the result from ./1/train/filtrations/4/RadialFiltration_51_51/red/diagrams.npy\n",
      "Got the result from ./1/train/filtrations/4/RadialFiltration_51_51/green/diagrams.npy\n",
      "Got the result from ./1/train/filtrations/4/RadialFiltration_51_51/blue/diagrams.npy\n",
      "Applying filtration 49/72: 6/HeightFiltrartion_-1_-1\n",
      "RGB images received. Transforming to grayscale.\n"
     ]
    },
    {
     "name": "stderr",
     "output_type": "stream",
     "text": [
      "rgb2gray: 100%|██████████| 9030/9030 [00:01<00:00, 5349.39it/s]\n"
     ]
    },
    {
     "name": "stdout",
     "output_type": "stream",
     "text": [
      "Got the result from ./1/train/filtrations/6/HeightFiltrartion_-1_-1/gray/diagrams.npy\n",
      "Got the result from ./1/train/filtrations/6/HeightFiltrartion_-1_-1/red/diagrams.npy\n",
      "Got the result from ./1/train/filtrations/6/HeightFiltrartion_-1_-1/green/diagrams.npy\n",
      "Got the result from ./1/train/filtrations/6/HeightFiltrartion_-1_-1/blue/diagrams.npy\n",
      "Applying filtration 50/72: 6/HeightFiltrartion_1_1\n",
      "RGB images received. Transforming to grayscale.\n"
     ]
    },
    {
     "name": "stderr",
     "output_type": "stream",
     "text": [
      "rgb2gray: 100%|██████████| 9030/9030 [00:01<00:00, 5268.10it/s]\n"
     ]
    },
    {
     "name": "stdout",
     "output_type": "stream",
     "text": [
      "Got the result from ./1/train/filtrations/6/HeightFiltrartion_1_1/gray/diagrams.npy\n",
      "Got the result from ./1/train/filtrations/6/HeightFiltrartion_1_1/red/diagrams.npy\n",
      "Got the result from ./1/train/filtrations/6/HeightFiltrartion_1_1/green/diagrams.npy\n",
      "Got the result from ./1/train/filtrations/6/HeightFiltrartion_1_1/blue/diagrams.npy\n",
      "Applying filtration 51/72: 6/HeightFiltrartion_1_-1\n",
      "RGB images received. Transforming to grayscale.\n"
     ]
    },
    {
     "name": "stderr",
     "output_type": "stream",
     "text": [
      "rgb2gray: 100%|██████████| 9030/9030 [00:01<00:00, 5189.26it/s]\n"
     ]
    },
    {
     "name": "stdout",
     "output_type": "stream",
     "text": [
      "Got the result from ./1/train/filtrations/6/HeightFiltrartion_1_-1/gray/diagrams.npy\n",
      "Got the result from ./1/train/filtrations/6/HeightFiltrartion_1_-1/red/diagrams.npy\n",
      "Got the result from ./1/train/filtrations/6/HeightFiltrartion_1_-1/green/diagrams.npy\n",
      "Got the result from ./1/train/filtrations/6/HeightFiltrartion_1_-1/blue/diagrams.npy\n",
      "Applying filtration 52/72: 6/HeightFiltrartion_-1_1\n",
      "RGB images received. Transforming to grayscale.\n"
     ]
    },
    {
     "name": "stderr",
     "output_type": "stream",
     "text": [
      "rgb2gray: 100%|██████████| 9030/9030 [00:01<00:00, 5420.16it/s]\n"
     ]
    },
    {
     "name": "stdout",
     "output_type": "stream",
     "text": [
      "Got the result from ./1/train/filtrations/6/HeightFiltrartion_-1_1/gray/diagrams.npy\n",
      "Got the result from ./1/train/filtrations/6/HeightFiltrartion_-1_1/red/diagrams.npy\n",
      "Got the result from ./1/train/filtrations/6/HeightFiltrartion_-1_1/green/diagrams.npy\n",
      "Got the result from ./1/train/filtrations/6/HeightFiltrartion_-1_1/blue/diagrams.npy\n",
      "Applying filtration 53/72: 6/HeightFiltrartion_0_-1\n",
      "RGB images received. Transforming to grayscale.\n"
     ]
    },
    {
     "name": "stderr",
     "output_type": "stream",
     "text": [
      "rgb2gray: 100%|██████████| 9030/9030 [00:01<00:00, 5462.79it/s]\n"
     ]
    },
    {
     "name": "stdout",
     "output_type": "stream",
     "text": [
      "Got the result from ./1/train/filtrations/6/HeightFiltrartion_0_-1/gray/diagrams.npy\n",
      "Got the result from ./1/train/filtrations/6/HeightFiltrartion_0_-1/red/diagrams.npy\n",
      "Got the result from ./1/train/filtrations/6/HeightFiltrartion_0_-1/green/diagrams.npy\n",
      "Got the result from ./1/train/filtrations/6/HeightFiltrartion_0_-1/blue/diagrams.npy\n",
      "Applying filtration 54/72: 6/HeightFiltrartion_0_1\n",
      "RGB images received. Transforming to grayscale.\n"
     ]
    },
    {
     "name": "stderr",
     "output_type": "stream",
     "text": [
      "rgb2gray: 100%|██████████| 9030/9030 [00:01<00:00, 5357.43it/s]\n"
     ]
    },
    {
     "name": "stdout",
     "output_type": "stream",
     "text": [
      "Got the result from ./1/train/filtrations/6/HeightFiltrartion_0_1/gray/diagrams.npy\n",
      "Got the result from ./1/train/filtrations/6/HeightFiltrartion_0_1/red/diagrams.npy\n",
      "Got the result from ./1/train/filtrations/6/HeightFiltrartion_0_1/green/diagrams.npy\n",
      "Got the result from ./1/train/filtrations/6/HeightFiltrartion_0_1/blue/diagrams.npy\n",
      "Applying filtration 55/72: 6/HeightFiltrartion_-1_0\n",
      "RGB images received. Transforming to grayscale.\n"
     ]
    },
    {
     "name": "stderr",
     "output_type": "stream",
     "text": [
      "rgb2gray: 100%|██████████| 9030/9030 [00:01<00:00, 5286.35it/s]\n"
     ]
    },
    {
     "name": "stdout",
     "output_type": "stream",
     "text": [
      "Got the result from ./1/train/filtrations/6/HeightFiltrartion_-1_0/gray/diagrams.npy\n",
      "Got the result from ./1/train/filtrations/6/HeightFiltrartion_-1_0/red/diagrams.npy\n",
      "Got the result from ./1/train/filtrations/6/HeightFiltrartion_-1_0/green/diagrams.npy\n",
      "Got the result from ./1/train/filtrations/6/HeightFiltrartion_-1_0/blue/diagrams.npy\n",
      "Applying filtration 56/72: 6/HeightFiltrartion_1_0\n",
      "RGB images received. Transforming to grayscale.\n"
     ]
    },
    {
     "name": "stderr",
     "output_type": "stream",
     "text": [
      "rgb2gray: 100%|██████████| 9030/9030 [00:01<00:00, 5591.48it/s]\n"
     ]
    },
    {
     "name": "stdout",
     "output_type": "stream",
     "text": [
      "Got the result from ./1/train/filtrations/6/HeightFiltrartion_1_0/gray/diagrams.npy\n",
      "Got the result from ./1/train/filtrations/6/HeightFiltrartion_1_0/red/diagrams.npy\n",
      "Got the result from ./1/train/filtrations/6/HeightFiltrartion_1_0/green/diagrams.npy\n",
      "Got the result from ./1/train/filtrations/6/HeightFiltrartion_1_0/blue/diagrams.npy\n",
      "Applying filtration 57/72: 6/RadialFiltration_12_12\n",
      "RGB images received. Transforming to grayscale.\n"
     ]
    },
    {
     "name": "stderr",
     "output_type": "stream",
     "text": [
      "rgb2gray: 100%|██████████| 9030/9030 [00:01<00:00, 5476.05it/s]\n"
     ]
    },
    {
     "name": "stdout",
     "output_type": "stream",
     "text": [
      "Got the result from ./1/train/filtrations/6/RadialFiltration_12_12/gray/diagrams.npy\n",
      "Got the result from ./1/train/filtrations/6/RadialFiltration_12_12/red/diagrams.npy\n",
      "Got the result from ./1/train/filtrations/6/RadialFiltration_12_12/green/diagrams.npy\n",
      "Got the result from ./1/train/filtrations/6/RadialFiltration_12_12/blue/diagrams.npy\n",
      "Applying filtration 58/72: 6/RadialFiltration_12_25\n",
      "RGB images received. Transforming to grayscale.\n"
     ]
    },
    {
     "name": "stderr",
     "output_type": "stream",
     "text": [
      "rgb2gray: 100%|██████████| 9030/9030 [00:01<00:00, 5349.52it/s]\n"
     ]
    },
    {
     "name": "stdout",
     "output_type": "stream",
     "text": [
      "Got the result from ./1/train/filtrations/6/RadialFiltration_12_25/gray/diagrams.npy\n",
      "Got the result from ./1/train/filtrations/6/RadialFiltration_12_25/red/diagrams.npy\n",
      "Got the result from ./1/train/filtrations/6/RadialFiltration_12_25/green/diagrams.npy\n",
      "Got the result from ./1/train/filtrations/6/RadialFiltration_12_25/blue/diagrams.npy\n",
      "Applying filtration 59/72: 6/RadialFiltration_12_38\n",
      "RGB images received. Transforming to grayscale.\n"
     ]
    },
    {
     "name": "stderr",
     "output_type": "stream",
     "text": [
      "rgb2gray: 100%|██████████| 9030/9030 [00:01<00:00, 5455.75it/s]\n"
     ]
    },
    {
     "name": "stdout",
     "output_type": "stream",
     "text": [
      "Got the result from ./1/train/filtrations/6/RadialFiltration_12_38/gray/diagrams.npy\n",
      "Got the result from ./1/train/filtrations/6/RadialFiltration_12_38/red/diagrams.npy\n",
      "Got the result from ./1/train/filtrations/6/RadialFiltration_12_38/green/diagrams.npy\n",
      "Got the result from ./1/train/filtrations/6/RadialFiltration_12_38/blue/diagrams.npy\n",
      "Applying filtration 60/72: 6/RadialFiltration_12_51\n",
      "RGB images received. Transforming to grayscale.\n"
     ]
    },
    {
     "name": "stderr",
     "output_type": "stream",
     "text": [
      "rgb2gray: 100%|██████████| 9030/9030 [00:01<00:00, 5140.88it/s]\n"
     ]
    },
    {
     "name": "stdout",
     "output_type": "stream",
     "text": [
      "Got the result from ./1/train/filtrations/6/RadialFiltration_12_51/gray/diagrams.npy\n",
      "Got the result from ./1/train/filtrations/6/RadialFiltration_12_51/red/diagrams.npy\n",
      "Got the result from ./1/train/filtrations/6/RadialFiltration_12_51/green/diagrams.npy\n",
      "Got the result from ./1/train/filtrations/6/RadialFiltration_12_51/blue/diagrams.npy\n",
      "Applying filtration 61/72: 6/RadialFiltration_25_12\n",
      "RGB images received. Transforming to grayscale.\n"
     ]
    },
    {
     "name": "stderr",
     "output_type": "stream",
     "text": [
      "rgb2gray: 100%|██████████| 9030/9030 [00:01<00:00, 5071.22it/s]\n"
     ]
    },
    {
     "name": "stdout",
     "output_type": "stream",
     "text": [
      "Got the result from ./1/train/filtrations/6/RadialFiltration_25_12/gray/diagrams.npy\n",
      "Got the result from ./1/train/filtrations/6/RadialFiltration_25_12/red/diagrams.npy\n",
      "Got the result from ./1/train/filtrations/6/RadialFiltration_25_12/green/diagrams.npy\n",
      "Got the result from ./1/train/filtrations/6/RadialFiltration_25_12/blue/diagrams.npy\n",
      "Applying filtration 62/72: 6/RadialFiltration_25_25\n",
      "RGB images received. Transforming to grayscale.\n"
     ]
    },
    {
     "name": "stderr",
     "output_type": "stream",
     "text": [
      "rgb2gray: 100%|██████████| 9030/9030 [00:01<00:00, 5078.61it/s]\n"
     ]
    },
    {
     "name": "stdout",
     "output_type": "stream",
     "text": [
      "Got the result from ./1/train/filtrations/6/RadialFiltration_25_25/gray/diagrams.npy\n",
      "Got the result from ./1/train/filtrations/6/RadialFiltration_25_25/red/diagrams.npy\n",
      "Got the result from ./1/train/filtrations/6/RadialFiltration_25_25/green/diagrams.npy\n",
      "Got the result from ./1/train/filtrations/6/RadialFiltration_25_25/blue/diagrams.npy\n",
      "Applying filtration 63/72: 6/RadialFiltration_25_38\n",
      "RGB images received. Transforming to grayscale.\n"
     ]
    },
    {
     "name": "stderr",
     "output_type": "stream",
     "text": [
      "rgb2gray: 100%|██████████| 9030/9030 [00:01<00:00, 4752.74it/s]\n"
     ]
    },
    {
     "name": "stdout",
     "output_type": "stream",
     "text": [
      "Got the result from ./1/train/filtrations/6/RadialFiltration_25_38/gray/diagrams.npy\n",
      "Got the result from ./1/train/filtrations/6/RadialFiltration_25_38/red/diagrams.npy\n",
      "Got the result from ./1/train/filtrations/6/RadialFiltration_25_38/green/diagrams.npy\n",
      "Got the result from ./1/train/filtrations/6/RadialFiltration_25_38/blue/diagrams.npy\n",
      "Applying filtration 64/72: 6/RadialFiltration_25_51\n",
      "RGB images received. Transforming to grayscale.\n"
     ]
    },
    {
     "name": "stderr",
     "output_type": "stream",
     "text": [
      "rgb2gray: 100%|██████████| 9030/9030 [00:01<00:00, 5321.04it/s]\n"
     ]
    },
    {
     "name": "stdout",
     "output_type": "stream",
     "text": [
      "Got the result from ./1/train/filtrations/6/RadialFiltration_25_51/gray/diagrams.npy\n",
      "Got the result from ./1/train/filtrations/6/RadialFiltration_25_51/red/diagrams.npy\n",
      "Got the result from ./1/train/filtrations/6/RadialFiltration_25_51/green/diagrams.npy\n",
      "Got the result from ./1/train/filtrations/6/RadialFiltration_25_51/blue/diagrams.npy\n",
      "Applying filtration 65/72: 6/RadialFiltration_38_12\n",
      "RGB images received. Transforming to grayscale.\n"
     ]
    },
    {
     "name": "stderr",
     "output_type": "stream",
     "text": [
      "rgb2gray: 100%|██████████| 9030/9030 [00:01<00:00, 5256.24it/s]\n"
     ]
    },
    {
     "name": "stdout",
     "output_type": "stream",
     "text": [
      "Got the result from ./1/train/filtrations/6/RadialFiltration_38_12/gray/diagrams.npy\n",
      "Got the result from ./1/train/filtrations/6/RadialFiltration_38_12/red/diagrams.npy\n",
      "Got the result from ./1/train/filtrations/6/RadialFiltration_38_12/green/diagrams.npy\n",
      "Got the result from ./1/train/filtrations/6/RadialFiltration_38_12/blue/diagrams.npy\n",
      "Applying filtration 66/72: 6/RadialFiltration_38_25\n",
      "RGB images received. Transforming to grayscale.\n"
     ]
    },
    {
     "name": "stderr",
     "output_type": "stream",
     "text": [
      "rgb2gray: 100%|██████████| 9030/9030 [00:01<00:00, 5264.77it/s]\n"
     ]
    },
    {
     "name": "stdout",
     "output_type": "stream",
     "text": [
      "Got the result from ./1/train/filtrations/6/RadialFiltration_38_25/gray/diagrams.npy\n",
      "Got the result from ./1/train/filtrations/6/RadialFiltration_38_25/red/diagrams.npy\n",
      "Got the result from ./1/train/filtrations/6/RadialFiltration_38_25/green/diagrams.npy\n",
      "Got the result from ./1/train/filtrations/6/RadialFiltration_38_25/blue/diagrams.npy\n",
      "Applying filtration 67/72: 6/RadialFiltration_38_38\n",
      "RGB images received. Transforming to grayscale.\n"
     ]
    },
    {
     "name": "stderr",
     "output_type": "stream",
     "text": [
      "rgb2gray: 100%|██████████| 9030/9030 [00:01<00:00, 4848.30it/s]\n"
     ]
    },
    {
     "name": "stdout",
     "output_type": "stream",
     "text": [
      "Got the result from ./1/train/filtrations/6/RadialFiltration_38_38/gray/diagrams.npy\n",
      "Got the result from ./1/train/filtrations/6/RadialFiltration_38_38/red/diagrams.npy\n",
      "Got the result from ./1/train/filtrations/6/RadialFiltration_38_38/green/diagrams.npy\n",
      "Got the result from ./1/train/filtrations/6/RadialFiltration_38_38/blue/diagrams.npy\n",
      "Applying filtration 68/72: 6/RadialFiltration_38_51\n",
      "RGB images received. Transforming to grayscale.\n"
     ]
    },
    {
     "name": "stderr",
     "output_type": "stream",
     "text": [
      "rgb2gray: 100%|██████████| 9030/9030 [00:01<00:00, 5194.92it/s]\n"
     ]
    },
    {
     "name": "stdout",
     "output_type": "stream",
     "text": [
      "Got the result from ./1/train/filtrations/6/RadialFiltration_38_51/gray/diagrams.npy\n",
      "Got the result from ./1/train/filtrations/6/RadialFiltration_38_51/red/diagrams.npy\n",
      "Got the result from ./1/train/filtrations/6/RadialFiltration_38_51/green/diagrams.npy\n",
      "Got the result from ./1/train/filtrations/6/RadialFiltration_38_51/blue/diagrams.npy\n",
      "Applying filtration 69/72: 6/RadialFiltration_51_12\n",
      "RGB images received. Transforming to grayscale.\n"
     ]
    },
    {
     "name": "stderr",
     "output_type": "stream",
     "text": [
      "rgb2gray: 100%|██████████| 9030/9030 [00:01<00:00, 4965.61it/s]\n"
     ]
    },
    {
     "name": "stdout",
     "output_type": "stream",
     "text": [
      "Got the result from ./1/train/filtrations/6/RadialFiltration_51_12/gray/diagrams.npy\n",
      "Got the result from ./1/train/filtrations/6/RadialFiltration_51_12/red/diagrams.npy\n",
      "Got the result from ./1/train/filtrations/6/RadialFiltration_51_12/green/diagrams.npy\n",
      "Got the result from ./1/train/filtrations/6/RadialFiltration_51_12/blue/diagrams.npy\n",
      "Applying filtration 70/72: 6/RadialFiltration_51_25\n",
      "RGB images received. Transforming to grayscale.\n"
     ]
    },
    {
     "name": "stderr",
     "output_type": "stream",
     "text": [
      "rgb2gray: 100%|██████████| 9030/9030 [00:01<00:00, 4721.25it/s]\n"
     ]
    },
    {
     "name": "stdout",
     "output_type": "stream",
     "text": [
      "Got the result from ./1/train/filtrations/6/RadialFiltration_51_25/gray/diagrams.npy\n",
      "Got the result from ./1/train/filtrations/6/RadialFiltration_51_25/red/diagrams.npy\n",
      "Got the result from ./1/train/filtrations/6/RadialFiltration_51_25/green/diagrams.npy\n",
      "Got the result from ./1/train/filtrations/6/RadialFiltration_51_25/blue/diagrams.npy\n",
      "Applying filtration 71/72: 6/RadialFiltration_51_38\n",
      "RGB images received. Transforming to grayscale.\n"
     ]
    },
    {
     "name": "stderr",
     "output_type": "stream",
     "text": [
      "rgb2gray: 100%|██████████| 9030/9030 [00:01<00:00, 4873.07it/s]\n"
     ]
    },
    {
     "name": "stdout",
     "output_type": "stream",
     "text": [
      "Got the result from ./1/train/filtrations/6/RadialFiltration_51_38/gray/diagrams.npy\n",
      "Got the result from ./1/train/filtrations/6/RadialFiltration_51_38/red/diagrams.npy\n",
      "Got the result from ./1/train/filtrations/6/RadialFiltration_51_38/green/diagrams.npy\n",
      "Got the result from ./1/train/filtrations/6/RadialFiltration_51_38/blue/diagrams.npy\n",
      "Applying filtration 72/72: 6/RadialFiltration_51_51\n",
      "RGB images received. Transforming to grayscale.\n"
     ]
    },
    {
     "name": "stderr",
     "output_type": "stream",
     "text": [
      "rgb2gray: 100%|██████████| 9030/9030 [00:01<00:00, 5081.60it/s]\n"
     ]
    },
    {
     "name": "stdout",
     "output_type": "stream",
     "text": [
      "Got the result from ./1/train/filtrations/6/RadialFiltration_51_51/gray/diagrams.npy\n",
      "Got the result from ./1/train/filtrations/6/RadialFiltration_51_51/red/diagrams.npy\n",
      "Got the result from ./1/train/filtrations/6/RadialFiltration_51_51/green/diagrams.npy\n",
      "Got the result from ./1/train/filtrations/6/RadialFiltration_51_51/blue/diagrams.npy\n",
      "Diagrams requested. Returning diagrams.\n",
      "Calculating inverted images\n",
      "RGB images received. Transforming to grayscale.\n"
     ]
    },
    {
     "name": "stderr",
     "output_type": "stream",
     "text": [
      "rgb2gray: 100%|██████████| 9030/9030 [00:01<00:00, 5786.30it/s]\n"
     ]
    },
    {
     "name": "stdout",
     "output_type": "stream",
     "text": [
      "Got the result from ./1/train/greyscale/gray/diagrams.npy\n",
      "Got the result from ./1/train/greyscale/red/diagrams.npy\n",
      "Got the result from ./1/train/greyscale/green/diagrams.npy\n",
      "Got the result from ./1/train/greyscale/blue/diagrams.npy\n",
      "RGB images received. Transforming to grayscale.\n"
     ]
    },
    {
     "name": "stderr",
     "output_type": "stream",
     "text": [
      "rgb2gray: 100%|██████████| 9030/9030 [00:01<00:00, 5890.40it/s]\n"
     ]
    },
    {
     "name": "stdout",
     "output_type": "stream",
     "text": [
      "Got the result from ./1/train/inverted_greyscale/gray/diagrams.npy\n",
      "Got the result from ./1/train/inverted_greyscale/red/diagrams.npy\n",
      "Got the result from ./1/train/inverted_greyscale/green/diagrams.npy\n",
      "Got the result from ./1/train/inverted_greyscale/blue/diagrams.npy\n",
      "Applying filtrations\n",
      "Applying filtration 1/72: 2/HeightFiltrartion_-1_-1\n",
      "RGB images received. Transforming to grayscale.\n"
     ]
    },
    {
     "name": "stderr",
     "output_type": "stream",
     "text": [
      "rgb2gray: 100%|██████████| 9030/9030 [00:01<00:00, 5934.89it/s]\n"
     ]
    },
    {
     "name": "stdout",
     "output_type": "stream",
     "text": [
      "Got the result from ./1/train/filtrations/2/HeightFiltrartion_-1_-1/gray/diagrams.npy\n",
      "Got the result from ./1/train/filtrations/2/HeightFiltrartion_-1_-1/red/diagrams.npy\n",
      "Got the result from ./1/train/filtrations/2/HeightFiltrartion_-1_-1/green/diagrams.npy\n",
      "Got the result from ./1/train/filtrations/2/HeightFiltrartion_-1_-1/blue/diagrams.npy\n",
      "Applying filtration 2/72: 2/HeightFiltrartion_1_1\n",
      "RGB images received. Transforming to grayscale.\n"
     ]
    },
    {
     "name": "stderr",
     "output_type": "stream",
     "text": [
      "rgb2gray: 100%|██████████| 9030/9030 [00:01<00:00, 5720.42it/s]\n"
     ]
    },
    {
     "name": "stdout",
     "output_type": "stream",
     "text": [
      "Got the result from ./1/train/filtrations/2/HeightFiltrartion_1_1/gray/diagrams.npy\n",
      "Got the result from ./1/train/filtrations/2/HeightFiltrartion_1_1/red/diagrams.npy\n",
      "Got the result from ./1/train/filtrations/2/HeightFiltrartion_1_1/green/diagrams.npy\n",
      "Got the result from ./1/train/filtrations/2/HeightFiltrartion_1_1/blue/diagrams.npy\n",
      "Applying filtration 3/72: 2/HeightFiltrartion_1_-1\n",
      "RGB images received. Transforming to grayscale.\n"
     ]
    },
    {
     "name": "stderr",
     "output_type": "stream",
     "text": [
      "rgb2gray: 100%|██████████| 9030/9030 [00:01<00:00, 5243.89it/s]\n"
     ]
    },
    {
     "name": "stdout",
     "output_type": "stream",
     "text": [
      "Got the result from ./1/train/filtrations/2/HeightFiltrartion_1_-1/gray/diagrams.npy\n",
      "Got the result from ./1/train/filtrations/2/HeightFiltrartion_1_-1/red/diagrams.npy\n",
      "Got the result from ./1/train/filtrations/2/HeightFiltrartion_1_-1/green/diagrams.npy\n",
      "Got the result from ./1/train/filtrations/2/HeightFiltrartion_1_-1/blue/diagrams.npy\n",
      "Applying filtration 4/72: 2/HeightFiltrartion_-1_1\n",
      "RGB images received. Transforming to grayscale.\n"
     ]
    },
    {
     "name": "stderr",
     "output_type": "stream",
     "text": [
      "rgb2gray: 100%|██████████| 9030/9030 [00:01<00:00, 5605.34it/s]\n"
     ]
    },
    {
     "name": "stdout",
     "output_type": "stream",
     "text": [
      "Got the result from ./1/train/filtrations/2/HeightFiltrartion_-1_1/gray/diagrams.npy\n",
      "Got the result from ./1/train/filtrations/2/HeightFiltrartion_-1_1/red/diagrams.npy\n",
      "Got the result from ./1/train/filtrations/2/HeightFiltrartion_-1_1/green/diagrams.npy\n",
      "Got the result from ./1/train/filtrations/2/HeightFiltrartion_-1_1/blue/diagrams.npy\n",
      "Applying filtration 5/72: 2/HeightFiltrartion_0_-1\n",
      "RGB images received. Transforming to grayscale.\n"
     ]
    },
    {
     "name": "stderr",
     "output_type": "stream",
     "text": [
      "rgb2gray: 100%|██████████| 9030/9030 [00:01<00:00, 5397.60it/s]\n"
     ]
    },
    {
     "name": "stdout",
     "output_type": "stream",
     "text": [
      "Got the result from ./1/train/filtrations/2/HeightFiltrartion_0_-1/gray/diagrams.npy\n",
      "Got the result from ./1/train/filtrations/2/HeightFiltrartion_0_-1/red/diagrams.npy\n",
      "Got the result from ./1/train/filtrations/2/HeightFiltrartion_0_-1/green/diagrams.npy\n",
      "Got the result from ./1/train/filtrations/2/HeightFiltrartion_0_-1/blue/diagrams.npy\n",
      "Applying filtration 6/72: 2/HeightFiltrartion_0_1\n",
      "RGB images received. Transforming to grayscale.\n"
     ]
    },
    {
     "name": "stderr",
     "output_type": "stream",
     "text": [
      "rgb2gray: 100%|██████████| 9030/9030 [00:01<00:00, 4534.25it/s]\n"
     ]
    },
    {
     "name": "stdout",
     "output_type": "stream",
     "text": [
      "Got the result from ./1/train/filtrations/2/HeightFiltrartion_0_1/gray/diagrams.npy\n",
      "Got the result from ./1/train/filtrations/2/HeightFiltrartion_0_1/red/diagrams.npy\n",
      "Got the result from ./1/train/filtrations/2/HeightFiltrartion_0_1/green/diagrams.npy\n",
      "Got the result from ./1/train/filtrations/2/HeightFiltrartion_0_1/blue/diagrams.npy\n",
      "Applying filtration 7/72: 2/HeightFiltrartion_-1_0\n",
      "RGB images received. Transforming to grayscale.\n"
     ]
    },
    {
     "name": "stderr",
     "output_type": "stream",
     "text": [
      "rgb2gray: 100%|██████████| 9030/9030 [00:01<00:00, 5157.06it/s]\n"
     ]
    },
    {
     "name": "stdout",
     "output_type": "stream",
     "text": [
      "Got the result from ./1/train/filtrations/2/HeightFiltrartion_-1_0/gray/diagrams.npy\n",
      "Got the result from ./1/train/filtrations/2/HeightFiltrartion_-1_0/red/diagrams.npy\n",
      "Got the result from ./1/train/filtrations/2/HeightFiltrartion_-1_0/green/diagrams.npy\n",
      "Got the result from ./1/train/filtrations/2/HeightFiltrartion_-1_0/blue/diagrams.npy\n",
      "Applying filtration 8/72: 2/HeightFiltrartion_1_0\n",
      "RGB images received. Transforming to grayscale.\n"
     ]
    },
    {
     "name": "stderr",
     "output_type": "stream",
     "text": [
      "rgb2gray: 100%|██████████| 9030/9030 [00:01<00:00, 5039.83it/s]\n"
     ]
    },
    {
     "name": "stdout",
     "output_type": "stream",
     "text": [
      "Got the result from ./1/train/filtrations/2/HeightFiltrartion_1_0/gray/diagrams.npy\n",
      "Got the result from ./1/train/filtrations/2/HeightFiltrartion_1_0/red/diagrams.npy\n",
      "Got the result from ./1/train/filtrations/2/HeightFiltrartion_1_0/green/diagrams.npy\n",
      "Got the result from ./1/train/filtrations/2/HeightFiltrartion_1_0/blue/diagrams.npy\n",
      "Applying filtration 9/72: 2/RadialFiltration_12_12\n",
      "RGB images received. Transforming to grayscale.\n"
     ]
    },
    {
     "name": "stderr",
     "output_type": "stream",
     "text": [
      "rgb2gray: 100%|██████████| 9030/9030 [00:01<00:00, 5341.31it/s]\n"
     ]
    },
    {
     "name": "stdout",
     "output_type": "stream",
     "text": [
      "Got the result from ./1/train/filtrations/2/RadialFiltration_12_12/gray/diagrams.npy\n",
      "Got the result from ./1/train/filtrations/2/RadialFiltration_12_12/red/diagrams.npy\n",
      "Got the result from ./1/train/filtrations/2/RadialFiltration_12_12/green/diagrams.npy\n",
      "Got the result from ./1/train/filtrations/2/RadialFiltration_12_12/blue/diagrams.npy\n",
      "Applying filtration 10/72: 2/RadialFiltration_12_25\n",
      "RGB images received. Transforming to grayscale.\n"
     ]
    },
    {
     "name": "stderr",
     "output_type": "stream",
     "text": [
      "rgb2gray: 100%|██████████| 9030/9030 [00:01<00:00, 5384.32it/s]\n"
     ]
    },
    {
     "name": "stdout",
     "output_type": "stream",
     "text": [
      "Got the result from ./1/train/filtrations/2/RadialFiltration_12_25/gray/diagrams.npy\n",
      "Got the result from ./1/train/filtrations/2/RadialFiltration_12_25/red/diagrams.npy\n",
      "Got the result from ./1/train/filtrations/2/RadialFiltration_12_25/green/diagrams.npy\n",
      "Got the result from ./1/train/filtrations/2/RadialFiltration_12_25/blue/diagrams.npy\n",
      "Applying filtration 11/72: 2/RadialFiltration_12_38\n",
      "RGB images received. Transforming to grayscale.\n"
     ]
    },
    {
     "name": "stderr",
     "output_type": "stream",
     "text": [
      "rgb2gray: 100%|██████████| 9030/9030 [00:01<00:00, 5496.05it/s]\n"
     ]
    },
    {
     "name": "stdout",
     "output_type": "stream",
     "text": [
      "Got the result from ./1/train/filtrations/2/RadialFiltration_12_38/gray/diagrams.npy\n",
      "Got the result from ./1/train/filtrations/2/RadialFiltration_12_38/red/diagrams.npy\n",
      "Got the result from ./1/train/filtrations/2/RadialFiltration_12_38/green/diagrams.npy\n",
      "Got the result from ./1/train/filtrations/2/RadialFiltration_12_38/blue/diagrams.npy\n",
      "Applying filtration 12/72: 2/RadialFiltration_12_51\n",
      "RGB images received. Transforming to grayscale.\n"
     ]
    },
    {
     "name": "stderr",
     "output_type": "stream",
     "text": [
      "rgb2gray: 100%|██████████| 9030/9030 [00:01<00:00, 5362.23it/s]\n"
     ]
    },
    {
     "name": "stdout",
     "output_type": "stream",
     "text": [
      "Got the result from ./1/train/filtrations/2/RadialFiltration_12_51/gray/diagrams.npy\n",
      "Got the result from ./1/train/filtrations/2/RadialFiltration_12_51/red/diagrams.npy\n",
      "Got the result from ./1/train/filtrations/2/RadialFiltration_12_51/green/diagrams.npy\n",
      "Got the result from ./1/train/filtrations/2/RadialFiltration_12_51/blue/diagrams.npy\n",
      "Applying filtration 13/72: 2/RadialFiltration_25_12\n",
      "RGB images received. Transforming to grayscale.\n"
     ]
    },
    {
     "name": "stderr",
     "output_type": "stream",
     "text": [
      "rgb2gray: 100%|██████████| 9030/9030 [00:01<00:00, 5214.85it/s]\n"
     ]
    },
    {
     "name": "stdout",
     "output_type": "stream",
     "text": [
      "Got the result from ./1/train/filtrations/2/RadialFiltration_25_12/gray/diagrams.npy\n",
      "Got the result from ./1/train/filtrations/2/RadialFiltration_25_12/red/diagrams.npy\n",
      "Got the result from ./1/train/filtrations/2/RadialFiltration_25_12/green/diagrams.npy\n",
      "Got the result from ./1/train/filtrations/2/RadialFiltration_25_12/blue/diagrams.npy\n",
      "Applying filtration 14/72: 2/RadialFiltration_25_25\n",
      "RGB images received. Transforming to grayscale.\n"
     ]
    },
    {
     "name": "stderr",
     "output_type": "stream",
     "text": [
      "rgb2gray: 100%|██████████| 9030/9030 [00:01<00:00, 5852.22it/s]\n"
     ]
    },
    {
     "name": "stdout",
     "output_type": "stream",
     "text": [
      "Got the result from ./1/train/filtrations/2/RadialFiltration_25_25/gray/diagrams.npy\n",
      "Got the result from ./1/train/filtrations/2/RadialFiltration_25_25/red/diagrams.npy\n",
      "Got the result from ./1/train/filtrations/2/RadialFiltration_25_25/green/diagrams.npy\n",
      "Got the result from ./1/train/filtrations/2/RadialFiltration_25_25/blue/diagrams.npy\n",
      "Applying filtration 15/72: 2/RadialFiltration_25_38\n",
      "RGB images received. Transforming to grayscale.\n"
     ]
    },
    {
     "name": "stderr",
     "output_type": "stream",
     "text": [
      "rgb2gray: 100%|██████████| 9030/9030 [00:01<00:00, 5096.04it/s]\n"
     ]
    },
    {
     "name": "stdout",
     "output_type": "stream",
     "text": [
      "Got the result from ./1/train/filtrations/2/RadialFiltration_25_38/gray/diagrams.npy\n",
      "Got the result from ./1/train/filtrations/2/RadialFiltration_25_38/red/diagrams.npy\n",
      "Got the result from ./1/train/filtrations/2/RadialFiltration_25_38/green/diagrams.npy\n",
      "Got the result from ./1/train/filtrations/2/RadialFiltration_25_38/blue/diagrams.npy\n",
      "Applying filtration 16/72: 2/RadialFiltration_25_51\n",
      "RGB images received. Transforming to grayscale.\n"
     ]
    },
    {
     "name": "stderr",
     "output_type": "stream",
     "text": [
      "rgb2gray: 100%|██████████| 9030/9030 [00:01<00:00, 4913.98it/s]\n"
     ]
    },
    {
     "name": "stdout",
     "output_type": "stream",
     "text": [
      "Got the result from ./1/train/filtrations/2/RadialFiltration_25_51/gray/diagrams.npy\n",
      "Got the result from ./1/train/filtrations/2/RadialFiltration_25_51/red/diagrams.npy\n",
      "Got the result from ./1/train/filtrations/2/RadialFiltration_25_51/green/diagrams.npy\n",
      "Got the result from ./1/train/filtrations/2/RadialFiltration_25_51/blue/diagrams.npy\n",
      "Applying filtration 17/72: 2/RadialFiltration_38_12\n",
      "RGB images received. Transforming to grayscale.\n"
     ]
    },
    {
     "name": "stderr",
     "output_type": "stream",
     "text": [
      "rgb2gray: 100%|██████████| 9030/9030 [00:01<00:00, 5760.85it/s]\n"
     ]
    },
    {
     "name": "stdout",
     "output_type": "stream",
     "text": [
      "Got the result from ./1/train/filtrations/2/RadialFiltration_38_12/gray/diagrams.npy\n",
      "Got the result from ./1/train/filtrations/2/RadialFiltration_38_12/red/diagrams.npy\n",
      "Got the result from ./1/train/filtrations/2/RadialFiltration_38_12/green/diagrams.npy\n",
      "Got the result from ./1/train/filtrations/2/RadialFiltration_38_12/blue/diagrams.npy\n",
      "Applying filtration 18/72: 2/RadialFiltration_38_25\n",
      "RGB images received. Transforming to grayscale.\n"
     ]
    },
    {
     "name": "stderr",
     "output_type": "stream",
     "text": [
      "rgb2gray: 100%|██████████| 9030/9030 [00:01<00:00, 5327.43it/s] \n"
     ]
    },
    {
     "name": "stdout",
     "output_type": "stream",
     "text": [
      "Got the result from ./1/train/filtrations/2/RadialFiltration_38_25/gray/diagrams.npy\n",
      "Got the result from ./1/train/filtrations/2/RadialFiltration_38_25/red/diagrams.npy\n",
      "Got the result from ./1/train/filtrations/2/RadialFiltration_38_25/green/diagrams.npy\n",
      "Got the result from ./1/train/filtrations/2/RadialFiltration_38_25/blue/diagrams.npy\n",
      "Applying filtration 19/72: 2/RadialFiltration_38_38\n",
      "RGB images received. Transforming to grayscale.\n"
     ]
    },
    {
     "name": "stderr",
     "output_type": "stream",
     "text": [
      "rgb2gray: 100%|██████████| 9030/9030 [00:01<00:00, 5068.73it/s]\n"
     ]
    },
    {
     "name": "stdout",
     "output_type": "stream",
     "text": [
      "Got the result from ./1/train/filtrations/2/RadialFiltration_38_38/gray/diagrams.npy\n",
      "Got the result from ./1/train/filtrations/2/RadialFiltration_38_38/red/diagrams.npy\n",
      "Got the result from ./1/train/filtrations/2/RadialFiltration_38_38/green/diagrams.npy\n",
      "Got the result from ./1/train/filtrations/2/RadialFiltration_38_38/blue/diagrams.npy\n",
      "Applying filtration 20/72: 2/RadialFiltration_38_51\n",
      "RGB images received. Transforming to grayscale.\n"
     ]
    },
    {
     "name": "stderr",
     "output_type": "stream",
     "text": [
      "rgb2gray: 100%|██████████| 9030/9030 [00:01<00:00, 5386.19it/s]\n"
     ]
    },
    {
     "name": "stdout",
     "output_type": "stream",
     "text": [
      "Got the result from ./1/train/filtrations/2/RadialFiltration_38_51/gray/diagrams.npy\n",
      "Got the result from ./1/train/filtrations/2/RadialFiltration_38_51/red/diagrams.npy\n",
      "Got the result from ./1/train/filtrations/2/RadialFiltration_38_51/green/diagrams.npy\n",
      "Got the result from ./1/train/filtrations/2/RadialFiltration_38_51/blue/diagrams.npy\n",
      "Applying filtration 21/72: 2/RadialFiltration_51_12\n",
      "RGB images received. Transforming to grayscale.\n"
     ]
    },
    {
     "name": "stderr",
     "output_type": "stream",
     "text": [
      "rgb2gray: 100%|██████████| 9030/9030 [00:01<00:00, 5359.09it/s]\n"
     ]
    },
    {
     "name": "stdout",
     "output_type": "stream",
     "text": [
      "Got the result from ./1/train/filtrations/2/RadialFiltration_51_12/gray/diagrams.npy\n",
      "Got the result from ./1/train/filtrations/2/RadialFiltration_51_12/red/diagrams.npy\n",
      "Got the result from ./1/train/filtrations/2/RadialFiltration_51_12/green/diagrams.npy\n",
      "Got the result from ./1/train/filtrations/2/RadialFiltration_51_12/blue/diagrams.npy\n",
      "Applying filtration 22/72: 2/RadialFiltration_51_25\n",
      "RGB images received. Transforming to grayscale.\n"
     ]
    },
    {
     "name": "stderr",
     "output_type": "stream",
     "text": [
      "rgb2gray: 100%|██████████| 9030/9030 [00:01<00:00, 5262.24it/s] \n"
     ]
    },
    {
     "name": "stdout",
     "output_type": "stream",
     "text": [
      "Got the result from ./1/train/filtrations/2/RadialFiltration_51_25/gray/diagrams.npy\n",
      "Got the result from ./1/train/filtrations/2/RadialFiltration_51_25/red/diagrams.npy\n",
      "Got the result from ./1/train/filtrations/2/RadialFiltration_51_25/green/diagrams.npy\n",
      "Got the result from ./1/train/filtrations/2/RadialFiltration_51_25/blue/diagrams.npy\n",
      "Applying filtration 23/72: 2/RadialFiltration_51_38\n",
      "RGB images received. Transforming to grayscale.\n"
     ]
    },
    {
     "name": "stderr",
     "output_type": "stream",
     "text": [
      "rgb2gray: 100%|██████████| 9030/9030 [00:01<00:00, 5582.66it/s]\n"
     ]
    },
    {
     "name": "stdout",
     "output_type": "stream",
     "text": [
      "Got the result from ./1/train/filtrations/2/RadialFiltration_51_38/gray/diagrams.npy\n",
      "Got the result from ./1/train/filtrations/2/RadialFiltration_51_38/red/diagrams.npy\n",
      "Got the result from ./1/train/filtrations/2/RadialFiltration_51_38/green/diagrams.npy\n",
      "Got the result from ./1/train/filtrations/2/RadialFiltration_51_38/blue/diagrams.npy\n",
      "Applying filtration 24/72: 2/RadialFiltration_51_51\n",
      "RGB images received. Transforming to grayscale.\n"
     ]
    },
    {
     "name": "stderr",
     "output_type": "stream",
     "text": [
      "rgb2gray: 100%|██████████| 9030/9030 [00:01<00:00, 5608.74it/s]\n"
     ]
    },
    {
     "name": "stdout",
     "output_type": "stream",
     "text": [
      "Got the result from ./1/train/filtrations/2/RadialFiltration_51_51/gray/diagrams.npy\n",
      "Got the result from ./1/train/filtrations/2/RadialFiltration_51_51/red/diagrams.npy\n",
      "Got the result from ./1/train/filtrations/2/RadialFiltration_51_51/green/diagrams.npy\n",
      "Got the result from ./1/train/filtrations/2/RadialFiltration_51_51/blue/diagrams.npy\n",
      "Applying filtration 25/72: 4/HeightFiltrartion_-1_-1\n",
      "RGB images received. Transforming to grayscale.\n"
     ]
    },
    {
     "name": "stderr",
     "output_type": "stream",
     "text": [
      "rgb2gray: 100%|██████████| 9030/9030 [00:01<00:00, 5316.43it/s]\n"
     ]
    },
    {
     "name": "stdout",
     "output_type": "stream",
     "text": [
      "Got the result from ./1/train/filtrations/4/HeightFiltrartion_-1_-1/gray/diagrams.npy\n",
      "Got the result from ./1/train/filtrations/4/HeightFiltrartion_-1_-1/red/diagrams.npy\n",
      "Got the result from ./1/train/filtrations/4/HeightFiltrartion_-1_-1/green/diagrams.npy\n",
      "Got the result from ./1/train/filtrations/4/HeightFiltrartion_-1_-1/blue/diagrams.npy\n",
      "Applying filtration 26/72: 4/HeightFiltrartion_1_1\n",
      "RGB images received. Transforming to grayscale.\n"
     ]
    },
    {
     "name": "stderr",
     "output_type": "stream",
     "text": [
      "rgb2gray: 100%|██████████| 9030/9030 [00:01<00:00, 5825.81it/s]\n"
     ]
    },
    {
     "name": "stdout",
     "output_type": "stream",
     "text": [
      "Got the result from ./1/train/filtrations/4/HeightFiltrartion_1_1/gray/diagrams.npy\n",
      "Got the result from ./1/train/filtrations/4/HeightFiltrartion_1_1/red/diagrams.npy\n",
      "Got the result from ./1/train/filtrations/4/HeightFiltrartion_1_1/green/diagrams.npy\n",
      "Got the result from ./1/train/filtrations/4/HeightFiltrartion_1_1/blue/diagrams.npy\n",
      "Applying filtration 27/72: 4/HeightFiltrartion_1_-1\n",
      "RGB images received. Transforming to grayscale.\n"
     ]
    },
    {
     "name": "stderr",
     "output_type": "stream",
     "text": [
      "rgb2gray: 100%|██████████| 9030/9030 [00:01<00:00, 5426.65it/s]\n"
     ]
    },
    {
     "name": "stdout",
     "output_type": "stream",
     "text": [
      "Got the result from ./1/train/filtrations/4/HeightFiltrartion_1_-1/gray/diagrams.npy\n",
      "Got the result from ./1/train/filtrations/4/HeightFiltrartion_1_-1/red/diagrams.npy\n",
      "Got the result from ./1/train/filtrations/4/HeightFiltrartion_1_-1/green/diagrams.npy\n",
      "Got the result from ./1/train/filtrations/4/HeightFiltrartion_1_-1/blue/diagrams.npy\n",
      "Applying filtration 28/72: 4/HeightFiltrartion_-1_1\n",
      "RGB images received. Transforming to grayscale.\n"
     ]
    },
    {
     "name": "stderr",
     "output_type": "stream",
     "text": [
      "rgb2gray: 100%|██████████| 9030/9030 [00:01<00:00, 5652.00it/s]\n"
     ]
    },
    {
     "name": "stdout",
     "output_type": "stream",
     "text": [
      "Got the result from ./1/train/filtrations/4/HeightFiltrartion_-1_1/gray/diagrams.npy\n",
      "Got the result from ./1/train/filtrations/4/HeightFiltrartion_-1_1/red/diagrams.npy\n",
      "Got the result from ./1/train/filtrations/4/HeightFiltrartion_-1_1/green/diagrams.npy\n",
      "Got the result from ./1/train/filtrations/4/HeightFiltrartion_-1_1/blue/diagrams.npy\n",
      "Applying filtration 29/72: 4/HeightFiltrartion_0_-1\n",
      "RGB images received. Transforming to grayscale.\n"
     ]
    },
    {
     "name": "stderr",
     "output_type": "stream",
     "text": [
      "rgb2gray: 100%|██████████| 9030/9030 [00:01<00:00, 4857.04it/s]\n"
     ]
    },
    {
     "name": "stdout",
     "output_type": "stream",
     "text": [
      "Got the result from ./1/train/filtrations/4/HeightFiltrartion_0_-1/gray/diagrams.npy\n",
      "Got the result from ./1/train/filtrations/4/HeightFiltrartion_0_-1/red/diagrams.npy\n",
      "Got the result from ./1/train/filtrations/4/HeightFiltrartion_0_-1/green/diagrams.npy\n",
      "Got the result from ./1/train/filtrations/4/HeightFiltrartion_0_-1/blue/diagrams.npy\n",
      "Applying filtration 30/72: 4/HeightFiltrartion_0_1\n",
      "RGB images received. Transforming to grayscale.\n"
     ]
    },
    {
     "name": "stderr",
     "output_type": "stream",
     "text": [
      "rgb2gray: 100%|██████████| 9030/9030 [00:01<00:00, 5490.88it/s]\n"
     ]
    },
    {
     "name": "stdout",
     "output_type": "stream",
     "text": [
      "Got the result from ./1/train/filtrations/4/HeightFiltrartion_0_1/gray/diagrams.npy\n",
      "Got the result from ./1/train/filtrations/4/HeightFiltrartion_0_1/red/diagrams.npy\n",
      "Got the result from ./1/train/filtrations/4/HeightFiltrartion_0_1/green/diagrams.npy\n",
      "Got the result from ./1/train/filtrations/4/HeightFiltrartion_0_1/blue/diagrams.npy\n",
      "Applying filtration 31/72: 4/HeightFiltrartion_-1_0\n",
      "RGB images received. Transforming to grayscale.\n"
     ]
    },
    {
     "name": "stderr",
     "output_type": "stream",
     "text": [
      "rgb2gray: 100%|██████████| 9030/9030 [00:01<00:00, 5251.39it/s]\n"
     ]
    },
    {
     "name": "stdout",
     "output_type": "stream",
     "text": [
      "Got the result from ./1/train/filtrations/4/HeightFiltrartion_-1_0/gray/diagrams.npy\n",
      "Got the result from ./1/train/filtrations/4/HeightFiltrartion_-1_0/red/diagrams.npy\n",
      "Got the result from ./1/train/filtrations/4/HeightFiltrartion_-1_0/green/diagrams.npy\n",
      "Got the result from ./1/train/filtrations/4/HeightFiltrartion_-1_0/blue/diagrams.npy\n",
      "Applying filtration 32/72: 4/HeightFiltrartion_1_0\n",
      "RGB images received. Transforming to grayscale.\n"
     ]
    },
    {
     "name": "stderr",
     "output_type": "stream",
     "text": [
      "rgb2gray: 100%|██████████| 9030/9030 [00:01<00:00, 5022.24it/s]\n"
     ]
    },
    {
     "name": "stdout",
     "output_type": "stream",
     "text": [
      "Got the result from ./1/train/filtrations/4/HeightFiltrartion_1_0/gray/diagrams.npy\n",
      "Got the result from ./1/train/filtrations/4/HeightFiltrartion_1_0/red/diagrams.npy\n",
      "Got the result from ./1/train/filtrations/4/HeightFiltrartion_1_0/green/diagrams.npy\n",
      "Got the result from ./1/train/filtrations/4/HeightFiltrartion_1_0/blue/diagrams.npy\n",
      "Applying filtration 33/72: 4/RadialFiltration_12_12\n",
      "RGB images received. Transforming to grayscale.\n"
     ]
    },
    {
     "name": "stderr",
     "output_type": "stream",
     "text": [
      "rgb2gray: 100%|██████████| 9030/9030 [00:01<00:00, 5222.68it/s]\n"
     ]
    },
    {
     "name": "stdout",
     "output_type": "stream",
     "text": [
      "Got the result from ./1/train/filtrations/4/RadialFiltration_12_12/gray/diagrams.npy\n",
      "Got the result from ./1/train/filtrations/4/RadialFiltration_12_12/red/diagrams.npy\n",
      "Got the result from ./1/train/filtrations/4/RadialFiltration_12_12/green/diagrams.npy\n",
      "Got the result from ./1/train/filtrations/4/RadialFiltration_12_12/blue/diagrams.npy\n",
      "Applying filtration 34/72: 4/RadialFiltration_12_25\n",
      "RGB images received. Transforming to grayscale.\n"
     ]
    },
    {
     "name": "stderr",
     "output_type": "stream",
     "text": [
      "rgb2gray: 100%|██████████| 9030/9030 [00:01<00:00, 4594.90it/s]\n"
     ]
    },
    {
     "name": "stdout",
     "output_type": "stream",
     "text": [
      "Got the result from ./1/train/filtrations/4/RadialFiltration_12_25/gray/diagrams.npy\n",
      "Got the result from ./1/train/filtrations/4/RadialFiltration_12_25/red/diagrams.npy\n",
      "Got the result from ./1/train/filtrations/4/RadialFiltration_12_25/green/diagrams.npy\n",
      "Got the result from ./1/train/filtrations/4/RadialFiltration_12_25/blue/diagrams.npy\n",
      "Applying filtration 35/72: 4/RadialFiltration_12_38\n",
      "RGB images received. Transforming to grayscale.\n"
     ]
    },
    {
     "name": "stderr",
     "output_type": "stream",
     "text": [
      "rgb2gray: 100%|██████████| 9030/9030 [00:01<00:00, 5142.50it/s]\n"
     ]
    },
    {
     "name": "stdout",
     "output_type": "stream",
     "text": [
      "Got the result from ./1/train/filtrations/4/RadialFiltration_12_38/gray/diagrams.npy\n",
      "Got the result from ./1/train/filtrations/4/RadialFiltration_12_38/red/diagrams.npy\n",
      "Got the result from ./1/train/filtrations/4/RadialFiltration_12_38/green/diagrams.npy\n",
      "Got the result from ./1/train/filtrations/4/RadialFiltration_12_38/blue/diagrams.npy\n",
      "Applying filtration 36/72: 4/RadialFiltration_12_51\n",
      "RGB images received. Transforming to grayscale.\n"
     ]
    },
    {
     "name": "stderr",
     "output_type": "stream",
     "text": [
      "rgb2gray: 100%|██████████| 9030/9030 [00:01<00:00, 5482.97it/s]\n"
     ]
    },
    {
     "name": "stdout",
     "output_type": "stream",
     "text": [
      "Got the result from ./1/train/filtrations/4/RadialFiltration_12_51/gray/diagrams.npy\n",
      "Got the result from ./1/train/filtrations/4/RadialFiltration_12_51/red/diagrams.npy\n",
      "Got the result from ./1/train/filtrations/4/RadialFiltration_12_51/green/diagrams.npy\n",
      "Got the result from ./1/train/filtrations/4/RadialFiltration_12_51/blue/diagrams.npy\n",
      "Applying filtration 37/72: 4/RadialFiltration_25_12\n",
      "RGB images received. Transforming to grayscale.\n"
     ]
    },
    {
     "name": "stderr",
     "output_type": "stream",
     "text": [
      "rgb2gray: 100%|██████████| 9030/9030 [00:01<00:00, 4664.26it/s]\n"
     ]
    },
    {
     "name": "stdout",
     "output_type": "stream",
     "text": [
      "Got the result from ./1/train/filtrations/4/RadialFiltration_25_12/gray/diagrams.npy\n",
      "Got the result from ./1/train/filtrations/4/RadialFiltration_25_12/red/diagrams.npy\n",
      "Got the result from ./1/train/filtrations/4/RadialFiltration_25_12/green/diagrams.npy\n",
      "Got the result from ./1/train/filtrations/4/RadialFiltration_25_12/blue/diagrams.npy\n",
      "Applying filtration 38/72: 4/RadialFiltration_25_25\n",
      "RGB images received. Transforming to grayscale.\n"
     ]
    },
    {
     "name": "stderr",
     "output_type": "stream",
     "text": [
      "rgb2gray: 100%|██████████| 9030/9030 [00:01<00:00, 5300.82it/s]\n"
     ]
    },
    {
     "name": "stdout",
     "output_type": "stream",
     "text": [
      "Got the result from ./1/train/filtrations/4/RadialFiltration_25_25/gray/diagrams.npy\n",
      "Got the result from ./1/train/filtrations/4/RadialFiltration_25_25/red/diagrams.npy\n",
      "Got the result from ./1/train/filtrations/4/RadialFiltration_25_25/green/diagrams.npy\n",
      "Got the result from ./1/train/filtrations/4/RadialFiltration_25_25/blue/diagrams.npy\n",
      "Applying filtration 39/72: 4/RadialFiltration_25_38\n",
      "RGB images received. Transforming to grayscale.\n"
     ]
    },
    {
     "name": "stderr",
     "output_type": "stream",
     "text": [
      "rgb2gray: 100%|██████████| 9030/9030 [00:01<00:00, 5366.86it/s]\n"
     ]
    },
    {
     "name": "stdout",
     "output_type": "stream",
     "text": [
      "Got the result from ./1/train/filtrations/4/RadialFiltration_25_38/gray/diagrams.npy\n",
      "Got the result from ./1/train/filtrations/4/RadialFiltration_25_38/red/diagrams.npy\n",
      "Got the result from ./1/train/filtrations/4/RadialFiltration_25_38/green/diagrams.npy\n",
      "Got the result from ./1/train/filtrations/4/RadialFiltration_25_38/blue/diagrams.npy\n",
      "Applying filtration 40/72: 4/RadialFiltration_25_51\n",
      "RGB images received. Transforming to grayscale.\n"
     ]
    },
    {
     "name": "stderr",
     "output_type": "stream",
     "text": [
      "rgb2gray: 100%|██████████| 9030/9030 [00:01<00:00, 4950.66it/s]\n"
     ]
    },
    {
     "name": "stdout",
     "output_type": "stream",
     "text": [
      "Got the result from ./1/train/filtrations/4/RadialFiltration_25_51/gray/diagrams.npy\n",
      "Got the result from ./1/train/filtrations/4/RadialFiltration_25_51/red/diagrams.npy\n",
      "Got the result from ./1/train/filtrations/4/RadialFiltration_25_51/green/diagrams.npy\n",
      "Got the result from ./1/train/filtrations/4/RadialFiltration_25_51/blue/diagrams.npy\n",
      "Applying filtration 41/72: 4/RadialFiltration_38_12\n",
      "RGB images received. Transforming to grayscale.\n"
     ]
    },
    {
     "name": "stderr",
     "output_type": "stream",
     "text": [
      "rgb2gray: 100%|██████████| 9030/9030 [00:02<00:00, 4452.66it/s]\n"
     ]
    },
    {
     "name": "stdout",
     "output_type": "stream",
     "text": [
      "Got the result from ./1/train/filtrations/4/RadialFiltration_38_12/gray/diagrams.npy\n",
      "Got the result from ./1/train/filtrations/4/RadialFiltration_38_12/red/diagrams.npy\n",
      "Got the result from ./1/train/filtrations/4/RadialFiltration_38_12/green/diagrams.npy\n",
      "Got the result from ./1/train/filtrations/4/RadialFiltration_38_12/blue/diagrams.npy\n",
      "Applying filtration 42/72: 4/RadialFiltration_38_25\n",
      "RGB images received. Transforming to grayscale.\n"
     ]
    },
    {
     "name": "stderr",
     "output_type": "stream",
     "text": [
      "rgb2gray: 100%|██████████| 9030/9030 [00:01<00:00, 5408.79it/s]\n"
     ]
    },
    {
     "name": "stdout",
     "output_type": "stream",
     "text": [
      "Got the result from ./1/train/filtrations/4/RadialFiltration_38_25/gray/diagrams.npy\n",
      "Got the result from ./1/train/filtrations/4/RadialFiltration_38_25/red/diagrams.npy\n",
      "Got the result from ./1/train/filtrations/4/RadialFiltration_38_25/green/diagrams.npy\n",
      "Got the result from ./1/train/filtrations/4/RadialFiltration_38_25/blue/diagrams.npy\n",
      "Applying filtration 43/72: 4/RadialFiltration_38_38\n",
      "RGB images received. Transforming to grayscale.\n"
     ]
    },
    {
     "name": "stderr",
     "output_type": "stream",
     "text": [
      "rgb2gray: 100%|██████████| 9030/9030 [00:01<00:00, 5720.76it/s]\n"
     ]
    },
    {
     "name": "stdout",
     "output_type": "stream",
     "text": [
      "Got the result from ./1/train/filtrations/4/RadialFiltration_38_38/gray/diagrams.npy\n",
      "Got the result from ./1/train/filtrations/4/RadialFiltration_38_38/red/diagrams.npy\n",
      "Got the result from ./1/train/filtrations/4/RadialFiltration_38_38/green/diagrams.npy\n",
      "Got the result from ./1/train/filtrations/4/RadialFiltration_38_38/blue/diagrams.npy\n",
      "Applying filtration 44/72: 4/RadialFiltration_38_51\n",
      "RGB images received. Transforming to grayscale.\n"
     ]
    },
    {
     "name": "stderr",
     "output_type": "stream",
     "text": [
      "rgb2gray: 100%|██████████| 9030/9030 [00:01<00:00, 5106.70it/s]\n"
     ]
    },
    {
     "name": "stdout",
     "output_type": "stream",
     "text": [
      "Got the result from ./1/train/filtrations/4/RadialFiltration_38_51/gray/diagrams.npy\n",
      "Got the result from ./1/train/filtrations/4/RadialFiltration_38_51/red/diagrams.npy\n",
      "Got the result from ./1/train/filtrations/4/RadialFiltration_38_51/green/diagrams.npy\n",
      "Got the result from ./1/train/filtrations/4/RadialFiltration_38_51/blue/diagrams.npy\n",
      "Applying filtration 45/72: 4/RadialFiltration_51_12\n",
      "RGB images received. Transforming to grayscale.\n"
     ]
    },
    {
     "name": "stderr",
     "output_type": "stream",
     "text": [
      "rgb2gray: 100%|██████████| 9030/9030 [00:01<00:00, 5044.69it/s]\n"
     ]
    },
    {
     "name": "stdout",
     "output_type": "stream",
     "text": [
      "Got the result from ./1/train/filtrations/4/RadialFiltration_51_12/gray/diagrams.npy\n",
      "Got the result from ./1/train/filtrations/4/RadialFiltration_51_12/red/diagrams.npy\n",
      "Got the result from ./1/train/filtrations/4/RadialFiltration_51_12/green/diagrams.npy\n",
      "Got the result from ./1/train/filtrations/4/RadialFiltration_51_12/blue/diagrams.npy\n",
      "Applying filtration 46/72: 4/RadialFiltration_51_25\n",
      "RGB images received. Transforming to grayscale.\n"
     ]
    },
    {
     "name": "stderr",
     "output_type": "stream",
     "text": [
      "rgb2gray: 100%|██████████| 9030/9030 [00:01<00:00, 4963.00it/s]\n"
     ]
    },
    {
     "name": "stdout",
     "output_type": "stream",
     "text": [
      "Got the result from ./1/train/filtrations/4/RadialFiltration_51_25/gray/diagrams.npy\n",
      "Got the result from ./1/train/filtrations/4/RadialFiltration_51_25/red/diagrams.npy\n",
      "Got the result from ./1/train/filtrations/4/RadialFiltration_51_25/green/diagrams.npy\n",
      "Got the result from ./1/train/filtrations/4/RadialFiltration_51_25/blue/diagrams.npy\n",
      "Applying filtration 47/72: 4/RadialFiltration_51_38\n",
      "RGB images received. Transforming to grayscale.\n"
     ]
    },
    {
     "name": "stderr",
     "output_type": "stream",
     "text": [
      "rgb2gray: 100%|██████████| 9030/9030 [00:01<00:00, 5070.19it/s]\n"
     ]
    },
    {
     "name": "stdout",
     "output_type": "stream",
     "text": [
      "Got the result from ./1/train/filtrations/4/RadialFiltration_51_38/gray/diagrams.npy\n",
      "Got the result from ./1/train/filtrations/4/RadialFiltration_51_38/red/diagrams.npy\n",
      "Got the result from ./1/train/filtrations/4/RadialFiltration_51_38/green/diagrams.npy\n",
      "Got the result from ./1/train/filtrations/4/RadialFiltration_51_38/blue/diagrams.npy\n",
      "Applying filtration 48/72: 4/RadialFiltration_51_51\n",
      "RGB images received. Transforming to grayscale.\n"
     ]
    },
    {
     "name": "stderr",
     "output_type": "stream",
     "text": [
      "rgb2gray: 100%|██████████| 9030/9030 [00:01<00:00, 5041.88it/s]\n"
     ]
    },
    {
     "name": "stdout",
     "output_type": "stream",
     "text": [
      "Got the result from ./1/train/filtrations/4/RadialFiltration_51_51/gray/diagrams.npy\n",
      "Got the result from ./1/train/filtrations/4/RadialFiltration_51_51/red/diagrams.npy\n",
      "Got the result from ./1/train/filtrations/4/RadialFiltration_51_51/green/diagrams.npy\n",
      "Got the result from ./1/train/filtrations/4/RadialFiltration_51_51/blue/diagrams.npy\n",
      "Applying filtration 49/72: 6/HeightFiltrartion_-1_-1\n",
      "RGB images received. Transforming to grayscale.\n"
     ]
    },
    {
     "name": "stderr",
     "output_type": "stream",
     "text": [
      "rgb2gray: 100%|██████████| 9030/9030 [00:01<00:00, 5425.17it/s]\n"
     ]
    },
    {
     "name": "stdout",
     "output_type": "stream",
     "text": [
      "Got the result from ./1/train/filtrations/6/HeightFiltrartion_-1_-1/gray/diagrams.npy\n",
      "Got the result from ./1/train/filtrations/6/HeightFiltrartion_-1_-1/red/diagrams.npy\n",
      "Got the result from ./1/train/filtrations/6/HeightFiltrartion_-1_-1/green/diagrams.npy\n",
      "Got the result from ./1/train/filtrations/6/HeightFiltrartion_-1_-1/blue/diagrams.npy\n",
      "Applying filtration 50/72: 6/HeightFiltrartion_1_1\n",
      "RGB images received. Transforming to grayscale.\n"
     ]
    },
    {
     "name": "stderr",
     "output_type": "stream",
     "text": [
      "rgb2gray: 100%|██████████| 9030/9030 [00:01<00:00, 5327.53it/s]\n"
     ]
    },
    {
     "name": "stdout",
     "output_type": "stream",
     "text": [
      "Got the result from ./1/train/filtrations/6/HeightFiltrartion_1_1/gray/diagrams.npy\n",
      "Got the result from ./1/train/filtrations/6/HeightFiltrartion_1_1/red/diagrams.npy\n",
      "Got the result from ./1/train/filtrations/6/HeightFiltrartion_1_1/green/diagrams.npy\n",
      "Got the result from ./1/train/filtrations/6/HeightFiltrartion_1_1/blue/diagrams.npy\n",
      "Applying filtration 51/72: 6/HeightFiltrartion_1_-1\n",
      "RGB images received. Transforming to grayscale.\n"
     ]
    },
    {
     "name": "stderr",
     "output_type": "stream",
     "text": [
      "rgb2gray: 100%|██████████| 9030/9030 [00:01<00:00, 5110.36it/s]\n"
     ]
    },
    {
     "name": "stdout",
     "output_type": "stream",
     "text": [
      "Got the result from ./1/train/filtrations/6/HeightFiltrartion_1_-1/gray/diagrams.npy\n",
      "Got the result from ./1/train/filtrations/6/HeightFiltrartion_1_-1/red/diagrams.npy\n",
      "Got the result from ./1/train/filtrations/6/HeightFiltrartion_1_-1/green/diagrams.npy\n",
      "Got the result from ./1/train/filtrations/6/HeightFiltrartion_1_-1/blue/diagrams.npy\n",
      "Applying filtration 52/72: 6/HeightFiltrartion_-1_1\n",
      "RGB images received. Transforming to grayscale.\n"
     ]
    },
    {
     "name": "stderr",
     "output_type": "stream",
     "text": [
      "rgb2gray: 100%|██████████| 9030/9030 [00:01<00:00, 5219.66it/s]\n"
     ]
    },
    {
     "name": "stdout",
     "output_type": "stream",
     "text": [
      "Got the result from ./1/train/filtrations/6/HeightFiltrartion_-1_1/gray/diagrams.npy\n",
      "Got the result from ./1/train/filtrations/6/HeightFiltrartion_-1_1/red/diagrams.npy\n",
      "Got the result from ./1/train/filtrations/6/HeightFiltrartion_-1_1/green/diagrams.npy\n",
      "Got the result from ./1/train/filtrations/6/HeightFiltrartion_-1_1/blue/diagrams.npy\n",
      "Applying filtration 53/72: 6/HeightFiltrartion_0_-1\n",
      "RGB images received. Transforming to grayscale.\n"
     ]
    },
    {
     "name": "stderr",
     "output_type": "stream",
     "text": [
      "rgb2gray: 100%|██████████| 9030/9030 [00:01<00:00, 5293.07it/s]\n"
     ]
    },
    {
     "name": "stdout",
     "output_type": "stream",
     "text": [
      "Got the result from ./1/train/filtrations/6/HeightFiltrartion_0_-1/gray/diagrams.npy\n",
      "Got the result from ./1/train/filtrations/6/HeightFiltrartion_0_-1/red/diagrams.npy\n",
      "Got the result from ./1/train/filtrations/6/HeightFiltrartion_0_-1/green/diagrams.npy\n",
      "Got the result from ./1/train/filtrations/6/HeightFiltrartion_0_-1/blue/diagrams.npy\n",
      "Applying filtration 54/72: 6/HeightFiltrartion_0_1\n",
      "RGB images received. Transforming to grayscale.\n"
     ]
    },
    {
     "name": "stderr",
     "output_type": "stream",
     "text": [
      "rgb2gray: 100%|██████████| 9030/9030 [00:01<00:00, 5092.72it/s]\n"
     ]
    },
    {
     "name": "stdout",
     "output_type": "stream",
     "text": [
      "Got the result from ./1/train/filtrations/6/HeightFiltrartion_0_1/gray/diagrams.npy\n",
      "Got the result from ./1/train/filtrations/6/HeightFiltrartion_0_1/red/diagrams.npy\n",
      "Got the result from ./1/train/filtrations/6/HeightFiltrartion_0_1/green/diagrams.npy\n",
      "Got the result from ./1/train/filtrations/6/HeightFiltrartion_0_1/blue/diagrams.npy\n",
      "Applying filtration 55/72: 6/HeightFiltrartion_-1_0\n",
      "RGB images received. Transforming to grayscale.\n"
     ]
    },
    {
     "name": "stderr",
     "output_type": "stream",
     "text": [
      "rgb2gray: 100%|██████████| 9030/9030 [00:01<00:00, 5025.04it/s]\n"
     ]
    },
    {
     "name": "stdout",
     "output_type": "stream",
     "text": [
      "Got the result from ./1/train/filtrations/6/HeightFiltrartion_-1_0/gray/diagrams.npy\n",
      "Got the result from ./1/train/filtrations/6/HeightFiltrartion_-1_0/red/diagrams.npy\n",
      "Got the result from ./1/train/filtrations/6/HeightFiltrartion_-1_0/green/diagrams.npy\n",
      "Got the result from ./1/train/filtrations/6/HeightFiltrartion_-1_0/blue/diagrams.npy\n",
      "Applying filtration 56/72: 6/HeightFiltrartion_1_0\n",
      "RGB images received. Transforming to grayscale.\n"
     ]
    },
    {
     "name": "stderr",
     "output_type": "stream",
     "text": [
      "rgb2gray: 100%|██████████| 9030/9030 [00:02<00:00, 4437.25it/s]\n"
     ]
    },
    {
     "name": "stdout",
     "output_type": "stream",
     "text": [
      "Got the result from ./1/train/filtrations/6/HeightFiltrartion_1_0/gray/diagrams.npy\n",
      "Got the result from ./1/train/filtrations/6/HeightFiltrartion_1_0/red/diagrams.npy\n",
      "Got the result from ./1/train/filtrations/6/HeightFiltrartion_1_0/green/diagrams.npy\n",
      "Got the result from ./1/train/filtrations/6/HeightFiltrartion_1_0/blue/diagrams.npy\n",
      "Applying filtration 57/72: 6/RadialFiltration_12_12\n",
      "RGB images received. Transforming to grayscale.\n"
     ]
    },
    {
     "name": "stderr",
     "output_type": "stream",
     "text": [
      "rgb2gray: 100%|██████████| 9030/9030 [00:01<00:00, 4758.88it/s]\n"
     ]
    },
    {
     "name": "stdout",
     "output_type": "stream",
     "text": [
      "Got the result from ./1/train/filtrations/6/RadialFiltration_12_12/gray/diagrams.npy\n",
      "Got the result from ./1/train/filtrations/6/RadialFiltration_12_12/red/diagrams.npy\n",
      "Got the result from ./1/train/filtrations/6/RadialFiltration_12_12/green/diagrams.npy\n",
      "Got the result from ./1/train/filtrations/6/RadialFiltration_12_12/blue/diagrams.npy\n",
      "Applying filtration 58/72: 6/RadialFiltration_12_25\n",
      "RGB images received. Transforming to grayscale.\n"
     ]
    },
    {
     "name": "stderr",
     "output_type": "stream",
     "text": [
      "rgb2gray: 100%|██████████| 9030/9030 [00:01<00:00, 4790.45it/s]\n"
     ]
    },
    {
     "name": "stdout",
     "output_type": "stream",
     "text": [
      "Got the result from ./1/train/filtrations/6/RadialFiltration_12_25/gray/diagrams.npy\n",
      "Got the result from ./1/train/filtrations/6/RadialFiltration_12_25/red/diagrams.npy\n",
      "Got the result from ./1/train/filtrations/6/RadialFiltration_12_25/green/diagrams.npy\n",
      "Got the result from ./1/train/filtrations/6/RadialFiltration_12_25/blue/diagrams.npy\n",
      "Applying filtration 59/72: 6/RadialFiltration_12_38\n",
      "RGB images received. Transforming to grayscale.\n"
     ]
    },
    {
     "name": "stderr",
     "output_type": "stream",
     "text": [
      "rgb2gray: 100%|██████████| 9030/9030 [00:01<00:00, 4642.68it/s]\n"
     ]
    },
    {
     "name": "stdout",
     "output_type": "stream",
     "text": [
      "Got the result from ./1/train/filtrations/6/RadialFiltration_12_38/gray/diagrams.npy\n",
      "Got the result from ./1/train/filtrations/6/RadialFiltration_12_38/red/diagrams.npy\n",
      "Got the result from ./1/train/filtrations/6/RadialFiltration_12_38/green/diagrams.npy\n",
      "Got the result from ./1/train/filtrations/6/RadialFiltration_12_38/blue/diagrams.npy\n",
      "Applying filtration 60/72: 6/RadialFiltration_12_51\n",
      "RGB images received. Transforming to grayscale.\n"
     ]
    },
    {
     "name": "stderr",
     "output_type": "stream",
     "text": [
      "rgb2gray: 100%|██████████| 9030/9030 [00:01<00:00, 4819.83it/s]\n"
     ]
    },
    {
     "name": "stdout",
     "output_type": "stream",
     "text": [
      "Got the result from ./1/train/filtrations/6/RadialFiltration_12_51/gray/diagrams.npy\n",
      "Got the result from ./1/train/filtrations/6/RadialFiltration_12_51/red/diagrams.npy\n",
      "Got the result from ./1/train/filtrations/6/RadialFiltration_12_51/green/diagrams.npy\n",
      "Got the result from ./1/train/filtrations/6/RadialFiltration_12_51/blue/diagrams.npy\n",
      "Applying filtration 61/72: 6/RadialFiltration_25_12\n",
      "RGB images received. Transforming to grayscale.\n"
     ]
    },
    {
     "name": "stderr",
     "output_type": "stream",
     "text": [
      "rgb2gray: 100%|██████████| 9030/9030 [00:01<00:00, 4907.61it/s]\n"
     ]
    },
    {
     "name": "stdout",
     "output_type": "stream",
     "text": [
      "Got the result from ./1/train/filtrations/6/RadialFiltration_25_12/gray/diagrams.npy\n",
      "Got the result from ./1/train/filtrations/6/RadialFiltration_25_12/red/diagrams.npy\n",
      "Got the result from ./1/train/filtrations/6/RadialFiltration_25_12/green/diagrams.npy\n",
      "Got the result from ./1/train/filtrations/6/RadialFiltration_25_12/blue/diagrams.npy\n",
      "Applying filtration 62/72: 6/RadialFiltration_25_25\n",
      "RGB images received. Transforming to grayscale.\n"
     ]
    },
    {
     "name": "stderr",
     "output_type": "stream",
     "text": [
      "rgb2gray: 100%|██████████| 9030/9030 [00:01<00:00, 4586.08it/s]\n"
     ]
    },
    {
     "name": "stdout",
     "output_type": "stream",
     "text": [
      "Got the result from ./1/train/filtrations/6/RadialFiltration_25_25/gray/diagrams.npy\n",
      "Got the result from ./1/train/filtrations/6/RadialFiltration_25_25/red/diagrams.npy\n",
      "Got the result from ./1/train/filtrations/6/RadialFiltration_25_25/green/diagrams.npy\n",
      "Got the result from ./1/train/filtrations/6/RadialFiltration_25_25/blue/diagrams.npy\n",
      "Applying filtration 63/72: 6/RadialFiltration_25_38\n",
      "RGB images received. Transforming to grayscale.\n"
     ]
    },
    {
     "name": "stderr",
     "output_type": "stream",
     "text": [
      "rgb2gray: 100%|██████████| 9030/9030 [00:01<00:00, 4696.98it/s]\n"
     ]
    },
    {
     "name": "stdout",
     "output_type": "stream",
     "text": [
      "Got the result from ./1/train/filtrations/6/RadialFiltration_25_38/gray/diagrams.npy\n",
      "Got the result from ./1/train/filtrations/6/RadialFiltration_25_38/red/diagrams.npy\n",
      "Got the result from ./1/train/filtrations/6/RadialFiltration_25_38/green/diagrams.npy\n",
      "Got the result from ./1/train/filtrations/6/RadialFiltration_25_38/blue/diagrams.npy\n",
      "Applying filtration 64/72: 6/RadialFiltration_25_51\n",
      "RGB images received. Transforming to grayscale.\n"
     ]
    },
    {
     "name": "stderr",
     "output_type": "stream",
     "text": [
      "rgb2gray: 100%|██████████| 9030/9030 [00:01<00:00, 4802.30it/s]\n"
     ]
    },
    {
     "name": "stdout",
     "output_type": "stream",
     "text": [
      "Got the result from ./1/train/filtrations/6/RadialFiltration_25_51/gray/diagrams.npy\n",
      "Got the result from ./1/train/filtrations/6/RadialFiltration_25_51/red/diagrams.npy\n",
      "Got the result from ./1/train/filtrations/6/RadialFiltration_25_51/green/diagrams.npy\n",
      "Got the result from ./1/train/filtrations/6/RadialFiltration_25_51/blue/diagrams.npy\n",
      "Applying filtration 65/72: 6/RadialFiltration_38_12\n",
      "RGB images received. Transforming to grayscale.\n"
     ]
    },
    {
     "name": "stderr",
     "output_type": "stream",
     "text": [
      "rgb2gray: 100%|██████████| 9030/9030 [00:02<00:00, 4369.04it/s]\n"
     ]
    },
    {
     "name": "stdout",
     "output_type": "stream",
     "text": [
      "Got the result from ./1/train/filtrations/6/RadialFiltration_38_12/gray/diagrams.npy\n",
      "Got the result from ./1/train/filtrations/6/RadialFiltration_38_12/red/diagrams.npy\n",
      "Got the result from ./1/train/filtrations/6/RadialFiltration_38_12/green/diagrams.npy\n",
      "Got the result from ./1/train/filtrations/6/RadialFiltration_38_12/blue/diagrams.npy\n",
      "Applying filtration 66/72: 6/RadialFiltration_38_25\n",
      "RGB images received. Transforming to grayscale.\n"
     ]
    },
    {
     "name": "stderr",
     "output_type": "stream",
     "text": [
      "rgb2gray: 100%|██████████| 9030/9030 [00:01<00:00, 5302.41it/s]\n"
     ]
    },
    {
     "name": "stdout",
     "output_type": "stream",
     "text": [
      "Got the result from ./1/train/filtrations/6/RadialFiltration_38_25/gray/diagrams.npy\n",
      "Got the result from ./1/train/filtrations/6/RadialFiltration_38_25/red/diagrams.npy\n",
      "Got the result from ./1/train/filtrations/6/RadialFiltration_38_25/green/diagrams.npy\n",
      "Got the result from ./1/train/filtrations/6/RadialFiltration_38_25/blue/diagrams.npy\n",
      "Applying filtration 67/72: 6/RadialFiltration_38_38\n",
      "RGB images received. Transforming to grayscale.\n"
     ]
    },
    {
     "name": "stderr",
     "output_type": "stream",
     "text": [
      "rgb2gray: 100%|██████████| 9030/9030 [00:01<00:00, 4685.66it/s]\n"
     ]
    },
    {
     "name": "stdout",
     "output_type": "stream",
     "text": [
      "Got the result from ./1/train/filtrations/6/RadialFiltration_38_38/gray/diagrams.npy\n",
      "Got the result from ./1/train/filtrations/6/RadialFiltration_38_38/red/diagrams.npy\n",
      "Got the result from ./1/train/filtrations/6/RadialFiltration_38_38/green/diagrams.npy\n",
      "Got the result from ./1/train/filtrations/6/RadialFiltration_38_38/blue/diagrams.npy\n",
      "Applying filtration 68/72: 6/RadialFiltration_38_51\n",
      "RGB images received. Transforming to grayscale.\n"
     ]
    },
    {
     "name": "stderr",
     "output_type": "stream",
     "text": [
      "rgb2gray: 100%|██████████| 9030/9030 [00:01<00:00, 4696.99it/s]\n"
     ]
    },
    {
     "name": "stdout",
     "output_type": "stream",
     "text": [
      "Got the result from ./1/train/filtrations/6/RadialFiltration_38_51/gray/diagrams.npy\n",
      "Got the result from ./1/train/filtrations/6/RadialFiltration_38_51/red/diagrams.npy\n",
      "Got the result from ./1/train/filtrations/6/RadialFiltration_38_51/green/diagrams.npy\n",
      "Got the result from ./1/train/filtrations/6/RadialFiltration_38_51/blue/diagrams.npy\n",
      "Applying filtration 69/72: 6/RadialFiltration_51_12\n",
      "RGB images received. Transforming to grayscale.\n"
     ]
    },
    {
     "name": "stderr",
     "output_type": "stream",
     "text": [
      "rgb2gray: 100%|██████████| 9030/9030 [00:01<00:00, 4608.19it/s]\n"
     ]
    },
    {
     "name": "stdout",
     "output_type": "stream",
     "text": [
      "Got the result from ./1/train/filtrations/6/RadialFiltration_51_12/gray/diagrams.npy\n",
      "Got the result from ./1/train/filtrations/6/RadialFiltration_51_12/red/diagrams.npy\n",
      "Got the result from ./1/train/filtrations/6/RadialFiltration_51_12/green/diagrams.npy\n",
      "Got the result from ./1/train/filtrations/6/RadialFiltration_51_12/blue/diagrams.npy\n",
      "Applying filtration 70/72: 6/RadialFiltration_51_25\n",
      "RGB images received. Transforming to grayscale.\n"
     ]
    },
    {
     "name": "stderr",
     "output_type": "stream",
     "text": [
      "rgb2gray: 100%|██████████| 9030/9030 [00:02<00:00, 4489.90it/s]\n"
     ]
    },
    {
     "name": "stdout",
     "output_type": "stream",
     "text": [
      "Got the result from ./1/train/filtrations/6/RadialFiltration_51_25/gray/diagrams.npy\n",
      "Got the result from ./1/train/filtrations/6/RadialFiltration_51_25/red/diagrams.npy\n",
      "Got the result from ./1/train/filtrations/6/RadialFiltration_51_25/green/diagrams.npy\n",
      "Got the result from ./1/train/filtrations/6/RadialFiltration_51_25/blue/diagrams.npy\n",
      "Applying filtration 71/72: 6/RadialFiltration_51_38\n",
      "RGB images received. Transforming to grayscale.\n"
     ]
    },
    {
     "name": "stderr",
     "output_type": "stream",
     "text": [
      "rgb2gray: 100%|██████████| 9030/9030 [00:01<00:00, 4520.14it/s]\n"
     ]
    },
    {
     "name": "stdout",
     "output_type": "stream",
     "text": [
      "Got the result from ./1/train/filtrations/6/RadialFiltration_51_38/gray/diagrams.npy\n",
      "Got the result from ./1/train/filtrations/6/RadialFiltration_51_38/red/diagrams.npy\n",
      "Got the result from ./1/train/filtrations/6/RadialFiltration_51_38/green/diagrams.npy\n",
      "Got the result from ./1/train/filtrations/6/RadialFiltration_51_38/blue/diagrams.npy\n",
      "Applying filtration 72/72: 6/RadialFiltration_51_51\n",
      "RGB images received. Transforming to grayscale.\n"
     ]
    },
    {
     "name": "stderr",
     "output_type": "stream",
     "text": [
      "rgb2gray: 100%|██████████| 9030/9030 [00:02<00:00, 4493.67it/s]\n"
     ]
    },
    {
     "name": "stdout",
     "output_type": "stream",
     "text": [
      "Got the result from ./1/train/filtrations/6/RadialFiltration_51_51/gray/diagrams.npy\n",
      "Got the result from ./1/train/filtrations/6/RadialFiltration_51_51/red/diagrams.npy\n",
      "Got the result from ./1/train/filtrations/6/RadialFiltration_51_51/green/diagrams.npy\n",
      "Got the result from ./1/train/filtrations/6/RadialFiltration_51_51/blue/diagrams.npy\n",
      "Diagrams requested. Returning diagrams.\n",
      "Calculating inverted images\n",
      "RGB images received. Transforming to grayscale.\n"
     ]
    },
    {
     "name": "stderr",
     "output_type": "stream",
     "text": [
      "rgb2gray: 100%|██████████| 134/134 [00:00<00:00, 4328.52it/s]\n"
     ]
    },
    {
     "name": "stdout",
     "output_type": "stream",
     "text": [
      "Got the result from ./1/test/greyscale/gray/diagrams.npy\n",
      "Got the result from ./1/test/greyscale/red/diagrams.npy\n",
      "Got the result from ./1/test/greyscale/green/diagrams.npy\n",
      "Got the result from ./1/test/greyscale/blue/diagrams.npy\n",
      "RGB images received. Transforming to grayscale.\n"
     ]
    },
    {
     "name": "stderr",
     "output_type": "stream",
     "text": [
      "rgb2gray: 100%|██████████| 134/134 [00:00<00:00, 3045.25it/s]"
     ]
    },
    {
     "name": "stdout",
     "output_type": "stream",
     "text": [
      "Got the result from ./1/test/inverted_greyscale/gray/diagrams.npy"
     ]
    },
    {
     "name": "stderr",
     "output_type": "stream",
     "text": [
      "\n"
     ]
    },
    {
     "name": "stdout",
     "output_type": "stream",
     "text": [
      "\n",
      "Got the result from ./1/test/inverted_greyscale/red/diagrams.npy\n",
      "Got the result from ./1/test/inverted_greyscale/green/diagrams.npy\n",
      "Got the result from ./1/test/inverted_greyscale/blue/diagrams.npy\n",
      "Applying filtrations\n",
      "Applying filtration 1/72: 2/HeightFiltrartion_-1_-1\n",
      "RGB images received. Transforming to grayscale.\n"
     ]
    },
    {
     "name": "stderr",
     "output_type": "stream",
     "text": [
      "rgb2gray: 100%|██████████| 134/134 [00:00<00:00, 3940.91it/s]\n"
     ]
    },
    {
     "name": "stdout",
     "output_type": "stream",
     "text": [
      "Got the result from ./1/test/filtrations/2/HeightFiltrartion_-1_-1/gray/diagrams.npy\n",
      "Got the result from ./1/test/filtrations/2/HeightFiltrartion_-1_-1/red/diagrams.npy\n",
      "Got the result from ./1/test/filtrations/2/HeightFiltrartion_-1_-1/green/diagrams.npy\n",
      "Got the result from ./1/test/filtrations/2/HeightFiltrartion_-1_-1/blue/diagrams.npy\n",
      "Applying filtration 2/72: 2/HeightFiltrartion_1_1\n",
      "RGB images received. Transforming to grayscale.\n"
     ]
    },
    {
     "name": "stderr",
     "output_type": "stream",
     "text": [
      "rgb2gray: 100%|██████████| 134/134 [00:00<00:00, 2392.86it/s]\n"
     ]
    },
    {
     "name": "stdout",
     "output_type": "stream",
     "text": [
      "Got the result from ./1/test/filtrations/2/HeightFiltrartion_1_1/gray/diagrams.npy\n",
      "Got the result from ./1/test/filtrations/2/HeightFiltrartion_1_1/red/diagrams.npy\n",
      "Got the result from ./1/test/filtrations/2/HeightFiltrartion_1_1/green/diagrams.npy\n",
      "Got the result from ./1/test/filtrations/2/HeightFiltrartion_1_1/blue/diagrams.npy\n",
      "Applying filtration 3/72: 2/HeightFiltrartion_1_-1\n",
      "RGB images received. Transforming to grayscale.\n"
     ]
    },
    {
     "name": "stderr",
     "output_type": "stream",
     "text": [
      "rgb2gray: 100%|██████████| 134/134 [00:00<00:00, 3440.56it/s]\n"
     ]
    },
    {
     "name": "stdout",
     "output_type": "stream",
     "text": [
      "Got the result from ./1/test/filtrations/2/HeightFiltrartion_1_-1/gray/diagrams.npy\n",
      "Got the result from ./1/test/filtrations/2/HeightFiltrartion_1_-1/red/diagrams.npy\n",
      "Got the result from ./1/test/filtrations/2/HeightFiltrartion_1_-1/green/diagrams.npy\n",
      "Got the result from ./1/test/filtrations/2/HeightFiltrartion_1_-1/blue/diagrams.npy\n",
      "Applying filtration 4/72: 2/HeightFiltrartion_-1_1\n",
      "RGB images received. Transforming to grayscale.\n"
     ]
    },
    {
     "name": "stderr",
     "output_type": "stream",
     "text": [
      "rgb2gray: 100%|██████████| 134/134 [00:00<00:00, 3524.56it/s]\n"
     ]
    },
    {
     "name": "stdout",
     "output_type": "stream",
     "text": [
      "Got the result from ./1/test/filtrations/2/HeightFiltrartion_-1_1/gray/diagrams.npy\n",
      "Got the result from ./1/test/filtrations/2/HeightFiltrartion_-1_1/red/diagrams.npy\n",
      "Got the result from ./1/test/filtrations/2/HeightFiltrartion_-1_1/green/diagrams.npy\n",
      "Got the result from ./1/test/filtrations/2/HeightFiltrartion_-1_1/blue/diagrams.npy\n",
      "Applying filtration 5/72: 2/HeightFiltrartion_0_-1\n",
      "RGB images received. Transforming to grayscale.\n"
     ]
    },
    {
     "name": "stderr",
     "output_type": "stream",
     "text": [
      "rgb2gray: 100%|██████████| 134/134 [00:00<00:00, 4187.15it/s]\n"
     ]
    },
    {
     "name": "stdout",
     "output_type": "stream",
     "text": [
      "Got the result from ./1/test/filtrations/2/HeightFiltrartion_0_-1/gray/diagrams.npy\n",
      "Got the result from ./1/test/filtrations/2/HeightFiltrartion_0_-1/red/diagrams.npy\n",
      "Got the result from ./1/test/filtrations/2/HeightFiltrartion_0_-1/green/diagrams.npy\n",
      "Got the result from ./1/test/filtrations/2/HeightFiltrartion_0_-1/blue/diagrams.npy\n",
      "Applying filtration 6/72: 2/HeightFiltrartion_0_1\n",
      "RGB images received. Transforming to grayscale.\n"
     ]
    },
    {
     "name": "stderr",
     "output_type": "stream",
     "text": [
      "rgb2gray: 100%|██████████| 134/134 [00:00<00:00, 4963.15it/s]\n"
     ]
    },
    {
     "name": "stdout",
     "output_type": "stream",
     "text": [
      "Got the result from ./1/test/filtrations/2/HeightFiltrartion_0_1/gray/diagrams.npy\n",
      "Got the result from ./1/test/filtrations/2/HeightFiltrartion_0_1/red/diagrams.npy\n",
      "Got the result from ./1/test/filtrations/2/HeightFiltrartion_0_1/green/diagrams.npy\n",
      "Got the result from ./1/test/filtrations/2/HeightFiltrartion_0_1/blue/diagrams.npy\n",
      "Applying filtration 7/72: 2/HeightFiltrartion_-1_0\n",
      "RGB images received. Transforming to grayscale.\n"
     ]
    },
    {
     "name": "stderr",
     "output_type": "stream",
     "text": [
      "rgb2gray: 100%|██████████| 134/134 [00:00<00:00, 4785.98it/s]\n"
     ]
    },
    {
     "name": "stdout",
     "output_type": "stream",
     "text": [
      "Got the result from ./1/test/filtrations/2/HeightFiltrartion_-1_0/gray/diagrams.npy\n",
      "Got the result from ./1/test/filtrations/2/HeightFiltrartion_-1_0/red/diagrams.npy\n",
      "Got the result from ./1/test/filtrations/2/HeightFiltrartion_-1_0/green/diagrams.npy\n",
      "Got the result from ./1/test/filtrations/2/HeightFiltrartion_-1_0/blue/diagrams.npy\n",
      "Applying filtration 8/72: 2/HeightFiltrartion_1_0\n",
      "RGB images received. Transforming to grayscale.\n"
     ]
    },
    {
     "name": "stderr",
     "output_type": "stream",
     "text": [
      "rgb2gray: 100%|██████████| 134/134 [00:00<00:00, 4785.53it/s]\n"
     ]
    },
    {
     "name": "stdout",
     "output_type": "stream",
     "text": [
      "Got the result from ./1/test/filtrations/2/HeightFiltrartion_1_0/gray/diagrams.npy\n",
      "Got the result from ./1/test/filtrations/2/HeightFiltrartion_1_0/red/diagrams.npy\n",
      "Got the result from ./1/test/filtrations/2/HeightFiltrartion_1_0/green/diagrams.npy\n",
      "Got the result from ./1/test/filtrations/2/HeightFiltrartion_1_0/blue/diagrams.npy\n",
      "Applying filtration 9/72: 2/RadialFiltration_12_12\n",
      "RGB images received. Transforming to grayscale.\n"
     ]
    },
    {
     "name": "stderr",
     "output_type": "stream",
     "text": [
      "rgb2gray: 100%|██████████| 134/134 [00:00<00:00, 4962.36it/s]\n"
     ]
    },
    {
     "name": "stdout",
     "output_type": "stream",
     "text": [
      "Got the result from ./1/test/filtrations/2/RadialFiltration_12_12/gray/diagrams.npy\n",
      "Got the result from ./1/test/filtrations/2/RadialFiltration_12_12/red/diagrams.npy\n",
      "Got the result from ./1/test/filtrations/2/RadialFiltration_12_12/green/diagrams.npy\n",
      "Got the result from ./1/test/filtrations/2/RadialFiltration_12_12/blue/diagrams.npy\n",
      "Applying filtration 10/72: 2/RadialFiltration_12_25\n",
      "RGB images received. Transforming to grayscale.\n"
     ]
    },
    {
     "name": "stderr",
     "output_type": "stream",
     "text": [
      "rgb2gray: 100%|██████████| 134/134 [00:00<00:00, 4059.87it/s]\n"
     ]
    },
    {
     "name": "stdout",
     "output_type": "stream",
     "text": [
      "Got the result from ./1/test/filtrations/2/RadialFiltration_12_25/gray/diagrams.npy\n",
      "Got the result from ./1/test/filtrations/2/RadialFiltration_12_25/red/diagrams.npy\n",
      "Got the result from ./1/test/filtrations/2/RadialFiltration_12_25/green/diagrams.npy\n",
      "Got the result from ./1/test/filtrations/2/RadialFiltration_12_25/blue/diagrams.npy\n",
      "Applying filtration 11/72: 2/RadialFiltration_12_38\n",
      "RGB images received. Transforming to grayscale.\n"
     ]
    },
    {
     "name": "stderr",
     "output_type": "stream",
     "text": [
      "rgb2gray: 100%|██████████| 134/134 [00:00<00:00, 4322.79it/s]\n"
     ]
    },
    {
     "name": "stdout",
     "output_type": "stream",
     "text": [
      "Got the result from ./1/test/filtrations/2/RadialFiltration_12_38/gray/diagrams.npy\n",
      "Got the result from ./1/test/filtrations/2/RadialFiltration_12_38/red/diagrams.npy\n",
      "Got the result from ./1/test/filtrations/2/RadialFiltration_12_38/green/diagrams.npy\n",
      "Got the result from ./1/test/filtrations/2/RadialFiltration_12_38/blue/diagrams.npy\n",
      "Applying filtration 12/72: 2/RadialFiltration_12_51\n",
      "RGB images received. Transforming to grayscale.\n"
     ]
    },
    {
     "name": "stderr",
     "output_type": "stream",
     "text": [
      "rgb2gray: 100%|██████████| 134/134 [00:00<00:00, 4620.64it/s]\n"
     ]
    },
    {
     "name": "stdout",
     "output_type": "stream",
     "text": [
      "Got the result from ./1/test/filtrations/2/RadialFiltration_12_51/gray/diagrams.npy\n",
      "Got the result from ./1/test/filtrations/2/RadialFiltration_12_51/red/diagrams.npy\n",
      "Got the result from ./1/test/filtrations/2/RadialFiltration_12_51/green/diagrams.npy\n",
      "Got the result from ./1/test/filtrations/2/RadialFiltration_12_51/blue/diagrams.npy\n",
      "Applying filtration 13/72: 2/RadialFiltration_25_12\n",
      "RGB images received. Transforming to grayscale.\n"
     ]
    },
    {
     "name": "stderr",
     "output_type": "stream",
     "text": [
      "rgb2gray: 100%|██████████| 134/134 [00:00<00:00, 5153.98it/s]\n"
     ]
    },
    {
     "name": "stdout",
     "output_type": "stream",
     "text": [
      "Got the result from ./1/test/filtrations/2/RadialFiltration_25_12/gray/diagrams.npy\n",
      "Got the result from ./1/test/filtrations/2/RadialFiltration_25_12/red/diagrams.npy\n",
      "Got the result from ./1/test/filtrations/2/RadialFiltration_25_12/green/diagrams.npy\n",
      "Got the result from ./1/test/filtrations/2/RadialFiltration_25_12/blue/diagrams.npy\n",
      "Applying filtration 14/72: 2/RadialFiltration_25_25\n",
      "RGB images received. Transforming to grayscale.\n"
     ]
    },
    {
     "name": "stderr",
     "output_type": "stream",
     "text": [
      "rgb2gray: 100%|██████████| 134/134 [00:00<00:00, 4322.36it/s]\n"
     ]
    },
    {
     "name": "stdout",
     "output_type": "stream",
     "text": [
      "Got the result from ./1/test/filtrations/2/RadialFiltration_25_25/gray/diagrams.npy\n",
      "Got the result from ./1/test/filtrations/2/RadialFiltration_25_25/red/diagrams.npy\n",
      "Got the result from ./1/test/filtrations/2/RadialFiltration_25_25/green/diagrams.npy\n",
      "Got the result from ./1/test/filtrations/2/RadialFiltration_25_25/blue/diagrams.npy\n",
      "Applying filtration 15/72: 2/RadialFiltration_25_38\n",
      "RGB images received. Transforming to grayscale.\n"
     ]
    },
    {
     "name": "stderr",
     "output_type": "stream",
     "text": [
      "rgb2gray: 100%|██████████| 134/134 [00:00<00:00, 4962.75it/s]\n"
     ]
    },
    {
     "name": "stdout",
     "output_type": "stream",
     "text": [
      "Got the result from ./1/test/filtrations/2/RadialFiltration_25_38/gray/diagrams.npy\n",
      "Got the result from ./1/test/filtrations/2/RadialFiltration_25_38/red/diagrams.npy\n",
      "Got the result from ./1/test/filtrations/2/RadialFiltration_25_38/green/diagrams.npy\n",
      "Got the result from ./1/test/filtrations/2/RadialFiltration_25_38/blue/diagrams.npy\n",
      "Applying filtration 16/72: 2/RadialFiltration_25_51\n",
      "RGB images received. Transforming to grayscale.\n"
     ]
    },
    {
     "name": "stderr",
     "output_type": "stream",
     "text": [
      "rgb2gray: 100%|██████████| 134/134 [00:00<00:00, 4466.71it/s]\n"
     ]
    },
    {
     "name": "stdout",
     "output_type": "stream",
     "text": [
      "Got the result from ./1/test/filtrations/2/RadialFiltration_25_51/gray/diagrams.npy\n",
      "Got the result from ./1/test/filtrations/2/RadialFiltration_25_51/red/diagrams.npy\n",
      "Got the result from ./1/test/filtrations/2/RadialFiltration_25_51/green/diagrams.npy\n",
      "Got the result from ./1/test/filtrations/2/RadialFiltration_25_51/blue/diagrams.npy\n",
      "Applying filtration 17/72: 2/RadialFiltration_38_12\n",
      "RGB images received. Transforming to grayscale.\n"
     ]
    },
    {
     "name": "stderr",
     "output_type": "stream",
     "text": [
      "rgb2gray: 100%|██████████| 134/134 [00:00<00:00, 4620.26it/s]\n"
     ]
    },
    {
     "name": "stdout",
     "output_type": "stream",
     "text": [
      "Got the result from ./1/test/filtrations/2/RadialFiltration_38_12/gray/diagrams.npy\n",
      "Got the result from ./1/test/filtrations/2/RadialFiltration_38_12/red/diagrams.npy\n",
      "Got the result from ./1/test/filtrations/2/RadialFiltration_38_12/green/diagrams.npy\n",
      "Got the result from ./1/test/filtrations/2/RadialFiltration_38_12/blue/diagrams.npy\n",
      "Applying filtration 18/72: 2/RadialFiltration_38_25\n",
      "RGB images received. Transforming to grayscale.\n"
     ]
    },
    {
     "name": "stderr",
     "output_type": "stream",
     "text": [
      "rgb2gray: 100%|██████████| 134/134 [00:00<00:00, 4322.63it/s]\n"
     ]
    },
    {
     "name": "stdout",
     "output_type": "stream",
     "text": [
      "Got the result from ./1/test/filtrations/2/RadialFiltration_38_25/gray/diagrams.npy\n",
      "Got the result from ./1/test/filtrations/2/RadialFiltration_38_25/red/diagrams.npy\n",
      "Got the result from ./1/test/filtrations/2/RadialFiltration_38_25/green/diagrams.npy\n",
      "Got the result from ./1/test/filtrations/2/RadialFiltration_38_25/blue/diagrams.npy\n",
      "Applying filtration 19/72: 2/RadialFiltration_38_38\n",
      "RGB images received. Transforming to grayscale.\n"
     ]
    },
    {
     "name": "stderr",
     "output_type": "stream",
     "text": [
      "rgb2gray: 100%|██████████| 134/134 [00:00<00:00, 4187.15it/s]\n"
     ]
    },
    {
     "name": "stdout",
     "output_type": "stream",
     "text": [
      "Got the result from ./1/test/filtrations/2/RadialFiltration_38_38/gray/diagrams.npy\n",
      "Got the result from ./1/test/filtrations/2/RadialFiltration_38_38/red/diagrams.npy\n",
      "Got the result from ./1/test/filtrations/2/RadialFiltration_38_38/green/diagrams.npy\n",
      "Got the result from ./1/test/filtrations/2/RadialFiltration_38_38/blue/diagrams.npy\n",
      "Applying filtration 20/72: 2/RadialFiltration_38_51\n",
      "RGB images received. Transforming to grayscale.\n"
     ]
    },
    {
     "name": "stderr",
     "output_type": "stream",
     "text": [
      "rgb2gray: 100%|██████████| 134/134 [00:00<00:00, 4060.70it/s]\n"
     ]
    },
    {
     "name": "stdout",
     "output_type": "stream",
     "text": [
      "Got the result from ./1/test/filtrations/2/RadialFiltration_38_51/gray/diagrams.npy\n",
      "Got the result from ./1/test/filtrations/2/RadialFiltration_38_51/red/diagrams.npy\n",
      "Got the result from ./1/test/filtrations/2/RadialFiltration_38_51/green/diagrams.npy\n",
      "Got the result from ./1/test/filtrations/2/RadialFiltration_38_51/blue/diagrams.npy\n",
      "Applying filtration 21/72: 2/RadialFiltration_51_12\n",
      "RGB images received. Transforming to grayscale.\n"
     ]
    },
    {
     "name": "stderr",
     "output_type": "stream",
     "text": [
      "rgb2gray: 100%|██████████| 134/134 [00:00<00:00, 5153.42it/s]\n"
     ]
    },
    {
     "name": "stdout",
     "output_type": "stream",
     "text": [
      "Got the result from ./1/test/filtrations/2/RadialFiltration_51_12/gray/diagrams.npy\n",
      "Got the result from ./1/test/filtrations/2/RadialFiltration_51_12/red/diagrams.npy\n",
      "Got the result from ./1/test/filtrations/2/RadialFiltration_51_12/green/diagrams.npy\n",
      "Got the result from ./1/test/filtrations/2/RadialFiltration_51_12/blue/diagrams.npy\n",
      "Applying filtration 22/72: 2/RadialFiltration_51_25\n",
      "RGB images received. Transforming to grayscale.\n"
     ]
    },
    {
     "name": "stderr",
     "output_type": "stream",
     "text": [
      "rgb2gray: 100%|██████████| 134/134 [00:00<00:00, 4466.42it/s]\n"
     ]
    },
    {
     "name": "stdout",
     "output_type": "stream",
     "text": [
      "Got the result from ./1/test/filtrations/2/RadialFiltration_51_25/gray/diagrams.npy\n",
      "Got the result from ./1/test/filtrations/2/RadialFiltration_51_25/red/diagrams.npy\n",
      "Got the result from ./1/test/filtrations/2/RadialFiltration_51_25/green/diagrams.npy\n",
      "Got the result from ./1/test/filtrations/2/RadialFiltration_51_25/blue/diagrams.npy\n",
      "Applying filtration 23/72: 2/RadialFiltration_51_38\n",
      "RGB images received. Transforming to grayscale.\n"
     ]
    },
    {
     "name": "stderr",
     "output_type": "stream",
     "text": [
      "rgb2gray: 100%|██████████| 134/134 [00:00<00:00, 3621.67it/s]\n"
     ]
    },
    {
     "name": "stdout",
     "output_type": "stream",
     "text": [
      "Got the result from ./1/test/filtrations/2/RadialFiltration_51_38/gray/diagrams.npy\n",
      "Got the result from ./1/test/filtrations/2/RadialFiltration_51_38/red/diagrams.npy\n",
      "Got the result from ./1/test/filtrations/2/RadialFiltration_51_38/green/diagrams.npy\n",
      "Got the result from ./1/test/filtrations/2/RadialFiltration_51_38/blue/diagrams.npy\n",
      "Applying filtration 24/72: 2/RadialFiltration_51_51\n",
      "RGB images received. Transforming to grayscale.\n"
     ]
    },
    {
     "name": "stderr",
     "output_type": "stream",
     "text": [
      "rgb2gray: 100%|██████████| 134/134 [00:00<00:00, 4060.37it/s]\n"
     ]
    },
    {
     "name": "stdout",
     "output_type": "stream",
     "text": [
      "Got the result from ./1/test/filtrations/2/RadialFiltration_51_51/gray/diagrams.npy\n",
      "Got the result from ./1/test/filtrations/2/RadialFiltration_51_51/red/diagrams.npy\n",
      "Got the result from ./1/test/filtrations/2/RadialFiltration_51_51/green/diagrams.npy\n",
      "Got the result from ./1/test/filtrations/2/RadialFiltration_51_51/blue/diagrams.npy\n",
      "Applying filtration 25/72: 4/HeightFiltrartion_-1_-1\n",
      "RGB images received. Transforming to grayscale.\n"
     ]
    },
    {
     "name": "stderr",
     "output_type": "stream",
     "text": [
      "rgb2gray: 100%|██████████| 134/134 [00:00<00:00, 4187.27it/s]\n"
     ]
    },
    {
     "name": "stdout",
     "output_type": "stream",
     "text": [
      "Got the result from ./1/test/filtrations/4/HeightFiltrartion_-1_-1/gray/diagrams.npy\n",
      "Got the result from ./1/test/filtrations/4/HeightFiltrartion_-1_-1/red/diagrams.npy\n",
      "Got the result from ./1/test/filtrations/4/HeightFiltrartion_-1_-1/green/diagrams.npy\n",
      "Got the result from ./1/test/filtrations/4/HeightFiltrartion_-1_-1/blue/diagrams.npy\n",
      "Applying filtration 26/72: 4/HeightFiltrartion_1_1\n",
      "RGB images received. Transforming to grayscale.\n"
     ]
    },
    {
     "name": "stderr",
     "output_type": "stream",
     "text": [
      "rgb2gray: 100%|██████████| 134/134 [00:00<00:00, 4060.55it/s]\n"
     ]
    },
    {
     "name": "stdout",
     "output_type": "stream",
     "text": [
      "Got the result from ./1/test/filtrations/4/HeightFiltrartion_1_1/gray/diagrams.npy\n",
      "Got the result from ./1/test/filtrations/4/HeightFiltrartion_1_1/red/diagrams.npy\n",
      "Got the result from ./1/test/filtrations/4/HeightFiltrartion_1_1/green/diagrams.npy\n",
      "Got the result from ./1/test/filtrations/4/HeightFiltrartion_1_1/blue/diagrams.npy\n",
      "Applying filtration 27/72: 4/HeightFiltrartion_1_-1\n",
      "RGB images received. Transforming to grayscale.\n"
     ]
    },
    {
     "name": "stderr",
     "output_type": "stream",
     "text": [
      "rgb2gray: 100%|██████████| 134/134 [00:00<00:00, 5154.31it/s]\n"
     ]
    },
    {
     "name": "stdout",
     "output_type": "stream",
     "text": [
      "Got the result from ./1/test/filtrations/4/HeightFiltrartion_1_-1/gray/diagrams.npy\n",
      "Got the result from ./1/test/filtrations/4/HeightFiltrartion_1_-1/red/diagrams.npy\n",
      "Got the result from ./1/test/filtrations/4/HeightFiltrartion_1_-1/green/diagrams.npy\n",
      "Got the result from ./1/test/filtrations/4/HeightFiltrartion_1_-1/blue/diagrams.npy\n",
      "Applying filtration 28/72: 4/HeightFiltrartion_-1_1\n",
      "RGB images received. Transforming to grayscale.\n"
     ]
    },
    {
     "name": "stderr",
     "output_type": "stream",
     "text": [
      "rgb2gray: 100%|██████████| 134/134 [00:00<00:00, 4962.80it/s]\n"
     ]
    },
    {
     "name": "stdout",
     "output_type": "stream",
     "text": [
      "Got the result from ./1/test/filtrations/4/HeightFiltrartion_-1_1/gray/diagrams.npy\n",
      "Got the result from ./1/test/filtrations/4/HeightFiltrartion_-1_1/red/diagrams.npy\n",
      "Got the result from ./1/test/filtrations/4/HeightFiltrartion_-1_1/green/diagrams.npy\n",
      "Got the result from ./1/test/filtrations/4/HeightFiltrartion_-1_1/blue/diagrams.npy\n",
      "Applying filtration 29/72: 4/HeightFiltrartion_0_-1\n",
      "RGB images received. Transforming to grayscale.\n"
     ]
    },
    {
     "name": "stderr",
     "output_type": "stream",
     "text": [
      "rgb2gray: 100%|██████████| 134/134 [00:00<00:00, 5359.21it/s]"
     ]
    },
    {
     "name": "stdout",
     "output_type": "stream",
     "text": [
      "Got the result from ./1/test/filtrations/4/HeightFiltrartion_0_-1/gray/diagrams.npy"
     ]
    },
    {
     "name": "stderr",
     "output_type": "stream",
     "text": [
      "\n"
     ]
    },
    {
     "name": "stdout",
     "output_type": "stream",
     "text": [
      "\n",
      "Got the result from ./1/test/filtrations/4/HeightFiltrartion_0_-1/red/diagrams.npy\n",
      "Got the result from ./1/test/filtrations/4/HeightFiltrartion_0_-1/green/diagrams.npy\n",
      "Got the result from ./1/test/filtrations/4/HeightFiltrartion_0_-1/blue/diagrams.npy\n",
      "Applying filtration 30/72: 4/HeightFiltrartion_0_1\n",
      "RGB images received. Transforming to grayscale.\n"
     ]
    },
    {
     "name": "stderr",
     "output_type": "stream",
     "text": [
      "rgb2gray: 100%|██████████| 134/134 [00:00<00:00, 4699.97it/s]\n"
     ]
    },
    {
     "name": "stdout",
     "output_type": "stream",
     "text": [
      "Got the result from ./1/test/filtrations/4/HeightFiltrartion_0_1/gray/diagrams.npy\n",
      "Got the result from ./1/test/filtrations/4/HeightFiltrartion_0_1/red/diagrams.npy\n",
      "Got the result from ./1/test/filtrations/4/HeightFiltrartion_0_1/green/diagrams.npy\n",
      "Got the result from ./1/test/filtrations/4/HeightFiltrartion_0_1/blue/diagrams.npy\n",
      "Applying filtration 31/72: 4/HeightFiltrartion_-1_0\n",
      "RGB images received. Transforming to grayscale.\n"
     ]
    },
    {
     "name": "stderr",
     "output_type": "stream",
     "text": [
      "rgb2gray: 100%|██████████| 134/134 [00:00<00:00, 4060.75it/s]\n"
     ]
    },
    {
     "name": "stdout",
     "output_type": "stream",
     "text": [
      "Got the result from ./1/test/filtrations/4/HeightFiltrartion_-1_0/gray/diagrams.npy\n",
      "Got the result from ./1/test/filtrations/4/HeightFiltrartion_-1_0/red/diagrams.npy\n",
      "Got the result from ./1/test/filtrations/4/HeightFiltrartion_-1_0/green/diagrams.npy\n",
      "Got the result from ./1/test/filtrations/4/HeightFiltrartion_-1_0/blue/diagrams.npy\n",
      "Applying filtration 32/72: 4/HeightFiltrartion_1_0\n",
      "RGB images received. Transforming to grayscale.\n"
     ]
    },
    {
     "name": "stderr",
     "output_type": "stream",
     "text": [
      "rgb2gray: 100%|██████████| 134/134 [00:00<00:00, 3952.49it/s]\n"
     ]
    },
    {
     "name": "stdout",
     "output_type": "stream",
     "text": [
      "Got the result from ./1/test/filtrations/4/HeightFiltrartion_1_0/gray/diagrams.npy\n",
      "Got the result from ./1/test/filtrations/4/HeightFiltrartion_1_0/red/diagrams.npy\n",
      "Got the result from ./1/test/filtrations/4/HeightFiltrartion_1_0/green/diagrams.npy\n",
      "Got the result from ./1/test/filtrations/4/HeightFiltrartion_1_0/blue/diagrams.npy\n",
      "Applying filtration 33/72: 4/RadialFiltration_12_12\n",
      "RGB images received. Transforming to grayscale.\n"
     ]
    },
    {
     "name": "stderr",
     "output_type": "stream",
     "text": [
      "rgb2gray: 100%|██████████| 134/134 [00:00<00:00, 5154.08it/s]\n"
     ]
    },
    {
     "name": "stdout",
     "output_type": "stream",
     "text": [
      "Got the result from ./1/test/filtrations/4/RadialFiltration_12_12/gray/diagrams.npy\n",
      "Got the result from ./1/test/filtrations/4/RadialFiltration_12_12/red/diagrams.npy\n",
      "Got the result from ./1/test/filtrations/4/RadialFiltration_12_12/green/diagrams.npy\n",
      "Got the result from ./1/test/filtrations/4/RadialFiltration_12_12/blue/diagrams.npy\n",
      "Applying filtration 34/72: 4/RadialFiltration_12_25\n",
      "RGB images received. Transforming to grayscale.\n"
     ]
    },
    {
     "name": "stderr",
     "output_type": "stream",
     "text": [
      "rgb2gray: 100%|██████████| 134/134 [00:00<00:00, 5359.32it/s]\n"
     ]
    },
    {
     "name": "stdout",
     "output_type": "stream",
     "text": [
      "Got the result from ./1/test/filtrations/4/RadialFiltration_12_25/gray/diagrams.npy\n",
      "Got the result from ./1/test/filtrations/4/RadialFiltration_12_25/red/diagrams.npy\n",
      "Got the result from ./1/test/filtrations/4/RadialFiltration_12_25/green/diagrams.npy\n",
      "Got the result from ./1/test/filtrations/4/RadialFiltration_12_25/blue/diagrams.npy\n",
      "Applying filtration 35/72: 4/RadialFiltration_12_38\n",
      "RGB images received. Transforming to grayscale.\n"
     ]
    },
    {
     "name": "stderr",
     "output_type": "stream",
     "text": [
      "rgb2gray: 100%|██████████| 134/134 [00:00<00:00, 4466.71it/s]\n"
     ]
    },
    {
     "name": "stdout",
     "output_type": "stream",
     "text": [
      "Got the result from ./1/test/filtrations/4/RadialFiltration_12_38/gray/diagrams.npy\n",
      "Got the result from ./1/test/filtrations/4/RadialFiltration_12_38/red/diagrams.npy\n",
      "Got the result from ./1/test/filtrations/4/RadialFiltration_12_38/green/diagrams.npy\n",
      "Got the result from ./1/test/filtrations/4/RadialFiltration_12_38/blue/diagrams.npy\n",
      "Applying filtration 36/72: 4/RadialFiltration_12_51\n",
      "RGB images received. Transforming to grayscale.\n"
     ]
    },
    {
     "name": "stderr",
     "output_type": "stream",
     "text": [
      "rgb2gray: 100%|██████████| 134/134 [00:00<00:00, 5359.93it/s]\n"
     ]
    },
    {
     "name": "stdout",
     "output_type": "stream",
     "text": [
      "Got the result from ./1/test/filtrations/4/RadialFiltration_12_51/gray/diagrams.npy\n",
      "Got the result from ./1/test/filtrations/4/RadialFiltration_12_51/red/diagrams.npy\n",
      "Got the result from ./1/test/filtrations/4/RadialFiltration_12_51/green/diagrams.npy\n",
      "Got the result from ./1/test/filtrations/4/RadialFiltration_12_51/blue/diagrams.npy\n",
      "Applying filtration 37/72: 4/RadialFiltration_25_12\n",
      "RGB images received. Transforming to grayscale.\n"
     ]
    },
    {
     "name": "stderr",
     "output_type": "stream",
     "text": [
      "rgb2gray: 100%|██████████| 134/134 [00:00<00:00, 5583.29it/s]\n"
     ]
    },
    {
     "name": "stdout",
     "output_type": "stream",
     "text": [
      "Got the result from ./1/test/filtrations/4/RadialFiltration_25_12/gray/diagrams.npy\n",
      "Got the result from ./1/test/filtrations/4/RadialFiltration_25_12/red/diagrams.npy\n",
      "Got the result from ./1/test/filtrations/4/RadialFiltration_25_12/green/diagrams.npy\n",
      "Got the result from ./1/test/filtrations/4/RadialFiltration_25_12/blue/diagrams.npy\n",
      "Applying filtration 38/72: 4/RadialFiltration_25_25\n",
      "RGB images received. Transforming to grayscale.\n"
     ]
    },
    {
     "name": "stderr",
     "output_type": "stream",
     "text": [
      "rgb2gray: 100%|██████████| 134/134 [00:00<00:00, 5360.34it/s]\n"
     ]
    },
    {
     "name": "stdout",
     "output_type": "stream",
     "text": [
      "Got the result from ./1/test/filtrations/4/RadialFiltration_25_25/gray/diagrams.npy\n",
      "Got the result from ./1/test/filtrations/4/RadialFiltration_25_25/red/diagrams.npy\n",
      "Got the result from ./1/test/filtrations/4/RadialFiltration_25_25/green/diagrams.npy\n",
      "Got the result from ./1/test/filtrations/4/RadialFiltration_25_25/blue/diagrams.npy\n",
      "Applying filtration 39/72: 4/RadialFiltration_25_38\n",
      "RGB images received. Transforming to grayscale.\n"
     ]
    },
    {
     "name": "stderr",
     "output_type": "stream",
     "text": [
      "rgb2gray: 100%|██████████| 134/134 [00:00<00:00, 5583.46it/s]\n"
     ]
    },
    {
     "name": "stdout",
     "output_type": "stream",
     "text": [
      "Got the result from ./1/test/filtrations/4/RadialFiltration_25_38/gray/diagrams.npy\n",
      "Got the result from ./1/test/filtrations/4/RadialFiltration_25_38/red/diagrams.npy\n",
      "Got the result from ./1/test/filtrations/4/RadialFiltration_25_38/green/diagrams.npy\n",
      "Got the result from ./1/test/filtrations/4/RadialFiltration_25_38/blue/diagrams.npy\n",
      "Applying filtration 40/72: 4/RadialFiltration_25_51\n",
      "RGB images received. Transforming to grayscale.\n"
     ]
    },
    {
     "name": "stderr",
     "output_type": "stream",
     "text": [
      "rgb2gray: 100%|██████████| 134/134 [00:00<00:00, 3722.17it/s]\n"
     ]
    },
    {
     "name": "stdout",
     "output_type": "stream",
     "text": [
      "Got the result from ./1/test/filtrations/4/RadialFiltration_25_51/gray/diagrams.npy\n",
      "Got the result from ./1/test/filtrations/4/RadialFiltration_25_51/red/diagrams.npy\n",
      "Got the result from ./1/test/filtrations/4/RadialFiltration_25_51/green/diagrams.npy\n",
      "Got the result from ./1/test/filtrations/4/RadialFiltration_25_51/blue/diagrams.npy\n",
      "Applying filtration 41/72: 4/RadialFiltration_38_12\n",
      "RGB images received. Transforming to grayscale.\n"
     ]
    },
    {
     "name": "stderr",
     "output_type": "stream",
     "text": [
      "rgb2gray: 100%|██████████| 134/134 [00:00<00:00, 5582.52it/s]\n"
     ]
    },
    {
     "name": "stdout",
     "output_type": "stream",
     "text": [
      "Got the result from ./1/test/filtrations/4/RadialFiltration_38_12/gray/diagrams.npy\n",
      "Got the result from ./1/test/filtrations/4/RadialFiltration_38_12/red/diagrams.npy\n",
      "Got the result from ./1/test/filtrations/4/RadialFiltration_38_12/green/diagrams.npy\n",
      "Got the result from ./1/test/filtrations/4/RadialFiltration_38_12/blue/diagrams.npy\n",
      "Applying filtration 42/72: 4/RadialFiltration_38_25\n",
      "RGB images received. Transforming to grayscale.\n"
     ]
    },
    {
     "name": "stderr",
     "output_type": "stream",
     "text": [
      "rgb2gray: 100%|██████████| 134/134 [00:00<00:00, 5360.18it/s]\n"
     ]
    },
    {
     "name": "stdout",
     "output_type": "stream",
     "text": [
      "Got the result from ./1/test/filtrations/4/RadialFiltration_38_25/gray/diagrams.npy\n",
      "Got the result from ./1/test/filtrations/4/RadialFiltration_38_25/red/diagrams.npy\n",
      "Got the result from ./1/test/filtrations/4/RadialFiltration_38_25/green/diagrams.npy\n",
      "Got the result from ./1/test/filtrations/4/RadialFiltration_38_25/blue/diagrams.npy\n",
      "Applying filtration 43/72: 4/RadialFiltration_38_38\n",
      "RGB images received. Transforming to grayscale.\n"
     ]
    },
    {
     "name": "stderr",
     "output_type": "stream",
     "text": [
      "rgb2gray: 100%|██████████| 134/134 [00:00<00:00, 4466.24it/s]\n"
     ]
    },
    {
     "name": "stdout",
     "output_type": "stream",
     "text": [
      "Got the result from ./1/test/filtrations/4/RadialFiltration_38_38/gray/diagrams.npy\n",
      "Got the result from ./1/test/filtrations/4/RadialFiltration_38_38/red/diagrams.npy\n",
      "Got the result from ./1/test/filtrations/4/RadialFiltration_38_38/green/diagrams.npy\n",
      "Got the result from ./1/test/filtrations/4/RadialFiltration_38_38/blue/diagrams.npy\n",
      "Applying filtration 44/72: 4/RadialFiltration_38_51\n",
      "RGB images received. Transforming to grayscale.\n"
     ]
    },
    {
     "name": "stderr",
     "output_type": "stream",
     "text": [
      "rgb2gray: 100%|██████████| 134/134 [00:00<00:00, 4466.88it/s]\n"
     ]
    },
    {
     "name": "stdout",
     "output_type": "stream",
     "text": [
      "Got the result from ./1/test/filtrations/4/RadialFiltration_38_51/gray/diagrams.npy\n",
      "Got the result from ./1/test/filtrations/4/RadialFiltration_38_51/red/diagrams.npy\n",
      "Got the result from ./1/test/filtrations/4/RadialFiltration_38_51/green/diagrams.npy\n",
      "Got the result from ./1/test/filtrations/4/RadialFiltration_38_51/blue/diagrams.npy\n",
      "Applying filtration 45/72: 4/RadialFiltration_51_12\n",
      "RGB images received. Transforming to grayscale.\n"
     ]
    },
    {
     "name": "stderr",
     "output_type": "stream",
     "text": [
      "rgb2gray: 100%|██████████| 134/134 [00:00<00:00, 5360.49it/s]\n"
     ]
    },
    {
     "name": "stdout",
     "output_type": "stream",
     "text": [
      "Got the result from ./1/test/filtrations/4/RadialFiltration_51_12/gray/diagrams.npy\n",
      "Got the result from ./1/test/filtrations/4/RadialFiltration_51_12/red/diagrams.npy\n",
      "Got the result from ./1/test/filtrations/4/RadialFiltration_51_12/green/diagrams.npy\n",
      "Got the result from ./1/test/filtrations/4/RadialFiltration_51_12/blue/diagrams.npy\n",
      "Applying filtration 46/72: 4/RadialFiltration_51_25\n",
      "RGB images received. Transforming to grayscale.\n"
     ]
    },
    {
     "name": "stderr",
     "output_type": "stream",
     "text": [
      "rgb2gray: 100%|██████████| 134/134 [00:00<00:00, 5359.93it/s]\n"
     ]
    },
    {
     "name": "stdout",
     "output_type": "stream",
     "text": [
      "Got the result from ./1/test/filtrations/4/RadialFiltration_51_25/gray/diagrams.npy\n",
      "Got the result from ./1/test/filtrations/4/RadialFiltration_51_25/red/diagrams.npy\n",
      "Got the result from ./1/test/filtrations/4/RadialFiltration_51_25/green/diagrams.npy\n",
      "Got the result from ./1/test/filtrations/4/RadialFiltration_51_25/blue/diagrams.npy\n",
      "Applying filtration 47/72: 4/RadialFiltration_51_38\n",
      "RGB images received. Transforming to grayscale.\n"
     ]
    },
    {
     "name": "stderr",
     "output_type": "stream",
     "text": [
      "rgb2gray: 100%|██████████| 134/134 [00:00<00:00, 5583.46it/s]\n"
     ]
    },
    {
     "name": "stdout",
     "output_type": "stream",
     "text": [
      "Got the result from ./1/test/filtrations/4/RadialFiltration_51_38/gray/diagrams.npy\n",
      "Got the result from ./1/test/filtrations/4/RadialFiltration_51_38/red/diagrams.npy\n",
      "Got the result from ./1/test/filtrations/4/RadialFiltration_51_38/green/diagrams.npy\n",
      "Got the result from ./1/test/filtrations/4/RadialFiltration_51_38/blue/diagrams.npy\n",
      "Applying filtration 48/72: 4/RadialFiltration_51_51\n",
      "RGB images received. Transforming to grayscale.\n"
     ]
    },
    {
     "name": "stderr",
     "output_type": "stream",
     "text": [
      "rgb2gray: 100%|██████████| 134/134 [00:00<00:00, 5583.13it/s]\n"
     ]
    },
    {
     "name": "stdout",
     "output_type": "stream",
     "text": [
      "Got the result from ./1/test/filtrations/4/RadialFiltration_51_51/gray/diagrams.npy\n",
      "Got the result from ./1/test/filtrations/4/RadialFiltration_51_51/red/diagrams.npy\n",
      "Got the result from ./1/test/filtrations/4/RadialFiltration_51_51/green/diagrams.npy\n",
      "Got the result from ./1/test/filtrations/4/RadialFiltration_51_51/blue/diagrams.npy\n",
      "Applying filtration 49/72: 6/HeightFiltrartion_-1_-1\n",
      "RGB images received. Transforming to grayscale.\n"
     ]
    },
    {
     "name": "stderr",
     "output_type": "stream",
     "text": [
      "rgb2gray: 100%|██████████| 134/134 [00:00<00:00, 4785.16it/s]\n"
     ]
    },
    {
     "name": "stdout",
     "output_type": "stream",
     "text": [
      "Got the result from ./1/test/filtrations/6/HeightFiltrartion_-1_-1/gray/diagrams.npy\n",
      "Got the result from ./1/test/filtrations/6/HeightFiltrartion_-1_-1/red/diagrams.npy\n",
      "Got the result from ./1/test/filtrations/6/HeightFiltrartion_-1_-1/green/diagrams.npy\n",
      "Got the result from ./1/test/filtrations/6/HeightFiltrartion_-1_-1/blue/diagrams.npy\n",
      "Applying filtration 50/72: 6/HeightFiltrartion_1_1\n",
      "RGB images received. Transforming to grayscale.\n"
     ]
    },
    {
     "name": "stderr",
     "output_type": "stream",
     "text": [
      "rgb2gray: 100%|██████████| 134/134 [00:00<00:00, 4187.30it/s]\n"
     ]
    },
    {
     "name": "stdout",
     "output_type": "stream",
     "text": [
      "Got the result from ./1/test/filtrations/6/HeightFiltrartion_1_1/gray/diagrams.npy\n",
      "Got the result from ./1/test/filtrations/6/HeightFiltrartion_1_1/red/diagrams.npy\n",
      "Got the result from ./1/test/filtrations/6/HeightFiltrartion_1_1/green/diagrams.npy\n",
      "Got the result from ./1/test/filtrations/6/HeightFiltrartion_1_1/blue/diagrams.npy\n",
      "Applying filtration 51/72: 6/HeightFiltrartion_1_-1\n",
      "RGB images received. Transforming to grayscale.\n"
     ]
    },
    {
     "name": "stderr",
     "output_type": "stream",
     "text": [
      "rgb2gray: 100%|██████████| 134/134 [00:00<00:00, 5360.03it/s]\n"
     ]
    },
    {
     "name": "stdout",
     "output_type": "stream",
     "text": [
      "Got the result from ./1/test/filtrations/6/HeightFiltrartion_1_-1/gray/diagrams.npy\n",
      "Got the result from ./1/test/filtrations/6/HeightFiltrartion_1_-1/red/diagrams.npy\n",
      "Got the result from ./1/test/filtrations/6/HeightFiltrartion_1_-1/green/diagrams.npy\n",
      "Got the result from ./1/test/filtrations/6/HeightFiltrartion_1_-1/blue/diagrams.npy\n",
      "Applying filtration 52/72: 6/HeightFiltrartion_-1_1\n",
      "RGB images received. Transforming to grayscale.\n"
     ]
    },
    {
     "name": "stderr",
     "output_type": "stream",
     "text": [
      "rgb2gray: 100%|██████████| 134/134 [00:00<00:00, 3940.96it/s]\n"
     ]
    },
    {
     "name": "stdout",
     "output_type": "stream",
     "text": [
      "Got the result from ./1/test/filtrations/6/HeightFiltrartion_-1_1/gray/diagrams.npy\n",
      "Got the result from ./1/test/filtrations/6/HeightFiltrartion_-1_1/red/diagrams.npy\n",
      "Got the result from ./1/test/filtrations/6/HeightFiltrartion_-1_1/green/diagrams.npy\n",
      "Got the result from ./1/test/filtrations/6/HeightFiltrartion_-1_1/blue/diagrams.npy\n",
      "Applying filtration 53/72: 6/HeightFiltrartion_0_-1\n",
      "RGB images received. Transforming to grayscale.\n"
     ]
    },
    {
     "name": "stderr",
     "output_type": "stream",
     "text": [
      "rgb2gray: 100%|██████████| 134/134 [00:00<00:00, 4620.00it/s]\n"
     ]
    },
    {
     "name": "stdout",
     "output_type": "stream",
     "text": [
      "Got the result from ./1/test/filtrations/6/HeightFiltrartion_0_-1/gray/diagrams.npy\n",
      "Got the result from ./1/test/filtrations/6/HeightFiltrartion_0_-1/red/diagrams.npy\n",
      "Got the result from ./1/test/filtrations/6/HeightFiltrartion_0_-1/green/diagrams.npy\n",
      "Got the result from ./1/test/filtrations/6/HeightFiltrartion_0_-1/blue/diagrams.npy\n",
      "Applying filtration 54/72: 6/HeightFiltrartion_0_1\n",
      "RGB images received. Transforming to grayscale.\n"
     ]
    },
    {
     "name": "stderr",
     "output_type": "stream",
     "text": [
      "rgb2gray: 100%|██████████| 134/134 [00:00<00:00, 4785.29it/s]\n"
     ]
    },
    {
     "name": "stdout",
     "output_type": "stream",
     "text": [
      "Got the result from ./1/test/filtrations/6/HeightFiltrartion_0_1/gray/diagrams.npy\n",
      "Got the result from ./1/test/filtrations/6/HeightFiltrartion_0_1/red/diagrams.npy\n",
      "Got the result from ./1/test/filtrations/6/HeightFiltrartion_0_1/green/diagrams.npy\n",
      "Got the result from ./1/test/filtrations/6/HeightFiltrartion_0_1/blue/diagrams.npy\n",
      "Applying filtration 55/72: 6/HeightFiltrartion_-1_0\n",
      "RGB images received. Transforming to grayscale.\n"
     ]
    },
    {
     "name": "stderr",
     "output_type": "stream",
     "text": [
      "rgb2gray: 100%|██████████| 134/134 [00:00<00:00, 4962.88it/s]\n"
     ]
    },
    {
     "name": "stdout",
     "output_type": "stream",
     "text": [
      "Got the result from ./1/test/filtrations/6/HeightFiltrartion_-1_0/gray/diagrams.npy\n",
      "Got the result from ./1/test/filtrations/6/HeightFiltrartion_-1_0/red/diagrams.npy\n",
      "Got the result from ./1/test/filtrations/6/HeightFiltrartion_-1_0/green/diagrams.npy\n",
      "Got the result from ./1/test/filtrations/6/HeightFiltrartion_-1_0/blue/diagrams.npy\n",
      "Applying filtration 56/72: 6/HeightFiltrartion_1_0\n",
      "RGB images received. Transforming to grayscale.\n"
     ]
    },
    {
     "name": "stderr",
     "output_type": "stream",
     "text": [
      "rgb2gray: 100%|██████████| 134/134 [00:00<00:00, 4962.84it/s]\n"
     ]
    },
    {
     "name": "stdout",
     "output_type": "stream",
     "text": [
      "Got the result from ./1/test/filtrations/6/HeightFiltrartion_1_0/gray/diagrams.npy\n",
      "Got the result from ./1/test/filtrations/6/HeightFiltrartion_1_0/red/diagrams.npy\n",
      "Got the result from ./1/test/filtrations/6/HeightFiltrartion_1_0/green/diagrams.npy\n",
      "Got the result from ./1/test/filtrations/6/HeightFiltrartion_1_0/blue/diagrams.npy\n",
      "Applying filtration 57/72: 6/RadialFiltration_12_12\n",
      "RGB images received. Transforming to grayscale.\n"
     ]
    },
    {
     "name": "stderr",
     "output_type": "stream",
     "text": [
      "rgb2gray: 100%|██████████| 134/134 [00:00<00:00, 4962.75it/s]"
     ]
    },
    {
     "name": "stdout",
     "output_type": "stream",
     "text": [
      "Got the result from ./1/test/filtrations/6/RadialFiltration_12_12/gray/diagrams.npy\n"
     ]
    },
    {
     "name": "stderr",
     "output_type": "stream",
     "text": [
      "\n"
     ]
    },
    {
     "name": "stdout",
     "output_type": "stream",
     "text": [
      "Got the result from ./1/test/filtrations/6/RadialFiltration_12_12/red/diagrams.npy\n",
      "Got the result from ./1/test/filtrations/6/RadialFiltration_12_12/green/diagrams.npy\n",
      "Got the result from ./1/test/filtrations/6/RadialFiltration_12_12/blue/diagrams.npy\n",
      "Applying filtration 58/72: 6/RadialFiltration_12_25\n",
      "RGB images received. Transforming to grayscale.\n"
     ]
    },
    {
     "name": "stderr",
     "output_type": "stream",
     "text": [
      "rgb2gray: 100%|██████████| 134/134 [00:00<00:00, 5583.35it/s]\n"
     ]
    },
    {
     "name": "stdout",
     "output_type": "stream",
     "text": [
      "Got the result from ./1/test/filtrations/6/RadialFiltration_12_25/gray/diagrams.npy\n",
      "Got the result from ./1/test/filtrations/6/RadialFiltration_12_25/red/diagrams.npy\n",
      "Got the result from ./1/test/filtrations/6/RadialFiltration_12_25/green/diagrams.npy\n",
      "Got the result from ./1/test/filtrations/6/RadialFiltration_12_25/blue/diagrams.npy\n",
      "Applying filtration 59/72: 6/RadialFiltration_12_38\n",
      "RGB images received. Transforming to grayscale.\n"
     ]
    },
    {
     "name": "stderr",
     "output_type": "stream",
     "text": [
      "rgb2gray: 100%|██████████| 134/134 [00:00<00:00, 5360.29it/s]\n"
     ]
    },
    {
     "name": "stdout",
     "output_type": "stream",
     "text": [
      "Got the result from ./1/test/filtrations/6/RadialFiltration_12_38/gray/diagrams.npy\n",
      "Got the result from ./1/test/filtrations/6/RadialFiltration_12_38/red/diagrams.npy\n",
      "Got the result from ./1/test/filtrations/6/RadialFiltration_12_38/green/diagrams.npy\n",
      "Got the result from ./1/test/filtrations/6/RadialFiltration_12_38/blue/diagrams.npy\n",
      "Applying filtration 60/72: 6/RadialFiltration_12_51\n",
      "RGB images received. Transforming to grayscale.\n"
     ]
    },
    {
     "name": "stderr",
     "output_type": "stream",
     "text": [
      "rgb2gray: 100%|██████████| 134/134 [00:00<00:00, 4060.72it/s]\n"
     ]
    },
    {
     "name": "stdout",
     "output_type": "stream",
     "text": [
      "Got the result from ./1/test/filtrations/6/RadialFiltration_12_51/gray/diagrams.npy\n",
      "Got the result from ./1/test/filtrations/6/RadialFiltration_12_51/red/diagrams.npy\n",
      "Got the result from ./1/test/filtrations/6/RadialFiltration_12_51/green/diagrams.npy\n",
      "Got the result from ./1/test/filtrations/6/RadialFiltration_12_51/blue/diagrams.npy\n",
      "Applying filtration 61/72: 6/RadialFiltration_25_12\n",
      "RGB images received. Transforming to grayscale.\n"
     ]
    },
    {
     "name": "stderr",
     "output_type": "stream",
     "text": [
      "rgb2gray: 100%|██████████| 134/134 [00:00<00:00, 5825.66it/s]\n"
     ]
    },
    {
     "name": "stdout",
     "output_type": "stream",
     "text": [
      "Got the result from ./1/test/filtrations/6/RadialFiltration_25_12/gray/diagrams.npy\n",
      "Got the result from ./1/test/filtrations/6/RadialFiltration_25_12/red/diagrams.npy\n",
      "Got the result from ./1/test/filtrations/6/RadialFiltration_25_12/green/diagrams.npy\n",
      "Got the result from ./1/test/filtrations/6/RadialFiltration_25_12/blue/diagrams.npy\n",
      "Applying filtration 62/72: 6/RadialFiltration_25_25\n",
      "RGB images received. Transforming to grayscale.\n"
     ]
    },
    {
     "name": "stderr",
     "output_type": "stream",
     "text": [
      "rgb2gray: 100%|██████████| 134/134 [00:00<00:00, 5573.55it/s]\n"
     ]
    },
    {
     "name": "stdout",
     "output_type": "stream",
     "text": [
      "Got the result from ./1/test/filtrations/6/RadialFiltration_25_25/gray/diagrams.npy\n",
      "Got the result from ./1/test/filtrations/6/RadialFiltration_25_25/red/diagrams.npy\n",
      "Got the result from ./1/test/filtrations/6/RadialFiltration_25_25/green/diagrams.npy\n",
      "Got the result from ./1/test/filtrations/6/RadialFiltration_25_25/blue/diagrams.npy\n",
      "Applying filtration 63/72: 6/RadialFiltration_25_38\n",
      "RGB images received. Transforming to grayscale.\n"
     ]
    },
    {
     "name": "stderr",
     "output_type": "stream",
     "text": [
      "rgb2gray: 100%|██████████| 134/134 [00:00<00:00, 5825.91it/s]\n"
     ]
    },
    {
     "name": "stdout",
     "output_type": "stream",
     "text": [
      "Got the result from ./1/test/filtrations/6/RadialFiltration_25_38/gray/diagrams.npy\n",
      "Got the result from ./1/test/filtrations/6/RadialFiltration_25_38/red/diagrams.npy\n",
      "Got the result from ./1/test/filtrations/6/RadialFiltration_25_38/green/diagrams.npy\n",
      "Got the result from ./1/test/filtrations/6/RadialFiltration_25_38/blue/diagrams.npy\n",
      "Applying filtration 64/72: 6/RadialFiltration_25_51\n",
      "RGB images received. Transforming to grayscale.\n"
     ]
    },
    {
     "name": "stderr",
     "output_type": "stream",
     "text": [
      "rgb2gray: 100%|██████████| 134/134 [00:00<00:00, 5826.27it/s]\n"
     ]
    },
    {
     "name": "stdout",
     "output_type": "stream",
     "text": [
      "Got the result from ./1/test/filtrations/6/RadialFiltration_25_51/gray/diagrams.npy\n",
      "Got the result from ./1/test/filtrations/6/RadialFiltration_25_51/red/diagrams.npy\n",
      "Got the result from ./1/test/filtrations/6/RadialFiltration_25_51/green/diagrams.npy\n",
      "Got the result from ./1/test/filtrations/6/RadialFiltration_25_51/blue/diagrams.npy\n",
      "Applying filtration 65/72: 6/RadialFiltration_38_12\n",
      "RGB images received. Transforming to grayscale.\n"
     ]
    },
    {
     "name": "stderr",
     "output_type": "stream",
     "text": [
      "rgb2gray: 100%|██████████| 134/134 [00:00<00:00, 5825.84it/s]"
     ]
    },
    {
     "name": "stdout",
     "output_type": "stream",
     "text": [
      "Got the result from ./1/test/filtrations/6/RadialFiltration_38_12/gray/diagrams.npy\n"
     ]
    },
    {
     "name": "stderr",
     "output_type": "stream",
     "text": [
      "\n"
     ]
    },
    {
     "name": "stdout",
     "output_type": "stream",
     "text": [
      "Got the result from ./1/test/filtrations/6/RadialFiltration_38_12/red/diagrams.npy\n",
      "Got the result from ./1/test/filtrations/6/RadialFiltration_38_12/green/diagrams.npy\n",
      "Got the result from ./1/test/filtrations/6/RadialFiltration_38_12/blue/diagrams.npy\n",
      "Applying filtration 66/72: 6/RadialFiltration_38_25\n",
      "RGB images received. Transforming to grayscale.\n"
     ]
    },
    {
     "name": "stderr",
     "output_type": "stream",
     "text": [
      "rgb2gray: 100%|██████████| 134/134 [00:00<00:00, 4962.75it/s]"
     ]
    },
    {
     "name": "stdout",
     "output_type": "stream",
     "text": [
      "Got the result from ./1/test/filtrations/6/RadialFiltration_38_25/gray/diagrams.npy\n"
     ]
    },
    {
     "name": "stderr",
     "output_type": "stream",
     "text": [
      "\n"
     ]
    },
    {
     "name": "stdout",
     "output_type": "stream",
     "text": [
      "Got the result from ./1/test/filtrations/6/RadialFiltration_38_25/red/diagrams.npy\n",
      "Got the result from ./1/test/filtrations/6/RadialFiltration_38_25/green/diagrams.npy\n",
      "Got the result from ./1/test/filtrations/6/RadialFiltration_38_25/blue/diagrams.npy\n",
      "Applying filtration 67/72: 6/RadialFiltration_38_38\n",
      "RGB images received. Transforming to grayscale.\n"
     ]
    },
    {
     "name": "stderr",
     "output_type": "stream",
     "text": [
      "rgb2gray: 100%|██████████| 134/134 [00:00<00:00, 3045.46it/s]\n"
     ]
    },
    {
     "name": "stdout",
     "output_type": "stream",
     "text": [
      "Got the result from ./1/test/filtrations/6/RadialFiltration_38_38/gray/diagrams.npy\n",
      "Got the result from ./1/test/filtrations/6/RadialFiltration_38_38/red/diagrams.npy\n",
      "Got the result from ./1/test/filtrations/6/RadialFiltration_38_38/green/diagrams.npy\n",
      "Got the result from ./1/test/filtrations/6/RadialFiltration_38_38/blue/diagrams.npy\n",
      "Applying filtration 68/72: 6/RadialFiltration_38_51\n",
      "RGB images received. Transforming to grayscale.\n"
     ]
    },
    {
     "name": "stderr",
     "output_type": "stream",
     "text": [
      "rgb2gray: 100%|██████████| 134/134 [00:00<00:00, 3526.31it/s]\n"
     ]
    },
    {
     "name": "stdout",
     "output_type": "stream",
     "text": [
      "Got the result from ./1/test/filtrations/6/RadialFiltration_38_51/gray/diagrams.npy\n",
      "Got the result from ./1/test/filtrations/6/RadialFiltration_38_51/red/diagrams.npy\n",
      "Got the result from ./1/test/filtrations/6/RadialFiltration_38_51/green/diagrams.npy\n",
      "Got the result from ./1/test/filtrations/6/RadialFiltration_38_51/blue/diagrams.npy\n",
      "Applying filtration 69/72: 6/RadialFiltration_51_12\n",
      "RGB images received. Transforming to grayscale.\n"
     ]
    },
    {
     "name": "stderr",
     "output_type": "stream",
     "text": [
      "rgb2gray: 100%|██████████| 134/134 [00:00<00:00, 4785.78it/s]\n"
     ]
    },
    {
     "name": "stdout",
     "output_type": "stream",
     "text": [
      "Got the result from ./1/test/filtrations/6/RadialFiltration_51_12/gray/diagrams.npy\n",
      "Got the result from ./1/test/filtrations/6/RadialFiltration_51_12/red/diagrams.npy\n",
      "Got the result from ./1/test/filtrations/6/RadialFiltration_51_12/green/diagrams.npy\n",
      "Got the result from ./1/test/filtrations/6/RadialFiltration_51_12/blue/diagrams.npy\n",
      "Applying filtration 70/72: 6/RadialFiltration_51_25\n",
      "RGB images received. Transforming to grayscale.\n"
     ]
    },
    {
     "name": "stderr",
     "output_type": "stream",
     "text": [
      "rgb2gray: 100%|██████████| 134/134 [00:00<00:00, 5153.79it/s]\n"
     ]
    },
    {
     "name": "stdout",
     "output_type": "stream",
     "text": [
      "Got the result from ./1/test/filtrations/6/RadialFiltration_51_25/gray/diagrams.npy\n",
      "Got the result from ./1/test/filtrations/6/RadialFiltration_51_25/red/diagrams.npy\n",
      "Got the result from ./1/test/filtrations/6/RadialFiltration_51_25/green/diagrams.npy\n",
      "Got the result from ./1/test/filtrations/6/RadialFiltration_51_25/blue/diagrams.npy\n",
      "Applying filtration 71/72: 6/RadialFiltration_51_38\n",
      "RGB images received. Transforming to grayscale.\n"
     ]
    },
    {
     "name": "stderr",
     "output_type": "stream",
     "text": [
      "rgb2gray: 100%|██████████| 134/134 [00:00<00:00, 5573.94it/s]\n"
     ]
    },
    {
     "name": "stdout",
     "output_type": "stream",
     "text": [
      "Got the result from ./1/test/filtrations/6/RadialFiltration_51_38/gray/diagrams.npy\n",
      "Got the result from ./1/test/filtrations/6/RadialFiltration_51_38/red/diagrams.npy\n",
      "Got the result from ./1/test/filtrations/6/RadialFiltration_51_38/green/diagrams.npy\n",
      "Got the result from ./1/test/filtrations/6/RadialFiltration_51_38/blue/diagrams.npy\n",
      "Applying filtration 72/72: 6/RadialFiltration_51_51\n",
      "RGB images received. Transforming to grayscale.\n"
     ]
    },
    {
     "name": "stderr",
     "output_type": "stream",
     "text": [
      "rgb2gray: 100%|██████████| 134/134 [00:00<00:00, 5359.98it/s]"
     ]
    },
    {
     "name": "stdout",
     "output_type": "stream",
     "text": [
      "Got the result from ./1/test/filtrations/6/RadialFiltration_51_51/gray/diagrams.npy"
     ]
    },
    {
     "name": "stderr",
     "output_type": "stream",
     "text": [
      "\n"
     ]
    },
    {
     "name": "stdout",
     "output_type": "stream",
     "text": [
      "\n",
      "Got the result from ./1/test/filtrations/6/RadialFiltration_51_51/red/diagrams.npy\n",
      "Got the result from ./1/test/filtrations/6/RadialFiltration_51_51/green/diagrams.npy\n",
      "Got the result from ./1/test/filtrations/6/RadialFiltration_51_51/blue/diagrams.npy\n",
      "Diagrams requested. Returning diagrams.\n"
     ]
    }
   ],
   "source": [
    "import cvtda.topology\n",
    "extractor = cvtda.topology.FeatureExtractor(only_get_from_dump = True, return_diagrams = True)\n",
    "extractor = extractor.fit(train_images, \"1/train\")\n",
    "train_diagrams = extractor.transform(train_images, \"1/train\")\n",
    "test_diagrams = extractor.transform(test_images, \"1/test\")"
   ]
  },
  {
   "cell_type": "code",
   "execution_count": 6,
   "metadata": {},
   "outputs": [
    {
     "name": "stderr",
     "output_type": "stream",
     "text": [
      "Dataset: processing diagrams: 100%|██████████| 296/296 [10:02<00:00,  2.03s/it]\n"
     ]
    },
    {
     "name": "stdout",
     "output_type": "stream",
     "text": [
      "Constructed a dataset of 9030 images of shape torch.Size([3, 64, 64]) with 592 diagrams and 57599 features\n"
     ]
    },
    {
     "name": "stderr",
     "output_type": "stream",
     "text": [
      "Dataset: processing diagrams: 100%|██████████| 296/296 [00:08<00:00, 34.25it/s]\n"
     ]
    },
    {
     "name": "stdout",
     "output_type": "stream",
     "text": [
      "Constructed a dataset of 134 images of shape torch.Size([3, 64, 64]) with 592 diagrams and 57599 features\n",
      "Trying SimpleTopologicalLearner - <cvtda.face_recognition.SimpleTopologicalLearner.SimpleTopologicalLearner object at 0x0000023EDAF4B100>\n"
     ]
    },
    {
     "name": "stderr",
     "output_type": "stream",
     "text": [
      "Calculating pairwise distances: 100%|██████████| 17956/17956 [00:03<00:00, 5781.11it/s]\n",
      "Analyzing distances: 100%|██████████| 17956/17956 [00:01<00:00, 10115.82it/s]\n"
     ]
    },
    {
     "name": "stdout",
     "output_type": "stream",
     "text": [
      "Trying DiagramsLearner - <cvtda.face_recognition.DiagramsLearner.DiagramsLearner object at 0x0000023EBF67A2C0>\n"
     ]
    },
    {
     "name": "stderr",
     "output_type": "stream",
     "text": [
      "Calculating pairwise distances: 100%|██████████| 17956/17956 [38:25<00:00,  7.79it/s]\n",
      "Analyzing distances: 100%|██████████| 17956/17956 [00:02<00:00, 6472.64it/s]\n",
      "d:\\Programs\\Programming\\Python\\lib\\site-packages\\torch\\nn\\init.py:511: UserWarning: Initializing zero-element tensors is a no-op\n",
      "  warnings.warn(\"Initializing zero-element tensors is a no-op\")\n"
     ]
    },
    {
     "name": "stdout",
     "output_type": "stream",
     "text": [
      "Trying NNLearner_images - <cvtda.face_recognition.NNLearner.NNLearner object at 0x000002402E78BE20>\n",
      "Input to LazyLinear: 1024\n",
      "Parameters: 14069312\n"
     ]
    },
    {
     "name": "stderr",
     "output_type": "stream",
     "text": [
      "Train: 100%|██████████| 25/25 [05:01<00:00, 12.05s/it, loss=10.6, AMI=0.325, NMI=0.675, mean_average_precision=0.395, mean_average_precision_at_r=0.247, mean_reciprocal_rank=0.586, precision_at_1=0.448, r_precision=0.323]\n",
      "Calculating pairwise distances: 100%|██████████| 17956/17956 [01:13<00:00, 244.59it/s]\n",
      "Analyzing distances: 100%|██████████| 17956/17956 [00:01<00:00, 12539.08it/s]\n",
      "d:\\Programs\\Programming\\Python\\lib\\site-packages\\torch\\nn\\init.py:511: UserWarning: Initializing zero-element tensors is a no-op\n",
      "  warnings.warn(\"Initializing zero-element tensors is a no-op\")\n"
     ]
    },
    {
     "name": "stdout",
     "output_type": "stream",
     "text": [
      "Trying NNLearner_features - <cvtda.face_recognition.NNLearner.NNLearner object at 0x000002402E78BE80>\n",
      "Input to LazyLinear: 1024\n",
      "Parameters: 61349888\n"
     ]
    },
    {
     "name": "stderr",
     "output_type": "stream",
     "text": [
      "Train: 100%|██████████| 25/25 [01:26<00:00,  3.47s/it, loss=9.36, AMI=0.353, NMI=0.686, mean_average_precision=0.396, mean_average_precision_at_r=0.275, mean_reciprocal_rank=0.547, precision_at_1=0.425, r_precision=0.346]\n",
      "Calculating pairwise distances: 100%|██████████| 17956/17956 [00:31<00:00, 576.63it/s]\n",
      "Analyzing distances: 100%|██████████| 17956/17956 [00:01<00:00, 12392.00it/s]\n",
      "d:\\Programs\\Programming\\Python\\lib\\site-packages\\torch\\nn\\init.py:511: UserWarning: Initializing zero-element tensors is a no-op\n",
      "  warnings.warn(\"Initializing zero-element tensors is a no-op\")\n"
     ]
    },
    {
     "name": "stdout",
     "output_type": "stream",
     "text": [
      "Trying NNLearner_features_images - <cvtda.face_recognition.NNLearner.NNLearner object at 0x000002402E78BEB0>\n",
      "Input to LazyLinear: 2048\n",
      "Parameters: 74100288\n"
     ]
    },
    {
     "name": "stderr",
     "output_type": "stream",
     "text": [
      "Train: 100%|██████████| 25/25 [06:01<00:00, 14.48s/it, loss=9.47, AMI=0.357, NMI=0.692, mean_average_precision=0.447, mean_average_precision_at_r=0.311, mean_reciprocal_rank=0.576, precision_at_1=0.448, r_precision=0.384]\n",
      "Calculating pairwise distances: 100%|██████████| 17956/17956 [01:38<00:00, 181.56it/s]\n",
      "Analyzing distances: 100%|██████████| 17956/17956 [00:01<00:00, 12992.78it/s]\n"
     ]
    },
    {
     "name": "stdout",
     "output_type": "stream",
     "text": [
      "Trying NNLearner_diagrams - <cvtda.face_recognition.NNLearner.NNLearner object at 0x000002402E78BD60>\n",
      "Input to LazyLinear: 1024\n",
      "Parameters: 41316352\n"
     ]
    },
    {
     "name": "stderr",
     "output_type": "stream",
     "text": [
      "Train: 100%|██████████| 25/25 [1:45:08<00:00, 252.33s/it, loss=10.9, AMI=0.102, NMI=0.574, mean_average_precision=0.168, mean_average_precision_at_r=0.0847, mean_reciprocal_rank=0.312, precision_at_1=0.187, r_precision=0.13]  \n",
      "Calculating pairwise distances: 100%|██████████| 17956/17956 [1:03:44<00:00,  4.70it/s]\n",
      "Analyzing distances: 100%|██████████| 17956/17956 [00:02<00:00, 8355.68it/s]\n"
     ]
    },
    {
     "data": {
      "image/png": "[encoded data removed]",
      "text/plain": [
       "<Figure size 1400x500 with 6 Axes>"
      ]
     },
     "metadata": {},
     "output_type": "display_data"
    }
   ],
   "source": [
    "import cvtda.face_recognition\n",
    "\n",
    "cvtda.face_recognition.learn(\n",
    "    train_images, train_features, train_labels, train_diagrams,\n",
    "    test_images, test_features, test_labels, test_diagrams,\n",
    "    dump_name = \"1/predictions\", n_jobs = 1\n",
    ")"
   ]
  }
 ],
 "metadata": {
  "kernelspec": {
   "display_name": "Python 3",
   "language": "python",
   "name": "python3"
  },
  "language_info": {
   "codemirror_mode": {
    "name": "ipython",
    "version": 3
   },
   "file_extension": ".py",
   "mimetype": "text/x-python",
   "name": "python",
   "nbconvert_exporter": "python",
   "pygments_lexer": "ipython3",
   "version": "3.10.11"
  }
 },
 "nbformat": 4,
 "nbformat_minor": 2
}
