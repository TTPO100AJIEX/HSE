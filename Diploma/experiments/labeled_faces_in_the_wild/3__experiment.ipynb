{
 "cells": [
  {
   "cell_type": "code",
   "execution_count": 1,
   "metadata": {},
   "outputs": [],
   "source": [
    "import numpy\n",
    "import torchvision\n",
    "import torchvision.transforms.v2\n",
    "\n",
    "transform = torchvision.transforms.v2.Compose([\n",
    "    torchvision.transforms.v2.CenterCrop((128, 128)),\n",
    "    torchvision.transforms.v2.Resize((64, 64))\n",
    "])\n",
    "\n",
    "train = torchvision.datasets.ImageFolder(\"lfw/training\", transform = transform)\n",
    "test = torchvision.datasets.ImageFolder(\"lfw/testing\", transform = transform)"
   ]
  },
  {
   "cell_type": "code",
   "execution_count": 2,
   "metadata": {},
   "outputs": [
    {
     "name": "stdout",
     "output_type": "stream",
     "text": [
      "(9030, 64, 64, 3) (134, 64, 64, 3)\n"
     ]
    }
   ],
   "source": [
    "train_images = numpy.array([ numpy.array(item[0]) / 255 for item in train ])\n",
    "train_labels = numpy.array([ item[1] for item in train ])\n",
    "\n",
    "test_images = numpy.array([ numpy.array(item[0]) / 255 for item in test ])\n",
    "test_labels = numpy.array([ item[1] for item in test ])\n",
    "\n",
    "print(train_images.shape, test_images.shape)"
   ]
  },
  {
   "cell_type": "code",
   "execution_count": 3,
   "metadata": {},
   "outputs": [
    {
     "name": "stdout",
     "output_type": "stream",
     "text": [
      "Calculating inverted images\n",
      "RGB images received. Transforming to grayscale.\n"
     ]
    },
    {
     "name": "stderr",
     "output_type": "stream",
     "text": [
      "rgb2gray: 100%|██████████| 9030/9030 [00:02<00:00, 3768.78it/s]\n"
     ]
    },
    {
     "name": "stdout",
     "output_type": "stream",
     "text": [
      "Got the result from ./1/train/greyscale/gray/features.npy\n",
      "Got the result from ./1/train/greyscale/gray/features.npy\n",
      "Got the result from ./1/train/greyscale/red/features.npy\n",
      "Got the result from ./1/train/greyscale/red/features.npy\n",
      "Got the result from ./1/train/greyscale/green/features.npy\n",
      "Got the result from ./1/train/greyscale/green/features.npy\n",
      "Got the result from ./1/train/greyscale/blue/features.npy\n",
      "Got the result from ./1/train/greyscale/blue/features.npy\n",
      "RGB images received. Transforming to grayscale.\n"
     ]
    },
    {
     "name": "stderr",
     "output_type": "stream",
     "text": [
      "rgb2gray: 100%|██████████| 9030/9030 [00:01<00:00, 4883.04it/s]\n"
     ]
    },
    {
     "name": "stdout",
     "output_type": "stream",
     "text": [
      "Got the result from ./1/train/greyscale/gray/features.npy\n",
      "Got the result from ./1/train/greyscale/red/features.npy\n",
      "Got the result from ./1/train/greyscale/green/features.npy\n",
      "Got the result from ./1/train/greyscale/blue/features.npy\n",
      "RGB images received. Transforming to grayscale.\n"
     ]
    },
    {
     "name": "stderr",
     "output_type": "stream",
     "text": [
      "rgb2gray: 100%|██████████| 9030/9030 [00:01<00:00, 5001.93it/s]\n"
     ]
    },
    {
     "name": "stdout",
     "output_type": "stream",
     "text": [
      "Got the result from ./1/train/inverted_greyscale/gray/features.npy\n",
      "Got the result from ./1/train/inverted_greyscale/gray/features.npy\n",
      "Got the result from ./1/train/inverted_greyscale/red/features.npy\n",
      "Got the result from ./1/train/inverted_greyscale/red/features.npy\n",
      "Got the result from ./1/train/inverted_greyscale/green/features.npy\n",
      "Got the result from ./1/train/inverted_greyscale/green/features.npy\n",
      "Got the result from ./1/train/inverted_greyscale/blue/features.npy\n",
      "Got the result from ./1/train/inverted_greyscale/blue/features.npy\n",
      "RGB images received. Transforming to grayscale.\n"
     ]
    },
    {
     "name": "stderr",
     "output_type": "stream",
     "text": [
      "rgb2gray: 100%|██████████| 9030/9030 [00:01<00:00, 5061.76it/s] \n"
     ]
    },
    {
     "name": "stdout",
     "output_type": "stream",
     "text": [
      "Got the result from ./1/train/inverted_greyscale/gray/features.npy\n",
      "Got the result from ./1/train/inverted_greyscale/red/features.npy\n",
      "Got the result from ./1/train/inverted_greyscale/green/features.npy\n",
      "Got the result from ./1/train/inverted_greyscale/blue/features.npy\n",
      "Fitting filtrations\n",
      "Calculated radial centers for images of size 64x64: [12 25 38 51]x[12 25 38 51]\n",
      "Fitting filtration 1/72: 2/HeightFiltrartion_-1_-1\n",
      "RGB images received. Transforming to grayscale.\n"
     ]
    },
    {
     "name": "stderr",
     "output_type": "stream",
     "text": [
      "rgb2gray: 100%|██████████| 9030/9030 [00:01<00:00, 4907.77it/s]\n"
     ]
    },
    {
     "name": "stdout",
     "output_type": "stream",
     "text": [
      "Got the result from ./1/train/filtrations/2/HeightFiltrartion_-1_-1/gray/features.npy\n",
      "Got the result from ./1/train/filtrations/2/HeightFiltrartion_-1_-1/gray/features.npy\n",
      "Got the result from ./1/train/filtrations/2/HeightFiltrartion_-1_-1/red/features.npy\n",
      "Got the result from ./1/train/filtrations/2/HeightFiltrartion_-1_-1/red/features.npy\n",
      "Got the result from ./1/train/filtrations/2/HeightFiltrartion_-1_-1/green/features.npy\n",
      "Got the result from ./1/train/filtrations/2/HeightFiltrartion_-1_-1/green/features.npy\n",
      "Got the result from ./1/train/filtrations/2/HeightFiltrartion_-1_-1/blue/features.npy\n",
      "Got the result from ./1/train/filtrations/2/HeightFiltrartion_-1_-1/blue/features.npy\n",
      "Fitting filtration 2/72: 2/HeightFiltrartion_1_1\n",
      "RGB images received. Transforming to grayscale.\n"
     ]
    },
    {
     "name": "stderr",
     "output_type": "stream",
     "text": [
      "rgb2gray: 100%|██████████| 9030/9030 [00:01<00:00, 5041.39it/s]\n"
     ]
    },
    {
     "name": "stdout",
     "output_type": "stream",
     "text": [
      "Got the result from ./1/train/filtrations/2/HeightFiltrartion_1_1/gray/features.npy\n",
      "Got the result from ./1/train/filtrations/2/HeightFiltrartion_1_1/gray/features.npy\n",
      "Got the result from ./1/train/filtrations/2/HeightFiltrartion_1_1/red/features.npy\n",
      "Got the result from ./1/train/filtrations/2/HeightFiltrartion_1_1/red/features.npy\n",
      "Got the result from ./1/train/filtrations/2/HeightFiltrartion_1_1/green/features.npy\n",
      "Got the result from ./1/train/filtrations/2/HeightFiltrartion_1_1/green/features.npy\n",
      "Got the result from ./1/train/filtrations/2/HeightFiltrartion_1_1/blue/features.npy\n",
      "Got the result from ./1/train/filtrations/2/HeightFiltrartion_1_1/blue/features.npy\n",
      "Fitting filtration 3/72: 2/HeightFiltrartion_1_-1\n",
      "RGB images received. Transforming to grayscale.\n"
     ]
    },
    {
     "name": "stderr",
     "output_type": "stream",
     "text": [
      "rgb2gray: 100%|██████████| 9030/9030 [00:01<00:00, 4826.32it/s]\n"
     ]
    },
    {
     "name": "stdout",
     "output_type": "stream",
     "text": [
      "Got the result from ./1/train/filtrations/2/HeightFiltrartion_1_-1/gray/features.npy\n",
      "Got the result from ./1/train/filtrations/2/HeightFiltrartion_1_-1/gray/features.npy\n",
      "Got the result from ./1/train/filtrations/2/HeightFiltrartion_1_-1/red/features.npy\n",
      "Got the result from ./1/train/filtrations/2/HeightFiltrartion_1_-1/red/features.npy\n",
      "Got the result from ./1/train/filtrations/2/HeightFiltrartion_1_-1/green/features.npy\n",
      "Got the result from ./1/train/filtrations/2/HeightFiltrartion_1_-1/green/features.npy\n",
      "Got the result from ./1/train/filtrations/2/HeightFiltrartion_1_-1/blue/features.npy\n",
      "Got the result from ./1/train/filtrations/2/HeightFiltrartion_1_-1/blue/features.npy\n",
      "Fitting filtration 4/72: 2/HeightFiltrartion_-1_1\n",
      "RGB images received. Transforming to grayscale.\n"
     ]
    },
    {
     "name": "stderr",
     "output_type": "stream",
     "text": [
      "rgb2gray: 100%|██████████| 9030/9030 [00:01<00:00, 5171.86it/s]\n"
     ]
    },
    {
     "name": "stdout",
     "output_type": "stream",
     "text": [
      "Got the result from ./1/train/filtrations/2/HeightFiltrartion_-1_1/gray/features.npy\n",
      "Got the result from ./1/train/filtrations/2/HeightFiltrartion_-1_1/gray/features.npy\n",
      "Got the result from ./1/train/filtrations/2/HeightFiltrartion_-1_1/red/features.npy\n",
      "Got the result from ./1/train/filtrations/2/HeightFiltrartion_-1_1/red/features.npy\n",
      "Got the result from ./1/train/filtrations/2/HeightFiltrartion_-1_1/green/features.npy\n",
      "Got the result from ./1/train/filtrations/2/HeightFiltrartion_-1_1/green/features.npy\n",
      "Got the result from ./1/train/filtrations/2/HeightFiltrartion_-1_1/blue/features.npy\n",
      "Got the result from ./1/train/filtrations/2/HeightFiltrartion_-1_1/blue/features.npy\n",
      "Fitting filtration 5/72: 2/HeightFiltrartion_0_-1\n",
      "RGB images received. Transforming to grayscale.\n"
     ]
    },
    {
     "name": "stderr",
     "output_type": "stream",
     "text": [
      "rgb2gray: 100%|██████████| 9030/9030 [00:01<00:00, 5108.21it/s]\n"
     ]
    },
    {
     "name": "stdout",
     "output_type": "stream",
     "text": [
      "Got the result from ./1/train/filtrations/2/HeightFiltrartion_0_-1/gray/features.npy\n",
      "Got the result from ./1/train/filtrations/2/HeightFiltrartion_0_-1/gray/features.npy\n",
      "Got the result from ./1/train/filtrations/2/HeightFiltrartion_0_-1/red/features.npy\n",
      "Got the result from ./1/train/filtrations/2/HeightFiltrartion_0_-1/red/features.npy\n",
      "Got the result from ./1/train/filtrations/2/HeightFiltrartion_0_-1/green/features.npy\n",
      "Got the result from ./1/train/filtrations/2/HeightFiltrartion_0_-1/green/features.npy\n",
      "Got the result from ./1/train/filtrations/2/HeightFiltrartion_0_-1/blue/features.npy\n",
      "Got the result from ./1/train/filtrations/2/HeightFiltrartion_0_-1/blue/features.npy\n",
      "Fitting filtration 6/72: 2/HeightFiltrartion_0_1\n",
      "RGB images received. Transforming to grayscale.\n"
     ]
    },
    {
     "name": "stderr",
     "output_type": "stream",
     "text": [
      "rgb2gray: 100%|██████████| 9030/9030 [00:01<00:00, 4579.04it/s]\n"
     ]
    },
    {
     "name": "stdout",
     "output_type": "stream",
     "text": [
      "Got the result from ./1/train/filtrations/2/HeightFiltrartion_0_1/gray/features.npy\n",
      "Got the result from ./1/train/filtrations/2/HeightFiltrartion_0_1/gray/features.npy\n",
      "Got the result from ./1/train/filtrations/2/HeightFiltrartion_0_1/red/features.npy\n",
      "Got the result from ./1/train/filtrations/2/HeightFiltrartion_0_1/red/features.npy\n",
      "Got the result from ./1/train/filtrations/2/HeightFiltrartion_0_1/green/features.npy\n",
      "Got the result from ./1/train/filtrations/2/HeightFiltrartion_0_1/green/features.npy\n",
      "Got the result from ./1/train/filtrations/2/HeightFiltrartion_0_1/blue/features.npy\n",
      "Got the result from ./1/train/filtrations/2/HeightFiltrartion_0_1/blue/features.npy\n",
      "Fitting filtration 7/72: 2/HeightFiltrartion_-1_0\n",
      "RGB images received. Transforming to grayscale.\n"
     ]
    },
    {
     "name": "stderr",
     "output_type": "stream",
     "text": [
      "rgb2gray: 100%|██████████| 9030/9030 [00:01<00:00, 4731.89it/s]\n"
     ]
    },
    {
     "name": "stdout",
     "output_type": "stream",
     "text": [
      "Got the result from ./1/train/filtrations/2/HeightFiltrartion_-1_0/gray/features.npy\n",
      "Got the result from ./1/train/filtrations/2/HeightFiltrartion_-1_0/gray/features.npy\n",
      "Got the result from ./1/train/filtrations/2/HeightFiltrartion_-1_0/red/features.npy\n",
      "Got the result from ./1/train/filtrations/2/HeightFiltrartion_-1_0/red/features.npy\n",
      "Got the result from ./1/train/filtrations/2/HeightFiltrartion_-1_0/green/features.npy\n",
      "Got the result from ./1/train/filtrations/2/HeightFiltrartion_-1_0/green/features.npy\n",
      "Got the result from ./1/train/filtrations/2/HeightFiltrartion_-1_0/blue/features.npy\n",
      "Got the result from ./1/train/filtrations/2/HeightFiltrartion_-1_0/blue/features.npy\n",
      "Fitting filtration 8/72: 2/HeightFiltrartion_1_0\n",
      "RGB images received. Transforming to grayscale.\n"
     ]
    },
    {
     "name": "stderr",
     "output_type": "stream",
     "text": [
      "rgb2gray: 100%|██████████| 9030/9030 [00:01<00:00, 5083.93it/s]\n"
     ]
    },
    {
     "name": "stdout",
     "output_type": "stream",
     "text": [
      "Got the result from ./1/train/filtrations/2/HeightFiltrartion_1_0/gray/features.npy\n",
      "Got the result from ./1/train/filtrations/2/HeightFiltrartion_1_0/gray/features.npy\n",
      "Got the result from ./1/train/filtrations/2/HeightFiltrartion_1_0/red/features.npy\n",
      "Got the result from ./1/train/filtrations/2/HeightFiltrartion_1_0/red/features.npy\n",
      "Got the result from ./1/train/filtrations/2/HeightFiltrartion_1_0/green/features.npy\n",
      "Got the result from ./1/train/filtrations/2/HeightFiltrartion_1_0/green/features.npy\n",
      "Got the result from ./1/train/filtrations/2/HeightFiltrartion_1_0/blue/features.npy\n",
      "Got the result from ./1/train/filtrations/2/HeightFiltrartion_1_0/blue/features.npy\n",
      "Fitting filtration 9/72: 2/RadialFiltration_12_12\n",
      "RGB images received. Transforming to grayscale.\n"
     ]
    },
    {
     "name": "stderr",
     "output_type": "stream",
     "text": [
      "rgb2gray: 100%|██████████| 9030/9030 [00:01<00:00, 4816.60it/s]\n"
     ]
    },
    {
     "name": "stdout",
     "output_type": "stream",
     "text": [
      "Got the result from ./1/train/filtrations/2/RadialFiltration_12_12/gray/features.npy\n",
      "Got the result from ./1/train/filtrations/2/RadialFiltration_12_12/gray/features.npy\n",
      "Got the result from ./1/train/filtrations/2/RadialFiltration_12_12/red/features.npy\n",
      "Got the result from ./1/train/filtrations/2/RadialFiltration_12_12/red/features.npy\n",
      "Got the result from ./1/train/filtrations/2/RadialFiltration_12_12/green/features.npy\n",
      "Got the result from ./1/train/filtrations/2/RadialFiltration_12_12/green/features.npy\n",
      "Got the result from ./1/train/filtrations/2/RadialFiltration_12_12/blue/features.npy\n",
      "Got the result from ./1/train/filtrations/2/RadialFiltration_12_12/blue/features.npy\n",
      "Fitting filtration 10/72: 2/RadialFiltration_12_25\n",
      "RGB images received. Transforming to grayscale.\n"
     ]
    },
    {
     "name": "stderr",
     "output_type": "stream",
     "text": [
      "rgb2gray: 100%|██████████| 9030/9030 [00:01<00:00, 4960.71it/s]\n"
     ]
    },
    {
     "name": "stdout",
     "output_type": "stream",
     "text": [
      "Got the result from ./1/train/filtrations/2/RadialFiltration_12_25/gray/features.npy\n",
      "Got the result from ./1/train/filtrations/2/RadialFiltration_12_25/gray/features.npy\n",
      "Got the result from ./1/train/filtrations/2/RadialFiltration_12_25/red/features.npy\n",
      "Got the result from ./1/train/filtrations/2/RadialFiltration_12_25/red/features.npy\n",
      "Got the result from ./1/train/filtrations/2/RadialFiltration_12_25/green/features.npy\n",
      "Got the result from ./1/train/filtrations/2/RadialFiltration_12_25/green/features.npy\n",
      "Got the result from ./1/train/filtrations/2/RadialFiltration_12_25/blue/features.npy\n",
      "Got the result from ./1/train/filtrations/2/RadialFiltration_12_25/blue/features.npy\n",
      "Fitting filtration 11/72: 2/RadialFiltration_12_38\n",
      "RGB images received. Transforming to grayscale.\n"
     ]
    },
    {
     "name": "stderr",
     "output_type": "stream",
     "text": [
      "rgb2gray: 100%|██████████| 9030/9030 [00:01<00:00, 5118.54it/s]\n"
     ]
    },
    {
     "name": "stdout",
     "output_type": "stream",
     "text": [
      "Got the result from ./1/train/filtrations/2/RadialFiltration_12_38/gray/features.npy\n",
      "Got the result from ./1/train/filtrations/2/RadialFiltration_12_38/gray/features.npy\n",
      "Got the result from ./1/train/filtrations/2/RadialFiltration_12_38/red/features.npy\n",
      "Got the result from ./1/train/filtrations/2/RadialFiltration_12_38/red/features.npy\n",
      "Got the result from ./1/train/filtrations/2/RadialFiltration_12_38/green/features.npy\n",
      "Got the result from ./1/train/filtrations/2/RadialFiltration_12_38/green/features.npy\n",
      "Got the result from ./1/train/filtrations/2/RadialFiltration_12_38/blue/features.npy\n",
      "Got the result from ./1/train/filtrations/2/RadialFiltration_12_38/blue/features.npy\n",
      "Fitting filtration 12/72: 2/RadialFiltration_12_51\n",
      "RGB images received. Transforming to grayscale.\n"
     ]
    },
    {
     "name": "stderr",
     "output_type": "stream",
     "text": [
      "rgb2gray: 100%|██████████| 9030/9030 [00:01<00:00, 5087.39it/s]\n"
     ]
    },
    {
     "name": "stdout",
     "output_type": "stream",
     "text": [
      "Got the result from ./1/train/filtrations/2/RadialFiltration_12_51/gray/features.npy\n",
      "Got the result from ./1/train/filtrations/2/RadialFiltration_12_51/gray/features.npy\n",
      "Got the result from ./1/train/filtrations/2/RadialFiltration_12_51/red/features.npy\n",
      "Got the result from ./1/train/filtrations/2/RadialFiltration_12_51/red/features.npy\n",
      "Got the result from ./1/train/filtrations/2/RadialFiltration_12_51/green/features.npy\n",
      "Got the result from ./1/train/filtrations/2/RadialFiltration_12_51/green/features.npy\n",
      "Got the result from ./1/train/filtrations/2/RadialFiltration_12_51/blue/features.npy\n",
      "Got the result from ./1/train/filtrations/2/RadialFiltration_12_51/blue/features.npy\n",
      "Fitting filtration 13/72: 2/RadialFiltration_25_12\n",
      "RGB images received. Transforming to grayscale.\n"
     ]
    },
    {
     "name": "stderr",
     "output_type": "stream",
     "text": [
      "rgb2gray: 100%|██████████| 9030/9030 [00:01<00:00, 4930.29it/s]\n"
     ]
    },
    {
     "name": "stdout",
     "output_type": "stream",
     "text": [
      "Got the result from ./1/train/filtrations/2/RadialFiltration_25_12/gray/features.npy\n",
      "Got the result from ./1/train/filtrations/2/RadialFiltration_25_12/gray/features.npy\n",
      "Got the result from ./1/train/filtrations/2/RadialFiltration_25_12/red/features.npy\n",
      "Got the result from ./1/train/filtrations/2/RadialFiltration_25_12/red/features.npy\n",
      "Got the result from ./1/train/filtrations/2/RadialFiltration_25_12/green/features.npy\n",
      "Got the result from ./1/train/filtrations/2/RadialFiltration_25_12/green/features.npy\n",
      "Got the result from ./1/train/filtrations/2/RadialFiltration_25_12/blue/features.npy\n",
      "Got the result from ./1/train/filtrations/2/RadialFiltration_25_12/blue/features.npy\n",
      "Fitting filtration 14/72: 2/RadialFiltration_25_25\n",
      "RGB images received. Transforming to grayscale.\n"
     ]
    },
    {
     "name": "stderr",
     "output_type": "stream",
     "text": [
      "rgb2gray: 100%|██████████| 9030/9030 [00:01<00:00, 5048.89it/s]\n"
     ]
    },
    {
     "name": "stdout",
     "output_type": "stream",
     "text": [
      "Got the result from ./1/train/filtrations/2/RadialFiltration_25_25/gray/features.npy\n",
      "Got the result from ./1/train/filtrations/2/RadialFiltration_25_25/gray/features.npy\n",
      "Got the result from ./1/train/filtrations/2/RadialFiltration_25_25/red/features.npy\n",
      "Got the result from ./1/train/filtrations/2/RadialFiltration_25_25/red/features.npy\n",
      "Got the result from ./1/train/filtrations/2/RadialFiltration_25_25/green/features.npy\n",
      "Got the result from ./1/train/filtrations/2/RadialFiltration_25_25/green/features.npy\n",
      "Got the result from ./1/train/filtrations/2/RadialFiltration_25_25/blue/features.npy\n",
      "Got the result from ./1/train/filtrations/2/RadialFiltration_25_25/blue/features.npy\n",
      "Fitting filtration 15/72: 2/RadialFiltration_25_38\n",
      "RGB images received. Transforming to grayscale.\n"
     ]
    },
    {
     "name": "stderr",
     "output_type": "stream",
     "text": [
      "rgb2gray: 100%|██████████| 9030/9030 [00:01<00:00, 5165.38it/s]\n"
     ]
    },
    {
     "name": "stdout",
     "output_type": "stream",
     "text": [
      "Got the result from ./1/train/filtrations/2/RadialFiltration_25_38/gray/features.npy\n",
      "Got the result from ./1/train/filtrations/2/RadialFiltration_25_38/gray/features.npy\n",
      "Got the result from ./1/train/filtrations/2/RadialFiltration_25_38/red/features.npy\n",
      "Got the result from ./1/train/filtrations/2/RadialFiltration_25_38/red/features.npy\n",
      "Got the result from ./1/train/filtrations/2/RadialFiltration_25_38/green/features.npy\n",
      "Got the result from ./1/train/filtrations/2/RadialFiltration_25_38/green/features.npy\n",
      "Got the result from ./1/train/filtrations/2/RadialFiltration_25_38/blue/features.npy\n",
      "Got the result from ./1/train/filtrations/2/RadialFiltration_25_38/blue/features.npy\n",
      "Fitting filtration 16/72: 2/RadialFiltration_25_51\n",
      "RGB images received. Transforming to grayscale.\n"
     ]
    },
    {
     "name": "stderr",
     "output_type": "stream",
     "text": [
      "rgb2gray: 100%|██████████| 9030/9030 [00:01<00:00, 5133.39it/s]\n"
     ]
    },
    {
     "name": "stdout",
     "output_type": "stream",
     "text": [
      "Got the result from ./1/train/filtrations/2/RadialFiltration_25_51/gray/features.npy\n",
      "Got the result from ./1/train/filtrations/2/RadialFiltration_25_51/gray/features.npy\n",
      "Got the result from ./1/train/filtrations/2/RadialFiltration_25_51/red/features.npy\n",
      "Got the result from ./1/train/filtrations/2/RadialFiltration_25_51/red/features.npy\n",
      "Got the result from ./1/train/filtrations/2/RadialFiltration_25_51/green/features.npy\n",
      "Got the result from ./1/train/filtrations/2/RadialFiltration_25_51/green/features.npy\n",
      "Got the result from ./1/train/filtrations/2/RadialFiltration_25_51/blue/features.npy\n",
      "Got the result from ./1/train/filtrations/2/RadialFiltration_25_51/blue/features.npy\n",
      "Fitting filtration 17/72: 2/RadialFiltration_38_12\n",
      "RGB images received. Transforming to grayscale.\n"
     ]
    },
    {
     "name": "stderr",
     "output_type": "stream",
     "text": [
      "rgb2gray: 100%|██████████| 9030/9030 [00:02<00:00, 4300.18it/s]\n"
     ]
    },
    {
     "name": "stdout",
     "output_type": "stream",
     "text": [
      "Got the result from ./1/train/filtrations/2/RadialFiltration_38_12/gray/features.npy\n",
      "Got the result from ./1/train/filtrations/2/RadialFiltration_38_12/gray/features.npy\n",
      "Got the result from ./1/train/filtrations/2/RadialFiltration_38_12/red/features.npy\n",
      "Got the result from ./1/train/filtrations/2/RadialFiltration_38_12/red/features.npy\n",
      "Got the result from ./1/train/filtrations/2/RadialFiltration_38_12/green/features.npy\n",
      "Got the result from ./1/train/filtrations/2/RadialFiltration_38_12/green/features.npy\n",
      "Got the result from ./1/train/filtrations/2/RadialFiltration_38_12/blue/features.npy\n",
      "Got the result from ./1/train/filtrations/2/RadialFiltration_38_12/blue/features.npy\n",
      "Fitting filtration 18/72: 2/RadialFiltration_38_25\n",
      "RGB images received. Transforming to grayscale.\n"
     ]
    },
    {
     "name": "stderr",
     "output_type": "stream",
     "text": [
      "rgb2gray: 100%|██████████| 9030/9030 [00:01<00:00, 5055.77it/s]\n"
     ]
    },
    {
     "name": "stdout",
     "output_type": "stream",
     "text": [
      "Got the result from ./1/train/filtrations/2/RadialFiltration_38_25/gray/features.npy\n",
      "Got the result from ./1/train/filtrations/2/RadialFiltration_38_25/gray/features.npy\n",
      "Got the result from ./1/train/filtrations/2/RadialFiltration_38_25/red/features.npy\n",
      "Got the result from ./1/train/filtrations/2/RadialFiltration_38_25/red/features.npy\n",
      "Got the result from ./1/train/filtrations/2/RadialFiltration_38_25/green/features.npy\n",
      "Got the result from ./1/train/filtrations/2/RadialFiltration_38_25/green/features.npy\n",
      "Got the result from ./1/train/filtrations/2/RadialFiltration_38_25/blue/features.npy\n",
      "Got the result from ./1/train/filtrations/2/RadialFiltration_38_25/blue/features.npy\n",
      "Fitting filtration 19/72: 2/RadialFiltration_38_38\n",
      "RGB images received. Transforming to grayscale.\n"
     ]
    },
    {
     "name": "stderr",
     "output_type": "stream",
     "text": [
      "rgb2gray: 100%|██████████| 9030/9030 [00:01<00:00, 5101.03it/s]\n"
     ]
    },
    {
     "name": "stdout",
     "output_type": "stream",
     "text": [
      "Got the result from ./1/train/filtrations/2/RadialFiltration_38_38/gray/features.npy\n",
      "Got the result from ./1/train/filtrations/2/RadialFiltration_38_38/gray/features.npy\n",
      "Got the result from ./1/train/filtrations/2/RadialFiltration_38_38/red/features.npy\n",
      "Got the result from ./1/train/filtrations/2/RadialFiltration_38_38/red/features.npy\n",
      "Got the result from ./1/train/filtrations/2/RadialFiltration_38_38/green/features.npy\n",
      "Got the result from ./1/train/filtrations/2/RadialFiltration_38_38/green/features.npy\n",
      "Got the result from ./1/train/filtrations/2/RadialFiltration_38_38/blue/features.npy\n",
      "Got the result from ./1/train/filtrations/2/RadialFiltration_38_38/blue/features.npy\n",
      "Fitting filtration 20/72: 2/RadialFiltration_38_51\n",
      "RGB images received. Transforming to grayscale.\n"
     ]
    },
    {
     "name": "stderr",
     "output_type": "stream",
     "text": [
      "rgb2gray: 100%|██████████| 9030/9030 [00:01<00:00, 4926.67it/s]\n"
     ]
    },
    {
     "name": "stdout",
     "output_type": "stream",
     "text": [
      "Got the result from ./1/train/filtrations/2/RadialFiltration_38_51/gray/features.npy\n",
      "Got the result from ./1/train/filtrations/2/RadialFiltration_38_51/gray/features.npy\n",
      "Got the result from ./1/train/filtrations/2/RadialFiltration_38_51/red/features.npy\n",
      "Got the result from ./1/train/filtrations/2/RadialFiltration_38_51/red/features.npy\n",
      "Got the result from ./1/train/filtrations/2/RadialFiltration_38_51/green/features.npy\n",
      "Got the result from ./1/train/filtrations/2/RadialFiltration_38_51/green/features.npy\n",
      "Got the result from ./1/train/filtrations/2/RadialFiltration_38_51/blue/features.npy\n",
      "Got the result from ./1/train/filtrations/2/RadialFiltration_38_51/blue/features.npy\n",
      "Fitting filtration 21/72: 2/RadialFiltration_51_12\n",
      "RGB images received. Transforming to grayscale.\n"
     ]
    },
    {
     "name": "stderr",
     "output_type": "stream",
     "text": [
      "rgb2gray: 100%|██████████| 9030/9030 [00:01<00:00, 5034.25it/s]\n"
     ]
    },
    {
     "name": "stdout",
     "output_type": "stream",
     "text": [
      "Got the result from ./1/train/filtrations/2/RadialFiltration_51_12/gray/features.npy\n",
      "Got the result from ./1/train/filtrations/2/RadialFiltration_51_12/gray/features.npy\n",
      "Got the result from ./1/train/filtrations/2/RadialFiltration_51_12/red/features.npy\n",
      "Got the result from ./1/train/filtrations/2/RadialFiltration_51_12/red/features.npy\n",
      "Got the result from ./1/train/filtrations/2/RadialFiltration_51_12/green/features.npy\n",
      "Got the result from ./1/train/filtrations/2/RadialFiltration_51_12/green/features.npy\n",
      "Got the result from ./1/train/filtrations/2/RadialFiltration_51_12/blue/features.npy\n",
      "Got the result from ./1/train/filtrations/2/RadialFiltration_51_12/blue/features.npy\n",
      "Fitting filtration 22/72: 2/RadialFiltration_51_25\n",
      "RGB images received. Transforming to grayscale.\n"
     ]
    },
    {
     "name": "stderr",
     "output_type": "stream",
     "text": [
      "rgb2gray: 100%|██████████| 9030/9030 [00:01<00:00, 5156.09it/s]\n"
     ]
    },
    {
     "name": "stdout",
     "output_type": "stream",
     "text": [
      "Got the result from ./1/train/filtrations/2/RadialFiltration_51_25/gray/features.npy\n",
      "Got the result from ./1/train/filtrations/2/RadialFiltration_51_25/gray/features.npy\n",
      "Got the result from ./1/train/filtrations/2/RadialFiltration_51_25/red/features.npy\n",
      "Got the result from ./1/train/filtrations/2/RadialFiltration_51_25/red/features.npy\n",
      "Got the result from ./1/train/filtrations/2/RadialFiltration_51_25/green/features.npy\n",
      "Got the result from ./1/train/filtrations/2/RadialFiltration_51_25/green/features.npy\n",
      "Got the result from ./1/train/filtrations/2/RadialFiltration_51_25/blue/features.npy\n",
      "Got the result from ./1/train/filtrations/2/RadialFiltration_51_25/blue/features.npy\n",
      "Fitting filtration 23/72: 2/RadialFiltration_51_38\n",
      "RGB images received. Transforming to grayscale.\n"
     ]
    },
    {
     "name": "stderr",
     "output_type": "stream",
     "text": [
      "rgb2gray: 100%|██████████| 9030/9030 [00:01<00:00, 5009.02it/s]\n"
     ]
    },
    {
     "name": "stdout",
     "output_type": "stream",
     "text": [
      "Got the result from ./1/train/filtrations/2/RadialFiltration_51_38/gray/features.npy\n",
      "Got the result from ./1/train/filtrations/2/RadialFiltration_51_38/gray/features.npy\n",
      "Got the result from ./1/train/filtrations/2/RadialFiltration_51_38/red/features.npy\n",
      "Got the result from ./1/train/filtrations/2/RadialFiltration_51_38/red/features.npy\n",
      "Got the result from ./1/train/filtrations/2/RadialFiltration_51_38/green/features.npy\n",
      "Got the result from ./1/train/filtrations/2/RadialFiltration_51_38/green/features.npy\n",
      "Got the result from ./1/train/filtrations/2/RadialFiltration_51_38/blue/features.npy\n",
      "Got the result from ./1/train/filtrations/2/RadialFiltration_51_38/blue/features.npy\n",
      "Fitting filtration 24/72: 2/RadialFiltration_51_51\n",
      "RGB images received. Transforming to grayscale.\n"
     ]
    },
    {
     "name": "stderr",
     "output_type": "stream",
     "text": [
      "rgb2gray: 100%|██████████| 9030/9030 [00:01<00:00, 5277.67it/s] \n"
     ]
    },
    {
     "name": "stdout",
     "output_type": "stream",
     "text": [
      "Got the result from ./1/train/filtrations/2/RadialFiltration_51_51/gray/features.npy\n",
      "Got the result from ./1/train/filtrations/2/RadialFiltration_51_51/gray/features.npy\n",
      "Got the result from ./1/train/filtrations/2/RadialFiltration_51_51/red/features.npy\n",
      "Got the result from ./1/train/filtrations/2/RadialFiltration_51_51/red/features.npy\n",
      "Got the result from ./1/train/filtrations/2/RadialFiltration_51_51/green/features.npy\n",
      "Got the result from ./1/train/filtrations/2/RadialFiltration_51_51/green/features.npy\n",
      "Got the result from ./1/train/filtrations/2/RadialFiltration_51_51/blue/features.npy\n",
      "Got the result from ./1/train/filtrations/2/RadialFiltration_51_51/blue/features.npy\n",
      "Fitting filtration 25/72: 4/HeightFiltrartion_-1_-1\n",
      "RGB images received. Transforming to grayscale.\n"
     ]
    },
    {
     "name": "stderr",
     "output_type": "stream",
     "text": [
      "rgb2gray: 100%|██████████| 9030/9030 [00:01<00:00, 5227.87it/s]\n"
     ]
    },
    {
     "name": "stdout",
     "output_type": "stream",
     "text": [
      "Got the result from ./1/train/filtrations/4/HeightFiltrartion_-1_-1/gray/features.npy\n",
      "Got the result from ./1/train/filtrations/4/HeightFiltrartion_-1_-1/gray/features.npy\n",
      "Got the result from ./1/train/filtrations/4/HeightFiltrartion_-1_-1/red/features.npy\n",
      "Got the result from ./1/train/filtrations/4/HeightFiltrartion_-1_-1/red/features.npy\n",
      "Got the result from ./1/train/filtrations/4/HeightFiltrartion_-1_-1/green/features.npy\n",
      "Got the result from ./1/train/filtrations/4/HeightFiltrartion_-1_-1/green/features.npy\n",
      "Got the result from ./1/train/filtrations/4/HeightFiltrartion_-1_-1/blue/features.npy\n",
      "Got the result from ./1/train/filtrations/4/HeightFiltrartion_-1_-1/blue/features.npy\n",
      "Fitting filtration 26/72: 4/HeightFiltrartion_1_1\n",
      "RGB images received. Transforming to grayscale.\n"
     ]
    },
    {
     "name": "stderr",
     "output_type": "stream",
     "text": [
      "rgb2gray: 100%|██████████| 9030/9030 [00:01<00:00, 4904.09it/s]\n"
     ]
    },
    {
     "name": "stdout",
     "output_type": "stream",
     "text": [
      "Got the result from ./1/train/filtrations/4/HeightFiltrartion_1_1/gray/features.npy\n",
      "Got the result from ./1/train/filtrations/4/HeightFiltrartion_1_1/gray/features.npy\n",
      "Got the result from ./1/train/filtrations/4/HeightFiltrartion_1_1/red/features.npy\n",
      "Got the result from ./1/train/filtrations/4/HeightFiltrartion_1_1/red/features.npy\n",
      "Got the result from ./1/train/filtrations/4/HeightFiltrartion_1_1/green/features.npy\n",
      "Got the result from ./1/train/filtrations/4/HeightFiltrartion_1_1/green/features.npy\n",
      "Got the result from ./1/train/filtrations/4/HeightFiltrartion_1_1/blue/features.npy\n",
      "Got the result from ./1/train/filtrations/4/HeightFiltrartion_1_1/blue/features.npy\n",
      "Fitting filtration 27/72: 4/HeightFiltrartion_1_-1\n",
      "RGB images received. Transforming to grayscale.\n"
     ]
    },
    {
     "name": "stderr",
     "output_type": "stream",
     "text": [
      "rgb2gray: 100%|██████████| 9030/9030 [00:01<00:00, 4954.34it/s]\n"
     ]
    },
    {
     "name": "stdout",
     "output_type": "stream",
     "text": [
      "Got the result from ./1/train/filtrations/4/HeightFiltrartion_1_-1/gray/features.npy\n",
      "Got the result from ./1/train/filtrations/4/HeightFiltrartion_1_-1/gray/features.npy\n",
      "Got the result from ./1/train/filtrations/4/HeightFiltrartion_1_-1/red/features.npy\n",
      "Got the result from ./1/train/filtrations/4/HeightFiltrartion_1_-1/red/features.npy\n",
      "Got the result from ./1/train/filtrations/4/HeightFiltrartion_1_-1/green/features.npy\n",
      "Got the result from ./1/train/filtrations/4/HeightFiltrartion_1_-1/green/features.npy\n",
      "Got the result from ./1/train/filtrations/4/HeightFiltrartion_1_-1/blue/features.npy\n",
      "Got the result from ./1/train/filtrations/4/HeightFiltrartion_1_-1/blue/features.npy\n",
      "Fitting filtration 28/72: 4/HeightFiltrartion_-1_1\n",
      "RGB images received. Transforming to grayscale.\n"
     ]
    },
    {
     "name": "stderr",
     "output_type": "stream",
     "text": [
      "rgb2gray: 100%|██████████| 9030/9030 [00:01<00:00, 4690.92it/s]\n"
     ]
    },
    {
     "name": "stdout",
     "output_type": "stream",
     "text": [
      "Got the result from ./1/train/filtrations/4/HeightFiltrartion_-1_1/gray/features.npy\n",
      "Got the result from ./1/train/filtrations/4/HeightFiltrartion_-1_1/gray/features.npy\n",
      "Got the result from ./1/train/filtrations/4/HeightFiltrartion_-1_1/red/features.npy\n",
      "Got the result from ./1/train/filtrations/4/HeightFiltrartion_-1_1/red/features.npy\n",
      "Got the result from ./1/train/filtrations/4/HeightFiltrartion_-1_1/green/features.npy\n",
      "Got the result from ./1/train/filtrations/4/HeightFiltrartion_-1_1/green/features.npy\n",
      "Got the result from ./1/train/filtrations/4/HeightFiltrartion_-1_1/blue/features.npy\n",
      "Got the result from ./1/train/filtrations/4/HeightFiltrartion_-1_1/blue/features.npy\n",
      "Fitting filtration 29/72: 4/HeightFiltrartion_0_-1\n",
      "RGB images received. Transforming to grayscale.\n"
     ]
    },
    {
     "name": "stderr",
     "output_type": "stream",
     "text": [
      "rgb2gray: 100%|██████████| 9030/9030 [00:01<00:00, 5190.43it/s]\n"
     ]
    },
    {
     "name": "stdout",
     "output_type": "stream",
     "text": [
      "Got the result from ./1/train/filtrations/4/HeightFiltrartion_0_-1/gray/features.npy\n",
      "Got the result from ./1/train/filtrations/4/HeightFiltrartion_0_-1/gray/features.npy\n",
      "Got the result from ./1/train/filtrations/4/HeightFiltrartion_0_-1/red/features.npy\n",
      "Got the result from ./1/train/filtrations/4/HeightFiltrartion_0_-1/red/features.npy\n",
      "Got the result from ./1/train/filtrations/4/HeightFiltrartion_0_-1/green/features.npy\n",
      "Got the result from ./1/train/filtrations/4/HeightFiltrartion_0_-1/green/features.npy\n",
      "Got the result from ./1/train/filtrations/4/HeightFiltrartion_0_-1/blue/features.npy\n",
      "Got the result from ./1/train/filtrations/4/HeightFiltrartion_0_-1/blue/features.npy\n",
      "Fitting filtration 30/72: 4/HeightFiltrartion_0_1\n",
      "RGB images received. Transforming to grayscale.\n"
     ]
    },
    {
     "name": "stderr",
     "output_type": "stream",
     "text": [
      "rgb2gray: 100%|██████████| 9030/9030 [00:01<00:00, 5354.94it/s]\n"
     ]
    },
    {
     "name": "stdout",
     "output_type": "stream",
     "text": [
      "Got the result from ./1/train/filtrations/4/HeightFiltrartion_0_1/gray/features.npy\n",
      "Got the result from ./1/train/filtrations/4/HeightFiltrartion_0_1/gray/features.npy\n",
      "Got the result from ./1/train/filtrations/4/HeightFiltrartion_0_1/red/features.npy\n",
      "Got the result from ./1/train/filtrations/4/HeightFiltrartion_0_1/red/features.npy\n",
      "Got the result from ./1/train/filtrations/4/HeightFiltrartion_0_1/green/features.npy\n",
      "Got the result from ./1/train/filtrations/4/HeightFiltrartion_0_1/green/features.npy\n",
      "Got the result from ./1/train/filtrations/4/HeightFiltrartion_0_1/blue/features.npy\n",
      "Got the result from ./1/train/filtrations/4/HeightFiltrartion_0_1/blue/features.npy\n",
      "Fitting filtration 31/72: 4/HeightFiltrartion_-1_0\n",
      "RGB images received. Transforming to grayscale.\n"
     ]
    },
    {
     "name": "stderr",
     "output_type": "stream",
     "text": [
      "rgb2gray: 100%|██████████| 9030/9030 [00:01<00:00, 5085.12it/s]\n"
     ]
    },
    {
     "name": "stdout",
     "output_type": "stream",
     "text": [
      "Got the result from ./1/train/filtrations/4/HeightFiltrartion_-1_0/gray/features.npy\n",
      "Got the result from ./1/train/filtrations/4/HeightFiltrartion_-1_0/gray/features.npy\n",
      "Got the result from ./1/train/filtrations/4/HeightFiltrartion_-1_0/red/features.npy\n",
      "Got the result from ./1/train/filtrations/4/HeightFiltrartion_-1_0/red/features.npy\n",
      "Got the result from ./1/train/filtrations/4/HeightFiltrartion_-1_0/green/features.npy\n",
      "Got the result from ./1/train/filtrations/4/HeightFiltrartion_-1_0/green/features.npy\n",
      "Got the result from ./1/train/filtrations/4/HeightFiltrartion_-1_0/blue/features.npy\n",
      "Got the result from ./1/train/filtrations/4/HeightFiltrartion_-1_0/blue/features.npy\n",
      "Fitting filtration 32/72: 4/HeightFiltrartion_1_0\n",
      "RGB images received. Transforming to grayscale.\n"
     ]
    },
    {
     "name": "stderr",
     "output_type": "stream",
     "text": [
      "rgb2gray: 100%|██████████| 9030/9030 [00:01<00:00, 5081.50it/s]\n"
     ]
    },
    {
     "name": "stdout",
     "output_type": "stream",
     "text": [
      "Got the result from ./1/train/filtrations/4/HeightFiltrartion_1_0/gray/features.npy\n",
      "Got the result from ./1/train/filtrations/4/HeightFiltrartion_1_0/gray/features.npy\n",
      "Got the result from ./1/train/filtrations/4/HeightFiltrartion_1_0/red/features.npy\n",
      "Got the result from ./1/train/filtrations/4/HeightFiltrartion_1_0/red/features.npy\n",
      "Got the result from ./1/train/filtrations/4/HeightFiltrartion_1_0/green/features.npy\n",
      "Got the result from ./1/train/filtrations/4/HeightFiltrartion_1_0/green/features.npy\n",
      "Got the result from ./1/train/filtrations/4/HeightFiltrartion_1_0/blue/features.npy\n",
      "Got the result from ./1/train/filtrations/4/HeightFiltrartion_1_0/blue/features.npy\n",
      "Fitting filtration 33/72: 4/RadialFiltration_12_12\n",
      "RGB images received. Transforming to grayscale.\n"
     ]
    },
    {
     "name": "stderr",
     "output_type": "stream",
     "text": [
      "rgb2gray: 100%|██████████| 9030/9030 [00:01<00:00, 5145.31it/s]\n"
     ]
    },
    {
     "name": "stdout",
     "output_type": "stream",
     "text": [
      "Got the result from ./1/train/filtrations/4/RadialFiltration_12_12/gray/features.npy\n",
      "Got the result from ./1/train/filtrations/4/RadialFiltration_12_12/gray/features.npy\n",
      "Got the result from ./1/train/filtrations/4/RadialFiltration_12_12/red/features.npy\n",
      "Got the result from ./1/train/filtrations/4/RadialFiltration_12_12/red/features.npy\n",
      "Got the result from ./1/train/filtrations/4/RadialFiltration_12_12/green/features.npy\n",
      "Got the result from ./1/train/filtrations/4/RadialFiltration_12_12/green/features.npy\n",
      "Got the result from ./1/train/filtrations/4/RadialFiltration_12_12/blue/features.npy\n",
      "Got the result from ./1/train/filtrations/4/RadialFiltration_12_12/blue/features.npy\n",
      "Fitting filtration 34/72: 4/RadialFiltration_12_25\n",
      "RGB images received. Transforming to grayscale.\n"
     ]
    },
    {
     "name": "stderr",
     "output_type": "stream",
     "text": [
      "rgb2gray: 100%|██████████| 9030/9030 [00:01<00:00, 4981.77it/s]\n"
     ]
    },
    {
     "name": "stdout",
     "output_type": "stream",
     "text": [
      "Got the result from ./1/train/filtrations/4/RadialFiltration_12_25/gray/features.npy\n",
      "Got the result from ./1/train/filtrations/4/RadialFiltration_12_25/gray/features.npy\n",
      "Got the result from ./1/train/filtrations/4/RadialFiltration_12_25/red/features.npy\n",
      "Got the result from ./1/train/filtrations/4/RadialFiltration_12_25/red/features.npy\n",
      "Got the result from ./1/train/filtrations/4/RadialFiltration_12_25/green/features.npy\n",
      "Got the result from ./1/train/filtrations/4/RadialFiltration_12_25/green/features.npy\n",
      "Got the result from ./1/train/filtrations/4/RadialFiltration_12_25/blue/features.npy\n",
      "Got the result from ./1/train/filtrations/4/RadialFiltration_12_25/blue/features.npy\n",
      "Fitting filtration 35/72: 4/RadialFiltration_12_38\n",
      "RGB images received. Transforming to grayscale.\n"
     ]
    },
    {
     "name": "stderr",
     "output_type": "stream",
     "text": [
      "rgb2gray: 100%|██████████| 9030/9030 [00:01<00:00, 5100.17it/s]\n"
     ]
    },
    {
     "name": "stdout",
     "output_type": "stream",
     "text": [
      "Got the result from ./1/train/filtrations/4/RadialFiltration_12_38/gray/features.npy\n",
      "Got the result from ./1/train/filtrations/4/RadialFiltration_12_38/gray/features.npy\n",
      "Got the result from ./1/train/filtrations/4/RadialFiltration_12_38/red/features.npy\n",
      "Got the result from ./1/train/filtrations/4/RadialFiltration_12_38/red/features.npy\n",
      "Got the result from ./1/train/filtrations/4/RadialFiltration_12_38/green/features.npy\n",
      "Got the result from ./1/train/filtrations/4/RadialFiltration_12_38/green/features.npy\n",
      "Got the result from ./1/train/filtrations/4/RadialFiltration_12_38/blue/features.npy\n",
      "Got the result from ./1/train/filtrations/4/RadialFiltration_12_38/blue/features.npy\n",
      "Fitting filtration 36/72: 4/RadialFiltration_12_51\n",
      "RGB images received. Transforming to grayscale.\n"
     ]
    },
    {
     "name": "stderr",
     "output_type": "stream",
     "text": [
      "rgb2gray: 100%|██████████| 9030/9030 [00:01<00:00, 4958.17it/s]\n"
     ]
    },
    {
     "name": "stdout",
     "output_type": "stream",
     "text": [
      "Got the result from ./1/train/filtrations/4/RadialFiltration_12_51/gray/features.npy\n",
      "Got the result from ./1/train/filtrations/4/RadialFiltration_12_51/gray/features.npy\n",
      "Got the result from ./1/train/filtrations/4/RadialFiltration_12_51/red/features.npy\n",
      "Got the result from ./1/train/filtrations/4/RadialFiltration_12_51/red/features.npy\n",
      "Got the result from ./1/train/filtrations/4/RadialFiltration_12_51/green/features.npy\n",
      "Got the result from ./1/train/filtrations/4/RadialFiltration_12_51/green/features.npy\n",
      "Got the result from ./1/train/filtrations/4/RadialFiltration_12_51/blue/features.npy\n",
      "Got the result from ./1/train/filtrations/4/RadialFiltration_12_51/blue/features.npy\n",
      "Fitting filtration 37/72: 4/RadialFiltration_25_12\n",
      "RGB images received. Transforming to grayscale.\n"
     ]
    },
    {
     "name": "stderr",
     "output_type": "stream",
     "text": [
      "rgb2gray: 100%|██████████| 9030/9030 [00:01<00:00, 4888.40it/s]\n"
     ]
    },
    {
     "name": "stdout",
     "output_type": "stream",
     "text": [
      "Got the result from ./1/train/filtrations/4/RadialFiltration_25_12/gray/features.npy\n",
      "Got the result from ./1/train/filtrations/4/RadialFiltration_25_12/gray/features.npy\n",
      "Got the result from ./1/train/filtrations/4/RadialFiltration_25_12/red/features.npy\n",
      "Got the result from ./1/train/filtrations/4/RadialFiltration_25_12/red/features.npy\n",
      "Got the result from ./1/train/filtrations/4/RadialFiltration_25_12/green/features.npy\n",
      "Got the result from ./1/train/filtrations/4/RadialFiltration_25_12/green/features.npy\n",
      "Got the result from ./1/train/filtrations/4/RadialFiltration_25_12/blue/features.npy\n",
      "Got the result from ./1/train/filtrations/4/RadialFiltration_25_12/blue/features.npy\n",
      "Fitting filtration 38/72: 4/RadialFiltration_25_25\n",
      "RGB images received. Transforming to grayscale.\n"
     ]
    },
    {
     "name": "stderr",
     "output_type": "stream",
     "text": [
      "rgb2gray: 100%|██████████| 9030/9030 [00:01<00:00, 5313.07it/s]\n"
     ]
    },
    {
     "name": "stdout",
     "output_type": "stream",
     "text": [
      "Got the result from ./1/train/filtrations/4/RadialFiltration_25_25/gray/features.npy\n",
      "Got the result from ./1/train/filtrations/4/RadialFiltration_25_25/gray/features.npy\n",
      "Got the result from ./1/train/filtrations/4/RadialFiltration_25_25/red/features.npy\n",
      "Got the result from ./1/train/filtrations/4/RadialFiltration_25_25/red/features.npy\n",
      "Got the result from ./1/train/filtrations/4/RadialFiltration_25_25/green/features.npy\n",
      "Got the result from ./1/train/filtrations/4/RadialFiltration_25_25/green/features.npy\n",
      "Got the result from ./1/train/filtrations/4/RadialFiltration_25_25/blue/features.npy\n",
      "Got the result from ./1/train/filtrations/4/RadialFiltration_25_25/blue/features.npy\n",
      "Fitting filtration 39/72: 4/RadialFiltration_25_38\n",
      "RGB images received. Transforming to grayscale.\n"
     ]
    },
    {
     "name": "stderr",
     "output_type": "stream",
     "text": [
      "rgb2gray: 100%|██████████| 9030/9030 [00:01<00:00, 5157.48it/s]\n"
     ]
    },
    {
     "name": "stdout",
     "output_type": "stream",
     "text": [
      "Got the result from ./1/train/filtrations/4/RadialFiltration_25_38/gray/features.npy\n",
      "Got the result from ./1/train/filtrations/4/RadialFiltration_25_38/gray/features.npy\n",
      "Got the result from ./1/train/filtrations/4/RadialFiltration_25_38/red/features.npy\n",
      "Got the result from ./1/train/filtrations/4/RadialFiltration_25_38/red/features.npy\n",
      "Got the result from ./1/train/filtrations/4/RadialFiltration_25_38/green/features.npy\n",
      "Got the result from ./1/train/filtrations/4/RadialFiltration_25_38/green/features.npy\n",
      "Got the result from ./1/train/filtrations/4/RadialFiltration_25_38/blue/features.npy\n",
      "Got the result from ./1/train/filtrations/4/RadialFiltration_25_38/blue/features.npy\n",
      "Fitting filtration 40/72: 4/RadialFiltration_25_51\n",
      "RGB images received. Transforming to grayscale.\n"
     ]
    },
    {
     "name": "stderr",
     "output_type": "stream",
     "text": [
      "rgb2gray: 100%|██████████| 9030/9030 [00:01<00:00, 5143.58it/s]\n"
     ]
    },
    {
     "name": "stdout",
     "output_type": "stream",
     "text": [
      "Got the result from ./1/train/filtrations/4/RadialFiltration_25_51/gray/features.npy\n",
      "Got the result from ./1/train/filtrations/4/RadialFiltration_25_51/gray/features.npy\n",
      "Got the result from ./1/train/filtrations/4/RadialFiltration_25_51/red/features.npy\n",
      "Got the result from ./1/train/filtrations/4/RadialFiltration_25_51/red/features.npy\n",
      "Got the result from ./1/train/filtrations/4/RadialFiltration_25_51/green/features.npy\n",
      "Got the result from ./1/train/filtrations/4/RadialFiltration_25_51/green/features.npy\n",
      "Got the result from ./1/train/filtrations/4/RadialFiltration_25_51/blue/features.npy\n",
      "Got the result from ./1/train/filtrations/4/RadialFiltration_25_51/blue/features.npy\n",
      "Fitting filtration 41/72: 4/RadialFiltration_38_12\n",
      "RGB images received. Transforming to grayscale.\n"
     ]
    },
    {
     "name": "stderr",
     "output_type": "stream",
     "text": [
      "rgb2gray: 100%|██████████| 9030/9030 [00:01<00:00, 5021.60it/s]\n"
     ]
    },
    {
     "name": "stdout",
     "output_type": "stream",
     "text": [
      "Got the result from ./1/train/filtrations/4/RadialFiltration_38_12/gray/features.npy\n",
      "Got the result from ./1/train/filtrations/4/RadialFiltration_38_12/gray/features.npy\n",
      "Got the result from ./1/train/filtrations/4/RadialFiltration_38_12/red/features.npy\n",
      "Got the result from ./1/train/filtrations/4/RadialFiltration_38_12/red/features.npy\n",
      "Got the result from ./1/train/filtrations/4/RadialFiltration_38_12/green/features.npy\n",
      "Got the result from ./1/train/filtrations/4/RadialFiltration_38_12/green/features.npy\n",
      "Got the result from ./1/train/filtrations/4/RadialFiltration_38_12/blue/features.npy\n",
      "Got the result from ./1/train/filtrations/4/RadialFiltration_38_12/blue/features.npy\n",
      "Fitting filtration 42/72: 4/RadialFiltration_38_25\n",
      "RGB images received. Transforming to grayscale.\n"
     ]
    },
    {
     "name": "stderr",
     "output_type": "stream",
     "text": [
      "rgb2gray: 100%|██████████| 9030/9030 [00:01<00:00, 5108.35it/s]\n"
     ]
    },
    {
     "name": "stdout",
     "output_type": "stream",
     "text": [
      "Got the result from ./1/train/filtrations/4/RadialFiltration_38_25/gray/features.npy\n",
      "Got the result from ./1/train/filtrations/4/RadialFiltration_38_25/gray/features.npy\n",
      "Got the result from ./1/train/filtrations/4/RadialFiltration_38_25/red/features.npy\n",
      "Got the result from ./1/train/filtrations/4/RadialFiltration_38_25/red/features.npy\n",
      "Got the result from ./1/train/filtrations/4/RadialFiltration_38_25/green/features.npy\n",
      "Got the result from ./1/train/filtrations/4/RadialFiltration_38_25/green/features.npy\n",
      "Got the result from ./1/train/filtrations/4/RadialFiltration_38_25/blue/features.npy\n",
      "Got the result from ./1/train/filtrations/4/RadialFiltration_38_25/blue/features.npy\n",
      "Fitting filtration 43/72: 4/RadialFiltration_38_38\n",
      "RGB images received. Transforming to grayscale.\n"
     ]
    },
    {
     "name": "stderr",
     "output_type": "stream",
     "text": [
      "rgb2gray: 100%|██████████| 9030/9030 [00:01<00:00, 5209.91it/s] \n"
     ]
    },
    {
     "name": "stdout",
     "output_type": "stream",
     "text": [
      "Got the result from ./1/train/filtrations/4/RadialFiltration_38_38/gray/features.npy\n",
      "Got the result from ./1/train/filtrations/4/RadialFiltration_38_38/gray/features.npy\n",
      "Got the result from ./1/train/filtrations/4/RadialFiltration_38_38/red/features.npy\n",
      "Got the result from ./1/train/filtrations/4/RadialFiltration_38_38/red/features.npy\n",
      "Got the result from ./1/train/filtrations/4/RadialFiltration_38_38/green/features.npy\n",
      "Got the result from ./1/train/filtrations/4/RadialFiltration_38_38/green/features.npy\n",
      "Got the result from ./1/train/filtrations/4/RadialFiltration_38_38/blue/features.npy\n",
      "Got the result from ./1/train/filtrations/4/RadialFiltration_38_38/blue/features.npy\n",
      "Fitting filtration 44/72: 4/RadialFiltration_38_51\n",
      "RGB images received. Transforming to grayscale.\n"
     ]
    },
    {
     "name": "stderr",
     "output_type": "stream",
     "text": [
      "rgb2gray: 100%|██████████| 9030/9030 [00:01<00:00, 5117.17it/s]\n"
     ]
    },
    {
     "name": "stdout",
     "output_type": "stream",
     "text": [
      "Got the result from ./1/train/filtrations/4/RadialFiltration_38_51/gray/features.npy\n",
      "Got the result from ./1/train/filtrations/4/RadialFiltration_38_51/gray/features.npy\n",
      "Got the result from ./1/train/filtrations/4/RadialFiltration_38_51/red/features.npy\n",
      "Got the result from ./1/train/filtrations/4/RadialFiltration_38_51/red/features.npy\n",
      "Got the result from ./1/train/filtrations/4/RadialFiltration_38_51/green/features.npy\n",
      "Got the result from ./1/train/filtrations/4/RadialFiltration_38_51/green/features.npy\n",
      "Got the result from ./1/train/filtrations/4/RadialFiltration_38_51/blue/features.npy\n",
      "Got the result from ./1/train/filtrations/4/RadialFiltration_38_51/blue/features.npy\n",
      "Fitting filtration 45/72: 4/RadialFiltration_51_12\n",
      "RGB images received. Transforming to grayscale.\n"
     ]
    },
    {
     "name": "stderr",
     "output_type": "stream",
     "text": [
      "rgb2gray: 100%|██████████| 9030/9030 [00:01<00:00, 4912.82it/s]\n"
     ]
    },
    {
     "name": "stdout",
     "output_type": "stream",
     "text": [
      "Got the result from ./1/train/filtrations/4/RadialFiltration_51_12/gray/features.npy\n",
      "Got the result from ./1/train/filtrations/4/RadialFiltration_51_12/gray/features.npy\n",
      "Got the result from ./1/train/filtrations/4/RadialFiltration_51_12/red/features.npy\n",
      "Got the result from ./1/train/filtrations/4/RadialFiltration_51_12/red/features.npy\n",
      "Got the result from ./1/train/filtrations/4/RadialFiltration_51_12/green/features.npy\n",
      "Got the result from ./1/train/filtrations/4/RadialFiltration_51_12/green/features.npy\n",
      "Got the result from ./1/train/filtrations/4/RadialFiltration_51_12/blue/features.npy\n",
      "Got the result from ./1/train/filtrations/4/RadialFiltration_51_12/blue/features.npy\n",
      "Fitting filtration 46/72: 4/RadialFiltration_51_25\n",
      "RGB images received. Transforming to grayscale.\n"
     ]
    },
    {
     "name": "stderr",
     "output_type": "stream",
     "text": [
      "rgb2gray: 100%|██████████| 9030/9030 [00:01<00:00, 4946.55it/s]\n"
     ]
    },
    {
     "name": "stdout",
     "output_type": "stream",
     "text": [
      "Got the result from ./1/train/filtrations/4/RadialFiltration_51_25/gray/features.npy\n",
      "Got the result from ./1/train/filtrations/4/RadialFiltration_51_25/gray/features.npy\n",
      "Got the result from ./1/train/filtrations/4/RadialFiltration_51_25/red/features.npy\n",
      "Got the result from ./1/train/filtrations/4/RadialFiltration_51_25/red/features.npy\n",
      "Got the result from ./1/train/filtrations/4/RadialFiltration_51_25/green/features.npy\n",
      "Got the result from ./1/train/filtrations/4/RadialFiltration_51_25/green/features.npy\n",
      "Got the result from ./1/train/filtrations/4/RadialFiltration_51_25/blue/features.npy\n",
      "Got the result from ./1/train/filtrations/4/RadialFiltration_51_25/blue/features.npy\n",
      "Fitting filtration 47/72: 4/RadialFiltration_51_38\n",
      "RGB images received. Transforming to grayscale.\n"
     ]
    },
    {
     "name": "stderr",
     "output_type": "stream",
     "text": [
      "rgb2gray: 100%|██████████| 9030/9030 [00:01<00:00, 5266.43it/s]\n"
     ]
    },
    {
     "name": "stdout",
     "output_type": "stream",
     "text": [
      "Got the result from ./1/train/filtrations/4/RadialFiltration_51_38/gray/features.npy\n",
      "Got the result from ./1/train/filtrations/4/RadialFiltration_51_38/gray/features.npy\n",
      "Got the result from ./1/train/filtrations/4/RadialFiltration_51_38/red/features.npy\n",
      "Got the result from ./1/train/filtrations/4/RadialFiltration_51_38/red/features.npy\n",
      "Got the result from ./1/train/filtrations/4/RadialFiltration_51_38/green/features.npy\n",
      "Got the result from ./1/train/filtrations/4/RadialFiltration_51_38/green/features.npy\n",
      "Got the result from ./1/train/filtrations/4/RadialFiltration_51_38/blue/features.npy\n",
      "Got the result from ./1/train/filtrations/4/RadialFiltration_51_38/blue/features.npy\n",
      "Fitting filtration 48/72: 4/RadialFiltration_51_51\n",
      "RGB images received. Transforming to grayscale.\n"
     ]
    },
    {
     "name": "stderr",
     "output_type": "stream",
     "text": [
      "rgb2gray: 100%|██████████| 9030/9030 [00:01<00:00, 4884.44it/s]\n"
     ]
    },
    {
     "name": "stdout",
     "output_type": "stream",
     "text": [
      "Got the result from ./1/train/filtrations/4/RadialFiltration_51_51/gray/features.npy\n",
      "Got the result from ./1/train/filtrations/4/RadialFiltration_51_51/gray/features.npy\n",
      "Got the result from ./1/train/filtrations/4/RadialFiltration_51_51/red/features.npy\n",
      "Got the result from ./1/train/filtrations/4/RadialFiltration_51_51/red/features.npy\n",
      "Got the result from ./1/train/filtrations/4/RadialFiltration_51_51/green/features.npy\n",
      "Got the result from ./1/train/filtrations/4/RadialFiltration_51_51/green/features.npy\n",
      "Got the result from ./1/train/filtrations/4/RadialFiltration_51_51/blue/features.npy\n",
      "Got the result from ./1/train/filtrations/4/RadialFiltration_51_51/blue/features.npy\n",
      "Fitting filtration 49/72: 6/HeightFiltrartion_-1_-1\n",
      "RGB images received. Transforming to grayscale.\n"
     ]
    },
    {
     "name": "stderr",
     "output_type": "stream",
     "text": [
      "rgb2gray: 100%|██████████| 9030/9030 [00:01<00:00, 5101.85it/s]\n"
     ]
    },
    {
     "name": "stdout",
     "output_type": "stream",
     "text": [
      "Got the result from ./1/train/filtrations/6/HeightFiltrartion_-1_-1/gray/features.npy\n",
      "Got the result from ./1/train/filtrations/6/HeightFiltrartion_-1_-1/gray/features.npy\n",
      "Got the result from ./1/train/filtrations/6/HeightFiltrartion_-1_-1/red/features.npy\n",
      "Got the result from ./1/train/filtrations/6/HeightFiltrartion_-1_-1/red/features.npy\n",
      "Got the result from ./1/train/filtrations/6/HeightFiltrartion_-1_-1/green/features.npy\n",
      "Got the result from ./1/train/filtrations/6/HeightFiltrartion_-1_-1/green/features.npy\n",
      "Got the result from ./1/train/filtrations/6/HeightFiltrartion_-1_-1/blue/features.npy\n",
      "Got the result from ./1/train/filtrations/6/HeightFiltrartion_-1_-1/blue/features.npy\n",
      "Fitting filtration 50/72: 6/HeightFiltrartion_1_1\n",
      "RGB images received. Transforming to grayscale.\n"
     ]
    },
    {
     "name": "stderr",
     "output_type": "stream",
     "text": [
      "rgb2gray: 100%|██████████| 9030/9030 [00:01<00:00, 4810.56it/s]\n"
     ]
    },
    {
     "name": "stdout",
     "output_type": "stream",
     "text": [
      "Got the result from ./1/train/filtrations/6/HeightFiltrartion_1_1/gray/features.npy\n",
      "Got the result from ./1/train/filtrations/6/HeightFiltrartion_1_1/gray/features.npy\n",
      "Got the result from ./1/train/filtrations/6/HeightFiltrartion_1_1/red/features.npy\n",
      "Got the result from ./1/train/filtrations/6/HeightFiltrartion_1_1/red/features.npy\n",
      "Got the result from ./1/train/filtrations/6/HeightFiltrartion_1_1/green/features.npy\n",
      "Got the result from ./1/train/filtrations/6/HeightFiltrartion_1_1/green/features.npy\n",
      "Got the result from ./1/train/filtrations/6/HeightFiltrartion_1_1/blue/features.npy\n",
      "Got the result from ./1/train/filtrations/6/HeightFiltrartion_1_1/blue/features.npy\n",
      "Fitting filtration 51/72: 6/HeightFiltrartion_1_-1\n",
      "RGB images received. Transforming to grayscale.\n"
     ]
    },
    {
     "name": "stderr",
     "output_type": "stream",
     "text": [
      "rgb2gray: 100%|██████████| 9030/9030 [00:01<00:00, 4987.92it/s]\n"
     ]
    },
    {
     "name": "stdout",
     "output_type": "stream",
     "text": [
      "Got the result from ./1/train/filtrations/6/HeightFiltrartion_1_-1/gray/features.npy\n",
      "Got the result from ./1/train/filtrations/6/HeightFiltrartion_1_-1/gray/features.npy\n",
      "Got the result from ./1/train/filtrations/6/HeightFiltrartion_1_-1/red/features.npy\n",
      "Got the result from ./1/train/filtrations/6/HeightFiltrartion_1_-1/red/features.npy\n",
      "Got the result from ./1/train/filtrations/6/HeightFiltrartion_1_-1/green/features.npy\n",
      "Got the result from ./1/train/filtrations/6/HeightFiltrartion_1_-1/green/features.npy\n",
      "Got the result from ./1/train/filtrations/6/HeightFiltrartion_1_-1/blue/features.npy\n",
      "Got the result from ./1/train/filtrations/6/HeightFiltrartion_1_-1/blue/features.npy\n",
      "Fitting filtration 52/72: 6/HeightFiltrartion_-1_1\n",
      "RGB images received. Transforming to grayscale.\n"
     ]
    },
    {
     "name": "stderr",
     "output_type": "stream",
     "text": [
      "rgb2gray: 100%|██████████| 9030/9030 [00:01<00:00, 5140.36it/s]\n"
     ]
    },
    {
     "name": "stdout",
     "output_type": "stream",
     "text": [
      "Got the result from ./1/train/filtrations/6/HeightFiltrartion_-1_1/gray/features.npy\n",
      "Got the result from ./1/train/filtrations/6/HeightFiltrartion_-1_1/gray/features.npy\n",
      "Got the result from ./1/train/filtrations/6/HeightFiltrartion_-1_1/red/features.npy\n",
      "Got the result from ./1/train/filtrations/6/HeightFiltrartion_-1_1/red/features.npy\n",
      "Got the result from ./1/train/filtrations/6/HeightFiltrartion_-1_1/green/features.npy\n",
      "Got the result from ./1/train/filtrations/6/HeightFiltrartion_-1_1/green/features.npy\n",
      "Got the result from ./1/train/filtrations/6/HeightFiltrartion_-1_1/blue/features.npy\n",
      "Got the result from ./1/train/filtrations/6/HeightFiltrartion_-1_1/blue/features.npy\n",
      "Fitting filtration 53/72: 6/HeightFiltrartion_0_-1\n",
      "RGB images received. Transforming to grayscale.\n"
     ]
    },
    {
     "name": "stderr",
     "output_type": "stream",
     "text": [
      "rgb2gray: 100%|██████████| 9030/9030 [00:01<00:00, 4977.11it/s]\n"
     ]
    },
    {
     "name": "stdout",
     "output_type": "stream",
     "text": [
      "Got the result from ./1/train/filtrations/6/HeightFiltrartion_0_-1/gray/features.npy\n",
      "Got the result from ./1/train/filtrations/6/HeightFiltrartion_0_-1/gray/features.npy\n",
      "Got the result from ./1/train/filtrations/6/HeightFiltrartion_0_-1/red/features.npy\n",
      "Got the result from ./1/train/filtrations/6/HeightFiltrartion_0_-1/red/features.npy\n",
      "Got the result from ./1/train/filtrations/6/HeightFiltrartion_0_-1/green/features.npy\n",
      "Got the result from ./1/train/filtrations/6/HeightFiltrartion_0_-1/green/features.npy\n",
      "Got the result from ./1/train/filtrations/6/HeightFiltrartion_0_-1/blue/features.npy\n",
      "Got the result from ./1/train/filtrations/6/HeightFiltrartion_0_-1/blue/features.npy\n",
      "Fitting filtration 54/72: 6/HeightFiltrartion_0_1\n",
      "RGB images received. Transforming to grayscale.\n"
     ]
    },
    {
     "name": "stderr",
     "output_type": "stream",
     "text": [
      "rgb2gray: 100%|██████████| 9030/9030 [00:01<00:00, 5174.12it/s]\n"
     ]
    },
    {
     "name": "stdout",
     "output_type": "stream",
     "text": [
      "Got the result from ./1/train/filtrations/6/HeightFiltrartion_0_1/gray/features.npy\n",
      "Got the result from ./1/train/filtrations/6/HeightFiltrartion_0_1/gray/features.npy\n",
      "Got the result from ./1/train/filtrations/6/HeightFiltrartion_0_1/red/features.npy\n",
      "Got the result from ./1/train/filtrations/6/HeightFiltrartion_0_1/red/features.npy\n",
      "Got the result from ./1/train/filtrations/6/HeightFiltrartion_0_1/green/features.npy\n",
      "Got the result from ./1/train/filtrations/6/HeightFiltrartion_0_1/green/features.npy\n",
      "Got the result from ./1/train/filtrations/6/HeightFiltrartion_0_1/blue/features.npy\n",
      "Got the result from ./1/train/filtrations/6/HeightFiltrartion_0_1/blue/features.npy\n",
      "Fitting filtration 55/72: 6/HeightFiltrartion_-1_0\n",
      "RGB images received. Transforming to grayscale.\n"
     ]
    },
    {
     "name": "stderr",
     "output_type": "stream",
     "text": [
      "rgb2gray: 100%|██████████| 9030/9030 [00:01<00:00, 5054.14it/s]\n"
     ]
    },
    {
     "name": "stdout",
     "output_type": "stream",
     "text": [
      "Got the result from ./1/train/filtrations/6/HeightFiltrartion_-1_0/gray/features.npy\n",
      "Got the result from ./1/train/filtrations/6/HeightFiltrartion_-1_0/gray/features.npy\n",
      "Got the result from ./1/train/filtrations/6/HeightFiltrartion_-1_0/red/features.npy\n",
      "Got the result from ./1/train/filtrations/6/HeightFiltrartion_-1_0/red/features.npy\n",
      "Got the result from ./1/train/filtrations/6/HeightFiltrartion_-1_0/green/features.npy\n",
      "Got the result from ./1/train/filtrations/6/HeightFiltrartion_-1_0/green/features.npy\n",
      "Got the result from ./1/train/filtrations/6/HeightFiltrartion_-1_0/blue/features.npy\n",
      "Got the result from ./1/train/filtrations/6/HeightFiltrartion_-1_0/blue/features.npy\n",
      "Fitting filtration 56/72: 6/HeightFiltrartion_1_0\n",
      "RGB images received. Transforming to grayscale.\n"
     ]
    },
    {
     "name": "stderr",
     "output_type": "stream",
     "text": [
      "rgb2gray: 100%|██████████| 9030/9030 [00:01<00:00, 4986.74it/s]\n"
     ]
    },
    {
     "name": "stdout",
     "output_type": "stream",
     "text": [
      "Got the result from ./1/train/filtrations/6/HeightFiltrartion_1_0/gray/features.npy\n",
      "Got the result from ./1/train/filtrations/6/HeightFiltrartion_1_0/gray/features.npy\n",
      "Got the result from ./1/train/filtrations/6/HeightFiltrartion_1_0/red/features.npy\n",
      "Got the result from ./1/train/filtrations/6/HeightFiltrartion_1_0/red/features.npy\n",
      "Got the result from ./1/train/filtrations/6/HeightFiltrartion_1_0/green/features.npy\n",
      "Got the result from ./1/train/filtrations/6/HeightFiltrartion_1_0/green/features.npy\n",
      "Got the result from ./1/train/filtrations/6/HeightFiltrartion_1_0/blue/features.npy\n",
      "Got the result from ./1/train/filtrations/6/HeightFiltrartion_1_0/blue/features.npy\n",
      "Fitting filtration 57/72: 6/RadialFiltration_12_12\n",
      "RGB images received. Transforming to grayscale.\n"
     ]
    },
    {
     "name": "stderr",
     "output_type": "stream",
     "text": [
      "rgb2gray: 100%|██████████| 9030/9030 [00:01<00:00, 5113.59it/s]\n"
     ]
    },
    {
     "name": "stdout",
     "output_type": "stream",
     "text": [
      "Got the result from ./1/train/filtrations/6/RadialFiltration_12_12/gray/features.npy\n",
      "Got the result from ./1/train/filtrations/6/RadialFiltration_12_12/gray/features.npy\n",
      "Got the result from ./1/train/filtrations/6/RadialFiltration_12_12/red/features.npy\n",
      "Got the result from ./1/train/filtrations/6/RadialFiltration_12_12/red/features.npy\n",
      "Got the result from ./1/train/filtrations/6/RadialFiltration_12_12/green/features.npy\n",
      "Got the result from ./1/train/filtrations/6/RadialFiltration_12_12/green/features.npy\n",
      "Got the result from ./1/train/filtrations/6/RadialFiltration_12_12/blue/features.npy\n",
      "Got the result from ./1/train/filtrations/6/RadialFiltration_12_12/blue/features.npy\n",
      "Fitting filtration 58/72: 6/RadialFiltration_12_25\n",
      "RGB images received. Transforming to grayscale.\n"
     ]
    },
    {
     "name": "stderr",
     "output_type": "stream",
     "text": [
      "rgb2gray: 100%|██████████| 9030/9030 [00:01<00:00, 4986.26it/s]\n"
     ]
    },
    {
     "name": "stdout",
     "output_type": "stream",
     "text": [
      "Got the result from ./1/train/filtrations/6/RadialFiltration_12_25/gray/features.npy\n",
      "Got the result from ./1/train/filtrations/6/RadialFiltration_12_25/gray/features.npy\n",
      "Got the result from ./1/train/filtrations/6/RadialFiltration_12_25/red/features.npy\n",
      "Got the result from ./1/train/filtrations/6/RadialFiltration_12_25/red/features.npy\n",
      "Got the result from ./1/train/filtrations/6/RadialFiltration_12_25/green/features.npy\n",
      "Got the result from ./1/train/filtrations/6/RadialFiltration_12_25/green/features.npy\n",
      "Got the result from ./1/train/filtrations/6/RadialFiltration_12_25/blue/features.npy\n",
      "Got the result from ./1/train/filtrations/6/RadialFiltration_12_25/blue/features.npy\n",
      "Fitting filtration 59/72: 6/RadialFiltration_12_38\n",
      "RGB images received. Transforming to grayscale.\n"
     ]
    },
    {
     "name": "stderr",
     "output_type": "stream",
     "text": [
      "rgb2gray: 100%|██████████| 9030/9030 [00:01<00:00, 4885.77it/s]\n"
     ]
    },
    {
     "name": "stdout",
     "output_type": "stream",
     "text": [
      "Got the result from ./1/train/filtrations/6/RadialFiltration_12_38/gray/features.npy\n",
      "Got the result from ./1/train/filtrations/6/RadialFiltration_12_38/gray/features.npy\n",
      "Got the result from ./1/train/filtrations/6/RadialFiltration_12_38/red/features.npy\n",
      "Got the result from ./1/train/filtrations/6/RadialFiltration_12_38/red/features.npy\n",
      "Got the result from ./1/train/filtrations/6/RadialFiltration_12_38/green/features.npy\n",
      "Got the result from ./1/train/filtrations/6/RadialFiltration_12_38/green/features.npy\n",
      "Got the result from ./1/train/filtrations/6/RadialFiltration_12_38/blue/features.npy\n",
      "Got the result from ./1/train/filtrations/6/RadialFiltration_12_38/blue/features.npy\n",
      "Fitting filtration 60/72: 6/RadialFiltration_12_51\n",
      "RGB images received. Transforming to grayscale.\n"
     ]
    },
    {
     "name": "stderr",
     "output_type": "stream",
     "text": [
      "rgb2gray: 100%|██████████| 9030/9030 [00:01<00:00, 4968.76it/s]\n"
     ]
    },
    {
     "name": "stdout",
     "output_type": "stream",
     "text": [
      "Got the result from ./1/train/filtrations/6/RadialFiltration_12_51/gray/features.npy\n",
      "Got the result from ./1/train/filtrations/6/RadialFiltration_12_51/gray/features.npy\n",
      "Got the result from ./1/train/filtrations/6/RadialFiltration_12_51/red/features.npy\n",
      "Got the result from ./1/train/filtrations/6/RadialFiltration_12_51/red/features.npy\n",
      "Got the result from ./1/train/filtrations/6/RadialFiltration_12_51/green/features.npy\n",
      "Got the result from ./1/train/filtrations/6/RadialFiltration_12_51/green/features.npy\n",
      "Got the result from ./1/train/filtrations/6/RadialFiltration_12_51/blue/features.npy\n",
      "Got the result from ./1/train/filtrations/6/RadialFiltration_12_51/blue/features.npy\n",
      "Fitting filtration 61/72: 6/RadialFiltration_25_12\n",
      "RGB images received. Transforming to grayscale.\n"
     ]
    },
    {
     "name": "stderr",
     "output_type": "stream",
     "text": [
      "rgb2gray: 100%|██████████| 9030/9030 [00:01<00:00, 4986.26it/s]\n"
     ]
    },
    {
     "name": "stdout",
     "output_type": "stream",
     "text": [
      "Got the result from ./1/train/filtrations/6/RadialFiltration_25_12/gray/features.npy\n",
      "Got the result from ./1/train/filtrations/6/RadialFiltration_25_12/gray/features.npy\n",
      "Got the result from ./1/train/filtrations/6/RadialFiltration_25_12/red/features.npy\n",
      "Got the result from ./1/train/filtrations/6/RadialFiltration_25_12/red/features.npy\n",
      "Got the result from ./1/train/filtrations/6/RadialFiltration_25_12/green/features.npy\n",
      "Got the result from ./1/train/filtrations/6/RadialFiltration_25_12/green/features.npy\n",
      "Got the result from ./1/train/filtrations/6/RadialFiltration_25_12/blue/features.npy\n",
      "Got the result from ./1/train/filtrations/6/RadialFiltration_25_12/blue/features.npy\n",
      "Fitting filtration 62/72: 6/RadialFiltration_25_25\n",
      "RGB images received. Transforming to grayscale.\n"
     ]
    },
    {
     "name": "stderr",
     "output_type": "stream",
     "text": [
      "rgb2gray: 100%|██████████| 9030/9030 [00:01<00:00, 4918.99it/s]\n"
     ]
    },
    {
     "name": "stdout",
     "output_type": "stream",
     "text": [
      "Got the result from ./1/train/filtrations/6/RadialFiltration_25_25/gray/features.npy\n",
      "Got the result from ./1/train/filtrations/6/RadialFiltration_25_25/gray/features.npy\n",
      "Got the result from ./1/train/filtrations/6/RadialFiltration_25_25/red/features.npy\n",
      "Got the result from ./1/train/filtrations/6/RadialFiltration_25_25/red/features.npy\n",
      "Got the result from ./1/train/filtrations/6/RadialFiltration_25_25/green/features.npy\n",
      "Got the result from ./1/train/filtrations/6/RadialFiltration_25_25/green/features.npy\n",
      "Got the result from ./1/train/filtrations/6/RadialFiltration_25_25/blue/features.npy\n",
      "Got the result from ./1/train/filtrations/6/RadialFiltration_25_25/blue/features.npy\n",
      "Fitting filtration 63/72: 6/RadialFiltration_25_38\n",
      "RGB images received. Transforming to grayscale.\n"
     ]
    },
    {
     "name": "stderr",
     "output_type": "stream",
     "text": [
      "rgb2gray: 100%|██████████| 9030/9030 [00:01<00:00, 5276.59it/s]\n"
     ]
    },
    {
     "name": "stdout",
     "output_type": "stream",
     "text": [
      "Got the result from ./1/train/filtrations/6/RadialFiltration_25_38/gray/features.npy\n",
      "Got the result from ./1/train/filtrations/6/RadialFiltration_25_38/gray/features.npy\n",
      "Got the result from ./1/train/filtrations/6/RadialFiltration_25_38/red/features.npy\n",
      "Got the result from ./1/train/filtrations/6/RadialFiltration_25_38/red/features.npy\n",
      "Got the result from ./1/train/filtrations/6/RadialFiltration_25_38/green/features.npy\n",
      "Got the result from ./1/train/filtrations/6/RadialFiltration_25_38/green/features.npy\n",
      "Got the result from ./1/train/filtrations/6/RadialFiltration_25_38/blue/features.npy\n",
      "Got the result from ./1/train/filtrations/6/RadialFiltration_25_38/blue/features.npy\n",
      "Fitting filtration 64/72: 6/RadialFiltration_25_51\n",
      "RGB images received. Transforming to grayscale.\n"
     ]
    },
    {
     "name": "stderr",
     "output_type": "stream",
     "text": [
      "rgb2gray: 100%|██████████| 9030/9030 [00:01<00:00, 5488.28it/s]\n"
     ]
    },
    {
     "name": "stdout",
     "output_type": "stream",
     "text": [
      "Got the result from ./1/train/filtrations/6/RadialFiltration_25_51/gray/features.npy\n",
      "Got the result from ./1/train/filtrations/6/RadialFiltration_25_51/gray/features.npy\n",
      "Got the result from ./1/train/filtrations/6/RadialFiltration_25_51/red/features.npy\n",
      "Got the result from ./1/train/filtrations/6/RadialFiltration_25_51/red/features.npy\n",
      "Got the result from ./1/train/filtrations/6/RadialFiltration_25_51/green/features.npy\n",
      "Got the result from ./1/train/filtrations/6/RadialFiltration_25_51/green/features.npy\n",
      "Got the result from ./1/train/filtrations/6/RadialFiltration_25_51/blue/features.npy\n",
      "Got the result from ./1/train/filtrations/6/RadialFiltration_25_51/blue/features.npy\n",
      "Fitting filtration 65/72: 6/RadialFiltration_38_12\n",
      "RGB images received. Transforming to grayscale.\n"
     ]
    },
    {
     "name": "stderr",
     "output_type": "stream",
     "text": [
      "rgb2gray: 100%|██████████| 9030/9030 [00:01<00:00, 5077.23it/s]\n"
     ]
    },
    {
     "name": "stdout",
     "output_type": "stream",
     "text": [
      "Got the result from ./1/train/filtrations/6/RadialFiltration_38_12/gray/features.npy\n",
      "Got the result from ./1/train/filtrations/6/RadialFiltration_38_12/gray/features.npy\n",
      "Got the result from ./1/train/filtrations/6/RadialFiltration_38_12/red/features.npy\n",
      "Got the result from ./1/train/filtrations/6/RadialFiltration_38_12/red/features.npy\n",
      "Got the result from ./1/train/filtrations/6/RadialFiltration_38_12/green/features.npy\n",
      "Got the result from ./1/train/filtrations/6/RadialFiltration_38_12/green/features.npy\n",
      "Got the result from ./1/train/filtrations/6/RadialFiltration_38_12/blue/features.npy\n",
      "Got the result from ./1/train/filtrations/6/RadialFiltration_38_12/blue/features.npy\n",
      "Fitting filtration 66/72: 6/RadialFiltration_38_25\n",
      "RGB images received. Transforming to grayscale.\n"
     ]
    },
    {
     "name": "stderr",
     "output_type": "stream",
     "text": [
      "rgb2gray: 100%|██████████| 9030/9030 [00:01<00:00, 4778.40it/s]\n"
     ]
    },
    {
     "name": "stdout",
     "output_type": "stream",
     "text": [
      "Got the result from ./1/train/filtrations/6/RadialFiltration_38_25/gray/features.npy\n",
      "Got the result from ./1/train/filtrations/6/RadialFiltration_38_25/gray/features.npy\n",
      "Got the result from ./1/train/filtrations/6/RadialFiltration_38_25/red/features.npy\n",
      "Got the result from ./1/train/filtrations/6/RadialFiltration_38_25/red/features.npy\n",
      "Got the result from ./1/train/filtrations/6/RadialFiltration_38_25/green/features.npy\n",
      "Got the result from ./1/train/filtrations/6/RadialFiltration_38_25/green/features.npy\n",
      "Got the result from ./1/train/filtrations/6/RadialFiltration_38_25/blue/features.npy\n",
      "Got the result from ./1/train/filtrations/6/RadialFiltration_38_25/blue/features.npy\n",
      "Fitting filtration 67/72: 6/RadialFiltration_38_38\n",
      "RGB images received. Transforming to grayscale.\n"
     ]
    },
    {
     "name": "stderr",
     "output_type": "stream",
     "text": [
      "rgb2gray: 100%|██████████| 9030/9030 [00:01<00:00, 4780.58it/s]\n"
     ]
    },
    {
     "name": "stdout",
     "output_type": "stream",
     "text": [
      "Got the result from ./1/train/filtrations/6/RadialFiltration_38_38/gray/features.npy\n",
      "Got the result from ./1/train/filtrations/6/RadialFiltration_38_38/gray/features.npy\n",
      "Got the result from ./1/train/filtrations/6/RadialFiltration_38_38/red/features.npy\n",
      "Got the result from ./1/train/filtrations/6/RadialFiltration_38_38/red/features.npy\n",
      "Got the result from ./1/train/filtrations/6/RadialFiltration_38_38/green/features.npy\n",
      "Got the result from ./1/train/filtrations/6/RadialFiltration_38_38/green/features.npy\n",
      "Got the result from ./1/train/filtrations/6/RadialFiltration_38_38/blue/features.npy\n",
      "Got the result from ./1/train/filtrations/6/RadialFiltration_38_38/blue/features.npy\n",
      "Fitting filtration 68/72: 6/RadialFiltration_38_51\n",
      "RGB images received. Transforming to grayscale.\n"
     ]
    },
    {
     "name": "stderr",
     "output_type": "stream",
     "text": [
      "rgb2gray: 100%|██████████| 9030/9030 [00:01<00:00, 5166.16it/s]\n"
     ]
    },
    {
     "name": "stdout",
     "output_type": "stream",
     "text": [
      "Got the result from ./1/train/filtrations/6/RadialFiltration_38_51/gray/features.npy\n",
      "Got the result from ./1/train/filtrations/6/RadialFiltration_38_51/gray/features.npy\n",
      "Got the result from ./1/train/filtrations/6/RadialFiltration_38_51/red/features.npy\n",
      "Got the result from ./1/train/filtrations/6/RadialFiltration_38_51/red/features.npy\n",
      "Got the result from ./1/train/filtrations/6/RadialFiltration_38_51/green/features.npy\n",
      "Got the result from ./1/train/filtrations/6/RadialFiltration_38_51/green/features.npy\n",
      "Got the result from ./1/train/filtrations/6/RadialFiltration_38_51/blue/features.npy\n",
      "Got the result from ./1/train/filtrations/6/RadialFiltration_38_51/blue/features.npy\n",
      "Fitting filtration 69/72: 6/RadialFiltration_51_12\n",
      "RGB images received. Transforming to grayscale.\n"
     ]
    },
    {
     "name": "stderr",
     "output_type": "stream",
     "text": [
      "rgb2gray: 100%|██████████| 9030/9030 [00:01<00:00, 5655.71it/s]\n"
     ]
    },
    {
     "name": "stdout",
     "output_type": "stream",
     "text": [
      "Got the result from ./1/train/filtrations/6/RadialFiltration_51_12/gray/features.npy\n",
      "Got the result from ./1/train/filtrations/6/RadialFiltration_51_12/gray/features.npy\n",
      "Got the result from ./1/train/filtrations/6/RadialFiltration_51_12/red/features.npy\n",
      "Got the result from ./1/train/filtrations/6/RadialFiltration_51_12/red/features.npy\n",
      "Got the result from ./1/train/filtrations/6/RadialFiltration_51_12/green/features.npy\n",
      "Got the result from ./1/train/filtrations/6/RadialFiltration_51_12/green/features.npy\n",
      "Got the result from ./1/train/filtrations/6/RadialFiltration_51_12/blue/features.npy\n",
      "Got the result from ./1/train/filtrations/6/RadialFiltration_51_12/blue/features.npy\n",
      "Fitting filtration 70/72: 6/RadialFiltration_51_25\n",
      "RGB images received. Transforming to grayscale.\n"
     ]
    },
    {
     "name": "stderr",
     "output_type": "stream",
     "text": [
      "rgb2gray: 100%|██████████| 9030/9030 [00:01<00:00, 5140.12it/s]\n"
     ]
    },
    {
     "name": "stdout",
     "output_type": "stream",
     "text": [
      "Got the result from ./1/train/filtrations/6/RadialFiltration_51_25/gray/features.npy\n",
      "Got the result from ./1/train/filtrations/6/RadialFiltration_51_25/gray/features.npy\n",
      "Got the result from ./1/train/filtrations/6/RadialFiltration_51_25/red/features.npy\n",
      "Got the result from ./1/train/filtrations/6/RadialFiltration_51_25/red/features.npy\n",
      "Got the result from ./1/train/filtrations/6/RadialFiltration_51_25/green/features.npy\n",
      "Got the result from ./1/train/filtrations/6/RadialFiltration_51_25/green/features.npy\n",
      "Got the result from ./1/train/filtrations/6/RadialFiltration_51_25/blue/features.npy\n",
      "Got the result from ./1/train/filtrations/6/RadialFiltration_51_25/blue/features.npy\n",
      "Fitting filtration 71/72: 6/RadialFiltration_51_38\n",
      "RGB images received. Transforming to grayscale.\n"
     ]
    },
    {
     "name": "stderr",
     "output_type": "stream",
     "text": [
      "rgb2gray: 100%|██████████| 9030/9030 [00:01<00:00, 4939.86it/s]\n"
     ]
    },
    {
     "name": "stdout",
     "output_type": "stream",
     "text": [
      "Got the result from ./1/train/filtrations/6/RadialFiltration_51_38/gray/features.npy\n",
      "Got the result from ./1/train/filtrations/6/RadialFiltration_51_38/gray/features.npy\n",
      "Got the result from ./1/train/filtrations/6/RadialFiltration_51_38/red/features.npy\n",
      "Got the result from ./1/train/filtrations/6/RadialFiltration_51_38/red/features.npy\n",
      "Got the result from ./1/train/filtrations/6/RadialFiltration_51_38/green/features.npy\n",
      "Got the result from ./1/train/filtrations/6/RadialFiltration_51_38/green/features.npy\n",
      "Got the result from ./1/train/filtrations/6/RadialFiltration_51_38/blue/features.npy\n",
      "Got the result from ./1/train/filtrations/6/RadialFiltration_51_38/blue/features.npy\n",
      "Fitting filtration 72/72: 6/RadialFiltration_51_51\n",
      "RGB images received. Transforming to grayscale.\n"
     ]
    },
    {
     "name": "stderr",
     "output_type": "stream",
     "text": [
      "rgb2gray: 100%|██████████| 9030/9030 [00:01<00:00, 5477.95it/s]\n"
     ]
    },
    {
     "name": "stdout",
     "output_type": "stream",
     "text": [
      "Got the result from ./1/train/filtrations/6/RadialFiltration_51_51/gray/features.npy\n",
      "Got the result from ./1/train/filtrations/6/RadialFiltration_51_51/gray/features.npy\n",
      "Got the result from ./1/train/filtrations/6/RadialFiltration_51_51/red/features.npy\n",
      "Got the result from ./1/train/filtrations/6/RadialFiltration_51_51/red/features.npy\n",
      "Got the result from ./1/train/filtrations/6/RadialFiltration_51_51/green/features.npy\n",
      "Got the result from ./1/train/filtrations/6/RadialFiltration_51_51/green/features.npy\n",
      "Got the result from ./1/train/filtrations/6/RadialFiltration_51_51/blue/features.npy\n",
      "Got the result from ./1/train/filtrations/6/RadialFiltration_51_51/blue/features.npy\n",
      "Applying filtrations\n",
      "Applying filtration 1/72: 2/HeightFiltrartion_-1_-1\n",
      "RGB images received. Transforming to grayscale.\n"
     ]
    },
    {
     "name": "stderr",
     "output_type": "stream",
     "text": [
      "rgb2gray: 100%|██████████| 9030/9030 [00:01<00:00, 5230.31it/s]\n"
     ]
    },
    {
     "name": "stdout",
     "output_type": "stream",
     "text": [
      "Got the result from ./1/train/filtrations/2/HeightFiltrartion_-1_-1/gray/features.npy\n",
      "Got the result from ./1/train/filtrations/2/HeightFiltrartion_-1_-1/red/features.npy\n",
      "Got the result from ./1/train/filtrations/2/HeightFiltrartion_-1_-1/green/features.npy\n",
      "Got the result from ./1/train/filtrations/2/HeightFiltrartion_-1_-1/blue/features.npy\n",
      "Applying filtration 2/72: 2/HeightFiltrartion_1_1\n",
      "RGB images received. Transforming to grayscale.\n"
     ]
    },
    {
     "name": "stderr",
     "output_type": "stream",
     "text": [
      "rgb2gray: 100%|██████████| 9030/9030 [00:01<00:00, 5161.53it/s]\n"
     ]
    },
    {
     "name": "stdout",
     "output_type": "stream",
     "text": [
      "Got the result from ./1/train/filtrations/2/HeightFiltrartion_1_1/gray/features.npy\n",
      "Got the result from ./1/train/filtrations/2/HeightFiltrartion_1_1/red/features.npy\n",
      "Got the result from ./1/train/filtrations/2/HeightFiltrartion_1_1/green/features.npy\n",
      "Got the result from ./1/train/filtrations/2/HeightFiltrartion_1_1/blue/features.npy\n",
      "Applying filtration 3/72: 2/HeightFiltrartion_1_-1\n",
      "RGB images received. Transforming to grayscale.\n"
     ]
    },
    {
     "name": "stderr",
     "output_type": "stream",
     "text": [
      "rgb2gray: 100%|██████████| 9030/9030 [00:01<00:00, 5047.72it/s]\n"
     ]
    },
    {
     "name": "stdout",
     "output_type": "stream",
     "text": [
      "Got the result from ./1/train/filtrations/2/HeightFiltrartion_1_-1/gray/features.npy\n",
      "Got the result from ./1/train/filtrations/2/HeightFiltrartion_1_-1/red/features.npy\n",
      "Got the result from ./1/train/filtrations/2/HeightFiltrartion_1_-1/green/features.npy\n",
      "Got the result from ./1/train/filtrations/2/HeightFiltrartion_1_-1/blue/features.npy\n",
      "Applying filtration 4/72: 2/HeightFiltrartion_-1_1\n",
      "RGB images received. Transforming to grayscale.\n"
     ]
    },
    {
     "name": "stderr",
     "output_type": "stream",
     "text": [
      "rgb2gray: 100%|██████████| 9030/9030 [00:01<00:00, 5253.32it/s]\n"
     ]
    },
    {
     "name": "stdout",
     "output_type": "stream",
     "text": [
      "Got the result from ./1/train/filtrations/2/HeightFiltrartion_-1_1/gray/features.npy\n",
      "Got the result from ./1/train/filtrations/2/HeightFiltrartion_-1_1/red/features.npy\n",
      "Got the result from ./1/train/filtrations/2/HeightFiltrartion_-1_1/green/features.npy\n",
      "Got the result from ./1/train/filtrations/2/HeightFiltrartion_-1_1/blue/features.npy\n",
      "Applying filtration 5/72: 2/HeightFiltrartion_0_-1\n",
      "RGB images received. Transforming to grayscale.\n"
     ]
    },
    {
     "name": "stderr",
     "output_type": "stream",
     "text": [
      "rgb2gray: 100%|██████████| 9030/9030 [00:01<00:00, 5018.87it/s]\n"
     ]
    },
    {
     "name": "stdout",
     "output_type": "stream",
     "text": [
      "Got the result from ./1/train/filtrations/2/HeightFiltrartion_0_-1/gray/features.npy\n",
      "Got the result from ./1/train/filtrations/2/HeightFiltrartion_0_-1/red/features.npy\n",
      "Got the result from ./1/train/filtrations/2/HeightFiltrartion_0_-1/green/features.npy\n",
      "Got the result from ./1/train/filtrations/2/HeightFiltrartion_0_-1/blue/features.npy\n",
      "Applying filtration 6/72: 2/HeightFiltrartion_0_1\n",
      "RGB images received. Transforming to grayscale.\n"
     ]
    },
    {
     "name": "stderr",
     "output_type": "stream",
     "text": [
      "rgb2gray: 100%|██████████| 9030/9030 [00:01<00:00, 4987.92it/s]\n"
     ]
    },
    {
     "name": "stdout",
     "output_type": "stream",
     "text": [
      "Got the result from ./1/train/filtrations/2/HeightFiltrartion_0_1/gray/features.npy\n",
      "Got the result from ./1/train/filtrations/2/HeightFiltrartion_0_1/red/features.npy\n",
      "Got the result from ./1/train/filtrations/2/HeightFiltrartion_0_1/green/features.npy\n",
      "Got the result from ./1/train/filtrations/2/HeightFiltrartion_0_1/blue/features.npy\n",
      "Applying filtration 7/72: 2/HeightFiltrartion_-1_0\n",
      "RGB images received. Transforming to grayscale.\n"
     ]
    },
    {
     "name": "stderr",
     "output_type": "stream",
     "text": [
      "rgb2gray: 100%|██████████| 9030/9030 [00:01<00:00, 5353.48it/s]\n"
     ]
    },
    {
     "name": "stdout",
     "output_type": "stream",
     "text": [
      "Got the result from ./1/train/filtrations/2/HeightFiltrartion_-1_0/gray/features.npy\n",
      "Got the result from ./1/train/filtrations/2/HeightFiltrartion_-1_0/red/features.npy\n",
      "Got the result from ./1/train/filtrations/2/HeightFiltrartion_-1_0/green/features.npy\n",
      "Got the result from ./1/train/filtrations/2/HeightFiltrartion_-1_0/blue/features.npy\n",
      "Applying filtration 8/72: 2/HeightFiltrartion_1_0\n",
      "RGB images received. Transforming to grayscale.\n"
     ]
    },
    {
     "name": "stderr",
     "output_type": "stream",
     "text": [
      "rgb2gray: 100%|██████████| 9030/9030 [00:01<00:00, 5147.26it/s]\n"
     ]
    },
    {
     "name": "stdout",
     "output_type": "stream",
     "text": [
      "Got the result from ./1/train/filtrations/2/HeightFiltrartion_1_0/gray/features.npy\n",
      "Got the result from ./1/train/filtrations/2/HeightFiltrartion_1_0/red/features.npy\n",
      "Got the result from ./1/train/filtrations/2/HeightFiltrartion_1_0/green/features.npy\n",
      "Got the result from ./1/train/filtrations/2/HeightFiltrartion_1_0/blue/features.npy\n",
      "Applying filtration 9/72: 2/RadialFiltration_12_12\n",
      "RGB images received. Transforming to grayscale.\n"
     ]
    },
    {
     "name": "stderr",
     "output_type": "stream",
     "text": [
      "rgb2gray: 100%|██████████| 9030/9030 [00:01<00:00, 5475.06it/s]\n"
     ]
    },
    {
     "name": "stdout",
     "output_type": "stream",
     "text": [
      "Got the result from ./1/train/filtrations/2/RadialFiltration_12_12/gray/features.npy\n",
      "Got the result from ./1/train/filtrations/2/RadialFiltration_12_12/red/features.npy\n",
      "Got the result from ./1/train/filtrations/2/RadialFiltration_12_12/green/features.npy\n",
      "Got the result from ./1/train/filtrations/2/RadialFiltration_12_12/blue/features.npy\n",
      "Applying filtration 10/72: 2/RadialFiltration_12_25\n",
      "RGB images received. Transforming to grayscale.\n"
     ]
    },
    {
     "name": "stderr",
     "output_type": "stream",
     "text": [
      "rgb2gray: 100%|██████████| 9030/9030 [00:01<00:00, 5194.50it/s]\n"
     ]
    },
    {
     "name": "stdout",
     "output_type": "stream",
     "text": [
      "Got the result from ./1/train/filtrations/2/RadialFiltration_12_25/gray/features.npy\n",
      "Got the result from ./1/train/filtrations/2/RadialFiltration_12_25/red/features.npy\n",
      "Got the result from ./1/train/filtrations/2/RadialFiltration_12_25/green/features.npy\n",
      "Got the result from ./1/train/filtrations/2/RadialFiltration_12_25/blue/features.npy\n",
      "Applying filtration 11/72: 2/RadialFiltration_12_38\n",
      "RGB images received. Transforming to grayscale.\n"
     ]
    },
    {
     "name": "stderr",
     "output_type": "stream",
     "text": [
      "rgb2gray: 100%|██████████| 9030/9030 [00:01<00:00, 4684.73it/s]\n"
     ]
    },
    {
     "name": "stdout",
     "output_type": "stream",
     "text": [
      "Got the result from ./1/train/filtrations/2/RadialFiltration_12_38/gray/features.npy\n",
      "Got the result from ./1/train/filtrations/2/RadialFiltration_12_38/red/features.npy\n",
      "Got the result from ./1/train/filtrations/2/RadialFiltration_12_38/green/features.npy\n",
      "Got the result from ./1/train/filtrations/2/RadialFiltration_12_38/blue/features.npy\n",
      "Applying filtration 12/72: 2/RadialFiltration_12_51\n",
      "RGB images received. Transforming to grayscale.\n"
     ]
    },
    {
     "name": "stderr",
     "output_type": "stream",
     "text": [
      "rgb2gray: 100%|██████████| 9030/9030 [00:01<00:00, 4784.80it/s]\n"
     ]
    },
    {
     "name": "stdout",
     "output_type": "stream",
     "text": [
      "Got the result from ./1/train/filtrations/2/RadialFiltration_12_51/gray/features.npy\n",
      "Got the result from ./1/train/filtrations/2/RadialFiltration_12_51/red/features.npy\n",
      "Got the result from ./1/train/filtrations/2/RadialFiltration_12_51/green/features.npy\n",
      "Got the result from ./1/train/filtrations/2/RadialFiltration_12_51/blue/features.npy\n",
      "Applying filtration 13/72: 2/RadialFiltration_25_12\n",
      "RGB images received. Transforming to grayscale.\n"
     ]
    },
    {
     "name": "stderr",
     "output_type": "stream",
     "text": [
      "rgb2gray: 100%|██████████| 9030/9030 [00:01<00:00, 5038.30it/s]\n"
     ]
    },
    {
     "name": "stdout",
     "output_type": "stream",
     "text": [
      "Got the result from ./1/train/filtrations/2/RadialFiltration_25_12/gray/features.npy\n",
      "Got the result from ./1/train/filtrations/2/RadialFiltration_25_12/red/features.npy\n",
      "Got the result from ./1/train/filtrations/2/RadialFiltration_25_12/green/features.npy\n",
      "Got the result from ./1/train/filtrations/2/RadialFiltration_25_12/blue/features.npy\n",
      "Applying filtration 14/72: 2/RadialFiltration_25_25\n",
      "RGB images received. Transforming to grayscale.\n"
     ]
    },
    {
     "name": "stderr",
     "output_type": "stream",
     "text": [
      "rgb2gray: 100%|██████████| 9030/9030 [00:01<00:00, 5309.11it/s]\n"
     ]
    },
    {
     "name": "stdout",
     "output_type": "stream",
     "text": [
      "Got the result from ./1/train/filtrations/2/RadialFiltration_25_25/gray/features.npy\n",
      "Got the result from ./1/train/filtrations/2/RadialFiltration_25_25/red/features.npy\n",
      "Got the result from ./1/train/filtrations/2/RadialFiltration_25_25/green/features.npy\n",
      "Got the result from ./1/train/filtrations/2/RadialFiltration_25_25/blue/features.npy\n",
      "Applying filtration 15/72: 2/RadialFiltration_25_38\n",
      "RGB images received. Transforming to grayscale.\n"
     ]
    },
    {
     "name": "stderr",
     "output_type": "stream",
     "text": [
      "rgb2gray: 100%|██████████| 9030/9030 [00:01<00:00, 5574.33it/s]\n"
     ]
    },
    {
     "name": "stdout",
     "output_type": "stream",
     "text": [
      "Got the result from ./1/train/filtrations/2/RadialFiltration_25_38/gray/features.npy\n",
      "Got the result from ./1/train/filtrations/2/RadialFiltration_25_38/red/features.npy\n",
      "Got the result from ./1/train/filtrations/2/RadialFiltration_25_38/green/features.npy\n",
      "Got the result from ./1/train/filtrations/2/RadialFiltration_25_38/blue/features.npy\n",
      "Applying filtration 16/72: 2/RadialFiltration_25_51\n",
      "RGB images received. Transforming to grayscale.\n"
     ]
    },
    {
     "name": "stderr",
     "output_type": "stream",
     "text": [
      "rgb2gray: 100%|██████████| 9030/9030 [00:01<00:00, 5590.78it/s]\n"
     ]
    },
    {
     "name": "stdout",
     "output_type": "stream",
     "text": [
      "Got the result from ./1/train/filtrations/2/RadialFiltration_25_51/gray/features.npy\n",
      "Got the result from ./1/train/filtrations/2/RadialFiltration_25_51/red/features.npy\n",
      "Got the result from ./1/train/filtrations/2/RadialFiltration_25_51/green/features.npy\n",
      "Got the result from ./1/train/filtrations/2/RadialFiltration_25_51/blue/features.npy\n",
      "Applying filtration 17/72: 2/RadialFiltration_38_12\n",
      "RGB images received. Transforming to grayscale.\n"
     ]
    },
    {
     "name": "stderr",
     "output_type": "stream",
     "text": [
      "rgb2gray: 100%|██████████| 9030/9030 [00:01<00:00, 5243.53it/s]\n"
     ]
    },
    {
     "name": "stdout",
     "output_type": "stream",
     "text": [
      "Got the result from ./1/train/filtrations/2/RadialFiltration_38_12/gray/features.npy\n",
      "Got the result from ./1/train/filtrations/2/RadialFiltration_38_12/red/features.npy\n",
      "Got the result from ./1/train/filtrations/2/RadialFiltration_38_12/green/features.npy\n",
      "Got the result from ./1/train/filtrations/2/RadialFiltration_38_12/blue/features.npy\n",
      "Applying filtration 18/72: 2/RadialFiltration_38_25\n",
      "RGB images received. Transforming to grayscale.\n"
     ]
    },
    {
     "name": "stderr",
     "output_type": "stream",
     "text": [
      "rgb2gray: 100%|██████████| 9030/9030 [00:01<00:00, 5557.46it/s] \n"
     ]
    },
    {
     "name": "stdout",
     "output_type": "stream",
     "text": [
      "Got the result from ./1/train/filtrations/2/RadialFiltration_38_25/gray/features.npy\n",
      "Got the result from ./1/train/filtrations/2/RadialFiltration_38_25/red/features.npy\n",
      "Got the result from ./1/train/filtrations/2/RadialFiltration_38_25/green/features.npy\n",
      "Got the result from ./1/train/filtrations/2/RadialFiltration_38_25/blue/features.npy\n",
      "Applying filtration 19/72: 2/RadialFiltration_38_38\n",
      "RGB images received. Transforming to grayscale.\n"
     ]
    },
    {
     "name": "stderr",
     "output_type": "stream",
     "text": [
      "rgb2gray: 100%|██████████| 9030/9030 [00:01<00:00, 5535.65it/s]\n"
     ]
    },
    {
     "name": "stdout",
     "output_type": "stream",
     "text": [
      "Got the result from ./1/train/filtrations/2/RadialFiltration_38_38/gray/features.npy\n",
      "Got the result from ./1/train/filtrations/2/RadialFiltration_38_38/red/features.npy\n",
      "Got the result from ./1/train/filtrations/2/RadialFiltration_38_38/green/features.npy\n",
      "Got the result from ./1/train/filtrations/2/RadialFiltration_38_38/blue/features.npy\n",
      "Applying filtration 20/72: 2/RadialFiltration_38_51\n",
      "RGB images received. Transforming to grayscale.\n"
     ]
    },
    {
     "name": "stderr",
     "output_type": "stream",
     "text": [
      "rgb2gray: 100%|██████████| 9030/9030 [00:01<00:00, 5607.07it/s]\n"
     ]
    },
    {
     "name": "stdout",
     "output_type": "stream",
     "text": [
      "Got the result from ./1/train/filtrations/2/RadialFiltration_38_51/gray/features.npy\n",
      "Got the result from ./1/train/filtrations/2/RadialFiltration_38_51/red/features.npy\n",
      "Got the result from ./1/train/filtrations/2/RadialFiltration_38_51/green/features.npy\n",
      "Got the result from ./1/train/filtrations/2/RadialFiltration_38_51/blue/features.npy\n",
      "Applying filtration 21/72: 2/RadialFiltration_51_12\n",
      "RGB images received. Transforming to grayscale.\n"
     ]
    },
    {
     "name": "stderr",
     "output_type": "stream",
     "text": [
      "rgb2gray: 100%|██████████| 9030/9030 [00:01<00:00, 5612.16it/s]\n"
     ]
    },
    {
     "name": "stdout",
     "output_type": "stream",
     "text": [
      "Got the result from ./1/train/filtrations/2/RadialFiltration_51_12/gray/features.npy\n",
      "Got the result from ./1/train/filtrations/2/RadialFiltration_51_12/red/features.npy\n",
      "Got the result from ./1/train/filtrations/2/RadialFiltration_51_12/green/features.npy\n",
      "Got the result from ./1/train/filtrations/2/RadialFiltration_51_12/blue/features.npy\n",
      "Applying filtration 22/72: 2/RadialFiltration_51_25\n",
      "RGB images received. Transforming to grayscale.\n"
     ]
    },
    {
     "name": "stderr",
     "output_type": "stream",
     "text": [
      "rgb2gray: 100%|██████████| 9030/9030 [00:01<00:00, 5590.56it/s]\n"
     ]
    },
    {
     "name": "stdout",
     "output_type": "stream",
     "text": [
      "Got the result from ./1/train/filtrations/2/RadialFiltration_51_25/gray/features.npy\n",
      "Got the result from ./1/train/filtrations/2/RadialFiltration_51_25/red/features.npy\n",
      "Got the result from ./1/train/filtrations/2/RadialFiltration_51_25/green/features.npy\n",
      "Got the result from ./1/train/filtrations/2/RadialFiltration_51_25/blue/features.npy\n",
      "Applying filtration 23/72: 2/RadialFiltration_51_38\n",
      "RGB images received. Transforming to grayscale.\n"
     ]
    },
    {
     "name": "stderr",
     "output_type": "stream",
     "text": [
      "rgb2gray: 100%|██████████| 9030/9030 [00:01<00:00, 5214.52it/s]\n"
     ]
    },
    {
     "name": "stdout",
     "output_type": "stream",
     "text": [
      "Got the result from ./1/train/filtrations/2/RadialFiltration_51_38/gray/features.npy\n",
      "Got the result from ./1/train/filtrations/2/RadialFiltration_51_38/red/features.npy\n",
      "Got the result from ./1/train/filtrations/2/RadialFiltration_51_38/green/features.npy\n",
      "Got the result from ./1/train/filtrations/2/RadialFiltration_51_38/blue/features.npy\n",
      "Applying filtration 24/72: 2/RadialFiltration_51_51\n",
      "RGB images received. Transforming to grayscale.\n"
     ]
    },
    {
     "name": "stderr",
     "output_type": "stream",
     "text": [
      "rgb2gray: 100%|██████████| 9030/9030 [00:01<00:00, 5506.89it/s]\n"
     ]
    },
    {
     "name": "stdout",
     "output_type": "stream",
     "text": [
      "Got the result from ./1/train/filtrations/2/RadialFiltration_51_51/gray/features.npy\n",
      "Got the result from ./1/train/filtrations/2/RadialFiltration_51_51/red/features.npy\n",
      "Got the result from ./1/train/filtrations/2/RadialFiltration_51_51/green/features.npy\n",
      "Got the result from ./1/train/filtrations/2/RadialFiltration_51_51/blue/features.npy\n",
      "Applying filtration 25/72: 4/HeightFiltrartion_-1_-1\n",
      "RGB images received. Transforming to grayscale.\n"
     ]
    },
    {
     "name": "stderr",
     "output_type": "stream",
     "text": [
      "rgb2gray: 100%|██████████| 9030/9030 [00:01<00:00, 5644.00it/s]\n"
     ]
    },
    {
     "name": "stdout",
     "output_type": "stream",
     "text": [
      "Got the result from ./1/train/filtrations/4/HeightFiltrartion_-1_-1/gray/features.npy\n",
      "Got the result from ./1/train/filtrations/4/HeightFiltrartion_-1_-1/red/features.npy\n",
      "Got the result from ./1/train/filtrations/4/HeightFiltrartion_-1_-1/green/features.npy\n",
      "Got the result from ./1/train/filtrations/4/HeightFiltrartion_-1_-1/blue/features.npy\n",
      "Applying filtration 26/72: 4/HeightFiltrartion_1_1\n",
      "RGB images received. Transforming to grayscale.\n"
     ]
    },
    {
     "name": "stderr",
     "output_type": "stream",
     "text": [
      "rgb2gray: 100%|██████████| 9030/9030 [00:01<00:00, 5634.32it/s]\n"
     ]
    },
    {
     "name": "stdout",
     "output_type": "stream",
     "text": [
      "Got the result from ./1/train/filtrations/4/HeightFiltrartion_1_1/gray/features.npy\n",
      "Got the result from ./1/train/filtrations/4/HeightFiltrartion_1_1/red/features.npy\n",
      "Got the result from ./1/train/filtrations/4/HeightFiltrartion_1_1/green/features.npy\n",
      "Got the result from ./1/train/filtrations/4/HeightFiltrartion_1_1/blue/features.npy\n",
      "Applying filtration 27/72: 4/HeightFiltrartion_1_-1\n",
      "RGB images received. Transforming to grayscale.\n"
     ]
    },
    {
     "name": "stderr",
     "output_type": "stream",
     "text": [
      "rgb2gray: 100%|██████████| 9030/9030 [00:01<00:00, 5668.32it/s]\n"
     ]
    },
    {
     "name": "stdout",
     "output_type": "stream",
     "text": [
      "Got the result from ./1/train/filtrations/4/HeightFiltrartion_1_-1/gray/features.npy\n",
      "Got the result from ./1/train/filtrations/4/HeightFiltrartion_1_-1/red/features.npy\n",
      "Got the result from ./1/train/filtrations/4/HeightFiltrartion_1_-1/green/features.npy\n",
      "Got the result from ./1/train/filtrations/4/HeightFiltrartion_1_-1/blue/features.npy\n",
      "Applying filtration 28/72: 4/HeightFiltrartion_-1_1\n",
      "RGB images received. Transforming to grayscale.\n"
     ]
    },
    {
     "name": "stderr",
     "output_type": "stream",
     "text": [
      "rgb2gray: 100%|██████████| 9030/9030 [00:01<00:00, 5603.30it/s]\n"
     ]
    },
    {
     "name": "stdout",
     "output_type": "stream",
     "text": [
      "Got the result from ./1/train/filtrations/4/HeightFiltrartion_-1_1/gray/features.npy\n",
      "Got the result from ./1/train/filtrations/4/HeightFiltrartion_-1_1/red/features.npy\n",
      "Got the result from ./1/train/filtrations/4/HeightFiltrartion_-1_1/green/features.npy\n",
      "Got the result from ./1/train/filtrations/4/HeightFiltrartion_-1_1/blue/features.npy\n",
      "Applying filtration 29/72: 4/HeightFiltrartion_0_-1\n",
      "RGB images received. Transforming to grayscale.\n"
     ]
    },
    {
     "name": "stderr",
     "output_type": "stream",
     "text": [
      "rgb2gray: 100%|██████████| 9030/9030 [00:01<00:00, 5336.95it/s]\n"
     ]
    },
    {
     "name": "stdout",
     "output_type": "stream",
     "text": [
      "Got the result from ./1/train/filtrations/4/HeightFiltrartion_0_-1/gray/features.npy\n",
      "Got the result from ./1/train/filtrations/4/HeightFiltrartion_0_-1/red/features.npy\n",
      "Got the result from ./1/train/filtrations/4/HeightFiltrartion_0_-1/green/features.npy\n",
      "Got the result from ./1/train/filtrations/4/HeightFiltrartion_0_-1/blue/features.npy\n",
      "Applying filtration 30/72: 4/HeightFiltrartion_0_1\n",
      "RGB images received. Transforming to grayscale.\n"
     ]
    },
    {
     "name": "stderr",
     "output_type": "stream",
     "text": [
      "rgb2gray: 100%|██████████| 9030/9030 [00:01<00:00, 5667.00it/s]\n"
     ]
    },
    {
     "name": "stdout",
     "output_type": "stream",
     "text": [
      "Got the result from ./1/train/filtrations/4/HeightFiltrartion_0_1/gray/features.npy\n",
      "Got the result from ./1/train/filtrations/4/HeightFiltrartion_0_1/red/features.npy\n",
      "Got the result from ./1/train/filtrations/4/HeightFiltrartion_0_1/green/features.npy\n",
      "Got the result from ./1/train/filtrations/4/HeightFiltrartion_0_1/blue/features.npy\n",
      "Applying filtration 31/72: 4/HeightFiltrartion_-1_0\n",
      "RGB images received. Transforming to grayscale.\n"
     ]
    },
    {
     "name": "stderr",
     "output_type": "stream",
     "text": [
      "rgb2gray: 100%|██████████| 9030/9030 [00:01<00:00, 5633.28it/s]\n"
     ]
    },
    {
     "name": "stdout",
     "output_type": "stream",
     "text": [
      "Got the result from ./1/train/filtrations/4/HeightFiltrartion_-1_0/gray/features.npy\n",
      "Got the result from ./1/train/filtrations/4/HeightFiltrartion_-1_0/red/features.npy\n",
      "Got the result from ./1/train/filtrations/4/HeightFiltrartion_-1_0/green/features.npy\n",
      "Got the result from ./1/train/filtrations/4/HeightFiltrartion_-1_0/blue/features.npy\n",
      "Applying filtration 32/72: 4/HeightFiltrartion_1_0\n",
      "RGB images received. Transforming to grayscale.\n"
     ]
    },
    {
     "name": "stderr",
     "output_type": "stream",
     "text": [
      "rgb2gray: 100%|██████████| 9030/9030 [00:01<00:00, 5428.71it/s]\n"
     ]
    },
    {
     "name": "stdout",
     "output_type": "stream",
     "text": [
      "Got the result from ./1/train/filtrations/4/HeightFiltrartion_1_0/gray/features.npy\n",
      "Got the result from ./1/train/filtrations/4/HeightFiltrartion_1_0/red/features.npy\n",
      "Got the result from ./1/train/filtrations/4/HeightFiltrartion_1_0/green/features.npy\n",
      "Got the result from ./1/train/filtrations/4/HeightFiltrartion_1_0/blue/features.npy\n",
      "Applying filtration 33/72: 4/RadialFiltration_12_12\n",
      "RGB images received. Transforming to grayscale.\n"
     ]
    },
    {
     "name": "stderr",
     "output_type": "stream",
     "text": [
      "rgb2gray: 100%|██████████| 9030/9030 [00:01<00:00, 5594.50it/s]\n"
     ]
    },
    {
     "name": "stdout",
     "output_type": "stream",
     "text": [
      "Got the result from ./1/train/filtrations/4/RadialFiltration_12_12/gray/features.npy\n",
      "Got the result from ./1/train/filtrations/4/RadialFiltration_12_12/red/features.npy\n",
      "Got the result from ./1/train/filtrations/4/RadialFiltration_12_12/green/features.npy\n",
      "Got the result from ./1/train/filtrations/4/RadialFiltration_12_12/blue/features.npy\n",
      "Applying filtration 34/72: 4/RadialFiltration_12_25\n",
      "RGB images received. Transforming to grayscale.\n"
     ]
    },
    {
     "name": "stderr",
     "output_type": "stream",
     "text": [
      "rgb2gray: 100%|██████████| 9030/9030 [00:01<00:00, 5042.55it/s]\n"
     ]
    },
    {
     "name": "stdout",
     "output_type": "stream",
     "text": [
      "Got the result from ./1/train/filtrations/4/RadialFiltration_12_25/gray/features.npy\n",
      "Got the result from ./1/train/filtrations/4/RadialFiltration_12_25/red/features.npy\n",
      "Got the result from ./1/train/filtrations/4/RadialFiltration_12_25/green/features.npy\n",
      "Got the result from ./1/train/filtrations/4/RadialFiltration_12_25/blue/features.npy\n",
      "Applying filtration 35/72: 4/RadialFiltration_12_38\n",
      "RGB images received. Transforming to grayscale.\n"
     ]
    },
    {
     "name": "stderr",
     "output_type": "stream",
     "text": [
      "rgb2gray: 100%|██████████| 9030/9030 [00:01<00:00, 5665.52it/s]\n"
     ]
    },
    {
     "name": "stdout",
     "output_type": "stream",
     "text": [
      "Got the result from ./1/train/filtrations/4/RadialFiltration_12_38/gray/features.npy\n",
      "Got the result from ./1/train/filtrations/4/RadialFiltration_12_38/red/features.npy\n",
      "Got the result from ./1/train/filtrations/4/RadialFiltration_12_38/green/features.npy\n",
      "Got the result from ./1/train/filtrations/4/RadialFiltration_12_38/blue/features.npy\n",
      "Applying filtration 36/72: 4/RadialFiltration_12_51\n",
      "RGB images received. Transforming to grayscale.\n"
     ]
    },
    {
     "name": "stderr",
     "output_type": "stream",
     "text": [
      "rgb2gray: 100%|██████████| 9030/9030 [00:01<00:00, 5539.23it/s]\n"
     ]
    },
    {
     "name": "stdout",
     "output_type": "stream",
     "text": [
      "Got the result from ./1/train/filtrations/4/RadialFiltration_12_51/gray/features.npy\n",
      "Got the result from ./1/train/filtrations/4/RadialFiltration_12_51/red/features.npy\n",
      "Got the result from ./1/train/filtrations/4/RadialFiltration_12_51/green/features.npy\n",
      "Got the result from ./1/train/filtrations/4/RadialFiltration_12_51/blue/features.npy\n",
      "Applying filtration 37/72: 4/RadialFiltration_25_12\n",
      "RGB images received. Transforming to grayscale.\n"
     ]
    },
    {
     "name": "stderr",
     "output_type": "stream",
     "text": [
      "rgb2gray: 100%|██████████| 9030/9030 [00:01<00:00, 5218.45it/s]\n"
     ]
    },
    {
     "name": "stdout",
     "output_type": "stream",
     "text": [
      "Got the result from ./1/train/filtrations/4/RadialFiltration_25_12/gray/features.npy\n",
      "Got the result from ./1/train/filtrations/4/RadialFiltration_25_12/red/features.npy\n",
      "Got the result from ./1/train/filtrations/4/RadialFiltration_25_12/green/features.npy\n",
      "Got the result from ./1/train/filtrations/4/RadialFiltration_25_12/blue/features.npy\n",
      "Applying filtration 38/72: 4/RadialFiltration_25_25\n",
      "RGB images received. Transforming to grayscale.\n"
     ]
    },
    {
     "name": "stderr",
     "output_type": "stream",
     "text": [
      "rgb2gray: 100%|██████████| 9030/9030 [00:01<00:00, 5170.02it/s]\n"
     ]
    },
    {
     "name": "stdout",
     "output_type": "stream",
     "text": [
      "Got the result from ./1/train/filtrations/4/RadialFiltration_25_25/gray/features.npy\n",
      "Got the result from ./1/train/filtrations/4/RadialFiltration_25_25/red/features.npy\n",
      "Got the result from ./1/train/filtrations/4/RadialFiltration_25_25/green/features.npy\n",
      "Got the result from ./1/train/filtrations/4/RadialFiltration_25_25/blue/features.npy\n",
      "Applying filtration 39/72: 4/RadialFiltration_25_38\n",
      "RGB images received. Transforming to grayscale.\n"
     ]
    },
    {
     "name": "stderr",
     "output_type": "stream",
     "text": [
      "rgb2gray: 100%|██████████| 9030/9030 [00:01<00:00, 5293.96it/s]\n"
     ]
    },
    {
     "name": "stdout",
     "output_type": "stream",
     "text": [
      "Got the result from ./1/train/filtrations/4/RadialFiltration_25_38/gray/features.npy\n",
      "Got the result from ./1/train/filtrations/4/RadialFiltration_25_38/red/features.npy\n",
      "Got the result from ./1/train/filtrations/4/RadialFiltration_25_38/green/features.npy\n",
      "Got the result from ./1/train/filtrations/4/RadialFiltration_25_38/blue/features.npy\n",
      "Applying filtration 40/72: 4/RadialFiltration_25_51\n",
      "RGB images received. Transforming to grayscale.\n"
     ]
    },
    {
     "name": "stderr",
     "output_type": "stream",
     "text": [
      "rgb2gray: 100%|██████████| 9030/9030 [00:01<00:00, 5069.47it/s]\n"
     ]
    },
    {
     "name": "stdout",
     "output_type": "stream",
     "text": [
      "Got the result from ./1/train/filtrations/4/RadialFiltration_25_51/gray/features.npy\n",
      "Got the result from ./1/train/filtrations/4/RadialFiltration_25_51/red/features.npy\n",
      "Got the result from ./1/train/filtrations/4/RadialFiltration_25_51/green/features.npy\n",
      "Got the result from ./1/train/filtrations/4/RadialFiltration_25_51/blue/features.npy\n",
      "Applying filtration 41/72: 4/RadialFiltration_38_12\n",
      "RGB images received. Transforming to grayscale.\n"
     ]
    },
    {
     "name": "stderr",
     "output_type": "stream",
     "text": [
      "rgb2gray: 100%|██████████| 9030/9030 [00:01<00:00, 5473.80it/s]\n"
     ]
    },
    {
     "name": "stdout",
     "output_type": "stream",
     "text": [
      "Got the result from ./1/train/filtrations/4/RadialFiltration_38_12/gray/features.npy\n",
      "Got the result from ./1/train/filtrations/4/RadialFiltration_38_12/red/features.npy\n",
      "Got the result from ./1/train/filtrations/4/RadialFiltration_38_12/green/features.npy\n",
      "Got the result from ./1/train/filtrations/4/RadialFiltration_38_12/blue/features.npy\n",
      "Applying filtration 42/72: 4/RadialFiltration_38_25\n",
      "RGB images received. Transforming to grayscale.\n"
     ]
    },
    {
     "name": "stderr",
     "output_type": "stream",
     "text": [
      "rgb2gray: 100%|██████████| 9030/9030 [00:01<00:00, 5467.01it/s]\n"
     ]
    },
    {
     "name": "stdout",
     "output_type": "stream",
     "text": [
      "Got the result from ./1/train/filtrations/4/RadialFiltration_38_25/gray/features.npy\n",
      "Got the result from ./1/train/filtrations/4/RadialFiltration_38_25/red/features.npy\n",
      "Got the result from ./1/train/filtrations/4/RadialFiltration_38_25/green/features.npy\n",
      "Got the result from ./1/train/filtrations/4/RadialFiltration_38_25/blue/features.npy\n",
      "Applying filtration 43/72: 4/RadialFiltration_38_38\n",
      "RGB images received. Transforming to grayscale.\n"
     ]
    },
    {
     "name": "stderr",
     "output_type": "stream",
     "text": [
      "rgb2gray: 100%|██████████| 9030/9030 [00:01<00:00, 5212.84it/s]\n"
     ]
    },
    {
     "name": "stdout",
     "output_type": "stream",
     "text": [
      "Got the result from ./1/train/filtrations/4/RadialFiltration_38_38/gray/features.npy\n",
      "Got the result from ./1/train/filtrations/4/RadialFiltration_38_38/red/features.npy\n",
      "Got the result from ./1/train/filtrations/4/RadialFiltration_38_38/green/features.npy\n",
      "Got the result from ./1/train/filtrations/4/RadialFiltration_38_38/blue/features.npy\n",
      "Applying filtration 44/72: 4/RadialFiltration_38_51\n",
      "RGB images received. Transforming to grayscale.\n"
     ]
    },
    {
     "name": "stderr",
     "output_type": "stream",
     "text": [
      "rgb2gray: 100%|██████████| 9030/9030 [00:01<00:00, 4991.85it/s]\n"
     ]
    },
    {
     "name": "stdout",
     "output_type": "stream",
     "text": [
      "Got the result from ./1/train/filtrations/4/RadialFiltration_38_51/gray/features.npy\n",
      "Got the result from ./1/train/filtrations/4/RadialFiltration_38_51/red/features.npy\n",
      "Got the result from ./1/train/filtrations/4/RadialFiltration_38_51/green/features.npy\n",
      "Got the result from ./1/train/filtrations/4/RadialFiltration_38_51/blue/features.npy\n",
      "Applying filtration 45/72: 4/RadialFiltration_51_12\n",
      "RGB images received. Transforming to grayscale.\n"
     ]
    },
    {
     "name": "stderr",
     "output_type": "stream",
     "text": [
      "rgb2gray: 100%|██████████| 9030/9030 [00:01<00:00, 4656.75it/s]\n"
     ]
    },
    {
     "name": "stdout",
     "output_type": "stream",
     "text": [
      "Got the result from ./1/train/filtrations/4/RadialFiltration_51_12/gray/features.npy\n",
      "Got the result from ./1/train/filtrations/4/RadialFiltration_51_12/red/features.npy\n",
      "Got the result from ./1/train/filtrations/4/RadialFiltration_51_12/green/features.npy\n",
      "Got the result from ./1/train/filtrations/4/RadialFiltration_51_12/blue/features.npy\n",
      "Applying filtration 46/72: 4/RadialFiltration_51_25\n",
      "RGB images received. Transforming to grayscale.\n"
     ]
    },
    {
     "name": "stderr",
     "output_type": "stream",
     "text": [
      "rgb2gray: 100%|██████████| 9030/9030 [00:01<00:00, 5109.63it/s]\n"
     ]
    },
    {
     "name": "stdout",
     "output_type": "stream",
     "text": [
      "Got the result from ./1/train/filtrations/4/RadialFiltration_51_25/gray/features.npy\n",
      "Got the result from ./1/train/filtrations/4/RadialFiltration_51_25/red/features.npy\n",
      "Got the result from ./1/train/filtrations/4/RadialFiltration_51_25/green/features.npy\n",
      "Got the result from ./1/train/filtrations/4/RadialFiltration_51_25/blue/features.npy\n",
      "Applying filtration 47/72: 4/RadialFiltration_51_38\n",
      "RGB images received. Transforming to grayscale.\n"
     ]
    },
    {
     "name": "stderr",
     "output_type": "stream",
     "text": [
      "rgb2gray: 100%|██████████| 9030/9030 [00:01<00:00, 5507.24it/s]\n"
     ]
    },
    {
     "name": "stdout",
     "output_type": "stream",
     "text": [
      "Got the result from ./1/train/filtrations/4/RadialFiltration_51_38/gray/features.npy\n",
      "Got the result from ./1/train/filtrations/4/RadialFiltration_51_38/red/features.npy\n",
      "Got the result from ./1/train/filtrations/4/RadialFiltration_51_38/green/features.npy\n",
      "Got the result from ./1/train/filtrations/4/RadialFiltration_51_38/blue/features.npy\n",
      "Applying filtration 48/72: 4/RadialFiltration_51_51\n",
      "RGB images received. Transforming to grayscale.\n"
     ]
    },
    {
     "name": "stderr",
     "output_type": "stream",
     "text": [
      "rgb2gray: 100%|██████████| 9030/9030 [00:01<00:00, 5552.75it/s]\n"
     ]
    },
    {
     "name": "stdout",
     "output_type": "stream",
     "text": [
      "Got the result from ./1/train/filtrations/4/RadialFiltration_51_51/gray/features.npy\n",
      "Got the result from ./1/train/filtrations/4/RadialFiltration_51_51/red/features.npy\n",
      "Got the result from ./1/train/filtrations/4/RadialFiltration_51_51/green/features.npy\n",
      "Got the result from ./1/train/filtrations/4/RadialFiltration_51_51/blue/features.npy\n",
      "Applying filtration 49/72: 6/HeightFiltrartion_-1_-1\n",
      "RGB images received. Transforming to grayscale.\n"
     ]
    },
    {
     "name": "stderr",
     "output_type": "stream",
     "text": [
      "rgb2gray: 100%|██████████| 9030/9030 [00:01<00:00, 5589.94it/s]\n"
     ]
    },
    {
     "name": "stdout",
     "output_type": "stream",
     "text": [
      "Got the result from ./1/train/filtrations/6/HeightFiltrartion_-1_-1/gray/features.npy\n",
      "Got the result from ./1/train/filtrations/6/HeightFiltrartion_-1_-1/red/features.npy\n",
      "Got the result from ./1/train/filtrations/6/HeightFiltrartion_-1_-1/green/features.npy\n",
      "Got the result from ./1/train/filtrations/6/HeightFiltrartion_-1_-1/blue/features.npy\n",
      "Applying filtration 50/72: 6/HeightFiltrartion_1_1\n",
      "RGB images received. Transforming to grayscale.\n"
     ]
    },
    {
     "name": "stderr",
     "output_type": "stream",
     "text": [
      "rgb2gray: 100%|██████████| 9030/9030 [00:01<00:00, 5718.33it/s]\n"
     ]
    },
    {
     "name": "stdout",
     "output_type": "stream",
     "text": [
      "Got the result from ./1/train/filtrations/6/HeightFiltrartion_1_1/gray/features.npy\n",
      "Got the result from ./1/train/filtrations/6/HeightFiltrartion_1_1/red/features.npy\n",
      "Got the result from ./1/train/filtrations/6/HeightFiltrartion_1_1/green/features.npy\n",
      "Got the result from ./1/train/filtrations/6/HeightFiltrartion_1_1/blue/features.npy\n",
      "Applying filtration 51/72: 6/HeightFiltrartion_1_-1\n",
      "RGB images received. Transforming to grayscale.\n"
     ]
    },
    {
     "name": "stderr",
     "output_type": "stream",
     "text": [
      "rgb2gray: 100%|██████████| 9030/9030 [00:01<00:00, 5331.49it/s]\n"
     ]
    },
    {
     "name": "stdout",
     "output_type": "stream",
     "text": [
      "Got the result from ./1/train/filtrations/6/HeightFiltrartion_1_-1/gray/features.npy\n",
      "Got the result from ./1/train/filtrations/6/HeightFiltrartion_1_-1/red/features.npy\n",
      "Got the result from ./1/train/filtrations/6/HeightFiltrartion_1_-1/green/features.npy\n",
      "Got the result from ./1/train/filtrations/6/HeightFiltrartion_1_-1/blue/features.npy\n",
      "Applying filtration 52/72: 6/HeightFiltrartion_-1_1\n",
      "RGB images received. Transforming to grayscale.\n"
     ]
    },
    {
     "name": "stderr",
     "output_type": "stream",
     "text": [
      "rgb2gray: 100%|██████████| 9030/9030 [00:01<00:00, 5861.02it/s]\n"
     ]
    },
    {
     "name": "stdout",
     "output_type": "stream",
     "text": [
      "Got the result from ./1/train/filtrations/6/HeightFiltrartion_-1_1/gray/features.npy\n",
      "Got the result from ./1/train/filtrations/6/HeightFiltrartion_-1_1/red/features.npy\n",
      "Got the result from ./1/train/filtrations/6/HeightFiltrartion_-1_1/green/features.npy\n",
      "Got the result from ./1/train/filtrations/6/HeightFiltrartion_-1_1/blue/features.npy\n",
      "Applying filtration 53/72: 6/HeightFiltrartion_0_-1\n",
      "RGB images received. Transforming to grayscale.\n"
     ]
    },
    {
     "name": "stderr",
     "output_type": "stream",
     "text": [
      "rgb2gray: 100%|██████████| 9030/9030 [00:01<00:00, 5512.83it/s]\n"
     ]
    },
    {
     "name": "stdout",
     "output_type": "stream",
     "text": [
      "Got the result from ./1/train/filtrations/6/HeightFiltrartion_0_-1/gray/features.npy\n",
      "Got the result from ./1/train/filtrations/6/HeightFiltrartion_0_-1/red/features.npy\n",
      "Got the result from ./1/train/filtrations/6/HeightFiltrartion_0_-1/green/features.npy\n",
      "Got the result from ./1/train/filtrations/6/HeightFiltrartion_0_-1/blue/features.npy\n",
      "Applying filtration 54/72: 6/HeightFiltrartion_0_1\n",
      "RGB images received. Transforming to grayscale.\n"
     ]
    },
    {
     "name": "stderr",
     "output_type": "stream",
     "text": [
      "rgb2gray: 100%|██████████| 9030/9030 [00:01<00:00, 5610.66it/s]\n"
     ]
    },
    {
     "name": "stdout",
     "output_type": "stream",
     "text": [
      "Got the result from ./1/train/filtrations/6/HeightFiltrartion_0_1/gray/features.npy\n",
      "Got the result from ./1/train/filtrations/6/HeightFiltrartion_0_1/red/features.npy\n",
      "Got the result from ./1/train/filtrations/6/HeightFiltrartion_0_1/green/features.npy\n",
      "Got the result from ./1/train/filtrations/6/HeightFiltrartion_0_1/blue/features.npy\n",
      "Applying filtration 55/72: 6/HeightFiltrartion_-1_0\n",
      "RGB images received. Transforming to grayscale.\n"
     ]
    },
    {
     "name": "stderr",
     "output_type": "stream",
     "text": [
      "rgb2gray: 100%|██████████| 9030/9030 [00:01<00:00, 5645.27it/s]\n"
     ]
    },
    {
     "name": "stdout",
     "output_type": "stream",
     "text": [
      "Got the result from ./1/train/filtrations/6/HeightFiltrartion_-1_0/gray/features.npy\n",
      "Got the result from ./1/train/filtrations/6/HeightFiltrartion_-1_0/red/features.npy\n",
      "Got the result from ./1/train/filtrations/6/HeightFiltrartion_-1_0/green/features.npy\n",
      "Got the result from ./1/train/filtrations/6/HeightFiltrartion_-1_0/blue/features.npy\n",
      "Applying filtration 56/72: 6/HeightFiltrartion_1_0\n",
      "RGB images received. Transforming to grayscale.\n"
     ]
    },
    {
     "name": "stderr",
     "output_type": "stream",
     "text": [
      "rgb2gray: 100%|██████████| 9030/9030 [00:01<00:00, 5317.59it/s]\n"
     ]
    },
    {
     "name": "stdout",
     "output_type": "stream",
     "text": [
      "Got the result from ./1/train/filtrations/6/HeightFiltrartion_1_0/gray/features.npy\n",
      "Got the result from ./1/train/filtrations/6/HeightFiltrartion_1_0/red/features.npy\n",
      "Got the result from ./1/train/filtrations/6/HeightFiltrartion_1_0/green/features.npy\n",
      "Got the result from ./1/train/filtrations/6/HeightFiltrartion_1_0/blue/features.npy\n",
      "Applying filtration 57/72: 6/RadialFiltration_12_12\n",
      "RGB images received. Transforming to grayscale.\n"
     ]
    },
    {
     "name": "stderr",
     "output_type": "stream",
     "text": [
      "rgb2gray: 100%|██████████| 9030/9030 [00:01<00:00, 5628.35it/s]\n"
     ]
    },
    {
     "name": "stdout",
     "output_type": "stream",
     "text": [
      "Got the result from ./1/train/filtrations/6/RadialFiltration_12_12/gray/features.npy\n",
      "Got the result from ./1/train/filtrations/6/RadialFiltration_12_12/red/features.npy\n",
      "Got the result from ./1/train/filtrations/6/RadialFiltration_12_12/green/features.npy\n",
      "Got the result from ./1/train/filtrations/6/RadialFiltration_12_12/blue/features.npy\n",
      "Applying filtration 58/72: 6/RadialFiltration_12_25\n",
      "RGB images received. Transforming to grayscale.\n"
     ]
    },
    {
     "name": "stderr",
     "output_type": "stream",
     "text": [
      "rgb2gray: 100%|██████████| 9030/9030 [00:01<00:00, 5542.06it/s]\n"
     ]
    },
    {
     "name": "stdout",
     "output_type": "stream",
     "text": [
      "Got the result from ./1/train/filtrations/6/RadialFiltration_12_25/gray/features.npy\n",
      "Got the result from ./1/train/filtrations/6/RadialFiltration_12_25/red/features.npy\n",
      "Got the result from ./1/train/filtrations/6/RadialFiltration_12_25/green/features.npy\n",
      "Got the result from ./1/train/filtrations/6/RadialFiltration_12_25/blue/features.npy\n",
      "Applying filtration 59/72: 6/RadialFiltration_12_38\n",
      "RGB images received. Transforming to grayscale.\n"
     ]
    },
    {
     "name": "stderr",
     "output_type": "stream",
     "text": [
      "rgb2gray: 100%|██████████| 9030/9030 [00:01<00:00, 5597.85it/s]\n"
     ]
    },
    {
     "name": "stdout",
     "output_type": "stream",
     "text": [
      "Got the result from ./1/train/filtrations/6/RadialFiltration_12_38/gray/features.npy\n",
      "Got the result from ./1/train/filtrations/6/RadialFiltration_12_38/red/features.npy\n",
      "Got the result from ./1/train/filtrations/6/RadialFiltration_12_38/green/features.npy\n",
      "Got the result from ./1/train/filtrations/6/RadialFiltration_12_38/blue/features.npy\n",
      "Applying filtration 60/72: 6/RadialFiltration_12_51\n",
      "RGB images received. Transforming to grayscale.\n"
     ]
    },
    {
     "name": "stderr",
     "output_type": "stream",
     "text": [
      "rgb2gray: 100%|██████████| 9030/9030 [00:01<00:00, 5678.33it/s]\n"
     ]
    },
    {
     "name": "stdout",
     "output_type": "stream",
     "text": [
      "Got the result from ./1/train/filtrations/6/RadialFiltration_12_51/gray/features.npy\n",
      "Got the result from ./1/train/filtrations/6/RadialFiltration_12_51/red/features.npy\n",
      "Got the result from ./1/train/filtrations/6/RadialFiltration_12_51/green/features.npy\n",
      "Got the result from ./1/train/filtrations/6/RadialFiltration_12_51/blue/features.npy\n",
      "Applying filtration 61/72: 6/RadialFiltration_25_12\n",
      "RGB images received. Transforming to grayscale.\n"
     ]
    },
    {
     "name": "stderr",
     "output_type": "stream",
     "text": [
      "rgb2gray: 100%|██████████| 9030/9030 [00:01<00:00, 5680.94it/s]\n"
     ]
    },
    {
     "name": "stdout",
     "output_type": "stream",
     "text": [
      "Got the result from ./1/train/filtrations/6/RadialFiltration_25_12/gray/features.npy\n",
      "Got the result from ./1/train/filtrations/6/RadialFiltration_25_12/red/features.npy\n",
      "Got the result from ./1/train/filtrations/6/RadialFiltration_25_12/green/features.npy\n",
      "Got the result from ./1/train/filtrations/6/RadialFiltration_25_12/blue/features.npy\n",
      "Applying filtration 62/72: 6/RadialFiltration_25_25\n",
      "RGB images received. Transforming to grayscale.\n"
     ]
    },
    {
     "name": "stderr",
     "output_type": "stream",
     "text": [
      "rgb2gray: 100%|██████████| 9030/9030 [00:01<00:00, 5482.56it/s]\n"
     ]
    },
    {
     "name": "stdout",
     "output_type": "stream",
     "text": [
      "Got the result from ./1/train/filtrations/6/RadialFiltration_25_25/gray/features.npy\n",
      "Got the result from ./1/train/filtrations/6/RadialFiltration_25_25/red/features.npy\n",
      "Got the result from ./1/train/filtrations/6/RadialFiltration_25_25/green/features.npy\n",
      "Got the result from ./1/train/filtrations/6/RadialFiltration_25_25/blue/features.npy\n",
      "Applying filtration 63/72: 6/RadialFiltration_25_38\n",
      "RGB images received. Transforming to grayscale.\n"
     ]
    },
    {
     "name": "stderr",
     "output_type": "stream",
     "text": [
      "rgb2gray: 100%|██████████| 9030/9030 [00:01<00:00, 5596.42it/s]\n"
     ]
    },
    {
     "name": "stdout",
     "output_type": "stream",
     "text": [
      "Got the result from ./1/train/filtrations/6/RadialFiltration_25_38/gray/features.npy\n",
      "Got the result from ./1/train/filtrations/6/RadialFiltration_25_38/red/features.npy\n",
      "Got the result from ./1/train/filtrations/6/RadialFiltration_25_38/green/features.npy\n",
      "Got the result from ./1/train/filtrations/6/RadialFiltration_25_38/blue/features.npy\n",
      "Applying filtration 64/72: 6/RadialFiltration_25_51\n",
      "RGB images received. Transforming to grayscale.\n"
     ]
    },
    {
     "name": "stderr",
     "output_type": "stream",
     "text": [
      "rgb2gray: 100%|██████████| 9030/9030 [00:01<00:00, 5711.15it/s]\n"
     ]
    },
    {
     "name": "stdout",
     "output_type": "stream",
     "text": [
      "Got the result from ./1/train/filtrations/6/RadialFiltration_25_51/gray/features.npy\n",
      "Got the result from ./1/train/filtrations/6/RadialFiltration_25_51/red/features.npy\n",
      "Got the result from ./1/train/filtrations/6/RadialFiltration_25_51/green/features.npy\n",
      "Got the result from ./1/train/filtrations/6/RadialFiltration_25_51/blue/features.npy\n",
      "Applying filtration 65/72: 6/RadialFiltration_38_12\n",
      "RGB images received. Transforming to grayscale.\n"
     ]
    },
    {
     "name": "stderr",
     "output_type": "stream",
     "text": [
      "rgb2gray: 100%|██████████| 9030/9030 [00:01<00:00, 5661.99it/s]\n"
     ]
    },
    {
     "name": "stdout",
     "output_type": "stream",
     "text": [
      "Got the result from ./1/train/filtrations/6/RadialFiltration_38_12/gray/features.npy\n",
      "Got the result from ./1/train/filtrations/6/RadialFiltration_38_12/red/features.npy\n",
      "Got the result from ./1/train/filtrations/6/RadialFiltration_38_12/green/features.npy\n",
      "Got the result from ./1/train/filtrations/6/RadialFiltration_38_12/blue/features.npy\n",
      "Applying filtration 66/72: 6/RadialFiltration_38_25\n",
      "RGB images received. Transforming to grayscale.\n"
     ]
    },
    {
     "name": "stderr",
     "output_type": "stream",
     "text": [
      "rgb2gray: 100%|██████████| 9030/9030 [00:01<00:00, 5710.16it/s]\n"
     ]
    },
    {
     "name": "stdout",
     "output_type": "stream",
     "text": [
      "Got the result from ./1/train/filtrations/6/RadialFiltration_38_25/gray/features.npy\n",
      "Got the result from ./1/train/filtrations/6/RadialFiltration_38_25/red/features.npy\n",
      "Got the result from ./1/train/filtrations/6/RadialFiltration_38_25/green/features.npy\n",
      "Got the result from ./1/train/filtrations/6/RadialFiltration_38_25/blue/features.npy\n",
      "Applying filtration 67/72: 6/RadialFiltration_38_38\n",
      "RGB images received. Transforming to grayscale.\n"
     ]
    },
    {
     "name": "stderr",
     "output_type": "stream",
     "text": [
      "rgb2gray: 100%|██████████| 9030/9030 [00:01<00:00, 5615.29it/s]\n"
     ]
    },
    {
     "name": "stdout",
     "output_type": "stream",
     "text": [
      "Got the result from ./1/train/filtrations/6/RadialFiltration_38_38/gray/features.npy\n",
      "Got the result from ./1/train/filtrations/6/RadialFiltration_38_38/red/features.npy\n",
      "Got the result from ./1/train/filtrations/6/RadialFiltration_38_38/green/features.npy\n",
      "Got the result from ./1/train/filtrations/6/RadialFiltration_38_38/blue/features.npy\n",
      "Applying filtration 68/72: 6/RadialFiltration_38_51\n",
      "RGB images received. Transforming to grayscale.\n"
     ]
    },
    {
     "name": "stderr",
     "output_type": "stream",
     "text": [
      "rgb2gray: 100%|██████████| 9030/9030 [00:01<00:00, 5262.80it/s]\n"
     ]
    },
    {
     "name": "stdout",
     "output_type": "stream",
     "text": [
      "Got the result from ./1/train/filtrations/6/RadialFiltration_38_51/gray/features.npy\n",
      "Got the result from ./1/train/filtrations/6/RadialFiltration_38_51/red/features.npy\n",
      "Got the result from ./1/train/filtrations/6/RadialFiltration_38_51/green/features.npy\n",
      "Got the result from ./1/train/filtrations/6/RadialFiltration_38_51/blue/features.npy\n",
      "Applying filtration 69/72: 6/RadialFiltration_51_12\n",
      "RGB images received. Transforming to grayscale.\n"
     ]
    },
    {
     "name": "stderr",
     "output_type": "stream",
     "text": [
      "rgb2gray: 100%|██████████| 9030/9030 [00:01<00:00, 5555.56it/s]\n"
     ]
    },
    {
     "name": "stdout",
     "output_type": "stream",
     "text": [
      "Got the result from ./1/train/filtrations/6/RadialFiltration_51_12/gray/features.npy\n",
      "Got the result from ./1/train/filtrations/6/RadialFiltration_51_12/red/features.npy\n",
      "Got the result from ./1/train/filtrations/6/RadialFiltration_51_12/green/features.npy\n",
      "Got the result from ./1/train/filtrations/6/RadialFiltration_51_12/blue/features.npy\n",
      "Applying filtration 70/72: 6/RadialFiltration_51_25\n",
      "RGB images received. Transforming to grayscale.\n"
     ]
    },
    {
     "name": "stderr",
     "output_type": "stream",
     "text": [
      "rgb2gray: 100%|██████████| 9030/9030 [00:01<00:00, 5542.08it/s]\n"
     ]
    },
    {
     "name": "stdout",
     "output_type": "stream",
     "text": [
      "Got the result from ./1/train/filtrations/6/RadialFiltration_51_25/gray/features.npy\n",
      "Got the result from ./1/train/filtrations/6/RadialFiltration_51_25/red/features.npy\n",
      "Got the result from ./1/train/filtrations/6/RadialFiltration_51_25/green/features.npy\n",
      "Got the result from ./1/train/filtrations/6/RadialFiltration_51_25/blue/features.npy\n",
      "Applying filtration 71/72: 6/RadialFiltration_51_38\n",
      "RGB images received. Transforming to grayscale.\n"
     ]
    },
    {
     "name": "stderr",
     "output_type": "stream",
     "text": [
      "rgb2gray: 100%|██████████| 9030/9030 [00:01<00:00, 5443.17it/s]\n"
     ]
    },
    {
     "name": "stdout",
     "output_type": "stream",
     "text": [
      "Got the result from ./1/train/filtrations/6/RadialFiltration_51_38/gray/features.npy\n",
      "Got the result from ./1/train/filtrations/6/RadialFiltration_51_38/red/features.npy\n",
      "Got the result from ./1/train/filtrations/6/RadialFiltration_51_38/green/features.npy\n",
      "Got the result from ./1/train/filtrations/6/RadialFiltration_51_38/blue/features.npy\n",
      "Applying filtration 72/72: 6/RadialFiltration_51_51\n",
      "RGB images received. Transforming to grayscale.\n"
     ]
    },
    {
     "name": "stderr",
     "output_type": "stream",
     "text": [
      "rgb2gray: 100%|██████████| 9030/9030 [00:01<00:00, 5679.81it/s]\n"
     ]
    },
    {
     "name": "stdout",
     "output_type": "stream",
     "text": [
      "Got the result from ./1/train/filtrations/6/RadialFiltration_51_51/gray/features.npy\n",
      "Got the result from ./1/train/filtrations/6/RadialFiltration_51_51/red/features.npy\n",
      "Got the result from ./1/train/filtrations/6/RadialFiltration_51_51/green/features.npy\n",
      "Got the result from ./1/train/filtrations/6/RadialFiltration_51_51/blue/features.npy\n",
      "RGB images received. Transforming to grayscale.\n",
      "Got the result from ./1/train/geometry/rgb/features.npy\n"
     ]
    },
    {
     "name": "stderr",
     "output_type": "stream",
     "text": [
      "rgb2gray: 100%|██████████| 9030/9030 [00:01<00:00, 5552.64it/s] \n"
     ]
    },
    {
     "name": "stdout",
     "output_type": "stream",
     "text": [
      "Got the result from ./1/train/geometry/gray/features.npy\n",
      "Got the result from ./1/train/geometry/red/features.npy\n",
      "Got the result from ./1/train/geometry/green/features.npy\n",
      "Got the result from ./1/train/geometry/blue/features.npy\n",
      "RGB images received. Transforming to grayscale.\n",
      "Got the result from ./1/train/geometry/rgb/features.npy\n"
     ]
    },
    {
     "name": "stderr",
     "output_type": "stream",
     "text": [
      "rgb2gray: 100%|██████████| 9030/9030 [00:01<00:00, 5636.49it/s]\n"
     ]
    },
    {
     "name": "stdout",
     "output_type": "stream",
     "text": [
      "Got the result from ./1/train/geometry/gray/features.npy\n",
      "Got the result from ./1/train/geometry/red/features.npy\n",
      "Got the result from ./1/train/geometry/green/features.npy\n",
      "Got the result from ./1/train/geometry/blue/features.npy\n",
      "Applying StandardScaler.\n",
      "Calculating inverted images\n",
      "RGB images received. Transforming to grayscale.\n"
     ]
    },
    {
     "name": "stderr",
     "output_type": "stream",
     "text": [
      "rgb2gray: 100%|██████████| 9030/9030 [00:01<00:00, 5620.25it/s]\n"
     ]
    },
    {
     "name": "stdout",
     "output_type": "stream",
     "text": [
      "Got the result from ./1/train/greyscale/gray/features.npy\n",
      "Got the result from ./1/train/greyscale/red/features.npy\n",
      "Got the result from ./1/train/greyscale/green/features.npy\n",
      "Got the result from ./1/train/greyscale/blue/features.npy\n",
      "RGB images received. Transforming to grayscale.\n"
     ]
    },
    {
     "name": "stderr",
     "output_type": "stream",
     "text": [
      "rgb2gray: 100%|██████████| 9030/9030 [00:01<00:00, 5718.63it/s]\n"
     ]
    },
    {
     "name": "stdout",
     "output_type": "stream",
     "text": [
      "Got the result from ./1/train/inverted_greyscale/gray/features.npy\n",
      "Got the result from ./1/train/inverted_greyscale/red/features.npy\n",
      "Got the result from ./1/train/inverted_greyscale/green/features.npy\n",
      "Got the result from ./1/train/inverted_greyscale/blue/features.npy\n",
      "Applying filtrations\n",
      "Applying filtration 1/72: 2/HeightFiltrartion_-1_-1\n",
      "RGB images received. Transforming to grayscale.\n"
     ]
    },
    {
     "name": "stderr",
     "output_type": "stream",
     "text": [
      "rgb2gray: 100%|██████████| 9030/9030 [00:01<00:00, 5713.07it/s]\n"
     ]
    },
    {
     "name": "stdout",
     "output_type": "stream",
     "text": [
      "Got the result from ./1/train/filtrations/2/HeightFiltrartion_-1_-1/gray/features.npy\n",
      "Got the result from ./1/train/filtrations/2/HeightFiltrartion_-1_-1/red/features.npy\n",
      "Got the result from ./1/train/filtrations/2/HeightFiltrartion_-1_-1/green/features.npy\n",
      "Got the result from ./1/train/filtrations/2/HeightFiltrartion_-1_-1/blue/features.npy\n",
      "Applying filtration 2/72: 2/HeightFiltrartion_1_1\n",
      "RGB images received. Transforming to grayscale.\n"
     ]
    },
    {
     "name": "stderr",
     "output_type": "stream",
     "text": [
      "rgb2gray: 100%|██████████| 9030/9030 [00:01<00:00, 5833.04it/s]\n"
     ]
    },
    {
     "name": "stdout",
     "output_type": "stream",
     "text": [
      "Got the result from ./1/train/filtrations/2/HeightFiltrartion_1_1/gray/features.npy\n",
      "Got the result from ./1/train/filtrations/2/HeightFiltrartion_1_1/red/features.npy\n",
      "Got the result from ./1/train/filtrations/2/HeightFiltrartion_1_1/green/features.npy\n",
      "Got the result from ./1/train/filtrations/2/HeightFiltrartion_1_1/blue/features.npy\n",
      "Applying filtration 3/72: 2/HeightFiltrartion_1_-1\n",
      "RGB images received. Transforming to grayscale.\n"
     ]
    },
    {
     "name": "stderr",
     "output_type": "stream",
     "text": [
      "rgb2gray: 100%|██████████| 9030/9030 [00:01<00:00, 5316.18it/s]\n"
     ]
    },
    {
     "name": "stdout",
     "output_type": "stream",
     "text": [
      "Got the result from ./1/train/filtrations/2/HeightFiltrartion_1_-1/gray/features.npy\n",
      "Got the result from ./1/train/filtrations/2/HeightFiltrartion_1_-1/red/features.npy\n",
      "Got the result from ./1/train/filtrations/2/HeightFiltrartion_1_-1/green/features.npy\n",
      "Got the result from ./1/train/filtrations/2/HeightFiltrartion_1_-1/blue/features.npy\n",
      "Applying filtration 4/72: 2/HeightFiltrartion_-1_1\n",
      "RGB images received. Transforming to grayscale.\n"
     ]
    },
    {
     "name": "stderr",
     "output_type": "stream",
     "text": [
      "rgb2gray: 100%|██████████| 9030/9030 [00:01<00:00, 5822.59it/s]\n"
     ]
    },
    {
     "name": "stdout",
     "output_type": "stream",
     "text": [
      "Got the result from ./1/train/filtrations/2/HeightFiltrartion_-1_1/gray/features.npy\n",
      "Got the result from ./1/train/filtrations/2/HeightFiltrartion_-1_1/red/features.npy\n",
      "Got the result from ./1/train/filtrations/2/HeightFiltrartion_-1_1/green/features.npy\n",
      "Got the result from ./1/train/filtrations/2/HeightFiltrartion_-1_1/blue/features.npy\n",
      "Applying filtration 5/72: 2/HeightFiltrartion_0_-1\n",
      "RGB images received. Transforming to grayscale.\n"
     ]
    },
    {
     "name": "stderr",
     "output_type": "stream",
     "text": [
      "rgb2gray: 100%|██████████| 9030/9030 [00:01<00:00, 5630.59it/s]\n"
     ]
    },
    {
     "name": "stdout",
     "output_type": "stream",
     "text": [
      "Got the result from ./1/train/filtrations/2/HeightFiltrartion_0_-1/gray/features.npy\n",
      "Got the result from ./1/train/filtrations/2/HeightFiltrartion_0_-1/red/features.npy\n",
      "Got the result from ./1/train/filtrations/2/HeightFiltrartion_0_-1/green/features.npy\n",
      "Got the result from ./1/train/filtrations/2/HeightFiltrartion_0_-1/blue/features.npy\n",
      "Applying filtration 6/72: 2/HeightFiltrartion_0_1\n",
      "RGB images received. Transforming to grayscale.\n"
     ]
    },
    {
     "name": "stderr",
     "output_type": "stream",
     "text": [
      "rgb2gray: 100%|██████████| 9030/9030 [00:01<00:00, 5822.71it/s]\n"
     ]
    },
    {
     "name": "stdout",
     "output_type": "stream",
     "text": [
      "Got the result from ./1/train/filtrations/2/HeightFiltrartion_0_1/gray/features.npy\n",
      "Got the result from ./1/train/filtrations/2/HeightFiltrartion_0_1/red/features.npy\n",
      "Got the result from ./1/train/filtrations/2/HeightFiltrartion_0_1/green/features.npy\n",
      "Got the result from ./1/train/filtrations/2/HeightFiltrartion_0_1/blue/features.npy\n",
      "Applying filtration 7/72: 2/HeightFiltrartion_-1_0\n",
      "RGB images received. Transforming to grayscale.\n"
     ]
    },
    {
     "name": "stderr",
     "output_type": "stream",
     "text": [
      "rgb2gray: 100%|██████████| 9030/9030 [00:01<00:00, 5800.52it/s]\n"
     ]
    },
    {
     "name": "stdout",
     "output_type": "stream",
     "text": [
      "Got the result from ./1/train/filtrations/2/HeightFiltrartion_-1_0/gray/features.npy\n",
      "Got the result from ./1/train/filtrations/2/HeightFiltrartion_-1_0/red/features.npy\n",
      "Got the result from ./1/train/filtrations/2/HeightFiltrartion_-1_0/green/features.npy\n",
      "Got the result from ./1/train/filtrations/2/HeightFiltrartion_-1_0/blue/features.npy\n",
      "Applying filtration 8/72: 2/HeightFiltrartion_1_0\n",
      "RGB images received. Transforming to grayscale.\n"
     ]
    },
    {
     "name": "stderr",
     "output_type": "stream",
     "text": [
      "rgb2gray: 100%|██████████| 9030/9030 [00:01<00:00, 5497.44it/s]\n"
     ]
    },
    {
     "name": "stdout",
     "output_type": "stream",
     "text": [
      "Got the result from ./1/train/filtrations/2/HeightFiltrartion_1_0/gray/features.npy\n",
      "Got the result from ./1/train/filtrations/2/HeightFiltrartion_1_0/red/features.npy\n",
      "Got the result from ./1/train/filtrations/2/HeightFiltrartion_1_0/green/features.npy\n",
      "Got the result from ./1/train/filtrations/2/HeightFiltrartion_1_0/blue/features.npy\n",
      "Applying filtration 9/72: 2/RadialFiltration_12_12\n",
      "RGB images received. Transforming to grayscale.\n"
     ]
    },
    {
     "name": "stderr",
     "output_type": "stream",
     "text": [
      "rgb2gray: 100%|██████████| 9030/9030 [00:01<00:00, 5812.26it/s]\n"
     ]
    },
    {
     "name": "stdout",
     "output_type": "stream",
     "text": [
      "Got the result from ./1/train/filtrations/2/RadialFiltration_12_12/gray/features.npy\n",
      "Got the result from ./1/train/filtrations/2/RadialFiltration_12_12/red/features.npy\n",
      "Got the result from ./1/train/filtrations/2/RadialFiltration_12_12/green/features.npy\n",
      "Got the result from ./1/train/filtrations/2/RadialFiltration_12_12/blue/features.npy\n",
      "Applying filtration 10/72: 2/RadialFiltration_12_25\n",
      "RGB images received. Transforming to grayscale.\n"
     ]
    },
    {
     "name": "stderr",
     "output_type": "stream",
     "text": [
      "rgb2gray: 100%|██████████| 9030/9030 [00:01<00:00, 5731.73it/s]\n"
     ]
    },
    {
     "name": "stdout",
     "output_type": "stream",
     "text": [
      "Got the result from ./1/train/filtrations/2/RadialFiltration_12_25/gray/features.npy\n",
      "Got the result from ./1/train/filtrations/2/RadialFiltration_12_25/red/features.npy\n",
      "Got the result from ./1/train/filtrations/2/RadialFiltration_12_25/green/features.npy\n",
      "Got the result from ./1/train/filtrations/2/RadialFiltration_12_25/blue/features.npy\n",
      "Applying filtration 11/72: 2/RadialFiltration_12_38\n",
      "RGB images received. Transforming to grayscale.\n"
     ]
    },
    {
     "name": "stderr",
     "output_type": "stream",
     "text": [
      "rgb2gray: 100%|██████████| 9030/9030 [00:01<00:00, 5592.68it/s]\n"
     ]
    },
    {
     "name": "stdout",
     "output_type": "stream",
     "text": [
      "Got the result from ./1/train/filtrations/2/RadialFiltration_12_38/gray/features.npy\n",
      "Got the result from ./1/train/filtrations/2/RadialFiltration_12_38/red/features.npy\n",
      "Got the result from ./1/train/filtrations/2/RadialFiltration_12_38/green/features.npy\n",
      "Got the result from ./1/train/filtrations/2/RadialFiltration_12_38/blue/features.npy\n",
      "Applying filtration 12/72: 2/RadialFiltration_12_51\n",
      "RGB images received. Transforming to grayscale.\n"
     ]
    },
    {
     "name": "stderr",
     "output_type": "stream",
     "text": [
      "rgb2gray: 100%|██████████| 9030/9030 [00:01<00:00, 5664.26it/s]\n"
     ]
    },
    {
     "name": "stdout",
     "output_type": "stream",
     "text": [
      "Got the result from ./1/train/filtrations/2/RadialFiltration_12_51/gray/features.npy\n",
      "Got the result from ./1/train/filtrations/2/RadialFiltration_12_51/red/features.npy\n",
      "Got the result from ./1/train/filtrations/2/RadialFiltration_12_51/green/features.npy\n",
      "Got the result from ./1/train/filtrations/2/RadialFiltration_12_51/blue/features.npy\n",
      "Applying filtration 13/72: 2/RadialFiltration_25_12\n",
      "RGB images received. Transforming to grayscale.\n"
     ]
    },
    {
     "name": "stderr",
     "output_type": "stream",
     "text": [
      "rgb2gray: 100%|██████████| 9030/9030 [00:01<00:00, 5789.73it/s]\n"
     ]
    },
    {
     "name": "stdout",
     "output_type": "stream",
     "text": [
      "Got the result from ./1/train/filtrations/2/RadialFiltration_25_12/gray/features.npy\n",
      "Got the result from ./1/train/filtrations/2/RadialFiltration_25_12/red/features.npy\n",
      "Got the result from ./1/train/filtrations/2/RadialFiltration_25_12/green/features.npy\n",
      "Got the result from ./1/train/filtrations/2/RadialFiltration_25_12/blue/features.npy\n",
      "Applying filtration 14/72: 2/RadialFiltration_25_25\n",
      "RGB images received. Transforming to grayscale.\n"
     ]
    },
    {
     "name": "stderr",
     "output_type": "stream",
     "text": [
      "rgb2gray: 100%|██████████| 9030/9030 [00:01<00:00, 5055.31it/s]\n"
     ]
    },
    {
     "name": "stdout",
     "output_type": "stream",
     "text": [
      "Got the result from ./1/train/filtrations/2/RadialFiltration_25_25/gray/features.npy\n",
      "Got the result from ./1/train/filtrations/2/RadialFiltration_25_25/red/features.npy\n",
      "Got the result from ./1/train/filtrations/2/RadialFiltration_25_25/green/features.npy\n",
      "Got the result from ./1/train/filtrations/2/RadialFiltration_25_25/blue/features.npy\n",
      "Applying filtration 15/72: 2/RadialFiltration_25_38\n",
      "RGB images received. Transforming to grayscale.\n"
     ]
    },
    {
     "name": "stderr",
     "output_type": "stream",
     "text": [
      "rgb2gray: 100%|██████████| 9030/9030 [00:01<00:00, 5609.09it/s]\n"
     ]
    },
    {
     "name": "stdout",
     "output_type": "stream",
     "text": [
      "Got the result from ./1/train/filtrations/2/RadialFiltration_25_38/gray/features.npy\n",
      "Got the result from ./1/train/filtrations/2/RadialFiltration_25_38/red/features.npy\n",
      "Got the result from ./1/train/filtrations/2/RadialFiltration_25_38/green/features.npy\n",
      "Got the result from ./1/train/filtrations/2/RadialFiltration_25_38/blue/features.npy\n",
      "Applying filtration 16/72: 2/RadialFiltration_25_51\n",
      "RGB images received. Transforming to grayscale.\n"
     ]
    },
    {
     "name": "stderr",
     "output_type": "stream",
     "text": [
      "rgb2gray: 100%|██████████| 9030/9030 [00:01<00:00, 5440.98it/s]\n"
     ]
    },
    {
     "name": "stdout",
     "output_type": "stream",
     "text": [
      "Got the result from ./1/train/filtrations/2/RadialFiltration_25_51/gray/features.npy\n",
      "Got the result from ./1/train/filtrations/2/RadialFiltration_25_51/red/features.npy\n",
      "Got the result from ./1/train/filtrations/2/RadialFiltration_25_51/green/features.npy\n",
      "Got the result from ./1/train/filtrations/2/RadialFiltration_25_51/blue/features.npy\n",
      "Applying filtration 17/72: 2/RadialFiltration_38_12\n",
      "RGB images received. Transforming to grayscale.\n"
     ]
    },
    {
     "name": "stderr",
     "output_type": "stream",
     "text": [
      "rgb2gray: 100%|██████████| 9030/9030 [00:01<00:00, 5526.54it/s]\n"
     ]
    },
    {
     "name": "stdout",
     "output_type": "stream",
     "text": [
      "Got the result from ./1/train/filtrations/2/RadialFiltration_38_12/gray/features.npy\n",
      "Got the result from ./1/train/filtrations/2/RadialFiltration_38_12/red/features.npy\n",
      "Got the result from ./1/train/filtrations/2/RadialFiltration_38_12/green/features.npy\n",
      "Got the result from ./1/train/filtrations/2/RadialFiltration_38_12/blue/features.npy\n",
      "Applying filtration 18/72: 2/RadialFiltration_38_25\n",
      "RGB images received. Transforming to grayscale.\n"
     ]
    },
    {
     "name": "stderr",
     "output_type": "stream",
     "text": [
      "rgb2gray: 100%|██████████| 9030/9030 [00:01<00:00, 5633.87it/s]\n"
     ]
    },
    {
     "name": "stdout",
     "output_type": "stream",
     "text": [
      "Got the result from ./1/train/filtrations/2/RadialFiltration_38_25/gray/features.npy\n",
      "Got the result from ./1/train/filtrations/2/RadialFiltration_38_25/red/features.npy\n",
      "Got the result from ./1/train/filtrations/2/RadialFiltration_38_25/green/features.npy\n",
      "Got the result from ./1/train/filtrations/2/RadialFiltration_38_25/blue/features.npy\n",
      "Applying filtration 19/72: 2/RadialFiltration_38_38\n",
      "RGB images received. Transforming to grayscale.\n"
     ]
    },
    {
     "name": "stderr",
     "output_type": "stream",
     "text": [
      "rgb2gray: 100%|██████████| 9030/9030 [00:01<00:00, 5567.20it/s]\n"
     ]
    },
    {
     "name": "stdout",
     "output_type": "stream",
     "text": [
      "Got the result from ./1/train/filtrations/2/RadialFiltration_38_38/gray/features.npy\n",
      "Got the result from ./1/train/filtrations/2/RadialFiltration_38_38/red/features.npy\n",
      "Got the result from ./1/train/filtrations/2/RadialFiltration_38_38/green/features.npy\n",
      "Got the result from ./1/train/filtrations/2/RadialFiltration_38_38/blue/features.npy\n",
      "Applying filtration 20/72: 2/RadialFiltration_38_51\n",
      "RGB images received. Transforming to grayscale.\n"
     ]
    },
    {
     "name": "stderr",
     "output_type": "stream",
     "text": [
      "rgb2gray: 100%|██████████| 9030/9030 [00:01<00:00, 5185.59it/s]\n"
     ]
    },
    {
     "name": "stdout",
     "output_type": "stream",
     "text": [
      "Got the result from ./1/train/filtrations/2/RadialFiltration_38_51/gray/features.npy\n",
      "Got the result from ./1/train/filtrations/2/RadialFiltration_38_51/red/features.npy\n",
      "Got the result from ./1/train/filtrations/2/RadialFiltration_38_51/green/features.npy\n",
      "Got the result from ./1/train/filtrations/2/RadialFiltration_38_51/blue/features.npy\n",
      "Applying filtration 21/72: 2/RadialFiltration_51_12\n",
      "RGB images received. Transforming to grayscale.\n"
     ]
    },
    {
     "name": "stderr",
     "output_type": "stream",
     "text": [
      "rgb2gray: 100%|██████████| 9030/9030 [00:01<00:00, 5254.52it/s]\n"
     ]
    },
    {
     "name": "stdout",
     "output_type": "stream",
     "text": [
      "Got the result from ./1/train/filtrations/2/RadialFiltration_51_12/gray/features.npy\n",
      "Got the result from ./1/train/filtrations/2/RadialFiltration_51_12/red/features.npy\n",
      "Got the result from ./1/train/filtrations/2/RadialFiltration_51_12/green/features.npy\n",
      "Got the result from ./1/train/filtrations/2/RadialFiltration_51_12/blue/features.npy\n",
      "Applying filtration 22/72: 2/RadialFiltration_51_25\n",
      "RGB images received. Transforming to grayscale.\n"
     ]
    },
    {
     "name": "stderr",
     "output_type": "stream",
     "text": [
      "rgb2gray: 100%|██████████| 9030/9030 [00:01<00:00, 5619.14it/s]\n"
     ]
    },
    {
     "name": "stdout",
     "output_type": "stream",
     "text": [
      "Got the result from ./1/train/filtrations/2/RadialFiltration_51_25/gray/features.npy\n",
      "Got the result from ./1/train/filtrations/2/RadialFiltration_51_25/red/features.npy\n",
      "Got the result from ./1/train/filtrations/2/RadialFiltration_51_25/green/features.npy\n",
      "Got the result from ./1/train/filtrations/2/RadialFiltration_51_25/blue/features.npy\n",
      "Applying filtration 23/72: 2/RadialFiltration_51_38\n",
      "RGB images received. Transforming to grayscale.\n"
     ]
    },
    {
     "name": "stderr",
     "output_type": "stream",
     "text": [
      "rgb2gray: 100%|██████████| 9030/9030 [00:01<00:00, 5314.78it/s]\n"
     ]
    },
    {
     "name": "stdout",
     "output_type": "stream",
     "text": [
      "Got the result from ./1/train/filtrations/2/RadialFiltration_51_38/gray/features.npy\n",
      "Got the result from ./1/train/filtrations/2/RadialFiltration_51_38/red/features.npy\n",
      "Got the result from ./1/train/filtrations/2/RadialFiltration_51_38/green/features.npy\n",
      "Got the result from ./1/train/filtrations/2/RadialFiltration_51_38/blue/features.npy\n",
      "Applying filtration 24/72: 2/RadialFiltration_51_51\n",
      "RGB images received. Transforming to grayscale.\n"
     ]
    },
    {
     "name": "stderr",
     "output_type": "stream",
     "text": [
      "rgb2gray: 100%|██████████| 9030/9030 [00:01<00:00, 5553.64it/s]\n"
     ]
    },
    {
     "name": "stdout",
     "output_type": "stream",
     "text": [
      "Got the result from ./1/train/filtrations/2/RadialFiltration_51_51/gray/features.npy\n",
      "Got the result from ./1/train/filtrations/2/RadialFiltration_51_51/red/features.npy\n",
      "Got the result from ./1/train/filtrations/2/RadialFiltration_51_51/green/features.npy\n",
      "Got the result from ./1/train/filtrations/2/RadialFiltration_51_51/blue/features.npy\n",
      "Applying filtration 25/72: 4/HeightFiltrartion_-1_-1\n",
      "RGB images received. Transforming to grayscale.\n"
     ]
    },
    {
     "name": "stderr",
     "output_type": "stream",
     "text": [
      "rgb2gray: 100%|██████████| 9030/9030 [00:01<00:00, 5650.34it/s]\n"
     ]
    },
    {
     "name": "stdout",
     "output_type": "stream",
     "text": [
      "Got the result from ./1/train/filtrations/4/HeightFiltrartion_-1_-1/gray/features.npy\n",
      "Got the result from ./1/train/filtrations/4/HeightFiltrartion_-1_-1/red/features.npy\n",
      "Got the result from ./1/train/filtrations/4/HeightFiltrartion_-1_-1/green/features.npy\n",
      "Got the result from ./1/train/filtrations/4/HeightFiltrartion_-1_-1/blue/features.npy\n",
      "Applying filtration 26/72: 4/HeightFiltrartion_1_1\n",
      "RGB images received. Transforming to grayscale.\n"
     ]
    },
    {
     "name": "stderr",
     "output_type": "stream",
     "text": [
      "rgb2gray: 100%|██████████| 9030/9030 [00:01<00:00, 5641.94it/s]\n"
     ]
    },
    {
     "name": "stdout",
     "output_type": "stream",
     "text": [
      "Got the result from ./1/train/filtrations/4/HeightFiltrartion_1_1/gray/features.npy\n",
      "Got the result from ./1/train/filtrations/4/HeightFiltrartion_1_1/red/features.npy\n",
      "Got the result from ./1/train/filtrations/4/HeightFiltrartion_1_1/green/features.npy\n",
      "Got the result from ./1/train/filtrations/4/HeightFiltrartion_1_1/blue/features.npy\n",
      "Applying filtration 27/72: 4/HeightFiltrartion_1_-1\n",
      "RGB images received. Transforming to grayscale.\n"
     ]
    },
    {
     "name": "stderr",
     "output_type": "stream",
     "text": [
      "rgb2gray: 100%|██████████| 9030/9030 [00:01<00:00, 5264.41it/s]\n"
     ]
    },
    {
     "name": "stdout",
     "output_type": "stream",
     "text": [
      "Got the result from ./1/train/filtrations/4/HeightFiltrartion_1_-1/gray/features.npy\n",
      "Got the result from ./1/train/filtrations/4/HeightFiltrartion_1_-1/red/features.npy\n",
      "Got the result from ./1/train/filtrations/4/HeightFiltrartion_1_-1/green/features.npy\n",
      "Got the result from ./1/train/filtrations/4/HeightFiltrartion_1_-1/blue/features.npy\n",
      "Applying filtration 28/72: 4/HeightFiltrartion_-1_1\n",
      "RGB images received. Transforming to grayscale.\n"
     ]
    },
    {
     "name": "stderr",
     "output_type": "stream",
     "text": [
      "rgb2gray: 100%|██████████| 9030/9030 [00:01<00:00, 5268.38it/s]\n"
     ]
    },
    {
     "name": "stdout",
     "output_type": "stream",
     "text": [
      "Got the result from ./1/train/filtrations/4/HeightFiltrartion_-1_1/gray/features.npy\n",
      "Got the result from ./1/train/filtrations/4/HeightFiltrartion_-1_1/red/features.npy\n",
      "Got the result from ./1/train/filtrations/4/HeightFiltrartion_-1_1/green/features.npy\n",
      "Got the result from ./1/train/filtrations/4/HeightFiltrartion_-1_1/blue/features.npy\n",
      "Applying filtration 29/72: 4/HeightFiltrartion_0_-1\n",
      "RGB images received. Transforming to grayscale.\n"
     ]
    },
    {
     "name": "stderr",
     "output_type": "stream",
     "text": [
      "rgb2gray: 100%|██████████| 9030/9030 [00:01<00:00, 5606.63it/s]\n"
     ]
    },
    {
     "name": "stdout",
     "output_type": "stream",
     "text": [
      "Got the result from ./1/train/filtrations/4/HeightFiltrartion_0_-1/gray/features.npy\n",
      "Got the result from ./1/train/filtrations/4/HeightFiltrartion_0_-1/red/features.npy\n",
      "Got the result from ./1/train/filtrations/4/HeightFiltrartion_0_-1/green/features.npy\n",
      "Got the result from ./1/train/filtrations/4/HeightFiltrartion_0_-1/blue/features.npy\n",
      "Applying filtration 30/72: 4/HeightFiltrartion_0_1\n",
      "RGB images received. Transforming to grayscale.\n"
     ]
    },
    {
     "name": "stderr",
     "output_type": "stream",
     "text": [
      "rgb2gray: 100%|██████████| 9030/9030 [00:01<00:00, 5167.04it/s]\n"
     ]
    },
    {
     "name": "stdout",
     "output_type": "stream",
     "text": [
      "Got the result from ./1/train/filtrations/4/HeightFiltrartion_0_1/gray/features.npy\n",
      "Got the result from ./1/train/filtrations/4/HeightFiltrartion_0_1/red/features.npy\n",
      "Got the result from ./1/train/filtrations/4/HeightFiltrartion_0_1/green/features.npy\n",
      "Got the result from ./1/train/filtrations/4/HeightFiltrartion_0_1/blue/features.npy\n",
      "Applying filtration 31/72: 4/HeightFiltrartion_-1_0\n",
      "RGB images received. Transforming to grayscale.\n"
     ]
    },
    {
     "name": "stderr",
     "output_type": "stream",
     "text": [
      "rgb2gray: 100%|██████████| 9030/9030 [00:01<00:00, 5526.31it/s]\n"
     ]
    },
    {
     "name": "stdout",
     "output_type": "stream",
     "text": [
      "Got the result from ./1/train/filtrations/4/HeightFiltrartion_-1_0/gray/features.npy\n",
      "Got the result from ./1/train/filtrations/4/HeightFiltrartion_-1_0/red/features.npy\n",
      "Got the result from ./1/train/filtrations/4/HeightFiltrartion_-1_0/green/features.npy\n",
      "Got the result from ./1/train/filtrations/4/HeightFiltrartion_-1_0/blue/features.npy\n",
      "Applying filtration 32/72: 4/HeightFiltrartion_1_0\n",
      "RGB images received. Transforming to grayscale.\n"
     ]
    },
    {
     "name": "stderr",
     "output_type": "stream",
     "text": [
      "rgb2gray: 100%|██████████| 9030/9030 [00:01<00:00, 5459.46it/s]\n"
     ]
    },
    {
     "name": "stdout",
     "output_type": "stream",
     "text": [
      "Got the result from ./1/train/filtrations/4/HeightFiltrartion_1_0/gray/features.npy\n",
      "Got the result from ./1/train/filtrations/4/HeightFiltrartion_1_0/red/features.npy\n",
      "Got the result from ./1/train/filtrations/4/HeightFiltrartion_1_0/green/features.npy\n",
      "Got the result from ./1/train/filtrations/4/HeightFiltrartion_1_0/blue/features.npy\n",
      "Applying filtration 33/72: 4/RadialFiltration_12_12\n",
      "RGB images received. Transforming to grayscale.\n"
     ]
    },
    {
     "name": "stderr",
     "output_type": "stream",
     "text": [
      "rgb2gray: 100%|██████████| 9030/9030 [00:01<00:00, 5486.02it/s]\n"
     ]
    },
    {
     "name": "stdout",
     "output_type": "stream",
     "text": [
      "Got the result from ./1/train/filtrations/4/RadialFiltration_12_12/gray/features.npy\n",
      "Got the result from ./1/train/filtrations/4/RadialFiltration_12_12/red/features.npy\n",
      "Got the result from ./1/train/filtrations/4/RadialFiltration_12_12/green/features.npy\n",
      "Got the result from ./1/train/filtrations/4/RadialFiltration_12_12/blue/features.npy\n",
      "Applying filtration 34/72: 4/RadialFiltration_12_25\n",
      "RGB images received. Transforming to grayscale.\n"
     ]
    },
    {
     "name": "stderr",
     "output_type": "stream",
     "text": [
      "rgb2gray: 100%|██████████| 9030/9030 [00:01<00:00, 5408.45it/s]\n"
     ]
    },
    {
     "name": "stdout",
     "output_type": "stream",
     "text": [
      "Got the result from ./1/train/filtrations/4/RadialFiltration_12_25/gray/features.npy\n",
      "Got the result from ./1/train/filtrations/4/RadialFiltration_12_25/red/features.npy\n",
      "Got the result from ./1/train/filtrations/4/RadialFiltration_12_25/green/features.npy\n",
      "Got the result from ./1/train/filtrations/4/RadialFiltration_12_25/blue/features.npy\n",
      "Applying filtration 35/72: 4/RadialFiltration_12_38\n",
      "RGB images received. Transforming to grayscale.\n"
     ]
    },
    {
     "name": "stderr",
     "output_type": "stream",
     "text": [
      "rgb2gray: 100%|██████████| 9030/9030 [00:01<00:00, 5266.60it/s]\n"
     ]
    },
    {
     "name": "stdout",
     "output_type": "stream",
     "text": [
      "Got the result from ./1/train/filtrations/4/RadialFiltration_12_38/gray/features.npy\n",
      "Got the result from ./1/train/filtrations/4/RadialFiltration_12_38/red/features.npy\n",
      "Got the result from ./1/train/filtrations/4/RadialFiltration_12_38/green/features.npy\n",
      "Got the result from ./1/train/filtrations/4/RadialFiltration_12_38/blue/features.npy\n",
      "Applying filtration 36/72: 4/RadialFiltration_12_51\n",
      "RGB images received. Transforming to grayscale.\n"
     ]
    },
    {
     "name": "stderr",
     "output_type": "stream",
     "text": [
      "rgb2gray: 100%|██████████| 9030/9030 [00:01<00:00, 5044.17it/s]\n"
     ]
    },
    {
     "name": "stdout",
     "output_type": "stream",
     "text": [
      "Got the result from ./1/train/filtrations/4/RadialFiltration_12_51/gray/features.npy\n",
      "Got the result from ./1/train/filtrations/4/RadialFiltration_12_51/red/features.npy\n",
      "Got the result from ./1/train/filtrations/4/RadialFiltration_12_51/green/features.npy\n",
      "Got the result from ./1/train/filtrations/4/RadialFiltration_12_51/blue/features.npy\n",
      "Applying filtration 37/72: 4/RadialFiltration_25_12\n",
      "RGB images received. Transforming to grayscale.\n"
     ]
    },
    {
     "name": "stderr",
     "output_type": "stream",
     "text": [
      "rgb2gray: 100%|██████████| 9030/9030 [00:01<00:00, 4955.14it/s]\n"
     ]
    },
    {
     "name": "stdout",
     "output_type": "stream",
     "text": [
      "Got the result from ./1/train/filtrations/4/RadialFiltration_25_12/gray/features.npy\n",
      "Got the result from ./1/train/filtrations/4/RadialFiltration_25_12/red/features.npy\n",
      "Got the result from ./1/train/filtrations/4/RadialFiltration_25_12/green/features.npy\n",
      "Got the result from ./1/train/filtrations/4/RadialFiltration_25_12/blue/features.npy\n",
      "Applying filtration 38/72: 4/RadialFiltration_25_25\n",
      "RGB images received. Transforming to grayscale.\n"
     ]
    },
    {
     "name": "stderr",
     "output_type": "stream",
     "text": [
      "rgb2gray: 100%|██████████| 9030/9030 [00:01<00:00, 5303.60it/s]\n"
     ]
    },
    {
     "name": "stdout",
     "output_type": "stream",
     "text": [
      "Got the result from ./1/train/filtrations/4/RadialFiltration_25_25/gray/features.npy\n",
      "Got the result from ./1/train/filtrations/4/RadialFiltration_25_25/red/features.npy\n",
      "Got the result from ./1/train/filtrations/4/RadialFiltration_25_25/green/features.npy\n",
      "Got the result from ./1/train/filtrations/4/RadialFiltration_25_25/blue/features.npy\n",
      "Applying filtration 39/72: 4/RadialFiltration_25_38\n",
      "RGB images received. Transforming to grayscale.\n"
     ]
    },
    {
     "name": "stderr",
     "output_type": "stream",
     "text": [
      "rgb2gray: 100%|██████████| 9030/9030 [00:01<00:00, 5418.16it/s]\n"
     ]
    },
    {
     "name": "stdout",
     "output_type": "stream",
     "text": [
      "Got the result from ./1/train/filtrations/4/RadialFiltration_25_38/gray/features.npy\n",
      "Got the result from ./1/train/filtrations/4/RadialFiltration_25_38/red/features.npy\n",
      "Got the result from ./1/train/filtrations/4/RadialFiltration_25_38/green/features.npy\n",
      "Got the result from ./1/train/filtrations/4/RadialFiltration_25_38/blue/features.npy\n",
      "Applying filtration 40/72: 4/RadialFiltration_25_51\n",
      "RGB images received. Transforming to grayscale.\n"
     ]
    },
    {
     "name": "stderr",
     "output_type": "stream",
     "text": [
      "rgb2gray: 100%|██████████| 9030/9030 [00:01<00:00, 5527.70it/s]\n"
     ]
    },
    {
     "name": "stdout",
     "output_type": "stream",
     "text": [
      "Got the result from ./1/train/filtrations/4/RadialFiltration_25_51/gray/features.npy\n",
      "Got the result from ./1/train/filtrations/4/RadialFiltration_25_51/red/features.npy\n",
      "Got the result from ./1/train/filtrations/4/RadialFiltration_25_51/green/features.npy\n",
      "Got the result from ./1/train/filtrations/4/RadialFiltration_25_51/blue/features.npy\n",
      "Applying filtration 41/72: 4/RadialFiltration_38_12\n",
      "RGB images received. Transforming to grayscale.\n"
     ]
    },
    {
     "name": "stderr",
     "output_type": "stream",
     "text": [
      "rgb2gray: 100%|██████████| 9030/9030 [00:01<00:00, 5454.27it/s]\n"
     ]
    },
    {
     "name": "stdout",
     "output_type": "stream",
     "text": [
      "Got the result from ./1/train/filtrations/4/RadialFiltration_38_12/gray/features.npy\n",
      "Got the result from ./1/train/filtrations/4/RadialFiltration_38_12/red/features.npy\n",
      "Got the result from ./1/train/filtrations/4/RadialFiltration_38_12/green/features.npy\n",
      "Got the result from ./1/train/filtrations/4/RadialFiltration_38_12/blue/features.npy\n",
      "Applying filtration 42/72: 4/RadialFiltration_38_25\n",
      "RGB images received. Transforming to grayscale.\n"
     ]
    },
    {
     "name": "stderr",
     "output_type": "stream",
     "text": [
      "rgb2gray: 100%|██████████| 9030/9030 [00:01<00:00, 5272.71it/s]\n"
     ]
    },
    {
     "name": "stdout",
     "output_type": "stream",
     "text": [
      "Got the result from ./1/train/filtrations/4/RadialFiltration_38_25/gray/features.npy\n",
      "Got the result from ./1/train/filtrations/4/RadialFiltration_38_25/red/features.npy\n",
      "Got the result from ./1/train/filtrations/4/RadialFiltration_38_25/green/features.npy\n",
      "Got the result from ./1/train/filtrations/4/RadialFiltration_38_25/blue/features.npy\n",
      "Applying filtration 43/72: 4/RadialFiltration_38_38\n",
      "RGB images received. Transforming to grayscale.\n"
     ]
    },
    {
     "name": "stderr",
     "output_type": "stream",
     "text": [
      "rgb2gray: 100%|██████████| 9030/9030 [00:01<00:00, 5373.12it/s]\n"
     ]
    },
    {
     "name": "stdout",
     "output_type": "stream",
     "text": [
      "Got the result from ./1/train/filtrations/4/RadialFiltration_38_38/gray/features.npy\n",
      "Got the result from ./1/train/filtrations/4/RadialFiltration_38_38/red/features.npy\n",
      "Got the result from ./1/train/filtrations/4/RadialFiltration_38_38/green/features.npy\n",
      "Got the result from ./1/train/filtrations/4/RadialFiltration_38_38/blue/features.npy\n",
      "Applying filtration 44/72: 4/RadialFiltration_38_51\n",
      "RGB images received. Transforming to grayscale.\n"
     ]
    },
    {
     "name": "stderr",
     "output_type": "stream",
     "text": [
      "rgb2gray: 100%|██████████| 9030/9030 [00:01<00:00, 5196.87it/s]\n"
     ]
    },
    {
     "name": "stdout",
     "output_type": "stream",
     "text": [
      "Got the result from ./1/train/filtrations/4/RadialFiltration_38_51/gray/features.npy\n",
      "Got the result from ./1/train/filtrations/4/RadialFiltration_38_51/red/features.npy\n",
      "Got the result from ./1/train/filtrations/4/RadialFiltration_38_51/green/features.npy\n",
      "Got the result from ./1/train/filtrations/4/RadialFiltration_38_51/blue/features.npy\n",
      "Applying filtration 45/72: 4/RadialFiltration_51_12\n",
      "RGB images received. Transforming to grayscale.\n"
     ]
    },
    {
     "name": "stderr",
     "output_type": "stream",
     "text": [
      "rgb2gray: 100%|██████████| 9030/9030 [00:01<00:00, 5623.81it/s]\n"
     ]
    },
    {
     "name": "stdout",
     "output_type": "stream",
     "text": [
      "Got the result from ./1/train/filtrations/4/RadialFiltration_51_12/gray/features.npy\n",
      "Got the result from ./1/train/filtrations/4/RadialFiltration_51_12/red/features.npy\n",
      "Got the result from ./1/train/filtrations/4/RadialFiltration_51_12/green/features.npy\n",
      "Got the result from ./1/train/filtrations/4/RadialFiltration_51_12/blue/features.npy\n",
      "Applying filtration 46/72: 4/RadialFiltration_51_25\n",
      "RGB images received. Transforming to grayscale.\n"
     ]
    },
    {
     "name": "stderr",
     "output_type": "stream",
     "text": [
      "rgb2gray: 100%|██████████| 9030/9030 [00:01<00:00, 5812.72it/s]\n"
     ]
    },
    {
     "name": "stdout",
     "output_type": "stream",
     "text": [
      "Got the result from ./1/train/filtrations/4/RadialFiltration_51_25/gray/features.npy\n",
      "Got the result from ./1/train/filtrations/4/RadialFiltration_51_25/red/features.npy\n",
      "Got the result from ./1/train/filtrations/4/RadialFiltration_51_25/green/features.npy\n",
      "Got the result from ./1/train/filtrations/4/RadialFiltration_51_25/blue/features.npy\n",
      "Applying filtration 47/72: 4/RadialFiltration_51_38\n",
      "RGB images received. Transforming to grayscale.\n"
     ]
    },
    {
     "name": "stderr",
     "output_type": "stream",
     "text": [
      "rgb2gray: 100%|██████████| 9030/9030 [00:01<00:00, 5155.47it/s]\n"
     ]
    },
    {
     "name": "stdout",
     "output_type": "stream",
     "text": [
      "Got the result from ./1/train/filtrations/4/RadialFiltration_51_38/gray/features.npy\n",
      "Got the result from ./1/train/filtrations/4/RadialFiltration_51_38/red/features.npy\n",
      "Got the result from ./1/train/filtrations/4/RadialFiltration_51_38/green/features.npy\n",
      "Got the result from ./1/train/filtrations/4/RadialFiltration_51_38/blue/features.npy\n",
      "Applying filtration 48/72: 4/RadialFiltration_51_51\n",
      "RGB images received. Transforming to grayscale.\n"
     ]
    },
    {
     "name": "stderr",
     "output_type": "stream",
     "text": [
      "rgb2gray: 100%|██████████| 9030/9030 [00:01<00:00, 4926.35it/s]\n"
     ]
    },
    {
     "name": "stdout",
     "output_type": "stream",
     "text": [
      "Got the result from ./1/train/filtrations/4/RadialFiltration_51_51/gray/features.npy\n",
      "Got the result from ./1/train/filtrations/4/RadialFiltration_51_51/red/features.npy\n",
      "Got the result from ./1/train/filtrations/4/RadialFiltration_51_51/green/features.npy\n",
      "Got the result from ./1/train/filtrations/4/RadialFiltration_51_51/blue/features.npy\n",
      "Applying filtration 49/72: 6/HeightFiltrartion_-1_-1\n",
      "RGB images received. Transforming to grayscale.\n"
     ]
    },
    {
     "name": "stderr",
     "output_type": "stream",
     "text": [
      "rgb2gray: 100%|██████████| 9030/9030 [00:01<00:00, 5303.25it/s]\n"
     ]
    },
    {
     "name": "stdout",
     "output_type": "stream",
     "text": [
      "Got the result from ./1/train/filtrations/6/HeightFiltrartion_-1_-1/gray/features.npy\n",
      "Got the result from ./1/train/filtrations/6/HeightFiltrartion_-1_-1/red/features.npy\n",
      "Got the result from ./1/train/filtrations/6/HeightFiltrartion_-1_-1/green/features.npy\n",
      "Got the result from ./1/train/filtrations/6/HeightFiltrartion_-1_-1/blue/features.npy\n",
      "Applying filtration 50/72: 6/HeightFiltrartion_1_1\n",
      "RGB images received. Transforming to grayscale.\n"
     ]
    },
    {
     "name": "stderr",
     "output_type": "stream",
     "text": [
      "rgb2gray: 100%|██████████| 9030/9030 [00:01<00:00, 5450.91it/s]\n"
     ]
    },
    {
     "name": "stdout",
     "output_type": "stream",
     "text": [
      "Got the result from ./1/train/filtrations/6/HeightFiltrartion_1_1/gray/features.npy\n",
      "Got the result from ./1/train/filtrations/6/HeightFiltrartion_1_1/red/features.npy\n",
      "Got the result from ./1/train/filtrations/6/HeightFiltrartion_1_1/green/features.npy\n",
      "Got the result from ./1/train/filtrations/6/HeightFiltrartion_1_1/blue/features.npy\n",
      "Applying filtration 51/72: 6/HeightFiltrartion_1_-1\n",
      "RGB images received. Transforming to grayscale.\n"
     ]
    },
    {
     "name": "stderr",
     "output_type": "stream",
     "text": [
      "rgb2gray: 100%|██████████| 9030/9030 [00:01<00:00, 5507.40it/s]\n"
     ]
    },
    {
     "name": "stdout",
     "output_type": "stream",
     "text": [
      "Got the result from ./1/train/filtrations/6/HeightFiltrartion_1_-1/gray/features.npy\n",
      "Got the result from ./1/train/filtrations/6/HeightFiltrartion_1_-1/red/features.npy\n",
      "Got the result from ./1/train/filtrations/6/HeightFiltrartion_1_-1/green/features.npy\n",
      "Got the result from ./1/train/filtrations/6/HeightFiltrartion_1_-1/blue/features.npy\n",
      "Applying filtration 52/72: 6/HeightFiltrartion_-1_1\n",
      "RGB images received. Transforming to grayscale.\n"
     ]
    },
    {
     "name": "stderr",
     "output_type": "stream",
     "text": [
      "rgb2gray: 100%|██████████| 9030/9030 [00:01<00:00, 5136.36it/s]\n"
     ]
    },
    {
     "name": "stdout",
     "output_type": "stream",
     "text": [
      "Got the result from ./1/train/filtrations/6/HeightFiltrartion_-1_1/gray/features.npy\n",
      "Got the result from ./1/train/filtrations/6/HeightFiltrartion_-1_1/red/features.npy\n",
      "Got the result from ./1/train/filtrations/6/HeightFiltrartion_-1_1/green/features.npy\n",
      "Got the result from ./1/train/filtrations/6/HeightFiltrartion_-1_1/blue/features.npy\n",
      "Applying filtration 53/72: 6/HeightFiltrartion_0_-1\n",
      "RGB images received. Transforming to grayscale.\n"
     ]
    },
    {
     "name": "stderr",
     "output_type": "stream",
     "text": [
      "rgb2gray: 100%|██████████| 9030/9030 [00:01<00:00, 4922.20it/s]\n"
     ]
    },
    {
     "name": "stdout",
     "output_type": "stream",
     "text": [
      "Got the result from ./1/train/filtrations/6/HeightFiltrartion_0_-1/gray/features.npy\n",
      "Got the result from ./1/train/filtrations/6/HeightFiltrartion_0_-1/red/features.npy\n",
      "Got the result from ./1/train/filtrations/6/HeightFiltrartion_0_-1/green/features.npy\n",
      "Got the result from ./1/train/filtrations/6/HeightFiltrartion_0_-1/blue/features.npy\n",
      "Applying filtration 54/72: 6/HeightFiltrartion_0_1\n",
      "RGB images received. Transforming to grayscale.\n"
     ]
    },
    {
     "name": "stderr",
     "output_type": "stream",
     "text": [
      "rgb2gray: 100%|██████████| 9030/9030 [00:01<00:00, 5230.31it/s]\n"
     ]
    },
    {
     "name": "stdout",
     "output_type": "stream",
     "text": [
      "Got the result from ./1/train/filtrations/6/HeightFiltrartion_0_1/gray/features.npy\n",
      "Got the result from ./1/train/filtrations/6/HeightFiltrartion_0_1/red/features.npy\n",
      "Got the result from ./1/train/filtrations/6/HeightFiltrartion_0_1/green/features.npy\n",
      "Got the result from ./1/train/filtrations/6/HeightFiltrartion_0_1/blue/features.npy\n",
      "Applying filtration 55/72: 6/HeightFiltrartion_-1_0\n",
      "RGB images received. Transforming to grayscale.\n"
     ]
    },
    {
     "name": "stderr",
     "output_type": "stream",
     "text": [
      "rgb2gray: 100%|██████████| 9030/9030 [00:01<00:00, 5215.17it/s]\n"
     ]
    },
    {
     "name": "stdout",
     "output_type": "stream",
     "text": [
      "Got the result from ./1/train/filtrations/6/HeightFiltrartion_-1_0/gray/features.npy\n",
      "Got the result from ./1/train/filtrations/6/HeightFiltrartion_-1_0/red/features.npy\n",
      "Got the result from ./1/train/filtrations/6/HeightFiltrartion_-1_0/green/features.npy\n",
      "Got the result from ./1/train/filtrations/6/HeightFiltrartion_-1_0/blue/features.npy\n",
      "Applying filtration 56/72: 6/HeightFiltrartion_1_0\n",
      "RGB images received. Transforming to grayscale.\n"
     ]
    },
    {
     "name": "stderr",
     "output_type": "stream",
     "text": [
      "rgb2gray: 100%|██████████| 9030/9030 [00:01<00:00, 5452.83it/s]\n"
     ]
    },
    {
     "name": "stdout",
     "output_type": "stream",
     "text": [
      "Got the result from ./1/train/filtrations/6/HeightFiltrartion_1_0/gray/features.npy\n",
      "Got the result from ./1/train/filtrations/6/HeightFiltrartion_1_0/red/features.npy\n",
      "Got the result from ./1/train/filtrations/6/HeightFiltrartion_1_0/green/features.npy\n",
      "Got the result from ./1/train/filtrations/6/HeightFiltrartion_1_0/blue/features.npy\n",
      "Applying filtration 57/72: 6/RadialFiltration_12_12\n",
      "RGB images received. Transforming to grayscale.\n"
     ]
    },
    {
     "name": "stderr",
     "output_type": "stream",
     "text": [
      "rgb2gray: 100%|██████████| 9030/9030 [00:01<00:00, 5252.16it/s]\n"
     ]
    },
    {
     "name": "stdout",
     "output_type": "stream",
     "text": [
      "Got the result from ./1/train/filtrations/6/RadialFiltration_12_12/gray/features.npy\n",
      "Got the result from ./1/train/filtrations/6/RadialFiltration_12_12/red/features.npy\n",
      "Got the result from ./1/train/filtrations/6/RadialFiltration_12_12/green/features.npy\n",
      "Got the result from ./1/train/filtrations/6/RadialFiltration_12_12/blue/features.npy\n",
      "Applying filtration 58/72: 6/RadialFiltration_12_25\n",
      "RGB images received. Transforming to grayscale.\n"
     ]
    },
    {
     "name": "stderr",
     "output_type": "stream",
     "text": [
      "rgb2gray: 100%|██████████| 9030/9030 [00:01<00:00, 5144.88it/s]\n"
     ]
    },
    {
     "name": "stdout",
     "output_type": "stream",
     "text": [
      "Got the result from ./1/train/filtrations/6/RadialFiltration_12_25/gray/features.npy\n",
      "Got the result from ./1/train/filtrations/6/RadialFiltration_12_25/red/features.npy\n",
      "Got the result from ./1/train/filtrations/6/RadialFiltration_12_25/green/features.npy\n",
      "Got the result from ./1/train/filtrations/6/RadialFiltration_12_25/blue/features.npy\n",
      "Applying filtration 59/72: 6/RadialFiltration_12_38\n",
      "RGB images received. Transforming to grayscale.\n"
     ]
    },
    {
     "name": "stderr",
     "output_type": "stream",
     "text": [
      "rgb2gray: 100%|██████████| 9030/9030 [00:01<00:00, 4994.68it/s]\n"
     ]
    },
    {
     "name": "stdout",
     "output_type": "stream",
     "text": [
      "Got the result from ./1/train/filtrations/6/RadialFiltration_12_38/gray/features.npy\n",
      "Got the result from ./1/train/filtrations/6/RadialFiltration_12_38/red/features.npy\n",
      "Got the result from ./1/train/filtrations/6/RadialFiltration_12_38/green/features.npy\n",
      "Got the result from ./1/train/filtrations/6/RadialFiltration_12_38/blue/features.npy\n",
      "Applying filtration 60/72: 6/RadialFiltration_12_51\n",
      "RGB images received. Transforming to grayscale.\n"
     ]
    },
    {
     "name": "stderr",
     "output_type": "stream",
     "text": [
      "rgb2gray: 100%|██████████| 9030/9030 [00:01<00:00, 5187.37it/s]\n"
     ]
    },
    {
     "name": "stdout",
     "output_type": "stream",
     "text": [
      "Got the result from ./1/train/filtrations/6/RadialFiltration_12_51/gray/features.npy\n",
      "Got the result from ./1/train/filtrations/6/RadialFiltration_12_51/red/features.npy\n",
      "Got the result from ./1/train/filtrations/6/RadialFiltration_12_51/green/features.npy\n",
      "Got the result from ./1/train/filtrations/6/RadialFiltration_12_51/blue/features.npy\n",
      "Applying filtration 61/72: 6/RadialFiltration_25_12\n",
      "RGB images received. Transforming to grayscale.\n"
     ]
    },
    {
     "name": "stderr",
     "output_type": "stream",
     "text": [
      "rgb2gray: 100%|██████████| 9030/9030 [00:01<00:00, 5430.95it/s]\n"
     ]
    },
    {
     "name": "stdout",
     "output_type": "stream",
     "text": [
      "Got the result from ./1/train/filtrations/6/RadialFiltration_25_12/gray/features.npy\n",
      "Got the result from ./1/train/filtrations/6/RadialFiltration_25_12/red/features.npy\n",
      "Got the result from ./1/train/filtrations/6/RadialFiltration_25_12/green/features.npy\n",
      "Got the result from ./1/train/filtrations/6/RadialFiltration_25_12/blue/features.npy\n",
      "Applying filtration 62/72: 6/RadialFiltration_25_25\n",
      "RGB images received. Transforming to grayscale.\n"
     ]
    },
    {
     "name": "stderr",
     "output_type": "stream",
     "text": [
      "rgb2gray: 100%|██████████| 9030/9030 [00:01<00:00, 5353.43it/s]\n"
     ]
    },
    {
     "name": "stdout",
     "output_type": "stream",
     "text": [
      "Got the result from ./1/train/filtrations/6/RadialFiltration_25_25/gray/features.npy\n",
      "Got the result from ./1/train/filtrations/6/RadialFiltration_25_25/red/features.npy\n",
      "Got the result from ./1/train/filtrations/6/RadialFiltration_25_25/green/features.npy\n",
      "Got the result from ./1/train/filtrations/6/RadialFiltration_25_25/blue/features.npy\n",
      "Applying filtration 63/72: 6/RadialFiltration_25_38\n",
      "RGB images received. Transforming to grayscale.\n"
     ]
    },
    {
     "name": "stderr",
     "output_type": "stream",
     "text": [
      "rgb2gray: 100%|██████████| 9030/9030 [00:01<00:00, 5648.62it/s]\n"
     ]
    },
    {
     "name": "stdout",
     "output_type": "stream",
     "text": [
      "Got the result from ./1/train/filtrations/6/RadialFiltration_25_38/gray/features.npy\n",
      "Got the result from ./1/train/filtrations/6/RadialFiltration_25_38/red/features.npy\n",
      "Got the result from ./1/train/filtrations/6/RadialFiltration_25_38/green/features.npy\n",
      "Got the result from ./1/train/filtrations/6/RadialFiltration_25_38/blue/features.npy\n",
      "Applying filtration 64/72: 6/RadialFiltration_25_51\n",
      "RGB images received. Transforming to grayscale.\n"
     ]
    },
    {
     "name": "stderr",
     "output_type": "stream",
     "text": [
      "rgb2gray: 100%|██████████| 9030/9030 [00:01<00:00, 5164.20it/s]\n"
     ]
    },
    {
     "name": "stdout",
     "output_type": "stream",
     "text": [
      "Got the result from ./1/train/filtrations/6/RadialFiltration_25_51/gray/features.npy\n",
      "Got the result from ./1/train/filtrations/6/RadialFiltration_25_51/red/features.npy\n",
      "Got the result from ./1/train/filtrations/6/RadialFiltration_25_51/green/features.npy\n",
      "Got the result from ./1/train/filtrations/6/RadialFiltration_25_51/blue/features.npy\n",
      "Applying filtration 65/72: 6/RadialFiltration_38_12\n",
      "RGB images received. Transforming to grayscale.\n"
     ]
    },
    {
     "name": "stderr",
     "output_type": "stream",
     "text": [
      "rgb2gray: 100%|██████████| 9030/9030 [00:01<00:00, 5451.07it/s]\n"
     ]
    },
    {
     "name": "stdout",
     "output_type": "stream",
     "text": [
      "Got the result from ./1/train/filtrations/6/RadialFiltration_38_12/gray/features.npy\n",
      "Got the result from ./1/train/filtrations/6/RadialFiltration_38_12/red/features.npy\n",
      "Got the result from ./1/train/filtrations/6/RadialFiltration_38_12/green/features.npy\n",
      "Got the result from ./1/train/filtrations/6/RadialFiltration_38_12/blue/features.npy\n",
      "Applying filtration 66/72: 6/RadialFiltration_38_25\n",
      "RGB images received. Transforming to grayscale.\n"
     ]
    },
    {
     "name": "stderr",
     "output_type": "stream",
     "text": [
      "rgb2gray: 100%|██████████| 9030/9030 [00:01<00:00, 5295.96it/s]\n"
     ]
    },
    {
     "name": "stdout",
     "output_type": "stream",
     "text": [
      "Got the result from ./1/train/filtrations/6/RadialFiltration_38_25/gray/features.npy\n",
      "Got the result from ./1/train/filtrations/6/RadialFiltration_38_25/red/features.npy\n",
      "Got the result from ./1/train/filtrations/6/RadialFiltration_38_25/green/features.npy\n",
      "Got the result from ./1/train/filtrations/6/RadialFiltration_38_25/blue/features.npy\n",
      "Applying filtration 67/72: 6/RadialFiltration_38_38\n",
      "RGB images received. Transforming to grayscale.\n"
     ]
    },
    {
     "name": "stderr",
     "output_type": "stream",
     "text": [
      "rgb2gray: 100%|██████████| 9030/9030 [00:01<00:00, 5373.12it/s] \n"
     ]
    },
    {
     "name": "stdout",
     "output_type": "stream",
     "text": [
      "Got the result from ./1/train/filtrations/6/RadialFiltration_38_38/gray/features.npy\n",
      "Got the result from ./1/train/filtrations/6/RadialFiltration_38_38/red/features.npy\n",
      "Got the result from ./1/train/filtrations/6/RadialFiltration_38_38/green/features.npy\n",
      "Got the result from ./1/train/filtrations/6/RadialFiltration_38_38/blue/features.npy\n",
      "Applying filtration 68/72: 6/RadialFiltration_38_51\n",
      "RGB images received. Transforming to grayscale.\n"
     ]
    },
    {
     "name": "stderr",
     "output_type": "stream",
     "text": [
      "rgb2gray: 100%|██████████| 9030/9030 [00:01<00:00, 5146.83it/s]\n"
     ]
    },
    {
     "name": "stdout",
     "output_type": "stream",
     "text": [
      "Got the result from ./1/train/filtrations/6/RadialFiltration_38_51/gray/features.npy\n",
      "Got the result from ./1/train/filtrations/6/RadialFiltration_38_51/red/features.npy\n",
      "Got the result from ./1/train/filtrations/6/RadialFiltration_38_51/green/features.npy\n",
      "Got the result from ./1/train/filtrations/6/RadialFiltration_38_51/blue/features.npy\n",
      "Applying filtration 69/72: 6/RadialFiltration_51_12\n",
      "RGB images received. Transforming to grayscale.\n"
     ]
    },
    {
     "name": "stderr",
     "output_type": "stream",
     "text": [
      "rgb2gray: 100%|██████████| 9030/9030 [00:01<00:00, 5077.09it/s]\n"
     ]
    },
    {
     "name": "stdout",
     "output_type": "stream",
     "text": [
      "Got the result from ./1/train/filtrations/6/RadialFiltration_51_12/gray/features.npy\n",
      "Got the result from ./1/train/filtrations/6/RadialFiltration_51_12/red/features.npy\n",
      "Got the result from ./1/train/filtrations/6/RadialFiltration_51_12/green/features.npy\n",
      "Got the result from ./1/train/filtrations/6/RadialFiltration_51_12/blue/features.npy\n",
      "Applying filtration 70/72: 6/RadialFiltration_51_25\n",
      "RGB images received. Transforming to grayscale.\n"
     ]
    },
    {
     "name": "stderr",
     "output_type": "stream",
     "text": [
      "rgb2gray: 100%|██████████| 9030/9030 [00:01<00:00, 5177.76it/s] \n"
     ]
    },
    {
     "name": "stdout",
     "output_type": "stream",
     "text": [
      "Got the result from ./1/train/filtrations/6/RadialFiltration_51_25/gray/features.npy\n",
      "Got the result from ./1/train/filtrations/6/RadialFiltration_51_25/red/features.npy\n",
      "Got the result from ./1/train/filtrations/6/RadialFiltration_51_25/green/features.npy\n",
      "Got the result from ./1/train/filtrations/6/RadialFiltration_51_25/blue/features.npy\n",
      "Applying filtration 71/72: 6/RadialFiltration_51_38\n",
      "RGB images received. Transforming to grayscale.\n"
     ]
    },
    {
     "name": "stderr",
     "output_type": "stream",
     "text": [
      "rgb2gray: 100%|██████████| 9030/9030 [00:01<00:00, 5423.48it/s]\n"
     ]
    },
    {
     "name": "stdout",
     "output_type": "stream",
     "text": [
      "Got the result from ./1/train/filtrations/6/RadialFiltration_51_38/gray/features.npy\n",
      "Got the result from ./1/train/filtrations/6/RadialFiltration_51_38/red/features.npy\n",
      "Got the result from ./1/train/filtrations/6/RadialFiltration_51_38/green/features.npy\n",
      "Got the result from ./1/train/filtrations/6/RadialFiltration_51_38/blue/features.npy\n",
      "Applying filtration 72/72: 6/RadialFiltration_51_51\n",
      "RGB images received. Transforming to grayscale.\n"
     ]
    },
    {
     "name": "stderr",
     "output_type": "stream",
     "text": [
      "rgb2gray: 100%|██████████| 9030/9030 [00:01<00:00, 5578.81it/s]\n"
     ]
    },
    {
     "name": "stdout",
     "output_type": "stream",
     "text": [
      "Got the result from ./1/train/filtrations/6/RadialFiltration_51_51/gray/features.npy\n",
      "Got the result from ./1/train/filtrations/6/RadialFiltration_51_51/red/features.npy\n",
      "Got the result from ./1/train/filtrations/6/RadialFiltration_51_51/green/features.npy\n",
      "Got the result from ./1/train/filtrations/6/RadialFiltration_51_51/blue/features.npy\n",
      "RGB images received. Transforming to grayscale.\n",
      "Got the result from ./1/train/geometry/rgb/features.npy\n"
     ]
    },
    {
     "name": "stderr",
     "output_type": "stream",
     "text": [
      "rgb2gray: 100%|██████████| 9030/9030 [00:01<00:00, 5477.44it/s]\n"
     ]
    },
    {
     "name": "stdout",
     "output_type": "stream",
     "text": [
      "Got the result from ./1/train/geometry/gray/features.npy\n",
      "Got the result from ./1/train/geometry/red/features.npy\n",
      "Got the result from ./1/train/geometry/green/features.npy\n",
      "Got the result from ./1/train/geometry/blue/features.npy\n",
      "Applying StandardScaler.\n",
      "Calculating inverted images\n",
      "RGB images received. Transforming to grayscale.\n"
     ]
    },
    {
     "name": "stderr",
     "output_type": "stream",
     "text": [
      "rgb2gray: 100%|██████████| 134/134 [00:00<00:00, 5584.46it/s]\n"
     ]
    },
    {
     "name": "stdout",
     "output_type": "stream",
     "text": [
      "Got the result from ./1/test/greyscale/gray/features.npy\n",
      "Got the result from ./1/test/greyscale/red/features.npy\n",
      "Got the result from ./1/test/greyscale/green/features.npy\n",
      "Got the result from ./1/test/greyscale/blue/features.npy\n",
      "RGB images received. Transforming to grayscale.\n"
     ]
    },
    {
     "name": "stderr",
     "output_type": "stream",
     "text": [
      "rgb2gray: 100%|██████████| 134/134 [00:00<00:00, 6711.69it/s]"
     ]
    },
    {
     "name": "stdout",
     "output_type": "stream",
     "text": [
      "Got the result from ./1/test/inverted_greyscale/gray/features.npy"
     ]
    },
    {
     "name": "stderr",
     "output_type": "stream",
     "text": [
      "\n"
     ]
    },
    {
     "name": "stdout",
     "output_type": "stream",
     "text": [
      "\n",
      "Got the result from ./1/test/inverted_greyscale/red/features.npy\n",
      "Got the result from ./1/test/inverted_greyscale/green/features.npy\n",
      "Got the result from ./1/test/inverted_greyscale/blue/features.npy\n",
      "Applying filtrations\n",
      "Applying filtration 1/72: 2/HeightFiltrartion_-1_-1\n",
      "RGB images received. Transforming to grayscale.\n"
     ]
    },
    {
     "name": "stderr",
     "output_type": "stream",
     "text": [
      "rgb2gray: 100%|██████████| 134/134 [00:00<00:00, 6379.89it/s]"
     ]
    },
    {
     "name": "stdout",
     "output_type": "stream",
     "text": [
      "Got the result from ./1/test/filtrations/2/HeightFiltrartion_-1_-1/gray/features.npy"
     ]
    },
    {
     "name": "stderr",
     "output_type": "stream",
     "text": [
      "\n"
     ]
    },
    {
     "name": "stdout",
     "output_type": "stream",
     "text": [
      "\n",
      "Got the result from ./1/test/filtrations/2/HeightFiltrartion_-1_-1/red/features.npy\n",
      "Got the result from ./1/test/filtrations/2/HeightFiltrartion_-1_-1/green/features.npy\n",
      "Got the result from ./1/test/filtrations/2/HeightFiltrartion_-1_-1/blue/features.npy\n",
      "Applying filtration 2/72: 2/HeightFiltrartion_1_1\n",
      "RGB images received. Transforming to grayscale.\n"
     ]
    },
    {
     "name": "stderr",
     "output_type": "stream",
     "text": [
      "rgb2gray: 100%|██████████| 134/134 [00:00<00:00, 6390.41it/s]"
     ]
    },
    {
     "name": "stdout",
     "output_type": "stream",
     "text": [
      "Got the result from ./1/test/filtrations/2/HeightFiltrartion_1_1/gray/features.npy\n"
     ]
    },
    {
     "name": "stderr",
     "output_type": "stream",
     "text": [
      "\n"
     ]
    },
    {
     "name": "stdout",
     "output_type": "stream",
     "text": [
      "Got the result from ./1/test/filtrations/2/HeightFiltrartion_1_1/red/features.npy\n",
      "Got the result from ./1/test/filtrations/2/HeightFiltrartion_1_1/green/features.npy\n",
      "Got the result from ./1/test/filtrations/2/HeightFiltrartion_1_1/blue/features.npy\n",
      "Applying filtration 3/72: 2/HeightFiltrartion_1_-1\n",
      "RGB images received. Transforming to grayscale.\n"
     ]
    },
    {
     "name": "stderr",
     "output_type": "stream",
     "text": [
      "rgb2gray: 100%|██████████| 134/134 [00:00<00:00, 7449.13it/s]"
     ]
    },
    {
     "name": "stdout",
     "output_type": "stream",
     "text": [
      "Got the result from ./1/test/filtrations/2/HeightFiltrartion_1_-1/gray/features.npy\n"
     ]
    },
    {
     "name": "stderr",
     "output_type": "stream",
     "text": [
      "\n"
     ]
    },
    {
     "name": "stdout",
     "output_type": "stream",
     "text": [
      "Got the result from ./1/test/filtrations/2/HeightFiltrartion_1_-1/red/features.npy\n",
      "Got the result from ./1/test/filtrations/2/HeightFiltrartion_1_-1/green/features.npy\n",
      "Got the result from ./1/test/filtrations/2/HeightFiltrartion_1_-1/blue/features.npy\n",
      "Applying filtration 4/72: 2/HeightFiltrartion_-1_1\n",
      "RGB images received. Transforming to grayscale.\n"
     ]
    },
    {
     "name": "stderr",
     "output_type": "stream",
     "text": [
      "rgb2gray: 100%|██████████| 134/134 [00:00<00:00, 5591.13it/s]\n"
     ]
    },
    {
     "name": "stdout",
     "output_type": "stream",
     "text": [
      "Got the result from ./1/test/filtrations/2/HeightFiltrartion_-1_1/gray/features.npy\n",
      "Got the result from ./1/test/filtrations/2/HeightFiltrartion_-1_1/red/features.npy\n",
      "Got the result from ./1/test/filtrations/2/HeightFiltrartion_-1_1/green/features.npy\n",
      "Got the result from ./1/test/filtrations/2/HeightFiltrartion_-1_1/blue/features.npy\n",
      "Applying filtration 5/72: 2/HeightFiltrartion_0_-1\n",
      "RGB images received. Transforming to grayscale.\n"
     ]
    },
    {
     "name": "stderr",
     "output_type": "stream",
     "text": [
      "rgb2gray: 100%|██████████| 134/134 [00:00<00:00, 7052.08it/s]\n"
     ]
    },
    {
     "name": "stdout",
     "output_type": "stream",
     "text": [
      "Got the result from ./1/test/filtrations/2/HeightFiltrartion_0_-1/gray/features.npy\n",
      "Got the result from ./1/test/filtrations/2/HeightFiltrartion_0_-1/red/features.npy\n",
      "Got the result from ./1/test/filtrations/2/HeightFiltrartion_0_-1/green/features.npy\n",
      "Got the result from ./1/test/filtrations/2/HeightFiltrartion_0_-1/blue/features.npy\n",
      "Applying filtration 6/72: 2/HeightFiltrartion_0_1\n",
      "RGB images received. Transforming to grayscale.\n"
     ]
    },
    {
     "name": "stderr",
     "output_type": "stream",
     "text": [
      "rgb2gray: 100%|██████████| 134/134 [00:00<00:00, 6381.27it/s]\n"
     ]
    },
    {
     "name": "stdout",
     "output_type": "stream",
     "text": [
      "Got the result from ./1/test/filtrations/2/HeightFiltrartion_0_1/gray/features.npy\n",
      "Got the result from ./1/test/filtrations/2/HeightFiltrartion_0_1/red/features.npy\n",
      "Got the result from ./1/test/filtrations/2/HeightFiltrartion_0_1/green/features.npy\n",
      "Got the result from ./1/test/filtrations/2/HeightFiltrartion_0_1/blue/features.npy\n",
      "Applying filtration 7/72: 2/HeightFiltrartion_-1_0\n",
      "RGB images received. Transforming to grayscale.\n"
     ]
    },
    {
     "name": "stderr",
     "output_type": "stream",
     "text": [
      "rgb2gray: 100%|██████████| 134/134 [00:00<00:00, 6081.07it/s]\n"
     ]
    },
    {
     "name": "stdout",
     "output_type": "stream",
     "text": [
      "Got the result from ./1/test/filtrations/2/HeightFiltrartion_-1_0/gray/features.npy\n",
      "Got the result from ./1/test/filtrations/2/HeightFiltrartion_-1_0/red/features.npy\n",
      "Got the result from ./1/test/filtrations/2/HeightFiltrartion_-1_0/green/features.npy\n",
      "Got the result from ./1/test/filtrations/2/HeightFiltrartion_-1_0/blue/features.npy\n",
      "Applying filtration 8/72: 2/HeightFiltrartion_1_0\n",
      "RGB images received. Transforming to grayscale.\n"
     ]
    },
    {
     "name": "stderr",
     "output_type": "stream",
     "text": [
      "rgb2gray: 100%|██████████| 134/134 [00:00<00:00, 7060.59it/s]"
     ]
    },
    {
     "name": "stdout",
     "output_type": "stream",
     "text": [
      "Got the result from ./1/test/filtrations/2/HeightFiltrartion_1_0/gray/features.npy"
     ]
    },
    {
     "name": "stderr",
     "output_type": "stream",
     "text": [
      "\n"
     ]
    },
    {
     "name": "stdout",
     "output_type": "stream",
     "text": [
      "\n",
      "Got the result from ./1/test/filtrations/2/HeightFiltrartion_1_0/red/features.npy\n",
      "Got the result from ./1/test/filtrations/2/HeightFiltrartion_1_0/green/features.npy\n",
      "Got the result from ./1/test/filtrations/2/HeightFiltrartion_1_0/blue/features.npy\n",
      "Applying filtration 9/72: 2/RadialFiltration_12_12\n",
      "RGB images received. Transforming to grayscale.\n"
     ]
    },
    {
     "name": "stderr",
     "output_type": "stream",
     "text": [
      "rgb2gray: 100%|██████████| 134/134 [00:00<00:00, 6700.89it/s]"
     ]
    },
    {
     "name": "stdout",
     "output_type": "stream",
     "text": [
      "Got the result from ./1/test/filtrations/2/RadialFiltration_12_12/gray/features.npy"
     ]
    },
    {
     "name": "stderr",
     "output_type": "stream",
     "text": [
      "\n"
     ]
    },
    {
     "name": "stdout",
     "output_type": "stream",
     "text": [
      "\n",
      "Got the result from ./1/test/filtrations/2/RadialFiltration_12_12/red/features.npy\n",
      "Got the result from ./1/test/filtrations/2/RadialFiltration_12_12/green/features.npy\n",
      "Got the result from ./1/test/filtrations/2/RadialFiltration_12_12/blue/features.npy\n",
      "Applying filtration 10/72: 2/RadialFiltration_12_25\n",
      "RGB images received. Transforming to grayscale.\n"
     ]
    },
    {
     "name": "stderr",
     "output_type": "stream",
     "text": [
      "rgb2gray: 100%|██████████| 134/134 [00:00<00:00, 3940.88it/s]"
     ]
    },
    {
     "name": "stdout",
     "output_type": "stream",
     "text": [
      "Got the result from ./1/test/filtrations/2/RadialFiltration_12_25/gray/features.npy\n"
     ]
    },
    {
     "name": "stderr",
     "output_type": "stream",
     "text": [
      "\n"
     ]
    },
    {
     "name": "stdout",
     "output_type": "stream",
     "text": [
      "Got the result from ./1/test/filtrations/2/RadialFiltration_12_25/red/features.npy\n",
      "Got the result from ./1/test/filtrations/2/RadialFiltration_12_25/green/features.npy\n",
      "Got the result from ./1/test/filtrations/2/RadialFiltration_12_25/blue/features.npy\n",
      "Applying filtration 11/72: 2/RadialFiltration_12_38\n",
      "RGB images received. Transforming to grayscale.\n"
     ]
    },
    {
     "name": "stderr",
     "output_type": "stream",
     "text": [
      "rgb2gray: 100%|██████████| 134/134 [00:00<00:00, 5826.21it/s]\n"
     ]
    },
    {
     "name": "stdout",
     "output_type": "stream",
     "text": [
      "Got the result from ./1/test/filtrations/2/RadialFiltration_12_38/gray/features.npy\n",
      "Got the result from ./1/test/filtrations/2/RadialFiltration_12_38/red/features.npy\n",
      "Got the result from ./1/test/filtrations/2/RadialFiltration_12_38/green/features.npy\n",
      "Got the result from ./1/test/filtrations/2/RadialFiltration_12_38/blue/features.npy\n",
      "Applying filtration 12/72: 2/RadialFiltration_12_51\n",
      "RGB images received. Transforming to grayscale.\n"
     ]
    },
    {
     "name": "stderr",
     "output_type": "stream",
     "text": [
      "rgb2gray: 100%|██████████| 134/134 [00:00<00:00, 4957.67it/s]"
     ]
    },
    {
     "name": "stdout",
     "output_type": "stream",
     "text": [
      "Got the result from ./1/test/filtrations/2/RadialFiltration_12_51/gray/features.npy\n"
     ]
    },
    {
     "name": "stderr",
     "output_type": "stream",
     "text": [
      "\n"
     ]
    },
    {
     "name": "stdout",
     "output_type": "stream",
     "text": [
      "Got the result from ./1/test/filtrations/2/RadialFiltration_12_51/red/features.npy\n",
      "Got the result from ./1/test/filtrations/2/RadialFiltration_12_51/green/features.npy\n",
      "Got the result from ./1/test/filtrations/2/RadialFiltration_12_51/blue/features.npy\n",
      "Applying filtration 13/72: 2/RadialFiltration_25_12\n",
      "RGB images received. Transforming to grayscale.\n"
     ]
    },
    {
     "name": "stderr",
     "output_type": "stream",
     "text": [
      "rgb2gray: 100%|██████████| 134/134 [00:00<00:00, 6073.64it/s]\n"
     ]
    },
    {
     "name": "stdout",
     "output_type": "stream",
     "text": [
      "Got the result from ./1/test/filtrations/2/RadialFiltration_25_12/gray/features.npy\n",
      "Got the result from ./1/test/filtrations/2/RadialFiltration_25_12/red/features.npy\n",
      "Got the result from ./1/test/filtrations/2/RadialFiltration_25_12/green/features.npy\n",
      "Got the result from ./1/test/filtrations/2/RadialFiltration_25_12/blue/features.npy\n",
      "Applying filtration 14/72: 2/RadialFiltration_25_25\n",
      "RGB images received. Transforming to grayscale.\n"
     ]
    },
    {
     "name": "stderr",
     "output_type": "stream",
     "text": [
      "rgb2gray: 100%|██████████| 134/134 [00:00<00:00, 5825.78it/s]\n"
     ]
    },
    {
     "name": "stdout",
     "output_type": "stream",
     "text": [
      "Got the result from ./1/test/filtrations/2/RadialFiltration_25_25/gray/features.npy\n",
      "Got the result from ./1/test/filtrations/2/RadialFiltration_25_25/red/features.npy\n",
      "Got the result from ./1/test/filtrations/2/RadialFiltration_25_25/green/features.npy\n",
      "Got the result from ./1/test/filtrations/2/RadialFiltration_25_25/blue/features.npy\n",
      "Applying filtration 15/72: 2/RadialFiltration_25_38\n",
      "RGB images received. Transforming to grayscale.\n"
     ]
    },
    {
     "name": "stderr",
     "output_type": "stream",
     "text": [
      "rgb2gray: 100%|██████████| 134/134 [00:00<00:00, 5825.72it/s]\n"
     ]
    },
    {
     "name": "stdout",
     "output_type": "stream",
     "text": [
      "Got the result from ./1/test/filtrations/2/RadialFiltration_25_38/gray/features.npy\n",
      "Got the result from ./1/test/filtrations/2/RadialFiltration_25_38/red/features.npy\n",
      "Got the result from ./1/test/filtrations/2/RadialFiltration_25_38/green/features.npy\n",
      "Got the result from ./1/test/filtrations/2/RadialFiltration_25_38/blue/features.npy\n",
      "Applying filtration 16/72: 2/RadialFiltration_25_51\n",
      "RGB images received. Transforming to grayscale.\n"
     ]
    },
    {
     "name": "stderr",
     "output_type": "stream",
     "text": [
      "rgb2gray: 100%|██████████| 134/134 [00:00<00:00, 6700.09it/s]"
     ]
    },
    {
     "name": "stdout",
     "output_type": "stream",
     "text": [
      "Got the result from ./1/test/filtrations/2/RadialFiltration_25_51/gray/features.npy"
     ]
    },
    {
     "name": "stderr",
     "output_type": "stream",
     "text": [
      "\n"
     ]
    },
    {
     "name": "stdout",
     "output_type": "stream",
     "text": [
      "\n",
      "Got the result from ./1/test/filtrations/2/RadialFiltration_25_51/red/features.npy\n",
      "Got the result from ./1/test/filtrations/2/RadialFiltration_25_51/green/features.npy\n",
      "Got the result from ./1/test/filtrations/2/RadialFiltration_25_51/blue/features.npy\n",
      "Applying filtration 17/72: 2/RadialFiltration_38_12\n",
      "RGB images received. Transforming to grayscale.\n"
     ]
    },
    {
     "name": "stderr",
     "output_type": "stream",
     "text": [
      "rgb2gray: 100%|██████████| 134/134 [00:00<00:00, 6090.29it/s]"
     ]
    },
    {
     "name": "stdout",
     "output_type": "stream",
     "text": [
      "Got the result from ./1/test/filtrations/2/RadialFiltration_38_12/gray/features.npy"
     ]
    },
    {
     "name": "stderr",
     "output_type": "stream",
     "text": [
      "\n"
     ]
    },
    {
     "name": "stdout",
     "output_type": "stream",
     "text": [
      "\n",
      "Got the result from ./1/test/filtrations/2/RadialFiltration_38_12/red/features.npy\n",
      "Got the result from ./1/test/filtrations/2/RadialFiltration_38_12/green/features.npy\n",
      "Got the result from ./1/test/filtrations/2/RadialFiltration_38_12/blue/features.npy\n",
      "Applying filtration 18/72: 2/RadialFiltration_38_25\n",
      "RGB images received. Transforming to grayscale.\n"
     ]
    },
    {
     "name": "stderr",
     "output_type": "stream",
     "text": [
      "rgb2gray: 100%|██████████| 134/134 [00:00<00:00, 5153.89it/s]\n"
     ]
    },
    {
     "name": "stdout",
     "output_type": "stream",
     "text": [
      "Got the result from ./1/test/filtrations/2/RadialFiltration_38_25/gray/features.npy\n",
      "Got the result from ./1/test/filtrations/2/RadialFiltration_38_25/red/features.npy\n",
      "Got the result from ./1/test/filtrations/2/RadialFiltration_38_25/green/features.npy\n",
      "Got the result from ./1/test/filtrations/2/RadialFiltration_38_25/blue/features.npy\n",
      "Applying filtration 19/72: 2/RadialFiltration_38_38\n",
      "RGB images received. Transforming to grayscale.\n"
     ]
    },
    {
     "name": "stderr",
     "output_type": "stream",
     "text": [
      "rgb2gray: 100%|██████████| 134/134 [00:00<00:00, 6216.46it/s]"
     ]
    },
    {
     "name": "stdout",
     "output_type": "stream",
     "text": [
      "Got the result from ./1/test/filtrations/2/RadialFiltration_38_38/gray/features.npy"
     ]
    },
    {
     "name": "stderr",
     "output_type": "stream",
     "text": [
      "\n"
     ]
    },
    {
     "name": "stdout",
     "output_type": "stream",
     "text": [
      "\n",
      "Got the result from ./1/test/filtrations/2/RadialFiltration_38_38/red/features.npy\n",
      "Got the result from ./1/test/filtrations/2/RadialFiltration_38_38/green/features.npy\n",
      "Got the result from ./1/test/filtrations/2/RadialFiltration_38_38/blue/features.npy\n",
      "Applying filtration 20/72: 2/RadialFiltration_38_51\n",
      "RGB images received. Transforming to grayscale.\n"
     ]
    },
    {
     "name": "stderr",
     "output_type": "stream",
     "text": [
      "rgb2gray: 100%|██████████| 134/134 [00:00<00:00, 6688.84it/s]\n"
     ]
    },
    {
     "name": "stdout",
     "output_type": "stream",
     "text": [
      "Got the result from ./1/test/filtrations/2/RadialFiltration_38_51/gray/features.npy\n",
      "Got the result from ./1/test/filtrations/2/RadialFiltration_38_51/red/features.npy\n",
      "Got the result from ./1/test/filtrations/2/RadialFiltration_38_51/green/features.npy\n",
      "Got the result from ./1/test/filtrations/2/RadialFiltration_38_51/blue/features.npy\n",
      "Applying filtration 21/72: 2/RadialFiltration_51_12\n",
      "RGB images received. Transforming to grayscale.\n"
     ]
    },
    {
     "name": "stderr",
     "output_type": "stream",
     "text": [
      "rgb2gray: 100%|██████████| 134/134 [00:00<00:00, 6101.87it/s]\n"
     ]
    },
    {
     "name": "stdout",
     "output_type": "stream",
     "text": [
      "Got the result from ./1/test/filtrations/2/RadialFiltration_51_12/gray/features.npy\n",
      "Got the result from ./1/test/filtrations/2/RadialFiltration_51_12/red/features.npy\n",
      "Got the result from ./1/test/filtrations/2/RadialFiltration_51_12/green/features.npy\n",
      "Got the result from ./1/test/filtrations/2/RadialFiltration_51_12/blue/features.npy\n",
      "Applying filtration 22/72: 2/RadialFiltration_51_25\n",
      "RGB images received. Transforming to grayscale.\n"
     ]
    },
    {
     "name": "stderr",
     "output_type": "stream",
     "text": [
      "rgb2gray: 100%|██████████| 134/134 [00:00<00:00, 6377.50it/s]\n"
     ]
    },
    {
     "name": "stdout",
     "output_type": "stream",
     "text": [
      "Got the result from ./1/test/filtrations/2/RadialFiltration_51_25/gray/features.npy\n",
      "Got the result from ./1/test/filtrations/2/RadialFiltration_51_25/red/features.npy\n",
      "Got the result from ./1/test/filtrations/2/RadialFiltration_51_25/green/features.npy\n",
      "Got the result from ./1/test/filtrations/2/RadialFiltration_51_25/blue/features.npy\n",
      "Applying filtration 23/72: 2/RadialFiltration_51_38\n",
      "RGB images received. Transforming to grayscale.\n"
     ]
    },
    {
     "name": "stderr",
     "output_type": "stream",
     "text": [
      "rgb2gray: 100%|██████████| 134/134 [00:00<00:00, 5359.42it/s]"
     ]
    },
    {
     "name": "stdout",
     "output_type": "stream",
     "text": [
      "Got the result from ./1/test/filtrations/2/RadialFiltration_51_38/gray/features.npy\n"
     ]
    },
    {
     "name": "stderr",
     "output_type": "stream",
     "text": [
      "\n"
     ]
    },
    {
     "name": "stdout",
     "output_type": "stream",
     "text": [
      "Got the result from ./1/test/filtrations/2/RadialFiltration_51_38/red/features.npy\n",
      "Got the result from ./1/test/filtrations/2/RadialFiltration_51_38/green/features.npy\n",
      "Got the result from ./1/test/filtrations/2/RadialFiltration_51_38/blue/features.npy\n",
      "Applying filtration 24/72: 2/RadialFiltration_51_51\n",
      "RGB images received. Transforming to grayscale.\n"
     ]
    },
    {
     "name": "stderr",
     "output_type": "stream",
     "text": [
      "rgb2gray: 100%|██████████| 134/134 [00:00<00:00, 7435.04it/s]"
     ]
    },
    {
     "name": "stdout",
     "output_type": "stream",
     "text": [
      "Got the result from ./1/test/filtrations/2/RadialFiltration_51_51/gray/features.npy"
     ]
    },
    {
     "name": "stderr",
     "output_type": "stream",
     "text": [
      "\n"
     ]
    },
    {
     "name": "stdout",
     "output_type": "stream",
     "text": [
      "\n",
      "Got the result from ./1/test/filtrations/2/RadialFiltration_51_51/red/features.npy\n",
      "Got the result from ./1/test/filtrations/2/RadialFiltration_51_51/green/features.npy\n",
      "Got the result from ./1/test/filtrations/2/RadialFiltration_51_51/blue/features.npy\n",
      "Applying filtration 25/72: 4/HeightFiltrartion_-1_-1\n",
      "RGB images received. Transforming to grayscale.\n"
     ]
    },
    {
     "name": "stderr",
     "output_type": "stream",
     "text": [
      "rgb2gray: 100%|██████████| 134/134 [00:00<00:00, 4790.06it/s]"
     ]
    },
    {
     "name": "stdout",
     "output_type": "stream",
     "text": [
      "Got the result from ./1/test/filtrations/4/HeightFiltrartion_-1_-1/gray/features.npy\n",
      "Got the result from ./1/test/filtrations/4/HeightFiltrartion_-1_-1/red/features.npy"
     ]
    },
    {
     "name": "stderr",
     "output_type": "stream",
     "text": [
      "\n"
     ]
    },
    {
     "name": "stdout",
     "output_type": "stream",
     "text": [
      "\n",
      "Got the result from ./1/test/filtrations/4/HeightFiltrartion_-1_-1/green/features.npy\n",
      "Got the result from ./1/test/filtrations/4/HeightFiltrartion_-1_-1/blue/features.npy\n",
      "Applying filtration 26/72: 4/HeightFiltrartion_1_1\n",
      "RGB images received. Transforming to grayscale.\n"
     ]
    },
    {
     "name": "stderr",
     "output_type": "stream",
     "text": [
      "rgb2gray: 100%|██████████| 134/134 [00:00<00:00, 5153.04it/s]"
     ]
    },
    {
     "name": "stdout",
     "output_type": "stream",
     "text": [
      "Got the result from ./1/test/filtrations/4/HeightFiltrartion_1_1/gray/features.npy\n"
     ]
    },
    {
     "name": "stderr",
     "output_type": "stream",
     "text": [
      "\n"
     ]
    },
    {
     "name": "stdout",
     "output_type": "stream",
     "text": [
      "Got the result from ./1/test/filtrations/4/HeightFiltrartion_1_1/red/features.npy\n",
      "Got the result from ./1/test/filtrations/4/HeightFiltrartion_1_1/green/features.npy\n",
      "Got the result from ./1/test/filtrations/4/HeightFiltrartion_1_1/blue/features.npy\n",
      "Applying filtration 27/72: 4/HeightFiltrartion_1_-1\n",
      "RGB images received. Transforming to grayscale.\n"
     ]
    },
    {
     "name": "stderr",
     "output_type": "stream",
     "text": [
      "rgb2gray: 100%|██████████| 134/134 [00:00<00:00, 6370.85it/s]"
     ]
    },
    {
     "name": "stdout",
     "output_type": "stream",
     "text": [
      "Got the result from ./1/test/filtrations/4/HeightFiltrartion_1_-1/gray/features.npy\n",
      "Got the result from ./1/test/filtrations/4/HeightFiltrartion_1_-1/red/features.npy\n"
     ]
    },
    {
     "name": "stderr",
     "output_type": "stream",
     "text": [
      "\n"
     ]
    },
    {
     "name": "stdout",
     "output_type": "stream",
     "text": [
      "Got the result from ./1/test/filtrations/4/HeightFiltrartion_1_-1/green/features.npy\n",
      "Got the result from ./1/test/filtrations/4/HeightFiltrartion_1_-1/blue/features.npy\n",
      "Applying filtration 28/72: 4/HeightFiltrartion_-1_1\n",
      "RGB images received. Transforming to grayscale.\n"
     ]
    },
    {
     "name": "stderr",
     "output_type": "stream",
     "text": [
      "rgb2gray: 100%|██████████| 134/134 [00:00<00:00, 6090.95it/s]\n"
     ]
    },
    {
     "name": "stdout",
     "output_type": "stream",
     "text": [
      "Got the result from ./1/test/filtrations/4/HeightFiltrartion_-1_1/gray/features.npy\n",
      "Got the result from ./1/test/filtrations/4/HeightFiltrartion_-1_1/red/features.npy\n",
      "Got the result from ./1/test/filtrations/4/HeightFiltrartion_-1_1/green/features.npy\n",
      "Got the result from ./1/test/filtrations/4/HeightFiltrartion_-1_1/blue/features.npy\n",
      "Applying filtration 29/72: 4/HeightFiltrartion_0_-1\n",
      "RGB images received. Transforming to grayscale.\n"
     ]
    },
    {
     "name": "stderr",
     "output_type": "stream",
     "text": [
      "rgb2gray: 100%|██████████| 134/134 [00:00<00:00, 6090.89it/s]"
     ]
    },
    {
     "name": "stdout",
     "output_type": "stream",
     "text": [
      "Got the result from ./1/test/filtrations/4/HeightFiltrartion_0_-1/gray/features.npy\n"
     ]
    },
    {
     "name": "stderr",
     "output_type": "stream",
     "text": [
      "\n"
     ]
    },
    {
     "name": "stdout",
     "output_type": "stream",
     "text": [
      "Got the result from ./1/test/filtrations/4/HeightFiltrartion_0_-1/red/features.npy\n",
      "Got the result from ./1/test/filtrations/4/HeightFiltrartion_0_-1/green/features.npy\n",
      "Got the result from ./1/test/filtrations/4/HeightFiltrartion_0_-1/blue/features.npy\n",
      "Applying filtration 30/72: 4/HeightFiltrartion_0_1\n",
      "RGB images received. Transforming to grayscale.\n"
     ]
    },
    {
     "name": "stderr",
     "output_type": "stream",
     "text": [
      "rgb2gray: 100%|██████████| 134/134 [00:00<00:00, 6100.47it/s]"
     ]
    },
    {
     "name": "stdout",
     "output_type": "stream",
     "text": [
      "Got the result from ./1/test/filtrations/4/HeightFiltrartion_0_1/gray/features.npy"
     ]
    },
    {
     "name": "stderr",
     "output_type": "stream",
     "text": [
      "\n"
     ]
    },
    {
     "name": "stdout",
     "output_type": "stream",
     "text": [
      "\n",
      "Got the result from ./1/test/filtrations/4/HeightFiltrartion_0_1/red/features.npy\n",
      "Got the result from ./1/test/filtrations/4/HeightFiltrartion_0_1/green/features.npy\n",
      "Got the result from ./1/test/filtrations/4/HeightFiltrartion_0_1/blue/features.npy\n",
      "Applying filtration 31/72: 4/HeightFiltrartion_-1_0\n",
      "RGB images received. Transforming to grayscale.\n"
     ]
    },
    {
     "name": "stderr",
     "output_type": "stream",
     "text": [
      "rgb2gray: 100%|██████████| 134/134 [00:00<00:00, 6700.17it/s]\n"
     ]
    },
    {
     "name": "stdout",
     "output_type": "stream",
     "text": [
      "Got the result from ./1/test/filtrations/4/HeightFiltrartion_-1_0/gray/features.npy\n",
      "Got the result from ./1/test/filtrations/4/HeightFiltrartion_-1_0/red/features.npy\n",
      "Got the result from ./1/test/filtrations/4/HeightFiltrartion_-1_0/green/features.npy\n",
      "Got the result from ./1/test/filtrations/4/HeightFiltrartion_-1_0/blue/features.npy\n",
      "Applying filtration 32/72: 4/HeightFiltrartion_1_0\n",
      "RGB images received. Transforming to grayscale.\n"
     ]
    },
    {
     "name": "stderr",
     "output_type": "stream",
     "text": [
      "rgb2gray: 100%|██████████| 134/134 [00:00<00:00, 4791.37it/s]"
     ]
    },
    {
     "name": "stdout",
     "output_type": "stream",
     "text": [
      "Got the result from ./1/test/filtrations/4/HeightFiltrartion_1_0/gray/features.npy\n"
     ]
    },
    {
     "name": "stderr",
     "output_type": "stream",
     "text": [
      "\n"
     ]
    },
    {
     "name": "stdout",
     "output_type": "stream",
     "text": [
      "Got the result from ./1/test/filtrations/4/HeightFiltrartion_1_0/red/features.npy\n",
      "Got the result from ./1/test/filtrations/4/HeightFiltrartion_1_0/green/features.npy\n",
      "Got the result from ./1/test/filtrations/4/HeightFiltrartion_1_0/blue/features.npy\n",
      "Applying filtration 33/72: 4/RadialFiltration_12_12\n",
      "RGB images received. Transforming to grayscale.\n"
     ]
    },
    {
     "name": "stderr",
     "output_type": "stream",
     "text": [
      "rgb2gray: 100%|██████████| 134/134 [00:00<00:00, 5583.79it/s]\n"
     ]
    },
    {
     "name": "stdout",
     "output_type": "stream",
     "text": [
      "Got the result from ./1/test/filtrations/4/RadialFiltration_12_12/gray/features.npy\n",
      "Got the result from ./1/test/filtrations/4/RadialFiltration_12_12/red/features.npy\n",
      "Got the result from ./1/test/filtrations/4/RadialFiltration_12_12/green/features.npy\n",
      "Got the result from ./1/test/filtrations/4/RadialFiltration_12_12/blue/features.npy\n",
      "Applying filtration 34/72: 4/RadialFiltration_12_25\n",
      "RGB images received. Transforming to grayscale.\n"
     ]
    },
    {
     "name": "stderr",
     "output_type": "stream",
     "text": [
      "rgb2gray: 100%|██████████| 134/134 [00:00<00:00, 5825.66it/s]"
     ]
    },
    {
     "name": "stdout",
     "output_type": "stream",
     "text": [
      "Got the result from ./1/test/filtrations/4/RadialFiltration_12_25/gray/features.npy\n"
     ]
    },
    {
     "name": "stderr",
     "output_type": "stream",
     "text": [
      "\n"
     ]
    },
    {
     "name": "stdout",
     "output_type": "stream",
     "text": [
      "Got the result from ./1/test/filtrations/4/RadialFiltration_12_25/red/features.npy\n",
      "Got the result from ./1/test/filtrations/4/RadialFiltration_12_25/green/features.npy\n",
      "Got the result from ./1/test/filtrations/4/RadialFiltration_12_25/blue/features.npy\n",
      "Applying filtration 35/72: 4/RadialFiltration_12_38\n",
      "RGB images received. Transforming to grayscale.\n"
     ]
    },
    {
     "name": "stderr",
     "output_type": "stream",
     "text": [
      "rgb2gray: 100%|██████████| 134/134 [00:00<00:00, 5583.68it/s]\n"
     ]
    },
    {
     "name": "stdout",
     "output_type": "stream",
     "text": [
      "Got the result from ./1/test/filtrations/4/RadialFiltration_12_38/gray/features.npy\n",
      "Got the result from ./1/test/filtrations/4/RadialFiltration_12_38/red/features.npy\n",
      "Got the result from ./1/test/filtrations/4/RadialFiltration_12_38/green/features.npy\n",
      "Got the result from ./1/test/filtrations/4/RadialFiltration_12_38/blue/features.npy\n",
      "Applying filtration 36/72: 4/RadialFiltration_12_51\n",
      "RGB images received. Transforming to grayscale.\n"
     ]
    },
    {
     "name": "stderr",
     "output_type": "stream",
     "text": [
      "rgb2gray: 100%|██████████| 134/134 [00:00<00:00, 6091.22it/s]\n"
     ]
    },
    {
     "name": "stdout",
     "output_type": "stream",
     "text": [
      "Got the result from ./1/test/filtrations/4/RadialFiltration_12_51/gray/features.npy\n",
      "Got the result from ./1/test/filtrations/4/RadialFiltration_12_51/red/features.npy\n",
      "Got the result from ./1/test/filtrations/4/RadialFiltration_12_51/green/features.npy\n",
      "Got the result from ./1/test/filtrations/4/RadialFiltration_12_51/blue/features.npy\n",
      "Applying filtration 37/72: 4/RadialFiltration_25_12\n",
      "RGB images received. Transforming to grayscale.\n"
     ]
    },
    {
     "name": "stderr",
     "output_type": "stream",
     "text": [
      "rgb2gray: 100%|██████████| 134/134 [00:00<00:00, 6374.97it/s]"
     ]
    },
    {
     "name": "stdout",
     "output_type": "stream",
     "text": [
      "Got the result from ./1/test/filtrations/4/RadialFiltration_25_12/gray/features.npy"
     ]
    },
    {
     "name": "stderr",
     "output_type": "stream",
     "text": [
      "\n"
     ]
    },
    {
     "name": "stdout",
     "output_type": "stream",
     "text": [
      "\n",
      "Got the result from ./1/test/filtrations/4/RadialFiltration_25_12/red/features.npy\n",
      "Got the result from ./1/test/filtrations/4/RadialFiltration_25_12/green/features.npy\n",
      "Got the result from ./1/test/filtrations/4/RadialFiltration_25_12/blue/features.npy\n",
      "Applying filtration 38/72: 4/RadialFiltration_25_25\n",
      "RGB images received. Transforming to grayscale.\n"
     ]
    },
    {
     "name": "stderr",
     "output_type": "stream",
     "text": [
      "rgb2gray: 100%|██████████| 134/134 [00:00<00:00, 6700.17it/s]\n"
     ]
    },
    {
     "name": "stdout",
     "output_type": "stream",
     "text": [
      "Got the result from ./1/test/filtrations/4/RadialFiltration_25_25/gray/features.npy\n",
      "Got the result from ./1/test/filtrations/4/RadialFiltration_25_25/red/features.npy\n",
      "Got the result from ./1/test/filtrations/4/RadialFiltration_25_25/green/features.npy\n",
      "Got the result from ./1/test/filtrations/4/RadialFiltration_25_25/blue/features.npy\n",
      "Applying filtration 39/72: 4/RadialFiltration_25_38\n",
      "RGB images received. Transforming to grayscale.\n"
     ]
    },
    {
     "name": "stderr",
     "output_type": "stream",
     "text": [
      "rgb2gray: 100%|██████████| 134/134 [00:00<00:00, 5834.37it/s]\n"
     ]
    },
    {
     "name": "stdout",
     "output_type": "stream",
     "text": [
      "Got the result from ./1/test/filtrations/4/RadialFiltration_25_38/gray/features.npy\n",
      "Got the result from ./1/test/filtrations/4/RadialFiltration_25_38/red/features.npy\n",
      "Got the result from ./1/test/filtrations/4/RadialFiltration_25_38/green/features.npy\n",
      "Got the result from ./1/test/filtrations/4/RadialFiltration_25_38/blue/features.npy\n",
      "Applying filtration 40/72: 4/RadialFiltration_25_51\n",
      "RGB images received. Transforming to grayscale.\n"
     ]
    },
    {
     "name": "stderr",
     "output_type": "stream",
     "text": [
      "rgb2gray: 100%|██████████| 134/134 [00:00<00:00, 5578.36it/s]\n"
     ]
    },
    {
     "name": "stdout",
     "output_type": "stream",
     "text": [
      "Got the result from ./1/test/filtrations/4/RadialFiltration_25_51/gray/features.npy\n",
      "Got the result from ./1/test/filtrations/4/RadialFiltration_25_51/red/features.npy\n",
      "Got the result from ./1/test/filtrations/4/RadialFiltration_25_51/green/features.npy\n",
      "Got the result from ./1/test/filtrations/4/RadialFiltration_25_51/blue/features.npy\n",
      "Applying filtration 41/72: 4/RadialFiltration_38_12\n",
      "RGB images received. Transforming to grayscale.\n"
     ]
    },
    {
     "name": "stderr",
     "output_type": "stream",
     "text": [
      "rgb2gray: 100%|██████████| 134/134 [00:00<00:00, 5160.99it/s]\n"
     ]
    },
    {
     "name": "stdout",
     "output_type": "stream",
     "text": [
      "Got the result from ./1/test/filtrations/4/RadialFiltration_38_12/gray/features.npy\n",
      "Got the result from ./1/test/filtrations/4/RadialFiltration_38_12/red/features.npy\n",
      "Got the result from ./1/test/filtrations/4/RadialFiltration_38_12/green/features.npy\n",
      "Got the result from ./1/test/filtrations/4/RadialFiltration_38_12/blue/features.npy\n",
      "Applying filtration 42/72: 4/RadialFiltration_38_25\n",
      "RGB images received. Transforming to grayscale.\n"
     ]
    },
    {
     "name": "stderr",
     "output_type": "stream",
     "text": [
      "rgb2gray: 100%|██████████| 134/134 [00:00<00:00, 7442.42it/s]"
     ]
    },
    {
     "name": "stdout",
     "output_type": "stream",
     "text": [
      "Got the result from ./1/test/filtrations/4/RadialFiltration_38_25/gray/features.npy"
     ]
    },
    {
     "name": "stderr",
     "output_type": "stream",
     "text": [
      "\n"
     ]
    },
    {
     "name": "stdout",
     "output_type": "stream",
     "text": [
      "\n",
      "Got the result from ./1/test/filtrations/4/RadialFiltration_38_25/red/features.npy\n",
      "Got the result from ./1/test/filtrations/4/RadialFiltration_38_25/green/features.npy\n",
      "Got the result from ./1/test/filtrations/4/RadialFiltration_38_25/blue/features.npy\n",
      "Applying filtration 43/72: 4/RadialFiltration_38_38\n",
      "RGB images received. Transforming to grayscale.\n"
     ]
    },
    {
     "name": "stderr",
     "output_type": "stream",
     "text": [
      "rgb2gray: 100%|██████████| 134/134 [00:00<00:00, 6091.75it/s]"
     ]
    },
    {
     "name": "stdout",
     "output_type": "stream",
     "text": [
      "Got the result from ./1/test/filtrations/4/RadialFiltration_38_38/gray/features.npy\n",
      "Got the result from ./1/test/filtrations/4/RadialFiltration_38_38/red/features.npy\n",
      "Got the result from ./1/test/filtrations/4/RadialFiltration_38_38/green/features.npy\n",
      "Got the result from ./1/test/filtrations/4/RadialFiltration_38_38/blue/features.npy\n"
     ]
    },
    {
     "name": "stderr",
     "output_type": "stream",
     "text": [
      "\n"
     ]
    },
    {
     "name": "stdout",
     "output_type": "stream",
     "text": [
      "Applying filtration 44/72: 4/RadialFiltration_38_51\n",
      "RGB images received. Transforming to grayscale.\n"
     ]
    },
    {
     "name": "stderr",
     "output_type": "stream",
     "text": [
      "rgb2gray: 100%|██████████| 134/134 [00:00<00:00, 5359.11it/s]"
     ]
    },
    {
     "name": "stdout",
     "output_type": "stream",
     "text": [
      "Got the result from ./1/test/filtrations/4/RadialFiltration_38_51/gray/features.npy\n"
     ]
    },
    {
     "name": "stderr",
     "output_type": "stream",
     "text": [
      "\n"
     ]
    },
    {
     "name": "stdout",
     "output_type": "stream",
     "text": [
      "Got the result from ./1/test/filtrations/4/RadialFiltration_38_51/red/features.npy\n",
      "Got the result from ./1/test/filtrations/4/RadialFiltration_38_51/green/features.npy\n",
      "Got the result from ./1/test/filtrations/4/RadialFiltration_38_51/blue/features.npy\n",
      "Applying filtration 45/72: 4/RadialFiltration_51_12\n",
      "RGB images received. Transforming to grayscale.\n"
     ]
    },
    {
     "name": "stderr",
     "output_type": "stream",
     "text": [
      "rgb2gray: 100%|██████████| 134/134 [00:00<00:00, 5826.75it/s]"
     ]
    },
    {
     "name": "stdout",
     "output_type": "stream",
     "text": [
      "Got the result from ./1/test/filtrations/4/RadialFiltration_51_12/gray/features.npy"
     ]
    },
    {
     "name": "stderr",
     "output_type": "stream",
     "text": [
      "\n"
     ]
    },
    {
     "name": "stdout",
     "output_type": "stream",
     "text": [
      "\n",
      "Got the result from ./1/test/filtrations/4/RadialFiltration_51_12/red/features.npy\n",
      "Got the result from ./1/test/filtrations/4/RadialFiltration_51_12/green/features.npy\n",
      "Got the result from ./1/test/filtrations/4/RadialFiltration_51_12/blue/features.npy\n",
      "Applying filtration 46/72: 4/RadialFiltration_51_25\n",
      "RGB images received. Transforming to grayscale.\n"
     ]
    },
    {
     "name": "stderr",
     "output_type": "stream",
     "text": [
      "rgb2gray: 100%|██████████| 134/134 [00:00<00:00, 6380.11it/s]\n"
     ]
    },
    {
     "name": "stdout",
     "output_type": "stream",
     "text": [
      "Got the result from ./1/test/filtrations/4/RadialFiltration_51_25/gray/features.npy\n",
      "Got the result from ./1/test/filtrations/4/RadialFiltration_51_25/red/features.npy\n",
      "Got the result from ./1/test/filtrations/4/RadialFiltration_51_25/green/features.npy\n",
      "Got the result from ./1/test/filtrations/4/RadialFiltration_51_25/blue/features.npy\n",
      "Applying filtration 47/72: 4/RadialFiltration_51_38\n",
      "RGB images received. Transforming to grayscale.\n"
     ]
    },
    {
     "name": "stderr",
     "output_type": "stream",
     "text": [
      "rgb2gray: 100%|██████████| 134/134 [00:00<00:00, 6378.23it/s]"
     ]
    },
    {
     "name": "stdout",
     "output_type": "stream",
     "text": [
      "Got the result from ./1/test/filtrations/4/RadialFiltration_51_38/gray/features.npy"
     ]
    },
    {
     "name": "stderr",
     "output_type": "stream",
     "text": [
      "\n"
     ]
    },
    {
     "name": "stdout",
     "output_type": "stream",
     "text": [
      "\n",
      "Got the result from ./1/test/filtrations/4/RadialFiltration_51_38/red/features.npy\n",
      "Got the result from ./1/test/filtrations/4/RadialFiltration_51_38/green/features.npy\n",
      "Got the result from ./1/test/filtrations/4/RadialFiltration_51_38/blue/features.npy\n",
      "Applying filtration 48/72: 4/RadialFiltration_51_51\n",
      "RGB images received. Transforming to grayscale.\n"
     ]
    },
    {
     "name": "stderr",
     "output_type": "stream",
     "text": [
      "rgb2gray: 100%|██████████| 134/134 [00:00<00:00, 5834.98it/s]\n"
     ]
    },
    {
     "name": "stdout",
     "output_type": "stream",
     "text": [
      "Got the result from ./1/test/filtrations/4/RadialFiltration_51_51/gray/features.npy\n",
      "Got the result from ./1/test/filtrations/4/RadialFiltration_51_51/red/features.npy\n",
      "Got the result from ./1/test/filtrations/4/RadialFiltration_51_51/green/features.npy\n",
      "Got the result from ./1/test/filtrations/4/RadialFiltration_51_51/blue/features.npy\n",
      "Applying filtration 49/72: 6/HeightFiltrartion_-1_-1\n",
      "RGB images received. Transforming to grayscale.\n"
     ]
    },
    {
     "name": "stderr",
     "output_type": "stream",
     "text": [
      "rgb2gray: 100%|██████████| 134/134 [00:00<00:00, 5157.72it/s]\n"
     ]
    },
    {
     "name": "stdout",
     "output_type": "stream",
     "text": [
      "Got the result from ./1/test/filtrations/6/HeightFiltrartion_-1_-1/gray/features.npy\n",
      "Got the result from ./1/test/filtrations/6/HeightFiltrartion_-1_-1/red/features.npy\n",
      "Got the result from ./1/test/filtrations/6/HeightFiltrartion_-1_-1/green/features.npy\n",
      "Got the result from ./1/test/filtrations/6/HeightFiltrartion_-1_-1/blue/features.npy\n",
      "Applying filtration 50/72: 6/HeightFiltrartion_1_1\n",
      "RGB images received. Transforming to grayscale.\n"
     ]
    },
    {
     "name": "stderr",
     "output_type": "stream",
     "text": [
      "rgb2gray: 100%|██████████| 134/134 [00:00<00:00, 6381.78it/s]\n"
     ]
    },
    {
     "name": "stdout",
     "output_type": "stream",
     "text": [
      "Got the result from ./1/test/filtrations/6/HeightFiltrartion_1_1/gray/features.npy\n",
      "Got the result from ./1/test/filtrations/6/HeightFiltrartion_1_1/red/features.npy\n",
      "Got the result from ./1/test/filtrations/6/HeightFiltrartion_1_1/green/features.npy\n",
      "Got the result from ./1/test/filtrations/6/HeightFiltrartion_1_1/blue/features.npy\n",
      "Applying filtration 51/72: 6/HeightFiltrartion_1_-1\n",
      "RGB images received. Transforming to grayscale.\n"
     ]
    },
    {
     "name": "stderr",
     "output_type": "stream",
     "text": [
      "rgb2gray: 100%|██████████| 134/134 [00:00<00:00, 4787.04it/s]"
     ]
    },
    {
     "name": "stdout",
     "output_type": "stream",
     "text": [
      "Got the result from ./1/test/filtrations/6/HeightFiltrartion_1_-1/gray/features.npy"
     ]
    },
    {
     "name": "stderr",
     "output_type": "stream",
     "text": [
      "\n"
     ]
    },
    {
     "name": "stdout",
     "output_type": "stream",
     "text": [
      "\n",
      "Got the result from ./1/test/filtrations/6/HeightFiltrartion_1_-1/red/features.npy\n",
      "Got the result from ./1/test/filtrations/6/HeightFiltrartion_1_-1/green/features.npy\n",
      "Got the result from ./1/test/filtrations/6/HeightFiltrartion_1_-1/blue/features.npy\n",
      "Applying filtration 52/72: 6/HeightFiltrartion_-1_1\n",
      "RGB images received. Transforming to grayscale.\n"
     ]
    },
    {
     "name": "stderr",
     "output_type": "stream",
     "text": [
      "rgb2gray: 100%|██████████| 134/134 [00:00<00:00, 6379.60it/s]"
     ]
    },
    {
     "name": "stdout",
     "output_type": "stream",
     "text": [
      "Got the result from ./1/test/filtrations/6/HeightFiltrartion_-1_1/gray/features.npy\n",
      "Got the result from ./1/test/filtrations/6/HeightFiltrartion_-1_1/red/features.npy\n",
      "Got the result from ./1/test/filtrations/6/HeightFiltrartion_-1_1/green/features.npy\n",
      "Got the result from ./1/test/filtrations/6/HeightFiltrartion_-1_1/blue/features.npy\n"
     ]
    },
    {
     "name": "stderr",
     "output_type": "stream",
     "text": [
      "\n"
     ]
    },
    {
     "name": "stdout",
     "output_type": "stream",
     "text": [
      "Applying filtration 53/72: 6/HeightFiltrartion_0_-1\n",
      "RGB images received. Transforming to grayscale.\n"
     ]
    },
    {
     "name": "stderr",
     "output_type": "stream",
     "text": [
      "rgb2gray: 100%|██████████| 134/134 [00:00<00:00, 6687.17it/s]\n"
     ]
    },
    {
     "name": "stdout",
     "output_type": "stream",
     "text": [
      "Got the result from ./1/test/filtrations/6/HeightFiltrartion_0_-1/gray/features.npy\n",
      "Got the result from ./1/test/filtrations/6/HeightFiltrartion_0_-1/red/features.npy\n",
      "Got the result from ./1/test/filtrations/6/HeightFiltrartion_0_-1/green/features.npy\n",
      "Got the result from ./1/test/filtrations/6/HeightFiltrartion_0_-1/blue/features.npy\n",
      "Applying filtration 54/72: 6/HeightFiltrartion_0_1\n",
      "RGB images received. Transforming to grayscale.\n"
     ]
    },
    {
     "name": "stderr",
     "output_type": "stream",
     "text": [
      "rgb2gray: 100%|██████████| 134/134 [00:00<00:00, 7052.26it/s]"
     ]
    },
    {
     "name": "stdout",
     "output_type": "stream",
     "text": [
      "Got the result from ./1/test/filtrations/6/HeightFiltrartion_0_1/gray/features.npy\n"
     ]
    },
    {
     "name": "stderr",
     "output_type": "stream",
     "text": [
      "\n"
     ]
    },
    {
     "name": "stdout",
     "output_type": "stream",
     "text": [
      "Got the result from ./1/test/filtrations/6/HeightFiltrartion_0_1/red/features.npy\n",
      "Got the result from ./1/test/filtrations/6/HeightFiltrartion_0_1/green/features.npy\n",
      "Got the result from ./1/test/filtrations/6/HeightFiltrartion_0_1/blue/features.npy\n",
      "Applying filtration 55/72: 6/HeightFiltrartion_-1_0\n",
      "RGB images received. Transforming to grayscale.\n"
     ]
    },
    {
     "name": "stderr",
     "output_type": "stream",
     "text": [
      "rgb2gray: 100%|██████████| 134/134 [00:00<00:00, 6091.55it/s]\n"
     ]
    },
    {
     "name": "stdout",
     "output_type": "stream",
     "text": [
      "Got the result from ./1/test/filtrations/6/HeightFiltrartion_-1_0/gray/features.npy\n",
      "Got the result from ./1/test/filtrations/6/HeightFiltrartion_-1_0/red/features.npy\n",
      "Got the result from ./1/test/filtrations/6/HeightFiltrartion_-1_0/green/features.npy\n",
      "Got the result from ./1/test/filtrations/6/HeightFiltrartion_-1_0/blue/features.npy\n",
      "Applying filtration 56/72: 6/HeightFiltrartion_1_0\n",
      "RGB images received. Transforming to grayscale.\n"
     ]
    },
    {
     "name": "stderr",
     "output_type": "stream",
     "text": [
      "rgb2gray: 100%|██████████| 134/134 [00:00<00:00, 5583.52it/s]\n"
     ]
    },
    {
     "name": "stdout",
     "output_type": "stream",
     "text": [
      "Got the result from ./1/test/filtrations/6/HeightFiltrartion_1_0/gray/features.npy\n",
      "Got the result from ./1/test/filtrations/6/HeightFiltrartion_1_0/red/features.npy\n",
      "Got the result from ./1/test/filtrations/6/HeightFiltrartion_1_0/green/features.npy\n",
      "Got the result from ./1/test/filtrations/6/HeightFiltrartion_1_0/blue/features.npy\n",
      "Applying filtration 57/72: 6/RadialFiltration_12_12\n",
      "RGB images received. Transforming to grayscale.\n"
     ]
    },
    {
     "name": "stderr",
     "output_type": "stream",
     "text": [
      "rgb2gray: 100%|██████████| 134/134 [00:00<00:00, 6700.25it/s]"
     ]
    },
    {
     "name": "stdout",
     "output_type": "stream",
     "text": [
      "Got the result from ./1/test/filtrations/6/RadialFiltration_12_12/gray/features.npy"
     ]
    },
    {
     "name": "stderr",
     "output_type": "stream",
     "text": [
      "\n"
     ]
    },
    {
     "name": "stdout",
     "output_type": "stream",
     "text": [
      "\n",
      "Got the result from ./1/test/filtrations/6/RadialFiltration_12_12/red/features.npy\n",
      "Got the result from ./1/test/filtrations/6/RadialFiltration_12_12/green/features.npy\n",
      "Got the result from ./1/test/filtrations/6/RadialFiltration_12_12/blue/features.npy\n",
      "Applying filtration 58/72: 6/RadialFiltration_12_25\n",
      "RGB images received. Transforming to grayscale.\n"
     ]
    },
    {
     "name": "stderr",
     "output_type": "stream",
     "text": [
      "rgb2gray: 100%|██████████| 134/134 [00:00<00:00, 5359.83it/s]\n"
     ]
    },
    {
     "name": "stdout",
     "output_type": "stream",
     "text": [
      "Got the result from ./1/test/filtrations/6/RadialFiltration_12_25/gray/features.npy\n",
      "Got the result from ./1/test/filtrations/6/RadialFiltration_12_25/red/features.npy\n",
      "Got the result from ./1/test/filtrations/6/RadialFiltration_12_25/green/features.npy\n",
      "Got the result from ./1/test/filtrations/6/RadialFiltration_12_25/blue/features.npy\n",
      "Applying filtration 59/72: 6/RadialFiltration_12_38\n",
      "RGB images received. Transforming to grayscale.\n"
     ]
    },
    {
     "name": "stderr",
     "output_type": "stream",
     "text": [
      "rgb2gray: 100%|██████████| 134/134 [00:00<00:00, 4471.79it/s]\n"
     ]
    },
    {
     "name": "stdout",
     "output_type": "stream",
     "text": [
      "Got the result from ./1/test/filtrations/6/RadialFiltration_12_38/gray/features.npy\n",
      "Got the result from ./1/test/filtrations/6/RadialFiltration_12_38/red/features.npy\n",
      "Got the result from ./1/test/filtrations/6/RadialFiltration_12_38/green/features.npy\n",
      "Got the result from ./1/test/filtrations/6/RadialFiltration_12_38/blue/features.npy\n",
      "Applying filtration 60/72: 6/RadialFiltration_12_51\n",
      "RGB images received. Transforming to grayscale.\n"
     ]
    },
    {
     "name": "stderr",
     "output_type": "stream",
     "text": [
      "rgb2gray: 100%|██████████| 134/134 [00:00<00:00, 5582.07it/s]\n"
     ]
    },
    {
     "name": "stdout",
     "output_type": "stream",
     "text": [
      "Got the result from ./1/test/filtrations/6/RadialFiltration_12_51/gray/features.npy\n",
      "Got the result from ./1/test/filtrations/6/RadialFiltration_12_51/red/features.npy\n",
      "Got the result from ./1/test/filtrations/6/RadialFiltration_12_51/green/features.npy\n",
      "Got the result from ./1/test/filtrations/6/RadialFiltration_12_51/blue/features.npy\n",
      "Applying filtration 61/72: 6/RadialFiltration_25_12\n",
      "RGB images received. Transforming to grayscale.\n"
     ]
    },
    {
     "name": "stderr",
     "output_type": "stream",
     "text": [
      "rgb2gray: 100%|██████████| 134/134 [00:00<00:00, 5363.25it/s]\n"
     ]
    },
    {
     "name": "stdout",
     "output_type": "stream",
     "text": [
      "Got the result from ./1/test/filtrations/6/RadialFiltration_25_12/gray/features.npy\n",
      "Got the result from ./1/test/filtrations/6/RadialFiltration_25_12/red/features.npy\n",
      "Got the result from ./1/test/filtrations/6/RadialFiltration_25_12/green/features.npy\n",
      "Got the result from ./1/test/filtrations/6/RadialFiltration_25_12/blue/features.npy\n",
      "Applying filtration 62/72: 6/RadialFiltration_25_25\n",
      "RGB images received. Transforming to grayscale.\n"
     ]
    },
    {
     "name": "stderr",
     "output_type": "stream",
     "text": [
      "rgb2gray: 100%|██████████| 134/134 [00:00<00:00, 5154.65it/s]\n"
     ]
    },
    {
     "name": "stdout",
     "output_type": "stream",
     "text": [
      "Got the result from ./1/test/filtrations/6/RadialFiltration_25_25/gray/features.npy\n",
      "Got the result from ./1/test/filtrations/6/RadialFiltration_25_25/red/features.npy\n",
      "Got the result from ./1/test/filtrations/6/RadialFiltration_25_25/green/features.npy\n",
      "Got the result from ./1/test/filtrations/6/RadialFiltration_25_25/blue/features.npy\n",
      "Applying filtration 63/72: 6/RadialFiltration_25_38\n",
      "RGB images received. Transforming to grayscale.\n"
     ]
    },
    {
     "name": "stderr",
     "output_type": "stream",
     "text": [
      "rgb2gray: 100%|██████████| 134/134 [00:00<00:00, 5825.78it/s]"
     ]
    },
    {
     "name": "stdout",
     "output_type": "stream",
     "text": [
      "Got the result from ./1/test/filtrations/6/RadialFiltration_25_38/gray/features.npy\n"
     ]
    },
    {
     "name": "stderr",
     "output_type": "stream",
     "text": [
      "\n"
     ]
    },
    {
     "name": "stdout",
     "output_type": "stream",
     "text": [
      "Got the result from ./1/test/filtrations/6/RadialFiltration_25_38/red/features.npy\n",
      "Got the result from ./1/test/filtrations/6/RadialFiltration_25_38/green/features.npy\n",
      "Got the result from ./1/test/filtrations/6/RadialFiltration_25_38/blue/features.npy\n",
      "Applying filtration 64/72: 6/RadialFiltration_25_51\n",
      "RGB images received. Transforming to grayscale.\n"
     ]
    },
    {
     "name": "stderr",
     "output_type": "stream",
     "text": [
      "rgb2gray: 100%|██████████| 134/134 [00:00<00:00, 4962.10it/s]\n"
     ]
    },
    {
     "name": "stdout",
     "output_type": "stream",
     "text": [
      "Got the result from ./1/test/filtrations/6/RadialFiltration_25_51/gray/features.npy\n",
      "Got the result from ./1/test/filtrations/6/RadialFiltration_25_51/red/features.npy\n",
      "Got the result from ./1/test/filtrations/6/RadialFiltration_25_51/green/features.npy\n",
      "Got the result from ./1/test/filtrations/6/RadialFiltration_25_51/blue/features.npy\n",
      "Applying filtration 65/72: 6/RadialFiltration_38_12\n",
      "RGB images received. Transforming to grayscale.\n"
     ]
    },
    {
     "name": "stderr",
     "output_type": "stream",
     "text": [
      "rgb2gray: 100%|██████████| 134/134 [00:00<00:00, 5361.05it/s]"
     ]
    },
    {
     "name": "stdout",
     "output_type": "stream",
     "text": [
      "Got the result from ./1/test/filtrations/6/RadialFiltration_38_12/gray/features.npy"
     ]
    },
    {
     "name": "stderr",
     "output_type": "stream",
     "text": [
      "\n"
     ]
    },
    {
     "name": "stdout",
     "output_type": "stream",
     "text": [
      "\n",
      "Got the result from ./1/test/filtrations/6/RadialFiltration_38_12/red/features.npy\n",
      "Got the result from ./1/test/filtrations/6/RadialFiltration_38_12/green/features.npy\n",
      "Got the result from ./1/test/filtrations/6/RadialFiltration_38_12/blue/features.npy\n",
      "Applying filtration 66/72: 6/RadialFiltration_38_25\n",
      "RGB images received. Transforming to grayscale.\n"
     ]
    },
    {
     "name": "stderr",
     "output_type": "stream",
     "text": [
      "rgb2gray: 100%|██████████| 134/134 [00:00<00:00, 6080.87it/s]\n"
     ]
    },
    {
     "name": "stdout",
     "output_type": "stream",
     "text": [
      "Got the result from ./1/test/filtrations/6/RadialFiltration_38_25/gray/features.npy\n",
      "Got the result from ./1/test/filtrations/6/RadialFiltration_38_25/red/features.npy\n",
      "Got the result from ./1/test/filtrations/6/RadialFiltration_38_25/green/features.npy\n",
      "Got the result from ./1/test/filtrations/6/RadialFiltration_38_25/blue/features.npy\n",
      "Applying filtration 67/72: 6/RadialFiltration_38_38\n",
      "RGB images received. Transforming to grayscale.\n"
     ]
    },
    {
     "name": "stderr",
     "output_type": "stream",
     "text": [
      "rgb2gray: 100%|██████████| 134/134 [00:00<00:00, 5583.02it/s]\n"
     ]
    },
    {
     "name": "stdout",
     "output_type": "stream",
     "text": [
      "Got the result from ./1/test/filtrations/6/RadialFiltration_38_38/gray/features.npy\n",
      "Got the result from ./1/test/filtrations/6/RadialFiltration_38_38/red/features.npy\n",
      "Got the result from ./1/test/filtrations/6/RadialFiltration_38_38/green/features.npy\n",
      "Got the result from ./1/test/filtrations/6/RadialFiltration_38_38/blue/features.npy\n",
      "Applying filtration 68/72: 6/RadialFiltration_38_51\n",
      "RGB images received. Transforming to grayscale.\n"
     ]
    },
    {
     "name": "stderr",
     "output_type": "stream",
     "text": [
      "rgb2gray: 100%|██████████| 134/134 [00:00<00:00, 4327.12it/s]"
     ]
    },
    {
     "name": "stdout",
     "output_type": "stream",
     "text": [
      "Got the result from ./1/test/filtrations/6/RadialFiltration_38_51/gray/features.npy"
     ]
    },
    {
     "name": "stderr",
     "output_type": "stream",
     "text": [
      "\n"
     ]
    },
    {
     "name": "stdout",
     "output_type": "stream",
     "text": [
      "\n",
      "Got the result from ./1/test/filtrations/6/RadialFiltration_38_51/red/features.npy\n",
      "Got the result from ./1/test/filtrations/6/RadialFiltration_38_51/green/features.npy\n",
      "Got the result from ./1/test/filtrations/6/RadialFiltration_38_51/blue/features.npy\n",
      "Applying filtration 69/72: 6/RadialFiltration_51_12\n",
      "RGB images received. Transforming to grayscale.\n"
     ]
    },
    {
     "name": "stderr",
     "output_type": "stream",
     "text": [
      "rgb2gray: 100%|██████████| 134/134 [00:00<00:00, 4969.38it/s]\n"
     ]
    },
    {
     "name": "stdout",
     "output_type": "stream",
     "text": [
      "Got the result from ./1/test/filtrations/6/RadialFiltration_51_12/gray/features.npy\n",
      "Got the result from ./1/test/filtrations/6/RadialFiltration_51_12/red/features.npy\n",
      "Got the result from ./1/test/filtrations/6/RadialFiltration_51_12/green/features.npy\n",
      "Got the result from ./1/test/filtrations/6/RadialFiltration_51_12/blue/features.npy\n",
      "Applying filtration 70/72: 6/RadialFiltration_51_25\n",
      "RGB images received. Transforming to grayscale.\n"
     ]
    },
    {
     "name": "stderr",
     "output_type": "stream",
     "text": [
      "rgb2gray: 100%|██████████| 134/134 [00:00<00:00, 6702.08it/s]\n"
     ]
    },
    {
     "name": "stdout",
     "output_type": "stream",
     "text": [
      "Got the result from ./1/test/filtrations/6/RadialFiltration_51_25/gray/features.npy\n",
      "Got the result from ./1/test/filtrations/6/RadialFiltration_51_25/red/features.npy\n",
      "Got the result from ./1/test/filtrations/6/RadialFiltration_51_25/green/features.npy\n",
      "Got the result from ./1/test/filtrations/6/RadialFiltration_51_25/blue/features.npy\n",
      "Applying filtration 71/72: 6/RadialFiltration_51_38\n",
      "RGB images received. Transforming to grayscale.\n"
     ]
    },
    {
     "name": "stderr",
     "output_type": "stream",
     "text": [
      "rgb2gray: 100%|██████████| 134/134 [00:00<00:00, 6696.33it/s]"
     ]
    },
    {
     "name": "stdout",
     "output_type": "stream",
     "text": [
      "Got the result from ./1/test/filtrations/6/RadialFiltration_51_38/gray/features.npy"
     ]
    },
    {
     "name": "stderr",
     "output_type": "stream",
     "text": [
      "\n"
     ]
    },
    {
     "name": "stdout",
     "output_type": "stream",
     "text": [
      "\n",
      "Got the result from ./1/test/filtrations/6/RadialFiltration_51_38/red/features.npy\n",
      "Got the result from ./1/test/filtrations/6/RadialFiltration_51_38/green/features.npy\n",
      "Got the result from ./1/test/filtrations/6/RadialFiltration_51_38/blue/features.npy\n",
      "Applying filtration 72/72: 6/RadialFiltration_51_51\n",
      "RGB images received. Transforming to grayscale.\n"
     ]
    },
    {
     "name": "stderr",
     "output_type": "stream",
     "text": [
      "rgb2gray: 100%|██████████| 134/134 [00:00<00:00, 6379.39it/s]"
     ]
    },
    {
     "name": "stdout",
     "output_type": "stream",
     "text": [
      "Got the result from ./1/test/filtrations/6/RadialFiltration_51_51/gray/features.npy"
     ]
    },
    {
     "name": "stderr",
     "output_type": "stream",
     "text": [
      "\n"
     ]
    },
    {
     "name": "stdout",
     "output_type": "stream",
     "text": [
      "\n",
      "Got the result from ./1/test/filtrations/6/RadialFiltration_51_51/red/features.npy\n",
      "Got the result from ./1/test/filtrations/6/RadialFiltration_51_51/green/features.npy\n",
      "Got the result from ./1/test/filtrations/6/RadialFiltration_51_51/blue/features.npy\n",
      "RGB images received. Transforming to grayscale.\n",
      "Got the result from ./1/test/geometry/rgb/features.npy\n"
     ]
    },
    {
     "name": "stderr",
     "output_type": "stream",
     "text": [
      "rgb2gray: 100%|██████████| 134/134 [00:00<00:00, 3941.43it/s]\n"
     ]
    },
    {
     "name": "stdout",
     "output_type": "stream",
     "text": [
      "Got the result from ./1/test/geometry/gray/features.npy\n",
      "Got the result from ./1/test/geometry/red/features.npy\n",
      "Got the result from ./1/test/geometry/green/features.npy\n",
      "Got the result from ./1/test/geometry/blue/features.npy\n",
      "Applying StandardScaler.\n"
     ]
    }
   ],
   "source": [
    "import cvtda.topology\n",
    "extractor = cvtda.topology.FeatureExtractor(only_get_from_dump = True, return_diagrams = False)\n",
    "extractor = extractor.fit(train_images, \"1/train\")\n",
    "train_features = extractor.transform(train_images, \"1/train\")\n",
    "test_features = extractor.transform(test_images, \"1/test\")"
   ]
  },
  {
   "cell_type": "code",
   "execution_count": 4,
   "metadata": {},
   "outputs": [
    {
     "name": "stdout",
     "output_type": "stream",
     "text": [
      "Calculating inverted images\n",
      "RGB images received. Transforming to grayscale.\n"
     ]
    },
    {
     "name": "stderr",
     "output_type": "stream",
     "text": [
      "rgb2gray: 100%|██████████| 9030/9030 [00:01<00:00, 5137.73it/s]\n"
     ]
    },
    {
     "name": "stdout",
     "output_type": "stream",
     "text": [
      "Got the result from ./1/train/greyscale/gray/diagrams.npy\n",
      "Applying Scaler to persistence diagrams.\n",
      "Got the result from ./1/train/greyscale/gray/diagrams.npy\n",
      "Applying Scaler to persistence diagrams.\n",
      "Got the result from ./1/train/greyscale/red/diagrams.npy\n",
      "Applying Scaler to persistence diagrams.\n",
      "Got the result from ./1/train/greyscale/red/diagrams.npy\n",
      "Applying Scaler to persistence diagrams.\n",
      "Got the result from ./1/train/greyscale/green/diagrams.npy\n",
      "Applying Scaler to persistence diagrams.\n",
      "Got the result from ./1/train/greyscale/green/diagrams.npy\n",
      "Applying Scaler to persistence diagrams.\n",
      "Got the result from ./1/train/greyscale/blue/diagrams.npy\n",
      "Applying Scaler to persistence diagrams.\n",
      "Got the result from ./1/train/greyscale/blue/diagrams.npy\n",
      "Applying Scaler to persistence diagrams.\n",
      "RGB images received. Transforming to grayscale.\n"
     ]
    },
    {
     "name": "stderr",
     "output_type": "stream",
     "text": [
      "rgb2gray: 100%|██████████| 9030/9030 [00:01<00:00, 5137.72it/s]\n"
     ]
    },
    {
     "name": "stdout",
     "output_type": "stream",
     "text": [
      "Got the result from ./1/train/greyscale/gray/diagrams.npy\n",
      "Applying Scaler to persistence diagrams.\n",
      "Got the result from ./1/train/greyscale/red/diagrams.npy\n",
      "Applying Scaler to persistence diagrams.\n",
      "Got the result from ./1/train/greyscale/green/diagrams.npy\n",
      "Applying Scaler to persistence diagrams.\n",
      "Got the result from ./1/train/greyscale/blue/diagrams.npy\n",
      "Applying Scaler to persistence diagrams.\n",
      "RGB images received. Transforming to grayscale.\n"
     ]
    },
    {
     "name": "stderr",
     "output_type": "stream",
     "text": [
      "rgb2gray: 100%|██████████| 9030/9030 [00:01<00:00, 5543.28it/s]\n"
     ]
    },
    {
     "name": "stdout",
     "output_type": "stream",
     "text": [
      "Got the result from ./1/train/inverted_greyscale/gray/diagrams.npy\n",
      "Applying Scaler to persistence diagrams.\n",
      "Got the result from ./1/train/inverted_greyscale/gray/diagrams.npy\n",
      "Applying Scaler to persistence diagrams.\n",
      "Got the result from ./1/train/inverted_greyscale/red/diagrams.npy\n",
      "Applying Scaler to persistence diagrams.\n",
      "Got the result from ./1/train/inverted_greyscale/red/diagrams.npy\n",
      "Applying Scaler to persistence diagrams.\n",
      "Got the result from ./1/train/inverted_greyscale/green/diagrams.npy\n",
      "Applying Scaler to persistence diagrams.\n",
      "Got the result from ./1/train/inverted_greyscale/green/diagrams.npy\n",
      "Applying Scaler to persistence diagrams.\n",
      "Got the result from ./1/train/inverted_greyscale/blue/diagrams.npy\n",
      "Applying Scaler to persistence diagrams.\n",
      "Got the result from ./1/train/inverted_greyscale/blue/diagrams.npy\n",
      "Applying Scaler to persistence diagrams.\n",
      "RGB images received. Transforming to grayscale.\n"
     ]
    },
    {
     "name": "stderr",
     "output_type": "stream",
     "text": [
      "rgb2gray: 100%|██████████| 9030/9030 [00:01<00:00, 5592.65it/s]\n"
     ]
    },
    {
     "name": "stdout",
     "output_type": "stream",
     "text": [
      "Got the result from ./1/train/inverted_greyscale/gray/diagrams.npy\n",
      "Applying Scaler to persistence diagrams.\n",
      "Got the result from ./1/train/inverted_greyscale/red/diagrams.npy\n",
      "Applying Scaler to persistence diagrams.\n",
      "Got the result from ./1/train/inverted_greyscale/green/diagrams.npy\n",
      "Applying Scaler to persistence diagrams.\n",
      "Got the result from ./1/train/inverted_greyscale/blue/diagrams.npy\n",
      "Applying Scaler to persistence diagrams.\n",
      "Fitting filtrations\n",
      "Calculated radial centers for images of size 64x64: [12 25 38 51]x[12 25 38 51]\n",
      "Fitting filtration 1/72: 2/HeightFiltrartion_-1_-1\n",
      "RGB images received. Transforming to grayscale.\n"
     ]
    },
    {
     "name": "stderr",
     "output_type": "stream",
     "text": [
      "rgb2gray: 100%|██████████| 9030/9030 [00:01<00:00, 5233.13it/s]\n"
     ]
    },
    {
     "name": "stdout",
     "output_type": "stream",
     "text": [
      "Got the result from ./1/train/filtrations/2/HeightFiltrartion_-1_-1/gray/diagrams.npy\n",
      "Applying Scaler to persistence diagrams.\n",
      "Got the result from ./1/train/filtrations/2/HeightFiltrartion_-1_-1/gray/diagrams.npy\n",
      "Applying Scaler to persistence diagrams.\n",
      "Got the result from ./1/train/filtrations/2/HeightFiltrartion_-1_-1/red/diagrams.npy\n",
      "Applying Scaler to persistence diagrams.\n",
      "Got the result from ./1/train/filtrations/2/HeightFiltrartion_-1_-1/red/diagrams.npy\n",
      "Applying Scaler to persistence diagrams.\n",
      "Got the result from ./1/train/filtrations/2/HeightFiltrartion_-1_-1/green/diagrams.npy\n",
      "Applying Scaler to persistence diagrams.\n",
      "Got the result from ./1/train/filtrations/2/HeightFiltrartion_-1_-1/green/diagrams.npy\n",
      "Applying Scaler to persistence diagrams.\n",
      "Got the result from ./1/train/filtrations/2/HeightFiltrartion_-1_-1/blue/diagrams.npy\n",
      "Applying Scaler to persistence diagrams.\n",
      "Got the result from ./1/train/filtrations/2/HeightFiltrartion_-1_-1/blue/diagrams.npy\n",
      "Applying Scaler to persistence diagrams.\n",
      "Fitting filtration 2/72: 2/HeightFiltrartion_1_1\n",
      "RGB images received. Transforming to grayscale.\n"
     ]
    },
    {
     "name": "stderr",
     "output_type": "stream",
     "text": [
      "rgb2gray: 100%|██████████| 9030/9030 [00:01<00:00, 5154.14it/s]\n"
     ]
    },
    {
     "name": "stdout",
     "output_type": "stream",
     "text": [
      "Got the result from ./1/train/filtrations/2/HeightFiltrartion_1_1/gray/diagrams.npy\n",
      "Applying Scaler to persistence diagrams.\n",
      "Got the result from ./1/train/filtrations/2/HeightFiltrartion_1_1/gray/diagrams.npy\n",
      "Applying Scaler to persistence diagrams.\n",
      "Got the result from ./1/train/filtrations/2/HeightFiltrartion_1_1/red/diagrams.npy\n",
      "Applying Scaler to persistence diagrams.\n",
      "Got the result from ./1/train/filtrations/2/HeightFiltrartion_1_1/red/diagrams.npy\n",
      "Applying Scaler to persistence diagrams.\n",
      "Got the result from ./1/train/filtrations/2/HeightFiltrartion_1_1/green/diagrams.npy\n",
      "Applying Scaler to persistence diagrams.\n",
      "Got the result from ./1/train/filtrations/2/HeightFiltrartion_1_1/green/diagrams.npy\n",
      "Applying Scaler to persistence diagrams.\n",
      "Got the result from ./1/train/filtrations/2/HeightFiltrartion_1_1/blue/diagrams.npy\n",
      "Applying Scaler to persistence diagrams.\n",
      "Got the result from ./1/train/filtrations/2/HeightFiltrartion_1_1/blue/diagrams.npy\n",
      "Applying Scaler to persistence diagrams.\n",
      "Fitting filtration 3/72: 2/HeightFiltrartion_1_-1\n",
      "RGB images received. Transforming to grayscale.\n"
     ]
    },
    {
     "name": "stderr",
     "output_type": "stream",
     "text": [
      "rgb2gray: 100%|██████████| 9030/9030 [00:01<00:00, 5424.87it/s]\n"
     ]
    },
    {
     "name": "stdout",
     "output_type": "stream",
     "text": [
      "Got the result from ./1/train/filtrations/2/HeightFiltrartion_1_-1/gray/diagrams.npy\n",
      "Applying Scaler to persistence diagrams.\n",
      "Got the result from ./1/train/filtrations/2/HeightFiltrartion_1_-1/gray/diagrams.npy\n",
      "Applying Scaler to persistence diagrams.\n",
      "Got the result from ./1/train/filtrations/2/HeightFiltrartion_1_-1/red/diagrams.npy\n",
      "Applying Scaler to persistence diagrams.\n",
      "Got the result from ./1/train/filtrations/2/HeightFiltrartion_1_-1/red/diagrams.npy\n",
      "Applying Scaler to persistence diagrams.\n",
      "Got the result from ./1/train/filtrations/2/HeightFiltrartion_1_-1/green/diagrams.npy\n",
      "Applying Scaler to persistence diagrams.\n",
      "Got the result from ./1/train/filtrations/2/HeightFiltrartion_1_-1/green/diagrams.npy\n",
      "Applying Scaler to persistence diagrams.\n",
      "Got the result from ./1/train/filtrations/2/HeightFiltrartion_1_-1/blue/diagrams.npy\n",
      "Applying Scaler to persistence diagrams.\n",
      "Got the result from ./1/train/filtrations/2/HeightFiltrartion_1_-1/blue/diagrams.npy\n",
      "Applying Scaler to persistence diagrams.\n",
      "Fitting filtration 4/72: 2/HeightFiltrartion_-1_1\n",
      "RGB images received. Transforming to grayscale.\n"
     ]
    },
    {
     "name": "stderr",
     "output_type": "stream",
     "text": [
      "rgb2gray: 100%|██████████| 9030/9030 [00:01<00:00, 5219.64it/s]\n"
     ]
    },
    {
     "name": "stdout",
     "output_type": "stream",
     "text": [
      "Got the result from ./1/train/filtrations/2/HeightFiltrartion_-1_1/gray/diagrams.npy\n",
      "Applying Scaler to persistence diagrams.\n",
      "Got the result from ./1/train/filtrations/2/HeightFiltrartion_-1_1/gray/diagrams.npy\n",
      "Applying Scaler to persistence diagrams.\n",
      "Got the result from ./1/train/filtrations/2/HeightFiltrartion_-1_1/red/diagrams.npy\n",
      "Applying Scaler to persistence diagrams.\n",
      "Got the result from ./1/train/filtrations/2/HeightFiltrartion_-1_1/red/diagrams.npy\n",
      "Applying Scaler to persistence diagrams.\n",
      "Got the result from ./1/train/filtrations/2/HeightFiltrartion_-1_1/green/diagrams.npy\n",
      "Applying Scaler to persistence diagrams.\n",
      "Got the result from ./1/train/filtrations/2/HeightFiltrartion_-1_1/green/diagrams.npy\n",
      "Applying Scaler to persistence diagrams.\n",
      "Got the result from ./1/train/filtrations/2/HeightFiltrartion_-1_1/blue/diagrams.npy\n",
      "Applying Scaler to persistence diagrams.\n",
      "Got the result from ./1/train/filtrations/2/HeightFiltrartion_-1_1/blue/diagrams.npy\n",
      "Applying Scaler to persistence diagrams.\n",
      "Fitting filtration 5/72: 2/HeightFiltrartion_0_-1\n",
      "RGB images received. Transforming to grayscale.\n"
     ]
    },
    {
     "name": "stderr",
     "output_type": "stream",
     "text": [
      "rgb2gray: 100%|██████████| 9030/9030 [00:01<00:00, 5001.15it/s]\n"
     ]
    },
    {
     "name": "stdout",
     "output_type": "stream",
     "text": [
      "Got the result from ./1/train/filtrations/2/HeightFiltrartion_0_-1/gray/diagrams.npy\n",
      "Applying Scaler to persistence diagrams.\n",
      "Got the result from ./1/train/filtrations/2/HeightFiltrartion_0_-1/gray/diagrams.npy\n",
      "Applying Scaler to persistence diagrams.\n",
      "Got the result from ./1/train/filtrations/2/HeightFiltrartion_0_-1/red/diagrams.npy\n",
      "Applying Scaler to persistence diagrams.\n",
      "Got the result from ./1/train/filtrations/2/HeightFiltrartion_0_-1/red/diagrams.npy\n",
      "Applying Scaler to persistence diagrams.\n",
      "Got the result from ./1/train/filtrations/2/HeightFiltrartion_0_-1/green/diagrams.npy\n",
      "Applying Scaler to persistence diagrams.\n",
      "Got the result from ./1/train/filtrations/2/HeightFiltrartion_0_-1/green/diagrams.npy\n",
      "Applying Scaler to persistence diagrams.\n",
      "Got the result from ./1/train/filtrations/2/HeightFiltrartion_0_-1/blue/diagrams.npy\n",
      "Applying Scaler to persistence diagrams.\n",
      "Got the result from ./1/train/filtrations/2/HeightFiltrartion_0_-1/blue/diagrams.npy\n",
      "Applying Scaler to persistence diagrams.\n",
      "Fitting filtration 6/72: 2/HeightFiltrartion_0_1\n",
      "RGB images received. Transforming to grayscale.\n"
     ]
    },
    {
     "name": "stderr",
     "output_type": "stream",
     "text": [
      "rgb2gray: 100%|██████████| 9030/9030 [00:01<00:00, 5213.63it/s]\n"
     ]
    },
    {
     "name": "stdout",
     "output_type": "stream",
     "text": [
      "Got the result from ./1/train/filtrations/2/HeightFiltrartion_0_1/gray/diagrams.npy\n",
      "Applying Scaler to persistence diagrams.\n",
      "Got the result from ./1/train/filtrations/2/HeightFiltrartion_0_1/gray/diagrams.npy\n",
      "Applying Scaler to persistence diagrams.\n",
      "Got the result from ./1/train/filtrations/2/HeightFiltrartion_0_1/red/diagrams.npy\n",
      "Applying Scaler to persistence diagrams.\n",
      "Got the result from ./1/train/filtrations/2/HeightFiltrartion_0_1/red/diagrams.npy\n",
      "Applying Scaler to persistence diagrams.\n",
      "Got the result from ./1/train/filtrations/2/HeightFiltrartion_0_1/green/diagrams.npy\n",
      "Applying Scaler to persistence diagrams.\n",
      "Got the result from ./1/train/filtrations/2/HeightFiltrartion_0_1/green/diagrams.npy\n",
      "Applying Scaler to persistence diagrams.\n",
      "Got the result from ./1/train/filtrations/2/HeightFiltrartion_0_1/blue/diagrams.npy\n",
      "Applying Scaler to persistence diagrams.\n",
      "Got the result from ./1/train/filtrations/2/HeightFiltrartion_0_1/blue/diagrams.npy\n",
      "Applying Scaler to persistence diagrams.\n",
      "Fitting filtration 7/72: 2/HeightFiltrartion_-1_0\n",
      "RGB images received. Transforming to grayscale.\n"
     ]
    },
    {
     "name": "stderr",
     "output_type": "stream",
     "text": [
      "rgb2gray: 100%|██████████| 9030/9030 [00:01<00:00, 5363.70it/s]\n"
     ]
    },
    {
     "name": "stdout",
     "output_type": "stream",
     "text": [
      "Got the result from ./1/train/filtrations/2/HeightFiltrartion_-1_0/gray/diagrams.npy\n",
      "Applying Scaler to persistence diagrams.\n",
      "Got the result from ./1/train/filtrations/2/HeightFiltrartion_-1_0/gray/diagrams.npy\n",
      "Applying Scaler to persistence diagrams.\n",
      "Got the result from ./1/train/filtrations/2/HeightFiltrartion_-1_0/red/diagrams.npy\n",
      "Applying Scaler to persistence diagrams.\n",
      "Got the result from ./1/train/filtrations/2/HeightFiltrartion_-1_0/red/diagrams.npy\n",
      "Applying Scaler to persistence diagrams.\n",
      "Got the result from ./1/train/filtrations/2/HeightFiltrartion_-1_0/green/diagrams.npy\n",
      "Applying Scaler to persistence diagrams.\n",
      "Got the result from ./1/train/filtrations/2/HeightFiltrartion_-1_0/green/diagrams.npy\n",
      "Applying Scaler to persistence diagrams.\n",
      "Got the result from ./1/train/filtrations/2/HeightFiltrartion_-1_0/blue/diagrams.npy\n",
      "Applying Scaler to persistence diagrams.\n",
      "Got the result from ./1/train/filtrations/2/HeightFiltrartion_-1_0/blue/diagrams.npy\n",
      "Applying Scaler to persistence diagrams.\n",
      "Fitting filtration 8/72: 2/HeightFiltrartion_1_0\n",
      "RGB images received. Transforming to grayscale.\n"
     ]
    },
    {
     "name": "stderr",
     "output_type": "stream",
     "text": [
      "rgb2gray: 100%|██████████| 9030/9030 [00:01<00:00, 5431.29it/s]\n"
     ]
    },
    {
     "name": "stdout",
     "output_type": "stream",
     "text": [
      "Got the result from ./1/train/filtrations/2/HeightFiltrartion_1_0/gray/diagrams.npy\n",
      "Applying Scaler to persistence diagrams.\n",
      "Got the result from ./1/train/filtrations/2/HeightFiltrartion_1_0/gray/diagrams.npy\n",
      "Applying Scaler to persistence diagrams.\n",
      "Got the result from ./1/train/filtrations/2/HeightFiltrartion_1_0/red/diagrams.npy\n",
      "Applying Scaler to persistence diagrams.\n",
      "Got the result from ./1/train/filtrations/2/HeightFiltrartion_1_0/red/diagrams.npy\n",
      "Applying Scaler to persistence diagrams.\n",
      "Got the result from ./1/train/filtrations/2/HeightFiltrartion_1_0/green/diagrams.npy\n",
      "Applying Scaler to persistence diagrams.\n",
      "Got the result from ./1/train/filtrations/2/HeightFiltrartion_1_0/green/diagrams.npy\n",
      "Applying Scaler to persistence diagrams.\n",
      "Got the result from ./1/train/filtrations/2/HeightFiltrartion_1_0/blue/diagrams.npy\n",
      "Applying Scaler to persistence diagrams.\n",
      "Got the result from ./1/train/filtrations/2/HeightFiltrartion_1_0/blue/diagrams.npy\n",
      "Applying Scaler to persistence diagrams.\n",
      "Fitting filtration 9/72: 2/RadialFiltration_12_12\n",
      "RGB images received. Transforming to grayscale.\n"
     ]
    },
    {
     "name": "stderr",
     "output_type": "stream",
     "text": [
      "rgb2gray: 100%|██████████| 9030/9030 [00:01<00:00, 5296.16it/s]\n"
     ]
    },
    {
     "name": "stdout",
     "output_type": "stream",
     "text": [
      "Got the result from ./1/train/filtrations/2/RadialFiltration_12_12/gray/diagrams.npy\n",
      "Applying Scaler to persistence diagrams.\n",
      "Got the result from ./1/train/filtrations/2/RadialFiltration_12_12/gray/diagrams.npy\n",
      "Applying Scaler to persistence diagrams.\n",
      "Got the result from ./1/train/filtrations/2/RadialFiltration_12_12/red/diagrams.npy\n",
      "Applying Scaler to persistence diagrams.\n",
      "Got the result from ./1/train/filtrations/2/RadialFiltration_12_12/red/diagrams.npy\n",
      "Applying Scaler to persistence diagrams.\n",
      "Got the result from ./1/train/filtrations/2/RadialFiltration_12_12/green/diagrams.npy\n",
      "Applying Scaler to persistence diagrams.\n",
      "Got the result from ./1/train/filtrations/2/RadialFiltration_12_12/green/diagrams.npy\n",
      "Applying Scaler to persistence diagrams.\n",
      "Got the result from ./1/train/filtrations/2/RadialFiltration_12_12/blue/diagrams.npy\n",
      "Applying Scaler to persistence diagrams.\n",
      "Got the result from ./1/train/filtrations/2/RadialFiltration_12_12/blue/diagrams.npy\n",
      "Applying Scaler to persistence diagrams.\n",
      "Fitting filtration 10/72: 2/RadialFiltration_12_25\n",
      "RGB images received. Transforming to grayscale.\n"
     ]
    },
    {
     "name": "stderr",
     "output_type": "stream",
     "text": [
      "rgb2gray: 100%|██████████| 9030/9030 [00:01<00:00, 5697.15it/s]\n"
     ]
    },
    {
     "name": "stdout",
     "output_type": "stream",
     "text": [
      "Got the result from ./1/train/filtrations/2/RadialFiltration_12_25/gray/diagrams.npy\n",
      "Applying Scaler to persistence diagrams.\n",
      "Got the result from ./1/train/filtrations/2/RadialFiltration_12_25/gray/diagrams.npy\n",
      "Applying Scaler to persistence diagrams.\n",
      "Got the result from ./1/train/filtrations/2/RadialFiltration_12_25/red/diagrams.npy\n",
      "Applying Scaler to persistence diagrams.\n",
      "Got the result from ./1/train/filtrations/2/RadialFiltration_12_25/red/diagrams.npy\n",
      "Applying Scaler to persistence diagrams.\n",
      "Got the result from ./1/train/filtrations/2/RadialFiltration_12_25/green/diagrams.npy\n",
      "Applying Scaler to persistence diagrams.\n",
      "Got the result from ./1/train/filtrations/2/RadialFiltration_12_25/green/diagrams.npy\n",
      "Applying Scaler to persistence diagrams.\n",
      "Got the result from ./1/train/filtrations/2/RadialFiltration_12_25/blue/diagrams.npy\n",
      "Applying Scaler to persistence diagrams.\n",
      "Got the result from ./1/train/filtrations/2/RadialFiltration_12_25/blue/diagrams.npy\n",
      "Applying Scaler to persistence diagrams.\n",
      "Fitting filtration 11/72: 2/RadialFiltration_12_38\n",
      "RGB images received. Transforming to grayscale.\n"
     ]
    },
    {
     "name": "stderr",
     "output_type": "stream",
     "text": [
      "rgb2gray: 100%|██████████| 9030/9030 [00:01<00:00, 5624.12it/s]\n"
     ]
    },
    {
     "name": "stdout",
     "output_type": "stream",
     "text": [
      "Got the result from ./1/train/filtrations/2/RadialFiltration_12_38/gray/diagrams.npy\n",
      "Applying Scaler to persistence diagrams.\n",
      "Got the result from ./1/train/filtrations/2/RadialFiltration_12_38/gray/diagrams.npy\n",
      "Applying Scaler to persistence diagrams.\n",
      "Got the result from ./1/train/filtrations/2/RadialFiltration_12_38/red/diagrams.npy\n",
      "Applying Scaler to persistence diagrams.\n",
      "Got the result from ./1/train/filtrations/2/RadialFiltration_12_38/red/diagrams.npy\n",
      "Applying Scaler to persistence diagrams.\n",
      "Got the result from ./1/train/filtrations/2/RadialFiltration_12_38/green/diagrams.npy\n",
      "Applying Scaler to persistence diagrams.\n",
      "Got the result from ./1/train/filtrations/2/RadialFiltration_12_38/green/diagrams.npy\n",
      "Applying Scaler to persistence diagrams.\n",
      "Got the result from ./1/train/filtrations/2/RadialFiltration_12_38/blue/diagrams.npy\n",
      "Applying Scaler to persistence diagrams.\n",
      "Got the result from ./1/train/filtrations/2/RadialFiltration_12_38/blue/diagrams.npy\n",
      "Applying Scaler to persistence diagrams.\n",
      "Fitting filtration 12/72: 2/RadialFiltration_12_51\n",
      "RGB images received. Transforming to grayscale.\n"
     ]
    },
    {
     "name": "stderr",
     "output_type": "stream",
     "text": [
      "rgb2gray: 100%|██████████| 9030/9030 [00:01<00:00, 5258.16it/s]\n"
     ]
    },
    {
     "name": "stdout",
     "output_type": "stream",
     "text": [
      "Got the result from ./1/train/filtrations/2/RadialFiltration_12_51/gray/diagrams.npy\n",
      "Applying Scaler to persistence diagrams.\n",
      "Got the result from ./1/train/filtrations/2/RadialFiltration_12_51/gray/diagrams.npy\n",
      "Applying Scaler to persistence diagrams.\n",
      "Got the result from ./1/train/filtrations/2/RadialFiltration_12_51/red/diagrams.npy\n",
      "Applying Scaler to persistence diagrams.\n",
      "Got the result from ./1/train/filtrations/2/RadialFiltration_12_51/red/diagrams.npy\n",
      "Applying Scaler to persistence diagrams.\n",
      "Got the result from ./1/train/filtrations/2/RadialFiltration_12_51/green/diagrams.npy\n",
      "Applying Scaler to persistence diagrams.\n",
      "Got the result from ./1/train/filtrations/2/RadialFiltration_12_51/green/diagrams.npy\n",
      "Applying Scaler to persistence diagrams.\n",
      "Got the result from ./1/train/filtrations/2/RadialFiltration_12_51/blue/diagrams.npy\n",
      "Applying Scaler to persistence diagrams.\n",
      "Got the result from ./1/train/filtrations/2/RadialFiltration_12_51/blue/diagrams.npy\n",
      "Applying Scaler to persistence diagrams.\n",
      "Fitting filtration 13/72: 2/RadialFiltration_25_12\n",
      "RGB images received. Transforming to grayscale.\n"
     ]
    },
    {
     "name": "stderr",
     "output_type": "stream",
     "text": [
      "rgb2gray: 100%|██████████| 9030/9030 [00:01<00:00, 5424.84it/s]\n"
     ]
    },
    {
     "name": "stdout",
     "output_type": "stream",
     "text": [
      "Got the result from ./1/train/filtrations/2/RadialFiltration_25_12/gray/diagrams.npy\n",
      "Applying Scaler to persistence diagrams.\n",
      "Got the result from ./1/train/filtrations/2/RadialFiltration_25_12/gray/diagrams.npy\n",
      "Applying Scaler to persistence diagrams.\n",
      "Got the result from ./1/train/filtrations/2/RadialFiltration_25_12/red/diagrams.npy\n",
      "Applying Scaler to persistence diagrams.\n",
      "Got the result from ./1/train/filtrations/2/RadialFiltration_25_12/red/diagrams.npy\n",
      "Applying Scaler to persistence diagrams.\n",
      "Got the result from ./1/train/filtrations/2/RadialFiltration_25_12/green/diagrams.npy\n",
      "Applying Scaler to persistence diagrams.\n",
      "Got the result from ./1/train/filtrations/2/RadialFiltration_25_12/green/diagrams.npy\n",
      "Applying Scaler to persistence diagrams.\n",
      "Got the result from ./1/train/filtrations/2/RadialFiltration_25_12/blue/diagrams.npy\n",
      "Applying Scaler to persistence diagrams.\n",
      "Got the result from ./1/train/filtrations/2/RadialFiltration_25_12/blue/diagrams.npy\n",
      "Applying Scaler to persistence diagrams.\n",
      "Fitting filtration 14/72: 2/RadialFiltration_25_25\n",
      "RGB images received. Transforming to grayscale.\n"
     ]
    },
    {
     "name": "stderr",
     "output_type": "stream",
     "text": [
      "rgb2gray: 100%|██████████| 9030/9030 [00:01<00:00, 4984.67it/s] \n"
     ]
    },
    {
     "name": "stdout",
     "output_type": "stream",
     "text": [
      "Got the result from ./1/train/filtrations/2/RadialFiltration_25_25/gray/diagrams.npy\n",
      "Applying Scaler to persistence diagrams.\n",
      "Got the result from ./1/train/filtrations/2/RadialFiltration_25_25/gray/diagrams.npy\n",
      "Applying Scaler to persistence diagrams.\n",
      "Got the result from ./1/train/filtrations/2/RadialFiltration_25_25/red/diagrams.npy\n",
      "Applying Scaler to persistence diagrams.\n",
      "Got the result from ./1/train/filtrations/2/RadialFiltration_25_25/red/diagrams.npy\n",
      "Applying Scaler to persistence diagrams.\n",
      "Got the result from ./1/train/filtrations/2/RadialFiltration_25_25/green/diagrams.npy\n",
      "Applying Scaler to persistence diagrams.\n",
      "Got the result from ./1/train/filtrations/2/RadialFiltration_25_25/green/diagrams.npy\n",
      "Applying Scaler to persistence diagrams.\n",
      "Got the result from ./1/train/filtrations/2/RadialFiltration_25_25/blue/diagrams.npy\n",
      "Applying Scaler to persistence diagrams.\n",
      "Got the result from ./1/train/filtrations/2/RadialFiltration_25_25/blue/diagrams.npy\n",
      "Applying Scaler to persistence diagrams.\n",
      "Fitting filtration 15/72: 2/RadialFiltration_25_38\n",
      "RGB images received. Transforming to grayscale.\n"
     ]
    },
    {
     "name": "stderr",
     "output_type": "stream",
     "text": [
      "rgb2gray: 100%|██████████| 9030/9030 [00:01<00:00, 5430.07it/s]\n"
     ]
    },
    {
     "name": "stdout",
     "output_type": "stream",
     "text": [
      "Got the result from ./1/train/filtrations/2/RadialFiltration_25_38/gray/diagrams.npy\n",
      "Applying Scaler to persistence diagrams.\n",
      "Got the result from ./1/train/filtrations/2/RadialFiltration_25_38/gray/diagrams.npy\n",
      "Applying Scaler to persistence diagrams.\n",
      "Got the result from ./1/train/filtrations/2/RadialFiltration_25_38/red/diagrams.npy\n",
      "Applying Scaler to persistence diagrams.\n",
      "Got the result from ./1/train/filtrations/2/RadialFiltration_25_38/red/diagrams.npy\n",
      "Applying Scaler to persistence diagrams.\n",
      "Got the result from ./1/train/filtrations/2/RadialFiltration_25_38/green/diagrams.npy\n",
      "Applying Scaler to persistence diagrams.\n",
      "Got the result from ./1/train/filtrations/2/RadialFiltration_25_38/green/diagrams.npy\n",
      "Applying Scaler to persistence diagrams.\n",
      "Got the result from ./1/train/filtrations/2/RadialFiltration_25_38/blue/diagrams.npy\n",
      "Applying Scaler to persistence diagrams.\n",
      "Got the result from ./1/train/filtrations/2/RadialFiltration_25_38/blue/diagrams.npy\n",
      "Applying Scaler to persistence diagrams.\n",
      "Fitting filtration 16/72: 2/RadialFiltration_25_51\n",
      "RGB images received. Transforming to grayscale.\n"
     ]
    },
    {
     "name": "stderr",
     "output_type": "stream",
     "text": [
      "rgb2gray: 100%|██████████| 9030/9030 [00:01<00:00, 5531.01it/s]\n"
     ]
    },
    {
     "name": "stdout",
     "output_type": "stream",
     "text": [
      "Got the result from ./1/train/filtrations/2/RadialFiltration_25_51/gray/diagrams.npy\n",
      "Applying Scaler to persistence diagrams.\n",
      "Got the result from ./1/train/filtrations/2/RadialFiltration_25_51/gray/diagrams.npy\n",
      "Applying Scaler to persistence diagrams.\n",
      "Got the result from ./1/train/filtrations/2/RadialFiltration_25_51/red/diagrams.npy\n",
      "Applying Scaler to persistence diagrams.\n",
      "Got the result from ./1/train/filtrations/2/RadialFiltration_25_51/red/diagrams.npy\n",
      "Applying Scaler to persistence diagrams.\n",
      "Got the result from ./1/train/filtrations/2/RadialFiltration_25_51/green/diagrams.npy\n",
      "Applying Scaler to persistence diagrams.\n",
      "Got the result from ./1/train/filtrations/2/RadialFiltration_25_51/green/diagrams.npy\n",
      "Applying Scaler to persistence diagrams.\n",
      "Got the result from ./1/train/filtrations/2/RadialFiltration_25_51/blue/diagrams.npy\n",
      "Applying Scaler to persistence diagrams.\n",
      "Got the result from ./1/train/filtrations/2/RadialFiltration_25_51/blue/diagrams.npy\n",
      "Applying Scaler to persistence diagrams.\n",
      "Fitting filtration 17/72: 2/RadialFiltration_38_12\n",
      "RGB images received. Transforming to grayscale.\n"
     ]
    },
    {
     "name": "stderr",
     "output_type": "stream",
     "text": [
      "rgb2gray: 100%|██████████| 9030/9030 [00:01<00:00, 5184.92it/s]\n"
     ]
    },
    {
     "name": "stdout",
     "output_type": "stream",
     "text": [
      "Got the result from ./1/train/filtrations/2/RadialFiltration_38_12/gray/diagrams.npy\n",
      "Applying Scaler to persistence diagrams.\n",
      "Got the result from ./1/train/filtrations/2/RadialFiltration_38_12/gray/diagrams.npy\n",
      "Applying Scaler to persistence diagrams.\n",
      "Got the result from ./1/train/filtrations/2/RadialFiltration_38_12/red/diagrams.npy\n",
      "Applying Scaler to persistence diagrams.\n",
      "Got the result from ./1/train/filtrations/2/RadialFiltration_38_12/red/diagrams.npy\n",
      "Applying Scaler to persistence diagrams.\n",
      "Got the result from ./1/train/filtrations/2/RadialFiltration_38_12/green/diagrams.npy\n",
      "Applying Scaler to persistence diagrams.\n",
      "Got the result from ./1/train/filtrations/2/RadialFiltration_38_12/green/diagrams.npy\n",
      "Applying Scaler to persistence diagrams.\n",
      "Got the result from ./1/train/filtrations/2/RadialFiltration_38_12/blue/diagrams.npy\n",
      "Applying Scaler to persistence diagrams.\n",
      "Got the result from ./1/train/filtrations/2/RadialFiltration_38_12/blue/diagrams.npy\n",
      "Applying Scaler to persistence diagrams.\n",
      "Fitting filtration 18/72: 2/RadialFiltration_38_25\n",
      "RGB images received. Transforming to grayscale.\n"
     ]
    },
    {
     "name": "stderr",
     "output_type": "stream",
     "text": [
      "rgb2gray: 100%|██████████| 9030/9030 [00:01<00:00, 5395.85it/s] \n"
     ]
    },
    {
     "name": "stdout",
     "output_type": "stream",
     "text": [
      "Got the result from ./1/train/filtrations/2/RadialFiltration_38_25/gray/diagrams.npy\n",
      "Applying Scaler to persistence diagrams.\n",
      "Got the result from ./1/train/filtrations/2/RadialFiltration_38_25/gray/diagrams.npy\n",
      "Applying Scaler to persistence diagrams.\n",
      "Got the result from ./1/train/filtrations/2/RadialFiltration_38_25/red/diagrams.npy\n",
      "Applying Scaler to persistence diagrams.\n",
      "Got the result from ./1/train/filtrations/2/RadialFiltration_38_25/red/diagrams.npy\n",
      "Applying Scaler to persistence diagrams.\n",
      "Got the result from ./1/train/filtrations/2/RadialFiltration_38_25/green/diagrams.npy\n",
      "Applying Scaler to persistence diagrams.\n",
      "Got the result from ./1/train/filtrations/2/RadialFiltration_38_25/green/diagrams.npy\n",
      "Applying Scaler to persistence diagrams.\n",
      "Got the result from ./1/train/filtrations/2/RadialFiltration_38_25/blue/diagrams.npy\n",
      "Applying Scaler to persistence diagrams.\n",
      "Got the result from ./1/train/filtrations/2/RadialFiltration_38_25/blue/diagrams.npy\n",
      "Applying Scaler to persistence diagrams.\n",
      "Fitting filtration 19/72: 2/RadialFiltration_38_38\n",
      "RGB images received. Transforming to grayscale.\n"
     ]
    },
    {
     "name": "stderr",
     "output_type": "stream",
     "text": [
      "rgb2gray: 100%|██████████| 9030/9030 [00:01<00:00, 5354.29it/s]\n"
     ]
    },
    {
     "name": "stdout",
     "output_type": "stream",
     "text": [
      "Got the result from ./1/train/filtrations/2/RadialFiltration_38_38/gray/diagrams.npy\n",
      "Applying Scaler to persistence diagrams.\n",
      "Got the result from ./1/train/filtrations/2/RadialFiltration_38_38/gray/diagrams.npy\n",
      "Applying Scaler to persistence diagrams.\n",
      "Got the result from ./1/train/filtrations/2/RadialFiltration_38_38/red/diagrams.npy\n",
      "Applying Scaler to persistence diagrams.\n",
      "Got the result from ./1/train/filtrations/2/RadialFiltration_38_38/red/diagrams.npy\n",
      "Applying Scaler to persistence diagrams.\n",
      "Got the result from ./1/train/filtrations/2/RadialFiltration_38_38/green/diagrams.npy\n",
      "Applying Scaler to persistence diagrams.\n",
      "Got the result from ./1/train/filtrations/2/RadialFiltration_38_38/green/diagrams.npy\n",
      "Applying Scaler to persistence diagrams.\n",
      "Got the result from ./1/train/filtrations/2/RadialFiltration_38_38/blue/diagrams.npy\n",
      "Applying Scaler to persistence diagrams.\n",
      "Got the result from ./1/train/filtrations/2/RadialFiltration_38_38/blue/diagrams.npy\n",
      "Applying Scaler to persistence diagrams.\n",
      "Fitting filtration 20/72: 2/RadialFiltration_38_51\n",
      "RGB images received. Transforming to grayscale.\n"
     ]
    },
    {
     "name": "stderr",
     "output_type": "stream",
     "text": [
      "rgb2gray: 100%|██████████| 9030/9030 [00:01<00:00, 5402.25it/s]\n"
     ]
    },
    {
     "name": "stdout",
     "output_type": "stream",
     "text": [
      "Got the result from ./1/train/filtrations/2/RadialFiltration_38_51/gray/diagrams.npy\n",
      "Applying Scaler to persistence diagrams.\n",
      "Got the result from ./1/train/filtrations/2/RadialFiltration_38_51/gray/diagrams.npy\n",
      "Applying Scaler to persistence diagrams.\n",
      "Got the result from ./1/train/filtrations/2/RadialFiltration_38_51/red/diagrams.npy\n",
      "Applying Scaler to persistence diagrams.\n",
      "Got the result from ./1/train/filtrations/2/RadialFiltration_38_51/red/diagrams.npy\n",
      "Applying Scaler to persistence diagrams.\n",
      "Got the result from ./1/train/filtrations/2/RadialFiltration_38_51/green/diagrams.npy\n",
      "Applying Scaler to persistence diagrams.\n",
      "Got the result from ./1/train/filtrations/2/RadialFiltration_38_51/green/diagrams.npy\n",
      "Applying Scaler to persistence diagrams.\n",
      "Got the result from ./1/train/filtrations/2/RadialFiltration_38_51/blue/diagrams.npy\n",
      "Applying Scaler to persistence diagrams.\n",
      "Got the result from ./1/train/filtrations/2/RadialFiltration_38_51/blue/diagrams.npy\n",
      "Applying Scaler to persistence diagrams.\n",
      "Fitting filtration 21/72: 2/RadialFiltration_51_12\n",
      "RGB images received. Transforming to grayscale.\n"
     ]
    },
    {
     "name": "stderr",
     "output_type": "stream",
     "text": [
      "rgb2gray: 100%|██████████| 9030/9030 [00:01<00:00, 5455.37it/s]\n"
     ]
    },
    {
     "name": "stdout",
     "output_type": "stream",
     "text": [
      "Got the result from ./1/train/filtrations/2/RadialFiltration_51_12/gray/diagrams.npy\n",
      "Applying Scaler to persistence diagrams.\n",
      "Got the result from ./1/train/filtrations/2/RadialFiltration_51_12/gray/diagrams.npy\n",
      "Applying Scaler to persistence diagrams.\n",
      "Got the result from ./1/train/filtrations/2/RadialFiltration_51_12/red/diagrams.npy\n",
      "Applying Scaler to persistence diagrams.\n",
      "Got the result from ./1/train/filtrations/2/RadialFiltration_51_12/red/diagrams.npy\n",
      "Applying Scaler to persistence diagrams.\n",
      "Got the result from ./1/train/filtrations/2/RadialFiltration_51_12/green/diagrams.npy\n",
      "Applying Scaler to persistence diagrams.\n",
      "Got the result from ./1/train/filtrations/2/RadialFiltration_51_12/green/diagrams.npy\n",
      "Applying Scaler to persistence diagrams.\n",
      "Got the result from ./1/train/filtrations/2/RadialFiltration_51_12/blue/diagrams.npy\n",
      "Applying Scaler to persistence diagrams.\n",
      "Got the result from ./1/train/filtrations/2/RadialFiltration_51_12/blue/diagrams.npy\n",
      "Applying Scaler to persistence diagrams.\n",
      "Fitting filtration 22/72: 2/RadialFiltration_51_25\n",
      "RGB images received. Transforming to grayscale.\n"
     ]
    },
    {
     "name": "stderr",
     "output_type": "stream",
     "text": [
      "rgb2gray: 100%|██████████| 9030/9030 [00:01<00:00, 5222.38it/s]\n"
     ]
    },
    {
     "name": "stdout",
     "output_type": "stream",
     "text": [
      "Got the result from ./1/train/filtrations/2/RadialFiltration_51_25/gray/diagrams.npy\n",
      "Applying Scaler to persistence diagrams.\n",
      "Got the result from ./1/train/filtrations/2/RadialFiltration_51_25/gray/diagrams.npy\n",
      "Applying Scaler to persistence diagrams.\n",
      "Got the result from ./1/train/filtrations/2/RadialFiltration_51_25/red/diagrams.npy\n",
      "Applying Scaler to persistence diagrams.\n",
      "Got the result from ./1/train/filtrations/2/RadialFiltration_51_25/red/diagrams.npy\n",
      "Applying Scaler to persistence diagrams.\n",
      "Got the result from ./1/train/filtrations/2/RadialFiltration_51_25/green/diagrams.npy\n",
      "Applying Scaler to persistence diagrams.\n",
      "Got the result from ./1/train/filtrations/2/RadialFiltration_51_25/green/diagrams.npy\n",
      "Applying Scaler to persistence diagrams.\n",
      "Got the result from ./1/train/filtrations/2/RadialFiltration_51_25/blue/diagrams.npy\n",
      "Applying Scaler to persistence diagrams.\n",
      "Got the result from ./1/train/filtrations/2/RadialFiltration_51_25/blue/diagrams.npy\n",
      "Applying Scaler to persistence diagrams.\n",
      "Fitting filtration 23/72: 2/RadialFiltration_51_38\n",
      "RGB images received. Transforming to grayscale.\n"
     ]
    },
    {
     "name": "stderr",
     "output_type": "stream",
     "text": [
      "rgb2gray: 100%|██████████| 9030/9030 [00:01<00:00, 5564.83it/s]\n"
     ]
    },
    {
     "name": "stdout",
     "output_type": "stream",
     "text": [
      "Got the result from ./1/train/filtrations/2/RadialFiltration_51_38/gray/diagrams.npy\n",
      "Applying Scaler to persistence diagrams.\n",
      "Got the result from ./1/train/filtrations/2/RadialFiltration_51_38/gray/diagrams.npy\n",
      "Applying Scaler to persistence diagrams.\n",
      "Got the result from ./1/train/filtrations/2/RadialFiltration_51_38/red/diagrams.npy\n",
      "Applying Scaler to persistence diagrams.\n",
      "Got the result from ./1/train/filtrations/2/RadialFiltration_51_38/red/diagrams.npy\n",
      "Applying Scaler to persistence diagrams.\n",
      "Got the result from ./1/train/filtrations/2/RadialFiltration_51_38/green/diagrams.npy\n",
      "Applying Scaler to persistence diagrams.\n",
      "Got the result from ./1/train/filtrations/2/RadialFiltration_51_38/green/diagrams.npy\n",
      "Applying Scaler to persistence diagrams.\n",
      "Got the result from ./1/train/filtrations/2/RadialFiltration_51_38/blue/diagrams.npy\n",
      "Applying Scaler to persistence diagrams.\n",
      "Got the result from ./1/train/filtrations/2/RadialFiltration_51_38/blue/diagrams.npy\n",
      "Applying Scaler to persistence diagrams.\n",
      "Fitting filtration 24/72: 2/RadialFiltration_51_51\n",
      "RGB images received. Transforming to grayscale.\n"
     ]
    },
    {
     "name": "stderr",
     "output_type": "stream",
     "text": [
      "rgb2gray: 100%|██████████| 9030/9030 [00:01<00:00, 5691.53it/s]\n"
     ]
    },
    {
     "name": "stdout",
     "output_type": "stream",
     "text": [
      "Got the result from ./1/train/filtrations/2/RadialFiltration_51_51/gray/diagrams.npy\n",
      "Applying Scaler to persistence diagrams.\n",
      "Got the result from ./1/train/filtrations/2/RadialFiltration_51_51/gray/diagrams.npy\n",
      "Applying Scaler to persistence diagrams.\n",
      "Got the result from ./1/train/filtrations/2/RadialFiltration_51_51/red/diagrams.npy\n",
      "Applying Scaler to persistence diagrams.\n",
      "Got the result from ./1/train/filtrations/2/RadialFiltration_51_51/red/diagrams.npy\n",
      "Applying Scaler to persistence diagrams.\n",
      "Got the result from ./1/train/filtrations/2/RadialFiltration_51_51/green/diagrams.npy\n",
      "Applying Scaler to persistence diagrams.\n",
      "Got the result from ./1/train/filtrations/2/RadialFiltration_51_51/green/diagrams.npy\n",
      "Applying Scaler to persistence diagrams.\n",
      "Got the result from ./1/train/filtrations/2/RadialFiltration_51_51/blue/diagrams.npy\n",
      "Applying Scaler to persistence diagrams.\n",
      "Got the result from ./1/train/filtrations/2/RadialFiltration_51_51/blue/diagrams.npy\n",
      "Applying Scaler to persistence diagrams.\n",
      "Fitting filtration 25/72: 4/HeightFiltrartion_-1_-1\n",
      "RGB images received. Transforming to grayscale.\n"
     ]
    },
    {
     "name": "stderr",
     "output_type": "stream",
     "text": [
      "rgb2gray: 100%|██████████| 9030/9030 [00:01<00:00, 5648.75it/s]\n"
     ]
    },
    {
     "name": "stdout",
     "output_type": "stream",
     "text": [
      "Got the result from ./1/train/filtrations/4/HeightFiltrartion_-1_-1/gray/diagrams.npy\n",
      "Applying Scaler to persistence diagrams.\n",
      "Got the result from ./1/train/filtrations/4/HeightFiltrartion_-1_-1/gray/diagrams.npy\n",
      "Applying Scaler to persistence diagrams.\n",
      "Got the result from ./1/train/filtrations/4/HeightFiltrartion_-1_-1/red/diagrams.npy\n",
      "Applying Scaler to persistence diagrams.\n",
      "Got the result from ./1/train/filtrations/4/HeightFiltrartion_-1_-1/red/diagrams.npy\n",
      "Applying Scaler to persistence diagrams.\n",
      "Got the result from ./1/train/filtrations/4/HeightFiltrartion_-1_-1/green/diagrams.npy\n",
      "Applying Scaler to persistence diagrams.\n",
      "Got the result from ./1/train/filtrations/4/HeightFiltrartion_-1_-1/green/diagrams.npy\n",
      "Applying Scaler to persistence diagrams.\n",
      "Got the result from ./1/train/filtrations/4/HeightFiltrartion_-1_-1/blue/diagrams.npy\n",
      "Applying Scaler to persistence diagrams.\n",
      "Got the result from ./1/train/filtrations/4/HeightFiltrartion_-1_-1/blue/diagrams.npy\n",
      "Applying Scaler to persistence diagrams.\n",
      "Fitting filtration 26/72: 4/HeightFiltrartion_1_1\n",
      "RGB images received. Transforming to grayscale.\n"
     ]
    },
    {
     "name": "stderr",
     "output_type": "stream",
     "text": [
      "rgb2gray: 100%|██████████| 9030/9030 [00:01<00:00, 5447.58it/s]\n"
     ]
    },
    {
     "name": "stdout",
     "output_type": "stream",
     "text": [
      "Got the result from ./1/train/filtrations/4/HeightFiltrartion_1_1/gray/diagrams.npy\n",
      "Applying Scaler to persistence diagrams.\n",
      "Got the result from ./1/train/filtrations/4/HeightFiltrartion_1_1/gray/diagrams.npy\n",
      "Applying Scaler to persistence diagrams.\n",
      "Got the result from ./1/train/filtrations/4/HeightFiltrartion_1_1/red/diagrams.npy\n",
      "Applying Scaler to persistence diagrams.\n",
      "Got the result from ./1/train/filtrations/4/HeightFiltrartion_1_1/red/diagrams.npy\n",
      "Applying Scaler to persistence diagrams.\n",
      "Got the result from ./1/train/filtrations/4/HeightFiltrartion_1_1/green/diagrams.npy\n",
      "Applying Scaler to persistence diagrams.\n",
      "Got the result from ./1/train/filtrations/4/HeightFiltrartion_1_1/green/diagrams.npy\n",
      "Applying Scaler to persistence diagrams.\n",
      "Got the result from ./1/train/filtrations/4/HeightFiltrartion_1_1/blue/diagrams.npy\n",
      "Applying Scaler to persistence diagrams.\n",
      "Got the result from ./1/train/filtrations/4/HeightFiltrartion_1_1/blue/diagrams.npy\n",
      "Applying Scaler to persistence diagrams.\n",
      "Fitting filtration 27/72: 4/HeightFiltrartion_1_-1\n",
      "RGB images received. Transforming to grayscale.\n"
     ]
    },
    {
     "name": "stderr",
     "output_type": "stream",
     "text": [
      "rgb2gray: 100%|██████████| 9030/9030 [00:01<00:00, 5586.45it/s]\n"
     ]
    },
    {
     "name": "stdout",
     "output_type": "stream",
     "text": [
      "Got the result from ./1/train/filtrations/4/HeightFiltrartion_1_-1/gray/diagrams.npy\n",
      "Applying Scaler to persistence diagrams.\n",
      "Got the result from ./1/train/filtrations/4/HeightFiltrartion_1_-1/gray/diagrams.npy\n",
      "Applying Scaler to persistence diagrams.\n",
      "Got the result from ./1/train/filtrations/4/HeightFiltrartion_1_-1/red/diagrams.npy\n",
      "Applying Scaler to persistence diagrams.\n",
      "Got the result from ./1/train/filtrations/4/HeightFiltrartion_1_-1/red/diagrams.npy\n",
      "Applying Scaler to persistence diagrams.\n",
      "Got the result from ./1/train/filtrations/4/HeightFiltrartion_1_-1/green/diagrams.npy\n",
      "Applying Scaler to persistence diagrams.\n",
      "Got the result from ./1/train/filtrations/4/HeightFiltrartion_1_-1/green/diagrams.npy\n",
      "Applying Scaler to persistence diagrams.\n",
      "Got the result from ./1/train/filtrations/4/HeightFiltrartion_1_-1/blue/diagrams.npy\n",
      "Applying Scaler to persistence diagrams.\n",
      "Got the result from ./1/train/filtrations/4/HeightFiltrartion_1_-1/blue/diagrams.npy\n",
      "Applying Scaler to persistence diagrams.\n",
      "Fitting filtration 28/72: 4/HeightFiltrartion_-1_1\n",
      "RGB images received. Transforming to grayscale.\n"
     ]
    },
    {
     "name": "stderr",
     "output_type": "stream",
     "text": [
      "rgb2gray: 100%|██████████| 9030/9030 [00:01<00:00, 5242.45it/s]\n"
     ]
    },
    {
     "name": "stdout",
     "output_type": "stream",
     "text": [
      "Got the result from ./1/train/filtrations/4/HeightFiltrartion_-1_1/gray/diagrams.npy\n",
      "Applying Scaler to persistence diagrams.\n",
      "Got the result from ./1/train/filtrations/4/HeightFiltrartion_-1_1/gray/diagrams.npy\n",
      "Applying Scaler to persistence diagrams.\n",
      "Got the result from ./1/train/filtrations/4/HeightFiltrartion_-1_1/red/diagrams.npy\n",
      "Applying Scaler to persistence diagrams.\n",
      "Got the result from ./1/train/filtrations/4/HeightFiltrartion_-1_1/red/diagrams.npy\n",
      "Applying Scaler to persistence diagrams.\n",
      "Got the result from ./1/train/filtrations/4/HeightFiltrartion_-1_1/green/diagrams.npy\n",
      "Applying Scaler to persistence diagrams.\n",
      "Got the result from ./1/train/filtrations/4/HeightFiltrartion_-1_1/green/diagrams.npy\n",
      "Applying Scaler to persistence diagrams.\n",
      "Got the result from ./1/train/filtrations/4/HeightFiltrartion_-1_1/blue/diagrams.npy\n",
      "Applying Scaler to persistence diagrams.\n",
      "Got the result from ./1/train/filtrations/4/HeightFiltrartion_-1_1/blue/diagrams.npy\n",
      "Applying Scaler to persistence diagrams.\n",
      "Fitting filtration 29/72: 4/HeightFiltrartion_0_-1\n",
      "RGB images received. Transforming to grayscale.\n"
     ]
    },
    {
     "name": "stderr",
     "output_type": "stream",
     "text": [
      "rgb2gray: 100%|██████████| 9030/9030 [00:01<00:00, 5227.26it/s]\n"
     ]
    },
    {
     "name": "stdout",
     "output_type": "stream",
     "text": [
      "Got the result from ./1/train/filtrations/4/HeightFiltrartion_0_-1/gray/diagrams.npy\n",
      "Applying Scaler to persistence diagrams.\n",
      "Got the result from ./1/train/filtrations/4/HeightFiltrartion_0_-1/gray/diagrams.npy\n",
      "Applying Scaler to persistence diagrams.\n",
      "Got the result from ./1/train/filtrations/4/HeightFiltrartion_0_-1/red/diagrams.npy\n",
      "Applying Scaler to persistence diagrams.\n",
      "Got the result from ./1/train/filtrations/4/HeightFiltrartion_0_-1/red/diagrams.npy\n",
      "Applying Scaler to persistence diagrams.\n",
      "Got the result from ./1/train/filtrations/4/HeightFiltrartion_0_-1/green/diagrams.npy\n",
      "Applying Scaler to persistence diagrams.\n",
      "Got the result from ./1/train/filtrations/4/HeightFiltrartion_0_-1/green/diagrams.npy\n",
      "Applying Scaler to persistence diagrams.\n",
      "Got the result from ./1/train/filtrations/4/HeightFiltrartion_0_-1/blue/diagrams.npy\n",
      "Applying Scaler to persistence diagrams.\n",
      "Got the result from ./1/train/filtrations/4/HeightFiltrartion_0_-1/blue/diagrams.npy\n",
      "Applying Scaler to persistence diagrams.\n",
      "Fitting filtration 30/72: 4/HeightFiltrartion_0_1\n",
      "RGB images received. Transforming to grayscale.\n"
     ]
    },
    {
     "name": "stderr",
     "output_type": "stream",
     "text": [
      "rgb2gray: 100%|██████████| 9030/9030 [00:01<00:00, 5747.86it/s]\n"
     ]
    },
    {
     "name": "stdout",
     "output_type": "stream",
     "text": [
      "Got the result from ./1/train/filtrations/4/HeightFiltrartion_0_1/gray/diagrams.npy\n",
      "Applying Scaler to persistence diagrams.\n",
      "Got the result from ./1/train/filtrations/4/HeightFiltrartion_0_1/gray/diagrams.npy\n",
      "Applying Scaler to persistence diagrams.\n",
      "Got the result from ./1/train/filtrations/4/HeightFiltrartion_0_1/red/diagrams.npy\n",
      "Applying Scaler to persistence diagrams.\n",
      "Got the result from ./1/train/filtrations/4/HeightFiltrartion_0_1/red/diagrams.npy\n",
      "Applying Scaler to persistence diagrams.\n",
      "Got the result from ./1/train/filtrations/4/HeightFiltrartion_0_1/green/diagrams.npy\n",
      "Applying Scaler to persistence diagrams.\n",
      "Got the result from ./1/train/filtrations/4/HeightFiltrartion_0_1/green/diagrams.npy\n",
      "Applying Scaler to persistence diagrams.\n",
      "Got the result from ./1/train/filtrations/4/HeightFiltrartion_0_1/blue/diagrams.npy\n",
      "Applying Scaler to persistence diagrams.\n",
      "Got the result from ./1/train/filtrations/4/HeightFiltrartion_0_1/blue/diagrams.npy\n",
      "Applying Scaler to persistence diagrams.\n",
      "Fitting filtration 31/72: 4/HeightFiltrartion_-1_0\n",
      "RGB images received. Transforming to grayscale.\n"
     ]
    },
    {
     "name": "stderr",
     "output_type": "stream",
     "text": [
      "rgb2gray: 100%|██████████| 9030/9030 [00:01<00:00, 5509.46it/s]\n"
     ]
    },
    {
     "name": "stdout",
     "output_type": "stream",
     "text": [
      "Got the result from ./1/train/filtrations/4/HeightFiltrartion_-1_0/gray/diagrams.npy\n",
      "Applying Scaler to persistence diagrams.\n",
      "Got the result from ./1/train/filtrations/4/HeightFiltrartion_-1_0/gray/diagrams.npy\n",
      "Applying Scaler to persistence diagrams.\n",
      "Got the result from ./1/train/filtrations/4/HeightFiltrartion_-1_0/red/diagrams.npy\n",
      "Applying Scaler to persistence diagrams.\n",
      "Got the result from ./1/train/filtrations/4/HeightFiltrartion_-1_0/red/diagrams.npy\n",
      "Applying Scaler to persistence diagrams.\n",
      "Got the result from ./1/train/filtrations/4/HeightFiltrartion_-1_0/green/diagrams.npy\n",
      "Applying Scaler to persistence diagrams.\n",
      "Got the result from ./1/train/filtrations/4/HeightFiltrartion_-1_0/green/diagrams.npy\n",
      "Applying Scaler to persistence diagrams.\n",
      "Got the result from ./1/train/filtrations/4/HeightFiltrartion_-1_0/blue/diagrams.npy\n",
      "Applying Scaler to persistence diagrams.\n",
      "Got the result from ./1/train/filtrations/4/HeightFiltrartion_-1_0/blue/diagrams.npy\n",
      "Applying Scaler to persistence diagrams.\n",
      "Fitting filtration 32/72: 4/HeightFiltrartion_1_0\n",
      "RGB images received. Transforming to grayscale.\n"
     ]
    },
    {
     "name": "stderr",
     "output_type": "stream",
     "text": [
      "rgb2gray: 100%|██████████| 9030/9030 [00:01<00:00, 5347.61it/s] \n"
     ]
    },
    {
     "name": "stdout",
     "output_type": "stream",
     "text": [
      "Got the result from ./1/train/filtrations/4/HeightFiltrartion_1_0/gray/diagrams.npy\n",
      "Applying Scaler to persistence diagrams.\n",
      "Got the result from ./1/train/filtrations/4/HeightFiltrartion_1_0/gray/diagrams.npy\n",
      "Applying Scaler to persistence diagrams.\n",
      "Got the result from ./1/train/filtrations/4/HeightFiltrartion_1_0/red/diagrams.npy\n",
      "Applying Scaler to persistence diagrams.\n",
      "Got the result from ./1/train/filtrations/4/HeightFiltrartion_1_0/red/diagrams.npy\n",
      "Applying Scaler to persistence diagrams.\n",
      "Got the result from ./1/train/filtrations/4/HeightFiltrartion_1_0/green/diagrams.npy\n",
      "Applying Scaler to persistence diagrams.\n",
      "Got the result from ./1/train/filtrations/4/HeightFiltrartion_1_0/green/diagrams.npy\n",
      "Applying Scaler to persistence diagrams.\n",
      "Got the result from ./1/train/filtrations/4/HeightFiltrartion_1_0/blue/diagrams.npy\n",
      "Applying Scaler to persistence diagrams.\n",
      "Got the result from ./1/train/filtrations/4/HeightFiltrartion_1_0/blue/diagrams.npy\n",
      "Applying Scaler to persistence diagrams.\n",
      "Fitting filtration 33/72: 4/RadialFiltration_12_12\n",
      "RGB images received. Transforming to grayscale.\n"
     ]
    },
    {
     "name": "stderr",
     "output_type": "stream",
     "text": [
      "rgb2gray: 100%|██████████| 9030/9030 [00:01<00:00, 5254.24it/s]\n"
     ]
    },
    {
     "name": "stdout",
     "output_type": "stream",
     "text": [
      "Got the result from ./1/train/filtrations/4/RadialFiltration_12_12/gray/diagrams.npy\n",
      "Applying Scaler to persistence diagrams.\n",
      "Got the result from ./1/train/filtrations/4/RadialFiltration_12_12/gray/diagrams.npy\n",
      "Applying Scaler to persistence diagrams.\n",
      "Got the result from ./1/train/filtrations/4/RadialFiltration_12_12/red/diagrams.npy\n",
      "Applying Scaler to persistence diagrams.\n",
      "Got the result from ./1/train/filtrations/4/RadialFiltration_12_12/red/diagrams.npy\n",
      "Applying Scaler to persistence diagrams.\n",
      "Got the result from ./1/train/filtrations/4/RadialFiltration_12_12/green/diagrams.npy\n",
      "Applying Scaler to persistence diagrams.\n",
      "Got the result from ./1/train/filtrations/4/RadialFiltration_12_12/green/diagrams.npy\n",
      "Applying Scaler to persistence diagrams.\n",
      "Got the result from ./1/train/filtrations/4/RadialFiltration_12_12/blue/diagrams.npy\n",
      "Applying Scaler to persistence diagrams.\n",
      "Got the result from ./1/train/filtrations/4/RadialFiltration_12_12/blue/diagrams.npy\n",
      "Applying Scaler to persistence diagrams.\n",
      "Fitting filtration 34/72: 4/RadialFiltration_12_25\n",
      "RGB images received. Transforming to grayscale.\n"
     ]
    },
    {
     "name": "stderr",
     "output_type": "stream",
     "text": [
      "rgb2gray: 100%|██████████| 9030/9030 [00:01<00:00, 5354.25it/s]\n"
     ]
    },
    {
     "name": "stdout",
     "output_type": "stream",
     "text": [
      "Got the result from ./1/train/filtrations/4/RadialFiltration_12_25/gray/diagrams.npy\n",
      "Applying Scaler to persistence diagrams.\n",
      "Got the result from ./1/train/filtrations/4/RadialFiltration_12_25/gray/diagrams.npy\n",
      "Applying Scaler to persistence diagrams.\n",
      "Got the result from ./1/train/filtrations/4/RadialFiltration_12_25/red/diagrams.npy\n",
      "Applying Scaler to persistence diagrams.\n",
      "Got the result from ./1/train/filtrations/4/RadialFiltration_12_25/red/diagrams.npy\n",
      "Applying Scaler to persistence diagrams.\n",
      "Got the result from ./1/train/filtrations/4/RadialFiltration_12_25/green/diagrams.npy\n",
      "Applying Scaler to persistence diagrams.\n",
      "Got the result from ./1/train/filtrations/4/RadialFiltration_12_25/green/diagrams.npy\n",
      "Applying Scaler to persistence diagrams.\n",
      "Got the result from ./1/train/filtrations/4/RadialFiltration_12_25/blue/diagrams.npy\n",
      "Applying Scaler to persistence diagrams.\n",
      "Got the result from ./1/train/filtrations/4/RadialFiltration_12_25/blue/diagrams.npy\n",
      "Applying Scaler to persistence diagrams.\n",
      "Fitting filtration 35/72: 4/RadialFiltration_12_38\n",
      "RGB images received. Transforming to grayscale.\n"
     ]
    },
    {
     "name": "stderr",
     "output_type": "stream",
     "text": [
      "rgb2gray: 100%|██████████| 9030/9030 [00:01<00:00, 5280.95it/s]\n"
     ]
    },
    {
     "name": "stdout",
     "output_type": "stream",
     "text": [
      "Got the result from ./1/train/filtrations/4/RadialFiltration_12_38/gray/diagrams.npy\n",
      "Applying Scaler to persistence diagrams.\n",
      "Got the result from ./1/train/filtrations/4/RadialFiltration_12_38/gray/diagrams.npy\n",
      "Applying Scaler to persistence diagrams.\n",
      "Got the result from ./1/train/filtrations/4/RadialFiltration_12_38/red/diagrams.npy\n",
      "Applying Scaler to persistence diagrams.\n",
      "Got the result from ./1/train/filtrations/4/RadialFiltration_12_38/red/diagrams.npy\n",
      "Applying Scaler to persistence diagrams.\n",
      "Got the result from ./1/train/filtrations/4/RadialFiltration_12_38/green/diagrams.npy\n",
      "Applying Scaler to persistence diagrams.\n",
      "Got the result from ./1/train/filtrations/4/RadialFiltration_12_38/green/diagrams.npy\n",
      "Applying Scaler to persistence diagrams.\n",
      "Got the result from ./1/train/filtrations/4/RadialFiltration_12_38/blue/diagrams.npy\n",
      "Applying Scaler to persistence diagrams.\n",
      "Got the result from ./1/train/filtrations/4/RadialFiltration_12_38/blue/diagrams.npy\n",
      "Applying Scaler to persistence diagrams.\n",
      "Fitting filtration 36/72: 4/RadialFiltration_12_51\n",
      "RGB images received. Transforming to grayscale.\n"
     ]
    },
    {
     "name": "stderr",
     "output_type": "stream",
     "text": [
      "rgb2gray: 100%|██████████| 9030/9030 [00:01<00:00, 4872.87it/s]\n"
     ]
    },
    {
     "name": "stdout",
     "output_type": "stream",
     "text": [
      "Got the result from ./1/train/filtrations/4/RadialFiltration_12_51/gray/diagrams.npy\n",
      "Applying Scaler to persistence diagrams.\n",
      "Got the result from ./1/train/filtrations/4/RadialFiltration_12_51/gray/diagrams.npy\n",
      "Applying Scaler to persistence diagrams.\n",
      "Got the result from ./1/train/filtrations/4/RadialFiltration_12_51/red/diagrams.npy\n",
      "Applying Scaler to persistence diagrams.\n",
      "Got the result from ./1/train/filtrations/4/RadialFiltration_12_51/red/diagrams.npy\n",
      "Applying Scaler to persistence diagrams.\n",
      "Got the result from ./1/train/filtrations/4/RadialFiltration_12_51/green/diagrams.npy\n",
      "Applying Scaler to persistence diagrams.\n",
      "Got the result from ./1/train/filtrations/4/RadialFiltration_12_51/green/diagrams.npy\n",
      "Applying Scaler to persistence diagrams.\n",
      "Got the result from ./1/train/filtrations/4/RadialFiltration_12_51/blue/diagrams.npy\n",
      "Applying Scaler to persistence diagrams.\n",
      "Got the result from ./1/train/filtrations/4/RadialFiltration_12_51/blue/diagrams.npy\n",
      "Applying Scaler to persistence diagrams.\n",
      "Fitting filtration 37/72: 4/RadialFiltration_25_12\n",
      "RGB images received. Transforming to grayscale.\n"
     ]
    },
    {
     "name": "stderr",
     "output_type": "stream",
     "text": [
      "rgb2gray: 100%|██████████| 9030/9030 [00:01<00:00, 5311.77it/s]\n"
     ]
    },
    {
     "name": "stdout",
     "output_type": "stream",
     "text": [
      "Got the result from ./1/train/filtrations/4/RadialFiltration_25_12/gray/diagrams.npy\n",
      "Applying Scaler to persistence diagrams.\n",
      "Got the result from ./1/train/filtrations/4/RadialFiltration_25_12/gray/diagrams.npy\n",
      "Applying Scaler to persistence diagrams.\n",
      "Got the result from ./1/train/filtrations/4/RadialFiltration_25_12/red/diagrams.npy\n",
      "Applying Scaler to persistence diagrams.\n",
      "Got the result from ./1/train/filtrations/4/RadialFiltration_25_12/red/diagrams.npy\n",
      "Applying Scaler to persistence diagrams.\n",
      "Got the result from ./1/train/filtrations/4/RadialFiltration_25_12/green/diagrams.npy\n",
      "Applying Scaler to persistence diagrams.\n",
      "Got the result from ./1/train/filtrations/4/RadialFiltration_25_12/green/diagrams.npy\n",
      "Applying Scaler to persistence diagrams.\n",
      "Got the result from ./1/train/filtrations/4/RadialFiltration_25_12/blue/diagrams.npy\n",
      "Applying Scaler to persistence diagrams.\n",
      "Got the result from ./1/train/filtrations/4/RadialFiltration_25_12/blue/diagrams.npy\n",
      "Applying Scaler to persistence diagrams.\n",
      "Fitting filtration 38/72: 4/RadialFiltration_25_25\n",
      "RGB images received. Transforming to grayscale.\n"
     ]
    },
    {
     "name": "stderr",
     "output_type": "stream",
     "text": [
      "rgb2gray: 100%|██████████| 9030/9030 [00:01<00:00, 5057.51it/s]\n"
     ]
    },
    {
     "name": "stdout",
     "output_type": "stream",
     "text": [
      "Got the result from ./1/train/filtrations/4/RadialFiltration_25_25/gray/diagrams.npy\n",
      "Applying Scaler to persistence diagrams.\n",
      "Got the result from ./1/train/filtrations/4/RadialFiltration_25_25/gray/diagrams.npy\n",
      "Applying Scaler to persistence diagrams.\n",
      "Got the result from ./1/train/filtrations/4/RadialFiltration_25_25/red/diagrams.npy\n",
      "Applying Scaler to persistence diagrams.\n",
      "Got the result from ./1/train/filtrations/4/RadialFiltration_25_25/red/diagrams.npy\n",
      "Applying Scaler to persistence diagrams.\n",
      "Got the result from ./1/train/filtrations/4/RadialFiltration_25_25/green/diagrams.npy\n",
      "Applying Scaler to persistence diagrams.\n",
      "Got the result from ./1/train/filtrations/4/RadialFiltration_25_25/green/diagrams.npy\n",
      "Applying Scaler to persistence diagrams.\n",
      "Got the result from ./1/train/filtrations/4/RadialFiltration_25_25/blue/diagrams.npy\n",
      "Applying Scaler to persistence diagrams.\n",
      "Got the result from ./1/train/filtrations/4/RadialFiltration_25_25/blue/diagrams.npy\n",
      "Applying Scaler to persistence diagrams.\n",
      "Fitting filtration 39/72: 4/RadialFiltration_25_38\n",
      "RGB images received. Transforming to grayscale.\n"
     ]
    },
    {
     "name": "stderr",
     "output_type": "stream",
     "text": [
      "rgb2gray: 100%|██████████| 9030/9030 [00:01<00:00, 5117.58it/s]\n"
     ]
    },
    {
     "name": "stdout",
     "output_type": "stream",
     "text": [
      "Got the result from ./1/train/filtrations/4/RadialFiltration_25_38/gray/diagrams.npy\n",
      "Applying Scaler to persistence diagrams.\n",
      "Got the result from ./1/train/filtrations/4/RadialFiltration_25_38/gray/diagrams.npy\n",
      "Applying Scaler to persistence diagrams.\n",
      "Got the result from ./1/train/filtrations/4/RadialFiltration_25_38/red/diagrams.npy\n",
      "Applying Scaler to persistence diagrams.\n",
      "Got the result from ./1/train/filtrations/4/RadialFiltration_25_38/red/diagrams.npy\n",
      "Applying Scaler to persistence diagrams.\n",
      "Got the result from ./1/train/filtrations/4/RadialFiltration_25_38/green/diagrams.npy\n",
      "Applying Scaler to persistence diagrams.\n",
      "Got the result from ./1/train/filtrations/4/RadialFiltration_25_38/green/diagrams.npy\n",
      "Applying Scaler to persistence diagrams.\n",
      "Got the result from ./1/train/filtrations/4/RadialFiltration_25_38/blue/diagrams.npy\n",
      "Applying Scaler to persistence diagrams.\n",
      "Got the result from ./1/train/filtrations/4/RadialFiltration_25_38/blue/diagrams.npy\n",
      "Applying Scaler to persistence diagrams.\n",
      "Fitting filtration 40/72: 4/RadialFiltration_25_51\n",
      "RGB images received. Transforming to grayscale.\n"
     ]
    },
    {
     "name": "stderr",
     "output_type": "stream",
     "text": [
      "rgb2gray: 100%|██████████| 9030/9030 [00:01<00:00, 5303.95it/s]\n"
     ]
    },
    {
     "name": "stdout",
     "output_type": "stream",
     "text": [
      "Got the result from ./1/train/filtrations/4/RadialFiltration_25_51/gray/diagrams.npy\n",
      "Applying Scaler to persistence diagrams.\n",
      "Got the result from ./1/train/filtrations/4/RadialFiltration_25_51/gray/diagrams.npy\n",
      "Applying Scaler to persistence diagrams.\n",
      "Got the result from ./1/train/filtrations/4/RadialFiltration_25_51/red/diagrams.npy\n",
      "Applying Scaler to persistence diagrams.\n",
      "Got the result from ./1/train/filtrations/4/RadialFiltration_25_51/red/diagrams.npy\n",
      "Applying Scaler to persistence diagrams.\n",
      "Got the result from ./1/train/filtrations/4/RadialFiltration_25_51/green/diagrams.npy\n",
      "Applying Scaler to persistence diagrams.\n",
      "Got the result from ./1/train/filtrations/4/RadialFiltration_25_51/green/diagrams.npy\n",
      "Applying Scaler to persistence diagrams.\n",
      "Got the result from ./1/train/filtrations/4/RadialFiltration_25_51/blue/diagrams.npy\n",
      "Applying Scaler to persistence diagrams.\n",
      "Got the result from ./1/train/filtrations/4/RadialFiltration_25_51/blue/diagrams.npy\n",
      "Applying Scaler to persistence diagrams.\n",
      "Fitting filtration 41/72: 4/RadialFiltration_38_12\n",
      "RGB images received. Transforming to grayscale.\n"
     ]
    },
    {
     "name": "stderr",
     "output_type": "stream",
     "text": [
      "rgb2gray: 100%|██████████| 9030/9030 [00:01<00:00, 5533.10it/s] \n"
     ]
    },
    {
     "name": "stdout",
     "output_type": "stream",
     "text": [
      "Got the result from ./1/train/filtrations/4/RadialFiltration_38_12/gray/diagrams.npy\n",
      "Applying Scaler to persistence diagrams.\n",
      "Got the result from ./1/train/filtrations/4/RadialFiltration_38_12/gray/diagrams.npy\n",
      "Applying Scaler to persistence diagrams.\n",
      "Got the result from ./1/train/filtrations/4/RadialFiltration_38_12/red/diagrams.npy\n",
      "Applying Scaler to persistence diagrams.\n",
      "Got the result from ./1/train/filtrations/4/RadialFiltration_38_12/red/diagrams.npy\n",
      "Applying Scaler to persistence diagrams.\n",
      "Got the result from ./1/train/filtrations/4/RadialFiltration_38_12/green/diagrams.npy\n",
      "Applying Scaler to persistence diagrams.\n",
      "Got the result from ./1/train/filtrations/4/RadialFiltration_38_12/green/diagrams.npy\n",
      "Applying Scaler to persistence diagrams.\n",
      "Got the result from ./1/train/filtrations/4/RadialFiltration_38_12/blue/diagrams.npy\n",
      "Applying Scaler to persistence diagrams.\n",
      "Got the result from ./1/train/filtrations/4/RadialFiltration_38_12/blue/diagrams.npy\n",
      "Applying Scaler to persistence diagrams.\n",
      "Fitting filtration 42/72: 4/RadialFiltration_38_25\n",
      "RGB images received. Transforming to grayscale.\n"
     ]
    },
    {
     "name": "stderr",
     "output_type": "stream",
     "text": [
      "rgb2gray: 100%|██████████| 9030/9030 [00:01<00:00, 5053.16it/s]\n"
     ]
    },
    {
     "name": "stdout",
     "output_type": "stream",
     "text": [
      "Got the result from ./1/train/filtrations/4/RadialFiltration_38_25/gray/diagrams.npy\n",
      "Applying Scaler to persistence diagrams.\n",
      "Got the result from ./1/train/filtrations/4/RadialFiltration_38_25/gray/diagrams.npy\n",
      "Applying Scaler to persistence diagrams.\n",
      "Got the result from ./1/train/filtrations/4/RadialFiltration_38_25/red/diagrams.npy\n",
      "Applying Scaler to persistence diagrams.\n",
      "Got the result from ./1/train/filtrations/4/RadialFiltration_38_25/red/diagrams.npy\n",
      "Applying Scaler to persistence diagrams.\n",
      "Got the result from ./1/train/filtrations/4/RadialFiltration_38_25/green/diagrams.npy\n",
      "Applying Scaler to persistence diagrams.\n",
      "Got the result from ./1/train/filtrations/4/RadialFiltration_38_25/green/diagrams.npy\n",
      "Applying Scaler to persistence diagrams.\n",
      "Got the result from ./1/train/filtrations/4/RadialFiltration_38_25/blue/diagrams.npy\n",
      "Applying Scaler to persistence diagrams.\n",
      "Got the result from ./1/train/filtrations/4/RadialFiltration_38_25/blue/diagrams.npy\n",
      "Applying Scaler to persistence diagrams.\n",
      "Fitting filtration 43/72: 4/RadialFiltration_38_38\n",
      "RGB images received. Transforming to grayscale.\n"
     ]
    },
    {
     "name": "stderr",
     "output_type": "stream",
     "text": [
      "rgb2gray: 100%|██████████| 9030/9030 [00:01<00:00, 5101.37it/s]\n"
     ]
    },
    {
     "name": "stdout",
     "output_type": "stream",
     "text": [
      "Got the result from ./1/train/filtrations/4/RadialFiltration_38_38/gray/diagrams.npy\n",
      "Applying Scaler to persistence diagrams.\n",
      "Got the result from ./1/train/filtrations/4/RadialFiltration_38_38/gray/diagrams.npy\n",
      "Applying Scaler to persistence diagrams.\n",
      "Got the result from ./1/train/filtrations/4/RadialFiltration_38_38/red/diagrams.npy\n",
      "Applying Scaler to persistence diagrams.\n",
      "Got the result from ./1/train/filtrations/4/RadialFiltration_38_38/red/diagrams.npy\n",
      "Applying Scaler to persistence diagrams.\n",
      "Got the result from ./1/train/filtrations/4/RadialFiltration_38_38/green/diagrams.npy\n",
      "Applying Scaler to persistence diagrams.\n",
      "Got the result from ./1/train/filtrations/4/RadialFiltration_38_38/green/diagrams.npy\n",
      "Applying Scaler to persistence diagrams.\n",
      "Got the result from ./1/train/filtrations/4/RadialFiltration_38_38/blue/diagrams.npy\n",
      "Applying Scaler to persistence diagrams.\n",
      "Got the result from ./1/train/filtrations/4/RadialFiltration_38_38/blue/diagrams.npy\n",
      "Applying Scaler to persistence diagrams.\n",
      "Fitting filtration 44/72: 4/RadialFiltration_38_51\n",
      "RGB images received. Transforming to grayscale.\n"
     ]
    },
    {
     "name": "stderr",
     "output_type": "stream",
     "text": [
      "rgb2gray: 100%|██████████| 9030/9030 [00:01<00:00, 4871.85it/s]\n"
     ]
    },
    {
     "name": "stdout",
     "output_type": "stream",
     "text": [
      "Got the result from ./1/train/filtrations/4/RadialFiltration_38_51/gray/diagrams.npy\n",
      "Applying Scaler to persistence diagrams.\n",
      "Got the result from ./1/train/filtrations/4/RadialFiltration_38_51/gray/diagrams.npy\n",
      "Applying Scaler to persistence diagrams.\n",
      "Got the result from ./1/train/filtrations/4/RadialFiltration_38_51/red/diagrams.npy\n",
      "Applying Scaler to persistence diagrams.\n",
      "Got the result from ./1/train/filtrations/4/RadialFiltration_38_51/red/diagrams.npy\n",
      "Applying Scaler to persistence diagrams.\n",
      "Got the result from ./1/train/filtrations/4/RadialFiltration_38_51/green/diagrams.npy\n",
      "Applying Scaler to persistence diagrams.\n",
      "Got the result from ./1/train/filtrations/4/RadialFiltration_38_51/green/diagrams.npy\n",
      "Applying Scaler to persistence diagrams.\n",
      "Got the result from ./1/train/filtrations/4/RadialFiltration_38_51/blue/diagrams.npy\n",
      "Applying Scaler to persistence diagrams.\n",
      "Got the result from ./1/train/filtrations/4/RadialFiltration_38_51/blue/diagrams.npy\n",
      "Applying Scaler to persistence diagrams.\n",
      "Fitting filtration 45/72: 4/RadialFiltration_51_12\n",
      "RGB images received. Transforming to grayscale.\n"
     ]
    },
    {
     "name": "stderr",
     "output_type": "stream",
     "text": [
      "rgb2gray: 100%|██████████| 9030/9030 [00:01<00:00, 4646.22it/s]\n"
     ]
    },
    {
     "name": "stdout",
     "output_type": "stream",
     "text": [
      "Got the result from ./1/train/filtrations/4/RadialFiltration_51_12/gray/diagrams.npy\n",
      "Applying Scaler to persistence diagrams.\n",
      "Got the result from ./1/train/filtrations/4/RadialFiltration_51_12/gray/diagrams.npy\n",
      "Applying Scaler to persistence diagrams.\n",
      "Got the result from ./1/train/filtrations/4/RadialFiltration_51_12/red/diagrams.npy\n",
      "Applying Scaler to persistence diagrams.\n",
      "Got the result from ./1/train/filtrations/4/RadialFiltration_51_12/red/diagrams.npy\n",
      "Applying Scaler to persistence diagrams.\n",
      "Got the result from ./1/train/filtrations/4/RadialFiltration_51_12/green/diagrams.npy\n",
      "Applying Scaler to persistence diagrams.\n",
      "Got the result from ./1/train/filtrations/4/RadialFiltration_51_12/green/diagrams.npy\n",
      "Applying Scaler to persistence diagrams.\n",
      "Got the result from ./1/train/filtrations/4/RadialFiltration_51_12/blue/diagrams.npy\n",
      "Applying Scaler to persistence diagrams.\n",
      "Got the result from ./1/train/filtrations/4/RadialFiltration_51_12/blue/diagrams.npy\n",
      "Applying Scaler to persistence diagrams.\n",
      "Fitting filtration 46/72: 4/RadialFiltration_51_25\n",
      "RGB images received. Transforming to grayscale.\n"
     ]
    },
    {
     "name": "stderr",
     "output_type": "stream",
     "text": [
      "rgb2gray: 100%|██████████| 9030/9030 [00:02<00:00, 4472.51it/s]\n"
     ]
    },
    {
     "name": "stdout",
     "output_type": "stream",
     "text": [
      "Got the result from ./1/train/filtrations/4/RadialFiltration_51_25/gray/diagrams.npy\n",
      "Applying Scaler to persistence diagrams.\n",
      "Got the result from ./1/train/filtrations/4/RadialFiltration_51_25/gray/diagrams.npy\n",
      "Applying Scaler to persistence diagrams.\n",
      "Got the result from ./1/train/filtrations/4/RadialFiltration_51_25/red/diagrams.npy\n",
      "Applying Scaler to persistence diagrams.\n",
      "Got the result from ./1/train/filtrations/4/RadialFiltration_51_25/red/diagrams.npy\n",
      "Applying Scaler to persistence diagrams.\n",
      "Got the result from ./1/train/filtrations/4/RadialFiltration_51_25/green/diagrams.npy\n",
      "Applying Scaler to persistence diagrams.\n",
      "Got the result from ./1/train/filtrations/4/RadialFiltration_51_25/green/diagrams.npy\n",
      "Applying Scaler to persistence diagrams.\n",
      "Got the result from ./1/train/filtrations/4/RadialFiltration_51_25/blue/diagrams.npy\n",
      "Applying Scaler to persistence diagrams.\n",
      "Got the result from ./1/train/filtrations/4/RadialFiltration_51_25/blue/diagrams.npy\n",
      "Applying Scaler to persistence diagrams.\n",
      "Fitting filtration 47/72: 4/RadialFiltration_51_38\n",
      "RGB images received. Transforming to grayscale.\n"
     ]
    },
    {
     "name": "stderr",
     "output_type": "stream",
     "text": [
      "rgb2gray: 100%|██████████| 9030/9030 [00:02<00:00, 4010.58it/s]\n"
     ]
    },
    {
     "name": "stdout",
     "output_type": "stream",
     "text": [
      "Got the result from ./1/train/filtrations/4/RadialFiltration_51_38/gray/diagrams.npy\n",
      "Applying Scaler to persistence diagrams.\n",
      "Got the result from ./1/train/filtrations/4/RadialFiltration_51_38/gray/diagrams.npy\n",
      "Applying Scaler to persistence diagrams.\n",
      "Got the result from ./1/train/filtrations/4/RadialFiltration_51_38/red/diagrams.npy\n",
      "Applying Scaler to persistence diagrams.\n",
      "Got the result from ./1/train/filtrations/4/RadialFiltration_51_38/red/diagrams.npy\n",
      "Applying Scaler to persistence diagrams.\n",
      "Got the result from ./1/train/filtrations/4/RadialFiltration_51_38/green/diagrams.npy\n",
      "Applying Scaler to persistence diagrams.\n",
      "Got the result from ./1/train/filtrations/4/RadialFiltration_51_38/green/diagrams.npy\n",
      "Applying Scaler to persistence diagrams.\n",
      "Got the result from ./1/train/filtrations/4/RadialFiltration_51_38/blue/diagrams.npy\n",
      "Applying Scaler to persistence diagrams.\n",
      "Got the result from ./1/train/filtrations/4/RadialFiltration_51_38/blue/diagrams.npy\n",
      "Applying Scaler to persistence diagrams.\n",
      "Fitting filtration 48/72: 4/RadialFiltration_51_51\n",
      "RGB images received. Transforming to grayscale.\n"
     ]
    },
    {
     "name": "stderr",
     "output_type": "stream",
     "text": [
      "rgb2gray: 100%|██████████| 9030/9030 [00:02<00:00, 4373.78it/s]\n"
     ]
    },
    {
     "name": "stdout",
     "output_type": "stream",
     "text": [
      "Got the result from ./1/train/filtrations/4/RadialFiltration_51_51/gray/diagrams.npy\n",
      "Applying Scaler to persistence diagrams.\n",
      "Got the result from ./1/train/filtrations/4/RadialFiltration_51_51/gray/diagrams.npy\n",
      "Applying Scaler to persistence diagrams.\n",
      "Got the result from ./1/train/filtrations/4/RadialFiltration_51_51/red/diagrams.npy\n",
      "Applying Scaler to persistence diagrams.\n",
      "Got the result from ./1/train/filtrations/4/RadialFiltration_51_51/red/diagrams.npy\n",
      "Applying Scaler to persistence diagrams.\n",
      "Got the result from ./1/train/filtrations/4/RadialFiltration_51_51/green/diagrams.npy\n",
      "Applying Scaler to persistence diagrams.\n",
      "Got the result from ./1/train/filtrations/4/RadialFiltration_51_51/green/diagrams.npy\n",
      "Applying Scaler to persistence diagrams.\n",
      "Got the result from ./1/train/filtrations/4/RadialFiltration_51_51/blue/diagrams.npy\n",
      "Applying Scaler to persistence diagrams.\n",
      "Got the result from ./1/train/filtrations/4/RadialFiltration_51_51/blue/diagrams.npy\n",
      "Applying Scaler to persistence diagrams.\n",
      "Fitting filtration 49/72: 6/HeightFiltrartion_-1_-1\n",
      "RGB images received. Transforming to grayscale.\n"
     ]
    },
    {
     "name": "stderr",
     "output_type": "stream",
     "text": [
      "rgb2gray: 100%|██████████| 9030/9030 [00:01<00:00, 4595.51it/s]\n"
     ]
    },
    {
     "name": "stdout",
     "output_type": "stream",
     "text": [
      "Got the result from ./1/train/filtrations/6/HeightFiltrartion_-1_-1/gray/diagrams.npy\n",
      "Applying Scaler to persistence diagrams.\n",
      "Got the result from ./1/train/filtrations/6/HeightFiltrartion_-1_-1/gray/diagrams.npy\n",
      "Applying Scaler to persistence diagrams.\n",
      "Got the result from ./1/train/filtrations/6/HeightFiltrartion_-1_-1/red/diagrams.npy\n",
      "Applying Scaler to persistence diagrams.\n",
      "Got the result from ./1/train/filtrations/6/HeightFiltrartion_-1_-1/red/diagrams.npy\n",
      "Applying Scaler to persistence diagrams.\n",
      "Got the result from ./1/train/filtrations/6/HeightFiltrartion_-1_-1/green/diagrams.npy\n",
      "Applying Scaler to persistence diagrams.\n",
      "Got the result from ./1/train/filtrations/6/HeightFiltrartion_-1_-1/green/diagrams.npy\n",
      "Applying Scaler to persistence diagrams.\n",
      "Got the result from ./1/train/filtrations/6/HeightFiltrartion_-1_-1/blue/diagrams.npy\n",
      "Applying Scaler to persistence diagrams.\n",
      "Got the result from ./1/train/filtrations/6/HeightFiltrartion_-1_-1/blue/diagrams.npy\n",
      "Applying Scaler to persistence diagrams.\n",
      "Fitting filtration 50/72: 6/HeightFiltrartion_1_1\n",
      "RGB images received. Transforming to grayscale.\n"
     ]
    },
    {
     "name": "stderr",
     "output_type": "stream",
     "text": [
      "rgb2gray: 100%|██████████| 9030/9030 [00:01<00:00, 4878.43it/s]\n"
     ]
    },
    {
     "name": "stdout",
     "output_type": "stream",
     "text": [
      "Got the result from ./1/train/filtrations/6/HeightFiltrartion_1_1/gray/diagrams.npy\n",
      "Applying Scaler to persistence diagrams.\n",
      "Got the result from ./1/train/filtrations/6/HeightFiltrartion_1_1/gray/diagrams.npy\n",
      "Applying Scaler to persistence diagrams.\n",
      "Got the result from ./1/train/filtrations/6/HeightFiltrartion_1_1/red/diagrams.npy\n",
      "Applying Scaler to persistence diagrams.\n",
      "Got the result from ./1/train/filtrations/6/HeightFiltrartion_1_1/red/diagrams.npy\n",
      "Applying Scaler to persistence diagrams.\n",
      "Got the result from ./1/train/filtrations/6/HeightFiltrartion_1_1/green/diagrams.npy\n",
      "Applying Scaler to persistence diagrams.\n",
      "Got the result from ./1/train/filtrations/6/HeightFiltrartion_1_1/green/diagrams.npy\n",
      "Applying Scaler to persistence diagrams.\n",
      "Got the result from ./1/train/filtrations/6/HeightFiltrartion_1_1/blue/diagrams.npy\n",
      "Applying Scaler to persistence diagrams.\n",
      "Got the result from ./1/train/filtrations/6/HeightFiltrartion_1_1/blue/diagrams.npy\n",
      "Applying Scaler to persistence diagrams.\n",
      "Fitting filtration 51/72: 6/HeightFiltrartion_1_-1\n",
      "RGB images received. Transforming to grayscale.\n"
     ]
    },
    {
     "name": "stderr",
     "output_type": "stream",
     "text": [
      "rgb2gray: 100%|██████████| 9030/9030 [00:01<00:00, 4962.28it/s]\n"
     ]
    },
    {
     "name": "stdout",
     "output_type": "stream",
     "text": [
      "Got the result from ./1/train/filtrations/6/HeightFiltrartion_1_-1/gray/diagrams.npy\n",
      "Applying Scaler to persistence diagrams.\n",
      "Got the result from ./1/train/filtrations/6/HeightFiltrartion_1_-1/gray/diagrams.npy\n",
      "Applying Scaler to persistence diagrams.\n",
      "Got the result from ./1/train/filtrations/6/HeightFiltrartion_1_-1/red/diagrams.npy\n",
      "Applying Scaler to persistence diagrams.\n",
      "Got the result from ./1/train/filtrations/6/HeightFiltrartion_1_-1/red/diagrams.npy\n",
      "Applying Scaler to persistence diagrams.\n",
      "Got the result from ./1/train/filtrations/6/HeightFiltrartion_1_-1/green/diagrams.npy\n",
      "Applying Scaler to persistence diagrams.\n",
      "Got the result from ./1/train/filtrations/6/HeightFiltrartion_1_-1/green/diagrams.npy\n",
      "Applying Scaler to persistence diagrams.\n",
      "Got the result from ./1/train/filtrations/6/HeightFiltrartion_1_-1/blue/diagrams.npy\n",
      "Applying Scaler to persistence diagrams.\n",
      "Got the result from ./1/train/filtrations/6/HeightFiltrartion_1_-1/blue/diagrams.npy\n",
      "Applying Scaler to persistence diagrams.\n",
      "Fitting filtration 52/72: 6/HeightFiltrartion_-1_1\n",
      "RGB images received. Transforming to grayscale.\n"
     ]
    },
    {
     "name": "stderr",
     "output_type": "stream",
     "text": [
      "rgb2gray: 100%|██████████| 9030/9030 [00:01<00:00, 5266.71it/s]\n"
     ]
    },
    {
     "name": "stdout",
     "output_type": "stream",
     "text": [
      "Got the result from ./1/train/filtrations/6/HeightFiltrartion_-1_1/gray/diagrams.npy\n",
      "Applying Scaler to persistence diagrams.\n",
      "Got the result from ./1/train/filtrations/6/HeightFiltrartion_-1_1/gray/diagrams.npy\n",
      "Applying Scaler to persistence diagrams.\n",
      "Got the result from ./1/train/filtrations/6/HeightFiltrartion_-1_1/red/diagrams.npy\n",
      "Applying Scaler to persistence diagrams.\n",
      "Got the result from ./1/train/filtrations/6/HeightFiltrartion_-1_1/red/diagrams.npy\n",
      "Applying Scaler to persistence diagrams.\n",
      "Got the result from ./1/train/filtrations/6/HeightFiltrartion_-1_1/green/diagrams.npy\n",
      "Applying Scaler to persistence diagrams.\n",
      "Got the result from ./1/train/filtrations/6/HeightFiltrartion_-1_1/green/diagrams.npy\n",
      "Applying Scaler to persistence diagrams.\n",
      "Got the result from ./1/train/filtrations/6/HeightFiltrartion_-1_1/blue/diagrams.npy\n",
      "Applying Scaler to persistence diagrams.\n",
      "Got the result from ./1/train/filtrations/6/HeightFiltrartion_-1_1/blue/diagrams.npy\n",
      "Applying Scaler to persistence diagrams.\n",
      "Fitting filtration 53/72: 6/HeightFiltrartion_0_-1\n",
      "RGB images received. Transforming to grayscale.\n"
     ]
    },
    {
     "name": "stderr",
     "output_type": "stream",
     "text": [
      "rgb2gray: 100%|██████████| 9030/9030 [00:01<00:00, 5169.68it/s]\n"
     ]
    },
    {
     "name": "stdout",
     "output_type": "stream",
     "text": [
      "Got the result from ./1/train/filtrations/6/HeightFiltrartion_0_-1/gray/diagrams.npy\n",
      "Applying Scaler to persistence diagrams.\n",
      "Got the result from ./1/train/filtrations/6/HeightFiltrartion_0_-1/gray/diagrams.npy\n",
      "Applying Scaler to persistence diagrams.\n",
      "Got the result from ./1/train/filtrations/6/HeightFiltrartion_0_-1/red/diagrams.npy\n",
      "Applying Scaler to persistence diagrams.\n",
      "Got the result from ./1/train/filtrations/6/HeightFiltrartion_0_-1/red/diagrams.npy\n",
      "Applying Scaler to persistence diagrams.\n",
      "Got the result from ./1/train/filtrations/6/HeightFiltrartion_0_-1/green/diagrams.npy\n",
      "Applying Scaler to persistence diagrams.\n",
      "Got the result from ./1/train/filtrations/6/HeightFiltrartion_0_-1/green/diagrams.npy\n",
      "Applying Scaler to persistence diagrams.\n",
      "Got the result from ./1/train/filtrations/6/HeightFiltrartion_0_-1/blue/diagrams.npy\n",
      "Applying Scaler to persistence diagrams.\n",
      "Got the result from ./1/train/filtrations/6/HeightFiltrartion_0_-1/blue/diagrams.npy\n",
      "Applying Scaler to persistence diagrams.\n",
      "Fitting filtration 54/72: 6/HeightFiltrartion_0_1\n",
      "RGB images received. Transforming to grayscale.\n"
     ]
    },
    {
     "name": "stderr",
     "output_type": "stream",
     "text": [
      "rgb2gray: 100%|██████████| 9030/9030 [00:01<00:00, 5470.68it/s]\n"
     ]
    },
    {
     "name": "stdout",
     "output_type": "stream",
     "text": [
      "Got the result from ./1/train/filtrations/6/HeightFiltrartion_0_1/gray/diagrams.npy\n",
      "Applying Scaler to persistence diagrams.\n",
      "Got the result from ./1/train/filtrations/6/HeightFiltrartion_0_1/gray/diagrams.npy\n",
      "Applying Scaler to persistence diagrams.\n",
      "Got the result from ./1/train/filtrations/6/HeightFiltrartion_0_1/red/diagrams.npy\n",
      "Applying Scaler to persistence diagrams.\n",
      "Got the result from ./1/train/filtrations/6/HeightFiltrartion_0_1/red/diagrams.npy\n",
      "Applying Scaler to persistence diagrams.\n",
      "Got the result from ./1/train/filtrations/6/HeightFiltrartion_0_1/green/diagrams.npy\n",
      "Applying Scaler to persistence diagrams.\n",
      "Got the result from ./1/train/filtrations/6/HeightFiltrartion_0_1/green/diagrams.npy\n",
      "Applying Scaler to persistence diagrams.\n",
      "Got the result from ./1/train/filtrations/6/HeightFiltrartion_0_1/blue/diagrams.npy\n",
      "Applying Scaler to persistence diagrams.\n",
      "Got the result from ./1/train/filtrations/6/HeightFiltrartion_0_1/blue/diagrams.npy\n",
      "Applying Scaler to persistence diagrams.\n",
      "Fitting filtration 55/72: 6/HeightFiltrartion_-1_0\n",
      "RGB images received. Transforming to grayscale.\n"
     ]
    },
    {
     "name": "stderr",
     "output_type": "stream",
     "text": [
      "rgb2gray: 100%|██████████| 9030/9030 [00:01<00:00, 5446.19it/s]\n"
     ]
    },
    {
     "name": "stdout",
     "output_type": "stream",
     "text": [
      "Got the result from ./1/train/filtrations/6/HeightFiltrartion_-1_0/gray/diagrams.npy\n",
      "Applying Scaler to persistence diagrams.\n",
      "Got the result from ./1/train/filtrations/6/HeightFiltrartion_-1_0/gray/diagrams.npy\n",
      "Applying Scaler to persistence diagrams.\n",
      "Got the result from ./1/train/filtrations/6/HeightFiltrartion_-1_0/red/diagrams.npy\n",
      "Applying Scaler to persistence diagrams.\n",
      "Got the result from ./1/train/filtrations/6/HeightFiltrartion_-1_0/red/diagrams.npy\n",
      "Applying Scaler to persistence diagrams.\n",
      "Got the result from ./1/train/filtrations/6/HeightFiltrartion_-1_0/green/diagrams.npy\n",
      "Applying Scaler to persistence diagrams.\n",
      "Got the result from ./1/train/filtrations/6/HeightFiltrartion_-1_0/green/diagrams.npy\n",
      "Applying Scaler to persistence diagrams.\n",
      "Got the result from ./1/train/filtrations/6/HeightFiltrartion_-1_0/blue/diagrams.npy\n",
      "Applying Scaler to persistence diagrams.\n",
      "Got the result from ./1/train/filtrations/6/HeightFiltrartion_-1_0/blue/diagrams.npy\n",
      "Applying Scaler to persistence diagrams.\n",
      "Fitting filtration 56/72: 6/HeightFiltrartion_1_0\n",
      "RGB images received. Transforming to grayscale.\n"
     ]
    },
    {
     "name": "stderr",
     "output_type": "stream",
     "text": [
      "rgb2gray: 100%|██████████| 9030/9030 [00:01<00:00, 5154.27it/s]\n"
     ]
    },
    {
     "name": "stdout",
     "output_type": "stream",
     "text": [
      "Got the result from ./1/train/filtrations/6/HeightFiltrartion_1_0/gray/diagrams.npy\n",
      "Applying Scaler to persistence diagrams.\n",
      "Got the result from ./1/train/filtrations/6/HeightFiltrartion_1_0/gray/diagrams.npy\n",
      "Applying Scaler to persistence diagrams.\n",
      "Got the result from ./1/train/filtrations/6/HeightFiltrartion_1_0/red/diagrams.npy\n",
      "Applying Scaler to persistence diagrams.\n",
      "Got the result from ./1/train/filtrations/6/HeightFiltrartion_1_0/red/diagrams.npy\n",
      "Applying Scaler to persistence diagrams.\n",
      "Got the result from ./1/train/filtrations/6/HeightFiltrartion_1_0/green/diagrams.npy\n",
      "Applying Scaler to persistence diagrams.\n",
      "Got the result from ./1/train/filtrations/6/HeightFiltrartion_1_0/green/diagrams.npy\n",
      "Applying Scaler to persistence diagrams.\n",
      "Got the result from ./1/train/filtrations/6/HeightFiltrartion_1_0/blue/diagrams.npy\n",
      "Applying Scaler to persistence diagrams.\n",
      "Got the result from ./1/train/filtrations/6/HeightFiltrartion_1_0/blue/diagrams.npy\n",
      "Applying Scaler to persistence diagrams.\n",
      "Fitting filtration 57/72: 6/RadialFiltration_12_12\n",
      "RGB images received. Transforming to grayscale.\n"
     ]
    },
    {
     "name": "stderr",
     "output_type": "stream",
     "text": [
      "rgb2gray: 100%|██████████| 9030/9030 [00:01<00:00, 4740.15it/s]\n"
     ]
    },
    {
     "name": "stdout",
     "output_type": "stream",
     "text": [
      "Got the result from ./1/train/filtrations/6/RadialFiltration_12_12/gray/diagrams.npy\n",
      "Applying Scaler to persistence diagrams.\n",
      "Got the result from ./1/train/filtrations/6/RadialFiltration_12_12/gray/diagrams.npy\n",
      "Applying Scaler to persistence diagrams.\n",
      "Got the result from ./1/train/filtrations/6/RadialFiltration_12_12/red/diagrams.npy\n",
      "Applying Scaler to persistence diagrams.\n",
      "Got the result from ./1/train/filtrations/6/RadialFiltration_12_12/red/diagrams.npy\n",
      "Applying Scaler to persistence diagrams.\n",
      "Got the result from ./1/train/filtrations/6/RadialFiltration_12_12/green/diagrams.npy\n",
      "Applying Scaler to persistence diagrams.\n",
      "Got the result from ./1/train/filtrations/6/RadialFiltration_12_12/green/diagrams.npy\n",
      "Applying Scaler to persistence diagrams.\n",
      "Got the result from ./1/train/filtrations/6/RadialFiltration_12_12/blue/diagrams.npy\n",
      "Applying Scaler to persistence diagrams.\n",
      "Got the result from ./1/train/filtrations/6/RadialFiltration_12_12/blue/diagrams.npy\n",
      "Applying Scaler to persistence diagrams.\n",
      "Fitting filtration 58/72: 6/RadialFiltration_12_25\n",
      "RGB images received. Transforming to grayscale.\n"
     ]
    },
    {
     "name": "stderr",
     "output_type": "stream",
     "text": [
      "rgb2gray: 100%|██████████| 9030/9030 [00:02<00:00, 4285.08it/s]\n"
     ]
    },
    {
     "name": "stdout",
     "output_type": "stream",
     "text": [
      "Got the result from ./1/train/filtrations/6/RadialFiltration_12_25/gray/diagrams.npy\n",
      "Applying Scaler to persistence diagrams.\n",
      "Got the result from ./1/train/filtrations/6/RadialFiltration_12_25/gray/diagrams.npy\n",
      "Applying Scaler to persistence diagrams.\n",
      "Got the result from ./1/train/filtrations/6/RadialFiltration_12_25/red/diagrams.npy\n",
      "Applying Scaler to persistence diagrams.\n",
      "Got the result from ./1/train/filtrations/6/RadialFiltration_12_25/red/diagrams.npy\n",
      "Applying Scaler to persistence diagrams.\n",
      "Got the result from ./1/train/filtrations/6/RadialFiltration_12_25/green/diagrams.npy\n",
      "Applying Scaler to persistence diagrams.\n",
      "Got the result from ./1/train/filtrations/6/RadialFiltration_12_25/green/diagrams.npy\n",
      "Applying Scaler to persistence diagrams.\n",
      "Got the result from ./1/train/filtrations/6/RadialFiltration_12_25/blue/diagrams.npy\n",
      "Applying Scaler to persistence diagrams.\n",
      "Got the result from ./1/train/filtrations/6/RadialFiltration_12_25/blue/diagrams.npy\n",
      "Applying Scaler to persistence diagrams.\n",
      "Fitting filtration 59/72: 6/RadialFiltration_12_38\n",
      "RGB images received. Transforming to grayscale.\n"
     ]
    },
    {
     "name": "stderr",
     "output_type": "stream",
     "text": [
      "rgb2gray: 100%|██████████| 9030/9030 [00:01<00:00, 4570.54it/s]\n"
     ]
    },
    {
     "name": "stdout",
     "output_type": "stream",
     "text": [
      "Got the result from ./1/train/filtrations/6/RadialFiltration_12_38/gray/diagrams.npy\n",
      "Applying Scaler to persistence diagrams.\n",
      "Got the result from ./1/train/filtrations/6/RadialFiltration_12_38/gray/diagrams.npy\n",
      "Applying Scaler to persistence diagrams.\n",
      "Got the result from ./1/train/filtrations/6/RadialFiltration_12_38/red/diagrams.npy\n",
      "Applying Scaler to persistence diagrams.\n",
      "Got the result from ./1/train/filtrations/6/RadialFiltration_12_38/red/diagrams.npy\n",
      "Applying Scaler to persistence diagrams.\n",
      "Got the result from ./1/train/filtrations/6/RadialFiltration_12_38/green/diagrams.npy\n",
      "Applying Scaler to persistence diagrams.\n",
      "Got the result from ./1/train/filtrations/6/RadialFiltration_12_38/green/diagrams.npy\n",
      "Applying Scaler to persistence diagrams.\n",
      "Got the result from ./1/train/filtrations/6/RadialFiltration_12_38/blue/diagrams.npy\n",
      "Applying Scaler to persistence diagrams.\n",
      "Got the result from ./1/train/filtrations/6/RadialFiltration_12_38/blue/diagrams.npy\n",
      "Applying Scaler to persistence diagrams.\n",
      "Fitting filtration 60/72: 6/RadialFiltration_12_51\n",
      "RGB images received. Transforming to grayscale.\n"
     ]
    },
    {
     "name": "stderr",
     "output_type": "stream",
     "text": [
      "rgb2gray: 100%|██████████| 9030/9030 [00:02<00:00, 4366.88it/s]\n"
     ]
    },
    {
     "name": "stdout",
     "output_type": "stream",
     "text": [
      "Got the result from ./1/train/filtrations/6/RadialFiltration_12_51/gray/diagrams.npy\n",
      "Applying Scaler to persistence diagrams.\n",
      "Got the result from ./1/train/filtrations/6/RadialFiltration_12_51/gray/diagrams.npy\n",
      "Applying Scaler to persistence diagrams.\n",
      "Got the result from ./1/train/filtrations/6/RadialFiltration_12_51/red/diagrams.npy\n",
      "Applying Scaler to persistence diagrams.\n",
      "Got the result from ./1/train/filtrations/6/RadialFiltration_12_51/red/diagrams.npy\n",
      "Applying Scaler to persistence diagrams.\n",
      "Got the result from ./1/train/filtrations/6/RadialFiltration_12_51/green/diagrams.npy\n",
      "Applying Scaler to persistence diagrams.\n",
      "Got the result from ./1/train/filtrations/6/RadialFiltration_12_51/green/diagrams.npy\n",
      "Applying Scaler to persistence diagrams.\n",
      "Got the result from ./1/train/filtrations/6/RadialFiltration_12_51/blue/diagrams.npy\n",
      "Applying Scaler to persistence diagrams.\n",
      "Got the result from ./1/train/filtrations/6/RadialFiltration_12_51/blue/diagrams.npy\n",
      "Applying Scaler to persistence diagrams.\n",
      "Fitting filtration 61/72: 6/RadialFiltration_25_12\n",
      "RGB images received. Transforming to grayscale.\n"
     ]
    },
    {
     "name": "stderr",
     "output_type": "stream",
     "text": [
      "rgb2gray: 100%|██████████| 9030/9030 [00:01<00:00, 5191.28it/s]\n"
     ]
    },
    {
     "name": "stdout",
     "output_type": "stream",
     "text": [
      "Got the result from ./1/train/filtrations/6/RadialFiltration_25_12/gray/diagrams.npy\n",
      "Applying Scaler to persistence diagrams.\n",
      "Got the result from ./1/train/filtrations/6/RadialFiltration_25_12/gray/diagrams.npy\n",
      "Applying Scaler to persistence diagrams.\n",
      "Got the result from ./1/train/filtrations/6/RadialFiltration_25_12/red/diagrams.npy\n",
      "Applying Scaler to persistence diagrams.\n",
      "Got the result from ./1/train/filtrations/6/RadialFiltration_25_12/red/diagrams.npy\n",
      "Applying Scaler to persistence diagrams.\n",
      "Got the result from ./1/train/filtrations/6/RadialFiltration_25_12/green/diagrams.npy\n",
      "Applying Scaler to persistence diagrams.\n",
      "Got the result from ./1/train/filtrations/6/RadialFiltration_25_12/green/diagrams.npy\n",
      "Applying Scaler to persistence diagrams.\n",
      "Got the result from ./1/train/filtrations/6/RadialFiltration_25_12/blue/diagrams.npy\n",
      "Applying Scaler to persistence diagrams.\n",
      "Got the result from ./1/train/filtrations/6/RadialFiltration_25_12/blue/diagrams.npy\n",
      "Applying Scaler to persistence diagrams.\n",
      "Fitting filtration 62/72: 6/RadialFiltration_25_25\n",
      "RGB images received. Transforming to grayscale.\n"
     ]
    },
    {
     "name": "stderr",
     "output_type": "stream",
     "text": [
      "rgb2gray: 100%|██████████| 9030/9030 [00:01<00:00, 5118.30it/s]\n"
     ]
    },
    {
     "name": "stdout",
     "output_type": "stream",
     "text": [
      "Got the result from ./1/train/filtrations/6/RadialFiltration_25_25/gray/diagrams.npy\n",
      "Applying Scaler to persistence diagrams.\n",
      "Got the result from ./1/train/filtrations/6/RadialFiltration_25_25/gray/diagrams.npy\n",
      "Applying Scaler to persistence diagrams.\n",
      "Got the result from ./1/train/filtrations/6/RadialFiltration_25_25/red/diagrams.npy\n",
      "Applying Scaler to persistence diagrams.\n",
      "Got the result from ./1/train/filtrations/6/RadialFiltration_25_25/red/diagrams.npy\n",
      "Applying Scaler to persistence diagrams.\n",
      "Got the result from ./1/train/filtrations/6/RadialFiltration_25_25/green/diagrams.npy\n",
      "Applying Scaler to persistence diagrams.\n",
      "Got the result from ./1/train/filtrations/6/RadialFiltration_25_25/green/diagrams.npy\n",
      "Applying Scaler to persistence diagrams.\n",
      "Got the result from ./1/train/filtrations/6/RadialFiltration_25_25/blue/diagrams.npy\n",
      "Applying Scaler to persistence diagrams.\n",
      "Got the result from ./1/train/filtrations/6/RadialFiltration_25_25/blue/diagrams.npy\n",
      "Applying Scaler to persistence diagrams.\n",
      "Fitting filtration 63/72: 6/RadialFiltration_25_38\n",
      "RGB images received. Transforming to grayscale.\n"
     ]
    },
    {
     "name": "stderr",
     "output_type": "stream",
     "text": [
      "rgb2gray: 100%|██████████| 9030/9030 [00:01<00:00, 5265.52it/s]\n"
     ]
    },
    {
     "name": "stdout",
     "output_type": "stream",
     "text": [
      "Got the result from ./1/train/filtrations/6/RadialFiltration_25_38/gray/diagrams.npy\n",
      "Applying Scaler to persistence diagrams.\n",
      "Got the result from ./1/train/filtrations/6/RadialFiltration_25_38/gray/diagrams.npy\n",
      "Applying Scaler to persistence diagrams.\n",
      "Got the result from ./1/train/filtrations/6/RadialFiltration_25_38/red/diagrams.npy\n",
      "Applying Scaler to persistence diagrams.\n",
      "Got the result from ./1/train/filtrations/6/RadialFiltration_25_38/red/diagrams.npy\n",
      "Applying Scaler to persistence diagrams.\n",
      "Got the result from ./1/train/filtrations/6/RadialFiltration_25_38/green/diagrams.npy\n",
      "Applying Scaler to persistence diagrams.\n",
      "Got the result from ./1/train/filtrations/6/RadialFiltration_25_38/green/diagrams.npy\n",
      "Applying Scaler to persistence diagrams.\n",
      "Got the result from ./1/train/filtrations/6/RadialFiltration_25_38/blue/diagrams.npy\n",
      "Applying Scaler to persistence diagrams.\n",
      "Got the result from ./1/train/filtrations/6/RadialFiltration_25_38/blue/diagrams.npy\n",
      "Applying Scaler to persistence diagrams.\n",
      "Fitting filtration 64/72: 6/RadialFiltration_25_51\n",
      "RGB images received. Transforming to grayscale.\n"
     ]
    },
    {
     "name": "stderr",
     "output_type": "stream",
     "text": [
      "rgb2gray: 100%|██████████| 9030/9030 [00:02<00:00, 4233.98it/s]\n"
     ]
    },
    {
     "name": "stdout",
     "output_type": "stream",
     "text": [
      "Got the result from ./1/train/filtrations/6/RadialFiltration_25_51/gray/diagrams.npy\n",
      "Applying Scaler to persistence diagrams.\n",
      "Got the result from ./1/train/filtrations/6/RadialFiltration_25_51/gray/diagrams.npy\n",
      "Applying Scaler to persistence diagrams.\n",
      "Got the result from ./1/train/filtrations/6/RadialFiltration_25_51/red/diagrams.npy\n",
      "Applying Scaler to persistence diagrams.\n",
      "Got the result from ./1/train/filtrations/6/RadialFiltration_25_51/red/diagrams.npy\n",
      "Applying Scaler to persistence diagrams.\n",
      "Got the result from ./1/train/filtrations/6/RadialFiltration_25_51/green/diagrams.npy\n",
      "Applying Scaler to persistence diagrams.\n",
      "Got the result from ./1/train/filtrations/6/RadialFiltration_25_51/green/diagrams.npy\n",
      "Applying Scaler to persistence diagrams.\n",
      "Got the result from ./1/train/filtrations/6/RadialFiltration_25_51/blue/diagrams.npy\n",
      "Applying Scaler to persistence diagrams.\n",
      "Got the result from ./1/train/filtrations/6/RadialFiltration_25_51/blue/diagrams.npy\n",
      "Applying Scaler to persistence diagrams.\n",
      "Fitting filtration 65/72: 6/RadialFiltration_38_12\n",
      "RGB images received. Transforming to grayscale.\n"
     ]
    },
    {
     "name": "stderr",
     "output_type": "stream",
     "text": [
      "rgb2gray: 100%|██████████| 9030/9030 [00:01<00:00, 5283.42it/s]\n"
     ]
    },
    {
     "name": "stdout",
     "output_type": "stream",
     "text": [
      "Got the result from ./1/train/filtrations/6/RadialFiltration_38_12/gray/diagrams.npy\n",
      "Applying Scaler to persistence diagrams.\n",
      "Got the result from ./1/train/filtrations/6/RadialFiltration_38_12/gray/diagrams.npy\n",
      "Applying Scaler to persistence diagrams.\n",
      "Got the result from ./1/train/filtrations/6/RadialFiltration_38_12/red/diagrams.npy\n",
      "Applying Scaler to persistence diagrams.\n",
      "Got the result from ./1/train/filtrations/6/RadialFiltration_38_12/red/diagrams.npy\n",
      "Applying Scaler to persistence diagrams.\n",
      "Got the result from ./1/train/filtrations/6/RadialFiltration_38_12/green/diagrams.npy\n",
      "Applying Scaler to persistence diagrams.\n",
      "Got the result from ./1/train/filtrations/6/RadialFiltration_38_12/green/diagrams.npy\n",
      "Applying Scaler to persistence diagrams.\n",
      "Got the result from ./1/train/filtrations/6/RadialFiltration_38_12/blue/diagrams.npy\n",
      "Applying Scaler to persistence diagrams.\n",
      "Got the result from ./1/train/filtrations/6/RadialFiltration_38_12/blue/diagrams.npy\n",
      "Applying Scaler to persistence diagrams.\n",
      "Fitting filtration 66/72: 6/RadialFiltration_38_25\n",
      "RGB images received. Transforming to grayscale.\n"
     ]
    },
    {
     "name": "stderr",
     "output_type": "stream",
     "text": [
      "rgb2gray: 100%|██████████| 9030/9030 [00:01<00:00, 5167.78it/s]\n"
     ]
    },
    {
     "name": "stdout",
     "output_type": "stream",
     "text": [
      "Got the result from ./1/train/filtrations/6/RadialFiltration_38_25/gray/diagrams.npy\n",
      "Applying Scaler to persistence diagrams.\n",
      "Got the result from ./1/train/filtrations/6/RadialFiltration_38_25/gray/diagrams.npy\n",
      "Applying Scaler to persistence diagrams.\n",
      "Got the result from ./1/train/filtrations/6/RadialFiltration_38_25/red/diagrams.npy\n",
      "Applying Scaler to persistence diagrams.\n",
      "Got the result from ./1/train/filtrations/6/RadialFiltration_38_25/red/diagrams.npy\n",
      "Applying Scaler to persistence diagrams.\n",
      "Got the result from ./1/train/filtrations/6/RadialFiltration_38_25/green/diagrams.npy\n",
      "Applying Scaler to persistence diagrams.\n",
      "Got the result from ./1/train/filtrations/6/RadialFiltration_38_25/green/diagrams.npy\n",
      "Applying Scaler to persistence diagrams.\n",
      "Got the result from ./1/train/filtrations/6/RadialFiltration_38_25/blue/diagrams.npy\n",
      "Applying Scaler to persistence diagrams.\n",
      "Got the result from ./1/train/filtrations/6/RadialFiltration_38_25/blue/diagrams.npy\n",
      "Applying Scaler to persistence diagrams.\n",
      "Fitting filtration 67/72: 6/RadialFiltration_38_38\n",
      "RGB images received. Transforming to grayscale.\n"
     ]
    },
    {
     "name": "stderr",
     "output_type": "stream",
     "text": [
      "rgb2gray: 100%|██████████| 9030/9030 [00:01<00:00, 5217.72it/s]\n"
     ]
    },
    {
     "name": "stdout",
     "output_type": "stream",
     "text": [
      "Got the result from ./1/train/filtrations/6/RadialFiltration_38_38/gray/diagrams.npy\n",
      "Applying Scaler to persistence diagrams.\n",
      "Got the result from ./1/train/filtrations/6/RadialFiltration_38_38/gray/diagrams.npy\n",
      "Applying Scaler to persistence diagrams.\n",
      "Got the result from ./1/train/filtrations/6/RadialFiltration_38_38/red/diagrams.npy\n",
      "Applying Scaler to persistence diagrams.\n",
      "Got the result from ./1/train/filtrations/6/RadialFiltration_38_38/red/diagrams.npy\n",
      "Applying Scaler to persistence diagrams.\n",
      "Got the result from ./1/train/filtrations/6/RadialFiltration_38_38/green/diagrams.npy\n",
      "Applying Scaler to persistence diagrams.\n",
      "Got the result from ./1/train/filtrations/6/RadialFiltration_38_38/green/diagrams.npy\n",
      "Applying Scaler to persistence diagrams.\n",
      "Got the result from ./1/train/filtrations/6/RadialFiltration_38_38/blue/diagrams.npy\n",
      "Applying Scaler to persistence diagrams.\n",
      "Got the result from ./1/train/filtrations/6/RadialFiltration_38_38/blue/diagrams.npy\n",
      "Applying Scaler to persistence diagrams.\n",
      "Fitting filtration 68/72: 6/RadialFiltration_38_51\n",
      "RGB images received. Transforming to grayscale.\n"
     ]
    },
    {
     "name": "stderr",
     "output_type": "stream",
     "text": [
      "rgb2gray: 100%|██████████| 9030/9030 [00:01<00:00, 5153.08it/s]\n"
     ]
    },
    {
     "name": "stdout",
     "output_type": "stream",
     "text": [
      "Got the result from ./1/train/filtrations/6/RadialFiltration_38_51/gray/diagrams.npy\n",
      "Applying Scaler to persistence diagrams.\n",
      "Got the result from ./1/train/filtrations/6/RadialFiltration_38_51/gray/diagrams.npy\n",
      "Applying Scaler to persistence diagrams.\n",
      "Got the result from ./1/train/filtrations/6/RadialFiltration_38_51/red/diagrams.npy\n",
      "Applying Scaler to persistence diagrams.\n",
      "Got the result from ./1/train/filtrations/6/RadialFiltration_38_51/red/diagrams.npy\n",
      "Applying Scaler to persistence diagrams.\n",
      "Got the result from ./1/train/filtrations/6/RadialFiltration_38_51/green/diagrams.npy\n",
      "Applying Scaler to persistence diagrams.\n",
      "Got the result from ./1/train/filtrations/6/RadialFiltration_38_51/green/diagrams.npy\n",
      "Applying Scaler to persistence diagrams.\n",
      "Got the result from ./1/train/filtrations/6/RadialFiltration_38_51/blue/diagrams.npy\n",
      "Applying Scaler to persistence diagrams.\n",
      "Got the result from ./1/train/filtrations/6/RadialFiltration_38_51/blue/diagrams.npy\n",
      "Applying Scaler to persistence diagrams.\n",
      "Fitting filtration 69/72: 6/RadialFiltration_51_12\n",
      "RGB images received. Transforming to grayscale.\n"
     ]
    },
    {
     "name": "stderr",
     "output_type": "stream",
     "text": [
      "rgb2gray: 100%|██████████| 9030/9030 [00:01<00:00, 5527.14it/s] \n"
     ]
    },
    {
     "name": "stdout",
     "output_type": "stream",
     "text": [
      "Got the result from ./1/train/filtrations/6/RadialFiltration_51_12/gray/diagrams.npy\n",
      "Applying Scaler to persistence diagrams.\n",
      "Got the result from ./1/train/filtrations/6/RadialFiltration_51_12/gray/diagrams.npy\n",
      "Applying Scaler to persistence diagrams.\n",
      "Got the result from ./1/train/filtrations/6/RadialFiltration_51_12/red/diagrams.npy\n",
      "Applying Scaler to persistence diagrams.\n",
      "Got the result from ./1/train/filtrations/6/RadialFiltration_51_12/red/diagrams.npy\n",
      "Applying Scaler to persistence diagrams.\n",
      "Got the result from ./1/train/filtrations/6/RadialFiltration_51_12/green/diagrams.npy\n",
      "Applying Scaler to persistence diagrams.\n",
      "Got the result from ./1/train/filtrations/6/RadialFiltration_51_12/green/diagrams.npy\n",
      "Applying Scaler to persistence diagrams.\n",
      "Got the result from ./1/train/filtrations/6/RadialFiltration_51_12/blue/diagrams.npy\n",
      "Applying Scaler to persistence diagrams.\n",
      "Got the result from ./1/train/filtrations/6/RadialFiltration_51_12/blue/diagrams.npy\n",
      "Applying Scaler to persistence diagrams.\n",
      "Fitting filtration 70/72: 6/RadialFiltration_51_25\n",
      "RGB images received. Transforming to grayscale.\n"
     ]
    },
    {
     "name": "stderr",
     "output_type": "stream",
     "text": [
      "rgb2gray: 100%|██████████| 9030/9030 [00:01<00:00, 5465.29it/s]\n"
     ]
    },
    {
     "name": "stdout",
     "output_type": "stream",
     "text": [
      "Got the result from ./1/train/filtrations/6/RadialFiltration_51_25/gray/diagrams.npy\n",
      "Applying Scaler to persistence diagrams.\n",
      "Got the result from ./1/train/filtrations/6/RadialFiltration_51_25/gray/diagrams.npy\n",
      "Applying Scaler to persistence diagrams.\n",
      "Got the result from ./1/train/filtrations/6/RadialFiltration_51_25/red/diagrams.npy\n",
      "Applying Scaler to persistence diagrams.\n",
      "Got the result from ./1/train/filtrations/6/RadialFiltration_51_25/red/diagrams.npy\n",
      "Applying Scaler to persistence diagrams.\n",
      "Got the result from ./1/train/filtrations/6/RadialFiltration_51_25/green/diagrams.npy\n",
      "Applying Scaler to persistence diagrams.\n",
      "Got the result from ./1/train/filtrations/6/RadialFiltration_51_25/green/diagrams.npy\n",
      "Applying Scaler to persistence diagrams.\n",
      "Got the result from ./1/train/filtrations/6/RadialFiltration_51_25/blue/diagrams.npy\n",
      "Applying Scaler to persistence diagrams.\n",
      "Got the result from ./1/train/filtrations/6/RadialFiltration_51_25/blue/diagrams.npy\n",
      "Applying Scaler to persistence diagrams.\n",
      "Fitting filtration 71/72: 6/RadialFiltration_51_38\n",
      "RGB images received. Transforming to grayscale.\n"
     ]
    },
    {
     "name": "stderr",
     "output_type": "stream",
     "text": [
      "rgb2gray: 100%|██████████| 9030/9030 [00:01<00:00, 5318.36it/s]\n"
     ]
    },
    {
     "name": "stdout",
     "output_type": "stream",
     "text": [
      "Got the result from ./1/train/filtrations/6/RadialFiltration_51_38/gray/diagrams.npy\n",
      "Applying Scaler to persistence diagrams.\n",
      "Got the result from ./1/train/filtrations/6/RadialFiltration_51_38/gray/diagrams.npy\n",
      "Applying Scaler to persistence diagrams.\n",
      "Got the result from ./1/train/filtrations/6/RadialFiltration_51_38/red/diagrams.npy\n",
      "Applying Scaler to persistence diagrams.\n",
      "Got the result from ./1/train/filtrations/6/RadialFiltration_51_38/red/diagrams.npy\n",
      "Applying Scaler to persistence diagrams.\n",
      "Got the result from ./1/train/filtrations/6/RadialFiltration_51_38/green/diagrams.npy\n",
      "Applying Scaler to persistence diagrams.\n",
      "Got the result from ./1/train/filtrations/6/RadialFiltration_51_38/green/diagrams.npy\n",
      "Applying Scaler to persistence diagrams.\n",
      "Got the result from ./1/train/filtrations/6/RadialFiltration_51_38/blue/diagrams.npy\n",
      "Applying Scaler to persistence diagrams.\n",
      "Got the result from ./1/train/filtrations/6/RadialFiltration_51_38/blue/diagrams.npy\n",
      "Applying Scaler to persistence diagrams.\n",
      "Fitting filtration 72/72: 6/RadialFiltration_51_51\n",
      "RGB images received. Transforming to grayscale.\n"
     ]
    },
    {
     "name": "stderr",
     "output_type": "stream",
     "text": [
      "rgb2gray: 100%|██████████| 9030/9030 [00:01<00:00, 4777.94it/s]\n"
     ]
    },
    {
     "name": "stdout",
     "output_type": "stream",
     "text": [
      "Got the result from ./1/train/filtrations/6/RadialFiltration_51_51/gray/diagrams.npy\n",
      "Applying Scaler to persistence diagrams.\n",
      "Got the result from ./1/train/filtrations/6/RadialFiltration_51_51/gray/diagrams.npy\n",
      "Applying Scaler to persistence diagrams.\n",
      "Got the result from ./1/train/filtrations/6/RadialFiltration_51_51/red/diagrams.npy\n",
      "Applying Scaler to persistence diagrams.\n",
      "Got the result from ./1/train/filtrations/6/RadialFiltration_51_51/red/diagrams.npy\n",
      "Applying Scaler to persistence diagrams.\n",
      "Got the result from ./1/train/filtrations/6/RadialFiltration_51_51/green/diagrams.npy\n",
      "Applying Scaler to persistence diagrams.\n",
      "Got the result from ./1/train/filtrations/6/RadialFiltration_51_51/green/diagrams.npy\n",
      "Applying Scaler to persistence diagrams.\n",
      "Got the result from ./1/train/filtrations/6/RadialFiltration_51_51/blue/diagrams.npy\n",
      "Applying Scaler to persistence diagrams.\n",
      "Got the result from ./1/train/filtrations/6/RadialFiltration_51_51/blue/diagrams.npy\n",
      "Applying Scaler to persistence diagrams.\n",
      "Applying filtrations\n",
      "Applying filtration 1/72: 2/HeightFiltrartion_-1_-1\n",
      "RGB images received. Transforming to grayscale.\n"
     ]
    },
    {
     "name": "stderr",
     "output_type": "stream",
     "text": [
      "rgb2gray: 100%|██████████| 9030/9030 [00:01<00:00, 5147.90it/s]\n"
     ]
    },
    {
     "name": "stdout",
     "output_type": "stream",
     "text": [
      "Got the result from ./1/train/filtrations/2/HeightFiltrartion_-1_-1/gray/diagrams.npy\n",
      "Applying Scaler to persistence diagrams.\n",
      "Got the result from ./1/train/filtrations/2/HeightFiltrartion_-1_-1/red/diagrams.npy\n",
      "Applying Scaler to persistence diagrams.\n",
      "Got the result from ./1/train/filtrations/2/HeightFiltrartion_-1_-1/green/diagrams.npy\n",
      "Applying Scaler to persistence diagrams.\n",
      "Got the result from ./1/train/filtrations/2/HeightFiltrartion_-1_-1/blue/diagrams.npy\n",
      "Applying Scaler to persistence diagrams.\n",
      "Applying filtration 2/72: 2/HeightFiltrartion_1_1\n",
      "RGB images received. Transforming to grayscale.\n"
     ]
    },
    {
     "name": "stderr",
     "output_type": "stream",
     "text": [
      "rgb2gray: 100%|██████████| 9030/9030 [00:01<00:00, 5442.05it/s]\n"
     ]
    },
    {
     "name": "stdout",
     "output_type": "stream",
     "text": [
      "Got the result from ./1/train/filtrations/2/HeightFiltrartion_1_1/gray/diagrams.npy\n",
      "Applying Scaler to persistence diagrams.\n",
      "Got the result from ./1/train/filtrations/2/HeightFiltrartion_1_1/red/diagrams.npy\n",
      "Applying Scaler to persistence diagrams.\n",
      "Got the result from ./1/train/filtrations/2/HeightFiltrartion_1_1/green/diagrams.npy\n",
      "Applying Scaler to persistence diagrams.\n",
      "Got the result from ./1/train/filtrations/2/HeightFiltrartion_1_1/blue/diagrams.npy\n",
      "Applying Scaler to persistence diagrams.\n",
      "Applying filtration 3/72: 2/HeightFiltrartion_1_-1\n",
      "RGB images received. Transforming to grayscale.\n"
     ]
    },
    {
     "name": "stderr",
     "output_type": "stream",
     "text": [
      "rgb2gray: 100%|██████████| 9030/9030 [00:01<00:00, 5360.15it/s]\n"
     ]
    },
    {
     "name": "stdout",
     "output_type": "stream",
     "text": [
      "Got the result from ./1/train/filtrations/2/HeightFiltrartion_1_-1/gray/diagrams.npy\n",
      "Applying Scaler to persistence diagrams.\n",
      "Got the result from ./1/train/filtrations/2/HeightFiltrartion_1_-1/red/diagrams.npy\n",
      "Applying Scaler to persistence diagrams.\n",
      "Got the result from ./1/train/filtrations/2/HeightFiltrartion_1_-1/green/diagrams.npy\n",
      "Applying Scaler to persistence diagrams.\n",
      "Got the result from ./1/train/filtrations/2/HeightFiltrartion_1_-1/blue/diagrams.npy\n",
      "Applying Scaler to persistence diagrams.\n",
      "Applying filtration 4/72: 2/HeightFiltrartion_-1_1\n",
      "RGB images received. Transforming to grayscale.\n"
     ]
    },
    {
     "name": "stderr",
     "output_type": "stream",
     "text": [
      "rgb2gray: 100%|██████████| 9030/9030 [00:01<00:00, 4972.28it/s]\n"
     ]
    },
    {
     "name": "stdout",
     "output_type": "stream",
     "text": [
      "Got the result from ./1/train/filtrations/2/HeightFiltrartion_-1_1/gray/diagrams.npy\n",
      "Applying Scaler to persistence diagrams.\n",
      "Got the result from ./1/train/filtrations/2/HeightFiltrartion_-1_1/red/diagrams.npy\n",
      "Applying Scaler to persistence diagrams.\n",
      "Got the result from ./1/train/filtrations/2/HeightFiltrartion_-1_1/green/diagrams.npy\n",
      "Applying Scaler to persistence diagrams.\n",
      "Got the result from ./1/train/filtrations/2/HeightFiltrartion_-1_1/blue/diagrams.npy\n",
      "Applying Scaler to persistence diagrams.\n",
      "Applying filtration 5/72: 2/HeightFiltrartion_0_-1\n",
      "RGB images received. Transforming to grayscale.\n"
     ]
    },
    {
     "name": "stderr",
     "output_type": "stream",
     "text": [
      "rgb2gray: 100%|██████████| 9030/9030 [00:01<00:00, 5153.78it/s]\n"
     ]
    },
    {
     "name": "stdout",
     "output_type": "stream",
     "text": [
      "Got the result from ./1/train/filtrations/2/HeightFiltrartion_0_-1/gray/diagrams.npy\n",
      "Applying Scaler to persistence diagrams.\n",
      "Got the result from ./1/train/filtrations/2/HeightFiltrartion_0_-1/red/diagrams.npy\n",
      "Applying Scaler to persistence diagrams.\n",
      "Got the result from ./1/train/filtrations/2/HeightFiltrartion_0_-1/green/diagrams.npy\n",
      "Applying Scaler to persistence diagrams.\n",
      "Got the result from ./1/train/filtrations/2/HeightFiltrartion_0_-1/blue/diagrams.npy\n",
      "Applying Scaler to persistence diagrams.\n",
      "Applying filtration 6/72: 2/HeightFiltrartion_0_1\n",
      "RGB images received. Transforming to grayscale.\n"
     ]
    },
    {
     "name": "stderr",
     "output_type": "stream",
     "text": [
      "rgb2gray: 100%|██████████| 9030/9030 [00:01<00:00, 5071.37it/s]\n"
     ]
    },
    {
     "name": "stdout",
     "output_type": "stream",
     "text": [
      "Got the result from ./1/train/filtrations/2/HeightFiltrartion_0_1/gray/diagrams.npy\n",
      "Applying Scaler to persistence diagrams.\n",
      "Got the result from ./1/train/filtrations/2/HeightFiltrartion_0_1/red/diagrams.npy\n",
      "Applying Scaler to persistence diagrams.\n",
      "Got the result from ./1/train/filtrations/2/HeightFiltrartion_0_1/green/diagrams.npy\n",
      "Applying Scaler to persistence diagrams.\n",
      "Got the result from ./1/train/filtrations/2/HeightFiltrartion_0_1/blue/diagrams.npy\n",
      "Applying Scaler to persistence diagrams.\n",
      "Applying filtration 7/72: 2/HeightFiltrartion_-1_0\n",
      "RGB images received. Transforming to grayscale.\n"
     ]
    },
    {
     "name": "stderr",
     "output_type": "stream",
     "text": [
      "rgb2gray: 100%|██████████| 9030/9030 [00:01<00:00, 4962.89it/s]\n"
     ]
    },
    {
     "name": "stdout",
     "output_type": "stream",
     "text": [
      "Got the result from ./1/train/filtrations/2/HeightFiltrartion_-1_0/gray/diagrams.npy\n",
      "Applying Scaler to persistence diagrams.\n",
      "Got the result from ./1/train/filtrations/2/HeightFiltrartion_-1_0/red/diagrams.npy\n",
      "Applying Scaler to persistence diagrams.\n",
      "Got the result from ./1/train/filtrations/2/HeightFiltrartion_-1_0/green/diagrams.npy\n",
      "Applying Scaler to persistence diagrams.\n",
      "Got the result from ./1/train/filtrations/2/HeightFiltrartion_-1_0/blue/diagrams.npy\n",
      "Applying Scaler to persistence diagrams.\n",
      "Applying filtration 8/72: 2/HeightFiltrartion_1_0\n",
      "RGB images received. Transforming to grayscale.\n"
     ]
    },
    {
     "name": "stderr",
     "output_type": "stream",
     "text": [
      "rgb2gray: 100%|██████████| 9030/9030 [00:02<00:00, 4514.24it/s]\n"
     ]
    },
    {
     "name": "stdout",
     "output_type": "stream",
     "text": [
      "Got the result from ./1/train/filtrations/2/HeightFiltrartion_1_0/gray/diagrams.npy\n",
      "Applying Scaler to persistence diagrams.\n",
      "Got the result from ./1/train/filtrations/2/HeightFiltrartion_1_0/red/diagrams.npy\n",
      "Applying Scaler to persistence diagrams.\n",
      "Got the result from ./1/train/filtrations/2/HeightFiltrartion_1_0/green/diagrams.npy\n",
      "Applying Scaler to persistence diagrams.\n",
      "Got the result from ./1/train/filtrations/2/HeightFiltrartion_1_0/blue/diagrams.npy\n",
      "Applying Scaler to persistence diagrams.\n",
      "Applying filtration 9/72: 2/RadialFiltration_12_12\n",
      "RGB images received. Transforming to grayscale.\n"
     ]
    },
    {
     "name": "stderr",
     "output_type": "stream",
     "text": [
      "rgb2gray: 100%|██████████| 9030/9030 [00:01<00:00, 5029.37it/s]\n"
     ]
    },
    {
     "name": "stdout",
     "output_type": "stream",
     "text": [
      "Got the result from ./1/train/filtrations/2/RadialFiltration_12_12/gray/diagrams.npy\n",
      "Applying Scaler to persistence diagrams.\n",
      "Got the result from ./1/train/filtrations/2/RadialFiltration_12_12/red/diagrams.npy\n",
      "Applying Scaler to persistence diagrams.\n",
      "Got the result from ./1/train/filtrations/2/RadialFiltration_12_12/green/diagrams.npy\n",
      "Applying Scaler to persistence diagrams.\n",
      "Got the result from ./1/train/filtrations/2/RadialFiltration_12_12/blue/diagrams.npy\n",
      "Applying Scaler to persistence diagrams.\n",
      "Applying filtration 10/72: 2/RadialFiltration_12_25\n",
      "RGB images received. Transforming to grayscale.\n"
     ]
    },
    {
     "name": "stderr",
     "output_type": "stream",
     "text": [
      "rgb2gray: 100%|██████████| 9030/9030 [00:01<00:00, 4839.20it/s]\n"
     ]
    },
    {
     "name": "stdout",
     "output_type": "stream",
     "text": [
      "Got the result from ./1/train/filtrations/2/RadialFiltration_12_25/gray/diagrams.npy\n",
      "Applying Scaler to persistence diagrams.\n",
      "Got the result from ./1/train/filtrations/2/RadialFiltration_12_25/red/diagrams.npy\n",
      "Applying Scaler to persistence diagrams.\n",
      "Got the result from ./1/train/filtrations/2/RadialFiltration_12_25/green/diagrams.npy\n",
      "Applying Scaler to persistence diagrams.\n",
      "Got the result from ./1/train/filtrations/2/RadialFiltration_12_25/blue/diagrams.npy\n",
      "Applying Scaler to persistence diagrams.\n",
      "Applying filtration 11/72: 2/RadialFiltration_12_38\n",
      "RGB images received. Transforming to grayscale.\n"
     ]
    },
    {
     "name": "stderr",
     "output_type": "stream",
     "text": [
      "rgb2gray: 100%|██████████| 9030/9030 [00:01<00:00, 4623.45it/s]\n"
     ]
    },
    {
     "name": "stdout",
     "output_type": "stream",
     "text": [
      "Got the result from ./1/train/filtrations/2/RadialFiltration_12_38/gray/diagrams.npy\n",
      "Applying Scaler to persistence diagrams.\n",
      "Got the result from ./1/train/filtrations/2/RadialFiltration_12_38/red/diagrams.npy\n",
      "Applying Scaler to persistence diagrams.\n",
      "Got the result from ./1/train/filtrations/2/RadialFiltration_12_38/green/diagrams.npy\n",
      "Applying Scaler to persistence diagrams.\n",
      "Got the result from ./1/train/filtrations/2/RadialFiltration_12_38/blue/diagrams.npy\n",
      "Applying Scaler to persistence diagrams.\n",
      "Applying filtration 12/72: 2/RadialFiltration_12_51\n",
      "RGB images received. Transforming to grayscale.\n"
     ]
    },
    {
     "name": "stderr",
     "output_type": "stream",
     "text": [
      "rgb2gray: 100%|██████████| 9030/9030 [00:01<00:00, 4803.28it/s]\n"
     ]
    },
    {
     "name": "stdout",
     "output_type": "stream",
     "text": [
      "Got the result from ./1/train/filtrations/2/RadialFiltration_12_51/gray/diagrams.npy\n",
      "Applying Scaler to persistence diagrams.\n",
      "Got the result from ./1/train/filtrations/2/RadialFiltration_12_51/red/diagrams.npy\n",
      "Applying Scaler to persistence diagrams.\n",
      "Got the result from ./1/train/filtrations/2/RadialFiltration_12_51/green/diagrams.npy\n",
      "Applying Scaler to persistence diagrams.\n",
      "Got the result from ./1/train/filtrations/2/RadialFiltration_12_51/blue/diagrams.npy\n",
      "Applying Scaler to persistence diagrams.\n",
      "Applying filtration 13/72: 2/RadialFiltration_25_12\n",
      "RGB images received. Transforming to grayscale.\n"
     ]
    },
    {
     "name": "stderr",
     "output_type": "stream",
     "text": [
      "rgb2gray: 100%|██████████| 9030/9030 [00:01<00:00, 4821.76it/s]\n"
     ]
    },
    {
     "name": "stdout",
     "output_type": "stream",
     "text": [
      "Got the result from ./1/train/filtrations/2/RadialFiltration_25_12/gray/diagrams.npy\n",
      "Applying Scaler to persistence diagrams.\n",
      "Got the result from ./1/train/filtrations/2/RadialFiltration_25_12/red/diagrams.npy\n",
      "Applying Scaler to persistence diagrams.\n",
      "Got the result from ./1/train/filtrations/2/RadialFiltration_25_12/green/diagrams.npy\n",
      "Applying Scaler to persistence diagrams.\n",
      "Got the result from ./1/train/filtrations/2/RadialFiltration_25_12/blue/diagrams.npy\n",
      "Applying Scaler to persistence diagrams.\n",
      "Applying filtration 14/72: 2/RadialFiltration_25_25\n",
      "RGB images received. Transforming to grayscale.\n"
     ]
    },
    {
     "name": "stderr",
     "output_type": "stream",
     "text": [
      "rgb2gray: 100%|██████████| 9030/9030 [00:02<00:00, 4485.92it/s]\n"
     ]
    },
    {
     "name": "stdout",
     "output_type": "stream",
     "text": [
      "Got the result from ./1/train/filtrations/2/RadialFiltration_25_25/gray/diagrams.npy\n",
      "Applying Scaler to persistence diagrams.\n",
      "Got the result from ./1/train/filtrations/2/RadialFiltration_25_25/red/diagrams.npy\n",
      "Applying Scaler to persistence diagrams.\n",
      "Got the result from ./1/train/filtrations/2/RadialFiltration_25_25/green/diagrams.npy\n",
      "Applying Scaler to persistence diagrams.\n",
      "Got the result from ./1/train/filtrations/2/RadialFiltration_25_25/blue/diagrams.npy\n",
      "Applying Scaler to persistence diagrams.\n",
      "Applying filtration 15/72: 2/RadialFiltration_25_38\n",
      "RGB images received. Transforming to grayscale.\n"
     ]
    },
    {
     "name": "stderr",
     "output_type": "stream",
     "text": [
      "rgb2gray: 100%|██████████| 9030/9030 [00:01<00:00, 4596.44it/s]\n"
     ]
    },
    {
     "name": "stdout",
     "output_type": "stream",
     "text": [
      "Got the result from ./1/train/filtrations/2/RadialFiltration_25_38/gray/diagrams.npy\n",
      "Applying Scaler to persistence diagrams.\n",
      "Got the result from ./1/train/filtrations/2/RadialFiltration_25_38/red/diagrams.npy\n",
      "Applying Scaler to persistence diagrams.\n",
      "Got the result from ./1/train/filtrations/2/RadialFiltration_25_38/green/diagrams.npy\n",
      "Applying Scaler to persistence diagrams.\n",
      "Got the result from ./1/train/filtrations/2/RadialFiltration_25_38/blue/diagrams.npy\n",
      "Applying Scaler to persistence diagrams.\n",
      "Applying filtration 16/72: 2/RadialFiltration_25_51\n",
      "RGB images received. Transforming to grayscale.\n"
     ]
    },
    {
     "name": "stderr",
     "output_type": "stream",
     "text": [
      "rgb2gray: 100%|██████████| 9030/9030 [00:01<00:00, 4649.94it/s]\n"
     ]
    },
    {
     "name": "stdout",
     "output_type": "stream",
     "text": [
      "Got the result from ./1/train/filtrations/2/RadialFiltration_25_51/gray/diagrams.npy\n",
      "Applying Scaler to persistence diagrams.\n",
      "Got the result from ./1/train/filtrations/2/RadialFiltration_25_51/red/diagrams.npy\n",
      "Applying Scaler to persistence diagrams.\n",
      "Got the result from ./1/train/filtrations/2/RadialFiltration_25_51/green/diagrams.npy\n",
      "Applying Scaler to persistence diagrams.\n",
      "Got the result from ./1/train/filtrations/2/RadialFiltration_25_51/blue/diagrams.npy\n",
      "Applying Scaler to persistence diagrams.\n",
      "Applying filtration 17/72: 2/RadialFiltration_38_12\n",
      "RGB images received. Transforming to grayscale.\n"
     ]
    },
    {
     "name": "stderr",
     "output_type": "stream",
     "text": [
      "rgb2gray: 100%|██████████| 9030/9030 [00:02<00:00, 4487.14it/s]\n"
     ]
    },
    {
     "name": "stdout",
     "output_type": "stream",
     "text": [
      "Got the result from ./1/train/filtrations/2/RadialFiltration_38_12/gray/diagrams.npy\n",
      "Applying Scaler to persistence diagrams.\n",
      "Got the result from ./1/train/filtrations/2/RadialFiltration_38_12/red/diagrams.npy\n",
      "Applying Scaler to persistence diagrams.\n",
      "Got the result from ./1/train/filtrations/2/RadialFiltration_38_12/green/diagrams.npy\n",
      "Applying Scaler to persistence diagrams.\n",
      "Got the result from ./1/train/filtrations/2/RadialFiltration_38_12/blue/diagrams.npy\n",
      "Applying Scaler to persistence diagrams.\n",
      "Applying filtration 18/72: 2/RadialFiltration_38_25\n",
      "RGB images received. Transforming to grayscale.\n"
     ]
    },
    {
     "name": "stderr",
     "output_type": "stream",
     "text": [
      "rgb2gray: 100%|██████████| 9030/9030 [00:01<00:00, 5087.71it/s]\n"
     ]
    },
    {
     "name": "stdout",
     "output_type": "stream",
     "text": [
      "Got the result from ./1/train/filtrations/2/RadialFiltration_38_25/gray/diagrams.npy\n",
      "Applying Scaler to persistence diagrams.\n",
      "Got the result from ./1/train/filtrations/2/RadialFiltration_38_25/red/diagrams.npy\n",
      "Applying Scaler to persistence diagrams.\n",
      "Got the result from ./1/train/filtrations/2/RadialFiltration_38_25/green/diagrams.npy\n",
      "Applying Scaler to persistence diagrams.\n",
      "Got the result from ./1/train/filtrations/2/RadialFiltration_38_25/blue/diagrams.npy\n",
      "Applying Scaler to persistence diagrams.\n",
      "Applying filtration 19/72: 2/RadialFiltration_38_38\n",
      "RGB images received. Transforming to grayscale.\n"
     ]
    },
    {
     "name": "stderr",
     "output_type": "stream",
     "text": [
      "rgb2gray: 100%|██████████| 9030/9030 [00:01<00:00, 4897.59it/s]\n"
     ]
    },
    {
     "name": "stdout",
     "output_type": "stream",
     "text": [
      "Got the result from ./1/train/filtrations/2/RadialFiltration_38_38/gray/diagrams.npy\n",
      "Applying Scaler to persistence diagrams.\n",
      "Got the result from ./1/train/filtrations/2/RadialFiltration_38_38/red/diagrams.npy\n",
      "Applying Scaler to persistence diagrams.\n",
      "Got the result from ./1/train/filtrations/2/RadialFiltration_38_38/green/diagrams.npy\n",
      "Applying Scaler to persistence diagrams.\n",
      "Got the result from ./1/train/filtrations/2/RadialFiltration_38_38/blue/diagrams.npy\n",
      "Applying Scaler to persistence diagrams.\n",
      "Applying filtration 20/72: 2/RadialFiltration_38_51\n",
      "RGB images received. Transforming to grayscale.\n"
     ]
    },
    {
     "name": "stderr",
     "output_type": "stream",
     "text": [
      "rgb2gray: 100%|██████████| 9030/9030 [00:01<00:00, 4858.46it/s]\n"
     ]
    },
    {
     "name": "stdout",
     "output_type": "stream",
     "text": [
      "Got the result from ./1/train/filtrations/2/RadialFiltration_38_51/gray/diagrams.npy\n",
      "Applying Scaler to persistence diagrams.\n",
      "Got the result from ./1/train/filtrations/2/RadialFiltration_38_51/red/diagrams.npy\n",
      "Applying Scaler to persistence diagrams.\n",
      "Got the result from ./1/train/filtrations/2/RadialFiltration_38_51/green/diagrams.npy\n",
      "Applying Scaler to persistence diagrams.\n",
      "Got the result from ./1/train/filtrations/2/RadialFiltration_38_51/blue/diagrams.npy\n",
      "Applying Scaler to persistence diagrams.\n",
      "Applying filtration 21/72: 2/RadialFiltration_51_12\n",
      "RGB images received. Transforming to grayscale.\n"
     ]
    },
    {
     "name": "stderr",
     "output_type": "stream",
     "text": [
      "rgb2gray: 100%|██████████| 9030/9030 [00:01<00:00, 4864.55it/s]\n"
     ]
    },
    {
     "name": "stdout",
     "output_type": "stream",
     "text": [
      "Got the result from ./1/train/filtrations/2/RadialFiltration_51_12/gray/diagrams.npy\n",
      "Applying Scaler to persistence diagrams.\n",
      "Got the result from ./1/train/filtrations/2/RadialFiltration_51_12/red/diagrams.npy\n",
      "Applying Scaler to persistence diagrams.\n",
      "Got the result from ./1/train/filtrations/2/RadialFiltration_51_12/green/diagrams.npy\n",
      "Applying Scaler to persistence diagrams.\n",
      "Got the result from ./1/train/filtrations/2/RadialFiltration_51_12/blue/diagrams.npy\n",
      "Applying Scaler to persistence diagrams.\n",
      "Applying filtration 22/72: 2/RadialFiltration_51_25\n",
      "RGB images received. Transforming to grayscale.\n"
     ]
    },
    {
     "name": "stderr",
     "output_type": "stream",
     "text": [
      "rgb2gray: 100%|██████████| 9030/9030 [00:02<00:00, 4514.94it/s]\n"
     ]
    },
    {
     "name": "stdout",
     "output_type": "stream",
     "text": [
      "Got the result from ./1/train/filtrations/2/RadialFiltration_51_25/gray/diagrams.npy\n",
      "Applying Scaler to persistence diagrams.\n",
      "Got the result from ./1/train/filtrations/2/RadialFiltration_51_25/red/diagrams.npy\n",
      "Applying Scaler to persistence diagrams.\n",
      "Got the result from ./1/train/filtrations/2/RadialFiltration_51_25/green/diagrams.npy\n",
      "Applying Scaler to persistence diagrams.\n",
      "Got the result from ./1/train/filtrations/2/RadialFiltration_51_25/blue/diagrams.npy\n",
      "Applying Scaler to persistence diagrams.\n",
      "Applying filtration 23/72: 2/RadialFiltration_51_38\n",
      "RGB images received. Transforming to grayscale.\n"
     ]
    },
    {
     "name": "stderr",
     "output_type": "stream",
     "text": [
      "rgb2gray: 100%|██████████| 9030/9030 [00:01<00:00, 4782.70it/s]\n"
     ]
    },
    {
     "name": "stdout",
     "output_type": "stream",
     "text": [
      "Got the result from ./1/train/filtrations/2/RadialFiltration_51_38/gray/diagrams.npy\n",
      "Applying Scaler to persistence diagrams.\n",
      "Got the result from ./1/train/filtrations/2/RadialFiltration_51_38/red/diagrams.npy\n",
      "Applying Scaler to persistence diagrams.\n",
      "Got the result from ./1/train/filtrations/2/RadialFiltration_51_38/green/diagrams.npy\n",
      "Applying Scaler to persistence diagrams.\n",
      "Got the result from ./1/train/filtrations/2/RadialFiltration_51_38/blue/diagrams.npy\n",
      "Applying Scaler to persistence diagrams.\n",
      "Applying filtration 24/72: 2/RadialFiltration_51_51\n",
      "RGB images received. Transforming to grayscale.\n"
     ]
    },
    {
     "name": "stderr",
     "output_type": "stream",
     "text": [
      "rgb2gray: 100%|██████████| 9030/9030 [00:01<00:00, 4636.65it/s]\n"
     ]
    },
    {
     "name": "stdout",
     "output_type": "stream",
     "text": [
      "Got the result from ./1/train/filtrations/2/RadialFiltration_51_51/gray/diagrams.npy\n",
      "Applying Scaler to persistence diagrams.\n",
      "Got the result from ./1/train/filtrations/2/RadialFiltration_51_51/red/diagrams.npy\n",
      "Applying Scaler to persistence diagrams.\n",
      "Got the result from ./1/train/filtrations/2/RadialFiltration_51_51/green/diagrams.npy\n",
      "Applying Scaler to persistence diagrams.\n",
      "Got the result from ./1/train/filtrations/2/RadialFiltration_51_51/blue/diagrams.npy\n",
      "Applying Scaler to persistence diagrams.\n",
      "Applying filtration 25/72: 4/HeightFiltrartion_-1_-1\n",
      "RGB images received. Transforming to grayscale.\n"
     ]
    },
    {
     "name": "stderr",
     "output_type": "stream",
     "text": [
      "rgb2gray: 100%|██████████| 9030/9030 [00:01<00:00, 4667.86it/s]\n"
     ]
    },
    {
     "name": "stdout",
     "output_type": "stream",
     "text": [
      "Got the result from ./1/train/filtrations/4/HeightFiltrartion_-1_-1/gray/diagrams.npy\n",
      "Applying Scaler to persistence diagrams.\n",
      "Got the result from ./1/train/filtrations/4/HeightFiltrartion_-1_-1/red/diagrams.npy\n",
      "Applying Scaler to persistence diagrams.\n",
      "Got the result from ./1/train/filtrations/4/HeightFiltrartion_-1_-1/green/diagrams.npy\n",
      "Applying Scaler to persistence diagrams.\n",
      "Got the result from ./1/train/filtrations/4/HeightFiltrartion_-1_-1/blue/diagrams.npy\n",
      "Applying Scaler to persistence diagrams.\n",
      "Applying filtration 26/72: 4/HeightFiltrartion_1_1\n",
      "RGB images received. Transforming to grayscale.\n"
     ]
    },
    {
     "name": "stderr",
     "output_type": "stream",
     "text": [
      "rgb2gray: 100%|██████████| 9030/9030 [00:01<00:00, 4669.82it/s]\n"
     ]
    },
    {
     "name": "stdout",
     "output_type": "stream",
     "text": [
      "Got the result from ./1/train/filtrations/4/HeightFiltrartion_1_1/gray/diagrams.npy\n",
      "Applying Scaler to persistence diagrams.\n",
      "Got the result from ./1/train/filtrations/4/HeightFiltrartion_1_1/red/diagrams.npy\n",
      "Applying Scaler to persistence diagrams.\n",
      "Got the result from ./1/train/filtrations/4/HeightFiltrartion_1_1/green/diagrams.npy\n",
      "Applying Scaler to persistence diagrams.\n",
      "Got the result from ./1/train/filtrations/4/HeightFiltrartion_1_1/blue/diagrams.npy\n",
      "Applying Scaler to persistence diagrams.\n",
      "Applying filtration 27/72: 4/HeightFiltrartion_1_-1\n",
      "RGB images received. Transforming to grayscale.\n"
     ]
    },
    {
     "name": "stderr",
     "output_type": "stream",
     "text": [
      "rgb2gray: 100%|██████████| 9030/9030 [00:01<00:00, 4828.33it/s]\n"
     ]
    },
    {
     "name": "stdout",
     "output_type": "stream",
     "text": [
      "Got the result from ./1/train/filtrations/4/HeightFiltrartion_1_-1/gray/diagrams.npy\n",
      "Applying Scaler to persistence diagrams.\n",
      "Got the result from ./1/train/filtrations/4/HeightFiltrartion_1_-1/red/diagrams.npy\n",
      "Applying Scaler to persistence diagrams.\n",
      "Got the result from ./1/train/filtrations/4/HeightFiltrartion_1_-1/green/diagrams.npy\n",
      "Applying Scaler to persistence diagrams.\n",
      "Got the result from ./1/train/filtrations/4/HeightFiltrartion_1_-1/blue/diagrams.npy\n",
      "Applying Scaler to persistence diagrams.\n",
      "Applying filtration 28/72: 4/HeightFiltrartion_-1_1\n",
      "RGB images received. Transforming to grayscale.\n"
     ]
    },
    {
     "name": "stderr",
     "output_type": "stream",
     "text": [
      "rgb2gray: 100%|██████████| 9030/9030 [00:02<00:00, 3976.52it/s]\n"
     ]
    },
    {
     "name": "stdout",
     "output_type": "stream",
     "text": [
      "Got the result from ./1/train/filtrations/4/HeightFiltrartion_-1_1/gray/diagrams.npy\n",
      "Applying Scaler to persistence diagrams.\n",
      "Got the result from ./1/train/filtrations/4/HeightFiltrartion_-1_1/red/diagrams.npy\n",
      "Applying Scaler to persistence diagrams.\n",
      "Got the result from ./1/train/filtrations/4/HeightFiltrartion_-1_1/green/diagrams.npy\n",
      "Applying Scaler to persistence diagrams.\n",
      "Got the result from ./1/train/filtrations/4/HeightFiltrartion_-1_1/blue/diagrams.npy\n",
      "Applying Scaler to persistence diagrams.\n",
      "Applying filtration 29/72: 4/HeightFiltrartion_0_-1\n",
      "RGB images received. Transforming to grayscale.\n"
     ]
    },
    {
     "name": "stderr",
     "output_type": "stream",
     "text": [
      "rgb2gray: 100%|██████████| 9030/9030 [00:01<00:00, 4543.44it/s]\n"
     ]
    },
    {
     "name": "stdout",
     "output_type": "stream",
     "text": [
      "Got the result from ./1/train/filtrations/4/HeightFiltrartion_0_-1/gray/diagrams.npy\n",
      "Applying Scaler to persistence diagrams.\n",
      "Got the result from ./1/train/filtrations/4/HeightFiltrartion_0_-1/red/diagrams.npy\n",
      "Applying Scaler to persistence diagrams.\n",
      "Got the result from ./1/train/filtrations/4/HeightFiltrartion_0_-1/green/diagrams.npy\n",
      "Applying Scaler to persistence diagrams.\n",
      "Got the result from ./1/train/filtrations/4/HeightFiltrartion_0_-1/blue/diagrams.npy\n",
      "Applying Scaler to persistence diagrams.\n",
      "Applying filtration 30/72: 4/HeightFiltrartion_0_1\n",
      "RGB images received. Transforming to grayscale.\n"
     ]
    },
    {
     "name": "stderr",
     "output_type": "stream",
     "text": [
      "rgb2gray: 100%|██████████| 9030/9030 [00:01<00:00, 4712.85it/s]\n"
     ]
    },
    {
     "name": "stdout",
     "output_type": "stream",
     "text": [
      "Got the result from ./1/train/filtrations/4/HeightFiltrartion_0_1/gray/diagrams.npy\n",
      "Applying Scaler to persistence diagrams.\n",
      "Got the result from ./1/train/filtrations/4/HeightFiltrartion_0_1/red/diagrams.npy\n",
      "Applying Scaler to persistence diagrams.\n",
      "Got the result from ./1/train/filtrations/4/HeightFiltrartion_0_1/green/diagrams.npy\n",
      "Applying Scaler to persistence diagrams.\n",
      "Got the result from ./1/train/filtrations/4/HeightFiltrartion_0_1/blue/diagrams.npy\n",
      "Applying Scaler to persistence diagrams.\n",
      "Applying filtration 31/72: 4/HeightFiltrartion_-1_0\n",
      "RGB images received. Transforming to grayscale.\n"
     ]
    },
    {
     "name": "stderr",
     "output_type": "stream",
     "text": [
      "rgb2gray: 100%|██████████| 9030/9030 [00:01<00:00, 4706.52it/s]\n"
     ]
    },
    {
     "name": "stdout",
     "output_type": "stream",
     "text": [
      "Got the result from ./1/train/filtrations/4/HeightFiltrartion_-1_0/gray/diagrams.npy\n",
      "Applying Scaler to persistence diagrams.\n",
      "Got the result from ./1/train/filtrations/4/HeightFiltrartion_-1_0/red/diagrams.npy\n",
      "Applying Scaler to persistence diagrams.\n",
      "Got the result from ./1/train/filtrations/4/HeightFiltrartion_-1_0/green/diagrams.npy\n",
      "Applying Scaler to persistence diagrams.\n",
      "Got the result from ./1/train/filtrations/4/HeightFiltrartion_-1_0/blue/diagrams.npy\n",
      "Applying Scaler to persistence diagrams.\n",
      "Applying filtration 32/72: 4/HeightFiltrartion_1_0\n",
      "RGB images received. Transforming to grayscale.\n"
     ]
    },
    {
     "name": "stderr",
     "output_type": "stream",
     "text": [
      "rgb2gray: 100%|██████████| 9030/9030 [00:01<00:00, 4800.71it/s]\n"
     ]
    },
    {
     "name": "stdout",
     "output_type": "stream",
     "text": [
      "Got the result from ./1/train/filtrations/4/HeightFiltrartion_1_0/gray/diagrams.npy\n",
      "Applying Scaler to persistence diagrams.\n",
      "Got the result from ./1/train/filtrations/4/HeightFiltrartion_1_0/red/diagrams.npy\n",
      "Applying Scaler to persistence diagrams.\n",
      "Got the result from ./1/train/filtrations/4/HeightFiltrartion_1_0/green/diagrams.npy\n",
      "Applying Scaler to persistence diagrams.\n",
      "Got the result from ./1/train/filtrations/4/HeightFiltrartion_1_0/blue/diagrams.npy\n",
      "Applying Scaler to persistence diagrams.\n",
      "Applying filtration 33/72: 4/RadialFiltration_12_12\n",
      "RGB images received. Transforming to grayscale.\n"
     ]
    },
    {
     "name": "stderr",
     "output_type": "stream",
     "text": [
      "rgb2gray: 100%|██████████| 9030/9030 [00:01<00:00, 4779.67it/s]\n"
     ]
    },
    {
     "name": "stdout",
     "output_type": "stream",
     "text": [
      "Got the result from ./1/train/filtrations/4/RadialFiltration_12_12/gray/diagrams.npy\n",
      "Applying Scaler to persistence diagrams.\n",
      "Got the result from ./1/train/filtrations/4/RadialFiltration_12_12/red/diagrams.npy\n",
      "Applying Scaler to persistence diagrams.\n",
      "Got the result from ./1/train/filtrations/4/RadialFiltration_12_12/green/diagrams.npy\n",
      "Applying Scaler to persistence diagrams.\n",
      "Got the result from ./1/train/filtrations/4/RadialFiltration_12_12/blue/diagrams.npy\n",
      "Applying Scaler to persistence diagrams.\n",
      "Applying filtration 34/72: 4/RadialFiltration_12_25\n",
      "RGB images received. Transforming to grayscale.\n"
     ]
    },
    {
     "name": "stderr",
     "output_type": "stream",
     "text": [
      "rgb2gray: 100%|██████████| 9030/9030 [00:02<00:00, 4386.78it/s]\n"
     ]
    },
    {
     "name": "stdout",
     "output_type": "stream",
     "text": [
      "Got the result from ./1/train/filtrations/4/RadialFiltration_12_25/gray/diagrams.npy\n",
      "Applying Scaler to persistence diagrams.\n",
      "Got the result from ./1/train/filtrations/4/RadialFiltration_12_25/red/diagrams.npy\n",
      "Applying Scaler to persistence diagrams.\n",
      "Got the result from ./1/train/filtrations/4/RadialFiltration_12_25/green/diagrams.npy\n",
      "Applying Scaler to persistence diagrams.\n",
      "Got the result from ./1/train/filtrations/4/RadialFiltration_12_25/blue/diagrams.npy\n",
      "Applying Scaler to persistence diagrams.\n",
      "Applying filtration 35/72: 4/RadialFiltration_12_38\n",
      "RGB images received. Transforming to grayscale.\n"
     ]
    },
    {
     "name": "stderr",
     "output_type": "stream",
     "text": [
      "rgb2gray: 100%|██████████| 9030/9030 [00:01<00:00, 4573.15it/s]\n"
     ]
    },
    {
     "name": "stdout",
     "output_type": "stream",
     "text": [
      "Got the result from ./1/train/filtrations/4/RadialFiltration_12_38/gray/diagrams.npy\n",
      "Applying Scaler to persistence diagrams.\n",
      "Got the result from ./1/train/filtrations/4/RadialFiltration_12_38/red/diagrams.npy\n",
      "Applying Scaler to persistence diagrams.\n",
      "Got the result from ./1/train/filtrations/4/RadialFiltration_12_38/green/diagrams.npy\n",
      "Applying Scaler to persistence diagrams.\n",
      "Got the result from ./1/train/filtrations/4/RadialFiltration_12_38/blue/diagrams.npy\n",
      "Applying Scaler to persistence diagrams.\n",
      "Applying filtration 36/72: 4/RadialFiltration_12_51\n",
      "RGB images received. Transforming to grayscale.\n"
     ]
    },
    {
     "name": "stderr",
     "output_type": "stream",
     "text": [
      "rgb2gray: 100%|██████████| 9030/9030 [00:02<00:00, 4224.87it/s]\n"
     ]
    },
    {
     "name": "stdout",
     "output_type": "stream",
     "text": [
      "Got the result from ./1/train/filtrations/4/RadialFiltration_12_51/gray/diagrams.npy\n",
      "Applying Scaler to persistence diagrams.\n",
      "Got the result from ./1/train/filtrations/4/RadialFiltration_12_51/red/diagrams.npy\n",
      "Applying Scaler to persistence diagrams.\n",
      "Got the result from ./1/train/filtrations/4/RadialFiltration_12_51/green/diagrams.npy\n",
      "Applying Scaler to persistence diagrams.\n",
      "Got the result from ./1/train/filtrations/4/RadialFiltration_12_51/blue/diagrams.npy\n",
      "Applying Scaler to persistence diagrams.\n",
      "Applying filtration 37/72: 4/RadialFiltration_25_12\n",
      "RGB images received. Transforming to grayscale.\n"
     ]
    },
    {
     "name": "stderr",
     "output_type": "stream",
     "text": [
      "rgb2gray: 100%|██████████| 9030/9030 [00:02<00:00, 4352.26it/s]\n"
     ]
    },
    {
     "name": "stdout",
     "output_type": "stream",
     "text": [
      "Got the result from ./1/train/filtrations/4/RadialFiltration_25_12/gray/diagrams.npy\n",
      "Applying Scaler to persistence diagrams.\n",
      "Got the result from ./1/train/filtrations/4/RadialFiltration_25_12/red/diagrams.npy\n",
      "Applying Scaler to persistence diagrams.\n",
      "Got the result from ./1/train/filtrations/4/RadialFiltration_25_12/green/diagrams.npy\n",
      "Applying Scaler to persistence diagrams.\n",
      "Got the result from ./1/train/filtrations/4/RadialFiltration_25_12/blue/diagrams.npy\n",
      "Applying Scaler to persistence diagrams.\n",
      "Applying filtration 38/72: 4/RadialFiltration_25_25\n",
      "RGB images received. Transforming to grayscale.\n"
     ]
    },
    {
     "name": "stderr",
     "output_type": "stream",
     "text": [
      "rgb2gray: 100%|██████████| 9030/9030 [00:02<00:00, 3487.38it/s]\n"
     ]
    },
    {
     "name": "stdout",
     "output_type": "stream",
     "text": [
      "Got the result from ./1/train/filtrations/4/RadialFiltration_25_25/gray/diagrams.npy\n",
      "Applying Scaler to persistence diagrams.\n",
      "Got the result from ./1/train/filtrations/4/RadialFiltration_25_25/red/diagrams.npy\n",
      "Applying Scaler to persistence diagrams.\n",
      "Got the result from ./1/train/filtrations/4/RadialFiltration_25_25/green/diagrams.npy\n",
      "Applying Scaler to persistence diagrams.\n",
      "Got the result from ./1/train/filtrations/4/RadialFiltration_25_25/blue/diagrams.npy\n",
      "Applying Scaler to persistence diagrams.\n",
      "Applying filtration 39/72: 4/RadialFiltration_25_38\n",
      "RGB images received. Transforming to grayscale.\n"
     ]
    },
    {
     "name": "stderr",
     "output_type": "stream",
     "text": [
      "rgb2gray: 100%|██████████| 9030/9030 [00:02<00:00, 3498.96it/s]\n"
     ]
    },
    {
     "name": "stdout",
     "output_type": "stream",
     "text": [
      "Got the result from ./1/train/filtrations/4/RadialFiltration_25_38/gray/diagrams.npy\n",
      "Applying Scaler to persistence diagrams.\n",
      "Got the result from ./1/train/filtrations/4/RadialFiltration_25_38/red/diagrams.npy\n",
      "Applying Scaler to persistence diagrams.\n",
      "Got the result from ./1/train/filtrations/4/RadialFiltration_25_38/green/diagrams.npy\n",
      "Applying Scaler to persistence diagrams.\n",
      "Got the result from ./1/train/filtrations/4/RadialFiltration_25_38/blue/diagrams.npy\n",
      "Applying Scaler to persistence diagrams.\n",
      "Applying filtration 40/72: 4/RadialFiltration_25_51\n",
      "RGB images received. Transforming to grayscale.\n"
     ]
    },
    {
     "name": "stderr",
     "output_type": "stream",
     "text": [
      "rgb2gray: 100%|██████████| 9030/9030 [00:02<00:00, 3968.66it/s]\n"
     ]
    },
    {
     "name": "stdout",
     "output_type": "stream",
     "text": [
      "Got the result from ./1/train/filtrations/4/RadialFiltration_25_51/gray/diagrams.npy\n",
      "Applying Scaler to persistence diagrams.\n",
      "Got the result from ./1/train/filtrations/4/RadialFiltration_25_51/red/diagrams.npy\n",
      "Applying Scaler to persistence diagrams.\n",
      "Got the result from ./1/train/filtrations/4/RadialFiltration_25_51/green/diagrams.npy\n",
      "Applying Scaler to persistence diagrams.\n",
      "Got the result from ./1/train/filtrations/4/RadialFiltration_25_51/blue/diagrams.npy\n",
      "Applying Scaler to persistence diagrams.\n",
      "Applying filtration 41/72: 4/RadialFiltration_38_12\n",
      "RGB images received. Transforming to grayscale.\n"
     ]
    },
    {
     "name": "stderr",
     "output_type": "stream",
     "text": [
      "rgb2gray: 100%|██████████| 9030/9030 [00:01<00:00, 4629.81it/s]\n"
     ]
    },
    {
     "name": "stdout",
     "output_type": "stream",
     "text": [
      "Got the result from ./1/train/filtrations/4/RadialFiltration_38_12/gray/diagrams.npy\n",
      "Applying Scaler to persistence diagrams.\n",
      "Got the result from ./1/train/filtrations/4/RadialFiltration_38_12/red/diagrams.npy\n",
      "Applying Scaler to persistence diagrams.\n",
      "Got the result from ./1/train/filtrations/4/RadialFiltration_38_12/green/diagrams.npy\n",
      "Applying Scaler to persistence diagrams.\n",
      "Got the result from ./1/train/filtrations/4/RadialFiltration_38_12/blue/diagrams.npy\n",
      "Applying Scaler to persistence diagrams.\n",
      "Applying filtration 42/72: 4/RadialFiltration_38_25\n",
      "RGB images received. Transforming to grayscale.\n"
     ]
    },
    {
     "name": "stderr",
     "output_type": "stream",
     "text": [
      "rgb2gray: 100%|██████████| 9030/9030 [00:01<00:00, 4973.01it/s]\n"
     ]
    },
    {
     "name": "stdout",
     "output_type": "stream",
     "text": [
      "Got the result from ./1/train/filtrations/4/RadialFiltration_38_25/gray/diagrams.npy\n",
      "Applying Scaler to persistence diagrams.\n",
      "Got the result from ./1/train/filtrations/4/RadialFiltration_38_25/red/diagrams.npy\n",
      "Applying Scaler to persistence diagrams.\n",
      "Got the result from ./1/train/filtrations/4/RadialFiltration_38_25/green/diagrams.npy\n",
      "Applying Scaler to persistence diagrams.\n",
      "Got the result from ./1/train/filtrations/4/RadialFiltration_38_25/blue/diagrams.npy\n",
      "Applying Scaler to persistence diagrams.\n",
      "Applying filtration 43/72: 4/RadialFiltration_38_38\n",
      "RGB images received. Transforming to grayscale.\n"
     ]
    },
    {
     "name": "stderr",
     "output_type": "stream",
     "text": [
      "rgb2gray: 100%|██████████| 9030/9030 [00:02<00:00, 4472.27it/s]\n"
     ]
    },
    {
     "name": "stdout",
     "output_type": "stream",
     "text": [
      "Got the result from ./1/train/filtrations/4/RadialFiltration_38_38/gray/diagrams.npy\n",
      "Applying Scaler to persistence diagrams.\n",
      "Got the result from ./1/train/filtrations/4/RadialFiltration_38_38/red/diagrams.npy\n",
      "Applying Scaler to persistence diagrams.\n",
      "Got the result from ./1/train/filtrations/4/RadialFiltration_38_38/green/diagrams.npy\n",
      "Applying Scaler to persistence diagrams.\n",
      "Got the result from ./1/train/filtrations/4/RadialFiltration_38_38/blue/diagrams.npy\n",
      "Applying Scaler to persistence diagrams.\n",
      "Applying filtration 44/72: 4/RadialFiltration_38_51\n",
      "RGB images received. Transforming to grayscale.\n"
     ]
    },
    {
     "name": "stderr",
     "output_type": "stream",
     "text": [
      "rgb2gray: 100%|██████████| 9030/9030 [00:02<00:00, 4398.02it/s]\n"
     ]
    },
    {
     "name": "stdout",
     "output_type": "stream",
     "text": [
      "Got the result from ./1/train/filtrations/4/RadialFiltration_38_51/gray/diagrams.npy\n",
      "Applying Scaler to persistence diagrams.\n",
      "Got the result from ./1/train/filtrations/4/RadialFiltration_38_51/red/diagrams.npy\n",
      "Applying Scaler to persistence diagrams.\n",
      "Got the result from ./1/train/filtrations/4/RadialFiltration_38_51/green/diagrams.npy\n",
      "Applying Scaler to persistence diagrams.\n",
      "Got the result from ./1/train/filtrations/4/RadialFiltration_38_51/blue/diagrams.npy\n",
      "Applying Scaler to persistence diagrams.\n",
      "Applying filtration 45/72: 4/RadialFiltration_51_12\n",
      "RGB images received. Transforming to grayscale.\n"
     ]
    },
    {
     "name": "stderr",
     "output_type": "stream",
     "text": [
      "rgb2gray: 100%|██████████| 9030/9030 [00:02<00:00, 4445.51it/s]\n"
     ]
    },
    {
     "name": "stdout",
     "output_type": "stream",
     "text": [
      "Got the result from ./1/train/filtrations/4/RadialFiltration_51_12/gray/diagrams.npy\n",
      "Applying Scaler to persistence diagrams.\n",
      "Got the result from ./1/train/filtrations/4/RadialFiltration_51_12/red/diagrams.npy\n",
      "Applying Scaler to persistence diagrams.\n",
      "Got the result from ./1/train/filtrations/4/RadialFiltration_51_12/green/diagrams.npy\n",
      "Applying Scaler to persistence diagrams.\n",
      "Got the result from ./1/train/filtrations/4/RadialFiltration_51_12/blue/diagrams.npy\n",
      "Applying Scaler to persistence diagrams.\n",
      "Applying filtration 46/72: 4/RadialFiltration_51_25\n",
      "RGB images received. Transforming to grayscale.\n"
     ]
    },
    {
     "name": "stderr",
     "output_type": "stream",
     "text": [
      "rgb2gray: 100%|██████████| 9030/9030 [00:01<00:00, 4713.33it/s]\n"
     ]
    },
    {
     "name": "stdout",
     "output_type": "stream",
     "text": [
      "Got the result from ./1/train/filtrations/4/RadialFiltration_51_25/gray/diagrams.npy\n",
      "Applying Scaler to persistence diagrams.\n",
      "Got the result from ./1/train/filtrations/4/RadialFiltration_51_25/red/diagrams.npy\n",
      "Applying Scaler to persistence diagrams.\n",
      "Got the result from ./1/train/filtrations/4/RadialFiltration_51_25/green/diagrams.npy\n",
      "Applying Scaler to persistence diagrams.\n",
      "Got the result from ./1/train/filtrations/4/RadialFiltration_51_25/blue/diagrams.npy\n",
      "Applying Scaler to persistence diagrams.\n",
      "Applying filtration 47/72: 4/RadialFiltration_51_38\n",
      "RGB images received. Transforming to grayscale.\n"
     ]
    },
    {
     "name": "stderr",
     "output_type": "stream",
     "text": [
      "rgb2gray: 100%|██████████| 9030/9030 [00:01<00:00, 4791.13it/s]\n"
     ]
    },
    {
     "name": "stdout",
     "output_type": "stream",
     "text": [
      "Got the result from ./1/train/filtrations/4/RadialFiltration_51_38/gray/diagrams.npy\n",
      "Applying Scaler to persistence diagrams.\n",
      "Got the result from ./1/train/filtrations/4/RadialFiltration_51_38/red/diagrams.npy\n",
      "Applying Scaler to persistence diagrams.\n",
      "Got the result from ./1/train/filtrations/4/RadialFiltration_51_38/green/diagrams.npy\n",
      "Applying Scaler to persistence diagrams.\n",
      "Got the result from ./1/train/filtrations/4/RadialFiltration_51_38/blue/diagrams.npy\n",
      "Applying Scaler to persistence diagrams.\n",
      "Applying filtration 48/72: 4/RadialFiltration_51_51\n",
      "RGB images received. Transforming to grayscale.\n"
     ]
    },
    {
     "name": "stderr",
     "output_type": "stream",
     "text": [
      "rgb2gray: 100%|██████████| 9030/9030 [00:02<00:00, 4408.05it/s]\n"
     ]
    },
    {
     "name": "stdout",
     "output_type": "stream",
     "text": [
      "Got the result from ./1/train/filtrations/4/RadialFiltration_51_51/gray/diagrams.npy\n",
      "Applying Scaler to persistence diagrams.\n",
      "Got the result from ./1/train/filtrations/4/RadialFiltration_51_51/red/diagrams.npy\n",
      "Applying Scaler to persistence diagrams.\n",
      "Got the result from ./1/train/filtrations/4/RadialFiltration_51_51/green/diagrams.npy\n",
      "Applying Scaler to persistence diagrams.\n",
      "Got the result from ./1/train/filtrations/4/RadialFiltration_51_51/blue/diagrams.npy\n",
      "Applying Scaler to persistence diagrams.\n",
      "Applying filtration 49/72: 6/HeightFiltrartion_-1_-1\n",
      "RGB images received. Transforming to grayscale.\n"
     ]
    },
    {
     "name": "stderr",
     "output_type": "stream",
     "text": [
      "rgb2gray: 100%|██████████| 9030/9030 [00:01<00:00, 4534.18it/s]\n"
     ]
    },
    {
     "name": "stdout",
     "output_type": "stream",
     "text": [
      "Got the result from ./1/train/filtrations/6/HeightFiltrartion_-1_-1/gray/diagrams.npy\n",
      "Applying Scaler to persistence diagrams.\n",
      "Got the result from ./1/train/filtrations/6/HeightFiltrartion_-1_-1/red/diagrams.npy\n",
      "Applying Scaler to persistence diagrams.\n",
      "Got the result from ./1/train/filtrations/6/HeightFiltrartion_-1_-1/green/diagrams.npy\n",
      "Applying Scaler to persistence diagrams.\n",
      "Got the result from ./1/train/filtrations/6/HeightFiltrartion_-1_-1/blue/diagrams.npy\n",
      "Applying Scaler to persistence diagrams.\n",
      "Applying filtration 50/72: 6/HeightFiltrartion_1_1\n",
      "RGB images received. Transforming to grayscale.\n"
     ]
    },
    {
     "name": "stderr",
     "output_type": "stream",
     "text": [
      "rgb2gray: 100%|██████████| 9030/9030 [00:01<00:00, 4629.89it/s]\n"
     ]
    },
    {
     "name": "stdout",
     "output_type": "stream",
     "text": [
      "Got the result from ./1/train/filtrations/6/HeightFiltrartion_1_1/gray/diagrams.npy\n",
      "Applying Scaler to persistence diagrams.\n",
      "Got the result from ./1/train/filtrations/6/HeightFiltrartion_1_1/red/diagrams.npy\n",
      "Applying Scaler to persistence diagrams.\n",
      "Got the result from ./1/train/filtrations/6/HeightFiltrartion_1_1/green/diagrams.npy\n",
      "Applying Scaler to persistence diagrams.\n",
      "Got the result from ./1/train/filtrations/6/HeightFiltrartion_1_1/blue/diagrams.npy\n",
      "Applying Scaler to persistence diagrams.\n",
      "Applying filtration 51/72: 6/HeightFiltrartion_1_-1\n",
      "RGB images received. Transforming to grayscale.\n"
     ]
    },
    {
     "name": "stderr",
     "output_type": "stream",
     "text": [
      "rgb2gray: 100%|██████████| 9030/9030 [00:01<00:00, 4603.12it/s]\n"
     ]
    },
    {
     "name": "stdout",
     "output_type": "stream",
     "text": [
      "Got the result from ./1/train/filtrations/6/HeightFiltrartion_1_-1/gray/diagrams.npy\n",
      "Applying Scaler to persistence diagrams.\n",
      "Got the result from ./1/train/filtrations/6/HeightFiltrartion_1_-1/red/diagrams.npy\n",
      "Applying Scaler to persistence diagrams.\n",
      "Got the result from ./1/train/filtrations/6/HeightFiltrartion_1_-1/green/diagrams.npy\n",
      "Applying Scaler to persistence diagrams.\n",
      "Got the result from ./1/train/filtrations/6/HeightFiltrartion_1_-1/blue/diagrams.npy\n",
      "Applying Scaler to persistence diagrams.\n",
      "Applying filtration 52/72: 6/HeightFiltrartion_-1_1\n",
      "RGB images received. Transforming to grayscale.\n"
     ]
    },
    {
     "name": "stderr",
     "output_type": "stream",
     "text": [
      "rgb2gray: 100%|██████████| 9030/9030 [00:01<00:00, 4525.85it/s]\n"
     ]
    },
    {
     "name": "stdout",
     "output_type": "stream",
     "text": [
      "Got the result from ./1/train/filtrations/6/HeightFiltrartion_-1_1/gray/diagrams.npy\n",
      "Applying Scaler to persistence diagrams.\n",
      "Got the result from ./1/train/filtrations/6/HeightFiltrartion_-1_1/red/diagrams.npy\n",
      "Applying Scaler to persistence diagrams.\n",
      "Got the result from ./1/train/filtrations/6/HeightFiltrartion_-1_1/green/diagrams.npy\n",
      "Applying Scaler to persistence diagrams.\n",
      "Got the result from ./1/train/filtrations/6/HeightFiltrartion_-1_1/blue/diagrams.npy\n",
      "Applying Scaler to persistence diagrams.\n",
      "Applying filtration 53/72: 6/HeightFiltrartion_0_-1\n",
      "RGB images received. Transforming to grayscale.\n"
     ]
    },
    {
     "name": "stderr",
     "output_type": "stream",
     "text": [
      "rgb2gray: 100%|██████████| 9030/9030 [00:02<00:00, 4436.08it/s]\n"
     ]
    },
    {
     "name": "stdout",
     "output_type": "stream",
     "text": [
      "Got the result from ./1/train/filtrations/6/HeightFiltrartion_0_-1/gray/diagrams.npy\n",
      "Applying Scaler to persistence diagrams.\n",
      "Got the result from ./1/train/filtrations/6/HeightFiltrartion_0_-1/red/diagrams.npy\n",
      "Applying Scaler to persistence diagrams.\n",
      "Got the result from ./1/train/filtrations/6/HeightFiltrartion_0_-1/green/diagrams.npy\n",
      "Applying Scaler to persistence diagrams.\n",
      "Got the result from ./1/train/filtrations/6/HeightFiltrartion_0_-1/blue/diagrams.npy\n",
      "Applying Scaler to persistence diagrams.\n",
      "Applying filtration 54/72: 6/HeightFiltrartion_0_1\n",
      "RGB images received. Transforming to grayscale.\n"
     ]
    },
    {
     "name": "stderr",
     "output_type": "stream",
     "text": [
      "rgb2gray: 100%|██████████| 9030/9030 [00:01<00:00, 4528.67it/s]\n"
     ]
    },
    {
     "name": "stdout",
     "output_type": "stream",
     "text": [
      "Got the result from ./1/train/filtrations/6/HeightFiltrartion_0_1/gray/diagrams.npy\n",
      "Applying Scaler to persistence diagrams.\n",
      "Got the result from ./1/train/filtrations/6/HeightFiltrartion_0_1/red/diagrams.npy\n",
      "Applying Scaler to persistence diagrams.\n",
      "Got the result from ./1/train/filtrations/6/HeightFiltrartion_0_1/green/diagrams.npy\n",
      "Applying Scaler to persistence diagrams.\n",
      "Got the result from ./1/train/filtrations/6/HeightFiltrartion_0_1/blue/diagrams.npy\n",
      "Applying Scaler to persistence diagrams.\n",
      "Applying filtration 55/72: 6/HeightFiltrartion_-1_0\n",
      "RGB images received. Transforming to grayscale.\n"
     ]
    },
    {
     "name": "stderr",
     "output_type": "stream",
     "text": [
      "rgb2gray: 100%|██████████| 9030/9030 [00:02<00:00, 4180.60it/s]\n"
     ]
    },
    {
     "name": "stdout",
     "output_type": "stream",
     "text": [
      "Got the result from ./1/train/filtrations/6/HeightFiltrartion_-1_0/gray/diagrams.npy\n",
      "Applying Scaler to persistence diagrams.\n",
      "Got the result from ./1/train/filtrations/6/HeightFiltrartion_-1_0/red/diagrams.npy\n",
      "Applying Scaler to persistence diagrams.\n",
      "Got the result from ./1/train/filtrations/6/HeightFiltrartion_-1_0/green/diagrams.npy\n",
      "Applying Scaler to persistence diagrams.\n",
      "Got the result from ./1/train/filtrations/6/HeightFiltrartion_-1_0/blue/diagrams.npy\n",
      "Applying Scaler to persistence diagrams.\n",
      "Applying filtration 56/72: 6/HeightFiltrartion_1_0\n",
      "RGB images received. Transforming to grayscale.\n"
     ]
    },
    {
     "name": "stderr",
     "output_type": "stream",
     "text": [
      "rgb2gray: 100%|██████████| 9030/9030 [00:02<00:00, 3987.05it/s]\n"
     ]
    },
    {
     "name": "stdout",
     "output_type": "stream",
     "text": [
      "Got the result from ./1/train/filtrations/6/HeightFiltrartion_1_0/gray/diagrams.npy\n",
      "Applying Scaler to persistence diagrams.\n",
      "Got the result from ./1/train/filtrations/6/HeightFiltrartion_1_0/red/diagrams.npy\n",
      "Applying Scaler to persistence diagrams.\n",
      "Got the result from ./1/train/filtrations/6/HeightFiltrartion_1_0/green/diagrams.npy\n",
      "Applying Scaler to persistence diagrams.\n",
      "Got the result from ./1/train/filtrations/6/HeightFiltrartion_1_0/blue/diagrams.npy\n",
      "Applying Scaler to persistence diagrams.\n",
      "Applying filtration 57/72: 6/RadialFiltration_12_12\n",
      "RGB images received. Transforming to grayscale.\n"
     ]
    },
    {
     "name": "stderr",
     "output_type": "stream",
     "text": [
      "rgb2gray: 100%|██████████| 9030/9030 [00:01<00:00, 4553.80it/s]\n"
     ]
    },
    {
     "name": "stdout",
     "output_type": "stream",
     "text": [
      "Got the result from ./1/train/filtrations/6/RadialFiltration_12_12/gray/diagrams.npy\n",
      "Applying Scaler to persistence diagrams.\n",
      "Got the result from ./1/train/filtrations/6/RadialFiltration_12_12/red/diagrams.npy\n",
      "Applying Scaler to persistence diagrams.\n",
      "Got the result from ./1/train/filtrations/6/RadialFiltration_12_12/green/diagrams.npy\n",
      "Applying Scaler to persistence diagrams.\n",
      "Got the result from ./1/train/filtrations/6/RadialFiltration_12_12/blue/diagrams.npy\n",
      "Applying Scaler to persistence diagrams.\n",
      "Applying filtration 58/72: 6/RadialFiltration_12_25\n",
      "RGB images received. Transforming to grayscale.\n"
     ]
    },
    {
     "name": "stderr",
     "output_type": "stream",
     "text": [
      "rgb2gray: 100%|██████████| 9030/9030 [00:02<00:00, 4380.49it/s]\n"
     ]
    },
    {
     "name": "stdout",
     "output_type": "stream",
     "text": [
      "Got the result from ./1/train/filtrations/6/RadialFiltration_12_25/gray/diagrams.npy\n",
      "Applying Scaler to persistence diagrams.\n",
      "Got the result from ./1/train/filtrations/6/RadialFiltration_12_25/red/diagrams.npy\n",
      "Applying Scaler to persistence diagrams.\n",
      "Got the result from ./1/train/filtrations/6/RadialFiltration_12_25/green/diagrams.npy\n",
      "Applying Scaler to persistence diagrams.\n",
      "Got the result from ./1/train/filtrations/6/RadialFiltration_12_25/blue/diagrams.npy\n",
      "Applying Scaler to persistence diagrams.\n",
      "Applying filtration 59/72: 6/RadialFiltration_12_38\n",
      "RGB images received. Transforming to grayscale.\n"
     ]
    },
    {
     "name": "stderr",
     "output_type": "stream",
     "text": [
      "rgb2gray: 100%|██████████| 9030/9030 [00:02<00:00, 4236.86it/s]\n"
     ]
    },
    {
     "name": "stdout",
     "output_type": "stream",
     "text": [
      "Got the result from ./1/train/filtrations/6/RadialFiltration_12_38/gray/diagrams.npy\n",
      "Applying Scaler to persistence diagrams.\n",
      "Got the result from ./1/train/filtrations/6/RadialFiltration_12_38/red/diagrams.npy\n",
      "Applying Scaler to persistence diagrams.\n",
      "Got the result from ./1/train/filtrations/6/RadialFiltration_12_38/green/diagrams.npy\n",
      "Applying Scaler to persistence diagrams.\n",
      "Got the result from ./1/train/filtrations/6/RadialFiltration_12_38/blue/diagrams.npy\n",
      "Applying Scaler to persistence diagrams.\n",
      "Applying filtration 60/72: 6/RadialFiltration_12_51\n",
      "RGB images received. Transforming to grayscale.\n"
     ]
    },
    {
     "name": "stderr",
     "output_type": "stream",
     "text": [
      "rgb2gray: 100%|██████████| 9030/9030 [00:02<00:00, 4509.13it/s]\n"
     ]
    },
    {
     "name": "stdout",
     "output_type": "stream",
     "text": [
      "Got the result from ./1/train/filtrations/6/RadialFiltration_12_51/gray/diagrams.npy\n",
      "Applying Scaler to persistence diagrams.\n",
      "Got the result from ./1/train/filtrations/6/RadialFiltration_12_51/red/diagrams.npy\n",
      "Applying Scaler to persistence diagrams.\n",
      "Got the result from ./1/train/filtrations/6/RadialFiltration_12_51/green/diagrams.npy\n",
      "Applying Scaler to persistence diagrams.\n",
      "Got the result from ./1/train/filtrations/6/RadialFiltration_12_51/blue/diagrams.npy\n",
      "Applying Scaler to persistence diagrams.\n",
      "Applying filtration 61/72: 6/RadialFiltration_25_12\n",
      "RGB images received. Transforming to grayscale.\n"
     ]
    },
    {
     "name": "stderr",
     "output_type": "stream",
     "text": [
      "rgb2gray: 100%|██████████| 9030/9030 [00:02<00:00, 4489.26it/s]\n"
     ]
    },
    {
     "name": "stdout",
     "output_type": "stream",
     "text": [
      "Got the result from ./1/train/filtrations/6/RadialFiltration_25_12/gray/diagrams.npy\n",
      "Applying Scaler to persistence diagrams.\n",
      "Got the result from ./1/train/filtrations/6/RadialFiltration_25_12/red/diagrams.npy\n",
      "Applying Scaler to persistence diagrams.\n",
      "Got the result from ./1/train/filtrations/6/RadialFiltration_25_12/green/diagrams.npy\n",
      "Applying Scaler to persistence diagrams.\n",
      "Got the result from ./1/train/filtrations/6/RadialFiltration_25_12/blue/diagrams.npy\n",
      "Applying Scaler to persistence diagrams.\n",
      "Applying filtration 62/72: 6/RadialFiltration_25_25\n",
      "RGB images received. Transforming to grayscale.\n"
     ]
    },
    {
     "name": "stderr",
     "output_type": "stream",
     "text": [
      "rgb2gray: 100%|██████████| 9030/9030 [00:02<00:00, 4076.16it/s]\n"
     ]
    },
    {
     "name": "stdout",
     "output_type": "stream",
     "text": [
      "Got the result from ./1/train/filtrations/6/RadialFiltration_25_25/gray/diagrams.npy\n",
      "Applying Scaler to persistence diagrams.\n",
      "Got the result from ./1/train/filtrations/6/RadialFiltration_25_25/red/diagrams.npy\n",
      "Applying Scaler to persistence diagrams.\n",
      "Got the result from ./1/train/filtrations/6/RadialFiltration_25_25/green/diagrams.npy\n",
      "Applying Scaler to persistence diagrams.\n",
      "Got the result from ./1/train/filtrations/6/RadialFiltration_25_25/blue/diagrams.npy\n",
      "Applying Scaler to persistence diagrams.\n",
      "Applying filtration 63/72: 6/RadialFiltration_25_38\n",
      "RGB images received. Transforming to grayscale.\n"
     ]
    },
    {
     "name": "stderr",
     "output_type": "stream",
     "text": [
      "rgb2gray: 100%|██████████| 9030/9030 [00:02<00:00, 4109.25it/s]\n"
     ]
    },
    {
     "name": "stdout",
     "output_type": "stream",
     "text": [
      "Got the result from ./1/train/filtrations/6/RadialFiltration_25_38/gray/diagrams.npy\n",
      "Applying Scaler to persistence diagrams.\n",
      "Got the result from ./1/train/filtrations/6/RadialFiltration_25_38/red/diagrams.npy\n",
      "Applying Scaler to persistence diagrams.\n",
      "Got the result from ./1/train/filtrations/6/RadialFiltration_25_38/green/diagrams.npy\n",
      "Applying Scaler to persistence diagrams.\n",
      "Got the result from ./1/train/filtrations/6/RadialFiltration_25_38/blue/diagrams.npy\n",
      "Applying Scaler to persistence diagrams.\n",
      "Applying filtration 64/72: 6/RadialFiltration_25_51\n",
      "RGB images received. Transforming to grayscale.\n"
     ]
    },
    {
     "name": "stderr",
     "output_type": "stream",
     "text": [
      "rgb2gray: 100%|██████████| 9030/9030 [00:02<00:00, 3693.89it/s]\n"
     ]
    },
    {
     "name": "stdout",
     "output_type": "stream",
     "text": [
      "Got the result from ./1/train/filtrations/6/RadialFiltration_25_51/gray/diagrams.npy\n",
      "Applying Scaler to persistence diagrams.\n",
      "Got the result from ./1/train/filtrations/6/RadialFiltration_25_51/red/diagrams.npy\n",
      "Applying Scaler to persistence diagrams.\n",
      "Got the result from ./1/train/filtrations/6/RadialFiltration_25_51/green/diagrams.npy\n",
      "Applying Scaler to persistence diagrams.\n",
      "Got the result from ./1/train/filtrations/6/RadialFiltration_25_51/blue/diagrams.npy\n",
      "Applying Scaler to persistence diagrams.\n",
      "Applying filtration 65/72: 6/RadialFiltration_38_12\n",
      "RGB images received. Transforming to grayscale.\n"
     ]
    },
    {
     "name": "stderr",
     "output_type": "stream",
     "text": [
      "rgb2gray: 100%|██████████| 9030/9030 [00:02<00:00, 3425.52it/s]\n"
     ]
    },
    {
     "name": "stdout",
     "output_type": "stream",
     "text": [
      "Got the result from ./1/train/filtrations/6/RadialFiltration_38_12/gray/diagrams.npy\n",
      "Applying Scaler to persistence diagrams.\n",
      "Got the result from ./1/train/filtrations/6/RadialFiltration_38_12/red/diagrams.npy\n",
      "Applying Scaler to persistence diagrams.\n",
      "Got the result from ./1/train/filtrations/6/RadialFiltration_38_12/green/diagrams.npy\n",
      "Applying Scaler to persistence diagrams.\n",
      "Got the result from ./1/train/filtrations/6/RadialFiltration_38_12/blue/diagrams.npy\n",
      "Applying Scaler to persistence diagrams.\n",
      "Applying filtration 66/72: 6/RadialFiltration_38_25\n",
      "RGB images received. Transforming to grayscale.\n"
     ]
    },
    {
     "name": "stderr",
     "output_type": "stream",
     "text": [
      "rgb2gray: 100%|██████████| 9030/9030 [00:02<00:00, 3935.54it/s]\n"
     ]
    },
    {
     "name": "stdout",
     "output_type": "stream",
     "text": [
      "Got the result from ./1/train/filtrations/6/RadialFiltration_38_25/gray/diagrams.npy\n",
      "Applying Scaler to persistence diagrams.\n",
      "Got the result from ./1/train/filtrations/6/RadialFiltration_38_25/red/diagrams.npy\n",
      "Applying Scaler to persistence diagrams.\n",
      "Got the result from ./1/train/filtrations/6/RadialFiltration_38_25/green/diagrams.npy\n",
      "Applying Scaler to persistence diagrams.\n",
      "Got the result from ./1/train/filtrations/6/RadialFiltration_38_25/blue/diagrams.npy\n",
      "Applying Scaler to persistence diagrams.\n",
      "Applying filtration 67/72: 6/RadialFiltration_38_38\n",
      "RGB images received. Transforming to grayscale.\n"
     ]
    },
    {
     "name": "stderr",
     "output_type": "stream",
     "text": [
      "rgb2gray: 100%|██████████| 9030/9030 [00:02<00:00, 4134.02it/s]\n"
     ]
    },
    {
     "name": "stdout",
     "output_type": "stream",
     "text": [
      "Got the result from ./1/train/filtrations/6/RadialFiltration_38_38/gray/diagrams.npy\n",
      "Applying Scaler to persistence diagrams.\n",
      "Got the result from ./1/train/filtrations/6/RadialFiltration_38_38/red/diagrams.npy\n",
      "Applying Scaler to persistence diagrams.\n",
      "Got the result from ./1/train/filtrations/6/RadialFiltration_38_38/green/diagrams.npy\n",
      "Applying Scaler to persistence diagrams.\n",
      "Got the result from ./1/train/filtrations/6/RadialFiltration_38_38/blue/diagrams.npy\n",
      "Applying Scaler to persistence diagrams.\n",
      "Applying filtration 68/72: 6/RadialFiltration_38_51\n",
      "RGB images received. Transforming to grayscale.\n"
     ]
    },
    {
     "name": "stderr",
     "output_type": "stream",
     "text": [
      "rgb2gray: 100%|██████████| 9030/9030 [00:02<00:00, 4171.39it/s]\n"
     ]
    },
    {
     "name": "stdout",
     "output_type": "stream",
     "text": [
      "Got the result from ./1/train/filtrations/6/RadialFiltration_38_51/gray/diagrams.npy\n",
      "Applying Scaler to persistence diagrams.\n",
      "Got the result from ./1/train/filtrations/6/RadialFiltration_38_51/red/diagrams.npy\n",
      "Applying Scaler to persistence diagrams.\n",
      "Got the result from ./1/train/filtrations/6/RadialFiltration_38_51/green/diagrams.npy\n",
      "Applying Scaler to persistence diagrams.\n",
      "Got the result from ./1/train/filtrations/6/RadialFiltration_38_51/blue/diagrams.npy\n",
      "Applying Scaler to persistence diagrams.\n",
      "Applying filtration 69/72: 6/RadialFiltration_51_12\n",
      "RGB images received. Transforming to grayscale.\n"
     ]
    },
    {
     "name": "stderr",
     "output_type": "stream",
     "text": [
      "rgb2gray: 100%|██████████| 9030/9030 [00:02<00:00, 4079.99it/s]\n"
     ]
    },
    {
     "name": "stdout",
     "output_type": "stream",
     "text": [
      "Got the result from ./1/train/filtrations/6/RadialFiltration_51_12/gray/diagrams.npy\n",
      "Applying Scaler to persistence diagrams.\n",
      "Got the result from ./1/train/filtrations/6/RadialFiltration_51_12/red/diagrams.npy\n",
      "Applying Scaler to persistence diagrams.\n",
      "Got the result from ./1/train/filtrations/6/RadialFiltration_51_12/green/diagrams.npy\n",
      "Applying Scaler to persistence diagrams.\n",
      "Got the result from ./1/train/filtrations/6/RadialFiltration_51_12/blue/diagrams.npy\n",
      "Applying Scaler to persistence diagrams.\n",
      "Applying filtration 70/72: 6/RadialFiltration_51_25\n",
      "RGB images received. Transforming to grayscale.\n"
     ]
    },
    {
     "name": "stderr",
     "output_type": "stream",
     "text": [
      "rgb2gray: 100%|██████████| 9030/9030 [00:02<00:00, 4067.12it/s]\n"
     ]
    },
    {
     "name": "stdout",
     "output_type": "stream",
     "text": [
      "Got the result from ./1/train/filtrations/6/RadialFiltration_51_25/gray/diagrams.npy\n",
      "Applying Scaler to persistence diagrams.\n",
      "Got the result from ./1/train/filtrations/6/RadialFiltration_51_25/red/diagrams.npy\n",
      "Applying Scaler to persistence diagrams.\n",
      "Got the result from ./1/train/filtrations/6/RadialFiltration_51_25/green/diagrams.npy\n",
      "Applying Scaler to persistence diagrams.\n",
      "Got the result from ./1/train/filtrations/6/RadialFiltration_51_25/blue/diagrams.npy\n",
      "Applying Scaler to persistence diagrams.\n",
      "Applying filtration 71/72: 6/RadialFiltration_51_38\n",
      "RGB images received. Transforming to grayscale.\n"
     ]
    },
    {
     "name": "stderr",
     "output_type": "stream",
     "text": [
      "rgb2gray: 100%|██████████| 9030/9030 [00:02<00:00, 4224.97it/s]\n"
     ]
    },
    {
     "name": "stdout",
     "output_type": "stream",
     "text": [
      "Got the result from ./1/train/filtrations/6/RadialFiltration_51_38/gray/diagrams.npy\n",
      "Applying Scaler to persistence diagrams.\n",
      "Got the result from ./1/train/filtrations/6/RadialFiltration_51_38/red/diagrams.npy\n",
      "Applying Scaler to persistence diagrams.\n",
      "Got the result from ./1/train/filtrations/6/RadialFiltration_51_38/green/diagrams.npy\n",
      "Applying Scaler to persistence diagrams.\n",
      "Got the result from ./1/train/filtrations/6/RadialFiltration_51_38/blue/diagrams.npy\n",
      "Applying Scaler to persistence diagrams.\n",
      "Applying filtration 72/72: 6/RadialFiltration_51_51\n",
      "RGB images received. Transforming to grayscale.\n"
     ]
    },
    {
     "name": "stderr",
     "output_type": "stream",
     "text": [
      "rgb2gray: 100%|██████████| 9030/9030 [00:02<00:00, 4102.21it/s]\n"
     ]
    },
    {
     "name": "stdout",
     "output_type": "stream",
     "text": [
      "Got the result from ./1/train/filtrations/6/RadialFiltration_51_51/gray/diagrams.npy\n",
      "Applying Scaler to persistence diagrams.\n",
      "Got the result from ./1/train/filtrations/6/RadialFiltration_51_51/red/diagrams.npy\n",
      "Applying Scaler to persistence diagrams.\n",
      "Got the result from ./1/train/filtrations/6/RadialFiltration_51_51/green/diagrams.npy\n",
      "Applying Scaler to persistence diagrams.\n",
      "Got the result from ./1/train/filtrations/6/RadialFiltration_51_51/blue/diagrams.npy\n",
      "Applying Scaler to persistence diagrams.\n",
      "Diagrams requested. Returning diagrams.\n",
      "Calculating inverted images\n",
      "RGB images received. Transforming to grayscale.\n"
     ]
    },
    {
     "name": "stderr",
     "output_type": "stream",
     "text": [
      "rgb2gray: 100%|██████████| 9030/9030 [00:01<00:00, 4834.03it/s]\n"
     ]
    },
    {
     "name": "stdout",
     "output_type": "stream",
     "text": [
      "Got the result from ./1/train/greyscale/gray/diagrams.npy\n",
      "Applying Scaler to persistence diagrams.\n",
      "Got the result from ./1/train/greyscale/red/diagrams.npy\n",
      "Applying Scaler to persistence diagrams.\n",
      "Got the result from ./1/train/greyscale/green/diagrams.npy\n",
      "Applying Scaler to persistence diagrams.\n",
      "Got the result from ./1/train/greyscale/blue/diagrams.npy\n",
      "Applying Scaler to persistence diagrams.\n",
      "RGB images received. Transforming to grayscale.\n"
     ]
    },
    {
     "name": "stderr",
     "output_type": "stream",
     "text": [
      "rgb2gray: 100%|██████████| 9030/9030 [00:01<00:00, 4835.46it/s] \n"
     ]
    },
    {
     "name": "stdout",
     "output_type": "stream",
     "text": [
      "Got the result from ./1/train/inverted_greyscale/gray/diagrams.npy\n",
      "Applying Scaler to persistence diagrams.\n",
      "Got the result from ./1/train/inverted_greyscale/red/diagrams.npy\n",
      "Applying Scaler to persistence diagrams.\n",
      "Got the result from ./1/train/inverted_greyscale/green/diagrams.npy\n",
      "Applying Scaler to persistence diagrams.\n",
      "Got the result from ./1/train/inverted_greyscale/blue/diagrams.npy\n",
      "Applying Scaler to persistence diagrams.\n",
      "Applying filtrations\n",
      "Applying filtration 1/72: 2/HeightFiltrartion_-1_-1\n",
      "RGB images received. Transforming to grayscale.\n"
     ]
    },
    {
     "name": "stderr",
     "output_type": "stream",
     "text": [
      "rgb2gray: 100%|██████████| 9030/9030 [00:01<00:00, 4792.59it/s]\n"
     ]
    },
    {
     "name": "stdout",
     "output_type": "stream",
     "text": [
      "Got the result from ./1/train/filtrations/2/HeightFiltrartion_-1_-1/gray/diagrams.npy\n",
      "Applying Scaler to persistence diagrams.\n",
      "Got the result from ./1/train/filtrations/2/HeightFiltrartion_-1_-1/red/diagrams.npy\n",
      "Applying Scaler to persistence diagrams.\n",
      "Got the result from ./1/train/filtrations/2/HeightFiltrartion_-1_-1/green/diagrams.npy\n",
      "Applying Scaler to persistence diagrams.\n",
      "Got the result from ./1/train/filtrations/2/HeightFiltrartion_-1_-1/blue/diagrams.npy\n",
      "Applying Scaler to persistence diagrams.\n",
      "Applying filtration 2/72: 2/HeightFiltrartion_1_1\n",
      "RGB images received. Transforming to grayscale.\n"
     ]
    },
    {
     "name": "stderr",
     "output_type": "stream",
     "text": [
      "rgb2gray: 100%|██████████| 9030/9030 [00:02<00:00, 3699.40it/s]\n"
     ]
    },
    {
     "name": "stdout",
     "output_type": "stream",
     "text": [
      "Got the result from ./1/train/filtrations/2/HeightFiltrartion_1_1/gray/diagrams.npy\n",
      "Applying Scaler to persistence diagrams.\n",
      "Got the result from ./1/train/filtrations/2/HeightFiltrartion_1_1/red/diagrams.npy\n",
      "Applying Scaler to persistence diagrams.\n",
      "Got the result from ./1/train/filtrations/2/HeightFiltrartion_1_1/green/diagrams.npy\n",
      "Applying Scaler to persistence diagrams.\n",
      "Got the result from ./1/train/filtrations/2/HeightFiltrartion_1_1/blue/diagrams.npy\n",
      "Applying Scaler to persistence diagrams.\n",
      "Applying filtration 3/72: 2/HeightFiltrartion_1_-1\n",
      "RGB images received. Transforming to grayscale.\n"
     ]
    },
    {
     "name": "stderr",
     "output_type": "stream",
     "text": [
      "rgb2gray: 100%|██████████| 9030/9030 [00:01<00:00, 5024.62it/s]\n"
     ]
    },
    {
     "name": "stdout",
     "output_type": "stream",
     "text": [
      "Got the result from ./1/train/filtrations/2/HeightFiltrartion_1_-1/gray/diagrams.npy\n",
      "Applying Scaler to persistence diagrams.\n",
      "Got the result from ./1/train/filtrations/2/HeightFiltrartion_1_-1/red/diagrams.npy\n",
      "Applying Scaler to persistence diagrams.\n",
      "Got the result from ./1/train/filtrations/2/HeightFiltrartion_1_-1/green/diagrams.npy\n",
      "Applying Scaler to persistence diagrams.\n",
      "Got the result from ./1/train/filtrations/2/HeightFiltrartion_1_-1/blue/diagrams.npy\n",
      "Applying Scaler to persistence diagrams.\n",
      "Applying filtration 4/72: 2/HeightFiltrartion_-1_1\n",
      "RGB images received. Transforming to grayscale.\n"
     ]
    },
    {
     "name": "stderr",
     "output_type": "stream",
     "text": [
      "rgb2gray: 100%|██████████| 9030/9030 [00:01<00:00, 4716.67it/s]\n"
     ]
    },
    {
     "name": "stdout",
     "output_type": "stream",
     "text": [
      "Got the result from ./1/train/filtrations/2/HeightFiltrartion_-1_1/gray/diagrams.npy\n",
      "Applying Scaler to persistence diagrams.\n",
      "Got the result from ./1/train/filtrations/2/HeightFiltrartion_-1_1/red/diagrams.npy\n",
      "Applying Scaler to persistence diagrams.\n",
      "Got the result from ./1/train/filtrations/2/HeightFiltrartion_-1_1/green/diagrams.npy\n",
      "Applying Scaler to persistence diagrams.\n",
      "Got the result from ./1/train/filtrations/2/HeightFiltrartion_-1_1/blue/diagrams.npy\n",
      "Applying Scaler to persistence diagrams.\n",
      "Applying filtration 5/72: 2/HeightFiltrartion_0_-1\n",
      "RGB images received. Transforming to grayscale.\n"
     ]
    },
    {
     "name": "stderr",
     "output_type": "stream",
     "text": [
      "rgb2gray: 100%|██████████| 9030/9030 [00:02<00:00, 4442.06it/s]\n"
     ]
    },
    {
     "name": "stdout",
     "output_type": "stream",
     "text": [
      "Got the result from ./1/train/filtrations/2/HeightFiltrartion_0_-1/gray/diagrams.npy\n",
      "Applying Scaler to persistence diagrams.\n",
      "Got the result from ./1/train/filtrations/2/HeightFiltrartion_0_-1/red/diagrams.npy\n",
      "Applying Scaler to persistence diagrams.\n",
      "Got the result from ./1/train/filtrations/2/HeightFiltrartion_0_-1/green/diagrams.npy\n",
      "Applying Scaler to persistence diagrams.\n",
      "Got the result from ./1/train/filtrations/2/HeightFiltrartion_0_-1/blue/diagrams.npy\n",
      "Applying Scaler to persistence diagrams.\n",
      "Applying filtration 6/72: 2/HeightFiltrartion_0_1\n",
      "RGB images received. Transforming to grayscale.\n"
     ]
    },
    {
     "name": "stderr",
     "output_type": "stream",
     "text": [
      "rgb2gray: 100%|██████████| 9030/9030 [00:01<00:00, 5081.92it/s]\n"
     ]
    },
    {
     "name": "stdout",
     "output_type": "stream",
     "text": [
      "Got the result from ./1/train/filtrations/2/HeightFiltrartion_0_1/gray/diagrams.npy\n",
      "Applying Scaler to persistence diagrams.\n",
      "Got the result from ./1/train/filtrations/2/HeightFiltrartion_0_1/red/diagrams.npy\n",
      "Applying Scaler to persistence diagrams.\n",
      "Got the result from ./1/train/filtrations/2/HeightFiltrartion_0_1/green/diagrams.npy\n",
      "Applying Scaler to persistence diagrams.\n",
      "Got the result from ./1/train/filtrations/2/HeightFiltrartion_0_1/blue/diagrams.npy\n",
      "Applying Scaler to persistence diagrams.\n",
      "Applying filtration 7/72: 2/HeightFiltrartion_-1_0\n",
      "RGB images received. Transforming to grayscale.\n"
     ]
    },
    {
     "name": "stderr",
     "output_type": "stream",
     "text": [
      "rgb2gray: 100%|██████████| 9030/9030 [00:01<00:00, 4585.93it/s]\n"
     ]
    },
    {
     "name": "stdout",
     "output_type": "stream",
     "text": [
      "Got the result from ./1/train/filtrations/2/HeightFiltrartion_-1_0/gray/diagrams.npy\n",
      "Applying Scaler to persistence diagrams.\n",
      "Got the result from ./1/train/filtrations/2/HeightFiltrartion_-1_0/red/diagrams.npy\n",
      "Applying Scaler to persistence diagrams.\n",
      "Got the result from ./1/train/filtrations/2/HeightFiltrartion_-1_0/green/diagrams.npy\n",
      "Applying Scaler to persistence diagrams.\n",
      "Got the result from ./1/train/filtrations/2/HeightFiltrartion_-1_0/blue/diagrams.npy\n",
      "Applying Scaler to persistence diagrams.\n",
      "Applying filtration 8/72: 2/HeightFiltrartion_1_0\n",
      "RGB images received. Transforming to grayscale.\n"
     ]
    },
    {
     "name": "stderr",
     "output_type": "stream",
     "text": [
      "rgb2gray: 100%|██████████| 9030/9030 [00:02<00:00, 4437.25it/s]\n"
     ]
    },
    {
     "name": "stdout",
     "output_type": "stream",
     "text": [
      "Got the result from ./1/train/filtrations/2/HeightFiltrartion_1_0/gray/diagrams.npy\n",
      "Applying Scaler to persistence diagrams.\n",
      "Got the result from ./1/train/filtrations/2/HeightFiltrartion_1_0/red/diagrams.npy\n",
      "Applying Scaler to persistence diagrams.\n",
      "Got the result from ./1/train/filtrations/2/HeightFiltrartion_1_0/green/diagrams.npy\n",
      "Applying Scaler to persistence diagrams.\n",
      "Got the result from ./1/train/filtrations/2/HeightFiltrartion_1_0/blue/diagrams.npy\n",
      "Applying Scaler to persistence diagrams.\n",
      "Applying filtration 9/72: 2/RadialFiltration_12_12\n",
      "RGB images received. Transforming to grayscale.\n"
     ]
    },
    {
     "name": "stderr",
     "output_type": "stream",
     "text": [
      "rgb2gray: 100%|██████████| 9030/9030 [00:01<00:00, 4792.97it/s]\n"
     ]
    },
    {
     "name": "stdout",
     "output_type": "stream",
     "text": [
      "Got the result from ./1/train/filtrations/2/RadialFiltration_12_12/gray/diagrams.npy\n",
      "Applying Scaler to persistence diagrams.\n",
      "Got the result from ./1/train/filtrations/2/RadialFiltration_12_12/red/diagrams.npy\n",
      "Applying Scaler to persistence diagrams.\n",
      "Got the result from ./1/train/filtrations/2/RadialFiltration_12_12/green/diagrams.npy\n",
      "Applying Scaler to persistence diagrams.\n",
      "Got the result from ./1/train/filtrations/2/RadialFiltration_12_12/blue/diagrams.npy\n",
      "Applying Scaler to persistence diagrams.\n",
      "Applying filtration 10/72: 2/RadialFiltration_12_25\n",
      "RGB images received. Transforming to grayscale.\n"
     ]
    },
    {
     "name": "stderr",
     "output_type": "stream",
     "text": [
      "rgb2gray: 100%|██████████| 9030/9030 [00:01<00:00, 4776.22it/s] \n"
     ]
    },
    {
     "name": "stdout",
     "output_type": "stream",
     "text": [
      "Got the result from ./1/train/filtrations/2/RadialFiltration_12_25/gray/diagrams.npy\n",
      "Applying Scaler to persistence diagrams.\n",
      "Got the result from ./1/train/filtrations/2/RadialFiltration_12_25/red/diagrams.npy\n",
      "Applying Scaler to persistence diagrams.\n",
      "Got the result from ./1/train/filtrations/2/RadialFiltration_12_25/green/diagrams.npy\n",
      "Applying Scaler to persistence diagrams.\n",
      "Got the result from ./1/train/filtrations/2/RadialFiltration_12_25/blue/diagrams.npy\n",
      "Applying Scaler to persistence diagrams.\n",
      "Applying filtration 11/72: 2/RadialFiltration_12_38\n",
      "RGB images received. Transforming to grayscale.\n"
     ]
    },
    {
     "name": "stderr",
     "output_type": "stream",
     "text": [
      "rgb2gray: 100%|██████████| 9030/9030 [00:01<00:00, 4571.00it/s]\n"
     ]
    },
    {
     "name": "stdout",
     "output_type": "stream",
     "text": [
      "Got the result from ./1/train/filtrations/2/RadialFiltration_12_38/gray/diagrams.npy\n",
      "Applying Scaler to persistence diagrams.\n",
      "Got the result from ./1/train/filtrations/2/RadialFiltration_12_38/red/diagrams.npy\n",
      "Applying Scaler to persistence diagrams.\n",
      "Got the result from ./1/train/filtrations/2/RadialFiltration_12_38/green/diagrams.npy\n",
      "Applying Scaler to persistence diagrams.\n",
      "Got the result from ./1/train/filtrations/2/RadialFiltration_12_38/blue/diagrams.npy\n",
      "Applying Scaler to persistence diagrams.\n",
      "Applying filtration 12/72: 2/RadialFiltration_12_51\n",
      "RGB images received. Transforming to grayscale.\n"
     ]
    },
    {
     "name": "stderr",
     "output_type": "stream",
     "text": [
      "rgb2gray: 100%|██████████| 9030/9030 [00:01<00:00, 4544.34it/s]\n"
     ]
    },
    {
     "name": "stdout",
     "output_type": "stream",
     "text": [
      "Got the result from ./1/train/filtrations/2/RadialFiltration_12_51/gray/diagrams.npy\n",
      "Applying Scaler to persistence diagrams.\n",
      "Got the result from ./1/train/filtrations/2/RadialFiltration_12_51/red/diagrams.npy\n",
      "Applying Scaler to persistence diagrams.\n",
      "Got the result from ./1/train/filtrations/2/RadialFiltration_12_51/green/diagrams.npy\n",
      "Applying Scaler to persistence diagrams.\n",
      "Got the result from ./1/train/filtrations/2/RadialFiltration_12_51/blue/diagrams.npy\n",
      "Applying Scaler to persistence diagrams.\n",
      "Applying filtration 13/72: 2/RadialFiltration_25_12\n",
      "RGB images received. Transforming to grayscale.\n"
     ]
    },
    {
     "name": "stderr",
     "output_type": "stream",
     "text": [
      "rgb2gray: 100%|██████████| 9030/9030 [00:01<00:00, 4681.97it/s]\n"
     ]
    },
    {
     "name": "stdout",
     "output_type": "stream",
     "text": [
      "Got the result from ./1/train/filtrations/2/RadialFiltration_25_12/gray/diagrams.npy\n",
      "Applying Scaler to persistence diagrams.\n",
      "Got the result from ./1/train/filtrations/2/RadialFiltration_25_12/red/diagrams.npy\n",
      "Applying Scaler to persistence diagrams.\n",
      "Got the result from ./1/train/filtrations/2/RadialFiltration_25_12/green/diagrams.npy\n",
      "Applying Scaler to persistence diagrams.\n",
      "Got the result from ./1/train/filtrations/2/RadialFiltration_25_12/blue/diagrams.npy\n",
      "Applying Scaler to persistence diagrams.\n",
      "Applying filtration 14/72: 2/RadialFiltration_25_25\n",
      "RGB images received. Transforming to grayscale.\n"
     ]
    },
    {
     "name": "stderr",
     "output_type": "stream",
     "text": [
      "rgb2gray: 100%|██████████| 9030/9030 [00:01<00:00, 4741.71it/s]\n"
     ]
    },
    {
     "name": "stdout",
     "output_type": "stream",
     "text": [
      "Got the result from ./1/train/filtrations/2/RadialFiltration_25_25/gray/diagrams.npy\n",
      "Applying Scaler to persistence diagrams.\n",
      "Got the result from ./1/train/filtrations/2/RadialFiltration_25_25/red/diagrams.npy\n",
      "Applying Scaler to persistence diagrams.\n",
      "Got the result from ./1/train/filtrations/2/RadialFiltration_25_25/green/diagrams.npy\n",
      "Applying Scaler to persistence diagrams.\n",
      "Got the result from ./1/train/filtrations/2/RadialFiltration_25_25/blue/diagrams.npy\n",
      "Applying Scaler to persistence diagrams.\n",
      "Applying filtration 15/72: 2/RadialFiltration_25_38\n",
      "RGB images received. Transforming to grayscale.\n"
     ]
    },
    {
     "name": "stderr",
     "output_type": "stream",
     "text": [
      "rgb2gray: 100%|██████████| 9030/9030 [00:01<00:00, 4721.66it/s]\n"
     ]
    },
    {
     "name": "stdout",
     "output_type": "stream",
     "text": [
      "Got the result from ./1/train/filtrations/2/RadialFiltration_25_38/gray/diagrams.npy\n",
      "Applying Scaler to persistence diagrams.\n",
      "Got the result from ./1/train/filtrations/2/RadialFiltration_25_38/red/diagrams.npy\n",
      "Applying Scaler to persistence diagrams.\n",
      "Got the result from ./1/train/filtrations/2/RadialFiltration_25_38/green/diagrams.npy\n",
      "Applying Scaler to persistence diagrams.\n",
      "Got the result from ./1/train/filtrations/2/RadialFiltration_25_38/blue/diagrams.npy\n",
      "Applying Scaler to persistence diagrams.\n",
      "Applying filtration 16/72: 2/RadialFiltration_25_51\n",
      "RGB images received. Transforming to grayscale.\n"
     ]
    },
    {
     "name": "stderr",
     "output_type": "stream",
     "text": [
      "rgb2gray: 100%|██████████| 9030/9030 [00:01<00:00, 5060.58it/s]\n"
     ]
    },
    {
     "name": "stdout",
     "output_type": "stream",
     "text": [
      "Got the result from ./1/train/filtrations/2/RadialFiltration_25_51/gray/diagrams.npy\n",
      "Applying Scaler to persistence diagrams.\n",
      "Got the result from ./1/train/filtrations/2/RadialFiltration_25_51/red/diagrams.npy\n",
      "Applying Scaler to persistence diagrams.\n",
      "Got the result from ./1/train/filtrations/2/RadialFiltration_25_51/green/diagrams.npy\n",
      "Applying Scaler to persistence diagrams.\n",
      "Got the result from ./1/train/filtrations/2/RadialFiltration_25_51/blue/diagrams.npy\n",
      "Applying Scaler to persistence diagrams.\n",
      "Applying filtration 17/72: 2/RadialFiltration_38_12\n",
      "RGB images received. Transforming to grayscale.\n"
     ]
    },
    {
     "name": "stderr",
     "output_type": "stream",
     "text": [
      "rgb2gray: 100%|██████████| 9030/9030 [00:02<00:00, 4408.10it/s]\n"
     ]
    },
    {
     "name": "stdout",
     "output_type": "stream",
     "text": [
      "Got the result from ./1/train/filtrations/2/RadialFiltration_38_12/gray/diagrams.npy\n",
      "Applying Scaler to persistence diagrams.\n",
      "Got the result from ./1/train/filtrations/2/RadialFiltration_38_12/red/diagrams.npy\n",
      "Applying Scaler to persistence diagrams.\n",
      "Got the result from ./1/train/filtrations/2/RadialFiltration_38_12/green/diagrams.npy\n",
      "Applying Scaler to persistence diagrams.\n",
      "Got the result from ./1/train/filtrations/2/RadialFiltration_38_12/blue/diagrams.npy\n",
      "Applying Scaler to persistence diagrams.\n",
      "Applying filtration 18/72: 2/RadialFiltration_38_25\n",
      "RGB images received. Transforming to grayscale.\n"
     ]
    },
    {
     "name": "stderr",
     "output_type": "stream",
     "text": [
      "rgb2gray: 100%|██████████| 9030/9030 [00:02<00:00, 3793.12it/s]\n"
     ]
    },
    {
     "name": "stdout",
     "output_type": "stream",
     "text": [
      "Got the result from ./1/train/filtrations/2/RadialFiltration_38_25/gray/diagrams.npy\n",
      "Applying Scaler to persistence diagrams.\n",
      "Got the result from ./1/train/filtrations/2/RadialFiltration_38_25/red/diagrams.npy\n",
      "Applying Scaler to persistence diagrams.\n",
      "Got the result from ./1/train/filtrations/2/RadialFiltration_38_25/green/diagrams.npy\n",
      "Applying Scaler to persistence diagrams.\n",
      "Got the result from ./1/train/filtrations/2/RadialFiltration_38_25/blue/diagrams.npy\n",
      "Applying Scaler to persistence diagrams.\n",
      "Applying filtration 19/72: 2/RadialFiltration_38_38\n",
      "RGB images received. Transforming to grayscale.\n"
     ]
    },
    {
     "name": "stderr",
     "output_type": "stream",
     "text": [
      "rgb2gray: 100%|██████████| 9030/9030 [00:01<00:00, 4747.92it/s]\n"
     ]
    },
    {
     "name": "stdout",
     "output_type": "stream",
     "text": [
      "Got the result from ./1/train/filtrations/2/RadialFiltration_38_38/gray/diagrams.npy\n",
      "Applying Scaler to persistence diagrams.\n",
      "Got the result from ./1/train/filtrations/2/RadialFiltration_38_38/red/diagrams.npy\n",
      "Applying Scaler to persistence diagrams.\n",
      "Got the result from ./1/train/filtrations/2/RadialFiltration_38_38/green/diagrams.npy\n",
      "Applying Scaler to persistence diagrams.\n",
      "Got the result from ./1/train/filtrations/2/RadialFiltration_38_38/blue/diagrams.npy\n",
      "Applying Scaler to persistence diagrams.\n",
      "Applying filtration 20/72: 2/RadialFiltration_38_51\n",
      "RGB images received. Transforming to grayscale.\n"
     ]
    },
    {
     "name": "stderr",
     "output_type": "stream",
     "text": [
      "rgb2gray: 100%|██████████| 9030/9030 [00:02<00:00, 4397.89it/s]\n"
     ]
    },
    {
     "name": "stdout",
     "output_type": "stream",
     "text": [
      "Got the result from ./1/train/filtrations/2/RadialFiltration_38_51/gray/diagrams.npy\n",
      "Applying Scaler to persistence diagrams.\n",
      "Got the result from ./1/train/filtrations/2/RadialFiltration_38_51/red/diagrams.npy\n",
      "Applying Scaler to persistence diagrams.\n",
      "Got the result from ./1/train/filtrations/2/RadialFiltration_38_51/green/diagrams.npy\n",
      "Applying Scaler to persistence diagrams.\n",
      "Got the result from ./1/train/filtrations/2/RadialFiltration_38_51/blue/diagrams.npy\n",
      "Applying Scaler to persistence diagrams.\n",
      "Applying filtration 21/72: 2/RadialFiltration_51_12\n",
      "RGB images received. Transforming to grayscale.\n"
     ]
    },
    {
     "name": "stderr",
     "output_type": "stream",
     "text": [
      "rgb2gray: 100%|██████████| 9030/9030 [00:01<00:00, 4661.56it/s]\n"
     ]
    },
    {
     "name": "stdout",
     "output_type": "stream",
     "text": [
      "Got the result from ./1/train/filtrations/2/RadialFiltration_51_12/gray/diagrams.npy\n",
      "Applying Scaler to persistence diagrams.\n",
      "Got the result from ./1/train/filtrations/2/RadialFiltration_51_12/red/diagrams.npy\n",
      "Applying Scaler to persistence diagrams.\n",
      "Got the result from ./1/train/filtrations/2/RadialFiltration_51_12/green/diagrams.npy\n",
      "Applying Scaler to persistence diagrams.\n",
      "Got the result from ./1/train/filtrations/2/RadialFiltration_51_12/blue/diagrams.npy\n",
      "Applying Scaler to persistence diagrams.\n",
      "Applying filtration 22/72: 2/RadialFiltration_51_25\n",
      "RGB images received. Transforming to grayscale.\n"
     ]
    },
    {
     "name": "stderr",
     "output_type": "stream",
     "text": [
      "rgb2gray: 100%|██████████| 9030/9030 [00:01<00:00, 4631.82it/s]\n"
     ]
    },
    {
     "name": "stdout",
     "output_type": "stream",
     "text": [
      "Got the result from ./1/train/filtrations/2/RadialFiltration_51_25/gray/diagrams.npy\n",
      "Applying Scaler to persistence diagrams.\n",
      "Got the result from ./1/train/filtrations/2/RadialFiltration_51_25/red/diagrams.npy\n",
      "Applying Scaler to persistence diagrams.\n",
      "Got the result from ./1/train/filtrations/2/RadialFiltration_51_25/green/diagrams.npy\n",
      "Applying Scaler to persistence diagrams.\n",
      "Got the result from ./1/train/filtrations/2/RadialFiltration_51_25/blue/diagrams.npy\n",
      "Applying Scaler to persistence diagrams.\n",
      "Applying filtration 23/72: 2/RadialFiltration_51_38\n",
      "RGB images received. Transforming to grayscale.\n"
     ]
    },
    {
     "name": "stderr",
     "output_type": "stream",
     "text": [
      "rgb2gray: 100%|██████████| 9030/9030 [00:02<00:00, 4455.46it/s]\n"
     ]
    },
    {
     "name": "stdout",
     "output_type": "stream",
     "text": [
      "Got the result from ./1/train/filtrations/2/RadialFiltration_51_38/gray/diagrams.npy\n",
      "Applying Scaler to persistence diagrams.\n",
      "Got the result from ./1/train/filtrations/2/RadialFiltration_51_38/red/diagrams.npy\n",
      "Applying Scaler to persistence diagrams.\n",
      "Got the result from ./1/train/filtrations/2/RadialFiltration_51_38/green/diagrams.npy\n",
      "Applying Scaler to persistence diagrams.\n",
      "Got the result from ./1/train/filtrations/2/RadialFiltration_51_38/blue/diagrams.npy\n",
      "Applying Scaler to persistence diagrams.\n",
      "Applying filtration 24/72: 2/RadialFiltration_51_51\n",
      "RGB images received. Transforming to grayscale.\n"
     ]
    },
    {
     "name": "stderr",
     "output_type": "stream",
     "text": [
      "rgb2gray: 100%|██████████| 9030/9030 [00:01<00:00, 4676.22it/s] \n"
     ]
    },
    {
     "name": "stdout",
     "output_type": "stream",
     "text": [
      "Got the result from ./1/train/filtrations/2/RadialFiltration_51_51/gray/diagrams.npy\n",
      "Applying Scaler to persistence diagrams.\n",
      "Got the result from ./1/train/filtrations/2/RadialFiltration_51_51/red/diagrams.npy\n",
      "Applying Scaler to persistence diagrams.\n",
      "Got the result from ./1/train/filtrations/2/RadialFiltration_51_51/green/diagrams.npy\n",
      "Applying Scaler to persistence diagrams.\n",
      "Got the result from ./1/train/filtrations/2/RadialFiltration_51_51/blue/diagrams.npy\n",
      "Applying Scaler to persistence diagrams.\n",
      "Applying filtration 25/72: 4/HeightFiltrartion_-1_-1\n",
      "RGB images received. Transforming to grayscale.\n"
     ]
    },
    {
     "name": "stderr",
     "output_type": "stream",
     "text": [
      "rgb2gray: 100%|██████████| 9030/9030 [00:01<00:00, 4703.47it/s]\n"
     ]
    },
    {
     "name": "stdout",
     "output_type": "stream",
     "text": [
      "Got the result from ./1/train/filtrations/4/HeightFiltrartion_-1_-1/gray/diagrams.npy\n",
      "Applying Scaler to persistence diagrams.\n",
      "Got the result from ./1/train/filtrations/4/HeightFiltrartion_-1_-1/red/diagrams.npy\n",
      "Applying Scaler to persistence diagrams.\n",
      "Got the result from ./1/train/filtrations/4/HeightFiltrartion_-1_-1/green/diagrams.npy\n",
      "Applying Scaler to persistence diagrams.\n",
      "Got the result from ./1/train/filtrations/4/HeightFiltrartion_-1_-1/blue/diagrams.npy\n",
      "Applying Scaler to persistence diagrams.\n",
      "Applying filtration 26/72: 4/HeightFiltrartion_1_1\n",
      "RGB images received. Transforming to grayscale.\n"
     ]
    },
    {
     "name": "stderr",
     "output_type": "stream",
     "text": [
      "rgb2gray: 100%|██████████| 9030/9030 [00:01<00:00, 4825.54it/s]\n"
     ]
    },
    {
     "name": "stdout",
     "output_type": "stream",
     "text": [
      "Got the result from ./1/train/filtrations/4/HeightFiltrartion_1_1/gray/diagrams.npy\n",
      "Applying Scaler to persistence diagrams.\n",
      "Got the result from ./1/train/filtrations/4/HeightFiltrartion_1_1/red/diagrams.npy\n",
      "Applying Scaler to persistence diagrams.\n",
      "Got the result from ./1/train/filtrations/4/HeightFiltrartion_1_1/green/diagrams.npy\n",
      "Applying Scaler to persistence diagrams.\n",
      "Got the result from ./1/train/filtrations/4/HeightFiltrartion_1_1/blue/diagrams.npy\n",
      "Applying Scaler to persistence diagrams.\n",
      "Applying filtration 27/72: 4/HeightFiltrartion_1_-1\n",
      "RGB images received. Transforming to grayscale.\n"
     ]
    },
    {
     "name": "stderr",
     "output_type": "stream",
     "text": [
      "rgb2gray: 100%|██████████| 9030/9030 [00:01<00:00, 4821.89it/s]\n"
     ]
    },
    {
     "name": "stdout",
     "output_type": "stream",
     "text": [
      "Got the result from ./1/train/filtrations/4/HeightFiltrartion_1_-1/gray/diagrams.npy\n",
      "Applying Scaler to persistence diagrams.\n",
      "Got the result from ./1/train/filtrations/4/HeightFiltrartion_1_-1/red/diagrams.npy\n",
      "Applying Scaler to persistence diagrams.\n",
      "Got the result from ./1/train/filtrations/4/HeightFiltrartion_1_-1/green/diagrams.npy\n",
      "Applying Scaler to persistence diagrams.\n",
      "Got the result from ./1/train/filtrations/4/HeightFiltrartion_1_-1/blue/diagrams.npy\n",
      "Applying Scaler to persistence diagrams.\n",
      "Applying filtration 28/72: 4/HeightFiltrartion_-1_1\n",
      "RGB images received. Transforming to grayscale.\n"
     ]
    },
    {
     "name": "stderr",
     "output_type": "stream",
     "text": [
      "rgb2gray: 100%|██████████| 9030/9030 [00:01<00:00, 4706.76it/s]\n"
     ]
    },
    {
     "name": "stdout",
     "output_type": "stream",
     "text": [
      "Got the result from ./1/train/filtrations/4/HeightFiltrartion_-1_1/gray/diagrams.npy\n",
      "Applying Scaler to persistence diagrams.\n",
      "Got the result from ./1/train/filtrations/4/HeightFiltrartion_-1_1/red/diagrams.npy\n",
      "Applying Scaler to persistence diagrams.\n",
      "Got the result from ./1/train/filtrations/4/HeightFiltrartion_-1_1/green/diagrams.npy\n",
      "Applying Scaler to persistence diagrams.\n",
      "Got the result from ./1/train/filtrations/4/HeightFiltrartion_-1_1/blue/diagrams.npy\n",
      "Applying Scaler to persistence diagrams.\n",
      "Applying filtration 29/72: 4/HeightFiltrartion_0_-1\n",
      "RGB images received. Transforming to grayscale.\n"
     ]
    },
    {
     "name": "stderr",
     "output_type": "stream",
     "text": [
      "rgb2gray: 100%|██████████| 9030/9030 [00:01<00:00, 4689.74it/s]\n"
     ]
    },
    {
     "name": "stdout",
     "output_type": "stream",
     "text": [
      "Got the result from ./1/train/filtrations/4/HeightFiltrartion_0_-1/gray/diagrams.npy\n",
      "Applying Scaler to persistence diagrams.\n",
      "Got the result from ./1/train/filtrations/4/HeightFiltrartion_0_-1/red/diagrams.npy\n",
      "Applying Scaler to persistence diagrams.\n",
      "Got the result from ./1/train/filtrations/4/HeightFiltrartion_0_-1/green/diagrams.npy\n",
      "Applying Scaler to persistence diagrams.\n",
      "Got the result from ./1/train/filtrations/4/HeightFiltrartion_0_-1/blue/diagrams.npy\n",
      "Applying Scaler to persistence diagrams.\n",
      "Applying filtration 30/72: 4/HeightFiltrartion_0_1\n",
      "RGB images received. Transforming to grayscale.\n"
     ]
    },
    {
     "name": "stderr",
     "output_type": "stream",
     "text": [
      "rgb2gray: 100%|██████████| 9030/9030 [00:01<00:00, 4551.11it/s]\n"
     ]
    },
    {
     "name": "stdout",
     "output_type": "stream",
     "text": [
      "Got the result from ./1/train/filtrations/4/HeightFiltrartion_0_1/gray/diagrams.npy\n",
      "Applying Scaler to persistence diagrams.\n",
      "Got the result from ./1/train/filtrations/4/HeightFiltrartion_0_1/red/diagrams.npy\n",
      "Applying Scaler to persistence diagrams.\n",
      "Got the result from ./1/train/filtrations/4/HeightFiltrartion_0_1/green/diagrams.npy\n",
      "Applying Scaler to persistence diagrams.\n",
      "Got the result from ./1/train/filtrations/4/HeightFiltrartion_0_1/blue/diagrams.npy\n",
      "Applying Scaler to persistence diagrams.\n",
      "Applying filtration 31/72: 4/HeightFiltrartion_-1_0\n",
      "RGB images received. Transforming to grayscale.\n"
     ]
    },
    {
     "name": "stderr",
     "output_type": "stream",
     "text": [
      "rgb2gray: 100%|██████████| 9030/9030 [00:01<00:00, 4646.20it/s]\n"
     ]
    },
    {
     "name": "stdout",
     "output_type": "stream",
     "text": [
      "Got the result from ./1/train/filtrations/4/HeightFiltrartion_-1_0/gray/diagrams.npy\n",
      "Applying Scaler to persistence diagrams.\n",
      "Got the result from ./1/train/filtrations/4/HeightFiltrartion_-1_0/red/diagrams.npy\n",
      "Applying Scaler to persistence diagrams.\n",
      "Got the result from ./1/train/filtrations/4/HeightFiltrartion_-1_0/green/diagrams.npy\n",
      "Applying Scaler to persistence diagrams.\n",
      "Got the result from ./1/train/filtrations/4/HeightFiltrartion_-1_0/blue/diagrams.npy\n",
      "Applying Scaler to persistence diagrams.\n",
      "Applying filtration 32/72: 4/HeightFiltrartion_1_0\n",
      "RGB images received. Transforming to grayscale.\n"
     ]
    },
    {
     "name": "stderr",
     "output_type": "stream",
     "text": [
      "rgb2gray: 100%|██████████| 9030/9030 [00:02<00:00, 4438.73it/s]\n"
     ]
    },
    {
     "name": "stdout",
     "output_type": "stream",
     "text": [
      "Got the result from ./1/train/filtrations/4/HeightFiltrartion_1_0/gray/diagrams.npy\n",
      "Applying Scaler to persistence diagrams.\n",
      "Got the result from ./1/train/filtrations/4/HeightFiltrartion_1_0/red/diagrams.npy\n",
      "Applying Scaler to persistence diagrams.\n",
      "Got the result from ./1/train/filtrations/4/HeightFiltrartion_1_0/green/diagrams.npy\n",
      "Applying Scaler to persistence diagrams.\n",
      "Got the result from ./1/train/filtrations/4/HeightFiltrartion_1_0/blue/diagrams.npy\n",
      "Applying Scaler to persistence diagrams.\n",
      "Applying filtration 33/72: 4/RadialFiltration_12_12\n",
      "RGB images received. Transforming to grayscale.\n"
     ]
    },
    {
     "name": "stderr",
     "output_type": "stream",
     "text": [
      "rgb2gray: 100%|██████████| 9030/9030 [00:02<00:00, 4510.76it/s]\n"
     ]
    },
    {
     "name": "stdout",
     "output_type": "stream",
     "text": [
      "Got the result from ./1/train/filtrations/4/RadialFiltration_12_12/gray/diagrams.npy\n",
      "Applying Scaler to persistence diagrams.\n",
      "Got the result from ./1/train/filtrations/4/RadialFiltration_12_12/red/diagrams.npy\n",
      "Applying Scaler to persistence diagrams.\n",
      "Got the result from ./1/train/filtrations/4/RadialFiltration_12_12/green/diagrams.npy\n",
      "Applying Scaler to persistence diagrams.\n",
      "Got the result from ./1/train/filtrations/4/RadialFiltration_12_12/blue/diagrams.npy\n",
      "Applying Scaler to persistence diagrams.\n",
      "Applying filtration 34/72: 4/RadialFiltration_12_25\n",
      "RGB images received. Transforming to grayscale.\n"
     ]
    },
    {
     "name": "stderr",
     "output_type": "stream",
     "text": [
      "rgb2gray: 100%|██████████| 9030/9030 [00:01<00:00, 4638.32it/s]\n"
     ]
    },
    {
     "name": "stdout",
     "output_type": "stream",
     "text": [
      "Got the result from ./1/train/filtrations/4/RadialFiltration_12_25/gray/diagrams.npy\n",
      "Applying Scaler to persistence diagrams.\n",
      "Got the result from ./1/train/filtrations/4/RadialFiltration_12_25/red/diagrams.npy\n",
      "Applying Scaler to persistence diagrams.\n",
      "Got the result from ./1/train/filtrations/4/RadialFiltration_12_25/green/diagrams.npy\n",
      "Applying Scaler to persistence diagrams.\n",
      "Got the result from ./1/train/filtrations/4/RadialFiltration_12_25/blue/diagrams.npy\n",
      "Applying Scaler to persistence diagrams.\n",
      "Applying filtration 35/72: 4/RadialFiltration_12_38\n",
      "RGB images received. Transforming to grayscale.\n"
     ]
    },
    {
     "name": "stderr",
     "output_type": "stream",
     "text": [
      "rgb2gray: 100%|██████████| 9030/9030 [00:01<00:00, 4824.16it/s]\n"
     ]
    },
    {
     "name": "stdout",
     "output_type": "stream",
     "text": [
      "Got the result from ./1/train/filtrations/4/RadialFiltration_12_38/gray/diagrams.npy\n",
      "Applying Scaler to persistence diagrams.\n",
      "Got the result from ./1/train/filtrations/4/RadialFiltration_12_38/red/diagrams.npy\n",
      "Applying Scaler to persistence diagrams.\n",
      "Got the result from ./1/train/filtrations/4/RadialFiltration_12_38/green/diagrams.npy\n",
      "Applying Scaler to persistence diagrams.\n",
      "Got the result from ./1/train/filtrations/4/RadialFiltration_12_38/blue/diagrams.npy\n",
      "Applying Scaler to persistence diagrams.\n",
      "Applying filtration 36/72: 4/RadialFiltration_12_51\n",
      "RGB images received. Transforming to grayscale.\n"
     ]
    },
    {
     "name": "stderr",
     "output_type": "stream",
     "text": [
      "rgb2gray: 100%|██████████| 9030/9030 [00:01<00:00, 4816.82it/s]\n"
     ]
    },
    {
     "name": "stdout",
     "output_type": "stream",
     "text": [
      "Got the result from ./1/train/filtrations/4/RadialFiltration_12_51/gray/diagrams.npy\n",
      "Applying Scaler to persistence diagrams.\n",
      "Got the result from ./1/train/filtrations/4/RadialFiltration_12_51/red/diagrams.npy\n",
      "Applying Scaler to persistence diagrams.\n",
      "Got the result from ./1/train/filtrations/4/RadialFiltration_12_51/green/diagrams.npy\n",
      "Applying Scaler to persistence diagrams.\n",
      "Got the result from ./1/train/filtrations/4/RadialFiltration_12_51/blue/diagrams.npy\n",
      "Applying Scaler to persistence diagrams.\n",
      "Applying filtration 37/72: 4/RadialFiltration_25_12\n",
      "RGB images received. Transforming to grayscale.\n"
     ]
    },
    {
     "name": "stderr",
     "output_type": "stream",
     "text": [
      "rgb2gray: 100%|██████████| 9030/9030 [00:01<00:00, 4710.03it/s]\n"
     ]
    },
    {
     "name": "stdout",
     "output_type": "stream",
     "text": [
      "Got the result from ./1/train/filtrations/4/RadialFiltration_25_12/gray/diagrams.npy\n",
      "Applying Scaler to persistence diagrams.\n",
      "Got the result from ./1/train/filtrations/4/RadialFiltration_25_12/red/diagrams.npy\n",
      "Applying Scaler to persistence diagrams.\n",
      "Got the result from ./1/train/filtrations/4/RadialFiltration_25_12/green/diagrams.npy\n",
      "Applying Scaler to persistence diagrams.\n",
      "Got the result from ./1/train/filtrations/4/RadialFiltration_25_12/blue/diagrams.npy\n",
      "Applying Scaler to persistence diagrams.\n",
      "Applying filtration 38/72: 4/RadialFiltration_25_25\n",
      "RGB images received. Transforming to grayscale.\n"
     ]
    },
    {
     "name": "stderr",
     "output_type": "stream",
     "text": [
      "rgb2gray: 100%|██████████| 9030/9030 [00:01<00:00, 4681.83it/s]\n"
     ]
    },
    {
     "name": "stdout",
     "output_type": "stream",
     "text": [
      "Got the result from ./1/train/filtrations/4/RadialFiltration_25_25/gray/diagrams.npy\n",
      "Applying Scaler to persistence diagrams.\n",
      "Got the result from ./1/train/filtrations/4/RadialFiltration_25_25/red/diagrams.npy\n",
      "Applying Scaler to persistence diagrams.\n",
      "Got the result from ./1/train/filtrations/4/RadialFiltration_25_25/green/diagrams.npy\n",
      "Applying Scaler to persistence diagrams.\n",
      "Got the result from ./1/train/filtrations/4/RadialFiltration_25_25/blue/diagrams.npy\n",
      "Applying Scaler to persistence diagrams.\n",
      "Applying filtration 39/72: 4/RadialFiltration_25_38\n",
      "RGB images received. Transforming to grayscale.\n"
     ]
    },
    {
     "name": "stderr",
     "output_type": "stream",
     "text": [
      "rgb2gray: 100%|██████████| 9030/9030 [00:01<00:00, 4637.93it/s]\n"
     ]
    },
    {
     "name": "stdout",
     "output_type": "stream",
     "text": [
      "Got the result from ./1/train/filtrations/4/RadialFiltration_25_38/gray/diagrams.npy\n",
      "Applying Scaler to persistence diagrams.\n",
      "Got the result from ./1/train/filtrations/4/RadialFiltration_25_38/red/diagrams.npy\n",
      "Applying Scaler to persistence diagrams.\n",
      "Got the result from ./1/train/filtrations/4/RadialFiltration_25_38/green/diagrams.npy\n",
      "Applying Scaler to persistence diagrams.\n",
      "Got the result from ./1/train/filtrations/4/RadialFiltration_25_38/blue/diagrams.npy\n",
      "Applying Scaler to persistence diagrams.\n",
      "Applying filtration 40/72: 4/RadialFiltration_25_51\n",
      "RGB images received. Transforming to grayscale.\n"
     ]
    },
    {
     "name": "stderr",
     "output_type": "stream",
     "text": [
      "rgb2gray: 100%|██████████| 9030/9030 [00:02<00:00, 4419.21it/s]\n"
     ]
    },
    {
     "name": "stdout",
     "output_type": "stream",
     "text": [
      "Got the result from ./1/train/filtrations/4/RadialFiltration_25_51/gray/diagrams.npy\n",
      "Applying Scaler to persistence diagrams.\n",
      "Got the result from ./1/train/filtrations/4/RadialFiltration_25_51/red/diagrams.npy\n",
      "Applying Scaler to persistence diagrams.\n",
      "Got the result from ./1/train/filtrations/4/RadialFiltration_25_51/green/diagrams.npy\n",
      "Applying Scaler to persistence diagrams.\n",
      "Got the result from ./1/train/filtrations/4/RadialFiltration_25_51/blue/diagrams.npy\n",
      "Applying Scaler to persistence diagrams.\n",
      "Applying filtration 41/72: 4/RadialFiltration_38_12\n",
      "RGB images received. Transforming to grayscale.\n"
     ]
    },
    {
     "name": "stderr",
     "output_type": "stream",
     "text": [
      "rgb2gray: 100%|██████████| 9030/9030 [00:01<00:00, 4576.47it/s]\n"
     ]
    },
    {
     "name": "stdout",
     "output_type": "stream",
     "text": [
      "Got the result from ./1/train/filtrations/4/RadialFiltration_38_12/gray/diagrams.npy\n",
      "Applying Scaler to persistence diagrams.\n",
      "Got the result from ./1/train/filtrations/4/RadialFiltration_38_12/red/diagrams.npy\n",
      "Applying Scaler to persistence diagrams.\n",
      "Got the result from ./1/train/filtrations/4/RadialFiltration_38_12/green/diagrams.npy\n",
      "Applying Scaler to persistence diagrams.\n",
      "Got the result from ./1/train/filtrations/4/RadialFiltration_38_12/blue/diagrams.npy\n",
      "Applying Scaler to persistence diagrams.\n",
      "Applying filtration 42/72: 4/RadialFiltration_38_25\n",
      "RGB images received. Transforming to grayscale.\n"
     ]
    },
    {
     "name": "stderr",
     "output_type": "stream",
     "text": [
      "rgb2gray: 100%|██████████| 9030/9030 [00:02<00:00, 4276.78it/s]\n"
     ]
    },
    {
     "name": "stdout",
     "output_type": "stream",
     "text": [
      "Got the result from ./1/train/filtrations/4/RadialFiltration_38_25/gray/diagrams.npy\n",
      "Applying Scaler to persistence diagrams.\n",
      "Got the result from ./1/train/filtrations/4/RadialFiltration_38_25/red/diagrams.npy\n",
      "Applying Scaler to persistence diagrams.\n",
      "Got the result from ./1/train/filtrations/4/RadialFiltration_38_25/green/diagrams.npy\n",
      "Applying Scaler to persistence diagrams.\n",
      "Got the result from ./1/train/filtrations/4/RadialFiltration_38_25/blue/diagrams.npy\n",
      "Applying Scaler to persistence diagrams.\n",
      "Applying filtration 43/72: 4/RadialFiltration_38_38\n",
      "RGB images received. Transforming to grayscale.\n"
     ]
    },
    {
     "name": "stderr",
     "output_type": "stream",
     "text": [
      "rgb2gray: 100%|██████████| 9030/9030 [00:01<00:00, 4520.14it/s]\n"
     ]
    },
    {
     "name": "stdout",
     "output_type": "stream",
     "text": [
      "Got the result from ./1/train/filtrations/4/RadialFiltration_38_38/gray/diagrams.npy\n",
      "Applying Scaler to persistence diagrams.\n",
      "Got the result from ./1/train/filtrations/4/RadialFiltration_38_38/red/diagrams.npy\n",
      "Applying Scaler to persistence diagrams.\n",
      "Got the result from ./1/train/filtrations/4/RadialFiltration_38_38/green/diagrams.npy\n",
      "Applying Scaler to persistence diagrams.\n",
      "Got the result from ./1/train/filtrations/4/RadialFiltration_38_38/blue/diagrams.npy\n",
      "Applying Scaler to persistence diagrams.\n",
      "Applying filtration 44/72: 4/RadialFiltration_38_51\n",
      "RGB images received. Transforming to grayscale.\n"
     ]
    },
    {
     "name": "stderr",
     "output_type": "stream",
     "text": [
      "rgb2gray: 100%|██████████| 9030/9030 [00:02<00:00, 4468.85it/s]\n"
     ]
    },
    {
     "name": "stdout",
     "output_type": "stream",
     "text": [
      "Got the result from ./1/train/filtrations/4/RadialFiltration_38_51/gray/diagrams.npy\n",
      "Applying Scaler to persistence diagrams.\n",
      "Got the result from ./1/train/filtrations/4/RadialFiltration_38_51/red/diagrams.npy\n",
      "Applying Scaler to persistence diagrams.\n",
      "Got the result from ./1/train/filtrations/4/RadialFiltration_38_51/green/diagrams.npy\n",
      "Applying Scaler to persistence diagrams.\n",
      "Got the result from ./1/train/filtrations/4/RadialFiltration_38_51/blue/diagrams.npy\n",
      "Applying Scaler to persistence diagrams.\n",
      "Applying filtration 45/72: 4/RadialFiltration_51_12\n",
      "RGB images received. Transforming to grayscale.\n"
     ]
    },
    {
     "name": "stderr",
     "output_type": "stream",
     "text": [
      "rgb2gray: 100%|██████████| 9030/9030 [00:02<00:00, 4494.45it/s]\n"
     ]
    },
    {
     "name": "stdout",
     "output_type": "stream",
     "text": [
      "Got the result from ./1/train/filtrations/4/RadialFiltration_51_12/gray/diagrams.npy\n",
      "Applying Scaler to persistence diagrams.\n",
      "Got the result from ./1/train/filtrations/4/RadialFiltration_51_12/red/diagrams.npy\n",
      "Applying Scaler to persistence diagrams.\n",
      "Got the result from ./1/train/filtrations/4/RadialFiltration_51_12/green/diagrams.npy\n",
      "Applying Scaler to persistence diagrams.\n",
      "Got the result from ./1/train/filtrations/4/RadialFiltration_51_12/blue/diagrams.npy\n",
      "Applying Scaler to persistence diagrams.\n",
      "Applying filtration 46/72: 4/RadialFiltration_51_25\n",
      "RGB images received. Transforming to grayscale.\n"
     ]
    },
    {
     "name": "stderr",
     "output_type": "stream",
     "text": [
      "rgb2gray: 100%|██████████| 9030/9030 [00:01<00:00, 4708.00it/s]\n"
     ]
    },
    {
     "name": "stdout",
     "output_type": "stream",
     "text": [
      "Got the result from ./1/train/filtrations/4/RadialFiltration_51_25/gray/diagrams.npy\n",
      "Applying Scaler to persistence diagrams.\n",
      "Got the result from ./1/train/filtrations/4/RadialFiltration_51_25/red/diagrams.npy\n",
      "Applying Scaler to persistence diagrams.\n",
      "Got the result from ./1/train/filtrations/4/RadialFiltration_51_25/green/diagrams.npy\n",
      "Applying Scaler to persistence diagrams.\n",
      "Got the result from ./1/train/filtrations/4/RadialFiltration_51_25/blue/diagrams.npy\n",
      "Applying Scaler to persistence diagrams.\n",
      "Applying filtration 47/72: 4/RadialFiltration_51_38\n",
      "RGB images received. Transforming to grayscale.\n"
     ]
    },
    {
     "name": "stderr",
     "output_type": "stream",
     "text": [
      "rgb2gray: 100%|██████████| 9030/9030 [00:02<00:00, 4448.93it/s]\n"
     ]
    },
    {
     "name": "stdout",
     "output_type": "stream",
     "text": [
      "Got the result from ./1/train/filtrations/4/RadialFiltration_51_38/gray/diagrams.npy\n",
      "Applying Scaler to persistence diagrams.\n",
      "Got the result from ./1/train/filtrations/4/RadialFiltration_51_38/red/diagrams.npy\n",
      "Applying Scaler to persistence diagrams.\n",
      "Got the result from ./1/train/filtrations/4/RadialFiltration_51_38/green/diagrams.npy\n",
      "Applying Scaler to persistence diagrams.\n",
      "Got the result from ./1/train/filtrations/4/RadialFiltration_51_38/blue/diagrams.npy\n",
      "Applying Scaler to persistence diagrams.\n",
      "Applying filtration 48/72: 4/RadialFiltration_51_51\n",
      "RGB images received. Transforming to grayscale.\n"
     ]
    },
    {
     "name": "stderr",
     "output_type": "stream",
     "text": [
      "rgb2gray: 100%|██████████| 9030/9030 [00:01<00:00, 4555.69it/s]\n"
     ]
    },
    {
     "name": "stdout",
     "output_type": "stream",
     "text": [
      "Got the result from ./1/train/filtrations/4/RadialFiltration_51_51/gray/diagrams.npy\n",
      "Applying Scaler to persistence diagrams.\n",
      "Got the result from ./1/train/filtrations/4/RadialFiltration_51_51/red/diagrams.npy\n",
      "Applying Scaler to persistence diagrams.\n",
      "Got the result from ./1/train/filtrations/4/RadialFiltration_51_51/green/diagrams.npy\n",
      "Applying Scaler to persistence diagrams.\n",
      "Got the result from ./1/train/filtrations/4/RadialFiltration_51_51/blue/diagrams.npy\n",
      "Applying Scaler to persistence diagrams.\n",
      "Applying filtration 49/72: 6/HeightFiltrartion_-1_-1\n",
      "RGB images received. Transforming to grayscale.\n"
     ]
    },
    {
     "name": "stderr",
     "output_type": "stream",
     "text": [
      "rgb2gray: 100%|██████████| 9030/9030 [00:02<00:00, 4454.45it/s]\n"
     ]
    },
    {
     "name": "stdout",
     "output_type": "stream",
     "text": [
      "Got the result from ./1/train/filtrations/6/HeightFiltrartion_-1_-1/gray/diagrams.npy\n",
      "Applying Scaler to persistence diagrams.\n",
      "Got the result from ./1/train/filtrations/6/HeightFiltrartion_-1_-1/red/diagrams.npy\n",
      "Applying Scaler to persistence diagrams.\n",
      "Got the result from ./1/train/filtrations/6/HeightFiltrartion_-1_-1/green/diagrams.npy\n",
      "Applying Scaler to persistence diagrams.\n",
      "Got the result from ./1/train/filtrations/6/HeightFiltrartion_-1_-1/blue/diagrams.npy\n",
      "Applying Scaler to persistence diagrams.\n",
      "Applying filtration 50/72: 6/HeightFiltrartion_1_1\n",
      "RGB images received. Transforming to grayscale.\n"
     ]
    },
    {
     "name": "stderr",
     "output_type": "stream",
     "text": [
      "rgb2gray: 100%|██████████| 9030/9030 [00:02<00:00, 4492.23it/s]\n"
     ]
    },
    {
     "name": "stdout",
     "output_type": "stream",
     "text": [
      "Got the result from ./1/train/filtrations/6/HeightFiltrartion_1_1/gray/diagrams.npy\n",
      "Applying Scaler to persistence diagrams.\n",
      "Got the result from ./1/train/filtrations/6/HeightFiltrartion_1_1/red/diagrams.npy\n",
      "Applying Scaler to persistence diagrams.\n",
      "Got the result from ./1/train/filtrations/6/HeightFiltrartion_1_1/green/diagrams.npy\n",
      "Applying Scaler to persistence diagrams.\n",
      "Got the result from ./1/train/filtrations/6/HeightFiltrartion_1_1/blue/diagrams.npy\n",
      "Applying Scaler to persistence diagrams.\n",
      "Applying filtration 51/72: 6/HeightFiltrartion_1_-1\n",
      "RGB images received. Transforming to grayscale.\n"
     ]
    },
    {
     "name": "stderr",
     "output_type": "stream",
     "text": [
      "rgb2gray: 100%|██████████| 9030/9030 [00:02<00:00, 4436.57it/s]\n"
     ]
    },
    {
     "name": "stdout",
     "output_type": "stream",
     "text": [
      "Got the result from ./1/train/filtrations/6/HeightFiltrartion_1_-1/gray/diagrams.npy\n",
      "Applying Scaler to persistence diagrams.\n",
      "Got the result from ./1/train/filtrations/6/HeightFiltrartion_1_-1/red/diagrams.npy\n",
      "Applying Scaler to persistence diagrams.\n",
      "Got the result from ./1/train/filtrations/6/HeightFiltrartion_1_-1/green/diagrams.npy\n",
      "Applying Scaler to persistence diagrams.\n",
      "Got the result from ./1/train/filtrations/6/HeightFiltrartion_1_-1/blue/diagrams.npy\n",
      "Applying Scaler to persistence diagrams.\n",
      "Applying filtration 52/72: 6/HeightFiltrartion_-1_1\n",
      "RGB images received. Transforming to grayscale.\n"
     ]
    },
    {
     "name": "stderr",
     "output_type": "stream",
     "text": [
      "rgb2gray: 100%|██████████| 9030/9030 [00:01<00:00, 4703.97it/s]\n"
     ]
    },
    {
     "name": "stdout",
     "output_type": "stream",
     "text": [
      "Got the result from ./1/train/filtrations/6/HeightFiltrartion_-1_1/gray/diagrams.npy\n",
      "Applying Scaler to persistence diagrams.\n",
      "Got the result from ./1/train/filtrations/6/HeightFiltrartion_-1_1/red/diagrams.npy\n",
      "Applying Scaler to persistence diagrams.\n",
      "Got the result from ./1/train/filtrations/6/HeightFiltrartion_-1_1/green/diagrams.npy\n",
      "Applying Scaler to persistence diagrams.\n",
      "Got the result from ./1/train/filtrations/6/HeightFiltrartion_-1_1/blue/diagrams.npy\n",
      "Applying Scaler to persistence diagrams.\n",
      "Applying filtration 53/72: 6/HeightFiltrartion_0_-1\n",
      "RGB images received. Transforming to grayscale.\n"
     ]
    },
    {
     "name": "stderr",
     "output_type": "stream",
     "text": [
      "rgb2gray: 100%|██████████| 9030/9030 [00:01<00:00, 4566.54it/s]\n"
     ]
    },
    {
     "name": "stdout",
     "output_type": "stream",
     "text": [
      "Got the result from ./1/train/filtrations/6/HeightFiltrartion_0_-1/gray/diagrams.npy\n",
      "Applying Scaler to persistence diagrams.\n",
      "Got the result from ./1/train/filtrations/6/HeightFiltrartion_0_-1/red/diagrams.npy\n",
      "Applying Scaler to persistence diagrams.\n",
      "Got the result from ./1/train/filtrations/6/HeightFiltrartion_0_-1/green/diagrams.npy\n",
      "Applying Scaler to persistence diagrams.\n",
      "Got the result from ./1/train/filtrations/6/HeightFiltrartion_0_-1/blue/diagrams.npy\n",
      "Applying Scaler to persistence diagrams.\n",
      "Applying filtration 54/72: 6/HeightFiltrartion_0_1\n",
      "RGB images received. Transforming to grayscale.\n"
     ]
    },
    {
     "name": "stderr",
     "output_type": "stream",
     "text": [
      "rgb2gray: 100%|██████████| 9030/9030 [00:01<00:00, 4744.33it/s] \n"
     ]
    },
    {
     "name": "stdout",
     "output_type": "stream",
     "text": [
      "Got the result from ./1/train/filtrations/6/HeightFiltrartion_0_1/gray/diagrams.npy\n",
      "Applying Scaler to persistence diagrams.\n",
      "Got the result from ./1/train/filtrations/6/HeightFiltrartion_0_1/red/diagrams.npy\n",
      "Applying Scaler to persistence diagrams.\n",
      "Got the result from ./1/train/filtrations/6/HeightFiltrartion_0_1/green/diagrams.npy\n",
      "Applying Scaler to persistence diagrams.\n",
      "Got the result from ./1/train/filtrations/6/HeightFiltrartion_0_1/blue/diagrams.npy\n",
      "Applying Scaler to persistence diagrams.\n",
      "Applying filtration 55/72: 6/HeightFiltrartion_-1_0\n",
      "RGB images received. Transforming to grayscale.\n"
     ]
    },
    {
     "name": "stderr",
     "output_type": "stream",
     "text": [
      "rgb2gray: 100%|██████████| 9030/9030 [00:01<00:00, 4528.21it/s]\n"
     ]
    },
    {
     "name": "stdout",
     "output_type": "stream",
     "text": [
      "Got the result from ./1/train/filtrations/6/HeightFiltrartion_-1_0/gray/diagrams.npy\n",
      "Applying Scaler to persistence diagrams.\n",
      "Got the result from ./1/train/filtrations/6/HeightFiltrartion_-1_0/red/diagrams.npy\n",
      "Applying Scaler to persistence diagrams.\n",
      "Got the result from ./1/train/filtrations/6/HeightFiltrartion_-1_0/green/diagrams.npy\n",
      "Applying Scaler to persistence diagrams.\n",
      "Got the result from ./1/train/filtrations/6/HeightFiltrartion_-1_0/blue/diagrams.npy\n",
      "Applying Scaler to persistence diagrams.\n",
      "Applying filtration 56/72: 6/HeightFiltrartion_1_0\n",
      "RGB images received. Transforming to grayscale.\n"
     ]
    },
    {
     "name": "stderr",
     "output_type": "stream",
     "text": [
      "rgb2gray: 100%|██████████| 9030/9030 [00:01<00:00, 4667.09it/s]\n"
     ]
    },
    {
     "name": "stdout",
     "output_type": "stream",
     "text": [
      "Got the result from ./1/train/filtrations/6/HeightFiltrartion_1_0/gray/diagrams.npy\n",
      "Applying Scaler to persistence diagrams.\n",
      "Got the result from ./1/train/filtrations/6/HeightFiltrartion_1_0/red/diagrams.npy\n",
      "Applying Scaler to persistence diagrams.\n",
      "Got the result from ./1/train/filtrations/6/HeightFiltrartion_1_0/green/diagrams.npy\n",
      "Applying Scaler to persistence diagrams.\n",
      "Got the result from ./1/train/filtrations/6/HeightFiltrartion_1_0/blue/diagrams.npy\n",
      "Applying Scaler to persistence diagrams.\n",
      "Applying filtration 57/72: 6/RadialFiltration_12_12\n",
      "RGB images received. Transforming to grayscale.\n"
     ]
    },
    {
     "name": "stderr",
     "output_type": "stream",
     "text": [
      "rgb2gray: 100%|██████████| 9030/9030 [00:02<00:00, 4388.28it/s]\n"
     ]
    },
    {
     "name": "stdout",
     "output_type": "stream",
     "text": [
      "Got the result from ./1/train/filtrations/6/RadialFiltration_12_12/gray/diagrams.npy\n",
      "Applying Scaler to persistence diagrams.\n",
      "Got the result from ./1/train/filtrations/6/RadialFiltration_12_12/red/diagrams.npy\n",
      "Applying Scaler to persistence diagrams.\n",
      "Got the result from ./1/train/filtrations/6/RadialFiltration_12_12/green/diagrams.npy\n",
      "Applying Scaler to persistence diagrams.\n",
      "Got the result from ./1/train/filtrations/6/RadialFiltration_12_12/blue/diagrams.npy\n",
      "Applying Scaler to persistence diagrams.\n",
      "Applying filtration 58/72: 6/RadialFiltration_12_25\n",
      "RGB images received. Transforming to grayscale.\n"
     ]
    },
    {
     "name": "stderr",
     "output_type": "stream",
     "text": [
      "rgb2gray: 100%|██████████| 9030/9030 [00:02<00:00, 4501.57it/s]\n"
     ]
    },
    {
     "name": "stdout",
     "output_type": "stream",
     "text": [
      "Got the result from ./1/train/filtrations/6/RadialFiltration_12_25/gray/diagrams.npy\n",
      "Applying Scaler to persistence diagrams.\n",
      "Got the result from ./1/train/filtrations/6/RadialFiltration_12_25/red/diagrams.npy\n",
      "Applying Scaler to persistence diagrams.\n",
      "Got the result from ./1/train/filtrations/6/RadialFiltration_12_25/green/diagrams.npy\n",
      "Applying Scaler to persistence diagrams.\n",
      "Got the result from ./1/train/filtrations/6/RadialFiltration_12_25/blue/diagrams.npy\n",
      "Applying Scaler to persistence diagrams.\n",
      "Applying filtration 59/72: 6/RadialFiltration_12_38\n",
      "RGB images received. Transforming to grayscale.\n"
     ]
    },
    {
     "name": "stderr",
     "output_type": "stream",
     "text": [
      "rgb2gray: 100%|██████████| 9030/9030 [00:02<00:00, 3542.12it/s]\n"
     ]
    },
    {
     "name": "stdout",
     "output_type": "stream",
     "text": [
      "Got the result from ./1/train/filtrations/6/RadialFiltration_12_38/gray/diagrams.npy\n",
      "Applying Scaler to persistence diagrams.\n",
      "Got the result from ./1/train/filtrations/6/RadialFiltration_12_38/red/diagrams.npy\n",
      "Applying Scaler to persistence diagrams.\n",
      "Got the result from ./1/train/filtrations/6/RadialFiltration_12_38/green/diagrams.npy\n",
      "Applying Scaler to persistence diagrams.\n",
      "Got the result from ./1/train/filtrations/6/RadialFiltration_12_38/blue/diagrams.npy\n",
      "Applying Scaler to persistence diagrams.\n",
      "Applying filtration 60/72: 6/RadialFiltration_12_51\n",
      "RGB images received. Transforming to grayscale.\n"
     ]
    },
    {
     "name": "stderr",
     "output_type": "stream",
     "text": [
      "rgb2gray: 100%|██████████| 9030/9030 [00:02<00:00, 4297.72it/s]\n"
     ]
    },
    {
     "name": "stdout",
     "output_type": "stream",
     "text": [
      "Got the result from ./1/train/filtrations/6/RadialFiltration_12_51/gray/diagrams.npy\n",
      "Applying Scaler to persistence diagrams.\n",
      "Got the result from ./1/train/filtrations/6/RadialFiltration_12_51/red/diagrams.npy\n",
      "Applying Scaler to persistence diagrams.\n",
      "Got the result from ./1/train/filtrations/6/RadialFiltration_12_51/green/diagrams.npy\n",
      "Applying Scaler to persistence diagrams.\n",
      "Got the result from ./1/train/filtrations/6/RadialFiltration_12_51/blue/diagrams.npy\n",
      "Applying Scaler to persistence diagrams.\n",
      "Applying filtration 61/72: 6/RadialFiltration_25_12\n",
      "RGB images received. Transforming to grayscale.\n"
     ]
    },
    {
     "name": "stderr",
     "output_type": "stream",
     "text": [
      "rgb2gray: 100%|██████████| 9030/9030 [00:02<00:00, 4229.43it/s]\n"
     ]
    },
    {
     "name": "stdout",
     "output_type": "stream",
     "text": [
      "Got the result from ./1/train/filtrations/6/RadialFiltration_25_12/gray/diagrams.npy\n",
      "Applying Scaler to persistence diagrams.\n",
      "Got the result from ./1/train/filtrations/6/RadialFiltration_25_12/red/diagrams.npy\n",
      "Applying Scaler to persistence diagrams.\n",
      "Got the result from ./1/train/filtrations/6/RadialFiltration_25_12/green/diagrams.npy\n",
      "Applying Scaler to persistence diagrams.\n",
      "Got the result from ./1/train/filtrations/6/RadialFiltration_25_12/blue/diagrams.npy\n",
      "Applying Scaler to persistence diagrams.\n",
      "Applying filtration 62/72: 6/RadialFiltration_25_25\n",
      "RGB images received. Transforming to grayscale.\n"
     ]
    },
    {
     "name": "stderr",
     "output_type": "stream",
     "text": [
      "rgb2gray: 100%|██████████| 9030/9030 [00:02<00:00, 4395.60it/s]\n"
     ]
    },
    {
     "name": "stdout",
     "output_type": "stream",
     "text": [
      "Got the result from ./1/train/filtrations/6/RadialFiltration_25_25/gray/diagrams.npy\n",
      "Applying Scaler to persistence diagrams.\n",
      "Got the result from ./1/train/filtrations/6/RadialFiltration_25_25/red/diagrams.npy\n",
      "Applying Scaler to persistence diagrams.\n",
      "Got the result from ./1/train/filtrations/6/RadialFiltration_25_25/green/diagrams.npy\n",
      "Applying Scaler to persistence diagrams.\n",
      "Got the result from ./1/train/filtrations/6/RadialFiltration_25_25/blue/diagrams.npy\n",
      "Applying Scaler to persistence diagrams.\n",
      "Applying filtration 63/72: 6/RadialFiltration_25_38\n",
      "RGB images received. Transforming to grayscale.\n"
     ]
    },
    {
     "name": "stderr",
     "output_type": "stream",
     "text": [
      "rgb2gray: 100%|██████████| 9030/9030 [00:02<00:00, 4341.88it/s]\n"
     ]
    },
    {
     "name": "stdout",
     "output_type": "stream",
     "text": [
      "Got the result from ./1/train/filtrations/6/RadialFiltration_25_38/gray/diagrams.npy\n",
      "Applying Scaler to persistence diagrams.\n",
      "Got the result from ./1/train/filtrations/6/RadialFiltration_25_38/red/diagrams.npy\n",
      "Applying Scaler to persistence diagrams.\n",
      "Got the result from ./1/train/filtrations/6/RadialFiltration_25_38/green/diagrams.npy\n",
      "Applying Scaler to persistence diagrams.\n",
      "Got the result from ./1/train/filtrations/6/RadialFiltration_25_38/blue/diagrams.npy\n",
      "Applying Scaler to persistence diagrams.\n",
      "Applying filtration 64/72: 6/RadialFiltration_25_51\n",
      "RGB images received. Transforming to grayscale.\n"
     ]
    },
    {
     "name": "stderr",
     "output_type": "stream",
     "text": [
      "rgb2gray: 100%|██████████| 9030/9030 [00:02<00:00, 4070.56it/s]\n"
     ]
    },
    {
     "name": "stdout",
     "output_type": "stream",
     "text": [
      "Got the result from ./1/train/filtrations/6/RadialFiltration_25_51/gray/diagrams.npy\n",
      "Applying Scaler to persistence diagrams.\n",
      "Got the result from ./1/train/filtrations/6/RadialFiltration_25_51/red/diagrams.npy\n",
      "Applying Scaler to persistence diagrams.\n",
      "Got the result from ./1/train/filtrations/6/RadialFiltration_25_51/green/diagrams.npy\n",
      "Applying Scaler to persistence diagrams.\n",
      "Got the result from ./1/train/filtrations/6/RadialFiltration_25_51/blue/diagrams.npy\n",
      "Applying Scaler to persistence diagrams.\n",
      "Applying filtration 65/72: 6/RadialFiltration_38_12\n",
      "RGB images received. Transforming to grayscale.\n"
     ]
    },
    {
     "name": "stderr",
     "output_type": "stream",
     "text": [
      "rgb2gray: 100%|██████████| 9030/9030 [00:02<00:00, 4225.64it/s]\n"
     ]
    },
    {
     "name": "stdout",
     "output_type": "stream",
     "text": [
      "Got the result from ./1/train/filtrations/6/RadialFiltration_38_12/gray/diagrams.npy\n",
      "Applying Scaler to persistence diagrams.\n",
      "Got the result from ./1/train/filtrations/6/RadialFiltration_38_12/red/diagrams.npy\n",
      "Applying Scaler to persistence diagrams.\n",
      "Got the result from ./1/train/filtrations/6/RadialFiltration_38_12/green/diagrams.npy\n",
      "Applying Scaler to persistence diagrams.\n",
      "Got the result from ./1/train/filtrations/6/RadialFiltration_38_12/blue/diagrams.npy\n",
      "Applying Scaler to persistence diagrams.\n",
      "Applying filtration 66/72: 6/RadialFiltration_38_25\n",
      "RGB images received. Transforming to grayscale.\n"
     ]
    },
    {
     "name": "stderr",
     "output_type": "stream",
     "text": [
      "rgb2gray: 100%|██████████| 9030/9030 [00:02<00:00, 3963.11it/s]\n"
     ]
    },
    {
     "name": "stdout",
     "output_type": "stream",
     "text": [
      "Got the result from ./1/train/filtrations/6/RadialFiltration_38_25/gray/diagrams.npy\n",
      "Applying Scaler to persistence diagrams.\n",
      "Got the result from ./1/train/filtrations/6/RadialFiltration_38_25/red/diagrams.npy\n",
      "Applying Scaler to persistence diagrams.\n",
      "Got the result from ./1/train/filtrations/6/RadialFiltration_38_25/green/diagrams.npy\n",
      "Applying Scaler to persistence diagrams.\n",
      "Got the result from ./1/train/filtrations/6/RadialFiltration_38_25/blue/diagrams.npy\n",
      "Applying Scaler to persistence diagrams.\n",
      "Applying filtration 67/72: 6/RadialFiltration_38_38\n",
      "RGB images received. Transforming to grayscale.\n"
     ]
    },
    {
     "name": "stderr",
     "output_type": "stream",
     "text": [
      "rgb2gray: 100%|██████████| 9030/9030 [00:02<00:00, 4304.06it/s]\n"
     ]
    },
    {
     "name": "stdout",
     "output_type": "stream",
     "text": [
      "Got the result from ./1/train/filtrations/6/RadialFiltration_38_38/gray/diagrams.npy\n",
      "Applying Scaler to persistence diagrams.\n",
      "Got the result from ./1/train/filtrations/6/RadialFiltration_38_38/red/diagrams.npy\n",
      "Applying Scaler to persistence diagrams.\n",
      "Got the result from ./1/train/filtrations/6/RadialFiltration_38_38/green/diagrams.npy\n",
      "Applying Scaler to persistence diagrams.\n",
      "Got the result from ./1/train/filtrations/6/RadialFiltration_38_38/blue/diagrams.npy\n",
      "Applying Scaler to persistence diagrams.\n",
      "Applying filtration 68/72: 6/RadialFiltration_38_51\n",
      "RGB images received. Transforming to grayscale.\n"
     ]
    },
    {
     "name": "stderr",
     "output_type": "stream",
     "text": [
      "rgb2gray: 100%|██████████| 9030/9030 [00:02<00:00, 3496.35it/s]\n"
     ]
    },
    {
     "name": "stdout",
     "output_type": "stream",
     "text": [
      "Got the result from ./1/train/filtrations/6/RadialFiltration_38_51/gray/diagrams.npy\n",
      "Applying Scaler to persistence diagrams.\n",
      "Got the result from ./1/train/filtrations/6/RadialFiltration_38_51/red/diagrams.npy\n",
      "Applying Scaler to persistence diagrams.\n",
      "Got the result from ./1/train/filtrations/6/RadialFiltration_38_51/green/diagrams.npy\n",
      "Applying Scaler to persistence diagrams.\n",
      "Got the result from ./1/train/filtrations/6/RadialFiltration_38_51/blue/diagrams.npy\n",
      "Applying Scaler to persistence diagrams.\n",
      "Applying filtration 69/72: 6/RadialFiltration_51_12\n",
      "RGB images received. Transforming to grayscale.\n"
     ]
    },
    {
     "name": "stderr",
     "output_type": "stream",
     "text": [
      "rgb2gray: 100%|██████████| 9030/9030 [00:02<00:00, 3312.30it/s]\n"
     ]
    },
    {
     "name": "stdout",
     "output_type": "stream",
     "text": [
      "Got the result from ./1/train/filtrations/6/RadialFiltration_51_12/gray/diagrams.npy\n",
      "Applying Scaler to persistence diagrams.\n",
      "Got the result from ./1/train/filtrations/6/RadialFiltration_51_12/red/diagrams.npy\n",
      "Applying Scaler to persistence diagrams.\n",
      "Got the result from ./1/train/filtrations/6/RadialFiltration_51_12/green/diagrams.npy\n",
      "Applying Scaler to persistence diagrams.\n",
      "Got the result from ./1/train/filtrations/6/RadialFiltration_51_12/blue/diagrams.npy\n",
      "Applying Scaler to persistence diagrams.\n",
      "Applying filtration 70/72: 6/RadialFiltration_51_25\n",
      "RGB images received. Transforming to grayscale.\n"
     ]
    },
    {
     "name": "stderr",
     "output_type": "stream",
     "text": [
      "rgb2gray: 100%|██████████| 9030/9030 [00:02<00:00, 4123.89it/s]\n"
     ]
    },
    {
     "name": "stdout",
     "output_type": "stream",
     "text": [
      "Got the result from ./1/train/filtrations/6/RadialFiltration_51_25/gray/diagrams.npy\n",
      "Applying Scaler to persistence diagrams.\n",
      "Got the result from ./1/train/filtrations/6/RadialFiltration_51_25/red/diagrams.npy\n",
      "Applying Scaler to persistence diagrams.\n",
      "Got the result from ./1/train/filtrations/6/RadialFiltration_51_25/green/diagrams.npy\n",
      "Applying Scaler to persistence diagrams.\n",
      "Got the result from ./1/train/filtrations/6/RadialFiltration_51_25/blue/diagrams.npy\n",
      "Applying Scaler to persistence diagrams.\n",
      "Applying filtration 71/72: 6/RadialFiltration_51_38\n",
      "RGB images received. Transforming to grayscale.\n"
     ]
    },
    {
     "name": "stderr",
     "output_type": "stream",
     "text": [
      "rgb2gray: 100%|██████████| 9030/9030 [00:02<00:00, 4069.61it/s]\n"
     ]
    },
    {
     "name": "stdout",
     "output_type": "stream",
     "text": [
      "Got the result from ./1/train/filtrations/6/RadialFiltration_51_38/gray/diagrams.npy\n",
      "Applying Scaler to persistence diagrams.\n",
      "Got the result from ./1/train/filtrations/6/RadialFiltration_51_38/red/diagrams.npy\n",
      "Applying Scaler to persistence diagrams.\n",
      "Got the result from ./1/train/filtrations/6/RadialFiltration_51_38/green/diagrams.npy\n",
      "Applying Scaler to persistence diagrams.\n",
      "Got the result from ./1/train/filtrations/6/RadialFiltration_51_38/blue/diagrams.npy\n",
      "Applying Scaler to persistence diagrams.\n",
      "Applying filtration 72/72: 6/RadialFiltration_51_51\n",
      "RGB images received. Transforming to grayscale.\n"
     ]
    },
    {
     "name": "stderr",
     "output_type": "stream",
     "text": [
      "rgb2gray: 100%|██████████| 9030/9030 [00:02<00:00, 4230.14it/s]\n"
     ]
    },
    {
     "name": "stdout",
     "output_type": "stream",
     "text": [
      "Got the result from ./1/train/filtrations/6/RadialFiltration_51_51/gray/diagrams.npy\n",
      "Applying Scaler to persistence diagrams.\n",
      "Got the result from ./1/train/filtrations/6/RadialFiltration_51_51/red/diagrams.npy\n",
      "Applying Scaler to persistence diagrams.\n",
      "Got the result from ./1/train/filtrations/6/RadialFiltration_51_51/green/diagrams.npy\n",
      "Applying Scaler to persistence diagrams.\n",
      "Got the result from ./1/train/filtrations/6/RadialFiltration_51_51/blue/diagrams.npy\n",
      "Applying Scaler to persistence diagrams.\n",
      "Diagrams requested. Returning diagrams.\n",
      "Calculating inverted images\n",
      "RGB images received. Transforming to grayscale.\n"
     ]
    },
    {
     "name": "stderr",
     "output_type": "stream",
     "text": [
      "rgb2gray: 100%|██████████| 134/134 [00:00<00:00, 3736.40it/s]\n"
     ]
    },
    {
     "name": "stdout",
     "output_type": "stream",
     "text": [
      "Got the result from ./1/test/greyscale/gray/diagrams.npy\n",
      "Applying Scaler to persistence diagrams.\n",
      "Got the result from ./1/test/greyscale/red/diagrams.npy\n",
      "Applying Scaler to persistence diagrams.\n",
      "Got the result from ./1/test/greyscale/green/diagrams.npy\n",
      "Applying Scaler to persistence diagrams.\n",
      "Got the result from ./1/test/greyscale/blue/diagrams.npy\n",
      "Applying Scaler to persistence diagrams.\n",
      "RGB images received. Transforming to grayscale.\n"
     ]
    },
    {
     "name": "stderr",
     "output_type": "stream",
     "text": [
      "rgb2gray: 100%|██████████| 134/134 [00:00<00:00, 3963.06it/s]\n"
     ]
    },
    {
     "name": "stdout",
     "output_type": "stream",
     "text": [
      "Got the result from ./1/test/inverted_greyscale/gray/diagrams.npy\n",
      "Applying Scaler to persistence diagrams.\n",
      "Got the result from ./1/test/inverted_greyscale/red/diagrams.npy\n",
      "Applying Scaler to persistence diagrams.\n",
      "Got the result from ./1/test/inverted_greyscale/green/diagrams.npy\n",
      "Applying Scaler to persistence diagrams.\n",
      "Got the result from ./1/test/inverted_greyscale/blue/diagrams.npy\n",
      "Applying Scaler to persistence diagrams.\n",
      "Applying filtrations\n",
      "Applying filtration 1/72: 2/HeightFiltrartion_-1_-1\n",
      "RGB images received. Transforming to grayscale.\n"
     ]
    },
    {
     "name": "stderr",
     "output_type": "stream",
     "text": [
      "rgb2gray: 100%|██████████| 134/134 [00:00<00:00, 3921.09it/s]\n"
     ]
    },
    {
     "name": "stdout",
     "output_type": "stream",
     "text": [
      "Got the result from ./1/test/filtrations/2/HeightFiltrartion_-1_-1/gray/diagrams.npy\n",
      "Applying Scaler to persistence diagrams.\n",
      "Got the result from ./1/test/filtrations/2/HeightFiltrartion_-1_-1/red/diagrams.npy\n",
      "Applying Scaler to persistence diagrams.\n",
      "Got the result from ./1/test/filtrations/2/HeightFiltrartion_-1_-1/green/diagrams.npy\n",
      "Applying Scaler to persistence diagrams.\n",
      "Got the result from ./1/test/filtrations/2/HeightFiltrartion_-1_-1/blue/diagrams.npy\n",
      "Applying Scaler to persistence diagrams.\n",
      "Applying filtration 2/72: 2/HeightFiltrartion_1_1\n",
      "RGB images received. Transforming to grayscale.\n"
     ]
    },
    {
     "name": "stderr",
     "output_type": "stream",
     "text": [
      "rgb2gray: 100%|██████████| 134/134 [00:00<00:00, 2023.45it/s]\n"
     ]
    },
    {
     "name": "stdout",
     "output_type": "stream",
     "text": [
      "Got the result from ./1/test/filtrations/2/HeightFiltrartion_1_1/gray/diagrams.npy\n",
      "Applying Scaler to persistence diagrams.\n",
      "Got the result from ./1/test/filtrations/2/HeightFiltrartion_1_1/red/diagrams.npy\n",
      "Applying Scaler to persistence diagrams.\n",
      "Got the result from ./1/test/filtrations/2/HeightFiltrartion_1_1/green/diagrams.npy\n",
      "Applying Scaler to persistence diagrams.\n",
      "Got the result from ./1/test/filtrations/2/HeightFiltrartion_1_1/blue/diagrams.npy\n",
      "Applying Scaler to persistence diagrams.\n",
      "Applying filtration 3/72: 2/HeightFiltrartion_1_-1\n",
      "RGB images received. Transforming to grayscale.\n"
     ]
    },
    {
     "name": "stderr",
     "output_type": "stream",
     "text": [
      "rgb2gray: 100%|██████████| 134/134 [00:00<00:00, 4875.07it/s]\n"
     ]
    },
    {
     "name": "stdout",
     "output_type": "stream",
     "text": [
      "Got the result from ./1/test/filtrations/2/HeightFiltrartion_1_-1/gray/diagrams.npy\n",
      "Applying Scaler to persistence diagrams.\n",
      "Got the result from ./1/test/filtrations/2/HeightFiltrartion_1_-1/red/diagrams.npy\n",
      "Applying Scaler to persistence diagrams.\n",
      "Got the result from ./1/test/filtrations/2/HeightFiltrartion_1_-1/green/diagrams.npy\n",
      "Applying Scaler to persistence diagrams.\n",
      "Got the result from ./1/test/filtrations/2/HeightFiltrartion_1_-1/blue/diagrams.npy\n",
      "Applying Scaler to persistence diagrams.\n",
      "Applying filtration 4/72: 2/HeightFiltrartion_-1_1\n",
      "RGB images received. Transforming to grayscale.\n"
     ]
    },
    {
     "name": "stderr",
     "output_type": "stream",
     "text": [
      "rgb2gray: 100%|██████████| 134/134 [00:00<00:00, 3912.54it/s]\n"
     ]
    },
    {
     "name": "stdout",
     "output_type": "stream",
     "text": [
      "Got the result from ./1/test/filtrations/2/HeightFiltrartion_-1_1/gray/diagrams.npy\n",
      "Applying Scaler to persistence diagrams.\n",
      "Got the result from ./1/test/filtrations/2/HeightFiltrartion_-1_1/red/diagrams.npy\n",
      "Applying Scaler to persistence diagrams.\n",
      "Got the result from ./1/test/filtrations/2/HeightFiltrartion_-1_1/green/diagrams.npy\n",
      "Applying Scaler to persistence diagrams.\n",
      "Got the result from ./1/test/filtrations/2/HeightFiltrartion_-1_1/blue/diagrams.npy\n",
      "Applying Scaler to persistence diagrams.\n",
      "Applying filtration 5/72: 2/HeightFiltrartion_0_-1\n",
      "RGB images received. Transforming to grayscale.\n"
     ]
    },
    {
     "name": "stderr",
     "output_type": "stream",
     "text": [
      "rgb2gray: 100%|██████████| 134/134 [00:00<00:00, 2557.72it/s]\n"
     ]
    },
    {
     "name": "stdout",
     "output_type": "stream",
     "text": [
      "Got the result from ./1/test/filtrations/2/HeightFiltrartion_0_-1/gray/diagrams.npy\n",
      "Applying Scaler to persistence diagrams.\n",
      "Got the result from ./1/test/filtrations/2/HeightFiltrartion_0_-1/red/diagrams.npy\n",
      "Applying Scaler to persistence diagrams.\n",
      "Got the result from ./1/test/filtrations/2/HeightFiltrartion_0_-1/green/diagrams.npy\n",
      "Applying Scaler to persistence diagrams.\n",
      "Got the result from ./1/test/filtrations/2/HeightFiltrartion_0_-1/blue/diagrams.npy\n",
      "Applying Scaler to persistence diagrams.\n",
      "Applying filtration 6/72: 2/HeightFiltrartion_0_1\n",
      "RGB images received. Transforming to grayscale.\n"
     ]
    },
    {
     "name": "stderr",
     "output_type": "stream",
     "text": [
      "rgb2gray: 100%|██████████| 134/134 [00:00<00:00, 3220.79it/s]\n"
     ]
    },
    {
     "name": "stdout",
     "output_type": "stream",
     "text": [
      "Got the result from ./1/test/filtrations/2/HeightFiltrartion_0_1/gray/diagrams.npy\n",
      "Applying Scaler to persistence diagrams.\n",
      "Got the result from ./1/test/filtrations/2/HeightFiltrartion_0_1/red/diagrams.npy\n",
      "Applying Scaler to persistence diagrams.\n",
      "Got the result from ./1/test/filtrations/2/HeightFiltrartion_0_1/green/diagrams.npy\n",
      "Applying Scaler to persistence diagrams.\n",
      "Got the result from ./1/test/filtrations/2/HeightFiltrartion_0_1/blue/diagrams.npy\n",
      "Applying Scaler to persistence diagrams.\n",
      "Applying filtration 7/72: 2/HeightFiltrartion_-1_0\n",
      "RGB images received. Transforming to grayscale.\n"
     ]
    },
    {
     "name": "stderr",
     "output_type": "stream",
     "text": [
      "rgb2gray: 100%|██████████| 134/134 [00:00<00:00, 2913.01it/s]\n"
     ]
    },
    {
     "name": "stdout",
     "output_type": "stream",
     "text": [
      "Got the result from ./1/test/filtrations/2/HeightFiltrartion_-1_0/gray/diagrams.npy\n",
      "Applying Scaler to persistence diagrams.\n",
      "Got the result from ./1/test/filtrations/2/HeightFiltrartion_-1_0/red/diagrams.npy\n",
      "Applying Scaler to persistence diagrams.\n",
      "Got the result from ./1/test/filtrations/2/HeightFiltrartion_-1_0/green/diagrams.npy\n",
      "Applying Scaler to persistence diagrams.\n",
      "Got the result from ./1/test/filtrations/2/HeightFiltrartion_-1_0/blue/diagrams.npy\n",
      "Applying Scaler to persistence diagrams.\n",
      "Applying filtration 8/72: 2/HeightFiltrartion_1_0\n",
      "RGB images received. Transforming to grayscale.\n"
     ]
    },
    {
     "name": "stderr",
     "output_type": "stream",
     "text": [
      "rgb2gray: 100%|██████████| 134/134 [00:00<00:00, 3543.85it/s]\n"
     ]
    },
    {
     "name": "stdout",
     "output_type": "stream",
     "text": [
      "Got the result from ./1/test/filtrations/2/HeightFiltrartion_1_0/gray/diagrams.npy\n",
      "Applying Scaler to persistence diagrams.\n",
      "Got the result from ./1/test/filtrations/2/HeightFiltrartion_1_0/red/diagrams.npy\n",
      "Applying Scaler to persistence diagrams.\n",
      "Got the result from ./1/test/filtrations/2/HeightFiltrartion_1_0/green/diagrams.npy\n",
      "Applying Scaler to persistence diagrams.\n",
      "Got the result from ./1/test/filtrations/2/HeightFiltrartion_1_0/blue/diagrams.npy\n",
      "Applying Scaler to persistence diagrams.\n",
      "Applying filtration 9/72: 2/RadialFiltration_12_12\n",
      "RGB images received. Transforming to grayscale.\n"
     ]
    },
    {
     "name": "stderr",
     "output_type": "stream",
     "text": [
      "rgb2gray: 100%|██████████| 134/134 [00:00<00:00, 2974.72it/s]\n"
     ]
    },
    {
     "name": "stdout",
     "output_type": "stream",
     "text": [
      "Got the result from ./1/test/filtrations/2/RadialFiltration_12_12/gray/diagrams.npy\n",
      "Applying Scaler to persistence diagrams.\n",
      "Got the result from ./1/test/filtrations/2/RadialFiltration_12_12/red/diagrams.npy\n",
      "Applying Scaler to persistence diagrams.\n",
      "Got the result from ./1/test/filtrations/2/RadialFiltration_12_12/green/diagrams.npy\n",
      "Applying Scaler to persistence diagrams.\n",
      "Got the result from ./1/test/filtrations/2/RadialFiltration_12_12/blue/diagrams.npy\n",
      "Applying Scaler to persistence diagrams.\n",
      "Applying filtration 10/72: 2/RadialFiltration_12_25\n",
      "RGB images received. Transforming to grayscale.\n"
     ]
    },
    {
     "name": "stderr",
     "output_type": "stream",
     "text": [
      "rgb2gray: 100%|██████████| 134/134 [00:00<00:00, 3168.17it/s]\n"
     ]
    },
    {
     "name": "stdout",
     "output_type": "stream",
     "text": [
      "Got the result from ./1/test/filtrations/2/RadialFiltration_12_25/gray/diagrams.npy\n",
      "Applying Scaler to persistence diagrams.\n",
      "Got the result from ./1/test/filtrations/2/RadialFiltration_12_25/red/diagrams.npy\n",
      "Applying Scaler to persistence diagrams.\n",
      "Got the result from ./1/test/filtrations/2/RadialFiltration_12_25/green/diagrams.npy\n",
      "Applying Scaler to persistence diagrams.\n",
      "Got the result from ./1/test/filtrations/2/RadialFiltration_12_25/blue/diagrams.npy\n",
      "Applying Scaler to persistence diagrams.\n",
      "Applying filtration 11/72: 2/RadialFiltration_12_38\n",
      "RGB images received. Transforming to grayscale.\n"
     ]
    },
    {
     "name": "stderr",
     "output_type": "stream",
     "text": [
      "rgb2gray: 100%|██████████| 134/134 [00:00<00:00, 2628.01it/s]\n"
     ]
    },
    {
     "name": "stdout",
     "output_type": "stream",
     "text": [
      "Got the result from ./1/test/filtrations/2/RadialFiltration_12_38/gray/diagrams.npy\n",
      "Applying Scaler to persistence diagrams.\n",
      "Got the result from ./1/test/filtrations/2/RadialFiltration_12_38/red/diagrams.npy\n",
      "Applying Scaler to persistence diagrams.\n",
      "Got the result from ./1/test/filtrations/2/RadialFiltration_12_38/green/diagrams.npy\n",
      "Applying Scaler to persistence diagrams.\n",
      "Got the result from ./1/test/filtrations/2/RadialFiltration_12_38/blue/diagrams.npy\n",
      "Applying Scaler to persistence diagrams.\n",
      "Applying filtration 12/72: 2/RadialFiltration_12_51\n",
      "RGB images received. Transforming to grayscale.\n"
     ]
    },
    {
     "name": "stderr",
     "output_type": "stream",
     "text": [
      "rgb2gray: 100%|██████████| 134/134 [00:00<00:00, 3021.62it/s]\n"
     ]
    },
    {
     "name": "stdout",
     "output_type": "stream",
     "text": [
      "Got the result from ./1/test/filtrations/2/RadialFiltration_12_51/gray/diagrams.npy\n",
      "Applying Scaler to persistence diagrams.\n",
      "Got the result from ./1/test/filtrations/2/RadialFiltration_12_51/red/diagrams.npy\n",
      "Applying Scaler to persistence diagrams.\n",
      "Got the result from ./1/test/filtrations/2/RadialFiltration_12_51/green/diagrams.npy\n",
      "Applying Scaler to persistence diagrams.\n",
      "Got the result from ./1/test/filtrations/2/RadialFiltration_12_51/blue/diagrams.npy\n",
      "Applying Scaler to persistence diagrams.\n",
      "Applying filtration 13/72: 2/RadialFiltration_25_12\n",
      "RGB images received. Transforming to grayscale.\n"
     ]
    },
    {
     "name": "stderr",
     "output_type": "stream",
     "text": [
      "rgb2gray: 100%|██████████| 134/134 [00:00<00:00, 3144.09it/s]\n"
     ]
    },
    {
     "name": "stdout",
     "output_type": "stream",
     "text": [
      "Got the result from ./1/test/filtrations/2/RadialFiltration_25_12/gray/diagrams.npy\n",
      "Applying Scaler to persistence diagrams.\n",
      "Got the result from ./1/test/filtrations/2/RadialFiltration_25_12/red/diagrams.npy\n",
      "Applying Scaler to persistence diagrams.\n",
      "Got the result from ./1/test/filtrations/2/RadialFiltration_25_12/green/diagrams.npy\n",
      "Applying Scaler to persistence diagrams.\n",
      "Got the result from ./1/test/filtrations/2/RadialFiltration_25_12/blue/diagrams.npy\n",
      "Applying Scaler to persistence diagrams.\n",
      "Applying filtration 14/72: 2/RadialFiltration_25_25\n",
      "RGB images received. Transforming to grayscale.\n"
     ]
    },
    {
     "name": "stderr",
     "output_type": "stream",
     "text": [
      "rgb2gray: 100%|██████████| 134/134 [00:00<00:00, 3783.41it/s]\n"
     ]
    },
    {
     "name": "stdout",
     "output_type": "stream",
     "text": [
      "Got the result from ./1/test/filtrations/2/RadialFiltration_25_25/gray/diagrams.npy\n",
      "Applying Scaler to persistence diagrams.\n",
      "Got the result from ./1/test/filtrations/2/RadialFiltration_25_25/red/diagrams.npy\n",
      "Applying Scaler to persistence diagrams.\n",
      "Got the result from ./1/test/filtrations/2/RadialFiltration_25_25/green/diagrams.npy\n",
      "Applying Scaler to persistence diagrams.\n",
      "Got the result from ./1/test/filtrations/2/RadialFiltration_25_25/blue/diagrams.npy\n",
      "Applying Scaler to persistence diagrams.\n",
      "Applying filtration 15/72: 2/RadialFiltration_25_38\n",
      "RGB images received. Transforming to grayscale.\n"
     ]
    },
    {
     "name": "stderr",
     "output_type": "stream",
     "text": [
      "rgb2gray: 100%|██████████| 134/134 [00:00<00:00, 4090.87it/s]\n"
     ]
    },
    {
     "name": "stdout",
     "output_type": "stream",
     "text": [
      "Got the result from ./1/test/filtrations/2/RadialFiltration_25_38/gray/diagrams.npy\n",
      "Applying Scaler to persistence diagrams.\n",
      "Got the result from ./1/test/filtrations/2/RadialFiltration_25_38/red/diagrams.npy\n",
      "Applying Scaler to persistence diagrams.\n",
      "Got the result from ./1/test/filtrations/2/RadialFiltration_25_38/green/diagrams.npy\n",
      "Applying Scaler to persistence diagrams.\n",
      "Got the result from ./1/test/filtrations/2/RadialFiltration_25_38/blue/diagrams.npy\n",
      "Applying Scaler to persistence diagrams.\n",
      "Applying filtration 16/72: 2/RadialFiltration_25_51\n",
      "RGB images received. Transforming to grayscale.\n"
     ]
    },
    {
     "name": "stderr",
     "output_type": "stream",
     "text": [
      "rgb2gray: 100%|██████████| 134/134 [00:00<00:00, 4532.04it/s]\n"
     ]
    },
    {
     "name": "stdout",
     "output_type": "stream",
     "text": [
      "Got the result from ./1/test/filtrations/2/RadialFiltration_25_51/gray/diagrams.npy\n",
      "Applying Scaler to persistence diagrams.\n",
      "Got the result from ./1/test/filtrations/2/RadialFiltration_25_51/red/diagrams.npy\n",
      "Applying Scaler to persistence diagrams.\n",
      "Got the result from ./1/test/filtrations/2/RadialFiltration_25_51/green/diagrams.npy\n",
      "Applying Scaler to persistence diagrams.\n",
      "Got the result from ./1/test/filtrations/2/RadialFiltration_25_51/blue/diagrams.npy\n",
      "Applying Scaler to persistence diagrams.\n",
      "Applying filtration 17/72: 2/RadialFiltration_38_12\n",
      "RGB images received. Transforming to grayscale.\n"
     ]
    },
    {
     "name": "stderr",
     "output_type": "stream",
     "text": [
      "rgb2gray: 100%|██████████| 134/134 [00:00<00:00, 4206.14it/s]\n"
     ]
    },
    {
     "name": "stdout",
     "output_type": "stream",
     "text": [
      "Got the result from ./1/test/filtrations/2/RadialFiltration_38_12/gray/diagrams.npy\n",
      "Applying Scaler to persistence diagrams.\n",
      "Got the result from ./1/test/filtrations/2/RadialFiltration_38_12/red/diagrams.npy\n",
      "Applying Scaler to persistence diagrams.\n",
      "Got the result from ./1/test/filtrations/2/RadialFiltration_38_12/green/diagrams.npy\n",
      "Applying Scaler to persistence diagrams.\n",
      "Got the result from ./1/test/filtrations/2/RadialFiltration_38_12/blue/diagrams.npy\n",
      "Applying Scaler to persistence diagrams.\n",
      "Applying filtration 18/72: 2/RadialFiltration_38_25\n",
      "RGB images received. Transforming to grayscale.\n"
     ]
    },
    {
     "name": "stderr",
     "output_type": "stream",
     "text": [
      "rgb2gray: 100%|██████████| 134/134 [00:00<00:00, 4453.08it/s]\n"
     ]
    },
    {
     "name": "stdout",
     "output_type": "stream",
     "text": [
      "Got the result from ./1/test/filtrations/2/RadialFiltration_38_25/gray/diagrams.npy\n",
      "Applying Scaler to persistence diagrams.\n",
      "Got the result from ./1/test/filtrations/2/RadialFiltration_38_25/red/diagrams.npy\n",
      "Applying Scaler to persistence diagrams.\n",
      "Got the result from ./1/test/filtrations/2/RadialFiltration_38_25/green/diagrams.npy\n",
      "Applying Scaler to persistence diagrams.\n",
      "Got the result from ./1/test/filtrations/2/RadialFiltration_38_25/blue/diagrams.npy\n",
      "Applying Scaler to persistence diagrams.\n",
      "Applying filtration 19/72: 2/RadialFiltration_38_38\n",
      "RGB images received. Transforming to grayscale.\n"
     ]
    },
    {
     "name": "stderr",
     "output_type": "stream",
     "text": [
      "rgb2gray: 100%|██████████| 134/134 [00:00<00:00, 3924.18it/s]\n"
     ]
    },
    {
     "name": "stdout",
     "output_type": "stream",
     "text": [
      "Got the result from ./1/test/filtrations/2/RadialFiltration_38_38/gray/diagrams.npy\n",
      "Applying Scaler to persistence diagrams.\n",
      "Got the result from ./1/test/filtrations/2/RadialFiltration_38_38/red/diagrams.npy\n",
      "Applying Scaler to persistence diagrams.\n",
      "Got the result from ./1/test/filtrations/2/RadialFiltration_38_38/green/diagrams.npy\n",
      "Applying Scaler to persistence diagrams.\n",
      "Got the result from ./1/test/filtrations/2/RadialFiltration_38_38/blue/diagrams.npy\n",
      "Applying Scaler to persistence diagrams.\n",
      "Applying filtration 20/72: 2/RadialFiltration_38_51\n",
      "RGB images received. Transforming to grayscale.\n"
     ]
    },
    {
     "name": "stderr",
     "output_type": "stream",
     "text": [
      "rgb2gray: 100%|██████████| 134/134 [00:00<00:00, 3867.05it/s]\n"
     ]
    },
    {
     "name": "stdout",
     "output_type": "stream",
     "text": [
      "Got the result from ./1/test/filtrations/2/RadialFiltration_38_51/gray/diagrams.npy\n",
      "Applying Scaler to persistence diagrams.\n",
      "Got the result from ./1/test/filtrations/2/RadialFiltration_38_51/red/diagrams.npy\n",
      "Applying Scaler to persistence diagrams.\n",
      "Got the result from ./1/test/filtrations/2/RadialFiltration_38_51/green/diagrams.npy\n",
      "Applying Scaler to persistence diagrams.\n",
      "Got the result from ./1/test/filtrations/2/RadialFiltration_38_51/blue/diagrams.npy\n",
      "Applying Scaler to persistence diagrams.\n",
      "Applying filtration 21/72: 2/RadialFiltration_51_12\n",
      "RGB images received. Transforming to grayscale.\n"
     ]
    },
    {
     "name": "stderr",
     "output_type": "stream",
     "text": [
      "rgb2gray: 100%|██████████| 134/134 [00:00<00:00, 5136.32it/s]\n"
     ]
    },
    {
     "name": "stdout",
     "output_type": "stream",
     "text": [
      "Got the result from ./1/test/filtrations/2/RadialFiltration_51_12/gray/diagrams.npy\n",
      "Applying Scaler to persistence diagrams.\n",
      "Got the result from ./1/test/filtrations/2/RadialFiltration_51_12/red/diagrams.npy\n",
      "Applying Scaler to persistence diagrams.\n",
      "Got the result from ./1/test/filtrations/2/RadialFiltration_51_12/green/diagrams.npy\n",
      "Applying Scaler to persistence diagrams.\n",
      "Got the result from ./1/test/filtrations/2/RadialFiltration_51_12/blue/diagrams.npy\n",
      "Applying Scaler to persistence diagrams.\n",
      "Applying filtration 22/72: 2/RadialFiltration_51_25\n",
      "RGB images received. Transforming to grayscale.\n"
     ]
    },
    {
     "name": "stderr",
     "output_type": "stream",
     "text": [
      "rgb2gray: 100%|██████████| 134/134 [00:00<00:00, 4665.83it/s]\n"
     ]
    },
    {
     "name": "stdout",
     "output_type": "stream",
     "text": [
      "Got the result from ./1/test/filtrations/2/RadialFiltration_51_25/gray/diagrams.npy\n",
      "Applying Scaler to persistence diagrams.\n",
      "Got the result from ./1/test/filtrations/2/RadialFiltration_51_25/red/diagrams.npy\n",
      "Applying Scaler to persistence diagrams.\n",
      "Got the result from ./1/test/filtrations/2/RadialFiltration_51_25/green/diagrams.npy\n",
      "Applying Scaler to persistence diagrams.\n",
      "Got the result from ./1/test/filtrations/2/RadialFiltration_51_25/blue/diagrams.npy\n",
      "Applying Scaler to persistence diagrams.\n",
      "Applying filtration 23/72: 2/RadialFiltration_51_38\n",
      "RGB images received. Transforming to grayscale.\n"
     ]
    },
    {
     "name": "stderr",
     "output_type": "stream",
     "text": [
      "rgb2gray: 100%|██████████| 134/134 [00:00<00:00, 3968.43it/s]\n"
     ]
    },
    {
     "name": "stdout",
     "output_type": "stream",
     "text": [
      "Got the result from ./1/test/filtrations/2/RadialFiltration_51_38/gray/diagrams.npy\n",
      "Applying Scaler to persistence diagrams.\n",
      "Got the result from ./1/test/filtrations/2/RadialFiltration_51_38/red/diagrams.npy\n",
      "Applying Scaler to persistence diagrams.\n",
      "Got the result from ./1/test/filtrations/2/RadialFiltration_51_38/green/diagrams.npy\n",
      "Applying Scaler to persistence diagrams.\n",
      "Got the result from ./1/test/filtrations/2/RadialFiltration_51_38/blue/diagrams.npy\n",
      "Applying Scaler to persistence diagrams.\n",
      "Applying filtration 24/72: 2/RadialFiltration_51_51\n",
      "RGB images received. Transforming to grayscale.\n"
     ]
    },
    {
     "name": "stderr",
     "output_type": "stream",
     "text": [
      "rgb2gray: 100%|██████████| 134/134 [00:00<00:00, 3864.20it/s]\n"
     ]
    },
    {
     "name": "stdout",
     "output_type": "stream",
     "text": [
      "Got the result from ./1/test/filtrations/2/RadialFiltration_51_51/gray/diagrams.npy\n",
      "Applying Scaler to persistence diagrams.\n",
      "Got the result from ./1/test/filtrations/2/RadialFiltration_51_51/red/diagrams.npy\n",
      "Applying Scaler to persistence diagrams.\n",
      "Got the result from ./1/test/filtrations/2/RadialFiltration_51_51/green/diagrams.npy\n",
      "Applying Scaler to persistence diagrams.\n",
      "Got the result from ./1/test/filtrations/2/RadialFiltration_51_51/blue/diagrams.npy\n",
      "Applying Scaler to persistence diagrams.\n",
      "Applying filtration 25/72: 4/HeightFiltrartion_-1_-1\n",
      "RGB images received. Transforming to grayscale.\n"
     ]
    },
    {
     "name": "stderr",
     "output_type": "stream",
     "text": [
      "rgb2gray: 100%|██████████| 134/134 [00:00<00:00, 4727.05it/s]\n"
     ]
    },
    {
     "name": "stdout",
     "output_type": "stream",
     "text": [
      "Got the result from ./1/test/filtrations/4/HeightFiltrartion_-1_-1/gray/diagrams.npy\n",
      "Applying Scaler to persistence diagrams.\n",
      "Got the result from ./1/test/filtrations/4/HeightFiltrartion_-1_-1/red/diagrams.npy\n",
      "Applying Scaler to persistence diagrams.\n",
      "Got the result from ./1/test/filtrations/4/HeightFiltrartion_-1_-1/green/diagrams.npy\n",
      "Applying Scaler to persistence diagrams.\n",
      "Got the result from ./1/test/filtrations/4/HeightFiltrartion_-1_-1/blue/diagrams.npy\n",
      "Applying Scaler to persistence diagrams.\n",
      "Applying filtration 26/72: 4/HeightFiltrartion_1_1\n",
      "RGB images received. Transforming to grayscale.\n"
     ]
    },
    {
     "name": "stderr",
     "output_type": "stream",
     "text": [
      "rgb2gray: 100%|██████████| 134/134 [00:00<00:00, 3423.96it/s]\n"
     ]
    },
    {
     "name": "stdout",
     "output_type": "stream",
     "text": [
      "Got the result from ./1/test/filtrations/4/HeightFiltrartion_1_1/gray/diagrams.npy\n",
      "Applying Scaler to persistence diagrams.\n",
      "Got the result from ./1/test/filtrations/4/HeightFiltrartion_1_1/red/diagrams.npy\n",
      "Applying Scaler to persistence diagrams.\n",
      "Got the result from ./1/test/filtrations/4/HeightFiltrartion_1_1/green/diagrams.npy\n",
      "Applying Scaler to persistence diagrams.\n",
      "Got the result from ./1/test/filtrations/4/HeightFiltrartion_1_1/blue/diagrams.npy\n",
      "Applying Scaler to persistence diagrams.\n",
      "Applying filtration 27/72: 4/HeightFiltrartion_1_-1\n",
      "RGB images received. Transforming to grayscale.\n"
     ]
    },
    {
     "name": "stderr",
     "output_type": "stream",
     "text": [
      "rgb2gray: 100%|██████████| 134/134 [00:00<00:00, 3369.20it/s]\n"
     ]
    },
    {
     "name": "stdout",
     "output_type": "stream",
     "text": [
      "Got the result from ./1/test/filtrations/4/HeightFiltrartion_1_-1/gray/diagrams.npy\n",
      "Applying Scaler to persistence diagrams.\n",
      "Got the result from ./1/test/filtrations/4/HeightFiltrartion_1_-1/red/diagrams.npy\n",
      "Applying Scaler to persistence diagrams.\n",
      "Got the result from ./1/test/filtrations/4/HeightFiltrartion_1_-1/green/diagrams.npy\n",
      "Applying Scaler to persistence diagrams.\n",
      "Got the result from ./1/test/filtrations/4/HeightFiltrartion_1_-1/blue/diagrams.npy\n",
      "Applying Scaler to persistence diagrams.\n",
      "Applying filtration 28/72: 4/HeightFiltrartion_-1_1\n",
      "RGB images received. Transforming to grayscale.\n"
     ]
    },
    {
     "name": "stderr",
     "output_type": "stream",
     "text": [
      "rgb2gray: 100%|██████████| 134/134 [00:00<00:00, 3145.93it/s]\n"
     ]
    },
    {
     "name": "stdout",
     "output_type": "stream",
     "text": [
      "Got the result from ./1/test/filtrations/4/HeightFiltrartion_-1_1/gray/diagrams.npy\n",
      "Applying Scaler to persistence diagrams.\n",
      "Got the result from ./1/test/filtrations/4/HeightFiltrartion_-1_1/red/diagrams.npy\n",
      "Applying Scaler to persistence diagrams.\n",
      "Got the result from ./1/test/filtrations/4/HeightFiltrartion_-1_1/green/diagrams.npy\n",
      "Applying Scaler to persistence diagrams.\n",
      "Got the result from ./1/test/filtrations/4/HeightFiltrartion_-1_1/blue/diagrams.npy\n",
      "Applying Scaler to persistence diagrams.\n",
      "Applying filtration 29/72: 4/HeightFiltrartion_0_-1\n",
      "RGB images received. Transforming to grayscale.\n"
     ]
    },
    {
     "name": "stderr",
     "output_type": "stream",
     "text": [
      "rgb2gray: 100%|██████████| 134/134 [00:00<00:00, 3766.52it/s]\n"
     ]
    },
    {
     "name": "stdout",
     "output_type": "stream",
     "text": [
      "Got the result from ./1/test/filtrations/4/HeightFiltrartion_0_-1/gray/diagrams.npy\n",
      "Applying Scaler to persistence diagrams.\n",
      "Got the result from ./1/test/filtrations/4/HeightFiltrartion_0_-1/red/diagrams.npy\n",
      "Applying Scaler to persistence diagrams.\n",
      "Got the result from ./1/test/filtrations/4/HeightFiltrartion_0_-1/green/diagrams.npy\n",
      "Applying Scaler to persistence diagrams.\n",
      "Got the result from ./1/test/filtrations/4/HeightFiltrartion_0_-1/blue/diagrams.npy\n",
      "Applying Scaler to persistence diagrams.\n",
      "Applying filtration 30/72: 4/HeightFiltrartion_0_1\n",
      "RGB images received. Transforming to grayscale.\n"
     ]
    },
    {
     "name": "stderr",
     "output_type": "stream",
     "text": [
      "rgb2gray: 100%|██████████| 134/134 [00:00<00:00, 4505.20it/s]\n"
     ]
    },
    {
     "name": "stdout",
     "output_type": "stream",
     "text": [
      "Got the result from ./1/test/filtrations/4/HeightFiltrartion_0_1/gray/diagrams.npy\n",
      "Applying Scaler to persistence diagrams.\n",
      "Got the result from ./1/test/filtrations/4/HeightFiltrartion_0_1/red/diagrams.npy\n",
      "Applying Scaler to persistence diagrams.\n",
      "Got the result from ./1/test/filtrations/4/HeightFiltrartion_0_1/green/diagrams.npy\n",
      "Applying Scaler to persistence diagrams.\n",
      "Got the result from ./1/test/filtrations/4/HeightFiltrartion_0_1/blue/diagrams.npy\n",
      "Applying Scaler to persistence diagrams.\n",
      "Applying filtration 31/72: 4/HeightFiltrartion_-1_0\n",
      "RGB images received. Transforming to grayscale.\n"
     ]
    },
    {
     "name": "stderr",
     "output_type": "stream",
     "text": [
      "rgb2gray: 100%|██████████| 134/134 [00:00<00:00, 4330.05it/s]\n"
     ]
    },
    {
     "name": "stdout",
     "output_type": "stream",
     "text": [
      "Got the result from ./1/test/filtrations/4/HeightFiltrartion_-1_0/gray/diagrams.npy\n",
      "Applying Scaler to persistence diagrams.\n",
      "Got the result from ./1/test/filtrations/4/HeightFiltrartion_-1_0/red/diagrams.npy\n",
      "Applying Scaler to persistence diagrams.\n",
      "Got the result from ./1/test/filtrations/4/HeightFiltrartion_-1_0/green/diagrams.npy\n",
      "Applying Scaler to persistence diagrams.\n",
      "Got the result from ./1/test/filtrations/4/HeightFiltrartion_-1_0/blue/diagrams.npy\n",
      "Applying Scaler to persistence diagrams.\n",
      "Applying filtration 32/72: 4/HeightFiltrartion_1_0\n",
      "RGB images received. Transforming to grayscale.\n"
     ]
    },
    {
     "name": "stderr",
     "output_type": "stream",
     "text": [
      "rgb2gray: 100%|██████████| 134/134 [00:00<00:00, 4073.00it/s]\n"
     ]
    },
    {
     "name": "stdout",
     "output_type": "stream",
     "text": [
      "Got the result from ./1/test/filtrations/4/HeightFiltrartion_1_0/gray/diagrams.npy\n",
      "Applying Scaler to persistence diagrams.\n",
      "Got the result from ./1/test/filtrations/4/HeightFiltrartion_1_0/red/diagrams.npy\n",
      "Applying Scaler to persistence diagrams.\n",
      "Got the result from ./1/test/filtrations/4/HeightFiltrartion_1_0/green/diagrams.npy\n",
      "Applying Scaler to persistence diagrams.\n",
      "Got the result from ./1/test/filtrations/4/HeightFiltrartion_1_0/blue/diagrams.npy\n",
      "Applying Scaler to persistence diagrams.\n",
      "Applying filtration 33/72: 4/RadialFiltration_12_12\n",
      "RGB images received. Transforming to grayscale.\n"
     ]
    },
    {
     "name": "stderr",
     "output_type": "stream",
     "text": [
      "rgb2gray: 100%|██████████| 134/134 [00:00<00:00, 3812.23it/s]\n"
     ]
    },
    {
     "name": "stdout",
     "output_type": "stream",
     "text": [
      "Got the result from ./1/test/filtrations/4/RadialFiltration_12_12/gray/diagrams.npy\n",
      "Applying Scaler to persistence diagrams.\n",
      "Got the result from ./1/test/filtrations/4/RadialFiltration_12_12/red/diagrams.npy\n",
      "Applying Scaler to persistence diagrams.\n",
      "Got the result from ./1/test/filtrations/4/RadialFiltration_12_12/green/diagrams.npy\n",
      "Applying Scaler to persistence diagrams.\n",
      "Got the result from ./1/test/filtrations/4/RadialFiltration_12_12/blue/diagrams.npy\n",
      "Applying Scaler to persistence diagrams.\n",
      "Applying filtration 34/72: 4/RadialFiltration_12_25\n",
      "RGB images received. Transforming to grayscale.\n"
     ]
    },
    {
     "name": "stderr",
     "output_type": "stream",
     "text": [
      "rgb2gray: 100%|██████████| 134/134 [00:00<00:00, 4264.02it/s]\n"
     ]
    },
    {
     "name": "stdout",
     "output_type": "stream",
     "text": [
      "Got the result from ./1/test/filtrations/4/RadialFiltration_12_25/gray/diagrams.npy\n",
      "Applying Scaler to persistence diagrams.\n",
      "Got the result from ./1/test/filtrations/4/RadialFiltration_12_25/red/diagrams.npy\n",
      "Applying Scaler to persistence diagrams.\n",
      "Got the result from ./1/test/filtrations/4/RadialFiltration_12_25/green/diagrams.npy\n",
      "Applying Scaler to persistence diagrams.\n",
      "Got the result from ./1/test/filtrations/4/RadialFiltration_12_25/blue/diagrams.npy\n",
      "Applying Scaler to persistence diagrams.\n",
      "Applying filtration 35/72: 4/RadialFiltration_12_38\n",
      "RGB images received. Transforming to grayscale.\n"
     ]
    },
    {
     "name": "stderr",
     "output_type": "stream",
     "text": [
      "rgb2gray: 100%|██████████| 134/134 [00:00<00:00, 3176.68it/s]\n"
     ]
    },
    {
     "name": "stdout",
     "output_type": "stream",
     "text": [
      "Got the result from ./1/test/filtrations/4/RadialFiltration_12_38/gray/diagrams.npy\n",
      "Applying Scaler to persistence diagrams.\n",
      "Got the result from ./1/test/filtrations/4/RadialFiltration_12_38/red/diagrams.npy\n",
      "Applying Scaler to persistence diagrams.\n",
      "Got the result from ./1/test/filtrations/4/RadialFiltration_12_38/green/diagrams.npy\n",
      "Applying Scaler to persistence diagrams.\n",
      "Got the result from ./1/test/filtrations/4/RadialFiltration_12_38/blue/diagrams.npy\n",
      "Applying Scaler to persistence diagrams.\n",
      "Applying filtration 36/72: 4/RadialFiltration_12_51\n",
      "RGB images received. Transforming to grayscale.\n"
     ]
    },
    {
     "name": "stderr",
     "output_type": "stream",
     "text": [
      "rgb2gray: 100%|██████████| 134/134 [00:00<00:00, 4099.91it/s]\n"
     ]
    },
    {
     "name": "stdout",
     "output_type": "stream",
     "text": [
      "Got the result from ./1/test/filtrations/4/RadialFiltration_12_51/gray/diagrams.npy\n",
      "Applying Scaler to persistence diagrams.\n",
      "Got the result from ./1/test/filtrations/4/RadialFiltration_12_51/red/diagrams.npy\n",
      "Applying Scaler to persistence diagrams.\n",
      "Got the result from ./1/test/filtrations/4/RadialFiltration_12_51/green/diagrams.npy\n",
      "Applying Scaler to persistence diagrams.\n",
      "Got the result from ./1/test/filtrations/4/RadialFiltration_12_51/blue/diagrams.npy\n",
      "Applying Scaler to persistence diagrams.\n",
      "Applying filtration 37/72: 4/RadialFiltration_25_12\n",
      "RGB images received. Transforming to grayscale.\n"
     ]
    },
    {
     "name": "stderr",
     "output_type": "stream",
     "text": [
      "rgb2gray: 100%|██████████| 134/134 [00:00<00:00, 4309.50it/s]\n"
     ]
    },
    {
     "name": "stdout",
     "output_type": "stream",
     "text": [
      "Got the result from ./1/test/filtrations/4/RadialFiltration_25_12/gray/diagrams.npy\n",
      "Applying Scaler to persistence diagrams.\n",
      "Got the result from ./1/test/filtrations/4/RadialFiltration_25_12/red/diagrams.npy\n",
      "Applying Scaler to persistence diagrams.\n",
      "Got the result from ./1/test/filtrations/4/RadialFiltration_25_12/green/diagrams.npy\n",
      "Applying Scaler to persistence diagrams.\n",
      "Got the result from ./1/test/filtrations/4/RadialFiltration_25_12/blue/diagrams.npy\n",
      "Applying Scaler to persistence diagrams.\n",
      "Applying filtration 38/72: 4/RadialFiltration_25_25\n",
      "RGB images received. Transforming to grayscale.\n"
     ]
    },
    {
     "name": "stderr",
     "output_type": "stream",
     "text": [
      "rgb2gray: 100%|██████████| 134/134 [00:00<00:00, 4247.75it/s]\n"
     ]
    },
    {
     "name": "stdout",
     "output_type": "stream",
     "text": [
      "Got the result from ./1/test/filtrations/4/RadialFiltration_25_25/gray/diagrams.npy\n",
      "Applying Scaler to persistence diagrams.\n",
      "Got the result from ./1/test/filtrations/4/RadialFiltration_25_25/red/diagrams.npy\n",
      "Applying Scaler to persistence diagrams.\n",
      "Got the result from ./1/test/filtrations/4/RadialFiltration_25_25/green/diagrams.npy\n",
      "Applying Scaler to persistence diagrams.\n",
      "Got the result from ./1/test/filtrations/4/RadialFiltration_25_25/blue/diagrams.npy\n",
      "Applying Scaler to persistence diagrams.\n",
      "Applying filtration 39/72: 4/RadialFiltration_25_38\n",
      "RGB images received. Transforming to grayscale.\n"
     ]
    },
    {
     "name": "stderr",
     "output_type": "stream",
     "text": [
      "rgb2gray: 100%|██████████| 134/134 [00:00<00:00, 3299.73it/s]\n"
     ]
    },
    {
     "name": "stdout",
     "output_type": "stream",
     "text": [
      "Got the result from ./1/test/filtrations/4/RadialFiltration_25_38/gray/diagrams.npy\n",
      "Applying Scaler to persistence diagrams.\n",
      "Got the result from ./1/test/filtrations/4/RadialFiltration_25_38/red/diagrams.npy\n",
      "Applying Scaler to persistence diagrams.\n",
      "Got the result from ./1/test/filtrations/4/RadialFiltration_25_38/green/diagrams.npy\n",
      "Applying Scaler to persistence diagrams.\n",
      "Got the result from ./1/test/filtrations/4/RadialFiltration_25_38/blue/diagrams.npy\n",
      "Applying Scaler to persistence diagrams.\n",
      "Applying filtration 40/72: 4/RadialFiltration_25_51\n",
      "RGB images received. Transforming to grayscale.\n"
     ]
    },
    {
     "name": "stderr",
     "output_type": "stream",
     "text": [
      "rgb2gray: 100%|██████████| 134/134 [00:00<00:00, 3720.74it/s]\n"
     ]
    },
    {
     "name": "stdout",
     "output_type": "stream",
     "text": [
      "Got the result from ./1/test/filtrations/4/RadialFiltration_25_51/gray/diagrams.npy\n",
      "Applying Scaler to persistence diagrams.\n",
      "Got the result from ./1/test/filtrations/4/RadialFiltration_25_51/red/diagrams.npy\n",
      "Applying Scaler to persistence diagrams.\n",
      "Got the result from ./1/test/filtrations/4/RadialFiltration_25_51/green/diagrams.npy\n",
      "Applying Scaler to persistence diagrams.\n",
      "Got the result from ./1/test/filtrations/4/RadialFiltration_25_51/blue/diagrams.npy\n",
      "Applying Scaler to persistence diagrams.\n",
      "Applying filtration 41/72: 4/RadialFiltration_38_12\n",
      "RGB images received. Transforming to grayscale.\n"
     ]
    },
    {
     "name": "stderr",
     "output_type": "stream",
     "text": [
      "rgb2gray: 100%|██████████| 134/134 [00:00<00:00, 4298.86it/s]\n"
     ]
    },
    {
     "name": "stdout",
     "output_type": "stream",
     "text": [
      "Got the result from ./1/test/filtrations/4/RadialFiltration_38_12/gray/diagrams.npy\n",
      "Applying Scaler to persistence diagrams.\n",
      "Got the result from ./1/test/filtrations/4/RadialFiltration_38_12/red/diagrams.npy\n",
      "Applying Scaler to persistence diagrams.\n",
      "Got the result from ./1/test/filtrations/4/RadialFiltration_38_12/green/diagrams.npy\n",
      "Applying Scaler to persistence diagrams.\n",
      "Got the result from ./1/test/filtrations/4/RadialFiltration_38_12/blue/diagrams.npy\n",
      "Applying Scaler to persistence diagrams.\n",
      "Applying filtration 42/72: 4/RadialFiltration_38_25\n",
      "RGB images received. Transforming to grayscale.\n"
     ]
    },
    {
     "name": "stderr",
     "output_type": "stream",
     "text": [
      "rgb2gray: 100%|██████████| 134/134 [00:00<00:00, 4745.81it/s]\n"
     ]
    },
    {
     "name": "stdout",
     "output_type": "stream",
     "text": [
      "Got the result from ./1/test/filtrations/4/RadialFiltration_38_25/gray/diagrams.npy\n",
      "Applying Scaler to persistence diagrams.\n",
      "Got the result from ./1/test/filtrations/4/RadialFiltration_38_25/red/diagrams.npy\n",
      "Applying Scaler to persistence diagrams.\n",
      "Got the result from ./1/test/filtrations/4/RadialFiltration_38_25/green/diagrams.npy\n",
      "Applying Scaler to persistence diagrams.\n",
      "Got the result from ./1/test/filtrations/4/RadialFiltration_38_25/blue/diagrams.npy\n",
      "Applying Scaler to persistence diagrams.\n",
      "Applying filtration 43/72: 4/RadialFiltration_38_38\n",
      "RGB images received. Transforming to grayscale.\n"
     ]
    },
    {
     "name": "stderr",
     "output_type": "stream",
     "text": [
      "rgb2gray: 100%|██████████| 134/134 [00:00<00:00, 3416.84it/s]\n"
     ]
    },
    {
     "name": "stdout",
     "output_type": "stream",
     "text": [
      "Got the result from ./1/test/filtrations/4/RadialFiltration_38_38/gray/diagrams.npy\n",
      "Applying Scaler to persistence diagrams.\n",
      "Got the result from ./1/test/filtrations/4/RadialFiltration_38_38/red/diagrams.npy\n",
      "Applying Scaler to persistence diagrams.\n",
      "Got the result from ./1/test/filtrations/4/RadialFiltration_38_38/green/diagrams.npy\n",
      "Applying Scaler to persistence diagrams.\n",
      "Got the result from ./1/test/filtrations/4/RadialFiltration_38_38/blue/diagrams.npy\n",
      "Applying Scaler to persistence diagrams.\n",
      "Applying filtration 44/72: 4/RadialFiltration_38_51\n",
      "RGB images received. Transforming to grayscale.\n"
     ]
    },
    {
     "name": "stderr",
     "output_type": "stream",
     "text": [
      "rgb2gray: 100%|██████████| 134/134 [00:00<00:00, 3428.73it/s]\n"
     ]
    },
    {
     "name": "stdout",
     "output_type": "stream",
     "text": [
      "Got the result from ./1/test/filtrations/4/RadialFiltration_38_51/gray/diagrams.npy\n",
      "Applying Scaler to persistence diagrams.\n",
      "Got the result from ./1/test/filtrations/4/RadialFiltration_38_51/red/diagrams.npy\n",
      "Applying Scaler to persistence diagrams.\n",
      "Got the result from ./1/test/filtrations/4/RadialFiltration_38_51/green/diagrams.npy\n",
      "Applying Scaler to persistence diagrams.\n",
      "Got the result from ./1/test/filtrations/4/RadialFiltration_38_51/blue/diagrams.npy\n",
      "Applying Scaler to persistence diagrams.\n",
      "Applying filtration 45/72: 4/RadialFiltration_51_12\n",
      "RGB images received. Transforming to grayscale.\n"
     ]
    },
    {
     "name": "stderr",
     "output_type": "stream",
     "text": [
      "rgb2gray: 100%|██████████| 134/134 [00:00<00:00, 4752.51it/s]\n"
     ]
    },
    {
     "name": "stdout",
     "output_type": "stream",
     "text": [
      "Got the result from ./1/test/filtrations/4/RadialFiltration_51_12/gray/diagrams.npy\n",
      "Applying Scaler to persistence diagrams.\n",
      "Got the result from ./1/test/filtrations/4/RadialFiltration_51_12/red/diagrams.npy\n",
      "Applying Scaler to persistence diagrams.\n",
      "Got the result from ./1/test/filtrations/4/RadialFiltration_51_12/green/diagrams.npy\n",
      "Applying Scaler to persistence diagrams.\n",
      "Got the result from ./1/test/filtrations/4/RadialFiltration_51_12/blue/diagrams.npy\n",
      "Applying Scaler to persistence diagrams.\n",
      "Applying filtration 46/72: 4/RadialFiltration_51_25\n",
      "RGB images received. Transforming to grayscale.\n"
     ]
    },
    {
     "name": "stderr",
     "output_type": "stream",
     "text": [
      "rgb2gray: 100%|██████████| 134/134 [00:00<00:00, 4658.75it/s]\n"
     ]
    },
    {
     "name": "stdout",
     "output_type": "stream",
     "text": [
      "Got the result from ./1/test/filtrations/4/RadialFiltration_51_25/gray/diagrams.npy\n",
      "Applying Scaler to persistence diagrams.\n",
      "Got the result from ./1/test/filtrations/4/RadialFiltration_51_25/red/diagrams.npy\n",
      "Applying Scaler to persistence diagrams.\n",
      "Got the result from ./1/test/filtrations/4/RadialFiltration_51_25/green/diagrams.npy\n",
      "Applying Scaler to persistence diagrams.\n",
      "Got the result from ./1/test/filtrations/4/RadialFiltration_51_25/blue/diagrams.npy\n",
      "Applying Scaler to persistence diagrams.\n",
      "Applying filtration 47/72: 4/RadialFiltration_51_38\n",
      "RGB images received. Transforming to grayscale.\n"
     ]
    },
    {
     "name": "stderr",
     "output_type": "stream",
     "text": [
      "rgb2gray: 100%|██████████| 134/134 [00:00<00:00, 4591.88it/s]\n"
     ]
    },
    {
     "name": "stdout",
     "output_type": "stream",
     "text": [
      "Got the result from ./1/test/filtrations/4/RadialFiltration_51_38/gray/diagrams.npy\n",
      "Applying Scaler to persistence diagrams.\n",
      "Got the result from ./1/test/filtrations/4/RadialFiltration_51_38/red/diagrams.npy\n",
      "Applying Scaler to persistence diagrams.\n",
      "Got the result from ./1/test/filtrations/4/RadialFiltration_51_38/green/diagrams.npy\n",
      "Applying Scaler to persistence diagrams.\n",
      "Got the result from ./1/test/filtrations/4/RadialFiltration_51_38/blue/diagrams.npy\n",
      "Applying Scaler to persistence diagrams.\n",
      "Applying filtration 48/72: 4/RadialFiltration_51_51\n",
      "RGB images received. Transforming to grayscale.\n"
     ]
    },
    {
     "name": "stderr",
     "output_type": "stream",
     "text": [
      "rgb2gray: 100%|██████████| 134/134 [00:00<00:00, 5519.04it/s]\n"
     ]
    },
    {
     "name": "stdout",
     "output_type": "stream",
     "text": [
      "Got the result from ./1/test/filtrations/4/RadialFiltration_51_51/gray/diagrams.npy\n",
      "Applying Scaler to persistence diagrams.\n",
      "Got the result from ./1/test/filtrations/4/RadialFiltration_51_51/red/diagrams.npy\n",
      "Applying Scaler to persistence diagrams.\n",
      "Got the result from ./1/test/filtrations/4/RadialFiltration_51_51/green/diagrams.npy\n",
      "Applying Scaler to persistence diagrams.\n",
      "Got the result from ./1/test/filtrations/4/RadialFiltration_51_51/blue/diagrams.npy\n",
      "Applying Scaler to persistence diagrams.\n",
      "Applying filtration 49/72: 6/HeightFiltrartion_-1_-1\n",
      "RGB images received. Transforming to grayscale.\n"
     ]
    },
    {
     "name": "stderr",
     "output_type": "stream",
     "text": [
      "rgb2gray: 100%|██████████| 134/134 [00:00<00:00, 4567.96it/s]\n"
     ]
    },
    {
     "name": "stdout",
     "output_type": "stream",
     "text": [
      "Got the result from ./1/test/filtrations/6/HeightFiltrartion_-1_-1/gray/diagrams.npy\n",
      "Applying Scaler to persistence diagrams.\n",
      "Got the result from ./1/test/filtrations/6/HeightFiltrartion_-1_-1/red/diagrams.npy\n",
      "Applying Scaler to persistence diagrams.\n",
      "Got the result from ./1/test/filtrations/6/HeightFiltrartion_-1_-1/green/diagrams.npy\n",
      "Applying Scaler to persistence diagrams.\n",
      "Got the result from ./1/test/filtrations/6/HeightFiltrartion_-1_-1/blue/diagrams.npy\n",
      "Applying Scaler to persistence diagrams.\n",
      "Applying filtration 50/72: 6/HeightFiltrartion_1_1\n",
      "RGB images received. Transforming to grayscale.\n"
     ]
    },
    {
     "name": "stderr",
     "output_type": "stream",
     "text": [
      "rgb2gray: 100%|██████████| 134/134 [00:00<00:00, 5206.12it/s]\n"
     ]
    },
    {
     "name": "stdout",
     "output_type": "stream",
     "text": [
      "Got the result from ./1/test/filtrations/6/HeightFiltrartion_1_1/gray/diagrams.npy\n",
      "Applying Scaler to persistence diagrams.\n",
      "Got the result from ./1/test/filtrations/6/HeightFiltrartion_1_1/red/diagrams.npy\n",
      "Applying Scaler to persistence diagrams.\n",
      "Got the result from ./1/test/filtrations/6/HeightFiltrartion_1_1/green/diagrams.npy\n",
      "Applying Scaler to persistence diagrams.\n",
      "Got the result from ./1/test/filtrations/6/HeightFiltrartion_1_1/blue/diagrams.npy\n",
      "Applying Scaler to persistence diagrams.\n",
      "Applying filtration 51/72: 6/HeightFiltrartion_1_-1\n",
      "RGB images received. Transforming to grayscale.\n"
     ]
    },
    {
     "name": "stderr",
     "output_type": "stream",
     "text": [
      "rgb2gray: 100%|██████████| 134/134 [00:00<00:00, 3569.10it/s]\n"
     ]
    },
    {
     "name": "stdout",
     "output_type": "stream",
     "text": [
      "Got the result from ./1/test/filtrations/6/HeightFiltrartion_1_-1/gray/diagrams.npy\n",
      "Applying Scaler to persistence diagrams.\n",
      "Got the result from ./1/test/filtrations/6/HeightFiltrartion_1_-1/red/diagrams.npy\n",
      "Applying Scaler to persistence diagrams.\n",
      "Got the result from ./1/test/filtrations/6/HeightFiltrartion_1_-1/green/diagrams.npy\n",
      "Applying Scaler to persistence diagrams.\n",
      "Got the result from ./1/test/filtrations/6/HeightFiltrartion_1_-1/blue/diagrams.npy\n",
      "Applying Scaler to persistence diagrams.\n",
      "Applying filtration 52/72: 6/HeightFiltrartion_-1_1\n",
      "RGB images received. Transforming to grayscale.\n"
     ]
    },
    {
     "name": "stderr",
     "output_type": "stream",
     "text": [
      "rgb2gray: 100%|██████████| 134/134 [00:00<00:00, 3769.43it/s]\n"
     ]
    },
    {
     "name": "stdout",
     "output_type": "stream",
     "text": [
      "Got the result from ./1/test/filtrations/6/HeightFiltrartion_-1_1/gray/diagrams.npy\n",
      "Applying Scaler to persistence diagrams.\n",
      "Got the result from ./1/test/filtrations/6/HeightFiltrartion_-1_1/red/diagrams.npy\n",
      "Applying Scaler to persistence diagrams.\n",
      "Got the result from ./1/test/filtrations/6/HeightFiltrartion_-1_1/green/diagrams.npy\n",
      "Applying Scaler to persistence diagrams.\n",
      "Got the result from ./1/test/filtrations/6/HeightFiltrartion_-1_1/blue/diagrams.npy\n",
      "Applying Scaler to persistence diagrams.\n",
      "Applying filtration 53/72: 6/HeightFiltrartion_0_-1\n",
      "RGB images received. Transforming to grayscale.\n"
     ]
    },
    {
     "name": "stderr",
     "output_type": "stream",
     "text": [
      "rgb2gray: 100%|██████████| 134/134 [00:00<00:00, 3748.99it/s]\n"
     ]
    },
    {
     "name": "stdout",
     "output_type": "stream",
     "text": [
      "Got the result from ./1/test/filtrations/6/HeightFiltrartion_0_-1/gray/diagrams.npy\n",
      "Applying Scaler to persistence diagrams.\n",
      "Got the result from ./1/test/filtrations/6/HeightFiltrartion_0_-1/red/diagrams.npy\n",
      "Applying Scaler to persistence diagrams.\n",
      "Got the result from ./1/test/filtrations/6/HeightFiltrartion_0_-1/green/diagrams.npy\n",
      "Applying Scaler to persistence diagrams.\n",
      "Got the result from ./1/test/filtrations/6/HeightFiltrartion_0_-1/blue/diagrams.npy\n",
      "Applying Scaler to persistence diagrams.\n",
      "Applying filtration 54/72: 6/HeightFiltrartion_0_1\n",
      "RGB images received. Transforming to grayscale.\n"
     ]
    },
    {
     "name": "stderr",
     "output_type": "stream",
     "text": [
      "rgb2gray: 100%|██████████| 134/134 [00:00<00:00, 4914.03it/s]\n"
     ]
    },
    {
     "name": "stdout",
     "output_type": "stream",
     "text": [
      "Got the result from ./1/test/filtrations/6/HeightFiltrartion_0_1/gray/diagrams.npy\n",
      "Applying Scaler to persistence diagrams.\n",
      "Got the result from ./1/test/filtrations/6/HeightFiltrartion_0_1/red/diagrams.npy\n",
      "Applying Scaler to persistence diagrams.\n",
      "Got the result from ./1/test/filtrations/6/HeightFiltrartion_0_1/green/diagrams.npy\n",
      "Applying Scaler to persistence diagrams.\n",
      "Got the result from ./1/test/filtrations/6/HeightFiltrartion_0_1/blue/diagrams.npy\n",
      "Applying Scaler to persistence diagrams.\n",
      "Applying filtration 55/72: 6/HeightFiltrartion_-1_0\n",
      "RGB images received. Transforming to grayscale.\n"
     ]
    },
    {
     "name": "stderr",
     "output_type": "stream",
     "text": [
      "rgb2gray: 100%|██████████| 134/134 [00:00<00:00, 4673.75it/s]\n"
     ]
    },
    {
     "name": "stdout",
     "output_type": "stream",
     "text": [
      "Got the result from ./1/test/filtrations/6/HeightFiltrartion_-1_0/gray/diagrams.npy\n",
      "Applying Scaler to persistence diagrams.\n",
      "Got the result from ./1/test/filtrations/6/HeightFiltrartion_-1_0/red/diagrams.npy\n",
      "Applying Scaler to persistence diagrams.\n",
      "Got the result from ./1/test/filtrations/6/HeightFiltrartion_-1_0/green/diagrams.npy\n",
      "Applying Scaler to persistence diagrams.\n",
      "Got the result from ./1/test/filtrations/6/HeightFiltrartion_-1_0/blue/diagrams.npy\n",
      "Applying Scaler to persistence diagrams.\n",
      "Applying filtration 56/72: 6/HeightFiltrartion_1_0\n",
      "RGB images received. Transforming to grayscale.\n"
     ]
    },
    {
     "name": "stderr",
     "output_type": "stream",
     "text": [
      "rgb2gray: 100%|██████████| 134/134 [00:00<00:00, 3868.03it/s]\n"
     ]
    },
    {
     "name": "stdout",
     "output_type": "stream",
     "text": [
      "Got the result from ./1/test/filtrations/6/HeightFiltrartion_1_0/gray/diagrams.npy\n",
      "Applying Scaler to persistence diagrams.\n",
      "Got the result from ./1/test/filtrations/6/HeightFiltrartion_1_0/red/diagrams.npy\n",
      "Applying Scaler to persistence diagrams.\n",
      "Got the result from ./1/test/filtrations/6/HeightFiltrartion_1_0/green/diagrams.npy\n",
      "Applying Scaler to persistence diagrams.\n",
      "Got the result from ./1/test/filtrations/6/HeightFiltrartion_1_0/blue/diagrams.npy\n",
      "Applying Scaler to persistence diagrams.\n",
      "Applying filtration 57/72: 6/RadialFiltration_12_12\n",
      "RGB images received. Transforming to grayscale.\n"
     ]
    },
    {
     "name": "stderr",
     "output_type": "stream",
     "text": [
      "rgb2gray: 100%|██████████| 134/134 [00:00<00:00, 3901.65it/s]\n"
     ]
    },
    {
     "name": "stdout",
     "output_type": "stream",
     "text": [
      "Got the result from ./1/test/filtrations/6/RadialFiltration_12_12/gray/diagrams.npy\n",
      "Applying Scaler to persistence diagrams.\n",
      "Got the result from ./1/test/filtrations/6/RadialFiltration_12_12/red/diagrams.npy\n",
      "Applying Scaler to persistence diagrams.\n",
      "Got the result from ./1/test/filtrations/6/RadialFiltration_12_12/green/diagrams.npy\n",
      "Applying Scaler to persistence diagrams.\n",
      "Got the result from ./1/test/filtrations/6/RadialFiltration_12_12/blue/diagrams.npy\n",
      "Applying Scaler to persistence diagrams.\n",
      "Applying filtration 58/72: 6/RadialFiltration_12_25\n",
      "RGB images received. Transforming to grayscale.\n"
     ]
    },
    {
     "name": "stderr",
     "output_type": "stream",
     "text": [
      "rgb2gray: 100%|██████████| 134/134 [00:00<00:00, 4307.16it/s]\n"
     ]
    },
    {
     "name": "stdout",
     "output_type": "stream",
     "text": [
      "Got the result from ./1/test/filtrations/6/RadialFiltration_12_25/gray/diagrams.npy\n",
      "Applying Scaler to persistence diagrams.\n",
      "Got the result from ./1/test/filtrations/6/RadialFiltration_12_25/red/diagrams.npy\n",
      "Applying Scaler to persistence diagrams.\n",
      "Got the result from ./1/test/filtrations/6/RadialFiltration_12_25/green/diagrams.npy\n",
      "Applying Scaler to persistence diagrams.\n",
      "Got the result from ./1/test/filtrations/6/RadialFiltration_12_25/blue/diagrams.npy\n",
      "Applying Scaler to persistence diagrams.\n",
      "Applying filtration 59/72: 6/RadialFiltration_12_38\n",
      "RGB images received. Transforming to grayscale.\n"
     ]
    },
    {
     "name": "stderr",
     "output_type": "stream",
     "text": [
      "rgb2gray: 100%|██████████| 134/134 [00:00<00:00, 4366.59it/s]\n"
     ]
    },
    {
     "name": "stdout",
     "output_type": "stream",
     "text": [
      "Got the result from ./1/test/filtrations/6/RadialFiltration_12_38/gray/diagrams.npy\n",
      "Applying Scaler to persistence diagrams.\n",
      "Got the result from ./1/test/filtrations/6/RadialFiltration_12_38/red/diagrams.npy\n",
      "Applying Scaler to persistence diagrams.\n",
      "Got the result from ./1/test/filtrations/6/RadialFiltration_12_38/green/diagrams.npy\n",
      "Applying Scaler to persistence diagrams.\n",
      "Got the result from ./1/test/filtrations/6/RadialFiltration_12_38/blue/diagrams.npy\n",
      "Applying Scaler to persistence diagrams.\n",
      "Applying filtration 60/72: 6/RadialFiltration_12_51\n",
      "RGB images received. Transforming to grayscale.\n"
     ]
    },
    {
     "name": "stderr",
     "output_type": "stream",
     "text": [
      "rgb2gray: 100%|██████████| 134/134 [00:00<00:00, 4188.90it/s]\n"
     ]
    },
    {
     "name": "stdout",
     "output_type": "stream",
     "text": [
      "Got the result from ./1/test/filtrations/6/RadialFiltration_12_51/gray/diagrams.npy\n",
      "Applying Scaler to persistence diagrams.\n",
      "Got the result from ./1/test/filtrations/6/RadialFiltration_12_51/red/diagrams.npy\n",
      "Applying Scaler to persistence diagrams.\n",
      "Got the result from ./1/test/filtrations/6/RadialFiltration_12_51/green/diagrams.npy\n",
      "Applying Scaler to persistence diagrams.\n",
      "Got the result from ./1/test/filtrations/6/RadialFiltration_12_51/blue/diagrams.npy\n",
      "Applying Scaler to persistence diagrams.\n",
      "Applying filtration 61/72: 6/RadialFiltration_25_12\n",
      "RGB images received. Transforming to grayscale.\n"
     ]
    },
    {
     "name": "stderr",
     "output_type": "stream",
     "text": [
      "rgb2gray: 100%|██████████| 134/134 [00:00<00:00, 3176.89it/s]\n"
     ]
    },
    {
     "name": "stdout",
     "output_type": "stream",
     "text": [
      "Got the result from ./1/test/filtrations/6/RadialFiltration_25_12/gray/diagrams.npy\n",
      "Applying Scaler to persistence diagrams.\n",
      "Got the result from ./1/test/filtrations/6/RadialFiltration_25_12/red/diagrams.npy\n",
      "Applying Scaler to persistence diagrams.\n",
      "Got the result from ./1/test/filtrations/6/RadialFiltration_25_12/green/diagrams.npy\n",
      "Applying Scaler to persistence diagrams.\n",
      "Got the result from ./1/test/filtrations/6/RadialFiltration_25_12/blue/diagrams.npy\n",
      "Applying Scaler to persistence diagrams.\n",
      "Applying filtration 62/72: 6/RadialFiltration_25_25\n",
      "RGB images received. Transforming to grayscale.\n"
     ]
    },
    {
     "name": "stderr",
     "output_type": "stream",
     "text": [
      "rgb2gray: 100%|██████████| 134/134 [00:00<00:00, 4095.34it/s]\n"
     ]
    },
    {
     "name": "stdout",
     "output_type": "stream",
     "text": [
      "Got the result from ./1/test/filtrations/6/RadialFiltration_25_25/gray/diagrams.npy\n",
      "Applying Scaler to persistence diagrams.\n",
      "Got the result from ./1/test/filtrations/6/RadialFiltration_25_25/red/diagrams.npy\n",
      "Applying Scaler to persistence diagrams.\n",
      "Got the result from ./1/test/filtrations/6/RadialFiltration_25_25/green/diagrams.npy\n",
      "Applying Scaler to persistence diagrams.\n",
      "Got the result from ./1/test/filtrations/6/RadialFiltration_25_25/blue/diagrams.npy\n",
      "Applying Scaler to persistence diagrams.\n",
      "Applying filtration 63/72: 6/RadialFiltration_25_38\n",
      "RGB images received. Transforming to grayscale.\n"
     ]
    },
    {
     "name": "stderr",
     "output_type": "stream",
     "text": [
      "rgb2gray: 100%|██████████| 134/134 [00:00<00:00, 4028.97it/s]\n"
     ]
    },
    {
     "name": "stdout",
     "output_type": "stream",
     "text": [
      "Got the result from ./1/test/filtrations/6/RadialFiltration_25_38/gray/diagrams.npy\n",
      "Applying Scaler to persistence diagrams.\n",
      "Got the result from ./1/test/filtrations/6/RadialFiltration_25_38/red/diagrams.npy\n",
      "Applying Scaler to persistence diagrams.\n",
      "Got the result from ./1/test/filtrations/6/RadialFiltration_25_38/green/diagrams.npy\n",
      "Applying Scaler to persistence diagrams.\n",
      "Got the result from ./1/test/filtrations/6/RadialFiltration_25_38/blue/diagrams.npy\n",
      "Applying Scaler to persistence diagrams.\n",
      "Applying filtration 64/72: 6/RadialFiltration_25_51\n",
      "RGB images received. Transforming to grayscale.\n"
     ]
    },
    {
     "name": "stderr",
     "output_type": "stream",
     "text": [
      "rgb2gray: 100%|██████████| 134/134 [00:00<00:00, 4745.21it/s]\n"
     ]
    },
    {
     "name": "stdout",
     "output_type": "stream",
     "text": [
      "Got the result from ./1/test/filtrations/6/RadialFiltration_25_51/gray/diagrams.npy\n",
      "Applying Scaler to persistence diagrams.\n",
      "Got the result from ./1/test/filtrations/6/RadialFiltration_25_51/red/diagrams.npy\n",
      "Applying Scaler to persistence diagrams.\n",
      "Got the result from ./1/test/filtrations/6/RadialFiltration_25_51/green/diagrams.npy\n",
      "Applying Scaler to persistence diagrams.\n",
      "Got the result from ./1/test/filtrations/6/RadialFiltration_25_51/blue/diagrams.npy\n",
      "Applying Scaler to persistence diagrams.\n",
      "Applying filtration 65/72: 6/RadialFiltration_38_12\n",
      "RGB images received. Transforming to grayscale.\n"
     ]
    },
    {
     "name": "stderr",
     "output_type": "stream",
     "text": [
      "rgb2gray: 100%|██████████| 134/134 [00:00<00:00, 3847.51it/s]\n"
     ]
    },
    {
     "name": "stdout",
     "output_type": "stream",
     "text": [
      "Got the result from ./1/test/filtrations/6/RadialFiltration_38_12/gray/diagrams.npy\n",
      "Applying Scaler to persistence diagrams.\n",
      "Got the result from ./1/test/filtrations/6/RadialFiltration_38_12/red/diagrams.npy\n",
      "Applying Scaler to persistence diagrams.\n",
      "Got the result from ./1/test/filtrations/6/RadialFiltration_38_12/green/diagrams.npy\n",
      "Applying Scaler to persistence diagrams.\n",
      "Got the result from ./1/test/filtrations/6/RadialFiltration_38_12/blue/diagrams.npy\n",
      "Applying Scaler to persistence diagrams.\n",
      "Applying filtration 66/72: 6/RadialFiltration_38_25\n",
      "RGB images received. Transforming to grayscale.\n"
     ]
    },
    {
     "name": "stderr",
     "output_type": "stream",
     "text": [
      "rgb2gray: 100%|██████████| 134/134 [00:00<00:00, 4384.75it/s]\n"
     ]
    },
    {
     "name": "stdout",
     "output_type": "stream",
     "text": [
      "Got the result from ./1/test/filtrations/6/RadialFiltration_38_25/gray/diagrams.npy\n",
      "Applying Scaler to persistence diagrams.\n",
      "Got the result from ./1/test/filtrations/6/RadialFiltration_38_25/red/diagrams.npy\n",
      "Applying Scaler to persistence diagrams.\n",
      "Got the result from ./1/test/filtrations/6/RadialFiltration_38_25/green/diagrams.npy\n",
      "Applying Scaler to persistence diagrams.\n",
      "Got the result from ./1/test/filtrations/6/RadialFiltration_38_25/blue/diagrams.npy\n",
      "Applying Scaler to persistence diagrams.\n",
      "Applying filtration 67/72: 6/RadialFiltration_38_38\n",
      "RGB images received. Transforming to grayscale.\n"
     ]
    },
    {
     "name": "stderr",
     "output_type": "stream",
     "text": [
      "rgb2gray: 100%|██████████| 134/134 [00:00<00:00, 4041.07it/s]\n"
     ]
    },
    {
     "name": "stdout",
     "output_type": "stream",
     "text": [
      "Got the result from ./1/test/filtrations/6/RadialFiltration_38_38/gray/diagrams.npy\n",
      "Applying Scaler to persistence diagrams.\n",
      "Got the result from ./1/test/filtrations/6/RadialFiltration_38_38/red/diagrams.npy\n",
      "Applying Scaler to persistence diagrams.\n",
      "Got the result from ./1/test/filtrations/6/RadialFiltration_38_38/green/diagrams.npy\n",
      "Applying Scaler to persistence diagrams.\n",
      "Got the result from ./1/test/filtrations/6/RadialFiltration_38_38/blue/diagrams.npy\n",
      "Applying Scaler to persistence diagrams.\n",
      "Applying filtration 68/72: 6/RadialFiltration_38_51\n",
      "RGB images received. Transforming to grayscale.\n"
     ]
    },
    {
     "name": "stderr",
     "output_type": "stream",
     "text": [
      "rgb2gray: 100%|██████████| 134/134 [00:00<00:00, 2954.65it/s]\n"
     ]
    },
    {
     "name": "stdout",
     "output_type": "stream",
     "text": [
      "Got the result from ./1/test/filtrations/6/RadialFiltration_38_51/gray/diagrams.npy\n",
      "Applying Scaler to persistence diagrams.\n",
      "Got the result from ./1/test/filtrations/6/RadialFiltration_38_51/red/diagrams.npy\n",
      "Applying Scaler to persistence diagrams.\n",
      "Got the result from ./1/test/filtrations/6/RadialFiltration_38_51/green/diagrams.npy\n",
      "Applying Scaler to persistence diagrams.\n",
      "Got the result from ./1/test/filtrations/6/RadialFiltration_38_51/blue/diagrams.npy\n",
      "Applying Scaler to persistence diagrams.\n",
      "Applying filtration 69/72: 6/RadialFiltration_51_12\n",
      "RGB images received. Transforming to grayscale.\n"
     ]
    },
    {
     "name": "stderr",
     "output_type": "stream",
     "text": [
      "rgb2gray: 100%|██████████| 134/134 [00:00<00:00, 4119.90it/s]\n"
     ]
    },
    {
     "name": "stdout",
     "output_type": "stream",
     "text": [
      "Got the result from ./1/test/filtrations/6/RadialFiltration_51_12/gray/diagrams.npy\n",
      "Applying Scaler to persistence diagrams.\n",
      "Got the result from ./1/test/filtrations/6/RadialFiltration_51_12/red/diagrams.npy\n",
      "Applying Scaler to persistence diagrams.\n",
      "Got the result from ./1/test/filtrations/6/RadialFiltration_51_12/green/diagrams.npy\n",
      "Applying Scaler to persistence diagrams.\n",
      "Got the result from ./1/test/filtrations/6/RadialFiltration_51_12/blue/diagrams.npy\n",
      "Applying Scaler to persistence diagrams.\n",
      "Applying filtration 70/72: 6/RadialFiltration_51_25\n",
      "RGB images received. Transforming to grayscale.\n"
     ]
    },
    {
     "name": "stderr",
     "output_type": "stream",
     "text": [
      "rgb2gray: 100%|██████████| 134/134 [00:00<00:00, 4223.08it/s]\n"
     ]
    },
    {
     "name": "stdout",
     "output_type": "stream",
     "text": [
      "Got the result from ./1/test/filtrations/6/RadialFiltration_51_25/gray/diagrams.npy\n",
      "Applying Scaler to persistence diagrams.\n",
      "Got the result from ./1/test/filtrations/6/RadialFiltration_51_25/red/diagrams.npy\n",
      "Applying Scaler to persistence diagrams.\n",
      "Got the result from ./1/test/filtrations/6/RadialFiltration_51_25/green/diagrams.npy\n",
      "Applying Scaler to persistence diagrams.\n",
      "Got the result from ./1/test/filtrations/6/RadialFiltration_51_25/blue/diagrams.npy\n",
      "Applying Scaler to persistence diagrams.\n",
      "Applying filtration 71/72: 6/RadialFiltration_51_38\n",
      "RGB images received. Transforming to grayscale.\n"
     ]
    },
    {
     "name": "stderr",
     "output_type": "stream",
     "text": [
      "rgb2gray: 100%|██████████| 134/134 [00:00<00:00, 4820.42it/s]\n"
     ]
    },
    {
     "name": "stdout",
     "output_type": "stream",
     "text": [
      "Got the result from ./1/test/filtrations/6/RadialFiltration_51_38/gray/diagrams.npy\n",
      "Applying Scaler to persistence diagrams.\n",
      "Got the result from ./1/test/filtrations/6/RadialFiltration_51_38/red/diagrams.npy\n",
      "Applying Scaler to persistence diagrams.\n",
      "Got the result from ./1/test/filtrations/6/RadialFiltration_51_38/green/diagrams.npy\n",
      "Applying Scaler to persistence diagrams.\n",
      "Got the result from ./1/test/filtrations/6/RadialFiltration_51_38/blue/diagrams.npy\n",
      "Applying Scaler to persistence diagrams.\n",
      "Applying filtration 72/72: 6/RadialFiltration_51_51\n",
      "RGB images received. Transforming to grayscale.\n"
     ]
    },
    {
     "name": "stderr",
     "output_type": "stream",
     "text": [
      "rgb2gray: 100%|██████████| 134/134 [00:00<00:00, 3507.67it/s]\n"
     ]
    },
    {
     "name": "stdout",
     "output_type": "stream",
     "text": [
      "Got the result from ./1/test/filtrations/6/RadialFiltration_51_51/gray/diagrams.npy\n",
      "Applying Scaler to persistence diagrams.\n",
      "Got the result from ./1/test/filtrations/6/RadialFiltration_51_51/red/diagrams.npy\n",
      "Applying Scaler to persistence diagrams.\n",
      "Got the result from ./1/test/filtrations/6/RadialFiltration_51_51/green/diagrams.npy\n",
      "Applying Scaler to persistence diagrams.\n",
      "Got the result from ./1/test/filtrations/6/RadialFiltration_51_51/blue/diagrams.npy\n",
      "Applying Scaler to persistence diagrams.\n",
      "Diagrams requested. Returning diagrams.\n"
     ]
    }
   ],
   "source": [
    "import cvtda.topology\n",
    "extractor = cvtda.topology.FeatureExtractor(only_get_from_dump = True, return_diagrams = True)\n",
    "extractor = extractor.fit(train_images, \"1/train\")\n",
    "train_diagrams = extractor.transform(train_images, \"1/train\")\n",
    "test_diagrams = extractor.transform(test_images, \"1/test\")"
   ]
  },
  {
   "cell_type": "code",
   "execution_count": null,
   "metadata": {},
   "outputs": [
    {
     "name": "stderr",
     "output_type": "stream",
     "text": [
      "Dataset: processing diagrams: 100%|██████████| 296/296 [10:06<00:00,  2.05s/it]\n"
     ]
    },
    {
     "name": "stdout",
     "output_type": "stream",
     "text": [
      "Constructed a dataset of 9030 images of shape torch.Size([3, 64, 64]) with 592 diagrams and 57599 features\n"
     ]
    },
    {
     "name": "stderr",
     "output_type": "stream",
     "text": [
      "Dataset: processing diagrams: 100%|██████████| 296/296 [00:08<00:00, 34.93it/s]\n"
     ]
    },
    {
     "name": "stdout",
     "output_type": "stream",
     "text": [
      "Constructed a dataset of 134 images of shape torch.Size([3, 64, 64]) with 592 diagrams and 57599 features\n",
      "Trying SimpleTopologicalLearner - <cvtda.face_recognition.SimpleTopologicalLearner.SimpleTopologicalLearner object at 0x000001C3C5C374F0>\n"
     ]
    },
    {
     "name": "stderr",
     "output_type": "stream",
     "text": [
      "Calculating pairwise distances: 100%|██████████| 17956/17956 [00:02<00:00, 7309.16it/s]\n",
      "Analyzing distances: 100%|██████████| 17956/17956 [00:01<00:00, 11166.68it/s]\n"
     ]
    },
    {
     "name": "stdout",
     "output_type": "stream",
     "text": [
      "Trying DiagramsLearner - <cvtda.face_recognition.DiagramsLearner.DiagramsLearner object at 0x000001C4BCB394B0>\n"
     ]
    },
    {
     "name": "stderr",
     "output_type": "stream",
     "text": [
      "Calculating pairwise distances: 100%|██████████| 17956/17956 [39:23<00:00,  7.60it/s]\n",
      "Analyzing distances: 100%|██████████| 17956/17956 [00:02<00:00, 6227.78it/s]\n",
      "d:\\Programs\\Programming\\Python\\lib\\site-packages\\torch\\nn\\init.py:511: UserWarning: Initializing zero-element tensors is a no-op\n",
      "  warnings.warn(\"Initializing zero-element tensors is a no-op\")\n"
     ]
    },
    {
     "name": "stdout",
     "output_type": "stream",
     "text": [
      "Trying NNLearner_images - <cvtda.face_recognition.NNLearner.NNLearner object at 0x000001C3D172FFD0>\n",
      "Topology:  False\n",
      "Images:  torch.Size([64, 3, 64, 64])\n",
      "Features:  torch.Size([64, 57599])\n",
      "Parameters: 23541840\n"
     ]
    },
    {
     "name": "stderr",
     "output_type": "stream",
     "text": [
      "Train: 100%|██████████| 100/100 [20:44<00:00, 12.45s/it, loss=7.94, AMI=0.386, NMI=0.705, mean_average_precision=0.487, mean_average_precision_at_r=0.346, mean_reciprocal_rank=0.623, precision_at_1=0.493, r_precision=0.421]\n",
      "Calculating pairwise distances: 100%|██████████| 17956/17956 [02:22<00:00, 125.81it/s]\n",
      "Analyzing distances: 100%|██████████| 17956/17956 [00:01<00:00, 10336.36it/s]\n",
      "d:\\Programs\\Programming\\Python\\lib\\site-packages\\torch\\nn\\init.py:511: UserWarning: Initializing zero-element tensors is a no-op\n",
      "  warnings.warn(\"Initializing zero-element tensors is a no-op\")\n"
     ]
    },
    {
     "name": "stdout",
     "output_type": "stream",
     "text": [
      "Trying NNLearner_features - <cvtda.face_recognition.NNLearner.NNLearner object at 0x000001C3D172FFA0>\n",
      "Topology:  True\n",
      "Images:  torch.Size([64, 3, 64, 64])\n",
      "Features:  torch.Size([64, 57599])\n",
      "Input to LazyLinear: 1024\n",
      "Parameters: 61349888\n"
     ]
    },
    {
     "name": "stderr",
     "output_type": "stream",
     "text": [
      "Train: 100%|██████████| 200/200 [12:34<00:00,  3.77s/it, loss=9.84, AMI=0.306, NMI=0.673, mean_average_precision=0.368, mean_average_precision_at_r=0.209, mean_reciprocal_rank=0.508, precision_at_1=0.336, r_precision=0.294]\n",
      "Calculating pairwise distances: 100%|██████████| 17956/17956 [00:29<00:00, 609.09it/s]\n",
      "Analyzing distances: 100%|██████████| 17956/17956 [00:01<00:00, 14286.11it/s]\n",
      "d:\\Programs\\Programming\\Python\\lib\\site-packages\\torch\\nn\\init.py:511: UserWarning: Initializing zero-element tensors is a no-op\n",
      "  warnings.warn(\"Initializing zero-element tensors is a no-op\")\n"
     ]
    },
    {
     "name": "stdout",
     "output_type": "stream",
     "text": [
      "Trying NNLearner_features_images - <cvtda.face_recognition.NNLearner.NNLearner object at 0x000001C3D172E320>\n",
      "Topology:  True\n",
      "Images:  torch.Size([64, 3, 64, 64])\n",
      "Features:  torch.Size([64, 57599])\n",
      "Input to LazyLinear: 1280\n",
      "Parameters: 85644608\n"
     ]
    },
    {
     "name": "stderr",
     "output_type": "stream",
     "text": [
      "Train: 100%|██████████| 100/100 [24:23<00:00, 14.63s/it, loss=10.1, AMI=0.273, NMI=0.659, mean_average_precision=0.341, mean_average_precision_at_r=0.198, mean_reciprocal_rank=0.504, precision_at_1=0.373, r_precision=0.275]\n",
      "Calculating pairwise distances: 100%|██████████| 17956/17956 [02:30<00:00, 119.34it/s]\n",
      "Analyzing distances: 100%|██████████| 17956/17956 [00:01<00:00, 12938.70it/s]\n"
     ]
    },
    {
     "name": "stdout",
     "output_type": "stream",
     "text": [
      "Trying NNLearner_diagrams - <cvtda.face_recognition.NNLearner.NNLearner object at 0x000001C3D1758280>\n",
      "Topology:  True\n",
      "Images:  torch.Size([64, 3, 64, 64])\n",
      "Features:  torch.Size([64, 57599])\n",
      "Input to LazyLinear: 1024\n",
      "Parameters: 41316352\n"
     ]
    },
    {
     "name": "stderr",
     "output_type": "stream",
     "text": [
      "Train: 100%|██████████| 25/25 [2:25:40<00:00, 349.62s/it, loss=10.3, AMI=0.218, NMI=0.624, mean_average_precision=0.278, mean_average_precision_at_r=0.164, mean_reciprocal_rank=0.398, precision_at_1=0.254, r_precision=0.225]  \n",
      "Calculating pairwise distances: 100%|██████████| 17956/17956 [1:16:06<00:00,  3.93it/s]\n",
      "Analyzing distances: 100%|██████████| 17956/17956 [00:02<00:00, 7075.23it/s]\n"
     ]
    },
    {
     "ename": "FileNotFoundError",
     "evalue": "[Errno 2] No such file or directory: '6/predictions/distributions.svg'",
     "output_type": "error",
     "traceback": [
      "\u001b[1;31m---------------------------------------------------------------------------\u001b[0m",
      "\u001b[1;31mFileNotFoundError\u001b[0m                         Traceback (most recent call last)",
      "Cell \u001b[1;32mIn[10], line 12\u001b[0m\n\u001b[0;32m     10\u001b[0m plt\u001b[38;5;241m.\u001b[39mgcf()\u001b[38;5;241m.\u001b[39msuptitle(\u001b[38;5;124m\"\u001b[39m\u001b[38;5;124mLabeled Faces in the Wild\u001b[39m\u001b[38;5;124m\"\u001b[39m, fontsize \u001b[38;5;241m=\u001b[39m \u001b[38;5;241m12\u001b[39m)\n\u001b[0;32m     11\u001b[0m plt\u001b[38;5;241m.\u001b[39mgcf()\u001b[38;5;241m.\u001b[39mtight_layout()\n\u001b[1;32m---> 12\u001b[0m \u001b[43mplt\u001b[49m\u001b[38;5;241;43m.\u001b[39;49m\u001b[43mgcf\u001b[49m\u001b[43m(\u001b[49m\u001b[43m)\u001b[49m\u001b[38;5;241;43m.\u001b[39;49m\u001b[43msavefig\u001b[49m\u001b[43m(\u001b[49m\u001b[38;5;124;43m\"\u001b[39;49m\u001b[38;5;124;43m6/predictions/distributions.svg\u001b[39;49m\u001b[38;5;124;43m\"\u001b[39;49m\u001b[43m)\u001b[49m\n\u001b[0;32m     13\u001b[0m plt\u001b[38;5;241m.\u001b[39mgcf()\u001b[38;5;241m.\u001b[39msavefig(\u001b[38;5;124m\"\u001b[39m\u001b[38;5;124m6/predictions/distributions.png\u001b[39m\u001b[38;5;124m\"\u001b[39m)\n",
      "File \u001b[1;32md:\\Programs\\Programming\\Python\\lib\\site-packages\\matplotlib\\figure.py:3490\u001b[0m, in \u001b[0;36mFigure.savefig\u001b[1;34m(self, fname, transparent, **kwargs)\u001b[0m\n\u001b[0;32m   3488\u001b[0m     \u001b[38;5;28;01mfor\u001b[39;00m ax \u001b[38;5;129;01min\u001b[39;00m \u001b[38;5;28mself\u001b[39m\u001b[38;5;241m.\u001b[39maxes:\n\u001b[0;32m   3489\u001b[0m         _recursively_make_axes_transparent(stack, ax)\n\u001b[1;32m-> 3490\u001b[0m \u001b[38;5;28mself\u001b[39m\u001b[38;5;241m.\u001b[39mcanvas\u001b[38;5;241m.\u001b[39mprint_figure(fname, \u001b[38;5;241m*\u001b[39m\u001b[38;5;241m*\u001b[39mkwargs)\n",
      "File \u001b[1;32md:\\Programs\\Programming\\Python\\lib\\site-packages\\matplotlib\\backend_bases.py:2184\u001b[0m, in \u001b[0;36mFigureCanvasBase.print_figure\u001b[1;34m(self, filename, dpi, facecolor, edgecolor, orientation, format, bbox_inches, pad_inches, bbox_extra_artists, backend, **kwargs)\u001b[0m\n\u001b[0;32m   2180\u001b[0m \u001b[38;5;28;01mtry\u001b[39;00m:\n\u001b[0;32m   2181\u001b[0m     \u001b[38;5;66;03m# _get_renderer may change the figure dpi (as vector formats\u001b[39;00m\n\u001b[0;32m   2182\u001b[0m     \u001b[38;5;66;03m# force the figure dpi to 72), so we need to set it again here.\u001b[39;00m\n\u001b[0;32m   2183\u001b[0m     \u001b[38;5;28;01mwith\u001b[39;00m cbook\u001b[38;5;241m.\u001b[39m_setattr_cm(\u001b[38;5;28mself\u001b[39m\u001b[38;5;241m.\u001b[39mfigure, dpi\u001b[38;5;241m=\u001b[39mdpi):\n\u001b[1;32m-> 2184\u001b[0m         result \u001b[38;5;241m=\u001b[39m print_method(\n\u001b[0;32m   2185\u001b[0m             filename,\n\u001b[0;32m   2186\u001b[0m             facecolor\u001b[38;5;241m=\u001b[39mfacecolor,\n\u001b[0;32m   2187\u001b[0m             edgecolor\u001b[38;5;241m=\u001b[39medgecolor,\n\u001b[0;32m   2188\u001b[0m             orientation\u001b[38;5;241m=\u001b[39morientation,\n\u001b[0;32m   2189\u001b[0m             bbox_inches_restore\u001b[38;5;241m=\u001b[39m_bbox_inches_restore,\n\u001b[0;32m   2190\u001b[0m             \u001b[38;5;241m*\u001b[39m\u001b[38;5;241m*\u001b[39mkwargs)\n\u001b[0;32m   2191\u001b[0m \u001b[38;5;28;01mfinally\u001b[39;00m:\n\u001b[0;32m   2192\u001b[0m     \u001b[38;5;28;01mif\u001b[39;00m bbox_inches \u001b[38;5;129;01mand\u001b[39;00m restore_bbox:\n",
      "File \u001b[1;32md:\\Programs\\Programming\\Python\\lib\\site-packages\\matplotlib\\backend_bases.py:2040\u001b[0m, in \u001b[0;36mFigureCanvasBase._switch_canvas_and_return_print_method.<locals>.<lambda>\u001b[1;34m(*args, **kwargs)\u001b[0m\n\u001b[0;32m   2036\u001b[0m     optional_kws \u001b[38;5;241m=\u001b[39m {  \u001b[38;5;66;03m# Passed by print_figure for other renderers.\u001b[39;00m\n\u001b[0;32m   2037\u001b[0m         \u001b[38;5;124m\"\u001b[39m\u001b[38;5;124mdpi\u001b[39m\u001b[38;5;124m\"\u001b[39m, \u001b[38;5;124m\"\u001b[39m\u001b[38;5;124mfacecolor\u001b[39m\u001b[38;5;124m\"\u001b[39m, \u001b[38;5;124m\"\u001b[39m\u001b[38;5;124medgecolor\u001b[39m\u001b[38;5;124m\"\u001b[39m, \u001b[38;5;124m\"\u001b[39m\u001b[38;5;124morientation\u001b[39m\u001b[38;5;124m\"\u001b[39m,\n\u001b[0;32m   2038\u001b[0m         \u001b[38;5;124m\"\u001b[39m\u001b[38;5;124mbbox_inches_restore\u001b[39m\u001b[38;5;124m\"\u001b[39m}\n\u001b[0;32m   2039\u001b[0m     skip \u001b[38;5;241m=\u001b[39m optional_kws \u001b[38;5;241m-\u001b[39m {\u001b[38;5;241m*\u001b[39minspect\u001b[38;5;241m.\u001b[39msignature(meth)\u001b[38;5;241m.\u001b[39mparameters}\n\u001b[1;32m-> 2040\u001b[0m     print_method \u001b[38;5;241m=\u001b[39m functools\u001b[38;5;241m.\u001b[39mwraps(meth)(\u001b[38;5;28;01mlambda\u001b[39;00m \u001b[38;5;241m*\u001b[39margs, \u001b[38;5;241m*\u001b[39m\u001b[38;5;241m*\u001b[39mkwargs: meth(\n\u001b[0;32m   2041\u001b[0m         \u001b[38;5;241m*\u001b[39margs, \u001b[38;5;241m*\u001b[39m\u001b[38;5;241m*\u001b[39m{k: v \u001b[38;5;28;01mfor\u001b[39;00m k, v \u001b[38;5;129;01min\u001b[39;00m kwargs\u001b[38;5;241m.\u001b[39mitems() \u001b[38;5;28;01mif\u001b[39;00m k \u001b[38;5;129;01mnot\u001b[39;00m \u001b[38;5;129;01min\u001b[39;00m skip}))\n\u001b[0;32m   2042\u001b[0m \u001b[38;5;28;01melse\u001b[39;00m:  \u001b[38;5;66;03m# Let third-parties do as they see fit.\u001b[39;00m\n\u001b[0;32m   2043\u001b[0m     print_method \u001b[38;5;241m=\u001b[39m meth\n",
      "File \u001b[1;32md:\\Programs\\Programming\\Python\\lib\\site-packages\\matplotlib\\backends\\backend_svg.py:1340\u001b[0m, in \u001b[0;36mFigureCanvasSVG.print_svg\u001b[1;34m(self, filename, bbox_inches_restore, metadata)\u001b[0m\n\u001b[0;32m   1308\u001b[0m \u001b[38;5;28;01mdef\u001b[39;00m \u001b[38;5;21mprint_svg\u001b[39m(\u001b[38;5;28mself\u001b[39m, filename, \u001b[38;5;241m*\u001b[39m, bbox_inches_restore\u001b[38;5;241m=\u001b[39m\u001b[38;5;28;01mNone\u001b[39;00m, metadata\u001b[38;5;241m=\u001b[39m\u001b[38;5;28;01mNone\u001b[39;00m):\n\u001b[0;32m   1309\u001b[0m \u001b[38;5;250m    \u001b[39m\u001b[38;5;124;03m\"\"\"\u001b[39;00m\n\u001b[0;32m   1310\u001b[0m \u001b[38;5;124;03m    Parameters\u001b[39;00m\n\u001b[0;32m   1311\u001b[0m \u001b[38;5;124;03m    ----------\u001b[39;00m\n\u001b[1;32m   (...)\u001b[0m\n\u001b[0;32m   1338\u001b[0m \u001b[38;5;124;03m        __ DC_\u001b[39;00m\n\u001b[0;32m   1339\u001b[0m \u001b[38;5;124;03m    \"\"\"\u001b[39;00m\n\u001b[1;32m-> 1340\u001b[0m     \u001b[38;5;28;01mwith\u001b[39;00m \u001b[43mcbook\u001b[49m\u001b[38;5;241;43m.\u001b[39;49m\u001b[43mopen_file_cm\u001b[49m\u001b[43m(\u001b[49m\u001b[43mfilename\u001b[49m\u001b[43m,\u001b[49m\u001b[43m \u001b[49m\u001b[38;5;124;43m\"\u001b[39;49m\u001b[38;5;124;43mw\u001b[39;49m\u001b[38;5;124;43m\"\u001b[39;49m\u001b[43m,\u001b[49m\u001b[43m \u001b[49m\u001b[43mencoding\u001b[49m\u001b[38;5;241;43m=\u001b[39;49m\u001b[38;5;124;43m\"\u001b[39;49m\u001b[38;5;124;43mutf-8\u001b[39;49m\u001b[38;5;124;43m\"\u001b[39;49m\u001b[43m)\u001b[49m \u001b[38;5;28;01mas\u001b[39;00m fh:\n\u001b[0;32m   1341\u001b[0m         \u001b[38;5;28;01mif\u001b[39;00m \u001b[38;5;129;01mnot\u001b[39;00m cbook\u001b[38;5;241m.\u001b[39mfile_requires_unicode(fh):\n\u001b[0;32m   1342\u001b[0m             fh \u001b[38;5;241m=\u001b[39m codecs\u001b[38;5;241m.\u001b[39mgetwriter(\u001b[38;5;124m'\u001b[39m\u001b[38;5;124mutf-8\u001b[39m\u001b[38;5;124m'\u001b[39m)(fh)\n",
      "File \u001b[1;32md:\\Programs\\Programming\\Python\\lib\\site-packages\\matplotlib\\cbook.py:560\u001b[0m, in \u001b[0;36mopen_file_cm\u001b[1;34m(path_or_file, mode, encoding)\u001b[0m\n\u001b[0;32m    558\u001b[0m \u001b[38;5;28;01mdef\u001b[39;00m \u001b[38;5;21mopen_file_cm\u001b[39m(path_or_file, mode\u001b[38;5;241m=\u001b[39m\u001b[38;5;124m\"\u001b[39m\u001b[38;5;124mr\u001b[39m\u001b[38;5;124m\"\u001b[39m, encoding\u001b[38;5;241m=\u001b[39m\u001b[38;5;28;01mNone\u001b[39;00m):\n\u001b[0;32m    559\u001b[0m \u001b[38;5;250m    \u001b[39m\u001b[38;5;124mr\u001b[39m\u001b[38;5;124;03m\"\"\"Pass through file objects and context-manage path-likes.\"\"\"\u001b[39;00m\n\u001b[1;32m--> 560\u001b[0m     fh, opened \u001b[38;5;241m=\u001b[39m \u001b[43mto_filehandle\u001b[49m\u001b[43m(\u001b[49m\u001b[43mpath_or_file\u001b[49m\u001b[43m,\u001b[49m\u001b[43m \u001b[49m\u001b[43mmode\u001b[49m\u001b[43m,\u001b[49m\u001b[43m \u001b[49m\u001b[38;5;28;43;01mTrue\u001b[39;49;00m\u001b[43m,\u001b[49m\u001b[43m \u001b[49m\u001b[43mencoding\u001b[49m\u001b[43m)\u001b[49m\n\u001b[0;32m    561\u001b[0m     \u001b[38;5;28;01mreturn\u001b[39;00m fh \u001b[38;5;28;01mif\u001b[39;00m opened \u001b[38;5;28;01melse\u001b[39;00m contextlib\u001b[38;5;241m.\u001b[39mnullcontext(fh)\n",
      "File \u001b[1;32md:\\Programs\\Programming\\Python\\lib\\site-packages\\matplotlib\\cbook.py:546\u001b[0m, in \u001b[0;36mto_filehandle\u001b[1;34m(fname, flag, return_opened, encoding)\u001b[0m\n\u001b[0;32m    544\u001b[0m         fh \u001b[38;5;241m=\u001b[39m bz2\u001b[38;5;241m.\u001b[39mBZ2File(fname, flag)\n\u001b[0;32m    545\u001b[0m     \u001b[38;5;28;01melse\u001b[39;00m:\n\u001b[1;32m--> 546\u001b[0m         fh \u001b[38;5;241m=\u001b[39m \u001b[38;5;28;43mopen\u001b[39;49m\u001b[43m(\u001b[49m\u001b[43mfname\u001b[49m\u001b[43m,\u001b[49m\u001b[43m \u001b[49m\u001b[43mflag\u001b[49m\u001b[43m,\u001b[49m\u001b[43m \u001b[49m\u001b[43mencoding\u001b[49m\u001b[38;5;241;43m=\u001b[39;49m\u001b[43mencoding\u001b[49m\u001b[43m)\u001b[49m\n\u001b[0;32m    547\u001b[0m     opened \u001b[38;5;241m=\u001b[39m \u001b[38;5;28;01mTrue\u001b[39;00m\n\u001b[0;32m    548\u001b[0m \u001b[38;5;28;01melif\u001b[39;00m \u001b[38;5;28mhasattr\u001b[39m(fname, \u001b[38;5;124m'\u001b[39m\u001b[38;5;124mseek\u001b[39m\u001b[38;5;124m'\u001b[39m):\n",
      "\u001b[1;31mFileNotFoundError\u001b[0m: [Errno 2] No such file or directory: '6/predictions/distributions.svg'"
     ]
    },
    {
     "data": {
      "image/png": "[encoded data removed]",
      "text/plain": [
       "<Figure size 1200x500 with 6 Axes>"
      ]
     },
     "metadata": {},
     "output_type": "display_data"
    }
   ],
   "source": [
    "import matplotlib.pyplot as plt\n",
    "import cvtda.face_recognition\n",
    "\n",
    "cvtda.face_recognition.learn(\n",
    "    train_images, train_features, train_labels, train_diagrams,\n",
    "    test_images, test_features, test_labels, test_diagrams,\n",
    "    dump_name = \"3/predictions\", n_jobs = 1\n",
    ")\n",
    "\n",
    "plt.gcf().suptitle(\"Labeled Faces in the Wild\", fontsize = 12)\n",
    "plt.gcf().tight_layout()\n",
    "plt.gcf().savefig(\"3/predictions/distributions.svg\")\n",
    "plt.gcf().savefig(\"3/predictions/distributions.png\")"
   ]
  }
 ],
 "metadata": {
  "kernelspec": {
   "display_name": "Python 3",
   "language": "python",
   "name": "python3"
  },
  "language_info": {
   "codemirror_mode": {
    "name": "ipython",
    "version": 3
   },
   "file_extension": ".py",
   "mimetype": "text/x-python",
   "name": "python",
   "nbconvert_exporter": "python",
   "pygments_lexer": "ipython3",
   "version": "3.10.11"
  }
 },
 "nbformat": 4,
 "nbformat_minor": 2
}
