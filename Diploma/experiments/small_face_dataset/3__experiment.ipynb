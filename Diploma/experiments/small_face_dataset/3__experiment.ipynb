{
 "cells": [
  {
   "cell_type": "code",
   "execution_count": 8,
   "metadata": {},
   "outputs": [],
   "source": [
    "import torchvision\n",
    "import torchvision.transforms.v2\n",
    "\n",
    "transform = torchvision.transforms.v2.Compose([\n",
    "    torchvision.transforms.v2.Resize((64, 64), antialias = True),\n",
    "    torchvision.transforms.v2.Grayscale(),\n",
    "])\n",
    "\n",
    "train = torchvision.datasets.ImageFolder(\"faces/training\", transform = transform)\n",
    "test = torchvision.datasets.ImageFolder(\"faces/testing\", transform = transform)"
   ]
  },
  {
   "cell_type": "code",
   "execution_count": 9,
   "metadata": {},
   "outputs": [
    {
     "name": "stderr",
     "output_type": "stream",
     "text": [
      "100%|██████████| 370/370 [00:00<00:00, 4146.60it/s]\n",
      "100%|██████████| 30/30 [00:00<00:00, 3745.81it/s]\n"
     ]
    },
    {
     "data": {
      "text/plain": [
       "((370, 64, 64), (30, 64, 64))"
      ]
     },
     "execution_count": 9,
     "metadata": {},
     "output_type": "execute_result"
    }
   ],
   "source": [
    "import tqdm\n",
    "import numpy\n",
    "\n",
    "train_images = numpy.array([ numpy.array(item[0]) / 255. for item in tqdm.tqdm(train) ])\n",
    "train_labels = numpy.array([ item[1] for item in train ])\n",
    "\n",
    "test_images = numpy.array([ numpy.array(item[0]) / 255. for item in tqdm.tqdm(test) ])\n",
    "test_labels = numpy.array([ item[1] for item in test ])\n",
    "\n",
    "train_images.shape, test_images.shape"
   ]
  },
  {
   "cell_type": "code",
   "execution_count": 10,
   "metadata": {},
   "outputs": [
    {
     "name": "stdout",
     "output_type": "stream",
     "text": [
      "Calculating inverted images\n",
      "GreyscaleExtractor: processing 3/train/greyscale, do_fit = True\n",
      "Got the result from ./3/train/greyscale/diagrams.npy\n",
      "Applying Scaler to persistence diagrams.\n",
      "DiagramVectorizer: fitting complete\n",
      "Got the result from ./3/train/greyscale/features.npy\n",
      "Got the result from ./3/train/greyscale/features.npy\n",
      "GreyscaleExtractor: processing 3/train/inverted_greyscale, do_fit = True\n",
      "Got the result from ./3/train/inverted_greyscale/diagrams.npy\n",
      "Applying Scaler to persistence diagrams.\n",
      "DiagramVectorizer: fitting complete\n",
      "Got the result from ./3/train/inverted_greyscale/features.npy\n",
      "Got the result from ./3/train/inverted_greyscale/features.npy\n",
      "Fitting filtrations\n",
      "Calculated radial centers for images of size 64x64: [12 25 38 51]x[12 25 38 51]\n",
      "Fitting filtration 1/116: 2/HeightFiltrartion_-1_-1\n",
      "FiltrationExtractor: processing 3/train/filtrations/2/HeightFiltrartion_-1_-1, do_fit = True, filtration = HeightFiltration(direction=array([-1, -1]), n_jobs=-1)\n",
      "Got the result from ./3/train/filtrations/2/HeightFiltrartion_-1_-1/diagrams.npy\n",
      "Applying Scaler to persistence diagrams.\n",
      "DiagramVectorizer: fitting complete\n",
      "Got the result from ./3/train/filtrations/2/HeightFiltrartion_-1_-1/features.npy\n",
      "Fitting filtration 2/116: 2/HeightFiltrartion_1_1\n",
      "FiltrationExtractor: processing 3/train/filtrations/2/HeightFiltrartion_1_1, do_fit = True, filtration = HeightFiltration(direction=array([1, 1]), n_jobs=-1)\n",
      "Got the result from ./3/train/filtrations/2/HeightFiltrartion_1_1/diagrams.npy\n",
      "Applying Scaler to persistence diagrams.\n",
      "DiagramVectorizer: fitting complete\n",
      "Got the result from ./3/train/filtrations/2/HeightFiltrartion_1_1/features.npy\n",
      "Fitting filtration 3/116: 2/HeightFiltrartion_1_-1\n",
      "FiltrationExtractor: processing 3/train/filtrations/2/HeightFiltrartion_1_-1, do_fit = True, filtration = HeightFiltration(direction=array([ 1, -1]), n_jobs=-1)\n",
      "Got the result from ./3/train/filtrations/2/HeightFiltrartion_1_-1/diagrams.npy\n",
      "Applying Scaler to persistence diagrams.\n",
      "DiagramVectorizer: fitting complete\n",
      "Got the result from ./3/train/filtrations/2/HeightFiltrartion_1_-1/features.npy\n",
      "Fitting filtration 4/116: 2/HeightFiltrartion_-1_1\n",
      "FiltrationExtractor: processing 3/train/filtrations/2/HeightFiltrartion_-1_1, do_fit = True, filtration = HeightFiltration(direction=array([-1,  1]), n_jobs=-1)\n",
      "Got the result from ./3/train/filtrations/2/HeightFiltrartion_-1_1/diagrams.npy\n",
      "Applying Scaler to persistence diagrams.\n",
      "DiagramVectorizer: fitting complete\n",
      "Got the result from ./3/train/filtrations/2/HeightFiltrartion_-1_1/features.npy\n",
      "Fitting filtration 5/116: 2/HeightFiltrartion_0_-1\n",
      "FiltrationExtractor: processing 3/train/filtrations/2/HeightFiltrartion_0_-1, do_fit = True, filtration = HeightFiltration(direction=array([ 0, -1]), n_jobs=-1)\n",
      "Got the result from ./3/train/filtrations/2/HeightFiltrartion_0_-1/diagrams.npy\n",
      "Applying Scaler to persistence diagrams.\n",
      "DiagramVectorizer: fitting complete\n",
      "Got the result from ./3/train/filtrations/2/HeightFiltrartion_0_-1/features.npy\n",
      "Fitting filtration 6/116: 2/HeightFiltrartion_0_1\n",
      "FiltrationExtractor: processing 3/train/filtrations/2/HeightFiltrartion_0_1, do_fit = True, filtration = HeightFiltration(direction=array([0, 1]), n_jobs=-1)\n",
      "Got the result from ./3/train/filtrations/2/HeightFiltrartion_0_1/diagrams.npy\n",
      "Applying Scaler to persistence diagrams.\n",
      "DiagramVectorizer: fitting complete\n",
      "Got the result from ./3/train/filtrations/2/HeightFiltrartion_0_1/features.npy\n",
      "Fitting filtration 7/116: 2/HeightFiltrartion_-1_0\n",
      "FiltrationExtractor: processing 3/train/filtrations/2/HeightFiltrartion_-1_0, do_fit = True, filtration = HeightFiltration(direction=array([-1,  0]), n_jobs=-1)\n",
      "Got the result from ./3/train/filtrations/2/HeightFiltrartion_-1_0/diagrams.npy\n",
      "Applying Scaler to persistence diagrams.\n",
      "DiagramVectorizer: fitting complete\n",
      "Got the result from ./3/train/filtrations/2/HeightFiltrartion_-1_0/features.npy\n",
      "Fitting filtration 8/116: 2/HeightFiltrartion_1_0\n",
      "FiltrationExtractor: processing 3/train/filtrations/2/HeightFiltrartion_1_0, do_fit = True, filtration = HeightFiltration(direction=array([1, 0]), n_jobs=-1)\n",
      "Got the result from ./3/train/filtrations/2/HeightFiltrartion_1_0/diagrams.npy\n",
      "Applying Scaler to persistence diagrams.\n",
      "DiagramVectorizer: fitting complete\n",
      "Got the result from ./3/train/filtrations/2/HeightFiltrartion_1_0/features.npy\n",
      "Fitting filtration 9/116: 2/RadialFiltration_12_12\n",
      "FiltrationExtractor: processing 3/train/filtrations/2/RadialFiltration_12_12, do_fit = True, filtration = RadialFiltration(center=array([12, 12]), n_jobs=-1)\n",
      "Saving the result to ./3/train/filtrations/2/RadialFiltration_12_12/diagrams.npy\n",
      "Applying Scaler to persistence diagrams.\n",
      "DiagramVectorizer: fitting complete\n"
     ]
    },
    {
     "name": "stderr",
     "output_type": "stream",
     "text": [
      "DiagramVectorizer: batch: 100%|██████████| 1/1 [00:05<00:00,  5.31s/it]\n"
     ]
    },
    {
     "name": "stdout",
     "output_type": "stream",
     "text": [
      "Saving the result to ./3/train/filtrations/2/RadialFiltration_12_12/features.npy\n",
      "Fitting filtration 10/116: 2/RadialFiltration_12_25\n",
      "FiltrationExtractor: processing 3/train/filtrations/2/RadialFiltration_12_25, do_fit = True, filtration = RadialFiltration(center=array([12, 25]), n_jobs=-1)\n",
      "Saving the result to ./3/train/filtrations/2/RadialFiltration_12_25/diagrams.npy\n",
      "Applying Scaler to persistence diagrams.\n",
      "DiagramVectorizer: fitting complete\n"
     ]
    },
    {
     "name": "stderr",
     "output_type": "stream",
     "text": [
      "DiagramVectorizer: batch: 100%|██████████| 1/1 [00:05<00:00,  5.28s/it]\n"
     ]
    },
    {
     "name": "stdout",
     "output_type": "stream",
     "text": [
      "Saving the result to ./3/train/filtrations/2/RadialFiltration_12_25/features.npy\n",
      "Fitting filtration 11/116: 2/RadialFiltration_12_38\n",
      "FiltrationExtractor: processing 3/train/filtrations/2/RadialFiltration_12_38, do_fit = True, filtration = RadialFiltration(center=array([12, 38]), n_jobs=-1)\n",
      "Saving the result to ./3/train/filtrations/2/RadialFiltration_12_38/diagrams.npy\n",
      "Applying Scaler to persistence diagrams.\n",
      "DiagramVectorizer: fitting complete\n"
     ]
    },
    {
     "name": "stderr",
     "output_type": "stream",
     "text": [
      "DiagramVectorizer: batch: 100%|██████████| 1/1 [00:05<00:00,  5.39s/it]\n"
     ]
    },
    {
     "name": "stdout",
     "output_type": "stream",
     "text": [
      "Saving the result to ./3/train/filtrations/2/RadialFiltration_12_38/features.npy\n",
      "Fitting filtration 12/116: 2/RadialFiltration_12_51\n",
      "FiltrationExtractor: processing 3/train/filtrations/2/RadialFiltration_12_51, do_fit = True, filtration = RadialFiltration(center=array([12, 51]), n_jobs=-1)\n",
      "Saving the result to ./3/train/filtrations/2/RadialFiltration_12_51/diagrams.npy\n",
      "Applying Scaler to persistence diagrams.\n",
      "DiagramVectorizer: fitting complete\n"
     ]
    },
    {
     "name": "stderr",
     "output_type": "stream",
     "text": [
      "DiagramVectorizer: batch: 100%|██████████| 1/1 [00:05<00:00,  5.27s/it]\n"
     ]
    },
    {
     "name": "stdout",
     "output_type": "stream",
     "text": [
      "Saving the result to ./3/train/filtrations/2/RadialFiltration_12_51/features.npy\n",
      "Fitting filtration 13/116: 2/RadialFiltration_25_12\n",
      "FiltrationExtractor: processing 3/train/filtrations/2/RadialFiltration_25_12, do_fit = True, filtration = RadialFiltration(center=array([25, 12]), n_jobs=-1)\n"
     ]
    },
    {
     "name": "stderr",
     "output_type": "stream",
     "text": [
      "d:\\Programs\\Programming\\Python\\lib\\site-packages\\joblib\\externals\\loky\\process_executor.py:752: UserWarning: A worker stopped while some jobs were given to the executor. This can be caused by a too short worker timeout or by a memory leak.\n",
      "  warnings.warn(\n"
     ]
    },
    {
     "name": "stdout",
     "output_type": "stream",
     "text": [
      "Saving the result to ./3/train/filtrations/2/RadialFiltration_25_12/diagrams.npy\n",
      "Applying Scaler to persistence diagrams.\n",
      "DiagramVectorizer: fitting complete\n"
     ]
    },
    {
     "name": "stderr",
     "output_type": "stream",
     "text": [
      "DiagramVectorizer: batch: 100%|██████████| 1/1 [00:04<00:00,  4.94s/it]\n"
     ]
    },
    {
     "name": "stdout",
     "output_type": "stream",
     "text": [
      "Saving the result to ./3/train/filtrations/2/RadialFiltration_25_12/features.npy\n",
      "Fitting filtration 14/116: 2/RadialFiltration_25_25\n",
      "FiltrationExtractor: processing 3/train/filtrations/2/RadialFiltration_25_25, do_fit = True, filtration = RadialFiltration(center=array([25, 25]), n_jobs=-1)\n",
      "Saving the result to ./3/train/filtrations/2/RadialFiltration_25_25/diagrams.npy\n",
      "Applying Scaler to persistence diagrams.\n",
      "DiagramVectorizer: fitting complete\n"
     ]
    },
    {
     "name": "stderr",
     "output_type": "stream",
     "text": [
      "DiagramVectorizer: batch: 100%|██████████| 1/1 [00:05<00:00,  5.10s/it]\n"
     ]
    },
    {
     "name": "stdout",
     "output_type": "stream",
     "text": [
      "Saving the result to ./3/train/filtrations/2/RadialFiltration_25_25/features.npy\n",
      "Fitting filtration 15/116: 2/RadialFiltration_25_38\n",
      "FiltrationExtractor: processing 3/train/filtrations/2/RadialFiltration_25_38, do_fit = True, filtration = RadialFiltration(center=array([25, 38]), n_jobs=-1)\n",
      "Saving the result to ./3/train/filtrations/2/RadialFiltration_25_38/diagrams.npy\n",
      "Applying Scaler to persistence diagrams.\n",
      "DiagramVectorizer: fitting complete\n"
     ]
    },
    {
     "name": "stderr",
     "output_type": "stream",
     "text": [
      "DiagramVectorizer: batch: 100%|██████████| 1/1 [00:05<00:00,  5.15s/it]\n"
     ]
    },
    {
     "name": "stdout",
     "output_type": "stream",
     "text": [
      "Saving the result to ./3/train/filtrations/2/RadialFiltration_25_38/features.npy\n",
      "Fitting filtration 16/116: 2/RadialFiltration_25_51\n",
      "FiltrationExtractor: processing 3/train/filtrations/2/RadialFiltration_25_51, do_fit = True, filtration = RadialFiltration(center=array([25, 51]), n_jobs=-1)\n",
      "Saving the result to ./3/train/filtrations/2/RadialFiltration_25_51/diagrams.npy\n",
      "Applying Scaler to persistence diagrams.\n",
      "DiagramVectorizer: fitting complete\n"
     ]
    },
    {
     "name": "stderr",
     "output_type": "stream",
     "text": [
      "DiagramVectorizer: batch: 100%|██████████| 1/1 [00:04<00:00,  4.95s/it]\n"
     ]
    },
    {
     "name": "stdout",
     "output_type": "stream",
     "text": [
      "Saving the result to ./3/train/filtrations/2/RadialFiltration_25_51/features.npy\n",
      "Fitting filtration 17/116: 2/RadialFiltration_38_12\n",
      "FiltrationExtractor: processing 3/train/filtrations/2/RadialFiltration_38_12, do_fit = True, filtration = RadialFiltration(center=array([38, 12]), n_jobs=-1)\n",
      "Saving the result to ./3/train/filtrations/2/RadialFiltration_38_12/diagrams.npy\n",
      "Applying Scaler to persistence diagrams.\n",
      "DiagramVectorizer: fitting complete\n"
     ]
    },
    {
     "name": "stderr",
     "output_type": "stream",
     "text": [
      "DiagramVectorizer: batch: 100%|██████████| 1/1 [00:05<00:00,  5.27s/it]\n"
     ]
    },
    {
     "name": "stdout",
     "output_type": "stream",
     "text": [
      "Saving the result to ./3/train/filtrations/2/RadialFiltration_38_12/features.npy\n",
      "Fitting filtration 18/116: 2/RadialFiltration_38_25\n",
      "FiltrationExtractor: processing 3/train/filtrations/2/RadialFiltration_38_25, do_fit = True, filtration = RadialFiltration(center=array([38, 25]), n_jobs=-1)\n",
      "Saving the result to ./3/train/filtrations/2/RadialFiltration_38_25/diagrams.npy\n",
      "Applying Scaler to persistence diagrams.\n",
      "DiagramVectorizer: fitting complete\n"
     ]
    },
    {
     "name": "stderr",
     "output_type": "stream",
     "text": [
      "DiagramVectorizer: batch: 100%|██████████| 1/1 [00:05<00:00,  5.26s/it]\n"
     ]
    },
    {
     "name": "stdout",
     "output_type": "stream",
     "text": [
      "Saving the result to ./3/train/filtrations/2/RadialFiltration_38_25/features.npy\n",
      "Fitting filtration 19/116: 2/RadialFiltration_38_38\n",
      "FiltrationExtractor: processing 3/train/filtrations/2/RadialFiltration_38_38, do_fit = True, filtration = RadialFiltration(center=array([38, 38]), n_jobs=-1)\n",
      "Saving the result to ./3/train/filtrations/2/RadialFiltration_38_38/diagrams.npy\n",
      "Applying Scaler to persistence diagrams.\n",
      "DiagramVectorizer: fitting complete\n"
     ]
    },
    {
     "name": "stderr",
     "output_type": "stream",
     "text": [
      "DiagramVectorizer: batch: 100%|██████████| 1/1 [00:04<00:00,  4.97s/it]\n"
     ]
    },
    {
     "name": "stdout",
     "output_type": "stream",
     "text": [
      "Saving the result to ./3/train/filtrations/2/RadialFiltration_38_38/features.npy\n",
      "Fitting filtration 20/116: 2/RadialFiltration_38_51\n",
      "FiltrationExtractor: processing 3/train/filtrations/2/RadialFiltration_38_51, do_fit = True, filtration = RadialFiltration(center=array([38, 51]), n_jobs=-1)\n",
      "Saving the result to ./3/train/filtrations/2/RadialFiltration_38_51/diagrams.npy\n",
      "Applying Scaler to persistence diagrams.\n",
      "DiagramVectorizer: fitting complete\n"
     ]
    },
    {
     "name": "stderr",
     "output_type": "stream",
     "text": [
      "DiagramVectorizer: batch: 100%|██████████| 1/1 [00:04<00:00,  4.94s/it]\n"
     ]
    },
    {
     "name": "stdout",
     "output_type": "stream",
     "text": [
      "Saving the result to ./3/train/filtrations/2/RadialFiltration_38_51/features.npy\n",
      "Fitting filtration 21/116: 2/RadialFiltration_51_12\n",
      "FiltrationExtractor: processing 3/train/filtrations/2/RadialFiltration_51_12, do_fit = True, filtration = RadialFiltration(center=array([51, 12]), n_jobs=-1)\n",
      "Saving the result to ./3/train/filtrations/2/RadialFiltration_51_12/diagrams.npy\n",
      "Applying Scaler to persistence diagrams.\n",
      "DiagramVectorizer: fitting complete\n"
     ]
    },
    {
     "name": "stderr",
     "output_type": "stream",
     "text": [
      "DiagramVectorizer: batch: 100%|██████████| 1/1 [00:04<00:00,  4.87s/it]\n"
     ]
    },
    {
     "name": "stdout",
     "output_type": "stream",
     "text": [
      "Saving the result to ./3/train/filtrations/2/RadialFiltration_51_12/features.npy\n",
      "Fitting filtration 22/116: 2/RadialFiltration_51_25\n",
      "FiltrationExtractor: processing 3/train/filtrations/2/RadialFiltration_51_25, do_fit = True, filtration = RadialFiltration(center=array([51, 25]), n_jobs=-1)\n",
      "Saving the result to ./3/train/filtrations/2/RadialFiltration_51_25/diagrams.npy\n",
      "Applying Scaler to persistence diagrams.\n",
      "DiagramVectorizer: fitting complete\n"
     ]
    },
    {
     "name": "stderr",
     "output_type": "stream",
     "text": [
      "DiagramVectorizer: batch: 100%|██████████| 1/1 [00:04<00:00,  4.91s/it]\n"
     ]
    },
    {
     "name": "stdout",
     "output_type": "stream",
     "text": [
      "Saving the result to ./3/train/filtrations/2/RadialFiltration_51_25/features.npy\n",
      "Fitting filtration 23/116: 2/RadialFiltration_51_38\n",
      "FiltrationExtractor: processing 3/train/filtrations/2/RadialFiltration_51_38, do_fit = True, filtration = RadialFiltration(center=array([51, 38]), n_jobs=-1)\n",
      "Saving the result to ./3/train/filtrations/2/RadialFiltration_51_38/diagrams.npy\n",
      "Applying Scaler to persistence diagrams.\n",
      "DiagramVectorizer: fitting complete\n"
     ]
    },
    {
     "name": "stderr",
     "output_type": "stream",
     "text": [
      "DiagramVectorizer: batch: 100%|██████████| 1/1 [00:05<00:00,  5.04s/it]\n"
     ]
    },
    {
     "name": "stdout",
     "output_type": "stream",
     "text": [
      "Saving the result to ./3/train/filtrations/2/RadialFiltration_51_38/features.npy\n",
      "Fitting filtration 24/116: 2/RadialFiltration_51_51\n",
      "FiltrationExtractor: processing 3/train/filtrations/2/RadialFiltration_51_51, do_fit = True, filtration = RadialFiltration(center=array([51, 51]), n_jobs=-1)\n",
      "Saving the result to ./3/train/filtrations/2/RadialFiltration_51_51/diagrams.npy\n",
      "Applying Scaler to persistence diagrams.\n",
      "DiagramVectorizer: fitting complete\n"
     ]
    },
    {
     "name": "stderr",
     "output_type": "stream",
     "text": [
      "DiagramVectorizer: batch: 100%|██████████| 1/1 [00:05<00:00,  5.11s/it]\n"
     ]
    },
    {
     "name": "stdout",
     "output_type": "stream",
     "text": [
      "Saving the result to ./3/train/filtrations/2/RadialFiltration_51_51/features.npy\n",
      "Fitting filtration 25/116: 2/DilationFiltration\n",
      "FiltrationExtractor: processing 3/train/filtrations/2/DilationFiltration, do_fit = True, filtration = DilationFiltration(n_jobs=-1)\n",
      "Got the result from ./3/train/filtrations/2/DilationFiltration/diagrams.npy\n",
      "Applying Scaler to persistence diagrams.\n",
      "DiagramVectorizer: fitting complete\n",
      "Got the result from ./3/train/filtrations/2/DilationFiltration/features.npy\n",
      "Fitting filtration 26/116: 2/ErosionFiltration\n",
      "FiltrationExtractor: processing 3/train/filtrations/2/ErosionFiltration, do_fit = True, filtration = ErosionFiltration(n_jobs=-1)\n",
      "Got the result from ./3/train/filtrations/2/ErosionFiltration/diagrams.npy\n",
      "Applying Scaler to persistence diagrams.\n",
      "DiagramVectorizer: fitting complete\n",
      "Got the result from ./3/train/filtrations/2/ErosionFiltration/features.npy\n",
      "Fitting filtration 27/116: 2/SignedDistanceFiltration\n",
      "FiltrationExtractor: processing 3/train/filtrations/2/SignedDistanceFiltration, do_fit = True, filtration = SignedDistanceFiltration(n_jobs=-1)\n",
      "Got the result from ./3/train/filtrations/2/SignedDistanceFiltration/diagrams.npy\n",
      "Applying Scaler to persistence diagrams.\n",
      "DiagramVectorizer: fitting complete\n",
      "Got the result from ./3/train/filtrations/2/SignedDistanceFiltration/features.npy\n",
      "Fitting filtration 28/116: 2/DensityFiltration_1\n",
      "FiltrationExtractor: processing 3/train/filtrations/2/DensityFiltration_1, do_fit = True, filtration = DensityFiltration(n_jobs=-1, radius=1)\n",
      "Got the result from ./3/train/filtrations/2/DensityFiltration_1/diagrams.npy\n",
      "Applying Scaler to persistence diagrams.\n",
      "DiagramVectorizer: fitting complete\n",
      "Got the result from ./3/train/filtrations/2/DensityFiltration_1/features.npy\n",
      "Fitting filtration 29/116: 2/DensityFiltration_3\n",
      "FiltrationExtractor: processing 3/train/filtrations/2/DensityFiltration_3, do_fit = True, filtration = DensityFiltration(n_jobs=-1)\n",
      "Got the result from ./3/train/filtrations/2/DensityFiltration_3/diagrams.npy\n",
      "Applying Scaler to persistence diagrams.\n",
      "DiagramVectorizer: fitting complete\n",
      "Got the result from ./3/train/filtrations/2/DensityFiltration_3/features.npy\n",
      "Fitting filtration 30/116: 4/HeightFiltrartion_-1_-1\n",
      "FiltrationExtractor: processing 3/train/filtrations/4/HeightFiltrartion_-1_-1, do_fit = True, filtration = HeightFiltration(direction=array([-1, -1]), n_jobs=-1)\n",
      "Got the result from ./3/train/filtrations/4/HeightFiltrartion_-1_-1/diagrams.npy\n",
      "Applying Scaler to persistence diagrams.\n",
      "DiagramVectorizer: fitting complete\n",
      "Got the result from ./3/train/filtrations/4/HeightFiltrartion_-1_-1/features.npy\n",
      "Fitting filtration 31/116: 4/HeightFiltrartion_1_1\n",
      "FiltrationExtractor: processing 3/train/filtrations/4/HeightFiltrartion_1_1, do_fit = True, filtration = HeightFiltration(direction=array([1, 1]), n_jobs=-1)\n",
      "Got the result from ./3/train/filtrations/4/HeightFiltrartion_1_1/diagrams.npy\n",
      "Applying Scaler to persistence diagrams.\n",
      "DiagramVectorizer: fitting complete\n",
      "Got the result from ./3/train/filtrations/4/HeightFiltrartion_1_1/features.npy\n",
      "Fitting filtration 32/116: 4/HeightFiltrartion_1_-1\n",
      "FiltrationExtractor: processing 3/train/filtrations/4/HeightFiltrartion_1_-1, do_fit = True, filtration = HeightFiltration(direction=array([ 1, -1]), n_jobs=-1)\n",
      "Got the result from ./3/train/filtrations/4/HeightFiltrartion_1_-1/diagrams.npy\n",
      "Applying Scaler to persistence diagrams.\n",
      "DiagramVectorizer: fitting complete\n",
      "Got the result from ./3/train/filtrations/4/HeightFiltrartion_1_-1/features.npy\n",
      "Fitting filtration 33/116: 4/HeightFiltrartion_-1_1\n",
      "FiltrationExtractor: processing 3/train/filtrations/4/HeightFiltrartion_-1_1, do_fit = True, filtration = HeightFiltration(direction=array([-1,  1]), n_jobs=-1)\n",
      "Got the result from ./3/train/filtrations/4/HeightFiltrartion_-1_1/diagrams.npy\n",
      "Applying Scaler to persistence diagrams.\n",
      "DiagramVectorizer: fitting complete\n",
      "Got the result from ./3/train/filtrations/4/HeightFiltrartion_-1_1/features.npy\n",
      "Fitting filtration 34/116: 4/HeightFiltrartion_0_-1\n",
      "FiltrationExtractor: processing 3/train/filtrations/4/HeightFiltrartion_0_-1, do_fit = True, filtration = HeightFiltration(direction=array([ 0, -1]), n_jobs=-1)\n",
      "Got the result from ./3/train/filtrations/4/HeightFiltrartion_0_-1/diagrams.npy\n",
      "Applying Scaler to persistence diagrams.\n",
      "DiagramVectorizer: fitting complete\n",
      "Got the result from ./3/train/filtrations/4/HeightFiltrartion_0_-1/features.npy\n",
      "Fitting filtration 35/116: 4/HeightFiltrartion_0_1\n",
      "FiltrationExtractor: processing 3/train/filtrations/4/HeightFiltrartion_0_1, do_fit = True, filtration = HeightFiltration(direction=array([0, 1]), n_jobs=-1)\n",
      "Got the result from ./3/train/filtrations/4/HeightFiltrartion_0_1/diagrams.npy\n",
      "Applying Scaler to persistence diagrams.\n",
      "DiagramVectorizer: fitting complete\n",
      "Got the result from ./3/train/filtrations/4/HeightFiltrartion_0_1/features.npy\n",
      "Fitting filtration 36/116: 4/HeightFiltrartion_-1_0\n",
      "FiltrationExtractor: processing 3/train/filtrations/4/HeightFiltrartion_-1_0, do_fit = True, filtration = HeightFiltration(direction=array([-1,  0]), n_jobs=-1)\n",
      "Got the result from ./3/train/filtrations/4/HeightFiltrartion_-1_0/diagrams.npy\n",
      "Applying Scaler to persistence diagrams.\n",
      "DiagramVectorizer: fitting complete\n",
      "Got the result from ./3/train/filtrations/4/HeightFiltrartion_-1_0/features.npy\n",
      "Fitting filtration 37/116: 4/HeightFiltrartion_1_0\n",
      "FiltrationExtractor: processing 3/train/filtrations/4/HeightFiltrartion_1_0, do_fit = True, filtration = HeightFiltration(direction=array([1, 0]), n_jobs=-1)\n",
      "Got the result from ./3/train/filtrations/4/HeightFiltrartion_1_0/diagrams.npy\n",
      "Applying Scaler to persistence diagrams.\n",
      "DiagramVectorizer: fitting complete\n",
      "Got the result from ./3/train/filtrations/4/HeightFiltrartion_1_0/features.npy\n",
      "Fitting filtration 38/116: 4/RadialFiltration_12_12\n",
      "FiltrationExtractor: processing 3/train/filtrations/4/RadialFiltration_12_12, do_fit = True, filtration = RadialFiltration(center=array([12, 12]), n_jobs=-1)\n",
      "Saving the result to ./3/train/filtrations/4/RadialFiltration_12_12/diagrams.npy\n",
      "Applying Scaler to persistence diagrams.\n",
      "DiagramVectorizer: fitting complete\n"
     ]
    },
    {
     "name": "stderr",
     "output_type": "stream",
     "text": [
      "DiagramVectorizer: batch: 100%|██████████| 1/1 [00:05<00:00,  5.04s/it]\n"
     ]
    },
    {
     "name": "stdout",
     "output_type": "stream",
     "text": [
      "Saving the result to ./3/train/filtrations/4/RadialFiltration_12_12/features.npy\n",
      "Fitting filtration 39/116: 4/RadialFiltration_12_25\n",
      "FiltrationExtractor: processing 3/train/filtrations/4/RadialFiltration_12_25, do_fit = True, filtration = RadialFiltration(center=array([12, 25]), n_jobs=-1)\n",
      "Saving the result to ./3/train/filtrations/4/RadialFiltration_12_25/diagrams.npy\n",
      "Applying Scaler to persistence diagrams.\n",
      "DiagramVectorizer: fitting complete\n"
     ]
    },
    {
     "name": "stderr",
     "output_type": "stream",
     "text": [
      "DiagramVectorizer: batch: 100%|██████████| 1/1 [00:05<00:00,  5.01s/it]\n"
     ]
    },
    {
     "name": "stdout",
     "output_type": "stream",
     "text": [
      "Saving the result to ./3/train/filtrations/4/RadialFiltration_12_25/features.npy\n",
      "Fitting filtration 40/116: 4/RadialFiltration_12_38\n",
      "FiltrationExtractor: processing 3/train/filtrations/4/RadialFiltration_12_38, do_fit = True, filtration = RadialFiltration(center=array([12, 38]), n_jobs=-1)\n",
      "Saving the result to ./3/train/filtrations/4/RadialFiltration_12_38/diagrams.npy\n",
      "Applying Scaler to persistence diagrams.\n",
      "DiagramVectorizer: fitting complete\n"
     ]
    },
    {
     "name": "stderr",
     "output_type": "stream",
     "text": [
      "DiagramVectorizer: batch: 100%|██████████| 1/1 [00:04<00:00,  4.99s/it]\n"
     ]
    },
    {
     "name": "stdout",
     "output_type": "stream",
     "text": [
      "Saving the result to ./3/train/filtrations/4/RadialFiltration_12_38/features.npy\n",
      "Fitting filtration 41/116: 4/RadialFiltration_12_51\n",
      "FiltrationExtractor: processing 3/train/filtrations/4/RadialFiltration_12_51, do_fit = True, filtration = RadialFiltration(center=array([12, 51]), n_jobs=-1)\n",
      "Saving the result to ./3/train/filtrations/4/RadialFiltration_12_51/diagrams.npy\n",
      "Applying Scaler to persistence diagrams.\n",
      "DiagramVectorizer: fitting complete\n"
     ]
    },
    {
     "name": "stderr",
     "output_type": "stream",
     "text": [
      "DiagramVectorizer: batch: 100%|██████████| 1/1 [00:05<00:00,  5.01s/it]\n"
     ]
    },
    {
     "name": "stdout",
     "output_type": "stream",
     "text": [
      "Saving the result to ./3/train/filtrations/4/RadialFiltration_12_51/features.npy\n",
      "Fitting filtration 42/116: 4/RadialFiltration_25_12\n",
      "FiltrationExtractor: processing 3/train/filtrations/4/RadialFiltration_25_12, do_fit = True, filtration = RadialFiltration(center=array([25, 12]), n_jobs=-1)\n",
      "Saving the result to ./3/train/filtrations/4/RadialFiltration_25_12/diagrams.npy\n",
      "Applying Scaler to persistence diagrams.\n",
      "DiagramVectorizer: fitting complete\n"
     ]
    },
    {
     "name": "stderr",
     "output_type": "stream",
     "text": [
      "DiagramVectorizer: batch: 100%|██████████| 1/1 [00:04<00:00,  4.96s/it]\n"
     ]
    },
    {
     "name": "stdout",
     "output_type": "stream",
     "text": [
      "Saving the result to ./3/train/filtrations/4/RadialFiltration_25_12/features.npy\n",
      "Fitting filtration 43/116: 4/RadialFiltration_25_25\n",
      "FiltrationExtractor: processing 3/train/filtrations/4/RadialFiltration_25_25, do_fit = True, filtration = RadialFiltration(center=array([25, 25]), n_jobs=-1)\n",
      "Saving the result to ./3/train/filtrations/4/RadialFiltration_25_25/diagrams.npy\n",
      "Applying Scaler to persistence diagrams.\n",
      "DiagramVectorizer: fitting complete\n"
     ]
    },
    {
     "name": "stderr",
     "output_type": "stream",
     "text": [
      "DiagramVectorizer: batch: 100%|██████████| 1/1 [00:04<00:00,  4.98s/it]\n"
     ]
    },
    {
     "name": "stdout",
     "output_type": "stream",
     "text": [
      "Saving the result to ./3/train/filtrations/4/RadialFiltration_25_25/features.npy\n",
      "Fitting filtration 44/116: 4/RadialFiltration_25_38\n",
      "FiltrationExtractor: processing 3/train/filtrations/4/RadialFiltration_25_38, do_fit = True, filtration = RadialFiltration(center=array([25, 38]), n_jobs=-1)\n",
      "Saving the result to ./3/train/filtrations/4/RadialFiltration_25_38/diagrams.npy\n",
      "Applying Scaler to persistence diagrams.\n",
      "DiagramVectorizer: fitting complete\n"
     ]
    },
    {
     "name": "stderr",
     "output_type": "stream",
     "text": [
      "DiagramVectorizer: batch: 100%|██████████| 1/1 [00:04<00:00,  4.92s/it]\n"
     ]
    },
    {
     "name": "stdout",
     "output_type": "stream",
     "text": [
      "Saving the result to ./3/train/filtrations/4/RadialFiltration_25_38/features.npy\n",
      "Fitting filtration 45/116: 4/RadialFiltration_25_51\n",
      "FiltrationExtractor: processing 3/train/filtrations/4/RadialFiltration_25_51, do_fit = True, filtration = RadialFiltration(center=array([25, 51]), n_jobs=-1)\n",
      "Saving the result to ./3/train/filtrations/4/RadialFiltration_25_51/diagrams.npy\n",
      "Applying Scaler to persistence diagrams.\n",
      "DiagramVectorizer: fitting complete\n"
     ]
    },
    {
     "name": "stderr",
     "output_type": "stream",
     "text": [
      "DiagramVectorizer: batch: 100%|██████████| 1/1 [00:04<00:00,  4.81s/it]\n"
     ]
    },
    {
     "name": "stdout",
     "output_type": "stream",
     "text": [
      "Saving the result to ./3/train/filtrations/4/RadialFiltration_25_51/features.npy\n",
      "Fitting filtration 46/116: 4/RadialFiltration_38_12\n",
      "FiltrationExtractor: processing 3/train/filtrations/4/RadialFiltration_38_12, do_fit = True, filtration = RadialFiltration(center=array([38, 12]), n_jobs=-1)\n",
      "Saving the result to ./3/train/filtrations/4/RadialFiltration_38_12/diagrams.npy\n",
      "Applying Scaler to persistence diagrams.\n",
      "DiagramVectorizer: fitting complete\n"
     ]
    },
    {
     "name": "stderr",
     "output_type": "stream",
     "text": [
      "DiagramVectorizer: batch: 100%|██████████| 1/1 [00:05<00:00,  5.07s/it]\n"
     ]
    },
    {
     "name": "stdout",
     "output_type": "stream",
     "text": [
      "Saving the result to ./3/train/filtrations/4/RadialFiltration_38_12/features.npy\n",
      "Fitting filtration 47/116: 4/RadialFiltration_38_25\n",
      "FiltrationExtractor: processing 3/train/filtrations/4/RadialFiltration_38_25, do_fit = True, filtration = RadialFiltration(center=array([38, 25]), n_jobs=-1)\n",
      "Saving the result to ./3/train/filtrations/4/RadialFiltration_38_25/diagrams.npy\n",
      "Applying Scaler to persistence diagrams.\n",
      "DiagramVectorizer: fitting complete\n"
     ]
    },
    {
     "name": "stderr",
     "output_type": "stream",
     "text": [
      "DiagramVectorizer: batch: 100%|██████████| 1/1 [00:05<00:00,  5.06s/it]\n"
     ]
    },
    {
     "name": "stdout",
     "output_type": "stream",
     "text": [
      "Saving the result to ./3/train/filtrations/4/RadialFiltration_38_25/features.npy\n",
      "Fitting filtration 48/116: 4/RadialFiltration_38_38\n",
      "FiltrationExtractor: processing 3/train/filtrations/4/RadialFiltration_38_38, do_fit = True, filtration = RadialFiltration(center=array([38, 38]), n_jobs=-1)\n",
      "Saving the result to ./3/train/filtrations/4/RadialFiltration_38_38/diagrams.npy\n",
      "Applying Scaler to persistence diagrams.\n",
      "DiagramVectorizer: fitting complete\n"
     ]
    },
    {
     "name": "stderr",
     "output_type": "stream",
     "text": [
      "DiagramVectorizer: batch: 100%|██████████| 1/1 [00:04<00:00,  4.98s/it]\n"
     ]
    },
    {
     "name": "stdout",
     "output_type": "stream",
     "text": [
      "Saving the result to ./3/train/filtrations/4/RadialFiltration_38_38/features.npy\n",
      "Fitting filtration 49/116: 4/RadialFiltration_38_51\n",
      "FiltrationExtractor: processing 3/train/filtrations/4/RadialFiltration_38_51, do_fit = True, filtration = RadialFiltration(center=array([38, 51]), n_jobs=-1)\n",
      "Saving the result to ./3/train/filtrations/4/RadialFiltration_38_51/diagrams.npy\n",
      "Applying Scaler to persistence diagrams.\n",
      "DiagramVectorizer: fitting complete\n"
     ]
    },
    {
     "name": "stderr",
     "output_type": "stream",
     "text": [
      "DiagramVectorizer: batch: 100%|██████████| 1/1 [00:04<00:00,  4.91s/it]\n"
     ]
    },
    {
     "name": "stdout",
     "output_type": "stream",
     "text": [
      "Saving the result to ./3/train/filtrations/4/RadialFiltration_38_51/features.npy\n",
      "Fitting filtration 50/116: 4/RadialFiltration_51_12\n",
      "FiltrationExtractor: processing 3/train/filtrations/4/RadialFiltration_51_12, do_fit = True, filtration = RadialFiltration(center=array([51, 12]), n_jobs=-1)\n",
      "Saving the result to ./3/train/filtrations/4/RadialFiltration_51_12/diagrams.npy\n",
      "Applying Scaler to persistence diagrams.\n",
      "DiagramVectorizer: fitting complete\n"
     ]
    },
    {
     "name": "stderr",
     "output_type": "stream",
     "text": [
      "DiagramVectorizer: batch: 100%|██████████| 1/1 [00:05<00:00,  5.04s/it]\n"
     ]
    },
    {
     "name": "stdout",
     "output_type": "stream",
     "text": [
      "Saving the result to ./3/train/filtrations/4/RadialFiltration_51_12/features.npy\n",
      "Fitting filtration 51/116: 4/RadialFiltration_51_25\n",
      "FiltrationExtractor: processing 3/train/filtrations/4/RadialFiltration_51_25, do_fit = True, filtration = RadialFiltration(center=array([51, 25]), n_jobs=-1)\n",
      "Saving the result to ./3/train/filtrations/4/RadialFiltration_51_25/diagrams.npy\n",
      "Applying Scaler to persistence diagrams.\n",
      "DiagramVectorizer: fitting complete\n"
     ]
    },
    {
     "name": "stderr",
     "output_type": "stream",
     "text": [
      "DiagramVectorizer: batch: 100%|██████████| 1/1 [00:05<00:00,  5.28s/it]\n"
     ]
    },
    {
     "name": "stdout",
     "output_type": "stream",
     "text": [
      "Saving the result to ./3/train/filtrations/4/RadialFiltration_51_25/features.npy\n",
      "Fitting filtration 52/116: 4/RadialFiltration_51_38\n",
      "FiltrationExtractor: processing 3/train/filtrations/4/RadialFiltration_51_38, do_fit = True, filtration = RadialFiltration(center=array([51, 38]), n_jobs=-1)\n",
      "Saving the result to ./3/train/filtrations/4/RadialFiltration_51_38/diagrams.npy\n",
      "Applying Scaler to persistence diagrams.\n",
      "DiagramVectorizer: fitting complete\n"
     ]
    },
    {
     "name": "stderr",
     "output_type": "stream",
     "text": [
      "DiagramVectorizer: batch: 100%|██████████| 1/1 [00:05<00:00,  5.06s/it]\n"
     ]
    },
    {
     "name": "stdout",
     "output_type": "stream",
     "text": [
      "Saving the result to ./3/train/filtrations/4/RadialFiltration_51_38/features.npy\n",
      "Fitting filtration 53/116: 4/RadialFiltration_51_51\n",
      "FiltrationExtractor: processing 3/train/filtrations/4/RadialFiltration_51_51, do_fit = True, filtration = RadialFiltration(center=array([51, 51]), n_jobs=-1)\n",
      "Saving the result to ./3/train/filtrations/4/RadialFiltration_51_51/diagrams.npy\n",
      "Applying Scaler to persistence diagrams.\n",
      "DiagramVectorizer: fitting complete\n"
     ]
    },
    {
     "name": "stderr",
     "output_type": "stream",
     "text": [
      "DiagramVectorizer: batch: 100%|██████████| 1/1 [00:04<00:00,  5.00s/it]\n"
     ]
    },
    {
     "name": "stdout",
     "output_type": "stream",
     "text": [
      "Saving the result to ./3/train/filtrations/4/RadialFiltration_51_51/features.npy\n",
      "Fitting filtration 54/116: 4/DilationFiltration\n",
      "FiltrationExtractor: processing 3/train/filtrations/4/DilationFiltration, do_fit = True, filtration = DilationFiltration(n_jobs=-1)\n"
     ]
    },
    {
     "name": "stderr",
     "output_type": "stream",
     "text": [
      "d:\\Programs\\Programming\\Python\\lib\\site-packages\\joblib\\externals\\loky\\process_executor.py:752: UserWarning: A worker stopped while some jobs were given to the executor. This can be caused by a too short worker timeout or by a memory leak.\n",
      "  warnings.warn(\n"
     ]
    },
    {
     "name": "stdout",
     "output_type": "stream",
     "text": [
      "Got the result from ./3/train/filtrations/4/DilationFiltration/diagrams.npy\n",
      "Applying Scaler to persistence diagrams.\n",
      "DiagramVectorizer: fitting complete\n",
      "Got the result from ./3/train/filtrations/4/DilationFiltration/features.npy\n",
      "Fitting filtration 55/116: 4/ErosionFiltration\n",
      "FiltrationExtractor: processing 3/train/filtrations/4/ErosionFiltration, do_fit = True, filtration = ErosionFiltration(n_jobs=-1)\n",
      "Got the result from ./3/train/filtrations/4/ErosionFiltration/diagrams.npy\n",
      "Applying Scaler to persistence diagrams.\n",
      "DiagramVectorizer: fitting complete\n",
      "Got the result from ./3/train/filtrations/4/ErosionFiltration/features.npy\n",
      "Fitting filtration 56/116: 4/SignedDistanceFiltration\n",
      "FiltrationExtractor: processing 3/train/filtrations/4/SignedDistanceFiltration, do_fit = True, filtration = SignedDistanceFiltration(n_jobs=-1)\n",
      "Got the result from ./3/train/filtrations/4/SignedDistanceFiltration/diagrams.npy\n",
      "Applying Scaler to persistence diagrams.\n",
      "DiagramVectorizer: fitting complete\n",
      "Got the result from ./3/train/filtrations/4/SignedDistanceFiltration/features.npy\n",
      "Fitting filtration 57/116: 4/DensityFiltration_1\n",
      "FiltrationExtractor: processing 3/train/filtrations/4/DensityFiltration_1, do_fit = True, filtration = DensityFiltration(n_jobs=-1, radius=1)\n",
      "Got the result from ./3/train/filtrations/4/DensityFiltration_1/diagrams.npy\n",
      "Applying Scaler to persistence diagrams.\n",
      "DiagramVectorizer: fitting complete\n",
      "Got the result from ./3/train/filtrations/4/DensityFiltration_1/features.npy\n",
      "Fitting filtration 58/116: 4/DensityFiltration_3\n",
      "FiltrationExtractor: processing 3/train/filtrations/4/DensityFiltration_3, do_fit = True, filtration = DensityFiltration(n_jobs=-1)\n",
      "Got the result from ./3/train/filtrations/4/DensityFiltration_3/diagrams.npy\n",
      "Applying Scaler to persistence diagrams.\n",
      "DiagramVectorizer: fitting complete\n",
      "Got the result from ./3/train/filtrations/4/DensityFiltration_3/features.npy\n",
      "Fitting filtration 59/116: 6/HeightFiltrartion_-1_-1\n",
      "FiltrationExtractor: processing 3/train/filtrations/6/HeightFiltrartion_-1_-1, do_fit = True, filtration = HeightFiltration(direction=array([-1, -1]), n_jobs=-1)\n",
      "Got the result from ./3/train/filtrations/6/HeightFiltrartion_-1_-1/diagrams.npy\n",
      "Applying Scaler to persistence diagrams.\n",
      "DiagramVectorizer: fitting complete\n",
      "Got the result from ./3/train/filtrations/6/HeightFiltrartion_-1_-1/features.npy\n",
      "Fitting filtration 60/116: 6/HeightFiltrartion_1_1\n",
      "FiltrationExtractor: processing 3/train/filtrations/6/HeightFiltrartion_1_1, do_fit = True, filtration = HeightFiltration(direction=array([1, 1]), n_jobs=-1)\n",
      "Got the result from ./3/train/filtrations/6/HeightFiltrartion_1_1/diagrams.npy\n",
      "Applying Scaler to persistence diagrams.\n",
      "DiagramVectorizer: fitting complete\n",
      "Got the result from ./3/train/filtrations/6/HeightFiltrartion_1_1/features.npy\n",
      "Fitting filtration 61/116: 6/HeightFiltrartion_1_-1\n",
      "FiltrationExtractor: processing 3/train/filtrations/6/HeightFiltrartion_1_-1, do_fit = True, filtration = HeightFiltration(direction=array([ 1, -1]), n_jobs=-1)\n",
      "Got the result from ./3/train/filtrations/6/HeightFiltrartion_1_-1/diagrams.npy\n",
      "Applying Scaler to persistence diagrams.\n",
      "DiagramVectorizer: fitting complete\n",
      "Got the result from ./3/train/filtrations/6/HeightFiltrartion_1_-1/features.npy\n",
      "Fitting filtration 62/116: 6/HeightFiltrartion_-1_1\n",
      "FiltrationExtractor: processing 3/train/filtrations/6/HeightFiltrartion_-1_1, do_fit = True, filtration = HeightFiltration(direction=array([-1,  1]), n_jobs=-1)\n",
      "Got the result from ./3/train/filtrations/6/HeightFiltrartion_-1_1/diagrams.npy\n",
      "Applying Scaler to persistence diagrams.\n",
      "DiagramVectorizer: fitting complete\n",
      "Got the result from ./3/train/filtrations/6/HeightFiltrartion_-1_1/features.npy\n",
      "Fitting filtration 63/116: 6/HeightFiltrartion_0_-1\n",
      "FiltrationExtractor: processing 3/train/filtrations/6/HeightFiltrartion_0_-1, do_fit = True, filtration = HeightFiltration(direction=array([ 0, -1]), n_jobs=-1)\n",
      "Got the result from ./3/train/filtrations/6/HeightFiltrartion_0_-1/diagrams.npy\n",
      "Applying Scaler to persistence diagrams.\n",
      "DiagramVectorizer: fitting complete\n",
      "Got the result from ./3/train/filtrations/6/HeightFiltrartion_0_-1/features.npy\n",
      "Fitting filtration 64/116: 6/HeightFiltrartion_0_1\n",
      "FiltrationExtractor: processing 3/train/filtrations/6/HeightFiltrartion_0_1, do_fit = True, filtration = HeightFiltration(direction=array([0, 1]), n_jobs=-1)\n",
      "Got the result from ./3/train/filtrations/6/HeightFiltrartion_0_1/diagrams.npy\n",
      "Applying Scaler to persistence diagrams.\n",
      "DiagramVectorizer: fitting complete\n",
      "Got the result from ./3/train/filtrations/6/HeightFiltrartion_0_1/features.npy\n",
      "Fitting filtration 65/116: 6/HeightFiltrartion_-1_0\n",
      "FiltrationExtractor: processing 3/train/filtrations/6/HeightFiltrartion_-1_0, do_fit = True, filtration = HeightFiltration(direction=array([-1,  0]), n_jobs=-1)\n",
      "Got the result from ./3/train/filtrations/6/HeightFiltrartion_-1_0/diagrams.npy\n",
      "Applying Scaler to persistence diagrams.\n",
      "DiagramVectorizer: fitting complete\n",
      "Got the result from ./3/train/filtrations/6/HeightFiltrartion_-1_0/features.npy\n",
      "Fitting filtration 66/116: 6/HeightFiltrartion_1_0\n",
      "FiltrationExtractor: processing 3/train/filtrations/6/HeightFiltrartion_1_0, do_fit = True, filtration = HeightFiltration(direction=array([1, 0]), n_jobs=-1)\n",
      "Got the result from ./3/train/filtrations/6/HeightFiltrartion_1_0/diagrams.npy\n",
      "Applying Scaler to persistence diagrams.\n",
      "DiagramVectorizer: fitting complete\n",
      "Got the result from ./3/train/filtrations/6/HeightFiltrartion_1_0/features.npy\n",
      "Fitting filtration 67/116: 6/RadialFiltration_12_12\n",
      "FiltrationExtractor: processing 3/train/filtrations/6/RadialFiltration_12_12, do_fit = True, filtration = RadialFiltration(center=array([12, 12]), n_jobs=-1)\n",
      "Saving the result to ./3/train/filtrations/6/RadialFiltration_12_12/diagrams.npy\n",
      "Applying Scaler to persistence diagrams.\n",
      "DiagramVectorizer: fitting complete\n"
     ]
    },
    {
     "name": "stderr",
     "output_type": "stream",
     "text": [
      "DiagramVectorizer: batch: 100%|██████████| 1/1 [00:04<00:00,  5.00s/it]\n"
     ]
    },
    {
     "name": "stdout",
     "output_type": "stream",
     "text": [
      "Saving the result to ./3/train/filtrations/6/RadialFiltration_12_12/features.npy\n",
      "Fitting filtration 68/116: 6/RadialFiltration_12_25\n",
      "FiltrationExtractor: processing 3/train/filtrations/6/RadialFiltration_12_25, do_fit = True, filtration = RadialFiltration(center=array([12, 25]), n_jobs=-1)\n",
      "Saving the result to ./3/train/filtrations/6/RadialFiltration_12_25/diagrams.npy\n",
      "Applying Scaler to persistence diagrams.\n",
      "DiagramVectorizer: fitting complete\n"
     ]
    },
    {
     "name": "stderr",
     "output_type": "stream",
     "text": [
      "DiagramVectorizer: batch: 100%|██████████| 1/1 [00:05<00:00,  5.01s/it]\n"
     ]
    },
    {
     "name": "stdout",
     "output_type": "stream",
     "text": [
      "Saving the result to ./3/train/filtrations/6/RadialFiltration_12_25/features.npy\n",
      "Fitting filtration 69/116: 6/RadialFiltration_12_38\n",
      "FiltrationExtractor: processing 3/train/filtrations/6/RadialFiltration_12_38, do_fit = True, filtration = RadialFiltration(center=array([12, 38]), n_jobs=-1)\n",
      "Saving the result to ./3/train/filtrations/6/RadialFiltration_12_38/diagrams.npy\n",
      "Applying Scaler to persistence diagrams.\n",
      "DiagramVectorizer: fitting complete\n"
     ]
    },
    {
     "name": "stderr",
     "output_type": "stream",
     "text": [
      "DiagramVectorizer: batch: 100%|██████████| 1/1 [00:05<00:00,  5.04s/it]\n"
     ]
    },
    {
     "name": "stdout",
     "output_type": "stream",
     "text": [
      "Saving the result to ./3/train/filtrations/6/RadialFiltration_12_38/features.npy\n",
      "Fitting filtration 70/116: 6/RadialFiltration_12_51\n",
      "FiltrationExtractor: processing 3/train/filtrations/6/RadialFiltration_12_51, do_fit = True, filtration = RadialFiltration(center=array([12, 51]), n_jobs=-1)\n",
      "Saving the result to ./3/train/filtrations/6/RadialFiltration_12_51/diagrams.npy\n",
      "Applying Scaler to persistence diagrams.\n",
      "DiagramVectorizer: fitting complete\n"
     ]
    },
    {
     "name": "stderr",
     "output_type": "stream",
     "text": [
      "DiagramVectorizer: batch: 100%|██████████| 1/1 [00:05<00:00,  5.34s/it]\n"
     ]
    },
    {
     "name": "stdout",
     "output_type": "stream",
     "text": [
      "Saving the result to ./3/train/filtrations/6/RadialFiltration_12_51/features.npy\n",
      "Fitting filtration 71/116: 6/RadialFiltration_25_12\n",
      "FiltrationExtractor: processing 3/train/filtrations/6/RadialFiltration_25_12, do_fit = True, filtration = RadialFiltration(center=array([25, 12]), n_jobs=-1)\n",
      "Saving the result to ./3/train/filtrations/6/RadialFiltration_25_12/diagrams.npy\n",
      "Applying Scaler to persistence diagrams.\n",
      "DiagramVectorizer: fitting complete\n"
     ]
    },
    {
     "name": "stderr",
     "output_type": "stream",
     "text": [
      "DiagramVectorizer: batch: 100%|██████████| 1/1 [00:05<00:00,  5.28s/it]\n"
     ]
    },
    {
     "name": "stdout",
     "output_type": "stream",
     "text": [
      "Saving the result to ./3/train/filtrations/6/RadialFiltration_25_12/features.npy\n",
      "Fitting filtration 72/116: 6/RadialFiltration_25_25\n",
      "FiltrationExtractor: processing 3/train/filtrations/6/RadialFiltration_25_25, do_fit = True, filtration = RadialFiltration(center=array([25, 25]), n_jobs=-1)\n",
      "Saving the result to ./3/train/filtrations/6/RadialFiltration_25_25/diagrams.npy\n",
      "Applying Scaler to persistence diagrams.\n",
      "DiagramVectorizer: fitting complete\n"
     ]
    },
    {
     "name": "stderr",
     "output_type": "stream",
     "text": [
      "DiagramVectorizer: batch: 100%|██████████| 1/1 [00:05<00:00,  5.12s/it]\n"
     ]
    },
    {
     "name": "stdout",
     "output_type": "stream",
     "text": [
      "Saving the result to ./3/train/filtrations/6/RadialFiltration_25_25/features.npy\n",
      "Fitting filtration 73/116: 6/RadialFiltration_25_38\n",
      "FiltrationExtractor: processing 3/train/filtrations/6/RadialFiltration_25_38, do_fit = True, filtration = RadialFiltration(center=array([25, 38]), n_jobs=-1)\n",
      "Saving the result to ./3/train/filtrations/6/RadialFiltration_25_38/diagrams.npy\n",
      "Applying Scaler to persistence diagrams.\n",
      "DiagramVectorizer: fitting complete\n"
     ]
    },
    {
     "name": "stderr",
     "output_type": "stream",
     "text": [
      "DiagramVectorizer: batch: 100%|██████████| 1/1 [00:05<00:00,  5.39s/it]\n"
     ]
    },
    {
     "name": "stdout",
     "output_type": "stream",
     "text": [
      "Saving the result to ./3/train/filtrations/6/RadialFiltration_25_38/features.npy\n",
      "Fitting filtration 74/116: 6/RadialFiltration_25_51\n",
      "FiltrationExtractor: processing 3/train/filtrations/6/RadialFiltration_25_51, do_fit = True, filtration = RadialFiltration(center=array([25, 51]), n_jobs=-1)\n",
      "Saving the result to ./3/train/filtrations/6/RadialFiltration_25_51/diagrams.npy\n",
      "Applying Scaler to persistence diagrams.\n",
      "DiagramVectorizer: fitting complete\n"
     ]
    },
    {
     "name": "stderr",
     "output_type": "stream",
     "text": [
      "DiagramVectorizer: batch: 100%|██████████| 1/1 [00:05<00:00,  5.08s/it]\n"
     ]
    },
    {
     "name": "stdout",
     "output_type": "stream",
     "text": [
      "Saving the result to ./3/train/filtrations/6/RadialFiltration_25_51/features.npy\n",
      "Fitting filtration 75/116: 6/RadialFiltration_38_12\n",
      "FiltrationExtractor: processing 3/train/filtrations/6/RadialFiltration_38_12, do_fit = True, filtration = RadialFiltration(center=array([38, 12]), n_jobs=-1)\n",
      "Saving the result to ./3/train/filtrations/6/RadialFiltration_38_12/diagrams.npy\n",
      "Applying Scaler to persistence diagrams.\n",
      "DiagramVectorizer: fitting complete\n"
     ]
    },
    {
     "name": "stderr",
     "output_type": "stream",
     "text": [
      "DiagramVectorizer: batch: 100%|██████████| 1/1 [00:05<00:00,  5.03s/it]\n"
     ]
    },
    {
     "name": "stdout",
     "output_type": "stream",
     "text": [
      "Saving the result to ./3/train/filtrations/6/RadialFiltration_38_12/features.npy\n",
      "Fitting filtration 76/116: 6/RadialFiltration_38_25\n",
      "FiltrationExtractor: processing 3/train/filtrations/6/RadialFiltration_38_25, do_fit = True, filtration = RadialFiltration(center=array([38, 25]), n_jobs=-1)\n",
      "Saving the result to ./3/train/filtrations/6/RadialFiltration_38_25/diagrams.npy\n",
      "Applying Scaler to persistence diagrams.\n",
      "DiagramVectorizer: fitting complete\n"
     ]
    },
    {
     "name": "stderr",
     "output_type": "stream",
     "text": [
      "DiagramVectorizer: batch: 100%|██████████| 1/1 [00:05<00:00,  5.05s/it]\n"
     ]
    },
    {
     "name": "stdout",
     "output_type": "stream",
     "text": [
      "Saving the result to ./3/train/filtrations/6/RadialFiltration_38_25/features.npy\n",
      "Fitting filtration 77/116: 6/RadialFiltration_38_38\n",
      "FiltrationExtractor: processing 3/train/filtrations/6/RadialFiltration_38_38, do_fit = True, filtration = RadialFiltration(center=array([38, 38]), n_jobs=-1)\n",
      "Saving the result to ./3/train/filtrations/6/RadialFiltration_38_38/diagrams.npy\n",
      "Applying Scaler to persistence diagrams.\n",
      "DiagramVectorizer: fitting complete\n"
     ]
    },
    {
     "name": "stderr",
     "output_type": "stream",
     "text": [
      "DiagramVectorizer: batch: 100%|██████████| 1/1 [00:05<00:00,  5.25s/it]\n"
     ]
    },
    {
     "name": "stdout",
     "output_type": "stream",
     "text": [
      "Saving the result to ./3/train/filtrations/6/RadialFiltration_38_38/features.npy\n",
      "Fitting filtration 78/116: 6/RadialFiltration_38_51\n",
      "FiltrationExtractor: processing 3/train/filtrations/6/RadialFiltration_38_51, do_fit = True, filtration = RadialFiltration(center=array([38, 51]), n_jobs=-1)\n",
      "Saving the result to ./3/train/filtrations/6/RadialFiltration_38_51/diagrams.npy\n",
      "Applying Scaler to persistence diagrams.\n",
      "DiagramVectorizer: fitting complete\n"
     ]
    },
    {
     "name": "stderr",
     "output_type": "stream",
     "text": [
      "DiagramVectorizer: batch: 100%|██████████| 1/1 [00:05<00:00,  5.21s/it]\n"
     ]
    },
    {
     "name": "stdout",
     "output_type": "stream",
     "text": [
      "Saving the result to ./3/train/filtrations/6/RadialFiltration_38_51/features.npy\n",
      "Fitting filtration 79/116: 6/RadialFiltration_51_12\n",
      "FiltrationExtractor: processing 3/train/filtrations/6/RadialFiltration_51_12, do_fit = True, filtration = RadialFiltration(center=array([51, 12]), n_jobs=-1)\n",
      "Saving the result to ./3/train/filtrations/6/RadialFiltration_51_12/diagrams.npy\n",
      "Applying Scaler to persistence diagrams.\n",
      "DiagramVectorizer: fitting complete\n"
     ]
    },
    {
     "name": "stderr",
     "output_type": "stream",
     "text": [
      "DiagramVectorizer: batch: 100%|██████████| 1/1 [00:05<00:00,  5.15s/it]\n"
     ]
    },
    {
     "name": "stdout",
     "output_type": "stream",
     "text": [
      "Saving the result to ./3/train/filtrations/6/RadialFiltration_51_12/features.npy\n",
      "Fitting filtration 80/116: 6/RadialFiltration_51_25\n",
      "FiltrationExtractor: processing 3/train/filtrations/6/RadialFiltration_51_25, do_fit = True, filtration = RadialFiltration(center=array([51, 25]), n_jobs=-1)\n"
     ]
    },
    {
     "name": "stderr",
     "output_type": "stream",
     "text": [
      "d:\\Programs\\Programming\\Python\\lib\\site-packages\\joblib\\externals\\loky\\process_executor.py:752: UserWarning: A worker stopped while some jobs were given to the executor. This can be caused by a too short worker timeout or by a memory leak.\n",
      "  warnings.warn(\n"
     ]
    },
    {
     "name": "stdout",
     "output_type": "stream",
     "text": [
      "Saving the result to ./3/train/filtrations/6/RadialFiltration_51_25/diagrams.npy\n",
      "Applying Scaler to persistence diagrams.\n",
      "DiagramVectorizer: fitting complete\n"
     ]
    },
    {
     "name": "stderr",
     "output_type": "stream",
     "text": [
      "DiagramVectorizer: batch: 100%|██████████| 1/1 [00:05<00:00,  5.18s/it]\n"
     ]
    },
    {
     "name": "stdout",
     "output_type": "stream",
     "text": [
      "Saving the result to ./3/train/filtrations/6/RadialFiltration_51_25/features.npy\n",
      "Fitting filtration 81/116: 6/RadialFiltration_51_38\n",
      "FiltrationExtractor: processing 3/train/filtrations/6/RadialFiltration_51_38, do_fit = True, filtration = RadialFiltration(center=array([51, 38]), n_jobs=-1)\n",
      "Saving the result to ./3/train/filtrations/6/RadialFiltration_51_38/diagrams.npy\n",
      "Applying Scaler to persistence diagrams.\n",
      "DiagramVectorizer: fitting complete\n"
     ]
    },
    {
     "name": "stderr",
     "output_type": "stream",
     "text": [
      "DiagramVectorizer: batch: 100%|██████████| 1/1 [00:05<00:00,  5.16s/it]\n"
     ]
    },
    {
     "name": "stdout",
     "output_type": "stream",
     "text": [
      "Saving the result to ./3/train/filtrations/6/RadialFiltration_51_38/features.npy\n",
      "Fitting filtration 82/116: 6/RadialFiltration_51_51\n",
      "FiltrationExtractor: processing 3/train/filtrations/6/RadialFiltration_51_51, do_fit = True, filtration = RadialFiltration(center=array([51, 51]), n_jobs=-1)\n"
     ]
    },
    {
     "name": "stderr",
     "output_type": "stream",
     "text": [
      "d:\\Programs\\Programming\\Python\\lib\\site-packages\\joblib\\externals\\loky\\process_executor.py:752: UserWarning: A worker stopped while some jobs were given to the executor. This can be caused by a too short worker timeout or by a memory leak.\n",
      "  warnings.warn(\n"
     ]
    },
    {
     "name": "stdout",
     "output_type": "stream",
     "text": [
      "Saving the result to ./3/train/filtrations/6/RadialFiltration_51_51/diagrams.npy\n",
      "Applying Scaler to persistence diagrams.\n",
      "DiagramVectorizer: fitting complete\n"
     ]
    },
    {
     "name": "stderr",
     "output_type": "stream",
     "text": [
      "DiagramVectorizer: batch: 100%|██████████| 1/1 [00:05<00:00,  5.38s/it]\n"
     ]
    },
    {
     "name": "stdout",
     "output_type": "stream",
     "text": [
      "Saving the result to ./3/train/filtrations/6/RadialFiltration_51_51/features.npy\n",
      "Fitting filtration 83/116: 6/DilationFiltration\n",
      "FiltrationExtractor: processing 3/train/filtrations/6/DilationFiltration, do_fit = True, filtration = DilationFiltration(n_jobs=-1)\n",
      "Got the result from ./3/train/filtrations/6/DilationFiltration/diagrams.npy\n",
      "Applying Scaler to persistence diagrams.\n",
      "DiagramVectorizer: fitting complete\n",
      "Got the result from ./3/train/filtrations/6/DilationFiltration/features.npy\n",
      "Fitting filtration 84/116: 6/ErosionFiltration\n",
      "FiltrationExtractor: processing 3/train/filtrations/6/ErosionFiltration, do_fit = True, filtration = ErosionFiltration(n_jobs=-1)\n",
      "Got the result from ./3/train/filtrations/6/ErosionFiltration/diagrams.npy\n",
      "Applying Scaler to persistence diagrams.\n",
      "DiagramVectorizer: fitting complete\n",
      "Got the result from ./3/train/filtrations/6/ErosionFiltration/features.npy\n",
      "Fitting filtration 85/116: 6/SignedDistanceFiltration\n",
      "FiltrationExtractor: processing 3/train/filtrations/6/SignedDistanceFiltration, do_fit = True, filtration = SignedDistanceFiltration(n_jobs=-1)\n",
      "Got the result from ./3/train/filtrations/6/SignedDistanceFiltration/diagrams.npy\n",
      "Applying Scaler to persistence diagrams.\n",
      "DiagramVectorizer: fitting complete\n",
      "Got the result from ./3/train/filtrations/6/SignedDistanceFiltration/features.npy\n",
      "Fitting filtration 86/116: 6/DensityFiltration_1\n",
      "FiltrationExtractor: processing 3/train/filtrations/6/DensityFiltration_1, do_fit = True, filtration = DensityFiltration(n_jobs=-1, radius=1)\n",
      "Got the result from ./3/train/filtrations/6/DensityFiltration_1/diagrams.npy\n",
      "Applying Scaler to persistence diagrams.\n",
      "DiagramVectorizer: fitting complete\n",
      "Got the result from ./3/train/filtrations/6/DensityFiltration_1/features.npy\n",
      "Fitting filtration 87/116: 6/DensityFiltration_3\n",
      "FiltrationExtractor: processing 3/train/filtrations/6/DensityFiltration_3, do_fit = True, filtration = DensityFiltration(n_jobs=-1)\n",
      "Got the result from ./3/train/filtrations/6/DensityFiltration_3/diagrams.npy\n",
      "Applying Scaler to persistence diagrams.\n",
      "DiagramVectorizer: fitting complete\n",
      "Got the result from ./3/train/filtrations/6/DensityFiltration_3/features.npy\n",
      "Fitting filtration 88/116: 8/HeightFiltrartion_-1_-1\n",
      "FiltrationExtractor: processing 3/train/filtrations/8/HeightFiltrartion_-1_-1, do_fit = True, filtration = HeightFiltration(direction=array([-1, -1]), n_jobs=-1)\n",
      "Got the result from ./3/train/filtrations/8/HeightFiltrartion_-1_-1/diagrams.npy\n",
      "Applying Scaler to persistence diagrams.\n",
      "DiagramVectorizer: fitting complete\n",
      "Got the result from ./3/train/filtrations/8/HeightFiltrartion_-1_-1/features.npy\n",
      "Fitting filtration 89/116: 8/HeightFiltrartion_1_1\n",
      "FiltrationExtractor: processing 3/train/filtrations/8/HeightFiltrartion_1_1, do_fit = True, filtration = HeightFiltration(direction=array([1, 1]), n_jobs=-1)\n",
      "Got the result from ./3/train/filtrations/8/HeightFiltrartion_1_1/diagrams.npy\n",
      "Applying Scaler to persistence diagrams.\n",
      "DiagramVectorizer: fitting complete\n",
      "Got the result from ./3/train/filtrations/8/HeightFiltrartion_1_1/features.npy\n",
      "Fitting filtration 90/116: 8/HeightFiltrartion_1_-1\n",
      "FiltrationExtractor: processing 3/train/filtrations/8/HeightFiltrartion_1_-1, do_fit = True, filtration = HeightFiltration(direction=array([ 1, -1]), n_jobs=-1)\n",
      "Got the result from ./3/train/filtrations/8/HeightFiltrartion_1_-1/diagrams.npy\n",
      "Applying Scaler to persistence diagrams.\n",
      "DiagramVectorizer: fitting complete\n",
      "Got the result from ./3/train/filtrations/8/HeightFiltrartion_1_-1/features.npy\n",
      "Fitting filtration 91/116: 8/HeightFiltrartion_-1_1\n",
      "FiltrationExtractor: processing 3/train/filtrations/8/HeightFiltrartion_-1_1, do_fit = True, filtration = HeightFiltration(direction=array([-1,  1]), n_jobs=-1)\n",
      "Got the result from ./3/train/filtrations/8/HeightFiltrartion_-1_1/diagrams.npy\n",
      "Applying Scaler to persistence diagrams.\n",
      "DiagramVectorizer: fitting complete\n",
      "Got the result from ./3/train/filtrations/8/HeightFiltrartion_-1_1/features.npy\n",
      "Fitting filtration 92/116: 8/HeightFiltrartion_0_-1\n",
      "FiltrationExtractor: processing 3/train/filtrations/8/HeightFiltrartion_0_-1, do_fit = True, filtration = HeightFiltration(direction=array([ 0, -1]), n_jobs=-1)\n",
      "Got the result from ./3/train/filtrations/8/HeightFiltrartion_0_-1/diagrams.npy\n",
      "Applying Scaler to persistence diagrams.\n",
      "DiagramVectorizer: fitting complete\n",
      "Got the result from ./3/train/filtrations/8/HeightFiltrartion_0_-1/features.npy\n",
      "Fitting filtration 93/116: 8/HeightFiltrartion_0_1\n",
      "FiltrationExtractor: processing 3/train/filtrations/8/HeightFiltrartion_0_1, do_fit = True, filtration = HeightFiltration(direction=array([0, 1]), n_jobs=-1)\n",
      "Got the result from ./3/train/filtrations/8/HeightFiltrartion_0_1/diagrams.npy\n",
      "Applying Scaler to persistence diagrams.\n",
      "DiagramVectorizer: fitting complete\n",
      "Got the result from ./3/train/filtrations/8/HeightFiltrartion_0_1/features.npy\n",
      "Fitting filtration 94/116: 8/HeightFiltrartion_-1_0\n",
      "FiltrationExtractor: processing 3/train/filtrations/8/HeightFiltrartion_-1_0, do_fit = True, filtration = HeightFiltration(direction=array([-1,  0]), n_jobs=-1)\n",
      "Got the result from ./3/train/filtrations/8/HeightFiltrartion_-1_0/diagrams.npy\n",
      "Applying Scaler to persistence diagrams.\n",
      "DiagramVectorizer: fitting complete\n",
      "Got the result from ./3/train/filtrations/8/HeightFiltrartion_-1_0/features.npy\n",
      "Fitting filtration 95/116: 8/HeightFiltrartion_1_0\n",
      "FiltrationExtractor: processing 3/train/filtrations/8/HeightFiltrartion_1_0, do_fit = True, filtration = HeightFiltration(direction=array([1, 0]), n_jobs=-1)\n",
      "Got the result from ./3/train/filtrations/8/HeightFiltrartion_1_0/diagrams.npy\n",
      "Applying Scaler to persistence diagrams.\n",
      "DiagramVectorizer: fitting complete\n",
      "Got the result from ./3/train/filtrations/8/HeightFiltrartion_1_0/features.npy\n",
      "Fitting filtration 96/116: 8/RadialFiltration_12_12\n",
      "FiltrationExtractor: processing 3/train/filtrations/8/RadialFiltration_12_12, do_fit = True, filtration = RadialFiltration(center=array([12, 12]), n_jobs=-1)\n",
      "Saving the result to ./3/train/filtrations/8/RadialFiltration_12_12/diagrams.npy\n",
      "Applying Scaler to persistence diagrams.\n",
      "DiagramVectorizer: fitting complete\n"
     ]
    },
    {
     "name": "stderr",
     "output_type": "stream",
     "text": [
      "DiagramVectorizer: batch: 100%|██████████| 1/1 [00:05<00:00,  5.00s/it]\n"
     ]
    },
    {
     "name": "stdout",
     "output_type": "stream",
     "text": [
      "Saving the result to ./3/train/filtrations/8/RadialFiltration_12_12/features.npy\n",
      "Fitting filtration 97/116: 8/RadialFiltration_12_25\n",
      "FiltrationExtractor: processing 3/train/filtrations/8/RadialFiltration_12_25, do_fit = True, filtration = RadialFiltration(center=array([12, 25]), n_jobs=-1)\n"
     ]
    },
    {
     "name": "stderr",
     "output_type": "stream",
     "text": [
      "d:\\Programs\\Programming\\Python\\lib\\site-packages\\joblib\\externals\\loky\\process_executor.py:752: UserWarning: A worker stopped while some jobs were given to the executor. This can be caused by a too short worker timeout or by a memory leak.\n",
      "  warnings.warn(\n"
     ]
    },
    {
     "name": "stdout",
     "output_type": "stream",
     "text": [
      "Saving the result to ./3/train/filtrations/8/RadialFiltration_12_25/diagrams.npy\n",
      "Applying Scaler to persistence diagrams.\n",
      "DiagramVectorizer: fitting complete\n"
     ]
    },
    {
     "name": "stderr",
     "output_type": "stream",
     "text": [
      "DiagramVectorizer: batch: 100%|██████████| 1/1 [00:05<00:00,  5.10s/it]\n"
     ]
    },
    {
     "name": "stdout",
     "output_type": "stream",
     "text": [
      "Saving the result to ./3/train/filtrations/8/RadialFiltration_12_25/features.npy\n",
      "Fitting filtration 98/116: 8/RadialFiltration_12_38\n",
      "FiltrationExtractor: processing 3/train/filtrations/8/RadialFiltration_12_38, do_fit = True, filtration = RadialFiltration(center=array([12, 38]), n_jobs=-1)\n",
      "Saving the result to ./3/train/filtrations/8/RadialFiltration_12_38/diagrams.npy\n",
      "Applying Scaler to persistence diagrams.\n",
      "DiagramVectorizer: fitting complete\n"
     ]
    },
    {
     "name": "stderr",
     "output_type": "stream",
     "text": [
      "DiagramVectorizer: batch: 100%|██████████| 1/1 [00:05<00:00,  5.14s/it]\n"
     ]
    },
    {
     "name": "stdout",
     "output_type": "stream",
     "text": [
      "Saving the result to ./3/train/filtrations/8/RadialFiltration_12_38/features.npy\n",
      "Fitting filtration 99/116: 8/RadialFiltration_12_51\n",
      "FiltrationExtractor: processing 3/train/filtrations/8/RadialFiltration_12_51, do_fit = True, filtration = RadialFiltration(center=array([12, 51]), n_jobs=-1)\n",
      "Saving the result to ./3/train/filtrations/8/RadialFiltration_12_51/diagrams.npy\n",
      "Applying Scaler to persistence diagrams.\n",
      "DiagramVectorizer: fitting complete\n"
     ]
    },
    {
     "name": "stderr",
     "output_type": "stream",
     "text": [
      "DiagramVectorizer: batch: 100%|██████████| 1/1 [00:05<00:00,  5.36s/it]\n"
     ]
    },
    {
     "name": "stdout",
     "output_type": "stream",
     "text": [
      "Saving the result to ./3/train/filtrations/8/RadialFiltration_12_51/features.npy\n",
      "Fitting filtration 100/116: 8/RadialFiltration_25_12\n",
      "FiltrationExtractor: processing 3/train/filtrations/8/RadialFiltration_25_12, do_fit = True, filtration = RadialFiltration(center=array([25, 12]), n_jobs=-1)\n"
     ]
    },
    {
     "name": "stderr",
     "output_type": "stream",
     "text": [
      "d:\\Programs\\Programming\\Python\\lib\\site-packages\\joblib\\externals\\loky\\process_executor.py:752: UserWarning: A worker stopped while some jobs were given to the executor. This can be caused by a too short worker timeout or by a memory leak.\n",
      "  warnings.warn(\n"
     ]
    },
    {
     "name": "stdout",
     "output_type": "stream",
     "text": [
      "Saving the result to ./3/train/filtrations/8/RadialFiltration_25_12/diagrams.npy\n",
      "Applying Scaler to persistence diagrams.\n",
      "DiagramVectorizer: fitting complete\n"
     ]
    },
    {
     "name": "stderr",
     "output_type": "stream",
     "text": [
      "DiagramVectorizer: batch: 100%|██████████| 1/1 [00:04<00:00,  4.98s/it]\n"
     ]
    },
    {
     "name": "stdout",
     "output_type": "stream",
     "text": [
      "Saving the result to ./3/train/filtrations/8/RadialFiltration_25_12/features.npy\n",
      "Fitting filtration 101/116: 8/RadialFiltration_25_25\n",
      "FiltrationExtractor: processing 3/train/filtrations/8/RadialFiltration_25_25, do_fit = True, filtration = RadialFiltration(center=array([25, 25]), n_jobs=-1)\n",
      "Saving the result to ./3/train/filtrations/8/RadialFiltration_25_25/diagrams.npy\n",
      "Applying Scaler to persistence diagrams.\n",
      "DiagramVectorizer: fitting complete\n"
     ]
    },
    {
     "name": "stderr",
     "output_type": "stream",
     "text": [
      "DiagramVectorizer: batch: 100%|██████████| 1/1 [00:05<00:00,  5.13s/it]\n"
     ]
    },
    {
     "name": "stdout",
     "output_type": "stream",
     "text": [
      "Saving the result to ./3/train/filtrations/8/RadialFiltration_25_25/features.npy\n",
      "Fitting filtration 102/116: 8/RadialFiltration_25_38\n",
      "FiltrationExtractor: processing 3/train/filtrations/8/RadialFiltration_25_38, do_fit = True, filtration = RadialFiltration(center=array([25, 38]), n_jobs=-1)\n",
      "Saving the result to ./3/train/filtrations/8/RadialFiltration_25_38/diagrams.npy\n",
      "Applying Scaler to persistence diagrams.\n",
      "DiagramVectorizer: fitting complete\n"
     ]
    },
    {
     "name": "stderr",
     "output_type": "stream",
     "text": [
      "DiagramVectorizer: batch: 100%|██████████| 1/1 [00:05<00:00,  5.29s/it]\n"
     ]
    },
    {
     "name": "stdout",
     "output_type": "stream",
     "text": [
      "Saving the result to ./3/train/filtrations/8/RadialFiltration_25_38/features.npy\n",
      "Fitting filtration 103/116: 8/RadialFiltration_25_51\n",
      "FiltrationExtractor: processing 3/train/filtrations/8/RadialFiltration_25_51, do_fit = True, filtration = RadialFiltration(center=array([25, 51]), n_jobs=-1)\n",
      "Saving the result to ./3/train/filtrations/8/RadialFiltration_25_51/diagrams.npy\n",
      "Applying Scaler to persistence diagrams.\n",
      "DiagramVectorizer: fitting complete\n"
     ]
    },
    {
     "name": "stderr",
     "output_type": "stream",
     "text": [
      "DiagramVectorizer: batch: 100%|██████████| 1/1 [00:05<00:00,  5.46s/it]\n"
     ]
    },
    {
     "name": "stdout",
     "output_type": "stream",
     "text": [
      "Saving the result to ./3/train/filtrations/8/RadialFiltration_25_51/features.npy\n",
      "Fitting filtration 104/116: 8/RadialFiltration_38_12\n",
      "FiltrationExtractor: processing 3/train/filtrations/8/RadialFiltration_38_12, do_fit = True, filtration = RadialFiltration(center=array([38, 12]), n_jobs=-1)\n",
      "Saving the result to ./3/train/filtrations/8/RadialFiltration_38_12/diagrams.npy\n",
      "Applying Scaler to persistence diagrams.\n",
      "DiagramVectorizer: fitting complete\n"
     ]
    },
    {
     "name": "stderr",
     "output_type": "stream",
     "text": [
      "DiagramVectorizer: batch: 100%|██████████| 1/1 [00:05<00:00,  5.06s/it]\n"
     ]
    },
    {
     "name": "stdout",
     "output_type": "stream",
     "text": [
      "Saving the result to ./3/train/filtrations/8/RadialFiltration_38_12/features.npy\n",
      "Fitting filtration 105/116: 8/RadialFiltration_38_25\n",
      "FiltrationExtractor: processing 3/train/filtrations/8/RadialFiltration_38_25, do_fit = True, filtration = RadialFiltration(center=array([38, 25]), n_jobs=-1)\n",
      "Saving the result to ./3/train/filtrations/8/RadialFiltration_38_25/diagrams.npy\n",
      "Applying Scaler to persistence diagrams.\n",
      "DiagramVectorizer: fitting complete\n"
     ]
    },
    {
     "name": "stderr",
     "output_type": "stream",
     "text": [
      "DiagramVectorizer: batch: 100%|██████████| 1/1 [00:05<00:00,  5.05s/it]\n"
     ]
    },
    {
     "name": "stdout",
     "output_type": "stream",
     "text": [
      "Saving the result to ./3/train/filtrations/8/RadialFiltration_38_25/features.npy\n",
      "Fitting filtration 106/116: 8/RadialFiltration_38_38\n",
      "FiltrationExtractor: processing 3/train/filtrations/8/RadialFiltration_38_38, do_fit = True, filtration = RadialFiltration(center=array([38, 38]), n_jobs=-1)\n",
      "Saving the result to ./3/train/filtrations/8/RadialFiltration_38_38/diagrams.npy\n",
      "Applying Scaler to persistence diagrams.\n",
      "DiagramVectorizer: fitting complete\n"
     ]
    },
    {
     "name": "stderr",
     "output_type": "stream",
     "text": [
      "DiagramVectorizer: batch: 100%|██████████| 1/1 [00:05<00:00,  5.33s/it]\n"
     ]
    },
    {
     "name": "stdout",
     "output_type": "stream",
     "text": [
      "Saving the result to ./3/train/filtrations/8/RadialFiltration_38_38/features.npy\n",
      "Fitting filtration 107/116: 8/RadialFiltration_38_51\n",
      "FiltrationExtractor: processing 3/train/filtrations/8/RadialFiltration_38_51, do_fit = True, filtration = RadialFiltration(center=array([38, 51]), n_jobs=-1)\n",
      "Saving the result to ./3/train/filtrations/8/RadialFiltration_38_51/diagrams.npy\n",
      "Applying Scaler to persistence diagrams.\n",
      "DiagramVectorizer: fitting complete\n"
     ]
    },
    {
     "name": "stderr",
     "output_type": "stream",
     "text": [
      "DiagramVectorizer: batch: 100%|██████████| 1/1 [00:05<00:00,  5.61s/it]\n"
     ]
    },
    {
     "name": "stdout",
     "output_type": "stream",
     "text": [
      "Saving the result to ./3/train/filtrations/8/RadialFiltration_38_51/features.npy\n",
      "Fitting filtration 108/116: 8/RadialFiltration_51_12\n",
      "FiltrationExtractor: processing 3/train/filtrations/8/RadialFiltration_51_12, do_fit = True, filtration = RadialFiltration(center=array([51, 12]), n_jobs=-1)\n"
     ]
    },
    {
     "name": "stderr",
     "output_type": "stream",
     "text": [
      "d:\\Programs\\Programming\\Python\\lib\\site-packages\\joblib\\externals\\loky\\process_executor.py:752: UserWarning: A worker stopped while some jobs were given to the executor. This can be caused by a too short worker timeout or by a memory leak.\n",
      "  warnings.warn(\n"
     ]
    },
    {
     "name": "stdout",
     "output_type": "stream",
     "text": [
      "Saving the result to ./3/train/filtrations/8/RadialFiltration_51_12/diagrams.npy\n",
      "Applying Scaler to persistence diagrams.\n",
      "DiagramVectorizer: fitting complete\n"
     ]
    },
    {
     "name": "stderr",
     "output_type": "stream",
     "text": [
      "DiagramVectorizer: batch: 100%|██████████| 1/1 [00:05<00:00,  5.30s/it]\n"
     ]
    },
    {
     "name": "stdout",
     "output_type": "stream",
     "text": [
      "Saving the result to ./3/train/filtrations/8/RadialFiltration_51_12/features.npy\n",
      "Fitting filtration 109/116: 8/RadialFiltration_51_25\n",
      "FiltrationExtractor: processing 3/train/filtrations/8/RadialFiltration_51_25, do_fit = True, filtration = RadialFiltration(center=array([51, 25]), n_jobs=-1)\n",
      "Saving the result to ./3/train/filtrations/8/RadialFiltration_51_25/diagrams.npy\n",
      "Applying Scaler to persistence diagrams.\n",
      "DiagramVectorizer: fitting complete\n"
     ]
    },
    {
     "name": "stderr",
     "output_type": "stream",
     "text": [
      "DiagramVectorizer: batch: 100%|██████████| 1/1 [00:05<00:00,  5.23s/it]\n"
     ]
    },
    {
     "name": "stdout",
     "output_type": "stream",
     "text": [
      "Saving the result to ./3/train/filtrations/8/RadialFiltration_51_25/features.npy\n",
      "Fitting filtration 110/116: 8/RadialFiltration_51_38\n",
      "FiltrationExtractor: processing 3/train/filtrations/8/RadialFiltration_51_38, do_fit = True, filtration = RadialFiltration(center=array([51, 38]), n_jobs=-1)\n",
      "Saving the result to ./3/train/filtrations/8/RadialFiltration_51_38/diagrams.npy\n",
      "Applying Scaler to persistence diagrams.\n",
      "DiagramVectorizer: fitting complete\n"
     ]
    },
    {
     "name": "stderr",
     "output_type": "stream",
     "text": [
      "DiagramVectorizer: batch: 100%|██████████| 1/1 [00:05<00:00,  5.30s/it]\n"
     ]
    },
    {
     "name": "stdout",
     "output_type": "stream",
     "text": [
      "Saving the result to ./3/train/filtrations/8/RadialFiltration_51_38/features.npy\n",
      "Fitting filtration 111/116: 8/RadialFiltration_51_51\n",
      "FiltrationExtractor: processing 3/train/filtrations/8/RadialFiltration_51_51, do_fit = True, filtration = RadialFiltration(center=array([51, 51]), n_jobs=-1)\n",
      "Saving the result to ./3/train/filtrations/8/RadialFiltration_51_51/diagrams.npy\n",
      "Applying Scaler to persistence diagrams.\n",
      "DiagramVectorizer: fitting complete\n"
     ]
    },
    {
     "name": "stderr",
     "output_type": "stream",
     "text": [
      "DiagramVectorizer: batch: 100%|██████████| 1/1 [00:05<00:00,  5.40s/it]\n"
     ]
    },
    {
     "name": "stdout",
     "output_type": "stream",
     "text": [
      "Saving the result to ./3/train/filtrations/8/RadialFiltration_51_51/features.npy\n",
      "Fitting filtration 112/116: 8/DilationFiltration\n",
      "FiltrationExtractor: processing 3/train/filtrations/8/DilationFiltration, do_fit = True, filtration = DilationFiltration(n_jobs=-1)\n",
      "Got the result from ./3/train/filtrations/8/DilationFiltration/diagrams.npy\n",
      "Applying Scaler to persistence diagrams.\n",
      "DiagramVectorizer: fitting complete\n",
      "Got the result from ./3/train/filtrations/8/DilationFiltration/features.npy\n",
      "Fitting filtration 113/116: 8/ErosionFiltration\n",
      "FiltrationExtractor: processing 3/train/filtrations/8/ErosionFiltration, do_fit = True, filtration = ErosionFiltration(n_jobs=-1)\n",
      "Got the result from ./3/train/filtrations/8/ErosionFiltration/diagrams.npy\n",
      "Applying Scaler to persistence diagrams.\n",
      "DiagramVectorizer: fitting complete\n",
      "Got the result from ./3/train/filtrations/8/ErosionFiltration/features.npy\n",
      "Fitting filtration 114/116: 8/SignedDistanceFiltration\n",
      "FiltrationExtractor: processing 3/train/filtrations/8/SignedDistanceFiltration, do_fit = True, filtration = SignedDistanceFiltration(n_jobs=-1)\n",
      "Got the result from ./3/train/filtrations/8/SignedDistanceFiltration/diagrams.npy\n",
      "Applying Scaler to persistence diagrams.\n",
      "DiagramVectorizer: fitting complete\n",
      "Got the result from ./3/train/filtrations/8/SignedDistanceFiltration/features.npy\n",
      "Fitting filtration 115/116: 8/DensityFiltration_1\n",
      "FiltrationExtractor: processing 3/train/filtrations/8/DensityFiltration_1, do_fit = True, filtration = DensityFiltration(n_jobs=-1, radius=1)\n",
      "Got the result from ./3/train/filtrations/8/DensityFiltration_1/diagrams.npy\n",
      "Applying Scaler to persistence diagrams.\n",
      "DiagramVectorizer: fitting complete\n",
      "Got the result from ./3/train/filtrations/8/DensityFiltration_1/features.npy\n",
      "Fitting filtration 116/116: 8/DensityFiltration_3\n",
      "FiltrationExtractor: processing 3/train/filtrations/8/DensityFiltration_3, do_fit = True, filtration = DensityFiltration(n_jobs=-1)\n",
      "Got the result from ./3/train/filtrations/8/DensityFiltration_3/diagrams.npy\n",
      "Applying Scaler to persistence diagrams.\n",
      "DiagramVectorizer: fitting complete\n",
      "Got the result from ./3/train/filtrations/8/DensityFiltration_3/features.npy\n",
      "Applying filtrations\n",
      "Applying filtration 1/116: 2/HeightFiltrartion_-1_-1\n",
      "Got the result from ./3/train/filtrations/2/HeightFiltrartion_-1_-1/features.npy\n",
      "Applying filtration 2/116: 2/HeightFiltrartion_1_1\n",
      "Got the result from ./3/train/filtrations/2/HeightFiltrartion_1_1/features.npy\n",
      "Applying filtration 3/116: 2/HeightFiltrartion_1_-1\n",
      "Got the result from ./3/train/filtrations/2/HeightFiltrartion_1_-1/features.npy\n",
      "Applying filtration 4/116: 2/HeightFiltrartion_-1_1\n",
      "Got the result from ./3/train/filtrations/2/HeightFiltrartion_-1_1/features.npy\n",
      "Applying filtration 5/116: 2/HeightFiltrartion_0_-1\n",
      "Got the result from ./3/train/filtrations/2/HeightFiltrartion_0_-1/features.npy\n",
      "Applying filtration 6/116: 2/HeightFiltrartion_0_1\n",
      "Got the result from ./3/train/filtrations/2/HeightFiltrartion_0_1/features.npy\n",
      "Applying filtration 7/116: 2/HeightFiltrartion_-1_0\n",
      "Got the result from ./3/train/filtrations/2/HeightFiltrartion_-1_0/features.npy\n",
      "Applying filtration 8/116: 2/HeightFiltrartion_1_0\n",
      "Got the result from ./3/train/filtrations/2/HeightFiltrartion_1_0/features.npy\n",
      "Applying filtration 9/116: 2/RadialFiltration_12_12\n",
      "Got the result from ./3/train/filtrations/2/RadialFiltration_12_12/features.npy\n",
      "Applying filtration 10/116: 2/RadialFiltration_12_25\n",
      "Got the result from ./3/train/filtrations/2/RadialFiltration_12_25/features.npy\n",
      "Applying filtration 11/116: 2/RadialFiltration_12_38\n",
      "Got the result from ./3/train/filtrations/2/RadialFiltration_12_38/features.npy\n",
      "Applying filtration 12/116: 2/RadialFiltration_12_51\n",
      "Got the result from ./3/train/filtrations/2/RadialFiltration_12_51/features.npy\n",
      "Applying filtration 13/116: 2/RadialFiltration_25_12\n",
      "Got the result from ./3/train/filtrations/2/RadialFiltration_25_12/features.npy\n",
      "Applying filtration 14/116: 2/RadialFiltration_25_25\n",
      "Got the result from ./3/train/filtrations/2/RadialFiltration_25_25/features.npy\n",
      "Applying filtration 15/116: 2/RadialFiltration_25_38\n",
      "Got the result from ./3/train/filtrations/2/RadialFiltration_25_38/features.npy\n",
      "Applying filtration 16/116: 2/RadialFiltration_25_51\n",
      "Got the result from ./3/train/filtrations/2/RadialFiltration_25_51/features.npy\n",
      "Applying filtration 17/116: 2/RadialFiltration_38_12\n",
      "Got the result from ./3/train/filtrations/2/RadialFiltration_38_12/features.npy\n",
      "Applying filtration 18/116: 2/RadialFiltration_38_25\n",
      "Got the result from ./3/train/filtrations/2/RadialFiltration_38_25/features.npy\n",
      "Applying filtration 19/116: 2/RadialFiltration_38_38\n",
      "Got the result from ./3/train/filtrations/2/RadialFiltration_38_38/features.npy\n",
      "Applying filtration 20/116: 2/RadialFiltration_38_51\n",
      "Got the result from ./3/train/filtrations/2/RadialFiltration_38_51/features.npy\n",
      "Applying filtration 21/116: 2/RadialFiltration_51_12\n",
      "Got the result from ./3/train/filtrations/2/RadialFiltration_51_12/features.npy\n",
      "Applying filtration 22/116: 2/RadialFiltration_51_25\n",
      "Got the result from ./3/train/filtrations/2/RadialFiltration_51_25/features.npy\n",
      "Applying filtration 23/116: 2/RadialFiltration_51_38\n",
      "Got the result from ./3/train/filtrations/2/RadialFiltration_51_38/features.npy\n",
      "Applying filtration 24/116: 2/RadialFiltration_51_51\n",
      "Got the result from ./3/train/filtrations/2/RadialFiltration_51_51/features.npy\n",
      "Applying filtration 25/116: 2/DilationFiltration\n",
      "Got the result from ./3/train/filtrations/2/DilationFiltration/features.npy\n",
      "Applying filtration 26/116: 2/ErosionFiltration\n",
      "Got the result from ./3/train/filtrations/2/ErosionFiltration/features.npy\n",
      "Applying filtration 27/116: 2/SignedDistanceFiltration\n",
      "Got the result from ./3/train/filtrations/2/SignedDistanceFiltration/features.npy\n",
      "Applying filtration 28/116: 2/DensityFiltration_1\n",
      "Got the result from ./3/train/filtrations/2/DensityFiltration_1/features.npy\n",
      "Applying filtration 29/116: 2/DensityFiltration_3\n",
      "Got the result from ./3/train/filtrations/2/DensityFiltration_3/features.npy\n",
      "Applying filtration 30/116: 4/HeightFiltrartion_-1_-1\n",
      "Got the result from ./3/train/filtrations/4/HeightFiltrartion_-1_-1/features.npy\n",
      "Applying filtration 31/116: 4/HeightFiltrartion_1_1\n",
      "Got the result from ./3/train/filtrations/4/HeightFiltrartion_1_1/features.npy\n",
      "Applying filtration 32/116: 4/HeightFiltrartion_1_-1\n",
      "Got the result from ./3/train/filtrations/4/HeightFiltrartion_1_-1/features.npy\n",
      "Applying filtration 33/116: 4/HeightFiltrartion_-1_1\n",
      "Got the result from ./3/train/filtrations/4/HeightFiltrartion_-1_1/features.npy\n",
      "Applying filtration 34/116: 4/HeightFiltrartion_0_-1\n",
      "Got the result from ./3/train/filtrations/4/HeightFiltrartion_0_-1/features.npy\n",
      "Applying filtration 35/116: 4/HeightFiltrartion_0_1\n",
      "Got the result from ./3/train/filtrations/4/HeightFiltrartion_0_1/features.npy\n",
      "Applying filtration 36/116: 4/HeightFiltrartion_-1_0\n",
      "Got the result from ./3/train/filtrations/4/HeightFiltrartion_-1_0/features.npy\n",
      "Applying filtration 37/116: 4/HeightFiltrartion_1_0\n",
      "Got the result from ./3/train/filtrations/4/HeightFiltrartion_1_0/features.npy\n",
      "Applying filtration 38/116: 4/RadialFiltration_12_12\n",
      "Got the result from ./3/train/filtrations/4/RadialFiltration_12_12/features.npy\n",
      "Applying filtration 39/116: 4/RadialFiltration_12_25\n",
      "Got the result from ./3/train/filtrations/4/RadialFiltration_12_25/features.npy\n",
      "Applying filtration 40/116: 4/RadialFiltration_12_38\n",
      "Got the result from ./3/train/filtrations/4/RadialFiltration_12_38/features.npy\n",
      "Applying filtration 41/116: 4/RadialFiltration_12_51\n",
      "Got the result from ./3/train/filtrations/4/RadialFiltration_12_51/features.npy\n",
      "Applying filtration 42/116: 4/RadialFiltration_25_12\n",
      "Got the result from ./3/train/filtrations/4/RadialFiltration_25_12/features.npy\n",
      "Applying filtration 43/116: 4/RadialFiltration_25_25\n",
      "Got the result from ./3/train/filtrations/4/RadialFiltration_25_25/features.npy\n",
      "Applying filtration 44/116: 4/RadialFiltration_25_38\n",
      "Got the result from ./3/train/filtrations/4/RadialFiltration_25_38/features.npy\n",
      "Applying filtration 45/116: 4/RadialFiltration_25_51\n",
      "Got the result from ./3/train/filtrations/4/RadialFiltration_25_51/features.npy\n",
      "Applying filtration 46/116: 4/RadialFiltration_38_12\n",
      "Got the result from ./3/train/filtrations/4/RadialFiltration_38_12/features.npy\n",
      "Applying filtration 47/116: 4/RadialFiltration_38_25\n",
      "Got the result from ./3/train/filtrations/4/RadialFiltration_38_25/features.npy\n",
      "Applying filtration 48/116: 4/RadialFiltration_38_38\n",
      "Got the result from ./3/train/filtrations/4/RadialFiltration_38_38/features.npy\n",
      "Applying filtration 49/116: 4/RadialFiltration_38_51\n",
      "Got the result from ./3/train/filtrations/4/RadialFiltration_38_51/features.npy\n",
      "Applying filtration 50/116: 4/RadialFiltration_51_12\n",
      "Got the result from ./3/train/filtrations/4/RadialFiltration_51_12/features.npy\n",
      "Applying filtration 51/116: 4/RadialFiltration_51_25\n",
      "Got the result from ./3/train/filtrations/4/RadialFiltration_51_25/features.npy\n",
      "Applying filtration 52/116: 4/RadialFiltration_51_38\n",
      "Got the result from ./3/train/filtrations/4/RadialFiltration_51_38/features.npy\n",
      "Applying filtration 53/116: 4/RadialFiltration_51_51\n",
      "Got the result from ./3/train/filtrations/4/RadialFiltration_51_51/features.npy\n",
      "Applying filtration 54/116: 4/DilationFiltration\n",
      "Got the result from ./3/train/filtrations/4/DilationFiltration/features.npy\n",
      "Applying filtration 55/116: 4/ErosionFiltration\n",
      "Got the result from ./3/train/filtrations/4/ErosionFiltration/features.npy\n",
      "Applying filtration 56/116: 4/SignedDistanceFiltration\n",
      "Got the result from ./3/train/filtrations/4/SignedDistanceFiltration/features.npy\n",
      "Applying filtration 57/116: 4/DensityFiltration_1\n",
      "Got the result from ./3/train/filtrations/4/DensityFiltration_1/features.npy\n",
      "Applying filtration 58/116: 4/DensityFiltration_3\n",
      "Got the result from ./3/train/filtrations/4/DensityFiltration_3/features.npy\n",
      "Applying filtration 59/116: 6/HeightFiltrartion_-1_-1\n",
      "Got the result from ./3/train/filtrations/6/HeightFiltrartion_-1_-1/features.npy\n",
      "Applying filtration 60/116: 6/HeightFiltrartion_1_1\n",
      "Got the result from ./3/train/filtrations/6/HeightFiltrartion_1_1/features.npy\n",
      "Applying filtration 61/116: 6/HeightFiltrartion_1_-1\n",
      "Got the result from ./3/train/filtrations/6/HeightFiltrartion_1_-1/features.npy\n",
      "Applying filtration 62/116: 6/HeightFiltrartion_-1_1\n",
      "Got the result from ./3/train/filtrations/6/HeightFiltrartion_-1_1/features.npy\n",
      "Applying filtration 63/116: 6/HeightFiltrartion_0_-1\n",
      "Got the result from ./3/train/filtrations/6/HeightFiltrartion_0_-1/features.npy\n",
      "Applying filtration 64/116: 6/HeightFiltrartion_0_1\n",
      "Got the result from ./3/train/filtrations/6/HeightFiltrartion_0_1/features.npy\n",
      "Applying filtration 65/116: 6/HeightFiltrartion_-1_0\n",
      "Got the result from ./3/train/filtrations/6/HeightFiltrartion_-1_0/features.npy\n",
      "Applying filtration 66/116: 6/HeightFiltrartion_1_0\n",
      "Got the result from ./3/train/filtrations/6/HeightFiltrartion_1_0/features.npy\n",
      "Applying filtration 67/116: 6/RadialFiltration_12_12\n",
      "Got the result from ./3/train/filtrations/6/RadialFiltration_12_12/features.npy\n",
      "Applying filtration 68/116: 6/RadialFiltration_12_25\n",
      "Got the result from ./3/train/filtrations/6/RadialFiltration_12_25/features.npy\n",
      "Applying filtration 69/116: 6/RadialFiltration_12_38\n",
      "Got the result from ./3/train/filtrations/6/RadialFiltration_12_38/features.npy\n",
      "Applying filtration 70/116: 6/RadialFiltration_12_51\n",
      "Got the result from ./3/train/filtrations/6/RadialFiltration_12_51/features.npy\n",
      "Applying filtration 71/116: 6/RadialFiltration_25_12\n",
      "Got the result from ./3/train/filtrations/6/RadialFiltration_25_12/features.npy\n",
      "Applying filtration 72/116: 6/RadialFiltration_25_25\n",
      "Got the result from ./3/train/filtrations/6/RadialFiltration_25_25/features.npy\n",
      "Applying filtration 73/116: 6/RadialFiltration_25_38\n",
      "Got the result from ./3/train/filtrations/6/RadialFiltration_25_38/features.npy\n",
      "Applying filtration 74/116: 6/RadialFiltration_25_51\n",
      "Got the result from ./3/train/filtrations/6/RadialFiltration_25_51/features.npy\n",
      "Applying filtration 75/116: 6/RadialFiltration_38_12\n",
      "Got the result from ./3/train/filtrations/6/RadialFiltration_38_12/features.npy\n",
      "Applying filtration 76/116: 6/RadialFiltration_38_25\n",
      "Got the result from ./3/train/filtrations/6/RadialFiltration_38_25/features.npy\n",
      "Applying filtration 77/116: 6/RadialFiltration_38_38\n",
      "Got the result from ./3/train/filtrations/6/RadialFiltration_38_38/features.npy\n",
      "Applying filtration 78/116: 6/RadialFiltration_38_51\n",
      "Got the result from ./3/train/filtrations/6/RadialFiltration_38_51/features.npy\n",
      "Applying filtration 79/116: 6/RadialFiltration_51_12\n",
      "Got the result from ./3/train/filtrations/6/RadialFiltration_51_12/features.npy\n",
      "Applying filtration 80/116: 6/RadialFiltration_51_25\n",
      "Got the result from ./3/train/filtrations/6/RadialFiltration_51_25/features.npy\n",
      "Applying filtration 81/116: 6/RadialFiltration_51_38\n",
      "Got the result from ./3/train/filtrations/6/RadialFiltration_51_38/features.npy\n",
      "Applying filtration 82/116: 6/RadialFiltration_51_51\n",
      "Got the result from ./3/train/filtrations/6/RadialFiltration_51_51/features.npy\n",
      "Applying filtration 83/116: 6/DilationFiltration\n",
      "Got the result from ./3/train/filtrations/6/DilationFiltration/features.npy\n",
      "Applying filtration 84/116: 6/ErosionFiltration\n",
      "Got the result from ./3/train/filtrations/6/ErosionFiltration/features.npy\n",
      "Applying filtration 85/116: 6/SignedDistanceFiltration\n",
      "Got the result from ./3/train/filtrations/6/SignedDistanceFiltration/features.npy\n",
      "Applying filtration 86/116: 6/DensityFiltration_1\n",
      "Got the result from ./3/train/filtrations/6/DensityFiltration_1/features.npy\n",
      "Applying filtration 87/116: 6/DensityFiltration_3\n",
      "Got the result from ./3/train/filtrations/6/DensityFiltration_3/features.npy\n",
      "Applying filtration 88/116: 8/HeightFiltrartion_-1_-1\n",
      "Got the result from ./3/train/filtrations/8/HeightFiltrartion_-1_-1/features.npy\n",
      "Applying filtration 89/116: 8/HeightFiltrartion_1_1\n",
      "Got the result from ./3/train/filtrations/8/HeightFiltrartion_1_1/features.npy\n",
      "Applying filtration 90/116: 8/HeightFiltrartion_1_-1\n",
      "Got the result from ./3/train/filtrations/8/HeightFiltrartion_1_-1/features.npy\n",
      "Applying filtration 91/116: 8/HeightFiltrartion_-1_1\n",
      "Got the result from ./3/train/filtrations/8/HeightFiltrartion_-1_1/features.npy\n",
      "Applying filtration 92/116: 8/HeightFiltrartion_0_-1\n",
      "Got the result from ./3/train/filtrations/8/HeightFiltrartion_0_-1/features.npy\n",
      "Applying filtration 93/116: 8/HeightFiltrartion_0_1\n",
      "Got the result from ./3/train/filtrations/8/HeightFiltrartion_0_1/features.npy\n",
      "Applying filtration 94/116: 8/HeightFiltrartion_-1_0\n",
      "Got the result from ./3/train/filtrations/8/HeightFiltrartion_-1_0/features.npy\n",
      "Applying filtration 95/116: 8/HeightFiltrartion_1_0\n",
      "Got the result from ./3/train/filtrations/8/HeightFiltrartion_1_0/features.npy\n",
      "Applying filtration 96/116: 8/RadialFiltration_12_12\n",
      "Got the result from ./3/train/filtrations/8/RadialFiltration_12_12/features.npy\n",
      "Applying filtration 97/116: 8/RadialFiltration_12_25\n",
      "Got the result from ./3/train/filtrations/8/RadialFiltration_12_25/features.npy\n",
      "Applying filtration 98/116: 8/RadialFiltration_12_38\n",
      "Got the result from ./3/train/filtrations/8/RadialFiltration_12_38/features.npy\n",
      "Applying filtration 99/116: 8/RadialFiltration_12_51\n",
      "Got the result from ./3/train/filtrations/8/RadialFiltration_12_51/features.npy\n",
      "Applying filtration 100/116: 8/RadialFiltration_25_12\n",
      "Got the result from ./3/train/filtrations/8/RadialFiltration_25_12/features.npy\n",
      "Applying filtration 101/116: 8/RadialFiltration_25_25\n",
      "Got the result from ./3/train/filtrations/8/RadialFiltration_25_25/features.npy\n",
      "Applying filtration 102/116: 8/RadialFiltration_25_38\n",
      "Got the result from ./3/train/filtrations/8/RadialFiltration_25_38/features.npy\n",
      "Applying filtration 103/116: 8/RadialFiltration_25_51\n",
      "Got the result from ./3/train/filtrations/8/RadialFiltration_25_51/features.npy\n",
      "Applying filtration 104/116: 8/RadialFiltration_38_12\n",
      "Got the result from ./3/train/filtrations/8/RadialFiltration_38_12/features.npy\n",
      "Applying filtration 105/116: 8/RadialFiltration_38_25\n",
      "Got the result from ./3/train/filtrations/8/RadialFiltration_38_25/features.npy\n",
      "Applying filtration 106/116: 8/RadialFiltration_38_38\n",
      "Got the result from ./3/train/filtrations/8/RadialFiltration_38_38/features.npy\n",
      "Applying filtration 107/116: 8/RadialFiltration_38_51\n",
      "Got the result from ./3/train/filtrations/8/RadialFiltration_38_51/features.npy\n",
      "Applying filtration 108/116: 8/RadialFiltration_51_12\n",
      "Got the result from ./3/train/filtrations/8/RadialFiltration_51_12/features.npy\n",
      "Applying filtration 109/116: 8/RadialFiltration_51_25\n",
      "Got the result from ./3/train/filtrations/8/RadialFiltration_51_25/features.npy\n",
      "Applying filtration 110/116: 8/RadialFiltration_51_38\n",
      "Got the result from ./3/train/filtrations/8/RadialFiltration_51_38/features.npy\n",
      "Applying filtration 111/116: 8/RadialFiltration_51_51\n",
      "Got the result from ./3/train/filtrations/8/RadialFiltration_51_51/features.npy\n",
      "Applying filtration 112/116: 8/DilationFiltration\n",
      "Got the result from ./3/train/filtrations/8/DilationFiltration/features.npy\n",
      "Applying filtration 113/116: 8/ErosionFiltration\n",
      "Got the result from ./3/train/filtrations/8/ErosionFiltration/features.npy\n",
      "Applying filtration 114/116: 8/SignedDistanceFiltration\n",
      "Got the result from ./3/train/filtrations/8/SignedDistanceFiltration/features.npy\n",
      "Applying filtration 115/116: 8/DensityFiltration_1\n",
      "Got the result from ./3/train/filtrations/8/DensityFiltration_1/features.npy\n",
      "Applying filtration 116/116: 8/DensityFiltration_3\n",
      "Got the result from ./3/train/filtrations/8/DensityFiltration_3/features.npy\n",
      "Got the result from ./3/train/geometry/features.npy\n",
      "Got the result from ./3/train/geometry/features.npy\n",
      "Applying StandardScaler.\n",
      "Calculating inverted images\n",
      "Got the result from ./3/train/greyscale/features.npy\n",
      "Got the result from ./3/train/inverted_greyscale/features.npy\n",
      "Applying filtrations\n",
      "Applying filtration 1/116: 2/HeightFiltrartion_-1_-1\n",
      "Got the result from ./3/train/filtrations/2/HeightFiltrartion_-1_-1/features.npy\n",
      "Applying filtration 2/116: 2/HeightFiltrartion_1_1\n",
      "Got the result from ./3/train/filtrations/2/HeightFiltrartion_1_1/features.npy\n",
      "Applying filtration 3/116: 2/HeightFiltrartion_1_-1\n",
      "Got the result from ./3/train/filtrations/2/HeightFiltrartion_1_-1/features.npy\n",
      "Applying filtration 4/116: 2/HeightFiltrartion_-1_1\n",
      "Got the result from ./3/train/filtrations/2/HeightFiltrartion_-1_1/features.npy\n",
      "Applying filtration 5/116: 2/HeightFiltrartion_0_-1\n",
      "Got the result from ./3/train/filtrations/2/HeightFiltrartion_0_-1/features.npy\n",
      "Applying filtration 6/116: 2/HeightFiltrartion_0_1\n",
      "Got the result from ./3/train/filtrations/2/HeightFiltrartion_0_1/features.npy\n",
      "Applying filtration 7/116: 2/HeightFiltrartion_-1_0\n",
      "Got the result from ./3/train/filtrations/2/HeightFiltrartion_-1_0/features.npy\n",
      "Applying filtration 8/116: 2/HeightFiltrartion_1_0\n",
      "Got the result from ./3/train/filtrations/2/HeightFiltrartion_1_0/features.npy\n",
      "Applying filtration 9/116: 2/RadialFiltration_12_12\n",
      "Got the result from ./3/train/filtrations/2/RadialFiltration_12_12/features.npy\n",
      "Applying filtration 10/116: 2/RadialFiltration_12_25\n",
      "Got the result from ./3/train/filtrations/2/RadialFiltration_12_25/features.npy\n",
      "Applying filtration 11/116: 2/RadialFiltration_12_38\n",
      "Got the result from ./3/train/filtrations/2/RadialFiltration_12_38/features.npy\n",
      "Applying filtration 12/116: 2/RadialFiltration_12_51\n",
      "Got the result from ./3/train/filtrations/2/RadialFiltration_12_51/features.npy\n",
      "Applying filtration 13/116: 2/RadialFiltration_25_12\n",
      "Got the result from ./3/train/filtrations/2/RadialFiltration_25_12/features.npy\n",
      "Applying filtration 14/116: 2/RadialFiltration_25_25\n",
      "Got the result from ./3/train/filtrations/2/RadialFiltration_25_25/features.npy\n",
      "Applying filtration 15/116: 2/RadialFiltration_25_38\n",
      "Got the result from ./3/train/filtrations/2/RadialFiltration_25_38/features.npy\n",
      "Applying filtration 16/116: 2/RadialFiltration_25_51\n",
      "Got the result from ./3/train/filtrations/2/RadialFiltration_25_51/features.npy\n",
      "Applying filtration 17/116: 2/RadialFiltration_38_12\n",
      "Got the result from ./3/train/filtrations/2/RadialFiltration_38_12/features.npy\n",
      "Applying filtration 18/116: 2/RadialFiltration_38_25\n",
      "Got the result from ./3/train/filtrations/2/RadialFiltration_38_25/features.npy\n",
      "Applying filtration 19/116: 2/RadialFiltration_38_38\n",
      "Got the result from ./3/train/filtrations/2/RadialFiltration_38_38/features.npy\n",
      "Applying filtration 20/116: 2/RadialFiltration_38_51\n",
      "Got the result from ./3/train/filtrations/2/RadialFiltration_38_51/features.npy\n",
      "Applying filtration 21/116: 2/RadialFiltration_51_12\n",
      "Got the result from ./3/train/filtrations/2/RadialFiltration_51_12/features.npy\n",
      "Applying filtration 22/116: 2/RadialFiltration_51_25\n",
      "Got the result from ./3/train/filtrations/2/RadialFiltration_51_25/features.npy\n",
      "Applying filtration 23/116: 2/RadialFiltration_51_38\n",
      "Got the result from ./3/train/filtrations/2/RadialFiltration_51_38/features.npy\n",
      "Applying filtration 24/116: 2/RadialFiltration_51_51\n",
      "Got the result from ./3/train/filtrations/2/RadialFiltration_51_51/features.npy\n",
      "Applying filtration 25/116: 2/DilationFiltration\n",
      "Got the result from ./3/train/filtrations/2/DilationFiltration/features.npy\n",
      "Applying filtration 26/116: 2/ErosionFiltration\n",
      "Got the result from ./3/train/filtrations/2/ErosionFiltration/features.npy\n",
      "Applying filtration 27/116: 2/SignedDistanceFiltration\n",
      "Got the result from ./3/train/filtrations/2/SignedDistanceFiltration/features.npy\n",
      "Applying filtration 28/116: 2/DensityFiltration_1\n",
      "Got the result from ./3/train/filtrations/2/DensityFiltration_1/features.npy\n",
      "Applying filtration 29/116: 2/DensityFiltration_3\n",
      "Got the result from ./3/train/filtrations/2/DensityFiltration_3/features.npy\n",
      "Applying filtration 30/116: 4/HeightFiltrartion_-1_-1\n",
      "Got the result from ./3/train/filtrations/4/HeightFiltrartion_-1_-1/features.npy\n",
      "Applying filtration 31/116: 4/HeightFiltrartion_1_1\n",
      "Got the result from ./3/train/filtrations/4/HeightFiltrartion_1_1/features.npy\n",
      "Applying filtration 32/116: 4/HeightFiltrartion_1_-1\n",
      "Got the result from ./3/train/filtrations/4/HeightFiltrartion_1_-1/features.npy\n",
      "Applying filtration 33/116: 4/HeightFiltrartion_-1_1\n",
      "Got the result from ./3/train/filtrations/4/HeightFiltrartion_-1_1/features.npy\n",
      "Applying filtration 34/116: 4/HeightFiltrartion_0_-1\n",
      "Got the result from ./3/train/filtrations/4/HeightFiltrartion_0_-1/features.npy\n",
      "Applying filtration 35/116: 4/HeightFiltrartion_0_1\n",
      "Got the result from ./3/train/filtrations/4/HeightFiltrartion_0_1/features.npy\n",
      "Applying filtration 36/116: 4/HeightFiltrartion_-1_0\n",
      "Got the result from ./3/train/filtrations/4/HeightFiltrartion_-1_0/features.npy\n",
      "Applying filtration 37/116: 4/HeightFiltrartion_1_0\n",
      "Got the result from ./3/train/filtrations/4/HeightFiltrartion_1_0/features.npy\n",
      "Applying filtration 38/116: 4/RadialFiltration_12_12\n",
      "Got the result from ./3/train/filtrations/4/RadialFiltration_12_12/features.npy\n",
      "Applying filtration 39/116: 4/RadialFiltration_12_25\n",
      "Got the result from ./3/train/filtrations/4/RadialFiltration_12_25/features.npy\n",
      "Applying filtration 40/116: 4/RadialFiltration_12_38\n",
      "Got the result from ./3/train/filtrations/4/RadialFiltration_12_38/features.npy\n",
      "Applying filtration 41/116: 4/RadialFiltration_12_51\n",
      "Got the result from ./3/train/filtrations/4/RadialFiltration_12_51/features.npy\n",
      "Applying filtration 42/116: 4/RadialFiltration_25_12\n",
      "Got the result from ./3/train/filtrations/4/RadialFiltration_25_12/features.npy\n",
      "Applying filtration 43/116: 4/RadialFiltration_25_25\n",
      "Got the result from ./3/train/filtrations/4/RadialFiltration_25_25/features.npy\n",
      "Applying filtration 44/116: 4/RadialFiltration_25_38\n",
      "Got the result from ./3/train/filtrations/4/RadialFiltration_25_38/features.npy\n",
      "Applying filtration 45/116: 4/RadialFiltration_25_51\n",
      "Got the result from ./3/train/filtrations/4/RadialFiltration_25_51/features.npy\n",
      "Applying filtration 46/116: 4/RadialFiltration_38_12\n",
      "Got the result from ./3/train/filtrations/4/RadialFiltration_38_12/features.npy\n",
      "Applying filtration 47/116: 4/RadialFiltration_38_25\n",
      "Got the result from ./3/train/filtrations/4/RadialFiltration_38_25/features.npy\n",
      "Applying filtration 48/116: 4/RadialFiltration_38_38\n",
      "Got the result from ./3/train/filtrations/4/RadialFiltration_38_38/features.npy\n",
      "Applying filtration 49/116: 4/RadialFiltration_38_51\n",
      "Got the result from ./3/train/filtrations/4/RadialFiltration_38_51/features.npy\n",
      "Applying filtration 50/116: 4/RadialFiltration_51_12\n",
      "Got the result from ./3/train/filtrations/4/RadialFiltration_51_12/features.npy\n",
      "Applying filtration 51/116: 4/RadialFiltration_51_25\n",
      "Got the result from ./3/train/filtrations/4/RadialFiltration_51_25/features.npy\n",
      "Applying filtration 52/116: 4/RadialFiltration_51_38\n",
      "Got the result from ./3/train/filtrations/4/RadialFiltration_51_38/features.npy\n",
      "Applying filtration 53/116: 4/RadialFiltration_51_51\n",
      "Got the result from ./3/train/filtrations/4/RadialFiltration_51_51/features.npy\n",
      "Applying filtration 54/116: 4/DilationFiltration\n",
      "Got the result from ./3/train/filtrations/4/DilationFiltration/features.npy\n",
      "Applying filtration 55/116: 4/ErosionFiltration\n",
      "Got the result from ./3/train/filtrations/4/ErosionFiltration/features.npy\n",
      "Applying filtration 56/116: 4/SignedDistanceFiltration\n",
      "Got the result from ./3/train/filtrations/4/SignedDistanceFiltration/features.npy\n",
      "Applying filtration 57/116: 4/DensityFiltration_1\n",
      "Got the result from ./3/train/filtrations/4/DensityFiltration_1/features.npy\n",
      "Applying filtration 58/116: 4/DensityFiltration_3\n",
      "Got the result from ./3/train/filtrations/4/DensityFiltration_3/features.npy\n",
      "Applying filtration 59/116: 6/HeightFiltrartion_-1_-1\n",
      "Got the result from ./3/train/filtrations/6/HeightFiltrartion_-1_-1/features.npy\n",
      "Applying filtration 60/116: 6/HeightFiltrartion_1_1\n",
      "Got the result from ./3/train/filtrations/6/HeightFiltrartion_1_1/features.npy\n",
      "Applying filtration 61/116: 6/HeightFiltrartion_1_-1\n",
      "Got the result from ./3/train/filtrations/6/HeightFiltrartion_1_-1/features.npy\n",
      "Applying filtration 62/116: 6/HeightFiltrartion_-1_1\n",
      "Got the result from ./3/train/filtrations/6/HeightFiltrartion_-1_1/features.npy\n",
      "Applying filtration 63/116: 6/HeightFiltrartion_0_-1\n",
      "Got the result from ./3/train/filtrations/6/HeightFiltrartion_0_-1/features.npy\n",
      "Applying filtration 64/116: 6/HeightFiltrartion_0_1\n",
      "Got the result from ./3/train/filtrations/6/HeightFiltrartion_0_1/features.npy\n",
      "Applying filtration 65/116: 6/HeightFiltrartion_-1_0\n",
      "Got the result from ./3/train/filtrations/6/HeightFiltrartion_-1_0/features.npy\n",
      "Applying filtration 66/116: 6/HeightFiltrartion_1_0\n",
      "Got the result from ./3/train/filtrations/6/HeightFiltrartion_1_0/features.npy\n",
      "Applying filtration 67/116: 6/RadialFiltration_12_12\n",
      "Got the result from ./3/train/filtrations/6/RadialFiltration_12_12/features.npy\n",
      "Applying filtration 68/116: 6/RadialFiltration_12_25\n",
      "Got the result from ./3/train/filtrations/6/RadialFiltration_12_25/features.npy\n",
      "Applying filtration 69/116: 6/RadialFiltration_12_38\n",
      "Got the result from ./3/train/filtrations/6/RadialFiltration_12_38/features.npy\n",
      "Applying filtration 70/116: 6/RadialFiltration_12_51\n",
      "Got the result from ./3/train/filtrations/6/RadialFiltration_12_51/features.npy\n",
      "Applying filtration 71/116: 6/RadialFiltration_25_12\n",
      "Got the result from ./3/train/filtrations/6/RadialFiltration_25_12/features.npy\n",
      "Applying filtration 72/116: 6/RadialFiltration_25_25\n",
      "Got the result from ./3/train/filtrations/6/RadialFiltration_25_25/features.npy\n",
      "Applying filtration 73/116: 6/RadialFiltration_25_38\n",
      "Got the result from ./3/train/filtrations/6/RadialFiltration_25_38/features.npy\n",
      "Applying filtration 74/116: 6/RadialFiltration_25_51\n",
      "Got the result from ./3/train/filtrations/6/RadialFiltration_25_51/features.npy\n",
      "Applying filtration 75/116: 6/RadialFiltration_38_12\n",
      "Got the result from ./3/train/filtrations/6/RadialFiltration_38_12/features.npy\n",
      "Applying filtration 76/116: 6/RadialFiltration_38_25\n",
      "Got the result from ./3/train/filtrations/6/RadialFiltration_38_25/features.npy\n",
      "Applying filtration 77/116: 6/RadialFiltration_38_38\n",
      "Got the result from ./3/train/filtrations/6/RadialFiltration_38_38/features.npy\n",
      "Applying filtration 78/116: 6/RadialFiltration_38_51\n",
      "Got the result from ./3/train/filtrations/6/RadialFiltration_38_51/features.npy\n",
      "Applying filtration 79/116: 6/RadialFiltration_51_12\n",
      "Got the result from ./3/train/filtrations/6/RadialFiltration_51_12/features.npy\n",
      "Applying filtration 80/116: 6/RadialFiltration_51_25\n",
      "Got the result from ./3/train/filtrations/6/RadialFiltration_51_25/features.npy\n",
      "Applying filtration 81/116: 6/RadialFiltration_51_38\n",
      "Got the result from ./3/train/filtrations/6/RadialFiltration_51_38/features.npy\n",
      "Applying filtration 82/116: 6/RadialFiltration_51_51\n",
      "Got the result from ./3/train/filtrations/6/RadialFiltration_51_51/features.npy\n",
      "Applying filtration 83/116: 6/DilationFiltration\n",
      "Got the result from ./3/train/filtrations/6/DilationFiltration/features.npy\n",
      "Applying filtration 84/116: 6/ErosionFiltration\n",
      "Got the result from ./3/train/filtrations/6/ErosionFiltration/features.npy\n",
      "Applying filtration 85/116: 6/SignedDistanceFiltration\n",
      "Got the result from ./3/train/filtrations/6/SignedDistanceFiltration/features.npy\n",
      "Applying filtration 86/116: 6/DensityFiltration_1\n",
      "Got the result from ./3/train/filtrations/6/DensityFiltration_1/features.npy\n",
      "Applying filtration 87/116: 6/DensityFiltration_3\n",
      "Got the result from ./3/train/filtrations/6/DensityFiltration_3/features.npy\n",
      "Applying filtration 88/116: 8/HeightFiltrartion_-1_-1\n",
      "Got the result from ./3/train/filtrations/8/HeightFiltrartion_-1_-1/features.npy\n",
      "Applying filtration 89/116: 8/HeightFiltrartion_1_1\n",
      "Got the result from ./3/train/filtrations/8/HeightFiltrartion_1_1/features.npy\n",
      "Applying filtration 90/116: 8/HeightFiltrartion_1_-1\n",
      "Got the result from ./3/train/filtrations/8/HeightFiltrartion_1_-1/features.npy\n",
      "Applying filtration 91/116: 8/HeightFiltrartion_-1_1\n",
      "Got the result from ./3/train/filtrations/8/HeightFiltrartion_-1_1/features.npy\n",
      "Applying filtration 92/116: 8/HeightFiltrartion_0_-1\n",
      "Got the result from ./3/train/filtrations/8/HeightFiltrartion_0_-1/features.npy\n",
      "Applying filtration 93/116: 8/HeightFiltrartion_0_1\n",
      "Got the result from ./3/train/filtrations/8/HeightFiltrartion_0_1/features.npy\n",
      "Applying filtration 94/116: 8/HeightFiltrartion_-1_0\n",
      "Got the result from ./3/train/filtrations/8/HeightFiltrartion_-1_0/features.npy\n",
      "Applying filtration 95/116: 8/HeightFiltrartion_1_0\n",
      "Got the result from ./3/train/filtrations/8/HeightFiltrartion_1_0/features.npy\n",
      "Applying filtration 96/116: 8/RadialFiltration_12_12\n",
      "Got the result from ./3/train/filtrations/8/RadialFiltration_12_12/features.npy\n",
      "Applying filtration 97/116: 8/RadialFiltration_12_25\n",
      "Got the result from ./3/train/filtrations/8/RadialFiltration_12_25/features.npy\n",
      "Applying filtration 98/116: 8/RadialFiltration_12_38\n",
      "Got the result from ./3/train/filtrations/8/RadialFiltration_12_38/features.npy\n",
      "Applying filtration 99/116: 8/RadialFiltration_12_51\n",
      "Got the result from ./3/train/filtrations/8/RadialFiltration_12_51/features.npy\n",
      "Applying filtration 100/116: 8/RadialFiltration_25_12\n",
      "Got the result from ./3/train/filtrations/8/RadialFiltration_25_12/features.npy\n",
      "Applying filtration 101/116: 8/RadialFiltration_25_25\n",
      "Got the result from ./3/train/filtrations/8/RadialFiltration_25_25/features.npy\n",
      "Applying filtration 102/116: 8/RadialFiltration_25_38\n",
      "Got the result from ./3/train/filtrations/8/RadialFiltration_25_38/features.npy\n",
      "Applying filtration 103/116: 8/RadialFiltration_25_51\n",
      "Got the result from ./3/train/filtrations/8/RadialFiltration_25_51/features.npy\n",
      "Applying filtration 104/116: 8/RadialFiltration_38_12\n",
      "Got the result from ./3/train/filtrations/8/RadialFiltration_38_12/features.npy\n",
      "Applying filtration 105/116: 8/RadialFiltration_38_25\n",
      "Got the result from ./3/train/filtrations/8/RadialFiltration_38_25/features.npy\n",
      "Applying filtration 106/116: 8/RadialFiltration_38_38\n",
      "Got the result from ./3/train/filtrations/8/RadialFiltration_38_38/features.npy\n",
      "Applying filtration 107/116: 8/RadialFiltration_38_51\n",
      "Got the result from ./3/train/filtrations/8/RadialFiltration_38_51/features.npy\n",
      "Applying filtration 108/116: 8/RadialFiltration_51_12\n",
      "Got the result from ./3/train/filtrations/8/RadialFiltration_51_12/features.npy\n",
      "Applying filtration 109/116: 8/RadialFiltration_51_25\n",
      "Got the result from ./3/train/filtrations/8/RadialFiltration_51_25/features.npy\n",
      "Applying filtration 110/116: 8/RadialFiltration_51_38\n",
      "Got the result from ./3/train/filtrations/8/RadialFiltration_51_38/features.npy\n",
      "Applying filtration 111/116: 8/RadialFiltration_51_51\n",
      "Got the result from ./3/train/filtrations/8/RadialFiltration_51_51/features.npy\n",
      "Applying filtration 112/116: 8/DilationFiltration\n",
      "Got the result from ./3/train/filtrations/8/DilationFiltration/features.npy\n",
      "Applying filtration 113/116: 8/ErosionFiltration\n",
      "Got the result from ./3/train/filtrations/8/ErosionFiltration/features.npy\n",
      "Applying filtration 114/116: 8/SignedDistanceFiltration\n",
      "Got the result from ./3/train/filtrations/8/SignedDistanceFiltration/features.npy\n",
      "Applying filtration 115/116: 8/DensityFiltration_1\n",
      "Got the result from ./3/train/filtrations/8/DensityFiltration_1/features.npy\n",
      "Applying filtration 116/116: 8/DensityFiltration_3\n",
      "Got the result from ./3/train/filtrations/8/DensityFiltration_3/features.npy\n",
      "Got the result from ./3/train/geometry/features.npy\n",
      "Applying StandardScaler.\n",
      "Calculating inverted images\n",
      "Got the result from ./3/test/greyscale/features.npy\n",
      "Got the result from ./3/test/inverted_greyscale/features.npy\n",
      "Applying filtrations\n",
      "Applying filtration 1/116: 2/HeightFiltrartion_-1_-1\n",
      "Got the result from ./3/test/filtrations/2/HeightFiltrartion_-1_-1/features.npy\n",
      "Applying filtration 2/116: 2/HeightFiltrartion_1_1\n",
      "Got the result from ./3/test/filtrations/2/HeightFiltrartion_1_1/features.npy\n",
      "Applying filtration 3/116: 2/HeightFiltrartion_1_-1\n",
      "Got the result from ./3/test/filtrations/2/HeightFiltrartion_1_-1/features.npy\n",
      "Applying filtration 4/116: 2/HeightFiltrartion_-1_1\n",
      "Got the result from ./3/test/filtrations/2/HeightFiltrartion_-1_1/features.npy\n",
      "Applying filtration 5/116: 2/HeightFiltrartion_0_-1\n",
      "Got the result from ./3/test/filtrations/2/HeightFiltrartion_0_-1/features.npy\n",
      "Applying filtration 6/116: 2/HeightFiltrartion_0_1\n",
      "Got the result from ./3/test/filtrations/2/HeightFiltrartion_0_1/features.npy\n",
      "Applying filtration 7/116: 2/HeightFiltrartion_-1_0\n",
      "Got the result from ./3/test/filtrations/2/HeightFiltrartion_-1_0/features.npy\n",
      "Applying filtration 8/116: 2/HeightFiltrartion_1_0\n",
      "Got the result from ./3/test/filtrations/2/HeightFiltrartion_1_0/features.npy\n",
      "Applying filtration 9/116: 2/RadialFiltration_12_12\n",
      "FiltrationExtractor: processing 3/test/filtrations/2/RadialFiltration_12_12, do_fit = False, filtration = RadialFiltration(center=array([12, 12]), n_jobs=-1)\n",
      "Saving the result to ./3/test/filtrations/2/RadialFiltration_12_12/diagrams.npy\n",
      "Applying Scaler to persistence diagrams.\n"
     ]
    },
    {
     "name": "stderr",
     "output_type": "stream",
     "text": [
      "DiagramVectorizer: batch: 100%|██████████| 1/1 [00:01<00:00,  1.59s/it]\n"
     ]
    },
    {
     "name": "stdout",
     "output_type": "stream",
     "text": [
      "Saving the result to ./3/test/filtrations/2/RadialFiltration_12_12/features.npy\n",
      "Applying filtration 10/116: 2/RadialFiltration_12_25\n",
      "FiltrationExtractor: processing 3/test/filtrations/2/RadialFiltration_12_25, do_fit = False, filtration = RadialFiltration(center=array([12, 25]), n_jobs=-1)\n"
     ]
    },
    {
     "name": "stderr",
     "output_type": "stream",
     "text": [
      "d:\\Programs\\Programming\\Python\\lib\\site-packages\\joblib\\externals\\loky\\process_executor.py:752: UserWarning: A worker stopped while some jobs were given to the executor. This can be caused by a too short worker timeout or by a memory leak.\n",
      "  warnings.warn(\n"
     ]
    },
    {
     "name": "stdout",
     "output_type": "stream",
     "text": [
      "Saving the result to ./3/test/filtrations/2/RadialFiltration_12_25/diagrams.npy\n",
      "Applying Scaler to persistence diagrams.\n"
     ]
    },
    {
     "name": "stderr",
     "output_type": "stream",
     "text": [
      "DiagramVectorizer: batch: 100%|██████████| 1/1 [00:01<00:00,  1.61s/it]\n"
     ]
    },
    {
     "name": "stdout",
     "output_type": "stream",
     "text": [
      "Saving the result to ./3/test/filtrations/2/RadialFiltration_12_25/features.npy\n",
      "Applying filtration 11/116: 2/RadialFiltration_12_38\n",
      "FiltrationExtractor: processing 3/test/filtrations/2/RadialFiltration_12_38, do_fit = False, filtration = RadialFiltration(center=array([12, 38]), n_jobs=-1)\n",
      "Saving the result to ./3/test/filtrations/2/RadialFiltration_12_38/diagrams.npy\n",
      "Applying Scaler to persistence diagrams.\n"
     ]
    },
    {
     "name": "stderr",
     "output_type": "stream",
     "text": [
      "DiagramVectorizer: batch: 100%|██████████| 1/1 [00:01<00:00,  1.65s/it]\n"
     ]
    },
    {
     "name": "stdout",
     "output_type": "stream",
     "text": [
      "Saving the result to ./3/test/filtrations/2/RadialFiltration_12_38/features.npy\n",
      "Applying filtration 12/116: 2/RadialFiltration_12_51\n",
      "FiltrationExtractor: processing 3/test/filtrations/2/RadialFiltration_12_51, do_fit = False, filtration = RadialFiltration(center=array([12, 51]), n_jobs=-1)\n",
      "Saving the result to ./3/test/filtrations/2/RadialFiltration_12_51/diagrams.npy\n",
      "Applying Scaler to persistence diagrams.\n"
     ]
    },
    {
     "name": "stderr",
     "output_type": "stream",
     "text": [
      "DiagramVectorizer: batch: 100%|██████████| 1/1 [00:01<00:00,  1.67s/it]\n"
     ]
    },
    {
     "name": "stdout",
     "output_type": "stream",
     "text": [
      "Saving the result to ./3/test/filtrations/2/RadialFiltration_12_51/features.npy\n",
      "Applying filtration 13/116: 2/RadialFiltration_25_12\n",
      "FiltrationExtractor: processing 3/test/filtrations/2/RadialFiltration_25_12, do_fit = False, filtration = RadialFiltration(center=array([25, 12]), n_jobs=-1)\n",
      "Saving the result to ./3/test/filtrations/2/RadialFiltration_25_12/diagrams.npy\n",
      "Applying Scaler to persistence diagrams.\n"
     ]
    },
    {
     "name": "stderr",
     "output_type": "stream",
     "text": [
      "DiagramVectorizer: batch: 100%|██████████| 1/1 [00:01<00:00,  1.63s/it]\n"
     ]
    },
    {
     "name": "stdout",
     "output_type": "stream",
     "text": [
      "Saving the result to ./3/test/filtrations/2/RadialFiltration_25_12/features.npy\n",
      "Applying filtration 14/116: 2/RadialFiltration_25_25\n",
      "FiltrationExtractor: processing 3/test/filtrations/2/RadialFiltration_25_25, do_fit = False, filtration = RadialFiltration(center=array([25, 25]), n_jobs=-1)\n",
      "Saving the result to ./3/test/filtrations/2/RadialFiltration_25_25/diagrams.npy\n",
      "Applying Scaler to persistence diagrams.\n"
     ]
    },
    {
     "name": "stderr",
     "output_type": "stream",
     "text": [
      "DiagramVectorizer: batch: 100%|██████████| 1/1 [00:01<00:00,  1.64s/it]\n"
     ]
    },
    {
     "name": "stdout",
     "output_type": "stream",
     "text": [
      "Saving the result to ./3/test/filtrations/2/RadialFiltration_25_25/features.npy\n",
      "Applying filtration 15/116: 2/RadialFiltration_25_38\n",
      "FiltrationExtractor: processing 3/test/filtrations/2/RadialFiltration_25_38, do_fit = False, filtration = RadialFiltration(center=array([25, 38]), n_jobs=-1)\n",
      "Saving the result to ./3/test/filtrations/2/RadialFiltration_25_38/diagrams.npy\n",
      "Applying Scaler to persistence diagrams.\n"
     ]
    },
    {
     "name": "stderr",
     "output_type": "stream",
     "text": [
      "DiagramVectorizer: batch: 100%|██████████| 1/1 [00:01<00:00,  1.65s/it]\n"
     ]
    },
    {
     "name": "stdout",
     "output_type": "stream",
     "text": [
      "Saving the result to ./3/test/filtrations/2/RadialFiltration_25_38/features.npy\n",
      "Applying filtration 16/116: 2/RadialFiltration_25_51\n",
      "FiltrationExtractor: processing 3/test/filtrations/2/RadialFiltration_25_51, do_fit = False, filtration = RadialFiltration(center=array([25, 51]), n_jobs=-1)\n",
      "Saving the result to ./3/test/filtrations/2/RadialFiltration_25_51/diagrams.npy\n",
      "Applying Scaler to persistence diagrams.\n"
     ]
    },
    {
     "name": "stderr",
     "output_type": "stream",
     "text": [
      "DiagramVectorizer: batch: 100%|██████████| 1/1 [00:01<00:00,  1.70s/it]\n"
     ]
    },
    {
     "name": "stdout",
     "output_type": "stream",
     "text": [
      "Saving the result to ./3/test/filtrations/2/RadialFiltration_25_51/features.npy\n",
      "Applying filtration 17/116: 2/RadialFiltration_38_12\n",
      "FiltrationExtractor: processing 3/test/filtrations/2/RadialFiltration_38_12, do_fit = False, filtration = RadialFiltration(center=array([38, 12]), n_jobs=-1)\n",
      "Saving the result to ./3/test/filtrations/2/RadialFiltration_38_12/diagrams.npy\n",
      "Applying Scaler to persistence diagrams.\n"
     ]
    },
    {
     "name": "stderr",
     "output_type": "stream",
     "text": [
      "DiagramVectorizer: batch: 100%|██████████| 1/1 [00:01<00:00,  1.62s/it]\n"
     ]
    },
    {
     "name": "stdout",
     "output_type": "stream",
     "text": [
      "Saving the result to ./3/test/filtrations/2/RadialFiltration_38_12/features.npy\n",
      "Applying filtration 18/116: 2/RadialFiltration_38_25\n",
      "FiltrationExtractor: processing 3/test/filtrations/2/RadialFiltration_38_25, do_fit = False, filtration = RadialFiltration(center=array([38, 25]), n_jobs=-1)\n",
      "Saving the result to ./3/test/filtrations/2/RadialFiltration_38_25/diagrams.npy\n",
      "Applying Scaler to persistence diagrams.\n"
     ]
    },
    {
     "name": "stderr",
     "output_type": "stream",
     "text": [
      "DiagramVectorizer: batch: 100%|██████████| 1/1 [00:01<00:00,  1.67s/it]\n"
     ]
    },
    {
     "name": "stdout",
     "output_type": "stream",
     "text": [
      "Saving the result to ./3/test/filtrations/2/RadialFiltration_38_25/features.npy\n",
      "Applying filtration 19/116: 2/RadialFiltration_38_38\n",
      "FiltrationExtractor: processing 3/test/filtrations/2/RadialFiltration_38_38, do_fit = False, filtration = RadialFiltration(center=array([38, 38]), n_jobs=-1)\n",
      "Saving the result to ./3/test/filtrations/2/RadialFiltration_38_38/diagrams.npy\n",
      "Applying Scaler to persistence diagrams.\n"
     ]
    },
    {
     "name": "stderr",
     "output_type": "stream",
     "text": [
      "DiagramVectorizer: batch: 100%|██████████| 1/1 [00:01<00:00,  1.65s/it]\n"
     ]
    },
    {
     "name": "stdout",
     "output_type": "stream",
     "text": [
      "Saving the result to ./3/test/filtrations/2/RadialFiltration_38_38/features.npy\n",
      "Applying filtration 20/116: 2/RadialFiltration_38_51\n",
      "FiltrationExtractor: processing 3/test/filtrations/2/RadialFiltration_38_51, do_fit = False, filtration = RadialFiltration(center=array([38, 51]), n_jobs=-1)\n",
      "Saving the result to ./3/test/filtrations/2/RadialFiltration_38_51/diagrams.npy\n",
      "Applying Scaler to persistence diagrams.\n"
     ]
    },
    {
     "name": "stderr",
     "output_type": "stream",
     "text": [
      "DiagramVectorizer: batch: 100%|██████████| 1/1 [00:01<00:00,  1.62s/it]\n"
     ]
    },
    {
     "name": "stdout",
     "output_type": "stream",
     "text": [
      "Saving the result to ./3/test/filtrations/2/RadialFiltration_38_51/features.npy\n",
      "Applying filtration 21/116: 2/RadialFiltration_51_12\n",
      "FiltrationExtractor: processing 3/test/filtrations/2/RadialFiltration_51_12, do_fit = False, filtration = RadialFiltration(center=array([51, 12]), n_jobs=-1)\n",
      "Saving the result to ./3/test/filtrations/2/RadialFiltration_51_12/diagrams.npy\n",
      "Applying Scaler to persistence diagrams.\n"
     ]
    },
    {
     "name": "stderr",
     "output_type": "stream",
     "text": [
      "DiagramVectorizer: batch: 100%|██████████| 1/1 [00:01<00:00,  1.63s/it]\n"
     ]
    },
    {
     "name": "stdout",
     "output_type": "stream",
     "text": [
      "Saving the result to ./3/test/filtrations/2/RadialFiltration_51_12/features.npy\n",
      "Applying filtration 22/116: 2/RadialFiltration_51_25\n",
      "FiltrationExtractor: processing 3/test/filtrations/2/RadialFiltration_51_25, do_fit = False, filtration = RadialFiltration(center=array([51, 25]), n_jobs=-1)\n",
      "Saving the result to ./3/test/filtrations/2/RadialFiltration_51_25/diagrams.npy\n",
      "Applying Scaler to persistence diagrams.\n"
     ]
    },
    {
     "name": "stderr",
     "output_type": "stream",
     "text": [
      "DiagramVectorizer: batch: 100%|██████████| 1/1 [00:01<00:00,  1.75s/it]\n"
     ]
    },
    {
     "name": "stdout",
     "output_type": "stream",
     "text": [
      "Saving the result to ./3/test/filtrations/2/RadialFiltration_51_25/features.npy\n",
      "Applying filtration 23/116: 2/RadialFiltration_51_38\n",
      "FiltrationExtractor: processing 3/test/filtrations/2/RadialFiltration_51_38, do_fit = False, filtration = RadialFiltration(center=array([51, 38]), n_jobs=-1)\n",
      "Saving the result to ./3/test/filtrations/2/RadialFiltration_51_38/diagrams.npy\n",
      "Applying Scaler to persistence diagrams.\n"
     ]
    },
    {
     "name": "stderr",
     "output_type": "stream",
     "text": [
      "DiagramVectorizer: batch: 100%|██████████| 1/1 [00:01<00:00,  1.63s/it]\n"
     ]
    },
    {
     "name": "stdout",
     "output_type": "stream",
     "text": [
      "Saving the result to ./3/test/filtrations/2/RadialFiltration_51_38/features.npy\n",
      "Applying filtration 24/116: 2/RadialFiltration_51_51\n",
      "FiltrationExtractor: processing 3/test/filtrations/2/RadialFiltration_51_51, do_fit = False, filtration = RadialFiltration(center=array([51, 51]), n_jobs=-1)\n",
      "Saving the result to ./3/test/filtrations/2/RadialFiltration_51_51/diagrams.npy\n",
      "Applying Scaler to persistence diagrams.\n"
     ]
    },
    {
     "name": "stderr",
     "output_type": "stream",
     "text": [
      "DiagramVectorizer: batch: 100%|██████████| 1/1 [00:01<00:00,  1.75s/it]\n"
     ]
    },
    {
     "name": "stdout",
     "output_type": "stream",
     "text": [
      "Saving the result to ./3/test/filtrations/2/RadialFiltration_51_51/features.npy\n",
      "Applying filtration 25/116: 2/DilationFiltration\n",
      "Got the result from ./3/test/filtrations/2/DilationFiltration/features.npy\n",
      "Applying filtration 26/116: 2/ErosionFiltration\n",
      "Got the result from ./3/test/filtrations/2/ErosionFiltration/features.npy\n",
      "Applying filtration 27/116: 2/SignedDistanceFiltration\n",
      "Got the result from ./3/test/filtrations/2/SignedDistanceFiltration/features.npy\n",
      "Applying filtration 28/116: 2/DensityFiltration_1\n",
      "Got the result from ./3/test/filtrations/2/DensityFiltration_1/features.npy\n",
      "Applying filtration 29/116: 2/DensityFiltration_3\n",
      "Got the result from ./3/test/filtrations/2/DensityFiltration_3/features.npy\n",
      "Applying filtration 30/116: 4/HeightFiltrartion_-1_-1\n",
      "Got the result from ./3/test/filtrations/4/HeightFiltrartion_-1_-1/features.npy\n",
      "Applying filtration 31/116: 4/HeightFiltrartion_1_1\n",
      "Got the result from ./3/test/filtrations/4/HeightFiltrartion_1_1/features.npy\n",
      "Applying filtration 32/116: 4/HeightFiltrartion_1_-1\n",
      "Got the result from ./3/test/filtrations/4/HeightFiltrartion_1_-1/features.npy\n",
      "Applying filtration 33/116: 4/HeightFiltrartion_-1_1\n",
      "Got the result from ./3/test/filtrations/4/HeightFiltrartion_-1_1/features.npy\n",
      "Applying filtration 34/116: 4/HeightFiltrartion_0_-1\n",
      "Got the result from ./3/test/filtrations/4/HeightFiltrartion_0_-1/features.npy\n",
      "Applying filtration 35/116: 4/HeightFiltrartion_0_1\n",
      "Got the result from ./3/test/filtrations/4/HeightFiltrartion_0_1/features.npy\n",
      "Applying filtration 36/116: 4/HeightFiltrartion_-1_0\n",
      "Got the result from ./3/test/filtrations/4/HeightFiltrartion_-1_0/features.npy\n",
      "Applying filtration 37/116: 4/HeightFiltrartion_1_0\n",
      "Got the result from ./3/test/filtrations/4/HeightFiltrartion_1_0/features.npy\n",
      "Applying filtration 38/116: 4/RadialFiltration_12_12\n",
      "FiltrationExtractor: processing 3/test/filtrations/4/RadialFiltration_12_12, do_fit = False, filtration = RadialFiltration(center=array([12, 12]), n_jobs=-1)\n",
      "Saving the result to ./3/test/filtrations/4/RadialFiltration_12_12/diagrams.npy\n",
      "Applying Scaler to persistence diagrams.\n"
     ]
    },
    {
     "name": "stderr",
     "output_type": "stream",
     "text": [
      "DiagramVectorizer: batch: 100%|██████████| 1/1 [00:01<00:00,  1.59s/it]\n"
     ]
    },
    {
     "name": "stdout",
     "output_type": "stream",
     "text": [
      "Saving the result to ./3/test/filtrations/4/RadialFiltration_12_12/features.npy\n",
      "Applying filtration 39/116: 4/RadialFiltration_12_25\n",
      "FiltrationExtractor: processing 3/test/filtrations/4/RadialFiltration_12_25, do_fit = False, filtration = RadialFiltration(center=array([12, 25]), n_jobs=-1)\n",
      "Saving the result to ./3/test/filtrations/4/RadialFiltration_12_25/diagrams.npy\n",
      "Applying Scaler to persistence diagrams.\n"
     ]
    },
    {
     "name": "stderr",
     "output_type": "stream",
     "text": [
      "DiagramVectorizer: batch: 100%|██████████| 1/1 [00:01<00:00,  1.66s/it]\n"
     ]
    },
    {
     "name": "stdout",
     "output_type": "stream",
     "text": [
      "Saving the result to ./3/test/filtrations/4/RadialFiltration_12_25/features.npy\n",
      "Applying filtration 40/116: 4/RadialFiltration_12_38\n",
      "FiltrationExtractor: processing 3/test/filtrations/4/RadialFiltration_12_38, do_fit = False, filtration = RadialFiltration(center=array([12, 38]), n_jobs=-1)\n",
      "Saving the result to ./3/test/filtrations/4/RadialFiltration_12_38/diagrams.npy\n",
      "Applying Scaler to persistence diagrams.\n"
     ]
    },
    {
     "name": "stderr",
     "output_type": "stream",
     "text": [
      "DiagramVectorizer: batch: 100%|██████████| 1/1 [00:01<00:00,  1.73s/it]\n"
     ]
    },
    {
     "name": "stdout",
     "output_type": "stream",
     "text": [
      "Saving the result to ./3/test/filtrations/4/RadialFiltration_12_38/features.npy\n",
      "Applying filtration 41/116: 4/RadialFiltration_12_51\n",
      "FiltrationExtractor: processing 3/test/filtrations/4/RadialFiltration_12_51, do_fit = False, filtration = RadialFiltration(center=array([12, 51]), n_jobs=-1)\n",
      "Saving the result to ./3/test/filtrations/4/RadialFiltration_12_51/diagrams.npy\n",
      "Applying Scaler to persistence diagrams.\n"
     ]
    },
    {
     "name": "stderr",
     "output_type": "stream",
     "text": [
      "DiagramVectorizer: batch: 100%|██████████| 1/1 [00:01<00:00,  1.63s/it]\n"
     ]
    },
    {
     "name": "stdout",
     "output_type": "stream",
     "text": [
      "Saving the result to ./3/test/filtrations/4/RadialFiltration_12_51/features.npy\n",
      "Applying filtration 42/116: 4/RadialFiltration_25_12\n",
      "FiltrationExtractor: processing 3/test/filtrations/4/RadialFiltration_25_12, do_fit = False, filtration = RadialFiltration(center=array([25, 12]), n_jobs=-1)\n",
      "Saving the result to ./3/test/filtrations/4/RadialFiltration_25_12/diagrams.npy\n",
      "Applying Scaler to persistence diagrams.\n"
     ]
    },
    {
     "name": "stderr",
     "output_type": "stream",
     "text": [
      "DiagramVectorizer: batch: 100%|██████████| 1/1 [00:01<00:00,  1.64s/it]\n"
     ]
    },
    {
     "name": "stdout",
     "output_type": "stream",
     "text": [
      "Saving the result to ./3/test/filtrations/4/RadialFiltration_25_12/features.npy\n",
      "Applying filtration 43/116: 4/RadialFiltration_25_25\n",
      "FiltrationExtractor: processing 3/test/filtrations/4/RadialFiltration_25_25, do_fit = False, filtration = RadialFiltration(center=array([25, 25]), n_jobs=-1)\n",
      "Saving the result to ./3/test/filtrations/4/RadialFiltration_25_25/diagrams.npy\n",
      "Applying Scaler to persistence diagrams.\n"
     ]
    },
    {
     "name": "stderr",
     "output_type": "stream",
     "text": [
      "DiagramVectorizer: batch: 100%|██████████| 1/1 [00:01<00:00,  1.58s/it]\n"
     ]
    },
    {
     "name": "stdout",
     "output_type": "stream",
     "text": [
      "Saving the result to ./3/test/filtrations/4/RadialFiltration_25_25/features.npy\n",
      "Applying filtration 44/116: 4/RadialFiltration_25_38\n",
      "FiltrationExtractor: processing 3/test/filtrations/4/RadialFiltration_25_38, do_fit = False, filtration = RadialFiltration(center=array([25, 38]), n_jobs=-1)\n",
      "Saving the result to ./3/test/filtrations/4/RadialFiltration_25_38/diagrams.npy\n",
      "Applying Scaler to persistence diagrams.\n"
     ]
    },
    {
     "name": "stderr",
     "output_type": "stream",
     "text": [
      "DiagramVectorizer: batch: 100%|██████████| 1/1 [00:01<00:00,  1.61s/it]\n"
     ]
    },
    {
     "name": "stdout",
     "output_type": "stream",
     "text": [
      "Saving the result to ./3/test/filtrations/4/RadialFiltration_25_38/features.npy\n",
      "Applying filtration 45/116: 4/RadialFiltration_25_51\n",
      "FiltrationExtractor: processing 3/test/filtrations/4/RadialFiltration_25_51, do_fit = False, filtration = RadialFiltration(center=array([25, 51]), n_jobs=-1)\n",
      "Saving the result to ./3/test/filtrations/4/RadialFiltration_25_51/diagrams.npy\n",
      "Applying Scaler to persistence diagrams.\n"
     ]
    },
    {
     "name": "stderr",
     "output_type": "stream",
     "text": [
      "DiagramVectorizer: batch: 100%|██████████| 1/1 [00:01<00:00,  1.63s/it]\n"
     ]
    },
    {
     "name": "stdout",
     "output_type": "stream",
     "text": [
      "Saving the result to ./3/test/filtrations/4/RadialFiltration_25_51/features.npy\n",
      "Applying filtration 46/116: 4/RadialFiltration_38_12\n",
      "FiltrationExtractor: processing 3/test/filtrations/4/RadialFiltration_38_12, do_fit = False, filtration = RadialFiltration(center=array([38, 12]), n_jobs=-1)\n",
      "Saving the result to ./3/test/filtrations/4/RadialFiltration_38_12/diagrams.npy\n",
      "Applying Scaler to persistence diagrams.\n"
     ]
    },
    {
     "name": "stderr",
     "output_type": "stream",
     "text": [
      "DiagramVectorizer: batch: 100%|██████████| 1/1 [00:01<00:00,  1.58s/it]\n"
     ]
    },
    {
     "name": "stdout",
     "output_type": "stream",
     "text": [
      "Saving the result to ./3/test/filtrations/4/RadialFiltration_38_12/features.npy\n",
      "Applying filtration 47/116: 4/RadialFiltration_38_25\n",
      "FiltrationExtractor: processing 3/test/filtrations/4/RadialFiltration_38_25, do_fit = False, filtration = RadialFiltration(center=array([38, 25]), n_jobs=-1)\n",
      "Saving the result to ./3/test/filtrations/4/RadialFiltration_38_25/diagrams.npy\n",
      "Applying Scaler to persistence diagrams.\n"
     ]
    },
    {
     "name": "stderr",
     "output_type": "stream",
     "text": [
      "DiagramVectorizer: batch: 100%|██████████| 1/1 [00:01<00:00,  1.61s/it]\n"
     ]
    },
    {
     "name": "stdout",
     "output_type": "stream",
     "text": [
      "Saving the result to ./3/test/filtrations/4/RadialFiltration_38_25/features.npy\n",
      "Applying filtration 48/116: 4/RadialFiltration_38_38\n",
      "FiltrationExtractor: processing 3/test/filtrations/4/RadialFiltration_38_38, do_fit = False, filtration = RadialFiltration(center=array([38, 38]), n_jobs=-1)\n",
      "Saving the result to ./3/test/filtrations/4/RadialFiltration_38_38/diagrams.npy\n",
      "Applying Scaler to persistence diagrams.\n"
     ]
    },
    {
     "name": "stderr",
     "output_type": "stream",
     "text": [
      "DiagramVectorizer: batch: 100%|██████████| 1/1 [00:01<00:00,  1.60s/it]\n"
     ]
    },
    {
     "name": "stdout",
     "output_type": "stream",
     "text": [
      "Saving the result to ./3/test/filtrations/4/RadialFiltration_38_38/features.npy\n",
      "Applying filtration 49/116: 4/RadialFiltration_38_51\n",
      "FiltrationExtractor: processing 3/test/filtrations/4/RadialFiltration_38_51, do_fit = False, filtration = RadialFiltration(center=array([38, 51]), n_jobs=-1)\n",
      "Saving the result to ./3/test/filtrations/4/RadialFiltration_38_51/diagrams.npy\n",
      "Applying Scaler to persistence diagrams.\n"
     ]
    },
    {
     "name": "stderr",
     "output_type": "stream",
     "text": [
      "DiagramVectorizer: batch: 100%|██████████| 1/1 [00:01<00:00,  1.60s/it]\n"
     ]
    },
    {
     "name": "stdout",
     "output_type": "stream",
     "text": [
      "Saving the result to ./3/test/filtrations/4/RadialFiltration_38_51/features.npy\n",
      "Applying filtration 50/116: 4/RadialFiltration_51_12\n",
      "FiltrationExtractor: processing 3/test/filtrations/4/RadialFiltration_51_12, do_fit = False, filtration = RadialFiltration(center=array([51, 12]), n_jobs=-1)\n",
      "Saving the result to ./3/test/filtrations/4/RadialFiltration_51_12/diagrams.npy\n",
      "Applying Scaler to persistence diagrams.\n"
     ]
    },
    {
     "name": "stderr",
     "output_type": "stream",
     "text": [
      "DiagramVectorizer: batch: 100%|██████████| 1/1 [00:01<00:00,  1.58s/it]\n"
     ]
    },
    {
     "name": "stdout",
     "output_type": "stream",
     "text": [
      "Saving the result to ./3/test/filtrations/4/RadialFiltration_51_12/features.npy\n",
      "Applying filtration 51/116: 4/RadialFiltration_51_25\n",
      "FiltrationExtractor: processing 3/test/filtrations/4/RadialFiltration_51_25, do_fit = False, filtration = RadialFiltration(center=array([51, 25]), n_jobs=-1)\n",
      "Saving the result to ./3/test/filtrations/4/RadialFiltration_51_25/diagrams.npy\n",
      "Applying Scaler to persistence diagrams.\n"
     ]
    },
    {
     "name": "stderr",
     "output_type": "stream",
     "text": [
      "DiagramVectorizer: batch: 100%|██████████| 1/1 [00:01<00:00,  1.57s/it]\n"
     ]
    },
    {
     "name": "stdout",
     "output_type": "stream",
     "text": [
      "Saving the result to ./3/test/filtrations/4/RadialFiltration_51_25/features.npy\n",
      "Applying filtration 52/116: 4/RadialFiltration_51_38\n",
      "FiltrationExtractor: processing 3/test/filtrations/4/RadialFiltration_51_38, do_fit = False, filtration = RadialFiltration(center=array([51, 38]), n_jobs=-1)\n",
      "Saving the result to ./3/test/filtrations/4/RadialFiltration_51_38/diagrams.npy\n",
      "Applying Scaler to persistence diagrams.\n"
     ]
    },
    {
     "name": "stderr",
     "output_type": "stream",
     "text": [
      "DiagramVectorizer: batch: 100%|██████████| 1/1 [00:01<00:00,  1.59s/it]\n"
     ]
    },
    {
     "name": "stdout",
     "output_type": "stream",
     "text": [
      "Saving the result to ./3/test/filtrations/4/RadialFiltration_51_38/features.npy\n",
      "Applying filtration 53/116: 4/RadialFiltration_51_51\n",
      "FiltrationExtractor: processing 3/test/filtrations/4/RadialFiltration_51_51, do_fit = False, filtration = RadialFiltration(center=array([51, 51]), n_jobs=-1)\n",
      "Saving the result to ./3/test/filtrations/4/RadialFiltration_51_51/diagrams.npy\n",
      "Applying Scaler to persistence diagrams.\n"
     ]
    },
    {
     "name": "stderr",
     "output_type": "stream",
     "text": [
      "DiagramVectorizer: batch: 100%|██████████| 1/1 [00:01<00:00,  1.64s/it]\n"
     ]
    },
    {
     "name": "stdout",
     "output_type": "stream",
     "text": [
      "Saving the result to ./3/test/filtrations/4/RadialFiltration_51_51/features.npy\n",
      "Applying filtration 54/116: 4/DilationFiltration\n",
      "Got the result from ./3/test/filtrations/4/DilationFiltration/features.npy\n",
      "Applying filtration 55/116: 4/ErosionFiltration\n",
      "Got the result from ./3/test/filtrations/4/ErosionFiltration/features.npy\n",
      "Applying filtration 56/116: 4/SignedDistanceFiltration\n",
      "Got the result from ./3/test/filtrations/4/SignedDistanceFiltration/features.npy\n",
      "Applying filtration 57/116: 4/DensityFiltration_1\n",
      "Got the result from ./3/test/filtrations/4/DensityFiltration_1/features.npy\n",
      "Applying filtration 58/116: 4/DensityFiltration_3\n",
      "Got the result from ./3/test/filtrations/4/DensityFiltration_3/features.npy\n",
      "Applying filtration 59/116: 6/HeightFiltrartion_-1_-1\n",
      "Got the result from ./3/test/filtrations/6/HeightFiltrartion_-1_-1/features.npy\n",
      "Applying filtration 60/116: 6/HeightFiltrartion_1_1\n",
      "Got the result from ./3/test/filtrations/6/HeightFiltrartion_1_1/features.npy\n",
      "Applying filtration 61/116: 6/HeightFiltrartion_1_-1\n",
      "Got the result from ./3/test/filtrations/6/HeightFiltrartion_1_-1/features.npy\n",
      "Applying filtration 62/116: 6/HeightFiltrartion_-1_1\n",
      "Got the result from ./3/test/filtrations/6/HeightFiltrartion_-1_1/features.npy\n",
      "Applying filtration 63/116: 6/HeightFiltrartion_0_-1\n",
      "Got the result from ./3/test/filtrations/6/HeightFiltrartion_0_-1/features.npy\n",
      "Applying filtration 64/116: 6/HeightFiltrartion_0_1\n",
      "Got the result from ./3/test/filtrations/6/HeightFiltrartion_0_1/features.npy\n",
      "Applying filtration 65/116: 6/HeightFiltrartion_-1_0\n",
      "Got the result from ./3/test/filtrations/6/HeightFiltrartion_-1_0/features.npy\n",
      "Applying filtration 66/116: 6/HeightFiltrartion_1_0\n",
      "Got the result from ./3/test/filtrations/6/HeightFiltrartion_1_0/features.npy\n",
      "Applying filtration 67/116: 6/RadialFiltration_12_12\n",
      "FiltrationExtractor: processing 3/test/filtrations/6/RadialFiltration_12_12, do_fit = False, filtration = RadialFiltration(center=array([12, 12]), n_jobs=-1)\n",
      "Saving the result to ./3/test/filtrations/6/RadialFiltration_12_12/diagrams.npy\n",
      "Applying Scaler to persistence diagrams.\n"
     ]
    },
    {
     "name": "stderr",
     "output_type": "stream",
     "text": [
      "DiagramVectorizer: batch: 100%|██████████| 1/1 [00:01<00:00,  1.57s/it]\n"
     ]
    },
    {
     "name": "stdout",
     "output_type": "stream",
     "text": [
      "Saving the result to ./3/test/filtrations/6/RadialFiltration_12_12/features.npy\n",
      "Applying filtration 68/116: 6/RadialFiltration_12_25\n",
      "FiltrationExtractor: processing 3/test/filtrations/6/RadialFiltration_12_25, do_fit = False, filtration = RadialFiltration(center=array([12, 25]), n_jobs=-1)\n",
      "Saving the result to ./3/test/filtrations/6/RadialFiltration_12_25/diagrams.npy\n",
      "Applying Scaler to persistence diagrams.\n"
     ]
    },
    {
     "name": "stderr",
     "output_type": "stream",
     "text": [
      "DiagramVectorizer: batch: 100%|██████████| 1/1 [00:01<00:00,  1.58s/it]\n"
     ]
    },
    {
     "name": "stdout",
     "output_type": "stream",
     "text": [
      "Saving the result to ./3/test/filtrations/6/RadialFiltration_12_25/features.npy\n",
      "Applying filtration 69/116: 6/RadialFiltration_12_38\n",
      "FiltrationExtractor: processing 3/test/filtrations/6/RadialFiltration_12_38, do_fit = False, filtration = RadialFiltration(center=array([12, 38]), n_jobs=-1)\n",
      "Saving the result to ./3/test/filtrations/6/RadialFiltration_12_38/diagrams.npy\n",
      "Applying Scaler to persistence diagrams.\n"
     ]
    },
    {
     "name": "stderr",
     "output_type": "stream",
     "text": [
      "DiagramVectorizer: batch: 100%|██████████| 1/1 [00:01<00:00,  1.62s/it]\n"
     ]
    },
    {
     "name": "stdout",
     "output_type": "stream",
     "text": [
      "Saving the result to ./3/test/filtrations/6/RadialFiltration_12_38/features.npy\n",
      "Applying filtration 70/116: 6/RadialFiltration_12_51\n",
      "FiltrationExtractor: processing 3/test/filtrations/6/RadialFiltration_12_51, do_fit = False, filtration = RadialFiltration(center=array([12, 51]), n_jobs=-1)\n",
      "Saving the result to ./3/test/filtrations/6/RadialFiltration_12_51/diagrams.npy\n",
      "Applying Scaler to persistence diagrams.\n"
     ]
    },
    {
     "name": "stderr",
     "output_type": "stream",
     "text": [
      "DiagramVectorizer: batch: 100%|██████████| 1/1 [00:01<00:00,  1.62s/it]\n"
     ]
    },
    {
     "name": "stdout",
     "output_type": "stream",
     "text": [
      "Saving the result to ./3/test/filtrations/6/RadialFiltration_12_51/features.npy\n",
      "Applying filtration 71/116: 6/RadialFiltration_25_12\n",
      "FiltrationExtractor: processing 3/test/filtrations/6/RadialFiltration_25_12, do_fit = False, filtration = RadialFiltration(center=array([25, 12]), n_jobs=-1)\n",
      "Saving the result to ./3/test/filtrations/6/RadialFiltration_25_12/diagrams.npy\n",
      "Applying Scaler to persistence diagrams.\n"
     ]
    },
    {
     "name": "stderr",
     "output_type": "stream",
     "text": [
      "DiagramVectorizer: batch: 100%|██████████| 1/1 [00:01<00:00,  1.60s/it]\n"
     ]
    },
    {
     "name": "stdout",
     "output_type": "stream",
     "text": [
      "Saving the result to ./3/test/filtrations/6/RadialFiltration_25_12/features.npy\n",
      "Applying filtration 72/116: 6/RadialFiltration_25_25\n",
      "FiltrationExtractor: processing 3/test/filtrations/6/RadialFiltration_25_25, do_fit = False, filtration = RadialFiltration(center=array([25, 25]), n_jobs=-1)\n",
      "Saving the result to ./3/test/filtrations/6/RadialFiltration_25_25/diagrams.npy\n",
      "Applying Scaler to persistence diagrams.\n"
     ]
    },
    {
     "name": "stderr",
     "output_type": "stream",
     "text": [
      "DiagramVectorizer: batch: 100%|██████████| 1/1 [00:01<00:00,  1.61s/it]\n"
     ]
    },
    {
     "name": "stdout",
     "output_type": "stream",
     "text": [
      "Saving the result to ./3/test/filtrations/6/RadialFiltration_25_25/features.npy\n",
      "Applying filtration 73/116: 6/RadialFiltration_25_38\n",
      "FiltrationExtractor: processing 3/test/filtrations/6/RadialFiltration_25_38, do_fit = False, filtration = RadialFiltration(center=array([25, 38]), n_jobs=-1)\n",
      "Saving the result to ./3/test/filtrations/6/RadialFiltration_25_38/diagrams.npy\n",
      "Applying Scaler to persistence diagrams.\n"
     ]
    },
    {
     "name": "stderr",
     "output_type": "stream",
     "text": [
      "DiagramVectorizer: batch: 100%|██████████| 1/1 [00:01<00:00,  1.63s/it]\n"
     ]
    },
    {
     "name": "stdout",
     "output_type": "stream",
     "text": [
      "Saving the result to ./3/test/filtrations/6/RadialFiltration_25_38/features.npy\n",
      "Applying filtration 74/116: 6/RadialFiltration_25_51\n",
      "FiltrationExtractor: processing 3/test/filtrations/6/RadialFiltration_25_51, do_fit = False, filtration = RadialFiltration(center=array([25, 51]), n_jobs=-1)\n",
      "Saving the result to ./3/test/filtrations/6/RadialFiltration_25_51/diagrams.npy\n",
      "Applying Scaler to persistence diagrams.\n"
     ]
    },
    {
     "name": "stderr",
     "output_type": "stream",
     "text": [
      "DiagramVectorizer: batch: 100%|██████████| 1/1 [00:01<00:00,  1.61s/it]\n"
     ]
    },
    {
     "name": "stdout",
     "output_type": "stream",
     "text": [
      "Saving the result to ./3/test/filtrations/6/RadialFiltration_25_51/features.npy\n",
      "Applying filtration 75/116: 6/RadialFiltration_38_12\n",
      "FiltrationExtractor: processing 3/test/filtrations/6/RadialFiltration_38_12, do_fit = False, filtration = RadialFiltration(center=array([38, 12]), n_jobs=-1)\n",
      "Saving the result to ./3/test/filtrations/6/RadialFiltration_38_12/diagrams.npy\n",
      "Applying Scaler to persistence diagrams.\n"
     ]
    },
    {
     "name": "stderr",
     "output_type": "stream",
     "text": [
      "DiagramVectorizer: batch: 100%|██████████| 1/1 [00:01<00:00,  1.61s/it]\n"
     ]
    },
    {
     "name": "stdout",
     "output_type": "stream",
     "text": [
      "Saving the result to ./3/test/filtrations/6/RadialFiltration_38_12/features.npy\n",
      "Applying filtration 76/116: 6/RadialFiltration_38_25\n",
      "FiltrationExtractor: processing 3/test/filtrations/6/RadialFiltration_38_25, do_fit = False, filtration = RadialFiltration(center=array([38, 25]), n_jobs=-1)\n",
      "Saving the result to ./3/test/filtrations/6/RadialFiltration_38_25/diagrams.npy\n",
      "Applying Scaler to persistence diagrams.\n"
     ]
    },
    {
     "name": "stderr",
     "output_type": "stream",
     "text": [
      "DiagramVectorizer: batch: 100%|██████████| 1/1 [00:01<00:00,  1.59s/it]\n"
     ]
    },
    {
     "name": "stdout",
     "output_type": "stream",
     "text": [
      "Saving the result to ./3/test/filtrations/6/RadialFiltration_38_25/features.npy\n",
      "Applying filtration 77/116: 6/RadialFiltration_38_38\n",
      "FiltrationExtractor: processing 3/test/filtrations/6/RadialFiltration_38_38, do_fit = False, filtration = RadialFiltration(center=array([38, 38]), n_jobs=-1)\n",
      "Saving the result to ./3/test/filtrations/6/RadialFiltration_38_38/diagrams.npy\n",
      "Applying Scaler to persistence diagrams.\n"
     ]
    },
    {
     "name": "stderr",
     "output_type": "stream",
     "text": [
      "DiagramVectorizer: batch: 100%|██████████| 1/1 [00:01<00:00,  1.61s/it]\n"
     ]
    },
    {
     "name": "stdout",
     "output_type": "stream",
     "text": [
      "Saving the result to ./3/test/filtrations/6/RadialFiltration_38_38/features.npy\n",
      "Applying filtration 78/116: 6/RadialFiltration_38_51\n",
      "FiltrationExtractor: processing 3/test/filtrations/6/RadialFiltration_38_51, do_fit = False, filtration = RadialFiltration(center=array([38, 51]), n_jobs=-1)\n",
      "Saving the result to ./3/test/filtrations/6/RadialFiltration_38_51/diagrams.npy\n",
      "Applying Scaler to persistence diagrams.\n"
     ]
    },
    {
     "name": "stderr",
     "output_type": "stream",
     "text": [
      "DiagramVectorizer: batch: 100%|██████████| 1/1 [00:01<00:00,  1.65s/it]\n"
     ]
    },
    {
     "name": "stdout",
     "output_type": "stream",
     "text": [
      "Saving the result to ./3/test/filtrations/6/RadialFiltration_38_51/features.npy\n",
      "Applying filtration 79/116: 6/RadialFiltration_51_12\n",
      "FiltrationExtractor: processing 3/test/filtrations/6/RadialFiltration_51_12, do_fit = False, filtration = RadialFiltration(center=array([51, 12]), n_jobs=-1)\n",
      "Saving the result to ./3/test/filtrations/6/RadialFiltration_51_12/diagrams.npy\n",
      "Applying Scaler to persistence diagrams.\n"
     ]
    },
    {
     "name": "stderr",
     "output_type": "stream",
     "text": [
      "DiagramVectorizer: batch: 100%|██████████| 1/1 [00:01<00:00,  1.68s/it]\n"
     ]
    },
    {
     "name": "stdout",
     "output_type": "stream",
     "text": [
      "Saving the result to ./3/test/filtrations/6/RadialFiltration_51_12/features.npy\n",
      "Applying filtration 80/116: 6/RadialFiltration_51_25\n",
      "FiltrationExtractor: processing 3/test/filtrations/6/RadialFiltration_51_25, do_fit = False, filtration = RadialFiltration(center=array([51, 25]), n_jobs=-1)\n",
      "Saving the result to ./3/test/filtrations/6/RadialFiltration_51_25/diagrams.npy\n",
      "Applying Scaler to persistence diagrams.\n"
     ]
    },
    {
     "name": "stderr",
     "output_type": "stream",
     "text": [
      "DiagramVectorizer: batch: 100%|██████████| 1/1 [00:01<00:00,  1.71s/it]\n"
     ]
    },
    {
     "name": "stdout",
     "output_type": "stream",
     "text": [
      "Saving the result to ./3/test/filtrations/6/RadialFiltration_51_25/features.npy\n",
      "Applying filtration 81/116: 6/RadialFiltration_51_38\n",
      "FiltrationExtractor: processing 3/test/filtrations/6/RadialFiltration_51_38, do_fit = False, filtration = RadialFiltration(center=array([51, 38]), n_jobs=-1)\n",
      "Saving the result to ./3/test/filtrations/6/RadialFiltration_51_38/diagrams.npy\n",
      "Applying Scaler to persistence diagrams.\n"
     ]
    },
    {
     "name": "stderr",
     "output_type": "stream",
     "text": [
      "DiagramVectorizer: batch: 100%|██████████| 1/1 [00:01<00:00,  1.70s/it]\n"
     ]
    },
    {
     "name": "stdout",
     "output_type": "stream",
     "text": [
      "Saving the result to ./3/test/filtrations/6/RadialFiltration_51_38/features.npy\n",
      "Applying filtration 82/116: 6/RadialFiltration_51_51\n",
      "FiltrationExtractor: processing 3/test/filtrations/6/RadialFiltration_51_51, do_fit = False, filtration = RadialFiltration(center=array([51, 51]), n_jobs=-1)\n",
      "Saving the result to ./3/test/filtrations/6/RadialFiltration_51_51/diagrams.npy\n",
      "Applying Scaler to persistence diagrams.\n"
     ]
    },
    {
     "name": "stderr",
     "output_type": "stream",
     "text": [
      "DiagramVectorizer: batch: 100%|██████████| 1/1 [00:01<00:00,  1.63s/it]\n"
     ]
    },
    {
     "name": "stdout",
     "output_type": "stream",
     "text": [
      "Saving the result to ./3/test/filtrations/6/RadialFiltration_51_51/features.npy\n",
      "Applying filtration 83/116: 6/DilationFiltration\n",
      "Got the result from ./3/test/filtrations/6/DilationFiltration/features.npy\n",
      "Applying filtration 84/116: 6/ErosionFiltration\n",
      "Got the result from ./3/test/filtrations/6/ErosionFiltration/features.npy\n",
      "Applying filtration 85/116: 6/SignedDistanceFiltration\n",
      "Got the result from ./3/test/filtrations/6/SignedDistanceFiltration/features.npy\n",
      "Applying filtration 86/116: 6/DensityFiltration_1\n",
      "Got the result from ./3/test/filtrations/6/DensityFiltration_1/features.npy\n",
      "Applying filtration 87/116: 6/DensityFiltration_3\n",
      "Got the result from ./3/test/filtrations/6/DensityFiltration_3/features.npy\n",
      "Applying filtration 88/116: 8/HeightFiltrartion_-1_-1\n",
      "Got the result from ./3/test/filtrations/8/HeightFiltrartion_-1_-1/features.npy\n",
      "Applying filtration 89/116: 8/HeightFiltrartion_1_1\n",
      "Got the result from ./3/test/filtrations/8/HeightFiltrartion_1_1/features.npy\n",
      "Applying filtration 90/116: 8/HeightFiltrartion_1_-1\n",
      "Got the result from ./3/test/filtrations/8/HeightFiltrartion_1_-1/features.npy\n",
      "Applying filtration 91/116: 8/HeightFiltrartion_-1_1\n",
      "Got the result from ./3/test/filtrations/8/HeightFiltrartion_-1_1/features.npy\n",
      "Applying filtration 92/116: 8/HeightFiltrartion_0_-1\n",
      "Got the result from ./3/test/filtrations/8/HeightFiltrartion_0_-1/features.npy\n",
      "Applying filtration 93/116: 8/HeightFiltrartion_0_1\n",
      "Got the result from ./3/test/filtrations/8/HeightFiltrartion_0_1/features.npy\n",
      "Applying filtration 94/116: 8/HeightFiltrartion_-1_0\n",
      "Got the result from ./3/test/filtrations/8/HeightFiltrartion_-1_0/features.npy\n",
      "Applying filtration 95/116: 8/HeightFiltrartion_1_0\n",
      "Got the result from ./3/test/filtrations/8/HeightFiltrartion_1_0/features.npy\n",
      "Applying filtration 96/116: 8/RadialFiltration_12_12\n",
      "FiltrationExtractor: processing 3/test/filtrations/8/RadialFiltration_12_12, do_fit = False, filtration = RadialFiltration(center=array([12, 12]), n_jobs=-1)\n",
      "Saving the result to ./3/test/filtrations/8/RadialFiltration_12_12/diagrams.npy\n",
      "Applying Scaler to persistence diagrams.\n"
     ]
    },
    {
     "name": "stderr",
     "output_type": "stream",
     "text": [
      "DiagramVectorizer: batch: 100%|██████████| 1/1 [00:01<00:00,  1.59s/it]\n"
     ]
    },
    {
     "name": "stdout",
     "output_type": "stream",
     "text": [
      "Saving the result to ./3/test/filtrations/8/RadialFiltration_12_12/features.npy\n",
      "Applying filtration 97/116: 8/RadialFiltration_12_25\n",
      "FiltrationExtractor: processing 3/test/filtrations/8/RadialFiltration_12_25, do_fit = False, filtration = RadialFiltration(center=array([12, 25]), n_jobs=-1)\n"
     ]
    },
    {
     "name": "stderr",
     "output_type": "stream",
     "text": [
      "d:\\Programs\\Programming\\Python\\lib\\site-packages\\joblib\\externals\\loky\\process_executor.py:752: UserWarning: A worker stopped while some jobs were given to the executor. This can be caused by a too short worker timeout or by a memory leak.\n",
      "  warnings.warn(\n"
     ]
    },
    {
     "name": "stdout",
     "output_type": "stream",
     "text": [
      "Saving the result to ./3/test/filtrations/8/RadialFiltration_12_25/diagrams.npy\n",
      "Applying Scaler to persistence diagrams.\n"
     ]
    },
    {
     "name": "stderr",
     "output_type": "stream",
     "text": [
      "DiagramVectorizer: batch: 100%|██████████| 1/1 [00:01<00:00,  1.65s/it]\n"
     ]
    },
    {
     "name": "stdout",
     "output_type": "stream",
     "text": [
      "Saving the result to ./3/test/filtrations/8/RadialFiltration_12_25/features.npy\n",
      "Applying filtration 98/116: 8/RadialFiltration_12_38\n",
      "FiltrationExtractor: processing 3/test/filtrations/8/RadialFiltration_12_38, do_fit = False, filtration = RadialFiltration(center=array([12, 38]), n_jobs=-1)\n",
      "Saving the result to ./3/test/filtrations/8/RadialFiltration_12_38/diagrams.npy\n",
      "Applying Scaler to persistence diagrams.\n"
     ]
    },
    {
     "name": "stderr",
     "output_type": "stream",
     "text": [
      "DiagramVectorizer: batch: 100%|██████████| 1/1 [00:01<00:00,  1.65s/it]\n"
     ]
    },
    {
     "name": "stdout",
     "output_type": "stream",
     "text": [
      "Saving the result to ./3/test/filtrations/8/RadialFiltration_12_38/features.npy\n",
      "Applying filtration 99/116: 8/RadialFiltration_12_51\n",
      "FiltrationExtractor: processing 3/test/filtrations/8/RadialFiltration_12_51, do_fit = False, filtration = RadialFiltration(center=array([12, 51]), n_jobs=-1)\n",
      "Saving the result to ./3/test/filtrations/8/RadialFiltration_12_51/diagrams.npy\n",
      "Applying Scaler to persistence diagrams.\n"
     ]
    },
    {
     "name": "stderr",
     "output_type": "stream",
     "text": [
      "DiagramVectorizer: batch: 100%|██████████| 1/1 [00:01<00:00,  1.68s/it]\n"
     ]
    },
    {
     "name": "stdout",
     "output_type": "stream",
     "text": [
      "Saving the result to ./3/test/filtrations/8/RadialFiltration_12_51/features.npy\n",
      "Applying filtration 100/116: 8/RadialFiltration_25_12\n",
      "FiltrationExtractor: processing 3/test/filtrations/8/RadialFiltration_25_12, do_fit = False, filtration = RadialFiltration(center=array([25, 12]), n_jobs=-1)\n",
      "Saving the result to ./3/test/filtrations/8/RadialFiltration_25_12/diagrams.npy\n",
      "Applying Scaler to persistence diagrams.\n"
     ]
    },
    {
     "name": "stderr",
     "output_type": "stream",
     "text": [
      "DiagramVectorizer: batch: 100%|██████████| 1/1 [00:01<00:00,  1.69s/it]\n"
     ]
    },
    {
     "name": "stdout",
     "output_type": "stream",
     "text": [
      "Saving the result to ./3/test/filtrations/8/RadialFiltration_25_12/features.npy\n",
      "Applying filtration 101/116: 8/RadialFiltration_25_25\n",
      "FiltrationExtractor: processing 3/test/filtrations/8/RadialFiltration_25_25, do_fit = False, filtration = RadialFiltration(center=array([25, 25]), n_jobs=-1)\n",
      "Saving the result to ./3/test/filtrations/8/RadialFiltration_25_25/diagrams.npy\n",
      "Applying Scaler to persistence diagrams.\n"
     ]
    },
    {
     "name": "stderr",
     "output_type": "stream",
     "text": [
      "DiagramVectorizer: batch: 100%|██████████| 1/1 [00:01<00:00,  1.59s/it]\n"
     ]
    },
    {
     "name": "stdout",
     "output_type": "stream",
     "text": [
      "Saving the result to ./3/test/filtrations/8/RadialFiltration_25_25/features.npy\n",
      "Applying filtration 102/116: 8/RadialFiltration_25_38\n",
      "FiltrationExtractor: processing 3/test/filtrations/8/RadialFiltration_25_38, do_fit = False, filtration = RadialFiltration(center=array([25, 38]), n_jobs=-1)\n",
      "Saving the result to ./3/test/filtrations/8/RadialFiltration_25_38/diagrams.npy\n",
      "Applying Scaler to persistence diagrams.\n"
     ]
    },
    {
     "name": "stderr",
     "output_type": "stream",
     "text": [
      "DiagramVectorizer: batch: 100%|██████████| 1/1 [00:01<00:00,  1.76s/it]\n"
     ]
    },
    {
     "name": "stdout",
     "output_type": "stream",
     "text": [
      "Saving the result to ./3/test/filtrations/8/RadialFiltration_25_38/features.npy\n",
      "Applying filtration 103/116: 8/RadialFiltration_25_51\n",
      "FiltrationExtractor: processing 3/test/filtrations/8/RadialFiltration_25_51, do_fit = False, filtration = RadialFiltration(center=array([25, 51]), n_jobs=-1)\n",
      "Saving the result to ./3/test/filtrations/8/RadialFiltration_25_51/diagrams.npy\n",
      "Applying Scaler to persistence diagrams.\n"
     ]
    },
    {
     "name": "stderr",
     "output_type": "stream",
     "text": [
      "DiagramVectorizer: batch: 100%|██████████| 1/1 [00:01<00:00,  1.67s/it]\n"
     ]
    },
    {
     "name": "stdout",
     "output_type": "stream",
     "text": [
      "Saving the result to ./3/test/filtrations/8/RadialFiltration_25_51/features.npy\n",
      "Applying filtration 104/116: 8/RadialFiltration_38_12\n",
      "FiltrationExtractor: processing 3/test/filtrations/8/RadialFiltration_38_12, do_fit = False, filtration = RadialFiltration(center=array([38, 12]), n_jobs=-1)\n",
      "Saving the result to ./3/test/filtrations/8/RadialFiltration_38_12/diagrams.npy\n",
      "Applying Scaler to persistence diagrams.\n"
     ]
    },
    {
     "name": "stderr",
     "output_type": "stream",
     "text": [
      "DiagramVectorizer: batch: 100%|██████████| 1/1 [00:01<00:00,  1.62s/it]\n"
     ]
    },
    {
     "name": "stdout",
     "output_type": "stream",
     "text": [
      "Saving the result to ./3/test/filtrations/8/RadialFiltration_38_12/features.npy\n",
      "Applying filtration 105/116: 8/RadialFiltration_38_25\n",
      "FiltrationExtractor: processing 3/test/filtrations/8/RadialFiltration_38_25, do_fit = False, filtration = RadialFiltration(center=array([38, 25]), n_jobs=-1)\n",
      "Saving the result to ./3/test/filtrations/8/RadialFiltration_38_25/diagrams.npy\n",
      "Applying Scaler to persistence diagrams.\n"
     ]
    },
    {
     "name": "stderr",
     "output_type": "stream",
     "text": [
      "DiagramVectorizer: batch: 100%|██████████| 1/1 [00:01<00:00,  1.76s/it]\n"
     ]
    },
    {
     "name": "stdout",
     "output_type": "stream",
     "text": [
      "Saving the result to ./3/test/filtrations/8/RadialFiltration_38_25/features.npy\n",
      "Applying filtration 106/116: 8/RadialFiltration_38_38\n",
      "FiltrationExtractor: processing 3/test/filtrations/8/RadialFiltration_38_38, do_fit = False, filtration = RadialFiltration(center=array([38, 38]), n_jobs=-1)\n",
      "Saving the result to ./3/test/filtrations/8/RadialFiltration_38_38/diagrams.npy\n",
      "Applying Scaler to persistence diagrams.\n"
     ]
    },
    {
     "name": "stderr",
     "output_type": "stream",
     "text": [
      "DiagramVectorizer: batch: 100%|██████████| 1/1 [00:01<00:00,  1.69s/it]\n"
     ]
    },
    {
     "name": "stdout",
     "output_type": "stream",
     "text": [
      "Saving the result to ./3/test/filtrations/8/RadialFiltration_38_38/features.npy\n",
      "Applying filtration 107/116: 8/RadialFiltration_38_51\n",
      "FiltrationExtractor: processing 3/test/filtrations/8/RadialFiltration_38_51, do_fit = False, filtration = RadialFiltration(center=array([38, 51]), n_jobs=-1)\n",
      "Saving the result to ./3/test/filtrations/8/RadialFiltration_38_51/diagrams.npy\n",
      "Applying Scaler to persistence diagrams.\n"
     ]
    },
    {
     "name": "stderr",
     "output_type": "stream",
     "text": [
      "DiagramVectorizer: batch: 100%|██████████| 1/1 [00:01<00:00,  1.71s/it]\n"
     ]
    },
    {
     "name": "stdout",
     "output_type": "stream",
     "text": [
      "Saving the result to ./3/test/filtrations/8/RadialFiltration_38_51/features.npy\n",
      "Applying filtration 108/116: 8/RadialFiltration_51_12\n",
      "FiltrationExtractor: processing 3/test/filtrations/8/RadialFiltration_51_12, do_fit = False, filtration = RadialFiltration(center=array([51, 12]), n_jobs=-1)\n",
      "Saving the result to ./3/test/filtrations/8/RadialFiltration_51_12/diagrams.npy\n",
      "Applying Scaler to persistence diagrams.\n"
     ]
    },
    {
     "name": "stderr",
     "output_type": "stream",
     "text": [
      "DiagramVectorizer: batch: 100%|██████████| 1/1 [00:01<00:00,  1.68s/it]\n"
     ]
    },
    {
     "name": "stdout",
     "output_type": "stream",
     "text": [
      "Saving the result to ./3/test/filtrations/8/RadialFiltration_51_12/features.npy\n",
      "Applying filtration 109/116: 8/RadialFiltration_51_25\n",
      "FiltrationExtractor: processing 3/test/filtrations/8/RadialFiltration_51_25, do_fit = False, filtration = RadialFiltration(center=array([51, 25]), n_jobs=-1)\n",
      "Saving the result to ./3/test/filtrations/8/RadialFiltration_51_25/diagrams.npy\n",
      "Applying Scaler to persistence diagrams.\n"
     ]
    },
    {
     "name": "stderr",
     "output_type": "stream",
     "text": [
      "DiagramVectorizer: batch: 100%|██████████| 1/1 [00:01<00:00,  1.60s/it]\n"
     ]
    },
    {
     "name": "stdout",
     "output_type": "stream",
     "text": [
      "Saving the result to ./3/test/filtrations/8/RadialFiltration_51_25/features.npy\n",
      "Applying filtration 110/116: 8/RadialFiltration_51_38\n",
      "FiltrationExtractor: processing 3/test/filtrations/8/RadialFiltration_51_38, do_fit = False, filtration = RadialFiltration(center=array([51, 38]), n_jobs=-1)\n",
      "Saving the result to ./3/test/filtrations/8/RadialFiltration_51_38/diagrams.npy\n",
      "Applying Scaler to persistence diagrams.\n"
     ]
    },
    {
     "name": "stderr",
     "output_type": "stream",
     "text": [
      "DiagramVectorizer: batch: 100%|██████████| 1/1 [00:01<00:00,  1.63s/it]\n"
     ]
    },
    {
     "name": "stdout",
     "output_type": "stream",
     "text": [
      "Saving the result to ./3/test/filtrations/8/RadialFiltration_51_38/features.npy\n",
      "Applying filtration 111/116: 8/RadialFiltration_51_51\n",
      "FiltrationExtractor: processing 3/test/filtrations/8/RadialFiltration_51_51, do_fit = False, filtration = RadialFiltration(center=array([51, 51]), n_jobs=-1)\n",
      "Saving the result to ./3/test/filtrations/8/RadialFiltration_51_51/diagrams.npy\n",
      "Applying Scaler to persistence diagrams.\n"
     ]
    },
    {
     "name": "stderr",
     "output_type": "stream",
     "text": [
      "DiagramVectorizer: batch: 100%|██████████| 1/1 [00:01<00:00,  1.75s/it]"
     ]
    },
    {
     "name": "stdout",
     "output_type": "stream",
     "text": [
      "Saving the result to ./3/test/filtrations/8/RadialFiltration_51_51/features.npy\n",
      "Applying filtration 112/116: 8/DilationFiltration\n",
      "Got the result from ./3/test/filtrations/8/DilationFiltration/features.npy\n",
      "Applying filtration 113/116: 8/ErosionFiltration\n",
      "Got the result from ./3/test/filtrations/8/ErosionFiltration/features.npy\n",
      "Applying filtration 114/116: 8/SignedDistanceFiltration\n",
      "Got the result from ./3/test/filtrations/8/SignedDistanceFiltration/features.npy\n",
      "Applying filtration 115/116: 8/DensityFiltration_1\n",
      "Got the result from ./3/test/filtrations/8/DensityFiltration_1/features.npy\n",
      "Applying filtration 116/116: 8/DensityFiltration_3\n",
      "Got the result from ./3/test/filtrations/8/DensityFiltration_3/features.npy\n",
      "Got the result from ./3/test/geometry/features.npy\n",
      "Applying StandardScaler.\n"
     ]
    },
    {
     "name": "stderr",
     "output_type": "stream",
     "text": [
      "\n"
     ]
    }
   ],
   "source": [
    "import cvtda.topology\n",
    "extractor = cvtda.topology.FeatureExtractor(only_get_from_dump = False, return_diagrams = False)\n",
    "extractor = extractor.fit(train_images, \"3/train\")\n",
    "train_features = extractor.transform(train_images, \"3/train\")\n",
    "test_features = extractor.transform(test_images, \"3/test\")"
   ]
  },
  {
   "cell_type": "code",
   "execution_count": 11,
   "metadata": {},
   "outputs": [
    {
     "name": "stdout",
     "output_type": "stream",
     "text": [
      "Calculating inverted images\n",
      "Got the result from ./3/train/greyscale/diagrams.npy\n",
      "Applying Scaler to persistence diagrams.\n",
      "Got the result from ./3/train/greyscale/diagrams.npy\n",
      "Got the result from ./3/train/inverted_greyscale/diagrams.npy\n",
      "Applying Scaler to persistence diagrams.\n",
      "Got the result from ./3/train/inverted_greyscale/diagrams.npy\n",
      "Fitting filtrations\n",
      "Calculated radial centers for images of size 64x64: [12 25 38 51]x[12 25 38 51]\n",
      "Fitting filtration 1/116: 2/HeightFiltrartion_-1_-1\n",
      "Got the result from ./3/train/filtrations/2/HeightFiltrartion_-1_-1/diagrams.npy\n",
      "Applying Scaler to persistence diagrams.\n",
      "Fitting filtration 2/116: 2/HeightFiltrartion_1_1\n",
      "Got the result from ./3/train/filtrations/2/HeightFiltrartion_1_1/diagrams.npy\n",
      "Applying Scaler to persistence diagrams.\n",
      "Fitting filtration 3/116: 2/HeightFiltrartion_1_-1\n",
      "Got the result from ./3/train/filtrations/2/HeightFiltrartion_1_-1/diagrams.npy\n",
      "Applying Scaler to persistence diagrams.\n",
      "Fitting filtration 4/116: 2/HeightFiltrartion_-1_1\n",
      "Got the result from ./3/train/filtrations/2/HeightFiltrartion_-1_1/diagrams.npy\n",
      "Applying Scaler to persistence diagrams.\n",
      "Fitting filtration 5/116: 2/HeightFiltrartion_0_-1\n",
      "Got the result from ./3/train/filtrations/2/HeightFiltrartion_0_-1/diagrams.npy\n",
      "Applying Scaler to persistence diagrams.\n",
      "Fitting filtration 6/116: 2/HeightFiltrartion_0_1\n",
      "Got the result from ./3/train/filtrations/2/HeightFiltrartion_0_1/diagrams.npy\n",
      "Applying Scaler to persistence diagrams.\n",
      "Fitting filtration 7/116: 2/HeightFiltrartion_-1_0\n",
      "Got the result from ./3/train/filtrations/2/HeightFiltrartion_-1_0/diagrams.npy\n",
      "Applying Scaler to persistence diagrams.\n",
      "Fitting filtration 8/116: 2/HeightFiltrartion_1_0\n",
      "Got the result from ./3/train/filtrations/2/HeightFiltrartion_1_0/diagrams.npy\n",
      "Applying Scaler to persistence diagrams.\n",
      "Fitting filtration 9/116: 2/RadialFiltration_12_12\n",
      "Got the result from ./3/train/filtrations/2/RadialFiltration_12_12/diagrams.npy\n",
      "Applying Scaler to persistence diagrams.\n",
      "Fitting filtration 10/116: 2/RadialFiltration_12_25\n",
      "Got the result from ./3/train/filtrations/2/RadialFiltration_12_25/diagrams.npy\n",
      "Applying Scaler to persistence diagrams.\n",
      "Fitting filtration 11/116: 2/RadialFiltration_12_38\n",
      "Got the result from ./3/train/filtrations/2/RadialFiltration_12_38/diagrams.npy\n",
      "Applying Scaler to persistence diagrams.\n",
      "Fitting filtration 12/116: 2/RadialFiltration_12_51\n",
      "Got the result from ./3/train/filtrations/2/RadialFiltration_12_51/diagrams.npy\n",
      "Applying Scaler to persistence diagrams.\n",
      "Fitting filtration 13/116: 2/RadialFiltration_25_12\n",
      "Got the result from ./3/train/filtrations/2/RadialFiltration_25_12/diagrams.npy\n",
      "Applying Scaler to persistence diagrams.\n",
      "Fitting filtration 14/116: 2/RadialFiltration_25_25\n",
      "Got the result from ./3/train/filtrations/2/RadialFiltration_25_25/diagrams.npy\n",
      "Applying Scaler to persistence diagrams.\n",
      "Fitting filtration 15/116: 2/RadialFiltration_25_38\n",
      "Got the result from ./3/train/filtrations/2/RadialFiltration_25_38/diagrams.npy\n",
      "Applying Scaler to persistence diagrams.\n",
      "Fitting filtration 16/116: 2/RadialFiltration_25_51\n",
      "Got the result from ./3/train/filtrations/2/RadialFiltration_25_51/diagrams.npy\n",
      "Applying Scaler to persistence diagrams.\n",
      "Fitting filtration 17/116: 2/RadialFiltration_38_12\n",
      "Got the result from ./3/train/filtrations/2/RadialFiltration_38_12/diagrams.npy\n",
      "Applying Scaler to persistence diagrams.\n",
      "Fitting filtration 18/116: 2/RadialFiltration_38_25\n",
      "Got the result from ./3/train/filtrations/2/RadialFiltration_38_25/diagrams.npy\n",
      "Applying Scaler to persistence diagrams.\n",
      "Fitting filtration 19/116: 2/RadialFiltration_38_38\n",
      "Got the result from ./3/train/filtrations/2/RadialFiltration_38_38/diagrams.npy\n",
      "Applying Scaler to persistence diagrams.\n",
      "Fitting filtration 20/116: 2/RadialFiltration_38_51\n",
      "Got the result from ./3/train/filtrations/2/RadialFiltration_38_51/diagrams.npy\n",
      "Applying Scaler to persistence diagrams.\n",
      "Fitting filtration 21/116: 2/RadialFiltration_51_12\n",
      "Got the result from ./3/train/filtrations/2/RadialFiltration_51_12/diagrams.npy\n",
      "Applying Scaler to persistence diagrams.\n",
      "Fitting filtration 22/116: 2/RadialFiltration_51_25\n",
      "Got the result from ./3/train/filtrations/2/RadialFiltration_51_25/diagrams.npy\n",
      "Applying Scaler to persistence diagrams.\n",
      "Fitting filtration 23/116: 2/RadialFiltration_51_38\n",
      "Got the result from ./3/train/filtrations/2/RadialFiltration_51_38/diagrams.npy\n",
      "Applying Scaler to persistence diagrams.\n",
      "Fitting filtration 24/116: 2/RadialFiltration_51_51\n",
      "Got the result from ./3/train/filtrations/2/RadialFiltration_51_51/diagrams.npy\n",
      "Applying Scaler to persistence diagrams.\n",
      "Fitting filtration 25/116: 2/DilationFiltration\n",
      "Got the result from ./3/train/filtrations/2/DilationFiltration/diagrams.npy\n",
      "Applying Scaler to persistence diagrams.\n",
      "Fitting filtration 26/116: 2/ErosionFiltration\n",
      "Got the result from ./3/train/filtrations/2/ErosionFiltration/diagrams.npy\n",
      "Applying Scaler to persistence diagrams.\n",
      "Fitting filtration 27/116: 2/SignedDistanceFiltration\n",
      "Got the result from ./3/train/filtrations/2/SignedDistanceFiltration/diagrams.npy\n",
      "Applying Scaler to persistence diagrams.\n",
      "Fitting filtration 28/116: 2/DensityFiltration_1\n",
      "Got the result from ./3/train/filtrations/2/DensityFiltration_1/diagrams.npy\n",
      "Applying Scaler to persistence diagrams.\n",
      "Fitting filtration 29/116: 2/DensityFiltration_3\n",
      "Got the result from ./3/train/filtrations/2/DensityFiltration_3/diagrams.npy\n",
      "Applying Scaler to persistence diagrams.\n",
      "Fitting filtration 30/116: 4/HeightFiltrartion_-1_-1\n",
      "Got the result from ./3/train/filtrations/4/HeightFiltrartion_-1_-1/diagrams.npy\n",
      "Applying Scaler to persistence diagrams.\n",
      "Fitting filtration 31/116: 4/HeightFiltrartion_1_1\n",
      "Got the result from ./3/train/filtrations/4/HeightFiltrartion_1_1/diagrams.npy\n",
      "Applying Scaler to persistence diagrams.\n",
      "Fitting filtration 32/116: 4/HeightFiltrartion_1_-1\n",
      "Got the result from ./3/train/filtrations/4/HeightFiltrartion_1_-1/diagrams.npy\n",
      "Applying Scaler to persistence diagrams.\n",
      "Fitting filtration 33/116: 4/HeightFiltrartion_-1_1\n",
      "Got the result from ./3/train/filtrations/4/HeightFiltrartion_-1_1/diagrams.npy\n",
      "Applying Scaler to persistence diagrams.\n",
      "Fitting filtration 34/116: 4/HeightFiltrartion_0_-1\n",
      "Got the result from ./3/train/filtrations/4/HeightFiltrartion_0_-1/diagrams.npy\n",
      "Applying Scaler to persistence diagrams.\n",
      "Fitting filtration 35/116: 4/HeightFiltrartion_0_1\n",
      "Got the result from ./3/train/filtrations/4/HeightFiltrartion_0_1/diagrams.npy\n",
      "Applying Scaler to persistence diagrams.\n",
      "Fitting filtration 36/116: 4/HeightFiltrartion_-1_0\n",
      "Got the result from ./3/train/filtrations/4/HeightFiltrartion_-1_0/diagrams.npy\n",
      "Applying Scaler to persistence diagrams.\n",
      "Fitting filtration 37/116: 4/HeightFiltrartion_1_0\n",
      "Got the result from ./3/train/filtrations/4/HeightFiltrartion_1_0/diagrams.npy\n",
      "Applying Scaler to persistence diagrams.\n",
      "Fitting filtration 38/116: 4/RadialFiltration_12_12\n",
      "Got the result from ./3/train/filtrations/4/RadialFiltration_12_12/diagrams.npy\n",
      "Applying Scaler to persistence diagrams.\n",
      "Fitting filtration 39/116: 4/RadialFiltration_12_25\n",
      "Got the result from ./3/train/filtrations/4/RadialFiltration_12_25/diagrams.npy\n",
      "Applying Scaler to persistence diagrams.\n",
      "Fitting filtration 40/116: 4/RadialFiltration_12_38\n",
      "Got the result from ./3/train/filtrations/4/RadialFiltration_12_38/diagrams.npy\n",
      "Applying Scaler to persistence diagrams.\n",
      "Fitting filtration 41/116: 4/RadialFiltration_12_51\n",
      "Got the result from ./3/train/filtrations/4/RadialFiltration_12_51/diagrams.npy\n",
      "Applying Scaler to persistence diagrams.\n",
      "Fitting filtration 42/116: 4/RadialFiltration_25_12\n",
      "Got the result from ./3/train/filtrations/4/RadialFiltration_25_12/diagrams.npy\n",
      "Applying Scaler to persistence diagrams.\n",
      "Fitting filtration 43/116: 4/RadialFiltration_25_25\n",
      "Got the result from ./3/train/filtrations/4/RadialFiltration_25_25/diagrams.npy\n",
      "Applying Scaler to persistence diagrams.\n",
      "Fitting filtration 44/116: 4/RadialFiltration_25_38\n",
      "Got the result from ./3/train/filtrations/4/RadialFiltration_25_38/diagrams.npy\n",
      "Applying Scaler to persistence diagrams.\n",
      "Fitting filtration 45/116: 4/RadialFiltration_25_51\n",
      "Got the result from ./3/train/filtrations/4/RadialFiltration_25_51/diagrams.npy\n",
      "Applying Scaler to persistence diagrams.\n",
      "Fitting filtration 46/116: 4/RadialFiltration_38_12\n",
      "Got the result from ./3/train/filtrations/4/RadialFiltration_38_12/diagrams.npy\n",
      "Applying Scaler to persistence diagrams.\n",
      "Fitting filtration 47/116: 4/RadialFiltration_38_25\n",
      "Got the result from ./3/train/filtrations/4/RadialFiltration_38_25/diagrams.npy\n",
      "Applying Scaler to persistence diagrams.\n",
      "Fitting filtration 48/116: 4/RadialFiltration_38_38\n",
      "Got the result from ./3/train/filtrations/4/RadialFiltration_38_38/diagrams.npy\n",
      "Applying Scaler to persistence diagrams.\n",
      "Fitting filtration 49/116: 4/RadialFiltration_38_51\n",
      "Got the result from ./3/train/filtrations/4/RadialFiltration_38_51/diagrams.npy\n",
      "Applying Scaler to persistence diagrams.\n",
      "Fitting filtration 50/116: 4/RadialFiltration_51_12\n",
      "Got the result from ./3/train/filtrations/4/RadialFiltration_51_12/diagrams.npy\n",
      "Applying Scaler to persistence diagrams.\n",
      "Fitting filtration 51/116: 4/RadialFiltration_51_25\n",
      "Got the result from ./3/train/filtrations/4/RadialFiltration_51_25/diagrams.npy\n",
      "Applying Scaler to persistence diagrams.\n",
      "Fitting filtration 52/116: 4/RadialFiltration_51_38\n",
      "Got the result from ./3/train/filtrations/4/RadialFiltration_51_38/diagrams.npy\n",
      "Applying Scaler to persistence diagrams.\n",
      "Fitting filtration 53/116: 4/RadialFiltration_51_51\n",
      "Got the result from ./3/train/filtrations/4/RadialFiltration_51_51/diagrams.npy\n",
      "Applying Scaler to persistence diagrams.\n",
      "Fitting filtration 54/116: 4/DilationFiltration\n",
      "Got the result from ./3/train/filtrations/4/DilationFiltration/diagrams.npy\n",
      "Applying Scaler to persistence diagrams.\n",
      "Fitting filtration 55/116: 4/ErosionFiltration\n",
      "Got the result from ./3/train/filtrations/4/ErosionFiltration/diagrams.npy\n",
      "Applying Scaler to persistence diagrams.\n",
      "Fitting filtration 56/116: 4/SignedDistanceFiltration\n",
      "Got the result from ./3/train/filtrations/4/SignedDistanceFiltration/diagrams.npy\n",
      "Applying Scaler to persistence diagrams.\n",
      "Fitting filtration 57/116: 4/DensityFiltration_1\n",
      "Got the result from ./3/train/filtrations/4/DensityFiltration_1/diagrams.npy\n",
      "Applying Scaler to persistence diagrams.\n",
      "Fitting filtration 58/116: 4/DensityFiltration_3\n",
      "Got the result from ./3/train/filtrations/4/DensityFiltration_3/diagrams.npy\n",
      "Applying Scaler to persistence diagrams.\n",
      "Fitting filtration 59/116: 6/HeightFiltrartion_-1_-1\n",
      "Got the result from ./3/train/filtrations/6/HeightFiltrartion_-1_-1/diagrams.npy\n",
      "Applying Scaler to persistence diagrams.\n",
      "Fitting filtration 60/116: 6/HeightFiltrartion_1_1\n",
      "Got the result from ./3/train/filtrations/6/HeightFiltrartion_1_1/diagrams.npy\n",
      "Applying Scaler to persistence diagrams.\n",
      "Fitting filtration 61/116: 6/HeightFiltrartion_1_-1\n",
      "Got the result from ./3/train/filtrations/6/HeightFiltrartion_1_-1/diagrams.npy\n",
      "Applying Scaler to persistence diagrams.\n",
      "Fitting filtration 62/116: 6/HeightFiltrartion_-1_1\n",
      "Got the result from ./3/train/filtrations/6/HeightFiltrartion_-1_1/diagrams.npy\n",
      "Applying Scaler to persistence diagrams.\n",
      "Fitting filtration 63/116: 6/HeightFiltrartion_0_-1\n",
      "Got the result from ./3/train/filtrations/6/HeightFiltrartion_0_-1/diagrams.npy\n",
      "Applying Scaler to persistence diagrams.\n",
      "Fitting filtration 64/116: 6/HeightFiltrartion_0_1\n",
      "Got the result from ./3/train/filtrations/6/HeightFiltrartion_0_1/diagrams.npy\n",
      "Applying Scaler to persistence diagrams.\n",
      "Fitting filtration 65/116: 6/HeightFiltrartion_-1_0\n",
      "Got the result from ./3/train/filtrations/6/HeightFiltrartion_-1_0/diagrams.npy\n",
      "Applying Scaler to persistence diagrams.\n",
      "Fitting filtration 66/116: 6/HeightFiltrartion_1_0\n",
      "Got the result from ./3/train/filtrations/6/HeightFiltrartion_1_0/diagrams.npy\n",
      "Applying Scaler to persistence diagrams.\n",
      "Fitting filtration 67/116: 6/RadialFiltration_12_12\n",
      "Got the result from ./3/train/filtrations/6/RadialFiltration_12_12/diagrams.npy\n",
      "Applying Scaler to persistence diagrams.\n",
      "Fitting filtration 68/116: 6/RadialFiltration_12_25\n",
      "Got the result from ./3/train/filtrations/6/RadialFiltration_12_25/diagrams.npy\n",
      "Applying Scaler to persistence diagrams.\n",
      "Fitting filtration 69/116: 6/RadialFiltration_12_38\n",
      "Got the result from ./3/train/filtrations/6/RadialFiltration_12_38/diagrams.npy\n",
      "Applying Scaler to persistence diagrams.\n",
      "Fitting filtration 70/116: 6/RadialFiltration_12_51\n",
      "Got the result from ./3/train/filtrations/6/RadialFiltration_12_51/diagrams.npy\n",
      "Applying Scaler to persistence diagrams.\n",
      "Fitting filtration 71/116: 6/RadialFiltration_25_12\n",
      "Got the result from ./3/train/filtrations/6/RadialFiltration_25_12/diagrams.npy\n",
      "Applying Scaler to persistence diagrams.\n",
      "Fitting filtration 72/116: 6/RadialFiltration_25_25\n",
      "Got the result from ./3/train/filtrations/6/RadialFiltration_25_25/diagrams.npy\n",
      "Applying Scaler to persistence diagrams.\n",
      "Fitting filtration 73/116: 6/RadialFiltration_25_38\n",
      "Got the result from ./3/train/filtrations/6/RadialFiltration_25_38/diagrams.npy\n",
      "Applying Scaler to persistence diagrams.\n",
      "Fitting filtration 74/116: 6/RadialFiltration_25_51\n",
      "Got the result from ./3/train/filtrations/6/RadialFiltration_25_51/diagrams.npy\n",
      "Applying Scaler to persistence diagrams.\n",
      "Fitting filtration 75/116: 6/RadialFiltration_38_12\n",
      "Got the result from ./3/train/filtrations/6/RadialFiltration_38_12/diagrams.npy\n",
      "Applying Scaler to persistence diagrams.\n",
      "Fitting filtration 76/116: 6/RadialFiltration_38_25\n",
      "Got the result from ./3/train/filtrations/6/RadialFiltration_38_25/diagrams.npy\n",
      "Applying Scaler to persistence diagrams.\n",
      "Fitting filtration 77/116: 6/RadialFiltration_38_38\n",
      "Got the result from ./3/train/filtrations/6/RadialFiltration_38_38/diagrams.npy\n",
      "Applying Scaler to persistence diagrams.\n",
      "Fitting filtration 78/116: 6/RadialFiltration_38_51\n",
      "Got the result from ./3/train/filtrations/6/RadialFiltration_38_51/diagrams.npy\n",
      "Applying Scaler to persistence diagrams.\n",
      "Fitting filtration 79/116: 6/RadialFiltration_51_12\n",
      "Got the result from ./3/train/filtrations/6/RadialFiltration_51_12/diagrams.npy\n",
      "Applying Scaler to persistence diagrams.\n",
      "Fitting filtration 80/116: 6/RadialFiltration_51_25\n",
      "Got the result from ./3/train/filtrations/6/RadialFiltration_51_25/diagrams.npy\n",
      "Applying Scaler to persistence diagrams.\n",
      "Fitting filtration 81/116: 6/RadialFiltration_51_38\n",
      "Got the result from ./3/train/filtrations/6/RadialFiltration_51_38/diagrams.npy\n",
      "Applying Scaler to persistence diagrams.\n",
      "Fitting filtration 82/116: 6/RadialFiltration_51_51\n",
      "Got the result from ./3/train/filtrations/6/RadialFiltration_51_51/diagrams.npy\n",
      "Applying Scaler to persistence diagrams.\n",
      "Fitting filtration 83/116: 6/DilationFiltration\n",
      "Got the result from ./3/train/filtrations/6/DilationFiltration/diagrams.npy\n",
      "Applying Scaler to persistence diagrams.\n",
      "Fitting filtration 84/116: 6/ErosionFiltration\n",
      "Got the result from ./3/train/filtrations/6/ErosionFiltration/diagrams.npy\n",
      "Applying Scaler to persistence diagrams.\n",
      "Fitting filtration 85/116: 6/SignedDistanceFiltration\n",
      "Got the result from ./3/train/filtrations/6/SignedDistanceFiltration/diagrams.npy\n",
      "Applying Scaler to persistence diagrams.\n",
      "Fitting filtration 86/116: 6/DensityFiltration_1\n",
      "Got the result from ./3/train/filtrations/6/DensityFiltration_1/diagrams.npy\n",
      "Applying Scaler to persistence diagrams.\n",
      "Fitting filtration 87/116: 6/DensityFiltration_3\n",
      "Got the result from ./3/train/filtrations/6/DensityFiltration_3/diagrams.npy\n",
      "Applying Scaler to persistence diagrams.\n",
      "Fitting filtration 88/116: 8/HeightFiltrartion_-1_-1\n",
      "Got the result from ./3/train/filtrations/8/HeightFiltrartion_-1_-1/diagrams.npy\n",
      "Applying Scaler to persistence diagrams.\n",
      "Fitting filtration 89/116: 8/HeightFiltrartion_1_1\n",
      "Got the result from ./3/train/filtrations/8/HeightFiltrartion_1_1/diagrams.npy\n",
      "Applying Scaler to persistence diagrams.\n",
      "Fitting filtration 90/116: 8/HeightFiltrartion_1_-1\n",
      "Got the result from ./3/train/filtrations/8/HeightFiltrartion_1_-1/diagrams.npy\n",
      "Applying Scaler to persistence diagrams.\n",
      "Fitting filtration 91/116: 8/HeightFiltrartion_-1_1\n",
      "Got the result from ./3/train/filtrations/8/HeightFiltrartion_-1_1/diagrams.npy\n",
      "Applying Scaler to persistence diagrams.\n",
      "Fitting filtration 92/116: 8/HeightFiltrartion_0_-1\n",
      "Got the result from ./3/train/filtrations/8/HeightFiltrartion_0_-1/diagrams.npy\n",
      "Applying Scaler to persistence diagrams.\n",
      "Fitting filtration 93/116: 8/HeightFiltrartion_0_1\n",
      "Got the result from ./3/train/filtrations/8/HeightFiltrartion_0_1/diagrams.npy\n",
      "Applying Scaler to persistence diagrams.\n",
      "Fitting filtration 94/116: 8/HeightFiltrartion_-1_0\n",
      "Got the result from ./3/train/filtrations/8/HeightFiltrartion_-1_0/diagrams.npy\n",
      "Applying Scaler to persistence diagrams.\n",
      "Fitting filtration 95/116: 8/HeightFiltrartion_1_0\n",
      "Got the result from ./3/train/filtrations/8/HeightFiltrartion_1_0/diagrams.npy\n",
      "Applying Scaler to persistence diagrams.\n",
      "Fitting filtration 96/116: 8/RadialFiltration_12_12\n",
      "Got the result from ./3/train/filtrations/8/RadialFiltration_12_12/diagrams.npy\n",
      "Applying Scaler to persistence diagrams.\n",
      "Fitting filtration 97/116: 8/RadialFiltration_12_25\n",
      "Got the result from ./3/train/filtrations/8/RadialFiltration_12_25/diagrams.npy\n",
      "Applying Scaler to persistence diagrams.\n",
      "Fitting filtration 98/116: 8/RadialFiltration_12_38\n",
      "Got the result from ./3/train/filtrations/8/RadialFiltration_12_38/diagrams.npy\n",
      "Applying Scaler to persistence diagrams.\n",
      "Fitting filtration 99/116: 8/RadialFiltration_12_51\n",
      "Got the result from ./3/train/filtrations/8/RadialFiltration_12_51/diagrams.npy\n",
      "Applying Scaler to persistence diagrams.\n",
      "Fitting filtration 100/116: 8/RadialFiltration_25_12\n",
      "Got the result from ./3/train/filtrations/8/RadialFiltration_25_12/diagrams.npy\n",
      "Applying Scaler to persistence diagrams.\n",
      "Fitting filtration 101/116: 8/RadialFiltration_25_25\n",
      "Got the result from ./3/train/filtrations/8/RadialFiltration_25_25/diagrams.npy\n",
      "Applying Scaler to persistence diagrams.\n",
      "Fitting filtration 102/116: 8/RadialFiltration_25_38\n",
      "Got the result from ./3/train/filtrations/8/RadialFiltration_25_38/diagrams.npy\n",
      "Applying Scaler to persistence diagrams.\n",
      "Fitting filtration 103/116: 8/RadialFiltration_25_51\n",
      "Got the result from ./3/train/filtrations/8/RadialFiltration_25_51/diagrams.npy\n",
      "Applying Scaler to persistence diagrams.\n",
      "Fitting filtration 104/116: 8/RadialFiltration_38_12\n",
      "Got the result from ./3/train/filtrations/8/RadialFiltration_38_12/diagrams.npy\n",
      "Applying Scaler to persistence diagrams.\n",
      "Fitting filtration 105/116: 8/RadialFiltration_38_25\n",
      "Got the result from ./3/train/filtrations/8/RadialFiltration_38_25/diagrams.npy\n",
      "Applying Scaler to persistence diagrams.\n",
      "Fitting filtration 106/116: 8/RadialFiltration_38_38\n",
      "Got the result from ./3/train/filtrations/8/RadialFiltration_38_38/diagrams.npy\n",
      "Applying Scaler to persistence diagrams.\n",
      "Fitting filtration 107/116: 8/RadialFiltration_38_51\n",
      "Got the result from ./3/train/filtrations/8/RadialFiltration_38_51/diagrams.npy\n",
      "Applying Scaler to persistence diagrams.\n",
      "Fitting filtration 108/116: 8/RadialFiltration_51_12\n",
      "Got the result from ./3/train/filtrations/8/RadialFiltration_51_12/diagrams.npy\n",
      "Applying Scaler to persistence diagrams.\n",
      "Fitting filtration 109/116: 8/RadialFiltration_51_25\n",
      "Got the result from ./3/train/filtrations/8/RadialFiltration_51_25/diagrams.npy\n",
      "Applying Scaler to persistence diagrams.\n",
      "Fitting filtration 110/116: 8/RadialFiltration_51_38\n",
      "Got the result from ./3/train/filtrations/8/RadialFiltration_51_38/diagrams.npy\n",
      "Applying Scaler to persistence diagrams.\n",
      "Fitting filtration 111/116: 8/RadialFiltration_51_51\n",
      "Got the result from ./3/train/filtrations/8/RadialFiltration_51_51/diagrams.npy\n",
      "Applying Scaler to persistence diagrams.\n",
      "Fitting filtration 112/116: 8/DilationFiltration\n",
      "Got the result from ./3/train/filtrations/8/DilationFiltration/diagrams.npy\n",
      "Applying Scaler to persistence diagrams.\n",
      "Fitting filtration 113/116: 8/ErosionFiltration\n",
      "Got the result from ./3/train/filtrations/8/ErosionFiltration/diagrams.npy\n",
      "Applying Scaler to persistence diagrams.\n",
      "Fitting filtration 114/116: 8/SignedDistanceFiltration\n",
      "Got the result from ./3/train/filtrations/8/SignedDistanceFiltration/diagrams.npy\n",
      "Applying Scaler to persistence diagrams.\n",
      "Fitting filtration 115/116: 8/DensityFiltration_1\n",
      "Got the result from ./3/train/filtrations/8/DensityFiltration_1/diagrams.npy\n",
      "Applying Scaler to persistence diagrams.\n",
      "Fitting filtration 116/116: 8/DensityFiltration_3\n",
      "Got the result from ./3/train/filtrations/8/DensityFiltration_3/diagrams.npy\n",
      "Applying Scaler to persistence diagrams.\n",
      "Applying filtrations\n",
      "Applying filtration 1/116: 2/HeightFiltrartion_-1_-1\n",
      "Got the result from ./3/train/filtrations/2/HeightFiltrartion_-1_-1/diagrams.npy\n",
      "Applying filtration 2/116: 2/HeightFiltrartion_1_1\n",
      "Got the result from ./3/train/filtrations/2/HeightFiltrartion_1_1/diagrams.npy\n",
      "Applying filtration 3/116: 2/HeightFiltrartion_1_-1\n",
      "Got the result from ./3/train/filtrations/2/HeightFiltrartion_1_-1/diagrams.npy\n",
      "Applying filtration 4/116: 2/HeightFiltrartion_-1_1\n",
      "Got the result from ./3/train/filtrations/2/HeightFiltrartion_-1_1/diagrams.npy\n",
      "Applying filtration 5/116: 2/HeightFiltrartion_0_-1\n",
      "Got the result from ./3/train/filtrations/2/HeightFiltrartion_0_-1/diagrams.npy\n",
      "Applying filtration 6/116: 2/HeightFiltrartion_0_1\n",
      "Got the result from ./3/train/filtrations/2/HeightFiltrartion_0_1/diagrams.npy\n",
      "Applying filtration 7/116: 2/HeightFiltrartion_-1_0\n",
      "Got the result from ./3/train/filtrations/2/HeightFiltrartion_-1_0/diagrams.npy\n",
      "Applying filtration 8/116: 2/HeightFiltrartion_1_0\n",
      "Got the result from ./3/train/filtrations/2/HeightFiltrartion_1_0/diagrams.npy\n",
      "Applying filtration 9/116: 2/RadialFiltration_12_12\n",
      "Got the result from ./3/train/filtrations/2/RadialFiltration_12_12/diagrams.npy\n",
      "Applying filtration 10/116: 2/RadialFiltration_12_25\n",
      "Got the result from ./3/train/filtrations/2/RadialFiltration_12_25/diagrams.npy\n",
      "Applying filtration 11/116: 2/RadialFiltration_12_38\n",
      "Got the result from ./3/train/filtrations/2/RadialFiltration_12_38/diagrams.npy\n",
      "Applying filtration 12/116: 2/RadialFiltration_12_51\n",
      "Got the result from ./3/train/filtrations/2/RadialFiltration_12_51/diagrams.npy\n",
      "Applying filtration 13/116: 2/RadialFiltration_25_12\n",
      "Got the result from ./3/train/filtrations/2/RadialFiltration_25_12/diagrams.npy\n",
      "Applying filtration 14/116: 2/RadialFiltration_25_25\n",
      "Got the result from ./3/train/filtrations/2/RadialFiltration_25_25/diagrams.npy\n",
      "Applying filtration 15/116: 2/RadialFiltration_25_38\n",
      "Got the result from ./3/train/filtrations/2/RadialFiltration_25_38/diagrams.npy\n",
      "Applying filtration 16/116: 2/RadialFiltration_25_51\n",
      "Got the result from ./3/train/filtrations/2/RadialFiltration_25_51/diagrams.npy\n",
      "Applying filtration 17/116: 2/RadialFiltration_38_12\n",
      "Got the result from ./3/train/filtrations/2/RadialFiltration_38_12/diagrams.npy\n",
      "Applying filtration 18/116: 2/RadialFiltration_38_25\n",
      "Got the result from ./3/train/filtrations/2/RadialFiltration_38_25/diagrams.npy\n",
      "Applying filtration 19/116: 2/RadialFiltration_38_38\n",
      "Got the result from ./3/train/filtrations/2/RadialFiltration_38_38/diagrams.npy\n",
      "Applying filtration 20/116: 2/RadialFiltration_38_51\n",
      "Got the result from ./3/train/filtrations/2/RadialFiltration_38_51/diagrams.npy\n",
      "Applying filtration 21/116: 2/RadialFiltration_51_12\n",
      "Got the result from ./3/train/filtrations/2/RadialFiltration_51_12/diagrams.npy\n",
      "Applying filtration 22/116: 2/RadialFiltration_51_25\n",
      "Got the result from ./3/train/filtrations/2/RadialFiltration_51_25/diagrams.npy\n",
      "Applying filtration 23/116: 2/RadialFiltration_51_38\n",
      "Got the result from ./3/train/filtrations/2/RadialFiltration_51_38/diagrams.npy\n",
      "Applying filtration 24/116: 2/RadialFiltration_51_51\n",
      "Got the result from ./3/train/filtrations/2/RadialFiltration_51_51/diagrams.npy\n",
      "Applying filtration 25/116: 2/DilationFiltration\n",
      "Got the result from ./3/train/filtrations/2/DilationFiltration/diagrams.npy\n",
      "Applying filtration 26/116: 2/ErosionFiltration\n",
      "Got the result from ./3/train/filtrations/2/ErosionFiltration/diagrams.npy\n",
      "Applying filtration 27/116: 2/SignedDistanceFiltration\n",
      "Got the result from ./3/train/filtrations/2/SignedDistanceFiltration/diagrams.npy\n",
      "Applying filtration 28/116: 2/DensityFiltration_1\n",
      "Got the result from ./3/train/filtrations/2/DensityFiltration_1/diagrams.npy\n",
      "Applying filtration 29/116: 2/DensityFiltration_3\n",
      "Got the result from ./3/train/filtrations/2/DensityFiltration_3/diagrams.npy\n",
      "Applying filtration 30/116: 4/HeightFiltrartion_-1_-1\n",
      "Got the result from ./3/train/filtrations/4/HeightFiltrartion_-1_-1/diagrams.npy\n",
      "Applying filtration 31/116: 4/HeightFiltrartion_1_1\n",
      "Got the result from ./3/train/filtrations/4/HeightFiltrartion_1_1/diagrams.npy\n",
      "Applying filtration 32/116: 4/HeightFiltrartion_1_-1\n",
      "Got the result from ./3/train/filtrations/4/HeightFiltrartion_1_-1/diagrams.npy\n",
      "Applying filtration 33/116: 4/HeightFiltrartion_-1_1\n",
      "Got the result from ./3/train/filtrations/4/HeightFiltrartion_-1_1/diagrams.npy\n",
      "Applying filtration 34/116: 4/HeightFiltrartion_0_-1\n",
      "Got the result from ./3/train/filtrations/4/HeightFiltrartion_0_-1/diagrams.npy\n",
      "Applying filtration 35/116: 4/HeightFiltrartion_0_1\n",
      "Got the result from ./3/train/filtrations/4/HeightFiltrartion_0_1/diagrams.npy\n",
      "Applying filtration 36/116: 4/HeightFiltrartion_-1_0\n",
      "Got the result from ./3/train/filtrations/4/HeightFiltrartion_-1_0/diagrams.npy\n",
      "Applying filtration 37/116: 4/HeightFiltrartion_1_0\n",
      "Got the result from ./3/train/filtrations/4/HeightFiltrartion_1_0/diagrams.npy\n",
      "Applying filtration 38/116: 4/RadialFiltration_12_12\n",
      "Got the result from ./3/train/filtrations/4/RadialFiltration_12_12/diagrams.npy\n",
      "Applying filtration 39/116: 4/RadialFiltration_12_25\n",
      "Got the result from ./3/train/filtrations/4/RadialFiltration_12_25/diagrams.npy\n",
      "Applying filtration 40/116: 4/RadialFiltration_12_38\n",
      "Got the result from ./3/train/filtrations/4/RadialFiltration_12_38/diagrams.npy\n",
      "Applying filtration 41/116: 4/RadialFiltration_12_51\n",
      "Got the result from ./3/train/filtrations/4/RadialFiltration_12_51/diagrams.npy\n",
      "Applying filtration 42/116: 4/RadialFiltration_25_12\n",
      "Got the result from ./3/train/filtrations/4/RadialFiltration_25_12/diagrams.npy\n",
      "Applying filtration 43/116: 4/RadialFiltration_25_25\n",
      "Got the result from ./3/train/filtrations/4/RadialFiltration_25_25/diagrams.npy\n",
      "Applying filtration 44/116: 4/RadialFiltration_25_38\n",
      "Got the result from ./3/train/filtrations/4/RadialFiltration_25_38/diagrams.npy\n",
      "Applying filtration 45/116: 4/RadialFiltration_25_51\n",
      "Got the result from ./3/train/filtrations/4/RadialFiltration_25_51/diagrams.npy\n",
      "Applying filtration 46/116: 4/RadialFiltration_38_12\n",
      "Got the result from ./3/train/filtrations/4/RadialFiltration_38_12/diagrams.npy\n",
      "Applying filtration 47/116: 4/RadialFiltration_38_25\n",
      "Got the result from ./3/train/filtrations/4/RadialFiltration_38_25/diagrams.npy\n",
      "Applying filtration 48/116: 4/RadialFiltration_38_38\n",
      "Got the result from ./3/train/filtrations/4/RadialFiltration_38_38/diagrams.npy\n",
      "Applying filtration 49/116: 4/RadialFiltration_38_51\n",
      "Got the result from ./3/train/filtrations/4/RadialFiltration_38_51/diagrams.npy\n",
      "Applying filtration 50/116: 4/RadialFiltration_51_12\n",
      "Got the result from ./3/train/filtrations/4/RadialFiltration_51_12/diagrams.npy\n",
      "Applying filtration 51/116: 4/RadialFiltration_51_25\n",
      "Got the result from ./3/train/filtrations/4/RadialFiltration_51_25/diagrams.npy\n",
      "Applying filtration 52/116: 4/RadialFiltration_51_38\n",
      "Got the result from ./3/train/filtrations/4/RadialFiltration_51_38/diagrams.npy\n",
      "Applying filtration 53/116: 4/RadialFiltration_51_51\n",
      "Got the result from ./3/train/filtrations/4/RadialFiltration_51_51/diagrams.npy\n",
      "Applying filtration 54/116: 4/DilationFiltration\n",
      "Got the result from ./3/train/filtrations/4/DilationFiltration/diagrams.npy\n",
      "Applying filtration 55/116: 4/ErosionFiltration\n",
      "Got the result from ./3/train/filtrations/4/ErosionFiltration/diagrams.npy\n",
      "Applying filtration 56/116: 4/SignedDistanceFiltration\n",
      "Got the result from ./3/train/filtrations/4/SignedDistanceFiltration/diagrams.npy\n",
      "Applying filtration 57/116: 4/DensityFiltration_1\n",
      "Got the result from ./3/train/filtrations/4/DensityFiltration_1/diagrams.npy\n",
      "Applying filtration 58/116: 4/DensityFiltration_3\n",
      "Got the result from ./3/train/filtrations/4/DensityFiltration_3/diagrams.npy\n",
      "Applying filtration 59/116: 6/HeightFiltrartion_-1_-1\n",
      "Got the result from ./3/train/filtrations/6/HeightFiltrartion_-1_-1/diagrams.npy\n",
      "Applying filtration 60/116: 6/HeightFiltrartion_1_1\n",
      "Got the result from ./3/train/filtrations/6/HeightFiltrartion_1_1/diagrams.npy\n",
      "Applying filtration 61/116: 6/HeightFiltrartion_1_-1\n",
      "Got the result from ./3/train/filtrations/6/HeightFiltrartion_1_-1/diagrams.npy\n",
      "Applying filtration 62/116: 6/HeightFiltrartion_-1_1\n",
      "Got the result from ./3/train/filtrations/6/HeightFiltrartion_-1_1/diagrams.npy\n",
      "Applying filtration 63/116: 6/HeightFiltrartion_0_-1\n",
      "Got the result from ./3/train/filtrations/6/HeightFiltrartion_0_-1/diagrams.npy\n",
      "Applying filtration 64/116: 6/HeightFiltrartion_0_1\n",
      "Got the result from ./3/train/filtrations/6/HeightFiltrartion_0_1/diagrams.npy\n",
      "Applying filtration 65/116: 6/HeightFiltrartion_-1_0\n",
      "Got the result from ./3/train/filtrations/6/HeightFiltrartion_-1_0/diagrams.npy\n",
      "Applying filtration 66/116: 6/HeightFiltrartion_1_0\n",
      "Got the result from ./3/train/filtrations/6/HeightFiltrartion_1_0/diagrams.npy\n",
      "Applying filtration 67/116: 6/RadialFiltration_12_12\n",
      "Got the result from ./3/train/filtrations/6/RadialFiltration_12_12/diagrams.npy\n",
      "Applying filtration 68/116: 6/RadialFiltration_12_25\n",
      "Got the result from ./3/train/filtrations/6/RadialFiltration_12_25/diagrams.npy\n",
      "Applying filtration 69/116: 6/RadialFiltration_12_38\n",
      "Got the result from ./3/train/filtrations/6/RadialFiltration_12_38/diagrams.npy\n",
      "Applying filtration 70/116: 6/RadialFiltration_12_51\n",
      "Got the result from ./3/train/filtrations/6/RadialFiltration_12_51/diagrams.npy\n",
      "Applying filtration 71/116: 6/RadialFiltration_25_12\n",
      "Got the result from ./3/train/filtrations/6/RadialFiltration_25_12/diagrams.npy\n",
      "Applying filtration 72/116: 6/RadialFiltration_25_25\n",
      "Got the result from ./3/train/filtrations/6/RadialFiltration_25_25/diagrams.npy\n",
      "Applying filtration 73/116: 6/RadialFiltration_25_38\n",
      "Got the result from ./3/train/filtrations/6/RadialFiltration_25_38/diagrams.npy\n",
      "Applying filtration 74/116: 6/RadialFiltration_25_51\n",
      "Got the result from ./3/train/filtrations/6/RadialFiltration_25_51/diagrams.npy\n",
      "Applying filtration 75/116: 6/RadialFiltration_38_12\n",
      "Got the result from ./3/train/filtrations/6/RadialFiltration_38_12/diagrams.npy\n",
      "Applying filtration 76/116: 6/RadialFiltration_38_25\n",
      "Got the result from ./3/train/filtrations/6/RadialFiltration_38_25/diagrams.npy\n",
      "Applying filtration 77/116: 6/RadialFiltration_38_38\n",
      "Got the result from ./3/train/filtrations/6/RadialFiltration_38_38/diagrams.npy\n",
      "Applying filtration 78/116: 6/RadialFiltration_38_51\n",
      "Got the result from ./3/train/filtrations/6/RadialFiltration_38_51/diagrams.npy\n",
      "Applying filtration 79/116: 6/RadialFiltration_51_12\n",
      "Got the result from ./3/train/filtrations/6/RadialFiltration_51_12/diagrams.npy\n",
      "Applying filtration 80/116: 6/RadialFiltration_51_25\n",
      "Got the result from ./3/train/filtrations/6/RadialFiltration_51_25/diagrams.npy\n",
      "Applying filtration 81/116: 6/RadialFiltration_51_38\n",
      "Got the result from ./3/train/filtrations/6/RadialFiltration_51_38/diagrams.npy\n",
      "Applying filtration 82/116: 6/RadialFiltration_51_51\n",
      "Got the result from ./3/train/filtrations/6/RadialFiltration_51_51/diagrams.npy\n",
      "Applying filtration 83/116: 6/DilationFiltration\n",
      "Got the result from ./3/train/filtrations/6/DilationFiltration/diagrams.npy\n",
      "Applying filtration 84/116: 6/ErosionFiltration\n",
      "Got the result from ./3/train/filtrations/6/ErosionFiltration/diagrams.npy\n",
      "Applying filtration 85/116: 6/SignedDistanceFiltration\n",
      "Got the result from ./3/train/filtrations/6/SignedDistanceFiltration/diagrams.npy\n",
      "Applying filtration 86/116: 6/DensityFiltration_1\n",
      "Got the result from ./3/train/filtrations/6/DensityFiltration_1/diagrams.npy\n",
      "Applying filtration 87/116: 6/DensityFiltration_3\n",
      "Got the result from ./3/train/filtrations/6/DensityFiltration_3/diagrams.npy\n",
      "Applying filtration 88/116: 8/HeightFiltrartion_-1_-1\n",
      "Got the result from ./3/train/filtrations/8/HeightFiltrartion_-1_-1/diagrams.npy\n",
      "Applying filtration 89/116: 8/HeightFiltrartion_1_1\n",
      "Got the result from ./3/train/filtrations/8/HeightFiltrartion_1_1/diagrams.npy\n",
      "Applying filtration 90/116: 8/HeightFiltrartion_1_-1\n",
      "Got the result from ./3/train/filtrations/8/HeightFiltrartion_1_-1/diagrams.npy\n",
      "Applying filtration 91/116: 8/HeightFiltrartion_-1_1\n",
      "Got the result from ./3/train/filtrations/8/HeightFiltrartion_-1_1/diagrams.npy\n",
      "Applying filtration 92/116: 8/HeightFiltrartion_0_-1\n",
      "Got the result from ./3/train/filtrations/8/HeightFiltrartion_0_-1/diagrams.npy\n",
      "Applying filtration 93/116: 8/HeightFiltrartion_0_1\n",
      "Got the result from ./3/train/filtrations/8/HeightFiltrartion_0_1/diagrams.npy\n",
      "Applying filtration 94/116: 8/HeightFiltrartion_-1_0\n",
      "Got the result from ./3/train/filtrations/8/HeightFiltrartion_-1_0/diagrams.npy\n",
      "Applying filtration 95/116: 8/HeightFiltrartion_1_0\n",
      "Got the result from ./3/train/filtrations/8/HeightFiltrartion_1_0/diagrams.npy\n",
      "Applying filtration 96/116: 8/RadialFiltration_12_12\n",
      "Got the result from ./3/train/filtrations/8/RadialFiltration_12_12/diagrams.npy\n",
      "Applying filtration 97/116: 8/RadialFiltration_12_25\n",
      "Got the result from ./3/train/filtrations/8/RadialFiltration_12_25/diagrams.npy\n",
      "Applying filtration 98/116: 8/RadialFiltration_12_38\n",
      "Got the result from ./3/train/filtrations/8/RadialFiltration_12_38/diagrams.npy\n",
      "Applying filtration 99/116: 8/RadialFiltration_12_51\n",
      "Got the result from ./3/train/filtrations/8/RadialFiltration_12_51/diagrams.npy\n",
      "Applying filtration 100/116: 8/RadialFiltration_25_12\n",
      "Got the result from ./3/train/filtrations/8/RadialFiltration_25_12/diagrams.npy\n",
      "Applying filtration 101/116: 8/RadialFiltration_25_25\n",
      "Got the result from ./3/train/filtrations/8/RadialFiltration_25_25/diagrams.npy\n",
      "Applying filtration 102/116: 8/RadialFiltration_25_38\n",
      "Got the result from ./3/train/filtrations/8/RadialFiltration_25_38/diagrams.npy\n",
      "Applying filtration 103/116: 8/RadialFiltration_25_51\n",
      "Got the result from ./3/train/filtrations/8/RadialFiltration_25_51/diagrams.npy\n",
      "Applying filtration 104/116: 8/RadialFiltration_38_12\n",
      "Got the result from ./3/train/filtrations/8/RadialFiltration_38_12/diagrams.npy\n",
      "Applying filtration 105/116: 8/RadialFiltration_38_25\n",
      "Got the result from ./3/train/filtrations/8/RadialFiltration_38_25/diagrams.npy\n",
      "Applying filtration 106/116: 8/RadialFiltration_38_38\n",
      "Got the result from ./3/train/filtrations/8/RadialFiltration_38_38/diagrams.npy\n",
      "Applying filtration 107/116: 8/RadialFiltration_38_51\n",
      "Got the result from ./3/train/filtrations/8/RadialFiltration_38_51/diagrams.npy\n",
      "Applying filtration 108/116: 8/RadialFiltration_51_12\n",
      "Got the result from ./3/train/filtrations/8/RadialFiltration_51_12/diagrams.npy\n",
      "Applying filtration 109/116: 8/RadialFiltration_51_25\n",
      "Got the result from ./3/train/filtrations/8/RadialFiltration_51_25/diagrams.npy\n",
      "Applying filtration 110/116: 8/RadialFiltration_51_38\n",
      "Got the result from ./3/train/filtrations/8/RadialFiltration_51_38/diagrams.npy\n",
      "Applying filtration 111/116: 8/RadialFiltration_51_51\n",
      "Got the result from ./3/train/filtrations/8/RadialFiltration_51_51/diagrams.npy\n",
      "Applying filtration 112/116: 8/DilationFiltration\n",
      "Got the result from ./3/train/filtrations/8/DilationFiltration/diagrams.npy\n",
      "Applying filtration 113/116: 8/ErosionFiltration\n",
      "Got the result from ./3/train/filtrations/8/ErosionFiltration/diagrams.npy\n",
      "Applying filtration 114/116: 8/SignedDistanceFiltration\n",
      "Got the result from ./3/train/filtrations/8/SignedDistanceFiltration/diagrams.npy\n",
      "Applying filtration 115/116: 8/DensityFiltration_1\n",
      "Got the result from ./3/train/filtrations/8/DensityFiltration_1/diagrams.npy\n",
      "Applying filtration 116/116: 8/DensityFiltration_3\n",
      "Got the result from ./3/train/filtrations/8/DensityFiltration_3/diagrams.npy\n",
      "Diagrams requested. Returning diagrams.\n",
      "Calculating inverted images\n",
      "Got the result from ./3/train/greyscale/diagrams.npy\n",
      "Got the result from ./3/train/inverted_greyscale/diagrams.npy\n",
      "Applying filtrations\n",
      "Applying filtration 1/116: 2/HeightFiltrartion_-1_-1\n",
      "Got the result from ./3/train/filtrations/2/HeightFiltrartion_-1_-1/diagrams.npy\n",
      "Applying filtration 2/116: 2/HeightFiltrartion_1_1\n",
      "Got the result from ./3/train/filtrations/2/HeightFiltrartion_1_1/diagrams.npy\n",
      "Applying filtration 3/116: 2/HeightFiltrartion_1_-1\n",
      "Got the result from ./3/train/filtrations/2/HeightFiltrartion_1_-1/diagrams.npy\n",
      "Applying filtration 4/116: 2/HeightFiltrartion_-1_1\n",
      "Got the result from ./3/train/filtrations/2/HeightFiltrartion_-1_1/diagrams.npy\n",
      "Applying filtration 5/116: 2/HeightFiltrartion_0_-1\n",
      "Got the result from ./3/train/filtrations/2/HeightFiltrartion_0_-1/diagrams.npy\n",
      "Applying filtration 6/116: 2/HeightFiltrartion_0_1\n",
      "Got the result from ./3/train/filtrations/2/HeightFiltrartion_0_1/diagrams.npy\n",
      "Applying filtration 7/116: 2/HeightFiltrartion_-1_0\n",
      "Got the result from ./3/train/filtrations/2/HeightFiltrartion_-1_0/diagrams.npy\n",
      "Applying filtration 8/116: 2/HeightFiltrartion_1_0\n",
      "Got the result from ./3/train/filtrations/2/HeightFiltrartion_1_0/diagrams.npy\n",
      "Applying filtration 9/116: 2/RadialFiltration_12_12\n",
      "Got the result from ./3/train/filtrations/2/RadialFiltration_12_12/diagrams.npy\n",
      "Applying filtration 10/116: 2/RadialFiltration_12_25\n",
      "Got the result from ./3/train/filtrations/2/RadialFiltration_12_25/diagrams.npy\n",
      "Applying filtration 11/116: 2/RadialFiltration_12_38\n",
      "Got the result from ./3/train/filtrations/2/RadialFiltration_12_38/diagrams.npy\n",
      "Applying filtration 12/116: 2/RadialFiltration_12_51\n",
      "Got the result from ./3/train/filtrations/2/RadialFiltration_12_51/diagrams.npy\n",
      "Applying filtration 13/116: 2/RadialFiltration_25_12\n",
      "Got the result from ./3/train/filtrations/2/RadialFiltration_25_12/diagrams.npy\n",
      "Applying filtration 14/116: 2/RadialFiltration_25_25\n",
      "Got the result from ./3/train/filtrations/2/RadialFiltration_25_25/diagrams.npy\n",
      "Applying filtration 15/116: 2/RadialFiltration_25_38\n",
      "Got the result from ./3/train/filtrations/2/RadialFiltration_25_38/diagrams.npy\n",
      "Applying filtration 16/116: 2/RadialFiltration_25_51\n",
      "Got the result from ./3/train/filtrations/2/RadialFiltration_25_51/diagrams.npy\n",
      "Applying filtration 17/116: 2/RadialFiltration_38_12\n",
      "Got the result from ./3/train/filtrations/2/RadialFiltration_38_12/diagrams.npy\n",
      "Applying filtration 18/116: 2/RadialFiltration_38_25\n",
      "Got the result from ./3/train/filtrations/2/RadialFiltration_38_25/diagrams.npy\n",
      "Applying filtration 19/116: 2/RadialFiltration_38_38\n",
      "Got the result from ./3/train/filtrations/2/RadialFiltration_38_38/diagrams.npy\n",
      "Applying filtration 20/116: 2/RadialFiltration_38_51\n",
      "Got the result from ./3/train/filtrations/2/RadialFiltration_38_51/diagrams.npy\n",
      "Applying filtration 21/116: 2/RadialFiltration_51_12\n",
      "Got the result from ./3/train/filtrations/2/RadialFiltration_51_12/diagrams.npy\n",
      "Applying filtration 22/116: 2/RadialFiltration_51_25\n",
      "Got the result from ./3/train/filtrations/2/RadialFiltration_51_25/diagrams.npy\n",
      "Applying filtration 23/116: 2/RadialFiltration_51_38\n",
      "Got the result from ./3/train/filtrations/2/RadialFiltration_51_38/diagrams.npy\n",
      "Applying filtration 24/116: 2/RadialFiltration_51_51\n",
      "Got the result from ./3/train/filtrations/2/RadialFiltration_51_51/diagrams.npy\n",
      "Applying filtration 25/116: 2/DilationFiltration\n",
      "Got the result from ./3/train/filtrations/2/DilationFiltration/diagrams.npy\n",
      "Applying filtration 26/116: 2/ErosionFiltration\n",
      "Got the result from ./3/train/filtrations/2/ErosionFiltration/diagrams.npy\n",
      "Applying filtration 27/116: 2/SignedDistanceFiltration\n",
      "Got the result from ./3/train/filtrations/2/SignedDistanceFiltration/diagrams.npy\n",
      "Applying filtration 28/116: 2/DensityFiltration_1\n",
      "Got the result from ./3/train/filtrations/2/DensityFiltration_1/diagrams.npy\n",
      "Applying filtration 29/116: 2/DensityFiltration_3\n",
      "Got the result from ./3/train/filtrations/2/DensityFiltration_3/diagrams.npy\n",
      "Applying filtration 30/116: 4/HeightFiltrartion_-1_-1\n",
      "Got the result from ./3/train/filtrations/4/HeightFiltrartion_-1_-1/diagrams.npy\n",
      "Applying filtration 31/116: 4/HeightFiltrartion_1_1\n",
      "Got the result from ./3/train/filtrations/4/HeightFiltrartion_1_1/diagrams.npy\n",
      "Applying filtration 32/116: 4/HeightFiltrartion_1_-1\n",
      "Got the result from ./3/train/filtrations/4/HeightFiltrartion_1_-1/diagrams.npy\n",
      "Applying filtration 33/116: 4/HeightFiltrartion_-1_1\n",
      "Got the result from ./3/train/filtrations/4/HeightFiltrartion_-1_1/diagrams.npy\n",
      "Applying filtration 34/116: 4/HeightFiltrartion_0_-1\n",
      "Got the result from ./3/train/filtrations/4/HeightFiltrartion_0_-1/diagrams.npy\n",
      "Applying filtration 35/116: 4/HeightFiltrartion_0_1\n",
      "Got the result from ./3/train/filtrations/4/HeightFiltrartion_0_1/diagrams.npy\n",
      "Applying filtration 36/116: 4/HeightFiltrartion_-1_0\n",
      "Got the result from ./3/train/filtrations/4/HeightFiltrartion_-1_0/diagrams.npy\n",
      "Applying filtration 37/116: 4/HeightFiltrartion_1_0\n",
      "Got the result from ./3/train/filtrations/4/HeightFiltrartion_1_0/diagrams.npy\n",
      "Applying filtration 38/116: 4/RadialFiltration_12_12\n",
      "Got the result from ./3/train/filtrations/4/RadialFiltration_12_12/diagrams.npy\n",
      "Applying filtration 39/116: 4/RadialFiltration_12_25\n",
      "Got the result from ./3/train/filtrations/4/RadialFiltration_12_25/diagrams.npy\n",
      "Applying filtration 40/116: 4/RadialFiltration_12_38\n",
      "Got the result from ./3/train/filtrations/4/RadialFiltration_12_38/diagrams.npy\n",
      "Applying filtration 41/116: 4/RadialFiltration_12_51\n",
      "Got the result from ./3/train/filtrations/4/RadialFiltration_12_51/diagrams.npy\n",
      "Applying filtration 42/116: 4/RadialFiltration_25_12\n",
      "Got the result from ./3/train/filtrations/4/RadialFiltration_25_12/diagrams.npy\n",
      "Applying filtration 43/116: 4/RadialFiltration_25_25\n",
      "Got the result from ./3/train/filtrations/4/RadialFiltration_25_25/diagrams.npy\n",
      "Applying filtration 44/116: 4/RadialFiltration_25_38\n",
      "Got the result from ./3/train/filtrations/4/RadialFiltration_25_38/diagrams.npy\n",
      "Applying filtration 45/116: 4/RadialFiltration_25_51\n",
      "Got the result from ./3/train/filtrations/4/RadialFiltration_25_51/diagrams.npy\n",
      "Applying filtration 46/116: 4/RadialFiltration_38_12\n",
      "Got the result from ./3/train/filtrations/4/RadialFiltration_38_12/diagrams.npy\n",
      "Applying filtration 47/116: 4/RadialFiltration_38_25\n",
      "Got the result from ./3/train/filtrations/4/RadialFiltration_38_25/diagrams.npy\n",
      "Applying filtration 48/116: 4/RadialFiltration_38_38\n",
      "Got the result from ./3/train/filtrations/4/RadialFiltration_38_38/diagrams.npy\n",
      "Applying filtration 49/116: 4/RadialFiltration_38_51\n",
      "Got the result from ./3/train/filtrations/4/RadialFiltration_38_51/diagrams.npy\n",
      "Applying filtration 50/116: 4/RadialFiltration_51_12\n",
      "Got the result from ./3/train/filtrations/4/RadialFiltration_51_12/diagrams.npy\n",
      "Applying filtration 51/116: 4/RadialFiltration_51_25\n",
      "Got the result from ./3/train/filtrations/4/RadialFiltration_51_25/diagrams.npy\n",
      "Applying filtration 52/116: 4/RadialFiltration_51_38\n",
      "Got the result from ./3/train/filtrations/4/RadialFiltration_51_38/diagrams.npy\n",
      "Applying filtration 53/116: 4/RadialFiltration_51_51\n",
      "Got the result from ./3/train/filtrations/4/RadialFiltration_51_51/diagrams.npy\n",
      "Applying filtration 54/116: 4/DilationFiltration\n",
      "Got the result from ./3/train/filtrations/4/DilationFiltration/diagrams.npy\n",
      "Applying filtration 55/116: 4/ErosionFiltration\n",
      "Got the result from ./3/train/filtrations/4/ErosionFiltration/diagrams.npy\n",
      "Applying filtration 56/116: 4/SignedDistanceFiltration\n",
      "Got the result from ./3/train/filtrations/4/SignedDistanceFiltration/diagrams.npy\n",
      "Applying filtration 57/116: 4/DensityFiltration_1\n",
      "Got the result from ./3/train/filtrations/4/DensityFiltration_1/diagrams.npy\n",
      "Applying filtration 58/116: 4/DensityFiltration_3\n",
      "Got the result from ./3/train/filtrations/4/DensityFiltration_3/diagrams.npy\n",
      "Applying filtration 59/116: 6/HeightFiltrartion_-1_-1\n",
      "Got the result from ./3/train/filtrations/6/HeightFiltrartion_-1_-1/diagrams.npy\n",
      "Applying filtration 60/116: 6/HeightFiltrartion_1_1\n",
      "Got the result from ./3/train/filtrations/6/HeightFiltrartion_1_1/diagrams.npy\n",
      "Applying filtration 61/116: 6/HeightFiltrartion_1_-1\n",
      "Got the result from ./3/train/filtrations/6/HeightFiltrartion_1_-1/diagrams.npy\n",
      "Applying filtration 62/116: 6/HeightFiltrartion_-1_1\n",
      "Got the result from ./3/train/filtrations/6/HeightFiltrartion_-1_1/diagrams.npy\n",
      "Applying filtration 63/116: 6/HeightFiltrartion_0_-1\n",
      "Got the result from ./3/train/filtrations/6/HeightFiltrartion_0_-1/diagrams.npy\n",
      "Applying filtration 64/116: 6/HeightFiltrartion_0_1\n",
      "Got the result from ./3/train/filtrations/6/HeightFiltrartion_0_1/diagrams.npy\n",
      "Applying filtration 65/116: 6/HeightFiltrartion_-1_0\n",
      "Got the result from ./3/train/filtrations/6/HeightFiltrartion_-1_0/diagrams.npy\n",
      "Applying filtration 66/116: 6/HeightFiltrartion_1_0\n",
      "Got the result from ./3/train/filtrations/6/HeightFiltrartion_1_0/diagrams.npy\n",
      "Applying filtration 67/116: 6/RadialFiltration_12_12\n",
      "Got the result from ./3/train/filtrations/6/RadialFiltration_12_12/diagrams.npy\n",
      "Applying filtration 68/116: 6/RadialFiltration_12_25\n",
      "Got the result from ./3/train/filtrations/6/RadialFiltration_12_25/diagrams.npy\n",
      "Applying filtration 69/116: 6/RadialFiltration_12_38\n",
      "Got the result from ./3/train/filtrations/6/RadialFiltration_12_38/diagrams.npy\n",
      "Applying filtration 70/116: 6/RadialFiltration_12_51\n",
      "Got the result from ./3/train/filtrations/6/RadialFiltration_12_51/diagrams.npy\n",
      "Applying filtration 71/116: 6/RadialFiltration_25_12\n",
      "Got the result from ./3/train/filtrations/6/RadialFiltration_25_12/diagrams.npy\n",
      "Applying filtration 72/116: 6/RadialFiltration_25_25\n",
      "Got the result from ./3/train/filtrations/6/RadialFiltration_25_25/diagrams.npy\n",
      "Applying filtration 73/116: 6/RadialFiltration_25_38\n",
      "Got the result from ./3/train/filtrations/6/RadialFiltration_25_38/diagrams.npy\n",
      "Applying filtration 74/116: 6/RadialFiltration_25_51\n",
      "Got the result from ./3/train/filtrations/6/RadialFiltration_25_51/diagrams.npy\n",
      "Applying filtration 75/116: 6/RadialFiltration_38_12\n",
      "Got the result from ./3/train/filtrations/6/RadialFiltration_38_12/diagrams.npy\n",
      "Applying filtration 76/116: 6/RadialFiltration_38_25\n",
      "Got the result from ./3/train/filtrations/6/RadialFiltration_38_25/diagrams.npy\n",
      "Applying filtration 77/116: 6/RadialFiltration_38_38\n",
      "Got the result from ./3/train/filtrations/6/RadialFiltration_38_38/diagrams.npy\n",
      "Applying filtration 78/116: 6/RadialFiltration_38_51\n",
      "Got the result from ./3/train/filtrations/6/RadialFiltration_38_51/diagrams.npy\n",
      "Applying filtration 79/116: 6/RadialFiltration_51_12\n",
      "Got the result from ./3/train/filtrations/6/RadialFiltration_51_12/diagrams.npy\n",
      "Applying filtration 80/116: 6/RadialFiltration_51_25\n",
      "Got the result from ./3/train/filtrations/6/RadialFiltration_51_25/diagrams.npy\n",
      "Applying filtration 81/116: 6/RadialFiltration_51_38\n",
      "Got the result from ./3/train/filtrations/6/RadialFiltration_51_38/diagrams.npy\n",
      "Applying filtration 82/116: 6/RadialFiltration_51_51\n",
      "Got the result from ./3/train/filtrations/6/RadialFiltration_51_51/diagrams.npy\n",
      "Applying filtration 83/116: 6/DilationFiltration\n",
      "Got the result from ./3/train/filtrations/6/DilationFiltration/diagrams.npy\n",
      "Applying filtration 84/116: 6/ErosionFiltration\n",
      "Got the result from ./3/train/filtrations/6/ErosionFiltration/diagrams.npy\n",
      "Applying filtration 85/116: 6/SignedDistanceFiltration\n",
      "Got the result from ./3/train/filtrations/6/SignedDistanceFiltration/diagrams.npy\n",
      "Applying filtration 86/116: 6/DensityFiltration_1\n",
      "Got the result from ./3/train/filtrations/6/DensityFiltration_1/diagrams.npy\n",
      "Applying filtration 87/116: 6/DensityFiltration_3\n",
      "Got the result from ./3/train/filtrations/6/DensityFiltration_3/diagrams.npy\n",
      "Applying filtration 88/116: 8/HeightFiltrartion_-1_-1\n",
      "Got the result from ./3/train/filtrations/8/HeightFiltrartion_-1_-1/diagrams.npy\n",
      "Applying filtration 89/116: 8/HeightFiltrartion_1_1\n",
      "Got the result from ./3/train/filtrations/8/HeightFiltrartion_1_1/diagrams.npy\n",
      "Applying filtration 90/116: 8/HeightFiltrartion_1_-1\n",
      "Got the result from ./3/train/filtrations/8/HeightFiltrartion_1_-1/diagrams.npy\n",
      "Applying filtration 91/116: 8/HeightFiltrartion_-1_1\n",
      "Got the result from ./3/train/filtrations/8/HeightFiltrartion_-1_1/diagrams.npy\n",
      "Applying filtration 92/116: 8/HeightFiltrartion_0_-1\n",
      "Got the result from ./3/train/filtrations/8/HeightFiltrartion_0_-1/diagrams.npy\n",
      "Applying filtration 93/116: 8/HeightFiltrartion_0_1\n",
      "Got the result from ./3/train/filtrations/8/HeightFiltrartion_0_1/diagrams.npy\n",
      "Applying filtration 94/116: 8/HeightFiltrartion_-1_0\n",
      "Got the result from ./3/train/filtrations/8/HeightFiltrartion_-1_0/diagrams.npy\n",
      "Applying filtration 95/116: 8/HeightFiltrartion_1_0\n",
      "Got the result from ./3/train/filtrations/8/HeightFiltrartion_1_0/diagrams.npy\n",
      "Applying filtration 96/116: 8/RadialFiltration_12_12\n",
      "Got the result from ./3/train/filtrations/8/RadialFiltration_12_12/diagrams.npy\n",
      "Applying filtration 97/116: 8/RadialFiltration_12_25\n",
      "Got the result from ./3/train/filtrations/8/RadialFiltration_12_25/diagrams.npy\n",
      "Applying filtration 98/116: 8/RadialFiltration_12_38\n",
      "Got the result from ./3/train/filtrations/8/RadialFiltration_12_38/diagrams.npy\n",
      "Applying filtration 99/116: 8/RadialFiltration_12_51\n",
      "Got the result from ./3/train/filtrations/8/RadialFiltration_12_51/diagrams.npy\n",
      "Applying filtration 100/116: 8/RadialFiltration_25_12\n",
      "Got the result from ./3/train/filtrations/8/RadialFiltration_25_12/diagrams.npy\n",
      "Applying filtration 101/116: 8/RadialFiltration_25_25\n",
      "Got the result from ./3/train/filtrations/8/RadialFiltration_25_25/diagrams.npy\n",
      "Applying filtration 102/116: 8/RadialFiltration_25_38\n",
      "Got the result from ./3/train/filtrations/8/RadialFiltration_25_38/diagrams.npy\n",
      "Applying filtration 103/116: 8/RadialFiltration_25_51\n",
      "Got the result from ./3/train/filtrations/8/RadialFiltration_25_51/diagrams.npy\n",
      "Applying filtration 104/116: 8/RadialFiltration_38_12\n",
      "Got the result from ./3/train/filtrations/8/RadialFiltration_38_12/diagrams.npy\n",
      "Applying filtration 105/116: 8/RadialFiltration_38_25\n",
      "Got the result from ./3/train/filtrations/8/RadialFiltration_38_25/diagrams.npy\n",
      "Applying filtration 106/116: 8/RadialFiltration_38_38\n",
      "Got the result from ./3/train/filtrations/8/RadialFiltration_38_38/diagrams.npy\n",
      "Applying filtration 107/116: 8/RadialFiltration_38_51\n",
      "Got the result from ./3/train/filtrations/8/RadialFiltration_38_51/diagrams.npy\n",
      "Applying filtration 108/116: 8/RadialFiltration_51_12\n",
      "Got the result from ./3/train/filtrations/8/RadialFiltration_51_12/diagrams.npy\n",
      "Applying filtration 109/116: 8/RadialFiltration_51_25\n",
      "Got the result from ./3/train/filtrations/8/RadialFiltration_51_25/diagrams.npy\n",
      "Applying filtration 110/116: 8/RadialFiltration_51_38\n",
      "Got the result from ./3/train/filtrations/8/RadialFiltration_51_38/diagrams.npy\n",
      "Applying filtration 111/116: 8/RadialFiltration_51_51\n",
      "Got the result from ./3/train/filtrations/8/RadialFiltration_51_51/diagrams.npy\n",
      "Applying filtration 112/116: 8/DilationFiltration\n",
      "Got the result from ./3/train/filtrations/8/DilationFiltration/diagrams.npy\n",
      "Applying filtration 113/116: 8/ErosionFiltration\n",
      "Got the result from ./3/train/filtrations/8/ErosionFiltration/diagrams.npy\n",
      "Applying filtration 114/116: 8/SignedDistanceFiltration\n",
      "Got the result from ./3/train/filtrations/8/SignedDistanceFiltration/diagrams.npy\n",
      "Applying filtration 115/116: 8/DensityFiltration_1\n",
      "Got the result from ./3/train/filtrations/8/DensityFiltration_1/diagrams.npy\n",
      "Applying filtration 116/116: 8/DensityFiltration_3\n",
      "Got the result from ./3/train/filtrations/8/DensityFiltration_3/diagrams.npy\n",
      "Diagrams requested. Returning diagrams.\n",
      "Calculating inverted images\n",
      "Got the result from ./3/test/greyscale/diagrams.npy\n",
      "Got the result from ./3/test/inverted_greyscale/diagrams.npy\n",
      "Applying filtrations\n",
      "Applying filtration 1/116: 2/HeightFiltrartion_-1_-1\n",
      "Got the result from ./3/test/filtrations/2/HeightFiltrartion_-1_-1/diagrams.npy\n",
      "Applying filtration 2/116: 2/HeightFiltrartion_1_1\n",
      "Got the result from ./3/test/filtrations/2/HeightFiltrartion_1_1/diagrams.npy\n",
      "Applying filtration 3/116: 2/HeightFiltrartion_1_-1\n",
      "Got the result from ./3/test/filtrations/2/HeightFiltrartion_1_-1/diagrams.npy\n",
      "Applying filtration 4/116: 2/HeightFiltrartion_-1_1\n",
      "Got the result from ./3/test/filtrations/2/HeightFiltrartion_-1_1/diagrams.npy\n",
      "Applying filtration 5/116: 2/HeightFiltrartion_0_-1\n",
      "Got the result from ./3/test/filtrations/2/HeightFiltrartion_0_-1/diagrams.npy\n",
      "Applying filtration 6/116: 2/HeightFiltrartion_0_1\n",
      "Got the result from ./3/test/filtrations/2/HeightFiltrartion_0_1/diagrams.npy\n",
      "Applying filtration 7/116: 2/HeightFiltrartion_-1_0\n",
      "Got the result from ./3/test/filtrations/2/HeightFiltrartion_-1_0/diagrams.npy\n",
      "Applying filtration 8/116: 2/HeightFiltrartion_1_0\n",
      "Got the result from ./3/test/filtrations/2/HeightFiltrartion_1_0/diagrams.npy\n",
      "Applying filtration 9/116: 2/RadialFiltration_12_12\n",
      "Got the result from ./3/test/filtrations/2/RadialFiltration_12_12/diagrams.npy\n",
      "Applying filtration 10/116: 2/RadialFiltration_12_25\n",
      "Got the result from ./3/test/filtrations/2/RadialFiltration_12_25/diagrams.npy\n",
      "Applying filtration 11/116: 2/RadialFiltration_12_38\n",
      "Got the result from ./3/test/filtrations/2/RadialFiltration_12_38/diagrams.npy\n",
      "Applying filtration 12/116: 2/RadialFiltration_12_51\n",
      "Got the result from ./3/test/filtrations/2/RadialFiltration_12_51/diagrams.npy\n",
      "Applying filtration 13/116: 2/RadialFiltration_25_12\n",
      "Got the result from ./3/test/filtrations/2/RadialFiltration_25_12/diagrams.npy\n",
      "Applying filtration 14/116: 2/RadialFiltration_25_25\n",
      "Got the result from ./3/test/filtrations/2/RadialFiltration_25_25/diagrams.npy\n",
      "Applying filtration 15/116: 2/RadialFiltration_25_38\n",
      "Got the result from ./3/test/filtrations/2/RadialFiltration_25_38/diagrams.npy\n",
      "Applying filtration 16/116: 2/RadialFiltration_25_51\n",
      "Got the result from ./3/test/filtrations/2/RadialFiltration_25_51/diagrams.npy\n",
      "Applying filtration 17/116: 2/RadialFiltration_38_12\n",
      "Got the result from ./3/test/filtrations/2/RadialFiltration_38_12/diagrams.npy\n",
      "Applying filtration 18/116: 2/RadialFiltration_38_25\n",
      "Got the result from ./3/test/filtrations/2/RadialFiltration_38_25/diagrams.npy\n",
      "Applying filtration 19/116: 2/RadialFiltration_38_38\n",
      "Got the result from ./3/test/filtrations/2/RadialFiltration_38_38/diagrams.npy\n",
      "Applying filtration 20/116: 2/RadialFiltration_38_51\n",
      "Got the result from ./3/test/filtrations/2/RadialFiltration_38_51/diagrams.npy\n",
      "Applying filtration 21/116: 2/RadialFiltration_51_12\n",
      "Got the result from ./3/test/filtrations/2/RadialFiltration_51_12/diagrams.npy\n",
      "Applying filtration 22/116: 2/RadialFiltration_51_25\n",
      "Got the result from ./3/test/filtrations/2/RadialFiltration_51_25/diagrams.npy\n",
      "Applying filtration 23/116: 2/RadialFiltration_51_38\n",
      "Got the result from ./3/test/filtrations/2/RadialFiltration_51_38/diagrams.npy\n",
      "Applying filtration 24/116: 2/RadialFiltration_51_51\n",
      "Got the result from ./3/test/filtrations/2/RadialFiltration_51_51/diagrams.npy\n",
      "Applying filtration 25/116: 2/DilationFiltration\n",
      "Got the result from ./3/test/filtrations/2/DilationFiltration/diagrams.npy\n",
      "Applying filtration 26/116: 2/ErosionFiltration\n",
      "Got the result from ./3/test/filtrations/2/ErosionFiltration/diagrams.npy\n",
      "Applying filtration 27/116: 2/SignedDistanceFiltration\n",
      "Got the result from ./3/test/filtrations/2/SignedDistanceFiltration/diagrams.npy\n",
      "Applying filtration 28/116: 2/DensityFiltration_1\n",
      "Got the result from ./3/test/filtrations/2/DensityFiltration_1/diagrams.npy\n",
      "Applying filtration 29/116: 2/DensityFiltration_3\n",
      "Got the result from ./3/test/filtrations/2/DensityFiltration_3/diagrams.npy\n",
      "Applying filtration 30/116: 4/HeightFiltrartion_-1_-1\n",
      "Got the result from ./3/test/filtrations/4/HeightFiltrartion_-1_-1/diagrams.npy\n",
      "Applying filtration 31/116: 4/HeightFiltrartion_1_1\n",
      "Got the result from ./3/test/filtrations/4/HeightFiltrartion_1_1/diagrams.npy\n",
      "Applying filtration 32/116: 4/HeightFiltrartion_1_-1\n",
      "Got the result from ./3/test/filtrations/4/HeightFiltrartion_1_-1/diagrams.npy\n",
      "Applying filtration 33/116: 4/HeightFiltrartion_-1_1\n",
      "Got the result from ./3/test/filtrations/4/HeightFiltrartion_-1_1/diagrams.npy\n",
      "Applying filtration 34/116: 4/HeightFiltrartion_0_-1\n",
      "Got the result from ./3/test/filtrations/4/HeightFiltrartion_0_-1/diagrams.npy\n",
      "Applying filtration 35/116: 4/HeightFiltrartion_0_1\n",
      "Got the result from ./3/test/filtrations/4/HeightFiltrartion_0_1/diagrams.npy\n",
      "Applying filtration 36/116: 4/HeightFiltrartion_-1_0\n",
      "Got the result from ./3/test/filtrations/4/HeightFiltrartion_-1_0/diagrams.npy\n",
      "Applying filtration 37/116: 4/HeightFiltrartion_1_0\n",
      "Got the result from ./3/test/filtrations/4/HeightFiltrartion_1_0/diagrams.npy\n",
      "Applying filtration 38/116: 4/RadialFiltration_12_12\n",
      "Got the result from ./3/test/filtrations/4/RadialFiltration_12_12/diagrams.npy\n",
      "Applying filtration 39/116: 4/RadialFiltration_12_25\n",
      "Got the result from ./3/test/filtrations/4/RadialFiltration_12_25/diagrams.npy\n",
      "Applying filtration 40/116: 4/RadialFiltration_12_38\n",
      "Got the result from ./3/test/filtrations/4/RadialFiltration_12_38/diagrams.npy\n",
      "Applying filtration 41/116: 4/RadialFiltration_12_51\n",
      "Got the result from ./3/test/filtrations/4/RadialFiltration_12_51/diagrams.npy\n",
      "Applying filtration 42/116: 4/RadialFiltration_25_12\n",
      "Got the result from ./3/test/filtrations/4/RadialFiltration_25_12/diagrams.npy\n",
      "Applying filtration 43/116: 4/RadialFiltration_25_25\n",
      "Got the result from ./3/test/filtrations/4/RadialFiltration_25_25/diagrams.npy\n",
      "Applying filtration 44/116: 4/RadialFiltration_25_38\n",
      "Got the result from ./3/test/filtrations/4/RadialFiltration_25_38/diagrams.npy\n",
      "Applying filtration 45/116: 4/RadialFiltration_25_51\n",
      "Got the result from ./3/test/filtrations/4/RadialFiltration_25_51/diagrams.npy\n",
      "Applying filtration 46/116: 4/RadialFiltration_38_12\n",
      "Got the result from ./3/test/filtrations/4/RadialFiltration_38_12/diagrams.npy\n",
      "Applying filtration 47/116: 4/RadialFiltration_38_25\n",
      "Got the result from ./3/test/filtrations/4/RadialFiltration_38_25/diagrams.npy\n",
      "Applying filtration 48/116: 4/RadialFiltration_38_38\n",
      "Got the result from ./3/test/filtrations/4/RadialFiltration_38_38/diagrams.npy\n",
      "Applying filtration 49/116: 4/RadialFiltration_38_51\n",
      "Got the result from ./3/test/filtrations/4/RadialFiltration_38_51/diagrams.npy\n",
      "Applying filtration 50/116: 4/RadialFiltration_51_12\n",
      "Got the result from ./3/test/filtrations/4/RadialFiltration_51_12/diagrams.npy\n",
      "Applying filtration 51/116: 4/RadialFiltration_51_25\n",
      "Got the result from ./3/test/filtrations/4/RadialFiltration_51_25/diagrams.npy\n",
      "Applying filtration 52/116: 4/RadialFiltration_51_38\n",
      "Got the result from ./3/test/filtrations/4/RadialFiltration_51_38/diagrams.npy\n",
      "Applying filtration 53/116: 4/RadialFiltration_51_51\n",
      "Got the result from ./3/test/filtrations/4/RadialFiltration_51_51/diagrams.npy\n",
      "Applying filtration 54/116: 4/DilationFiltration\n",
      "Got the result from ./3/test/filtrations/4/DilationFiltration/diagrams.npy\n",
      "Applying filtration 55/116: 4/ErosionFiltration\n",
      "Got the result from ./3/test/filtrations/4/ErosionFiltration/diagrams.npy\n",
      "Applying filtration 56/116: 4/SignedDistanceFiltration\n",
      "Got the result from ./3/test/filtrations/4/SignedDistanceFiltration/diagrams.npy\n",
      "Applying filtration 57/116: 4/DensityFiltration_1\n",
      "Got the result from ./3/test/filtrations/4/DensityFiltration_1/diagrams.npy\n",
      "Applying filtration 58/116: 4/DensityFiltration_3\n",
      "Got the result from ./3/test/filtrations/4/DensityFiltration_3/diagrams.npy\n",
      "Applying filtration 59/116: 6/HeightFiltrartion_-1_-1\n",
      "Got the result from ./3/test/filtrations/6/HeightFiltrartion_-1_-1/diagrams.npy\n",
      "Applying filtration 60/116: 6/HeightFiltrartion_1_1\n",
      "Got the result from ./3/test/filtrations/6/HeightFiltrartion_1_1/diagrams.npy\n",
      "Applying filtration 61/116: 6/HeightFiltrartion_1_-1\n",
      "Got the result from ./3/test/filtrations/6/HeightFiltrartion_1_-1/diagrams.npy\n",
      "Applying filtration 62/116: 6/HeightFiltrartion_-1_1\n",
      "Got the result from ./3/test/filtrations/6/HeightFiltrartion_-1_1/diagrams.npy\n",
      "Applying filtration 63/116: 6/HeightFiltrartion_0_-1\n",
      "Got the result from ./3/test/filtrations/6/HeightFiltrartion_0_-1/diagrams.npy\n",
      "Applying filtration 64/116: 6/HeightFiltrartion_0_1\n",
      "Got the result from ./3/test/filtrations/6/HeightFiltrartion_0_1/diagrams.npy\n",
      "Applying filtration 65/116: 6/HeightFiltrartion_-1_0\n",
      "Got the result from ./3/test/filtrations/6/HeightFiltrartion_-1_0/diagrams.npy\n",
      "Applying filtration 66/116: 6/HeightFiltrartion_1_0\n",
      "Got the result from ./3/test/filtrations/6/HeightFiltrartion_1_0/diagrams.npy\n",
      "Applying filtration 67/116: 6/RadialFiltration_12_12\n",
      "Got the result from ./3/test/filtrations/6/RadialFiltration_12_12/diagrams.npy\n",
      "Applying filtration 68/116: 6/RadialFiltration_12_25\n",
      "Got the result from ./3/test/filtrations/6/RadialFiltration_12_25/diagrams.npy\n",
      "Applying filtration 69/116: 6/RadialFiltration_12_38\n",
      "Got the result from ./3/test/filtrations/6/RadialFiltration_12_38/diagrams.npy\n",
      "Applying filtration 70/116: 6/RadialFiltration_12_51\n",
      "Got the result from ./3/test/filtrations/6/RadialFiltration_12_51/diagrams.npy\n",
      "Applying filtration 71/116: 6/RadialFiltration_25_12\n",
      "Got the result from ./3/test/filtrations/6/RadialFiltration_25_12/diagrams.npy\n",
      "Applying filtration 72/116: 6/RadialFiltration_25_25\n",
      "Got the result from ./3/test/filtrations/6/RadialFiltration_25_25/diagrams.npy\n",
      "Applying filtration 73/116: 6/RadialFiltration_25_38\n",
      "Got the result from ./3/test/filtrations/6/RadialFiltration_25_38/diagrams.npy\n",
      "Applying filtration 74/116: 6/RadialFiltration_25_51\n",
      "Got the result from ./3/test/filtrations/6/RadialFiltration_25_51/diagrams.npy\n",
      "Applying filtration 75/116: 6/RadialFiltration_38_12\n",
      "Got the result from ./3/test/filtrations/6/RadialFiltration_38_12/diagrams.npy\n",
      "Applying filtration 76/116: 6/RadialFiltration_38_25\n",
      "Got the result from ./3/test/filtrations/6/RadialFiltration_38_25/diagrams.npy\n",
      "Applying filtration 77/116: 6/RadialFiltration_38_38\n",
      "Got the result from ./3/test/filtrations/6/RadialFiltration_38_38/diagrams.npy\n",
      "Applying filtration 78/116: 6/RadialFiltration_38_51\n",
      "Got the result from ./3/test/filtrations/6/RadialFiltration_38_51/diagrams.npy\n",
      "Applying filtration 79/116: 6/RadialFiltration_51_12\n",
      "Got the result from ./3/test/filtrations/6/RadialFiltration_51_12/diagrams.npy\n",
      "Applying filtration 80/116: 6/RadialFiltration_51_25\n",
      "Got the result from ./3/test/filtrations/6/RadialFiltration_51_25/diagrams.npy\n",
      "Applying filtration 81/116: 6/RadialFiltration_51_38\n",
      "Got the result from ./3/test/filtrations/6/RadialFiltration_51_38/diagrams.npy\n",
      "Applying filtration 82/116: 6/RadialFiltration_51_51\n",
      "Got the result from ./3/test/filtrations/6/RadialFiltration_51_51/diagrams.npy\n",
      "Applying filtration 83/116: 6/DilationFiltration\n",
      "Got the result from ./3/test/filtrations/6/DilationFiltration/diagrams.npy\n",
      "Applying filtration 84/116: 6/ErosionFiltration\n",
      "Got the result from ./3/test/filtrations/6/ErosionFiltration/diagrams.npy\n",
      "Applying filtration 85/116: 6/SignedDistanceFiltration\n",
      "Got the result from ./3/test/filtrations/6/SignedDistanceFiltration/diagrams.npy\n",
      "Applying filtration 86/116: 6/DensityFiltration_1\n",
      "Got the result from ./3/test/filtrations/6/DensityFiltration_1/diagrams.npy\n",
      "Applying filtration 87/116: 6/DensityFiltration_3\n",
      "Got the result from ./3/test/filtrations/6/DensityFiltration_3/diagrams.npy\n",
      "Applying filtration 88/116: 8/HeightFiltrartion_-1_-1\n",
      "Got the result from ./3/test/filtrations/8/HeightFiltrartion_-1_-1/diagrams.npy\n",
      "Applying filtration 89/116: 8/HeightFiltrartion_1_1\n",
      "Got the result from ./3/test/filtrations/8/HeightFiltrartion_1_1/diagrams.npy\n",
      "Applying filtration 90/116: 8/HeightFiltrartion_1_-1\n",
      "Got the result from ./3/test/filtrations/8/HeightFiltrartion_1_-1/diagrams.npy\n",
      "Applying filtration 91/116: 8/HeightFiltrartion_-1_1\n",
      "Got the result from ./3/test/filtrations/8/HeightFiltrartion_-1_1/diagrams.npy\n",
      "Applying filtration 92/116: 8/HeightFiltrartion_0_-1\n",
      "Got the result from ./3/test/filtrations/8/HeightFiltrartion_0_-1/diagrams.npy\n",
      "Applying filtration 93/116: 8/HeightFiltrartion_0_1\n",
      "Got the result from ./3/test/filtrations/8/HeightFiltrartion_0_1/diagrams.npy\n",
      "Applying filtration 94/116: 8/HeightFiltrartion_-1_0\n",
      "Got the result from ./3/test/filtrations/8/HeightFiltrartion_-1_0/diagrams.npy\n",
      "Applying filtration 95/116: 8/HeightFiltrartion_1_0\n",
      "Got the result from ./3/test/filtrations/8/HeightFiltrartion_1_0/diagrams.npy\n",
      "Applying filtration 96/116: 8/RadialFiltration_12_12\n",
      "Got the result from ./3/test/filtrations/8/RadialFiltration_12_12/diagrams.npy\n",
      "Applying filtration 97/116: 8/RadialFiltration_12_25\n",
      "Got the result from ./3/test/filtrations/8/RadialFiltration_12_25/diagrams.npy\n",
      "Applying filtration 98/116: 8/RadialFiltration_12_38\n",
      "Got the result from ./3/test/filtrations/8/RadialFiltration_12_38/diagrams.npy\n",
      "Applying filtration 99/116: 8/RadialFiltration_12_51\n",
      "Got the result from ./3/test/filtrations/8/RadialFiltration_12_51/diagrams.npy\n",
      "Applying filtration 100/116: 8/RadialFiltration_25_12\n",
      "Got the result from ./3/test/filtrations/8/RadialFiltration_25_12/diagrams.npy\n",
      "Applying filtration 101/116: 8/RadialFiltration_25_25\n",
      "Got the result from ./3/test/filtrations/8/RadialFiltration_25_25/diagrams.npy\n",
      "Applying filtration 102/116: 8/RadialFiltration_25_38\n",
      "Got the result from ./3/test/filtrations/8/RadialFiltration_25_38/diagrams.npy\n",
      "Applying filtration 103/116: 8/RadialFiltration_25_51\n",
      "Got the result from ./3/test/filtrations/8/RadialFiltration_25_51/diagrams.npy\n",
      "Applying filtration 104/116: 8/RadialFiltration_38_12\n",
      "Got the result from ./3/test/filtrations/8/RadialFiltration_38_12/diagrams.npy\n",
      "Applying filtration 105/116: 8/RadialFiltration_38_25\n",
      "Got the result from ./3/test/filtrations/8/RadialFiltration_38_25/diagrams.npy\n",
      "Applying filtration 106/116: 8/RadialFiltration_38_38\n",
      "Got the result from ./3/test/filtrations/8/RadialFiltration_38_38/diagrams.npy\n",
      "Applying filtration 107/116: 8/RadialFiltration_38_51\n",
      "Got the result from ./3/test/filtrations/8/RadialFiltration_38_51/diagrams.npy\n",
      "Applying filtration 108/116: 8/RadialFiltration_51_12\n",
      "Got the result from ./3/test/filtrations/8/RadialFiltration_51_12/diagrams.npy\n",
      "Applying filtration 109/116: 8/RadialFiltration_51_25\n",
      "Got the result from ./3/test/filtrations/8/RadialFiltration_51_25/diagrams.npy\n",
      "Applying filtration 110/116: 8/RadialFiltration_51_38\n",
      "Got the result from ./3/test/filtrations/8/RadialFiltration_51_38/diagrams.npy\n",
      "Applying filtration 111/116: 8/RadialFiltration_51_51\n",
      "Got the result from ./3/test/filtrations/8/RadialFiltration_51_51/diagrams.npy\n",
      "Applying filtration 112/116: 8/DilationFiltration\n",
      "Got the result from ./3/test/filtrations/8/DilationFiltration/diagrams.npy\n",
      "Applying filtration 113/116: 8/ErosionFiltration\n",
      "Got the result from ./3/test/filtrations/8/ErosionFiltration/diagrams.npy\n",
      "Applying filtration 114/116: 8/SignedDistanceFiltration\n",
      "Got the result from ./3/test/filtrations/8/SignedDistanceFiltration/diagrams.npy\n",
      "Applying filtration 115/116: 8/DensityFiltration_1\n",
      "Got the result from ./3/test/filtrations/8/DensityFiltration_1/diagrams.npy\n",
      "Applying filtration 116/116: 8/DensityFiltration_3\n",
      "Got the result from ./3/test/filtrations/8/DensityFiltration_3/diagrams.npy\n",
      "Diagrams requested. Returning diagrams.\n"
     ]
    }
   ],
   "source": [
    "import cvtda.topology\n",
    "extractor = cvtda.topology.FeatureExtractor(only_get_from_dump = True, return_diagrams = True)\n",
    "extractor = extractor.fit(train_images, \"3/train\")\n",
    "train_diagrams = extractor.transform(train_images, \"3/train\")\n",
    "test_diagrams = extractor.transform(test_images, \"3/test\")"
   ]
  },
  {
   "cell_type": "code",
   "execution_count": null,
   "metadata": {},
   "outputs": [
    {
     "name": "stderr",
     "output_type": "stream",
     "text": [
      "Dataset: processing diagrams: 100%|██████████| 118/118 [00:01<00:00, 78.57it/s]\n"
     ]
    },
    {
     "name": "stdout",
     "output_type": "stream",
     "text": [
      "Constructed a dataset of 370 images of shape torch.Size([1, 64, 64]) with 236 diagrams and 18425 features\n"
     ]
    },
    {
     "name": "stderr",
     "output_type": "stream",
     "text": [
      "Dataset: processing diagrams: 100%|██████████| 118/118 [00:00<00:00, 1574.55it/s]"
     ]
    },
    {
     "name": "stdout",
     "output_type": "stream",
     "text": [
      "Constructed a dataset of 30 images of shape torch.Size([1, 64, 64]) with 236 diagrams and 18425 features"
     ]
    },
    {
     "name": "stderr",
     "output_type": "stream",
     "text": [
      "\n"
     ]
    },
    {
     "name": "stdout",
     "output_type": "stream",
     "text": [
      "\n",
      "Trying SimpleTopologicalLearner - <cvtda.face_recognition.SimpleTopologicalLearner.SimpleTopologicalLearner object at 0x00000168398C90F0>\n"
     ]
    },
    {
     "name": "stderr",
     "output_type": "stream",
     "text": [
      "Calculating pairwise distances: 100%|██████████| 900/900 [00:00<00:00, 32679.78it/s]\n",
      "Analyzing distances: 100%|██████████| 900/900 [00:00<00:00, 5371.08it/s]\n"
     ]
    },
    {
     "name": "stdout",
     "output_type": "stream",
     "text": [
      "Trying DiagramsLearner - <cvtda.face_recognition.DiagramsLearner.DiagramsLearner object at 0x00000168396963E0>\n"
     ]
    },
    {
     "name": "stderr",
     "output_type": "stream",
     "text": [
      "Calculating pairwise distances: 100%|██████████| 900/900 [00:06<00:00, 137.98it/s]\n",
      "Analyzing distances: 100%|██████████| 900/900 [00:00<00:00, 7597.52it/s]\n"
     ]
    },
    {
     "name": "stdout",
     "output_type": "stream",
     "text": [
      "Trying NNClassifier_images - <cvtda.face_recognition.NNLearner.NNLearner object at 0x0000016839884070>\n",
      "Input to LazyLinear: 1024\n",
      "Parameters: 21795776\n"
     ]
    },
    {
     "name": "stderr",
     "output_type": "stream",
     "text": [
      "Train: 100%|██████████| 25/25 [00:16<00:00,  1.51it/s, loss=166, AMI=1, NMI=1, mean_average_precision=0.989, mean_average_precision_at_r=0.967, mean_reciprocal_rank=1, precision_at_1=1, r_precision=0.97]               \n",
      "Calculating pairwise distances: 100%|██████████| 900/900 [00:03<00:00, 237.71it/s]\n",
      "Analyzing distances: 100%|██████████| 900/900 [00:00<00:00, 9694.23it/s]\n"
     ]
    },
    {
     "name": "stdout",
     "output_type": "stream",
     "text": [
      "Trying NNClassifier_features - <cvtda.face_recognition.NNLearner.NNLearner object at 0x0000016839884220>\n",
      "Input to LazyLinear: 512\n",
      "Parameters: 19010048\n"
     ]
    },
    {
     "name": "stderr",
     "output_type": "stream",
     "text": [
      "Train: 100%|██████████| 25/25 [00:05<00:00,  4.80it/s, loss=165, AMI=0.829, NMI=0.841, mean_average_precision=0.919, mean_average_precision_at_r=0.827, mean_reciprocal_rank=0.958, precision_at_1=0.933, r_precision=0.852]\n",
      "Calculating pairwise distances: 100%|██████████| 900/900 [00:01<00:00, 889.83it/s]\n",
      "Analyzing distances: 100%|██████████| 900/900 [00:00<00:00, 9194.56it/s]\n"
     ]
    },
    {
     "name": "stdout",
     "output_type": "stream",
     "text": [
      "Trying NNClassifier_features_images - <cvtda.face_recognition.NNLearner.NNLearner object at 0x00000168398861D0>\n",
      "Input to LazyLinear: 1536\n",
      "Parameters: 31754176\n"
     ]
    },
    {
     "name": "stderr",
     "output_type": "stream",
     "text": [
      "Train: 100%|██████████| 25/25 [00:17<00:00,  1.40it/s, loss=165, AMI=1, NMI=1, mean_average_precision=0.996, mean_average_precision_at_r=0.981, mean_reciprocal_rank=1, precision_at_1=1, r_precision=0.981]               \n",
      "Calculating pairwise distances: 100%|██████████| 900/900 [00:03<00:00, 226.14it/s]\n",
      "Analyzing distances: 100%|██████████| 900/900 [00:00<00:00, 9027.43it/s]\n"
     ]
    },
    {
     "data": {
      "image/png": "[encoded data removed]",
      "text/plain": [
       "<Figure size 2000x700 with 6 Axes>"
      ]
     },
     "metadata": {},
     "output_type": "display_data"
    }
   ],
   "source": [
    "import cvtda.face_recognition\n",
    "\n",
    "cvtda.face_recognition.learn(\n",
    "    train_images, train_features, train_labels, train_diagrams,\n",
    "    test_images, test_features, test_labels, test_diagrams,\n",
    "    dump_name = \"3/predictions\"\n",
    ")"
   ]
  }
 ],
 "metadata": {
  "kernelspec": {
   "display_name": "Python 3",
   "language": "python",
   "name": "python3"
  },
  "language_info": {
   "codemirror_mode": {
    "name": "ipython",
    "version": 3
   },
   "file_extension": ".py",
   "mimetype": "text/x-python",
   "name": "python",
   "nbconvert_exporter": "python",
   "pygments_lexer": "ipython3",
   "version": "3.10.11"
  }
 },
 "nbformat": 4,
 "nbformat_minor": 2
}
