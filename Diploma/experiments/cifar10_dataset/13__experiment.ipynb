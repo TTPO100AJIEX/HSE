{
 "cells": [
  {
   "cell_type": "code",
   "execution_count": 17,
   "metadata": {},
   "outputs": [
    {
     "name": "stdout",
     "output_type": "stream",
     "text": [
      "The autoreload extension is already loaded. To reload it, use:\n",
      "  %reload_ext autoreload\n"
     ]
    }
   ],
   "source": [
    "%load_ext autoreload\n",
    "%autoreload 2"
   ]
  },
  {
   "cell_type": "code",
   "execution_count": null,
   "metadata": {},
   "outputs": [],
   "source": [
    "import os\n",
    "import itertools\n",
    "\n",
    "import typing\n",
    "\n",
    "import tqdm\n",
    "import numpy\n",
    "import joblib\n",
    "import gtda.images\n",
    "import torchvision\n",
    "import skimage.color\n",
    "\n",
    "import cvtda.utils\n",
    "import cvtda.topology\n",
    "\n",
    "def make_image(image, channel: int) -> numpy.ndarray:\n",
    "    image = numpy.array(image)\n",
    "    match channel:\n",
    "        case 'red':\n",
    "            image = image[:, :, 0]\n",
    "        case 'green':\n",
    "            image = image[:, :, 1]\n",
    "        case 'blue':\n",
    "            image = image[:, :, 2]\n",
    "        case 'gray':\n",
    "            image = skimage.color.rgb2gray(image)\n",
    "        case _:\n",
    "            raise NotImplementedError\n",
    "    assert image.shape == (32, 32)\n",
    "    return image\n",
    "\n",
    "def make_diagrams(\n",
    "    channel: int,\n",
    "    binarizer,\n",
    "    filtration,\n",
    "    n_jobs: int = 1\n",
    ") -> typing.Tuple[numpy.ndarray, numpy.ndarray]:\n",
    "    dir = f\"E:/4/{channel}/None/diagrams/{str(filtration or 'None')}\"\n",
    "    if os.path.exists(f\"{dir}/test.npy\"):\n",
    "        return 1, 2\n",
    "    os.makedirs(dir, exist_ok = True)\n",
    "    \n",
    "    train = numpy.array(\n",
    "        joblib.Parallel(n_jobs = n_jobs)(\n",
    "            joblib.delayed(make_image)(item[0], channel)\n",
    "            for item in torchvision.datasets.CIFAR10('cifar-10', train = True, download = False)\n",
    "        )\n",
    "    )\n",
    "    test = numpy.array(\n",
    "        joblib.Parallel(n_jobs = n_jobs)(\n",
    "            joblib.delayed(make_image)(item[0], channel)\n",
    "            for item in torchvision.datasets.CIFAR10('cifar-10', train = False, download = False)\n",
    "        )\n",
    "    )\n",
    "\n",
    "    if binarizer is not None:\n",
    "        train = binarizer.fit_transform(train)\n",
    "        test = binarizer.transform(test)\n",
    "        \n",
    "    if filtration is not None:\n",
    "        train = filtration.fit_transform(train)\n",
    "        test = filtration.transform(test)\n",
    "    \n",
    "    filtrations_to_diagrams = cvtda.topology.FiltrationsToDiagrams(verbose = False, n_jobs = n_jobs)\n",
    "    train = filtrations_to_diagrams.fit_transform(train)\n",
    "    test = filtrations_to_diagrams.transform(test)\n",
    "\n",
    "    numpy.save(f\"{dir}/train.npy\", train)\n",
    "    numpy.save(f\"{dir}/test.npy\", test)\n",
    "    return train, test\n",
    "\n",
    "def process(channel: int, binarizer_threshold: float) -> typing.Tuple[numpy.ndarray, numpy.ndarray]:\n",
    "    centers = [ 5, 12, 18, 25 ]\n",
    "    greyscale_to_filtrations = cvtda.topology.GreyscaleToFiltrations(\n",
    "        n_jobs = 1,\n",
    "        radial_filtration_centers = list(itertools.product(centers, centers))\n",
    "    )\n",
    "    diagrams = joblib.Parallel(return_as = 'generator', n_jobs = -1)(\n",
    "        joblib.delayed(make_diagrams)(\n",
    "            channel,\n",
    "            binarizer = gtda.images.Binarizer(threshold = binarizer_threshold, n_jobs = 1),\n",
    "            filtration = filtration,\n",
    "            n_jobs = 1\n",
    "        )\n",
    "        for filtration in greyscale_to_filtrations.filtrations_\n",
    "    )\n",
    "    for train, test in tqdm.tqdm(diagrams, total = len(greyscale_to_filtrations.filtrations_)):\n",
    "        pass\n",
    "\n",
    "    make_diagrams(\n",
    "        channel,\n",
    "        binarizer = None,\n",
    "        filtration = None,\n",
    "        n_jobs = -1\n",
    "    )"
   ]
  },
  {
   "cell_type": "code",
   "execution_count": 36,
   "metadata": {},
   "outputs": [
    {
     "name": "stdout",
     "output_type": "stream",
     "text": [
      ">>> Calculating channel gray\n"
     ]
    },
    {
     "name": "stderr",
     "output_type": "stream",
     "text": [
      "100%|██████████| 24/24 [06:11<00:00, 15.49s/it]  \n",
      "100%|██████████| 50000/50000 [00:07<00:00, 6645.74it/s]\n",
      "100%|██████████| 10000/10000 [00:01<00:00, 8253.59it/s]\n"
     ]
    }
   ],
   "source": [
    "for channel in [ 'gray' ]:\n",
    "    print(f'>>> Calculating channel {channel}')\n",
    "    process(channel, 0.4)"
   ]
  },
  {
   "cell_type": "code",
   "execution_count": 95,
   "metadata": {},
   "outputs": [
    {
     "name": "stderr",
     "output_type": "stream",
     "text": [
      "100%|██████████| 25/25 [18:03<00:00, 43.34s/it]"
     ]
    },
    {
     "name": "stdout",
     "output_type": "stream",
     "text": [
      "300 torch.Size([50000, 40, 2]) torch.Size([50000, 40])\n",
      "300 torch.Size([10000, 38, 2]) torch.Size([10000, 38])\n"
     ]
    },
    {
     "name": "stderr",
     "output_type": "stream",
     "text": [
      "\n"
     ]
    }
   ],
   "source": [
    "import tqdm\n",
    "import joblib\n",
    "import torch\n",
    "import gtda.diagrams\n",
    "import torchph.nn.slayer\n",
    "\n",
    "def process():\n",
    "    def transform(diagram, dim):\n",
    "        dim_filter = (diagram[:, 2] == dim)\n",
    "        non_degenerate_filter = (diagram[:, 0] != diagram[:, 1])\n",
    "        rotation = torchph.nn.slayer.UpperDiagonalThresholdedLogTransform(0.05)\n",
    "        return rotation(diagram[dim_filter & non_degenerate_filter][:, 0:2])\n",
    "\n",
    "    train_data = [ ]\n",
    "    test_data = [ ]\n",
    "    for filtration in tqdm.tqdm(os.listdir(f\"E:/4/red/None/diagrams\")):\n",
    "        for dim in [ 0, 1 ]:\n",
    "            for channel in [ 'red', \"green\", \"blue\" ]:\n",
    "                dir = f\"E:/4/{channel}/None/diagrams/{filtration}\"\n",
    "                train_diagrams = numpy.load(f\"{dir}/train.npy\")\n",
    "                test_diagrams = numpy.load(f\"{dir}/test.npy\")\n",
    "\n",
    "                scaler = gtda.diagrams.Scaler()\n",
    "                train_diagrams = torch.tensor(scaler.fit_transform(train_diagrams), dtype = torch.float32)\n",
    "                test_diagrams = torch.tensor(scaler.transform(test_diagrams), dtype = torch.float32)\n",
    "\n",
    "                diagrams_train = joblib.Parallel(n_jobs = 1)(joblib.delayed(transform)(diagram, dim) for diagram in train_diagrams)\n",
    "                diagrams, non_dummy_points, _, _ = torchph.nn.slayer.prepare_batch(diagrams_train)\n",
    "                train_data.append(diagrams)\n",
    "                train_data.append(non_dummy_points)\n",
    "                \n",
    "                diagrams_test = joblib.Parallel(n_jobs = 1)(joblib.delayed(transform)(diagram, dim) for diagram in test_diagrams)\n",
    "                diagrams, non_dummy_points, _, _ = torchph.nn.slayer.prepare_batch(diagrams_test)\n",
    "                test_data.append(diagrams)\n",
    "                test_data.append(non_dummy_points)\n",
    "\n",
    "    return train_data, test_data\n",
    "\n",
    "train_diagrams, test_diagrams = process()\n",
    " \n",
    "print(len(train_diagrams), train_diagrams[0].shape, train_diagrams[1].shape)\n",
    "print(len(test_diagrams), test_diagrams[0].shape, test_diagrams[1].shape)"
   ]
  },
  {
   "cell_type": "code",
   "execution_count": 96,
   "metadata": {},
   "outputs": [
    {
     "data": {
      "text/plain": [
       "((50000,), (10000,))"
      ]
     },
     "execution_count": 96,
     "metadata": {},
     "output_type": "execute_result"
    }
   ],
   "source": [
    "import numpy\n",
    "import torchvision\n",
    "import torchvision.transforms.v2\n",
    "\n",
    "train = torchvision.datasets.CIFAR10('cifar-10', train = True, download = False)\n",
    "test = torchvision.datasets.CIFAR10('cifar-10', train = False, download = False)\n",
    "\n",
    "train_labels = numpy.array([ item[1] for item in train ])\n",
    "test_labels = numpy.array([ item[1] for item in test ])\n",
    "\n",
    "train_labels.shape, test_labels.shape"
   ]
  },
  {
   "cell_type": "code",
   "execution_count": 112,
   "metadata": {},
   "outputs": [],
   "source": [
    "import torch\n",
    "\n",
    "device = torch.device('cuda')\n",
    "\n",
    "class SLayerMultiChannel(torch.nn.Module):\n",
    "    def __init__(self):\n",
    "        super().__init__()\n",
    "        self.n_elements = 128\n",
    "        self.n_channels = 3\n",
    "        self.slayers = [\n",
    "            torchph.nn.slayer.SLayerExponential(self.n_elements).to(device)\n",
    "            for _ in range(self.n_channels)\n",
    "        ]\n",
    "        \n",
    "    def forward(self, args):\n",
    "        features = [ ]\n",
    "        for i in range(0, len(args), 2):\n",
    "            slayer_args = (args[i].to(device), args[i + 1].to(device), args[i].shape[1], len(args[i]))\n",
    "            features.append(self.slayers[i // 2](slayer_args))\n",
    "        return torch.stack(features, dim = 1)\n",
    "    \n",
    "\n",
    "\n",
    "class FiltrationBranch(torch.nn.Module):\n",
    "    def __init__(self):\n",
    "        super().__init__()\n",
    "        self.model = torch.nn.Sequential(\n",
    "            SLayerMultiChannel(), torch.nn.BatchNorm1d(3), torch.nn.ReLU(),\n",
    "            torch.nn.Conv1d(3, 64, kernel_size = 1, stride = 1), torch.nn.BatchNorm1d(64), torch.nn.ReLU(),\n",
    "            torch.nn.Conv1d(64, 32, kernel_size = 1, stride = 1), torch.nn.BatchNorm1d(32), torch.nn.ReLU(),\n",
    "            torch.nn.Conv1d(32, 16, kernel_size = 1, stride = 1), torch.nn.BatchNorm1d(16), torch.nn.ReLU(),\n",
    "            torch.nn.Conv1d(16, 8, kernel_size = 1, stride = 1), torch.nn.BatchNorm1d(8), torch.nn.ReLU(),\n",
    "            torch.nn.Conv1d(8, 4, kernel_size = 1, stride = 1), torch.nn.BatchNorm1d(4), torch.nn.ReLU(),\n",
    "            torch.nn.Flatten(), torch.nn.Linear(128 * 4, 128), torch.nn.BatchNorm1d(128), torch.nn.ReLU()\n",
    "        ).to(device)\n",
    "\n",
    "        \n",
    "        self.model = torch.nn.Sequential(\n",
    "            SLayerMultiChannel(), torch.nn.Flatten()\n",
    "        ).to(device)\n",
    "        \n",
    "    def forward(self, args):\n",
    "        return self.model(args)\n",
    "\n",
    "\n",
    "class Net(torch.nn.Module):\n",
    "    def __init__(self):\n",
    "        super().__init__()\n",
    "        self.num_branches = 50\n",
    "        self.branches = [\n",
    "            FiltrationBranch().to(device)\n",
    "            for _ in range(self.num_branches)\n",
    "        ]\n",
    "\n",
    "        self.classifier = torch.nn.Sequential(\n",
    "            torch.nn.Dropout(0.4), torch.nn.Linear(self.num_branches * 128 * 3, 256), torch.nn.BatchNorm1d(256), torch.nn.ReLU(),\n",
    "            torch.nn.Dropout(0.3), torch.nn.Linear(256, 128), torch.nn.BatchNorm1d(128), torch.nn.ReLU(),\n",
    "            torch.nn.Dropout(0.2), torch.nn.Linear(128, 64), torch.nn.BatchNorm1d(64), torch.nn.ReLU(),\n",
    "            torch.nn.Dropout(0.1), torch.nn.Linear(64, 32), torch.nn.BatchNorm1d(32), torch.nn.ReLU(),\n",
    "            torch.nn.Linear(32, 10), torch.nn.Softmax(dim = 1)\n",
    "        ).to(device)\n",
    "    \n",
    "    def forward(self, args):\n",
    "        features = [ ]\n",
    "        for i in range(0, len(args), 6):\n",
    "            features.append(self.branches[i // 6](args[i:i + 6]))\n",
    "        return self.classifier(torch.cat(features, dim = 1))"
   ]
  },
  {
   "cell_type": "code",
   "execution_count": 113,
   "metadata": {},
   "outputs": [
    {
     "name": "stderr",
     "output_type": "stream",
     "text": [
      "100%|██████████| 782/782 [06:11<00:00,  2.10it/s]\n",
      "100%|██████████| 157/157 [00:22<00:00,  7.04it/s]\n"
     ]
    },
    {
     "name": "stdout",
     "output_type": "stream",
     "text": [
      "{'loss': 106884.3097820282, 'val_acc': 0.3993}\n"
     ]
    },
    {
     "name": "stderr",
     "output_type": "stream",
     "text": [
      "100%|██████████| 782/782 [06:13<00:00,  2.09it/s]\n",
      "100%|██████████| 157/157 [00:23<00:00,  6.72it/s]\n"
     ]
    },
    {
     "name": "stdout",
     "output_type": "stream",
     "text": [
      "{'loss': 103433.46039962769, 'val_acc': 0.4275}\n"
     ]
    },
    {
     "name": "stderr",
     "output_type": "stream",
     "text": [
      "100%|██████████| 782/782 [06:08<00:00,  2.12it/s]\n",
      "100%|██████████| 157/157 [00:21<00:00,  7.21it/s]\n"
     ]
    },
    {
     "name": "stdout",
     "output_type": "stream",
     "text": [
      "{'loss': 102691.93363571167, 'val_acc': 0.4386}\n"
     ]
    },
    {
     "name": "stderr",
     "output_type": "stream",
     "text": [
      "  6%|▌         | 46/782 [00:22<06:01,  2.04it/s]\n"
     ]
    },
    {
     "ename": "KeyboardInterrupt",
     "evalue": "",
     "output_type": "error",
     "traceback": [
      "\u001b[1;31m---------------------------------------------------------------------------\u001b[0m",
      "\u001b[1;31mKeyboardInterrupt\u001b[0m                         Traceback (most recent call last)",
      "Cell \u001b[1;32mIn[113], line 39\u001b[0m\n\u001b[0;32m     36\u001b[0m pred \u001b[38;5;241m=\u001b[39m classifier(args)\n\u001b[0;32m     38\u001b[0m loss \u001b[38;5;241m=\u001b[39m torch\u001b[38;5;241m.\u001b[39mnn\u001b[38;5;241m.\u001b[39mfunctional\u001b[38;5;241m.\u001b[39mcross_entropy(pred, y, reduction \u001b[38;5;241m=\u001b[39m \u001b[38;5;124m'\u001b[39m\u001b[38;5;124msum\u001b[39m\u001b[38;5;124m'\u001b[39m)\n\u001b[1;32m---> 39\u001b[0m \u001b[43mloss\u001b[49m\u001b[38;5;241;43m.\u001b[39;49m\u001b[43mbackward\u001b[49m\u001b[43m(\u001b[49m\u001b[43m)\u001b[49m\n\u001b[0;32m     40\u001b[0m optimizer\u001b[38;5;241m.\u001b[39mstep()\n\u001b[0;32m     41\u001b[0m sum_loss \u001b[38;5;241m+\u001b[39m\u001b[38;5;241m=\u001b[39m loss\u001b[38;5;241m.\u001b[39mitem()\n",
      "File \u001b[1;32md:\\Programs\\Programming\\Python\\lib\\site-packages\\torch\\_tensor.py:581\u001b[0m, in \u001b[0;36mTensor.backward\u001b[1;34m(self, gradient, retain_graph, create_graph, inputs)\u001b[0m\n\u001b[0;32m    571\u001b[0m \u001b[38;5;28;01mif\u001b[39;00m has_torch_function_unary(\u001b[38;5;28mself\u001b[39m):\n\u001b[0;32m    572\u001b[0m     \u001b[38;5;28;01mreturn\u001b[39;00m handle_torch_function(\n\u001b[0;32m    573\u001b[0m         Tensor\u001b[38;5;241m.\u001b[39mbackward,\n\u001b[0;32m    574\u001b[0m         (\u001b[38;5;28mself\u001b[39m,),\n\u001b[1;32m   (...)\u001b[0m\n\u001b[0;32m    579\u001b[0m         inputs\u001b[38;5;241m=\u001b[39minputs,\n\u001b[0;32m    580\u001b[0m     )\n\u001b[1;32m--> 581\u001b[0m \u001b[43mtorch\u001b[49m\u001b[38;5;241;43m.\u001b[39;49m\u001b[43mautograd\u001b[49m\u001b[38;5;241;43m.\u001b[39;49m\u001b[43mbackward\u001b[49m\u001b[43m(\u001b[49m\n\u001b[0;32m    582\u001b[0m \u001b[43m    \u001b[49m\u001b[38;5;28;43mself\u001b[39;49m\u001b[43m,\u001b[49m\u001b[43m \u001b[49m\u001b[43mgradient\u001b[49m\u001b[43m,\u001b[49m\u001b[43m \u001b[49m\u001b[43mretain_graph\u001b[49m\u001b[43m,\u001b[49m\u001b[43m \u001b[49m\u001b[43mcreate_graph\u001b[49m\u001b[43m,\u001b[49m\u001b[43m \u001b[49m\u001b[43minputs\u001b[49m\u001b[38;5;241;43m=\u001b[39;49m\u001b[43minputs\u001b[49m\n\u001b[0;32m    583\u001b[0m \u001b[43m\u001b[49m\u001b[43m)\u001b[49m\n",
      "File \u001b[1;32md:\\Programs\\Programming\\Python\\lib\\site-packages\\torch\\autograd\\__init__.py:347\u001b[0m, in \u001b[0;36mbackward\u001b[1;34m(tensors, grad_tensors, retain_graph, create_graph, grad_variables, inputs)\u001b[0m\n\u001b[0;32m    342\u001b[0m     retain_graph \u001b[38;5;241m=\u001b[39m create_graph\n\u001b[0;32m    344\u001b[0m \u001b[38;5;66;03m# The reason we repeat the same comment below is that\u001b[39;00m\n\u001b[0;32m    345\u001b[0m \u001b[38;5;66;03m# some Python versions print out the first line of a multi-line function\u001b[39;00m\n\u001b[0;32m    346\u001b[0m \u001b[38;5;66;03m# calls in the traceback and some print out the last line\u001b[39;00m\n\u001b[1;32m--> 347\u001b[0m \u001b[43m_engine_run_backward\u001b[49m\u001b[43m(\u001b[49m\n\u001b[0;32m    348\u001b[0m \u001b[43m    \u001b[49m\u001b[43mtensors\u001b[49m\u001b[43m,\u001b[49m\n\u001b[0;32m    349\u001b[0m \u001b[43m    \u001b[49m\u001b[43mgrad_tensors_\u001b[49m\u001b[43m,\u001b[49m\n\u001b[0;32m    350\u001b[0m \u001b[43m    \u001b[49m\u001b[43mretain_graph\u001b[49m\u001b[43m,\u001b[49m\n\u001b[0;32m    351\u001b[0m \u001b[43m    \u001b[49m\u001b[43mcreate_graph\u001b[49m\u001b[43m,\u001b[49m\n\u001b[0;32m    352\u001b[0m \u001b[43m    \u001b[49m\u001b[43minputs\u001b[49m\u001b[43m,\u001b[49m\n\u001b[0;32m    353\u001b[0m \u001b[43m    \u001b[49m\u001b[43mallow_unreachable\u001b[49m\u001b[38;5;241;43m=\u001b[39;49m\u001b[38;5;28;43;01mTrue\u001b[39;49;00m\u001b[43m,\u001b[49m\n\u001b[0;32m    354\u001b[0m \u001b[43m    \u001b[49m\u001b[43maccumulate_grad\u001b[49m\u001b[38;5;241;43m=\u001b[39;49m\u001b[38;5;28;43;01mTrue\u001b[39;49;00m\u001b[43m,\u001b[49m\n\u001b[0;32m    355\u001b[0m \u001b[43m\u001b[49m\u001b[43m)\u001b[49m\n",
      "File \u001b[1;32md:\\Programs\\Programming\\Python\\lib\\site-packages\\torch\\autograd\\graph.py:825\u001b[0m, in \u001b[0;36m_engine_run_backward\u001b[1;34m(t_outputs, *args, **kwargs)\u001b[0m\n\u001b[0;32m    823\u001b[0m     unregister_hooks \u001b[38;5;241m=\u001b[39m _register_logging_hooks_on_whole_graph(t_outputs)\n\u001b[0;32m    824\u001b[0m \u001b[38;5;28;01mtry\u001b[39;00m:\n\u001b[1;32m--> 825\u001b[0m     \u001b[38;5;28;01mreturn\u001b[39;00m Variable\u001b[38;5;241m.\u001b[39m_execution_engine\u001b[38;5;241m.\u001b[39mrun_backward(  \u001b[38;5;66;03m# Calls into the C++ engine to run the backward pass\u001b[39;00m\n\u001b[0;32m    826\u001b[0m         t_outputs, \u001b[38;5;241m*\u001b[39margs, \u001b[38;5;241m*\u001b[39m\u001b[38;5;241m*\u001b[39mkwargs\n\u001b[0;32m    827\u001b[0m     )  \u001b[38;5;66;03m# Calls into the C++ engine to run the backward pass\u001b[39;00m\n\u001b[0;32m    828\u001b[0m \u001b[38;5;28;01mfinally\u001b[39;00m:\n\u001b[0;32m    829\u001b[0m     \u001b[38;5;28;01mif\u001b[39;00m attach_logging_hooks:\n",
      "\u001b[1;31mKeyboardInterrupt\u001b[0m: "
     ]
    }
   ],
   "source": [
    "import sklearn.metrics\n",
    "import cvtda.utils\n",
    "cvtda.utils.set_random_seed(42)\n",
    "\n",
    "train_dl = torch.utils.data.DataLoader(\n",
    "    torch.utils.data.TensorDataset(\n",
    "        torch.tensor(train_labels, device = device, dtype = torch.long),\n",
    "        *train_diagrams\n",
    "    ),\n",
    "    batch_size = 64,\n",
    "    shuffle = True\n",
    ")\n",
    "\n",
    "test_dl = torch.utils.data.DataLoader(\n",
    "    torch.utils.data.TensorDataset(\n",
    "        torch.tensor(test_labels, device = device, dtype = torch.long),\n",
    "        *test_diagrams\n",
    "    ),\n",
    "    batch_size = 64,\n",
    "    shuffle = False\n",
    ")\n",
    "\n",
    "classifier = Net()\n",
    "\n",
    "optimizer = torch.optim.AdamW(\n",
    "    params = classifier.parameters(),\n",
    "    lr = 1e-3\n",
    ")\n",
    "\n",
    "for _ in range(100):\n",
    "    sum_loss = 0\n",
    "\n",
    "    classifier.train()\n",
    "    for (y, *args) in tqdm.tqdm(train_dl):\n",
    "        optimizer.zero_grad()\n",
    "        pred = classifier(args)\n",
    "\n",
    "        loss = torch.nn.functional.cross_entropy(pred, y, reduction = 'sum')\n",
    "        loss.backward()\n",
    "        optimizer.step()\n",
    "        sum_loss += loss.item()\n",
    "    postfix = { 'loss': sum_loss }\n",
    "\n",
    "    classifier.eval()\n",
    "    with torch.no_grad():\n",
    "        preds = [ ]\n",
    "        real = [ ]\n",
    "        for (y, *args) in tqdm.tqdm(test_dl):\n",
    "            proba = classifier(args)\n",
    "            preds.extend(torch.argmax(proba, axis = 1).cpu().detach())\n",
    "            real.extend(y.cpu())\n",
    "\n",
    "        postfix['val_acc'] = sklearn.metrics.accuracy_score(preds, real)\n",
    "\n",
    "    print(postfix)"
   ]
  }
 ],
 "metadata": {
  "kernelspec": {
   "display_name": "Python 3",
   "language": "python",
   "name": "python3"
  },
  "language_info": {
   "codemirror_mode": {
    "name": "ipython",
    "version": 3
   },
   "file_extension": ".py",
   "mimetype": "text/x-python",
   "name": "python",
   "nbconvert_exporter": "python",
   "pygments_lexer": "ipython3",
   "version": "3.10.11"
  }
 },
 "nbformat": 4,
 "nbformat_minor": 2
}
