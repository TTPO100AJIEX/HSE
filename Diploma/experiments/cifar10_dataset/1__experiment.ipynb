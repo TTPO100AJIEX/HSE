{
 "cells": [
  {
   "cell_type": "code",
   "execution_count": 1,
   "metadata": {},
   "outputs": [],
   "source": [
    "%load_ext autoreload\n",
    "%autoreload 2"
   ]
  },
  {
   "cell_type": "markdown",
   "metadata": {},
   "source": [
    "### Dataset"
   ]
  },
  {
   "cell_type": "code",
   "execution_count": 2,
   "metadata": {},
   "outputs": [
    {
     "data": {
      "text/plain": [
       "((50000, 3, 32, 32), (10000, 3, 32, 32))"
      ]
     },
     "execution_count": 2,
     "metadata": {},
     "output_type": "execute_result"
    }
   ],
   "source": [
    "import gc\n",
    "\n",
    "import numpy\n",
    "import torch\n",
    "import torchvision\n",
    "import torchvision.transforms.v2\n",
    "\n",
    "transform = torchvision.transforms.v2.Compose([\n",
    "    torchvision.transforms.v2.ToImage(),\n",
    "    torchvision.transforms.v2.ToDtype(torch.float32, scale = True)\n",
    "])\n",
    "\n",
    "train = torchvision.datasets.CIFAR10('cifar-10', transform = transform, train = True, download = False)\n",
    "test = torchvision.datasets.CIFAR10('cifar-10', transform = transform, train = False, download = False)\n",
    "\n",
    "train_images = numpy.array([ numpy.array(item[0]) for item in train ])\n",
    "train_labels = numpy.array([ item[1] for item in train ])\n",
    "\n",
    "test_images = numpy.array([ numpy.array(item[0]) for item in test ])\n",
    "test_labels = numpy.array([ item[1] for item in test ])\n",
    "\n",
    "train_images.shape, test_images.shape"
   ]
  },
  {
   "cell_type": "code",
   "execution_count": 3,
   "metadata": {},
   "outputs": [],
   "source": [
    "import gtda.images\n",
    "\n",
    "inverter = gtda.images.Inverter()\n",
    "\n",
    "train_images = inverter.fit_transform(train_images)\n",
    "test_images = inverter.transform(test_images)"
   ]
  },
  {
   "cell_type": "code",
   "execution_count": 4,
   "metadata": {},
   "outputs": [
    {
     "data": {
      "text/plain": [
       "<matplotlib.image.AxesImage at 0x1a70097f310>"
      ]
     },
     "execution_count": 4,
     "metadata": {},
     "output_type": "execute_result"
    },
    {
     "data": {
      "image/png": "[encoded data removed]",
      "text/plain": [
       "<Figure size 1500x500 with 4 Axes>"
      ]
     },
     "metadata": {},
     "output_type": "display_data"
    }
   ],
   "source": [
    "import matplotlib.pyplot as plt\n",
    "\n",
    "def transform(data: numpy.ndarray):\n",
    "    inv = gtda.images.Inverter()\n",
    "    bin = gtda.images.Binarizer(threshold = 0.4)\n",
    "    # return bin.fit_transform(data)\n",
    "    return bin.fit_transform(data)\n",
    "\n",
    "OBJECT = 5477\n",
    "\n",
    "figure, axes = plt.subplots(1, 4, figsize = (15, 5))\n",
    "axes[0].imshow(train_images[OBJECT, :, :, :].transpose((1, 2, 0)))\n",
    "axes[1].imshow(transform(train_images[OBJECT, 0, :, :]))\n",
    "axes[2].imshow(transform(train_images[OBJECT, 1, :, :]))\n",
    "axes[3].imshow(transform(train_images[OBJECT, 2, :, :]))"
   ]
  },
  {
   "cell_type": "markdown",
   "metadata": {},
   "source": [
    "### Features"
   ]
  },
  {
   "cell_type": "code",
   "execution_count": 5,
   "metadata": {},
   "outputs": [],
   "source": [
    "import cvtda.pipelines"
   ]
  },
  {
   "cell_type": "code",
   "execution_count": 6,
   "metadata": {},
   "outputs": [
    {
     "name": "stdout",
     "output_type": "stream",
     "text": [
      "> Filtrations\n",
      "Fitting the binarizer\n"
     ]
    },
    {
     "name": "stderr",
     "output_type": "stream",
     "text": [
      "Fitting the filtrations: 100%|██████████| 49/49 [00:00<00:00, 3232.73it/s]\n"
     ]
    },
    {
     "name": "stdout",
     "output_type": "stream",
     "text": [
      "Fitting complete\n"
     ]
    },
    {
     "name": "stderr",
     "output_type": "stream",
     "text": [
      "Filtrations: 100%|██████████| 49/49 [01:12<00:00,  1.49s/it]\n"
     ]
    },
    {
     "name": "stdout",
     "output_type": "stream",
     "text": [
      "Fitting the persistence\n",
      "Fitting complete\n",
      "Got the result from 1/red/train\\filtration_diagrams.npy\n",
      "> Filtration diagrams shape: (2500000, 102, 3)\n",
      "> Filtration features\n",
      "Fitting the calculator\n",
      "Fitting the filtering\n",
      "Fitting the betti curve\n",
      "Fitting the persistence landscape\n"
     ]
    },
    {
     "name": "stderr",
     "output_type": "stream",
     "text": [
      "Fitting the silhouettes: 100%|██████████| 2/2 [00:29<00:00, 14.93s/it]\n"
     ]
    },
    {
     "name": "stdout",
     "output_type": "stream",
     "text": [
      "Fitting the persistence entropy\n",
      "Fitting the number of points\n"
     ]
    },
    {
     "name": "stderr",
     "output_type": "stream",
     "text": [
      "Fitting the heat kernels: 100%|██████████| 3/3 [00:44<00:00, 14.84s/it]\n",
      "Fitting the persistence images: 100%|██████████| 3/3 [00:52<00:00, 17.41s/it]\n"
     ]
    },
    {
     "name": "stdout",
     "output_type": "stream",
     "text": [
      "Fitting complete\n",
      "Got the result from 1/red/train\\filtration_features.npy\n",
      "> Filtration features shape: (2500000, 260)\n",
      "> Features shape: (50000, 13000)\n",
      "> Filtrations\n"
     ]
    },
    {
     "name": "stderr",
     "output_type": "stream",
     "text": [
      "Filtrations: 100%|██████████| 49/49 [01:06<00:00,  1.35s/it]\n"
     ]
    },
    {
     "name": "stdout",
     "output_type": "stream",
     "text": [
      "Got the result from 1/red/train\\filtration_diagrams.npy\n",
      "> Filtration diagrams shape: (2500000, 102, 3)\n",
      "> Filtration features\n",
      "Got the result from 1/red/train\\filtration_features.npy\n",
      "> Filtration features shape: (2500000, 260)\n",
      "> Features shape: (50000, 13000)\n",
      "> Filtrations\n"
     ]
    },
    {
     "name": "stderr",
     "output_type": "stream",
     "text": [
      "Filtrations: 100%|██████████| 49/49 [00:13<00:00,  3.71it/s]\n"
     ]
    },
    {
     "name": "stdout",
     "output_type": "stream",
     "text": [
      "Got the result from 1/red/test\\filtration_diagrams.npy\n",
      "> Filtration diagrams shape: (500000, 178, 3)\n",
      "> Filtration features\n",
      "Got the result from 1/red/test\\filtration_features.npy\n",
      "> Filtration features shape: (500000, 260)\n",
      "> Features shape: (10000, 13000)\n"
     ]
    },
    {
     "data": {
      "text/plain": [
       "((50000, 13000), (10000, 13000))"
      ]
     },
     "execution_count": 6,
     "metadata": {},
     "output_type": "execute_result"
    }
   ],
   "source": [
    "red_to_features = cvtda.pipelines.GreyscaleToFeatures(\n",
    "    dump_directory = \"1/red\",\n",
    "    with_pointclouds = False,\n",
    "    binarizer_threshold = 0.4,\n",
    "    radial_filtration_centers_x = [ 3, 8, 13, 18, 23, 28 ],\n",
    "    radial_filtration_centers_y = [ 3, 8, 13, 18, 23, 28 ]\n",
    ")\n",
    "train_red_features = red_to_features.fit_transform(train_images[:, 0, :, :], \"train\")\n",
    "test_red_features = red_to_features.transform(test_images[:, 0, :, :], \"test\")\n",
    "\n",
    "train_red_features.shape, test_red_features.shape"
   ]
  },
  {
   "cell_type": "code",
   "execution_count": 7,
   "metadata": {},
   "outputs": [
    {
     "data": {
      "text/plain": [
       "197"
      ]
     },
     "execution_count": 7,
     "metadata": {},
     "output_type": "execute_result"
    }
   ],
   "source": [
    "del red_to_features\n",
    "gc.collect()"
   ]
  },
  {
   "cell_type": "code",
   "execution_count": 8,
   "metadata": {},
   "outputs": [
    {
     "name": "stdout",
     "output_type": "stream",
     "text": [
      "> Filtrations\n",
      "Fitting the binarizer\n"
     ]
    },
    {
     "name": "stderr",
     "output_type": "stream",
     "text": [
      "Fitting the filtrations: 100%|██████████| 49/49 [00:00<00:00, 2436.79it/s]\n"
     ]
    },
    {
     "name": "stdout",
     "output_type": "stream",
     "text": [
      "Fitting complete\n"
     ]
    },
    {
     "name": "stderr",
     "output_type": "stream",
     "text": [
      "Filtrations: 100%|██████████| 49/49 [01:15<00:00,  1.53s/it]\n"
     ]
    },
    {
     "ename": "MemoryError",
     "evalue": "Unable to allocate 19.1 GiB for an array with shape (50000, 50, 32, 32) and data type float64",
     "output_type": "error",
     "traceback": [
      "\u001b[1;31m---------------------------------------------------------------------------\u001b[0m",
      "\u001b[1;31mMemoryError\u001b[0m                               Traceback (most recent call last)",
      "Cell \u001b[1;32mIn[8], line 8\u001b[0m\n\u001b[0;32m      1\u001b[0m green_to_features \u001b[38;5;241m=\u001b[39m cvtda\u001b[38;5;241m.\u001b[39mpipelines\u001b[38;5;241m.\u001b[39mGreyscaleToFeatures(\n\u001b[0;32m      2\u001b[0m     dump_directory \u001b[38;5;241m=\u001b[39m \u001b[38;5;124m\"\u001b[39m\u001b[38;5;124m1/green\u001b[39m\u001b[38;5;124m\"\u001b[39m,\n\u001b[0;32m      3\u001b[0m     with_pointclouds \u001b[38;5;241m=\u001b[39m \u001b[38;5;28;01mFalse\u001b[39;00m,\n\u001b[1;32m   (...)\u001b[0m\n\u001b[0;32m      6\u001b[0m     radial_filtration_centers_y \u001b[38;5;241m=\u001b[39m [ \u001b[38;5;241m3\u001b[39m, \u001b[38;5;241m8\u001b[39m, \u001b[38;5;241m13\u001b[39m, \u001b[38;5;241m18\u001b[39m, \u001b[38;5;241m23\u001b[39m, \u001b[38;5;241m28\u001b[39m ]\n\u001b[0;32m      7\u001b[0m )\n\u001b[1;32m----> 8\u001b[0m train_green_features \u001b[38;5;241m=\u001b[39m \u001b[43mgreen_to_features\u001b[49m\u001b[38;5;241;43m.\u001b[39;49m\u001b[43mfit_transform\u001b[49m\u001b[43m(\u001b[49m\u001b[43mtrain_images\u001b[49m\u001b[43m[\u001b[49m\u001b[43m:\u001b[49m\u001b[43m,\u001b[49m\u001b[43m \u001b[49m\u001b[38;5;241;43m1\u001b[39;49m\u001b[43m,\u001b[49m\u001b[43m \u001b[49m\u001b[43m:\u001b[49m\u001b[43m,\u001b[49m\u001b[43m \u001b[49m\u001b[43m:\u001b[49m\u001b[43m]\u001b[49m\u001b[43m,\u001b[49m\u001b[43m \u001b[49m\u001b[38;5;124;43m\"\u001b[39;49m\u001b[38;5;124;43mtrain\u001b[39;49m\u001b[38;5;124;43m\"\u001b[39;49m\u001b[43m)\u001b[49m\n\u001b[0;32m      9\u001b[0m test_green_features \u001b[38;5;241m=\u001b[39m green_to_features\u001b[38;5;241m.\u001b[39mtransform(test_images[:, \u001b[38;5;241m1\u001b[39m, :, :], \u001b[38;5;124m\"\u001b[39m\u001b[38;5;124mtest\u001b[39m\u001b[38;5;124m\"\u001b[39m)\n\u001b[0;32m     11\u001b[0m train_green_features\u001b[38;5;241m.\u001b[39mshape, test_green_features\u001b[38;5;241m.\u001b[39mshape\n",
      "File \u001b[1;32md:\\Programs\\Programming\\Python\\lib\\site-packages\\sklearn\\utils\\_set_output.py:316\u001b[0m, in \u001b[0;36m_wrap_method_output.<locals>.wrapped\u001b[1;34m(self, X, *args, **kwargs)\u001b[0m\n\u001b[0;32m    314\u001b[0m \u001b[38;5;129m@wraps\u001b[39m(f)\n\u001b[0;32m    315\u001b[0m \u001b[38;5;28;01mdef\u001b[39;00m \u001b[38;5;21mwrapped\u001b[39m(\u001b[38;5;28mself\u001b[39m, X, \u001b[38;5;241m*\u001b[39margs, \u001b[38;5;241m*\u001b[39m\u001b[38;5;241m*\u001b[39mkwargs):\n\u001b[1;32m--> 316\u001b[0m     data_to_wrap \u001b[38;5;241m=\u001b[39m f(\u001b[38;5;28mself\u001b[39m, X, \u001b[38;5;241m*\u001b[39margs, \u001b[38;5;241m*\u001b[39m\u001b[38;5;241m*\u001b[39mkwargs)\n\u001b[0;32m    317\u001b[0m     \u001b[38;5;28;01mif\u001b[39;00m \u001b[38;5;28misinstance\u001b[39m(data_to_wrap, \u001b[38;5;28mtuple\u001b[39m):\n\u001b[0;32m    318\u001b[0m         \u001b[38;5;66;03m# only wrap the first output for cross decomposition\u001b[39;00m\n\u001b[0;32m    319\u001b[0m         return_tuple \u001b[38;5;241m=\u001b[39m (\n\u001b[0;32m    320\u001b[0m             _wrap_data_with_container(method, data_to_wrap[\u001b[38;5;241m0\u001b[39m], X, \u001b[38;5;28mself\u001b[39m),\n\u001b[0;32m    321\u001b[0m             \u001b[38;5;241m*\u001b[39mdata_to_wrap[\u001b[38;5;241m1\u001b[39m:],\n\u001b[0;32m    322\u001b[0m         )\n",
      "File \u001b[1;32mD:\\HSE/year-3/HSE/Diploma/cvtda\\cvtda\\pipelines\\greyscale_to_features.py:62\u001b[0m, in \u001b[0;36mGreyscaleToFeatures.fit_transform\u001b[1;34m(self, images, dumper_id)\u001b[0m\n\u001b[0;32m     61\u001b[0m \u001b[38;5;28;01mdef\u001b[39;00m \u001b[38;5;21mfit_transform\u001b[39m(\u001b[38;5;28mself\u001b[39m, images: numpy\u001b[38;5;241m.\u001b[39mndarray, dumper_id: typing\u001b[38;5;241m.\u001b[39mOptional[\u001b[38;5;28mstr\u001b[39m] \u001b[38;5;241m=\u001b[39m \u001b[38;5;28;01mNone\u001b[39;00m) \u001b[38;5;241m-\u001b[39m\u001b[38;5;241m>\u001b[39m numpy\u001b[38;5;241m.\u001b[39mndarray:\n\u001b[1;32m---> 62\u001b[0m     \u001b[38;5;28;01mreturn\u001b[39;00m \u001b[38;5;28;43mself\u001b[39;49m\u001b[38;5;241;43m.\u001b[39;49m\u001b[43mfit\u001b[49m\u001b[43m(\u001b[49m\u001b[43mimages\u001b[49m\u001b[43m,\u001b[49m\u001b[43m \u001b[49m\u001b[43mdumper_id\u001b[49m\u001b[43m \u001b[49m\u001b[38;5;241;43m=\u001b[39;49m\u001b[43m \u001b[49m\u001b[43mdumper_id\u001b[49m\u001b[43m)\u001b[49m\u001b[38;5;241m.\u001b[39mtransform(images, dumper_id \u001b[38;5;241m=\u001b[39m dumper_id)\n",
      "File \u001b[1;32mD:\\HSE/year-3/HSE/Diploma/cvtda\\cvtda\\pipelines\\greyscale_to_features.py:53\u001b[0m, in \u001b[0;36mGreyscaleToFeatures.fit\u001b[1;34m(self, images, dumper_id)\u001b[0m\n\u001b[0;32m     52\u001b[0m \u001b[38;5;28;01mdef\u001b[39;00m \u001b[38;5;21mfit\u001b[39m(\u001b[38;5;28mself\u001b[39m, images: numpy\u001b[38;5;241m.\u001b[39mndarray, dumper_id: typing\u001b[38;5;241m.\u001b[39mOptional[\u001b[38;5;28mstr\u001b[39m] \u001b[38;5;241m=\u001b[39m \u001b[38;5;28;01mNone\u001b[39;00m):\n\u001b[1;32m---> 53\u001b[0m     \u001b[38;5;28;43mself\u001b[39;49m\u001b[38;5;241;43m.\u001b[39;49m\u001b[43mprocess_\u001b[49m\u001b[43m(\u001b[49m\u001b[43mimages\u001b[49m\u001b[43m,\u001b[49m\u001b[43m \u001b[49m\u001b[43mdo_fit\u001b[49m\u001b[43m \u001b[49m\u001b[38;5;241;43m=\u001b[39;49m\u001b[43m \u001b[49m\u001b[38;5;28;43;01mTrue\u001b[39;49;00m\u001b[43m,\u001b[49m\u001b[43m \u001b[49m\u001b[43mdumper_id\u001b[49m\u001b[43m \u001b[49m\u001b[38;5;241;43m=\u001b[39;49m\u001b[43m \u001b[49m\u001b[43mdumper_id\u001b[49m\u001b[43m)\u001b[49m\n\u001b[0;32m     54\u001b[0m     \u001b[38;5;28mself\u001b[39m\u001b[38;5;241m.\u001b[39mfitted_ \u001b[38;5;241m=\u001b[39m \u001b[38;5;28;01mTrue\u001b[39;00m\n\u001b[0;32m     55\u001b[0m     \u001b[38;5;28;01mreturn\u001b[39;00m \u001b[38;5;28mself\u001b[39m\n",
      "File \u001b[1;32mD:\\HSE/year-3/HSE/Diploma/cvtda\\cvtda\\pipelines\\greyscale_to_features.py:93\u001b[0m, in \u001b[0;36mGreyscaleToFeatures.process_\u001b[1;34m(self, images, do_fit, dumper_id)\u001b[0m\n\u001b[0;32m     90\u001b[0m out_shape \u001b[38;5;241m=\u001b[39m (\u001b[38;5;28mlen\u001b[39m(images), \u001b[38;5;241m-\u001b[39m\u001b[38;5;241m1\u001b[39m)\n\u001b[0;32m     92\u001b[0m \u001b[38;5;28mself\u001b[39m\u001b[38;5;241m.\u001b[39mlogger_\u001b[38;5;241m.\u001b[39mprint(\u001b[38;5;124m\"\u001b[39m\u001b[38;5;124m> Filtrations\u001b[39m\u001b[38;5;124m\"\u001b[39m)\n\u001b[1;32m---> 93\u001b[0m filtrations \u001b[38;5;241m=\u001b[39m \u001b[38;5;28;43mself\u001b[39;49m\u001b[38;5;241;43m.\u001b[39;49m\u001b[43mprocess_iter_\u001b[49m\u001b[43m(\u001b[49m\u001b[38;5;28;43mself\u001b[39;49m\u001b[38;5;241;43m.\u001b[39;49m\u001b[43mgreyscale_to_filtrations_\u001b[49m\u001b[43m,\u001b[49m\u001b[43m \u001b[49m\u001b[43mimages\u001b[49m\u001b[43m,\u001b[49m\u001b[43m \u001b[49m\u001b[43mdo_fit\u001b[49m\u001b[43m)\u001b[49m\n\u001b[0;32m     94\u001b[0m filtrations \u001b[38;5;241m=\u001b[39m \u001b[38;5;28mself\u001b[39m\u001b[38;5;241m.\u001b[39mprocess_iter_(\u001b[38;5;28mself\u001b[39m\u001b[38;5;241m.\u001b[39mfiltrations_flatten_, filtrations, do_fit)\n\u001b[0;32m     95\u001b[0m filtration_diagrams \u001b[38;5;241m=\u001b[39m \u001b[38;5;28mself\u001b[39m\u001b[38;5;241m.\u001b[39mprocess_iter_dump_(\u001b[38;5;28mself\u001b[39m\u001b[38;5;241m.\u001b[39mfiltrations_to_diagrams_, filtrations, do_fit, dumper, \u001b[38;5;124m\"\u001b[39m\u001b[38;5;124mfiltration_diagrams\u001b[39m\u001b[38;5;124m\"\u001b[39m)\n",
      "File \u001b[1;32mD:\\HSE/year-3/HSE/Diploma/cvtda\\cvtda\\pipelines\\greyscale_to_features.py:69\u001b[0m, in \u001b[0;36mGreyscaleToFeatures.process_iter_\u001b[1;34m(self, transformer, data, do_fit)\u001b[0m\n\u001b[0;32m     67\u001b[0m \u001b[38;5;28;01mif\u001b[39;00m do_fit:\n\u001b[0;32m     68\u001b[0m     transformer\u001b[38;5;241m.\u001b[39mfit(data)\n\u001b[1;32m---> 69\u001b[0m \u001b[38;5;28;01mreturn\u001b[39;00m \u001b[43mtransformer\u001b[49m\u001b[38;5;241;43m.\u001b[39;49m\u001b[43mtransform\u001b[49m\u001b[43m(\u001b[49m\u001b[43mdata\u001b[49m\u001b[43m)\u001b[49m\n",
      "File \u001b[1;32md:\\Programs\\Programming\\Python\\lib\\site-packages\\sklearn\\utils\\_set_output.py:316\u001b[0m, in \u001b[0;36m_wrap_method_output.<locals>.wrapped\u001b[1;34m(self, X, *args, **kwargs)\u001b[0m\n\u001b[0;32m    314\u001b[0m \u001b[38;5;129m@wraps\u001b[39m(f)\n\u001b[0;32m    315\u001b[0m \u001b[38;5;28;01mdef\u001b[39;00m \u001b[38;5;21mwrapped\u001b[39m(\u001b[38;5;28mself\u001b[39m, X, \u001b[38;5;241m*\u001b[39margs, \u001b[38;5;241m*\u001b[39m\u001b[38;5;241m*\u001b[39mkwargs):\n\u001b[1;32m--> 316\u001b[0m     data_to_wrap \u001b[38;5;241m=\u001b[39m f(\u001b[38;5;28mself\u001b[39m, X, \u001b[38;5;241m*\u001b[39margs, \u001b[38;5;241m*\u001b[39m\u001b[38;5;241m*\u001b[39mkwargs)\n\u001b[0;32m    317\u001b[0m     \u001b[38;5;28;01mif\u001b[39;00m \u001b[38;5;28misinstance\u001b[39m(data_to_wrap, \u001b[38;5;28mtuple\u001b[39m):\n\u001b[0;32m    318\u001b[0m         \u001b[38;5;66;03m# only wrap the first output for cross decomposition\u001b[39;00m\n\u001b[0;32m    319\u001b[0m         return_tuple \u001b[38;5;241m=\u001b[39m (\n\u001b[0;32m    320\u001b[0m             _wrap_data_with_container(method, data_to_wrap[\u001b[38;5;241m0\u001b[39m], X, \u001b[38;5;28mself\u001b[39m),\n\u001b[0;32m    321\u001b[0m             \u001b[38;5;241m*\u001b[39mdata_to_wrap[\u001b[38;5;241m1\u001b[39m:],\n\u001b[0;32m    322\u001b[0m         )\n",
      "File \u001b[1;32mD:\\HSE/year-3/HSE/Diploma/cvtda\\cvtda\\topology\\greyscale_to_filtrations.py:74\u001b[0m, in \u001b[0;36mGreyscaleToFiltrations.transform\u001b[1;34m(self, images)\u001b[0m\n\u001b[0;32m     70\u001b[0m set_random_seed(\u001b[38;5;28mself\u001b[39m\u001b[38;5;241m.\u001b[39mrandom_state_)\n\u001b[0;32m     72\u001b[0m images_bin \u001b[38;5;241m=\u001b[39m \u001b[38;5;28mself\u001b[39m\u001b[38;5;241m.\u001b[39mbinarizer_\u001b[38;5;241m.\u001b[39mtransform(images)\n\u001b[1;32m---> 74\u001b[0m \u001b[38;5;28;01mreturn\u001b[39;00m \u001b[43mnumpy\u001b[49m\u001b[38;5;241;43m.\u001b[39;49m\u001b[43mstack\u001b[49m\u001b[43m(\u001b[49m\u001b[43m[\u001b[49m\n\u001b[0;32m     75\u001b[0m \u001b[43m    \u001b[49m\u001b[43mimages_bin\u001b[49m\u001b[43m,\u001b[49m\n\u001b[0;32m     76\u001b[0m \u001b[43m    \u001b[49m\u001b[38;5;241;43m*\u001b[39;49m\u001b[43m[\u001b[49m\n\u001b[0;32m     77\u001b[0m \u001b[43m        \u001b[49m\u001b[43mfiltration\u001b[49m\u001b[38;5;241;43m.\u001b[39;49m\u001b[43mtransform\u001b[49m\u001b[43m(\u001b[49m\u001b[43mimages_bin\u001b[49m\u001b[43m)\u001b[49m\n\u001b[0;32m     78\u001b[0m \u001b[43m        \u001b[49m\u001b[38;5;28;43;01mfor\u001b[39;49;00m\u001b[43m \u001b[49m\u001b[43mfiltration\u001b[49m\u001b[43m \u001b[49m\u001b[38;5;129;43;01min\u001b[39;49;00m\u001b[43m \u001b[49m\u001b[38;5;28;43mself\u001b[39;49m\u001b[38;5;241;43m.\u001b[39;49m\u001b[43mlogger_\u001b[49m\u001b[38;5;241;43m.\u001b[39;49m\u001b[43mloop\u001b[49m\u001b[43m(\u001b[49m\u001b[38;5;28;43mself\u001b[39;49m\u001b[38;5;241;43m.\u001b[39;49m\u001b[43mfiltrations_\u001b[49m\u001b[43m,\u001b[49m\u001b[43m \u001b[49m\u001b[43mdesc\u001b[49m\u001b[43m \u001b[49m\u001b[38;5;241;43m=\u001b[39;49m\u001b[43m \u001b[49m\u001b[38;5;124;43m\"\u001b[39;49m\u001b[38;5;124;43mFiltrations\u001b[39;49m\u001b[38;5;124;43m\"\u001b[39;49m\u001b[43m)\u001b[49m\n\u001b[0;32m     79\u001b[0m \u001b[43m    \u001b[49m\u001b[43m]\u001b[49m\n\u001b[0;32m     80\u001b[0m \u001b[43m\u001b[49m\u001b[43m]\u001b[49m\u001b[43m,\u001b[49m\u001b[43m \u001b[49m\u001b[43maxis\u001b[49m\u001b[43m \u001b[49m\u001b[38;5;241;43m=\u001b[39;49m\u001b[43m \u001b[49m\u001b[38;5;241;43m1\u001b[39;49m\u001b[43m)\u001b[49m\n",
      "File \u001b[1;32md:\\Programs\\Programming\\Python\\lib\\site-packages\\numpy\\core\\shape_base.py:456\u001b[0m, in \u001b[0;36mstack\u001b[1;34m(arrays, axis, out, dtype, casting)\u001b[0m\n\u001b[0;32m    454\u001b[0m sl \u001b[38;5;241m=\u001b[39m (\u001b[38;5;28mslice\u001b[39m(\u001b[38;5;28;01mNone\u001b[39;00m),) \u001b[38;5;241m*\u001b[39m axis \u001b[38;5;241m+\u001b[39m (_nx\u001b[38;5;241m.\u001b[39mnewaxis,)\n\u001b[0;32m    455\u001b[0m expanded_arrays \u001b[38;5;241m=\u001b[39m [arr[sl] \u001b[38;5;28;01mfor\u001b[39;00m arr \u001b[38;5;129;01min\u001b[39;00m arrays]\n\u001b[1;32m--> 456\u001b[0m \u001b[38;5;28;01mreturn\u001b[39;00m \u001b[43m_nx\u001b[49m\u001b[38;5;241;43m.\u001b[39;49m\u001b[43mconcatenate\u001b[49m\u001b[43m(\u001b[49m\u001b[43mexpanded_arrays\u001b[49m\u001b[43m,\u001b[49m\u001b[43m \u001b[49m\u001b[43maxis\u001b[49m\u001b[38;5;241;43m=\u001b[39;49m\u001b[43maxis\u001b[49m\u001b[43m,\u001b[49m\u001b[43m \u001b[49m\u001b[43mout\u001b[49m\u001b[38;5;241;43m=\u001b[39;49m\u001b[43mout\u001b[49m\u001b[43m,\u001b[49m\n\u001b[0;32m    457\u001b[0m \u001b[43m                       \u001b[49m\u001b[43mdtype\u001b[49m\u001b[38;5;241;43m=\u001b[39;49m\u001b[43mdtype\u001b[49m\u001b[43m,\u001b[49m\u001b[43m \u001b[49m\u001b[43mcasting\u001b[49m\u001b[38;5;241;43m=\u001b[39;49m\u001b[43mcasting\u001b[49m\u001b[43m)\u001b[49m\n",
      "\u001b[1;31mMemoryError\u001b[0m: Unable to allocate 19.1 GiB for an array with shape (50000, 50, 32, 32) and data type float64"
     ]
    }
   ],
   "source": [
    "green_to_features = cvtda.pipelines.GreyscaleToFeatures(\n",
    "    dump_directory = \"1/green\",\n",
    "    with_pointclouds = False,\n",
    "    binarizer_threshold = 0.4,\n",
    "    radial_filtration_centers_x = [ 3, 8, 13, 18, 23, 28 ],\n",
    "    radial_filtration_centers_y = [ 3, 8, 13, 18, 23, 28 ]\n",
    ")\n",
    "train_green_features = green_to_features.fit_transform(train_images[:, 1, :, :], \"train\")\n",
    "test_green_features = green_to_features.transform(test_images[:, 1, :, :], \"test\")\n",
    "\n",
    "train_green_features.shape, test_green_features.shape"
   ]
  },
  {
   "cell_type": "code",
   "execution_count": 8,
   "metadata": {},
   "outputs": [
    {
     "data": {
      "text/plain": [
       "139"
      ]
     },
     "execution_count": 8,
     "metadata": {},
     "output_type": "execute_result"
    }
   ],
   "source": [
    "del green_to_features\n",
    "gc.collect()"
   ]
  },
  {
   "cell_type": "code",
   "execution_count": 4,
   "metadata": {},
   "outputs": [
    {
     "name": "stdout",
     "output_type": "stream",
     "text": [
      "> Filtrations\n",
      "Fitting the binarizer\n"
     ]
    },
    {
     "name": "stderr",
     "output_type": "stream",
     "text": [
      "Fitting the filtrations: 100%|██████████| 49/49 [00:00<00:00, 2977.79it/s]\n"
     ]
    },
    {
     "name": "stdout",
     "output_type": "stream",
     "text": [
      "Fitting complete\n"
     ]
    },
    {
     "name": "stderr",
     "output_type": "stream",
     "text": [
      "Filtrations: 100%|██████████| 49/49 [01:11<00:00,  1.46s/it]\n"
     ]
    },
    {
     "name": "stdout",
     "output_type": "stream",
     "text": [
      "Fitting the persistence\n",
      "Fitting complete\n",
      "Got the result from 1/blue/train\\filtration_diagrams.npy\n",
      "> Filtration diagrams shape: (2500000, 110, 3)\n",
      "> Filtration features\n",
      "Fitting the calculator\n",
      "Fitting the filtering\n",
      "Fitting the betti curve\n",
      "Fitting the persistence landscape\n"
     ]
    },
    {
     "name": "stderr",
     "output_type": "stream",
     "text": [
      "Fitting the silhouettes: 100%|██████████| 2/2 [00:32<00:00, 16.48s/it]\n"
     ]
    },
    {
     "name": "stdout",
     "output_type": "stream",
     "text": [
      "Fitting the persistence entropy\n",
      "Fitting the number of points\n"
     ]
    },
    {
     "name": "stderr",
     "output_type": "stream",
     "text": [
      "Fitting the heat kernels: 100%|██████████| 3/3 [00:48<00:00, 16.27s/it]\n",
      "Fitting the persistence images: 100%|██████████| 3/3 [00:56<00:00, 18.69s/it]\n"
     ]
    },
    {
     "name": "stdout",
     "output_type": "stream",
     "text": [
      "Fitting complete\n",
      "Got the result from 1/blue/train\\filtration_features.npy\n",
      "> Filtration features shape: (2500000, 260)\n",
      "> Features shape: (50000, 13000)\n",
      "> Filtrations\n"
     ]
    },
    {
     "name": "stderr",
     "output_type": "stream",
     "text": [
      "Filtrations: 100%|██████████| 49/49 [01:10<00:00,  1.43s/it]\n"
     ]
    },
    {
     "name": "stdout",
     "output_type": "stream",
     "text": [
      "Got the result from 1/blue/train\\filtration_diagrams.npy\n",
      "> Filtration diagrams shape: (2500000, 110, 3)\n",
      "> Filtration features\n",
      "Got the result from 1/blue/train\\filtration_features.npy\n",
      "> Filtration features shape: (2500000, 260)\n",
      "> Features shape: (50000, 13000)\n",
      "> Filtrations\n"
     ]
    },
    {
     "name": "stderr",
     "output_type": "stream",
     "text": [
      "Filtrations: 100%|██████████| 49/49 [00:13<00:00,  3.75it/s]\n"
     ]
    },
    {
     "name": "stdout",
     "output_type": "stream",
     "text": [
      "Calculating the persistence\n",
      "Saving the result to 1/blue/test\\filtration_diagrams.npy\n",
      "> Filtration diagrams shape: (500000, 107, 3)\n",
      "> Filtration features\n"
     ]
    },
    {
     "name": "stderr",
     "output_type": "stream",
     "text": [
      "Batch:   0%|          | 0/123 [00:00<?, ?it/s]d:\\Programs\\Programming\\Python\\lib\\site-packages\\joblib\\externals\\loky\\process_executor.py:752: UserWarning: A worker stopped while some jobs were given to the executor. This can be caused by a too short worker timeout or by a memory leak.\n",
      "  warnings.warn(\n",
      "Batch: 100%|██████████| 123/123 [01:45<00:00,  1.17it/s]\n"
     ]
    },
    {
     "name": "stdout",
     "output_type": "stream",
     "text": [
      "Saving the result to 1/blue/test\\filtration_features.npy\n",
      "> Filtration features shape: (500000, 260)\n",
      "> Features shape: (10000, 13000)\n"
     ]
    },
    {
     "data": {
      "text/plain": [
       "((50000, 13000), (10000, 13000))"
      ]
     },
     "execution_count": 4,
     "metadata": {},
     "output_type": "execute_result"
    }
   ],
   "source": [
    "blue_to_features = cvtda.pipelines.GreyscaleToFeatures(\n",
    "    dump_directory = \"1/blue\",\n",
    "    with_pointclouds = False,\n",
    "    binarizer_threshold = 0.4,\n",
    "    radial_filtration_centers_x = [ 3, 8, 13, 18, 23, 28 ],\n",
    "    radial_filtration_centers_y = [ 3, 8, 13, 18, 23, 28 ]\n",
    ")\n",
    "train_blue_features = blue_to_features.fit_transform(train_images[:, 2, :, :], \"train\")\n",
    "test_blue_features = blue_to_features.transform(test_images[:, 2, :, :], \"test\")\n",
    "\n",
    "train_blue_features.shape, test_blue_features.shape"
   ]
  },
  {
   "cell_type": "code",
   "execution_count": 10,
   "metadata": {},
   "outputs": [
    {
     "data": {
      "text/plain": [
       "139"
      ]
     },
     "execution_count": 10,
     "metadata": {},
     "output_type": "execute_result"
    }
   ],
   "source": [
    "del blue_to_features\n",
    "gc.collect()"
   ]
  },
  {
   "cell_type": "markdown",
   "metadata": {},
   "source": [
    "### Analyze features"
   ]
  },
  {
   "cell_type": "code",
   "execution_count": 3,
   "metadata": {},
   "outputs": [
    {
     "data": {
      "text/plain": [
       "(50000, 39000)"
      ]
     },
     "execution_count": 3,
     "metadata": {},
     "output_type": "execute_result"
    }
   ],
   "source": [
    "train_features = numpy.minimum(\n",
    "    numpy.hstack([\n",
    "        numpy.load(\"1/red/train/filtration_features.npy\").reshape((len(train_images), -1)),\n",
    "        numpy.load(\"1/green/train/filtration_features.npy\").reshape((len(train_images), -1)),\n",
    "        numpy.load(\"1/blue/train/filtration_features.npy\").reshape((len(train_images), -1)),\n",
    "    ]),\n",
    "    600000\n",
    ")\n",
    "train_features.shape"
   ]
  },
  {
   "cell_type": "code",
   "execution_count": 4,
   "metadata": {},
   "outputs": [
    {
     "data": {
      "text/plain": [
       "(10000, 39000)"
      ]
     },
     "execution_count": 4,
     "metadata": {},
     "output_type": "execute_result"
    }
   ],
   "source": [
    "test_features = numpy.minimum(\n",
    "    numpy.hstack([\n",
    "        numpy.load(\"1/red/test/filtration_features.npy\").reshape((len(test_images), -1)),\n",
    "        numpy.load(\"1/green/test/filtration_features.npy\").reshape((len(test_images), -1)),\n",
    "        numpy.load(\"1/blue/test/filtration_features.npy\").reshape((len(test_images), -1)),\n",
    "    ]),\n",
    "    600000\n",
    ")\n",
    "test_features.shape"
   ]
  },
  {
   "cell_type": "code",
   "execution_count": 5,
   "metadata": {},
   "outputs": [
    {
     "name": "stderr",
     "output_type": "stream",
     "text": [
      "100%|██████████| 39000/39000 [00:43<00:00, 904.98it/s] \n"
     ]
    }
   ],
   "source": [
    "import tqdm\n",
    "\n",
    "ok_features = []\n",
    "for idx in tqdm.trange(train_features.shape[1]):\n",
    "    if numpy.std(train_features[:, idx]) > 1e-6:\n",
    "        ok_features.append(idx)\n",
    "\n",
    "train_features = train_features[:, ok_features]\n",
    "test_features = test_features[:, ok_features]"
   ]
  },
  {
   "cell_type": "code",
   "execution_count": 7,
   "metadata": {},
   "outputs": [
    {
     "name": "stderr",
     "output_type": "stream",
     "text": [
      "100%|██████████| 17520/17520 [01:47<00:00, 163.57it/s, partition_by=20483, num_features=2, duplicates=9152]  \n"
     ]
    },
    {
     "name": "stdout",
     "output_type": "stream",
     "text": [
      "Found 9153 duplicates\n"
     ]
    },
    {
     "data": {
      "text/plain": [
       "((50000, 24084), (10000, 24084))"
      ]
     },
     "execution_count": 7,
     "metadata": {},
     "output_type": "execute_result"
    }
   ],
   "source": [
    "import cvtda.utils\n",
    "\n",
    "duplicates_remover = cvtda.utils.DuplicateFeaturesRemover()\n",
    "train_features = duplicates_remover.fit_transform(train_features)\n",
    "test_features = duplicates_remover.transform(test_features)\n",
    "\n",
    "train_features.shape, test_features.shape"
   ]
  },
  {
   "cell_type": "code",
   "execution_count": 8,
   "metadata": {},
   "outputs": [],
   "source": [
    "numpy.save(\"1/inv_train_features.npy\", train_features)\n",
    "numpy.save(\"1/inv_test_features.npy\", test_features)"
   ]
  },
  {
   "cell_type": "code",
   "execution_count": 3,
   "metadata": {},
   "outputs": [],
   "source": [
    "train_features = numpy.load(\"1/raw_train_features.npy\")\n",
    "test_features = numpy.load(\"1/raw_test_features.npy\")"
   ]
  },
  {
   "cell_type": "code",
   "execution_count": 4,
   "metadata": {},
   "outputs": [
    {
     "name": "stderr",
     "output_type": "stream",
     "text": [
      "100%|██████████| 39000/39000 [00:36<00:00, 1077.63it/s]\n"
     ]
    }
   ],
   "source": [
    "import tqdm\n",
    "\n",
    "ok_features = []\n",
    "for idx in tqdm.trange(train_features.shape[1]):\n",
    "    if numpy.std(train_features[:, idx]) > 1e-6:\n",
    "        ok_features.append(idx)\n",
    "\n",
    "train_features = train_features[:, ok_features]\n",
    "test_features = test_features[:, ok_features]"
   ]
  },
  {
   "cell_type": "code",
   "execution_count": 6,
   "metadata": {},
   "outputs": [
    {
     "name": "stderr",
     "output_type": "stream",
     "text": [
      "100%|██████████| 18117/18117 [01:36<00:00, 187.70it/s, partition_by=34976, num_features=2, duplicates=9113]  \n"
     ]
    },
    {
     "name": "stdout",
     "output_type": "stream",
     "text": [
      "Found 9114 duplicates\n"
     ]
    },
    {
     "data": {
      "text/plain": [
       "((50000, 24025), (10000, 24025))"
      ]
     },
     "execution_count": 6,
     "metadata": {},
     "output_type": "execute_result"
    }
   ],
   "source": [
    "import cvtda.utils\n",
    "\n",
    "duplicates_remover = cvtda.utils.DuplicateFeaturesRemover()\n",
    "train_features = duplicates_remover.fit_transform(train_features)\n",
    "test_features = duplicates_remover.transform(test_features)\n",
    "\n",
    "train_features.shape, test_features.shape"
   ]
  },
  {
   "cell_type": "code",
   "execution_count": 7,
   "metadata": {},
   "outputs": [],
   "source": [
    "numpy.save(\"1/raw_train_features.npy\", train_features)\n",
    "numpy.save(\"1/raw_test_features.npy\", test_features)"
   ]
  },
  {
   "cell_type": "code",
   "execution_count": 3,
   "metadata": {},
   "outputs": [
    {
     "data": {
      "text/plain": [
       "(50000, 48109)"
      ]
     },
     "execution_count": 3,
     "metadata": {},
     "output_type": "execute_result"
    }
   ],
   "source": [
    "train_features = numpy.minimum(\n",
    "    numpy.hstack([\n",
    "        numpy.load(\"1/raw_train_features.npy\"),\n",
    "        numpy.load(\"1/inv_train_features.npy\")\n",
    "    ]),\n",
    "    600000\n",
    ")\n",
    "train_features.shape"
   ]
  },
  {
   "cell_type": "code",
   "execution_count": 4,
   "metadata": {},
   "outputs": [
    {
     "data": {
      "text/plain": [
       "(10000, 48109)"
      ]
     },
     "execution_count": 4,
     "metadata": {},
     "output_type": "execute_result"
    }
   ],
   "source": [
    "test_features = numpy.minimum(\n",
    "    numpy.hstack([\n",
    "        numpy.load(\"1/raw_test_features.npy\"),\n",
    "        numpy.load(\"1/inv_test_features.npy\")\n",
    "    ]),\n",
    "    600000\n",
    ")\n",
    "test_features.shape"
   ]
  },
  {
   "cell_type": "code",
   "execution_count": 5,
   "metadata": {},
   "outputs": [
    {
     "name": "stderr",
     "output_type": "stream",
     "text": [
      "100%|██████████| 48109/48109 [00:19<00:00, 2478.03it/s]\n"
     ]
    }
   ],
   "source": [
    "import tqdm\n",
    "\n",
    "ok_features = []\n",
    "for idx in tqdm.trange(train_features.shape[1]):\n",
    "    if numpy.std(train_features[:, idx]) > 1e-6:\n",
    "        ok_features.append(idx)\n",
    "\n",
    "train_features = train_features[:, ok_features]\n",
    "test_features = test_features[:, ok_features]"
   ]
  },
  {
   "cell_type": "code",
   "execution_count": 7,
   "metadata": {},
   "outputs": [
    {
     "name": "stderr",
     "output_type": "stream",
     "text": [
      "100%|██████████| 28215/28215 [03:00<00:00, 156.52it/s, partition_by=40278, num_features=2, duplicates=7984]  \n"
     ]
    },
    {
     "name": "stdout",
     "output_type": "stream",
     "text": [
      "Found 7985 duplicates\n"
     ]
    },
    {
     "data": {
      "text/plain": [
       "((50000, 40124), (10000, 40124))"
      ]
     },
     "execution_count": 7,
     "metadata": {},
     "output_type": "execute_result"
    }
   ],
   "source": [
    "import cvtda.utils\n",
    "\n",
    "duplicates_remover = cvtda.utils.DuplicateFeaturesRemover()\n",
    "train_features = duplicates_remover.fit_transform(train_features)\n",
    "test_features = duplicates_remover.transform(test_features)\n",
    "\n",
    "train_features.shape, test_features.shape"
   ]
  },
  {
   "cell_type": "code",
   "execution_count": 3,
   "metadata": {},
   "outputs": [
    {
     "ename": "NameError",
     "evalue": "name 'train_features' is not defined",
     "output_type": "error",
     "traceback": [
      "\u001b[1;31m---------------------------------------------------------------------------\u001b[0m",
      "\u001b[1;31mNameError\u001b[0m                                 Traceback (most recent call last)",
      "Cell \u001b[1;32mIn[3], line 1\u001b[0m\n\u001b[1;32m----> 1\u001b[0m numpy\u001b[38;5;241m.\u001b[39msave(\u001b[38;5;124m\"\u001b[39m\u001b[38;5;124m1/train_features.npy\u001b[39m\u001b[38;5;124m\"\u001b[39m, \u001b[43mtrain_features\u001b[49m)\n\u001b[0;32m      2\u001b[0m numpy\u001b[38;5;241m.\u001b[39msave(\u001b[38;5;124m\"\u001b[39m\u001b[38;5;124m1/test_features.npy\u001b[39m\u001b[38;5;124m\"\u001b[39m, test_features)\n",
      "\u001b[1;31mNameError\u001b[0m: name 'train_features' is not defined"
     ]
    }
   ],
   "source": [
    "numpy.save(\"1/train_features.npy\", train_features)\n",
    "numpy.save(\"1/test_features.npy\", test_features)"
   ]
  },
  {
   "cell_type": "markdown",
   "metadata": {},
   "source": [
    "### StandardScaler"
   ]
  },
  {
   "cell_type": "code",
   "execution_count": 4,
   "metadata": {},
   "outputs": [],
   "source": [
    "import cvtda.classification"
   ]
  },
  {
   "cell_type": "code",
   "execution_count": 5,
   "metadata": {},
   "outputs": [
    {
     "data": {
      "text/plain": [
       "((50000, 40124), (10000, 40124))"
      ]
     },
     "execution_count": 5,
     "metadata": {},
     "output_type": "execute_result"
    }
   ],
   "source": [
    "train_features = numpy.load(\"1/train_features.npy\")\n",
    "test_features = numpy.load(\"1/test_features.npy\")\n",
    "\n",
    "train_features.shape, test_features.shape"
   ]
  },
  {
   "cell_type": "code",
   "execution_count": 6,
   "metadata": {},
   "outputs": [
    {
     "data": {
      "text/plain": [
       "((50000, 40124), (10000, 40124))"
      ]
     },
     "execution_count": 6,
     "metadata": {},
     "output_type": "execute_result"
    }
   ],
   "source": [
    "import sklearn.preprocessing\n",
    "\n",
    "selected_standard_scaler = sklearn.preprocessing.StandardScaler()\n",
    "train_features = selected_standard_scaler.fit_transform(train_features)\n",
    "test_features = selected_standard_scaler.transform(test_features)\n",
    "\n",
    "train_features.shape, test_features.shape"
   ]
  },
  {
   "cell_type": "markdown",
   "metadata": {},
   "source": [
    "### InformationValueFeatureSelector"
   ]
  },
  {
   "cell_type": "code",
   "execution_count": 7,
   "metadata": {},
   "outputs": [
    {
     "name": "stdout",
     "output_type": "stream",
     "text": [
      "Fitting the information value feature selector\n"
     ]
    },
    {
     "name": "stderr",
     "output_type": "stream",
     "text": [
      "information values: 100%|██████████| 40124/40124 [06:49<00:00, 97.88it/s] \n"
     ]
    },
    {
     "name": "stdout",
     "output_type": "stream",
     "text": [
      "Fitting complete\n"
     ]
    },
    {
     "data": {
      "text/plain": [
       "((50000, 19366), (10000, 19366))"
      ]
     },
     "execution_count": 7,
     "metadata": {},
     "output_type": "execute_result"
    },
    {
     "data": {
      "image/png": "[encoded data removed]",
      "text/plain": [
       "<Figure size 640x480 with 1 Axes>"
      ]
     },
     "metadata": {},
     "output_type": "display_data"
    }
   ],
   "source": [
    "import cvtda.classification\n",
    "\n",
    "feature_selector = cvtda.classification.InformationValueFeatureSelector(threshold = 0.1, bins = 50)\n",
    "\n",
    "train_features = feature_selector.fit_transform(train_features, train_labels)\n",
    "test_features = feature_selector.transform(test_features)\n",
    "\n",
    "feature_selector.hist()\n",
    "\n",
    "train_features.shape, test_features.shape"
   ]
  },
  {
   "cell_type": "code",
   "execution_count": 8,
   "metadata": {},
   "outputs": [
    {
     "name": "stdout",
     "output_type": "stream",
     "text": [
      "Fitting HistGradientBoostingClassifier(max_depth=4, max_features=0.1, max_iter=20,\n",
      "                               random_state=42)\n",
      "{'classifier': 'HistGradientBoostingClassifier', 'Accuracy': 0.4284, 'TOP-2 Accuracy': 0.6256, 'TOP-3 Accuracy': 0.7385, 'TOP-4 Accuracy': 0.8182, 'TOP-5 Accuracy': 0.871, 'TOP-6 Accuracy': 0.916, 'TOP-7 Accuracy': 0.9509, 'TOP-8 Accuracy': 0.9743, 'TOP-9 Accuracy': 0.9902, 'AUC-ROC': 0.8365055555555554, 'Precision': 0.42130168870344586, 'Recall': 0.4284, 'F1-score': 0.42090849734600333}\n",
      "Fitting <catboost.core.CatBoostClassifier object at 0x000001B1E0643CA0>\n",
      "Learning rate set to 0.309284\n",
      "0:\tlearn: 2.1856022\ttotal: 687ms\tremaining: 4m 34s\n",
      "1:\tlearn: 2.1114553\ttotal: 1.25s\tremaining: 4m 9s\n",
      "2:\tlearn: 2.0580584\ttotal: 1.73s\tremaining: 3m 49s\n",
      "3:\tlearn: 2.0171247\ttotal: 2.21s\tremaining: 3m 39s\n",
      "4:\tlearn: 1.9840194\ttotal: 2.72s\tremaining: 3m 34s\n",
      "5:\tlearn: 1.9555150\ttotal: 3.3s\tremaining: 3m 36s\n",
      "6:\tlearn: 1.9287944\ttotal: 3.87s\tremaining: 3m 37s\n",
      "7:\tlearn: 1.9100331\ttotal: 4.38s\tremaining: 3m 34s\n",
      "8:\tlearn: 1.8903334\ttotal: 4.94s\tremaining: 3m 34s\n",
      "9:\tlearn: 1.8724911\ttotal: 5.46s\tremaining: 3m 32s\n",
      "10:\tlearn: 1.8571994\ttotal: 5.97s\tremaining: 3m 31s\n",
      "11:\tlearn: 1.8423988\ttotal: 6.47s\tremaining: 3m 29s\n",
      "12:\tlearn: 1.8264575\ttotal: 6.98s\tremaining: 3m 27s\n",
      "13:\tlearn: 1.8124255\ttotal: 7.48s\tremaining: 3m 26s\n",
      "14:\tlearn: 1.7985894\ttotal: 8.01s\tremaining: 3m 25s\n",
      "15:\tlearn: 1.7884219\ttotal: 8.51s\tremaining: 3m 24s\n",
      "16:\tlearn: 1.7785220\ttotal: 9.02s\tremaining: 3m 23s\n",
      "17:\tlearn: 1.7671214\ttotal: 9.56s\tremaining: 3m 23s\n",
      "18:\tlearn: 1.7576256\ttotal: 10.1s\tremaining: 3m 22s\n",
      "19:\tlearn: 1.7487664\ttotal: 10.6s\tremaining: 3m 21s\n",
      "20:\tlearn: 1.7409673\ttotal: 11.1s\tremaining: 3m 20s\n",
      "21:\tlearn: 1.7322355\ttotal: 11.6s\tremaining: 3m 19s\n",
      "22:\tlearn: 1.7235019\ttotal: 12.1s\tremaining: 3m 18s\n",
      "23:\tlearn: 1.7153503\ttotal: 12.7s\tremaining: 3m 18s\n",
      "24:\tlearn: 1.7068081\ttotal: 13.2s\tremaining: 3m 17s\n",
      "25:\tlearn: 1.6994634\ttotal: 13.7s\tremaining: 3m 17s\n",
      "26:\tlearn: 1.6932288\ttotal: 14.2s\tremaining: 3m 15s\n",
      "27:\tlearn: 1.6843856\ttotal: 14.7s\tremaining: 3m 15s\n",
      "28:\tlearn: 1.6779075\ttotal: 15.2s\tremaining: 3m 14s\n",
      "29:\tlearn: 1.6709869\ttotal: 15.7s\tremaining: 3m 13s\n",
      "30:\tlearn: 1.6644309\ttotal: 16.2s\tremaining: 3m 13s\n",
      "31:\tlearn: 1.6589381\ttotal: 16.8s\tremaining: 3m 12s\n",
      "32:\tlearn: 1.6537242\ttotal: 17.2s\tremaining: 3m 11s\n",
      "33:\tlearn: 1.6482517\ttotal: 17.7s\tremaining: 3m 10s\n",
      "34:\tlearn: 1.6423975\ttotal: 18.2s\tremaining: 3m 10s\n",
      "35:\tlearn: 1.6366198\ttotal: 18.7s\tremaining: 3m 9s\n",
      "36:\tlearn: 1.6308923\ttotal: 19.3s\tremaining: 3m 8s\n",
      "37:\tlearn: 1.6259811\ttotal: 19.8s\tremaining: 3m 8s\n",
      "38:\tlearn: 1.6211675\ttotal: 20.2s\tremaining: 3m 7s\n",
      "39:\tlearn: 1.6159598\ttotal: 20.7s\tremaining: 3m 6s\n",
      "40:\tlearn: 1.6105053\ttotal: 21.3s\tremaining: 3m 6s\n",
      "41:\tlearn: 1.6056930\ttotal: 21.7s\tremaining: 3m 5s\n",
      "42:\tlearn: 1.6010531\ttotal: 22.3s\tremaining: 3m 4s\n",
      "43:\tlearn: 1.5973192\ttotal: 22.7s\tremaining: 3m 3s\n",
      "44:\tlearn: 1.5933325\ttotal: 23.2s\tremaining: 3m 2s\n",
      "45:\tlearn: 1.5879737\ttotal: 23.7s\tremaining: 3m 2s\n",
      "46:\tlearn: 1.5838945\ttotal: 24.2s\tremaining: 3m 1s\n",
      "47:\tlearn: 1.5791741\ttotal: 24.6s\tremaining: 3m\n",
      "48:\tlearn: 1.5743180\ttotal: 25.1s\tremaining: 3m\n",
      "49:\tlearn: 1.5706044\ttotal: 25.6s\tremaining: 2m 59s\n",
      "50:\tlearn: 1.5671492\ttotal: 26s\tremaining: 2m 58s\n",
      "51:\tlearn: 1.5629567\ttotal: 26.6s\tremaining: 2m 57s\n",
      "52:\tlearn: 1.5582498\ttotal: 27.1s\tremaining: 2m 57s\n",
      "53:\tlearn: 1.5547548\ttotal: 27.6s\tremaining: 2m 56s\n",
      "54:\tlearn: 1.5505627\ttotal: 28.1s\tremaining: 2m 56s\n",
      "55:\tlearn: 1.5461616\ttotal: 28.6s\tremaining: 2m 55s\n",
      "56:\tlearn: 1.5422903\ttotal: 29.1s\tremaining: 2m 55s\n",
      "57:\tlearn: 1.5395089\ttotal: 29.6s\tremaining: 2m 54s\n",
      "58:\tlearn: 1.5362370\ttotal: 30.1s\tremaining: 2m 53s\n",
      "59:\tlearn: 1.5326420\ttotal: 30.6s\tremaining: 2m 53s\n",
      "60:\tlearn: 1.5287187\ttotal: 31.1s\tremaining: 2m 52s\n",
      "61:\tlearn: 1.5244030\ttotal: 31.6s\tremaining: 2m 52s\n",
      "62:\tlearn: 1.5207378\ttotal: 32.1s\tremaining: 2m 51s\n",
      "63:\tlearn: 1.5169611\ttotal: 32.6s\tremaining: 2m 51s\n",
      "64:\tlearn: 1.5147908\ttotal: 33s\tremaining: 2m 50s\n",
      "65:\tlearn: 1.5119698\ttotal: 33.5s\tremaining: 2m 49s\n",
      "66:\tlearn: 1.5081937\ttotal: 34s\tremaining: 2m 48s\n",
      "67:\tlearn: 1.5048166\ttotal: 34.5s\tremaining: 2m 48s\n",
      "68:\tlearn: 1.5017891\ttotal: 35s\tremaining: 2m 47s\n",
      "69:\tlearn: 1.4997347\ttotal: 35.4s\tremaining: 2m 46s\n",
      "70:\tlearn: 1.4967955\ttotal: 35.9s\tremaining: 2m 46s\n",
      "71:\tlearn: 1.4940216\ttotal: 36.4s\tremaining: 2m 45s\n",
      "72:\tlearn: 1.4910716\ttotal: 36.9s\tremaining: 2m 45s\n",
      "73:\tlearn: 1.4881373\ttotal: 37.4s\tremaining: 2m 44s\n",
      "74:\tlearn: 1.4857655\ttotal: 37.9s\tremaining: 2m 44s\n",
      "75:\tlearn: 1.4827209\ttotal: 38.4s\tremaining: 2m 43s\n",
      "76:\tlearn: 1.4803044\ttotal: 38.9s\tremaining: 2m 43s\n",
      "77:\tlearn: 1.4772078\ttotal: 39.4s\tremaining: 2m 42s\n",
      "78:\tlearn: 1.4743847\ttotal: 39.9s\tremaining: 2m 42s\n",
      "79:\tlearn: 1.4723031\ttotal: 40.3s\tremaining: 2m 41s\n",
      "80:\tlearn: 1.4695209\ttotal: 40.8s\tremaining: 2m 40s\n",
      "81:\tlearn: 1.4672608\ttotal: 41.3s\tremaining: 2m 40s\n",
      "82:\tlearn: 1.4645122\ttotal: 41.8s\tremaining: 2m 39s\n",
      "83:\tlearn: 1.4629598\ttotal: 42.2s\tremaining: 2m 38s\n",
      "84:\tlearn: 1.4601611\ttotal: 42.8s\tremaining: 2m 38s\n",
      "85:\tlearn: 1.4578934\ttotal: 43.2s\tremaining: 2m 37s\n",
      "86:\tlearn: 1.4551348\ttotal: 43.7s\tremaining: 2m 37s\n",
      "87:\tlearn: 1.4525456\ttotal: 44.3s\tremaining: 2m 36s\n",
      "88:\tlearn: 1.4501391\ttotal: 44.8s\tremaining: 2m 36s\n",
      "89:\tlearn: 1.4472391\ttotal: 45.3s\tremaining: 2m 35s\n",
      "90:\tlearn: 1.4447759\ttotal: 45.7s\tremaining: 2m 35s\n",
      "91:\tlearn: 1.4418895\ttotal: 46.3s\tremaining: 2m 34s\n",
      "92:\tlearn: 1.4399520\ttotal: 46.7s\tremaining: 2m 34s\n",
      "93:\tlearn: 1.4370197\ttotal: 47.2s\tremaining: 2m 33s\n",
      "94:\tlearn: 1.4346525\ttotal: 47.7s\tremaining: 2m 33s\n",
      "95:\tlearn: 1.4330170\ttotal: 48.1s\tremaining: 2m 32s\n",
      "96:\tlearn: 1.4305795\ttotal: 48.5s\tremaining: 2m 31s\n",
      "97:\tlearn: 1.4278994\ttotal: 49.1s\tremaining: 2m 31s\n",
      "98:\tlearn: 1.4251416\ttotal: 49.6s\tremaining: 2m 30s\n",
      "99:\tlearn: 1.4224944\ttotal: 50.2s\tremaining: 2m 30s\n",
      "100:\tlearn: 1.4203489\ttotal: 50.6s\tremaining: 2m 29s\n",
      "101:\tlearn: 1.4171908\ttotal: 51.2s\tremaining: 2m 29s\n",
      "102:\tlearn: 1.4142655\ttotal: 51.7s\tremaining: 2m 29s\n",
      "103:\tlearn: 1.4119505\ttotal: 52.2s\tremaining: 2m 28s\n",
      "104:\tlearn: 1.4104105\ttotal: 52.6s\tremaining: 2m 27s\n",
      "105:\tlearn: 1.4089619\ttotal: 53.1s\tremaining: 2m 27s\n",
      "106:\tlearn: 1.4065036\ttotal: 53.6s\tremaining: 2m 26s\n",
      "107:\tlearn: 1.4048363\ttotal: 54s\tremaining: 2m 26s\n",
      "108:\tlearn: 1.4024125\ttotal: 54.6s\tremaining: 2m 25s\n",
      "109:\tlearn: 1.4004739\ttotal: 55.1s\tremaining: 2m 25s\n",
      "110:\tlearn: 1.3989436\ttotal: 55.6s\tremaining: 2m 24s\n",
      "111:\tlearn: 1.3968058\ttotal: 56.1s\tremaining: 2m 24s\n",
      "112:\tlearn: 1.3947003\ttotal: 56.6s\tremaining: 2m 23s\n",
      "113:\tlearn: 1.3924564\ttotal: 57.1s\tremaining: 2m 23s\n",
      "114:\tlearn: 1.3907314\ttotal: 57.6s\tremaining: 2m 22s\n",
      "115:\tlearn: 1.3879769\ttotal: 58.1s\tremaining: 2m 22s\n",
      "116:\tlearn: 1.3862212\ttotal: 58.6s\tremaining: 2m 21s\n",
      "117:\tlearn: 1.3843441\ttotal: 59s\tremaining: 2m 21s\n",
      "118:\tlearn: 1.3821980\ttotal: 59.6s\tremaining: 2m 20s\n",
      "119:\tlearn: 1.3807383\ttotal: 60s\tremaining: 2m 19s\n",
      "120:\tlearn: 1.3793808\ttotal: 1m\tremaining: 2m 19s\n",
      "121:\tlearn: 1.3776947\ttotal: 1m\tremaining: 2m 18s\n",
      "122:\tlearn: 1.3764778\ttotal: 1m 1s\tremaining: 2m 17s\n",
      "123:\tlearn: 1.3747556\ttotal: 1m 1s\tremaining: 2m 17s\n",
      "124:\tlearn: 1.3730284\ttotal: 1m 2s\tremaining: 2m 16s\n",
      "125:\tlearn: 1.3708817\ttotal: 1m 2s\tremaining: 2m 16s\n",
      "126:\tlearn: 1.3690189\ttotal: 1m 3s\tremaining: 2m 15s\n",
      "127:\tlearn: 1.3674091\ttotal: 1m 3s\tremaining: 2m 15s\n",
      "128:\tlearn: 1.3657045\ttotal: 1m 4s\tremaining: 2m 14s\n",
      "129:\tlearn: 1.3637184\ttotal: 1m 4s\tremaining: 2m 13s\n",
      "130:\tlearn: 1.3624020\ttotal: 1m 4s\tremaining: 2m 13s\n",
      "131:\tlearn: 1.3604270\ttotal: 1m 5s\tremaining: 2m 12s\n",
      "132:\tlearn: 1.3586463\ttotal: 1m 5s\tremaining: 2m 12s\n",
      "133:\tlearn: 1.3579922\ttotal: 1m 6s\tremaining: 2m 11s\n",
      "134:\tlearn: 1.3561883\ttotal: 1m 6s\tremaining: 2m 10s\n",
      "135:\tlearn: 1.3541481\ttotal: 1m 7s\tremaining: 2m 10s\n",
      "136:\tlearn: 1.3521867\ttotal: 1m 7s\tremaining: 2m 9s\n",
      "137:\tlearn: 1.3512577\ttotal: 1m 8s\tremaining: 2m 9s\n",
      "138:\tlearn: 1.3493703\ttotal: 1m 8s\tremaining: 2m 8s\n",
      "139:\tlearn: 1.3474956\ttotal: 1m 9s\tremaining: 2m 8s\n",
      "140:\tlearn: 1.3458092\ttotal: 1m 9s\tremaining: 2m 7s\n",
      "141:\tlearn: 1.3436630\ttotal: 1m 10s\tremaining: 2m 7s\n",
      "142:\tlearn: 1.3416956\ttotal: 1m 10s\tremaining: 2m 6s\n",
      "143:\tlearn: 1.3397592\ttotal: 1m 11s\tremaining: 2m 6s\n",
      "144:\tlearn: 1.3377669\ttotal: 1m 11s\tremaining: 2m 5s\n",
      "145:\tlearn: 1.3357838\ttotal: 1m 12s\tremaining: 2m 5s\n",
      "146:\tlearn: 1.3348773\ttotal: 1m 12s\tremaining: 2m 4s\n",
      "147:\tlearn: 1.3328481\ttotal: 1m 13s\tremaining: 2m 4s\n",
      "148:\tlearn: 1.3311177\ttotal: 1m 13s\tremaining: 2m 4s\n",
      "149:\tlearn: 1.3289834\ttotal: 1m 14s\tremaining: 2m 3s\n",
      "150:\tlearn: 1.3271809\ttotal: 1m 14s\tremaining: 2m 3s\n",
      "151:\tlearn: 1.3258397\ttotal: 1m 15s\tremaining: 2m 2s\n",
      "152:\tlearn: 1.3243536\ttotal: 1m 15s\tremaining: 2m 1s\n",
      "153:\tlearn: 1.3229698\ttotal: 1m 15s\tremaining: 2m 1s\n",
      "154:\tlearn: 1.3205245\ttotal: 1m 16s\tremaining: 2m\n",
      "155:\tlearn: 1.3181516\ttotal: 1m 17s\tremaining: 2m\n",
      "156:\tlearn: 1.3172036\ttotal: 1m 17s\tremaining: 1m 59s\n",
      "157:\tlearn: 1.3164172\ttotal: 1m 17s\tremaining: 1m 59s\n",
      "158:\tlearn: 1.3154847\ttotal: 1m 18s\tremaining: 1m 58s\n",
      "159:\tlearn: 1.3141494\ttotal: 1m 18s\tremaining: 1m 57s\n",
      "160:\tlearn: 1.3128208\ttotal: 1m 19s\tremaining: 1m 57s\n",
      "161:\tlearn: 1.3114305\ttotal: 1m 19s\tremaining: 1m 56s\n",
      "162:\tlearn: 1.3101343\ttotal: 1m 20s\tremaining: 1m 56s\n",
      "163:\tlearn: 1.3082335\ttotal: 1m 20s\tremaining: 1m 55s\n",
      "164:\tlearn: 1.3071242\ttotal: 1m 21s\tremaining: 1m 55s\n",
      "165:\tlearn: 1.3061262\ttotal: 1m 21s\tremaining: 1m 54s\n",
      "166:\tlearn: 1.3050907\ttotal: 1m 21s\tremaining: 1m 54s\n",
      "167:\tlearn: 1.3038559\ttotal: 1m 22s\tremaining: 1m 53s\n",
      "168:\tlearn: 1.3030834\ttotal: 1m 22s\tremaining: 1m 53s\n",
      "169:\tlearn: 1.3017655\ttotal: 1m 23s\tremaining: 1m 52s\n",
      "170:\tlearn: 1.3008916\ttotal: 1m 23s\tremaining: 1m 51s\n",
      "171:\tlearn: 1.2994945\ttotal: 1m 24s\tremaining: 1m 51s\n",
      "172:\tlearn: 1.2980838\ttotal: 1m 24s\tremaining: 1m 50s\n",
      "173:\tlearn: 1.2967099\ttotal: 1m 24s\tremaining: 1m 50s\n",
      "174:\tlearn: 1.2952096\ttotal: 1m 25s\tremaining: 1m 49s\n",
      "175:\tlearn: 1.2932811\ttotal: 1m 25s\tremaining: 1m 49s\n",
      "176:\tlearn: 1.2919045\ttotal: 1m 26s\tremaining: 1m 48s\n",
      "177:\tlearn: 1.2903145\ttotal: 1m 26s\tremaining: 1m 48s\n",
      "178:\tlearn: 1.2891964\ttotal: 1m 27s\tremaining: 1m 47s\n",
      "179:\tlearn: 1.2879970\ttotal: 1m 27s\tremaining: 1m 47s\n",
      "180:\tlearn: 1.2868623\ttotal: 1m 28s\tremaining: 1m 46s\n",
      "181:\tlearn: 1.2856231\ttotal: 1m 28s\tremaining: 1m 46s\n",
      "182:\tlearn: 1.2841970\ttotal: 1m 29s\tremaining: 1m 45s\n",
      "183:\tlearn: 1.2822707\ttotal: 1m 29s\tremaining: 1m 45s\n",
      "184:\tlearn: 1.2810339\ttotal: 1m 30s\tremaining: 1m 44s\n",
      "185:\tlearn: 1.2801148\ttotal: 1m 30s\tremaining: 1m 44s\n",
      "186:\tlearn: 1.2782014\ttotal: 1m 31s\tremaining: 1m 43s\n",
      "187:\tlearn: 1.2769711\ttotal: 1m 31s\tremaining: 1m 43s\n",
      "188:\tlearn: 1.2757406\ttotal: 1m 32s\tremaining: 1m 42s\n",
      "189:\tlearn: 1.2749265\ttotal: 1m 32s\tremaining: 1m 42s\n",
      "190:\tlearn: 1.2742850\ttotal: 1m 32s\tremaining: 1m 41s\n",
      "191:\tlearn: 1.2726819\ttotal: 1m 33s\tremaining: 1m 41s\n",
      "192:\tlearn: 1.2715362\ttotal: 1m 33s\tremaining: 1m 40s\n",
      "193:\tlearn: 1.2699855\ttotal: 1m 34s\tremaining: 1m 40s\n",
      "194:\tlearn: 1.2689021\ttotal: 1m 34s\tremaining: 1m 39s\n",
      "195:\tlearn: 1.2674439\ttotal: 1m 35s\tremaining: 1m 39s\n",
      "196:\tlearn: 1.2667186\ttotal: 1m 35s\tremaining: 1m 38s\n",
      "197:\tlearn: 1.2661857\ttotal: 1m 36s\tremaining: 1m 38s\n",
      "198:\tlearn: 1.2653593\ttotal: 1m 36s\tremaining: 1m 37s\n",
      "199:\tlearn: 1.2644528\ttotal: 1m 37s\tremaining: 1m 37s\n",
      "200:\tlearn: 1.2638489\ttotal: 1m 37s\tremaining: 1m 36s\n",
      "201:\tlearn: 1.2622459\ttotal: 1m 38s\tremaining: 1m 36s\n",
      "202:\tlearn: 1.2617048\ttotal: 1m 38s\tremaining: 1m 35s\n",
      "203:\tlearn: 1.2606318\ttotal: 1m 38s\tremaining: 1m 35s\n",
      "204:\tlearn: 1.2589339\ttotal: 1m 39s\tremaining: 1m 34s\n",
      "205:\tlearn: 1.2575927\ttotal: 1m 40s\tremaining: 1m 34s\n",
      "206:\tlearn: 1.2562088\ttotal: 1m 40s\tremaining: 1m 33s\n",
      "207:\tlearn: 1.2554628\ttotal: 1m 40s\tremaining: 1m 33s\n",
      "208:\tlearn: 1.2538743\ttotal: 1m 41s\tremaining: 1m 32s\n",
      "209:\tlearn: 1.2527959\ttotal: 1m 41s\tremaining: 1m 32s\n",
      "210:\tlearn: 1.2511814\ttotal: 1m 42s\tremaining: 1m 31s\n",
      "211:\tlearn: 1.2497123\ttotal: 1m 42s\tremaining: 1m 31s\n",
      "212:\tlearn: 1.2484834\ttotal: 1m 43s\tremaining: 1m 30s\n",
      "213:\tlearn: 1.2472057\ttotal: 1m 43s\tremaining: 1m 30s\n",
      "214:\tlearn: 1.2460414\ttotal: 1m 44s\tremaining: 1m 29s\n",
      "215:\tlearn: 1.2454361\ttotal: 1m 44s\tremaining: 1m 29s\n",
      "216:\tlearn: 1.2454178\ttotal: 1m 44s\tremaining: 1m 28s\n",
      "217:\tlearn: 1.2445995\ttotal: 1m 45s\tremaining: 1m 28s\n",
      "218:\tlearn: 1.2436118\ttotal: 1m 45s\tremaining: 1m 27s\n",
      "219:\tlearn: 1.2425745\ttotal: 1m 46s\tremaining: 1m 27s\n",
      "220:\tlearn: 1.2419880\ttotal: 1m 46s\tremaining: 1m 26s\n",
      "221:\tlearn: 1.2400455\ttotal: 1m 47s\tremaining: 1m 26s\n",
      "222:\tlearn: 1.2388329\ttotal: 1m 47s\tremaining: 1m 25s\n",
      "223:\tlearn: 1.2375002\ttotal: 1m 48s\tremaining: 1m 25s\n",
      "224:\tlearn: 1.2369119\ttotal: 1m 48s\tremaining: 1m 24s\n",
      "225:\tlearn: 1.2361129\ttotal: 1m 49s\tremaining: 1m 23s\n",
      "226:\tlearn: 1.2349955\ttotal: 1m 49s\tremaining: 1m 23s\n",
      "227:\tlearn: 1.2344285\ttotal: 1m 49s\tremaining: 1m 22s\n",
      "228:\tlearn: 1.2336068\ttotal: 1m 50s\tremaining: 1m 22s\n",
      "229:\tlearn: 1.2328800\ttotal: 1m 50s\tremaining: 1m 21s\n",
      "230:\tlearn: 1.2320161\ttotal: 1m 51s\tremaining: 1m 21s\n",
      "231:\tlearn: 1.2314784\ttotal: 1m 51s\tremaining: 1m 20s\n",
      "232:\tlearn: 1.2305942\ttotal: 1m 52s\tremaining: 1m 20s\n",
      "233:\tlearn: 1.2301820\ttotal: 1m 52s\tremaining: 1m 19s\n",
      "234:\tlearn: 1.2294298\ttotal: 1m 52s\tremaining: 1m 19s\n",
      "235:\tlearn: 1.2279636\ttotal: 1m 53s\tremaining: 1m 18s\n",
      "236:\tlearn: 1.2279276\ttotal: 1m 53s\tremaining: 1m 18s\n",
      "237:\tlearn: 1.2267179\ttotal: 1m 54s\tremaining: 1m 17s\n",
      "238:\tlearn: 1.2258564\ttotal: 1m 54s\tremaining: 1m 17s\n",
      "239:\tlearn: 1.2253205\ttotal: 1m 55s\tremaining: 1m 16s\n",
      "240:\tlearn: 1.2244313\ttotal: 1m 55s\tremaining: 1m 16s\n",
      "241:\tlearn: 1.2235770\ttotal: 1m 56s\tremaining: 1m 15s\n",
      "242:\tlearn: 1.2227867\ttotal: 1m 56s\tremaining: 1m 15s\n",
      "243:\tlearn: 1.2219353\ttotal: 1m 57s\tremaining: 1m 14s\n",
      "244:\tlearn: 1.2211634\ttotal: 1m 57s\tremaining: 1m 14s\n",
      "245:\tlearn: 1.2207580\ttotal: 1m 57s\tremaining: 1m 13s\n",
      "246:\tlearn: 1.2193869\ttotal: 1m 58s\tremaining: 1m 13s\n",
      "247:\tlearn: 1.2188566\ttotal: 1m 58s\tremaining: 1m 12s\n",
      "248:\tlearn: 1.2178607\ttotal: 1m 59s\tremaining: 1m 12s\n",
      "249:\tlearn: 1.2170167\ttotal: 1m 59s\tremaining: 1m 11s\n",
      "250:\tlearn: 1.2162515\ttotal: 2m\tremaining: 1m 11s\n",
      "251:\tlearn: 1.2153735\ttotal: 2m\tremaining: 1m 10s\n",
      "252:\tlearn: 1.2146791\ttotal: 2m 1s\tremaining: 1m 10s\n",
      "253:\tlearn: 1.2141316\ttotal: 2m 1s\tremaining: 1m 9s\n",
      "254:\tlearn: 1.2134766\ttotal: 2m 1s\tremaining: 1m 9s\n",
      "255:\tlearn: 1.2123500\ttotal: 2m 2s\tremaining: 1m 8s\n",
      "256:\tlearn: 1.2108563\ttotal: 2m 2s\tremaining: 1m 8s\n",
      "257:\tlearn: 1.2105611\ttotal: 2m 3s\tremaining: 1m 7s\n",
      "258:\tlearn: 1.2096047\ttotal: 2m 3s\tremaining: 1m 7s\n",
      "259:\tlearn: 1.2091113\ttotal: 2m 4s\tremaining: 1m 6s\n",
      "260:\tlearn: 1.2080920\ttotal: 2m 4s\tremaining: 1m 6s\n",
      "261:\tlearn: 1.2076722\ttotal: 2m 5s\tremaining: 1m 5s\n",
      "262:\tlearn: 1.2066092\ttotal: 2m 5s\tremaining: 1m 5s\n",
      "263:\tlearn: 1.2058117\ttotal: 2m 6s\tremaining: 1m 4s\n",
      "264:\tlearn: 1.2053224\ttotal: 2m 6s\tremaining: 1m 4s\n",
      "265:\tlearn: 1.2049462\ttotal: 2m 6s\tremaining: 1m 3s\n",
      "266:\tlearn: 1.2038659\ttotal: 2m 7s\tremaining: 1m 3s\n",
      "267:\tlearn: 1.2030740\ttotal: 2m 7s\tremaining: 1m 2s\n",
      "268:\tlearn: 1.2021971\ttotal: 2m 8s\tremaining: 1m 2s\n",
      "269:\tlearn: 1.2012134\ttotal: 2m 8s\tremaining: 1m 1s\n",
      "270:\tlearn: 1.2005300\ttotal: 2m 9s\tremaining: 1m 1s\n",
      "271:\tlearn: 1.2000335\ttotal: 2m 9s\tremaining: 1m\n",
      "272:\tlearn: 1.1982755\ttotal: 2m 9s\tremaining: 1m\n",
      "273:\tlearn: 1.1974252\ttotal: 2m 10s\tremaining: 59.9s\n",
      "274:\tlearn: 1.1968009\ttotal: 2m 10s\tremaining: 59.5s\n",
      "275:\tlearn: 1.1962343\ttotal: 2m 11s\tremaining: 58.9s\n",
      "276:\tlearn: 1.1959480\ttotal: 2m 11s\tremaining: 58.4s\n",
      "277:\tlearn: 1.1954862\ttotal: 2m 11s\tremaining: 57.9s\n",
      "278:\tlearn: 1.1942972\ttotal: 2m 12s\tremaining: 57.4s\n",
      "279:\tlearn: 1.1938581\ttotal: 2m 12s\tremaining: 56.9s\n",
      "280:\tlearn: 1.1932693\ttotal: 2m 13s\tremaining: 56.4s\n",
      "281:\tlearn: 1.1928237\ttotal: 2m 13s\tremaining: 55.9s\n",
      "282:\tlearn: 1.1923629\ttotal: 2m 13s\tremaining: 55.4s\n",
      "283:\tlearn: 1.1919566\ttotal: 2m 14s\tremaining: 54.8s\n",
      "284:\tlearn: 1.1915245\ttotal: 2m 14s\tremaining: 54.3s\n",
      "285:\tlearn: 1.1906864\ttotal: 2m 15s\tremaining: 53.8s\n",
      "286:\tlearn: 1.1899455\ttotal: 2m 15s\tremaining: 53.4s\n",
      "287:\tlearn: 1.1892855\ttotal: 2m 15s\tremaining: 52.9s\n",
      "288:\tlearn: 1.1883186\ttotal: 2m 16s\tremaining: 52.4s\n",
      "289:\tlearn: 1.1878993\ttotal: 2m 16s\tremaining: 51.9s\n",
      "290:\tlearn: 1.1869418\ttotal: 2m 17s\tremaining: 51.4s\n",
      "291:\tlearn: 1.1860856\ttotal: 2m 17s\tremaining: 50.9s\n",
      "292:\tlearn: 1.1856560\ttotal: 2m 17s\tremaining: 50.4s\n",
      "293:\tlearn: 1.1849143\ttotal: 2m 18s\tremaining: 49.9s\n",
      "294:\tlearn: 1.1846594\ttotal: 2m 18s\tremaining: 49.4s\n",
      "295:\tlearn: 1.1843120\ttotal: 2m 19s\tremaining: 48.9s\n",
      "296:\tlearn: 1.1833939\ttotal: 2m 19s\tremaining: 48.4s\n",
      "297:\tlearn: 1.1822241\ttotal: 2m 19s\tremaining: 47.9s\n",
      "298:\tlearn: 1.1814688\ttotal: 2m 20s\tremaining: 47.4s\n",
      "299:\tlearn: 1.1806284\ttotal: 2m 20s\tremaining: 46.9s\n",
      "300:\tlearn: 1.1800691\ttotal: 2m 21s\tremaining: 46.4s\n",
      "301:\tlearn: 1.1787070\ttotal: 2m 21s\tremaining: 46s\n",
      "302:\tlearn: 1.1779476\ttotal: 2m 22s\tremaining: 45.5s\n",
      "303:\tlearn: 1.1776259\ttotal: 2m 22s\tremaining: 45s\n",
      "304:\tlearn: 1.1774576\ttotal: 2m 22s\tremaining: 44.5s\n",
      "305:\tlearn: 1.1769836\ttotal: 2m 23s\tremaining: 44s\n",
      "306:\tlearn: 1.1765615\ttotal: 2m 23s\tremaining: 43.5s\n",
      "307:\tlearn: 1.1756328\ttotal: 2m 24s\tremaining: 43s\n",
      "308:\tlearn: 1.1746730\ttotal: 2m 24s\tremaining: 42.6s\n",
      "309:\tlearn: 1.1743527\ttotal: 2m 24s\tremaining: 42.1s\n",
      "310:\tlearn: 1.1734664\ttotal: 2m 25s\tremaining: 41.6s\n",
      "311:\tlearn: 1.1724546\ttotal: 2m 25s\tremaining: 41.1s\n",
      "312:\tlearn: 1.1716705\ttotal: 2m 26s\tremaining: 40.7s\n",
      "313:\tlearn: 1.1708543\ttotal: 2m 26s\tremaining: 40.2s\n",
      "314:\tlearn: 1.1699131\ttotal: 2m 27s\tremaining: 39.7s\n",
      "315:\tlearn: 1.1690378\ttotal: 2m 27s\tremaining: 39.2s\n",
      "316:\tlearn: 1.1685164\ttotal: 2m 27s\tremaining: 38.7s\n",
      "317:\tlearn: 1.1679585\ttotal: 2m 28s\tremaining: 38.3s\n",
      "318:\tlearn: 1.1675533\ttotal: 2m 28s\tremaining: 37.8s\n",
      "319:\tlearn: 1.1661358\ttotal: 2m 29s\tremaining: 37.3s\n",
      "320:\tlearn: 1.1655635\ttotal: 2m 29s\tremaining: 36.8s\n",
      "321:\tlearn: 1.1645320\ttotal: 2m 30s\tremaining: 36.4s\n",
      "322:\tlearn: 1.1640945\ttotal: 2m 30s\tremaining: 35.9s\n",
      "323:\tlearn: 1.1634075\ttotal: 2m 30s\tremaining: 35.4s\n",
      "324:\tlearn: 1.1626857\ttotal: 2m 31s\tremaining: 34.9s\n",
      "325:\tlearn: 1.1612109\ttotal: 2m 31s\tremaining: 34.5s\n",
      "326:\tlearn: 1.1608136\ttotal: 2m 32s\tremaining: 34s\n",
      "327:\tlearn: 1.1600427\ttotal: 2m 32s\tremaining: 33.5s\n",
      "328:\tlearn: 1.1594459\ttotal: 2m 32s\tremaining: 33s\n",
      "329:\tlearn: 1.1593040\ttotal: 2m 33s\tremaining: 32.5s\n",
      "330:\tlearn: 1.1584817\ttotal: 2m 33s\tremaining: 32.1s\n",
      "331:\tlearn: 1.1580740\ttotal: 2m 34s\tremaining: 31.6s\n",
      "332:\tlearn: 1.1579036\ttotal: 2m 34s\tremaining: 31.1s\n",
      "333:\tlearn: 1.1572743\ttotal: 2m 34s\tremaining: 30.6s\n",
      "334:\tlearn: 1.1565943\ttotal: 2m 35s\tremaining: 30.1s\n",
      "335:\tlearn: 1.1561084\ttotal: 2m 35s\tremaining: 29.6s\n",
      "336:\tlearn: 1.1554100\ttotal: 2m 36s\tremaining: 29.2s\n",
      "337:\tlearn: 1.1547519\ttotal: 2m 36s\tremaining: 28.7s\n",
      "338:\tlearn: 1.1546255\ttotal: 2m 36s\tremaining: 28.2s\n",
      "339:\tlearn: 1.1542752\ttotal: 2m 37s\tremaining: 27.7s\n",
      "340:\tlearn: 1.1536718\ttotal: 2m 37s\tremaining: 27.3s\n",
      "341:\tlearn: 1.1532620\ttotal: 2m 37s\tremaining: 26.8s\n",
      "342:\tlearn: 1.1526712\ttotal: 2m 38s\tremaining: 26.3s\n",
      "343:\tlearn: 1.1513784\ttotal: 2m 38s\tremaining: 25.9s\n",
      "344:\tlearn: 1.1506416\ttotal: 2m 39s\tremaining: 25.4s\n",
      "345:\tlearn: 1.1499077\ttotal: 2m 39s\tremaining: 24.9s\n",
      "346:\tlearn: 1.1490837\ttotal: 2m 40s\tremaining: 24.5s\n",
      "347:\tlearn: 1.1487515\ttotal: 2m 40s\tremaining: 24s\n",
      "348:\tlearn: 1.1478563\ttotal: 2m 41s\tremaining: 23.5s\n",
      "349:\tlearn: 1.1469908\ttotal: 2m 41s\tremaining: 23.1s\n",
      "350:\tlearn: 1.1464363\ttotal: 2m 41s\tremaining: 22.6s\n",
      "351:\tlearn: 1.1458341\ttotal: 2m 42s\tremaining: 22.1s\n",
      "352:\tlearn: 1.1450983\ttotal: 2m 42s\tremaining: 21.7s\n",
      "353:\tlearn: 1.1449770\ttotal: 2m 43s\tremaining: 21.2s\n",
      "354:\tlearn: 1.1440951\ttotal: 2m 43s\tremaining: 20.7s\n",
      "355:\tlearn: 1.1437376\ttotal: 2m 43s\tremaining: 20.3s\n",
      "356:\tlearn: 1.1429240\ttotal: 2m 44s\tremaining: 19.8s\n",
      "357:\tlearn: 1.1425059\ttotal: 2m 44s\tremaining: 19.3s\n",
      "358:\tlearn: 1.1417635\ttotal: 2m 45s\tremaining: 18.9s\n",
      "359:\tlearn: 1.1410967\ttotal: 2m 45s\tremaining: 18.4s\n",
      "360:\tlearn: 1.1404170\ttotal: 2m 46s\tremaining: 17.9s\n",
      "361:\tlearn: 1.1398982\ttotal: 2m 46s\tremaining: 17.5s\n",
      "362:\tlearn: 1.1393757\ttotal: 2m 46s\tremaining: 17s\n",
      "363:\tlearn: 1.1385973\ttotal: 2m 47s\tremaining: 16.5s\n",
      "364:\tlearn: 1.1382123\ttotal: 2m 47s\tremaining: 16.1s\n",
      "365:\tlearn: 1.1377349\ttotal: 2m 48s\tremaining: 15.6s\n",
      "366:\tlearn: 1.1375398\ttotal: 2m 48s\tremaining: 15.1s\n",
      "367:\tlearn: 1.1372634\ttotal: 2m 48s\tremaining: 14.7s\n",
      "368:\tlearn: 1.1366575\ttotal: 2m 49s\tremaining: 14.2s\n",
      "369:\tlearn: 1.1361407\ttotal: 2m 49s\tremaining: 13.7s\n",
      "370:\tlearn: 1.1358461\ttotal: 2m 49s\tremaining: 13.3s\n",
      "371:\tlearn: 1.1353527\ttotal: 2m 50s\tremaining: 12.8s\n",
      "372:\tlearn: 1.1344656\ttotal: 2m 50s\tremaining: 12.4s\n",
      "373:\tlearn: 1.1335898\ttotal: 2m 51s\tremaining: 11.9s\n",
      "374:\tlearn: 1.1329413\ttotal: 2m 51s\tremaining: 11.4s\n",
      "375:\tlearn: 1.1327084\ttotal: 2m 51s\tremaining: 11s\n",
      "376:\tlearn: 1.1318012\ttotal: 2m 52s\tremaining: 10.5s\n",
      "377:\tlearn: 1.1311595\ttotal: 2m 52s\tremaining: 10.1s\n",
      "378:\tlearn: 1.1297873\ttotal: 2m 53s\tremaining: 9.6s\n",
      "379:\tlearn: 1.1294237\ttotal: 2m 53s\tremaining: 9.14s\n",
      "380:\tlearn: 1.1288478\ttotal: 2m 54s\tremaining: 8.68s\n",
      "381:\tlearn: 1.1284929\ttotal: 2m 54s\tremaining: 8.22s\n",
      "382:\tlearn: 1.1280198\ttotal: 2m 54s\tremaining: 7.76s\n",
      "383:\tlearn: 1.1266839\ttotal: 2m 55s\tremaining: 7.31s\n",
      "384:\tlearn: 1.1258680\ttotal: 2m 55s\tremaining: 6.85s\n",
      "385:\tlearn: 1.1249283\ttotal: 2m 56s\tremaining: 6.39s\n",
      "386:\tlearn: 1.1246954\ttotal: 2m 56s\tremaining: 5.93s\n",
      "387:\tlearn: 1.1236384\ttotal: 2m 57s\tremaining: 5.47s\n",
      "388:\tlearn: 1.1234422\ttotal: 2m 57s\tremaining: 5.02s\n",
      "389:\tlearn: 1.1229221\ttotal: 2m 57s\tremaining: 4.56s\n",
      "390:\tlearn: 1.1221167\ttotal: 2m 58s\tremaining: 4.1s\n",
      "391:\tlearn: 1.1216035\ttotal: 2m 58s\tremaining: 3.65s\n",
      "392:\tlearn: 1.1214992\ttotal: 2m 58s\tremaining: 3.19s\n",
      "393:\tlearn: 1.1207280\ttotal: 2m 59s\tremaining: 2.73s\n",
      "394:\tlearn: 1.1198301\ttotal: 2m 59s\tremaining: 2.28s\n",
      "395:\tlearn: 1.1196448\ttotal: 3m\tremaining: 1.82s\n",
      "396:\tlearn: 1.1188518\ttotal: 3m\tremaining: 1.36s\n",
      "397:\tlearn: 1.1184405\ttotal: 3m 1s\tremaining: 910ms\n",
      "398:\tlearn: 1.1180379\ttotal: 3m 1s\tremaining: 455ms\n",
      "399:\tlearn: 1.1175112\ttotal: 3m 1s\tremaining: 0us\n",
      "{'classifier': 'CatBoostClassifier', 'Accuracy': 0.518, 'TOP-2 Accuracy': 0.7148, 'TOP-3 Accuracy': 0.8176, 'TOP-4 Accuracy': 0.8816, 'TOP-5 Accuracy': 0.9266, 'TOP-6 Accuracy': 0.9558, 'TOP-7 Accuracy': 0.9758, 'TOP-8 Accuracy': 0.9883, 'TOP-9 Accuracy': 0.9961, 'AUC-ROC': 0.8896220888888889, 'Precision': 0.5138747107964001, 'Recall': 0.518, 'F1-score': 0.5154879718718843}\n",
      "Fitting XGBClassifier(base_score=None, booster=None, callbacks=None,\n",
      "              colsample_bylevel=None, colsample_bynode=None,\n",
      "              colsample_bytree=None, device='gpu', early_stopping_rounds=None,\n",
      "              enable_categorical=False, eval_metric=None, feature_types=None,\n",
      "              gamma=None, grow_policy=None, importance_type=None,\n",
      "              interaction_constraints=None, learning_rate=None, max_bin=None,\n",
      "              max_cat_threshold=None, max_cat_to_onehot=None,\n",
      "              max_delta_step=None, max_depth=4, max_leaves=None,\n",
      "              min_child_weight=None, missing=nan, monotone_constraints=None,\n",
      "              multi_strategy=None, n_estimators=25, n_jobs=-1,\n",
      "              num_parallel_tree=None, random_state=None, ...)\n"
     ]
    },
    {
     "ename": "KeyboardInterrupt",
     "evalue": "",
     "output_type": "error",
     "traceback": [
      "\u001b[1;31m---------------------------------------------------------------------------\u001b[0m",
      "\u001b[1;31mKeyboardInterrupt\u001b[0m                         Traceback (most recent call last)",
      "Cell \u001b[1;32mIn[8], line 1\u001b[0m\n\u001b[1;32m----> 1\u001b[0m \u001b[43mcvtda\u001b[49m\u001b[38;5;241;43m.\u001b[39;49m\u001b[43mclassification\u001b[49m\u001b[38;5;241;43m.\u001b[39;49m\u001b[43mclassify\u001b[49m\u001b[43m(\u001b[49m\n\u001b[0;32m      2\u001b[0m \u001b[43m    \u001b[49m\u001b[43mtrain_features\u001b[49m\u001b[43m,\u001b[49m\u001b[43m \u001b[49m\u001b[43mtrain_labels\u001b[49m\u001b[43m,\u001b[49m\u001b[43m \u001b[49m\u001b[43mtest_features\u001b[49m\u001b[43m,\u001b[49m\u001b[43m \u001b[49m\u001b[43mtest_labels\u001b[49m\n\u001b[0;32m      3\u001b[0m \u001b[43m)\u001b[49m\n",
      "File \u001b[1;32mD:\\HSE/year-3/HSE/Diploma/cvtda\\cvtda\\classification\\classify.py:86\u001b[0m, in \u001b[0;36mclassify\u001b[1;34m(train_features, train_labels, test_features, test_labels, n_jobs, random_state, knn_neighbours, random_forest_estimators, nn_device, nn_batch_size, nn_learning_rate, nn_epochs, grad_boost_max_iter, grad_boost_max_depth, grad_boost_max_features, xgboost_n_classifiers, xgboost_max_depth, xgboost_device, catboost_iterations, catboost_depth, catboost_device)\u001b[0m\n\u001b[0;32m     58\u001b[0m     \u001b[38;5;28mprint\u001b[39m(result)\n\u001b[0;32m     59\u001b[0m     \u001b[38;5;28;01mreturn\u001b[39;00m result\n\u001b[0;32m     61\u001b[0m classifiers \u001b[38;5;241m=\u001b[39m [\n\u001b[0;32m     62\u001b[0m     sklearn\u001b[38;5;241m.\u001b[39mneighbors\u001b[38;5;241m.\u001b[39mKNeighborsClassifier(\n\u001b[0;32m     63\u001b[0m         n_jobs \u001b[38;5;241m=\u001b[39m n_jobs,\n\u001b[0;32m     64\u001b[0m         n_neighbors \u001b[38;5;241m=\u001b[39m knn_neighbours\n\u001b[0;32m     65\u001b[0m     ),\n\u001b[0;32m     66\u001b[0m     sklearn\u001b[38;5;241m.\u001b[39mensemble\u001b[38;5;241m.\u001b[39mRandomForestClassifier(\n\u001b[0;32m     67\u001b[0m         n_estimators \u001b[38;5;241m=\u001b[39m random_forest_estimators,\n\u001b[0;32m     68\u001b[0m         random_state \u001b[38;5;241m=\u001b[39m random_state,\n\u001b[0;32m     69\u001b[0m         n_jobs \u001b[38;5;241m=\u001b[39m n_jobs\n\u001b[0;32m     70\u001b[0m     ),\n\u001b[0;32m     71\u001b[0m     NNClassifier(\n\u001b[0;32m     72\u001b[0m         random_state \u001b[38;5;241m=\u001b[39m random_state,\n\u001b[0;32m     73\u001b[0m         device \u001b[38;5;241m=\u001b[39m nn_device,\n\u001b[0;32m     74\u001b[0m         batch_size \u001b[38;5;241m=\u001b[39m nn_batch_size,\n\u001b[0;32m     75\u001b[0m         learning_rate \u001b[38;5;241m=\u001b[39m nn_learning_rate,\n\u001b[0;32m     76\u001b[0m         n_epochs \u001b[38;5;241m=\u001b[39m nn_epochs\n\u001b[0;32m     77\u001b[0m     ),\n\u001b[0;32m     78\u001b[0m     sklearn\u001b[38;5;241m.\u001b[39mensemble\u001b[38;5;241m.\u001b[39mHistGradientBoostingClassifier(\n\u001b[0;32m     79\u001b[0m         random_state \u001b[38;5;241m=\u001b[39m random_state,\n\u001b[0;32m     80\u001b[0m         max_iter \u001b[38;5;241m=\u001b[39m grad_boost_max_iter,\n\u001b[0;32m     81\u001b[0m         max_depth \u001b[38;5;241m=\u001b[39m grad_boost_max_depth,\n\u001b[0;32m     82\u001b[0m         max_features \u001b[38;5;241m=\u001b[39m grad_boost_max_features\n\u001b[0;32m     83\u001b[0m     ),\n\u001b[0;32m     84\u001b[0m     catboost\u001b[38;5;241m.\u001b[39mCatBoostClassifier(\n\u001b[0;32m     85\u001b[0m         iterations \u001b[38;5;241m=\u001b[39m catboost_iterations,\n\u001b[1;32m---> 86\u001b[0m         depth \u001b[38;5;241m=\u001b[39m catboost_depth,\n\u001b[0;32m     87\u001b[0m         random_seed \u001b[38;5;241m=\u001b[39m random_state,\n\u001b[0;32m     88\u001b[0m         loss_function \u001b[38;5;241m=\u001b[39m \u001b[38;5;124m'\u001b[39m\u001b[38;5;124mMultiClass\u001b[39m\u001b[38;5;124m'\u001b[39m,\n\u001b[0;32m     89\u001b[0m         devices \u001b[38;5;241m=\u001b[39m \u001b[38;5;124m'\u001b[39m\u001b[38;5;124m0-3\u001b[39m\u001b[38;5;124m'\u001b[39m,\n\u001b[0;32m     90\u001b[0m         task_type \u001b[38;5;241m=\u001b[39m catboost_device,\n\u001b[0;32m     91\u001b[0m         verbose \u001b[38;5;241m=\u001b[39m \u001b[38;5;28;01mTrue\u001b[39;00m\n\u001b[0;32m     92\u001b[0m     ),\n\u001b[0;32m     93\u001b[0m     xgboost\u001b[38;5;241m.\u001b[39mXGBClassifier(\n\u001b[0;32m     94\u001b[0m         n_jobs \u001b[38;5;241m=\u001b[39m n_jobs,\n\u001b[0;32m     95\u001b[0m         n_estimators \u001b[38;5;241m=\u001b[39m xgboost_n_classifiers,\n\u001b[0;32m     96\u001b[0m         max_depth \u001b[38;5;241m=\u001b[39m xgboost_max_depth,\n\u001b[0;32m     97\u001b[0m         device \u001b[38;5;241m=\u001b[39m xgboost_device\n\u001b[0;32m     98\u001b[0m     )\n\u001b[0;32m     99\u001b[0m ]\n\u001b[0;32m    101\u001b[0m figure, axes \u001b[38;5;241m=\u001b[39m plt\u001b[38;5;241m.\u001b[39msubplots(\u001b[38;5;241m2\u001b[39m, \u001b[38;5;241m3\u001b[39m, figsize \u001b[38;5;241m=\u001b[39m (\u001b[38;5;241m15\u001b[39m, \u001b[38;5;241m10\u001b[39m))\n\u001b[0;32m    102\u001b[0m \u001b[38;5;28;01mreturn\u001b[39;00m pandas\u001b[38;5;241m.\u001b[39mDataFrame([ classify_one(\u001b[38;5;241m*\u001b[39margs) \u001b[38;5;28;01mfor\u001b[39;00m args \u001b[38;5;129;01min\u001b[39;00m \u001b[38;5;28mzip\u001b[39m(classifiers, axes\u001b[38;5;241m.\u001b[39mflat) ])\n",
      "File \u001b[1;32mD:\\HSE/year-3/HSE/Diploma/cvtda\\cvtda\\classification\\classify.py:86\u001b[0m, in \u001b[0;36m<listcomp>\u001b[1;34m(.0)\u001b[0m\n\u001b[0;32m     58\u001b[0m     \u001b[38;5;28mprint\u001b[39m(result)\n\u001b[0;32m     59\u001b[0m     \u001b[38;5;28;01mreturn\u001b[39;00m result\n\u001b[0;32m     61\u001b[0m classifiers \u001b[38;5;241m=\u001b[39m [\n\u001b[0;32m     62\u001b[0m     sklearn\u001b[38;5;241m.\u001b[39mneighbors\u001b[38;5;241m.\u001b[39mKNeighborsClassifier(\n\u001b[0;32m     63\u001b[0m         n_jobs \u001b[38;5;241m=\u001b[39m n_jobs,\n\u001b[0;32m     64\u001b[0m         n_neighbors \u001b[38;5;241m=\u001b[39m knn_neighbours\n\u001b[0;32m     65\u001b[0m     ),\n\u001b[0;32m     66\u001b[0m     sklearn\u001b[38;5;241m.\u001b[39mensemble\u001b[38;5;241m.\u001b[39mRandomForestClassifier(\n\u001b[0;32m     67\u001b[0m         n_estimators \u001b[38;5;241m=\u001b[39m random_forest_estimators,\n\u001b[0;32m     68\u001b[0m         random_state \u001b[38;5;241m=\u001b[39m random_state,\n\u001b[0;32m     69\u001b[0m         n_jobs \u001b[38;5;241m=\u001b[39m n_jobs\n\u001b[0;32m     70\u001b[0m     ),\n\u001b[0;32m     71\u001b[0m     NNClassifier(\n\u001b[0;32m     72\u001b[0m         random_state \u001b[38;5;241m=\u001b[39m random_state,\n\u001b[0;32m     73\u001b[0m         device \u001b[38;5;241m=\u001b[39m nn_device,\n\u001b[0;32m     74\u001b[0m         batch_size \u001b[38;5;241m=\u001b[39m nn_batch_size,\n\u001b[0;32m     75\u001b[0m         learning_rate \u001b[38;5;241m=\u001b[39m nn_learning_rate,\n\u001b[0;32m     76\u001b[0m         n_epochs \u001b[38;5;241m=\u001b[39m nn_epochs\n\u001b[0;32m     77\u001b[0m     ),\n\u001b[0;32m     78\u001b[0m     sklearn\u001b[38;5;241m.\u001b[39mensemble\u001b[38;5;241m.\u001b[39mHistGradientBoostingClassifier(\n\u001b[0;32m     79\u001b[0m         random_state \u001b[38;5;241m=\u001b[39m random_state,\n\u001b[0;32m     80\u001b[0m         max_iter \u001b[38;5;241m=\u001b[39m grad_boost_max_iter,\n\u001b[0;32m     81\u001b[0m         max_depth \u001b[38;5;241m=\u001b[39m grad_boost_max_depth,\n\u001b[0;32m     82\u001b[0m         max_features \u001b[38;5;241m=\u001b[39m grad_boost_max_features\n\u001b[0;32m     83\u001b[0m     ),\n\u001b[0;32m     84\u001b[0m     catboost\u001b[38;5;241m.\u001b[39mCatBoostClassifier(\n\u001b[0;32m     85\u001b[0m         iterations \u001b[38;5;241m=\u001b[39m catboost_iterations,\n\u001b[1;32m---> 86\u001b[0m         depth \u001b[38;5;241m=\u001b[39m catboost_depth,\n\u001b[0;32m     87\u001b[0m         random_seed \u001b[38;5;241m=\u001b[39m random_state,\n\u001b[0;32m     88\u001b[0m         loss_function \u001b[38;5;241m=\u001b[39m \u001b[38;5;124m'\u001b[39m\u001b[38;5;124mMultiClass\u001b[39m\u001b[38;5;124m'\u001b[39m,\n\u001b[0;32m     89\u001b[0m         devices \u001b[38;5;241m=\u001b[39m \u001b[38;5;124m'\u001b[39m\u001b[38;5;124m0-3\u001b[39m\u001b[38;5;124m'\u001b[39m,\n\u001b[0;32m     90\u001b[0m         task_type \u001b[38;5;241m=\u001b[39m catboost_device,\n\u001b[0;32m     91\u001b[0m         verbose \u001b[38;5;241m=\u001b[39m \u001b[38;5;28;01mTrue\u001b[39;00m\n\u001b[0;32m     92\u001b[0m     ),\n\u001b[0;32m     93\u001b[0m     xgboost\u001b[38;5;241m.\u001b[39mXGBClassifier(\n\u001b[0;32m     94\u001b[0m         n_jobs \u001b[38;5;241m=\u001b[39m n_jobs,\n\u001b[0;32m     95\u001b[0m         n_estimators \u001b[38;5;241m=\u001b[39m xgboost_n_classifiers,\n\u001b[0;32m     96\u001b[0m         max_depth \u001b[38;5;241m=\u001b[39m xgboost_max_depth,\n\u001b[0;32m     97\u001b[0m         device \u001b[38;5;241m=\u001b[39m xgboost_device\n\u001b[0;32m     98\u001b[0m     )\n\u001b[0;32m     99\u001b[0m ]\n\u001b[0;32m    101\u001b[0m figure, axes \u001b[38;5;241m=\u001b[39m plt\u001b[38;5;241m.\u001b[39msubplots(\u001b[38;5;241m2\u001b[39m, \u001b[38;5;241m3\u001b[39m, figsize \u001b[38;5;241m=\u001b[39m (\u001b[38;5;241m15\u001b[39m, \u001b[38;5;241m10\u001b[39m))\n\u001b[0;32m    102\u001b[0m \u001b[38;5;28;01mreturn\u001b[39;00m pandas\u001b[38;5;241m.\u001b[39mDataFrame([ classify_one(\u001b[38;5;241m*\u001b[39margs) \u001b[38;5;28;01mfor\u001b[39;00m args \u001b[38;5;129;01min\u001b[39;00m \u001b[38;5;28mzip\u001b[39m(classifiers, axes\u001b[38;5;241m.\u001b[39mflat) ])\n",
      "File \u001b[1;32mD:\\HSE/year-3/HSE/Diploma/cvtda\\cvtda\\classification\\classify.py:52\u001b[0m, in \u001b[0;36mclassify.<locals>.classify_one\u001b[1;34m(classifier, ax)\u001b[0m\n\u001b[0;32m     50\u001b[0m     classifier\u001b[38;5;241m.\u001b[39mfit(train_features, train_labels, test_features, test_labels)\n\u001b[0;32m     51\u001b[0m \u001b[38;5;28;01melse\u001b[39;00m:\n\u001b[1;32m---> 52\u001b[0m     \u001b[43mclassifier\u001b[49m\u001b[38;5;241;43m.\u001b[39;49m\u001b[43mfit\u001b[49m\u001b[43m(\u001b[49m\u001b[43mtrain_features\u001b[49m\u001b[43m,\u001b[49m\u001b[43m \u001b[49m\u001b[43mtrain_labels\u001b[49m\u001b[43m)\u001b[49m\n\u001b[0;32m     53\u001b[0m y_pred_proba \u001b[38;5;241m=\u001b[39m classifier\u001b[38;5;241m.\u001b[39mpredict_proba(test_features)\n\u001b[0;32m     54\u001b[0m result \u001b[38;5;241m=\u001b[39m {\n\u001b[0;32m     55\u001b[0m     \u001b[38;5;124m'\u001b[39m\u001b[38;5;124mclassifier\u001b[39m\u001b[38;5;124m'\u001b[39m: \u001b[38;5;28mtype\u001b[39m(classifier)\u001b[38;5;241m.\u001b[39m\u001b[38;5;18m__name__\u001b[39m,\n\u001b[0;32m     56\u001b[0m     \u001b[38;5;241m*\u001b[39m\u001b[38;5;241m*\u001b[39mestimate_quality(y_pred_proba, test_labels, ax)\n\u001b[0;32m     57\u001b[0m }\n",
      "File \u001b[1;32md:\\Programs\\Programming\\Python\\lib\\site-packages\\xgboost\\core.py:726\u001b[0m, in \u001b[0;36mrequire_keyword_args.<locals>.throw_if.<locals>.inner_f\u001b[1;34m(*args, **kwargs)\u001b[0m\n\u001b[0;32m    724\u001b[0m \u001b[38;5;28;01mfor\u001b[39;00m k, arg \u001b[38;5;129;01min\u001b[39;00m \u001b[38;5;28mzip\u001b[39m(sig\u001b[38;5;241m.\u001b[39mparameters, args):\n\u001b[0;32m    725\u001b[0m     kwargs[k] \u001b[38;5;241m=\u001b[39m arg\n\u001b[1;32m--> 726\u001b[0m \u001b[38;5;28;01mreturn\u001b[39;00m func(\u001b[38;5;241m*\u001b[39m\u001b[38;5;241m*\u001b[39mkwargs)\n",
      "File \u001b[1;32md:\\Programs\\Programming\\Python\\lib\\site-packages\\xgboost\\sklearn.py:1531\u001b[0m, in \u001b[0;36mXGBClassifier.fit\u001b[1;34m(self, X, y, sample_weight, base_margin, eval_set, verbose, xgb_model, sample_weight_eval_set, base_margin_eval_set, feature_weights)\u001b[0m\n\u001b[0;32m   1511\u001b[0m model, metric, params \u001b[38;5;241m=\u001b[39m \u001b[38;5;28mself\u001b[39m\u001b[38;5;241m.\u001b[39m_configure_fit(xgb_model, params)\n\u001b[0;32m   1512\u001b[0m train_dmatrix, evals \u001b[38;5;241m=\u001b[39m _wrap_evaluation_matrices(\n\u001b[0;32m   1513\u001b[0m     missing\u001b[38;5;241m=\u001b[39m\u001b[38;5;28mself\u001b[39m\u001b[38;5;241m.\u001b[39mmissing,\n\u001b[0;32m   1514\u001b[0m     X\u001b[38;5;241m=\u001b[39mX,\n\u001b[1;32m   (...)\u001b[0m\n\u001b[0;32m   1528\u001b[0m     feature_types\u001b[38;5;241m=\u001b[39m\u001b[38;5;28mself\u001b[39m\u001b[38;5;241m.\u001b[39mfeature_types,\n\u001b[0;32m   1529\u001b[0m )\n\u001b[1;32m-> 1531\u001b[0m \u001b[38;5;28mself\u001b[39m\u001b[38;5;241m.\u001b[39m_Booster \u001b[38;5;241m=\u001b[39m \u001b[43mtrain\u001b[49m\u001b[43m(\u001b[49m\n\u001b[0;32m   1532\u001b[0m \u001b[43m    \u001b[49m\u001b[43mparams\u001b[49m\u001b[43m,\u001b[49m\n\u001b[0;32m   1533\u001b[0m \u001b[43m    \u001b[49m\u001b[43mtrain_dmatrix\u001b[49m\u001b[43m,\u001b[49m\n\u001b[0;32m   1534\u001b[0m \u001b[43m    \u001b[49m\u001b[38;5;28;43mself\u001b[39;49m\u001b[38;5;241;43m.\u001b[39;49m\u001b[43mget_num_boosting_rounds\u001b[49m\u001b[43m(\u001b[49m\u001b[43m)\u001b[49m\u001b[43m,\u001b[49m\n\u001b[0;32m   1535\u001b[0m \u001b[43m    \u001b[49m\u001b[43mevals\u001b[49m\u001b[38;5;241;43m=\u001b[39;49m\u001b[43mevals\u001b[49m\u001b[43m,\u001b[49m\n\u001b[0;32m   1536\u001b[0m \u001b[43m    \u001b[49m\u001b[43mearly_stopping_rounds\u001b[49m\u001b[38;5;241;43m=\u001b[39;49m\u001b[38;5;28;43mself\u001b[39;49m\u001b[38;5;241;43m.\u001b[39;49m\u001b[43mearly_stopping_rounds\u001b[49m\u001b[43m,\u001b[49m\n\u001b[0;32m   1537\u001b[0m \u001b[43m    \u001b[49m\u001b[43mevals_result\u001b[49m\u001b[38;5;241;43m=\u001b[39;49m\u001b[43mevals_result\u001b[49m\u001b[43m,\u001b[49m\n\u001b[0;32m   1538\u001b[0m \u001b[43m    \u001b[49m\u001b[43mobj\u001b[49m\u001b[38;5;241;43m=\u001b[39;49m\u001b[43mobj\u001b[49m\u001b[43m,\u001b[49m\n\u001b[0;32m   1539\u001b[0m \u001b[43m    \u001b[49m\u001b[43mcustom_metric\u001b[49m\u001b[38;5;241;43m=\u001b[39;49m\u001b[43mmetric\u001b[49m\u001b[43m,\u001b[49m\n\u001b[0;32m   1540\u001b[0m \u001b[43m    \u001b[49m\u001b[43mverbose_eval\u001b[49m\u001b[38;5;241;43m=\u001b[39;49m\u001b[43mverbose\u001b[49m\u001b[43m,\u001b[49m\n\u001b[0;32m   1541\u001b[0m \u001b[43m    \u001b[49m\u001b[43mxgb_model\u001b[49m\u001b[38;5;241;43m=\u001b[39;49m\u001b[43mmodel\u001b[49m\u001b[43m,\u001b[49m\n\u001b[0;32m   1542\u001b[0m \u001b[43m    \u001b[49m\u001b[43mcallbacks\u001b[49m\u001b[38;5;241;43m=\u001b[39;49m\u001b[38;5;28;43mself\u001b[39;49m\u001b[38;5;241;43m.\u001b[39;49m\u001b[43mcallbacks\u001b[49m\u001b[43m,\u001b[49m\n\u001b[0;32m   1543\u001b[0m \u001b[43m\u001b[49m\u001b[43m)\u001b[49m\n\u001b[0;32m   1545\u001b[0m \u001b[38;5;28;01mif\u001b[39;00m \u001b[38;5;129;01mnot\u001b[39;00m \u001b[38;5;28mcallable\u001b[39m(\u001b[38;5;28mself\u001b[39m\u001b[38;5;241m.\u001b[39mobjective):\n\u001b[0;32m   1546\u001b[0m     \u001b[38;5;28mself\u001b[39m\u001b[38;5;241m.\u001b[39mobjective \u001b[38;5;241m=\u001b[39m params[\u001b[38;5;124m\"\u001b[39m\u001b[38;5;124mobjective\u001b[39m\u001b[38;5;124m\"\u001b[39m]\n",
      "File \u001b[1;32md:\\Programs\\Programming\\Python\\lib\\site-packages\\xgboost\\core.py:726\u001b[0m, in \u001b[0;36mrequire_keyword_args.<locals>.throw_if.<locals>.inner_f\u001b[1;34m(*args, **kwargs)\u001b[0m\n\u001b[0;32m    724\u001b[0m \u001b[38;5;28;01mfor\u001b[39;00m k, arg \u001b[38;5;129;01min\u001b[39;00m \u001b[38;5;28mzip\u001b[39m(sig\u001b[38;5;241m.\u001b[39mparameters, args):\n\u001b[0;32m    725\u001b[0m     kwargs[k] \u001b[38;5;241m=\u001b[39m arg\n\u001b[1;32m--> 726\u001b[0m \u001b[38;5;28;01mreturn\u001b[39;00m func(\u001b[38;5;241m*\u001b[39m\u001b[38;5;241m*\u001b[39mkwargs)\n",
      "File \u001b[1;32md:\\Programs\\Programming\\Python\\lib\\site-packages\\xgboost\\training.py:181\u001b[0m, in \u001b[0;36mtrain\u001b[1;34m(params, dtrain, num_boost_round, evals, obj, feval, maximize, early_stopping_rounds, evals_result, verbose_eval, xgb_model, callbacks, custom_metric)\u001b[0m\n\u001b[0;32m    179\u001b[0m \u001b[38;5;28;01mif\u001b[39;00m cb_container\u001b[38;5;241m.\u001b[39mbefore_iteration(bst, i, dtrain, evals):\n\u001b[0;32m    180\u001b[0m     \u001b[38;5;28;01mbreak\u001b[39;00m\n\u001b[1;32m--> 181\u001b[0m \u001b[43mbst\u001b[49m\u001b[38;5;241;43m.\u001b[39;49m\u001b[43mupdate\u001b[49m\u001b[43m(\u001b[49m\u001b[43mdtrain\u001b[49m\u001b[43m,\u001b[49m\u001b[43m \u001b[49m\u001b[43miteration\u001b[49m\u001b[38;5;241;43m=\u001b[39;49m\u001b[43mi\u001b[49m\u001b[43m,\u001b[49m\u001b[43m \u001b[49m\u001b[43mfobj\u001b[49m\u001b[38;5;241;43m=\u001b[39;49m\u001b[43mobj\u001b[49m\u001b[43m)\u001b[49m\n\u001b[0;32m    182\u001b[0m \u001b[38;5;28;01mif\u001b[39;00m cb_container\u001b[38;5;241m.\u001b[39mafter_iteration(bst, i, dtrain, evals):\n\u001b[0;32m    183\u001b[0m     \u001b[38;5;28;01mbreak\u001b[39;00m\n",
      "File \u001b[1;32md:\\Programs\\Programming\\Python\\lib\\site-packages\\xgboost\\core.py:2101\u001b[0m, in \u001b[0;36mBooster.update\u001b[1;34m(self, dtrain, iteration, fobj)\u001b[0m\n\u001b[0;32m   2097\u001b[0m \u001b[38;5;28mself\u001b[39m\u001b[38;5;241m.\u001b[39m_assign_dmatrix_features(dtrain)\n\u001b[0;32m   2099\u001b[0m \u001b[38;5;28;01mif\u001b[39;00m fobj \u001b[38;5;129;01mis\u001b[39;00m \u001b[38;5;28;01mNone\u001b[39;00m:\n\u001b[0;32m   2100\u001b[0m     _check_call(\n\u001b[1;32m-> 2101\u001b[0m         \u001b[43m_LIB\u001b[49m\u001b[38;5;241;43m.\u001b[39;49m\u001b[43mXGBoosterUpdateOneIter\u001b[49m\u001b[43m(\u001b[49m\n\u001b[0;32m   2102\u001b[0m \u001b[43m            \u001b[49m\u001b[38;5;28;43mself\u001b[39;49m\u001b[38;5;241;43m.\u001b[39;49m\u001b[43mhandle\u001b[49m\u001b[43m,\u001b[49m\u001b[43m \u001b[49m\u001b[43mctypes\u001b[49m\u001b[38;5;241;43m.\u001b[39;49m\u001b[43mc_int\u001b[49m\u001b[43m(\u001b[49m\u001b[43miteration\u001b[49m\u001b[43m)\u001b[49m\u001b[43m,\u001b[49m\u001b[43m \u001b[49m\u001b[43mdtrain\u001b[49m\u001b[38;5;241;43m.\u001b[39;49m\u001b[43mhandle\u001b[49m\n\u001b[0;32m   2103\u001b[0m \u001b[43m        \u001b[49m\u001b[43m)\u001b[49m\n\u001b[0;32m   2104\u001b[0m     )\n\u001b[0;32m   2105\u001b[0m \u001b[38;5;28;01melse\u001b[39;00m:\n\u001b[0;32m   2106\u001b[0m     pred \u001b[38;5;241m=\u001b[39m \u001b[38;5;28mself\u001b[39m\u001b[38;5;241m.\u001b[39mpredict(dtrain, output_margin\u001b[38;5;241m=\u001b[39m\u001b[38;5;28;01mTrue\u001b[39;00m, training\u001b[38;5;241m=\u001b[39m\u001b[38;5;28;01mTrue\u001b[39;00m)\n",
      "\u001b[1;31mKeyboardInterrupt\u001b[0m: "
     ]
    },
    {
     "data": {
      "image/png": "[encoded data removed]",
      "text/plain": [
       "<Figure size 1500x1000 with 8 Axes>"
      ]
     },
     "metadata": {},
     "output_type": "display_data"
    }
   ],
   "source": [
    "cvtda.classification.classify(\n",
    "    train_features, train_labels, test_features, test_labels\n",
    ")"
   ]
  },
  {
   "cell_type": "markdown",
   "metadata": {},
   "source": [
    "### CorrelationSelector"
   ]
  },
  {
   "cell_type": "code",
   "execution_count": 9,
   "metadata": {},
   "outputs": [
    {
     "name": "stdout",
     "output_type": "stream",
     "text": [
      "Fitting the correlations feature selector\n",
      "Fitting complete\n"
     ]
    },
    {
     "data": {
      "text/plain": [
       "((50000, 15039), (10000, 15039))"
      ]
     },
     "execution_count": 9,
     "metadata": {},
     "output_type": "execute_result"
    },
    {
     "data": {
      "image/png": "[encoded data removed]",
      "text/plain": [
       "<Figure size 640x480 with 1 Axes>"
      ]
     },
     "metadata": {},
     "output_type": "display_data"
    }
   ],
   "source": [
    "correlation_selector = cvtda.classification.CorrelationSelector(threshold = 0.05)\n",
    "\n",
    "train_features = correlation_selector.fit_transform(train_features, train_labels)\n",
    "test_features = correlation_selector.transform(test_features)\n",
    "\n",
    "correlation_selector.hist()\n",
    "\n",
    "train_features.shape, test_features.shape"
   ]
  },
  {
   "cell_type": "code",
   "execution_count": 10,
   "metadata": {},
   "outputs": [
    {
     "name": "stdout",
     "output_type": "stream",
     "text": [
      "Fitting KNeighborsClassifier(n_jobs=-1, n_neighbors=50)\n",
      "{'classifier': 'KNeighborsClassifier', 'Accuracy': 0.3255, 'TOP-2 Accuracy': 0.521, 'TOP-3 Accuracy': 0.6377, 'TOP-4 Accuracy': 0.734, 'TOP-5 Accuracy': 0.8017, 'TOP-6 Accuracy': 0.8629, 'TOP-7 Accuracy': 0.909, 'TOP-8 Accuracy': 0.9478, 'TOP-9 Accuracy': 0.9783, 'AUC-ROC': 0.7685911222222221, 'Precision': 0.3320934610813535, 'Recall': 0.3255, 'F1-score': 0.31498313953472756}\n",
      "Fitting RandomForestClassifier(n_jobs=-1, random_state=42)\n",
      "{'classifier': 'RandomForestClassifier', 'Accuracy': 0.3938, 'TOP-2 Accuracy': 0.5796, 'TOP-3 Accuracy': 0.6913, 'TOP-4 Accuracy': 0.7724, 'TOP-5 Accuracy': 0.8364, 'TOP-6 Accuracy': 0.8888, 'TOP-7 Accuracy': 0.9293, 'TOP-8 Accuracy': 0.9599, 'TOP-9 Accuracy': 0.9831, 'AUC-ROC': 0.8049802999999999, 'Precision': 0.3868726227847959, 'Recall': 0.39380000000000004, 'F1-score': 0.3875117192165682}\n",
      "Fitting <cvtda.classification.nn_classifier.NNClassifier object at 0x000001B2F2D799C0>\n",
      "Input to LazyLinear: 15039\n",
      "Parameters: 3894762\n"
     ]
    },
    {
     "name": "stderr",
     "output_type": "stream",
     "text": [
      "100%|██████████| 25/25 [04:39<00:00, 11.17s/it, loss=9.84e+4, val_acc=0.494]\n"
     ]
    },
    {
     "name": "stdout",
     "output_type": "stream",
     "text": [
      "{'classifier': 'NNClassifier', 'Accuracy': 0.4942, 'TOP-2 Accuracy': 0.6902, 'TOP-3 Accuracy': 0.7932, 'TOP-4 Accuracy': 0.8551, 'TOP-5 Accuracy': 0.899, 'TOP-6 Accuracy': 0.9318, 'TOP-7 Accuracy': 0.96, 'TOP-8 Accuracy': 0.9772, 'TOP-9 Accuracy': 0.9901, 'AUC-ROC': 0.8567854333333332, 'Precision': 0.4872405889268444, 'Recall': 0.49420000000000003, 'F1-score': 0.48791808931840575}\n",
      "Fitting HistGradientBoostingClassifier(max_depth=4, max_features=0.1, max_iter=20,\n",
      "                               random_state=42)\n",
      "{'classifier': 'HistGradientBoostingClassifier', 'Accuracy': 0.4107, 'TOP-2 Accuracy': 0.6138, 'TOP-3 Accuracy': 0.7272, 'TOP-4 Accuracy': 0.8062, 'TOP-5 Accuracy': 0.8657, 'TOP-6 Accuracy': 0.908, 'TOP-7 Accuracy': 0.9445, 'TOP-8 Accuracy': 0.9727, 'TOP-9 Accuracy': 0.99, 'AUC-ROC': 0.8289822111111111, 'Precision': 0.4038980974749557, 'Recall': 0.4107, 'F1-score': 0.40421469411914}\n",
      "Fitting <catboost.core.CatBoostClassifier object at 0x000001B2F2D7B490>\n"
     ]
    },
    {
     "name": "stderr",
     "output_type": "stream",
     "text": [
      "Warning: less than 75% GPU memory available for training. Free: 1658 Total: 6143.6875\n"
     ]
    },
    {
     "name": "stdout",
     "output_type": "stream",
     "text": [
      "Learning rate set to 0.309284\n"
     ]
    },
    {
     "ename": "",
     "evalue": "",
     "output_type": "error",
     "traceback": [
      "\u001b[1;31mThe Kernel crashed while executing code in the current cell or a previous cell. \n",
      "\u001b[1;31mPlease review the code in the cell(s) to identify a possible cause of the failure. \n",
      "\u001b[1;31mClick <a href='https://aka.ms/vscodeJupyterKernelCrash'>here</a> for more info. \n",
      "\u001b[1;31mView Jupyter <a href='command:jupyter.viewOutput'>log</a> for further details."
     ]
    }
   ],
   "source": [
    "cvtda.classification.classify(\n",
    "    train_features, train_labels, test_features, test_labels\n",
    ")"
   ]
  },
  {
   "cell_type": "markdown",
   "metadata": {},
   "source": [
    "### PCA"
   ]
  },
  {
   "cell_type": "code",
   "execution_count": 12,
   "metadata": {},
   "outputs": [
    {
     "name": "stdout",
     "output_type": "stream",
     "text": [
      "Explained variance 0.91\n",
      "[0.456, 0.128, 0.056, 0.055, 0.038, 0.021, 0.015, 0.014, 0.013, 0.009, 0.009, 0.007, 0.006, 0.006, 0.005, 0.005, 0.004, 0.004, 0.003, 0.003, 0.003, 0.003, 0.003, 0.003, 0.002, 0.002, 0.002, 0.002, 0.002, 0.002, 0.002, 0.002, 0.002, 0.001, 0.001, 0.001, 0.001, 0.001, 0.001, 0.001, 0.001, 0.001, 0.001, 0.001, 0.001, 0.001, 0.001, 0.001, 0.001, 0.001, 0.001, 0.001, 0.001, 0.001, 0.001, 0.001, 0.001, 0.001, 0.001, 0.001, 0.001, 0.001, 0.001, 0.001]\n"
     ]
    },
    {
     "data": {
      "text/plain": [
       "((50000, 64), (10000, 64))"
      ]
     },
     "execution_count": 12,
     "metadata": {},
     "output_type": "execute_result"
    }
   ],
   "source": [
    "import sklearn.decomposition\n",
    "\n",
    "pca = sklearn.decomposition.PCA(n_components = 64, random_state = 42)\n",
    "\n",
    "train_features = pca.fit_transform(train_features)\n",
    "print('Explained variance', round(pca.explained_variance_ratio_.sum(), 2))\n",
    "print([ round(x, 3) for x in pca.explained_variance_ratio_ ])\n",
    "\n",
    "test_features = pca.transform(test_features)\n",
    "\n",
    "train_features.shape, test_features.shape"
   ]
  },
  {
   "cell_type": "code",
   "execution_count": null,
   "metadata": {},
   "outputs": [],
   "source": [
    "cvtda.classification.classify(\n",
    "    train_features, train_labels, test_features, test_labels\n",
    ")"
   ]
  }
 ],
 "metadata": {
  "kernelspec": {
   "display_name": "Python 3",
   "language": "python",
   "name": "python3"
  },
  "language_info": {
   "codemirror_mode": {
    "name": "ipython",
    "version": 3
   },
   "file_extension": ".py",
   "mimetype": "text/x-python",
   "name": "python",
   "nbconvert_exporter": "python",
   "pygments_lexer": "ipython3",
   "version": "3.10.11"
  }
 },
 "nbformat": 4,
 "nbformat_minor": 2
}
