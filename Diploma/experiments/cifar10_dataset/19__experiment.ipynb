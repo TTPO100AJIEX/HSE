{
 "cells": [
  {
   "cell_type": "code",
   "execution_count": 2,
   "metadata": {},
   "outputs": [
    {
     "name": "stderr",
     "output_type": "stream",
     "text": [
      "100%|██████████| 50000/50000 [00:01<00:00, 32383.41it/s]\n",
      "100%|██████████| 10000/10000 [00:00<00:00, 29239.77it/s]\n"
     ]
    }
   ],
   "source": [
    "import tqdm\n",
    "import numpy\n",
    "import torchvision\n",
    "\n",
    "train = torchvision.datasets.CIFAR10('cifar-10', train = True, download = False)\n",
    "test = torchvision.datasets.CIFAR10('cifar-10', train = False, download = False)\n",
    "\n",
    "train_images = numpy.array([ numpy.array(item[0]) / 255 for item in tqdm.tqdm(train) ])\n",
    "train_labels = numpy.array([ item[1] for item in train ])\n",
    "\n",
    "test_images = numpy.array([ numpy.array(item[0]) / 255 for item in tqdm.tqdm(test) ])\n",
    "test_labels = numpy.array([ item[1] for item in test ])"
   ]
  },
  {
   "cell_type": "code",
   "execution_count": 3,
   "metadata": {},
   "outputs": [
    {
     "name": "stdout",
     "output_type": "stream",
     "text": [
      "RGB images received. Transforming to grayscale.\n"
     ]
    },
    {
     "name": "stderr",
     "output_type": "stream",
     "text": [
      "rgb2gray: 100%|██████████| 50000/50000 [00:04<00:00, 10394.03it/s]\n"
     ]
    },
    {
     "name": "stdout",
     "output_type": "stream",
     "text": [
      "GreyscaleExtractor: processing 19/train/greyscale/gray, do_fit = True\n",
      "Got the result from ./19/train/greyscale/gray/diagrams.npy\n",
      "Got the result from ./19/train/greyscale/gray/inverted_diagrams.npy\n",
      "DiagramVectorizer: fitting complete\n"
     ]
    },
    {
     "name": "stderr",
     "output_type": "stream",
     "text": [
      "DiagramVectorizer: batch:   0%|          | 0/98 [00:00<?, ?it/s]d:\\Programs\\Programming\\Python\\lib\\site-packages\\joblib\\externals\\loky\\process_executor.py:752: UserWarning: A worker stopped while some jobs were given to the executor. This can be caused by a too short worker timeout or by a memory leak.\n",
      "  warnings.warn(\n",
      "DiagramVectorizer: batch: 100%|██████████| 98/98 [01:54<00:00,  1.17s/it]\n"
     ]
    },
    {
     "name": "stdout",
     "output_type": "stream",
     "text": [
      "Saving the result to ./19/train/greyscale/gray/features.npy\n",
      "DiagramVectorizer: fitting complete\n"
     ]
    },
    {
     "name": "stderr",
     "output_type": "stream",
     "text": [
      "DiagramVectorizer: batch: 100%|██████████| 98/98 [01:44<00:00,  1.07s/it]\n"
     ]
    },
    {
     "name": "stdout",
     "output_type": "stream",
     "text": [
      "Saving the result to ./19/train/greyscale/gray/inverted_features.npy\n",
      "GreyscaleExtractor: processing 19/train/greyscale/gray, do_fit = False\n",
      "Got the result from ./19/train/greyscale/gray/features.npy\n",
      "Got the result from ./19/train/greyscale/gray/inverted_features.npy\n",
      "GreyscaleExtractor: processing 19/train/greyscale/red, do_fit = True\n",
      "Saving the result to ./19/train/greyscale/red/diagrams.npy\n",
      "Saving the result to ./19/train/greyscale/red/inverted_diagrams.npy\n",
      "DiagramVectorizer: fitting complete\n"
     ]
    },
    {
     "name": "stderr",
     "output_type": "stream",
     "text": [
      "DiagramVectorizer: batch: 100%|██████████| 98/98 [01:46<00:00,  1.08s/it]\n"
     ]
    },
    {
     "name": "stdout",
     "output_type": "stream",
     "text": [
      "Saving the result to ./19/train/greyscale/red/features.npy\n",
      "DiagramVectorizer: fitting complete\n"
     ]
    },
    {
     "name": "stderr",
     "output_type": "stream",
     "text": [
      "DiagramVectorizer: batch: 100%|██████████| 98/98 [01:45<00:00,  1.08s/it]\n"
     ]
    },
    {
     "name": "stdout",
     "output_type": "stream",
     "text": [
      "Saving the result to ./19/train/greyscale/red/inverted_features.npy\n",
      "GreyscaleExtractor: processing 19/train/greyscale/red, do_fit = False\n",
      "Got the result from ./19/train/greyscale/red/features.npy\n",
      "Got the result from ./19/train/greyscale/red/inverted_features.npy\n",
      "GreyscaleExtractor: processing 19/train/greyscale/green, do_fit = True\n",
      "Saving the result to ./19/train/greyscale/green/diagrams.npy\n",
      "Saving the result to ./19/train/greyscale/green/inverted_diagrams.npy\n",
      "DiagramVectorizer: fitting complete\n"
     ]
    },
    {
     "name": "stderr",
     "output_type": "stream",
     "text": [
      "DiagramVectorizer: batch: 100%|██████████| 98/98 [01:45<00:00,  1.07s/it]\n"
     ]
    },
    {
     "name": "stdout",
     "output_type": "stream",
     "text": [
      "Saving the result to ./19/train/greyscale/green/features.npy\n",
      "DiagramVectorizer: fitting complete\n"
     ]
    },
    {
     "name": "stderr",
     "output_type": "stream",
     "text": [
      "DiagramVectorizer: batch: 100%|██████████| 98/98 [01:45<00:00,  1.08s/it]\n"
     ]
    },
    {
     "name": "stdout",
     "output_type": "stream",
     "text": [
      "Saving the result to ./19/train/greyscale/green/inverted_features.npy\n",
      "GreyscaleExtractor: processing 19/train/greyscale/green, do_fit = False\n",
      "Got the result from ./19/train/greyscale/green/features.npy\n",
      "Got the result from ./19/train/greyscale/green/inverted_features.npy\n",
      "GreyscaleExtractor: processing 19/train/greyscale/blue, do_fit = True\n",
      "Saving the result to ./19/train/greyscale/blue/diagrams.npy\n",
      "Saving the result to ./19/train/greyscale/blue/inverted_diagrams.npy\n",
      "DiagramVectorizer: fitting complete\n"
     ]
    },
    {
     "name": "stderr",
     "output_type": "stream",
     "text": [
      "DiagramVectorizer: batch: 100%|██████████| 98/98 [01:45<00:00,  1.08s/it]\n"
     ]
    },
    {
     "name": "stdout",
     "output_type": "stream",
     "text": [
      "Saving the result to ./19/train/greyscale/blue/features.npy\n",
      "DiagramVectorizer: fitting complete\n"
     ]
    },
    {
     "name": "stderr",
     "output_type": "stream",
     "text": [
      "DiagramVectorizer: batch: 100%|██████████| 98/98 [01:46<00:00,  1.09s/it]\n"
     ]
    },
    {
     "name": "stdout",
     "output_type": "stream",
     "text": [
      "Saving the result to ./19/train/greyscale/blue/inverted_features.npy\n",
      "GreyscaleExtractor: processing 19/train/greyscale/blue, do_fit = False\n",
      "Got the result from ./19/train/greyscale/blue/features.npy\n",
      "Got the result from ./19/train/greyscale/blue/inverted_features.npy\n",
      "Fitting filtrations\n",
      "Calculated radial centers for images of size 32x32: [ 5 12 19 26]x[ 5 12 19 26]\n",
      "Fitting filtration 0/116: 2/HeightFiltrartion_-1_-1\n",
      "RGB images received. Transforming to grayscale.\n"
     ]
    },
    {
     "name": "stderr",
     "output_type": "stream",
     "text": [
      "rgb2gray: 100%|██████████| 50000/50000 [00:04<00:00, 11659.17it/s]\n"
     ]
    },
    {
     "name": "stdout",
     "output_type": "stream",
     "text": [
      "FiltrationExtractor: processing 19/train/filtrations/2/HeightFiltrartion_-1_-1/gray, do_fit = True, filtration = HeightFiltration(direction=array([-1, -1]), n_jobs=-1)\n",
      "Saving the result to ./19/train/filtrations/2/HeightFiltrartion_-1_-1/gray/diagrams.npy\n",
      "DiagramVectorizer: fitting complete\n"
     ]
    },
    {
     "name": "stderr",
     "output_type": "stream",
     "text": [
      "DiagramVectorizer: batch: 100%|██████████| 98/98 [00:20<00:00,  4.81it/s]\n"
     ]
    },
    {
     "name": "stdout",
     "output_type": "stream",
     "text": [
      "Saving the result to ./19/train/filtrations/2/HeightFiltrartion_-1_-1/gray/features.npy\n",
      "FiltrationExtractor: processing 19/train/filtrations/2/HeightFiltrartion_-1_-1/gray, do_fit = False, filtration = HeightFiltration(direction=array([-1, -1]), n_jobs=-1)\n",
      "Got the result from ./19/train/filtrations/2/HeightFiltrartion_-1_-1/gray/features.npy\n",
      "FiltrationExtractor: processing 19/train/filtrations/2/HeightFiltrartion_-1_-1/red, do_fit = True, filtration = HeightFiltration(direction=array([-1, -1]), n_jobs=-1)\n",
      "Saving the result to ./19/train/filtrations/2/HeightFiltrartion_-1_-1/red/diagrams.npy\n",
      "DiagramVectorizer: fitting complete\n"
     ]
    },
    {
     "name": "stderr",
     "output_type": "stream",
     "text": [
      "DiagramVectorizer: batch: 100%|██████████| 98/98 [00:20<00:00,  4.87it/s]\n"
     ]
    },
    {
     "name": "stdout",
     "output_type": "stream",
     "text": [
      "Saving the result to ./19/train/filtrations/2/HeightFiltrartion_-1_-1/red/features.npy\n",
      "FiltrationExtractor: processing 19/train/filtrations/2/HeightFiltrartion_-1_-1/red, do_fit = False, filtration = HeightFiltration(direction=array([-1, -1]), n_jobs=-1)\n",
      "Got the result from ./19/train/filtrations/2/HeightFiltrartion_-1_-1/red/features.npy\n",
      "FiltrationExtractor: processing 19/train/filtrations/2/HeightFiltrartion_-1_-1/green, do_fit = True, filtration = HeightFiltration(direction=array([-1, -1]), n_jobs=-1)\n",
      "Saving the result to ./19/train/filtrations/2/HeightFiltrartion_-1_-1/green/diagrams.npy\n",
      "DiagramVectorizer: fitting complete\n"
     ]
    },
    {
     "name": "stderr",
     "output_type": "stream",
     "text": [
      "DiagramVectorizer: batch: 100%|██████████| 98/98 [00:20<00:00,  4.73it/s]\n"
     ]
    },
    {
     "name": "stdout",
     "output_type": "stream",
     "text": [
      "Saving the result to ./19/train/filtrations/2/HeightFiltrartion_-1_-1/green/features.npy\n",
      "FiltrationExtractor: processing 19/train/filtrations/2/HeightFiltrartion_-1_-1/green, do_fit = False, filtration = HeightFiltration(direction=array([-1, -1]), n_jobs=-1)\n",
      "Got the result from ./19/train/filtrations/2/HeightFiltrartion_-1_-1/green/features.npy\n",
      "FiltrationExtractor: processing 19/train/filtrations/2/HeightFiltrartion_-1_-1/blue, do_fit = True, filtration = HeightFiltration(direction=array([-1, -1]), n_jobs=-1)\n",
      "Saving the result to ./19/train/filtrations/2/HeightFiltrartion_-1_-1/blue/diagrams.npy\n",
      "DiagramVectorizer: fitting complete\n"
     ]
    },
    {
     "name": "stderr",
     "output_type": "stream",
     "text": [
      "DiagramVectorizer: batch: 100%|██████████| 98/98 [00:21<00:00,  4.56it/s]\n"
     ]
    },
    {
     "name": "stdout",
     "output_type": "stream",
     "text": [
      "Saving the result to ./19/train/filtrations/2/HeightFiltrartion_-1_-1/blue/features.npy\n",
      "FiltrationExtractor: processing 19/train/filtrations/2/HeightFiltrartion_-1_-1/blue, do_fit = False, filtration = HeightFiltration(direction=array([-1, -1]), n_jobs=-1)\n",
      "Got the result from ./19/train/filtrations/2/HeightFiltrartion_-1_-1/blue/features.npy\n",
      "Fitting filtration 1/116: 2/HeightFiltrartion_1_1\n",
      "RGB images received. Transforming to grayscale.\n"
     ]
    },
    {
     "name": "stderr",
     "output_type": "stream",
     "text": [
      "rgb2gray: 100%|██████████| 50000/50000 [00:03<00:00, 12804.98it/s]\n"
     ]
    },
    {
     "name": "stdout",
     "output_type": "stream",
     "text": [
      "FiltrationExtractor: processing 19/train/filtrations/2/HeightFiltrartion_1_1/gray, do_fit = True, filtration = HeightFiltration(direction=array([1, 1]), n_jobs=-1)\n",
      "Saving the result to ./19/train/filtrations/2/HeightFiltrartion_1_1/gray/diagrams.npy\n",
      "DiagramVectorizer: fitting complete\n"
     ]
    },
    {
     "name": "stderr",
     "output_type": "stream",
     "text": [
      "DiagramVectorizer: batch: 100%|██████████| 98/98 [00:20<00:00,  4.79it/s]\n"
     ]
    },
    {
     "name": "stdout",
     "output_type": "stream",
     "text": [
      "Saving the result to ./19/train/filtrations/2/HeightFiltrartion_1_1/gray/features.npy\n",
      "FiltrationExtractor: processing 19/train/filtrations/2/HeightFiltrartion_1_1/gray, do_fit = False, filtration = HeightFiltration(direction=array([1, 1]), n_jobs=-1)\n",
      "Got the result from ./19/train/filtrations/2/HeightFiltrartion_1_1/gray/features.npy\n",
      "FiltrationExtractor: processing 19/train/filtrations/2/HeightFiltrartion_1_1/red, do_fit = True, filtration = HeightFiltration(direction=array([1, 1]), n_jobs=-1)\n",
      "Saving the result to ./19/train/filtrations/2/HeightFiltrartion_1_1/red/diagrams.npy\n",
      "DiagramVectorizer: fitting complete\n"
     ]
    },
    {
     "name": "stderr",
     "output_type": "stream",
     "text": [
      "DiagramVectorizer: batch: 100%|██████████| 98/98 [00:19<00:00,  5.00it/s]\n"
     ]
    },
    {
     "name": "stdout",
     "output_type": "stream",
     "text": [
      "Saving the result to ./19/train/filtrations/2/HeightFiltrartion_1_1/red/features.npy\n",
      "FiltrationExtractor: processing 19/train/filtrations/2/HeightFiltrartion_1_1/red, do_fit = False, filtration = HeightFiltration(direction=array([1, 1]), n_jobs=-1)\n",
      "Got the result from ./19/train/filtrations/2/HeightFiltrartion_1_1/red/features.npy\n",
      "FiltrationExtractor: processing 19/train/filtrations/2/HeightFiltrartion_1_1/green, do_fit = True, filtration = HeightFiltration(direction=array([1, 1]), n_jobs=-1)\n",
      "Saving the result to ./19/train/filtrations/2/HeightFiltrartion_1_1/green/diagrams.npy\n",
      "DiagramVectorizer: fitting complete\n"
     ]
    },
    {
     "name": "stderr",
     "output_type": "stream",
     "text": [
      "DiagramVectorizer: batch: 100%|██████████| 98/98 [00:19<00:00,  4.97it/s]\n"
     ]
    },
    {
     "name": "stdout",
     "output_type": "stream",
     "text": [
      "Saving the result to ./19/train/filtrations/2/HeightFiltrartion_1_1/green/features.npy\n",
      "FiltrationExtractor: processing 19/train/filtrations/2/HeightFiltrartion_1_1/green, do_fit = False, filtration = HeightFiltration(direction=array([1, 1]), n_jobs=-1)\n",
      "Got the result from ./19/train/filtrations/2/HeightFiltrartion_1_1/green/features.npy\n",
      "FiltrationExtractor: processing 19/train/filtrations/2/HeightFiltrartion_1_1/blue, do_fit = True, filtration = HeightFiltration(direction=array([1, 1]), n_jobs=-1)\n",
      "Saving the result to ./19/train/filtrations/2/HeightFiltrartion_1_1/blue/diagrams.npy\n",
      "DiagramVectorizer: fitting complete\n"
     ]
    },
    {
     "name": "stderr",
     "output_type": "stream",
     "text": [
      "DiagramVectorizer: batch: 100%|██████████| 98/98 [00:20<00:00,  4.90it/s]\n"
     ]
    },
    {
     "name": "stdout",
     "output_type": "stream",
     "text": [
      "Saving the result to ./19/train/filtrations/2/HeightFiltrartion_1_1/blue/features.npy\n",
      "FiltrationExtractor: processing 19/train/filtrations/2/HeightFiltrartion_1_1/blue, do_fit = False, filtration = HeightFiltration(direction=array([1, 1]), n_jobs=-1)\n",
      "Got the result from ./19/train/filtrations/2/HeightFiltrartion_1_1/blue/features.npy\n",
      "Fitting filtration 2/116: 2/HeightFiltrartion_1_-1\n",
      "RGB images received. Transforming to grayscale.\n"
     ]
    },
    {
     "name": "stderr",
     "output_type": "stream",
     "text": [
      "rgb2gray: 100%|██████████| 50000/50000 [00:03<00:00, 12553.93it/s]\n"
     ]
    },
    {
     "name": "stdout",
     "output_type": "stream",
     "text": [
      "FiltrationExtractor: processing 19/train/filtrations/2/HeightFiltrartion_1_-1/gray, do_fit = True, filtration = HeightFiltration(direction=array([ 1, -1]), n_jobs=-1)\n",
      "Saving the result to ./19/train/filtrations/2/HeightFiltrartion_1_-1/gray/diagrams.npy\n",
      "DiagramVectorizer: fitting complete\n"
     ]
    },
    {
     "name": "stderr",
     "output_type": "stream",
     "text": [
      "DiagramVectorizer: batch: 100%|██████████| 98/98 [00:20<00:00,  4.84it/s]\n"
     ]
    },
    {
     "name": "stdout",
     "output_type": "stream",
     "text": [
      "Saving the result to ./19/train/filtrations/2/HeightFiltrartion_1_-1/gray/features.npy\n",
      "FiltrationExtractor: processing 19/train/filtrations/2/HeightFiltrartion_1_-1/gray, do_fit = False, filtration = HeightFiltration(direction=array([ 1, -1]), n_jobs=-1)\n",
      "Got the result from ./19/train/filtrations/2/HeightFiltrartion_1_-1/gray/features.npy\n",
      "FiltrationExtractor: processing 19/train/filtrations/2/HeightFiltrartion_1_-1/red, do_fit = True, filtration = HeightFiltration(direction=array([ 1, -1]), n_jobs=-1)\n",
      "Saving the result to ./19/train/filtrations/2/HeightFiltrartion_1_-1/red/diagrams.npy\n",
      "DiagramVectorizer: fitting complete\n"
     ]
    },
    {
     "name": "stderr",
     "output_type": "stream",
     "text": [
      "DiagramVectorizer: batch: 100%|██████████| 98/98 [00:20<00:00,  4.82it/s]\n"
     ]
    },
    {
     "name": "stdout",
     "output_type": "stream",
     "text": [
      "Saving the result to ./19/train/filtrations/2/HeightFiltrartion_1_-1/red/features.npy\n",
      "FiltrationExtractor: processing 19/train/filtrations/2/HeightFiltrartion_1_-1/red, do_fit = False, filtration = HeightFiltration(direction=array([ 1, -1]), n_jobs=-1)\n",
      "Got the result from ./19/train/filtrations/2/HeightFiltrartion_1_-1/red/features.npy\n",
      "FiltrationExtractor: processing 19/train/filtrations/2/HeightFiltrartion_1_-1/green, do_fit = True, filtration = HeightFiltration(direction=array([ 1, -1]), n_jobs=-1)\n",
      "Saving the result to ./19/train/filtrations/2/HeightFiltrartion_1_-1/green/diagrams.npy\n",
      "DiagramVectorizer: fitting complete\n"
     ]
    },
    {
     "name": "stderr",
     "output_type": "stream",
     "text": [
      "DiagramVectorizer: batch: 100%|██████████| 98/98 [00:20<00:00,  4.86it/s]\n"
     ]
    },
    {
     "name": "stdout",
     "output_type": "stream",
     "text": [
      "Saving the result to ./19/train/filtrations/2/HeightFiltrartion_1_-1/green/features.npy\n",
      "FiltrationExtractor: processing 19/train/filtrations/2/HeightFiltrartion_1_-1/green, do_fit = False, filtration = HeightFiltration(direction=array([ 1, -1]), n_jobs=-1)\n",
      "Got the result from ./19/train/filtrations/2/HeightFiltrartion_1_-1/green/features.npy\n",
      "FiltrationExtractor: processing 19/train/filtrations/2/HeightFiltrartion_1_-1/blue, do_fit = True, filtration = HeightFiltration(direction=array([ 1, -1]), n_jobs=-1)\n",
      "Saving the result to ./19/train/filtrations/2/HeightFiltrartion_1_-1/blue/diagrams.npy\n",
      "DiagramVectorizer: fitting complete\n"
     ]
    },
    {
     "name": "stderr",
     "output_type": "stream",
     "text": [
      "DiagramVectorizer: batch: 100%|██████████| 98/98 [00:21<00:00,  4.51it/s]\n"
     ]
    },
    {
     "name": "stdout",
     "output_type": "stream",
     "text": [
      "Saving the result to ./19/train/filtrations/2/HeightFiltrartion_1_-1/blue/features.npy\n",
      "FiltrationExtractor: processing 19/train/filtrations/2/HeightFiltrartion_1_-1/blue, do_fit = False, filtration = HeightFiltration(direction=array([ 1, -1]), n_jobs=-1)\n",
      "Got the result from ./19/train/filtrations/2/HeightFiltrartion_1_-1/blue/features.npy\n",
      "Fitting filtration 3/116: 2/HeightFiltrartion_-1_1\n",
      "RGB images received. Transforming to grayscale.\n"
     ]
    },
    {
     "name": "stderr",
     "output_type": "stream",
     "text": [
      "rgb2gray: 100%|██████████| 50000/50000 [00:04<00:00, 11429.02it/s]\n"
     ]
    },
    {
     "name": "stdout",
     "output_type": "stream",
     "text": [
      "FiltrationExtractor: processing 19/train/filtrations/2/HeightFiltrartion_-1_1/gray, do_fit = True, filtration = HeightFiltration(direction=array([-1,  1]), n_jobs=-1)\n",
      "Saving the result to ./19/train/filtrations/2/HeightFiltrartion_-1_1/gray/diagrams.npy\n",
      "DiagramVectorizer: fitting complete\n"
     ]
    },
    {
     "name": "stderr",
     "output_type": "stream",
     "text": [
      "DiagramVectorizer: batch: 100%|██████████| 98/98 [00:20<00:00,  4.80it/s]\n"
     ]
    },
    {
     "name": "stdout",
     "output_type": "stream",
     "text": [
      "Saving the result to ./19/train/filtrations/2/HeightFiltrartion_-1_1/gray/features.npy\n",
      "FiltrationExtractor: processing 19/train/filtrations/2/HeightFiltrartion_-1_1/gray, do_fit = False, filtration = HeightFiltration(direction=array([-1,  1]), n_jobs=-1)\n",
      "Got the result from ./19/train/filtrations/2/HeightFiltrartion_-1_1/gray/features.npy\n",
      "FiltrationExtractor: processing 19/train/filtrations/2/HeightFiltrartion_-1_1/red, do_fit = True, filtration = HeightFiltration(direction=array([-1,  1]), n_jobs=-1)\n",
      "Saving the result to ./19/train/filtrations/2/HeightFiltrartion_-1_1/red/diagrams.npy\n",
      "DiagramVectorizer: fitting complete\n"
     ]
    },
    {
     "name": "stderr",
     "output_type": "stream",
     "text": [
      "DiagramVectorizer: batch: 100%|██████████| 98/98 [00:20<00:00,  4.89it/s]\n"
     ]
    },
    {
     "name": "stdout",
     "output_type": "stream",
     "text": [
      "Saving the result to ./19/train/filtrations/2/HeightFiltrartion_-1_1/red/features.npy\n",
      "FiltrationExtractor: processing 19/train/filtrations/2/HeightFiltrartion_-1_1/red, do_fit = False, filtration = HeightFiltration(direction=array([-1,  1]), n_jobs=-1)\n",
      "Got the result from ./19/train/filtrations/2/HeightFiltrartion_-1_1/red/features.npy\n",
      "FiltrationExtractor: processing 19/train/filtrations/2/HeightFiltrartion_-1_1/green, do_fit = True, filtration = HeightFiltration(direction=array([-1,  1]), n_jobs=-1)\n",
      "Saving the result to ./19/train/filtrations/2/HeightFiltrartion_-1_1/green/diagrams.npy\n",
      "DiagramVectorizer: fitting complete\n"
     ]
    },
    {
     "name": "stderr",
     "output_type": "stream",
     "text": [
      "DiagramVectorizer: batch: 100%|██████████| 98/98 [00:19<00:00,  4.95it/s]\n"
     ]
    },
    {
     "name": "stdout",
     "output_type": "stream",
     "text": [
      "Saving the result to ./19/train/filtrations/2/HeightFiltrartion_-1_1/green/features.npy\n",
      "FiltrationExtractor: processing 19/train/filtrations/2/HeightFiltrartion_-1_1/green, do_fit = False, filtration = HeightFiltration(direction=array([-1,  1]), n_jobs=-1)\n",
      "Got the result from ./19/train/filtrations/2/HeightFiltrartion_-1_1/green/features.npy\n",
      "FiltrationExtractor: processing 19/train/filtrations/2/HeightFiltrartion_-1_1/blue, do_fit = True, filtration = HeightFiltration(direction=array([-1,  1]), n_jobs=-1)\n",
      "Saving the result to ./19/train/filtrations/2/HeightFiltrartion_-1_1/blue/diagrams.npy\n",
      "DiagramVectorizer: fitting complete\n"
     ]
    },
    {
     "name": "stderr",
     "output_type": "stream",
     "text": [
      "DiagramVectorizer: batch: 100%|██████████| 98/98 [00:20<00:00,  4.67it/s]\n"
     ]
    },
    {
     "name": "stdout",
     "output_type": "stream",
     "text": [
      "Saving the result to ./19/train/filtrations/2/HeightFiltrartion_-1_1/blue/features.npy\n",
      "FiltrationExtractor: processing 19/train/filtrations/2/HeightFiltrartion_-1_1/blue, do_fit = False, filtration = HeightFiltration(direction=array([-1,  1]), n_jobs=-1)\n",
      "Got the result from ./19/train/filtrations/2/HeightFiltrartion_-1_1/blue/features.npy\n",
      "Fitting filtration 4/116: 2/HeightFiltrartion_0_-1\n",
      "RGB images received. Transforming to grayscale.\n"
     ]
    },
    {
     "name": "stderr",
     "output_type": "stream",
     "text": [
      "rgb2gray: 100%|██████████| 50000/50000 [00:03<00:00, 12877.92it/s]\n"
     ]
    },
    {
     "name": "stdout",
     "output_type": "stream",
     "text": [
      "FiltrationExtractor: processing 19/train/filtrations/2/HeightFiltrartion_0_-1/gray, do_fit = True, filtration = HeightFiltration(direction=array([ 0, -1]), n_jobs=-1)\n",
      "Saving the result to ./19/train/filtrations/2/HeightFiltrartion_0_-1/gray/diagrams.npy\n",
      "DiagramVectorizer: fitting complete\n"
     ]
    },
    {
     "name": "stderr",
     "output_type": "stream",
     "text": [
      "DiagramVectorizer: batch: 100%|██████████| 98/98 [00:21<00:00,  4.62it/s]\n"
     ]
    },
    {
     "name": "stdout",
     "output_type": "stream",
     "text": [
      "Saving the result to ./19/train/filtrations/2/HeightFiltrartion_0_-1/gray/features.npy\n",
      "FiltrationExtractor: processing 19/train/filtrations/2/HeightFiltrartion_0_-1/gray, do_fit = False, filtration = HeightFiltration(direction=array([ 0, -1]), n_jobs=-1)\n",
      "Got the result from ./19/train/filtrations/2/HeightFiltrartion_0_-1/gray/features.npy\n",
      "FiltrationExtractor: processing 19/train/filtrations/2/HeightFiltrartion_0_-1/red, do_fit = True, filtration = HeightFiltration(direction=array([ 0, -1]), n_jobs=-1)\n",
      "Saving the result to ./19/train/filtrations/2/HeightFiltrartion_0_-1/red/diagrams.npy\n",
      "DiagramVectorizer: fitting complete\n"
     ]
    },
    {
     "name": "stderr",
     "output_type": "stream",
     "text": [
      "DiagramVectorizer: batch: 100%|██████████| 98/98 [00:20<00:00,  4.87it/s]\n"
     ]
    },
    {
     "name": "stdout",
     "output_type": "stream",
     "text": [
      "Saving the result to ./19/train/filtrations/2/HeightFiltrartion_0_-1/red/features.npy\n",
      "FiltrationExtractor: processing 19/train/filtrations/2/HeightFiltrartion_0_-1/red, do_fit = False, filtration = HeightFiltration(direction=array([ 0, -1]), n_jobs=-1)\n",
      "Got the result from ./19/train/filtrations/2/HeightFiltrartion_0_-1/red/features.npy\n",
      "FiltrationExtractor: processing 19/train/filtrations/2/HeightFiltrartion_0_-1/green, do_fit = True, filtration = HeightFiltration(direction=array([ 0, -1]), n_jobs=-1)\n",
      "Saving the result to ./19/train/filtrations/2/HeightFiltrartion_0_-1/green/diagrams.npy\n",
      "DiagramVectorizer: fitting complete\n"
     ]
    },
    {
     "name": "stderr",
     "output_type": "stream",
     "text": [
      "DiagramVectorizer: batch: 100%|██████████| 98/98 [00:21<00:00,  4.58it/s]\n"
     ]
    },
    {
     "name": "stdout",
     "output_type": "stream",
     "text": [
      "Saving the result to ./19/train/filtrations/2/HeightFiltrartion_0_-1/green/features.npy\n",
      "FiltrationExtractor: processing 19/train/filtrations/2/HeightFiltrartion_0_-1/green, do_fit = False, filtration = HeightFiltration(direction=array([ 0, -1]), n_jobs=-1)\n",
      "Got the result from ./19/train/filtrations/2/HeightFiltrartion_0_-1/green/features.npy\n",
      "FiltrationExtractor: processing 19/train/filtrations/2/HeightFiltrartion_0_-1/blue, do_fit = True, filtration = HeightFiltration(direction=array([ 0, -1]), n_jobs=-1)\n",
      "Saving the result to ./19/train/filtrations/2/HeightFiltrartion_0_-1/blue/diagrams.npy\n",
      "DiagramVectorizer: fitting complete\n"
     ]
    },
    {
     "name": "stderr",
     "output_type": "stream",
     "text": [
      "DiagramVectorizer: batch: 100%|██████████| 98/98 [00:21<00:00,  4.46it/s]\n"
     ]
    },
    {
     "name": "stdout",
     "output_type": "stream",
     "text": [
      "Saving the result to ./19/train/filtrations/2/HeightFiltrartion_0_-1/blue/features.npy\n",
      "FiltrationExtractor: processing 19/train/filtrations/2/HeightFiltrartion_0_-1/blue, do_fit = False, filtration = HeightFiltration(direction=array([ 0, -1]), n_jobs=-1)\n",
      "Got the result from ./19/train/filtrations/2/HeightFiltrartion_0_-1/blue/features.npy\n",
      "Fitting filtration 5/116: 2/HeightFiltrartion_0_1\n",
      "RGB images received. Transforming to grayscale.\n"
     ]
    },
    {
     "name": "stderr",
     "output_type": "stream",
     "text": [
      "rgb2gray: 100%|██████████| 50000/50000 [00:04<00:00, 11630.17it/s]\n"
     ]
    },
    {
     "name": "stdout",
     "output_type": "stream",
     "text": [
      "FiltrationExtractor: processing 19/train/filtrations/2/HeightFiltrartion_0_1/gray, do_fit = True, filtration = HeightFiltration(direction=array([0, 1]), n_jobs=-1)\n",
      "Saving the result to ./19/train/filtrations/2/HeightFiltrartion_0_1/gray/diagrams.npy\n",
      "DiagramVectorizer: fitting complete\n"
     ]
    },
    {
     "name": "stderr",
     "output_type": "stream",
     "text": [
      "DiagramVectorizer: batch: 100%|██████████| 98/98 [00:20<00:00,  4.87it/s]\n"
     ]
    },
    {
     "name": "stdout",
     "output_type": "stream",
     "text": [
      "Saving the result to ./19/train/filtrations/2/HeightFiltrartion_0_1/gray/features.npy\n",
      "FiltrationExtractor: processing 19/train/filtrations/2/HeightFiltrartion_0_1/gray, do_fit = False, filtration = HeightFiltration(direction=array([0, 1]), n_jobs=-1)\n",
      "Got the result from ./19/train/filtrations/2/HeightFiltrartion_0_1/gray/features.npy\n",
      "FiltrationExtractor: processing 19/train/filtrations/2/HeightFiltrartion_0_1/red, do_fit = True, filtration = HeightFiltration(direction=array([0, 1]), n_jobs=-1)\n",
      "Saving the result to ./19/train/filtrations/2/HeightFiltrartion_0_1/red/diagrams.npy\n",
      "DiagramVectorizer: fitting complete\n"
     ]
    },
    {
     "name": "stderr",
     "output_type": "stream",
     "text": [
      "DiagramVectorizer: batch: 100%|██████████| 98/98 [00:21<00:00,  4.66it/s]\n"
     ]
    },
    {
     "name": "stdout",
     "output_type": "stream",
     "text": [
      "Saving the result to ./19/train/filtrations/2/HeightFiltrartion_0_1/red/features.npy\n",
      "FiltrationExtractor: processing 19/train/filtrations/2/HeightFiltrartion_0_1/red, do_fit = False, filtration = HeightFiltration(direction=array([0, 1]), n_jobs=-1)\n",
      "Got the result from ./19/train/filtrations/2/HeightFiltrartion_0_1/red/features.npy\n",
      "FiltrationExtractor: processing 19/train/filtrations/2/HeightFiltrartion_0_1/green, do_fit = True, filtration = HeightFiltration(direction=array([0, 1]), n_jobs=-1)\n",
      "Saving the result to ./19/train/filtrations/2/HeightFiltrartion_0_1/green/diagrams.npy\n",
      "DiagramVectorizer: fitting complete\n"
     ]
    },
    {
     "name": "stderr",
     "output_type": "stream",
     "text": [
      "DiagramVectorizer: batch: 100%|██████████| 98/98 [00:21<00:00,  4.48it/s]\n"
     ]
    },
    {
     "name": "stdout",
     "output_type": "stream",
     "text": [
      "Saving the result to ./19/train/filtrations/2/HeightFiltrartion_0_1/green/features.npy\n",
      "FiltrationExtractor: processing 19/train/filtrations/2/HeightFiltrartion_0_1/green, do_fit = False, filtration = HeightFiltration(direction=array([0, 1]), n_jobs=-1)\n",
      "Got the result from ./19/train/filtrations/2/HeightFiltrartion_0_1/green/features.npy\n",
      "FiltrationExtractor: processing 19/train/filtrations/2/HeightFiltrartion_0_1/blue, do_fit = True, filtration = HeightFiltration(direction=array([0, 1]), n_jobs=-1)\n",
      "Saving the result to ./19/train/filtrations/2/HeightFiltrartion_0_1/blue/diagrams.npy\n",
      "DiagramVectorizer: fitting complete\n"
     ]
    },
    {
     "name": "stderr",
     "output_type": "stream",
     "text": [
      "DiagramVectorizer: batch: 100%|██████████| 98/98 [00:21<00:00,  4.45it/s]\n"
     ]
    },
    {
     "name": "stdout",
     "output_type": "stream",
     "text": [
      "Saving the result to ./19/train/filtrations/2/HeightFiltrartion_0_1/blue/features.npy\n",
      "FiltrationExtractor: processing 19/train/filtrations/2/HeightFiltrartion_0_1/blue, do_fit = False, filtration = HeightFiltration(direction=array([0, 1]), n_jobs=-1)\n",
      "Got the result from ./19/train/filtrations/2/HeightFiltrartion_0_1/blue/features.npy\n",
      "Fitting filtration 6/116: 2/HeightFiltrartion_-1_0\n",
      "RGB images received. Transforming to grayscale.\n"
     ]
    },
    {
     "name": "stderr",
     "output_type": "stream",
     "text": [
      "rgb2gray: 100%|██████████| 50000/50000 [00:03<00:00, 12681.34it/s]\n"
     ]
    },
    {
     "name": "stdout",
     "output_type": "stream",
     "text": [
      "FiltrationExtractor: processing 19/train/filtrations/2/HeightFiltrartion_-1_0/gray, do_fit = True, filtration = HeightFiltration(direction=array([-1,  0]), n_jobs=-1)\n",
      "Saving the result to ./19/train/filtrations/2/HeightFiltrartion_-1_0/gray/diagrams.npy\n",
      "DiagramVectorizer: fitting complete\n"
     ]
    },
    {
     "name": "stderr",
     "output_type": "stream",
     "text": [
      "DiagramVectorizer: batch: 100%|██████████| 98/98 [00:20<00:00,  4.69it/s]\n"
     ]
    },
    {
     "name": "stdout",
     "output_type": "stream",
     "text": [
      "Saving the result to ./19/train/filtrations/2/HeightFiltrartion_-1_0/gray/features.npy\n",
      "FiltrationExtractor: processing 19/train/filtrations/2/HeightFiltrartion_-1_0/gray, do_fit = False, filtration = HeightFiltration(direction=array([-1,  0]), n_jobs=-1)\n",
      "Got the result from ./19/train/filtrations/2/HeightFiltrartion_-1_0/gray/features.npy\n",
      "FiltrationExtractor: processing 19/train/filtrations/2/HeightFiltrartion_-1_0/red, do_fit = True, filtration = HeightFiltration(direction=array([-1,  0]), n_jobs=-1)\n",
      "Saving the result to ./19/train/filtrations/2/HeightFiltrartion_-1_0/red/diagrams.npy\n",
      "DiagramVectorizer: fitting complete\n"
     ]
    },
    {
     "name": "stderr",
     "output_type": "stream",
     "text": [
      "DiagramVectorizer: batch: 100%|██████████| 98/98 [00:19<00:00,  4.92it/s]\n"
     ]
    },
    {
     "name": "stdout",
     "output_type": "stream",
     "text": [
      "Saving the result to ./19/train/filtrations/2/HeightFiltrartion_-1_0/red/features.npy\n",
      "FiltrationExtractor: processing 19/train/filtrations/2/HeightFiltrartion_-1_0/red, do_fit = False, filtration = HeightFiltration(direction=array([-1,  0]), n_jobs=-1)\n",
      "Got the result from ./19/train/filtrations/2/HeightFiltrartion_-1_0/red/features.npy\n",
      "FiltrationExtractor: processing 19/train/filtrations/2/HeightFiltrartion_-1_0/green, do_fit = True, filtration = HeightFiltration(direction=array([-1,  0]), n_jobs=-1)\n",
      "Saving the result to ./19/train/filtrations/2/HeightFiltrartion_-1_0/green/diagrams.npy\n",
      "DiagramVectorizer: fitting complete\n"
     ]
    },
    {
     "name": "stderr",
     "output_type": "stream",
     "text": [
      "DiagramVectorizer: batch: 100%|██████████| 98/98 [00:20<00:00,  4.84it/s]\n"
     ]
    },
    {
     "name": "stdout",
     "output_type": "stream",
     "text": [
      "Saving the result to ./19/train/filtrations/2/HeightFiltrartion_-1_0/green/features.npy\n",
      "FiltrationExtractor: processing 19/train/filtrations/2/HeightFiltrartion_-1_0/green, do_fit = False, filtration = HeightFiltration(direction=array([-1,  0]), n_jobs=-1)\n",
      "Got the result from ./19/train/filtrations/2/HeightFiltrartion_-1_0/green/features.npy\n",
      "FiltrationExtractor: processing 19/train/filtrations/2/HeightFiltrartion_-1_0/blue, do_fit = True, filtration = HeightFiltration(direction=array([-1,  0]), n_jobs=-1)\n",
      "Saving the result to ./19/train/filtrations/2/HeightFiltrartion_-1_0/blue/diagrams.npy\n",
      "DiagramVectorizer: fitting complete\n"
     ]
    },
    {
     "name": "stderr",
     "output_type": "stream",
     "text": [
      "DiagramVectorizer: batch: 100%|██████████| 98/98 [00:20<00:00,  4.77it/s]\n"
     ]
    },
    {
     "name": "stdout",
     "output_type": "stream",
     "text": [
      "Saving the result to ./19/train/filtrations/2/HeightFiltrartion_-1_0/blue/features.npy\n",
      "FiltrationExtractor: processing 19/train/filtrations/2/HeightFiltrartion_-1_0/blue, do_fit = False, filtration = HeightFiltration(direction=array([-1,  0]), n_jobs=-1)\n",
      "Got the result from ./19/train/filtrations/2/HeightFiltrartion_-1_0/blue/features.npy\n",
      "Fitting filtration 7/116: 2/HeightFiltrartion_1_0\n",
      "RGB images received. Transforming to grayscale.\n"
     ]
    },
    {
     "name": "stderr",
     "output_type": "stream",
     "text": [
      "rgb2gray: 100%|██████████| 50000/50000 [00:03<00:00, 13757.02it/s]\n"
     ]
    },
    {
     "name": "stdout",
     "output_type": "stream",
     "text": [
      "FiltrationExtractor: processing 19/train/filtrations/2/HeightFiltrartion_1_0/gray, do_fit = True, filtration = HeightFiltration(direction=array([1, 0]), n_jobs=-1)\n",
      "Saving the result to ./19/train/filtrations/2/HeightFiltrartion_1_0/gray/diagrams.npy\n",
      "DiagramVectorizer: fitting complete\n"
     ]
    },
    {
     "name": "stderr",
     "output_type": "stream",
     "text": [
      "DiagramVectorizer: batch: 100%|██████████| 98/98 [00:19<00:00,  4.92it/s]\n"
     ]
    },
    {
     "name": "stdout",
     "output_type": "stream",
     "text": [
      "Saving the result to ./19/train/filtrations/2/HeightFiltrartion_1_0/gray/features.npy\n",
      "FiltrationExtractor: processing 19/train/filtrations/2/HeightFiltrartion_1_0/gray, do_fit = False, filtration = HeightFiltration(direction=array([1, 0]), n_jobs=-1)\n",
      "Got the result from ./19/train/filtrations/2/HeightFiltrartion_1_0/gray/features.npy\n",
      "FiltrationExtractor: processing 19/train/filtrations/2/HeightFiltrartion_1_0/red, do_fit = True, filtration = HeightFiltration(direction=array([1, 0]), n_jobs=-1)\n",
      "Saving the result to ./19/train/filtrations/2/HeightFiltrartion_1_0/red/diagrams.npy\n",
      "DiagramVectorizer: fitting complete\n"
     ]
    },
    {
     "name": "stderr",
     "output_type": "stream",
     "text": [
      "DiagramVectorizer: batch: 100%|██████████| 98/98 [00:20<00:00,  4.67it/s]\n"
     ]
    },
    {
     "name": "stdout",
     "output_type": "stream",
     "text": [
      "Saving the result to ./19/train/filtrations/2/HeightFiltrartion_1_0/red/features.npy\n",
      "FiltrationExtractor: processing 19/train/filtrations/2/HeightFiltrartion_1_0/red, do_fit = False, filtration = HeightFiltration(direction=array([1, 0]), n_jobs=-1)\n",
      "Got the result from ./19/train/filtrations/2/HeightFiltrartion_1_0/red/features.npy\n",
      "FiltrationExtractor: processing 19/train/filtrations/2/HeightFiltrartion_1_0/green, do_fit = True, filtration = HeightFiltration(direction=array([1, 0]), n_jobs=-1)\n",
      "Saving the result to ./19/train/filtrations/2/HeightFiltrartion_1_0/green/diagrams.npy\n",
      "DiagramVectorizer: fitting complete\n"
     ]
    },
    {
     "name": "stderr",
     "output_type": "stream",
     "text": [
      "DiagramVectorizer: batch: 100%|██████████| 98/98 [00:20<00:00,  4.83it/s]\n"
     ]
    },
    {
     "name": "stdout",
     "output_type": "stream",
     "text": [
      "Saving the result to ./19/train/filtrations/2/HeightFiltrartion_1_0/green/features.npy\n",
      "FiltrationExtractor: processing 19/train/filtrations/2/HeightFiltrartion_1_0/green, do_fit = False, filtration = HeightFiltration(direction=array([1, 0]), n_jobs=-1)\n",
      "Got the result from ./19/train/filtrations/2/HeightFiltrartion_1_0/green/features.npy\n",
      "FiltrationExtractor: processing 19/train/filtrations/2/HeightFiltrartion_1_0/blue, do_fit = True, filtration = HeightFiltration(direction=array([1, 0]), n_jobs=-1)\n",
      "Saving the result to ./19/train/filtrations/2/HeightFiltrartion_1_0/blue/diagrams.npy\n",
      "DiagramVectorizer: fitting complete\n"
     ]
    },
    {
     "name": "stderr",
     "output_type": "stream",
     "text": [
      "DiagramVectorizer: batch: 100%|██████████| 98/98 [00:20<00:00,  4.69it/s]\n"
     ]
    },
    {
     "name": "stdout",
     "output_type": "stream",
     "text": [
      "Saving the result to ./19/train/filtrations/2/HeightFiltrartion_1_0/blue/features.npy\n",
      "FiltrationExtractor: processing 19/train/filtrations/2/HeightFiltrartion_1_0/blue, do_fit = False, filtration = HeightFiltration(direction=array([1, 0]), n_jobs=-1)\n",
      "Got the result from ./19/train/filtrations/2/HeightFiltrartion_1_0/blue/features.npy\n",
      "Fitting filtration 8/116: 2/RadialFiltration_5_5\n",
      "RGB images received. Transforming to grayscale.\n"
     ]
    },
    {
     "name": "stderr",
     "output_type": "stream",
     "text": [
      "rgb2gray: 100%|██████████| 50000/50000 [00:03<00:00, 13676.32it/s]\n"
     ]
    },
    {
     "name": "stdout",
     "output_type": "stream",
     "text": [
      "FiltrationExtractor: processing 19/train/filtrations/2/RadialFiltration_5_5/gray, do_fit = True, filtration = RadialFiltration(center=array([5, 5]), n_jobs=-1)\n",
      "Saving the result to ./19/train/filtrations/2/RadialFiltration_5_5/gray/diagrams.npy\n",
      "DiagramVectorizer: fitting complete\n"
     ]
    },
    {
     "name": "stderr",
     "output_type": "stream",
     "text": [
      "DiagramVectorizer: batch: 100%|██████████| 98/98 [00:19<00:00,  4.99it/s]\n"
     ]
    },
    {
     "name": "stdout",
     "output_type": "stream",
     "text": [
      "Saving the result to ./19/train/filtrations/2/RadialFiltration_5_5/gray/features.npy\n",
      "FiltrationExtractor: processing 19/train/filtrations/2/RadialFiltration_5_5/gray, do_fit = False, filtration = RadialFiltration(center=array([5, 5]), n_jobs=-1)\n",
      "Got the result from ./19/train/filtrations/2/RadialFiltration_5_5/gray/features.npy\n",
      "FiltrationExtractor: processing 19/train/filtrations/2/RadialFiltration_5_5/red, do_fit = True, filtration = RadialFiltration(center=array([5, 5]), n_jobs=-1)\n",
      "Saving the result to ./19/train/filtrations/2/RadialFiltration_5_5/red/diagrams.npy\n",
      "DiagramVectorizer: fitting complete\n"
     ]
    },
    {
     "name": "stderr",
     "output_type": "stream",
     "text": [
      "DiagramVectorizer: batch: 100%|██████████| 98/98 [00:19<00:00,  5.04it/s]\n"
     ]
    },
    {
     "name": "stdout",
     "output_type": "stream",
     "text": [
      "Saving the result to ./19/train/filtrations/2/RadialFiltration_5_5/red/features.npy\n",
      "FiltrationExtractor: processing 19/train/filtrations/2/RadialFiltration_5_5/red, do_fit = False, filtration = RadialFiltration(center=array([5, 5]), n_jobs=-1)\n",
      "Got the result from ./19/train/filtrations/2/RadialFiltration_5_5/red/features.npy\n",
      "FiltrationExtractor: processing 19/train/filtrations/2/RadialFiltration_5_5/green, do_fit = True, filtration = RadialFiltration(center=array([5, 5]), n_jobs=-1)\n",
      "Saving the result to ./19/train/filtrations/2/RadialFiltration_5_5/green/diagrams.npy\n",
      "DiagramVectorizer: fitting complete\n"
     ]
    },
    {
     "name": "stderr",
     "output_type": "stream",
     "text": [
      "DiagramVectorizer: batch: 100%|██████████| 98/98 [00:19<00:00,  5.05it/s]\n"
     ]
    },
    {
     "name": "stdout",
     "output_type": "stream",
     "text": [
      "Saving the result to ./19/train/filtrations/2/RadialFiltration_5_5/green/features.npy\n",
      "FiltrationExtractor: processing 19/train/filtrations/2/RadialFiltration_5_5/green, do_fit = False, filtration = RadialFiltration(center=array([5, 5]), n_jobs=-1)\n",
      "Got the result from ./19/train/filtrations/2/RadialFiltration_5_5/green/features.npy\n",
      "FiltrationExtractor: processing 19/train/filtrations/2/RadialFiltration_5_5/blue, do_fit = True, filtration = RadialFiltration(center=array([5, 5]), n_jobs=-1)\n",
      "Saving the result to ./19/train/filtrations/2/RadialFiltration_5_5/blue/diagrams.npy\n",
      "DiagramVectorizer: fitting complete\n"
     ]
    },
    {
     "name": "stderr",
     "output_type": "stream",
     "text": [
      "DiagramVectorizer: batch: 100%|██████████| 98/98 [00:20<00:00,  4.78it/s]\n"
     ]
    },
    {
     "name": "stdout",
     "output_type": "stream",
     "text": [
      "Saving the result to ./19/train/filtrations/2/RadialFiltration_5_5/blue/features.npy\n",
      "FiltrationExtractor: processing 19/train/filtrations/2/RadialFiltration_5_5/blue, do_fit = False, filtration = RadialFiltration(center=array([5, 5]), n_jobs=-1)\n",
      "Got the result from ./19/train/filtrations/2/RadialFiltration_5_5/blue/features.npy\n",
      "Fitting filtration 9/116: 2/RadialFiltration_5_12\n",
      "RGB images received. Transforming to grayscale.\n"
     ]
    },
    {
     "name": "stderr",
     "output_type": "stream",
     "text": [
      "rgb2gray: 100%|██████████| 50000/50000 [00:03<00:00, 13623.75it/s]\n"
     ]
    },
    {
     "name": "stdout",
     "output_type": "stream",
     "text": [
      "FiltrationExtractor: processing 19/train/filtrations/2/RadialFiltration_5_12/gray, do_fit = True, filtration = RadialFiltration(center=array([ 5, 12]), n_jobs=-1)\n",
      "Saving the result to ./19/train/filtrations/2/RadialFiltration_5_12/gray/diagrams.npy\n",
      "DiagramVectorizer: fitting complete\n"
     ]
    },
    {
     "name": "stderr",
     "output_type": "stream",
     "text": [
      "DiagramVectorizer: batch: 100%|██████████| 98/98 [00:22<00:00,  4.44it/s]\n"
     ]
    },
    {
     "name": "stdout",
     "output_type": "stream",
     "text": [
      "Saving the result to ./19/train/filtrations/2/RadialFiltration_5_12/gray/features.npy\n",
      "FiltrationExtractor: processing 19/train/filtrations/2/RadialFiltration_5_12/gray, do_fit = False, filtration = RadialFiltration(center=array([ 5, 12]), n_jobs=-1)\n",
      "Got the result from ./19/train/filtrations/2/RadialFiltration_5_12/gray/features.npy\n",
      "FiltrationExtractor: processing 19/train/filtrations/2/RadialFiltration_5_12/red, do_fit = True, filtration = RadialFiltration(center=array([ 5, 12]), n_jobs=-1)\n",
      "Saving the result to ./19/train/filtrations/2/RadialFiltration_5_12/red/diagrams.npy\n",
      "DiagramVectorizer: fitting complete\n"
     ]
    },
    {
     "name": "stderr",
     "output_type": "stream",
     "text": [
      "DiagramVectorizer: batch: 100%|██████████| 98/98 [00:21<00:00,  4.60it/s]\n"
     ]
    },
    {
     "name": "stdout",
     "output_type": "stream",
     "text": [
      "Saving the result to ./19/train/filtrations/2/RadialFiltration_5_12/red/features.npy\n",
      "FiltrationExtractor: processing 19/train/filtrations/2/RadialFiltration_5_12/red, do_fit = False, filtration = RadialFiltration(center=array([ 5, 12]), n_jobs=-1)\n",
      "Got the result from ./19/train/filtrations/2/RadialFiltration_5_12/red/features.npy\n",
      "FiltrationExtractor: processing 19/train/filtrations/2/RadialFiltration_5_12/green, do_fit = True, filtration = RadialFiltration(center=array([ 5, 12]), n_jobs=-1)\n",
      "Saving the result to ./19/train/filtrations/2/RadialFiltration_5_12/green/diagrams.npy\n",
      "DiagramVectorizer: fitting complete\n"
     ]
    },
    {
     "name": "stderr",
     "output_type": "stream",
     "text": [
      "DiagramVectorizer: batch: 100%|██████████| 98/98 [00:20<00:00,  4.86it/s]\n"
     ]
    },
    {
     "name": "stdout",
     "output_type": "stream",
     "text": [
      "Saving the result to ./19/train/filtrations/2/RadialFiltration_5_12/green/features.npy\n",
      "FiltrationExtractor: processing 19/train/filtrations/2/RadialFiltration_5_12/green, do_fit = False, filtration = RadialFiltration(center=array([ 5, 12]), n_jobs=-1)\n",
      "Got the result from ./19/train/filtrations/2/RadialFiltration_5_12/green/features.npy\n",
      "FiltrationExtractor: processing 19/train/filtrations/2/RadialFiltration_5_12/blue, do_fit = True, filtration = RadialFiltration(center=array([ 5, 12]), n_jobs=-1)\n",
      "Saving the result to ./19/train/filtrations/2/RadialFiltration_5_12/blue/diagrams.npy\n",
      "DiagramVectorizer: fitting complete\n"
     ]
    },
    {
     "name": "stderr",
     "output_type": "stream",
     "text": [
      "DiagramVectorizer: batch: 100%|██████████| 98/98 [00:21<00:00,  4.64it/s]\n"
     ]
    },
    {
     "name": "stdout",
     "output_type": "stream",
     "text": [
      "Saving the result to ./19/train/filtrations/2/RadialFiltration_5_12/blue/features.npy\n",
      "FiltrationExtractor: processing 19/train/filtrations/2/RadialFiltration_5_12/blue, do_fit = False, filtration = RadialFiltration(center=array([ 5, 12]), n_jobs=-1)\n",
      "Got the result from ./19/train/filtrations/2/RadialFiltration_5_12/blue/features.npy\n",
      "Fitting filtration 10/116: 2/RadialFiltration_5_19\n",
      "RGB images received. Transforming to grayscale.\n"
     ]
    },
    {
     "name": "stderr",
     "output_type": "stream",
     "text": [
      "rgb2gray: 100%|██████████| 50000/50000 [00:03<00:00, 13216.16it/s]\n"
     ]
    },
    {
     "name": "stdout",
     "output_type": "stream",
     "text": [
      "FiltrationExtractor: processing 19/train/filtrations/2/RadialFiltration_5_19/gray, do_fit = True, filtration = RadialFiltration(center=array([ 5, 19]), n_jobs=-1)\n",
      "Saving the result to ./19/train/filtrations/2/RadialFiltration_5_19/gray/diagrams.npy\n",
      "DiagramVectorizer: fitting complete\n"
     ]
    },
    {
     "name": "stderr",
     "output_type": "stream",
     "text": [
      "DiagramVectorizer: batch: 100%|██████████| 98/98 [00:21<00:00,  4.52it/s]\n"
     ]
    },
    {
     "name": "stdout",
     "output_type": "stream",
     "text": [
      "Saving the result to ./19/train/filtrations/2/RadialFiltration_5_19/gray/features.npy\n",
      "FiltrationExtractor: processing 19/train/filtrations/2/RadialFiltration_5_19/gray, do_fit = False, filtration = RadialFiltration(center=array([ 5, 19]), n_jobs=-1)\n",
      "Got the result from ./19/train/filtrations/2/RadialFiltration_5_19/gray/features.npy\n",
      "FiltrationExtractor: processing 19/train/filtrations/2/RadialFiltration_5_19/red, do_fit = True, filtration = RadialFiltration(center=array([ 5, 19]), n_jobs=-1)\n",
      "Saving the result to ./19/train/filtrations/2/RadialFiltration_5_19/red/diagrams.npy\n",
      "DiagramVectorizer: fitting complete\n"
     ]
    },
    {
     "name": "stderr",
     "output_type": "stream",
     "text": [
      "DiagramVectorizer: batch: 100%|██████████| 98/98 [00:20<00:00,  4.69it/s]\n"
     ]
    },
    {
     "name": "stdout",
     "output_type": "stream",
     "text": [
      "Saving the result to ./19/train/filtrations/2/RadialFiltration_5_19/red/features.npy\n",
      "FiltrationExtractor: processing 19/train/filtrations/2/RadialFiltration_5_19/red, do_fit = False, filtration = RadialFiltration(center=array([ 5, 19]), n_jobs=-1)\n",
      "Got the result from ./19/train/filtrations/2/RadialFiltration_5_19/red/features.npy\n",
      "FiltrationExtractor: processing 19/train/filtrations/2/RadialFiltration_5_19/green, do_fit = True, filtration = RadialFiltration(center=array([ 5, 19]), n_jobs=-1)\n",
      "Saving the result to ./19/train/filtrations/2/RadialFiltration_5_19/green/diagrams.npy\n",
      "DiagramVectorizer: fitting complete\n"
     ]
    },
    {
     "name": "stderr",
     "output_type": "stream",
     "text": [
      "DiagramVectorizer: batch: 100%|██████████| 98/98 [00:19<00:00,  4.91it/s]\n"
     ]
    },
    {
     "name": "stdout",
     "output_type": "stream",
     "text": [
      "Saving the result to ./19/train/filtrations/2/RadialFiltration_5_19/green/features.npy\n",
      "FiltrationExtractor: processing 19/train/filtrations/2/RadialFiltration_5_19/green, do_fit = False, filtration = RadialFiltration(center=array([ 5, 19]), n_jobs=-1)\n",
      "Got the result from ./19/train/filtrations/2/RadialFiltration_5_19/green/features.npy\n",
      "FiltrationExtractor: processing 19/train/filtrations/2/RadialFiltration_5_19/blue, do_fit = True, filtration = RadialFiltration(center=array([ 5, 19]), n_jobs=-1)\n",
      "Saving the result to ./19/train/filtrations/2/RadialFiltration_5_19/blue/diagrams.npy\n",
      "DiagramVectorizer: fitting complete\n"
     ]
    },
    {
     "name": "stderr",
     "output_type": "stream",
     "text": [
      "DiagramVectorizer: batch: 100%|██████████| 98/98 [00:21<00:00,  4.45it/s]\n"
     ]
    },
    {
     "name": "stdout",
     "output_type": "stream",
     "text": [
      "Saving the result to ./19/train/filtrations/2/RadialFiltration_5_19/blue/features.npy\n",
      "FiltrationExtractor: processing 19/train/filtrations/2/RadialFiltration_5_19/blue, do_fit = False, filtration = RadialFiltration(center=array([ 5, 19]), n_jobs=-1)\n",
      "Got the result from ./19/train/filtrations/2/RadialFiltration_5_19/blue/features.npy\n",
      "Fitting filtration 11/116: 2/RadialFiltration_5_26\n",
      "RGB images received. Transforming to grayscale.\n"
     ]
    },
    {
     "name": "stderr",
     "output_type": "stream",
     "text": [
      "rgb2gray: 100%|██████████| 50000/50000 [00:03<00:00, 12946.51it/s]\n"
     ]
    },
    {
     "name": "stdout",
     "output_type": "stream",
     "text": [
      "FiltrationExtractor: processing 19/train/filtrations/2/RadialFiltration_5_26/gray, do_fit = True, filtration = RadialFiltration(center=array([ 5, 26]), n_jobs=-1)\n",
      "Saving the result to ./19/train/filtrations/2/RadialFiltration_5_26/gray/diagrams.npy\n",
      "DiagramVectorizer: fitting complete\n"
     ]
    },
    {
     "name": "stderr",
     "output_type": "stream",
     "text": [
      "DiagramVectorizer: batch: 100%|██████████| 98/98 [00:19<00:00,  5.01it/s]\n"
     ]
    },
    {
     "name": "stdout",
     "output_type": "stream",
     "text": [
      "Saving the result to ./19/train/filtrations/2/RadialFiltration_5_26/gray/features.npy\n",
      "FiltrationExtractor: processing 19/train/filtrations/2/RadialFiltration_5_26/gray, do_fit = False, filtration = RadialFiltration(center=array([ 5, 26]), n_jobs=-1)\n",
      "Got the result from ./19/train/filtrations/2/RadialFiltration_5_26/gray/features.npy\n",
      "FiltrationExtractor: processing 19/train/filtrations/2/RadialFiltration_5_26/red, do_fit = True, filtration = RadialFiltration(center=array([ 5, 26]), n_jobs=-1)\n",
      "Saving the result to ./19/train/filtrations/2/RadialFiltration_5_26/red/diagrams.npy\n",
      "DiagramVectorizer: fitting complete\n"
     ]
    },
    {
     "name": "stderr",
     "output_type": "stream",
     "text": [
      "DiagramVectorizer: batch: 100%|██████████| 98/98 [00:19<00:00,  4.90it/s]\n"
     ]
    },
    {
     "name": "stdout",
     "output_type": "stream",
     "text": [
      "Saving the result to ./19/train/filtrations/2/RadialFiltration_5_26/red/features.npy\n",
      "FiltrationExtractor: processing 19/train/filtrations/2/RadialFiltration_5_26/red, do_fit = False, filtration = RadialFiltration(center=array([ 5, 26]), n_jobs=-1)\n",
      "Got the result from ./19/train/filtrations/2/RadialFiltration_5_26/red/features.npy\n",
      "FiltrationExtractor: processing 19/train/filtrations/2/RadialFiltration_5_26/green, do_fit = True, filtration = RadialFiltration(center=array([ 5, 26]), n_jobs=-1)\n",
      "Saving the result to ./19/train/filtrations/2/RadialFiltration_5_26/green/diagrams.npy\n",
      "DiagramVectorizer: fitting complete\n"
     ]
    },
    {
     "name": "stderr",
     "output_type": "stream",
     "text": [
      "DiagramVectorizer: batch: 100%|██████████| 98/98 [00:20<00:00,  4.68it/s]\n"
     ]
    },
    {
     "name": "stdout",
     "output_type": "stream",
     "text": [
      "Saving the result to ./19/train/filtrations/2/RadialFiltration_5_26/green/features.npy\n",
      "FiltrationExtractor: processing 19/train/filtrations/2/RadialFiltration_5_26/green, do_fit = False, filtration = RadialFiltration(center=array([ 5, 26]), n_jobs=-1)\n",
      "Got the result from ./19/train/filtrations/2/RadialFiltration_5_26/green/features.npy\n",
      "FiltrationExtractor: processing 19/train/filtrations/2/RadialFiltration_5_26/blue, do_fit = True, filtration = RadialFiltration(center=array([ 5, 26]), n_jobs=-1)\n",
      "Saving the result to ./19/train/filtrations/2/RadialFiltration_5_26/blue/diagrams.npy\n",
      "DiagramVectorizer: fitting complete\n"
     ]
    },
    {
     "name": "stderr",
     "output_type": "stream",
     "text": [
      "DiagramVectorizer: batch: 100%|██████████| 98/98 [00:20<00:00,  4.68it/s]\n"
     ]
    },
    {
     "name": "stdout",
     "output_type": "stream",
     "text": [
      "Saving the result to ./19/train/filtrations/2/RadialFiltration_5_26/blue/features.npy\n",
      "FiltrationExtractor: processing 19/train/filtrations/2/RadialFiltration_5_26/blue, do_fit = False, filtration = RadialFiltration(center=array([ 5, 26]), n_jobs=-1)\n",
      "Got the result from ./19/train/filtrations/2/RadialFiltration_5_26/blue/features.npy\n",
      "Fitting filtration 12/116: 2/RadialFiltration_12_5\n",
      "RGB images received. Transforming to grayscale.\n"
     ]
    },
    {
     "name": "stderr",
     "output_type": "stream",
     "text": [
      "rgb2gray: 100%|██████████| 50000/50000 [00:03<00:00, 13042.46it/s]\n"
     ]
    },
    {
     "name": "stdout",
     "output_type": "stream",
     "text": [
      "FiltrationExtractor: processing 19/train/filtrations/2/RadialFiltration_12_5/gray, do_fit = True, filtration = RadialFiltration(center=array([12,  5]), n_jobs=-1)\n",
      "Saving the result to ./19/train/filtrations/2/RadialFiltration_12_5/gray/diagrams.npy\n",
      "DiagramVectorizer: fitting complete\n"
     ]
    },
    {
     "name": "stderr",
     "output_type": "stream",
     "text": [
      "DiagramVectorizer: batch: 100%|██████████| 98/98 [00:20<00:00,  4.69it/s]\n"
     ]
    },
    {
     "name": "stdout",
     "output_type": "stream",
     "text": [
      "Saving the result to ./19/train/filtrations/2/RadialFiltration_12_5/gray/features.npy\n",
      "FiltrationExtractor: processing 19/train/filtrations/2/RadialFiltration_12_5/gray, do_fit = False, filtration = RadialFiltration(center=array([12,  5]), n_jobs=-1)\n",
      "Got the result from ./19/train/filtrations/2/RadialFiltration_12_5/gray/features.npy\n",
      "FiltrationExtractor: processing 19/train/filtrations/2/RadialFiltration_12_5/red, do_fit = True, filtration = RadialFiltration(center=array([12,  5]), n_jobs=-1)\n",
      "Saving the result to ./19/train/filtrations/2/RadialFiltration_12_5/red/diagrams.npy\n",
      "DiagramVectorizer: fitting complete\n"
     ]
    },
    {
     "name": "stderr",
     "output_type": "stream",
     "text": [
      "DiagramVectorizer: batch: 100%|██████████| 98/98 [00:21<00:00,  4.56it/s]\n"
     ]
    },
    {
     "name": "stdout",
     "output_type": "stream",
     "text": [
      "Saving the result to ./19/train/filtrations/2/RadialFiltration_12_5/red/features.npy\n",
      "FiltrationExtractor: processing 19/train/filtrations/2/RadialFiltration_12_5/red, do_fit = False, filtration = RadialFiltration(center=array([12,  5]), n_jobs=-1)\n",
      "Got the result from ./19/train/filtrations/2/RadialFiltration_12_5/red/features.npy\n",
      "FiltrationExtractor: processing 19/train/filtrations/2/RadialFiltration_12_5/green, do_fit = True, filtration = RadialFiltration(center=array([12,  5]), n_jobs=-1)\n",
      "Saving the result to ./19/train/filtrations/2/RadialFiltration_12_5/green/diagrams.npy\n",
      "DiagramVectorizer: fitting complete\n"
     ]
    },
    {
     "name": "stderr",
     "output_type": "stream",
     "text": [
      "DiagramVectorizer: batch: 100%|██████████| 98/98 [00:22<00:00,  4.45it/s]\n"
     ]
    },
    {
     "name": "stdout",
     "output_type": "stream",
     "text": [
      "Saving the result to ./19/train/filtrations/2/RadialFiltration_12_5/green/features.npy\n",
      "FiltrationExtractor: processing 19/train/filtrations/2/RadialFiltration_12_5/green, do_fit = False, filtration = RadialFiltration(center=array([12,  5]), n_jobs=-1)\n",
      "Got the result from ./19/train/filtrations/2/RadialFiltration_12_5/green/features.npy\n",
      "FiltrationExtractor: processing 19/train/filtrations/2/RadialFiltration_12_5/blue, do_fit = True, filtration = RadialFiltration(center=array([12,  5]), n_jobs=-1)\n",
      "Saving the result to ./19/train/filtrations/2/RadialFiltration_12_5/blue/diagrams.npy\n",
      "DiagramVectorizer: fitting complete\n"
     ]
    },
    {
     "name": "stderr",
     "output_type": "stream",
     "text": [
      "DiagramVectorizer: batch: 100%|██████████| 98/98 [00:20<00:00,  4.71it/s]\n"
     ]
    },
    {
     "name": "stdout",
     "output_type": "stream",
     "text": [
      "Saving the result to ./19/train/filtrations/2/RadialFiltration_12_5/blue/features.npy\n",
      "FiltrationExtractor: processing 19/train/filtrations/2/RadialFiltration_12_5/blue, do_fit = False, filtration = RadialFiltration(center=array([12,  5]), n_jobs=-1)\n",
      "Got the result from ./19/train/filtrations/2/RadialFiltration_12_5/blue/features.npy\n",
      "Fitting filtration 13/116: 2/RadialFiltration_12_12\n",
      "RGB images received. Transforming to grayscale.\n"
     ]
    },
    {
     "name": "stderr",
     "output_type": "stream",
     "text": [
      "rgb2gray: 100%|██████████| 50000/50000 [00:04<00:00, 11663.22it/s]\n"
     ]
    },
    {
     "name": "stdout",
     "output_type": "stream",
     "text": [
      "FiltrationExtractor: processing 19/train/filtrations/2/RadialFiltration_12_12/gray, do_fit = True, filtration = RadialFiltration(center=array([12, 12]), n_jobs=-1)\n",
      "Saving the result to ./19/train/filtrations/2/RadialFiltration_12_12/gray/diagrams.npy\n",
      "DiagramVectorizer: fitting complete\n"
     ]
    },
    {
     "name": "stderr",
     "output_type": "stream",
     "text": [
      "DiagramVectorizer: batch: 100%|██████████| 98/98 [00:21<00:00,  4.46it/s]\n"
     ]
    },
    {
     "name": "stdout",
     "output_type": "stream",
     "text": [
      "Saving the result to ./19/train/filtrations/2/RadialFiltration_12_12/gray/features.npy\n",
      "FiltrationExtractor: processing 19/train/filtrations/2/RadialFiltration_12_12/gray, do_fit = False, filtration = RadialFiltration(center=array([12, 12]), n_jobs=-1)\n",
      "Got the result from ./19/train/filtrations/2/RadialFiltration_12_12/gray/features.npy\n",
      "FiltrationExtractor: processing 19/train/filtrations/2/RadialFiltration_12_12/red, do_fit = True, filtration = RadialFiltration(center=array([12, 12]), n_jobs=-1)\n",
      "Saving the result to ./19/train/filtrations/2/RadialFiltration_12_12/red/diagrams.npy\n",
      "DiagramVectorizer: fitting complete\n"
     ]
    },
    {
     "name": "stderr",
     "output_type": "stream",
     "text": [
      "DiagramVectorizer: batch: 100%|██████████| 98/98 [00:21<00:00,  4.50it/s]\n"
     ]
    },
    {
     "name": "stdout",
     "output_type": "stream",
     "text": [
      "Saving the result to ./19/train/filtrations/2/RadialFiltration_12_12/red/features.npy\n",
      "FiltrationExtractor: processing 19/train/filtrations/2/RadialFiltration_12_12/red, do_fit = False, filtration = RadialFiltration(center=array([12, 12]), n_jobs=-1)\n",
      "Got the result from ./19/train/filtrations/2/RadialFiltration_12_12/red/features.npy\n",
      "FiltrationExtractor: processing 19/train/filtrations/2/RadialFiltration_12_12/green, do_fit = True, filtration = RadialFiltration(center=array([12, 12]), n_jobs=-1)\n",
      "Saving the result to ./19/train/filtrations/2/RadialFiltration_12_12/green/diagrams.npy\n",
      "DiagramVectorizer: fitting complete\n"
     ]
    },
    {
     "name": "stderr",
     "output_type": "stream",
     "text": [
      "DiagramVectorizer: batch: 100%|██████████| 98/98 [00:22<00:00,  4.39it/s]\n"
     ]
    },
    {
     "name": "stdout",
     "output_type": "stream",
     "text": [
      "Saving the result to ./19/train/filtrations/2/RadialFiltration_12_12/green/features.npy\n",
      "FiltrationExtractor: processing 19/train/filtrations/2/RadialFiltration_12_12/green, do_fit = False, filtration = RadialFiltration(center=array([12, 12]), n_jobs=-1)\n",
      "Got the result from ./19/train/filtrations/2/RadialFiltration_12_12/green/features.npy\n",
      "FiltrationExtractor: processing 19/train/filtrations/2/RadialFiltration_12_12/blue, do_fit = True, filtration = RadialFiltration(center=array([12, 12]), n_jobs=-1)\n",
      "Saving the result to ./19/train/filtrations/2/RadialFiltration_12_12/blue/diagrams.npy\n",
      "DiagramVectorizer: fitting complete\n"
     ]
    },
    {
     "name": "stderr",
     "output_type": "stream",
     "text": [
      "DiagramVectorizer: batch: 100%|██████████| 98/98 [00:21<00:00,  4.58it/s]\n"
     ]
    },
    {
     "name": "stdout",
     "output_type": "stream",
     "text": [
      "Saving the result to ./19/train/filtrations/2/RadialFiltration_12_12/blue/features.npy\n",
      "FiltrationExtractor: processing 19/train/filtrations/2/RadialFiltration_12_12/blue, do_fit = False, filtration = RadialFiltration(center=array([12, 12]), n_jobs=-1)\n",
      "Got the result from ./19/train/filtrations/2/RadialFiltration_12_12/blue/features.npy\n",
      "Fitting filtration 14/116: 2/RadialFiltration_12_19\n",
      "RGB images received. Transforming to grayscale.\n"
     ]
    },
    {
     "name": "stderr",
     "output_type": "stream",
     "text": [
      "rgb2gray: 100%|██████████| 50000/50000 [00:04<00:00, 12256.54it/s]\n"
     ]
    },
    {
     "name": "stdout",
     "output_type": "stream",
     "text": [
      "FiltrationExtractor: processing 19/train/filtrations/2/RadialFiltration_12_19/gray, do_fit = True, filtration = RadialFiltration(center=array([12, 19]), n_jobs=-1)\n",
      "Saving the result to ./19/train/filtrations/2/RadialFiltration_12_19/gray/diagrams.npy\n",
      "DiagramVectorizer: fitting complete\n"
     ]
    },
    {
     "name": "stderr",
     "output_type": "stream",
     "text": [
      "DiagramVectorizer: batch: 100%|██████████| 98/98 [00:20<00:00,  4.74it/s]\n"
     ]
    },
    {
     "name": "stdout",
     "output_type": "stream",
     "text": [
      "Saving the result to ./19/train/filtrations/2/RadialFiltration_12_19/gray/features.npy\n",
      "FiltrationExtractor: processing 19/train/filtrations/2/RadialFiltration_12_19/gray, do_fit = False, filtration = RadialFiltration(center=array([12, 19]), n_jobs=-1)\n",
      "Got the result from ./19/train/filtrations/2/RadialFiltration_12_19/gray/features.npy\n",
      "FiltrationExtractor: processing 19/train/filtrations/2/RadialFiltration_12_19/red, do_fit = True, filtration = RadialFiltration(center=array([12, 19]), n_jobs=-1)\n",
      "Saving the result to ./19/train/filtrations/2/RadialFiltration_12_19/red/diagrams.npy\n",
      "DiagramVectorizer: fitting complete\n"
     ]
    },
    {
     "name": "stderr",
     "output_type": "stream",
     "text": [
      "DiagramVectorizer: batch: 100%|██████████| 98/98 [00:22<00:00,  4.39it/s]\n"
     ]
    },
    {
     "name": "stdout",
     "output_type": "stream",
     "text": [
      "Saving the result to ./19/train/filtrations/2/RadialFiltration_12_19/red/features.npy\n",
      "FiltrationExtractor: processing 19/train/filtrations/2/RadialFiltration_12_19/red, do_fit = False, filtration = RadialFiltration(center=array([12, 19]), n_jobs=-1)\n",
      "Got the result from ./19/train/filtrations/2/RadialFiltration_12_19/red/features.npy\n",
      "FiltrationExtractor: processing 19/train/filtrations/2/RadialFiltration_12_19/green, do_fit = True, filtration = RadialFiltration(center=array([12, 19]), n_jobs=-1)\n",
      "Saving the result to ./19/train/filtrations/2/RadialFiltration_12_19/green/diagrams.npy\n",
      "DiagramVectorizer: fitting complete\n"
     ]
    },
    {
     "name": "stderr",
     "output_type": "stream",
     "text": [
      "DiagramVectorizer: batch: 100%|██████████| 98/98 [00:21<00:00,  4.54it/s]\n"
     ]
    },
    {
     "name": "stdout",
     "output_type": "stream",
     "text": [
      "Saving the result to ./19/train/filtrations/2/RadialFiltration_12_19/green/features.npy\n",
      "FiltrationExtractor: processing 19/train/filtrations/2/RadialFiltration_12_19/green, do_fit = False, filtration = RadialFiltration(center=array([12, 19]), n_jobs=-1)\n",
      "Got the result from ./19/train/filtrations/2/RadialFiltration_12_19/green/features.npy\n",
      "FiltrationExtractor: processing 19/train/filtrations/2/RadialFiltration_12_19/blue, do_fit = True, filtration = RadialFiltration(center=array([12, 19]), n_jobs=-1)\n",
      "Saving the result to ./19/train/filtrations/2/RadialFiltration_12_19/blue/diagrams.npy\n",
      "DiagramVectorizer: fitting complete\n"
     ]
    },
    {
     "name": "stderr",
     "output_type": "stream",
     "text": [
      "DiagramVectorizer: batch: 100%|██████████| 98/98 [00:22<00:00,  4.33it/s]\n"
     ]
    },
    {
     "name": "stdout",
     "output_type": "stream",
     "text": [
      "Saving the result to ./19/train/filtrations/2/RadialFiltration_12_19/blue/features.npy\n",
      "FiltrationExtractor: processing 19/train/filtrations/2/RadialFiltration_12_19/blue, do_fit = False, filtration = RadialFiltration(center=array([12, 19]), n_jobs=-1)\n",
      "Got the result from ./19/train/filtrations/2/RadialFiltration_12_19/blue/features.npy\n",
      "Fitting filtration 15/116: 2/RadialFiltration_12_26\n",
      "RGB images received. Transforming to grayscale.\n"
     ]
    },
    {
     "name": "stderr",
     "output_type": "stream",
     "text": [
      "rgb2gray: 100%|██████████| 50000/50000 [00:04<00:00, 12150.27it/s]\n"
     ]
    },
    {
     "name": "stdout",
     "output_type": "stream",
     "text": [
      "FiltrationExtractor: processing 19/train/filtrations/2/RadialFiltration_12_26/gray, do_fit = True, filtration = RadialFiltration(center=array([12, 26]), n_jobs=-1)\n",
      "Saving the result to ./19/train/filtrations/2/RadialFiltration_12_26/gray/diagrams.npy\n",
      "DiagramVectorizer: fitting complete\n"
     ]
    },
    {
     "name": "stderr",
     "output_type": "stream",
     "text": [
      "DiagramVectorizer: batch: 100%|██████████| 98/98 [00:21<00:00,  4.60it/s]\n"
     ]
    },
    {
     "name": "stdout",
     "output_type": "stream",
     "text": [
      "Saving the result to ./19/train/filtrations/2/RadialFiltration_12_26/gray/features.npy\n",
      "FiltrationExtractor: processing 19/train/filtrations/2/RadialFiltration_12_26/gray, do_fit = False, filtration = RadialFiltration(center=array([12, 26]), n_jobs=-1)\n",
      "Got the result from ./19/train/filtrations/2/RadialFiltration_12_26/gray/features.npy\n",
      "FiltrationExtractor: processing 19/train/filtrations/2/RadialFiltration_12_26/red, do_fit = True, filtration = RadialFiltration(center=array([12, 26]), n_jobs=-1)\n",
      "Saving the result to ./19/train/filtrations/2/RadialFiltration_12_26/red/diagrams.npy\n",
      "DiagramVectorizer: fitting complete\n"
     ]
    },
    {
     "name": "stderr",
     "output_type": "stream",
     "text": [
      "DiagramVectorizer: batch: 100%|██████████| 98/98 [00:21<00:00,  4.54it/s]\n"
     ]
    },
    {
     "name": "stdout",
     "output_type": "stream",
     "text": [
      "Saving the result to ./19/train/filtrations/2/RadialFiltration_12_26/red/features.npy\n",
      "FiltrationExtractor: processing 19/train/filtrations/2/RadialFiltration_12_26/red, do_fit = False, filtration = RadialFiltration(center=array([12, 26]), n_jobs=-1)\n",
      "Got the result from ./19/train/filtrations/2/RadialFiltration_12_26/red/features.npy\n",
      "FiltrationExtractor: processing 19/train/filtrations/2/RadialFiltration_12_26/green, do_fit = True, filtration = RadialFiltration(center=array([12, 26]), n_jobs=-1)\n",
      "Saving the result to ./19/train/filtrations/2/RadialFiltration_12_26/green/diagrams.npy\n",
      "DiagramVectorizer: fitting complete\n"
     ]
    },
    {
     "name": "stderr",
     "output_type": "stream",
     "text": [
      "DiagramVectorizer: batch: 100%|██████████| 98/98 [00:21<00:00,  4.53it/s]\n"
     ]
    },
    {
     "name": "stdout",
     "output_type": "stream",
     "text": [
      "Saving the result to ./19/train/filtrations/2/RadialFiltration_12_26/green/features.npy\n",
      "FiltrationExtractor: processing 19/train/filtrations/2/RadialFiltration_12_26/green, do_fit = False, filtration = RadialFiltration(center=array([12, 26]), n_jobs=-1)\n",
      "Got the result from ./19/train/filtrations/2/RadialFiltration_12_26/green/features.npy\n",
      "FiltrationExtractor: processing 19/train/filtrations/2/RadialFiltration_12_26/blue, do_fit = True, filtration = RadialFiltration(center=array([12, 26]), n_jobs=-1)\n",
      "Saving the result to ./19/train/filtrations/2/RadialFiltration_12_26/blue/diagrams.npy\n",
      "DiagramVectorizer: fitting complete\n"
     ]
    },
    {
     "name": "stderr",
     "output_type": "stream",
     "text": [
      "DiagramVectorizer: batch: 100%|██████████| 98/98 [00:22<00:00,  4.36it/s]\n"
     ]
    },
    {
     "name": "stdout",
     "output_type": "stream",
     "text": [
      "Saving the result to ./19/train/filtrations/2/RadialFiltration_12_26/blue/features.npy\n",
      "FiltrationExtractor: processing 19/train/filtrations/2/RadialFiltration_12_26/blue, do_fit = False, filtration = RadialFiltration(center=array([12, 26]), n_jobs=-1)\n",
      "Got the result from ./19/train/filtrations/2/RadialFiltration_12_26/blue/features.npy\n",
      "Fitting filtration 16/116: 2/RadialFiltration_19_5\n",
      "RGB images received. Transforming to grayscale.\n"
     ]
    },
    {
     "name": "stderr",
     "output_type": "stream",
     "text": [
      "rgb2gray: 100%|██████████| 50000/50000 [00:04<00:00, 11459.04it/s]\n"
     ]
    },
    {
     "name": "stdout",
     "output_type": "stream",
     "text": [
      "FiltrationExtractor: processing 19/train/filtrations/2/RadialFiltration_19_5/gray, do_fit = True, filtration = RadialFiltration(center=array([19,  5]), n_jobs=-1)\n",
      "Saving the result to ./19/train/filtrations/2/RadialFiltration_19_5/gray/diagrams.npy\n",
      "DiagramVectorizer: fitting complete\n"
     ]
    },
    {
     "name": "stderr",
     "output_type": "stream",
     "text": [
      "DiagramVectorizer: batch: 100%|██████████| 98/98 [00:21<00:00,  4.61it/s]\n"
     ]
    },
    {
     "name": "stdout",
     "output_type": "stream",
     "text": [
      "Saving the result to ./19/train/filtrations/2/RadialFiltration_19_5/gray/features.npy\n",
      "FiltrationExtractor: processing 19/train/filtrations/2/RadialFiltration_19_5/gray, do_fit = False, filtration = RadialFiltration(center=array([19,  5]), n_jobs=-1)\n",
      "Got the result from ./19/train/filtrations/2/RadialFiltration_19_5/gray/features.npy\n",
      "FiltrationExtractor: processing 19/train/filtrations/2/RadialFiltration_19_5/red, do_fit = True, filtration = RadialFiltration(center=array([19,  5]), n_jobs=-1)\n",
      "Saving the result to ./19/train/filtrations/2/RadialFiltration_19_5/red/diagrams.npy\n",
      "DiagramVectorizer: fitting complete\n"
     ]
    },
    {
     "name": "stderr",
     "output_type": "stream",
     "text": [
      "DiagramVectorizer: batch: 100%|██████████| 98/98 [00:20<00:00,  4.85it/s]\n"
     ]
    },
    {
     "name": "stdout",
     "output_type": "stream",
     "text": [
      "Saving the result to ./19/train/filtrations/2/RadialFiltration_19_5/red/features.npy\n",
      "FiltrationExtractor: processing 19/train/filtrations/2/RadialFiltration_19_5/red, do_fit = False, filtration = RadialFiltration(center=array([19,  5]), n_jobs=-1)\n",
      "Got the result from ./19/train/filtrations/2/RadialFiltration_19_5/red/features.npy\n",
      "FiltrationExtractor: processing 19/train/filtrations/2/RadialFiltration_19_5/green, do_fit = True, filtration = RadialFiltration(center=array([19,  5]), n_jobs=-1)\n",
      "Saving the result to ./19/train/filtrations/2/RadialFiltration_19_5/green/diagrams.npy\n",
      "DiagramVectorizer: fitting complete\n"
     ]
    },
    {
     "name": "stderr",
     "output_type": "stream",
     "text": [
      "DiagramVectorizer: batch: 100%|██████████| 98/98 [00:21<00:00,  4.64it/s]\n"
     ]
    },
    {
     "name": "stdout",
     "output_type": "stream",
     "text": [
      "Saving the result to ./19/train/filtrations/2/RadialFiltration_19_5/green/features.npy\n",
      "FiltrationExtractor: processing 19/train/filtrations/2/RadialFiltration_19_5/green, do_fit = False, filtration = RadialFiltration(center=array([19,  5]), n_jobs=-1)\n",
      "Got the result from ./19/train/filtrations/2/RadialFiltration_19_5/green/features.npy\n",
      "FiltrationExtractor: processing 19/train/filtrations/2/RadialFiltration_19_5/blue, do_fit = True, filtration = RadialFiltration(center=array([19,  5]), n_jobs=-1)\n",
      "Saving the result to ./19/train/filtrations/2/RadialFiltration_19_5/blue/diagrams.npy\n",
      "DiagramVectorizer: fitting complete\n"
     ]
    },
    {
     "name": "stderr",
     "output_type": "stream",
     "text": [
      "DiagramVectorizer: batch: 100%|██████████| 98/98 [00:23<00:00,  4.20it/s]\n"
     ]
    },
    {
     "name": "stdout",
     "output_type": "stream",
     "text": [
      "Saving the result to ./19/train/filtrations/2/RadialFiltration_19_5/blue/features.npy\n",
      "FiltrationExtractor: processing 19/train/filtrations/2/RadialFiltration_19_5/blue, do_fit = False, filtration = RadialFiltration(center=array([19,  5]), n_jobs=-1)\n",
      "Got the result from ./19/train/filtrations/2/RadialFiltration_19_5/blue/features.npy\n",
      "Fitting filtration 17/116: 2/RadialFiltration_19_12\n",
      "RGB images received. Transforming to grayscale.\n"
     ]
    },
    {
     "name": "stderr",
     "output_type": "stream",
     "text": [
      "rgb2gray: 100%|██████████| 50000/50000 [00:04<00:00, 12312.97it/s]\n"
     ]
    },
    {
     "name": "stdout",
     "output_type": "stream",
     "text": [
      "FiltrationExtractor: processing 19/train/filtrations/2/RadialFiltration_19_12/gray, do_fit = True, filtration = RadialFiltration(center=array([19, 12]), n_jobs=-1)\n",
      "Saving the result to ./19/train/filtrations/2/RadialFiltration_19_12/gray/diagrams.npy\n",
      "DiagramVectorizer: fitting complete\n"
     ]
    },
    {
     "name": "stderr",
     "output_type": "stream",
     "text": [
      "DiagramVectorizer: batch: 100%|██████████| 98/98 [00:20<00:00,  4.71it/s]\n"
     ]
    },
    {
     "name": "stdout",
     "output_type": "stream",
     "text": [
      "Saving the result to ./19/train/filtrations/2/RadialFiltration_19_12/gray/features.npy\n",
      "FiltrationExtractor: processing 19/train/filtrations/2/RadialFiltration_19_12/gray, do_fit = False, filtration = RadialFiltration(center=array([19, 12]), n_jobs=-1)\n",
      "Got the result from ./19/train/filtrations/2/RadialFiltration_19_12/gray/features.npy\n",
      "FiltrationExtractor: processing 19/train/filtrations/2/RadialFiltration_19_12/red, do_fit = True, filtration = RadialFiltration(center=array([19, 12]), n_jobs=-1)\n",
      "Saving the result to ./19/train/filtrations/2/RadialFiltration_19_12/red/diagrams.npy\n",
      "DiagramVectorizer: fitting complete\n"
     ]
    },
    {
     "name": "stderr",
     "output_type": "stream",
     "text": [
      "DiagramVectorizer: batch: 100%|██████████| 98/98 [00:20<00:00,  4.69it/s]\n"
     ]
    },
    {
     "name": "stdout",
     "output_type": "stream",
     "text": [
      "Saving the result to ./19/train/filtrations/2/RadialFiltration_19_12/red/features.npy\n",
      "FiltrationExtractor: processing 19/train/filtrations/2/RadialFiltration_19_12/red, do_fit = False, filtration = RadialFiltration(center=array([19, 12]), n_jobs=-1)\n",
      "Got the result from ./19/train/filtrations/2/RadialFiltration_19_12/red/features.npy\n",
      "FiltrationExtractor: processing 19/train/filtrations/2/RadialFiltration_19_12/green, do_fit = True, filtration = RadialFiltration(center=array([19, 12]), n_jobs=-1)\n",
      "Saving the result to ./19/train/filtrations/2/RadialFiltration_19_12/green/diagrams.npy\n",
      "DiagramVectorizer: fitting complete\n"
     ]
    },
    {
     "name": "stderr",
     "output_type": "stream",
     "text": [
      "DiagramVectorizer: batch: 100%|██████████| 98/98 [00:20<00:00,  4.72it/s]\n"
     ]
    },
    {
     "name": "stdout",
     "output_type": "stream",
     "text": [
      "Saving the result to ./19/train/filtrations/2/RadialFiltration_19_12/green/features.npy\n",
      "FiltrationExtractor: processing 19/train/filtrations/2/RadialFiltration_19_12/green, do_fit = False, filtration = RadialFiltration(center=array([19, 12]), n_jobs=-1)\n",
      "Got the result from ./19/train/filtrations/2/RadialFiltration_19_12/green/features.npy\n",
      "FiltrationExtractor: processing 19/train/filtrations/2/RadialFiltration_19_12/blue, do_fit = True, filtration = RadialFiltration(center=array([19, 12]), n_jobs=-1)\n",
      "Saving the result to ./19/train/filtrations/2/RadialFiltration_19_12/blue/diagrams.npy\n",
      "DiagramVectorizer: fitting complete\n"
     ]
    },
    {
     "name": "stderr",
     "output_type": "stream",
     "text": [
      "DiagramVectorizer: batch: 100%|██████████| 98/98 [00:23<00:00,  4.24it/s]\n"
     ]
    },
    {
     "name": "stdout",
     "output_type": "stream",
     "text": [
      "Saving the result to ./19/train/filtrations/2/RadialFiltration_19_12/blue/features.npy\n",
      "FiltrationExtractor: processing 19/train/filtrations/2/RadialFiltration_19_12/blue, do_fit = False, filtration = RadialFiltration(center=array([19, 12]), n_jobs=-1)\n",
      "Got the result from ./19/train/filtrations/2/RadialFiltration_19_12/blue/features.npy\n",
      "Fitting filtration 18/116: 2/RadialFiltration_19_19\n",
      "RGB images received. Transforming to grayscale.\n"
     ]
    },
    {
     "name": "stderr",
     "output_type": "stream",
     "text": [
      "rgb2gray: 100%|██████████| 50000/50000 [00:04<00:00, 12170.12it/s]\n"
     ]
    },
    {
     "name": "stdout",
     "output_type": "stream",
     "text": [
      "FiltrationExtractor: processing 19/train/filtrations/2/RadialFiltration_19_19/gray, do_fit = True, filtration = RadialFiltration(center=array([19, 19]), n_jobs=-1)\n",
      "Saving the result to ./19/train/filtrations/2/RadialFiltration_19_19/gray/diagrams.npy\n",
      "DiagramVectorizer: fitting complete\n"
     ]
    },
    {
     "name": "stderr",
     "output_type": "stream",
     "text": [
      "DiagramVectorizer: batch: 100%|██████████| 98/98 [00:22<00:00,  4.42it/s]\n"
     ]
    },
    {
     "name": "stdout",
     "output_type": "stream",
     "text": [
      "Saving the result to ./19/train/filtrations/2/RadialFiltration_19_19/gray/features.npy\n",
      "FiltrationExtractor: processing 19/train/filtrations/2/RadialFiltration_19_19/gray, do_fit = False, filtration = RadialFiltration(center=array([19, 19]), n_jobs=-1)\n",
      "Got the result from ./19/train/filtrations/2/RadialFiltration_19_19/gray/features.npy\n",
      "FiltrationExtractor: processing 19/train/filtrations/2/RadialFiltration_19_19/red, do_fit = True, filtration = RadialFiltration(center=array([19, 19]), n_jobs=-1)\n",
      "Saving the result to ./19/train/filtrations/2/RadialFiltration_19_19/red/diagrams.npy\n",
      "DiagramVectorizer: fitting complete\n"
     ]
    },
    {
     "name": "stderr",
     "output_type": "stream",
     "text": [
      "DiagramVectorizer: batch: 100%|██████████| 98/98 [00:20<00:00,  4.69it/s]\n"
     ]
    },
    {
     "name": "stdout",
     "output_type": "stream",
     "text": [
      "Saving the result to ./19/train/filtrations/2/RadialFiltration_19_19/red/features.npy\n",
      "FiltrationExtractor: processing 19/train/filtrations/2/RadialFiltration_19_19/red, do_fit = False, filtration = RadialFiltration(center=array([19, 19]), n_jobs=-1)\n",
      "Got the result from ./19/train/filtrations/2/RadialFiltration_19_19/red/features.npy\n",
      "FiltrationExtractor: processing 19/train/filtrations/2/RadialFiltration_19_19/green, do_fit = True, filtration = RadialFiltration(center=array([19, 19]), n_jobs=-1)\n",
      "Saving the result to ./19/train/filtrations/2/RadialFiltration_19_19/green/diagrams.npy\n",
      "DiagramVectorizer: fitting complete\n"
     ]
    },
    {
     "name": "stderr",
     "output_type": "stream",
     "text": [
      "DiagramVectorizer: batch: 100%|██████████| 98/98 [00:22<00:00,  4.35it/s]\n"
     ]
    },
    {
     "name": "stdout",
     "output_type": "stream",
     "text": [
      "Saving the result to ./19/train/filtrations/2/RadialFiltration_19_19/green/features.npy\n",
      "FiltrationExtractor: processing 19/train/filtrations/2/RadialFiltration_19_19/green, do_fit = False, filtration = RadialFiltration(center=array([19, 19]), n_jobs=-1)\n",
      "Got the result from ./19/train/filtrations/2/RadialFiltration_19_19/green/features.npy\n",
      "FiltrationExtractor: processing 19/train/filtrations/2/RadialFiltration_19_19/blue, do_fit = True, filtration = RadialFiltration(center=array([19, 19]), n_jobs=-1)\n",
      "Saving the result to ./19/train/filtrations/2/RadialFiltration_19_19/blue/diagrams.npy\n",
      "DiagramVectorizer: fitting complete\n"
     ]
    },
    {
     "name": "stderr",
     "output_type": "stream",
     "text": [
      "DiagramVectorizer: batch: 100%|██████████| 98/98 [00:21<00:00,  4.55it/s]\n"
     ]
    },
    {
     "name": "stdout",
     "output_type": "stream",
     "text": [
      "Saving the result to ./19/train/filtrations/2/RadialFiltration_19_19/blue/features.npy\n",
      "FiltrationExtractor: processing 19/train/filtrations/2/RadialFiltration_19_19/blue, do_fit = False, filtration = RadialFiltration(center=array([19, 19]), n_jobs=-1)\n",
      "Got the result from ./19/train/filtrations/2/RadialFiltration_19_19/blue/features.npy\n",
      "Fitting filtration 19/116: 2/RadialFiltration_19_26\n",
      "RGB images received. Transforming to grayscale.\n"
     ]
    },
    {
     "name": "stderr",
     "output_type": "stream",
     "text": [
      "rgb2gray: 100%|██████████| 50000/50000 [00:04<00:00, 11877.06it/s]\n"
     ]
    },
    {
     "name": "stdout",
     "output_type": "stream",
     "text": [
      "FiltrationExtractor: processing 19/train/filtrations/2/RadialFiltration_19_26/gray, do_fit = True, filtration = RadialFiltration(center=array([19, 26]), n_jobs=-1)\n",
      "Saving the result to ./19/train/filtrations/2/RadialFiltration_19_26/gray/diagrams.npy\n",
      "DiagramVectorizer: fitting complete\n"
     ]
    },
    {
     "name": "stderr",
     "output_type": "stream",
     "text": [
      "DiagramVectorizer: batch: 100%|██████████| 98/98 [00:19<00:00,  4.97it/s]\n"
     ]
    },
    {
     "name": "stdout",
     "output_type": "stream",
     "text": [
      "Saving the result to ./19/train/filtrations/2/RadialFiltration_19_26/gray/features.npy\n",
      "FiltrationExtractor: processing 19/train/filtrations/2/RadialFiltration_19_26/gray, do_fit = False, filtration = RadialFiltration(center=array([19, 26]), n_jobs=-1)\n",
      "Got the result from ./19/train/filtrations/2/RadialFiltration_19_26/gray/features.npy\n",
      "FiltrationExtractor: processing 19/train/filtrations/2/RadialFiltration_19_26/red, do_fit = True, filtration = RadialFiltration(center=array([19, 26]), n_jobs=-1)\n",
      "Saving the result to ./19/train/filtrations/2/RadialFiltration_19_26/red/diagrams.npy\n",
      "DiagramVectorizer: fitting complete\n"
     ]
    },
    {
     "name": "stderr",
     "output_type": "stream",
     "text": [
      "DiagramVectorizer: batch: 100%|██████████| 98/98 [00:21<00:00,  4.56it/s]\n"
     ]
    },
    {
     "name": "stdout",
     "output_type": "stream",
     "text": [
      "Saving the result to ./19/train/filtrations/2/RadialFiltration_19_26/red/features.npy\n",
      "FiltrationExtractor: processing 19/train/filtrations/2/RadialFiltration_19_26/red, do_fit = False, filtration = RadialFiltration(center=array([19, 26]), n_jobs=-1)\n",
      "Got the result from ./19/train/filtrations/2/RadialFiltration_19_26/red/features.npy\n",
      "FiltrationExtractor: processing 19/train/filtrations/2/RadialFiltration_19_26/green, do_fit = True, filtration = RadialFiltration(center=array([19, 26]), n_jobs=-1)\n",
      "Saving the result to ./19/train/filtrations/2/RadialFiltration_19_26/green/diagrams.npy\n",
      "DiagramVectorizer: fitting complete\n"
     ]
    },
    {
     "name": "stderr",
     "output_type": "stream",
     "text": [
      "DiagramVectorizer: batch: 100%|██████████| 98/98 [00:21<00:00,  4.49it/s]\n"
     ]
    },
    {
     "name": "stdout",
     "output_type": "stream",
     "text": [
      "Saving the result to ./19/train/filtrations/2/RadialFiltration_19_26/green/features.npy\n",
      "FiltrationExtractor: processing 19/train/filtrations/2/RadialFiltration_19_26/green, do_fit = False, filtration = RadialFiltration(center=array([19, 26]), n_jobs=-1)\n",
      "Got the result from ./19/train/filtrations/2/RadialFiltration_19_26/green/features.npy\n",
      "FiltrationExtractor: processing 19/train/filtrations/2/RadialFiltration_19_26/blue, do_fit = True, filtration = RadialFiltration(center=array([19, 26]), n_jobs=-1)\n",
      "Saving the result to ./19/train/filtrations/2/RadialFiltration_19_26/blue/diagrams.npy\n",
      "DiagramVectorizer: fitting complete\n"
     ]
    },
    {
     "name": "stderr",
     "output_type": "stream",
     "text": [
      "DiagramVectorizer: batch: 100%|██████████| 98/98 [00:22<00:00,  4.44it/s]\n"
     ]
    },
    {
     "name": "stdout",
     "output_type": "stream",
     "text": [
      "Saving the result to ./19/train/filtrations/2/RadialFiltration_19_26/blue/features.npy\n",
      "FiltrationExtractor: processing 19/train/filtrations/2/RadialFiltration_19_26/blue, do_fit = False, filtration = RadialFiltration(center=array([19, 26]), n_jobs=-1)\n",
      "Got the result from ./19/train/filtrations/2/RadialFiltration_19_26/blue/features.npy\n",
      "Fitting filtration 20/116: 2/RadialFiltration_26_5\n",
      "RGB images received. Transforming to grayscale.\n"
     ]
    },
    {
     "name": "stderr",
     "output_type": "stream",
     "text": [
      "rgb2gray: 100%|██████████| 50000/50000 [00:04<00:00, 12438.64it/s]\n"
     ]
    },
    {
     "name": "stdout",
     "output_type": "stream",
     "text": [
      "FiltrationExtractor: processing 19/train/filtrations/2/RadialFiltration_26_5/gray, do_fit = True, filtration = RadialFiltration(center=array([26,  5]), n_jobs=-1)\n",
      "Saving the result to ./19/train/filtrations/2/RadialFiltration_26_5/gray/diagrams.npy\n",
      "DiagramVectorizer: fitting complete\n"
     ]
    },
    {
     "name": "stderr",
     "output_type": "stream",
     "text": [
      "DiagramVectorizer: batch: 100%|██████████| 98/98 [00:20<00:00,  4.80it/s]\n"
     ]
    },
    {
     "name": "stdout",
     "output_type": "stream",
     "text": [
      "Saving the result to ./19/train/filtrations/2/RadialFiltration_26_5/gray/features.npy\n",
      "FiltrationExtractor: processing 19/train/filtrations/2/RadialFiltration_26_5/gray, do_fit = False, filtration = RadialFiltration(center=array([26,  5]), n_jobs=-1)\n",
      "Got the result from ./19/train/filtrations/2/RadialFiltration_26_5/gray/features.npy\n",
      "FiltrationExtractor: processing 19/train/filtrations/2/RadialFiltration_26_5/red, do_fit = True, filtration = RadialFiltration(center=array([26,  5]), n_jobs=-1)\n",
      "Saving the result to ./19/train/filtrations/2/RadialFiltration_26_5/red/diagrams.npy\n",
      "DiagramVectorizer: fitting complete\n"
     ]
    },
    {
     "name": "stderr",
     "output_type": "stream",
     "text": [
      "DiagramVectorizer: batch: 100%|██████████| 98/98 [00:21<00:00,  4.67it/s]\n"
     ]
    },
    {
     "name": "stdout",
     "output_type": "stream",
     "text": [
      "Saving the result to ./19/train/filtrations/2/RadialFiltration_26_5/red/features.npy\n",
      "FiltrationExtractor: processing 19/train/filtrations/2/RadialFiltration_26_5/red, do_fit = False, filtration = RadialFiltration(center=array([26,  5]), n_jobs=-1)\n",
      "Got the result from ./19/train/filtrations/2/RadialFiltration_26_5/red/features.npy\n",
      "FiltrationExtractor: processing 19/train/filtrations/2/RadialFiltration_26_5/green, do_fit = True, filtration = RadialFiltration(center=array([26,  5]), n_jobs=-1)\n",
      "Saving the result to ./19/train/filtrations/2/RadialFiltration_26_5/green/diagrams.npy\n",
      "DiagramVectorizer: fitting complete\n"
     ]
    },
    {
     "name": "stderr",
     "output_type": "stream",
     "text": [
      "DiagramVectorizer: batch: 100%|██████████| 98/98 [00:20<00:00,  4.71it/s]\n"
     ]
    },
    {
     "name": "stdout",
     "output_type": "stream",
     "text": [
      "Saving the result to ./19/train/filtrations/2/RadialFiltration_26_5/green/features.npy\n",
      "FiltrationExtractor: processing 19/train/filtrations/2/RadialFiltration_26_5/green, do_fit = False, filtration = RadialFiltration(center=array([26,  5]), n_jobs=-1)\n",
      "Got the result from ./19/train/filtrations/2/RadialFiltration_26_5/green/features.npy\n",
      "FiltrationExtractor: processing 19/train/filtrations/2/RadialFiltration_26_5/blue, do_fit = True, filtration = RadialFiltration(center=array([26,  5]), n_jobs=-1)\n",
      "Saving the result to ./19/train/filtrations/2/RadialFiltration_26_5/blue/diagrams.npy\n",
      "DiagramVectorizer: fitting complete\n"
     ]
    },
    {
     "name": "stderr",
     "output_type": "stream",
     "text": [
      "DiagramVectorizer: batch: 100%|██████████| 98/98 [00:20<00:00,  4.81it/s]\n"
     ]
    },
    {
     "name": "stdout",
     "output_type": "stream",
     "text": [
      "Saving the result to ./19/train/filtrations/2/RadialFiltration_26_5/blue/features.npy\n",
      "FiltrationExtractor: processing 19/train/filtrations/2/RadialFiltration_26_5/blue, do_fit = False, filtration = RadialFiltration(center=array([26,  5]), n_jobs=-1)\n",
      "Got the result from ./19/train/filtrations/2/RadialFiltration_26_5/blue/features.npy\n",
      "Fitting filtration 21/116: 2/RadialFiltration_26_12\n",
      "RGB images received. Transforming to grayscale.\n"
     ]
    },
    {
     "name": "stderr",
     "output_type": "stream",
     "text": [
      "rgb2gray: 100%|██████████| 50000/50000 [00:03<00:00, 13563.22it/s]\n"
     ]
    },
    {
     "name": "stdout",
     "output_type": "stream",
     "text": [
      "FiltrationExtractor: processing 19/train/filtrations/2/RadialFiltration_26_12/gray, do_fit = True, filtration = RadialFiltration(center=array([26, 12]), n_jobs=-1)\n",
      "Saving the result to ./19/train/filtrations/2/RadialFiltration_26_12/gray/diagrams.npy\n",
      "DiagramVectorizer: fitting complete\n"
     ]
    },
    {
     "name": "stderr",
     "output_type": "stream",
     "text": [
      "DiagramVectorizer: batch: 100%|██████████| 98/98 [00:19<00:00,  5.03it/s]\n"
     ]
    },
    {
     "name": "stdout",
     "output_type": "stream",
     "text": [
      "Saving the result to ./19/train/filtrations/2/RadialFiltration_26_12/gray/features.npy\n",
      "FiltrationExtractor: processing 19/train/filtrations/2/RadialFiltration_26_12/gray, do_fit = False, filtration = RadialFiltration(center=array([26, 12]), n_jobs=-1)\n",
      "Got the result from ./19/train/filtrations/2/RadialFiltration_26_12/gray/features.npy\n",
      "FiltrationExtractor: processing 19/train/filtrations/2/RadialFiltration_26_12/red, do_fit = True, filtration = RadialFiltration(center=array([26, 12]), n_jobs=-1)\n",
      "Saving the result to ./19/train/filtrations/2/RadialFiltration_26_12/red/diagrams.npy\n",
      "DiagramVectorizer: fitting complete\n"
     ]
    },
    {
     "name": "stderr",
     "output_type": "stream",
     "text": [
      "DiagramVectorizer: batch: 100%|██████████| 98/98 [00:19<00:00,  4.94it/s]\n"
     ]
    },
    {
     "name": "stdout",
     "output_type": "stream",
     "text": [
      "Saving the result to ./19/train/filtrations/2/RadialFiltration_26_12/red/features.npy\n",
      "FiltrationExtractor: processing 19/train/filtrations/2/RadialFiltration_26_12/red, do_fit = False, filtration = RadialFiltration(center=array([26, 12]), n_jobs=-1)\n",
      "Got the result from ./19/train/filtrations/2/RadialFiltration_26_12/red/features.npy\n",
      "FiltrationExtractor: processing 19/train/filtrations/2/RadialFiltration_26_12/green, do_fit = True, filtration = RadialFiltration(center=array([26, 12]), n_jobs=-1)\n",
      "Saving the result to ./19/train/filtrations/2/RadialFiltration_26_12/green/diagrams.npy\n",
      "DiagramVectorizer: fitting complete\n"
     ]
    },
    {
     "name": "stderr",
     "output_type": "stream",
     "text": [
      "DiagramVectorizer: batch: 100%|██████████| 98/98 [00:21<00:00,  4.55it/s]\n"
     ]
    },
    {
     "name": "stdout",
     "output_type": "stream",
     "text": [
      "Saving the result to ./19/train/filtrations/2/RadialFiltration_26_12/green/features.npy\n",
      "FiltrationExtractor: processing 19/train/filtrations/2/RadialFiltration_26_12/green, do_fit = False, filtration = RadialFiltration(center=array([26, 12]), n_jobs=-1)\n",
      "Got the result from ./19/train/filtrations/2/RadialFiltration_26_12/green/features.npy\n",
      "FiltrationExtractor: processing 19/train/filtrations/2/RadialFiltration_26_12/blue, do_fit = True, filtration = RadialFiltration(center=array([26, 12]), n_jobs=-1)\n",
      "Saving the result to ./19/train/filtrations/2/RadialFiltration_26_12/blue/diagrams.npy\n",
      "DiagramVectorizer: fitting complete\n"
     ]
    },
    {
     "name": "stderr",
     "output_type": "stream",
     "text": [
      "DiagramVectorizer: batch: 100%|██████████| 98/98 [00:22<00:00,  4.35it/s]\n"
     ]
    },
    {
     "name": "stdout",
     "output_type": "stream",
     "text": [
      "Saving the result to ./19/train/filtrations/2/RadialFiltration_26_12/blue/features.npy\n",
      "FiltrationExtractor: processing 19/train/filtrations/2/RadialFiltration_26_12/blue, do_fit = False, filtration = RadialFiltration(center=array([26, 12]), n_jobs=-1)\n",
      "Got the result from ./19/train/filtrations/2/RadialFiltration_26_12/blue/features.npy\n",
      "Fitting filtration 22/116: 2/RadialFiltration_26_19\n",
      "RGB images received. Transforming to grayscale.\n"
     ]
    },
    {
     "name": "stderr",
     "output_type": "stream",
     "text": [
      "rgb2gray: 100%|██████████| 50000/50000 [00:04<00:00, 11930.33it/s]\n"
     ]
    },
    {
     "name": "stdout",
     "output_type": "stream",
     "text": [
      "FiltrationExtractor: processing 19/train/filtrations/2/RadialFiltration_26_19/gray, do_fit = True, filtration = RadialFiltration(center=array([26, 19]), n_jobs=-1)\n",
      "Saving the result to ./19/train/filtrations/2/RadialFiltration_26_19/gray/diagrams.npy\n",
      "DiagramVectorizer: fitting complete\n"
     ]
    },
    {
     "name": "stderr",
     "output_type": "stream",
     "text": [
      "DiagramVectorizer: batch: 100%|██████████| 98/98 [00:21<00:00,  4.56it/s]\n"
     ]
    },
    {
     "name": "stdout",
     "output_type": "stream",
     "text": [
      "Saving the result to ./19/train/filtrations/2/RadialFiltration_26_19/gray/features.npy\n",
      "FiltrationExtractor: processing 19/train/filtrations/2/RadialFiltration_26_19/gray, do_fit = False, filtration = RadialFiltration(center=array([26, 19]), n_jobs=-1)\n",
      "Got the result from ./19/train/filtrations/2/RadialFiltration_26_19/gray/features.npy\n",
      "FiltrationExtractor: processing 19/train/filtrations/2/RadialFiltration_26_19/red, do_fit = True, filtration = RadialFiltration(center=array([26, 19]), n_jobs=-1)\n",
      "Saving the result to ./19/train/filtrations/2/RadialFiltration_26_19/red/diagrams.npy\n",
      "DiagramVectorizer: fitting complete\n"
     ]
    },
    {
     "name": "stderr",
     "output_type": "stream",
     "text": [
      "DiagramVectorizer: batch: 100%|██████████| 98/98 [00:21<00:00,  4.52it/s]\n"
     ]
    },
    {
     "name": "stdout",
     "output_type": "stream",
     "text": [
      "Saving the result to ./19/train/filtrations/2/RadialFiltration_26_19/red/features.npy\n",
      "FiltrationExtractor: processing 19/train/filtrations/2/RadialFiltration_26_19/red, do_fit = False, filtration = RadialFiltration(center=array([26, 19]), n_jobs=-1)\n",
      "Got the result from ./19/train/filtrations/2/RadialFiltration_26_19/red/features.npy\n",
      "FiltrationExtractor: processing 19/train/filtrations/2/RadialFiltration_26_19/green, do_fit = True, filtration = RadialFiltration(center=array([26, 19]), n_jobs=-1)\n",
      "Saving the result to ./19/train/filtrations/2/RadialFiltration_26_19/green/diagrams.npy\n",
      "DiagramVectorizer: fitting complete\n"
     ]
    },
    {
     "name": "stderr",
     "output_type": "stream",
     "text": [
      "DiagramVectorizer: batch: 100%|██████████| 98/98 [00:20<00:00,  4.81it/s]\n"
     ]
    },
    {
     "name": "stdout",
     "output_type": "stream",
     "text": [
      "Saving the result to ./19/train/filtrations/2/RadialFiltration_26_19/green/features.npy\n",
      "FiltrationExtractor: processing 19/train/filtrations/2/RadialFiltration_26_19/green, do_fit = False, filtration = RadialFiltration(center=array([26, 19]), n_jobs=-1)\n",
      "Got the result from ./19/train/filtrations/2/RadialFiltration_26_19/green/features.npy\n",
      "FiltrationExtractor: processing 19/train/filtrations/2/RadialFiltration_26_19/blue, do_fit = True, filtration = RadialFiltration(center=array([26, 19]), n_jobs=-1)\n",
      "Saving the result to ./19/train/filtrations/2/RadialFiltration_26_19/blue/diagrams.npy\n",
      "DiagramVectorizer: fitting complete\n"
     ]
    },
    {
     "name": "stderr",
     "output_type": "stream",
     "text": [
      "DiagramVectorizer: batch: 100%|██████████| 98/98 [00:20<00:00,  4.85it/s]\n"
     ]
    },
    {
     "name": "stdout",
     "output_type": "stream",
     "text": [
      "Saving the result to ./19/train/filtrations/2/RadialFiltration_26_19/blue/features.npy\n",
      "FiltrationExtractor: processing 19/train/filtrations/2/RadialFiltration_26_19/blue, do_fit = False, filtration = RadialFiltration(center=array([26, 19]), n_jobs=-1)\n",
      "Got the result from ./19/train/filtrations/2/RadialFiltration_26_19/blue/features.npy\n",
      "Fitting filtration 23/116: 2/RadialFiltration_26_26\n",
      "RGB images received. Transforming to grayscale.\n"
     ]
    },
    {
     "name": "stderr",
     "output_type": "stream",
     "text": [
      "rgb2gray: 100%|██████████| 50000/50000 [00:03<00:00, 13520.78it/s]\n"
     ]
    },
    {
     "name": "stdout",
     "output_type": "stream",
     "text": [
      "FiltrationExtractor: processing 19/train/filtrations/2/RadialFiltration_26_26/gray, do_fit = True, filtration = RadialFiltration(center=array([26, 26]), n_jobs=-1)\n",
      "Saving the result to ./19/train/filtrations/2/RadialFiltration_26_26/gray/diagrams.npy\n",
      "DiagramVectorizer: fitting complete\n"
     ]
    },
    {
     "name": "stderr",
     "output_type": "stream",
     "text": [
      "DiagramVectorizer: batch: 100%|██████████| 98/98 [00:20<00:00,  4.84it/s]\n"
     ]
    },
    {
     "name": "stdout",
     "output_type": "stream",
     "text": [
      "Saving the result to ./19/train/filtrations/2/RadialFiltration_26_26/gray/features.npy\n",
      "FiltrationExtractor: processing 19/train/filtrations/2/RadialFiltration_26_26/gray, do_fit = False, filtration = RadialFiltration(center=array([26, 26]), n_jobs=-1)\n",
      "Got the result from ./19/train/filtrations/2/RadialFiltration_26_26/gray/features.npy\n",
      "FiltrationExtractor: processing 19/train/filtrations/2/RadialFiltration_26_26/red, do_fit = True, filtration = RadialFiltration(center=array([26, 26]), n_jobs=-1)\n",
      "Saving the result to ./19/train/filtrations/2/RadialFiltration_26_26/red/diagrams.npy\n",
      "DiagramVectorizer: fitting complete\n"
     ]
    },
    {
     "name": "stderr",
     "output_type": "stream",
     "text": [
      "DiagramVectorizer: batch: 100%|██████████| 98/98 [00:19<00:00,  5.01it/s]\n"
     ]
    },
    {
     "name": "stdout",
     "output_type": "stream",
     "text": [
      "Saving the result to ./19/train/filtrations/2/RadialFiltration_26_26/red/features.npy\n",
      "FiltrationExtractor: processing 19/train/filtrations/2/RadialFiltration_26_26/red, do_fit = False, filtration = RadialFiltration(center=array([26, 26]), n_jobs=-1)\n",
      "Got the result from ./19/train/filtrations/2/RadialFiltration_26_26/red/features.npy\n",
      "FiltrationExtractor: processing 19/train/filtrations/2/RadialFiltration_26_26/green, do_fit = True, filtration = RadialFiltration(center=array([26, 26]), n_jobs=-1)\n",
      "Saving the result to ./19/train/filtrations/2/RadialFiltration_26_26/green/diagrams.npy\n",
      "DiagramVectorizer: fitting complete\n"
     ]
    },
    {
     "name": "stderr",
     "output_type": "stream",
     "text": [
      "DiagramVectorizer: batch: 100%|██████████| 98/98 [00:21<00:00,  4.50it/s]\n"
     ]
    },
    {
     "name": "stdout",
     "output_type": "stream",
     "text": [
      "Saving the result to ./19/train/filtrations/2/RadialFiltration_26_26/green/features.npy\n",
      "FiltrationExtractor: processing 19/train/filtrations/2/RadialFiltration_26_26/green, do_fit = False, filtration = RadialFiltration(center=array([26, 26]), n_jobs=-1)\n",
      "Got the result from ./19/train/filtrations/2/RadialFiltration_26_26/green/features.npy\n",
      "FiltrationExtractor: processing 19/train/filtrations/2/RadialFiltration_26_26/blue, do_fit = True, filtration = RadialFiltration(center=array([26, 26]), n_jobs=-1)\n",
      "Saving the result to ./19/train/filtrations/2/RadialFiltration_26_26/blue/diagrams.npy\n",
      "DiagramVectorizer: fitting complete\n"
     ]
    },
    {
     "name": "stderr",
     "output_type": "stream",
     "text": [
      "DiagramVectorizer: batch: 100%|██████████| 98/98 [00:21<00:00,  4.64it/s]\n"
     ]
    },
    {
     "name": "stdout",
     "output_type": "stream",
     "text": [
      "Saving the result to ./19/train/filtrations/2/RadialFiltration_26_26/blue/features.npy\n",
      "FiltrationExtractor: processing 19/train/filtrations/2/RadialFiltration_26_26/blue, do_fit = False, filtration = RadialFiltration(center=array([26, 26]), n_jobs=-1)\n",
      "Got the result from ./19/train/filtrations/2/RadialFiltration_26_26/blue/features.npy\n",
      "Fitting filtration 24/116: 2/DilationFiltration\n",
      "RGB images received. Transforming to grayscale.\n"
     ]
    },
    {
     "name": "stderr",
     "output_type": "stream",
     "text": [
      "rgb2gray: 100%|██████████| 50000/50000 [00:03<00:00, 12756.05it/s]\n"
     ]
    },
    {
     "name": "stdout",
     "output_type": "stream",
     "text": [
      "FiltrationExtractor: processing 19/train/filtrations/2/DilationFiltration/gray, do_fit = True, filtration = DilationFiltration(n_jobs=-1)\n",
      "Saving the result to ./19/train/filtrations/2/DilationFiltration/gray/diagrams.npy\n",
      "DiagramVectorizer: fitting complete\n"
     ]
    },
    {
     "name": "stderr",
     "output_type": "stream",
     "text": [
      "DiagramVectorizer: batch: 100%|██████████| 98/98 [00:22<00:00,  4.45it/s]\n"
     ]
    },
    {
     "name": "stdout",
     "output_type": "stream",
     "text": [
      "Saving the result to ./19/train/filtrations/2/DilationFiltration/gray/features.npy\n",
      "FiltrationExtractor: processing 19/train/filtrations/2/DilationFiltration/gray, do_fit = False, filtration = DilationFiltration(n_jobs=-1)\n",
      "Got the result from ./19/train/filtrations/2/DilationFiltration/gray/features.npy\n",
      "FiltrationExtractor: processing 19/train/filtrations/2/DilationFiltration/red, do_fit = True, filtration = DilationFiltration(n_jobs=-1)\n",
      "Saving the result to ./19/train/filtrations/2/DilationFiltration/red/diagrams.npy\n",
      "DiagramVectorizer: fitting complete\n"
     ]
    },
    {
     "name": "stderr",
     "output_type": "stream",
     "text": [
      "DiagramVectorizer: batch: 100%|██████████| 98/98 [00:22<00:00,  4.30it/s]\n"
     ]
    },
    {
     "name": "stdout",
     "output_type": "stream",
     "text": [
      "Saving the result to ./19/train/filtrations/2/DilationFiltration/red/features.npy\n",
      "FiltrationExtractor: processing 19/train/filtrations/2/DilationFiltration/red, do_fit = False, filtration = DilationFiltration(n_jobs=-1)\n",
      "Got the result from ./19/train/filtrations/2/DilationFiltration/red/features.npy\n",
      "FiltrationExtractor: processing 19/train/filtrations/2/DilationFiltration/green, do_fit = True, filtration = DilationFiltration(n_jobs=-1)\n",
      "Saving the result to ./19/train/filtrations/2/DilationFiltration/green/diagrams.npy\n",
      "DiagramVectorizer: fitting complete\n"
     ]
    },
    {
     "name": "stderr",
     "output_type": "stream",
     "text": [
      "DiagramVectorizer: batch: 100%|██████████| 98/98 [00:24<00:00,  3.99it/s]\n"
     ]
    },
    {
     "name": "stdout",
     "output_type": "stream",
     "text": [
      "Saving the result to ./19/train/filtrations/2/DilationFiltration/green/features.npy\n",
      "FiltrationExtractor: processing 19/train/filtrations/2/DilationFiltration/green, do_fit = False, filtration = DilationFiltration(n_jobs=-1)\n",
      "Got the result from ./19/train/filtrations/2/DilationFiltration/green/features.npy\n",
      "FiltrationExtractor: processing 19/train/filtrations/2/DilationFiltration/blue, do_fit = True, filtration = DilationFiltration(n_jobs=-1)\n",
      "Saving the result to ./19/train/filtrations/2/DilationFiltration/blue/diagrams.npy\n",
      "DiagramVectorizer: fitting complete\n"
     ]
    },
    {
     "name": "stderr",
     "output_type": "stream",
     "text": [
      "DiagramVectorizer: batch: 100%|██████████| 98/98 [00:21<00:00,  4.66it/s]\n"
     ]
    },
    {
     "name": "stdout",
     "output_type": "stream",
     "text": [
      "Saving the result to ./19/train/filtrations/2/DilationFiltration/blue/features.npy\n",
      "FiltrationExtractor: processing 19/train/filtrations/2/DilationFiltration/blue, do_fit = False, filtration = DilationFiltration(n_jobs=-1)\n",
      "Got the result from ./19/train/filtrations/2/DilationFiltration/blue/features.npy\n",
      "Fitting filtration 25/116: 2/ErosionFiltration\n",
      "RGB images received. Transforming to grayscale.\n"
     ]
    },
    {
     "name": "stderr",
     "output_type": "stream",
     "text": [
      "rgb2gray: 100%|██████████| 50000/50000 [00:03<00:00, 13818.87it/s]\n"
     ]
    },
    {
     "name": "stdout",
     "output_type": "stream",
     "text": [
      "FiltrationExtractor: processing 19/train/filtrations/2/ErosionFiltration/gray, do_fit = True, filtration = ErosionFiltration(n_jobs=-1)\n",
      "Saving the result to ./19/train/filtrations/2/ErosionFiltration/gray/diagrams.npy\n",
      "DiagramVectorizer: fitting complete\n"
     ]
    },
    {
     "name": "stderr",
     "output_type": "stream",
     "text": [
      "DiagramVectorizer: batch: 100%|██████████| 98/98 [00:20<00:00,  4.80it/s]\n"
     ]
    },
    {
     "name": "stdout",
     "output_type": "stream",
     "text": [
      "Saving the result to ./19/train/filtrations/2/ErosionFiltration/gray/features.npy\n",
      "FiltrationExtractor: processing 19/train/filtrations/2/ErosionFiltration/gray, do_fit = False, filtration = ErosionFiltration(n_jobs=-1)\n",
      "Got the result from ./19/train/filtrations/2/ErosionFiltration/gray/features.npy\n",
      "FiltrationExtractor: processing 19/train/filtrations/2/ErosionFiltration/red, do_fit = True, filtration = ErosionFiltration(n_jobs=-1)\n",
      "Saving the result to ./19/train/filtrations/2/ErosionFiltration/red/diagrams.npy\n",
      "DiagramVectorizer: fitting complete\n"
     ]
    },
    {
     "name": "stderr",
     "output_type": "stream",
     "text": [
      "DiagramVectorizer: batch: 100%|██████████| 98/98 [00:20<00:00,  4.88it/s]\n"
     ]
    },
    {
     "name": "stdout",
     "output_type": "stream",
     "text": [
      "Saving the result to ./19/train/filtrations/2/ErosionFiltration/red/features.npy\n",
      "FiltrationExtractor: processing 19/train/filtrations/2/ErosionFiltration/red, do_fit = False, filtration = ErosionFiltration(n_jobs=-1)\n",
      "Got the result from ./19/train/filtrations/2/ErosionFiltration/red/features.npy\n",
      "FiltrationExtractor: processing 19/train/filtrations/2/ErosionFiltration/green, do_fit = True, filtration = ErosionFiltration(n_jobs=-1)\n",
      "Saving the result to ./19/train/filtrations/2/ErosionFiltration/green/diagrams.npy\n",
      "DiagramVectorizer: fitting complete\n"
     ]
    },
    {
     "name": "stderr",
     "output_type": "stream",
     "text": [
      "DiagramVectorizer: batch: 100%|██████████| 98/98 [00:19<00:00,  5.09it/s]\n"
     ]
    },
    {
     "name": "stdout",
     "output_type": "stream",
     "text": [
      "Saving the result to ./19/train/filtrations/2/ErosionFiltration/green/features.npy\n",
      "FiltrationExtractor: processing 19/train/filtrations/2/ErosionFiltration/green, do_fit = False, filtration = ErosionFiltration(n_jobs=-1)\n",
      "Got the result from ./19/train/filtrations/2/ErosionFiltration/green/features.npy\n",
      "FiltrationExtractor: processing 19/train/filtrations/2/ErosionFiltration/blue, do_fit = True, filtration = ErosionFiltration(n_jobs=-1)\n",
      "Saving the result to ./19/train/filtrations/2/ErosionFiltration/blue/diagrams.npy\n",
      "DiagramVectorizer: fitting complete\n"
     ]
    },
    {
     "name": "stderr",
     "output_type": "stream",
     "text": [
      "DiagramVectorizer: batch: 100%|██████████| 98/98 [00:20<00:00,  4.73it/s]\n"
     ]
    },
    {
     "name": "stdout",
     "output_type": "stream",
     "text": [
      "Saving the result to ./19/train/filtrations/2/ErosionFiltration/blue/features.npy\n",
      "FiltrationExtractor: processing 19/train/filtrations/2/ErosionFiltration/blue, do_fit = False, filtration = ErosionFiltration(n_jobs=-1)\n",
      "Got the result from ./19/train/filtrations/2/ErosionFiltration/blue/features.npy\n",
      "Fitting filtration 26/116: 2/SignedDistanceFiltration\n",
      "RGB images received. Transforming to grayscale.\n"
     ]
    },
    {
     "name": "stderr",
     "output_type": "stream",
     "text": [
      "rgb2gray: 100%|██████████| 50000/50000 [00:03<00:00, 12786.49it/s]\n"
     ]
    },
    {
     "name": "stdout",
     "output_type": "stream",
     "text": [
      "FiltrationExtractor: processing 19/train/filtrations/2/SignedDistanceFiltration/gray, do_fit = True, filtration = SignedDistanceFiltration(n_jobs=-1)\n",
      "Saving the result to ./19/train/filtrations/2/SignedDistanceFiltration/gray/diagrams.npy\n",
      "DiagramVectorizer: fitting complete\n"
     ]
    },
    {
     "name": "stderr",
     "output_type": "stream",
     "text": [
      "DiagramVectorizer: batch: 100%|██████████| 98/98 [00:20<00:00,  4.78it/s]\n"
     ]
    },
    {
     "name": "stdout",
     "output_type": "stream",
     "text": [
      "Saving the result to ./19/train/filtrations/2/SignedDistanceFiltration/gray/features.npy\n",
      "FiltrationExtractor: processing 19/train/filtrations/2/SignedDistanceFiltration/gray, do_fit = False, filtration = SignedDistanceFiltration(n_jobs=-1)\n",
      "Got the result from ./19/train/filtrations/2/SignedDistanceFiltration/gray/features.npy\n",
      "FiltrationExtractor: processing 19/train/filtrations/2/SignedDistanceFiltration/red, do_fit = True, filtration = SignedDistanceFiltration(n_jobs=-1)\n",
      "Saving the result to ./19/train/filtrations/2/SignedDistanceFiltration/red/diagrams.npy\n",
      "DiagramVectorizer: fitting complete\n"
     ]
    },
    {
     "name": "stderr",
     "output_type": "stream",
     "text": [
      "DiagramVectorizer: batch: 100%|██████████| 98/98 [00:20<00:00,  4.73it/s]\n"
     ]
    },
    {
     "name": "stdout",
     "output_type": "stream",
     "text": [
      "Saving the result to ./19/train/filtrations/2/SignedDistanceFiltration/red/features.npy\n",
      "FiltrationExtractor: processing 19/train/filtrations/2/SignedDistanceFiltration/red, do_fit = False, filtration = SignedDistanceFiltration(n_jobs=-1)\n",
      "Got the result from ./19/train/filtrations/2/SignedDistanceFiltration/red/features.npy\n",
      "FiltrationExtractor: processing 19/train/filtrations/2/SignedDistanceFiltration/green, do_fit = True, filtration = SignedDistanceFiltration(n_jobs=-1)\n",
      "Saving the result to ./19/train/filtrations/2/SignedDistanceFiltration/green/diagrams.npy\n",
      "DiagramVectorizer: fitting complete\n"
     ]
    },
    {
     "name": "stderr",
     "output_type": "stream",
     "text": [
      "DiagramVectorizer: batch: 100%|██████████| 98/98 [00:19<00:00,  4.92it/s]\n"
     ]
    },
    {
     "name": "stdout",
     "output_type": "stream",
     "text": [
      "Saving the result to ./19/train/filtrations/2/SignedDistanceFiltration/green/features.npy\n",
      "FiltrationExtractor: processing 19/train/filtrations/2/SignedDistanceFiltration/green, do_fit = False, filtration = SignedDistanceFiltration(n_jobs=-1)\n",
      "Got the result from ./19/train/filtrations/2/SignedDistanceFiltration/green/features.npy\n",
      "FiltrationExtractor: processing 19/train/filtrations/2/SignedDistanceFiltration/blue, do_fit = True, filtration = SignedDistanceFiltration(n_jobs=-1)\n",
      "Saving the result to ./19/train/filtrations/2/SignedDistanceFiltration/blue/diagrams.npy\n",
      "DiagramVectorizer: fitting complete\n"
     ]
    },
    {
     "name": "stderr",
     "output_type": "stream",
     "text": [
      "DiagramVectorizer: batch: 100%|██████████| 98/98 [00:20<00:00,  4.81it/s]\n"
     ]
    },
    {
     "name": "stdout",
     "output_type": "stream",
     "text": [
      "Saving the result to ./19/train/filtrations/2/SignedDistanceFiltration/blue/features.npy\n",
      "FiltrationExtractor: processing 19/train/filtrations/2/SignedDistanceFiltration/blue, do_fit = False, filtration = SignedDistanceFiltration(n_jobs=-1)\n",
      "Got the result from ./19/train/filtrations/2/SignedDistanceFiltration/blue/features.npy\n",
      "Fitting filtration 27/116: 2/DensityFiltration_1\n",
      "RGB images received. Transforming to grayscale.\n"
     ]
    },
    {
     "name": "stderr",
     "output_type": "stream",
     "text": [
      "rgb2gray: 100%|██████████| 50000/50000 [00:03<00:00, 12930.94it/s]\n"
     ]
    },
    {
     "name": "stdout",
     "output_type": "stream",
     "text": [
      "FiltrationExtractor: processing 19/train/filtrations/2/DensityFiltration_1/gray, do_fit = True, filtration = DensityFiltration(n_jobs=-1, radius=1)\n",
      "Saving the result to ./19/train/filtrations/2/DensityFiltration_1/gray/diagrams.npy\n",
      "DiagramVectorizer: fitting complete\n"
     ]
    },
    {
     "name": "stderr",
     "output_type": "stream",
     "text": [
      "DiagramVectorizer: batch: 100%|██████████| 98/98 [00:34<00:00,  2.86it/s]\n"
     ]
    },
    {
     "name": "stdout",
     "output_type": "stream",
     "text": [
      "Saving the result to ./19/train/filtrations/2/DensityFiltration_1/gray/features.npy\n",
      "FiltrationExtractor: processing 19/train/filtrations/2/DensityFiltration_1/gray, do_fit = False, filtration = DensityFiltration(n_jobs=-1, radius=1)\n",
      "Got the result from ./19/train/filtrations/2/DensityFiltration_1/gray/features.npy\n",
      "FiltrationExtractor: processing 19/train/filtrations/2/DensityFiltration_1/red, do_fit = True, filtration = DensityFiltration(n_jobs=-1, radius=1)\n",
      "Saving the result to ./19/train/filtrations/2/DensityFiltration_1/red/diagrams.npy\n",
      "DiagramVectorizer: fitting complete\n"
     ]
    },
    {
     "name": "stderr",
     "output_type": "stream",
     "text": [
      "DiagramVectorizer: batch: 100%|██████████| 98/98 [00:34<00:00,  2.87it/s]\n"
     ]
    },
    {
     "name": "stdout",
     "output_type": "stream",
     "text": [
      "Saving the result to ./19/train/filtrations/2/DensityFiltration_1/red/features.npy\n",
      "FiltrationExtractor: processing 19/train/filtrations/2/DensityFiltration_1/red, do_fit = False, filtration = DensityFiltration(n_jobs=-1, radius=1)\n",
      "Got the result from ./19/train/filtrations/2/DensityFiltration_1/red/features.npy\n",
      "FiltrationExtractor: processing 19/train/filtrations/2/DensityFiltration_1/green, do_fit = True, filtration = DensityFiltration(n_jobs=-1, radius=1)\n",
      "Saving the result to ./19/train/filtrations/2/DensityFiltration_1/green/diagrams.npy\n",
      "DiagramVectorizer: fitting complete\n"
     ]
    },
    {
     "name": "stderr",
     "output_type": "stream",
     "text": [
      "DiagramVectorizer: batch: 100%|██████████| 98/98 [00:34<00:00,  2.81it/s]\n"
     ]
    },
    {
     "name": "stdout",
     "output_type": "stream",
     "text": [
      "Saving the result to ./19/train/filtrations/2/DensityFiltration_1/green/features.npy\n",
      "FiltrationExtractor: processing 19/train/filtrations/2/DensityFiltration_1/green, do_fit = False, filtration = DensityFiltration(n_jobs=-1, radius=1)\n",
      "Got the result from ./19/train/filtrations/2/DensityFiltration_1/green/features.npy\n",
      "FiltrationExtractor: processing 19/train/filtrations/2/DensityFiltration_1/blue, do_fit = True, filtration = DensityFiltration(n_jobs=-1, radius=1)\n",
      "Saving the result to ./19/train/filtrations/2/DensityFiltration_1/blue/diagrams.npy\n",
      "DiagramVectorizer: fitting complete\n"
     ]
    },
    {
     "name": "stderr",
     "output_type": "stream",
     "text": [
      "DiagramVectorizer: batch: 100%|██████████| 98/98 [00:35<00:00,  2.75it/s]\n"
     ]
    },
    {
     "name": "stdout",
     "output_type": "stream",
     "text": [
      "Saving the result to ./19/train/filtrations/2/DensityFiltration_1/blue/features.npy\n",
      "FiltrationExtractor: processing 19/train/filtrations/2/DensityFiltration_1/blue, do_fit = False, filtration = DensityFiltration(n_jobs=-1, radius=1)\n",
      "Got the result from ./19/train/filtrations/2/DensityFiltration_1/blue/features.npy\n",
      "Fitting filtration 28/116: 2/DensityFiltration_3\n",
      "RGB images received. Transforming to grayscale.\n"
     ]
    },
    {
     "name": "stderr",
     "output_type": "stream",
     "text": [
      "rgb2gray: 100%|██████████| 50000/50000 [00:03<00:00, 12630.14it/s]\n"
     ]
    },
    {
     "name": "stdout",
     "output_type": "stream",
     "text": [
      "FiltrationExtractor: processing 19/train/filtrations/2/DensityFiltration_3/gray, do_fit = True, filtration = DensityFiltration(n_jobs=-1)\n",
      "Saving the result to ./19/train/filtrations/2/DensityFiltration_3/gray/diagrams.npy\n",
      "DiagramVectorizer: fitting complete\n"
     ]
    },
    {
     "name": "stderr",
     "output_type": "stream",
     "text": [
      "DiagramVectorizer: batch: 100%|██████████| 98/98 [00:19<00:00,  4.96it/s]\n"
     ]
    },
    {
     "name": "stdout",
     "output_type": "stream",
     "text": [
      "Saving the result to ./19/train/filtrations/2/DensityFiltration_3/gray/features.npy\n",
      "FiltrationExtractor: processing 19/train/filtrations/2/DensityFiltration_3/gray, do_fit = False, filtration = DensityFiltration(n_jobs=-1)\n",
      "Got the result from ./19/train/filtrations/2/DensityFiltration_3/gray/features.npy\n",
      "FiltrationExtractor: processing 19/train/filtrations/2/DensityFiltration_3/red, do_fit = True, filtration = DensityFiltration(n_jobs=-1)\n",
      "Saving the result to ./19/train/filtrations/2/DensityFiltration_3/red/diagrams.npy\n",
      "DiagramVectorizer: fitting complete\n"
     ]
    },
    {
     "name": "stderr",
     "output_type": "stream",
     "text": [
      "DiagramVectorizer: batch: 100%|██████████| 98/98 [00:19<00:00,  5.02it/s]\n"
     ]
    },
    {
     "name": "stdout",
     "output_type": "stream",
     "text": [
      "Saving the result to ./19/train/filtrations/2/DensityFiltration_3/red/features.npy\n",
      "FiltrationExtractor: processing 19/train/filtrations/2/DensityFiltration_3/red, do_fit = False, filtration = DensityFiltration(n_jobs=-1)\n",
      "Got the result from ./19/train/filtrations/2/DensityFiltration_3/red/features.npy\n",
      "FiltrationExtractor: processing 19/train/filtrations/2/DensityFiltration_3/green, do_fit = True, filtration = DensityFiltration(n_jobs=-1)\n",
      "Saving the result to ./19/train/filtrations/2/DensityFiltration_3/green/diagrams.npy\n",
      "DiagramVectorizer: fitting complete\n"
     ]
    },
    {
     "name": "stderr",
     "output_type": "stream",
     "text": [
      "DiagramVectorizer: batch: 100%|██████████| 98/98 [00:21<00:00,  4.63it/s]\n"
     ]
    },
    {
     "name": "stdout",
     "output_type": "stream",
     "text": [
      "Saving the result to ./19/train/filtrations/2/DensityFiltration_3/green/features.npy\n",
      "FiltrationExtractor: processing 19/train/filtrations/2/DensityFiltration_3/green, do_fit = False, filtration = DensityFiltration(n_jobs=-1)\n",
      "Got the result from ./19/train/filtrations/2/DensityFiltration_3/green/features.npy\n",
      "FiltrationExtractor: processing 19/train/filtrations/2/DensityFiltration_3/blue, do_fit = True, filtration = DensityFiltration(n_jobs=-1)\n",
      "Saving the result to ./19/train/filtrations/2/DensityFiltration_3/blue/diagrams.npy\n",
      "DiagramVectorizer: fitting complete\n"
     ]
    },
    {
     "name": "stderr",
     "output_type": "stream",
     "text": [
      "DiagramVectorizer: batch: 100%|██████████| 98/98 [00:19<00:00,  5.01it/s]\n"
     ]
    },
    {
     "name": "stdout",
     "output_type": "stream",
     "text": [
      "Saving the result to ./19/train/filtrations/2/DensityFiltration_3/blue/features.npy\n",
      "FiltrationExtractor: processing 19/train/filtrations/2/DensityFiltration_3/blue, do_fit = False, filtration = DensityFiltration(n_jobs=-1)\n",
      "Got the result from ./19/train/filtrations/2/DensityFiltration_3/blue/features.npy\n",
      "Fitting filtration 29/116: 4/HeightFiltrartion_-1_-1\n",
      "RGB images received. Transforming to grayscale.\n"
     ]
    },
    {
     "name": "stderr",
     "output_type": "stream",
     "text": [
      "rgb2gray: 100%|██████████| 50000/50000 [00:03<00:00, 12870.22it/s]\n"
     ]
    },
    {
     "name": "stdout",
     "output_type": "stream",
     "text": [
      "FiltrationExtractor: processing 19/train/filtrations/4/HeightFiltrartion_-1_-1/gray, do_fit = True, filtration = HeightFiltration(direction=array([-1, -1]), n_jobs=-1)\n",
      "Saving the result to ./19/train/filtrations/4/HeightFiltrartion_-1_-1/gray/diagrams.npy\n",
      "DiagramVectorizer: fitting complete\n"
     ]
    },
    {
     "name": "stderr",
     "output_type": "stream",
     "text": [
      "DiagramVectorizer: batch: 100%|██████████| 98/98 [00:20<00:00,  4.84it/s]\n"
     ]
    },
    {
     "name": "stdout",
     "output_type": "stream",
     "text": [
      "Saving the result to ./19/train/filtrations/4/HeightFiltrartion_-1_-1/gray/features.npy\n",
      "FiltrationExtractor: processing 19/train/filtrations/4/HeightFiltrartion_-1_-1/gray, do_fit = False, filtration = HeightFiltration(direction=array([-1, -1]), n_jobs=-1)\n",
      "Got the result from ./19/train/filtrations/4/HeightFiltrartion_-1_-1/gray/features.npy\n",
      "FiltrationExtractor: processing 19/train/filtrations/4/HeightFiltrartion_-1_-1/red, do_fit = True, filtration = HeightFiltration(direction=array([-1, -1]), n_jobs=-1)\n",
      "Saving the result to ./19/train/filtrations/4/HeightFiltrartion_-1_-1/red/diagrams.npy\n",
      "DiagramVectorizer: fitting complete\n"
     ]
    },
    {
     "name": "stderr",
     "output_type": "stream",
     "text": [
      "DiagramVectorizer: batch: 100%|██████████| 98/98 [00:20<00:00,  4.70it/s]\n"
     ]
    },
    {
     "name": "stdout",
     "output_type": "stream",
     "text": [
      "Saving the result to ./19/train/filtrations/4/HeightFiltrartion_-1_-1/red/features.npy\n",
      "FiltrationExtractor: processing 19/train/filtrations/4/HeightFiltrartion_-1_-1/red, do_fit = False, filtration = HeightFiltration(direction=array([-1, -1]), n_jobs=-1)\n",
      "Got the result from ./19/train/filtrations/4/HeightFiltrartion_-1_-1/red/features.npy\n",
      "FiltrationExtractor: processing 19/train/filtrations/4/HeightFiltrartion_-1_-1/green, do_fit = True, filtration = HeightFiltration(direction=array([-1, -1]), n_jobs=-1)\n",
      "Saving the result to ./19/train/filtrations/4/HeightFiltrartion_-1_-1/green/diagrams.npy\n",
      "DiagramVectorizer: fitting complete\n"
     ]
    },
    {
     "name": "stderr",
     "output_type": "stream",
     "text": [
      "DiagramVectorizer: batch: 100%|██████████| 98/98 [00:19<00:00,  5.08it/s]\n"
     ]
    },
    {
     "name": "stdout",
     "output_type": "stream",
     "text": [
      "Saving the result to ./19/train/filtrations/4/HeightFiltrartion_-1_-1/green/features.npy\n",
      "FiltrationExtractor: processing 19/train/filtrations/4/HeightFiltrartion_-1_-1/green, do_fit = False, filtration = HeightFiltration(direction=array([-1, -1]), n_jobs=-1)\n",
      "Got the result from ./19/train/filtrations/4/HeightFiltrartion_-1_-1/green/features.npy\n",
      "FiltrationExtractor: processing 19/train/filtrations/4/HeightFiltrartion_-1_-1/blue, do_fit = True, filtration = HeightFiltration(direction=array([-1, -1]), n_jobs=-1)\n",
      "Saving the result to ./19/train/filtrations/4/HeightFiltrartion_-1_-1/blue/diagrams.npy\n",
      "DiagramVectorizer: fitting complete\n"
     ]
    },
    {
     "name": "stderr",
     "output_type": "stream",
     "text": [
      "DiagramVectorizer: batch: 100%|██████████| 98/98 [00:19<00:00,  5.02it/s]\n"
     ]
    },
    {
     "name": "stdout",
     "output_type": "stream",
     "text": [
      "Saving the result to ./19/train/filtrations/4/HeightFiltrartion_-1_-1/blue/features.npy\n",
      "FiltrationExtractor: processing 19/train/filtrations/4/HeightFiltrartion_-1_-1/blue, do_fit = False, filtration = HeightFiltration(direction=array([-1, -1]), n_jobs=-1)\n",
      "Got the result from ./19/train/filtrations/4/HeightFiltrartion_-1_-1/blue/features.npy\n",
      "Fitting filtration 30/116: 4/HeightFiltrartion_1_1\n",
      "RGB images received. Transforming to grayscale.\n"
     ]
    },
    {
     "name": "stderr",
     "output_type": "stream",
     "text": [
      "rgb2gray: 100%|██████████| 50000/50000 [00:03<00:00, 13775.01it/s]\n"
     ]
    },
    {
     "name": "stdout",
     "output_type": "stream",
     "text": [
      "FiltrationExtractor: processing 19/train/filtrations/4/HeightFiltrartion_1_1/gray, do_fit = True, filtration = HeightFiltration(direction=array([1, 1]), n_jobs=-1)\n",
      "Saving the result to ./19/train/filtrations/4/HeightFiltrartion_1_1/gray/diagrams.npy\n",
      "DiagramVectorizer: fitting complete\n"
     ]
    },
    {
     "name": "stderr",
     "output_type": "stream",
     "text": [
      "DiagramVectorizer: batch: 100%|██████████| 98/98 [00:19<00:00,  4.99it/s]\n"
     ]
    },
    {
     "name": "stdout",
     "output_type": "stream",
     "text": [
      "Saving the result to ./19/train/filtrations/4/HeightFiltrartion_1_1/gray/features.npy\n",
      "FiltrationExtractor: processing 19/train/filtrations/4/HeightFiltrartion_1_1/gray, do_fit = False, filtration = HeightFiltration(direction=array([1, 1]), n_jobs=-1)\n",
      "Got the result from ./19/train/filtrations/4/HeightFiltrartion_1_1/gray/features.npy\n",
      "FiltrationExtractor: processing 19/train/filtrations/4/HeightFiltrartion_1_1/red, do_fit = True, filtration = HeightFiltration(direction=array([1, 1]), n_jobs=-1)\n",
      "Saving the result to ./19/train/filtrations/4/HeightFiltrartion_1_1/red/diagrams.npy\n",
      "DiagramVectorizer: fitting complete\n"
     ]
    },
    {
     "name": "stderr",
     "output_type": "stream",
     "text": [
      "DiagramVectorizer: batch: 100%|██████████| 98/98 [00:19<00:00,  5.10it/s]\n"
     ]
    },
    {
     "name": "stdout",
     "output_type": "stream",
     "text": [
      "Saving the result to ./19/train/filtrations/4/HeightFiltrartion_1_1/red/features.npy\n",
      "FiltrationExtractor: processing 19/train/filtrations/4/HeightFiltrartion_1_1/red, do_fit = False, filtration = HeightFiltration(direction=array([1, 1]), n_jobs=-1)\n",
      "Got the result from ./19/train/filtrations/4/HeightFiltrartion_1_1/red/features.npy\n",
      "FiltrationExtractor: processing 19/train/filtrations/4/HeightFiltrartion_1_1/green, do_fit = True, filtration = HeightFiltration(direction=array([1, 1]), n_jobs=-1)\n",
      "Saving the result to ./19/train/filtrations/4/HeightFiltrartion_1_1/green/diagrams.npy\n",
      "DiagramVectorizer: fitting complete\n"
     ]
    },
    {
     "name": "stderr",
     "output_type": "stream",
     "text": [
      "DiagramVectorizer: batch: 100%|██████████| 98/98 [00:20<00:00,  4.84it/s]\n"
     ]
    },
    {
     "name": "stdout",
     "output_type": "stream",
     "text": [
      "Saving the result to ./19/train/filtrations/4/HeightFiltrartion_1_1/green/features.npy\n",
      "FiltrationExtractor: processing 19/train/filtrations/4/HeightFiltrartion_1_1/green, do_fit = False, filtration = HeightFiltration(direction=array([1, 1]), n_jobs=-1)\n",
      "Got the result from ./19/train/filtrations/4/HeightFiltrartion_1_1/green/features.npy\n",
      "FiltrationExtractor: processing 19/train/filtrations/4/HeightFiltrartion_1_1/blue, do_fit = True, filtration = HeightFiltration(direction=array([1, 1]), n_jobs=-1)\n",
      "Saving the result to ./19/train/filtrations/4/HeightFiltrartion_1_1/blue/diagrams.npy\n",
      "DiagramVectorizer: fitting complete\n"
     ]
    },
    {
     "name": "stderr",
     "output_type": "stream",
     "text": [
      "DiagramVectorizer: batch: 100%|██████████| 98/98 [00:21<00:00,  4.55it/s]\n"
     ]
    },
    {
     "name": "stdout",
     "output_type": "stream",
     "text": [
      "Saving the result to ./19/train/filtrations/4/HeightFiltrartion_1_1/blue/features.npy\n",
      "FiltrationExtractor: processing 19/train/filtrations/4/HeightFiltrartion_1_1/blue, do_fit = False, filtration = HeightFiltration(direction=array([1, 1]), n_jobs=-1)\n",
      "Got the result from ./19/train/filtrations/4/HeightFiltrartion_1_1/blue/features.npy\n",
      "Fitting filtration 31/116: 4/HeightFiltrartion_1_-1\n",
      "RGB images received. Transforming to grayscale.\n"
     ]
    },
    {
     "name": "stderr",
     "output_type": "stream",
     "text": [
      "rgb2gray: 100%|██████████| 50000/50000 [00:03<00:00, 13186.97it/s]\n"
     ]
    },
    {
     "name": "stdout",
     "output_type": "stream",
     "text": [
      "FiltrationExtractor: processing 19/train/filtrations/4/HeightFiltrartion_1_-1/gray, do_fit = True, filtration = HeightFiltration(direction=array([ 1, -1]), n_jobs=-1)\n",
      "Saving the result to ./19/train/filtrations/4/HeightFiltrartion_1_-1/gray/diagrams.npy\n",
      "DiagramVectorizer: fitting complete\n"
     ]
    },
    {
     "name": "stderr",
     "output_type": "stream",
     "text": [
      "DiagramVectorizer: batch: 100%|██████████| 98/98 [00:20<00:00,  4.74it/s]\n"
     ]
    },
    {
     "name": "stdout",
     "output_type": "stream",
     "text": [
      "Saving the result to ./19/train/filtrations/4/HeightFiltrartion_1_-1/gray/features.npy\n",
      "FiltrationExtractor: processing 19/train/filtrations/4/HeightFiltrartion_1_-1/gray, do_fit = False, filtration = HeightFiltration(direction=array([ 1, -1]), n_jobs=-1)\n",
      "Got the result from ./19/train/filtrations/4/HeightFiltrartion_1_-1/gray/features.npy\n",
      "FiltrationExtractor: processing 19/train/filtrations/4/HeightFiltrartion_1_-1/red, do_fit = True, filtration = HeightFiltration(direction=array([ 1, -1]), n_jobs=-1)\n",
      "Saving the result to ./19/train/filtrations/4/HeightFiltrartion_1_-1/red/diagrams.npy\n",
      "DiagramVectorizer: fitting complete\n"
     ]
    },
    {
     "name": "stderr",
     "output_type": "stream",
     "text": [
      "DiagramVectorizer: batch: 100%|██████████| 98/98 [00:21<00:00,  4.64it/s]\n"
     ]
    },
    {
     "name": "stdout",
     "output_type": "stream",
     "text": [
      "Saving the result to ./19/train/filtrations/4/HeightFiltrartion_1_-1/red/features.npy\n",
      "FiltrationExtractor: processing 19/train/filtrations/4/HeightFiltrartion_1_-1/red, do_fit = False, filtration = HeightFiltration(direction=array([ 1, -1]), n_jobs=-1)\n",
      "Got the result from ./19/train/filtrations/4/HeightFiltrartion_1_-1/red/features.npy\n",
      "FiltrationExtractor: processing 19/train/filtrations/4/HeightFiltrartion_1_-1/green, do_fit = True, filtration = HeightFiltration(direction=array([ 1, -1]), n_jobs=-1)\n",
      "Saving the result to ./19/train/filtrations/4/HeightFiltrartion_1_-1/green/diagrams.npy\n",
      "DiagramVectorizer: fitting complete\n"
     ]
    },
    {
     "name": "stderr",
     "output_type": "stream",
     "text": [
      "DiagramVectorizer: batch: 100%|██████████| 98/98 [00:19<00:00,  4.99it/s]\n"
     ]
    },
    {
     "name": "stdout",
     "output_type": "stream",
     "text": [
      "Saving the result to ./19/train/filtrations/4/HeightFiltrartion_1_-1/green/features.npy\n",
      "FiltrationExtractor: processing 19/train/filtrations/4/HeightFiltrartion_1_-1/green, do_fit = False, filtration = HeightFiltration(direction=array([ 1, -1]), n_jobs=-1)\n",
      "Got the result from ./19/train/filtrations/4/HeightFiltrartion_1_-1/green/features.npy\n",
      "FiltrationExtractor: processing 19/train/filtrations/4/HeightFiltrartion_1_-1/blue, do_fit = True, filtration = HeightFiltration(direction=array([ 1, -1]), n_jobs=-1)\n",
      "Saving the result to ./19/train/filtrations/4/HeightFiltrartion_1_-1/blue/diagrams.npy\n",
      "DiagramVectorizer: fitting complete\n"
     ]
    },
    {
     "name": "stderr",
     "output_type": "stream",
     "text": [
      "DiagramVectorizer: batch: 100%|██████████| 98/98 [00:21<00:00,  4.52it/s]\n"
     ]
    },
    {
     "name": "stdout",
     "output_type": "stream",
     "text": [
      "Saving the result to ./19/train/filtrations/4/HeightFiltrartion_1_-1/blue/features.npy\n",
      "FiltrationExtractor: processing 19/train/filtrations/4/HeightFiltrartion_1_-1/blue, do_fit = False, filtration = HeightFiltration(direction=array([ 1, -1]), n_jobs=-1)\n",
      "Got the result from ./19/train/filtrations/4/HeightFiltrartion_1_-1/blue/features.npy\n",
      "Fitting filtration 32/116: 4/HeightFiltrartion_-1_1\n",
      "RGB images received. Transforming to grayscale.\n"
     ]
    },
    {
     "name": "stderr",
     "output_type": "stream",
     "text": [
      "rgb2gray: 100%|██████████| 50000/50000 [00:04<00:00, 12336.57it/s]\n"
     ]
    },
    {
     "name": "stdout",
     "output_type": "stream",
     "text": [
      "FiltrationExtractor: processing 19/train/filtrations/4/HeightFiltrartion_-1_1/gray, do_fit = True, filtration = HeightFiltration(direction=array([-1,  1]), n_jobs=-1)\n",
      "Saving the result to ./19/train/filtrations/4/HeightFiltrartion_-1_1/gray/diagrams.npy\n",
      "DiagramVectorizer: fitting complete\n"
     ]
    },
    {
     "name": "stderr",
     "output_type": "stream",
     "text": [
      "DiagramVectorizer: batch: 100%|██████████| 98/98 [00:20<00:00,  4.67it/s]\n"
     ]
    },
    {
     "name": "stdout",
     "output_type": "stream",
     "text": [
      "Saving the result to ./19/train/filtrations/4/HeightFiltrartion_-1_1/gray/features.npy\n",
      "FiltrationExtractor: processing 19/train/filtrations/4/HeightFiltrartion_-1_1/gray, do_fit = False, filtration = HeightFiltration(direction=array([-1,  1]), n_jobs=-1)\n",
      "Got the result from ./19/train/filtrations/4/HeightFiltrartion_-1_1/gray/features.npy\n",
      "FiltrationExtractor: processing 19/train/filtrations/4/HeightFiltrartion_-1_1/red, do_fit = True, filtration = HeightFiltration(direction=array([-1,  1]), n_jobs=-1)\n",
      "Saving the result to ./19/train/filtrations/4/HeightFiltrartion_-1_1/red/diagrams.npy\n",
      "DiagramVectorizer: fitting complete\n"
     ]
    },
    {
     "name": "stderr",
     "output_type": "stream",
     "text": [
      "DiagramVectorizer: batch: 100%|██████████| 98/98 [00:20<00:00,  4.77it/s]\n"
     ]
    },
    {
     "name": "stdout",
     "output_type": "stream",
     "text": [
      "Saving the result to ./19/train/filtrations/4/HeightFiltrartion_-1_1/red/features.npy\n",
      "FiltrationExtractor: processing 19/train/filtrations/4/HeightFiltrartion_-1_1/red, do_fit = False, filtration = HeightFiltration(direction=array([-1,  1]), n_jobs=-1)\n",
      "Got the result from ./19/train/filtrations/4/HeightFiltrartion_-1_1/red/features.npy\n",
      "FiltrationExtractor: processing 19/train/filtrations/4/HeightFiltrartion_-1_1/green, do_fit = True, filtration = HeightFiltration(direction=array([-1,  1]), n_jobs=-1)\n",
      "Saving the result to ./19/train/filtrations/4/HeightFiltrartion_-1_1/green/diagrams.npy\n",
      "DiagramVectorizer: fitting complete\n"
     ]
    },
    {
     "name": "stderr",
     "output_type": "stream",
     "text": [
      "DiagramVectorizer: batch: 100%|██████████| 98/98 [00:22<00:00,  4.38it/s]\n"
     ]
    },
    {
     "name": "stdout",
     "output_type": "stream",
     "text": [
      "Saving the result to ./19/train/filtrations/4/HeightFiltrartion_-1_1/green/features.npy\n",
      "FiltrationExtractor: processing 19/train/filtrations/4/HeightFiltrartion_-1_1/green, do_fit = False, filtration = HeightFiltration(direction=array([-1,  1]), n_jobs=-1)\n",
      "Got the result from ./19/train/filtrations/4/HeightFiltrartion_-1_1/green/features.npy\n",
      "FiltrationExtractor: processing 19/train/filtrations/4/HeightFiltrartion_-1_1/blue, do_fit = True, filtration = HeightFiltration(direction=array([-1,  1]), n_jobs=-1)\n",
      "Saving the result to ./19/train/filtrations/4/HeightFiltrartion_-1_1/blue/diagrams.npy\n",
      "DiagramVectorizer: fitting complete\n"
     ]
    },
    {
     "name": "stderr",
     "output_type": "stream",
     "text": [
      "DiagramVectorizer: batch: 100%|██████████| 98/98 [00:20<00:00,  4.71it/s]\n"
     ]
    },
    {
     "name": "stdout",
     "output_type": "stream",
     "text": [
      "Saving the result to ./19/train/filtrations/4/HeightFiltrartion_-1_1/blue/features.npy\n",
      "FiltrationExtractor: processing 19/train/filtrations/4/HeightFiltrartion_-1_1/blue, do_fit = False, filtration = HeightFiltration(direction=array([-1,  1]), n_jobs=-1)\n",
      "Got the result from ./19/train/filtrations/4/HeightFiltrartion_-1_1/blue/features.npy\n",
      "Fitting filtration 33/116: 4/HeightFiltrartion_0_-1\n",
      "RGB images received. Transforming to grayscale.\n"
     ]
    },
    {
     "name": "stderr",
     "output_type": "stream",
     "text": [
      "rgb2gray: 100%|██████████| 50000/50000 [00:04<00:00, 12073.25it/s]\n"
     ]
    },
    {
     "name": "stdout",
     "output_type": "stream",
     "text": [
      "FiltrationExtractor: processing 19/train/filtrations/4/HeightFiltrartion_0_-1/gray, do_fit = True, filtration = HeightFiltration(direction=array([ 0, -1]), n_jobs=-1)\n",
      "Saving the result to ./19/train/filtrations/4/HeightFiltrartion_0_-1/gray/diagrams.npy\n",
      "DiagramVectorizer: fitting complete\n"
     ]
    },
    {
     "name": "stderr",
     "output_type": "stream",
     "text": [
      "DiagramVectorizer: batch: 100%|██████████| 98/98 [00:21<00:00,  4.61it/s]\n"
     ]
    },
    {
     "name": "stdout",
     "output_type": "stream",
     "text": [
      "Saving the result to ./19/train/filtrations/4/HeightFiltrartion_0_-1/gray/features.npy\n",
      "FiltrationExtractor: processing 19/train/filtrations/4/HeightFiltrartion_0_-1/gray, do_fit = False, filtration = HeightFiltration(direction=array([ 0, -1]), n_jobs=-1)\n",
      "Got the result from ./19/train/filtrations/4/HeightFiltrartion_0_-1/gray/features.npy\n",
      "FiltrationExtractor: processing 19/train/filtrations/4/HeightFiltrartion_0_-1/red, do_fit = True, filtration = HeightFiltration(direction=array([ 0, -1]), n_jobs=-1)\n",
      "Saving the result to ./19/train/filtrations/4/HeightFiltrartion_0_-1/red/diagrams.npy\n",
      "DiagramVectorizer: fitting complete\n"
     ]
    },
    {
     "name": "stderr",
     "output_type": "stream",
     "text": [
      "DiagramVectorizer: batch: 100%|██████████| 98/98 [00:20<00:00,  4.73it/s]\n"
     ]
    },
    {
     "name": "stdout",
     "output_type": "stream",
     "text": [
      "Saving the result to ./19/train/filtrations/4/HeightFiltrartion_0_-1/red/features.npy\n",
      "FiltrationExtractor: processing 19/train/filtrations/4/HeightFiltrartion_0_-1/red, do_fit = False, filtration = HeightFiltration(direction=array([ 0, -1]), n_jobs=-1)\n",
      "Got the result from ./19/train/filtrations/4/HeightFiltrartion_0_-1/red/features.npy\n",
      "FiltrationExtractor: processing 19/train/filtrations/4/HeightFiltrartion_0_-1/green, do_fit = True, filtration = HeightFiltration(direction=array([ 0, -1]), n_jobs=-1)\n",
      "Saving the result to ./19/train/filtrations/4/HeightFiltrartion_0_-1/green/diagrams.npy\n",
      "DiagramVectorizer: fitting complete\n"
     ]
    },
    {
     "name": "stderr",
     "output_type": "stream",
     "text": [
      "DiagramVectorizer: batch: 100%|██████████| 98/98 [00:20<00:00,  4.72it/s]\n"
     ]
    },
    {
     "name": "stdout",
     "output_type": "stream",
     "text": [
      "Saving the result to ./19/train/filtrations/4/HeightFiltrartion_0_-1/green/features.npy\n",
      "FiltrationExtractor: processing 19/train/filtrations/4/HeightFiltrartion_0_-1/green, do_fit = False, filtration = HeightFiltration(direction=array([ 0, -1]), n_jobs=-1)\n",
      "Got the result from ./19/train/filtrations/4/HeightFiltrartion_0_-1/green/features.npy\n",
      "FiltrationExtractor: processing 19/train/filtrations/4/HeightFiltrartion_0_-1/blue, do_fit = True, filtration = HeightFiltration(direction=array([ 0, -1]), n_jobs=-1)\n",
      "Saving the result to ./19/train/filtrations/4/HeightFiltrartion_0_-1/blue/diagrams.npy\n",
      "DiagramVectorizer: fitting complete\n"
     ]
    },
    {
     "name": "stderr",
     "output_type": "stream",
     "text": [
      "DiagramVectorizer: batch: 100%|██████████| 98/98 [00:21<00:00,  4.53it/s]\n"
     ]
    },
    {
     "name": "stdout",
     "output_type": "stream",
     "text": [
      "Saving the result to ./19/train/filtrations/4/HeightFiltrartion_0_-1/blue/features.npy\n",
      "FiltrationExtractor: processing 19/train/filtrations/4/HeightFiltrartion_0_-1/blue, do_fit = False, filtration = HeightFiltration(direction=array([ 0, -1]), n_jobs=-1)\n",
      "Got the result from ./19/train/filtrations/4/HeightFiltrartion_0_-1/blue/features.npy\n",
      "Fitting filtration 34/116: 4/HeightFiltrartion_0_1\n",
      "RGB images received. Transforming to grayscale.\n"
     ]
    },
    {
     "name": "stderr",
     "output_type": "stream",
     "text": [
      "rgb2gray: 100%|██████████| 50000/50000 [00:04<00:00, 11925.91it/s]\n"
     ]
    },
    {
     "name": "stdout",
     "output_type": "stream",
     "text": [
      "FiltrationExtractor: processing 19/train/filtrations/4/HeightFiltrartion_0_1/gray, do_fit = True, filtration = HeightFiltration(direction=array([0, 1]), n_jobs=-1)\n",
      "Saving the result to ./19/train/filtrations/4/HeightFiltrartion_0_1/gray/diagrams.npy\n",
      "DiagramVectorizer: fitting complete\n"
     ]
    },
    {
     "name": "stderr",
     "output_type": "stream",
     "text": [
      "DiagramVectorizer: batch: 100%|██████████| 98/98 [00:21<00:00,  4.59it/s]\n"
     ]
    },
    {
     "name": "stdout",
     "output_type": "stream",
     "text": [
      "Saving the result to ./19/train/filtrations/4/HeightFiltrartion_0_1/gray/features.npy\n",
      "FiltrationExtractor: processing 19/train/filtrations/4/HeightFiltrartion_0_1/gray, do_fit = False, filtration = HeightFiltration(direction=array([0, 1]), n_jobs=-1)\n",
      "Got the result from ./19/train/filtrations/4/HeightFiltrartion_0_1/gray/features.npy\n",
      "FiltrationExtractor: processing 19/train/filtrations/4/HeightFiltrartion_0_1/red, do_fit = True, filtration = HeightFiltration(direction=array([0, 1]), n_jobs=-1)\n",
      "Saving the result to ./19/train/filtrations/4/HeightFiltrartion_0_1/red/diagrams.npy\n",
      "DiagramVectorizer: fitting complete\n"
     ]
    },
    {
     "name": "stderr",
     "output_type": "stream",
     "text": [
      "DiagramVectorizer: batch: 100%|██████████| 98/98 [00:21<00:00,  4.60it/s]\n"
     ]
    },
    {
     "name": "stdout",
     "output_type": "stream",
     "text": [
      "Saving the result to ./19/train/filtrations/4/HeightFiltrartion_0_1/red/features.npy\n",
      "FiltrationExtractor: processing 19/train/filtrations/4/HeightFiltrartion_0_1/red, do_fit = False, filtration = HeightFiltration(direction=array([0, 1]), n_jobs=-1)\n",
      "Got the result from ./19/train/filtrations/4/HeightFiltrartion_0_1/red/features.npy\n",
      "FiltrationExtractor: processing 19/train/filtrations/4/HeightFiltrartion_0_1/green, do_fit = True, filtration = HeightFiltration(direction=array([0, 1]), n_jobs=-1)\n",
      "Saving the result to ./19/train/filtrations/4/HeightFiltrartion_0_1/green/diagrams.npy\n",
      "DiagramVectorizer: fitting complete\n"
     ]
    },
    {
     "name": "stderr",
     "output_type": "stream",
     "text": [
      "DiagramVectorizer: batch: 100%|██████████| 98/98 [00:21<00:00,  4.56it/s]\n"
     ]
    },
    {
     "name": "stdout",
     "output_type": "stream",
     "text": [
      "Saving the result to ./19/train/filtrations/4/HeightFiltrartion_0_1/green/features.npy\n",
      "FiltrationExtractor: processing 19/train/filtrations/4/HeightFiltrartion_0_1/green, do_fit = False, filtration = HeightFiltration(direction=array([0, 1]), n_jobs=-1)\n",
      "Got the result from ./19/train/filtrations/4/HeightFiltrartion_0_1/green/features.npy\n",
      "FiltrationExtractor: processing 19/train/filtrations/4/HeightFiltrartion_0_1/blue, do_fit = True, filtration = HeightFiltration(direction=array([0, 1]), n_jobs=-1)\n",
      "Saving the result to ./19/train/filtrations/4/HeightFiltrartion_0_1/blue/diagrams.npy\n",
      "DiagramVectorizer: fitting complete\n"
     ]
    },
    {
     "name": "stderr",
     "output_type": "stream",
     "text": [
      "DiagramVectorizer: batch: 100%|██████████| 98/98 [00:22<00:00,  4.44it/s]\n"
     ]
    },
    {
     "name": "stdout",
     "output_type": "stream",
     "text": [
      "Saving the result to ./19/train/filtrations/4/HeightFiltrartion_0_1/blue/features.npy\n",
      "FiltrationExtractor: processing 19/train/filtrations/4/HeightFiltrartion_0_1/blue, do_fit = False, filtration = HeightFiltration(direction=array([0, 1]), n_jobs=-1)\n",
      "Got the result from ./19/train/filtrations/4/HeightFiltrartion_0_1/blue/features.npy\n",
      "Fitting filtration 35/116: 4/HeightFiltrartion_-1_0\n",
      "RGB images received. Transforming to grayscale.\n"
     ]
    },
    {
     "name": "stderr",
     "output_type": "stream",
     "text": [
      "rgb2gray: 100%|██████████| 50000/50000 [00:04<00:00, 11818.14it/s]\n"
     ]
    },
    {
     "name": "stdout",
     "output_type": "stream",
     "text": [
      "FiltrationExtractor: processing 19/train/filtrations/4/HeightFiltrartion_-1_0/gray, do_fit = True, filtration = HeightFiltration(direction=array([-1,  0]), n_jobs=-1)\n",
      "Saving the result to ./19/train/filtrations/4/HeightFiltrartion_-1_0/gray/diagrams.npy\n",
      "DiagramVectorizer: fitting complete\n"
     ]
    },
    {
     "name": "stderr",
     "output_type": "stream",
     "text": [
      "DiagramVectorizer: batch: 100%|██████████| 98/98 [00:20<00:00,  4.71it/s]\n"
     ]
    },
    {
     "name": "stdout",
     "output_type": "stream",
     "text": [
      "Saving the result to ./19/train/filtrations/4/HeightFiltrartion_-1_0/gray/features.npy\n",
      "FiltrationExtractor: processing 19/train/filtrations/4/HeightFiltrartion_-1_0/gray, do_fit = False, filtration = HeightFiltration(direction=array([-1,  0]), n_jobs=-1)\n",
      "Got the result from ./19/train/filtrations/4/HeightFiltrartion_-1_0/gray/features.npy\n",
      "FiltrationExtractor: processing 19/train/filtrations/4/HeightFiltrartion_-1_0/red, do_fit = True, filtration = HeightFiltration(direction=array([-1,  0]), n_jobs=-1)\n",
      "Saving the result to ./19/train/filtrations/4/HeightFiltrartion_-1_0/red/diagrams.npy\n",
      "DiagramVectorizer: fitting complete\n"
     ]
    },
    {
     "name": "stderr",
     "output_type": "stream",
     "text": [
      "DiagramVectorizer: batch: 100%|██████████| 98/98 [00:21<00:00,  4.46it/s]\n"
     ]
    },
    {
     "name": "stdout",
     "output_type": "stream",
     "text": [
      "Saving the result to ./19/train/filtrations/4/HeightFiltrartion_-1_0/red/features.npy\n",
      "FiltrationExtractor: processing 19/train/filtrations/4/HeightFiltrartion_-1_0/red, do_fit = False, filtration = HeightFiltration(direction=array([-1,  0]), n_jobs=-1)\n",
      "Got the result from ./19/train/filtrations/4/HeightFiltrartion_-1_0/red/features.npy\n",
      "FiltrationExtractor: processing 19/train/filtrations/4/HeightFiltrartion_-1_0/green, do_fit = True, filtration = HeightFiltration(direction=array([-1,  0]), n_jobs=-1)\n",
      "Saving the result to ./19/train/filtrations/4/HeightFiltrartion_-1_0/green/diagrams.npy\n",
      "DiagramVectorizer: fitting complete\n"
     ]
    },
    {
     "name": "stderr",
     "output_type": "stream",
     "text": [
      "DiagramVectorizer: batch: 100%|██████████| 98/98 [00:22<00:00,  4.37it/s]\n"
     ]
    },
    {
     "name": "stdout",
     "output_type": "stream",
     "text": [
      "Saving the result to ./19/train/filtrations/4/HeightFiltrartion_-1_0/green/features.npy\n",
      "FiltrationExtractor: processing 19/train/filtrations/4/HeightFiltrartion_-1_0/green, do_fit = False, filtration = HeightFiltration(direction=array([-1,  0]), n_jobs=-1)\n",
      "Got the result from ./19/train/filtrations/4/HeightFiltrartion_-1_0/green/features.npy\n",
      "FiltrationExtractor: processing 19/train/filtrations/4/HeightFiltrartion_-1_0/blue, do_fit = True, filtration = HeightFiltration(direction=array([-1,  0]), n_jobs=-1)\n",
      "Saving the result to ./19/train/filtrations/4/HeightFiltrartion_-1_0/blue/diagrams.npy\n",
      "DiagramVectorizer: fitting complete\n"
     ]
    },
    {
     "name": "stderr",
     "output_type": "stream",
     "text": [
      "DiagramVectorizer: batch: 100%|██████████| 98/98 [00:22<00:00,  4.39it/s]\n"
     ]
    },
    {
     "name": "stdout",
     "output_type": "stream",
     "text": [
      "Saving the result to ./19/train/filtrations/4/HeightFiltrartion_-1_0/blue/features.npy\n",
      "FiltrationExtractor: processing 19/train/filtrations/4/HeightFiltrartion_-1_0/blue, do_fit = False, filtration = HeightFiltration(direction=array([-1,  0]), n_jobs=-1)\n",
      "Got the result from ./19/train/filtrations/4/HeightFiltrartion_-1_0/blue/features.npy\n",
      "Fitting filtration 36/116: 4/HeightFiltrartion_1_0\n",
      "RGB images received. Transforming to grayscale.\n"
     ]
    },
    {
     "name": "stderr",
     "output_type": "stream",
     "text": [
      "rgb2gray: 100%|██████████| 50000/50000 [00:04<00:00, 12190.03it/s]\n"
     ]
    },
    {
     "name": "stdout",
     "output_type": "stream",
     "text": [
      "FiltrationExtractor: processing 19/train/filtrations/4/HeightFiltrartion_1_0/gray, do_fit = True, filtration = HeightFiltration(direction=array([1, 0]), n_jobs=-1)\n",
      "Saving the result to ./19/train/filtrations/4/HeightFiltrartion_1_0/gray/diagrams.npy\n",
      "DiagramVectorizer: fitting complete\n"
     ]
    },
    {
     "name": "stderr",
     "output_type": "stream",
     "text": [
      "DiagramVectorizer: batch: 100%|██████████| 98/98 [00:21<00:00,  4.59it/s]\n"
     ]
    },
    {
     "name": "stdout",
     "output_type": "stream",
     "text": [
      "Saving the result to ./19/train/filtrations/4/HeightFiltrartion_1_0/gray/features.npy\n",
      "FiltrationExtractor: processing 19/train/filtrations/4/HeightFiltrartion_1_0/gray, do_fit = False, filtration = HeightFiltration(direction=array([1, 0]), n_jobs=-1)\n",
      "Got the result from ./19/train/filtrations/4/HeightFiltrartion_1_0/gray/features.npy\n",
      "FiltrationExtractor: processing 19/train/filtrations/4/HeightFiltrartion_1_0/red, do_fit = True, filtration = HeightFiltration(direction=array([1, 0]), n_jobs=-1)\n",
      "Saving the result to ./19/train/filtrations/4/HeightFiltrartion_1_0/red/diagrams.npy\n",
      "DiagramVectorizer: fitting complete\n"
     ]
    },
    {
     "name": "stderr",
     "output_type": "stream",
     "text": [
      "DiagramVectorizer: batch: 100%|██████████| 98/98 [00:21<00:00,  4.63it/s]\n"
     ]
    },
    {
     "name": "stdout",
     "output_type": "stream",
     "text": [
      "Saving the result to ./19/train/filtrations/4/HeightFiltrartion_1_0/red/features.npy\n",
      "FiltrationExtractor: processing 19/train/filtrations/4/HeightFiltrartion_1_0/red, do_fit = False, filtration = HeightFiltration(direction=array([1, 0]), n_jobs=-1)\n",
      "Got the result from ./19/train/filtrations/4/HeightFiltrartion_1_0/red/features.npy\n",
      "FiltrationExtractor: processing 19/train/filtrations/4/HeightFiltrartion_1_0/green, do_fit = True, filtration = HeightFiltration(direction=array([1, 0]), n_jobs=-1)\n",
      "Saving the result to ./19/train/filtrations/4/HeightFiltrartion_1_0/green/diagrams.npy\n",
      "DiagramVectorizer: fitting complete\n"
     ]
    },
    {
     "name": "stderr",
     "output_type": "stream",
     "text": [
      "DiagramVectorizer: batch: 100%|██████████| 98/98 [00:20<00:00,  4.77it/s]\n"
     ]
    },
    {
     "name": "stdout",
     "output_type": "stream",
     "text": [
      "Saving the result to ./19/train/filtrations/4/HeightFiltrartion_1_0/green/features.npy\n",
      "FiltrationExtractor: processing 19/train/filtrations/4/HeightFiltrartion_1_0/green, do_fit = False, filtration = HeightFiltration(direction=array([1, 0]), n_jobs=-1)\n",
      "Got the result from ./19/train/filtrations/4/HeightFiltrartion_1_0/green/features.npy\n",
      "FiltrationExtractor: processing 19/train/filtrations/4/HeightFiltrartion_1_0/blue, do_fit = True, filtration = HeightFiltration(direction=array([1, 0]), n_jobs=-1)\n",
      "Saving the result to ./19/train/filtrations/4/HeightFiltrartion_1_0/blue/diagrams.npy\n",
      "DiagramVectorizer: fitting complete\n"
     ]
    },
    {
     "name": "stderr",
     "output_type": "stream",
     "text": [
      "DiagramVectorizer: batch: 100%|██████████| 98/98 [00:20<00:00,  4.72it/s]\n"
     ]
    },
    {
     "name": "stdout",
     "output_type": "stream",
     "text": [
      "Saving the result to ./19/train/filtrations/4/HeightFiltrartion_1_0/blue/features.npy\n",
      "FiltrationExtractor: processing 19/train/filtrations/4/HeightFiltrartion_1_0/blue, do_fit = False, filtration = HeightFiltration(direction=array([1, 0]), n_jobs=-1)\n",
      "Got the result from ./19/train/filtrations/4/HeightFiltrartion_1_0/blue/features.npy\n",
      "Fitting filtration 37/116: 4/RadialFiltration_5_5\n",
      "RGB images received. Transforming to grayscale.\n"
     ]
    },
    {
     "name": "stderr",
     "output_type": "stream",
     "text": [
      "rgb2gray: 100%|██████████| 50000/50000 [00:04<00:00, 11699.41it/s]\n"
     ]
    },
    {
     "name": "stdout",
     "output_type": "stream",
     "text": [
      "FiltrationExtractor: processing 19/train/filtrations/4/RadialFiltration_5_5/gray, do_fit = True, filtration = RadialFiltration(center=array([5, 5]), n_jobs=-1)\n",
      "Saving the result to ./19/train/filtrations/4/RadialFiltration_5_5/gray/diagrams.npy\n",
      "DiagramVectorizer: fitting complete\n"
     ]
    },
    {
     "name": "stderr",
     "output_type": "stream",
     "text": [
      "DiagramVectorizer: batch: 100%|██████████| 98/98 [00:20<00:00,  4.68it/s]\n"
     ]
    },
    {
     "name": "stdout",
     "output_type": "stream",
     "text": [
      "Saving the result to ./19/train/filtrations/4/RadialFiltration_5_5/gray/features.npy\n",
      "FiltrationExtractor: processing 19/train/filtrations/4/RadialFiltration_5_5/gray, do_fit = False, filtration = RadialFiltration(center=array([5, 5]), n_jobs=-1)\n",
      "Got the result from ./19/train/filtrations/4/RadialFiltration_5_5/gray/features.npy\n",
      "FiltrationExtractor: processing 19/train/filtrations/4/RadialFiltration_5_5/red, do_fit = True, filtration = RadialFiltration(center=array([5, 5]), n_jobs=-1)\n",
      "Saving the result to ./19/train/filtrations/4/RadialFiltration_5_5/red/diagrams.npy\n",
      "DiagramVectorizer: fitting complete\n"
     ]
    },
    {
     "name": "stderr",
     "output_type": "stream",
     "text": [
      "DiagramVectorizer: batch: 100%|██████████| 98/98 [00:20<00:00,  4.72it/s]\n"
     ]
    },
    {
     "name": "stdout",
     "output_type": "stream",
     "text": [
      "Saving the result to ./19/train/filtrations/4/RadialFiltration_5_5/red/features.npy\n",
      "FiltrationExtractor: processing 19/train/filtrations/4/RadialFiltration_5_5/red, do_fit = False, filtration = RadialFiltration(center=array([5, 5]), n_jobs=-1)\n",
      "Got the result from ./19/train/filtrations/4/RadialFiltration_5_5/red/features.npy\n",
      "FiltrationExtractor: processing 19/train/filtrations/4/RadialFiltration_5_5/green, do_fit = True, filtration = RadialFiltration(center=array([5, 5]), n_jobs=-1)\n",
      "Saving the result to ./19/train/filtrations/4/RadialFiltration_5_5/green/diagrams.npy\n",
      "DiagramVectorizer: fitting complete\n"
     ]
    },
    {
     "name": "stderr",
     "output_type": "stream",
     "text": [
      "DiagramVectorizer: batch: 100%|██████████| 98/98 [00:21<00:00,  4.64it/s]\n"
     ]
    },
    {
     "name": "stdout",
     "output_type": "stream",
     "text": [
      "Saving the result to ./19/train/filtrations/4/RadialFiltration_5_5/green/features.npy\n",
      "FiltrationExtractor: processing 19/train/filtrations/4/RadialFiltration_5_5/green, do_fit = False, filtration = RadialFiltration(center=array([5, 5]), n_jobs=-1)\n",
      "Got the result from ./19/train/filtrations/4/RadialFiltration_5_5/green/features.npy\n",
      "FiltrationExtractor: processing 19/train/filtrations/4/RadialFiltration_5_5/blue, do_fit = True, filtration = RadialFiltration(center=array([5, 5]), n_jobs=-1)\n",
      "Saving the result to ./19/train/filtrations/4/RadialFiltration_5_5/blue/diagrams.npy\n",
      "DiagramVectorizer: fitting complete\n"
     ]
    },
    {
     "name": "stderr",
     "output_type": "stream",
     "text": [
      "DiagramVectorizer: batch: 100%|██████████| 98/98 [00:21<00:00,  4.63it/s]\n"
     ]
    },
    {
     "name": "stdout",
     "output_type": "stream",
     "text": [
      "Saving the result to ./19/train/filtrations/4/RadialFiltration_5_5/blue/features.npy\n",
      "FiltrationExtractor: processing 19/train/filtrations/4/RadialFiltration_5_5/blue, do_fit = False, filtration = RadialFiltration(center=array([5, 5]), n_jobs=-1)\n",
      "Got the result from ./19/train/filtrations/4/RadialFiltration_5_5/blue/features.npy\n",
      "Fitting filtration 38/116: 4/RadialFiltration_5_12\n",
      "RGB images received. Transforming to grayscale.\n"
     ]
    },
    {
     "name": "stderr",
     "output_type": "stream",
     "text": [
      "rgb2gray: 100%|██████████| 50000/50000 [00:04<00:00, 11205.27it/s]\n"
     ]
    },
    {
     "name": "stdout",
     "output_type": "stream",
     "text": [
      "FiltrationExtractor: processing 19/train/filtrations/4/RadialFiltration_5_12/gray, do_fit = True, filtration = RadialFiltration(center=array([ 5, 12]), n_jobs=-1)\n",
      "Saving the result to ./19/train/filtrations/4/RadialFiltration_5_12/gray/diagrams.npy\n",
      "DiagramVectorizer: fitting complete\n"
     ]
    },
    {
     "name": "stderr",
     "output_type": "stream",
     "text": [
      "DiagramVectorizer: batch: 100%|██████████| 98/98 [00:21<00:00,  4.47it/s]\n"
     ]
    },
    {
     "name": "stdout",
     "output_type": "stream",
     "text": [
      "Saving the result to ./19/train/filtrations/4/RadialFiltration_5_12/gray/features.npy\n",
      "FiltrationExtractor: processing 19/train/filtrations/4/RadialFiltration_5_12/gray, do_fit = False, filtration = RadialFiltration(center=array([ 5, 12]), n_jobs=-1)\n",
      "Got the result from ./19/train/filtrations/4/RadialFiltration_5_12/gray/features.npy\n",
      "FiltrationExtractor: processing 19/train/filtrations/4/RadialFiltration_5_12/red, do_fit = True, filtration = RadialFiltration(center=array([ 5, 12]), n_jobs=-1)\n",
      "Saving the result to ./19/train/filtrations/4/RadialFiltration_5_12/red/diagrams.npy\n",
      "DiagramVectorizer: fitting complete\n"
     ]
    },
    {
     "name": "stderr",
     "output_type": "stream",
     "text": [
      "DiagramVectorizer: batch: 100%|██████████| 98/98 [00:20<00:00,  4.76it/s]\n"
     ]
    },
    {
     "name": "stdout",
     "output_type": "stream",
     "text": [
      "Saving the result to ./19/train/filtrations/4/RadialFiltration_5_12/red/features.npy\n",
      "FiltrationExtractor: processing 19/train/filtrations/4/RadialFiltration_5_12/red, do_fit = False, filtration = RadialFiltration(center=array([ 5, 12]), n_jobs=-1)\n",
      "Got the result from ./19/train/filtrations/4/RadialFiltration_5_12/red/features.npy\n",
      "FiltrationExtractor: processing 19/train/filtrations/4/RadialFiltration_5_12/green, do_fit = True, filtration = RadialFiltration(center=array([ 5, 12]), n_jobs=-1)\n",
      "Saving the result to ./19/train/filtrations/4/RadialFiltration_5_12/green/diagrams.npy\n",
      "DiagramVectorizer: fitting complete\n"
     ]
    },
    {
     "name": "stderr",
     "output_type": "stream",
     "text": [
      "DiagramVectorizer: batch: 100%|██████████| 98/98 [00:20<00:00,  4.89it/s]\n"
     ]
    },
    {
     "name": "stdout",
     "output_type": "stream",
     "text": [
      "Saving the result to ./19/train/filtrations/4/RadialFiltration_5_12/green/features.npy\n",
      "FiltrationExtractor: processing 19/train/filtrations/4/RadialFiltration_5_12/green, do_fit = False, filtration = RadialFiltration(center=array([ 5, 12]), n_jobs=-1)\n",
      "Got the result from ./19/train/filtrations/4/RadialFiltration_5_12/green/features.npy\n",
      "FiltrationExtractor: processing 19/train/filtrations/4/RadialFiltration_5_12/blue, do_fit = True, filtration = RadialFiltration(center=array([ 5, 12]), n_jobs=-1)\n",
      "Saving the result to ./19/train/filtrations/4/RadialFiltration_5_12/blue/diagrams.npy\n",
      "DiagramVectorizer: fitting complete\n"
     ]
    },
    {
     "name": "stderr",
     "output_type": "stream",
     "text": [
      "DiagramVectorizer: batch: 100%|██████████| 98/98 [00:20<00:00,  4.87it/s]\n"
     ]
    },
    {
     "name": "stdout",
     "output_type": "stream",
     "text": [
      "Saving the result to ./19/train/filtrations/4/RadialFiltration_5_12/blue/features.npy\n",
      "FiltrationExtractor: processing 19/train/filtrations/4/RadialFiltration_5_12/blue, do_fit = False, filtration = RadialFiltration(center=array([ 5, 12]), n_jobs=-1)\n",
      "Got the result from ./19/train/filtrations/4/RadialFiltration_5_12/blue/features.npy\n",
      "Fitting filtration 39/116: 4/RadialFiltration_5_19\n",
      "RGB images received. Transforming to grayscale.\n"
     ]
    },
    {
     "name": "stderr",
     "output_type": "stream",
     "text": [
      "rgb2gray: 100%|██████████| 50000/50000 [00:03<00:00, 13002.19it/s]\n"
     ]
    },
    {
     "name": "stdout",
     "output_type": "stream",
     "text": [
      "FiltrationExtractor: processing 19/train/filtrations/4/RadialFiltration_5_19/gray, do_fit = True, filtration = RadialFiltration(center=array([ 5, 19]), n_jobs=-1)\n",
      "Saving the result to ./19/train/filtrations/4/RadialFiltration_5_19/gray/diagrams.npy\n",
      "DiagramVectorizer: fitting complete\n"
     ]
    },
    {
     "name": "stderr",
     "output_type": "stream",
     "text": [
      "DiagramVectorizer: batch: 100%|██████████| 98/98 [00:20<00:00,  4.88it/s]\n"
     ]
    },
    {
     "name": "stdout",
     "output_type": "stream",
     "text": [
      "Saving the result to ./19/train/filtrations/4/RadialFiltration_5_19/gray/features.npy\n",
      "FiltrationExtractor: processing 19/train/filtrations/4/RadialFiltration_5_19/gray, do_fit = False, filtration = RadialFiltration(center=array([ 5, 19]), n_jobs=-1)\n",
      "Got the result from ./19/train/filtrations/4/RadialFiltration_5_19/gray/features.npy\n",
      "FiltrationExtractor: processing 19/train/filtrations/4/RadialFiltration_5_19/red, do_fit = True, filtration = RadialFiltration(center=array([ 5, 19]), n_jobs=-1)\n",
      "Saving the result to ./19/train/filtrations/4/RadialFiltration_5_19/red/diagrams.npy\n",
      "DiagramVectorizer: fitting complete\n"
     ]
    },
    {
     "name": "stderr",
     "output_type": "stream",
     "text": [
      "DiagramVectorizer: batch: 100%|██████████| 98/98 [00:19<00:00,  4.92it/s]\n"
     ]
    },
    {
     "name": "stdout",
     "output_type": "stream",
     "text": [
      "Saving the result to ./19/train/filtrations/4/RadialFiltration_5_19/red/features.npy\n",
      "FiltrationExtractor: processing 19/train/filtrations/4/RadialFiltration_5_19/red, do_fit = False, filtration = RadialFiltration(center=array([ 5, 19]), n_jobs=-1)\n",
      "Got the result from ./19/train/filtrations/4/RadialFiltration_5_19/red/features.npy\n",
      "FiltrationExtractor: processing 19/train/filtrations/4/RadialFiltration_5_19/green, do_fit = True, filtration = RadialFiltration(center=array([ 5, 19]), n_jobs=-1)\n",
      "Saving the result to ./19/train/filtrations/4/RadialFiltration_5_19/green/diagrams.npy\n",
      "DiagramVectorizer: fitting complete\n"
     ]
    },
    {
     "name": "stderr",
     "output_type": "stream",
     "text": [
      "DiagramVectorizer: batch: 100%|██████████| 98/98 [00:20<00:00,  4.83it/s]\n"
     ]
    },
    {
     "name": "stdout",
     "output_type": "stream",
     "text": [
      "Saving the result to ./19/train/filtrations/4/RadialFiltration_5_19/green/features.npy\n",
      "FiltrationExtractor: processing 19/train/filtrations/4/RadialFiltration_5_19/green, do_fit = False, filtration = RadialFiltration(center=array([ 5, 19]), n_jobs=-1)\n",
      "Got the result from ./19/train/filtrations/4/RadialFiltration_5_19/green/features.npy\n",
      "FiltrationExtractor: processing 19/train/filtrations/4/RadialFiltration_5_19/blue, do_fit = True, filtration = RadialFiltration(center=array([ 5, 19]), n_jobs=-1)\n",
      "Saving the result to ./19/train/filtrations/4/RadialFiltration_5_19/blue/diagrams.npy\n",
      "DiagramVectorizer: fitting complete\n"
     ]
    },
    {
     "name": "stderr",
     "output_type": "stream",
     "text": [
      "DiagramVectorizer: batch: 100%|██████████| 98/98 [00:20<00:00,  4.88it/s]\n"
     ]
    },
    {
     "name": "stdout",
     "output_type": "stream",
     "text": [
      "Saving the result to ./19/train/filtrations/4/RadialFiltration_5_19/blue/features.npy\n",
      "FiltrationExtractor: processing 19/train/filtrations/4/RadialFiltration_5_19/blue, do_fit = False, filtration = RadialFiltration(center=array([ 5, 19]), n_jobs=-1)\n",
      "Got the result from ./19/train/filtrations/4/RadialFiltration_5_19/blue/features.npy\n",
      "Fitting filtration 40/116: 4/RadialFiltration_5_26\n",
      "RGB images received. Transforming to grayscale.\n"
     ]
    },
    {
     "name": "stderr",
     "output_type": "stream",
     "text": [
      "rgb2gray: 100%|██████████| 50000/50000 [00:03<00:00, 13558.21it/s]\n"
     ]
    },
    {
     "name": "stdout",
     "output_type": "stream",
     "text": [
      "FiltrationExtractor: processing 19/train/filtrations/4/RadialFiltration_5_26/gray, do_fit = True, filtration = RadialFiltration(center=array([ 5, 26]), n_jobs=-1)\n",
      "Saving the result to ./19/train/filtrations/4/RadialFiltration_5_26/gray/diagrams.npy\n",
      "DiagramVectorizer: fitting complete\n"
     ]
    },
    {
     "name": "stderr",
     "output_type": "stream",
     "text": [
      "DiagramVectorizer: batch: 100%|██████████| 98/98 [00:20<00:00,  4.81it/s]\n"
     ]
    },
    {
     "name": "stdout",
     "output_type": "stream",
     "text": [
      "Saving the result to ./19/train/filtrations/4/RadialFiltration_5_26/gray/features.npy\n",
      "FiltrationExtractor: processing 19/train/filtrations/4/RadialFiltration_5_26/gray, do_fit = False, filtration = RadialFiltration(center=array([ 5, 26]), n_jobs=-1)\n",
      "Got the result from ./19/train/filtrations/4/RadialFiltration_5_26/gray/features.npy\n",
      "FiltrationExtractor: processing 19/train/filtrations/4/RadialFiltration_5_26/red, do_fit = True, filtration = RadialFiltration(center=array([ 5, 26]), n_jobs=-1)\n",
      "Saving the result to ./19/train/filtrations/4/RadialFiltration_5_26/red/diagrams.npy\n",
      "DiagramVectorizer: fitting complete\n"
     ]
    },
    {
     "name": "stderr",
     "output_type": "stream",
     "text": [
      "DiagramVectorizer: batch: 100%|██████████| 98/98 [00:20<00:00,  4.74it/s]\n"
     ]
    },
    {
     "name": "stdout",
     "output_type": "stream",
     "text": [
      "Saving the result to ./19/train/filtrations/4/RadialFiltration_5_26/red/features.npy\n",
      "FiltrationExtractor: processing 19/train/filtrations/4/RadialFiltration_5_26/red, do_fit = False, filtration = RadialFiltration(center=array([ 5, 26]), n_jobs=-1)\n",
      "Got the result from ./19/train/filtrations/4/RadialFiltration_5_26/red/features.npy\n",
      "FiltrationExtractor: processing 19/train/filtrations/4/RadialFiltration_5_26/green, do_fit = True, filtration = RadialFiltration(center=array([ 5, 26]), n_jobs=-1)\n",
      "Saving the result to ./19/train/filtrations/4/RadialFiltration_5_26/green/diagrams.npy\n",
      "DiagramVectorizer: fitting complete\n"
     ]
    },
    {
     "name": "stderr",
     "output_type": "stream",
     "text": [
      "DiagramVectorizer: batch: 100%|██████████| 98/98 [00:22<00:00,  4.43it/s]\n"
     ]
    },
    {
     "name": "stdout",
     "output_type": "stream",
     "text": [
      "Saving the result to ./19/train/filtrations/4/RadialFiltration_5_26/green/features.npy\n",
      "FiltrationExtractor: processing 19/train/filtrations/4/RadialFiltration_5_26/green, do_fit = False, filtration = RadialFiltration(center=array([ 5, 26]), n_jobs=-1)\n",
      "Got the result from ./19/train/filtrations/4/RadialFiltration_5_26/green/features.npy\n",
      "FiltrationExtractor: processing 19/train/filtrations/4/RadialFiltration_5_26/blue, do_fit = True, filtration = RadialFiltration(center=array([ 5, 26]), n_jobs=-1)\n",
      "Saving the result to ./19/train/filtrations/4/RadialFiltration_5_26/blue/diagrams.npy\n",
      "DiagramVectorizer: fitting complete\n"
     ]
    },
    {
     "name": "stderr",
     "output_type": "stream",
     "text": [
      "DiagramVectorizer: batch: 100%|██████████| 98/98 [00:21<00:00,  4.59it/s]\n"
     ]
    },
    {
     "name": "stdout",
     "output_type": "stream",
     "text": [
      "Saving the result to ./19/train/filtrations/4/RadialFiltration_5_26/blue/features.npy\n",
      "FiltrationExtractor: processing 19/train/filtrations/4/RadialFiltration_5_26/blue, do_fit = False, filtration = RadialFiltration(center=array([ 5, 26]), n_jobs=-1)\n",
      "Got the result from ./19/train/filtrations/4/RadialFiltration_5_26/blue/features.npy\n",
      "Fitting filtration 41/116: 4/RadialFiltration_12_5\n",
      "RGB images received. Transforming to grayscale.\n"
     ]
    },
    {
     "name": "stderr",
     "output_type": "stream",
     "text": [
      "rgb2gray: 100%|██████████| 50000/50000 [00:04<00:00, 12448.21it/s]\n"
     ]
    },
    {
     "name": "stdout",
     "output_type": "stream",
     "text": [
      "FiltrationExtractor: processing 19/train/filtrations/4/RadialFiltration_12_5/gray, do_fit = True, filtration = RadialFiltration(center=array([12,  5]), n_jobs=-1)\n",
      "Saving the result to ./19/train/filtrations/4/RadialFiltration_12_5/gray/diagrams.npy\n",
      "DiagramVectorizer: fitting complete\n"
     ]
    },
    {
     "name": "stderr",
     "output_type": "stream",
     "text": [
      "DiagramVectorizer: batch: 100%|██████████| 98/98 [00:21<00:00,  4.64it/s]\n"
     ]
    },
    {
     "name": "stdout",
     "output_type": "stream",
     "text": [
      "Saving the result to ./19/train/filtrations/4/RadialFiltration_12_5/gray/features.npy\n",
      "FiltrationExtractor: processing 19/train/filtrations/4/RadialFiltration_12_5/gray, do_fit = False, filtration = RadialFiltration(center=array([12,  5]), n_jobs=-1)\n",
      "Got the result from ./19/train/filtrations/4/RadialFiltration_12_5/gray/features.npy\n",
      "FiltrationExtractor: processing 19/train/filtrations/4/RadialFiltration_12_5/red, do_fit = True, filtration = RadialFiltration(center=array([12,  5]), n_jobs=-1)\n",
      "Saving the result to ./19/train/filtrations/4/RadialFiltration_12_5/red/diagrams.npy\n",
      "DiagramVectorizer: fitting complete\n"
     ]
    },
    {
     "name": "stderr",
     "output_type": "stream",
     "text": [
      "DiagramVectorizer: batch: 100%|██████████| 98/98 [00:21<00:00,  4.65it/s]\n"
     ]
    },
    {
     "name": "stdout",
     "output_type": "stream",
     "text": [
      "Saving the result to ./19/train/filtrations/4/RadialFiltration_12_5/red/features.npy\n",
      "FiltrationExtractor: processing 19/train/filtrations/4/RadialFiltration_12_5/red, do_fit = False, filtration = RadialFiltration(center=array([12,  5]), n_jobs=-1)\n",
      "Got the result from ./19/train/filtrations/4/RadialFiltration_12_5/red/features.npy\n",
      "FiltrationExtractor: processing 19/train/filtrations/4/RadialFiltration_12_5/green, do_fit = True, filtration = RadialFiltration(center=array([12,  5]), n_jobs=-1)\n",
      "Saving the result to ./19/train/filtrations/4/RadialFiltration_12_5/green/diagrams.npy\n",
      "DiagramVectorizer: fitting complete\n"
     ]
    },
    {
     "name": "stderr",
     "output_type": "stream",
     "text": [
      "DiagramVectorizer: batch: 100%|██████████| 98/98 [00:21<00:00,  4.64it/s]\n"
     ]
    },
    {
     "name": "stdout",
     "output_type": "stream",
     "text": [
      "Saving the result to ./19/train/filtrations/4/RadialFiltration_12_5/green/features.npy\n",
      "FiltrationExtractor: processing 19/train/filtrations/4/RadialFiltration_12_5/green, do_fit = False, filtration = RadialFiltration(center=array([12,  5]), n_jobs=-1)\n",
      "Got the result from ./19/train/filtrations/4/RadialFiltration_12_5/green/features.npy\n",
      "FiltrationExtractor: processing 19/train/filtrations/4/RadialFiltration_12_5/blue, do_fit = True, filtration = RadialFiltration(center=array([12,  5]), n_jobs=-1)\n",
      "Saving the result to ./19/train/filtrations/4/RadialFiltration_12_5/blue/diagrams.npy\n",
      "DiagramVectorizer: fitting complete\n"
     ]
    },
    {
     "name": "stderr",
     "output_type": "stream",
     "text": [
      "DiagramVectorizer: batch: 100%|██████████| 98/98 [00:22<00:00,  4.44it/s]\n"
     ]
    },
    {
     "name": "stdout",
     "output_type": "stream",
     "text": [
      "Saving the result to ./19/train/filtrations/4/RadialFiltration_12_5/blue/features.npy\n",
      "FiltrationExtractor: processing 19/train/filtrations/4/RadialFiltration_12_5/blue, do_fit = False, filtration = RadialFiltration(center=array([12,  5]), n_jobs=-1)\n",
      "Got the result from ./19/train/filtrations/4/RadialFiltration_12_5/blue/features.npy\n",
      "Fitting filtration 42/116: 4/RadialFiltration_12_12\n",
      "RGB images received. Transforming to grayscale.\n"
     ]
    },
    {
     "name": "stderr",
     "output_type": "stream",
     "text": [
      "rgb2gray: 100%|██████████| 50000/50000 [00:04<00:00, 11932.75it/s]\n"
     ]
    },
    {
     "name": "stdout",
     "output_type": "stream",
     "text": [
      "FiltrationExtractor: processing 19/train/filtrations/4/RadialFiltration_12_12/gray, do_fit = True, filtration = RadialFiltration(center=array([12, 12]), n_jobs=-1)\n",
      "Saving the result to ./19/train/filtrations/4/RadialFiltration_12_12/gray/diagrams.npy\n",
      "DiagramVectorizer: fitting complete\n"
     ]
    },
    {
     "name": "stderr",
     "output_type": "stream",
     "text": [
      "DiagramVectorizer: batch: 100%|██████████| 98/98 [00:21<00:00,  4.46it/s]\n"
     ]
    },
    {
     "name": "stdout",
     "output_type": "stream",
     "text": [
      "Saving the result to ./19/train/filtrations/4/RadialFiltration_12_12/gray/features.npy\n",
      "FiltrationExtractor: processing 19/train/filtrations/4/RadialFiltration_12_12/gray, do_fit = False, filtration = RadialFiltration(center=array([12, 12]), n_jobs=-1)\n",
      "Got the result from ./19/train/filtrations/4/RadialFiltration_12_12/gray/features.npy\n",
      "FiltrationExtractor: processing 19/train/filtrations/4/RadialFiltration_12_12/red, do_fit = True, filtration = RadialFiltration(center=array([12, 12]), n_jobs=-1)\n",
      "Saving the result to ./19/train/filtrations/4/RadialFiltration_12_12/red/diagrams.npy\n",
      "DiagramVectorizer: fitting complete\n"
     ]
    },
    {
     "name": "stderr",
     "output_type": "stream",
     "text": [
      "DiagramVectorizer: batch: 100%|██████████| 98/98 [00:21<00:00,  4.55it/s]\n"
     ]
    },
    {
     "name": "stdout",
     "output_type": "stream",
     "text": [
      "Saving the result to ./19/train/filtrations/4/RadialFiltration_12_12/red/features.npy\n",
      "FiltrationExtractor: processing 19/train/filtrations/4/RadialFiltration_12_12/red, do_fit = False, filtration = RadialFiltration(center=array([12, 12]), n_jobs=-1)\n",
      "Got the result from ./19/train/filtrations/4/RadialFiltration_12_12/red/features.npy\n",
      "FiltrationExtractor: processing 19/train/filtrations/4/RadialFiltration_12_12/green, do_fit = True, filtration = RadialFiltration(center=array([12, 12]), n_jobs=-1)\n",
      "Saving the result to ./19/train/filtrations/4/RadialFiltration_12_12/green/diagrams.npy\n",
      "DiagramVectorizer: fitting complete\n"
     ]
    },
    {
     "name": "stderr",
     "output_type": "stream",
     "text": [
      "DiagramVectorizer: batch: 100%|██████████| 98/98 [00:21<00:00,  4.54it/s]\n"
     ]
    },
    {
     "name": "stdout",
     "output_type": "stream",
     "text": [
      "Saving the result to ./19/train/filtrations/4/RadialFiltration_12_12/green/features.npy\n",
      "FiltrationExtractor: processing 19/train/filtrations/4/RadialFiltration_12_12/green, do_fit = False, filtration = RadialFiltration(center=array([12, 12]), n_jobs=-1)\n",
      "Got the result from ./19/train/filtrations/4/RadialFiltration_12_12/green/features.npy\n",
      "FiltrationExtractor: processing 19/train/filtrations/4/RadialFiltration_12_12/blue, do_fit = True, filtration = RadialFiltration(center=array([12, 12]), n_jobs=-1)\n",
      "Saving the result to ./19/train/filtrations/4/RadialFiltration_12_12/blue/diagrams.npy\n",
      "DiagramVectorizer: fitting complete\n"
     ]
    },
    {
     "name": "stderr",
     "output_type": "stream",
     "text": [
      "DiagramVectorizer: batch: 100%|██████████| 98/98 [00:22<00:00,  4.38it/s]\n"
     ]
    },
    {
     "name": "stdout",
     "output_type": "stream",
     "text": [
      "Saving the result to ./19/train/filtrations/4/RadialFiltration_12_12/blue/features.npy\n",
      "FiltrationExtractor: processing 19/train/filtrations/4/RadialFiltration_12_12/blue, do_fit = False, filtration = RadialFiltration(center=array([12, 12]), n_jobs=-1)\n",
      "Got the result from ./19/train/filtrations/4/RadialFiltration_12_12/blue/features.npy\n",
      "Fitting filtration 43/116: 4/RadialFiltration_12_19\n",
      "RGB images received. Transforming to grayscale.\n"
     ]
    },
    {
     "name": "stderr",
     "output_type": "stream",
     "text": [
      "rgb2gray: 100%|██████████| 50000/50000 [00:04<00:00, 12271.41it/s]\n"
     ]
    },
    {
     "name": "stdout",
     "output_type": "stream",
     "text": [
      "FiltrationExtractor: processing 19/train/filtrations/4/RadialFiltration_12_19/gray, do_fit = True, filtration = RadialFiltration(center=array([12, 19]), n_jobs=-1)\n",
      "Saving the result to ./19/train/filtrations/4/RadialFiltration_12_19/gray/diagrams.npy\n",
      "DiagramVectorizer: fitting complete\n"
     ]
    },
    {
     "name": "stderr",
     "output_type": "stream",
     "text": [
      "DiagramVectorizer: batch: 100%|██████████| 98/98 [00:21<00:00,  4.57it/s]\n"
     ]
    },
    {
     "name": "stdout",
     "output_type": "stream",
     "text": [
      "Saving the result to ./19/train/filtrations/4/RadialFiltration_12_19/gray/features.npy\n",
      "FiltrationExtractor: processing 19/train/filtrations/4/RadialFiltration_12_19/gray, do_fit = False, filtration = RadialFiltration(center=array([12, 19]), n_jobs=-1)\n",
      "Got the result from ./19/train/filtrations/4/RadialFiltration_12_19/gray/features.npy\n",
      "FiltrationExtractor: processing 19/train/filtrations/4/RadialFiltration_12_19/red, do_fit = True, filtration = RadialFiltration(center=array([12, 19]), n_jobs=-1)\n",
      "Saving the result to ./19/train/filtrations/4/RadialFiltration_12_19/red/diagrams.npy\n",
      "DiagramVectorizer: fitting complete\n"
     ]
    },
    {
     "name": "stderr",
     "output_type": "stream",
     "text": [
      "DiagramVectorizer: batch: 100%|██████████| 98/98 [00:22<00:00,  4.38it/s]\n"
     ]
    },
    {
     "name": "stdout",
     "output_type": "stream",
     "text": [
      "Saving the result to ./19/train/filtrations/4/RadialFiltration_12_19/red/features.npy\n",
      "FiltrationExtractor: processing 19/train/filtrations/4/RadialFiltration_12_19/red, do_fit = False, filtration = RadialFiltration(center=array([12, 19]), n_jobs=-1)\n",
      "Got the result from ./19/train/filtrations/4/RadialFiltration_12_19/red/features.npy\n",
      "FiltrationExtractor: processing 19/train/filtrations/4/RadialFiltration_12_19/green, do_fit = True, filtration = RadialFiltration(center=array([12, 19]), n_jobs=-1)\n",
      "Saving the result to ./19/train/filtrations/4/RadialFiltration_12_19/green/diagrams.npy\n",
      "DiagramVectorizer: fitting complete\n"
     ]
    },
    {
     "name": "stderr",
     "output_type": "stream",
     "text": [
      "DiagramVectorizer: batch: 100%|██████████| 98/98 [00:21<00:00,  4.57it/s]\n"
     ]
    },
    {
     "name": "stdout",
     "output_type": "stream",
     "text": [
      "Saving the result to ./19/train/filtrations/4/RadialFiltration_12_19/green/features.npy\n",
      "FiltrationExtractor: processing 19/train/filtrations/4/RadialFiltration_12_19/green, do_fit = False, filtration = RadialFiltration(center=array([12, 19]), n_jobs=-1)\n",
      "Got the result from ./19/train/filtrations/4/RadialFiltration_12_19/green/features.npy\n",
      "FiltrationExtractor: processing 19/train/filtrations/4/RadialFiltration_12_19/blue, do_fit = True, filtration = RadialFiltration(center=array([12, 19]), n_jobs=-1)\n",
      "Saving the result to ./19/train/filtrations/4/RadialFiltration_12_19/blue/diagrams.npy\n",
      "DiagramVectorizer: fitting complete\n"
     ]
    },
    {
     "name": "stderr",
     "output_type": "stream",
     "text": [
      "DiagramVectorizer: batch: 100%|██████████| 98/98 [00:22<00:00,  4.44it/s]\n"
     ]
    },
    {
     "name": "stdout",
     "output_type": "stream",
     "text": [
      "Saving the result to ./19/train/filtrations/4/RadialFiltration_12_19/blue/features.npy\n",
      "FiltrationExtractor: processing 19/train/filtrations/4/RadialFiltration_12_19/blue, do_fit = False, filtration = RadialFiltration(center=array([12, 19]), n_jobs=-1)\n",
      "Got the result from ./19/train/filtrations/4/RadialFiltration_12_19/blue/features.npy\n",
      "Fitting filtration 44/116: 4/RadialFiltration_12_26\n",
      "RGB images received. Transforming to grayscale.\n"
     ]
    },
    {
     "name": "stderr",
     "output_type": "stream",
     "text": [
      "rgb2gray: 100%|██████████| 50000/50000 [00:03<00:00, 12702.68it/s]\n"
     ]
    },
    {
     "name": "stdout",
     "output_type": "stream",
     "text": [
      "FiltrationExtractor: processing 19/train/filtrations/4/RadialFiltration_12_26/gray, do_fit = True, filtration = RadialFiltration(center=array([12, 26]), n_jobs=-1)\n",
      "Saving the result to ./19/train/filtrations/4/RadialFiltration_12_26/gray/diagrams.npy\n",
      "DiagramVectorizer: fitting complete\n"
     ]
    },
    {
     "name": "stderr",
     "output_type": "stream",
     "text": [
      "DiagramVectorizer: batch: 100%|██████████| 98/98 [00:21<00:00,  4.48it/s]\n"
     ]
    },
    {
     "name": "stdout",
     "output_type": "stream",
     "text": [
      "Saving the result to ./19/train/filtrations/4/RadialFiltration_12_26/gray/features.npy\n",
      "FiltrationExtractor: processing 19/train/filtrations/4/RadialFiltration_12_26/gray, do_fit = False, filtration = RadialFiltration(center=array([12, 26]), n_jobs=-1)\n",
      "Got the result from ./19/train/filtrations/4/RadialFiltration_12_26/gray/features.npy\n",
      "FiltrationExtractor: processing 19/train/filtrations/4/RadialFiltration_12_26/red, do_fit = True, filtration = RadialFiltration(center=array([12, 26]), n_jobs=-1)\n",
      "Saving the result to ./19/train/filtrations/4/RadialFiltration_12_26/red/diagrams.npy\n",
      "DiagramVectorizer: fitting complete\n"
     ]
    },
    {
     "name": "stderr",
     "output_type": "stream",
     "text": [
      "DiagramVectorizer: batch: 100%|██████████| 98/98 [00:22<00:00,  4.43it/s]\n"
     ]
    },
    {
     "name": "stdout",
     "output_type": "stream",
     "text": [
      "Saving the result to ./19/train/filtrations/4/RadialFiltration_12_26/red/features.npy\n",
      "FiltrationExtractor: processing 19/train/filtrations/4/RadialFiltration_12_26/red, do_fit = False, filtration = RadialFiltration(center=array([12, 26]), n_jobs=-1)\n",
      "Got the result from ./19/train/filtrations/4/RadialFiltration_12_26/red/features.npy\n",
      "FiltrationExtractor: processing 19/train/filtrations/4/RadialFiltration_12_26/green, do_fit = True, filtration = RadialFiltration(center=array([12, 26]), n_jobs=-1)\n",
      "Saving the result to ./19/train/filtrations/4/RadialFiltration_12_26/green/diagrams.npy\n",
      "DiagramVectorizer: fitting complete\n"
     ]
    },
    {
     "name": "stderr",
     "output_type": "stream",
     "text": [
      "DiagramVectorizer: batch: 100%|██████████| 98/98 [00:21<00:00,  4.46it/s]\n"
     ]
    },
    {
     "name": "stdout",
     "output_type": "stream",
     "text": [
      "Saving the result to ./19/train/filtrations/4/RadialFiltration_12_26/green/features.npy\n",
      "FiltrationExtractor: processing 19/train/filtrations/4/RadialFiltration_12_26/green, do_fit = False, filtration = RadialFiltration(center=array([12, 26]), n_jobs=-1)\n",
      "Got the result from ./19/train/filtrations/4/RadialFiltration_12_26/green/features.npy\n",
      "FiltrationExtractor: processing 19/train/filtrations/4/RadialFiltration_12_26/blue, do_fit = True, filtration = RadialFiltration(center=array([12, 26]), n_jobs=-1)\n",
      "Saving the result to ./19/train/filtrations/4/RadialFiltration_12_26/blue/diagrams.npy\n",
      "DiagramVectorizer: fitting complete\n"
     ]
    },
    {
     "name": "stderr",
     "output_type": "stream",
     "text": [
      "DiagramVectorizer: batch: 100%|██████████| 98/98 [00:22<00:00,  4.40it/s]\n"
     ]
    },
    {
     "name": "stdout",
     "output_type": "stream",
     "text": [
      "Saving the result to ./19/train/filtrations/4/RadialFiltration_12_26/blue/features.npy\n",
      "FiltrationExtractor: processing 19/train/filtrations/4/RadialFiltration_12_26/blue, do_fit = False, filtration = RadialFiltration(center=array([12, 26]), n_jobs=-1)\n",
      "Got the result from ./19/train/filtrations/4/RadialFiltration_12_26/blue/features.npy\n",
      "Fitting filtration 45/116: 4/RadialFiltration_19_5\n",
      "RGB images received. Transforming to grayscale.\n"
     ]
    },
    {
     "name": "stderr",
     "output_type": "stream",
     "text": [
      "rgb2gray: 100%|██████████| 50000/50000 [00:04<00:00, 12144.77it/s]\n"
     ]
    },
    {
     "name": "stdout",
     "output_type": "stream",
     "text": [
      "FiltrationExtractor: processing 19/train/filtrations/4/RadialFiltration_19_5/gray, do_fit = True, filtration = RadialFiltration(center=array([19,  5]), n_jobs=-1)\n",
      "Saving the result to ./19/train/filtrations/4/RadialFiltration_19_5/gray/diagrams.npy\n",
      "DiagramVectorizer: fitting complete\n"
     ]
    },
    {
     "name": "stderr",
     "output_type": "stream",
     "text": [
      "DiagramVectorizer: batch: 100%|██████████| 98/98 [00:21<00:00,  4.55it/s]\n"
     ]
    },
    {
     "name": "stdout",
     "output_type": "stream",
     "text": [
      "Saving the result to ./19/train/filtrations/4/RadialFiltration_19_5/gray/features.npy\n",
      "FiltrationExtractor: processing 19/train/filtrations/4/RadialFiltration_19_5/gray, do_fit = False, filtration = RadialFiltration(center=array([19,  5]), n_jobs=-1)\n",
      "Got the result from ./19/train/filtrations/4/RadialFiltration_19_5/gray/features.npy\n",
      "FiltrationExtractor: processing 19/train/filtrations/4/RadialFiltration_19_5/red, do_fit = True, filtration = RadialFiltration(center=array([19,  5]), n_jobs=-1)\n",
      "Saving the result to ./19/train/filtrations/4/RadialFiltration_19_5/red/diagrams.npy\n",
      "DiagramVectorizer: fitting complete\n"
     ]
    },
    {
     "name": "stderr",
     "output_type": "stream",
     "text": [
      "DiagramVectorizer: batch: 100%|██████████| 98/98 [00:21<00:00,  4.66it/s]\n"
     ]
    },
    {
     "name": "stdout",
     "output_type": "stream",
     "text": [
      "Saving the result to ./19/train/filtrations/4/RadialFiltration_19_5/red/features.npy\n",
      "FiltrationExtractor: processing 19/train/filtrations/4/RadialFiltration_19_5/red, do_fit = False, filtration = RadialFiltration(center=array([19,  5]), n_jobs=-1)\n",
      "Got the result from ./19/train/filtrations/4/RadialFiltration_19_5/red/features.npy\n",
      "FiltrationExtractor: processing 19/train/filtrations/4/RadialFiltration_19_5/green, do_fit = True, filtration = RadialFiltration(center=array([19,  5]), n_jobs=-1)\n",
      "Saving the result to ./19/train/filtrations/4/RadialFiltration_19_5/green/diagrams.npy\n",
      "DiagramVectorizer: fitting complete\n"
     ]
    },
    {
     "name": "stderr",
     "output_type": "stream",
     "text": [
      "DiagramVectorizer: batch: 100%|██████████| 98/98 [00:21<00:00,  4.66it/s]\n"
     ]
    },
    {
     "name": "stdout",
     "output_type": "stream",
     "text": [
      "Saving the result to ./19/train/filtrations/4/RadialFiltration_19_5/green/features.npy\n",
      "FiltrationExtractor: processing 19/train/filtrations/4/RadialFiltration_19_5/green, do_fit = False, filtration = RadialFiltration(center=array([19,  5]), n_jobs=-1)\n",
      "Got the result from ./19/train/filtrations/4/RadialFiltration_19_5/green/features.npy\n",
      "FiltrationExtractor: processing 19/train/filtrations/4/RadialFiltration_19_5/blue, do_fit = True, filtration = RadialFiltration(center=array([19,  5]), n_jobs=-1)\n",
      "Saving the result to ./19/train/filtrations/4/RadialFiltration_19_5/blue/diagrams.npy\n",
      "DiagramVectorizer: fitting complete\n"
     ]
    },
    {
     "name": "stderr",
     "output_type": "stream",
     "text": [
      "DiagramVectorizer: batch: 100%|██████████| 98/98 [00:22<00:00,  4.35it/s]\n"
     ]
    },
    {
     "name": "stdout",
     "output_type": "stream",
     "text": [
      "Saving the result to ./19/train/filtrations/4/RadialFiltration_19_5/blue/features.npy\n",
      "FiltrationExtractor: processing 19/train/filtrations/4/RadialFiltration_19_5/blue, do_fit = False, filtration = RadialFiltration(center=array([19,  5]), n_jobs=-1)\n",
      "Got the result from ./19/train/filtrations/4/RadialFiltration_19_5/blue/features.npy\n",
      "Fitting filtration 46/116: 4/RadialFiltration_19_12\n",
      "RGB images received. Transforming to grayscale.\n"
     ]
    },
    {
     "name": "stderr",
     "output_type": "stream",
     "text": [
      "rgb2gray: 100%|██████████| 50000/50000 [00:04<00:00, 11253.75it/s]\n"
     ]
    },
    {
     "name": "stdout",
     "output_type": "stream",
     "text": [
      "FiltrationExtractor: processing 19/train/filtrations/4/RadialFiltration_19_12/gray, do_fit = True, filtration = RadialFiltration(center=array([19, 12]), n_jobs=-1)\n",
      "Saving the result to ./19/train/filtrations/4/RadialFiltration_19_12/gray/diagrams.npy\n",
      "DiagramVectorizer: fitting complete\n"
     ]
    },
    {
     "name": "stderr",
     "output_type": "stream",
     "text": [
      "DiagramVectorizer: batch: 100%|██████████| 98/98 [00:22<00:00,  4.36it/s]\n"
     ]
    },
    {
     "name": "stdout",
     "output_type": "stream",
     "text": [
      "Saving the result to ./19/train/filtrations/4/RadialFiltration_19_12/gray/features.npy\n",
      "FiltrationExtractor: processing 19/train/filtrations/4/RadialFiltration_19_12/gray, do_fit = False, filtration = RadialFiltration(center=array([19, 12]), n_jobs=-1)\n",
      "Got the result from ./19/train/filtrations/4/RadialFiltration_19_12/gray/features.npy\n",
      "FiltrationExtractor: processing 19/train/filtrations/4/RadialFiltration_19_12/red, do_fit = True, filtration = RadialFiltration(center=array([19, 12]), n_jobs=-1)\n",
      "Saving the result to ./19/train/filtrations/4/RadialFiltration_19_12/red/diagrams.npy\n",
      "DiagramVectorizer: fitting complete\n"
     ]
    },
    {
     "name": "stderr",
     "output_type": "stream",
     "text": [
      "DiagramVectorizer: batch: 100%|██████████| 98/98 [00:21<00:00,  4.59it/s]\n"
     ]
    },
    {
     "name": "stdout",
     "output_type": "stream",
     "text": [
      "Saving the result to ./19/train/filtrations/4/RadialFiltration_19_12/red/features.npy\n",
      "FiltrationExtractor: processing 19/train/filtrations/4/RadialFiltration_19_12/red, do_fit = False, filtration = RadialFiltration(center=array([19, 12]), n_jobs=-1)\n",
      "Got the result from ./19/train/filtrations/4/RadialFiltration_19_12/red/features.npy\n",
      "FiltrationExtractor: processing 19/train/filtrations/4/RadialFiltration_19_12/green, do_fit = True, filtration = RadialFiltration(center=array([19, 12]), n_jobs=-1)\n",
      "Saving the result to ./19/train/filtrations/4/RadialFiltration_19_12/green/diagrams.npy\n",
      "DiagramVectorizer: fitting complete\n"
     ]
    },
    {
     "name": "stderr",
     "output_type": "stream",
     "text": [
      "DiagramVectorizer: batch: 100%|██████████| 98/98 [00:22<00:00,  4.40it/s]\n"
     ]
    },
    {
     "name": "stdout",
     "output_type": "stream",
     "text": [
      "Saving the result to ./19/train/filtrations/4/RadialFiltration_19_12/green/features.npy\n",
      "FiltrationExtractor: processing 19/train/filtrations/4/RadialFiltration_19_12/green, do_fit = False, filtration = RadialFiltration(center=array([19, 12]), n_jobs=-1)\n",
      "Got the result from ./19/train/filtrations/4/RadialFiltration_19_12/green/features.npy\n",
      "FiltrationExtractor: processing 19/train/filtrations/4/RadialFiltration_19_12/blue, do_fit = True, filtration = RadialFiltration(center=array([19, 12]), n_jobs=-1)\n",
      "Saving the result to ./19/train/filtrations/4/RadialFiltration_19_12/blue/diagrams.npy\n",
      "DiagramVectorizer: fitting complete\n"
     ]
    },
    {
     "name": "stderr",
     "output_type": "stream",
     "text": [
      "DiagramVectorizer: batch: 100%|██████████| 98/98 [00:22<00:00,  4.27it/s]\n"
     ]
    },
    {
     "name": "stdout",
     "output_type": "stream",
     "text": [
      "Saving the result to ./19/train/filtrations/4/RadialFiltration_19_12/blue/features.npy\n",
      "FiltrationExtractor: processing 19/train/filtrations/4/RadialFiltration_19_12/blue, do_fit = False, filtration = RadialFiltration(center=array([19, 12]), n_jobs=-1)\n",
      "Got the result from ./19/train/filtrations/4/RadialFiltration_19_12/blue/features.npy\n",
      "Fitting filtration 47/116: 4/RadialFiltration_19_19\n",
      "RGB images received. Transforming to grayscale.\n"
     ]
    },
    {
     "name": "stderr",
     "output_type": "stream",
     "text": [
      "rgb2gray: 100%|██████████| 50000/50000 [00:04<00:00, 12336.92it/s]\n"
     ]
    },
    {
     "name": "stdout",
     "output_type": "stream",
     "text": [
      "FiltrationExtractor: processing 19/train/filtrations/4/RadialFiltration_19_19/gray, do_fit = True, filtration = RadialFiltration(center=array([19, 19]), n_jobs=-1)\n",
      "Saving the result to ./19/train/filtrations/4/RadialFiltration_19_19/gray/diagrams.npy\n",
      "DiagramVectorizer: fitting complete\n"
     ]
    },
    {
     "name": "stderr",
     "output_type": "stream",
     "text": [
      "DiagramVectorizer: batch: 100%|██████████| 98/98 [00:22<00:00,  4.34it/s]\n"
     ]
    },
    {
     "name": "stdout",
     "output_type": "stream",
     "text": [
      "Saving the result to ./19/train/filtrations/4/RadialFiltration_19_19/gray/features.npy\n",
      "FiltrationExtractor: processing 19/train/filtrations/4/RadialFiltration_19_19/gray, do_fit = False, filtration = RadialFiltration(center=array([19, 19]), n_jobs=-1)\n",
      "Got the result from ./19/train/filtrations/4/RadialFiltration_19_19/gray/features.npy\n",
      "FiltrationExtractor: processing 19/train/filtrations/4/RadialFiltration_19_19/red, do_fit = True, filtration = RadialFiltration(center=array([19, 19]), n_jobs=-1)\n",
      "Saving the result to ./19/train/filtrations/4/RadialFiltration_19_19/red/diagrams.npy\n",
      "DiagramVectorizer: fitting complete\n"
     ]
    },
    {
     "name": "stderr",
     "output_type": "stream",
     "text": [
      "DiagramVectorizer: batch: 100%|██████████| 98/98 [00:22<00:00,  4.44it/s]\n"
     ]
    },
    {
     "name": "stdout",
     "output_type": "stream",
     "text": [
      "Saving the result to ./19/train/filtrations/4/RadialFiltration_19_19/red/features.npy\n",
      "FiltrationExtractor: processing 19/train/filtrations/4/RadialFiltration_19_19/red, do_fit = False, filtration = RadialFiltration(center=array([19, 19]), n_jobs=-1)\n",
      "Got the result from ./19/train/filtrations/4/RadialFiltration_19_19/red/features.npy\n",
      "FiltrationExtractor: processing 19/train/filtrations/4/RadialFiltration_19_19/green, do_fit = True, filtration = RadialFiltration(center=array([19, 19]), n_jobs=-1)\n",
      "Saving the result to ./19/train/filtrations/4/RadialFiltration_19_19/green/diagrams.npy\n",
      "DiagramVectorizer: fitting complete\n"
     ]
    },
    {
     "name": "stderr",
     "output_type": "stream",
     "text": [
      "DiagramVectorizer: batch: 100%|██████████| 98/98 [00:22<00:00,  4.35it/s]\n"
     ]
    },
    {
     "name": "stdout",
     "output_type": "stream",
     "text": [
      "Saving the result to ./19/train/filtrations/4/RadialFiltration_19_19/green/features.npy\n",
      "FiltrationExtractor: processing 19/train/filtrations/4/RadialFiltration_19_19/green, do_fit = False, filtration = RadialFiltration(center=array([19, 19]), n_jobs=-1)\n",
      "Got the result from ./19/train/filtrations/4/RadialFiltration_19_19/green/features.npy\n",
      "FiltrationExtractor: processing 19/train/filtrations/4/RadialFiltration_19_19/blue, do_fit = True, filtration = RadialFiltration(center=array([19, 19]), n_jobs=-1)\n",
      "Saving the result to ./19/train/filtrations/4/RadialFiltration_19_19/blue/diagrams.npy\n",
      "DiagramVectorizer: fitting complete\n"
     ]
    },
    {
     "name": "stderr",
     "output_type": "stream",
     "text": [
      "DiagramVectorizer: batch: 100%|██████████| 98/98 [00:22<00:00,  4.28it/s]\n"
     ]
    },
    {
     "name": "stdout",
     "output_type": "stream",
     "text": [
      "Saving the result to ./19/train/filtrations/4/RadialFiltration_19_19/blue/features.npy\n",
      "FiltrationExtractor: processing 19/train/filtrations/4/RadialFiltration_19_19/blue, do_fit = False, filtration = RadialFiltration(center=array([19, 19]), n_jobs=-1)\n",
      "Got the result from ./19/train/filtrations/4/RadialFiltration_19_19/blue/features.npy\n",
      "Fitting filtration 48/116: 4/RadialFiltration_19_26\n",
      "RGB images received. Transforming to grayscale.\n"
     ]
    },
    {
     "name": "stderr",
     "output_type": "stream",
     "text": [
      "rgb2gray: 100%|██████████| 50000/50000 [00:04<00:00, 10569.58it/s]\n"
     ]
    },
    {
     "name": "stdout",
     "output_type": "stream",
     "text": [
      "FiltrationExtractor: processing 19/train/filtrations/4/RadialFiltration_19_26/gray, do_fit = True, filtration = RadialFiltration(center=array([19, 26]), n_jobs=-1)\n",
      "Saving the result to ./19/train/filtrations/4/RadialFiltration_19_26/gray/diagrams.npy\n",
      "DiagramVectorizer: fitting complete\n"
     ]
    },
    {
     "name": "stderr",
     "output_type": "stream",
     "text": [
      "DiagramVectorizer: batch: 100%|██████████| 98/98 [00:21<00:00,  4.55it/s]\n"
     ]
    },
    {
     "name": "stdout",
     "output_type": "stream",
     "text": [
      "Saving the result to ./19/train/filtrations/4/RadialFiltration_19_26/gray/features.npy\n",
      "FiltrationExtractor: processing 19/train/filtrations/4/RadialFiltration_19_26/gray, do_fit = False, filtration = RadialFiltration(center=array([19, 26]), n_jobs=-1)\n",
      "Got the result from ./19/train/filtrations/4/RadialFiltration_19_26/gray/features.npy\n",
      "FiltrationExtractor: processing 19/train/filtrations/4/RadialFiltration_19_26/red, do_fit = True, filtration = RadialFiltration(center=array([19, 26]), n_jobs=-1)\n",
      "Saving the result to ./19/train/filtrations/4/RadialFiltration_19_26/red/diagrams.npy\n",
      "DiagramVectorizer: fitting complete\n"
     ]
    },
    {
     "name": "stderr",
     "output_type": "stream",
     "text": [
      "DiagramVectorizer: batch: 100%|██████████| 98/98 [00:21<00:00,  4.63it/s]\n"
     ]
    },
    {
     "name": "stdout",
     "output_type": "stream",
     "text": [
      "Saving the result to ./19/train/filtrations/4/RadialFiltration_19_26/red/features.npy\n",
      "FiltrationExtractor: processing 19/train/filtrations/4/RadialFiltration_19_26/red, do_fit = False, filtration = RadialFiltration(center=array([19, 26]), n_jobs=-1)\n",
      "Got the result from ./19/train/filtrations/4/RadialFiltration_19_26/red/features.npy\n",
      "FiltrationExtractor: processing 19/train/filtrations/4/RadialFiltration_19_26/green, do_fit = True, filtration = RadialFiltration(center=array([19, 26]), n_jobs=-1)\n",
      "Saving the result to ./19/train/filtrations/4/RadialFiltration_19_26/green/diagrams.npy\n",
      "DiagramVectorizer: fitting complete\n"
     ]
    },
    {
     "name": "stderr",
     "output_type": "stream",
     "text": [
      "DiagramVectorizer: batch: 100%|██████████| 98/98 [00:21<00:00,  4.59it/s]\n"
     ]
    },
    {
     "name": "stdout",
     "output_type": "stream",
     "text": [
      "Saving the result to ./19/train/filtrations/4/RadialFiltration_19_26/green/features.npy\n",
      "FiltrationExtractor: processing 19/train/filtrations/4/RadialFiltration_19_26/green, do_fit = False, filtration = RadialFiltration(center=array([19, 26]), n_jobs=-1)\n",
      "Got the result from ./19/train/filtrations/4/RadialFiltration_19_26/green/features.npy\n",
      "FiltrationExtractor: processing 19/train/filtrations/4/RadialFiltration_19_26/blue, do_fit = True, filtration = RadialFiltration(center=array([19, 26]), n_jobs=-1)\n",
      "Saving the result to ./19/train/filtrations/4/RadialFiltration_19_26/blue/diagrams.npy\n",
      "DiagramVectorizer: fitting complete\n"
     ]
    },
    {
     "name": "stderr",
     "output_type": "stream",
     "text": [
      "DiagramVectorizer: batch: 100%|██████████| 98/98 [00:22<00:00,  4.37it/s]\n"
     ]
    },
    {
     "name": "stdout",
     "output_type": "stream",
     "text": [
      "Saving the result to ./19/train/filtrations/4/RadialFiltration_19_26/blue/features.npy\n",
      "FiltrationExtractor: processing 19/train/filtrations/4/RadialFiltration_19_26/blue, do_fit = False, filtration = RadialFiltration(center=array([19, 26]), n_jobs=-1)\n",
      "Got the result from ./19/train/filtrations/4/RadialFiltration_19_26/blue/features.npy\n",
      "Fitting filtration 49/116: 4/RadialFiltration_26_5\n",
      "RGB images received. Transforming to grayscale.\n"
     ]
    },
    {
     "name": "stderr",
     "output_type": "stream",
     "text": [
      "rgb2gray: 100%|██████████| 50000/50000 [00:03<00:00, 12919.90it/s]\n"
     ]
    },
    {
     "name": "stdout",
     "output_type": "stream",
     "text": [
      "FiltrationExtractor: processing 19/train/filtrations/4/RadialFiltration_26_5/gray, do_fit = True, filtration = RadialFiltration(center=array([26,  5]), n_jobs=-1)\n",
      "Saving the result to ./19/train/filtrations/4/RadialFiltration_26_5/gray/diagrams.npy\n",
      "DiagramVectorizer: fitting complete\n"
     ]
    },
    {
     "name": "stderr",
     "output_type": "stream",
     "text": [
      "DiagramVectorizer: batch: 100%|██████████| 98/98 [00:21<00:00,  4.66it/s]\n"
     ]
    },
    {
     "name": "stdout",
     "output_type": "stream",
     "text": [
      "Saving the result to ./19/train/filtrations/4/RadialFiltration_26_5/gray/features.npy\n",
      "FiltrationExtractor: processing 19/train/filtrations/4/RadialFiltration_26_5/gray, do_fit = False, filtration = RadialFiltration(center=array([26,  5]), n_jobs=-1)\n",
      "Got the result from ./19/train/filtrations/4/RadialFiltration_26_5/gray/features.npy\n",
      "FiltrationExtractor: processing 19/train/filtrations/4/RadialFiltration_26_5/red, do_fit = True, filtration = RadialFiltration(center=array([26,  5]), n_jobs=-1)\n",
      "Saving the result to ./19/train/filtrations/4/RadialFiltration_26_5/red/diagrams.npy\n",
      "DiagramVectorizer: fitting complete\n"
     ]
    },
    {
     "name": "stderr",
     "output_type": "stream",
     "text": [
      "DiagramVectorizer: batch: 100%|██████████| 98/98 [00:20<00:00,  4.82it/s]\n"
     ]
    },
    {
     "name": "stdout",
     "output_type": "stream",
     "text": [
      "Saving the result to ./19/train/filtrations/4/RadialFiltration_26_5/red/features.npy\n",
      "FiltrationExtractor: processing 19/train/filtrations/4/RadialFiltration_26_5/red, do_fit = False, filtration = RadialFiltration(center=array([26,  5]), n_jobs=-1)\n",
      "Got the result from ./19/train/filtrations/4/RadialFiltration_26_5/red/features.npy\n",
      "FiltrationExtractor: processing 19/train/filtrations/4/RadialFiltration_26_5/green, do_fit = True, filtration = RadialFiltration(center=array([26,  5]), n_jobs=-1)\n",
      "Saving the result to ./19/train/filtrations/4/RadialFiltration_26_5/green/diagrams.npy\n",
      "DiagramVectorizer: fitting complete\n"
     ]
    },
    {
     "name": "stderr",
     "output_type": "stream",
     "text": [
      "DiagramVectorizer: batch: 100%|██████████| 98/98 [00:20<00:00,  4.74it/s]\n"
     ]
    },
    {
     "name": "stdout",
     "output_type": "stream",
     "text": [
      "Saving the result to ./19/train/filtrations/4/RadialFiltration_26_5/green/features.npy\n",
      "FiltrationExtractor: processing 19/train/filtrations/4/RadialFiltration_26_5/green, do_fit = False, filtration = RadialFiltration(center=array([26,  5]), n_jobs=-1)\n",
      "Got the result from ./19/train/filtrations/4/RadialFiltration_26_5/green/features.npy\n",
      "FiltrationExtractor: processing 19/train/filtrations/4/RadialFiltration_26_5/blue, do_fit = True, filtration = RadialFiltration(center=array([26,  5]), n_jobs=-1)\n",
      "Saving the result to ./19/train/filtrations/4/RadialFiltration_26_5/blue/diagrams.npy\n",
      "DiagramVectorizer: fitting complete\n"
     ]
    },
    {
     "name": "stderr",
     "output_type": "stream",
     "text": [
      "DiagramVectorizer: batch: 100%|██████████| 98/98 [00:21<00:00,  4.60it/s]\n"
     ]
    },
    {
     "name": "stdout",
     "output_type": "stream",
     "text": [
      "Saving the result to ./19/train/filtrations/4/RadialFiltration_26_5/blue/features.npy\n",
      "FiltrationExtractor: processing 19/train/filtrations/4/RadialFiltration_26_5/blue, do_fit = False, filtration = RadialFiltration(center=array([26,  5]), n_jobs=-1)\n",
      "Got the result from ./19/train/filtrations/4/RadialFiltration_26_5/blue/features.npy\n",
      "Fitting filtration 50/116: 4/RadialFiltration_26_12\n",
      "RGB images received. Transforming to grayscale.\n"
     ]
    },
    {
     "name": "stderr",
     "output_type": "stream",
     "text": [
      "rgb2gray: 100%|██████████| 50000/50000 [00:03<00:00, 13034.44it/s]\n"
     ]
    },
    {
     "name": "stdout",
     "output_type": "stream",
     "text": [
      "FiltrationExtractor: processing 19/train/filtrations/4/RadialFiltration_26_12/gray, do_fit = True, filtration = RadialFiltration(center=array([26, 12]), n_jobs=-1)\n",
      "Saving the result to ./19/train/filtrations/4/RadialFiltration_26_12/gray/diagrams.npy\n",
      "DiagramVectorizer: fitting complete\n"
     ]
    },
    {
     "name": "stderr",
     "output_type": "stream",
     "text": [
      "DiagramVectorizer: batch: 100%|██████████| 98/98 [00:21<00:00,  4.56it/s]\n"
     ]
    },
    {
     "name": "stdout",
     "output_type": "stream",
     "text": [
      "Saving the result to ./19/train/filtrations/4/RadialFiltration_26_12/gray/features.npy\n",
      "FiltrationExtractor: processing 19/train/filtrations/4/RadialFiltration_26_12/gray, do_fit = False, filtration = RadialFiltration(center=array([26, 12]), n_jobs=-1)\n",
      "Got the result from ./19/train/filtrations/4/RadialFiltration_26_12/gray/features.npy\n",
      "FiltrationExtractor: processing 19/train/filtrations/4/RadialFiltration_26_12/red, do_fit = True, filtration = RadialFiltration(center=array([26, 12]), n_jobs=-1)\n",
      "Saving the result to ./19/train/filtrations/4/RadialFiltration_26_12/red/diagrams.npy\n",
      "DiagramVectorizer: fitting complete\n"
     ]
    },
    {
     "name": "stderr",
     "output_type": "stream",
     "text": [
      "DiagramVectorizer: batch: 100%|██████████| 98/98 [00:20<00:00,  4.81it/s]\n"
     ]
    },
    {
     "name": "stdout",
     "output_type": "stream",
     "text": [
      "Saving the result to ./19/train/filtrations/4/RadialFiltration_26_12/red/features.npy\n",
      "FiltrationExtractor: processing 19/train/filtrations/4/RadialFiltration_26_12/red, do_fit = False, filtration = RadialFiltration(center=array([26, 12]), n_jobs=-1)\n",
      "Got the result from ./19/train/filtrations/4/RadialFiltration_26_12/red/features.npy\n",
      "FiltrationExtractor: processing 19/train/filtrations/4/RadialFiltration_26_12/green, do_fit = True, filtration = RadialFiltration(center=array([26, 12]), n_jobs=-1)\n",
      "Saving the result to ./19/train/filtrations/4/RadialFiltration_26_12/green/diagrams.npy\n",
      "DiagramVectorizer: fitting complete\n"
     ]
    },
    {
     "name": "stderr",
     "output_type": "stream",
     "text": [
      "DiagramVectorizer: batch: 100%|██████████| 98/98 [00:20<00:00,  4.89it/s]\n"
     ]
    },
    {
     "name": "stdout",
     "output_type": "stream",
     "text": [
      "Saving the result to ./19/train/filtrations/4/RadialFiltration_26_12/green/features.npy\n",
      "FiltrationExtractor: processing 19/train/filtrations/4/RadialFiltration_26_12/green, do_fit = False, filtration = RadialFiltration(center=array([26, 12]), n_jobs=-1)\n",
      "Got the result from ./19/train/filtrations/4/RadialFiltration_26_12/green/features.npy\n",
      "FiltrationExtractor: processing 19/train/filtrations/4/RadialFiltration_26_12/blue, do_fit = True, filtration = RadialFiltration(center=array([26, 12]), n_jobs=-1)\n",
      "Saving the result to ./19/train/filtrations/4/RadialFiltration_26_12/blue/diagrams.npy\n",
      "DiagramVectorizer: fitting complete\n"
     ]
    },
    {
     "name": "stderr",
     "output_type": "stream",
     "text": [
      "DiagramVectorizer: batch: 100%|██████████| 98/98 [00:21<00:00,  4.64it/s]\n"
     ]
    },
    {
     "name": "stdout",
     "output_type": "stream",
     "text": [
      "Saving the result to ./19/train/filtrations/4/RadialFiltration_26_12/blue/features.npy\n",
      "FiltrationExtractor: processing 19/train/filtrations/4/RadialFiltration_26_12/blue, do_fit = False, filtration = RadialFiltration(center=array([26, 12]), n_jobs=-1)\n",
      "Got the result from ./19/train/filtrations/4/RadialFiltration_26_12/blue/features.npy\n",
      "Fitting filtration 51/116: 4/RadialFiltration_26_19\n",
      "RGB images received. Transforming to grayscale.\n"
     ]
    },
    {
     "name": "stderr",
     "output_type": "stream",
     "text": [
      "rgb2gray: 100%|██████████| 50000/50000 [00:03<00:00, 13402.89it/s]\n"
     ]
    },
    {
     "name": "stdout",
     "output_type": "stream",
     "text": [
      "FiltrationExtractor: processing 19/train/filtrations/4/RadialFiltration_26_19/gray, do_fit = True, filtration = RadialFiltration(center=array([26, 19]), n_jobs=-1)\n",
      "Saving the result to ./19/train/filtrations/4/RadialFiltration_26_19/gray/diagrams.npy\n",
      "DiagramVectorizer: fitting complete\n"
     ]
    },
    {
     "name": "stderr",
     "output_type": "stream",
     "text": [
      "DiagramVectorizer: batch: 100%|██████████| 98/98 [00:21<00:00,  4.51it/s]\n"
     ]
    },
    {
     "name": "stdout",
     "output_type": "stream",
     "text": [
      "Saving the result to ./19/train/filtrations/4/RadialFiltration_26_19/gray/features.npy\n",
      "FiltrationExtractor: processing 19/train/filtrations/4/RadialFiltration_26_19/gray, do_fit = False, filtration = RadialFiltration(center=array([26, 19]), n_jobs=-1)\n",
      "Got the result from ./19/train/filtrations/4/RadialFiltration_26_19/gray/features.npy\n",
      "FiltrationExtractor: processing 19/train/filtrations/4/RadialFiltration_26_19/red, do_fit = True, filtration = RadialFiltration(center=array([26, 19]), n_jobs=-1)\n",
      "Saving the result to ./19/train/filtrations/4/RadialFiltration_26_19/red/diagrams.npy\n",
      "DiagramVectorizer: fitting complete\n"
     ]
    },
    {
     "name": "stderr",
     "output_type": "stream",
     "text": [
      "DiagramVectorizer: batch: 100%|██████████| 98/98 [00:21<00:00,  4.58it/s]\n"
     ]
    },
    {
     "name": "stdout",
     "output_type": "stream",
     "text": [
      "Saving the result to ./19/train/filtrations/4/RadialFiltration_26_19/red/features.npy\n",
      "FiltrationExtractor: processing 19/train/filtrations/4/RadialFiltration_26_19/red, do_fit = False, filtration = RadialFiltration(center=array([26, 19]), n_jobs=-1)\n",
      "Got the result from ./19/train/filtrations/4/RadialFiltration_26_19/red/features.npy\n",
      "FiltrationExtractor: processing 19/train/filtrations/4/RadialFiltration_26_19/green, do_fit = True, filtration = RadialFiltration(center=array([26, 19]), n_jobs=-1)\n",
      "Saving the result to ./19/train/filtrations/4/RadialFiltration_26_19/green/diagrams.npy\n",
      "DiagramVectorizer: fitting complete\n"
     ]
    },
    {
     "name": "stderr",
     "output_type": "stream",
     "text": [
      "DiagramVectorizer: batch: 100%|██████████| 98/98 [00:22<00:00,  4.40it/s]\n"
     ]
    },
    {
     "name": "stdout",
     "output_type": "stream",
     "text": [
      "Saving the result to ./19/train/filtrations/4/RadialFiltration_26_19/green/features.npy\n",
      "FiltrationExtractor: processing 19/train/filtrations/4/RadialFiltration_26_19/green, do_fit = False, filtration = RadialFiltration(center=array([26, 19]), n_jobs=-1)\n",
      "Got the result from ./19/train/filtrations/4/RadialFiltration_26_19/green/features.npy\n",
      "FiltrationExtractor: processing 19/train/filtrations/4/RadialFiltration_26_19/blue, do_fit = True, filtration = RadialFiltration(center=array([26, 19]), n_jobs=-1)\n",
      "Saving the result to ./19/train/filtrations/4/RadialFiltration_26_19/blue/diagrams.npy\n",
      "DiagramVectorizer: fitting complete\n"
     ]
    },
    {
     "name": "stderr",
     "output_type": "stream",
     "text": [
      "DiagramVectorizer: batch: 100%|██████████| 98/98 [00:22<00:00,  4.29it/s]\n"
     ]
    },
    {
     "name": "stdout",
     "output_type": "stream",
     "text": [
      "Saving the result to ./19/train/filtrations/4/RadialFiltration_26_19/blue/features.npy\n",
      "FiltrationExtractor: processing 19/train/filtrations/4/RadialFiltration_26_19/blue, do_fit = False, filtration = RadialFiltration(center=array([26, 19]), n_jobs=-1)\n",
      "Got the result from ./19/train/filtrations/4/RadialFiltration_26_19/blue/features.npy\n",
      "Fitting filtration 52/116: 4/RadialFiltration_26_26\n",
      "RGB images received. Transforming to grayscale.\n"
     ]
    },
    {
     "name": "stderr",
     "output_type": "stream",
     "text": [
      "rgb2gray: 100%|██████████| 50000/50000 [00:04<00:00, 12386.96it/s]\n"
     ]
    },
    {
     "name": "stdout",
     "output_type": "stream",
     "text": [
      "FiltrationExtractor: processing 19/train/filtrations/4/RadialFiltration_26_26/gray, do_fit = True, filtration = RadialFiltration(center=array([26, 26]), n_jobs=-1)\n",
      "Saving the result to ./19/train/filtrations/4/RadialFiltration_26_26/gray/diagrams.npy\n",
      "DiagramVectorizer: fitting complete\n"
     ]
    },
    {
     "name": "stderr",
     "output_type": "stream",
     "text": [
      "DiagramVectorizer: batch: 100%|██████████| 98/98 [00:22<00:00,  4.45it/s]\n"
     ]
    },
    {
     "name": "stdout",
     "output_type": "stream",
     "text": [
      "Saving the result to ./19/train/filtrations/4/RadialFiltration_26_26/gray/features.npy\n",
      "FiltrationExtractor: processing 19/train/filtrations/4/RadialFiltration_26_26/gray, do_fit = False, filtration = RadialFiltration(center=array([26, 26]), n_jobs=-1)\n",
      "Got the result from ./19/train/filtrations/4/RadialFiltration_26_26/gray/features.npy\n",
      "FiltrationExtractor: processing 19/train/filtrations/4/RadialFiltration_26_26/red, do_fit = True, filtration = RadialFiltration(center=array([26, 26]), n_jobs=-1)\n",
      "Saving the result to ./19/train/filtrations/4/RadialFiltration_26_26/red/diagrams.npy\n",
      "DiagramVectorizer: fitting complete\n"
     ]
    },
    {
     "name": "stderr",
     "output_type": "stream",
     "text": [
      "DiagramVectorizer: batch: 100%|██████████| 98/98 [00:20<00:00,  4.86it/s]\n"
     ]
    },
    {
     "name": "stdout",
     "output_type": "stream",
     "text": [
      "Saving the result to ./19/train/filtrations/4/RadialFiltration_26_26/red/features.npy\n",
      "FiltrationExtractor: processing 19/train/filtrations/4/RadialFiltration_26_26/red, do_fit = False, filtration = RadialFiltration(center=array([26, 26]), n_jobs=-1)\n",
      "Got the result from ./19/train/filtrations/4/RadialFiltration_26_26/red/features.npy\n",
      "FiltrationExtractor: processing 19/train/filtrations/4/RadialFiltration_26_26/green, do_fit = True, filtration = RadialFiltration(center=array([26, 26]), n_jobs=-1)\n",
      "Saving the result to ./19/train/filtrations/4/RadialFiltration_26_26/green/diagrams.npy\n",
      "DiagramVectorizer: fitting complete\n"
     ]
    },
    {
     "name": "stderr",
     "output_type": "stream",
     "text": [
      "DiagramVectorizer: batch: 100%|██████████| 98/98 [00:19<00:00,  4.91it/s]\n"
     ]
    },
    {
     "name": "stdout",
     "output_type": "stream",
     "text": [
      "Saving the result to ./19/train/filtrations/4/RadialFiltration_26_26/green/features.npy\n",
      "FiltrationExtractor: processing 19/train/filtrations/4/RadialFiltration_26_26/green, do_fit = False, filtration = RadialFiltration(center=array([26, 26]), n_jobs=-1)\n",
      "Got the result from ./19/train/filtrations/4/RadialFiltration_26_26/green/features.npy\n",
      "FiltrationExtractor: processing 19/train/filtrations/4/RadialFiltration_26_26/blue, do_fit = True, filtration = RadialFiltration(center=array([26, 26]), n_jobs=-1)\n",
      "Saving the result to ./19/train/filtrations/4/RadialFiltration_26_26/blue/diagrams.npy\n",
      "DiagramVectorizer: fitting complete\n"
     ]
    },
    {
     "name": "stderr",
     "output_type": "stream",
     "text": [
      "DiagramVectorizer: batch: 100%|██████████| 98/98 [00:20<00:00,  4.89it/s]\n"
     ]
    },
    {
     "name": "stdout",
     "output_type": "stream",
     "text": [
      "Saving the result to ./19/train/filtrations/4/RadialFiltration_26_26/blue/features.npy\n",
      "FiltrationExtractor: processing 19/train/filtrations/4/RadialFiltration_26_26/blue, do_fit = False, filtration = RadialFiltration(center=array([26, 26]), n_jobs=-1)\n",
      "Got the result from ./19/train/filtrations/4/RadialFiltration_26_26/blue/features.npy\n",
      "Fitting filtration 53/116: 4/DilationFiltration\n",
      "RGB images received. Transforming to grayscale.\n"
     ]
    },
    {
     "name": "stderr",
     "output_type": "stream",
     "text": [
      "rgb2gray: 100%|██████████| 50000/50000 [00:03<00:00, 13029.70it/s]\n"
     ]
    },
    {
     "name": "stdout",
     "output_type": "stream",
     "text": [
      "FiltrationExtractor: processing 19/train/filtrations/4/DilationFiltration/gray, do_fit = True, filtration = DilationFiltration(n_jobs=-1)\n",
      "Saving the result to ./19/train/filtrations/4/DilationFiltration/gray/diagrams.npy\n",
      "DiagramVectorizer: fitting complete\n"
     ]
    },
    {
     "name": "stderr",
     "output_type": "stream",
     "text": [
      "DiagramVectorizer: batch: 100%|██████████| 98/98 [00:20<00:00,  4.67it/s]\n"
     ]
    },
    {
     "name": "stdout",
     "output_type": "stream",
     "text": [
      "Saving the result to ./19/train/filtrations/4/DilationFiltration/gray/features.npy\n",
      "FiltrationExtractor: processing 19/train/filtrations/4/DilationFiltration/gray, do_fit = False, filtration = DilationFiltration(n_jobs=-1)\n",
      "Got the result from ./19/train/filtrations/4/DilationFiltration/gray/features.npy\n",
      "FiltrationExtractor: processing 19/train/filtrations/4/DilationFiltration/red, do_fit = True, filtration = DilationFiltration(n_jobs=-1)\n",
      "Saving the result to ./19/train/filtrations/4/DilationFiltration/red/diagrams.npy\n",
      "DiagramVectorizer: fitting complete\n"
     ]
    },
    {
     "name": "stderr",
     "output_type": "stream",
     "text": [
      "DiagramVectorizer: batch: 100%|██████████| 98/98 [00:23<00:00,  4.22it/s]\n"
     ]
    },
    {
     "name": "stdout",
     "output_type": "stream",
     "text": [
      "Saving the result to ./19/train/filtrations/4/DilationFiltration/red/features.npy\n",
      "FiltrationExtractor: processing 19/train/filtrations/4/DilationFiltration/red, do_fit = False, filtration = DilationFiltration(n_jobs=-1)\n",
      "Got the result from ./19/train/filtrations/4/DilationFiltration/red/features.npy\n",
      "FiltrationExtractor: processing 19/train/filtrations/4/DilationFiltration/green, do_fit = True, filtration = DilationFiltration(n_jobs=-1)\n",
      "Saving the result to ./19/train/filtrations/4/DilationFiltration/green/diagrams.npy\n",
      "DiagramVectorizer: fitting complete\n"
     ]
    },
    {
     "name": "stderr",
     "output_type": "stream",
     "text": [
      "DiagramVectorizer: batch: 100%|██████████| 98/98 [00:21<00:00,  4.53it/s]\n"
     ]
    },
    {
     "name": "stdout",
     "output_type": "stream",
     "text": [
      "Saving the result to ./19/train/filtrations/4/DilationFiltration/green/features.npy\n",
      "FiltrationExtractor: processing 19/train/filtrations/4/DilationFiltration/green, do_fit = False, filtration = DilationFiltration(n_jobs=-1)\n",
      "Got the result from ./19/train/filtrations/4/DilationFiltration/green/features.npy\n",
      "FiltrationExtractor: processing 19/train/filtrations/4/DilationFiltration/blue, do_fit = True, filtration = DilationFiltration(n_jobs=-1)\n",
      "Saving the result to ./19/train/filtrations/4/DilationFiltration/blue/diagrams.npy\n",
      "DiagramVectorizer: fitting complete\n"
     ]
    },
    {
     "name": "stderr",
     "output_type": "stream",
     "text": [
      "DiagramVectorizer: batch: 100%|██████████| 98/98 [00:21<00:00,  4.47it/s]\n"
     ]
    },
    {
     "name": "stdout",
     "output_type": "stream",
     "text": [
      "Saving the result to ./19/train/filtrations/4/DilationFiltration/blue/features.npy\n",
      "FiltrationExtractor: processing 19/train/filtrations/4/DilationFiltration/blue, do_fit = False, filtration = DilationFiltration(n_jobs=-1)\n",
      "Got the result from ./19/train/filtrations/4/DilationFiltration/blue/features.npy\n",
      "Fitting filtration 54/116: 4/ErosionFiltration\n",
      "RGB images received. Transforming to grayscale.\n"
     ]
    },
    {
     "name": "stderr",
     "output_type": "stream",
     "text": [
      "rgb2gray: 100%|██████████| 50000/50000 [00:05<00:00, 9565.63it/s] \n"
     ]
    },
    {
     "name": "stdout",
     "output_type": "stream",
     "text": [
      "FiltrationExtractor: processing 19/train/filtrations/4/ErosionFiltration/gray, do_fit = True, filtration = ErosionFiltration(n_jobs=-1)\n",
      "Saving the result to ./19/train/filtrations/4/ErosionFiltration/gray/diagrams.npy\n",
      "DiagramVectorizer: fitting complete\n"
     ]
    },
    {
     "name": "stderr",
     "output_type": "stream",
     "text": [
      "DiagramVectorizer: batch: 100%|██████████| 98/98 [00:22<00:00,  4.33it/s]\n"
     ]
    },
    {
     "name": "stdout",
     "output_type": "stream",
     "text": [
      "Saving the result to ./19/train/filtrations/4/ErosionFiltration/gray/features.npy\n",
      "FiltrationExtractor: processing 19/train/filtrations/4/ErosionFiltration/gray, do_fit = False, filtration = ErosionFiltration(n_jobs=-1)\n",
      "Got the result from ./19/train/filtrations/4/ErosionFiltration/gray/features.npy\n",
      "FiltrationExtractor: processing 19/train/filtrations/4/ErosionFiltration/red, do_fit = True, filtration = ErosionFiltration(n_jobs=-1)\n",
      "Saving the result to ./19/train/filtrations/4/ErosionFiltration/red/diagrams.npy\n",
      "DiagramVectorizer: fitting complete\n"
     ]
    },
    {
     "name": "stderr",
     "output_type": "stream",
     "text": [
      "DiagramVectorizer: batch: 100%|██████████| 98/98 [00:20<00:00,  4.74it/s]\n"
     ]
    },
    {
     "name": "stdout",
     "output_type": "stream",
     "text": [
      "Saving the result to ./19/train/filtrations/4/ErosionFiltration/red/features.npy\n",
      "FiltrationExtractor: processing 19/train/filtrations/4/ErosionFiltration/red, do_fit = False, filtration = ErosionFiltration(n_jobs=-1)\n",
      "Got the result from ./19/train/filtrations/4/ErosionFiltration/red/features.npy\n",
      "FiltrationExtractor: processing 19/train/filtrations/4/ErosionFiltration/green, do_fit = True, filtration = ErosionFiltration(n_jobs=-1)\n",
      "Saving the result to ./19/train/filtrations/4/ErosionFiltration/green/diagrams.npy\n",
      "DiagramVectorizer: fitting complete\n"
     ]
    },
    {
     "name": "stderr",
     "output_type": "stream",
     "text": [
      "DiagramVectorizer: batch: 100%|██████████| 98/98 [00:22<00:00,  4.43it/s]\n"
     ]
    },
    {
     "name": "stdout",
     "output_type": "stream",
     "text": [
      "Saving the result to ./19/train/filtrations/4/ErosionFiltration/green/features.npy\n",
      "FiltrationExtractor: processing 19/train/filtrations/4/ErosionFiltration/green, do_fit = False, filtration = ErosionFiltration(n_jobs=-1)\n",
      "Got the result from ./19/train/filtrations/4/ErosionFiltration/green/features.npy\n",
      "FiltrationExtractor: processing 19/train/filtrations/4/ErosionFiltration/blue, do_fit = True, filtration = ErosionFiltration(n_jobs=-1)\n",
      "Saving the result to ./19/train/filtrations/4/ErosionFiltration/blue/diagrams.npy\n",
      "DiagramVectorizer: fitting complete\n"
     ]
    },
    {
     "name": "stderr",
     "output_type": "stream",
     "text": [
      "DiagramVectorizer: batch: 100%|██████████| 98/98 [00:20<00:00,  4.80it/s]\n"
     ]
    },
    {
     "name": "stdout",
     "output_type": "stream",
     "text": [
      "Saving the result to ./19/train/filtrations/4/ErosionFiltration/blue/features.npy\n",
      "FiltrationExtractor: processing 19/train/filtrations/4/ErosionFiltration/blue, do_fit = False, filtration = ErosionFiltration(n_jobs=-1)\n",
      "Got the result from ./19/train/filtrations/4/ErosionFiltration/blue/features.npy\n",
      "Fitting filtration 55/116: 4/SignedDistanceFiltration\n",
      "RGB images received. Transforming to grayscale.\n"
     ]
    },
    {
     "name": "stderr",
     "output_type": "stream",
     "text": [
      "rgb2gray: 100%|██████████| 50000/50000 [00:03<00:00, 13246.60it/s]\n"
     ]
    },
    {
     "name": "stdout",
     "output_type": "stream",
     "text": [
      "FiltrationExtractor: processing 19/train/filtrations/4/SignedDistanceFiltration/gray, do_fit = True, filtration = SignedDistanceFiltration(n_jobs=-1)\n",
      "Saving the result to ./19/train/filtrations/4/SignedDistanceFiltration/gray/diagrams.npy\n",
      "DiagramVectorizer: fitting complete\n"
     ]
    },
    {
     "name": "stderr",
     "output_type": "stream",
     "text": [
      "DiagramVectorizer: batch: 100%|██████████| 98/98 [00:20<00:00,  4.89it/s]\n"
     ]
    },
    {
     "name": "stdout",
     "output_type": "stream",
     "text": [
      "Saving the result to ./19/train/filtrations/4/SignedDistanceFiltration/gray/features.npy\n",
      "FiltrationExtractor: processing 19/train/filtrations/4/SignedDistanceFiltration/gray, do_fit = False, filtration = SignedDistanceFiltration(n_jobs=-1)\n",
      "Got the result from ./19/train/filtrations/4/SignedDistanceFiltration/gray/features.npy\n",
      "FiltrationExtractor: processing 19/train/filtrations/4/SignedDistanceFiltration/red, do_fit = True, filtration = SignedDistanceFiltration(n_jobs=-1)\n",
      "Saving the result to ./19/train/filtrations/4/SignedDistanceFiltration/red/diagrams.npy\n",
      "DiagramVectorizer: fitting complete\n"
     ]
    },
    {
     "name": "stderr",
     "output_type": "stream",
     "text": [
      "DiagramVectorizer: batch: 100%|██████████| 98/98 [00:19<00:00,  5.01it/s]\n"
     ]
    },
    {
     "name": "stdout",
     "output_type": "stream",
     "text": [
      "Saving the result to ./19/train/filtrations/4/SignedDistanceFiltration/red/features.npy\n",
      "FiltrationExtractor: processing 19/train/filtrations/4/SignedDistanceFiltration/red, do_fit = False, filtration = SignedDistanceFiltration(n_jobs=-1)\n",
      "Got the result from ./19/train/filtrations/4/SignedDistanceFiltration/red/features.npy\n",
      "FiltrationExtractor: processing 19/train/filtrations/4/SignedDistanceFiltration/green, do_fit = True, filtration = SignedDistanceFiltration(n_jobs=-1)\n",
      "Saving the result to ./19/train/filtrations/4/SignedDistanceFiltration/green/diagrams.npy\n",
      "DiagramVectorizer: fitting complete\n"
     ]
    },
    {
     "name": "stderr",
     "output_type": "stream",
     "text": [
      "DiagramVectorizer: batch: 100%|██████████| 98/98 [00:18<00:00,  5.25it/s]\n"
     ]
    },
    {
     "name": "stdout",
     "output_type": "stream",
     "text": [
      "Saving the result to ./19/train/filtrations/4/SignedDistanceFiltration/green/features.npy\n",
      "FiltrationExtractor: processing 19/train/filtrations/4/SignedDistanceFiltration/green, do_fit = False, filtration = SignedDistanceFiltration(n_jobs=-1)\n",
      "Got the result from ./19/train/filtrations/4/SignedDistanceFiltration/green/features.npy\n",
      "FiltrationExtractor: processing 19/train/filtrations/4/SignedDistanceFiltration/blue, do_fit = True, filtration = SignedDistanceFiltration(n_jobs=-1)\n",
      "Saving the result to ./19/train/filtrations/4/SignedDistanceFiltration/blue/diagrams.npy\n",
      "DiagramVectorizer: fitting complete\n"
     ]
    },
    {
     "name": "stderr",
     "output_type": "stream",
     "text": [
      "DiagramVectorizer: batch: 100%|██████████| 98/98 [00:21<00:00,  4.64it/s]\n"
     ]
    },
    {
     "name": "stdout",
     "output_type": "stream",
     "text": [
      "Saving the result to ./19/train/filtrations/4/SignedDistanceFiltration/blue/features.npy\n",
      "FiltrationExtractor: processing 19/train/filtrations/4/SignedDistanceFiltration/blue, do_fit = False, filtration = SignedDistanceFiltration(n_jobs=-1)\n",
      "Got the result from ./19/train/filtrations/4/SignedDistanceFiltration/blue/features.npy\n",
      "Fitting filtration 56/116: 4/DensityFiltration_1\n",
      "RGB images received. Transforming to grayscale.\n"
     ]
    },
    {
     "name": "stderr",
     "output_type": "stream",
     "text": [
      "rgb2gray: 100%|██████████| 50000/50000 [00:03<00:00, 13222.18it/s]\n"
     ]
    },
    {
     "name": "stdout",
     "output_type": "stream",
     "text": [
      "FiltrationExtractor: processing 19/train/filtrations/4/DensityFiltration_1/gray, do_fit = True, filtration = DensityFiltration(n_jobs=-1, radius=1)\n",
      "Saving the result to ./19/train/filtrations/4/DensityFiltration_1/gray/diagrams.npy\n",
      "DiagramVectorizer: fitting complete\n"
     ]
    },
    {
     "name": "stderr",
     "output_type": "stream",
     "text": [
      "DiagramVectorizer: batch: 100%|██████████| 98/98 [00:33<00:00,  2.92it/s]\n"
     ]
    },
    {
     "name": "stdout",
     "output_type": "stream",
     "text": [
      "Saving the result to ./19/train/filtrations/4/DensityFiltration_1/gray/features.npy\n",
      "FiltrationExtractor: processing 19/train/filtrations/4/DensityFiltration_1/gray, do_fit = False, filtration = DensityFiltration(n_jobs=-1, radius=1)\n",
      "Got the result from ./19/train/filtrations/4/DensityFiltration_1/gray/features.npy\n",
      "FiltrationExtractor: processing 19/train/filtrations/4/DensityFiltration_1/red, do_fit = True, filtration = DensityFiltration(n_jobs=-1, radius=1)\n",
      "Saving the result to ./19/train/filtrations/4/DensityFiltration_1/red/diagrams.npy\n",
      "DiagramVectorizer: fitting complete\n"
     ]
    },
    {
     "name": "stderr",
     "output_type": "stream",
     "text": [
      "DiagramVectorizer: batch: 100%|██████████| 98/98 [00:34<00:00,  2.81it/s]\n"
     ]
    },
    {
     "name": "stdout",
     "output_type": "stream",
     "text": [
      "Saving the result to ./19/train/filtrations/4/DensityFiltration_1/red/features.npy\n",
      "FiltrationExtractor: processing 19/train/filtrations/4/DensityFiltration_1/red, do_fit = False, filtration = DensityFiltration(n_jobs=-1, radius=1)\n",
      "Got the result from ./19/train/filtrations/4/DensityFiltration_1/red/features.npy\n",
      "FiltrationExtractor: processing 19/train/filtrations/4/DensityFiltration_1/green, do_fit = True, filtration = DensityFiltration(n_jobs=-1, radius=1)\n",
      "Saving the result to ./19/train/filtrations/4/DensityFiltration_1/green/diagrams.npy\n",
      "DiagramVectorizer: fitting complete\n"
     ]
    },
    {
     "name": "stderr",
     "output_type": "stream",
     "text": [
      "DiagramVectorizer: batch: 100%|██████████| 98/98 [00:34<00:00,  2.83it/s]\n"
     ]
    },
    {
     "name": "stdout",
     "output_type": "stream",
     "text": [
      "Saving the result to ./19/train/filtrations/4/DensityFiltration_1/green/features.npy\n",
      "FiltrationExtractor: processing 19/train/filtrations/4/DensityFiltration_1/green, do_fit = False, filtration = DensityFiltration(n_jobs=-1, radius=1)\n",
      "Got the result from ./19/train/filtrations/4/DensityFiltration_1/green/features.npy\n",
      "FiltrationExtractor: processing 19/train/filtrations/4/DensityFiltration_1/blue, do_fit = True, filtration = DensityFiltration(n_jobs=-1, radius=1)\n",
      "Saving the result to ./19/train/filtrations/4/DensityFiltration_1/blue/diagrams.npy\n",
      "DiagramVectorizer: fitting complete\n"
     ]
    },
    {
     "name": "stderr",
     "output_type": "stream",
     "text": [
      "DiagramVectorizer: batch: 100%|██████████| 98/98 [00:33<00:00,  2.94it/s]\n"
     ]
    },
    {
     "name": "stdout",
     "output_type": "stream",
     "text": [
      "Saving the result to ./19/train/filtrations/4/DensityFiltration_1/blue/features.npy\n",
      "FiltrationExtractor: processing 19/train/filtrations/4/DensityFiltration_1/blue, do_fit = False, filtration = DensityFiltration(n_jobs=-1, radius=1)\n",
      "Got the result from ./19/train/filtrations/4/DensityFiltration_1/blue/features.npy\n",
      "Fitting filtration 57/116: 4/DensityFiltration_3\n",
      "RGB images received. Transforming to grayscale.\n"
     ]
    },
    {
     "name": "stderr",
     "output_type": "stream",
     "text": [
      "rgb2gray: 100%|██████████| 50000/50000 [00:03<00:00, 13097.30it/s]\n"
     ]
    },
    {
     "name": "stdout",
     "output_type": "stream",
     "text": [
      "FiltrationExtractor: processing 19/train/filtrations/4/DensityFiltration_3/gray, do_fit = True, filtration = DensityFiltration(n_jobs=-1)\n",
      "Saving the result to ./19/train/filtrations/4/DensityFiltration_3/gray/diagrams.npy\n",
      "DiagramVectorizer: fitting complete\n"
     ]
    },
    {
     "name": "stderr",
     "output_type": "stream",
     "text": [
      "DiagramVectorizer: batch: 100%|██████████| 98/98 [00:21<00:00,  4.66it/s]\n"
     ]
    },
    {
     "name": "stdout",
     "output_type": "stream",
     "text": [
      "Saving the result to ./19/train/filtrations/4/DensityFiltration_3/gray/features.npy\n",
      "FiltrationExtractor: processing 19/train/filtrations/4/DensityFiltration_3/gray, do_fit = False, filtration = DensityFiltration(n_jobs=-1)\n",
      "Got the result from ./19/train/filtrations/4/DensityFiltration_3/gray/features.npy\n",
      "FiltrationExtractor: processing 19/train/filtrations/4/DensityFiltration_3/red, do_fit = True, filtration = DensityFiltration(n_jobs=-1)\n",
      "Saving the result to ./19/train/filtrations/4/DensityFiltration_3/red/diagrams.npy\n",
      "DiagramVectorizer: fitting complete\n"
     ]
    },
    {
     "name": "stderr",
     "output_type": "stream",
     "text": [
      "DiagramVectorizer: batch: 100%|██████████| 98/98 [00:20<00:00,  4.77it/s]\n"
     ]
    },
    {
     "name": "stdout",
     "output_type": "stream",
     "text": [
      "Saving the result to ./19/train/filtrations/4/DensityFiltration_3/red/features.npy\n",
      "FiltrationExtractor: processing 19/train/filtrations/4/DensityFiltration_3/red, do_fit = False, filtration = DensityFiltration(n_jobs=-1)\n",
      "Got the result from ./19/train/filtrations/4/DensityFiltration_3/red/features.npy\n",
      "FiltrationExtractor: processing 19/train/filtrations/4/DensityFiltration_3/green, do_fit = True, filtration = DensityFiltration(n_jobs=-1)\n",
      "Saving the result to ./19/train/filtrations/4/DensityFiltration_3/green/diagrams.npy\n",
      "DiagramVectorizer: fitting complete\n"
     ]
    },
    {
     "name": "stderr",
     "output_type": "stream",
     "text": [
      "DiagramVectorizer: batch: 100%|██████████| 98/98 [00:19<00:00,  5.06it/s]\n"
     ]
    },
    {
     "name": "stdout",
     "output_type": "stream",
     "text": [
      "Saving the result to ./19/train/filtrations/4/DensityFiltration_3/green/features.npy\n",
      "FiltrationExtractor: processing 19/train/filtrations/4/DensityFiltration_3/green, do_fit = False, filtration = DensityFiltration(n_jobs=-1)\n",
      "Got the result from ./19/train/filtrations/4/DensityFiltration_3/green/features.npy\n",
      "FiltrationExtractor: processing 19/train/filtrations/4/DensityFiltration_3/blue, do_fit = True, filtration = DensityFiltration(n_jobs=-1)\n",
      "Saving the result to ./19/train/filtrations/4/DensityFiltration_3/blue/diagrams.npy\n",
      "DiagramVectorizer: fitting complete\n"
     ]
    },
    {
     "name": "stderr",
     "output_type": "stream",
     "text": [
      "DiagramVectorizer: batch: 100%|██████████| 98/98 [00:19<00:00,  5.12it/s]\n"
     ]
    },
    {
     "name": "stdout",
     "output_type": "stream",
     "text": [
      "Saving the result to ./19/train/filtrations/4/DensityFiltration_3/blue/features.npy\n",
      "FiltrationExtractor: processing 19/train/filtrations/4/DensityFiltration_3/blue, do_fit = False, filtration = DensityFiltration(n_jobs=-1)\n",
      "Got the result from ./19/train/filtrations/4/DensityFiltration_3/blue/features.npy\n",
      "Fitting filtration 58/116: 6/HeightFiltrartion_-1_-1\n",
      "RGB images received. Transforming to grayscale.\n"
     ]
    },
    {
     "name": "stderr",
     "output_type": "stream",
     "text": [
      "rgb2gray: 100%|██████████| 50000/50000 [00:03<00:00, 13741.66it/s]\n"
     ]
    },
    {
     "name": "stdout",
     "output_type": "stream",
     "text": [
      "FiltrationExtractor: processing 19/train/filtrations/6/HeightFiltrartion_-1_-1/gray, do_fit = True, filtration = HeightFiltration(direction=array([-1, -1]), n_jobs=-1)\n",
      "Saving the result to ./19/train/filtrations/6/HeightFiltrartion_-1_-1/gray/diagrams.npy\n",
      "DiagramVectorizer: fitting complete\n"
     ]
    },
    {
     "name": "stderr",
     "output_type": "stream",
     "text": [
      "DiagramVectorizer: batch: 100%|██████████| 98/98 [00:20<00:00,  4.78it/s]\n"
     ]
    },
    {
     "name": "stdout",
     "output_type": "stream",
     "text": [
      "Saving the result to ./19/train/filtrations/6/HeightFiltrartion_-1_-1/gray/features.npy\n",
      "FiltrationExtractor: processing 19/train/filtrations/6/HeightFiltrartion_-1_-1/gray, do_fit = False, filtration = HeightFiltration(direction=array([-1, -1]), n_jobs=-1)\n",
      "Got the result from ./19/train/filtrations/6/HeightFiltrartion_-1_-1/gray/features.npy\n",
      "FiltrationExtractor: processing 19/train/filtrations/6/HeightFiltrartion_-1_-1/red, do_fit = True, filtration = HeightFiltration(direction=array([-1, -1]), n_jobs=-1)\n",
      "Saving the result to ./19/train/filtrations/6/HeightFiltrartion_-1_-1/red/diagrams.npy\n",
      "DiagramVectorizer: fitting complete\n"
     ]
    },
    {
     "name": "stderr",
     "output_type": "stream",
     "text": [
      "DiagramVectorizer: batch: 100%|██████████| 98/98 [00:21<00:00,  4.48it/s]\n"
     ]
    },
    {
     "name": "stdout",
     "output_type": "stream",
     "text": [
      "Saving the result to ./19/train/filtrations/6/HeightFiltrartion_-1_-1/red/features.npy\n",
      "FiltrationExtractor: processing 19/train/filtrations/6/HeightFiltrartion_-1_-1/red, do_fit = False, filtration = HeightFiltration(direction=array([-1, -1]), n_jobs=-1)\n",
      "Got the result from ./19/train/filtrations/6/HeightFiltrartion_-1_-1/red/features.npy\n",
      "FiltrationExtractor: processing 19/train/filtrations/6/HeightFiltrartion_-1_-1/green, do_fit = True, filtration = HeightFiltration(direction=array([-1, -1]), n_jobs=-1)\n",
      "Saving the result to ./19/train/filtrations/6/HeightFiltrartion_-1_-1/green/diagrams.npy\n",
      "DiagramVectorizer: fitting complete\n"
     ]
    },
    {
     "name": "stderr",
     "output_type": "stream",
     "text": [
      "DiagramVectorizer: batch: 100%|██████████| 98/98 [00:19<00:00,  5.05it/s]\n"
     ]
    },
    {
     "name": "stdout",
     "output_type": "stream",
     "text": [
      "Saving the result to ./19/train/filtrations/6/HeightFiltrartion_-1_-1/green/features.npy\n",
      "FiltrationExtractor: processing 19/train/filtrations/6/HeightFiltrartion_-1_-1/green, do_fit = False, filtration = HeightFiltration(direction=array([-1, -1]), n_jobs=-1)\n",
      "Got the result from ./19/train/filtrations/6/HeightFiltrartion_-1_-1/green/features.npy\n",
      "FiltrationExtractor: processing 19/train/filtrations/6/HeightFiltrartion_-1_-1/blue, do_fit = True, filtration = HeightFiltration(direction=array([-1, -1]), n_jobs=-1)\n",
      "Saving the result to ./19/train/filtrations/6/HeightFiltrartion_-1_-1/blue/diagrams.npy\n",
      "DiagramVectorizer: fitting complete\n"
     ]
    },
    {
     "name": "stderr",
     "output_type": "stream",
     "text": [
      "DiagramVectorizer: batch: 100%|██████████| 98/98 [00:22<00:00,  4.33it/s]\n"
     ]
    },
    {
     "name": "stdout",
     "output_type": "stream",
     "text": [
      "Saving the result to ./19/train/filtrations/6/HeightFiltrartion_-1_-1/blue/features.npy\n",
      "FiltrationExtractor: processing 19/train/filtrations/6/HeightFiltrartion_-1_-1/blue, do_fit = False, filtration = HeightFiltration(direction=array([-1, -1]), n_jobs=-1)\n",
      "Got the result from ./19/train/filtrations/6/HeightFiltrartion_-1_-1/blue/features.npy\n",
      "Fitting filtration 59/116: 6/HeightFiltrartion_1_1\n",
      "RGB images received. Transforming to grayscale.\n"
     ]
    },
    {
     "name": "stderr",
     "output_type": "stream",
     "text": [
      "rgb2gray: 100%|██████████| 50000/50000 [00:04<00:00, 12320.91it/s]\n"
     ]
    },
    {
     "name": "stdout",
     "output_type": "stream",
     "text": [
      "FiltrationExtractor: processing 19/train/filtrations/6/HeightFiltrartion_1_1/gray, do_fit = True, filtration = HeightFiltration(direction=array([1, 1]), n_jobs=-1)\n",
      "Saving the result to ./19/train/filtrations/6/HeightFiltrartion_1_1/gray/diagrams.npy\n",
      "DiagramVectorizer: fitting complete\n"
     ]
    },
    {
     "name": "stderr",
     "output_type": "stream",
     "text": [
      "DiagramVectorizer: batch: 100%|██████████| 98/98 [00:21<00:00,  4.64it/s]\n"
     ]
    },
    {
     "name": "stdout",
     "output_type": "stream",
     "text": [
      "Saving the result to ./19/train/filtrations/6/HeightFiltrartion_1_1/gray/features.npy\n",
      "FiltrationExtractor: processing 19/train/filtrations/6/HeightFiltrartion_1_1/gray, do_fit = False, filtration = HeightFiltration(direction=array([1, 1]), n_jobs=-1)\n",
      "Got the result from ./19/train/filtrations/6/HeightFiltrartion_1_1/gray/features.npy\n",
      "FiltrationExtractor: processing 19/train/filtrations/6/HeightFiltrartion_1_1/red, do_fit = True, filtration = HeightFiltration(direction=array([1, 1]), n_jobs=-1)\n",
      "Saving the result to ./19/train/filtrations/6/HeightFiltrartion_1_1/red/diagrams.npy\n",
      "DiagramVectorizer: fitting complete\n"
     ]
    },
    {
     "name": "stderr",
     "output_type": "stream",
     "text": [
      "DiagramVectorizer: batch: 100%|██████████| 98/98 [00:20<00:00,  4.78it/s]\n"
     ]
    },
    {
     "name": "stdout",
     "output_type": "stream",
     "text": [
      "Saving the result to ./19/train/filtrations/6/HeightFiltrartion_1_1/red/features.npy\n",
      "FiltrationExtractor: processing 19/train/filtrations/6/HeightFiltrartion_1_1/red, do_fit = False, filtration = HeightFiltration(direction=array([1, 1]), n_jobs=-1)\n",
      "Got the result from ./19/train/filtrations/6/HeightFiltrartion_1_1/red/features.npy\n",
      "FiltrationExtractor: processing 19/train/filtrations/6/HeightFiltrartion_1_1/green, do_fit = True, filtration = HeightFiltration(direction=array([1, 1]), n_jobs=-1)\n",
      "Saving the result to ./19/train/filtrations/6/HeightFiltrartion_1_1/green/diagrams.npy\n",
      "DiagramVectorizer: fitting complete\n"
     ]
    },
    {
     "name": "stderr",
     "output_type": "stream",
     "text": [
      "DiagramVectorizer: batch: 100%|██████████| 98/98 [00:21<00:00,  4.55it/s]\n"
     ]
    },
    {
     "name": "stdout",
     "output_type": "stream",
     "text": [
      "Saving the result to ./19/train/filtrations/6/HeightFiltrartion_1_1/green/features.npy\n",
      "FiltrationExtractor: processing 19/train/filtrations/6/HeightFiltrartion_1_1/green, do_fit = False, filtration = HeightFiltration(direction=array([1, 1]), n_jobs=-1)\n",
      "Got the result from ./19/train/filtrations/6/HeightFiltrartion_1_1/green/features.npy\n",
      "FiltrationExtractor: processing 19/train/filtrations/6/HeightFiltrartion_1_1/blue, do_fit = True, filtration = HeightFiltration(direction=array([1, 1]), n_jobs=-1)\n",
      "Saving the result to ./19/train/filtrations/6/HeightFiltrartion_1_1/blue/diagrams.npy\n",
      "DiagramVectorizer: fitting complete\n"
     ]
    },
    {
     "name": "stderr",
     "output_type": "stream",
     "text": [
      "DiagramVectorizer: batch: 100%|██████████| 98/98 [00:19<00:00,  5.15it/s]\n"
     ]
    },
    {
     "name": "stdout",
     "output_type": "stream",
     "text": [
      "Saving the result to ./19/train/filtrations/6/HeightFiltrartion_1_1/blue/features.npy\n",
      "FiltrationExtractor: processing 19/train/filtrations/6/HeightFiltrartion_1_1/blue, do_fit = False, filtration = HeightFiltration(direction=array([1, 1]), n_jobs=-1)\n",
      "Got the result from ./19/train/filtrations/6/HeightFiltrartion_1_1/blue/features.npy\n",
      "Fitting filtration 60/116: 6/HeightFiltrartion_1_-1\n",
      "RGB images received. Transforming to grayscale.\n"
     ]
    },
    {
     "name": "stderr",
     "output_type": "stream",
     "text": [
      "rgb2gray: 100%|██████████| 50000/50000 [00:03<00:00, 13515.99it/s]\n"
     ]
    },
    {
     "name": "stdout",
     "output_type": "stream",
     "text": [
      "FiltrationExtractor: processing 19/train/filtrations/6/HeightFiltrartion_1_-1/gray, do_fit = True, filtration = HeightFiltration(direction=array([ 1, -1]), n_jobs=-1)\n",
      "Saving the result to ./19/train/filtrations/6/HeightFiltrartion_1_-1/gray/diagrams.npy\n",
      "DiagramVectorizer: fitting complete\n"
     ]
    },
    {
     "name": "stderr",
     "output_type": "stream",
     "text": [
      "DiagramVectorizer: batch: 100%|██████████| 98/98 [00:20<00:00,  4.85it/s]\n"
     ]
    },
    {
     "name": "stdout",
     "output_type": "stream",
     "text": [
      "Saving the result to ./19/train/filtrations/6/HeightFiltrartion_1_-1/gray/features.npy\n",
      "FiltrationExtractor: processing 19/train/filtrations/6/HeightFiltrartion_1_-1/gray, do_fit = False, filtration = HeightFiltration(direction=array([ 1, -1]), n_jobs=-1)\n",
      "Got the result from ./19/train/filtrations/6/HeightFiltrartion_1_-1/gray/features.npy\n",
      "FiltrationExtractor: processing 19/train/filtrations/6/HeightFiltrartion_1_-1/red, do_fit = True, filtration = HeightFiltration(direction=array([ 1, -1]), n_jobs=-1)\n",
      "Saving the result to ./19/train/filtrations/6/HeightFiltrartion_1_-1/red/diagrams.npy\n",
      "DiagramVectorizer: fitting complete\n"
     ]
    },
    {
     "name": "stderr",
     "output_type": "stream",
     "text": [
      "DiagramVectorizer: batch: 100%|██████████| 98/98 [00:20<00:00,  4.84it/s]\n"
     ]
    },
    {
     "name": "stdout",
     "output_type": "stream",
     "text": [
      "Saving the result to ./19/train/filtrations/6/HeightFiltrartion_1_-1/red/features.npy\n",
      "FiltrationExtractor: processing 19/train/filtrations/6/HeightFiltrartion_1_-1/red, do_fit = False, filtration = HeightFiltration(direction=array([ 1, -1]), n_jobs=-1)\n",
      "Got the result from ./19/train/filtrations/6/HeightFiltrartion_1_-1/red/features.npy\n",
      "FiltrationExtractor: processing 19/train/filtrations/6/HeightFiltrartion_1_-1/green, do_fit = True, filtration = HeightFiltration(direction=array([ 1, -1]), n_jobs=-1)\n",
      "Saving the result to ./19/train/filtrations/6/HeightFiltrartion_1_-1/green/diagrams.npy\n",
      "DiagramVectorizer: fitting complete\n"
     ]
    },
    {
     "name": "stderr",
     "output_type": "stream",
     "text": [
      "DiagramVectorizer: batch: 100%|██████████| 98/98 [00:19<00:00,  4.98it/s]\n"
     ]
    },
    {
     "name": "stdout",
     "output_type": "stream",
     "text": [
      "Saving the result to ./19/train/filtrations/6/HeightFiltrartion_1_-1/green/features.npy\n",
      "FiltrationExtractor: processing 19/train/filtrations/6/HeightFiltrartion_1_-1/green, do_fit = False, filtration = HeightFiltration(direction=array([ 1, -1]), n_jobs=-1)\n",
      "Got the result from ./19/train/filtrations/6/HeightFiltrartion_1_-1/green/features.npy\n",
      "FiltrationExtractor: processing 19/train/filtrations/6/HeightFiltrartion_1_-1/blue, do_fit = True, filtration = HeightFiltration(direction=array([ 1, -1]), n_jobs=-1)\n",
      "Saving the result to ./19/train/filtrations/6/HeightFiltrartion_1_-1/blue/diagrams.npy\n",
      "DiagramVectorizer: fitting complete\n"
     ]
    },
    {
     "name": "stderr",
     "output_type": "stream",
     "text": [
      "DiagramVectorizer: batch: 100%|██████████| 98/98 [00:18<00:00,  5.26it/s]\n"
     ]
    },
    {
     "name": "stdout",
     "output_type": "stream",
     "text": [
      "Saving the result to ./19/train/filtrations/6/HeightFiltrartion_1_-1/blue/features.npy\n",
      "FiltrationExtractor: processing 19/train/filtrations/6/HeightFiltrartion_1_-1/blue, do_fit = False, filtration = HeightFiltration(direction=array([ 1, -1]), n_jobs=-1)\n",
      "Got the result from ./19/train/filtrations/6/HeightFiltrartion_1_-1/blue/features.npy\n",
      "Fitting filtration 61/116: 6/HeightFiltrartion_-1_1\n",
      "RGB images received. Transforming to grayscale.\n"
     ]
    },
    {
     "name": "stderr",
     "output_type": "stream",
     "text": [
      "rgb2gray: 100%|██████████| 50000/50000 [00:03<00:00, 13900.77it/s]\n"
     ]
    },
    {
     "name": "stdout",
     "output_type": "stream",
     "text": [
      "FiltrationExtractor: processing 19/train/filtrations/6/HeightFiltrartion_-1_1/gray, do_fit = True, filtration = HeightFiltration(direction=array([-1,  1]), n_jobs=-1)\n",
      "Saving the result to ./19/train/filtrations/6/HeightFiltrartion_-1_1/gray/diagrams.npy\n",
      "DiagramVectorizer: fitting complete\n"
     ]
    },
    {
     "name": "stderr",
     "output_type": "stream",
     "text": [
      "DiagramVectorizer: batch: 100%|██████████| 98/98 [00:19<00:00,  5.14it/s]\n"
     ]
    },
    {
     "name": "stdout",
     "output_type": "stream",
     "text": [
      "Saving the result to ./19/train/filtrations/6/HeightFiltrartion_-1_1/gray/features.npy\n",
      "FiltrationExtractor: processing 19/train/filtrations/6/HeightFiltrartion_-1_1/gray, do_fit = False, filtration = HeightFiltration(direction=array([-1,  1]), n_jobs=-1)\n",
      "Got the result from ./19/train/filtrations/6/HeightFiltrartion_-1_1/gray/features.npy\n",
      "FiltrationExtractor: processing 19/train/filtrations/6/HeightFiltrartion_-1_1/red, do_fit = True, filtration = HeightFiltration(direction=array([-1,  1]), n_jobs=-1)\n",
      "Saving the result to ./19/train/filtrations/6/HeightFiltrartion_-1_1/red/diagrams.npy\n",
      "DiagramVectorizer: fitting complete\n"
     ]
    },
    {
     "name": "stderr",
     "output_type": "stream",
     "text": [
      "DiagramVectorizer: batch: 100%|██████████| 98/98 [00:20<00:00,  4.83it/s]\n"
     ]
    },
    {
     "name": "stdout",
     "output_type": "stream",
     "text": [
      "Saving the result to ./19/train/filtrations/6/HeightFiltrartion_-1_1/red/features.npy\n",
      "FiltrationExtractor: processing 19/train/filtrations/6/HeightFiltrartion_-1_1/red, do_fit = False, filtration = HeightFiltration(direction=array([-1,  1]), n_jobs=-1)\n",
      "Got the result from ./19/train/filtrations/6/HeightFiltrartion_-1_1/red/features.npy\n",
      "FiltrationExtractor: processing 19/train/filtrations/6/HeightFiltrartion_-1_1/green, do_fit = True, filtration = HeightFiltration(direction=array([-1,  1]), n_jobs=-1)\n",
      "Saving the result to ./19/train/filtrations/6/HeightFiltrartion_-1_1/green/diagrams.npy\n",
      "DiagramVectorizer: fitting complete\n"
     ]
    },
    {
     "name": "stderr",
     "output_type": "stream",
     "text": [
      "DiagramVectorizer: batch: 100%|██████████| 98/98 [00:19<00:00,  4.95it/s]\n"
     ]
    },
    {
     "name": "stdout",
     "output_type": "stream",
     "text": [
      "Saving the result to ./19/train/filtrations/6/HeightFiltrartion_-1_1/green/features.npy\n",
      "FiltrationExtractor: processing 19/train/filtrations/6/HeightFiltrartion_-1_1/green, do_fit = False, filtration = HeightFiltration(direction=array([-1,  1]), n_jobs=-1)\n",
      "Got the result from ./19/train/filtrations/6/HeightFiltrartion_-1_1/green/features.npy\n",
      "FiltrationExtractor: processing 19/train/filtrations/6/HeightFiltrartion_-1_1/blue, do_fit = True, filtration = HeightFiltration(direction=array([-1,  1]), n_jobs=-1)\n",
      "Saving the result to ./19/train/filtrations/6/HeightFiltrartion_-1_1/blue/diagrams.npy\n",
      "DiagramVectorizer: fitting complete\n"
     ]
    },
    {
     "name": "stderr",
     "output_type": "stream",
     "text": [
      "DiagramVectorizer: batch: 100%|██████████| 98/98 [00:19<00:00,  4.92it/s]\n"
     ]
    },
    {
     "name": "stdout",
     "output_type": "stream",
     "text": [
      "Saving the result to ./19/train/filtrations/6/HeightFiltrartion_-1_1/blue/features.npy\n",
      "FiltrationExtractor: processing 19/train/filtrations/6/HeightFiltrartion_-1_1/blue, do_fit = False, filtration = HeightFiltration(direction=array([-1,  1]), n_jobs=-1)\n",
      "Got the result from ./19/train/filtrations/6/HeightFiltrartion_-1_1/blue/features.npy\n",
      "Fitting filtration 62/116: 6/HeightFiltrartion_0_-1\n",
      "RGB images received. Transforming to grayscale.\n"
     ]
    },
    {
     "name": "stderr",
     "output_type": "stream",
     "text": [
      "rgb2gray: 100%|██████████| 50000/50000 [00:03<00:00, 12871.66it/s]\n"
     ]
    },
    {
     "name": "stdout",
     "output_type": "stream",
     "text": [
      "FiltrationExtractor: processing 19/train/filtrations/6/HeightFiltrartion_0_-1/gray, do_fit = True, filtration = HeightFiltration(direction=array([ 0, -1]), n_jobs=-1)\n",
      "Saving the result to ./19/train/filtrations/6/HeightFiltrartion_0_-1/gray/diagrams.npy\n",
      "DiagramVectorizer: fitting complete\n"
     ]
    },
    {
     "name": "stderr",
     "output_type": "stream",
     "text": [
      "DiagramVectorizer: batch: 100%|██████████| 98/98 [00:21<00:00,  4.65it/s]\n"
     ]
    },
    {
     "name": "stdout",
     "output_type": "stream",
     "text": [
      "Saving the result to ./19/train/filtrations/6/HeightFiltrartion_0_-1/gray/features.npy\n",
      "FiltrationExtractor: processing 19/train/filtrations/6/HeightFiltrartion_0_-1/gray, do_fit = False, filtration = HeightFiltration(direction=array([ 0, -1]), n_jobs=-1)\n",
      "Got the result from ./19/train/filtrations/6/HeightFiltrartion_0_-1/gray/features.npy\n",
      "FiltrationExtractor: processing 19/train/filtrations/6/HeightFiltrartion_0_-1/red, do_fit = True, filtration = HeightFiltration(direction=array([ 0, -1]), n_jobs=-1)\n",
      "Saving the result to ./19/train/filtrations/6/HeightFiltrartion_0_-1/red/diagrams.npy\n",
      "DiagramVectorizer: fitting complete\n"
     ]
    },
    {
     "name": "stderr",
     "output_type": "stream",
     "text": [
      "DiagramVectorizer: batch: 100%|██████████| 98/98 [00:21<00:00,  4.61it/s]\n"
     ]
    },
    {
     "name": "stdout",
     "output_type": "stream",
     "text": [
      "Saving the result to ./19/train/filtrations/6/HeightFiltrartion_0_-1/red/features.npy\n",
      "FiltrationExtractor: processing 19/train/filtrations/6/HeightFiltrartion_0_-1/red, do_fit = False, filtration = HeightFiltration(direction=array([ 0, -1]), n_jobs=-1)\n",
      "Got the result from ./19/train/filtrations/6/HeightFiltrartion_0_-1/red/features.npy\n",
      "FiltrationExtractor: processing 19/train/filtrations/6/HeightFiltrartion_0_-1/green, do_fit = True, filtration = HeightFiltration(direction=array([ 0, -1]), n_jobs=-1)\n",
      "Saving the result to ./19/train/filtrations/6/HeightFiltrartion_0_-1/green/diagrams.npy\n",
      "DiagramVectorizer: fitting complete\n"
     ]
    },
    {
     "name": "stderr",
     "output_type": "stream",
     "text": [
      "DiagramVectorizer: batch: 100%|██████████| 98/98 [00:20<00:00,  4.80it/s]\n"
     ]
    },
    {
     "name": "stdout",
     "output_type": "stream",
     "text": [
      "Saving the result to ./19/train/filtrations/6/HeightFiltrartion_0_-1/green/features.npy\n",
      "FiltrationExtractor: processing 19/train/filtrations/6/HeightFiltrartion_0_-1/green, do_fit = False, filtration = HeightFiltration(direction=array([ 0, -1]), n_jobs=-1)\n",
      "Got the result from ./19/train/filtrations/6/HeightFiltrartion_0_-1/green/features.npy\n",
      "FiltrationExtractor: processing 19/train/filtrations/6/HeightFiltrartion_0_-1/blue, do_fit = True, filtration = HeightFiltration(direction=array([ 0, -1]), n_jobs=-1)\n",
      "Saving the result to ./19/train/filtrations/6/HeightFiltrartion_0_-1/blue/diagrams.npy\n",
      "DiagramVectorizer: fitting complete\n"
     ]
    },
    {
     "name": "stderr",
     "output_type": "stream",
     "text": [
      "DiagramVectorizer: batch: 100%|██████████| 98/98 [00:19<00:00,  5.03it/s]\n"
     ]
    },
    {
     "name": "stdout",
     "output_type": "stream",
     "text": [
      "Saving the result to ./19/train/filtrations/6/HeightFiltrartion_0_-1/blue/features.npy\n",
      "FiltrationExtractor: processing 19/train/filtrations/6/HeightFiltrartion_0_-1/blue, do_fit = False, filtration = HeightFiltration(direction=array([ 0, -1]), n_jobs=-1)\n",
      "Got the result from ./19/train/filtrations/6/HeightFiltrartion_0_-1/blue/features.npy\n",
      "Fitting filtration 63/116: 6/HeightFiltrartion_0_1\n",
      "RGB images received. Transforming to grayscale.\n"
     ]
    },
    {
     "name": "stderr",
     "output_type": "stream",
     "text": [
      "rgb2gray: 100%|██████████| 50000/50000 [00:03<00:00, 13638.05it/s]\n"
     ]
    },
    {
     "name": "stdout",
     "output_type": "stream",
     "text": [
      "FiltrationExtractor: processing 19/train/filtrations/6/HeightFiltrartion_0_1/gray, do_fit = True, filtration = HeightFiltration(direction=array([0, 1]), n_jobs=-1)\n",
      "Saving the result to ./19/train/filtrations/6/HeightFiltrartion_0_1/gray/diagrams.npy\n",
      "DiagramVectorizer: fitting complete\n"
     ]
    },
    {
     "name": "stderr",
     "output_type": "stream",
     "text": [
      "DiagramVectorizer: batch: 100%|██████████| 98/98 [00:21<00:00,  4.65it/s]\n"
     ]
    },
    {
     "name": "stdout",
     "output_type": "stream",
     "text": [
      "Saving the result to ./19/train/filtrations/6/HeightFiltrartion_0_1/gray/features.npy\n",
      "FiltrationExtractor: processing 19/train/filtrations/6/HeightFiltrartion_0_1/gray, do_fit = False, filtration = HeightFiltration(direction=array([0, 1]), n_jobs=-1)\n",
      "Got the result from ./19/train/filtrations/6/HeightFiltrartion_0_1/gray/features.npy\n",
      "FiltrationExtractor: processing 19/train/filtrations/6/HeightFiltrartion_0_1/red, do_fit = True, filtration = HeightFiltration(direction=array([0, 1]), n_jobs=-1)\n",
      "Saving the result to ./19/train/filtrations/6/HeightFiltrartion_0_1/red/diagrams.npy\n",
      "DiagramVectorizer: fitting complete\n"
     ]
    },
    {
     "name": "stderr",
     "output_type": "stream",
     "text": [
      "DiagramVectorizer: batch: 100%|██████████| 98/98 [00:21<00:00,  4.57it/s]\n"
     ]
    },
    {
     "name": "stdout",
     "output_type": "stream",
     "text": [
      "Saving the result to ./19/train/filtrations/6/HeightFiltrartion_0_1/red/features.npy\n",
      "FiltrationExtractor: processing 19/train/filtrations/6/HeightFiltrartion_0_1/red, do_fit = False, filtration = HeightFiltration(direction=array([0, 1]), n_jobs=-1)\n",
      "Got the result from ./19/train/filtrations/6/HeightFiltrartion_0_1/red/features.npy\n",
      "FiltrationExtractor: processing 19/train/filtrations/6/HeightFiltrartion_0_1/green, do_fit = True, filtration = HeightFiltration(direction=array([0, 1]), n_jobs=-1)\n",
      "Saving the result to ./19/train/filtrations/6/HeightFiltrartion_0_1/green/diagrams.npy\n",
      "DiagramVectorizer: fitting complete\n"
     ]
    },
    {
     "name": "stderr",
     "output_type": "stream",
     "text": [
      "DiagramVectorizer: batch: 100%|██████████| 98/98 [00:20<00:00,  4.82it/s]\n"
     ]
    },
    {
     "name": "stdout",
     "output_type": "stream",
     "text": [
      "Saving the result to ./19/train/filtrations/6/HeightFiltrartion_0_1/green/features.npy\n",
      "FiltrationExtractor: processing 19/train/filtrations/6/HeightFiltrartion_0_1/green, do_fit = False, filtration = HeightFiltration(direction=array([0, 1]), n_jobs=-1)\n",
      "Got the result from ./19/train/filtrations/6/HeightFiltrartion_0_1/green/features.npy\n",
      "FiltrationExtractor: processing 19/train/filtrations/6/HeightFiltrartion_0_1/blue, do_fit = True, filtration = HeightFiltration(direction=array([0, 1]), n_jobs=-1)\n",
      "Saving the result to ./19/train/filtrations/6/HeightFiltrartion_0_1/blue/diagrams.npy\n",
      "DiagramVectorizer: fitting complete\n"
     ]
    },
    {
     "name": "stderr",
     "output_type": "stream",
     "text": [
      "DiagramVectorizer: batch: 100%|██████████| 98/98 [00:19<00:00,  4.95it/s]\n"
     ]
    },
    {
     "name": "stdout",
     "output_type": "stream",
     "text": [
      "Saving the result to ./19/train/filtrations/6/HeightFiltrartion_0_1/blue/features.npy\n",
      "FiltrationExtractor: processing 19/train/filtrations/6/HeightFiltrartion_0_1/blue, do_fit = False, filtration = HeightFiltration(direction=array([0, 1]), n_jobs=-1)\n",
      "Got the result from ./19/train/filtrations/6/HeightFiltrartion_0_1/blue/features.npy\n",
      "Fitting filtration 64/116: 6/HeightFiltrartion_-1_0\n",
      "RGB images received. Transforming to grayscale.\n"
     ]
    },
    {
     "name": "stderr",
     "output_type": "stream",
     "text": [
      "rgb2gray: 100%|██████████| 50000/50000 [00:03<00:00, 12822.52it/s]\n"
     ]
    },
    {
     "name": "stdout",
     "output_type": "stream",
     "text": [
      "FiltrationExtractor: processing 19/train/filtrations/6/HeightFiltrartion_-1_0/gray, do_fit = True, filtration = HeightFiltration(direction=array([-1,  0]), n_jobs=-1)\n",
      "Saving the result to ./19/train/filtrations/6/HeightFiltrartion_-1_0/gray/diagrams.npy\n",
      "DiagramVectorizer: fitting complete\n"
     ]
    },
    {
     "name": "stderr",
     "output_type": "stream",
     "text": [
      "DiagramVectorizer: batch: 100%|██████████| 98/98 [00:21<00:00,  4.65it/s]\n"
     ]
    },
    {
     "name": "stdout",
     "output_type": "stream",
     "text": [
      "Saving the result to ./19/train/filtrations/6/HeightFiltrartion_-1_0/gray/features.npy\n",
      "FiltrationExtractor: processing 19/train/filtrations/6/HeightFiltrartion_-1_0/gray, do_fit = False, filtration = HeightFiltration(direction=array([-1,  0]), n_jobs=-1)\n",
      "Got the result from ./19/train/filtrations/6/HeightFiltrartion_-1_0/gray/features.npy\n",
      "FiltrationExtractor: processing 19/train/filtrations/6/HeightFiltrartion_-1_0/red, do_fit = True, filtration = HeightFiltration(direction=array([-1,  0]), n_jobs=-1)\n",
      "Saving the result to ./19/train/filtrations/6/HeightFiltrartion_-1_0/red/diagrams.npy\n",
      "DiagramVectorizer: fitting complete\n"
     ]
    },
    {
     "name": "stderr",
     "output_type": "stream",
     "text": [
      "DiagramVectorizer: batch: 100%|██████████| 98/98 [00:20<00:00,  4.76it/s]\n"
     ]
    },
    {
     "name": "stdout",
     "output_type": "stream",
     "text": [
      "Saving the result to ./19/train/filtrations/6/HeightFiltrartion_-1_0/red/features.npy\n",
      "FiltrationExtractor: processing 19/train/filtrations/6/HeightFiltrartion_-1_0/red, do_fit = False, filtration = HeightFiltration(direction=array([-1,  0]), n_jobs=-1)\n",
      "Got the result from ./19/train/filtrations/6/HeightFiltrartion_-1_0/red/features.npy\n",
      "FiltrationExtractor: processing 19/train/filtrations/6/HeightFiltrartion_-1_0/green, do_fit = True, filtration = HeightFiltration(direction=array([-1,  0]), n_jobs=-1)\n",
      "Saving the result to ./19/train/filtrations/6/HeightFiltrartion_-1_0/green/diagrams.npy\n",
      "DiagramVectorizer: fitting complete\n"
     ]
    },
    {
     "name": "stderr",
     "output_type": "stream",
     "text": [
      "DiagramVectorizer: batch: 100%|██████████| 98/98 [00:19<00:00,  4.97it/s]\n"
     ]
    },
    {
     "name": "stdout",
     "output_type": "stream",
     "text": [
      "Saving the result to ./19/train/filtrations/6/HeightFiltrartion_-1_0/green/features.npy\n",
      "FiltrationExtractor: processing 19/train/filtrations/6/HeightFiltrartion_-1_0/green, do_fit = False, filtration = HeightFiltration(direction=array([-1,  0]), n_jobs=-1)\n",
      "Got the result from ./19/train/filtrations/6/HeightFiltrartion_-1_0/green/features.npy\n",
      "FiltrationExtractor: processing 19/train/filtrations/6/HeightFiltrartion_-1_0/blue, do_fit = True, filtration = HeightFiltration(direction=array([-1,  0]), n_jobs=-1)\n",
      "Saving the result to ./19/train/filtrations/6/HeightFiltrartion_-1_0/blue/diagrams.npy\n",
      "DiagramVectorizer: fitting complete\n"
     ]
    },
    {
     "name": "stderr",
     "output_type": "stream",
     "text": [
      "DiagramVectorizer: batch: 100%|██████████| 98/98 [00:19<00:00,  5.08it/s]\n"
     ]
    },
    {
     "name": "stdout",
     "output_type": "stream",
     "text": [
      "Saving the result to ./19/train/filtrations/6/HeightFiltrartion_-1_0/blue/features.npy\n",
      "FiltrationExtractor: processing 19/train/filtrations/6/HeightFiltrartion_-1_0/blue, do_fit = False, filtration = HeightFiltration(direction=array([-1,  0]), n_jobs=-1)\n",
      "Got the result from ./19/train/filtrations/6/HeightFiltrartion_-1_0/blue/features.npy\n",
      "Fitting filtration 65/116: 6/HeightFiltrartion_1_0\n",
      "RGB images received. Transforming to grayscale.\n"
     ]
    },
    {
     "name": "stderr",
     "output_type": "stream",
     "text": [
      "rgb2gray: 100%|██████████| 50000/50000 [00:03<00:00, 13308.99it/s]\n"
     ]
    },
    {
     "name": "stdout",
     "output_type": "stream",
     "text": [
      "FiltrationExtractor: processing 19/train/filtrations/6/HeightFiltrartion_1_0/gray, do_fit = True, filtration = HeightFiltration(direction=array([1, 0]), n_jobs=-1)\n",
      "Saving the result to ./19/train/filtrations/6/HeightFiltrartion_1_0/gray/diagrams.npy\n",
      "DiagramVectorizer: fitting complete\n"
     ]
    },
    {
     "name": "stderr",
     "output_type": "stream",
     "text": [
      "DiagramVectorizer: batch: 100%|██████████| 98/98 [00:20<00:00,  4.80it/s]\n"
     ]
    },
    {
     "name": "stdout",
     "output_type": "stream",
     "text": [
      "Saving the result to ./19/train/filtrations/6/HeightFiltrartion_1_0/gray/features.npy\n",
      "FiltrationExtractor: processing 19/train/filtrations/6/HeightFiltrartion_1_0/gray, do_fit = False, filtration = HeightFiltration(direction=array([1, 0]), n_jobs=-1)\n",
      "Got the result from ./19/train/filtrations/6/HeightFiltrartion_1_0/gray/features.npy\n",
      "FiltrationExtractor: processing 19/train/filtrations/6/HeightFiltrartion_1_0/red, do_fit = True, filtration = HeightFiltration(direction=array([1, 0]), n_jobs=-1)\n",
      "Saving the result to ./19/train/filtrations/6/HeightFiltrartion_1_0/red/diagrams.npy\n",
      "DiagramVectorizer: fitting complete\n"
     ]
    },
    {
     "name": "stderr",
     "output_type": "stream",
     "text": [
      "DiagramVectorizer: batch: 100%|██████████| 98/98 [00:21<00:00,  4.48it/s]\n"
     ]
    },
    {
     "name": "stdout",
     "output_type": "stream",
     "text": [
      "Saving the result to ./19/train/filtrations/6/HeightFiltrartion_1_0/red/features.npy\n",
      "FiltrationExtractor: processing 19/train/filtrations/6/HeightFiltrartion_1_0/red, do_fit = False, filtration = HeightFiltration(direction=array([1, 0]), n_jobs=-1)\n",
      "Got the result from ./19/train/filtrations/6/HeightFiltrartion_1_0/red/features.npy\n",
      "FiltrationExtractor: processing 19/train/filtrations/6/HeightFiltrartion_1_0/green, do_fit = True, filtration = HeightFiltration(direction=array([1, 0]), n_jobs=-1)\n",
      "Saving the result to ./19/train/filtrations/6/HeightFiltrartion_1_0/green/diagrams.npy\n",
      "DiagramVectorizer: fitting complete\n"
     ]
    },
    {
     "name": "stderr",
     "output_type": "stream",
     "text": [
      "DiagramVectorizer: batch: 100%|██████████| 98/98 [00:21<00:00,  4.64it/s]\n"
     ]
    },
    {
     "name": "stdout",
     "output_type": "stream",
     "text": [
      "Saving the result to ./19/train/filtrations/6/HeightFiltrartion_1_0/green/features.npy\n",
      "FiltrationExtractor: processing 19/train/filtrations/6/HeightFiltrartion_1_0/green, do_fit = False, filtration = HeightFiltration(direction=array([1, 0]), n_jobs=-1)\n",
      "Got the result from ./19/train/filtrations/6/HeightFiltrartion_1_0/green/features.npy\n",
      "FiltrationExtractor: processing 19/train/filtrations/6/HeightFiltrartion_1_0/blue, do_fit = True, filtration = HeightFiltration(direction=array([1, 0]), n_jobs=-1)\n",
      "Saving the result to ./19/train/filtrations/6/HeightFiltrartion_1_0/blue/diagrams.npy\n",
      "DiagramVectorizer: fitting complete\n"
     ]
    },
    {
     "name": "stderr",
     "output_type": "stream",
     "text": [
      "DiagramVectorizer: batch: 100%|██████████| 98/98 [00:19<00:00,  4.97it/s]\n"
     ]
    },
    {
     "name": "stdout",
     "output_type": "stream",
     "text": [
      "Saving the result to ./19/train/filtrations/6/HeightFiltrartion_1_0/blue/features.npy\n",
      "FiltrationExtractor: processing 19/train/filtrations/6/HeightFiltrartion_1_0/blue, do_fit = False, filtration = HeightFiltration(direction=array([1, 0]), n_jobs=-1)\n",
      "Got the result from ./19/train/filtrations/6/HeightFiltrartion_1_0/blue/features.npy\n",
      "Fitting filtration 66/116: 6/RadialFiltration_5_5\n",
      "RGB images received. Transforming to grayscale.\n"
     ]
    },
    {
     "name": "stderr",
     "output_type": "stream",
     "text": [
      "rgb2gray: 100%|██████████| 50000/50000 [00:03<00:00, 13133.70it/s]\n"
     ]
    },
    {
     "name": "stdout",
     "output_type": "stream",
     "text": [
      "FiltrationExtractor: processing 19/train/filtrations/6/RadialFiltration_5_5/gray, do_fit = True, filtration = RadialFiltration(center=array([5, 5]), n_jobs=-1)\n",
      "Saving the result to ./19/train/filtrations/6/RadialFiltration_5_5/gray/diagrams.npy\n",
      "DiagramVectorizer: fitting complete\n"
     ]
    },
    {
     "name": "stderr",
     "output_type": "stream",
     "text": [
      "DiagramVectorizer: batch: 100%|██████████| 98/98 [00:20<00:00,  4.75it/s]\n"
     ]
    },
    {
     "name": "stdout",
     "output_type": "stream",
     "text": [
      "Saving the result to ./19/train/filtrations/6/RadialFiltration_5_5/gray/features.npy\n",
      "FiltrationExtractor: processing 19/train/filtrations/6/RadialFiltration_5_5/gray, do_fit = False, filtration = RadialFiltration(center=array([5, 5]), n_jobs=-1)\n",
      "Got the result from ./19/train/filtrations/6/RadialFiltration_5_5/gray/features.npy\n",
      "FiltrationExtractor: processing 19/train/filtrations/6/RadialFiltration_5_5/red, do_fit = True, filtration = RadialFiltration(center=array([5, 5]), n_jobs=-1)\n",
      "Saving the result to ./19/train/filtrations/6/RadialFiltration_5_5/red/diagrams.npy\n",
      "DiagramVectorizer: fitting complete\n"
     ]
    },
    {
     "name": "stderr",
     "output_type": "stream",
     "text": [
      "DiagramVectorizer: batch: 100%|██████████| 98/98 [00:20<00:00,  4.73it/s]\n"
     ]
    },
    {
     "name": "stdout",
     "output_type": "stream",
     "text": [
      "Saving the result to ./19/train/filtrations/6/RadialFiltration_5_5/red/features.npy\n",
      "FiltrationExtractor: processing 19/train/filtrations/6/RadialFiltration_5_5/red, do_fit = False, filtration = RadialFiltration(center=array([5, 5]), n_jobs=-1)\n",
      "Got the result from ./19/train/filtrations/6/RadialFiltration_5_5/red/features.npy\n",
      "FiltrationExtractor: processing 19/train/filtrations/6/RadialFiltration_5_5/green, do_fit = True, filtration = RadialFiltration(center=array([5, 5]), n_jobs=-1)\n",
      "Saving the result to ./19/train/filtrations/6/RadialFiltration_5_5/green/diagrams.npy\n",
      "DiagramVectorizer: fitting complete\n"
     ]
    },
    {
     "name": "stderr",
     "output_type": "stream",
     "text": [
      "DiagramVectorizer: batch: 100%|██████████| 98/98 [00:20<00:00,  4.76it/s]\n"
     ]
    },
    {
     "name": "stdout",
     "output_type": "stream",
     "text": [
      "Saving the result to ./19/train/filtrations/6/RadialFiltration_5_5/green/features.npy\n",
      "FiltrationExtractor: processing 19/train/filtrations/6/RadialFiltration_5_5/green, do_fit = False, filtration = RadialFiltration(center=array([5, 5]), n_jobs=-1)\n",
      "Got the result from ./19/train/filtrations/6/RadialFiltration_5_5/green/features.npy\n",
      "FiltrationExtractor: processing 19/train/filtrations/6/RadialFiltration_5_5/blue, do_fit = True, filtration = RadialFiltration(center=array([5, 5]), n_jobs=-1)\n",
      "Saving the result to ./19/train/filtrations/6/RadialFiltration_5_5/blue/diagrams.npy\n",
      "DiagramVectorizer: fitting complete\n"
     ]
    },
    {
     "name": "stderr",
     "output_type": "stream",
     "text": [
      "DiagramVectorizer: batch: 100%|██████████| 98/98 [00:20<00:00,  4.79it/s]\n"
     ]
    },
    {
     "name": "stdout",
     "output_type": "stream",
     "text": [
      "Saving the result to ./19/train/filtrations/6/RadialFiltration_5_5/blue/features.npy\n",
      "FiltrationExtractor: processing 19/train/filtrations/6/RadialFiltration_5_5/blue, do_fit = False, filtration = RadialFiltration(center=array([5, 5]), n_jobs=-1)\n",
      "Got the result from ./19/train/filtrations/6/RadialFiltration_5_5/blue/features.npy\n",
      "Fitting filtration 67/116: 6/RadialFiltration_5_12\n",
      "RGB images received. Transforming to grayscale.\n"
     ]
    },
    {
     "name": "stderr",
     "output_type": "stream",
     "text": [
      "rgb2gray: 100%|██████████| 50000/50000 [00:03<00:00, 12820.70it/s]\n"
     ]
    },
    {
     "name": "stdout",
     "output_type": "stream",
     "text": [
      "FiltrationExtractor: processing 19/train/filtrations/6/RadialFiltration_5_12/gray, do_fit = True, filtration = RadialFiltration(center=array([ 5, 12]), n_jobs=-1)\n",
      "Saving the result to ./19/train/filtrations/6/RadialFiltration_5_12/gray/diagrams.npy\n",
      "DiagramVectorizer: fitting complete\n"
     ]
    },
    {
     "name": "stderr",
     "output_type": "stream",
     "text": [
      "DiagramVectorizer: batch: 100%|██████████| 98/98 [00:21<00:00,  4.48it/s]\n"
     ]
    },
    {
     "name": "stdout",
     "output_type": "stream",
     "text": [
      "Saving the result to ./19/train/filtrations/6/RadialFiltration_5_12/gray/features.npy\n",
      "FiltrationExtractor: processing 19/train/filtrations/6/RadialFiltration_5_12/gray, do_fit = False, filtration = RadialFiltration(center=array([ 5, 12]), n_jobs=-1)\n",
      "Got the result from ./19/train/filtrations/6/RadialFiltration_5_12/gray/features.npy\n",
      "FiltrationExtractor: processing 19/train/filtrations/6/RadialFiltration_5_12/red, do_fit = True, filtration = RadialFiltration(center=array([ 5, 12]), n_jobs=-1)\n",
      "Saving the result to ./19/train/filtrations/6/RadialFiltration_5_12/red/diagrams.npy\n",
      "DiagramVectorizer: fitting complete\n"
     ]
    },
    {
     "name": "stderr",
     "output_type": "stream",
     "text": [
      "DiagramVectorizer: batch: 100%|██████████| 98/98 [00:22<00:00,  4.37it/s]\n"
     ]
    },
    {
     "name": "stdout",
     "output_type": "stream",
     "text": [
      "Saving the result to ./19/train/filtrations/6/RadialFiltration_5_12/red/features.npy\n",
      "FiltrationExtractor: processing 19/train/filtrations/6/RadialFiltration_5_12/red, do_fit = False, filtration = RadialFiltration(center=array([ 5, 12]), n_jobs=-1)\n",
      "Got the result from ./19/train/filtrations/6/RadialFiltration_5_12/red/features.npy\n",
      "FiltrationExtractor: processing 19/train/filtrations/6/RadialFiltration_5_12/green, do_fit = True, filtration = RadialFiltration(center=array([ 5, 12]), n_jobs=-1)\n",
      "Saving the result to ./19/train/filtrations/6/RadialFiltration_5_12/green/diagrams.npy\n",
      "DiagramVectorizer: fitting complete\n"
     ]
    },
    {
     "name": "stderr",
     "output_type": "stream",
     "text": [
      "DiagramVectorizer: batch: 100%|██████████| 98/98 [00:23<00:00,  4.21it/s]\n"
     ]
    },
    {
     "name": "stdout",
     "output_type": "stream",
     "text": [
      "Saving the result to ./19/train/filtrations/6/RadialFiltration_5_12/green/features.npy\n",
      "FiltrationExtractor: processing 19/train/filtrations/6/RadialFiltration_5_12/green, do_fit = False, filtration = RadialFiltration(center=array([ 5, 12]), n_jobs=-1)\n",
      "Got the result from ./19/train/filtrations/6/RadialFiltration_5_12/green/features.npy\n",
      "FiltrationExtractor: processing 19/train/filtrations/6/RadialFiltration_5_12/blue, do_fit = True, filtration = RadialFiltration(center=array([ 5, 12]), n_jobs=-1)\n",
      "Saving the result to ./19/train/filtrations/6/RadialFiltration_5_12/blue/diagrams.npy\n",
      "DiagramVectorizer: fitting complete\n"
     ]
    },
    {
     "name": "stderr",
     "output_type": "stream",
     "text": [
      "DiagramVectorizer: batch: 100%|██████████| 98/98 [00:21<00:00,  4.55it/s]\n"
     ]
    },
    {
     "name": "stdout",
     "output_type": "stream",
     "text": [
      "Saving the result to ./19/train/filtrations/6/RadialFiltration_5_12/blue/features.npy\n",
      "FiltrationExtractor: processing 19/train/filtrations/6/RadialFiltration_5_12/blue, do_fit = False, filtration = RadialFiltration(center=array([ 5, 12]), n_jobs=-1)\n",
      "Got the result from ./19/train/filtrations/6/RadialFiltration_5_12/blue/features.npy\n",
      "Fitting filtration 68/116: 6/RadialFiltration_5_19\n",
      "RGB images received. Transforming to grayscale.\n"
     ]
    },
    {
     "name": "stderr",
     "output_type": "stream",
     "text": [
      "rgb2gray: 100%|██████████| 50000/50000 [00:03<00:00, 13170.17it/s]\n"
     ]
    },
    {
     "name": "stdout",
     "output_type": "stream",
     "text": [
      "FiltrationExtractor: processing 19/train/filtrations/6/RadialFiltration_5_19/gray, do_fit = True, filtration = RadialFiltration(center=array([ 5, 19]), n_jobs=-1)\n",
      "Saving the result to ./19/train/filtrations/6/RadialFiltration_5_19/gray/diagrams.npy\n",
      "DiagramVectorizer: fitting complete\n"
     ]
    },
    {
     "name": "stderr",
     "output_type": "stream",
     "text": [
      "DiagramVectorizer: batch: 100%|██████████| 98/98 [00:21<00:00,  4.48it/s]\n"
     ]
    },
    {
     "name": "stdout",
     "output_type": "stream",
     "text": [
      "Saving the result to ./19/train/filtrations/6/RadialFiltration_5_19/gray/features.npy\n",
      "FiltrationExtractor: processing 19/train/filtrations/6/RadialFiltration_5_19/gray, do_fit = False, filtration = RadialFiltration(center=array([ 5, 19]), n_jobs=-1)\n",
      "Got the result from ./19/train/filtrations/6/RadialFiltration_5_19/gray/features.npy\n",
      "FiltrationExtractor: processing 19/train/filtrations/6/RadialFiltration_5_19/red, do_fit = True, filtration = RadialFiltration(center=array([ 5, 19]), n_jobs=-1)\n",
      "Saving the result to ./19/train/filtrations/6/RadialFiltration_5_19/red/diagrams.npy\n",
      "DiagramVectorizer: fitting complete\n"
     ]
    },
    {
     "name": "stderr",
     "output_type": "stream",
     "text": [
      "DiagramVectorizer: batch: 100%|██████████| 98/98 [00:20<00:00,  4.77it/s]\n"
     ]
    },
    {
     "name": "stdout",
     "output_type": "stream",
     "text": [
      "Saving the result to ./19/train/filtrations/6/RadialFiltration_5_19/red/features.npy\n",
      "FiltrationExtractor: processing 19/train/filtrations/6/RadialFiltration_5_19/red, do_fit = False, filtration = RadialFiltration(center=array([ 5, 19]), n_jobs=-1)\n",
      "Got the result from ./19/train/filtrations/6/RadialFiltration_5_19/red/features.npy\n",
      "FiltrationExtractor: processing 19/train/filtrations/6/RadialFiltration_5_19/green, do_fit = True, filtration = RadialFiltration(center=array([ 5, 19]), n_jobs=-1)\n",
      "Saving the result to ./19/train/filtrations/6/RadialFiltration_5_19/green/diagrams.npy\n",
      "DiagramVectorizer: fitting complete\n"
     ]
    },
    {
     "name": "stderr",
     "output_type": "stream",
     "text": [
      "DiagramVectorizer: batch: 100%|██████████| 98/98 [00:21<00:00,  4.46it/s]\n"
     ]
    },
    {
     "name": "stdout",
     "output_type": "stream",
     "text": [
      "Saving the result to ./19/train/filtrations/6/RadialFiltration_5_19/green/features.npy\n",
      "FiltrationExtractor: processing 19/train/filtrations/6/RadialFiltration_5_19/green, do_fit = False, filtration = RadialFiltration(center=array([ 5, 19]), n_jobs=-1)\n",
      "Got the result from ./19/train/filtrations/6/RadialFiltration_5_19/green/features.npy\n",
      "FiltrationExtractor: processing 19/train/filtrations/6/RadialFiltration_5_19/blue, do_fit = True, filtration = RadialFiltration(center=array([ 5, 19]), n_jobs=-1)\n",
      "Saving the result to ./19/train/filtrations/6/RadialFiltration_5_19/blue/diagrams.npy\n",
      "DiagramVectorizer: fitting complete\n"
     ]
    },
    {
     "name": "stderr",
     "output_type": "stream",
     "text": [
      "DiagramVectorizer: batch: 100%|██████████| 98/98 [00:19<00:00,  4.96it/s]\n"
     ]
    },
    {
     "name": "stdout",
     "output_type": "stream",
     "text": [
      "Saving the result to ./19/train/filtrations/6/RadialFiltration_5_19/blue/features.npy\n",
      "FiltrationExtractor: processing 19/train/filtrations/6/RadialFiltration_5_19/blue, do_fit = False, filtration = RadialFiltration(center=array([ 5, 19]), n_jobs=-1)\n",
      "Got the result from ./19/train/filtrations/6/RadialFiltration_5_19/blue/features.npy\n",
      "Fitting filtration 69/116: 6/RadialFiltration_5_26\n",
      "RGB images received. Transforming to grayscale.\n"
     ]
    },
    {
     "name": "stderr",
     "output_type": "stream",
     "text": [
      "rgb2gray: 100%|██████████| 50000/50000 [00:03<00:00, 13007.29it/s]\n"
     ]
    },
    {
     "name": "stdout",
     "output_type": "stream",
     "text": [
      "FiltrationExtractor: processing 19/train/filtrations/6/RadialFiltration_5_26/gray, do_fit = True, filtration = RadialFiltration(center=array([ 5, 26]), n_jobs=-1)\n",
      "Saving the result to ./19/train/filtrations/6/RadialFiltration_5_26/gray/diagrams.npy\n",
      "DiagramVectorizer: fitting complete\n"
     ]
    },
    {
     "name": "stderr",
     "output_type": "stream",
     "text": [
      "DiagramVectorizer: batch: 100%|██████████| 98/98 [00:19<00:00,  5.04it/s]\n"
     ]
    },
    {
     "name": "stdout",
     "output_type": "stream",
     "text": [
      "Saving the result to ./19/train/filtrations/6/RadialFiltration_5_26/gray/features.npy\n",
      "FiltrationExtractor: processing 19/train/filtrations/6/RadialFiltration_5_26/gray, do_fit = False, filtration = RadialFiltration(center=array([ 5, 26]), n_jobs=-1)\n",
      "Got the result from ./19/train/filtrations/6/RadialFiltration_5_26/gray/features.npy\n",
      "FiltrationExtractor: processing 19/train/filtrations/6/RadialFiltration_5_26/red, do_fit = True, filtration = RadialFiltration(center=array([ 5, 26]), n_jobs=-1)\n",
      "Saving the result to ./19/train/filtrations/6/RadialFiltration_5_26/red/diagrams.npy\n",
      "DiagramVectorizer: fitting complete\n"
     ]
    },
    {
     "name": "stderr",
     "output_type": "stream",
     "text": [
      "DiagramVectorizer: batch: 100%|██████████| 98/98 [00:19<00:00,  5.02it/s]\n"
     ]
    },
    {
     "name": "stdout",
     "output_type": "stream",
     "text": [
      "Saving the result to ./19/train/filtrations/6/RadialFiltration_5_26/red/features.npy\n",
      "FiltrationExtractor: processing 19/train/filtrations/6/RadialFiltration_5_26/red, do_fit = False, filtration = RadialFiltration(center=array([ 5, 26]), n_jobs=-1)\n",
      "Got the result from ./19/train/filtrations/6/RadialFiltration_5_26/red/features.npy\n",
      "FiltrationExtractor: processing 19/train/filtrations/6/RadialFiltration_5_26/green, do_fit = True, filtration = RadialFiltration(center=array([ 5, 26]), n_jobs=-1)\n",
      "Saving the result to ./19/train/filtrations/6/RadialFiltration_5_26/green/diagrams.npy\n",
      "DiagramVectorizer: fitting complete\n"
     ]
    },
    {
     "name": "stderr",
     "output_type": "stream",
     "text": [
      "DiagramVectorizer: batch: 100%|██████████| 98/98 [00:21<00:00,  4.61it/s]\n"
     ]
    },
    {
     "name": "stdout",
     "output_type": "stream",
     "text": [
      "Saving the result to ./19/train/filtrations/6/RadialFiltration_5_26/green/features.npy\n",
      "FiltrationExtractor: processing 19/train/filtrations/6/RadialFiltration_5_26/green, do_fit = False, filtration = RadialFiltration(center=array([ 5, 26]), n_jobs=-1)\n",
      "Got the result from ./19/train/filtrations/6/RadialFiltration_5_26/green/features.npy\n",
      "FiltrationExtractor: processing 19/train/filtrations/6/RadialFiltration_5_26/blue, do_fit = True, filtration = RadialFiltration(center=array([ 5, 26]), n_jobs=-1)\n",
      "Saving the result to ./19/train/filtrations/6/RadialFiltration_5_26/blue/diagrams.npy\n",
      "DiagramVectorizer: fitting complete\n"
     ]
    },
    {
     "name": "stderr",
     "output_type": "stream",
     "text": [
      "DiagramVectorizer: batch: 100%|██████████| 98/98 [00:20<00:00,  4.89it/s]\n"
     ]
    },
    {
     "name": "stdout",
     "output_type": "stream",
     "text": [
      "Saving the result to ./19/train/filtrations/6/RadialFiltration_5_26/blue/features.npy\n",
      "FiltrationExtractor: processing 19/train/filtrations/6/RadialFiltration_5_26/blue, do_fit = False, filtration = RadialFiltration(center=array([ 5, 26]), n_jobs=-1)\n",
      "Got the result from ./19/train/filtrations/6/RadialFiltration_5_26/blue/features.npy\n",
      "Fitting filtration 70/116: 6/RadialFiltration_12_5\n",
      "RGB images received. Transforming to grayscale.\n"
     ]
    },
    {
     "name": "stderr",
     "output_type": "stream",
     "text": [
      "rgb2gray: 100%|██████████| 50000/50000 [00:03<00:00, 12988.28it/s]\n"
     ]
    },
    {
     "name": "stdout",
     "output_type": "stream",
     "text": [
      "FiltrationExtractor: processing 19/train/filtrations/6/RadialFiltration_12_5/gray, do_fit = True, filtration = RadialFiltration(center=array([12,  5]), n_jobs=-1)\n",
      "Saving the result to ./19/train/filtrations/6/RadialFiltration_12_5/gray/diagrams.npy\n",
      "DiagramVectorizer: fitting complete\n"
     ]
    },
    {
     "name": "stderr",
     "output_type": "stream",
     "text": [
      "DiagramVectorizer: batch: 100%|██████████| 98/98 [00:21<00:00,  4.51it/s]\n"
     ]
    },
    {
     "name": "stdout",
     "output_type": "stream",
     "text": [
      "Saving the result to ./19/train/filtrations/6/RadialFiltration_12_5/gray/features.npy\n",
      "FiltrationExtractor: processing 19/train/filtrations/6/RadialFiltration_12_5/gray, do_fit = False, filtration = RadialFiltration(center=array([12,  5]), n_jobs=-1)\n",
      "Got the result from ./19/train/filtrations/6/RadialFiltration_12_5/gray/features.npy\n",
      "FiltrationExtractor: processing 19/train/filtrations/6/RadialFiltration_12_5/red, do_fit = True, filtration = RadialFiltration(center=array([12,  5]), n_jobs=-1)\n",
      "Saving the result to ./19/train/filtrations/6/RadialFiltration_12_5/red/diagrams.npy\n",
      "DiagramVectorizer: fitting complete\n"
     ]
    },
    {
     "name": "stderr",
     "output_type": "stream",
     "text": [
      "DiagramVectorizer: batch: 100%|██████████| 98/98 [00:21<00:00,  4.63it/s]\n"
     ]
    },
    {
     "name": "stdout",
     "output_type": "stream",
     "text": [
      "Saving the result to ./19/train/filtrations/6/RadialFiltration_12_5/red/features.npy\n",
      "FiltrationExtractor: processing 19/train/filtrations/6/RadialFiltration_12_5/red, do_fit = False, filtration = RadialFiltration(center=array([12,  5]), n_jobs=-1)\n",
      "Got the result from ./19/train/filtrations/6/RadialFiltration_12_5/red/features.npy\n",
      "FiltrationExtractor: processing 19/train/filtrations/6/RadialFiltration_12_5/green, do_fit = True, filtration = RadialFiltration(center=array([12,  5]), n_jobs=-1)\n",
      "Saving the result to ./19/train/filtrations/6/RadialFiltration_12_5/green/diagrams.npy\n",
      "DiagramVectorizer: fitting complete\n"
     ]
    },
    {
     "name": "stderr",
     "output_type": "stream",
     "text": [
      "DiagramVectorizer: batch: 100%|██████████| 98/98 [00:20<00:00,  4.69it/s]\n"
     ]
    },
    {
     "name": "stdout",
     "output_type": "stream",
     "text": [
      "Saving the result to ./19/train/filtrations/6/RadialFiltration_12_5/green/features.npy\n",
      "FiltrationExtractor: processing 19/train/filtrations/6/RadialFiltration_12_5/green, do_fit = False, filtration = RadialFiltration(center=array([12,  5]), n_jobs=-1)\n",
      "Got the result from ./19/train/filtrations/6/RadialFiltration_12_5/green/features.npy\n",
      "FiltrationExtractor: processing 19/train/filtrations/6/RadialFiltration_12_5/blue, do_fit = True, filtration = RadialFiltration(center=array([12,  5]), n_jobs=-1)\n",
      "Saving the result to ./19/train/filtrations/6/RadialFiltration_12_5/blue/diagrams.npy\n",
      "DiagramVectorizer: fitting complete\n"
     ]
    },
    {
     "name": "stderr",
     "output_type": "stream",
     "text": [
      "DiagramVectorizer: batch: 100%|██████████| 98/98 [00:21<00:00,  4.64it/s]\n"
     ]
    },
    {
     "name": "stdout",
     "output_type": "stream",
     "text": [
      "Saving the result to ./19/train/filtrations/6/RadialFiltration_12_5/blue/features.npy\n",
      "FiltrationExtractor: processing 19/train/filtrations/6/RadialFiltration_12_5/blue, do_fit = False, filtration = RadialFiltration(center=array([12,  5]), n_jobs=-1)\n",
      "Got the result from ./19/train/filtrations/6/RadialFiltration_12_5/blue/features.npy\n",
      "Fitting filtration 71/116: 6/RadialFiltration_12_12\n",
      "RGB images received. Transforming to grayscale.\n"
     ]
    },
    {
     "name": "stderr",
     "output_type": "stream",
     "text": [
      "rgb2gray: 100%|██████████| 50000/50000 [00:03<00:00, 13027.60it/s]\n"
     ]
    },
    {
     "name": "stdout",
     "output_type": "stream",
     "text": [
      "FiltrationExtractor: processing 19/train/filtrations/6/RadialFiltration_12_12/gray, do_fit = True, filtration = RadialFiltration(center=array([12, 12]), n_jobs=-1)\n",
      "Saving the result to ./19/train/filtrations/6/RadialFiltration_12_12/gray/diagrams.npy\n",
      "DiagramVectorizer: fitting complete\n"
     ]
    },
    {
     "name": "stderr",
     "output_type": "stream",
     "text": [
      "DiagramVectorizer: batch: 100%|██████████| 98/98 [00:22<00:00,  4.33it/s]\n"
     ]
    },
    {
     "name": "stdout",
     "output_type": "stream",
     "text": [
      "Saving the result to ./19/train/filtrations/6/RadialFiltration_12_12/gray/features.npy\n",
      "FiltrationExtractor: processing 19/train/filtrations/6/RadialFiltration_12_12/gray, do_fit = False, filtration = RadialFiltration(center=array([12, 12]), n_jobs=-1)\n",
      "Got the result from ./19/train/filtrations/6/RadialFiltration_12_12/gray/features.npy\n",
      "FiltrationExtractor: processing 19/train/filtrations/6/RadialFiltration_12_12/red, do_fit = True, filtration = RadialFiltration(center=array([12, 12]), n_jobs=-1)\n",
      "Saving the result to ./19/train/filtrations/6/RadialFiltration_12_12/red/diagrams.npy\n",
      "DiagramVectorizer: fitting complete\n"
     ]
    },
    {
     "name": "stderr",
     "output_type": "stream",
     "text": [
      "DiagramVectorizer: batch: 100%|██████████| 98/98 [00:21<00:00,  4.53it/s]\n"
     ]
    },
    {
     "name": "stdout",
     "output_type": "stream",
     "text": [
      "Saving the result to ./19/train/filtrations/6/RadialFiltration_12_12/red/features.npy\n",
      "FiltrationExtractor: processing 19/train/filtrations/6/RadialFiltration_12_12/red, do_fit = False, filtration = RadialFiltration(center=array([12, 12]), n_jobs=-1)\n",
      "Got the result from ./19/train/filtrations/6/RadialFiltration_12_12/red/features.npy\n",
      "FiltrationExtractor: processing 19/train/filtrations/6/RadialFiltration_12_12/green, do_fit = True, filtration = RadialFiltration(center=array([12, 12]), n_jobs=-1)\n",
      "Saving the result to ./19/train/filtrations/6/RadialFiltration_12_12/green/diagrams.npy\n",
      "DiagramVectorizer: fitting complete\n"
     ]
    },
    {
     "name": "stderr",
     "output_type": "stream",
     "text": [
      "DiagramVectorizer: batch: 100%|██████████| 98/98 [00:22<00:00,  4.40it/s]\n"
     ]
    },
    {
     "name": "stdout",
     "output_type": "stream",
     "text": [
      "Saving the result to ./19/train/filtrations/6/RadialFiltration_12_12/green/features.npy\n",
      "FiltrationExtractor: processing 19/train/filtrations/6/RadialFiltration_12_12/green, do_fit = False, filtration = RadialFiltration(center=array([12, 12]), n_jobs=-1)\n",
      "Got the result from ./19/train/filtrations/6/RadialFiltration_12_12/green/features.npy\n",
      "FiltrationExtractor: processing 19/train/filtrations/6/RadialFiltration_12_12/blue, do_fit = True, filtration = RadialFiltration(center=array([12, 12]), n_jobs=-1)\n",
      "Saving the result to ./19/train/filtrations/6/RadialFiltration_12_12/blue/diagrams.npy\n",
      "DiagramVectorizer: fitting complete\n"
     ]
    },
    {
     "name": "stderr",
     "output_type": "stream",
     "text": [
      "DiagramVectorizer: batch: 100%|██████████| 98/98 [00:22<00:00,  4.44it/s]\n"
     ]
    },
    {
     "name": "stdout",
     "output_type": "stream",
     "text": [
      "Saving the result to ./19/train/filtrations/6/RadialFiltration_12_12/blue/features.npy\n",
      "FiltrationExtractor: processing 19/train/filtrations/6/RadialFiltration_12_12/blue, do_fit = False, filtration = RadialFiltration(center=array([12, 12]), n_jobs=-1)\n",
      "Got the result from ./19/train/filtrations/6/RadialFiltration_12_12/blue/features.npy\n",
      "Fitting filtration 72/116: 6/RadialFiltration_12_19\n",
      "RGB images received. Transforming to grayscale.\n"
     ]
    },
    {
     "name": "stderr",
     "output_type": "stream",
     "text": [
      "rgb2gray: 100%|██████████| 50000/50000 [00:03<00:00, 12776.69it/s]\n"
     ]
    },
    {
     "name": "stdout",
     "output_type": "stream",
     "text": [
      "FiltrationExtractor: processing 19/train/filtrations/6/RadialFiltration_12_19/gray, do_fit = True, filtration = RadialFiltration(center=array([12, 19]), n_jobs=-1)\n",
      "Saving the result to ./19/train/filtrations/6/RadialFiltration_12_19/gray/diagrams.npy\n",
      "DiagramVectorizer: fitting complete\n"
     ]
    },
    {
     "name": "stderr",
     "output_type": "stream",
     "text": [
      "DiagramVectorizer: batch: 100%|██████████| 98/98 [00:21<00:00,  4.66it/s]\n"
     ]
    },
    {
     "name": "stdout",
     "output_type": "stream",
     "text": [
      "Saving the result to ./19/train/filtrations/6/RadialFiltration_12_19/gray/features.npy\n",
      "FiltrationExtractor: processing 19/train/filtrations/6/RadialFiltration_12_19/gray, do_fit = False, filtration = RadialFiltration(center=array([12, 19]), n_jobs=-1)\n",
      "Got the result from ./19/train/filtrations/6/RadialFiltration_12_19/gray/features.npy\n",
      "FiltrationExtractor: processing 19/train/filtrations/6/RadialFiltration_12_19/red, do_fit = True, filtration = RadialFiltration(center=array([12, 19]), n_jobs=-1)\n",
      "Saving the result to ./19/train/filtrations/6/RadialFiltration_12_19/red/diagrams.npy\n",
      "DiagramVectorizer: fitting complete\n"
     ]
    },
    {
     "name": "stderr",
     "output_type": "stream",
     "text": [
      "DiagramVectorizer: batch: 100%|██████████| 98/98 [00:22<00:00,  4.34it/s]\n"
     ]
    },
    {
     "name": "stdout",
     "output_type": "stream",
     "text": [
      "Saving the result to ./19/train/filtrations/6/RadialFiltration_12_19/red/features.npy\n",
      "FiltrationExtractor: processing 19/train/filtrations/6/RadialFiltration_12_19/red, do_fit = False, filtration = RadialFiltration(center=array([12, 19]), n_jobs=-1)\n",
      "Got the result from ./19/train/filtrations/6/RadialFiltration_12_19/red/features.npy\n",
      "FiltrationExtractor: processing 19/train/filtrations/6/RadialFiltration_12_19/green, do_fit = True, filtration = RadialFiltration(center=array([12, 19]), n_jobs=-1)\n",
      "Saving the result to ./19/train/filtrations/6/RadialFiltration_12_19/green/diagrams.npy\n",
      "DiagramVectorizer: fitting complete\n"
     ]
    },
    {
     "name": "stderr",
     "output_type": "stream",
     "text": [
      "DiagramVectorizer: batch: 100%|██████████| 98/98 [00:19<00:00,  4.92it/s]\n"
     ]
    },
    {
     "name": "stdout",
     "output_type": "stream",
     "text": [
      "Saving the result to ./19/train/filtrations/6/RadialFiltration_12_19/green/features.npy\n",
      "FiltrationExtractor: processing 19/train/filtrations/6/RadialFiltration_12_19/green, do_fit = False, filtration = RadialFiltration(center=array([12, 19]), n_jobs=-1)\n",
      "Got the result from ./19/train/filtrations/6/RadialFiltration_12_19/green/features.npy\n",
      "FiltrationExtractor: processing 19/train/filtrations/6/RadialFiltration_12_19/blue, do_fit = True, filtration = RadialFiltration(center=array([12, 19]), n_jobs=-1)\n",
      "Saving the result to ./19/train/filtrations/6/RadialFiltration_12_19/blue/diagrams.npy\n",
      "DiagramVectorizer: fitting complete\n"
     ]
    },
    {
     "name": "stderr",
     "output_type": "stream",
     "text": [
      "DiagramVectorizer: batch: 100%|██████████| 98/98 [00:21<00:00,  4.47it/s]\n"
     ]
    },
    {
     "name": "stdout",
     "output_type": "stream",
     "text": [
      "Saving the result to ./19/train/filtrations/6/RadialFiltration_12_19/blue/features.npy\n",
      "FiltrationExtractor: processing 19/train/filtrations/6/RadialFiltration_12_19/blue, do_fit = False, filtration = RadialFiltration(center=array([12, 19]), n_jobs=-1)\n",
      "Got the result from ./19/train/filtrations/6/RadialFiltration_12_19/blue/features.npy\n",
      "Fitting filtration 73/116: 6/RadialFiltration_12_26\n",
      "RGB images received. Transforming to grayscale.\n"
     ]
    },
    {
     "name": "stderr",
     "output_type": "stream",
     "text": [
      "rgb2gray: 100%|██████████| 50000/50000 [00:03<00:00, 13460.45it/s]\n"
     ]
    },
    {
     "name": "stdout",
     "output_type": "stream",
     "text": [
      "FiltrationExtractor: processing 19/train/filtrations/6/RadialFiltration_12_26/gray, do_fit = True, filtration = RadialFiltration(center=array([12, 26]), n_jobs=-1)\n",
      "Saving the result to ./19/train/filtrations/6/RadialFiltration_12_26/gray/diagrams.npy\n",
      "DiagramVectorizer: fitting complete\n"
     ]
    },
    {
     "name": "stderr",
     "output_type": "stream",
     "text": [
      "DiagramVectorizer: batch: 100%|██████████| 98/98 [00:21<00:00,  4.62it/s]\n"
     ]
    },
    {
     "name": "stdout",
     "output_type": "stream",
     "text": [
      "Saving the result to ./19/train/filtrations/6/RadialFiltration_12_26/gray/features.npy\n",
      "FiltrationExtractor: processing 19/train/filtrations/6/RadialFiltration_12_26/gray, do_fit = False, filtration = RadialFiltration(center=array([12, 26]), n_jobs=-1)\n",
      "Got the result from ./19/train/filtrations/6/RadialFiltration_12_26/gray/features.npy\n",
      "FiltrationExtractor: processing 19/train/filtrations/6/RadialFiltration_12_26/red, do_fit = True, filtration = RadialFiltration(center=array([12, 26]), n_jobs=-1)\n",
      "Saving the result to ./19/train/filtrations/6/RadialFiltration_12_26/red/diagrams.npy\n",
      "DiagramVectorizer: fitting complete\n"
     ]
    },
    {
     "name": "stderr",
     "output_type": "stream",
     "text": [
      "DiagramVectorizer: batch: 100%|██████████| 98/98 [00:19<00:00,  4.96it/s]\n"
     ]
    },
    {
     "name": "stdout",
     "output_type": "stream",
     "text": [
      "Saving the result to ./19/train/filtrations/6/RadialFiltration_12_26/red/features.npy\n",
      "FiltrationExtractor: processing 19/train/filtrations/6/RadialFiltration_12_26/red, do_fit = False, filtration = RadialFiltration(center=array([12, 26]), n_jobs=-1)\n",
      "Got the result from ./19/train/filtrations/6/RadialFiltration_12_26/red/features.npy\n",
      "FiltrationExtractor: processing 19/train/filtrations/6/RadialFiltration_12_26/green, do_fit = True, filtration = RadialFiltration(center=array([12, 26]), n_jobs=-1)\n",
      "Saving the result to ./19/train/filtrations/6/RadialFiltration_12_26/green/diagrams.npy\n",
      "DiagramVectorizer: fitting complete\n"
     ]
    },
    {
     "name": "stderr",
     "output_type": "stream",
     "text": [
      "DiagramVectorizer: batch: 100%|██████████| 98/98 [00:19<00:00,  5.07it/s]\n"
     ]
    },
    {
     "name": "stdout",
     "output_type": "stream",
     "text": [
      "Saving the result to ./19/train/filtrations/6/RadialFiltration_12_26/green/features.npy\n",
      "FiltrationExtractor: processing 19/train/filtrations/6/RadialFiltration_12_26/green, do_fit = False, filtration = RadialFiltration(center=array([12, 26]), n_jobs=-1)\n",
      "Got the result from ./19/train/filtrations/6/RadialFiltration_12_26/green/features.npy\n",
      "FiltrationExtractor: processing 19/train/filtrations/6/RadialFiltration_12_26/blue, do_fit = True, filtration = RadialFiltration(center=array([12, 26]), n_jobs=-1)\n",
      "Saving the result to ./19/train/filtrations/6/RadialFiltration_12_26/blue/diagrams.npy\n",
      "DiagramVectorizer: fitting complete\n"
     ]
    },
    {
     "name": "stderr",
     "output_type": "stream",
     "text": [
      "DiagramVectorizer: batch: 100%|██████████| 98/98 [00:19<00:00,  5.08it/s]\n"
     ]
    },
    {
     "name": "stdout",
     "output_type": "stream",
     "text": [
      "Saving the result to ./19/train/filtrations/6/RadialFiltration_12_26/blue/features.npy\n",
      "FiltrationExtractor: processing 19/train/filtrations/6/RadialFiltration_12_26/blue, do_fit = False, filtration = RadialFiltration(center=array([12, 26]), n_jobs=-1)\n",
      "Got the result from ./19/train/filtrations/6/RadialFiltration_12_26/blue/features.npy\n",
      "Fitting filtration 74/116: 6/RadialFiltration_19_5\n",
      "RGB images received. Transforming to grayscale.\n"
     ]
    },
    {
     "name": "stderr",
     "output_type": "stream",
     "text": [
      "rgb2gray: 100%|██████████| 50000/50000 [00:03<00:00, 13736.26it/s]\n"
     ]
    },
    {
     "name": "stdout",
     "output_type": "stream",
     "text": [
      "FiltrationExtractor: processing 19/train/filtrations/6/RadialFiltration_19_5/gray, do_fit = True, filtration = RadialFiltration(center=array([19,  5]), n_jobs=-1)\n",
      "Saving the result to ./19/train/filtrations/6/RadialFiltration_19_5/gray/diagrams.npy\n",
      "DiagramVectorizer: fitting complete\n"
     ]
    },
    {
     "name": "stderr",
     "output_type": "stream",
     "text": [
      "DiagramVectorizer: batch: 100%|██████████| 98/98 [00:19<00:00,  5.08it/s]\n"
     ]
    },
    {
     "name": "stdout",
     "output_type": "stream",
     "text": [
      "Saving the result to ./19/train/filtrations/6/RadialFiltration_19_5/gray/features.npy\n",
      "FiltrationExtractor: processing 19/train/filtrations/6/RadialFiltration_19_5/gray, do_fit = False, filtration = RadialFiltration(center=array([19,  5]), n_jobs=-1)\n",
      "Got the result from ./19/train/filtrations/6/RadialFiltration_19_5/gray/features.npy\n",
      "FiltrationExtractor: processing 19/train/filtrations/6/RadialFiltration_19_5/red, do_fit = True, filtration = RadialFiltration(center=array([19,  5]), n_jobs=-1)\n",
      "Saving the result to ./19/train/filtrations/6/RadialFiltration_19_5/red/diagrams.npy\n",
      "DiagramVectorizer: fitting complete\n"
     ]
    },
    {
     "name": "stderr",
     "output_type": "stream",
     "text": [
      "DiagramVectorizer: batch: 100%|██████████| 98/98 [00:20<00:00,  4.74it/s]\n"
     ]
    },
    {
     "name": "stdout",
     "output_type": "stream",
     "text": [
      "Saving the result to ./19/train/filtrations/6/RadialFiltration_19_5/red/features.npy\n",
      "FiltrationExtractor: processing 19/train/filtrations/6/RadialFiltration_19_5/red, do_fit = False, filtration = RadialFiltration(center=array([19,  5]), n_jobs=-1)\n",
      "Got the result from ./19/train/filtrations/6/RadialFiltration_19_5/red/features.npy\n",
      "FiltrationExtractor: processing 19/train/filtrations/6/RadialFiltration_19_5/green, do_fit = True, filtration = RadialFiltration(center=array([19,  5]), n_jobs=-1)\n",
      "Saving the result to ./19/train/filtrations/6/RadialFiltration_19_5/green/diagrams.npy\n",
      "DiagramVectorizer: fitting complete\n"
     ]
    },
    {
     "name": "stderr",
     "output_type": "stream",
     "text": [
      "DiagramVectorizer: batch: 100%|██████████| 98/98 [00:20<00:00,  4.90it/s]\n"
     ]
    },
    {
     "name": "stdout",
     "output_type": "stream",
     "text": [
      "Saving the result to ./19/train/filtrations/6/RadialFiltration_19_5/green/features.npy\n",
      "FiltrationExtractor: processing 19/train/filtrations/6/RadialFiltration_19_5/green, do_fit = False, filtration = RadialFiltration(center=array([19,  5]), n_jobs=-1)\n",
      "Got the result from ./19/train/filtrations/6/RadialFiltration_19_5/green/features.npy\n",
      "FiltrationExtractor: processing 19/train/filtrations/6/RadialFiltration_19_5/blue, do_fit = True, filtration = RadialFiltration(center=array([19,  5]), n_jobs=-1)\n",
      "Saving the result to ./19/train/filtrations/6/RadialFiltration_19_5/blue/diagrams.npy\n",
      "DiagramVectorizer: fitting complete\n"
     ]
    },
    {
     "name": "stderr",
     "output_type": "stream",
     "text": [
      "DiagramVectorizer: batch: 100%|██████████| 98/98 [00:20<00:00,  4.88it/s]\n"
     ]
    },
    {
     "name": "stdout",
     "output_type": "stream",
     "text": [
      "Saving the result to ./19/train/filtrations/6/RadialFiltration_19_5/blue/features.npy\n",
      "FiltrationExtractor: processing 19/train/filtrations/6/RadialFiltration_19_5/blue, do_fit = False, filtration = RadialFiltration(center=array([19,  5]), n_jobs=-1)\n",
      "Got the result from ./19/train/filtrations/6/RadialFiltration_19_5/blue/features.npy\n",
      "Fitting filtration 75/116: 6/RadialFiltration_19_12\n",
      "RGB images received. Transforming to grayscale.\n"
     ]
    },
    {
     "name": "stderr",
     "output_type": "stream",
     "text": [
      "rgb2gray: 100%|██████████| 50000/50000 [00:03<00:00, 13224.02it/s]\n"
     ]
    },
    {
     "name": "stdout",
     "output_type": "stream",
     "text": [
      "FiltrationExtractor: processing 19/train/filtrations/6/RadialFiltration_19_12/gray, do_fit = True, filtration = RadialFiltration(center=array([19, 12]), n_jobs=-1)\n",
      "Saving the result to ./19/train/filtrations/6/RadialFiltration_19_12/gray/diagrams.npy\n",
      "DiagramVectorizer: fitting complete\n"
     ]
    },
    {
     "name": "stderr",
     "output_type": "stream",
     "text": [
      "DiagramVectorizer: batch: 100%|██████████| 98/98 [00:20<00:00,  4.73it/s]\n"
     ]
    },
    {
     "name": "stdout",
     "output_type": "stream",
     "text": [
      "Saving the result to ./19/train/filtrations/6/RadialFiltration_19_12/gray/features.npy\n",
      "FiltrationExtractor: processing 19/train/filtrations/6/RadialFiltration_19_12/gray, do_fit = False, filtration = RadialFiltration(center=array([19, 12]), n_jobs=-1)\n",
      "Got the result from ./19/train/filtrations/6/RadialFiltration_19_12/gray/features.npy\n",
      "FiltrationExtractor: processing 19/train/filtrations/6/RadialFiltration_19_12/red, do_fit = True, filtration = RadialFiltration(center=array([19, 12]), n_jobs=-1)\n",
      "Saving the result to ./19/train/filtrations/6/RadialFiltration_19_12/red/diagrams.npy\n",
      "DiagramVectorizer: fitting complete\n"
     ]
    },
    {
     "name": "stderr",
     "output_type": "stream",
     "text": [
      "DiagramVectorizer: batch: 100%|██████████| 98/98 [00:20<00:00,  4.67it/s]\n"
     ]
    },
    {
     "name": "stdout",
     "output_type": "stream",
     "text": [
      "Saving the result to ./19/train/filtrations/6/RadialFiltration_19_12/red/features.npy\n",
      "FiltrationExtractor: processing 19/train/filtrations/6/RadialFiltration_19_12/red, do_fit = False, filtration = RadialFiltration(center=array([19, 12]), n_jobs=-1)\n",
      "Got the result from ./19/train/filtrations/6/RadialFiltration_19_12/red/features.npy\n",
      "FiltrationExtractor: processing 19/train/filtrations/6/RadialFiltration_19_12/green, do_fit = True, filtration = RadialFiltration(center=array([19, 12]), n_jobs=-1)\n",
      "Saving the result to ./19/train/filtrations/6/RadialFiltration_19_12/green/diagrams.npy\n",
      "DiagramVectorizer: fitting complete\n"
     ]
    },
    {
     "name": "stderr",
     "output_type": "stream",
     "text": [
      "DiagramVectorizer: batch: 100%|██████████| 98/98 [00:20<00:00,  4.68it/s]\n"
     ]
    },
    {
     "name": "stdout",
     "output_type": "stream",
     "text": [
      "Saving the result to ./19/train/filtrations/6/RadialFiltration_19_12/green/features.npy\n",
      "FiltrationExtractor: processing 19/train/filtrations/6/RadialFiltration_19_12/green, do_fit = False, filtration = RadialFiltration(center=array([19, 12]), n_jobs=-1)\n",
      "Got the result from ./19/train/filtrations/6/RadialFiltration_19_12/green/features.npy\n",
      "FiltrationExtractor: processing 19/train/filtrations/6/RadialFiltration_19_12/blue, do_fit = True, filtration = RadialFiltration(center=array([19, 12]), n_jobs=-1)\n",
      "Saving the result to ./19/train/filtrations/6/RadialFiltration_19_12/blue/diagrams.npy\n",
      "DiagramVectorizer: fitting complete\n"
     ]
    },
    {
     "name": "stderr",
     "output_type": "stream",
     "text": [
      "DiagramVectorizer: batch: 100%|██████████| 98/98 [00:22<00:00,  4.34it/s]\n"
     ]
    },
    {
     "name": "stdout",
     "output_type": "stream",
     "text": [
      "Saving the result to ./19/train/filtrations/6/RadialFiltration_19_12/blue/features.npy\n",
      "FiltrationExtractor: processing 19/train/filtrations/6/RadialFiltration_19_12/blue, do_fit = False, filtration = RadialFiltration(center=array([19, 12]), n_jobs=-1)\n",
      "Got the result from ./19/train/filtrations/6/RadialFiltration_19_12/blue/features.npy\n",
      "Fitting filtration 76/116: 6/RadialFiltration_19_19\n",
      "RGB images received. Transforming to grayscale.\n"
     ]
    },
    {
     "name": "stderr",
     "output_type": "stream",
     "text": [
      "rgb2gray: 100%|██████████| 50000/50000 [00:03<00:00, 12895.98it/s]\n"
     ]
    },
    {
     "name": "stdout",
     "output_type": "stream",
     "text": [
      "FiltrationExtractor: processing 19/train/filtrations/6/RadialFiltration_19_19/gray, do_fit = True, filtration = RadialFiltration(center=array([19, 19]), n_jobs=-1)\n",
      "Saving the result to ./19/train/filtrations/6/RadialFiltration_19_19/gray/diagrams.npy\n",
      "DiagramVectorizer: fitting complete\n"
     ]
    },
    {
     "name": "stderr",
     "output_type": "stream",
     "text": [
      "DiagramVectorizer: batch: 100%|██████████| 98/98 [00:21<00:00,  4.50it/s]\n"
     ]
    },
    {
     "name": "stdout",
     "output_type": "stream",
     "text": [
      "Saving the result to ./19/train/filtrations/6/RadialFiltration_19_19/gray/features.npy\n",
      "FiltrationExtractor: processing 19/train/filtrations/6/RadialFiltration_19_19/gray, do_fit = False, filtration = RadialFiltration(center=array([19, 19]), n_jobs=-1)\n",
      "Got the result from ./19/train/filtrations/6/RadialFiltration_19_19/gray/features.npy\n",
      "FiltrationExtractor: processing 19/train/filtrations/6/RadialFiltration_19_19/red, do_fit = True, filtration = RadialFiltration(center=array([19, 19]), n_jobs=-1)\n",
      "Saving the result to ./19/train/filtrations/6/RadialFiltration_19_19/red/diagrams.npy\n",
      "DiagramVectorizer: fitting complete\n"
     ]
    },
    {
     "name": "stderr",
     "output_type": "stream",
     "text": [
      "DiagramVectorizer: batch: 100%|██████████| 98/98 [00:20<00:00,  4.72it/s]\n"
     ]
    },
    {
     "name": "stdout",
     "output_type": "stream",
     "text": [
      "Saving the result to ./19/train/filtrations/6/RadialFiltration_19_19/red/features.npy\n",
      "FiltrationExtractor: processing 19/train/filtrations/6/RadialFiltration_19_19/red, do_fit = False, filtration = RadialFiltration(center=array([19, 19]), n_jobs=-1)\n",
      "Got the result from ./19/train/filtrations/6/RadialFiltration_19_19/red/features.npy\n",
      "FiltrationExtractor: processing 19/train/filtrations/6/RadialFiltration_19_19/green, do_fit = True, filtration = RadialFiltration(center=array([19, 19]), n_jobs=-1)\n",
      "Saving the result to ./19/train/filtrations/6/RadialFiltration_19_19/green/diagrams.npy\n",
      "DiagramVectorizer: fitting complete\n"
     ]
    },
    {
     "name": "stderr",
     "output_type": "stream",
     "text": [
      "DiagramVectorizer: batch: 100%|██████████| 98/98 [00:22<00:00,  4.35it/s]\n"
     ]
    },
    {
     "name": "stdout",
     "output_type": "stream",
     "text": [
      "Saving the result to ./19/train/filtrations/6/RadialFiltration_19_19/green/features.npy\n",
      "FiltrationExtractor: processing 19/train/filtrations/6/RadialFiltration_19_19/green, do_fit = False, filtration = RadialFiltration(center=array([19, 19]), n_jobs=-1)\n",
      "Got the result from ./19/train/filtrations/6/RadialFiltration_19_19/green/features.npy\n",
      "FiltrationExtractor: processing 19/train/filtrations/6/RadialFiltration_19_19/blue, do_fit = True, filtration = RadialFiltration(center=array([19, 19]), n_jobs=-1)\n",
      "Saving the result to ./19/train/filtrations/6/RadialFiltration_19_19/blue/diagrams.npy\n",
      "DiagramVectorizer: fitting complete\n"
     ]
    },
    {
     "name": "stderr",
     "output_type": "stream",
     "text": [
      "DiagramVectorizer: batch: 100%|██████████| 98/98 [00:21<00:00,  4.59it/s]\n"
     ]
    },
    {
     "name": "stdout",
     "output_type": "stream",
     "text": [
      "Saving the result to ./19/train/filtrations/6/RadialFiltration_19_19/blue/features.npy\n",
      "FiltrationExtractor: processing 19/train/filtrations/6/RadialFiltration_19_19/blue, do_fit = False, filtration = RadialFiltration(center=array([19, 19]), n_jobs=-1)\n",
      "Got the result from ./19/train/filtrations/6/RadialFiltration_19_19/blue/features.npy\n",
      "Fitting filtration 77/116: 6/RadialFiltration_19_26\n",
      "RGB images received. Transforming to grayscale.\n"
     ]
    },
    {
     "name": "stderr",
     "output_type": "stream",
     "text": [
      "rgb2gray: 100%|██████████| 50000/50000 [00:03<00:00, 13469.08it/s]\n"
     ]
    },
    {
     "name": "stdout",
     "output_type": "stream",
     "text": [
      "FiltrationExtractor: processing 19/train/filtrations/6/RadialFiltration_19_26/gray, do_fit = True, filtration = RadialFiltration(center=array([19, 26]), n_jobs=-1)\n",
      "Saving the result to ./19/train/filtrations/6/RadialFiltration_19_26/gray/diagrams.npy\n",
      "DiagramVectorizer: fitting complete\n"
     ]
    },
    {
     "name": "stderr",
     "output_type": "stream",
     "text": [
      "DiagramVectorizer: batch: 100%|██████████| 98/98 [00:20<00:00,  4.86it/s]\n"
     ]
    },
    {
     "name": "stdout",
     "output_type": "stream",
     "text": [
      "Saving the result to ./19/train/filtrations/6/RadialFiltration_19_26/gray/features.npy\n",
      "FiltrationExtractor: processing 19/train/filtrations/6/RadialFiltration_19_26/gray, do_fit = False, filtration = RadialFiltration(center=array([19, 26]), n_jobs=-1)\n",
      "Got the result from ./19/train/filtrations/6/RadialFiltration_19_26/gray/features.npy\n",
      "FiltrationExtractor: processing 19/train/filtrations/6/RadialFiltration_19_26/red, do_fit = True, filtration = RadialFiltration(center=array([19, 26]), n_jobs=-1)\n",
      "Saving the result to ./19/train/filtrations/6/RadialFiltration_19_26/red/diagrams.npy\n",
      "DiagramVectorizer: fitting complete\n"
     ]
    },
    {
     "name": "stderr",
     "output_type": "stream",
     "text": [
      "DiagramVectorizer: batch: 100%|██████████| 98/98 [00:21<00:00,  4.60it/s]\n"
     ]
    },
    {
     "name": "stdout",
     "output_type": "stream",
     "text": [
      "Saving the result to ./19/train/filtrations/6/RadialFiltration_19_26/red/features.npy\n",
      "FiltrationExtractor: processing 19/train/filtrations/6/RadialFiltration_19_26/red, do_fit = False, filtration = RadialFiltration(center=array([19, 26]), n_jobs=-1)\n",
      "Got the result from ./19/train/filtrations/6/RadialFiltration_19_26/red/features.npy\n",
      "FiltrationExtractor: processing 19/train/filtrations/6/RadialFiltration_19_26/green, do_fit = True, filtration = RadialFiltration(center=array([19, 26]), n_jobs=-1)\n",
      "Saving the result to ./19/train/filtrations/6/RadialFiltration_19_26/green/diagrams.npy\n",
      "DiagramVectorizer: fitting complete\n"
     ]
    },
    {
     "name": "stderr",
     "output_type": "stream",
     "text": [
      "DiagramVectorizer: batch: 100%|██████████| 98/98 [00:19<00:00,  4.94it/s]\n"
     ]
    },
    {
     "name": "stdout",
     "output_type": "stream",
     "text": [
      "Saving the result to ./19/train/filtrations/6/RadialFiltration_19_26/green/features.npy\n",
      "FiltrationExtractor: processing 19/train/filtrations/6/RadialFiltration_19_26/green, do_fit = False, filtration = RadialFiltration(center=array([19, 26]), n_jobs=-1)\n",
      "Got the result from ./19/train/filtrations/6/RadialFiltration_19_26/green/features.npy\n",
      "FiltrationExtractor: processing 19/train/filtrations/6/RadialFiltration_19_26/blue, do_fit = True, filtration = RadialFiltration(center=array([19, 26]), n_jobs=-1)\n",
      "Saving the result to ./19/train/filtrations/6/RadialFiltration_19_26/blue/diagrams.npy\n",
      "DiagramVectorizer: fitting complete\n"
     ]
    },
    {
     "name": "stderr",
     "output_type": "stream",
     "text": [
      "DiagramVectorizer: batch: 100%|██████████| 98/98 [00:21<00:00,  4.66it/s]\n"
     ]
    },
    {
     "name": "stdout",
     "output_type": "stream",
     "text": [
      "Saving the result to ./19/train/filtrations/6/RadialFiltration_19_26/blue/features.npy\n",
      "FiltrationExtractor: processing 19/train/filtrations/6/RadialFiltration_19_26/blue, do_fit = False, filtration = RadialFiltration(center=array([19, 26]), n_jobs=-1)\n",
      "Got the result from ./19/train/filtrations/6/RadialFiltration_19_26/blue/features.npy\n",
      "Fitting filtration 78/116: 6/RadialFiltration_26_5\n",
      "RGB images received. Transforming to grayscale.\n"
     ]
    },
    {
     "name": "stderr",
     "output_type": "stream",
     "text": [
      "rgb2gray: 100%|██████████| 50000/50000 [00:03<00:00, 12955.34it/s]\n"
     ]
    },
    {
     "name": "stdout",
     "output_type": "stream",
     "text": [
      "FiltrationExtractor: processing 19/train/filtrations/6/RadialFiltration_26_5/gray, do_fit = True, filtration = RadialFiltration(center=array([26,  5]), n_jobs=-1)\n",
      "Saving the result to ./19/train/filtrations/6/RadialFiltration_26_5/gray/diagrams.npy\n",
      "DiagramVectorizer: fitting complete\n"
     ]
    },
    {
     "name": "stderr",
     "output_type": "stream",
     "text": [
      "DiagramVectorizer: batch: 100%|██████████| 98/98 [00:20<00:00,  4.79it/s]\n"
     ]
    },
    {
     "name": "stdout",
     "output_type": "stream",
     "text": [
      "Saving the result to ./19/train/filtrations/6/RadialFiltration_26_5/gray/features.npy\n",
      "FiltrationExtractor: processing 19/train/filtrations/6/RadialFiltration_26_5/gray, do_fit = False, filtration = RadialFiltration(center=array([26,  5]), n_jobs=-1)\n",
      "Got the result from ./19/train/filtrations/6/RadialFiltration_26_5/gray/features.npy\n",
      "FiltrationExtractor: processing 19/train/filtrations/6/RadialFiltration_26_5/red, do_fit = True, filtration = RadialFiltration(center=array([26,  5]), n_jobs=-1)\n",
      "Saving the result to ./19/train/filtrations/6/RadialFiltration_26_5/red/diagrams.npy\n",
      "DiagramVectorizer: fitting complete\n"
     ]
    },
    {
     "name": "stderr",
     "output_type": "stream",
     "text": [
      "DiagramVectorizer: batch: 100%|██████████| 98/98 [00:20<00:00,  4.82it/s]\n"
     ]
    },
    {
     "name": "stdout",
     "output_type": "stream",
     "text": [
      "Saving the result to ./19/train/filtrations/6/RadialFiltration_26_5/red/features.npy\n",
      "FiltrationExtractor: processing 19/train/filtrations/6/RadialFiltration_26_5/red, do_fit = False, filtration = RadialFiltration(center=array([26,  5]), n_jobs=-1)\n",
      "Got the result from ./19/train/filtrations/6/RadialFiltration_26_5/red/features.npy\n",
      "FiltrationExtractor: processing 19/train/filtrations/6/RadialFiltration_26_5/green, do_fit = True, filtration = RadialFiltration(center=array([26,  5]), n_jobs=-1)\n",
      "Saving the result to ./19/train/filtrations/6/RadialFiltration_26_5/green/diagrams.npy\n",
      "DiagramVectorizer: fitting complete\n"
     ]
    },
    {
     "name": "stderr",
     "output_type": "stream",
     "text": [
      "DiagramVectorizer: batch: 100%|██████████| 98/98 [00:21<00:00,  4.53it/s]\n"
     ]
    },
    {
     "name": "stdout",
     "output_type": "stream",
     "text": [
      "Saving the result to ./19/train/filtrations/6/RadialFiltration_26_5/green/features.npy\n",
      "FiltrationExtractor: processing 19/train/filtrations/6/RadialFiltration_26_5/green, do_fit = False, filtration = RadialFiltration(center=array([26,  5]), n_jobs=-1)\n",
      "Got the result from ./19/train/filtrations/6/RadialFiltration_26_5/green/features.npy\n",
      "FiltrationExtractor: processing 19/train/filtrations/6/RadialFiltration_26_5/blue, do_fit = True, filtration = RadialFiltration(center=array([26,  5]), n_jobs=-1)\n",
      "Saving the result to ./19/train/filtrations/6/RadialFiltration_26_5/blue/diagrams.npy\n",
      "DiagramVectorizer: fitting complete\n"
     ]
    },
    {
     "name": "stderr",
     "output_type": "stream",
     "text": [
      "DiagramVectorizer: batch: 100%|██████████| 98/98 [00:20<00:00,  4.89it/s]\n"
     ]
    },
    {
     "name": "stdout",
     "output_type": "stream",
     "text": [
      "Saving the result to ./19/train/filtrations/6/RadialFiltration_26_5/blue/features.npy\n",
      "FiltrationExtractor: processing 19/train/filtrations/6/RadialFiltration_26_5/blue, do_fit = False, filtration = RadialFiltration(center=array([26,  5]), n_jobs=-1)\n",
      "Got the result from ./19/train/filtrations/6/RadialFiltration_26_5/blue/features.npy\n",
      "Fitting filtration 79/116: 6/RadialFiltration_26_12\n",
      "RGB images received. Transforming to grayscale.\n"
     ]
    },
    {
     "name": "stderr",
     "output_type": "stream",
     "text": [
      "rgb2gray: 100%|██████████| 50000/50000 [00:03<00:00, 13002.16it/s]\n"
     ]
    },
    {
     "name": "stdout",
     "output_type": "stream",
     "text": [
      "FiltrationExtractor: processing 19/train/filtrations/6/RadialFiltration_26_12/gray, do_fit = True, filtration = RadialFiltration(center=array([26, 12]), n_jobs=-1)\n",
      "Saving the result to ./19/train/filtrations/6/RadialFiltration_26_12/gray/diagrams.npy\n",
      "DiagramVectorizer: fitting complete\n"
     ]
    },
    {
     "name": "stderr",
     "output_type": "stream",
     "text": [
      "DiagramVectorizer: batch: 100%|██████████| 98/98 [00:21<00:00,  4.47it/s]\n"
     ]
    },
    {
     "name": "stdout",
     "output_type": "stream",
     "text": [
      "Saving the result to ./19/train/filtrations/6/RadialFiltration_26_12/gray/features.npy\n",
      "FiltrationExtractor: processing 19/train/filtrations/6/RadialFiltration_26_12/gray, do_fit = False, filtration = RadialFiltration(center=array([26, 12]), n_jobs=-1)\n",
      "Got the result from ./19/train/filtrations/6/RadialFiltration_26_12/gray/features.npy\n",
      "FiltrationExtractor: processing 19/train/filtrations/6/RadialFiltration_26_12/red, do_fit = True, filtration = RadialFiltration(center=array([26, 12]), n_jobs=-1)\n",
      "Saving the result to ./19/train/filtrations/6/RadialFiltration_26_12/red/diagrams.npy\n",
      "DiagramVectorizer: fitting complete\n"
     ]
    },
    {
     "name": "stderr",
     "output_type": "stream",
     "text": [
      "DiagramVectorizer: batch: 100%|██████████| 98/98 [00:20<00:00,  4.82it/s]\n"
     ]
    },
    {
     "name": "stdout",
     "output_type": "stream",
     "text": [
      "Saving the result to ./19/train/filtrations/6/RadialFiltration_26_12/red/features.npy\n",
      "FiltrationExtractor: processing 19/train/filtrations/6/RadialFiltration_26_12/red, do_fit = False, filtration = RadialFiltration(center=array([26, 12]), n_jobs=-1)\n",
      "Got the result from ./19/train/filtrations/6/RadialFiltration_26_12/red/features.npy\n",
      "FiltrationExtractor: processing 19/train/filtrations/6/RadialFiltration_26_12/green, do_fit = True, filtration = RadialFiltration(center=array([26, 12]), n_jobs=-1)\n",
      "Saving the result to ./19/train/filtrations/6/RadialFiltration_26_12/green/diagrams.npy\n",
      "DiagramVectorizer: fitting complete\n"
     ]
    },
    {
     "name": "stderr",
     "output_type": "stream",
     "text": [
      "DiagramVectorizer: batch: 100%|██████████| 98/98 [00:20<00:00,  4.73it/s]\n"
     ]
    },
    {
     "name": "stdout",
     "output_type": "stream",
     "text": [
      "Saving the result to ./19/train/filtrations/6/RadialFiltration_26_12/green/features.npy\n",
      "FiltrationExtractor: processing 19/train/filtrations/6/RadialFiltration_26_12/green, do_fit = False, filtration = RadialFiltration(center=array([26, 12]), n_jobs=-1)\n",
      "Got the result from ./19/train/filtrations/6/RadialFiltration_26_12/green/features.npy\n",
      "FiltrationExtractor: processing 19/train/filtrations/6/RadialFiltration_26_12/blue, do_fit = True, filtration = RadialFiltration(center=array([26, 12]), n_jobs=-1)\n",
      "Saving the result to ./19/train/filtrations/6/RadialFiltration_26_12/blue/diagrams.npy\n",
      "DiagramVectorizer: fitting complete\n"
     ]
    },
    {
     "name": "stderr",
     "output_type": "stream",
     "text": [
      "DiagramVectorizer: batch: 100%|██████████| 98/98 [00:19<00:00,  4.99it/s]\n"
     ]
    },
    {
     "name": "stdout",
     "output_type": "stream",
     "text": [
      "Saving the result to ./19/train/filtrations/6/RadialFiltration_26_12/blue/features.npy\n",
      "FiltrationExtractor: processing 19/train/filtrations/6/RadialFiltration_26_12/blue, do_fit = False, filtration = RadialFiltration(center=array([26, 12]), n_jobs=-1)\n",
      "Got the result from ./19/train/filtrations/6/RadialFiltration_26_12/blue/features.npy\n",
      "Fitting filtration 80/116: 6/RadialFiltration_26_19\n",
      "RGB images received. Transforming to grayscale.\n"
     ]
    },
    {
     "name": "stderr",
     "output_type": "stream",
     "text": [
      "rgb2gray: 100%|██████████| 50000/50000 [00:03<00:00, 13667.54it/s]\n"
     ]
    },
    {
     "name": "stdout",
     "output_type": "stream",
     "text": [
      "FiltrationExtractor: processing 19/train/filtrations/6/RadialFiltration_26_19/gray, do_fit = True, filtration = RadialFiltration(center=array([26, 19]), n_jobs=-1)\n",
      "Saving the result to ./19/train/filtrations/6/RadialFiltration_26_19/gray/diagrams.npy\n",
      "DiagramVectorizer: fitting complete\n"
     ]
    },
    {
     "name": "stderr",
     "output_type": "stream",
     "text": [
      "DiagramVectorizer: batch: 100%|██████████| 98/98 [00:21<00:00,  4.63it/s]\n"
     ]
    },
    {
     "name": "stdout",
     "output_type": "stream",
     "text": [
      "Saving the result to ./19/train/filtrations/6/RadialFiltration_26_19/gray/features.npy\n",
      "FiltrationExtractor: processing 19/train/filtrations/6/RadialFiltration_26_19/gray, do_fit = False, filtration = RadialFiltration(center=array([26, 19]), n_jobs=-1)\n",
      "Got the result from ./19/train/filtrations/6/RadialFiltration_26_19/gray/features.npy\n",
      "FiltrationExtractor: processing 19/train/filtrations/6/RadialFiltration_26_19/red, do_fit = True, filtration = RadialFiltration(center=array([26, 19]), n_jobs=-1)\n",
      "Saving the result to ./19/train/filtrations/6/RadialFiltration_26_19/red/diagrams.npy\n",
      "DiagramVectorizer: fitting complete\n"
     ]
    },
    {
     "name": "stderr",
     "output_type": "stream",
     "text": [
      "DiagramVectorizer: batch: 100%|██████████| 98/98 [00:20<00:00,  4.68it/s]\n"
     ]
    },
    {
     "name": "stdout",
     "output_type": "stream",
     "text": [
      "Saving the result to ./19/train/filtrations/6/RadialFiltration_26_19/red/features.npy\n",
      "FiltrationExtractor: processing 19/train/filtrations/6/RadialFiltration_26_19/red, do_fit = False, filtration = RadialFiltration(center=array([26, 19]), n_jobs=-1)\n",
      "Got the result from ./19/train/filtrations/6/RadialFiltration_26_19/red/features.npy\n",
      "FiltrationExtractor: processing 19/train/filtrations/6/RadialFiltration_26_19/green, do_fit = True, filtration = RadialFiltration(center=array([26, 19]), n_jobs=-1)\n",
      "Saving the result to ./19/train/filtrations/6/RadialFiltration_26_19/green/diagrams.npy\n",
      "DiagramVectorizer: fitting complete\n"
     ]
    },
    {
     "name": "stderr",
     "output_type": "stream",
     "text": [
      "DiagramVectorizer: batch: 100%|██████████| 98/98 [00:20<00:00,  4.83it/s]\n"
     ]
    },
    {
     "name": "stdout",
     "output_type": "stream",
     "text": [
      "Saving the result to ./19/train/filtrations/6/RadialFiltration_26_19/green/features.npy\n",
      "FiltrationExtractor: processing 19/train/filtrations/6/RadialFiltration_26_19/green, do_fit = False, filtration = RadialFiltration(center=array([26, 19]), n_jobs=-1)\n",
      "Got the result from ./19/train/filtrations/6/RadialFiltration_26_19/green/features.npy\n",
      "FiltrationExtractor: processing 19/train/filtrations/6/RadialFiltration_26_19/blue, do_fit = True, filtration = RadialFiltration(center=array([26, 19]), n_jobs=-1)\n",
      "Saving the result to ./19/train/filtrations/6/RadialFiltration_26_19/blue/diagrams.npy\n",
      "DiagramVectorizer: fitting complete\n"
     ]
    },
    {
     "name": "stderr",
     "output_type": "stream",
     "text": [
      "DiagramVectorizer: batch: 100%|██████████| 98/98 [00:21<00:00,  4.56it/s]\n"
     ]
    },
    {
     "name": "stdout",
     "output_type": "stream",
     "text": [
      "Saving the result to ./19/train/filtrations/6/RadialFiltration_26_19/blue/features.npy\n",
      "FiltrationExtractor: processing 19/train/filtrations/6/RadialFiltration_26_19/blue, do_fit = False, filtration = RadialFiltration(center=array([26, 19]), n_jobs=-1)\n",
      "Got the result from ./19/train/filtrations/6/RadialFiltration_26_19/blue/features.npy\n",
      "Fitting filtration 81/116: 6/RadialFiltration_26_26\n",
      "RGB images received. Transforming to grayscale.\n"
     ]
    },
    {
     "name": "stderr",
     "output_type": "stream",
     "text": [
      "rgb2gray: 100%|██████████| 50000/50000 [00:03<00:00, 12778.24it/s]\n"
     ]
    },
    {
     "name": "stdout",
     "output_type": "stream",
     "text": [
      "FiltrationExtractor: processing 19/train/filtrations/6/RadialFiltration_26_26/gray, do_fit = True, filtration = RadialFiltration(center=array([26, 26]), n_jobs=-1)\n",
      "Saving the result to ./19/train/filtrations/6/RadialFiltration_26_26/gray/diagrams.npy\n",
      "DiagramVectorizer: fitting complete\n"
     ]
    },
    {
     "name": "stderr",
     "output_type": "stream",
     "text": [
      "DiagramVectorizer: batch: 100%|██████████| 98/98 [00:19<00:00,  4.93it/s]\n"
     ]
    },
    {
     "name": "stdout",
     "output_type": "stream",
     "text": [
      "Saving the result to ./19/train/filtrations/6/RadialFiltration_26_26/gray/features.npy\n",
      "FiltrationExtractor: processing 19/train/filtrations/6/RadialFiltration_26_26/gray, do_fit = False, filtration = RadialFiltration(center=array([26, 26]), n_jobs=-1)\n",
      "Got the result from ./19/train/filtrations/6/RadialFiltration_26_26/gray/features.npy\n",
      "FiltrationExtractor: processing 19/train/filtrations/6/RadialFiltration_26_26/red, do_fit = True, filtration = RadialFiltration(center=array([26, 26]), n_jobs=-1)\n",
      "Saving the result to ./19/train/filtrations/6/RadialFiltration_26_26/red/diagrams.npy\n",
      "DiagramVectorizer: fitting complete\n"
     ]
    },
    {
     "name": "stderr",
     "output_type": "stream",
     "text": [
      "DiagramVectorizer: batch: 100%|██████████| 98/98 [00:21<00:00,  4.46it/s]\n"
     ]
    },
    {
     "name": "stdout",
     "output_type": "stream",
     "text": [
      "Saving the result to ./19/train/filtrations/6/RadialFiltration_26_26/red/features.npy\n",
      "FiltrationExtractor: processing 19/train/filtrations/6/RadialFiltration_26_26/red, do_fit = False, filtration = RadialFiltration(center=array([26, 26]), n_jobs=-1)\n",
      "Got the result from ./19/train/filtrations/6/RadialFiltration_26_26/red/features.npy\n",
      "FiltrationExtractor: processing 19/train/filtrations/6/RadialFiltration_26_26/green, do_fit = True, filtration = RadialFiltration(center=array([26, 26]), n_jobs=-1)\n",
      "Saving the result to ./19/train/filtrations/6/RadialFiltration_26_26/green/diagrams.npy\n",
      "DiagramVectorizer: fitting complete\n"
     ]
    },
    {
     "name": "stderr",
     "output_type": "stream",
     "text": [
      "DiagramVectorizer: batch: 100%|██████████| 98/98 [00:21<00:00,  4.64it/s]\n"
     ]
    },
    {
     "name": "stdout",
     "output_type": "stream",
     "text": [
      "Saving the result to ./19/train/filtrations/6/RadialFiltration_26_26/green/features.npy\n",
      "FiltrationExtractor: processing 19/train/filtrations/6/RadialFiltration_26_26/green, do_fit = False, filtration = RadialFiltration(center=array([26, 26]), n_jobs=-1)\n",
      "Got the result from ./19/train/filtrations/6/RadialFiltration_26_26/green/features.npy\n",
      "FiltrationExtractor: processing 19/train/filtrations/6/RadialFiltration_26_26/blue, do_fit = True, filtration = RadialFiltration(center=array([26, 26]), n_jobs=-1)\n",
      "Saving the result to ./19/train/filtrations/6/RadialFiltration_26_26/blue/diagrams.npy\n",
      "DiagramVectorizer: fitting complete\n"
     ]
    },
    {
     "name": "stderr",
     "output_type": "stream",
     "text": [
      "DiagramVectorizer: batch: 100%|██████████| 98/98 [00:21<00:00,  4.65it/s]\n"
     ]
    },
    {
     "name": "stdout",
     "output_type": "stream",
     "text": [
      "Saving the result to ./19/train/filtrations/6/RadialFiltration_26_26/blue/features.npy\n",
      "FiltrationExtractor: processing 19/train/filtrations/6/RadialFiltration_26_26/blue, do_fit = False, filtration = RadialFiltration(center=array([26, 26]), n_jobs=-1)\n",
      "Got the result from ./19/train/filtrations/6/RadialFiltration_26_26/blue/features.npy\n",
      "Fitting filtration 82/116: 6/DilationFiltration\n",
      "RGB images received. Transforming to grayscale.\n"
     ]
    },
    {
     "name": "stderr",
     "output_type": "stream",
     "text": [
      "rgb2gray: 100%|██████████| 50000/50000 [00:03<00:00, 12726.61it/s]\n"
     ]
    },
    {
     "name": "stdout",
     "output_type": "stream",
     "text": [
      "FiltrationExtractor: processing 19/train/filtrations/6/DilationFiltration/gray, do_fit = True, filtration = DilationFiltration(n_jobs=-1)\n",
      "Saving the result to ./19/train/filtrations/6/DilationFiltration/gray/diagrams.npy\n",
      "DiagramVectorizer: fitting complete\n"
     ]
    },
    {
     "name": "stderr",
     "output_type": "stream",
     "text": [
      "DiagramVectorizer: batch: 100%|██████████| 98/98 [00:20<00:00,  4.80it/s]\n"
     ]
    },
    {
     "name": "stdout",
     "output_type": "stream",
     "text": [
      "Saving the result to ./19/train/filtrations/6/DilationFiltration/gray/features.npy\n",
      "FiltrationExtractor: processing 19/train/filtrations/6/DilationFiltration/gray, do_fit = False, filtration = DilationFiltration(n_jobs=-1)\n",
      "Got the result from ./19/train/filtrations/6/DilationFiltration/gray/features.npy\n",
      "FiltrationExtractor: processing 19/train/filtrations/6/DilationFiltration/red, do_fit = True, filtration = DilationFiltration(n_jobs=-1)\n",
      "Saving the result to ./19/train/filtrations/6/DilationFiltration/red/diagrams.npy\n",
      "DiagramVectorizer: fitting complete\n"
     ]
    },
    {
     "name": "stderr",
     "output_type": "stream",
     "text": [
      "DiagramVectorizer: batch: 100%|██████████| 98/98 [00:19<00:00,  5.04it/s]\n"
     ]
    },
    {
     "name": "stdout",
     "output_type": "stream",
     "text": [
      "Saving the result to ./19/train/filtrations/6/DilationFiltration/red/features.npy\n",
      "FiltrationExtractor: processing 19/train/filtrations/6/DilationFiltration/red, do_fit = False, filtration = DilationFiltration(n_jobs=-1)\n",
      "Got the result from ./19/train/filtrations/6/DilationFiltration/red/features.npy\n",
      "FiltrationExtractor: processing 19/train/filtrations/6/DilationFiltration/green, do_fit = True, filtration = DilationFiltration(n_jobs=-1)\n",
      "Saving the result to ./19/train/filtrations/6/DilationFiltration/green/diagrams.npy\n",
      "DiagramVectorizer: fitting complete\n"
     ]
    },
    {
     "name": "stderr",
     "output_type": "stream",
     "text": [
      "DiagramVectorizer: batch: 100%|██████████| 98/98 [00:20<00:00,  4.70it/s]\n"
     ]
    },
    {
     "name": "stdout",
     "output_type": "stream",
     "text": [
      "Saving the result to ./19/train/filtrations/6/DilationFiltration/green/features.npy\n",
      "FiltrationExtractor: processing 19/train/filtrations/6/DilationFiltration/green, do_fit = False, filtration = DilationFiltration(n_jobs=-1)\n",
      "Got the result from ./19/train/filtrations/6/DilationFiltration/green/features.npy\n",
      "FiltrationExtractor: processing 19/train/filtrations/6/DilationFiltration/blue, do_fit = True, filtration = DilationFiltration(n_jobs=-1)\n",
      "Saving the result to ./19/train/filtrations/6/DilationFiltration/blue/diagrams.npy\n",
      "DiagramVectorizer: fitting complete\n"
     ]
    },
    {
     "name": "stderr",
     "output_type": "stream",
     "text": [
      "DiagramVectorizer: batch: 100%|██████████| 98/98 [00:22<00:00,  4.42it/s]\n"
     ]
    },
    {
     "name": "stdout",
     "output_type": "stream",
     "text": [
      "Saving the result to ./19/train/filtrations/6/DilationFiltration/blue/features.npy\n",
      "FiltrationExtractor: processing 19/train/filtrations/6/DilationFiltration/blue, do_fit = False, filtration = DilationFiltration(n_jobs=-1)\n",
      "Got the result from ./19/train/filtrations/6/DilationFiltration/blue/features.npy\n",
      "Fitting filtration 83/116: 6/ErosionFiltration\n",
      "RGB images received. Transforming to grayscale.\n"
     ]
    },
    {
     "name": "stderr",
     "output_type": "stream",
     "text": [
      "rgb2gray: 100%|██████████| 50000/50000 [00:03<00:00, 12847.25it/s]\n"
     ]
    },
    {
     "name": "stdout",
     "output_type": "stream",
     "text": [
      "FiltrationExtractor: processing 19/train/filtrations/6/ErosionFiltration/gray, do_fit = True, filtration = ErosionFiltration(n_jobs=-1)\n",
      "Saving the result to ./19/train/filtrations/6/ErosionFiltration/gray/diagrams.npy\n",
      "DiagramVectorizer: fitting complete\n"
     ]
    },
    {
     "name": "stderr",
     "output_type": "stream",
     "text": [
      "DiagramVectorizer: batch: 100%|██████████| 98/98 [00:23<00:00,  4.20it/s]\n"
     ]
    },
    {
     "name": "stdout",
     "output_type": "stream",
     "text": [
      "Saving the result to ./19/train/filtrations/6/ErosionFiltration/gray/features.npy\n",
      "FiltrationExtractor: processing 19/train/filtrations/6/ErosionFiltration/gray, do_fit = False, filtration = ErosionFiltration(n_jobs=-1)\n",
      "Got the result from ./19/train/filtrations/6/ErosionFiltration/gray/features.npy\n",
      "FiltrationExtractor: processing 19/train/filtrations/6/ErosionFiltration/red, do_fit = True, filtration = ErosionFiltration(n_jobs=-1)\n",
      "Saving the result to ./19/train/filtrations/6/ErosionFiltration/red/diagrams.npy\n",
      "DiagramVectorizer: fitting complete\n"
     ]
    },
    {
     "name": "stderr",
     "output_type": "stream",
     "text": [
      "DiagramVectorizer: batch: 100%|██████████| 98/98 [00:21<00:00,  4.49it/s]\n"
     ]
    },
    {
     "name": "stdout",
     "output_type": "stream",
     "text": [
      "Saving the result to ./19/train/filtrations/6/ErosionFiltration/red/features.npy\n",
      "FiltrationExtractor: processing 19/train/filtrations/6/ErosionFiltration/red, do_fit = False, filtration = ErosionFiltration(n_jobs=-1)\n",
      "Got the result from ./19/train/filtrations/6/ErosionFiltration/red/features.npy\n",
      "FiltrationExtractor: processing 19/train/filtrations/6/ErosionFiltration/green, do_fit = True, filtration = ErosionFiltration(n_jobs=-1)\n",
      "Saving the result to ./19/train/filtrations/6/ErosionFiltration/green/diagrams.npy\n",
      "DiagramVectorizer: fitting complete\n"
     ]
    },
    {
     "name": "stderr",
     "output_type": "stream",
     "text": [
      "DiagramVectorizer: batch: 100%|██████████| 98/98 [00:20<00:00,  4.69it/s]\n"
     ]
    },
    {
     "name": "stdout",
     "output_type": "stream",
     "text": [
      "Saving the result to ./19/train/filtrations/6/ErosionFiltration/green/features.npy\n",
      "FiltrationExtractor: processing 19/train/filtrations/6/ErosionFiltration/green, do_fit = False, filtration = ErosionFiltration(n_jobs=-1)\n",
      "Got the result from ./19/train/filtrations/6/ErosionFiltration/green/features.npy\n",
      "FiltrationExtractor: processing 19/train/filtrations/6/ErosionFiltration/blue, do_fit = True, filtration = ErosionFiltration(n_jobs=-1)\n",
      "Saving the result to ./19/train/filtrations/6/ErosionFiltration/blue/diagrams.npy\n",
      "DiagramVectorizer: fitting complete\n"
     ]
    },
    {
     "name": "stderr",
     "output_type": "stream",
     "text": [
      "DiagramVectorizer: batch: 100%|██████████| 98/98 [00:21<00:00,  4.57it/s]\n"
     ]
    },
    {
     "name": "stdout",
     "output_type": "stream",
     "text": [
      "Saving the result to ./19/train/filtrations/6/ErosionFiltration/blue/features.npy\n",
      "FiltrationExtractor: processing 19/train/filtrations/6/ErosionFiltration/blue, do_fit = False, filtration = ErosionFiltration(n_jobs=-1)\n",
      "Got the result from ./19/train/filtrations/6/ErosionFiltration/blue/features.npy\n",
      "Fitting filtration 84/116: 6/SignedDistanceFiltration\n",
      "RGB images received. Transforming to grayscale.\n"
     ]
    },
    {
     "name": "stderr",
     "output_type": "stream",
     "text": [
      "rgb2gray: 100%|██████████| 50000/50000 [00:03<00:00, 13129.19it/s]\n"
     ]
    },
    {
     "name": "stdout",
     "output_type": "stream",
     "text": [
      "FiltrationExtractor: processing 19/train/filtrations/6/SignedDistanceFiltration/gray, do_fit = True, filtration = SignedDistanceFiltration(n_jobs=-1)\n",
      "Saving the result to ./19/train/filtrations/6/SignedDistanceFiltration/gray/diagrams.npy\n",
      "DiagramVectorizer: fitting complete\n"
     ]
    },
    {
     "name": "stderr",
     "output_type": "stream",
     "text": [
      "DiagramVectorizer: batch: 100%|██████████| 98/98 [00:21<00:00,  4.60it/s]\n"
     ]
    },
    {
     "name": "stdout",
     "output_type": "stream",
     "text": [
      "Saving the result to ./19/train/filtrations/6/SignedDistanceFiltration/gray/features.npy\n",
      "FiltrationExtractor: processing 19/train/filtrations/6/SignedDistanceFiltration/gray, do_fit = False, filtration = SignedDistanceFiltration(n_jobs=-1)\n",
      "Got the result from ./19/train/filtrations/6/SignedDistanceFiltration/gray/features.npy\n",
      "FiltrationExtractor: processing 19/train/filtrations/6/SignedDistanceFiltration/red, do_fit = True, filtration = SignedDistanceFiltration(n_jobs=-1)\n",
      "Saving the result to ./19/train/filtrations/6/SignedDistanceFiltration/red/diagrams.npy\n",
      "DiagramVectorizer: fitting complete\n"
     ]
    },
    {
     "name": "stderr",
     "output_type": "stream",
     "text": [
      "DiagramVectorizer: batch: 100%|██████████| 98/98 [00:20<00:00,  4.89it/s]\n"
     ]
    },
    {
     "name": "stdout",
     "output_type": "stream",
     "text": [
      "Saving the result to ./19/train/filtrations/6/SignedDistanceFiltration/red/features.npy\n",
      "FiltrationExtractor: processing 19/train/filtrations/6/SignedDistanceFiltration/red, do_fit = False, filtration = SignedDistanceFiltration(n_jobs=-1)\n",
      "Got the result from ./19/train/filtrations/6/SignedDistanceFiltration/red/features.npy\n",
      "FiltrationExtractor: processing 19/train/filtrations/6/SignedDistanceFiltration/green, do_fit = True, filtration = SignedDistanceFiltration(n_jobs=-1)\n",
      "Saving the result to ./19/train/filtrations/6/SignedDistanceFiltration/green/diagrams.npy\n",
      "DiagramVectorizer: fitting complete\n"
     ]
    },
    {
     "name": "stderr",
     "output_type": "stream",
     "text": [
      "DiagramVectorizer: batch: 100%|██████████| 98/98 [00:20<00:00,  4.88it/s]\n"
     ]
    },
    {
     "name": "stdout",
     "output_type": "stream",
     "text": [
      "Saving the result to ./19/train/filtrations/6/SignedDistanceFiltration/green/features.npy\n",
      "FiltrationExtractor: processing 19/train/filtrations/6/SignedDistanceFiltration/green, do_fit = False, filtration = SignedDistanceFiltration(n_jobs=-1)\n",
      "Got the result from ./19/train/filtrations/6/SignedDistanceFiltration/green/features.npy\n",
      "FiltrationExtractor: processing 19/train/filtrations/6/SignedDistanceFiltration/blue, do_fit = True, filtration = SignedDistanceFiltration(n_jobs=-1)\n",
      "Saving the result to ./19/train/filtrations/6/SignedDistanceFiltration/blue/diagrams.npy\n",
      "DiagramVectorizer: fitting complete\n"
     ]
    },
    {
     "name": "stderr",
     "output_type": "stream",
     "text": [
      "DiagramVectorizer: batch: 100%|██████████| 98/98 [00:19<00:00,  5.16it/s]\n"
     ]
    },
    {
     "name": "stdout",
     "output_type": "stream",
     "text": [
      "Saving the result to ./19/train/filtrations/6/SignedDistanceFiltration/blue/features.npy\n",
      "FiltrationExtractor: processing 19/train/filtrations/6/SignedDistanceFiltration/blue, do_fit = False, filtration = SignedDistanceFiltration(n_jobs=-1)\n",
      "Got the result from ./19/train/filtrations/6/SignedDistanceFiltration/blue/features.npy\n",
      "Fitting filtration 85/116: 6/DensityFiltration_1\n",
      "RGB images received. Transforming to grayscale.\n"
     ]
    },
    {
     "name": "stderr",
     "output_type": "stream",
     "text": [
      "rgb2gray: 100%|██████████| 50000/50000 [00:03<00:00, 12965.72it/s]\n"
     ]
    },
    {
     "name": "stdout",
     "output_type": "stream",
     "text": [
      "FiltrationExtractor: processing 19/train/filtrations/6/DensityFiltration_1/gray, do_fit = True, filtration = DensityFiltration(n_jobs=-1, radius=1)\n",
      "Saving the result to ./19/train/filtrations/6/DensityFiltration_1/gray/diagrams.npy\n",
      "DiagramVectorizer: fitting complete\n"
     ]
    },
    {
     "name": "stderr",
     "output_type": "stream",
     "text": [
      "DiagramVectorizer: batch: 100%|██████████| 98/98 [00:33<00:00,  2.95it/s]\n"
     ]
    },
    {
     "name": "stdout",
     "output_type": "stream",
     "text": [
      "Saving the result to ./19/train/filtrations/6/DensityFiltration_1/gray/features.npy\n",
      "FiltrationExtractor: processing 19/train/filtrations/6/DensityFiltration_1/gray, do_fit = False, filtration = DensityFiltration(n_jobs=-1, radius=1)\n",
      "Got the result from ./19/train/filtrations/6/DensityFiltration_1/gray/features.npy\n",
      "FiltrationExtractor: processing 19/train/filtrations/6/DensityFiltration_1/red, do_fit = True, filtration = DensityFiltration(n_jobs=-1, radius=1)\n",
      "Saving the result to ./19/train/filtrations/6/DensityFiltration_1/red/diagrams.npy\n",
      "DiagramVectorizer: fitting complete\n"
     ]
    },
    {
     "name": "stderr",
     "output_type": "stream",
     "text": [
      "DiagramVectorizer: batch: 100%|██████████| 98/98 [00:32<00:00,  3.00it/s]\n"
     ]
    },
    {
     "name": "stdout",
     "output_type": "stream",
     "text": [
      "Saving the result to ./19/train/filtrations/6/DensityFiltration_1/red/features.npy\n",
      "FiltrationExtractor: processing 19/train/filtrations/6/DensityFiltration_1/red, do_fit = False, filtration = DensityFiltration(n_jobs=-1, radius=1)\n",
      "Got the result from ./19/train/filtrations/6/DensityFiltration_1/red/features.npy\n",
      "FiltrationExtractor: processing 19/train/filtrations/6/DensityFiltration_1/green, do_fit = True, filtration = DensityFiltration(n_jobs=-1, radius=1)\n",
      "Saving the result to ./19/train/filtrations/6/DensityFiltration_1/green/diagrams.npy\n",
      "DiagramVectorizer: fitting complete\n"
     ]
    },
    {
     "name": "stderr",
     "output_type": "stream",
     "text": [
      "DiagramVectorizer: batch: 100%|██████████| 98/98 [00:33<00:00,  2.90it/s]\n"
     ]
    },
    {
     "name": "stdout",
     "output_type": "stream",
     "text": [
      "Saving the result to ./19/train/filtrations/6/DensityFiltration_1/green/features.npy\n",
      "FiltrationExtractor: processing 19/train/filtrations/6/DensityFiltration_1/green, do_fit = False, filtration = DensityFiltration(n_jobs=-1, radius=1)\n",
      "Got the result from ./19/train/filtrations/6/DensityFiltration_1/green/features.npy\n",
      "FiltrationExtractor: processing 19/train/filtrations/6/DensityFiltration_1/blue, do_fit = True, filtration = DensityFiltration(n_jobs=-1, radius=1)\n",
      "Saving the result to ./19/train/filtrations/6/DensityFiltration_1/blue/diagrams.npy\n",
      "DiagramVectorizer: fitting complete\n"
     ]
    },
    {
     "name": "stderr",
     "output_type": "stream",
     "text": [
      "DiagramVectorizer: batch: 100%|██████████| 98/98 [00:33<00:00,  2.94it/s]\n"
     ]
    },
    {
     "name": "stdout",
     "output_type": "stream",
     "text": [
      "Saving the result to ./19/train/filtrations/6/DensityFiltration_1/blue/features.npy\n",
      "FiltrationExtractor: processing 19/train/filtrations/6/DensityFiltration_1/blue, do_fit = False, filtration = DensityFiltration(n_jobs=-1, radius=1)\n",
      "Got the result from ./19/train/filtrations/6/DensityFiltration_1/blue/features.npy\n",
      "Fitting filtration 86/116: 6/DensityFiltration_3\n",
      "RGB images received. Transforming to grayscale.\n"
     ]
    },
    {
     "name": "stderr",
     "output_type": "stream",
     "text": [
      "rgb2gray: 100%|██████████| 50000/50000 [00:03<00:00, 12804.10it/s]\n"
     ]
    },
    {
     "name": "stdout",
     "output_type": "stream",
     "text": [
      "FiltrationExtractor: processing 19/train/filtrations/6/DensityFiltration_3/gray, do_fit = True, filtration = DensityFiltration(n_jobs=-1)\n",
      "Saving the result to ./19/train/filtrations/6/DensityFiltration_3/gray/diagrams.npy\n",
      "DiagramVectorizer: fitting complete\n"
     ]
    },
    {
     "name": "stderr",
     "output_type": "stream",
     "text": [
      "DiagramVectorizer: batch: 100%|██████████| 98/98 [00:21<00:00,  4.52it/s]\n"
     ]
    },
    {
     "name": "stdout",
     "output_type": "stream",
     "text": [
      "Saving the result to ./19/train/filtrations/6/DensityFiltration_3/gray/features.npy\n",
      "FiltrationExtractor: processing 19/train/filtrations/6/DensityFiltration_3/gray, do_fit = False, filtration = DensityFiltration(n_jobs=-1)\n",
      "Got the result from ./19/train/filtrations/6/DensityFiltration_3/gray/features.npy\n",
      "FiltrationExtractor: processing 19/train/filtrations/6/DensityFiltration_3/red, do_fit = True, filtration = DensityFiltration(n_jobs=-1)\n",
      "Saving the result to ./19/train/filtrations/6/DensityFiltration_3/red/diagrams.npy\n",
      "DiagramVectorizer: fitting complete\n"
     ]
    },
    {
     "name": "stderr",
     "output_type": "stream",
     "text": [
      "DiagramVectorizer: batch: 100%|██████████| 98/98 [00:21<00:00,  4.54it/s]\n"
     ]
    },
    {
     "name": "stdout",
     "output_type": "stream",
     "text": [
      "Saving the result to ./19/train/filtrations/6/DensityFiltration_3/red/features.npy\n",
      "FiltrationExtractor: processing 19/train/filtrations/6/DensityFiltration_3/red, do_fit = False, filtration = DensityFiltration(n_jobs=-1)\n",
      "Got the result from ./19/train/filtrations/6/DensityFiltration_3/red/features.npy\n",
      "FiltrationExtractor: processing 19/train/filtrations/6/DensityFiltration_3/green, do_fit = True, filtration = DensityFiltration(n_jobs=-1)\n",
      "Saving the result to ./19/train/filtrations/6/DensityFiltration_3/green/diagrams.npy\n",
      "DiagramVectorizer: fitting complete\n"
     ]
    },
    {
     "name": "stderr",
     "output_type": "stream",
     "text": [
      "DiagramVectorizer: batch: 100%|██████████| 98/98 [00:19<00:00,  4.91it/s]\n"
     ]
    },
    {
     "name": "stdout",
     "output_type": "stream",
     "text": [
      "Saving the result to ./19/train/filtrations/6/DensityFiltration_3/green/features.npy\n",
      "FiltrationExtractor: processing 19/train/filtrations/6/DensityFiltration_3/green, do_fit = False, filtration = DensityFiltration(n_jobs=-1)\n",
      "Got the result from ./19/train/filtrations/6/DensityFiltration_3/green/features.npy\n",
      "FiltrationExtractor: processing 19/train/filtrations/6/DensityFiltration_3/blue, do_fit = True, filtration = DensityFiltration(n_jobs=-1)\n",
      "Saving the result to ./19/train/filtrations/6/DensityFiltration_3/blue/diagrams.npy\n",
      "DiagramVectorizer: fitting complete\n"
     ]
    },
    {
     "name": "stderr",
     "output_type": "stream",
     "text": [
      "DiagramVectorizer: batch: 100%|██████████| 98/98 [00:20<00:00,  4.78it/s]\n"
     ]
    },
    {
     "name": "stdout",
     "output_type": "stream",
     "text": [
      "Saving the result to ./19/train/filtrations/6/DensityFiltration_3/blue/features.npy\n",
      "FiltrationExtractor: processing 19/train/filtrations/6/DensityFiltration_3/blue, do_fit = False, filtration = DensityFiltration(n_jobs=-1)\n",
      "Got the result from ./19/train/filtrations/6/DensityFiltration_3/blue/features.npy\n",
      "Fitting filtration 87/116: 8/HeightFiltrartion_-1_-1\n",
      "RGB images received. Transforming to grayscale.\n"
     ]
    },
    {
     "name": "stderr",
     "output_type": "stream",
     "text": [
      "rgb2gray: 100%|██████████| 50000/50000 [00:03<00:00, 12889.93it/s]\n"
     ]
    },
    {
     "name": "stdout",
     "output_type": "stream",
     "text": [
      "FiltrationExtractor: processing 19/train/filtrations/8/HeightFiltrartion_-1_-1/gray, do_fit = True, filtration = HeightFiltration(direction=array([-1, -1]), n_jobs=-1)\n",
      "Saving the result to ./19/train/filtrations/8/HeightFiltrartion_-1_-1/gray/diagrams.npy\n",
      "DiagramVectorizer: fitting complete\n"
     ]
    },
    {
     "name": "stderr",
     "output_type": "stream",
     "text": [
      "DiagramVectorizer: batch: 100%|██████████| 98/98 [00:19<00:00,  4.96it/s]\n"
     ]
    },
    {
     "name": "stdout",
     "output_type": "stream",
     "text": [
      "Saving the result to ./19/train/filtrations/8/HeightFiltrartion_-1_-1/gray/features.npy\n",
      "FiltrationExtractor: processing 19/train/filtrations/8/HeightFiltrartion_-1_-1/gray, do_fit = False, filtration = HeightFiltration(direction=array([-1, -1]), n_jobs=-1)\n",
      "Got the result from ./19/train/filtrations/8/HeightFiltrartion_-1_-1/gray/features.npy\n",
      "FiltrationExtractor: processing 19/train/filtrations/8/HeightFiltrartion_-1_-1/red, do_fit = True, filtration = HeightFiltration(direction=array([-1, -1]), n_jobs=-1)\n",
      "Saving the result to ./19/train/filtrations/8/HeightFiltrartion_-1_-1/red/diagrams.npy\n",
      "DiagramVectorizer: fitting complete\n"
     ]
    },
    {
     "name": "stderr",
     "output_type": "stream",
     "text": [
      "DiagramVectorizer: batch: 100%|██████████| 98/98 [00:19<00:00,  5.15it/s]\n"
     ]
    },
    {
     "name": "stdout",
     "output_type": "stream",
     "text": [
      "Saving the result to ./19/train/filtrations/8/HeightFiltrartion_-1_-1/red/features.npy\n",
      "FiltrationExtractor: processing 19/train/filtrations/8/HeightFiltrartion_-1_-1/red, do_fit = False, filtration = HeightFiltration(direction=array([-1, -1]), n_jobs=-1)\n",
      "Got the result from ./19/train/filtrations/8/HeightFiltrartion_-1_-1/red/features.npy\n",
      "FiltrationExtractor: processing 19/train/filtrations/8/HeightFiltrartion_-1_-1/green, do_fit = True, filtration = HeightFiltration(direction=array([-1, -1]), n_jobs=-1)\n",
      "Saving the result to ./19/train/filtrations/8/HeightFiltrartion_-1_-1/green/diagrams.npy\n",
      "DiagramVectorizer: fitting complete\n"
     ]
    },
    {
     "name": "stderr",
     "output_type": "stream",
     "text": [
      "DiagramVectorizer: batch: 100%|██████████| 98/98 [00:19<00:00,  4.94it/s]\n"
     ]
    },
    {
     "name": "stdout",
     "output_type": "stream",
     "text": [
      "Saving the result to ./19/train/filtrations/8/HeightFiltrartion_-1_-1/green/features.npy\n",
      "FiltrationExtractor: processing 19/train/filtrations/8/HeightFiltrartion_-1_-1/green, do_fit = False, filtration = HeightFiltration(direction=array([-1, -1]), n_jobs=-1)\n",
      "Got the result from ./19/train/filtrations/8/HeightFiltrartion_-1_-1/green/features.npy\n",
      "FiltrationExtractor: processing 19/train/filtrations/8/HeightFiltrartion_-1_-1/blue, do_fit = True, filtration = HeightFiltration(direction=array([-1, -1]), n_jobs=-1)\n",
      "Saving the result to ./19/train/filtrations/8/HeightFiltrartion_-1_-1/blue/diagrams.npy\n",
      "DiagramVectorizer: fitting complete\n"
     ]
    },
    {
     "name": "stderr",
     "output_type": "stream",
     "text": [
      "DiagramVectorizer: batch: 100%|██████████| 98/98 [00:20<00:00,  4.85it/s]\n"
     ]
    },
    {
     "name": "stdout",
     "output_type": "stream",
     "text": [
      "Saving the result to ./19/train/filtrations/8/HeightFiltrartion_-1_-1/blue/features.npy\n",
      "FiltrationExtractor: processing 19/train/filtrations/8/HeightFiltrartion_-1_-1/blue, do_fit = False, filtration = HeightFiltration(direction=array([-1, -1]), n_jobs=-1)\n",
      "Got the result from ./19/train/filtrations/8/HeightFiltrartion_-1_-1/blue/features.npy\n",
      "Fitting filtration 88/116: 8/HeightFiltrartion_1_1\n",
      "RGB images received. Transforming to grayscale.\n"
     ]
    },
    {
     "name": "stderr",
     "output_type": "stream",
     "text": [
      "rgb2gray: 100%|██████████| 50000/50000 [00:03<00:00, 12880.78it/s]\n"
     ]
    },
    {
     "name": "stdout",
     "output_type": "stream",
     "text": [
      "FiltrationExtractor: processing 19/train/filtrations/8/HeightFiltrartion_1_1/gray, do_fit = True, filtration = HeightFiltration(direction=array([1, 1]), n_jobs=-1)\n",
      "Saving the result to ./19/train/filtrations/8/HeightFiltrartion_1_1/gray/diagrams.npy\n",
      "DiagramVectorizer: fitting complete\n"
     ]
    },
    {
     "name": "stderr",
     "output_type": "stream",
     "text": [
      "DiagramVectorizer: batch: 100%|██████████| 98/98 [00:18<00:00,  5.16it/s]\n"
     ]
    },
    {
     "name": "stdout",
     "output_type": "stream",
     "text": [
      "Saving the result to ./19/train/filtrations/8/HeightFiltrartion_1_1/gray/features.npy\n",
      "FiltrationExtractor: processing 19/train/filtrations/8/HeightFiltrartion_1_1/gray, do_fit = False, filtration = HeightFiltration(direction=array([1, 1]), n_jobs=-1)\n",
      "Got the result from ./19/train/filtrations/8/HeightFiltrartion_1_1/gray/features.npy\n",
      "FiltrationExtractor: processing 19/train/filtrations/8/HeightFiltrartion_1_1/red, do_fit = True, filtration = HeightFiltration(direction=array([1, 1]), n_jobs=-1)\n",
      "Saving the result to ./19/train/filtrations/8/HeightFiltrartion_1_1/red/diagrams.npy\n",
      "DiagramVectorizer: fitting complete\n"
     ]
    },
    {
     "name": "stderr",
     "output_type": "stream",
     "text": [
      "DiagramVectorizer: batch: 100%|██████████| 98/98 [00:19<00:00,  5.07it/s]\n"
     ]
    },
    {
     "name": "stdout",
     "output_type": "stream",
     "text": [
      "Saving the result to ./19/train/filtrations/8/HeightFiltrartion_1_1/red/features.npy\n",
      "FiltrationExtractor: processing 19/train/filtrations/8/HeightFiltrartion_1_1/red, do_fit = False, filtration = HeightFiltration(direction=array([1, 1]), n_jobs=-1)\n",
      "Got the result from ./19/train/filtrations/8/HeightFiltrartion_1_1/red/features.npy\n",
      "FiltrationExtractor: processing 19/train/filtrations/8/HeightFiltrartion_1_1/green, do_fit = True, filtration = HeightFiltration(direction=array([1, 1]), n_jobs=-1)\n",
      "Saving the result to ./19/train/filtrations/8/HeightFiltrartion_1_1/green/diagrams.npy\n",
      "DiagramVectorizer: fitting complete\n"
     ]
    },
    {
     "name": "stderr",
     "output_type": "stream",
     "text": [
      "DiagramVectorizer: batch: 100%|██████████| 98/98 [00:18<00:00,  5.17it/s]\n"
     ]
    },
    {
     "name": "stdout",
     "output_type": "stream",
     "text": [
      "Saving the result to ./19/train/filtrations/8/HeightFiltrartion_1_1/green/features.npy\n",
      "FiltrationExtractor: processing 19/train/filtrations/8/HeightFiltrartion_1_1/green, do_fit = False, filtration = HeightFiltration(direction=array([1, 1]), n_jobs=-1)\n",
      "Got the result from ./19/train/filtrations/8/HeightFiltrartion_1_1/green/features.npy\n",
      "FiltrationExtractor: processing 19/train/filtrations/8/HeightFiltrartion_1_1/blue, do_fit = True, filtration = HeightFiltration(direction=array([1, 1]), n_jobs=-1)\n",
      "Saving the result to ./19/train/filtrations/8/HeightFiltrartion_1_1/blue/diagrams.npy\n",
      "DiagramVectorizer: fitting complete\n"
     ]
    },
    {
     "name": "stderr",
     "output_type": "stream",
     "text": [
      "DiagramVectorizer: batch: 100%|██████████| 98/98 [00:19<00:00,  4.99it/s]\n"
     ]
    },
    {
     "name": "stdout",
     "output_type": "stream",
     "text": [
      "Saving the result to ./19/train/filtrations/8/HeightFiltrartion_1_1/blue/features.npy\n",
      "FiltrationExtractor: processing 19/train/filtrations/8/HeightFiltrartion_1_1/blue, do_fit = False, filtration = HeightFiltration(direction=array([1, 1]), n_jobs=-1)\n",
      "Got the result from ./19/train/filtrations/8/HeightFiltrartion_1_1/blue/features.npy\n",
      "Fitting filtration 89/116: 8/HeightFiltrartion_1_-1\n",
      "RGB images received. Transforming to grayscale.\n"
     ]
    },
    {
     "name": "stderr",
     "output_type": "stream",
     "text": [
      "rgb2gray: 100%|██████████| 50000/50000 [00:03<00:00, 13069.43it/s]\n"
     ]
    },
    {
     "name": "stdout",
     "output_type": "stream",
     "text": [
      "FiltrationExtractor: processing 19/train/filtrations/8/HeightFiltrartion_1_-1/gray, do_fit = True, filtration = HeightFiltration(direction=array([ 1, -1]), n_jobs=-1)\n",
      "Saving the result to ./19/train/filtrations/8/HeightFiltrartion_1_-1/gray/diagrams.npy\n",
      "DiagramVectorizer: fitting complete\n"
     ]
    },
    {
     "name": "stderr",
     "output_type": "stream",
     "text": [
      "DiagramVectorizer: batch: 100%|██████████| 98/98 [00:19<00:00,  5.14it/s]\n"
     ]
    },
    {
     "name": "stdout",
     "output_type": "stream",
     "text": [
      "Saving the result to ./19/train/filtrations/8/HeightFiltrartion_1_-1/gray/features.npy\n",
      "FiltrationExtractor: processing 19/train/filtrations/8/HeightFiltrartion_1_-1/gray, do_fit = False, filtration = HeightFiltration(direction=array([ 1, -1]), n_jobs=-1)\n",
      "Got the result from ./19/train/filtrations/8/HeightFiltrartion_1_-1/gray/features.npy\n",
      "FiltrationExtractor: processing 19/train/filtrations/8/HeightFiltrartion_1_-1/red, do_fit = True, filtration = HeightFiltration(direction=array([ 1, -1]), n_jobs=-1)\n",
      "Saving the result to ./19/train/filtrations/8/HeightFiltrartion_1_-1/red/diagrams.npy\n",
      "DiagramVectorizer: fitting complete\n"
     ]
    },
    {
     "name": "stderr",
     "output_type": "stream",
     "text": [
      "DiagramVectorizer: batch: 100%|██████████| 98/98 [00:20<00:00,  4.82it/s]\n"
     ]
    },
    {
     "name": "stdout",
     "output_type": "stream",
     "text": [
      "Saving the result to ./19/train/filtrations/8/HeightFiltrartion_1_-1/red/features.npy\n",
      "FiltrationExtractor: processing 19/train/filtrations/8/HeightFiltrartion_1_-1/red, do_fit = False, filtration = HeightFiltration(direction=array([ 1, -1]), n_jobs=-1)\n",
      "Got the result from ./19/train/filtrations/8/HeightFiltrartion_1_-1/red/features.npy\n",
      "FiltrationExtractor: processing 19/train/filtrations/8/HeightFiltrartion_1_-1/green, do_fit = True, filtration = HeightFiltration(direction=array([ 1, -1]), n_jobs=-1)\n",
      "Saving the result to ./19/train/filtrations/8/HeightFiltrartion_1_-1/green/diagrams.npy\n",
      "DiagramVectorizer: fitting complete\n"
     ]
    },
    {
     "name": "stderr",
     "output_type": "stream",
     "text": [
      "DiagramVectorizer: batch: 100%|██████████| 98/98 [00:20<00:00,  4.82it/s]\n"
     ]
    },
    {
     "name": "stdout",
     "output_type": "stream",
     "text": [
      "Saving the result to ./19/train/filtrations/8/HeightFiltrartion_1_-1/green/features.npy\n",
      "FiltrationExtractor: processing 19/train/filtrations/8/HeightFiltrartion_1_-1/green, do_fit = False, filtration = HeightFiltration(direction=array([ 1, -1]), n_jobs=-1)\n",
      "Got the result from ./19/train/filtrations/8/HeightFiltrartion_1_-1/green/features.npy\n",
      "FiltrationExtractor: processing 19/train/filtrations/8/HeightFiltrartion_1_-1/blue, do_fit = True, filtration = HeightFiltration(direction=array([ 1, -1]), n_jobs=-1)\n",
      "Saving the result to ./19/train/filtrations/8/HeightFiltrartion_1_-1/blue/diagrams.npy\n",
      "DiagramVectorizer: fitting complete\n"
     ]
    },
    {
     "name": "stderr",
     "output_type": "stream",
     "text": [
      "DiagramVectorizer: batch: 100%|██████████| 98/98 [00:20<00:00,  4.88it/s]\n"
     ]
    },
    {
     "name": "stdout",
     "output_type": "stream",
     "text": [
      "Saving the result to ./19/train/filtrations/8/HeightFiltrartion_1_-1/blue/features.npy\n",
      "FiltrationExtractor: processing 19/train/filtrations/8/HeightFiltrartion_1_-1/blue, do_fit = False, filtration = HeightFiltration(direction=array([ 1, -1]), n_jobs=-1)\n",
      "Got the result from ./19/train/filtrations/8/HeightFiltrartion_1_-1/blue/features.npy\n",
      "Fitting filtration 90/116: 8/HeightFiltrartion_-1_1\n",
      "RGB images received. Transforming to grayscale.\n"
     ]
    },
    {
     "name": "stderr",
     "output_type": "stream",
     "text": [
      "rgb2gray: 100%|██████████| 50000/50000 [00:03<00:00, 12958.31it/s]\n"
     ]
    },
    {
     "name": "stdout",
     "output_type": "stream",
     "text": [
      "FiltrationExtractor: processing 19/train/filtrations/8/HeightFiltrartion_-1_1/gray, do_fit = True, filtration = HeightFiltration(direction=array([-1,  1]), n_jobs=-1)\n",
      "Saving the result to ./19/train/filtrations/8/HeightFiltrartion_-1_1/gray/diagrams.npy\n",
      "DiagramVectorizer: fitting complete\n"
     ]
    },
    {
     "name": "stderr",
     "output_type": "stream",
     "text": [
      "DiagramVectorizer: batch: 100%|██████████| 98/98 [00:19<00:00,  4.95it/s]\n"
     ]
    },
    {
     "name": "stdout",
     "output_type": "stream",
     "text": [
      "Saving the result to ./19/train/filtrations/8/HeightFiltrartion_-1_1/gray/features.npy\n",
      "FiltrationExtractor: processing 19/train/filtrations/8/HeightFiltrartion_-1_1/gray, do_fit = False, filtration = HeightFiltration(direction=array([-1,  1]), n_jobs=-1)\n",
      "Got the result from ./19/train/filtrations/8/HeightFiltrartion_-1_1/gray/features.npy\n",
      "FiltrationExtractor: processing 19/train/filtrations/8/HeightFiltrartion_-1_1/red, do_fit = True, filtration = HeightFiltration(direction=array([-1,  1]), n_jobs=-1)\n",
      "Saving the result to ./19/train/filtrations/8/HeightFiltrartion_-1_1/red/diagrams.npy\n",
      "DiagramVectorizer: fitting complete\n"
     ]
    },
    {
     "name": "stderr",
     "output_type": "stream",
     "text": [
      "DiagramVectorizer: batch: 100%|██████████| 98/98 [00:20<00:00,  4.89it/s]\n"
     ]
    },
    {
     "name": "stdout",
     "output_type": "stream",
     "text": [
      "Saving the result to ./19/train/filtrations/8/HeightFiltrartion_-1_1/red/features.npy\n",
      "FiltrationExtractor: processing 19/train/filtrations/8/HeightFiltrartion_-1_1/red, do_fit = False, filtration = HeightFiltration(direction=array([-1,  1]), n_jobs=-1)\n",
      "Got the result from ./19/train/filtrations/8/HeightFiltrartion_-1_1/red/features.npy\n",
      "FiltrationExtractor: processing 19/train/filtrations/8/HeightFiltrartion_-1_1/green, do_fit = True, filtration = HeightFiltration(direction=array([-1,  1]), n_jobs=-1)\n",
      "Saving the result to ./19/train/filtrations/8/HeightFiltrartion_-1_1/green/diagrams.npy\n",
      "DiagramVectorizer: fitting complete\n"
     ]
    },
    {
     "name": "stderr",
     "output_type": "stream",
     "text": [
      "DiagramVectorizer: batch: 100%|██████████| 98/98 [00:20<00:00,  4.70it/s]\n"
     ]
    },
    {
     "name": "stdout",
     "output_type": "stream",
     "text": [
      "Saving the result to ./19/train/filtrations/8/HeightFiltrartion_-1_1/green/features.npy\n",
      "FiltrationExtractor: processing 19/train/filtrations/8/HeightFiltrartion_-1_1/green, do_fit = False, filtration = HeightFiltration(direction=array([-1,  1]), n_jobs=-1)\n",
      "Got the result from ./19/train/filtrations/8/HeightFiltrartion_-1_1/green/features.npy\n",
      "FiltrationExtractor: processing 19/train/filtrations/8/HeightFiltrartion_-1_1/blue, do_fit = True, filtration = HeightFiltration(direction=array([-1,  1]), n_jobs=-1)\n",
      "Saving the result to ./19/train/filtrations/8/HeightFiltrartion_-1_1/blue/diagrams.npy\n",
      "DiagramVectorizer: fitting complete\n"
     ]
    },
    {
     "name": "stderr",
     "output_type": "stream",
     "text": [
      "DiagramVectorizer: batch: 100%|██████████| 98/98 [00:20<00:00,  4.84it/s]\n"
     ]
    },
    {
     "name": "stdout",
     "output_type": "stream",
     "text": [
      "Saving the result to ./19/train/filtrations/8/HeightFiltrartion_-1_1/blue/features.npy\n",
      "FiltrationExtractor: processing 19/train/filtrations/8/HeightFiltrartion_-1_1/blue, do_fit = False, filtration = HeightFiltration(direction=array([-1,  1]), n_jobs=-1)\n",
      "Got the result from ./19/train/filtrations/8/HeightFiltrartion_-1_1/blue/features.npy\n",
      "Fitting filtration 91/116: 8/HeightFiltrartion_0_-1\n",
      "RGB images received. Transforming to grayscale.\n"
     ]
    },
    {
     "name": "stderr",
     "output_type": "stream",
     "text": [
      "rgb2gray: 100%|██████████| 50000/50000 [00:03<00:00, 12750.06it/s]\n"
     ]
    },
    {
     "name": "stdout",
     "output_type": "stream",
     "text": [
      "FiltrationExtractor: processing 19/train/filtrations/8/HeightFiltrartion_0_-1/gray, do_fit = True, filtration = HeightFiltration(direction=array([ 0, -1]), n_jobs=-1)\n",
      "Saving the result to ./19/train/filtrations/8/HeightFiltrartion_0_-1/gray/diagrams.npy\n",
      "DiagramVectorizer: fitting complete\n"
     ]
    },
    {
     "name": "stderr",
     "output_type": "stream",
     "text": [
      "DiagramVectorizer: batch: 100%|██████████| 98/98 [00:20<00:00,  4.78it/s]\n"
     ]
    },
    {
     "name": "stdout",
     "output_type": "stream",
     "text": [
      "Saving the result to ./19/train/filtrations/8/HeightFiltrartion_0_-1/gray/features.npy\n",
      "FiltrationExtractor: processing 19/train/filtrations/8/HeightFiltrartion_0_-1/gray, do_fit = False, filtration = HeightFiltration(direction=array([ 0, -1]), n_jobs=-1)\n",
      "Got the result from ./19/train/filtrations/8/HeightFiltrartion_0_-1/gray/features.npy\n",
      "FiltrationExtractor: processing 19/train/filtrations/8/HeightFiltrartion_0_-1/red, do_fit = True, filtration = HeightFiltration(direction=array([ 0, -1]), n_jobs=-1)\n",
      "Saving the result to ./19/train/filtrations/8/HeightFiltrartion_0_-1/red/diagrams.npy\n",
      "DiagramVectorizer: fitting complete\n"
     ]
    },
    {
     "name": "stderr",
     "output_type": "stream",
     "text": [
      "DiagramVectorizer: batch: 100%|██████████| 98/98 [00:21<00:00,  4.55it/s]\n"
     ]
    },
    {
     "name": "stdout",
     "output_type": "stream",
     "text": [
      "Saving the result to ./19/train/filtrations/8/HeightFiltrartion_0_-1/red/features.npy\n",
      "FiltrationExtractor: processing 19/train/filtrations/8/HeightFiltrartion_0_-1/red, do_fit = False, filtration = HeightFiltration(direction=array([ 0, -1]), n_jobs=-1)\n",
      "Got the result from ./19/train/filtrations/8/HeightFiltrartion_0_-1/red/features.npy\n",
      "FiltrationExtractor: processing 19/train/filtrations/8/HeightFiltrartion_0_-1/green, do_fit = True, filtration = HeightFiltration(direction=array([ 0, -1]), n_jobs=-1)\n",
      "Saving the result to ./19/train/filtrations/8/HeightFiltrartion_0_-1/green/diagrams.npy\n",
      "DiagramVectorizer: fitting complete\n"
     ]
    },
    {
     "name": "stderr",
     "output_type": "stream",
     "text": [
      "DiagramVectorizer: batch: 100%|██████████| 98/98 [00:20<00:00,  4.82it/s]\n"
     ]
    },
    {
     "name": "stdout",
     "output_type": "stream",
     "text": [
      "Saving the result to ./19/train/filtrations/8/HeightFiltrartion_0_-1/green/features.npy\n",
      "FiltrationExtractor: processing 19/train/filtrations/8/HeightFiltrartion_0_-1/green, do_fit = False, filtration = HeightFiltration(direction=array([ 0, -1]), n_jobs=-1)\n",
      "Got the result from ./19/train/filtrations/8/HeightFiltrartion_0_-1/green/features.npy\n",
      "FiltrationExtractor: processing 19/train/filtrations/8/HeightFiltrartion_0_-1/blue, do_fit = True, filtration = HeightFiltration(direction=array([ 0, -1]), n_jobs=-1)\n",
      "Saving the result to ./19/train/filtrations/8/HeightFiltrartion_0_-1/blue/diagrams.npy\n",
      "DiagramVectorizer: fitting complete\n"
     ]
    },
    {
     "name": "stderr",
     "output_type": "stream",
     "text": [
      "DiagramVectorizer: batch: 100%|██████████| 98/98 [00:20<00:00,  4.72it/s]\n"
     ]
    },
    {
     "name": "stdout",
     "output_type": "stream",
     "text": [
      "Saving the result to ./19/train/filtrations/8/HeightFiltrartion_0_-1/blue/features.npy\n",
      "FiltrationExtractor: processing 19/train/filtrations/8/HeightFiltrartion_0_-1/blue, do_fit = False, filtration = HeightFiltration(direction=array([ 0, -1]), n_jobs=-1)\n",
      "Got the result from ./19/train/filtrations/8/HeightFiltrartion_0_-1/blue/features.npy\n",
      "Fitting filtration 92/116: 8/HeightFiltrartion_0_1\n",
      "RGB images received. Transforming to grayscale.\n"
     ]
    },
    {
     "name": "stderr",
     "output_type": "stream",
     "text": [
      "rgb2gray: 100%|██████████| 50000/50000 [00:03<00:00, 12823.82it/s]\n"
     ]
    },
    {
     "name": "stdout",
     "output_type": "stream",
     "text": [
      "FiltrationExtractor: processing 19/train/filtrations/8/HeightFiltrartion_0_1/gray, do_fit = True, filtration = HeightFiltration(direction=array([0, 1]), n_jobs=-1)\n",
      "Saving the result to ./19/train/filtrations/8/HeightFiltrartion_0_1/gray/diagrams.npy\n",
      "DiagramVectorizer: fitting complete\n"
     ]
    },
    {
     "name": "stderr",
     "output_type": "stream",
     "text": [
      "DiagramVectorizer: batch: 100%|██████████| 98/98 [00:20<00:00,  4.76it/s]\n"
     ]
    },
    {
     "name": "stdout",
     "output_type": "stream",
     "text": [
      "Saving the result to ./19/train/filtrations/8/HeightFiltrartion_0_1/gray/features.npy\n",
      "FiltrationExtractor: processing 19/train/filtrations/8/HeightFiltrartion_0_1/gray, do_fit = False, filtration = HeightFiltration(direction=array([0, 1]), n_jobs=-1)\n",
      "Got the result from ./19/train/filtrations/8/HeightFiltrartion_0_1/gray/features.npy\n",
      "FiltrationExtractor: processing 19/train/filtrations/8/HeightFiltrartion_0_1/red, do_fit = True, filtration = HeightFiltration(direction=array([0, 1]), n_jobs=-1)\n",
      "Saving the result to ./19/train/filtrations/8/HeightFiltrartion_0_1/red/diagrams.npy\n",
      "DiagramVectorizer: fitting complete\n"
     ]
    },
    {
     "name": "stderr",
     "output_type": "stream",
     "text": [
      "DiagramVectorizer: batch: 100%|██████████| 98/98 [00:20<00:00,  4.78it/s]\n"
     ]
    },
    {
     "name": "stdout",
     "output_type": "stream",
     "text": [
      "Saving the result to ./19/train/filtrations/8/HeightFiltrartion_0_1/red/features.npy\n",
      "FiltrationExtractor: processing 19/train/filtrations/8/HeightFiltrartion_0_1/red, do_fit = False, filtration = HeightFiltration(direction=array([0, 1]), n_jobs=-1)\n",
      "Got the result from ./19/train/filtrations/8/HeightFiltrartion_0_1/red/features.npy\n",
      "FiltrationExtractor: processing 19/train/filtrations/8/HeightFiltrartion_0_1/green, do_fit = True, filtration = HeightFiltration(direction=array([0, 1]), n_jobs=-1)\n",
      "Saving the result to ./19/train/filtrations/8/HeightFiltrartion_0_1/green/diagrams.npy\n",
      "DiagramVectorizer: fitting complete\n"
     ]
    },
    {
     "name": "stderr",
     "output_type": "stream",
     "text": [
      "DiagramVectorizer: batch: 100%|██████████| 98/98 [00:20<00:00,  4.75it/s]\n"
     ]
    },
    {
     "name": "stdout",
     "output_type": "stream",
     "text": [
      "Saving the result to ./19/train/filtrations/8/HeightFiltrartion_0_1/green/features.npy\n",
      "FiltrationExtractor: processing 19/train/filtrations/8/HeightFiltrartion_0_1/green, do_fit = False, filtration = HeightFiltration(direction=array([0, 1]), n_jobs=-1)\n",
      "Got the result from ./19/train/filtrations/8/HeightFiltrartion_0_1/green/features.npy\n",
      "FiltrationExtractor: processing 19/train/filtrations/8/HeightFiltrartion_0_1/blue, do_fit = True, filtration = HeightFiltration(direction=array([0, 1]), n_jobs=-1)\n",
      "Saving the result to ./19/train/filtrations/8/HeightFiltrartion_0_1/blue/diagrams.npy\n",
      "DiagramVectorizer: fitting complete\n"
     ]
    },
    {
     "name": "stderr",
     "output_type": "stream",
     "text": [
      "DiagramVectorizer: batch: 100%|██████████| 98/98 [00:18<00:00,  5.23it/s]\n"
     ]
    },
    {
     "name": "stdout",
     "output_type": "stream",
     "text": [
      "Saving the result to ./19/train/filtrations/8/HeightFiltrartion_0_1/blue/features.npy\n",
      "FiltrationExtractor: processing 19/train/filtrations/8/HeightFiltrartion_0_1/blue, do_fit = False, filtration = HeightFiltration(direction=array([0, 1]), n_jobs=-1)\n",
      "Got the result from ./19/train/filtrations/8/HeightFiltrartion_0_1/blue/features.npy\n",
      "Fitting filtration 93/116: 8/HeightFiltrartion_-1_0\n",
      "RGB images received. Transforming to grayscale.\n"
     ]
    },
    {
     "name": "stderr",
     "output_type": "stream",
     "text": [
      "rgb2gray: 100%|██████████| 50000/50000 [00:03<00:00, 13490.28it/s]\n"
     ]
    },
    {
     "name": "stdout",
     "output_type": "stream",
     "text": [
      "FiltrationExtractor: processing 19/train/filtrations/8/HeightFiltrartion_-1_0/gray, do_fit = True, filtration = HeightFiltration(direction=array([-1,  0]), n_jobs=-1)\n",
      "Saving the result to ./19/train/filtrations/8/HeightFiltrartion_-1_0/gray/diagrams.npy\n",
      "DiagramVectorizer: fitting complete\n"
     ]
    },
    {
     "name": "stderr",
     "output_type": "stream",
     "text": [
      "DiagramVectorizer: batch: 100%|██████████| 98/98 [00:18<00:00,  5.22it/s]\n"
     ]
    },
    {
     "name": "stdout",
     "output_type": "stream",
     "text": [
      "Saving the result to ./19/train/filtrations/8/HeightFiltrartion_-1_0/gray/features.npy\n",
      "FiltrationExtractor: processing 19/train/filtrations/8/HeightFiltrartion_-1_0/gray, do_fit = False, filtration = HeightFiltration(direction=array([-1,  0]), n_jobs=-1)\n",
      "Got the result from ./19/train/filtrations/8/HeightFiltrartion_-1_0/gray/features.npy\n",
      "FiltrationExtractor: processing 19/train/filtrations/8/HeightFiltrartion_-1_0/red, do_fit = True, filtration = HeightFiltration(direction=array([-1,  0]), n_jobs=-1)\n",
      "Saving the result to ./19/train/filtrations/8/HeightFiltrartion_-1_0/red/diagrams.npy\n",
      "DiagramVectorizer: fitting complete\n"
     ]
    },
    {
     "name": "stderr",
     "output_type": "stream",
     "text": [
      "DiagramVectorizer: batch: 100%|██████████| 98/98 [00:18<00:00,  5.19it/s]\n"
     ]
    },
    {
     "name": "stdout",
     "output_type": "stream",
     "text": [
      "Saving the result to ./19/train/filtrations/8/HeightFiltrartion_-1_0/red/features.npy\n",
      "FiltrationExtractor: processing 19/train/filtrations/8/HeightFiltrartion_-1_0/red, do_fit = False, filtration = HeightFiltration(direction=array([-1,  0]), n_jobs=-1)\n",
      "Got the result from ./19/train/filtrations/8/HeightFiltrartion_-1_0/red/features.npy\n",
      "FiltrationExtractor: processing 19/train/filtrations/8/HeightFiltrartion_-1_0/green, do_fit = True, filtration = HeightFiltration(direction=array([-1,  0]), n_jobs=-1)\n",
      "Saving the result to ./19/train/filtrations/8/HeightFiltrartion_-1_0/green/diagrams.npy\n",
      "DiagramVectorizer: fitting complete\n"
     ]
    },
    {
     "name": "stderr",
     "output_type": "stream",
     "text": [
      "DiagramVectorizer: batch: 100%|██████████| 98/98 [00:19<00:00,  5.15it/s]\n"
     ]
    },
    {
     "name": "stdout",
     "output_type": "stream",
     "text": [
      "Saving the result to ./19/train/filtrations/8/HeightFiltrartion_-1_0/green/features.npy\n",
      "FiltrationExtractor: processing 19/train/filtrations/8/HeightFiltrartion_-1_0/green, do_fit = False, filtration = HeightFiltration(direction=array([-1,  0]), n_jobs=-1)\n",
      "Got the result from ./19/train/filtrations/8/HeightFiltrartion_-1_0/green/features.npy\n",
      "FiltrationExtractor: processing 19/train/filtrations/8/HeightFiltrartion_-1_0/blue, do_fit = True, filtration = HeightFiltration(direction=array([-1,  0]), n_jobs=-1)\n",
      "Saving the result to ./19/train/filtrations/8/HeightFiltrartion_-1_0/blue/diagrams.npy\n",
      "DiagramVectorizer: fitting complete\n"
     ]
    },
    {
     "name": "stderr",
     "output_type": "stream",
     "text": [
      "DiagramVectorizer: batch: 100%|██████████| 98/98 [00:18<00:00,  5.27it/s]\n"
     ]
    },
    {
     "name": "stdout",
     "output_type": "stream",
     "text": [
      "Saving the result to ./19/train/filtrations/8/HeightFiltrartion_-1_0/blue/features.npy\n",
      "FiltrationExtractor: processing 19/train/filtrations/8/HeightFiltrartion_-1_0/blue, do_fit = False, filtration = HeightFiltration(direction=array([-1,  0]), n_jobs=-1)\n",
      "Got the result from ./19/train/filtrations/8/HeightFiltrartion_-1_0/blue/features.npy\n",
      "Fitting filtration 94/116: 8/HeightFiltrartion_1_0\n",
      "RGB images received. Transforming to grayscale.\n"
     ]
    },
    {
     "name": "stderr",
     "output_type": "stream",
     "text": [
      "rgb2gray: 100%|██████████| 50000/50000 [00:03<00:00, 13260.37it/s]\n"
     ]
    },
    {
     "name": "stdout",
     "output_type": "stream",
     "text": [
      "FiltrationExtractor: processing 19/train/filtrations/8/HeightFiltrartion_1_0/gray, do_fit = True, filtration = HeightFiltration(direction=array([1, 0]), n_jobs=-1)\n",
      "Saving the result to ./19/train/filtrations/8/HeightFiltrartion_1_0/gray/diagrams.npy\n",
      "DiagramVectorizer: fitting complete\n"
     ]
    },
    {
     "name": "stderr",
     "output_type": "stream",
     "text": [
      "DiagramVectorizer: batch: 100%|██████████| 98/98 [00:18<00:00,  5.25it/s]\n"
     ]
    },
    {
     "name": "stdout",
     "output_type": "stream",
     "text": [
      "Saving the result to ./19/train/filtrations/8/HeightFiltrartion_1_0/gray/features.npy\n",
      "FiltrationExtractor: processing 19/train/filtrations/8/HeightFiltrartion_1_0/gray, do_fit = False, filtration = HeightFiltration(direction=array([1, 0]), n_jobs=-1)\n",
      "Got the result from ./19/train/filtrations/8/HeightFiltrartion_1_0/gray/features.npy\n",
      "FiltrationExtractor: processing 19/train/filtrations/8/HeightFiltrartion_1_0/red, do_fit = True, filtration = HeightFiltration(direction=array([1, 0]), n_jobs=-1)\n",
      "Saving the result to ./19/train/filtrations/8/HeightFiltrartion_1_0/red/diagrams.npy\n",
      "DiagramVectorizer: fitting complete\n"
     ]
    },
    {
     "name": "stderr",
     "output_type": "stream",
     "text": [
      "DiagramVectorizer: batch: 100%|██████████| 98/98 [00:18<00:00,  5.18it/s]\n"
     ]
    },
    {
     "name": "stdout",
     "output_type": "stream",
     "text": [
      "Saving the result to ./19/train/filtrations/8/HeightFiltrartion_1_0/red/features.npy\n",
      "FiltrationExtractor: processing 19/train/filtrations/8/HeightFiltrartion_1_0/red, do_fit = False, filtration = HeightFiltration(direction=array([1, 0]), n_jobs=-1)\n",
      "Got the result from ./19/train/filtrations/8/HeightFiltrartion_1_0/red/features.npy\n",
      "FiltrationExtractor: processing 19/train/filtrations/8/HeightFiltrartion_1_0/green, do_fit = True, filtration = HeightFiltration(direction=array([1, 0]), n_jobs=-1)\n",
      "Saving the result to ./19/train/filtrations/8/HeightFiltrartion_1_0/green/diagrams.npy\n",
      "DiagramVectorizer: fitting complete\n"
     ]
    },
    {
     "name": "stderr",
     "output_type": "stream",
     "text": [
      "DiagramVectorizer: batch: 100%|██████████| 98/98 [00:18<00:00,  5.20it/s]\n"
     ]
    },
    {
     "name": "stdout",
     "output_type": "stream",
     "text": [
      "Saving the result to ./19/train/filtrations/8/HeightFiltrartion_1_0/green/features.npy\n",
      "FiltrationExtractor: processing 19/train/filtrations/8/HeightFiltrartion_1_0/green, do_fit = False, filtration = HeightFiltration(direction=array([1, 0]), n_jobs=-1)\n",
      "Got the result from ./19/train/filtrations/8/HeightFiltrartion_1_0/green/features.npy\n",
      "FiltrationExtractor: processing 19/train/filtrations/8/HeightFiltrartion_1_0/blue, do_fit = True, filtration = HeightFiltration(direction=array([1, 0]), n_jobs=-1)\n",
      "Saving the result to ./19/train/filtrations/8/HeightFiltrartion_1_0/blue/diagrams.npy\n",
      "DiagramVectorizer: fitting complete\n"
     ]
    },
    {
     "name": "stderr",
     "output_type": "stream",
     "text": [
      "DiagramVectorizer: batch: 100%|██████████| 98/98 [00:18<00:00,  5.20it/s]\n"
     ]
    },
    {
     "name": "stdout",
     "output_type": "stream",
     "text": [
      "Saving the result to ./19/train/filtrations/8/HeightFiltrartion_1_0/blue/features.npy\n",
      "FiltrationExtractor: processing 19/train/filtrations/8/HeightFiltrartion_1_0/blue, do_fit = False, filtration = HeightFiltration(direction=array([1, 0]), n_jobs=-1)\n",
      "Got the result from ./19/train/filtrations/8/HeightFiltrartion_1_0/blue/features.npy\n",
      "Fitting filtration 95/116: 8/RadialFiltration_5_5\n",
      "RGB images received. Transforming to grayscale.\n"
     ]
    },
    {
     "name": "stderr",
     "output_type": "stream",
     "text": [
      "rgb2gray: 100%|██████████| 50000/50000 [00:03<00:00, 13479.06it/s]\n"
     ]
    },
    {
     "name": "stdout",
     "output_type": "stream",
     "text": [
      "FiltrationExtractor: processing 19/train/filtrations/8/RadialFiltration_5_5/gray, do_fit = True, filtration = RadialFiltration(center=array([5, 5]), n_jobs=-1)\n",
      "Saving the result to ./19/train/filtrations/8/RadialFiltration_5_5/gray/diagrams.npy\n",
      "DiagramVectorizer: fitting complete\n"
     ]
    },
    {
     "name": "stderr",
     "output_type": "stream",
     "text": [
      "DiagramVectorizer: batch: 100%|██████████| 98/98 [00:18<00:00,  5.26it/s]\n"
     ]
    },
    {
     "name": "stdout",
     "output_type": "stream",
     "text": [
      "Saving the result to ./19/train/filtrations/8/RadialFiltration_5_5/gray/features.npy\n",
      "FiltrationExtractor: processing 19/train/filtrations/8/RadialFiltration_5_5/gray, do_fit = False, filtration = RadialFiltration(center=array([5, 5]), n_jobs=-1)\n",
      "Got the result from ./19/train/filtrations/8/RadialFiltration_5_5/gray/features.npy\n",
      "FiltrationExtractor: processing 19/train/filtrations/8/RadialFiltration_5_5/red, do_fit = True, filtration = RadialFiltration(center=array([5, 5]), n_jobs=-1)\n",
      "Saving the result to ./19/train/filtrations/8/RadialFiltration_5_5/red/diagrams.npy\n",
      "DiagramVectorizer: fitting complete\n"
     ]
    },
    {
     "name": "stderr",
     "output_type": "stream",
     "text": [
      "DiagramVectorizer: batch: 100%|██████████| 98/98 [00:18<00:00,  5.21it/s]\n"
     ]
    },
    {
     "name": "stdout",
     "output_type": "stream",
     "text": [
      "Saving the result to ./19/train/filtrations/8/RadialFiltration_5_5/red/features.npy\n",
      "FiltrationExtractor: processing 19/train/filtrations/8/RadialFiltration_5_5/red, do_fit = False, filtration = RadialFiltration(center=array([5, 5]), n_jobs=-1)\n",
      "Got the result from ./19/train/filtrations/8/RadialFiltration_5_5/red/features.npy\n",
      "FiltrationExtractor: processing 19/train/filtrations/8/RadialFiltration_5_5/green, do_fit = True, filtration = RadialFiltration(center=array([5, 5]), n_jobs=-1)\n",
      "Saving the result to ./19/train/filtrations/8/RadialFiltration_5_5/green/diagrams.npy\n",
      "DiagramVectorizer: fitting complete\n"
     ]
    },
    {
     "name": "stderr",
     "output_type": "stream",
     "text": [
      "DiagramVectorizer: batch: 100%|██████████| 98/98 [00:18<00:00,  5.19it/s]\n"
     ]
    },
    {
     "name": "stdout",
     "output_type": "stream",
     "text": [
      "Saving the result to ./19/train/filtrations/8/RadialFiltration_5_5/green/features.npy\n",
      "FiltrationExtractor: processing 19/train/filtrations/8/RadialFiltration_5_5/green, do_fit = False, filtration = RadialFiltration(center=array([5, 5]), n_jobs=-1)\n",
      "Got the result from ./19/train/filtrations/8/RadialFiltration_5_5/green/features.npy\n",
      "FiltrationExtractor: processing 19/train/filtrations/8/RadialFiltration_5_5/blue, do_fit = True, filtration = RadialFiltration(center=array([5, 5]), n_jobs=-1)\n",
      "Saving the result to ./19/train/filtrations/8/RadialFiltration_5_5/blue/diagrams.npy\n",
      "DiagramVectorizer: fitting complete\n"
     ]
    },
    {
     "name": "stderr",
     "output_type": "stream",
     "text": [
      "DiagramVectorizer: batch: 100%|██████████| 98/98 [00:19<00:00,  4.99it/s]\n"
     ]
    },
    {
     "name": "stdout",
     "output_type": "stream",
     "text": [
      "Saving the result to ./19/train/filtrations/8/RadialFiltration_5_5/blue/features.npy\n",
      "FiltrationExtractor: processing 19/train/filtrations/8/RadialFiltration_5_5/blue, do_fit = False, filtration = RadialFiltration(center=array([5, 5]), n_jobs=-1)\n",
      "Got the result from ./19/train/filtrations/8/RadialFiltration_5_5/blue/features.npy\n",
      "Fitting filtration 96/116: 8/RadialFiltration_5_12\n",
      "RGB images received. Transforming to grayscale.\n"
     ]
    },
    {
     "name": "stderr",
     "output_type": "stream",
     "text": [
      "rgb2gray: 100%|██████████| 50000/50000 [00:03<00:00, 12655.57it/s]\n"
     ]
    },
    {
     "name": "stdout",
     "output_type": "stream",
     "text": [
      "FiltrationExtractor: processing 19/train/filtrations/8/RadialFiltration_5_12/gray, do_fit = True, filtration = RadialFiltration(center=array([ 5, 12]), n_jobs=-1)\n",
      "Saving the result to ./19/train/filtrations/8/RadialFiltration_5_12/gray/diagrams.npy\n",
      "DiagramVectorizer: fitting complete\n"
     ]
    },
    {
     "name": "stderr",
     "output_type": "stream",
     "text": [
      "DiagramVectorizer: batch: 100%|██████████| 98/98 [00:20<00:00,  4.87it/s]\n"
     ]
    },
    {
     "name": "stdout",
     "output_type": "stream",
     "text": [
      "Saving the result to ./19/train/filtrations/8/RadialFiltration_5_12/gray/features.npy\n",
      "FiltrationExtractor: processing 19/train/filtrations/8/RadialFiltration_5_12/gray, do_fit = False, filtration = RadialFiltration(center=array([ 5, 12]), n_jobs=-1)\n",
      "Got the result from ./19/train/filtrations/8/RadialFiltration_5_12/gray/features.npy\n",
      "FiltrationExtractor: processing 19/train/filtrations/8/RadialFiltration_5_12/red, do_fit = True, filtration = RadialFiltration(center=array([ 5, 12]), n_jobs=-1)\n",
      "Saving the result to ./19/train/filtrations/8/RadialFiltration_5_12/red/diagrams.npy\n",
      "DiagramVectorizer: fitting complete\n"
     ]
    },
    {
     "name": "stderr",
     "output_type": "stream",
     "text": [
      "DiagramVectorizer: batch: 100%|██████████| 98/98 [00:20<00:00,  4.85it/s]\n"
     ]
    },
    {
     "name": "stdout",
     "output_type": "stream",
     "text": [
      "Saving the result to ./19/train/filtrations/8/RadialFiltration_5_12/red/features.npy\n",
      "FiltrationExtractor: processing 19/train/filtrations/8/RadialFiltration_5_12/red, do_fit = False, filtration = RadialFiltration(center=array([ 5, 12]), n_jobs=-1)\n",
      "Got the result from ./19/train/filtrations/8/RadialFiltration_5_12/red/features.npy\n",
      "FiltrationExtractor: processing 19/train/filtrations/8/RadialFiltration_5_12/green, do_fit = True, filtration = RadialFiltration(center=array([ 5, 12]), n_jobs=-1)\n",
      "Saving the result to ./19/train/filtrations/8/RadialFiltration_5_12/green/diagrams.npy\n",
      "DiagramVectorizer: fitting complete\n"
     ]
    },
    {
     "name": "stderr",
     "output_type": "stream",
     "text": [
      "DiagramVectorizer: batch: 100%|██████████| 98/98 [00:20<00:00,  4.83it/s]\n"
     ]
    },
    {
     "name": "stdout",
     "output_type": "stream",
     "text": [
      "Saving the result to ./19/train/filtrations/8/RadialFiltration_5_12/green/features.npy\n",
      "FiltrationExtractor: processing 19/train/filtrations/8/RadialFiltration_5_12/green, do_fit = False, filtration = RadialFiltration(center=array([ 5, 12]), n_jobs=-1)\n",
      "Got the result from ./19/train/filtrations/8/RadialFiltration_5_12/green/features.npy\n",
      "FiltrationExtractor: processing 19/train/filtrations/8/RadialFiltration_5_12/blue, do_fit = True, filtration = RadialFiltration(center=array([ 5, 12]), n_jobs=-1)\n",
      "Saving the result to ./19/train/filtrations/8/RadialFiltration_5_12/blue/diagrams.npy\n",
      "DiagramVectorizer: fitting complete\n"
     ]
    },
    {
     "name": "stderr",
     "output_type": "stream",
     "text": [
      "DiagramVectorizer: batch: 100%|██████████| 98/98 [00:20<00:00,  4.77it/s]\n"
     ]
    },
    {
     "name": "stdout",
     "output_type": "stream",
     "text": [
      "Saving the result to ./19/train/filtrations/8/RadialFiltration_5_12/blue/features.npy\n",
      "FiltrationExtractor: processing 19/train/filtrations/8/RadialFiltration_5_12/blue, do_fit = False, filtration = RadialFiltration(center=array([ 5, 12]), n_jobs=-1)\n",
      "Got the result from ./19/train/filtrations/8/RadialFiltration_5_12/blue/features.npy\n",
      "Fitting filtration 97/116: 8/RadialFiltration_5_19\n",
      "RGB images received. Transforming to grayscale.\n"
     ]
    },
    {
     "name": "stderr",
     "output_type": "stream",
     "text": [
      "rgb2gray: 100%|██████████| 50000/50000 [00:03<00:00, 12809.00it/s]\n"
     ]
    },
    {
     "name": "stdout",
     "output_type": "stream",
     "text": [
      "FiltrationExtractor: processing 19/train/filtrations/8/RadialFiltration_5_19/gray, do_fit = True, filtration = RadialFiltration(center=array([ 5, 19]), n_jobs=-1)\n"
     ]
    },
    {
     "ename": "KeyboardInterrupt",
     "evalue": "",
     "output_type": "error",
     "traceback": [
      "\u001b[1;31m---------------------------------------------------------------------------\u001b[0m",
      "\u001b[1;31mKeyboardInterrupt\u001b[0m                         Traceback (most recent call last)",
      "Cell \u001b[1;32mIn[3], line 3\u001b[0m\n\u001b[0;32m      1\u001b[0m \u001b[38;5;28;01mimport\u001b[39;00m \u001b[38;5;21;01mcvtda\u001b[39;00m\u001b[38;5;21;01m.\u001b[39;00m\u001b[38;5;21;01mtopology\u001b[39;00m\n\u001b[0;32m      2\u001b[0m extractor \u001b[38;5;241m=\u001b[39m cvtda\u001b[38;5;241m.\u001b[39mtopology\u001b[38;5;241m.\u001b[39mFeatureExtractor()\n\u001b[1;32m----> 3\u001b[0m \u001b[43mextractor\u001b[49m\u001b[38;5;241;43m.\u001b[39;49m\u001b[43mfit\u001b[49m\u001b[43m(\u001b[49m\u001b[43mtrain_images\u001b[49m\u001b[43m,\u001b[49m\u001b[43m \u001b[49m\u001b[38;5;124;43m\"\u001b[39;49m\u001b[38;5;124;43m19/train\u001b[39;49m\u001b[38;5;124;43m\"\u001b[39;49m\u001b[43m)\u001b[49m\n",
      "File \u001b[1;32mD:\\HSE/HSE/Diploma/cvtda\\cvtda\\topology\\FeatureExtractor.py:28\u001b[0m, in \u001b[0;36mfit\u001b[1;34m(self, images, dump_name)\u001b[0m\n\u001b[0;32m     25\u001b[0m extractor_kwargs \u001b[38;5;241m=\u001b[39m { \u001b[38;5;124m'\u001b[39m\u001b[38;5;124mn_jobs\u001b[39m\u001b[38;5;124m'\u001b[39m: n_jobs, \u001b[38;5;124m'\u001b[39m\u001b[38;5;124mreduced\u001b[39m\u001b[38;5;124m'\u001b[39m: reduced, \u001b[38;5;124m'\u001b[39m\u001b[38;5;124monly_get_from_dump\u001b[39m\u001b[38;5;124m'\u001b[39m: only_get_from_dump }\n\u001b[0;32m     26\u001b[0m topological_extractor_kwargs \u001b[38;5;241m=\u001b[39m { \u001b[38;5;241m*\u001b[39m\u001b[38;5;241m*\u001b[39mextractor_kwargs, \u001b[38;5;124m'\u001b[39m\u001b[38;5;124mreturn_diagrams\u001b[39m\u001b[38;5;124m'\u001b[39m: return_diagrams }\n\u001b[1;32m---> 28\u001b[0m \u001b[38;5;28mself\u001b[39m\u001b[38;5;241m.\u001b[39minverter_ \u001b[38;5;241m=\u001b[39m gtda\u001b[38;5;241m.\u001b[39mimages\u001b[38;5;241m.\u001b[39mInverter()\n\u001b[0;32m     30\u001b[0m \u001b[38;5;28mself\u001b[39m\u001b[38;5;241m.\u001b[39mpoint_clouds_extractor_ \u001b[38;5;241m=\u001b[39m PointCloudsExtractor(\u001b[38;5;241m*\u001b[39m\u001b[38;5;241m*\u001b[39mtopological_extractor_kwargs)\n\u001b[0;32m     31\u001b[0m \u001b[38;5;28mself\u001b[39m\u001b[38;5;241m.\u001b[39mgreyscale_extractor_ \u001b[38;5;241m=\u001b[39m GreyscaleExtractor(\u001b[38;5;241m*\u001b[39m\u001b[38;5;241m*\u001b[39mtopological_extractor_kwargs)\n",
      "File \u001b[1;32mD:\\HSE/HSE/Diploma/cvtda\\cvtda\\topology\\FiltrationsExtractor.py:92\u001b[0m, in \u001b[0;36mfit\u001b[1;34m(self, images, dump_name)\u001b[0m\n\u001b[0;32m     90\u001b[0m \u001b[38;5;28;01mdef\u001b[39;00m \u001b[38;5;21mfit\u001b[39m(\u001b[38;5;28mself\u001b[39m, images: numpy\u001b[38;5;241m.\u001b[39mndarray, dump_name: typing\u001b[38;5;241m.\u001b[39mOptional[\u001b[38;5;28mstr\u001b[39m] \u001b[38;5;241m=\u001b[39m \u001b[38;5;28;01mNone\u001b[39;00m):\n\u001b[0;32m     91\u001b[0m     \u001b[38;5;28;01massert\u001b[39;00m \u001b[38;5;28mlen\u001b[39m(images\u001b[38;5;241m.\u001b[39mshape) \u001b[38;5;241m>\u001b[39m\u001b[38;5;241m=\u001b[39m \u001b[38;5;241m3\u001b[39m, \u001b[38;5;124mf\u001b[39m\u001b[38;5;124m'\u001b[39m\u001b[38;5;132;01m{\u001b[39;00m\u001b[38;5;28mlen\u001b[39m(images\u001b[38;5;241m.\u001b[39mshape)\u001b[38;5;250m \u001b[39m\u001b[38;5;241m-\u001b[39m\u001b[38;5;250m \u001b[39m\u001b[38;5;241m1\u001b[39m\u001b[38;5;132;01m}\u001b[39;00m\u001b[38;5;124md images are not supported\u001b[39m\u001b[38;5;124m'\u001b[39m\n\u001b[1;32m---> 92\u001b[0m     cvtda\u001b[38;5;241m.\u001b[39mlogging\u001b[38;5;241m.\u001b[39mlogger()\u001b[38;5;241m.\u001b[39mprint(\u001b[38;5;124m\"\u001b[39m\u001b[38;5;124mFitting filtrations\u001b[39m\u001b[38;5;124m\"\u001b[39m)\n\u001b[0;32m     94\u001b[0m     \u001b[38;5;28mself\u001b[39m\u001b[38;5;241m.\u001b[39m_fill_filtrations(images\u001b[38;5;241m.\u001b[39mshape[\u001b[38;5;241m1\u001b[39m], images\u001b[38;5;241m.\u001b[39mshape[\u001b[38;5;241m2\u001b[39m])\n\u001b[0;32m     95\u001b[0m     \u001b[38;5;28;01mfor\u001b[39;00m i, (filtration_extractor, name) \u001b[38;5;129;01min\u001b[39;00m \u001b[38;5;28menumerate\u001b[39m(\u001b[38;5;28mself\u001b[39m\u001b[38;5;241m.\u001b[39mfiltration_extractors_):\n",
      "File \u001b[1;32mD:\\HSE/HSE/Diploma/cvtda\\cvtda\\topology\\Pipeline.py:35\u001b[0m, in \u001b[0;36mfit\u001b[1;34m(self, images, dump_name)\u001b[0m\n",
      "File \u001b[1;32mD:\\HSE/HSE/Diploma/cvtda\\cvtda\\topology\\Pipeline.py:67\u001b[0m, in \u001b[0;36mprocess_\u001b[1;34m(self, images, do_fit, dump_name)\u001b[0m\n",
      "File \u001b[1;32mD:\\HSE/HSE/Diploma/cvtda\\cvtda\\topology\\Pipeline.py:100\u001b[0m, in \u001b[0;36mprocess_iter_\u001b[1;34m(self, transformer, data, do_fit, *args, **kwargs)\u001b[0m\n",
      "File \u001b[1;32mD:\\HSE/HSE/Diploma/cvtda\\cvtda\\topology\\Pipeline.py:35\u001b[0m, in \u001b[0;36mfit\u001b[1;34m(self, images, dump_name)\u001b[0m\n",
      "File \u001b[1;32mD:\\HSE/HSE/Diploma/cvtda\\cvtda\\topology\\Pipeline.py:84\u001b[0m, in \u001b[0;36mprocess_\u001b[1;34m(self, images, do_fit, dump_name)\u001b[0m\n",
      "File \u001b[1;32mD:\\HSE/HSE/Diploma/cvtda\\cvtda\\topology\\FiltrationsExtractor.py:58\u001b[0m, in \u001b[0;36mprocess_gray_\u001b[1;34m(self, gray_images, do_fit, dump_name)\u001b[0m\n\u001b[0;32m     56\u001b[0m \u001b[38;5;28;01mclass\u001b[39;00m \u001b[38;5;21;01mFiltrationsExtractor\u001b[39;00m(sklearn\u001b[38;5;241m.\u001b[39mbase\u001b[38;5;241m.\u001b[39mTransformerMixin):\n\u001b[0;32m     57\u001b[0m     \u001b[38;5;28;01mdef\u001b[39;00m \u001b[38;5;21m__init__\u001b[39m(\n\u001b[1;32m---> 58\u001b[0m         \u001b[38;5;28mself\u001b[39m,\n\u001b[0;32m     59\u001b[0m \n\u001b[0;32m     60\u001b[0m         n_jobs: \u001b[38;5;28mint\u001b[39m \u001b[38;5;241m=\u001b[39m \u001b[38;5;241m-\u001b[39m\u001b[38;5;241m1\u001b[39m,\n\u001b[0;32m     61\u001b[0m         reduced: \u001b[38;5;28mbool\u001b[39m \u001b[38;5;241m=\u001b[39m \u001b[38;5;28;01mTrue\u001b[39;00m,\n\u001b[0;32m     62\u001b[0m         only_get_from_dump: \u001b[38;5;28mbool\u001b[39m \u001b[38;5;241m=\u001b[39m \u001b[38;5;28;01mFalse\u001b[39;00m,\n\u001b[0;32m     63\u001b[0m         return_diagrams: \u001b[38;5;28mbool\u001b[39m \u001b[38;5;241m=\u001b[39m \u001b[38;5;28;01mFalse\u001b[39;00m,\n\u001b[0;32m     64\u001b[0m \n\u001b[0;32m     65\u001b[0m         binarizer_thresholds: typing\u001b[38;5;241m.\u001b[39mList[\u001b[38;5;28mfloat\u001b[39m] \u001b[38;5;241m=\u001b[39m [ \u001b[38;5;241m0.2\u001b[39m, \u001b[38;5;241m0.4\u001b[39m, \u001b[38;5;241m0.6\u001b[39m, \u001b[38;5;241m0.8\u001b[39m ],\n\u001b[0;32m     66\u001b[0m         height_filtration_directions: typing\u001b[38;5;241m.\u001b[39mIterable[typing\u001b[38;5;241m.\u001b[39mTuple[\u001b[38;5;28mfloat\u001b[39m, \u001b[38;5;28mfloat\u001b[39m]] \u001b[38;5;241m=\u001b[39m [\n\u001b[0;32m     67\u001b[0m             [ \u001b[38;5;241m-\u001b[39m\u001b[38;5;241m1\u001b[39m, \u001b[38;5;241m-\u001b[39m\u001b[38;5;241m1\u001b[39m ], [ \u001b[38;5;241m1\u001b[39m, \u001b[38;5;241m1\u001b[39m ], [ \u001b[38;5;241m1\u001b[39m, \u001b[38;5;241m-\u001b[39m\u001b[38;5;241m1\u001b[39m ], [ \u001b[38;5;241m-\u001b[39m\u001b[38;5;241m1\u001b[39m, \u001b[38;5;241m1\u001b[39m ],\n\u001b[0;32m     68\u001b[0m             [ \u001b[38;5;241m0\u001b[39m, \u001b[38;5;241m-\u001b[39m\u001b[38;5;241m1\u001b[39m ], [ \u001b[38;5;241m0\u001b[39m, \u001b[38;5;241m1\u001b[39m ], [ \u001b[38;5;241m-\u001b[39m\u001b[38;5;241m1\u001b[39m, \u001b[38;5;241m0\u001b[39m ], [ \u001b[38;5;241m1\u001b[39m, \u001b[38;5;241m0\u001b[39m ]\n\u001b[0;32m     69\u001b[0m         ],\n\u001b[0;32m     70\u001b[0m         num_radial_filtrations: \u001b[38;5;28mint\u001b[39m \u001b[38;5;241m=\u001b[39m \u001b[38;5;241m4\u001b[39m,\n\u001b[0;32m     71\u001b[0m         density_filtration_radiuses: typing\u001b[38;5;241m.\u001b[39mIterable[\u001b[38;5;28mint\u001b[39m] \u001b[38;5;241m=\u001b[39m [ \u001b[38;5;241m1\u001b[39m, \u001b[38;5;241m3\u001b[39m ],\n\u001b[0;32m     72\u001b[0m     ):\n\u001b[0;32m     73\u001b[0m         \u001b[38;5;28mself\u001b[39m\u001b[38;5;241m.\u001b[39mfitted_ \u001b[38;5;241m=\u001b[39m \u001b[38;5;28;01mFalse\u001b[39;00m\n\u001b[0;32m     74\u001b[0m         \u001b[38;5;28mself\u001b[39m\u001b[38;5;241m.\u001b[39mreturn_diagrams_ \u001b[38;5;241m=\u001b[39m return_diagrams\n",
      "File \u001b[1;32mD:\\HSE/HSE/Diploma/cvtda\\cvtda\\topology\\Pipeline.py:117\u001b[0m, in \u001b[0;36mprocess_iter_dump_\u001b[1;34m(self, transformer, data, do_fit, dump_name, *args, **kwargs)\u001b[0m\n",
      "File \u001b[1;32mD:\\HSE/HSE/Diploma/cvtda\\cvtda\\dumping\\numpy.py:22\u001b[0m, in \u001b[0;36mNumpyDumper.execute\u001b[1;34m(self, function, name, *function_args)\u001b[0m\n\u001b[0;32m     19\u001b[0m     \u001b[38;5;28;01mreturn\u001b[39;00m \u001b[38;5;28mself\u001b[39m\u001b[38;5;241m.\u001b[39mget_dump(name)\n\u001b[0;32m     21\u001b[0m file \u001b[38;5;241m=\u001b[39m \u001b[38;5;28mself\u001b[39m\u001b[38;5;241m.\u001b[39mget_file_name_(name)\n\u001b[1;32m---> 22\u001b[0m result \u001b[38;5;241m=\u001b[39m \u001b[43mfunction\u001b[49m\u001b[43m(\u001b[49m\u001b[38;5;241;43m*\u001b[39;49m\u001b[43mfunction_args\u001b[49m\u001b[43m)\u001b[49m\n\u001b[0;32m     23\u001b[0m cvtda\u001b[38;5;241m.\u001b[39mlogging\u001b[38;5;241m.\u001b[39mlogger()\u001b[38;5;241m.\u001b[39mprint(\u001b[38;5;124mf\u001b[39m\u001b[38;5;124m\"\u001b[39m\u001b[38;5;124mSaving the result to \u001b[39m\u001b[38;5;132;01m{\u001b[39;00mfile\u001b[38;5;132;01m}\u001b[39;00m\u001b[38;5;124m\"\u001b[39m)\n\u001b[0;32m     24\u001b[0m os\u001b[38;5;241m.\u001b[39mmakedirs(os\u001b[38;5;241m.\u001b[39mpath\u001b[38;5;241m.\u001b[39mdirname(file), exist_ok \u001b[38;5;241m=\u001b[39m \u001b[38;5;28;01mTrue\u001b[39;00m)\n",
      "File \u001b[1;32mD:\\HSE/HSE/Diploma/cvtda\\cvtda\\topology\\Pipeline.py:117\u001b[0m, in \u001b[0;36m<lambda>\u001b[1;34m()\u001b[0m\n",
      "File \u001b[1;32md:\\Programs\\Programming\\Python\\lib\\site-packages\\sklearn\\utils\\_set_output.py:316\u001b[0m, in \u001b[0;36m_wrap_method_output.<locals>.wrapped\u001b[1;34m(self, X, *args, **kwargs)\u001b[0m\n\u001b[0;32m    314\u001b[0m \u001b[38;5;129m@wraps\u001b[39m(f)\n\u001b[0;32m    315\u001b[0m \u001b[38;5;28;01mdef\u001b[39;00m \u001b[38;5;21mwrapped\u001b[39m(\u001b[38;5;28mself\u001b[39m, X, \u001b[38;5;241m*\u001b[39margs, \u001b[38;5;241m*\u001b[39m\u001b[38;5;241m*\u001b[39mkwargs):\n\u001b[1;32m--> 316\u001b[0m     data_to_wrap \u001b[38;5;241m=\u001b[39m f(\u001b[38;5;28mself\u001b[39m, X, \u001b[38;5;241m*\u001b[39margs, \u001b[38;5;241m*\u001b[39m\u001b[38;5;241m*\u001b[39mkwargs)\n\u001b[0;32m    317\u001b[0m     \u001b[38;5;28;01mif\u001b[39;00m \u001b[38;5;28misinstance\u001b[39m(data_to_wrap, \u001b[38;5;28mtuple\u001b[39m):\n\u001b[0;32m    318\u001b[0m         \u001b[38;5;66;03m# only wrap the first output for cross decomposition\u001b[39;00m\n\u001b[0;32m    319\u001b[0m         return_tuple \u001b[38;5;241m=\u001b[39m (\n\u001b[0;32m    320\u001b[0m             _wrap_data_with_container(method, data_to_wrap[\u001b[38;5;241m0\u001b[39m], X, \u001b[38;5;28mself\u001b[39m),\n\u001b[0;32m    321\u001b[0m             \u001b[38;5;241m*\u001b[39mdata_to_wrap[\u001b[38;5;241m1\u001b[39m:],\n\u001b[0;32m    322\u001b[0m         )\n",
      "File \u001b[1;32md:\\Programs\\Programming\\Python\\lib\\site-packages\\gtda\\homology\\cubical.py:215\u001b[0m, in \u001b[0;36mCubicalPersistence.transform\u001b[1;34m(self, X, y)\u001b[0m\n\u001b[0;32m    212\u001b[0m check_is_fitted(\u001b[38;5;28mself\u001b[39m)\n\u001b[0;32m    213\u001b[0m Xt \u001b[38;5;241m=\u001b[39m check_collection(X, force_all_finite\u001b[38;5;241m=\u001b[39m\u001b[38;5;28;01mFalse\u001b[39;00m)\n\u001b[1;32m--> 215\u001b[0m Xt \u001b[38;5;241m=\u001b[39m \u001b[43mParallel\u001b[49m\u001b[43m(\u001b[49m\u001b[43mn_jobs\u001b[49m\u001b[38;5;241;43m=\u001b[39;49m\u001b[38;5;28;43mself\u001b[39;49m\u001b[38;5;241;43m.\u001b[39;49m\u001b[43mn_jobs\u001b[49m\u001b[43m)\u001b[49m\u001b[43m(\u001b[49m\u001b[43mdelayed\u001b[49m\u001b[43m(\u001b[49m\u001b[38;5;28;43mself\u001b[39;49m\u001b[38;5;241;43m.\u001b[39;49m\u001b[43m_gudhi_diagram\u001b[49m\u001b[43m)\u001b[49m\u001b[43m(\u001b[49m\u001b[43mx\u001b[49m\u001b[43m)\u001b[49m\n\u001b[0;32m    216\u001b[0m \u001b[43m                                  \u001b[49m\u001b[38;5;28;43;01mfor\u001b[39;49;00m\u001b[43m \u001b[49m\u001b[43mx\u001b[49m\u001b[43m \u001b[49m\u001b[38;5;129;43;01min\u001b[39;49;00m\u001b[43m \u001b[49m\u001b[43mXt\u001b[49m\u001b[43m)\u001b[49m\n\u001b[0;32m    218\u001b[0m Xt \u001b[38;5;241m=\u001b[39m _postprocess_diagrams(\n\u001b[0;32m    219\u001b[0m     Xt, \u001b[38;5;124m\"\u001b[39m\u001b[38;5;124mgudhi\u001b[39m\u001b[38;5;124m\"\u001b[39m, \u001b[38;5;28mself\u001b[39m\u001b[38;5;241m.\u001b[39m_homology_dimensions, \u001b[38;5;28mself\u001b[39m\u001b[38;5;241m.\u001b[39minfinity_values_,\n\u001b[0;32m    220\u001b[0m     \u001b[38;5;28mself\u001b[39m\u001b[38;5;241m.\u001b[39mreduced_homology\n\u001b[0;32m    221\u001b[0m     )\n\u001b[0;32m    223\u001b[0m \u001b[38;5;28;01mreturn\u001b[39;00m Xt\n",
      "File \u001b[1;32md:\\Programs\\Programming\\Python\\lib\\site-packages\\joblib\\parallel.py:2007\u001b[0m, in \u001b[0;36mParallel.__call__\u001b[1;34m(self, iterable)\u001b[0m\n\u001b[0;32m   2001\u001b[0m \u001b[38;5;66;03m# The first item from the output is blank, but it makes the interpreter\u001b[39;00m\n\u001b[0;32m   2002\u001b[0m \u001b[38;5;66;03m# progress until it enters the Try/Except block of the generator and\u001b[39;00m\n\u001b[0;32m   2003\u001b[0m \u001b[38;5;66;03m# reaches the first `yield` statement. This starts the asynchronous\u001b[39;00m\n\u001b[0;32m   2004\u001b[0m \u001b[38;5;66;03m# dispatch of the tasks to the workers.\u001b[39;00m\n\u001b[0;32m   2005\u001b[0m \u001b[38;5;28mnext\u001b[39m(output)\n\u001b[1;32m-> 2007\u001b[0m \u001b[38;5;28;01mreturn\u001b[39;00m output \u001b[38;5;28;01mif\u001b[39;00m \u001b[38;5;28mself\u001b[39m\u001b[38;5;241m.\u001b[39mreturn_generator \u001b[38;5;28;01melse\u001b[39;00m \u001b[38;5;28;43mlist\u001b[39;49m\u001b[43m(\u001b[49m\u001b[43moutput\u001b[49m\u001b[43m)\u001b[49m\n",
      "File \u001b[1;32md:\\Programs\\Programming\\Python\\lib\\site-packages\\joblib\\parallel.py:1650\u001b[0m, in \u001b[0;36mParallel._get_outputs\u001b[1;34m(self, iterator, pre_dispatch)\u001b[0m\n\u001b[0;32m   1647\u001b[0m     \u001b[38;5;28;01myield\u001b[39;00m\n\u001b[0;32m   1649\u001b[0m     \u001b[38;5;28;01mwith\u001b[39;00m \u001b[38;5;28mself\u001b[39m\u001b[38;5;241m.\u001b[39m_backend\u001b[38;5;241m.\u001b[39mretrieval_context():\n\u001b[1;32m-> 1650\u001b[0m         \u001b[38;5;28;01myield from\u001b[39;00m \u001b[38;5;28mself\u001b[39m\u001b[38;5;241m.\u001b[39m_retrieve()\n\u001b[0;32m   1652\u001b[0m \u001b[38;5;28;01mexcept\u001b[39;00m \u001b[38;5;167;01mGeneratorExit\u001b[39;00m:\n\u001b[0;32m   1653\u001b[0m     \u001b[38;5;66;03m# The generator has been garbage collected before being fully\u001b[39;00m\n\u001b[0;32m   1654\u001b[0m     \u001b[38;5;66;03m# consumed. This aborts the remaining tasks if possible and warn\u001b[39;00m\n\u001b[0;32m   1655\u001b[0m     \u001b[38;5;66;03m# the user if necessary.\u001b[39;00m\n\u001b[0;32m   1656\u001b[0m     \u001b[38;5;28mself\u001b[39m\u001b[38;5;241m.\u001b[39m_exception \u001b[38;5;241m=\u001b[39m \u001b[38;5;28;01mTrue\u001b[39;00m\n",
      "File \u001b[1;32md:\\Programs\\Programming\\Python\\lib\\site-packages\\joblib\\parallel.py:1762\u001b[0m, in \u001b[0;36mParallel._retrieve\u001b[1;34m(self)\u001b[0m\n\u001b[0;32m   1757\u001b[0m \u001b[38;5;66;03m# If the next job is not ready for retrieval yet, we just wait for\u001b[39;00m\n\u001b[0;32m   1758\u001b[0m \u001b[38;5;66;03m# async callbacks to progress.\u001b[39;00m\n\u001b[0;32m   1759\u001b[0m \u001b[38;5;28;01mif\u001b[39;00m ((\u001b[38;5;28mlen\u001b[39m(\u001b[38;5;28mself\u001b[39m\u001b[38;5;241m.\u001b[39m_jobs) \u001b[38;5;241m==\u001b[39m \u001b[38;5;241m0\u001b[39m) \u001b[38;5;129;01mor\u001b[39;00m\n\u001b[0;32m   1760\u001b[0m     (\u001b[38;5;28mself\u001b[39m\u001b[38;5;241m.\u001b[39m_jobs[\u001b[38;5;241m0\u001b[39m]\u001b[38;5;241m.\u001b[39mget_status(\n\u001b[0;32m   1761\u001b[0m         timeout\u001b[38;5;241m=\u001b[39m\u001b[38;5;28mself\u001b[39m\u001b[38;5;241m.\u001b[39mtimeout) \u001b[38;5;241m==\u001b[39m TASK_PENDING)):\n\u001b[1;32m-> 1762\u001b[0m     \u001b[43mtime\u001b[49m\u001b[38;5;241;43m.\u001b[39;49m\u001b[43msleep\u001b[49m\u001b[43m(\u001b[49m\u001b[38;5;241;43m0.01\u001b[39;49m\u001b[43m)\u001b[49m\n\u001b[0;32m   1763\u001b[0m     \u001b[38;5;28;01mcontinue\u001b[39;00m\n\u001b[0;32m   1765\u001b[0m \u001b[38;5;66;03m# We need to be careful: the job list can be filling up as\u001b[39;00m\n\u001b[0;32m   1766\u001b[0m \u001b[38;5;66;03m# we empty it and Python list are not thread-safe by\u001b[39;00m\n\u001b[0;32m   1767\u001b[0m \u001b[38;5;66;03m# default hence the use of the lock\u001b[39;00m\n",
      "\u001b[1;31mKeyboardInterrupt\u001b[0m: "
     ]
    }
   ],
   "source": [
    "import cvtda.topology\n",
    "extractor = cvtda.topology.FeatureExtractor()\n",
    "extractor.fit(train_images, \"19/train\")"
   ]
  },
  {
   "cell_type": "code",
   "execution_count": null,
   "metadata": {},
   "outputs": [
    {
     "name": "stdout",
     "output_type": "stream",
     "text": [
      "GreyscaleExtractor: processing 1/train/greyscale, do_fit = False\n",
      "Got the result from ./1/train/greyscale/features.npy\n",
      "Got the result from ./1/train/greyscale/inverted_features.npy\n",
      "Applying filtrations\n",
      "Applying filtration 0/116: 2/HeightFiltrartion_-1_-1\n",
      "FiltrationExtractor: processing 1/train/filtrations/2/HeightFiltrartion_-1_-1, do_fit = False, filtration = HeightFiltration(direction=array([-1, -1]), n_jobs=-1)\n",
      "Got the result from ./1/train/filtrations/2/HeightFiltrartion_-1_-1/features.npy\n",
      "Applying filtration 1/116: 2/HeightFiltrartion_1_1\n",
      "FiltrationExtractor: processing 1/train/filtrations/2/HeightFiltrartion_1_1, do_fit = False, filtration = HeightFiltration(direction=array([1, 1]), n_jobs=-1)\n",
      "Got the result from ./1/train/filtrations/2/HeightFiltrartion_1_1/features.npy\n",
      "Applying filtration 2/116: 2/HeightFiltrartion_1_-1\n",
      "FiltrationExtractor: processing 1/train/filtrations/2/HeightFiltrartion_1_-1, do_fit = False, filtration = HeightFiltration(direction=array([ 1, -1]), n_jobs=-1)\n",
      "Got the result from ./1/train/filtrations/2/HeightFiltrartion_1_-1/features.npy\n",
      "Applying filtration 3/116: 2/HeightFiltrartion_-1_1\n",
      "FiltrationExtractor: processing 1/train/filtrations/2/HeightFiltrartion_-1_1, do_fit = False, filtration = HeightFiltration(direction=array([-1,  1]), n_jobs=-1)\n",
      "Got the result from ./1/train/filtrations/2/HeightFiltrartion_-1_1/features.npy\n",
      "Applying filtration 4/116: 2/HeightFiltrartion_0_-1\n",
      "FiltrationExtractor: processing 1/train/filtrations/2/HeightFiltrartion_0_-1, do_fit = False, filtration = HeightFiltration(direction=array([ 0, -1]), n_jobs=-1)\n",
      "Got the result from ./1/train/filtrations/2/HeightFiltrartion_0_-1/features.npy\n",
      "Applying filtration 5/116: 2/HeightFiltrartion_0_1\n",
      "FiltrationExtractor: processing 1/train/filtrations/2/HeightFiltrartion_0_1, do_fit = False, filtration = HeightFiltration(direction=array([0, 1]), n_jobs=-1)\n",
      "Got the result from ./1/train/filtrations/2/HeightFiltrartion_0_1/features.npy\n",
      "Applying filtration 6/116: 2/HeightFiltrartion_-1_0\n",
      "FiltrationExtractor: processing 1/train/filtrations/2/HeightFiltrartion_-1_0, do_fit = False, filtration = HeightFiltration(direction=array([-1,  0]), n_jobs=-1)\n",
      "Got the result from ./1/train/filtrations/2/HeightFiltrartion_-1_0/features.npy\n",
      "Applying filtration 7/116: 2/HeightFiltrartion_1_0\n",
      "FiltrationExtractor: processing 1/train/filtrations/2/HeightFiltrartion_1_0, do_fit = False, filtration = HeightFiltration(direction=array([1, 0]), n_jobs=-1)\n",
      "Got the result from ./1/train/filtrations/2/HeightFiltrartion_1_0/features.npy\n",
      "Applying filtration 8/116: 2/RadialFiltration_4_4\n",
      "FiltrationExtractor: processing 1/train/filtrations/2/RadialFiltration_4_4, do_fit = False, filtration = RadialFiltration(center=array([4, 4]), n_jobs=-1)\n",
      "Got the result from ./1/train/filtrations/2/RadialFiltration_4_4/features.npy\n",
      "Applying filtration 9/116: 2/RadialFiltration_4_10\n",
      "FiltrationExtractor: processing 1/train/filtrations/2/RadialFiltration_4_10, do_fit = False, filtration = RadialFiltration(center=array([ 4, 10]), n_jobs=-1)\n",
      "Got the result from ./1/train/filtrations/2/RadialFiltration_4_10/features.npy\n",
      "Applying filtration 10/116: 2/RadialFiltration_4_17\n",
      "FiltrationExtractor: processing 1/train/filtrations/2/RadialFiltration_4_17, do_fit = False, filtration = RadialFiltration(center=array([ 4, 17]), n_jobs=-1)\n",
      "Got the result from ./1/train/filtrations/2/RadialFiltration_4_17/features.npy\n",
      "Applying filtration 11/116: 2/RadialFiltration_4_23\n",
      "FiltrationExtractor: processing 1/train/filtrations/2/RadialFiltration_4_23, do_fit = False, filtration = RadialFiltration(center=array([ 4, 23]), n_jobs=-1)\n",
      "Got the result from ./1/train/filtrations/2/RadialFiltration_4_23/features.npy\n",
      "Applying filtration 12/116: 2/RadialFiltration_10_4\n",
      "FiltrationExtractor: processing 1/train/filtrations/2/RadialFiltration_10_4, do_fit = False, filtration = RadialFiltration(center=array([10,  4]), n_jobs=-1)\n",
      "Got the result from ./1/train/filtrations/2/RadialFiltration_10_4/features.npy\n",
      "Applying filtration 13/116: 2/RadialFiltration_10_10\n",
      "FiltrationExtractor: processing 1/train/filtrations/2/RadialFiltration_10_10, do_fit = False, filtration = RadialFiltration(center=array([10, 10]), n_jobs=-1)\n",
      "Got the result from ./1/train/filtrations/2/RadialFiltration_10_10/features.npy\n",
      "Applying filtration 14/116: 2/RadialFiltration_10_17\n",
      "FiltrationExtractor: processing 1/train/filtrations/2/RadialFiltration_10_17, do_fit = False, filtration = RadialFiltration(center=array([10, 17]), n_jobs=-1)\n",
      "Got the result from ./1/train/filtrations/2/RadialFiltration_10_17/features.npy\n",
      "Applying filtration 15/116: 2/RadialFiltration_10_23\n",
      "FiltrationExtractor: processing 1/train/filtrations/2/RadialFiltration_10_23, do_fit = False, filtration = RadialFiltration(center=array([10, 23]), n_jobs=-1)\n",
      "Got the result from ./1/train/filtrations/2/RadialFiltration_10_23/features.npy\n",
      "Applying filtration 16/116: 2/RadialFiltration_17_4\n",
      "FiltrationExtractor: processing 1/train/filtrations/2/RadialFiltration_17_4, do_fit = False, filtration = RadialFiltration(center=array([17,  4]), n_jobs=-1)\n",
      "Got the result from ./1/train/filtrations/2/RadialFiltration_17_4/features.npy\n",
      "Applying filtration 17/116: 2/RadialFiltration_17_10\n",
      "FiltrationExtractor: processing 1/train/filtrations/2/RadialFiltration_17_10, do_fit = False, filtration = RadialFiltration(center=array([17, 10]), n_jobs=-1)\n",
      "Got the result from ./1/train/filtrations/2/RadialFiltration_17_10/features.npy\n",
      "Applying filtration 18/116: 2/RadialFiltration_17_17\n",
      "FiltrationExtractor: processing 1/train/filtrations/2/RadialFiltration_17_17, do_fit = False, filtration = RadialFiltration(center=array([17, 17]), n_jobs=-1)\n",
      "Got the result from ./1/train/filtrations/2/RadialFiltration_17_17/features.npy\n",
      "Applying filtration 19/116: 2/RadialFiltration_17_23\n",
      "FiltrationExtractor: processing 1/train/filtrations/2/RadialFiltration_17_23, do_fit = False, filtration = RadialFiltration(center=array([17, 23]), n_jobs=-1)\n",
      "Got the result from ./1/train/filtrations/2/RadialFiltration_17_23/features.npy\n",
      "Applying filtration 20/116: 2/RadialFiltration_23_4\n",
      "FiltrationExtractor: processing 1/train/filtrations/2/RadialFiltration_23_4, do_fit = False, filtration = RadialFiltration(center=array([23,  4]), n_jobs=-1)\n",
      "Got the result from ./1/train/filtrations/2/RadialFiltration_23_4/features.npy\n",
      "Applying filtration 21/116: 2/RadialFiltration_23_10\n",
      "FiltrationExtractor: processing 1/train/filtrations/2/RadialFiltration_23_10, do_fit = False, filtration = RadialFiltration(center=array([23, 10]), n_jobs=-1)\n",
      "Got the result from ./1/train/filtrations/2/RadialFiltration_23_10/features.npy\n",
      "Applying filtration 22/116: 2/RadialFiltration_23_17\n",
      "FiltrationExtractor: processing 1/train/filtrations/2/RadialFiltration_23_17, do_fit = False, filtration = RadialFiltration(center=array([23, 17]), n_jobs=-1)\n",
      "Got the result from ./1/train/filtrations/2/RadialFiltration_23_17/features.npy\n",
      "Applying filtration 23/116: 2/RadialFiltration_23_23\n",
      "FiltrationExtractor: processing 1/train/filtrations/2/RadialFiltration_23_23, do_fit = False, filtration = RadialFiltration(center=array([23, 23]), n_jobs=-1)\n",
      "Got the result from ./1/train/filtrations/2/RadialFiltration_23_23/features.npy\n",
      "Applying filtration 24/116: 2/DilationFiltration\n",
      "FiltrationExtractor: processing 1/train/filtrations/2/DilationFiltration, do_fit = False, filtration = DilationFiltration(n_jobs=-1)\n",
      "Got the result from ./1/train/filtrations/2/DilationFiltration/features.npy\n",
      "Applying filtration 25/116: 2/ErosionFiltration\n",
      "FiltrationExtractor: processing 1/train/filtrations/2/ErosionFiltration, do_fit = False, filtration = ErosionFiltration(n_jobs=-1)\n",
      "Got the result from ./1/train/filtrations/2/ErosionFiltration/features.npy\n",
      "Applying filtration 26/116: 2/SignedDistanceFiltration\n",
      "FiltrationExtractor: processing 1/train/filtrations/2/SignedDistanceFiltration, do_fit = False, filtration = SignedDistanceFiltration(n_jobs=-1)\n",
      "Got the result from ./1/train/filtrations/2/SignedDistanceFiltration/features.npy\n",
      "Applying filtration 27/116: 2/DensityFiltration_1\n",
      "FiltrationExtractor: processing 1/train/filtrations/2/DensityFiltration_1, do_fit = False, filtration = DensityFiltration(n_jobs=-1, radius=1)\n",
      "Got the result from ./1/train/filtrations/2/DensityFiltration_1/features.npy\n",
      "Applying filtration 28/116: 2/DensityFiltration_3\n",
      "FiltrationExtractor: processing 1/train/filtrations/2/DensityFiltration_3, do_fit = False, filtration = DensityFiltration(n_jobs=-1)\n",
      "Got the result from ./1/train/filtrations/2/DensityFiltration_3/features.npy\n",
      "Applying filtration 29/116: 4/HeightFiltrartion_-1_-1\n",
      "FiltrationExtractor: processing 1/train/filtrations/4/HeightFiltrartion_-1_-1, do_fit = False, filtration = HeightFiltration(direction=array([-1, -1]), n_jobs=-1)\n",
      "Got the result from ./1/train/filtrations/4/HeightFiltrartion_-1_-1/features.npy\n",
      "Applying filtration 30/116: 4/HeightFiltrartion_1_1\n",
      "FiltrationExtractor: processing 1/train/filtrations/4/HeightFiltrartion_1_1, do_fit = False, filtration = HeightFiltration(direction=array([1, 1]), n_jobs=-1)\n",
      "Got the result from ./1/train/filtrations/4/HeightFiltrartion_1_1/features.npy\n",
      "Applying filtration 31/116: 4/HeightFiltrartion_1_-1\n",
      "FiltrationExtractor: processing 1/train/filtrations/4/HeightFiltrartion_1_-1, do_fit = False, filtration = HeightFiltration(direction=array([ 1, -1]), n_jobs=-1)\n",
      "Got the result from ./1/train/filtrations/4/HeightFiltrartion_1_-1/features.npy\n",
      "Applying filtration 32/116: 4/HeightFiltrartion_-1_1\n",
      "FiltrationExtractor: processing 1/train/filtrations/4/HeightFiltrartion_-1_1, do_fit = False, filtration = HeightFiltration(direction=array([-1,  1]), n_jobs=-1)\n",
      "Got the result from ./1/train/filtrations/4/HeightFiltrartion_-1_1/features.npy\n",
      "Applying filtration 33/116: 4/HeightFiltrartion_0_-1\n",
      "FiltrationExtractor: processing 1/train/filtrations/4/HeightFiltrartion_0_-1, do_fit = False, filtration = HeightFiltration(direction=array([ 0, -1]), n_jobs=-1)\n",
      "Got the result from ./1/train/filtrations/4/HeightFiltrartion_0_-1/features.npy\n",
      "Applying filtration 34/116: 4/HeightFiltrartion_0_1\n",
      "FiltrationExtractor: processing 1/train/filtrations/4/HeightFiltrartion_0_1, do_fit = False, filtration = HeightFiltration(direction=array([0, 1]), n_jobs=-1)\n",
      "Got the result from ./1/train/filtrations/4/HeightFiltrartion_0_1/features.npy\n",
      "Applying filtration 35/116: 4/HeightFiltrartion_-1_0\n",
      "FiltrationExtractor: processing 1/train/filtrations/4/HeightFiltrartion_-1_0, do_fit = False, filtration = HeightFiltration(direction=array([-1,  0]), n_jobs=-1)\n",
      "Got the result from ./1/train/filtrations/4/HeightFiltrartion_-1_0/features.npy\n",
      "Applying filtration 36/116: 4/HeightFiltrartion_1_0\n",
      "FiltrationExtractor: processing 1/train/filtrations/4/HeightFiltrartion_1_0, do_fit = False, filtration = HeightFiltration(direction=array([1, 0]), n_jobs=-1)\n",
      "Got the result from ./1/train/filtrations/4/HeightFiltrartion_1_0/features.npy\n",
      "Applying filtration 37/116: 4/RadialFiltration_4_4\n",
      "FiltrationExtractor: processing 1/train/filtrations/4/RadialFiltration_4_4, do_fit = False, filtration = RadialFiltration(center=array([4, 4]), n_jobs=-1)\n",
      "Got the result from ./1/train/filtrations/4/RadialFiltration_4_4/features.npy\n",
      "Applying filtration 38/116: 4/RadialFiltration_4_10\n",
      "FiltrationExtractor: processing 1/train/filtrations/4/RadialFiltration_4_10, do_fit = False, filtration = RadialFiltration(center=array([ 4, 10]), n_jobs=-1)\n",
      "Got the result from ./1/train/filtrations/4/RadialFiltration_4_10/features.npy\n",
      "Applying filtration 39/116: 4/RadialFiltration_4_17\n",
      "FiltrationExtractor: processing 1/train/filtrations/4/RadialFiltration_4_17, do_fit = False, filtration = RadialFiltration(center=array([ 4, 17]), n_jobs=-1)\n",
      "Got the result from ./1/train/filtrations/4/RadialFiltration_4_17/features.npy\n",
      "Applying filtration 40/116: 4/RadialFiltration_4_23\n",
      "FiltrationExtractor: processing 1/train/filtrations/4/RadialFiltration_4_23, do_fit = False, filtration = RadialFiltration(center=array([ 4, 23]), n_jobs=-1)\n",
      "Got the result from ./1/train/filtrations/4/RadialFiltration_4_23/features.npy\n",
      "Applying filtration 41/116: 4/RadialFiltration_10_4\n",
      "FiltrationExtractor: processing 1/train/filtrations/4/RadialFiltration_10_4, do_fit = False, filtration = RadialFiltration(center=array([10,  4]), n_jobs=-1)\n",
      "Got the result from ./1/train/filtrations/4/RadialFiltration_10_4/features.npy\n",
      "Applying filtration 42/116: 4/RadialFiltration_10_10\n",
      "FiltrationExtractor: processing 1/train/filtrations/4/RadialFiltration_10_10, do_fit = False, filtration = RadialFiltration(center=array([10, 10]), n_jobs=-1)\n",
      "Got the result from ./1/train/filtrations/4/RadialFiltration_10_10/features.npy\n",
      "Applying filtration 43/116: 4/RadialFiltration_10_17\n",
      "FiltrationExtractor: processing 1/train/filtrations/4/RadialFiltration_10_17, do_fit = False, filtration = RadialFiltration(center=array([10, 17]), n_jobs=-1)\n",
      "Got the result from ./1/train/filtrations/4/RadialFiltration_10_17/features.npy\n",
      "Applying filtration 44/116: 4/RadialFiltration_10_23\n",
      "FiltrationExtractor: processing 1/train/filtrations/4/RadialFiltration_10_23, do_fit = False, filtration = RadialFiltration(center=array([10, 23]), n_jobs=-1)\n",
      "Got the result from ./1/train/filtrations/4/RadialFiltration_10_23/features.npy\n",
      "Applying filtration 45/116: 4/RadialFiltration_17_4\n",
      "FiltrationExtractor: processing 1/train/filtrations/4/RadialFiltration_17_4, do_fit = False, filtration = RadialFiltration(center=array([17,  4]), n_jobs=-1)\n",
      "Got the result from ./1/train/filtrations/4/RadialFiltration_17_4/features.npy\n",
      "Applying filtration 46/116: 4/RadialFiltration_17_10\n",
      "FiltrationExtractor: processing 1/train/filtrations/4/RadialFiltration_17_10, do_fit = False, filtration = RadialFiltration(center=array([17, 10]), n_jobs=-1)\n",
      "Got the result from ./1/train/filtrations/4/RadialFiltration_17_10/features.npy\n",
      "Applying filtration 47/116: 4/RadialFiltration_17_17\n",
      "FiltrationExtractor: processing 1/train/filtrations/4/RadialFiltration_17_17, do_fit = False, filtration = RadialFiltration(center=array([17, 17]), n_jobs=-1)\n",
      "Got the result from ./1/train/filtrations/4/RadialFiltration_17_17/features.npy\n",
      "Applying filtration 48/116: 4/RadialFiltration_17_23\n",
      "FiltrationExtractor: processing 1/train/filtrations/4/RadialFiltration_17_23, do_fit = False, filtration = RadialFiltration(center=array([17, 23]), n_jobs=-1)\n",
      "Got the result from ./1/train/filtrations/4/RadialFiltration_17_23/features.npy\n",
      "Applying filtration 49/116: 4/RadialFiltration_23_4\n",
      "FiltrationExtractor: processing 1/train/filtrations/4/RadialFiltration_23_4, do_fit = False, filtration = RadialFiltration(center=array([23,  4]), n_jobs=-1)\n",
      "Got the result from ./1/train/filtrations/4/RadialFiltration_23_4/features.npy\n",
      "Applying filtration 50/116: 4/RadialFiltration_23_10\n",
      "FiltrationExtractor: processing 1/train/filtrations/4/RadialFiltration_23_10, do_fit = False, filtration = RadialFiltration(center=array([23, 10]), n_jobs=-1)\n",
      "Got the result from ./1/train/filtrations/4/RadialFiltration_23_10/features.npy\n",
      "Applying filtration 51/116: 4/RadialFiltration_23_17\n",
      "FiltrationExtractor: processing 1/train/filtrations/4/RadialFiltration_23_17, do_fit = False, filtration = RadialFiltration(center=array([23, 17]), n_jobs=-1)\n",
      "Got the result from ./1/train/filtrations/4/RadialFiltration_23_17/features.npy\n",
      "Applying filtration 52/116: 4/RadialFiltration_23_23\n",
      "FiltrationExtractor: processing 1/train/filtrations/4/RadialFiltration_23_23, do_fit = False, filtration = RadialFiltration(center=array([23, 23]), n_jobs=-1)\n",
      "Got the result from ./1/train/filtrations/4/RadialFiltration_23_23/features.npy\n",
      "Applying filtration 53/116: 4/DilationFiltration\n",
      "FiltrationExtractor: processing 1/train/filtrations/4/DilationFiltration, do_fit = False, filtration = DilationFiltration(n_jobs=-1)\n",
      "Got the result from ./1/train/filtrations/4/DilationFiltration/features.npy\n",
      "Applying filtration 54/116: 4/ErosionFiltration\n",
      "FiltrationExtractor: processing 1/train/filtrations/4/ErosionFiltration, do_fit = False, filtration = ErosionFiltration(n_jobs=-1)\n",
      "Got the result from ./1/train/filtrations/4/ErosionFiltration/features.npy\n",
      "Applying filtration 55/116: 4/SignedDistanceFiltration\n",
      "FiltrationExtractor: processing 1/train/filtrations/4/SignedDistanceFiltration, do_fit = False, filtration = SignedDistanceFiltration(n_jobs=-1)\n",
      "Got the result from ./1/train/filtrations/4/SignedDistanceFiltration/features.npy\n",
      "Applying filtration 56/116: 4/DensityFiltration_1\n",
      "FiltrationExtractor: processing 1/train/filtrations/4/DensityFiltration_1, do_fit = False, filtration = DensityFiltration(n_jobs=-1, radius=1)\n",
      "Got the result from ./1/train/filtrations/4/DensityFiltration_1/features.npy\n",
      "Applying filtration 57/116: 4/DensityFiltration_3\n",
      "FiltrationExtractor: processing 1/train/filtrations/4/DensityFiltration_3, do_fit = False, filtration = DensityFiltration(n_jobs=-1)\n",
      "Got the result from ./1/train/filtrations/4/DensityFiltration_3/features.npy\n",
      "Applying filtration 58/116: 6/HeightFiltrartion_-1_-1\n",
      "FiltrationExtractor: processing 1/train/filtrations/6/HeightFiltrartion_-1_-1, do_fit = False, filtration = HeightFiltration(direction=array([-1, -1]), n_jobs=-1)\n",
      "Got the result from ./1/train/filtrations/6/HeightFiltrartion_-1_-1/features.npy\n",
      "Applying filtration 59/116: 6/HeightFiltrartion_1_1\n",
      "FiltrationExtractor: processing 1/train/filtrations/6/HeightFiltrartion_1_1, do_fit = False, filtration = HeightFiltration(direction=array([1, 1]), n_jobs=-1)\n",
      "Got the result from ./1/train/filtrations/6/HeightFiltrartion_1_1/features.npy\n",
      "Applying filtration 60/116: 6/HeightFiltrartion_1_-1\n",
      "FiltrationExtractor: processing 1/train/filtrations/6/HeightFiltrartion_1_-1, do_fit = False, filtration = HeightFiltration(direction=array([ 1, -1]), n_jobs=-1)\n",
      "Got the result from ./1/train/filtrations/6/HeightFiltrartion_1_-1/features.npy\n",
      "Applying filtration 61/116: 6/HeightFiltrartion_-1_1\n",
      "FiltrationExtractor: processing 1/train/filtrations/6/HeightFiltrartion_-1_1, do_fit = False, filtration = HeightFiltration(direction=array([-1,  1]), n_jobs=-1)\n",
      "Got the result from ./1/train/filtrations/6/HeightFiltrartion_-1_1/features.npy\n",
      "Applying filtration 62/116: 6/HeightFiltrartion_0_-1\n",
      "FiltrationExtractor: processing 1/train/filtrations/6/HeightFiltrartion_0_-1, do_fit = False, filtration = HeightFiltration(direction=array([ 0, -1]), n_jobs=-1)\n",
      "Got the result from ./1/train/filtrations/6/HeightFiltrartion_0_-1/features.npy\n",
      "Applying filtration 63/116: 6/HeightFiltrartion_0_1\n",
      "FiltrationExtractor: processing 1/train/filtrations/6/HeightFiltrartion_0_1, do_fit = False, filtration = HeightFiltration(direction=array([0, 1]), n_jobs=-1)\n",
      "Got the result from ./1/train/filtrations/6/HeightFiltrartion_0_1/features.npy\n",
      "Applying filtration 64/116: 6/HeightFiltrartion_-1_0\n",
      "FiltrationExtractor: processing 1/train/filtrations/6/HeightFiltrartion_-1_0, do_fit = False, filtration = HeightFiltration(direction=array([-1,  0]), n_jobs=-1)\n",
      "Got the result from ./1/train/filtrations/6/HeightFiltrartion_-1_0/features.npy\n",
      "Applying filtration 65/116: 6/HeightFiltrartion_1_0\n",
      "FiltrationExtractor: processing 1/train/filtrations/6/HeightFiltrartion_1_0, do_fit = False, filtration = HeightFiltration(direction=array([1, 0]), n_jobs=-1)\n",
      "Got the result from ./1/train/filtrations/6/HeightFiltrartion_1_0/features.npy\n",
      "Applying filtration 66/116: 6/RadialFiltration_4_4\n",
      "FiltrationExtractor: processing 1/train/filtrations/6/RadialFiltration_4_4, do_fit = False, filtration = RadialFiltration(center=array([4, 4]), n_jobs=-1)\n",
      "Got the result from ./1/train/filtrations/6/RadialFiltration_4_4/features.npy\n",
      "Applying filtration 67/116: 6/RadialFiltration_4_10\n",
      "FiltrationExtractor: processing 1/train/filtrations/6/RadialFiltration_4_10, do_fit = False, filtration = RadialFiltration(center=array([ 4, 10]), n_jobs=-1)\n",
      "Got the result from ./1/train/filtrations/6/RadialFiltration_4_10/features.npy\n",
      "Applying filtration 68/116: 6/RadialFiltration_4_17\n",
      "FiltrationExtractor: processing 1/train/filtrations/6/RadialFiltration_4_17, do_fit = False, filtration = RadialFiltration(center=array([ 4, 17]), n_jobs=-1)\n",
      "Got the result from ./1/train/filtrations/6/RadialFiltration_4_17/features.npy\n",
      "Applying filtration 69/116: 6/RadialFiltration_4_23\n",
      "FiltrationExtractor: processing 1/train/filtrations/6/RadialFiltration_4_23, do_fit = False, filtration = RadialFiltration(center=array([ 4, 23]), n_jobs=-1)\n",
      "Got the result from ./1/train/filtrations/6/RadialFiltration_4_23/features.npy\n",
      "Applying filtration 70/116: 6/RadialFiltration_10_4\n",
      "FiltrationExtractor: processing 1/train/filtrations/6/RadialFiltration_10_4, do_fit = False, filtration = RadialFiltration(center=array([10,  4]), n_jobs=-1)\n",
      "Got the result from ./1/train/filtrations/6/RadialFiltration_10_4/features.npy\n",
      "Applying filtration 71/116: 6/RadialFiltration_10_10\n",
      "FiltrationExtractor: processing 1/train/filtrations/6/RadialFiltration_10_10, do_fit = False, filtration = RadialFiltration(center=array([10, 10]), n_jobs=-1)\n",
      "Got the result from ./1/train/filtrations/6/RadialFiltration_10_10/features.npy\n",
      "Applying filtration 72/116: 6/RadialFiltration_10_17\n",
      "FiltrationExtractor: processing 1/train/filtrations/6/RadialFiltration_10_17, do_fit = False, filtration = RadialFiltration(center=array([10, 17]), n_jobs=-1)\n",
      "Got the result from ./1/train/filtrations/6/RadialFiltration_10_17/features.npy\n",
      "Applying filtration 73/116: 6/RadialFiltration_10_23\n",
      "FiltrationExtractor: processing 1/train/filtrations/6/RadialFiltration_10_23, do_fit = False, filtration = RadialFiltration(center=array([10, 23]), n_jobs=-1)\n",
      "Got the result from ./1/train/filtrations/6/RadialFiltration_10_23/features.npy\n",
      "Applying filtration 74/116: 6/RadialFiltration_17_4\n",
      "FiltrationExtractor: processing 1/train/filtrations/6/RadialFiltration_17_4, do_fit = False, filtration = RadialFiltration(center=array([17,  4]), n_jobs=-1)\n",
      "Got the result from ./1/train/filtrations/6/RadialFiltration_17_4/features.npy\n",
      "Applying filtration 75/116: 6/RadialFiltration_17_10\n",
      "FiltrationExtractor: processing 1/train/filtrations/6/RadialFiltration_17_10, do_fit = False, filtration = RadialFiltration(center=array([17, 10]), n_jobs=-1)\n",
      "Got the result from ./1/train/filtrations/6/RadialFiltration_17_10/features.npy\n",
      "Applying filtration 76/116: 6/RadialFiltration_17_17\n",
      "FiltrationExtractor: processing 1/train/filtrations/6/RadialFiltration_17_17, do_fit = False, filtration = RadialFiltration(center=array([17, 17]), n_jobs=-1)\n",
      "Got the result from ./1/train/filtrations/6/RadialFiltration_17_17/features.npy\n",
      "Applying filtration 77/116: 6/RadialFiltration_17_23\n",
      "FiltrationExtractor: processing 1/train/filtrations/6/RadialFiltration_17_23, do_fit = False, filtration = RadialFiltration(center=array([17, 23]), n_jobs=-1)\n",
      "Got the result from ./1/train/filtrations/6/RadialFiltration_17_23/features.npy\n",
      "Applying filtration 78/116: 6/RadialFiltration_23_4\n",
      "FiltrationExtractor: processing 1/train/filtrations/6/RadialFiltration_23_4, do_fit = False, filtration = RadialFiltration(center=array([23,  4]), n_jobs=-1)\n",
      "Got the result from ./1/train/filtrations/6/RadialFiltration_23_4/features.npy\n",
      "Applying filtration 79/116: 6/RadialFiltration_23_10\n",
      "FiltrationExtractor: processing 1/train/filtrations/6/RadialFiltration_23_10, do_fit = False, filtration = RadialFiltration(center=array([23, 10]), n_jobs=-1)\n",
      "Got the result from ./1/train/filtrations/6/RadialFiltration_23_10/features.npy\n",
      "Applying filtration 80/116: 6/RadialFiltration_23_17\n",
      "FiltrationExtractor: processing 1/train/filtrations/6/RadialFiltration_23_17, do_fit = False, filtration = RadialFiltration(center=array([23, 17]), n_jobs=-1)\n",
      "Got the result from ./1/train/filtrations/6/RadialFiltration_23_17/features.npy\n",
      "Applying filtration 81/116: 6/RadialFiltration_23_23\n",
      "FiltrationExtractor: processing 1/train/filtrations/6/RadialFiltration_23_23, do_fit = False, filtration = RadialFiltration(center=array([23, 23]), n_jobs=-1)\n",
      "Got the result from ./1/train/filtrations/6/RadialFiltration_23_23/features.npy\n",
      "Applying filtration 82/116: 6/DilationFiltration\n",
      "FiltrationExtractor: processing 1/train/filtrations/6/DilationFiltration, do_fit = False, filtration = DilationFiltration(n_jobs=-1)\n",
      "Got the result from ./1/train/filtrations/6/DilationFiltration/features.npy\n",
      "Applying filtration 83/116: 6/ErosionFiltration\n",
      "FiltrationExtractor: processing 1/train/filtrations/6/ErosionFiltration, do_fit = False, filtration = ErosionFiltration(n_jobs=-1)\n",
      "Got the result from ./1/train/filtrations/6/ErosionFiltration/features.npy\n",
      "Applying filtration 84/116: 6/SignedDistanceFiltration\n",
      "FiltrationExtractor: processing 1/train/filtrations/6/SignedDistanceFiltration, do_fit = False, filtration = SignedDistanceFiltration(n_jobs=-1)\n",
      "Got the result from ./1/train/filtrations/6/SignedDistanceFiltration/features.npy\n",
      "Applying filtration 85/116: 6/DensityFiltration_1\n",
      "FiltrationExtractor: processing 1/train/filtrations/6/DensityFiltration_1, do_fit = False, filtration = DensityFiltration(n_jobs=-1, radius=1)\n",
      "Got the result from ./1/train/filtrations/6/DensityFiltration_1/features.npy\n",
      "Applying filtration 86/116: 6/DensityFiltration_3\n",
      "FiltrationExtractor: processing 1/train/filtrations/6/DensityFiltration_3, do_fit = False, filtration = DensityFiltration(n_jobs=-1)\n",
      "Got the result from ./1/train/filtrations/6/DensityFiltration_3/features.npy\n",
      "Applying filtration 87/116: 8/HeightFiltrartion_-1_-1\n",
      "FiltrationExtractor: processing 1/train/filtrations/8/HeightFiltrartion_-1_-1, do_fit = False, filtration = HeightFiltration(direction=array([-1, -1]), n_jobs=-1)\n",
      "Got the result from ./1/train/filtrations/8/HeightFiltrartion_-1_-1/features.npy\n",
      "Applying filtration 88/116: 8/HeightFiltrartion_1_1\n",
      "FiltrationExtractor: processing 1/train/filtrations/8/HeightFiltrartion_1_1, do_fit = False, filtration = HeightFiltration(direction=array([1, 1]), n_jobs=-1)\n",
      "Got the result from ./1/train/filtrations/8/HeightFiltrartion_1_1/features.npy\n",
      "Applying filtration 89/116: 8/HeightFiltrartion_1_-1\n",
      "FiltrationExtractor: processing 1/train/filtrations/8/HeightFiltrartion_1_-1, do_fit = False, filtration = HeightFiltration(direction=array([ 1, -1]), n_jobs=-1)\n",
      "Got the result from ./1/train/filtrations/8/HeightFiltrartion_1_-1/features.npy\n",
      "Applying filtration 90/116: 8/HeightFiltrartion_-1_1\n",
      "FiltrationExtractor: processing 1/train/filtrations/8/HeightFiltrartion_-1_1, do_fit = False, filtration = HeightFiltration(direction=array([-1,  1]), n_jobs=-1)\n",
      "Got the result from ./1/train/filtrations/8/HeightFiltrartion_-1_1/features.npy\n",
      "Applying filtration 91/116: 8/HeightFiltrartion_0_-1\n",
      "FiltrationExtractor: processing 1/train/filtrations/8/HeightFiltrartion_0_-1, do_fit = False, filtration = HeightFiltration(direction=array([ 0, -1]), n_jobs=-1)\n",
      "Got the result from ./1/train/filtrations/8/HeightFiltrartion_0_-1/features.npy\n",
      "Applying filtration 92/116: 8/HeightFiltrartion_0_1\n",
      "FiltrationExtractor: processing 1/train/filtrations/8/HeightFiltrartion_0_1, do_fit = False, filtration = HeightFiltration(direction=array([0, 1]), n_jobs=-1)\n",
      "Got the result from ./1/train/filtrations/8/HeightFiltrartion_0_1/features.npy\n",
      "Applying filtration 93/116: 8/HeightFiltrartion_-1_0\n",
      "FiltrationExtractor: processing 1/train/filtrations/8/HeightFiltrartion_-1_0, do_fit = False, filtration = HeightFiltration(direction=array([-1,  0]), n_jobs=-1)\n",
      "Got the result from ./1/train/filtrations/8/HeightFiltrartion_-1_0/features.npy\n",
      "Applying filtration 94/116: 8/HeightFiltrartion_1_0\n",
      "FiltrationExtractor: processing 1/train/filtrations/8/HeightFiltrartion_1_0, do_fit = False, filtration = HeightFiltration(direction=array([1, 0]), n_jobs=-1)\n",
      "Got the result from ./1/train/filtrations/8/HeightFiltrartion_1_0/features.npy\n",
      "Applying filtration 95/116: 8/RadialFiltration_4_4\n",
      "FiltrationExtractor: processing 1/train/filtrations/8/RadialFiltration_4_4, do_fit = False, filtration = RadialFiltration(center=array([4, 4]), n_jobs=-1)\n",
      "Got the result from ./1/train/filtrations/8/RadialFiltration_4_4/features.npy\n",
      "Applying filtration 96/116: 8/RadialFiltration_4_10\n",
      "FiltrationExtractor: processing 1/train/filtrations/8/RadialFiltration_4_10, do_fit = False, filtration = RadialFiltration(center=array([ 4, 10]), n_jobs=-1)\n",
      "Got the result from ./1/train/filtrations/8/RadialFiltration_4_10/features.npy\n",
      "Applying filtration 97/116: 8/RadialFiltration_4_17\n",
      "FiltrationExtractor: processing 1/train/filtrations/8/RadialFiltration_4_17, do_fit = False, filtration = RadialFiltration(center=array([ 4, 17]), n_jobs=-1)\n",
      "Got the result from ./1/train/filtrations/8/RadialFiltration_4_17/features.npy\n",
      "Applying filtration 98/116: 8/RadialFiltration_4_23\n",
      "FiltrationExtractor: processing 1/train/filtrations/8/RadialFiltration_4_23, do_fit = False, filtration = RadialFiltration(center=array([ 4, 23]), n_jobs=-1)\n",
      "Got the result from ./1/train/filtrations/8/RadialFiltration_4_23/features.npy\n",
      "Applying filtration 99/116: 8/RadialFiltration_10_4\n",
      "FiltrationExtractor: processing 1/train/filtrations/8/RadialFiltration_10_4, do_fit = False, filtration = RadialFiltration(center=array([10,  4]), n_jobs=-1)\n",
      "Got the result from ./1/train/filtrations/8/RadialFiltration_10_4/features.npy\n",
      "Applying filtration 100/116: 8/RadialFiltration_10_10\n",
      "FiltrationExtractor: processing 1/train/filtrations/8/RadialFiltration_10_10, do_fit = False, filtration = RadialFiltration(center=array([10, 10]), n_jobs=-1)\n",
      "Got the result from ./1/train/filtrations/8/RadialFiltration_10_10/features.npy\n",
      "Applying filtration 101/116: 8/RadialFiltration_10_17\n",
      "FiltrationExtractor: processing 1/train/filtrations/8/RadialFiltration_10_17, do_fit = False, filtration = RadialFiltration(center=array([10, 17]), n_jobs=-1)\n",
      "Got the result from ./1/train/filtrations/8/RadialFiltration_10_17/features.npy\n",
      "Applying filtration 102/116: 8/RadialFiltration_10_23\n",
      "FiltrationExtractor: processing 1/train/filtrations/8/RadialFiltration_10_23, do_fit = False, filtration = RadialFiltration(center=array([10, 23]), n_jobs=-1)\n",
      "Got the result from ./1/train/filtrations/8/RadialFiltration_10_23/features.npy\n",
      "Applying filtration 103/116: 8/RadialFiltration_17_4\n",
      "FiltrationExtractor: processing 1/train/filtrations/8/RadialFiltration_17_4, do_fit = False, filtration = RadialFiltration(center=array([17,  4]), n_jobs=-1)\n",
      "Got the result from ./1/train/filtrations/8/RadialFiltration_17_4/features.npy\n",
      "Applying filtration 104/116: 8/RadialFiltration_17_10\n",
      "FiltrationExtractor: processing 1/train/filtrations/8/RadialFiltration_17_10, do_fit = False, filtration = RadialFiltration(center=array([17, 10]), n_jobs=-1)\n",
      "Got the result from ./1/train/filtrations/8/RadialFiltration_17_10/features.npy\n",
      "Applying filtration 105/116: 8/RadialFiltration_17_17\n",
      "FiltrationExtractor: processing 1/train/filtrations/8/RadialFiltration_17_17, do_fit = False, filtration = RadialFiltration(center=array([17, 17]), n_jobs=-1)\n",
      "Got the result from ./1/train/filtrations/8/RadialFiltration_17_17/features.npy\n",
      "Applying filtration 106/116: 8/RadialFiltration_17_23\n",
      "FiltrationExtractor: processing 1/train/filtrations/8/RadialFiltration_17_23, do_fit = False, filtration = RadialFiltration(center=array([17, 23]), n_jobs=-1)\n",
      "Got the result from ./1/train/filtrations/8/RadialFiltration_17_23/features.npy\n",
      "Applying filtration 107/116: 8/RadialFiltration_23_4\n",
      "FiltrationExtractor: processing 1/train/filtrations/8/RadialFiltration_23_4, do_fit = False, filtration = RadialFiltration(center=array([23,  4]), n_jobs=-1)\n",
      "Got the result from ./1/train/filtrations/8/RadialFiltration_23_4/features.npy\n",
      "Applying filtration 108/116: 8/RadialFiltration_23_10\n",
      "FiltrationExtractor: processing 1/train/filtrations/8/RadialFiltration_23_10, do_fit = False, filtration = RadialFiltration(center=array([23, 10]), n_jobs=-1)\n",
      "Got the result from ./1/train/filtrations/8/RadialFiltration_23_10/features.npy\n",
      "Applying filtration 109/116: 8/RadialFiltration_23_17\n",
      "FiltrationExtractor: processing 1/train/filtrations/8/RadialFiltration_23_17, do_fit = False, filtration = RadialFiltration(center=array([23, 17]), n_jobs=-1)\n",
      "Got the result from ./1/train/filtrations/8/RadialFiltration_23_17/features.npy\n",
      "Applying filtration 110/116: 8/RadialFiltration_23_23\n",
      "FiltrationExtractor: processing 1/train/filtrations/8/RadialFiltration_23_23, do_fit = False, filtration = RadialFiltration(center=array([23, 23]), n_jobs=-1)\n",
      "Got the result from ./1/train/filtrations/8/RadialFiltration_23_23/features.npy\n",
      "Applying filtration 111/116: 8/DilationFiltration\n",
      "FiltrationExtractor: processing 1/train/filtrations/8/DilationFiltration, do_fit = False, filtration = DilationFiltration(n_jobs=-1)\n",
      "Got the result from ./1/train/filtrations/8/DilationFiltration/features.npy\n",
      "Applying filtration 112/116: 8/ErosionFiltration\n",
      "FiltrationExtractor: processing 1/train/filtrations/8/ErosionFiltration, do_fit = False, filtration = ErosionFiltration(n_jobs=-1)\n",
      "Got the result from ./1/train/filtrations/8/ErosionFiltration/features.npy\n",
      "Applying filtration 113/116: 8/SignedDistanceFiltration\n",
      "FiltrationExtractor: processing 1/train/filtrations/8/SignedDistanceFiltration, do_fit = False, filtration = SignedDistanceFiltration(n_jobs=-1)\n",
      "Got the result from ./1/train/filtrations/8/SignedDistanceFiltration/features.npy\n",
      "Applying filtration 114/116: 8/DensityFiltration_1\n",
      "FiltrationExtractor: processing 1/train/filtrations/8/DensityFiltration_1, do_fit = False, filtration = DensityFiltration(n_jobs=-1, radius=1)\n",
      "Got the result from ./1/train/filtrations/8/DensityFiltration_1/features.npy\n",
      "Applying filtration 115/116: 8/DensityFiltration_3\n",
      "FiltrationExtractor: processing 1/train/filtrations/8/DensityFiltration_3, do_fit = False, filtration = DensityFiltration(n_jobs=-1)\n",
      "Got the result from ./1/train/filtrations/8/DensityFiltration_3/features.npy\n",
      "Got the result from ./1/train/geometry.npy\n"
     ]
    }
   ],
   "source": [
    "train_features = extractor.transform(train_images, \"19/train\")"
   ]
  },
  {
   "cell_type": "code",
   "execution_count": null,
   "metadata": {},
   "outputs": [
    {
     "name": "stdout",
     "output_type": "stream",
     "text": [
      "GreyscaleExtractor: processing 1/test/greyscale, do_fit = False\n",
      "Saving the result to ./1/test/greyscale/diagrams.npy\n",
      "Saving the result to ./1/test/greyscale/inverted_diagrams.npy\n"
     ]
    },
    {
     "name": "stderr",
     "output_type": "stream",
     "text": [
      "DiagramVectorizer: batch: 100%|██████████| 20/20 [00:26<00:00,  1.30s/it]\n"
     ]
    },
    {
     "name": "stdout",
     "output_type": "stream",
     "text": [
      "Saving the result to ./1/test/greyscale/features.npy\n"
     ]
    },
    {
     "name": "stderr",
     "output_type": "stream",
     "text": [
      "DiagramVectorizer: batch: 100%|██████████| 20/20 [00:25<00:00,  1.29s/it]\n"
     ]
    },
    {
     "name": "stdout",
     "output_type": "stream",
     "text": [
      "Saving the result to ./1/test/greyscale/inverted_features.npy\n",
      "Applying filtrations\n",
      "Applying filtration 0/116: 2/HeightFiltrartion_-1_-1\n",
      "FiltrationExtractor: processing 1/test/filtrations/2/HeightFiltrartion_-1_-1, do_fit = False, filtration = HeightFiltration(direction=array([-1, -1]), n_jobs=-1)\n",
      "Saving the result to ./1/test/filtrations/2/HeightFiltrartion_-1_-1/diagrams.npy\n"
     ]
    },
    {
     "name": "stderr",
     "output_type": "stream",
     "text": [
      "DiagramVectorizer: batch: 100%|██████████| 20/20 [00:05<00:00,  3.96it/s]\n"
     ]
    },
    {
     "name": "stdout",
     "output_type": "stream",
     "text": [
      "Saving the result to ./1/test/filtrations/2/HeightFiltrartion_-1_-1/features.npy\n",
      "Applying filtration 1/116: 2/HeightFiltrartion_1_1\n",
      "FiltrationExtractor: processing 1/test/filtrations/2/HeightFiltrartion_1_1, do_fit = False, filtration = HeightFiltration(direction=array([1, 1]), n_jobs=-1)\n",
      "Saving the result to ./1/test/filtrations/2/HeightFiltrartion_1_1/diagrams.npy\n"
     ]
    },
    {
     "name": "stderr",
     "output_type": "stream",
     "text": [
      "DiagramVectorizer: batch: 100%|██████████| 20/20 [00:04<00:00,  4.23it/s]\n"
     ]
    },
    {
     "name": "stdout",
     "output_type": "stream",
     "text": [
      "Saving the result to ./1/test/filtrations/2/HeightFiltrartion_1_1/features.npy\n",
      "Applying filtration 2/116: 2/HeightFiltrartion_1_-1\n",
      "FiltrationExtractor: processing 1/test/filtrations/2/HeightFiltrartion_1_-1, do_fit = False, filtration = HeightFiltration(direction=array([ 1, -1]), n_jobs=-1)\n",
      "Saving the result to ./1/test/filtrations/2/HeightFiltrartion_1_-1/diagrams.npy\n"
     ]
    },
    {
     "name": "stderr",
     "output_type": "stream",
     "text": [
      "DiagramVectorizer: batch: 100%|██████████| 20/20 [00:04<00:00,  4.10it/s]\n"
     ]
    },
    {
     "name": "stdout",
     "output_type": "stream",
     "text": [
      "Saving the result to ./1/test/filtrations/2/HeightFiltrartion_1_-1/features.npy\n",
      "Applying filtration 3/116: 2/HeightFiltrartion_-1_1\n",
      "FiltrationExtractor: processing 1/test/filtrations/2/HeightFiltrartion_-1_1, do_fit = False, filtration = HeightFiltration(direction=array([-1,  1]), n_jobs=-1)\n",
      "Saving the result to ./1/test/filtrations/2/HeightFiltrartion_-1_1/diagrams.npy\n"
     ]
    },
    {
     "name": "stderr",
     "output_type": "stream",
     "text": [
      "DiagramVectorizer: batch: 100%|██████████| 20/20 [00:04<00:00,  4.11it/s]\n"
     ]
    },
    {
     "name": "stdout",
     "output_type": "stream",
     "text": [
      "Saving the result to ./1/test/filtrations/2/HeightFiltrartion_-1_1/features.npy\n",
      "Applying filtration 4/116: 2/HeightFiltrartion_0_-1\n",
      "FiltrationExtractor: processing 1/test/filtrations/2/HeightFiltrartion_0_-1, do_fit = False, filtration = HeightFiltration(direction=array([ 0, -1]), n_jobs=-1)\n",
      "Saving the result to ./1/test/filtrations/2/HeightFiltrartion_0_-1/diagrams.npy\n"
     ]
    },
    {
     "name": "stderr",
     "output_type": "stream",
     "text": [
      "DiagramVectorizer: batch: 100%|██████████| 20/20 [00:04<00:00,  4.07it/s]\n"
     ]
    },
    {
     "name": "stdout",
     "output_type": "stream",
     "text": [
      "Saving the result to ./1/test/filtrations/2/HeightFiltrartion_0_-1/features.npy\n",
      "Applying filtration 5/116: 2/HeightFiltrartion_0_1\n",
      "FiltrationExtractor: processing 1/test/filtrations/2/HeightFiltrartion_0_1, do_fit = False, filtration = HeightFiltration(direction=array([0, 1]), n_jobs=-1)\n",
      "Saving the result to ./1/test/filtrations/2/HeightFiltrartion_0_1/diagrams.npy\n"
     ]
    },
    {
     "name": "stderr",
     "output_type": "stream",
     "text": [
      "DiagramVectorizer: batch: 100%|██████████| 20/20 [00:05<00:00,  3.82it/s]\n"
     ]
    },
    {
     "name": "stdout",
     "output_type": "stream",
     "text": [
      "Saving the result to ./1/test/filtrations/2/HeightFiltrartion_0_1/features.npy\n",
      "Applying filtration 6/116: 2/HeightFiltrartion_-1_0\n",
      "FiltrationExtractor: processing 1/test/filtrations/2/HeightFiltrartion_-1_0, do_fit = False, filtration = HeightFiltration(direction=array([-1,  0]), n_jobs=-1)\n",
      "Saving the result to ./1/test/filtrations/2/HeightFiltrartion_-1_0/diagrams.npy\n"
     ]
    },
    {
     "name": "stderr",
     "output_type": "stream",
     "text": [
      "DiagramVectorizer: batch: 100%|██████████| 20/20 [00:05<00:00,  3.94it/s]\n"
     ]
    },
    {
     "name": "stdout",
     "output_type": "stream",
     "text": [
      "Saving the result to ./1/test/filtrations/2/HeightFiltrartion_-1_0/features.npy\n",
      "Applying filtration 7/116: 2/HeightFiltrartion_1_0\n",
      "FiltrationExtractor: processing 1/test/filtrations/2/HeightFiltrartion_1_0, do_fit = False, filtration = HeightFiltration(direction=array([1, 0]), n_jobs=-1)\n",
      "Saving the result to ./1/test/filtrations/2/HeightFiltrartion_1_0/diagrams.npy\n"
     ]
    },
    {
     "name": "stderr",
     "output_type": "stream",
     "text": [
      "DiagramVectorizer: batch: 100%|██████████| 20/20 [00:05<00:00,  3.95it/s]\n"
     ]
    },
    {
     "name": "stdout",
     "output_type": "stream",
     "text": [
      "Saving the result to ./1/test/filtrations/2/HeightFiltrartion_1_0/features.npy\n",
      "Applying filtration 8/116: 2/RadialFiltration_4_4\n",
      "FiltrationExtractor: processing 1/test/filtrations/2/RadialFiltration_4_4, do_fit = False, filtration = RadialFiltration(center=array([4, 4]), n_jobs=-1)\n",
      "Saving the result to ./1/test/filtrations/2/RadialFiltration_4_4/diagrams.npy\n"
     ]
    },
    {
     "name": "stderr",
     "output_type": "stream",
     "text": [
      "DiagramVectorizer: batch: 100%|██████████| 20/20 [00:05<00:00,  3.83it/s]\n"
     ]
    },
    {
     "name": "stdout",
     "output_type": "stream",
     "text": [
      "Saving the result to ./1/test/filtrations/2/RadialFiltration_4_4/features.npy\n",
      "Applying filtration 9/116: 2/RadialFiltration_4_10\n",
      "FiltrationExtractor: processing 1/test/filtrations/2/RadialFiltration_4_10, do_fit = False, filtration = RadialFiltration(center=array([ 4, 10]), n_jobs=-1)\n",
      "Saving the result to ./1/test/filtrations/2/RadialFiltration_4_10/diagrams.npy\n"
     ]
    },
    {
     "name": "stderr",
     "output_type": "stream",
     "text": [
      "DiagramVectorizer: batch: 100%|██████████| 20/20 [00:05<00:00,  3.80it/s]\n"
     ]
    },
    {
     "name": "stdout",
     "output_type": "stream",
     "text": [
      "Saving the result to ./1/test/filtrations/2/RadialFiltration_4_10/features.npy\n",
      "Applying filtration 10/116: 2/RadialFiltration_4_17\n",
      "FiltrationExtractor: processing 1/test/filtrations/2/RadialFiltration_4_17, do_fit = False, filtration = RadialFiltration(center=array([ 4, 17]), n_jobs=-1)\n",
      "Saving the result to ./1/test/filtrations/2/RadialFiltration_4_17/diagrams.npy\n"
     ]
    },
    {
     "name": "stderr",
     "output_type": "stream",
     "text": [
      "DiagramVectorizer: batch: 100%|██████████| 20/20 [00:05<00:00,  3.92it/s]\n"
     ]
    },
    {
     "name": "stdout",
     "output_type": "stream",
     "text": [
      "Saving the result to ./1/test/filtrations/2/RadialFiltration_4_17/features.npy\n",
      "Applying filtration 11/116: 2/RadialFiltration_4_23\n",
      "FiltrationExtractor: processing 1/test/filtrations/2/RadialFiltration_4_23, do_fit = False, filtration = RadialFiltration(center=array([ 4, 23]), n_jobs=-1)\n",
      "Saving the result to ./1/test/filtrations/2/RadialFiltration_4_23/diagrams.npy\n"
     ]
    },
    {
     "name": "stderr",
     "output_type": "stream",
     "text": [
      "DiagramVectorizer: batch: 100%|██████████| 20/20 [00:04<00:00,  4.14it/s]\n"
     ]
    },
    {
     "name": "stdout",
     "output_type": "stream",
     "text": [
      "Saving the result to ./1/test/filtrations/2/RadialFiltration_4_23/features.npy\n",
      "Applying filtration 12/116: 2/RadialFiltration_10_4\n",
      "FiltrationExtractor: processing 1/test/filtrations/2/RadialFiltration_10_4, do_fit = False, filtration = RadialFiltration(center=array([10,  4]), n_jobs=-1)\n",
      "Saving the result to ./1/test/filtrations/2/RadialFiltration_10_4/diagrams.npy\n"
     ]
    },
    {
     "name": "stderr",
     "output_type": "stream",
     "text": [
      "DiagramVectorizer: batch: 100%|██████████| 20/20 [00:05<00:00,  3.87it/s]\n"
     ]
    },
    {
     "name": "stdout",
     "output_type": "stream",
     "text": [
      "Saving the result to ./1/test/filtrations/2/RadialFiltration_10_4/features.npy\n",
      "Applying filtration 13/116: 2/RadialFiltration_10_10\n",
      "FiltrationExtractor: processing 1/test/filtrations/2/RadialFiltration_10_10, do_fit = False, filtration = RadialFiltration(center=array([10, 10]), n_jobs=-1)\n",
      "Saving the result to ./1/test/filtrations/2/RadialFiltration_10_10/diagrams.npy\n"
     ]
    },
    {
     "name": "stderr",
     "output_type": "stream",
     "text": [
      "DiagramVectorizer: batch: 100%|██████████| 20/20 [00:05<00:00,  3.70it/s]\n"
     ]
    },
    {
     "name": "stdout",
     "output_type": "stream",
     "text": [
      "Saving the result to ./1/test/filtrations/2/RadialFiltration_10_10/features.npy\n",
      "Applying filtration 14/116: 2/RadialFiltration_10_17\n",
      "FiltrationExtractor: processing 1/test/filtrations/2/RadialFiltration_10_17, do_fit = False, filtration = RadialFiltration(center=array([10, 17]), n_jobs=-1)\n",
      "Saving the result to ./1/test/filtrations/2/RadialFiltration_10_17/diagrams.npy\n"
     ]
    },
    {
     "name": "stderr",
     "output_type": "stream",
     "text": [
      "DiagramVectorizer: batch: 100%|██████████| 20/20 [00:05<00:00,  3.40it/s]\n"
     ]
    },
    {
     "name": "stdout",
     "output_type": "stream",
     "text": [
      "Saving the result to ./1/test/filtrations/2/RadialFiltration_10_17/features.npy\n",
      "Applying filtration 15/116: 2/RadialFiltration_10_23\n",
      "FiltrationExtractor: processing 1/test/filtrations/2/RadialFiltration_10_23, do_fit = False, filtration = RadialFiltration(center=array([10, 23]), n_jobs=-1)\n",
      "Saving the result to ./1/test/filtrations/2/RadialFiltration_10_23/diagrams.npy\n"
     ]
    },
    {
     "name": "stderr",
     "output_type": "stream",
     "text": [
      "DiagramVectorizer: batch: 100%|██████████| 20/20 [00:05<00:00,  3.73it/s]\n"
     ]
    },
    {
     "name": "stdout",
     "output_type": "stream",
     "text": [
      "Saving the result to ./1/test/filtrations/2/RadialFiltration_10_23/features.npy\n",
      "Applying filtration 16/116: 2/RadialFiltration_17_4\n",
      "FiltrationExtractor: processing 1/test/filtrations/2/RadialFiltration_17_4, do_fit = False, filtration = RadialFiltration(center=array([17,  4]), n_jobs=-1)\n",
      "Saving the result to ./1/test/filtrations/2/RadialFiltration_17_4/diagrams.npy\n"
     ]
    },
    {
     "name": "stderr",
     "output_type": "stream",
     "text": [
      "DiagramVectorizer: batch: 100%|██████████| 20/20 [00:05<00:00,  3.85it/s]\n"
     ]
    },
    {
     "name": "stdout",
     "output_type": "stream",
     "text": [
      "Saving the result to ./1/test/filtrations/2/RadialFiltration_17_4/features.npy\n",
      "Applying filtration 17/116: 2/RadialFiltration_17_10\n",
      "FiltrationExtractor: processing 1/test/filtrations/2/RadialFiltration_17_10, do_fit = False, filtration = RadialFiltration(center=array([17, 10]), n_jobs=-1)\n",
      "Saving the result to ./1/test/filtrations/2/RadialFiltration_17_10/diagrams.npy\n"
     ]
    },
    {
     "name": "stderr",
     "output_type": "stream",
     "text": [
      "DiagramVectorizer: batch: 100%|██████████| 20/20 [00:05<00:00,  3.51it/s]\n"
     ]
    },
    {
     "name": "stdout",
     "output_type": "stream",
     "text": [
      "Saving the result to ./1/test/filtrations/2/RadialFiltration_17_10/features.npy\n",
      "Applying filtration 18/116: 2/RadialFiltration_17_17\n",
      "FiltrationExtractor: processing 1/test/filtrations/2/RadialFiltration_17_17, do_fit = False, filtration = RadialFiltration(center=array([17, 17]), n_jobs=-1)\n",
      "Saving the result to ./1/test/filtrations/2/RadialFiltration_17_17/diagrams.npy\n"
     ]
    },
    {
     "name": "stderr",
     "output_type": "stream",
     "text": [
      "DiagramVectorizer: batch: 100%|██████████| 20/20 [00:05<00:00,  3.94it/s]\n"
     ]
    },
    {
     "name": "stdout",
     "output_type": "stream",
     "text": [
      "Saving the result to ./1/test/filtrations/2/RadialFiltration_17_17/features.npy\n",
      "Applying filtration 19/116: 2/RadialFiltration_17_23\n",
      "FiltrationExtractor: processing 1/test/filtrations/2/RadialFiltration_17_23, do_fit = False, filtration = RadialFiltration(center=array([17, 23]), n_jobs=-1)\n",
      "Saving the result to ./1/test/filtrations/2/RadialFiltration_17_23/diagrams.npy\n"
     ]
    },
    {
     "name": "stderr",
     "output_type": "stream",
     "text": [
      "DiagramVectorizer: batch: 100%|██████████| 20/20 [00:05<00:00,  3.93it/s]\n"
     ]
    },
    {
     "name": "stdout",
     "output_type": "stream",
     "text": [
      "Saving the result to ./1/test/filtrations/2/RadialFiltration_17_23/features.npy\n",
      "Applying filtration 20/116: 2/RadialFiltration_23_4\n",
      "FiltrationExtractor: processing 1/test/filtrations/2/RadialFiltration_23_4, do_fit = False, filtration = RadialFiltration(center=array([23,  4]), n_jobs=-1)\n",
      "Saving the result to ./1/test/filtrations/2/RadialFiltration_23_4/diagrams.npy\n"
     ]
    },
    {
     "name": "stderr",
     "output_type": "stream",
     "text": [
      "DiagramVectorizer: batch: 100%|██████████| 20/20 [00:05<00:00,  3.92it/s]\n"
     ]
    },
    {
     "name": "stdout",
     "output_type": "stream",
     "text": [
      "Saving the result to ./1/test/filtrations/2/RadialFiltration_23_4/features.npy\n",
      "Applying filtration 21/116: 2/RadialFiltration_23_10\n",
      "FiltrationExtractor: processing 1/test/filtrations/2/RadialFiltration_23_10, do_fit = False, filtration = RadialFiltration(center=array([23, 10]), n_jobs=-1)\n",
      "Saving the result to ./1/test/filtrations/2/RadialFiltration_23_10/diagrams.npy\n"
     ]
    },
    {
     "name": "stderr",
     "output_type": "stream",
     "text": [
      "DiagramVectorizer: batch: 100%|██████████| 20/20 [00:04<00:00,  4.06it/s]\n"
     ]
    },
    {
     "name": "stdout",
     "output_type": "stream",
     "text": [
      "Saving the result to ./1/test/filtrations/2/RadialFiltration_23_10/features.npy\n",
      "Applying filtration 22/116: 2/RadialFiltration_23_17\n",
      "FiltrationExtractor: processing 1/test/filtrations/2/RadialFiltration_23_17, do_fit = False, filtration = RadialFiltration(center=array([23, 17]), n_jobs=-1)\n",
      "Saving the result to ./1/test/filtrations/2/RadialFiltration_23_17/diagrams.npy\n"
     ]
    },
    {
     "name": "stderr",
     "output_type": "stream",
     "text": [
      "DiagramVectorizer: batch: 100%|██████████| 20/20 [00:05<00:00,  3.98it/s]\n"
     ]
    },
    {
     "name": "stdout",
     "output_type": "stream",
     "text": [
      "Saving the result to ./1/test/filtrations/2/RadialFiltration_23_17/features.npy\n",
      "Applying filtration 23/116: 2/RadialFiltration_23_23\n",
      "FiltrationExtractor: processing 1/test/filtrations/2/RadialFiltration_23_23, do_fit = False, filtration = RadialFiltration(center=array([23, 23]), n_jobs=-1)\n",
      "Saving the result to ./1/test/filtrations/2/RadialFiltration_23_23/diagrams.npy\n"
     ]
    },
    {
     "name": "stderr",
     "output_type": "stream",
     "text": [
      "DiagramVectorizer: batch: 100%|██████████| 20/20 [00:04<00:00,  4.21it/s]\n"
     ]
    },
    {
     "name": "stdout",
     "output_type": "stream",
     "text": [
      "Saving the result to ./1/test/filtrations/2/RadialFiltration_23_23/features.npy\n",
      "Applying filtration 24/116: 2/DilationFiltration\n",
      "FiltrationExtractor: processing 1/test/filtrations/2/DilationFiltration, do_fit = False, filtration = DilationFiltration(n_jobs=-1)\n",
      "Saving the result to ./1/test/filtrations/2/DilationFiltration/diagrams.npy\n"
     ]
    },
    {
     "name": "stderr",
     "output_type": "stream",
     "text": [
      "DiagramVectorizer: batch: 100%|██████████| 20/20 [00:05<00:00,  3.83it/s]\n"
     ]
    },
    {
     "name": "stdout",
     "output_type": "stream",
     "text": [
      "Saving the result to ./1/test/filtrations/2/DilationFiltration/features.npy\n",
      "Applying filtration 25/116: 2/ErosionFiltration\n",
      "FiltrationExtractor: processing 1/test/filtrations/2/ErosionFiltration, do_fit = False, filtration = ErosionFiltration(n_jobs=-1)\n",
      "Saving the result to ./1/test/filtrations/2/ErosionFiltration/diagrams.npy\n"
     ]
    },
    {
     "name": "stderr",
     "output_type": "stream",
     "text": [
      "DiagramVectorizer: batch: 100%|██████████| 20/20 [00:05<00:00,  3.83it/s]\n"
     ]
    },
    {
     "name": "stdout",
     "output_type": "stream",
     "text": [
      "Saving the result to ./1/test/filtrations/2/ErosionFiltration/features.npy\n",
      "Applying filtration 26/116: 2/SignedDistanceFiltration\n",
      "FiltrationExtractor: processing 1/test/filtrations/2/SignedDistanceFiltration, do_fit = False, filtration = SignedDistanceFiltration(n_jobs=-1)\n",
      "Saving the result to ./1/test/filtrations/2/SignedDistanceFiltration/diagrams.npy\n"
     ]
    },
    {
     "name": "stderr",
     "output_type": "stream",
     "text": [
      "DiagramVectorizer: batch: 100%|██████████| 20/20 [00:05<00:00,  3.88it/s]\n"
     ]
    },
    {
     "name": "stdout",
     "output_type": "stream",
     "text": [
      "Saving the result to ./1/test/filtrations/2/SignedDistanceFiltration/features.npy\n",
      "Applying filtration 27/116: 2/DensityFiltration_1\n",
      "FiltrationExtractor: processing 1/test/filtrations/2/DensityFiltration_1, do_fit = False, filtration = DensityFiltration(n_jobs=-1, radius=1)\n",
      "Saving the result to ./1/test/filtrations/2/DensityFiltration_1/diagrams.npy\n"
     ]
    },
    {
     "name": "stderr",
     "output_type": "stream",
     "text": [
      "DiagramVectorizer: batch: 100%|██████████| 20/20 [00:07<00:00,  2.51it/s]\n"
     ]
    },
    {
     "name": "stdout",
     "output_type": "stream",
     "text": [
      "Saving the result to ./1/test/filtrations/2/DensityFiltration_1/features.npy\n",
      "Applying filtration 28/116: 2/DensityFiltration_3\n",
      "FiltrationExtractor: processing 1/test/filtrations/2/DensityFiltration_3, do_fit = False, filtration = DensityFiltration(n_jobs=-1)\n",
      "Saving the result to ./1/test/filtrations/2/DensityFiltration_3/diagrams.npy\n"
     ]
    },
    {
     "name": "stderr",
     "output_type": "stream",
     "text": [
      "DiagramVectorizer: batch: 100%|██████████| 20/20 [00:04<00:00,  4.19it/s]\n"
     ]
    },
    {
     "name": "stdout",
     "output_type": "stream",
     "text": [
      "Saving the result to ./1/test/filtrations/2/DensityFiltration_3/features.npy\n",
      "Applying filtration 29/116: 4/HeightFiltrartion_-1_-1\n",
      "FiltrationExtractor: processing 1/test/filtrations/4/HeightFiltrartion_-1_-1, do_fit = False, filtration = HeightFiltration(direction=array([-1, -1]), n_jobs=-1)\n",
      "Saving the result to ./1/test/filtrations/4/HeightFiltrartion_-1_-1/diagrams.npy\n"
     ]
    },
    {
     "name": "stderr",
     "output_type": "stream",
     "text": [
      "DiagramVectorizer: batch: 100%|██████████| 20/20 [00:04<00:00,  4.23it/s]\n"
     ]
    },
    {
     "name": "stdout",
     "output_type": "stream",
     "text": [
      "Saving the result to ./1/test/filtrations/4/HeightFiltrartion_-1_-1/features.npy\n",
      "Applying filtration 30/116: 4/HeightFiltrartion_1_1\n",
      "FiltrationExtractor: processing 1/test/filtrations/4/HeightFiltrartion_1_1, do_fit = False, filtration = HeightFiltration(direction=array([1, 1]), n_jobs=-1)\n",
      "Saving the result to ./1/test/filtrations/4/HeightFiltrartion_1_1/diagrams.npy\n"
     ]
    },
    {
     "name": "stderr",
     "output_type": "stream",
     "text": [
      "DiagramVectorizer: batch: 100%|██████████| 20/20 [00:04<00:00,  4.24it/s]\n"
     ]
    },
    {
     "name": "stdout",
     "output_type": "stream",
     "text": [
      "Saving the result to ./1/test/filtrations/4/HeightFiltrartion_1_1/features.npy\n",
      "Applying filtration 31/116: 4/HeightFiltrartion_1_-1\n",
      "FiltrationExtractor: processing 1/test/filtrations/4/HeightFiltrartion_1_-1, do_fit = False, filtration = HeightFiltration(direction=array([ 1, -1]), n_jobs=-1)\n",
      "Saving the result to ./1/test/filtrations/4/HeightFiltrartion_1_-1/diagrams.npy\n"
     ]
    },
    {
     "name": "stderr",
     "output_type": "stream",
     "text": [
      "DiagramVectorizer: batch: 100%|██████████| 20/20 [00:04<00:00,  4.22it/s]\n"
     ]
    },
    {
     "name": "stdout",
     "output_type": "stream",
     "text": [
      "Saving the result to ./1/test/filtrations/4/HeightFiltrartion_1_-1/features.npy\n",
      "Applying filtration 32/116: 4/HeightFiltrartion_-1_1\n",
      "FiltrationExtractor: processing 1/test/filtrations/4/HeightFiltrartion_-1_1, do_fit = False, filtration = HeightFiltration(direction=array([-1,  1]), n_jobs=-1)\n",
      "Saving the result to ./1/test/filtrations/4/HeightFiltrartion_-1_1/diagrams.npy\n"
     ]
    },
    {
     "name": "stderr",
     "output_type": "stream",
     "text": [
      "DiagramVectorizer: batch: 100%|██████████| 20/20 [00:04<00:00,  4.15it/s]\n"
     ]
    },
    {
     "name": "stdout",
     "output_type": "stream",
     "text": [
      "Saving the result to ./1/test/filtrations/4/HeightFiltrartion_-1_1/features.npy\n",
      "Applying filtration 33/116: 4/HeightFiltrartion_0_-1\n",
      "FiltrationExtractor: processing 1/test/filtrations/4/HeightFiltrartion_0_-1, do_fit = False, filtration = HeightFiltration(direction=array([ 0, -1]), n_jobs=-1)\n",
      "Saving the result to ./1/test/filtrations/4/HeightFiltrartion_0_-1/diagrams.npy\n"
     ]
    },
    {
     "name": "stderr",
     "output_type": "stream",
     "text": [
      "DiagramVectorizer: batch: 100%|██████████| 20/20 [00:05<00:00,  3.92it/s]\n"
     ]
    },
    {
     "name": "stdout",
     "output_type": "stream",
     "text": [
      "Saving the result to ./1/test/filtrations/4/HeightFiltrartion_0_-1/features.npy\n",
      "Applying filtration 34/116: 4/HeightFiltrartion_0_1\n",
      "FiltrationExtractor: processing 1/test/filtrations/4/HeightFiltrartion_0_1, do_fit = False, filtration = HeightFiltration(direction=array([0, 1]), n_jobs=-1)\n",
      "Saving the result to ./1/test/filtrations/4/HeightFiltrartion_0_1/diagrams.npy\n"
     ]
    },
    {
     "name": "stderr",
     "output_type": "stream",
     "text": [
      "DiagramVectorizer: batch: 100%|██████████| 20/20 [00:04<00:00,  4.03it/s]\n"
     ]
    },
    {
     "name": "stdout",
     "output_type": "stream",
     "text": [
      "Saving the result to ./1/test/filtrations/4/HeightFiltrartion_0_1/features.npy\n",
      "Applying filtration 35/116: 4/HeightFiltrartion_-1_0\n",
      "FiltrationExtractor: processing 1/test/filtrations/4/HeightFiltrartion_-1_0, do_fit = False, filtration = HeightFiltration(direction=array([-1,  0]), n_jobs=-1)\n",
      "Saving the result to ./1/test/filtrations/4/HeightFiltrartion_-1_0/diagrams.npy\n"
     ]
    },
    {
     "name": "stderr",
     "output_type": "stream",
     "text": [
      "DiagramVectorizer: batch: 100%|██████████| 20/20 [00:04<00:00,  4.05it/s]\n"
     ]
    },
    {
     "name": "stdout",
     "output_type": "stream",
     "text": [
      "Saving the result to ./1/test/filtrations/4/HeightFiltrartion_-1_0/features.npy\n",
      "Applying filtration 36/116: 4/HeightFiltrartion_1_0\n",
      "FiltrationExtractor: processing 1/test/filtrations/4/HeightFiltrartion_1_0, do_fit = False, filtration = HeightFiltration(direction=array([1, 0]), n_jobs=-1)\n",
      "Saving the result to ./1/test/filtrations/4/HeightFiltrartion_1_0/diagrams.npy\n"
     ]
    },
    {
     "name": "stderr",
     "output_type": "stream",
     "text": [
      "DiagramVectorizer: batch: 100%|██████████| 20/20 [00:05<00:00,  3.91it/s]\n"
     ]
    },
    {
     "name": "stdout",
     "output_type": "stream",
     "text": [
      "Saving the result to ./1/test/filtrations/4/HeightFiltrartion_1_0/features.npy\n",
      "Applying filtration 37/116: 4/RadialFiltration_4_4\n",
      "FiltrationExtractor: processing 1/test/filtrations/4/RadialFiltration_4_4, do_fit = False, filtration = RadialFiltration(center=array([4, 4]), n_jobs=-1)\n",
      "Saving the result to ./1/test/filtrations/4/RadialFiltration_4_4/diagrams.npy\n"
     ]
    },
    {
     "name": "stderr",
     "output_type": "stream",
     "text": [
      "DiagramVectorizer: batch: 100%|██████████| 20/20 [00:04<00:00,  4.09it/s]\n"
     ]
    },
    {
     "name": "stdout",
     "output_type": "stream",
     "text": [
      "Saving the result to ./1/test/filtrations/4/RadialFiltration_4_4/features.npy\n",
      "Applying filtration 38/116: 4/RadialFiltration_4_10\n",
      "FiltrationExtractor: processing 1/test/filtrations/4/RadialFiltration_4_10, do_fit = False, filtration = RadialFiltration(center=array([ 4, 10]), n_jobs=-1)\n",
      "Saving the result to ./1/test/filtrations/4/RadialFiltration_4_10/diagrams.npy\n"
     ]
    },
    {
     "name": "stderr",
     "output_type": "stream",
     "text": [
      "DiagramVectorizer: batch: 100%|██████████| 20/20 [00:05<00:00,  3.99it/s]\n"
     ]
    },
    {
     "name": "stdout",
     "output_type": "stream",
     "text": [
      "Saving the result to ./1/test/filtrations/4/RadialFiltration_4_10/features.npy\n",
      "Applying filtration 39/116: 4/RadialFiltration_4_17\n",
      "FiltrationExtractor: processing 1/test/filtrations/4/RadialFiltration_4_17, do_fit = False, filtration = RadialFiltration(center=array([ 4, 17]), n_jobs=-1)\n",
      "Saving the result to ./1/test/filtrations/4/RadialFiltration_4_17/diagrams.npy\n"
     ]
    },
    {
     "name": "stderr",
     "output_type": "stream",
     "text": [
      "DiagramVectorizer: batch: 100%|██████████| 20/20 [00:05<00:00,  3.90it/s]\n"
     ]
    },
    {
     "name": "stdout",
     "output_type": "stream",
     "text": [
      "Saving the result to ./1/test/filtrations/4/RadialFiltration_4_17/features.npy\n",
      "Applying filtration 40/116: 4/RadialFiltration_4_23\n",
      "FiltrationExtractor: processing 1/test/filtrations/4/RadialFiltration_4_23, do_fit = False, filtration = RadialFiltration(center=array([ 4, 23]), n_jobs=-1)\n",
      "Saving the result to ./1/test/filtrations/4/RadialFiltration_4_23/diagrams.npy\n"
     ]
    },
    {
     "name": "stderr",
     "output_type": "stream",
     "text": [
      "DiagramVectorizer: batch: 100%|██████████| 20/20 [00:04<00:00,  4.18it/s]\n"
     ]
    },
    {
     "name": "stdout",
     "output_type": "stream",
     "text": [
      "Saving the result to ./1/test/filtrations/4/RadialFiltration_4_23/features.npy\n",
      "Applying filtration 41/116: 4/RadialFiltration_10_4\n",
      "FiltrationExtractor: processing 1/test/filtrations/4/RadialFiltration_10_4, do_fit = False, filtration = RadialFiltration(center=array([10,  4]), n_jobs=-1)\n",
      "Saving the result to ./1/test/filtrations/4/RadialFiltration_10_4/diagrams.npy\n"
     ]
    },
    {
     "name": "stderr",
     "output_type": "stream",
     "text": [
      "DiagramVectorizer: batch: 100%|██████████| 20/20 [00:05<00:00,  3.97it/s]\n"
     ]
    },
    {
     "name": "stdout",
     "output_type": "stream",
     "text": [
      "Saving the result to ./1/test/filtrations/4/RadialFiltration_10_4/features.npy\n",
      "Applying filtration 42/116: 4/RadialFiltration_10_10\n",
      "FiltrationExtractor: processing 1/test/filtrations/4/RadialFiltration_10_10, do_fit = False, filtration = RadialFiltration(center=array([10, 10]), n_jobs=-1)\n",
      "Saving the result to ./1/test/filtrations/4/RadialFiltration_10_10/diagrams.npy\n"
     ]
    },
    {
     "name": "stderr",
     "output_type": "stream",
     "text": [
      "DiagramVectorizer: batch: 100%|██████████| 20/20 [00:05<00:00,  3.60it/s]\n"
     ]
    },
    {
     "name": "stdout",
     "output_type": "stream",
     "text": [
      "Saving the result to ./1/test/filtrations/4/RadialFiltration_10_10/features.npy\n",
      "Applying filtration 43/116: 4/RadialFiltration_10_17\n",
      "FiltrationExtractor: processing 1/test/filtrations/4/RadialFiltration_10_17, do_fit = False, filtration = RadialFiltration(center=array([10, 17]), n_jobs=-1)\n",
      "Saving the result to ./1/test/filtrations/4/RadialFiltration_10_17/diagrams.npy\n"
     ]
    },
    {
     "name": "stderr",
     "output_type": "stream",
     "text": [
      "DiagramVectorizer: batch: 100%|██████████| 20/20 [00:05<00:00,  3.84it/s]\n"
     ]
    },
    {
     "name": "stdout",
     "output_type": "stream",
     "text": [
      "Saving the result to ./1/test/filtrations/4/RadialFiltration_10_17/features.npy\n",
      "Applying filtration 44/116: 4/RadialFiltration_10_23\n",
      "FiltrationExtractor: processing 1/test/filtrations/4/RadialFiltration_10_23, do_fit = False, filtration = RadialFiltration(center=array([10, 23]), n_jobs=-1)\n",
      "Saving the result to ./1/test/filtrations/4/RadialFiltration_10_23/diagrams.npy\n"
     ]
    },
    {
     "name": "stderr",
     "output_type": "stream",
     "text": [
      "DiagramVectorizer: batch: 100%|██████████| 20/20 [00:05<00:00,  3.90it/s]\n"
     ]
    },
    {
     "name": "stdout",
     "output_type": "stream",
     "text": [
      "Saving the result to ./1/test/filtrations/4/RadialFiltration_10_23/features.npy\n",
      "Applying filtration 45/116: 4/RadialFiltration_17_4\n",
      "FiltrationExtractor: processing 1/test/filtrations/4/RadialFiltration_17_4, do_fit = False, filtration = RadialFiltration(center=array([17,  4]), n_jobs=-1)\n",
      "Saving the result to ./1/test/filtrations/4/RadialFiltration_17_4/diagrams.npy\n"
     ]
    },
    {
     "name": "stderr",
     "output_type": "stream",
     "text": [
      "DiagramVectorizer: batch: 100%|██████████| 20/20 [00:05<00:00,  3.92it/s]\n"
     ]
    },
    {
     "name": "stdout",
     "output_type": "stream",
     "text": [
      "Saving the result to ./1/test/filtrations/4/RadialFiltration_17_4/features.npy\n",
      "Applying filtration 46/116: 4/RadialFiltration_17_10\n",
      "FiltrationExtractor: processing 1/test/filtrations/4/RadialFiltration_17_10, do_fit = False, filtration = RadialFiltration(center=array([17, 10]), n_jobs=-1)\n",
      "Saving the result to ./1/test/filtrations/4/RadialFiltration_17_10/diagrams.npy\n"
     ]
    },
    {
     "name": "stderr",
     "output_type": "stream",
     "text": [
      "DiagramVectorizer: batch: 100%|██████████| 20/20 [00:05<00:00,  3.78it/s]\n"
     ]
    },
    {
     "name": "stdout",
     "output_type": "stream",
     "text": [
      "Saving the result to ./1/test/filtrations/4/RadialFiltration_17_10/features.npy\n",
      "Applying filtration 47/116: 4/RadialFiltration_17_17\n",
      "FiltrationExtractor: processing 1/test/filtrations/4/RadialFiltration_17_17, do_fit = False, filtration = RadialFiltration(center=array([17, 17]), n_jobs=-1)\n",
      "Saving the result to ./1/test/filtrations/4/RadialFiltration_17_17/diagrams.npy\n"
     ]
    },
    {
     "name": "stderr",
     "output_type": "stream",
     "text": [
      "DiagramVectorizer: batch: 100%|██████████| 20/20 [00:05<00:00,  3.93it/s]\n"
     ]
    },
    {
     "name": "stdout",
     "output_type": "stream",
     "text": [
      "Saving the result to ./1/test/filtrations/4/RadialFiltration_17_17/features.npy\n",
      "Applying filtration 48/116: 4/RadialFiltration_17_23\n",
      "FiltrationExtractor: processing 1/test/filtrations/4/RadialFiltration_17_23, do_fit = False, filtration = RadialFiltration(center=array([17, 23]), n_jobs=-1)\n",
      "Saving the result to ./1/test/filtrations/4/RadialFiltration_17_23/diagrams.npy\n"
     ]
    },
    {
     "name": "stderr",
     "output_type": "stream",
     "text": [
      "DiagramVectorizer: batch: 100%|██████████| 20/20 [00:04<00:00,  4.06it/s]\n"
     ]
    },
    {
     "name": "stdout",
     "output_type": "stream",
     "text": [
      "Saving the result to ./1/test/filtrations/4/RadialFiltration_17_23/features.npy\n",
      "Applying filtration 49/116: 4/RadialFiltration_23_4\n",
      "FiltrationExtractor: processing 1/test/filtrations/4/RadialFiltration_23_4, do_fit = False, filtration = RadialFiltration(center=array([23,  4]), n_jobs=-1)\n",
      "Saving the result to ./1/test/filtrations/4/RadialFiltration_23_4/diagrams.npy\n"
     ]
    },
    {
     "name": "stderr",
     "output_type": "stream",
     "text": [
      "DiagramVectorizer: batch: 100%|██████████| 20/20 [00:04<00:00,  4.09it/s]\n"
     ]
    },
    {
     "name": "stdout",
     "output_type": "stream",
     "text": [
      "Saving the result to ./1/test/filtrations/4/RadialFiltration_23_4/features.npy\n",
      "Applying filtration 50/116: 4/RadialFiltration_23_10\n",
      "FiltrationExtractor: processing 1/test/filtrations/4/RadialFiltration_23_10, do_fit = False, filtration = RadialFiltration(center=array([23, 10]), n_jobs=-1)\n",
      "Saving the result to ./1/test/filtrations/4/RadialFiltration_23_10/diagrams.npy\n"
     ]
    },
    {
     "name": "stderr",
     "output_type": "stream",
     "text": [
      "DiagramVectorizer: batch: 100%|██████████| 20/20 [00:05<00:00,  3.80it/s]\n"
     ]
    },
    {
     "name": "stdout",
     "output_type": "stream",
     "text": [
      "Saving the result to ./1/test/filtrations/4/RadialFiltration_23_10/features.npy\n",
      "Applying filtration 51/116: 4/RadialFiltration_23_17\n",
      "FiltrationExtractor: processing 1/test/filtrations/4/RadialFiltration_23_17, do_fit = False, filtration = RadialFiltration(center=array([23, 17]), n_jobs=-1)\n",
      "Saving the result to ./1/test/filtrations/4/RadialFiltration_23_17/diagrams.npy\n"
     ]
    },
    {
     "name": "stderr",
     "output_type": "stream",
     "text": [
      "DiagramVectorizer: batch: 100%|██████████| 20/20 [00:05<00:00,  3.57it/s]\n"
     ]
    },
    {
     "name": "stdout",
     "output_type": "stream",
     "text": [
      "Saving the result to ./1/test/filtrations/4/RadialFiltration_23_17/features.npy\n",
      "Applying filtration 52/116: 4/RadialFiltration_23_23\n",
      "FiltrationExtractor: processing 1/test/filtrations/4/RadialFiltration_23_23, do_fit = False, filtration = RadialFiltration(center=array([23, 23]), n_jobs=-1)\n",
      "Saving the result to ./1/test/filtrations/4/RadialFiltration_23_23/diagrams.npy\n"
     ]
    },
    {
     "name": "stderr",
     "output_type": "stream",
     "text": [
      "DiagramVectorizer: batch: 100%|██████████| 20/20 [00:05<00:00,  3.73it/s]\n"
     ]
    },
    {
     "name": "stdout",
     "output_type": "stream",
     "text": [
      "Saving the result to ./1/test/filtrations/4/RadialFiltration_23_23/features.npy\n",
      "Applying filtration 53/116: 4/DilationFiltration\n",
      "FiltrationExtractor: processing 1/test/filtrations/4/DilationFiltration, do_fit = False, filtration = DilationFiltration(n_jobs=-1)\n",
      "Saving the result to ./1/test/filtrations/4/DilationFiltration/diagrams.npy\n"
     ]
    },
    {
     "name": "stderr",
     "output_type": "stream",
     "text": [
      "DiagramVectorizer: batch: 100%|██████████| 20/20 [00:05<00:00,  3.78it/s]\n"
     ]
    },
    {
     "name": "stdout",
     "output_type": "stream",
     "text": [
      "Saving the result to ./1/test/filtrations/4/DilationFiltration/features.npy\n",
      "Applying filtration 54/116: 4/ErosionFiltration\n",
      "FiltrationExtractor: processing 1/test/filtrations/4/ErosionFiltration, do_fit = False, filtration = ErosionFiltration(n_jobs=-1)\n",
      "Saving the result to ./1/test/filtrations/4/ErosionFiltration/diagrams.npy\n"
     ]
    },
    {
     "name": "stderr",
     "output_type": "stream",
     "text": [
      "DiagramVectorizer: batch: 100%|██████████| 20/20 [00:05<00:00,  3.61it/s]\n"
     ]
    },
    {
     "name": "stdout",
     "output_type": "stream",
     "text": [
      "Saving the result to ./1/test/filtrations/4/ErosionFiltration/features.npy\n",
      "Applying filtration 55/116: 4/SignedDistanceFiltration\n",
      "FiltrationExtractor: processing 1/test/filtrations/4/SignedDistanceFiltration, do_fit = False, filtration = SignedDistanceFiltration(n_jobs=-1)\n",
      "Saving the result to ./1/test/filtrations/4/SignedDistanceFiltration/diagrams.npy\n"
     ]
    },
    {
     "name": "stderr",
     "output_type": "stream",
     "text": [
      "DiagramVectorizer: batch: 100%|██████████| 20/20 [00:04<00:00,  4.07it/s]\n"
     ]
    },
    {
     "name": "stdout",
     "output_type": "stream",
     "text": [
      "Saving the result to ./1/test/filtrations/4/SignedDistanceFiltration/features.npy\n",
      "Applying filtration 56/116: 4/DensityFiltration_1\n",
      "FiltrationExtractor: processing 1/test/filtrations/4/DensityFiltration_1, do_fit = False, filtration = DensityFiltration(n_jobs=-1, radius=1)\n",
      "Saving the result to ./1/test/filtrations/4/DensityFiltration_1/diagrams.npy\n"
     ]
    },
    {
     "name": "stderr",
     "output_type": "stream",
     "text": [
      "DiagramVectorizer: batch: 100%|██████████| 20/20 [00:08<00:00,  2.41it/s]\n"
     ]
    },
    {
     "name": "stdout",
     "output_type": "stream",
     "text": [
      "Saving the result to ./1/test/filtrations/4/DensityFiltration_1/features.npy\n",
      "Applying filtration 57/116: 4/DensityFiltration_3\n",
      "FiltrationExtractor: processing 1/test/filtrations/4/DensityFiltration_3, do_fit = False, filtration = DensityFiltration(n_jobs=-1)\n",
      "Saving the result to ./1/test/filtrations/4/DensityFiltration_3/diagrams.npy\n"
     ]
    },
    {
     "name": "stderr",
     "output_type": "stream",
     "text": [
      "DiagramVectorizer: batch: 100%|██████████| 20/20 [00:04<00:00,  4.03it/s]\n"
     ]
    },
    {
     "name": "stdout",
     "output_type": "stream",
     "text": [
      "Saving the result to ./1/test/filtrations/4/DensityFiltration_3/features.npy\n",
      "Applying filtration 58/116: 6/HeightFiltrartion_-1_-1\n",
      "FiltrationExtractor: processing 1/test/filtrations/6/HeightFiltrartion_-1_-1, do_fit = False, filtration = HeightFiltration(direction=array([-1, -1]), n_jobs=-1)\n",
      "Saving the result to ./1/test/filtrations/6/HeightFiltrartion_-1_-1/diagrams.npy\n"
     ]
    },
    {
     "name": "stderr",
     "output_type": "stream",
     "text": [
      "DiagramVectorizer: batch: 100%|██████████| 20/20 [00:05<00:00,  3.99it/s]\n"
     ]
    },
    {
     "name": "stdout",
     "output_type": "stream",
     "text": [
      "Saving the result to ./1/test/filtrations/6/HeightFiltrartion_-1_-1/features.npy\n",
      "Applying filtration 59/116: 6/HeightFiltrartion_1_1\n",
      "FiltrationExtractor: processing 1/test/filtrations/6/HeightFiltrartion_1_1, do_fit = False, filtration = HeightFiltration(direction=array([1, 1]), n_jobs=-1)\n",
      "Saving the result to ./1/test/filtrations/6/HeightFiltrartion_1_1/diagrams.npy\n"
     ]
    },
    {
     "name": "stderr",
     "output_type": "stream",
     "text": [
      "DiagramVectorizer: batch: 100%|██████████| 20/20 [00:05<00:00,  3.96it/s]\n"
     ]
    },
    {
     "name": "stdout",
     "output_type": "stream",
     "text": [
      "Saving the result to ./1/test/filtrations/6/HeightFiltrartion_1_1/features.npy\n",
      "Applying filtration 60/116: 6/HeightFiltrartion_1_-1\n",
      "FiltrationExtractor: processing 1/test/filtrations/6/HeightFiltrartion_1_-1, do_fit = False, filtration = HeightFiltration(direction=array([ 1, -1]), n_jobs=-1)\n",
      "Saving the result to ./1/test/filtrations/6/HeightFiltrartion_1_-1/diagrams.npy\n"
     ]
    },
    {
     "name": "stderr",
     "output_type": "stream",
     "text": [
      "DiagramVectorizer: batch: 100%|██████████| 20/20 [00:04<00:00,  4.12it/s]\n"
     ]
    },
    {
     "name": "stdout",
     "output_type": "stream",
     "text": [
      "Saving the result to ./1/test/filtrations/6/HeightFiltrartion_1_-1/features.npy\n",
      "Applying filtration 61/116: 6/HeightFiltrartion_-1_1\n",
      "FiltrationExtractor: processing 1/test/filtrations/6/HeightFiltrartion_-1_1, do_fit = False, filtration = HeightFiltration(direction=array([-1,  1]), n_jobs=-1)\n",
      "Saving the result to ./1/test/filtrations/6/HeightFiltrartion_-1_1/diagrams.npy\n"
     ]
    },
    {
     "name": "stderr",
     "output_type": "stream",
     "text": [
      "DiagramVectorizer: batch: 100%|██████████| 20/20 [00:05<00:00,  3.95it/s]\n"
     ]
    },
    {
     "name": "stdout",
     "output_type": "stream",
     "text": [
      "Saving the result to ./1/test/filtrations/6/HeightFiltrartion_-1_1/features.npy\n",
      "Applying filtration 62/116: 6/HeightFiltrartion_0_-1\n",
      "FiltrationExtractor: processing 1/test/filtrations/6/HeightFiltrartion_0_-1, do_fit = False, filtration = HeightFiltration(direction=array([ 0, -1]), n_jobs=-1)\n",
      "Saving the result to ./1/test/filtrations/6/HeightFiltrartion_0_-1/diagrams.npy\n"
     ]
    },
    {
     "name": "stderr",
     "output_type": "stream",
     "text": [
      "DiagramVectorizer: batch: 100%|██████████| 20/20 [00:05<00:00,  3.69it/s]\n"
     ]
    },
    {
     "name": "stdout",
     "output_type": "stream",
     "text": [
      "Saving the result to ./1/test/filtrations/6/HeightFiltrartion_0_-1/features.npy\n",
      "Applying filtration 63/116: 6/HeightFiltrartion_0_1\n",
      "FiltrationExtractor: processing 1/test/filtrations/6/HeightFiltrartion_0_1, do_fit = False, filtration = HeightFiltration(direction=array([0, 1]), n_jobs=-1)\n",
      "Saving the result to ./1/test/filtrations/6/HeightFiltrartion_0_1/diagrams.npy\n"
     ]
    },
    {
     "name": "stderr",
     "output_type": "stream",
     "text": [
      "DiagramVectorizer: batch: 100%|██████████| 20/20 [00:05<00:00,  3.90it/s]\n"
     ]
    },
    {
     "name": "stdout",
     "output_type": "stream",
     "text": [
      "Saving the result to ./1/test/filtrations/6/HeightFiltrartion_0_1/features.npy\n",
      "Applying filtration 64/116: 6/HeightFiltrartion_-1_0\n",
      "FiltrationExtractor: processing 1/test/filtrations/6/HeightFiltrartion_-1_0, do_fit = False, filtration = HeightFiltration(direction=array([-1,  0]), n_jobs=-1)\n",
      "Saving the result to ./1/test/filtrations/6/HeightFiltrartion_-1_0/diagrams.npy\n"
     ]
    },
    {
     "name": "stderr",
     "output_type": "stream",
     "text": [
      "DiagramVectorizer: batch: 100%|██████████| 20/20 [00:04<00:00,  4.01it/s]\n"
     ]
    },
    {
     "name": "stdout",
     "output_type": "stream",
     "text": [
      "Saving the result to ./1/test/filtrations/6/HeightFiltrartion_-1_0/features.npy\n",
      "Applying filtration 65/116: 6/HeightFiltrartion_1_0\n",
      "FiltrationExtractor: processing 1/test/filtrations/6/HeightFiltrartion_1_0, do_fit = False, filtration = HeightFiltration(direction=array([1, 0]), n_jobs=-1)\n",
      "Saving the result to ./1/test/filtrations/6/HeightFiltrartion_1_0/diagrams.npy\n"
     ]
    },
    {
     "name": "stderr",
     "output_type": "stream",
     "text": [
      "DiagramVectorizer: batch: 100%|██████████| 20/20 [00:05<00:00,  3.91it/s]\n"
     ]
    },
    {
     "name": "stdout",
     "output_type": "stream",
     "text": [
      "Saving the result to ./1/test/filtrations/6/HeightFiltrartion_1_0/features.npy\n",
      "Applying filtration 66/116: 6/RadialFiltration_4_4\n",
      "FiltrationExtractor: processing 1/test/filtrations/6/RadialFiltration_4_4, do_fit = False, filtration = RadialFiltration(center=array([4, 4]), n_jobs=-1)\n",
      "Saving the result to ./1/test/filtrations/6/RadialFiltration_4_4/diagrams.npy\n"
     ]
    },
    {
     "name": "stderr",
     "output_type": "stream",
     "text": [
      "DiagramVectorizer: batch: 100%|██████████| 20/20 [00:04<00:00,  4.11it/s]\n"
     ]
    },
    {
     "name": "stdout",
     "output_type": "stream",
     "text": [
      "Saving the result to ./1/test/filtrations/6/RadialFiltration_4_4/features.npy\n",
      "Applying filtration 67/116: 6/RadialFiltration_4_10\n",
      "FiltrationExtractor: processing 1/test/filtrations/6/RadialFiltration_4_10, do_fit = False, filtration = RadialFiltration(center=array([ 4, 10]), n_jobs=-1)\n",
      "Saving the result to ./1/test/filtrations/6/RadialFiltration_4_10/diagrams.npy\n"
     ]
    },
    {
     "name": "stderr",
     "output_type": "stream",
     "text": [
      "DiagramVectorizer: batch: 100%|██████████| 20/20 [00:05<00:00,  3.85it/s]\n"
     ]
    },
    {
     "name": "stdout",
     "output_type": "stream",
     "text": [
      "Saving the result to ./1/test/filtrations/6/RadialFiltration_4_10/features.npy\n",
      "Applying filtration 68/116: 6/RadialFiltration_4_17\n",
      "FiltrationExtractor: processing 1/test/filtrations/6/RadialFiltration_4_17, do_fit = False, filtration = RadialFiltration(center=array([ 4, 17]), n_jobs=-1)\n",
      "Saving the result to ./1/test/filtrations/6/RadialFiltration_4_17/diagrams.npy\n"
     ]
    },
    {
     "name": "stderr",
     "output_type": "stream",
     "text": [
      "DiagramVectorizer: batch: 100%|██████████| 20/20 [00:05<00:00,  3.87it/s]\n"
     ]
    },
    {
     "name": "stdout",
     "output_type": "stream",
     "text": [
      "Saving the result to ./1/test/filtrations/6/RadialFiltration_4_17/features.npy\n",
      "Applying filtration 69/116: 6/RadialFiltration_4_23\n",
      "FiltrationExtractor: processing 1/test/filtrations/6/RadialFiltration_4_23, do_fit = False, filtration = RadialFiltration(center=array([ 4, 23]), n_jobs=-1)\n",
      "Saving the result to ./1/test/filtrations/6/RadialFiltration_4_23/diagrams.npy\n"
     ]
    },
    {
     "name": "stderr",
     "output_type": "stream",
     "text": [
      "DiagramVectorizer: batch: 100%|██████████| 20/20 [00:04<00:00,  4.07it/s]\n"
     ]
    },
    {
     "name": "stdout",
     "output_type": "stream",
     "text": [
      "Saving the result to ./1/test/filtrations/6/RadialFiltration_4_23/features.npy\n",
      "Applying filtration 70/116: 6/RadialFiltration_10_4\n",
      "FiltrationExtractor: processing 1/test/filtrations/6/RadialFiltration_10_4, do_fit = False, filtration = RadialFiltration(center=array([10,  4]), n_jobs=-1)\n",
      "Saving the result to ./1/test/filtrations/6/RadialFiltration_10_4/diagrams.npy\n"
     ]
    },
    {
     "name": "stderr",
     "output_type": "stream",
     "text": [
      "DiagramVectorizer: batch: 100%|██████████| 20/20 [00:05<00:00,  3.92it/s]\n"
     ]
    },
    {
     "name": "stdout",
     "output_type": "stream",
     "text": [
      "Saving the result to ./1/test/filtrations/6/RadialFiltration_10_4/features.npy\n",
      "Applying filtration 71/116: 6/RadialFiltration_10_10\n",
      "FiltrationExtractor: processing 1/test/filtrations/6/RadialFiltration_10_10, do_fit = False, filtration = RadialFiltration(center=array([10, 10]), n_jobs=-1)\n",
      "Saving the result to ./1/test/filtrations/6/RadialFiltration_10_10/diagrams.npy\n"
     ]
    },
    {
     "name": "stderr",
     "output_type": "stream",
     "text": [
      "DiagramVectorizer: batch: 100%|██████████| 20/20 [00:05<00:00,  3.90it/s]\n"
     ]
    },
    {
     "name": "stdout",
     "output_type": "stream",
     "text": [
      "Saving the result to ./1/test/filtrations/6/RadialFiltration_10_10/features.npy\n",
      "Applying filtration 72/116: 6/RadialFiltration_10_17\n",
      "FiltrationExtractor: processing 1/test/filtrations/6/RadialFiltration_10_17, do_fit = False, filtration = RadialFiltration(center=array([10, 17]), n_jobs=-1)\n",
      "Saving the result to ./1/test/filtrations/6/RadialFiltration_10_17/diagrams.npy\n"
     ]
    },
    {
     "name": "stderr",
     "output_type": "stream",
     "text": [
      "DiagramVectorizer: batch: 100%|██████████| 20/20 [00:05<00:00,  3.80it/s]\n"
     ]
    },
    {
     "name": "stdout",
     "output_type": "stream",
     "text": [
      "Saving the result to ./1/test/filtrations/6/RadialFiltration_10_17/features.npy\n",
      "Applying filtration 73/116: 6/RadialFiltration_10_23\n",
      "FiltrationExtractor: processing 1/test/filtrations/6/RadialFiltration_10_23, do_fit = False, filtration = RadialFiltration(center=array([10, 23]), n_jobs=-1)\n",
      "Saving the result to ./1/test/filtrations/6/RadialFiltration_10_23/diagrams.npy\n"
     ]
    },
    {
     "name": "stderr",
     "output_type": "stream",
     "text": [
      "DiagramVectorizer: batch: 100%|██████████| 20/20 [00:04<00:00,  4.12it/s]\n"
     ]
    },
    {
     "name": "stdout",
     "output_type": "stream",
     "text": [
      "Saving the result to ./1/test/filtrations/6/RadialFiltration_10_23/features.npy\n",
      "Applying filtration 74/116: 6/RadialFiltration_17_4\n",
      "FiltrationExtractor: processing 1/test/filtrations/6/RadialFiltration_17_4, do_fit = False, filtration = RadialFiltration(center=array([17,  4]), n_jobs=-1)\n",
      "Saving the result to ./1/test/filtrations/6/RadialFiltration_17_4/diagrams.npy\n"
     ]
    },
    {
     "name": "stderr",
     "output_type": "stream",
     "text": [
      "DiagramVectorizer: batch: 100%|██████████| 20/20 [00:05<00:00,  3.92it/s]\n"
     ]
    },
    {
     "name": "stdout",
     "output_type": "stream",
     "text": [
      "Saving the result to ./1/test/filtrations/6/RadialFiltration_17_4/features.npy\n",
      "Applying filtration 75/116: 6/RadialFiltration_17_10\n",
      "FiltrationExtractor: processing 1/test/filtrations/6/RadialFiltration_17_10, do_fit = False, filtration = RadialFiltration(center=array([17, 10]), n_jobs=-1)\n",
      "Saving the result to ./1/test/filtrations/6/RadialFiltration_17_10/diagrams.npy\n"
     ]
    },
    {
     "name": "stderr",
     "output_type": "stream",
     "text": [
      "DiagramVectorizer: batch: 100%|██████████| 20/20 [00:04<00:00,  4.04it/s]\n"
     ]
    },
    {
     "name": "stdout",
     "output_type": "stream",
     "text": [
      "Saving the result to ./1/test/filtrations/6/RadialFiltration_17_10/features.npy\n",
      "Applying filtration 76/116: 6/RadialFiltration_17_17\n",
      "FiltrationExtractor: processing 1/test/filtrations/6/RadialFiltration_17_17, do_fit = False, filtration = RadialFiltration(center=array([17, 17]), n_jobs=-1)\n",
      "Saving the result to ./1/test/filtrations/6/RadialFiltration_17_17/diagrams.npy\n"
     ]
    },
    {
     "name": "stderr",
     "output_type": "stream",
     "text": [
      "DiagramVectorizer: batch: 100%|██████████| 20/20 [00:05<00:00,  3.65it/s]\n"
     ]
    },
    {
     "name": "stdout",
     "output_type": "stream",
     "text": [
      "Saving the result to ./1/test/filtrations/6/RadialFiltration_17_17/features.npy\n",
      "Applying filtration 77/116: 6/RadialFiltration_17_23\n",
      "FiltrationExtractor: processing 1/test/filtrations/6/RadialFiltration_17_23, do_fit = False, filtration = RadialFiltration(center=array([17, 23]), n_jobs=-1)\n",
      "Saving the result to ./1/test/filtrations/6/RadialFiltration_17_23/diagrams.npy\n"
     ]
    },
    {
     "name": "stderr",
     "output_type": "stream",
     "text": [
      "DiagramVectorizer: batch: 100%|██████████| 20/20 [00:05<00:00,  3.81it/s]\n"
     ]
    },
    {
     "name": "stdout",
     "output_type": "stream",
     "text": [
      "Saving the result to ./1/test/filtrations/6/RadialFiltration_17_23/features.npy\n",
      "Applying filtration 78/116: 6/RadialFiltration_23_4\n",
      "FiltrationExtractor: processing 1/test/filtrations/6/RadialFiltration_23_4, do_fit = False, filtration = RadialFiltration(center=array([23,  4]), n_jobs=-1)\n",
      "Saving the result to ./1/test/filtrations/6/RadialFiltration_23_4/diagrams.npy\n"
     ]
    },
    {
     "name": "stderr",
     "output_type": "stream",
     "text": [
      "DiagramVectorizer: batch: 100%|██████████| 20/20 [00:05<00:00,  3.71it/s]\n"
     ]
    },
    {
     "name": "stdout",
     "output_type": "stream",
     "text": [
      "Saving the result to ./1/test/filtrations/6/RadialFiltration_23_4/features.npy\n",
      "Applying filtration 79/116: 6/RadialFiltration_23_10\n",
      "FiltrationExtractor: processing 1/test/filtrations/6/RadialFiltration_23_10, do_fit = False, filtration = RadialFiltration(center=array([23, 10]), n_jobs=-1)\n",
      "Saving the result to ./1/test/filtrations/6/RadialFiltration_23_10/diagrams.npy\n"
     ]
    },
    {
     "name": "stderr",
     "output_type": "stream",
     "text": [
      "DiagramVectorizer: batch: 100%|██████████| 20/20 [00:05<00:00,  3.93it/s]\n"
     ]
    },
    {
     "name": "stdout",
     "output_type": "stream",
     "text": [
      "Saving the result to ./1/test/filtrations/6/RadialFiltration_23_10/features.npy\n",
      "Applying filtration 80/116: 6/RadialFiltration_23_17\n",
      "FiltrationExtractor: processing 1/test/filtrations/6/RadialFiltration_23_17, do_fit = False, filtration = RadialFiltration(center=array([23, 17]), n_jobs=-1)\n",
      "Saving the result to ./1/test/filtrations/6/RadialFiltration_23_17/diagrams.npy\n"
     ]
    },
    {
     "name": "stderr",
     "output_type": "stream",
     "text": [
      "DiagramVectorizer: batch: 100%|██████████| 20/20 [00:04<00:00,  4.02it/s]\n"
     ]
    },
    {
     "name": "stdout",
     "output_type": "stream",
     "text": [
      "Saving the result to ./1/test/filtrations/6/RadialFiltration_23_17/features.npy\n",
      "Applying filtration 81/116: 6/RadialFiltration_23_23\n",
      "FiltrationExtractor: processing 1/test/filtrations/6/RadialFiltration_23_23, do_fit = False, filtration = RadialFiltration(center=array([23, 23]), n_jobs=-1)\n",
      "Saving the result to ./1/test/filtrations/6/RadialFiltration_23_23/diagrams.npy\n"
     ]
    },
    {
     "name": "stderr",
     "output_type": "stream",
     "text": [
      "DiagramVectorizer: batch: 100%|██████████| 20/20 [00:04<00:00,  4.07it/s]\n"
     ]
    },
    {
     "name": "stdout",
     "output_type": "stream",
     "text": [
      "Saving the result to ./1/test/filtrations/6/RadialFiltration_23_23/features.npy\n",
      "Applying filtration 82/116: 6/DilationFiltration\n",
      "FiltrationExtractor: processing 1/test/filtrations/6/DilationFiltration, do_fit = False, filtration = DilationFiltration(n_jobs=-1)\n",
      "Saving the result to ./1/test/filtrations/6/DilationFiltration/diagrams.npy\n"
     ]
    },
    {
     "name": "stderr",
     "output_type": "stream",
     "text": [
      "DiagramVectorizer: batch: 100%|██████████| 20/20 [00:05<00:00,  3.69it/s]\n"
     ]
    },
    {
     "name": "stdout",
     "output_type": "stream",
     "text": [
      "Saving the result to ./1/test/filtrations/6/DilationFiltration/features.npy\n",
      "Applying filtration 83/116: 6/ErosionFiltration\n",
      "FiltrationExtractor: processing 1/test/filtrations/6/ErosionFiltration, do_fit = False, filtration = ErosionFiltration(n_jobs=-1)\n",
      "Saving the result to ./1/test/filtrations/6/ErosionFiltration/diagrams.npy\n"
     ]
    },
    {
     "name": "stderr",
     "output_type": "stream",
     "text": [
      "DiagramVectorizer: batch: 100%|██████████| 20/20 [00:05<00:00,  3.45it/s]\n"
     ]
    },
    {
     "name": "stdout",
     "output_type": "stream",
     "text": [
      "Saving the result to ./1/test/filtrations/6/ErosionFiltration/features.npy\n",
      "Applying filtration 84/116: 6/SignedDistanceFiltration\n",
      "FiltrationExtractor: processing 1/test/filtrations/6/SignedDistanceFiltration, do_fit = False, filtration = SignedDistanceFiltration(n_jobs=-1)\n",
      "Saving the result to ./1/test/filtrations/6/SignedDistanceFiltration/diagrams.npy\n"
     ]
    },
    {
     "name": "stderr",
     "output_type": "stream",
     "text": [
      "DiagramVectorizer: batch: 100%|██████████| 20/20 [00:04<00:00,  4.05it/s]\n"
     ]
    },
    {
     "name": "stdout",
     "output_type": "stream",
     "text": [
      "Saving the result to ./1/test/filtrations/6/SignedDistanceFiltration/features.npy\n",
      "Applying filtration 85/116: 6/DensityFiltration_1\n",
      "FiltrationExtractor: processing 1/test/filtrations/6/DensityFiltration_1, do_fit = False, filtration = DensityFiltration(n_jobs=-1, radius=1)\n",
      "Saving the result to ./1/test/filtrations/6/DensityFiltration_1/diagrams.npy\n"
     ]
    },
    {
     "name": "stderr",
     "output_type": "stream",
     "text": [
      "DiagramVectorizer: batch: 100%|██████████| 20/20 [00:08<00:00,  2.50it/s]\n"
     ]
    },
    {
     "name": "stdout",
     "output_type": "stream",
     "text": [
      "Saving the result to ./1/test/filtrations/6/DensityFiltration_1/features.npy\n",
      "Applying filtration 86/116: 6/DensityFiltration_3\n",
      "FiltrationExtractor: processing 1/test/filtrations/6/DensityFiltration_3, do_fit = False, filtration = DensityFiltration(n_jobs=-1)\n",
      "Saving the result to ./1/test/filtrations/6/DensityFiltration_3/diagrams.npy\n"
     ]
    },
    {
     "name": "stderr",
     "output_type": "stream",
     "text": [
      "DiagramVectorizer: batch: 100%|██████████| 20/20 [00:04<00:00,  4.16it/s]\n"
     ]
    },
    {
     "name": "stdout",
     "output_type": "stream",
     "text": [
      "Saving the result to ./1/test/filtrations/6/DensityFiltration_3/features.npy\n",
      "Applying filtration 87/116: 8/HeightFiltrartion_-1_-1\n",
      "FiltrationExtractor: processing 1/test/filtrations/8/HeightFiltrartion_-1_-1, do_fit = False, filtration = HeightFiltration(direction=array([-1, -1]), n_jobs=-1)\n",
      "Saving the result to ./1/test/filtrations/8/HeightFiltrartion_-1_-1/diagrams.npy\n"
     ]
    },
    {
     "name": "stderr",
     "output_type": "stream",
     "text": [
      "DiagramVectorizer: batch: 100%|██████████| 20/20 [00:04<00:00,  4.10it/s]\n"
     ]
    },
    {
     "name": "stdout",
     "output_type": "stream",
     "text": [
      "Saving the result to ./1/test/filtrations/8/HeightFiltrartion_-1_-1/features.npy\n",
      "Applying filtration 88/116: 8/HeightFiltrartion_1_1\n",
      "FiltrationExtractor: processing 1/test/filtrations/8/HeightFiltrartion_1_1, do_fit = False, filtration = HeightFiltration(direction=array([1, 1]), n_jobs=-1)\n",
      "Saving the result to ./1/test/filtrations/8/HeightFiltrartion_1_1/diagrams.npy\n"
     ]
    },
    {
     "name": "stderr",
     "output_type": "stream",
     "text": [
      "DiagramVectorizer: batch: 100%|██████████| 20/20 [00:04<00:00,  4.02it/s]\n"
     ]
    },
    {
     "name": "stdout",
     "output_type": "stream",
     "text": [
      "Saving the result to ./1/test/filtrations/8/HeightFiltrartion_1_1/features.npy\n",
      "Applying filtration 89/116: 8/HeightFiltrartion_1_-1\n",
      "FiltrationExtractor: processing 1/test/filtrations/8/HeightFiltrartion_1_-1, do_fit = False, filtration = HeightFiltration(direction=array([ 1, -1]), n_jobs=-1)\n",
      "Saving the result to ./1/test/filtrations/8/HeightFiltrartion_1_-1/diagrams.npy\n"
     ]
    },
    {
     "name": "stderr",
     "output_type": "stream",
     "text": [
      "DiagramVectorizer: batch: 100%|██████████| 20/20 [00:04<00:00,  4.07it/s]\n"
     ]
    },
    {
     "name": "stdout",
     "output_type": "stream",
     "text": [
      "Saving the result to ./1/test/filtrations/8/HeightFiltrartion_1_-1/features.npy\n",
      "Applying filtration 90/116: 8/HeightFiltrartion_-1_1\n",
      "FiltrationExtractor: processing 1/test/filtrations/8/HeightFiltrartion_-1_1, do_fit = False, filtration = HeightFiltration(direction=array([-1,  1]), n_jobs=-1)\n",
      "Saving the result to ./1/test/filtrations/8/HeightFiltrartion_-1_1/diagrams.npy\n"
     ]
    },
    {
     "name": "stderr",
     "output_type": "stream",
     "text": [
      "DiagramVectorizer: batch: 100%|██████████| 20/20 [00:05<00:00,  3.92it/s]\n"
     ]
    },
    {
     "name": "stdout",
     "output_type": "stream",
     "text": [
      "Saving the result to ./1/test/filtrations/8/HeightFiltrartion_-1_1/features.npy\n",
      "Applying filtration 91/116: 8/HeightFiltrartion_0_-1\n",
      "FiltrationExtractor: processing 1/test/filtrations/8/HeightFiltrartion_0_-1, do_fit = False, filtration = HeightFiltration(direction=array([ 0, -1]), n_jobs=-1)\n",
      "Saving the result to ./1/test/filtrations/8/HeightFiltrartion_0_-1/diagrams.npy\n"
     ]
    },
    {
     "name": "stderr",
     "output_type": "stream",
     "text": [
      "DiagramVectorizer: batch: 100%|██████████| 20/20 [00:05<00:00,  3.67it/s]\n"
     ]
    },
    {
     "name": "stdout",
     "output_type": "stream",
     "text": [
      "Saving the result to ./1/test/filtrations/8/HeightFiltrartion_0_-1/features.npy\n",
      "Applying filtration 92/116: 8/HeightFiltrartion_0_1\n",
      "FiltrationExtractor: processing 1/test/filtrations/8/HeightFiltrartion_0_1, do_fit = False, filtration = HeightFiltration(direction=array([0, 1]), n_jobs=-1)\n",
      "Saving the result to ./1/test/filtrations/8/HeightFiltrartion_0_1/diagrams.npy\n"
     ]
    },
    {
     "name": "stderr",
     "output_type": "stream",
     "text": [
      "DiagramVectorizer: batch: 100%|██████████| 20/20 [00:05<00:00,  3.64it/s]\n"
     ]
    },
    {
     "name": "stdout",
     "output_type": "stream",
     "text": [
      "Saving the result to ./1/test/filtrations/8/HeightFiltrartion_0_1/features.npy\n",
      "Applying filtration 93/116: 8/HeightFiltrartion_-1_0\n",
      "FiltrationExtractor: processing 1/test/filtrations/8/HeightFiltrartion_-1_0, do_fit = False, filtration = HeightFiltration(direction=array([-1,  0]), n_jobs=-1)\n",
      "Saving the result to ./1/test/filtrations/8/HeightFiltrartion_-1_0/diagrams.npy\n"
     ]
    },
    {
     "name": "stderr",
     "output_type": "stream",
     "text": [
      "DiagramVectorizer: batch: 100%|██████████| 20/20 [00:04<00:00,  4.05it/s]\n"
     ]
    },
    {
     "name": "stdout",
     "output_type": "stream",
     "text": [
      "Saving the result to ./1/test/filtrations/8/HeightFiltrartion_-1_0/features.npy\n",
      "Applying filtration 94/116: 8/HeightFiltrartion_1_0\n",
      "FiltrationExtractor: processing 1/test/filtrations/8/HeightFiltrartion_1_0, do_fit = False, filtration = HeightFiltration(direction=array([1, 0]), n_jobs=-1)\n",
      "Saving the result to ./1/test/filtrations/8/HeightFiltrartion_1_0/diagrams.npy\n"
     ]
    },
    {
     "name": "stderr",
     "output_type": "stream",
     "text": [
      "DiagramVectorizer: batch: 100%|██████████| 20/20 [00:05<00:00,  3.58it/s]\n"
     ]
    },
    {
     "name": "stdout",
     "output_type": "stream",
     "text": [
      "Saving the result to ./1/test/filtrations/8/HeightFiltrartion_1_0/features.npy\n",
      "Applying filtration 95/116: 8/RadialFiltration_4_4\n",
      "FiltrationExtractor: processing 1/test/filtrations/8/RadialFiltration_4_4, do_fit = False, filtration = RadialFiltration(center=array([4, 4]), n_jobs=-1)\n",
      "Saving the result to ./1/test/filtrations/8/RadialFiltration_4_4/diagrams.npy\n"
     ]
    },
    {
     "name": "stderr",
     "output_type": "stream",
     "text": [
      "DiagramVectorizer: batch: 100%|██████████| 20/20 [00:05<00:00,  3.60it/s]\n"
     ]
    },
    {
     "name": "stdout",
     "output_type": "stream",
     "text": [
      "Saving the result to ./1/test/filtrations/8/RadialFiltration_4_4/features.npy\n",
      "Applying filtration 96/116: 8/RadialFiltration_4_10\n",
      "FiltrationExtractor: processing 1/test/filtrations/8/RadialFiltration_4_10, do_fit = False, filtration = RadialFiltration(center=array([ 4, 10]), n_jobs=-1)\n",
      "Saving the result to ./1/test/filtrations/8/RadialFiltration_4_10/diagrams.npy\n"
     ]
    },
    {
     "name": "stderr",
     "output_type": "stream",
     "text": [
      "DiagramVectorizer: batch: 100%|██████████| 20/20 [00:05<00:00,  3.94it/s]\n"
     ]
    },
    {
     "name": "stdout",
     "output_type": "stream",
     "text": [
      "Saving the result to ./1/test/filtrations/8/RadialFiltration_4_10/features.npy\n",
      "Applying filtration 97/116: 8/RadialFiltration_4_17\n",
      "FiltrationExtractor: processing 1/test/filtrations/8/RadialFiltration_4_17, do_fit = False, filtration = RadialFiltration(center=array([ 4, 17]), n_jobs=-1)\n",
      "Saving the result to ./1/test/filtrations/8/RadialFiltration_4_17/diagrams.npy\n"
     ]
    },
    {
     "name": "stderr",
     "output_type": "stream",
     "text": [
      "DiagramVectorizer: batch: 100%|██████████| 20/20 [00:05<00:00,  3.81it/s]\n"
     ]
    },
    {
     "name": "stdout",
     "output_type": "stream",
     "text": [
      "Saving the result to ./1/test/filtrations/8/RadialFiltration_4_17/features.npy\n",
      "Applying filtration 98/116: 8/RadialFiltration_4_23\n",
      "FiltrationExtractor: processing 1/test/filtrations/8/RadialFiltration_4_23, do_fit = False, filtration = RadialFiltration(center=array([ 4, 23]), n_jobs=-1)\n",
      "Saving the result to ./1/test/filtrations/8/RadialFiltration_4_23/diagrams.npy\n"
     ]
    },
    {
     "name": "stderr",
     "output_type": "stream",
     "text": [
      "DiagramVectorizer: batch: 100%|██████████| 20/20 [00:05<00:00,  3.94it/s]\n"
     ]
    },
    {
     "name": "stdout",
     "output_type": "stream",
     "text": [
      "Saving the result to ./1/test/filtrations/8/RadialFiltration_4_23/features.npy\n",
      "Applying filtration 99/116: 8/RadialFiltration_10_4\n",
      "FiltrationExtractor: processing 1/test/filtrations/8/RadialFiltration_10_4, do_fit = False, filtration = RadialFiltration(center=array([10,  4]), n_jobs=-1)\n",
      "Saving the result to ./1/test/filtrations/8/RadialFiltration_10_4/diagrams.npy\n"
     ]
    },
    {
     "name": "stderr",
     "output_type": "stream",
     "text": [
      "DiagramVectorizer: batch: 100%|██████████| 20/20 [00:05<00:00,  3.69it/s]\n"
     ]
    },
    {
     "name": "stdout",
     "output_type": "stream",
     "text": [
      "Saving the result to ./1/test/filtrations/8/RadialFiltration_10_4/features.npy\n",
      "Applying filtration 100/116: 8/RadialFiltration_10_10\n",
      "FiltrationExtractor: processing 1/test/filtrations/8/RadialFiltration_10_10, do_fit = False, filtration = RadialFiltration(center=array([10, 10]), n_jobs=-1)\n",
      "Saving the result to ./1/test/filtrations/8/RadialFiltration_10_10/diagrams.npy\n"
     ]
    },
    {
     "name": "stderr",
     "output_type": "stream",
     "text": [
      "DiagramVectorizer: batch: 100%|██████████| 20/20 [00:05<00:00,  3.39it/s]\n"
     ]
    },
    {
     "name": "stdout",
     "output_type": "stream",
     "text": [
      "Saving the result to ./1/test/filtrations/8/RadialFiltration_10_10/features.npy\n",
      "Applying filtration 101/116: 8/RadialFiltration_10_17\n",
      "FiltrationExtractor: processing 1/test/filtrations/8/RadialFiltration_10_17, do_fit = False, filtration = RadialFiltration(center=array([10, 17]), n_jobs=-1)\n",
      "Saving the result to ./1/test/filtrations/8/RadialFiltration_10_17/diagrams.npy\n"
     ]
    },
    {
     "name": "stderr",
     "output_type": "stream",
     "text": [
      "DiagramVectorizer: batch: 100%|██████████| 20/20 [00:05<00:00,  3.77it/s]\n"
     ]
    },
    {
     "name": "stdout",
     "output_type": "stream",
     "text": [
      "Saving the result to ./1/test/filtrations/8/RadialFiltration_10_17/features.npy\n",
      "Applying filtration 102/116: 8/RadialFiltration_10_23\n",
      "FiltrationExtractor: processing 1/test/filtrations/8/RadialFiltration_10_23, do_fit = False, filtration = RadialFiltration(center=array([10, 23]), n_jobs=-1)\n",
      "Saving the result to ./1/test/filtrations/8/RadialFiltration_10_23/diagrams.npy\n"
     ]
    },
    {
     "name": "stderr",
     "output_type": "stream",
     "text": [
      "DiagramVectorizer: batch: 100%|██████████| 20/20 [00:05<00:00,  3.57it/s]\n"
     ]
    },
    {
     "name": "stdout",
     "output_type": "stream",
     "text": [
      "Saving the result to ./1/test/filtrations/8/RadialFiltration_10_23/features.npy\n",
      "Applying filtration 103/116: 8/RadialFiltration_17_4\n",
      "FiltrationExtractor: processing 1/test/filtrations/8/RadialFiltration_17_4, do_fit = False, filtration = RadialFiltration(center=array([17,  4]), n_jobs=-1)\n",
      "Saving the result to ./1/test/filtrations/8/RadialFiltration_17_4/diagrams.npy\n"
     ]
    },
    {
     "name": "stderr",
     "output_type": "stream",
     "text": [
      "DiagramVectorizer: batch: 100%|██████████| 20/20 [00:05<00:00,  3.84it/s]\n"
     ]
    },
    {
     "name": "stdout",
     "output_type": "stream",
     "text": [
      "Saving the result to ./1/test/filtrations/8/RadialFiltration_17_4/features.npy\n",
      "Applying filtration 104/116: 8/RadialFiltration_17_10\n",
      "FiltrationExtractor: processing 1/test/filtrations/8/RadialFiltration_17_10, do_fit = False, filtration = RadialFiltration(center=array([17, 10]), n_jobs=-1)\n",
      "Saving the result to ./1/test/filtrations/8/RadialFiltration_17_10/diagrams.npy\n"
     ]
    },
    {
     "name": "stderr",
     "output_type": "stream",
     "text": [
      "DiagramVectorizer: batch: 100%|██████████| 20/20 [00:05<00:00,  3.71it/s]\n"
     ]
    },
    {
     "name": "stdout",
     "output_type": "stream",
     "text": [
      "Saving the result to ./1/test/filtrations/8/RadialFiltration_17_10/features.npy\n",
      "Applying filtration 105/116: 8/RadialFiltration_17_17\n",
      "FiltrationExtractor: processing 1/test/filtrations/8/RadialFiltration_17_17, do_fit = False, filtration = RadialFiltration(center=array([17, 17]), n_jobs=-1)\n",
      "Saving the result to ./1/test/filtrations/8/RadialFiltration_17_17/diagrams.npy\n"
     ]
    },
    {
     "name": "stderr",
     "output_type": "stream",
     "text": [
      "DiagramVectorizer: batch: 100%|██████████| 20/20 [00:05<00:00,  3.52it/s]\n"
     ]
    },
    {
     "name": "stdout",
     "output_type": "stream",
     "text": [
      "Saving the result to ./1/test/filtrations/8/RadialFiltration_17_17/features.npy\n",
      "Applying filtration 106/116: 8/RadialFiltration_17_23\n",
      "FiltrationExtractor: processing 1/test/filtrations/8/RadialFiltration_17_23, do_fit = False, filtration = RadialFiltration(center=array([17, 23]), n_jobs=-1)\n",
      "Saving the result to ./1/test/filtrations/8/RadialFiltration_17_23/diagrams.npy\n"
     ]
    },
    {
     "name": "stderr",
     "output_type": "stream",
     "text": [
      "DiagramVectorizer: batch: 100%|██████████| 20/20 [00:05<00:00,  3.82it/s]\n"
     ]
    },
    {
     "name": "stdout",
     "output_type": "stream",
     "text": [
      "Saving the result to ./1/test/filtrations/8/RadialFiltration_17_23/features.npy\n",
      "Applying filtration 107/116: 8/RadialFiltration_23_4\n",
      "FiltrationExtractor: processing 1/test/filtrations/8/RadialFiltration_23_4, do_fit = False, filtration = RadialFiltration(center=array([23,  4]), n_jobs=-1)\n",
      "Saving the result to ./1/test/filtrations/8/RadialFiltration_23_4/diagrams.npy\n"
     ]
    },
    {
     "name": "stderr",
     "output_type": "stream",
     "text": [
      "DiagramVectorizer: batch: 100%|██████████| 20/20 [00:05<00:00,  3.60it/s]\n"
     ]
    },
    {
     "name": "stdout",
     "output_type": "stream",
     "text": [
      "Saving the result to ./1/test/filtrations/8/RadialFiltration_23_4/features.npy\n",
      "Applying filtration 108/116: 8/RadialFiltration_23_10\n",
      "FiltrationExtractor: processing 1/test/filtrations/8/RadialFiltration_23_10, do_fit = False, filtration = RadialFiltration(center=array([23, 10]), n_jobs=-1)\n",
      "Saving the result to ./1/test/filtrations/8/RadialFiltration_23_10/diagrams.npy\n"
     ]
    },
    {
     "name": "stderr",
     "output_type": "stream",
     "text": [
      "DiagramVectorizer: batch: 100%|██████████| 20/20 [00:05<00:00,  3.71it/s]\n"
     ]
    },
    {
     "name": "stdout",
     "output_type": "stream",
     "text": [
      "Saving the result to ./1/test/filtrations/8/RadialFiltration_23_10/features.npy\n",
      "Applying filtration 109/116: 8/RadialFiltration_23_17\n",
      "FiltrationExtractor: processing 1/test/filtrations/8/RadialFiltration_23_17, do_fit = False, filtration = RadialFiltration(center=array([23, 17]), n_jobs=-1)\n",
      "Saving the result to ./1/test/filtrations/8/RadialFiltration_23_17/diagrams.npy\n"
     ]
    },
    {
     "name": "stderr",
     "output_type": "stream",
     "text": [
      "DiagramVectorizer: batch: 100%|██████████| 20/20 [00:05<00:00,  3.35it/s]\n"
     ]
    },
    {
     "name": "stdout",
     "output_type": "stream",
     "text": [
      "Saving the result to ./1/test/filtrations/8/RadialFiltration_23_17/features.npy\n",
      "Applying filtration 110/116: 8/RadialFiltration_23_23\n",
      "FiltrationExtractor: processing 1/test/filtrations/8/RadialFiltration_23_23, do_fit = False, filtration = RadialFiltration(center=array([23, 23]), n_jobs=-1)\n",
      "Saving the result to ./1/test/filtrations/8/RadialFiltration_23_23/diagrams.npy\n"
     ]
    },
    {
     "name": "stderr",
     "output_type": "stream",
     "text": [
      "DiagramVectorizer: batch: 100%|██████████| 20/20 [00:05<00:00,  3.92it/s]\n"
     ]
    },
    {
     "name": "stdout",
     "output_type": "stream",
     "text": [
      "Saving the result to ./1/test/filtrations/8/RadialFiltration_23_23/features.npy\n",
      "Applying filtration 111/116: 8/DilationFiltration\n",
      "FiltrationExtractor: processing 1/test/filtrations/8/DilationFiltration, do_fit = False, filtration = DilationFiltration(n_jobs=-1)\n",
      "Saving the result to ./1/test/filtrations/8/DilationFiltration/diagrams.npy\n"
     ]
    },
    {
     "name": "stderr",
     "output_type": "stream",
     "text": [
      "DiagramVectorizer: batch: 100%|██████████| 20/20 [00:05<00:00,  3.71it/s]\n"
     ]
    },
    {
     "name": "stdout",
     "output_type": "stream",
     "text": [
      "Saving the result to ./1/test/filtrations/8/DilationFiltration/features.npy\n",
      "Applying filtration 112/116: 8/ErosionFiltration\n",
      "FiltrationExtractor: processing 1/test/filtrations/8/ErosionFiltration, do_fit = False, filtration = ErosionFiltration(n_jobs=-1)\n",
      "Saving the result to ./1/test/filtrations/8/ErosionFiltration/diagrams.npy\n"
     ]
    },
    {
     "name": "stderr",
     "output_type": "stream",
     "text": [
      "DiagramVectorizer: batch: 100%|██████████| 20/20 [00:06<00:00,  2.96it/s]\n"
     ]
    },
    {
     "name": "stdout",
     "output_type": "stream",
     "text": [
      "Saving the result to ./1/test/filtrations/8/ErosionFiltration/features.npy\n",
      "Applying filtration 113/116: 8/SignedDistanceFiltration\n",
      "FiltrationExtractor: processing 1/test/filtrations/8/SignedDistanceFiltration, do_fit = False, filtration = SignedDistanceFiltration(n_jobs=-1)\n",
      "Saving the result to ./1/test/filtrations/8/SignedDistanceFiltration/diagrams.npy\n"
     ]
    },
    {
     "name": "stderr",
     "output_type": "stream",
     "text": [
      "DiagramVectorizer: batch: 100%|██████████| 20/20 [00:04<00:00,  4.15it/s]\n"
     ]
    },
    {
     "name": "stdout",
     "output_type": "stream",
     "text": [
      "Saving the result to ./1/test/filtrations/8/SignedDistanceFiltration/features.npy\n",
      "Applying filtration 114/116: 8/DensityFiltration_1\n",
      "FiltrationExtractor: processing 1/test/filtrations/8/DensityFiltration_1, do_fit = False, filtration = DensityFiltration(n_jobs=-1, radius=1)\n",
      "Saving the result to ./1/test/filtrations/8/DensityFiltration_1/diagrams.npy\n"
     ]
    },
    {
     "name": "stderr",
     "output_type": "stream",
     "text": [
      "DiagramVectorizer: batch: 100%|██████████| 20/20 [00:08<00:00,  2.46it/s]\n"
     ]
    },
    {
     "name": "stdout",
     "output_type": "stream",
     "text": [
      "Saving the result to ./1/test/filtrations/8/DensityFiltration_1/features.npy\n",
      "Applying filtration 115/116: 8/DensityFiltration_3\n",
      "FiltrationExtractor: processing 1/test/filtrations/8/DensityFiltration_3, do_fit = False, filtration = DensityFiltration(n_jobs=-1)\n",
      "Saving the result to ./1/test/filtrations/8/DensityFiltration_3/diagrams.npy\n"
     ]
    },
    {
     "name": "stderr",
     "output_type": "stream",
     "text": [
      "DiagramVectorizer: batch: 100%|██████████| 20/20 [00:04<00:00,  4.39it/s]\n"
     ]
    },
    {
     "name": "stdout",
     "output_type": "stream",
     "text": [
      "Saving the result to ./1/test/filtrations/8/DensityFiltration_3/features.npy\n"
     ]
    },
    {
     "name": "stderr",
     "output_type": "stream",
     "text": [
      "GrayGeometryExtractor: 100%|██████████| 10000/10000 [00:59<00:00, 167.21it/s]\n"
     ]
    },
    {
     "name": "stdout",
     "output_type": "stream",
     "text": [
      "Saving the result to ./1/test/geometry.npy\n"
     ]
    }
   ],
   "source": [
    "test_features = extractor.transform(test_images, \"19/test\")"
   ]
  },
  {
   "cell_type": "code",
   "execution_count": null,
   "metadata": {},
   "outputs": [],
   "source": [
    "import sklearn.preprocessing\n",
    "\n",
    "ss = sklearn.preprocessing.StandardScaler()\n",
    "train_scaled = ss.fit_transform(train_features)\n",
    "test_scaled = ss.transform(test_features)"
   ]
  },
  {
   "cell_type": "code",
   "execution_count": null,
   "metadata": {},
   "outputs": [
    {
     "name": "stdout",
     "output_type": "stream",
     "text": [
      "Fitting KNeighborsClassifier(n_jobs=-1, n_neighbors=50)\n",
      "{'classifier': 'KNeighborsClassifier', 'Accuracy': 0.7357, 'TOP-2 Accuracy': 0.8803, 'TOP-3 Accuracy': 0.9436, 'TOP-4 Accuracy': 0.9687, 'TOP-5 Accuracy': 0.9833, 'TOP-6 Accuracy': 0.992, 'TOP-7 Accuracy': 0.9955, 'TOP-8 Accuracy': 0.9972, 'TOP-9 Accuracy': 0.9986, 'AUC-ROC': 0.9642746722222222, 'Precision': 0.7427427802942881, 'Recall': 0.7356999999999999, 'F1-score': 0.7341671961215387}\n",
      "Fitting RandomForestClassifier(n_jobs=-1, random_state=42)\n",
      "{'classifier': 'RandomForestClassifier', 'Accuracy': 0.8792, 'TOP-2 Accuracy': 0.9638, 'TOP-3 Accuracy': 0.9855, 'TOP-4 Accuracy': 0.993, 'TOP-5 Accuracy': 0.9964, 'TOP-6 Accuracy': 0.9987, 'TOP-7 Accuracy': 0.9992, 'TOP-8 Accuracy': 0.9994, 'TOP-9 Accuracy': 0.9996, 'AUC-ROC': 0.9894660111111112, 'Precision': 0.8779097191459961, 'Recall': 0.8791999999999998, 'F1-score': 0.8781299900513453}\n",
      "Fitting <cvtda.classification.nn_classifier.NNClassifier object at 0x000001B469E54100>\n",
      "Input to LazyLinear: 15206\n",
      "Parameters: 3937514\n"
     ]
    },
    {
     "name": "stderr",
     "output_type": "stream",
     "text": [
      "100%|██████████| 25/25 [01:17<00:00,  3.11s/it, loss=9.42e+4, val_acc=0.885]\n"
     ]
    },
    {
     "name": "stdout",
     "output_type": "stream",
     "text": [
      "{'classifier': 'NNClassifier', 'Accuracy': 0.8849, 'TOP-2 Accuracy': 0.965, 'TOP-3 Accuracy': 0.9867, 'TOP-4 Accuracy': 0.9917, 'TOP-5 Accuracy': 0.9959, 'TOP-6 Accuracy': 0.9986, 'TOP-7 Accuracy': 0.9996, 'TOP-8 Accuracy': 0.9997, 'TOP-9 Accuracy': 1.0, 'AUC-ROC': 0.9876861277777778, 'Precision': 0.8839484480112813, 'Recall': 0.8849, 'F1-score': 0.8840975621475288}\n",
      "Fitting HistGradientBoostingClassifier(max_depth=4, max_features=0.1, max_iter=20,\n",
      "                               random_state=42, verbose=2)\n",
      "Binning 6.569 GB of training data: 54.265 s\n",
      "Binning 0.730 GB of validation data: 0.855 s\n",
      "Fitting gradient boosted rounds:\n",
      "[1/20] 10 trees, 160 leaves (16 on avg), max depth = 4, train loss: 1.72548, val loss: 1.73880, in 4.198s\n",
      "[2/20] 10 trees, 160 leaves (16 on avg), max depth = 4, train loss: 1.43695, val loss: 1.45426, in 3.968s\n",
      "[3/20] 10 trees, 159 leaves (15 on avg), max depth = 4, train loss: 1.23562, val loss: 1.25727, in 3.794s\n",
      "[4/20] 10 trees, 156 leaves (15 on avg), max depth = 4, train loss: 1.08408, val loss: 1.10954, in 3.833s\n",
      "[5/20] 10 trees, 158 leaves (15 on avg), max depth = 4, train loss: 0.96495, val loss: 0.99274, in 3.829s\n",
      "[6/20] 10 trees, 156 leaves (15 on avg), max depth = 4, train loss: 0.87014, val loss: 0.90048, in 3.891s\n",
      "[7/20] 10 trees, 159 leaves (15 on avg), max depth = 4, train loss: 0.79156, val loss: 0.82362, in 3.919s\n",
      "[8/20] 10 trees, 158 leaves (15 on avg), max depth = 4, train loss: 0.72653, val loss: 0.76012, in 3.896s\n",
      "[9/20] 10 trees, 158 leaves (15 on avg), max depth = 4, train loss: 0.67144, val loss: 0.70629, in 3.897s\n",
      "[10/20] 10 trees, 157 leaves (15 on avg), max depth = 4, train loss: 0.62456, val loss: 0.66159, in 4.216s\n",
      "[11/20] 10 trees, 150 leaves (15 on avg), max depth = 4, train loss: 0.58430, val loss: 0.62260, in 4.112s\n",
      "[12/20] 10 trees, 159 leaves (15 on avg), max depth = 4, train loss: 0.54989, val loss: 0.58958, in 4.368s\n",
      "[13/20] 10 trees, 159 leaves (15 on avg), max depth = 4, train loss: 0.52013, val loss: 0.56106, in 4.314s\n",
      "[14/20] 10 trees, 155 leaves (15 on avg), max depth = 4, train loss: 0.49382, val loss: 0.53594, in 4.157s\n",
      "[15/20] 10 trees, 159 leaves (15 on avg), max depth = 4, train loss: 0.47108, val loss: 0.51463, in 3.951s\n",
      "[16/20] 10 trees, 152 leaves (15 on avg), max depth = 4, train loss: 0.45052, val loss: 0.49516, in 3.874s\n",
      "[17/20] 10 trees, 155 leaves (15 on avg), max depth = 4, train loss: 0.43262, val loss: 0.47896, in 3.954s\n",
      "[18/20] 10 trees, 151 leaves (15 on avg), max depth = 4, train loss: 0.41696, val loss: 0.46433, in 3.891s\n",
      "[19/20] 10 trees, 151 leaves (15 on avg), max depth = 4, train loss: 0.40219, val loss: 0.45090, in 4.016s\n",
      "[20/20] 10 trees, 151 leaves (15 on avg), max depth = 4, train loss: 0.38899, val loss: 0.43888, in 3.977s\n",
      "Fit 200 trees in 138.839 s, (3123 total leaves)\n",
      "Time spent computing histograms: 71.188s\n",
      "Time spent finding best splits:  2.986s\n",
      "Time spent applying splits:      0.118s\n",
      "Time spent predicting:           0.013s\n",
      "{'classifier': 'HistGradientBoostingClassifier', 'Accuracy': 0.8635, 'TOP-2 Accuracy': 0.957, 'TOP-3 Accuracy': 0.9859, 'TOP-4 Accuracy': 0.9923, 'TOP-5 Accuracy': 0.9974, 'TOP-6 Accuracy': 0.9992, 'TOP-7 Accuracy': 0.9999, 'TOP-8 Accuracy': 0.9999, 'TOP-9 Accuracy': 0.9999, 'AUC-ROC': 0.9869498111111111, 'Precision': 0.8619628213391304, 'Recall': 0.8634999999999999, 'F1-score': 0.8622434853959845}\n",
      "Fitting <catboost.core.CatBoostClassifier object at 0x000001B4232AA680>\n",
      "Learning rate set to 0.321004\n",
      "0:\tlearn: 1.4492535\ttotal: 602ms\tremaining: 4m\n",
      "1:\tlearn: 1.2042141\ttotal: 1.01s\tremaining: 3m 20s\n",
      "2:\tlearn: 1.0598232\ttotal: 1.39s\tremaining: 3m 3s\n",
      "3:\tlearn: 0.9612979\ttotal: 1.78s\tremaining: 2m 56s\n",
      "4:\tlearn: 0.8756196\ttotal: 2.21s\tremaining: 2m 54s\n",
      "5:\tlearn: 0.8205634\ttotal: 2.61s\tremaining: 2m 51s\n",
      "6:\tlearn: 0.7723370\ttotal: 2.96s\tremaining: 2m 46s\n",
      "7:\tlearn: 0.7363688\ttotal: 3.34s\tremaining: 2m 43s\n",
      "8:\tlearn: 0.6982465\ttotal: 3.75s\tremaining: 2m 42s\n",
      "9:\tlearn: 0.6688948\ttotal: 4.17s\tremaining: 2m 42s\n",
      "10:\tlearn: 0.6421286\ttotal: 4.58s\tremaining: 2m 42s\n",
      "11:\tlearn: 0.6161406\ttotal: 5.01s\tremaining: 2m 42s\n",
      "12:\tlearn: 0.6003542\ttotal: 5.4s\tremaining: 2m 40s\n",
      "13:\tlearn: 0.5838472\ttotal: 5.8s\tremaining: 2m 39s\n",
      "14:\tlearn: 0.5685047\ttotal: 6.2s\tremaining: 2m 39s\n",
      "15:\tlearn: 0.5562563\ttotal: 6.58s\tremaining: 2m 37s\n",
      "16:\tlearn: 0.5415289\ttotal: 7.01s\tremaining: 2m 38s\n",
      "17:\tlearn: 0.5289080\ttotal: 7.44s\tremaining: 2m 37s\n",
      "18:\tlearn: 0.5163707\ttotal: 7.86s\tremaining: 2m 37s\n",
      "19:\tlearn: 0.5050373\ttotal: 8.22s\tremaining: 2m 36s\n",
      "20:\tlearn: 0.4946442\ttotal: 8.62s\tremaining: 2m 35s\n",
      "21:\tlearn: 0.4875314\ttotal: 8.97s\tremaining: 2m 34s\n",
      "22:\tlearn: 0.4771597\ttotal: 9.36s\tremaining: 2m 33s\n",
      "23:\tlearn: 0.4694047\ttotal: 9.76s\tremaining: 2m 32s\n",
      "24:\tlearn: 0.4623536\ttotal: 10.2s\tremaining: 2m 32s\n",
      "25:\tlearn: 0.4573844\ttotal: 10.5s\tremaining: 2m 30s\n",
      "26:\tlearn: 0.4507359\ttotal: 10.9s\tremaining: 2m 30s\n",
      "27:\tlearn: 0.4426284\ttotal: 11.3s\tremaining: 2m 30s\n",
      "28:\tlearn: 0.4363503\ttotal: 11.7s\tremaining: 2m 30s\n",
      "29:\tlearn: 0.4321501\ttotal: 12.1s\tremaining: 2m 29s\n",
      "30:\tlearn: 0.4253892\ttotal: 12.5s\tremaining: 2m 28s\n",
      "31:\tlearn: 0.4193679\ttotal: 12.9s\tremaining: 2m 28s\n",
      "32:\tlearn: 0.4136271\ttotal: 13.3s\tremaining: 2m 28s\n",
      "33:\tlearn: 0.4105906\ttotal: 13.7s\tremaining: 2m 26s\n",
      "34:\tlearn: 0.4057795\ttotal: 14.1s\tremaining: 2m 26s\n",
      "35:\tlearn: 0.4020268\ttotal: 14.5s\tremaining: 2m 26s\n",
      "36:\tlearn: 0.3972374\ttotal: 14.8s\tremaining: 2m 25s\n",
      "37:\tlearn: 0.3933761\ttotal: 15.2s\tremaining: 2m 24s\n",
      "38:\tlearn: 0.3902064\ttotal: 15.6s\tremaining: 2m 24s\n",
      "39:\tlearn: 0.3866629\ttotal: 16s\tremaining: 2m 23s\n",
      "40:\tlearn: 0.3833149\ttotal: 16.4s\tremaining: 2m 23s\n",
      "41:\tlearn: 0.3795930\ttotal: 16.8s\tremaining: 2m 23s\n",
      "42:\tlearn: 0.3761806\ttotal: 17.1s\tremaining: 2m 22s\n",
      "43:\tlearn: 0.3726843\ttotal: 17.6s\tremaining: 2m 22s\n",
      "44:\tlearn: 0.3690803\ttotal: 18s\tremaining: 2m 22s\n",
      "45:\tlearn: 0.3658619\ttotal: 18.4s\tremaining: 2m 21s\n",
      "46:\tlearn: 0.3634513\ttotal: 18.8s\tremaining: 2m 21s\n",
      "47:\tlearn: 0.3610715\ttotal: 19.2s\tremaining: 2m 21s\n",
      "48:\tlearn: 0.3591621\ttotal: 19.6s\tremaining: 2m 20s\n",
      "49:\tlearn: 0.3565376\ttotal: 20s\tremaining: 2m 19s\n",
      "50:\tlearn: 0.3534661\ttotal: 20.4s\tremaining: 2m 19s\n",
      "51:\tlearn: 0.3508609\ttotal: 20.8s\tremaining: 2m 19s\n",
      "52:\tlearn: 0.3494307\ttotal: 21.2s\tremaining: 2m 18s\n",
      "53:\tlearn: 0.3467183\ttotal: 21.6s\tremaining: 2m 18s\n",
      "54:\tlearn: 0.3441615\ttotal: 22s\tremaining: 2m 18s\n",
      "55:\tlearn: 0.3428151\ttotal: 22.4s\tremaining: 2m 17s\n",
      "56:\tlearn: 0.3411043\ttotal: 22.8s\tremaining: 2m 17s\n",
      "57:\tlearn: 0.3390725\ttotal: 23.2s\tremaining: 2m 16s\n",
      "58:\tlearn: 0.3371576\ttotal: 23.6s\tremaining: 2m 16s\n",
      "59:\tlearn: 0.3357004\ttotal: 24s\tremaining: 2m 16s\n",
      "60:\tlearn: 0.3339417\ttotal: 24.4s\tremaining: 2m 15s\n",
      "61:\tlearn: 0.3319578\ttotal: 24.8s\tremaining: 2m 15s\n",
      "62:\tlearn: 0.3303760\ttotal: 25.2s\tremaining: 2m 15s\n",
      "63:\tlearn: 0.3294438\ttotal: 25.6s\tremaining: 2m 14s\n",
      "64:\tlearn: 0.3279621\ttotal: 25.9s\tremaining: 2m 13s\n",
      "65:\tlearn: 0.3258085\ttotal: 26.4s\tremaining: 2m 13s\n",
      "66:\tlearn: 0.3244712\ttotal: 26.7s\tremaining: 2m 12s\n",
      "67:\tlearn: 0.3233710\ttotal: 27s\tremaining: 2m 12s\n",
      "68:\tlearn: 0.3224855\ttotal: 27.4s\tremaining: 2m 11s\n",
      "69:\tlearn: 0.3214256\ttotal: 27.7s\tremaining: 2m 10s\n",
      "70:\tlearn: 0.3197670\ttotal: 28.1s\tremaining: 2m 10s\n",
      "71:\tlearn: 0.3179763\ttotal: 28.5s\tremaining: 2m 9s\n",
      "72:\tlearn: 0.3162181\ttotal: 28.8s\tremaining: 2m 9s\n",
      "73:\tlearn: 0.3150345\ttotal: 29.2s\tremaining: 2m 8s\n",
      "74:\tlearn: 0.3140267\ttotal: 29.6s\tremaining: 2m 8s\n",
      "75:\tlearn: 0.3130697\ttotal: 29.9s\tremaining: 2m 7s\n",
      "76:\tlearn: 0.3121780\ttotal: 30.2s\tremaining: 2m 6s\n",
      "77:\tlearn: 0.3114954\ttotal: 30.6s\tremaining: 2m 6s\n",
      "78:\tlearn: 0.3099611\ttotal: 31s\tremaining: 2m 5s\n",
      "79:\tlearn: 0.3082009\ttotal: 31.4s\tremaining: 2m 5s\n",
      "80:\tlearn: 0.3069096\ttotal: 31.7s\tremaining: 2m 4s\n",
      "81:\tlearn: 0.3055011\ttotal: 32.2s\tremaining: 2m 4s\n",
      "82:\tlearn: 0.3044268\ttotal: 32.5s\tremaining: 2m 4s\n",
      "83:\tlearn: 0.3035267\ttotal: 32.9s\tremaining: 2m 3s\n",
      "84:\tlearn: 0.3026619\ttotal: 33.2s\tremaining: 2m 3s\n",
      "85:\tlearn: 0.3013711\ttotal: 33.6s\tremaining: 2m 2s\n",
      "86:\tlearn: 0.3008684\ttotal: 33.9s\tremaining: 2m 1s\n",
      "87:\tlearn: 0.2997876\ttotal: 34.2s\tremaining: 2m 1s\n",
      "88:\tlearn: 0.2988446\ttotal: 34.6s\tremaining: 2m\n",
      "89:\tlearn: 0.2983699\ttotal: 34.9s\tremaining: 2m\n",
      "90:\tlearn: 0.2969805\ttotal: 35.3s\tremaining: 1m 59s\n",
      "91:\tlearn: 0.2963991\ttotal: 35.6s\tremaining: 1m 59s\n",
      "92:\tlearn: 0.2954396\ttotal: 35.9s\tremaining: 1m 58s\n",
      "93:\tlearn: 0.2948856\ttotal: 36.3s\tremaining: 1m 58s\n",
      "94:\tlearn: 0.2938978\ttotal: 36.6s\tremaining: 1m 57s\n",
      "95:\tlearn: 0.2934765\ttotal: 36.9s\tremaining: 1m 56s\n",
      "96:\tlearn: 0.2928342\ttotal: 37.2s\tremaining: 1m 56s\n",
      "97:\tlearn: 0.2921714\ttotal: 37.5s\tremaining: 1m 55s\n",
      "98:\tlearn: 0.2908309\ttotal: 37.9s\tremaining: 1m 55s\n",
      "99:\tlearn: 0.2902783\ttotal: 38.2s\tremaining: 1m 54s\n",
      "100:\tlearn: 0.2897413\ttotal: 38.5s\tremaining: 1m 54s\n",
      "101:\tlearn: 0.2887293\ttotal: 38.9s\tremaining: 1m 53s\n",
      "102:\tlearn: 0.2877533\ttotal: 39.3s\tremaining: 1m 53s\n",
      "103:\tlearn: 0.2871976\ttotal: 39.6s\tremaining: 1m 52s\n",
      "104:\tlearn: 0.2867624\ttotal: 39.8s\tremaining: 1m 51s\n",
      "105:\tlearn: 0.2856508\ttotal: 40.2s\tremaining: 1m 51s\n",
      "106:\tlearn: 0.2853716\ttotal: 40.5s\tremaining: 1m 50s\n",
      "107:\tlearn: 0.2849407\ttotal: 40.8s\tremaining: 1m 50s\n",
      "108:\tlearn: 0.2847888\ttotal: 41.1s\tremaining: 1m 49s\n",
      "109:\tlearn: 0.2843236\ttotal: 41.4s\tremaining: 1m 49s\n",
      "110:\tlearn: 0.2833338\ttotal: 41.7s\tremaining: 1m 48s\n",
      "111:\tlearn: 0.2829271\ttotal: 42s\tremaining: 1m 48s\n",
      "112:\tlearn: 0.2817118\ttotal: 42.4s\tremaining: 1m 47s\n",
      "113:\tlearn: 0.2808522\ttotal: 42.8s\tremaining: 1m 47s\n",
      "114:\tlearn: 0.2802591\ttotal: 43.1s\tremaining: 1m 46s\n",
      "115:\tlearn: 0.2799272\ttotal: 43.4s\tremaining: 1m 46s\n",
      "116:\tlearn: 0.2798171\ttotal: 43.6s\tremaining: 1m 45s\n",
      "117:\tlearn: 0.2794117\ttotal: 44s\tremaining: 1m 45s\n",
      "118:\tlearn: 0.2784286\ttotal: 44.3s\tremaining: 1m 44s\n",
      "119:\tlearn: 0.2775579\ttotal: 44.6s\tremaining: 1m 44s\n",
      "120:\tlearn: 0.2770885\ttotal: 45s\tremaining: 1m 43s\n",
      "121:\tlearn: 0.2769254\ttotal: 45.2s\tremaining: 1m 43s\n",
      "122:\tlearn: 0.2763631\ttotal: 45.5s\tremaining: 1m 42s\n",
      "123:\tlearn: 0.2760985\ttotal: 45.8s\tremaining: 1m 41s\n",
      "124:\tlearn: 0.2757521\ttotal: 46.1s\tremaining: 1m 41s\n",
      "125:\tlearn: 0.2744049\ttotal: 46.5s\tremaining: 1m 41s\n",
      "126:\tlearn: 0.2741075\ttotal: 46.8s\tremaining: 1m 40s\n",
      "127:\tlearn: 0.2739678\ttotal: 47s\tremaining: 1m 39s\n",
      "128:\tlearn: 0.2731102\ttotal: 47.4s\tremaining: 1m 39s\n",
      "129:\tlearn: 0.2728226\ttotal: 47.7s\tremaining: 1m 39s\n",
      "130:\tlearn: 0.2722563\ttotal: 48s\tremaining: 1m 38s\n",
      "131:\tlearn: 0.2719216\ttotal: 48.3s\tremaining: 1m 38s\n",
      "132:\tlearn: 0.2716501\ttotal: 48.6s\tremaining: 1m 37s\n",
      "133:\tlearn: 0.2708072\ttotal: 48.9s\tremaining: 1m 37s\n",
      "134:\tlearn: 0.2704010\ttotal: 49.2s\tremaining: 1m 36s\n",
      "135:\tlearn: 0.2698653\ttotal: 49.5s\tremaining: 1m 36s\n",
      "136:\tlearn: 0.2696929\ttotal: 49.8s\tremaining: 1m 35s\n",
      "137:\tlearn: 0.2692073\ttotal: 50.1s\tremaining: 1m 35s\n",
      "138:\tlearn: 0.2689510\ttotal: 50.4s\tremaining: 1m 34s\n",
      "139:\tlearn: 0.2684004\ttotal: 50.7s\tremaining: 1m 34s\n",
      "140:\tlearn: 0.2679031\ttotal: 51s\tremaining: 1m 33s\n",
      "141:\tlearn: 0.2674770\ttotal: 51.3s\tremaining: 1m 33s\n",
      "142:\tlearn: 0.2669724\ttotal: 51.6s\tremaining: 1m 32s\n",
      "143:\tlearn: 0.2666317\ttotal: 51.9s\tremaining: 1m 32s\n",
      "144:\tlearn: 0.2665311\ttotal: 52.2s\tremaining: 1m 31s\n",
      "145:\tlearn: 0.2660084\ttotal: 52.5s\tremaining: 1m 31s\n",
      "146:\tlearn: 0.2652859\ttotal: 52.9s\tremaining: 1m 30s\n",
      "147:\tlearn: 0.2651717\ttotal: 53.1s\tremaining: 1m 30s\n",
      "148:\tlearn: 0.2650119\ttotal: 53.4s\tremaining: 1m 29s\n",
      "149:\tlearn: 0.2646194\ttotal: 53.7s\tremaining: 1m 29s\n",
      "150:\tlearn: 0.2641795\ttotal: 54s\tremaining: 1m 29s\n",
      "151:\tlearn: 0.2636740\ttotal: 54.3s\tremaining: 1m 28s\n",
      "152:\tlearn: 0.2631652\ttotal: 54.6s\tremaining: 1m 28s\n",
      "153:\tlearn: 0.2628595\ttotal: 54.9s\tremaining: 1m 27s\n",
      "154:\tlearn: 0.2628445\ttotal: 55.2s\tremaining: 1m 27s\n",
      "155:\tlearn: 0.2623220\ttotal: 55.5s\tremaining: 1m 26s\n",
      "156:\tlearn: 0.2619640\ttotal: 55.8s\tremaining: 1m 26s\n",
      "157:\tlearn: 0.2611799\ttotal: 56.1s\tremaining: 1m 25s\n",
      "158:\tlearn: 0.2608656\ttotal: 56.4s\tremaining: 1m 25s\n",
      "159:\tlearn: 0.2605426\ttotal: 56.6s\tremaining: 1m 24s\n",
      "160:\tlearn: 0.2598206\ttotal: 57s\tremaining: 1m 24s\n",
      "161:\tlearn: 0.2593590\ttotal: 57.4s\tremaining: 1m 24s\n",
      "162:\tlearn: 0.2592032\ttotal: 57.6s\tremaining: 1m 23s\n",
      "163:\tlearn: 0.2591683\ttotal: 57.9s\tremaining: 1m 23s\n",
      "164:\tlearn: 0.2591532\ttotal: 58.1s\tremaining: 1m 22s\n",
      "165:\tlearn: 0.2584873\ttotal: 58.4s\tremaining: 1m 22s\n",
      "166:\tlearn: 0.2582565\ttotal: 58.7s\tremaining: 1m 21s\n",
      "167:\tlearn: 0.2580980\ttotal: 58.9s\tremaining: 1m 21s\n",
      "168:\tlearn: 0.2580871\ttotal: 59.2s\tremaining: 1m 20s\n",
      "169:\tlearn: 0.2572469\ttotal: 59.6s\tremaining: 1m 20s\n",
      "170:\tlearn: 0.2572080\ttotal: 59.8s\tremaining: 1m 20s\n",
      "171:\tlearn: 0.2569756\ttotal: 1m\tremaining: 1m 19s\n",
      "172:\tlearn: 0.2567826\ttotal: 1m\tremaining: 1m 19s\n",
      "173:\tlearn: 0.2566157\ttotal: 1m\tremaining: 1m 18s\n",
      "174:\tlearn: 0.2563193\ttotal: 1m\tremaining: 1m 18s\n",
      "175:\tlearn: 0.2561067\ttotal: 1m 1s\tremaining: 1m 17s\n",
      "176:\tlearn: 0.2558807\ttotal: 1m 1s\tremaining: 1m 17s\n",
      "177:\tlearn: 0.2557692\ttotal: 1m 1s\tremaining: 1m 16s\n",
      "178:\tlearn: 0.2556763\ttotal: 1m 1s\tremaining: 1m 16s\n",
      "179:\tlearn: 0.2552554\ttotal: 1m 2s\tremaining: 1m 16s\n",
      "180:\tlearn: 0.2549937\ttotal: 1m 2s\tremaining: 1m 15s\n",
      "181:\tlearn: 0.2540290\ttotal: 1m 2s\tremaining: 1m 15s\n",
      "182:\tlearn: 0.2535471\ttotal: 1m 3s\tremaining: 1m 14s\n",
      "183:\tlearn: 0.2535398\ttotal: 1m 3s\tremaining: 1m 14s\n",
      "184:\tlearn: 0.2531355\ttotal: 1m 3s\tremaining: 1m 14s\n",
      "185:\tlearn: 0.2528445\ttotal: 1m 4s\tremaining: 1m 13s\n",
      "186:\tlearn: 0.2528355\ttotal: 1m 4s\tremaining: 1m 13s\n",
      "187:\tlearn: 0.2522261\ttotal: 1m 4s\tremaining: 1m 12s\n",
      "188:\tlearn: 0.2521223\ttotal: 1m 4s\tremaining: 1m 12s\n",
      "189:\tlearn: 0.2513691\ttotal: 1m 5s\tremaining: 1m 12s\n",
      "190:\tlearn: 0.2507566\ttotal: 1m 5s\tremaining: 1m 11s\n",
      "191:\tlearn: 0.2502663\ttotal: 1m 5s\tremaining: 1m 11s\n",
      "192:\tlearn: 0.2497195\ttotal: 1m 6s\tremaining: 1m 11s\n",
      "193:\tlearn: 0.2494550\ttotal: 1m 6s\tremaining: 1m 10s\n",
      "194:\tlearn: 0.2492804\ttotal: 1m 6s\tremaining: 1m 10s\n",
      "195:\tlearn: 0.2486411\ttotal: 1m 7s\tremaining: 1m 9s\n",
      "196:\tlearn: 0.2484184\ttotal: 1m 7s\tremaining: 1m 9s\n",
      "197:\tlearn: 0.2482881\ttotal: 1m 7s\tremaining: 1m 9s\n",
      "198:\tlearn: 0.2479967\ttotal: 1m 8s\tremaining: 1m 8s\n",
      "199:\tlearn: 0.2478551\ttotal: 1m 8s\tremaining: 1m 8s\n",
      "200:\tlearn: 0.2477535\ttotal: 1m 8s\tremaining: 1m 7s\n",
      "201:\tlearn: 0.2476515\ttotal: 1m 8s\tremaining: 1m 7s\n",
      "202:\tlearn: 0.2474538\ttotal: 1m 9s\tremaining: 1m 7s\n",
      "203:\tlearn: 0.2469970\ttotal: 1m 9s\tremaining: 1m 6s\n",
      "204:\tlearn: 0.2466571\ttotal: 1m 9s\tremaining: 1m 6s\n",
      "205:\tlearn: 0.2461998\ttotal: 1m 10s\tremaining: 1m 6s\n",
      "206:\tlearn: 0.2457868\ttotal: 1m 10s\tremaining: 1m 5s\n",
      "207:\tlearn: 0.2456631\ttotal: 1m 10s\tremaining: 1m 5s\n",
      "208:\tlearn: 0.2454274\ttotal: 1m 11s\tremaining: 1m 4s\n",
      "209:\tlearn: 0.2452428\ttotal: 1m 11s\tremaining: 1m 4s\n",
      "210:\tlearn: 0.2450719\ttotal: 1m 11s\tremaining: 1m 4s\n",
      "211:\tlearn: 0.2450124\ttotal: 1m 11s\tremaining: 1m 3s\n",
      "212:\tlearn: 0.2448431\ttotal: 1m 12s\tremaining: 1m 3s\n",
      "213:\tlearn: 0.2447836\ttotal: 1m 12s\tremaining: 1m 2s\n",
      "214:\tlearn: 0.2445728\ttotal: 1m 12s\tremaining: 1m 2s\n",
      "215:\tlearn: 0.2445649\ttotal: 1m 12s\tremaining: 1m 2s\n",
      "216:\tlearn: 0.2442942\ttotal: 1m 13s\tremaining: 1m 1s\n",
      "217:\tlearn: 0.2441625\ttotal: 1m 13s\tremaining: 1m 1s\n",
      "218:\tlearn: 0.2439977\ttotal: 1m 13s\tremaining: 1m\n",
      "219:\tlearn: 0.2439917\ttotal: 1m 13s\tremaining: 1m\n",
      "220:\tlearn: 0.2437346\ttotal: 1m 14s\tremaining: 1m\n",
      "221:\tlearn: 0.2435094\ttotal: 1m 14s\tremaining: 59.7s\n",
      "222:\tlearn: 0.2432534\ttotal: 1m 14s\tremaining: 59.3s\n",
      "223:\tlearn: 0.2431937\ttotal: 1m 15s\tremaining: 58.9s\n",
      "224:\tlearn: 0.2430358\ttotal: 1m 15s\tremaining: 58.6s\n",
      "225:\tlearn: 0.2429481\ttotal: 1m 15s\tremaining: 58.2s\n",
      "226:\tlearn: 0.2427267\ttotal: 1m 15s\tremaining: 57.9s\n",
      "227:\tlearn: 0.2425623\ttotal: 1m 16s\tremaining: 57.5s\n",
      "228:\tlearn: 0.2425529\ttotal: 1m 16s\tremaining: 57.1s\n",
      "229:\tlearn: 0.2423555\ttotal: 1m 16s\tremaining: 56.7s\n",
      "230:\tlearn: 0.2420725\ttotal: 1m 17s\tremaining: 56.4s\n",
      "231:\tlearn: 0.2420105\ttotal: 1m 17s\tremaining: 56s\n",
      "232:\tlearn: 0.2418069\ttotal: 1m 17s\tremaining: 55.6s\n",
      "233:\tlearn: 0.2417983\ttotal: 1m 17s\tremaining: 55.2s\n",
      "234:\tlearn: 0.2414502\ttotal: 1m 18s\tremaining: 54.9s\n",
      "235:\tlearn: 0.2411250\ttotal: 1m 18s\tremaining: 54.5s\n",
      "236:\tlearn: 0.2410175\ttotal: 1m 18s\tremaining: 54.2s\n",
      "237:\tlearn: 0.2409297\ttotal: 1m 19s\tremaining: 53.8s\n",
      "238:\tlearn: 0.2407140\ttotal: 1m 19s\tremaining: 53.4s\n",
      "239:\tlearn: 0.2400718\ttotal: 1m 19s\tremaining: 53.1s\n",
      "240:\tlearn: 0.2398667\ttotal: 1m 19s\tremaining: 52.7s\n",
      "241:\tlearn: 0.2396608\ttotal: 1m 20s\tremaining: 52.4s\n",
      "242:\tlearn: 0.2393704\ttotal: 1m 20s\tremaining: 52s\n",
      "243:\tlearn: 0.2389962\ttotal: 1m 20s\tremaining: 51.7s\n",
      "244:\tlearn: 0.2389884\ttotal: 1m 21s\tremaining: 51.3s\n",
      "245:\tlearn: 0.2388332\ttotal: 1m 21s\tremaining: 50.9s\n",
      "246:\tlearn: 0.2386676\ttotal: 1m 21s\tremaining: 50.6s\n",
      "247:\tlearn: 0.2386591\ttotal: 1m 21s\tremaining: 50.2s\n",
      "248:\tlearn: 0.2383831\ttotal: 1m 22s\tremaining: 49.8s\n",
      "249:\tlearn: 0.2381256\ttotal: 1m 22s\tremaining: 49.5s\n",
      "250:\tlearn: 0.2379833\ttotal: 1m 22s\tremaining: 49.1s\n",
      "251:\tlearn: 0.2377829\ttotal: 1m 23s\tremaining: 48.8s\n",
      "252:\tlearn: 0.2375291\ttotal: 1m 23s\tremaining: 48.4s\n",
      "253:\tlearn: 0.2373461\ttotal: 1m 23s\tremaining: 48.1s\n",
      "254:\tlearn: 0.2372105\ttotal: 1m 23s\tremaining: 47.7s\n",
      "255:\tlearn: 0.2369504\ttotal: 1m 24s\tremaining: 47.3s\n",
      "256:\tlearn: 0.2369443\ttotal: 1m 24s\tremaining: 47s\n",
      "257:\tlearn: 0.2365101\ttotal: 1m 24s\tremaining: 46.6s\n",
      "258:\tlearn: 0.2363553\ttotal: 1m 25s\tremaining: 46.3s\n",
      "259:\tlearn: 0.2359774\ttotal: 1m 25s\tremaining: 46s\n",
      "260:\tlearn: 0.2356254\ttotal: 1m 25s\tremaining: 45.7s\n",
      "261:\tlearn: 0.2355545\ttotal: 1m 25s\tremaining: 45.3s\n",
      "262:\tlearn: 0.2352753\ttotal: 1m 26s\tremaining: 45s\n",
      "263:\tlearn: 0.2352631\ttotal: 1m 26s\tremaining: 44.6s\n",
      "264:\tlearn: 0.2351563\ttotal: 1m 26s\tremaining: 44.2s\n",
      "265:\tlearn: 0.2347254\ttotal: 1m 27s\tremaining: 43.9s\n",
      "266:\tlearn: 0.2344375\ttotal: 1m 27s\tremaining: 43.6s\n",
      "267:\tlearn: 0.2343118\ttotal: 1m 27s\tremaining: 43.2s\n",
      "268:\tlearn: 0.2341432\ttotal: 1m 28s\tremaining: 42.9s\n",
      "269:\tlearn: 0.2339810\ttotal: 1m 28s\tremaining: 42.5s\n",
      "270:\tlearn: 0.2339748\ttotal: 1m 28s\tremaining: 42.1s\n",
      "271:\tlearn: 0.2334641\ttotal: 1m 28s\tremaining: 41.8s\n",
      "272:\tlearn: 0.2332190\ttotal: 1m 29s\tremaining: 41.5s\n",
      "273:\tlearn: 0.2327193\ttotal: 1m 29s\tremaining: 41.1s\n",
      "274:\tlearn: 0.2325767\ttotal: 1m 29s\tremaining: 40.8s\n",
      "275:\tlearn: 0.2325137\ttotal: 1m 29s\tremaining: 40.4s\n",
      "276:\tlearn: 0.2323789\ttotal: 1m 30s\tremaining: 40.1s\n",
      "277:\tlearn: 0.2322759\ttotal: 1m 30s\tremaining: 39.8s\n",
      "278:\tlearn: 0.2321778\ttotal: 1m 30s\tremaining: 39.4s\n",
      "279:\tlearn: 0.2319939\ttotal: 1m 31s\tremaining: 39.1s\n",
      "280:\tlearn: 0.2316372\ttotal: 1m 31s\tremaining: 38.7s\n",
      "281:\tlearn: 0.2314201\ttotal: 1m 31s\tremaining: 38.4s\n",
      "282:\tlearn: 0.2313247\ttotal: 1m 32s\tremaining: 38.1s\n",
      "283:\tlearn: 0.2312304\ttotal: 1m 32s\tremaining: 37.7s\n",
      "284:\tlearn: 0.2311940\ttotal: 1m 32s\tremaining: 37.4s\n",
      "285:\tlearn: 0.2310550\ttotal: 1m 32s\tremaining: 37s\n",
      "286:\tlearn: 0.2308307\ttotal: 1m 33s\tremaining: 36.7s\n",
      "287:\tlearn: 0.2305979\ttotal: 1m 33s\tremaining: 36.4s\n",
      "288:\tlearn: 0.2304801\ttotal: 1m 33s\tremaining: 36s\n",
      "289:\tlearn: 0.2304103\ttotal: 1m 34s\tremaining: 35.7s\n",
      "290:\tlearn: 0.2302780\ttotal: 1m 34s\tremaining: 35.3s\n",
      "291:\tlearn: 0.2302721\ttotal: 1m 34s\tremaining: 35s\n",
      "292:\tlearn: 0.2300848\ttotal: 1m 34s\tremaining: 34.7s\n",
      "293:\tlearn: 0.2298431\ttotal: 1m 35s\tremaining: 34.3s\n",
      "294:\tlearn: 0.2293344\ttotal: 1m 35s\tremaining: 34s\n",
      "295:\tlearn: 0.2291249\ttotal: 1m 35s\tremaining: 33.7s\n",
      "296:\tlearn: 0.2290444\ttotal: 1m 36s\tremaining: 33.3s\n",
      "297:\tlearn: 0.2289385\ttotal: 1m 36s\tremaining: 33s\n",
      "298:\tlearn: 0.2286269\ttotal: 1m 36s\tremaining: 32.7s\n",
      "299:\tlearn: 0.2286203\ttotal: 1m 36s\tremaining: 32.3s\n",
      "300:\tlearn: 0.2284840\ttotal: 1m 37s\tremaining: 32s\n",
      "301:\tlearn: 0.2283927\ttotal: 1m 37s\tremaining: 31.6s\n",
      "302:\tlearn: 0.2281285\ttotal: 1m 37s\tremaining: 31.3s\n",
      "303:\tlearn: 0.2278936\ttotal: 1m 38s\tremaining: 31s\n",
      "304:\tlearn: 0.2278180\ttotal: 1m 38s\tremaining: 30.6s\n",
      "305:\tlearn: 0.2275808\ttotal: 1m 38s\tremaining: 30.3s\n",
      "306:\tlearn: 0.2274038\ttotal: 1m 38s\tremaining: 30s\n",
      "307:\tlearn: 0.2272851\ttotal: 1m 39s\tremaining: 29.6s\n",
      "308:\tlearn: 0.2271112\ttotal: 1m 39s\tremaining: 29.3s\n",
      "309:\tlearn: 0.2271046\ttotal: 1m 39s\tremaining: 28.9s\n",
      "310:\tlearn: 0.2268088\ttotal: 1m 40s\tremaining: 28.6s\n",
      "311:\tlearn: 0.2267212\ttotal: 1m 40s\tremaining: 28.3s\n",
      "312:\tlearn: 0.2266435\ttotal: 1m 40s\tremaining: 27.9s\n",
      "313:\tlearn: 0.2264028\ttotal: 1m 40s\tremaining: 27.6s\n",
      "314:\tlearn: 0.2262547\ttotal: 1m 41s\tremaining: 27.3s\n",
      "315:\tlearn: 0.2259958\ttotal: 1m 41s\tremaining: 27s\n",
      "316:\tlearn: 0.2258184\ttotal: 1m 41s\tremaining: 26.6s\n",
      "317:\tlearn: 0.2257776\ttotal: 1m 41s\tremaining: 26.3s\n",
      "318:\tlearn: 0.2254749\ttotal: 1m 42s\tremaining: 26s\n",
      "319:\tlearn: 0.2253912\ttotal: 1m 42s\tremaining: 25.6s\n",
      "320:\tlearn: 0.2252997\ttotal: 1m 42s\tremaining: 25.3s\n",
      "321:\tlearn: 0.2251828\ttotal: 1m 43s\tremaining: 25s\n",
      "322:\tlearn: 0.2249008\ttotal: 1m 43s\tremaining: 24.6s\n",
      "323:\tlearn: 0.2247589\ttotal: 1m 43s\tremaining: 24.3s\n",
      "324:\tlearn: 0.2245100\ttotal: 1m 43s\tremaining: 24s\n",
      "325:\tlearn: 0.2243600\ttotal: 1m 44s\tremaining: 23.7s\n",
      "326:\tlearn: 0.2241705\ttotal: 1m 44s\tremaining: 23.3s\n",
      "327:\tlearn: 0.2240389\ttotal: 1m 44s\tremaining: 23s\n",
      "328:\tlearn: 0.2239997\ttotal: 1m 45s\tremaining: 22.7s\n",
      "329:\tlearn: 0.2239047\ttotal: 1m 45s\tremaining: 22.3s\n",
      "330:\tlearn: 0.2238966\ttotal: 1m 45s\tremaining: 22s\n",
      "331:\tlearn: 0.2238001\ttotal: 1m 45s\tremaining: 21.7s\n",
      "332:\tlearn: 0.2237168\ttotal: 1m 46s\tremaining: 21.3s\n",
      "333:\tlearn: 0.2234922\ttotal: 1m 46s\tremaining: 21s\n",
      "334:\tlearn: 0.2232695\ttotal: 1m 46s\tremaining: 20.7s\n",
      "335:\tlearn: 0.2230345\ttotal: 1m 47s\tremaining: 20.4s\n",
      "336:\tlearn: 0.2229037\ttotal: 1m 47s\tremaining: 20.1s\n",
      "337:\tlearn: 0.2225594\ttotal: 1m 47s\tremaining: 19.7s\n",
      "338:\tlearn: 0.2224594\ttotal: 1m 47s\tremaining: 19.4s\n",
      "339:\tlearn: 0.2223196\ttotal: 1m 48s\tremaining: 19.1s\n",
      "340:\tlearn: 0.2221662\ttotal: 1m 48s\tremaining: 18.8s\n",
      "341:\tlearn: 0.2215878\ttotal: 1m 48s\tremaining: 18.4s\n",
      "342:\tlearn: 0.2210789\ttotal: 1m 49s\tremaining: 18.1s\n",
      "343:\tlearn: 0.2210214\ttotal: 1m 49s\tremaining: 17.8s\n",
      "344:\tlearn: 0.2208148\ttotal: 1m 49s\tremaining: 17.5s\n",
      "345:\tlearn: 0.2207295\ttotal: 1m 49s\tremaining: 17.2s\n",
      "346:\tlearn: 0.2204603\ttotal: 1m 50s\tremaining: 16.8s\n",
      "347:\tlearn: 0.2203915\ttotal: 1m 50s\tremaining: 16.5s\n",
      "348:\tlearn: 0.2200852\ttotal: 1m 50s\tremaining: 16.2s\n",
      "349:\tlearn: 0.2199508\ttotal: 1m 51s\tremaining: 15.9s\n",
      "350:\tlearn: 0.2197919\ttotal: 1m 51s\tremaining: 15.6s\n",
      "351:\tlearn: 0.2196395\ttotal: 1m 51s\tremaining: 15.2s\n",
      "352:\tlearn: 0.2196326\ttotal: 1m 52s\tremaining: 14.9s\n",
      "353:\tlearn: 0.2192494\ttotal: 1m 52s\tremaining: 14.6s\n",
      "354:\tlearn: 0.2189659\ttotal: 1m 52s\tremaining: 14.3s\n",
      "355:\tlearn: 0.2188422\ttotal: 1m 53s\tremaining: 14s\n",
      "356:\tlearn: 0.2186567\ttotal: 1m 53s\tremaining: 13.6s\n",
      "357:\tlearn: 0.2184409\ttotal: 1m 53s\tremaining: 13.3s\n",
      "358:\tlearn: 0.2183772\ttotal: 1m 53s\tremaining: 13s\n",
      "359:\tlearn: 0.2179742\ttotal: 1m 54s\tremaining: 12.7s\n",
      "360:\tlearn: 0.2176100\ttotal: 1m 54s\tremaining: 12.4s\n",
      "361:\tlearn: 0.2174838\ttotal: 1m 54s\tremaining: 12.1s\n",
      "362:\tlearn: 0.2174062\ttotal: 1m 55s\tremaining: 11.7s\n",
      "363:\tlearn: 0.2172519\ttotal: 1m 55s\tremaining: 11.4s\n",
      "364:\tlearn: 0.2171607\ttotal: 1m 55s\tremaining: 11.1s\n",
      "365:\tlearn: 0.2170353\ttotal: 1m 55s\tremaining: 10.8s\n",
      "366:\tlearn: 0.2168466\ttotal: 1m 56s\tremaining: 10.4s\n",
      "367:\tlearn: 0.2168378\ttotal: 1m 56s\tremaining: 10.1s\n",
      "368:\tlearn: 0.2167442\ttotal: 1m 56s\tremaining: 9.81s\n",
      "369:\tlearn: 0.2165002\ttotal: 1m 57s\tremaining: 9.49s\n",
      "370:\tlearn: 0.2163423\ttotal: 1m 57s\tremaining: 9.17s\n",
      "371:\tlearn: 0.2161157\ttotal: 1m 57s\tremaining: 8.86s\n",
      "372:\tlearn: 0.2158409\ttotal: 1m 57s\tremaining: 8.54s\n",
      "373:\tlearn: 0.2158198\ttotal: 1m 58s\tremaining: 8.22s\n",
      "374:\tlearn: 0.2157371\ttotal: 1m 58s\tremaining: 7.9s\n",
      "375:\tlearn: 0.2155228\ttotal: 1m 58s\tremaining: 7.58s\n",
      "376:\tlearn: 0.2153774\ttotal: 1m 59s\tremaining: 7.27s\n",
      "377:\tlearn: 0.2152991\ttotal: 1m 59s\tremaining: 6.95s\n",
      "378:\tlearn: 0.2152621\ttotal: 1m 59s\tremaining: 6.63s\n",
      "379:\tlearn: 0.2151577\ttotal: 1m 59s\tremaining: 6.31s\n",
      "380:\tlearn: 0.2148169\ttotal: 2m\tremaining: 6s\n",
      "381:\tlearn: 0.2147670\ttotal: 2m\tremaining: 5.68s\n",
      "382:\tlearn: 0.2145829\ttotal: 2m\tremaining: 5.36s\n",
      "383:\tlearn: 0.2144968\ttotal: 2m 1s\tremaining: 5.05s\n",
      "384:\tlearn: 0.2144173\ttotal: 2m 1s\tremaining: 4.73s\n",
      "385:\tlearn: 0.2143535\ttotal: 2m 1s\tremaining: 4.41s\n",
      "386:\tlearn: 0.2140587\ttotal: 2m 2s\tremaining: 4.1s\n",
      "387:\tlearn: 0.2139466\ttotal: 2m 2s\tremaining: 3.78s\n",
      "388:\tlearn: 0.2138348\ttotal: 2m 2s\tremaining: 3.47s\n",
      "389:\tlearn: 0.2137540\ttotal: 2m 2s\tremaining: 3.15s\n",
      "390:\tlearn: 0.2136412\ttotal: 2m 3s\tremaining: 2.83s\n",
      "391:\tlearn: 0.2135453\ttotal: 2m 3s\tremaining: 2.52s\n",
      "392:\tlearn: 0.2132285\ttotal: 2m 3s\tremaining: 2.2s\n",
      "393:\tlearn: 0.2130349\ttotal: 2m 3s\tremaining: 1.89s\n",
      "394:\tlearn: 0.2128468\ttotal: 2m 4s\tremaining: 1.57s\n",
      "395:\tlearn: 0.2127412\ttotal: 2m 4s\tremaining: 1.26s\n",
      "396:\tlearn: 0.2125831\ttotal: 2m 4s\tremaining: 943ms\n",
      "397:\tlearn: 0.2124646\ttotal: 2m 5s\tremaining: 629ms\n",
      "398:\tlearn: 0.2121511\ttotal: 2m 5s\tremaining: 314ms\n",
      "399:\tlearn: 0.2119565\ttotal: 2m 5s\tremaining: 0us\n",
      "{'classifier': 'CatBoostClassifier', 'Accuracy': 0.8926, 'TOP-2 Accuracy': 0.9706, 'TOP-3 Accuracy': 0.9913, 'TOP-4 Accuracy': 0.9959, 'TOP-5 Accuracy': 0.9983, 'TOP-6 Accuracy': 0.9996, 'TOP-7 Accuracy': 0.9998, 'TOP-8 Accuracy': 0.9998, 'TOP-9 Accuracy': 0.9999, 'AUC-ROC': 0.9920714333333335, 'Precision': 0.8921774995565931, 'Recall': 0.8925999999999998, 'F1-score': 0.8922088651156581}\n",
      "Fitting XGBClassifier(base_score=None, booster=None, callbacks=None,\n",
      "              colsample_bylevel=None, colsample_bynode=None,\n",
      "              colsample_bytree=None, device='gpu', early_stopping_rounds=None,\n",
      "              enable_categorical=False, eval_metric=None, feature_types=None,\n",
      "              gamma=None, grow_policy=None, importance_type=None,\n",
      "              interaction_constraints=None, learning_rate=None, max_bin=None,\n",
      "              max_cat_threshold=None, max_cat_to_onehot=None,\n",
      "              max_delta_step=None, max_depth=4, max_leaves=None,\n",
      "              min_child_weight=None, missing=nan, monotone_constraints=None,\n",
      "              multi_strategy=None, n_estimators=25, n_jobs=-1,\n",
      "              num_parallel_tree=None, random_state=None, ...)\n"
     ]
    },
    {
     "name": "stderr",
     "output_type": "stream",
     "text": [
      "d:\\Programs\\Programming\\Python\\lib\\site-packages\\xgboost\\core.py:158: UserWarning: [11:43:01] WARNING: C:\\buildkite-agent\\builds\\buildkite-windows-cpu-autoscaling-group-i-0c55ff5f71b100e98-1\\xgboost\\xgboost-ci-windows\\src\\common\\error_msg.cc:58: Falling back to prediction using DMatrix due to mismatched devices. This might lead to higher memory usage and slower performance. XGBoost is running on: cuda:0, while the input data is on: cpu.\n",
      "Potential solutions:\n",
      "- Use a data structure that matches the device ordinal in the booster.\n",
      "- Set the device for booster before call to inplace_predict.\n",
      "\n",
      "This warning will only be shown once.\n",
      "\n",
      "  warnings.warn(smsg, UserWarning)\n"
     ]
    },
    {
     "name": "stdout",
     "output_type": "stream",
     "text": [
      "{'classifier': 'XGBClassifier', 'Accuracy': 0.8806, 'TOP-2 Accuracy': 0.9677, 'TOP-3 Accuracy': 0.9882, 'TOP-4 Accuracy': 0.9942, 'TOP-5 Accuracy': 0.9978, 'TOP-6 Accuracy': 0.9992, 'TOP-7 Accuracy': 0.9998, 'TOP-8 Accuracy': 0.9999, 'TOP-9 Accuracy': 0.9999, 'AUC-ROC': 0.9901838666666665, 'Precision': 0.8800416583220324, 'Recall': 0.8805999999999999, 'F1-score': 0.8800769793970732}\n"
     ]
    },
    {
     "data": {
      "text/html": [
       "<div>\n",
       "<style scoped>\n",
       "    .dataframe tbody tr th:only-of-type {\n",
       "        vertical-align: middle;\n",
       "    }\n",
       "\n",
       "    .dataframe tbody tr th {\n",
       "        vertical-align: top;\n",
       "    }\n",
       "\n",
       "    .dataframe thead th {\n",
       "        text-align: right;\n",
       "    }\n",
       "</style>\n",
       "<table border=\"1\" class=\"dataframe\">\n",
       "  <thead>\n",
       "    <tr style=\"text-align: right;\">\n",
       "      <th></th>\n",
       "      <th>classifier</th>\n",
       "      <th>Accuracy</th>\n",
       "      <th>TOP-2 Accuracy</th>\n",
       "      <th>TOP-3 Accuracy</th>\n",
       "      <th>TOP-4 Accuracy</th>\n",
       "      <th>TOP-5 Accuracy</th>\n",
       "      <th>TOP-6 Accuracy</th>\n",
       "      <th>TOP-7 Accuracy</th>\n",
       "      <th>TOP-8 Accuracy</th>\n",
       "      <th>TOP-9 Accuracy</th>\n",
       "      <th>AUC-ROC</th>\n",
       "      <th>Precision</th>\n",
       "      <th>Recall</th>\n",
       "      <th>F1-score</th>\n",
       "    </tr>\n",
       "  </thead>\n",
       "  <tbody>\n",
       "    <tr>\n",
       "      <th>0</th>\n",
       "      <td>KNeighborsClassifier</td>\n",
       "      <td>0.7357</td>\n",
       "      <td>0.8803</td>\n",
       "      <td>0.9436</td>\n",
       "      <td>0.9687</td>\n",
       "      <td>0.9833</td>\n",
       "      <td>0.9920</td>\n",
       "      <td>0.9955</td>\n",
       "      <td>0.9972</td>\n",
       "      <td>0.9986</td>\n",
       "      <td>0.964275</td>\n",
       "      <td>0.742743</td>\n",
       "      <td>0.7357</td>\n",
       "      <td>0.734167</td>\n",
       "    </tr>\n",
       "    <tr>\n",
       "      <th>1</th>\n",
       "      <td>RandomForestClassifier</td>\n",
       "      <td>0.8792</td>\n",
       "      <td>0.9638</td>\n",
       "      <td>0.9855</td>\n",
       "      <td>0.9930</td>\n",
       "      <td>0.9964</td>\n",
       "      <td>0.9987</td>\n",
       "      <td>0.9992</td>\n",
       "      <td>0.9994</td>\n",
       "      <td>0.9996</td>\n",
       "      <td>0.989466</td>\n",
       "      <td>0.877910</td>\n",
       "      <td>0.8792</td>\n",
       "      <td>0.878130</td>\n",
       "    </tr>\n",
       "    <tr>\n",
       "      <th>2</th>\n",
       "      <td>NNClassifier</td>\n",
       "      <td>0.8849</td>\n",
       "      <td>0.9650</td>\n",
       "      <td>0.9867</td>\n",
       "      <td>0.9917</td>\n",
       "      <td>0.9959</td>\n",
       "      <td>0.9986</td>\n",
       "      <td>0.9996</td>\n",
       "      <td>0.9997</td>\n",
       "      <td>1.0000</td>\n",
       "      <td>0.987686</td>\n",
       "      <td>0.883948</td>\n",
       "      <td>0.8849</td>\n",
       "      <td>0.884098</td>\n",
       "    </tr>\n",
       "    <tr>\n",
       "      <th>3</th>\n",
       "      <td>HistGradientBoostingClassifier</td>\n",
       "      <td>0.8635</td>\n",
       "      <td>0.9570</td>\n",
       "      <td>0.9859</td>\n",
       "      <td>0.9923</td>\n",
       "      <td>0.9974</td>\n",
       "      <td>0.9992</td>\n",
       "      <td>0.9999</td>\n",
       "      <td>0.9999</td>\n",
       "      <td>0.9999</td>\n",
       "      <td>0.986950</td>\n",
       "      <td>0.861963</td>\n",
       "      <td>0.8635</td>\n",
       "      <td>0.862243</td>\n",
       "    </tr>\n",
       "    <tr>\n",
       "      <th>4</th>\n",
       "      <td>CatBoostClassifier</td>\n",
       "      <td>0.8926</td>\n",
       "      <td>0.9706</td>\n",
       "      <td>0.9913</td>\n",
       "      <td>0.9959</td>\n",
       "      <td>0.9983</td>\n",
       "      <td>0.9996</td>\n",
       "      <td>0.9998</td>\n",
       "      <td>0.9998</td>\n",
       "      <td>0.9999</td>\n",
       "      <td>0.992071</td>\n",
       "      <td>0.892177</td>\n",
       "      <td>0.8926</td>\n",
       "      <td>0.892209</td>\n",
       "    </tr>\n",
       "    <tr>\n",
       "      <th>5</th>\n",
       "      <td>XGBClassifier</td>\n",
       "      <td>0.8806</td>\n",
       "      <td>0.9677</td>\n",
       "      <td>0.9882</td>\n",
       "      <td>0.9942</td>\n",
       "      <td>0.9978</td>\n",
       "      <td>0.9992</td>\n",
       "      <td>0.9998</td>\n",
       "      <td>0.9999</td>\n",
       "      <td>0.9999</td>\n",
       "      <td>0.990184</td>\n",
       "      <td>0.880042</td>\n",
       "      <td>0.8806</td>\n",
       "      <td>0.880077</td>\n",
       "    </tr>\n",
       "  </tbody>\n",
       "</table>\n",
       "</div>"
      ],
      "text/plain": [
       "                       classifier  Accuracy  TOP-2 Accuracy  TOP-3 Accuracy  \\\n",
       "0            KNeighborsClassifier    0.7357          0.8803          0.9436   \n",
       "1          RandomForestClassifier    0.8792          0.9638          0.9855   \n",
       "2                    NNClassifier    0.8849          0.9650          0.9867   \n",
       "3  HistGradientBoostingClassifier    0.8635          0.9570          0.9859   \n",
       "4              CatBoostClassifier    0.8926          0.9706          0.9913   \n",
       "5                   XGBClassifier    0.8806          0.9677          0.9882   \n",
       "\n",
       "   TOP-4 Accuracy  TOP-5 Accuracy  TOP-6 Accuracy  TOP-7 Accuracy  \\\n",
       "0          0.9687          0.9833          0.9920          0.9955   \n",
       "1          0.9930          0.9964          0.9987          0.9992   \n",
       "2          0.9917          0.9959          0.9986          0.9996   \n",
       "3          0.9923          0.9974          0.9992          0.9999   \n",
       "4          0.9959          0.9983          0.9996          0.9998   \n",
       "5          0.9942          0.9978          0.9992          0.9998   \n",
       "\n",
       "   TOP-8 Accuracy  TOP-9 Accuracy   AUC-ROC  Precision  Recall  F1-score  \n",
       "0          0.9972          0.9986  0.964275   0.742743  0.7357  0.734167  \n",
       "1          0.9994          0.9996  0.989466   0.877910  0.8792  0.878130  \n",
       "2          0.9997          1.0000  0.987686   0.883948  0.8849  0.884098  \n",
       "3          0.9999          0.9999  0.986950   0.861963  0.8635  0.862243  \n",
       "4          0.9998          0.9999  0.992071   0.892177  0.8926  0.892209  \n",
       "5          0.9999          0.9999  0.990184   0.880042  0.8806  0.880077  "
      ]
     },
     "execution_count": 12,
     "metadata": {},
     "output_type": "execute_result"
    },
    {
     "data": {
      "image/png": "[encoded data removed]",
      "text/plain": [
       "<Figure size 1500x1000 with 12 Axes>"
      ]
     },
     "metadata": {},
     "output_type": "display_data"
    }
   ],
   "source": [
    "import cvtda.classification\n",
    "\n",
    "cvtda.classification.classify(train_scaled, train_labels, test_scaled, test_labels, label_names = train.classes)"
   ]
  }
 ],
 "metadata": {
  "kernelspec": {
   "display_name": "Python 3",
   "language": "python",
   "name": "python3"
  },
  "language_info": {
   "codemirror_mode": {
    "name": "ipython",
    "version": 3
   },
   "file_extension": ".py",
   "mimetype": "text/x-python",
   "name": "python",
   "nbconvert_exporter": "python",
   "pygments_lexer": "ipython3",
   "version": "3.10.11"
  }
 },
 "nbformat": 4,
 "nbformat_minor": 2
}
