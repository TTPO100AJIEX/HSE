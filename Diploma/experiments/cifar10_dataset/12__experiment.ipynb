{
 "cells": [
  {
   "cell_type": "code",
   "execution_count": 1,
   "metadata": {},
   "outputs": [],
   "source": [
    "%load_ext autoreload\n",
    "%autoreload 2"
   ]
  },
  {
   "cell_type": "code",
   "execution_count": 2,
   "metadata": {},
   "outputs": [
    {
     "name": "stderr",
     "output_type": "stream",
     "text": [
      "100%|██████████| 50000/50000 [00:01<00:00, 45357.06it/s]\n",
      "100%|██████████| 10000/10000 [00:00<00:00, 37433.10it/s]\n"
     ]
    },
    {
     "data": {
      "text/plain": [
       "((50000, 32, 32, 3), (10000, 32, 32, 3))"
      ]
     },
     "execution_count": 2,
     "metadata": {},
     "output_type": "execute_result"
    }
   ],
   "source": [
    "import tqdm\n",
    "import numpy\n",
    "import torchvision\n",
    "import torchvision.transforms.v2\n",
    "\n",
    "train = torchvision.datasets.CIFAR10('cifar-10', train = True, download = False)\n",
    "test = torchvision.datasets.CIFAR10('cifar-10', train = False, download = False)\n",
    "\n",
    "train_images = numpy.array([ numpy.array(item[0]) for item in tqdm.tqdm(train) ])\n",
    "train_labels = numpy.array([ item[1] for item in train ])\n",
    "\n",
    "test_images = numpy.array([ numpy.array(item[0]) for item in tqdm.tqdm(test) ])\n",
    "test_labels = numpy.array([ item[1] for item in test ])\n",
    "\n",
    "train_images.shape, test_images.shape"
   ]
  },
  {
   "cell_type": "code",
   "execution_count": 3,
   "metadata": {},
   "outputs": [
    {
     "name": "stderr",
     "output_type": "stream",
     "text": [
      "100%|██████████| 50000/50000 [00:01<00:00, 30728.48it/s]\n",
      "100%|██████████| 10000/10000 [00:00<00:00, 31873.19it/s]\n"
     ]
    }
   ],
   "source": [
    "import skimage.color\n",
    "\n",
    "train_images = numpy.array([ skimage.color.rgb2gray(item) for item in tqdm.tqdm(train_images) ])\n",
    "test_images = numpy.array([ skimage.color.rgb2gray(item) for item in tqdm.tqdm(test_images) ])"
   ]
  },
  {
   "cell_type": "code",
   "execution_count": 4,
   "metadata": {},
   "outputs": [],
   "source": [
    "import gtda.diagrams\n",
    "import gtda.homology\n",
    "import cvtda.topology\n",
    "\n",
    "def make_features(train, test):\n",
    "    filtrations_to_diagrams = cvtda.topology.FiltrationsToDiagrams(homology_dimensions = [ 0, 1 ], verbose = True)\n",
    "    train = filtrations_to_diagrams.fit_transform(train)\n",
    "    test = filtrations_to_diagrams.transform(test)\n",
    "    print(train.shape, test.shape)\n",
    "\n",
    "    scaler = gtda.diagrams.Scaler()\n",
    "    train = scaler.fit_transform(train)\n",
    "    test = scaler.transform(test)\n",
    "\n",
    "    if len(train[0]) < 96:\n",
    "        n_bins = 32\n",
    "    elif len(train[0]) < 192:\n",
    "        n_bins = 64\n",
    "    else:\n",
    "        n_bins = 128\n",
    "\n",
    "    print(f\"Bins: {n_bins}\")\n",
    "    digrams_to_features = cvtda.topology.DiagramsToFeatures(batch_size = 625, n_bins = n_bins, verbose = True)\n",
    "    train = digrams_to_features.fit_transform(train)\n",
    "    test = digrams_to_features.transform(test)\n",
    "    print(train.shape, test.shape)\n",
    "    return train, test"
   ]
  },
  {
   "cell_type": "code",
   "execution_count": 5,
   "metadata": {},
   "outputs": [],
   "source": [
    "import cv2\n",
    "import itertools\n",
    "\n",
    "def binarize(image: numpy.ndarray) -> numpy.ndarray:\n",
    "    image = numpy.array(image * 255, dtype = numpy.uint8)\n",
    "    image = cv2.medianBlur(image, 5)\n",
    "    return cv2.adaptiveThreshold(image, 255, cv2.ADAPTIVE_THRESH_MEAN_C, cv2.THRESH_BINARY, 13, 0)"
   ]
  },
  {
   "cell_type": "code",
   "execution_count": 6,
   "metadata": {},
   "outputs": [],
   "source": [
    "def process(train: numpy.ndarray, test: numpy.ndarray):\n",
    "    train_features = [ ]\n",
    "    test_features = [ ]\n",
    "    tr, te = make_features(train, test)\n",
    "    train_features.append(tr)\n",
    "    test_features.append(te)\n",
    "\n",
    "    train = numpy.array([ binarize(item) for item in tqdm.tqdm(train) ])\n",
    "    test = numpy.array([ binarize(item) for item in tqdm.tqdm(test) ])\n",
    "\n",
    "    centers = [ 3, 8, 13, 18, 23, 28 ]\n",
    "    greyscale_to_filtrations = cvtda.topology.GreyscaleToFiltrations(\n",
    "        binarizer_threshold = 0.4,\n",
    "        radial_filtration_centers = list(itertools.product(centers, centers))\n",
    "    )\n",
    "    for i, filtration in enumerate(greyscale_to_filtrations.filtrations_):\n",
    "        print(f\"{i}/{len(greyscale_to_filtrations.filtrations_)}). {filtration}\")\n",
    "        tr, te = make_features(train, test)\n",
    "        train_features.append(tr)\n",
    "        test_features.append(te)\n",
    "    return numpy.hstack(train_features), numpy.hstack(test_features)"
   ]
  },
  {
   "cell_type": "code",
   "execution_count": 7,
   "metadata": {},
   "outputs": [
    {
     "name": "stdout",
     "output_type": "stream",
     "text": [
      "Fitting the persistence\n",
      "Fitting complete\n",
      "Calculating the persistence\n"
     ]
    },
    {
     "name": "stderr",
     "output_type": "stream",
     "text": [
      "100%|██████████| 50000/50000 [00:09<00:00, 5339.40it/s]\n"
     ]
    },
    {
     "name": "stdout",
     "output_type": "stream",
     "text": [
      "Calculating the persistence\n"
     ]
    },
    {
     "name": "stderr",
     "output_type": "stream",
     "text": [
      "100%|██████████| 10000/10000 [00:01<00:00, 7774.50it/s]\n"
     ]
    },
    {
     "name": "stdout",
     "output_type": "stream",
     "text": [
      "(50000, 247, 3) (10000, 222, 3)\n",
      "Bins: 128\n",
      "Fitting the calculator\n",
      "Fitting the filtering\n",
      "Fitting the betti curve\n",
      "Fitting the persistence landscape\n"
     ]
    },
    {
     "name": "stderr",
     "output_type": "stream",
     "text": [
      "Fitting the silhouettes: 100%|██████████| 2/2 [00:01<00:00,  1.40it/s]\n"
     ]
    },
    {
     "name": "stdout",
     "output_type": "stream",
     "text": [
      "Fitting the persistence entropy\n",
      "Fitting the number of points\n"
     ]
    },
    {
     "name": "stderr",
     "output_type": "stream",
     "text": [
      "Fitting the heat kernels: 100%|██████████| 1/1 [00:00<00:00,  1.46it/s]\n",
      "Fitting the persistence images: 100%|██████████| 1/1 [00:00<00:00,  1.28it/s]\n"
     ]
    },
    {
     "name": "stdout",
     "output_type": "stream",
     "text": [
      "Fitting complete\n"
     ]
    },
    {
     "name": "stderr",
     "output_type": "stream",
     "text": [
      "Batch:   0%|          | 0/80 [00:00<?, ?it/s]d:\\Programs\\Programming\\Python\\lib\\site-packages\\joblib\\externals\\loky\\process_executor.py:752: UserWarning: A worker stopped while some jobs were given to the executor. This can be caused by a too short worker timeout or by a memory leak.\n",
      "  warnings.warn(\n",
      "Batch: 100%|██████████| 80/80 [01:49<00:00,  1.37s/it]\n",
      "Batch: 100%|██████████| 16/16 [00:21<00:00,  1.33s/it]\n"
     ]
    },
    {
     "name": "stdout",
     "output_type": "stream",
     "text": [
      "(50000, 70) (10000, 70)\n"
     ]
    },
    {
     "name": "stderr",
     "output_type": "stream",
     "text": [
      "100%|██████████| 50000/50000 [00:04<00:00, 12046.62it/s]\n",
      "100%|██████████| 10000/10000 [00:00<00:00, 11971.32it/s]\n"
     ]
    },
    {
     "name": "stdout",
     "output_type": "stream",
     "text": [
      "0/36). RadialFiltration(center=array([3, 3]), n_jobs=-1)\n",
      "Fitting the persistence\n",
      "Fitting complete\n",
      "Calculating the persistence\n"
     ]
    },
    {
     "name": "stderr",
     "output_type": "stream",
     "text": [
      "100%|██████████| 50000/50000 [00:11<00:00, 4389.04it/s]\n"
     ]
    },
    {
     "name": "stdout",
     "output_type": "stream",
     "text": [
      "Calculating the persistence\n"
     ]
    },
    {
     "name": "stderr",
     "output_type": "stream",
     "text": [
      "100%|██████████| 10000/10000 [00:01<00:00, 5012.53it/s]\n"
     ]
    },
    {
     "name": "stdout",
     "output_type": "stream",
     "text": [
      "(50000, 55, 3) (10000, 50, 3)\n",
      "Bins: 32\n",
      "Fitting the calculator\n",
      "Fitting the filtering\n",
      "Fitting the betti curve\n",
      "Fitting the persistence landscape\n"
     ]
    },
    {
     "name": "stderr",
     "output_type": "stream",
     "text": [
      "Fitting the silhouettes: 100%|██████████| 2/2 [00:00<00:00,  6.17it/s]\n"
     ]
    },
    {
     "name": "stdout",
     "output_type": "stream",
     "text": [
      "Fitting the persistence entropy\n",
      "Fitting the number of points\n"
     ]
    },
    {
     "name": "stderr",
     "output_type": "stream",
     "text": [
      "Fitting the heat kernels: 100%|██████████| 1/1 [00:00<00:00,  6.21it/s]\n",
      "Fitting the persistence images: 100%|██████████| 1/1 [00:00<00:00,  5.59it/s]\n"
     ]
    },
    {
     "name": "stdout",
     "output_type": "stream",
     "text": [
      "Fitting complete\n"
     ]
    },
    {
     "name": "stderr",
     "output_type": "stream",
     "text": [
      "Batch: 100%|██████████| 80/80 [00:02<00:00, 37.21it/s]\n",
      "Batch: 100%|██████████| 16/16 [00:00<00:00, 33.76it/s]\n"
     ]
    },
    {
     "name": "stdout",
     "output_type": "stream",
     "text": [
      "(50000, 70) (10000, 70)\n",
      "1/36). RadialFiltration(center=array([3, 8]), n_jobs=-1)\n",
      "Fitting the persistence\n",
      "Fitting complete\n",
      "Calculating the persistence\n"
     ]
    },
    {
     "name": "stderr",
     "output_type": "stream",
     "text": [
      "100%|██████████| 50000/50000 [00:12<00:00, 3995.53it/s]\n"
     ]
    },
    {
     "name": "stdout",
     "output_type": "stream",
     "text": [
      "Calculating the persistence\n"
     ]
    },
    {
     "name": "stderr",
     "output_type": "stream",
     "text": [
      "100%|██████████| 10000/10000 [00:01<00:00, 5186.72it/s]\n"
     ]
    },
    {
     "name": "stdout",
     "output_type": "stream",
     "text": [
      "(50000, 55, 3) (10000, 50, 3)\n",
      "Bins: 32\n",
      "Fitting the calculator\n",
      "Fitting the filtering\n",
      "Fitting the betti curve\n",
      "Fitting the persistence landscape\n"
     ]
    },
    {
     "name": "stderr",
     "output_type": "stream",
     "text": [
      "Fitting the silhouettes: 100%|██████████| 2/2 [00:00<00:00,  6.51it/s]\n"
     ]
    },
    {
     "name": "stdout",
     "output_type": "stream",
     "text": [
      "Fitting the persistence entropy\n",
      "Fitting the number of points\n"
     ]
    },
    {
     "name": "stderr",
     "output_type": "stream",
     "text": [
      "Fitting the heat kernels: 100%|██████████| 1/1 [00:00<00:00,  6.41it/s]\n",
      "Fitting the persistence images: 100%|██████████| 1/1 [00:00<00:00,  5.84it/s]\n"
     ]
    },
    {
     "name": "stdout",
     "output_type": "stream",
     "text": [
      "Fitting complete\n"
     ]
    },
    {
     "name": "stderr",
     "output_type": "stream",
     "text": [
      "Batch: 100%|██████████| 80/80 [00:02<00:00, 39.22it/s]\n",
      "Batch: 100%|██████████| 16/16 [00:00<00:00, 35.87it/s]\n"
     ]
    },
    {
     "name": "stdout",
     "output_type": "stream",
     "text": [
      "(50000, 70) (10000, 70)\n",
      "2/36). RadialFiltration(center=array([ 3, 13]), n_jobs=-1)\n",
      "Fitting the persistence\n",
      "Fitting complete\n",
      "Calculating the persistence\n"
     ]
    },
    {
     "name": "stderr",
     "output_type": "stream",
     "text": [
      "100%|██████████| 50000/50000 [00:11<00:00, 4191.46it/s]\n"
     ]
    },
    {
     "name": "stdout",
     "output_type": "stream",
     "text": [
      "Calculating the persistence\n"
     ]
    },
    {
     "name": "stderr",
     "output_type": "stream",
     "text": [
      "100%|██████████| 10000/10000 [00:01<00:00, 5272.46it/s]\n"
     ]
    },
    {
     "name": "stdout",
     "output_type": "stream",
     "text": [
      "(50000, 55, 3) (10000, 50, 3)\n",
      "Bins: 32\n",
      "Fitting the calculator\n",
      "Fitting the filtering\n",
      "Fitting the betti curve\n",
      "Fitting the persistence landscape\n"
     ]
    },
    {
     "name": "stderr",
     "output_type": "stream",
     "text": [
      "Fitting the silhouettes: 100%|██████████| 2/2 [00:00<00:00,  6.02it/s]\n"
     ]
    },
    {
     "name": "stdout",
     "output_type": "stream",
     "text": [
      "Fitting the persistence entropy\n",
      "Fitting the number of points\n"
     ]
    },
    {
     "name": "stderr",
     "output_type": "stream",
     "text": [
      "Fitting the heat kernels: 100%|██████████| 1/1 [00:00<00:00,  6.58it/s]\n",
      "Fitting the persistence images: 100%|██████████| 1/1 [00:00<00:00,  5.10it/s]\n"
     ]
    },
    {
     "name": "stdout",
     "output_type": "stream",
     "text": [
      "Fitting complete\n"
     ]
    },
    {
     "name": "stderr",
     "output_type": "stream",
     "text": [
      "Batch: 100%|██████████| 80/80 [00:02<00:00, 38.73it/s]\n",
      "Batch: 100%|██████████| 16/16 [00:00<00:00, 34.89it/s]\n"
     ]
    },
    {
     "name": "stdout",
     "output_type": "stream",
     "text": [
      "(50000, 70) (10000, 70)\n",
      "3/36). RadialFiltration(center=array([ 3, 18]), n_jobs=-1)\n",
      "Fitting the persistence\n",
      "Fitting complete\n",
      "Calculating the persistence\n"
     ]
    },
    {
     "name": "stderr",
     "output_type": "stream",
     "text": [
      "100%|██████████| 50000/50000 [00:11<00:00, 4486.43it/s]\n"
     ]
    },
    {
     "name": "stdout",
     "output_type": "stream",
     "text": [
      "Calculating the persistence\n"
     ]
    },
    {
     "name": "stderr",
     "output_type": "stream",
     "text": [
      "100%|██████████| 10000/10000 [00:01<00:00, 5428.95it/s]\n"
     ]
    },
    {
     "name": "stdout",
     "output_type": "stream",
     "text": [
      "(50000, 55, 3) (10000, 50, 3)\n",
      "Bins: 32\n",
      "Fitting the calculator\n",
      "Fitting the filtering\n",
      "Fitting the betti curve\n",
      "Fitting the persistence landscape\n"
     ]
    },
    {
     "name": "stderr",
     "output_type": "stream",
     "text": [
      "Fitting the silhouettes: 100%|██████████| 2/2 [00:00<00:00,  5.76it/s]\n"
     ]
    },
    {
     "name": "stdout",
     "output_type": "stream",
     "text": [
      "Fitting the persistence entropy\n",
      "Fitting the number of points\n"
     ]
    },
    {
     "name": "stderr",
     "output_type": "stream",
     "text": [
      "Fitting the heat kernels: 100%|██████████| 1/1 [00:00<00:00,  5.75it/s]\n",
      "Fitting the persistence images: 100%|██████████| 1/1 [00:00<00:00,  4.70it/s]\n"
     ]
    },
    {
     "name": "stdout",
     "output_type": "stream",
     "text": [
      "Fitting complete\n"
     ]
    },
    {
     "name": "stderr",
     "output_type": "stream",
     "text": [
      "Batch: 100%|██████████| 80/80 [00:02<00:00, 37.32it/s]\n",
      "Batch: 100%|██████████| 16/16 [00:00<00:00, 34.33it/s]\n"
     ]
    },
    {
     "name": "stdout",
     "output_type": "stream",
     "text": [
      "(50000, 70) (10000, 70)\n",
      "4/36). RadialFiltration(center=array([ 3, 23]), n_jobs=-1)\n",
      "Fitting the persistence\n",
      "Fitting complete\n",
      "Calculating the persistence\n"
     ]
    },
    {
     "name": "stderr",
     "output_type": "stream",
     "text": [
      "100%|██████████| 50000/50000 [00:11<00:00, 4393.95it/s]\n"
     ]
    },
    {
     "name": "stdout",
     "output_type": "stream",
     "text": [
      "Calculating the persistence\n"
     ]
    },
    {
     "name": "stderr",
     "output_type": "stream",
     "text": [
      "100%|██████████| 10000/10000 [00:01<00:00, 5562.06it/s]\n"
     ]
    },
    {
     "name": "stdout",
     "output_type": "stream",
     "text": [
      "(50000, 55, 3) (10000, 50, 3)\n",
      "Bins: 32\n",
      "Fitting the calculator\n",
      "Fitting the filtering\n",
      "Fitting the betti curve\n",
      "Fitting the persistence landscape\n"
     ]
    },
    {
     "name": "stderr",
     "output_type": "stream",
     "text": [
      "Fitting the silhouettes: 100%|██████████| 2/2 [00:00<00:00,  6.64it/s]\n"
     ]
    },
    {
     "name": "stdout",
     "output_type": "stream",
     "text": [
      "Fitting the persistence entropy\n",
      "Fitting the number of points\n"
     ]
    },
    {
     "name": "stderr",
     "output_type": "stream",
     "text": [
      "Fitting the heat kernels: 100%|██████████| 1/1 [00:00<00:00,  5.56it/s]\n",
      "Fitting the persistence images: 100%|██████████| 1/1 [00:00<00:00,  5.46it/s]\n"
     ]
    },
    {
     "name": "stdout",
     "output_type": "stream",
     "text": [
      "Fitting complete\n"
     ]
    },
    {
     "name": "stderr",
     "output_type": "stream",
     "text": [
      "Batch: 100%|██████████| 80/80 [00:02<00:00, 39.90it/s]\n",
      "Batch: 100%|██████████| 16/16 [00:00<00:00, 36.30it/s]\n"
     ]
    },
    {
     "name": "stdout",
     "output_type": "stream",
     "text": [
      "(50000, 70) (10000, 70)\n",
      "5/36). RadialFiltration(center=array([ 3, 28]), n_jobs=-1)\n",
      "Fitting the persistence\n",
      "Fitting complete\n",
      "Calculating the persistence\n"
     ]
    },
    {
     "name": "stderr",
     "output_type": "stream",
     "text": [
      "100%|██████████| 50000/50000 [00:11<00:00, 4449.67it/s]\n"
     ]
    },
    {
     "name": "stdout",
     "output_type": "stream",
     "text": [
      "Calculating the persistence\n"
     ]
    },
    {
     "name": "stderr",
     "output_type": "stream",
     "text": [
      "100%|██████████| 10000/10000 [00:01<00:00, 5314.48it/s]\n"
     ]
    },
    {
     "name": "stdout",
     "output_type": "stream",
     "text": [
      "(50000, 55, 3) (10000, 50, 3)\n",
      "Bins: 32\n",
      "Fitting the calculator\n",
      "Fitting the filtering\n",
      "Fitting the betti curve\n",
      "Fitting the persistence landscape\n"
     ]
    },
    {
     "name": "stderr",
     "output_type": "stream",
     "text": [
      "Fitting the silhouettes: 100%|██████████| 2/2 [00:00<00:00,  5.89it/s]\n"
     ]
    },
    {
     "name": "stdout",
     "output_type": "stream",
     "text": [
      "Fitting the persistence entropy\n",
      "Fitting the number of points\n"
     ]
    },
    {
     "name": "stderr",
     "output_type": "stream",
     "text": [
      "Fitting the heat kernels: 100%|██████████| 1/1 [00:00<00:00,  6.49it/s]\n",
      "Fitting the persistence images: 100%|██████████| 1/1 [00:00<00:00,  4.86it/s]\n"
     ]
    },
    {
     "name": "stdout",
     "output_type": "stream",
     "text": [
      "Fitting complete\n"
     ]
    },
    {
     "name": "stderr",
     "output_type": "stream",
     "text": [
      "Batch: 100%|██████████| 80/80 [00:02<00:00, 39.72it/s]\n",
      "Batch: 100%|██████████| 16/16 [00:00<00:00, 36.04it/s]\n"
     ]
    },
    {
     "name": "stdout",
     "output_type": "stream",
     "text": [
      "(50000, 70) (10000, 70)\n",
      "6/36). RadialFiltration(center=array([8, 3]), n_jobs=-1)\n",
      "Fitting the persistence\n",
      "Fitting complete\n",
      "Calculating the persistence\n"
     ]
    },
    {
     "name": "stderr",
     "output_type": "stream",
     "text": [
      "100%|██████████| 50000/50000 [00:11<00:00, 4527.78it/s]\n"
     ]
    },
    {
     "name": "stdout",
     "output_type": "stream",
     "text": [
      "Calculating the persistence\n"
     ]
    },
    {
     "name": "stderr",
     "output_type": "stream",
     "text": [
      "100%|██████████| 10000/10000 [00:01<00:00, 5537.10it/s]\n"
     ]
    },
    {
     "name": "stdout",
     "output_type": "stream",
     "text": [
      "(50000, 55, 3) (10000, 50, 3)\n",
      "Bins: 32\n",
      "Fitting the calculator\n",
      "Fitting the filtering\n",
      "Fitting the betti curve\n",
      "Fitting the persistence landscape\n"
     ]
    },
    {
     "name": "stderr",
     "output_type": "stream",
     "text": [
      "Fitting the silhouettes: 100%|██████████| 2/2 [00:00<00:00,  5.84it/s]\n"
     ]
    },
    {
     "name": "stdout",
     "output_type": "stream",
     "text": [
      "Fitting the persistence entropy\n",
      "Fitting the number of points\n"
     ]
    },
    {
     "name": "stderr",
     "output_type": "stream",
     "text": [
      "Fitting the heat kernels: 100%|██████████| 1/1 [00:00<00:00,  4.83it/s]\n",
      "Fitting the persistence images: 100%|██████████| 1/1 [00:00<00:00,  4.78it/s]\n"
     ]
    },
    {
     "name": "stdout",
     "output_type": "stream",
     "text": [
      "Fitting complete\n"
     ]
    },
    {
     "name": "stderr",
     "output_type": "stream",
     "text": [
      "Batch: 100%|██████████| 80/80 [00:01<00:00, 40.55it/s]\n",
      "Batch: 100%|██████████| 16/16 [00:00<00:00, 36.78it/s]\n"
     ]
    },
    {
     "name": "stdout",
     "output_type": "stream",
     "text": [
      "(50000, 70) (10000, 70)\n",
      "7/36). RadialFiltration(center=array([8, 8]), n_jobs=-1)\n",
      "Fitting the persistence\n",
      "Fitting complete\n",
      "Calculating the persistence\n"
     ]
    },
    {
     "name": "stderr",
     "output_type": "stream",
     "text": [
      "100%|██████████| 50000/50000 [00:11<00:00, 4535.15it/s]\n"
     ]
    },
    {
     "name": "stdout",
     "output_type": "stream",
     "text": [
      "Calculating the persistence\n"
     ]
    },
    {
     "name": "stderr",
     "output_type": "stream",
     "text": [
      "100%|██████████| 10000/10000 [00:01<00:00, 5611.68it/s]\n"
     ]
    },
    {
     "name": "stdout",
     "output_type": "stream",
     "text": [
      "(50000, 55, 3) (10000, 50, 3)\n",
      "Bins: 32\n",
      "Fitting the calculator\n",
      "Fitting the filtering\n",
      "Fitting the betti curve\n",
      "Fitting the persistence landscape\n"
     ]
    },
    {
     "name": "stderr",
     "output_type": "stream",
     "text": [
      "Fitting the silhouettes: 100%|██████████| 2/2 [00:00<00:00,  5.71it/s]\n"
     ]
    },
    {
     "name": "stdout",
     "output_type": "stream",
     "text": [
      "Fitting the persistence entropy\n",
      "Fitting the number of points\n"
     ]
    },
    {
     "name": "stderr",
     "output_type": "stream",
     "text": [
      "Fitting the heat kernels: 100%|██████████| 1/1 [00:00<00:00,  5.29it/s]\n",
      "Fitting the persistence images: 100%|██████████| 1/1 [00:00<00:00,  5.08it/s]\n"
     ]
    },
    {
     "name": "stdout",
     "output_type": "stream",
     "text": [
      "Fitting complete\n"
     ]
    },
    {
     "name": "stderr",
     "output_type": "stream",
     "text": [
      "Batch: 100%|██████████| 80/80 [00:01<00:00, 40.73it/s]\n",
      "Batch: 100%|██████████| 16/16 [00:00<00:00, 34.33it/s]\n"
     ]
    },
    {
     "name": "stdout",
     "output_type": "stream",
     "text": [
      "(50000, 70) (10000, 70)\n",
      "8/36). RadialFiltration(center=array([ 8, 13]), n_jobs=-1)\n",
      "Fitting the persistence\n",
      "Fitting complete\n",
      "Calculating the persistence\n"
     ]
    },
    {
     "name": "stderr",
     "output_type": "stream",
     "text": [
      "100%|██████████| 50000/50000 [00:10<00:00, 4568.71it/s]\n"
     ]
    },
    {
     "name": "stdout",
     "output_type": "stream",
     "text": [
      "Calculating the persistence\n"
     ]
    },
    {
     "name": "stderr",
     "output_type": "stream",
     "text": [
      "100%|██████████| 10000/10000 [00:01<00:00, 5571.16it/s]\n"
     ]
    },
    {
     "name": "stdout",
     "output_type": "stream",
     "text": [
      "(50000, 55, 3) (10000, 50, 3)\n",
      "Bins: 32\n",
      "Fitting the calculator\n",
      "Fitting the filtering\n",
      "Fitting the betti curve\n",
      "Fitting the persistence landscape\n"
     ]
    },
    {
     "name": "stderr",
     "output_type": "stream",
     "text": [
      "Fitting the silhouettes: 100%|██████████| 2/2 [00:00<00:00,  6.39it/s]\n"
     ]
    },
    {
     "name": "stdout",
     "output_type": "stream",
     "text": [
      "Fitting the persistence entropy\n",
      "Fitting the number of points\n"
     ]
    },
    {
     "name": "stderr",
     "output_type": "stream",
     "text": [
      "Fitting the heat kernels: 100%|██████████| 1/1 [00:00<00:00,  6.25it/s]\n",
      "Fitting the persistence images: 100%|██████████| 1/1 [00:00<00:00,  4.61it/s]\n"
     ]
    },
    {
     "name": "stdout",
     "output_type": "stream",
     "text": [
      "Fitting complete\n"
     ]
    },
    {
     "name": "stderr",
     "output_type": "stream",
     "text": [
      "Batch: 100%|██████████| 80/80 [00:01<00:00, 40.36it/s]\n",
      "Batch: 100%|██████████| 16/16 [00:00<00:00, 35.87it/s]\n"
     ]
    },
    {
     "name": "stdout",
     "output_type": "stream",
     "text": [
      "(50000, 70) (10000, 70)\n",
      "9/36). RadialFiltration(center=array([ 8, 18]), n_jobs=-1)\n",
      "Fitting the persistence\n",
      "Fitting complete\n",
      "Calculating the persistence\n"
     ]
    },
    {
     "name": "stderr",
     "output_type": "stream",
     "text": [
      "100%|██████████| 50000/50000 [00:11<00:00, 4542.98it/s]\n"
     ]
    },
    {
     "name": "stdout",
     "output_type": "stream",
     "text": [
      "Calculating the persistence\n"
     ]
    },
    {
     "name": "stderr",
     "output_type": "stream",
     "text": [
      "100%|██████████| 10000/10000 [00:01<00:00, 5571.05it/s]\n"
     ]
    },
    {
     "name": "stdout",
     "output_type": "stream",
     "text": [
      "(50000, 55, 3) (10000, 50, 3)\n",
      "Bins: 32\n",
      "Fitting the calculator\n",
      "Fitting the filtering\n",
      "Fitting the betti curve\n",
      "Fitting the persistence landscape\n"
     ]
    },
    {
     "name": "stderr",
     "output_type": "stream",
     "text": [
      "Fitting the silhouettes: 100%|██████████| 2/2 [00:00<00:00,  5.08it/s]\n"
     ]
    },
    {
     "name": "stdout",
     "output_type": "stream",
     "text": [
      "Fitting the persistence entropy\n",
      "Fitting the number of points\n"
     ]
    },
    {
     "name": "stderr",
     "output_type": "stream",
     "text": [
      "Fitting the heat kernels: 100%|██████████| 1/1 [00:00<00:00,  5.26it/s]\n",
      "Fitting the persistence images: 100%|██████████| 1/1 [00:00<00:00,  4.31it/s]\n"
     ]
    },
    {
     "name": "stdout",
     "output_type": "stream",
     "text": [
      "Fitting complete\n"
     ]
    },
    {
     "name": "stderr",
     "output_type": "stream",
     "text": [
      "Batch: 100%|██████████| 80/80 [00:02<00:00, 39.51it/s]\n",
      "Batch: 100%|██████████| 16/16 [00:00<00:00, 35.32it/s]\n"
     ]
    },
    {
     "name": "stdout",
     "output_type": "stream",
     "text": [
      "(50000, 70) (10000, 70)\n",
      "10/36). RadialFiltration(center=array([ 8, 23]), n_jobs=-1)\n",
      "Fitting the persistence\n",
      "Fitting complete\n",
      "Calculating the persistence\n"
     ]
    },
    {
     "name": "stderr",
     "output_type": "stream",
     "text": [
      "100%|██████████| 50000/50000 [00:10<00:00, 4572.06it/s]\n"
     ]
    },
    {
     "name": "stdout",
     "output_type": "stream",
     "text": [
      "Calculating the persistence\n"
     ]
    },
    {
     "name": "stderr",
     "output_type": "stream",
     "text": [
      "100%|██████████| 10000/10000 [00:01<00:00, 5770.35it/s]\n"
     ]
    },
    {
     "name": "stdout",
     "output_type": "stream",
     "text": [
      "(50000, 55, 3) (10000, 50, 3)\n",
      "Bins: 32\n",
      "Fitting the calculator\n",
      "Fitting the filtering\n",
      "Fitting the betti curve\n",
      "Fitting the persistence landscape\n"
     ]
    },
    {
     "name": "stderr",
     "output_type": "stream",
     "text": [
      "Fitting the silhouettes: 100%|██████████| 2/2 [00:00<00:00,  5.09it/s]\n"
     ]
    },
    {
     "name": "stdout",
     "output_type": "stream",
     "text": [
      "Fitting the persistence entropy\n",
      "Fitting the number of points\n"
     ]
    },
    {
     "name": "stderr",
     "output_type": "stream",
     "text": [
      "Fitting the heat kernels: 100%|██████████| 1/1 [00:00<00:00,  5.73it/s]\n",
      "Fitting the persistence images: 100%|██████████| 1/1 [00:00<00:00,  4.90it/s]\n"
     ]
    },
    {
     "name": "stdout",
     "output_type": "stream",
     "text": [
      "Fitting complete\n"
     ]
    },
    {
     "name": "stderr",
     "output_type": "stream",
     "text": [
      "Batch: 100%|██████████| 80/80 [00:01<00:00, 40.55it/s]\n",
      "Batch: 100%|██████████| 16/16 [00:00<00:00, 36.12it/s]\n"
     ]
    },
    {
     "name": "stdout",
     "output_type": "stream",
     "text": [
      "(50000, 70) (10000, 70)\n",
      "11/36). RadialFiltration(center=array([ 8, 28]), n_jobs=-1)\n",
      "Fitting the persistence\n",
      "Fitting complete\n",
      "Calculating the persistence\n"
     ]
    },
    {
     "name": "stderr",
     "output_type": "stream",
     "text": [
      "100%|██████████| 50000/50000 [00:10<00:00, 4578.34it/s]\n"
     ]
    },
    {
     "name": "stdout",
     "output_type": "stream",
     "text": [
      "Calculating the persistence\n"
     ]
    },
    {
     "name": "stderr",
     "output_type": "stream",
     "text": [
      "100%|██████████| 10000/10000 [00:01<00:00, 5662.69it/s]\n"
     ]
    },
    {
     "name": "stdout",
     "output_type": "stream",
     "text": [
      "(50000, 55, 3) (10000, 50, 3)\n",
      "Bins: 32\n",
      "Fitting the calculator\n",
      "Fitting the filtering\n",
      "Fitting the betti curve\n",
      "Fitting the persistence landscape\n"
     ]
    },
    {
     "name": "stderr",
     "output_type": "stream",
     "text": [
      "Fitting the silhouettes: 100%|██████████| 2/2 [00:00<00:00,  5.38it/s]\n"
     ]
    },
    {
     "name": "stdout",
     "output_type": "stream",
     "text": [
      "Fitting the persistence entropy\n",
      "Fitting the number of points\n"
     ]
    },
    {
     "name": "stderr",
     "output_type": "stream",
     "text": [
      "Fitting the heat kernels: 100%|██████████| 1/1 [00:00<00:00,  5.13it/s]\n",
      "Fitting the persistence images: 100%|██████████| 1/1 [00:00<00:00,  5.20it/s]\n"
     ]
    },
    {
     "name": "stdout",
     "output_type": "stream",
     "text": [
      "Fitting complete\n"
     ]
    },
    {
     "name": "stderr",
     "output_type": "stream",
     "text": [
      "Batch: 100%|██████████| 80/80 [00:01<00:00, 40.98it/s]\n",
      "Batch: 100%|██████████| 16/16 [00:00<00:00, 36.87it/s]\n"
     ]
    },
    {
     "name": "stdout",
     "output_type": "stream",
     "text": [
      "(50000, 70) (10000, 70)\n",
      "12/36). RadialFiltration(center=array([13,  3]), n_jobs=-1)\n",
      "Fitting the persistence\n",
      "Fitting complete\n",
      "Calculating the persistence\n"
     ]
    },
    {
     "name": "stderr",
     "output_type": "stream",
     "text": [
      "100%|██████████| 50000/50000 [00:11<00:00, 4543.80it/s]\n"
     ]
    },
    {
     "name": "stdout",
     "output_type": "stream",
     "text": [
      "Calculating the persistence\n"
     ]
    },
    {
     "name": "stderr",
     "output_type": "stream",
     "text": [
      "100%|██████████| 10000/10000 [00:01<00:00, 5580.49it/s]\n"
     ]
    },
    {
     "name": "stdout",
     "output_type": "stream",
     "text": [
      "(50000, 55, 3) (10000, 50, 3)\n",
      "Bins: 32\n",
      "Fitting the calculator\n",
      "Fitting the filtering\n",
      "Fitting the betti curve\n",
      "Fitting the persistence landscape\n"
     ]
    },
    {
     "name": "stderr",
     "output_type": "stream",
     "text": [
      "Fitting the silhouettes: 100%|██████████| 2/2 [00:00<00:00,  5.82it/s]\n"
     ]
    },
    {
     "name": "stdout",
     "output_type": "stream",
     "text": [
      "Fitting the persistence entropy\n",
      "Fitting the number of points\n"
     ]
    },
    {
     "name": "stderr",
     "output_type": "stream",
     "text": [
      "Fitting the heat kernels: 100%|██████████| 1/1 [00:00<00:00,  5.68it/s]\n",
      "Fitting the persistence images: 100%|██████████| 1/1 [00:00<00:00,  4.59it/s]\n"
     ]
    },
    {
     "name": "stdout",
     "output_type": "stream",
     "text": [
      "Fitting complete\n"
     ]
    },
    {
     "name": "stderr",
     "output_type": "stream",
     "text": [
      "Batch: 100%|██████████| 80/80 [00:01<00:00, 40.55it/s]\n",
      "Batch: 100%|██████████| 16/16 [00:00<00:00, 37.12it/s]\n"
     ]
    },
    {
     "name": "stdout",
     "output_type": "stream",
     "text": [
      "(50000, 70) (10000, 70)\n",
      "13/36). RadialFiltration(center=array([13,  8]), n_jobs=-1)\n",
      "Fitting the persistence\n",
      "Fitting complete\n",
      "Calculating the persistence\n"
     ]
    },
    {
     "name": "stderr",
     "output_type": "stream",
     "text": [
      "100%|██████████| 50000/50000 [00:10<00:00, 4578.77it/s]\n"
     ]
    },
    {
     "name": "stdout",
     "output_type": "stream",
     "text": [
      "Calculating the persistence\n"
     ]
    },
    {
     "name": "stderr",
     "output_type": "stream",
     "text": [
      "100%|██████████| 10000/10000 [00:01<00:00, 5659.46it/s]\n"
     ]
    },
    {
     "name": "stdout",
     "output_type": "stream",
     "text": [
      "(50000, 55, 3) (10000, 50, 3)\n",
      "Bins: 32\n",
      "Fitting the calculator\n",
      "Fitting the filtering\n",
      "Fitting the betti curve\n",
      "Fitting the persistence landscape\n"
     ]
    },
    {
     "name": "stderr",
     "output_type": "stream",
     "text": [
      "Fitting the silhouettes: 100%|██████████| 2/2 [00:00<00:00,  5.12it/s]\n"
     ]
    },
    {
     "name": "stdout",
     "output_type": "stream",
     "text": [
      "Fitting the persistence entropy\n",
      "Fitting the number of points\n"
     ]
    },
    {
     "name": "stderr",
     "output_type": "stream",
     "text": [
      "Fitting the heat kernels: 100%|██████████| 1/1 [00:00<00:00,  4.92it/s]\n",
      "Fitting the persistence images: 100%|██████████| 1/1 [00:00<00:00,  4.67it/s]\n"
     ]
    },
    {
     "name": "stdout",
     "output_type": "stream",
     "text": [
      "Fitting complete\n"
     ]
    },
    {
     "name": "stderr",
     "output_type": "stream",
     "text": [
      "Batch: 100%|██████████| 80/80 [00:01<00:00, 40.86it/s]\n",
      "Batch: 100%|██████████| 16/16 [00:00<00:00, 36.87it/s]\n"
     ]
    },
    {
     "name": "stdout",
     "output_type": "stream",
     "text": [
      "(50000, 70) (10000, 70)\n",
      "14/36). RadialFiltration(center=array([13, 13]), n_jobs=-1)\n",
      "Fitting the persistence\n",
      "Fitting complete\n",
      "Calculating the persistence\n"
     ]
    },
    {
     "name": "stderr",
     "output_type": "stream",
     "text": [
      "100%|██████████| 50000/50000 [00:10<00:00, 4559.96it/s]\n"
     ]
    },
    {
     "name": "stdout",
     "output_type": "stream",
     "text": [
      "Calculating the persistence\n"
     ]
    },
    {
     "name": "stderr",
     "output_type": "stream",
     "text": [
      "100%|██████████| 10000/10000 [00:01<00:00, 5691.55it/s]\n"
     ]
    },
    {
     "name": "stdout",
     "output_type": "stream",
     "text": [
      "(50000, 55, 3) (10000, 50, 3)\n",
      "Bins: 32\n",
      "Fitting the calculator\n",
      "Fitting the filtering\n",
      "Fitting the betti curve\n",
      "Fitting the persistence landscape\n"
     ]
    },
    {
     "name": "stderr",
     "output_type": "stream",
     "text": [
      "Fitting the silhouettes: 100%|██████████| 2/2 [00:00<00:00,  6.21it/s]\n"
     ]
    },
    {
     "name": "stdout",
     "output_type": "stream",
     "text": [
      "Fitting the persistence entropy\n",
      "Fitting the number of points\n"
     ]
    },
    {
     "name": "stderr",
     "output_type": "stream",
     "text": [
      "Fitting the heat kernels: 100%|██████████| 1/1 [00:00<00:00,  4.90it/s]\n",
      "Fitting the persistence images: 100%|██████████| 1/1 [00:00<00:00,  5.65it/s]\n"
     ]
    },
    {
     "name": "stdout",
     "output_type": "stream",
     "text": [
      "Fitting complete\n"
     ]
    },
    {
     "name": "stderr",
     "output_type": "stream",
     "text": [
      "Batch: 100%|██████████| 80/80 [00:01<00:00, 41.73it/s]\n",
      "Batch: 100%|██████████| 16/16 [00:00<00:00, 38.93it/s]\n"
     ]
    },
    {
     "name": "stdout",
     "output_type": "stream",
     "text": [
      "(50000, 70) (10000, 70)\n",
      "15/36). RadialFiltration(center=array([13, 18]), n_jobs=-1)\n",
      "Fitting the persistence\n",
      "Fitting complete\n",
      "Calculating the persistence\n"
     ]
    },
    {
     "name": "stderr",
     "output_type": "stream",
     "text": [
      "100%|██████████| 50000/50000 [00:10<00:00, 4695.28it/s]\n"
     ]
    },
    {
     "name": "stdout",
     "output_type": "stream",
     "text": [
      "Calculating the persistence\n"
     ]
    },
    {
     "name": "stderr",
     "output_type": "stream",
     "text": [
      "100%|██████████| 10000/10000 [00:01<00:00, 5614.93it/s]\n"
     ]
    },
    {
     "name": "stdout",
     "output_type": "stream",
     "text": [
      "(50000, 55, 3) (10000, 50, 3)\n",
      "Bins: 32\n",
      "Fitting the calculator\n",
      "Fitting the filtering\n",
      "Fitting the betti curve\n",
      "Fitting the persistence landscape\n"
     ]
    },
    {
     "name": "stderr",
     "output_type": "stream",
     "text": [
      "Fitting the silhouettes: 100%|██████████| 2/2 [00:00<00:00,  5.04it/s]\n"
     ]
    },
    {
     "name": "stdout",
     "output_type": "stream",
     "text": [
      "Fitting the persistence entropy\n",
      "Fitting the number of points\n"
     ]
    },
    {
     "name": "stderr",
     "output_type": "stream",
     "text": [
      "Fitting the heat kernels: 100%|██████████| 1/1 [00:00<00:00,  4.97it/s]\n",
      "Fitting the persistence images: 100%|██████████| 1/1 [00:00<00:00,  5.13it/s]\n"
     ]
    },
    {
     "name": "stdout",
     "output_type": "stream",
     "text": [
      "Fitting complete\n"
     ]
    },
    {
     "name": "stderr",
     "output_type": "stream",
     "text": [
      "Batch: 100%|██████████| 80/80 [00:01<00:00, 43.64it/s]\n",
      "Batch: 100%|██████████| 16/16 [00:00<00:00, 38.46it/s]\n"
     ]
    },
    {
     "name": "stdout",
     "output_type": "stream",
     "text": [
      "(50000, 70) (10000, 70)\n",
      "16/36). RadialFiltration(center=array([13, 23]), n_jobs=-1)\n",
      "Fitting the persistence\n",
      "Fitting complete\n",
      "Calculating the persistence\n"
     ]
    },
    {
     "name": "stderr",
     "output_type": "stream",
     "text": [
      "100%|██████████| 50000/50000 [00:10<00:00, 4652.46it/s]\n"
     ]
    },
    {
     "name": "stdout",
     "output_type": "stream",
     "text": [
      "Calculating the persistence\n"
     ]
    },
    {
     "name": "stderr",
     "output_type": "stream",
     "text": [
      "100%|██████████| 10000/10000 [00:01<00:00, 5948.84it/s]\n"
     ]
    },
    {
     "name": "stdout",
     "output_type": "stream",
     "text": [
      "(50000, 55, 3) (10000, 50, 3)\n",
      "Bins: 32\n",
      "Fitting the calculator\n",
      "Fitting the filtering\n",
      "Fitting the betti curve\n",
      "Fitting the persistence landscape\n"
     ]
    },
    {
     "name": "stderr",
     "output_type": "stream",
     "text": [
      "Fitting the silhouettes: 100%|██████████| 2/2 [00:00<00:00,  6.51it/s]\n"
     ]
    },
    {
     "name": "stdout",
     "output_type": "stream",
     "text": [
      "Fitting the persistence entropy\n",
      "Fitting the number of points\n"
     ]
    },
    {
     "name": "stderr",
     "output_type": "stream",
     "text": [
      "Fitting the heat kernels: 100%|██████████| 1/1 [00:00<00:00,  6.54it/s]\n",
      "Fitting the persistence images: 100%|██████████| 1/1 [00:00<00:00,  5.62it/s]\n"
     ]
    },
    {
     "name": "stdout",
     "output_type": "stream",
     "text": [
      "Fitting complete\n"
     ]
    },
    {
     "name": "stderr",
     "output_type": "stream",
     "text": [
      "Batch: 100%|██████████| 80/80 [00:02<00:00, 38.87it/s]\n",
      "Batch: 100%|██████████| 16/16 [00:00<00:00, 32.73it/s]\n"
     ]
    },
    {
     "name": "stdout",
     "output_type": "stream",
     "text": [
      "(50000, 70) (10000, 70)\n",
      "17/36). RadialFiltration(center=array([13, 28]), n_jobs=-1)\n",
      "Fitting the persistence\n",
      "Fitting complete\n",
      "Calculating the persistence\n"
     ]
    },
    {
     "name": "stderr",
     "output_type": "stream",
     "text": [
      "100%|██████████| 50000/50000 [00:10<00:00, 4579.19it/s]\n"
     ]
    },
    {
     "name": "stdout",
     "output_type": "stream",
     "text": [
      "Calculating the persistence\n"
     ]
    },
    {
     "name": "stderr",
     "output_type": "stream",
     "text": [
      "100%|██████████| 10000/10000 [00:01<00:00, 5699.30it/s]\n"
     ]
    },
    {
     "name": "stdout",
     "output_type": "stream",
     "text": [
      "(50000, 55, 3) (10000, 50, 3)\n",
      "Bins: 32\n",
      "Fitting the calculator\n",
      "Fitting the filtering\n",
      "Fitting the betti curve\n",
      "Fitting the persistence landscape\n"
     ]
    },
    {
     "name": "stderr",
     "output_type": "stream",
     "text": [
      "Fitting the silhouettes: 100%|██████████| 2/2 [00:00<00:00,  6.53it/s]\n"
     ]
    },
    {
     "name": "stdout",
     "output_type": "stream",
     "text": [
      "Fitting the persistence entropy\n",
      "Fitting the number of points\n"
     ]
    },
    {
     "name": "stderr",
     "output_type": "stream",
     "text": [
      "Fitting the heat kernels: 100%|██████████| 1/1 [00:00<00:00,  6.54it/s]\n",
      "Fitting the persistence images: 100%|██████████| 1/1 [00:00<00:00,  5.87it/s]\n"
     ]
    },
    {
     "name": "stdout",
     "output_type": "stream",
     "text": [
      "Fitting complete\n"
     ]
    },
    {
     "name": "stderr",
     "output_type": "stream",
     "text": [
      "Batch: 100%|██████████| 80/80 [00:01<00:00, 41.14it/s]\n",
      "Batch: 100%|██████████| 16/16 [00:00<00:00, 38.49it/s]\n"
     ]
    },
    {
     "name": "stdout",
     "output_type": "stream",
     "text": [
      "(50000, 70) (10000, 70)\n",
      "18/36). RadialFiltration(center=array([18,  3]), n_jobs=-1)\n",
      "Fitting the persistence\n",
      "Fitting complete\n",
      "Calculating the persistence\n"
     ]
    },
    {
     "name": "stderr",
     "output_type": "stream",
     "text": [
      "100%|██████████| 50000/50000 [00:10<00:00, 4633.87it/s]\n"
     ]
    },
    {
     "name": "stdout",
     "output_type": "stream",
     "text": [
      "Calculating the persistence\n"
     ]
    },
    {
     "name": "stderr",
     "output_type": "stream",
     "text": [
      "100%|██████████| 10000/10000 [00:01<00:00, 5543.29it/s]\n"
     ]
    },
    {
     "name": "stdout",
     "output_type": "stream",
     "text": [
      "(50000, 55, 3) (10000, 50, 3)\n",
      "Bins: 32\n",
      "Fitting the calculator\n",
      "Fitting the filtering\n",
      "Fitting the betti curve\n",
      "Fitting the persistence landscape\n"
     ]
    },
    {
     "name": "stderr",
     "output_type": "stream",
     "text": [
      "Fitting the silhouettes: 100%|██████████| 2/2 [00:00<00:00,  6.53it/s]\n"
     ]
    },
    {
     "name": "stdout",
     "output_type": "stream",
     "text": [
      "Fitting the persistence entropy\n",
      "Fitting the number of points\n"
     ]
    },
    {
     "name": "stderr",
     "output_type": "stream",
     "text": [
      "Fitting the heat kernels: 100%|██████████| 1/1 [00:00<00:00,  6.78it/s]\n",
      "Fitting the persistence images: 100%|██████████| 1/1 [00:00<00:00,  5.81it/s]\n"
     ]
    },
    {
     "name": "stdout",
     "output_type": "stream",
     "text": [
      "Fitting complete\n"
     ]
    },
    {
     "name": "stderr",
     "output_type": "stream",
     "text": [
      "Batch: 100%|██████████| 80/80 [00:01<00:00, 43.27it/s]\n",
      "Batch: 100%|██████████| 16/16 [00:00<00:00, 39.23it/s]\n"
     ]
    },
    {
     "name": "stdout",
     "output_type": "stream",
     "text": [
      "(50000, 70) (10000, 70)\n",
      "19/36). RadialFiltration(center=array([18,  8]), n_jobs=-1)\n",
      "Fitting the persistence\n",
      "Fitting complete\n",
      "Calculating the persistence\n"
     ]
    },
    {
     "name": "stderr",
     "output_type": "stream",
     "text": [
      "100%|██████████| 50000/50000 [00:10<00:00, 4736.64it/s]\n"
     ]
    },
    {
     "name": "stdout",
     "output_type": "stream",
     "text": [
      "Calculating the persistence\n"
     ]
    },
    {
     "name": "stderr",
     "output_type": "stream",
     "text": [
      "100%|██████████| 10000/10000 [00:01<00:00, 5906.68it/s]\n"
     ]
    },
    {
     "name": "stdout",
     "output_type": "stream",
     "text": [
      "(50000, 55, 3) (10000, 50, 3)\n",
      "Bins: 32\n",
      "Fitting the calculator\n",
      "Fitting the filtering\n",
      "Fitting the betti curve\n",
      "Fitting the persistence landscape\n"
     ]
    },
    {
     "name": "stderr",
     "output_type": "stream",
     "text": [
      "Fitting the silhouettes: 100%|██████████| 2/2 [00:00<00:00,  6.64it/s]\n"
     ]
    },
    {
     "name": "stdout",
     "output_type": "stream",
     "text": [
      "Fitting the persistence entropy\n",
      "Fitting the number of points\n"
     ]
    },
    {
     "name": "stderr",
     "output_type": "stream",
     "text": [
      "Fitting the heat kernels: 100%|██████████| 1/1 [00:00<00:00,  6.58it/s]\n",
      "Fitting the persistence images: 100%|██████████| 1/1 [00:00<00:00,  5.95it/s]\n"
     ]
    },
    {
     "name": "stdout",
     "output_type": "stream",
     "text": [
      "Fitting complete\n"
     ]
    },
    {
     "name": "stderr",
     "output_type": "stream",
     "text": [
      "Batch: 100%|██████████| 80/80 [00:01<00:00, 42.94it/s]\n",
      "Batch: 100%|██████████| 16/16 [00:00<00:00, 39.03it/s]\n"
     ]
    },
    {
     "name": "stdout",
     "output_type": "stream",
     "text": [
      "(50000, 70) (10000, 70)\n",
      "20/36). RadialFiltration(center=array([18, 13]), n_jobs=-1)\n",
      "Fitting the persistence\n",
      "Fitting complete\n",
      "Calculating the persistence\n"
     ]
    },
    {
     "name": "stderr",
     "output_type": "stream",
     "text": [
      "100%|██████████| 50000/50000 [00:10<00:00, 4709.87it/s]\n"
     ]
    },
    {
     "name": "stdout",
     "output_type": "stream",
     "text": [
      "Calculating the persistence\n"
     ]
    },
    {
     "name": "stderr",
     "output_type": "stream",
     "text": [
      "100%|██████████| 10000/10000 [00:01<00:00, 5865.10it/s]\n"
     ]
    },
    {
     "name": "stdout",
     "output_type": "stream",
     "text": [
      "(50000, 55, 3) (10000, 50, 3)\n",
      "Bins: 32\n",
      "Fitting the calculator\n",
      "Fitting the filtering\n",
      "Fitting the betti curve\n",
      "Fitting the persistence landscape\n"
     ]
    },
    {
     "name": "stderr",
     "output_type": "stream",
     "text": [
      "Fitting the silhouettes: 100%|██████████| 2/2 [00:00<00:00,  6.80it/s]\n"
     ]
    },
    {
     "name": "stdout",
     "output_type": "stream",
     "text": [
      "Fitting the persistence entropy\n",
      "Fitting the number of points\n"
     ]
    },
    {
     "name": "stderr",
     "output_type": "stream",
     "text": [
      "Fitting the heat kernels: 100%|██████████| 1/1 [00:00<00:00,  6.25it/s]\n",
      "Fitting the persistence images: 100%|██████████| 1/1 [00:00<00:00,  6.06it/s]\n"
     ]
    },
    {
     "name": "stdout",
     "output_type": "stream",
     "text": [
      "Fitting complete\n"
     ]
    },
    {
     "name": "stderr",
     "output_type": "stream",
     "text": [
      "Batch: 100%|██████████| 80/80 [00:01<00:00, 43.03it/s]\n",
      "Batch: 100%|██████████| 16/16 [00:00<00:00, 38.74it/s]\n"
     ]
    },
    {
     "name": "stdout",
     "output_type": "stream",
     "text": [
      "(50000, 70) (10000, 70)\n",
      "21/36). RadialFiltration(center=array([18, 18]), n_jobs=-1)\n",
      "Fitting the persistence\n",
      "Fitting complete\n",
      "Calculating the persistence\n"
     ]
    },
    {
     "name": "stderr",
     "output_type": "stream",
     "text": [
      "100%|██████████| 50000/50000 [00:10<00:00, 4592.63it/s]\n"
     ]
    },
    {
     "name": "stdout",
     "output_type": "stream",
     "text": [
      "Calculating the persistence\n"
     ]
    },
    {
     "name": "stderr",
     "output_type": "stream",
     "text": [
      "100%|██████████| 10000/10000 [00:01<00:00, 5717.69it/s]\n"
     ]
    },
    {
     "name": "stdout",
     "output_type": "stream",
     "text": [
      "(50000, 55, 3) (10000, 50, 3)\n",
      "Bins: 32\n",
      "Fitting the calculator\n",
      "Fitting the filtering\n",
      "Fitting the betti curve\n",
      "Fitting the persistence landscape\n"
     ]
    },
    {
     "name": "stderr",
     "output_type": "stream",
     "text": [
      "Fitting the silhouettes: 100%|██████████| 2/2 [00:00<00:00,  6.64it/s]\n"
     ]
    },
    {
     "name": "stdout",
     "output_type": "stream",
     "text": [
      "Fitting the persistence entropy\n",
      "Fitting the number of points\n"
     ]
    },
    {
     "name": "stderr",
     "output_type": "stream",
     "text": [
      "Fitting the heat kernels: 100%|██████████| 1/1 [00:00<00:00,  6.66it/s]\n",
      "Fitting the persistence images: 100%|██████████| 1/1 [00:00<00:00,  6.06it/s]\n"
     ]
    },
    {
     "name": "stdout",
     "output_type": "stream",
     "text": [
      "Fitting complete\n"
     ]
    },
    {
     "name": "stderr",
     "output_type": "stream",
     "text": [
      "Batch: 100%|██████████| 80/80 [00:01<00:00, 41.91it/s]\n",
      "Batch: 100%|██████████| 16/16 [00:00<00:00, 38.74it/s]\n"
     ]
    },
    {
     "name": "stdout",
     "output_type": "stream",
     "text": [
      "(50000, 70) (10000, 70)\n",
      "22/36). RadialFiltration(center=array([18, 23]), n_jobs=-1)\n",
      "Fitting the persistence\n",
      "Fitting complete\n",
      "Calculating the persistence\n"
     ]
    },
    {
     "name": "stderr",
     "output_type": "stream",
     "text": [
      "100%|██████████| 50000/50000 [00:10<00:00, 4733.95it/s]\n"
     ]
    },
    {
     "name": "stdout",
     "output_type": "stream",
     "text": [
      "Calculating the persistence\n"
     ]
    },
    {
     "name": "stderr",
     "output_type": "stream",
     "text": [
      "100%|██████████| 10000/10000 [00:01<00:00, 5854.94it/s]\n"
     ]
    },
    {
     "name": "stdout",
     "output_type": "stream",
     "text": [
      "(50000, 55, 3) (10000, 50, 3)\n",
      "Bins: 32\n",
      "Fitting the calculator\n",
      "Fitting the filtering\n",
      "Fitting the betti curve\n",
      "Fitting the persistence landscape\n"
     ]
    },
    {
     "name": "stderr",
     "output_type": "stream",
     "text": [
      "Fitting the silhouettes: 100%|██████████| 2/2 [00:00<00:00,  6.71it/s]\n"
     ]
    },
    {
     "name": "stdout",
     "output_type": "stream",
     "text": [
      "Fitting the persistence entropy\n",
      "Fitting the number of points\n"
     ]
    },
    {
     "name": "stderr",
     "output_type": "stream",
     "text": [
      "Fitting the heat kernels: 100%|██████████| 1/1 [00:00<00:00,  6.64it/s]\n",
      "Fitting the persistence images: 100%|██████████| 1/1 [00:00<00:00,  5.92it/s]\n"
     ]
    },
    {
     "name": "stdout",
     "output_type": "stream",
     "text": [
      "Fitting complete\n"
     ]
    },
    {
     "name": "stderr",
     "output_type": "stream",
     "text": [
      "Batch: 100%|██████████| 80/80 [00:01<00:00, 42.67it/s]\n",
      "Batch: 100%|██████████| 16/16 [00:00<00:00, 38.19it/s]\n"
     ]
    },
    {
     "name": "stdout",
     "output_type": "stream",
     "text": [
      "(50000, 70) (10000, 70)\n",
      "23/36). RadialFiltration(center=array([18, 28]), n_jobs=-1)\n",
      "Fitting the persistence\n",
      "Fitting complete\n",
      "Calculating the persistence\n"
     ]
    },
    {
     "name": "stderr",
     "output_type": "stream",
     "text": [
      "100%|██████████| 50000/50000 [00:10<00:00, 4732.16it/s]\n"
     ]
    },
    {
     "name": "stdout",
     "output_type": "stream",
     "text": [
      "Calculating the persistence\n"
     ]
    },
    {
     "name": "stderr",
     "output_type": "stream",
     "text": [
      "100%|██████████| 10000/10000 [00:01<00:00, 5707.90it/s]\n"
     ]
    },
    {
     "name": "stdout",
     "output_type": "stream",
     "text": [
      "(50000, 55, 3) (10000, 50, 3)\n",
      "Bins: 32\n",
      "Fitting the calculator\n",
      "Fitting the filtering\n",
      "Fitting the betti curve\n",
      "Fitting the persistence landscape\n"
     ]
    },
    {
     "name": "stderr",
     "output_type": "stream",
     "text": [
      "Fitting the silhouettes: 100%|██████████| 2/2 [00:00<00:00,  6.67it/s]\n"
     ]
    },
    {
     "name": "stdout",
     "output_type": "stream",
     "text": [
      "Fitting the persistence entropy\n",
      "Fitting the number of points\n"
     ]
    },
    {
     "name": "stderr",
     "output_type": "stream",
     "text": [
      "Fitting the heat kernels: 100%|██████████| 1/1 [00:00<00:00,  6.62it/s]\n",
      "Fitting the persistence images: 100%|██████████| 1/1 [00:00<00:00,  5.81it/s]\n"
     ]
    },
    {
     "name": "stdout",
     "output_type": "stream",
     "text": [
      "Fitting complete\n"
     ]
    },
    {
     "name": "stderr",
     "output_type": "stream",
     "text": [
      "Batch: 100%|██████████| 80/80 [00:01<00:00, 41.89it/s]\n",
      "Batch: 100%|██████████| 16/16 [00:00<00:00, 38.46it/s]\n"
     ]
    },
    {
     "name": "stdout",
     "output_type": "stream",
     "text": [
      "(50000, 70) (10000, 70)\n",
      "24/36). RadialFiltration(center=array([23,  3]), n_jobs=-1)\n",
      "Fitting the persistence\n",
      "Fitting complete\n",
      "Calculating the persistence\n"
     ]
    },
    {
     "name": "stderr",
     "output_type": "stream",
     "text": [
      "100%|██████████| 50000/50000 [00:10<00:00, 4743.38it/s]\n"
     ]
    },
    {
     "name": "stdout",
     "output_type": "stream",
     "text": [
      "Calculating the persistence\n"
     ]
    },
    {
     "name": "stderr",
     "output_type": "stream",
     "text": [
      "100%|██████████| 10000/10000 [00:01<00:00, 5760.37it/s]\n"
     ]
    },
    {
     "name": "stdout",
     "output_type": "stream",
     "text": [
      "(50000, 55, 3) (10000, 50, 3)\n",
      "Bins: 32\n",
      "Fitting the calculator\n",
      "Fitting the filtering\n",
      "Fitting the betti curve\n",
      "Fitting the persistence landscape\n"
     ]
    },
    {
     "name": "stderr",
     "output_type": "stream",
     "text": [
      "Fitting the silhouettes: 100%|██████████| 2/2 [00:00<00:00,  6.87it/s]\n"
     ]
    },
    {
     "name": "stdout",
     "output_type": "stream",
     "text": [
      "Fitting the persistence entropy\n",
      "Fitting the number of points\n"
     ]
    },
    {
     "name": "stderr",
     "output_type": "stream",
     "text": [
      "Fitting the heat kernels: 100%|██████████| 1/1 [00:00<00:00,  6.45it/s]\n",
      "Fitting the persistence images: 100%|██████████| 1/1 [00:00<00:00,  5.95it/s]\n"
     ]
    },
    {
     "name": "stdout",
     "output_type": "stream",
     "text": [
      "Fitting complete\n"
     ]
    },
    {
     "name": "stderr",
     "output_type": "stream",
     "text": [
      "Batch: 100%|██████████| 80/80 [00:01<00:00, 42.67it/s]\n",
      "Batch: 100%|██████████| 16/16 [00:00<00:00, 39.90it/s]\n"
     ]
    },
    {
     "name": "stdout",
     "output_type": "stream",
     "text": [
      "(50000, 70) (10000, 70)\n",
      "25/36). RadialFiltration(center=array([23,  8]), n_jobs=-1)\n",
      "Fitting the persistence\n",
      "Fitting complete\n",
      "Calculating the persistence\n"
     ]
    },
    {
     "name": "stderr",
     "output_type": "stream",
     "text": [
      "100%|██████████| 50000/50000 [00:10<00:00, 4733.97it/s]\n"
     ]
    },
    {
     "name": "stdout",
     "output_type": "stream",
     "text": [
      "Calculating the persistence\n"
     ]
    },
    {
     "name": "stderr",
     "output_type": "stream",
     "text": [
      "100%|██████████| 10000/10000 [00:01<00:00, 5856.15it/s]\n"
     ]
    },
    {
     "name": "stdout",
     "output_type": "stream",
     "text": [
      "(50000, 55, 3) (10000, 50, 3)\n",
      "Bins: 32\n",
      "Fitting the calculator\n",
      "Fitting the filtering\n",
      "Fitting the betti curve\n",
      "Fitting the persistence landscape\n"
     ]
    },
    {
     "name": "stderr",
     "output_type": "stream",
     "text": [
      "Fitting the silhouettes: 100%|██████████| 2/2 [00:00<00:00,  6.73it/s]\n"
     ]
    },
    {
     "name": "stdout",
     "output_type": "stream",
     "text": [
      "Fitting the persistence entropy\n",
      "Fitting the number of points\n"
     ]
    },
    {
     "name": "stderr",
     "output_type": "stream",
     "text": [
      "Fitting the heat kernels: 100%|██████████| 1/1 [00:00<00:00,  6.66it/s]\n",
      "Fitting the persistence images: 100%|██████████| 1/1 [00:00<00:00,  5.88it/s]\n"
     ]
    },
    {
     "name": "stdout",
     "output_type": "stream",
     "text": [
      "Fitting complete\n"
     ]
    },
    {
     "name": "stderr",
     "output_type": "stream",
     "text": [
      "Batch: 100%|██████████| 80/80 [00:01<00:00, 43.36it/s]\n",
      "Batch: 100%|██████████| 16/16 [00:00<00:00, 38.46it/s]\n"
     ]
    },
    {
     "name": "stdout",
     "output_type": "stream",
     "text": [
      "(50000, 70) (10000, 70)\n",
      "26/36). RadialFiltration(center=array([23, 13]), n_jobs=-1)\n",
      "Fitting the persistence\n",
      "Fitting complete\n",
      "Calculating the persistence\n"
     ]
    },
    {
     "name": "stderr",
     "output_type": "stream",
     "text": [
      "100%|██████████| 50000/50000 [00:10<00:00, 4697.93it/s]\n"
     ]
    },
    {
     "name": "stdout",
     "output_type": "stream",
     "text": [
      "Calculating the persistence\n"
     ]
    },
    {
     "name": "stderr",
     "output_type": "stream",
     "text": [
      "100%|██████████| 10000/10000 [00:01<00:00, 5885.96it/s]\n"
     ]
    },
    {
     "name": "stdout",
     "output_type": "stream",
     "text": [
      "(50000, 55, 3) (10000, 50, 3)\n",
      "Bins: 32\n",
      "Fitting the calculator\n",
      "Fitting the filtering\n",
      "Fitting the betti curve\n",
      "Fitting the persistence landscape\n"
     ]
    },
    {
     "name": "stderr",
     "output_type": "stream",
     "text": [
      "Fitting the silhouettes: 100%|██████████| 2/2 [00:00<00:00,  6.69it/s]\n"
     ]
    },
    {
     "name": "stdout",
     "output_type": "stream",
     "text": [
      "Fitting the persistence entropy\n",
      "Fitting the number of points\n"
     ]
    },
    {
     "name": "stderr",
     "output_type": "stream",
     "text": [
      "Fitting the heat kernels: 100%|██████████| 1/1 [00:00<00:00,  6.58it/s]\n",
      "Fitting the persistence images: 100%|██████████| 1/1 [00:00<00:00,  5.99it/s]\n"
     ]
    },
    {
     "name": "stdout",
     "output_type": "stream",
     "text": [
      "Fitting complete\n"
     ]
    },
    {
     "name": "stderr",
     "output_type": "stream",
     "text": [
      "Batch: 100%|██████████| 80/80 [00:01<00:00, 42.99it/s]\n",
      "Batch: 100%|██████████| 16/16 [00:00<00:00, 39.80it/s]\n"
     ]
    },
    {
     "name": "stdout",
     "output_type": "stream",
     "text": [
      "(50000, 70) (10000, 70)\n",
      "27/36). RadialFiltration(center=array([23, 18]), n_jobs=-1)\n",
      "Fitting the persistence\n",
      "Fitting complete\n",
      "Calculating the persistence\n"
     ]
    },
    {
     "name": "stderr",
     "output_type": "stream",
     "text": [
      "100%|██████████| 50000/50000 [00:10<00:00, 4704.11it/s]\n"
     ]
    },
    {
     "name": "stdout",
     "output_type": "stream",
     "text": [
      "Calculating the persistence\n"
     ]
    },
    {
     "name": "stderr",
     "output_type": "stream",
     "text": [
      "100%|██████████| 10000/10000 [00:01<00:00, 5871.99it/s]\n"
     ]
    },
    {
     "name": "stdout",
     "output_type": "stream",
     "text": [
      "(50000, 55, 3) (10000, 50, 3)\n",
      "Bins: 32\n",
      "Fitting the calculator\n",
      "Fitting the filtering\n",
      "Fitting the betti curve\n",
      "Fitting the persistence landscape\n"
     ]
    },
    {
     "name": "stderr",
     "output_type": "stream",
     "text": [
      "Fitting the silhouettes: 100%|██████████| 2/2 [00:00<00:00,  6.62it/s]\n"
     ]
    },
    {
     "name": "stdout",
     "output_type": "stream",
     "text": [
      "Fitting the persistence entropy\n",
      "Fitting the number of points\n"
     ]
    },
    {
     "name": "stderr",
     "output_type": "stream",
     "text": [
      "Fitting the heat kernels: 100%|██████████| 1/1 [00:00<00:00,  6.25it/s]\n",
      "Fitting the persistence images: 100%|██████████| 1/1 [00:00<00:00,  5.26it/s]\n"
     ]
    },
    {
     "name": "stdout",
     "output_type": "stream",
     "text": [
      "Fitting complete\n"
     ]
    },
    {
     "name": "stderr",
     "output_type": "stream",
     "text": [
      "Batch: 100%|██████████| 80/80 [00:01<00:00, 42.90it/s]\n",
      "Batch: 100%|██████████| 16/16 [00:00<00:00, 38.19it/s]\n"
     ]
    },
    {
     "name": "stdout",
     "output_type": "stream",
     "text": [
      "(50000, 70) (10000, 70)\n",
      "28/36). RadialFiltration(center=array([23, 23]), n_jobs=-1)\n",
      "Fitting the persistence\n",
      "Fitting complete\n",
      "Calculating the persistence\n"
     ]
    },
    {
     "name": "stderr",
     "output_type": "stream",
     "text": [
      "100%|██████████| 50000/50000 [00:10<00:00, 4754.68it/s]\n"
     ]
    },
    {
     "name": "stdout",
     "output_type": "stream",
     "text": [
      "Calculating the persistence\n"
     ]
    },
    {
     "name": "stderr",
     "output_type": "stream",
     "text": [
      "100%|██████████| 10000/10000 [00:01<00:00, 5662.51it/s]\n"
     ]
    },
    {
     "name": "stdout",
     "output_type": "stream",
     "text": [
      "(50000, 55, 3) (10000, 50, 3)\n",
      "Bins: 32\n",
      "Fitting the calculator\n",
      "Fitting the filtering\n",
      "Fitting the betti curve\n",
      "Fitting the persistence landscape\n"
     ]
    },
    {
     "name": "stderr",
     "output_type": "stream",
     "text": [
      "Fitting the silhouettes: 100%|██████████| 2/2 [00:00<00:00,  6.69it/s]\n"
     ]
    },
    {
     "name": "stdout",
     "output_type": "stream",
     "text": [
      "Fitting the persistence entropy\n",
      "Fitting the number of points\n"
     ]
    },
    {
     "name": "stderr",
     "output_type": "stream",
     "text": [
      "Fitting the heat kernels: 100%|██████████| 1/1 [00:00<00:00,  6.79it/s]\n",
      "Fitting the persistence images: 100%|██████████| 1/1 [00:00<00:00,  5.78it/s]\n"
     ]
    },
    {
     "name": "stdout",
     "output_type": "stream",
     "text": [
      "Fitting complete\n"
     ]
    },
    {
     "name": "stderr",
     "output_type": "stream",
     "text": [
      "Batch: 100%|██████████| 80/80 [00:01<00:00, 43.29it/s]\n",
      "Batch: 100%|██████████| 16/16 [00:00<00:00, 38.84it/s]\n"
     ]
    },
    {
     "name": "stdout",
     "output_type": "stream",
     "text": [
      "(50000, 70) (10000, 70)\n",
      "29/36). RadialFiltration(center=array([23, 28]), n_jobs=-1)\n",
      "Fitting the persistence\n",
      "Fitting complete\n",
      "Calculating the persistence\n"
     ]
    },
    {
     "name": "stderr",
     "output_type": "stream",
     "text": [
      "100%|██████████| 50000/50000 [00:10<00:00, 4732.63it/s]\n"
     ]
    },
    {
     "name": "stdout",
     "output_type": "stream",
     "text": [
      "Calculating the persistence\n"
     ]
    },
    {
     "name": "stderr",
     "output_type": "stream",
     "text": [
      "100%|██████████| 10000/10000 [00:01<00:00, 5481.09it/s]\n"
     ]
    },
    {
     "name": "stdout",
     "output_type": "stream",
     "text": [
      "(50000, 55, 3) (10000, 50, 3)\n",
      "Bins: 32\n",
      "Fitting the calculator\n",
      "Fitting the filtering\n",
      "Fitting the betti curve\n",
      "Fitting the persistence landscape\n"
     ]
    },
    {
     "name": "stderr",
     "output_type": "stream",
     "text": [
      "Fitting the silhouettes: 100%|██████████| 2/2 [00:00<00:00,  6.62it/s]\n"
     ]
    },
    {
     "name": "stdout",
     "output_type": "stream",
     "text": [
      "Fitting the persistence entropy\n",
      "Fitting the number of points\n"
     ]
    },
    {
     "name": "stderr",
     "output_type": "stream",
     "text": [
      "Fitting the heat kernels: 100%|██████████| 1/1 [00:00<00:00,  6.60it/s]\n",
      "Fitting the persistence images: 100%|██████████| 1/1 [00:00<00:00,  5.62it/s]\n"
     ]
    },
    {
     "name": "stdout",
     "output_type": "stream",
     "text": [
      "Fitting complete\n"
     ]
    },
    {
     "name": "stderr",
     "output_type": "stream",
     "text": [
      "Batch: 100%|██████████| 80/80 [00:02<00:00, 38.21it/s]\n",
      "Batch: 100%|██████████| 16/16 [00:00<00:00, 36.17it/s]\n"
     ]
    },
    {
     "name": "stdout",
     "output_type": "stream",
     "text": [
      "(50000, 70) (10000, 70)\n",
      "30/36). RadialFiltration(center=array([28,  3]), n_jobs=-1)\n",
      "Fitting the persistence\n",
      "Fitting complete\n",
      "Calculating the persistence\n"
     ]
    },
    {
     "name": "stderr",
     "output_type": "stream",
     "text": [
      "100%|██████████| 50000/50000 [00:10<00:00, 4581.59it/s]\n"
     ]
    },
    {
     "name": "stdout",
     "output_type": "stream",
     "text": [
      "Calculating the persistence\n"
     ]
    },
    {
     "name": "stderr",
     "output_type": "stream",
     "text": [
      "100%|██████████| 10000/10000 [00:01<00:00, 5807.20it/s]\n"
     ]
    },
    {
     "name": "stdout",
     "output_type": "stream",
     "text": [
      "(50000, 55, 3) (10000, 50, 3)\n",
      "Bins: 32\n",
      "Fitting the calculator\n",
      "Fitting the filtering\n",
      "Fitting the betti curve\n",
      "Fitting the persistence landscape\n"
     ]
    },
    {
     "name": "stderr",
     "output_type": "stream",
     "text": [
      "Fitting the silhouettes: 100%|██████████| 2/2 [00:00<00:00,  6.45it/s]\n"
     ]
    },
    {
     "name": "stdout",
     "output_type": "stream",
     "text": [
      "Fitting the persistence entropy\n",
      "Fitting the number of points\n"
     ]
    },
    {
     "name": "stderr",
     "output_type": "stream",
     "text": [
      "Fitting the heat kernels: 100%|██████████| 1/1 [00:00<00:00,  6.48it/s]\n",
      "Fitting the persistence images: 100%|██████████| 1/1 [00:00<00:00,  5.88it/s]\n"
     ]
    },
    {
     "name": "stdout",
     "output_type": "stream",
     "text": [
      "Fitting complete\n"
     ]
    },
    {
     "name": "stderr",
     "output_type": "stream",
     "text": [
      "Batch: 100%|██████████| 80/80 [00:01<00:00, 40.26it/s]\n",
      "Batch: 100%|██████████| 16/16 [00:00<00:00, 38.19it/s]\n"
     ]
    },
    {
     "name": "stdout",
     "output_type": "stream",
     "text": [
      "(50000, 70) (10000, 70)\n",
      "31/36). RadialFiltration(center=array([28,  8]), n_jobs=-1)\n",
      "Fitting the persistence\n",
      "Fitting complete\n",
      "Calculating the persistence\n"
     ]
    },
    {
     "name": "stderr",
     "output_type": "stream",
     "text": [
      "100%|██████████| 50000/50000 [00:10<00:00, 4607.87it/s]\n"
     ]
    },
    {
     "name": "stdout",
     "output_type": "stream",
     "text": [
      "Calculating the persistence\n"
     ]
    },
    {
     "name": "stderr",
     "output_type": "stream",
     "text": [
      "100%|██████████| 10000/10000 [00:01<00:00, 5711.02it/s]\n"
     ]
    },
    {
     "name": "stdout",
     "output_type": "stream",
     "text": [
      "(50000, 55, 3) (10000, 50, 3)\n",
      "Bins: 32\n",
      "Fitting the calculator\n",
      "Fitting the filtering\n",
      "Fitting the betti curve\n",
      "Fitting the persistence landscape\n"
     ]
    },
    {
     "name": "stderr",
     "output_type": "stream",
     "text": [
      "Fitting the silhouettes: 100%|██████████| 2/2 [00:00<00:00,  6.54it/s]\n"
     ]
    },
    {
     "name": "stdout",
     "output_type": "stream",
     "text": [
      "Fitting the persistence entropy\n",
      "Fitting the number of points\n"
     ]
    },
    {
     "name": "stderr",
     "output_type": "stream",
     "text": [
      "Fitting the heat kernels: 100%|██████████| 1/1 [00:00<00:00,  6.57it/s]\n",
      "Fitting the persistence images: 100%|██████████| 1/1 [00:00<00:00,  5.59it/s]\n"
     ]
    },
    {
     "name": "stdout",
     "output_type": "stream",
     "text": [
      "Fitting complete\n"
     ]
    },
    {
     "name": "stderr",
     "output_type": "stream",
     "text": [
      "Batch: 100%|██████████| 80/80 [00:01<00:00, 41.84it/s]\n",
      "Batch: 100%|██████████| 16/16 [00:00<00:00, 38.84it/s]\n"
     ]
    },
    {
     "name": "stdout",
     "output_type": "stream",
     "text": [
      "(50000, 70) (10000, 70)\n",
      "32/36). RadialFiltration(center=array([28, 13]), n_jobs=-1)\n",
      "Fitting the persistence\n",
      "Fitting complete\n",
      "Calculating the persistence\n"
     ]
    },
    {
     "name": "stderr",
     "output_type": "stream",
     "text": [
      "100%|██████████| 50000/50000 [00:10<00:00, 4643.82it/s]\n"
     ]
    },
    {
     "name": "stdout",
     "output_type": "stream",
     "text": [
      "Calculating the persistence\n"
     ]
    },
    {
     "name": "stderr",
     "output_type": "stream",
     "text": [
      "100%|██████████| 10000/10000 [00:01<00:00, 5675.37it/s]\n"
     ]
    },
    {
     "name": "stdout",
     "output_type": "stream",
     "text": [
      "(50000, 55, 3) (10000, 50, 3)\n",
      "Bins: 32\n",
      "Fitting the calculator\n",
      "Fitting the filtering\n",
      "Fitting the betti curve\n",
      "Fitting the persistence landscape\n"
     ]
    },
    {
     "name": "stderr",
     "output_type": "stream",
     "text": [
      "Fitting the silhouettes: 100%|██████████| 2/2 [00:00<00:00,  6.69it/s]\n"
     ]
    },
    {
     "name": "stdout",
     "output_type": "stream",
     "text": [
      "Fitting the persistence entropy\n",
      "Fitting the number of points\n"
     ]
    },
    {
     "name": "stderr",
     "output_type": "stream",
     "text": [
      "Fitting the heat kernels: 100%|██████████| 1/1 [00:00<00:00,  6.45it/s]\n",
      "Fitting the persistence images: 100%|██████████| 1/1 [00:00<00:00,  5.26it/s]\n"
     ]
    },
    {
     "name": "stdout",
     "output_type": "stream",
     "text": [
      "Fitting complete\n"
     ]
    },
    {
     "name": "stderr",
     "output_type": "stream",
     "text": [
      "Batch: 100%|██████████| 80/80 [00:01<00:00, 41.30it/s]\n",
      "Batch: 100%|██████████| 16/16 [00:00<00:00, 39.12it/s]\n"
     ]
    },
    {
     "name": "stdout",
     "output_type": "stream",
     "text": [
      "(50000, 70) (10000, 70)\n",
      "33/36). RadialFiltration(center=array([28, 18]), n_jobs=-1)\n",
      "Fitting the persistence\n",
      "Fitting complete\n",
      "Calculating the persistence\n"
     ]
    },
    {
     "name": "stderr",
     "output_type": "stream",
     "text": [
      "100%|██████████| 50000/50000 [00:10<00:00, 4633.49it/s]\n"
     ]
    },
    {
     "name": "stdout",
     "output_type": "stream",
     "text": [
      "Calculating the persistence\n"
     ]
    },
    {
     "name": "stderr",
     "output_type": "stream",
     "text": [
      "100%|██████████| 10000/10000 [00:01<00:00, 5611.68it/s]\n"
     ]
    },
    {
     "name": "stdout",
     "output_type": "stream",
     "text": [
      "(50000, 55, 3) (10000, 50, 3)\n",
      "Bins: 32\n",
      "Fitting the calculator\n",
      "Fitting the filtering\n",
      "Fitting the betti curve\n",
      "Fitting the persistence landscape\n"
     ]
    },
    {
     "name": "stderr",
     "output_type": "stream",
     "text": [
      "Fitting the silhouettes: 100%|██████████| 2/2 [00:00<00:00,  6.60it/s]\n"
     ]
    },
    {
     "name": "stdout",
     "output_type": "stream",
     "text": [
      "Fitting the persistence entropy\n",
      "Fitting the number of points\n"
     ]
    },
    {
     "name": "stderr",
     "output_type": "stream",
     "text": [
      "Fitting the heat kernels: 100%|██████████| 1/1 [00:00<00:00,  6.67it/s]\n",
      "Fitting the persistence images: 100%|██████████| 1/1 [00:00<00:00,  6.04it/s]\n"
     ]
    },
    {
     "name": "stdout",
     "output_type": "stream",
     "text": [
      "Fitting complete\n"
     ]
    },
    {
     "name": "stderr",
     "output_type": "stream",
     "text": [
      "Batch: 100%|██████████| 80/80 [00:01<00:00, 42.64it/s]\n",
      "Batch: 100%|██████████| 16/16 [00:00<00:00, 38.55it/s]\n"
     ]
    },
    {
     "name": "stdout",
     "output_type": "stream",
     "text": [
      "(50000, 70) (10000, 70)\n",
      "34/36). RadialFiltration(center=array([28, 23]), n_jobs=-1)\n",
      "Fitting the persistence\n",
      "Fitting complete\n",
      "Calculating the persistence\n"
     ]
    },
    {
     "name": "stderr",
     "output_type": "stream",
     "text": [
      "100%|██████████| 50000/50000 [00:10<00:00, 4716.09it/s]\n"
     ]
    },
    {
     "name": "stdout",
     "output_type": "stream",
     "text": [
      "Calculating the persistence\n"
     ]
    },
    {
     "name": "stderr",
     "output_type": "stream",
     "text": [
      "100%|██████████| 10000/10000 [00:01<00:00, 5373.55it/s]\n"
     ]
    },
    {
     "name": "stdout",
     "output_type": "stream",
     "text": [
      "(50000, 55, 3) (10000, 50, 3)\n",
      "Bins: 32\n",
      "Fitting the calculator\n",
      "Fitting the filtering\n",
      "Fitting the betti curve\n",
      "Fitting the persistence landscape\n"
     ]
    },
    {
     "name": "stderr",
     "output_type": "stream",
     "text": [
      "Fitting the silhouettes: 100%|██████████| 2/2 [00:00<00:00,  6.51it/s]\n"
     ]
    },
    {
     "name": "stdout",
     "output_type": "stream",
     "text": [
      "Fitting the persistence entropy\n",
      "Fitting the number of points\n"
     ]
    },
    {
     "name": "stderr",
     "output_type": "stream",
     "text": [
      "Fitting the heat kernels: 100%|██████████| 1/1 [00:00<00:00,  6.13it/s]\n",
      "Fitting the persistence images: 100%|██████████| 1/1 [00:00<00:00,  5.85it/s]\n"
     ]
    },
    {
     "name": "stdout",
     "output_type": "stream",
     "text": [
      "Fitting complete\n"
     ]
    },
    {
     "name": "stderr",
     "output_type": "stream",
     "text": [
      "Batch: 100%|██████████| 80/80 [00:01<00:00, 42.33it/s]\n",
      "Batch: 100%|██████████| 16/16 [00:00<00:00, 38.27it/s]\n"
     ]
    },
    {
     "name": "stdout",
     "output_type": "stream",
     "text": [
      "(50000, 70) (10000, 70)\n",
      "35/36). RadialFiltration(center=array([28, 28]), n_jobs=-1)\n",
      "Fitting the persistence\n",
      "Fitting complete\n",
      "Calculating the persistence\n"
     ]
    },
    {
     "name": "stderr",
     "output_type": "stream",
     "text": [
      "100%|██████████| 50000/50000 [00:10<00:00, 4577.10it/s]\n"
     ]
    },
    {
     "name": "stdout",
     "output_type": "stream",
     "text": [
      "Calculating the persistence\n"
     ]
    },
    {
     "name": "stderr",
     "output_type": "stream",
     "text": [
      "100%|██████████| 10000/10000 [00:01<00:00, 5800.57it/s]\n"
     ]
    },
    {
     "name": "stdout",
     "output_type": "stream",
     "text": [
      "(50000, 55, 3) (10000, 50, 3)\n",
      "Bins: 32\n",
      "Fitting the calculator\n",
      "Fitting the filtering\n",
      "Fitting the betti curve\n",
      "Fitting the persistence landscape\n"
     ]
    },
    {
     "name": "stderr",
     "output_type": "stream",
     "text": [
      "Fitting the silhouettes: 100%|██████████| 2/2 [00:00<00:00,  6.74it/s]\n"
     ]
    },
    {
     "name": "stdout",
     "output_type": "stream",
     "text": [
      "Fitting the persistence entropy\n",
      "Fitting the number of points\n"
     ]
    },
    {
     "name": "stderr",
     "output_type": "stream",
     "text": [
      "Fitting the heat kernels: 100%|██████████| 1/1 [00:00<00:00,  6.89it/s]\n",
      "Fitting the persistence images: 100%|██████████| 1/1 [00:00<00:00,  5.62it/s]\n"
     ]
    },
    {
     "name": "stdout",
     "output_type": "stream",
     "text": [
      "Fitting complete\n"
     ]
    },
    {
     "name": "stderr",
     "output_type": "stream",
     "text": [
      "Batch: 100%|██████████| 80/80 [00:01<00:00, 40.14it/s]\n",
      "Batch: 100%|██████████| 16/16 [00:00<00:00, 35.79it/s]\n"
     ]
    },
    {
     "name": "stdout",
     "output_type": "stream",
     "text": [
      "(50000, 70) (10000, 70)\n"
     ]
    }
   ],
   "source": [
    "train_features, test_features = process(train_images, test_images)\n",
    "numpy.save(f\"12/train.npy\", train_features)\n",
    "numpy.save(f\"12/test.npy\", test_features)"
   ]
  },
  {
   "cell_type": "code",
   "execution_count": 8,
   "metadata": {},
   "outputs": [],
   "source": [
    "import sklearn.preprocessing\n",
    "\n",
    "selected_standard_scaler = sklearn.preprocessing.StandardScaler()\n",
    "train_features = selected_standard_scaler.fit_transform(train_features)\n",
    "test_features = selected_standard_scaler.transform(test_features)"
   ]
  },
  {
   "cell_type": "code",
   "execution_count": 9,
   "metadata": {},
   "outputs": [
    {
     "name": "stdout",
     "output_type": "stream",
     "text": [
      "Fitting KNeighborsClassifier(n_jobs=-1, n_neighbors=50)\n",
      "{'classifier': 'KNeighborsClassifier', 'Accuracy': 0.3143, 'TOP-2 Accuracy': 0.495, 'TOP-3 Accuracy': 0.6185, 'TOP-4 Accuracy': 0.7087, 'TOP-5 Accuracy': 0.7865, 'TOP-6 Accuracy': 0.8507, 'TOP-7 Accuracy': 0.9029, 'TOP-8 Accuracy': 0.943, 'TOP-9 Accuracy': 0.9757, 'AUC-ROC': 0.7493932833333333, 'Precision': 0.3099433279457594, 'Recall': 0.3143, 'F1-score': 0.30561197670255247}\n",
      "Fitting RandomForestClassifier(n_jobs=-1, random_state=42)\n",
      "{'classifier': 'RandomForestClassifier', 'Accuracy': 0.3229, 'TOP-2 Accuracy': 0.5084, 'TOP-3 Accuracy': 0.6292, 'TOP-4 Accuracy': 0.7182, 'TOP-5 Accuracy': 0.7979, 'TOP-6 Accuracy': 0.8581, 'TOP-7 Accuracy': 0.9122, 'TOP-8 Accuracy': 0.9524, 'TOP-9 Accuracy': 0.9819, 'AUC-ROC': 0.7563738166666667, 'Precision': 0.31310629077926977, 'Recall': 0.32289999999999996, 'F1-score': 0.3126254292375938}\n",
      "Fitting <cvtda.classification.nn_classifier.NNClassifier object at 0x000001E2587341C0>\n",
      "Input to LazyLinear: 2590\n",
      "Parameters: 707818\n"
     ]
    },
    {
     "name": "stderr",
     "output_type": "stream",
     "text": [
      "100%|██████████| 25/25 [00:36<00:00,  1.46s/it, loss=1.07e+5, val_acc=0.327]\n"
     ]
    },
    {
     "name": "stdout",
     "output_type": "stream",
     "text": [
      "{'classifier': 'NNClassifier', 'Accuracy': 0.3273, 'TOP-2 Accuracy': 0.5088, 'TOP-3 Accuracy': 0.6252, 'TOP-4 Accuracy': 0.7151, 'TOP-5 Accuracy': 0.7826, 'TOP-6 Accuracy': 0.845, 'TOP-7 Accuracy': 0.9035, 'TOP-8 Accuracy': 0.9501, 'TOP-9 Accuracy': 0.9786, 'AUC-ROC': 0.7468860111111111, 'Precision': 0.29189346368021696, 'Recall': 0.32730000000000004, 'F1-score': 0.3038766611247109}\n",
      "Fitting HistGradientBoostingClassifier(max_depth=4, max_features=0.1, max_iter=20,\n",
      "                               random_state=42, verbose=2)\n",
      "Binning 0.932 GB of training data: 3.737 s\n",
      "Binning 0.104 GB of validation data: 0.050 s\n",
      "Fitting gradient boosted rounds:\n",
      "[1/20] 10 trees, 160 leaves (16 on avg), max depth = 4, train loss: 2.23072, val loss: 2.23403, in 0.914s\n",
      "[2/20] 10 trees, 159 leaves (15 on avg), max depth = 4, train loss: 2.18085, val loss: 2.18771, in 0.899s\n",
      "[3/20] 10 trees, 160 leaves (16 on avg), max depth = 4, train loss: 2.13886, val loss: 2.14966, in 0.935s\n",
      "[4/20] 10 trees, 160 leaves (16 on avg), max depth = 4, train loss: 2.10376, val loss: 2.11802, in 0.938s\n",
      "[5/20] 10 trees, 160 leaves (16 on avg), max depth = 4, train loss: 2.07492, val loss: 2.09269, in 0.926s\n",
      "[6/20] 10 trees, 160 leaves (16 on avg), max depth = 4, train loss: 2.05004, val loss: 2.07024, in 0.905s\n",
      "[7/20] 10 trees, 160 leaves (16 on avg), max depth = 4, train loss: 2.02995, val loss: 2.05281, in 0.920s\n",
      "[8/20] 10 trees, 159 leaves (15 on avg), max depth = 4, train loss: 2.01117, val loss: 2.03637, in 0.908s\n",
      "[9/20] 10 trees, 155 leaves (15 on avg), max depth = 4, train loss: 1.99351, val loss: 2.02130, in 0.912s\n",
      "[10/20] 10 trees, 158 leaves (15 on avg), max depth = 4, train loss: 1.97821, val loss: 2.00866, in 0.895s\n",
      "[11/20] 10 trees, 157 leaves (15 on avg), max depth = 4, train loss: 1.96475, val loss: 1.99726, in 0.913s\n",
      "[12/20] 10 trees, 159 leaves (15 on avg), max depth = 4, train loss: 1.95258, val loss: 1.98735, in 0.880s\n",
      "[13/20] 10 trees, 158 leaves (15 on avg), max depth = 4, train loss: 1.93994, val loss: 1.97674, in 0.894s\n",
      "[14/20] 10 trees, 160 leaves (16 on avg), max depth = 4, train loss: 1.92944, val loss: 1.96870, in 0.916s\n",
      "[15/20] 10 trees, 159 leaves (15 on avg), max depth = 4, train loss: 1.92037, val loss: 1.96178, in 0.896s\n",
      "[16/20] 10 trees, 156 leaves (15 on avg), max depth = 4, train loss: 1.91180, val loss: 1.95539, in 0.873s\n",
      "[17/20] 10 trees, 158 leaves (15 on avg), max depth = 4, train loss: 1.90386, val loss: 1.95007, in 0.869s\n",
      "[18/20] 10 trees, 157 leaves (15 on avg), max depth = 4, train loss: 1.89608, val loss: 1.94472, in 0.876s\n",
      "[19/20] 10 trees, 157 leaves (15 on avg), max depth = 4, train loss: 1.88926, val loss: 1.93994, in 0.864s\n",
      "[20/20] 10 trees, 159 leaves (15 on avg), max depth = 4, train loss: 1.88226, val loss: 1.93548, in 0.902s\n",
      "Fit 200 trees in 22.063 s, (3171 total leaves)\n",
      "Time spent computing histograms: 16.451s\n",
      "Time spent finding best splits:  0.359s\n",
      "Time spent applying splits:      0.083s\n",
      "Time spent predicting:           0.027s\n",
      "{'classifier': 'HistGradientBoostingClassifier', 'Accuracy': 0.3209, 'TOP-2 Accuracy': 0.5097, 'TOP-3 Accuracy': 0.6319, 'TOP-4 Accuracy': 0.729, 'TOP-5 Accuracy': 0.8095, 'TOP-6 Accuracy': 0.8699, 'TOP-7 Accuracy': 0.9151, 'TOP-8 Accuracy': 0.9565, 'TOP-9 Accuracy': 0.9831, 'AUC-ROC': 0.7619702666666669, 'Precision': 0.3097189300445299, 'Recall': 0.3209000000000001, 'F1-score': 0.30643129953460696}\n",
      "Fitting <catboost.core.CatBoostClassifier object at 0x000001E2587342E0>\n",
      "Learning rate set to 0.309284\n",
      "0:\tlearn: 2.1725591\ttotal: 16.4ms\tremaining: 6.55s\n",
      "1:\tlearn: 2.1093833\ttotal: 23.8ms\tremaining: 4.73s\n",
      "2:\tlearn: 2.0712441\ttotal: 29.5ms\tremaining: 3.9s\n",
      "3:\tlearn: 2.0386416\ttotal: 35.9ms\tremaining: 3.55s\n",
      "4:\tlearn: 2.0172598\ttotal: 41.5ms\tremaining: 3.27s\n",
      "5:\tlearn: 1.9990609\ttotal: 48ms\tremaining: 3.15s\n",
      "6:\tlearn: 1.9825297\ttotal: 53.7ms\tremaining: 3.01s\n",
      "7:\tlearn: 1.9722884\ttotal: 58.9ms\tremaining: 2.88s\n",
      "8:\tlearn: 1.9584442\ttotal: 65.2ms\tremaining: 2.83s\n",
      "9:\tlearn: 1.9496430\ttotal: 71.5ms\tremaining: 2.79s\n",
      "10:\tlearn: 1.9418514\ttotal: 77.6ms\tremaining: 2.74s\n",
      "11:\tlearn: 1.9348320\ttotal: 83.3ms\tremaining: 2.69s\n",
      "12:\tlearn: 1.9303706\ttotal: 88.8ms\tremaining: 2.64s\n",
      "13:\tlearn: 1.9231120\ttotal: 95.1ms\tremaining: 2.62s\n",
      "14:\tlearn: 1.9165258\ttotal: 101ms\tremaining: 2.6s\n",
      "15:\tlearn: 1.9105308\ttotal: 108ms\tremaining: 2.58s\n",
      "16:\tlearn: 1.9056845\ttotal: 113ms\tremaining: 2.55s\n",
      "17:\tlearn: 1.9015300\ttotal: 119ms\tremaining: 2.52s\n",
      "18:\tlearn: 1.8968448\ttotal: 125ms\tremaining: 2.5s\n",
      "19:\tlearn: 1.8924964\ttotal: 131ms\tremaining: 2.49s\n",
      "20:\tlearn: 1.8888980\ttotal: 137ms\tremaining: 2.48s\n",
      "21:\tlearn: 1.8833286\ttotal: 144ms\tremaining: 2.48s\n",
      "22:\tlearn: 1.8801384\ttotal: 150ms\tremaining: 2.47s\n",
      "23:\tlearn: 1.8775227\ttotal: 156ms\tremaining: 2.45s\n",
      "24:\tlearn: 1.8740586\ttotal: 163ms\tremaining: 2.44s\n",
      "25:\tlearn: 1.8706450\ttotal: 168ms\tremaining: 2.42s\n",
      "26:\tlearn: 1.8675892\ttotal: 174ms\tremaining: 2.4s\n",
      "27:\tlearn: 1.8635958\ttotal: 179ms\tremaining: 2.38s\n",
      "28:\tlearn: 1.8609575\ttotal: 186ms\tremaining: 2.38s\n",
      "29:\tlearn: 1.8588391\ttotal: 192ms\tremaining: 2.36s\n",
      "30:\tlearn: 1.8556406\ttotal: 198ms\tremaining: 2.36s\n",
      "31:\tlearn: 1.8532684\ttotal: 204ms\tremaining: 2.35s\n",
      "32:\tlearn: 1.8519541\ttotal: 209ms\tremaining: 2.32s\n",
      "33:\tlearn: 1.8492338\ttotal: 215ms\tremaining: 2.31s\n",
      "34:\tlearn: 1.8465902\ttotal: 221ms\tremaining: 2.3s\n",
      "35:\tlearn: 1.8436687\ttotal: 227ms\tremaining: 2.29s\n",
      "36:\tlearn: 1.8417520\ttotal: 233ms\tremaining: 2.28s\n",
      "37:\tlearn: 1.8391777\ttotal: 239ms\tremaining: 2.28s\n",
      "38:\tlearn: 1.8361886\ttotal: 246ms\tremaining: 2.27s\n",
      "39:\tlearn: 1.8340905\ttotal: 252ms\tremaining: 2.27s\n",
      "40:\tlearn: 1.8326017\ttotal: 259ms\tremaining: 2.27s\n",
      "41:\tlearn: 1.8301414\ttotal: 265ms\tremaining: 2.26s\n",
      "42:\tlearn: 1.8292200\ttotal: 271ms\tremaining: 2.25s\n",
      "43:\tlearn: 1.8268522\ttotal: 277ms\tremaining: 2.24s\n",
      "44:\tlearn: 1.8244914\ttotal: 283ms\tremaining: 2.23s\n",
      "45:\tlearn: 1.8227681\ttotal: 288ms\tremaining: 2.21s\n",
      "46:\tlearn: 1.8210933\ttotal: 293ms\tremaining: 2.2s\n",
      "47:\tlearn: 1.8197031\ttotal: 299ms\tremaining: 2.19s\n",
      "48:\tlearn: 1.8180328\ttotal: 305ms\tremaining: 2.18s\n",
      "49:\tlearn: 1.8162873\ttotal: 311ms\tremaining: 2.18s\n",
      "50:\tlearn: 1.8144716\ttotal: 317ms\tremaining: 2.17s\n",
      "51:\tlearn: 1.8129228\ttotal: 322ms\tremaining: 2.16s\n",
      "52:\tlearn: 1.8115083\ttotal: 328ms\tremaining: 2.15s\n",
      "53:\tlearn: 1.8097013\ttotal: 333ms\tremaining: 2.14s\n",
      "54:\tlearn: 1.8077692\ttotal: 339ms\tremaining: 2.13s\n",
      "55:\tlearn: 1.8061248\ttotal: 345ms\tremaining: 2.12s\n",
      "56:\tlearn: 1.8050169\ttotal: 351ms\tremaining: 2.11s\n",
      "57:\tlearn: 1.8032861\ttotal: 357ms\tremaining: 2.11s\n",
      "58:\tlearn: 1.8013683\ttotal: 365ms\tremaining: 2.11s\n",
      "59:\tlearn: 1.8002781\ttotal: 370ms\tremaining: 2.1s\n",
      "60:\tlearn: 1.7994439\ttotal: 375ms\tremaining: 2.08s\n",
      "61:\tlearn: 1.7985272\ttotal: 380ms\tremaining: 2.07s\n",
      "62:\tlearn: 1.7973545\ttotal: 386ms\tremaining: 2.06s\n",
      "63:\tlearn: 1.7969244\ttotal: 391ms\tremaining: 2.05s\n",
      "64:\tlearn: 1.7954073\ttotal: 397ms\tremaining: 2.04s\n",
      "65:\tlearn: 1.7943177\ttotal: 404ms\tremaining: 2.04s\n",
      "66:\tlearn: 1.7926563\ttotal: 409ms\tremaining: 2.03s\n",
      "67:\tlearn: 1.7915017\ttotal: 415ms\tremaining: 2.02s\n",
      "68:\tlearn: 1.7901933\ttotal: 420ms\tremaining: 2.02s\n",
      "69:\tlearn: 1.7887555\ttotal: 425ms\tremaining: 2s\n",
      "70:\tlearn: 1.7872886\ttotal: 431ms\tremaining: 2s\n",
      "71:\tlearn: 1.7864306\ttotal: 437ms\tremaining: 1.99s\n",
      "72:\tlearn: 1.7851839\ttotal: 443ms\tremaining: 1.98s\n",
      "73:\tlearn: 1.7840066\ttotal: 448ms\tremaining: 1.97s\n",
      "74:\tlearn: 1.7832772\ttotal: 453ms\tremaining: 1.96s\n",
      "75:\tlearn: 1.7816314\ttotal: 458ms\tremaining: 1.95s\n",
      "76:\tlearn: 1.7804828\ttotal: 463ms\tremaining: 1.94s\n",
      "77:\tlearn: 1.7789687\ttotal: 469ms\tremaining: 1.93s\n",
      "78:\tlearn: 1.7777616\ttotal: 474ms\tremaining: 1.93s\n",
      "79:\tlearn: 1.7762187\ttotal: 481ms\tremaining: 1.92s\n",
      "80:\tlearn: 1.7749064\ttotal: 486ms\tremaining: 1.91s\n",
      "81:\tlearn: 1.7737591\ttotal: 492ms\tremaining: 1.91s\n",
      "82:\tlearn: 1.7730000\ttotal: 498ms\tremaining: 1.9s\n",
      "83:\tlearn: 1.7720573\ttotal: 503ms\tremaining: 1.89s\n",
      "84:\tlearn: 1.7711797\ttotal: 508ms\tremaining: 1.88s\n",
      "85:\tlearn: 1.7699339\ttotal: 514ms\tremaining: 1.88s\n",
      "86:\tlearn: 1.7693963\ttotal: 519ms\tremaining: 1.87s\n",
      "87:\tlearn: 1.7681595\ttotal: 524ms\tremaining: 1.86s\n",
      "88:\tlearn: 1.7674403\ttotal: 529ms\tremaining: 1.85s\n",
      "89:\tlearn: 1.7671377\ttotal: 534ms\tremaining: 1.84s\n",
      "90:\tlearn: 1.7665877\ttotal: 539ms\tremaining: 1.83s\n",
      "91:\tlearn: 1.7658473\ttotal: 544ms\tremaining: 1.82s\n",
      "92:\tlearn: 1.7645741\ttotal: 549ms\tremaining: 1.81s\n",
      "93:\tlearn: 1.7637842\ttotal: 554ms\tremaining: 1.8s\n",
      "94:\tlearn: 1.7628998\ttotal: 560ms\tremaining: 1.8s\n",
      "95:\tlearn: 1.7623673\ttotal: 565ms\tremaining: 1.79s\n",
      "96:\tlearn: 1.7613509\ttotal: 571ms\tremaining: 1.78s\n",
      "97:\tlearn: 1.7609613\ttotal: 576ms\tremaining: 1.77s\n",
      "98:\tlearn: 1.7603130\ttotal: 581ms\tremaining: 1.77s\n",
      "99:\tlearn: 1.7592070\ttotal: 587ms\tremaining: 1.76s\n",
      "100:\tlearn: 1.7582220\ttotal: 593ms\tremaining: 1.75s\n",
      "101:\tlearn: 1.7577497\ttotal: 597ms\tremaining: 1.74s\n",
      "102:\tlearn: 1.7569620\ttotal: 602ms\tremaining: 1.74s\n",
      "103:\tlearn: 1.7559417\ttotal: 607ms\tremaining: 1.73s\n",
      "104:\tlearn: 1.7554805\ttotal: 612ms\tremaining: 1.72s\n",
      "105:\tlearn: 1.7547013\ttotal: 619ms\tremaining: 1.72s\n",
      "106:\tlearn: 1.7540177\ttotal: 624ms\tremaining: 1.71s\n",
      "107:\tlearn: 1.7526366\ttotal: 630ms\tremaining: 1.7s\n",
      "108:\tlearn: 1.7521245\ttotal: 635ms\tremaining: 1.69s\n",
      "109:\tlearn: 1.7513350\ttotal: 640ms\tremaining: 1.69s\n",
      "110:\tlearn: 1.7506533\ttotal: 646ms\tremaining: 1.68s\n",
      "111:\tlearn: 1.7499545\ttotal: 651ms\tremaining: 1.67s\n",
      "112:\tlearn: 1.7492297\ttotal: 656ms\tremaining: 1.67s\n",
      "113:\tlearn: 1.7486791\ttotal: 662ms\tremaining: 1.66s\n",
      "114:\tlearn: 1.7472948\ttotal: 667ms\tremaining: 1.65s\n",
      "115:\tlearn: 1.7469372\ttotal: 672ms\tremaining: 1.64s\n",
      "116:\tlearn: 1.7463620\ttotal: 677ms\tremaining: 1.64s\n",
      "117:\tlearn: 1.7454997\ttotal: 683ms\tremaining: 1.63s\n",
      "118:\tlearn: 1.7446955\ttotal: 688ms\tremaining: 1.62s\n",
      "119:\tlearn: 1.7440397\ttotal: 693ms\tremaining: 1.62s\n",
      "120:\tlearn: 1.7433784\ttotal: 697ms\tremaining: 1.61s\n",
      "121:\tlearn: 1.7430344\ttotal: 702ms\tremaining: 1.6s\n",
      "122:\tlearn: 1.7424452\ttotal: 707ms\tremaining: 1.59s\n",
      "123:\tlearn: 1.7419839\ttotal: 711ms\tremaining: 1.58s\n",
      "124:\tlearn: 1.7410637\ttotal: 717ms\tremaining: 1.58s\n",
      "125:\tlearn: 1.7402452\ttotal: 723ms\tremaining: 1.57s\n",
      "126:\tlearn: 1.7395395\ttotal: 728ms\tremaining: 1.56s\n",
      "127:\tlearn: 1.7390189\ttotal: 734ms\tremaining: 1.56s\n",
      "128:\tlearn: 1.7382500\ttotal: 739ms\tremaining: 1.55s\n",
      "129:\tlearn: 1.7375134\ttotal: 745ms\tremaining: 1.55s\n",
      "130:\tlearn: 1.7371180\ttotal: 750ms\tremaining: 1.54s\n",
      "131:\tlearn: 1.7365666\ttotal: 755ms\tremaining: 1.53s\n",
      "132:\tlearn: 1.7355798\ttotal: 760ms\tremaining: 1.53s\n",
      "133:\tlearn: 1.7349066\ttotal: 765ms\tremaining: 1.52s\n",
      "134:\tlearn: 1.7339403\ttotal: 772ms\tremaining: 1.51s\n",
      "135:\tlearn: 1.7331223\ttotal: 778ms\tremaining: 1.51s\n",
      "136:\tlearn: 1.7323014\ttotal: 782ms\tremaining: 1.5s\n",
      "137:\tlearn: 1.7316119\ttotal: 788ms\tremaining: 1.5s\n",
      "138:\tlearn: 1.7308984\ttotal: 793ms\tremaining: 1.49s\n",
      "139:\tlearn: 1.7305242\ttotal: 798ms\tremaining: 1.48s\n",
      "140:\tlearn: 1.7300895\ttotal: 803ms\tremaining: 1.48s\n",
      "141:\tlearn: 1.7294344\ttotal: 808ms\tremaining: 1.47s\n",
      "142:\tlearn: 1.7285589\ttotal: 813ms\tremaining: 1.46s\n",
      "143:\tlearn: 1.7275133\ttotal: 818ms\tremaining: 1.45s\n",
      "144:\tlearn: 1.7273166\ttotal: 823ms\tremaining: 1.45s\n",
      "145:\tlearn: 1.7264348\ttotal: 828ms\tremaining: 1.44s\n",
      "146:\tlearn: 1.7253387\ttotal: 833ms\tremaining: 1.43s\n",
      "147:\tlearn: 1.7244002\ttotal: 839ms\tremaining: 1.43s\n",
      "148:\tlearn: 1.7237709\ttotal: 844ms\tremaining: 1.42s\n",
      "149:\tlearn: 1.7232034\ttotal: 849ms\tremaining: 1.42s\n",
      "150:\tlearn: 1.7226595\ttotal: 854ms\tremaining: 1.41s\n",
      "151:\tlearn: 1.7219147\ttotal: 859ms\tremaining: 1.4s\n",
      "152:\tlearn: 1.7211109\ttotal: 864ms\tremaining: 1.4s\n",
      "153:\tlearn: 1.7205178\ttotal: 870ms\tremaining: 1.39s\n",
      "154:\tlearn: 1.7192852\ttotal: 876ms\tremaining: 1.38s\n",
      "155:\tlearn: 1.7190387\ttotal: 881ms\tremaining: 1.38s\n",
      "156:\tlearn: 1.7179198\ttotal: 886ms\tremaining: 1.37s\n",
      "157:\tlearn: 1.7169953\ttotal: 891ms\tremaining: 1.36s\n",
      "158:\tlearn: 1.7163287\ttotal: 896ms\tremaining: 1.36s\n",
      "159:\tlearn: 1.7155645\ttotal: 901ms\tremaining: 1.35s\n",
      "160:\tlearn: 1.7150663\ttotal: 907ms\tremaining: 1.35s\n",
      "161:\tlearn: 1.7145945\ttotal: 912ms\tremaining: 1.34s\n",
      "162:\tlearn: 1.7136995\ttotal: 918ms\tremaining: 1.33s\n",
      "163:\tlearn: 1.7132305\ttotal: 923ms\tremaining: 1.33s\n",
      "164:\tlearn: 1.7129608\ttotal: 927ms\tremaining: 1.32s\n",
      "165:\tlearn: 1.7125981\ttotal: 932ms\tremaining: 1.31s\n",
      "166:\tlearn: 1.7119767\ttotal: 937ms\tremaining: 1.31s\n",
      "167:\tlearn: 1.7113995\ttotal: 942ms\tremaining: 1.3s\n",
      "168:\tlearn: 1.7110556\ttotal: 946ms\tremaining: 1.29s\n",
      "169:\tlearn: 1.7104680\ttotal: 951ms\tremaining: 1.29s\n",
      "170:\tlearn: 1.7094384\ttotal: 956ms\tremaining: 1.28s\n",
      "171:\tlearn: 1.7090253\ttotal: 962ms\tremaining: 1.27s\n",
      "172:\tlearn: 1.7081859\ttotal: 968ms\tremaining: 1.27s\n",
      "173:\tlearn: 1.7072067\ttotal: 973ms\tremaining: 1.26s\n",
      "174:\tlearn: 1.7066430\ttotal: 979ms\tremaining: 1.26s\n",
      "175:\tlearn: 1.7057016\ttotal: 984ms\tremaining: 1.25s\n",
      "176:\tlearn: 1.7049591\ttotal: 990ms\tremaining: 1.25s\n",
      "177:\tlearn: 1.7044189\ttotal: 994ms\tremaining: 1.24s\n",
      "178:\tlearn: 1.7034148\ttotal: 999ms\tremaining: 1.23s\n",
      "179:\tlearn: 1.7030405\ttotal: 1s\tremaining: 1.23s\n",
      "180:\tlearn: 1.7021273\ttotal: 1.01s\tremaining: 1.22s\n",
      "181:\tlearn: 1.7014923\ttotal: 1.02s\tremaining: 1.22s\n",
      "182:\tlearn: 1.7012953\ttotal: 1.02s\tremaining: 1.21s\n",
      "183:\tlearn: 1.7009436\ttotal: 1.03s\tremaining: 1.21s\n",
      "184:\tlearn: 1.7002059\ttotal: 1.03s\tremaining: 1.2s\n",
      "185:\tlearn: 1.6993000\ttotal: 1.04s\tremaining: 1.19s\n",
      "186:\tlearn: 1.6985645\ttotal: 1.04s\tremaining: 1.19s\n",
      "187:\tlearn: 1.6980887\ttotal: 1.05s\tremaining: 1.18s\n",
      "188:\tlearn: 1.6977928\ttotal: 1.05s\tremaining: 1.18s\n",
      "189:\tlearn: 1.6974228\ttotal: 1.06s\tremaining: 1.17s\n",
      "190:\tlearn: 1.6967272\ttotal: 1.06s\tremaining: 1.16s\n",
      "191:\tlearn: 1.6959644\ttotal: 1.07s\tremaining: 1.16s\n",
      "192:\tlearn: 1.6957566\ttotal: 1.07s\tremaining: 1.15s\n",
      "193:\tlearn: 1.6952938\ttotal: 1.08s\tremaining: 1.15s\n",
      "194:\tlearn: 1.6947234\ttotal: 1.08s\tremaining: 1.14s\n",
      "195:\tlearn: 1.6941820\ttotal: 1.09s\tremaining: 1.14s\n",
      "196:\tlearn: 1.6936406\ttotal: 1.1s\tremaining: 1.13s\n",
      "197:\tlearn: 1.6929453\ttotal: 1.1s\tremaining: 1.12s\n",
      "198:\tlearn: 1.6925356\ttotal: 1.11s\tremaining: 1.12s\n",
      "199:\tlearn: 1.6919033\ttotal: 1.11s\tremaining: 1.11s\n",
      "200:\tlearn: 1.6917709\ttotal: 1.12s\tremaining: 1.1s\n",
      "201:\tlearn: 1.6911828\ttotal: 1.12s\tremaining: 1.1s\n",
      "202:\tlearn: 1.6907330\ttotal: 1.13s\tremaining: 1.09s\n",
      "203:\tlearn: 1.6901067\ttotal: 1.13s\tremaining: 1.09s\n",
      "204:\tlearn: 1.6897145\ttotal: 1.14s\tremaining: 1.08s\n",
      "205:\tlearn: 1.6889100\ttotal: 1.14s\tremaining: 1.07s\n",
      "206:\tlearn: 1.6882655\ttotal: 1.15s\tremaining: 1.07s\n",
      "207:\tlearn: 1.6876602\ttotal: 1.15s\tremaining: 1.06s\n",
      "208:\tlearn: 1.6872136\ttotal: 1.16s\tremaining: 1.06s\n",
      "209:\tlearn: 1.6865650\ttotal: 1.17s\tremaining: 1.05s\n",
      "210:\tlearn: 1.6858277\ttotal: 1.17s\tremaining: 1.05s\n",
      "211:\tlearn: 1.6853381\ttotal: 1.18s\tremaining: 1.04s\n",
      "212:\tlearn: 1.6849737\ttotal: 1.18s\tremaining: 1.04s\n",
      "213:\tlearn: 1.6846466\ttotal: 1.19s\tremaining: 1.03s\n",
      "214:\tlearn: 1.6839834\ttotal: 1.19s\tremaining: 1.02s\n",
      "215:\tlearn: 1.6836088\ttotal: 1.2s\tremaining: 1.02s\n",
      "216:\tlearn: 1.6831330\ttotal: 1.2s\tremaining: 1.01s\n",
      "217:\tlearn: 1.6823411\ttotal: 1.21s\tremaining: 1.01s\n",
      "218:\tlearn: 1.6816614\ttotal: 1.21s\tremaining: 1s\n",
      "219:\tlearn: 1.6808333\ttotal: 1.22s\tremaining: 998ms\n",
      "220:\tlearn: 1.6803717\ttotal: 1.23s\tremaining: 992ms\n",
      "221:\tlearn: 1.6800334\ttotal: 1.23s\tremaining: 986ms\n",
      "222:\tlearn: 1.6793992\ttotal: 1.23s\tremaining: 980ms\n",
      "223:\tlearn: 1.6786911\ttotal: 1.24s\tremaining: 975ms\n",
      "224:\tlearn: 1.6783806\ttotal: 1.25s\tremaining: 969ms\n",
      "225:\tlearn: 1.6776895\ttotal: 1.25s\tremaining: 964ms\n",
      "226:\tlearn: 1.6769977\ttotal: 1.26s\tremaining: 958ms\n",
      "227:\tlearn: 1.6764555\ttotal: 1.26s\tremaining: 952ms\n",
      "228:\tlearn: 1.6759986\ttotal: 1.27s\tremaining: 947ms\n",
      "229:\tlearn: 1.6753552\ttotal: 1.27s\tremaining: 941ms\n",
      "230:\tlearn: 1.6751834\ttotal: 1.28s\tremaining: 935ms\n",
      "231:\tlearn: 1.6749614\ttotal: 1.28s\tremaining: 929ms\n",
      "232:\tlearn: 1.6743403\ttotal: 1.29s\tremaining: 924ms\n",
      "233:\tlearn: 1.6739730\ttotal: 1.29s\tremaining: 918ms\n",
      "234:\tlearn: 1.6735762\ttotal: 1.3s\tremaining: 912ms\n",
      "235:\tlearn: 1.6730431\ttotal: 1.3s\tremaining: 906ms\n",
      "236:\tlearn: 1.6724203\ttotal: 1.31s\tremaining: 900ms\n",
      "237:\tlearn: 1.6718481\ttotal: 1.31s\tremaining: 894ms\n",
      "238:\tlearn: 1.6712588\ttotal: 1.32s\tremaining: 889ms\n",
      "239:\tlearn: 1.6704772\ttotal: 1.32s\tremaining: 883ms\n",
      "240:\tlearn: 1.6701950\ttotal: 1.33s\tremaining: 877ms\n",
      "241:\tlearn: 1.6696522\ttotal: 1.33s\tremaining: 872ms\n",
      "242:\tlearn: 1.6688867\ttotal: 1.34s\tremaining: 866ms\n",
      "243:\tlearn: 1.6681409\ttotal: 1.34s\tremaining: 860ms\n",
      "244:\tlearn: 1.6678673\ttotal: 1.35s\tremaining: 855ms\n",
      "245:\tlearn: 1.6674384\ttotal: 1.36s\tremaining: 849ms\n",
      "246:\tlearn: 1.6666247\ttotal: 1.36s\tremaining: 844ms\n",
      "247:\tlearn: 1.6662611\ttotal: 1.37s\tremaining: 838ms\n",
      "248:\tlearn: 1.6659417\ttotal: 1.37s\tremaining: 833ms\n",
      "249:\tlearn: 1.6657097\ttotal: 1.38s\tremaining: 827ms\n",
      "250:\tlearn: 1.6653602\ttotal: 1.38s\tremaining: 821ms\n",
      "251:\tlearn: 1.6651142\ttotal: 1.39s\tremaining: 816ms\n",
      "252:\tlearn: 1.6645714\ttotal: 1.39s\tremaining: 810ms\n",
      "253:\tlearn: 1.6640486\ttotal: 1.4s\tremaining: 805ms\n",
      "254:\tlearn: 1.6635494\ttotal: 1.41s\tremaining: 799ms\n",
      "255:\tlearn: 1.6633836\ttotal: 1.41s\tremaining: 794ms\n",
      "256:\tlearn: 1.6625978\ttotal: 1.42s\tremaining: 789ms\n",
      "257:\tlearn: 1.6620495\ttotal: 1.42s\tremaining: 783ms\n",
      "258:\tlearn: 1.6616494\ttotal: 1.43s\tremaining: 777ms\n",
      "259:\tlearn: 1.6611300\ttotal: 1.43s\tremaining: 771ms\n",
      "260:\tlearn: 1.6605289\ttotal: 1.44s\tremaining: 765ms\n",
      "261:\tlearn: 1.6600491\ttotal: 1.44s\tremaining: 759ms\n",
      "262:\tlearn: 1.6598020\ttotal: 1.45s\tremaining: 753ms\n",
      "263:\tlearn: 1.6592223\ttotal: 1.45s\tremaining: 748ms\n",
      "264:\tlearn: 1.6588117\ttotal: 1.46s\tremaining: 742ms\n",
      "265:\tlearn: 1.6586862\ttotal: 1.46s\tremaining: 736ms\n",
      "266:\tlearn: 1.6582058\ttotal: 1.47s\tremaining: 730ms\n",
      "267:\tlearn: 1.6573772\ttotal: 1.47s\tremaining: 725ms\n",
      "268:\tlearn: 1.6569181\ttotal: 1.48s\tremaining: 719ms\n",
      "269:\tlearn: 1.6561078\ttotal: 1.48s\tremaining: 713ms\n",
      "270:\tlearn: 1.6557081\ttotal: 1.49s\tremaining: 707ms\n",
      "271:\tlearn: 1.6553677\ttotal: 1.49s\tremaining: 702ms\n",
      "272:\tlearn: 1.6548083\ttotal: 1.5s\tremaining: 696ms\n",
      "273:\tlearn: 1.6543270\ttotal: 1.5s\tremaining: 691ms\n",
      "274:\tlearn: 1.6540558\ttotal: 1.51s\tremaining: 685ms\n",
      "275:\tlearn: 1.6535061\ttotal: 1.51s\tremaining: 679ms\n",
      "276:\tlearn: 1.6528386\ttotal: 1.52s\tremaining: 674ms\n",
      "277:\tlearn: 1.6519208\ttotal: 1.52s\tremaining: 669ms\n",
      "278:\tlearn: 1.6515817\ttotal: 1.53s\tremaining: 663ms\n",
      "279:\tlearn: 1.6512555\ttotal: 1.53s\tremaining: 658ms\n",
      "280:\tlearn: 1.6508017\ttotal: 1.54s\tremaining: 652ms\n",
      "281:\tlearn: 1.6505763\ttotal: 1.54s\tremaining: 646ms\n",
      "282:\tlearn: 1.6502270\ttotal: 1.55s\tremaining: 641ms\n",
      "283:\tlearn: 1.6500011\ttotal: 1.55s\tremaining: 635ms\n",
      "284:\tlearn: 1.6494958\ttotal: 1.56s\tremaining: 629ms\n",
      "285:\tlearn: 1.6491403\ttotal: 1.56s\tremaining: 624ms\n",
      "286:\tlearn: 1.6486141\ttotal: 1.57s\tremaining: 619ms\n",
      "287:\tlearn: 1.6481547\ttotal: 1.58s\tremaining: 613ms\n",
      "288:\tlearn: 1.6478291\ttotal: 1.58s\tremaining: 608ms\n",
      "289:\tlearn: 1.6470503\ttotal: 1.59s\tremaining: 602ms\n",
      "290:\tlearn: 1.6467777\ttotal: 1.59s\tremaining: 597ms\n",
      "291:\tlearn: 1.6461144\ttotal: 1.6s\tremaining: 591ms\n",
      "292:\tlearn: 1.6457934\ttotal: 1.6s\tremaining: 585ms\n",
      "293:\tlearn: 1.6455527\ttotal: 1.61s\tremaining: 579ms\n",
      "294:\tlearn: 1.6451256\ttotal: 1.61s\tremaining: 574ms\n",
      "295:\tlearn: 1.6447408\ttotal: 1.62s\tremaining: 568ms\n",
      "296:\tlearn: 1.6444991\ttotal: 1.62s\tremaining: 563ms\n",
      "297:\tlearn: 1.6440000\ttotal: 1.63s\tremaining: 557ms\n",
      "298:\tlearn: 1.6435395\ttotal: 1.63s\tremaining: 552ms\n",
      "299:\tlearn: 1.6430684\ttotal: 1.64s\tremaining: 546ms\n",
      "300:\tlearn: 1.6423925\ttotal: 1.64s\tremaining: 540ms\n",
      "301:\tlearn: 1.6415812\ttotal: 1.65s\tremaining: 535ms\n",
      "302:\tlearn: 1.6410627\ttotal: 1.65s\tremaining: 530ms\n",
      "303:\tlearn: 1.6405820\ttotal: 1.66s\tremaining: 524ms\n",
      "304:\tlearn: 1.6403178\ttotal: 1.66s\tremaining: 519ms\n",
      "305:\tlearn: 1.6402511\ttotal: 1.67s\tremaining: 513ms\n",
      "306:\tlearn: 1.6399922\ttotal: 1.67s\tremaining: 507ms\n",
      "307:\tlearn: 1.6392564\ttotal: 1.68s\tremaining: 501ms\n",
      "308:\tlearn: 1.6387120\ttotal: 1.69s\tremaining: 496ms\n",
      "309:\tlearn: 1.6381859\ttotal: 1.69s\tremaining: 491ms\n",
      "310:\tlearn: 1.6378947\ttotal: 1.7s\tremaining: 485ms\n",
      "311:\tlearn: 1.6375598\ttotal: 1.7s\tremaining: 480ms\n",
      "312:\tlearn: 1.6371347\ttotal: 1.71s\tremaining: 474ms\n",
      "313:\tlearn: 1.6366259\ttotal: 1.71s\tremaining: 469ms\n",
      "314:\tlearn: 1.6363783\ttotal: 1.72s\tremaining: 464ms\n",
      "315:\tlearn: 1.6361348\ttotal: 1.72s\tremaining: 458ms\n",
      "316:\tlearn: 1.6357241\ttotal: 1.73s\tremaining: 453ms\n",
      "317:\tlearn: 1.6354519\ttotal: 1.73s\tremaining: 447ms\n",
      "318:\tlearn: 1.6346986\ttotal: 1.74s\tremaining: 442ms\n",
      "319:\tlearn: 1.6344353\ttotal: 1.75s\tremaining: 437ms\n",
      "320:\tlearn: 1.6336570\ttotal: 1.75s\tremaining: 431ms\n",
      "321:\tlearn: 1.6330025\ttotal: 1.76s\tremaining: 426ms\n",
      "322:\tlearn: 1.6324659\ttotal: 1.76s\tremaining: 420ms\n",
      "323:\tlearn: 1.6321459\ttotal: 1.77s\tremaining: 415ms\n",
      "324:\tlearn: 1.6316142\ttotal: 1.77s\tremaining: 410ms\n",
      "325:\tlearn: 1.6307627\ttotal: 1.78s\tremaining: 404ms\n",
      "326:\tlearn: 1.6303473\ttotal: 1.79s\tremaining: 399ms\n",
      "327:\tlearn: 1.6298192\ttotal: 1.79s\tremaining: 394ms\n",
      "328:\tlearn: 1.6292383\ttotal: 1.8s\tremaining: 388ms\n",
      "329:\tlearn: 1.6285728\ttotal: 1.8s\tremaining: 383ms\n",
      "330:\tlearn: 1.6282561\ttotal: 1.81s\tremaining: 377ms\n",
      "331:\tlearn: 1.6277850\ttotal: 1.81s\tremaining: 372ms\n",
      "332:\tlearn: 1.6272741\ttotal: 1.82s\tremaining: 366ms\n",
      "333:\tlearn: 1.6268061\ttotal: 1.82s\tremaining: 361ms\n",
      "334:\tlearn: 1.6262711\ttotal: 1.83s\tremaining: 355ms\n",
      "335:\tlearn: 1.6256034\ttotal: 1.83s\tremaining: 350ms\n",
      "336:\tlearn: 1.6250198\ttotal: 1.84s\tremaining: 344ms\n",
      "337:\tlearn: 1.6244337\ttotal: 1.85s\tremaining: 339ms\n",
      "338:\tlearn: 1.6237906\ttotal: 1.85s\tremaining: 334ms\n",
      "339:\tlearn: 1.6235505\ttotal: 1.86s\tremaining: 328ms\n",
      "340:\tlearn: 1.6229730\ttotal: 1.86s\tremaining: 323ms\n",
      "341:\tlearn: 1.6225427\ttotal: 1.87s\tremaining: 317ms\n",
      "342:\tlearn: 1.6218273\ttotal: 1.88s\tremaining: 312ms\n",
      "343:\tlearn: 1.6214703\ttotal: 1.88s\tremaining: 306ms\n",
      "344:\tlearn: 1.6210061\ttotal: 1.89s\tremaining: 301ms\n",
      "345:\tlearn: 1.6208216\ttotal: 1.89s\tremaining: 295ms\n",
      "346:\tlearn: 1.6203962\ttotal: 1.9s\tremaining: 289ms\n",
      "347:\tlearn: 1.6199403\ttotal: 1.9s\tremaining: 284ms\n",
      "348:\tlearn: 1.6191998\ttotal: 1.91s\tremaining: 279ms\n",
      "349:\tlearn: 1.6186298\ttotal: 1.91s\tremaining: 273ms\n",
      "350:\tlearn: 1.6180788\ttotal: 1.92s\tremaining: 268ms\n",
      "351:\tlearn: 1.6173402\ttotal: 1.92s\tremaining: 262ms\n",
      "352:\tlearn: 1.6164083\ttotal: 1.93s\tremaining: 257ms\n",
      "353:\tlearn: 1.6160895\ttotal: 1.93s\tremaining: 251ms\n",
      "354:\tlearn: 1.6156678\ttotal: 1.94s\tremaining: 246ms\n",
      "355:\tlearn: 1.6153348\ttotal: 1.94s\tremaining: 240ms\n",
      "356:\tlearn: 1.6149367\ttotal: 1.95s\tremaining: 235ms\n",
      "357:\tlearn: 1.6144925\ttotal: 1.95s\tremaining: 229ms\n",
      "358:\tlearn: 1.6142278\ttotal: 1.96s\tremaining: 224ms\n",
      "359:\tlearn: 1.6138919\ttotal: 1.96s\tremaining: 218ms\n",
      "360:\tlearn: 1.6130881\ttotal: 1.97s\tremaining: 213ms\n",
      "361:\tlearn: 1.6128014\ttotal: 1.97s\tremaining: 207ms\n",
      "362:\tlearn: 1.6125270\ttotal: 1.98s\tremaining: 202ms\n",
      "363:\tlearn: 1.6117431\ttotal: 1.98s\tremaining: 196ms\n",
      "364:\tlearn: 1.6113881\ttotal: 1.99s\tremaining: 191ms\n",
      "365:\tlearn: 1.6109405\ttotal: 1.99s\tremaining: 185ms\n",
      "366:\tlearn: 1.6105956\ttotal: 2s\tremaining: 180ms\n",
      "367:\tlearn: 1.6102597\ttotal: 2s\tremaining: 174ms\n",
      "368:\tlearn: 1.6098330\ttotal: 2.01s\tremaining: 169ms\n",
      "369:\tlearn: 1.6094670\ttotal: 2.01s\tremaining: 163ms\n",
      "370:\tlearn: 1.6089133\ttotal: 2.02s\tremaining: 158ms\n",
      "371:\tlearn: 1.6086302\ttotal: 2.02s\tremaining: 152ms\n",
      "372:\tlearn: 1.6082787\ttotal: 2.03s\tremaining: 147ms\n",
      "373:\tlearn: 1.6081358\ttotal: 2.03s\tremaining: 141ms\n",
      "374:\tlearn: 1.6076098\ttotal: 2.04s\tremaining: 136ms\n",
      "375:\tlearn: 1.6073817\ttotal: 2.04s\tremaining: 130ms\n",
      "376:\tlearn: 1.6067092\ttotal: 2.05s\tremaining: 125ms\n",
      "377:\tlearn: 1.6061547\ttotal: 2.05s\tremaining: 120ms\n",
      "378:\tlearn: 1.6058317\ttotal: 2.06s\tremaining: 114ms\n",
      "379:\tlearn: 1.6051258\ttotal: 2.06s\tremaining: 109ms\n",
      "380:\tlearn: 1.6047012\ttotal: 2.07s\tremaining: 103ms\n",
      "381:\tlearn: 1.6043766\ttotal: 2.08s\tremaining: 97.8ms\n",
      "382:\tlearn: 1.6040287\ttotal: 2.08s\tremaining: 92.3ms\n",
      "383:\tlearn: 1.6036219\ttotal: 2.08s\tremaining: 86.9ms\n",
      "384:\tlearn: 1.6029330\ttotal: 2.09s\tremaining: 81.5ms\n",
      "385:\tlearn: 1.6027295\ttotal: 2.1s\tremaining: 76.1ms\n",
      "386:\tlearn: 1.6024142\ttotal: 2.1s\tremaining: 70.6ms\n",
      "387:\tlearn: 1.6020480\ttotal: 2.11s\tremaining: 65.2ms\n",
      "388:\tlearn: 1.6015484\ttotal: 2.11s\tremaining: 59.7ms\n",
      "389:\tlearn: 1.6010645\ttotal: 2.12s\tremaining: 54.3ms\n",
      "390:\tlearn: 1.6006986\ttotal: 2.12s\tremaining: 48.8ms\n",
      "391:\tlearn: 1.6003028\ttotal: 2.13s\tremaining: 43.4ms\n",
      "392:\tlearn: 1.6001753\ttotal: 2.13s\tremaining: 38ms\n",
      "393:\tlearn: 1.5996181\ttotal: 2.14s\tremaining: 32.5ms\n",
      "394:\tlearn: 1.5991728\ttotal: 2.14s\tremaining: 27.1ms\n",
      "395:\tlearn: 1.5987656\ttotal: 2.15s\tremaining: 21.7ms\n",
      "396:\tlearn: 1.5983413\ttotal: 2.15s\tremaining: 16.3ms\n",
      "397:\tlearn: 1.5977825\ttotal: 2.16s\tremaining: 10.8ms\n",
      "398:\tlearn: 1.5973891\ttotal: 2.16s\tremaining: 5.42ms\n",
      "399:\tlearn: 1.5970125\ttotal: 2.17s\tremaining: 0us\n",
      "{'classifier': 'CatBoostClassifier', 'Accuracy': 0.3567, 'TOP-2 Accuracy': 0.553, 'TOP-3 Accuracy': 0.6809, 'TOP-4 Accuracy': 0.7728, 'TOP-5 Accuracy': 0.8413, 'TOP-6 Accuracy': 0.8946, 'TOP-7 Accuracy': 0.9366, 'TOP-8 Accuracy': 0.9685, 'TOP-9 Accuracy': 0.9875, 'AUC-ROC': 0.7940961111111111, 'Precision': 0.34666830775327806, 'Recall': 0.35669999999999996, 'F1-score': 0.34783641653428027}\n",
      "Fitting XGBClassifier(base_score=None, booster=None, callbacks=None,\n",
      "              colsample_bylevel=None, colsample_bynode=None,\n",
      "              colsample_bytree=None, device='gpu', early_stopping_rounds=None,\n",
      "              enable_categorical=False, eval_metric=None, feature_types=None,\n",
      "              gamma=None, grow_policy=None, importance_type=None,\n",
      "              interaction_constraints=None, learning_rate=None, max_bin=None,\n",
      "              max_cat_threshold=None, max_cat_to_onehot=None,\n",
      "              max_delta_step=None, max_depth=4, max_leaves=None,\n",
      "              min_child_weight=None, missing=nan, monotone_constraints=None,\n",
      "              multi_strategy=None, n_estimators=25, n_jobs=-1,\n",
      "              num_parallel_tree=None, random_state=None, ...)\n"
     ]
    },
    {
     "name": "stderr",
     "output_type": "stream",
     "text": [
      "d:\\Programs\\Programming\\Python\\lib\\site-packages\\xgboost\\core.py:158: UserWarning: [19:58:47] WARNING: C:\\buildkite-agent\\builds\\buildkite-windows-cpu-autoscaling-group-i-0c55ff5f71b100e98-1\\xgboost\\xgboost-ci-windows\\src\\common\\error_msg.cc:58: Falling back to prediction using DMatrix due to mismatched devices. This might lead to higher memory usage and slower performance. XGBoost is running on: cuda:0, while the input data is on: cpu.\n",
      "Potential solutions:\n",
      "- Use a data structure that matches the device ordinal in the booster.\n",
      "- Set the device for booster before call to inplace_predict.\n",
      "\n",
      "This warning will only be shown once.\n",
      "\n",
      "  warnings.warn(smsg, UserWarning)\n"
     ]
    },
    {
     "name": "stdout",
     "output_type": "stream",
     "text": [
      "{'classifier': 'XGBClassifier', 'Accuracy': 0.3391, 'TOP-2 Accuracy': 0.5299, 'TOP-3 Accuracy': 0.6604, 'TOP-4 Accuracy': 0.7507, 'TOP-5 Accuracy': 0.8256, 'TOP-6 Accuracy': 0.8825, 'TOP-7 Accuracy': 0.9309, 'TOP-8 Accuracy': 0.9618, 'TOP-9 Accuracy': 0.987, 'AUC-ROC': 0.7784248555555554, 'Precision': 0.3280412049301934, 'Recall': 0.3391, 'F1-score': 0.32719573142106945}\n"
     ]
    },
    {
     "data": {
      "text/html": [
       "<div>\n",
       "<style scoped>\n",
       "    .dataframe tbody tr th:only-of-type {\n",
       "        vertical-align: middle;\n",
       "    }\n",
       "\n",
       "    .dataframe tbody tr th {\n",
       "        vertical-align: top;\n",
       "    }\n",
       "\n",
       "    .dataframe thead th {\n",
       "        text-align: right;\n",
       "    }\n",
       "</style>\n",
       "<table border=\"1\" class=\"dataframe\">\n",
       "  <thead>\n",
       "    <tr style=\"text-align: right;\">\n",
       "      <th></th>\n",
       "      <th>classifier</th>\n",
       "      <th>Accuracy</th>\n",
       "      <th>TOP-2 Accuracy</th>\n",
       "      <th>TOP-3 Accuracy</th>\n",
       "      <th>TOP-4 Accuracy</th>\n",
       "      <th>TOP-5 Accuracy</th>\n",
       "      <th>TOP-6 Accuracy</th>\n",
       "      <th>TOP-7 Accuracy</th>\n",
       "      <th>TOP-8 Accuracy</th>\n",
       "      <th>TOP-9 Accuracy</th>\n",
       "      <th>AUC-ROC</th>\n",
       "      <th>Precision</th>\n",
       "      <th>Recall</th>\n",
       "      <th>F1-score</th>\n",
       "    </tr>\n",
       "  </thead>\n",
       "  <tbody>\n",
       "    <tr>\n",
       "      <th>0</th>\n",
       "      <td>KNeighborsClassifier</td>\n",
       "      <td>0.3143</td>\n",
       "      <td>0.4950</td>\n",
       "      <td>0.6185</td>\n",
       "      <td>0.7087</td>\n",
       "      <td>0.7865</td>\n",
       "      <td>0.8507</td>\n",
       "      <td>0.9029</td>\n",
       "      <td>0.9430</td>\n",
       "      <td>0.9757</td>\n",
       "      <td>0.749393</td>\n",
       "      <td>0.309943</td>\n",
       "      <td>0.3143</td>\n",
       "      <td>0.305612</td>\n",
       "    </tr>\n",
       "    <tr>\n",
       "      <th>1</th>\n",
       "      <td>RandomForestClassifier</td>\n",
       "      <td>0.3229</td>\n",
       "      <td>0.5084</td>\n",
       "      <td>0.6292</td>\n",
       "      <td>0.7182</td>\n",
       "      <td>0.7979</td>\n",
       "      <td>0.8581</td>\n",
       "      <td>0.9122</td>\n",
       "      <td>0.9524</td>\n",
       "      <td>0.9819</td>\n",
       "      <td>0.756374</td>\n",
       "      <td>0.313106</td>\n",
       "      <td>0.3229</td>\n",
       "      <td>0.312625</td>\n",
       "    </tr>\n",
       "    <tr>\n",
       "      <th>2</th>\n",
       "      <td>NNClassifier</td>\n",
       "      <td>0.3273</td>\n",
       "      <td>0.5088</td>\n",
       "      <td>0.6252</td>\n",
       "      <td>0.7151</td>\n",
       "      <td>0.7826</td>\n",
       "      <td>0.8450</td>\n",
       "      <td>0.9035</td>\n",
       "      <td>0.9501</td>\n",
       "      <td>0.9786</td>\n",
       "      <td>0.746886</td>\n",
       "      <td>0.291893</td>\n",
       "      <td>0.3273</td>\n",
       "      <td>0.303877</td>\n",
       "    </tr>\n",
       "    <tr>\n",
       "      <th>3</th>\n",
       "      <td>HistGradientBoostingClassifier</td>\n",
       "      <td>0.3209</td>\n",
       "      <td>0.5097</td>\n",
       "      <td>0.6319</td>\n",
       "      <td>0.7290</td>\n",
       "      <td>0.8095</td>\n",
       "      <td>0.8699</td>\n",
       "      <td>0.9151</td>\n",
       "      <td>0.9565</td>\n",
       "      <td>0.9831</td>\n",
       "      <td>0.761970</td>\n",
       "      <td>0.309719</td>\n",
       "      <td>0.3209</td>\n",
       "      <td>0.306431</td>\n",
       "    </tr>\n",
       "    <tr>\n",
       "      <th>4</th>\n",
       "      <td>CatBoostClassifier</td>\n",
       "      <td>0.3567</td>\n",
       "      <td>0.5530</td>\n",
       "      <td>0.6809</td>\n",
       "      <td>0.7728</td>\n",
       "      <td>0.8413</td>\n",
       "      <td>0.8946</td>\n",
       "      <td>0.9366</td>\n",
       "      <td>0.9685</td>\n",
       "      <td>0.9875</td>\n",
       "      <td>0.794096</td>\n",
       "      <td>0.346668</td>\n",
       "      <td>0.3567</td>\n",
       "      <td>0.347836</td>\n",
       "    </tr>\n",
       "    <tr>\n",
       "      <th>5</th>\n",
       "      <td>XGBClassifier</td>\n",
       "      <td>0.3391</td>\n",
       "      <td>0.5299</td>\n",
       "      <td>0.6604</td>\n",
       "      <td>0.7507</td>\n",
       "      <td>0.8256</td>\n",
       "      <td>0.8825</td>\n",
       "      <td>0.9309</td>\n",
       "      <td>0.9618</td>\n",
       "      <td>0.9870</td>\n",
       "      <td>0.778425</td>\n",
       "      <td>0.328041</td>\n",
       "      <td>0.3391</td>\n",
       "      <td>0.327196</td>\n",
       "    </tr>\n",
       "  </tbody>\n",
       "</table>\n",
       "</div>"
      ],
      "text/plain": [
       "                       classifier  Accuracy  TOP-2 Accuracy  TOP-3 Accuracy  \\\n",
       "0            KNeighborsClassifier    0.3143          0.4950          0.6185   \n",
       "1          RandomForestClassifier    0.3229          0.5084          0.6292   \n",
       "2                    NNClassifier    0.3273          0.5088          0.6252   \n",
       "3  HistGradientBoostingClassifier    0.3209          0.5097          0.6319   \n",
       "4              CatBoostClassifier    0.3567          0.5530          0.6809   \n",
       "5                   XGBClassifier    0.3391          0.5299          0.6604   \n",
       "\n",
       "   TOP-4 Accuracy  TOP-5 Accuracy  TOP-6 Accuracy  TOP-7 Accuracy  \\\n",
       "0          0.7087          0.7865          0.8507          0.9029   \n",
       "1          0.7182          0.7979          0.8581          0.9122   \n",
       "2          0.7151          0.7826          0.8450          0.9035   \n",
       "3          0.7290          0.8095          0.8699          0.9151   \n",
       "4          0.7728          0.8413          0.8946          0.9366   \n",
       "5          0.7507          0.8256          0.8825          0.9309   \n",
       "\n",
       "   TOP-8 Accuracy  TOP-9 Accuracy   AUC-ROC  Precision  Recall  F1-score  \n",
       "0          0.9430          0.9757  0.749393   0.309943  0.3143  0.305612  \n",
       "1          0.9524          0.9819  0.756374   0.313106  0.3229  0.312625  \n",
       "2          0.9501          0.9786  0.746886   0.291893  0.3273  0.303877  \n",
       "3          0.9565          0.9831  0.761970   0.309719  0.3209  0.306431  \n",
       "4          0.9685          0.9875  0.794096   0.346668  0.3567  0.347836  \n",
       "5          0.9618          0.9870  0.778425   0.328041  0.3391  0.327196  "
      ]
     },
     "execution_count": 9,
     "metadata": {},
     "output_type": "execute_result"
    },
    {
     "data": {
      "image/png": "[encoded data removed]",
      "text/plain": [
       "<Figure size 1500x1000 with 12 Axes>"
      ]
     },
     "metadata": {},
     "output_type": "display_data"
    }
   ],
   "source": [
    "import cvtda.classification\n",
    "\n",
    "cvtda.classification.classify(train_features, train_labels, test_features, test_labels)"
   ]
  },
  {
   "cell_type": "code",
   "execution_count": 10,
   "metadata": {},
   "outputs": [],
   "source": [
    "import gtda.images\n",
    "\n",
    "inverter = gtda.images.Inverter()\n",
    "\n",
    "train_images = inverter.fit_transform(train_images)\n",
    "test_images = inverter.transform(test_images)"
   ]
  },
  {
   "cell_type": "code",
   "execution_count": 11,
   "metadata": {},
   "outputs": [
    {
     "name": "stdout",
     "output_type": "stream",
     "text": [
      "Fitting the persistence\n",
      "Fitting complete\n",
      "Calculating the persistence\n"
     ]
    },
    {
     "name": "stderr",
     "output_type": "stream",
     "text": [
      "100%|██████████| 50000/50000 [00:07<00:00, 6787.98it/s]\n"
     ]
    },
    {
     "name": "stdout",
     "output_type": "stream",
     "text": [
      "Calculating the persistence\n"
     ]
    },
    {
     "name": "stderr",
     "output_type": "stream",
     "text": [
      "100%|██████████| 10000/10000 [00:01<00:00, 7657.12it/s]\n"
     ]
    },
    {
     "name": "stdout",
     "output_type": "stream",
     "text": [
      "(50000, 240, 3) (10000, 225, 3)\n",
      "Bins: 128\n",
      "Fitting the calculator\n",
      "Fitting the filtering\n",
      "Fitting the betti curve\n",
      "Fitting the persistence landscape\n"
     ]
    },
    {
     "name": "stderr",
     "output_type": "stream",
     "text": [
      "Fitting the silhouettes: 100%|██████████| 2/2 [00:01<00:00,  1.36it/s]\n"
     ]
    },
    {
     "name": "stdout",
     "output_type": "stream",
     "text": [
      "Fitting the persistence entropy\n",
      "Fitting the number of points\n"
     ]
    },
    {
     "name": "stderr",
     "output_type": "stream",
     "text": [
      "Fitting the heat kernels: 100%|██████████| 1/1 [00:00<00:00,  1.44it/s]\n",
      "Fitting the persistence images: 100%|██████████| 1/1 [00:00<00:00,  1.21it/s]\n"
     ]
    },
    {
     "name": "stdout",
     "output_type": "stream",
     "text": [
      "Fitting complete\n"
     ]
    },
    {
     "name": "stderr",
     "output_type": "stream",
     "text": [
      "Batch:   0%|          | 0/80 [00:21<?, ?it/s]\n"
     ]
    },
    {
     "ename": "KeyboardInterrupt",
     "evalue": "",
     "output_type": "error",
     "traceback": [
      "\u001b[1;31m---------------------------------------------------------------------------\u001b[0m",
      "\u001b[1;31mKeyboardInterrupt\u001b[0m                         Traceback (most recent call last)",
      "Cell \u001b[1;32mIn[11], line 1\u001b[0m\n\u001b[1;32m----> 1\u001b[0m inv_train_features, inv_test_features \u001b[38;5;241m=\u001b[39m \u001b[43mprocess\u001b[49m\u001b[43m(\u001b[49m\u001b[43mtrain_images\u001b[49m\u001b[43m,\u001b[49m\u001b[43m \u001b[49m\u001b[43mtest_images\u001b[49m\u001b[43m)\u001b[49m\n\u001b[0;32m      2\u001b[0m numpy\u001b[38;5;241m.\u001b[39msave(\u001b[38;5;124mf\u001b[39m\u001b[38;5;124m\"\u001b[39m\u001b[38;5;124m12/inv_train.npy\u001b[39m\u001b[38;5;124m\"\u001b[39m, inv_train_features)\n\u001b[0;32m      3\u001b[0m numpy\u001b[38;5;241m.\u001b[39msave(\u001b[38;5;124mf\u001b[39m\u001b[38;5;124m\"\u001b[39m\u001b[38;5;124m12/inv_test.npy\u001b[39m\u001b[38;5;124m\"\u001b[39m, inv_test_features)\n",
      "Cell \u001b[1;32mIn[6], line 4\u001b[0m, in \u001b[0;36mprocess\u001b[1;34m(train, test)\u001b[0m\n\u001b[0;32m      2\u001b[0m train_features \u001b[38;5;241m=\u001b[39m [ ]\n\u001b[0;32m      3\u001b[0m test_features \u001b[38;5;241m=\u001b[39m [ ]\n\u001b[1;32m----> 4\u001b[0m tr, te \u001b[38;5;241m=\u001b[39m \u001b[43mmake_features\u001b[49m\u001b[43m(\u001b[49m\u001b[43mtrain\u001b[49m\u001b[43m,\u001b[49m\u001b[43m \u001b[49m\u001b[43mtest\u001b[49m\u001b[43m)\u001b[49m\n\u001b[0;32m      5\u001b[0m train_features\u001b[38;5;241m.\u001b[39mappend(tr)\n\u001b[0;32m      6\u001b[0m test_features\u001b[38;5;241m.\u001b[39mappend(te)\n",
      "Cell \u001b[1;32mIn[4], line 24\u001b[0m, in \u001b[0;36mmake_features\u001b[1;34m(train, test)\u001b[0m\n\u001b[0;32m     22\u001b[0m \u001b[38;5;28mprint\u001b[39m(\u001b[38;5;124mf\u001b[39m\u001b[38;5;124m\"\u001b[39m\u001b[38;5;124mBins: \u001b[39m\u001b[38;5;132;01m{\u001b[39;00mn_bins\u001b[38;5;132;01m}\u001b[39;00m\u001b[38;5;124m\"\u001b[39m)\n\u001b[0;32m     23\u001b[0m digrams_to_features \u001b[38;5;241m=\u001b[39m cvtda\u001b[38;5;241m.\u001b[39mtopology\u001b[38;5;241m.\u001b[39mDiagramsToFeatures(batch_size \u001b[38;5;241m=\u001b[39m \u001b[38;5;241m625\u001b[39m, n_bins \u001b[38;5;241m=\u001b[39m n_bins, verbose \u001b[38;5;241m=\u001b[39m \u001b[38;5;28;01mTrue\u001b[39;00m)\n\u001b[1;32m---> 24\u001b[0m train \u001b[38;5;241m=\u001b[39m \u001b[43mdigrams_to_features\u001b[49m\u001b[38;5;241;43m.\u001b[39;49m\u001b[43mfit_transform\u001b[49m\u001b[43m(\u001b[49m\u001b[43mtrain\u001b[49m\u001b[43m)\u001b[49m\n\u001b[0;32m     25\u001b[0m test \u001b[38;5;241m=\u001b[39m digrams_to_features\u001b[38;5;241m.\u001b[39mtransform(test)\n\u001b[0;32m     26\u001b[0m \u001b[38;5;28mprint\u001b[39m(train\u001b[38;5;241m.\u001b[39mshape, test\u001b[38;5;241m.\u001b[39mshape)\n",
      "File \u001b[1;32md:\\Programs\\Programming\\Python\\lib\\site-packages\\sklearn\\utils\\_set_output.py:316\u001b[0m, in \u001b[0;36m_wrap_method_output.<locals>.wrapped\u001b[1;34m(self, X, *args, **kwargs)\u001b[0m\n\u001b[0;32m    314\u001b[0m \u001b[38;5;129m@wraps\u001b[39m(f)\n\u001b[0;32m    315\u001b[0m \u001b[38;5;28;01mdef\u001b[39;00m \u001b[38;5;21mwrapped\u001b[39m(\u001b[38;5;28mself\u001b[39m, X, \u001b[38;5;241m*\u001b[39margs, \u001b[38;5;241m*\u001b[39m\u001b[38;5;241m*\u001b[39mkwargs):\n\u001b[1;32m--> 316\u001b[0m     data_to_wrap \u001b[38;5;241m=\u001b[39m f(\u001b[38;5;28mself\u001b[39m, X, \u001b[38;5;241m*\u001b[39margs, \u001b[38;5;241m*\u001b[39m\u001b[38;5;241m*\u001b[39mkwargs)\n\u001b[0;32m    317\u001b[0m     \u001b[38;5;28;01mif\u001b[39;00m \u001b[38;5;28misinstance\u001b[39m(data_to_wrap, \u001b[38;5;28mtuple\u001b[39m):\n\u001b[0;32m    318\u001b[0m         \u001b[38;5;66;03m# only wrap the first output for cross decomposition\u001b[39;00m\n\u001b[0;32m    319\u001b[0m         return_tuple \u001b[38;5;241m=\u001b[39m (\n\u001b[0;32m    320\u001b[0m             _wrap_data_with_container(method, data_to_wrap[\u001b[38;5;241m0\u001b[39m], X, \u001b[38;5;28mself\u001b[39m),\n\u001b[0;32m    321\u001b[0m             \u001b[38;5;241m*\u001b[39mdata_to_wrap[\u001b[38;5;241m1\u001b[39m:],\n\u001b[0;32m    322\u001b[0m         )\n",
      "File \u001b[1;32md:\\Programs\\Programming\\Python\\lib\\site-packages\\sklearn\\base.py:1098\u001b[0m, in \u001b[0;36mTransformerMixin.fit_transform\u001b[1;34m(self, X, y, **fit_params)\u001b[0m\n\u001b[0;32m   1083\u001b[0m         warnings\u001b[38;5;241m.\u001b[39mwarn(\n\u001b[0;32m   1084\u001b[0m             (\n\u001b[0;32m   1085\u001b[0m                 \u001b[38;5;124mf\u001b[39m\u001b[38;5;124m\"\u001b[39m\u001b[38;5;124mThis object (\u001b[39m\u001b[38;5;132;01m{\u001b[39;00m\u001b[38;5;28mself\u001b[39m\u001b[38;5;241m.\u001b[39m\u001b[38;5;18m__class__\u001b[39m\u001b[38;5;241m.\u001b[39m\u001b[38;5;18m__name__\u001b[39m\u001b[38;5;132;01m}\u001b[39;00m\u001b[38;5;124m) has a `transform`\u001b[39m\u001b[38;5;124m\"\u001b[39m\n\u001b[1;32m   (...)\u001b[0m\n\u001b[0;32m   1093\u001b[0m             \u001b[38;5;167;01mUserWarning\u001b[39;00m,\n\u001b[0;32m   1094\u001b[0m         )\n\u001b[0;32m   1096\u001b[0m \u001b[38;5;28;01mif\u001b[39;00m y \u001b[38;5;129;01mis\u001b[39;00m \u001b[38;5;28;01mNone\u001b[39;00m:\n\u001b[0;32m   1097\u001b[0m     \u001b[38;5;66;03m# fit method of arity 1 (unsupervised transformation)\u001b[39;00m\n\u001b[1;32m-> 1098\u001b[0m     \u001b[38;5;28;01mreturn\u001b[39;00m \u001b[38;5;28;43mself\u001b[39;49m\u001b[38;5;241;43m.\u001b[39;49m\u001b[43mfit\u001b[49m\u001b[43m(\u001b[49m\u001b[43mX\u001b[49m\u001b[43m,\u001b[49m\u001b[43m \u001b[49m\u001b[38;5;241;43m*\u001b[39;49m\u001b[38;5;241;43m*\u001b[39;49m\u001b[43mfit_params\u001b[49m\u001b[43m)\u001b[49m\u001b[38;5;241;43m.\u001b[39;49m\u001b[43mtransform\u001b[49m\u001b[43m(\u001b[49m\u001b[43mX\u001b[49m\u001b[43m)\u001b[49m\n\u001b[0;32m   1099\u001b[0m \u001b[38;5;28;01melse\u001b[39;00m:\n\u001b[0;32m   1100\u001b[0m     \u001b[38;5;66;03m# fit method of arity 2 (supervised transformation)\u001b[39;00m\n\u001b[0;32m   1101\u001b[0m     \u001b[38;5;28;01mreturn\u001b[39;00m \u001b[38;5;28mself\u001b[39m\u001b[38;5;241m.\u001b[39mfit(X, y, \u001b[38;5;241m*\u001b[39m\u001b[38;5;241m*\u001b[39mfit_params)\u001b[38;5;241m.\u001b[39mtransform(X)\n",
      "File \u001b[1;32md:\\Programs\\Programming\\Python\\lib\\site-packages\\sklearn\\utils\\_set_output.py:316\u001b[0m, in \u001b[0;36m_wrap_method_output.<locals>.wrapped\u001b[1;34m(self, X, *args, **kwargs)\u001b[0m\n\u001b[0;32m    314\u001b[0m \u001b[38;5;129m@wraps\u001b[39m(f)\n\u001b[0;32m    315\u001b[0m \u001b[38;5;28;01mdef\u001b[39;00m \u001b[38;5;21mwrapped\u001b[39m(\u001b[38;5;28mself\u001b[39m, X, \u001b[38;5;241m*\u001b[39margs, \u001b[38;5;241m*\u001b[39m\u001b[38;5;241m*\u001b[39mkwargs):\n\u001b[1;32m--> 316\u001b[0m     data_to_wrap \u001b[38;5;241m=\u001b[39m f(\u001b[38;5;28mself\u001b[39m, X, \u001b[38;5;241m*\u001b[39margs, \u001b[38;5;241m*\u001b[39m\u001b[38;5;241m*\u001b[39mkwargs)\n\u001b[0;32m    317\u001b[0m     \u001b[38;5;28;01mif\u001b[39;00m \u001b[38;5;28misinstance\u001b[39m(data_to_wrap, \u001b[38;5;28mtuple\u001b[39m):\n\u001b[0;32m    318\u001b[0m         \u001b[38;5;66;03m# only wrap the first output for cross decomposition\u001b[39;00m\n\u001b[0;32m    319\u001b[0m         return_tuple \u001b[38;5;241m=\u001b[39m (\n\u001b[0;32m    320\u001b[0m             _wrap_data_with_container(method, data_to_wrap[\u001b[38;5;241m0\u001b[39m], X, \u001b[38;5;28mself\u001b[39m),\n\u001b[0;32m    321\u001b[0m             \u001b[38;5;241m*\u001b[39mdata_to_wrap[\u001b[38;5;241m1\u001b[39m:],\n\u001b[0;32m    322\u001b[0m         )\n",
      "File \u001b[1;32mD:\\HSE/year-3/HSE/Diploma/cvtda\\cvtda\\topology\\diagrams_to_features.py:123\u001b[0m, in \u001b[0;36mDiagramsToFeatures.transform\u001b[1;34m(self, diagrams)\u001b[0m\n\u001b[0;32m    117\u001b[0m features \u001b[38;5;241m=\u001b[39m joblib\u001b[38;5;241m.\u001b[39mParallel(return_as \u001b[38;5;241m=\u001b[39m \u001b[38;5;124m'\u001b[39m\u001b[38;5;124mgenerator\u001b[39m\u001b[38;5;124m'\u001b[39m, n_jobs \u001b[38;5;241m=\u001b[39m \u001b[38;5;28mself\u001b[39m\u001b[38;5;241m.\u001b[39mn_jobs_)(\n\u001b[0;32m    118\u001b[0m     joblib\u001b[38;5;241m.\u001b[39mdelayed(transform_batch)(diagrams[batch_start:batch_start \u001b[38;5;241m+\u001b[39m \u001b[38;5;28mself\u001b[39m\u001b[38;5;241m.\u001b[39mbatch_size_])\n\u001b[0;32m    119\u001b[0m     \u001b[38;5;28;01mfor\u001b[39;00m batch_start \u001b[38;5;129;01min\u001b[39;00m loop\n\u001b[0;32m    120\u001b[0m )\n\u001b[0;32m    122\u001b[0m collector \u001b[38;5;241m=\u001b[39m \u001b[38;5;28mself\u001b[39m\u001b[38;5;241m.\u001b[39mlogger_\u001b[38;5;241m.\u001b[39mloop(features, total \u001b[38;5;241m=\u001b[39m \u001b[38;5;28mlen\u001b[39m(loop), desc \u001b[38;5;241m=\u001b[39m \u001b[38;5;124m'\u001b[39m\u001b[38;5;124mBatch\u001b[39m\u001b[38;5;124m'\u001b[39m)\n\u001b[1;32m--> 123\u001b[0m \u001b[38;5;28;01mreturn\u001b[39;00m numpy\u001b[38;5;241m.\u001b[39mvstack(\u001b[38;5;28;43mlist\u001b[39;49m\u001b[43m(\u001b[49m\u001b[43mcollector\u001b[49m\u001b[43m)\u001b[49m)\n",
      "File \u001b[1;32md:\\Programs\\Programming\\Python\\lib\\site-packages\\tqdm\\std.py:1181\u001b[0m, in \u001b[0;36mtqdm.__iter__\u001b[1;34m(self)\u001b[0m\n\u001b[0;32m   1178\u001b[0m time \u001b[38;5;241m=\u001b[39m \u001b[38;5;28mself\u001b[39m\u001b[38;5;241m.\u001b[39m_time\n\u001b[0;32m   1180\u001b[0m \u001b[38;5;28;01mtry\u001b[39;00m:\n\u001b[1;32m-> 1181\u001b[0m     \u001b[38;5;28;01mfor\u001b[39;00m obj \u001b[38;5;129;01min\u001b[39;00m iterable:\n\u001b[0;32m   1182\u001b[0m         \u001b[38;5;28;01myield\u001b[39;00m obj\n\u001b[0;32m   1183\u001b[0m         \u001b[38;5;66;03m# Update and possibly print the progressbar.\u001b[39;00m\n\u001b[0;32m   1184\u001b[0m         \u001b[38;5;66;03m# Note: does not call self.update(1) for speed optimisation.\u001b[39;00m\n",
      "File \u001b[1;32md:\\Programs\\Programming\\Python\\lib\\site-packages\\joblib\\parallel.py:1650\u001b[0m, in \u001b[0;36mParallel._get_outputs\u001b[1;34m(self, iterator, pre_dispatch)\u001b[0m\n\u001b[0;32m   1647\u001b[0m     \u001b[38;5;28;01myield\u001b[39;00m\n\u001b[0;32m   1649\u001b[0m     \u001b[38;5;28;01mwith\u001b[39;00m \u001b[38;5;28mself\u001b[39m\u001b[38;5;241m.\u001b[39m_backend\u001b[38;5;241m.\u001b[39mretrieval_context():\n\u001b[1;32m-> 1650\u001b[0m         \u001b[38;5;28;01myield from\u001b[39;00m \u001b[38;5;28mself\u001b[39m\u001b[38;5;241m.\u001b[39m_retrieve()\n\u001b[0;32m   1652\u001b[0m \u001b[38;5;28;01mexcept\u001b[39;00m \u001b[38;5;167;01mGeneratorExit\u001b[39;00m:\n\u001b[0;32m   1653\u001b[0m     \u001b[38;5;66;03m# The generator has been garbage collected before being fully\u001b[39;00m\n\u001b[0;32m   1654\u001b[0m     \u001b[38;5;66;03m# consumed. This aborts the remaining tasks if possible and warn\u001b[39;00m\n\u001b[0;32m   1655\u001b[0m     \u001b[38;5;66;03m# the user if necessary.\u001b[39;00m\n\u001b[0;32m   1656\u001b[0m     \u001b[38;5;28mself\u001b[39m\u001b[38;5;241m.\u001b[39m_exception \u001b[38;5;241m=\u001b[39m \u001b[38;5;28;01mTrue\u001b[39;00m\n",
      "File \u001b[1;32md:\\Programs\\Programming\\Python\\lib\\site-packages\\joblib\\parallel.py:1762\u001b[0m, in \u001b[0;36mParallel._retrieve\u001b[1;34m(self)\u001b[0m\n\u001b[0;32m   1757\u001b[0m \u001b[38;5;66;03m# If the next job is not ready for retrieval yet, we just wait for\u001b[39;00m\n\u001b[0;32m   1758\u001b[0m \u001b[38;5;66;03m# async callbacks to progress.\u001b[39;00m\n\u001b[0;32m   1759\u001b[0m \u001b[38;5;28;01mif\u001b[39;00m ((\u001b[38;5;28mlen\u001b[39m(\u001b[38;5;28mself\u001b[39m\u001b[38;5;241m.\u001b[39m_jobs) \u001b[38;5;241m==\u001b[39m \u001b[38;5;241m0\u001b[39m) \u001b[38;5;129;01mor\u001b[39;00m\n\u001b[0;32m   1760\u001b[0m     (\u001b[38;5;28mself\u001b[39m\u001b[38;5;241m.\u001b[39m_jobs[\u001b[38;5;241m0\u001b[39m]\u001b[38;5;241m.\u001b[39mget_status(\n\u001b[0;32m   1761\u001b[0m         timeout\u001b[38;5;241m=\u001b[39m\u001b[38;5;28mself\u001b[39m\u001b[38;5;241m.\u001b[39mtimeout) \u001b[38;5;241m==\u001b[39m TASK_PENDING)):\n\u001b[1;32m-> 1762\u001b[0m     \u001b[43mtime\u001b[49m\u001b[38;5;241;43m.\u001b[39;49m\u001b[43msleep\u001b[49m\u001b[43m(\u001b[49m\u001b[38;5;241;43m0.01\u001b[39;49m\u001b[43m)\u001b[49m\n\u001b[0;32m   1763\u001b[0m     \u001b[38;5;28;01mcontinue\u001b[39;00m\n\u001b[0;32m   1765\u001b[0m \u001b[38;5;66;03m# We need to be careful: the job list can be filling up as\u001b[39;00m\n\u001b[0;32m   1766\u001b[0m \u001b[38;5;66;03m# we empty it and Python list are not thread-safe by\u001b[39;00m\n\u001b[0;32m   1767\u001b[0m \u001b[38;5;66;03m# default hence the use of the lock\u001b[39;00m\n",
      "\u001b[1;31mKeyboardInterrupt\u001b[0m: "
     ]
    }
   ],
   "source": [
    "inv_train_features, inv_test_features = process(train_images, test_images)\n",
    "numpy.save(f\"12/inv_train.npy\", inv_train_features)\n",
    "numpy.save(f\"12/inv_test.npy\", inv_test_features)"
   ]
  },
  {
   "cell_type": "code",
   "execution_count": 14,
   "metadata": {},
   "outputs": [
    {
     "data": {
      "text/plain": [
       "((50000, 5180), (10000, 5180))"
      ]
     },
     "execution_count": 14,
     "metadata": {},
     "output_type": "execute_result"
    }
   ],
   "source": [
    "train_features = numpy.hstack([ train_features, inv_train_features ])\n",
    "test_features = numpy.hstack([ test_features, inv_test_features ])\n",
    "\n",
    "train_features.shape, test_features.shape"
   ]
  },
  {
   "cell_type": "code",
   "execution_count": 15,
   "metadata": {},
   "outputs": [],
   "source": [
    "import sklearn.preprocessing\n",
    "\n",
    "selected_standard_scaler = sklearn.preprocessing.StandardScaler()\n",
    "train_features = selected_standard_scaler.fit_transform(train_features)\n",
    "test_features = selected_standard_scaler.transform(test_features)"
   ]
  },
  {
   "cell_type": "code",
   "execution_count": 16,
   "metadata": {},
   "outputs": [
    {
     "name": "stdout",
     "output_type": "stream",
     "text": [
      "Fitting KNeighborsClassifier(n_jobs=-1, n_neighbors=50)\n",
      "{'classifier': 'KNeighborsClassifier', 'Accuracy': 0.3567, 'TOP-2 Accuracy': 0.5441, 'TOP-3 Accuracy': 0.6622, 'TOP-4 Accuracy': 0.748, 'TOP-5 Accuracy': 0.8146, 'TOP-6 Accuracy': 0.8744, 'TOP-7 Accuracy': 0.919, 'TOP-8 Accuracy': 0.953, 'TOP-9 Accuracy': 0.9802, 'AUC-ROC': 0.7816018944444443, 'Precision': 0.35804485583268636, 'Recall': 0.3567, 'F1-score': 0.3491407607928316}\n",
      "Fitting RandomForestClassifier(n_jobs=-1, random_state=42)\n",
      "{'classifier': 'RandomForestClassifier', 'Accuracy': 0.3672, 'TOP-2 Accuracy': 0.5519, 'TOP-3 Accuracy': 0.6648, 'TOP-4 Accuracy': 0.7538, 'TOP-5 Accuracy': 0.821, 'TOP-6 Accuracy': 0.8755, 'TOP-7 Accuracy': 0.9186, 'TOP-8 Accuracy': 0.9571, 'TOP-9 Accuracy': 0.9824, 'AUC-ROC': 0.7838274055555555, 'Precision': 0.36102303211583114, 'Recall': 0.3672, 'F1-score': 0.3585044052969037}\n",
      "Fitting <cvtda.classification.nn_classifier.NNClassifier object at 0x000002595E942830>\n",
      "Input to LazyLinear: 5180\n",
      "Parameters: 1370858\n"
     ]
    },
    {
     "name": "stderr",
     "output_type": "stream",
     "text": [
      "100%|██████████| 25/25 [00:40<00:00,  1.63s/it, loss=1.05e+5, val_acc=0.383]\n"
     ]
    },
    {
     "name": "stdout",
     "output_type": "stream",
     "text": [
      "{'classifier': 'NNClassifier', 'Accuracy': 0.3828, 'TOP-2 Accuracy': 0.5725, 'TOP-3 Accuracy': 0.6806, 'TOP-4 Accuracy': 0.7613, 'TOP-5 Accuracy': 0.8285, 'TOP-6 Accuracy': 0.8767, 'TOP-7 Accuracy': 0.9204, 'TOP-8 Accuracy': 0.955, 'TOP-9 Accuracy': 0.982, 'AUC-ROC': 0.783686788888889, 'Precision': 0.3772714162996133, 'Recall': 0.3828, 'F1-score': 0.3726923022939492}\n",
      "Fitting HistGradientBoostingClassifier(max_depth=4, max_features=0.1, max_iter=20,\n",
      "                               random_state=42, verbose=2)\n",
      "Binning 1.865 GB of training data: 7.756 s\n",
      "Binning 0.207 GB of validation data: 0.129 s\n",
      "Fitting gradient boosted rounds:\n",
      "[1/20] 10 trees, 160 leaves (16 on avg), max depth = 4, train loss: 2.22163, val loss: 2.22737, in 1.596s\n",
      "[2/20] 10 trees, 160 leaves (16 on avg), max depth = 4, train loss: 2.15882, val loss: 2.16931, in 1.684s\n",
      "[3/20] 10 trees, 160 leaves (16 on avg), max depth = 4, train loss: 2.10857, val loss: 2.12150, in 1.709s\n",
      "[4/20] 10 trees, 160 leaves (16 on avg), max depth = 4, train loss: 2.06903, val loss: 2.08662, in 1.752s\n",
      "[5/20] 10 trees, 159 leaves (15 on avg), max depth = 4, train loss: 2.03373, val loss: 2.05444, in 1.716s\n",
      "[6/20] 10 trees, 160 leaves (16 on avg), max depth = 4, train loss: 2.00473, val loss: 2.02851, in 1.751s\n",
      "[7/20] 10 trees, 159 leaves (15 on avg), max depth = 4, train loss: 1.97883, val loss: 2.00638, in 1.678s\n",
      "[8/20] 10 trees, 160 leaves (16 on avg), max depth = 4, train loss: 1.95610, val loss: 1.98758, in 1.668s\n",
      "[9/20] 10 trees, 158 leaves (15 on avg), max depth = 4, train loss: 1.93515, val loss: 1.96899, in 1.743s\n",
      "[10/20] 10 trees, 159 leaves (15 on avg), max depth = 4, train loss: 1.91677, val loss: 1.95239, in 1.772s\n",
      "[11/20] 10 trees, 160 leaves (16 on avg), max depth = 4, train loss: 1.89972, val loss: 1.93805, in 1.813s\n",
      "[12/20] 10 trees, 158 leaves (15 on avg), max depth = 4, train loss: 1.88458, val loss: 1.92515, in 1.770s\n",
      "[13/20] 10 trees, 158 leaves (15 on avg), max depth = 4, train loss: 1.87075, val loss: 1.91360, in 1.736s\n",
      "[14/20] 10 trees, 159 leaves (15 on avg), max depth = 4, train loss: 1.85787, val loss: 1.90309, in 1.731s\n",
      "[15/20] 10 trees, 159 leaves (15 on avg), max depth = 4, train loss: 1.84535, val loss: 1.89245, in 1.612s\n",
      "[16/20] 10 trees, 159 leaves (15 on avg), max depth = 4, train loss: 1.83388, val loss: 1.88264, in 1.675s\n",
      "[17/20] 10 trees, 160 leaves (16 on avg), max depth = 4, train loss: 1.82226, val loss: 1.87325, in 1.698s\n",
      "[18/20] 10 trees, 158 leaves (15 on avg), max depth = 4, train loss: 1.81252, val loss: 1.86568, in 1.586s\n",
      "[19/20] 10 trees, 160 leaves (16 on avg), max depth = 4, train loss: 1.80336, val loss: 1.85937, in 1.641s\n",
      "[20/20] 10 trees, 154 leaves (15 on avg), max depth = 4, train loss: 1.79477, val loss: 1.85275, in 1.658s\n",
      "Fit 200 trees in 42.405 s, (3180 total leaves)\n",
      "Time spent computing histograms: 31.355s\n",
      "Time spent finding best splits:  0.602s\n",
      "Time spent applying splits:      0.088s\n",
      "Time spent predicting:           0.027s\n",
      "{'classifier': 'HistGradientBoostingClassifier', 'Accuracy': 0.3611, 'TOP-2 Accuracy': 0.5496, 'TOP-3 Accuracy': 0.6726, 'TOP-4 Accuracy': 0.7609, 'TOP-5 Accuracy': 0.8306, 'TOP-6 Accuracy': 0.8826, 'TOP-7 Accuracy': 0.9286, 'TOP-8 Accuracy': 0.9618, 'TOP-9 Accuracy': 0.9868, 'AUC-ROC': 0.7885793555555556, 'Precision': 0.35621905039756024, 'Recall': 0.3611, 'F1-score': 0.3521778757974253}\n",
      "Fitting <catboost.core.CatBoostClassifier object at 0x000002595E940100>\n",
      "Learning rate set to 0.309284\n",
      "0:\tlearn: 2.1709545\ttotal: 8.51ms\tremaining: 3.39s\n",
      "1:\tlearn: 2.1034025\ttotal: 15.8ms\tremaining: 3.14s\n",
      "2:\tlearn: 2.0573713\ttotal: 23.4ms\tremaining: 3.1s\n",
      "3:\tlearn: 2.0184442\ttotal: 31.6ms\tremaining: 3.13s\n",
      "4:\tlearn: 1.9904131\ttotal: 38.7ms\tremaining: 3.06s\n",
      "5:\tlearn: 1.9687036\ttotal: 46.8ms\tremaining: 3.07s\n",
      "6:\tlearn: 1.9501573\ttotal: 53.9ms\tremaining: 3.02s\n",
      "7:\tlearn: 1.9349014\ttotal: 61.7ms\tremaining: 3.02s\n",
      "8:\tlearn: 1.9203927\ttotal: 69.4ms\tremaining: 3.02s\n",
      "9:\tlearn: 1.9089075\ttotal: 77.2ms\tremaining: 3.01s\n",
      "10:\tlearn: 1.8995219\ttotal: 84ms\tremaining: 2.97s\n",
      "11:\tlearn: 1.8918808\ttotal: 91.1ms\tremaining: 2.94s\n",
      "12:\tlearn: 1.8829366\ttotal: 98.1ms\tremaining: 2.92s\n",
      "13:\tlearn: 1.8731972\ttotal: 106ms\tremaining: 2.93s\n",
      "14:\tlearn: 1.8661720\ttotal: 113ms\tremaining: 2.9s\n",
      "15:\tlearn: 1.8595255\ttotal: 120ms\tremaining: 2.88s\n",
      "16:\tlearn: 1.8534670\ttotal: 127ms\tremaining: 2.86s\n",
      "17:\tlearn: 1.8457973\ttotal: 134ms\tremaining: 2.85s\n",
      "18:\tlearn: 1.8400702\ttotal: 142ms\tremaining: 2.84s\n",
      "19:\tlearn: 1.8339714\ttotal: 149ms\tremaining: 2.84s\n",
      "20:\tlearn: 1.8271736\ttotal: 157ms\tremaining: 2.84s\n",
      "21:\tlearn: 1.8219422\ttotal: 165ms\tremaining: 2.83s\n",
      "22:\tlearn: 1.8178067\ttotal: 172ms\tremaining: 2.81s\n",
      "23:\tlearn: 1.8120512\ttotal: 180ms\tremaining: 2.82s\n",
      "24:\tlearn: 1.8077145\ttotal: 188ms\tremaining: 2.81s\n",
      "25:\tlearn: 1.8034480\ttotal: 196ms\tremaining: 2.81s\n",
      "26:\tlearn: 1.7999317\ttotal: 203ms\tremaining: 2.8s\n",
      "27:\tlearn: 1.7947895\ttotal: 211ms\tremaining: 2.8s\n",
      "28:\tlearn: 1.7908556\ttotal: 217ms\tremaining: 2.78s\n",
      "29:\tlearn: 1.7880041\ttotal: 224ms\tremaining: 2.76s\n",
      "30:\tlearn: 1.7847486\ttotal: 231ms\tremaining: 2.75s\n",
      "31:\tlearn: 1.7822322\ttotal: 238ms\tremaining: 2.74s\n",
      "32:\tlearn: 1.7790267\ttotal: 245ms\tremaining: 2.73s\n",
      "33:\tlearn: 1.7746942\ttotal: 253ms\tremaining: 2.72s\n",
      "34:\tlearn: 1.7704780\ttotal: 261ms\tremaining: 2.72s\n",
      "35:\tlearn: 1.7653469\ttotal: 268ms\tremaining: 2.71s\n",
      "36:\tlearn: 1.7620095\ttotal: 276ms\tremaining: 2.71s\n",
      "37:\tlearn: 1.7595997\ttotal: 283ms\tremaining: 2.7s\n",
      "38:\tlearn: 1.7571550\ttotal: 290ms\tremaining: 2.69s\n",
      "39:\tlearn: 1.7547366\ttotal: 297ms\tremaining: 2.68s\n",
      "40:\tlearn: 1.7513123\ttotal: 304ms\tremaining: 2.66s\n",
      "41:\tlearn: 1.7483906\ttotal: 311ms\tremaining: 2.65s\n",
      "42:\tlearn: 1.7463686\ttotal: 318ms\tremaining: 2.64s\n",
      "43:\tlearn: 1.7428663\ttotal: 326ms\tremaining: 2.63s\n",
      "44:\tlearn: 1.7401712\ttotal: 333ms\tremaining: 2.63s\n",
      "45:\tlearn: 1.7383563\ttotal: 340ms\tremaining: 2.62s\n",
      "46:\tlearn: 1.7359570\ttotal: 347ms\tremaining: 2.6s\n",
      "47:\tlearn: 1.7333483\ttotal: 354ms\tremaining: 2.6s\n",
      "48:\tlearn: 1.7313136\ttotal: 361ms\tremaining: 2.58s\n",
      "49:\tlearn: 1.7289075\ttotal: 369ms\tremaining: 2.58s\n",
      "50:\tlearn: 1.7259541\ttotal: 376ms\tremaining: 2.57s\n",
      "51:\tlearn: 1.7229733\ttotal: 383ms\tremaining: 2.56s\n",
      "52:\tlearn: 1.7201637\ttotal: 392ms\tremaining: 2.56s\n",
      "53:\tlearn: 1.7184228\ttotal: 398ms\tremaining: 2.55s\n",
      "54:\tlearn: 1.7158806\ttotal: 406ms\tremaining: 2.54s\n",
      "55:\tlearn: 1.7137436\ttotal: 413ms\tremaining: 2.54s\n",
      "56:\tlearn: 1.7110444\ttotal: 421ms\tremaining: 2.53s\n",
      "57:\tlearn: 1.7093047\ttotal: 428ms\tremaining: 2.52s\n",
      "58:\tlearn: 1.7078489\ttotal: 434ms\tremaining: 2.51s\n",
      "59:\tlearn: 1.7064711\ttotal: 441ms\tremaining: 2.5s\n",
      "60:\tlearn: 1.7042742\ttotal: 448ms\tremaining: 2.49s\n",
      "61:\tlearn: 1.7019973\ttotal: 455ms\tremaining: 2.48s\n",
      "62:\tlearn: 1.7002875\ttotal: 463ms\tremaining: 2.47s\n",
      "63:\tlearn: 1.6992298\ttotal: 469ms\tremaining: 2.46s\n",
      "64:\tlearn: 1.6973144\ttotal: 476ms\tremaining: 2.45s\n",
      "65:\tlearn: 1.6958452\ttotal: 483ms\tremaining: 2.45s\n",
      "66:\tlearn: 1.6941275\ttotal: 490ms\tremaining: 2.44s\n",
      "67:\tlearn: 1.6917733\ttotal: 498ms\tremaining: 2.43s\n",
      "68:\tlearn: 1.6896075\ttotal: 505ms\tremaining: 2.42s\n",
      "69:\tlearn: 1.6867355\ttotal: 512ms\tremaining: 2.41s\n",
      "70:\tlearn: 1.6853059\ttotal: 519ms\tremaining: 2.41s\n",
      "71:\tlearn: 1.6843663\ttotal: 526ms\tremaining: 2.4s\n",
      "72:\tlearn: 1.6825528\ttotal: 533ms\tremaining: 2.39s\n",
      "73:\tlearn: 1.6809519\ttotal: 540ms\tremaining: 2.38s\n",
      "74:\tlearn: 1.6796527\ttotal: 547ms\tremaining: 2.37s\n",
      "75:\tlearn: 1.6780027\ttotal: 554ms\tremaining: 2.36s\n",
      "76:\tlearn: 1.6761577\ttotal: 562ms\tremaining: 2.36s\n",
      "77:\tlearn: 1.6753023\ttotal: 569ms\tremaining: 2.35s\n",
      "78:\tlearn: 1.6732903\ttotal: 578ms\tremaining: 2.35s\n",
      "79:\tlearn: 1.6716048\ttotal: 585ms\tremaining: 2.34s\n",
      "80:\tlearn: 1.6697589\ttotal: 594ms\tremaining: 2.34s\n",
      "81:\tlearn: 1.6683905\ttotal: 601ms\tremaining: 2.33s\n",
      "82:\tlearn: 1.6670484\ttotal: 608ms\tremaining: 2.32s\n",
      "83:\tlearn: 1.6657909\ttotal: 615ms\tremaining: 2.31s\n",
      "84:\tlearn: 1.6634612\ttotal: 623ms\tremaining: 2.31s\n",
      "85:\tlearn: 1.6618425\ttotal: 630ms\tremaining: 2.3s\n",
      "86:\tlearn: 1.6600720\ttotal: 637ms\tremaining: 2.29s\n",
      "87:\tlearn: 1.6587920\ttotal: 644ms\tremaining: 2.28s\n",
      "88:\tlearn: 1.6579497\ttotal: 650ms\tremaining: 2.27s\n",
      "89:\tlearn: 1.6563353\ttotal: 657ms\tremaining: 2.26s\n",
      "90:\tlearn: 1.6555641\ttotal: 664ms\tremaining: 2.25s\n",
      "91:\tlearn: 1.6545373\ttotal: 671ms\tremaining: 2.25s\n",
      "92:\tlearn: 1.6527922\ttotal: 678ms\tremaining: 2.24s\n",
      "93:\tlearn: 1.6514519\ttotal: 686ms\tremaining: 2.23s\n",
      "94:\tlearn: 1.6506244\ttotal: 693ms\tremaining: 2.23s\n",
      "95:\tlearn: 1.6494213\ttotal: 700ms\tremaining: 2.22s\n",
      "96:\tlearn: 1.6478566\ttotal: 707ms\tremaining: 2.21s\n",
      "97:\tlearn: 1.6469795\ttotal: 715ms\tremaining: 2.2s\n",
      "98:\tlearn: 1.6457691\ttotal: 721ms\tremaining: 2.19s\n",
      "99:\tlearn: 1.6448455\ttotal: 728ms\tremaining: 2.18s\n",
      "100:\tlearn: 1.6431400\ttotal: 736ms\tremaining: 2.18s\n",
      "101:\tlearn: 1.6421456\ttotal: 741ms\tremaining: 2.17s\n",
      "102:\tlearn: 1.6409183\ttotal: 749ms\tremaining: 2.16s\n",
      "103:\tlearn: 1.6395683\ttotal: 756ms\tremaining: 2.15s\n",
      "104:\tlearn: 1.6385772\ttotal: 763ms\tremaining: 2.14s\n",
      "105:\tlearn: 1.6374961\ttotal: 769ms\tremaining: 2.13s\n",
      "106:\tlearn: 1.6356027\ttotal: 777ms\tremaining: 2.13s\n",
      "107:\tlearn: 1.6344967\ttotal: 785ms\tremaining: 2.12s\n",
      "108:\tlearn: 1.6339491\ttotal: 791ms\tremaining: 2.11s\n",
      "109:\tlearn: 1.6325392\ttotal: 798ms\tremaining: 2.1s\n",
      "110:\tlearn: 1.6310547\ttotal: 804ms\tremaining: 2.09s\n",
      "111:\tlearn: 1.6295602\ttotal: 812ms\tremaining: 2.09s\n",
      "112:\tlearn: 1.6285553\ttotal: 819ms\tremaining: 2.08s\n",
      "113:\tlearn: 1.6276398\ttotal: 825ms\tremaining: 2.07s\n",
      "114:\tlearn: 1.6264003\ttotal: 833ms\tremaining: 2.06s\n",
      "115:\tlearn: 1.6250245\ttotal: 840ms\tremaining: 2.06s\n",
      "116:\tlearn: 1.6241397\ttotal: 847ms\tremaining: 2.05s\n",
      "117:\tlearn: 1.6234730\ttotal: 855ms\tremaining: 2.04s\n",
      "118:\tlearn: 1.6219705\ttotal: 863ms\tremaining: 2.04s\n",
      "119:\tlearn: 1.6213355\ttotal: 869ms\tremaining: 2.03s\n",
      "120:\tlearn: 1.6204409\ttotal: 876ms\tremaining: 2.02s\n",
      "121:\tlearn: 1.6195392\ttotal: 883ms\tremaining: 2.01s\n",
      "122:\tlearn: 1.6183866\ttotal: 890ms\tremaining: 2s\n",
      "123:\tlearn: 1.6174894\ttotal: 896ms\tremaining: 1.99s\n",
      "124:\tlearn: 1.6170561\ttotal: 902ms\tremaining: 1.98s\n",
      "125:\tlearn: 1.6162306\ttotal: 909ms\tremaining: 1.98s\n",
      "126:\tlearn: 1.6159686\ttotal: 915ms\tremaining: 1.97s\n",
      "127:\tlearn: 1.6145122\ttotal: 923ms\tremaining: 1.96s\n",
      "128:\tlearn: 1.6128078\ttotal: 931ms\tremaining: 1.96s\n",
      "129:\tlearn: 1.6117292\ttotal: 938ms\tremaining: 1.95s\n",
      "130:\tlearn: 1.6102502\ttotal: 945ms\tremaining: 1.94s\n",
      "131:\tlearn: 1.6094700\ttotal: 951ms\tremaining: 1.93s\n",
      "132:\tlearn: 1.6082880\ttotal: 958ms\tremaining: 1.92s\n",
      "133:\tlearn: 1.6069286\ttotal: 966ms\tremaining: 1.92s\n",
      "134:\tlearn: 1.6055697\ttotal: 973ms\tremaining: 1.91s\n",
      "135:\tlearn: 1.6043139\ttotal: 981ms\tremaining: 1.91s\n",
      "136:\tlearn: 1.6036642\ttotal: 988ms\tremaining: 1.9s\n",
      "137:\tlearn: 1.6032728\ttotal: 995ms\tremaining: 1.89s\n",
      "138:\tlearn: 1.6022442\ttotal: 1s\tremaining: 1.88s\n",
      "139:\tlearn: 1.6014875\ttotal: 1.01s\tremaining: 1.87s\n",
      "140:\tlearn: 1.6008934\ttotal: 1.02s\tremaining: 1.87s\n",
      "141:\tlearn: 1.5997425\ttotal: 1.02s\tremaining: 1.86s\n",
      "142:\tlearn: 1.5986159\ttotal: 1.03s\tremaining: 1.85s\n",
      "143:\tlearn: 1.5972520\ttotal: 1.04s\tremaining: 1.85s\n",
      "144:\tlearn: 1.5966750\ttotal: 1.05s\tremaining: 1.84s\n",
      "145:\tlearn: 1.5961153\ttotal: 1.05s\tremaining: 1.83s\n",
      "146:\tlearn: 1.5951119\ttotal: 1.06s\tremaining: 1.82s\n",
      "147:\tlearn: 1.5938697\ttotal: 1.07s\tremaining: 1.82s\n",
      "148:\tlearn: 1.5933942\ttotal: 1.07s\tremaining: 1.81s\n",
      "149:\tlearn: 1.5922314\ttotal: 1.08s\tremaining: 1.8s\n",
      "150:\tlearn: 1.5909988\ttotal: 1.09s\tremaining: 1.79s\n",
      "151:\tlearn: 1.5903956\ttotal: 1.09s\tremaining: 1.79s\n",
      "152:\tlearn: 1.5896500\ttotal: 1.1s\tremaining: 1.78s\n",
      "153:\tlearn: 1.5886169\ttotal: 1.11s\tremaining: 1.77s\n",
      "154:\tlearn: 1.5878381\ttotal: 1.12s\tremaining: 1.77s\n",
      "155:\tlearn: 1.5871012\ttotal: 1.12s\tremaining: 1.76s\n",
      "156:\tlearn: 1.5862377\ttotal: 1.13s\tremaining: 1.75s\n",
      "157:\tlearn: 1.5858495\ttotal: 1.14s\tremaining: 1.74s\n",
      "158:\tlearn: 1.5850978\ttotal: 1.15s\tremaining: 1.74s\n",
      "159:\tlearn: 1.5845775\ttotal: 1.15s\tremaining: 1.73s\n",
      "160:\tlearn: 1.5839955\ttotal: 1.16s\tremaining: 1.72s\n",
      "161:\tlearn: 1.5837177\ttotal: 1.16s\tremaining: 1.71s\n",
      "162:\tlearn: 1.5829758\ttotal: 1.17s\tremaining: 1.7s\n",
      "163:\tlearn: 1.5822894\ttotal: 1.18s\tremaining: 1.7s\n",
      "164:\tlearn: 1.5815147\ttotal: 1.18s\tremaining: 1.69s\n",
      "165:\tlearn: 1.5801261\ttotal: 1.19s\tremaining: 1.68s\n",
      "166:\tlearn: 1.5792328\ttotal: 1.2s\tremaining: 1.67s\n",
      "167:\tlearn: 1.5781728\ttotal: 1.21s\tremaining: 1.67s\n",
      "168:\tlearn: 1.5769809\ttotal: 1.21s\tremaining: 1.66s\n",
      "169:\tlearn: 1.5758616\ttotal: 1.22s\tremaining: 1.65s\n",
      "170:\tlearn: 1.5751920\ttotal: 1.23s\tremaining: 1.65s\n",
      "171:\tlearn: 1.5744642\ttotal: 1.24s\tremaining: 1.64s\n",
      "172:\tlearn: 1.5740008\ttotal: 1.24s\tremaining: 1.63s\n",
      "173:\tlearn: 1.5732577\ttotal: 1.25s\tremaining: 1.62s\n",
      "174:\tlearn: 1.5727759\ttotal: 1.26s\tremaining: 1.62s\n",
      "175:\tlearn: 1.5713917\ttotal: 1.26s\tremaining: 1.61s\n",
      "176:\tlearn: 1.5705336\ttotal: 1.27s\tremaining: 1.6s\n",
      "177:\tlearn: 1.5695253\ttotal: 1.28s\tremaining: 1.6s\n",
      "178:\tlearn: 1.5683117\ttotal: 1.29s\tremaining: 1.59s\n",
      "179:\tlearn: 1.5674234\ttotal: 1.29s\tremaining: 1.58s\n",
      "180:\tlearn: 1.5669992\ttotal: 1.3s\tremaining: 1.57s\n",
      "181:\tlearn: 1.5661541\ttotal: 1.31s\tremaining: 1.57s\n",
      "182:\tlearn: 1.5656984\ttotal: 1.32s\tremaining: 1.56s\n",
      "183:\tlearn: 1.5645392\ttotal: 1.32s\tremaining: 1.55s\n",
      "184:\tlearn: 1.5641763\ttotal: 1.33s\tremaining: 1.54s\n",
      "185:\tlearn: 1.5632464\ttotal: 1.34s\tremaining: 1.54s\n",
      "186:\tlearn: 1.5620656\ttotal: 1.34s\tremaining: 1.53s\n",
      "187:\tlearn: 1.5611622\ttotal: 1.35s\tremaining: 1.52s\n",
      "188:\tlearn: 1.5606833\ttotal: 1.36s\tremaining: 1.51s\n",
      "189:\tlearn: 1.5596695\ttotal: 1.36s\tremaining: 1.51s\n",
      "190:\tlearn: 1.5590398\ttotal: 1.37s\tremaining: 1.5s\n",
      "191:\tlearn: 1.5583563\ttotal: 1.38s\tremaining: 1.49s\n",
      "192:\tlearn: 1.5578833\ttotal: 1.38s\tremaining: 1.49s\n",
      "193:\tlearn: 1.5570508\ttotal: 1.39s\tremaining: 1.48s\n",
      "194:\tlearn: 1.5561923\ttotal: 1.4s\tremaining: 1.47s\n",
      "195:\tlearn: 1.5554889\ttotal: 1.41s\tremaining: 1.46s\n",
      "196:\tlearn: 1.5542694\ttotal: 1.41s\tremaining: 1.46s\n",
      "197:\tlearn: 1.5533320\ttotal: 1.42s\tremaining: 1.45s\n",
      "198:\tlearn: 1.5529036\ttotal: 1.43s\tremaining: 1.44s\n",
      "199:\tlearn: 1.5524217\ttotal: 1.43s\tremaining: 1.43s\n",
      "200:\tlearn: 1.5518744\ttotal: 1.44s\tremaining: 1.43s\n",
      "201:\tlearn: 1.5511377\ttotal: 1.45s\tremaining: 1.42s\n",
      "202:\tlearn: 1.5499656\ttotal: 1.46s\tremaining: 1.41s\n",
      "203:\tlearn: 1.5489325\ttotal: 1.46s\tremaining: 1.41s\n",
      "204:\tlearn: 1.5486908\ttotal: 1.47s\tremaining: 1.4s\n",
      "205:\tlearn: 1.5478886\ttotal: 1.48s\tremaining: 1.39s\n",
      "206:\tlearn: 1.5469730\ttotal: 1.48s\tremaining: 1.38s\n",
      "207:\tlearn: 1.5464164\ttotal: 1.49s\tremaining: 1.38s\n",
      "208:\tlearn: 1.5457827\ttotal: 1.5s\tremaining: 1.37s\n",
      "209:\tlearn: 1.5448973\ttotal: 1.51s\tremaining: 1.36s\n",
      "210:\tlearn: 1.5440125\ttotal: 1.51s\tremaining: 1.35s\n",
      "211:\tlearn: 1.5433831\ttotal: 1.52s\tremaining: 1.35s\n",
      "212:\tlearn: 1.5424869\ttotal: 1.53s\tremaining: 1.34s\n",
      "213:\tlearn: 1.5417764\ttotal: 1.53s\tremaining: 1.33s\n",
      "214:\tlearn: 1.5408867\ttotal: 1.54s\tremaining: 1.33s\n",
      "215:\tlearn: 1.5405117\ttotal: 1.55s\tremaining: 1.32s\n",
      "216:\tlearn: 1.5398519\ttotal: 1.56s\tremaining: 1.31s\n",
      "217:\tlearn: 1.5386848\ttotal: 1.56s\tremaining: 1.31s\n",
      "218:\tlearn: 1.5379794\ttotal: 1.57s\tremaining: 1.3s\n",
      "219:\tlearn: 1.5369375\ttotal: 1.58s\tremaining: 1.29s\n",
      "220:\tlearn: 1.5363902\ttotal: 1.59s\tremaining: 1.29s\n",
      "221:\tlearn: 1.5357131\ttotal: 1.6s\tremaining: 1.28s\n",
      "222:\tlearn: 1.5348669\ttotal: 1.6s\tremaining: 1.27s\n",
      "223:\tlearn: 1.5344962\ttotal: 1.61s\tremaining: 1.26s\n",
      "224:\tlearn: 1.5335692\ttotal: 1.62s\tremaining: 1.26s\n",
      "225:\tlearn: 1.5331091\ttotal: 1.62s\tremaining: 1.25s\n",
      "226:\tlearn: 1.5323128\ttotal: 1.63s\tremaining: 1.24s\n",
      "227:\tlearn: 1.5317692\ttotal: 1.64s\tremaining: 1.24s\n",
      "228:\tlearn: 1.5311864\ttotal: 1.64s\tremaining: 1.23s\n",
      "229:\tlearn: 1.5308017\ttotal: 1.65s\tremaining: 1.22s\n",
      "230:\tlearn: 1.5303817\ttotal: 1.66s\tremaining: 1.21s\n",
      "231:\tlearn: 1.5302042\ttotal: 1.66s\tremaining: 1.2s\n",
      "232:\tlearn: 1.5293128\ttotal: 1.67s\tremaining: 1.2s\n",
      "233:\tlearn: 1.5289459\ttotal: 1.68s\tremaining: 1.19s\n",
      "234:\tlearn: 1.5283508\ttotal: 1.68s\tremaining: 1.18s\n",
      "235:\tlearn: 1.5278416\ttotal: 1.69s\tremaining: 1.17s\n",
      "236:\tlearn: 1.5275781\ttotal: 1.7s\tremaining: 1.17s\n",
      "237:\tlearn: 1.5267517\ttotal: 1.7s\tremaining: 1.16s\n",
      "238:\tlearn: 1.5262247\ttotal: 1.71s\tremaining: 1.15s\n",
      "239:\tlearn: 1.5254109\ttotal: 1.72s\tremaining: 1.15s\n",
      "240:\tlearn: 1.5242161\ttotal: 1.73s\tremaining: 1.14s\n",
      "241:\tlearn: 1.5235466\ttotal: 1.73s\tremaining: 1.13s\n",
      "242:\tlearn: 1.5233778\ttotal: 1.74s\tremaining: 1.12s\n",
      "243:\tlearn: 1.5230241\ttotal: 1.74s\tremaining: 1.11s\n",
      "244:\tlearn: 1.5227500\ttotal: 1.75s\tremaining: 1.11s\n",
      "245:\tlearn: 1.5217628\ttotal: 1.76s\tremaining: 1.1s\n",
      "246:\tlearn: 1.5211097\ttotal: 1.76s\tremaining: 1.09s\n",
      "247:\tlearn: 1.5198830\ttotal: 1.77s\tremaining: 1.08s\n",
      "248:\tlearn: 1.5194052\ttotal: 1.78s\tremaining: 1.08s\n",
      "249:\tlearn: 1.5188031\ttotal: 1.78s\tremaining: 1.07s\n",
      "250:\tlearn: 1.5182570\ttotal: 1.79s\tremaining: 1.06s\n",
      "251:\tlearn: 1.5171803\ttotal: 1.8s\tremaining: 1.06s\n",
      "252:\tlearn: 1.5165769\ttotal: 1.81s\tremaining: 1.05s\n",
      "253:\tlearn: 1.5157136\ttotal: 1.81s\tremaining: 1.04s\n",
      "254:\tlearn: 1.5147611\ttotal: 1.82s\tremaining: 1.04s\n",
      "255:\tlearn: 1.5142917\ttotal: 1.83s\tremaining: 1.03s\n",
      "256:\tlearn: 1.5139978\ttotal: 1.84s\tremaining: 1.02s\n",
      "257:\tlearn: 1.5133344\ttotal: 1.84s\tremaining: 1.01s\n",
      "258:\tlearn: 1.5129678\ttotal: 1.85s\tremaining: 1.01s\n",
      "259:\tlearn: 1.5122916\ttotal: 1.86s\tremaining: 1s\n",
      "260:\tlearn: 1.5117178\ttotal: 1.87s\tremaining: 994ms\n",
      "261:\tlearn: 1.5112233\ttotal: 1.87s\tremaining: 987ms\n",
      "262:\tlearn: 1.5108852\ttotal: 1.88s\tremaining: 980ms\n",
      "263:\tlearn: 1.5101075\ttotal: 1.89s\tremaining: 972ms\n",
      "264:\tlearn: 1.5097248\ttotal: 1.89s\tremaining: 965ms\n",
      "265:\tlearn: 1.5095278\ttotal: 1.9s\tremaining: 957ms\n",
      "266:\tlearn: 1.5085878\ttotal: 1.91s\tremaining: 950ms\n",
      "267:\tlearn: 1.5080563\ttotal: 1.92s\tremaining: 944ms\n",
      "268:\tlearn: 1.5074156\ttotal: 1.92s\tremaining: 937ms\n",
      "269:\tlearn: 1.5065034\ttotal: 1.93s\tremaining: 929ms\n",
      "270:\tlearn: 1.5059436\ttotal: 1.94s\tremaining: 922ms\n",
      "271:\tlearn: 1.5056198\ttotal: 1.94s\tremaining: 915ms\n",
      "272:\tlearn: 1.5051812\ttotal: 1.95s\tremaining: 907ms\n",
      "273:\tlearn: 1.5047011\ttotal: 1.96s\tremaining: 900ms\n",
      "274:\tlearn: 1.5043073\ttotal: 1.96s\tremaining: 892ms\n",
      "275:\tlearn: 1.5036992\ttotal: 1.97s\tremaining: 885ms\n",
      "276:\tlearn: 1.5032478\ttotal: 1.98s\tremaining: 877ms\n",
      "277:\tlearn: 1.5028498\ttotal: 1.98s\tremaining: 870ms\n",
      "278:\tlearn: 1.5017423\ttotal: 1.99s\tremaining: 863ms\n",
      "279:\tlearn: 1.5012209\ttotal: 2s\tremaining: 856ms\n",
      "280:\tlearn: 1.5005375\ttotal: 2s\tremaining: 848ms\n",
      "281:\tlearn: 1.5001344\ttotal: 2.01s\tremaining: 841ms\n",
      "282:\tlearn: 1.4997339\ttotal: 2.02s\tremaining: 833ms\n",
      "283:\tlearn: 1.4996456\ttotal: 2.02s\tremaining: 826ms\n",
      "284:\tlearn: 1.4988791\ttotal: 2.03s\tremaining: 819ms\n",
      "285:\tlearn: 1.4981836\ttotal: 2.04s\tremaining: 812ms\n",
      "286:\tlearn: 1.4971617\ttotal: 2.04s\tremaining: 805ms\n",
      "287:\tlearn: 1.4968369\ttotal: 2.05s\tremaining: 797ms\n",
      "288:\tlearn: 1.4961892\ttotal: 2.06s\tremaining: 790ms\n",
      "289:\tlearn: 1.4956320\ttotal: 2.06s\tremaining: 783ms\n",
      "290:\tlearn: 1.4946323\ttotal: 2.07s\tremaining: 776ms\n",
      "291:\tlearn: 1.4939153\ttotal: 2.08s\tremaining: 769ms\n",
      "292:\tlearn: 1.4936866\ttotal: 2.08s\tremaining: 761ms\n",
      "293:\tlearn: 1.4933188\ttotal: 2.09s\tremaining: 754ms\n",
      "294:\tlearn: 1.4925250\ttotal: 2.1s\tremaining: 747ms\n",
      "295:\tlearn: 1.4915250\ttotal: 2.1s\tremaining: 740ms\n",
      "296:\tlearn: 1.4910753\ttotal: 2.11s\tremaining: 732ms\n",
      "297:\tlearn: 1.4903717\ttotal: 2.12s\tremaining: 725ms\n",
      "298:\tlearn: 1.4899034\ttotal: 2.13s\tremaining: 718ms\n",
      "299:\tlearn: 1.4894986\ttotal: 2.13s\tremaining: 711ms\n",
      "300:\tlearn: 1.4890320\ttotal: 2.14s\tremaining: 704ms\n",
      "301:\tlearn: 1.4883509\ttotal: 2.15s\tremaining: 697ms\n",
      "302:\tlearn: 1.4879847\ttotal: 2.15s\tremaining: 690ms\n",
      "303:\tlearn: 1.4875692\ttotal: 2.16s\tremaining: 682ms\n",
      "304:\tlearn: 1.4872422\ttotal: 2.17s\tremaining: 675ms\n",
      "305:\tlearn: 1.4867727\ttotal: 2.17s\tremaining: 668ms\n",
      "306:\tlearn: 1.4866189\ttotal: 2.18s\tremaining: 660ms\n",
      "307:\tlearn: 1.4861994\ttotal: 2.19s\tremaining: 653ms\n",
      "308:\tlearn: 1.4854928\ttotal: 2.19s\tremaining: 646ms\n",
      "309:\tlearn: 1.4848456\ttotal: 2.2s\tremaining: 639ms\n",
      "310:\tlearn: 1.4839514\ttotal: 2.21s\tremaining: 632ms\n",
      "311:\tlearn: 1.4836736\ttotal: 2.21s\tremaining: 625ms\n",
      "312:\tlearn: 1.4830069\ttotal: 2.22s\tremaining: 618ms\n",
      "313:\tlearn: 1.4824556\ttotal: 2.23s\tremaining: 610ms\n",
      "314:\tlearn: 1.4819614\ttotal: 2.24s\tremaining: 604ms\n",
      "315:\tlearn: 1.4808634\ttotal: 2.24s\tremaining: 597ms\n",
      "316:\tlearn: 1.4806294\ttotal: 2.25s\tremaining: 589ms\n",
      "317:\tlearn: 1.4803991\ttotal: 2.26s\tremaining: 582ms\n",
      "318:\tlearn: 1.4797909\ttotal: 2.26s\tremaining: 575ms\n",
      "319:\tlearn: 1.4793502\ttotal: 2.27s\tremaining: 568ms\n",
      "320:\tlearn: 1.4786800\ttotal: 2.28s\tremaining: 561ms\n",
      "321:\tlearn: 1.4783183\ttotal: 2.28s\tremaining: 554ms\n",
      "322:\tlearn: 1.4778325\ttotal: 2.29s\tremaining: 546ms\n",
      "323:\tlearn: 1.4771178\ttotal: 2.3s\tremaining: 539ms\n",
      "324:\tlearn: 1.4765092\ttotal: 2.31s\tremaining: 532ms\n",
      "325:\tlearn: 1.4758316\ttotal: 2.31s\tremaining: 525ms\n",
      "326:\tlearn: 1.4752236\ttotal: 2.32s\tremaining: 518ms\n",
      "327:\tlearn: 1.4742094\ttotal: 2.33s\tremaining: 511ms\n",
      "328:\tlearn: 1.4735009\ttotal: 2.33s\tremaining: 504ms\n",
      "329:\tlearn: 1.4728734\ttotal: 2.34s\tremaining: 496ms\n",
      "330:\tlearn: 1.4724344\ttotal: 2.35s\tremaining: 489ms\n",
      "331:\tlearn: 1.4718558\ttotal: 2.35s\tremaining: 482ms\n",
      "332:\tlearn: 1.4711906\ttotal: 2.36s\tremaining: 475ms\n",
      "333:\tlearn: 1.4703639\ttotal: 2.37s\tremaining: 468ms\n",
      "334:\tlearn: 1.4698914\ttotal: 2.38s\tremaining: 461ms\n",
      "335:\tlearn: 1.4694661\ttotal: 2.38s\tremaining: 454ms\n",
      "336:\tlearn: 1.4690116\ttotal: 2.39s\tremaining: 447ms\n",
      "337:\tlearn: 1.4684159\ttotal: 2.4s\tremaining: 440ms\n",
      "338:\tlearn: 1.4680145\ttotal: 2.4s\tremaining: 432ms\n",
      "339:\tlearn: 1.4675627\ttotal: 2.41s\tremaining: 425ms\n",
      "340:\tlearn: 1.4674328\ttotal: 2.42s\tremaining: 418ms\n",
      "341:\tlearn: 1.4667853\ttotal: 2.42s\tremaining: 411ms\n",
      "342:\tlearn: 1.4661767\ttotal: 2.43s\tremaining: 404ms\n",
      "343:\tlearn: 1.4655469\ttotal: 2.44s\tremaining: 397ms\n",
      "344:\tlearn: 1.4648383\ttotal: 2.45s\tremaining: 390ms\n",
      "345:\tlearn: 1.4647200\ttotal: 2.45s\tremaining: 383ms\n",
      "346:\tlearn: 1.4642809\ttotal: 2.46s\tremaining: 376ms\n",
      "347:\tlearn: 1.4637555\ttotal: 2.47s\tremaining: 368ms\n",
      "348:\tlearn: 1.4628911\ttotal: 2.47s\tremaining: 361ms\n",
      "349:\tlearn: 1.4625189\ttotal: 2.48s\tremaining: 354ms\n",
      "350:\tlearn: 1.4622411\ttotal: 2.48s\tremaining: 347ms\n",
      "351:\tlearn: 1.4614420\ttotal: 2.49s\tremaining: 340ms\n",
      "352:\tlearn: 1.4608534\ttotal: 2.5s\tremaining: 333ms\n",
      "353:\tlearn: 1.4600883\ttotal: 2.51s\tremaining: 326ms\n",
      "354:\tlearn: 1.4591606\ttotal: 2.51s\tremaining: 319ms\n",
      "355:\tlearn: 1.4586128\ttotal: 2.52s\tremaining: 312ms\n",
      "356:\tlearn: 1.4582858\ttotal: 2.53s\tremaining: 305ms\n",
      "357:\tlearn: 1.4574317\ttotal: 2.54s\tremaining: 298ms\n",
      "358:\tlearn: 1.4571016\ttotal: 2.54s\tremaining: 290ms\n",
      "359:\tlearn: 1.4567831\ttotal: 2.55s\tremaining: 283ms\n",
      "360:\tlearn: 1.4562873\ttotal: 2.56s\tremaining: 276ms\n",
      "361:\tlearn: 1.4559358\ttotal: 2.56s\tremaining: 269ms\n",
      "362:\tlearn: 1.4553959\ttotal: 2.57s\tremaining: 262ms\n",
      "363:\tlearn: 1.4547006\ttotal: 2.58s\tremaining: 255ms\n",
      "364:\tlearn: 1.4536300\ttotal: 2.59s\tremaining: 248ms\n",
      "365:\tlearn: 1.4533192\ttotal: 2.59s\tremaining: 241ms\n",
      "366:\tlearn: 1.4528606\ttotal: 2.6s\tremaining: 234ms\n",
      "367:\tlearn: 1.4521297\ttotal: 2.61s\tremaining: 227ms\n",
      "368:\tlearn: 1.4515445\ttotal: 2.61s\tremaining: 220ms\n",
      "369:\tlearn: 1.4509306\ttotal: 2.62s\tremaining: 212ms\n",
      "370:\tlearn: 1.4504708\ttotal: 2.63s\tremaining: 205ms\n",
      "371:\tlearn: 1.4499491\ttotal: 2.63s\tremaining: 198ms\n",
      "372:\tlearn: 1.4490444\ttotal: 2.64s\tremaining: 191ms\n",
      "373:\tlearn: 1.4481042\ttotal: 2.65s\tremaining: 184ms\n",
      "374:\tlearn: 1.4477664\ttotal: 2.66s\tremaining: 177ms\n",
      "375:\tlearn: 1.4472392\ttotal: 2.67s\tremaining: 170ms\n",
      "376:\tlearn: 1.4468288\ttotal: 2.67s\tremaining: 163ms\n",
      "377:\tlearn: 1.4463431\ttotal: 2.68s\tremaining: 156ms\n",
      "378:\tlearn: 1.4459445\ttotal: 2.69s\tremaining: 149ms\n",
      "379:\tlearn: 1.4455673\ttotal: 2.69s\tremaining: 142ms\n",
      "380:\tlearn: 1.4448789\ttotal: 2.7s\tremaining: 135ms\n",
      "381:\tlearn: 1.4448114\ttotal: 2.71s\tremaining: 128ms\n",
      "382:\tlearn: 1.4442256\ttotal: 2.71s\tremaining: 120ms\n",
      "383:\tlearn: 1.4439406\ttotal: 2.72s\tremaining: 113ms\n",
      "384:\tlearn: 1.4431670\ttotal: 2.73s\tremaining: 106ms\n",
      "385:\tlearn: 1.4429580\ttotal: 2.73s\tremaining: 99.2ms\n",
      "386:\tlearn: 1.4425264\ttotal: 2.74s\tremaining: 92.1ms\n",
      "387:\tlearn: 1.4419053\ttotal: 2.75s\tremaining: 85ms\n",
      "388:\tlearn: 1.4412181\ttotal: 2.75s\tremaining: 77.9ms\n",
      "389:\tlearn: 1.4406111\ttotal: 2.76s\tremaining: 70.8ms\n",
      "390:\tlearn: 1.4400766\ttotal: 2.77s\tremaining: 63.8ms\n",
      "391:\tlearn: 1.4396941\ttotal: 2.78s\tremaining: 56.7ms\n",
      "392:\tlearn: 1.4395169\ttotal: 2.78s\tremaining: 49.6ms\n",
      "393:\tlearn: 1.4391294\ttotal: 2.79s\tremaining: 42.5ms\n",
      "394:\tlearn: 1.4385225\ttotal: 2.8s\tremaining: 35.4ms\n",
      "395:\tlearn: 1.4375625\ttotal: 2.81s\tremaining: 28.3ms\n",
      "396:\tlearn: 1.4370916\ttotal: 2.81s\tremaining: 21.2ms\n",
      "397:\tlearn: 1.4363847\ttotal: 2.82s\tremaining: 14.2ms\n",
      "398:\tlearn: 1.4357788\ttotal: 2.83s\tremaining: 7.08ms\n",
      "399:\tlearn: 1.4354738\ttotal: 2.83s\tremaining: 0us\n",
      "{'classifier': 'CatBoostClassifier', 'Accuracy': 0.4106, 'TOP-2 Accuracy': 0.6092, 'TOP-3 Accuracy': 0.7315, 'TOP-4 Accuracy': 0.8142, 'TOP-5 Accuracy': 0.8706, 'TOP-6 Accuracy': 0.9154, 'TOP-7 Accuracy': 0.9499, 'TOP-8 Accuracy': 0.973, 'TOP-9 Accuracy': 0.9912, 'AUC-ROC': 0.8293354222222221, 'Precision': 0.4050248103297667, 'Recall': 0.41059999999999997, 'F1-score': 0.4060676203950716}\n",
      "Fitting XGBClassifier(base_score=None, booster=None, callbacks=None,\n",
      "              colsample_bylevel=None, colsample_bynode=None,\n",
      "              colsample_bytree=None, device='gpu', early_stopping_rounds=None,\n",
      "              enable_categorical=False, eval_metric=None, feature_types=None,\n",
      "              gamma=None, grow_policy=None, importance_type=None,\n",
      "              interaction_constraints=None, learning_rate=None, max_bin=None,\n",
      "              max_cat_threshold=None, max_cat_to_onehot=None,\n",
      "              max_delta_step=None, max_depth=4, max_leaves=None,\n",
      "              min_child_weight=None, missing=nan, monotone_constraints=None,\n",
      "              multi_strategy=None, n_estimators=25, n_jobs=-1,\n",
      "              num_parallel_tree=None, random_state=None, ...)\n",
      "{'classifier': 'XGBClassifier', 'Accuracy': 0.3882, 'TOP-2 Accuracy': 0.5772, 'TOP-3 Accuracy': 0.699, 'TOP-4 Accuracy': 0.7825, 'TOP-5 Accuracy': 0.8431, 'TOP-6 Accuracy': 0.9007, 'TOP-7 Accuracy': 0.94, 'TOP-8 Accuracy': 0.9688, 'TOP-9 Accuracy': 0.9884, 'AUC-ROC': 0.8067636499999999, 'Precision': 0.38366940929273036, 'Recall': 0.3882, 'F1-score': 0.3819327923929159}\n"
     ]
    },
    {
     "data": {
      "text/html": [
       "<div>\n",
       "<style scoped>\n",
       "    .dataframe tbody tr th:only-of-type {\n",
       "        vertical-align: middle;\n",
       "    }\n",
       "\n",
       "    .dataframe tbody tr th {\n",
       "        vertical-align: top;\n",
       "    }\n",
       "\n",
       "    .dataframe thead th {\n",
       "        text-align: right;\n",
       "    }\n",
       "</style>\n",
       "<table border=\"1\" class=\"dataframe\">\n",
       "  <thead>\n",
       "    <tr style=\"text-align: right;\">\n",
       "      <th></th>\n",
       "      <th>classifier</th>\n",
       "      <th>Accuracy</th>\n",
       "      <th>TOP-2 Accuracy</th>\n",
       "      <th>TOP-3 Accuracy</th>\n",
       "      <th>TOP-4 Accuracy</th>\n",
       "      <th>TOP-5 Accuracy</th>\n",
       "      <th>TOP-6 Accuracy</th>\n",
       "      <th>TOP-7 Accuracy</th>\n",
       "      <th>TOP-8 Accuracy</th>\n",
       "      <th>TOP-9 Accuracy</th>\n",
       "      <th>AUC-ROC</th>\n",
       "      <th>Precision</th>\n",
       "      <th>Recall</th>\n",
       "      <th>F1-score</th>\n",
       "    </tr>\n",
       "  </thead>\n",
       "  <tbody>\n",
       "    <tr>\n",
       "      <th>0</th>\n",
       "      <td>KNeighborsClassifier</td>\n",
       "      <td>0.3567</td>\n",
       "      <td>0.5441</td>\n",
       "      <td>0.6622</td>\n",
       "      <td>0.7480</td>\n",
       "      <td>0.8146</td>\n",
       "      <td>0.8744</td>\n",
       "      <td>0.9190</td>\n",
       "      <td>0.9530</td>\n",
       "      <td>0.9802</td>\n",
       "      <td>0.781602</td>\n",
       "      <td>0.358045</td>\n",
       "      <td>0.3567</td>\n",
       "      <td>0.349141</td>\n",
       "    </tr>\n",
       "    <tr>\n",
       "      <th>1</th>\n",
       "      <td>RandomForestClassifier</td>\n",
       "      <td>0.3672</td>\n",
       "      <td>0.5519</td>\n",
       "      <td>0.6648</td>\n",
       "      <td>0.7538</td>\n",
       "      <td>0.8210</td>\n",
       "      <td>0.8755</td>\n",
       "      <td>0.9186</td>\n",
       "      <td>0.9571</td>\n",
       "      <td>0.9824</td>\n",
       "      <td>0.783827</td>\n",
       "      <td>0.361023</td>\n",
       "      <td>0.3672</td>\n",
       "      <td>0.358504</td>\n",
       "    </tr>\n",
       "    <tr>\n",
       "      <th>2</th>\n",
       "      <td>NNClassifier</td>\n",
       "      <td>0.3828</td>\n",
       "      <td>0.5725</td>\n",
       "      <td>0.6806</td>\n",
       "      <td>0.7613</td>\n",
       "      <td>0.8285</td>\n",
       "      <td>0.8767</td>\n",
       "      <td>0.9204</td>\n",
       "      <td>0.9550</td>\n",
       "      <td>0.9820</td>\n",
       "      <td>0.783687</td>\n",
       "      <td>0.377271</td>\n",
       "      <td>0.3828</td>\n",
       "      <td>0.372692</td>\n",
       "    </tr>\n",
       "    <tr>\n",
       "      <th>3</th>\n",
       "      <td>HistGradientBoostingClassifier</td>\n",
       "      <td>0.3611</td>\n",
       "      <td>0.5496</td>\n",
       "      <td>0.6726</td>\n",
       "      <td>0.7609</td>\n",
       "      <td>0.8306</td>\n",
       "      <td>0.8826</td>\n",
       "      <td>0.9286</td>\n",
       "      <td>0.9618</td>\n",
       "      <td>0.9868</td>\n",
       "      <td>0.788579</td>\n",
       "      <td>0.356219</td>\n",
       "      <td>0.3611</td>\n",
       "      <td>0.352178</td>\n",
       "    </tr>\n",
       "    <tr>\n",
       "      <th>4</th>\n",
       "      <td>CatBoostClassifier</td>\n",
       "      <td>0.4106</td>\n",
       "      <td>0.6092</td>\n",
       "      <td>0.7315</td>\n",
       "      <td>0.8142</td>\n",
       "      <td>0.8706</td>\n",
       "      <td>0.9154</td>\n",
       "      <td>0.9499</td>\n",
       "      <td>0.9730</td>\n",
       "      <td>0.9912</td>\n",
       "      <td>0.829335</td>\n",
       "      <td>0.405025</td>\n",
       "      <td>0.4106</td>\n",
       "      <td>0.406068</td>\n",
       "    </tr>\n",
       "    <tr>\n",
       "      <th>5</th>\n",
       "      <td>XGBClassifier</td>\n",
       "      <td>0.3882</td>\n",
       "      <td>0.5772</td>\n",
       "      <td>0.6990</td>\n",
       "      <td>0.7825</td>\n",
       "      <td>0.8431</td>\n",
       "      <td>0.9007</td>\n",
       "      <td>0.9400</td>\n",
       "      <td>0.9688</td>\n",
       "      <td>0.9884</td>\n",
       "      <td>0.806764</td>\n",
       "      <td>0.383669</td>\n",
       "      <td>0.3882</td>\n",
       "      <td>0.381933</td>\n",
       "    </tr>\n",
       "  </tbody>\n",
       "</table>\n",
       "</div>"
      ],
      "text/plain": [
       "                       classifier  Accuracy  TOP-2 Accuracy  TOP-3 Accuracy  \\\n",
       "0            KNeighborsClassifier    0.3567          0.5441          0.6622   \n",
       "1          RandomForestClassifier    0.3672          0.5519          0.6648   \n",
       "2                    NNClassifier    0.3828          0.5725          0.6806   \n",
       "3  HistGradientBoostingClassifier    0.3611          0.5496          0.6726   \n",
       "4              CatBoostClassifier    0.4106          0.6092          0.7315   \n",
       "5                   XGBClassifier    0.3882          0.5772          0.6990   \n",
       "\n",
       "   TOP-4 Accuracy  TOP-5 Accuracy  TOP-6 Accuracy  TOP-7 Accuracy  \\\n",
       "0          0.7480          0.8146          0.8744          0.9190   \n",
       "1          0.7538          0.8210          0.8755          0.9186   \n",
       "2          0.7613          0.8285          0.8767          0.9204   \n",
       "3          0.7609          0.8306          0.8826          0.9286   \n",
       "4          0.8142          0.8706          0.9154          0.9499   \n",
       "5          0.7825          0.8431          0.9007          0.9400   \n",
       "\n",
       "   TOP-8 Accuracy  TOP-9 Accuracy   AUC-ROC  Precision  Recall  F1-score  \n",
       "0          0.9530          0.9802  0.781602   0.358045  0.3567  0.349141  \n",
       "1          0.9571          0.9824  0.783827   0.361023  0.3672  0.358504  \n",
       "2          0.9550          0.9820  0.783687   0.377271  0.3828  0.372692  \n",
       "3          0.9618          0.9868  0.788579   0.356219  0.3611  0.352178  \n",
       "4          0.9730          0.9912  0.829335   0.405025  0.4106  0.406068  \n",
       "5          0.9688          0.9884  0.806764   0.383669  0.3882  0.381933  "
      ]
     },
     "execution_count": 16,
     "metadata": {},
     "output_type": "execute_result"
    },
    {
     "data": {
      "image/png": "[encoded data removed]",
      "text/plain": [
       "<Figure size 1500x1000 with 12 Axes>"
      ]
     },
     "metadata": {},
     "output_type": "display_data"
    }
   ],
   "source": [
    "import cvtda.classification\n",
    "\n",
    "cvtda.classification.classify(train_features, train_labels, test_features, test_labels)"
   ]
  }
 ],
 "metadata": {
  "kernelspec": {
   "display_name": "Python 3",
   "language": "python",
   "name": "python3"
  },
  "language_info": {
   "codemirror_mode": {
    "name": "ipython",
    "version": 3
   },
   "file_extension": ".py",
   "mimetype": "text/x-python",
   "name": "python",
   "nbconvert_exporter": "python",
   "pygments_lexer": "ipython3",
   "version": "3.10.11"
  }
 },
 "nbformat": 4,
 "nbformat_minor": 2
}
