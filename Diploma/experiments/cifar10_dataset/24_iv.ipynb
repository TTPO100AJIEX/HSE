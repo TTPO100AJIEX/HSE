{
 "cells": [
  {
   "cell_type": "code",
   "execution_count": 1,
   "id": "18464c01",
   "metadata": {},
   "outputs": [],
   "source": [
    "import numpy\n",
    "import torchvision\n",
    "\n",
    "train = torchvision.datasets.CIFAR10('cifar-10', train = True, download = False)\n",
    "test = torchvision.datasets.CIFAR10('cifar-10', train = False, download = False)\n",
    "\n",
    "train_images = numpy.array([ numpy.array(item[0]) / 255 for item in train ])\n",
    "train_labels = numpy.array([ item[1] for item in train ])\n",
    "\n",
    "test_images = numpy.array([ numpy.array(item[0]) / 255 for item in test ])\n",
    "test_labels = numpy.array([ item[1] for item in test ])"
   ]
  },
  {
   "cell_type": "code",
   "execution_count": 2,
   "id": "da176365",
   "metadata": {},
   "outputs": [
    {
     "name": "stdout",
     "output_type": "stream",
     "text": [
      "Calculating inverted images\n",
      "RGB images received. Transforming to grayscale.\n"
     ]
    },
    {
     "name": "stderr",
     "output_type": "stream",
     "text": [
      "rgb2gray: 100%|██████████| 50000/50000 [00:04<00:00, 11505.45it/s]\n"
     ]
    },
    {
     "name": "stdout",
     "output_type": "stream",
     "text": [
      "GreyscaleExtractor: processing 20/train/greyscale/gray, do_fit = True\n",
      "Got the result from ./20/train/greyscale/gray/diagrams.npy\n",
      "Applying Scaler to persistence diagrams.\n",
      "DiagramVectorizer: fitting complete\n",
      "Got the result from ./20/train/greyscale/gray/features.npy\n",
      "GreyscaleExtractor: processing 20/train/greyscale/gray, do_fit = False\n",
      "Got the result from ./20/train/greyscale/gray/diagrams.npy\n",
      "Applying Scaler to persistence diagrams.\n",
      "Got the result from ./20/train/greyscale/gray/features.npy\n",
      "GreyscaleExtractor: processing 20/train/greyscale/red, do_fit = True\n",
      "Got the result from ./20/train/greyscale/red/diagrams.npy\n",
      "Applying Scaler to persistence diagrams.\n",
      "DiagramVectorizer: fitting complete\n",
      "Got the result from ./20/train/greyscale/red/features.npy\n",
      "GreyscaleExtractor: processing 20/train/greyscale/red, do_fit = False\n",
      "Got the result from ./20/train/greyscale/red/diagrams.npy\n",
      "Applying Scaler to persistence diagrams.\n",
      "Got the result from ./20/train/greyscale/red/features.npy\n",
      "GreyscaleExtractor: processing 20/train/greyscale/green, do_fit = True\n",
      "Got the result from ./20/train/greyscale/green/diagrams.npy\n",
      "Applying Scaler to persistence diagrams.\n",
      "DiagramVectorizer: fitting complete\n",
      "Got the result from ./20/train/greyscale/green/features.npy\n",
      "GreyscaleExtractor: processing 20/train/greyscale/green, do_fit = False\n",
      "Got the result from ./20/train/greyscale/green/diagrams.npy\n",
      "Applying Scaler to persistence diagrams.\n",
      "Got the result from ./20/train/greyscale/green/features.npy\n",
      "GreyscaleExtractor: processing 20/train/greyscale/blue, do_fit = True\n",
      "Got the result from ./20/train/greyscale/blue/diagrams.npy\n",
      "Applying Scaler to persistence diagrams.\n",
      "DiagramVectorizer: fitting complete\n",
      "Got the result from ./20/train/greyscale/blue/features.npy\n",
      "GreyscaleExtractor: processing 20/train/greyscale/blue, do_fit = False\n",
      "Got the result from ./20/train/greyscale/blue/diagrams.npy\n",
      "Applying Scaler to persistence diagrams.\n",
      "Got the result from ./20/train/greyscale/blue/features.npy\n",
      "RGB images received. Transforming to grayscale.\n"
     ]
    },
    {
     "name": "stderr",
     "output_type": "stream",
     "text": [
      "rgb2gray: 100%|██████████| 50000/50000 [00:03<00:00, 13621.45it/s]\n"
     ]
    },
    {
     "name": "stdout",
     "output_type": "stream",
     "text": [
      "GreyscaleExtractor: processing 20/train/greyscale/gray, do_fit = False\n",
      "Got the result from ./20/train/greyscale/gray/diagrams.npy\n",
      "Applying Scaler to persistence diagrams.\n",
      "Got the result from ./20/train/greyscale/gray/features.npy\n",
      "GreyscaleExtractor: processing 20/train/greyscale/red, do_fit = False\n",
      "Got the result from ./20/train/greyscale/red/diagrams.npy\n",
      "Applying Scaler to persistence diagrams.\n",
      "Got the result from ./20/train/greyscale/red/features.npy\n",
      "GreyscaleExtractor: processing 20/train/greyscale/green, do_fit = False\n",
      "Got the result from ./20/train/greyscale/green/diagrams.npy\n",
      "Applying Scaler to persistence diagrams.\n",
      "Got the result from ./20/train/greyscale/green/features.npy\n",
      "GreyscaleExtractor: processing 20/train/greyscale/blue, do_fit = False\n",
      "Got the result from ./20/train/greyscale/blue/diagrams.npy\n",
      "Applying Scaler to persistence diagrams.\n",
      "Got the result from ./20/train/greyscale/blue/features.npy\n",
      "RGB images received. Transforming to grayscale.\n"
     ]
    },
    {
     "name": "stderr",
     "output_type": "stream",
     "text": [
      "rgb2gray: 100%|██████████| 50000/50000 [00:03<00:00, 13089.67it/s]\n"
     ]
    },
    {
     "name": "stdout",
     "output_type": "stream",
     "text": [
      "GreyscaleExtractor: processing 20/train/inverted_greyscale/gray, do_fit = True\n",
      "Got the result from ./20/train/inverted_greyscale/gray/diagrams.npy\n",
      "Applying Scaler to persistence diagrams.\n",
      "DiagramVectorizer: fitting complete\n",
      "Got the result from ./20/train/inverted_greyscale/gray/features.npy\n",
      "GreyscaleExtractor: processing 20/train/inverted_greyscale/gray, do_fit = False\n",
      "Got the result from ./20/train/inverted_greyscale/gray/diagrams.npy\n",
      "Applying Scaler to persistence diagrams.\n",
      "Got the result from ./20/train/inverted_greyscale/gray/features.npy\n",
      "GreyscaleExtractor: processing 20/train/inverted_greyscale/red, do_fit = True\n",
      "Got the result from ./20/train/inverted_greyscale/red/diagrams.npy\n",
      "Applying Scaler to persistence diagrams.\n",
      "DiagramVectorizer: fitting complete\n",
      "Got the result from ./20/train/inverted_greyscale/red/features.npy\n",
      "GreyscaleExtractor: processing 20/train/inverted_greyscale/red, do_fit = False\n",
      "Got the result from ./20/train/inverted_greyscale/red/diagrams.npy\n",
      "Applying Scaler to persistence diagrams.\n",
      "Got the result from ./20/train/inverted_greyscale/red/features.npy\n",
      "GreyscaleExtractor: processing 20/train/inverted_greyscale/green, do_fit = True\n",
      "Got the result from ./20/train/inverted_greyscale/green/diagrams.npy\n",
      "Applying Scaler to persistence diagrams.\n",
      "DiagramVectorizer: fitting complete\n",
      "Got the result from ./20/train/inverted_greyscale/green/features.npy\n",
      "GreyscaleExtractor: processing 20/train/inverted_greyscale/green, do_fit = False\n",
      "Got the result from ./20/train/inverted_greyscale/green/diagrams.npy\n",
      "Applying Scaler to persistence diagrams.\n",
      "Got the result from ./20/train/inverted_greyscale/green/features.npy\n",
      "GreyscaleExtractor: processing 20/train/inverted_greyscale/blue, do_fit = True\n",
      "Got the result from ./20/train/inverted_greyscale/blue/diagrams.npy\n",
      "Applying Scaler to persistence diagrams.\n",
      "DiagramVectorizer: fitting complete\n",
      "Got the result from ./20/train/inverted_greyscale/blue/features.npy\n",
      "GreyscaleExtractor: processing 20/train/inverted_greyscale/blue, do_fit = False\n",
      "Got the result from ./20/train/inverted_greyscale/blue/diagrams.npy\n",
      "Applying Scaler to persistence diagrams.\n",
      "Got the result from ./20/train/inverted_greyscale/blue/features.npy\n",
      "RGB images received. Transforming to grayscale.\n"
     ]
    },
    {
     "name": "stderr",
     "output_type": "stream",
     "text": [
      "rgb2gray: 100%|██████████| 50000/50000 [00:04<00:00, 12324.70it/s]\n"
     ]
    },
    {
     "name": "stdout",
     "output_type": "stream",
     "text": [
      "GreyscaleExtractor: processing 20/train/inverted_greyscale/gray, do_fit = False\n",
      "Got the result from ./20/train/inverted_greyscale/gray/diagrams.npy\n",
      "Applying Scaler to persistence diagrams.\n",
      "Got the result from ./20/train/inverted_greyscale/gray/features.npy\n",
      "GreyscaleExtractor: processing 20/train/inverted_greyscale/red, do_fit = False\n",
      "Got the result from ./20/train/inverted_greyscale/red/diagrams.npy\n",
      "Applying Scaler to persistence diagrams.\n",
      "Got the result from ./20/train/inverted_greyscale/red/features.npy\n",
      "GreyscaleExtractor: processing 20/train/inverted_greyscale/green, do_fit = False\n",
      "Got the result from ./20/train/inverted_greyscale/green/diagrams.npy\n",
      "Applying Scaler to persistence diagrams.\n",
      "Got the result from ./20/train/inverted_greyscale/green/features.npy\n",
      "GreyscaleExtractor: processing 20/train/inverted_greyscale/blue, do_fit = False\n",
      "Got the result from ./20/train/inverted_greyscale/blue/diagrams.npy\n",
      "Applying Scaler to persistence diagrams.\n",
      "Got the result from ./20/train/inverted_greyscale/blue/features.npy\n",
      "Fitting filtrations\n",
      "Fitting filtration 1/72: HeightFiltration with d = (-1, -1), bin. thr. = 0.2\n",
      "RGB images received. Transforming to grayscale.\n"
     ]
    },
    {
     "name": "stderr",
     "output_type": "stream",
     "text": [
      "rgb2gray: 100%|██████████| 50000/50000 [00:04<00:00, 12321.39it/s]\n"
     ]
    },
    {
     "name": "stdout",
     "output_type": "stream",
     "text": [
      "FiltrationExtractor: processing 20/train/filtrations/2/HeightFiltrartion_-1_-1/gray, do_fit = True, filtration = HeightFiltration(direction=array([-1, -1]), n_jobs=-1)\n",
      "Got the result from ./20/train/filtrations/2/HeightFiltrartion_-1_-1/gray/diagrams.npy\n",
      "Applying Scaler to persistence diagrams.\n",
      "DiagramVectorizer: fitting complete\n",
      "Got the result from ./20/train/filtrations/2/HeightFiltrartion_-1_-1/gray/features.npy\n",
      "FiltrationExtractor: processing 20/train/filtrations/2/HeightFiltrartion_-1_-1/gray, do_fit = False, filtration = HeightFiltration(direction=array([-1, -1]), n_jobs=-1)\n",
      "Got the result from ./20/train/filtrations/2/HeightFiltrartion_-1_-1/gray/diagrams.npy\n",
      "Applying Scaler to persistence diagrams.\n",
      "Got the result from ./20/train/filtrations/2/HeightFiltrartion_-1_-1/gray/features.npy\n",
      "FiltrationExtractor: processing 20/train/filtrations/2/HeightFiltrartion_-1_-1/red, do_fit = True, filtration = HeightFiltration(direction=array([-1, -1]), n_jobs=-1)\n",
      "Got the result from ./20/train/filtrations/2/HeightFiltrartion_-1_-1/red/diagrams.npy\n",
      "Applying Scaler to persistence diagrams.\n",
      "DiagramVectorizer: fitting complete\n",
      "Got the result from ./20/train/filtrations/2/HeightFiltrartion_-1_-1/red/features.npy\n",
      "FiltrationExtractor: processing 20/train/filtrations/2/HeightFiltrartion_-1_-1/red, do_fit = False, filtration = HeightFiltration(direction=array([-1, -1]), n_jobs=-1)\n",
      "Got the result from ./20/train/filtrations/2/HeightFiltrartion_-1_-1/red/diagrams.npy\n",
      "Applying Scaler to persistence diagrams.\n",
      "Got the result from ./20/train/filtrations/2/HeightFiltrartion_-1_-1/red/features.npy\n",
      "FiltrationExtractor: processing 20/train/filtrations/2/HeightFiltrartion_-1_-1/green, do_fit = True, filtration = HeightFiltration(direction=array([-1, -1]), n_jobs=-1)\n",
      "Got the result from ./20/train/filtrations/2/HeightFiltrartion_-1_-1/green/diagrams.npy\n",
      "Applying Scaler to persistence diagrams.\n",
      "DiagramVectorizer: fitting complete\n",
      "Got the result from ./20/train/filtrations/2/HeightFiltrartion_-1_-1/green/features.npy\n",
      "FiltrationExtractor: processing 20/train/filtrations/2/HeightFiltrartion_-1_-1/green, do_fit = False, filtration = HeightFiltration(direction=array([-1, -1]), n_jobs=-1)\n",
      "Got the result from ./20/train/filtrations/2/HeightFiltrartion_-1_-1/green/diagrams.npy\n",
      "Applying Scaler to persistence diagrams.\n",
      "Got the result from ./20/train/filtrations/2/HeightFiltrartion_-1_-1/green/features.npy\n",
      "FiltrationExtractor: processing 20/train/filtrations/2/HeightFiltrartion_-1_-1/blue, do_fit = True, filtration = HeightFiltration(direction=array([-1, -1]), n_jobs=-1)\n",
      "Got the result from ./20/train/filtrations/2/HeightFiltrartion_-1_-1/blue/diagrams.npy\n",
      "Applying Scaler to persistence diagrams.\n",
      "DiagramVectorizer: fitting complete\n",
      "Got the result from ./20/train/filtrations/2/HeightFiltrartion_-1_-1/blue/features.npy\n",
      "FiltrationExtractor: processing 20/train/filtrations/2/HeightFiltrartion_-1_-1/blue, do_fit = False, filtration = HeightFiltration(direction=array([-1, -1]), n_jobs=-1)\n",
      "Got the result from ./20/train/filtrations/2/HeightFiltrartion_-1_-1/blue/diagrams.npy\n",
      "Applying Scaler to persistence diagrams.\n",
      "Got the result from ./20/train/filtrations/2/HeightFiltrartion_-1_-1/blue/features.npy\n",
      "Fitting filtration 2/72: HeightFiltration with d = (-1, 0), bin. thr. = 0.2\n",
      "RGB images received. Transforming to grayscale.\n"
     ]
    },
    {
     "name": "stderr",
     "output_type": "stream",
     "text": [
      "rgb2gray: 100%|██████████| 50000/50000 [00:03<00:00, 13292.03it/s]\n"
     ]
    },
    {
     "name": "stdout",
     "output_type": "stream",
     "text": [
      "FiltrationExtractor: processing 20/train/filtrations/2/HeightFiltrartion_-1_0/gray, do_fit = True, filtration = HeightFiltration(direction=array([-1,  0]), n_jobs=-1)\n",
      "Got the result from ./20/train/filtrations/2/HeightFiltrartion_-1_0/gray/diagrams.npy\n",
      "Applying Scaler to persistence diagrams.\n",
      "DiagramVectorizer: fitting complete\n",
      "Got the result from ./20/train/filtrations/2/HeightFiltrartion_-1_0/gray/features.npy\n",
      "FiltrationExtractor: processing 20/train/filtrations/2/HeightFiltrartion_-1_0/gray, do_fit = False, filtration = HeightFiltration(direction=array([-1,  0]), n_jobs=-1)\n",
      "Got the result from ./20/train/filtrations/2/HeightFiltrartion_-1_0/gray/diagrams.npy\n",
      "Applying Scaler to persistence diagrams.\n",
      "Got the result from ./20/train/filtrations/2/HeightFiltrartion_-1_0/gray/features.npy\n",
      "FiltrationExtractor: processing 20/train/filtrations/2/HeightFiltrartion_-1_0/red, do_fit = True, filtration = HeightFiltration(direction=array([-1,  0]), n_jobs=-1)\n",
      "Got the result from ./20/train/filtrations/2/HeightFiltrartion_-1_0/red/diagrams.npy\n",
      "Applying Scaler to persistence diagrams.\n",
      "DiagramVectorizer: fitting complete\n",
      "Got the result from ./20/train/filtrations/2/HeightFiltrartion_-1_0/red/features.npy\n",
      "FiltrationExtractor: processing 20/train/filtrations/2/HeightFiltrartion_-1_0/red, do_fit = False, filtration = HeightFiltration(direction=array([-1,  0]), n_jobs=-1)\n",
      "Got the result from ./20/train/filtrations/2/HeightFiltrartion_-1_0/red/diagrams.npy\n",
      "Applying Scaler to persistence diagrams.\n",
      "Got the result from ./20/train/filtrations/2/HeightFiltrartion_-1_0/red/features.npy\n",
      "FiltrationExtractor: processing 20/train/filtrations/2/HeightFiltrartion_-1_0/green, do_fit = True, filtration = HeightFiltration(direction=array([-1,  0]), n_jobs=-1)\n",
      "Got the result from ./20/train/filtrations/2/HeightFiltrartion_-1_0/green/diagrams.npy\n",
      "Applying Scaler to persistence diagrams.\n",
      "DiagramVectorizer: fitting complete\n",
      "Got the result from ./20/train/filtrations/2/HeightFiltrartion_-1_0/green/features.npy\n",
      "FiltrationExtractor: processing 20/train/filtrations/2/HeightFiltrartion_-1_0/green, do_fit = False, filtration = HeightFiltration(direction=array([-1,  0]), n_jobs=-1)\n",
      "Got the result from ./20/train/filtrations/2/HeightFiltrartion_-1_0/green/diagrams.npy\n",
      "Applying Scaler to persistence diagrams.\n",
      "Got the result from ./20/train/filtrations/2/HeightFiltrartion_-1_0/green/features.npy\n",
      "FiltrationExtractor: processing 20/train/filtrations/2/HeightFiltrartion_-1_0/blue, do_fit = True, filtration = HeightFiltration(direction=array([-1,  0]), n_jobs=-1)\n",
      "Got the result from ./20/train/filtrations/2/HeightFiltrartion_-1_0/blue/diagrams.npy\n",
      "Applying Scaler to persistence diagrams.\n",
      "DiagramVectorizer: fitting complete\n",
      "Got the result from ./20/train/filtrations/2/HeightFiltrartion_-1_0/blue/features.npy\n",
      "FiltrationExtractor: processing 20/train/filtrations/2/HeightFiltrartion_-1_0/blue, do_fit = False, filtration = HeightFiltration(direction=array([-1,  0]), n_jobs=-1)\n",
      "Got the result from ./20/train/filtrations/2/HeightFiltrartion_-1_0/blue/diagrams.npy\n",
      "Applying Scaler to persistence diagrams.\n",
      "Got the result from ./20/train/filtrations/2/HeightFiltrartion_-1_0/blue/features.npy\n",
      "Fitting filtration 3/72: HeightFiltration with d = (-1, 1), bin. thr. = 0.2\n",
      "RGB images received. Transforming to grayscale.\n"
     ]
    },
    {
     "name": "stderr",
     "output_type": "stream",
     "text": [
      "rgb2gray: 100%|██████████| 50000/50000 [00:03<00:00, 13150.44it/s]\n"
     ]
    },
    {
     "name": "stdout",
     "output_type": "stream",
     "text": [
      "FiltrationExtractor: processing 20/train/filtrations/2/HeightFiltrartion_-1_1/gray, do_fit = True, filtration = HeightFiltration(direction=array([-1,  1]), n_jobs=-1)\n",
      "Got the result from ./20/train/filtrations/2/HeightFiltrartion_-1_1/gray/diagrams.npy\n",
      "Applying Scaler to persistence diagrams.\n",
      "DiagramVectorizer: fitting complete\n",
      "Got the result from ./20/train/filtrations/2/HeightFiltrartion_-1_1/gray/features.npy\n",
      "FiltrationExtractor: processing 20/train/filtrations/2/HeightFiltrartion_-1_1/gray, do_fit = False, filtration = HeightFiltration(direction=array([-1,  1]), n_jobs=-1)\n",
      "Got the result from ./20/train/filtrations/2/HeightFiltrartion_-1_1/gray/diagrams.npy\n",
      "Applying Scaler to persistence diagrams.\n",
      "Got the result from ./20/train/filtrations/2/HeightFiltrartion_-1_1/gray/features.npy\n",
      "FiltrationExtractor: processing 20/train/filtrations/2/HeightFiltrartion_-1_1/red, do_fit = True, filtration = HeightFiltration(direction=array([-1,  1]), n_jobs=-1)\n",
      "Got the result from ./20/train/filtrations/2/HeightFiltrartion_-1_1/red/diagrams.npy\n",
      "Applying Scaler to persistence diagrams.\n",
      "DiagramVectorizer: fitting complete\n",
      "Got the result from ./20/train/filtrations/2/HeightFiltrartion_-1_1/red/features.npy\n",
      "FiltrationExtractor: processing 20/train/filtrations/2/HeightFiltrartion_-1_1/red, do_fit = False, filtration = HeightFiltration(direction=array([-1,  1]), n_jobs=-1)\n",
      "Got the result from ./20/train/filtrations/2/HeightFiltrartion_-1_1/red/diagrams.npy\n",
      "Applying Scaler to persistence diagrams.\n",
      "Got the result from ./20/train/filtrations/2/HeightFiltrartion_-1_1/red/features.npy\n",
      "FiltrationExtractor: processing 20/train/filtrations/2/HeightFiltrartion_-1_1/green, do_fit = True, filtration = HeightFiltration(direction=array([-1,  1]), n_jobs=-1)\n",
      "Got the result from ./20/train/filtrations/2/HeightFiltrartion_-1_1/green/diagrams.npy\n",
      "Applying Scaler to persistence diagrams.\n",
      "DiagramVectorizer: fitting complete\n",
      "Got the result from ./20/train/filtrations/2/HeightFiltrartion_-1_1/green/features.npy\n",
      "FiltrationExtractor: processing 20/train/filtrations/2/HeightFiltrartion_-1_1/green, do_fit = False, filtration = HeightFiltration(direction=array([-1,  1]), n_jobs=-1)\n",
      "Got the result from ./20/train/filtrations/2/HeightFiltrartion_-1_1/green/diagrams.npy\n",
      "Applying Scaler to persistence diagrams.\n",
      "Got the result from ./20/train/filtrations/2/HeightFiltrartion_-1_1/green/features.npy\n",
      "FiltrationExtractor: processing 20/train/filtrations/2/HeightFiltrartion_-1_1/blue, do_fit = True, filtration = HeightFiltration(direction=array([-1,  1]), n_jobs=-1)\n",
      "Got the result from ./20/train/filtrations/2/HeightFiltrartion_-1_1/blue/diagrams.npy\n",
      "Applying Scaler to persistence diagrams.\n",
      "DiagramVectorizer: fitting complete\n",
      "Got the result from ./20/train/filtrations/2/HeightFiltrartion_-1_1/blue/features.npy\n",
      "FiltrationExtractor: processing 20/train/filtrations/2/HeightFiltrartion_-1_1/blue, do_fit = False, filtration = HeightFiltration(direction=array([-1,  1]), n_jobs=-1)\n",
      "Got the result from ./20/train/filtrations/2/HeightFiltrartion_-1_1/blue/diagrams.npy\n",
      "Applying Scaler to persistence diagrams.\n",
      "Got the result from ./20/train/filtrations/2/HeightFiltrartion_-1_1/blue/features.npy\n",
      "Fitting filtration 4/72: HeightFiltration with d = (0, -1), bin. thr. = 0.2\n",
      "RGB images received. Transforming to grayscale.\n"
     ]
    },
    {
     "name": "stderr",
     "output_type": "stream",
     "text": [
      "rgb2gray: 100%|██████████| 50000/50000 [00:03<00:00, 12757.68it/s]\n"
     ]
    },
    {
     "name": "stdout",
     "output_type": "stream",
     "text": [
      "FiltrationExtractor: processing 20/train/filtrations/2/HeightFiltrartion_0_-1/gray, do_fit = True, filtration = HeightFiltration(direction=array([ 0, -1]), n_jobs=-1)\n",
      "Got the result from ./20/train/filtrations/2/HeightFiltrartion_0_-1/gray/diagrams.npy\n",
      "Applying Scaler to persistence diagrams.\n",
      "DiagramVectorizer: fitting complete\n",
      "Got the result from ./20/train/filtrations/2/HeightFiltrartion_0_-1/gray/features.npy\n",
      "FiltrationExtractor: processing 20/train/filtrations/2/HeightFiltrartion_0_-1/gray, do_fit = False, filtration = HeightFiltration(direction=array([ 0, -1]), n_jobs=-1)\n",
      "Got the result from ./20/train/filtrations/2/HeightFiltrartion_0_-1/gray/diagrams.npy\n",
      "Applying Scaler to persistence diagrams.\n",
      "Got the result from ./20/train/filtrations/2/HeightFiltrartion_0_-1/gray/features.npy\n",
      "FiltrationExtractor: processing 20/train/filtrations/2/HeightFiltrartion_0_-1/red, do_fit = True, filtration = HeightFiltration(direction=array([ 0, -1]), n_jobs=-1)\n",
      "Got the result from ./20/train/filtrations/2/HeightFiltrartion_0_-1/red/diagrams.npy\n",
      "Applying Scaler to persistence diagrams.\n",
      "DiagramVectorizer: fitting complete\n",
      "Got the result from ./20/train/filtrations/2/HeightFiltrartion_0_-1/red/features.npy\n",
      "FiltrationExtractor: processing 20/train/filtrations/2/HeightFiltrartion_0_-1/red, do_fit = False, filtration = HeightFiltration(direction=array([ 0, -1]), n_jobs=-1)\n",
      "Got the result from ./20/train/filtrations/2/HeightFiltrartion_0_-1/red/diagrams.npy\n",
      "Applying Scaler to persistence diagrams.\n",
      "Got the result from ./20/train/filtrations/2/HeightFiltrartion_0_-1/red/features.npy\n",
      "FiltrationExtractor: processing 20/train/filtrations/2/HeightFiltrartion_0_-1/green, do_fit = True, filtration = HeightFiltration(direction=array([ 0, -1]), n_jobs=-1)\n",
      "Got the result from ./20/train/filtrations/2/HeightFiltrartion_0_-1/green/diagrams.npy\n",
      "Applying Scaler to persistence diagrams.\n",
      "DiagramVectorizer: fitting complete\n",
      "Got the result from ./20/train/filtrations/2/HeightFiltrartion_0_-1/green/features.npy\n",
      "FiltrationExtractor: processing 20/train/filtrations/2/HeightFiltrartion_0_-1/green, do_fit = False, filtration = HeightFiltration(direction=array([ 0, -1]), n_jobs=-1)\n",
      "Got the result from ./20/train/filtrations/2/HeightFiltrartion_0_-1/green/diagrams.npy\n",
      "Applying Scaler to persistence diagrams.\n",
      "Got the result from ./20/train/filtrations/2/HeightFiltrartion_0_-1/green/features.npy\n",
      "FiltrationExtractor: processing 20/train/filtrations/2/HeightFiltrartion_0_-1/blue, do_fit = True, filtration = HeightFiltration(direction=array([ 0, -1]), n_jobs=-1)\n",
      "Got the result from ./20/train/filtrations/2/HeightFiltrartion_0_-1/blue/diagrams.npy\n",
      "Applying Scaler to persistence diagrams.\n",
      "DiagramVectorizer: fitting complete\n",
      "Got the result from ./20/train/filtrations/2/HeightFiltrartion_0_-1/blue/features.npy\n",
      "FiltrationExtractor: processing 20/train/filtrations/2/HeightFiltrartion_0_-1/blue, do_fit = False, filtration = HeightFiltration(direction=array([ 0, -1]), n_jobs=-1)\n",
      "Got the result from ./20/train/filtrations/2/HeightFiltrartion_0_-1/blue/diagrams.npy\n",
      "Applying Scaler to persistence diagrams.\n",
      "Got the result from ./20/train/filtrations/2/HeightFiltrartion_0_-1/blue/features.npy\n",
      "Fitting filtration 5/72: HeightFiltration with d = (0, 1), bin. thr. = 0.2\n",
      "RGB images received. Transforming to grayscale.\n"
     ]
    },
    {
     "name": "stderr",
     "output_type": "stream",
     "text": [
      "rgb2gray: 100%|██████████| 50000/50000 [00:04<00:00, 11286.80it/s]\n"
     ]
    },
    {
     "name": "stdout",
     "output_type": "stream",
     "text": [
      "FiltrationExtractor: processing 20/train/filtrations/2/HeightFiltrartion_0_1/gray, do_fit = True, filtration = HeightFiltration(direction=array([0, 1]), n_jobs=-1)\n",
      "Got the result from ./20/train/filtrations/2/HeightFiltrartion_0_1/gray/diagrams.npy\n",
      "Applying Scaler to persistence diagrams.\n",
      "DiagramVectorizer: fitting complete\n",
      "Got the result from ./20/train/filtrations/2/HeightFiltrartion_0_1/gray/features.npy\n",
      "FiltrationExtractor: processing 20/train/filtrations/2/HeightFiltrartion_0_1/gray, do_fit = False, filtration = HeightFiltration(direction=array([0, 1]), n_jobs=-1)\n",
      "Got the result from ./20/train/filtrations/2/HeightFiltrartion_0_1/gray/diagrams.npy\n",
      "Applying Scaler to persistence diagrams.\n",
      "Got the result from ./20/train/filtrations/2/HeightFiltrartion_0_1/gray/features.npy\n",
      "FiltrationExtractor: processing 20/train/filtrations/2/HeightFiltrartion_0_1/red, do_fit = True, filtration = HeightFiltration(direction=array([0, 1]), n_jobs=-1)\n",
      "Got the result from ./20/train/filtrations/2/HeightFiltrartion_0_1/red/diagrams.npy\n",
      "Applying Scaler to persistence diagrams.\n",
      "DiagramVectorizer: fitting complete\n",
      "Got the result from ./20/train/filtrations/2/HeightFiltrartion_0_1/red/features.npy\n",
      "FiltrationExtractor: processing 20/train/filtrations/2/HeightFiltrartion_0_1/red, do_fit = False, filtration = HeightFiltration(direction=array([0, 1]), n_jobs=-1)\n",
      "Got the result from ./20/train/filtrations/2/HeightFiltrartion_0_1/red/diagrams.npy\n",
      "Applying Scaler to persistence diagrams.\n",
      "Got the result from ./20/train/filtrations/2/HeightFiltrartion_0_1/red/features.npy\n",
      "FiltrationExtractor: processing 20/train/filtrations/2/HeightFiltrartion_0_1/green, do_fit = True, filtration = HeightFiltration(direction=array([0, 1]), n_jobs=-1)\n",
      "Got the result from ./20/train/filtrations/2/HeightFiltrartion_0_1/green/diagrams.npy\n",
      "Applying Scaler to persistence diagrams.\n",
      "DiagramVectorizer: fitting complete\n",
      "Got the result from ./20/train/filtrations/2/HeightFiltrartion_0_1/green/features.npy\n",
      "FiltrationExtractor: processing 20/train/filtrations/2/HeightFiltrartion_0_1/green, do_fit = False, filtration = HeightFiltration(direction=array([0, 1]), n_jobs=-1)\n",
      "Got the result from ./20/train/filtrations/2/HeightFiltrartion_0_1/green/diagrams.npy\n",
      "Applying Scaler to persistence diagrams.\n",
      "Got the result from ./20/train/filtrations/2/HeightFiltrartion_0_1/green/features.npy\n",
      "FiltrationExtractor: processing 20/train/filtrations/2/HeightFiltrartion_0_1/blue, do_fit = True, filtration = HeightFiltration(direction=array([0, 1]), n_jobs=-1)\n",
      "Got the result from ./20/train/filtrations/2/HeightFiltrartion_0_1/blue/diagrams.npy\n",
      "Applying Scaler to persistence diagrams.\n",
      "DiagramVectorizer: fitting complete\n",
      "Got the result from ./20/train/filtrations/2/HeightFiltrartion_0_1/blue/features.npy\n",
      "FiltrationExtractor: processing 20/train/filtrations/2/HeightFiltrartion_0_1/blue, do_fit = False, filtration = HeightFiltration(direction=array([0, 1]), n_jobs=-1)\n",
      "Got the result from ./20/train/filtrations/2/HeightFiltrartion_0_1/blue/diagrams.npy\n",
      "Applying Scaler to persistence diagrams.\n",
      "Got the result from ./20/train/filtrations/2/HeightFiltrartion_0_1/blue/features.npy\n",
      "Fitting filtration 6/72: HeightFiltration with d = (1, -1), bin. thr. = 0.2\n",
      "RGB images received. Transforming to grayscale.\n"
     ]
    },
    {
     "name": "stderr",
     "output_type": "stream",
     "text": [
      "rgb2gray: 100%|██████████| 50000/50000 [00:03<00:00, 12730.69it/s]\n"
     ]
    },
    {
     "name": "stdout",
     "output_type": "stream",
     "text": [
      "FiltrationExtractor: processing 20/train/filtrations/2/HeightFiltrartion_1_-1/gray, do_fit = True, filtration = HeightFiltration(direction=array([ 1, -1]), n_jobs=-1)\n",
      "Got the result from ./20/train/filtrations/2/HeightFiltrartion_1_-1/gray/diagrams.npy\n",
      "Applying Scaler to persistence diagrams.\n",
      "DiagramVectorizer: fitting complete\n",
      "Got the result from ./20/train/filtrations/2/HeightFiltrartion_1_-1/gray/features.npy\n",
      "FiltrationExtractor: processing 20/train/filtrations/2/HeightFiltrartion_1_-1/gray, do_fit = False, filtration = HeightFiltration(direction=array([ 1, -1]), n_jobs=-1)\n",
      "Got the result from ./20/train/filtrations/2/HeightFiltrartion_1_-1/gray/diagrams.npy\n",
      "Applying Scaler to persistence diagrams.\n",
      "Got the result from ./20/train/filtrations/2/HeightFiltrartion_1_-1/gray/features.npy\n",
      "FiltrationExtractor: processing 20/train/filtrations/2/HeightFiltrartion_1_-1/red, do_fit = True, filtration = HeightFiltration(direction=array([ 1, -1]), n_jobs=-1)\n",
      "Got the result from ./20/train/filtrations/2/HeightFiltrartion_1_-1/red/diagrams.npy\n",
      "Applying Scaler to persistence diagrams.\n",
      "DiagramVectorizer: fitting complete\n",
      "Got the result from ./20/train/filtrations/2/HeightFiltrartion_1_-1/red/features.npy\n",
      "FiltrationExtractor: processing 20/train/filtrations/2/HeightFiltrartion_1_-1/red, do_fit = False, filtration = HeightFiltration(direction=array([ 1, -1]), n_jobs=-1)\n",
      "Got the result from ./20/train/filtrations/2/HeightFiltrartion_1_-1/red/diagrams.npy\n",
      "Applying Scaler to persistence diagrams.\n",
      "Got the result from ./20/train/filtrations/2/HeightFiltrartion_1_-1/red/features.npy\n",
      "FiltrationExtractor: processing 20/train/filtrations/2/HeightFiltrartion_1_-1/green, do_fit = True, filtration = HeightFiltration(direction=array([ 1, -1]), n_jobs=-1)\n",
      "Got the result from ./20/train/filtrations/2/HeightFiltrartion_1_-1/green/diagrams.npy\n",
      "Applying Scaler to persistence diagrams.\n",
      "DiagramVectorizer: fitting complete\n",
      "Got the result from ./20/train/filtrations/2/HeightFiltrartion_1_-1/green/features.npy\n",
      "FiltrationExtractor: processing 20/train/filtrations/2/HeightFiltrartion_1_-1/green, do_fit = False, filtration = HeightFiltration(direction=array([ 1, -1]), n_jobs=-1)\n",
      "Got the result from ./20/train/filtrations/2/HeightFiltrartion_1_-1/green/diagrams.npy\n",
      "Applying Scaler to persistence diagrams.\n",
      "Got the result from ./20/train/filtrations/2/HeightFiltrartion_1_-1/green/features.npy\n",
      "FiltrationExtractor: processing 20/train/filtrations/2/HeightFiltrartion_1_-1/blue, do_fit = True, filtration = HeightFiltration(direction=array([ 1, -1]), n_jobs=-1)\n",
      "Got the result from ./20/train/filtrations/2/HeightFiltrartion_1_-1/blue/diagrams.npy\n",
      "Applying Scaler to persistence diagrams.\n",
      "DiagramVectorizer: fitting complete\n",
      "Got the result from ./20/train/filtrations/2/HeightFiltrartion_1_-1/blue/features.npy\n",
      "FiltrationExtractor: processing 20/train/filtrations/2/HeightFiltrartion_1_-1/blue, do_fit = False, filtration = HeightFiltration(direction=array([ 1, -1]), n_jobs=-1)\n",
      "Got the result from ./20/train/filtrations/2/HeightFiltrartion_1_-1/blue/diagrams.npy\n",
      "Applying Scaler to persistence diagrams.\n",
      "Got the result from ./20/train/filtrations/2/HeightFiltrartion_1_-1/blue/features.npy\n",
      "Fitting filtration 7/72: HeightFiltration with d = (1, 0), bin. thr. = 0.2\n",
      "RGB images received. Transforming to grayscale.\n"
     ]
    },
    {
     "name": "stderr",
     "output_type": "stream",
     "text": [
      "rgb2gray: 100%|██████████| 50000/50000 [00:04<00:00, 12124.00it/s]\n"
     ]
    },
    {
     "name": "stdout",
     "output_type": "stream",
     "text": [
      "FiltrationExtractor: processing 20/train/filtrations/2/HeightFiltrartion_1_0/gray, do_fit = True, filtration = HeightFiltration(direction=array([1, 0]), n_jobs=-1)\n",
      "Got the result from ./20/train/filtrations/2/HeightFiltrartion_1_0/gray/diagrams.npy\n",
      "Applying Scaler to persistence diagrams.\n",
      "DiagramVectorizer: fitting complete\n",
      "Got the result from ./20/train/filtrations/2/HeightFiltrartion_1_0/gray/features.npy\n",
      "FiltrationExtractor: processing 20/train/filtrations/2/HeightFiltrartion_1_0/gray, do_fit = False, filtration = HeightFiltration(direction=array([1, 0]), n_jobs=-1)\n",
      "Got the result from ./20/train/filtrations/2/HeightFiltrartion_1_0/gray/diagrams.npy\n",
      "Applying Scaler to persistence diagrams.\n",
      "Got the result from ./20/train/filtrations/2/HeightFiltrartion_1_0/gray/features.npy\n",
      "FiltrationExtractor: processing 20/train/filtrations/2/HeightFiltrartion_1_0/red, do_fit = True, filtration = HeightFiltration(direction=array([1, 0]), n_jobs=-1)\n",
      "Got the result from ./20/train/filtrations/2/HeightFiltrartion_1_0/red/diagrams.npy\n",
      "Applying Scaler to persistence diagrams.\n",
      "DiagramVectorizer: fitting complete\n",
      "Got the result from ./20/train/filtrations/2/HeightFiltrartion_1_0/red/features.npy\n",
      "FiltrationExtractor: processing 20/train/filtrations/2/HeightFiltrartion_1_0/red, do_fit = False, filtration = HeightFiltration(direction=array([1, 0]), n_jobs=-1)\n",
      "Got the result from ./20/train/filtrations/2/HeightFiltrartion_1_0/red/diagrams.npy\n",
      "Applying Scaler to persistence diagrams.\n",
      "Got the result from ./20/train/filtrations/2/HeightFiltrartion_1_0/red/features.npy\n",
      "FiltrationExtractor: processing 20/train/filtrations/2/HeightFiltrartion_1_0/green, do_fit = True, filtration = HeightFiltration(direction=array([1, 0]), n_jobs=-1)\n",
      "Got the result from ./20/train/filtrations/2/HeightFiltrartion_1_0/green/diagrams.npy\n",
      "Applying Scaler to persistence diagrams.\n",
      "DiagramVectorizer: fitting complete\n",
      "Got the result from ./20/train/filtrations/2/HeightFiltrartion_1_0/green/features.npy\n",
      "FiltrationExtractor: processing 20/train/filtrations/2/HeightFiltrartion_1_0/green, do_fit = False, filtration = HeightFiltration(direction=array([1, 0]), n_jobs=-1)\n",
      "Got the result from ./20/train/filtrations/2/HeightFiltrartion_1_0/green/diagrams.npy\n",
      "Applying Scaler to persistence diagrams.\n",
      "Got the result from ./20/train/filtrations/2/HeightFiltrartion_1_0/green/features.npy\n",
      "FiltrationExtractor: processing 20/train/filtrations/2/HeightFiltrartion_1_0/blue, do_fit = True, filtration = HeightFiltration(direction=array([1, 0]), n_jobs=-1)\n",
      "Got the result from ./20/train/filtrations/2/HeightFiltrartion_1_0/blue/diagrams.npy\n",
      "Applying Scaler to persistence diagrams.\n",
      "DiagramVectorizer: fitting complete\n",
      "Got the result from ./20/train/filtrations/2/HeightFiltrartion_1_0/blue/features.npy\n",
      "FiltrationExtractor: processing 20/train/filtrations/2/HeightFiltrartion_1_0/blue, do_fit = False, filtration = HeightFiltration(direction=array([1, 0]), n_jobs=-1)\n",
      "Got the result from ./20/train/filtrations/2/HeightFiltrartion_1_0/blue/diagrams.npy\n",
      "Applying Scaler to persistence diagrams.\n",
      "Got the result from ./20/train/filtrations/2/HeightFiltrartion_1_0/blue/features.npy\n",
      "Fitting filtration 8/72: HeightFiltration with d = (1, 1), bin. thr. = 0.2\n",
      "RGB images received. Transforming to grayscale.\n"
     ]
    },
    {
     "name": "stderr",
     "output_type": "stream",
     "text": [
      "rgb2gray: 100%|██████████| 50000/50000 [00:04<00:00, 11917.07it/s]\n"
     ]
    },
    {
     "name": "stdout",
     "output_type": "stream",
     "text": [
      "FiltrationExtractor: processing 20/train/filtrations/2/HeightFiltrartion_1_1/gray, do_fit = True, filtration = HeightFiltration(direction=array([1, 1]), n_jobs=-1)\n",
      "Got the result from ./20/train/filtrations/2/HeightFiltrartion_1_1/gray/diagrams.npy\n",
      "Applying Scaler to persistence diagrams.\n",
      "DiagramVectorizer: fitting complete\n",
      "Got the result from ./20/train/filtrations/2/HeightFiltrartion_1_1/gray/features.npy\n",
      "FiltrationExtractor: processing 20/train/filtrations/2/HeightFiltrartion_1_1/gray, do_fit = False, filtration = HeightFiltration(direction=array([1, 1]), n_jobs=-1)\n",
      "Got the result from ./20/train/filtrations/2/HeightFiltrartion_1_1/gray/diagrams.npy\n",
      "Applying Scaler to persistence diagrams.\n",
      "Got the result from ./20/train/filtrations/2/HeightFiltrartion_1_1/gray/features.npy\n",
      "FiltrationExtractor: processing 20/train/filtrations/2/HeightFiltrartion_1_1/red, do_fit = True, filtration = HeightFiltration(direction=array([1, 1]), n_jobs=-1)\n",
      "Got the result from ./20/train/filtrations/2/HeightFiltrartion_1_1/red/diagrams.npy\n",
      "Applying Scaler to persistence diagrams.\n",
      "DiagramVectorizer: fitting complete\n",
      "Got the result from ./20/train/filtrations/2/HeightFiltrartion_1_1/red/features.npy\n",
      "FiltrationExtractor: processing 20/train/filtrations/2/HeightFiltrartion_1_1/red, do_fit = False, filtration = HeightFiltration(direction=array([1, 1]), n_jobs=-1)\n",
      "Got the result from ./20/train/filtrations/2/HeightFiltrartion_1_1/red/diagrams.npy\n",
      "Applying Scaler to persistence diagrams.\n",
      "Got the result from ./20/train/filtrations/2/HeightFiltrartion_1_1/red/features.npy\n",
      "FiltrationExtractor: processing 20/train/filtrations/2/HeightFiltrartion_1_1/green, do_fit = True, filtration = HeightFiltration(direction=array([1, 1]), n_jobs=-1)\n",
      "Got the result from ./20/train/filtrations/2/HeightFiltrartion_1_1/green/diagrams.npy\n",
      "Applying Scaler to persistence diagrams.\n",
      "DiagramVectorizer: fitting complete\n",
      "Got the result from ./20/train/filtrations/2/HeightFiltrartion_1_1/green/features.npy\n",
      "FiltrationExtractor: processing 20/train/filtrations/2/HeightFiltrartion_1_1/green, do_fit = False, filtration = HeightFiltration(direction=array([1, 1]), n_jobs=-1)\n",
      "Got the result from ./20/train/filtrations/2/HeightFiltrartion_1_1/green/diagrams.npy\n",
      "Applying Scaler to persistence diagrams.\n",
      "Got the result from ./20/train/filtrations/2/HeightFiltrartion_1_1/green/features.npy\n",
      "FiltrationExtractor: processing 20/train/filtrations/2/HeightFiltrartion_1_1/blue, do_fit = True, filtration = HeightFiltration(direction=array([1, 1]), n_jobs=-1)\n",
      "Got the result from ./20/train/filtrations/2/HeightFiltrartion_1_1/blue/diagrams.npy\n",
      "Applying Scaler to persistence diagrams.\n",
      "DiagramVectorizer: fitting complete\n",
      "Got the result from ./20/train/filtrations/2/HeightFiltrartion_1_1/blue/features.npy\n",
      "FiltrationExtractor: processing 20/train/filtrations/2/HeightFiltrartion_1_1/blue, do_fit = False, filtration = HeightFiltration(direction=array([1, 1]), n_jobs=-1)\n",
      "Got the result from ./20/train/filtrations/2/HeightFiltrartion_1_1/blue/diagrams.npy\n",
      "Applying Scaler to persistence diagrams.\n",
      "Got the result from ./20/train/filtrations/2/HeightFiltrartion_1_1/blue/features.npy\n",
      "Fitting filtration 9/72: RadialFiltration with c = (5, 5), bin. thr. = 0.2\n",
      "RGB images received. Transforming to grayscale.\n"
     ]
    },
    {
     "name": "stderr",
     "output_type": "stream",
     "text": [
      "rgb2gray: 100%|██████████| 50000/50000 [00:04<00:00, 11698.03it/s]\n"
     ]
    },
    {
     "name": "stdout",
     "output_type": "stream",
     "text": [
      "FiltrationExtractor: processing 20/train/filtrations/2/RadialFiltration_5_5/gray, do_fit = True, filtration = RadialFiltration(center=array([5, 5]), n_jobs=-1)\n",
      "Got the result from ./20/train/filtrations/2/RadialFiltration_5_5/gray/diagrams.npy\n",
      "Applying Scaler to persistence diagrams.\n",
      "DiagramVectorizer: fitting complete\n",
      "Got the result from ./20/train/filtrations/2/RadialFiltration_5_5/gray/features.npy\n",
      "FiltrationExtractor: processing 20/train/filtrations/2/RadialFiltration_5_5/gray, do_fit = False, filtration = RadialFiltration(center=array([5, 5]), n_jobs=-1)\n",
      "Got the result from ./20/train/filtrations/2/RadialFiltration_5_5/gray/diagrams.npy\n",
      "Applying Scaler to persistence diagrams.\n",
      "Got the result from ./20/train/filtrations/2/RadialFiltration_5_5/gray/features.npy\n",
      "FiltrationExtractor: processing 20/train/filtrations/2/RadialFiltration_5_5/red, do_fit = True, filtration = RadialFiltration(center=array([5, 5]), n_jobs=-1)\n",
      "Got the result from ./20/train/filtrations/2/RadialFiltration_5_5/red/diagrams.npy\n",
      "Applying Scaler to persistence diagrams.\n",
      "DiagramVectorizer: fitting complete\n",
      "Got the result from ./20/train/filtrations/2/RadialFiltration_5_5/red/features.npy\n",
      "FiltrationExtractor: processing 20/train/filtrations/2/RadialFiltration_5_5/red, do_fit = False, filtration = RadialFiltration(center=array([5, 5]), n_jobs=-1)\n",
      "Got the result from ./20/train/filtrations/2/RadialFiltration_5_5/red/diagrams.npy\n",
      "Applying Scaler to persistence diagrams.\n",
      "Got the result from ./20/train/filtrations/2/RadialFiltration_5_5/red/features.npy\n",
      "FiltrationExtractor: processing 20/train/filtrations/2/RadialFiltration_5_5/green, do_fit = True, filtration = RadialFiltration(center=array([5, 5]), n_jobs=-1)\n",
      "Got the result from ./20/train/filtrations/2/RadialFiltration_5_5/green/diagrams.npy\n",
      "Applying Scaler to persistence diagrams.\n",
      "DiagramVectorizer: fitting complete\n",
      "Got the result from ./20/train/filtrations/2/RadialFiltration_5_5/green/features.npy\n",
      "FiltrationExtractor: processing 20/train/filtrations/2/RadialFiltration_5_5/green, do_fit = False, filtration = RadialFiltration(center=array([5, 5]), n_jobs=-1)\n",
      "Got the result from ./20/train/filtrations/2/RadialFiltration_5_5/green/diagrams.npy\n",
      "Applying Scaler to persistence diagrams.\n",
      "Got the result from ./20/train/filtrations/2/RadialFiltration_5_5/green/features.npy\n",
      "FiltrationExtractor: processing 20/train/filtrations/2/RadialFiltration_5_5/blue, do_fit = True, filtration = RadialFiltration(center=array([5, 5]), n_jobs=-1)\n",
      "Got the result from ./20/train/filtrations/2/RadialFiltration_5_5/blue/diagrams.npy\n",
      "Applying Scaler to persistence diagrams.\n",
      "DiagramVectorizer: fitting complete\n",
      "Got the result from ./20/train/filtrations/2/RadialFiltration_5_5/blue/features.npy\n",
      "FiltrationExtractor: processing 20/train/filtrations/2/RadialFiltration_5_5/blue, do_fit = False, filtration = RadialFiltration(center=array([5, 5]), n_jobs=-1)\n",
      "Got the result from ./20/train/filtrations/2/RadialFiltration_5_5/blue/diagrams.npy\n",
      "Applying Scaler to persistence diagrams.\n",
      "Got the result from ./20/train/filtrations/2/RadialFiltration_5_5/blue/features.npy\n",
      "Fitting filtration 10/72: RadialFiltration with c = (5, 12), bin. thr. = 0.2\n",
      "RGB images received. Transforming to grayscale.\n"
     ]
    },
    {
     "name": "stderr",
     "output_type": "stream",
     "text": [
      "rgb2gray: 100%|██████████| 50000/50000 [00:04<00:00, 10282.91it/s]\n"
     ]
    },
    {
     "name": "stdout",
     "output_type": "stream",
     "text": [
      "FiltrationExtractor: processing 20/train/filtrations/2/RadialFiltration_5_12/gray, do_fit = True, filtration = RadialFiltration(center=array([ 5, 12]), n_jobs=-1)\n",
      "Got the result from ./20/train/filtrations/2/RadialFiltration_5_12/gray/diagrams.npy\n",
      "Applying Scaler to persistence diagrams.\n",
      "DiagramVectorizer: fitting complete\n",
      "Got the result from ./20/train/filtrations/2/RadialFiltration_5_12/gray/features.npy\n",
      "FiltrationExtractor: processing 20/train/filtrations/2/RadialFiltration_5_12/gray, do_fit = False, filtration = RadialFiltration(center=array([ 5, 12]), n_jobs=-1)\n",
      "Got the result from ./20/train/filtrations/2/RadialFiltration_5_12/gray/diagrams.npy\n",
      "Applying Scaler to persistence diagrams.\n",
      "Got the result from ./20/train/filtrations/2/RadialFiltration_5_12/gray/features.npy\n",
      "FiltrationExtractor: processing 20/train/filtrations/2/RadialFiltration_5_12/red, do_fit = True, filtration = RadialFiltration(center=array([ 5, 12]), n_jobs=-1)\n",
      "Got the result from ./20/train/filtrations/2/RadialFiltration_5_12/red/diagrams.npy\n",
      "Applying Scaler to persistence diagrams.\n",
      "DiagramVectorizer: fitting complete\n",
      "Got the result from ./20/train/filtrations/2/RadialFiltration_5_12/red/features.npy\n",
      "FiltrationExtractor: processing 20/train/filtrations/2/RadialFiltration_5_12/red, do_fit = False, filtration = RadialFiltration(center=array([ 5, 12]), n_jobs=-1)\n",
      "Got the result from ./20/train/filtrations/2/RadialFiltration_5_12/red/diagrams.npy\n",
      "Applying Scaler to persistence diagrams.\n",
      "Got the result from ./20/train/filtrations/2/RadialFiltration_5_12/red/features.npy\n",
      "FiltrationExtractor: processing 20/train/filtrations/2/RadialFiltration_5_12/green, do_fit = True, filtration = RadialFiltration(center=array([ 5, 12]), n_jobs=-1)\n",
      "Got the result from ./20/train/filtrations/2/RadialFiltration_5_12/green/diagrams.npy\n",
      "Applying Scaler to persistence diagrams.\n",
      "DiagramVectorizer: fitting complete\n",
      "Got the result from ./20/train/filtrations/2/RadialFiltration_5_12/green/features.npy\n",
      "FiltrationExtractor: processing 20/train/filtrations/2/RadialFiltration_5_12/green, do_fit = False, filtration = RadialFiltration(center=array([ 5, 12]), n_jobs=-1)\n",
      "Got the result from ./20/train/filtrations/2/RadialFiltration_5_12/green/diagrams.npy\n",
      "Applying Scaler to persistence diagrams.\n",
      "Got the result from ./20/train/filtrations/2/RadialFiltration_5_12/green/features.npy\n",
      "FiltrationExtractor: processing 20/train/filtrations/2/RadialFiltration_5_12/blue, do_fit = True, filtration = RadialFiltration(center=array([ 5, 12]), n_jobs=-1)\n",
      "Got the result from ./20/train/filtrations/2/RadialFiltration_5_12/blue/diagrams.npy\n",
      "Applying Scaler to persistence diagrams.\n",
      "DiagramVectorizer: fitting complete\n",
      "Got the result from ./20/train/filtrations/2/RadialFiltration_5_12/blue/features.npy\n",
      "FiltrationExtractor: processing 20/train/filtrations/2/RadialFiltration_5_12/blue, do_fit = False, filtration = RadialFiltration(center=array([ 5, 12]), n_jobs=-1)\n",
      "Got the result from ./20/train/filtrations/2/RadialFiltration_5_12/blue/diagrams.npy\n",
      "Applying Scaler to persistence diagrams.\n",
      "Got the result from ./20/train/filtrations/2/RadialFiltration_5_12/blue/features.npy\n",
      "Fitting filtration 11/72: RadialFiltration with c = (5, 19), bin. thr. = 0.2\n",
      "RGB images received. Transforming to grayscale.\n"
     ]
    },
    {
     "name": "stderr",
     "output_type": "stream",
     "text": [
      "rgb2gray: 100%|██████████| 50000/50000 [00:04<00:00, 12333.72it/s]\n"
     ]
    },
    {
     "name": "stdout",
     "output_type": "stream",
     "text": [
      "FiltrationExtractor: processing 20/train/filtrations/2/RadialFiltration_5_19/gray, do_fit = True, filtration = RadialFiltration(center=array([ 5, 19]), n_jobs=-1)\n",
      "Got the result from ./20/train/filtrations/2/RadialFiltration_5_19/gray/diagrams.npy\n",
      "Applying Scaler to persistence diagrams.\n",
      "DiagramVectorizer: fitting complete\n",
      "Got the result from ./20/train/filtrations/2/RadialFiltration_5_19/gray/features.npy\n",
      "FiltrationExtractor: processing 20/train/filtrations/2/RadialFiltration_5_19/gray, do_fit = False, filtration = RadialFiltration(center=array([ 5, 19]), n_jobs=-1)\n",
      "Got the result from ./20/train/filtrations/2/RadialFiltration_5_19/gray/diagrams.npy\n",
      "Applying Scaler to persistence diagrams.\n",
      "Got the result from ./20/train/filtrations/2/RadialFiltration_5_19/gray/features.npy\n",
      "FiltrationExtractor: processing 20/train/filtrations/2/RadialFiltration_5_19/red, do_fit = True, filtration = RadialFiltration(center=array([ 5, 19]), n_jobs=-1)\n",
      "Got the result from ./20/train/filtrations/2/RadialFiltration_5_19/red/diagrams.npy\n",
      "Applying Scaler to persistence diagrams.\n",
      "DiagramVectorizer: fitting complete\n",
      "Got the result from ./20/train/filtrations/2/RadialFiltration_5_19/red/features.npy\n",
      "FiltrationExtractor: processing 20/train/filtrations/2/RadialFiltration_5_19/red, do_fit = False, filtration = RadialFiltration(center=array([ 5, 19]), n_jobs=-1)\n",
      "Got the result from ./20/train/filtrations/2/RadialFiltration_5_19/red/diagrams.npy\n",
      "Applying Scaler to persistence diagrams.\n",
      "Got the result from ./20/train/filtrations/2/RadialFiltration_5_19/red/features.npy\n",
      "FiltrationExtractor: processing 20/train/filtrations/2/RadialFiltration_5_19/green, do_fit = True, filtration = RadialFiltration(center=array([ 5, 19]), n_jobs=-1)\n",
      "Got the result from ./20/train/filtrations/2/RadialFiltration_5_19/green/diagrams.npy\n",
      "Applying Scaler to persistence diagrams.\n",
      "DiagramVectorizer: fitting complete\n",
      "Got the result from ./20/train/filtrations/2/RadialFiltration_5_19/green/features.npy\n",
      "FiltrationExtractor: processing 20/train/filtrations/2/RadialFiltration_5_19/green, do_fit = False, filtration = RadialFiltration(center=array([ 5, 19]), n_jobs=-1)\n",
      "Got the result from ./20/train/filtrations/2/RadialFiltration_5_19/green/diagrams.npy\n",
      "Applying Scaler to persistence diagrams.\n",
      "Got the result from ./20/train/filtrations/2/RadialFiltration_5_19/green/features.npy\n",
      "FiltrationExtractor: processing 20/train/filtrations/2/RadialFiltration_5_19/blue, do_fit = True, filtration = RadialFiltration(center=array([ 5, 19]), n_jobs=-1)\n",
      "Got the result from ./20/train/filtrations/2/RadialFiltration_5_19/blue/diagrams.npy\n",
      "Applying Scaler to persistence diagrams.\n",
      "DiagramVectorizer: fitting complete\n",
      "Got the result from ./20/train/filtrations/2/RadialFiltration_5_19/blue/features.npy\n",
      "FiltrationExtractor: processing 20/train/filtrations/2/RadialFiltration_5_19/blue, do_fit = False, filtration = RadialFiltration(center=array([ 5, 19]), n_jobs=-1)\n",
      "Got the result from ./20/train/filtrations/2/RadialFiltration_5_19/blue/diagrams.npy\n",
      "Applying Scaler to persistence diagrams.\n",
      "Got the result from ./20/train/filtrations/2/RadialFiltration_5_19/blue/features.npy\n",
      "Fitting filtration 12/72: RadialFiltration with c = (5, 26), bin. thr. = 0.2\n",
      "RGB images received. Transforming to grayscale.\n"
     ]
    },
    {
     "name": "stderr",
     "output_type": "stream",
     "text": [
      "rgb2gray: 100%|██████████| 50000/50000 [00:04<00:00, 10237.75it/s]\n"
     ]
    },
    {
     "name": "stdout",
     "output_type": "stream",
     "text": [
      "FiltrationExtractor: processing 20/train/filtrations/2/RadialFiltration_5_26/gray, do_fit = True, filtration = RadialFiltration(center=array([ 5, 26]), n_jobs=-1)\n",
      "Got the result from ./20/train/filtrations/2/RadialFiltration_5_26/gray/diagrams.npy\n",
      "Applying Scaler to persistence diagrams.\n",
      "DiagramVectorizer: fitting complete\n",
      "Got the result from ./20/train/filtrations/2/RadialFiltration_5_26/gray/features.npy\n",
      "FiltrationExtractor: processing 20/train/filtrations/2/RadialFiltration_5_26/gray, do_fit = False, filtration = RadialFiltration(center=array([ 5, 26]), n_jobs=-1)\n",
      "Got the result from ./20/train/filtrations/2/RadialFiltration_5_26/gray/diagrams.npy\n",
      "Applying Scaler to persistence diagrams.\n",
      "Got the result from ./20/train/filtrations/2/RadialFiltration_5_26/gray/features.npy\n",
      "FiltrationExtractor: processing 20/train/filtrations/2/RadialFiltration_5_26/red, do_fit = True, filtration = RadialFiltration(center=array([ 5, 26]), n_jobs=-1)\n",
      "Got the result from ./20/train/filtrations/2/RadialFiltration_5_26/red/diagrams.npy\n",
      "Applying Scaler to persistence diagrams.\n",
      "DiagramVectorizer: fitting complete\n",
      "Got the result from ./20/train/filtrations/2/RadialFiltration_5_26/red/features.npy\n",
      "FiltrationExtractor: processing 20/train/filtrations/2/RadialFiltration_5_26/red, do_fit = False, filtration = RadialFiltration(center=array([ 5, 26]), n_jobs=-1)\n",
      "Got the result from ./20/train/filtrations/2/RadialFiltration_5_26/red/diagrams.npy\n",
      "Applying Scaler to persistence diagrams.\n",
      "Got the result from ./20/train/filtrations/2/RadialFiltration_5_26/red/features.npy\n",
      "FiltrationExtractor: processing 20/train/filtrations/2/RadialFiltration_5_26/green, do_fit = True, filtration = RadialFiltration(center=array([ 5, 26]), n_jobs=-1)\n",
      "Got the result from ./20/train/filtrations/2/RadialFiltration_5_26/green/diagrams.npy\n",
      "Applying Scaler to persistence diagrams.\n",
      "DiagramVectorizer: fitting complete\n",
      "Got the result from ./20/train/filtrations/2/RadialFiltration_5_26/green/features.npy\n",
      "FiltrationExtractor: processing 20/train/filtrations/2/RadialFiltration_5_26/green, do_fit = False, filtration = RadialFiltration(center=array([ 5, 26]), n_jobs=-1)\n",
      "Got the result from ./20/train/filtrations/2/RadialFiltration_5_26/green/diagrams.npy\n",
      "Applying Scaler to persistence diagrams.\n",
      "Got the result from ./20/train/filtrations/2/RadialFiltration_5_26/green/features.npy\n",
      "FiltrationExtractor: processing 20/train/filtrations/2/RadialFiltration_5_26/blue, do_fit = True, filtration = RadialFiltration(center=array([ 5, 26]), n_jobs=-1)\n",
      "Got the result from ./20/train/filtrations/2/RadialFiltration_5_26/blue/diagrams.npy\n",
      "Applying Scaler to persistence diagrams.\n",
      "DiagramVectorizer: fitting complete\n",
      "Got the result from ./20/train/filtrations/2/RadialFiltration_5_26/blue/features.npy\n",
      "FiltrationExtractor: processing 20/train/filtrations/2/RadialFiltration_5_26/blue, do_fit = False, filtration = RadialFiltration(center=array([ 5, 26]), n_jobs=-1)\n",
      "Got the result from ./20/train/filtrations/2/RadialFiltration_5_26/blue/diagrams.npy\n",
      "Applying Scaler to persistence diagrams.\n",
      "Got the result from ./20/train/filtrations/2/RadialFiltration_5_26/blue/features.npy\n",
      "Fitting filtration 13/72: RadialFiltration with c = (12, 5), bin. thr. = 0.2\n",
      "RGB images received. Transforming to grayscale.\n"
     ]
    },
    {
     "name": "stderr",
     "output_type": "stream",
     "text": [
      "rgb2gray: 100%|██████████| 50000/50000 [00:04<00:00, 10637.28it/s]\n"
     ]
    },
    {
     "name": "stdout",
     "output_type": "stream",
     "text": [
      "FiltrationExtractor: processing 20/train/filtrations/2/RadialFiltration_12_5/gray, do_fit = True, filtration = RadialFiltration(center=array([12,  5]), n_jobs=-1)\n",
      "Got the result from ./20/train/filtrations/2/RadialFiltration_12_5/gray/diagrams.npy\n",
      "Applying Scaler to persistence diagrams.\n",
      "DiagramVectorizer: fitting complete\n",
      "Got the result from ./20/train/filtrations/2/RadialFiltration_12_5/gray/features.npy\n",
      "FiltrationExtractor: processing 20/train/filtrations/2/RadialFiltration_12_5/gray, do_fit = False, filtration = RadialFiltration(center=array([12,  5]), n_jobs=-1)\n",
      "Got the result from ./20/train/filtrations/2/RadialFiltration_12_5/gray/diagrams.npy\n",
      "Applying Scaler to persistence diagrams.\n",
      "Got the result from ./20/train/filtrations/2/RadialFiltration_12_5/gray/features.npy\n",
      "FiltrationExtractor: processing 20/train/filtrations/2/RadialFiltration_12_5/red, do_fit = True, filtration = RadialFiltration(center=array([12,  5]), n_jobs=-1)\n",
      "Got the result from ./20/train/filtrations/2/RadialFiltration_12_5/red/diagrams.npy\n",
      "Applying Scaler to persistence diagrams.\n",
      "DiagramVectorizer: fitting complete\n",
      "Got the result from ./20/train/filtrations/2/RadialFiltration_12_5/red/features.npy\n",
      "FiltrationExtractor: processing 20/train/filtrations/2/RadialFiltration_12_5/red, do_fit = False, filtration = RadialFiltration(center=array([12,  5]), n_jobs=-1)\n",
      "Got the result from ./20/train/filtrations/2/RadialFiltration_12_5/red/diagrams.npy\n",
      "Applying Scaler to persistence diagrams.\n",
      "Got the result from ./20/train/filtrations/2/RadialFiltration_12_5/red/features.npy\n",
      "FiltrationExtractor: processing 20/train/filtrations/2/RadialFiltration_12_5/green, do_fit = True, filtration = RadialFiltration(center=array([12,  5]), n_jobs=-1)\n",
      "Got the result from ./20/train/filtrations/2/RadialFiltration_12_5/green/diagrams.npy\n",
      "Applying Scaler to persistence diagrams.\n",
      "DiagramVectorizer: fitting complete\n",
      "Got the result from ./20/train/filtrations/2/RadialFiltration_12_5/green/features.npy\n",
      "FiltrationExtractor: processing 20/train/filtrations/2/RadialFiltration_12_5/green, do_fit = False, filtration = RadialFiltration(center=array([12,  5]), n_jobs=-1)\n",
      "Got the result from ./20/train/filtrations/2/RadialFiltration_12_5/green/diagrams.npy\n",
      "Applying Scaler to persistence diagrams.\n",
      "Got the result from ./20/train/filtrations/2/RadialFiltration_12_5/green/features.npy\n",
      "FiltrationExtractor: processing 20/train/filtrations/2/RadialFiltration_12_5/blue, do_fit = True, filtration = RadialFiltration(center=array([12,  5]), n_jobs=-1)\n",
      "Got the result from ./20/train/filtrations/2/RadialFiltration_12_5/blue/diagrams.npy\n",
      "Applying Scaler to persistence diagrams.\n",
      "DiagramVectorizer: fitting complete\n",
      "Got the result from ./20/train/filtrations/2/RadialFiltration_12_5/blue/features.npy\n",
      "FiltrationExtractor: processing 20/train/filtrations/2/RadialFiltration_12_5/blue, do_fit = False, filtration = RadialFiltration(center=array([12,  5]), n_jobs=-1)\n",
      "Got the result from ./20/train/filtrations/2/RadialFiltration_12_5/blue/diagrams.npy\n",
      "Applying Scaler to persistence diagrams.\n",
      "Got the result from ./20/train/filtrations/2/RadialFiltration_12_5/blue/features.npy\n",
      "Fitting filtration 14/72: RadialFiltration with c = (12, 12), bin. thr. = 0.2\n",
      "RGB images received. Transforming to grayscale.\n"
     ]
    },
    {
     "name": "stderr",
     "output_type": "stream",
     "text": [
      "rgb2gray: 100%|██████████| 50000/50000 [00:04<00:00, 11366.68it/s]\n"
     ]
    },
    {
     "name": "stdout",
     "output_type": "stream",
     "text": [
      "FiltrationExtractor: processing 20/train/filtrations/2/RadialFiltration_12_12/gray, do_fit = True, filtration = RadialFiltration(center=array([12, 12]), n_jobs=-1)\n",
      "Got the result from ./20/train/filtrations/2/RadialFiltration_12_12/gray/diagrams.npy\n",
      "Applying Scaler to persistence diagrams.\n",
      "DiagramVectorizer: fitting complete\n",
      "Got the result from ./20/train/filtrations/2/RadialFiltration_12_12/gray/features.npy\n",
      "FiltrationExtractor: processing 20/train/filtrations/2/RadialFiltration_12_12/gray, do_fit = False, filtration = RadialFiltration(center=array([12, 12]), n_jobs=-1)\n",
      "Got the result from ./20/train/filtrations/2/RadialFiltration_12_12/gray/diagrams.npy\n",
      "Applying Scaler to persistence diagrams.\n",
      "Got the result from ./20/train/filtrations/2/RadialFiltration_12_12/gray/features.npy\n",
      "FiltrationExtractor: processing 20/train/filtrations/2/RadialFiltration_12_12/red, do_fit = True, filtration = RadialFiltration(center=array([12, 12]), n_jobs=-1)\n",
      "Got the result from ./20/train/filtrations/2/RadialFiltration_12_12/red/diagrams.npy\n",
      "Applying Scaler to persistence diagrams.\n",
      "DiagramVectorizer: fitting complete\n",
      "Got the result from ./20/train/filtrations/2/RadialFiltration_12_12/red/features.npy\n",
      "FiltrationExtractor: processing 20/train/filtrations/2/RadialFiltration_12_12/red, do_fit = False, filtration = RadialFiltration(center=array([12, 12]), n_jobs=-1)\n",
      "Got the result from ./20/train/filtrations/2/RadialFiltration_12_12/red/diagrams.npy\n",
      "Applying Scaler to persistence diagrams.\n",
      "Got the result from ./20/train/filtrations/2/RadialFiltration_12_12/red/features.npy\n",
      "FiltrationExtractor: processing 20/train/filtrations/2/RadialFiltration_12_12/green, do_fit = True, filtration = RadialFiltration(center=array([12, 12]), n_jobs=-1)\n",
      "Got the result from ./20/train/filtrations/2/RadialFiltration_12_12/green/diagrams.npy\n",
      "Applying Scaler to persistence diagrams.\n",
      "DiagramVectorizer: fitting complete\n",
      "Got the result from ./20/train/filtrations/2/RadialFiltration_12_12/green/features.npy\n",
      "FiltrationExtractor: processing 20/train/filtrations/2/RadialFiltration_12_12/green, do_fit = False, filtration = RadialFiltration(center=array([12, 12]), n_jobs=-1)\n",
      "Got the result from ./20/train/filtrations/2/RadialFiltration_12_12/green/diagrams.npy\n",
      "Applying Scaler to persistence diagrams.\n",
      "Got the result from ./20/train/filtrations/2/RadialFiltration_12_12/green/features.npy\n",
      "FiltrationExtractor: processing 20/train/filtrations/2/RadialFiltration_12_12/blue, do_fit = True, filtration = RadialFiltration(center=array([12, 12]), n_jobs=-1)\n",
      "Got the result from ./20/train/filtrations/2/RadialFiltration_12_12/blue/diagrams.npy\n",
      "Applying Scaler to persistence diagrams.\n",
      "DiagramVectorizer: fitting complete\n",
      "Got the result from ./20/train/filtrations/2/RadialFiltration_12_12/blue/features.npy\n",
      "FiltrationExtractor: processing 20/train/filtrations/2/RadialFiltration_12_12/blue, do_fit = False, filtration = RadialFiltration(center=array([12, 12]), n_jobs=-1)\n",
      "Got the result from ./20/train/filtrations/2/RadialFiltration_12_12/blue/diagrams.npy\n",
      "Applying Scaler to persistence diagrams.\n",
      "Got the result from ./20/train/filtrations/2/RadialFiltration_12_12/blue/features.npy\n",
      "Fitting filtration 15/72: RadialFiltration with c = (12, 19), bin. thr. = 0.2\n",
      "RGB images received. Transforming to grayscale.\n"
     ]
    },
    {
     "name": "stderr",
     "output_type": "stream",
     "text": [
      "rgb2gray: 100%|██████████| 50000/50000 [00:05<00:00, 9749.57it/s] \n"
     ]
    },
    {
     "name": "stdout",
     "output_type": "stream",
     "text": [
      "FiltrationExtractor: processing 20/train/filtrations/2/RadialFiltration_12_19/gray, do_fit = True, filtration = RadialFiltration(center=array([12, 19]), n_jobs=-1)\n",
      "Got the result from ./20/train/filtrations/2/RadialFiltration_12_19/gray/diagrams.npy\n",
      "Applying Scaler to persistence diagrams.\n",
      "DiagramVectorizer: fitting complete\n",
      "Got the result from ./20/train/filtrations/2/RadialFiltration_12_19/gray/features.npy\n",
      "FiltrationExtractor: processing 20/train/filtrations/2/RadialFiltration_12_19/gray, do_fit = False, filtration = RadialFiltration(center=array([12, 19]), n_jobs=-1)\n",
      "Got the result from ./20/train/filtrations/2/RadialFiltration_12_19/gray/diagrams.npy\n",
      "Applying Scaler to persistence diagrams.\n",
      "Got the result from ./20/train/filtrations/2/RadialFiltration_12_19/gray/features.npy\n",
      "FiltrationExtractor: processing 20/train/filtrations/2/RadialFiltration_12_19/red, do_fit = True, filtration = RadialFiltration(center=array([12, 19]), n_jobs=-1)\n",
      "Got the result from ./20/train/filtrations/2/RadialFiltration_12_19/red/diagrams.npy\n",
      "Applying Scaler to persistence diagrams.\n",
      "DiagramVectorizer: fitting complete\n",
      "Got the result from ./20/train/filtrations/2/RadialFiltration_12_19/red/features.npy\n",
      "FiltrationExtractor: processing 20/train/filtrations/2/RadialFiltration_12_19/red, do_fit = False, filtration = RadialFiltration(center=array([12, 19]), n_jobs=-1)\n",
      "Got the result from ./20/train/filtrations/2/RadialFiltration_12_19/red/diagrams.npy\n",
      "Applying Scaler to persistence diagrams.\n",
      "Got the result from ./20/train/filtrations/2/RadialFiltration_12_19/red/features.npy\n",
      "FiltrationExtractor: processing 20/train/filtrations/2/RadialFiltration_12_19/green, do_fit = True, filtration = RadialFiltration(center=array([12, 19]), n_jobs=-1)\n",
      "Got the result from ./20/train/filtrations/2/RadialFiltration_12_19/green/diagrams.npy\n",
      "Applying Scaler to persistence diagrams.\n",
      "DiagramVectorizer: fitting complete\n",
      "Got the result from ./20/train/filtrations/2/RadialFiltration_12_19/green/features.npy\n",
      "FiltrationExtractor: processing 20/train/filtrations/2/RadialFiltration_12_19/green, do_fit = False, filtration = RadialFiltration(center=array([12, 19]), n_jobs=-1)\n",
      "Got the result from ./20/train/filtrations/2/RadialFiltration_12_19/green/diagrams.npy\n",
      "Applying Scaler to persistence diagrams.\n",
      "Got the result from ./20/train/filtrations/2/RadialFiltration_12_19/green/features.npy\n",
      "FiltrationExtractor: processing 20/train/filtrations/2/RadialFiltration_12_19/blue, do_fit = True, filtration = RadialFiltration(center=array([12, 19]), n_jobs=-1)\n",
      "Got the result from ./20/train/filtrations/2/RadialFiltration_12_19/blue/diagrams.npy\n",
      "Applying Scaler to persistence diagrams.\n",
      "DiagramVectorizer: fitting complete\n",
      "Got the result from ./20/train/filtrations/2/RadialFiltration_12_19/blue/features.npy\n",
      "FiltrationExtractor: processing 20/train/filtrations/2/RadialFiltration_12_19/blue, do_fit = False, filtration = RadialFiltration(center=array([12, 19]), n_jobs=-1)\n",
      "Got the result from ./20/train/filtrations/2/RadialFiltration_12_19/blue/diagrams.npy\n",
      "Applying Scaler to persistence diagrams.\n",
      "Got the result from ./20/train/filtrations/2/RadialFiltration_12_19/blue/features.npy\n",
      "Fitting filtration 16/72: RadialFiltration with c = (12, 26), bin. thr. = 0.2\n",
      "RGB images received. Transforming to grayscale.\n"
     ]
    },
    {
     "name": "stderr",
     "output_type": "stream",
     "text": [
      "rgb2gray: 100%|██████████| 50000/50000 [00:04<00:00, 10366.96it/s]\n"
     ]
    },
    {
     "name": "stdout",
     "output_type": "stream",
     "text": [
      "FiltrationExtractor: processing 20/train/filtrations/2/RadialFiltration_12_26/gray, do_fit = True, filtration = RadialFiltration(center=array([12, 26]), n_jobs=-1)\n",
      "Got the result from ./20/train/filtrations/2/RadialFiltration_12_26/gray/diagrams.npy\n",
      "Applying Scaler to persistence diagrams.\n",
      "DiagramVectorizer: fitting complete\n",
      "Got the result from ./20/train/filtrations/2/RadialFiltration_12_26/gray/features.npy\n",
      "FiltrationExtractor: processing 20/train/filtrations/2/RadialFiltration_12_26/gray, do_fit = False, filtration = RadialFiltration(center=array([12, 26]), n_jobs=-1)\n",
      "Got the result from ./20/train/filtrations/2/RadialFiltration_12_26/gray/diagrams.npy\n",
      "Applying Scaler to persistence diagrams.\n",
      "Got the result from ./20/train/filtrations/2/RadialFiltration_12_26/gray/features.npy\n",
      "FiltrationExtractor: processing 20/train/filtrations/2/RadialFiltration_12_26/red, do_fit = True, filtration = RadialFiltration(center=array([12, 26]), n_jobs=-1)\n",
      "Got the result from ./20/train/filtrations/2/RadialFiltration_12_26/red/diagrams.npy\n",
      "Applying Scaler to persistence diagrams.\n",
      "DiagramVectorizer: fitting complete\n",
      "Got the result from ./20/train/filtrations/2/RadialFiltration_12_26/red/features.npy\n",
      "FiltrationExtractor: processing 20/train/filtrations/2/RadialFiltration_12_26/red, do_fit = False, filtration = RadialFiltration(center=array([12, 26]), n_jobs=-1)\n",
      "Got the result from ./20/train/filtrations/2/RadialFiltration_12_26/red/diagrams.npy\n",
      "Applying Scaler to persistence diagrams.\n",
      "Got the result from ./20/train/filtrations/2/RadialFiltration_12_26/red/features.npy\n",
      "FiltrationExtractor: processing 20/train/filtrations/2/RadialFiltration_12_26/green, do_fit = True, filtration = RadialFiltration(center=array([12, 26]), n_jobs=-1)\n",
      "Got the result from ./20/train/filtrations/2/RadialFiltration_12_26/green/diagrams.npy\n",
      "Applying Scaler to persistence diagrams.\n",
      "DiagramVectorizer: fitting complete\n",
      "Got the result from ./20/train/filtrations/2/RadialFiltration_12_26/green/features.npy\n",
      "FiltrationExtractor: processing 20/train/filtrations/2/RadialFiltration_12_26/green, do_fit = False, filtration = RadialFiltration(center=array([12, 26]), n_jobs=-1)\n",
      "Got the result from ./20/train/filtrations/2/RadialFiltration_12_26/green/diagrams.npy\n",
      "Applying Scaler to persistence diagrams.\n",
      "Got the result from ./20/train/filtrations/2/RadialFiltration_12_26/green/features.npy\n",
      "FiltrationExtractor: processing 20/train/filtrations/2/RadialFiltration_12_26/blue, do_fit = True, filtration = RadialFiltration(center=array([12, 26]), n_jobs=-1)\n",
      "Got the result from ./20/train/filtrations/2/RadialFiltration_12_26/blue/diagrams.npy\n",
      "Applying Scaler to persistence diagrams.\n",
      "DiagramVectorizer: fitting complete\n",
      "Got the result from ./20/train/filtrations/2/RadialFiltration_12_26/blue/features.npy\n",
      "FiltrationExtractor: processing 20/train/filtrations/2/RadialFiltration_12_26/blue, do_fit = False, filtration = RadialFiltration(center=array([12, 26]), n_jobs=-1)\n",
      "Got the result from ./20/train/filtrations/2/RadialFiltration_12_26/blue/diagrams.npy\n",
      "Applying Scaler to persistence diagrams.\n",
      "Got the result from ./20/train/filtrations/2/RadialFiltration_12_26/blue/features.npy\n",
      "Fitting filtration 17/72: RadialFiltration with c = (19, 5), bin. thr. = 0.2\n",
      "RGB images received. Transforming to grayscale.\n"
     ]
    },
    {
     "name": "stderr",
     "output_type": "stream",
     "text": [
      "rgb2gray: 100%|██████████| 50000/50000 [00:04<00:00, 10435.58it/s]\n"
     ]
    },
    {
     "name": "stdout",
     "output_type": "stream",
     "text": [
      "FiltrationExtractor: processing 20/train/filtrations/2/RadialFiltration_19_5/gray, do_fit = True, filtration = RadialFiltration(center=array([19,  5]), n_jobs=-1)\n",
      "Got the result from ./20/train/filtrations/2/RadialFiltration_19_5/gray/diagrams.npy\n",
      "Applying Scaler to persistence diagrams.\n",
      "DiagramVectorizer: fitting complete\n",
      "Got the result from ./20/train/filtrations/2/RadialFiltration_19_5/gray/features.npy\n",
      "FiltrationExtractor: processing 20/train/filtrations/2/RadialFiltration_19_5/gray, do_fit = False, filtration = RadialFiltration(center=array([19,  5]), n_jobs=-1)\n",
      "Got the result from ./20/train/filtrations/2/RadialFiltration_19_5/gray/diagrams.npy\n",
      "Applying Scaler to persistence diagrams.\n",
      "Got the result from ./20/train/filtrations/2/RadialFiltration_19_5/gray/features.npy\n",
      "FiltrationExtractor: processing 20/train/filtrations/2/RadialFiltration_19_5/red, do_fit = True, filtration = RadialFiltration(center=array([19,  5]), n_jobs=-1)\n",
      "Got the result from ./20/train/filtrations/2/RadialFiltration_19_5/red/diagrams.npy\n",
      "Applying Scaler to persistence diagrams.\n",
      "DiagramVectorizer: fitting complete\n",
      "Got the result from ./20/train/filtrations/2/RadialFiltration_19_5/red/features.npy\n",
      "FiltrationExtractor: processing 20/train/filtrations/2/RadialFiltration_19_5/red, do_fit = False, filtration = RadialFiltration(center=array([19,  5]), n_jobs=-1)\n",
      "Got the result from ./20/train/filtrations/2/RadialFiltration_19_5/red/diagrams.npy\n",
      "Applying Scaler to persistence diagrams.\n",
      "Got the result from ./20/train/filtrations/2/RadialFiltration_19_5/red/features.npy\n",
      "FiltrationExtractor: processing 20/train/filtrations/2/RadialFiltration_19_5/green, do_fit = True, filtration = RadialFiltration(center=array([19,  5]), n_jobs=-1)\n",
      "Got the result from ./20/train/filtrations/2/RadialFiltration_19_5/green/diagrams.npy\n",
      "Applying Scaler to persistence diagrams.\n",
      "DiagramVectorizer: fitting complete\n",
      "Got the result from ./20/train/filtrations/2/RadialFiltration_19_5/green/features.npy\n",
      "FiltrationExtractor: processing 20/train/filtrations/2/RadialFiltration_19_5/green, do_fit = False, filtration = RadialFiltration(center=array([19,  5]), n_jobs=-1)\n",
      "Got the result from ./20/train/filtrations/2/RadialFiltration_19_5/green/diagrams.npy\n",
      "Applying Scaler to persistence diagrams.\n",
      "Got the result from ./20/train/filtrations/2/RadialFiltration_19_5/green/features.npy\n",
      "FiltrationExtractor: processing 20/train/filtrations/2/RadialFiltration_19_5/blue, do_fit = True, filtration = RadialFiltration(center=array([19,  5]), n_jobs=-1)\n",
      "Got the result from ./20/train/filtrations/2/RadialFiltration_19_5/blue/diagrams.npy\n",
      "Applying Scaler to persistence diagrams.\n",
      "DiagramVectorizer: fitting complete\n",
      "Got the result from ./20/train/filtrations/2/RadialFiltration_19_5/blue/features.npy\n",
      "FiltrationExtractor: processing 20/train/filtrations/2/RadialFiltration_19_5/blue, do_fit = False, filtration = RadialFiltration(center=array([19,  5]), n_jobs=-1)\n",
      "Got the result from ./20/train/filtrations/2/RadialFiltration_19_5/blue/diagrams.npy\n",
      "Applying Scaler to persistence diagrams.\n",
      "Got the result from ./20/train/filtrations/2/RadialFiltration_19_5/blue/features.npy\n",
      "Fitting filtration 18/72: RadialFiltration with c = (19, 12), bin. thr. = 0.2\n",
      "RGB images received. Transforming to grayscale.\n"
     ]
    },
    {
     "name": "stderr",
     "output_type": "stream",
     "text": [
      "rgb2gray: 100%|██████████| 50000/50000 [00:04<00:00, 10461.32it/s]\n"
     ]
    },
    {
     "name": "stdout",
     "output_type": "stream",
     "text": [
      "FiltrationExtractor: processing 20/train/filtrations/2/RadialFiltration_19_12/gray, do_fit = True, filtration = RadialFiltration(center=array([19, 12]), n_jobs=-1)\n",
      "Got the result from ./20/train/filtrations/2/RadialFiltration_19_12/gray/diagrams.npy\n",
      "Applying Scaler to persistence diagrams.\n",
      "DiagramVectorizer: fitting complete\n",
      "Got the result from ./20/train/filtrations/2/RadialFiltration_19_12/gray/features.npy\n",
      "FiltrationExtractor: processing 20/train/filtrations/2/RadialFiltration_19_12/gray, do_fit = False, filtration = RadialFiltration(center=array([19, 12]), n_jobs=-1)\n",
      "Got the result from ./20/train/filtrations/2/RadialFiltration_19_12/gray/diagrams.npy\n",
      "Applying Scaler to persistence diagrams.\n",
      "Got the result from ./20/train/filtrations/2/RadialFiltration_19_12/gray/features.npy\n",
      "FiltrationExtractor: processing 20/train/filtrations/2/RadialFiltration_19_12/red, do_fit = True, filtration = RadialFiltration(center=array([19, 12]), n_jobs=-1)\n",
      "Got the result from ./20/train/filtrations/2/RadialFiltration_19_12/red/diagrams.npy\n",
      "Applying Scaler to persistence diagrams.\n",
      "DiagramVectorizer: fitting complete\n",
      "Got the result from ./20/train/filtrations/2/RadialFiltration_19_12/red/features.npy\n",
      "FiltrationExtractor: processing 20/train/filtrations/2/RadialFiltration_19_12/red, do_fit = False, filtration = RadialFiltration(center=array([19, 12]), n_jobs=-1)\n",
      "Got the result from ./20/train/filtrations/2/RadialFiltration_19_12/red/diagrams.npy\n",
      "Applying Scaler to persistence diagrams.\n",
      "Got the result from ./20/train/filtrations/2/RadialFiltration_19_12/red/features.npy\n",
      "FiltrationExtractor: processing 20/train/filtrations/2/RadialFiltration_19_12/green, do_fit = True, filtration = RadialFiltration(center=array([19, 12]), n_jobs=-1)\n",
      "Got the result from ./20/train/filtrations/2/RadialFiltration_19_12/green/diagrams.npy\n",
      "Applying Scaler to persistence diagrams.\n",
      "DiagramVectorizer: fitting complete\n",
      "Got the result from ./20/train/filtrations/2/RadialFiltration_19_12/green/features.npy\n",
      "FiltrationExtractor: processing 20/train/filtrations/2/RadialFiltration_19_12/green, do_fit = False, filtration = RadialFiltration(center=array([19, 12]), n_jobs=-1)\n",
      "Got the result from ./20/train/filtrations/2/RadialFiltration_19_12/green/diagrams.npy\n",
      "Applying Scaler to persistence diagrams.\n",
      "Got the result from ./20/train/filtrations/2/RadialFiltration_19_12/green/features.npy\n",
      "FiltrationExtractor: processing 20/train/filtrations/2/RadialFiltration_19_12/blue, do_fit = True, filtration = RadialFiltration(center=array([19, 12]), n_jobs=-1)\n",
      "Got the result from ./20/train/filtrations/2/RadialFiltration_19_12/blue/diagrams.npy\n",
      "Applying Scaler to persistence diagrams.\n",
      "DiagramVectorizer: fitting complete\n",
      "Got the result from ./20/train/filtrations/2/RadialFiltration_19_12/blue/features.npy\n",
      "FiltrationExtractor: processing 20/train/filtrations/2/RadialFiltration_19_12/blue, do_fit = False, filtration = RadialFiltration(center=array([19, 12]), n_jobs=-1)\n",
      "Got the result from ./20/train/filtrations/2/RadialFiltration_19_12/blue/diagrams.npy\n",
      "Applying Scaler to persistence diagrams.\n",
      "Got the result from ./20/train/filtrations/2/RadialFiltration_19_12/blue/features.npy\n",
      "Fitting filtration 19/72: RadialFiltration with c = (19, 19), bin. thr. = 0.2\n",
      "RGB images received. Transforming to grayscale.\n"
     ]
    },
    {
     "name": "stderr",
     "output_type": "stream",
     "text": [
      "rgb2gray: 100%|██████████| 50000/50000 [00:04<00:00, 12406.97it/s]\n"
     ]
    },
    {
     "name": "stdout",
     "output_type": "stream",
     "text": [
      "FiltrationExtractor: processing 20/train/filtrations/2/RadialFiltration_19_19/gray, do_fit = True, filtration = RadialFiltration(center=array([19, 19]), n_jobs=-1)\n",
      "Got the result from ./20/train/filtrations/2/RadialFiltration_19_19/gray/diagrams.npy\n",
      "Applying Scaler to persistence diagrams.\n",
      "DiagramVectorizer: fitting complete\n",
      "Got the result from ./20/train/filtrations/2/RadialFiltration_19_19/gray/features.npy\n",
      "FiltrationExtractor: processing 20/train/filtrations/2/RadialFiltration_19_19/gray, do_fit = False, filtration = RadialFiltration(center=array([19, 19]), n_jobs=-1)\n",
      "Got the result from ./20/train/filtrations/2/RadialFiltration_19_19/gray/diagrams.npy\n",
      "Applying Scaler to persistence diagrams.\n",
      "Got the result from ./20/train/filtrations/2/RadialFiltration_19_19/gray/features.npy\n",
      "FiltrationExtractor: processing 20/train/filtrations/2/RadialFiltration_19_19/red, do_fit = True, filtration = RadialFiltration(center=array([19, 19]), n_jobs=-1)\n",
      "Got the result from ./20/train/filtrations/2/RadialFiltration_19_19/red/diagrams.npy\n",
      "Applying Scaler to persistence diagrams.\n",
      "DiagramVectorizer: fitting complete\n",
      "Got the result from ./20/train/filtrations/2/RadialFiltration_19_19/red/features.npy\n",
      "FiltrationExtractor: processing 20/train/filtrations/2/RadialFiltration_19_19/red, do_fit = False, filtration = RadialFiltration(center=array([19, 19]), n_jobs=-1)\n",
      "Got the result from ./20/train/filtrations/2/RadialFiltration_19_19/red/diagrams.npy\n",
      "Applying Scaler to persistence diagrams.\n",
      "Got the result from ./20/train/filtrations/2/RadialFiltration_19_19/red/features.npy\n",
      "FiltrationExtractor: processing 20/train/filtrations/2/RadialFiltration_19_19/green, do_fit = True, filtration = RadialFiltration(center=array([19, 19]), n_jobs=-1)\n",
      "Got the result from ./20/train/filtrations/2/RadialFiltration_19_19/green/diagrams.npy\n",
      "Applying Scaler to persistence diagrams.\n",
      "DiagramVectorizer: fitting complete\n",
      "Got the result from ./20/train/filtrations/2/RadialFiltration_19_19/green/features.npy\n",
      "FiltrationExtractor: processing 20/train/filtrations/2/RadialFiltration_19_19/green, do_fit = False, filtration = RadialFiltration(center=array([19, 19]), n_jobs=-1)\n",
      "Got the result from ./20/train/filtrations/2/RadialFiltration_19_19/green/diagrams.npy\n",
      "Applying Scaler to persistence diagrams.\n",
      "Got the result from ./20/train/filtrations/2/RadialFiltration_19_19/green/features.npy\n",
      "FiltrationExtractor: processing 20/train/filtrations/2/RadialFiltration_19_19/blue, do_fit = True, filtration = RadialFiltration(center=array([19, 19]), n_jobs=-1)\n",
      "Got the result from ./20/train/filtrations/2/RadialFiltration_19_19/blue/diagrams.npy\n",
      "Applying Scaler to persistence diagrams.\n",
      "DiagramVectorizer: fitting complete\n",
      "Got the result from ./20/train/filtrations/2/RadialFiltration_19_19/blue/features.npy\n",
      "FiltrationExtractor: processing 20/train/filtrations/2/RadialFiltration_19_19/blue, do_fit = False, filtration = RadialFiltration(center=array([19, 19]), n_jobs=-1)\n",
      "Got the result from ./20/train/filtrations/2/RadialFiltration_19_19/blue/diagrams.npy\n",
      "Applying Scaler to persistence diagrams.\n",
      "Got the result from ./20/train/filtrations/2/RadialFiltration_19_19/blue/features.npy\n",
      "Fitting filtration 20/72: RadialFiltration with c = (19, 26), bin. thr. = 0.2\n",
      "RGB images received. Transforming to grayscale.\n"
     ]
    },
    {
     "name": "stderr",
     "output_type": "stream",
     "text": [
      "rgb2gray: 100%|██████████| 50000/50000 [00:04<00:00, 11435.51it/s]\n"
     ]
    },
    {
     "name": "stdout",
     "output_type": "stream",
     "text": [
      "FiltrationExtractor: processing 20/train/filtrations/2/RadialFiltration_19_26/gray, do_fit = True, filtration = RadialFiltration(center=array([19, 26]), n_jobs=-1)\n",
      "Got the result from ./20/train/filtrations/2/RadialFiltration_19_26/gray/diagrams.npy\n",
      "Applying Scaler to persistence diagrams.\n",
      "DiagramVectorizer: fitting complete\n",
      "Got the result from ./20/train/filtrations/2/RadialFiltration_19_26/gray/features.npy\n",
      "FiltrationExtractor: processing 20/train/filtrations/2/RadialFiltration_19_26/gray, do_fit = False, filtration = RadialFiltration(center=array([19, 26]), n_jobs=-1)\n",
      "Got the result from ./20/train/filtrations/2/RadialFiltration_19_26/gray/diagrams.npy\n",
      "Applying Scaler to persistence diagrams.\n",
      "Got the result from ./20/train/filtrations/2/RadialFiltration_19_26/gray/features.npy\n",
      "FiltrationExtractor: processing 20/train/filtrations/2/RadialFiltration_19_26/red, do_fit = True, filtration = RadialFiltration(center=array([19, 26]), n_jobs=-1)\n",
      "Got the result from ./20/train/filtrations/2/RadialFiltration_19_26/red/diagrams.npy\n",
      "Applying Scaler to persistence diagrams.\n",
      "DiagramVectorizer: fitting complete\n",
      "Got the result from ./20/train/filtrations/2/RadialFiltration_19_26/red/features.npy\n",
      "FiltrationExtractor: processing 20/train/filtrations/2/RadialFiltration_19_26/red, do_fit = False, filtration = RadialFiltration(center=array([19, 26]), n_jobs=-1)\n",
      "Got the result from ./20/train/filtrations/2/RadialFiltration_19_26/red/diagrams.npy\n",
      "Applying Scaler to persistence diagrams.\n",
      "Got the result from ./20/train/filtrations/2/RadialFiltration_19_26/red/features.npy\n",
      "FiltrationExtractor: processing 20/train/filtrations/2/RadialFiltration_19_26/green, do_fit = True, filtration = RadialFiltration(center=array([19, 26]), n_jobs=-1)\n",
      "Got the result from ./20/train/filtrations/2/RadialFiltration_19_26/green/diagrams.npy\n",
      "Applying Scaler to persistence diagrams.\n",
      "DiagramVectorizer: fitting complete\n",
      "Got the result from ./20/train/filtrations/2/RadialFiltration_19_26/green/features.npy\n",
      "FiltrationExtractor: processing 20/train/filtrations/2/RadialFiltration_19_26/green, do_fit = False, filtration = RadialFiltration(center=array([19, 26]), n_jobs=-1)\n",
      "Got the result from ./20/train/filtrations/2/RadialFiltration_19_26/green/diagrams.npy\n",
      "Applying Scaler to persistence diagrams.\n",
      "Got the result from ./20/train/filtrations/2/RadialFiltration_19_26/green/features.npy\n",
      "FiltrationExtractor: processing 20/train/filtrations/2/RadialFiltration_19_26/blue, do_fit = True, filtration = RadialFiltration(center=array([19, 26]), n_jobs=-1)\n",
      "Got the result from ./20/train/filtrations/2/RadialFiltration_19_26/blue/diagrams.npy\n",
      "Applying Scaler to persistence diagrams.\n",
      "DiagramVectorizer: fitting complete\n",
      "Got the result from ./20/train/filtrations/2/RadialFiltration_19_26/blue/features.npy\n",
      "FiltrationExtractor: processing 20/train/filtrations/2/RadialFiltration_19_26/blue, do_fit = False, filtration = RadialFiltration(center=array([19, 26]), n_jobs=-1)\n",
      "Got the result from ./20/train/filtrations/2/RadialFiltration_19_26/blue/diagrams.npy\n",
      "Applying Scaler to persistence diagrams.\n",
      "Got the result from ./20/train/filtrations/2/RadialFiltration_19_26/blue/features.npy\n",
      "Fitting filtration 21/72: RadialFiltration with c = (26, 5), bin. thr. = 0.2\n",
      "RGB images received. Transforming to grayscale.\n"
     ]
    },
    {
     "name": "stderr",
     "output_type": "stream",
     "text": [
      "rgb2gray: 100%|██████████| 50000/50000 [00:05<00:00, 9976.02it/s] \n"
     ]
    },
    {
     "name": "stdout",
     "output_type": "stream",
     "text": [
      "FiltrationExtractor: processing 20/train/filtrations/2/RadialFiltration_26_5/gray, do_fit = True, filtration = RadialFiltration(center=array([26,  5]), n_jobs=-1)\n",
      "Got the result from ./20/train/filtrations/2/RadialFiltration_26_5/gray/diagrams.npy\n",
      "Applying Scaler to persistence diagrams.\n",
      "DiagramVectorizer: fitting complete\n",
      "Got the result from ./20/train/filtrations/2/RadialFiltration_26_5/gray/features.npy\n",
      "FiltrationExtractor: processing 20/train/filtrations/2/RadialFiltration_26_5/gray, do_fit = False, filtration = RadialFiltration(center=array([26,  5]), n_jobs=-1)\n",
      "Got the result from ./20/train/filtrations/2/RadialFiltration_26_5/gray/diagrams.npy\n",
      "Applying Scaler to persistence diagrams.\n",
      "Got the result from ./20/train/filtrations/2/RadialFiltration_26_5/gray/features.npy\n",
      "FiltrationExtractor: processing 20/train/filtrations/2/RadialFiltration_26_5/red, do_fit = True, filtration = RadialFiltration(center=array([26,  5]), n_jobs=-1)\n",
      "Got the result from ./20/train/filtrations/2/RadialFiltration_26_5/red/diagrams.npy\n",
      "Applying Scaler to persistence diagrams.\n",
      "DiagramVectorizer: fitting complete\n",
      "Got the result from ./20/train/filtrations/2/RadialFiltration_26_5/red/features.npy\n",
      "FiltrationExtractor: processing 20/train/filtrations/2/RadialFiltration_26_5/red, do_fit = False, filtration = RadialFiltration(center=array([26,  5]), n_jobs=-1)\n",
      "Got the result from ./20/train/filtrations/2/RadialFiltration_26_5/red/diagrams.npy\n",
      "Applying Scaler to persistence diagrams.\n",
      "Got the result from ./20/train/filtrations/2/RadialFiltration_26_5/red/features.npy\n",
      "FiltrationExtractor: processing 20/train/filtrations/2/RadialFiltration_26_5/green, do_fit = True, filtration = RadialFiltration(center=array([26,  5]), n_jobs=-1)\n",
      "Got the result from ./20/train/filtrations/2/RadialFiltration_26_5/green/diagrams.npy\n",
      "Applying Scaler to persistence diagrams.\n",
      "DiagramVectorizer: fitting complete\n",
      "Got the result from ./20/train/filtrations/2/RadialFiltration_26_5/green/features.npy\n",
      "FiltrationExtractor: processing 20/train/filtrations/2/RadialFiltration_26_5/green, do_fit = False, filtration = RadialFiltration(center=array([26,  5]), n_jobs=-1)\n",
      "Got the result from ./20/train/filtrations/2/RadialFiltration_26_5/green/diagrams.npy\n",
      "Applying Scaler to persistence diagrams.\n",
      "Got the result from ./20/train/filtrations/2/RadialFiltration_26_5/green/features.npy\n",
      "FiltrationExtractor: processing 20/train/filtrations/2/RadialFiltration_26_5/blue, do_fit = True, filtration = RadialFiltration(center=array([26,  5]), n_jobs=-1)\n",
      "Got the result from ./20/train/filtrations/2/RadialFiltration_26_5/blue/diagrams.npy\n",
      "Applying Scaler to persistence diagrams.\n",
      "DiagramVectorizer: fitting complete\n",
      "Got the result from ./20/train/filtrations/2/RadialFiltration_26_5/blue/features.npy\n",
      "FiltrationExtractor: processing 20/train/filtrations/2/RadialFiltration_26_5/blue, do_fit = False, filtration = RadialFiltration(center=array([26,  5]), n_jobs=-1)\n",
      "Got the result from ./20/train/filtrations/2/RadialFiltration_26_5/blue/diagrams.npy\n",
      "Applying Scaler to persistence diagrams.\n",
      "Got the result from ./20/train/filtrations/2/RadialFiltration_26_5/blue/features.npy\n",
      "Fitting filtration 22/72: RadialFiltration with c = (26, 12), bin. thr. = 0.2\n",
      "RGB images received. Transforming to grayscale.\n"
     ]
    },
    {
     "name": "stderr",
     "output_type": "stream",
     "text": [
      "rgb2gray: 100%|██████████| 50000/50000 [00:05<00:00, 9412.46it/s] \n"
     ]
    },
    {
     "name": "stdout",
     "output_type": "stream",
     "text": [
      "FiltrationExtractor: processing 20/train/filtrations/2/RadialFiltration_26_12/gray, do_fit = True, filtration = RadialFiltration(center=array([26, 12]), n_jobs=-1)\n",
      "Got the result from ./20/train/filtrations/2/RadialFiltration_26_12/gray/diagrams.npy\n",
      "Applying Scaler to persistence diagrams.\n",
      "DiagramVectorizer: fitting complete\n",
      "Got the result from ./20/train/filtrations/2/RadialFiltration_26_12/gray/features.npy\n",
      "FiltrationExtractor: processing 20/train/filtrations/2/RadialFiltration_26_12/gray, do_fit = False, filtration = RadialFiltration(center=array([26, 12]), n_jobs=-1)\n",
      "Got the result from ./20/train/filtrations/2/RadialFiltration_26_12/gray/diagrams.npy\n",
      "Applying Scaler to persistence diagrams.\n",
      "Got the result from ./20/train/filtrations/2/RadialFiltration_26_12/gray/features.npy\n",
      "FiltrationExtractor: processing 20/train/filtrations/2/RadialFiltration_26_12/red, do_fit = True, filtration = RadialFiltration(center=array([26, 12]), n_jobs=-1)\n",
      "Got the result from ./20/train/filtrations/2/RadialFiltration_26_12/red/diagrams.npy\n",
      "Applying Scaler to persistence diagrams.\n",
      "DiagramVectorizer: fitting complete\n",
      "Got the result from ./20/train/filtrations/2/RadialFiltration_26_12/red/features.npy\n",
      "FiltrationExtractor: processing 20/train/filtrations/2/RadialFiltration_26_12/red, do_fit = False, filtration = RadialFiltration(center=array([26, 12]), n_jobs=-1)\n",
      "Got the result from ./20/train/filtrations/2/RadialFiltration_26_12/red/diagrams.npy\n",
      "Applying Scaler to persistence diagrams.\n",
      "Got the result from ./20/train/filtrations/2/RadialFiltration_26_12/red/features.npy\n",
      "FiltrationExtractor: processing 20/train/filtrations/2/RadialFiltration_26_12/green, do_fit = True, filtration = RadialFiltration(center=array([26, 12]), n_jobs=-1)\n",
      "Got the result from ./20/train/filtrations/2/RadialFiltration_26_12/green/diagrams.npy\n",
      "Applying Scaler to persistence diagrams.\n",
      "DiagramVectorizer: fitting complete\n",
      "Got the result from ./20/train/filtrations/2/RadialFiltration_26_12/green/features.npy\n",
      "FiltrationExtractor: processing 20/train/filtrations/2/RadialFiltration_26_12/green, do_fit = False, filtration = RadialFiltration(center=array([26, 12]), n_jobs=-1)\n",
      "Got the result from ./20/train/filtrations/2/RadialFiltration_26_12/green/diagrams.npy\n",
      "Applying Scaler to persistence diagrams.\n",
      "Got the result from ./20/train/filtrations/2/RadialFiltration_26_12/green/features.npy\n",
      "FiltrationExtractor: processing 20/train/filtrations/2/RadialFiltration_26_12/blue, do_fit = True, filtration = RadialFiltration(center=array([26, 12]), n_jobs=-1)\n",
      "Got the result from ./20/train/filtrations/2/RadialFiltration_26_12/blue/diagrams.npy\n",
      "Applying Scaler to persistence diagrams.\n",
      "DiagramVectorizer: fitting complete\n",
      "Got the result from ./20/train/filtrations/2/RadialFiltration_26_12/blue/features.npy\n",
      "FiltrationExtractor: processing 20/train/filtrations/2/RadialFiltration_26_12/blue, do_fit = False, filtration = RadialFiltration(center=array([26, 12]), n_jobs=-1)\n",
      "Got the result from ./20/train/filtrations/2/RadialFiltration_26_12/blue/diagrams.npy\n",
      "Applying Scaler to persistence diagrams.\n",
      "Got the result from ./20/train/filtrations/2/RadialFiltration_26_12/blue/features.npy\n",
      "Fitting filtration 23/72: RadialFiltration with c = (26, 19), bin. thr. = 0.2\n",
      "RGB images received. Transforming to grayscale.\n"
     ]
    },
    {
     "name": "stderr",
     "output_type": "stream",
     "text": [
      "rgb2gray: 100%|██████████| 50000/50000 [00:04<00:00, 10392.85it/s]\n"
     ]
    },
    {
     "name": "stdout",
     "output_type": "stream",
     "text": [
      "FiltrationExtractor: processing 20/train/filtrations/2/RadialFiltration_26_19/gray, do_fit = True, filtration = RadialFiltration(center=array([26, 19]), n_jobs=-1)\n",
      "Got the result from ./20/train/filtrations/2/RadialFiltration_26_19/gray/diagrams.npy\n",
      "Applying Scaler to persistence diagrams.\n",
      "DiagramVectorizer: fitting complete\n",
      "Got the result from ./20/train/filtrations/2/RadialFiltration_26_19/gray/features.npy\n",
      "FiltrationExtractor: processing 20/train/filtrations/2/RadialFiltration_26_19/gray, do_fit = False, filtration = RadialFiltration(center=array([26, 19]), n_jobs=-1)\n",
      "Got the result from ./20/train/filtrations/2/RadialFiltration_26_19/gray/diagrams.npy\n",
      "Applying Scaler to persistence diagrams.\n",
      "Got the result from ./20/train/filtrations/2/RadialFiltration_26_19/gray/features.npy\n",
      "FiltrationExtractor: processing 20/train/filtrations/2/RadialFiltration_26_19/red, do_fit = True, filtration = RadialFiltration(center=array([26, 19]), n_jobs=-1)\n",
      "Got the result from ./20/train/filtrations/2/RadialFiltration_26_19/red/diagrams.npy\n",
      "Applying Scaler to persistence diagrams.\n",
      "DiagramVectorizer: fitting complete\n",
      "Got the result from ./20/train/filtrations/2/RadialFiltration_26_19/red/features.npy\n",
      "FiltrationExtractor: processing 20/train/filtrations/2/RadialFiltration_26_19/red, do_fit = False, filtration = RadialFiltration(center=array([26, 19]), n_jobs=-1)\n",
      "Got the result from ./20/train/filtrations/2/RadialFiltration_26_19/red/diagrams.npy\n",
      "Applying Scaler to persistence diagrams.\n",
      "Got the result from ./20/train/filtrations/2/RadialFiltration_26_19/red/features.npy\n",
      "FiltrationExtractor: processing 20/train/filtrations/2/RadialFiltration_26_19/green, do_fit = True, filtration = RadialFiltration(center=array([26, 19]), n_jobs=-1)\n",
      "Got the result from ./20/train/filtrations/2/RadialFiltration_26_19/green/diagrams.npy\n",
      "Applying Scaler to persistence diagrams.\n",
      "DiagramVectorizer: fitting complete\n",
      "Got the result from ./20/train/filtrations/2/RadialFiltration_26_19/green/features.npy\n",
      "FiltrationExtractor: processing 20/train/filtrations/2/RadialFiltration_26_19/green, do_fit = False, filtration = RadialFiltration(center=array([26, 19]), n_jobs=-1)\n",
      "Got the result from ./20/train/filtrations/2/RadialFiltration_26_19/green/diagrams.npy\n",
      "Applying Scaler to persistence diagrams.\n",
      "Got the result from ./20/train/filtrations/2/RadialFiltration_26_19/green/features.npy\n",
      "FiltrationExtractor: processing 20/train/filtrations/2/RadialFiltration_26_19/blue, do_fit = True, filtration = RadialFiltration(center=array([26, 19]), n_jobs=-1)\n",
      "Got the result from ./20/train/filtrations/2/RadialFiltration_26_19/blue/diagrams.npy\n",
      "Applying Scaler to persistence diagrams.\n",
      "DiagramVectorizer: fitting complete\n",
      "Got the result from ./20/train/filtrations/2/RadialFiltration_26_19/blue/features.npy\n",
      "FiltrationExtractor: processing 20/train/filtrations/2/RadialFiltration_26_19/blue, do_fit = False, filtration = RadialFiltration(center=array([26, 19]), n_jobs=-1)\n",
      "Got the result from ./20/train/filtrations/2/RadialFiltration_26_19/blue/diagrams.npy\n",
      "Applying Scaler to persistence diagrams.\n",
      "Got the result from ./20/train/filtrations/2/RadialFiltration_26_19/blue/features.npy\n",
      "Fitting filtration 24/72: RadialFiltration with c = (26, 26), bin. thr. = 0.2\n",
      "RGB images received. Transforming to grayscale.\n"
     ]
    },
    {
     "name": "stderr",
     "output_type": "stream",
     "text": [
      "rgb2gray: 100%|██████████| 50000/50000 [00:05<00:00, 9646.46it/s] \n"
     ]
    },
    {
     "name": "stdout",
     "output_type": "stream",
     "text": [
      "FiltrationExtractor: processing 20/train/filtrations/2/RadialFiltration_26_26/gray, do_fit = True, filtration = RadialFiltration(center=array([26, 26]), n_jobs=-1)\n",
      "Got the result from ./20/train/filtrations/2/RadialFiltration_26_26/gray/diagrams.npy\n",
      "Applying Scaler to persistence diagrams.\n",
      "DiagramVectorizer: fitting complete\n",
      "Got the result from ./20/train/filtrations/2/RadialFiltration_26_26/gray/features.npy\n",
      "FiltrationExtractor: processing 20/train/filtrations/2/RadialFiltration_26_26/gray, do_fit = False, filtration = RadialFiltration(center=array([26, 26]), n_jobs=-1)\n",
      "Got the result from ./20/train/filtrations/2/RadialFiltration_26_26/gray/diagrams.npy\n",
      "Applying Scaler to persistence diagrams.\n",
      "Got the result from ./20/train/filtrations/2/RadialFiltration_26_26/gray/features.npy\n",
      "FiltrationExtractor: processing 20/train/filtrations/2/RadialFiltration_26_26/red, do_fit = True, filtration = RadialFiltration(center=array([26, 26]), n_jobs=-1)\n",
      "Got the result from ./20/train/filtrations/2/RadialFiltration_26_26/red/diagrams.npy\n",
      "Applying Scaler to persistence diagrams.\n",
      "DiagramVectorizer: fitting complete\n",
      "Got the result from ./20/train/filtrations/2/RadialFiltration_26_26/red/features.npy\n",
      "FiltrationExtractor: processing 20/train/filtrations/2/RadialFiltration_26_26/red, do_fit = False, filtration = RadialFiltration(center=array([26, 26]), n_jobs=-1)\n",
      "Got the result from ./20/train/filtrations/2/RadialFiltration_26_26/red/diagrams.npy\n",
      "Applying Scaler to persistence diagrams.\n",
      "Got the result from ./20/train/filtrations/2/RadialFiltration_26_26/red/features.npy\n",
      "FiltrationExtractor: processing 20/train/filtrations/2/RadialFiltration_26_26/green, do_fit = True, filtration = RadialFiltration(center=array([26, 26]), n_jobs=-1)\n",
      "Got the result from ./20/train/filtrations/2/RadialFiltration_26_26/green/diagrams.npy\n",
      "Applying Scaler to persistence diagrams.\n",
      "DiagramVectorizer: fitting complete\n",
      "Got the result from ./20/train/filtrations/2/RadialFiltration_26_26/green/features.npy\n",
      "FiltrationExtractor: processing 20/train/filtrations/2/RadialFiltration_26_26/green, do_fit = False, filtration = RadialFiltration(center=array([26, 26]), n_jobs=-1)\n",
      "Got the result from ./20/train/filtrations/2/RadialFiltration_26_26/green/diagrams.npy\n",
      "Applying Scaler to persistence diagrams.\n",
      "Got the result from ./20/train/filtrations/2/RadialFiltration_26_26/green/features.npy\n",
      "FiltrationExtractor: processing 20/train/filtrations/2/RadialFiltration_26_26/blue, do_fit = True, filtration = RadialFiltration(center=array([26, 26]), n_jobs=-1)\n",
      "Got the result from ./20/train/filtrations/2/RadialFiltration_26_26/blue/diagrams.npy\n",
      "Applying Scaler to persistence diagrams.\n",
      "DiagramVectorizer: fitting complete\n",
      "Got the result from ./20/train/filtrations/2/RadialFiltration_26_26/blue/features.npy\n",
      "FiltrationExtractor: processing 20/train/filtrations/2/RadialFiltration_26_26/blue, do_fit = False, filtration = RadialFiltration(center=array([26, 26]), n_jobs=-1)\n",
      "Got the result from ./20/train/filtrations/2/RadialFiltration_26_26/blue/diagrams.npy\n",
      "Applying Scaler to persistence diagrams.\n",
      "Got the result from ./20/train/filtrations/2/RadialFiltration_26_26/blue/features.npy\n",
      "Fitting filtration 25/72: HeightFiltration with d = (-1, -1), bin. thr. = 0.4\n",
      "RGB images received. Transforming to grayscale.\n"
     ]
    },
    {
     "name": "stderr",
     "output_type": "stream",
     "text": [
      "rgb2gray: 100%|██████████| 50000/50000 [00:05<00:00, 8670.75it/s] \n"
     ]
    },
    {
     "name": "stdout",
     "output_type": "stream",
     "text": [
      "FiltrationExtractor: processing 20/train/filtrations/4/HeightFiltrartion_-1_-1/gray, do_fit = True, filtration = HeightFiltration(direction=array([-1, -1]), n_jobs=-1)\n",
      "Got the result from ./20/train/filtrations/4/HeightFiltrartion_-1_-1/gray/diagrams.npy\n",
      "Applying Scaler to persistence diagrams.\n",
      "DiagramVectorizer: fitting complete\n",
      "Got the result from ./20/train/filtrations/4/HeightFiltrartion_-1_-1/gray/features.npy\n",
      "FiltrationExtractor: processing 20/train/filtrations/4/HeightFiltrartion_-1_-1/gray, do_fit = False, filtration = HeightFiltration(direction=array([-1, -1]), n_jobs=-1)\n",
      "Got the result from ./20/train/filtrations/4/HeightFiltrartion_-1_-1/gray/diagrams.npy\n",
      "Applying Scaler to persistence diagrams.\n",
      "Got the result from ./20/train/filtrations/4/HeightFiltrartion_-1_-1/gray/features.npy\n",
      "FiltrationExtractor: processing 20/train/filtrations/4/HeightFiltrartion_-1_-1/red, do_fit = True, filtration = HeightFiltration(direction=array([-1, -1]), n_jobs=-1)\n",
      "Got the result from ./20/train/filtrations/4/HeightFiltrartion_-1_-1/red/diagrams.npy\n",
      "Applying Scaler to persistence diagrams.\n",
      "DiagramVectorizer: fitting complete\n",
      "Got the result from ./20/train/filtrations/4/HeightFiltrartion_-1_-1/red/features.npy\n",
      "FiltrationExtractor: processing 20/train/filtrations/4/HeightFiltrartion_-1_-1/red, do_fit = False, filtration = HeightFiltration(direction=array([-1, -1]), n_jobs=-1)\n",
      "Got the result from ./20/train/filtrations/4/HeightFiltrartion_-1_-1/red/diagrams.npy\n",
      "Applying Scaler to persistence diagrams.\n",
      "Got the result from ./20/train/filtrations/4/HeightFiltrartion_-1_-1/red/features.npy\n",
      "FiltrationExtractor: processing 20/train/filtrations/4/HeightFiltrartion_-1_-1/green, do_fit = True, filtration = HeightFiltration(direction=array([-1, -1]), n_jobs=-1)\n",
      "Got the result from ./20/train/filtrations/4/HeightFiltrartion_-1_-1/green/diagrams.npy\n",
      "Applying Scaler to persistence diagrams.\n",
      "DiagramVectorizer: fitting complete\n",
      "Got the result from ./20/train/filtrations/4/HeightFiltrartion_-1_-1/green/features.npy\n",
      "FiltrationExtractor: processing 20/train/filtrations/4/HeightFiltrartion_-1_-1/green, do_fit = False, filtration = HeightFiltration(direction=array([-1, -1]), n_jobs=-1)\n",
      "Got the result from ./20/train/filtrations/4/HeightFiltrartion_-1_-1/green/diagrams.npy\n",
      "Applying Scaler to persistence diagrams.\n",
      "Got the result from ./20/train/filtrations/4/HeightFiltrartion_-1_-1/green/features.npy\n",
      "FiltrationExtractor: processing 20/train/filtrations/4/HeightFiltrartion_-1_-1/blue, do_fit = True, filtration = HeightFiltration(direction=array([-1, -1]), n_jobs=-1)\n",
      "Got the result from ./20/train/filtrations/4/HeightFiltrartion_-1_-1/blue/diagrams.npy\n",
      "Applying Scaler to persistence diagrams.\n",
      "DiagramVectorizer: fitting complete\n",
      "Got the result from ./20/train/filtrations/4/HeightFiltrartion_-1_-1/blue/features.npy\n",
      "FiltrationExtractor: processing 20/train/filtrations/4/HeightFiltrartion_-1_-1/blue, do_fit = False, filtration = HeightFiltration(direction=array([-1, -1]), n_jobs=-1)\n",
      "Got the result from ./20/train/filtrations/4/HeightFiltrartion_-1_-1/blue/diagrams.npy\n",
      "Applying Scaler to persistence diagrams.\n",
      "Got the result from ./20/train/filtrations/4/HeightFiltrartion_-1_-1/blue/features.npy\n",
      "Fitting filtration 26/72: HeightFiltration with d = (-1, 0), bin. thr. = 0.4\n",
      "RGB images received. Transforming to grayscale.\n"
     ]
    },
    {
     "name": "stderr",
     "output_type": "stream",
     "text": [
      "rgb2gray: 100%|██████████| 50000/50000 [00:06<00:00, 7713.65it/s]\n"
     ]
    },
    {
     "name": "stdout",
     "output_type": "stream",
     "text": [
      "FiltrationExtractor: processing 20/train/filtrations/4/HeightFiltrartion_-1_0/gray, do_fit = True, filtration = HeightFiltration(direction=array([-1,  0]), n_jobs=-1)\n",
      "Got the result from ./20/train/filtrations/4/HeightFiltrartion_-1_0/gray/diagrams.npy\n",
      "Applying Scaler to persistence diagrams.\n",
      "DiagramVectorizer: fitting complete\n",
      "Got the result from ./20/train/filtrations/4/HeightFiltrartion_-1_0/gray/features.npy\n",
      "FiltrationExtractor: processing 20/train/filtrations/4/HeightFiltrartion_-1_0/gray, do_fit = False, filtration = HeightFiltration(direction=array([-1,  0]), n_jobs=-1)\n",
      "Got the result from ./20/train/filtrations/4/HeightFiltrartion_-1_0/gray/diagrams.npy\n",
      "Applying Scaler to persistence diagrams.\n",
      "Got the result from ./20/train/filtrations/4/HeightFiltrartion_-1_0/gray/features.npy\n",
      "FiltrationExtractor: processing 20/train/filtrations/4/HeightFiltrartion_-1_0/red, do_fit = True, filtration = HeightFiltration(direction=array([-1,  0]), n_jobs=-1)\n",
      "Got the result from ./20/train/filtrations/4/HeightFiltrartion_-1_0/red/diagrams.npy\n",
      "Applying Scaler to persistence diagrams.\n",
      "DiagramVectorizer: fitting complete\n",
      "Got the result from ./20/train/filtrations/4/HeightFiltrartion_-1_0/red/features.npy\n",
      "FiltrationExtractor: processing 20/train/filtrations/4/HeightFiltrartion_-1_0/red, do_fit = False, filtration = HeightFiltration(direction=array([-1,  0]), n_jobs=-1)\n",
      "Got the result from ./20/train/filtrations/4/HeightFiltrartion_-1_0/red/diagrams.npy\n",
      "Applying Scaler to persistence diagrams.\n",
      "Got the result from ./20/train/filtrations/4/HeightFiltrartion_-1_0/red/features.npy\n",
      "FiltrationExtractor: processing 20/train/filtrations/4/HeightFiltrartion_-1_0/green, do_fit = True, filtration = HeightFiltration(direction=array([-1,  0]), n_jobs=-1)\n",
      "Got the result from ./20/train/filtrations/4/HeightFiltrartion_-1_0/green/diagrams.npy\n",
      "Applying Scaler to persistence diagrams.\n",
      "DiagramVectorizer: fitting complete\n",
      "Got the result from ./20/train/filtrations/4/HeightFiltrartion_-1_0/green/features.npy\n",
      "FiltrationExtractor: processing 20/train/filtrations/4/HeightFiltrartion_-1_0/green, do_fit = False, filtration = HeightFiltration(direction=array([-1,  0]), n_jobs=-1)\n",
      "Got the result from ./20/train/filtrations/4/HeightFiltrartion_-1_0/green/diagrams.npy\n",
      "Applying Scaler to persistence diagrams.\n",
      "Got the result from ./20/train/filtrations/4/HeightFiltrartion_-1_0/green/features.npy\n",
      "FiltrationExtractor: processing 20/train/filtrations/4/HeightFiltrartion_-1_0/blue, do_fit = True, filtration = HeightFiltration(direction=array([-1,  0]), n_jobs=-1)\n",
      "Got the result from ./20/train/filtrations/4/HeightFiltrartion_-1_0/blue/diagrams.npy\n",
      "Applying Scaler to persistence diagrams.\n",
      "DiagramVectorizer: fitting complete\n",
      "Got the result from ./20/train/filtrations/4/HeightFiltrartion_-1_0/blue/features.npy\n",
      "FiltrationExtractor: processing 20/train/filtrations/4/HeightFiltrartion_-1_0/blue, do_fit = False, filtration = HeightFiltration(direction=array([-1,  0]), n_jobs=-1)\n",
      "Got the result from ./20/train/filtrations/4/HeightFiltrartion_-1_0/blue/diagrams.npy\n",
      "Applying Scaler to persistence diagrams.\n",
      "Got the result from ./20/train/filtrations/4/HeightFiltrartion_-1_0/blue/features.npy\n",
      "Fitting filtration 27/72: HeightFiltration with d = (-1, 1), bin. thr. = 0.4\n",
      "RGB images received. Transforming to grayscale.\n"
     ]
    },
    {
     "name": "stderr",
     "output_type": "stream",
     "text": [
      "rgb2gray: 100%|██████████| 50000/50000 [00:03<00:00, 12616.71it/s]\n"
     ]
    },
    {
     "name": "stdout",
     "output_type": "stream",
     "text": [
      "FiltrationExtractor: processing 20/train/filtrations/4/HeightFiltrartion_-1_1/gray, do_fit = True, filtration = HeightFiltration(direction=array([-1,  1]), n_jobs=-1)\n",
      "Got the result from ./20/train/filtrations/4/HeightFiltrartion_-1_1/gray/diagrams.npy\n",
      "Applying Scaler to persistence diagrams.\n",
      "DiagramVectorizer: fitting complete\n",
      "Got the result from ./20/train/filtrations/4/HeightFiltrartion_-1_1/gray/features.npy\n",
      "FiltrationExtractor: processing 20/train/filtrations/4/HeightFiltrartion_-1_1/gray, do_fit = False, filtration = HeightFiltration(direction=array([-1,  1]), n_jobs=-1)\n",
      "Got the result from ./20/train/filtrations/4/HeightFiltrartion_-1_1/gray/diagrams.npy\n",
      "Applying Scaler to persistence diagrams.\n",
      "Got the result from ./20/train/filtrations/4/HeightFiltrartion_-1_1/gray/features.npy\n",
      "FiltrationExtractor: processing 20/train/filtrations/4/HeightFiltrartion_-1_1/red, do_fit = True, filtration = HeightFiltration(direction=array([-1,  1]), n_jobs=-1)\n",
      "Got the result from ./20/train/filtrations/4/HeightFiltrartion_-1_1/red/diagrams.npy\n",
      "Applying Scaler to persistence diagrams.\n",
      "DiagramVectorizer: fitting complete\n",
      "Got the result from ./20/train/filtrations/4/HeightFiltrartion_-1_1/red/features.npy\n",
      "FiltrationExtractor: processing 20/train/filtrations/4/HeightFiltrartion_-1_1/red, do_fit = False, filtration = HeightFiltration(direction=array([-1,  1]), n_jobs=-1)\n",
      "Got the result from ./20/train/filtrations/4/HeightFiltrartion_-1_1/red/diagrams.npy\n",
      "Applying Scaler to persistence diagrams.\n",
      "Got the result from ./20/train/filtrations/4/HeightFiltrartion_-1_1/red/features.npy\n",
      "FiltrationExtractor: processing 20/train/filtrations/4/HeightFiltrartion_-1_1/green, do_fit = True, filtration = HeightFiltration(direction=array([-1,  1]), n_jobs=-1)\n",
      "Got the result from ./20/train/filtrations/4/HeightFiltrartion_-1_1/green/diagrams.npy\n",
      "Applying Scaler to persistence diagrams.\n",
      "DiagramVectorizer: fitting complete\n",
      "Got the result from ./20/train/filtrations/4/HeightFiltrartion_-1_1/green/features.npy\n",
      "FiltrationExtractor: processing 20/train/filtrations/4/HeightFiltrartion_-1_1/green, do_fit = False, filtration = HeightFiltration(direction=array([-1,  1]), n_jobs=-1)\n",
      "Got the result from ./20/train/filtrations/4/HeightFiltrartion_-1_1/green/diagrams.npy\n",
      "Applying Scaler to persistence diagrams.\n",
      "Got the result from ./20/train/filtrations/4/HeightFiltrartion_-1_1/green/features.npy\n",
      "FiltrationExtractor: processing 20/train/filtrations/4/HeightFiltrartion_-1_1/blue, do_fit = True, filtration = HeightFiltration(direction=array([-1,  1]), n_jobs=-1)\n",
      "Got the result from ./20/train/filtrations/4/HeightFiltrartion_-1_1/blue/diagrams.npy\n",
      "Applying Scaler to persistence diagrams.\n",
      "DiagramVectorizer: fitting complete\n",
      "Got the result from ./20/train/filtrations/4/HeightFiltrartion_-1_1/blue/features.npy\n",
      "FiltrationExtractor: processing 20/train/filtrations/4/HeightFiltrartion_-1_1/blue, do_fit = False, filtration = HeightFiltration(direction=array([-1,  1]), n_jobs=-1)\n",
      "Got the result from ./20/train/filtrations/4/HeightFiltrartion_-1_1/blue/diagrams.npy\n",
      "Applying Scaler to persistence diagrams.\n",
      "Got the result from ./20/train/filtrations/4/HeightFiltrartion_-1_1/blue/features.npy\n",
      "Fitting filtration 28/72: HeightFiltration with d = (0, -1), bin. thr. = 0.4\n",
      "RGB images received. Transforming to grayscale.\n"
     ]
    },
    {
     "name": "stderr",
     "output_type": "stream",
     "text": [
      "rgb2gray: 100%|██████████| 50000/50000 [00:04<00:00, 11313.47it/s]\n"
     ]
    },
    {
     "name": "stdout",
     "output_type": "stream",
     "text": [
      "FiltrationExtractor: processing 20/train/filtrations/4/HeightFiltrartion_0_-1/gray, do_fit = True, filtration = HeightFiltration(direction=array([ 0, -1]), n_jobs=-1)\n",
      "Got the result from ./20/train/filtrations/4/HeightFiltrartion_0_-1/gray/diagrams.npy\n",
      "Applying Scaler to persistence diagrams.\n",
      "DiagramVectorizer: fitting complete\n",
      "Got the result from ./20/train/filtrations/4/HeightFiltrartion_0_-1/gray/features.npy\n",
      "FiltrationExtractor: processing 20/train/filtrations/4/HeightFiltrartion_0_-1/gray, do_fit = False, filtration = HeightFiltration(direction=array([ 0, -1]), n_jobs=-1)\n",
      "Got the result from ./20/train/filtrations/4/HeightFiltrartion_0_-1/gray/diagrams.npy\n",
      "Applying Scaler to persistence diagrams.\n",
      "Got the result from ./20/train/filtrations/4/HeightFiltrartion_0_-1/gray/features.npy\n",
      "FiltrationExtractor: processing 20/train/filtrations/4/HeightFiltrartion_0_-1/red, do_fit = True, filtration = HeightFiltration(direction=array([ 0, -1]), n_jobs=-1)\n",
      "Got the result from ./20/train/filtrations/4/HeightFiltrartion_0_-1/red/diagrams.npy\n",
      "Applying Scaler to persistence diagrams.\n",
      "DiagramVectorizer: fitting complete\n",
      "Got the result from ./20/train/filtrations/4/HeightFiltrartion_0_-1/red/features.npy\n",
      "FiltrationExtractor: processing 20/train/filtrations/4/HeightFiltrartion_0_-1/red, do_fit = False, filtration = HeightFiltration(direction=array([ 0, -1]), n_jobs=-1)\n",
      "Got the result from ./20/train/filtrations/4/HeightFiltrartion_0_-1/red/diagrams.npy\n",
      "Applying Scaler to persistence diagrams.\n",
      "Got the result from ./20/train/filtrations/4/HeightFiltrartion_0_-1/red/features.npy\n",
      "FiltrationExtractor: processing 20/train/filtrations/4/HeightFiltrartion_0_-1/green, do_fit = True, filtration = HeightFiltration(direction=array([ 0, -1]), n_jobs=-1)\n",
      "Got the result from ./20/train/filtrations/4/HeightFiltrartion_0_-1/green/diagrams.npy\n",
      "Applying Scaler to persistence diagrams.\n",
      "DiagramVectorizer: fitting complete\n",
      "Got the result from ./20/train/filtrations/4/HeightFiltrartion_0_-1/green/features.npy\n",
      "FiltrationExtractor: processing 20/train/filtrations/4/HeightFiltrartion_0_-1/green, do_fit = False, filtration = HeightFiltration(direction=array([ 0, -1]), n_jobs=-1)\n",
      "Got the result from ./20/train/filtrations/4/HeightFiltrartion_0_-1/green/diagrams.npy\n",
      "Applying Scaler to persistence diagrams.\n",
      "Got the result from ./20/train/filtrations/4/HeightFiltrartion_0_-1/green/features.npy\n",
      "FiltrationExtractor: processing 20/train/filtrations/4/HeightFiltrartion_0_-1/blue, do_fit = True, filtration = HeightFiltration(direction=array([ 0, -1]), n_jobs=-1)\n",
      "Got the result from ./20/train/filtrations/4/HeightFiltrartion_0_-1/blue/diagrams.npy\n",
      "Applying Scaler to persistence diagrams.\n",
      "DiagramVectorizer: fitting complete\n",
      "Got the result from ./20/train/filtrations/4/HeightFiltrartion_0_-1/blue/features.npy\n",
      "FiltrationExtractor: processing 20/train/filtrations/4/HeightFiltrartion_0_-1/blue, do_fit = False, filtration = HeightFiltration(direction=array([ 0, -1]), n_jobs=-1)\n",
      "Got the result from ./20/train/filtrations/4/HeightFiltrartion_0_-1/blue/diagrams.npy\n",
      "Applying Scaler to persistence diagrams.\n",
      "Got the result from ./20/train/filtrations/4/HeightFiltrartion_0_-1/blue/features.npy\n",
      "Fitting filtration 29/72: HeightFiltration with d = (0, 1), bin. thr. = 0.4\n",
      "RGB images received. Transforming to grayscale.\n"
     ]
    },
    {
     "name": "stderr",
     "output_type": "stream",
     "text": [
      "rgb2gray: 100%|██████████| 50000/50000 [00:03<00:00, 12921.64it/s]\n"
     ]
    },
    {
     "name": "stdout",
     "output_type": "stream",
     "text": [
      "FiltrationExtractor: processing 20/train/filtrations/4/HeightFiltrartion_0_1/gray, do_fit = True, filtration = HeightFiltration(direction=array([0, 1]), n_jobs=-1)\n",
      "Got the result from ./20/train/filtrations/4/HeightFiltrartion_0_1/gray/diagrams.npy\n",
      "Applying Scaler to persistence diagrams.\n",
      "DiagramVectorizer: fitting complete\n",
      "Got the result from ./20/train/filtrations/4/HeightFiltrartion_0_1/gray/features.npy\n",
      "FiltrationExtractor: processing 20/train/filtrations/4/HeightFiltrartion_0_1/gray, do_fit = False, filtration = HeightFiltration(direction=array([0, 1]), n_jobs=-1)\n",
      "Got the result from ./20/train/filtrations/4/HeightFiltrartion_0_1/gray/diagrams.npy\n",
      "Applying Scaler to persistence diagrams.\n",
      "Got the result from ./20/train/filtrations/4/HeightFiltrartion_0_1/gray/features.npy\n",
      "FiltrationExtractor: processing 20/train/filtrations/4/HeightFiltrartion_0_1/red, do_fit = True, filtration = HeightFiltration(direction=array([0, 1]), n_jobs=-1)\n",
      "Got the result from ./20/train/filtrations/4/HeightFiltrartion_0_1/red/diagrams.npy\n",
      "Applying Scaler to persistence diagrams.\n",
      "DiagramVectorizer: fitting complete\n",
      "Got the result from ./20/train/filtrations/4/HeightFiltrartion_0_1/red/features.npy\n",
      "FiltrationExtractor: processing 20/train/filtrations/4/HeightFiltrartion_0_1/red, do_fit = False, filtration = HeightFiltration(direction=array([0, 1]), n_jobs=-1)\n",
      "Got the result from ./20/train/filtrations/4/HeightFiltrartion_0_1/red/diagrams.npy\n",
      "Applying Scaler to persistence diagrams.\n",
      "Got the result from ./20/train/filtrations/4/HeightFiltrartion_0_1/red/features.npy\n",
      "FiltrationExtractor: processing 20/train/filtrations/4/HeightFiltrartion_0_1/green, do_fit = True, filtration = HeightFiltration(direction=array([0, 1]), n_jobs=-1)\n",
      "Got the result from ./20/train/filtrations/4/HeightFiltrartion_0_1/green/diagrams.npy\n",
      "Applying Scaler to persistence diagrams.\n",
      "DiagramVectorizer: fitting complete\n",
      "Got the result from ./20/train/filtrations/4/HeightFiltrartion_0_1/green/features.npy\n",
      "FiltrationExtractor: processing 20/train/filtrations/4/HeightFiltrartion_0_1/green, do_fit = False, filtration = HeightFiltration(direction=array([0, 1]), n_jobs=-1)\n",
      "Got the result from ./20/train/filtrations/4/HeightFiltrartion_0_1/green/diagrams.npy\n",
      "Applying Scaler to persistence diagrams.\n",
      "Got the result from ./20/train/filtrations/4/HeightFiltrartion_0_1/green/features.npy\n",
      "FiltrationExtractor: processing 20/train/filtrations/4/HeightFiltrartion_0_1/blue, do_fit = True, filtration = HeightFiltration(direction=array([0, 1]), n_jobs=-1)\n",
      "Got the result from ./20/train/filtrations/4/HeightFiltrartion_0_1/blue/diagrams.npy\n",
      "Applying Scaler to persistence diagrams.\n",
      "DiagramVectorizer: fitting complete\n",
      "Got the result from ./20/train/filtrations/4/HeightFiltrartion_0_1/blue/features.npy\n",
      "FiltrationExtractor: processing 20/train/filtrations/4/HeightFiltrartion_0_1/blue, do_fit = False, filtration = HeightFiltration(direction=array([0, 1]), n_jobs=-1)\n",
      "Got the result from ./20/train/filtrations/4/HeightFiltrartion_0_1/blue/diagrams.npy\n",
      "Applying Scaler to persistence diagrams.\n",
      "Got the result from ./20/train/filtrations/4/HeightFiltrartion_0_1/blue/features.npy\n",
      "Fitting filtration 30/72: HeightFiltration with d = (1, -1), bin. thr. = 0.4\n",
      "RGB images received. Transforming to grayscale.\n"
     ]
    },
    {
     "name": "stderr",
     "output_type": "stream",
     "text": [
      "rgb2gray: 100%|██████████| 50000/50000 [00:03<00:00, 12918.34it/s]\n"
     ]
    },
    {
     "name": "stdout",
     "output_type": "stream",
     "text": [
      "FiltrationExtractor: processing 20/train/filtrations/4/HeightFiltrartion_1_-1/gray, do_fit = True, filtration = HeightFiltration(direction=array([ 1, -1]), n_jobs=-1)\n",
      "Got the result from ./20/train/filtrations/4/HeightFiltrartion_1_-1/gray/diagrams.npy\n",
      "Applying Scaler to persistence diagrams.\n",
      "DiagramVectorizer: fitting complete\n",
      "Got the result from ./20/train/filtrations/4/HeightFiltrartion_1_-1/gray/features.npy\n",
      "FiltrationExtractor: processing 20/train/filtrations/4/HeightFiltrartion_1_-1/gray, do_fit = False, filtration = HeightFiltration(direction=array([ 1, -1]), n_jobs=-1)\n",
      "Got the result from ./20/train/filtrations/4/HeightFiltrartion_1_-1/gray/diagrams.npy\n",
      "Applying Scaler to persistence diagrams.\n",
      "Got the result from ./20/train/filtrations/4/HeightFiltrartion_1_-1/gray/features.npy\n",
      "FiltrationExtractor: processing 20/train/filtrations/4/HeightFiltrartion_1_-1/red, do_fit = True, filtration = HeightFiltration(direction=array([ 1, -1]), n_jobs=-1)\n",
      "Got the result from ./20/train/filtrations/4/HeightFiltrartion_1_-1/red/diagrams.npy\n",
      "Applying Scaler to persistence diagrams.\n",
      "DiagramVectorizer: fitting complete\n",
      "Got the result from ./20/train/filtrations/4/HeightFiltrartion_1_-1/red/features.npy\n",
      "FiltrationExtractor: processing 20/train/filtrations/4/HeightFiltrartion_1_-1/red, do_fit = False, filtration = HeightFiltration(direction=array([ 1, -1]), n_jobs=-1)\n",
      "Got the result from ./20/train/filtrations/4/HeightFiltrartion_1_-1/red/diagrams.npy\n",
      "Applying Scaler to persistence diagrams.\n",
      "Got the result from ./20/train/filtrations/4/HeightFiltrartion_1_-1/red/features.npy\n",
      "FiltrationExtractor: processing 20/train/filtrations/4/HeightFiltrartion_1_-1/green, do_fit = True, filtration = HeightFiltration(direction=array([ 1, -1]), n_jobs=-1)\n",
      "Got the result from ./20/train/filtrations/4/HeightFiltrartion_1_-1/green/diagrams.npy\n",
      "Applying Scaler to persistence diagrams.\n",
      "DiagramVectorizer: fitting complete\n",
      "Got the result from ./20/train/filtrations/4/HeightFiltrartion_1_-1/green/features.npy\n",
      "FiltrationExtractor: processing 20/train/filtrations/4/HeightFiltrartion_1_-1/green, do_fit = False, filtration = HeightFiltration(direction=array([ 1, -1]), n_jobs=-1)\n",
      "Got the result from ./20/train/filtrations/4/HeightFiltrartion_1_-1/green/diagrams.npy\n",
      "Applying Scaler to persistence diagrams.\n",
      "Got the result from ./20/train/filtrations/4/HeightFiltrartion_1_-1/green/features.npy\n",
      "FiltrationExtractor: processing 20/train/filtrations/4/HeightFiltrartion_1_-1/blue, do_fit = True, filtration = HeightFiltration(direction=array([ 1, -1]), n_jobs=-1)\n",
      "Got the result from ./20/train/filtrations/4/HeightFiltrartion_1_-1/blue/diagrams.npy\n",
      "Applying Scaler to persistence diagrams.\n",
      "DiagramVectorizer: fitting complete\n",
      "Got the result from ./20/train/filtrations/4/HeightFiltrartion_1_-1/blue/features.npy\n",
      "FiltrationExtractor: processing 20/train/filtrations/4/HeightFiltrartion_1_-1/blue, do_fit = False, filtration = HeightFiltration(direction=array([ 1, -1]), n_jobs=-1)\n",
      "Got the result from ./20/train/filtrations/4/HeightFiltrartion_1_-1/blue/diagrams.npy\n",
      "Applying Scaler to persistence diagrams.\n",
      "Got the result from ./20/train/filtrations/4/HeightFiltrartion_1_-1/blue/features.npy\n",
      "Fitting filtration 31/72: HeightFiltration with d = (1, 0), bin. thr. = 0.4\n",
      "RGB images received. Transforming to grayscale.\n"
     ]
    },
    {
     "name": "stderr",
     "output_type": "stream",
     "text": [
      "rgb2gray: 100%|██████████| 50000/50000 [00:04<00:00, 11145.85it/s]\n"
     ]
    },
    {
     "name": "stdout",
     "output_type": "stream",
     "text": [
      "FiltrationExtractor: processing 20/train/filtrations/4/HeightFiltrartion_1_0/gray, do_fit = True, filtration = HeightFiltration(direction=array([1, 0]), n_jobs=-1)\n",
      "Got the result from ./20/train/filtrations/4/HeightFiltrartion_1_0/gray/diagrams.npy\n",
      "Applying Scaler to persistence diagrams.\n",
      "DiagramVectorizer: fitting complete\n",
      "Got the result from ./20/train/filtrations/4/HeightFiltrartion_1_0/gray/features.npy\n",
      "FiltrationExtractor: processing 20/train/filtrations/4/HeightFiltrartion_1_0/gray, do_fit = False, filtration = HeightFiltration(direction=array([1, 0]), n_jobs=-1)\n",
      "Got the result from ./20/train/filtrations/4/HeightFiltrartion_1_0/gray/diagrams.npy\n",
      "Applying Scaler to persistence diagrams.\n",
      "Got the result from ./20/train/filtrations/4/HeightFiltrartion_1_0/gray/features.npy\n",
      "FiltrationExtractor: processing 20/train/filtrations/4/HeightFiltrartion_1_0/red, do_fit = True, filtration = HeightFiltration(direction=array([1, 0]), n_jobs=-1)\n",
      "Got the result from ./20/train/filtrations/4/HeightFiltrartion_1_0/red/diagrams.npy\n",
      "Applying Scaler to persistence diagrams.\n",
      "DiagramVectorizer: fitting complete\n",
      "Got the result from ./20/train/filtrations/4/HeightFiltrartion_1_0/red/features.npy\n",
      "FiltrationExtractor: processing 20/train/filtrations/4/HeightFiltrartion_1_0/red, do_fit = False, filtration = HeightFiltration(direction=array([1, 0]), n_jobs=-1)\n",
      "Got the result from ./20/train/filtrations/4/HeightFiltrartion_1_0/red/diagrams.npy\n",
      "Applying Scaler to persistence diagrams.\n",
      "Got the result from ./20/train/filtrations/4/HeightFiltrartion_1_0/red/features.npy\n",
      "FiltrationExtractor: processing 20/train/filtrations/4/HeightFiltrartion_1_0/green, do_fit = True, filtration = HeightFiltration(direction=array([1, 0]), n_jobs=-1)\n",
      "Got the result from ./20/train/filtrations/4/HeightFiltrartion_1_0/green/diagrams.npy\n",
      "Applying Scaler to persistence diagrams.\n",
      "DiagramVectorizer: fitting complete\n",
      "Got the result from ./20/train/filtrations/4/HeightFiltrartion_1_0/green/features.npy\n",
      "FiltrationExtractor: processing 20/train/filtrations/4/HeightFiltrartion_1_0/green, do_fit = False, filtration = HeightFiltration(direction=array([1, 0]), n_jobs=-1)\n",
      "Got the result from ./20/train/filtrations/4/HeightFiltrartion_1_0/green/diagrams.npy\n",
      "Applying Scaler to persistence diagrams.\n",
      "Got the result from ./20/train/filtrations/4/HeightFiltrartion_1_0/green/features.npy\n",
      "FiltrationExtractor: processing 20/train/filtrations/4/HeightFiltrartion_1_0/blue, do_fit = True, filtration = HeightFiltration(direction=array([1, 0]), n_jobs=-1)\n",
      "Got the result from ./20/train/filtrations/4/HeightFiltrartion_1_0/blue/diagrams.npy\n",
      "Applying Scaler to persistence diagrams.\n",
      "DiagramVectorizer: fitting complete\n",
      "Got the result from ./20/train/filtrations/4/HeightFiltrartion_1_0/blue/features.npy\n",
      "FiltrationExtractor: processing 20/train/filtrations/4/HeightFiltrartion_1_0/blue, do_fit = False, filtration = HeightFiltration(direction=array([1, 0]), n_jobs=-1)\n",
      "Got the result from ./20/train/filtrations/4/HeightFiltrartion_1_0/blue/diagrams.npy\n",
      "Applying Scaler to persistence diagrams.\n",
      "Got the result from ./20/train/filtrations/4/HeightFiltrartion_1_0/blue/features.npy\n",
      "Fitting filtration 32/72: HeightFiltration with d = (1, 1), bin. thr. = 0.4\n",
      "RGB images received. Transforming to grayscale.\n"
     ]
    },
    {
     "name": "stderr",
     "output_type": "stream",
     "text": [
      "rgb2gray: 100%|██████████| 50000/50000 [00:04<00:00, 10992.50it/s]\n"
     ]
    },
    {
     "name": "stdout",
     "output_type": "stream",
     "text": [
      "FiltrationExtractor: processing 20/train/filtrations/4/HeightFiltrartion_1_1/gray, do_fit = True, filtration = HeightFiltration(direction=array([1, 1]), n_jobs=-1)\n",
      "Got the result from ./20/train/filtrations/4/HeightFiltrartion_1_1/gray/diagrams.npy\n",
      "Applying Scaler to persistence diagrams.\n",
      "DiagramVectorizer: fitting complete\n",
      "Got the result from ./20/train/filtrations/4/HeightFiltrartion_1_1/gray/features.npy\n",
      "FiltrationExtractor: processing 20/train/filtrations/4/HeightFiltrartion_1_1/gray, do_fit = False, filtration = HeightFiltration(direction=array([1, 1]), n_jobs=-1)\n",
      "Got the result from ./20/train/filtrations/4/HeightFiltrartion_1_1/gray/diagrams.npy\n",
      "Applying Scaler to persistence diagrams.\n",
      "Got the result from ./20/train/filtrations/4/HeightFiltrartion_1_1/gray/features.npy\n",
      "FiltrationExtractor: processing 20/train/filtrations/4/HeightFiltrartion_1_1/red, do_fit = True, filtration = HeightFiltration(direction=array([1, 1]), n_jobs=-1)\n",
      "Got the result from ./20/train/filtrations/4/HeightFiltrartion_1_1/red/diagrams.npy\n",
      "Applying Scaler to persistence diagrams.\n",
      "DiagramVectorizer: fitting complete\n",
      "Got the result from ./20/train/filtrations/4/HeightFiltrartion_1_1/red/features.npy\n",
      "FiltrationExtractor: processing 20/train/filtrations/4/HeightFiltrartion_1_1/red, do_fit = False, filtration = HeightFiltration(direction=array([1, 1]), n_jobs=-1)\n",
      "Got the result from ./20/train/filtrations/4/HeightFiltrartion_1_1/red/diagrams.npy\n",
      "Applying Scaler to persistence diagrams.\n",
      "Got the result from ./20/train/filtrations/4/HeightFiltrartion_1_1/red/features.npy\n",
      "FiltrationExtractor: processing 20/train/filtrations/4/HeightFiltrartion_1_1/green, do_fit = True, filtration = HeightFiltration(direction=array([1, 1]), n_jobs=-1)\n",
      "Got the result from ./20/train/filtrations/4/HeightFiltrartion_1_1/green/diagrams.npy\n",
      "Applying Scaler to persistence diagrams.\n",
      "DiagramVectorizer: fitting complete\n",
      "Got the result from ./20/train/filtrations/4/HeightFiltrartion_1_1/green/features.npy\n",
      "FiltrationExtractor: processing 20/train/filtrations/4/HeightFiltrartion_1_1/green, do_fit = False, filtration = HeightFiltration(direction=array([1, 1]), n_jobs=-1)\n",
      "Got the result from ./20/train/filtrations/4/HeightFiltrartion_1_1/green/diagrams.npy\n",
      "Applying Scaler to persistence diagrams.\n",
      "Got the result from ./20/train/filtrations/4/HeightFiltrartion_1_1/green/features.npy\n",
      "FiltrationExtractor: processing 20/train/filtrations/4/HeightFiltrartion_1_1/blue, do_fit = True, filtration = HeightFiltration(direction=array([1, 1]), n_jobs=-1)\n",
      "Got the result from ./20/train/filtrations/4/HeightFiltrartion_1_1/blue/diagrams.npy\n",
      "Applying Scaler to persistence diagrams.\n",
      "DiagramVectorizer: fitting complete\n",
      "Got the result from ./20/train/filtrations/4/HeightFiltrartion_1_1/blue/features.npy\n",
      "FiltrationExtractor: processing 20/train/filtrations/4/HeightFiltrartion_1_1/blue, do_fit = False, filtration = HeightFiltration(direction=array([1, 1]), n_jobs=-1)\n",
      "Got the result from ./20/train/filtrations/4/HeightFiltrartion_1_1/blue/diagrams.npy\n",
      "Applying Scaler to persistence diagrams.\n",
      "Got the result from ./20/train/filtrations/4/HeightFiltrartion_1_1/blue/features.npy\n",
      "Fitting filtration 33/72: RadialFiltration with c = (5, 5), bin. thr. = 0.4\n",
      "RGB images received. Transforming to grayscale.\n"
     ]
    },
    {
     "name": "stderr",
     "output_type": "stream",
     "text": [
      "rgb2gray: 100%|██████████| 50000/50000 [00:03<00:00, 12831.90it/s]\n"
     ]
    },
    {
     "name": "stdout",
     "output_type": "stream",
     "text": [
      "FiltrationExtractor: processing 20/train/filtrations/4/RadialFiltration_5_5/gray, do_fit = True, filtration = RadialFiltration(center=array([5, 5]), n_jobs=-1)\n",
      "Got the result from ./20/train/filtrations/4/RadialFiltration_5_5/gray/diagrams.npy\n",
      "Applying Scaler to persistence diagrams.\n",
      "DiagramVectorizer: fitting complete\n",
      "Got the result from ./20/train/filtrations/4/RadialFiltration_5_5/gray/features.npy\n",
      "FiltrationExtractor: processing 20/train/filtrations/4/RadialFiltration_5_5/gray, do_fit = False, filtration = RadialFiltration(center=array([5, 5]), n_jobs=-1)\n",
      "Got the result from ./20/train/filtrations/4/RadialFiltration_5_5/gray/diagrams.npy\n",
      "Applying Scaler to persistence diagrams.\n",
      "Got the result from ./20/train/filtrations/4/RadialFiltration_5_5/gray/features.npy\n",
      "FiltrationExtractor: processing 20/train/filtrations/4/RadialFiltration_5_5/red, do_fit = True, filtration = RadialFiltration(center=array([5, 5]), n_jobs=-1)\n",
      "Got the result from ./20/train/filtrations/4/RadialFiltration_5_5/red/diagrams.npy\n",
      "Applying Scaler to persistence diagrams.\n",
      "DiagramVectorizer: fitting complete\n",
      "Got the result from ./20/train/filtrations/4/RadialFiltration_5_5/red/features.npy\n",
      "FiltrationExtractor: processing 20/train/filtrations/4/RadialFiltration_5_5/red, do_fit = False, filtration = RadialFiltration(center=array([5, 5]), n_jobs=-1)\n",
      "Got the result from ./20/train/filtrations/4/RadialFiltration_5_5/red/diagrams.npy\n",
      "Applying Scaler to persistence diagrams.\n",
      "Got the result from ./20/train/filtrations/4/RadialFiltration_5_5/red/features.npy\n",
      "FiltrationExtractor: processing 20/train/filtrations/4/RadialFiltration_5_5/green, do_fit = True, filtration = RadialFiltration(center=array([5, 5]), n_jobs=-1)\n",
      "Got the result from ./20/train/filtrations/4/RadialFiltration_5_5/green/diagrams.npy\n",
      "Applying Scaler to persistence diagrams.\n",
      "DiagramVectorizer: fitting complete\n",
      "Got the result from ./20/train/filtrations/4/RadialFiltration_5_5/green/features.npy\n",
      "FiltrationExtractor: processing 20/train/filtrations/4/RadialFiltration_5_5/green, do_fit = False, filtration = RadialFiltration(center=array([5, 5]), n_jobs=-1)\n",
      "Got the result from ./20/train/filtrations/4/RadialFiltration_5_5/green/diagrams.npy\n",
      "Applying Scaler to persistence diagrams.\n",
      "Got the result from ./20/train/filtrations/4/RadialFiltration_5_5/green/features.npy\n",
      "FiltrationExtractor: processing 20/train/filtrations/4/RadialFiltration_5_5/blue, do_fit = True, filtration = RadialFiltration(center=array([5, 5]), n_jobs=-1)\n",
      "Got the result from ./20/train/filtrations/4/RadialFiltration_5_5/blue/diagrams.npy\n",
      "Applying Scaler to persistence diagrams.\n",
      "DiagramVectorizer: fitting complete\n",
      "Got the result from ./20/train/filtrations/4/RadialFiltration_5_5/blue/features.npy\n",
      "FiltrationExtractor: processing 20/train/filtrations/4/RadialFiltration_5_5/blue, do_fit = False, filtration = RadialFiltration(center=array([5, 5]), n_jobs=-1)\n",
      "Got the result from ./20/train/filtrations/4/RadialFiltration_5_5/blue/diagrams.npy\n",
      "Applying Scaler to persistence diagrams.\n",
      "Got the result from ./20/train/filtrations/4/RadialFiltration_5_5/blue/features.npy\n",
      "Fitting filtration 34/72: RadialFiltration with c = (5, 12), bin. thr. = 0.4\n",
      "RGB images received. Transforming to grayscale.\n"
     ]
    },
    {
     "name": "stderr",
     "output_type": "stream",
     "text": [
      "rgb2gray: 100%|██████████| 50000/50000 [00:04<00:00, 11066.56it/s]\n"
     ]
    },
    {
     "name": "stdout",
     "output_type": "stream",
     "text": [
      "FiltrationExtractor: processing 20/train/filtrations/4/RadialFiltration_5_12/gray, do_fit = True, filtration = RadialFiltration(center=array([ 5, 12]), n_jobs=-1)\n",
      "Got the result from ./20/train/filtrations/4/RadialFiltration_5_12/gray/diagrams.npy\n",
      "Applying Scaler to persistence diagrams.\n",
      "DiagramVectorizer: fitting complete\n",
      "Got the result from ./20/train/filtrations/4/RadialFiltration_5_12/gray/features.npy\n",
      "FiltrationExtractor: processing 20/train/filtrations/4/RadialFiltration_5_12/gray, do_fit = False, filtration = RadialFiltration(center=array([ 5, 12]), n_jobs=-1)\n",
      "Got the result from ./20/train/filtrations/4/RadialFiltration_5_12/gray/diagrams.npy\n",
      "Applying Scaler to persistence diagrams.\n",
      "Got the result from ./20/train/filtrations/4/RadialFiltration_5_12/gray/features.npy\n",
      "FiltrationExtractor: processing 20/train/filtrations/4/RadialFiltration_5_12/red, do_fit = True, filtration = RadialFiltration(center=array([ 5, 12]), n_jobs=-1)\n",
      "Got the result from ./20/train/filtrations/4/RadialFiltration_5_12/red/diagrams.npy\n",
      "Applying Scaler to persistence diagrams.\n",
      "DiagramVectorizer: fitting complete\n",
      "Got the result from ./20/train/filtrations/4/RadialFiltration_5_12/red/features.npy\n",
      "FiltrationExtractor: processing 20/train/filtrations/4/RadialFiltration_5_12/red, do_fit = False, filtration = RadialFiltration(center=array([ 5, 12]), n_jobs=-1)\n",
      "Got the result from ./20/train/filtrations/4/RadialFiltration_5_12/red/diagrams.npy\n",
      "Applying Scaler to persistence diagrams.\n",
      "Got the result from ./20/train/filtrations/4/RadialFiltration_5_12/red/features.npy\n",
      "FiltrationExtractor: processing 20/train/filtrations/4/RadialFiltration_5_12/green, do_fit = True, filtration = RadialFiltration(center=array([ 5, 12]), n_jobs=-1)\n",
      "Got the result from ./20/train/filtrations/4/RadialFiltration_5_12/green/diagrams.npy\n",
      "Applying Scaler to persistence diagrams.\n",
      "DiagramVectorizer: fitting complete\n",
      "Got the result from ./20/train/filtrations/4/RadialFiltration_5_12/green/features.npy\n",
      "FiltrationExtractor: processing 20/train/filtrations/4/RadialFiltration_5_12/green, do_fit = False, filtration = RadialFiltration(center=array([ 5, 12]), n_jobs=-1)\n",
      "Got the result from ./20/train/filtrations/4/RadialFiltration_5_12/green/diagrams.npy\n",
      "Applying Scaler to persistence diagrams.\n",
      "Got the result from ./20/train/filtrations/4/RadialFiltration_5_12/green/features.npy\n",
      "FiltrationExtractor: processing 20/train/filtrations/4/RadialFiltration_5_12/blue, do_fit = True, filtration = RadialFiltration(center=array([ 5, 12]), n_jobs=-1)\n",
      "Got the result from ./20/train/filtrations/4/RadialFiltration_5_12/blue/diagrams.npy\n",
      "Applying Scaler to persistence diagrams.\n",
      "DiagramVectorizer: fitting complete\n",
      "Got the result from ./20/train/filtrations/4/RadialFiltration_5_12/blue/features.npy\n",
      "FiltrationExtractor: processing 20/train/filtrations/4/RadialFiltration_5_12/blue, do_fit = False, filtration = RadialFiltration(center=array([ 5, 12]), n_jobs=-1)\n",
      "Got the result from ./20/train/filtrations/4/RadialFiltration_5_12/blue/diagrams.npy\n",
      "Applying Scaler to persistence diagrams.\n",
      "Got the result from ./20/train/filtrations/4/RadialFiltration_5_12/blue/features.npy\n",
      "Fitting filtration 35/72: RadialFiltration with c = (5, 19), bin. thr. = 0.4\n",
      "RGB images received. Transforming to grayscale.\n"
     ]
    },
    {
     "name": "stderr",
     "output_type": "stream",
     "text": [
      "rgb2gray: 100%|██████████| 50000/50000 [00:03<00:00, 12958.35it/s]\n"
     ]
    },
    {
     "name": "stdout",
     "output_type": "stream",
     "text": [
      "FiltrationExtractor: processing 20/train/filtrations/4/RadialFiltration_5_19/gray, do_fit = True, filtration = RadialFiltration(center=array([ 5, 19]), n_jobs=-1)\n",
      "Got the result from ./20/train/filtrations/4/RadialFiltration_5_19/gray/diagrams.npy\n",
      "Applying Scaler to persistence diagrams.\n",
      "DiagramVectorizer: fitting complete\n",
      "Got the result from ./20/train/filtrations/4/RadialFiltration_5_19/gray/features.npy\n",
      "FiltrationExtractor: processing 20/train/filtrations/4/RadialFiltration_5_19/gray, do_fit = False, filtration = RadialFiltration(center=array([ 5, 19]), n_jobs=-1)\n",
      "Got the result from ./20/train/filtrations/4/RadialFiltration_5_19/gray/diagrams.npy\n",
      "Applying Scaler to persistence diagrams.\n",
      "Got the result from ./20/train/filtrations/4/RadialFiltration_5_19/gray/features.npy\n",
      "FiltrationExtractor: processing 20/train/filtrations/4/RadialFiltration_5_19/red, do_fit = True, filtration = RadialFiltration(center=array([ 5, 19]), n_jobs=-1)\n",
      "Got the result from ./20/train/filtrations/4/RadialFiltration_5_19/red/diagrams.npy\n",
      "Applying Scaler to persistence diagrams.\n",
      "DiagramVectorizer: fitting complete\n",
      "Got the result from ./20/train/filtrations/4/RadialFiltration_5_19/red/features.npy\n",
      "FiltrationExtractor: processing 20/train/filtrations/4/RadialFiltration_5_19/red, do_fit = False, filtration = RadialFiltration(center=array([ 5, 19]), n_jobs=-1)\n",
      "Got the result from ./20/train/filtrations/4/RadialFiltration_5_19/red/diagrams.npy\n",
      "Applying Scaler to persistence diagrams.\n",
      "Got the result from ./20/train/filtrations/4/RadialFiltration_5_19/red/features.npy\n",
      "FiltrationExtractor: processing 20/train/filtrations/4/RadialFiltration_5_19/green, do_fit = True, filtration = RadialFiltration(center=array([ 5, 19]), n_jobs=-1)\n",
      "Got the result from ./20/train/filtrations/4/RadialFiltration_5_19/green/diagrams.npy\n",
      "Applying Scaler to persistence diagrams.\n",
      "DiagramVectorizer: fitting complete\n",
      "Got the result from ./20/train/filtrations/4/RadialFiltration_5_19/green/features.npy\n",
      "FiltrationExtractor: processing 20/train/filtrations/4/RadialFiltration_5_19/green, do_fit = False, filtration = RadialFiltration(center=array([ 5, 19]), n_jobs=-1)\n",
      "Got the result from ./20/train/filtrations/4/RadialFiltration_5_19/green/diagrams.npy\n",
      "Applying Scaler to persistence diagrams.\n",
      "Got the result from ./20/train/filtrations/4/RadialFiltration_5_19/green/features.npy\n",
      "FiltrationExtractor: processing 20/train/filtrations/4/RadialFiltration_5_19/blue, do_fit = True, filtration = RadialFiltration(center=array([ 5, 19]), n_jobs=-1)\n",
      "Got the result from ./20/train/filtrations/4/RadialFiltration_5_19/blue/diagrams.npy\n",
      "Applying Scaler to persistence diagrams.\n",
      "DiagramVectorizer: fitting complete\n",
      "Got the result from ./20/train/filtrations/4/RadialFiltration_5_19/blue/features.npy\n",
      "FiltrationExtractor: processing 20/train/filtrations/4/RadialFiltration_5_19/blue, do_fit = False, filtration = RadialFiltration(center=array([ 5, 19]), n_jobs=-1)\n",
      "Got the result from ./20/train/filtrations/4/RadialFiltration_5_19/blue/diagrams.npy\n",
      "Applying Scaler to persistence diagrams.\n",
      "Got the result from ./20/train/filtrations/4/RadialFiltration_5_19/blue/features.npy\n",
      "Fitting filtration 36/72: RadialFiltration with c = (5, 26), bin. thr. = 0.4\n",
      "RGB images received. Transforming to grayscale.\n"
     ]
    },
    {
     "name": "stderr",
     "output_type": "stream",
     "text": [
      "rgb2gray: 100%|██████████| 50000/50000 [00:04<00:00, 10870.62it/s]\n"
     ]
    },
    {
     "name": "stdout",
     "output_type": "stream",
     "text": [
      "FiltrationExtractor: processing 20/train/filtrations/4/RadialFiltration_5_26/gray, do_fit = True, filtration = RadialFiltration(center=array([ 5, 26]), n_jobs=-1)\n",
      "Got the result from ./20/train/filtrations/4/RadialFiltration_5_26/gray/diagrams.npy\n",
      "Applying Scaler to persistence diagrams.\n",
      "DiagramVectorizer: fitting complete\n",
      "Got the result from ./20/train/filtrations/4/RadialFiltration_5_26/gray/features.npy\n",
      "FiltrationExtractor: processing 20/train/filtrations/4/RadialFiltration_5_26/gray, do_fit = False, filtration = RadialFiltration(center=array([ 5, 26]), n_jobs=-1)\n",
      "Got the result from ./20/train/filtrations/4/RadialFiltration_5_26/gray/diagrams.npy\n",
      "Applying Scaler to persistence diagrams.\n",
      "Got the result from ./20/train/filtrations/4/RadialFiltration_5_26/gray/features.npy\n",
      "FiltrationExtractor: processing 20/train/filtrations/4/RadialFiltration_5_26/red, do_fit = True, filtration = RadialFiltration(center=array([ 5, 26]), n_jobs=-1)\n",
      "Got the result from ./20/train/filtrations/4/RadialFiltration_5_26/red/diagrams.npy\n",
      "Applying Scaler to persistence diagrams.\n",
      "DiagramVectorizer: fitting complete\n",
      "Got the result from ./20/train/filtrations/4/RadialFiltration_5_26/red/features.npy\n",
      "FiltrationExtractor: processing 20/train/filtrations/4/RadialFiltration_5_26/red, do_fit = False, filtration = RadialFiltration(center=array([ 5, 26]), n_jobs=-1)\n",
      "Got the result from ./20/train/filtrations/4/RadialFiltration_5_26/red/diagrams.npy\n",
      "Applying Scaler to persistence diagrams.\n",
      "Got the result from ./20/train/filtrations/4/RadialFiltration_5_26/red/features.npy\n",
      "FiltrationExtractor: processing 20/train/filtrations/4/RadialFiltration_5_26/green, do_fit = True, filtration = RadialFiltration(center=array([ 5, 26]), n_jobs=-1)\n",
      "Got the result from ./20/train/filtrations/4/RadialFiltration_5_26/green/diagrams.npy\n",
      "Applying Scaler to persistence diagrams.\n",
      "DiagramVectorizer: fitting complete\n",
      "Got the result from ./20/train/filtrations/4/RadialFiltration_5_26/green/features.npy\n",
      "FiltrationExtractor: processing 20/train/filtrations/4/RadialFiltration_5_26/green, do_fit = False, filtration = RadialFiltration(center=array([ 5, 26]), n_jobs=-1)\n",
      "Got the result from ./20/train/filtrations/4/RadialFiltration_5_26/green/diagrams.npy\n",
      "Applying Scaler to persistence diagrams.\n",
      "Got the result from ./20/train/filtrations/4/RadialFiltration_5_26/green/features.npy\n",
      "FiltrationExtractor: processing 20/train/filtrations/4/RadialFiltration_5_26/blue, do_fit = True, filtration = RadialFiltration(center=array([ 5, 26]), n_jobs=-1)\n",
      "Got the result from ./20/train/filtrations/4/RadialFiltration_5_26/blue/diagrams.npy\n",
      "Applying Scaler to persistence diagrams.\n",
      "DiagramVectorizer: fitting complete\n",
      "Got the result from ./20/train/filtrations/4/RadialFiltration_5_26/blue/features.npy\n",
      "FiltrationExtractor: processing 20/train/filtrations/4/RadialFiltration_5_26/blue, do_fit = False, filtration = RadialFiltration(center=array([ 5, 26]), n_jobs=-1)\n",
      "Got the result from ./20/train/filtrations/4/RadialFiltration_5_26/blue/diagrams.npy\n",
      "Applying Scaler to persistence diagrams.\n",
      "Got the result from ./20/train/filtrations/4/RadialFiltration_5_26/blue/features.npy\n",
      "Fitting filtration 37/72: RadialFiltration with c = (12, 5), bin. thr. = 0.4\n",
      "RGB images received. Transforming to grayscale.\n"
     ]
    },
    {
     "name": "stderr",
     "output_type": "stream",
     "text": [
      "rgb2gray: 100%|██████████| 50000/50000 [00:04<00:00, 10627.46it/s]\n"
     ]
    },
    {
     "name": "stdout",
     "output_type": "stream",
     "text": [
      "FiltrationExtractor: processing 20/train/filtrations/4/RadialFiltration_12_5/gray, do_fit = True, filtration = RadialFiltration(center=array([12,  5]), n_jobs=-1)\n",
      "Got the result from ./20/train/filtrations/4/RadialFiltration_12_5/gray/diagrams.npy\n",
      "Applying Scaler to persistence diagrams.\n",
      "DiagramVectorizer: fitting complete\n",
      "Got the result from ./20/train/filtrations/4/RadialFiltration_12_5/gray/features.npy\n",
      "FiltrationExtractor: processing 20/train/filtrations/4/RadialFiltration_12_5/gray, do_fit = False, filtration = RadialFiltration(center=array([12,  5]), n_jobs=-1)\n",
      "Got the result from ./20/train/filtrations/4/RadialFiltration_12_5/gray/diagrams.npy\n",
      "Applying Scaler to persistence diagrams.\n",
      "Got the result from ./20/train/filtrations/4/RadialFiltration_12_5/gray/features.npy\n",
      "FiltrationExtractor: processing 20/train/filtrations/4/RadialFiltration_12_5/red, do_fit = True, filtration = RadialFiltration(center=array([12,  5]), n_jobs=-1)\n",
      "Got the result from ./20/train/filtrations/4/RadialFiltration_12_5/red/diagrams.npy\n",
      "Applying Scaler to persistence diagrams.\n",
      "DiagramVectorizer: fitting complete\n",
      "Got the result from ./20/train/filtrations/4/RadialFiltration_12_5/red/features.npy\n",
      "FiltrationExtractor: processing 20/train/filtrations/4/RadialFiltration_12_5/red, do_fit = False, filtration = RadialFiltration(center=array([12,  5]), n_jobs=-1)\n",
      "Got the result from ./20/train/filtrations/4/RadialFiltration_12_5/red/diagrams.npy\n",
      "Applying Scaler to persistence diagrams.\n",
      "Got the result from ./20/train/filtrations/4/RadialFiltration_12_5/red/features.npy\n",
      "FiltrationExtractor: processing 20/train/filtrations/4/RadialFiltration_12_5/green, do_fit = True, filtration = RadialFiltration(center=array([12,  5]), n_jobs=-1)\n",
      "Got the result from ./20/train/filtrations/4/RadialFiltration_12_5/green/diagrams.npy\n",
      "Applying Scaler to persistence diagrams.\n",
      "DiagramVectorizer: fitting complete\n",
      "Got the result from ./20/train/filtrations/4/RadialFiltration_12_5/green/features.npy\n",
      "FiltrationExtractor: processing 20/train/filtrations/4/RadialFiltration_12_5/green, do_fit = False, filtration = RadialFiltration(center=array([12,  5]), n_jobs=-1)\n",
      "Got the result from ./20/train/filtrations/4/RadialFiltration_12_5/green/diagrams.npy\n",
      "Applying Scaler to persistence diagrams.\n",
      "Got the result from ./20/train/filtrations/4/RadialFiltration_12_5/green/features.npy\n",
      "FiltrationExtractor: processing 20/train/filtrations/4/RadialFiltration_12_5/blue, do_fit = True, filtration = RadialFiltration(center=array([12,  5]), n_jobs=-1)\n",
      "Got the result from ./20/train/filtrations/4/RadialFiltration_12_5/blue/diagrams.npy\n",
      "Applying Scaler to persistence diagrams.\n",
      "DiagramVectorizer: fitting complete\n",
      "Got the result from ./20/train/filtrations/4/RadialFiltration_12_5/blue/features.npy\n",
      "FiltrationExtractor: processing 20/train/filtrations/4/RadialFiltration_12_5/blue, do_fit = False, filtration = RadialFiltration(center=array([12,  5]), n_jobs=-1)\n",
      "Got the result from ./20/train/filtrations/4/RadialFiltration_12_5/blue/diagrams.npy\n",
      "Applying Scaler to persistence diagrams.\n",
      "Got the result from ./20/train/filtrations/4/RadialFiltration_12_5/blue/features.npy\n",
      "Fitting filtration 38/72: RadialFiltration with c = (12, 12), bin. thr. = 0.4\n",
      "RGB images received. Transforming to grayscale.\n"
     ]
    },
    {
     "name": "stderr",
     "output_type": "stream",
     "text": [
      "rgb2gray: 100%|██████████| 50000/50000 [00:03<00:00, 12875.96it/s]\n"
     ]
    },
    {
     "name": "stdout",
     "output_type": "stream",
     "text": [
      "FiltrationExtractor: processing 20/train/filtrations/4/RadialFiltration_12_12/gray, do_fit = True, filtration = RadialFiltration(center=array([12, 12]), n_jobs=-1)\n",
      "Got the result from ./20/train/filtrations/4/RadialFiltration_12_12/gray/diagrams.npy\n",
      "Applying Scaler to persistence diagrams.\n",
      "DiagramVectorizer: fitting complete\n",
      "Got the result from ./20/train/filtrations/4/RadialFiltration_12_12/gray/features.npy\n",
      "FiltrationExtractor: processing 20/train/filtrations/4/RadialFiltration_12_12/gray, do_fit = False, filtration = RadialFiltration(center=array([12, 12]), n_jobs=-1)\n",
      "Got the result from ./20/train/filtrations/4/RadialFiltration_12_12/gray/diagrams.npy\n",
      "Applying Scaler to persistence diagrams.\n",
      "Got the result from ./20/train/filtrations/4/RadialFiltration_12_12/gray/features.npy\n",
      "FiltrationExtractor: processing 20/train/filtrations/4/RadialFiltration_12_12/red, do_fit = True, filtration = RadialFiltration(center=array([12, 12]), n_jobs=-1)\n",
      "Got the result from ./20/train/filtrations/4/RadialFiltration_12_12/red/diagrams.npy\n",
      "Applying Scaler to persistence diagrams.\n",
      "DiagramVectorizer: fitting complete\n",
      "Got the result from ./20/train/filtrations/4/RadialFiltration_12_12/red/features.npy\n",
      "FiltrationExtractor: processing 20/train/filtrations/4/RadialFiltration_12_12/red, do_fit = False, filtration = RadialFiltration(center=array([12, 12]), n_jobs=-1)\n",
      "Got the result from ./20/train/filtrations/4/RadialFiltration_12_12/red/diagrams.npy\n",
      "Applying Scaler to persistence diagrams.\n",
      "Got the result from ./20/train/filtrations/4/RadialFiltration_12_12/red/features.npy\n",
      "FiltrationExtractor: processing 20/train/filtrations/4/RadialFiltration_12_12/green, do_fit = True, filtration = RadialFiltration(center=array([12, 12]), n_jobs=-1)\n",
      "Got the result from ./20/train/filtrations/4/RadialFiltration_12_12/green/diagrams.npy\n",
      "Applying Scaler to persistence diagrams.\n",
      "DiagramVectorizer: fitting complete\n",
      "Got the result from ./20/train/filtrations/4/RadialFiltration_12_12/green/features.npy\n",
      "FiltrationExtractor: processing 20/train/filtrations/4/RadialFiltration_12_12/green, do_fit = False, filtration = RadialFiltration(center=array([12, 12]), n_jobs=-1)\n",
      "Got the result from ./20/train/filtrations/4/RadialFiltration_12_12/green/diagrams.npy\n",
      "Applying Scaler to persistence diagrams.\n",
      "Got the result from ./20/train/filtrations/4/RadialFiltration_12_12/green/features.npy\n",
      "FiltrationExtractor: processing 20/train/filtrations/4/RadialFiltration_12_12/blue, do_fit = True, filtration = RadialFiltration(center=array([12, 12]), n_jobs=-1)\n",
      "Got the result from ./20/train/filtrations/4/RadialFiltration_12_12/blue/diagrams.npy\n",
      "Applying Scaler to persistence diagrams.\n",
      "DiagramVectorizer: fitting complete\n",
      "Got the result from ./20/train/filtrations/4/RadialFiltration_12_12/blue/features.npy\n",
      "FiltrationExtractor: processing 20/train/filtrations/4/RadialFiltration_12_12/blue, do_fit = False, filtration = RadialFiltration(center=array([12, 12]), n_jobs=-1)\n",
      "Got the result from ./20/train/filtrations/4/RadialFiltration_12_12/blue/diagrams.npy\n",
      "Applying Scaler to persistence diagrams.\n",
      "Got the result from ./20/train/filtrations/4/RadialFiltration_12_12/blue/features.npy\n",
      "Fitting filtration 39/72: RadialFiltration with c = (12, 19), bin. thr. = 0.4\n",
      "RGB images received. Transforming to grayscale.\n"
     ]
    },
    {
     "name": "stderr",
     "output_type": "stream",
     "text": [
      "rgb2gray: 100%|██████████| 50000/50000 [00:03<00:00, 12758.30it/s]\n"
     ]
    },
    {
     "name": "stdout",
     "output_type": "stream",
     "text": [
      "FiltrationExtractor: processing 20/train/filtrations/4/RadialFiltration_12_19/gray, do_fit = True, filtration = RadialFiltration(center=array([12, 19]), n_jobs=-1)\n",
      "Got the result from ./20/train/filtrations/4/RadialFiltration_12_19/gray/diagrams.npy\n",
      "Applying Scaler to persistence diagrams.\n",
      "DiagramVectorizer: fitting complete\n",
      "Got the result from ./20/train/filtrations/4/RadialFiltration_12_19/gray/features.npy\n",
      "FiltrationExtractor: processing 20/train/filtrations/4/RadialFiltration_12_19/gray, do_fit = False, filtration = RadialFiltration(center=array([12, 19]), n_jobs=-1)\n",
      "Got the result from ./20/train/filtrations/4/RadialFiltration_12_19/gray/diagrams.npy\n",
      "Applying Scaler to persistence diagrams.\n",
      "Got the result from ./20/train/filtrations/4/RadialFiltration_12_19/gray/features.npy\n",
      "FiltrationExtractor: processing 20/train/filtrations/4/RadialFiltration_12_19/red, do_fit = True, filtration = RadialFiltration(center=array([12, 19]), n_jobs=-1)\n",
      "Got the result from ./20/train/filtrations/4/RadialFiltration_12_19/red/diagrams.npy\n",
      "Applying Scaler to persistence diagrams.\n",
      "DiagramVectorizer: fitting complete\n",
      "Got the result from ./20/train/filtrations/4/RadialFiltration_12_19/red/features.npy\n",
      "FiltrationExtractor: processing 20/train/filtrations/4/RadialFiltration_12_19/red, do_fit = False, filtration = RadialFiltration(center=array([12, 19]), n_jobs=-1)\n",
      "Got the result from ./20/train/filtrations/4/RadialFiltration_12_19/red/diagrams.npy\n",
      "Applying Scaler to persistence diagrams.\n",
      "Got the result from ./20/train/filtrations/4/RadialFiltration_12_19/red/features.npy\n",
      "FiltrationExtractor: processing 20/train/filtrations/4/RadialFiltration_12_19/green, do_fit = True, filtration = RadialFiltration(center=array([12, 19]), n_jobs=-1)\n",
      "Got the result from ./20/train/filtrations/4/RadialFiltration_12_19/green/diagrams.npy\n",
      "Applying Scaler to persistence diagrams.\n",
      "DiagramVectorizer: fitting complete\n",
      "Got the result from ./20/train/filtrations/4/RadialFiltration_12_19/green/features.npy\n",
      "FiltrationExtractor: processing 20/train/filtrations/4/RadialFiltration_12_19/green, do_fit = False, filtration = RadialFiltration(center=array([12, 19]), n_jobs=-1)\n",
      "Got the result from ./20/train/filtrations/4/RadialFiltration_12_19/green/diagrams.npy\n",
      "Applying Scaler to persistence diagrams.\n",
      "Got the result from ./20/train/filtrations/4/RadialFiltration_12_19/green/features.npy\n",
      "FiltrationExtractor: processing 20/train/filtrations/4/RadialFiltration_12_19/blue, do_fit = True, filtration = RadialFiltration(center=array([12, 19]), n_jobs=-1)\n",
      "Got the result from ./20/train/filtrations/4/RadialFiltration_12_19/blue/diagrams.npy\n",
      "Applying Scaler to persistence diagrams.\n",
      "DiagramVectorizer: fitting complete\n",
      "Got the result from ./20/train/filtrations/4/RadialFiltration_12_19/blue/features.npy\n",
      "FiltrationExtractor: processing 20/train/filtrations/4/RadialFiltration_12_19/blue, do_fit = False, filtration = RadialFiltration(center=array([12, 19]), n_jobs=-1)\n",
      "Got the result from ./20/train/filtrations/4/RadialFiltration_12_19/blue/diagrams.npy\n",
      "Applying Scaler to persistence diagrams.\n",
      "Got the result from ./20/train/filtrations/4/RadialFiltration_12_19/blue/features.npy\n",
      "Fitting filtration 40/72: RadialFiltration with c = (12, 26), bin. thr. = 0.4\n",
      "RGB images received. Transforming to grayscale.\n"
     ]
    },
    {
     "name": "stderr",
     "output_type": "stream",
     "text": [
      "rgb2gray: 100%|██████████| 50000/50000 [00:04<00:00, 10472.39it/s]\n"
     ]
    },
    {
     "name": "stdout",
     "output_type": "stream",
     "text": [
      "FiltrationExtractor: processing 20/train/filtrations/4/RadialFiltration_12_26/gray, do_fit = True, filtration = RadialFiltration(center=array([12, 26]), n_jobs=-1)\n",
      "Got the result from ./20/train/filtrations/4/RadialFiltration_12_26/gray/diagrams.npy\n",
      "Applying Scaler to persistence diagrams.\n",
      "DiagramVectorizer: fitting complete\n",
      "Got the result from ./20/train/filtrations/4/RadialFiltration_12_26/gray/features.npy\n",
      "FiltrationExtractor: processing 20/train/filtrations/4/RadialFiltration_12_26/gray, do_fit = False, filtration = RadialFiltration(center=array([12, 26]), n_jobs=-1)\n",
      "Got the result from ./20/train/filtrations/4/RadialFiltration_12_26/gray/diagrams.npy\n",
      "Applying Scaler to persistence diagrams.\n",
      "Got the result from ./20/train/filtrations/4/RadialFiltration_12_26/gray/features.npy\n",
      "FiltrationExtractor: processing 20/train/filtrations/4/RadialFiltration_12_26/red, do_fit = True, filtration = RadialFiltration(center=array([12, 26]), n_jobs=-1)\n",
      "Got the result from ./20/train/filtrations/4/RadialFiltration_12_26/red/diagrams.npy\n",
      "Applying Scaler to persistence diagrams.\n",
      "DiagramVectorizer: fitting complete\n",
      "Got the result from ./20/train/filtrations/4/RadialFiltration_12_26/red/features.npy\n",
      "FiltrationExtractor: processing 20/train/filtrations/4/RadialFiltration_12_26/red, do_fit = False, filtration = RadialFiltration(center=array([12, 26]), n_jobs=-1)\n",
      "Got the result from ./20/train/filtrations/4/RadialFiltration_12_26/red/diagrams.npy\n",
      "Applying Scaler to persistence diagrams.\n",
      "Got the result from ./20/train/filtrations/4/RadialFiltration_12_26/red/features.npy\n",
      "FiltrationExtractor: processing 20/train/filtrations/4/RadialFiltration_12_26/green, do_fit = True, filtration = RadialFiltration(center=array([12, 26]), n_jobs=-1)\n",
      "Got the result from ./20/train/filtrations/4/RadialFiltration_12_26/green/diagrams.npy\n",
      "Applying Scaler to persistence diagrams.\n",
      "DiagramVectorizer: fitting complete\n",
      "Got the result from ./20/train/filtrations/4/RadialFiltration_12_26/green/features.npy\n",
      "FiltrationExtractor: processing 20/train/filtrations/4/RadialFiltration_12_26/green, do_fit = False, filtration = RadialFiltration(center=array([12, 26]), n_jobs=-1)\n",
      "Got the result from ./20/train/filtrations/4/RadialFiltration_12_26/green/diagrams.npy\n",
      "Applying Scaler to persistence diagrams.\n",
      "Got the result from ./20/train/filtrations/4/RadialFiltration_12_26/green/features.npy\n",
      "FiltrationExtractor: processing 20/train/filtrations/4/RadialFiltration_12_26/blue, do_fit = True, filtration = RadialFiltration(center=array([12, 26]), n_jobs=-1)\n",
      "Got the result from ./20/train/filtrations/4/RadialFiltration_12_26/blue/diagrams.npy\n",
      "Applying Scaler to persistence diagrams.\n",
      "DiagramVectorizer: fitting complete\n",
      "Got the result from ./20/train/filtrations/4/RadialFiltration_12_26/blue/features.npy\n",
      "FiltrationExtractor: processing 20/train/filtrations/4/RadialFiltration_12_26/blue, do_fit = False, filtration = RadialFiltration(center=array([12, 26]), n_jobs=-1)\n",
      "Got the result from ./20/train/filtrations/4/RadialFiltration_12_26/blue/diagrams.npy\n",
      "Applying Scaler to persistence diagrams.\n",
      "Got the result from ./20/train/filtrations/4/RadialFiltration_12_26/blue/features.npy\n",
      "Fitting filtration 41/72: RadialFiltration with c = (19, 5), bin. thr. = 0.4\n",
      "RGB images received. Transforming to grayscale.\n"
     ]
    },
    {
     "name": "stderr",
     "output_type": "stream",
     "text": [
      "rgb2gray: 100%|██████████| 50000/50000 [00:04<00:00, 11199.37it/s]\n"
     ]
    },
    {
     "name": "stdout",
     "output_type": "stream",
     "text": [
      "FiltrationExtractor: processing 20/train/filtrations/4/RadialFiltration_19_5/gray, do_fit = True, filtration = RadialFiltration(center=array([19,  5]), n_jobs=-1)\n",
      "Got the result from ./20/train/filtrations/4/RadialFiltration_19_5/gray/diagrams.npy\n",
      "Applying Scaler to persistence diagrams.\n",
      "DiagramVectorizer: fitting complete\n",
      "Got the result from ./20/train/filtrations/4/RadialFiltration_19_5/gray/features.npy\n",
      "FiltrationExtractor: processing 20/train/filtrations/4/RadialFiltration_19_5/gray, do_fit = False, filtration = RadialFiltration(center=array([19,  5]), n_jobs=-1)\n",
      "Got the result from ./20/train/filtrations/4/RadialFiltration_19_5/gray/diagrams.npy\n",
      "Applying Scaler to persistence diagrams.\n",
      "Got the result from ./20/train/filtrations/4/RadialFiltration_19_5/gray/features.npy\n",
      "FiltrationExtractor: processing 20/train/filtrations/4/RadialFiltration_19_5/red, do_fit = True, filtration = RadialFiltration(center=array([19,  5]), n_jobs=-1)\n",
      "Got the result from ./20/train/filtrations/4/RadialFiltration_19_5/red/diagrams.npy\n",
      "Applying Scaler to persistence diagrams.\n",
      "DiagramVectorizer: fitting complete\n",
      "Got the result from ./20/train/filtrations/4/RadialFiltration_19_5/red/features.npy\n",
      "FiltrationExtractor: processing 20/train/filtrations/4/RadialFiltration_19_5/red, do_fit = False, filtration = RadialFiltration(center=array([19,  5]), n_jobs=-1)\n",
      "Got the result from ./20/train/filtrations/4/RadialFiltration_19_5/red/diagrams.npy\n",
      "Applying Scaler to persistence diagrams.\n",
      "Got the result from ./20/train/filtrations/4/RadialFiltration_19_5/red/features.npy\n",
      "FiltrationExtractor: processing 20/train/filtrations/4/RadialFiltration_19_5/green, do_fit = True, filtration = RadialFiltration(center=array([19,  5]), n_jobs=-1)\n",
      "Got the result from ./20/train/filtrations/4/RadialFiltration_19_5/green/diagrams.npy\n",
      "Applying Scaler to persistence diagrams.\n",
      "DiagramVectorizer: fitting complete\n",
      "Got the result from ./20/train/filtrations/4/RadialFiltration_19_5/green/features.npy\n",
      "FiltrationExtractor: processing 20/train/filtrations/4/RadialFiltration_19_5/green, do_fit = False, filtration = RadialFiltration(center=array([19,  5]), n_jobs=-1)\n",
      "Got the result from ./20/train/filtrations/4/RadialFiltration_19_5/green/diagrams.npy\n",
      "Applying Scaler to persistence diagrams.\n",
      "Got the result from ./20/train/filtrations/4/RadialFiltration_19_5/green/features.npy\n",
      "FiltrationExtractor: processing 20/train/filtrations/4/RadialFiltration_19_5/blue, do_fit = True, filtration = RadialFiltration(center=array([19,  5]), n_jobs=-1)\n",
      "Got the result from ./20/train/filtrations/4/RadialFiltration_19_5/blue/diagrams.npy\n",
      "Applying Scaler to persistence diagrams.\n",
      "DiagramVectorizer: fitting complete\n",
      "Got the result from ./20/train/filtrations/4/RadialFiltration_19_5/blue/features.npy\n",
      "FiltrationExtractor: processing 20/train/filtrations/4/RadialFiltration_19_5/blue, do_fit = False, filtration = RadialFiltration(center=array([19,  5]), n_jobs=-1)\n",
      "Got the result from ./20/train/filtrations/4/RadialFiltration_19_5/blue/diagrams.npy\n",
      "Applying Scaler to persistence diagrams.\n",
      "Got the result from ./20/train/filtrations/4/RadialFiltration_19_5/blue/features.npy\n",
      "Fitting filtration 42/72: RadialFiltration with c = (19, 12), bin. thr. = 0.4\n",
      "RGB images received. Transforming to grayscale.\n"
     ]
    },
    {
     "name": "stderr",
     "output_type": "stream",
     "text": [
      "rgb2gray: 100%|██████████| 50000/50000 [00:04<00:00, 11546.96it/s]\n"
     ]
    },
    {
     "name": "stdout",
     "output_type": "stream",
     "text": [
      "FiltrationExtractor: processing 20/train/filtrations/4/RadialFiltration_19_12/gray, do_fit = True, filtration = RadialFiltration(center=array([19, 12]), n_jobs=-1)\n",
      "Got the result from ./20/train/filtrations/4/RadialFiltration_19_12/gray/diagrams.npy\n",
      "Applying Scaler to persistence diagrams.\n",
      "DiagramVectorizer: fitting complete\n",
      "Got the result from ./20/train/filtrations/4/RadialFiltration_19_12/gray/features.npy\n",
      "FiltrationExtractor: processing 20/train/filtrations/4/RadialFiltration_19_12/gray, do_fit = False, filtration = RadialFiltration(center=array([19, 12]), n_jobs=-1)\n",
      "Got the result from ./20/train/filtrations/4/RadialFiltration_19_12/gray/diagrams.npy\n",
      "Applying Scaler to persistence diagrams.\n",
      "Got the result from ./20/train/filtrations/4/RadialFiltration_19_12/gray/features.npy\n",
      "FiltrationExtractor: processing 20/train/filtrations/4/RadialFiltration_19_12/red, do_fit = True, filtration = RadialFiltration(center=array([19, 12]), n_jobs=-1)\n",
      "Got the result from ./20/train/filtrations/4/RadialFiltration_19_12/red/diagrams.npy\n",
      "Applying Scaler to persistence diagrams.\n",
      "DiagramVectorizer: fitting complete\n",
      "Got the result from ./20/train/filtrations/4/RadialFiltration_19_12/red/features.npy\n",
      "FiltrationExtractor: processing 20/train/filtrations/4/RadialFiltration_19_12/red, do_fit = False, filtration = RadialFiltration(center=array([19, 12]), n_jobs=-1)\n",
      "Got the result from ./20/train/filtrations/4/RadialFiltration_19_12/red/diagrams.npy\n",
      "Applying Scaler to persistence diagrams.\n",
      "Got the result from ./20/train/filtrations/4/RadialFiltration_19_12/red/features.npy\n",
      "FiltrationExtractor: processing 20/train/filtrations/4/RadialFiltration_19_12/green, do_fit = True, filtration = RadialFiltration(center=array([19, 12]), n_jobs=-1)\n",
      "Got the result from ./20/train/filtrations/4/RadialFiltration_19_12/green/diagrams.npy\n",
      "Applying Scaler to persistence diagrams.\n",
      "DiagramVectorizer: fitting complete\n",
      "Got the result from ./20/train/filtrations/4/RadialFiltration_19_12/green/features.npy\n",
      "FiltrationExtractor: processing 20/train/filtrations/4/RadialFiltration_19_12/green, do_fit = False, filtration = RadialFiltration(center=array([19, 12]), n_jobs=-1)\n",
      "Got the result from ./20/train/filtrations/4/RadialFiltration_19_12/green/diagrams.npy\n",
      "Applying Scaler to persistence diagrams.\n",
      "Got the result from ./20/train/filtrations/4/RadialFiltration_19_12/green/features.npy\n",
      "FiltrationExtractor: processing 20/train/filtrations/4/RadialFiltration_19_12/blue, do_fit = True, filtration = RadialFiltration(center=array([19, 12]), n_jobs=-1)\n",
      "Got the result from ./20/train/filtrations/4/RadialFiltration_19_12/blue/diagrams.npy\n",
      "Applying Scaler to persistence diagrams.\n",
      "DiagramVectorizer: fitting complete\n",
      "Got the result from ./20/train/filtrations/4/RadialFiltration_19_12/blue/features.npy\n",
      "FiltrationExtractor: processing 20/train/filtrations/4/RadialFiltration_19_12/blue, do_fit = False, filtration = RadialFiltration(center=array([19, 12]), n_jobs=-1)\n",
      "Got the result from ./20/train/filtrations/4/RadialFiltration_19_12/blue/diagrams.npy\n",
      "Applying Scaler to persistence diagrams.\n",
      "Got the result from ./20/train/filtrations/4/RadialFiltration_19_12/blue/features.npy\n",
      "Fitting filtration 43/72: RadialFiltration with c = (19, 19), bin. thr. = 0.4\n",
      "RGB images received. Transforming to grayscale.\n"
     ]
    },
    {
     "name": "stderr",
     "output_type": "stream",
     "text": [
      "rgb2gray: 100%|██████████| 50000/50000 [00:03<00:00, 12732.22it/s]\n"
     ]
    },
    {
     "name": "stdout",
     "output_type": "stream",
     "text": [
      "FiltrationExtractor: processing 20/train/filtrations/4/RadialFiltration_19_19/gray, do_fit = True, filtration = RadialFiltration(center=array([19, 19]), n_jobs=-1)\n",
      "Got the result from ./20/train/filtrations/4/RadialFiltration_19_19/gray/diagrams.npy\n",
      "Applying Scaler to persistence diagrams.\n",
      "DiagramVectorizer: fitting complete\n",
      "Got the result from ./20/train/filtrations/4/RadialFiltration_19_19/gray/features.npy\n",
      "FiltrationExtractor: processing 20/train/filtrations/4/RadialFiltration_19_19/gray, do_fit = False, filtration = RadialFiltration(center=array([19, 19]), n_jobs=-1)\n",
      "Got the result from ./20/train/filtrations/4/RadialFiltration_19_19/gray/diagrams.npy\n",
      "Applying Scaler to persistence diagrams.\n",
      "Got the result from ./20/train/filtrations/4/RadialFiltration_19_19/gray/features.npy\n",
      "FiltrationExtractor: processing 20/train/filtrations/4/RadialFiltration_19_19/red, do_fit = True, filtration = RadialFiltration(center=array([19, 19]), n_jobs=-1)\n",
      "Got the result from ./20/train/filtrations/4/RadialFiltration_19_19/red/diagrams.npy\n",
      "Applying Scaler to persistence diagrams.\n",
      "DiagramVectorizer: fitting complete\n",
      "Got the result from ./20/train/filtrations/4/RadialFiltration_19_19/red/features.npy\n",
      "FiltrationExtractor: processing 20/train/filtrations/4/RadialFiltration_19_19/red, do_fit = False, filtration = RadialFiltration(center=array([19, 19]), n_jobs=-1)\n",
      "Got the result from ./20/train/filtrations/4/RadialFiltration_19_19/red/diagrams.npy\n",
      "Applying Scaler to persistence diagrams.\n",
      "Got the result from ./20/train/filtrations/4/RadialFiltration_19_19/red/features.npy\n",
      "FiltrationExtractor: processing 20/train/filtrations/4/RadialFiltration_19_19/green, do_fit = True, filtration = RadialFiltration(center=array([19, 19]), n_jobs=-1)\n",
      "Got the result from ./20/train/filtrations/4/RadialFiltration_19_19/green/diagrams.npy\n",
      "Applying Scaler to persistence diagrams.\n",
      "DiagramVectorizer: fitting complete\n",
      "Got the result from ./20/train/filtrations/4/RadialFiltration_19_19/green/features.npy\n",
      "FiltrationExtractor: processing 20/train/filtrations/4/RadialFiltration_19_19/green, do_fit = False, filtration = RadialFiltration(center=array([19, 19]), n_jobs=-1)\n",
      "Got the result from ./20/train/filtrations/4/RadialFiltration_19_19/green/diagrams.npy\n",
      "Applying Scaler to persistence diagrams.\n",
      "Got the result from ./20/train/filtrations/4/RadialFiltration_19_19/green/features.npy\n",
      "FiltrationExtractor: processing 20/train/filtrations/4/RadialFiltration_19_19/blue, do_fit = True, filtration = RadialFiltration(center=array([19, 19]), n_jobs=-1)\n",
      "Got the result from ./20/train/filtrations/4/RadialFiltration_19_19/blue/diagrams.npy\n",
      "Applying Scaler to persistence diagrams.\n",
      "DiagramVectorizer: fitting complete\n",
      "Got the result from ./20/train/filtrations/4/RadialFiltration_19_19/blue/features.npy\n",
      "FiltrationExtractor: processing 20/train/filtrations/4/RadialFiltration_19_19/blue, do_fit = False, filtration = RadialFiltration(center=array([19, 19]), n_jobs=-1)\n",
      "Got the result from ./20/train/filtrations/4/RadialFiltration_19_19/blue/diagrams.npy\n",
      "Applying Scaler to persistence diagrams.\n",
      "Got the result from ./20/train/filtrations/4/RadialFiltration_19_19/blue/features.npy\n",
      "Fitting filtration 44/72: RadialFiltration with c = (19, 26), bin. thr. = 0.4\n",
      "RGB images received. Transforming to grayscale.\n"
     ]
    },
    {
     "name": "stderr",
     "output_type": "stream",
     "text": [
      "rgb2gray: 100%|██████████| 50000/50000 [00:03<00:00, 12506.57it/s]\n"
     ]
    },
    {
     "name": "stdout",
     "output_type": "stream",
     "text": [
      "FiltrationExtractor: processing 20/train/filtrations/4/RadialFiltration_19_26/gray, do_fit = True, filtration = RadialFiltration(center=array([19, 26]), n_jobs=-1)\n",
      "Got the result from ./20/train/filtrations/4/RadialFiltration_19_26/gray/diagrams.npy\n",
      "Applying Scaler to persistence diagrams.\n",
      "DiagramVectorizer: fitting complete\n",
      "Got the result from ./20/train/filtrations/4/RadialFiltration_19_26/gray/features.npy\n",
      "FiltrationExtractor: processing 20/train/filtrations/4/RadialFiltration_19_26/gray, do_fit = False, filtration = RadialFiltration(center=array([19, 26]), n_jobs=-1)\n",
      "Got the result from ./20/train/filtrations/4/RadialFiltration_19_26/gray/diagrams.npy\n",
      "Applying Scaler to persistence diagrams.\n",
      "Got the result from ./20/train/filtrations/4/RadialFiltration_19_26/gray/features.npy\n",
      "FiltrationExtractor: processing 20/train/filtrations/4/RadialFiltration_19_26/red, do_fit = True, filtration = RadialFiltration(center=array([19, 26]), n_jobs=-1)\n",
      "Got the result from ./20/train/filtrations/4/RadialFiltration_19_26/red/diagrams.npy\n",
      "Applying Scaler to persistence diagrams.\n",
      "DiagramVectorizer: fitting complete\n",
      "Got the result from ./20/train/filtrations/4/RadialFiltration_19_26/red/features.npy\n",
      "FiltrationExtractor: processing 20/train/filtrations/4/RadialFiltration_19_26/red, do_fit = False, filtration = RadialFiltration(center=array([19, 26]), n_jobs=-1)\n",
      "Got the result from ./20/train/filtrations/4/RadialFiltration_19_26/red/diagrams.npy\n",
      "Applying Scaler to persistence diagrams.\n",
      "Got the result from ./20/train/filtrations/4/RadialFiltration_19_26/red/features.npy\n",
      "FiltrationExtractor: processing 20/train/filtrations/4/RadialFiltration_19_26/green, do_fit = True, filtration = RadialFiltration(center=array([19, 26]), n_jobs=-1)\n",
      "Got the result from ./20/train/filtrations/4/RadialFiltration_19_26/green/diagrams.npy\n",
      "Applying Scaler to persistence diagrams.\n",
      "DiagramVectorizer: fitting complete\n",
      "Got the result from ./20/train/filtrations/4/RadialFiltration_19_26/green/features.npy\n",
      "FiltrationExtractor: processing 20/train/filtrations/4/RadialFiltration_19_26/green, do_fit = False, filtration = RadialFiltration(center=array([19, 26]), n_jobs=-1)\n",
      "Got the result from ./20/train/filtrations/4/RadialFiltration_19_26/green/diagrams.npy\n",
      "Applying Scaler to persistence diagrams.\n",
      "Got the result from ./20/train/filtrations/4/RadialFiltration_19_26/green/features.npy\n",
      "FiltrationExtractor: processing 20/train/filtrations/4/RadialFiltration_19_26/blue, do_fit = True, filtration = RadialFiltration(center=array([19, 26]), n_jobs=-1)\n",
      "Got the result from ./20/train/filtrations/4/RadialFiltration_19_26/blue/diagrams.npy\n",
      "Applying Scaler to persistence diagrams.\n",
      "DiagramVectorizer: fitting complete\n",
      "Got the result from ./20/train/filtrations/4/RadialFiltration_19_26/blue/features.npy\n",
      "FiltrationExtractor: processing 20/train/filtrations/4/RadialFiltration_19_26/blue, do_fit = False, filtration = RadialFiltration(center=array([19, 26]), n_jobs=-1)\n",
      "Got the result from ./20/train/filtrations/4/RadialFiltration_19_26/blue/diagrams.npy\n",
      "Applying Scaler to persistence diagrams.\n",
      "Got the result from ./20/train/filtrations/4/RadialFiltration_19_26/blue/features.npy\n",
      "Fitting filtration 45/72: RadialFiltration with c = (26, 5), bin. thr. = 0.4\n",
      "RGB images received. Transforming to grayscale.\n"
     ]
    },
    {
     "name": "stderr",
     "output_type": "stream",
     "text": [
      "rgb2gray: 100%|██████████| 50000/50000 [00:04<00:00, 10376.55it/s]\n"
     ]
    },
    {
     "name": "stdout",
     "output_type": "stream",
     "text": [
      "FiltrationExtractor: processing 20/train/filtrations/4/RadialFiltration_26_5/gray, do_fit = True, filtration = RadialFiltration(center=array([26,  5]), n_jobs=-1)\n",
      "Got the result from ./20/train/filtrations/4/RadialFiltration_26_5/gray/diagrams.npy\n",
      "Applying Scaler to persistence diagrams.\n",
      "DiagramVectorizer: fitting complete\n",
      "Got the result from ./20/train/filtrations/4/RadialFiltration_26_5/gray/features.npy\n",
      "FiltrationExtractor: processing 20/train/filtrations/4/RadialFiltration_26_5/gray, do_fit = False, filtration = RadialFiltration(center=array([26,  5]), n_jobs=-1)\n",
      "Got the result from ./20/train/filtrations/4/RadialFiltration_26_5/gray/diagrams.npy\n",
      "Applying Scaler to persistence diagrams.\n",
      "Got the result from ./20/train/filtrations/4/RadialFiltration_26_5/gray/features.npy\n",
      "FiltrationExtractor: processing 20/train/filtrations/4/RadialFiltration_26_5/red, do_fit = True, filtration = RadialFiltration(center=array([26,  5]), n_jobs=-1)\n",
      "Got the result from ./20/train/filtrations/4/RadialFiltration_26_5/red/diagrams.npy\n",
      "Applying Scaler to persistence diagrams.\n",
      "DiagramVectorizer: fitting complete\n",
      "Got the result from ./20/train/filtrations/4/RadialFiltration_26_5/red/features.npy\n",
      "FiltrationExtractor: processing 20/train/filtrations/4/RadialFiltration_26_5/red, do_fit = False, filtration = RadialFiltration(center=array([26,  5]), n_jobs=-1)\n",
      "Got the result from ./20/train/filtrations/4/RadialFiltration_26_5/red/diagrams.npy\n",
      "Applying Scaler to persistence diagrams.\n",
      "Got the result from ./20/train/filtrations/4/RadialFiltration_26_5/red/features.npy\n",
      "FiltrationExtractor: processing 20/train/filtrations/4/RadialFiltration_26_5/green, do_fit = True, filtration = RadialFiltration(center=array([26,  5]), n_jobs=-1)\n",
      "Got the result from ./20/train/filtrations/4/RadialFiltration_26_5/green/diagrams.npy\n",
      "Applying Scaler to persistence diagrams.\n",
      "DiagramVectorizer: fitting complete\n",
      "Got the result from ./20/train/filtrations/4/RadialFiltration_26_5/green/features.npy\n",
      "FiltrationExtractor: processing 20/train/filtrations/4/RadialFiltration_26_5/green, do_fit = False, filtration = RadialFiltration(center=array([26,  5]), n_jobs=-1)\n",
      "Got the result from ./20/train/filtrations/4/RadialFiltration_26_5/green/diagrams.npy\n",
      "Applying Scaler to persistence diagrams.\n",
      "Got the result from ./20/train/filtrations/4/RadialFiltration_26_5/green/features.npy\n",
      "FiltrationExtractor: processing 20/train/filtrations/4/RadialFiltration_26_5/blue, do_fit = True, filtration = RadialFiltration(center=array([26,  5]), n_jobs=-1)\n",
      "Got the result from ./20/train/filtrations/4/RadialFiltration_26_5/blue/diagrams.npy\n",
      "Applying Scaler to persistence diagrams.\n",
      "DiagramVectorizer: fitting complete\n",
      "Got the result from ./20/train/filtrations/4/RadialFiltration_26_5/blue/features.npy\n",
      "FiltrationExtractor: processing 20/train/filtrations/4/RadialFiltration_26_5/blue, do_fit = False, filtration = RadialFiltration(center=array([26,  5]), n_jobs=-1)\n",
      "Got the result from ./20/train/filtrations/4/RadialFiltration_26_5/blue/diagrams.npy\n",
      "Applying Scaler to persistence diagrams.\n",
      "Got the result from ./20/train/filtrations/4/RadialFiltration_26_5/blue/features.npy\n",
      "Fitting filtration 46/72: RadialFiltration with c = (26, 12), bin. thr. = 0.4\n",
      "RGB images received. Transforming to grayscale.\n"
     ]
    },
    {
     "name": "stderr",
     "output_type": "stream",
     "text": [
      "rgb2gray: 100%|██████████| 50000/50000 [00:04<00:00, 11740.00it/s]\n"
     ]
    },
    {
     "name": "stdout",
     "output_type": "stream",
     "text": [
      "FiltrationExtractor: processing 20/train/filtrations/4/RadialFiltration_26_12/gray, do_fit = True, filtration = RadialFiltration(center=array([26, 12]), n_jobs=-1)\n",
      "Got the result from ./20/train/filtrations/4/RadialFiltration_26_12/gray/diagrams.npy\n",
      "Applying Scaler to persistence diagrams.\n",
      "DiagramVectorizer: fitting complete\n",
      "Got the result from ./20/train/filtrations/4/RadialFiltration_26_12/gray/features.npy\n",
      "FiltrationExtractor: processing 20/train/filtrations/4/RadialFiltration_26_12/gray, do_fit = False, filtration = RadialFiltration(center=array([26, 12]), n_jobs=-1)\n",
      "Got the result from ./20/train/filtrations/4/RadialFiltration_26_12/gray/diagrams.npy\n",
      "Applying Scaler to persistence diagrams.\n",
      "Got the result from ./20/train/filtrations/4/RadialFiltration_26_12/gray/features.npy\n",
      "FiltrationExtractor: processing 20/train/filtrations/4/RadialFiltration_26_12/red, do_fit = True, filtration = RadialFiltration(center=array([26, 12]), n_jobs=-1)\n",
      "Got the result from ./20/train/filtrations/4/RadialFiltration_26_12/red/diagrams.npy\n",
      "Applying Scaler to persistence diagrams.\n",
      "DiagramVectorizer: fitting complete\n",
      "Got the result from ./20/train/filtrations/4/RadialFiltration_26_12/red/features.npy\n",
      "FiltrationExtractor: processing 20/train/filtrations/4/RadialFiltration_26_12/red, do_fit = False, filtration = RadialFiltration(center=array([26, 12]), n_jobs=-1)\n",
      "Got the result from ./20/train/filtrations/4/RadialFiltration_26_12/red/diagrams.npy\n",
      "Applying Scaler to persistence diagrams.\n",
      "Got the result from ./20/train/filtrations/4/RadialFiltration_26_12/red/features.npy\n",
      "FiltrationExtractor: processing 20/train/filtrations/4/RadialFiltration_26_12/green, do_fit = True, filtration = RadialFiltration(center=array([26, 12]), n_jobs=-1)\n",
      "Got the result from ./20/train/filtrations/4/RadialFiltration_26_12/green/diagrams.npy\n",
      "Applying Scaler to persistence diagrams.\n",
      "DiagramVectorizer: fitting complete\n",
      "Got the result from ./20/train/filtrations/4/RadialFiltration_26_12/green/features.npy\n",
      "FiltrationExtractor: processing 20/train/filtrations/4/RadialFiltration_26_12/green, do_fit = False, filtration = RadialFiltration(center=array([26, 12]), n_jobs=-1)\n",
      "Got the result from ./20/train/filtrations/4/RadialFiltration_26_12/green/diagrams.npy\n",
      "Applying Scaler to persistence diagrams.\n",
      "Got the result from ./20/train/filtrations/4/RadialFiltration_26_12/green/features.npy\n",
      "FiltrationExtractor: processing 20/train/filtrations/4/RadialFiltration_26_12/blue, do_fit = True, filtration = RadialFiltration(center=array([26, 12]), n_jobs=-1)\n",
      "Got the result from ./20/train/filtrations/4/RadialFiltration_26_12/blue/diagrams.npy\n",
      "Applying Scaler to persistence diagrams.\n",
      "DiagramVectorizer: fitting complete\n",
      "Got the result from ./20/train/filtrations/4/RadialFiltration_26_12/blue/features.npy\n",
      "FiltrationExtractor: processing 20/train/filtrations/4/RadialFiltration_26_12/blue, do_fit = False, filtration = RadialFiltration(center=array([26, 12]), n_jobs=-1)\n",
      "Got the result from ./20/train/filtrations/4/RadialFiltration_26_12/blue/diagrams.npy\n",
      "Applying Scaler to persistence diagrams.\n",
      "Got the result from ./20/train/filtrations/4/RadialFiltration_26_12/blue/features.npy\n",
      "Fitting filtration 47/72: RadialFiltration with c = (26, 19), bin. thr. = 0.4\n",
      "RGB images received. Transforming to grayscale.\n"
     ]
    },
    {
     "name": "stderr",
     "output_type": "stream",
     "text": [
      "rgb2gray: 100%|██████████| 50000/50000 [00:04<00:00, 10674.78it/s]\n"
     ]
    },
    {
     "name": "stdout",
     "output_type": "stream",
     "text": [
      "FiltrationExtractor: processing 20/train/filtrations/4/RadialFiltration_26_19/gray, do_fit = True, filtration = RadialFiltration(center=array([26, 19]), n_jobs=-1)\n",
      "Got the result from ./20/train/filtrations/4/RadialFiltration_26_19/gray/diagrams.npy\n",
      "Applying Scaler to persistence diagrams.\n",
      "DiagramVectorizer: fitting complete\n",
      "Got the result from ./20/train/filtrations/4/RadialFiltration_26_19/gray/features.npy\n",
      "FiltrationExtractor: processing 20/train/filtrations/4/RadialFiltration_26_19/gray, do_fit = False, filtration = RadialFiltration(center=array([26, 19]), n_jobs=-1)\n",
      "Got the result from ./20/train/filtrations/4/RadialFiltration_26_19/gray/diagrams.npy\n",
      "Applying Scaler to persistence diagrams.\n",
      "Got the result from ./20/train/filtrations/4/RadialFiltration_26_19/gray/features.npy\n",
      "FiltrationExtractor: processing 20/train/filtrations/4/RadialFiltration_26_19/red, do_fit = True, filtration = RadialFiltration(center=array([26, 19]), n_jobs=-1)\n",
      "Got the result from ./20/train/filtrations/4/RadialFiltration_26_19/red/diagrams.npy\n",
      "Applying Scaler to persistence diagrams.\n",
      "DiagramVectorizer: fitting complete\n",
      "Got the result from ./20/train/filtrations/4/RadialFiltration_26_19/red/features.npy\n",
      "FiltrationExtractor: processing 20/train/filtrations/4/RadialFiltration_26_19/red, do_fit = False, filtration = RadialFiltration(center=array([26, 19]), n_jobs=-1)\n",
      "Got the result from ./20/train/filtrations/4/RadialFiltration_26_19/red/diagrams.npy\n",
      "Applying Scaler to persistence diagrams.\n",
      "Got the result from ./20/train/filtrations/4/RadialFiltration_26_19/red/features.npy\n",
      "FiltrationExtractor: processing 20/train/filtrations/4/RadialFiltration_26_19/green, do_fit = True, filtration = RadialFiltration(center=array([26, 19]), n_jobs=-1)\n",
      "Got the result from ./20/train/filtrations/4/RadialFiltration_26_19/green/diagrams.npy\n",
      "Applying Scaler to persistence diagrams.\n",
      "DiagramVectorizer: fitting complete\n",
      "Got the result from ./20/train/filtrations/4/RadialFiltration_26_19/green/features.npy\n",
      "FiltrationExtractor: processing 20/train/filtrations/4/RadialFiltration_26_19/green, do_fit = False, filtration = RadialFiltration(center=array([26, 19]), n_jobs=-1)\n",
      "Got the result from ./20/train/filtrations/4/RadialFiltration_26_19/green/diagrams.npy\n",
      "Applying Scaler to persistence diagrams.\n",
      "Got the result from ./20/train/filtrations/4/RadialFiltration_26_19/green/features.npy\n",
      "FiltrationExtractor: processing 20/train/filtrations/4/RadialFiltration_26_19/blue, do_fit = True, filtration = RadialFiltration(center=array([26, 19]), n_jobs=-1)\n",
      "Got the result from ./20/train/filtrations/4/RadialFiltration_26_19/blue/diagrams.npy\n",
      "Applying Scaler to persistence diagrams.\n",
      "DiagramVectorizer: fitting complete\n",
      "Got the result from ./20/train/filtrations/4/RadialFiltration_26_19/blue/features.npy\n",
      "FiltrationExtractor: processing 20/train/filtrations/4/RadialFiltration_26_19/blue, do_fit = False, filtration = RadialFiltration(center=array([26, 19]), n_jobs=-1)\n",
      "Got the result from ./20/train/filtrations/4/RadialFiltration_26_19/blue/diagrams.npy\n",
      "Applying Scaler to persistence diagrams.\n",
      "Got the result from ./20/train/filtrations/4/RadialFiltration_26_19/blue/features.npy\n",
      "Fitting filtration 48/72: RadialFiltration with c = (26, 26), bin. thr. = 0.4\n",
      "RGB images received. Transforming to grayscale.\n"
     ]
    },
    {
     "name": "stderr",
     "output_type": "stream",
     "text": [
      "rgb2gray: 100%|██████████| 50000/50000 [00:04<00:00, 11620.87it/s]\n"
     ]
    },
    {
     "name": "stdout",
     "output_type": "stream",
     "text": [
      "FiltrationExtractor: processing 20/train/filtrations/4/RadialFiltration_26_26/gray, do_fit = True, filtration = RadialFiltration(center=array([26, 26]), n_jobs=-1)\n",
      "Got the result from ./20/train/filtrations/4/RadialFiltration_26_26/gray/diagrams.npy\n",
      "Applying Scaler to persistence diagrams.\n",
      "DiagramVectorizer: fitting complete\n",
      "Got the result from ./20/train/filtrations/4/RadialFiltration_26_26/gray/features.npy\n",
      "FiltrationExtractor: processing 20/train/filtrations/4/RadialFiltration_26_26/gray, do_fit = False, filtration = RadialFiltration(center=array([26, 26]), n_jobs=-1)\n",
      "Got the result from ./20/train/filtrations/4/RadialFiltration_26_26/gray/diagrams.npy\n",
      "Applying Scaler to persistence diagrams.\n",
      "Got the result from ./20/train/filtrations/4/RadialFiltration_26_26/gray/features.npy\n",
      "FiltrationExtractor: processing 20/train/filtrations/4/RadialFiltration_26_26/red, do_fit = True, filtration = RadialFiltration(center=array([26, 26]), n_jobs=-1)\n",
      "Got the result from ./20/train/filtrations/4/RadialFiltration_26_26/red/diagrams.npy\n",
      "Applying Scaler to persistence diagrams.\n",
      "DiagramVectorizer: fitting complete\n",
      "Got the result from ./20/train/filtrations/4/RadialFiltration_26_26/red/features.npy\n",
      "FiltrationExtractor: processing 20/train/filtrations/4/RadialFiltration_26_26/red, do_fit = False, filtration = RadialFiltration(center=array([26, 26]), n_jobs=-1)\n",
      "Got the result from ./20/train/filtrations/4/RadialFiltration_26_26/red/diagrams.npy\n",
      "Applying Scaler to persistence diagrams.\n",
      "Got the result from ./20/train/filtrations/4/RadialFiltration_26_26/red/features.npy\n",
      "FiltrationExtractor: processing 20/train/filtrations/4/RadialFiltration_26_26/green, do_fit = True, filtration = RadialFiltration(center=array([26, 26]), n_jobs=-1)\n",
      "Got the result from ./20/train/filtrations/4/RadialFiltration_26_26/green/diagrams.npy\n",
      "Applying Scaler to persistence diagrams.\n",
      "DiagramVectorizer: fitting complete\n",
      "Got the result from ./20/train/filtrations/4/RadialFiltration_26_26/green/features.npy\n",
      "FiltrationExtractor: processing 20/train/filtrations/4/RadialFiltration_26_26/green, do_fit = False, filtration = RadialFiltration(center=array([26, 26]), n_jobs=-1)\n",
      "Got the result from ./20/train/filtrations/4/RadialFiltration_26_26/green/diagrams.npy\n",
      "Applying Scaler to persistence diagrams.\n",
      "Got the result from ./20/train/filtrations/4/RadialFiltration_26_26/green/features.npy\n",
      "FiltrationExtractor: processing 20/train/filtrations/4/RadialFiltration_26_26/blue, do_fit = True, filtration = RadialFiltration(center=array([26, 26]), n_jobs=-1)\n",
      "Got the result from ./20/train/filtrations/4/RadialFiltration_26_26/blue/diagrams.npy\n",
      "Applying Scaler to persistence diagrams.\n",
      "DiagramVectorizer: fitting complete\n",
      "Got the result from ./20/train/filtrations/4/RadialFiltration_26_26/blue/features.npy\n",
      "FiltrationExtractor: processing 20/train/filtrations/4/RadialFiltration_26_26/blue, do_fit = False, filtration = RadialFiltration(center=array([26, 26]), n_jobs=-1)\n",
      "Got the result from ./20/train/filtrations/4/RadialFiltration_26_26/blue/diagrams.npy\n",
      "Applying Scaler to persistence diagrams.\n",
      "Got the result from ./20/train/filtrations/4/RadialFiltration_26_26/blue/features.npy\n",
      "Fitting filtration 49/72: HeightFiltration with d = (-1, -1), bin. thr. = 0.6\n",
      "RGB images received. Transforming to grayscale.\n"
     ]
    },
    {
     "name": "stderr",
     "output_type": "stream",
     "text": [
      "rgb2gray: 100%|██████████| 50000/50000 [00:04<00:00, 12244.78it/s]\n"
     ]
    },
    {
     "name": "stdout",
     "output_type": "stream",
     "text": [
      "FiltrationExtractor: processing 20/train/filtrations/6/HeightFiltrartion_-1_-1/gray, do_fit = True, filtration = HeightFiltration(direction=array([-1, -1]), n_jobs=-1)\n",
      "Got the result from ./20/train/filtrations/6/HeightFiltrartion_-1_-1/gray/diagrams.npy\n",
      "Applying Scaler to persistence diagrams.\n",
      "DiagramVectorizer: fitting complete\n",
      "Got the result from ./20/train/filtrations/6/HeightFiltrartion_-1_-1/gray/features.npy\n",
      "FiltrationExtractor: processing 20/train/filtrations/6/HeightFiltrartion_-1_-1/gray, do_fit = False, filtration = HeightFiltration(direction=array([-1, -1]), n_jobs=-1)\n",
      "Got the result from ./20/train/filtrations/6/HeightFiltrartion_-1_-1/gray/diagrams.npy\n",
      "Applying Scaler to persistence diagrams.\n",
      "Got the result from ./20/train/filtrations/6/HeightFiltrartion_-1_-1/gray/features.npy\n",
      "FiltrationExtractor: processing 20/train/filtrations/6/HeightFiltrartion_-1_-1/red, do_fit = True, filtration = HeightFiltration(direction=array([-1, -1]), n_jobs=-1)\n",
      "Got the result from ./20/train/filtrations/6/HeightFiltrartion_-1_-1/red/diagrams.npy\n",
      "Applying Scaler to persistence diagrams.\n",
      "DiagramVectorizer: fitting complete\n",
      "Got the result from ./20/train/filtrations/6/HeightFiltrartion_-1_-1/red/features.npy\n",
      "FiltrationExtractor: processing 20/train/filtrations/6/HeightFiltrartion_-1_-1/red, do_fit = False, filtration = HeightFiltration(direction=array([-1, -1]), n_jobs=-1)\n",
      "Got the result from ./20/train/filtrations/6/HeightFiltrartion_-1_-1/red/diagrams.npy\n",
      "Applying Scaler to persistence diagrams.\n",
      "Got the result from ./20/train/filtrations/6/HeightFiltrartion_-1_-1/red/features.npy\n",
      "FiltrationExtractor: processing 20/train/filtrations/6/HeightFiltrartion_-1_-1/green, do_fit = True, filtration = HeightFiltration(direction=array([-1, -1]), n_jobs=-1)\n",
      "Got the result from ./20/train/filtrations/6/HeightFiltrartion_-1_-1/green/diagrams.npy\n",
      "Applying Scaler to persistence diagrams.\n",
      "DiagramVectorizer: fitting complete\n",
      "Got the result from ./20/train/filtrations/6/HeightFiltrartion_-1_-1/green/features.npy\n",
      "FiltrationExtractor: processing 20/train/filtrations/6/HeightFiltrartion_-1_-1/green, do_fit = False, filtration = HeightFiltration(direction=array([-1, -1]), n_jobs=-1)\n",
      "Got the result from ./20/train/filtrations/6/HeightFiltrartion_-1_-1/green/diagrams.npy\n",
      "Applying Scaler to persistence diagrams.\n",
      "Got the result from ./20/train/filtrations/6/HeightFiltrartion_-1_-1/green/features.npy\n",
      "FiltrationExtractor: processing 20/train/filtrations/6/HeightFiltrartion_-1_-1/blue, do_fit = True, filtration = HeightFiltration(direction=array([-1, -1]), n_jobs=-1)\n",
      "Got the result from ./20/train/filtrations/6/HeightFiltrartion_-1_-1/blue/diagrams.npy\n",
      "Applying Scaler to persistence diagrams.\n",
      "DiagramVectorizer: fitting complete\n",
      "Got the result from ./20/train/filtrations/6/HeightFiltrartion_-1_-1/blue/features.npy\n",
      "FiltrationExtractor: processing 20/train/filtrations/6/HeightFiltrartion_-1_-1/blue, do_fit = False, filtration = HeightFiltration(direction=array([-1, -1]), n_jobs=-1)\n",
      "Got the result from ./20/train/filtrations/6/HeightFiltrartion_-1_-1/blue/diagrams.npy\n",
      "Applying Scaler to persistence diagrams.\n",
      "Got the result from ./20/train/filtrations/6/HeightFiltrartion_-1_-1/blue/features.npy\n",
      "Fitting filtration 50/72: HeightFiltration with d = (-1, 0), bin. thr. = 0.6\n",
      "RGB images received. Transforming to grayscale.\n"
     ]
    },
    {
     "name": "stderr",
     "output_type": "stream",
     "text": [
      "rgb2gray: 100%|██████████| 50000/50000 [00:04<00:00, 11075.07it/s]\n"
     ]
    },
    {
     "name": "stdout",
     "output_type": "stream",
     "text": [
      "FiltrationExtractor: processing 20/train/filtrations/6/HeightFiltrartion_-1_0/gray, do_fit = True, filtration = HeightFiltration(direction=array([-1,  0]), n_jobs=-1)\n",
      "Got the result from ./20/train/filtrations/6/HeightFiltrartion_-1_0/gray/diagrams.npy\n",
      "Applying Scaler to persistence diagrams.\n",
      "DiagramVectorizer: fitting complete\n",
      "Got the result from ./20/train/filtrations/6/HeightFiltrartion_-1_0/gray/features.npy\n",
      "FiltrationExtractor: processing 20/train/filtrations/6/HeightFiltrartion_-1_0/gray, do_fit = False, filtration = HeightFiltration(direction=array([-1,  0]), n_jobs=-1)\n",
      "Got the result from ./20/train/filtrations/6/HeightFiltrartion_-1_0/gray/diagrams.npy\n",
      "Applying Scaler to persistence diagrams.\n",
      "Got the result from ./20/train/filtrations/6/HeightFiltrartion_-1_0/gray/features.npy\n",
      "FiltrationExtractor: processing 20/train/filtrations/6/HeightFiltrartion_-1_0/red, do_fit = True, filtration = HeightFiltration(direction=array([-1,  0]), n_jobs=-1)\n",
      "Got the result from ./20/train/filtrations/6/HeightFiltrartion_-1_0/red/diagrams.npy\n",
      "Applying Scaler to persistence diagrams.\n",
      "DiagramVectorizer: fitting complete\n",
      "Got the result from ./20/train/filtrations/6/HeightFiltrartion_-1_0/red/features.npy\n",
      "FiltrationExtractor: processing 20/train/filtrations/6/HeightFiltrartion_-1_0/red, do_fit = False, filtration = HeightFiltration(direction=array([-1,  0]), n_jobs=-1)\n",
      "Got the result from ./20/train/filtrations/6/HeightFiltrartion_-1_0/red/diagrams.npy\n",
      "Applying Scaler to persistence diagrams.\n",
      "Got the result from ./20/train/filtrations/6/HeightFiltrartion_-1_0/red/features.npy\n",
      "FiltrationExtractor: processing 20/train/filtrations/6/HeightFiltrartion_-1_0/green, do_fit = True, filtration = HeightFiltration(direction=array([-1,  0]), n_jobs=-1)\n",
      "Got the result from ./20/train/filtrations/6/HeightFiltrartion_-1_0/green/diagrams.npy\n",
      "Applying Scaler to persistence diagrams.\n",
      "DiagramVectorizer: fitting complete\n",
      "Got the result from ./20/train/filtrations/6/HeightFiltrartion_-1_0/green/features.npy\n",
      "FiltrationExtractor: processing 20/train/filtrations/6/HeightFiltrartion_-1_0/green, do_fit = False, filtration = HeightFiltration(direction=array([-1,  0]), n_jobs=-1)\n",
      "Got the result from ./20/train/filtrations/6/HeightFiltrartion_-1_0/green/diagrams.npy\n",
      "Applying Scaler to persistence diagrams.\n",
      "Got the result from ./20/train/filtrations/6/HeightFiltrartion_-1_0/green/features.npy\n",
      "FiltrationExtractor: processing 20/train/filtrations/6/HeightFiltrartion_-1_0/blue, do_fit = True, filtration = HeightFiltration(direction=array([-1,  0]), n_jobs=-1)\n",
      "Got the result from ./20/train/filtrations/6/HeightFiltrartion_-1_0/blue/diagrams.npy\n",
      "Applying Scaler to persistence diagrams.\n",
      "DiagramVectorizer: fitting complete\n",
      "Got the result from ./20/train/filtrations/6/HeightFiltrartion_-1_0/blue/features.npy\n",
      "FiltrationExtractor: processing 20/train/filtrations/6/HeightFiltrartion_-1_0/blue, do_fit = False, filtration = HeightFiltration(direction=array([-1,  0]), n_jobs=-1)\n",
      "Got the result from ./20/train/filtrations/6/HeightFiltrartion_-1_0/blue/diagrams.npy\n",
      "Applying Scaler to persistence diagrams.\n",
      "Got the result from ./20/train/filtrations/6/HeightFiltrartion_-1_0/blue/features.npy\n",
      "Fitting filtration 51/72: HeightFiltration with d = (-1, 1), bin. thr. = 0.6\n",
      "RGB images received. Transforming to grayscale.\n"
     ]
    },
    {
     "name": "stderr",
     "output_type": "stream",
     "text": [
      "rgb2gray: 100%|██████████| 50000/50000 [00:04<00:00, 12228.10it/s]\n"
     ]
    },
    {
     "name": "stdout",
     "output_type": "stream",
     "text": [
      "FiltrationExtractor: processing 20/train/filtrations/6/HeightFiltrartion_-1_1/gray, do_fit = True, filtration = HeightFiltration(direction=array([-1,  1]), n_jobs=-1)\n",
      "Got the result from ./20/train/filtrations/6/HeightFiltrartion_-1_1/gray/diagrams.npy\n",
      "Applying Scaler to persistence diagrams.\n",
      "DiagramVectorizer: fitting complete\n",
      "Got the result from ./20/train/filtrations/6/HeightFiltrartion_-1_1/gray/features.npy\n",
      "FiltrationExtractor: processing 20/train/filtrations/6/HeightFiltrartion_-1_1/gray, do_fit = False, filtration = HeightFiltration(direction=array([-1,  1]), n_jobs=-1)\n",
      "Got the result from ./20/train/filtrations/6/HeightFiltrartion_-1_1/gray/diagrams.npy\n",
      "Applying Scaler to persistence diagrams.\n",
      "Got the result from ./20/train/filtrations/6/HeightFiltrartion_-1_1/gray/features.npy\n",
      "FiltrationExtractor: processing 20/train/filtrations/6/HeightFiltrartion_-1_1/red, do_fit = True, filtration = HeightFiltration(direction=array([-1,  1]), n_jobs=-1)\n",
      "Got the result from ./20/train/filtrations/6/HeightFiltrartion_-1_1/red/diagrams.npy\n",
      "Applying Scaler to persistence diagrams.\n",
      "DiagramVectorizer: fitting complete\n",
      "Got the result from ./20/train/filtrations/6/HeightFiltrartion_-1_1/red/features.npy\n",
      "FiltrationExtractor: processing 20/train/filtrations/6/HeightFiltrartion_-1_1/red, do_fit = False, filtration = HeightFiltration(direction=array([-1,  1]), n_jobs=-1)\n",
      "Got the result from ./20/train/filtrations/6/HeightFiltrartion_-1_1/red/diagrams.npy\n",
      "Applying Scaler to persistence diagrams.\n",
      "Got the result from ./20/train/filtrations/6/HeightFiltrartion_-1_1/red/features.npy\n",
      "FiltrationExtractor: processing 20/train/filtrations/6/HeightFiltrartion_-1_1/green, do_fit = True, filtration = HeightFiltration(direction=array([-1,  1]), n_jobs=-1)\n",
      "Got the result from ./20/train/filtrations/6/HeightFiltrartion_-1_1/green/diagrams.npy\n",
      "Applying Scaler to persistence diagrams.\n",
      "DiagramVectorizer: fitting complete\n",
      "Got the result from ./20/train/filtrations/6/HeightFiltrartion_-1_1/green/features.npy\n",
      "FiltrationExtractor: processing 20/train/filtrations/6/HeightFiltrartion_-1_1/green, do_fit = False, filtration = HeightFiltration(direction=array([-1,  1]), n_jobs=-1)\n",
      "Got the result from ./20/train/filtrations/6/HeightFiltrartion_-1_1/green/diagrams.npy\n",
      "Applying Scaler to persistence diagrams.\n",
      "Got the result from ./20/train/filtrations/6/HeightFiltrartion_-1_1/green/features.npy\n",
      "FiltrationExtractor: processing 20/train/filtrations/6/HeightFiltrartion_-1_1/blue, do_fit = True, filtration = HeightFiltration(direction=array([-1,  1]), n_jobs=-1)\n",
      "Got the result from ./20/train/filtrations/6/HeightFiltrartion_-1_1/blue/diagrams.npy\n",
      "Applying Scaler to persistence diagrams.\n",
      "DiagramVectorizer: fitting complete\n",
      "Got the result from ./20/train/filtrations/6/HeightFiltrartion_-1_1/blue/features.npy\n",
      "FiltrationExtractor: processing 20/train/filtrations/6/HeightFiltrartion_-1_1/blue, do_fit = False, filtration = HeightFiltration(direction=array([-1,  1]), n_jobs=-1)\n",
      "Got the result from ./20/train/filtrations/6/HeightFiltrartion_-1_1/blue/diagrams.npy\n",
      "Applying Scaler to persistence diagrams.\n",
      "Got the result from ./20/train/filtrations/6/HeightFiltrartion_-1_1/blue/features.npy\n",
      "Fitting filtration 52/72: HeightFiltration with d = (0, -1), bin. thr. = 0.6\n",
      "RGB images received. Transforming to grayscale.\n"
     ]
    },
    {
     "name": "stderr",
     "output_type": "stream",
     "text": [
      "rgb2gray: 100%|██████████| 50000/50000 [00:04<00:00, 10496.83it/s]\n"
     ]
    },
    {
     "name": "stdout",
     "output_type": "stream",
     "text": [
      "FiltrationExtractor: processing 20/train/filtrations/6/HeightFiltrartion_0_-1/gray, do_fit = True, filtration = HeightFiltration(direction=array([ 0, -1]), n_jobs=-1)\n",
      "Got the result from ./20/train/filtrations/6/HeightFiltrartion_0_-1/gray/diagrams.npy\n",
      "Applying Scaler to persistence diagrams.\n",
      "DiagramVectorizer: fitting complete\n",
      "Got the result from ./20/train/filtrations/6/HeightFiltrartion_0_-1/gray/features.npy\n",
      "FiltrationExtractor: processing 20/train/filtrations/6/HeightFiltrartion_0_-1/gray, do_fit = False, filtration = HeightFiltration(direction=array([ 0, -1]), n_jobs=-1)\n",
      "Got the result from ./20/train/filtrations/6/HeightFiltrartion_0_-1/gray/diagrams.npy\n",
      "Applying Scaler to persistence diagrams.\n",
      "Got the result from ./20/train/filtrations/6/HeightFiltrartion_0_-1/gray/features.npy\n",
      "FiltrationExtractor: processing 20/train/filtrations/6/HeightFiltrartion_0_-1/red, do_fit = True, filtration = HeightFiltration(direction=array([ 0, -1]), n_jobs=-1)\n",
      "Got the result from ./20/train/filtrations/6/HeightFiltrartion_0_-1/red/diagrams.npy\n",
      "Applying Scaler to persistence diagrams.\n",
      "DiagramVectorizer: fitting complete\n",
      "Got the result from ./20/train/filtrations/6/HeightFiltrartion_0_-1/red/features.npy\n",
      "FiltrationExtractor: processing 20/train/filtrations/6/HeightFiltrartion_0_-1/red, do_fit = False, filtration = HeightFiltration(direction=array([ 0, -1]), n_jobs=-1)\n",
      "Got the result from ./20/train/filtrations/6/HeightFiltrartion_0_-1/red/diagrams.npy\n",
      "Applying Scaler to persistence diagrams.\n",
      "Got the result from ./20/train/filtrations/6/HeightFiltrartion_0_-1/red/features.npy\n",
      "FiltrationExtractor: processing 20/train/filtrations/6/HeightFiltrartion_0_-1/green, do_fit = True, filtration = HeightFiltration(direction=array([ 0, -1]), n_jobs=-1)\n",
      "Got the result from ./20/train/filtrations/6/HeightFiltrartion_0_-1/green/diagrams.npy\n",
      "Applying Scaler to persistence diagrams.\n",
      "DiagramVectorizer: fitting complete\n",
      "Got the result from ./20/train/filtrations/6/HeightFiltrartion_0_-1/green/features.npy\n",
      "FiltrationExtractor: processing 20/train/filtrations/6/HeightFiltrartion_0_-1/green, do_fit = False, filtration = HeightFiltration(direction=array([ 0, -1]), n_jobs=-1)\n",
      "Got the result from ./20/train/filtrations/6/HeightFiltrartion_0_-1/green/diagrams.npy\n",
      "Applying Scaler to persistence diagrams.\n",
      "Got the result from ./20/train/filtrations/6/HeightFiltrartion_0_-1/green/features.npy\n",
      "FiltrationExtractor: processing 20/train/filtrations/6/HeightFiltrartion_0_-1/blue, do_fit = True, filtration = HeightFiltration(direction=array([ 0, -1]), n_jobs=-1)\n",
      "Got the result from ./20/train/filtrations/6/HeightFiltrartion_0_-1/blue/diagrams.npy\n",
      "Applying Scaler to persistence diagrams.\n",
      "DiagramVectorizer: fitting complete\n",
      "Got the result from ./20/train/filtrations/6/HeightFiltrartion_0_-1/blue/features.npy\n",
      "FiltrationExtractor: processing 20/train/filtrations/6/HeightFiltrartion_0_-1/blue, do_fit = False, filtration = HeightFiltration(direction=array([ 0, -1]), n_jobs=-1)\n",
      "Got the result from ./20/train/filtrations/6/HeightFiltrartion_0_-1/blue/diagrams.npy\n",
      "Applying Scaler to persistence diagrams.\n",
      "Got the result from ./20/train/filtrations/6/HeightFiltrartion_0_-1/blue/features.npy\n",
      "Fitting filtration 53/72: HeightFiltration with d = (0, 1), bin. thr. = 0.6\n",
      "RGB images received. Transforming to grayscale.\n"
     ]
    },
    {
     "name": "stderr",
     "output_type": "stream",
     "text": [
      "rgb2gray: 100%|██████████| 50000/50000 [00:04<00:00, 10406.91it/s]\n"
     ]
    },
    {
     "name": "stdout",
     "output_type": "stream",
     "text": [
      "FiltrationExtractor: processing 20/train/filtrations/6/HeightFiltrartion_0_1/gray, do_fit = True, filtration = HeightFiltration(direction=array([0, 1]), n_jobs=-1)\n",
      "Got the result from ./20/train/filtrations/6/HeightFiltrartion_0_1/gray/diagrams.npy\n",
      "Applying Scaler to persistence diagrams.\n",
      "DiagramVectorizer: fitting complete\n",
      "Got the result from ./20/train/filtrations/6/HeightFiltrartion_0_1/gray/features.npy\n",
      "FiltrationExtractor: processing 20/train/filtrations/6/HeightFiltrartion_0_1/gray, do_fit = False, filtration = HeightFiltration(direction=array([0, 1]), n_jobs=-1)\n",
      "Got the result from ./20/train/filtrations/6/HeightFiltrartion_0_1/gray/diagrams.npy\n",
      "Applying Scaler to persistence diagrams.\n",
      "Got the result from ./20/train/filtrations/6/HeightFiltrartion_0_1/gray/features.npy\n",
      "FiltrationExtractor: processing 20/train/filtrations/6/HeightFiltrartion_0_1/red, do_fit = True, filtration = HeightFiltration(direction=array([0, 1]), n_jobs=-1)\n",
      "Got the result from ./20/train/filtrations/6/HeightFiltrartion_0_1/red/diagrams.npy\n",
      "Applying Scaler to persistence diagrams.\n",
      "DiagramVectorizer: fitting complete\n",
      "Got the result from ./20/train/filtrations/6/HeightFiltrartion_0_1/red/features.npy\n",
      "FiltrationExtractor: processing 20/train/filtrations/6/HeightFiltrartion_0_1/red, do_fit = False, filtration = HeightFiltration(direction=array([0, 1]), n_jobs=-1)\n",
      "Got the result from ./20/train/filtrations/6/HeightFiltrartion_0_1/red/diagrams.npy\n",
      "Applying Scaler to persistence diagrams.\n",
      "Got the result from ./20/train/filtrations/6/HeightFiltrartion_0_1/red/features.npy\n",
      "FiltrationExtractor: processing 20/train/filtrations/6/HeightFiltrartion_0_1/green, do_fit = True, filtration = HeightFiltration(direction=array([0, 1]), n_jobs=-1)\n",
      "Got the result from ./20/train/filtrations/6/HeightFiltrartion_0_1/green/diagrams.npy\n",
      "Applying Scaler to persistence diagrams.\n",
      "DiagramVectorizer: fitting complete\n",
      "Got the result from ./20/train/filtrations/6/HeightFiltrartion_0_1/green/features.npy\n",
      "FiltrationExtractor: processing 20/train/filtrations/6/HeightFiltrartion_0_1/green, do_fit = False, filtration = HeightFiltration(direction=array([0, 1]), n_jobs=-1)\n",
      "Got the result from ./20/train/filtrations/6/HeightFiltrartion_0_1/green/diagrams.npy\n",
      "Applying Scaler to persistence diagrams.\n",
      "Got the result from ./20/train/filtrations/6/HeightFiltrartion_0_1/green/features.npy\n",
      "FiltrationExtractor: processing 20/train/filtrations/6/HeightFiltrartion_0_1/blue, do_fit = True, filtration = HeightFiltration(direction=array([0, 1]), n_jobs=-1)\n",
      "Got the result from ./20/train/filtrations/6/HeightFiltrartion_0_1/blue/diagrams.npy\n",
      "Applying Scaler to persistence diagrams.\n",
      "DiagramVectorizer: fitting complete\n",
      "Got the result from ./20/train/filtrations/6/HeightFiltrartion_0_1/blue/features.npy\n",
      "FiltrationExtractor: processing 20/train/filtrations/6/HeightFiltrartion_0_1/blue, do_fit = False, filtration = HeightFiltration(direction=array([0, 1]), n_jobs=-1)\n",
      "Got the result from ./20/train/filtrations/6/HeightFiltrartion_0_1/blue/diagrams.npy\n",
      "Applying Scaler to persistence diagrams.\n",
      "Got the result from ./20/train/filtrations/6/HeightFiltrartion_0_1/blue/features.npy\n",
      "Fitting filtration 54/72: HeightFiltration with d = (1, -1), bin. thr. = 0.6\n",
      "RGB images received. Transforming to grayscale.\n"
     ]
    },
    {
     "name": "stderr",
     "output_type": "stream",
     "text": [
      "rgb2gray: 100%|██████████| 50000/50000 [00:04<00:00, 12290.86it/s]\n"
     ]
    },
    {
     "name": "stdout",
     "output_type": "stream",
     "text": [
      "FiltrationExtractor: processing 20/train/filtrations/6/HeightFiltrartion_1_-1/gray, do_fit = True, filtration = HeightFiltration(direction=array([ 1, -1]), n_jobs=-1)\n",
      "Got the result from ./20/train/filtrations/6/HeightFiltrartion_1_-1/gray/diagrams.npy\n",
      "Applying Scaler to persistence diagrams.\n",
      "DiagramVectorizer: fitting complete\n",
      "Got the result from ./20/train/filtrations/6/HeightFiltrartion_1_-1/gray/features.npy\n",
      "FiltrationExtractor: processing 20/train/filtrations/6/HeightFiltrartion_1_-1/gray, do_fit = False, filtration = HeightFiltration(direction=array([ 1, -1]), n_jobs=-1)\n",
      "Got the result from ./20/train/filtrations/6/HeightFiltrartion_1_-1/gray/diagrams.npy\n",
      "Applying Scaler to persistence diagrams.\n",
      "Got the result from ./20/train/filtrations/6/HeightFiltrartion_1_-1/gray/features.npy\n",
      "FiltrationExtractor: processing 20/train/filtrations/6/HeightFiltrartion_1_-1/red, do_fit = True, filtration = HeightFiltration(direction=array([ 1, -1]), n_jobs=-1)\n",
      "Got the result from ./20/train/filtrations/6/HeightFiltrartion_1_-1/red/diagrams.npy\n",
      "Applying Scaler to persistence diagrams.\n",
      "DiagramVectorizer: fitting complete\n",
      "Got the result from ./20/train/filtrations/6/HeightFiltrartion_1_-1/red/features.npy\n",
      "FiltrationExtractor: processing 20/train/filtrations/6/HeightFiltrartion_1_-1/red, do_fit = False, filtration = HeightFiltration(direction=array([ 1, -1]), n_jobs=-1)\n",
      "Got the result from ./20/train/filtrations/6/HeightFiltrartion_1_-1/red/diagrams.npy\n",
      "Applying Scaler to persistence diagrams.\n",
      "Got the result from ./20/train/filtrations/6/HeightFiltrartion_1_-1/red/features.npy\n",
      "FiltrationExtractor: processing 20/train/filtrations/6/HeightFiltrartion_1_-1/green, do_fit = True, filtration = HeightFiltration(direction=array([ 1, -1]), n_jobs=-1)\n",
      "Got the result from ./20/train/filtrations/6/HeightFiltrartion_1_-1/green/diagrams.npy\n",
      "Applying Scaler to persistence diagrams.\n",
      "DiagramVectorizer: fitting complete\n",
      "Got the result from ./20/train/filtrations/6/HeightFiltrartion_1_-1/green/features.npy\n",
      "FiltrationExtractor: processing 20/train/filtrations/6/HeightFiltrartion_1_-1/green, do_fit = False, filtration = HeightFiltration(direction=array([ 1, -1]), n_jobs=-1)\n",
      "Got the result from ./20/train/filtrations/6/HeightFiltrartion_1_-1/green/diagrams.npy\n",
      "Applying Scaler to persistence diagrams.\n",
      "Got the result from ./20/train/filtrations/6/HeightFiltrartion_1_-1/green/features.npy\n",
      "FiltrationExtractor: processing 20/train/filtrations/6/HeightFiltrartion_1_-1/blue, do_fit = True, filtration = HeightFiltration(direction=array([ 1, -1]), n_jobs=-1)\n",
      "Got the result from ./20/train/filtrations/6/HeightFiltrartion_1_-1/blue/diagrams.npy\n",
      "Applying Scaler to persistence diagrams.\n",
      "DiagramVectorizer: fitting complete\n",
      "Got the result from ./20/train/filtrations/6/HeightFiltrartion_1_-1/blue/features.npy\n",
      "FiltrationExtractor: processing 20/train/filtrations/6/HeightFiltrartion_1_-1/blue, do_fit = False, filtration = HeightFiltration(direction=array([ 1, -1]), n_jobs=-1)\n",
      "Got the result from ./20/train/filtrations/6/HeightFiltrartion_1_-1/blue/diagrams.npy\n",
      "Applying Scaler to persistence diagrams.\n",
      "Got the result from ./20/train/filtrations/6/HeightFiltrartion_1_-1/blue/features.npy\n",
      "Fitting filtration 55/72: HeightFiltration with d = (1, 0), bin. thr. = 0.6\n",
      "RGB images received. Transforming to grayscale.\n"
     ]
    },
    {
     "name": "stderr",
     "output_type": "stream",
     "text": [
      "rgb2gray: 100%|██████████| 50000/50000 [00:04<00:00, 12417.71it/s]\n"
     ]
    },
    {
     "name": "stdout",
     "output_type": "stream",
     "text": [
      "FiltrationExtractor: processing 20/train/filtrations/6/HeightFiltrartion_1_0/gray, do_fit = True, filtration = HeightFiltration(direction=array([1, 0]), n_jobs=-1)\n",
      "Got the result from ./20/train/filtrations/6/HeightFiltrartion_1_0/gray/diagrams.npy\n",
      "Applying Scaler to persistence diagrams.\n",
      "DiagramVectorizer: fitting complete\n",
      "Got the result from ./20/train/filtrations/6/HeightFiltrartion_1_0/gray/features.npy\n",
      "FiltrationExtractor: processing 20/train/filtrations/6/HeightFiltrartion_1_0/gray, do_fit = False, filtration = HeightFiltration(direction=array([1, 0]), n_jobs=-1)\n",
      "Got the result from ./20/train/filtrations/6/HeightFiltrartion_1_0/gray/diagrams.npy\n",
      "Applying Scaler to persistence diagrams.\n",
      "Got the result from ./20/train/filtrations/6/HeightFiltrartion_1_0/gray/features.npy\n",
      "FiltrationExtractor: processing 20/train/filtrations/6/HeightFiltrartion_1_0/red, do_fit = True, filtration = HeightFiltration(direction=array([1, 0]), n_jobs=-1)\n",
      "Got the result from ./20/train/filtrations/6/HeightFiltrartion_1_0/red/diagrams.npy\n",
      "Applying Scaler to persistence diagrams.\n",
      "DiagramVectorizer: fitting complete\n",
      "Got the result from ./20/train/filtrations/6/HeightFiltrartion_1_0/red/features.npy\n",
      "FiltrationExtractor: processing 20/train/filtrations/6/HeightFiltrartion_1_0/red, do_fit = False, filtration = HeightFiltration(direction=array([1, 0]), n_jobs=-1)\n",
      "Got the result from ./20/train/filtrations/6/HeightFiltrartion_1_0/red/diagrams.npy\n",
      "Applying Scaler to persistence diagrams.\n",
      "Got the result from ./20/train/filtrations/6/HeightFiltrartion_1_0/red/features.npy\n",
      "FiltrationExtractor: processing 20/train/filtrations/6/HeightFiltrartion_1_0/green, do_fit = True, filtration = HeightFiltration(direction=array([1, 0]), n_jobs=-1)\n",
      "Got the result from ./20/train/filtrations/6/HeightFiltrartion_1_0/green/diagrams.npy\n",
      "Applying Scaler to persistence diagrams.\n",
      "DiagramVectorizer: fitting complete\n",
      "Got the result from ./20/train/filtrations/6/HeightFiltrartion_1_0/green/features.npy\n",
      "FiltrationExtractor: processing 20/train/filtrations/6/HeightFiltrartion_1_0/green, do_fit = False, filtration = HeightFiltration(direction=array([1, 0]), n_jobs=-1)\n",
      "Got the result from ./20/train/filtrations/6/HeightFiltrartion_1_0/green/diagrams.npy\n",
      "Applying Scaler to persistence diagrams.\n",
      "Got the result from ./20/train/filtrations/6/HeightFiltrartion_1_0/green/features.npy\n",
      "FiltrationExtractor: processing 20/train/filtrations/6/HeightFiltrartion_1_0/blue, do_fit = True, filtration = HeightFiltration(direction=array([1, 0]), n_jobs=-1)\n",
      "Got the result from ./20/train/filtrations/6/HeightFiltrartion_1_0/blue/diagrams.npy\n",
      "Applying Scaler to persistence diagrams.\n",
      "DiagramVectorizer: fitting complete\n",
      "Got the result from ./20/train/filtrations/6/HeightFiltrartion_1_0/blue/features.npy\n",
      "FiltrationExtractor: processing 20/train/filtrations/6/HeightFiltrartion_1_0/blue, do_fit = False, filtration = HeightFiltration(direction=array([1, 0]), n_jobs=-1)\n",
      "Got the result from ./20/train/filtrations/6/HeightFiltrartion_1_0/blue/diagrams.npy\n",
      "Applying Scaler to persistence diagrams.\n",
      "Got the result from ./20/train/filtrations/6/HeightFiltrartion_1_0/blue/features.npy\n",
      "Fitting filtration 56/72: HeightFiltration with d = (1, 1), bin. thr. = 0.6\n",
      "RGB images received. Transforming to grayscale.\n"
     ]
    },
    {
     "name": "stderr",
     "output_type": "stream",
     "text": [
      "rgb2gray: 100%|██████████| 50000/50000 [00:04<00:00, 12440.18it/s]\n"
     ]
    },
    {
     "name": "stdout",
     "output_type": "stream",
     "text": [
      "FiltrationExtractor: processing 20/train/filtrations/6/HeightFiltrartion_1_1/gray, do_fit = True, filtration = HeightFiltration(direction=array([1, 1]), n_jobs=-1)\n",
      "Got the result from ./20/train/filtrations/6/HeightFiltrartion_1_1/gray/diagrams.npy\n",
      "Applying Scaler to persistence diagrams.\n",
      "DiagramVectorizer: fitting complete\n",
      "Got the result from ./20/train/filtrations/6/HeightFiltrartion_1_1/gray/features.npy\n",
      "FiltrationExtractor: processing 20/train/filtrations/6/HeightFiltrartion_1_1/gray, do_fit = False, filtration = HeightFiltration(direction=array([1, 1]), n_jobs=-1)\n",
      "Got the result from ./20/train/filtrations/6/HeightFiltrartion_1_1/gray/diagrams.npy\n",
      "Applying Scaler to persistence diagrams.\n",
      "Got the result from ./20/train/filtrations/6/HeightFiltrartion_1_1/gray/features.npy\n",
      "FiltrationExtractor: processing 20/train/filtrations/6/HeightFiltrartion_1_1/red, do_fit = True, filtration = HeightFiltration(direction=array([1, 1]), n_jobs=-1)\n",
      "Got the result from ./20/train/filtrations/6/HeightFiltrartion_1_1/red/diagrams.npy\n",
      "Applying Scaler to persistence diagrams.\n",
      "DiagramVectorizer: fitting complete\n",
      "Got the result from ./20/train/filtrations/6/HeightFiltrartion_1_1/red/features.npy\n",
      "FiltrationExtractor: processing 20/train/filtrations/6/HeightFiltrartion_1_1/red, do_fit = False, filtration = HeightFiltration(direction=array([1, 1]), n_jobs=-1)\n",
      "Got the result from ./20/train/filtrations/6/HeightFiltrartion_1_1/red/diagrams.npy\n",
      "Applying Scaler to persistence diagrams.\n",
      "Got the result from ./20/train/filtrations/6/HeightFiltrartion_1_1/red/features.npy\n",
      "FiltrationExtractor: processing 20/train/filtrations/6/HeightFiltrartion_1_1/green, do_fit = True, filtration = HeightFiltration(direction=array([1, 1]), n_jobs=-1)\n",
      "Got the result from ./20/train/filtrations/6/HeightFiltrartion_1_1/green/diagrams.npy\n",
      "Applying Scaler to persistence diagrams.\n",
      "DiagramVectorizer: fitting complete\n",
      "Got the result from ./20/train/filtrations/6/HeightFiltrartion_1_1/green/features.npy\n",
      "FiltrationExtractor: processing 20/train/filtrations/6/HeightFiltrartion_1_1/green, do_fit = False, filtration = HeightFiltration(direction=array([1, 1]), n_jobs=-1)\n",
      "Got the result from ./20/train/filtrations/6/HeightFiltrartion_1_1/green/diagrams.npy\n",
      "Applying Scaler to persistence diagrams.\n",
      "Got the result from ./20/train/filtrations/6/HeightFiltrartion_1_1/green/features.npy\n",
      "FiltrationExtractor: processing 20/train/filtrations/6/HeightFiltrartion_1_1/blue, do_fit = True, filtration = HeightFiltration(direction=array([1, 1]), n_jobs=-1)\n",
      "Got the result from ./20/train/filtrations/6/HeightFiltrartion_1_1/blue/diagrams.npy\n",
      "Applying Scaler to persistence diagrams.\n",
      "DiagramVectorizer: fitting complete\n",
      "Got the result from ./20/train/filtrations/6/HeightFiltrartion_1_1/blue/features.npy\n",
      "FiltrationExtractor: processing 20/train/filtrations/6/HeightFiltrartion_1_1/blue, do_fit = False, filtration = HeightFiltration(direction=array([1, 1]), n_jobs=-1)\n",
      "Got the result from ./20/train/filtrations/6/HeightFiltrartion_1_1/blue/diagrams.npy\n",
      "Applying Scaler to persistence diagrams.\n",
      "Got the result from ./20/train/filtrations/6/HeightFiltrartion_1_1/blue/features.npy\n",
      "Fitting filtration 57/72: RadialFiltration with c = (5, 5), bin. thr. = 0.6\n",
      "RGB images received. Transforming to grayscale.\n"
     ]
    },
    {
     "name": "stderr",
     "output_type": "stream",
     "text": [
      "rgb2gray: 100%|██████████| 50000/50000 [00:04<00:00, 10304.98it/s]\n"
     ]
    },
    {
     "name": "stdout",
     "output_type": "stream",
     "text": [
      "FiltrationExtractor: processing 20/train/filtrations/6/RadialFiltration_5_5/gray, do_fit = True, filtration = RadialFiltration(center=array([5, 5]), n_jobs=-1)\n",
      "Got the result from ./20/train/filtrations/6/RadialFiltration_5_5/gray/diagrams.npy\n",
      "Applying Scaler to persistence diagrams.\n",
      "DiagramVectorizer: fitting complete\n",
      "Got the result from ./20/train/filtrations/6/RadialFiltration_5_5/gray/features.npy\n",
      "FiltrationExtractor: processing 20/train/filtrations/6/RadialFiltration_5_5/gray, do_fit = False, filtration = RadialFiltration(center=array([5, 5]), n_jobs=-1)\n",
      "Got the result from ./20/train/filtrations/6/RadialFiltration_5_5/gray/diagrams.npy\n",
      "Applying Scaler to persistence diagrams.\n",
      "Got the result from ./20/train/filtrations/6/RadialFiltration_5_5/gray/features.npy\n",
      "FiltrationExtractor: processing 20/train/filtrations/6/RadialFiltration_5_5/red, do_fit = True, filtration = RadialFiltration(center=array([5, 5]), n_jobs=-1)\n",
      "Got the result from ./20/train/filtrations/6/RadialFiltration_5_5/red/diagrams.npy\n",
      "Applying Scaler to persistence diagrams.\n",
      "DiagramVectorizer: fitting complete\n",
      "Got the result from ./20/train/filtrations/6/RadialFiltration_5_5/red/features.npy\n",
      "FiltrationExtractor: processing 20/train/filtrations/6/RadialFiltration_5_5/red, do_fit = False, filtration = RadialFiltration(center=array([5, 5]), n_jobs=-1)\n",
      "Got the result from ./20/train/filtrations/6/RadialFiltration_5_5/red/diagrams.npy\n",
      "Applying Scaler to persistence diagrams.\n",
      "Got the result from ./20/train/filtrations/6/RadialFiltration_5_5/red/features.npy\n",
      "FiltrationExtractor: processing 20/train/filtrations/6/RadialFiltration_5_5/green, do_fit = True, filtration = RadialFiltration(center=array([5, 5]), n_jobs=-1)\n",
      "Got the result from ./20/train/filtrations/6/RadialFiltration_5_5/green/diagrams.npy\n",
      "Applying Scaler to persistence diagrams.\n",
      "DiagramVectorizer: fitting complete\n",
      "Got the result from ./20/train/filtrations/6/RadialFiltration_5_5/green/features.npy\n",
      "FiltrationExtractor: processing 20/train/filtrations/6/RadialFiltration_5_5/green, do_fit = False, filtration = RadialFiltration(center=array([5, 5]), n_jobs=-1)\n",
      "Got the result from ./20/train/filtrations/6/RadialFiltration_5_5/green/diagrams.npy\n",
      "Applying Scaler to persistence diagrams.\n",
      "Got the result from ./20/train/filtrations/6/RadialFiltration_5_5/green/features.npy\n",
      "FiltrationExtractor: processing 20/train/filtrations/6/RadialFiltration_5_5/blue, do_fit = True, filtration = RadialFiltration(center=array([5, 5]), n_jobs=-1)\n",
      "Got the result from ./20/train/filtrations/6/RadialFiltration_5_5/blue/diagrams.npy\n",
      "Applying Scaler to persistence diagrams.\n",
      "DiagramVectorizer: fitting complete\n",
      "Got the result from ./20/train/filtrations/6/RadialFiltration_5_5/blue/features.npy\n",
      "FiltrationExtractor: processing 20/train/filtrations/6/RadialFiltration_5_5/blue, do_fit = False, filtration = RadialFiltration(center=array([5, 5]), n_jobs=-1)\n",
      "Got the result from ./20/train/filtrations/6/RadialFiltration_5_5/blue/diagrams.npy\n",
      "Applying Scaler to persistence diagrams.\n",
      "Got the result from ./20/train/filtrations/6/RadialFiltration_5_5/blue/features.npy\n",
      "Fitting filtration 58/72: RadialFiltration with c = (5, 12), bin. thr. = 0.6\n",
      "RGB images received. Transforming to grayscale.\n"
     ]
    },
    {
     "name": "stderr",
     "output_type": "stream",
     "text": [
      "rgb2gray: 100%|██████████| 50000/50000 [00:05<00:00, 9486.36it/s] \n"
     ]
    },
    {
     "name": "stdout",
     "output_type": "stream",
     "text": [
      "FiltrationExtractor: processing 20/train/filtrations/6/RadialFiltration_5_12/gray, do_fit = True, filtration = RadialFiltration(center=array([ 5, 12]), n_jobs=-1)\n",
      "Got the result from ./20/train/filtrations/6/RadialFiltration_5_12/gray/diagrams.npy\n",
      "Applying Scaler to persistence diagrams.\n",
      "DiagramVectorizer: fitting complete\n",
      "Got the result from ./20/train/filtrations/6/RadialFiltration_5_12/gray/features.npy\n",
      "FiltrationExtractor: processing 20/train/filtrations/6/RadialFiltration_5_12/gray, do_fit = False, filtration = RadialFiltration(center=array([ 5, 12]), n_jobs=-1)\n",
      "Got the result from ./20/train/filtrations/6/RadialFiltration_5_12/gray/diagrams.npy\n",
      "Applying Scaler to persistence diagrams.\n",
      "Got the result from ./20/train/filtrations/6/RadialFiltration_5_12/gray/features.npy\n",
      "FiltrationExtractor: processing 20/train/filtrations/6/RadialFiltration_5_12/red, do_fit = True, filtration = RadialFiltration(center=array([ 5, 12]), n_jobs=-1)\n",
      "Got the result from ./20/train/filtrations/6/RadialFiltration_5_12/red/diagrams.npy\n",
      "Applying Scaler to persistence diagrams.\n",
      "DiagramVectorizer: fitting complete\n",
      "Got the result from ./20/train/filtrations/6/RadialFiltration_5_12/red/features.npy\n",
      "FiltrationExtractor: processing 20/train/filtrations/6/RadialFiltration_5_12/red, do_fit = False, filtration = RadialFiltration(center=array([ 5, 12]), n_jobs=-1)\n",
      "Got the result from ./20/train/filtrations/6/RadialFiltration_5_12/red/diagrams.npy\n",
      "Applying Scaler to persistence diagrams.\n",
      "Got the result from ./20/train/filtrations/6/RadialFiltration_5_12/red/features.npy\n",
      "FiltrationExtractor: processing 20/train/filtrations/6/RadialFiltration_5_12/green, do_fit = True, filtration = RadialFiltration(center=array([ 5, 12]), n_jobs=-1)\n",
      "Got the result from ./20/train/filtrations/6/RadialFiltration_5_12/green/diagrams.npy\n",
      "Applying Scaler to persistence diagrams.\n",
      "DiagramVectorizer: fitting complete\n",
      "Got the result from ./20/train/filtrations/6/RadialFiltration_5_12/green/features.npy\n",
      "FiltrationExtractor: processing 20/train/filtrations/6/RadialFiltration_5_12/green, do_fit = False, filtration = RadialFiltration(center=array([ 5, 12]), n_jobs=-1)\n",
      "Got the result from ./20/train/filtrations/6/RadialFiltration_5_12/green/diagrams.npy\n",
      "Applying Scaler to persistence diagrams.\n",
      "Got the result from ./20/train/filtrations/6/RadialFiltration_5_12/green/features.npy\n",
      "FiltrationExtractor: processing 20/train/filtrations/6/RadialFiltration_5_12/blue, do_fit = True, filtration = RadialFiltration(center=array([ 5, 12]), n_jobs=-1)\n",
      "Got the result from ./20/train/filtrations/6/RadialFiltration_5_12/blue/diagrams.npy\n",
      "Applying Scaler to persistence diagrams.\n",
      "DiagramVectorizer: fitting complete\n",
      "Got the result from ./20/train/filtrations/6/RadialFiltration_5_12/blue/features.npy\n",
      "FiltrationExtractor: processing 20/train/filtrations/6/RadialFiltration_5_12/blue, do_fit = False, filtration = RadialFiltration(center=array([ 5, 12]), n_jobs=-1)\n",
      "Got the result from ./20/train/filtrations/6/RadialFiltration_5_12/blue/diagrams.npy\n",
      "Applying Scaler to persistence diagrams.\n",
      "Got the result from ./20/train/filtrations/6/RadialFiltration_5_12/blue/features.npy\n",
      "Fitting filtration 59/72: RadialFiltration with c = (5, 19), bin. thr. = 0.6\n",
      "RGB images received. Transforming to grayscale.\n"
     ]
    },
    {
     "name": "stderr",
     "output_type": "stream",
     "text": [
      "rgb2gray: 100%|██████████| 50000/50000 [00:04<00:00, 10748.60it/s]\n"
     ]
    },
    {
     "name": "stdout",
     "output_type": "stream",
     "text": [
      "FiltrationExtractor: processing 20/train/filtrations/6/RadialFiltration_5_19/gray, do_fit = True, filtration = RadialFiltration(center=array([ 5, 19]), n_jobs=-1)\n",
      "Got the result from ./20/train/filtrations/6/RadialFiltration_5_19/gray/diagrams.npy\n",
      "Applying Scaler to persistence diagrams.\n",
      "DiagramVectorizer: fitting complete\n",
      "Got the result from ./20/train/filtrations/6/RadialFiltration_5_19/gray/features.npy\n",
      "FiltrationExtractor: processing 20/train/filtrations/6/RadialFiltration_5_19/gray, do_fit = False, filtration = RadialFiltration(center=array([ 5, 19]), n_jobs=-1)\n",
      "Got the result from ./20/train/filtrations/6/RadialFiltration_5_19/gray/diagrams.npy\n",
      "Applying Scaler to persistence diagrams.\n",
      "Got the result from ./20/train/filtrations/6/RadialFiltration_5_19/gray/features.npy\n",
      "FiltrationExtractor: processing 20/train/filtrations/6/RadialFiltration_5_19/red, do_fit = True, filtration = RadialFiltration(center=array([ 5, 19]), n_jobs=-1)\n",
      "Got the result from ./20/train/filtrations/6/RadialFiltration_5_19/red/diagrams.npy\n",
      "Applying Scaler to persistence diagrams.\n",
      "DiagramVectorizer: fitting complete\n",
      "Got the result from ./20/train/filtrations/6/RadialFiltration_5_19/red/features.npy\n",
      "FiltrationExtractor: processing 20/train/filtrations/6/RadialFiltration_5_19/red, do_fit = False, filtration = RadialFiltration(center=array([ 5, 19]), n_jobs=-1)\n",
      "Got the result from ./20/train/filtrations/6/RadialFiltration_5_19/red/diagrams.npy\n",
      "Applying Scaler to persistence diagrams.\n",
      "Got the result from ./20/train/filtrations/6/RadialFiltration_5_19/red/features.npy\n",
      "FiltrationExtractor: processing 20/train/filtrations/6/RadialFiltration_5_19/green, do_fit = True, filtration = RadialFiltration(center=array([ 5, 19]), n_jobs=-1)\n",
      "Got the result from ./20/train/filtrations/6/RadialFiltration_5_19/green/diagrams.npy\n",
      "Applying Scaler to persistence diagrams.\n",
      "DiagramVectorizer: fitting complete\n",
      "Got the result from ./20/train/filtrations/6/RadialFiltration_5_19/green/features.npy\n",
      "FiltrationExtractor: processing 20/train/filtrations/6/RadialFiltration_5_19/green, do_fit = False, filtration = RadialFiltration(center=array([ 5, 19]), n_jobs=-1)\n",
      "Got the result from ./20/train/filtrations/6/RadialFiltration_5_19/green/diagrams.npy\n",
      "Applying Scaler to persistence diagrams.\n",
      "Got the result from ./20/train/filtrations/6/RadialFiltration_5_19/green/features.npy\n",
      "FiltrationExtractor: processing 20/train/filtrations/6/RadialFiltration_5_19/blue, do_fit = True, filtration = RadialFiltration(center=array([ 5, 19]), n_jobs=-1)\n",
      "Got the result from ./20/train/filtrations/6/RadialFiltration_5_19/blue/diagrams.npy\n",
      "Applying Scaler to persistence diagrams.\n",
      "DiagramVectorizer: fitting complete\n",
      "Got the result from ./20/train/filtrations/6/RadialFiltration_5_19/blue/features.npy\n",
      "FiltrationExtractor: processing 20/train/filtrations/6/RadialFiltration_5_19/blue, do_fit = False, filtration = RadialFiltration(center=array([ 5, 19]), n_jobs=-1)\n",
      "Got the result from ./20/train/filtrations/6/RadialFiltration_5_19/blue/diagrams.npy\n",
      "Applying Scaler to persistence diagrams.\n",
      "Got the result from ./20/train/filtrations/6/RadialFiltration_5_19/blue/features.npy\n",
      "Fitting filtration 60/72: RadialFiltration with c = (5, 26), bin. thr. = 0.6\n",
      "RGB images received. Transforming to grayscale.\n"
     ]
    },
    {
     "name": "stderr",
     "output_type": "stream",
     "text": [
      "rgb2gray: 100%|██████████| 50000/50000 [00:04<00:00, 11191.83it/s]\n"
     ]
    },
    {
     "name": "stdout",
     "output_type": "stream",
     "text": [
      "FiltrationExtractor: processing 20/train/filtrations/6/RadialFiltration_5_26/gray, do_fit = True, filtration = RadialFiltration(center=array([ 5, 26]), n_jobs=-1)\n",
      "Got the result from ./20/train/filtrations/6/RadialFiltration_5_26/gray/diagrams.npy\n",
      "Applying Scaler to persistence diagrams.\n",
      "DiagramVectorizer: fitting complete\n",
      "Got the result from ./20/train/filtrations/6/RadialFiltration_5_26/gray/features.npy\n",
      "FiltrationExtractor: processing 20/train/filtrations/6/RadialFiltration_5_26/gray, do_fit = False, filtration = RadialFiltration(center=array([ 5, 26]), n_jobs=-1)\n",
      "Got the result from ./20/train/filtrations/6/RadialFiltration_5_26/gray/diagrams.npy\n",
      "Applying Scaler to persistence diagrams.\n",
      "Got the result from ./20/train/filtrations/6/RadialFiltration_5_26/gray/features.npy\n",
      "FiltrationExtractor: processing 20/train/filtrations/6/RadialFiltration_5_26/red, do_fit = True, filtration = RadialFiltration(center=array([ 5, 26]), n_jobs=-1)\n",
      "Got the result from ./20/train/filtrations/6/RadialFiltration_5_26/red/diagrams.npy\n",
      "Applying Scaler to persistence diagrams.\n",
      "DiagramVectorizer: fitting complete\n",
      "Got the result from ./20/train/filtrations/6/RadialFiltration_5_26/red/features.npy\n",
      "FiltrationExtractor: processing 20/train/filtrations/6/RadialFiltration_5_26/red, do_fit = False, filtration = RadialFiltration(center=array([ 5, 26]), n_jobs=-1)\n",
      "Got the result from ./20/train/filtrations/6/RadialFiltration_5_26/red/diagrams.npy\n",
      "Applying Scaler to persistence diagrams.\n",
      "Got the result from ./20/train/filtrations/6/RadialFiltration_5_26/red/features.npy\n",
      "FiltrationExtractor: processing 20/train/filtrations/6/RadialFiltration_5_26/green, do_fit = True, filtration = RadialFiltration(center=array([ 5, 26]), n_jobs=-1)\n",
      "Got the result from ./20/train/filtrations/6/RadialFiltration_5_26/green/diagrams.npy\n",
      "Applying Scaler to persistence diagrams.\n",
      "DiagramVectorizer: fitting complete\n",
      "Got the result from ./20/train/filtrations/6/RadialFiltration_5_26/green/features.npy\n",
      "FiltrationExtractor: processing 20/train/filtrations/6/RadialFiltration_5_26/green, do_fit = False, filtration = RadialFiltration(center=array([ 5, 26]), n_jobs=-1)\n",
      "Got the result from ./20/train/filtrations/6/RadialFiltration_5_26/green/diagrams.npy\n",
      "Applying Scaler to persistence diagrams.\n",
      "Got the result from ./20/train/filtrations/6/RadialFiltration_5_26/green/features.npy\n",
      "FiltrationExtractor: processing 20/train/filtrations/6/RadialFiltration_5_26/blue, do_fit = True, filtration = RadialFiltration(center=array([ 5, 26]), n_jobs=-1)\n",
      "Got the result from ./20/train/filtrations/6/RadialFiltration_5_26/blue/diagrams.npy\n",
      "Applying Scaler to persistence diagrams.\n",
      "DiagramVectorizer: fitting complete\n",
      "Got the result from ./20/train/filtrations/6/RadialFiltration_5_26/blue/features.npy\n",
      "FiltrationExtractor: processing 20/train/filtrations/6/RadialFiltration_5_26/blue, do_fit = False, filtration = RadialFiltration(center=array([ 5, 26]), n_jobs=-1)\n",
      "Got the result from ./20/train/filtrations/6/RadialFiltration_5_26/blue/diagrams.npy\n",
      "Applying Scaler to persistence diagrams.\n",
      "Got the result from ./20/train/filtrations/6/RadialFiltration_5_26/blue/features.npy\n",
      "Fitting filtration 61/72: RadialFiltration with c = (12, 5), bin. thr. = 0.6\n",
      "RGB images received. Transforming to grayscale.\n"
     ]
    },
    {
     "name": "stderr",
     "output_type": "stream",
     "text": [
      "rgb2gray: 100%|██████████| 50000/50000 [00:04<00:00, 12067.18it/s]\n"
     ]
    },
    {
     "name": "stdout",
     "output_type": "stream",
     "text": [
      "FiltrationExtractor: processing 20/train/filtrations/6/RadialFiltration_12_5/gray, do_fit = True, filtration = RadialFiltration(center=array([12,  5]), n_jobs=-1)\n",
      "Got the result from ./20/train/filtrations/6/RadialFiltration_12_5/gray/diagrams.npy\n",
      "Applying Scaler to persistence diagrams.\n",
      "DiagramVectorizer: fitting complete\n",
      "Got the result from ./20/train/filtrations/6/RadialFiltration_12_5/gray/features.npy\n",
      "FiltrationExtractor: processing 20/train/filtrations/6/RadialFiltration_12_5/gray, do_fit = False, filtration = RadialFiltration(center=array([12,  5]), n_jobs=-1)\n",
      "Got the result from ./20/train/filtrations/6/RadialFiltration_12_5/gray/diagrams.npy\n",
      "Applying Scaler to persistence diagrams.\n",
      "Got the result from ./20/train/filtrations/6/RadialFiltration_12_5/gray/features.npy\n",
      "FiltrationExtractor: processing 20/train/filtrations/6/RadialFiltration_12_5/red, do_fit = True, filtration = RadialFiltration(center=array([12,  5]), n_jobs=-1)\n",
      "Got the result from ./20/train/filtrations/6/RadialFiltration_12_5/red/diagrams.npy\n",
      "Applying Scaler to persistence diagrams.\n",
      "DiagramVectorizer: fitting complete\n",
      "Got the result from ./20/train/filtrations/6/RadialFiltration_12_5/red/features.npy\n",
      "FiltrationExtractor: processing 20/train/filtrations/6/RadialFiltration_12_5/red, do_fit = False, filtration = RadialFiltration(center=array([12,  5]), n_jobs=-1)\n",
      "Got the result from ./20/train/filtrations/6/RadialFiltration_12_5/red/diagrams.npy\n",
      "Applying Scaler to persistence diagrams.\n",
      "Got the result from ./20/train/filtrations/6/RadialFiltration_12_5/red/features.npy\n",
      "FiltrationExtractor: processing 20/train/filtrations/6/RadialFiltration_12_5/green, do_fit = True, filtration = RadialFiltration(center=array([12,  5]), n_jobs=-1)\n",
      "Got the result from ./20/train/filtrations/6/RadialFiltration_12_5/green/diagrams.npy\n",
      "Applying Scaler to persistence diagrams.\n",
      "DiagramVectorizer: fitting complete\n",
      "Got the result from ./20/train/filtrations/6/RadialFiltration_12_5/green/features.npy\n",
      "FiltrationExtractor: processing 20/train/filtrations/6/RadialFiltration_12_5/green, do_fit = False, filtration = RadialFiltration(center=array([12,  5]), n_jobs=-1)\n",
      "Got the result from ./20/train/filtrations/6/RadialFiltration_12_5/green/diagrams.npy\n",
      "Applying Scaler to persistence diagrams.\n",
      "Got the result from ./20/train/filtrations/6/RadialFiltration_12_5/green/features.npy\n",
      "FiltrationExtractor: processing 20/train/filtrations/6/RadialFiltration_12_5/blue, do_fit = True, filtration = RadialFiltration(center=array([12,  5]), n_jobs=-1)\n",
      "Got the result from ./20/train/filtrations/6/RadialFiltration_12_5/blue/diagrams.npy\n",
      "Applying Scaler to persistence diagrams.\n",
      "DiagramVectorizer: fitting complete\n",
      "Got the result from ./20/train/filtrations/6/RadialFiltration_12_5/blue/features.npy\n",
      "FiltrationExtractor: processing 20/train/filtrations/6/RadialFiltration_12_5/blue, do_fit = False, filtration = RadialFiltration(center=array([12,  5]), n_jobs=-1)\n",
      "Got the result from ./20/train/filtrations/6/RadialFiltration_12_5/blue/diagrams.npy\n",
      "Applying Scaler to persistence diagrams.\n",
      "Got the result from ./20/train/filtrations/6/RadialFiltration_12_5/blue/features.npy\n",
      "Fitting filtration 62/72: RadialFiltration with c = (12, 12), bin. thr. = 0.6\n",
      "RGB images received. Transforming to grayscale.\n"
     ]
    },
    {
     "name": "stderr",
     "output_type": "stream",
     "text": [
      "rgb2gray: 100%|██████████| 50000/50000 [00:04<00:00, 11190.62it/s]\n"
     ]
    },
    {
     "name": "stdout",
     "output_type": "stream",
     "text": [
      "FiltrationExtractor: processing 20/train/filtrations/6/RadialFiltration_12_12/gray, do_fit = True, filtration = RadialFiltration(center=array([12, 12]), n_jobs=-1)\n",
      "Got the result from ./20/train/filtrations/6/RadialFiltration_12_12/gray/diagrams.npy\n",
      "Applying Scaler to persistence diagrams.\n",
      "DiagramVectorizer: fitting complete\n",
      "Got the result from ./20/train/filtrations/6/RadialFiltration_12_12/gray/features.npy\n",
      "FiltrationExtractor: processing 20/train/filtrations/6/RadialFiltration_12_12/gray, do_fit = False, filtration = RadialFiltration(center=array([12, 12]), n_jobs=-1)\n",
      "Got the result from ./20/train/filtrations/6/RadialFiltration_12_12/gray/diagrams.npy\n",
      "Applying Scaler to persistence diagrams.\n",
      "Got the result from ./20/train/filtrations/6/RadialFiltration_12_12/gray/features.npy\n",
      "FiltrationExtractor: processing 20/train/filtrations/6/RadialFiltration_12_12/red, do_fit = True, filtration = RadialFiltration(center=array([12, 12]), n_jobs=-1)\n",
      "Got the result from ./20/train/filtrations/6/RadialFiltration_12_12/red/diagrams.npy\n",
      "Applying Scaler to persistence diagrams.\n",
      "DiagramVectorizer: fitting complete\n",
      "Got the result from ./20/train/filtrations/6/RadialFiltration_12_12/red/features.npy\n",
      "FiltrationExtractor: processing 20/train/filtrations/6/RadialFiltration_12_12/red, do_fit = False, filtration = RadialFiltration(center=array([12, 12]), n_jobs=-1)\n",
      "Got the result from ./20/train/filtrations/6/RadialFiltration_12_12/red/diagrams.npy\n",
      "Applying Scaler to persistence diagrams.\n",
      "Got the result from ./20/train/filtrations/6/RadialFiltration_12_12/red/features.npy\n",
      "FiltrationExtractor: processing 20/train/filtrations/6/RadialFiltration_12_12/green, do_fit = True, filtration = RadialFiltration(center=array([12, 12]), n_jobs=-1)\n",
      "Got the result from ./20/train/filtrations/6/RadialFiltration_12_12/green/diagrams.npy\n",
      "Applying Scaler to persistence diagrams.\n",
      "DiagramVectorizer: fitting complete\n",
      "Got the result from ./20/train/filtrations/6/RadialFiltration_12_12/green/features.npy\n",
      "FiltrationExtractor: processing 20/train/filtrations/6/RadialFiltration_12_12/green, do_fit = False, filtration = RadialFiltration(center=array([12, 12]), n_jobs=-1)\n",
      "Got the result from ./20/train/filtrations/6/RadialFiltration_12_12/green/diagrams.npy\n",
      "Applying Scaler to persistence diagrams.\n",
      "Got the result from ./20/train/filtrations/6/RadialFiltration_12_12/green/features.npy\n",
      "FiltrationExtractor: processing 20/train/filtrations/6/RadialFiltration_12_12/blue, do_fit = True, filtration = RadialFiltration(center=array([12, 12]), n_jobs=-1)\n",
      "Got the result from ./20/train/filtrations/6/RadialFiltration_12_12/blue/diagrams.npy\n",
      "Applying Scaler to persistence diagrams.\n",
      "DiagramVectorizer: fitting complete\n",
      "Got the result from ./20/train/filtrations/6/RadialFiltration_12_12/blue/features.npy\n",
      "FiltrationExtractor: processing 20/train/filtrations/6/RadialFiltration_12_12/blue, do_fit = False, filtration = RadialFiltration(center=array([12, 12]), n_jobs=-1)\n",
      "Got the result from ./20/train/filtrations/6/RadialFiltration_12_12/blue/diagrams.npy\n",
      "Applying Scaler to persistence diagrams.\n",
      "Got the result from ./20/train/filtrations/6/RadialFiltration_12_12/blue/features.npy\n",
      "Fitting filtration 63/72: RadialFiltration with c = (12, 19), bin. thr. = 0.6\n",
      "RGB images received. Transforming to grayscale.\n"
     ]
    },
    {
     "name": "stderr",
     "output_type": "stream",
     "text": [
      "rgb2gray: 100%|██████████| 50000/50000 [00:04<00:00, 11094.73it/s]\n"
     ]
    },
    {
     "name": "stdout",
     "output_type": "stream",
     "text": [
      "FiltrationExtractor: processing 20/train/filtrations/6/RadialFiltration_12_19/gray, do_fit = True, filtration = RadialFiltration(center=array([12, 19]), n_jobs=-1)\n",
      "Got the result from ./20/train/filtrations/6/RadialFiltration_12_19/gray/diagrams.npy\n",
      "Applying Scaler to persistence diagrams.\n",
      "DiagramVectorizer: fitting complete\n",
      "Got the result from ./20/train/filtrations/6/RadialFiltration_12_19/gray/features.npy\n",
      "FiltrationExtractor: processing 20/train/filtrations/6/RadialFiltration_12_19/gray, do_fit = False, filtration = RadialFiltration(center=array([12, 19]), n_jobs=-1)\n",
      "Got the result from ./20/train/filtrations/6/RadialFiltration_12_19/gray/diagrams.npy\n",
      "Applying Scaler to persistence diagrams.\n",
      "Got the result from ./20/train/filtrations/6/RadialFiltration_12_19/gray/features.npy\n",
      "FiltrationExtractor: processing 20/train/filtrations/6/RadialFiltration_12_19/red, do_fit = True, filtration = RadialFiltration(center=array([12, 19]), n_jobs=-1)\n",
      "Got the result from ./20/train/filtrations/6/RadialFiltration_12_19/red/diagrams.npy\n",
      "Applying Scaler to persistence diagrams.\n",
      "DiagramVectorizer: fitting complete\n",
      "Got the result from ./20/train/filtrations/6/RadialFiltration_12_19/red/features.npy\n",
      "FiltrationExtractor: processing 20/train/filtrations/6/RadialFiltration_12_19/red, do_fit = False, filtration = RadialFiltration(center=array([12, 19]), n_jobs=-1)\n",
      "Got the result from ./20/train/filtrations/6/RadialFiltration_12_19/red/diagrams.npy\n",
      "Applying Scaler to persistence diagrams.\n",
      "Got the result from ./20/train/filtrations/6/RadialFiltration_12_19/red/features.npy\n",
      "FiltrationExtractor: processing 20/train/filtrations/6/RadialFiltration_12_19/green, do_fit = True, filtration = RadialFiltration(center=array([12, 19]), n_jobs=-1)\n",
      "Got the result from ./20/train/filtrations/6/RadialFiltration_12_19/green/diagrams.npy\n",
      "Applying Scaler to persistence diagrams.\n",
      "DiagramVectorizer: fitting complete\n",
      "Got the result from ./20/train/filtrations/6/RadialFiltration_12_19/green/features.npy\n",
      "FiltrationExtractor: processing 20/train/filtrations/6/RadialFiltration_12_19/green, do_fit = False, filtration = RadialFiltration(center=array([12, 19]), n_jobs=-1)\n",
      "Got the result from ./20/train/filtrations/6/RadialFiltration_12_19/green/diagrams.npy\n",
      "Applying Scaler to persistence diagrams.\n",
      "Got the result from ./20/train/filtrations/6/RadialFiltration_12_19/green/features.npy\n",
      "FiltrationExtractor: processing 20/train/filtrations/6/RadialFiltration_12_19/blue, do_fit = True, filtration = RadialFiltration(center=array([12, 19]), n_jobs=-1)\n",
      "Got the result from ./20/train/filtrations/6/RadialFiltration_12_19/blue/diagrams.npy\n",
      "Applying Scaler to persistence diagrams.\n",
      "DiagramVectorizer: fitting complete\n",
      "Got the result from ./20/train/filtrations/6/RadialFiltration_12_19/blue/features.npy\n",
      "FiltrationExtractor: processing 20/train/filtrations/6/RadialFiltration_12_19/blue, do_fit = False, filtration = RadialFiltration(center=array([12, 19]), n_jobs=-1)\n",
      "Got the result from ./20/train/filtrations/6/RadialFiltration_12_19/blue/diagrams.npy\n",
      "Applying Scaler to persistence diagrams.\n",
      "Got the result from ./20/train/filtrations/6/RadialFiltration_12_19/blue/features.npy\n",
      "Fitting filtration 64/72: RadialFiltration with c = (12, 26), bin. thr. = 0.6\n",
      "RGB images received. Transforming to grayscale.\n"
     ]
    },
    {
     "name": "stderr",
     "output_type": "stream",
     "text": [
      "rgb2gray: 100%|██████████| 50000/50000 [00:05<00:00, 9605.00it/s] \n"
     ]
    },
    {
     "name": "stdout",
     "output_type": "stream",
     "text": [
      "FiltrationExtractor: processing 20/train/filtrations/6/RadialFiltration_12_26/gray, do_fit = True, filtration = RadialFiltration(center=array([12, 26]), n_jobs=-1)\n",
      "Got the result from ./20/train/filtrations/6/RadialFiltration_12_26/gray/diagrams.npy\n",
      "Applying Scaler to persistence diagrams.\n",
      "DiagramVectorizer: fitting complete\n",
      "Got the result from ./20/train/filtrations/6/RadialFiltration_12_26/gray/features.npy\n",
      "FiltrationExtractor: processing 20/train/filtrations/6/RadialFiltration_12_26/gray, do_fit = False, filtration = RadialFiltration(center=array([12, 26]), n_jobs=-1)\n",
      "Got the result from ./20/train/filtrations/6/RadialFiltration_12_26/gray/diagrams.npy\n",
      "Applying Scaler to persistence diagrams.\n",
      "Got the result from ./20/train/filtrations/6/RadialFiltration_12_26/gray/features.npy\n",
      "FiltrationExtractor: processing 20/train/filtrations/6/RadialFiltration_12_26/red, do_fit = True, filtration = RadialFiltration(center=array([12, 26]), n_jobs=-1)\n",
      "Got the result from ./20/train/filtrations/6/RadialFiltration_12_26/red/diagrams.npy\n",
      "Applying Scaler to persistence diagrams.\n",
      "DiagramVectorizer: fitting complete\n",
      "Got the result from ./20/train/filtrations/6/RadialFiltration_12_26/red/features.npy\n",
      "FiltrationExtractor: processing 20/train/filtrations/6/RadialFiltration_12_26/red, do_fit = False, filtration = RadialFiltration(center=array([12, 26]), n_jobs=-1)\n",
      "Got the result from ./20/train/filtrations/6/RadialFiltration_12_26/red/diagrams.npy\n",
      "Applying Scaler to persistence diagrams.\n",
      "Got the result from ./20/train/filtrations/6/RadialFiltration_12_26/red/features.npy\n",
      "FiltrationExtractor: processing 20/train/filtrations/6/RadialFiltration_12_26/green, do_fit = True, filtration = RadialFiltration(center=array([12, 26]), n_jobs=-1)\n",
      "Got the result from ./20/train/filtrations/6/RadialFiltration_12_26/green/diagrams.npy\n",
      "Applying Scaler to persistence diagrams.\n",
      "DiagramVectorizer: fitting complete\n",
      "Got the result from ./20/train/filtrations/6/RadialFiltration_12_26/green/features.npy\n",
      "FiltrationExtractor: processing 20/train/filtrations/6/RadialFiltration_12_26/green, do_fit = False, filtration = RadialFiltration(center=array([12, 26]), n_jobs=-1)\n",
      "Got the result from ./20/train/filtrations/6/RadialFiltration_12_26/green/diagrams.npy\n",
      "Applying Scaler to persistence diagrams.\n",
      "Got the result from ./20/train/filtrations/6/RadialFiltration_12_26/green/features.npy\n",
      "FiltrationExtractor: processing 20/train/filtrations/6/RadialFiltration_12_26/blue, do_fit = True, filtration = RadialFiltration(center=array([12, 26]), n_jobs=-1)\n",
      "Got the result from ./20/train/filtrations/6/RadialFiltration_12_26/blue/diagrams.npy\n",
      "Applying Scaler to persistence diagrams.\n",
      "DiagramVectorizer: fitting complete\n",
      "Got the result from ./20/train/filtrations/6/RadialFiltration_12_26/blue/features.npy\n",
      "FiltrationExtractor: processing 20/train/filtrations/6/RadialFiltration_12_26/blue, do_fit = False, filtration = RadialFiltration(center=array([12, 26]), n_jobs=-1)\n",
      "Got the result from ./20/train/filtrations/6/RadialFiltration_12_26/blue/diagrams.npy\n",
      "Applying Scaler to persistence diagrams.\n",
      "Got the result from ./20/train/filtrations/6/RadialFiltration_12_26/blue/features.npy\n",
      "Fitting filtration 65/72: RadialFiltration with c = (19, 5), bin. thr. = 0.6\n",
      "RGB images received. Transforming to grayscale.\n"
     ]
    },
    {
     "name": "stderr",
     "output_type": "stream",
     "text": [
      "rgb2gray: 100%|██████████| 50000/50000 [00:04<00:00, 10694.89it/s]\n"
     ]
    },
    {
     "name": "stdout",
     "output_type": "stream",
     "text": [
      "FiltrationExtractor: processing 20/train/filtrations/6/RadialFiltration_19_5/gray, do_fit = True, filtration = RadialFiltration(center=array([19,  5]), n_jobs=-1)\n",
      "Got the result from ./20/train/filtrations/6/RadialFiltration_19_5/gray/diagrams.npy\n",
      "Applying Scaler to persistence diagrams.\n",
      "DiagramVectorizer: fitting complete\n",
      "Got the result from ./20/train/filtrations/6/RadialFiltration_19_5/gray/features.npy\n",
      "FiltrationExtractor: processing 20/train/filtrations/6/RadialFiltration_19_5/gray, do_fit = False, filtration = RadialFiltration(center=array([19,  5]), n_jobs=-1)\n",
      "Got the result from ./20/train/filtrations/6/RadialFiltration_19_5/gray/diagrams.npy\n",
      "Applying Scaler to persistence diagrams.\n",
      "Got the result from ./20/train/filtrations/6/RadialFiltration_19_5/gray/features.npy\n",
      "FiltrationExtractor: processing 20/train/filtrations/6/RadialFiltration_19_5/red, do_fit = True, filtration = RadialFiltration(center=array([19,  5]), n_jobs=-1)\n",
      "Got the result from ./20/train/filtrations/6/RadialFiltration_19_5/red/diagrams.npy\n",
      "Applying Scaler to persistence diagrams.\n",
      "DiagramVectorizer: fitting complete\n",
      "Got the result from ./20/train/filtrations/6/RadialFiltration_19_5/red/features.npy\n",
      "FiltrationExtractor: processing 20/train/filtrations/6/RadialFiltration_19_5/red, do_fit = False, filtration = RadialFiltration(center=array([19,  5]), n_jobs=-1)\n",
      "Got the result from ./20/train/filtrations/6/RadialFiltration_19_5/red/diagrams.npy\n",
      "Applying Scaler to persistence diagrams.\n",
      "Got the result from ./20/train/filtrations/6/RadialFiltration_19_5/red/features.npy\n",
      "FiltrationExtractor: processing 20/train/filtrations/6/RadialFiltration_19_5/green, do_fit = True, filtration = RadialFiltration(center=array([19,  5]), n_jobs=-1)\n",
      "Got the result from ./20/train/filtrations/6/RadialFiltration_19_5/green/diagrams.npy\n",
      "Applying Scaler to persistence diagrams.\n",
      "DiagramVectorizer: fitting complete\n",
      "Got the result from ./20/train/filtrations/6/RadialFiltration_19_5/green/features.npy\n",
      "FiltrationExtractor: processing 20/train/filtrations/6/RadialFiltration_19_5/green, do_fit = False, filtration = RadialFiltration(center=array([19,  5]), n_jobs=-1)\n",
      "Got the result from ./20/train/filtrations/6/RadialFiltration_19_5/green/diagrams.npy\n",
      "Applying Scaler to persistence diagrams.\n",
      "Got the result from ./20/train/filtrations/6/RadialFiltration_19_5/green/features.npy\n",
      "FiltrationExtractor: processing 20/train/filtrations/6/RadialFiltration_19_5/blue, do_fit = True, filtration = RadialFiltration(center=array([19,  5]), n_jobs=-1)\n",
      "Got the result from ./20/train/filtrations/6/RadialFiltration_19_5/blue/diagrams.npy\n",
      "Applying Scaler to persistence diagrams.\n",
      "DiagramVectorizer: fitting complete\n",
      "Got the result from ./20/train/filtrations/6/RadialFiltration_19_5/blue/features.npy\n",
      "FiltrationExtractor: processing 20/train/filtrations/6/RadialFiltration_19_5/blue, do_fit = False, filtration = RadialFiltration(center=array([19,  5]), n_jobs=-1)\n",
      "Got the result from ./20/train/filtrations/6/RadialFiltration_19_5/blue/diagrams.npy\n",
      "Applying Scaler to persistence diagrams.\n",
      "Got the result from ./20/train/filtrations/6/RadialFiltration_19_5/blue/features.npy\n",
      "Fitting filtration 66/72: RadialFiltration with c = (19, 12), bin. thr. = 0.6\n",
      "RGB images received. Transforming to grayscale.\n"
     ]
    },
    {
     "name": "stderr",
     "output_type": "stream",
     "text": [
      "rgb2gray: 100%|██████████| 50000/50000 [00:04<00:00, 10729.62it/s]\n"
     ]
    },
    {
     "name": "stdout",
     "output_type": "stream",
     "text": [
      "FiltrationExtractor: processing 20/train/filtrations/6/RadialFiltration_19_12/gray, do_fit = True, filtration = RadialFiltration(center=array([19, 12]), n_jobs=-1)\n",
      "Got the result from ./20/train/filtrations/6/RadialFiltration_19_12/gray/diagrams.npy\n",
      "Applying Scaler to persistence diagrams.\n",
      "DiagramVectorizer: fitting complete\n",
      "Got the result from ./20/train/filtrations/6/RadialFiltration_19_12/gray/features.npy\n",
      "FiltrationExtractor: processing 20/train/filtrations/6/RadialFiltration_19_12/gray, do_fit = False, filtration = RadialFiltration(center=array([19, 12]), n_jobs=-1)\n",
      "Got the result from ./20/train/filtrations/6/RadialFiltration_19_12/gray/diagrams.npy\n",
      "Applying Scaler to persistence diagrams.\n",
      "Got the result from ./20/train/filtrations/6/RadialFiltration_19_12/gray/features.npy\n",
      "FiltrationExtractor: processing 20/train/filtrations/6/RadialFiltration_19_12/red, do_fit = True, filtration = RadialFiltration(center=array([19, 12]), n_jobs=-1)\n",
      "Got the result from ./20/train/filtrations/6/RadialFiltration_19_12/red/diagrams.npy\n",
      "Applying Scaler to persistence diagrams.\n",
      "DiagramVectorizer: fitting complete\n",
      "Got the result from ./20/train/filtrations/6/RadialFiltration_19_12/red/features.npy\n",
      "FiltrationExtractor: processing 20/train/filtrations/6/RadialFiltration_19_12/red, do_fit = False, filtration = RadialFiltration(center=array([19, 12]), n_jobs=-1)\n",
      "Got the result from ./20/train/filtrations/6/RadialFiltration_19_12/red/diagrams.npy\n",
      "Applying Scaler to persistence diagrams.\n",
      "Got the result from ./20/train/filtrations/6/RadialFiltration_19_12/red/features.npy\n",
      "FiltrationExtractor: processing 20/train/filtrations/6/RadialFiltration_19_12/green, do_fit = True, filtration = RadialFiltration(center=array([19, 12]), n_jobs=-1)\n",
      "Got the result from ./20/train/filtrations/6/RadialFiltration_19_12/green/diagrams.npy\n",
      "Applying Scaler to persistence diagrams.\n",
      "DiagramVectorizer: fitting complete\n",
      "Got the result from ./20/train/filtrations/6/RadialFiltration_19_12/green/features.npy\n",
      "FiltrationExtractor: processing 20/train/filtrations/6/RadialFiltration_19_12/green, do_fit = False, filtration = RadialFiltration(center=array([19, 12]), n_jobs=-1)\n",
      "Got the result from ./20/train/filtrations/6/RadialFiltration_19_12/green/diagrams.npy\n",
      "Applying Scaler to persistence diagrams.\n",
      "Got the result from ./20/train/filtrations/6/RadialFiltration_19_12/green/features.npy\n",
      "FiltrationExtractor: processing 20/train/filtrations/6/RadialFiltration_19_12/blue, do_fit = True, filtration = RadialFiltration(center=array([19, 12]), n_jobs=-1)\n",
      "Got the result from ./20/train/filtrations/6/RadialFiltration_19_12/blue/diagrams.npy\n",
      "Applying Scaler to persistence diagrams.\n",
      "DiagramVectorizer: fitting complete\n",
      "Got the result from ./20/train/filtrations/6/RadialFiltration_19_12/blue/features.npy\n",
      "FiltrationExtractor: processing 20/train/filtrations/6/RadialFiltration_19_12/blue, do_fit = False, filtration = RadialFiltration(center=array([19, 12]), n_jobs=-1)\n",
      "Got the result from ./20/train/filtrations/6/RadialFiltration_19_12/blue/diagrams.npy\n",
      "Applying Scaler to persistence diagrams.\n",
      "Got the result from ./20/train/filtrations/6/RadialFiltration_19_12/blue/features.npy\n",
      "Fitting filtration 67/72: RadialFiltration with c = (19, 19), bin. thr. = 0.6\n",
      "RGB images received. Transforming to grayscale.\n"
     ]
    },
    {
     "name": "stderr",
     "output_type": "stream",
     "text": [
      "rgb2gray: 100%|██████████| 50000/50000 [00:03<00:00, 12884.91it/s]\n"
     ]
    },
    {
     "name": "stdout",
     "output_type": "stream",
     "text": [
      "FiltrationExtractor: processing 20/train/filtrations/6/RadialFiltration_19_19/gray, do_fit = True, filtration = RadialFiltration(center=array([19, 19]), n_jobs=-1)\n",
      "Got the result from ./20/train/filtrations/6/RadialFiltration_19_19/gray/diagrams.npy\n",
      "Applying Scaler to persistence diagrams.\n",
      "DiagramVectorizer: fitting complete\n",
      "Got the result from ./20/train/filtrations/6/RadialFiltration_19_19/gray/features.npy\n",
      "FiltrationExtractor: processing 20/train/filtrations/6/RadialFiltration_19_19/gray, do_fit = False, filtration = RadialFiltration(center=array([19, 19]), n_jobs=-1)\n",
      "Got the result from ./20/train/filtrations/6/RadialFiltration_19_19/gray/diagrams.npy\n",
      "Applying Scaler to persistence diagrams.\n",
      "Got the result from ./20/train/filtrations/6/RadialFiltration_19_19/gray/features.npy\n",
      "FiltrationExtractor: processing 20/train/filtrations/6/RadialFiltration_19_19/red, do_fit = True, filtration = RadialFiltration(center=array([19, 19]), n_jobs=-1)\n",
      "Got the result from ./20/train/filtrations/6/RadialFiltration_19_19/red/diagrams.npy\n",
      "Applying Scaler to persistence diagrams.\n",
      "DiagramVectorizer: fitting complete\n",
      "Got the result from ./20/train/filtrations/6/RadialFiltration_19_19/red/features.npy\n",
      "FiltrationExtractor: processing 20/train/filtrations/6/RadialFiltration_19_19/red, do_fit = False, filtration = RadialFiltration(center=array([19, 19]), n_jobs=-1)\n",
      "Got the result from ./20/train/filtrations/6/RadialFiltration_19_19/red/diagrams.npy\n",
      "Applying Scaler to persistence diagrams.\n",
      "Got the result from ./20/train/filtrations/6/RadialFiltration_19_19/red/features.npy\n",
      "FiltrationExtractor: processing 20/train/filtrations/6/RadialFiltration_19_19/green, do_fit = True, filtration = RadialFiltration(center=array([19, 19]), n_jobs=-1)\n",
      "Got the result from ./20/train/filtrations/6/RadialFiltration_19_19/green/diagrams.npy\n",
      "Applying Scaler to persistence diagrams.\n",
      "DiagramVectorizer: fitting complete\n",
      "Got the result from ./20/train/filtrations/6/RadialFiltration_19_19/green/features.npy\n",
      "FiltrationExtractor: processing 20/train/filtrations/6/RadialFiltration_19_19/green, do_fit = False, filtration = RadialFiltration(center=array([19, 19]), n_jobs=-1)\n",
      "Got the result from ./20/train/filtrations/6/RadialFiltration_19_19/green/diagrams.npy\n",
      "Applying Scaler to persistence diagrams.\n",
      "Got the result from ./20/train/filtrations/6/RadialFiltration_19_19/green/features.npy\n",
      "FiltrationExtractor: processing 20/train/filtrations/6/RadialFiltration_19_19/blue, do_fit = True, filtration = RadialFiltration(center=array([19, 19]), n_jobs=-1)\n",
      "Got the result from ./20/train/filtrations/6/RadialFiltration_19_19/blue/diagrams.npy\n",
      "Applying Scaler to persistence diagrams.\n",
      "DiagramVectorizer: fitting complete\n",
      "Got the result from ./20/train/filtrations/6/RadialFiltration_19_19/blue/features.npy\n",
      "FiltrationExtractor: processing 20/train/filtrations/6/RadialFiltration_19_19/blue, do_fit = False, filtration = RadialFiltration(center=array([19, 19]), n_jobs=-1)\n",
      "Got the result from ./20/train/filtrations/6/RadialFiltration_19_19/blue/diagrams.npy\n",
      "Applying Scaler to persistence diagrams.\n",
      "Got the result from ./20/train/filtrations/6/RadialFiltration_19_19/blue/features.npy\n",
      "Fitting filtration 68/72: RadialFiltration with c = (19, 26), bin. thr. = 0.6\n",
      "RGB images received. Transforming to grayscale.\n"
     ]
    },
    {
     "name": "stderr",
     "output_type": "stream",
     "text": [
      "rgb2gray: 100%|██████████| 50000/50000 [00:04<00:00, 11495.64it/s]\n"
     ]
    },
    {
     "name": "stdout",
     "output_type": "stream",
     "text": [
      "FiltrationExtractor: processing 20/train/filtrations/6/RadialFiltration_19_26/gray, do_fit = True, filtration = RadialFiltration(center=array([19, 26]), n_jobs=-1)\n",
      "Got the result from ./20/train/filtrations/6/RadialFiltration_19_26/gray/diagrams.npy\n",
      "Applying Scaler to persistence diagrams.\n",
      "DiagramVectorizer: fitting complete\n",
      "Got the result from ./20/train/filtrations/6/RadialFiltration_19_26/gray/features.npy\n",
      "FiltrationExtractor: processing 20/train/filtrations/6/RadialFiltration_19_26/gray, do_fit = False, filtration = RadialFiltration(center=array([19, 26]), n_jobs=-1)\n",
      "Got the result from ./20/train/filtrations/6/RadialFiltration_19_26/gray/diagrams.npy\n",
      "Applying Scaler to persistence diagrams.\n",
      "Got the result from ./20/train/filtrations/6/RadialFiltration_19_26/gray/features.npy\n",
      "FiltrationExtractor: processing 20/train/filtrations/6/RadialFiltration_19_26/red, do_fit = True, filtration = RadialFiltration(center=array([19, 26]), n_jobs=-1)\n",
      "Got the result from ./20/train/filtrations/6/RadialFiltration_19_26/red/diagrams.npy\n",
      "Applying Scaler to persistence diagrams.\n",
      "DiagramVectorizer: fitting complete\n",
      "Got the result from ./20/train/filtrations/6/RadialFiltration_19_26/red/features.npy\n",
      "FiltrationExtractor: processing 20/train/filtrations/6/RadialFiltration_19_26/red, do_fit = False, filtration = RadialFiltration(center=array([19, 26]), n_jobs=-1)\n",
      "Got the result from ./20/train/filtrations/6/RadialFiltration_19_26/red/diagrams.npy\n",
      "Applying Scaler to persistence diagrams.\n",
      "Got the result from ./20/train/filtrations/6/RadialFiltration_19_26/red/features.npy\n",
      "FiltrationExtractor: processing 20/train/filtrations/6/RadialFiltration_19_26/green, do_fit = True, filtration = RadialFiltration(center=array([19, 26]), n_jobs=-1)\n",
      "Got the result from ./20/train/filtrations/6/RadialFiltration_19_26/green/diagrams.npy\n",
      "Applying Scaler to persistence diagrams.\n",
      "DiagramVectorizer: fitting complete\n",
      "Got the result from ./20/train/filtrations/6/RadialFiltration_19_26/green/features.npy\n",
      "FiltrationExtractor: processing 20/train/filtrations/6/RadialFiltration_19_26/green, do_fit = False, filtration = RadialFiltration(center=array([19, 26]), n_jobs=-1)\n",
      "Got the result from ./20/train/filtrations/6/RadialFiltration_19_26/green/diagrams.npy\n",
      "Applying Scaler to persistence diagrams.\n",
      "Got the result from ./20/train/filtrations/6/RadialFiltration_19_26/green/features.npy\n",
      "FiltrationExtractor: processing 20/train/filtrations/6/RadialFiltration_19_26/blue, do_fit = True, filtration = RadialFiltration(center=array([19, 26]), n_jobs=-1)\n",
      "Got the result from ./20/train/filtrations/6/RadialFiltration_19_26/blue/diagrams.npy\n",
      "Applying Scaler to persistence diagrams.\n",
      "DiagramVectorizer: fitting complete\n",
      "Got the result from ./20/train/filtrations/6/RadialFiltration_19_26/blue/features.npy\n",
      "FiltrationExtractor: processing 20/train/filtrations/6/RadialFiltration_19_26/blue, do_fit = False, filtration = RadialFiltration(center=array([19, 26]), n_jobs=-1)\n",
      "Got the result from ./20/train/filtrations/6/RadialFiltration_19_26/blue/diagrams.npy\n",
      "Applying Scaler to persistence diagrams.\n",
      "Got the result from ./20/train/filtrations/6/RadialFiltration_19_26/blue/features.npy\n",
      "Fitting filtration 69/72: RadialFiltration with c = (26, 5), bin. thr. = 0.6\n",
      "RGB images received. Transforming to grayscale.\n"
     ]
    },
    {
     "name": "stderr",
     "output_type": "stream",
     "text": [
      "rgb2gray: 100%|██████████| 50000/50000 [00:03<00:00, 12520.65it/s]\n"
     ]
    },
    {
     "name": "stdout",
     "output_type": "stream",
     "text": [
      "FiltrationExtractor: processing 20/train/filtrations/6/RadialFiltration_26_5/gray, do_fit = True, filtration = RadialFiltration(center=array([26,  5]), n_jobs=-1)\n",
      "Got the result from ./20/train/filtrations/6/RadialFiltration_26_5/gray/diagrams.npy\n",
      "Applying Scaler to persistence diagrams.\n",
      "DiagramVectorizer: fitting complete\n",
      "Got the result from ./20/train/filtrations/6/RadialFiltration_26_5/gray/features.npy\n",
      "FiltrationExtractor: processing 20/train/filtrations/6/RadialFiltration_26_5/gray, do_fit = False, filtration = RadialFiltration(center=array([26,  5]), n_jobs=-1)\n",
      "Got the result from ./20/train/filtrations/6/RadialFiltration_26_5/gray/diagrams.npy\n",
      "Applying Scaler to persistence diagrams.\n",
      "Got the result from ./20/train/filtrations/6/RadialFiltration_26_5/gray/features.npy\n",
      "FiltrationExtractor: processing 20/train/filtrations/6/RadialFiltration_26_5/red, do_fit = True, filtration = RadialFiltration(center=array([26,  5]), n_jobs=-1)\n",
      "Got the result from ./20/train/filtrations/6/RadialFiltration_26_5/red/diagrams.npy\n",
      "Applying Scaler to persistence diagrams.\n",
      "DiagramVectorizer: fitting complete\n",
      "Got the result from ./20/train/filtrations/6/RadialFiltration_26_5/red/features.npy\n",
      "FiltrationExtractor: processing 20/train/filtrations/6/RadialFiltration_26_5/red, do_fit = False, filtration = RadialFiltration(center=array([26,  5]), n_jobs=-1)\n",
      "Got the result from ./20/train/filtrations/6/RadialFiltration_26_5/red/diagrams.npy\n",
      "Applying Scaler to persistence diagrams.\n",
      "Got the result from ./20/train/filtrations/6/RadialFiltration_26_5/red/features.npy\n",
      "FiltrationExtractor: processing 20/train/filtrations/6/RadialFiltration_26_5/green, do_fit = True, filtration = RadialFiltration(center=array([26,  5]), n_jobs=-1)\n",
      "Got the result from ./20/train/filtrations/6/RadialFiltration_26_5/green/diagrams.npy\n",
      "Applying Scaler to persistence diagrams.\n",
      "DiagramVectorizer: fitting complete\n",
      "Got the result from ./20/train/filtrations/6/RadialFiltration_26_5/green/features.npy\n",
      "FiltrationExtractor: processing 20/train/filtrations/6/RadialFiltration_26_5/green, do_fit = False, filtration = RadialFiltration(center=array([26,  5]), n_jobs=-1)\n",
      "Got the result from ./20/train/filtrations/6/RadialFiltration_26_5/green/diagrams.npy\n",
      "Applying Scaler to persistence diagrams.\n",
      "Got the result from ./20/train/filtrations/6/RadialFiltration_26_5/green/features.npy\n",
      "FiltrationExtractor: processing 20/train/filtrations/6/RadialFiltration_26_5/blue, do_fit = True, filtration = RadialFiltration(center=array([26,  5]), n_jobs=-1)\n",
      "Got the result from ./20/train/filtrations/6/RadialFiltration_26_5/blue/diagrams.npy\n",
      "Applying Scaler to persistence diagrams.\n",
      "DiagramVectorizer: fitting complete\n",
      "Got the result from ./20/train/filtrations/6/RadialFiltration_26_5/blue/features.npy\n",
      "FiltrationExtractor: processing 20/train/filtrations/6/RadialFiltration_26_5/blue, do_fit = False, filtration = RadialFiltration(center=array([26,  5]), n_jobs=-1)\n",
      "Got the result from ./20/train/filtrations/6/RadialFiltration_26_5/blue/diagrams.npy\n",
      "Applying Scaler to persistence diagrams.\n",
      "Got the result from ./20/train/filtrations/6/RadialFiltration_26_5/blue/features.npy\n",
      "Fitting filtration 70/72: RadialFiltration with c = (26, 12), bin. thr. = 0.6\n",
      "RGB images received. Transforming to grayscale.\n"
     ]
    },
    {
     "name": "stderr",
     "output_type": "stream",
     "text": [
      "rgb2gray: 100%|██████████| 50000/50000 [00:04<00:00, 11154.45it/s]\n"
     ]
    },
    {
     "name": "stdout",
     "output_type": "stream",
     "text": [
      "FiltrationExtractor: processing 20/train/filtrations/6/RadialFiltration_26_12/gray, do_fit = True, filtration = RadialFiltration(center=array([26, 12]), n_jobs=-1)\n",
      "Got the result from ./20/train/filtrations/6/RadialFiltration_26_12/gray/diagrams.npy\n",
      "Applying Scaler to persistence diagrams.\n",
      "DiagramVectorizer: fitting complete\n",
      "Got the result from ./20/train/filtrations/6/RadialFiltration_26_12/gray/features.npy\n",
      "FiltrationExtractor: processing 20/train/filtrations/6/RadialFiltration_26_12/gray, do_fit = False, filtration = RadialFiltration(center=array([26, 12]), n_jobs=-1)\n",
      "Got the result from ./20/train/filtrations/6/RadialFiltration_26_12/gray/diagrams.npy\n",
      "Applying Scaler to persistence diagrams.\n",
      "Got the result from ./20/train/filtrations/6/RadialFiltration_26_12/gray/features.npy\n",
      "FiltrationExtractor: processing 20/train/filtrations/6/RadialFiltration_26_12/red, do_fit = True, filtration = RadialFiltration(center=array([26, 12]), n_jobs=-1)\n",
      "Got the result from ./20/train/filtrations/6/RadialFiltration_26_12/red/diagrams.npy\n",
      "Applying Scaler to persistence diagrams.\n",
      "DiagramVectorizer: fitting complete\n",
      "Got the result from ./20/train/filtrations/6/RadialFiltration_26_12/red/features.npy\n",
      "FiltrationExtractor: processing 20/train/filtrations/6/RadialFiltration_26_12/red, do_fit = False, filtration = RadialFiltration(center=array([26, 12]), n_jobs=-1)\n",
      "Got the result from ./20/train/filtrations/6/RadialFiltration_26_12/red/diagrams.npy\n",
      "Applying Scaler to persistence diagrams.\n",
      "Got the result from ./20/train/filtrations/6/RadialFiltration_26_12/red/features.npy\n",
      "FiltrationExtractor: processing 20/train/filtrations/6/RadialFiltration_26_12/green, do_fit = True, filtration = RadialFiltration(center=array([26, 12]), n_jobs=-1)\n",
      "Got the result from ./20/train/filtrations/6/RadialFiltration_26_12/green/diagrams.npy\n",
      "Applying Scaler to persistence diagrams.\n",
      "DiagramVectorizer: fitting complete\n",
      "Got the result from ./20/train/filtrations/6/RadialFiltration_26_12/green/features.npy\n",
      "FiltrationExtractor: processing 20/train/filtrations/6/RadialFiltration_26_12/green, do_fit = False, filtration = RadialFiltration(center=array([26, 12]), n_jobs=-1)\n",
      "Got the result from ./20/train/filtrations/6/RadialFiltration_26_12/green/diagrams.npy\n",
      "Applying Scaler to persistence diagrams.\n",
      "Got the result from ./20/train/filtrations/6/RadialFiltration_26_12/green/features.npy\n",
      "FiltrationExtractor: processing 20/train/filtrations/6/RadialFiltration_26_12/blue, do_fit = True, filtration = RadialFiltration(center=array([26, 12]), n_jobs=-1)\n",
      "Got the result from ./20/train/filtrations/6/RadialFiltration_26_12/blue/diagrams.npy\n",
      "Applying Scaler to persistence diagrams.\n",
      "DiagramVectorizer: fitting complete\n",
      "Got the result from ./20/train/filtrations/6/RadialFiltration_26_12/blue/features.npy\n",
      "FiltrationExtractor: processing 20/train/filtrations/6/RadialFiltration_26_12/blue, do_fit = False, filtration = RadialFiltration(center=array([26, 12]), n_jobs=-1)\n",
      "Got the result from ./20/train/filtrations/6/RadialFiltration_26_12/blue/diagrams.npy\n",
      "Applying Scaler to persistence diagrams.\n",
      "Got the result from ./20/train/filtrations/6/RadialFiltration_26_12/blue/features.npy\n",
      "Fitting filtration 71/72: RadialFiltration with c = (26, 19), bin. thr. = 0.6\n",
      "RGB images received. Transforming to grayscale.\n"
     ]
    },
    {
     "name": "stderr",
     "output_type": "stream",
     "text": [
      "rgb2gray: 100%|██████████| 50000/50000 [00:03<00:00, 12589.67it/s]\n"
     ]
    },
    {
     "name": "stdout",
     "output_type": "stream",
     "text": [
      "FiltrationExtractor: processing 20/train/filtrations/6/RadialFiltration_26_19/gray, do_fit = True, filtration = RadialFiltration(center=array([26, 19]), n_jobs=-1)\n",
      "Got the result from ./20/train/filtrations/6/RadialFiltration_26_19/gray/diagrams.npy\n",
      "Applying Scaler to persistence diagrams.\n",
      "DiagramVectorizer: fitting complete\n",
      "Got the result from ./20/train/filtrations/6/RadialFiltration_26_19/gray/features.npy\n",
      "FiltrationExtractor: processing 20/train/filtrations/6/RadialFiltration_26_19/gray, do_fit = False, filtration = RadialFiltration(center=array([26, 19]), n_jobs=-1)\n",
      "Got the result from ./20/train/filtrations/6/RadialFiltration_26_19/gray/diagrams.npy\n",
      "Applying Scaler to persistence diagrams.\n",
      "Got the result from ./20/train/filtrations/6/RadialFiltration_26_19/gray/features.npy\n",
      "FiltrationExtractor: processing 20/train/filtrations/6/RadialFiltration_26_19/red, do_fit = True, filtration = RadialFiltration(center=array([26, 19]), n_jobs=-1)\n",
      "Got the result from ./20/train/filtrations/6/RadialFiltration_26_19/red/diagrams.npy\n",
      "Applying Scaler to persistence diagrams.\n",
      "DiagramVectorizer: fitting complete\n",
      "Got the result from ./20/train/filtrations/6/RadialFiltration_26_19/red/features.npy\n",
      "FiltrationExtractor: processing 20/train/filtrations/6/RadialFiltration_26_19/red, do_fit = False, filtration = RadialFiltration(center=array([26, 19]), n_jobs=-1)\n",
      "Got the result from ./20/train/filtrations/6/RadialFiltration_26_19/red/diagrams.npy\n",
      "Applying Scaler to persistence diagrams.\n",
      "Got the result from ./20/train/filtrations/6/RadialFiltration_26_19/red/features.npy\n",
      "FiltrationExtractor: processing 20/train/filtrations/6/RadialFiltration_26_19/green, do_fit = True, filtration = RadialFiltration(center=array([26, 19]), n_jobs=-1)\n",
      "Got the result from ./20/train/filtrations/6/RadialFiltration_26_19/green/diagrams.npy\n",
      "Applying Scaler to persistence diagrams.\n",
      "DiagramVectorizer: fitting complete\n",
      "Got the result from ./20/train/filtrations/6/RadialFiltration_26_19/green/features.npy\n",
      "FiltrationExtractor: processing 20/train/filtrations/6/RadialFiltration_26_19/green, do_fit = False, filtration = RadialFiltration(center=array([26, 19]), n_jobs=-1)\n",
      "Got the result from ./20/train/filtrations/6/RadialFiltration_26_19/green/diagrams.npy\n",
      "Applying Scaler to persistence diagrams.\n",
      "Got the result from ./20/train/filtrations/6/RadialFiltration_26_19/green/features.npy\n",
      "FiltrationExtractor: processing 20/train/filtrations/6/RadialFiltration_26_19/blue, do_fit = True, filtration = RadialFiltration(center=array([26, 19]), n_jobs=-1)\n",
      "Got the result from ./20/train/filtrations/6/RadialFiltration_26_19/blue/diagrams.npy\n",
      "Applying Scaler to persistence diagrams.\n",
      "DiagramVectorizer: fitting complete\n",
      "Got the result from ./20/train/filtrations/6/RadialFiltration_26_19/blue/features.npy\n",
      "FiltrationExtractor: processing 20/train/filtrations/6/RadialFiltration_26_19/blue, do_fit = False, filtration = RadialFiltration(center=array([26, 19]), n_jobs=-1)\n",
      "Got the result from ./20/train/filtrations/6/RadialFiltration_26_19/blue/diagrams.npy\n",
      "Applying Scaler to persistence diagrams.\n",
      "Got the result from ./20/train/filtrations/6/RadialFiltration_26_19/blue/features.npy\n",
      "Fitting filtration 72/72: RadialFiltration with c = (26, 26), bin. thr. = 0.6\n",
      "RGB images received. Transforming to grayscale.\n"
     ]
    },
    {
     "name": "stderr",
     "output_type": "stream",
     "text": [
      "rgb2gray: 100%|██████████| 50000/50000 [00:04<00:00, 11278.99it/s]\n"
     ]
    },
    {
     "name": "stdout",
     "output_type": "stream",
     "text": [
      "FiltrationExtractor: processing 20/train/filtrations/6/RadialFiltration_26_26/gray, do_fit = True, filtration = RadialFiltration(center=array([26, 26]), n_jobs=-1)\n",
      "Got the result from ./20/train/filtrations/6/RadialFiltration_26_26/gray/diagrams.npy\n",
      "Applying Scaler to persistence diagrams.\n",
      "DiagramVectorizer: fitting complete\n",
      "Got the result from ./20/train/filtrations/6/RadialFiltration_26_26/gray/features.npy\n",
      "FiltrationExtractor: processing 20/train/filtrations/6/RadialFiltration_26_26/gray, do_fit = False, filtration = RadialFiltration(center=array([26, 26]), n_jobs=-1)\n",
      "Got the result from ./20/train/filtrations/6/RadialFiltration_26_26/gray/diagrams.npy\n",
      "Applying Scaler to persistence diagrams.\n",
      "Got the result from ./20/train/filtrations/6/RadialFiltration_26_26/gray/features.npy\n",
      "FiltrationExtractor: processing 20/train/filtrations/6/RadialFiltration_26_26/red, do_fit = True, filtration = RadialFiltration(center=array([26, 26]), n_jobs=-1)\n",
      "Got the result from ./20/train/filtrations/6/RadialFiltration_26_26/red/diagrams.npy\n",
      "Applying Scaler to persistence diagrams.\n",
      "DiagramVectorizer: fitting complete\n",
      "Got the result from ./20/train/filtrations/6/RadialFiltration_26_26/red/features.npy\n",
      "FiltrationExtractor: processing 20/train/filtrations/6/RadialFiltration_26_26/red, do_fit = False, filtration = RadialFiltration(center=array([26, 26]), n_jobs=-1)\n",
      "Got the result from ./20/train/filtrations/6/RadialFiltration_26_26/red/diagrams.npy\n",
      "Applying Scaler to persistence diagrams.\n",
      "Got the result from ./20/train/filtrations/6/RadialFiltration_26_26/red/features.npy\n",
      "FiltrationExtractor: processing 20/train/filtrations/6/RadialFiltration_26_26/green, do_fit = True, filtration = RadialFiltration(center=array([26, 26]), n_jobs=-1)\n",
      "Got the result from ./20/train/filtrations/6/RadialFiltration_26_26/green/diagrams.npy\n",
      "Applying Scaler to persistence diagrams.\n",
      "DiagramVectorizer: fitting complete\n",
      "Got the result from ./20/train/filtrations/6/RadialFiltration_26_26/green/features.npy\n",
      "FiltrationExtractor: processing 20/train/filtrations/6/RadialFiltration_26_26/green, do_fit = False, filtration = RadialFiltration(center=array([26, 26]), n_jobs=-1)\n",
      "Got the result from ./20/train/filtrations/6/RadialFiltration_26_26/green/diagrams.npy\n",
      "Applying Scaler to persistence diagrams.\n",
      "Got the result from ./20/train/filtrations/6/RadialFiltration_26_26/green/features.npy\n",
      "FiltrationExtractor: processing 20/train/filtrations/6/RadialFiltration_26_26/blue, do_fit = True, filtration = RadialFiltration(center=array([26, 26]), n_jobs=-1)\n",
      "Got the result from ./20/train/filtrations/6/RadialFiltration_26_26/blue/diagrams.npy\n",
      "Applying Scaler to persistence diagrams.\n",
      "DiagramVectorizer: fitting complete\n",
      "Got the result from ./20/train/filtrations/6/RadialFiltration_26_26/blue/features.npy\n",
      "FiltrationExtractor: processing 20/train/filtrations/6/RadialFiltration_26_26/blue, do_fit = False, filtration = RadialFiltration(center=array([26, 26]), n_jobs=-1)\n",
      "Got the result from ./20/train/filtrations/6/RadialFiltration_26_26/blue/diagrams.npy\n",
      "Applying Scaler to persistence diagrams.\n",
      "Got the result from ./20/train/filtrations/6/RadialFiltration_26_26/blue/features.npy\n",
      "Applying filtrations\n",
      "Applying filtration 1/72: HeightFiltration with d = (-1, -1), bin. thr. = 0.2\n",
      "RGB images received. Transforming to grayscale.\n"
     ]
    },
    {
     "name": "stderr",
     "output_type": "stream",
     "text": [
      "rgb2gray: 100%|██████████| 50000/50000 [00:04<00:00, 12337.70it/s]\n"
     ]
    },
    {
     "name": "stdout",
     "output_type": "stream",
     "text": [
      "FiltrationExtractor: processing 20/train/filtrations/2/HeightFiltrartion_-1_-1/gray, do_fit = False, filtration = HeightFiltration(direction=array([-1, -1]), n_jobs=-1)\n",
      "Got the result from ./20/train/filtrations/2/HeightFiltrartion_-1_-1/gray/diagrams.npy\n",
      "Applying Scaler to persistence diagrams.\n",
      "Got the result from ./20/train/filtrations/2/HeightFiltrartion_-1_-1/gray/features.npy\n",
      "FiltrationExtractor: processing 20/train/filtrations/2/HeightFiltrartion_-1_-1/red, do_fit = False, filtration = HeightFiltration(direction=array([-1, -1]), n_jobs=-1)\n",
      "Got the result from ./20/train/filtrations/2/HeightFiltrartion_-1_-1/red/diagrams.npy\n",
      "Applying Scaler to persistence diagrams.\n",
      "Got the result from ./20/train/filtrations/2/HeightFiltrartion_-1_-1/red/features.npy\n",
      "FiltrationExtractor: processing 20/train/filtrations/2/HeightFiltrartion_-1_-1/green, do_fit = False, filtration = HeightFiltration(direction=array([-1, -1]), n_jobs=-1)\n",
      "Got the result from ./20/train/filtrations/2/HeightFiltrartion_-1_-1/green/diagrams.npy\n",
      "Applying Scaler to persistence diagrams.\n",
      "Got the result from ./20/train/filtrations/2/HeightFiltrartion_-1_-1/green/features.npy\n",
      "FiltrationExtractor: processing 20/train/filtrations/2/HeightFiltrartion_-1_-1/blue, do_fit = False, filtration = HeightFiltration(direction=array([-1, -1]), n_jobs=-1)\n",
      "Got the result from ./20/train/filtrations/2/HeightFiltrartion_-1_-1/blue/diagrams.npy\n",
      "Applying Scaler to persistence diagrams.\n",
      "Got the result from ./20/train/filtrations/2/HeightFiltrartion_-1_-1/blue/features.npy\n",
      "Applying filtration 2/72: HeightFiltration with d = (-1, 0), bin. thr. = 0.2\n",
      "RGB images received. Transforming to grayscale.\n"
     ]
    },
    {
     "name": "stderr",
     "output_type": "stream",
     "text": [
      "rgb2gray: 100%|██████████| 50000/50000 [00:04<00:00, 11078.59it/s]\n"
     ]
    },
    {
     "name": "stdout",
     "output_type": "stream",
     "text": [
      "FiltrationExtractor: processing 20/train/filtrations/2/HeightFiltrartion_-1_0/gray, do_fit = False, filtration = HeightFiltration(direction=array([-1,  0]), n_jobs=-1)\n",
      "Got the result from ./20/train/filtrations/2/HeightFiltrartion_-1_0/gray/diagrams.npy\n",
      "Applying Scaler to persistence diagrams.\n",
      "Got the result from ./20/train/filtrations/2/HeightFiltrartion_-1_0/gray/features.npy\n",
      "FiltrationExtractor: processing 20/train/filtrations/2/HeightFiltrartion_-1_0/red, do_fit = False, filtration = HeightFiltration(direction=array([-1,  0]), n_jobs=-1)\n",
      "Got the result from ./20/train/filtrations/2/HeightFiltrartion_-1_0/red/diagrams.npy\n",
      "Applying Scaler to persistence diagrams.\n",
      "Got the result from ./20/train/filtrations/2/HeightFiltrartion_-1_0/red/features.npy\n",
      "FiltrationExtractor: processing 20/train/filtrations/2/HeightFiltrartion_-1_0/green, do_fit = False, filtration = HeightFiltration(direction=array([-1,  0]), n_jobs=-1)\n",
      "Got the result from ./20/train/filtrations/2/HeightFiltrartion_-1_0/green/diagrams.npy\n",
      "Applying Scaler to persistence diagrams.\n",
      "Got the result from ./20/train/filtrations/2/HeightFiltrartion_-1_0/green/features.npy\n",
      "FiltrationExtractor: processing 20/train/filtrations/2/HeightFiltrartion_-1_0/blue, do_fit = False, filtration = HeightFiltration(direction=array([-1,  0]), n_jobs=-1)\n",
      "Got the result from ./20/train/filtrations/2/HeightFiltrartion_-1_0/blue/diagrams.npy\n",
      "Applying Scaler to persistence diagrams.\n",
      "Got the result from ./20/train/filtrations/2/HeightFiltrartion_-1_0/blue/features.npy\n",
      "Applying filtration 3/72: HeightFiltration with d = (-1, 1), bin. thr. = 0.2\n",
      "RGB images received. Transforming to grayscale.\n"
     ]
    },
    {
     "name": "stderr",
     "output_type": "stream",
     "text": [
      "rgb2gray: 100%|██████████| 50000/50000 [00:05<00:00, 9843.39it/s] \n"
     ]
    },
    {
     "name": "stdout",
     "output_type": "stream",
     "text": [
      "FiltrationExtractor: processing 20/train/filtrations/2/HeightFiltrartion_-1_1/gray, do_fit = False, filtration = HeightFiltration(direction=array([-1,  1]), n_jobs=-1)\n",
      "Got the result from ./20/train/filtrations/2/HeightFiltrartion_-1_1/gray/diagrams.npy\n",
      "Applying Scaler to persistence diagrams.\n",
      "Got the result from ./20/train/filtrations/2/HeightFiltrartion_-1_1/gray/features.npy\n",
      "FiltrationExtractor: processing 20/train/filtrations/2/HeightFiltrartion_-1_1/red, do_fit = False, filtration = HeightFiltration(direction=array([-1,  1]), n_jobs=-1)\n",
      "Got the result from ./20/train/filtrations/2/HeightFiltrartion_-1_1/red/diagrams.npy\n",
      "Applying Scaler to persistence diagrams.\n",
      "Got the result from ./20/train/filtrations/2/HeightFiltrartion_-1_1/red/features.npy\n",
      "FiltrationExtractor: processing 20/train/filtrations/2/HeightFiltrartion_-1_1/green, do_fit = False, filtration = HeightFiltration(direction=array([-1,  1]), n_jobs=-1)\n",
      "Got the result from ./20/train/filtrations/2/HeightFiltrartion_-1_1/green/diagrams.npy\n",
      "Applying Scaler to persistence diagrams.\n",
      "Got the result from ./20/train/filtrations/2/HeightFiltrartion_-1_1/green/features.npy\n",
      "FiltrationExtractor: processing 20/train/filtrations/2/HeightFiltrartion_-1_1/blue, do_fit = False, filtration = HeightFiltration(direction=array([-1,  1]), n_jobs=-1)\n",
      "Got the result from ./20/train/filtrations/2/HeightFiltrartion_-1_1/blue/diagrams.npy\n",
      "Applying Scaler to persistence diagrams.\n",
      "Got the result from ./20/train/filtrations/2/HeightFiltrartion_-1_1/blue/features.npy\n",
      "Applying filtration 4/72: HeightFiltration with d = (0, -1), bin. thr. = 0.2\n",
      "RGB images received. Transforming to grayscale.\n"
     ]
    },
    {
     "name": "stderr",
     "output_type": "stream",
     "text": [
      "rgb2gray: 100%|██████████| 50000/50000 [00:04<00:00, 10666.62it/s]\n"
     ]
    },
    {
     "name": "stdout",
     "output_type": "stream",
     "text": [
      "FiltrationExtractor: processing 20/train/filtrations/2/HeightFiltrartion_0_-1/gray, do_fit = False, filtration = HeightFiltration(direction=array([ 0, -1]), n_jobs=-1)\n",
      "Got the result from ./20/train/filtrations/2/HeightFiltrartion_0_-1/gray/diagrams.npy\n",
      "Applying Scaler to persistence diagrams.\n",
      "Got the result from ./20/train/filtrations/2/HeightFiltrartion_0_-1/gray/features.npy\n",
      "FiltrationExtractor: processing 20/train/filtrations/2/HeightFiltrartion_0_-1/red, do_fit = False, filtration = HeightFiltration(direction=array([ 0, -1]), n_jobs=-1)\n",
      "Got the result from ./20/train/filtrations/2/HeightFiltrartion_0_-1/red/diagrams.npy\n",
      "Applying Scaler to persistence diagrams.\n",
      "Got the result from ./20/train/filtrations/2/HeightFiltrartion_0_-1/red/features.npy\n",
      "FiltrationExtractor: processing 20/train/filtrations/2/HeightFiltrartion_0_-1/green, do_fit = False, filtration = HeightFiltration(direction=array([ 0, -1]), n_jobs=-1)\n",
      "Got the result from ./20/train/filtrations/2/HeightFiltrartion_0_-1/green/diagrams.npy\n",
      "Applying Scaler to persistence diagrams.\n",
      "Got the result from ./20/train/filtrations/2/HeightFiltrartion_0_-1/green/features.npy\n",
      "FiltrationExtractor: processing 20/train/filtrations/2/HeightFiltrartion_0_-1/blue, do_fit = False, filtration = HeightFiltration(direction=array([ 0, -1]), n_jobs=-1)\n",
      "Got the result from ./20/train/filtrations/2/HeightFiltrartion_0_-1/blue/diagrams.npy\n",
      "Applying Scaler to persistence diagrams.\n",
      "Got the result from ./20/train/filtrations/2/HeightFiltrartion_0_-1/blue/features.npy\n",
      "Applying filtration 5/72: HeightFiltration with d = (0, 1), bin. thr. = 0.2\n",
      "RGB images received. Transforming to grayscale.\n"
     ]
    },
    {
     "name": "stderr",
     "output_type": "stream",
     "text": [
      "rgb2gray: 100%|██████████| 50000/50000 [00:04<00:00, 12321.70it/s]\n"
     ]
    },
    {
     "name": "stdout",
     "output_type": "stream",
     "text": [
      "FiltrationExtractor: processing 20/train/filtrations/2/HeightFiltrartion_0_1/gray, do_fit = False, filtration = HeightFiltration(direction=array([0, 1]), n_jobs=-1)\n",
      "Got the result from ./20/train/filtrations/2/HeightFiltrartion_0_1/gray/diagrams.npy\n",
      "Applying Scaler to persistence diagrams.\n",
      "Got the result from ./20/train/filtrations/2/HeightFiltrartion_0_1/gray/features.npy\n",
      "FiltrationExtractor: processing 20/train/filtrations/2/HeightFiltrartion_0_1/red, do_fit = False, filtration = HeightFiltration(direction=array([0, 1]), n_jobs=-1)\n",
      "Got the result from ./20/train/filtrations/2/HeightFiltrartion_0_1/red/diagrams.npy\n",
      "Applying Scaler to persistence diagrams.\n",
      "Got the result from ./20/train/filtrations/2/HeightFiltrartion_0_1/red/features.npy\n",
      "FiltrationExtractor: processing 20/train/filtrations/2/HeightFiltrartion_0_1/green, do_fit = False, filtration = HeightFiltration(direction=array([0, 1]), n_jobs=-1)\n",
      "Got the result from ./20/train/filtrations/2/HeightFiltrartion_0_1/green/diagrams.npy\n",
      "Applying Scaler to persistence diagrams.\n",
      "Got the result from ./20/train/filtrations/2/HeightFiltrartion_0_1/green/features.npy\n",
      "FiltrationExtractor: processing 20/train/filtrations/2/HeightFiltrartion_0_1/blue, do_fit = False, filtration = HeightFiltration(direction=array([0, 1]), n_jobs=-1)\n",
      "Got the result from ./20/train/filtrations/2/HeightFiltrartion_0_1/blue/diagrams.npy\n",
      "Applying Scaler to persistence diagrams.\n",
      "Got the result from ./20/train/filtrations/2/HeightFiltrartion_0_1/blue/features.npy\n",
      "Applying filtration 6/72: HeightFiltration with d = (1, -1), bin. thr. = 0.2\n",
      "RGB images received. Transforming to grayscale.\n"
     ]
    },
    {
     "name": "stderr",
     "output_type": "stream",
     "text": [
      "rgb2gray: 100%|██████████| 50000/50000 [00:04<00:00, 10843.90it/s]\n"
     ]
    },
    {
     "name": "stdout",
     "output_type": "stream",
     "text": [
      "FiltrationExtractor: processing 20/train/filtrations/2/HeightFiltrartion_1_-1/gray, do_fit = False, filtration = HeightFiltration(direction=array([ 1, -1]), n_jobs=-1)\n",
      "Got the result from ./20/train/filtrations/2/HeightFiltrartion_1_-1/gray/diagrams.npy\n",
      "Applying Scaler to persistence diagrams.\n",
      "Got the result from ./20/train/filtrations/2/HeightFiltrartion_1_-1/gray/features.npy\n",
      "FiltrationExtractor: processing 20/train/filtrations/2/HeightFiltrartion_1_-1/red, do_fit = False, filtration = HeightFiltration(direction=array([ 1, -1]), n_jobs=-1)\n",
      "Got the result from ./20/train/filtrations/2/HeightFiltrartion_1_-1/red/diagrams.npy\n",
      "Applying Scaler to persistence diagrams.\n",
      "Got the result from ./20/train/filtrations/2/HeightFiltrartion_1_-1/red/features.npy\n",
      "FiltrationExtractor: processing 20/train/filtrations/2/HeightFiltrartion_1_-1/green, do_fit = False, filtration = HeightFiltration(direction=array([ 1, -1]), n_jobs=-1)\n",
      "Got the result from ./20/train/filtrations/2/HeightFiltrartion_1_-1/green/diagrams.npy\n",
      "Applying Scaler to persistence diagrams.\n",
      "Got the result from ./20/train/filtrations/2/HeightFiltrartion_1_-1/green/features.npy\n",
      "FiltrationExtractor: processing 20/train/filtrations/2/HeightFiltrartion_1_-1/blue, do_fit = False, filtration = HeightFiltration(direction=array([ 1, -1]), n_jobs=-1)\n",
      "Got the result from ./20/train/filtrations/2/HeightFiltrartion_1_-1/blue/diagrams.npy\n",
      "Applying Scaler to persistence diagrams.\n",
      "Got the result from ./20/train/filtrations/2/HeightFiltrartion_1_-1/blue/features.npy\n",
      "Applying filtration 7/72: HeightFiltration with d = (1, 0), bin. thr. = 0.2\n",
      "RGB images received. Transforming to grayscale.\n"
     ]
    },
    {
     "name": "stderr",
     "output_type": "stream",
     "text": [
      "rgb2gray: 100%|██████████| 50000/50000 [00:04<00:00, 11671.28it/s]\n"
     ]
    },
    {
     "name": "stdout",
     "output_type": "stream",
     "text": [
      "FiltrationExtractor: processing 20/train/filtrations/2/HeightFiltrartion_1_0/gray, do_fit = False, filtration = HeightFiltration(direction=array([1, 0]), n_jobs=-1)\n",
      "Got the result from ./20/train/filtrations/2/HeightFiltrartion_1_0/gray/diagrams.npy\n",
      "Applying Scaler to persistence diagrams.\n",
      "Got the result from ./20/train/filtrations/2/HeightFiltrartion_1_0/gray/features.npy\n",
      "FiltrationExtractor: processing 20/train/filtrations/2/HeightFiltrartion_1_0/red, do_fit = False, filtration = HeightFiltration(direction=array([1, 0]), n_jobs=-1)\n",
      "Got the result from ./20/train/filtrations/2/HeightFiltrartion_1_0/red/diagrams.npy\n",
      "Applying Scaler to persistence diagrams.\n",
      "Got the result from ./20/train/filtrations/2/HeightFiltrartion_1_0/red/features.npy\n",
      "FiltrationExtractor: processing 20/train/filtrations/2/HeightFiltrartion_1_0/green, do_fit = False, filtration = HeightFiltration(direction=array([1, 0]), n_jobs=-1)\n",
      "Got the result from ./20/train/filtrations/2/HeightFiltrartion_1_0/green/diagrams.npy\n",
      "Applying Scaler to persistence diagrams.\n",
      "Got the result from ./20/train/filtrations/2/HeightFiltrartion_1_0/green/features.npy\n",
      "FiltrationExtractor: processing 20/train/filtrations/2/HeightFiltrartion_1_0/blue, do_fit = False, filtration = HeightFiltration(direction=array([1, 0]), n_jobs=-1)\n",
      "Got the result from ./20/train/filtrations/2/HeightFiltrartion_1_0/blue/diagrams.npy\n",
      "Applying Scaler to persistence diagrams.\n",
      "Got the result from ./20/train/filtrations/2/HeightFiltrartion_1_0/blue/features.npy\n",
      "Applying filtration 8/72: HeightFiltration with d = (1, 1), bin. thr. = 0.2\n",
      "RGB images received. Transforming to grayscale.\n"
     ]
    },
    {
     "name": "stderr",
     "output_type": "stream",
     "text": [
      "rgb2gray: 100%|██████████| 50000/50000 [00:04<00:00, 12445.78it/s]\n"
     ]
    },
    {
     "name": "stdout",
     "output_type": "stream",
     "text": [
      "FiltrationExtractor: processing 20/train/filtrations/2/HeightFiltrartion_1_1/gray, do_fit = False, filtration = HeightFiltration(direction=array([1, 1]), n_jobs=-1)\n",
      "Got the result from ./20/train/filtrations/2/HeightFiltrartion_1_1/gray/diagrams.npy\n",
      "Applying Scaler to persistence diagrams.\n",
      "Got the result from ./20/train/filtrations/2/HeightFiltrartion_1_1/gray/features.npy\n",
      "FiltrationExtractor: processing 20/train/filtrations/2/HeightFiltrartion_1_1/red, do_fit = False, filtration = HeightFiltration(direction=array([1, 1]), n_jobs=-1)\n",
      "Got the result from ./20/train/filtrations/2/HeightFiltrartion_1_1/red/diagrams.npy\n",
      "Applying Scaler to persistence diagrams.\n",
      "Got the result from ./20/train/filtrations/2/HeightFiltrartion_1_1/red/features.npy\n",
      "FiltrationExtractor: processing 20/train/filtrations/2/HeightFiltrartion_1_1/green, do_fit = False, filtration = HeightFiltration(direction=array([1, 1]), n_jobs=-1)\n",
      "Got the result from ./20/train/filtrations/2/HeightFiltrartion_1_1/green/diagrams.npy\n",
      "Applying Scaler to persistence diagrams.\n",
      "Got the result from ./20/train/filtrations/2/HeightFiltrartion_1_1/green/features.npy\n",
      "FiltrationExtractor: processing 20/train/filtrations/2/HeightFiltrartion_1_1/blue, do_fit = False, filtration = HeightFiltration(direction=array([1, 1]), n_jobs=-1)\n",
      "Got the result from ./20/train/filtrations/2/HeightFiltrartion_1_1/blue/diagrams.npy\n",
      "Applying Scaler to persistence diagrams.\n",
      "Got the result from ./20/train/filtrations/2/HeightFiltrartion_1_1/blue/features.npy\n",
      "Applying filtration 9/72: RadialFiltration with c = (5, 5), bin. thr. = 0.2\n",
      "RGB images received. Transforming to grayscale.\n"
     ]
    },
    {
     "name": "stderr",
     "output_type": "stream",
     "text": [
      "rgb2gray: 100%|██████████| 50000/50000 [00:04<00:00, 12262.06it/s]\n"
     ]
    },
    {
     "name": "stdout",
     "output_type": "stream",
     "text": [
      "FiltrationExtractor: processing 20/train/filtrations/2/RadialFiltration_5_5/gray, do_fit = False, filtration = RadialFiltration(center=array([5, 5]), n_jobs=-1)\n",
      "Got the result from ./20/train/filtrations/2/RadialFiltration_5_5/gray/diagrams.npy\n",
      "Applying Scaler to persistence diagrams.\n",
      "Got the result from ./20/train/filtrations/2/RadialFiltration_5_5/gray/features.npy\n",
      "FiltrationExtractor: processing 20/train/filtrations/2/RadialFiltration_5_5/red, do_fit = False, filtration = RadialFiltration(center=array([5, 5]), n_jobs=-1)\n",
      "Got the result from ./20/train/filtrations/2/RadialFiltration_5_5/red/diagrams.npy\n",
      "Applying Scaler to persistence diagrams.\n",
      "Got the result from ./20/train/filtrations/2/RadialFiltration_5_5/red/features.npy\n",
      "FiltrationExtractor: processing 20/train/filtrations/2/RadialFiltration_5_5/green, do_fit = False, filtration = RadialFiltration(center=array([5, 5]), n_jobs=-1)\n",
      "Got the result from ./20/train/filtrations/2/RadialFiltration_5_5/green/diagrams.npy\n",
      "Applying Scaler to persistence diagrams.\n",
      "Got the result from ./20/train/filtrations/2/RadialFiltration_5_5/green/features.npy\n",
      "FiltrationExtractor: processing 20/train/filtrations/2/RadialFiltration_5_5/blue, do_fit = False, filtration = RadialFiltration(center=array([5, 5]), n_jobs=-1)\n",
      "Got the result from ./20/train/filtrations/2/RadialFiltration_5_5/blue/diagrams.npy\n",
      "Applying Scaler to persistence diagrams.\n",
      "Got the result from ./20/train/filtrations/2/RadialFiltration_5_5/blue/features.npy\n",
      "Applying filtration 10/72: RadialFiltration with c = (5, 12), bin. thr. = 0.2\n",
      "RGB images received. Transforming to grayscale.\n"
     ]
    },
    {
     "name": "stderr",
     "output_type": "stream",
     "text": [
      "rgb2gray: 100%|██████████| 50000/50000 [00:04<00:00, 11083.97it/s]\n"
     ]
    },
    {
     "name": "stdout",
     "output_type": "stream",
     "text": [
      "FiltrationExtractor: processing 20/train/filtrations/2/RadialFiltration_5_12/gray, do_fit = False, filtration = RadialFiltration(center=array([ 5, 12]), n_jobs=-1)\n",
      "Got the result from ./20/train/filtrations/2/RadialFiltration_5_12/gray/diagrams.npy\n",
      "Applying Scaler to persistence diagrams.\n",
      "Got the result from ./20/train/filtrations/2/RadialFiltration_5_12/gray/features.npy\n",
      "FiltrationExtractor: processing 20/train/filtrations/2/RadialFiltration_5_12/red, do_fit = False, filtration = RadialFiltration(center=array([ 5, 12]), n_jobs=-1)\n",
      "Got the result from ./20/train/filtrations/2/RadialFiltration_5_12/red/diagrams.npy\n",
      "Applying Scaler to persistence diagrams.\n",
      "Got the result from ./20/train/filtrations/2/RadialFiltration_5_12/red/features.npy\n",
      "FiltrationExtractor: processing 20/train/filtrations/2/RadialFiltration_5_12/green, do_fit = False, filtration = RadialFiltration(center=array([ 5, 12]), n_jobs=-1)\n",
      "Got the result from ./20/train/filtrations/2/RadialFiltration_5_12/green/diagrams.npy\n",
      "Applying Scaler to persistence diagrams.\n",
      "Got the result from ./20/train/filtrations/2/RadialFiltration_5_12/green/features.npy\n",
      "FiltrationExtractor: processing 20/train/filtrations/2/RadialFiltration_5_12/blue, do_fit = False, filtration = RadialFiltration(center=array([ 5, 12]), n_jobs=-1)\n",
      "Got the result from ./20/train/filtrations/2/RadialFiltration_5_12/blue/diagrams.npy\n",
      "Applying Scaler to persistence diagrams.\n",
      "Got the result from ./20/train/filtrations/2/RadialFiltration_5_12/blue/features.npy\n",
      "Applying filtration 11/72: RadialFiltration with c = (5, 19), bin. thr. = 0.2\n",
      "RGB images received. Transforming to grayscale.\n"
     ]
    },
    {
     "name": "stderr",
     "output_type": "stream",
     "text": [
      "rgb2gray: 100%|██████████| 50000/50000 [00:04<00:00, 10612.31it/s]\n"
     ]
    },
    {
     "name": "stdout",
     "output_type": "stream",
     "text": [
      "FiltrationExtractor: processing 20/train/filtrations/2/RadialFiltration_5_19/gray, do_fit = False, filtration = RadialFiltration(center=array([ 5, 19]), n_jobs=-1)\n",
      "Got the result from ./20/train/filtrations/2/RadialFiltration_5_19/gray/diagrams.npy\n",
      "Applying Scaler to persistence diagrams.\n",
      "Got the result from ./20/train/filtrations/2/RadialFiltration_5_19/gray/features.npy\n",
      "FiltrationExtractor: processing 20/train/filtrations/2/RadialFiltration_5_19/red, do_fit = False, filtration = RadialFiltration(center=array([ 5, 19]), n_jobs=-1)\n",
      "Got the result from ./20/train/filtrations/2/RadialFiltration_5_19/red/diagrams.npy\n",
      "Applying Scaler to persistence diagrams.\n",
      "Got the result from ./20/train/filtrations/2/RadialFiltration_5_19/red/features.npy\n",
      "FiltrationExtractor: processing 20/train/filtrations/2/RadialFiltration_5_19/green, do_fit = False, filtration = RadialFiltration(center=array([ 5, 19]), n_jobs=-1)\n",
      "Got the result from ./20/train/filtrations/2/RadialFiltration_5_19/green/diagrams.npy\n",
      "Applying Scaler to persistence diagrams.\n",
      "Got the result from ./20/train/filtrations/2/RadialFiltration_5_19/green/features.npy\n",
      "FiltrationExtractor: processing 20/train/filtrations/2/RadialFiltration_5_19/blue, do_fit = False, filtration = RadialFiltration(center=array([ 5, 19]), n_jobs=-1)\n",
      "Got the result from ./20/train/filtrations/2/RadialFiltration_5_19/blue/diagrams.npy\n",
      "Applying Scaler to persistence diagrams.\n",
      "Got the result from ./20/train/filtrations/2/RadialFiltration_5_19/blue/features.npy\n",
      "Applying filtration 12/72: RadialFiltration with c = (5, 26), bin. thr. = 0.2\n",
      "RGB images received. Transforming to grayscale.\n"
     ]
    },
    {
     "name": "stderr",
     "output_type": "stream",
     "text": [
      "rgb2gray: 100%|██████████| 50000/50000 [00:04<00:00, 11001.07it/s]\n"
     ]
    },
    {
     "name": "stdout",
     "output_type": "stream",
     "text": [
      "FiltrationExtractor: processing 20/train/filtrations/2/RadialFiltration_5_26/gray, do_fit = False, filtration = RadialFiltration(center=array([ 5, 26]), n_jobs=-1)\n",
      "Got the result from ./20/train/filtrations/2/RadialFiltration_5_26/gray/diagrams.npy\n",
      "Applying Scaler to persistence diagrams.\n",
      "Got the result from ./20/train/filtrations/2/RadialFiltration_5_26/gray/features.npy\n",
      "FiltrationExtractor: processing 20/train/filtrations/2/RadialFiltration_5_26/red, do_fit = False, filtration = RadialFiltration(center=array([ 5, 26]), n_jobs=-1)\n",
      "Got the result from ./20/train/filtrations/2/RadialFiltration_5_26/red/diagrams.npy\n",
      "Applying Scaler to persistence diagrams.\n",
      "Got the result from ./20/train/filtrations/2/RadialFiltration_5_26/red/features.npy\n",
      "FiltrationExtractor: processing 20/train/filtrations/2/RadialFiltration_5_26/green, do_fit = False, filtration = RadialFiltration(center=array([ 5, 26]), n_jobs=-1)\n",
      "Got the result from ./20/train/filtrations/2/RadialFiltration_5_26/green/diagrams.npy\n",
      "Applying Scaler to persistence diagrams.\n",
      "Got the result from ./20/train/filtrations/2/RadialFiltration_5_26/green/features.npy\n",
      "FiltrationExtractor: processing 20/train/filtrations/2/RadialFiltration_5_26/blue, do_fit = False, filtration = RadialFiltration(center=array([ 5, 26]), n_jobs=-1)\n",
      "Got the result from ./20/train/filtrations/2/RadialFiltration_5_26/blue/diagrams.npy\n",
      "Applying Scaler to persistence diagrams.\n",
      "Got the result from ./20/train/filtrations/2/RadialFiltration_5_26/blue/features.npy\n",
      "Applying filtration 13/72: RadialFiltration with c = (12, 5), bin. thr. = 0.2\n",
      "RGB images received. Transforming to grayscale.\n"
     ]
    },
    {
     "name": "stderr",
     "output_type": "stream",
     "text": [
      "rgb2gray: 100%|██████████| 50000/50000 [00:04<00:00, 10459.97it/s]\n"
     ]
    },
    {
     "name": "stdout",
     "output_type": "stream",
     "text": [
      "FiltrationExtractor: processing 20/train/filtrations/2/RadialFiltration_12_5/gray, do_fit = False, filtration = RadialFiltration(center=array([12,  5]), n_jobs=-1)\n",
      "Got the result from ./20/train/filtrations/2/RadialFiltration_12_5/gray/diagrams.npy\n",
      "Applying Scaler to persistence diagrams.\n",
      "Got the result from ./20/train/filtrations/2/RadialFiltration_12_5/gray/features.npy\n",
      "FiltrationExtractor: processing 20/train/filtrations/2/RadialFiltration_12_5/red, do_fit = False, filtration = RadialFiltration(center=array([12,  5]), n_jobs=-1)\n",
      "Got the result from ./20/train/filtrations/2/RadialFiltration_12_5/red/diagrams.npy\n",
      "Applying Scaler to persistence diagrams.\n",
      "Got the result from ./20/train/filtrations/2/RadialFiltration_12_5/red/features.npy\n",
      "FiltrationExtractor: processing 20/train/filtrations/2/RadialFiltration_12_5/green, do_fit = False, filtration = RadialFiltration(center=array([12,  5]), n_jobs=-1)\n",
      "Got the result from ./20/train/filtrations/2/RadialFiltration_12_5/green/diagrams.npy\n",
      "Applying Scaler to persistence diagrams.\n",
      "Got the result from ./20/train/filtrations/2/RadialFiltration_12_5/green/features.npy\n",
      "FiltrationExtractor: processing 20/train/filtrations/2/RadialFiltration_12_5/blue, do_fit = False, filtration = RadialFiltration(center=array([12,  5]), n_jobs=-1)\n",
      "Got the result from ./20/train/filtrations/2/RadialFiltration_12_5/blue/diagrams.npy\n",
      "Applying Scaler to persistence diagrams.\n",
      "Got the result from ./20/train/filtrations/2/RadialFiltration_12_5/blue/features.npy\n",
      "Applying filtration 14/72: RadialFiltration with c = (12, 12), bin. thr. = 0.2\n",
      "RGB images received. Transforming to grayscale.\n"
     ]
    },
    {
     "name": "stderr",
     "output_type": "stream",
     "text": [
      "rgb2gray: 100%|██████████| 50000/50000 [00:04<00:00, 11108.00it/s]\n"
     ]
    },
    {
     "name": "stdout",
     "output_type": "stream",
     "text": [
      "FiltrationExtractor: processing 20/train/filtrations/2/RadialFiltration_12_12/gray, do_fit = False, filtration = RadialFiltration(center=array([12, 12]), n_jobs=-1)\n",
      "Got the result from ./20/train/filtrations/2/RadialFiltration_12_12/gray/diagrams.npy\n",
      "Applying Scaler to persistence diagrams.\n",
      "Got the result from ./20/train/filtrations/2/RadialFiltration_12_12/gray/features.npy\n",
      "FiltrationExtractor: processing 20/train/filtrations/2/RadialFiltration_12_12/red, do_fit = False, filtration = RadialFiltration(center=array([12, 12]), n_jobs=-1)\n",
      "Got the result from ./20/train/filtrations/2/RadialFiltration_12_12/red/diagrams.npy\n",
      "Applying Scaler to persistence diagrams.\n",
      "Got the result from ./20/train/filtrations/2/RadialFiltration_12_12/red/features.npy\n",
      "FiltrationExtractor: processing 20/train/filtrations/2/RadialFiltration_12_12/green, do_fit = False, filtration = RadialFiltration(center=array([12, 12]), n_jobs=-1)\n",
      "Got the result from ./20/train/filtrations/2/RadialFiltration_12_12/green/diagrams.npy\n",
      "Applying Scaler to persistence diagrams.\n",
      "Got the result from ./20/train/filtrations/2/RadialFiltration_12_12/green/features.npy\n",
      "FiltrationExtractor: processing 20/train/filtrations/2/RadialFiltration_12_12/blue, do_fit = False, filtration = RadialFiltration(center=array([12, 12]), n_jobs=-1)\n",
      "Got the result from ./20/train/filtrations/2/RadialFiltration_12_12/blue/diagrams.npy\n",
      "Applying Scaler to persistence diagrams.\n",
      "Got the result from ./20/train/filtrations/2/RadialFiltration_12_12/blue/features.npy\n",
      "Applying filtration 15/72: RadialFiltration with c = (12, 19), bin. thr. = 0.2\n",
      "RGB images received. Transforming to grayscale.\n"
     ]
    },
    {
     "name": "stderr",
     "output_type": "stream",
     "text": [
      "rgb2gray: 100%|██████████| 50000/50000 [00:04<00:00, 12237.00it/s]\n"
     ]
    },
    {
     "name": "stdout",
     "output_type": "stream",
     "text": [
      "FiltrationExtractor: processing 20/train/filtrations/2/RadialFiltration_12_19/gray, do_fit = False, filtration = RadialFiltration(center=array([12, 19]), n_jobs=-1)\n",
      "Got the result from ./20/train/filtrations/2/RadialFiltration_12_19/gray/diagrams.npy\n",
      "Applying Scaler to persistence diagrams.\n",
      "Got the result from ./20/train/filtrations/2/RadialFiltration_12_19/gray/features.npy\n",
      "FiltrationExtractor: processing 20/train/filtrations/2/RadialFiltration_12_19/red, do_fit = False, filtration = RadialFiltration(center=array([12, 19]), n_jobs=-1)\n",
      "Got the result from ./20/train/filtrations/2/RadialFiltration_12_19/red/diagrams.npy\n",
      "Applying Scaler to persistence diagrams.\n",
      "Got the result from ./20/train/filtrations/2/RadialFiltration_12_19/red/features.npy\n",
      "FiltrationExtractor: processing 20/train/filtrations/2/RadialFiltration_12_19/green, do_fit = False, filtration = RadialFiltration(center=array([12, 19]), n_jobs=-1)\n",
      "Got the result from ./20/train/filtrations/2/RadialFiltration_12_19/green/diagrams.npy\n",
      "Applying Scaler to persistence diagrams.\n",
      "Got the result from ./20/train/filtrations/2/RadialFiltration_12_19/green/features.npy\n",
      "FiltrationExtractor: processing 20/train/filtrations/2/RadialFiltration_12_19/blue, do_fit = False, filtration = RadialFiltration(center=array([12, 19]), n_jobs=-1)\n",
      "Got the result from ./20/train/filtrations/2/RadialFiltration_12_19/blue/diagrams.npy\n",
      "Applying Scaler to persistence diagrams.\n",
      "Got the result from ./20/train/filtrations/2/RadialFiltration_12_19/blue/features.npy\n",
      "Applying filtration 16/72: RadialFiltration with c = (12, 26), bin. thr. = 0.2\n",
      "RGB images received. Transforming to grayscale.\n"
     ]
    },
    {
     "name": "stderr",
     "output_type": "stream",
     "text": [
      "rgb2gray: 100%|██████████| 50000/50000 [00:04<00:00, 12354.26it/s]\n"
     ]
    },
    {
     "name": "stdout",
     "output_type": "stream",
     "text": [
      "FiltrationExtractor: processing 20/train/filtrations/2/RadialFiltration_12_26/gray, do_fit = False, filtration = RadialFiltration(center=array([12, 26]), n_jobs=-1)\n",
      "Got the result from ./20/train/filtrations/2/RadialFiltration_12_26/gray/diagrams.npy\n",
      "Applying Scaler to persistence diagrams.\n",
      "Got the result from ./20/train/filtrations/2/RadialFiltration_12_26/gray/features.npy\n",
      "FiltrationExtractor: processing 20/train/filtrations/2/RadialFiltration_12_26/red, do_fit = False, filtration = RadialFiltration(center=array([12, 26]), n_jobs=-1)\n",
      "Got the result from ./20/train/filtrations/2/RadialFiltration_12_26/red/diagrams.npy\n",
      "Applying Scaler to persistence diagrams.\n",
      "Got the result from ./20/train/filtrations/2/RadialFiltration_12_26/red/features.npy\n",
      "FiltrationExtractor: processing 20/train/filtrations/2/RadialFiltration_12_26/green, do_fit = False, filtration = RadialFiltration(center=array([12, 26]), n_jobs=-1)\n",
      "Got the result from ./20/train/filtrations/2/RadialFiltration_12_26/green/diagrams.npy\n",
      "Applying Scaler to persistence diagrams.\n",
      "Got the result from ./20/train/filtrations/2/RadialFiltration_12_26/green/features.npy\n",
      "FiltrationExtractor: processing 20/train/filtrations/2/RadialFiltration_12_26/blue, do_fit = False, filtration = RadialFiltration(center=array([12, 26]), n_jobs=-1)\n",
      "Got the result from ./20/train/filtrations/2/RadialFiltration_12_26/blue/diagrams.npy\n",
      "Applying Scaler to persistence diagrams.\n",
      "Got the result from ./20/train/filtrations/2/RadialFiltration_12_26/blue/features.npy\n",
      "Applying filtration 17/72: RadialFiltration with c = (19, 5), bin. thr. = 0.2\n",
      "RGB images received. Transforming to grayscale.\n"
     ]
    },
    {
     "name": "stderr",
     "output_type": "stream",
     "text": [
      "rgb2gray: 100%|██████████| 50000/50000 [00:04<00:00, 10334.79it/s]\n"
     ]
    },
    {
     "name": "stdout",
     "output_type": "stream",
     "text": [
      "FiltrationExtractor: processing 20/train/filtrations/2/RadialFiltration_19_5/gray, do_fit = False, filtration = RadialFiltration(center=array([19,  5]), n_jobs=-1)\n",
      "Got the result from ./20/train/filtrations/2/RadialFiltration_19_5/gray/diagrams.npy\n",
      "Applying Scaler to persistence diagrams.\n",
      "Got the result from ./20/train/filtrations/2/RadialFiltration_19_5/gray/features.npy\n",
      "FiltrationExtractor: processing 20/train/filtrations/2/RadialFiltration_19_5/red, do_fit = False, filtration = RadialFiltration(center=array([19,  5]), n_jobs=-1)\n",
      "Got the result from ./20/train/filtrations/2/RadialFiltration_19_5/red/diagrams.npy\n",
      "Applying Scaler to persistence diagrams.\n",
      "Got the result from ./20/train/filtrations/2/RadialFiltration_19_5/red/features.npy\n",
      "FiltrationExtractor: processing 20/train/filtrations/2/RadialFiltration_19_5/green, do_fit = False, filtration = RadialFiltration(center=array([19,  5]), n_jobs=-1)\n",
      "Got the result from ./20/train/filtrations/2/RadialFiltration_19_5/green/diagrams.npy\n",
      "Applying Scaler to persistence diagrams.\n",
      "Got the result from ./20/train/filtrations/2/RadialFiltration_19_5/green/features.npy\n",
      "FiltrationExtractor: processing 20/train/filtrations/2/RadialFiltration_19_5/blue, do_fit = False, filtration = RadialFiltration(center=array([19,  5]), n_jobs=-1)\n",
      "Got the result from ./20/train/filtrations/2/RadialFiltration_19_5/blue/diagrams.npy\n",
      "Applying Scaler to persistence diagrams.\n",
      "Got the result from ./20/train/filtrations/2/RadialFiltration_19_5/blue/features.npy\n",
      "Applying filtration 18/72: RadialFiltration with c = (19, 12), bin. thr. = 0.2\n",
      "RGB images received. Transforming to grayscale.\n"
     ]
    },
    {
     "name": "stderr",
     "output_type": "stream",
     "text": [
      "rgb2gray: 100%|██████████| 50000/50000 [00:04<00:00, 12147.15it/s]\n"
     ]
    },
    {
     "name": "stdout",
     "output_type": "stream",
     "text": [
      "FiltrationExtractor: processing 20/train/filtrations/2/RadialFiltration_19_12/gray, do_fit = False, filtration = RadialFiltration(center=array([19, 12]), n_jobs=-1)\n",
      "Got the result from ./20/train/filtrations/2/RadialFiltration_19_12/gray/diagrams.npy\n",
      "Applying Scaler to persistence diagrams.\n",
      "Got the result from ./20/train/filtrations/2/RadialFiltration_19_12/gray/features.npy\n",
      "FiltrationExtractor: processing 20/train/filtrations/2/RadialFiltration_19_12/red, do_fit = False, filtration = RadialFiltration(center=array([19, 12]), n_jobs=-1)\n",
      "Got the result from ./20/train/filtrations/2/RadialFiltration_19_12/red/diagrams.npy\n",
      "Applying Scaler to persistence diagrams.\n",
      "Got the result from ./20/train/filtrations/2/RadialFiltration_19_12/red/features.npy\n",
      "FiltrationExtractor: processing 20/train/filtrations/2/RadialFiltration_19_12/green, do_fit = False, filtration = RadialFiltration(center=array([19, 12]), n_jobs=-1)\n",
      "Got the result from ./20/train/filtrations/2/RadialFiltration_19_12/green/diagrams.npy\n",
      "Applying Scaler to persistence diagrams.\n",
      "Got the result from ./20/train/filtrations/2/RadialFiltration_19_12/green/features.npy\n",
      "FiltrationExtractor: processing 20/train/filtrations/2/RadialFiltration_19_12/blue, do_fit = False, filtration = RadialFiltration(center=array([19, 12]), n_jobs=-1)\n",
      "Got the result from ./20/train/filtrations/2/RadialFiltration_19_12/blue/diagrams.npy\n",
      "Applying Scaler to persistence diagrams.\n",
      "Got the result from ./20/train/filtrations/2/RadialFiltration_19_12/blue/features.npy\n",
      "Applying filtration 19/72: RadialFiltration with c = (19, 19), bin. thr. = 0.2\n",
      "RGB images received. Transforming to grayscale.\n"
     ]
    },
    {
     "name": "stderr",
     "output_type": "stream",
     "text": [
      "rgb2gray: 100%|██████████| 50000/50000 [00:04<00:00, 12257.93it/s]\n"
     ]
    },
    {
     "name": "stdout",
     "output_type": "stream",
     "text": [
      "FiltrationExtractor: processing 20/train/filtrations/2/RadialFiltration_19_19/gray, do_fit = False, filtration = RadialFiltration(center=array([19, 19]), n_jobs=-1)\n",
      "Got the result from ./20/train/filtrations/2/RadialFiltration_19_19/gray/diagrams.npy\n",
      "Applying Scaler to persistence diagrams.\n",
      "Got the result from ./20/train/filtrations/2/RadialFiltration_19_19/gray/features.npy\n",
      "FiltrationExtractor: processing 20/train/filtrations/2/RadialFiltration_19_19/red, do_fit = False, filtration = RadialFiltration(center=array([19, 19]), n_jobs=-1)\n",
      "Got the result from ./20/train/filtrations/2/RadialFiltration_19_19/red/diagrams.npy\n",
      "Applying Scaler to persistence diagrams.\n",
      "Got the result from ./20/train/filtrations/2/RadialFiltration_19_19/red/features.npy\n",
      "FiltrationExtractor: processing 20/train/filtrations/2/RadialFiltration_19_19/green, do_fit = False, filtration = RadialFiltration(center=array([19, 19]), n_jobs=-1)\n",
      "Got the result from ./20/train/filtrations/2/RadialFiltration_19_19/green/diagrams.npy\n",
      "Applying Scaler to persistence diagrams.\n",
      "Got the result from ./20/train/filtrations/2/RadialFiltration_19_19/green/features.npy\n",
      "FiltrationExtractor: processing 20/train/filtrations/2/RadialFiltration_19_19/blue, do_fit = False, filtration = RadialFiltration(center=array([19, 19]), n_jobs=-1)\n",
      "Got the result from ./20/train/filtrations/2/RadialFiltration_19_19/blue/diagrams.npy\n",
      "Applying Scaler to persistence diagrams.\n",
      "Got the result from ./20/train/filtrations/2/RadialFiltration_19_19/blue/features.npy\n",
      "Applying filtration 20/72: RadialFiltration with c = (19, 26), bin. thr. = 0.2\n",
      "RGB images received. Transforming to grayscale.\n"
     ]
    },
    {
     "name": "stderr",
     "output_type": "stream",
     "text": [
      "rgb2gray: 100%|██████████| 50000/50000 [00:05<00:00, 9498.67it/s] \n"
     ]
    },
    {
     "name": "stdout",
     "output_type": "stream",
     "text": [
      "FiltrationExtractor: processing 20/train/filtrations/2/RadialFiltration_19_26/gray, do_fit = False, filtration = RadialFiltration(center=array([19, 26]), n_jobs=-1)\n",
      "Got the result from ./20/train/filtrations/2/RadialFiltration_19_26/gray/diagrams.npy\n",
      "Applying Scaler to persistence diagrams.\n",
      "Got the result from ./20/train/filtrations/2/RadialFiltration_19_26/gray/features.npy\n",
      "FiltrationExtractor: processing 20/train/filtrations/2/RadialFiltration_19_26/red, do_fit = False, filtration = RadialFiltration(center=array([19, 26]), n_jobs=-1)\n",
      "Got the result from ./20/train/filtrations/2/RadialFiltration_19_26/red/diagrams.npy\n",
      "Applying Scaler to persistence diagrams.\n",
      "Got the result from ./20/train/filtrations/2/RadialFiltration_19_26/red/features.npy\n",
      "FiltrationExtractor: processing 20/train/filtrations/2/RadialFiltration_19_26/green, do_fit = False, filtration = RadialFiltration(center=array([19, 26]), n_jobs=-1)\n",
      "Got the result from ./20/train/filtrations/2/RadialFiltration_19_26/green/diagrams.npy\n",
      "Applying Scaler to persistence diagrams.\n",
      "Got the result from ./20/train/filtrations/2/RadialFiltration_19_26/green/features.npy\n",
      "FiltrationExtractor: processing 20/train/filtrations/2/RadialFiltration_19_26/blue, do_fit = False, filtration = RadialFiltration(center=array([19, 26]), n_jobs=-1)\n",
      "Got the result from ./20/train/filtrations/2/RadialFiltration_19_26/blue/diagrams.npy\n",
      "Applying Scaler to persistence diagrams.\n",
      "Got the result from ./20/train/filtrations/2/RadialFiltration_19_26/blue/features.npy\n",
      "Applying filtration 21/72: RadialFiltration with c = (26, 5), bin. thr. = 0.2\n",
      "RGB images received. Transforming to grayscale.\n"
     ]
    },
    {
     "name": "stderr",
     "output_type": "stream",
     "text": [
      "rgb2gray: 100%|██████████| 50000/50000 [00:04<00:00, 10529.59it/s]\n"
     ]
    },
    {
     "name": "stdout",
     "output_type": "stream",
     "text": [
      "FiltrationExtractor: processing 20/train/filtrations/2/RadialFiltration_26_5/gray, do_fit = False, filtration = RadialFiltration(center=array([26,  5]), n_jobs=-1)\n",
      "Got the result from ./20/train/filtrations/2/RadialFiltration_26_5/gray/diagrams.npy\n",
      "Applying Scaler to persistence diagrams.\n",
      "Got the result from ./20/train/filtrations/2/RadialFiltration_26_5/gray/features.npy\n",
      "FiltrationExtractor: processing 20/train/filtrations/2/RadialFiltration_26_5/red, do_fit = False, filtration = RadialFiltration(center=array([26,  5]), n_jobs=-1)\n",
      "Got the result from ./20/train/filtrations/2/RadialFiltration_26_5/red/diagrams.npy\n",
      "Applying Scaler to persistence diagrams.\n",
      "Got the result from ./20/train/filtrations/2/RadialFiltration_26_5/red/features.npy\n",
      "FiltrationExtractor: processing 20/train/filtrations/2/RadialFiltration_26_5/green, do_fit = False, filtration = RadialFiltration(center=array([26,  5]), n_jobs=-1)\n",
      "Got the result from ./20/train/filtrations/2/RadialFiltration_26_5/green/diagrams.npy\n",
      "Applying Scaler to persistence diagrams.\n",
      "Got the result from ./20/train/filtrations/2/RadialFiltration_26_5/green/features.npy\n",
      "FiltrationExtractor: processing 20/train/filtrations/2/RadialFiltration_26_5/blue, do_fit = False, filtration = RadialFiltration(center=array([26,  5]), n_jobs=-1)\n",
      "Got the result from ./20/train/filtrations/2/RadialFiltration_26_5/blue/diagrams.npy\n",
      "Applying Scaler to persistence diagrams.\n",
      "Got the result from ./20/train/filtrations/2/RadialFiltration_26_5/blue/features.npy\n",
      "Applying filtration 22/72: RadialFiltration with c = (26, 12), bin. thr. = 0.2\n",
      "RGB images received. Transforming to grayscale.\n"
     ]
    },
    {
     "name": "stderr",
     "output_type": "stream",
     "text": [
      "rgb2gray: 100%|██████████| 50000/50000 [00:04<00:00, 12406.90it/s]\n"
     ]
    },
    {
     "name": "stdout",
     "output_type": "stream",
     "text": [
      "FiltrationExtractor: processing 20/train/filtrations/2/RadialFiltration_26_12/gray, do_fit = False, filtration = RadialFiltration(center=array([26, 12]), n_jobs=-1)\n",
      "Got the result from ./20/train/filtrations/2/RadialFiltration_26_12/gray/diagrams.npy\n",
      "Applying Scaler to persistence diagrams.\n",
      "Got the result from ./20/train/filtrations/2/RadialFiltration_26_12/gray/features.npy\n",
      "FiltrationExtractor: processing 20/train/filtrations/2/RadialFiltration_26_12/red, do_fit = False, filtration = RadialFiltration(center=array([26, 12]), n_jobs=-1)\n",
      "Got the result from ./20/train/filtrations/2/RadialFiltration_26_12/red/diagrams.npy\n",
      "Applying Scaler to persistence diagrams.\n",
      "Got the result from ./20/train/filtrations/2/RadialFiltration_26_12/red/features.npy\n",
      "FiltrationExtractor: processing 20/train/filtrations/2/RadialFiltration_26_12/green, do_fit = False, filtration = RadialFiltration(center=array([26, 12]), n_jobs=-1)\n",
      "Got the result from ./20/train/filtrations/2/RadialFiltration_26_12/green/diagrams.npy\n",
      "Applying Scaler to persistence diagrams.\n",
      "Got the result from ./20/train/filtrations/2/RadialFiltration_26_12/green/features.npy\n",
      "FiltrationExtractor: processing 20/train/filtrations/2/RadialFiltration_26_12/blue, do_fit = False, filtration = RadialFiltration(center=array([26, 12]), n_jobs=-1)\n",
      "Got the result from ./20/train/filtrations/2/RadialFiltration_26_12/blue/diagrams.npy\n",
      "Applying Scaler to persistence diagrams.\n",
      "Got the result from ./20/train/filtrations/2/RadialFiltration_26_12/blue/features.npy\n",
      "Applying filtration 23/72: RadialFiltration with c = (26, 19), bin. thr. = 0.2\n",
      "RGB images received. Transforming to grayscale.\n"
     ]
    },
    {
     "name": "stderr",
     "output_type": "stream",
     "text": [
      "rgb2gray: 100%|██████████| 50000/50000 [00:04<00:00, 10572.80it/s]\n"
     ]
    },
    {
     "name": "stdout",
     "output_type": "stream",
     "text": [
      "FiltrationExtractor: processing 20/train/filtrations/2/RadialFiltration_26_19/gray, do_fit = False, filtration = RadialFiltration(center=array([26, 19]), n_jobs=-1)\n",
      "Got the result from ./20/train/filtrations/2/RadialFiltration_26_19/gray/diagrams.npy\n",
      "Applying Scaler to persistence diagrams.\n",
      "Got the result from ./20/train/filtrations/2/RadialFiltration_26_19/gray/features.npy\n",
      "FiltrationExtractor: processing 20/train/filtrations/2/RadialFiltration_26_19/red, do_fit = False, filtration = RadialFiltration(center=array([26, 19]), n_jobs=-1)\n",
      "Got the result from ./20/train/filtrations/2/RadialFiltration_26_19/red/diagrams.npy\n",
      "Applying Scaler to persistence diagrams.\n",
      "Got the result from ./20/train/filtrations/2/RadialFiltration_26_19/red/features.npy\n",
      "FiltrationExtractor: processing 20/train/filtrations/2/RadialFiltration_26_19/green, do_fit = False, filtration = RadialFiltration(center=array([26, 19]), n_jobs=-1)\n",
      "Got the result from ./20/train/filtrations/2/RadialFiltration_26_19/green/diagrams.npy\n",
      "Applying Scaler to persistence diagrams.\n",
      "Got the result from ./20/train/filtrations/2/RadialFiltration_26_19/green/features.npy\n",
      "FiltrationExtractor: processing 20/train/filtrations/2/RadialFiltration_26_19/blue, do_fit = False, filtration = RadialFiltration(center=array([26, 19]), n_jobs=-1)\n",
      "Got the result from ./20/train/filtrations/2/RadialFiltration_26_19/blue/diagrams.npy\n",
      "Applying Scaler to persistence diagrams.\n",
      "Got the result from ./20/train/filtrations/2/RadialFiltration_26_19/blue/features.npy\n",
      "Applying filtration 24/72: RadialFiltration with c = (26, 26), bin. thr. = 0.2\n",
      "RGB images received. Transforming to grayscale.\n"
     ]
    },
    {
     "name": "stderr",
     "output_type": "stream",
     "text": [
      "rgb2gray: 100%|██████████| 50000/50000 [00:04<00:00, 12454.83it/s]\n"
     ]
    },
    {
     "name": "stdout",
     "output_type": "stream",
     "text": [
      "FiltrationExtractor: processing 20/train/filtrations/2/RadialFiltration_26_26/gray, do_fit = False, filtration = RadialFiltration(center=array([26, 26]), n_jobs=-1)\n",
      "Got the result from ./20/train/filtrations/2/RadialFiltration_26_26/gray/diagrams.npy\n",
      "Applying Scaler to persistence diagrams.\n",
      "Got the result from ./20/train/filtrations/2/RadialFiltration_26_26/gray/features.npy\n",
      "FiltrationExtractor: processing 20/train/filtrations/2/RadialFiltration_26_26/red, do_fit = False, filtration = RadialFiltration(center=array([26, 26]), n_jobs=-1)\n",
      "Got the result from ./20/train/filtrations/2/RadialFiltration_26_26/red/diagrams.npy\n",
      "Applying Scaler to persistence diagrams.\n",
      "Got the result from ./20/train/filtrations/2/RadialFiltration_26_26/red/features.npy\n",
      "FiltrationExtractor: processing 20/train/filtrations/2/RadialFiltration_26_26/green, do_fit = False, filtration = RadialFiltration(center=array([26, 26]), n_jobs=-1)\n",
      "Got the result from ./20/train/filtrations/2/RadialFiltration_26_26/green/diagrams.npy\n",
      "Applying Scaler to persistence diagrams.\n",
      "Got the result from ./20/train/filtrations/2/RadialFiltration_26_26/green/features.npy\n",
      "FiltrationExtractor: processing 20/train/filtrations/2/RadialFiltration_26_26/blue, do_fit = False, filtration = RadialFiltration(center=array([26, 26]), n_jobs=-1)\n",
      "Got the result from ./20/train/filtrations/2/RadialFiltration_26_26/blue/diagrams.npy\n",
      "Applying Scaler to persistence diagrams.\n",
      "Got the result from ./20/train/filtrations/2/RadialFiltration_26_26/blue/features.npy\n",
      "Applying filtration 25/72: HeightFiltration with d = (-1, -1), bin. thr. = 0.4\n",
      "RGB images received. Transforming to grayscale.\n"
     ]
    },
    {
     "name": "stderr",
     "output_type": "stream",
     "text": [
      "rgb2gray: 100%|██████████| 50000/50000 [00:04<00:00, 12083.08it/s]\n"
     ]
    },
    {
     "name": "stdout",
     "output_type": "stream",
     "text": [
      "FiltrationExtractor: processing 20/train/filtrations/4/HeightFiltrartion_-1_-1/gray, do_fit = False, filtration = HeightFiltration(direction=array([-1, -1]), n_jobs=-1)\n",
      "Got the result from ./20/train/filtrations/4/HeightFiltrartion_-1_-1/gray/diagrams.npy\n",
      "Applying Scaler to persistence diagrams.\n",
      "Got the result from ./20/train/filtrations/4/HeightFiltrartion_-1_-1/gray/features.npy\n",
      "FiltrationExtractor: processing 20/train/filtrations/4/HeightFiltrartion_-1_-1/red, do_fit = False, filtration = HeightFiltration(direction=array([-1, -1]), n_jobs=-1)\n",
      "Got the result from ./20/train/filtrations/4/HeightFiltrartion_-1_-1/red/diagrams.npy\n",
      "Applying Scaler to persistence diagrams.\n",
      "Got the result from ./20/train/filtrations/4/HeightFiltrartion_-1_-1/red/features.npy\n",
      "FiltrationExtractor: processing 20/train/filtrations/4/HeightFiltrartion_-1_-1/green, do_fit = False, filtration = HeightFiltration(direction=array([-1, -1]), n_jobs=-1)\n",
      "Got the result from ./20/train/filtrations/4/HeightFiltrartion_-1_-1/green/diagrams.npy\n",
      "Applying Scaler to persistence diagrams.\n",
      "Got the result from ./20/train/filtrations/4/HeightFiltrartion_-1_-1/green/features.npy\n",
      "FiltrationExtractor: processing 20/train/filtrations/4/HeightFiltrartion_-1_-1/blue, do_fit = False, filtration = HeightFiltration(direction=array([-1, -1]), n_jobs=-1)\n",
      "Got the result from ./20/train/filtrations/4/HeightFiltrartion_-1_-1/blue/diagrams.npy\n",
      "Applying Scaler to persistence diagrams.\n",
      "Got the result from ./20/train/filtrations/4/HeightFiltrartion_-1_-1/blue/features.npy\n",
      "Applying filtration 26/72: HeightFiltration with d = (-1, 0), bin. thr. = 0.4\n",
      "RGB images received. Transforming to grayscale.\n"
     ]
    },
    {
     "name": "stderr",
     "output_type": "stream",
     "text": [
      "rgb2gray: 100%|██████████| 50000/50000 [00:04<00:00, 10806.62it/s]\n"
     ]
    },
    {
     "name": "stdout",
     "output_type": "stream",
     "text": [
      "FiltrationExtractor: processing 20/train/filtrations/4/HeightFiltrartion_-1_0/gray, do_fit = False, filtration = HeightFiltration(direction=array([-1,  0]), n_jobs=-1)\n",
      "Got the result from ./20/train/filtrations/4/HeightFiltrartion_-1_0/gray/diagrams.npy\n",
      "Applying Scaler to persistence diagrams.\n",
      "Got the result from ./20/train/filtrations/4/HeightFiltrartion_-1_0/gray/features.npy\n",
      "FiltrationExtractor: processing 20/train/filtrations/4/HeightFiltrartion_-1_0/red, do_fit = False, filtration = HeightFiltration(direction=array([-1,  0]), n_jobs=-1)\n",
      "Got the result from ./20/train/filtrations/4/HeightFiltrartion_-1_0/red/diagrams.npy\n",
      "Applying Scaler to persistence diagrams.\n",
      "Got the result from ./20/train/filtrations/4/HeightFiltrartion_-1_0/red/features.npy\n",
      "FiltrationExtractor: processing 20/train/filtrations/4/HeightFiltrartion_-1_0/green, do_fit = False, filtration = HeightFiltration(direction=array([-1,  0]), n_jobs=-1)\n",
      "Got the result from ./20/train/filtrations/4/HeightFiltrartion_-1_0/green/diagrams.npy\n",
      "Applying Scaler to persistence diagrams.\n",
      "Got the result from ./20/train/filtrations/4/HeightFiltrartion_-1_0/green/features.npy\n",
      "FiltrationExtractor: processing 20/train/filtrations/4/HeightFiltrartion_-1_0/blue, do_fit = False, filtration = HeightFiltration(direction=array([-1,  0]), n_jobs=-1)\n",
      "Got the result from ./20/train/filtrations/4/HeightFiltrartion_-1_0/blue/diagrams.npy\n",
      "Applying Scaler to persistence diagrams.\n",
      "Got the result from ./20/train/filtrations/4/HeightFiltrartion_-1_0/blue/features.npy\n",
      "Applying filtration 27/72: HeightFiltration with d = (-1, 1), bin. thr. = 0.4\n",
      "RGB images received. Transforming to grayscale.\n"
     ]
    },
    {
     "name": "stderr",
     "output_type": "stream",
     "text": [
      "rgb2gray: 100%|██████████| 50000/50000 [00:05<00:00, 9635.91it/s] \n"
     ]
    },
    {
     "name": "stdout",
     "output_type": "stream",
     "text": [
      "FiltrationExtractor: processing 20/train/filtrations/4/HeightFiltrartion_-1_1/gray, do_fit = False, filtration = HeightFiltration(direction=array([-1,  1]), n_jobs=-1)\n",
      "Got the result from ./20/train/filtrations/4/HeightFiltrartion_-1_1/gray/diagrams.npy\n",
      "Applying Scaler to persistence diagrams.\n",
      "Got the result from ./20/train/filtrations/4/HeightFiltrartion_-1_1/gray/features.npy\n",
      "FiltrationExtractor: processing 20/train/filtrations/4/HeightFiltrartion_-1_1/red, do_fit = False, filtration = HeightFiltration(direction=array([-1,  1]), n_jobs=-1)\n",
      "Got the result from ./20/train/filtrations/4/HeightFiltrartion_-1_1/red/diagrams.npy\n",
      "Applying Scaler to persistence diagrams.\n",
      "Got the result from ./20/train/filtrations/4/HeightFiltrartion_-1_1/red/features.npy\n",
      "FiltrationExtractor: processing 20/train/filtrations/4/HeightFiltrartion_-1_1/green, do_fit = False, filtration = HeightFiltration(direction=array([-1,  1]), n_jobs=-1)\n",
      "Got the result from ./20/train/filtrations/4/HeightFiltrartion_-1_1/green/diagrams.npy\n",
      "Applying Scaler to persistence diagrams.\n",
      "Got the result from ./20/train/filtrations/4/HeightFiltrartion_-1_1/green/features.npy\n",
      "FiltrationExtractor: processing 20/train/filtrations/4/HeightFiltrartion_-1_1/blue, do_fit = False, filtration = HeightFiltration(direction=array([-1,  1]), n_jobs=-1)\n",
      "Got the result from ./20/train/filtrations/4/HeightFiltrartion_-1_1/blue/diagrams.npy\n",
      "Applying Scaler to persistence diagrams.\n",
      "Got the result from ./20/train/filtrations/4/HeightFiltrartion_-1_1/blue/features.npy\n",
      "Applying filtration 28/72: HeightFiltration with d = (0, -1), bin. thr. = 0.4\n",
      "RGB images received. Transforming to grayscale.\n"
     ]
    },
    {
     "name": "stderr",
     "output_type": "stream",
     "text": [
      "rgb2gray: 100%|██████████| 50000/50000 [00:04<00:00, 11958.05it/s]\n"
     ]
    },
    {
     "name": "stdout",
     "output_type": "stream",
     "text": [
      "FiltrationExtractor: processing 20/train/filtrations/4/HeightFiltrartion_0_-1/gray, do_fit = False, filtration = HeightFiltration(direction=array([ 0, -1]), n_jobs=-1)\n",
      "Got the result from ./20/train/filtrations/4/HeightFiltrartion_0_-1/gray/diagrams.npy\n",
      "Applying Scaler to persistence diagrams.\n",
      "Got the result from ./20/train/filtrations/4/HeightFiltrartion_0_-1/gray/features.npy\n",
      "FiltrationExtractor: processing 20/train/filtrations/4/HeightFiltrartion_0_-1/red, do_fit = False, filtration = HeightFiltration(direction=array([ 0, -1]), n_jobs=-1)\n",
      "Got the result from ./20/train/filtrations/4/HeightFiltrartion_0_-1/red/diagrams.npy\n",
      "Applying Scaler to persistence diagrams.\n",
      "Got the result from ./20/train/filtrations/4/HeightFiltrartion_0_-1/red/features.npy\n",
      "FiltrationExtractor: processing 20/train/filtrations/4/HeightFiltrartion_0_-1/green, do_fit = False, filtration = HeightFiltration(direction=array([ 0, -1]), n_jobs=-1)\n",
      "Got the result from ./20/train/filtrations/4/HeightFiltrartion_0_-1/green/diagrams.npy\n",
      "Applying Scaler to persistence diagrams.\n",
      "Got the result from ./20/train/filtrations/4/HeightFiltrartion_0_-1/green/features.npy\n",
      "FiltrationExtractor: processing 20/train/filtrations/4/HeightFiltrartion_0_-1/blue, do_fit = False, filtration = HeightFiltration(direction=array([ 0, -1]), n_jobs=-1)\n",
      "Got the result from ./20/train/filtrations/4/HeightFiltrartion_0_-1/blue/diagrams.npy\n",
      "Applying Scaler to persistence diagrams.\n",
      "Got the result from ./20/train/filtrations/4/HeightFiltrartion_0_-1/blue/features.npy\n",
      "Applying filtration 29/72: HeightFiltration with d = (0, 1), bin. thr. = 0.4\n",
      "RGB images received. Transforming to grayscale.\n"
     ]
    },
    {
     "name": "stderr",
     "output_type": "stream",
     "text": [
      "rgb2gray: 100%|██████████| 50000/50000 [00:05<00:00, 9817.33it/s] \n"
     ]
    },
    {
     "name": "stdout",
     "output_type": "stream",
     "text": [
      "FiltrationExtractor: processing 20/train/filtrations/4/HeightFiltrartion_0_1/gray, do_fit = False, filtration = HeightFiltration(direction=array([0, 1]), n_jobs=-1)\n",
      "Got the result from ./20/train/filtrations/4/HeightFiltrartion_0_1/gray/diagrams.npy\n",
      "Applying Scaler to persistence diagrams.\n",
      "Got the result from ./20/train/filtrations/4/HeightFiltrartion_0_1/gray/features.npy\n",
      "FiltrationExtractor: processing 20/train/filtrations/4/HeightFiltrartion_0_1/red, do_fit = False, filtration = HeightFiltration(direction=array([0, 1]), n_jobs=-1)\n",
      "Got the result from ./20/train/filtrations/4/HeightFiltrartion_0_1/red/diagrams.npy\n",
      "Applying Scaler to persistence diagrams.\n",
      "Got the result from ./20/train/filtrations/4/HeightFiltrartion_0_1/red/features.npy\n",
      "FiltrationExtractor: processing 20/train/filtrations/4/HeightFiltrartion_0_1/green, do_fit = False, filtration = HeightFiltration(direction=array([0, 1]), n_jobs=-1)\n",
      "Got the result from ./20/train/filtrations/4/HeightFiltrartion_0_1/green/diagrams.npy\n",
      "Applying Scaler to persistence diagrams.\n",
      "Got the result from ./20/train/filtrations/4/HeightFiltrartion_0_1/green/features.npy\n",
      "FiltrationExtractor: processing 20/train/filtrations/4/HeightFiltrartion_0_1/blue, do_fit = False, filtration = HeightFiltration(direction=array([0, 1]), n_jobs=-1)\n",
      "Got the result from ./20/train/filtrations/4/HeightFiltrartion_0_1/blue/diagrams.npy\n",
      "Applying Scaler to persistence diagrams.\n",
      "Got the result from ./20/train/filtrations/4/HeightFiltrartion_0_1/blue/features.npy\n",
      "Applying filtration 30/72: HeightFiltration with d = (1, -1), bin. thr. = 0.4\n",
      "RGB images received. Transforming to grayscale.\n"
     ]
    },
    {
     "name": "stderr",
     "output_type": "stream",
     "text": [
      "rgb2gray: 100%|██████████| 50000/50000 [00:04<00:00, 10302.34it/s]\n"
     ]
    },
    {
     "name": "stdout",
     "output_type": "stream",
     "text": [
      "FiltrationExtractor: processing 20/train/filtrations/4/HeightFiltrartion_1_-1/gray, do_fit = False, filtration = HeightFiltration(direction=array([ 1, -1]), n_jobs=-1)\n",
      "Got the result from ./20/train/filtrations/4/HeightFiltrartion_1_-1/gray/diagrams.npy\n",
      "Applying Scaler to persistence diagrams.\n",
      "Got the result from ./20/train/filtrations/4/HeightFiltrartion_1_-1/gray/features.npy\n",
      "FiltrationExtractor: processing 20/train/filtrations/4/HeightFiltrartion_1_-1/red, do_fit = False, filtration = HeightFiltration(direction=array([ 1, -1]), n_jobs=-1)\n",
      "Got the result from ./20/train/filtrations/4/HeightFiltrartion_1_-1/red/diagrams.npy\n",
      "Applying Scaler to persistence diagrams.\n",
      "Got the result from ./20/train/filtrations/4/HeightFiltrartion_1_-1/red/features.npy\n",
      "FiltrationExtractor: processing 20/train/filtrations/4/HeightFiltrartion_1_-1/green, do_fit = False, filtration = HeightFiltration(direction=array([ 1, -1]), n_jobs=-1)\n",
      "Got the result from ./20/train/filtrations/4/HeightFiltrartion_1_-1/green/diagrams.npy\n",
      "Applying Scaler to persistence diagrams.\n",
      "Got the result from ./20/train/filtrations/4/HeightFiltrartion_1_-1/green/features.npy\n",
      "FiltrationExtractor: processing 20/train/filtrations/4/HeightFiltrartion_1_-1/blue, do_fit = False, filtration = HeightFiltration(direction=array([ 1, -1]), n_jobs=-1)\n",
      "Got the result from ./20/train/filtrations/4/HeightFiltrartion_1_-1/blue/diagrams.npy\n",
      "Applying Scaler to persistence diagrams.\n",
      "Got the result from ./20/train/filtrations/4/HeightFiltrartion_1_-1/blue/features.npy\n",
      "Applying filtration 31/72: HeightFiltration with d = (1, 0), bin. thr. = 0.4\n",
      "RGB images received. Transforming to grayscale.\n"
     ]
    },
    {
     "name": "stderr",
     "output_type": "stream",
     "text": [
      "rgb2gray: 100%|██████████| 50000/50000 [00:04<00:00, 12217.73it/s]\n"
     ]
    },
    {
     "name": "stdout",
     "output_type": "stream",
     "text": [
      "FiltrationExtractor: processing 20/train/filtrations/4/HeightFiltrartion_1_0/gray, do_fit = False, filtration = HeightFiltration(direction=array([1, 0]), n_jobs=-1)\n",
      "Got the result from ./20/train/filtrations/4/HeightFiltrartion_1_0/gray/diagrams.npy\n",
      "Applying Scaler to persistence diagrams.\n",
      "Got the result from ./20/train/filtrations/4/HeightFiltrartion_1_0/gray/features.npy\n",
      "FiltrationExtractor: processing 20/train/filtrations/4/HeightFiltrartion_1_0/red, do_fit = False, filtration = HeightFiltration(direction=array([1, 0]), n_jobs=-1)\n",
      "Got the result from ./20/train/filtrations/4/HeightFiltrartion_1_0/red/diagrams.npy\n",
      "Applying Scaler to persistence diagrams.\n",
      "Got the result from ./20/train/filtrations/4/HeightFiltrartion_1_0/red/features.npy\n",
      "FiltrationExtractor: processing 20/train/filtrations/4/HeightFiltrartion_1_0/green, do_fit = False, filtration = HeightFiltration(direction=array([1, 0]), n_jobs=-1)\n",
      "Got the result from ./20/train/filtrations/4/HeightFiltrartion_1_0/green/diagrams.npy\n",
      "Applying Scaler to persistence diagrams.\n",
      "Got the result from ./20/train/filtrations/4/HeightFiltrartion_1_0/green/features.npy\n",
      "FiltrationExtractor: processing 20/train/filtrations/4/HeightFiltrartion_1_0/blue, do_fit = False, filtration = HeightFiltration(direction=array([1, 0]), n_jobs=-1)\n",
      "Got the result from ./20/train/filtrations/4/HeightFiltrartion_1_0/blue/diagrams.npy\n",
      "Applying Scaler to persistence diagrams.\n",
      "Got the result from ./20/train/filtrations/4/HeightFiltrartion_1_0/blue/features.npy\n",
      "Applying filtration 32/72: HeightFiltration with d = (1, 1), bin. thr. = 0.4\n",
      "RGB images received. Transforming to grayscale.\n"
     ]
    },
    {
     "name": "stderr",
     "output_type": "stream",
     "text": [
      "rgb2gray: 100%|██████████| 50000/50000 [00:04<00:00, 12128.54it/s]\n"
     ]
    },
    {
     "name": "stdout",
     "output_type": "stream",
     "text": [
      "FiltrationExtractor: processing 20/train/filtrations/4/HeightFiltrartion_1_1/gray, do_fit = False, filtration = HeightFiltration(direction=array([1, 1]), n_jobs=-1)\n",
      "Got the result from ./20/train/filtrations/4/HeightFiltrartion_1_1/gray/diagrams.npy\n",
      "Applying Scaler to persistence diagrams.\n",
      "Got the result from ./20/train/filtrations/4/HeightFiltrartion_1_1/gray/features.npy\n",
      "FiltrationExtractor: processing 20/train/filtrations/4/HeightFiltrartion_1_1/red, do_fit = False, filtration = HeightFiltration(direction=array([1, 1]), n_jobs=-1)\n",
      "Got the result from ./20/train/filtrations/4/HeightFiltrartion_1_1/red/diagrams.npy\n",
      "Applying Scaler to persistence diagrams.\n",
      "Got the result from ./20/train/filtrations/4/HeightFiltrartion_1_1/red/features.npy\n",
      "FiltrationExtractor: processing 20/train/filtrations/4/HeightFiltrartion_1_1/green, do_fit = False, filtration = HeightFiltration(direction=array([1, 1]), n_jobs=-1)\n",
      "Got the result from ./20/train/filtrations/4/HeightFiltrartion_1_1/green/diagrams.npy\n",
      "Applying Scaler to persistence diagrams.\n",
      "Got the result from ./20/train/filtrations/4/HeightFiltrartion_1_1/green/features.npy\n",
      "FiltrationExtractor: processing 20/train/filtrations/4/HeightFiltrartion_1_1/blue, do_fit = False, filtration = HeightFiltration(direction=array([1, 1]), n_jobs=-1)\n",
      "Got the result from ./20/train/filtrations/4/HeightFiltrartion_1_1/blue/diagrams.npy\n",
      "Applying Scaler to persistence diagrams.\n",
      "Got the result from ./20/train/filtrations/4/HeightFiltrartion_1_1/blue/features.npy\n",
      "Applying filtration 33/72: RadialFiltration with c = (5, 5), bin. thr. = 0.4\n",
      "RGB images received. Transforming to grayscale.\n"
     ]
    },
    {
     "name": "stderr",
     "output_type": "stream",
     "text": [
      "rgb2gray: 100%|██████████| 50000/50000 [00:04<00:00, 10038.13it/s]\n"
     ]
    },
    {
     "name": "stdout",
     "output_type": "stream",
     "text": [
      "FiltrationExtractor: processing 20/train/filtrations/4/RadialFiltration_5_5/gray, do_fit = False, filtration = RadialFiltration(center=array([5, 5]), n_jobs=-1)\n",
      "Got the result from ./20/train/filtrations/4/RadialFiltration_5_5/gray/diagrams.npy\n",
      "Applying Scaler to persistence diagrams.\n",
      "Got the result from ./20/train/filtrations/4/RadialFiltration_5_5/gray/features.npy\n",
      "FiltrationExtractor: processing 20/train/filtrations/4/RadialFiltration_5_5/red, do_fit = False, filtration = RadialFiltration(center=array([5, 5]), n_jobs=-1)\n",
      "Got the result from ./20/train/filtrations/4/RadialFiltration_5_5/red/diagrams.npy\n",
      "Applying Scaler to persistence diagrams.\n",
      "Got the result from ./20/train/filtrations/4/RadialFiltration_5_5/red/features.npy\n",
      "FiltrationExtractor: processing 20/train/filtrations/4/RadialFiltration_5_5/green, do_fit = False, filtration = RadialFiltration(center=array([5, 5]), n_jobs=-1)\n",
      "Got the result from ./20/train/filtrations/4/RadialFiltration_5_5/green/diagrams.npy\n",
      "Applying Scaler to persistence diagrams.\n",
      "Got the result from ./20/train/filtrations/4/RadialFiltration_5_5/green/features.npy\n",
      "FiltrationExtractor: processing 20/train/filtrations/4/RadialFiltration_5_5/blue, do_fit = False, filtration = RadialFiltration(center=array([5, 5]), n_jobs=-1)\n",
      "Got the result from ./20/train/filtrations/4/RadialFiltration_5_5/blue/diagrams.npy\n",
      "Applying Scaler to persistence diagrams.\n",
      "Got the result from ./20/train/filtrations/4/RadialFiltration_5_5/blue/features.npy\n",
      "Applying filtration 34/72: RadialFiltration with c = (5, 12), bin. thr. = 0.4\n",
      "RGB images received. Transforming to grayscale.\n"
     ]
    },
    {
     "name": "stderr",
     "output_type": "stream",
     "text": [
      "rgb2gray: 100%|██████████| 50000/50000 [00:04<00:00, 10381.35it/s]\n"
     ]
    },
    {
     "name": "stdout",
     "output_type": "stream",
     "text": [
      "FiltrationExtractor: processing 20/train/filtrations/4/RadialFiltration_5_12/gray, do_fit = False, filtration = RadialFiltration(center=array([ 5, 12]), n_jobs=-1)\n",
      "Got the result from ./20/train/filtrations/4/RadialFiltration_5_12/gray/diagrams.npy\n",
      "Applying Scaler to persistence diagrams.\n",
      "Got the result from ./20/train/filtrations/4/RadialFiltration_5_12/gray/features.npy\n",
      "FiltrationExtractor: processing 20/train/filtrations/4/RadialFiltration_5_12/red, do_fit = False, filtration = RadialFiltration(center=array([ 5, 12]), n_jobs=-1)\n",
      "Got the result from ./20/train/filtrations/4/RadialFiltration_5_12/red/diagrams.npy\n",
      "Applying Scaler to persistence diagrams.\n",
      "Got the result from ./20/train/filtrations/4/RadialFiltration_5_12/red/features.npy\n",
      "FiltrationExtractor: processing 20/train/filtrations/4/RadialFiltration_5_12/green, do_fit = False, filtration = RadialFiltration(center=array([ 5, 12]), n_jobs=-1)\n",
      "Got the result from ./20/train/filtrations/4/RadialFiltration_5_12/green/diagrams.npy\n",
      "Applying Scaler to persistence diagrams.\n",
      "Got the result from ./20/train/filtrations/4/RadialFiltration_5_12/green/features.npy\n",
      "FiltrationExtractor: processing 20/train/filtrations/4/RadialFiltration_5_12/blue, do_fit = False, filtration = RadialFiltration(center=array([ 5, 12]), n_jobs=-1)\n",
      "Got the result from ./20/train/filtrations/4/RadialFiltration_5_12/blue/diagrams.npy\n",
      "Applying Scaler to persistence diagrams.\n",
      "Got the result from ./20/train/filtrations/4/RadialFiltration_5_12/blue/features.npy\n",
      "Applying filtration 35/72: RadialFiltration with c = (5, 19), bin. thr. = 0.4\n",
      "RGB images received. Transforming to grayscale.\n"
     ]
    },
    {
     "name": "stderr",
     "output_type": "stream",
     "text": [
      "rgb2gray: 100%|██████████| 50000/50000 [00:04<00:00, 10304.94it/s]\n"
     ]
    },
    {
     "name": "stdout",
     "output_type": "stream",
     "text": [
      "FiltrationExtractor: processing 20/train/filtrations/4/RadialFiltration_5_19/gray, do_fit = False, filtration = RadialFiltration(center=array([ 5, 19]), n_jobs=-1)\n",
      "Got the result from ./20/train/filtrations/4/RadialFiltration_5_19/gray/diagrams.npy\n",
      "Applying Scaler to persistence diagrams.\n",
      "Got the result from ./20/train/filtrations/4/RadialFiltration_5_19/gray/features.npy\n",
      "FiltrationExtractor: processing 20/train/filtrations/4/RadialFiltration_5_19/red, do_fit = False, filtration = RadialFiltration(center=array([ 5, 19]), n_jobs=-1)\n",
      "Got the result from ./20/train/filtrations/4/RadialFiltration_5_19/red/diagrams.npy\n",
      "Applying Scaler to persistence diagrams.\n",
      "Got the result from ./20/train/filtrations/4/RadialFiltration_5_19/red/features.npy\n",
      "FiltrationExtractor: processing 20/train/filtrations/4/RadialFiltration_5_19/green, do_fit = False, filtration = RadialFiltration(center=array([ 5, 19]), n_jobs=-1)\n",
      "Got the result from ./20/train/filtrations/4/RadialFiltration_5_19/green/diagrams.npy\n",
      "Applying Scaler to persistence diagrams.\n",
      "Got the result from ./20/train/filtrations/4/RadialFiltration_5_19/green/features.npy\n",
      "FiltrationExtractor: processing 20/train/filtrations/4/RadialFiltration_5_19/blue, do_fit = False, filtration = RadialFiltration(center=array([ 5, 19]), n_jobs=-1)\n",
      "Got the result from ./20/train/filtrations/4/RadialFiltration_5_19/blue/diagrams.npy\n",
      "Applying Scaler to persistence diagrams.\n",
      "Got the result from ./20/train/filtrations/4/RadialFiltration_5_19/blue/features.npy\n",
      "Applying filtration 36/72: RadialFiltration with c = (5, 26), bin. thr. = 0.4\n",
      "RGB images received. Transforming to grayscale.\n"
     ]
    },
    {
     "name": "stderr",
     "output_type": "stream",
     "text": [
      "rgb2gray: 100%|██████████| 50000/50000 [00:05<00:00, 9186.22it/s] \n"
     ]
    },
    {
     "name": "stdout",
     "output_type": "stream",
     "text": [
      "FiltrationExtractor: processing 20/train/filtrations/4/RadialFiltration_5_26/gray, do_fit = False, filtration = RadialFiltration(center=array([ 5, 26]), n_jobs=-1)\n",
      "Got the result from ./20/train/filtrations/4/RadialFiltration_5_26/gray/diagrams.npy\n",
      "Applying Scaler to persistence diagrams.\n",
      "Got the result from ./20/train/filtrations/4/RadialFiltration_5_26/gray/features.npy\n",
      "FiltrationExtractor: processing 20/train/filtrations/4/RadialFiltration_5_26/red, do_fit = False, filtration = RadialFiltration(center=array([ 5, 26]), n_jobs=-1)\n",
      "Got the result from ./20/train/filtrations/4/RadialFiltration_5_26/red/diagrams.npy\n",
      "Applying Scaler to persistence diagrams.\n",
      "Got the result from ./20/train/filtrations/4/RadialFiltration_5_26/red/features.npy\n",
      "FiltrationExtractor: processing 20/train/filtrations/4/RadialFiltration_5_26/green, do_fit = False, filtration = RadialFiltration(center=array([ 5, 26]), n_jobs=-1)\n",
      "Got the result from ./20/train/filtrations/4/RadialFiltration_5_26/green/diagrams.npy\n",
      "Applying Scaler to persistence diagrams.\n",
      "Got the result from ./20/train/filtrations/4/RadialFiltration_5_26/green/features.npy\n",
      "FiltrationExtractor: processing 20/train/filtrations/4/RadialFiltration_5_26/blue, do_fit = False, filtration = RadialFiltration(center=array([ 5, 26]), n_jobs=-1)\n",
      "Got the result from ./20/train/filtrations/4/RadialFiltration_5_26/blue/diagrams.npy\n",
      "Applying Scaler to persistence diagrams.\n",
      "Got the result from ./20/train/filtrations/4/RadialFiltration_5_26/blue/features.npy\n",
      "Applying filtration 37/72: RadialFiltration with c = (12, 5), bin. thr. = 0.4\n",
      "RGB images received. Transforming to grayscale.\n"
     ]
    },
    {
     "name": "stderr",
     "output_type": "stream",
     "text": [
      "rgb2gray: 100%|██████████| 50000/50000 [00:04<00:00, 11719.06it/s]\n"
     ]
    },
    {
     "name": "stdout",
     "output_type": "stream",
     "text": [
      "FiltrationExtractor: processing 20/train/filtrations/4/RadialFiltration_12_5/gray, do_fit = False, filtration = RadialFiltration(center=array([12,  5]), n_jobs=-1)\n",
      "Got the result from ./20/train/filtrations/4/RadialFiltration_12_5/gray/diagrams.npy\n",
      "Applying Scaler to persistence diagrams.\n",
      "Got the result from ./20/train/filtrations/4/RadialFiltration_12_5/gray/features.npy\n",
      "FiltrationExtractor: processing 20/train/filtrations/4/RadialFiltration_12_5/red, do_fit = False, filtration = RadialFiltration(center=array([12,  5]), n_jobs=-1)\n",
      "Got the result from ./20/train/filtrations/4/RadialFiltration_12_5/red/diagrams.npy\n",
      "Applying Scaler to persistence diagrams.\n",
      "Got the result from ./20/train/filtrations/4/RadialFiltration_12_5/red/features.npy\n",
      "FiltrationExtractor: processing 20/train/filtrations/4/RadialFiltration_12_5/green, do_fit = False, filtration = RadialFiltration(center=array([12,  5]), n_jobs=-1)\n",
      "Got the result from ./20/train/filtrations/4/RadialFiltration_12_5/green/diagrams.npy\n",
      "Applying Scaler to persistence diagrams.\n",
      "Got the result from ./20/train/filtrations/4/RadialFiltration_12_5/green/features.npy\n",
      "FiltrationExtractor: processing 20/train/filtrations/4/RadialFiltration_12_5/blue, do_fit = False, filtration = RadialFiltration(center=array([12,  5]), n_jobs=-1)\n",
      "Got the result from ./20/train/filtrations/4/RadialFiltration_12_5/blue/diagrams.npy\n",
      "Applying Scaler to persistence diagrams.\n",
      "Got the result from ./20/train/filtrations/4/RadialFiltration_12_5/blue/features.npy\n",
      "Applying filtration 38/72: RadialFiltration with c = (12, 12), bin. thr. = 0.4\n",
      "RGB images received. Transforming to grayscale.\n"
     ]
    },
    {
     "name": "stderr",
     "output_type": "stream",
     "text": [
      "rgb2gray: 100%|██████████| 50000/50000 [00:04<00:00, 12473.01it/s]\n"
     ]
    },
    {
     "name": "stdout",
     "output_type": "stream",
     "text": [
      "FiltrationExtractor: processing 20/train/filtrations/4/RadialFiltration_12_12/gray, do_fit = False, filtration = RadialFiltration(center=array([12, 12]), n_jobs=-1)\n",
      "Got the result from ./20/train/filtrations/4/RadialFiltration_12_12/gray/diagrams.npy\n",
      "Applying Scaler to persistence diagrams.\n",
      "Got the result from ./20/train/filtrations/4/RadialFiltration_12_12/gray/features.npy\n",
      "FiltrationExtractor: processing 20/train/filtrations/4/RadialFiltration_12_12/red, do_fit = False, filtration = RadialFiltration(center=array([12, 12]), n_jobs=-1)\n",
      "Got the result from ./20/train/filtrations/4/RadialFiltration_12_12/red/diagrams.npy\n",
      "Applying Scaler to persistence diagrams.\n",
      "Got the result from ./20/train/filtrations/4/RadialFiltration_12_12/red/features.npy\n",
      "FiltrationExtractor: processing 20/train/filtrations/4/RadialFiltration_12_12/green, do_fit = False, filtration = RadialFiltration(center=array([12, 12]), n_jobs=-1)\n",
      "Got the result from ./20/train/filtrations/4/RadialFiltration_12_12/green/diagrams.npy\n",
      "Applying Scaler to persistence diagrams.\n",
      "Got the result from ./20/train/filtrations/4/RadialFiltration_12_12/green/features.npy\n",
      "FiltrationExtractor: processing 20/train/filtrations/4/RadialFiltration_12_12/blue, do_fit = False, filtration = RadialFiltration(center=array([12, 12]), n_jobs=-1)\n",
      "Got the result from ./20/train/filtrations/4/RadialFiltration_12_12/blue/diagrams.npy\n",
      "Applying Scaler to persistence diagrams.\n",
      "Got the result from ./20/train/filtrations/4/RadialFiltration_12_12/blue/features.npy\n",
      "Applying filtration 39/72: RadialFiltration with c = (12, 19), bin. thr. = 0.4\n",
      "RGB images received. Transforming to grayscale.\n"
     ]
    },
    {
     "name": "stderr",
     "output_type": "stream",
     "text": [
      "rgb2gray: 100%|██████████| 50000/50000 [00:04<00:00, 11809.16it/s]\n"
     ]
    },
    {
     "name": "stdout",
     "output_type": "stream",
     "text": [
      "FiltrationExtractor: processing 20/train/filtrations/4/RadialFiltration_12_19/gray, do_fit = False, filtration = RadialFiltration(center=array([12, 19]), n_jobs=-1)\n",
      "Got the result from ./20/train/filtrations/4/RadialFiltration_12_19/gray/diagrams.npy\n",
      "Applying Scaler to persistence diagrams.\n",
      "Got the result from ./20/train/filtrations/4/RadialFiltration_12_19/gray/features.npy\n",
      "FiltrationExtractor: processing 20/train/filtrations/4/RadialFiltration_12_19/red, do_fit = False, filtration = RadialFiltration(center=array([12, 19]), n_jobs=-1)\n",
      "Got the result from ./20/train/filtrations/4/RadialFiltration_12_19/red/diagrams.npy\n",
      "Applying Scaler to persistence diagrams.\n",
      "Got the result from ./20/train/filtrations/4/RadialFiltration_12_19/red/features.npy\n",
      "FiltrationExtractor: processing 20/train/filtrations/4/RadialFiltration_12_19/green, do_fit = False, filtration = RadialFiltration(center=array([12, 19]), n_jobs=-1)\n",
      "Got the result from ./20/train/filtrations/4/RadialFiltration_12_19/green/diagrams.npy\n",
      "Applying Scaler to persistence diagrams.\n",
      "Got the result from ./20/train/filtrations/4/RadialFiltration_12_19/green/features.npy\n",
      "FiltrationExtractor: processing 20/train/filtrations/4/RadialFiltration_12_19/blue, do_fit = False, filtration = RadialFiltration(center=array([12, 19]), n_jobs=-1)\n",
      "Got the result from ./20/train/filtrations/4/RadialFiltration_12_19/blue/diagrams.npy\n",
      "Applying Scaler to persistence diagrams.\n",
      "Got the result from ./20/train/filtrations/4/RadialFiltration_12_19/blue/features.npy\n",
      "Applying filtration 40/72: RadialFiltration with c = (12, 26), bin. thr. = 0.4\n",
      "RGB images received. Transforming to grayscale.\n"
     ]
    },
    {
     "name": "stderr",
     "output_type": "stream",
     "text": [
      "rgb2gray: 100%|██████████| 50000/50000 [00:04<00:00, 10263.76it/s]\n"
     ]
    },
    {
     "name": "stdout",
     "output_type": "stream",
     "text": [
      "FiltrationExtractor: processing 20/train/filtrations/4/RadialFiltration_12_26/gray, do_fit = False, filtration = RadialFiltration(center=array([12, 26]), n_jobs=-1)\n",
      "Got the result from ./20/train/filtrations/4/RadialFiltration_12_26/gray/diagrams.npy\n",
      "Applying Scaler to persistence diagrams.\n",
      "Got the result from ./20/train/filtrations/4/RadialFiltration_12_26/gray/features.npy\n",
      "FiltrationExtractor: processing 20/train/filtrations/4/RadialFiltration_12_26/red, do_fit = False, filtration = RadialFiltration(center=array([12, 26]), n_jobs=-1)\n",
      "Got the result from ./20/train/filtrations/4/RadialFiltration_12_26/red/diagrams.npy\n",
      "Applying Scaler to persistence diagrams.\n",
      "Got the result from ./20/train/filtrations/4/RadialFiltration_12_26/red/features.npy\n",
      "FiltrationExtractor: processing 20/train/filtrations/4/RadialFiltration_12_26/green, do_fit = False, filtration = RadialFiltration(center=array([12, 26]), n_jobs=-1)\n",
      "Got the result from ./20/train/filtrations/4/RadialFiltration_12_26/green/diagrams.npy\n",
      "Applying Scaler to persistence diagrams.\n",
      "Got the result from ./20/train/filtrations/4/RadialFiltration_12_26/green/features.npy\n",
      "FiltrationExtractor: processing 20/train/filtrations/4/RadialFiltration_12_26/blue, do_fit = False, filtration = RadialFiltration(center=array([12, 26]), n_jobs=-1)\n",
      "Got the result from ./20/train/filtrations/4/RadialFiltration_12_26/blue/diagrams.npy\n",
      "Applying Scaler to persistence diagrams.\n",
      "Got the result from ./20/train/filtrations/4/RadialFiltration_12_26/blue/features.npy\n",
      "Applying filtration 41/72: RadialFiltration with c = (19, 5), bin. thr. = 0.4\n",
      "RGB images received. Transforming to grayscale.\n"
     ]
    },
    {
     "name": "stderr",
     "output_type": "stream",
     "text": [
      "rgb2gray: 100%|██████████| 50000/50000 [00:04<00:00, 12132.08it/s]\n"
     ]
    },
    {
     "name": "stdout",
     "output_type": "stream",
     "text": [
      "FiltrationExtractor: processing 20/train/filtrations/4/RadialFiltration_19_5/gray, do_fit = False, filtration = RadialFiltration(center=array([19,  5]), n_jobs=-1)\n",
      "Got the result from ./20/train/filtrations/4/RadialFiltration_19_5/gray/diagrams.npy\n",
      "Applying Scaler to persistence diagrams.\n",
      "Got the result from ./20/train/filtrations/4/RadialFiltration_19_5/gray/features.npy\n",
      "FiltrationExtractor: processing 20/train/filtrations/4/RadialFiltration_19_5/red, do_fit = False, filtration = RadialFiltration(center=array([19,  5]), n_jobs=-1)\n",
      "Got the result from ./20/train/filtrations/4/RadialFiltration_19_5/red/diagrams.npy\n",
      "Applying Scaler to persistence diagrams.\n",
      "Got the result from ./20/train/filtrations/4/RadialFiltration_19_5/red/features.npy\n",
      "FiltrationExtractor: processing 20/train/filtrations/4/RadialFiltration_19_5/green, do_fit = False, filtration = RadialFiltration(center=array([19,  5]), n_jobs=-1)\n",
      "Got the result from ./20/train/filtrations/4/RadialFiltration_19_5/green/diagrams.npy\n",
      "Applying Scaler to persistence diagrams.\n",
      "Got the result from ./20/train/filtrations/4/RadialFiltration_19_5/green/features.npy\n",
      "FiltrationExtractor: processing 20/train/filtrations/4/RadialFiltration_19_5/blue, do_fit = False, filtration = RadialFiltration(center=array([19,  5]), n_jobs=-1)\n",
      "Got the result from ./20/train/filtrations/4/RadialFiltration_19_5/blue/diagrams.npy\n",
      "Applying Scaler to persistence diagrams.\n",
      "Got the result from ./20/train/filtrations/4/RadialFiltration_19_5/blue/features.npy\n",
      "Applying filtration 42/72: RadialFiltration with c = (19, 12), bin. thr. = 0.4\n",
      "RGB images received. Transforming to grayscale.\n"
     ]
    },
    {
     "name": "stderr",
     "output_type": "stream",
     "text": [
      "rgb2gray: 100%|██████████| 50000/50000 [00:04<00:00, 10684.84it/s]\n"
     ]
    },
    {
     "name": "stdout",
     "output_type": "stream",
     "text": [
      "FiltrationExtractor: processing 20/train/filtrations/4/RadialFiltration_19_12/gray, do_fit = False, filtration = RadialFiltration(center=array([19, 12]), n_jobs=-1)\n",
      "Got the result from ./20/train/filtrations/4/RadialFiltration_19_12/gray/diagrams.npy\n",
      "Applying Scaler to persistence diagrams.\n",
      "Got the result from ./20/train/filtrations/4/RadialFiltration_19_12/gray/features.npy\n",
      "FiltrationExtractor: processing 20/train/filtrations/4/RadialFiltration_19_12/red, do_fit = False, filtration = RadialFiltration(center=array([19, 12]), n_jobs=-1)\n",
      "Got the result from ./20/train/filtrations/4/RadialFiltration_19_12/red/diagrams.npy\n",
      "Applying Scaler to persistence diagrams.\n",
      "Got the result from ./20/train/filtrations/4/RadialFiltration_19_12/red/features.npy\n",
      "FiltrationExtractor: processing 20/train/filtrations/4/RadialFiltration_19_12/green, do_fit = False, filtration = RadialFiltration(center=array([19, 12]), n_jobs=-1)\n",
      "Got the result from ./20/train/filtrations/4/RadialFiltration_19_12/green/diagrams.npy\n",
      "Applying Scaler to persistence diagrams.\n",
      "Got the result from ./20/train/filtrations/4/RadialFiltration_19_12/green/features.npy\n",
      "FiltrationExtractor: processing 20/train/filtrations/4/RadialFiltration_19_12/blue, do_fit = False, filtration = RadialFiltration(center=array([19, 12]), n_jobs=-1)\n",
      "Got the result from ./20/train/filtrations/4/RadialFiltration_19_12/blue/diagrams.npy\n",
      "Applying Scaler to persistence diagrams.\n",
      "Got the result from ./20/train/filtrations/4/RadialFiltration_19_12/blue/features.npy\n",
      "Applying filtration 43/72: RadialFiltration with c = (19, 19), bin. thr. = 0.4\n",
      "RGB images received. Transforming to grayscale.\n"
     ]
    },
    {
     "name": "stderr",
     "output_type": "stream",
     "text": [
      "rgb2gray: 100%|██████████| 50000/50000 [00:04<00:00, 10265.68it/s]\n"
     ]
    },
    {
     "name": "stdout",
     "output_type": "stream",
     "text": [
      "FiltrationExtractor: processing 20/train/filtrations/4/RadialFiltration_19_19/gray, do_fit = False, filtration = RadialFiltration(center=array([19, 19]), n_jobs=-1)\n",
      "Got the result from ./20/train/filtrations/4/RadialFiltration_19_19/gray/diagrams.npy\n",
      "Applying Scaler to persistence diagrams.\n",
      "Got the result from ./20/train/filtrations/4/RadialFiltration_19_19/gray/features.npy\n",
      "FiltrationExtractor: processing 20/train/filtrations/4/RadialFiltration_19_19/red, do_fit = False, filtration = RadialFiltration(center=array([19, 19]), n_jobs=-1)\n",
      "Got the result from ./20/train/filtrations/4/RadialFiltration_19_19/red/diagrams.npy\n",
      "Applying Scaler to persistence diagrams.\n",
      "Got the result from ./20/train/filtrations/4/RadialFiltration_19_19/red/features.npy\n",
      "FiltrationExtractor: processing 20/train/filtrations/4/RadialFiltration_19_19/green, do_fit = False, filtration = RadialFiltration(center=array([19, 19]), n_jobs=-1)\n",
      "Got the result from ./20/train/filtrations/4/RadialFiltration_19_19/green/diagrams.npy\n",
      "Applying Scaler to persistence diagrams.\n",
      "Got the result from ./20/train/filtrations/4/RadialFiltration_19_19/green/features.npy\n",
      "FiltrationExtractor: processing 20/train/filtrations/4/RadialFiltration_19_19/blue, do_fit = False, filtration = RadialFiltration(center=array([19, 19]), n_jobs=-1)\n",
      "Got the result from ./20/train/filtrations/4/RadialFiltration_19_19/blue/diagrams.npy\n",
      "Applying Scaler to persistence diagrams.\n",
      "Got the result from ./20/train/filtrations/4/RadialFiltration_19_19/blue/features.npy\n",
      "Applying filtration 44/72: RadialFiltration with c = (19, 26), bin. thr. = 0.4\n",
      "RGB images received. Transforming to grayscale.\n"
     ]
    },
    {
     "name": "stderr",
     "output_type": "stream",
     "text": [
      "rgb2gray: 100%|██████████| 50000/50000 [00:04<00:00, 12148.18it/s]\n"
     ]
    },
    {
     "name": "stdout",
     "output_type": "stream",
     "text": [
      "FiltrationExtractor: processing 20/train/filtrations/4/RadialFiltration_19_26/gray, do_fit = False, filtration = RadialFiltration(center=array([19, 26]), n_jobs=-1)\n",
      "Got the result from ./20/train/filtrations/4/RadialFiltration_19_26/gray/diagrams.npy\n",
      "Applying Scaler to persistence diagrams.\n",
      "Got the result from ./20/train/filtrations/4/RadialFiltration_19_26/gray/features.npy\n",
      "FiltrationExtractor: processing 20/train/filtrations/4/RadialFiltration_19_26/red, do_fit = False, filtration = RadialFiltration(center=array([19, 26]), n_jobs=-1)\n",
      "Got the result from ./20/train/filtrations/4/RadialFiltration_19_26/red/diagrams.npy\n",
      "Applying Scaler to persistence diagrams.\n",
      "Got the result from ./20/train/filtrations/4/RadialFiltration_19_26/red/features.npy\n",
      "FiltrationExtractor: processing 20/train/filtrations/4/RadialFiltration_19_26/green, do_fit = False, filtration = RadialFiltration(center=array([19, 26]), n_jobs=-1)\n",
      "Got the result from ./20/train/filtrations/4/RadialFiltration_19_26/green/diagrams.npy\n",
      "Applying Scaler to persistence diagrams.\n",
      "Got the result from ./20/train/filtrations/4/RadialFiltration_19_26/green/features.npy\n",
      "FiltrationExtractor: processing 20/train/filtrations/4/RadialFiltration_19_26/blue, do_fit = False, filtration = RadialFiltration(center=array([19, 26]), n_jobs=-1)\n",
      "Got the result from ./20/train/filtrations/4/RadialFiltration_19_26/blue/diagrams.npy\n",
      "Applying Scaler to persistence diagrams.\n",
      "Got the result from ./20/train/filtrations/4/RadialFiltration_19_26/blue/features.npy\n",
      "Applying filtration 45/72: RadialFiltration with c = (26, 5), bin. thr. = 0.4\n",
      "RGB images received. Transforming to grayscale.\n"
     ]
    },
    {
     "name": "stderr",
     "output_type": "stream",
     "text": [
      "rgb2gray: 100%|██████████| 50000/50000 [00:03<00:00, 12565.58it/s]\n"
     ]
    },
    {
     "name": "stdout",
     "output_type": "stream",
     "text": [
      "FiltrationExtractor: processing 20/train/filtrations/4/RadialFiltration_26_5/gray, do_fit = False, filtration = RadialFiltration(center=array([26,  5]), n_jobs=-1)\n",
      "Got the result from ./20/train/filtrations/4/RadialFiltration_26_5/gray/diagrams.npy\n",
      "Applying Scaler to persistence diagrams.\n",
      "Got the result from ./20/train/filtrations/4/RadialFiltration_26_5/gray/features.npy\n",
      "FiltrationExtractor: processing 20/train/filtrations/4/RadialFiltration_26_5/red, do_fit = False, filtration = RadialFiltration(center=array([26,  5]), n_jobs=-1)\n",
      "Got the result from ./20/train/filtrations/4/RadialFiltration_26_5/red/diagrams.npy\n",
      "Applying Scaler to persistence diagrams.\n",
      "Got the result from ./20/train/filtrations/4/RadialFiltration_26_5/red/features.npy\n",
      "FiltrationExtractor: processing 20/train/filtrations/4/RadialFiltration_26_5/green, do_fit = False, filtration = RadialFiltration(center=array([26,  5]), n_jobs=-1)\n",
      "Got the result from ./20/train/filtrations/4/RadialFiltration_26_5/green/diagrams.npy\n",
      "Applying Scaler to persistence diagrams.\n",
      "Got the result from ./20/train/filtrations/4/RadialFiltration_26_5/green/features.npy\n",
      "FiltrationExtractor: processing 20/train/filtrations/4/RadialFiltration_26_5/blue, do_fit = False, filtration = RadialFiltration(center=array([26,  5]), n_jobs=-1)\n",
      "Got the result from ./20/train/filtrations/4/RadialFiltration_26_5/blue/diagrams.npy\n",
      "Applying Scaler to persistence diagrams.\n",
      "Got the result from ./20/train/filtrations/4/RadialFiltration_26_5/blue/features.npy\n",
      "Applying filtration 46/72: RadialFiltration with c = (26, 12), bin. thr. = 0.4\n",
      "RGB images received. Transforming to grayscale.\n"
     ]
    },
    {
     "name": "stderr",
     "output_type": "stream",
     "text": [
      "rgb2gray: 100%|██████████| 50000/50000 [00:04<00:00, 10866.00it/s]\n"
     ]
    },
    {
     "name": "stdout",
     "output_type": "stream",
     "text": [
      "FiltrationExtractor: processing 20/train/filtrations/4/RadialFiltration_26_12/gray, do_fit = False, filtration = RadialFiltration(center=array([26, 12]), n_jobs=-1)\n",
      "Got the result from ./20/train/filtrations/4/RadialFiltration_26_12/gray/diagrams.npy\n",
      "Applying Scaler to persistence diagrams.\n",
      "Got the result from ./20/train/filtrations/4/RadialFiltration_26_12/gray/features.npy\n",
      "FiltrationExtractor: processing 20/train/filtrations/4/RadialFiltration_26_12/red, do_fit = False, filtration = RadialFiltration(center=array([26, 12]), n_jobs=-1)\n",
      "Got the result from ./20/train/filtrations/4/RadialFiltration_26_12/red/diagrams.npy\n",
      "Applying Scaler to persistence diagrams.\n",
      "Got the result from ./20/train/filtrations/4/RadialFiltration_26_12/red/features.npy\n",
      "FiltrationExtractor: processing 20/train/filtrations/4/RadialFiltration_26_12/green, do_fit = False, filtration = RadialFiltration(center=array([26, 12]), n_jobs=-1)\n",
      "Got the result from ./20/train/filtrations/4/RadialFiltration_26_12/green/diagrams.npy\n",
      "Applying Scaler to persistence diagrams.\n",
      "Got the result from ./20/train/filtrations/4/RadialFiltration_26_12/green/features.npy\n",
      "FiltrationExtractor: processing 20/train/filtrations/4/RadialFiltration_26_12/blue, do_fit = False, filtration = RadialFiltration(center=array([26, 12]), n_jobs=-1)\n",
      "Got the result from ./20/train/filtrations/4/RadialFiltration_26_12/blue/diagrams.npy\n",
      "Applying Scaler to persistence diagrams.\n",
      "Got the result from ./20/train/filtrations/4/RadialFiltration_26_12/blue/features.npy\n",
      "Applying filtration 47/72: RadialFiltration with c = (26, 19), bin. thr. = 0.4\n",
      "RGB images received. Transforming to grayscale.\n"
     ]
    },
    {
     "name": "stderr",
     "output_type": "stream",
     "text": [
      "rgb2gray: 100%|██████████| 50000/50000 [00:04<00:00, 12467.94it/s]\n"
     ]
    },
    {
     "name": "stdout",
     "output_type": "stream",
     "text": [
      "FiltrationExtractor: processing 20/train/filtrations/4/RadialFiltration_26_19/gray, do_fit = False, filtration = RadialFiltration(center=array([26, 19]), n_jobs=-1)\n",
      "Got the result from ./20/train/filtrations/4/RadialFiltration_26_19/gray/diagrams.npy\n",
      "Applying Scaler to persistence diagrams.\n",
      "Got the result from ./20/train/filtrations/4/RadialFiltration_26_19/gray/features.npy\n",
      "FiltrationExtractor: processing 20/train/filtrations/4/RadialFiltration_26_19/red, do_fit = False, filtration = RadialFiltration(center=array([26, 19]), n_jobs=-1)\n",
      "Got the result from ./20/train/filtrations/4/RadialFiltration_26_19/red/diagrams.npy\n",
      "Applying Scaler to persistence diagrams.\n",
      "Got the result from ./20/train/filtrations/4/RadialFiltration_26_19/red/features.npy\n",
      "FiltrationExtractor: processing 20/train/filtrations/4/RadialFiltration_26_19/green, do_fit = False, filtration = RadialFiltration(center=array([26, 19]), n_jobs=-1)\n",
      "Got the result from ./20/train/filtrations/4/RadialFiltration_26_19/green/diagrams.npy\n",
      "Applying Scaler to persistence diagrams.\n",
      "Got the result from ./20/train/filtrations/4/RadialFiltration_26_19/green/features.npy\n",
      "FiltrationExtractor: processing 20/train/filtrations/4/RadialFiltration_26_19/blue, do_fit = False, filtration = RadialFiltration(center=array([26, 19]), n_jobs=-1)\n",
      "Got the result from ./20/train/filtrations/4/RadialFiltration_26_19/blue/diagrams.npy\n",
      "Applying Scaler to persistence diagrams.\n",
      "Got the result from ./20/train/filtrations/4/RadialFiltration_26_19/blue/features.npy\n",
      "Applying filtration 48/72: RadialFiltration with c = (26, 26), bin. thr. = 0.4\n",
      "RGB images received. Transforming to grayscale.\n"
     ]
    },
    {
     "name": "stderr",
     "output_type": "stream",
     "text": [
      "rgb2gray: 100%|██████████| 50000/50000 [00:04<00:00, 11714.98it/s]\n"
     ]
    },
    {
     "name": "stdout",
     "output_type": "stream",
     "text": [
      "FiltrationExtractor: processing 20/train/filtrations/4/RadialFiltration_26_26/gray, do_fit = False, filtration = RadialFiltration(center=array([26, 26]), n_jobs=-1)\n",
      "Got the result from ./20/train/filtrations/4/RadialFiltration_26_26/gray/diagrams.npy\n",
      "Applying Scaler to persistence diagrams.\n",
      "Got the result from ./20/train/filtrations/4/RadialFiltration_26_26/gray/features.npy\n",
      "FiltrationExtractor: processing 20/train/filtrations/4/RadialFiltration_26_26/red, do_fit = False, filtration = RadialFiltration(center=array([26, 26]), n_jobs=-1)\n",
      "Got the result from ./20/train/filtrations/4/RadialFiltration_26_26/red/diagrams.npy\n",
      "Applying Scaler to persistence diagrams.\n",
      "Got the result from ./20/train/filtrations/4/RadialFiltration_26_26/red/features.npy\n",
      "FiltrationExtractor: processing 20/train/filtrations/4/RadialFiltration_26_26/green, do_fit = False, filtration = RadialFiltration(center=array([26, 26]), n_jobs=-1)\n",
      "Got the result from ./20/train/filtrations/4/RadialFiltration_26_26/green/diagrams.npy\n",
      "Applying Scaler to persistence diagrams.\n",
      "Got the result from ./20/train/filtrations/4/RadialFiltration_26_26/green/features.npy\n",
      "FiltrationExtractor: processing 20/train/filtrations/4/RadialFiltration_26_26/blue, do_fit = False, filtration = RadialFiltration(center=array([26, 26]), n_jobs=-1)\n",
      "Got the result from ./20/train/filtrations/4/RadialFiltration_26_26/blue/diagrams.npy\n",
      "Applying Scaler to persistence diagrams.\n",
      "Got the result from ./20/train/filtrations/4/RadialFiltration_26_26/blue/features.npy\n",
      "Applying filtration 49/72: HeightFiltration with d = (-1, -1), bin. thr. = 0.6\n",
      "RGB images received. Transforming to grayscale.\n"
     ]
    },
    {
     "name": "stderr",
     "output_type": "stream",
     "text": [
      "rgb2gray: 100%|██████████| 50000/50000 [00:04<00:00, 10003.75it/s]\n"
     ]
    },
    {
     "name": "stdout",
     "output_type": "stream",
     "text": [
      "FiltrationExtractor: processing 20/train/filtrations/6/HeightFiltrartion_-1_-1/gray, do_fit = False, filtration = HeightFiltration(direction=array([-1, -1]), n_jobs=-1)\n",
      "Got the result from ./20/train/filtrations/6/HeightFiltrartion_-1_-1/gray/diagrams.npy\n",
      "Applying Scaler to persistence diagrams.\n",
      "Got the result from ./20/train/filtrations/6/HeightFiltrartion_-1_-1/gray/features.npy\n",
      "FiltrationExtractor: processing 20/train/filtrations/6/HeightFiltrartion_-1_-1/red, do_fit = False, filtration = HeightFiltration(direction=array([-1, -1]), n_jobs=-1)\n",
      "Got the result from ./20/train/filtrations/6/HeightFiltrartion_-1_-1/red/diagrams.npy\n",
      "Applying Scaler to persistence diagrams.\n",
      "Got the result from ./20/train/filtrations/6/HeightFiltrartion_-1_-1/red/features.npy\n",
      "FiltrationExtractor: processing 20/train/filtrations/6/HeightFiltrartion_-1_-1/green, do_fit = False, filtration = HeightFiltration(direction=array([-1, -1]), n_jobs=-1)\n",
      "Got the result from ./20/train/filtrations/6/HeightFiltrartion_-1_-1/green/diagrams.npy\n",
      "Applying Scaler to persistence diagrams.\n",
      "Got the result from ./20/train/filtrations/6/HeightFiltrartion_-1_-1/green/features.npy\n",
      "FiltrationExtractor: processing 20/train/filtrations/6/HeightFiltrartion_-1_-1/blue, do_fit = False, filtration = HeightFiltration(direction=array([-1, -1]), n_jobs=-1)\n",
      "Got the result from ./20/train/filtrations/6/HeightFiltrartion_-1_-1/blue/diagrams.npy\n",
      "Applying Scaler to persistence diagrams.\n",
      "Got the result from ./20/train/filtrations/6/HeightFiltrartion_-1_-1/blue/features.npy\n",
      "Applying filtration 50/72: HeightFiltration with d = (-1, 0), bin. thr. = 0.6\n",
      "RGB images received. Transforming to grayscale.\n"
     ]
    },
    {
     "name": "stderr",
     "output_type": "stream",
     "text": [
      "rgb2gray: 100%|██████████| 50000/50000 [00:04<00:00, 10393.59it/s]\n"
     ]
    },
    {
     "name": "stdout",
     "output_type": "stream",
     "text": [
      "FiltrationExtractor: processing 20/train/filtrations/6/HeightFiltrartion_-1_0/gray, do_fit = False, filtration = HeightFiltration(direction=array([-1,  0]), n_jobs=-1)\n",
      "Got the result from ./20/train/filtrations/6/HeightFiltrartion_-1_0/gray/diagrams.npy\n",
      "Applying Scaler to persistence diagrams.\n",
      "Got the result from ./20/train/filtrations/6/HeightFiltrartion_-1_0/gray/features.npy\n",
      "FiltrationExtractor: processing 20/train/filtrations/6/HeightFiltrartion_-1_0/red, do_fit = False, filtration = HeightFiltration(direction=array([-1,  0]), n_jobs=-1)\n",
      "Got the result from ./20/train/filtrations/6/HeightFiltrartion_-1_0/red/diagrams.npy\n",
      "Applying Scaler to persistence diagrams.\n",
      "Got the result from ./20/train/filtrations/6/HeightFiltrartion_-1_0/red/features.npy\n",
      "FiltrationExtractor: processing 20/train/filtrations/6/HeightFiltrartion_-1_0/green, do_fit = False, filtration = HeightFiltration(direction=array([-1,  0]), n_jobs=-1)\n",
      "Got the result from ./20/train/filtrations/6/HeightFiltrartion_-1_0/green/diagrams.npy\n",
      "Applying Scaler to persistence diagrams.\n",
      "Got the result from ./20/train/filtrations/6/HeightFiltrartion_-1_0/green/features.npy\n",
      "FiltrationExtractor: processing 20/train/filtrations/6/HeightFiltrartion_-1_0/blue, do_fit = False, filtration = HeightFiltration(direction=array([-1,  0]), n_jobs=-1)\n",
      "Got the result from ./20/train/filtrations/6/HeightFiltrartion_-1_0/blue/diagrams.npy\n",
      "Applying Scaler to persistence diagrams.\n",
      "Got the result from ./20/train/filtrations/6/HeightFiltrartion_-1_0/blue/features.npy\n",
      "Applying filtration 51/72: HeightFiltration with d = (-1, 1), bin. thr. = 0.6\n",
      "RGB images received. Transforming to grayscale.\n"
     ]
    },
    {
     "name": "stderr",
     "output_type": "stream",
     "text": [
      "rgb2gray: 100%|██████████| 50000/50000 [00:04<00:00, 12211.29it/s]\n"
     ]
    },
    {
     "name": "stdout",
     "output_type": "stream",
     "text": [
      "FiltrationExtractor: processing 20/train/filtrations/6/HeightFiltrartion_-1_1/gray, do_fit = False, filtration = HeightFiltration(direction=array([-1,  1]), n_jobs=-1)\n",
      "Got the result from ./20/train/filtrations/6/HeightFiltrartion_-1_1/gray/diagrams.npy\n",
      "Applying Scaler to persistence diagrams.\n",
      "Got the result from ./20/train/filtrations/6/HeightFiltrartion_-1_1/gray/features.npy\n",
      "FiltrationExtractor: processing 20/train/filtrations/6/HeightFiltrartion_-1_1/red, do_fit = False, filtration = HeightFiltration(direction=array([-1,  1]), n_jobs=-1)\n",
      "Got the result from ./20/train/filtrations/6/HeightFiltrartion_-1_1/red/diagrams.npy\n",
      "Applying Scaler to persistence diagrams.\n",
      "Got the result from ./20/train/filtrations/6/HeightFiltrartion_-1_1/red/features.npy\n",
      "FiltrationExtractor: processing 20/train/filtrations/6/HeightFiltrartion_-1_1/green, do_fit = False, filtration = HeightFiltration(direction=array([-1,  1]), n_jobs=-1)\n",
      "Got the result from ./20/train/filtrations/6/HeightFiltrartion_-1_1/green/diagrams.npy\n",
      "Applying Scaler to persistence diagrams.\n",
      "Got the result from ./20/train/filtrations/6/HeightFiltrartion_-1_1/green/features.npy\n",
      "FiltrationExtractor: processing 20/train/filtrations/6/HeightFiltrartion_-1_1/blue, do_fit = False, filtration = HeightFiltration(direction=array([-1,  1]), n_jobs=-1)\n",
      "Got the result from ./20/train/filtrations/6/HeightFiltrartion_-1_1/blue/diagrams.npy\n",
      "Applying Scaler to persistence diagrams.\n",
      "Got the result from ./20/train/filtrations/6/HeightFiltrartion_-1_1/blue/features.npy\n",
      "Applying filtration 52/72: HeightFiltration with d = (0, -1), bin. thr. = 0.6\n",
      "RGB images received. Transforming to grayscale.\n"
     ]
    },
    {
     "name": "stderr",
     "output_type": "stream",
     "text": [
      "rgb2gray: 100%|██████████| 50000/50000 [00:04<00:00, 10621.25it/s]\n"
     ]
    },
    {
     "name": "stdout",
     "output_type": "stream",
     "text": [
      "FiltrationExtractor: processing 20/train/filtrations/6/HeightFiltrartion_0_-1/gray, do_fit = False, filtration = HeightFiltration(direction=array([ 0, -1]), n_jobs=-1)\n",
      "Got the result from ./20/train/filtrations/6/HeightFiltrartion_0_-1/gray/diagrams.npy\n",
      "Applying Scaler to persistence diagrams.\n",
      "Got the result from ./20/train/filtrations/6/HeightFiltrartion_0_-1/gray/features.npy\n",
      "FiltrationExtractor: processing 20/train/filtrations/6/HeightFiltrartion_0_-1/red, do_fit = False, filtration = HeightFiltration(direction=array([ 0, -1]), n_jobs=-1)\n",
      "Got the result from ./20/train/filtrations/6/HeightFiltrartion_0_-1/red/diagrams.npy\n",
      "Applying Scaler to persistence diagrams.\n",
      "Got the result from ./20/train/filtrations/6/HeightFiltrartion_0_-1/red/features.npy\n",
      "FiltrationExtractor: processing 20/train/filtrations/6/HeightFiltrartion_0_-1/green, do_fit = False, filtration = HeightFiltration(direction=array([ 0, -1]), n_jobs=-1)\n",
      "Got the result from ./20/train/filtrations/6/HeightFiltrartion_0_-1/green/diagrams.npy\n",
      "Applying Scaler to persistence diagrams.\n",
      "Got the result from ./20/train/filtrations/6/HeightFiltrartion_0_-1/green/features.npy\n",
      "FiltrationExtractor: processing 20/train/filtrations/6/HeightFiltrartion_0_-1/blue, do_fit = False, filtration = HeightFiltration(direction=array([ 0, -1]), n_jobs=-1)\n",
      "Got the result from ./20/train/filtrations/6/HeightFiltrartion_0_-1/blue/diagrams.npy\n",
      "Applying Scaler to persistence diagrams.\n",
      "Got the result from ./20/train/filtrations/6/HeightFiltrartion_0_-1/blue/features.npy\n",
      "Applying filtration 53/72: HeightFiltration with d = (0, 1), bin. thr. = 0.6\n",
      "RGB images received. Transforming to grayscale.\n"
     ]
    },
    {
     "name": "stderr",
     "output_type": "stream",
     "text": [
      "rgb2gray: 100%|██████████| 50000/50000 [00:04<00:00, 12201.82it/s]\n"
     ]
    },
    {
     "name": "stdout",
     "output_type": "stream",
     "text": [
      "FiltrationExtractor: processing 20/train/filtrations/6/HeightFiltrartion_0_1/gray, do_fit = False, filtration = HeightFiltration(direction=array([0, 1]), n_jobs=-1)\n",
      "Got the result from ./20/train/filtrations/6/HeightFiltrartion_0_1/gray/diagrams.npy\n",
      "Applying Scaler to persistence diagrams.\n",
      "Got the result from ./20/train/filtrations/6/HeightFiltrartion_0_1/gray/features.npy\n",
      "FiltrationExtractor: processing 20/train/filtrations/6/HeightFiltrartion_0_1/red, do_fit = False, filtration = HeightFiltration(direction=array([0, 1]), n_jobs=-1)\n",
      "Got the result from ./20/train/filtrations/6/HeightFiltrartion_0_1/red/diagrams.npy\n",
      "Applying Scaler to persistence diagrams.\n",
      "Got the result from ./20/train/filtrations/6/HeightFiltrartion_0_1/red/features.npy\n",
      "FiltrationExtractor: processing 20/train/filtrations/6/HeightFiltrartion_0_1/green, do_fit = False, filtration = HeightFiltration(direction=array([0, 1]), n_jobs=-1)\n",
      "Got the result from ./20/train/filtrations/6/HeightFiltrartion_0_1/green/diagrams.npy\n",
      "Applying Scaler to persistence diagrams.\n",
      "Got the result from ./20/train/filtrations/6/HeightFiltrartion_0_1/green/features.npy\n",
      "FiltrationExtractor: processing 20/train/filtrations/6/HeightFiltrartion_0_1/blue, do_fit = False, filtration = HeightFiltration(direction=array([0, 1]), n_jobs=-1)\n",
      "Got the result from ./20/train/filtrations/6/HeightFiltrartion_0_1/blue/diagrams.npy\n",
      "Applying Scaler to persistence diagrams.\n",
      "Got the result from ./20/train/filtrations/6/HeightFiltrartion_0_1/blue/features.npy\n",
      "Applying filtration 54/72: HeightFiltration with d = (1, -1), bin. thr. = 0.6\n",
      "RGB images received. Transforming to grayscale.\n"
     ]
    },
    {
     "name": "stderr",
     "output_type": "stream",
     "text": [
      "rgb2gray: 100%|██████████| 50000/50000 [00:04<00:00, 12208.98it/s]\n"
     ]
    },
    {
     "name": "stdout",
     "output_type": "stream",
     "text": [
      "FiltrationExtractor: processing 20/train/filtrations/6/HeightFiltrartion_1_-1/gray, do_fit = False, filtration = HeightFiltration(direction=array([ 1, -1]), n_jobs=-1)\n",
      "Got the result from ./20/train/filtrations/6/HeightFiltrartion_1_-1/gray/diagrams.npy\n",
      "Applying Scaler to persistence diagrams.\n",
      "Got the result from ./20/train/filtrations/6/HeightFiltrartion_1_-1/gray/features.npy\n",
      "FiltrationExtractor: processing 20/train/filtrations/6/HeightFiltrartion_1_-1/red, do_fit = False, filtration = HeightFiltration(direction=array([ 1, -1]), n_jobs=-1)\n",
      "Got the result from ./20/train/filtrations/6/HeightFiltrartion_1_-1/red/diagrams.npy\n",
      "Applying Scaler to persistence diagrams.\n",
      "Got the result from ./20/train/filtrations/6/HeightFiltrartion_1_-1/red/features.npy\n",
      "FiltrationExtractor: processing 20/train/filtrations/6/HeightFiltrartion_1_-1/green, do_fit = False, filtration = HeightFiltration(direction=array([ 1, -1]), n_jobs=-1)\n",
      "Got the result from ./20/train/filtrations/6/HeightFiltrartion_1_-1/green/diagrams.npy\n",
      "Applying Scaler to persistence diagrams.\n",
      "Got the result from ./20/train/filtrations/6/HeightFiltrartion_1_-1/green/features.npy\n",
      "FiltrationExtractor: processing 20/train/filtrations/6/HeightFiltrartion_1_-1/blue, do_fit = False, filtration = HeightFiltration(direction=array([ 1, -1]), n_jobs=-1)\n",
      "Got the result from ./20/train/filtrations/6/HeightFiltrartion_1_-1/blue/diagrams.npy\n",
      "Applying Scaler to persistence diagrams.\n",
      "Got the result from ./20/train/filtrations/6/HeightFiltrartion_1_-1/blue/features.npy\n",
      "Applying filtration 55/72: HeightFiltration with d = (1, 0), bin. thr. = 0.6\n",
      "RGB images received. Transforming to grayscale.\n"
     ]
    },
    {
     "name": "stderr",
     "output_type": "stream",
     "text": [
      "rgb2gray: 100%|██████████| 50000/50000 [00:04<00:00, 10550.69it/s]\n"
     ]
    },
    {
     "name": "stdout",
     "output_type": "stream",
     "text": [
      "FiltrationExtractor: processing 20/train/filtrations/6/HeightFiltrartion_1_0/gray, do_fit = False, filtration = HeightFiltration(direction=array([1, 0]), n_jobs=-1)\n",
      "Got the result from ./20/train/filtrations/6/HeightFiltrartion_1_0/gray/diagrams.npy\n",
      "Applying Scaler to persistence diagrams.\n",
      "Got the result from ./20/train/filtrations/6/HeightFiltrartion_1_0/gray/features.npy\n",
      "FiltrationExtractor: processing 20/train/filtrations/6/HeightFiltrartion_1_0/red, do_fit = False, filtration = HeightFiltration(direction=array([1, 0]), n_jobs=-1)\n",
      "Got the result from ./20/train/filtrations/6/HeightFiltrartion_1_0/red/diagrams.npy\n",
      "Applying Scaler to persistence diagrams.\n",
      "Got the result from ./20/train/filtrations/6/HeightFiltrartion_1_0/red/features.npy\n",
      "FiltrationExtractor: processing 20/train/filtrations/6/HeightFiltrartion_1_0/green, do_fit = False, filtration = HeightFiltration(direction=array([1, 0]), n_jobs=-1)\n",
      "Got the result from ./20/train/filtrations/6/HeightFiltrartion_1_0/green/diagrams.npy\n",
      "Applying Scaler to persistence diagrams.\n",
      "Got the result from ./20/train/filtrations/6/HeightFiltrartion_1_0/green/features.npy\n",
      "FiltrationExtractor: processing 20/train/filtrations/6/HeightFiltrartion_1_0/blue, do_fit = False, filtration = HeightFiltration(direction=array([1, 0]), n_jobs=-1)\n",
      "Got the result from ./20/train/filtrations/6/HeightFiltrartion_1_0/blue/diagrams.npy\n",
      "Applying Scaler to persistence diagrams.\n",
      "Got the result from ./20/train/filtrations/6/HeightFiltrartion_1_0/blue/features.npy\n",
      "Applying filtration 56/72: HeightFiltration with d = (1, 1), bin. thr. = 0.6\n",
      "RGB images received. Transforming to grayscale.\n"
     ]
    },
    {
     "name": "stderr",
     "output_type": "stream",
     "text": [
      "rgb2gray: 100%|██████████| 50000/50000 [00:05<00:00, 9235.11it/s] \n"
     ]
    },
    {
     "name": "stdout",
     "output_type": "stream",
     "text": [
      "FiltrationExtractor: processing 20/train/filtrations/6/HeightFiltrartion_1_1/gray, do_fit = False, filtration = HeightFiltration(direction=array([1, 1]), n_jobs=-1)\n",
      "Got the result from ./20/train/filtrations/6/HeightFiltrartion_1_1/gray/diagrams.npy\n",
      "Applying Scaler to persistence diagrams.\n",
      "Got the result from ./20/train/filtrations/6/HeightFiltrartion_1_1/gray/features.npy\n",
      "FiltrationExtractor: processing 20/train/filtrations/6/HeightFiltrartion_1_1/red, do_fit = False, filtration = HeightFiltration(direction=array([1, 1]), n_jobs=-1)\n",
      "Got the result from ./20/train/filtrations/6/HeightFiltrartion_1_1/red/diagrams.npy\n",
      "Applying Scaler to persistence diagrams.\n",
      "Got the result from ./20/train/filtrations/6/HeightFiltrartion_1_1/red/features.npy\n",
      "FiltrationExtractor: processing 20/train/filtrations/6/HeightFiltrartion_1_1/green, do_fit = False, filtration = HeightFiltration(direction=array([1, 1]), n_jobs=-1)\n",
      "Got the result from ./20/train/filtrations/6/HeightFiltrartion_1_1/green/diagrams.npy\n",
      "Applying Scaler to persistence diagrams.\n",
      "Got the result from ./20/train/filtrations/6/HeightFiltrartion_1_1/green/features.npy\n",
      "FiltrationExtractor: processing 20/train/filtrations/6/HeightFiltrartion_1_1/blue, do_fit = False, filtration = HeightFiltration(direction=array([1, 1]), n_jobs=-1)\n",
      "Got the result from ./20/train/filtrations/6/HeightFiltrartion_1_1/blue/diagrams.npy\n",
      "Applying Scaler to persistence diagrams.\n",
      "Got the result from ./20/train/filtrations/6/HeightFiltrartion_1_1/blue/features.npy\n",
      "Applying filtration 57/72: RadialFiltration with c = (5, 5), bin. thr. = 0.6\n",
      "RGB images received. Transforming to grayscale.\n"
     ]
    },
    {
     "name": "stderr",
     "output_type": "stream",
     "text": [
      "rgb2gray: 100%|██████████| 50000/50000 [00:04<00:00, 12097.67it/s]\n"
     ]
    },
    {
     "name": "stdout",
     "output_type": "stream",
     "text": [
      "FiltrationExtractor: processing 20/train/filtrations/6/RadialFiltration_5_5/gray, do_fit = False, filtration = RadialFiltration(center=array([5, 5]), n_jobs=-1)\n",
      "Got the result from ./20/train/filtrations/6/RadialFiltration_5_5/gray/diagrams.npy\n",
      "Applying Scaler to persistence diagrams.\n",
      "Got the result from ./20/train/filtrations/6/RadialFiltration_5_5/gray/features.npy\n",
      "FiltrationExtractor: processing 20/train/filtrations/6/RadialFiltration_5_5/red, do_fit = False, filtration = RadialFiltration(center=array([5, 5]), n_jobs=-1)\n",
      "Got the result from ./20/train/filtrations/6/RadialFiltration_5_5/red/diagrams.npy\n",
      "Applying Scaler to persistence diagrams.\n",
      "Got the result from ./20/train/filtrations/6/RadialFiltration_5_5/red/features.npy\n",
      "FiltrationExtractor: processing 20/train/filtrations/6/RadialFiltration_5_5/green, do_fit = False, filtration = RadialFiltration(center=array([5, 5]), n_jobs=-1)\n",
      "Got the result from ./20/train/filtrations/6/RadialFiltration_5_5/green/diagrams.npy\n",
      "Applying Scaler to persistence diagrams.\n",
      "Got the result from ./20/train/filtrations/6/RadialFiltration_5_5/green/features.npy\n",
      "FiltrationExtractor: processing 20/train/filtrations/6/RadialFiltration_5_5/blue, do_fit = False, filtration = RadialFiltration(center=array([5, 5]), n_jobs=-1)\n",
      "Got the result from ./20/train/filtrations/6/RadialFiltration_5_5/blue/diagrams.npy\n",
      "Applying Scaler to persistence diagrams.\n",
      "Got the result from ./20/train/filtrations/6/RadialFiltration_5_5/blue/features.npy\n",
      "Applying filtration 58/72: RadialFiltration with c = (5, 12), bin. thr. = 0.6\n",
      "RGB images received. Transforming to grayscale.\n"
     ]
    },
    {
     "name": "stderr",
     "output_type": "stream",
     "text": [
      "rgb2gray: 100%|██████████| 50000/50000 [00:05<00:00, 9522.89it/s] \n"
     ]
    },
    {
     "name": "stdout",
     "output_type": "stream",
     "text": [
      "FiltrationExtractor: processing 20/train/filtrations/6/RadialFiltration_5_12/gray, do_fit = False, filtration = RadialFiltration(center=array([ 5, 12]), n_jobs=-1)\n",
      "Got the result from ./20/train/filtrations/6/RadialFiltration_5_12/gray/diagrams.npy\n",
      "Applying Scaler to persistence diagrams.\n",
      "Got the result from ./20/train/filtrations/6/RadialFiltration_5_12/gray/features.npy\n",
      "FiltrationExtractor: processing 20/train/filtrations/6/RadialFiltration_5_12/red, do_fit = False, filtration = RadialFiltration(center=array([ 5, 12]), n_jobs=-1)\n",
      "Got the result from ./20/train/filtrations/6/RadialFiltration_5_12/red/diagrams.npy\n",
      "Applying Scaler to persistence diagrams.\n",
      "Got the result from ./20/train/filtrations/6/RadialFiltration_5_12/red/features.npy\n",
      "FiltrationExtractor: processing 20/train/filtrations/6/RadialFiltration_5_12/green, do_fit = False, filtration = RadialFiltration(center=array([ 5, 12]), n_jobs=-1)\n",
      "Got the result from ./20/train/filtrations/6/RadialFiltration_5_12/green/diagrams.npy\n",
      "Applying Scaler to persistence diagrams.\n",
      "Got the result from ./20/train/filtrations/6/RadialFiltration_5_12/green/features.npy\n",
      "FiltrationExtractor: processing 20/train/filtrations/6/RadialFiltration_5_12/blue, do_fit = False, filtration = RadialFiltration(center=array([ 5, 12]), n_jobs=-1)\n",
      "Got the result from ./20/train/filtrations/6/RadialFiltration_5_12/blue/diagrams.npy\n",
      "Applying Scaler to persistence diagrams.\n",
      "Got the result from ./20/train/filtrations/6/RadialFiltration_5_12/blue/features.npy\n",
      "Applying filtration 59/72: RadialFiltration with c = (5, 19), bin. thr. = 0.6\n",
      "RGB images received. Transforming to grayscale.\n"
     ]
    },
    {
     "name": "stderr",
     "output_type": "stream",
     "text": [
      "rgb2gray: 100%|██████████| 50000/50000 [00:04<00:00, 10862.45it/s]\n"
     ]
    },
    {
     "name": "stdout",
     "output_type": "stream",
     "text": [
      "FiltrationExtractor: processing 20/train/filtrations/6/RadialFiltration_5_19/gray, do_fit = False, filtration = RadialFiltration(center=array([ 5, 19]), n_jobs=-1)\n",
      "Got the result from ./20/train/filtrations/6/RadialFiltration_5_19/gray/diagrams.npy\n",
      "Applying Scaler to persistence diagrams.\n",
      "Got the result from ./20/train/filtrations/6/RadialFiltration_5_19/gray/features.npy\n",
      "FiltrationExtractor: processing 20/train/filtrations/6/RadialFiltration_5_19/red, do_fit = False, filtration = RadialFiltration(center=array([ 5, 19]), n_jobs=-1)\n",
      "Got the result from ./20/train/filtrations/6/RadialFiltration_5_19/red/diagrams.npy\n",
      "Applying Scaler to persistence diagrams.\n",
      "Got the result from ./20/train/filtrations/6/RadialFiltration_5_19/red/features.npy\n",
      "FiltrationExtractor: processing 20/train/filtrations/6/RadialFiltration_5_19/green, do_fit = False, filtration = RadialFiltration(center=array([ 5, 19]), n_jobs=-1)\n",
      "Got the result from ./20/train/filtrations/6/RadialFiltration_5_19/green/diagrams.npy\n",
      "Applying Scaler to persistence diagrams.\n",
      "Got the result from ./20/train/filtrations/6/RadialFiltration_5_19/green/features.npy\n",
      "FiltrationExtractor: processing 20/train/filtrations/6/RadialFiltration_5_19/blue, do_fit = False, filtration = RadialFiltration(center=array([ 5, 19]), n_jobs=-1)\n",
      "Got the result from ./20/train/filtrations/6/RadialFiltration_5_19/blue/diagrams.npy\n",
      "Applying Scaler to persistence diagrams.\n",
      "Got the result from ./20/train/filtrations/6/RadialFiltration_5_19/blue/features.npy\n",
      "Applying filtration 60/72: RadialFiltration with c = (5, 26), bin. thr. = 0.6\n",
      "RGB images received. Transforming to grayscale.\n"
     ]
    },
    {
     "name": "stderr",
     "output_type": "stream",
     "text": [
      "rgb2gray: 100%|██████████| 50000/50000 [00:04<00:00, 12292.55it/s]\n"
     ]
    },
    {
     "name": "stdout",
     "output_type": "stream",
     "text": [
      "FiltrationExtractor: processing 20/train/filtrations/6/RadialFiltration_5_26/gray, do_fit = False, filtration = RadialFiltration(center=array([ 5, 26]), n_jobs=-1)\n",
      "Got the result from ./20/train/filtrations/6/RadialFiltration_5_26/gray/diagrams.npy\n",
      "Applying Scaler to persistence diagrams.\n",
      "Got the result from ./20/train/filtrations/6/RadialFiltration_5_26/gray/features.npy\n",
      "FiltrationExtractor: processing 20/train/filtrations/6/RadialFiltration_5_26/red, do_fit = False, filtration = RadialFiltration(center=array([ 5, 26]), n_jobs=-1)\n",
      "Got the result from ./20/train/filtrations/6/RadialFiltration_5_26/red/diagrams.npy\n",
      "Applying Scaler to persistence diagrams.\n",
      "Got the result from ./20/train/filtrations/6/RadialFiltration_5_26/red/features.npy\n",
      "FiltrationExtractor: processing 20/train/filtrations/6/RadialFiltration_5_26/green, do_fit = False, filtration = RadialFiltration(center=array([ 5, 26]), n_jobs=-1)\n",
      "Got the result from ./20/train/filtrations/6/RadialFiltration_5_26/green/diagrams.npy\n",
      "Applying Scaler to persistence diagrams.\n",
      "Got the result from ./20/train/filtrations/6/RadialFiltration_5_26/green/features.npy\n",
      "FiltrationExtractor: processing 20/train/filtrations/6/RadialFiltration_5_26/blue, do_fit = False, filtration = RadialFiltration(center=array([ 5, 26]), n_jobs=-1)\n",
      "Got the result from ./20/train/filtrations/6/RadialFiltration_5_26/blue/diagrams.npy\n",
      "Applying Scaler to persistence diagrams.\n",
      "Got the result from ./20/train/filtrations/6/RadialFiltration_5_26/blue/features.npy\n",
      "Applying filtration 61/72: RadialFiltration with c = (12, 5), bin. thr. = 0.6\n",
      "RGB images received. Transforming to grayscale.\n"
     ]
    },
    {
     "name": "stderr",
     "output_type": "stream",
     "text": [
      "rgb2gray: 100%|██████████| 50000/50000 [00:04<00:00, 11659.05it/s]\n"
     ]
    },
    {
     "name": "stdout",
     "output_type": "stream",
     "text": [
      "FiltrationExtractor: processing 20/train/filtrations/6/RadialFiltration_12_5/gray, do_fit = False, filtration = RadialFiltration(center=array([12,  5]), n_jobs=-1)\n",
      "Got the result from ./20/train/filtrations/6/RadialFiltration_12_5/gray/diagrams.npy\n",
      "Applying Scaler to persistence diagrams.\n",
      "Got the result from ./20/train/filtrations/6/RadialFiltration_12_5/gray/features.npy\n",
      "FiltrationExtractor: processing 20/train/filtrations/6/RadialFiltration_12_5/red, do_fit = False, filtration = RadialFiltration(center=array([12,  5]), n_jobs=-1)\n",
      "Got the result from ./20/train/filtrations/6/RadialFiltration_12_5/red/diagrams.npy\n",
      "Applying Scaler to persistence diagrams.\n",
      "Got the result from ./20/train/filtrations/6/RadialFiltration_12_5/red/features.npy\n",
      "FiltrationExtractor: processing 20/train/filtrations/6/RadialFiltration_12_5/green, do_fit = False, filtration = RadialFiltration(center=array([12,  5]), n_jobs=-1)\n",
      "Got the result from ./20/train/filtrations/6/RadialFiltration_12_5/green/diagrams.npy\n",
      "Applying Scaler to persistence diagrams.\n",
      "Got the result from ./20/train/filtrations/6/RadialFiltration_12_5/green/features.npy\n",
      "FiltrationExtractor: processing 20/train/filtrations/6/RadialFiltration_12_5/blue, do_fit = False, filtration = RadialFiltration(center=array([12,  5]), n_jobs=-1)\n",
      "Got the result from ./20/train/filtrations/6/RadialFiltration_12_5/blue/diagrams.npy\n",
      "Applying Scaler to persistence diagrams.\n",
      "Got the result from ./20/train/filtrations/6/RadialFiltration_12_5/blue/features.npy\n",
      "Applying filtration 62/72: RadialFiltration with c = (12, 12), bin. thr. = 0.6\n",
      "RGB images received. Transforming to grayscale.\n"
     ]
    },
    {
     "name": "stderr",
     "output_type": "stream",
     "text": [
      "rgb2gray: 100%|██████████| 50000/50000 [00:05<00:00, 9857.05it/s] \n"
     ]
    },
    {
     "name": "stdout",
     "output_type": "stream",
     "text": [
      "FiltrationExtractor: processing 20/train/filtrations/6/RadialFiltration_12_12/gray, do_fit = False, filtration = RadialFiltration(center=array([12, 12]), n_jobs=-1)\n",
      "Got the result from ./20/train/filtrations/6/RadialFiltration_12_12/gray/diagrams.npy\n",
      "Applying Scaler to persistence diagrams.\n",
      "Got the result from ./20/train/filtrations/6/RadialFiltration_12_12/gray/features.npy\n",
      "FiltrationExtractor: processing 20/train/filtrations/6/RadialFiltration_12_12/red, do_fit = False, filtration = RadialFiltration(center=array([12, 12]), n_jobs=-1)\n",
      "Got the result from ./20/train/filtrations/6/RadialFiltration_12_12/red/diagrams.npy\n",
      "Applying Scaler to persistence diagrams.\n",
      "Got the result from ./20/train/filtrations/6/RadialFiltration_12_12/red/features.npy\n",
      "FiltrationExtractor: processing 20/train/filtrations/6/RadialFiltration_12_12/green, do_fit = False, filtration = RadialFiltration(center=array([12, 12]), n_jobs=-1)\n",
      "Got the result from ./20/train/filtrations/6/RadialFiltration_12_12/green/diagrams.npy\n",
      "Applying Scaler to persistence diagrams.\n",
      "Got the result from ./20/train/filtrations/6/RadialFiltration_12_12/green/features.npy\n",
      "FiltrationExtractor: processing 20/train/filtrations/6/RadialFiltration_12_12/blue, do_fit = False, filtration = RadialFiltration(center=array([12, 12]), n_jobs=-1)\n",
      "Got the result from ./20/train/filtrations/6/RadialFiltration_12_12/blue/diagrams.npy\n",
      "Applying Scaler to persistence diagrams.\n",
      "Got the result from ./20/train/filtrations/6/RadialFiltration_12_12/blue/features.npy\n",
      "Applying filtration 63/72: RadialFiltration with c = (12, 19), bin. thr. = 0.6\n",
      "RGB images received. Transforming to grayscale.\n"
     ]
    },
    {
     "name": "stderr",
     "output_type": "stream",
     "text": [
      "rgb2gray: 100%|██████████| 50000/50000 [00:04<00:00, 10422.51it/s]\n"
     ]
    },
    {
     "name": "stdout",
     "output_type": "stream",
     "text": [
      "FiltrationExtractor: processing 20/train/filtrations/6/RadialFiltration_12_19/gray, do_fit = False, filtration = RadialFiltration(center=array([12, 19]), n_jobs=-1)\n",
      "Got the result from ./20/train/filtrations/6/RadialFiltration_12_19/gray/diagrams.npy\n",
      "Applying Scaler to persistence diagrams.\n",
      "Got the result from ./20/train/filtrations/6/RadialFiltration_12_19/gray/features.npy\n",
      "FiltrationExtractor: processing 20/train/filtrations/6/RadialFiltration_12_19/red, do_fit = False, filtration = RadialFiltration(center=array([12, 19]), n_jobs=-1)\n",
      "Got the result from ./20/train/filtrations/6/RadialFiltration_12_19/red/diagrams.npy\n",
      "Applying Scaler to persistence diagrams.\n",
      "Got the result from ./20/train/filtrations/6/RadialFiltration_12_19/red/features.npy\n",
      "FiltrationExtractor: processing 20/train/filtrations/6/RadialFiltration_12_19/green, do_fit = False, filtration = RadialFiltration(center=array([12, 19]), n_jobs=-1)\n",
      "Got the result from ./20/train/filtrations/6/RadialFiltration_12_19/green/diagrams.npy\n",
      "Applying Scaler to persistence diagrams.\n",
      "Got the result from ./20/train/filtrations/6/RadialFiltration_12_19/green/features.npy\n",
      "FiltrationExtractor: processing 20/train/filtrations/6/RadialFiltration_12_19/blue, do_fit = False, filtration = RadialFiltration(center=array([12, 19]), n_jobs=-1)\n",
      "Got the result from ./20/train/filtrations/6/RadialFiltration_12_19/blue/diagrams.npy\n",
      "Applying Scaler to persistence diagrams.\n",
      "Got the result from ./20/train/filtrations/6/RadialFiltration_12_19/blue/features.npy\n",
      "Applying filtration 64/72: RadialFiltration with c = (12, 26), bin. thr. = 0.6\n",
      "RGB images received. Transforming to grayscale.\n"
     ]
    },
    {
     "name": "stderr",
     "output_type": "stream",
     "text": [
      "rgb2gray: 100%|██████████| 50000/50000 [00:05<00:00, 9743.71it/s] \n"
     ]
    },
    {
     "name": "stdout",
     "output_type": "stream",
     "text": [
      "FiltrationExtractor: processing 20/train/filtrations/6/RadialFiltration_12_26/gray, do_fit = False, filtration = RadialFiltration(center=array([12, 26]), n_jobs=-1)\n",
      "Got the result from ./20/train/filtrations/6/RadialFiltration_12_26/gray/diagrams.npy\n",
      "Applying Scaler to persistence diagrams.\n",
      "Got the result from ./20/train/filtrations/6/RadialFiltration_12_26/gray/features.npy\n",
      "FiltrationExtractor: processing 20/train/filtrations/6/RadialFiltration_12_26/red, do_fit = False, filtration = RadialFiltration(center=array([12, 26]), n_jobs=-1)\n",
      "Got the result from ./20/train/filtrations/6/RadialFiltration_12_26/red/diagrams.npy\n",
      "Applying Scaler to persistence diagrams.\n",
      "Got the result from ./20/train/filtrations/6/RadialFiltration_12_26/red/features.npy\n",
      "FiltrationExtractor: processing 20/train/filtrations/6/RadialFiltration_12_26/green, do_fit = False, filtration = RadialFiltration(center=array([12, 26]), n_jobs=-1)\n",
      "Got the result from ./20/train/filtrations/6/RadialFiltration_12_26/green/diagrams.npy\n",
      "Applying Scaler to persistence diagrams.\n",
      "Got the result from ./20/train/filtrations/6/RadialFiltration_12_26/green/features.npy\n",
      "FiltrationExtractor: processing 20/train/filtrations/6/RadialFiltration_12_26/blue, do_fit = False, filtration = RadialFiltration(center=array([12, 26]), n_jobs=-1)\n",
      "Got the result from ./20/train/filtrations/6/RadialFiltration_12_26/blue/diagrams.npy\n",
      "Applying Scaler to persistence diagrams.\n",
      "Got the result from ./20/train/filtrations/6/RadialFiltration_12_26/blue/features.npy\n",
      "Applying filtration 65/72: RadialFiltration with c = (19, 5), bin. thr. = 0.6\n",
      "RGB images received. Transforming to grayscale.\n"
     ]
    },
    {
     "name": "stderr",
     "output_type": "stream",
     "text": [
      "rgb2gray: 100%|██████████| 50000/50000 [00:05<00:00, 9923.57it/s] \n"
     ]
    },
    {
     "name": "stdout",
     "output_type": "stream",
     "text": [
      "FiltrationExtractor: processing 20/train/filtrations/6/RadialFiltration_19_5/gray, do_fit = False, filtration = RadialFiltration(center=array([19,  5]), n_jobs=-1)\n",
      "Got the result from ./20/train/filtrations/6/RadialFiltration_19_5/gray/diagrams.npy\n",
      "Applying Scaler to persistence diagrams.\n",
      "Got the result from ./20/train/filtrations/6/RadialFiltration_19_5/gray/features.npy\n",
      "FiltrationExtractor: processing 20/train/filtrations/6/RadialFiltration_19_5/red, do_fit = False, filtration = RadialFiltration(center=array([19,  5]), n_jobs=-1)\n",
      "Got the result from ./20/train/filtrations/6/RadialFiltration_19_5/red/diagrams.npy\n",
      "Applying Scaler to persistence diagrams.\n",
      "Got the result from ./20/train/filtrations/6/RadialFiltration_19_5/red/features.npy\n",
      "FiltrationExtractor: processing 20/train/filtrations/6/RadialFiltration_19_5/green, do_fit = False, filtration = RadialFiltration(center=array([19,  5]), n_jobs=-1)\n",
      "Got the result from ./20/train/filtrations/6/RadialFiltration_19_5/green/diagrams.npy\n",
      "Applying Scaler to persistence diagrams.\n",
      "Got the result from ./20/train/filtrations/6/RadialFiltration_19_5/green/features.npy\n",
      "FiltrationExtractor: processing 20/train/filtrations/6/RadialFiltration_19_5/blue, do_fit = False, filtration = RadialFiltration(center=array([19,  5]), n_jobs=-1)\n",
      "Got the result from ./20/train/filtrations/6/RadialFiltration_19_5/blue/diagrams.npy\n",
      "Applying Scaler to persistence diagrams.\n",
      "Got the result from ./20/train/filtrations/6/RadialFiltration_19_5/blue/features.npy\n",
      "Applying filtration 66/72: RadialFiltration with c = (19, 12), bin. thr. = 0.6\n",
      "RGB images received. Transforming to grayscale.\n"
     ]
    },
    {
     "name": "stderr",
     "output_type": "stream",
     "text": [
      "rgb2gray: 100%|██████████| 50000/50000 [00:04<00:00, 12159.50it/s]\n"
     ]
    },
    {
     "name": "stdout",
     "output_type": "stream",
     "text": [
      "FiltrationExtractor: processing 20/train/filtrations/6/RadialFiltration_19_12/gray, do_fit = False, filtration = RadialFiltration(center=array([19, 12]), n_jobs=-1)\n",
      "Got the result from ./20/train/filtrations/6/RadialFiltration_19_12/gray/diagrams.npy\n",
      "Applying Scaler to persistence diagrams.\n",
      "Got the result from ./20/train/filtrations/6/RadialFiltration_19_12/gray/features.npy\n",
      "FiltrationExtractor: processing 20/train/filtrations/6/RadialFiltration_19_12/red, do_fit = False, filtration = RadialFiltration(center=array([19, 12]), n_jobs=-1)\n",
      "Got the result from ./20/train/filtrations/6/RadialFiltration_19_12/red/diagrams.npy\n",
      "Applying Scaler to persistence diagrams.\n",
      "Got the result from ./20/train/filtrations/6/RadialFiltration_19_12/red/features.npy\n",
      "FiltrationExtractor: processing 20/train/filtrations/6/RadialFiltration_19_12/green, do_fit = False, filtration = RadialFiltration(center=array([19, 12]), n_jobs=-1)\n",
      "Got the result from ./20/train/filtrations/6/RadialFiltration_19_12/green/diagrams.npy\n",
      "Applying Scaler to persistence diagrams.\n",
      "Got the result from ./20/train/filtrations/6/RadialFiltration_19_12/green/features.npy\n",
      "FiltrationExtractor: processing 20/train/filtrations/6/RadialFiltration_19_12/blue, do_fit = False, filtration = RadialFiltration(center=array([19, 12]), n_jobs=-1)\n",
      "Got the result from ./20/train/filtrations/6/RadialFiltration_19_12/blue/diagrams.npy\n",
      "Applying Scaler to persistence diagrams.\n",
      "Got the result from ./20/train/filtrations/6/RadialFiltration_19_12/blue/features.npy\n",
      "Applying filtration 67/72: RadialFiltration with c = (19, 19), bin. thr. = 0.6\n",
      "RGB images received. Transforming to grayscale.\n"
     ]
    },
    {
     "name": "stderr",
     "output_type": "stream",
     "text": [
      "rgb2gray: 100%|██████████| 50000/50000 [00:04<00:00, 12029.32it/s]\n"
     ]
    },
    {
     "name": "stdout",
     "output_type": "stream",
     "text": [
      "FiltrationExtractor: processing 20/train/filtrations/6/RadialFiltration_19_19/gray, do_fit = False, filtration = RadialFiltration(center=array([19, 19]), n_jobs=-1)\n",
      "Got the result from ./20/train/filtrations/6/RadialFiltration_19_19/gray/diagrams.npy\n",
      "Applying Scaler to persistence diagrams.\n",
      "Got the result from ./20/train/filtrations/6/RadialFiltration_19_19/gray/features.npy\n",
      "FiltrationExtractor: processing 20/train/filtrations/6/RadialFiltration_19_19/red, do_fit = False, filtration = RadialFiltration(center=array([19, 19]), n_jobs=-1)\n",
      "Got the result from ./20/train/filtrations/6/RadialFiltration_19_19/red/diagrams.npy\n",
      "Applying Scaler to persistence diagrams.\n",
      "Got the result from ./20/train/filtrations/6/RadialFiltration_19_19/red/features.npy\n",
      "FiltrationExtractor: processing 20/train/filtrations/6/RadialFiltration_19_19/green, do_fit = False, filtration = RadialFiltration(center=array([19, 19]), n_jobs=-1)\n",
      "Got the result from ./20/train/filtrations/6/RadialFiltration_19_19/green/diagrams.npy\n",
      "Applying Scaler to persistence diagrams.\n",
      "Got the result from ./20/train/filtrations/6/RadialFiltration_19_19/green/features.npy\n",
      "FiltrationExtractor: processing 20/train/filtrations/6/RadialFiltration_19_19/blue, do_fit = False, filtration = RadialFiltration(center=array([19, 19]), n_jobs=-1)\n",
      "Got the result from ./20/train/filtrations/6/RadialFiltration_19_19/blue/diagrams.npy\n",
      "Applying Scaler to persistence diagrams.\n",
      "Got the result from ./20/train/filtrations/6/RadialFiltration_19_19/blue/features.npy\n",
      "Applying filtration 68/72: RadialFiltration with c = (19, 26), bin. thr. = 0.6\n",
      "RGB images received. Transforming to grayscale.\n"
     ]
    },
    {
     "name": "stderr",
     "output_type": "stream",
     "text": [
      "rgb2gray: 100%|██████████| 50000/50000 [00:04<00:00, 10574.24it/s]\n"
     ]
    },
    {
     "name": "stdout",
     "output_type": "stream",
     "text": [
      "FiltrationExtractor: processing 20/train/filtrations/6/RadialFiltration_19_26/gray, do_fit = False, filtration = RadialFiltration(center=array([19, 26]), n_jobs=-1)\n",
      "Got the result from ./20/train/filtrations/6/RadialFiltration_19_26/gray/diagrams.npy\n",
      "Applying Scaler to persistence diagrams.\n",
      "Got the result from ./20/train/filtrations/6/RadialFiltration_19_26/gray/features.npy\n",
      "FiltrationExtractor: processing 20/train/filtrations/6/RadialFiltration_19_26/red, do_fit = False, filtration = RadialFiltration(center=array([19, 26]), n_jobs=-1)\n",
      "Got the result from ./20/train/filtrations/6/RadialFiltration_19_26/red/diagrams.npy\n",
      "Applying Scaler to persistence diagrams.\n",
      "Got the result from ./20/train/filtrations/6/RadialFiltration_19_26/red/features.npy\n",
      "FiltrationExtractor: processing 20/train/filtrations/6/RadialFiltration_19_26/green, do_fit = False, filtration = RadialFiltration(center=array([19, 26]), n_jobs=-1)\n",
      "Got the result from ./20/train/filtrations/6/RadialFiltration_19_26/green/diagrams.npy\n",
      "Applying Scaler to persistence diagrams.\n",
      "Got the result from ./20/train/filtrations/6/RadialFiltration_19_26/green/features.npy\n",
      "FiltrationExtractor: processing 20/train/filtrations/6/RadialFiltration_19_26/blue, do_fit = False, filtration = RadialFiltration(center=array([19, 26]), n_jobs=-1)\n",
      "Got the result from ./20/train/filtrations/6/RadialFiltration_19_26/blue/diagrams.npy\n",
      "Applying Scaler to persistence diagrams.\n",
      "Got the result from ./20/train/filtrations/6/RadialFiltration_19_26/blue/features.npy\n",
      "Applying filtration 69/72: RadialFiltration with c = (26, 5), bin. thr. = 0.6\n",
      "RGB images received. Transforming to grayscale.\n"
     ]
    },
    {
     "name": "stderr",
     "output_type": "stream",
     "text": [
      "rgb2gray: 100%|██████████| 50000/50000 [00:05<00:00, 9843.65it/s] \n"
     ]
    },
    {
     "name": "stdout",
     "output_type": "stream",
     "text": [
      "FiltrationExtractor: processing 20/train/filtrations/6/RadialFiltration_26_5/gray, do_fit = False, filtration = RadialFiltration(center=array([26,  5]), n_jobs=-1)\n",
      "Got the result from ./20/train/filtrations/6/RadialFiltration_26_5/gray/diagrams.npy\n",
      "Applying Scaler to persistence diagrams.\n",
      "Got the result from ./20/train/filtrations/6/RadialFiltration_26_5/gray/features.npy\n",
      "FiltrationExtractor: processing 20/train/filtrations/6/RadialFiltration_26_5/red, do_fit = False, filtration = RadialFiltration(center=array([26,  5]), n_jobs=-1)\n",
      "Got the result from ./20/train/filtrations/6/RadialFiltration_26_5/red/diagrams.npy\n",
      "Applying Scaler to persistence diagrams.\n",
      "Got the result from ./20/train/filtrations/6/RadialFiltration_26_5/red/features.npy\n",
      "FiltrationExtractor: processing 20/train/filtrations/6/RadialFiltration_26_5/green, do_fit = False, filtration = RadialFiltration(center=array([26,  5]), n_jobs=-1)\n",
      "Got the result from ./20/train/filtrations/6/RadialFiltration_26_5/green/diagrams.npy\n",
      "Applying Scaler to persistence diagrams.\n",
      "Got the result from ./20/train/filtrations/6/RadialFiltration_26_5/green/features.npy\n",
      "FiltrationExtractor: processing 20/train/filtrations/6/RadialFiltration_26_5/blue, do_fit = False, filtration = RadialFiltration(center=array([26,  5]), n_jobs=-1)\n",
      "Got the result from ./20/train/filtrations/6/RadialFiltration_26_5/blue/diagrams.npy\n",
      "Applying Scaler to persistence diagrams.\n",
      "Got the result from ./20/train/filtrations/6/RadialFiltration_26_5/blue/features.npy\n",
      "Applying filtration 70/72: RadialFiltration with c = (26, 12), bin. thr. = 0.6\n",
      "RGB images received. Transforming to grayscale.\n"
     ]
    },
    {
     "name": "stderr",
     "output_type": "stream",
     "text": [
      "rgb2gray: 100%|██████████| 50000/50000 [00:04<00:00, 11633.79it/s]\n"
     ]
    },
    {
     "name": "stdout",
     "output_type": "stream",
     "text": [
      "FiltrationExtractor: processing 20/train/filtrations/6/RadialFiltration_26_12/gray, do_fit = False, filtration = RadialFiltration(center=array([26, 12]), n_jobs=-1)\n",
      "Got the result from ./20/train/filtrations/6/RadialFiltration_26_12/gray/diagrams.npy\n",
      "Applying Scaler to persistence diagrams.\n",
      "Got the result from ./20/train/filtrations/6/RadialFiltration_26_12/gray/features.npy\n",
      "FiltrationExtractor: processing 20/train/filtrations/6/RadialFiltration_26_12/red, do_fit = False, filtration = RadialFiltration(center=array([26, 12]), n_jobs=-1)\n",
      "Got the result from ./20/train/filtrations/6/RadialFiltration_26_12/red/diagrams.npy\n",
      "Applying Scaler to persistence diagrams.\n",
      "Got the result from ./20/train/filtrations/6/RadialFiltration_26_12/red/features.npy\n",
      "FiltrationExtractor: processing 20/train/filtrations/6/RadialFiltration_26_12/green, do_fit = False, filtration = RadialFiltration(center=array([26, 12]), n_jobs=-1)\n",
      "Got the result from ./20/train/filtrations/6/RadialFiltration_26_12/green/diagrams.npy\n",
      "Applying Scaler to persistence diagrams.\n",
      "Got the result from ./20/train/filtrations/6/RadialFiltration_26_12/green/features.npy\n",
      "FiltrationExtractor: processing 20/train/filtrations/6/RadialFiltration_26_12/blue, do_fit = False, filtration = RadialFiltration(center=array([26, 12]), n_jobs=-1)\n",
      "Got the result from ./20/train/filtrations/6/RadialFiltration_26_12/blue/diagrams.npy\n",
      "Applying Scaler to persistence diagrams.\n",
      "Got the result from ./20/train/filtrations/6/RadialFiltration_26_12/blue/features.npy\n",
      "Applying filtration 71/72: RadialFiltration with c = (26, 19), bin. thr. = 0.6\n",
      "RGB images received. Transforming to grayscale.\n"
     ]
    },
    {
     "name": "stderr",
     "output_type": "stream",
     "text": [
      "rgb2gray: 100%|██████████| 50000/50000 [00:04<00:00, 10010.54it/s]\n"
     ]
    },
    {
     "name": "stdout",
     "output_type": "stream",
     "text": [
      "FiltrationExtractor: processing 20/train/filtrations/6/RadialFiltration_26_19/gray, do_fit = False, filtration = RadialFiltration(center=array([26, 19]), n_jobs=-1)\n",
      "Got the result from ./20/train/filtrations/6/RadialFiltration_26_19/gray/diagrams.npy\n",
      "Applying Scaler to persistence diagrams.\n",
      "Got the result from ./20/train/filtrations/6/RadialFiltration_26_19/gray/features.npy\n",
      "FiltrationExtractor: processing 20/train/filtrations/6/RadialFiltration_26_19/red, do_fit = False, filtration = RadialFiltration(center=array([26, 19]), n_jobs=-1)\n",
      "Got the result from ./20/train/filtrations/6/RadialFiltration_26_19/red/diagrams.npy\n",
      "Applying Scaler to persistence diagrams.\n",
      "Got the result from ./20/train/filtrations/6/RadialFiltration_26_19/red/features.npy\n",
      "FiltrationExtractor: processing 20/train/filtrations/6/RadialFiltration_26_19/green, do_fit = False, filtration = RadialFiltration(center=array([26, 19]), n_jobs=-1)\n",
      "Got the result from ./20/train/filtrations/6/RadialFiltration_26_19/green/diagrams.npy\n",
      "Applying Scaler to persistence diagrams.\n",
      "Got the result from ./20/train/filtrations/6/RadialFiltration_26_19/green/features.npy\n",
      "FiltrationExtractor: processing 20/train/filtrations/6/RadialFiltration_26_19/blue, do_fit = False, filtration = RadialFiltration(center=array([26, 19]), n_jobs=-1)\n",
      "Got the result from ./20/train/filtrations/6/RadialFiltration_26_19/blue/diagrams.npy\n",
      "Applying Scaler to persistence diagrams.\n",
      "Got the result from ./20/train/filtrations/6/RadialFiltration_26_19/blue/features.npy\n",
      "Applying filtration 72/72: RadialFiltration with c = (26, 26), bin. thr. = 0.6\n",
      "RGB images received. Transforming to grayscale.\n"
     ]
    },
    {
     "name": "stderr",
     "output_type": "stream",
     "text": [
      "rgb2gray: 100%|██████████| 50000/50000 [00:04<00:00, 10188.53it/s]\n"
     ]
    },
    {
     "name": "stdout",
     "output_type": "stream",
     "text": [
      "FiltrationExtractor: processing 20/train/filtrations/6/RadialFiltration_26_26/gray, do_fit = False, filtration = RadialFiltration(center=array([26, 26]), n_jobs=-1)\n",
      "Got the result from ./20/train/filtrations/6/RadialFiltration_26_26/gray/diagrams.npy\n",
      "Applying Scaler to persistence diagrams.\n",
      "Got the result from ./20/train/filtrations/6/RadialFiltration_26_26/gray/features.npy\n",
      "FiltrationExtractor: processing 20/train/filtrations/6/RadialFiltration_26_26/red, do_fit = False, filtration = RadialFiltration(center=array([26, 26]), n_jobs=-1)\n",
      "Got the result from ./20/train/filtrations/6/RadialFiltration_26_26/red/diagrams.npy\n",
      "Applying Scaler to persistence diagrams.\n",
      "Got the result from ./20/train/filtrations/6/RadialFiltration_26_26/red/features.npy\n",
      "FiltrationExtractor: processing 20/train/filtrations/6/RadialFiltration_26_26/green, do_fit = False, filtration = RadialFiltration(center=array([26, 26]), n_jobs=-1)\n",
      "Got the result from ./20/train/filtrations/6/RadialFiltration_26_26/green/diagrams.npy\n",
      "Applying Scaler to persistence diagrams.\n",
      "Got the result from ./20/train/filtrations/6/RadialFiltration_26_26/green/features.npy\n",
      "FiltrationExtractor: processing 20/train/filtrations/6/RadialFiltration_26_26/blue, do_fit = False, filtration = RadialFiltration(center=array([26, 26]), n_jobs=-1)\n",
      "Got the result from ./20/train/filtrations/6/RadialFiltration_26_26/blue/diagrams.npy\n",
      "Applying Scaler to persistence diagrams.\n",
      "Got the result from ./20/train/filtrations/6/RadialFiltration_26_26/blue/features.npy\n",
      "RGB images received. Transforming to grayscale.\n",
      "Got the result from ./20/train/geometry/rgb/features.npy\n"
     ]
    },
    {
     "name": "stderr",
     "output_type": "stream",
     "text": [
      "rgb2gray: 100%|██████████| 50000/50000 [00:05<00:00, 9553.06it/s] \n"
     ]
    },
    {
     "name": "stdout",
     "output_type": "stream",
     "text": [
      "Got the result from ./20/train/geometry/gray/features.npy\n",
      "Got the result from ./20/train/geometry/gray/features.npy\n",
      "Got the result from ./20/train/geometry/red/features.npy\n",
      "Got the result from ./20/train/geometry/red/features.npy\n",
      "Got the result from ./20/train/geometry/green/features.npy\n",
      "Got the result from ./20/train/geometry/green/features.npy\n",
      "Got the result from ./20/train/geometry/blue/features.npy\n",
      "Got the result from ./20/train/geometry/blue/features.npy\n",
      "RGB images received. Transforming to grayscale.\n",
      "Got the result from ./20/train/geometry/rgb/features.npy\n"
     ]
    },
    {
     "name": "stderr",
     "output_type": "stream",
     "text": [
      "rgb2gray: 100%|██████████| 50000/50000 [00:04<00:00, 12098.32it/s]\n"
     ]
    },
    {
     "name": "stdout",
     "output_type": "stream",
     "text": [
      "Got the result from ./20/train/geometry/gray/features.npy\n",
      "Got the result from ./20/train/geometry/red/features.npy\n",
      "Got the result from ./20/train/geometry/green/features.npy\n",
      "Got the result from ./20/train/geometry/blue/features.npy\n",
      "Applying StandardScaler.\n",
      "Calculating inverted images\n",
      "RGB images received. Transforming to grayscale.\n"
     ]
    },
    {
     "name": "stderr",
     "output_type": "stream",
     "text": [
      "rgb2gray: 100%|██████████| 50000/50000 [00:04<00:00, 10682.00it/s]\n"
     ]
    },
    {
     "name": "stdout",
     "output_type": "stream",
     "text": [
      "GreyscaleExtractor: processing 20/train/greyscale/gray, do_fit = False\n",
      "Got the result from ./20/train/greyscale/gray/diagrams.npy\n",
      "Applying Scaler to persistence diagrams.\n",
      "Got the result from ./20/train/greyscale/gray/features.npy\n",
      "GreyscaleExtractor: processing 20/train/greyscale/red, do_fit = False\n",
      "Got the result from ./20/train/greyscale/red/diagrams.npy\n",
      "Applying Scaler to persistence diagrams.\n",
      "Got the result from ./20/train/greyscale/red/features.npy\n",
      "GreyscaleExtractor: processing 20/train/greyscale/green, do_fit = False\n",
      "Got the result from ./20/train/greyscale/green/diagrams.npy\n",
      "Applying Scaler to persistence diagrams.\n",
      "Got the result from ./20/train/greyscale/green/features.npy\n",
      "GreyscaleExtractor: processing 20/train/greyscale/blue, do_fit = False\n",
      "Got the result from ./20/train/greyscale/blue/diagrams.npy\n",
      "Applying Scaler to persistence diagrams.\n",
      "Got the result from ./20/train/greyscale/blue/features.npy\n",
      "RGB images received. Transforming to grayscale.\n"
     ]
    },
    {
     "name": "stderr",
     "output_type": "stream",
     "text": [
      "rgb2gray: 100%|██████████| 50000/50000 [00:04<00:00, 11818.80it/s]\n"
     ]
    },
    {
     "name": "stdout",
     "output_type": "stream",
     "text": [
      "GreyscaleExtractor: processing 20/train/inverted_greyscale/gray, do_fit = False\n",
      "Got the result from ./20/train/inverted_greyscale/gray/diagrams.npy\n",
      "Applying Scaler to persistence diagrams.\n",
      "Got the result from ./20/train/inverted_greyscale/gray/features.npy\n",
      "GreyscaleExtractor: processing 20/train/inverted_greyscale/red, do_fit = False\n",
      "Got the result from ./20/train/inverted_greyscale/red/diagrams.npy\n",
      "Applying Scaler to persistence diagrams.\n",
      "Got the result from ./20/train/inverted_greyscale/red/features.npy\n",
      "GreyscaleExtractor: processing 20/train/inverted_greyscale/green, do_fit = False\n",
      "Got the result from ./20/train/inverted_greyscale/green/diagrams.npy\n",
      "Applying Scaler to persistence diagrams.\n",
      "Got the result from ./20/train/inverted_greyscale/green/features.npy\n",
      "GreyscaleExtractor: processing 20/train/inverted_greyscale/blue, do_fit = False\n",
      "Got the result from ./20/train/inverted_greyscale/blue/diagrams.npy\n",
      "Applying Scaler to persistence diagrams.\n",
      "Got the result from ./20/train/inverted_greyscale/blue/features.npy\n",
      "Applying filtrations\n",
      "Applying filtration 1/72: HeightFiltration with d = (-1, -1), bin. thr. = 0.2\n",
      "RGB images received. Transforming to grayscale.\n"
     ]
    },
    {
     "name": "stderr",
     "output_type": "stream",
     "text": [
      "rgb2gray: 100%|██████████| 50000/50000 [00:04<00:00, 10659.04it/s]\n"
     ]
    },
    {
     "name": "stdout",
     "output_type": "stream",
     "text": [
      "FiltrationExtractor: processing 20/train/filtrations/2/HeightFiltrartion_-1_-1/gray, do_fit = False, filtration = HeightFiltration(direction=array([-1, -1]), n_jobs=-1)\n",
      "Got the result from ./20/train/filtrations/2/HeightFiltrartion_-1_-1/gray/diagrams.npy\n",
      "Applying Scaler to persistence diagrams.\n",
      "Got the result from ./20/train/filtrations/2/HeightFiltrartion_-1_-1/gray/features.npy\n",
      "FiltrationExtractor: processing 20/train/filtrations/2/HeightFiltrartion_-1_-1/red, do_fit = False, filtration = HeightFiltration(direction=array([-1, -1]), n_jobs=-1)\n",
      "Got the result from ./20/train/filtrations/2/HeightFiltrartion_-1_-1/red/diagrams.npy\n",
      "Applying Scaler to persistence diagrams.\n",
      "Got the result from ./20/train/filtrations/2/HeightFiltrartion_-1_-1/red/features.npy\n",
      "FiltrationExtractor: processing 20/train/filtrations/2/HeightFiltrartion_-1_-1/green, do_fit = False, filtration = HeightFiltration(direction=array([-1, -1]), n_jobs=-1)\n",
      "Got the result from ./20/train/filtrations/2/HeightFiltrartion_-1_-1/green/diagrams.npy\n",
      "Applying Scaler to persistence diagrams.\n",
      "Got the result from ./20/train/filtrations/2/HeightFiltrartion_-1_-1/green/features.npy\n",
      "FiltrationExtractor: processing 20/train/filtrations/2/HeightFiltrartion_-1_-1/blue, do_fit = False, filtration = HeightFiltration(direction=array([-1, -1]), n_jobs=-1)\n",
      "Got the result from ./20/train/filtrations/2/HeightFiltrartion_-1_-1/blue/diagrams.npy\n",
      "Applying Scaler to persistence diagrams.\n",
      "Got the result from ./20/train/filtrations/2/HeightFiltrartion_-1_-1/blue/features.npy\n",
      "Applying filtration 2/72: HeightFiltration with d = (-1, 0), bin. thr. = 0.2\n",
      "RGB images received. Transforming to grayscale.\n"
     ]
    },
    {
     "name": "stderr",
     "output_type": "stream",
     "text": [
      "rgb2gray: 100%|██████████| 50000/50000 [00:04<00:00, 12344.01it/s]\n"
     ]
    },
    {
     "name": "stdout",
     "output_type": "stream",
     "text": [
      "FiltrationExtractor: processing 20/train/filtrations/2/HeightFiltrartion_-1_0/gray, do_fit = False, filtration = HeightFiltration(direction=array([-1,  0]), n_jobs=-1)\n",
      "Got the result from ./20/train/filtrations/2/HeightFiltrartion_-1_0/gray/diagrams.npy\n",
      "Applying Scaler to persistence diagrams.\n",
      "Got the result from ./20/train/filtrations/2/HeightFiltrartion_-1_0/gray/features.npy\n",
      "FiltrationExtractor: processing 20/train/filtrations/2/HeightFiltrartion_-1_0/red, do_fit = False, filtration = HeightFiltration(direction=array([-1,  0]), n_jobs=-1)\n",
      "Got the result from ./20/train/filtrations/2/HeightFiltrartion_-1_0/red/diagrams.npy\n",
      "Applying Scaler to persistence diagrams.\n",
      "Got the result from ./20/train/filtrations/2/HeightFiltrartion_-1_0/red/features.npy\n",
      "FiltrationExtractor: processing 20/train/filtrations/2/HeightFiltrartion_-1_0/green, do_fit = False, filtration = HeightFiltration(direction=array([-1,  0]), n_jobs=-1)\n",
      "Got the result from ./20/train/filtrations/2/HeightFiltrartion_-1_0/green/diagrams.npy\n",
      "Applying Scaler to persistence diagrams.\n",
      "Got the result from ./20/train/filtrations/2/HeightFiltrartion_-1_0/green/features.npy\n",
      "FiltrationExtractor: processing 20/train/filtrations/2/HeightFiltrartion_-1_0/blue, do_fit = False, filtration = HeightFiltration(direction=array([-1,  0]), n_jobs=-1)\n",
      "Got the result from ./20/train/filtrations/2/HeightFiltrartion_-1_0/blue/diagrams.npy\n",
      "Applying Scaler to persistence diagrams.\n",
      "Got the result from ./20/train/filtrations/2/HeightFiltrartion_-1_0/blue/features.npy\n",
      "Applying filtration 3/72: HeightFiltration with d = (-1, 1), bin. thr. = 0.2\n",
      "RGB images received. Transforming to grayscale.\n"
     ]
    },
    {
     "name": "stderr",
     "output_type": "stream",
     "text": [
      "rgb2gray: 100%|██████████| 50000/50000 [00:04<00:00, 10508.47it/s]\n"
     ]
    },
    {
     "name": "stdout",
     "output_type": "stream",
     "text": [
      "FiltrationExtractor: processing 20/train/filtrations/2/HeightFiltrartion_-1_1/gray, do_fit = False, filtration = HeightFiltration(direction=array([-1,  1]), n_jobs=-1)\n",
      "Got the result from ./20/train/filtrations/2/HeightFiltrartion_-1_1/gray/diagrams.npy\n",
      "Applying Scaler to persistence diagrams.\n",
      "Got the result from ./20/train/filtrations/2/HeightFiltrartion_-1_1/gray/features.npy\n",
      "FiltrationExtractor: processing 20/train/filtrations/2/HeightFiltrartion_-1_1/red, do_fit = False, filtration = HeightFiltration(direction=array([-1,  1]), n_jobs=-1)\n",
      "Got the result from ./20/train/filtrations/2/HeightFiltrartion_-1_1/red/diagrams.npy\n",
      "Applying Scaler to persistence diagrams.\n",
      "Got the result from ./20/train/filtrations/2/HeightFiltrartion_-1_1/red/features.npy\n",
      "FiltrationExtractor: processing 20/train/filtrations/2/HeightFiltrartion_-1_1/green, do_fit = False, filtration = HeightFiltration(direction=array([-1,  1]), n_jobs=-1)\n",
      "Got the result from ./20/train/filtrations/2/HeightFiltrartion_-1_1/green/diagrams.npy\n",
      "Applying Scaler to persistence diagrams.\n",
      "Got the result from ./20/train/filtrations/2/HeightFiltrartion_-1_1/green/features.npy\n",
      "FiltrationExtractor: processing 20/train/filtrations/2/HeightFiltrartion_-1_1/blue, do_fit = False, filtration = HeightFiltration(direction=array([-1,  1]), n_jobs=-1)\n",
      "Got the result from ./20/train/filtrations/2/HeightFiltrartion_-1_1/blue/diagrams.npy\n",
      "Applying Scaler to persistence diagrams.\n",
      "Got the result from ./20/train/filtrations/2/HeightFiltrartion_-1_1/blue/features.npy\n",
      "Applying filtration 4/72: HeightFiltration with d = (0, -1), bin. thr. = 0.2\n",
      "RGB images received. Transforming to grayscale.\n"
     ]
    },
    {
     "name": "stderr",
     "output_type": "stream",
     "text": [
      "rgb2gray: 100%|██████████| 50000/50000 [00:04<00:00, 12407.88it/s]\n"
     ]
    },
    {
     "name": "stdout",
     "output_type": "stream",
     "text": [
      "FiltrationExtractor: processing 20/train/filtrations/2/HeightFiltrartion_0_-1/gray, do_fit = False, filtration = HeightFiltration(direction=array([ 0, -1]), n_jobs=-1)\n",
      "Got the result from ./20/train/filtrations/2/HeightFiltrartion_0_-1/gray/diagrams.npy\n",
      "Applying Scaler to persistence diagrams.\n",
      "Got the result from ./20/train/filtrations/2/HeightFiltrartion_0_-1/gray/features.npy\n",
      "FiltrationExtractor: processing 20/train/filtrations/2/HeightFiltrartion_0_-1/red, do_fit = False, filtration = HeightFiltration(direction=array([ 0, -1]), n_jobs=-1)\n",
      "Got the result from ./20/train/filtrations/2/HeightFiltrartion_0_-1/red/diagrams.npy\n",
      "Applying Scaler to persistence diagrams.\n",
      "Got the result from ./20/train/filtrations/2/HeightFiltrartion_0_-1/red/features.npy\n",
      "FiltrationExtractor: processing 20/train/filtrations/2/HeightFiltrartion_0_-1/green, do_fit = False, filtration = HeightFiltration(direction=array([ 0, -1]), n_jobs=-1)\n",
      "Got the result from ./20/train/filtrations/2/HeightFiltrartion_0_-1/green/diagrams.npy\n",
      "Applying Scaler to persistence diagrams.\n",
      "Got the result from ./20/train/filtrations/2/HeightFiltrartion_0_-1/green/features.npy\n",
      "FiltrationExtractor: processing 20/train/filtrations/2/HeightFiltrartion_0_-1/blue, do_fit = False, filtration = HeightFiltration(direction=array([ 0, -1]), n_jobs=-1)\n",
      "Got the result from ./20/train/filtrations/2/HeightFiltrartion_0_-1/blue/diagrams.npy\n",
      "Applying Scaler to persistence diagrams.\n",
      "Got the result from ./20/train/filtrations/2/HeightFiltrartion_0_-1/blue/features.npy\n",
      "Applying filtration 5/72: HeightFiltration with d = (0, 1), bin. thr. = 0.2\n",
      "RGB images received. Transforming to grayscale.\n"
     ]
    },
    {
     "name": "stderr",
     "output_type": "stream",
     "text": [
      "rgb2gray: 100%|██████████| 50000/50000 [00:04<00:00, 12074.32it/s]\n"
     ]
    },
    {
     "name": "stdout",
     "output_type": "stream",
     "text": [
      "FiltrationExtractor: processing 20/train/filtrations/2/HeightFiltrartion_0_1/gray, do_fit = False, filtration = HeightFiltration(direction=array([0, 1]), n_jobs=-1)\n",
      "Got the result from ./20/train/filtrations/2/HeightFiltrartion_0_1/gray/diagrams.npy\n",
      "Applying Scaler to persistence diagrams.\n",
      "Got the result from ./20/train/filtrations/2/HeightFiltrartion_0_1/gray/features.npy\n",
      "FiltrationExtractor: processing 20/train/filtrations/2/HeightFiltrartion_0_1/red, do_fit = False, filtration = HeightFiltration(direction=array([0, 1]), n_jobs=-1)\n",
      "Got the result from ./20/train/filtrations/2/HeightFiltrartion_0_1/red/diagrams.npy\n",
      "Applying Scaler to persistence diagrams.\n",
      "Got the result from ./20/train/filtrations/2/HeightFiltrartion_0_1/red/features.npy\n",
      "FiltrationExtractor: processing 20/train/filtrations/2/HeightFiltrartion_0_1/green, do_fit = False, filtration = HeightFiltration(direction=array([0, 1]), n_jobs=-1)\n",
      "Got the result from ./20/train/filtrations/2/HeightFiltrartion_0_1/green/diagrams.npy\n",
      "Applying Scaler to persistence diagrams.\n",
      "Got the result from ./20/train/filtrations/2/HeightFiltrartion_0_1/green/features.npy\n",
      "FiltrationExtractor: processing 20/train/filtrations/2/HeightFiltrartion_0_1/blue, do_fit = False, filtration = HeightFiltration(direction=array([0, 1]), n_jobs=-1)\n",
      "Got the result from ./20/train/filtrations/2/HeightFiltrartion_0_1/blue/diagrams.npy\n",
      "Applying Scaler to persistence diagrams.\n",
      "Got the result from ./20/train/filtrations/2/HeightFiltrartion_0_1/blue/features.npy\n",
      "Applying filtration 6/72: HeightFiltration with d = (1, -1), bin. thr. = 0.2\n",
      "RGB images received. Transforming to grayscale.\n"
     ]
    },
    {
     "name": "stderr",
     "output_type": "stream",
     "text": [
      "rgb2gray: 100%|██████████| 50000/50000 [00:04<00:00, 10565.22it/s]\n"
     ]
    },
    {
     "name": "stdout",
     "output_type": "stream",
     "text": [
      "FiltrationExtractor: processing 20/train/filtrations/2/HeightFiltrartion_1_-1/gray, do_fit = False, filtration = HeightFiltration(direction=array([ 1, -1]), n_jobs=-1)\n",
      "Got the result from ./20/train/filtrations/2/HeightFiltrartion_1_-1/gray/diagrams.npy\n",
      "Applying Scaler to persistence diagrams.\n",
      "Got the result from ./20/train/filtrations/2/HeightFiltrartion_1_-1/gray/features.npy\n",
      "FiltrationExtractor: processing 20/train/filtrations/2/HeightFiltrartion_1_-1/red, do_fit = False, filtration = HeightFiltration(direction=array([ 1, -1]), n_jobs=-1)\n",
      "Got the result from ./20/train/filtrations/2/HeightFiltrartion_1_-1/red/diagrams.npy\n",
      "Applying Scaler to persistence diagrams.\n",
      "Got the result from ./20/train/filtrations/2/HeightFiltrartion_1_-1/red/features.npy\n",
      "FiltrationExtractor: processing 20/train/filtrations/2/HeightFiltrartion_1_-1/green, do_fit = False, filtration = HeightFiltration(direction=array([ 1, -1]), n_jobs=-1)\n",
      "Got the result from ./20/train/filtrations/2/HeightFiltrartion_1_-1/green/diagrams.npy\n",
      "Applying Scaler to persistence diagrams.\n",
      "Got the result from ./20/train/filtrations/2/HeightFiltrartion_1_-1/green/features.npy\n",
      "FiltrationExtractor: processing 20/train/filtrations/2/HeightFiltrartion_1_-1/blue, do_fit = False, filtration = HeightFiltration(direction=array([ 1, -1]), n_jobs=-1)\n",
      "Got the result from ./20/train/filtrations/2/HeightFiltrartion_1_-1/blue/diagrams.npy\n",
      "Applying Scaler to persistence diagrams.\n",
      "Got the result from ./20/train/filtrations/2/HeightFiltrartion_1_-1/blue/features.npy\n",
      "Applying filtration 7/72: HeightFiltration with d = (1, 0), bin. thr. = 0.2\n",
      "RGB images received. Transforming to grayscale.\n"
     ]
    },
    {
     "name": "stderr",
     "output_type": "stream",
     "text": [
      "rgb2gray: 100%|██████████| 50000/50000 [00:05<00:00, 9731.29it/s] \n"
     ]
    },
    {
     "name": "stdout",
     "output_type": "stream",
     "text": [
      "FiltrationExtractor: processing 20/train/filtrations/2/HeightFiltrartion_1_0/gray, do_fit = False, filtration = HeightFiltration(direction=array([1, 0]), n_jobs=-1)\n",
      "Got the result from ./20/train/filtrations/2/HeightFiltrartion_1_0/gray/diagrams.npy\n",
      "Applying Scaler to persistence diagrams.\n",
      "Got the result from ./20/train/filtrations/2/HeightFiltrartion_1_0/gray/features.npy\n",
      "FiltrationExtractor: processing 20/train/filtrations/2/HeightFiltrartion_1_0/red, do_fit = False, filtration = HeightFiltration(direction=array([1, 0]), n_jobs=-1)\n",
      "Got the result from ./20/train/filtrations/2/HeightFiltrartion_1_0/red/diagrams.npy\n",
      "Applying Scaler to persistence diagrams.\n",
      "Got the result from ./20/train/filtrations/2/HeightFiltrartion_1_0/red/features.npy\n",
      "FiltrationExtractor: processing 20/train/filtrations/2/HeightFiltrartion_1_0/green, do_fit = False, filtration = HeightFiltration(direction=array([1, 0]), n_jobs=-1)\n",
      "Got the result from ./20/train/filtrations/2/HeightFiltrartion_1_0/green/diagrams.npy\n",
      "Applying Scaler to persistence diagrams.\n",
      "Got the result from ./20/train/filtrations/2/HeightFiltrartion_1_0/green/features.npy\n",
      "FiltrationExtractor: processing 20/train/filtrations/2/HeightFiltrartion_1_0/blue, do_fit = False, filtration = HeightFiltration(direction=array([1, 0]), n_jobs=-1)\n",
      "Got the result from ./20/train/filtrations/2/HeightFiltrartion_1_0/blue/diagrams.npy\n",
      "Applying Scaler to persistence diagrams.\n",
      "Got the result from ./20/train/filtrations/2/HeightFiltrartion_1_0/blue/features.npy\n",
      "Applying filtration 8/72: HeightFiltration with d = (1, 1), bin. thr. = 0.2\n",
      "RGB images received. Transforming to grayscale.\n"
     ]
    },
    {
     "name": "stderr",
     "output_type": "stream",
     "text": [
      "rgb2gray: 100%|██████████| 50000/50000 [00:04<00:00, 12135.85it/s]\n"
     ]
    },
    {
     "name": "stdout",
     "output_type": "stream",
     "text": [
      "FiltrationExtractor: processing 20/train/filtrations/2/HeightFiltrartion_1_1/gray, do_fit = False, filtration = HeightFiltration(direction=array([1, 1]), n_jobs=-1)\n",
      "Got the result from ./20/train/filtrations/2/HeightFiltrartion_1_1/gray/diagrams.npy\n",
      "Applying Scaler to persistence diagrams.\n",
      "Got the result from ./20/train/filtrations/2/HeightFiltrartion_1_1/gray/features.npy\n",
      "FiltrationExtractor: processing 20/train/filtrations/2/HeightFiltrartion_1_1/red, do_fit = False, filtration = HeightFiltration(direction=array([1, 1]), n_jobs=-1)\n",
      "Got the result from ./20/train/filtrations/2/HeightFiltrartion_1_1/red/diagrams.npy\n",
      "Applying Scaler to persistence diagrams.\n",
      "Got the result from ./20/train/filtrations/2/HeightFiltrartion_1_1/red/features.npy\n",
      "FiltrationExtractor: processing 20/train/filtrations/2/HeightFiltrartion_1_1/green, do_fit = False, filtration = HeightFiltration(direction=array([1, 1]), n_jobs=-1)\n",
      "Got the result from ./20/train/filtrations/2/HeightFiltrartion_1_1/green/diagrams.npy\n",
      "Applying Scaler to persistence diagrams.\n",
      "Got the result from ./20/train/filtrations/2/HeightFiltrartion_1_1/green/features.npy\n",
      "FiltrationExtractor: processing 20/train/filtrations/2/HeightFiltrartion_1_1/blue, do_fit = False, filtration = HeightFiltration(direction=array([1, 1]), n_jobs=-1)\n",
      "Got the result from ./20/train/filtrations/2/HeightFiltrartion_1_1/blue/diagrams.npy\n",
      "Applying Scaler to persistence diagrams.\n",
      "Got the result from ./20/train/filtrations/2/HeightFiltrartion_1_1/blue/features.npy\n",
      "Applying filtration 9/72: RadialFiltration with c = (5, 5), bin. thr. = 0.2\n",
      "RGB images received. Transforming to grayscale.\n"
     ]
    },
    {
     "name": "stderr",
     "output_type": "stream",
     "text": [
      "rgb2gray: 100%|██████████| 50000/50000 [00:05<00:00, 9950.22it/s] \n"
     ]
    },
    {
     "name": "stdout",
     "output_type": "stream",
     "text": [
      "FiltrationExtractor: processing 20/train/filtrations/2/RadialFiltration_5_5/gray, do_fit = False, filtration = RadialFiltration(center=array([5, 5]), n_jobs=-1)\n",
      "Got the result from ./20/train/filtrations/2/RadialFiltration_5_5/gray/diagrams.npy\n",
      "Applying Scaler to persistence diagrams.\n",
      "Got the result from ./20/train/filtrations/2/RadialFiltration_5_5/gray/features.npy\n",
      "FiltrationExtractor: processing 20/train/filtrations/2/RadialFiltration_5_5/red, do_fit = False, filtration = RadialFiltration(center=array([5, 5]), n_jobs=-1)\n",
      "Got the result from ./20/train/filtrations/2/RadialFiltration_5_5/red/diagrams.npy\n",
      "Applying Scaler to persistence diagrams.\n",
      "Got the result from ./20/train/filtrations/2/RadialFiltration_5_5/red/features.npy\n",
      "FiltrationExtractor: processing 20/train/filtrations/2/RadialFiltration_5_5/green, do_fit = False, filtration = RadialFiltration(center=array([5, 5]), n_jobs=-1)\n",
      "Got the result from ./20/train/filtrations/2/RadialFiltration_5_5/green/diagrams.npy\n",
      "Applying Scaler to persistence diagrams.\n",
      "Got the result from ./20/train/filtrations/2/RadialFiltration_5_5/green/features.npy\n",
      "FiltrationExtractor: processing 20/train/filtrations/2/RadialFiltration_5_5/blue, do_fit = False, filtration = RadialFiltration(center=array([5, 5]), n_jobs=-1)\n",
      "Got the result from ./20/train/filtrations/2/RadialFiltration_5_5/blue/diagrams.npy\n",
      "Applying Scaler to persistence diagrams.\n",
      "Got the result from ./20/train/filtrations/2/RadialFiltration_5_5/blue/features.npy\n",
      "Applying filtration 10/72: RadialFiltration with c = (5, 12), bin. thr. = 0.2\n",
      "RGB images received. Transforming to grayscale.\n"
     ]
    },
    {
     "name": "stderr",
     "output_type": "stream",
     "text": [
      "rgb2gray: 100%|██████████| 50000/50000 [00:04<00:00, 10400.67it/s]\n"
     ]
    },
    {
     "name": "stdout",
     "output_type": "stream",
     "text": [
      "FiltrationExtractor: processing 20/train/filtrations/2/RadialFiltration_5_12/gray, do_fit = False, filtration = RadialFiltration(center=array([ 5, 12]), n_jobs=-1)\n",
      "Got the result from ./20/train/filtrations/2/RadialFiltration_5_12/gray/diagrams.npy\n",
      "Applying Scaler to persistence diagrams.\n",
      "Got the result from ./20/train/filtrations/2/RadialFiltration_5_12/gray/features.npy\n",
      "FiltrationExtractor: processing 20/train/filtrations/2/RadialFiltration_5_12/red, do_fit = False, filtration = RadialFiltration(center=array([ 5, 12]), n_jobs=-1)\n",
      "Got the result from ./20/train/filtrations/2/RadialFiltration_5_12/red/diagrams.npy\n",
      "Applying Scaler to persistence diagrams.\n",
      "Got the result from ./20/train/filtrations/2/RadialFiltration_5_12/red/features.npy\n",
      "FiltrationExtractor: processing 20/train/filtrations/2/RadialFiltration_5_12/green, do_fit = False, filtration = RadialFiltration(center=array([ 5, 12]), n_jobs=-1)\n",
      "Got the result from ./20/train/filtrations/2/RadialFiltration_5_12/green/diagrams.npy\n",
      "Applying Scaler to persistence diagrams.\n",
      "Got the result from ./20/train/filtrations/2/RadialFiltration_5_12/green/features.npy\n",
      "FiltrationExtractor: processing 20/train/filtrations/2/RadialFiltration_5_12/blue, do_fit = False, filtration = RadialFiltration(center=array([ 5, 12]), n_jobs=-1)\n",
      "Got the result from ./20/train/filtrations/2/RadialFiltration_5_12/blue/diagrams.npy\n",
      "Applying Scaler to persistence diagrams.\n",
      "Got the result from ./20/train/filtrations/2/RadialFiltration_5_12/blue/features.npy\n",
      "Applying filtration 11/72: RadialFiltration with c = (5, 19), bin. thr. = 0.2\n",
      "RGB images received. Transforming to grayscale.\n"
     ]
    },
    {
     "name": "stderr",
     "output_type": "stream",
     "text": [
      "rgb2gray: 100%|██████████| 50000/50000 [00:04<00:00, 12224.88it/s]\n"
     ]
    },
    {
     "name": "stdout",
     "output_type": "stream",
     "text": [
      "FiltrationExtractor: processing 20/train/filtrations/2/RadialFiltration_5_19/gray, do_fit = False, filtration = RadialFiltration(center=array([ 5, 19]), n_jobs=-1)\n",
      "Got the result from ./20/train/filtrations/2/RadialFiltration_5_19/gray/diagrams.npy\n",
      "Applying Scaler to persistence diagrams.\n",
      "Got the result from ./20/train/filtrations/2/RadialFiltration_5_19/gray/features.npy\n",
      "FiltrationExtractor: processing 20/train/filtrations/2/RadialFiltration_5_19/red, do_fit = False, filtration = RadialFiltration(center=array([ 5, 19]), n_jobs=-1)\n",
      "Got the result from ./20/train/filtrations/2/RadialFiltration_5_19/red/diagrams.npy\n",
      "Applying Scaler to persistence diagrams.\n",
      "Got the result from ./20/train/filtrations/2/RadialFiltration_5_19/red/features.npy\n",
      "FiltrationExtractor: processing 20/train/filtrations/2/RadialFiltration_5_19/green, do_fit = False, filtration = RadialFiltration(center=array([ 5, 19]), n_jobs=-1)\n",
      "Got the result from ./20/train/filtrations/2/RadialFiltration_5_19/green/diagrams.npy\n",
      "Applying Scaler to persistence diagrams.\n",
      "Got the result from ./20/train/filtrations/2/RadialFiltration_5_19/green/features.npy\n",
      "FiltrationExtractor: processing 20/train/filtrations/2/RadialFiltration_5_19/blue, do_fit = False, filtration = RadialFiltration(center=array([ 5, 19]), n_jobs=-1)\n",
      "Got the result from ./20/train/filtrations/2/RadialFiltration_5_19/blue/diagrams.npy\n",
      "Applying Scaler to persistence diagrams.\n",
      "Got the result from ./20/train/filtrations/2/RadialFiltration_5_19/blue/features.npy\n",
      "Applying filtration 12/72: RadialFiltration with c = (5, 26), bin. thr. = 0.2\n",
      "RGB images received. Transforming to grayscale.\n"
     ]
    },
    {
     "name": "stderr",
     "output_type": "stream",
     "text": [
      "rgb2gray: 100%|██████████| 50000/50000 [00:04<00:00, 11868.02it/s]\n"
     ]
    },
    {
     "name": "stdout",
     "output_type": "stream",
     "text": [
      "FiltrationExtractor: processing 20/train/filtrations/2/RadialFiltration_5_26/gray, do_fit = False, filtration = RadialFiltration(center=array([ 5, 26]), n_jobs=-1)\n",
      "Got the result from ./20/train/filtrations/2/RadialFiltration_5_26/gray/diagrams.npy\n",
      "Applying Scaler to persistence diagrams.\n",
      "Got the result from ./20/train/filtrations/2/RadialFiltration_5_26/gray/features.npy\n",
      "FiltrationExtractor: processing 20/train/filtrations/2/RadialFiltration_5_26/red, do_fit = False, filtration = RadialFiltration(center=array([ 5, 26]), n_jobs=-1)\n",
      "Got the result from ./20/train/filtrations/2/RadialFiltration_5_26/red/diagrams.npy\n",
      "Applying Scaler to persistence diagrams.\n",
      "Got the result from ./20/train/filtrations/2/RadialFiltration_5_26/red/features.npy\n",
      "FiltrationExtractor: processing 20/train/filtrations/2/RadialFiltration_5_26/green, do_fit = False, filtration = RadialFiltration(center=array([ 5, 26]), n_jobs=-1)\n",
      "Got the result from ./20/train/filtrations/2/RadialFiltration_5_26/green/diagrams.npy\n",
      "Applying Scaler to persistence diagrams.\n",
      "Got the result from ./20/train/filtrations/2/RadialFiltration_5_26/green/features.npy\n",
      "FiltrationExtractor: processing 20/train/filtrations/2/RadialFiltration_5_26/blue, do_fit = False, filtration = RadialFiltration(center=array([ 5, 26]), n_jobs=-1)\n",
      "Got the result from ./20/train/filtrations/2/RadialFiltration_5_26/blue/diagrams.npy\n",
      "Applying Scaler to persistence diagrams.\n",
      "Got the result from ./20/train/filtrations/2/RadialFiltration_5_26/blue/features.npy\n",
      "Applying filtration 13/72: RadialFiltration with c = (12, 5), bin. thr. = 0.2\n",
      "RGB images received. Transforming to grayscale.\n"
     ]
    },
    {
     "name": "stderr",
     "output_type": "stream",
     "text": [
      "rgb2gray: 100%|██████████| 50000/50000 [00:04<00:00, 10592.08it/s]\n"
     ]
    },
    {
     "name": "stdout",
     "output_type": "stream",
     "text": [
      "FiltrationExtractor: processing 20/train/filtrations/2/RadialFiltration_12_5/gray, do_fit = False, filtration = RadialFiltration(center=array([12,  5]), n_jobs=-1)\n",
      "Got the result from ./20/train/filtrations/2/RadialFiltration_12_5/gray/diagrams.npy\n",
      "Applying Scaler to persistence diagrams.\n",
      "Got the result from ./20/train/filtrations/2/RadialFiltration_12_5/gray/features.npy\n",
      "FiltrationExtractor: processing 20/train/filtrations/2/RadialFiltration_12_5/red, do_fit = False, filtration = RadialFiltration(center=array([12,  5]), n_jobs=-1)\n",
      "Got the result from ./20/train/filtrations/2/RadialFiltration_12_5/red/diagrams.npy\n",
      "Applying Scaler to persistence diagrams.\n",
      "Got the result from ./20/train/filtrations/2/RadialFiltration_12_5/red/features.npy\n",
      "FiltrationExtractor: processing 20/train/filtrations/2/RadialFiltration_12_5/green, do_fit = False, filtration = RadialFiltration(center=array([12,  5]), n_jobs=-1)\n",
      "Got the result from ./20/train/filtrations/2/RadialFiltration_12_5/green/diagrams.npy\n",
      "Applying Scaler to persistence diagrams.\n",
      "Got the result from ./20/train/filtrations/2/RadialFiltration_12_5/green/features.npy\n",
      "FiltrationExtractor: processing 20/train/filtrations/2/RadialFiltration_12_5/blue, do_fit = False, filtration = RadialFiltration(center=array([12,  5]), n_jobs=-1)\n",
      "Got the result from ./20/train/filtrations/2/RadialFiltration_12_5/blue/diagrams.npy\n",
      "Applying Scaler to persistence diagrams.\n",
      "Got the result from ./20/train/filtrations/2/RadialFiltration_12_5/blue/features.npy\n",
      "Applying filtration 14/72: RadialFiltration with c = (12, 12), bin. thr. = 0.2\n",
      "RGB images received. Transforming to grayscale.\n"
     ]
    },
    {
     "name": "stderr",
     "output_type": "stream",
     "text": [
      "rgb2gray: 100%|██████████| 50000/50000 [00:04<00:00, 10454.86it/s]\n"
     ]
    },
    {
     "name": "stdout",
     "output_type": "stream",
     "text": [
      "FiltrationExtractor: processing 20/train/filtrations/2/RadialFiltration_12_12/gray, do_fit = False, filtration = RadialFiltration(center=array([12, 12]), n_jobs=-1)\n",
      "Got the result from ./20/train/filtrations/2/RadialFiltration_12_12/gray/diagrams.npy\n",
      "Applying Scaler to persistence diagrams.\n",
      "Got the result from ./20/train/filtrations/2/RadialFiltration_12_12/gray/features.npy\n",
      "FiltrationExtractor: processing 20/train/filtrations/2/RadialFiltration_12_12/red, do_fit = False, filtration = RadialFiltration(center=array([12, 12]), n_jobs=-1)\n",
      "Got the result from ./20/train/filtrations/2/RadialFiltration_12_12/red/diagrams.npy\n",
      "Applying Scaler to persistence diagrams.\n",
      "Got the result from ./20/train/filtrations/2/RadialFiltration_12_12/red/features.npy\n",
      "FiltrationExtractor: processing 20/train/filtrations/2/RadialFiltration_12_12/green, do_fit = False, filtration = RadialFiltration(center=array([12, 12]), n_jobs=-1)\n",
      "Got the result from ./20/train/filtrations/2/RadialFiltration_12_12/green/diagrams.npy\n",
      "Applying Scaler to persistence diagrams.\n",
      "Got the result from ./20/train/filtrations/2/RadialFiltration_12_12/green/features.npy\n",
      "FiltrationExtractor: processing 20/train/filtrations/2/RadialFiltration_12_12/blue, do_fit = False, filtration = RadialFiltration(center=array([12, 12]), n_jobs=-1)\n",
      "Got the result from ./20/train/filtrations/2/RadialFiltration_12_12/blue/diagrams.npy\n",
      "Applying Scaler to persistence diagrams.\n",
      "Got the result from ./20/train/filtrations/2/RadialFiltration_12_12/blue/features.npy\n",
      "Applying filtration 15/72: RadialFiltration with c = (12, 19), bin. thr. = 0.2\n",
      "RGB images received. Transforming to grayscale.\n"
     ]
    },
    {
     "name": "stderr",
     "output_type": "stream",
     "text": [
      "rgb2gray: 100%|██████████| 50000/50000 [00:05<00:00, 9733.18it/s] \n"
     ]
    },
    {
     "name": "stdout",
     "output_type": "stream",
     "text": [
      "FiltrationExtractor: processing 20/train/filtrations/2/RadialFiltration_12_19/gray, do_fit = False, filtration = RadialFiltration(center=array([12, 19]), n_jobs=-1)\n",
      "Got the result from ./20/train/filtrations/2/RadialFiltration_12_19/gray/diagrams.npy\n",
      "Applying Scaler to persistence diagrams.\n",
      "Got the result from ./20/train/filtrations/2/RadialFiltration_12_19/gray/features.npy\n",
      "FiltrationExtractor: processing 20/train/filtrations/2/RadialFiltration_12_19/red, do_fit = False, filtration = RadialFiltration(center=array([12, 19]), n_jobs=-1)\n",
      "Got the result from ./20/train/filtrations/2/RadialFiltration_12_19/red/diagrams.npy\n",
      "Applying Scaler to persistence diagrams.\n",
      "Got the result from ./20/train/filtrations/2/RadialFiltration_12_19/red/features.npy\n",
      "FiltrationExtractor: processing 20/train/filtrations/2/RadialFiltration_12_19/green, do_fit = False, filtration = RadialFiltration(center=array([12, 19]), n_jobs=-1)\n",
      "Got the result from ./20/train/filtrations/2/RadialFiltration_12_19/green/diagrams.npy\n",
      "Applying Scaler to persistence diagrams.\n",
      "Got the result from ./20/train/filtrations/2/RadialFiltration_12_19/green/features.npy\n",
      "FiltrationExtractor: processing 20/train/filtrations/2/RadialFiltration_12_19/blue, do_fit = False, filtration = RadialFiltration(center=array([12, 19]), n_jobs=-1)\n",
      "Got the result from ./20/train/filtrations/2/RadialFiltration_12_19/blue/diagrams.npy\n",
      "Applying Scaler to persistence diagrams.\n",
      "Got the result from ./20/train/filtrations/2/RadialFiltration_12_19/blue/features.npy\n",
      "Applying filtration 16/72: RadialFiltration with c = (12, 26), bin. thr. = 0.2\n",
      "RGB images received. Transforming to grayscale.\n"
     ]
    },
    {
     "name": "stderr",
     "output_type": "stream",
     "text": [
      "rgb2gray: 100%|██████████| 50000/50000 [00:04<00:00, 10746.03it/s]\n"
     ]
    },
    {
     "name": "stdout",
     "output_type": "stream",
     "text": [
      "FiltrationExtractor: processing 20/train/filtrations/2/RadialFiltration_12_26/gray, do_fit = False, filtration = RadialFiltration(center=array([12, 26]), n_jobs=-1)\n",
      "Got the result from ./20/train/filtrations/2/RadialFiltration_12_26/gray/diagrams.npy\n",
      "Applying Scaler to persistence diagrams.\n",
      "Got the result from ./20/train/filtrations/2/RadialFiltration_12_26/gray/features.npy\n",
      "FiltrationExtractor: processing 20/train/filtrations/2/RadialFiltration_12_26/red, do_fit = False, filtration = RadialFiltration(center=array([12, 26]), n_jobs=-1)\n",
      "Got the result from ./20/train/filtrations/2/RadialFiltration_12_26/red/diagrams.npy\n",
      "Applying Scaler to persistence diagrams.\n",
      "Got the result from ./20/train/filtrations/2/RadialFiltration_12_26/red/features.npy\n",
      "FiltrationExtractor: processing 20/train/filtrations/2/RadialFiltration_12_26/green, do_fit = False, filtration = RadialFiltration(center=array([12, 26]), n_jobs=-1)\n",
      "Got the result from ./20/train/filtrations/2/RadialFiltration_12_26/green/diagrams.npy\n",
      "Applying Scaler to persistence diagrams.\n",
      "Got the result from ./20/train/filtrations/2/RadialFiltration_12_26/green/features.npy\n",
      "FiltrationExtractor: processing 20/train/filtrations/2/RadialFiltration_12_26/blue, do_fit = False, filtration = RadialFiltration(center=array([12, 26]), n_jobs=-1)\n",
      "Got the result from ./20/train/filtrations/2/RadialFiltration_12_26/blue/diagrams.npy\n",
      "Applying Scaler to persistence diagrams.\n",
      "Got the result from ./20/train/filtrations/2/RadialFiltration_12_26/blue/features.npy\n",
      "Applying filtration 17/72: RadialFiltration with c = (19, 5), bin. thr. = 0.2\n",
      "RGB images received. Transforming to grayscale.\n"
     ]
    },
    {
     "name": "stderr",
     "output_type": "stream",
     "text": [
      "rgb2gray: 100%|██████████| 50000/50000 [00:04<00:00, 12199.56it/s]\n"
     ]
    },
    {
     "name": "stdout",
     "output_type": "stream",
     "text": [
      "FiltrationExtractor: processing 20/train/filtrations/2/RadialFiltration_19_5/gray, do_fit = False, filtration = RadialFiltration(center=array([19,  5]), n_jobs=-1)\n",
      "Got the result from ./20/train/filtrations/2/RadialFiltration_19_5/gray/diagrams.npy\n",
      "Applying Scaler to persistence diagrams.\n",
      "Got the result from ./20/train/filtrations/2/RadialFiltration_19_5/gray/features.npy\n",
      "FiltrationExtractor: processing 20/train/filtrations/2/RadialFiltration_19_5/red, do_fit = False, filtration = RadialFiltration(center=array([19,  5]), n_jobs=-1)\n",
      "Got the result from ./20/train/filtrations/2/RadialFiltration_19_5/red/diagrams.npy\n",
      "Applying Scaler to persistence diagrams.\n",
      "Got the result from ./20/train/filtrations/2/RadialFiltration_19_5/red/features.npy\n",
      "FiltrationExtractor: processing 20/train/filtrations/2/RadialFiltration_19_5/green, do_fit = False, filtration = RadialFiltration(center=array([19,  5]), n_jobs=-1)\n",
      "Got the result from ./20/train/filtrations/2/RadialFiltration_19_5/green/diagrams.npy\n",
      "Applying Scaler to persistence diagrams.\n",
      "Got the result from ./20/train/filtrations/2/RadialFiltration_19_5/green/features.npy\n",
      "FiltrationExtractor: processing 20/train/filtrations/2/RadialFiltration_19_5/blue, do_fit = False, filtration = RadialFiltration(center=array([19,  5]), n_jobs=-1)\n",
      "Got the result from ./20/train/filtrations/2/RadialFiltration_19_5/blue/diagrams.npy\n",
      "Applying Scaler to persistence diagrams.\n",
      "Got the result from ./20/train/filtrations/2/RadialFiltration_19_5/blue/features.npy\n",
      "Applying filtration 18/72: RadialFiltration with c = (19, 12), bin. thr. = 0.2\n",
      "RGB images received. Transforming to grayscale.\n"
     ]
    },
    {
     "name": "stderr",
     "output_type": "stream",
     "text": [
      "rgb2gray: 100%|██████████| 50000/50000 [00:04<00:00, 11551.10it/s]\n"
     ]
    },
    {
     "name": "stdout",
     "output_type": "stream",
     "text": [
      "FiltrationExtractor: processing 20/train/filtrations/2/RadialFiltration_19_12/gray, do_fit = False, filtration = RadialFiltration(center=array([19, 12]), n_jobs=-1)\n",
      "Got the result from ./20/train/filtrations/2/RadialFiltration_19_12/gray/diagrams.npy\n",
      "Applying Scaler to persistence diagrams.\n",
      "Got the result from ./20/train/filtrations/2/RadialFiltration_19_12/gray/features.npy\n",
      "FiltrationExtractor: processing 20/train/filtrations/2/RadialFiltration_19_12/red, do_fit = False, filtration = RadialFiltration(center=array([19, 12]), n_jobs=-1)\n",
      "Got the result from ./20/train/filtrations/2/RadialFiltration_19_12/red/diagrams.npy\n",
      "Applying Scaler to persistence diagrams.\n",
      "Got the result from ./20/train/filtrations/2/RadialFiltration_19_12/red/features.npy\n",
      "FiltrationExtractor: processing 20/train/filtrations/2/RadialFiltration_19_12/green, do_fit = False, filtration = RadialFiltration(center=array([19, 12]), n_jobs=-1)\n",
      "Got the result from ./20/train/filtrations/2/RadialFiltration_19_12/green/diagrams.npy\n",
      "Applying Scaler to persistence diagrams.\n",
      "Got the result from ./20/train/filtrations/2/RadialFiltration_19_12/green/features.npy\n",
      "FiltrationExtractor: processing 20/train/filtrations/2/RadialFiltration_19_12/blue, do_fit = False, filtration = RadialFiltration(center=array([19, 12]), n_jobs=-1)\n",
      "Got the result from ./20/train/filtrations/2/RadialFiltration_19_12/blue/diagrams.npy\n",
      "Applying Scaler to persistence diagrams.\n",
      "Got the result from ./20/train/filtrations/2/RadialFiltration_19_12/blue/features.npy\n",
      "Applying filtration 19/72: RadialFiltration with c = (19, 19), bin. thr. = 0.2\n",
      "RGB images received. Transforming to grayscale.\n"
     ]
    },
    {
     "name": "stderr",
     "output_type": "stream",
     "text": [
      "rgb2gray: 100%|██████████| 50000/50000 [00:04<00:00, 10324.71it/s]\n"
     ]
    },
    {
     "name": "stdout",
     "output_type": "stream",
     "text": [
      "FiltrationExtractor: processing 20/train/filtrations/2/RadialFiltration_19_19/gray, do_fit = False, filtration = RadialFiltration(center=array([19, 19]), n_jobs=-1)\n",
      "Got the result from ./20/train/filtrations/2/RadialFiltration_19_19/gray/diagrams.npy\n",
      "Applying Scaler to persistence diagrams.\n",
      "Got the result from ./20/train/filtrations/2/RadialFiltration_19_19/gray/features.npy\n",
      "FiltrationExtractor: processing 20/train/filtrations/2/RadialFiltration_19_19/red, do_fit = False, filtration = RadialFiltration(center=array([19, 19]), n_jobs=-1)\n",
      "Got the result from ./20/train/filtrations/2/RadialFiltration_19_19/red/diagrams.npy\n",
      "Applying Scaler to persistence diagrams.\n",
      "Got the result from ./20/train/filtrations/2/RadialFiltration_19_19/red/features.npy\n",
      "FiltrationExtractor: processing 20/train/filtrations/2/RadialFiltration_19_19/green, do_fit = False, filtration = RadialFiltration(center=array([19, 19]), n_jobs=-1)\n",
      "Got the result from ./20/train/filtrations/2/RadialFiltration_19_19/green/diagrams.npy\n",
      "Applying Scaler to persistence diagrams.\n",
      "Got the result from ./20/train/filtrations/2/RadialFiltration_19_19/green/features.npy\n",
      "FiltrationExtractor: processing 20/train/filtrations/2/RadialFiltration_19_19/blue, do_fit = False, filtration = RadialFiltration(center=array([19, 19]), n_jobs=-1)\n",
      "Got the result from ./20/train/filtrations/2/RadialFiltration_19_19/blue/diagrams.npy\n",
      "Applying Scaler to persistence diagrams.\n",
      "Got the result from ./20/train/filtrations/2/RadialFiltration_19_19/blue/features.npy\n",
      "Applying filtration 20/72: RadialFiltration with c = (19, 26), bin. thr. = 0.2\n",
      "RGB images received. Transforming to grayscale.\n"
     ]
    },
    {
     "name": "stderr",
     "output_type": "stream",
     "text": [
      "rgb2gray: 100%|██████████| 50000/50000 [00:04<00:00, 10291.21it/s]\n"
     ]
    },
    {
     "name": "stdout",
     "output_type": "stream",
     "text": [
      "FiltrationExtractor: processing 20/train/filtrations/2/RadialFiltration_19_26/gray, do_fit = False, filtration = RadialFiltration(center=array([19, 26]), n_jobs=-1)\n",
      "Got the result from ./20/train/filtrations/2/RadialFiltration_19_26/gray/diagrams.npy\n",
      "Applying Scaler to persistence diagrams.\n",
      "Got the result from ./20/train/filtrations/2/RadialFiltration_19_26/gray/features.npy\n",
      "FiltrationExtractor: processing 20/train/filtrations/2/RadialFiltration_19_26/red, do_fit = False, filtration = RadialFiltration(center=array([19, 26]), n_jobs=-1)\n",
      "Got the result from ./20/train/filtrations/2/RadialFiltration_19_26/red/diagrams.npy\n",
      "Applying Scaler to persistence diagrams.\n",
      "Got the result from ./20/train/filtrations/2/RadialFiltration_19_26/red/features.npy\n",
      "FiltrationExtractor: processing 20/train/filtrations/2/RadialFiltration_19_26/green, do_fit = False, filtration = RadialFiltration(center=array([19, 26]), n_jobs=-1)\n",
      "Got the result from ./20/train/filtrations/2/RadialFiltration_19_26/green/diagrams.npy\n",
      "Applying Scaler to persistence diagrams.\n",
      "Got the result from ./20/train/filtrations/2/RadialFiltration_19_26/green/features.npy\n",
      "FiltrationExtractor: processing 20/train/filtrations/2/RadialFiltration_19_26/blue, do_fit = False, filtration = RadialFiltration(center=array([19, 26]), n_jobs=-1)\n",
      "Got the result from ./20/train/filtrations/2/RadialFiltration_19_26/blue/diagrams.npy\n",
      "Applying Scaler to persistence diagrams.\n",
      "Got the result from ./20/train/filtrations/2/RadialFiltration_19_26/blue/features.npy\n",
      "Applying filtration 21/72: RadialFiltration with c = (26, 5), bin. thr. = 0.2\n",
      "RGB images received. Transforming to grayscale.\n"
     ]
    },
    {
     "name": "stderr",
     "output_type": "stream",
     "text": [
      "rgb2gray: 100%|██████████| 50000/50000 [00:04<00:00, 10575.28it/s]\n"
     ]
    },
    {
     "name": "stdout",
     "output_type": "stream",
     "text": [
      "FiltrationExtractor: processing 20/train/filtrations/2/RadialFiltration_26_5/gray, do_fit = False, filtration = RadialFiltration(center=array([26,  5]), n_jobs=-1)\n",
      "Got the result from ./20/train/filtrations/2/RadialFiltration_26_5/gray/diagrams.npy\n",
      "Applying Scaler to persistence diagrams.\n",
      "Got the result from ./20/train/filtrations/2/RadialFiltration_26_5/gray/features.npy\n",
      "FiltrationExtractor: processing 20/train/filtrations/2/RadialFiltration_26_5/red, do_fit = False, filtration = RadialFiltration(center=array([26,  5]), n_jobs=-1)\n",
      "Got the result from ./20/train/filtrations/2/RadialFiltration_26_5/red/diagrams.npy\n",
      "Applying Scaler to persistence diagrams.\n",
      "Got the result from ./20/train/filtrations/2/RadialFiltration_26_5/red/features.npy\n",
      "FiltrationExtractor: processing 20/train/filtrations/2/RadialFiltration_26_5/green, do_fit = False, filtration = RadialFiltration(center=array([26,  5]), n_jobs=-1)\n",
      "Got the result from ./20/train/filtrations/2/RadialFiltration_26_5/green/diagrams.npy\n",
      "Applying Scaler to persistence diagrams.\n",
      "Got the result from ./20/train/filtrations/2/RadialFiltration_26_5/green/features.npy\n",
      "FiltrationExtractor: processing 20/train/filtrations/2/RadialFiltration_26_5/blue, do_fit = False, filtration = RadialFiltration(center=array([26,  5]), n_jobs=-1)\n",
      "Got the result from ./20/train/filtrations/2/RadialFiltration_26_5/blue/diagrams.npy\n",
      "Applying Scaler to persistence diagrams.\n",
      "Got the result from ./20/train/filtrations/2/RadialFiltration_26_5/blue/features.npy\n",
      "Applying filtration 22/72: RadialFiltration with c = (26, 12), bin. thr. = 0.2\n",
      "RGB images received. Transforming to grayscale.\n"
     ]
    },
    {
     "name": "stderr",
     "output_type": "stream",
     "text": [
      "rgb2gray: 100%|██████████| 50000/50000 [00:05<00:00, 9415.15it/s] \n"
     ]
    },
    {
     "name": "stdout",
     "output_type": "stream",
     "text": [
      "FiltrationExtractor: processing 20/train/filtrations/2/RadialFiltration_26_12/gray, do_fit = False, filtration = RadialFiltration(center=array([26, 12]), n_jobs=-1)\n",
      "Got the result from ./20/train/filtrations/2/RadialFiltration_26_12/gray/diagrams.npy\n",
      "Applying Scaler to persistence diagrams.\n",
      "Got the result from ./20/train/filtrations/2/RadialFiltration_26_12/gray/features.npy\n",
      "FiltrationExtractor: processing 20/train/filtrations/2/RadialFiltration_26_12/red, do_fit = False, filtration = RadialFiltration(center=array([26, 12]), n_jobs=-1)\n",
      "Got the result from ./20/train/filtrations/2/RadialFiltration_26_12/red/diagrams.npy\n",
      "Applying Scaler to persistence diagrams.\n",
      "Got the result from ./20/train/filtrations/2/RadialFiltration_26_12/red/features.npy\n",
      "FiltrationExtractor: processing 20/train/filtrations/2/RadialFiltration_26_12/green, do_fit = False, filtration = RadialFiltration(center=array([26, 12]), n_jobs=-1)\n",
      "Got the result from ./20/train/filtrations/2/RadialFiltration_26_12/green/diagrams.npy\n",
      "Applying Scaler to persistence diagrams.\n",
      "Got the result from ./20/train/filtrations/2/RadialFiltration_26_12/green/features.npy\n",
      "FiltrationExtractor: processing 20/train/filtrations/2/RadialFiltration_26_12/blue, do_fit = False, filtration = RadialFiltration(center=array([26, 12]), n_jobs=-1)\n",
      "Got the result from ./20/train/filtrations/2/RadialFiltration_26_12/blue/diagrams.npy\n",
      "Applying Scaler to persistence diagrams.\n",
      "Got the result from ./20/train/filtrations/2/RadialFiltration_26_12/blue/features.npy\n",
      "Applying filtration 23/72: RadialFiltration with c = (26, 19), bin. thr. = 0.2\n",
      "RGB images received. Transforming to grayscale.\n"
     ]
    },
    {
     "name": "stderr",
     "output_type": "stream",
     "text": [
      "rgb2gray: 100%|██████████| 50000/50000 [00:04<00:00, 10977.96it/s]\n"
     ]
    },
    {
     "name": "stdout",
     "output_type": "stream",
     "text": [
      "FiltrationExtractor: processing 20/train/filtrations/2/RadialFiltration_26_19/gray, do_fit = False, filtration = RadialFiltration(center=array([26, 19]), n_jobs=-1)\n",
      "Got the result from ./20/train/filtrations/2/RadialFiltration_26_19/gray/diagrams.npy\n",
      "Applying Scaler to persistence diagrams.\n",
      "Got the result from ./20/train/filtrations/2/RadialFiltration_26_19/gray/features.npy\n",
      "FiltrationExtractor: processing 20/train/filtrations/2/RadialFiltration_26_19/red, do_fit = False, filtration = RadialFiltration(center=array([26, 19]), n_jobs=-1)\n",
      "Got the result from ./20/train/filtrations/2/RadialFiltration_26_19/red/diagrams.npy\n",
      "Applying Scaler to persistence diagrams.\n",
      "Got the result from ./20/train/filtrations/2/RadialFiltration_26_19/red/features.npy\n",
      "FiltrationExtractor: processing 20/train/filtrations/2/RadialFiltration_26_19/green, do_fit = False, filtration = RadialFiltration(center=array([26, 19]), n_jobs=-1)\n",
      "Got the result from ./20/train/filtrations/2/RadialFiltration_26_19/green/diagrams.npy\n",
      "Applying Scaler to persistence diagrams.\n",
      "Got the result from ./20/train/filtrations/2/RadialFiltration_26_19/green/features.npy\n",
      "FiltrationExtractor: processing 20/train/filtrations/2/RadialFiltration_26_19/blue, do_fit = False, filtration = RadialFiltration(center=array([26, 19]), n_jobs=-1)\n",
      "Got the result from ./20/train/filtrations/2/RadialFiltration_26_19/blue/diagrams.npy\n",
      "Applying Scaler to persistence diagrams.\n",
      "Got the result from ./20/train/filtrations/2/RadialFiltration_26_19/blue/features.npy\n",
      "Applying filtration 24/72: RadialFiltration with c = (26, 26), bin. thr. = 0.2\n",
      "RGB images received. Transforming to grayscale.\n"
     ]
    },
    {
     "name": "stderr",
     "output_type": "stream",
     "text": [
      "rgb2gray: 100%|██████████| 50000/50000 [00:03<00:00, 12682.27it/s]\n"
     ]
    },
    {
     "name": "stdout",
     "output_type": "stream",
     "text": [
      "FiltrationExtractor: processing 20/train/filtrations/2/RadialFiltration_26_26/gray, do_fit = False, filtration = RadialFiltration(center=array([26, 26]), n_jobs=-1)\n",
      "Got the result from ./20/train/filtrations/2/RadialFiltration_26_26/gray/diagrams.npy\n",
      "Applying Scaler to persistence diagrams.\n",
      "Got the result from ./20/train/filtrations/2/RadialFiltration_26_26/gray/features.npy\n",
      "FiltrationExtractor: processing 20/train/filtrations/2/RadialFiltration_26_26/red, do_fit = False, filtration = RadialFiltration(center=array([26, 26]), n_jobs=-1)\n",
      "Got the result from ./20/train/filtrations/2/RadialFiltration_26_26/red/diagrams.npy\n",
      "Applying Scaler to persistence diagrams.\n",
      "Got the result from ./20/train/filtrations/2/RadialFiltration_26_26/red/features.npy\n",
      "FiltrationExtractor: processing 20/train/filtrations/2/RadialFiltration_26_26/green, do_fit = False, filtration = RadialFiltration(center=array([26, 26]), n_jobs=-1)\n",
      "Got the result from ./20/train/filtrations/2/RadialFiltration_26_26/green/diagrams.npy\n",
      "Applying Scaler to persistence diagrams.\n",
      "Got the result from ./20/train/filtrations/2/RadialFiltration_26_26/green/features.npy\n",
      "FiltrationExtractor: processing 20/train/filtrations/2/RadialFiltration_26_26/blue, do_fit = False, filtration = RadialFiltration(center=array([26, 26]), n_jobs=-1)\n",
      "Got the result from ./20/train/filtrations/2/RadialFiltration_26_26/blue/diagrams.npy\n",
      "Applying Scaler to persistence diagrams.\n",
      "Got the result from ./20/train/filtrations/2/RadialFiltration_26_26/blue/features.npy\n",
      "Applying filtration 25/72: HeightFiltration with d = (-1, -1), bin. thr. = 0.4\n",
      "RGB images received. Transforming to grayscale.\n"
     ]
    },
    {
     "name": "stderr",
     "output_type": "stream",
     "text": [
      "rgb2gray: 100%|██████████| 50000/50000 [00:04<00:00, 12226.89it/s]\n"
     ]
    },
    {
     "name": "stdout",
     "output_type": "stream",
     "text": [
      "FiltrationExtractor: processing 20/train/filtrations/4/HeightFiltrartion_-1_-1/gray, do_fit = False, filtration = HeightFiltration(direction=array([-1, -1]), n_jobs=-1)\n",
      "Got the result from ./20/train/filtrations/4/HeightFiltrartion_-1_-1/gray/diagrams.npy\n",
      "Applying Scaler to persistence diagrams.\n",
      "Got the result from ./20/train/filtrations/4/HeightFiltrartion_-1_-1/gray/features.npy\n",
      "FiltrationExtractor: processing 20/train/filtrations/4/HeightFiltrartion_-1_-1/red, do_fit = False, filtration = HeightFiltration(direction=array([-1, -1]), n_jobs=-1)\n",
      "Got the result from ./20/train/filtrations/4/HeightFiltrartion_-1_-1/red/diagrams.npy\n",
      "Applying Scaler to persistence diagrams.\n",
      "Got the result from ./20/train/filtrations/4/HeightFiltrartion_-1_-1/red/features.npy\n",
      "FiltrationExtractor: processing 20/train/filtrations/4/HeightFiltrartion_-1_-1/green, do_fit = False, filtration = HeightFiltration(direction=array([-1, -1]), n_jobs=-1)\n",
      "Got the result from ./20/train/filtrations/4/HeightFiltrartion_-1_-1/green/diagrams.npy\n",
      "Applying Scaler to persistence diagrams.\n",
      "Got the result from ./20/train/filtrations/4/HeightFiltrartion_-1_-1/green/features.npy\n",
      "FiltrationExtractor: processing 20/train/filtrations/4/HeightFiltrartion_-1_-1/blue, do_fit = False, filtration = HeightFiltration(direction=array([-1, -1]), n_jobs=-1)\n",
      "Got the result from ./20/train/filtrations/4/HeightFiltrartion_-1_-1/blue/diagrams.npy\n",
      "Applying Scaler to persistence diagrams.\n",
      "Got the result from ./20/train/filtrations/4/HeightFiltrartion_-1_-1/blue/features.npy\n",
      "Applying filtration 26/72: HeightFiltration with d = (-1, 0), bin. thr. = 0.4\n",
      "RGB images received. Transforming to grayscale.\n"
     ]
    },
    {
     "name": "stderr",
     "output_type": "stream",
     "text": [
      "rgb2gray: 100%|██████████| 50000/50000 [00:04<00:00, 11796.59it/s]\n"
     ]
    },
    {
     "name": "stdout",
     "output_type": "stream",
     "text": [
      "FiltrationExtractor: processing 20/train/filtrations/4/HeightFiltrartion_-1_0/gray, do_fit = False, filtration = HeightFiltration(direction=array([-1,  0]), n_jobs=-1)\n",
      "Got the result from ./20/train/filtrations/4/HeightFiltrartion_-1_0/gray/diagrams.npy\n",
      "Applying Scaler to persistence diagrams.\n",
      "Got the result from ./20/train/filtrations/4/HeightFiltrartion_-1_0/gray/features.npy\n",
      "FiltrationExtractor: processing 20/train/filtrations/4/HeightFiltrartion_-1_0/red, do_fit = False, filtration = HeightFiltration(direction=array([-1,  0]), n_jobs=-1)\n",
      "Got the result from ./20/train/filtrations/4/HeightFiltrartion_-1_0/red/diagrams.npy\n",
      "Applying Scaler to persistence diagrams.\n",
      "Got the result from ./20/train/filtrations/4/HeightFiltrartion_-1_0/red/features.npy\n",
      "FiltrationExtractor: processing 20/train/filtrations/4/HeightFiltrartion_-1_0/green, do_fit = False, filtration = HeightFiltration(direction=array([-1,  0]), n_jobs=-1)\n",
      "Got the result from ./20/train/filtrations/4/HeightFiltrartion_-1_0/green/diagrams.npy\n",
      "Applying Scaler to persistence diagrams.\n",
      "Got the result from ./20/train/filtrations/4/HeightFiltrartion_-1_0/green/features.npy\n",
      "FiltrationExtractor: processing 20/train/filtrations/4/HeightFiltrartion_-1_0/blue, do_fit = False, filtration = HeightFiltration(direction=array([-1,  0]), n_jobs=-1)\n",
      "Got the result from ./20/train/filtrations/4/HeightFiltrartion_-1_0/blue/diagrams.npy\n",
      "Applying Scaler to persistence diagrams.\n",
      "Got the result from ./20/train/filtrations/4/HeightFiltrartion_-1_0/blue/features.npy\n",
      "Applying filtration 27/72: HeightFiltration with d = (-1, 1), bin. thr. = 0.4\n",
      "RGB images received. Transforming to grayscale.\n"
     ]
    },
    {
     "name": "stderr",
     "output_type": "stream",
     "text": [
      "rgb2gray: 100%|██████████| 50000/50000 [00:04<00:00, 12427.62it/s]\n"
     ]
    },
    {
     "name": "stdout",
     "output_type": "stream",
     "text": [
      "FiltrationExtractor: processing 20/train/filtrations/4/HeightFiltrartion_-1_1/gray, do_fit = False, filtration = HeightFiltration(direction=array([-1,  1]), n_jobs=-1)\n",
      "Got the result from ./20/train/filtrations/4/HeightFiltrartion_-1_1/gray/diagrams.npy\n",
      "Applying Scaler to persistence diagrams.\n",
      "Got the result from ./20/train/filtrations/4/HeightFiltrartion_-1_1/gray/features.npy\n",
      "FiltrationExtractor: processing 20/train/filtrations/4/HeightFiltrartion_-1_1/red, do_fit = False, filtration = HeightFiltration(direction=array([-1,  1]), n_jobs=-1)\n",
      "Got the result from ./20/train/filtrations/4/HeightFiltrartion_-1_1/red/diagrams.npy\n",
      "Applying Scaler to persistence diagrams.\n",
      "Got the result from ./20/train/filtrations/4/HeightFiltrartion_-1_1/red/features.npy\n",
      "FiltrationExtractor: processing 20/train/filtrations/4/HeightFiltrartion_-1_1/green, do_fit = False, filtration = HeightFiltration(direction=array([-1,  1]), n_jobs=-1)\n",
      "Got the result from ./20/train/filtrations/4/HeightFiltrartion_-1_1/green/diagrams.npy\n",
      "Applying Scaler to persistence diagrams.\n",
      "Got the result from ./20/train/filtrations/4/HeightFiltrartion_-1_1/green/features.npy\n",
      "FiltrationExtractor: processing 20/train/filtrations/4/HeightFiltrartion_-1_1/blue, do_fit = False, filtration = HeightFiltration(direction=array([-1,  1]), n_jobs=-1)\n",
      "Got the result from ./20/train/filtrations/4/HeightFiltrartion_-1_1/blue/diagrams.npy\n",
      "Applying Scaler to persistence diagrams.\n",
      "Got the result from ./20/train/filtrations/4/HeightFiltrartion_-1_1/blue/features.npy\n",
      "Applying filtration 28/72: HeightFiltration with d = (0, -1), bin. thr. = 0.4\n",
      "RGB images received. Transforming to grayscale.\n"
     ]
    },
    {
     "name": "stderr",
     "output_type": "stream",
     "text": [
      "rgb2gray: 100%|██████████| 50000/50000 [00:04<00:00, 11167.06it/s]\n"
     ]
    },
    {
     "name": "stdout",
     "output_type": "stream",
     "text": [
      "FiltrationExtractor: processing 20/train/filtrations/4/HeightFiltrartion_0_-1/gray, do_fit = False, filtration = HeightFiltration(direction=array([ 0, -1]), n_jobs=-1)\n",
      "Got the result from ./20/train/filtrations/4/HeightFiltrartion_0_-1/gray/diagrams.npy\n",
      "Applying Scaler to persistence diagrams.\n",
      "Got the result from ./20/train/filtrations/4/HeightFiltrartion_0_-1/gray/features.npy\n",
      "FiltrationExtractor: processing 20/train/filtrations/4/HeightFiltrartion_0_-1/red, do_fit = False, filtration = HeightFiltration(direction=array([ 0, -1]), n_jobs=-1)\n",
      "Got the result from ./20/train/filtrations/4/HeightFiltrartion_0_-1/red/diagrams.npy\n",
      "Applying Scaler to persistence diagrams.\n",
      "Got the result from ./20/train/filtrations/4/HeightFiltrartion_0_-1/red/features.npy\n",
      "FiltrationExtractor: processing 20/train/filtrations/4/HeightFiltrartion_0_-1/green, do_fit = False, filtration = HeightFiltration(direction=array([ 0, -1]), n_jobs=-1)\n",
      "Got the result from ./20/train/filtrations/4/HeightFiltrartion_0_-1/green/diagrams.npy\n",
      "Applying Scaler to persistence diagrams.\n",
      "Got the result from ./20/train/filtrations/4/HeightFiltrartion_0_-1/green/features.npy\n",
      "FiltrationExtractor: processing 20/train/filtrations/4/HeightFiltrartion_0_-1/blue, do_fit = False, filtration = HeightFiltration(direction=array([ 0, -1]), n_jobs=-1)\n",
      "Got the result from ./20/train/filtrations/4/HeightFiltrartion_0_-1/blue/diagrams.npy\n",
      "Applying Scaler to persistence diagrams.\n",
      "Got the result from ./20/train/filtrations/4/HeightFiltrartion_0_-1/blue/features.npy\n",
      "Applying filtration 29/72: HeightFiltration with d = (0, 1), bin. thr. = 0.4\n",
      "RGB images received. Transforming to grayscale.\n"
     ]
    },
    {
     "name": "stderr",
     "output_type": "stream",
     "text": [
      "rgb2gray: 100%|██████████| 50000/50000 [00:04<00:00, 10837.73it/s]\n"
     ]
    },
    {
     "name": "stdout",
     "output_type": "stream",
     "text": [
      "FiltrationExtractor: processing 20/train/filtrations/4/HeightFiltrartion_0_1/gray, do_fit = False, filtration = HeightFiltration(direction=array([0, 1]), n_jobs=-1)\n",
      "Got the result from ./20/train/filtrations/4/HeightFiltrartion_0_1/gray/diagrams.npy\n",
      "Applying Scaler to persistence diagrams.\n",
      "Got the result from ./20/train/filtrations/4/HeightFiltrartion_0_1/gray/features.npy\n",
      "FiltrationExtractor: processing 20/train/filtrations/4/HeightFiltrartion_0_1/red, do_fit = False, filtration = HeightFiltration(direction=array([0, 1]), n_jobs=-1)\n",
      "Got the result from ./20/train/filtrations/4/HeightFiltrartion_0_1/red/diagrams.npy\n",
      "Applying Scaler to persistence diagrams.\n",
      "Got the result from ./20/train/filtrations/4/HeightFiltrartion_0_1/red/features.npy\n",
      "FiltrationExtractor: processing 20/train/filtrations/4/HeightFiltrartion_0_1/green, do_fit = False, filtration = HeightFiltration(direction=array([0, 1]), n_jobs=-1)\n",
      "Got the result from ./20/train/filtrations/4/HeightFiltrartion_0_1/green/diagrams.npy\n",
      "Applying Scaler to persistence diagrams.\n",
      "Got the result from ./20/train/filtrations/4/HeightFiltrartion_0_1/green/features.npy\n",
      "FiltrationExtractor: processing 20/train/filtrations/4/HeightFiltrartion_0_1/blue, do_fit = False, filtration = HeightFiltration(direction=array([0, 1]), n_jobs=-1)\n",
      "Got the result from ./20/train/filtrations/4/HeightFiltrartion_0_1/blue/diagrams.npy\n",
      "Applying Scaler to persistence diagrams.\n",
      "Got the result from ./20/train/filtrations/4/HeightFiltrartion_0_1/blue/features.npy\n",
      "Applying filtration 30/72: HeightFiltration with d = (1, -1), bin. thr. = 0.4\n",
      "RGB images received. Transforming to grayscale.\n"
     ]
    },
    {
     "name": "stderr",
     "output_type": "stream",
     "text": [
      "rgb2gray: 100%|██████████| 50000/50000 [00:04<00:00, 12419.21it/s]\n"
     ]
    },
    {
     "name": "stdout",
     "output_type": "stream",
     "text": [
      "FiltrationExtractor: processing 20/train/filtrations/4/HeightFiltrartion_1_-1/gray, do_fit = False, filtration = HeightFiltration(direction=array([ 1, -1]), n_jobs=-1)\n",
      "Got the result from ./20/train/filtrations/4/HeightFiltrartion_1_-1/gray/diagrams.npy\n",
      "Applying Scaler to persistence diagrams.\n",
      "Got the result from ./20/train/filtrations/4/HeightFiltrartion_1_-1/gray/features.npy\n",
      "FiltrationExtractor: processing 20/train/filtrations/4/HeightFiltrartion_1_-1/red, do_fit = False, filtration = HeightFiltration(direction=array([ 1, -1]), n_jobs=-1)\n",
      "Got the result from ./20/train/filtrations/4/HeightFiltrartion_1_-1/red/diagrams.npy\n",
      "Applying Scaler to persistence diagrams.\n",
      "Got the result from ./20/train/filtrations/4/HeightFiltrartion_1_-1/red/features.npy\n",
      "FiltrationExtractor: processing 20/train/filtrations/4/HeightFiltrartion_1_-1/green, do_fit = False, filtration = HeightFiltration(direction=array([ 1, -1]), n_jobs=-1)\n",
      "Got the result from ./20/train/filtrations/4/HeightFiltrartion_1_-1/green/diagrams.npy\n",
      "Applying Scaler to persistence diagrams.\n",
      "Got the result from ./20/train/filtrations/4/HeightFiltrartion_1_-1/green/features.npy\n",
      "FiltrationExtractor: processing 20/train/filtrations/4/HeightFiltrartion_1_-1/blue, do_fit = False, filtration = HeightFiltration(direction=array([ 1, -1]), n_jobs=-1)\n",
      "Got the result from ./20/train/filtrations/4/HeightFiltrartion_1_-1/blue/diagrams.npy\n",
      "Applying Scaler to persistence diagrams.\n",
      "Got the result from ./20/train/filtrations/4/HeightFiltrartion_1_-1/blue/features.npy\n",
      "Applying filtration 31/72: HeightFiltration with d = (1, 0), bin. thr. = 0.4\n",
      "RGB images received. Transforming to grayscale.\n"
     ]
    },
    {
     "name": "stderr",
     "output_type": "stream",
     "text": [
      "rgb2gray: 100%|██████████| 50000/50000 [00:03<00:00, 12643.81it/s]\n"
     ]
    },
    {
     "name": "stdout",
     "output_type": "stream",
     "text": [
      "FiltrationExtractor: processing 20/train/filtrations/4/HeightFiltrartion_1_0/gray, do_fit = False, filtration = HeightFiltration(direction=array([1, 0]), n_jobs=-1)\n",
      "Got the result from ./20/train/filtrations/4/HeightFiltrartion_1_0/gray/diagrams.npy\n",
      "Applying Scaler to persistence diagrams.\n",
      "Got the result from ./20/train/filtrations/4/HeightFiltrartion_1_0/gray/features.npy\n",
      "FiltrationExtractor: processing 20/train/filtrations/4/HeightFiltrartion_1_0/red, do_fit = False, filtration = HeightFiltration(direction=array([1, 0]), n_jobs=-1)\n",
      "Got the result from ./20/train/filtrations/4/HeightFiltrartion_1_0/red/diagrams.npy\n",
      "Applying Scaler to persistence diagrams.\n",
      "Got the result from ./20/train/filtrations/4/HeightFiltrartion_1_0/red/features.npy\n",
      "FiltrationExtractor: processing 20/train/filtrations/4/HeightFiltrartion_1_0/green, do_fit = False, filtration = HeightFiltration(direction=array([1, 0]), n_jobs=-1)\n",
      "Got the result from ./20/train/filtrations/4/HeightFiltrartion_1_0/green/diagrams.npy\n",
      "Applying Scaler to persistence diagrams.\n",
      "Got the result from ./20/train/filtrations/4/HeightFiltrartion_1_0/green/features.npy\n",
      "FiltrationExtractor: processing 20/train/filtrations/4/HeightFiltrartion_1_0/blue, do_fit = False, filtration = HeightFiltration(direction=array([1, 0]), n_jobs=-1)\n",
      "Got the result from ./20/train/filtrations/4/HeightFiltrartion_1_0/blue/diagrams.npy\n",
      "Applying Scaler to persistence diagrams.\n",
      "Got the result from ./20/train/filtrations/4/HeightFiltrartion_1_0/blue/features.npy\n",
      "Applying filtration 32/72: HeightFiltration with d = (1, 1), bin. thr. = 0.4\n",
      "RGB images received. Transforming to grayscale.\n"
     ]
    },
    {
     "name": "stderr",
     "output_type": "stream",
     "text": [
      "rgb2gray: 100%|██████████| 50000/50000 [00:04<00:00, 11600.21it/s]\n"
     ]
    },
    {
     "name": "stdout",
     "output_type": "stream",
     "text": [
      "FiltrationExtractor: processing 20/train/filtrations/4/HeightFiltrartion_1_1/gray, do_fit = False, filtration = HeightFiltration(direction=array([1, 1]), n_jobs=-1)\n",
      "Got the result from ./20/train/filtrations/4/HeightFiltrartion_1_1/gray/diagrams.npy\n",
      "Applying Scaler to persistence diagrams.\n",
      "Got the result from ./20/train/filtrations/4/HeightFiltrartion_1_1/gray/features.npy\n",
      "FiltrationExtractor: processing 20/train/filtrations/4/HeightFiltrartion_1_1/red, do_fit = False, filtration = HeightFiltration(direction=array([1, 1]), n_jobs=-1)\n",
      "Got the result from ./20/train/filtrations/4/HeightFiltrartion_1_1/red/diagrams.npy\n",
      "Applying Scaler to persistence diagrams.\n",
      "Got the result from ./20/train/filtrations/4/HeightFiltrartion_1_1/red/features.npy\n",
      "FiltrationExtractor: processing 20/train/filtrations/4/HeightFiltrartion_1_1/green, do_fit = False, filtration = HeightFiltration(direction=array([1, 1]), n_jobs=-1)\n",
      "Got the result from ./20/train/filtrations/4/HeightFiltrartion_1_1/green/diagrams.npy\n",
      "Applying Scaler to persistence diagrams.\n",
      "Got the result from ./20/train/filtrations/4/HeightFiltrartion_1_1/green/features.npy\n",
      "FiltrationExtractor: processing 20/train/filtrations/4/HeightFiltrartion_1_1/blue, do_fit = False, filtration = HeightFiltration(direction=array([1, 1]), n_jobs=-1)\n",
      "Got the result from ./20/train/filtrations/4/HeightFiltrartion_1_1/blue/diagrams.npy\n",
      "Applying Scaler to persistence diagrams.\n",
      "Got the result from ./20/train/filtrations/4/HeightFiltrartion_1_1/blue/features.npy\n",
      "Applying filtration 33/72: RadialFiltration with c = (5, 5), bin. thr. = 0.4\n",
      "RGB images received. Transforming to grayscale.\n"
     ]
    },
    {
     "name": "stderr",
     "output_type": "stream",
     "text": [
      "rgb2gray: 100%|██████████| 50000/50000 [00:04<00:00, 11349.43it/s]\n"
     ]
    },
    {
     "name": "stdout",
     "output_type": "stream",
     "text": [
      "FiltrationExtractor: processing 20/train/filtrations/4/RadialFiltration_5_5/gray, do_fit = False, filtration = RadialFiltration(center=array([5, 5]), n_jobs=-1)\n",
      "Got the result from ./20/train/filtrations/4/RadialFiltration_5_5/gray/diagrams.npy\n",
      "Applying Scaler to persistence diagrams.\n",
      "Got the result from ./20/train/filtrations/4/RadialFiltration_5_5/gray/features.npy\n",
      "FiltrationExtractor: processing 20/train/filtrations/4/RadialFiltration_5_5/red, do_fit = False, filtration = RadialFiltration(center=array([5, 5]), n_jobs=-1)\n",
      "Got the result from ./20/train/filtrations/4/RadialFiltration_5_5/red/diagrams.npy\n",
      "Applying Scaler to persistence diagrams.\n",
      "Got the result from ./20/train/filtrations/4/RadialFiltration_5_5/red/features.npy\n",
      "FiltrationExtractor: processing 20/train/filtrations/4/RadialFiltration_5_5/green, do_fit = False, filtration = RadialFiltration(center=array([5, 5]), n_jobs=-1)\n",
      "Got the result from ./20/train/filtrations/4/RadialFiltration_5_5/green/diagrams.npy\n",
      "Applying Scaler to persistence diagrams.\n",
      "Got the result from ./20/train/filtrations/4/RadialFiltration_5_5/green/features.npy\n",
      "FiltrationExtractor: processing 20/train/filtrations/4/RadialFiltration_5_5/blue, do_fit = False, filtration = RadialFiltration(center=array([5, 5]), n_jobs=-1)\n",
      "Got the result from ./20/train/filtrations/4/RadialFiltration_5_5/blue/diagrams.npy\n",
      "Applying Scaler to persistence diagrams.\n",
      "Got the result from ./20/train/filtrations/4/RadialFiltration_5_5/blue/features.npy\n",
      "Applying filtration 34/72: RadialFiltration with c = (5, 12), bin. thr. = 0.4\n",
      "RGB images received. Transforming to grayscale.\n"
     ]
    },
    {
     "name": "stderr",
     "output_type": "stream",
     "text": [
      "rgb2gray: 100%|██████████| 50000/50000 [00:04<00:00, 11388.28it/s]\n"
     ]
    },
    {
     "name": "stdout",
     "output_type": "stream",
     "text": [
      "FiltrationExtractor: processing 20/train/filtrations/4/RadialFiltration_5_12/gray, do_fit = False, filtration = RadialFiltration(center=array([ 5, 12]), n_jobs=-1)\n",
      "Got the result from ./20/train/filtrations/4/RadialFiltration_5_12/gray/diagrams.npy\n",
      "Applying Scaler to persistence diagrams.\n",
      "Got the result from ./20/train/filtrations/4/RadialFiltration_5_12/gray/features.npy\n",
      "FiltrationExtractor: processing 20/train/filtrations/4/RadialFiltration_5_12/red, do_fit = False, filtration = RadialFiltration(center=array([ 5, 12]), n_jobs=-1)\n",
      "Got the result from ./20/train/filtrations/4/RadialFiltration_5_12/red/diagrams.npy\n",
      "Applying Scaler to persistence diagrams.\n",
      "Got the result from ./20/train/filtrations/4/RadialFiltration_5_12/red/features.npy\n",
      "FiltrationExtractor: processing 20/train/filtrations/4/RadialFiltration_5_12/green, do_fit = False, filtration = RadialFiltration(center=array([ 5, 12]), n_jobs=-1)\n",
      "Got the result from ./20/train/filtrations/4/RadialFiltration_5_12/green/diagrams.npy\n",
      "Applying Scaler to persistence diagrams.\n",
      "Got the result from ./20/train/filtrations/4/RadialFiltration_5_12/green/features.npy\n",
      "FiltrationExtractor: processing 20/train/filtrations/4/RadialFiltration_5_12/blue, do_fit = False, filtration = RadialFiltration(center=array([ 5, 12]), n_jobs=-1)\n",
      "Got the result from ./20/train/filtrations/4/RadialFiltration_5_12/blue/diagrams.npy\n",
      "Applying Scaler to persistence diagrams.\n",
      "Got the result from ./20/train/filtrations/4/RadialFiltration_5_12/blue/features.npy\n",
      "Applying filtration 35/72: RadialFiltration with c = (5, 19), bin. thr. = 0.4\n",
      "RGB images received. Transforming to grayscale.\n"
     ]
    },
    {
     "name": "stderr",
     "output_type": "stream",
     "text": [
      "rgb2gray: 100%|██████████| 50000/50000 [00:04<00:00, 11461.29it/s]\n"
     ]
    },
    {
     "name": "stdout",
     "output_type": "stream",
     "text": [
      "FiltrationExtractor: processing 20/train/filtrations/4/RadialFiltration_5_19/gray, do_fit = False, filtration = RadialFiltration(center=array([ 5, 19]), n_jobs=-1)\n",
      "Got the result from ./20/train/filtrations/4/RadialFiltration_5_19/gray/diagrams.npy\n",
      "Applying Scaler to persistence diagrams.\n",
      "Got the result from ./20/train/filtrations/4/RadialFiltration_5_19/gray/features.npy\n",
      "FiltrationExtractor: processing 20/train/filtrations/4/RadialFiltration_5_19/red, do_fit = False, filtration = RadialFiltration(center=array([ 5, 19]), n_jobs=-1)\n",
      "Got the result from ./20/train/filtrations/4/RadialFiltration_5_19/red/diagrams.npy\n",
      "Applying Scaler to persistence diagrams.\n",
      "Got the result from ./20/train/filtrations/4/RadialFiltration_5_19/red/features.npy\n",
      "FiltrationExtractor: processing 20/train/filtrations/4/RadialFiltration_5_19/green, do_fit = False, filtration = RadialFiltration(center=array([ 5, 19]), n_jobs=-1)\n",
      "Got the result from ./20/train/filtrations/4/RadialFiltration_5_19/green/diagrams.npy\n",
      "Applying Scaler to persistence diagrams.\n",
      "Got the result from ./20/train/filtrations/4/RadialFiltration_5_19/green/features.npy\n",
      "FiltrationExtractor: processing 20/train/filtrations/4/RadialFiltration_5_19/blue, do_fit = False, filtration = RadialFiltration(center=array([ 5, 19]), n_jobs=-1)\n",
      "Got the result from ./20/train/filtrations/4/RadialFiltration_5_19/blue/diagrams.npy\n",
      "Applying Scaler to persistence diagrams.\n",
      "Got the result from ./20/train/filtrations/4/RadialFiltration_5_19/blue/features.npy\n",
      "Applying filtration 36/72: RadialFiltration with c = (5, 26), bin. thr. = 0.4\n",
      "RGB images received. Transforming to grayscale.\n"
     ]
    },
    {
     "name": "stderr",
     "output_type": "stream",
     "text": [
      "rgb2gray: 100%|██████████| 50000/50000 [00:04<00:00, 11445.55it/s]\n"
     ]
    },
    {
     "name": "stdout",
     "output_type": "stream",
     "text": [
      "FiltrationExtractor: processing 20/train/filtrations/4/RadialFiltration_5_26/gray, do_fit = False, filtration = RadialFiltration(center=array([ 5, 26]), n_jobs=-1)\n",
      "Got the result from ./20/train/filtrations/4/RadialFiltration_5_26/gray/diagrams.npy\n",
      "Applying Scaler to persistence diagrams.\n",
      "Got the result from ./20/train/filtrations/4/RadialFiltration_5_26/gray/features.npy\n",
      "FiltrationExtractor: processing 20/train/filtrations/4/RadialFiltration_5_26/red, do_fit = False, filtration = RadialFiltration(center=array([ 5, 26]), n_jobs=-1)\n",
      "Got the result from ./20/train/filtrations/4/RadialFiltration_5_26/red/diagrams.npy\n",
      "Applying Scaler to persistence diagrams.\n",
      "Got the result from ./20/train/filtrations/4/RadialFiltration_5_26/red/features.npy\n",
      "FiltrationExtractor: processing 20/train/filtrations/4/RadialFiltration_5_26/green, do_fit = False, filtration = RadialFiltration(center=array([ 5, 26]), n_jobs=-1)\n",
      "Got the result from ./20/train/filtrations/4/RadialFiltration_5_26/green/diagrams.npy\n",
      "Applying Scaler to persistence diagrams.\n",
      "Got the result from ./20/train/filtrations/4/RadialFiltration_5_26/green/features.npy\n",
      "FiltrationExtractor: processing 20/train/filtrations/4/RadialFiltration_5_26/blue, do_fit = False, filtration = RadialFiltration(center=array([ 5, 26]), n_jobs=-1)\n",
      "Got the result from ./20/train/filtrations/4/RadialFiltration_5_26/blue/diagrams.npy\n",
      "Applying Scaler to persistence diagrams.\n",
      "Got the result from ./20/train/filtrations/4/RadialFiltration_5_26/blue/features.npy\n",
      "Applying filtration 37/72: RadialFiltration with c = (12, 5), bin. thr. = 0.4\n",
      "RGB images received. Transforming to grayscale.\n"
     ]
    },
    {
     "name": "stderr",
     "output_type": "stream",
     "text": [
      "rgb2gray: 100%|██████████| 50000/50000 [00:04<00:00, 11606.27it/s]\n"
     ]
    },
    {
     "name": "stdout",
     "output_type": "stream",
     "text": [
      "FiltrationExtractor: processing 20/train/filtrations/4/RadialFiltration_12_5/gray, do_fit = False, filtration = RadialFiltration(center=array([12,  5]), n_jobs=-1)\n",
      "Got the result from ./20/train/filtrations/4/RadialFiltration_12_5/gray/diagrams.npy\n",
      "Applying Scaler to persistence diagrams.\n",
      "Got the result from ./20/train/filtrations/4/RadialFiltration_12_5/gray/features.npy\n",
      "FiltrationExtractor: processing 20/train/filtrations/4/RadialFiltration_12_5/red, do_fit = False, filtration = RadialFiltration(center=array([12,  5]), n_jobs=-1)\n",
      "Got the result from ./20/train/filtrations/4/RadialFiltration_12_5/red/diagrams.npy\n",
      "Applying Scaler to persistence diagrams.\n",
      "Got the result from ./20/train/filtrations/4/RadialFiltration_12_5/red/features.npy\n",
      "FiltrationExtractor: processing 20/train/filtrations/4/RadialFiltration_12_5/green, do_fit = False, filtration = RadialFiltration(center=array([12,  5]), n_jobs=-1)\n",
      "Got the result from ./20/train/filtrations/4/RadialFiltration_12_5/green/diagrams.npy\n",
      "Applying Scaler to persistence diagrams.\n",
      "Got the result from ./20/train/filtrations/4/RadialFiltration_12_5/green/features.npy\n",
      "FiltrationExtractor: processing 20/train/filtrations/4/RadialFiltration_12_5/blue, do_fit = False, filtration = RadialFiltration(center=array([12,  5]), n_jobs=-1)\n",
      "Got the result from ./20/train/filtrations/4/RadialFiltration_12_5/blue/diagrams.npy\n",
      "Applying Scaler to persistence diagrams.\n",
      "Got the result from ./20/train/filtrations/4/RadialFiltration_12_5/blue/features.npy\n",
      "Applying filtration 38/72: RadialFiltration with c = (12, 12), bin. thr. = 0.4\n",
      "RGB images received. Transforming to grayscale.\n"
     ]
    },
    {
     "name": "stderr",
     "output_type": "stream",
     "text": [
      "rgb2gray: 100%|██████████| 50000/50000 [00:04<00:00, 11032.59it/s]\n"
     ]
    },
    {
     "name": "stdout",
     "output_type": "stream",
     "text": [
      "FiltrationExtractor: processing 20/train/filtrations/4/RadialFiltration_12_12/gray, do_fit = False, filtration = RadialFiltration(center=array([12, 12]), n_jobs=-1)\n",
      "Got the result from ./20/train/filtrations/4/RadialFiltration_12_12/gray/diagrams.npy\n",
      "Applying Scaler to persistence diagrams.\n",
      "Got the result from ./20/train/filtrations/4/RadialFiltration_12_12/gray/features.npy\n",
      "FiltrationExtractor: processing 20/train/filtrations/4/RadialFiltration_12_12/red, do_fit = False, filtration = RadialFiltration(center=array([12, 12]), n_jobs=-1)\n",
      "Got the result from ./20/train/filtrations/4/RadialFiltration_12_12/red/diagrams.npy\n",
      "Applying Scaler to persistence diagrams.\n",
      "Got the result from ./20/train/filtrations/4/RadialFiltration_12_12/red/features.npy\n",
      "FiltrationExtractor: processing 20/train/filtrations/4/RadialFiltration_12_12/green, do_fit = False, filtration = RadialFiltration(center=array([12, 12]), n_jobs=-1)\n",
      "Got the result from ./20/train/filtrations/4/RadialFiltration_12_12/green/diagrams.npy\n",
      "Applying Scaler to persistence diagrams.\n",
      "Got the result from ./20/train/filtrations/4/RadialFiltration_12_12/green/features.npy\n",
      "FiltrationExtractor: processing 20/train/filtrations/4/RadialFiltration_12_12/blue, do_fit = False, filtration = RadialFiltration(center=array([12, 12]), n_jobs=-1)\n",
      "Got the result from ./20/train/filtrations/4/RadialFiltration_12_12/blue/diagrams.npy\n",
      "Applying Scaler to persistence diagrams.\n",
      "Got the result from ./20/train/filtrations/4/RadialFiltration_12_12/blue/features.npy\n",
      "Applying filtration 39/72: RadialFiltration with c = (12, 19), bin. thr. = 0.4\n",
      "RGB images received. Transforming to grayscale.\n"
     ]
    },
    {
     "name": "stderr",
     "output_type": "stream",
     "text": [
      "rgb2gray: 100%|██████████| 50000/50000 [00:04<00:00, 10896.80it/s]\n"
     ]
    },
    {
     "name": "stdout",
     "output_type": "stream",
     "text": [
      "FiltrationExtractor: processing 20/train/filtrations/4/RadialFiltration_12_19/gray, do_fit = False, filtration = RadialFiltration(center=array([12, 19]), n_jobs=-1)\n",
      "Got the result from ./20/train/filtrations/4/RadialFiltration_12_19/gray/diagrams.npy\n",
      "Applying Scaler to persistence diagrams.\n",
      "Got the result from ./20/train/filtrations/4/RadialFiltration_12_19/gray/features.npy\n",
      "FiltrationExtractor: processing 20/train/filtrations/4/RadialFiltration_12_19/red, do_fit = False, filtration = RadialFiltration(center=array([12, 19]), n_jobs=-1)\n",
      "Got the result from ./20/train/filtrations/4/RadialFiltration_12_19/red/diagrams.npy\n",
      "Applying Scaler to persistence diagrams.\n",
      "Got the result from ./20/train/filtrations/4/RadialFiltration_12_19/red/features.npy\n",
      "FiltrationExtractor: processing 20/train/filtrations/4/RadialFiltration_12_19/green, do_fit = False, filtration = RadialFiltration(center=array([12, 19]), n_jobs=-1)\n",
      "Got the result from ./20/train/filtrations/4/RadialFiltration_12_19/green/diagrams.npy\n",
      "Applying Scaler to persistence diagrams.\n",
      "Got the result from ./20/train/filtrations/4/RadialFiltration_12_19/green/features.npy\n",
      "FiltrationExtractor: processing 20/train/filtrations/4/RadialFiltration_12_19/blue, do_fit = False, filtration = RadialFiltration(center=array([12, 19]), n_jobs=-1)\n",
      "Got the result from ./20/train/filtrations/4/RadialFiltration_12_19/blue/diagrams.npy\n",
      "Applying Scaler to persistence diagrams.\n",
      "Got the result from ./20/train/filtrations/4/RadialFiltration_12_19/blue/features.npy\n",
      "Applying filtration 40/72: RadialFiltration with c = (12, 26), bin. thr. = 0.4\n",
      "RGB images received. Transforming to grayscale.\n"
     ]
    },
    {
     "name": "stderr",
     "output_type": "stream",
     "text": [
      "rgb2gray: 100%|██████████| 50000/50000 [00:04<00:00, 11860.96it/s]\n"
     ]
    },
    {
     "name": "stdout",
     "output_type": "stream",
     "text": [
      "FiltrationExtractor: processing 20/train/filtrations/4/RadialFiltration_12_26/gray, do_fit = False, filtration = RadialFiltration(center=array([12, 26]), n_jobs=-1)\n",
      "Got the result from ./20/train/filtrations/4/RadialFiltration_12_26/gray/diagrams.npy\n",
      "Applying Scaler to persistence diagrams.\n",
      "Got the result from ./20/train/filtrations/4/RadialFiltration_12_26/gray/features.npy\n",
      "FiltrationExtractor: processing 20/train/filtrations/4/RadialFiltration_12_26/red, do_fit = False, filtration = RadialFiltration(center=array([12, 26]), n_jobs=-1)\n",
      "Got the result from ./20/train/filtrations/4/RadialFiltration_12_26/red/diagrams.npy\n",
      "Applying Scaler to persistence diagrams.\n",
      "Got the result from ./20/train/filtrations/4/RadialFiltration_12_26/red/features.npy\n",
      "FiltrationExtractor: processing 20/train/filtrations/4/RadialFiltration_12_26/green, do_fit = False, filtration = RadialFiltration(center=array([12, 26]), n_jobs=-1)\n",
      "Got the result from ./20/train/filtrations/4/RadialFiltration_12_26/green/diagrams.npy\n",
      "Applying Scaler to persistence diagrams.\n",
      "Got the result from ./20/train/filtrations/4/RadialFiltration_12_26/green/features.npy\n",
      "FiltrationExtractor: processing 20/train/filtrations/4/RadialFiltration_12_26/blue, do_fit = False, filtration = RadialFiltration(center=array([12, 26]), n_jobs=-1)\n",
      "Got the result from ./20/train/filtrations/4/RadialFiltration_12_26/blue/diagrams.npy\n",
      "Applying Scaler to persistence diagrams.\n",
      "Got the result from ./20/train/filtrations/4/RadialFiltration_12_26/blue/features.npy\n",
      "Applying filtration 41/72: RadialFiltration with c = (19, 5), bin. thr. = 0.4\n",
      "RGB images received. Transforming to grayscale.\n"
     ]
    },
    {
     "name": "stderr",
     "output_type": "stream",
     "text": [
      "rgb2gray: 100%|██████████| 50000/50000 [00:04<00:00, 11041.16it/s]\n"
     ]
    },
    {
     "name": "stdout",
     "output_type": "stream",
     "text": [
      "FiltrationExtractor: processing 20/train/filtrations/4/RadialFiltration_19_5/gray, do_fit = False, filtration = RadialFiltration(center=array([19,  5]), n_jobs=-1)\n",
      "Got the result from ./20/train/filtrations/4/RadialFiltration_19_5/gray/diagrams.npy\n",
      "Applying Scaler to persistence diagrams.\n",
      "Got the result from ./20/train/filtrations/4/RadialFiltration_19_5/gray/features.npy\n",
      "FiltrationExtractor: processing 20/train/filtrations/4/RadialFiltration_19_5/red, do_fit = False, filtration = RadialFiltration(center=array([19,  5]), n_jobs=-1)\n",
      "Got the result from ./20/train/filtrations/4/RadialFiltration_19_5/red/diagrams.npy\n",
      "Applying Scaler to persistence diagrams.\n",
      "Got the result from ./20/train/filtrations/4/RadialFiltration_19_5/red/features.npy\n",
      "FiltrationExtractor: processing 20/train/filtrations/4/RadialFiltration_19_5/green, do_fit = False, filtration = RadialFiltration(center=array([19,  5]), n_jobs=-1)\n",
      "Got the result from ./20/train/filtrations/4/RadialFiltration_19_5/green/diagrams.npy\n",
      "Applying Scaler to persistence diagrams.\n",
      "Got the result from ./20/train/filtrations/4/RadialFiltration_19_5/green/features.npy\n",
      "FiltrationExtractor: processing 20/train/filtrations/4/RadialFiltration_19_5/blue, do_fit = False, filtration = RadialFiltration(center=array([19,  5]), n_jobs=-1)\n",
      "Got the result from ./20/train/filtrations/4/RadialFiltration_19_5/blue/diagrams.npy\n",
      "Applying Scaler to persistence diagrams.\n",
      "Got the result from ./20/train/filtrations/4/RadialFiltration_19_5/blue/features.npy\n",
      "Applying filtration 42/72: RadialFiltration with c = (19, 12), bin. thr. = 0.4\n",
      "RGB images received. Transforming to grayscale.\n"
     ]
    },
    {
     "name": "stderr",
     "output_type": "stream",
     "text": [
      "rgb2gray: 100%|██████████| 50000/50000 [00:04<00:00, 11358.42it/s]\n"
     ]
    },
    {
     "name": "stdout",
     "output_type": "stream",
     "text": [
      "FiltrationExtractor: processing 20/train/filtrations/4/RadialFiltration_19_12/gray, do_fit = False, filtration = RadialFiltration(center=array([19, 12]), n_jobs=-1)\n",
      "Got the result from ./20/train/filtrations/4/RadialFiltration_19_12/gray/diagrams.npy\n",
      "Applying Scaler to persistence diagrams.\n",
      "Got the result from ./20/train/filtrations/4/RadialFiltration_19_12/gray/features.npy\n",
      "FiltrationExtractor: processing 20/train/filtrations/4/RadialFiltration_19_12/red, do_fit = False, filtration = RadialFiltration(center=array([19, 12]), n_jobs=-1)\n",
      "Got the result from ./20/train/filtrations/4/RadialFiltration_19_12/red/diagrams.npy\n",
      "Applying Scaler to persistence diagrams.\n",
      "Got the result from ./20/train/filtrations/4/RadialFiltration_19_12/red/features.npy\n",
      "FiltrationExtractor: processing 20/train/filtrations/4/RadialFiltration_19_12/green, do_fit = False, filtration = RadialFiltration(center=array([19, 12]), n_jobs=-1)\n",
      "Got the result from ./20/train/filtrations/4/RadialFiltration_19_12/green/diagrams.npy\n",
      "Applying Scaler to persistence diagrams.\n",
      "Got the result from ./20/train/filtrations/4/RadialFiltration_19_12/green/features.npy\n",
      "FiltrationExtractor: processing 20/train/filtrations/4/RadialFiltration_19_12/blue, do_fit = False, filtration = RadialFiltration(center=array([19, 12]), n_jobs=-1)\n",
      "Got the result from ./20/train/filtrations/4/RadialFiltration_19_12/blue/diagrams.npy\n",
      "Applying Scaler to persistence diagrams.\n",
      "Got the result from ./20/train/filtrations/4/RadialFiltration_19_12/blue/features.npy\n",
      "Applying filtration 43/72: RadialFiltration with c = (19, 19), bin. thr. = 0.4\n",
      "RGB images received. Transforming to grayscale.\n"
     ]
    },
    {
     "name": "stderr",
     "output_type": "stream",
     "text": [
      "rgb2gray: 100%|██████████| 50000/50000 [00:04<00:00, 10691.59it/s]\n"
     ]
    },
    {
     "name": "stdout",
     "output_type": "stream",
     "text": [
      "FiltrationExtractor: processing 20/train/filtrations/4/RadialFiltration_19_19/gray, do_fit = False, filtration = RadialFiltration(center=array([19, 19]), n_jobs=-1)\n",
      "Got the result from ./20/train/filtrations/4/RadialFiltration_19_19/gray/diagrams.npy\n",
      "Applying Scaler to persistence diagrams.\n",
      "Got the result from ./20/train/filtrations/4/RadialFiltration_19_19/gray/features.npy\n",
      "FiltrationExtractor: processing 20/train/filtrations/4/RadialFiltration_19_19/red, do_fit = False, filtration = RadialFiltration(center=array([19, 19]), n_jobs=-1)\n",
      "Got the result from ./20/train/filtrations/4/RadialFiltration_19_19/red/diagrams.npy\n",
      "Applying Scaler to persistence diagrams.\n",
      "Got the result from ./20/train/filtrations/4/RadialFiltration_19_19/red/features.npy\n",
      "FiltrationExtractor: processing 20/train/filtrations/4/RadialFiltration_19_19/green, do_fit = False, filtration = RadialFiltration(center=array([19, 19]), n_jobs=-1)\n",
      "Got the result from ./20/train/filtrations/4/RadialFiltration_19_19/green/diagrams.npy\n",
      "Applying Scaler to persistence diagrams.\n",
      "Got the result from ./20/train/filtrations/4/RadialFiltration_19_19/green/features.npy\n",
      "FiltrationExtractor: processing 20/train/filtrations/4/RadialFiltration_19_19/blue, do_fit = False, filtration = RadialFiltration(center=array([19, 19]), n_jobs=-1)\n",
      "Got the result from ./20/train/filtrations/4/RadialFiltration_19_19/blue/diagrams.npy\n",
      "Applying Scaler to persistence diagrams.\n",
      "Got the result from ./20/train/filtrations/4/RadialFiltration_19_19/blue/features.npy\n",
      "Applying filtration 44/72: RadialFiltration with c = (19, 26), bin. thr. = 0.4\n",
      "RGB images received. Transforming to grayscale.\n"
     ]
    },
    {
     "name": "stderr",
     "output_type": "stream",
     "text": [
      "rgb2gray: 100%|██████████| 50000/50000 [00:04<00:00, 11163.74it/s]\n"
     ]
    },
    {
     "name": "stdout",
     "output_type": "stream",
     "text": [
      "FiltrationExtractor: processing 20/train/filtrations/4/RadialFiltration_19_26/gray, do_fit = False, filtration = RadialFiltration(center=array([19, 26]), n_jobs=-1)\n",
      "Got the result from ./20/train/filtrations/4/RadialFiltration_19_26/gray/diagrams.npy\n",
      "Applying Scaler to persistence diagrams.\n",
      "Got the result from ./20/train/filtrations/4/RadialFiltration_19_26/gray/features.npy\n",
      "FiltrationExtractor: processing 20/train/filtrations/4/RadialFiltration_19_26/red, do_fit = False, filtration = RadialFiltration(center=array([19, 26]), n_jobs=-1)\n",
      "Got the result from ./20/train/filtrations/4/RadialFiltration_19_26/red/diagrams.npy\n",
      "Applying Scaler to persistence diagrams.\n",
      "Got the result from ./20/train/filtrations/4/RadialFiltration_19_26/red/features.npy\n",
      "FiltrationExtractor: processing 20/train/filtrations/4/RadialFiltration_19_26/green, do_fit = False, filtration = RadialFiltration(center=array([19, 26]), n_jobs=-1)\n",
      "Got the result from ./20/train/filtrations/4/RadialFiltration_19_26/green/diagrams.npy\n",
      "Applying Scaler to persistence diagrams.\n",
      "Got the result from ./20/train/filtrations/4/RadialFiltration_19_26/green/features.npy\n",
      "FiltrationExtractor: processing 20/train/filtrations/4/RadialFiltration_19_26/blue, do_fit = False, filtration = RadialFiltration(center=array([19, 26]), n_jobs=-1)\n",
      "Got the result from ./20/train/filtrations/4/RadialFiltration_19_26/blue/diagrams.npy\n",
      "Applying Scaler to persistence diagrams.\n",
      "Got the result from ./20/train/filtrations/4/RadialFiltration_19_26/blue/features.npy\n",
      "Applying filtration 45/72: RadialFiltration with c = (26, 5), bin. thr. = 0.4\n",
      "RGB images received. Transforming to grayscale.\n"
     ]
    },
    {
     "name": "stderr",
     "output_type": "stream",
     "text": [
      "rgb2gray: 100%|██████████| 50000/50000 [00:04<00:00, 11605.00it/s]\n"
     ]
    },
    {
     "name": "stdout",
     "output_type": "stream",
     "text": [
      "FiltrationExtractor: processing 20/train/filtrations/4/RadialFiltration_26_5/gray, do_fit = False, filtration = RadialFiltration(center=array([26,  5]), n_jobs=-1)\n",
      "Got the result from ./20/train/filtrations/4/RadialFiltration_26_5/gray/diagrams.npy\n",
      "Applying Scaler to persistence diagrams.\n",
      "Got the result from ./20/train/filtrations/4/RadialFiltration_26_5/gray/features.npy\n",
      "FiltrationExtractor: processing 20/train/filtrations/4/RadialFiltration_26_5/red, do_fit = False, filtration = RadialFiltration(center=array([26,  5]), n_jobs=-1)\n",
      "Got the result from ./20/train/filtrations/4/RadialFiltration_26_5/red/diagrams.npy\n",
      "Applying Scaler to persistence diagrams.\n",
      "Got the result from ./20/train/filtrations/4/RadialFiltration_26_5/red/features.npy\n",
      "FiltrationExtractor: processing 20/train/filtrations/4/RadialFiltration_26_5/green, do_fit = False, filtration = RadialFiltration(center=array([26,  5]), n_jobs=-1)\n",
      "Got the result from ./20/train/filtrations/4/RadialFiltration_26_5/green/diagrams.npy\n",
      "Applying Scaler to persistence diagrams.\n",
      "Got the result from ./20/train/filtrations/4/RadialFiltration_26_5/green/features.npy\n",
      "FiltrationExtractor: processing 20/train/filtrations/4/RadialFiltration_26_5/blue, do_fit = False, filtration = RadialFiltration(center=array([26,  5]), n_jobs=-1)\n",
      "Got the result from ./20/train/filtrations/4/RadialFiltration_26_5/blue/diagrams.npy\n",
      "Applying Scaler to persistence diagrams.\n",
      "Got the result from ./20/train/filtrations/4/RadialFiltration_26_5/blue/features.npy\n",
      "Applying filtration 46/72: RadialFiltration with c = (26, 12), bin. thr. = 0.4\n",
      "RGB images received. Transforming to grayscale.\n"
     ]
    },
    {
     "name": "stderr",
     "output_type": "stream",
     "text": [
      "rgb2gray: 100%|██████████| 50000/50000 [00:05<00:00, 9655.75it/s] \n"
     ]
    },
    {
     "name": "stdout",
     "output_type": "stream",
     "text": [
      "FiltrationExtractor: processing 20/train/filtrations/4/RadialFiltration_26_12/gray, do_fit = False, filtration = RadialFiltration(center=array([26, 12]), n_jobs=-1)\n",
      "Got the result from ./20/train/filtrations/4/RadialFiltration_26_12/gray/diagrams.npy\n",
      "Applying Scaler to persistence diagrams.\n",
      "Got the result from ./20/train/filtrations/4/RadialFiltration_26_12/gray/features.npy\n",
      "FiltrationExtractor: processing 20/train/filtrations/4/RadialFiltration_26_12/red, do_fit = False, filtration = RadialFiltration(center=array([26, 12]), n_jobs=-1)\n",
      "Got the result from ./20/train/filtrations/4/RadialFiltration_26_12/red/diagrams.npy\n",
      "Applying Scaler to persistence diagrams.\n",
      "Got the result from ./20/train/filtrations/4/RadialFiltration_26_12/red/features.npy\n",
      "FiltrationExtractor: processing 20/train/filtrations/4/RadialFiltration_26_12/green, do_fit = False, filtration = RadialFiltration(center=array([26, 12]), n_jobs=-1)\n",
      "Got the result from ./20/train/filtrations/4/RadialFiltration_26_12/green/diagrams.npy\n",
      "Applying Scaler to persistence diagrams.\n",
      "Got the result from ./20/train/filtrations/4/RadialFiltration_26_12/green/features.npy\n",
      "FiltrationExtractor: processing 20/train/filtrations/4/RadialFiltration_26_12/blue, do_fit = False, filtration = RadialFiltration(center=array([26, 12]), n_jobs=-1)\n",
      "Got the result from ./20/train/filtrations/4/RadialFiltration_26_12/blue/diagrams.npy\n",
      "Applying Scaler to persistence diagrams.\n",
      "Got the result from ./20/train/filtrations/4/RadialFiltration_26_12/blue/features.npy\n",
      "Applying filtration 47/72: RadialFiltration with c = (26, 19), bin. thr. = 0.4\n",
      "RGB images received. Transforming to grayscale.\n"
     ]
    },
    {
     "name": "stderr",
     "output_type": "stream",
     "text": [
      "rgb2gray: 100%|██████████| 50000/50000 [00:04<00:00, 11618.42it/s]\n"
     ]
    },
    {
     "name": "stdout",
     "output_type": "stream",
     "text": [
      "FiltrationExtractor: processing 20/train/filtrations/4/RadialFiltration_26_19/gray, do_fit = False, filtration = RadialFiltration(center=array([26, 19]), n_jobs=-1)\n",
      "Got the result from ./20/train/filtrations/4/RadialFiltration_26_19/gray/diagrams.npy\n",
      "Applying Scaler to persistence diagrams.\n",
      "Got the result from ./20/train/filtrations/4/RadialFiltration_26_19/gray/features.npy\n",
      "FiltrationExtractor: processing 20/train/filtrations/4/RadialFiltration_26_19/red, do_fit = False, filtration = RadialFiltration(center=array([26, 19]), n_jobs=-1)\n",
      "Got the result from ./20/train/filtrations/4/RadialFiltration_26_19/red/diagrams.npy\n",
      "Applying Scaler to persistence diagrams.\n",
      "Got the result from ./20/train/filtrations/4/RadialFiltration_26_19/red/features.npy\n",
      "FiltrationExtractor: processing 20/train/filtrations/4/RadialFiltration_26_19/green, do_fit = False, filtration = RadialFiltration(center=array([26, 19]), n_jobs=-1)\n",
      "Got the result from ./20/train/filtrations/4/RadialFiltration_26_19/green/diagrams.npy\n",
      "Applying Scaler to persistence diagrams.\n",
      "Got the result from ./20/train/filtrations/4/RadialFiltration_26_19/green/features.npy\n",
      "FiltrationExtractor: processing 20/train/filtrations/4/RadialFiltration_26_19/blue, do_fit = False, filtration = RadialFiltration(center=array([26, 19]), n_jobs=-1)\n",
      "Got the result from ./20/train/filtrations/4/RadialFiltration_26_19/blue/diagrams.npy\n",
      "Applying Scaler to persistence diagrams.\n",
      "Got the result from ./20/train/filtrations/4/RadialFiltration_26_19/blue/features.npy\n",
      "Applying filtration 48/72: RadialFiltration with c = (26, 26), bin. thr. = 0.4\n",
      "RGB images received. Transforming to grayscale.\n"
     ]
    },
    {
     "name": "stderr",
     "output_type": "stream",
     "text": [
      "rgb2gray: 100%|██████████| 50000/50000 [00:04<00:00, 10289.09it/s]\n"
     ]
    },
    {
     "name": "stdout",
     "output_type": "stream",
     "text": [
      "FiltrationExtractor: processing 20/train/filtrations/4/RadialFiltration_26_26/gray, do_fit = False, filtration = RadialFiltration(center=array([26, 26]), n_jobs=-1)\n",
      "Got the result from ./20/train/filtrations/4/RadialFiltration_26_26/gray/diagrams.npy\n",
      "Applying Scaler to persistence diagrams.\n",
      "Got the result from ./20/train/filtrations/4/RadialFiltration_26_26/gray/features.npy\n",
      "FiltrationExtractor: processing 20/train/filtrations/4/RadialFiltration_26_26/red, do_fit = False, filtration = RadialFiltration(center=array([26, 26]), n_jobs=-1)\n",
      "Got the result from ./20/train/filtrations/4/RadialFiltration_26_26/red/diagrams.npy\n",
      "Applying Scaler to persistence diagrams.\n",
      "Got the result from ./20/train/filtrations/4/RadialFiltration_26_26/red/features.npy\n",
      "FiltrationExtractor: processing 20/train/filtrations/4/RadialFiltration_26_26/green, do_fit = False, filtration = RadialFiltration(center=array([26, 26]), n_jobs=-1)\n",
      "Got the result from ./20/train/filtrations/4/RadialFiltration_26_26/green/diagrams.npy\n",
      "Applying Scaler to persistence diagrams.\n",
      "Got the result from ./20/train/filtrations/4/RadialFiltration_26_26/green/features.npy\n",
      "FiltrationExtractor: processing 20/train/filtrations/4/RadialFiltration_26_26/blue, do_fit = False, filtration = RadialFiltration(center=array([26, 26]), n_jobs=-1)\n",
      "Got the result from ./20/train/filtrations/4/RadialFiltration_26_26/blue/diagrams.npy\n",
      "Applying Scaler to persistence diagrams.\n",
      "Got the result from ./20/train/filtrations/4/RadialFiltration_26_26/blue/features.npy\n",
      "Applying filtration 49/72: HeightFiltration with d = (-1, -1), bin. thr. = 0.6\n",
      "RGB images received. Transforming to grayscale.\n"
     ]
    },
    {
     "name": "stderr",
     "output_type": "stream",
     "text": [
      "rgb2gray: 100%|██████████| 50000/50000 [00:05<00:00, 9378.21it/s] \n"
     ]
    },
    {
     "name": "stdout",
     "output_type": "stream",
     "text": [
      "FiltrationExtractor: processing 20/train/filtrations/6/HeightFiltrartion_-1_-1/gray, do_fit = False, filtration = HeightFiltration(direction=array([-1, -1]), n_jobs=-1)\n",
      "Got the result from ./20/train/filtrations/6/HeightFiltrartion_-1_-1/gray/diagrams.npy\n",
      "Applying Scaler to persistence diagrams.\n",
      "Got the result from ./20/train/filtrations/6/HeightFiltrartion_-1_-1/gray/features.npy\n",
      "FiltrationExtractor: processing 20/train/filtrations/6/HeightFiltrartion_-1_-1/red, do_fit = False, filtration = HeightFiltration(direction=array([-1, -1]), n_jobs=-1)\n",
      "Got the result from ./20/train/filtrations/6/HeightFiltrartion_-1_-1/red/diagrams.npy\n",
      "Applying Scaler to persistence diagrams.\n",
      "Got the result from ./20/train/filtrations/6/HeightFiltrartion_-1_-1/red/features.npy\n",
      "FiltrationExtractor: processing 20/train/filtrations/6/HeightFiltrartion_-1_-1/green, do_fit = False, filtration = HeightFiltration(direction=array([-1, -1]), n_jobs=-1)\n",
      "Got the result from ./20/train/filtrations/6/HeightFiltrartion_-1_-1/green/diagrams.npy\n",
      "Applying Scaler to persistence diagrams.\n",
      "Got the result from ./20/train/filtrations/6/HeightFiltrartion_-1_-1/green/features.npy\n",
      "FiltrationExtractor: processing 20/train/filtrations/6/HeightFiltrartion_-1_-1/blue, do_fit = False, filtration = HeightFiltration(direction=array([-1, -1]), n_jobs=-1)\n",
      "Got the result from ./20/train/filtrations/6/HeightFiltrartion_-1_-1/blue/diagrams.npy\n",
      "Applying Scaler to persistence diagrams.\n",
      "Got the result from ./20/train/filtrations/6/HeightFiltrartion_-1_-1/blue/features.npy\n",
      "Applying filtration 50/72: HeightFiltration with d = (-1, 0), bin. thr. = 0.6\n",
      "RGB images received. Transforming to grayscale.\n"
     ]
    },
    {
     "name": "stderr",
     "output_type": "stream",
     "text": [
      "rgb2gray: 100%|██████████| 50000/50000 [00:04<00:00, 11512.80it/s]\n"
     ]
    },
    {
     "name": "stdout",
     "output_type": "stream",
     "text": [
      "FiltrationExtractor: processing 20/train/filtrations/6/HeightFiltrartion_-1_0/gray, do_fit = False, filtration = HeightFiltration(direction=array([-1,  0]), n_jobs=-1)\n",
      "Got the result from ./20/train/filtrations/6/HeightFiltrartion_-1_0/gray/diagrams.npy\n",
      "Applying Scaler to persistence diagrams.\n",
      "Got the result from ./20/train/filtrations/6/HeightFiltrartion_-1_0/gray/features.npy\n",
      "FiltrationExtractor: processing 20/train/filtrations/6/HeightFiltrartion_-1_0/red, do_fit = False, filtration = HeightFiltration(direction=array([-1,  0]), n_jobs=-1)\n",
      "Got the result from ./20/train/filtrations/6/HeightFiltrartion_-1_0/red/diagrams.npy\n",
      "Applying Scaler to persistence diagrams.\n",
      "Got the result from ./20/train/filtrations/6/HeightFiltrartion_-1_0/red/features.npy\n",
      "FiltrationExtractor: processing 20/train/filtrations/6/HeightFiltrartion_-1_0/green, do_fit = False, filtration = HeightFiltration(direction=array([-1,  0]), n_jobs=-1)\n",
      "Got the result from ./20/train/filtrations/6/HeightFiltrartion_-1_0/green/diagrams.npy\n",
      "Applying Scaler to persistence diagrams.\n",
      "Got the result from ./20/train/filtrations/6/HeightFiltrartion_-1_0/green/features.npy\n",
      "FiltrationExtractor: processing 20/train/filtrations/6/HeightFiltrartion_-1_0/blue, do_fit = False, filtration = HeightFiltration(direction=array([-1,  0]), n_jobs=-1)\n",
      "Got the result from ./20/train/filtrations/6/HeightFiltrartion_-1_0/blue/diagrams.npy\n",
      "Applying Scaler to persistence diagrams.\n",
      "Got the result from ./20/train/filtrations/6/HeightFiltrartion_-1_0/blue/features.npy\n",
      "Applying filtration 51/72: HeightFiltration with d = (-1, 1), bin. thr. = 0.6\n",
      "RGB images received. Transforming to grayscale.\n"
     ]
    },
    {
     "name": "stderr",
     "output_type": "stream",
     "text": [
      "rgb2gray: 100%|██████████| 50000/50000 [00:05<00:00, 9920.54it/s] \n"
     ]
    },
    {
     "name": "stdout",
     "output_type": "stream",
     "text": [
      "FiltrationExtractor: processing 20/train/filtrations/6/HeightFiltrartion_-1_1/gray, do_fit = False, filtration = HeightFiltration(direction=array([-1,  1]), n_jobs=-1)\n",
      "Got the result from ./20/train/filtrations/6/HeightFiltrartion_-1_1/gray/diagrams.npy\n",
      "Applying Scaler to persistence diagrams.\n",
      "Got the result from ./20/train/filtrations/6/HeightFiltrartion_-1_1/gray/features.npy\n",
      "FiltrationExtractor: processing 20/train/filtrations/6/HeightFiltrartion_-1_1/red, do_fit = False, filtration = HeightFiltration(direction=array([-1,  1]), n_jobs=-1)\n",
      "Got the result from ./20/train/filtrations/6/HeightFiltrartion_-1_1/red/diagrams.npy\n",
      "Applying Scaler to persistence diagrams.\n",
      "Got the result from ./20/train/filtrations/6/HeightFiltrartion_-1_1/red/features.npy\n",
      "FiltrationExtractor: processing 20/train/filtrations/6/HeightFiltrartion_-1_1/green, do_fit = False, filtration = HeightFiltration(direction=array([-1,  1]), n_jobs=-1)\n",
      "Got the result from ./20/train/filtrations/6/HeightFiltrartion_-1_1/green/diagrams.npy\n",
      "Applying Scaler to persistence diagrams.\n",
      "Got the result from ./20/train/filtrations/6/HeightFiltrartion_-1_1/green/features.npy\n",
      "FiltrationExtractor: processing 20/train/filtrations/6/HeightFiltrartion_-1_1/blue, do_fit = False, filtration = HeightFiltration(direction=array([-1,  1]), n_jobs=-1)\n",
      "Got the result from ./20/train/filtrations/6/HeightFiltrartion_-1_1/blue/diagrams.npy\n",
      "Applying Scaler to persistence diagrams.\n",
      "Got the result from ./20/train/filtrations/6/HeightFiltrartion_-1_1/blue/features.npy\n",
      "Applying filtration 52/72: HeightFiltration with d = (0, -1), bin. thr. = 0.6\n",
      "RGB images received. Transforming to grayscale.\n"
     ]
    },
    {
     "name": "stderr",
     "output_type": "stream",
     "text": [
      "rgb2gray: 100%|██████████| 50000/50000 [00:04<00:00, 11547.34it/s]\n"
     ]
    },
    {
     "name": "stdout",
     "output_type": "stream",
     "text": [
      "FiltrationExtractor: processing 20/train/filtrations/6/HeightFiltrartion_0_-1/gray, do_fit = False, filtration = HeightFiltration(direction=array([ 0, -1]), n_jobs=-1)\n",
      "Got the result from ./20/train/filtrations/6/HeightFiltrartion_0_-1/gray/diagrams.npy\n",
      "Applying Scaler to persistence diagrams.\n",
      "Got the result from ./20/train/filtrations/6/HeightFiltrartion_0_-1/gray/features.npy\n",
      "FiltrationExtractor: processing 20/train/filtrations/6/HeightFiltrartion_0_-1/red, do_fit = False, filtration = HeightFiltration(direction=array([ 0, -1]), n_jobs=-1)\n",
      "Got the result from ./20/train/filtrations/6/HeightFiltrartion_0_-1/red/diagrams.npy\n",
      "Applying Scaler to persistence diagrams.\n",
      "Got the result from ./20/train/filtrations/6/HeightFiltrartion_0_-1/red/features.npy\n",
      "FiltrationExtractor: processing 20/train/filtrations/6/HeightFiltrartion_0_-1/green, do_fit = False, filtration = HeightFiltration(direction=array([ 0, -1]), n_jobs=-1)\n",
      "Got the result from ./20/train/filtrations/6/HeightFiltrartion_0_-1/green/diagrams.npy\n",
      "Applying Scaler to persistence diagrams.\n",
      "Got the result from ./20/train/filtrations/6/HeightFiltrartion_0_-1/green/features.npy\n",
      "FiltrationExtractor: processing 20/train/filtrations/6/HeightFiltrartion_0_-1/blue, do_fit = False, filtration = HeightFiltration(direction=array([ 0, -1]), n_jobs=-1)\n",
      "Got the result from ./20/train/filtrations/6/HeightFiltrartion_0_-1/blue/diagrams.npy\n",
      "Applying Scaler to persistence diagrams.\n",
      "Got the result from ./20/train/filtrations/6/HeightFiltrartion_0_-1/blue/features.npy\n",
      "Applying filtration 53/72: HeightFiltration with d = (0, 1), bin. thr. = 0.6\n",
      "RGB images received. Transforming to grayscale.\n"
     ]
    },
    {
     "name": "stderr",
     "output_type": "stream",
     "text": [
      "rgb2gray: 100%|██████████| 50000/50000 [00:04<00:00, 10516.33it/s]\n"
     ]
    },
    {
     "name": "stdout",
     "output_type": "stream",
     "text": [
      "FiltrationExtractor: processing 20/train/filtrations/6/HeightFiltrartion_0_1/gray, do_fit = False, filtration = HeightFiltration(direction=array([0, 1]), n_jobs=-1)\n",
      "Got the result from ./20/train/filtrations/6/HeightFiltrartion_0_1/gray/diagrams.npy\n",
      "Applying Scaler to persistence diagrams.\n",
      "Got the result from ./20/train/filtrations/6/HeightFiltrartion_0_1/gray/features.npy\n",
      "FiltrationExtractor: processing 20/train/filtrations/6/HeightFiltrartion_0_1/red, do_fit = False, filtration = HeightFiltration(direction=array([0, 1]), n_jobs=-1)\n",
      "Got the result from ./20/train/filtrations/6/HeightFiltrartion_0_1/red/diagrams.npy\n",
      "Applying Scaler to persistence diagrams.\n",
      "Got the result from ./20/train/filtrations/6/HeightFiltrartion_0_1/red/features.npy\n",
      "FiltrationExtractor: processing 20/train/filtrations/6/HeightFiltrartion_0_1/green, do_fit = False, filtration = HeightFiltration(direction=array([0, 1]), n_jobs=-1)\n",
      "Got the result from ./20/train/filtrations/6/HeightFiltrartion_0_1/green/diagrams.npy\n",
      "Applying Scaler to persistence diagrams.\n",
      "Got the result from ./20/train/filtrations/6/HeightFiltrartion_0_1/green/features.npy\n",
      "FiltrationExtractor: processing 20/train/filtrations/6/HeightFiltrartion_0_1/blue, do_fit = False, filtration = HeightFiltration(direction=array([0, 1]), n_jobs=-1)\n",
      "Got the result from ./20/train/filtrations/6/HeightFiltrartion_0_1/blue/diagrams.npy\n",
      "Applying Scaler to persistence diagrams.\n",
      "Got the result from ./20/train/filtrations/6/HeightFiltrartion_0_1/blue/features.npy\n",
      "Applying filtration 54/72: HeightFiltration with d = (1, -1), bin. thr. = 0.6\n",
      "RGB images received. Transforming to grayscale.\n"
     ]
    },
    {
     "name": "stderr",
     "output_type": "stream",
     "text": [
      "rgb2gray: 100%|██████████| 50000/50000 [00:05<00:00, 9477.58it/s] \n"
     ]
    },
    {
     "name": "stdout",
     "output_type": "stream",
     "text": [
      "FiltrationExtractor: processing 20/train/filtrations/6/HeightFiltrartion_1_-1/gray, do_fit = False, filtration = HeightFiltration(direction=array([ 1, -1]), n_jobs=-1)\n",
      "Got the result from ./20/train/filtrations/6/HeightFiltrartion_1_-1/gray/diagrams.npy\n",
      "Applying Scaler to persistence diagrams.\n",
      "Got the result from ./20/train/filtrations/6/HeightFiltrartion_1_-1/gray/features.npy\n",
      "FiltrationExtractor: processing 20/train/filtrations/6/HeightFiltrartion_1_-1/red, do_fit = False, filtration = HeightFiltration(direction=array([ 1, -1]), n_jobs=-1)\n",
      "Got the result from ./20/train/filtrations/6/HeightFiltrartion_1_-1/red/diagrams.npy\n",
      "Applying Scaler to persistence diagrams.\n",
      "Got the result from ./20/train/filtrations/6/HeightFiltrartion_1_-1/red/features.npy\n",
      "FiltrationExtractor: processing 20/train/filtrations/6/HeightFiltrartion_1_-1/green, do_fit = False, filtration = HeightFiltration(direction=array([ 1, -1]), n_jobs=-1)\n",
      "Got the result from ./20/train/filtrations/6/HeightFiltrartion_1_-1/green/diagrams.npy\n",
      "Applying Scaler to persistence diagrams.\n",
      "Got the result from ./20/train/filtrations/6/HeightFiltrartion_1_-1/green/features.npy\n",
      "FiltrationExtractor: processing 20/train/filtrations/6/HeightFiltrartion_1_-1/blue, do_fit = False, filtration = HeightFiltration(direction=array([ 1, -1]), n_jobs=-1)\n",
      "Got the result from ./20/train/filtrations/6/HeightFiltrartion_1_-1/blue/diagrams.npy\n",
      "Applying Scaler to persistence diagrams.\n",
      "Got the result from ./20/train/filtrations/6/HeightFiltrartion_1_-1/blue/features.npy\n",
      "Applying filtration 55/72: HeightFiltration with d = (1, 0), bin. thr. = 0.6\n",
      "RGB images received. Transforming to grayscale.\n"
     ]
    },
    {
     "name": "stderr",
     "output_type": "stream",
     "text": [
      "rgb2gray: 100%|██████████| 50000/50000 [00:04<00:00, 11599.57it/s]\n"
     ]
    },
    {
     "name": "stdout",
     "output_type": "stream",
     "text": [
      "FiltrationExtractor: processing 20/train/filtrations/6/HeightFiltrartion_1_0/gray, do_fit = False, filtration = HeightFiltration(direction=array([1, 0]), n_jobs=-1)\n",
      "Got the result from ./20/train/filtrations/6/HeightFiltrartion_1_0/gray/diagrams.npy\n",
      "Applying Scaler to persistence diagrams.\n",
      "Got the result from ./20/train/filtrations/6/HeightFiltrartion_1_0/gray/features.npy\n",
      "FiltrationExtractor: processing 20/train/filtrations/6/HeightFiltrartion_1_0/red, do_fit = False, filtration = HeightFiltration(direction=array([1, 0]), n_jobs=-1)\n",
      "Got the result from ./20/train/filtrations/6/HeightFiltrartion_1_0/red/diagrams.npy\n",
      "Applying Scaler to persistence diagrams.\n",
      "Got the result from ./20/train/filtrations/6/HeightFiltrartion_1_0/red/features.npy\n",
      "FiltrationExtractor: processing 20/train/filtrations/6/HeightFiltrartion_1_0/green, do_fit = False, filtration = HeightFiltration(direction=array([1, 0]), n_jobs=-1)\n",
      "Got the result from ./20/train/filtrations/6/HeightFiltrartion_1_0/green/diagrams.npy\n",
      "Applying Scaler to persistence diagrams.\n",
      "Got the result from ./20/train/filtrations/6/HeightFiltrartion_1_0/green/features.npy\n",
      "FiltrationExtractor: processing 20/train/filtrations/6/HeightFiltrartion_1_0/blue, do_fit = False, filtration = HeightFiltration(direction=array([1, 0]), n_jobs=-1)\n",
      "Got the result from ./20/train/filtrations/6/HeightFiltrartion_1_0/blue/diagrams.npy\n",
      "Applying Scaler to persistence diagrams.\n",
      "Got the result from ./20/train/filtrations/6/HeightFiltrartion_1_0/blue/features.npy\n",
      "Applying filtration 56/72: HeightFiltration with d = (1, 1), bin. thr. = 0.6\n",
      "RGB images received. Transforming to grayscale.\n"
     ]
    },
    {
     "name": "stderr",
     "output_type": "stream",
     "text": [
      "rgb2gray: 100%|██████████| 50000/50000 [00:05<00:00, 9659.61it/s] \n"
     ]
    },
    {
     "name": "stdout",
     "output_type": "stream",
     "text": [
      "FiltrationExtractor: processing 20/train/filtrations/6/HeightFiltrartion_1_1/gray, do_fit = False, filtration = HeightFiltration(direction=array([1, 1]), n_jobs=-1)\n",
      "Got the result from ./20/train/filtrations/6/HeightFiltrartion_1_1/gray/diagrams.npy\n",
      "Applying Scaler to persistence diagrams.\n",
      "Got the result from ./20/train/filtrations/6/HeightFiltrartion_1_1/gray/features.npy\n",
      "FiltrationExtractor: processing 20/train/filtrations/6/HeightFiltrartion_1_1/red, do_fit = False, filtration = HeightFiltration(direction=array([1, 1]), n_jobs=-1)\n",
      "Got the result from ./20/train/filtrations/6/HeightFiltrartion_1_1/red/diagrams.npy\n",
      "Applying Scaler to persistence diagrams.\n",
      "Got the result from ./20/train/filtrations/6/HeightFiltrartion_1_1/red/features.npy\n",
      "FiltrationExtractor: processing 20/train/filtrations/6/HeightFiltrartion_1_1/green, do_fit = False, filtration = HeightFiltration(direction=array([1, 1]), n_jobs=-1)\n",
      "Got the result from ./20/train/filtrations/6/HeightFiltrartion_1_1/green/diagrams.npy\n",
      "Applying Scaler to persistence diagrams.\n",
      "Got the result from ./20/train/filtrations/6/HeightFiltrartion_1_1/green/features.npy\n",
      "FiltrationExtractor: processing 20/train/filtrations/6/HeightFiltrartion_1_1/blue, do_fit = False, filtration = HeightFiltration(direction=array([1, 1]), n_jobs=-1)\n",
      "Got the result from ./20/train/filtrations/6/HeightFiltrartion_1_1/blue/diagrams.npy\n",
      "Applying Scaler to persistence diagrams.\n",
      "Got the result from ./20/train/filtrations/6/HeightFiltrartion_1_1/blue/features.npy\n",
      "Applying filtration 57/72: RadialFiltration with c = (5, 5), bin. thr. = 0.6\n",
      "RGB images received. Transforming to grayscale.\n"
     ]
    },
    {
     "name": "stderr",
     "output_type": "stream",
     "text": [
      "rgb2gray: 100%|██████████| 50000/50000 [00:04<00:00, 11557.98it/s]\n"
     ]
    },
    {
     "name": "stdout",
     "output_type": "stream",
     "text": [
      "FiltrationExtractor: processing 20/train/filtrations/6/RadialFiltration_5_5/gray, do_fit = False, filtration = RadialFiltration(center=array([5, 5]), n_jobs=-1)\n",
      "Got the result from ./20/train/filtrations/6/RadialFiltration_5_5/gray/diagrams.npy\n",
      "Applying Scaler to persistence diagrams.\n",
      "Got the result from ./20/train/filtrations/6/RadialFiltration_5_5/gray/features.npy\n",
      "FiltrationExtractor: processing 20/train/filtrations/6/RadialFiltration_5_5/red, do_fit = False, filtration = RadialFiltration(center=array([5, 5]), n_jobs=-1)\n",
      "Got the result from ./20/train/filtrations/6/RadialFiltration_5_5/red/diagrams.npy\n",
      "Applying Scaler to persistence diagrams.\n",
      "Got the result from ./20/train/filtrations/6/RadialFiltration_5_5/red/features.npy\n",
      "FiltrationExtractor: processing 20/train/filtrations/6/RadialFiltration_5_5/green, do_fit = False, filtration = RadialFiltration(center=array([5, 5]), n_jobs=-1)\n",
      "Got the result from ./20/train/filtrations/6/RadialFiltration_5_5/green/diagrams.npy\n",
      "Applying Scaler to persistence diagrams.\n",
      "Got the result from ./20/train/filtrations/6/RadialFiltration_5_5/green/features.npy\n",
      "FiltrationExtractor: processing 20/train/filtrations/6/RadialFiltration_5_5/blue, do_fit = False, filtration = RadialFiltration(center=array([5, 5]), n_jobs=-1)\n",
      "Got the result from ./20/train/filtrations/6/RadialFiltration_5_5/blue/diagrams.npy\n",
      "Applying Scaler to persistence diagrams.\n",
      "Got the result from ./20/train/filtrations/6/RadialFiltration_5_5/blue/features.npy\n",
      "Applying filtration 58/72: RadialFiltration with c = (5, 12), bin. thr. = 0.6\n",
      "RGB images received. Transforming to grayscale.\n"
     ]
    },
    {
     "name": "stderr",
     "output_type": "stream",
     "text": [
      "rgb2gray: 100%|██████████| 50000/50000 [00:04<00:00, 10430.77it/s]\n"
     ]
    },
    {
     "name": "stdout",
     "output_type": "stream",
     "text": [
      "FiltrationExtractor: processing 20/train/filtrations/6/RadialFiltration_5_12/gray, do_fit = False, filtration = RadialFiltration(center=array([ 5, 12]), n_jobs=-1)\n",
      "Got the result from ./20/train/filtrations/6/RadialFiltration_5_12/gray/diagrams.npy\n",
      "Applying Scaler to persistence diagrams.\n",
      "Got the result from ./20/train/filtrations/6/RadialFiltration_5_12/gray/features.npy\n",
      "FiltrationExtractor: processing 20/train/filtrations/6/RadialFiltration_5_12/red, do_fit = False, filtration = RadialFiltration(center=array([ 5, 12]), n_jobs=-1)\n",
      "Got the result from ./20/train/filtrations/6/RadialFiltration_5_12/red/diagrams.npy\n",
      "Applying Scaler to persistence diagrams.\n",
      "Got the result from ./20/train/filtrations/6/RadialFiltration_5_12/red/features.npy\n",
      "FiltrationExtractor: processing 20/train/filtrations/6/RadialFiltration_5_12/green, do_fit = False, filtration = RadialFiltration(center=array([ 5, 12]), n_jobs=-1)\n",
      "Got the result from ./20/train/filtrations/6/RadialFiltration_5_12/green/diagrams.npy\n",
      "Applying Scaler to persistence diagrams.\n",
      "Got the result from ./20/train/filtrations/6/RadialFiltration_5_12/green/features.npy\n",
      "FiltrationExtractor: processing 20/train/filtrations/6/RadialFiltration_5_12/blue, do_fit = False, filtration = RadialFiltration(center=array([ 5, 12]), n_jobs=-1)\n",
      "Got the result from ./20/train/filtrations/6/RadialFiltration_5_12/blue/diagrams.npy\n",
      "Applying Scaler to persistence diagrams.\n",
      "Got the result from ./20/train/filtrations/6/RadialFiltration_5_12/blue/features.npy\n",
      "Applying filtration 59/72: RadialFiltration with c = (5, 19), bin. thr. = 0.6\n",
      "RGB images received. Transforming to grayscale.\n"
     ]
    },
    {
     "name": "stderr",
     "output_type": "stream",
     "text": [
      "rgb2gray: 100%|██████████| 50000/50000 [00:05<00:00, 9517.20it/s] \n"
     ]
    },
    {
     "name": "stdout",
     "output_type": "stream",
     "text": [
      "FiltrationExtractor: processing 20/train/filtrations/6/RadialFiltration_5_19/gray, do_fit = False, filtration = RadialFiltration(center=array([ 5, 19]), n_jobs=-1)\n",
      "Got the result from ./20/train/filtrations/6/RadialFiltration_5_19/gray/diagrams.npy\n",
      "Applying Scaler to persistence diagrams.\n",
      "Got the result from ./20/train/filtrations/6/RadialFiltration_5_19/gray/features.npy\n",
      "FiltrationExtractor: processing 20/train/filtrations/6/RadialFiltration_5_19/red, do_fit = False, filtration = RadialFiltration(center=array([ 5, 19]), n_jobs=-1)\n",
      "Got the result from ./20/train/filtrations/6/RadialFiltration_5_19/red/diagrams.npy\n",
      "Applying Scaler to persistence diagrams.\n",
      "Got the result from ./20/train/filtrations/6/RadialFiltration_5_19/red/features.npy\n",
      "FiltrationExtractor: processing 20/train/filtrations/6/RadialFiltration_5_19/green, do_fit = False, filtration = RadialFiltration(center=array([ 5, 19]), n_jobs=-1)\n",
      "Got the result from ./20/train/filtrations/6/RadialFiltration_5_19/green/diagrams.npy\n",
      "Applying Scaler to persistence diagrams.\n",
      "Got the result from ./20/train/filtrations/6/RadialFiltration_5_19/green/features.npy\n",
      "FiltrationExtractor: processing 20/train/filtrations/6/RadialFiltration_5_19/blue, do_fit = False, filtration = RadialFiltration(center=array([ 5, 19]), n_jobs=-1)\n",
      "Got the result from ./20/train/filtrations/6/RadialFiltration_5_19/blue/diagrams.npy\n",
      "Applying Scaler to persistence diagrams.\n",
      "Got the result from ./20/train/filtrations/6/RadialFiltration_5_19/blue/features.npy\n",
      "Applying filtration 60/72: RadialFiltration with c = (5, 26), bin. thr. = 0.6\n",
      "RGB images received. Transforming to grayscale.\n"
     ]
    },
    {
     "name": "stderr",
     "output_type": "stream",
     "text": [
      "rgb2gray: 100%|██████████| 50000/50000 [00:04<00:00, 11386.89it/s]\n"
     ]
    },
    {
     "name": "stdout",
     "output_type": "stream",
     "text": [
      "FiltrationExtractor: processing 20/train/filtrations/6/RadialFiltration_5_26/gray, do_fit = False, filtration = RadialFiltration(center=array([ 5, 26]), n_jobs=-1)\n",
      "Got the result from ./20/train/filtrations/6/RadialFiltration_5_26/gray/diagrams.npy\n",
      "Applying Scaler to persistence diagrams.\n",
      "Got the result from ./20/train/filtrations/6/RadialFiltration_5_26/gray/features.npy\n",
      "FiltrationExtractor: processing 20/train/filtrations/6/RadialFiltration_5_26/red, do_fit = False, filtration = RadialFiltration(center=array([ 5, 26]), n_jobs=-1)\n",
      "Got the result from ./20/train/filtrations/6/RadialFiltration_5_26/red/diagrams.npy\n",
      "Applying Scaler to persistence diagrams.\n",
      "Got the result from ./20/train/filtrations/6/RadialFiltration_5_26/red/features.npy\n",
      "FiltrationExtractor: processing 20/train/filtrations/6/RadialFiltration_5_26/green, do_fit = False, filtration = RadialFiltration(center=array([ 5, 26]), n_jobs=-1)\n",
      "Got the result from ./20/train/filtrations/6/RadialFiltration_5_26/green/diagrams.npy\n",
      "Applying Scaler to persistence diagrams.\n",
      "Got the result from ./20/train/filtrations/6/RadialFiltration_5_26/green/features.npy\n",
      "FiltrationExtractor: processing 20/train/filtrations/6/RadialFiltration_5_26/blue, do_fit = False, filtration = RadialFiltration(center=array([ 5, 26]), n_jobs=-1)\n",
      "Got the result from ./20/train/filtrations/6/RadialFiltration_5_26/blue/diagrams.npy\n",
      "Applying Scaler to persistence diagrams.\n",
      "Got the result from ./20/train/filtrations/6/RadialFiltration_5_26/blue/features.npy\n",
      "Applying filtration 61/72: RadialFiltration with c = (12, 5), bin. thr. = 0.6\n",
      "RGB images received. Transforming to grayscale.\n"
     ]
    },
    {
     "name": "stderr",
     "output_type": "stream",
     "text": [
      "rgb2gray: 100%|██████████| 50000/50000 [00:05<00:00, 9904.84it/s] \n"
     ]
    },
    {
     "name": "stdout",
     "output_type": "stream",
     "text": [
      "FiltrationExtractor: processing 20/train/filtrations/6/RadialFiltration_12_5/gray, do_fit = False, filtration = RadialFiltration(center=array([12,  5]), n_jobs=-1)\n",
      "Got the result from ./20/train/filtrations/6/RadialFiltration_12_5/gray/diagrams.npy\n",
      "Applying Scaler to persistence diagrams.\n",
      "Got the result from ./20/train/filtrations/6/RadialFiltration_12_5/gray/features.npy\n",
      "FiltrationExtractor: processing 20/train/filtrations/6/RadialFiltration_12_5/red, do_fit = False, filtration = RadialFiltration(center=array([12,  5]), n_jobs=-1)\n",
      "Got the result from ./20/train/filtrations/6/RadialFiltration_12_5/red/diagrams.npy\n",
      "Applying Scaler to persistence diagrams.\n",
      "Got the result from ./20/train/filtrations/6/RadialFiltration_12_5/red/features.npy\n",
      "FiltrationExtractor: processing 20/train/filtrations/6/RadialFiltration_12_5/green, do_fit = False, filtration = RadialFiltration(center=array([12,  5]), n_jobs=-1)\n",
      "Got the result from ./20/train/filtrations/6/RadialFiltration_12_5/green/diagrams.npy\n",
      "Applying Scaler to persistence diagrams.\n",
      "Got the result from ./20/train/filtrations/6/RadialFiltration_12_5/green/features.npy\n",
      "FiltrationExtractor: processing 20/train/filtrations/6/RadialFiltration_12_5/blue, do_fit = False, filtration = RadialFiltration(center=array([12,  5]), n_jobs=-1)\n",
      "Got the result from ./20/train/filtrations/6/RadialFiltration_12_5/blue/diagrams.npy\n",
      "Applying Scaler to persistence diagrams.\n",
      "Got the result from ./20/train/filtrations/6/RadialFiltration_12_5/blue/features.npy\n",
      "Applying filtration 62/72: RadialFiltration with c = (12, 12), bin. thr. = 0.6\n",
      "RGB images received. Transforming to grayscale.\n"
     ]
    },
    {
     "name": "stderr",
     "output_type": "stream",
     "text": [
      "rgb2gray: 100%|██████████| 50000/50000 [00:04<00:00, 11258.73it/s]\n"
     ]
    },
    {
     "name": "stdout",
     "output_type": "stream",
     "text": [
      "FiltrationExtractor: processing 20/train/filtrations/6/RadialFiltration_12_12/gray, do_fit = False, filtration = RadialFiltration(center=array([12, 12]), n_jobs=-1)\n",
      "Got the result from ./20/train/filtrations/6/RadialFiltration_12_12/gray/diagrams.npy\n",
      "Applying Scaler to persistence diagrams.\n",
      "Got the result from ./20/train/filtrations/6/RadialFiltration_12_12/gray/features.npy\n",
      "FiltrationExtractor: processing 20/train/filtrations/6/RadialFiltration_12_12/red, do_fit = False, filtration = RadialFiltration(center=array([12, 12]), n_jobs=-1)\n",
      "Got the result from ./20/train/filtrations/6/RadialFiltration_12_12/red/diagrams.npy\n",
      "Applying Scaler to persistence diagrams.\n",
      "Got the result from ./20/train/filtrations/6/RadialFiltration_12_12/red/features.npy\n",
      "FiltrationExtractor: processing 20/train/filtrations/6/RadialFiltration_12_12/green, do_fit = False, filtration = RadialFiltration(center=array([12, 12]), n_jobs=-1)\n",
      "Got the result from ./20/train/filtrations/6/RadialFiltration_12_12/green/diagrams.npy\n",
      "Applying Scaler to persistence diagrams.\n",
      "Got the result from ./20/train/filtrations/6/RadialFiltration_12_12/green/features.npy\n",
      "FiltrationExtractor: processing 20/train/filtrations/6/RadialFiltration_12_12/blue, do_fit = False, filtration = RadialFiltration(center=array([12, 12]), n_jobs=-1)\n",
      "Got the result from ./20/train/filtrations/6/RadialFiltration_12_12/blue/diagrams.npy\n",
      "Applying Scaler to persistence diagrams.\n",
      "Got the result from ./20/train/filtrations/6/RadialFiltration_12_12/blue/features.npy\n",
      "Applying filtration 63/72: RadialFiltration with c = (12, 19), bin. thr. = 0.6\n",
      "RGB images received. Transforming to grayscale.\n"
     ]
    },
    {
     "name": "stderr",
     "output_type": "stream",
     "text": [
      "rgb2gray: 100%|██████████| 50000/50000 [00:04<00:00, 10398.43it/s]\n"
     ]
    },
    {
     "name": "stdout",
     "output_type": "stream",
     "text": [
      "FiltrationExtractor: processing 20/train/filtrations/6/RadialFiltration_12_19/gray, do_fit = False, filtration = RadialFiltration(center=array([12, 19]), n_jobs=-1)\n",
      "Got the result from ./20/train/filtrations/6/RadialFiltration_12_19/gray/diagrams.npy\n",
      "Applying Scaler to persistence diagrams.\n",
      "Got the result from ./20/train/filtrations/6/RadialFiltration_12_19/gray/features.npy\n",
      "FiltrationExtractor: processing 20/train/filtrations/6/RadialFiltration_12_19/red, do_fit = False, filtration = RadialFiltration(center=array([12, 19]), n_jobs=-1)\n",
      "Got the result from ./20/train/filtrations/6/RadialFiltration_12_19/red/diagrams.npy\n",
      "Applying Scaler to persistence diagrams.\n",
      "Got the result from ./20/train/filtrations/6/RadialFiltration_12_19/red/features.npy\n",
      "FiltrationExtractor: processing 20/train/filtrations/6/RadialFiltration_12_19/green, do_fit = False, filtration = RadialFiltration(center=array([12, 19]), n_jobs=-1)\n",
      "Got the result from ./20/train/filtrations/6/RadialFiltration_12_19/green/diagrams.npy\n",
      "Applying Scaler to persistence diagrams.\n",
      "Got the result from ./20/train/filtrations/6/RadialFiltration_12_19/green/features.npy\n",
      "FiltrationExtractor: processing 20/train/filtrations/6/RadialFiltration_12_19/blue, do_fit = False, filtration = RadialFiltration(center=array([12, 19]), n_jobs=-1)\n",
      "Got the result from ./20/train/filtrations/6/RadialFiltration_12_19/blue/diagrams.npy\n",
      "Applying Scaler to persistence diagrams.\n",
      "Got the result from ./20/train/filtrations/6/RadialFiltration_12_19/blue/features.npy\n",
      "Applying filtration 64/72: RadialFiltration with c = (12, 26), bin. thr. = 0.6\n",
      "RGB images received. Transforming to grayscale.\n"
     ]
    },
    {
     "name": "stderr",
     "output_type": "stream",
     "text": [
      "rgb2gray: 100%|██████████| 50000/50000 [00:05<00:00, 9619.07it/s] \n"
     ]
    },
    {
     "name": "stdout",
     "output_type": "stream",
     "text": [
      "FiltrationExtractor: processing 20/train/filtrations/6/RadialFiltration_12_26/gray, do_fit = False, filtration = RadialFiltration(center=array([12, 26]), n_jobs=-1)\n",
      "Got the result from ./20/train/filtrations/6/RadialFiltration_12_26/gray/diagrams.npy\n",
      "Applying Scaler to persistence diagrams.\n",
      "Got the result from ./20/train/filtrations/6/RadialFiltration_12_26/gray/features.npy\n",
      "FiltrationExtractor: processing 20/train/filtrations/6/RadialFiltration_12_26/red, do_fit = False, filtration = RadialFiltration(center=array([12, 26]), n_jobs=-1)\n",
      "Got the result from ./20/train/filtrations/6/RadialFiltration_12_26/red/diagrams.npy\n",
      "Applying Scaler to persistence diagrams.\n",
      "Got the result from ./20/train/filtrations/6/RadialFiltration_12_26/red/features.npy\n",
      "FiltrationExtractor: processing 20/train/filtrations/6/RadialFiltration_12_26/green, do_fit = False, filtration = RadialFiltration(center=array([12, 26]), n_jobs=-1)\n",
      "Got the result from ./20/train/filtrations/6/RadialFiltration_12_26/green/diagrams.npy\n",
      "Applying Scaler to persistence diagrams.\n",
      "Got the result from ./20/train/filtrations/6/RadialFiltration_12_26/green/features.npy\n",
      "FiltrationExtractor: processing 20/train/filtrations/6/RadialFiltration_12_26/blue, do_fit = False, filtration = RadialFiltration(center=array([12, 26]), n_jobs=-1)\n",
      "Got the result from ./20/train/filtrations/6/RadialFiltration_12_26/blue/diagrams.npy\n",
      "Applying Scaler to persistence diagrams.\n",
      "Got the result from ./20/train/filtrations/6/RadialFiltration_12_26/blue/features.npy\n",
      "Applying filtration 65/72: RadialFiltration with c = (19, 5), bin. thr. = 0.6\n",
      "RGB images received. Transforming to grayscale.\n"
     ]
    },
    {
     "name": "stderr",
     "output_type": "stream",
     "text": [
      "rgb2gray: 100%|██████████| 50000/50000 [00:04<00:00, 11562.03it/s]\n"
     ]
    },
    {
     "name": "stdout",
     "output_type": "stream",
     "text": [
      "FiltrationExtractor: processing 20/train/filtrations/6/RadialFiltration_19_5/gray, do_fit = False, filtration = RadialFiltration(center=array([19,  5]), n_jobs=-1)\n",
      "Got the result from ./20/train/filtrations/6/RadialFiltration_19_5/gray/diagrams.npy\n",
      "Applying Scaler to persistence diagrams.\n",
      "Got the result from ./20/train/filtrations/6/RadialFiltration_19_5/gray/features.npy\n",
      "FiltrationExtractor: processing 20/train/filtrations/6/RadialFiltration_19_5/red, do_fit = False, filtration = RadialFiltration(center=array([19,  5]), n_jobs=-1)\n",
      "Got the result from ./20/train/filtrations/6/RadialFiltration_19_5/red/diagrams.npy\n",
      "Applying Scaler to persistence diagrams.\n",
      "Got the result from ./20/train/filtrations/6/RadialFiltration_19_5/red/features.npy\n",
      "FiltrationExtractor: processing 20/train/filtrations/6/RadialFiltration_19_5/green, do_fit = False, filtration = RadialFiltration(center=array([19,  5]), n_jobs=-1)\n",
      "Got the result from ./20/train/filtrations/6/RadialFiltration_19_5/green/diagrams.npy\n",
      "Applying Scaler to persistence diagrams.\n",
      "Got the result from ./20/train/filtrations/6/RadialFiltration_19_5/green/features.npy\n",
      "FiltrationExtractor: processing 20/train/filtrations/6/RadialFiltration_19_5/blue, do_fit = False, filtration = RadialFiltration(center=array([19,  5]), n_jobs=-1)\n",
      "Got the result from ./20/train/filtrations/6/RadialFiltration_19_5/blue/diagrams.npy\n",
      "Applying Scaler to persistence diagrams.\n",
      "Got the result from ./20/train/filtrations/6/RadialFiltration_19_5/blue/features.npy\n",
      "Applying filtration 66/72: RadialFiltration with c = (19, 12), bin. thr. = 0.6\n",
      "RGB images received. Transforming to grayscale.\n"
     ]
    },
    {
     "name": "stderr",
     "output_type": "stream",
     "text": [
      "rgb2gray: 100%|██████████| 50000/50000 [00:05<00:00, 9778.95it/s] \n"
     ]
    },
    {
     "name": "stdout",
     "output_type": "stream",
     "text": [
      "FiltrationExtractor: processing 20/train/filtrations/6/RadialFiltration_19_12/gray, do_fit = False, filtration = RadialFiltration(center=array([19, 12]), n_jobs=-1)\n",
      "Got the result from ./20/train/filtrations/6/RadialFiltration_19_12/gray/diagrams.npy\n",
      "Applying Scaler to persistence diagrams.\n",
      "Got the result from ./20/train/filtrations/6/RadialFiltration_19_12/gray/features.npy\n",
      "FiltrationExtractor: processing 20/train/filtrations/6/RadialFiltration_19_12/red, do_fit = False, filtration = RadialFiltration(center=array([19, 12]), n_jobs=-1)\n",
      "Got the result from ./20/train/filtrations/6/RadialFiltration_19_12/red/diagrams.npy\n",
      "Applying Scaler to persistence diagrams.\n",
      "Got the result from ./20/train/filtrations/6/RadialFiltration_19_12/red/features.npy\n",
      "FiltrationExtractor: processing 20/train/filtrations/6/RadialFiltration_19_12/green, do_fit = False, filtration = RadialFiltration(center=array([19, 12]), n_jobs=-1)\n",
      "Got the result from ./20/train/filtrations/6/RadialFiltration_19_12/green/diagrams.npy\n",
      "Applying Scaler to persistence diagrams.\n",
      "Got the result from ./20/train/filtrations/6/RadialFiltration_19_12/green/features.npy\n",
      "FiltrationExtractor: processing 20/train/filtrations/6/RadialFiltration_19_12/blue, do_fit = False, filtration = RadialFiltration(center=array([19, 12]), n_jobs=-1)\n",
      "Got the result from ./20/train/filtrations/6/RadialFiltration_19_12/blue/diagrams.npy\n",
      "Applying Scaler to persistence diagrams.\n",
      "Got the result from ./20/train/filtrations/6/RadialFiltration_19_12/blue/features.npy\n",
      "Applying filtration 67/72: RadialFiltration with c = (19, 19), bin. thr. = 0.6\n",
      "RGB images received. Transforming to grayscale.\n"
     ]
    },
    {
     "name": "stderr",
     "output_type": "stream",
     "text": [
      "rgb2gray: 100%|██████████| 50000/50000 [00:04<00:00, 11602.25it/s]\n"
     ]
    },
    {
     "name": "stdout",
     "output_type": "stream",
     "text": [
      "FiltrationExtractor: processing 20/train/filtrations/6/RadialFiltration_19_19/gray, do_fit = False, filtration = RadialFiltration(center=array([19, 19]), n_jobs=-1)\n",
      "Got the result from ./20/train/filtrations/6/RadialFiltration_19_19/gray/diagrams.npy\n",
      "Applying Scaler to persistence diagrams.\n",
      "Got the result from ./20/train/filtrations/6/RadialFiltration_19_19/gray/features.npy\n",
      "FiltrationExtractor: processing 20/train/filtrations/6/RadialFiltration_19_19/red, do_fit = False, filtration = RadialFiltration(center=array([19, 19]), n_jobs=-1)\n",
      "Got the result from ./20/train/filtrations/6/RadialFiltration_19_19/red/diagrams.npy\n",
      "Applying Scaler to persistence diagrams.\n",
      "Got the result from ./20/train/filtrations/6/RadialFiltration_19_19/red/features.npy\n",
      "FiltrationExtractor: processing 20/train/filtrations/6/RadialFiltration_19_19/green, do_fit = False, filtration = RadialFiltration(center=array([19, 19]), n_jobs=-1)\n",
      "Got the result from ./20/train/filtrations/6/RadialFiltration_19_19/green/diagrams.npy\n",
      "Applying Scaler to persistence diagrams.\n",
      "Got the result from ./20/train/filtrations/6/RadialFiltration_19_19/green/features.npy\n",
      "FiltrationExtractor: processing 20/train/filtrations/6/RadialFiltration_19_19/blue, do_fit = False, filtration = RadialFiltration(center=array([19, 19]), n_jobs=-1)\n",
      "Got the result from ./20/train/filtrations/6/RadialFiltration_19_19/blue/diagrams.npy\n",
      "Applying Scaler to persistence diagrams.\n",
      "Got the result from ./20/train/filtrations/6/RadialFiltration_19_19/blue/features.npy\n",
      "Applying filtration 68/72: RadialFiltration with c = (19, 26), bin. thr. = 0.6\n",
      "RGB images received. Transforming to grayscale.\n"
     ]
    },
    {
     "name": "stderr",
     "output_type": "stream",
     "text": [
      "rgb2gray: 100%|██████████| 50000/50000 [00:04<00:00, 10484.13it/s]\n"
     ]
    },
    {
     "name": "stdout",
     "output_type": "stream",
     "text": [
      "FiltrationExtractor: processing 20/train/filtrations/6/RadialFiltration_19_26/gray, do_fit = False, filtration = RadialFiltration(center=array([19, 26]), n_jobs=-1)\n",
      "Got the result from ./20/train/filtrations/6/RadialFiltration_19_26/gray/diagrams.npy\n",
      "Applying Scaler to persistence diagrams.\n",
      "Got the result from ./20/train/filtrations/6/RadialFiltration_19_26/gray/features.npy\n",
      "FiltrationExtractor: processing 20/train/filtrations/6/RadialFiltration_19_26/red, do_fit = False, filtration = RadialFiltration(center=array([19, 26]), n_jobs=-1)\n",
      "Got the result from ./20/train/filtrations/6/RadialFiltration_19_26/red/diagrams.npy\n",
      "Applying Scaler to persistence diagrams.\n",
      "Got the result from ./20/train/filtrations/6/RadialFiltration_19_26/red/features.npy\n",
      "FiltrationExtractor: processing 20/train/filtrations/6/RadialFiltration_19_26/green, do_fit = False, filtration = RadialFiltration(center=array([19, 26]), n_jobs=-1)\n",
      "Got the result from ./20/train/filtrations/6/RadialFiltration_19_26/green/diagrams.npy\n",
      "Applying Scaler to persistence diagrams.\n",
      "Got the result from ./20/train/filtrations/6/RadialFiltration_19_26/green/features.npy\n",
      "FiltrationExtractor: processing 20/train/filtrations/6/RadialFiltration_19_26/blue, do_fit = False, filtration = RadialFiltration(center=array([19, 26]), n_jobs=-1)\n",
      "Got the result from ./20/train/filtrations/6/RadialFiltration_19_26/blue/diagrams.npy\n",
      "Applying Scaler to persistence diagrams.\n",
      "Got the result from ./20/train/filtrations/6/RadialFiltration_19_26/blue/features.npy\n",
      "Applying filtration 69/72: RadialFiltration with c = (26, 5), bin. thr. = 0.6\n",
      "RGB images received. Transforming to grayscale.\n"
     ]
    },
    {
     "name": "stderr",
     "output_type": "stream",
     "text": [
      "rgb2gray: 100%|██████████| 50000/50000 [00:05<00:00, 9921.59it/s] \n"
     ]
    },
    {
     "name": "stdout",
     "output_type": "stream",
     "text": [
      "FiltrationExtractor: processing 20/train/filtrations/6/RadialFiltration_26_5/gray, do_fit = False, filtration = RadialFiltration(center=array([26,  5]), n_jobs=-1)\n",
      "Got the result from ./20/train/filtrations/6/RadialFiltration_26_5/gray/diagrams.npy\n",
      "Applying Scaler to persistence diagrams.\n",
      "Got the result from ./20/train/filtrations/6/RadialFiltration_26_5/gray/features.npy\n",
      "FiltrationExtractor: processing 20/train/filtrations/6/RadialFiltration_26_5/red, do_fit = False, filtration = RadialFiltration(center=array([26,  5]), n_jobs=-1)\n",
      "Got the result from ./20/train/filtrations/6/RadialFiltration_26_5/red/diagrams.npy\n",
      "Applying Scaler to persistence diagrams.\n",
      "Got the result from ./20/train/filtrations/6/RadialFiltration_26_5/red/features.npy\n",
      "FiltrationExtractor: processing 20/train/filtrations/6/RadialFiltration_26_5/green, do_fit = False, filtration = RadialFiltration(center=array([26,  5]), n_jobs=-1)\n",
      "Got the result from ./20/train/filtrations/6/RadialFiltration_26_5/green/diagrams.npy\n",
      "Applying Scaler to persistence diagrams.\n",
      "Got the result from ./20/train/filtrations/6/RadialFiltration_26_5/green/features.npy\n",
      "FiltrationExtractor: processing 20/train/filtrations/6/RadialFiltration_26_5/blue, do_fit = False, filtration = RadialFiltration(center=array([26,  5]), n_jobs=-1)\n",
      "Got the result from ./20/train/filtrations/6/RadialFiltration_26_5/blue/diagrams.npy\n",
      "Applying Scaler to persistence diagrams.\n",
      "Got the result from ./20/train/filtrations/6/RadialFiltration_26_5/blue/features.npy\n",
      "Applying filtration 70/72: RadialFiltration with c = (26, 12), bin. thr. = 0.6\n",
      "RGB images received. Transforming to grayscale.\n"
     ]
    },
    {
     "name": "stderr",
     "output_type": "stream",
     "text": [
      "rgb2gray: 100%|██████████| 50000/50000 [00:04<00:00, 10770.03it/s]\n"
     ]
    },
    {
     "name": "stdout",
     "output_type": "stream",
     "text": [
      "FiltrationExtractor: processing 20/train/filtrations/6/RadialFiltration_26_12/gray, do_fit = False, filtration = RadialFiltration(center=array([26, 12]), n_jobs=-1)\n",
      "Got the result from ./20/train/filtrations/6/RadialFiltration_26_12/gray/diagrams.npy\n",
      "Applying Scaler to persistence diagrams.\n",
      "Got the result from ./20/train/filtrations/6/RadialFiltration_26_12/gray/features.npy\n",
      "FiltrationExtractor: processing 20/train/filtrations/6/RadialFiltration_26_12/red, do_fit = False, filtration = RadialFiltration(center=array([26, 12]), n_jobs=-1)\n",
      "Got the result from ./20/train/filtrations/6/RadialFiltration_26_12/red/diagrams.npy\n",
      "Applying Scaler to persistence diagrams.\n",
      "Got the result from ./20/train/filtrations/6/RadialFiltration_26_12/red/features.npy\n",
      "FiltrationExtractor: processing 20/train/filtrations/6/RadialFiltration_26_12/green, do_fit = False, filtration = RadialFiltration(center=array([26, 12]), n_jobs=-1)\n",
      "Got the result from ./20/train/filtrations/6/RadialFiltration_26_12/green/diagrams.npy\n",
      "Applying Scaler to persistence diagrams.\n",
      "Got the result from ./20/train/filtrations/6/RadialFiltration_26_12/green/features.npy\n",
      "FiltrationExtractor: processing 20/train/filtrations/6/RadialFiltration_26_12/blue, do_fit = False, filtration = RadialFiltration(center=array([26, 12]), n_jobs=-1)\n",
      "Got the result from ./20/train/filtrations/6/RadialFiltration_26_12/blue/diagrams.npy\n",
      "Applying Scaler to persistence diagrams.\n",
      "Got the result from ./20/train/filtrations/6/RadialFiltration_26_12/blue/features.npy\n",
      "Applying filtration 71/72: RadialFiltration with c = (26, 19), bin. thr. = 0.6\n",
      "RGB images received. Transforming to grayscale.\n"
     ]
    },
    {
     "name": "stderr",
     "output_type": "stream",
     "text": [
      "rgb2gray: 100%|██████████| 50000/50000 [00:05<00:00, 9462.50it/s] \n"
     ]
    },
    {
     "name": "stdout",
     "output_type": "stream",
     "text": [
      "FiltrationExtractor: processing 20/train/filtrations/6/RadialFiltration_26_19/gray, do_fit = False, filtration = RadialFiltration(center=array([26, 19]), n_jobs=-1)\n",
      "Got the result from ./20/train/filtrations/6/RadialFiltration_26_19/gray/diagrams.npy\n",
      "Applying Scaler to persistence diagrams.\n",
      "Got the result from ./20/train/filtrations/6/RadialFiltration_26_19/gray/features.npy\n",
      "FiltrationExtractor: processing 20/train/filtrations/6/RadialFiltration_26_19/red, do_fit = False, filtration = RadialFiltration(center=array([26, 19]), n_jobs=-1)\n",
      "Got the result from ./20/train/filtrations/6/RadialFiltration_26_19/red/diagrams.npy\n",
      "Applying Scaler to persistence diagrams.\n",
      "Got the result from ./20/train/filtrations/6/RadialFiltration_26_19/red/features.npy\n",
      "FiltrationExtractor: processing 20/train/filtrations/6/RadialFiltration_26_19/green, do_fit = False, filtration = RadialFiltration(center=array([26, 19]), n_jobs=-1)\n",
      "Got the result from ./20/train/filtrations/6/RadialFiltration_26_19/green/diagrams.npy\n",
      "Applying Scaler to persistence diagrams.\n",
      "Got the result from ./20/train/filtrations/6/RadialFiltration_26_19/green/features.npy\n",
      "FiltrationExtractor: processing 20/train/filtrations/6/RadialFiltration_26_19/blue, do_fit = False, filtration = RadialFiltration(center=array([26, 19]), n_jobs=-1)\n",
      "Got the result from ./20/train/filtrations/6/RadialFiltration_26_19/blue/diagrams.npy\n",
      "Applying Scaler to persistence diagrams.\n",
      "Got the result from ./20/train/filtrations/6/RadialFiltration_26_19/blue/features.npy\n",
      "Applying filtration 72/72: RadialFiltration with c = (26, 26), bin. thr. = 0.6\n",
      "RGB images received. Transforming to grayscale.\n"
     ]
    },
    {
     "name": "stderr",
     "output_type": "stream",
     "text": [
      "rgb2gray: 100%|██████████| 50000/50000 [00:04<00:00, 11482.47it/s]\n"
     ]
    },
    {
     "name": "stdout",
     "output_type": "stream",
     "text": [
      "FiltrationExtractor: processing 20/train/filtrations/6/RadialFiltration_26_26/gray, do_fit = False, filtration = RadialFiltration(center=array([26, 26]), n_jobs=-1)\n",
      "Got the result from ./20/train/filtrations/6/RadialFiltration_26_26/gray/diagrams.npy\n",
      "Applying Scaler to persistence diagrams.\n",
      "Got the result from ./20/train/filtrations/6/RadialFiltration_26_26/gray/features.npy\n",
      "FiltrationExtractor: processing 20/train/filtrations/6/RadialFiltration_26_26/red, do_fit = False, filtration = RadialFiltration(center=array([26, 26]), n_jobs=-1)\n",
      "Got the result from ./20/train/filtrations/6/RadialFiltration_26_26/red/diagrams.npy\n",
      "Applying Scaler to persistence diagrams.\n",
      "Got the result from ./20/train/filtrations/6/RadialFiltration_26_26/red/features.npy\n",
      "FiltrationExtractor: processing 20/train/filtrations/6/RadialFiltration_26_26/green, do_fit = False, filtration = RadialFiltration(center=array([26, 26]), n_jobs=-1)\n",
      "Got the result from ./20/train/filtrations/6/RadialFiltration_26_26/green/diagrams.npy\n",
      "Applying Scaler to persistence diagrams.\n",
      "Got the result from ./20/train/filtrations/6/RadialFiltration_26_26/green/features.npy\n",
      "FiltrationExtractor: processing 20/train/filtrations/6/RadialFiltration_26_26/blue, do_fit = False, filtration = RadialFiltration(center=array([26, 26]), n_jobs=-1)\n",
      "Got the result from ./20/train/filtrations/6/RadialFiltration_26_26/blue/diagrams.npy\n",
      "Applying Scaler to persistence diagrams.\n",
      "Got the result from ./20/train/filtrations/6/RadialFiltration_26_26/blue/features.npy\n",
      "RGB images received. Transforming to grayscale.\n",
      "Got the result from ./20/train/geometry/rgb/features.npy\n"
     ]
    },
    {
     "name": "stderr",
     "output_type": "stream",
     "text": [
      "rgb2gray: 100%|██████████| 50000/50000 [00:04<00:00, 11221.22it/s]\n"
     ]
    },
    {
     "name": "stdout",
     "output_type": "stream",
     "text": [
      "Got the result from ./20/train/geometry/gray/features.npy\n",
      "Got the result from ./20/train/geometry/red/features.npy\n",
      "Got the result from ./20/train/geometry/green/features.npy\n",
      "Got the result from ./20/train/geometry/blue/features.npy\n",
      "Applying StandardScaler.\n",
      "Calculating inverted images\n",
      "RGB images received. Transforming to grayscale.\n"
     ]
    },
    {
     "name": "stderr",
     "output_type": "stream",
     "text": [
      "rgb2gray: 100%|██████████| 10000/10000 [00:00<00:00, 18726.60it/s]\n"
     ]
    },
    {
     "name": "stdout",
     "output_type": "stream",
     "text": [
      "GreyscaleExtractor: processing 20/test/greyscale/gray, do_fit = False\n",
      "Got the result from ./20/test/greyscale/gray/diagrams.npy\n",
      "Applying Scaler to persistence diagrams.\n",
      "Got the result from ./20/test/greyscale/gray/features.npy\n",
      "GreyscaleExtractor: processing 20/test/greyscale/red, do_fit = False\n",
      "Got the result from ./20/test/greyscale/red/diagrams.npy\n",
      "Applying Scaler to persistence diagrams.\n",
      "Got the result from ./20/test/greyscale/red/features.npy\n",
      "GreyscaleExtractor: processing 20/test/greyscale/green, do_fit = False\n",
      "Got the result from ./20/test/greyscale/green/diagrams.npy\n",
      "Applying Scaler to persistence diagrams.\n",
      "Got the result from ./20/test/greyscale/green/features.npy\n",
      "GreyscaleExtractor: processing 20/test/greyscale/blue, do_fit = False\n",
      "Got the result from ./20/test/greyscale/blue/diagrams.npy\n",
      "Applying Scaler to persistence diagrams.\n",
      "Got the result from ./20/test/greyscale/blue/features.npy\n",
      "RGB images received. Transforming to grayscale.\n"
     ]
    },
    {
     "name": "stderr",
     "output_type": "stream",
     "text": [
      "rgb2gray: 100%|██████████| 10000/10000 [00:00<00:00, 18939.38it/s]\n"
     ]
    },
    {
     "name": "stdout",
     "output_type": "stream",
     "text": [
      "GreyscaleExtractor: processing 20/test/inverted_greyscale/gray, do_fit = False\n",
      "Got the result from ./20/test/inverted_greyscale/gray/diagrams.npy\n",
      "Applying Scaler to persistence diagrams.\n",
      "Got the result from ./20/test/inverted_greyscale/gray/features.npy\n",
      "GreyscaleExtractor: processing 20/test/inverted_greyscale/red, do_fit = False\n",
      "Got the result from ./20/test/inverted_greyscale/red/diagrams.npy\n",
      "Applying Scaler to persistence diagrams.\n",
      "Got the result from ./20/test/inverted_greyscale/red/features.npy\n",
      "GreyscaleExtractor: processing 20/test/inverted_greyscale/green, do_fit = False\n",
      "Got the result from ./20/test/inverted_greyscale/green/diagrams.npy\n",
      "Applying Scaler to persistence diagrams.\n",
      "Got the result from ./20/test/inverted_greyscale/green/features.npy\n",
      "GreyscaleExtractor: processing 20/test/inverted_greyscale/blue, do_fit = False\n",
      "Got the result from ./20/test/inverted_greyscale/blue/diagrams.npy\n",
      "Applying Scaler to persistence diagrams.\n",
      "Got the result from ./20/test/inverted_greyscale/blue/features.npy\n",
      "Applying filtrations\n",
      "Applying filtration 1/72: HeightFiltration with d = (-1, -1), bin. thr. = 0.2\n",
      "RGB images received. Transforming to grayscale.\n"
     ]
    },
    {
     "name": "stderr",
     "output_type": "stream",
     "text": [
      "rgb2gray: 100%|██████████| 10000/10000 [00:00<00:00, 19607.86it/s]\n"
     ]
    },
    {
     "name": "stdout",
     "output_type": "stream",
     "text": [
      "FiltrationExtractor: processing 20/test/filtrations/2/HeightFiltrartion_-1_-1/gray, do_fit = False, filtration = HeightFiltration(direction=array([-1, -1]), n_jobs=-1)\n",
      "Got the result from ./20/test/filtrations/2/HeightFiltrartion_-1_-1/gray/diagrams.npy\n",
      "Applying Scaler to persistence diagrams.\n",
      "Got the result from ./20/test/filtrations/2/HeightFiltrartion_-1_-1/gray/features.npy\n",
      "FiltrationExtractor: processing 20/test/filtrations/2/HeightFiltrartion_-1_-1/red, do_fit = False, filtration = HeightFiltration(direction=array([-1, -1]), n_jobs=-1)\n",
      "Got the result from ./20/test/filtrations/2/HeightFiltrartion_-1_-1/red/diagrams.npy\n",
      "Applying Scaler to persistence diagrams.\n",
      "Got the result from ./20/test/filtrations/2/HeightFiltrartion_-1_-1/red/features.npy\n",
      "FiltrationExtractor: processing 20/test/filtrations/2/HeightFiltrartion_-1_-1/green, do_fit = False, filtration = HeightFiltration(direction=array([-1, -1]), n_jobs=-1)\n",
      "Got the result from ./20/test/filtrations/2/HeightFiltrartion_-1_-1/green/diagrams.npy\n",
      "Applying Scaler to persistence diagrams.\n",
      "Got the result from ./20/test/filtrations/2/HeightFiltrartion_-1_-1/green/features.npy\n",
      "FiltrationExtractor: processing 20/test/filtrations/2/HeightFiltrartion_-1_-1/blue, do_fit = False, filtration = HeightFiltration(direction=array([-1, -1]), n_jobs=-1)\n",
      "Got the result from ./20/test/filtrations/2/HeightFiltrartion_-1_-1/blue/diagrams.npy\n",
      "Applying Scaler to persistence diagrams.\n",
      "Got the result from ./20/test/filtrations/2/HeightFiltrartion_-1_-1/blue/features.npy\n",
      "Applying filtration 2/72: HeightFiltration with d = (-1, 0), bin. thr. = 0.2\n",
      "RGB images received. Transforming to grayscale.\n"
     ]
    },
    {
     "name": "stderr",
     "output_type": "stream",
     "text": [
      "rgb2gray: 100%|██████████| 10000/10000 [00:00<00:00, 19752.69it/s]\n"
     ]
    },
    {
     "name": "stdout",
     "output_type": "stream",
     "text": [
      "FiltrationExtractor: processing 20/test/filtrations/2/HeightFiltrartion_-1_0/gray, do_fit = False, filtration = HeightFiltration(direction=array([-1,  0]), n_jobs=-1)\n",
      "Got the result from ./20/test/filtrations/2/HeightFiltrartion_-1_0/gray/diagrams.npy\n",
      "Applying Scaler to persistence diagrams.\n",
      "Got the result from ./20/test/filtrations/2/HeightFiltrartion_-1_0/gray/features.npy\n",
      "FiltrationExtractor: processing 20/test/filtrations/2/HeightFiltrartion_-1_0/red, do_fit = False, filtration = HeightFiltration(direction=array([-1,  0]), n_jobs=-1)\n",
      "Got the result from ./20/test/filtrations/2/HeightFiltrartion_-1_0/red/diagrams.npy\n",
      "Applying Scaler to persistence diagrams.\n",
      "Got the result from ./20/test/filtrations/2/HeightFiltrartion_-1_0/red/features.npy\n",
      "FiltrationExtractor: processing 20/test/filtrations/2/HeightFiltrartion_-1_0/green, do_fit = False, filtration = HeightFiltration(direction=array([-1,  0]), n_jobs=-1)\n",
      "Got the result from ./20/test/filtrations/2/HeightFiltrartion_-1_0/green/diagrams.npy\n",
      "Applying Scaler to persistence diagrams.\n",
      "Got the result from ./20/test/filtrations/2/HeightFiltrartion_-1_0/green/features.npy\n",
      "FiltrationExtractor: processing 20/test/filtrations/2/HeightFiltrartion_-1_0/blue, do_fit = False, filtration = HeightFiltration(direction=array([-1,  0]), n_jobs=-1)\n",
      "Got the result from ./20/test/filtrations/2/HeightFiltrartion_-1_0/blue/diagrams.npy\n",
      "Applying Scaler to persistence diagrams.\n",
      "Got the result from ./20/test/filtrations/2/HeightFiltrartion_-1_0/blue/features.npy\n",
      "Applying filtration 3/72: HeightFiltration with d = (-1, 1), bin. thr. = 0.2\n",
      "RGB images received. Transforming to grayscale.\n"
     ]
    },
    {
     "name": "stderr",
     "output_type": "stream",
     "text": [
      "rgb2gray: 100%|██████████| 10000/10000 [00:00<00:00, 15455.95it/s]\n"
     ]
    },
    {
     "name": "stdout",
     "output_type": "stream",
     "text": [
      "FiltrationExtractor: processing 20/test/filtrations/2/HeightFiltrartion_-1_1/gray, do_fit = False, filtration = HeightFiltration(direction=array([-1,  1]), n_jobs=-1)\n",
      "Got the result from ./20/test/filtrations/2/HeightFiltrartion_-1_1/gray/diagrams.npy\n",
      "Applying Scaler to persistence diagrams.\n",
      "Got the result from ./20/test/filtrations/2/HeightFiltrartion_-1_1/gray/features.npy\n",
      "FiltrationExtractor: processing 20/test/filtrations/2/HeightFiltrartion_-1_1/red, do_fit = False, filtration = HeightFiltration(direction=array([-1,  1]), n_jobs=-1)\n",
      "Got the result from ./20/test/filtrations/2/HeightFiltrartion_-1_1/red/diagrams.npy\n",
      "Applying Scaler to persistence diagrams.\n",
      "Got the result from ./20/test/filtrations/2/HeightFiltrartion_-1_1/red/features.npy\n",
      "FiltrationExtractor: processing 20/test/filtrations/2/HeightFiltrartion_-1_1/green, do_fit = False, filtration = HeightFiltration(direction=array([-1,  1]), n_jobs=-1)\n",
      "Got the result from ./20/test/filtrations/2/HeightFiltrartion_-1_1/green/diagrams.npy\n",
      "Applying Scaler to persistence diagrams.\n",
      "Got the result from ./20/test/filtrations/2/HeightFiltrartion_-1_1/green/features.npy\n",
      "FiltrationExtractor: processing 20/test/filtrations/2/HeightFiltrartion_-1_1/blue, do_fit = False, filtration = HeightFiltration(direction=array([-1,  1]), n_jobs=-1)\n",
      "Got the result from ./20/test/filtrations/2/HeightFiltrartion_-1_1/blue/diagrams.npy\n",
      "Applying Scaler to persistence diagrams.\n",
      "Got the result from ./20/test/filtrations/2/HeightFiltrartion_-1_1/blue/features.npy\n",
      "Applying filtration 4/72: HeightFiltration with d = (0, -1), bin. thr. = 0.2\n",
      "RGB images received. Transforming to grayscale.\n"
     ]
    },
    {
     "name": "stderr",
     "output_type": "stream",
     "text": [
      "rgb2gray: 100%|██████████| 10000/10000 [00:00<00:00, 20080.41it/s]\n"
     ]
    },
    {
     "name": "stdout",
     "output_type": "stream",
     "text": [
      "FiltrationExtractor: processing 20/test/filtrations/2/HeightFiltrartion_0_-1/gray, do_fit = False, filtration = HeightFiltration(direction=array([ 0, -1]), n_jobs=-1)\n",
      "Got the result from ./20/test/filtrations/2/HeightFiltrartion_0_-1/gray/diagrams.npy\n",
      "Applying Scaler to persistence diagrams.\n",
      "Got the result from ./20/test/filtrations/2/HeightFiltrartion_0_-1/gray/features.npy\n",
      "FiltrationExtractor: processing 20/test/filtrations/2/HeightFiltrartion_0_-1/red, do_fit = False, filtration = HeightFiltration(direction=array([ 0, -1]), n_jobs=-1)\n",
      "Got the result from ./20/test/filtrations/2/HeightFiltrartion_0_-1/red/diagrams.npy\n",
      "Applying Scaler to persistence diagrams.\n",
      "Got the result from ./20/test/filtrations/2/HeightFiltrartion_0_-1/red/features.npy\n",
      "FiltrationExtractor: processing 20/test/filtrations/2/HeightFiltrartion_0_-1/green, do_fit = False, filtration = HeightFiltration(direction=array([ 0, -1]), n_jobs=-1)\n",
      "Got the result from ./20/test/filtrations/2/HeightFiltrartion_0_-1/green/diagrams.npy\n",
      "Applying Scaler to persistence diagrams.\n",
      "Got the result from ./20/test/filtrations/2/HeightFiltrartion_0_-1/green/features.npy\n",
      "FiltrationExtractor: processing 20/test/filtrations/2/HeightFiltrartion_0_-1/blue, do_fit = False, filtration = HeightFiltration(direction=array([ 0, -1]), n_jobs=-1)\n",
      "Got the result from ./20/test/filtrations/2/HeightFiltrartion_0_-1/blue/diagrams.npy\n",
      "Applying Scaler to persistence diagrams.\n",
      "Got the result from ./20/test/filtrations/2/HeightFiltrartion_0_-1/blue/features.npy\n",
      "Applying filtration 5/72: HeightFiltration with d = (0, 1), bin. thr. = 0.2\n",
      "RGB images received. Transforming to grayscale.\n"
     ]
    },
    {
     "name": "stderr",
     "output_type": "stream",
     "text": [
      "rgb2gray: 100%|██████████| 10000/10000 [00:00<00:00, 18622.21it/s]\n"
     ]
    },
    {
     "name": "stdout",
     "output_type": "stream",
     "text": [
      "FiltrationExtractor: processing 20/test/filtrations/2/HeightFiltrartion_0_1/gray, do_fit = False, filtration = HeightFiltration(direction=array([0, 1]), n_jobs=-1)\n",
      "Got the result from ./20/test/filtrations/2/HeightFiltrartion_0_1/gray/diagrams.npy\n",
      "Applying Scaler to persistence diagrams.\n",
      "Got the result from ./20/test/filtrations/2/HeightFiltrartion_0_1/gray/features.npy\n",
      "FiltrationExtractor: processing 20/test/filtrations/2/HeightFiltrartion_0_1/red, do_fit = False, filtration = HeightFiltration(direction=array([0, 1]), n_jobs=-1)\n",
      "Got the result from ./20/test/filtrations/2/HeightFiltrartion_0_1/red/diagrams.npy\n",
      "Applying Scaler to persistence diagrams.\n",
      "Got the result from ./20/test/filtrations/2/HeightFiltrartion_0_1/red/features.npy\n",
      "FiltrationExtractor: processing 20/test/filtrations/2/HeightFiltrartion_0_1/green, do_fit = False, filtration = HeightFiltration(direction=array([0, 1]), n_jobs=-1)\n",
      "Got the result from ./20/test/filtrations/2/HeightFiltrartion_0_1/green/diagrams.npy\n",
      "Applying Scaler to persistence diagrams.\n",
      "Got the result from ./20/test/filtrations/2/HeightFiltrartion_0_1/green/features.npy\n",
      "FiltrationExtractor: processing 20/test/filtrations/2/HeightFiltrartion_0_1/blue, do_fit = False, filtration = HeightFiltration(direction=array([0, 1]), n_jobs=-1)\n",
      "Got the result from ./20/test/filtrations/2/HeightFiltrartion_0_1/blue/diagrams.npy\n",
      "Applying Scaler to persistence diagrams.\n",
      "Got the result from ./20/test/filtrations/2/HeightFiltrartion_0_1/blue/features.npy\n",
      "Applying filtration 6/72: HeightFiltration with d = (1, -1), bin. thr. = 0.2\n",
      "RGB images received. Transforming to grayscale.\n"
     ]
    },
    {
     "name": "stderr",
     "output_type": "stream",
     "text": [
      "rgb2gray: 100%|██████████| 10000/10000 [00:00<00:00, 18148.83it/s]\n"
     ]
    },
    {
     "name": "stdout",
     "output_type": "stream",
     "text": [
      "FiltrationExtractor: processing 20/test/filtrations/2/HeightFiltrartion_1_-1/gray, do_fit = False, filtration = HeightFiltration(direction=array([ 1, -1]), n_jobs=-1)\n",
      "Got the result from ./20/test/filtrations/2/HeightFiltrartion_1_-1/gray/diagrams.npy\n",
      "Applying Scaler to persistence diagrams.\n",
      "Got the result from ./20/test/filtrations/2/HeightFiltrartion_1_-1/gray/features.npy\n",
      "FiltrationExtractor: processing 20/test/filtrations/2/HeightFiltrartion_1_-1/red, do_fit = False, filtration = HeightFiltration(direction=array([ 1, -1]), n_jobs=-1)\n",
      "Got the result from ./20/test/filtrations/2/HeightFiltrartion_1_-1/red/diagrams.npy\n",
      "Applying Scaler to persistence diagrams.\n",
      "Got the result from ./20/test/filtrations/2/HeightFiltrartion_1_-1/red/features.npy\n",
      "FiltrationExtractor: processing 20/test/filtrations/2/HeightFiltrartion_1_-1/green, do_fit = False, filtration = HeightFiltration(direction=array([ 1, -1]), n_jobs=-1)\n",
      "Got the result from ./20/test/filtrations/2/HeightFiltrartion_1_-1/green/diagrams.npy\n",
      "Applying Scaler to persistence diagrams.\n",
      "Got the result from ./20/test/filtrations/2/HeightFiltrartion_1_-1/green/features.npy\n",
      "FiltrationExtractor: processing 20/test/filtrations/2/HeightFiltrartion_1_-1/blue, do_fit = False, filtration = HeightFiltration(direction=array([ 1, -1]), n_jobs=-1)\n",
      "Got the result from ./20/test/filtrations/2/HeightFiltrartion_1_-1/blue/diagrams.npy\n",
      "Applying Scaler to persistence diagrams.\n",
      "Got the result from ./20/test/filtrations/2/HeightFiltrartion_1_-1/blue/features.npy\n",
      "Applying filtration 7/72: HeightFiltration with d = (1, 0), bin. thr. = 0.2\n",
      "RGB images received. Transforming to grayscale.\n"
     ]
    },
    {
     "name": "stderr",
     "output_type": "stream",
     "text": [
      "rgb2gray: 100%|██████████| 10000/10000 [00:00<00:00, 19267.91it/s]\n"
     ]
    },
    {
     "name": "stdout",
     "output_type": "stream",
     "text": [
      "FiltrationExtractor: processing 20/test/filtrations/2/HeightFiltrartion_1_0/gray, do_fit = False, filtration = HeightFiltration(direction=array([1, 0]), n_jobs=-1)\n",
      "Got the result from ./20/test/filtrations/2/HeightFiltrartion_1_0/gray/diagrams.npy\n",
      "Applying Scaler to persistence diagrams.\n",
      "Got the result from ./20/test/filtrations/2/HeightFiltrartion_1_0/gray/features.npy\n",
      "FiltrationExtractor: processing 20/test/filtrations/2/HeightFiltrartion_1_0/red, do_fit = False, filtration = HeightFiltration(direction=array([1, 0]), n_jobs=-1)\n",
      "Got the result from ./20/test/filtrations/2/HeightFiltrartion_1_0/red/diagrams.npy\n",
      "Applying Scaler to persistence diagrams.\n",
      "Got the result from ./20/test/filtrations/2/HeightFiltrartion_1_0/red/features.npy\n",
      "FiltrationExtractor: processing 20/test/filtrations/2/HeightFiltrartion_1_0/green, do_fit = False, filtration = HeightFiltration(direction=array([1, 0]), n_jobs=-1)\n",
      "Got the result from ./20/test/filtrations/2/HeightFiltrartion_1_0/green/diagrams.npy\n",
      "Applying Scaler to persistence diagrams.\n",
      "Got the result from ./20/test/filtrations/2/HeightFiltrartion_1_0/green/features.npy\n",
      "FiltrationExtractor: processing 20/test/filtrations/2/HeightFiltrartion_1_0/blue, do_fit = False, filtration = HeightFiltration(direction=array([1, 0]), n_jobs=-1)\n",
      "Got the result from ./20/test/filtrations/2/HeightFiltrartion_1_0/blue/diagrams.npy\n",
      "Applying Scaler to persistence diagrams.\n",
      "Got the result from ./20/test/filtrations/2/HeightFiltrartion_1_0/blue/features.npy\n",
      "Applying filtration 8/72: HeightFiltration with d = (1, 1), bin. thr. = 0.2\n",
      "RGB images received. Transforming to grayscale.\n"
     ]
    },
    {
     "name": "stderr",
     "output_type": "stream",
     "text": [
      "rgb2gray: 100%|██████████| 10000/10000 [00:00<00:00, 16905.98it/s]\n"
     ]
    },
    {
     "name": "stdout",
     "output_type": "stream",
     "text": [
      "FiltrationExtractor: processing 20/test/filtrations/2/HeightFiltrartion_1_1/gray, do_fit = False, filtration = HeightFiltration(direction=array([1, 1]), n_jobs=-1)\n",
      "Got the result from ./20/test/filtrations/2/HeightFiltrartion_1_1/gray/diagrams.npy\n",
      "Applying Scaler to persistence diagrams.\n",
      "Got the result from ./20/test/filtrations/2/HeightFiltrartion_1_1/gray/features.npy\n",
      "FiltrationExtractor: processing 20/test/filtrations/2/HeightFiltrartion_1_1/red, do_fit = False, filtration = HeightFiltration(direction=array([1, 1]), n_jobs=-1)\n",
      "Got the result from ./20/test/filtrations/2/HeightFiltrartion_1_1/red/diagrams.npy\n",
      "Applying Scaler to persistence diagrams.\n",
      "Got the result from ./20/test/filtrations/2/HeightFiltrartion_1_1/red/features.npy\n",
      "FiltrationExtractor: processing 20/test/filtrations/2/HeightFiltrartion_1_1/green, do_fit = False, filtration = HeightFiltration(direction=array([1, 1]), n_jobs=-1)\n",
      "Got the result from ./20/test/filtrations/2/HeightFiltrartion_1_1/green/diagrams.npy\n",
      "Applying Scaler to persistence diagrams.\n",
      "Got the result from ./20/test/filtrations/2/HeightFiltrartion_1_1/green/features.npy\n",
      "FiltrationExtractor: processing 20/test/filtrations/2/HeightFiltrartion_1_1/blue, do_fit = False, filtration = HeightFiltration(direction=array([1, 1]), n_jobs=-1)\n",
      "Got the result from ./20/test/filtrations/2/HeightFiltrartion_1_1/blue/diagrams.npy\n",
      "Applying Scaler to persistence diagrams.\n",
      "Got the result from ./20/test/filtrations/2/HeightFiltrartion_1_1/blue/features.npy\n",
      "Applying filtration 9/72: RadialFiltration with c = (5, 5), bin. thr. = 0.2\n",
      "RGB images received. Transforming to grayscale.\n"
     ]
    },
    {
     "name": "stderr",
     "output_type": "stream",
     "text": [
      "rgb2gray: 100%|██████████| 10000/10000 [00:00<00:00, 15290.55it/s]\n"
     ]
    },
    {
     "name": "stdout",
     "output_type": "stream",
     "text": [
      "FiltrationExtractor: processing 20/test/filtrations/2/RadialFiltration_5_5/gray, do_fit = False, filtration = RadialFiltration(center=array([5, 5]), n_jobs=-1)\n",
      "Got the result from ./20/test/filtrations/2/RadialFiltration_5_5/gray/diagrams.npy\n",
      "Applying Scaler to persistence diagrams.\n",
      "Got the result from ./20/test/filtrations/2/RadialFiltration_5_5/gray/features.npy\n",
      "FiltrationExtractor: processing 20/test/filtrations/2/RadialFiltration_5_5/red, do_fit = False, filtration = RadialFiltration(center=array([5, 5]), n_jobs=-1)\n",
      "Got the result from ./20/test/filtrations/2/RadialFiltration_5_5/red/diagrams.npy\n",
      "Applying Scaler to persistence diagrams.\n",
      "Got the result from ./20/test/filtrations/2/RadialFiltration_5_5/red/features.npy\n",
      "FiltrationExtractor: processing 20/test/filtrations/2/RadialFiltration_5_5/green, do_fit = False, filtration = RadialFiltration(center=array([5, 5]), n_jobs=-1)\n",
      "Got the result from ./20/test/filtrations/2/RadialFiltration_5_5/green/diagrams.npy\n",
      "Applying Scaler to persistence diagrams.\n",
      "Got the result from ./20/test/filtrations/2/RadialFiltration_5_5/green/features.npy\n",
      "FiltrationExtractor: processing 20/test/filtrations/2/RadialFiltration_5_5/blue, do_fit = False, filtration = RadialFiltration(center=array([5, 5]), n_jobs=-1)\n",
      "Got the result from ./20/test/filtrations/2/RadialFiltration_5_5/blue/diagrams.npy\n",
      "Applying Scaler to persistence diagrams.\n",
      "Got the result from ./20/test/filtrations/2/RadialFiltration_5_5/blue/features.npy\n",
      "Applying filtration 10/72: RadialFiltration with c = (5, 12), bin. thr. = 0.2\n",
      "RGB images received. Transforming to grayscale.\n"
     ]
    },
    {
     "name": "stderr",
     "output_type": "stream",
     "text": [
      "rgb2gray: 100%|██████████| 10000/10000 [00:00<00:00, 15899.36it/s]\n"
     ]
    },
    {
     "name": "stdout",
     "output_type": "stream",
     "text": [
      "FiltrationExtractor: processing 20/test/filtrations/2/RadialFiltration_5_12/gray, do_fit = False, filtration = RadialFiltration(center=array([ 5, 12]), n_jobs=-1)\n",
      "Got the result from ./20/test/filtrations/2/RadialFiltration_5_12/gray/diagrams.npy\n",
      "Applying Scaler to persistence diagrams.\n",
      "Got the result from ./20/test/filtrations/2/RadialFiltration_5_12/gray/features.npy\n",
      "FiltrationExtractor: processing 20/test/filtrations/2/RadialFiltration_5_12/red, do_fit = False, filtration = RadialFiltration(center=array([ 5, 12]), n_jobs=-1)\n",
      "Got the result from ./20/test/filtrations/2/RadialFiltration_5_12/red/diagrams.npy\n",
      "Applying Scaler to persistence diagrams.\n",
      "Got the result from ./20/test/filtrations/2/RadialFiltration_5_12/red/features.npy\n",
      "FiltrationExtractor: processing 20/test/filtrations/2/RadialFiltration_5_12/green, do_fit = False, filtration = RadialFiltration(center=array([ 5, 12]), n_jobs=-1)\n",
      "Got the result from ./20/test/filtrations/2/RadialFiltration_5_12/green/diagrams.npy\n",
      "Applying Scaler to persistence diagrams.\n",
      "Got the result from ./20/test/filtrations/2/RadialFiltration_5_12/green/features.npy\n",
      "FiltrationExtractor: processing 20/test/filtrations/2/RadialFiltration_5_12/blue, do_fit = False, filtration = RadialFiltration(center=array([ 5, 12]), n_jobs=-1)\n",
      "Got the result from ./20/test/filtrations/2/RadialFiltration_5_12/blue/diagrams.npy\n",
      "Applying Scaler to persistence diagrams.\n",
      "Got the result from ./20/test/filtrations/2/RadialFiltration_5_12/blue/features.npy\n",
      "Applying filtration 11/72: RadialFiltration with c = (5, 19), bin. thr. = 0.2\n",
      "RGB images received. Transforming to grayscale.\n"
     ]
    },
    {
     "name": "stderr",
     "output_type": "stream",
     "text": [
      "rgb2gray: 100%|██████████| 10000/10000 [00:00<00:00, 14450.90it/s]\n"
     ]
    },
    {
     "name": "stdout",
     "output_type": "stream",
     "text": [
      "FiltrationExtractor: processing 20/test/filtrations/2/RadialFiltration_5_19/gray, do_fit = False, filtration = RadialFiltration(center=array([ 5, 19]), n_jobs=-1)\n",
      "Got the result from ./20/test/filtrations/2/RadialFiltration_5_19/gray/diagrams.npy\n",
      "Applying Scaler to persistence diagrams.\n",
      "Got the result from ./20/test/filtrations/2/RadialFiltration_5_19/gray/features.npy\n",
      "FiltrationExtractor: processing 20/test/filtrations/2/RadialFiltration_5_19/red, do_fit = False, filtration = RadialFiltration(center=array([ 5, 19]), n_jobs=-1)\n",
      "Got the result from ./20/test/filtrations/2/RadialFiltration_5_19/red/diagrams.npy\n",
      "Applying Scaler to persistence diagrams.\n",
      "Got the result from ./20/test/filtrations/2/RadialFiltration_5_19/red/features.npy\n",
      "FiltrationExtractor: processing 20/test/filtrations/2/RadialFiltration_5_19/green, do_fit = False, filtration = RadialFiltration(center=array([ 5, 19]), n_jobs=-1)\n",
      "Got the result from ./20/test/filtrations/2/RadialFiltration_5_19/green/diagrams.npy\n",
      "Applying Scaler to persistence diagrams.\n",
      "Got the result from ./20/test/filtrations/2/RadialFiltration_5_19/green/features.npy\n",
      "FiltrationExtractor: processing 20/test/filtrations/2/RadialFiltration_5_19/blue, do_fit = False, filtration = RadialFiltration(center=array([ 5, 19]), n_jobs=-1)\n",
      "Got the result from ./20/test/filtrations/2/RadialFiltration_5_19/blue/diagrams.npy\n",
      "Applying Scaler to persistence diagrams.\n",
      "Got the result from ./20/test/filtrations/2/RadialFiltration_5_19/blue/features.npy\n",
      "Applying filtration 12/72: RadialFiltration with c = (5, 26), bin. thr. = 0.2\n",
      "RGB images received. Transforming to grayscale.\n"
     ]
    },
    {
     "name": "stderr",
     "output_type": "stream",
     "text": [
      "rgb2gray: 100%|██████████| 10000/10000 [00:00<00:00, 19157.05it/s]\n"
     ]
    },
    {
     "name": "stdout",
     "output_type": "stream",
     "text": [
      "FiltrationExtractor: processing 20/test/filtrations/2/RadialFiltration_5_26/gray, do_fit = False, filtration = RadialFiltration(center=array([ 5, 26]), n_jobs=-1)\n",
      "Got the result from ./20/test/filtrations/2/RadialFiltration_5_26/gray/diagrams.npy\n",
      "Applying Scaler to persistence diagrams.\n",
      "Got the result from ./20/test/filtrations/2/RadialFiltration_5_26/gray/features.npy\n",
      "FiltrationExtractor: processing 20/test/filtrations/2/RadialFiltration_5_26/red, do_fit = False, filtration = RadialFiltration(center=array([ 5, 26]), n_jobs=-1)\n",
      "Got the result from ./20/test/filtrations/2/RadialFiltration_5_26/red/diagrams.npy\n",
      "Applying Scaler to persistence diagrams.\n",
      "Got the result from ./20/test/filtrations/2/RadialFiltration_5_26/red/features.npy\n",
      "FiltrationExtractor: processing 20/test/filtrations/2/RadialFiltration_5_26/green, do_fit = False, filtration = RadialFiltration(center=array([ 5, 26]), n_jobs=-1)\n",
      "Got the result from ./20/test/filtrations/2/RadialFiltration_5_26/green/diagrams.npy\n",
      "Applying Scaler to persistence diagrams.\n",
      "Got the result from ./20/test/filtrations/2/RadialFiltration_5_26/green/features.npy\n",
      "FiltrationExtractor: processing 20/test/filtrations/2/RadialFiltration_5_26/blue, do_fit = False, filtration = RadialFiltration(center=array([ 5, 26]), n_jobs=-1)\n",
      "Got the result from ./20/test/filtrations/2/RadialFiltration_5_26/blue/diagrams.npy\n",
      "Applying Scaler to persistence diagrams.\n",
      "Got the result from ./20/test/filtrations/2/RadialFiltration_5_26/blue/features.npy\n",
      "Applying filtration 13/72: RadialFiltration with c = (12, 5), bin. thr. = 0.2\n",
      "RGB images received. Transforming to grayscale.\n"
     ]
    },
    {
     "name": "stderr",
     "output_type": "stream",
     "text": [
      "rgb2gray: 100%|██████████| 10000/10000 [00:00<00:00, 19646.25it/s]\n"
     ]
    },
    {
     "name": "stdout",
     "output_type": "stream",
     "text": [
      "FiltrationExtractor: processing 20/test/filtrations/2/RadialFiltration_12_5/gray, do_fit = False, filtration = RadialFiltration(center=array([12,  5]), n_jobs=-1)\n",
      "Got the result from ./20/test/filtrations/2/RadialFiltration_12_5/gray/diagrams.npy\n",
      "Applying Scaler to persistence diagrams.\n",
      "Got the result from ./20/test/filtrations/2/RadialFiltration_12_5/gray/features.npy\n",
      "FiltrationExtractor: processing 20/test/filtrations/2/RadialFiltration_12_5/red, do_fit = False, filtration = RadialFiltration(center=array([12,  5]), n_jobs=-1)\n",
      "Got the result from ./20/test/filtrations/2/RadialFiltration_12_5/red/diagrams.npy\n",
      "Applying Scaler to persistence diagrams.\n",
      "Got the result from ./20/test/filtrations/2/RadialFiltration_12_5/red/features.npy\n",
      "FiltrationExtractor: processing 20/test/filtrations/2/RadialFiltration_12_5/green, do_fit = False, filtration = RadialFiltration(center=array([12,  5]), n_jobs=-1)\n",
      "Got the result from ./20/test/filtrations/2/RadialFiltration_12_5/green/diagrams.npy\n",
      "Applying Scaler to persistence diagrams.\n",
      "Got the result from ./20/test/filtrations/2/RadialFiltration_12_5/green/features.npy\n",
      "FiltrationExtractor: processing 20/test/filtrations/2/RadialFiltration_12_5/blue, do_fit = False, filtration = RadialFiltration(center=array([12,  5]), n_jobs=-1)\n",
      "Got the result from ./20/test/filtrations/2/RadialFiltration_12_5/blue/diagrams.npy\n",
      "Applying Scaler to persistence diagrams.\n",
      "Got the result from ./20/test/filtrations/2/RadialFiltration_12_5/blue/features.npy\n",
      "Applying filtration 14/72: RadialFiltration with c = (12, 12), bin. thr. = 0.2\n",
      "RGB images received. Transforming to grayscale.\n"
     ]
    },
    {
     "name": "stderr",
     "output_type": "stream",
     "text": [
      "rgb2gray: 100%|██████████| 10000/10000 [00:00<00:00, 13089.01it/s]\n"
     ]
    },
    {
     "name": "stdout",
     "output_type": "stream",
     "text": [
      "FiltrationExtractor: processing 20/test/filtrations/2/RadialFiltration_12_12/gray, do_fit = False, filtration = RadialFiltration(center=array([12, 12]), n_jobs=-1)\n",
      "Got the result from ./20/test/filtrations/2/RadialFiltration_12_12/gray/diagrams.npy\n",
      "Applying Scaler to persistence diagrams.\n",
      "Got the result from ./20/test/filtrations/2/RadialFiltration_12_12/gray/features.npy\n",
      "FiltrationExtractor: processing 20/test/filtrations/2/RadialFiltration_12_12/red, do_fit = False, filtration = RadialFiltration(center=array([12, 12]), n_jobs=-1)\n",
      "Got the result from ./20/test/filtrations/2/RadialFiltration_12_12/red/diagrams.npy\n",
      "Applying Scaler to persistence diagrams.\n",
      "Got the result from ./20/test/filtrations/2/RadialFiltration_12_12/red/features.npy\n",
      "FiltrationExtractor: processing 20/test/filtrations/2/RadialFiltration_12_12/green, do_fit = False, filtration = RadialFiltration(center=array([12, 12]), n_jobs=-1)\n",
      "Got the result from ./20/test/filtrations/2/RadialFiltration_12_12/green/diagrams.npy\n",
      "Applying Scaler to persistence diagrams.\n",
      "Got the result from ./20/test/filtrations/2/RadialFiltration_12_12/green/features.npy\n",
      "FiltrationExtractor: processing 20/test/filtrations/2/RadialFiltration_12_12/blue, do_fit = False, filtration = RadialFiltration(center=array([12, 12]), n_jobs=-1)\n",
      "Got the result from ./20/test/filtrations/2/RadialFiltration_12_12/blue/diagrams.npy\n",
      "Applying Scaler to persistence diagrams.\n",
      "Got the result from ./20/test/filtrations/2/RadialFiltration_12_12/blue/features.npy\n",
      "Applying filtration 15/72: RadialFiltration with c = (12, 19), bin. thr. = 0.2\n",
      "RGB images received. Transforming to grayscale.\n"
     ]
    },
    {
     "name": "stderr",
     "output_type": "stream",
     "text": [
      "rgb2gray: 100%|██████████| 10000/10000 [00:00<00:00, 17473.56it/s]\n"
     ]
    },
    {
     "name": "stdout",
     "output_type": "stream",
     "text": [
      "FiltrationExtractor: processing 20/test/filtrations/2/RadialFiltration_12_19/gray, do_fit = False, filtration = RadialFiltration(center=array([12, 19]), n_jobs=-1)\n",
      "Got the result from ./20/test/filtrations/2/RadialFiltration_12_19/gray/diagrams.npy\n",
      "Applying Scaler to persistence diagrams.\n",
      "Got the result from ./20/test/filtrations/2/RadialFiltration_12_19/gray/features.npy\n",
      "FiltrationExtractor: processing 20/test/filtrations/2/RadialFiltration_12_19/red, do_fit = False, filtration = RadialFiltration(center=array([12, 19]), n_jobs=-1)\n",
      "Got the result from ./20/test/filtrations/2/RadialFiltration_12_19/red/diagrams.npy\n",
      "Applying Scaler to persistence diagrams.\n",
      "Got the result from ./20/test/filtrations/2/RadialFiltration_12_19/red/features.npy\n",
      "FiltrationExtractor: processing 20/test/filtrations/2/RadialFiltration_12_19/green, do_fit = False, filtration = RadialFiltration(center=array([12, 19]), n_jobs=-1)\n",
      "Got the result from ./20/test/filtrations/2/RadialFiltration_12_19/green/diagrams.npy\n",
      "Applying Scaler to persistence diagrams.\n",
      "Got the result from ./20/test/filtrations/2/RadialFiltration_12_19/green/features.npy\n",
      "FiltrationExtractor: processing 20/test/filtrations/2/RadialFiltration_12_19/blue, do_fit = False, filtration = RadialFiltration(center=array([12, 19]), n_jobs=-1)\n",
      "Got the result from ./20/test/filtrations/2/RadialFiltration_12_19/blue/diagrams.npy\n",
      "Applying Scaler to persistence diagrams.\n",
      "Got the result from ./20/test/filtrations/2/RadialFiltration_12_19/blue/features.npy\n",
      "Applying filtration 16/72: RadialFiltration with c = (12, 26), bin. thr. = 0.2\n",
      "RGB images received. Transforming to grayscale.\n"
     ]
    },
    {
     "name": "stderr",
     "output_type": "stream",
     "text": [
      "rgb2gray: 100%|██████████| 10000/10000 [00:00<00:00, 19083.83it/s]\n"
     ]
    },
    {
     "name": "stdout",
     "output_type": "stream",
     "text": [
      "FiltrationExtractor: processing 20/test/filtrations/2/RadialFiltration_12_26/gray, do_fit = False, filtration = RadialFiltration(center=array([12, 26]), n_jobs=-1)\n",
      "Got the result from ./20/test/filtrations/2/RadialFiltration_12_26/gray/diagrams.npy\n",
      "Applying Scaler to persistence diagrams.\n",
      "Got the result from ./20/test/filtrations/2/RadialFiltration_12_26/gray/features.npy\n",
      "FiltrationExtractor: processing 20/test/filtrations/2/RadialFiltration_12_26/red, do_fit = False, filtration = RadialFiltration(center=array([12, 26]), n_jobs=-1)\n",
      "Got the result from ./20/test/filtrations/2/RadialFiltration_12_26/red/diagrams.npy\n",
      "Applying Scaler to persistence diagrams.\n",
      "Got the result from ./20/test/filtrations/2/RadialFiltration_12_26/red/features.npy\n",
      "FiltrationExtractor: processing 20/test/filtrations/2/RadialFiltration_12_26/green, do_fit = False, filtration = RadialFiltration(center=array([12, 26]), n_jobs=-1)\n",
      "Got the result from ./20/test/filtrations/2/RadialFiltration_12_26/green/diagrams.npy\n",
      "Applying Scaler to persistence diagrams.\n",
      "Got the result from ./20/test/filtrations/2/RadialFiltration_12_26/green/features.npy\n",
      "FiltrationExtractor: processing 20/test/filtrations/2/RadialFiltration_12_26/blue, do_fit = False, filtration = RadialFiltration(center=array([12, 26]), n_jobs=-1)\n",
      "Got the result from ./20/test/filtrations/2/RadialFiltration_12_26/blue/diagrams.npy\n",
      "Applying Scaler to persistence diagrams.\n",
      "Got the result from ./20/test/filtrations/2/RadialFiltration_12_26/blue/features.npy\n",
      "Applying filtration 17/72: RadialFiltration with c = (19, 5), bin. thr. = 0.2\n",
      "RGB images received. Transforming to grayscale.\n"
     ]
    },
    {
     "name": "stderr",
     "output_type": "stream",
     "text": [
      "rgb2gray: 100%|██████████| 10000/10000 [00:00<00:00, 19672.38it/s]\n"
     ]
    },
    {
     "name": "stdout",
     "output_type": "stream",
     "text": [
      "FiltrationExtractor: processing 20/test/filtrations/2/RadialFiltration_19_5/gray, do_fit = False, filtration = RadialFiltration(center=array([19,  5]), n_jobs=-1)\n",
      "Got the result from ./20/test/filtrations/2/RadialFiltration_19_5/gray/diagrams.npy\n",
      "Applying Scaler to persistence diagrams.\n",
      "Got the result from ./20/test/filtrations/2/RadialFiltration_19_5/gray/features.npy\n",
      "FiltrationExtractor: processing 20/test/filtrations/2/RadialFiltration_19_5/red, do_fit = False, filtration = RadialFiltration(center=array([19,  5]), n_jobs=-1)\n",
      "Got the result from ./20/test/filtrations/2/RadialFiltration_19_5/red/diagrams.npy\n",
      "Applying Scaler to persistence diagrams.\n",
      "Got the result from ./20/test/filtrations/2/RadialFiltration_19_5/red/features.npy\n",
      "FiltrationExtractor: processing 20/test/filtrations/2/RadialFiltration_19_5/green, do_fit = False, filtration = RadialFiltration(center=array([19,  5]), n_jobs=-1)\n",
      "Got the result from ./20/test/filtrations/2/RadialFiltration_19_5/green/diagrams.npy\n",
      "Applying Scaler to persistence diagrams.\n",
      "Got the result from ./20/test/filtrations/2/RadialFiltration_19_5/green/features.npy\n",
      "FiltrationExtractor: processing 20/test/filtrations/2/RadialFiltration_19_5/blue, do_fit = False, filtration = RadialFiltration(center=array([19,  5]), n_jobs=-1)\n",
      "Got the result from ./20/test/filtrations/2/RadialFiltration_19_5/blue/diagrams.npy\n",
      "Applying Scaler to persistence diagrams.\n",
      "Got the result from ./20/test/filtrations/2/RadialFiltration_19_5/blue/features.npy\n",
      "Applying filtration 18/72: RadialFiltration with c = (19, 12), bin. thr. = 0.2\n",
      "RGB images received. Transforming to grayscale.\n"
     ]
    },
    {
     "name": "stderr",
     "output_type": "stream",
     "text": [
      "rgb2gray: 100%|██████████| 10000/10000 [00:00<00:00, 19157.11it/s]\n"
     ]
    },
    {
     "name": "stdout",
     "output_type": "stream",
     "text": [
      "FiltrationExtractor: processing 20/test/filtrations/2/RadialFiltration_19_12/gray, do_fit = False, filtration = RadialFiltration(center=array([19, 12]), n_jobs=-1)\n",
      "Got the result from ./20/test/filtrations/2/RadialFiltration_19_12/gray/diagrams.npy\n",
      "Applying Scaler to persistence diagrams.\n",
      "Got the result from ./20/test/filtrations/2/RadialFiltration_19_12/gray/features.npy\n",
      "FiltrationExtractor: processing 20/test/filtrations/2/RadialFiltration_19_12/red, do_fit = False, filtration = RadialFiltration(center=array([19, 12]), n_jobs=-1)\n",
      "Got the result from ./20/test/filtrations/2/RadialFiltration_19_12/red/diagrams.npy\n",
      "Applying Scaler to persistence diagrams.\n",
      "Got the result from ./20/test/filtrations/2/RadialFiltration_19_12/red/features.npy\n",
      "FiltrationExtractor: processing 20/test/filtrations/2/RadialFiltration_19_12/green, do_fit = False, filtration = RadialFiltration(center=array([19, 12]), n_jobs=-1)\n",
      "Got the result from ./20/test/filtrations/2/RadialFiltration_19_12/green/diagrams.npy\n",
      "Applying Scaler to persistence diagrams.\n",
      "Got the result from ./20/test/filtrations/2/RadialFiltration_19_12/green/features.npy\n",
      "FiltrationExtractor: processing 20/test/filtrations/2/RadialFiltration_19_12/blue, do_fit = False, filtration = RadialFiltration(center=array([19, 12]), n_jobs=-1)\n",
      "Got the result from ./20/test/filtrations/2/RadialFiltration_19_12/blue/diagrams.npy\n",
      "Applying Scaler to persistence diagrams.\n",
      "Got the result from ./20/test/filtrations/2/RadialFiltration_19_12/blue/features.npy\n",
      "Applying filtration 19/72: RadialFiltration with c = (19, 19), bin. thr. = 0.2\n",
      "RGB images received. Transforming to grayscale.\n"
     ]
    },
    {
     "name": "stderr",
     "output_type": "stream",
     "text": [
      "rgb2gray: 100%|██████████| 10000/10000 [00:00<00:00, 19248.99it/s]\n"
     ]
    },
    {
     "name": "stdout",
     "output_type": "stream",
     "text": [
      "FiltrationExtractor: processing 20/test/filtrations/2/RadialFiltration_19_19/gray, do_fit = False, filtration = RadialFiltration(center=array([19, 19]), n_jobs=-1)\n",
      "Got the result from ./20/test/filtrations/2/RadialFiltration_19_19/gray/diagrams.npy\n",
      "Applying Scaler to persistence diagrams.\n",
      "Got the result from ./20/test/filtrations/2/RadialFiltration_19_19/gray/features.npy\n",
      "FiltrationExtractor: processing 20/test/filtrations/2/RadialFiltration_19_19/red, do_fit = False, filtration = RadialFiltration(center=array([19, 19]), n_jobs=-1)\n",
      "Got the result from ./20/test/filtrations/2/RadialFiltration_19_19/red/diagrams.npy\n",
      "Applying Scaler to persistence diagrams.\n",
      "Got the result from ./20/test/filtrations/2/RadialFiltration_19_19/red/features.npy\n",
      "FiltrationExtractor: processing 20/test/filtrations/2/RadialFiltration_19_19/green, do_fit = False, filtration = RadialFiltration(center=array([19, 19]), n_jobs=-1)\n",
      "Got the result from ./20/test/filtrations/2/RadialFiltration_19_19/green/diagrams.npy\n",
      "Applying Scaler to persistence diagrams.\n",
      "Got the result from ./20/test/filtrations/2/RadialFiltration_19_19/green/features.npy\n",
      "FiltrationExtractor: processing 20/test/filtrations/2/RadialFiltration_19_19/blue, do_fit = False, filtration = RadialFiltration(center=array([19, 19]), n_jobs=-1)\n",
      "Got the result from ./20/test/filtrations/2/RadialFiltration_19_19/blue/diagrams.npy\n",
      "Applying Scaler to persistence diagrams.\n",
      "Got the result from ./20/test/filtrations/2/RadialFiltration_19_19/blue/features.npy\n",
      "Applying filtration 20/72: RadialFiltration with c = (19, 26), bin. thr. = 0.2\n",
      "RGB images received. Transforming to grayscale.\n"
     ]
    },
    {
     "name": "stderr",
     "output_type": "stream",
     "text": [
      "rgb2gray: 100%|██████████| 10000/10000 [00:00<00:00, 15491.67it/s]\n"
     ]
    },
    {
     "name": "stdout",
     "output_type": "stream",
     "text": [
      "FiltrationExtractor: processing 20/test/filtrations/2/RadialFiltration_19_26/gray, do_fit = False, filtration = RadialFiltration(center=array([19, 26]), n_jobs=-1)\n",
      "Got the result from ./20/test/filtrations/2/RadialFiltration_19_26/gray/diagrams.npy\n",
      "Applying Scaler to persistence diagrams.\n",
      "Got the result from ./20/test/filtrations/2/RadialFiltration_19_26/gray/features.npy\n",
      "FiltrationExtractor: processing 20/test/filtrations/2/RadialFiltration_19_26/red, do_fit = False, filtration = RadialFiltration(center=array([19, 26]), n_jobs=-1)\n",
      "Got the result from ./20/test/filtrations/2/RadialFiltration_19_26/red/diagrams.npy\n",
      "Applying Scaler to persistence diagrams.\n",
      "Got the result from ./20/test/filtrations/2/RadialFiltration_19_26/red/features.npy\n",
      "FiltrationExtractor: processing 20/test/filtrations/2/RadialFiltration_19_26/green, do_fit = False, filtration = RadialFiltration(center=array([19, 26]), n_jobs=-1)\n",
      "Got the result from ./20/test/filtrations/2/RadialFiltration_19_26/green/diagrams.npy\n",
      "Applying Scaler to persistence diagrams.\n",
      "Got the result from ./20/test/filtrations/2/RadialFiltration_19_26/green/features.npy\n",
      "FiltrationExtractor: processing 20/test/filtrations/2/RadialFiltration_19_26/blue, do_fit = False, filtration = RadialFiltration(center=array([19, 26]), n_jobs=-1)\n",
      "Got the result from ./20/test/filtrations/2/RadialFiltration_19_26/blue/diagrams.npy\n",
      "Applying Scaler to persistence diagrams.\n",
      "Got the result from ./20/test/filtrations/2/RadialFiltration_19_26/blue/features.npy\n",
      "Applying filtration 21/72: RadialFiltration with c = (26, 5), bin. thr. = 0.2\n",
      "RGB images received. Transforming to grayscale.\n"
     ]
    },
    {
     "name": "stderr",
     "output_type": "stream",
     "text": [
      "rgb2gray: 100%|██████████| 10000/10000 [00:00<00:00, 18398.89it/s]\n"
     ]
    },
    {
     "name": "stdout",
     "output_type": "stream",
     "text": [
      "FiltrationExtractor: processing 20/test/filtrations/2/RadialFiltration_26_5/gray, do_fit = False, filtration = RadialFiltration(center=array([26,  5]), n_jobs=-1)\n",
      "Got the result from ./20/test/filtrations/2/RadialFiltration_26_5/gray/diagrams.npy\n",
      "Applying Scaler to persistence diagrams.\n",
      "Got the result from ./20/test/filtrations/2/RadialFiltration_26_5/gray/features.npy\n",
      "FiltrationExtractor: processing 20/test/filtrations/2/RadialFiltration_26_5/red, do_fit = False, filtration = RadialFiltration(center=array([26,  5]), n_jobs=-1)\n",
      "Got the result from ./20/test/filtrations/2/RadialFiltration_26_5/red/diagrams.npy\n",
      "Applying Scaler to persistence diagrams.\n",
      "Got the result from ./20/test/filtrations/2/RadialFiltration_26_5/red/features.npy\n",
      "FiltrationExtractor: processing 20/test/filtrations/2/RadialFiltration_26_5/green, do_fit = False, filtration = RadialFiltration(center=array([26,  5]), n_jobs=-1)\n",
      "Got the result from ./20/test/filtrations/2/RadialFiltration_26_5/green/diagrams.npy\n",
      "Applying Scaler to persistence diagrams.\n",
      "Got the result from ./20/test/filtrations/2/RadialFiltration_26_5/green/features.npy\n",
      "FiltrationExtractor: processing 20/test/filtrations/2/RadialFiltration_26_5/blue, do_fit = False, filtration = RadialFiltration(center=array([26,  5]), n_jobs=-1)\n",
      "Got the result from ./20/test/filtrations/2/RadialFiltration_26_5/blue/diagrams.npy\n",
      "Applying Scaler to persistence diagrams.\n",
      "Got the result from ./20/test/filtrations/2/RadialFiltration_26_5/blue/features.npy\n",
      "Applying filtration 22/72: RadialFiltration with c = (26, 12), bin. thr. = 0.2\n",
      "RGB images received. Transforming to grayscale.\n"
     ]
    },
    {
     "name": "stderr",
     "output_type": "stream",
     "text": [
      "rgb2gray: 100%|██████████| 10000/10000 [00:00<00:00, 19646.38it/s]\n"
     ]
    },
    {
     "name": "stdout",
     "output_type": "stream",
     "text": [
      "FiltrationExtractor: processing 20/test/filtrations/2/RadialFiltration_26_12/gray, do_fit = False, filtration = RadialFiltration(center=array([26, 12]), n_jobs=-1)\n",
      "Got the result from ./20/test/filtrations/2/RadialFiltration_26_12/gray/diagrams.npy\n",
      "Applying Scaler to persistence diagrams.\n",
      "Got the result from ./20/test/filtrations/2/RadialFiltration_26_12/gray/features.npy\n",
      "FiltrationExtractor: processing 20/test/filtrations/2/RadialFiltration_26_12/red, do_fit = False, filtration = RadialFiltration(center=array([26, 12]), n_jobs=-1)\n",
      "Got the result from ./20/test/filtrations/2/RadialFiltration_26_12/red/diagrams.npy\n",
      "Applying Scaler to persistence diagrams.\n",
      "Got the result from ./20/test/filtrations/2/RadialFiltration_26_12/red/features.npy\n",
      "FiltrationExtractor: processing 20/test/filtrations/2/RadialFiltration_26_12/green, do_fit = False, filtration = RadialFiltration(center=array([26, 12]), n_jobs=-1)\n",
      "Got the result from ./20/test/filtrations/2/RadialFiltration_26_12/green/diagrams.npy\n",
      "Applying Scaler to persistence diagrams.\n",
      "Got the result from ./20/test/filtrations/2/RadialFiltration_26_12/green/features.npy\n",
      "FiltrationExtractor: processing 20/test/filtrations/2/RadialFiltration_26_12/blue, do_fit = False, filtration = RadialFiltration(center=array([26, 12]), n_jobs=-1)\n",
      "Got the result from ./20/test/filtrations/2/RadialFiltration_26_12/blue/diagrams.npy\n",
      "Applying Scaler to persistence diagrams.\n",
      "Got the result from ./20/test/filtrations/2/RadialFiltration_26_12/blue/features.npy\n",
      "Applying filtration 23/72: RadialFiltration with c = (26, 19), bin. thr. = 0.2\n",
      "RGB images received. Transforming to grayscale.\n"
     ]
    },
    {
     "name": "stderr",
     "output_type": "stream",
     "text": [
      "rgb2gray: 100%|██████████| 10000/10000 [00:00<00:00, 17730.51it/s]\n"
     ]
    },
    {
     "name": "stdout",
     "output_type": "stream",
     "text": [
      "FiltrationExtractor: processing 20/test/filtrations/2/RadialFiltration_26_19/gray, do_fit = False, filtration = RadialFiltration(center=array([26, 19]), n_jobs=-1)\n",
      "Got the result from ./20/test/filtrations/2/RadialFiltration_26_19/gray/diagrams.npy\n",
      "Applying Scaler to persistence diagrams.\n",
      "Got the result from ./20/test/filtrations/2/RadialFiltration_26_19/gray/features.npy\n",
      "FiltrationExtractor: processing 20/test/filtrations/2/RadialFiltration_26_19/red, do_fit = False, filtration = RadialFiltration(center=array([26, 19]), n_jobs=-1)\n",
      "Got the result from ./20/test/filtrations/2/RadialFiltration_26_19/red/diagrams.npy\n",
      "Applying Scaler to persistence diagrams.\n",
      "Got the result from ./20/test/filtrations/2/RadialFiltration_26_19/red/features.npy\n",
      "FiltrationExtractor: processing 20/test/filtrations/2/RadialFiltration_26_19/green, do_fit = False, filtration = RadialFiltration(center=array([26, 19]), n_jobs=-1)\n",
      "Got the result from ./20/test/filtrations/2/RadialFiltration_26_19/green/diagrams.npy\n",
      "Applying Scaler to persistence diagrams.\n",
      "Got the result from ./20/test/filtrations/2/RadialFiltration_26_19/green/features.npy\n",
      "FiltrationExtractor: processing 20/test/filtrations/2/RadialFiltration_26_19/blue, do_fit = False, filtration = RadialFiltration(center=array([26, 19]), n_jobs=-1)\n",
      "Got the result from ./20/test/filtrations/2/RadialFiltration_26_19/blue/diagrams.npy\n",
      "Applying Scaler to persistence diagrams.\n",
      "Got the result from ./20/test/filtrations/2/RadialFiltration_26_19/blue/features.npy\n",
      "Applying filtration 24/72: RadialFiltration with c = (26, 26), bin. thr. = 0.2\n",
      "RGB images received. Transforming to grayscale.\n"
     ]
    },
    {
     "name": "stderr",
     "output_type": "stream",
     "text": [
      "rgb2gray: 100%|██████████| 10000/10000 [00:00<00:00, 15528.01it/s]\n"
     ]
    },
    {
     "name": "stdout",
     "output_type": "stream",
     "text": [
      "FiltrationExtractor: processing 20/test/filtrations/2/RadialFiltration_26_26/gray, do_fit = False, filtration = RadialFiltration(center=array([26, 26]), n_jobs=-1)\n",
      "Got the result from ./20/test/filtrations/2/RadialFiltration_26_26/gray/diagrams.npy\n",
      "Applying Scaler to persistence diagrams.\n",
      "Got the result from ./20/test/filtrations/2/RadialFiltration_26_26/gray/features.npy\n",
      "FiltrationExtractor: processing 20/test/filtrations/2/RadialFiltration_26_26/red, do_fit = False, filtration = RadialFiltration(center=array([26, 26]), n_jobs=-1)\n",
      "Got the result from ./20/test/filtrations/2/RadialFiltration_26_26/red/diagrams.npy\n",
      "Applying Scaler to persistence diagrams.\n",
      "Got the result from ./20/test/filtrations/2/RadialFiltration_26_26/red/features.npy\n",
      "FiltrationExtractor: processing 20/test/filtrations/2/RadialFiltration_26_26/green, do_fit = False, filtration = RadialFiltration(center=array([26, 26]), n_jobs=-1)\n",
      "Got the result from ./20/test/filtrations/2/RadialFiltration_26_26/green/diagrams.npy\n",
      "Applying Scaler to persistence diagrams.\n",
      "Got the result from ./20/test/filtrations/2/RadialFiltration_26_26/green/features.npy\n",
      "FiltrationExtractor: processing 20/test/filtrations/2/RadialFiltration_26_26/blue, do_fit = False, filtration = RadialFiltration(center=array([26, 26]), n_jobs=-1)\n",
      "Got the result from ./20/test/filtrations/2/RadialFiltration_26_26/blue/diagrams.npy\n",
      "Applying Scaler to persistence diagrams.\n",
      "Got the result from ./20/test/filtrations/2/RadialFiltration_26_26/blue/features.npy\n",
      "Applying filtration 25/72: HeightFiltration with d = (-1, -1), bin. thr. = 0.4\n",
      "RGB images received. Transforming to grayscale.\n"
     ]
    },
    {
     "name": "stderr",
     "output_type": "stream",
     "text": [
      "rgb2gray: 100%|██████████| 10000/10000 [00:00<00:00, 19569.40it/s]\n"
     ]
    },
    {
     "name": "stdout",
     "output_type": "stream",
     "text": [
      "FiltrationExtractor: processing 20/test/filtrations/4/HeightFiltrartion_-1_-1/gray, do_fit = False, filtration = HeightFiltration(direction=array([-1, -1]), n_jobs=-1)\n",
      "Got the result from ./20/test/filtrations/4/HeightFiltrartion_-1_-1/gray/diagrams.npy\n",
      "Applying Scaler to persistence diagrams.\n",
      "Got the result from ./20/test/filtrations/4/HeightFiltrartion_-1_-1/gray/features.npy\n",
      "FiltrationExtractor: processing 20/test/filtrations/4/HeightFiltrartion_-1_-1/red, do_fit = False, filtration = HeightFiltration(direction=array([-1, -1]), n_jobs=-1)\n",
      "Got the result from ./20/test/filtrations/4/HeightFiltrartion_-1_-1/red/diagrams.npy\n",
      "Applying Scaler to persistence diagrams.\n",
      "Got the result from ./20/test/filtrations/4/HeightFiltrartion_-1_-1/red/features.npy\n",
      "FiltrationExtractor: processing 20/test/filtrations/4/HeightFiltrartion_-1_-1/green, do_fit = False, filtration = HeightFiltration(direction=array([-1, -1]), n_jobs=-1)\n",
      "Got the result from ./20/test/filtrations/4/HeightFiltrartion_-1_-1/green/diagrams.npy\n",
      "Applying Scaler to persistence diagrams.\n",
      "Got the result from ./20/test/filtrations/4/HeightFiltrartion_-1_-1/green/features.npy\n",
      "FiltrationExtractor: processing 20/test/filtrations/4/HeightFiltrartion_-1_-1/blue, do_fit = False, filtration = HeightFiltration(direction=array([-1, -1]), n_jobs=-1)\n",
      "Got the result from ./20/test/filtrations/4/HeightFiltrartion_-1_-1/blue/diagrams.npy\n",
      "Applying Scaler to persistence diagrams.\n",
      "Got the result from ./20/test/filtrations/4/HeightFiltrartion_-1_-1/blue/features.npy\n",
      "Applying filtration 26/72: HeightFiltration with d = (-1, 0), bin. thr. = 0.4\n",
      "RGB images received. Transforming to grayscale.\n"
     ]
    },
    {
     "name": "stderr",
     "output_type": "stream",
     "text": [
      "rgb2gray: 100%|██████████| 10000/10000 [00:00<00:00, 15772.90it/s]\n"
     ]
    },
    {
     "name": "stdout",
     "output_type": "stream",
     "text": [
      "FiltrationExtractor: processing 20/test/filtrations/4/HeightFiltrartion_-1_0/gray, do_fit = False, filtration = HeightFiltration(direction=array([-1,  0]), n_jobs=-1)\n",
      "Got the result from ./20/test/filtrations/4/HeightFiltrartion_-1_0/gray/diagrams.npy\n",
      "Applying Scaler to persistence diagrams.\n",
      "Got the result from ./20/test/filtrations/4/HeightFiltrartion_-1_0/gray/features.npy\n",
      "FiltrationExtractor: processing 20/test/filtrations/4/HeightFiltrartion_-1_0/red, do_fit = False, filtration = HeightFiltration(direction=array([-1,  0]), n_jobs=-1)\n",
      "Got the result from ./20/test/filtrations/4/HeightFiltrartion_-1_0/red/diagrams.npy\n",
      "Applying Scaler to persistence diagrams.\n",
      "Got the result from ./20/test/filtrations/4/HeightFiltrartion_-1_0/red/features.npy\n",
      "FiltrationExtractor: processing 20/test/filtrations/4/HeightFiltrartion_-1_0/green, do_fit = False, filtration = HeightFiltration(direction=array([-1,  0]), n_jobs=-1)\n",
      "Got the result from ./20/test/filtrations/4/HeightFiltrartion_-1_0/green/diagrams.npy\n",
      "Applying Scaler to persistence diagrams.\n",
      "Got the result from ./20/test/filtrations/4/HeightFiltrartion_-1_0/green/features.npy\n",
      "FiltrationExtractor: processing 20/test/filtrations/4/HeightFiltrartion_-1_0/blue, do_fit = False, filtration = HeightFiltration(direction=array([-1,  0]), n_jobs=-1)\n",
      "Got the result from ./20/test/filtrations/4/HeightFiltrartion_-1_0/blue/diagrams.npy\n",
      "Applying Scaler to persistence diagrams.\n",
      "Got the result from ./20/test/filtrations/4/HeightFiltrartion_-1_0/blue/features.npy\n",
      "Applying filtration 27/72: HeightFiltration with d = (-1, 1), bin. thr. = 0.4\n",
      "RGB images received. Transforming to grayscale.\n"
     ]
    },
    {
     "name": "stderr",
     "output_type": "stream",
     "text": [
      "rgb2gray: 100%|██████████| 10000/10000 [00:00<00:00, 19801.95it/s]\n"
     ]
    },
    {
     "name": "stdout",
     "output_type": "stream",
     "text": [
      "FiltrationExtractor: processing 20/test/filtrations/4/HeightFiltrartion_-1_1/gray, do_fit = False, filtration = HeightFiltration(direction=array([-1,  1]), n_jobs=-1)\n",
      "Got the result from ./20/test/filtrations/4/HeightFiltrartion_-1_1/gray/diagrams.npy\n",
      "Applying Scaler to persistence diagrams.\n",
      "Got the result from ./20/test/filtrations/4/HeightFiltrartion_-1_1/gray/features.npy\n",
      "FiltrationExtractor: processing 20/test/filtrations/4/HeightFiltrartion_-1_1/red, do_fit = False, filtration = HeightFiltration(direction=array([-1,  1]), n_jobs=-1)\n",
      "Got the result from ./20/test/filtrations/4/HeightFiltrartion_-1_1/red/diagrams.npy\n",
      "Applying Scaler to persistence diagrams.\n",
      "Got the result from ./20/test/filtrations/4/HeightFiltrartion_-1_1/red/features.npy\n",
      "FiltrationExtractor: processing 20/test/filtrations/4/HeightFiltrartion_-1_1/green, do_fit = False, filtration = HeightFiltration(direction=array([-1,  1]), n_jobs=-1)\n",
      "Got the result from ./20/test/filtrations/4/HeightFiltrartion_-1_1/green/diagrams.npy\n",
      "Applying Scaler to persistence diagrams.\n",
      "Got the result from ./20/test/filtrations/4/HeightFiltrartion_-1_1/green/features.npy\n",
      "FiltrationExtractor: processing 20/test/filtrations/4/HeightFiltrartion_-1_1/blue, do_fit = False, filtration = HeightFiltration(direction=array([-1,  1]), n_jobs=-1)\n",
      "Got the result from ./20/test/filtrations/4/HeightFiltrartion_-1_1/blue/diagrams.npy\n",
      "Applying Scaler to persistence diagrams.\n",
      "Got the result from ./20/test/filtrations/4/HeightFiltrartion_-1_1/blue/features.npy\n",
      "Applying filtration 28/72: HeightFiltration with d = (0, -1), bin. thr. = 0.4\n",
      "RGB images received. Transforming to grayscale.\n"
     ]
    },
    {
     "name": "stderr",
     "output_type": "stream",
     "text": [
      "rgb2gray: 100%|██████████| 10000/10000 [00:00<00:00, 20833.37it/s]\n"
     ]
    },
    {
     "name": "stdout",
     "output_type": "stream",
     "text": [
      "FiltrationExtractor: processing 20/test/filtrations/4/HeightFiltrartion_0_-1/gray, do_fit = False, filtration = HeightFiltration(direction=array([ 0, -1]), n_jobs=-1)\n",
      "Got the result from ./20/test/filtrations/4/HeightFiltrartion_0_-1/gray/diagrams.npy\n",
      "Applying Scaler to persistence diagrams.\n",
      "Got the result from ./20/test/filtrations/4/HeightFiltrartion_0_-1/gray/features.npy\n",
      "FiltrationExtractor: processing 20/test/filtrations/4/HeightFiltrartion_0_-1/red, do_fit = False, filtration = HeightFiltration(direction=array([ 0, -1]), n_jobs=-1)\n",
      "Got the result from ./20/test/filtrations/4/HeightFiltrartion_0_-1/red/diagrams.npy\n",
      "Applying Scaler to persistence diagrams.\n",
      "Got the result from ./20/test/filtrations/4/HeightFiltrartion_0_-1/red/features.npy\n",
      "FiltrationExtractor: processing 20/test/filtrations/4/HeightFiltrartion_0_-1/green, do_fit = False, filtration = HeightFiltration(direction=array([ 0, -1]), n_jobs=-1)\n",
      "Got the result from ./20/test/filtrations/4/HeightFiltrartion_0_-1/green/diagrams.npy\n",
      "Applying Scaler to persistence diagrams.\n",
      "Got the result from ./20/test/filtrations/4/HeightFiltrartion_0_-1/green/features.npy\n",
      "FiltrationExtractor: processing 20/test/filtrations/4/HeightFiltrartion_0_-1/blue, do_fit = False, filtration = HeightFiltration(direction=array([ 0, -1]), n_jobs=-1)\n",
      "Got the result from ./20/test/filtrations/4/HeightFiltrartion_0_-1/blue/diagrams.npy\n",
      "Applying Scaler to persistence diagrams.\n",
      "Got the result from ./20/test/filtrations/4/HeightFiltrartion_0_-1/blue/features.npy\n",
      "Applying filtration 29/72: HeightFiltration with d = (0, 1), bin. thr. = 0.4\n",
      "RGB images received. Transforming to grayscale.\n"
     ]
    },
    {
     "name": "stderr",
     "output_type": "stream",
     "text": [
      "rgb2gray: 100%|██████████| 10000/10000 [00:00<00:00, 21141.77it/s]\n"
     ]
    },
    {
     "name": "stdout",
     "output_type": "stream",
     "text": [
      "FiltrationExtractor: processing 20/test/filtrations/4/HeightFiltrartion_0_1/gray, do_fit = False, filtration = HeightFiltration(direction=array([0, 1]), n_jobs=-1)\n",
      "Got the result from ./20/test/filtrations/4/HeightFiltrartion_0_1/gray/diagrams.npy\n",
      "Applying Scaler to persistence diagrams.\n",
      "Got the result from ./20/test/filtrations/4/HeightFiltrartion_0_1/gray/features.npy\n",
      "FiltrationExtractor: processing 20/test/filtrations/4/HeightFiltrartion_0_1/red, do_fit = False, filtration = HeightFiltration(direction=array([0, 1]), n_jobs=-1)\n",
      "Got the result from ./20/test/filtrations/4/HeightFiltrartion_0_1/red/diagrams.npy\n",
      "Applying Scaler to persistence diagrams.\n",
      "Got the result from ./20/test/filtrations/4/HeightFiltrartion_0_1/red/features.npy\n",
      "FiltrationExtractor: processing 20/test/filtrations/4/HeightFiltrartion_0_1/green, do_fit = False, filtration = HeightFiltration(direction=array([0, 1]), n_jobs=-1)\n",
      "Got the result from ./20/test/filtrations/4/HeightFiltrartion_0_1/green/diagrams.npy\n",
      "Applying Scaler to persistence diagrams.\n",
      "Got the result from ./20/test/filtrations/4/HeightFiltrartion_0_1/green/features.npy\n",
      "FiltrationExtractor: processing 20/test/filtrations/4/HeightFiltrartion_0_1/blue, do_fit = False, filtration = HeightFiltration(direction=array([0, 1]), n_jobs=-1)\n",
      "Got the result from ./20/test/filtrations/4/HeightFiltrartion_0_1/blue/diagrams.npy\n",
      "Applying Scaler to persistence diagrams.\n",
      "Got the result from ./20/test/filtrations/4/HeightFiltrartion_0_1/blue/features.npy\n",
      "Applying filtration 30/72: HeightFiltration with d = (1, -1), bin. thr. = 0.4\n",
      "RGB images received. Transforming to grayscale.\n"
     ]
    },
    {
     "name": "stderr",
     "output_type": "stream",
     "text": [
      "rgb2gray: 100%|██████████| 10000/10000 [00:00<00:00, 20618.51it/s]\n"
     ]
    },
    {
     "name": "stdout",
     "output_type": "stream",
     "text": [
      "FiltrationExtractor: processing 20/test/filtrations/4/HeightFiltrartion_1_-1/gray, do_fit = False, filtration = HeightFiltration(direction=array([ 1, -1]), n_jobs=-1)\n",
      "Got the result from ./20/test/filtrations/4/HeightFiltrartion_1_-1/gray/diagrams.npy\n",
      "Applying Scaler to persistence diagrams.\n",
      "Got the result from ./20/test/filtrations/4/HeightFiltrartion_1_-1/gray/features.npy\n",
      "FiltrationExtractor: processing 20/test/filtrations/4/HeightFiltrartion_1_-1/red, do_fit = False, filtration = HeightFiltration(direction=array([ 1, -1]), n_jobs=-1)\n",
      "Got the result from ./20/test/filtrations/4/HeightFiltrartion_1_-1/red/diagrams.npy\n",
      "Applying Scaler to persistence diagrams.\n",
      "Got the result from ./20/test/filtrations/4/HeightFiltrartion_1_-1/red/features.npy\n",
      "FiltrationExtractor: processing 20/test/filtrations/4/HeightFiltrartion_1_-1/green, do_fit = False, filtration = HeightFiltration(direction=array([ 1, -1]), n_jobs=-1)\n",
      "Got the result from ./20/test/filtrations/4/HeightFiltrartion_1_-1/green/diagrams.npy\n",
      "Applying Scaler to persistence diagrams.\n",
      "Got the result from ./20/test/filtrations/4/HeightFiltrartion_1_-1/green/features.npy\n",
      "FiltrationExtractor: processing 20/test/filtrations/4/HeightFiltrartion_1_-1/blue, do_fit = False, filtration = HeightFiltration(direction=array([ 1, -1]), n_jobs=-1)\n",
      "Got the result from ./20/test/filtrations/4/HeightFiltrartion_1_-1/blue/diagrams.npy\n",
      "Applying Scaler to persistence diagrams.\n",
      "Got the result from ./20/test/filtrations/4/HeightFiltrartion_1_-1/blue/features.npy\n",
      "Applying filtration 31/72: HeightFiltration with d = (1, 0), bin. thr. = 0.4\n",
      "RGB images received. Transforming to grayscale.\n"
     ]
    },
    {
     "name": "stderr",
     "output_type": "stream",
     "text": [
      "rgb2gray: 100%|██████████| 10000/10000 [00:00<00:00, 21231.48it/s]\n"
     ]
    },
    {
     "name": "stdout",
     "output_type": "stream",
     "text": [
      "FiltrationExtractor: processing 20/test/filtrations/4/HeightFiltrartion_1_0/gray, do_fit = False, filtration = HeightFiltration(direction=array([1, 0]), n_jobs=-1)\n",
      "Got the result from ./20/test/filtrations/4/HeightFiltrartion_1_0/gray/diagrams.npy\n",
      "Applying Scaler to persistence diagrams.\n",
      "Got the result from ./20/test/filtrations/4/HeightFiltrartion_1_0/gray/features.npy\n",
      "FiltrationExtractor: processing 20/test/filtrations/4/HeightFiltrartion_1_0/red, do_fit = False, filtration = HeightFiltration(direction=array([1, 0]), n_jobs=-1)\n",
      "Got the result from ./20/test/filtrations/4/HeightFiltrartion_1_0/red/diagrams.npy\n",
      "Applying Scaler to persistence diagrams.\n",
      "Got the result from ./20/test/filtrations/4/HeightFiltrartion_1_0/red/features.npy\n",
      "FiltrationExtractor: processing 20/test/filtrations/4/HeightFiltrartion_1_0/green, do_fit = False, filtration = HeightFiltration(direction=array([1, 0]), n_jobs=-1)\n",
      "Got the result from ./20/test/filtrations/4/HeightFiltrartion_1_0/green/diagrams.npy\n",
      "Applying Scaler to persistence diagrams.\n",
      "Got the result from ./20/test/filtrations/4/HeightFiltrartion_1_0/green/features.npy\n",
      "FiltrationExtractor: processing 20/test/filtrations/4/HeightFiltrartion_1_0/blue, do_fit = False, filtration = HeightFiltration(direction=array([1, 0]), n_jobs=-1)\n",
      "Got the result from ./20/test/filtrations/4/HeightFiltrartion_1_0/blue/diagrams.npy\n",
      "Applying Scaler to persistence diagrams.\n",
      "Got the result from ./20/test/filtrations/4/HeightFiltrartion_1_0/blue/features.npy\n",
      "Applying filtration 32/72: HeightFiltration with d = (1, 1), bin. thr. = 0.4\n",
      "RGB images received. Transforming to grayscale.\n"
     ]
    },
    {
     "name": "stderr",
     "output_type": "stream",
     "text": [
      "rgb2gray: 100%|██████████| 10000/10000 [00:00<00:00, 15454.99it/s]\n"
     ]
    },
    {
     "name": "stdout",
     "output_type": "stream",
     "text": [
      "FiltrationExtractor: processing 20/test/filtrations/4/HeightFiltrartion_1_1/gray, do_fit = False, filtration = HeightFiltration(direction=array([1, 1]), n_jobs=-1)\n",
      "Got the result from ./20/test/filtrations/4/HeightFiltrartion_1_1/gray/diagrams.npy\n",
      "Applying Scaler to persistence diagrams.\n",
      "Got the result from ./20/test/filtrations/4/HeightFiltrartion_1_1/gray/features.npy\n",
      "FiltrationExtractor: processing 20/test/filtrations/4/HeightFiltrartion_1_1/red, do_fit = False, filtration = HeightFiltration(direction=array([1, 1]), n_jobs=-1)\n",
      "Got the result from ./20/test/filtrations/4/HeightFiltrartion_1_1/red/diagrams.npy\n",
      "Applying Scaler to persistence diagrams.\n",
      "Got the result from ./20/test/filtrations/4/HeightFiltrartion_1_1/red/features.npy\n",
      "FiltrationExtractor: processing 20/test/filtrations/4/HeightFiltrartion_1_1/green, do_fit = False, filtration = HeightFiltration(direction=array([1, 1]), n_jobs=-1)\n",
      "Got the result from ./20/test/filtrations/4/HeightFiltrartion_1_1/green/diagrams.npy\n",
      "Applying Scaler to persistence diagrams.\n",
      "Got the result from ./20/test/filtrations/4/HeightFiltrartion_1_1/green/features.npy\n",
      "FiltrationExtractor: processing 20/test/filtrations/4/HeightFiltrartion_1_1/blue, do_fit = False, filtration = HeightFiltration(direction=array([1, 1]), n_jobs=-1)\n",
      "Got the result from ./20/test/filtrations/4/HeightFiltrartion_1_1/blue/diagrams.npy\n",
      "Applying Scaler to persistence diagrams.\n",
      "Got the result from ./20/test/filtrations/4/HeightFiltrartion_1_1/blue/features.npy\n",
      "Applying filtration 33/72: RadialFiltration with c = (5, 5), bin. thr. = 0.4\n",
      "RGB images received. Transforming to grayscale.\n"
     ]
    },
    {
     "name": "stderr",
     "output_type": "stream",
     "text": [
      "rgb2gray: 100%|██████████| 10000/10000 [00:00<00:00, 19685.15it/s]\n"
     ]
    },
    {
     "name": "stdout",
     "output_type": "stream",
     "text": [
      "FiltrationExtractor: processing 20/test/filtrations/4/RadialFiltration_5_5/gray, do_fit = False, filtration = RadialFiltration(center=array([5, 5]), n_jobs=-1)\n",
      "Got the result from ./20/test/filtrations/4/RadialFiltration_5_5/gray/diagrams.npy\n",
      "Applying Scaler to persistence diagrams.\n",
      "Got the result from ./20/test/filtrations/4/RadialFiltration_5_5/gray/features.npy\n",
      "FiltrationExtractor: processing 20/test/filtrations/4/RadialFiltration_5_5/red, do_fit = False, filtration = RadialFiltration(center=array([5, 5]), n_jobs=-1)\n",
      "Got the result from ./20/test/filtrations/4/RadialFiltration_5_5/red/diagrams.npy\n",
      "Applying Scaler to persistence diagrams.\n",
      "Got the result from ./20/test/filtrations/4/RadialFiltration_5_5/red/features.npy\n",
      "FiltrationExtractor: processing 20/test/filtrations/4/RadialFiltration_5_5/green, do_fit = False, filtration = RadialFiltration(center=array([5, 5]), n_jobs=-1)\n",
      "Got the result from ./20/test/filtrations/4/RadialFiltration_5_5/green/diagrams.npy\n",
      "Applying Scaler to persistence diagrams.\n",
      "Got the result from ./20/test/filtrations/4/RadialFiltration_5_5/green/features.npy\n",
      "FiltrationExtractor: processing 20/test/filtrations/4/RadialFiltration_5_5/blue, do_fit = False, filtration = RadialFiltration(center=array([5, 5]), n_jobs=-1)\n",
      "Got the result from ./20/test/filtrations/4/RadialFiltration_5_5/blue/diagrams.npy\n",
      "Applying Scaler to persistence diagrams.\n",
      "Got the result from ./20/test/filtrations/4/RadialFiltration_5_5/blue/features.npy\n",
      "Applying filtration 34/72: RadialFiltration with c = (5, 12), bin. thr. = 0.4\n",
      "RGB images received. Transforming to grayscale.\n"
     ]
    },
    {
     "name": "stderr",
     "output_type": "stream",
     "text": [
      "rgb2gray: 100%|██████████| 10000/10000 [00:00<00:00, 20284.89it/s]\n"
     ]
    },
    {
     "name": "stdout",
     "output_type": "stream",
     "text": [
      "FiltrationExtractor: processing 20/test/filtrations/4/RadialFiltration_5_12/gray, do_fit = False, filtration = RadialFiltration(center=array([ 5, 12]), n_jobs=-1)\n",
      "Got the result from ./20/test/filtrations/4/RadialFiltration_5_12/gray/diagrams.npy\n",
      "Applying Scaler to persistence diagrams.\n",
      "Got the result from ./20/test/filtrations/4/RadialFiltration_5_12/gray/features.npy\n",
      "FiltrationExtractor: processing 20/test/filtrations/4/RadialFiltration_5_12/red, do_fit = False, filtration = RadialFiltration(center=array([ 5, 12]), n_jobs=-1)\n",
      "Got the result from ./20/test/filtrations/4/RadialFiltration_5_12/red/diagrams.npy\n",
      "Applying Scaler to persistence diagrams.\n",
      "Got the result from ./20/test/filtrations/4/RadialFiltration_5_12/red/features.npy\n",
      "FiltrationExtractor: processing 20/test/filtrations/4/RadialFiltration_5_12/green, do_fit = False, filtration = RadialFiltration(center=array([ 5, 12]), n_jobs=-1)\n",
      "Got the result from ./20/test/filtrations/4/RadialFiltration_5_12/green/diagrams.npy\n",
      "Applying Scaler to persistence diagrams.\n",
      "Got the result from ./20/test/filtrations/4/RadialFiltration_5_12/green/features.npy\n",
      "FiltrationExtractor: processing 20/test/filtrations/4/RadialFiltration_5_12/blue, do_fit = False, filtration = RadialFiltration(center=array([ 5, 12]), n_jobs=-1)\n",
      "Got the result from ./20/test/filtrations/4/RadialFiltration_5_12/blue/diagrams.npy\n",
      "Applying Scaler to persistence diagrams.\n",
      "Got the result from ./20/test/filtrations/4/RadialFiltration_5_12/blue/features.npy\n",
      "Applying filtration 35/72: RadialFiltration with c = (5, 19), bin. thr. = 0.4\n",
      "RGB images received. Transforming to grayscale.\n"
     ]
    },
    {
     "name": "stderr",
     "output_type": "stream",
     "text": [
      "rgb2gray: 100%|██████████| 10000/10000 [00:00<00:00, 20790.10it/s]\n"
     ]
    },
    {
     "name": "stdout",
     "output_type": "stream",
     "text": [
      "FiltrationExtractor: processing 20/test/filtrations/4/RadialFiltration_5_19/gray, do_fit = False, filtration = RadialFiltration(center=array([ 5, 19]), n_jobs=-1)\n",
      "Got the result from ./20/test/filtrations/4/RadialFiltration_5_19/gray/diagrams.npy\n",
      "Applying Scaler to persistence diagrams.\n",
      "Got the result from ./20/test/filtrations/4/RadialFiltration_5_19/gray/features.npy\n",
      "FiltrationExtractor: processing 20/test/filtrations/4/RadialFiltration_5_19/red, do_fit = False, filtration = RadialFiltration(center=array([ 5, 19]), n_jobs=-1)\n",
      "Got the result from ./20/test/filtrations/4/RadialFiltration_5_19/red/diagrams.npy\n",
      "Applying Scaler to persistence diagrams.\n",
      "Got the result from ./20/test/filtrations/4/RadialFiltration_5_19/red/features.npy\n",
      "FiltrationExtractor: processing 20/test/filtrations/4/RadialFiltration_5_19/green, do_fit = False, filtration = RadialFiltration(center=array([ 5, 19]), n_jobs=-1)\n",
      "Got the result from ./20/test/filtrations/4/RadialFiltration_5_19/green/diagrams.npy\n",
      "Applying Scaler to persistence diagrams.\n",
      "Got the result from ./20/test/filtrations/4/RadialFiltration_5_19/green/features.npy\n",
      "FiltrationExtractor: processing 20/test/filtrations/4/RadialFiltration_5_19/blue, do_fit = False, filtration = RadialFiltration(center=array([ 5, 19]), n_jobs=-1)\n",
      "Got the result from ./20/test/filtrations/4/RadialFiltration_5_19/blue/diagrams.npy\n",
      "Applying Scaler to persistence diagrams.\n",
      "Got the result from ./20/test/filtrations/4/RadialFiltration_5_19/blue/features.npy\n",
      "Applying filtration 36/72: RadialFiltration with c = (5, 26), bin. thr. = 0.4\n",
      "RGB images received. Transforming to grayscale.\n"
     ]
    },
    {
     "name": "stderr",
     "output_type": "stream",
     "text": [
      "rgb2gray: 100%|██████████| 10000/10000 [00:00<00:00, 21413.29it/s]\n"
     ]
    },
    {
     "name": "stdout",
     "output_type": "stream",
     "text": [
      "FiltrationExtractor: processing 20/test/filtrations/4/RadialFiltration_5_26/gray, do_fit = False, filtration = RadialFiltration(center=array([ 5, 26]), n_jobs=-1)\n",
      "Got the result from ./20/test/filtrations/4/RadialFiltration_5_26/gray/diagrams.npy\n",
      "Applying Scaler to persistence diagrams.\n",
      "Got the result from ./20/test/filtrations/4/RadialFiltration_5_26/gray/features.npy\n",
      "FiltrationExtractor: processing 20/test/filtrations/4/RadialFiltration_5_26/red, do_fit = False, filtration = RadialFiltration(center=array([ 5, 26]), n_jobs=-1)\n",
      "Got the result from ./20/test/filtrations/4/RadialFiltration_5_26/red/diagrams.npy\n",
      "Applying Scaler to persistence diagrams.\n",
      "Got the result from ./20/test/filtrations/4/RadialFiltration_5_26/red/features.npy\n",
      "FiltrationExtractor: processing 20/test/filtrations/4/RadialFiltration_5_26/green, do_fit = False, filtration = RadialFiltration(center=array([ 5, 26]), n_jobs=-1)\n",
      "Got the result from ./20/test/filtrations/4/RadialFiltration_5_26/green/diagrams.npy\n",
      "Applying Scaler to persistence diagrams.\n",
      "Got the result from ./20/test/filtrations/4/RadialFiltration_5_26/green/features.npy\n",
      "FiltrationExtractor: processing 20/test/filtrations/4/RadialFiltration_5_26/blue, do_fit = False, filtration = RadialFiltration(center=array([ 5, 26]), n_jobs=-1)\n",
      "Got the result from ./20/test/filtrations/4/RadialFiltration_5_26/blue/diagrams.npy\n",
      "Applying Scaler to persistence diagrams.\n",
      "Got the result from ./20/test/filtrations/4/RadialFiltration_5_26/blue/features.npy\n",
      "Applying filtration 37/72: RadialFiltration with c = (12, 5), bin. thr. = 0.4\n",
      "RGB images received. Transforming to grayscale.\n"
     ]
    },
    {
     "name": "stderr",
     "output_type": "stream",
     "text": [
      "rgb2gray: 100%|██████████| 10000/10000 [00:00<00:00, 20161.27it/s]\n"
     ]
    },
    {
     "name": "stdout",
     "output_type": "stream",
     "text": [
      "FiltrationExtractor: processing 20/test/filtrations/4/RadialFiltration_12_5/gray, do_fit = False, filtration = RadialFiltration(center=array([12,  5]), n_jobs=-1)\n",
      "Got the result from ./20/test/filtrations/4/RadialFiltration_12_5/gray/diagrams.npy\n",
      "Applying Scaler to persistence diagrams.\n",
      "Got the result from ./20/test/filtrations/4/RadialFiltration_12_5/gray/features.npy\n",
      "FiltrationExtractor: processing 20/test/filtrations/4/RadialFiltration_12_5/red, do_fit = False, filtration = RadialFiltration(center=array([12,  5]), n_jobs=-1)\n",
      "Got the result from ./20/test/filtrations/4/RadialFiltration_12_5/red/diagrams.npy\n",
      "Applying Scaler to persistence diagrams.\n",
      "Got the result from ./20/test/filtrations/4/RadialFiltration_12_5/red/features.npy\n",
      "FiltrationExtractor: processing 20/test/filtrations/4/RadialFiltration_12_5/green, do_fit = False, filtration = RadialFiltration(center=array([12,  5]), n_jobs=-1)\n",
      "Got the result from ./20/test/filtrations/4/RadialFiltration_12_5/green/diagrams.npy\n",
      "Applying Scaler to persistence diagrams.\n",
      "Got the result from ./20/test/filtrations/4/RadialFiltration_12_5/green/features.npy\n",
      "FiltrationExtractor: processing 20/test/filtrations/4/RadialFiltration_12_5/blue, do_fit = False, filtration = RadialFiltration(center=array([12,  5]), n_jobs=-1)\n",
      "Got the result from ./20/test/filtrations/4/RadialFiltration_12_5/blue/diagrams.npy\n",
      "Applying Scaler to persistence diagrams.\n",
      "Got the result from ./20/test/filtrations/4/RadialFiltration_12_5/blue/features.npy\n",
      "Applying filtration 38/72: RadialFiltration with c = (12, 12), bin. thr. = 0.4\n",
      "RGB images received. Transforming to grayscale.\n"
     ]
    },
    {
     "name": "stderr",
     "output_type": "stream",
     "text": [
      "rgb2gray: 100%|██████████| 10000/10000 [00:00<00:00, 17739.93it/s]\n"
     ]
    },
    {
     "name": "stdout",
     "output_type": "stream",
     "text": [
      "FiltrationExtractor: processing 20/test/filtrations/4/RadialFiltration_12_12/gray, do_fit = False, filtration = RadialFiltration(center=array([12, 12]), n_jobs=-1)\n",
      "Got the result from ./20/test/filtrations/4/RadialFiltration_12_12/gray/diagrams.npy\n",
      "Applying Scaler to persistence diagrams.\n",
      "Got the result from ./20/test/filtrations/4/RadialFiltration_12_12/gray/features.npy\n",
      "FiltrationExtractor: processing 20/test/filtrations/4/RadialFiltration_12_12/red, do_fit = False, filtration = RadialFiltration(center=array([12, 12]), n_jobs=-1)\n",
      "Got the result from ./20/test/filtrations/4/RadialFiltration_12_12/red/diagrams.npy\n",
      "Applying Scaler to persistence diagrams.\n",
      "Got the result from ./20/test/filtrations/4/RadialFiltration_12_12/red/features.npy\n",
      "FiltrationExtractor: processing 20/test/filtrations/4/RadialFiltration_12_12/green, do_fit = False, filtration = RadialFiltration(center=array([12, 12]), n_jobs=-1)\n",
      "Got the result from ./20/test/filtrations/4/RadialFiltration_12_12/green/diagrams.npy\n",
      "Applying Scaler to persistence diagrams.\n",
      "Got the result from ./20/test/filtrations/4/RadialFiltration_12_12/green/features.npy\n",
      "FiltrationExtractor: processing 20/test/filtrations/4/RadialFiltration_12_12/blue, do_fit = False, filtration = RadialFiltration(center=array([12, 12]), n_jobs=-1)\n",
      "Got the result from ./20/test/filtrations/4/RadialFiltration_12_12/blue/diagrams.npy\n",
      "Applying Scaler to persistence diagrams.\n",
      "Got the result from ./20/test/filtrations/4/RadialFiltration_12_12/blue/features.npy\n",
      "Applying filtration 39/72: RadialFiltration with c = (12, 19), bin. thr. = 0.4\n",
      "RGB images received. Transforming to grayscale.\n"
     ]
    },
    {
     "name": "stderr",
     "output_type": "stream",
     "text": [
      "rgb2gray: 100%|██████████| 10000/10000 [00:00<00:00, 19305.03it/s]\n"
     ]
    },
    {
     "name": "stdout",
     "output_type": "stream",
     "text": [
      "FiltrationExtractor: processing 20/test/filtrations/4/RadialFiltration_12_19/gray, do_fit = False, filtration = RadialFiltration(center=array([12, 19]), n_jobs=-1)\n",
      "Got the result from ./20/test/filtrations/4/RadialFiltration_12_19/gray/diagrams.npy\n",
      "Applying Scaler to persistence diagrams.\n",
      "Got the result from ./20/test/filtrations/4/RadialFiltration_12_19/gray/features.npy\n",
      "FiltrationExtractor: processing 20/test/filtrations/4/RadialFiltration_12_19/red, do_fit = False, filtration = RadialFiltration(center=array([12, 19]), n_jobs=-1)\n",
      "Got the result from ./20/test/filtrations/4/RadialFiltration_12_19/red/diagrams.npy\n",
      "Applying Scaler to persistence diagrams.\n",
      "Got the result from ./20/test/filtrations/4/RadialFiltration_12_19/red/features.npy\n",
      "FiltrationExtractor: processing 20/test/filtrations/4/RadialFiltration_12_19/green, do_fit = False, filtration = RadialFiltration(center=array([12, 19]), n_jobs=-1)\n",
      "Got the result from ./20/test/filtrations/4/RadialFiltration_12_19/green/diagrams.npy\n",
      "Applying Scaler to persistence diagrams.\n",
      "Got the result from ./20/test/filtrations/4/RadialFiltration_12_19/green/features.npy\n",
      "FiltrationExtractor: processing 20/test/filtrations/4/RadialFiltration_12_19/blue, do_fit = False, filtration = RadialFiltration(center=array([12, 19]), n_jobs=-1)\n",
      "Got the result from ./20/test/filtrations/4/RadialFiltration_12_19/blue/diagrams.npy\n",
      "Applying Scaler to persistence diagrams.\n",
      "Got the result from ./20/test/filtrations/4/RadialFiltration_12_19/blue/features.npy\n",
      "Applying filtration 40/72: RadialFiltration with c = (12, 26), bin. thr. = 0.4\n",
      "RGB images received. Transforming to grayscale.\n"
     ]
    },
    {
     "name": "stderr",
     "output_type": "stream",
     "text": [
      "rgb2gray: 100%|██████████| 10000/10000 [00:00<00:00, 19999.97it/s]\n"
     ]
    },
    {
     "name": "stdout",
     "output_type": "stream",
     "text": [
      "FiltrationExtractor: processing 20/test/filtrations/4/RadialFiltration_12_26/gray, do_fit = False, filtration = RadialFiltration(center=array([12, 26]), n_jobs=-1)\n",
      "Got the result from ./20/test/filtrations/4/RadialFiltration_12_26/gray/diagrams.npy\n",
      "Applying Scaler to persistence diagrams.\n",
      "Got the result from ./20/test/filtrations/4/RadialFiltration_12_26/gray/features.npy\n",
      "FiltrationExtractor: processing 20/test/filtrations/4/RadialFiltration_12_26/red, do_fit = False, filtration = RadialFiltration(center=array([12, 26]), n_jobs=-1)\n",
      "Got the result from ./20/test/filtrations/4/RadialFiltration_12_26/red/diagrams.npy\n",
      "Applying Scaler to persistence diagrams.\n",
      "Got the result from ./20/test/filtrations/4/RadialFiltration_12_26/red/features.npy\n",
      "FiltrationExtractor: processing 20/test/filtrations/4/RadialFiltration_12_26/green, do_fit = False, filtration = RadialFiltration(center=array([12, 26]), n_jobs=-1)\n",
      "Got the result from ./20/test/filtrations/4/RadialFiltration_12_26/green/diagrams.npy\n",
      "Applying Scaler to persistence diagrams.\n",
      "Got the result from ./20/test/filtrations/4/RadialFiltration_12_26/green/features.npy\n",
      "FiltrationExtractor: processing 20/test/filtrations/4/RadialFiltration_12_26/blue, do_fit = False, filtration = RadialFiltration(center=array([12, 26]), n_jobs=-1)\n",
      "Got the result from ./20/test/filtrations/4/RadialFiltration_12_26/blue/diagrams.npy\n",
      "Applying Scaler to persistence diagrams.\n",
      "Got the result from ./20/test/filtrations/4/RadialFiltration_12_26/blue/features.npy\n",
      "Applying filtration 41/72: RadialFiltration with c = (19, 5), bin. thr. = 0.4\n",
      "RGB images received. Transforming to grayscale.\n"
     ]
    },
    {
     "name": "stderr",
     "output_type": "stream",
     "text": [
      "rgb2gray: 100%|██████████| 10000/10000 [00:00<00:00, 21600.48it/s]\n"
     ]
    },
    {
     "name": "stdout",
     "output_type": "stream",
     "text": [
      "FiltrationExtractor: processing 20/test/filtrations/4/RadialFiltration_19_5/gray, do_fit = False, filtration = RadialFiltration(center=array([19,  5]), n_jobs=-1)\n",
      "Got the result from ./20/test/filtrations/4/RadialFiltration_19_5/gray/diagrams.npy\n",
      "Applying Scaler to persistence diagrams.\n",
      "Got the result from ./20/test/filtrations/4/RadialFiltration_19_5/gray/features.npy\n",
      "FiltrationExtractor: processing 20/test/filtrations/4/RadialFiltration_19_5/red, do_fit = False, filtration = RadialFiltration(center=array([19,  5]), n_jobs=-1)\n",
      "Got the result from ./20/test/filtrations/4/RadialFiltration_19_5/red/diagrams.npy\n",
      "Applying Scaler to persistence diagrams.\n",
      "Got the result from ./20/test/filtrations/4/RadialFiltration_19_5/red/features.npy\n",
      "FiltrationExtractor: processing 20/test/filtrations/4/RadialFiltration_19_5/green, do_fit = False, filtration = RadialFiltration(center=array([19,  5]), n_jobs=-1)\n",
      "Got the result from ./20/test/filtrations/4/RadialFiltration_19_5/green/diagrams.npy\n",
      "Applying Scaler to persistence diagrams.\n",
      "Got the result from ./20/test/filtrations/4/RadialFiltration_19_5/green/features.npy\n",
      "FiltrationExtractor: processing 20/test/filtrations/4/RadialFiltration_19_5/blue, do_fit = False, filtration = RadialFiltration(center=array([19,  5]), n_jobs=-1)\n",
      "Got the result from ./20/test/filtrations/4/RadialFiltration_19_5/blue/diagrams.npy\n",
      "Applying Scaler to persistence diagrams.\n",
      "Got the result from ./20/test/filtrations/4/RadialFiltration_19_5/blue/features.npy\n",
      "Applying filtration 42/72: RadialFiltration with c = (19, 12), bin. thr. = 0.4\n",
      "RGB images received. Transforming to grayscale.\n"
     ]
    },
    {
     "name": "stderr",
     "output_type": "stream",
     "text": [
      "rgb2gray: 100%|██████████| 10000/10000 [00:00<00:00, 19192.58it/s]\n"
     ]
    },
    {
     "name": "stdout",
     "output_type": "stream",
     "text": [
      "FiltrationExtractor: processing 20/test/filtrations/4/RadialFiltration_19_12/gray, do_fit = False, filtration = RadialFiltration(center=array([19, 12]), n_jobs=-1)\n",
      "Got the result from ./20/test/filtrations/4/RadialFiltration_19_12/gray/diagrams.npy\n",
      "Applying Scaler to persistence diagrams.\n",
      "Got the result from ./20/test/filtrations/4/RadialFiltration_19_12/gray/features.npy\n",
      "FiltrationExtractor: processing 20/test/filtrations/4/RadialFiltration_19_12/red, do_fit = False, filtration = RadialFiltration(center=array([19, 12]), n_jobs=-1)\n",
      "Got the result from ./20/test/filtrations/4/RadialFiltration_19_12/red/diagrams.npy\n",
      "Applying Scaler to persistence diagrams.\n",
      "Got the result from ./20/test/filtrations/4/RadialFiltration_19_12/red/features.npy\n",
      "FiltrationExtractor: processing 20/test/filtrations/4/RadialFiltration_19_12/green, do_fit = False, filtration = RadialFiltration(center=array([19, 12]), n_jobs=-1)\n",
      "Got the result from ./20/test/filtrations/4/RadialFiltration_19_12/green/diagrams.npy\n",
      "Applying Scaler to persistence diagrams.\n",
      "Got the result from ./20/test/filtrations/4/RadialFiltration_19_12/green/features.npy\n",
      "FiltrationExtractor: processing 20/test/filtrations/4/RadialFiltration_19_12/blue, do_fit = False, filtration = RadialFiltration(center=array([19, 12]), n_jobs=-1)\n",
      "Got the result from ./20/test/filtrations/4/RadialFiltration_19_12/blue/diagrams.npy\n",
      "Applying Scaler to persistence diagrams.\n",
      "Got the result from ./20/test/filtrations/4/RadialFiltration_19_12/blue/features.npy\n",
      "Applying filtration 43/72: RadialFiltration with c = (19, 19), bin. thr. = 0.4\n",
      "RGB images received. Transforming to grayscale.\n"
     ]
    },
    {
     "name": "stderr",
     "output_type": "stream",
     "text": [
      "rgb2gray: 100%|██████████| 10000/10000 [00:00<00:00, 20202.04it/s]\n"
     ]
    },
    {
     "name": "stdout",
     "output_type": "stream",
     "text": [
      "FiltrationExtractor: processing 20/test/filtrations/4/RadialFiltration_19_19/gray, do_fit = False, filtration = RadialFiltration(center=array([19, 19]), n_jobs=-1)\n",
      "Got the result from ./20/test/filtrations/4/RadialFiltration_19_19/gray/diagrams.npy\n",
      "Applying Scaler to persistence diagrams.\n",
      "Got the result from ./20/test/filtrations/4/RadialFiltration_19_19/gray/features.npy\n",
      "FiltrationExtractor: processing 20/test/filtrations/4/RadialFiltration_19_19/red, do_fit = False, filtration = RadialFiltration(center=array([19, 19]), n_jobs=-1)\n",
      "Got the result from ./20/test/filtrations/4/RadialFiltration_19_19/red/diagrams.npy\n",
      "Applying Scaler to persistence diagrams.\n",
      "Got the result from ./20/test/filtrations/4/RadialFiltration_19_19/red/features.npy\n",
      "FiltrationExtractor: processing 20/test/filtrations/4/RadialFiltration_19_19/green, do_fit = False, filtration = RadialFiltration(center=array([19, 19]), n_jobs=-1)\n",
      "Got the result from ./20/test/filtrations/4/RadialFiltration_19_19/green/diagrams.npy\n",
      "Applying Scaler to persistence diagrams.\n",
      "Got the result from ./20/test/filtrations/4/RadialFiltration_19_19/green/features.npy\n",
      "FiltrationExtractor: processing 20/test/filtrations/4/RadialFiltration_19_19/blue, do_fit = False, filtration = RadialFiltration(center=array([19, 19]), n_jobs=-1)\n",
      "Got the result from ./20/test/filtrations/4/RadialFiltration_19_19/blue/diagrams.npy\n",
      "Applying Scaler to persistence diagrams.\n",
      "Got the result from ./20/test/filtrations/4/RadialFiltration_19_19/blue/features.npy\n",
      "Applying filtration 44/72: RadialFiltration with c = (19, 26), bin. thr. = 0.4\n",
      "RGB images received. Transforming to grayscale.\n"
     ]
    },
    {
     "name": "stderr",
     "output_type": "stream",
     "text": [
      "rgb2gray: 100%|██████████| 10000/10000 [00:00<00:00, 17035.83it/s]\n"
     ]
    },
    {
     "name": "stdout",
     "output_type": "stream",
     "text": [
      "FiltrationExtractor: processing 20/test/filtrations/4/RadialFiltration_19_26/gray, do_fit = False, filtration = RadialFiltration(center=array([19, 26]), n_jobs=-1)\n",
      "Got the result from ./20/test/filtrations/4/RadialFiltration_19_26/gray/diagrams.npy\n",
      "Applying Scaler to persistence diagrams.\n",
      "Got the result from ./20/test/filtrations/4/RadialFiltration_19_26/gray/features.npy\n",
      "FiltrationExtractor: processing 20/test/filtrations/4/RadialFiltration_19_26/red, do_fit = False, filtration = RadialFiltration(center=array([19, 26]), n_jobs=-1)\n",
      "Got the result from ./20/test/filtrations/4/RadialFiltration_19_26/red/diagrams.npy\n",
      "Applying Scaler to persistence diagrams.\n",
      "Got the result from ./20/test/filtrations/4/RadialFiltration_19_26/red/features.npy\n",
      "FiltrationExtractor: processing 20/test/filtrations/4/RadialFiltration_19_26/green, do_fit = False, filtration = RadialFiltration(center=array([19, 26]), n_jobs=-1)\n",
      "Got the result from ./20/test/filtrations/4/RadialFiltration_19_26/green/diagrams.npy\n",
      "Applying Scaler to persistence diagrams.\n",
      "Got the result from ./20/test/filtrations/4/RadialFiltration_19_26/green/features.npy\n",
      "FiltrationExtractor: processing 20/test/filtrations/4/RadialFiltration_19_26/blue, do_fit = False, filtration = RadialFiltration(center=array([19, 26]), n_jobs=-1)\n",
      "Got the result from ./20/test/filtrations/4/RadialFiltration_19_26/blue/diagrams.npy\n",
      "Applying Scaler to persistence diagrams.\n",
      "Got the result from ./20/test/filtrations/4/RadialFiltration_19_26/blue/features.npy\n",
      "Applying filtration 45/72: RadialFiltration with c = (26, 5), bin. thr. = 0.4\n",
      "RGB images received. Transforming to grayscale.\n"
     ]
    },
    {
     "name": "stderr",
     "output_type": "stream",
     "text": [
      "rgb2gray: 100%|██████████| 10000/10000 [00:00<00:00, 20656.82it/s]\n"
     ]
    },
    {
     "name": "stdout",
     "output_type": "stream",
     "text": [
      "FiltrationExtractor: processing 20/test/filtrations/4/RadialFiltration_26_5/gray, do_fit = False, filtration = RadialFiltration(center=array([26,  5]), n_jobs=-1)\n",
      "Got the result from ./20/test/filtrations/4/RadialFiltration_26_5/gray/diagrams.npy\n",
      "Applying Scaler to persistence diagrams.\n",
      "Got the result from ./20/test/filtrations/4/RadialFiltration_26_5/gray/features.npy\n",
      "FiltrationExtractor: processing 20/test/filtrations/4/RadialFiltration_26_5/red, do_fit = False, filtration = RadialFiltration(center=array([26,  5]), n_jobs=-1)\n",
      "Got the result from ./20/test/filtrations/4/RadialFiltration_26_5/red/diagrams.npy\n",
      "Applying Scaler to persistence diagrams.\n",
      "Got the result from ./20/test/filtrations/4/RadialFiltration_26_5/red/features.npy\n",
      "FiltrationExtractor: processing 20/test/filtrations/4/RadialFiltration_26_5/green, do_fit = False, filtration = RadialFiltration(center=array([26,  5]), n_jobs=-1)\n",
      "Got the result from ./20/test/filtrations/4/RadialFiltration_26_5/green/diagrams.npy\n",
      "Applying Scaler to persistence diagrams.\n",
      "Got the result from ./20/test/filtrations/4/RadialFiltration_26_5/green/features.npy\n",
      "FiltrationExtractor: processing 20/test/filtrations/4/RadialFiltration_26_5/blue, do_fit = False, filtration = RadialFiltration(center=array([26,  5]), n_jobs=-1)\n",
      "Got the result from ./20/test/filtrations/4/RadialFiltration_26_5/blue/diagrams.npy\n",
      "Applying Scaler to persistence diagrams.\n",
      "Got the result from ./20/test/filtrations/4/RadialFiltration_26_5/blue/features.npy\n",
      "Applying filtration 46/72: RadialFiltration with c = (26, 12), bin. thr. = 0.4\n",
      "RGB images received. Transforming to grayscale.\n"
     ]
    },
    {
     "name": "stderr",
     "output_type": "stream",
     "text": [
      "rgb2gray: 100%|██████████| 10000/10000 [00:00<00:00, 19607.88it/s]\n"
     ]
    },
    {
     "name": "stdout",
     "output_type": "stream",
     "text": [
      "FiltrationExtractor: processing 20/test/filtrations/4/RadialFiltration_26_12/gray, do_fit = False, filtration = RadialFiltration(center=array([26, 12]), n_jobs=-1)\n",
      "Got the result from ./20/test/filtrations/4/RadialFiltration_26_12/gray/diagrams.npy\n",
      "Applying Scaler to persistence diagrams.\n",
      "Got the result from ./20/test/filtrations/4/RadialFiltration_26_12/gray/features.npy\n",
      "FiltrationExtractor: processing 20/test/filtrations/4/RadialFiltration_26_12/red, do_fit = False, filtration = RadialFiltration(center=array([26, 12]), n_jobs=-1)\n",
      "Got the result from ./20/test/filtrations/4/RadialFiltration_26_12/red/diagrams.npy\n",
      "Applying Scaler to persistence diagrams.\n",
      "Got the result from ./20/test/filtrations/4/RadialFiltration_26_12/red/features.npy\n",
      "FiltrationExtractor: processing 20/test/filtrations/4/RadialFiltration_26_12/green, do_fit = False, filtration = RadialFiltration(center=array([26, 12]), n_jobs=-1)\n",
      "Got the result from ./20/test/filtrations/4/RadialFiltration_26_12/green/diagrams.npy\n",
      "Applying Scaler to persistence diagrams.\n",
      "Got the result from ./20/test/filtrations/4/RadialFiltration_26_12/green/features.npy\n",
      "FiltrationExtractor: processing 20/test/filtrations/4/RadialFiltration_26_12/blue, do_fit = False, filtration = RadialFiltration(center=array([26, 12]), n_jobs=-1)\n",
      "Got the result from ./20/test/filtrations/4/RadialFiltration_26_12/blue/diagrams.npy\n",
      "Applying Scaler to persistence diagrams.\n",
      "Got the result from ./20/test/filtrations/4/RadialFiltration_26_12/blue/features.npy\n",
      "Applying filtration 47/72: RadialFiltration with c = (26, 19), bin. thr. = 0.4\n",
      "RGB images received. Transforming to grayscale.\n"
     ]
    },
    {
     "name": "stderr",
     "output_type": "stream",
     "text": [
      "rgb2gray: 100%|██████████| 10000/10000 [00:00<00:00, 18867.77it/s]\n"
     ]
    },
    {
     "name": "stdout",
     "output_type": "stream",
     "text": [
      "FiltrationExtractor: processing 20/test/filtrations/4/RadialFiltration_26_19/gray, do_fit = False, filtration = RadialFiltration(center=array([26, 19]), n_jobs=-1)\n",
      "Got the result from ./20/test/filtrations/4/RadialFiltration_26_19/gray/diagrams.npy\n",
      "Applying Scaler to persistence diagrams.\n",
      "Got the result from ./20/test/filtrations/4/RadialFiltration_26_19/gray/features.npy\n",
      "FiltrationExtractor: processing 20/test/filtrations/4/RadialFiltration_26_19/red, do_fit = False, filtration = RadialFiltration(center=array([26, 19]), n_jobs=-1)\n",
      "Got the result from ./20/test/filtrations/4/RadialFiltration_26_19/red/diagrams.npy\n",
      "Applying Scaler to persistence diagrams.\n",
      "Got the result from ./20/test/filtrations/4/RadialFiltration_26_19/red/features.npy\n",
      "FiltrationExtractor: processing 20/test/filtrations/4/RadialFiltration_26_19/green, do_fit = False, filtration = RadialFiltration(center=array([26, 19]), n_jobs=-1)\n",
      "Got the result from ./20/test/filtrations/4/RadialFiltration_26_19/green/diagrams.npy\n",
      "Applying Scaler to persistence diagrams.\n",
      "Got the result from ./20/test/filtrations/4/RadialFiltration_26_19/green/features.npy\n",
      "FiltrationExtractor: processing 20/test/filtrations/4/RadialFiltration_26_19/blue, do_fit = False, filtration = RadialFiltration(center=array([26, 19]), n_jobs=-1)\n",
      "Got the result from ./20/test/filtrations/4/RadialFiltration_26_19/blue/diagrams.npy\n",
      "Applying Scaler to persistence diagrams.\n",
      "Got the result from ./20/test/filtrations/4/RadialFiltration_26_19/blue/features.npy\n",
      "Applying filtration 48/72: RadialFiltration with c = (26, 26), bin. thr. = 0.4\n",
      "RGB images received. Transforming to grayscale.\n"
     ]
    },
    {
     "name": "stderr",
     "output_type": "stream",
     "text": [
      "rgb2gray: 100%|██████████| 10000/10000 [00:00<00:00, 20878.50it/s]\n"
     ]
    },
    {
     "name": "stdout",
     "output_type": "stream",
     "text": [
      "FiltrationExtractor: processing 20/test/filtrations/4/RadialFiltration_26_26/gray, do_fit = False, filtration = RadialFiltration(center=array([26, 26]), n_jobs=-1)\n",
      "Got the result from ./20/test/filtrations/4/RadialFiltration_26_26/gray/diagrams.npy\n",
      "Applying Scaler to persistence diagrams.\n",
      "Got the result from ./20/test/filtrations/4/RadialFiltration_26_26/gray/features.npy\n",
      "FiltrationExtractor: processing 20/test/filtrations/4/RadialFiltration_26_26/red, do_fit = False, filtration = RadialFiltration(center=array([26, 26]), n_jobs=-1)\n",
      "Got the result from ./20/test/filtrations/4/RadialFiltration_26_26/red/diagrams.npy\n",
      "Applying Scaler to persistence diagrams.\n",
      "Got the result from ./20/test/filtrations/4/RadialFiltration_26_26/red/features.npy\n",
      "FiltrationExtractor: processing 20/test/filtrations/4/RadialFiltration_26_26/green, do_fit = False, filtration = RadialFiltration(center=array([26, 26]), n_jobs=-1)\n",
      "Got the result from ./20/test/filtrations/4/RadialFiltration_26_26/green/diagrams.npy\n",
      "Applying Scaler to persistence diagrams.\n",
      "Got the result from ./20/test/filtrations/4/RadialFiltration_26_26/green/features.npy\n",
      "FiltrationExtractor: processing 20/test/filtrations/4/RadialFiltration_26_26/blue, do_fit = False, filtration = RadialFiltration(center=array([26, 26]), n_jobs=-1)\n",
      "Got the result from ./20/test/filtrations/4/RadialFiltration_26_26/blue/diagrams.npy\n",
      "Applying Scaler to persistence diagrams.\n",
      "Got the result from ./20/test/filtrations/4/RadialFiltration_26_26/blue/features.npy\n",
      "Applying filtration 49/72: HeightFiltration with d = (-1, -1), bin. thr. = 0.6\n",
      "RGB images received. Transforming to grayscale.\n"
     ]
    },
    {
     "name": "stderr",
     "output_type": "stream",
     "text": [
      "rgb2gray: 100%|██████████| 10000/10000 [00:00<00:00, 20533.86it/s]\n"
     ]
    },
    {
     "name": "stdout",
     "output_type": "stream",
     "text": [
      "FiltrationExtractor: processing 20/test/filtrations/6/HeightFiltrartion_-1_-1/gray, do_fit = False, filtration = HeightFiltration(direction=array([-1, -1]), n_jobs=-1)\n",
      "Got the result from ./20/test/filtrations/6/HeightFiltrartion_-1_-1/gray/diagrams.npy\n",
      "Applying Scaler to persistence diagrams.\n",
      "Got the result from ./20/test/filtrations/6/HeightFiltrartion_-1_-1/gray/features.npy\n",
      "FiltrationExtractor: processing 20/test/filtrations/6/HeightFiltrartion_-1_-1/red, do_fit = False, filtration = HeightFiltration(direction=array([-1, -1]), n_jobs=-1)\n",
      "Got the result from ./20/test/filtrations/6/HeightFiltrartion_-1_-1/red/diagrams.npy\n",
      "Applying Scaler to persistence diagrams.\n",
      "Got the result from ./20/test/filtrations/6/HeightFiltrartion_-1_-1/red/features.npy\n",
      "FiltrationExtractor: processing 20/test/filtrations/6/HeightFiltrartion_-1_-1/green, do_fit = False, filtration = HeightFiltration(direction=array([-1, -1]), n_jobs=-1)\n",
      "Got the result from ./20/test/filtrations/6/HeightFiltrartion_-1_-1/green/diagrams.npy\n",
      "Applying Scaler to persistence diagrams.\n",
      "Got the result from ./20/test/filtrations/6/HeightFiltrartion_-1_-1/green/features.npy\n",
      "FiltrationExtractor: processing 20/test/filtrations/6/HeightFiltrartion_-1_-1/blue, do_fit = False, filtration = HeightFiltration(direction=array([-1, -1]), n_jobs=-1)\n",
      "Got the result from ./20/test/filtrations/6/HeightFiltrartion_-1_-1/blue/diagrams.npy\n",
      "Applying Scaler to persistence diagrams.\n",
      "Got the result from ./20/test/filtrations/6/HeightFiltrartion_-1_-1/blue/features.npy\n",
      "Applying filtration 50/72: HeightFiltration with d = (-1, 0), bin. thr. = 0.6\n",
      "RGB images received. Transforming to grayscale.\n"
     ]
    },
    {
     "name": "stderr",
     "output_type": "stream",
     "text": [
      "rgb2gray: 100%|██████████| 10000/10000 [00:00<00:00, 19880.71it/s]\n"
     ]
    },
    {
     "name": "stdout",
     "output_type": "stream",
     "text": [
      "FiltrationExtractor: processing 20/test/filtrations/6/HeightFiltrartion_-1_0/gray, do_fit = False, filtration = HeightFiltration(direction=array([-1,  0]), n_jobs=-1)\n",
      "Got the result from ./20/test/filtrations/6/HeightFiltrartion_-1_0/gray/diagrams.npy\n",
      "Applying Scaler to persistence diagrams.\n",
      "Got the result from ./20/test/filtrations/6/HeightFiltrartion_-1_0/gray/features.npy\n",
      "FiltrationExtractor: processing 20/test/filtrations/6/HeightFiltrartion_-1_0/red, do_fit = False, filtration = HeightFiltration(direction=array([-1,  0]), n_jobs=-1)\n",
      "Got the result from ./20/test/filtrations/6/HeightFiltrartion_-1_0/red/diagrams.npy\n",
      "Applying Scaler to persistence diagrams.\n",
      "Got the result from ./20/test/filtrations/6/HeightFiltrartion_-1_0/red/features.npy\n",
      "FiltrationExtractor: processing 20/test/filtrations/6/HeightFiltrartion_-1_0/green, do_fit = False, filtration = HeightFiltration(direction=array([-1,  0]), n_jobs=-1)\n",
      "Got the result from ./20/test/filtrations/6/HeightFiltrartion_-1_0/green/diagrams.npy\n",
      "Applying Scaler to persistence diagrams.\n",
      "Got the result from ./20/test/filtrations/6/HeightFiltrartion_-1_0/green/features.npy\n",
      "FiltrationExtractor: processing 20/test/filtrations/6/HeightFiltrartion_-1_0/blue, do_fit = False, filtration = HeightFiltration(direction=array([-1,  0]), n_jobs=-1)\n",
      "Got the result from ./20/test/filtrations/6/HeightFiltrartion_-1_0/blue/diagrams.npy\n",
      "Applying Scaler to persistence diagrams.\n",
      "Got the result from ./20/test/filtrations/6/HeightFiltrartion_-1_0/blue/features.npy\n",
      "Applying filtration 51/72: HeightFiltration with d = (-1, 1), bin. thr. = 0.6\n",
      "RGB images received. Transforming to grayscale.\n"
     ]
    },
    {
     "name": "stderr",
     "output_type": "stream",
     "text": [
      "rgb2gray: 100%|██████████| 10000/10000 [00:00<00:00, 17182.08it/s]\n"
     ]
    },
    {
     "name": "stdout",
     "output_type": "stream",
     "text": [
      "FiltrationExtractor: processing 20/test/filtrations/6/HeightFiltrartion_-1_1/gray, do_fit = False, filtration = HeightFiltration(direction=array([-1,  1]), n_jobs=-1)\n",
      "Got the result from ./20/test/filtrations/6/HeightFiltrartion_-1_1/gray/diagrams.npy\n",
      "Applying Scaler to persistence diagrams.\n",
      "Got the result from ./20/test/filtrations/6/HeightFiltrartion_-1_1/gray/features.npy\n",
      "FiltrationExtractor: processing 20/test/filtrations/6/HeightFiltrartion_-1_1/red, do_fit = False, filtration = HeightFiltration(direction=array([-1,  1]), n_jobs=-1)\n",
      "Got the result from ./20/test/filtrations/6/HeightFiltrartion_-1_1/red/diagrams.npy\n",
      "Applying Scaler to persistence diagrams.\n",
      "Got the result from ./20/test/filtrations/6/HeightFiltrartion_-1_1/red/features.npy\n",
      "FiltrationExtractor: processing 20/test/filtrations/6/HeightFiltrartion_-1_1/green, do_fit = False, filtration = HeightFiltration(direction=array([-1,  1]), n_jobs=-1)\n",
      "Got the result from ./20/test/filtrations/6/HeightFiltrartion_-1_1/green/diagrams.npy\n",
      "Applying Scaler to persistence diagrams.\n",
      "Got the result from ./20/test/filtrations/6/HeightFiltrartion_-1_1/green/features.npy\n",
      "FiltrationExtractor: processing 20/test/filtrations/6/HeightFiltrartion_-1_1/blue, do_fit = False, filtration = HeightFiltration(direction=array([-1,  1]), n_jobs=-1)\n",
      "Got the result from ./20/test/filtrations/6/HeightFiltrartion_-1_1/blue/diagrams.npy\n",
      "Applying Scaler to persistence diagrams.\n",
      "Got the result from ./20/test/filtrations/6/HeightFiltrartion_-1_1/blue/features.npy\n",
      "Applying filtration 52/72: HeightFiltration with d = (0, -1), bin. thr. = 0.6\n",
      "RGB images received. Transforming to grayscale.\n"
     ]
    },
    {
     "name": "stderr",
     "output_type": "stream",
     "text": [
      "rgb2gray: 100%|██████████| 10000/10000 [00:00<00:00, 20202.01it/s]\n"
     ]
    },
    {
     "name": "stdout",
     "output_type": "stream",
     "text": [
      "FiltrationExtractor: processing 20/test/filtrations/6/HeightFiltrartion_0_-1/gray, do_fit = False, filtration = HeightFiltration(direction=array([ 0, -1]), n_jobs=-1)\n",
      "Got the result from ./20/test/filtrations/6/HeightFiltrartion_0_-1/gray/diagrams.npy\n",
      "Applying Scaler to persistence diagrams.\n",
      "Got the result from ./20/test/filtrations/6/HeightFiltrartion_0_-1/gray/features.npy\n",
      "FiltrationExtractor: processing 20/test/filtrations/6/HeightFiltrartion_0_-1/red, do_fit = False, filtration = HeightFiltration(direction=array([ 0, -1]), n_jobs=-1)\n",
      "Got the result from ./20/test/filtrations/6/HeightFiltrartion_0_-1/red/diagrams.npy\n",
      "Applying Scaler to persistence diagrams.\n",
      "Got the result from ./20/test/filtrations/6/HeightFiltrartion_0_-1/red/features.npy\n",
      "FiltrationExtractor: processing 20/test/filtrations/6/HeightFiltrartion_0_-1/green, do_fit = False, filtration = HeightFiltration(direction=array([ 0, -1]), n_jobs=-1)\n",
      "Got the result from ./20/test/filtrations/6/HeightFiltrartion_0_-1/green/diagrams.npy\n",
      "Applying Scaler to persistence diagrams.\n",
      "Got the result from ./20/test/filtrations/6/HeightFiltrartion_0_-1/green/features.npy\n",
      "FiltrationExtractor: processing 20/test/filtrations/6/HeightFiltrartion_0_-1/blue, do_fit = False, filtration = HeightFiltration(direction=array([ 0, -1]), n_jobs=-1)\n",
      "Got the result from ./20/test/filtrations/6/HeightFiltrartion_0_-1/blue/diagrams.npy\n",
      "Applying Scaler to persistence diagrams.\n",
      "Got the result from ./20/test/filtrations/6/HeightFiltrartion_0_-1/blue/features.npy\n",
      "Applying filtration 53/72: HeightFiltration with d = (0, 1), bin. thr. = 0.6\n",
      "RGB images received. Transforming to grayscale.\n"
     ]
    },
    {
     "name": "stderr",
     "output_type": "stream",
     "text": [
      "rgb2gray: 100%|██████████| 10000/10000 [00:00<00:00, 18761.72it/s]\n"
     ]
    },
    {
     "name": "stdout",
     "output_type": "stream",
     "text": [
      "FiltrationExtractor: processing 20/test/filtrations/6/HeightFiltrartion_0_1/gray, do_fit = False, filtration = HeightFiltration(direction=array([0, 1]), n_jobs=-1)\n",
      "Got the result from ./20/test/filtrations/6/HeightFiltrartion_0_1/gray/diagrams.npy\n",
      "Applying Scaler to persistence diagrams.\n",
      "Got the result from ./20/test/filtrations/6/HeightFiltrartion_0_1/gray/features.npy\n",
      "FiltrationExtractor: processing 20/test/filtrations/6/HeightFiltrartion_0_1/red, do_fit = False, filtration = HeightFiltration(direction=array([0, 1]), n_jobs=-1)\n",
      "Got the result from ./20/test/filtrations/6/HeightFiltrartion_0_1/red/diagrams.npy\n",
      "Applying Scaler to persistence diagrams.\n",
      "Got the result from ./20/test/filtrations/6/HeightFiltrartion_0_1/red/features.npy\n",
      "FiltrationExtractor: processing 20/test/filtrations/6/HeightFiltrartion_0_1/green, do_fit = False, filtration = HeightFiltration(direction=array([0, 1]), n_jobs=-1)\n",
      "Got the result from ./20/test/filtrations/6/HeightFiltrartion_0_1/green/diagrams.npy\n",
      "Applying Scaler to persistence diagrams.\n",
      "Got the result from ./20/test/filtrations/6/HeightFiltrartion_0_1/green/features.npy\n",
      "FiltrationExtractor: processing 20/test/filtrations/6/HeightFiltrartion_0_1/blue, do_fit = False, filtration = HeightFiltration(direction=array([0, 1]), n_jobs=-1)\n",
      "Got the result from ./20/test/filtrations/6/HeightFiltrartion_0_1/blue/diagrams.npy\n",
      "Applying Scaler to persistence diagrams.\n",
      "Got the result from ./20/test/filtrations/6/HeightFiltrartion_0_1/blue/features.npy\n",
      "Applying filtration 54/72: HeightFiltration with d = (1, -1), bin. thr. = 0.6\n",
      "RGB images received. Transforming to grayscale.\n"
     ]
    },
    {
     "name": "stderr",
     "output_type": "stream",
     "text": [
      "rgb2gray: 100%|██████████| 10000/10000 [00:00<00:00, 19607.93it/s]\n"
     ]
    },
    {
     "name": "stdout",
     "output_type": "stream",
     "text": [
      "FiltrationExtractor: processing 20/test/filtrations/6/HeightFiltrartion_1_-1/gray, do_fit = False, filtration = HeightFiltration(direction=array([ 1, -1]), n_jobs=-1)\n",
      "Got the result from ./20/test/filtrations/6/HeightFiltrartion_1_-1/gray/diagrams.npy\n",
      "Applying Scaler to persistence diagrams.\n",
      "Got the result from ./20/test/filtrations/6/HeightFiltrartion_1_-1/gray/features.npy\n",
      "FiltrationExtractor: processing 20/test/filtrations/6/HeightFiltrartion_1_-1/red, do_fit = False, filtration = HeightFiltration(direction=array([ 1, -1]), n_jobs=-1)\n",
      "Got the result from ./20/test/filtrations/6/HeightFiltrartion_1_-1/red/diagrams.npy\n",
      "Applying Scaler to persistence diagrams.\n",
      "Got the result from ./20/test/filtrations/6/HeightFiltrartion_1_-1/red/features.npy\n",
      "FiltrationExtractor: processing 20/test/filtrations/6/HeightFiltrartion_1_-1/green, do_fit = False, filtration = HeightFiltration(direction=array([ 1, -1]), n_jobs=-1)\n",
      "Got the result from ./20/test/filtrations/6/HeightFiltrartion_1_-1/green/diagrams.npy\n",
      "Applying Scaler to persistence diagrams.\n",
      "Got the result from ./20/test/filtrations/6/HeightFiltrartion_1_-1/green/features.npy\n",
      "FiltrationExtractor: processing 20/test/filtrations/6/HeightFiltrartion_1_-1/blue, do_fit = False, filtration = HeightFiltration(direction=array([ 1, -1]), n_jobs=-1)\n",
      "Got the result from ./20/test/filtrations/6/HeightFiltrartion_1_-1/blue/diagrams.npy\n",
      "Applying Scaler to persistence diagrams.\n",
      "Got the result from ./20/test/filtrations/6/HeightFiltrartion_1_-1/blue/features.npy\n",
      "Applying filtration 55/72: HeightFiltration with d = (1, 0), bin. thr. = 0.6\n",
      "RGB images received. Transforming to grayscale.\n"
     ]
    },
    {
     "name": "stderr",
     "output_type": "stream",
     "text": [
      "rgb2gray: 100%|██████████| 10000/10000 [00:00<00:00, 19379.89it/s]\n"
     ]
    },
    {
     "name": "stdout",
     "output_type": "stream",
     "text": [
      "FiltrationExtractor: processing 20/test/filtrations/6/HeightFiltrartion_1_0/gray, do_fit = False, filtration = HeightFiltration(direction=array([1, 0]), n_jobs=-1)\n",
      "Got the result from ./20/test/filtrations/6/HeightFiltrartion_1_0/gray/diagrams.npy\n",
      "Applying Scaler to persistence diagrams.\n",
      "Got the result from ./20/test/filtrations/6/HeightFiltrartion_1_0/gray/features.npy\n",
      "FiltrationExtractor: processing 20/test/filtrations/6/HeightFiltrartion_1_0/red, do_fit = False, filtration = HeightFiltration(direction=array([1, 0]), n_jobs=-1)\n",
      "Got the result from ./20/test/filtrations/6/HeightFiltrartion_1_0/red/diagrams.npy\n",
      "Applying Scaler to persistence diagrams.\n",
      "Got the result from ./20/test/filtrations/6/HeightFiltrartion_1_0/red/features.npy\n",
      "FiltrationExtractor: processing 20/test/filtrations/6/HeightFiltrartion_1_0/green, do_fit = False, filtration = HeightFiltration(direction=array([1, 0]), n_jobs=-1)\n",
      "Got the result from ./20/test/filtrations/6/HeightFiltrartion_1_0/green/diagrams.npy\n",
      "Applying Scaler to persistence diagrams.\n",
      "Got the result from ./20/test/filtrations/6/HeightFiltrartion_1_0/green/features.npy\n",
      "FiltrationExtractor: processing 20/test/filtrations/6/HeightFiltrartion_1_0/blue, do_fit = False, filtration = HeightFiltration(direction=array([1, 0]), n_jobs=-1)\n",
      "Got the result from ./20/test/filtrations/6/HeightFiltrartion_1_0/blue/diagrams.npy\n",
      "Applying Scaler to persistence diagrams.\n",
      "Got the result from ./20/test/filtrations/6/HeightFiltrartion_1_0/blue/features.npy\n",
      "Applying filtration 56/72: HeightFiltration with d = (1, 1), bin. thr. = 0.6\n",
      "RGB images received. Transforming to grayscale.\n"
     ]
    },
    {
     "name": "stderr",
     "output_type": "stream",
     "text": [
      "rgb2gray: 100%|██████████| 10000/10000 [00:00<00:00, 16638.97it/s]\n"
     ]
    },
    {
     "name": "stdout",
     "output_type": "stream",
     "text": [
      "FiltrationExtractor: processing 20/test/filtrations/6/HeightFiltrartion_1_1/gray, do_fit = False, filtration = HeightFiltration(direction=array([1, 1]), n_jobs=-1)\n",
      "Got the result from ./20/test/filtrations/6/HeightFiltrartion_1_1/gray/diagrams.npy\n",
      "Applying Scaler to persistence diagrams.\n",
      "Got the result from ./20/test/filtrations/6/HeightFiltrartion_1_1/gray/features.npy\n",
      "FiltrationExtractor: processing 20/test/filtrations/6/HeightFiltrartion_1_1/red, do_fit = False, filtration = HeightFiltration(direction=array([1, 1]), n_jobs=-1)\n",
      "Got the result from ./20/test/filtrations/6/HeightFiltrartion_1_1/red/diagrams.npy\n",
      "Applying Scaler to persistence diagrams.\n",
      "Got the result from ./20/test/filtrations/6/HeightFiltrartion_1_1/red/features.npy\n",
      "FiltrationExtractor: processing 20/test/filtrations/6/HeightFiltrartion_1_1/green, do_fit = False, filtration = HeightFiltration(direction=array([1, 1]), n_jobs=-1)\n",
      "Got the result from ./20/test/filtrations/6/HeightFiltrartion_1_1/green/diagrams.npy\n",
      "Applying Scaler to persistence diagrams.\n",
      "Got the result from ./20/test/filtrations/6/HeightFiltrartion_1_1/green/features.npy\n",
      "FiltrationExtractor: processing 20/test/filtrations/6/HeightFiltrartion_1_1/blue, do_fit = False, filtration = HeightFiltration(direction=array([1, 1]), n_jobs=-1)\n",
      "Got the result from ./20/test/filtrations/6/HeightFiltrartion_1_1/blue/diagrams.npy\n",
      "Applying Scaler to persistence diagrams.\n",
      "Got the result from ./20/test/filtrations/6/HeightFiltrartion_1_1/blue/features.npy\n",
      "Applying filtration 57/72: RadialFiltration with c = (5, 5), bin. thr. = 0.6\n",
      "RGB images received. Transforming to grayscale.\n"
     ]
    },
    {
     "name": "stderr",
     "output_type": "stream",
     "text": [
      "rgb2gray: 100%|██████████| 10000/10000 [00:00<00:00, 18832.30it/s]\n"
     ]
    },
    {
     "name": "stdout",
     "output_type": "stream",
     "text": [
      "FiltrationExtractor: processing 20/test/filtrations/6/RadialFiltration_5_5/gray, do_fit = False, filtration = RadialFiltration(center=array([5, 5]), n_jobs=-1)\n",
      "Got the result from ./20/test/filtrations/6/RadialFiltration_5_5/gray/diagrams.npy\n",
      "Applying Scaler to persistence diagrams.\n",
      "Got the result from ./20/test/filtrations/6/RadialFiltration_5_5/gray/features.npy\n",
      "FiltrationExtractor: processing 20/test/filtrations/6/RadialFiltration_5_5/red, do_fit = False, filtration = RadialFiltration(center=array([5, 5]), n_jobs=-1)\n",
      "Got the result from ./20/test/filtrations/6/RadialFiltration_5_5/red/diagrams.npy\n",
      "Applying Scaler to persistence diagrams.\n",
      "Got the result from ./20/test/filtrations/6/RadialFiltration_5_5/red/features.npy\n",
      "FiltrationExtractor: processing 20/test/filtrations/6/RadialFiltration_5_5/green, do_fit = False, filtration = RadialFiltration(center=array([5, 5]), n_jobs=-1)\n",
      "Got the result from ./20/test/filtrations/6/RadialFiltration_5_5/green/diagrams.npy\n",
      "Applying Scaler to persistence diagrams.\n",
      "Got the result from ./20/test/filtrations/6/RadialFiltration_5_5/green/features.npy\n",
      "FiltrationExtractor: processing 20/test/filtrations/6/RadialFiltration_5_5/blue, do_fit = False, filtration = RadialFiltration(center=array([5, 5]), n_jobs=-1)\n",
      "Got the result from ./20/test/filtrations/6/RadialFiltration_5_5/blue/diagrams.npy\n",
      "Applying Scaler to persistence diagrams.\n",
      "Got the result from ./20/test/filtrations/6/RadialFiltration_5_5/blue/features.npy\n",
      "Applying filtration 58/72: RadialFiltration with c = (5, 12), bin. thr. = 0.6\n",
      "RGB images received. Transforming to grayscale.\n"
     ]
    },
    {
     "name": "stderr",
     "output_type": "stream",
     "text": [
      "rgb2gray: 100%|██████████| 10000/10000 [00:00<00:00, 20080.36it/s]\n"
     ]
    },
    {
     "name": "stdout",
     "output_type": "stream",
     "text": [
      "FiltrationExtractor: processing 20/test/filtrations/6/RadialFiltration_5_12/gray, do_fit = False, filtration = RadialFiltration(center=array([ 5, 12]), n_jobs=-1)\n",
      "Got the result from ./20/test/filtrations/6/RadialFiltration_5_12/gray/diagrams.npy\n",
      "Applying Scaler to persistence diagrams.\n",
      "Got the result from ./20/test/filtrations/6/RadialFiltration_5_12/gray/features.npy\n",
      "FiltrationExtractor: processing 20/test/filtrations/6/RadialFiltration_5_12/red, do_fit = False, filtration = RadialFiltration(center=array([ 5, 12]), n_jobs=-1)\n",
      "Got the result from ./20/test/filtrations/6/RadialFiltration_5_12/red/diagrams.npy\n",
      "Applying Scaler to persistence diagrams.\n",
      "Got the result from ./20/test/filtrations/6/RadialFiltration_5_12/red/features.npy\n",
      "FiltrationExtractor: processing 20/test/filtrations/6/RadialFiltration_5_12/green, do_fit = False, filtration = RadialFiltration(center=array([ 5, 12]), n_jobs=-1)\n",
      "Got the result from ./20/test/filtrations/6/RadialFiltration_5_12/green/diagrams.npy\n",
      "Applying Scaler to persistence diagrams.\n",
      "Got the result from ./20/test/filtrations/6/RadialFiltration_5_12/green/features.npy\n",
      "FiltrationExtractor: processing 20/test/filtrations/6/RadialFiltration_5_12/blue, do_fit = False, filtration = RadialFiltration(center=array([ 5, 12]), n_jobs=-1)\n",
      "Got the result from ./20/test/filtrations/6/RadialFiltration_5_12/blue/diagrams.npy\n",
      "Applying Scaler to persistence diagrams.\n",
      "Got the result from ./20/test/filtrations/6/RadialFiltration_5_12/blue/features.npy\n",
      "Applying filtration 59/72: RadialFiltration with c = (5, 19), bin. thr. = 0.6\n",
      "RGB images received. Transforming to grayscale.\n"
     ]
    },
    {
     "name": "stderr",
     "output_type": "stream",
     "text": [
      "rgb2gray: 100%|██████████| 10000/10000 [00:00<00:00, 20080.30it/s]\n"
     ]
    },
    {
     "name": "stdout",
     "output_type": "stream",
     "text": [
      "FiltrationExtractor: processing 20/test/filtrations/6/RadialFiltration_5_19/gray, do_fit = False, filtration = RadialFiltration(center=array([ 5, 19]), n_jobs=-1)\n",
      "Got the result from ./20/test/filtrations/6/RadialFiltration_5_19/gray/diagrams.npy\n",
      "Applying Scaler to persistence diagrams.\n",
      "Got the result from ./20/test/filtrations/6/RadialFiltration_5_19/gray/features.npy\n",
      "FiltrationExtractor: processing 20/test/filtrations/6/RadialFiltration_5_19/red, do_fit = False, filtration = RadialFiltration(center=array([ 5, 19]), n_jobs=-1)\n",
      "Got the result from ./20/test/filtrations/6/RadialFiltration_5_19/red/diagrams.npy\n",
      "Applying Scaler to persistence diagrams.\n",
      "Got the result from ./20/test/filtrations/6/RadialFiltration_5_19/red/features.npy\n",
      "FiltrationExtractor: processing 20/test/filtrations/6/RadialFiltration_5_19/green, do_fit = False, filtration = RadialFiltration(center=array([ 5, 19]), n_jobs=-1)\n",
      "Got the result from ./20/test/filtrations/6/RadialFiltration_5_19/green/diagrams.npy\n",
      "Applying Scaler to persistence diagrams.\n",
      "Got the result from ./20/test/filtrations/6/RadialFiltration_5_19/green/features.npy\n",
      "FiltrationExtractor: processing 20/test/filtrations/6/RadialFiltration_5_19/blue, do_fit = False, filtration = RadialFiltration(center=array([ 5, 19]), n_jobs=-1)\n",
      "Got the result from ./20/test/filtrations/6/RadialFiltration_5_19/blue/diagrams.npy\n",
      "Applying Scaler to persistence diagrams.\n",
      "Got the result from ./20/test/filtrations/6/RadialFiltration_5_19/blue/features.npy\n",
      "Applying filtration 60/72: RadialFiltration with c = (5, 26), bin. thr. = 0.6\n",
      "RGB images received. Transforming to grayscale.\n"
     ]
    },
    {
     "name": "stderr",
     "output_type": "stream",
     "text": [
      "rgb2gray: 100%|██████████| 10000/10000 [00:00<00:00, 19084.04it/s]\n"
     ]
    },
    {
     "name": "stdout",
     "output_type": "stream",
     "text": [
      "FiltrationExtractor: processing 20/test/filtrations/6/RadialFiltration_5_26/gray, do_fit = False, filtration = RadialFiltration(center=array([ 5, 26]), n_jobs=-1)\n",
      "Got the result from ./20/test/filtrations/6/RadialFiltration_5_26/gray/diagrams.npy\n",
      "Applying Scaler to persistence diagrams.\n",
      "Got the result from ./20/test/filtrations/6/RadialFiltration_5_26/gray/features.npy\n",
      "FiltrationExtractor: processing 20/test/filtrations/6/RadialFiltration_5_26/red, do_fit = False, filtration = RadialFiltration(center=array([ 5, 26]), n_jobs=-1)\n",
      "Got the result from ./20/test/filtrations/6/RadialFiltration_5_26/red/diagrams.npy\n",
      "Applying Scaler to persistence diagrams.\n",
      "Got the result from ./20/test/filtrations/6/RadialFiltration_5_26/red/features.npy\n",
      "FiltrationExtractor: processing 20/test/filtrations/6/RadialFiltration_5_26/green, do_fit = False, filtration = RadialFiltration(center=array([ 5, 26]), n_jobs=-1)\n",
      "Got the result from ./20/test/filtrations/6/RadialFiltration_5_26/green/diagrams.npy\n",
      "Applying Scaler to persistence diagrams.\n",
      "Got the result from ./20/test/filtrations/6/RadialFiltration_5_26/green/features.npy\n",
      "FiltrationExtractor: processing 20/test/filtrations/6/RadialFiltration_5_26/blue, do_fit = False, filtration = RadialFiltration(center=array([ 5, 26]), n_jobs=-1)\n",
      "Got the result from ./20/test/filtrations/6/RadialFiltration_5_26/blue/diagrams.npy\n",
      "Applying Scaler to persistence diagrams.\n",
      "Got the result from ./20/test/filtrations/6/RadialFiltration_5_26/blue/features.npy\n",
      "Applying filtration 61/72: RadialFiltration with c = (12, 5), bin. thr. = 0.6\n",
      "RGB images received. Transforming to grayscale.\n"
     ]
    },
    {
     "name": "stderr",
     "output_type": "stream",
     "text": [
      "rgb2gray: 100%|██████████| 10000/10000 [00:00<00:00, 14947.71it/s]\n"
     ]
    },
    {
     "name": "stdout",
     "output_type": "stream",
     "text": [
      "FiltrationExtractor: processing 20/test/filtrations/6/RadialFiltration_12_5/gray, do_fit = False, filtration = RadialFiltration(center=array([12,  5]), n_jobs=-1)\n",
      "Got the result from ./20/test/filtrations/6/RadialFiltration_12_5/gray/diagrams.npy\n",
      "Applying Scaler to persistence diagrams.\n",
      "Got the result from ./20/test/filtrations/6/RadialFiltration_12_5/gray/features.npy\n",
      "FiltrationExtractor: processing 20/test/filtrations/6/RadialFiltration_12_5/red, do_fit = False, filtration = RadialFiltration(center=array([12,  5]), n_jobs=-1)\n",
      "Got the result from ./20/test/filtrations/6/RadialFiltration_12_5/red/diagrams.npy\n",
      "Applying Scaler to persistence diagrams.\n",
      "Got the result from ./20/test/filtrations/6/RadialFiltration_12_5/red/features.npy\n",
      "FiltrationExtractor: processing 20/test/filtrations/6/RadialFiltration_12_5/green, do_fit = False, filtration = RadialFiltration(center=array([12,  5]), n_jobs=-1)\n",
      "Got the result from ./20/test/filtrations/6/RadialFiltration_12_5/green/diagrams.npy\n",
      "Applying Scaler to persistence diagrams.\n",
      "Got the result from ./20/test/filtrations/6/RadialFiltration_12_5/green/features.npy\n",
      "FiltrationExtractor: processing 20/test/filtrations/6/RadialFiltration_12_5/blue, do_fit = False, filtration = RadialFiltration(center=array([12,  5]), n_jobs=-1)\n",
      "Got the result from ./20/test/filtrations/6/RadialFiltration_12_5/blue/diagrams.npy\n",
      "Applying Scaler to persistence diagrams.\n",
      "Got the result from ./20/test/filtrations/6/RadialFiltration_12_5/blue/features.npy\n",
      "Applying filtration 62/72: RadialFiltration with c = (12, 12), bin. thr. = 0.6\n",
      "RGB images received. Transforming to grayscale.\n"
     ]
    },
    {
     "name": "stderr",
     "output_type": "stream",
     "text": [
      "rgb2gray: 100%|██████████| 10000/10000 [00:00<00:00, 20000.06it/s]\n"
     ]
    },
    {
     "name": "stdout",
     "output_type": "stream",
     "text": [
      "FiltrationExtractor: processing 20/test/filtrations/6/RadialFiltration_12_12/gray, do_fit = False, filtration = RadialFiltration(center=array([12, 12]), n_jobs=-1)\n",
      "Got the result from ./20/test/filtrations/6/RadialFiltration_12_12/gray/diagrams.npy\n",
      "Applying Scaler to persistence diagrams.\n",
      "Got the result from ./20/test/filtrations/6/RadialFiltration_12_12/gray/features.npy\n",
      "FiltrationExtractor: processing 20/test/filtrations/6/RadialFiltration_12_12/red, do_fit = False, filtration = RadialFiltration(center=array([12, 12]), n_jobs=-1)\n",
      "Got the result from ./20/test/filtrations/6/RadialFiltration_12_12/red/diagrams.npy\n",
      "Applying Scaler to persistence diagrams.\n",
      "Got the result from ./20/test/filtrations/6/RadialFiltration_12_12/red/features.npy\n",
      "FiltrationExtractor: processing 20/test/filtrations/6/RadialFiltration_12_12/green, do_fit = False, filtration = RadialFiltration(center=array([12, 12]), n_jobs=-1)\n",
      "Got the result from ./20/test/filtrations/6/RadialFiltration_12_12/green/diagrams.npy\n",
      "Applying Scaler to persistence diagrams.\n",
      "Got the result from ./20/test/filtrations/6/RadialFiltration_12_12/green/features.npy\n",
      "FiltrationExtractor: processing 20/test/filtrations/6/RadialFiltration_12_12/blue, do_fit = False, filtration = RadialFiltration(center=array([12, 12]), n_jobs=-1)\n",
      "Got the result from ./20/test/filtrations/6/RadialFiltration_12_12/blue/diagrams.npy\n",
      "Applying Scaler to persistence diagrams.\n",
      "Got the result from ./20/test/filtrations/6/RadialFiltration_12_12/blue/features.npy\n",
      "Applying filtration 63/72: RadialFiltration with c = (12, 19), bin. thr. = 0.6\n",
      "RGB images received. Transforming to grayscale.\n"
     ]
    },
    {
     "name": "stderr",
     "output_type": "stream",
     "text": [
      "rgb2gray: 100%|██████████| 10000/10000 [00:00<00:00, 19120.35it/s]\n"
     ]
    },
    {
     "name": "stdout",
     "output_type": "stream",
     "text": [
      "FiltrationExtractor: processing 20/test/filtrations/6/RadialFiltration_12_19/gray, do_fit = False, filtration = RadialFiltration(center=array([12, 19]), n_jobs=-1)\n",
      "Got the result from ./20/test/filtrations/6/RadialFiltration_12_19/gray/diagrams.npy\n",
      "Applying Scaler to persistence diagrams.\n",
      "Got the result from ./20/test/filtrations/6/RadialFiltration_12_19/gray/features.npy\n",
      "FiltrationExtractor: processing 20/test/filtrations/6/RadialFiltration_12_19/red, do_fit = False, filtration = RadialFiltration(center=array([12, 19]), n_jobs=-1)\n",
      "Got the result from ./20/test/filtrations/6/RadialFiltration_12_19/red/diagrams.npy\n",
      "Applying Scaler to persistence diagrams.\n",
      "Got the result from ./20/test/filtrations/6/RadialFiltration_12_19/red/features.npy\n",
      "FiltrationExtractor: processing 20/test/filtrations/6/RadialFiltration_12_19/green, do_fit = False, filtration = RadialFiltration(center=array([12, 19]), n_jobs=-1)\n",
      "Got the result from ./20/test/filtrations/6/RadialFiltration_12_19/green/diagrams.npy\n",
      "Applying Scaler to persistence diagrams.\n",
      "Got the result from ./20/test/filtrations/6/RadialFiltration_12_19/green/features.npy\n",
      "FiltrationExtractor: processing 20/test/filtrations/6/RadialFiltration_12_19/blue, do_fit = False, filtration = RadialFiltration(center=array([12, 19]), n_jobs=-1)\n",
      "Got the result from ./20/test/filtrations/6/RadialFiltration_12_19/blue/diagrams.npy\n",
      "Applying Scaler to persistence diagrams.\n",
      "Got the result from ./20/test/filtrations/6/RadialFiltration_12_19/blue/features.npy\n",
      "Applying filtration 64/72: RadialFiltration with c = (12, 26), bin. thr. = 0.6\n",
      "RGB images received. Transforming to grayscale.\n"
     ]
    },
    {
     "name": "stderr",
     "output_type": "stream",
     "text": [
      "rgb2gray: 100%|██████████| 10000/10000 [00:00<00:00, 20618.54it/s]\n"
     ]
    },
    {
     "name": "stdout",
     "output_type": "stream",
     "text": [
      "FiltrationExtractor: processing 20/test/filtrations/6/RadialFiltration_12_26/gray, do_fit = False, filtration = RadialFiltration(center=array([12, 26]), n_jobs=-1)\n",
      "Got the result from ./20/test/filtrations/6/RadialFiltration_12_26/gray/diagrams.npy\n",
      "Applying Scaler to persistence diagrams.\n",
      "Got the result from ./20/test/filtrations/6/RadialFiltration_12_26/gray/features.npy\n",
      "FiltrationExtractor: processing 20/test/filtrations/6/RadialFiltration_12_26/red, do_fit = False, filtration = RadialFiltration(center=array([12, 26]), n_jobs=-1)\n",
      "Got the result from ./20/test/filtrations/6/RadialFiltration_12_26/red/diagrams.npy\n",
      "Applying Scaler to persistence diagrams.\n",
      "Got the result from ./20/test/filtrations/6/RadialFiltration_12_26/red/features.npy\n",
      "FiltrationExtractor: processing 20/test/filtrations/6/RadialFiltration_12_26/green, do_fit = False, filtration = RadialFiltration(center=array([12, 26]), n_jobs=-1)\n",
      "Got the result from ./20/test/filtrations/6/RadialFiltration_12_26/green/diagrams.npy\n",
      "Applying Scaler to persistence diagrams.\n",
      "Got the result from ./20/test/filtrations/6/RadialFiltration_12_26/green/features.npy\n",
      "FiltrationExtractor: processing 20/test/filtrations/6/RadialFiltration_12_26/blue, do_fit = False, filtration = RadialFiltration(center=array([12, 26]), n_jobs=-1)\n",
      "Got the result from ./20/test/filtrations/6/RadialFiltration_12_26/blue/diagrams.npy\n",
      "Applying Scaler to persistence diagrams.\n",
      "Got the result from ./20/test/filtrations/6/RadialFiltration_12_26/blue/features.npy\n",
      "Applying filtration 65/72: RadialFiltration with c = (19, 5), bin. thr. = 0.6\n",
      "RGB images received. Transforming to grayscale.\n"
     ]
    },
    {
     "name": "stderr",
     "output_type": "stream",
     "text": [
      "rgb2gray: 100%|██████████| 10000/10000 [00:00<00:00, 18450.20it/s]\n"
     ]
    },
    {
     "name": "stdout",
     "output_type": "stream",
     "text": [
      "FiltrationExtractor: processing 20/test/filtrations/6/RadialFiltration_19_5/gray, do_fit = False, filtration = RadialFiltration(center=array([19,  5]), n_jobs=-1)\n",
      "Got the result from ./20/test/filtrations/6/RadialFiltration_19_5/gray/diagrams.npy\n",
      "Applying Scaler to persistence diagrams.\n",
      "Got the result from ./20/test/filtrations/6/RadialFiltration_19_5/gray/features.npy\n",
      "FiltrationExtractor: processing 20/test/filtrations/6/RadialFiltration_19_5/red, do_fit = False, filtration = RadialFiltration(center=array([19,  5]), n_jobs=-1)\n",
      "Got the result from ./20/test/filtrations/6/RadialFiltration_19_5/red/diagrams.npy\n",
      "Applying Scaler to persistence diagrams.\n",
      "Got the result from ./20/test/filtrations/6/RadialFiltration_19_5/red/features.npy\n",
      "FiltrationExtractor: processing 20/test/filtrations/6/RadialFiltration_19_5/green, do_fit = False, filtration = RadialFiltration(center=array([19,  5]), n_jobs=-1)\n",
      "Got the result from ./20/test/filtrations/6/RadialFiltration_19_5/green/diagrams.npy\n",
      "Applying Scaler to persistence diagrams.\n",
      "Got the result from ./20/test/filtrations/6/RadialFiltration_19_5/green/features.npy\n",
      "FiltrationExtractor: processing 20/test/filtrations/6/RadialFiltration_19_5/blue, do_fit = False, filtration = RadialFiltration(center=array([19,  5]), n_jobs=-1)\n",
      "Got the result from ./20/test/filtrations/6/RadialFiltration_19_5/blue/diagrams.npy\n",
      "Applying Scaler to persistence diagrams.\n",
      "Got the result from ./20/test/filtrations/6/RadialFiltration_19_5/blue/features.npy\n",
      "Applying filtration 66/72: RadialFiltration with c = (19, 12), bin. thr. = 0.6\n",
      "RGB images received. Transforming to grayscale.\n"
     ]
    },
    {
     "name": "stderr",
     "output_type": "stream",
     "text": [
      "rgb2gray: 100%|██████████| 10000/10000 [00:00<00:00, 20876.80it/s]\n"
     ]
    },
    {
     "name": "stdout",
     "output_type": "stream",
     "text": [
      "FiltrationExtractor: processing 20/test/filtrations/6/RadialFiltration_19_12/gray, do_fit = False, filtration = RadialFiltration(center=array([19, 12]), n_jobs=-1)\n",
      "Got the result from ./20/test/filtrations/6/RadialFiltration_19_12/gray/diagrams.npy\n",
      "Applying Scaler to persistence diagrams.\n",
      "Got the result from ./20/test/filtrations/6/RadialFiltration_19_12/gray/features.npy\n",
      "FiltrationExtractor: processing 20/test/filtrations/6/RadialFiltration_19_12/red, do_fit = False, filtration = RadialFiltration(center=array([19, 12]), n_jobs=-1)\n",
      "Got the result from ./20/test/filtrations/6/RadialFiltration_19_12/red/diagrams.npy\n",
      "Applying Scaler to persistence diagrams.\n",
      "Got the result from ./20/test/filtrations/6/RadialFiltration_19_12/red/features.npy\n",
      "FiltrationExtractor: processing 20/test/filtrations/6/RadialFiltration_19_12/green, do_fit = False, filtration = RadialFiltration(center=array([19, 12]), n_jobs=-1)\n",
      "Got the result from ./20/test/filtrations/6/RadialFiltration_19_12/green/diagrams.npy\n",
      "Applying Scaler to persistence diagrams.\n",
      "Got the result from ./20/test/filtrations/6/RadialFiltration_19_12/green/features.npy\n",
      "FiltrationExtractor: processing 20/test/filtrations/6/RadialFiltration_19_12/blue, do_fit = False, filtration = RadialFiltration(center=array([19, 12]), n_jobs=-1)\n",
      "Got the result from ./20/test/filtrations/6/RadialFiltration_19_12/blue/diagrams.npy\n",
      "Applying Scaler to persistence diagrams.\n",
      "Got the result from ./20/test/filtrations/6/RadialFiltration_19_12/blue/features.npy\n",
      "Applying filtration 67/72: RadialFiltration with c = (19, 19), bin. thr. = 0.6\n",
      "RGB images received. Transforming to grayscale.\n"
     ]
    },
    {
     "name": "stderr",
     "output_type": "stream",
     "text": [
      "rgb2gray: 100%|██████████| 10000/10000 [00:00<00:00, 15527.94it/s]\n"
     ]
    },
    {
     "name": "stdout",
     "output_type": "stream",
     "text": [
      "FiltrationExtractor: processing 20/test/filtrations/6/RadialFiltration_19_19/gray, do_fit = False, filtration = RadialFiltration(center=array([19, 19]), n_jobs=-1)\n",
      "Got the result from ./20/test/filtrations/6/RadialFiltration_19_19/gray/diagrams.npy\n",
      "Applying Scaler to persistence diagrams.\n",
      "Got the result from ./20/test/filtrations/6/RadialFiltration_19_19/gray/features.npy\n",
      "FiltrationExtractor: processing 20/test/filtrations/6/RadialFiltration_19_19/red, do_fit = False, filtration = RadialFiltration(center=array([19, 19]), n_jobs=-1)\n",
      "Got the result from ./20/test/filtrations/6/RadialFiltration_19_19/red/diagrams.npy\n",
      "Applying Scaler to persistence diagrams.\n",
      "Got the result from ./20/test/filtrations/6/RadialFiltration_19_19/red/features.npy\n",
      "FiltrationExtractor: processing 20/test/filtrations/6/RadialFiltration_19_19/green, do_fit = False, filtration = RadialFiltration(center=array([19, 19]), n_jobs=-1)\n",
      "Got the result from ./20/test/filtrations/6/RadialFiltration_19_19/green/diagrams.npy\n",
      "Applying Scaler to persistence diagrams.\n",
      "Got the result from ./20/test/filtrations/6/RadialFiltration_19_19/green/features.npy\n",
      "FiltrationExtractor: processing 20/test/filtrations/6/RadialFiltration_19_19/blue, do_fit = False, filtration = RadialFiltration(center=array([19, 19]), n_jobs=-1)\n",
      "Got the result from ./20/test/filtrations/6/RadialFiltration_19_19/blue/diagrams.npy\n",
      "Applying Scaler to persistence diagrams.\n",
      "Got the result from ./20/test/filtrations/6/RadialFiltration_19_19/blue/features.npy\n",
      "Applying filtration 68/72: RadialFiltration with c = (19, 26), bin. thr. = 0.6\n",
      "RGB images received. Transforming to grayscale.\n"
     ]
    },
    {
     "name": "stderr",
     "output_type": "stream",
     "text": [
      "rgb2gray: 100%|██████████| 10000/10000 [00:00<00:00, 19157.07it/s]\n"
     ]
    },
    {
     "name": "stdout",
     "output_type": "stream",
     "text": [
      "FiltrationExtractor: processing 20/test/filtrations/6/RadialFiltration_19_26/gray, do_fit = False, filtration = RadialFiltration(center=array([19, 26]), n_jobs=-1)\n",
      "Got the result from ./20/test/filtrations/6/RadialFiltration_19_26/gray/diagrams.npy\n",
      "Applying Scaler to persistence diagrams.\n",
      "Got the result from ./20/test/filtrations/6/RadialFiltration_19_26/gray/features.npy\n",
      "FiltrationExtractor: processing 20/test/filtrations/6/RadialFiltration_19_26/red, do_fit = False, filtration = RadialFiltration(center=array([19, 26]), n_jobs=-1)\n",
      "Got the result from ./20/test/filtrations/6/RadialFiltration_19_26/red/diagrams.npy\n",
      "Applying Scaler to persistence diagrams.\n",
      "Got the result from ./20/test/filtrations/6/RadialFiltration_19_26/red/features.npy\n",
      "FiltrationExtractor: processing 20/test/filtrations/6/RadialFiltration_19_26/green, do_fit = False, filtration = RadialFiltration(center=array([19, 26]), n_jobs=-1)\n",
      "Got the result from ./20/test/filtrations/6/RadialFiltration_19_26/green/diagrams.npy\n",
      "Applying Scaler to persistence diagrams.\n",
      "Got the result from ./20/test/filtrations/6/RadialFiltration_19_26/green/features.npy\n",
      "FiltrationExtractor: processing 20/test/filtrations/6/RadialFiltration_19_26/blue, do_fit = False, filtration = RadialFiltration(center=array([19, 26]), n_jobs=-1)\n",
      "Got the result from ./20/test/filtrations/6/RadialFiltration_19_26/blue/diagrams.npy\n",
      "Applying Scaler to persistence diagrams.\n",
      "Got the result from ./20/test/filtrations/6/RadialFiltration_19_26/blue/features.npy\n",
      "Applying filtration 69/72: RadialFiltration with c = (26, 5), bin. thr. = 0.6\n",
      "RGB images received. Transforming to grayscale.\n"
     ]
    },
    {
     "name": "stderr",
     "output_type": "stream",
     "text": [
      "rgb2gray: 100%|██████████| 10000/10000 [00:00<00:00, 19379.86it/s]\n"
     ]
    },
    {
     "name": "stdout",
     "output_type": "stream",
     "text": [
      "FiltrationExtractor: processing 20/test/filtrations/6/RadialFiltration_26_5/gray, do_fit = False, filtration = RadialFiltration(center=array([26,  5]), n_jobs=-1)\n",
      "Got the result from ./20/test/filtrations/6/RadialFiltration_26_5/gray/diagrams.npy\n",
      "Applying Scaler to persistence diagrams.\n",
      "Got the result from ./20/test/filtrations/6/RadialFiltration_26_5/gray/features.npy\n",
      "FiltrationExtractor: processing 20/test/filtrations/6/RadialFiltration_26_5/red, do_fit = False, filtration = RadialFiltration(center=array([26,  5]), n_jobs=-1)\n",
      "Got the result from ./20/test/filtrations/6/RadialFiltration_26_5/red/diagrams.npy\n",
      "Applying Scaler to persistence diagrams.\n",
      "Got the result from ./20/test/filtrations/6/RadialFiltration_26_5/red/features.npy\n",
      "FiltrationExtractor: processing 20/test/filtrations/6/RadialFiltration_26_5/green, do_fit = False, filtration = RadialFiltration(center=array([26,  5]), n_jobs=-1)\n",
      "Got the result from ./20/test/filtrations/6/RadialFiltration_26_5/green/diagrams.npy\n",
      "Applying Scaler to persistence diagrams.\n",
      "Got the result from ./20/test/filtrations/6/RadialFiltration_26_5/green/features.npy\n",
      "FiltrationExtractor: processing 20/test/filtrations/6/RadialFiltration_26_5/blue, do_fit = False, filtration = RadialFiltration(center=array([26,  5]), n_jobs=-1)\n",
      "Got the result from ./20/test/filtrations/6/RadialFiltration_26_5/blue/diagrams.npy\n",
      "Applying Scaler to persistence diagrams.\n",
      "Got the result from ./20/test/filtrations/6/RadialFiltration_26_5/blue/features.npy\n",
      "Applying filtration 70/72: RadialFiltration with c = (26, 12), bin. thr. = 0.6\n",
      "RGB images received. Transforming to grayscale.\n"
     ]
    },
    {
     "name": "stderr",
     "output_type": "stream",
     "text": [
      "rgb2gray: 100%|██████████| 10000/10000 [00:00<00:00, 19531.27it/s]\n"
     ]
    },
    {
     "name": "stdout",
     "output_type": "stream",
     "text": [
      "FiltrationExtractor: processing 20/test/filtrations/6/RadialFiltration_26_12/gray, do_fit = False, filtration = RadialFiltration(center=array([26, 12]), n_jobs=-1)\n",
      "Got the result from ./20/test/filtrations/6/RadialFiltration_26_12/gray/diagrams.npy\n",
      "Applying Scaler to persistence diagrams.\n",
      "Got the result from ./20/test/filtrations/6/RadialFiltration_26_12/gray/features.npy\n",
      "FiltrationExtractor: processing 20/test/filtrations/6/RadialFiltration_26_12/red, do_fit = False, filtration = RadialFiltration(center=array([26, 12]), n_jobs=-1)\n",
      "Got the result from ./20/test/filtrations/6/RadialFiltration_26_12/red/diagrams.npy\n",
      "Applying Scaler to persistence diagrams.\n",
      "Got the result from ./20/test/filtrations/6/RadialFiltration_26_12/red/features.npy\n",
      "FiltrationExtractor: processing 20/test/filtrations/6/RadialFiltration_26_12/green, do_fit = False, filtration = RadialFiltration(center=array([26, 12]), n_jobs=-1)\n",
      "Got the result from ./20/test/filtrations/6/RadialFiltration_26_12/green/diagrams.npy\n",
      "Applying Scaler to persistence diagrams.\n",
      "Got the result from ./20/test/filtrations/6/RadialFiltration_26_12/green/features.npy\n",
      "FiltrationExtractor: processing 20/test/filtrations/6/RadialFiltration_26_12/blue, do_fit = False, filtration = RadialFiltration(center=array([26, 12]), n_jobs=-1)\n",
      "Got the result from ./20/test/filtrations/6/RadialFiltration_26_12/blue/diagrams.npy\n",
      "Applying Scaler to persistence diagrams.\n",
      "Got the result from ./20/test/filtrations/6/RadialFiltration_26_12/blue/features.npy\n",
      "Applying filtration 71/72: RadialFiltration with c = (26, 19), bin. thr. = 0.6\n",
      "RGB images received. Transforming to grayscale.\n"
     ]
    },
    {
     "name": "stderr",
     "output_type": "stream",
     "text": [
      "rgb2gray: 100%|██████████| 10000/10000 [00:00<00:00, 19267.79it/s]\n"
     ]
    },
    {
     "name": "stdout",
     "output_type": "stream",
     "text": [
      "FiltrationExtractor: processing 20/test/filtrations/6/RadialFiltration_26_19/gray, do_fit = False, filtration = RadialFiltration(center=array([26, 19]), n_jobs=-1)\n",
      "Got the result from ./20/test/filtrations/6/RadialFiltration_26_19/gray/diagrams.npy\n",
      "Applying Scaler to persistence diagrams.\n",
      "Got the result from ./20/test/filtrations/6/RadialFiltration_26_19/gray/features.npy\n",
      "FiltrationExtractor: processing 20/test/filtrations/6/RadialFiltration_26_19/red, do_fit = False, filtration = RadialFiltration(center=array([26, 19]), n_jobs=-1)\n",
      "Got the result from ./20/test/filtrations/6/RadialFiltration_26_19/red/diagrams.npy\n",
      "Applying Scaler to persistence diagrams.\n",
      "Got the result from ./20/test/filtrations/6/RadialFiltration_26_19/red/features.npy\n",
      "FiltrationExtractor: processing 20/test/filtrations/6/RadialFiltration_26_19/green, do_fit = False, filtration = RadialFiltration(center=array([26, 19]), n_jobs=-1)\n",
      "Got the result from ./20/test/filtrations/6/RadialFiltration_26_19/green/diagrams.npy\n",
      "Applying Scaler to persistence diagrams.\n",
      "Got the result from ./20/test/filtrations/6/RadialFiltration_26_19/green/features.npy\n",
      "FiltrationExtractor: processing 20/test/filtrations/6/RadialFiltration_26_19/blue, do_fit = False, filtration = RadialFiltration(center=array([26, 19]), n_jobs=-1)\n",
      "Got the result from ./20/test/filtrations/6/RadialFiltration_26_19/blue/diagrams.npy\n",
      "Applying Scaler to persistence diagrams.\n",
      "Got the result from ./20/test/filtrations/6/RadialFiltration_26_19/blue/features.npy\n",
      "Applying filtration 72/72: RadialFiltration with c = (26, 26), bin. thr. = 0.6\n",
      "RGB images received. Transforming to grayscale.\n"
     ]
    },
    {
     "name": "stderr",
     "output_type": "stream",
     "text": [
      "rgb2gray: 100%|██████████| 10000/10000 [00:00<00:00, 20161.31it/s]\n"
     ]
    },
    {
     "name": "stdout",
     "output_type": "stream",
     "text": [
      "FiltrationExtractor: processing 20/test/filtrations/6/RadialFiltration_26_26/gray, do_fit = False, filtration = RadialFiltration(center=array([26, 26]), n_jobs=-1)\n",
      "Got the result from ./20/test/filtrations/6/RadialFiltration_26_26/gray/diagrams.npy\n",
      "Applying Scaler to persistence diagrams.\n",
      "Got the result from ./20/test/filtrations/6/RadialFiltration_26_26/gray/features.npy\n",
      "FiltrationExtractor: processing 20/test/filtrations/6/RadialFiltration_26_26/red, do_fit = False, filtration = RadialFiltration(center=array([26, 26]), n_jobs=-1)\n",
      "Got the result from ./20/test/filtrations/6/RadialFiltration_26_26/red/diagrams.npy\n",
      "Applying Scaler to persistence diagrams.\n",
      "Got the result from ./20/test/filtrations/6/RadialFiltration_26_26/red/features.npy\n",
      "FiltrationExtractor: processing 20/test/filtrations/6/RadialFiltration_26_26/green, do_fit = False, filtration = RadialFiltration(center=array([26, 26]), n_jobs=-1)\n",
      "Got the result from ./20/test/filtrations/6/RadialFiltration_26_26/green/diagrams.npy\n",
      "Applying Scaler to persistence diagrams.\n",
      "Got the result from ./20/test/filtrations/6/RadialFiltration_26_26/green/features.npy\n",
      "FiltrationExtractor: processing 20/test/filtrations/6/RadialFiltration_26_26/blue, do_fit = False, filtration = RadialFiltration(center=array([26, 26]), n_jobs=-1)\n",
      "Got the result from ./20/test/filtrations/6/RadialFiltration_26_26/blue/diagrams.npy\n",
      "Applying Scaler to persistence diagrams.\n",
      "Got the result from ./20/test/filtrations/6/RadialFiltration_26_26/blue/features.npy\n",
      "RGB images received. Transforming to grayscale.\n",
      "Got the result from ./20/test/geometry/rgb/features.npy\n"
     ]
    },
    {
     "name": "stderr",
     "output_type": "stream",
     "text": [
      "rgb2gray: 100%|██████████| 10000/10000 [00:00<00:00, 14792.91it/s]\n"
     ]
    },
    {
     "name": "stdout",
     "output_type": "stream",
     "text": [
      "Got the result from ./20/test/geometry/gray/features.npy\n",
      "Got the result from ./20/test/geometry/red/features.npy\n",
      "Got the result from ./20/test/geometry/green/features.npy\n",
      "Got the result from ./20/test/geometry/blue/features.npy\n",
      "Applying StandardScaler.\n"
     ]
    }
   ],
   "source": [
    "import cvtda.topology\n",
    "extractor = cvtda.topology.FeatureExtractor(only_get_from_dump = False, return_diagrams = False)\n",
    "extractor = extractor.fit(train_images, \"20/train\")\n",
    "train_features = extractor.transform(train_images, \"20/train\")\n",
    "test_features = extractor.transform(test_images, \"20/test\")"
   ]
  },
  {
   "cell_type": "code",
   "execution_count": 3,
   "id": "347fbf84",
   "metadata": {},
   "outputs": [
    {
     "name": "stderr",
     "output_type": "stream",
     "text": [
      "information values: 100%|██████████| 43103/43103 [02:42<00:00, 264.47it/s]\n"
     ]
    },
    {
     "data": {
      "text/html": [
       "<div>\n",
       "<style scoped>\n",
       "    .dataframe tbody tr th:only-of-type {\n",
       "        vertical-align: middle;\n",
       "    }\n",
       "\n",
       "    .dataframe tbody tr th {\n",
       "        vertical-align: top;\n",
       "    }\n",
       "\n",
       "    .dataframe thead th {\n",
       "        text-align: right;\n",
       "    }\n",
       "</style>\n",
       "<table border=\"1\" class=\"dataframe\">\n",
       "  <thead>\n",
       "    <tr style=\"text-align: right;\">\n",
       "      <th></th>\n",
       "      <th>IV</th>\n",
       "      <th>feature</th>\n",
       "    </tr>\n",
       "  </thead>\n",
       "  <tbody>\n",
       "    <tr>\n",
       "      <th>0</th>\n",
       "      <td>0.217982</td>\n",
       "      <td>greyscale -&gt; gray -&gt; betti-0</td>\n",
       "    </tr>\n",
       "    <tr>\n",
       "      <th>1</th>\n",
       "      <td>0.217959</td>\n",
       "      <td>greyscale -&gt; gray -&gt; betti-1</td>\n",
       "    </tr>\n",
       "    <tr>\n",
       "      <th>2</th>\n",
       "      <td>0.268926</td>\n",
       "      <td>greyscale -&gt; gray -&gt; betti-2</td>\n",
       "    </tr>\n",
       "    <tr>\n",
       "      <th>3</th>\n",
       "      <td>0.231904</td>\n",
       "      <td>greyscale -&gt; gray -&gt; betti-3</td>\n",
       "    </tr>\n",
       "    <tr>\n",
       "      <th>4</th>\n",
       "      <td>0.324186</td>\n",
       "      <td>greyscale -&gt; gray -&gt; betti-4</td>\n",
       "    </tr>\n",
       "    <tr>\n",
       "      <th>...</th>\n",
       "      <td>...</td>\n",
       "      <td>...</td>\n",
       "    </tr>\n",
       "    <tr>\n",
       "      <th>43098</th>\n",
       "      <td>0.128243</td>\n",
       "      <td>geometry -&gt; blue -&gt; curvature-19</td>\n",
       "    </tr>\n",
       "    <tr>\n",
       "      <th>43099</th>\n",
       "      <td>0.082722</td>\n",
       "      <td>geometry -&gt; blue -&gt; curvature-20</td>\n",
       "    </tr>\n",
       "    <tr>\n",
       "      <th>43100</th>\n",
       "      <td>0.207525</td>\n",
       "      <td>geometry -&gt; blue -&gt; curvature-21</td>\n",
       "    </tr>\n",
       "    <tr>\n",
       "      <th>43101</th>\n",
       "      <td>0.169833</td>\n",
       "      <td>geometry -&gt; blue -&gt; curvature-22</td>\n",
       "    </tr>\n",
       "    <tr>\n",
       "      <th>43102</th>\n",
       "      <td>0.075935</td>\n",
       "      <td>geometry -&gt; blue -&gt; curvature-23</td>\n",
       "    </tr>\n",
       "  </tbody>\n",
       "</table>\n",
       "<p>43103 rows × 2 columns</p>\n",
       "</div>"
      ],
      "text/plain": [
       "             IV                           feature\n",
       "0      0.217982      greyscale -> gray -> betti-0\n",
       "1      0.217959      greyscale -> gray -> betti-1\n",
       "2      0.268926      greyscale -> gray -> betti-2\n",
       "3      0.231904      greyscale -> gray -> betti-3\n",
       "4      0.324186      greyscale -> gray -> betti-4\n",
       "...         ...                               ...\n",
       "43098  0.128243  geometry -> blue -> curvature-19\n",
       "43099  0.082722  geometry -> blue -> curvature-20\n",
       "43100  0.207525  geometry -> blue -> curvature-21\n",
       "43101  0.169833  geometry -> blue -> curvature-22\n",
       "43102  0.075935  geometry -> blue -> curvature-23\n",
       "\n",
       "[43103 rows x 2 columns]"
      ]
     },
     "execution_count": 3,
     "metadata": {},
     "output_type": "execute_result"
    }
   ],
   "source": [
    "import cvtda.classification\n",
    "IV = cvtda.classification.calculate_information_value(train_features, train_labels)\n",
    "\n",
    "import pandas\n",
    "scores = pandas.DataFrame([ IV, extractor.feature_names() ]).transpose()\n",
    "scores.columns = [ \"IV\", \"feature\" ]\n",
    "\n",
    "import os\n",
    "os.makedirs(os.path.dirname(\"24/scores.csv\"), exist_ok = True)\n",
    "scores.to_csv(\"24/scores.csv\")\n",
    "scores"
   ]
  },
  {
   "cell_type": "code",
   "execution_count": 1,
   "id": "13b6ffad",
   "metadata": {},
   "outputs": [
    {
     "data": {
      "image/png": "[encoded data removed]",
      "text/plain": [
       "<Figure size 1000x1000 with 3 Axes>"
      ]
     },
     "metadata": {},
     "output_type": "display_data"
    }
   ],
   "source": [
    "import re\n",
    "import pandas\n",
    "import matplotlib.pyplot as plt\n",
    "\n",
    "def parse_filtration(value):\n",
    "    if value in ('greyscale', 'inverted_greyscale', 'geometry'): return value\n",
    "    return ', '.join(re.match(r\"(.*)Filtration with (.*)\", value).groups())\n",
    "scores = pandas.read_csv(\"24/scores.csv\")\n",
    "scores['IV'] = scores['IV'].astype(float)\n",
    "scores[[\"type\", \"color\", \"details\"]] = scores[\"feature\"].str.split(\" -> \", expand = True)\n",
    "scores[[\"name\", \"threshold\"]] = scores[\"type\"].str.split(\", bin. \", expand = True)\n",
    "scores[\"name\"] = scores[\"name\"].apply(parse_filtration)\n",
    "\n",
    "def draw(by: str, ax):\n",
    "    grouped = scores.groupby(by = by).mean(numeric_only = True).reset_index()\n",
    "    grouped = grouped.sort_values(by = 'IV', ascending = True)\n",
    "    grouped.plot.barh(x = by, y = 'IV', ax = ax, legend = None)\n",
    "    ax.set_xlabel('')\n",
    "    ax.set_ylabel('')\n",
    "\n",
    "plt.rcParams.update({'font.size': 16})\n",
    "fig, axes = plt.subplot_mosaic([ [ \"name\", \"threshold\" ], [ \"name\", \"color\" ] ], figsize = (10, 10), height_ratios = [ 3, 5 ])\n",
    "fig.suptitle(\"CIFAR-10\")\n",
    "draw('name', axes['name'])\n",
    "draw('threshold', axes['threshold'])\n",
    "draw('color', axes['color'])\n",
    "fig.tight_layout()\n",
    "fig.savefig(\"24/iv.png\")\n",
    "fig.savefig(\"24/iv.svg\")"
   ]
  }
 ],
 "metadata": {
  "kernelspec": {
   "display_name": "Python 3",
   "language": "python",
   "name": "python3"
  },
  "language_info": {
   "codemirror_mode": {
    "name": "ipython",
    "version": 3
   },
   "file_extension": ".py",
   "mimetype": "text/x-python",
   "name": "python",
   "nbconvert_exporter": "python",
   "pygments_lexer": "ipython3",
   "version": "3.10.11"
  }
 },
 "nbformat": 4,
 "nbformat_minor": 5
}
