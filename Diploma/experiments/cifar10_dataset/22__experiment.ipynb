{
 "cells": [
  {
   "cell_type": "code",
   "execution_count": 2,
   "metadata": {},
   "outputs": [
    {
     "name": "stdout",
     "output_type": "stream",
     "text": [
      "(50000, 32, 32, 3) (10000, 32, 32, 3)\n"
     ]
    }
   ],
   "source": [
    "import numpy\n",
    "import torchvision\n",
    "\n",
    "train = torchvision.datasets.CIFAR10('cifar-10', train = True, download = False)\n",
    "test = torchvision.datasets.CIFAR10('cifar-10', train = False, download = False)\n",
    "\n",
    "train_images = numpy.array([ numpy.array(item[0]) / 255 for item in train ])\n",
    "train_labels = numpy.array([ item[1] for item in train ])\n",
    "\n",
    "test_images = numpy.array([ numpy.array(item[0]) / 255 for item in test ])\n",
    "test_labels = numpy.array([ item[1] for item in test ])\n",
    "\n",
    "print(train_images.shape, test_images.shape)"
   ]
  },
  {
   "cell_type": "code",
   "execution_count": 3,
   "metadata": {},
   "outputs": [
    {
     "data": {
      "text/plain": [
       "((50000, 43103), (10000, 43103))"
      ]
     },
     "execution_count": 3,
     "metadata": {},
     "output_type": "execute_result"
    }
   ],
   "source": [
    "train_features = numpy.load(\"20/train_features.npy\")\n",
    "test_features = numpy.load(\"20/test_features.npy\")\n",
    "\n",
    "train_features.shape, test_features.shape"
   ]
  },
  {
   "cell_type": "code",
   "execution_count": 4,
   "metadata": {},
   "outputs": [
    {
     "name": "stdout",
     "output_type": "stream",
     "text": [
      "Calculating inverted images\n",
      "RGB images received. Transforming to grayscale.\n"
     ]
    },
    {
     "name": "stderr",
     "output_type": "stream",
     "text": [
      "rgb2gray: 100%|██████████| 50000/50000 [00:04<00:00, 10292.76it/s]\n"
     ]
    },
    {
     "name": "stdout",
     "output_type": "stream",
     "text": [
      "Got the result from ./20/train/greyscale/gray/diagrams.npy\n",
      "Applying Scaler to persistence diagrams.\n",
      "Got the result from ./20/train/greyscale/gray/diagrams.npy\n",
      "Applying Scaler to persistence diagrams.\n",
      "Got the result from ./20/train/greyscale/red/diagrams.npy\n",
      "Applying Scaler to persistence diagrams.\n",
      "Got the result from ./20/train/greyscale/red/diagrams.npy\n",
      "Applying Scaler to persistence diagrams.\n",
      "Got the result from ./20/train/greyscale/green/diagrams.npy\n",
      "Applying Scaler to persistence diagrams.\n",
      "Got the result from ./20/train/greyscale/green/diagrams.npy\n",
      "Applying Scaler to persistence diagrams.\n",
      "Got the result from ./20/train/greyscale/blue/diagrams.npy\n",
      "Applying Scaler to persistence diagrams.\n",
      "Got the result from ./20/train/greyscale/blue/diagrams.npy\n",
      "Applying Scaler to persistence diagrams.\n",
      "RGB images received. Transforming to grayscale.\n"
     ]
    },
    {
     "name": "stderr",
     "output_type": "stream",
     "text": [
      "rgb2gray: 100%|██████████| 50000/50000 [00:03<00:00, 12960.52it/s]\n"
     ]
    },
    {
     "name": "stdout",
     "output_type": "stream",
     "text": [
      "Got the result from ./20/train/greyscale/gray/diagrams.npy\n",
      "Applying Scaler to persistence diagrams.\n",
      "Got the result from ./20/train/greyscale/red/diagrams.npy\n",
      "Applying Scaler to persistence diagrams.\n",
      "Got the result from ./20/train/greyscale/green/diagrams.npy\n",
      "Applying Scaler to persistence diagrams.\n",
      "Got the result from ./20/train/greyscale/blue/diagrams.npy\n",
      "Applying Scaler to persistence diagrams.\n",
      "RGB images received. Transforming to grayscale.\n"
     ]
    },
    {
     "name": "stderr",
     "output_type": "stream",
     "text": [
      "rgb2gray: 100%|██████████| 50000/50000 [00:03<00:00, 13058.89it/s]\n"
     ]
    },
    {
     "name": "stdout",
     "output_type": "stream",
     "text": [
      "Got the result from ./20/train/inverted_greyscale/gray/diagrams.npy\n",
      "Applying Scaler to persistence diagrams.\n",
      "Got the result from ./20/train/inverted_greyscale/gray/diagrams.npy\n",
      "Applying Scaler to persistence diagrams.\n",
      "Got the result from ./20/train/inverted_greyscale/red/diagrams.npy\n",
      "Applying Scaler to persistence diagrams.\n",
      "Got the result from ./20/train/inverted_greyscale/red/diagrams.npy\n",
      "Applying Scaler to persistence diagrams.\n",
      "Got the result from ./20/train/inverted_greyscale/green/diagrams.npy\n",
      "Applying Scaler to persistence diagrams.\n",
      "Got the result from ./20/train/inverted_greyscale/green/diagrams.npy\n",
      "Applying Scaler to persistence diagrams.\n",
      "Got the result from ./20/train/inverted_greyscale/blue/diagrams.npy\n",
      "Applying Scaler to persistence diagrams.\n",
      "Got the result from ./20/train/inverted_greyscale/blue/diagrams.npy\n",
      "Applying Scaler to persistence diagrams.\n",
      "RGB images received. Transforming to grayscale.\n"
     ]
    },
    {
     "name": "stderr",
     "output_type": "stream",
     "text": [
      "rgb2gray: 100%|██████████| 50000/50000 [00:03<00:00, 13281.67it/s]\n"
     ]
    },
    {
     "name": "stdout",
     "output_type": "stream",
     "text": [
      "Got the result from ./20/train/inverted_greyscale/gray/diagrams.npy\n",
      "Applying Scaler to persistence diagrams.\n",
      "Got the result from ./20/train/inverted_greyscale/red/diagrams.npy\n",
      "Applying Scaler to persistence diagrams.\n",
      "Got the result from ./20/train/inverted_greyscale/green/diagrams.npy\n",
      "Applying Scaler to persistence diagrams.\n",
      "Got the result from ./20/train/inverted_greyscale/blue/diagrams.npy\n",
      "Applying Scaler to persistence diagrams.\n",
      "Fitting filtrations\n",
      "Calculated radial centers for images of size 32x32: [ 5 12 19 26]x[ 5 12 19 26]\n",
      "Fitting filtration 1/72: 2/HeightFiltrartion_-1_-1\n",
      "RGB images received. Transforming to grayscale.\n"
     ]
    },
    {
     "name": "stderr",
     "output_type": "stream",
     "text": [
      "rgb2gray: 100%|██████████| 50000/50000 [00:03<00:00, 13327.92it/s]\n"
     ]
    },
    {
     "name": "stdout",
     "output_type": "stream",
     "text": [
      "Got the result from ./20/train/filtrations/2/HeightFiltrartion_-1_-1/gray/diagrams.npy\n",
      "Applying Scaler to persistence diagrams.\n",
      "Got the result from ./20/train/filtrations/2/HeightFiltrartion_-1_-1/gray/diagrams.npy\n",
      "Applying Scaler to persistence diagrams.\n",
      "Got the result from ./20/train/filtrations/2/HeightFiltrartion_-1_-1/red/diagrams.npy\n",
      "Applying Scaler to persistence diagrams.\n",
      "Got the result from ./20/train/filtrations/2/HeightFiltrartion_-1_-1/red/diagrams.npy\n",
      "Applying Scaler to persistence diagrams.\n",
      "Got the result from ./20/train/filtrations/2/HeightFiltrartion_-1_-1/green/diagrams.npy\n",
      "Applying Scaler to persistence diagrams.\n",
      "Got the result from ./20/train/filtrations/2/HeightFiltrartion_-1_-1/green/diagrams.npy\n",
      "Applying Scaler to persistence diagrams.\n",
      "Got the result from ./20/train/filtrations/2/HeightFiltrartion_-1_-1/blue/diagrams.npy\n",
      "Applying Scaler to persistence diagrams.\n",
      "Got the result from ./20/train/filtrations/2/HeightFiltrartion_-1_-1/blue/diagrams.npy\n",
      "Applying Scaler to persistence diagrams.\n",
      "Fitting filtration 2/72: 2/HeightFiltrartion_1_1\n",
      "RGB images received. Transforming to grayscale.\n"
     ]
    },
    {
     "name": "stderr",
     "output_type": "stream",
     "text": [
      "rgb2gray: 100%|██████████| 50000/50000 [00:03<00:00, 13312.26it/s]\n"
     ]
    },
    {
     "name": "stdout",
     "output_type": "stream",
     "text": [
      "Got the result from ./20/train/filtrations/2/HeightFiltrartion_1_1/gray/diagrams.npy\n",
      "Applying Scaler to persistence diagrams.\n",
      "Got the result from ./20/train/filtrations/2/HeightFiltrartion_1_1/gray/diagrams.npy\n",
      "Applying Scaler to persistence diagrams.\n",
      "Got the result from ./20/train/filtrations/2/HeightFiltrartion_1_1/red/diagrams.npy\n",
      "Applying Scaler to persistence diagrams.\n",
      "Got the result from ./20/train/filtrations/2/HeightFiltrartion_1_1/red/diagrams.npy\n",
      "Applying Scaler to persistence diagrams.\n",
      "Got the result from ./20/train/filtrations/2/HeightFiltrartion_1_1/green/diagrams.npy\n",
      "Applying Scaler to persistence diagrams.\n",
      "Got the result from ./20/train/filtrations/2/HeightFiltrartion_1_1/green/diagrams.npy\n",
      "Applying Scaler to persistence diagrams.\n",
      "Got the result from ./20/train/filtrations/2/HeightFiltrartion_1_1/blue/diagrams.npy\n",
      "Applying Scaler to persistence diagrams.\n",
      "Got the result from ./20/train/filtrations/2/HeightFiltrartion_1_1/blue/diagrams.npy\n",
      "Applying Scaler to persistence diagrams.\n",
      "Fitting filtration 3/72: 2/HeightFiltrartion_1_-1\n",
      "RGB images received. Transforming to grayscale.\n"
     ]
    },
    {
     "name": "stderr",
     "output_type": "stream",
     "text": [
      "rgb2gray: 100%|██████████| 50000/50000 [00:03<00:00, 13195.10it/s]\n"
     ]
    },
    {
     "name": "stdout",
     "output_type": "stream",
     "text": [
      "Got the result from ./20/train/filtrations/2/HeightFiltrartion_1_-1/gray/diagrams.npy\n",
      "Applying Scaler to persistence diagrams.\n",
      "Got the result from ./20/train/filtrations/2/HeightFiltrartion_1_-1/gray/diagrams.npy\n",
      "Applying Scaler to persistence diagrams.\n",
      "Got the result from ./20/train/filtrations/2/HeightFiltrartion_1_-1/red/diagrams.npy\n",
      "Applying Scaler to persistence diagrams.\n",
      "Got the result from ./20/train/filtrations/2/HeightFiltrartion_1_-1/red/diagrams.npy\n",
      "Applying Scaler to persistence diagrams.\n",
      "Got the result from ./20/train/filtrations/2/HeightFiltrartion_1_-1/green/diagrams.npy\n",
      "Applying Scaler to persistence diagrams.\n",
      "Got the result from ./20/train/filtrations/2/HeightFiltrartion_1_-1/green/diagrams.npy\n",
      "Applying Scaler to persistence diagrams.\n",
      "Got the result from ./20/train/filtrations/2/HeightFiltrartion_1_-1/blue/diagrams.npy\n",
      "Applying Scaler to persistence diagrams.\n",
      "Got the result from ./20/train/filtrations/2/HeightFiltrartion_1_-1/blue/diagrams.npy\n",
      "Applying Scaler to persistence diagrams.\n",
      "Fitting filtration 4/72: 2/HeightFiltrartion_-1_1\n",
      "RGB images received. Transforming to grayscale.\n"
     ]
    },
    {
     "name": "stderr",
     "output_type": "stream",
     "text": [
      "rgb2gray: 100%|██████████| 50000/50000 [00:03<00:00, 13162.21it/s]\n"
     ]
    },
    {
     "name": "stdout",
     "output_type": "stream",
     "text": [
      "Got the result from ./20/train/filtrations/2/HeightFiltrartion_-1_1/gray/diagrams.npy\n",
      "Applying Scaler to persistence diagrams.\n",
      "Got the result from ./20/train/filtrations/2/HeightFiltrartion_-1_1/gray/diagrams.npy\n",
      "Applying Scaler to persistence diagrams.\n",
      "Got the result from ./20/train/filtrations/2/HeightFiltrartion_-1_1/red/diagrams.npy\n",
      "Applying Scaler to persistence diagrams.\n",
      "Got the result from ./20/train/filtrations/2/HeightFiltrartion_-1_1/red/diagrams.npy\n",
      "Applying Scaler to persistence diagrams.\n",
      "Got the result from ./20/train/filtrations/2/HeightFiltrartion_-1_1/green/diagrams.npy\n",
      "Applying Scaler to persistence diagrams.\n",
      "Got the result from ./20/train/filtrations/2/HeightFiltrartion_-1_1/green/diagrams.npy\n",
      "Applying Scaler to persistence diagrams.\n",
      "Got the result from ./20/train/filtrations/2/HeightFiltrartion_-1_1/blue/diagrams.npy\n",
      "Applying Scaler to persistence diagrams.\n",
      "Got the result from ./20/train/filtrations/2/HeightFiltrartion_-1_1/blue/diagrams.npy\n",
      "Applying Scaler to persistence diagrams.\n",
      "Fitting filtration 5/72: 2/HeightFiltrartion_0_-1\n",
      "RGB images received. Transforming to grayscale.\n"
     ]
    },
    {
     "name": "stderr",
     "output_type": "stream",
     "text": [
      "rgb2gray: 100%|██████████| 50000/50000 [00:03<00:00, 12972.54it/s]\n"
     ]
    },
    {
     "name": "stdout",
     "output_type": "stream",
     "text": [
      "Got the result from ./20/train/filtrations/2/HeightFiltrartion_0_-1/gray/diagrams.npy\n",
      "Applying Scaler to persistence diagrams.\n",
      "Got the result from ./20/train/filtrations/2/HeightFiltrartion_0_-1/gray/diagrams.npy\n",
      "Applying Scaler to persistence diagrams.\n",
      "Got the result from ./20/train/filtrations/2/HeightFiltrartion_0_-1/red/diagrams.npy\n",
      "Applying Scaler to persistence diagrams.\n",
      "Got the result from ./20/train/filtrations/2/HeightFiltrartion_0_-1/red/diagrams.npy\n",
      "Applying Scaler to persistence diagrams.\n",
      "Got the result from ./20/train/filtrations/2/HeightFiltrartion_0_-1/green/diagrams.npy\n",
      "Applying Scaler to persistence diagrams.\n",
      "Got the result from ./20/train/filtrations/2/HeightFiltrartion_0_-1/green/diagrams.npy\n",
      "Applying Scaler to persistence diagrams.\n",
      "Got the result from ./20/train/filtrations/2/HeightFiltrartion_0_-1/blue/diagrams.npy\n",
      "Applying Scaler to persistence diagrams.\n",
      "Got the result from ./20/train/filtrations/2/HeightFiltrartion_0_-1/blue/diagrams.npy\n",
      "Applying Scaler to persistence diagrams.\n",
      "Fitting filtration 6/72: 2/HeightFiltrartion_0_1\n",
      "RGB images received. Transforming to grayscale.\n"
     ]
    },
    {
     "name": "stderr",
     "output_type": "stream",
     "text": [
      "rgb2gray: 100%|██████████| 50000/50000 [00:03<00:00, 13192.77it/s]\n"
     ]
    },
    {
     "name": "stdout",
     "output_type": "stream",
     "text": [
      "Got the result from ./20/train/filtrations/2/HeightFiltrartion_0_1/gray/diagrams.npy\n",
      "Applying Scaler to persistence diagrams.\n",
      "Got the result from ./20/train/filtrations/2/HeightFiltrartion_0_1/gray/diagrams.npy\n",
      "Applying Scaler to persistence diagrams.\n",
      "Got the result from ./20/train/filtrations/2/HeightFiltrartion_0_1/red/diagrams.npy\n",
      "Applying Scaler to persistence diagrams.\n",
      "Got the result from ./20/train/filtrations/2/HeightFiltrartion_0_1/red/diagrams.npy\n",
      "Applying Scaler to persistence diagrams.\n",
      "Got the result from ./20/train/filtrations/2/HeightFiltrartion_0_1/green/diagrams.npy\n",
      "Applying Scaler to persistence diagrams.\n",
      "Got the result from ./20/train/filtrations/2/HeightFiltrartion_0_1/green/diagrams.npy\n",
      "Applying Scaler to persistence diagrams.\n",
      "Got the result from ./20/train/filtrations/2/HeightFiltrartion_0_1/blue/diagrams.npy\n",
      "Applying Scaler to persistence diagrams.\n",
      "Got the result from ./20/train/filtrations/2/HeightFiltrartion_0_1/blue/diagrams.npy\n",
      "Applying Scaler to persistence diagrams.\n",
      "Fitting filtration 7/72: 2/HeightFiltrartion_-1_0\n",
      "RGB images received. Transforming to grayscale.\n"
     ]
    },
    {
     "name": "stderr",
     "output_type": "stream",
     "text": [
      "rgb2gray: 100%|██████████| 50000/50000 [00:03<00:00, 13043.08it/s]\n"
     ]
    },
    {
     "name": "stdout",
     "output_type": "stream",
     "text": [
      "Got the result from ./20/train/filtrations/2/HeightFiltrartion_-1_0/gray/diagrams.npy\n",
      "Applying Scaler to persistence diagrams.\n",
      "Got the result from ./20/train/filtrations/2/HeightFiltrartion_-1_0/gray/diagrams.npy\n",
      "Applying Scaler to persistence diagrams.\n",
      "Got the result from ./20/train/filtrations/2/HeightFiltrartion_-1_0/red/diagrams.npy\n",
      "Applying Scaler to persistence diagrams.\n",
      "Got the result from ./20/train/filtrations/2/HeightFiltrartion_-1_0/red/diagrams.npy\n",
      "Applying Scaler to persistence diagrams.\n",
      "Got the result from ./20/train/filtrations/2/HeightFiltrartion_-1_0/green/diagrams.npy\n",
      "Applying Scaler to persistence diagrams.\n",
      "Got the result from ./20/train/filtrations/2/HeightFiltrartion_-1_0/green/diagrams.npy\n",
      "Applying Scaler to persistence diagrams.\n",
      "Got the result from ./20/train/filtrations/2/HeightFiltrartion_-1_0/blue/diagrams.npy\n",
      "Applying Scaler to persistence diagrams.\n",
      "Got the result from ./20/train/filtrations/2/HeightFiltrartion_-1_0/blue/diagrams.npy\n",
      "Applying Scaler to persistence diagrams.\n",
      "Fitting filtration 8/72: 2/HeightFiltrartion_1_0\n",
      "RGB images received. Transforming to grayscale.\n"
     ]
    },
    {
     "name": "stderr",
     "output_type": "stream",
     "text": [
      "rgb2gray: 100%|██████████| 50000/50000 [00:03<00:00, 13018.49it/s]\n"
     ]
    },
    {
     "name": "stdout",
     "output_type": "stream",
     "text": [
      "Got the result from ./20/train/filtrations/2/HeightFiltrartion_1_0/gray/diagrams.npy\n",
      "Applying Scaler to persistence diagrams.\n",
      "Got the result from ./20/train/filtrations/2/HeightFiltrartion_1_0/gray/diagrams.npy\n",
      "Applying Scaler to persistence diagrams.\n",
      "Got the result from ./20/train/filtrations/2/HeightFiltrartion_1_0/red/diagrams.npy\n",
      "Applying Scaler to persistence diagrams.\n",
      "Got the result from ./20/train/filtrations/2/HeightFiltrartion_1_0/red/diagrams.npy\n",
      "Applying Scaler to persistence diagrams.\n",
      "Got the result from ./20/train/filtrations/2/HeightFiltrartion_1_0/green/diagrams.npy\n",
      "Applying Scaler to persistence diagrams.\n",
      "Got the result from ./20/train/filtrations/2/HeightFiltrartion_1_0/green/diagrams.npy\n",
      "Applying Scaler to persistence diagrams.\n",
      "Got the result from ./20/train/filtrations/2/HeightFiltrartion_1_0/blue/diagrams.npy\n",
      "Applying Scaler to persistence diagrams.\n",
      "Got the result from ./20/train/filtrations/2/HeightFiltrartion_1_0/blue/diagrams.npy\n",
      "Applying Scaler to persistence diagrams.\n",
      "Fitting filtration 9/72: 2/RadialFiltration_5_5\n",
      "RGB images received. Transforming to grayscale.\n"
     ]
    },
    {
     "name": "stderr",
     "output_type": "stream",
     "text": [
      "rgb2gray: 100%|██████████| 50000/50000 [00:03<00:00, 13093.70it/s]\n"
     ]
    },
    {
     "name": "stdout",
     "output_type": "stream",
     "text": [
      "Got the result from ./20/train/filtrations/2/RadialFiltration_5_5/gray/diagrams.npy\n",
      "Applying Scaler to persistence diagrams.\n",
      "Got the result from ./20/train/filtrations/2/RadialFiltration_5_5/gray/diagrams.npy\n",
      "Applying Scaler to persistence diagrams.\n",
      "Got the result from ./20/train/filtrations/2/RadialFiltration_5_5/red/diagrams.npy\n",
      "Applying Scaler to persistence diagrams.\n",
      "Got the result from ./20/train/filtrations/2/RadialFiltration_5_5/red/diagrams.npy\n",
      "Applying Scaler to persistence diagrams.\n",
      "Got the result from ./20/train/filtrations/2/RadialFiltration_5_5/green/diagrams.npy\n",
      "Applying Scaler to persistence diagrams.\n",
      "Got the result from ./20/train/filtrations/2/RadialFiltration_5_5/green/diagrams.npy\n",
      "Applying Scaler to persistence diagrams.\n",
      "Got the result from ./20/train/filtrations/2/RadialFiltration_5_5/blue/diagrams.npy\n",
      "Applying Scaler to persistence diagrams.\n",
      "Got the result from ./20/train/filtrations/2/RadialFiltration_5_5/blue/diagrams.npy\n",
      "Applying Scaler to persistence diagrams.\n",
      "Fitting filtration 10/72: 2/RadialFiltration_5_12\n",
      "RGB images received. Transforming to grayscale.\n"
     ]
    },
    {
     "name": "stderr",
     "output_type": "stream",
     "text": [
      "rgb2gray: 100%|██████████| 50000/50000 [00:03<00:00, 12827.41it/s]\n"
     ]
    },
    {
     "name": "stdout",
     "output_type": "stream",
     "text": [
      "Got the result from ./20/train/filtrations/2/RadialFiltration_5_12/gray/diagrams.npy\n",
      "Applying Scaler to persistence diagrams.\n",
      "Got the result from ./20/train/filtrations/2/RadialFiltration_5_12/gray/diagrams.npy\n",
      "Applying Scaler to persistence diagrams.\n",
      "Got the result from ./20/train/filtrations/2/RadialFiltration_5_12/red/diagrams.npy\n",
      "Applying Scaler to persistence diagrams.\n",
      "Got the result from ./20/train/filtrations/2/RadialFiltration_5_12/red/diagrams.npy\n",
      "Applying Scaler to persistence diagrams.\n",
      "Got the result from ./20/train/filtrations/2/RadialFiltration_5_12/green/diagrams.npy\n",
      "Applying Scaler to persistence diagrams.\n",
      "Got the result from ./20/train/filtrations/2/RadialFiltration_5_12/green/diagrams.npy\n",
      "Applying Scaler to persistence diagrams.\n",
      "Got the result from ./20/train/filtrations/2/RadialFiltration_5_12/blue/diagrams.npy\n",
      "Applying Scaler to persistence diagrams.\n",
      "Got the result from ./20/train/filtrations/2/RadialFiltration_5_12/blue/diagrams.npy\n",
      "Applying Scaler to persistence diagrams.\n",
      "Fitting filtration 11/72: 2/RadialFiltration_5_19\n",
      "RGB images received. Transforming to grayscale.\n"
     ]
    },
    {
     "name": "stderr",
     "output_type": "stream",
     "text": [
      "rgb2gray: 100%|██████████| 50000/50000 [00:03<00:00, 12777.93it/s]\n"
     ]
    },
    {
     "name": "stdout",
     "output_type": "stream",
     "text": [
      "Got the result from ./20/train/filtrations/2/RadialFiltration_5_19/gray/diagrams.npy\n",
      "Applying Scaler to persistence diagrams.\n",
      "Got the result from ./20/train/filtrations/2/RadialFiltration_5_19/gray/diagrams.npy\n",
      "Applying Scaler to persistence diagrams.\n",
      "Got the result from ./20/train/filtrations/2/RadialFiltration_5_19/red/diagrams.npy\n",
      "Applying Scaler to persistence diagrams.\n",
      "Got the result from ./20/train/filtrations/2/RadialFiltration_5_19/red/diagrams.npy\n",
      "Applying Scaler to persistence diagrams.\n",
      "Got the result from ./20/train/filtrations/2/RadialFiltration_5_19/green/diagrams.npy\n",
      "Applying Scaler to persistence diagrams.\n",
      "Got the result from ./20/train/filtrations/2/RadialFiltration_5_19/green/diagrams.npy\n",
      "Applying Scaler to persistence diagrams.\n",
      "Got the result from ./20/train/filtrations/2/RadialFiltration_5_19/blue/diagrams.npy\n",
      "Applying Scaler to persistence diagrams.\n",
      "Got the result from ./20/train/filtrations/2/RadialFiltration_5_19/blue/diagrams.npy\n",
      "Applying Scaler to persistence diagrams.\n",
      "Fitting filtration 12/72: 2/RadialFiltration_5_26\n",
      "RGB images received. Transforming to grayscale.\n"
     ]
    },
    {
     "name": "stderr",
     "output_type": "stream",
     "text": [
      "rgb2gray: 100%|██████████| 50000/50000 [00:03<00:00, 13165.28it/s]\n"
     ]
    },
    {
     "name": "stdout",
     "output_type": "stream",
     "text": [
      "Got the result from ./20/train/filtrations/2/RadialFiltration_5_26/gray/diagrams.npy\n",
      "Applying Scaler to persistence diagrams.\n",
      "Got the result from ./20/train/filtrations/2/RadialFiltration_5_26/gray/diagrams.npy\n",
      "Applying Scaler to persistence diagrams.\n",
      "Got the result from ./20/train/filtrations/2/RadialFiltration_5_26/red/diagrams.npy\n",
      "Applying Scaler to persistence diagrams.\n",
      "Got the result from ./20/train/filtrations/2/RadialFiltration_5_26/red/diagrams.npy\n",
      "Applying Scaler to persistence diagrams.\n",
      "Got the result from ./20/train/filtrations/2/RadialFiltration_5_26/green/diagrams.npy\n",
      "Applying Scaler to persistence diagrams.\n",
      "Got the result from ./20/train/filtrations/2/RadialFiltration_5_26/green/diagrams.npy\n",
      "Applying Scaler to persistence diagrams.\n",
      "Got the result from ./20/train/filtrations/2/RadialFiltration_5_26/blue/diagrams.npy\n",
      "Applying Scaler to persistence diagrams.\n",
      "Got the result from ./20/train/filtrations/2/RadialFiltration_5_26/blue/diagrams.npy\n",
      "Applying Scaler to persistence diagrams.\n",
      "Fitting filtration 13/72: 2/RadialFiltration_12_5\n",
      "RGB images received. Transforming to grayscale.\n"
     ]
    },
    {
     "name": "stderr",
     "output_type": "stream",
     "text": [
      "rgb2gray: 100%|██████████| 50000/50000 [00:03<00:00, 13119.02it/s]\n"
     ]
    },
    {
     "name": "stdout",
     "output_type": "stream",
     "text": [
      "Got the result from ./20/train/filtrations/2/RadialFiltration_12_5/gray/diagrams.npy\n",
      "Applying Scaler to persistence diagrams.\n",
      "Got the result from ./20/train/filtrations/2/RadialFiltration_12_5/gray/diagrams.npy\n",
      "Applying Scaler to persistence diagrams.\n",
      "Got the result from ./20/train/filtrations/2/RadialFiltration_12_5/red/diagrams.npy\n",
      "Applying Scaler to persistence diagrams.\n",
      "Got the result from ./20/train/filtrations/2/RadialFiltration_12_5/red/diagrams.npy\n",
      "Applying Scaler to persistence diagrams.\n",
      "Got the result from ./20/train/filtrations/2/RadialFiltration_12_5/green/diagrams.npy\n",
      "Applying Scaler to persistence diagrams.\n",
      "Got the result from ./20/train/filtrations/2/RadialFiltration_12_5/green/diagrams.npy\n",
      "Applying Scaler to persistence diagrams.\n",
      "Got the result from ./20/train/filtrations/2/RadialFiltration_12_5/blue/diagrams.npy\n",
      "Applying Scaler to persistence diagrams.\n",
      "Got the result from ./20/train/filtrations/2/RadialFiltration_12_5/blue/diagrams.npy\n",
      "Applying Scaler to persistence diagrams.\n",
      "Fitting filtration 14/72: 2/RadialFiltration_12_12\n",
      "RGB images received. Transforming to grayscale.\n"
     ]
    },
    {
     "name": "stderr",
     "output_type": "stream",
     "text": [
      "rgb2gray: 100%|██████████| 50000/50000 [00:03<00:00, 13009.71it/s]\n"
     ]
    },
    {
     "name": "stdout",
     "output_type": "stream",
     "text": [
      "Got the result from ./20/train/filtrations/2/RadialFiltration_12_12/gray/diagrams.npy\n",
      "Applying Scaler to persistence diagrams.\n",
      "Got the result from ./20/train/filtrations/2/RadialFiltration_12_12/gray/diagrams.npy\n",
      "Applying Scaler to persistence diagrams.\n",
      "Got the result from ./20/train/filtrations/2/RadialFiltration_12_12/red/diagrams.npy\n",
      "Applying Scaler to persistence diagrams.\n",
      "Got the result from ./20/train/filtrations/2/RadialFiltration_12_12/red/diagrams.npy\n",
      "Applying Scaler to persistence diagrams.\n",
      "Got the result from ./20/train/filtrations/2/RadialFiltration_12_12/green/diagrams.npy\n",
      "Applying Scaler to persistence diagrams.\n",
      "Got the result from ./20/train/filtrations/2/RadialFiltration_12_12/green/diagrams.npy\n",
      "Applying Scaler to persistence diagrams.\n",
      "Got the result from ./20/train/filtrations/2/RadialFiltration_12_12/blue/diagrams.npy\n",
      "Applying Scaler to persistence diagrams.\n",
      "Got the result from ./20/train/filtrations/2/RadialFiltration_12_12/blue/diagrams.npy\n",
      "Applying Scaler to persistence diagrams.\n",
      "Fitting filtration 15/72: 2/RadialFiltration_12_19\n",
      "RGB images received. Transforming to grayscale.\n"
     ]
    },
    {
     "name": "stderr",
     "output_type": "stream",
     "text": [
      "rgb2gray: 100%|██████████| 50000/50000 [00:03<00:00, 13020.82it/s]\n"
     ]
    },
    {
     "name": "stdout",
     "output_type": "stream",
     "text": [
      "Got the result from ./20/train/filtrations/2/RadialFiltration_12_19/gray/diagrams.npy\n",
      "Applying Scaler to persistence diagrams.\n",
      "Got the result from ./20/train/filtrations/2/RadialFiltration_12_19/gray/diagrams.npy\n",
      "Applying Scaler to persistence diagrams.\n",
      "Got the result from ./20/train/filtrations/2/RadialFiltration_12_19/red/diagrams.npy\n",
      "Applying Scaler to persistence diagrams.\n",
      "Got the result from ./20/train/filtrations/2/RadialFiltration_12_19/red/diagrams.npy\n",
      "Applying Scaler to persistence diagrams.\n",
      "Got the result from ./20/train/filtrations/2/RadialFiltration_12_19/green/diagrams.npy\n",
      "Applying Scaler to persistence diagrams.\n",
      "Got the result from ./20/train/filtrations/2/RadialFiltration_12_19/green/diagrams.npy\n",
      "Applying Scaler to persistence diagrams.\n",
      "Got the result from ./20/train/filtrations/2/RadialFiltration_12_19/blue/diagrams.npy\n",
      "Applying Scaler to persistence diagrams.\n",
      "Got the result from ./20/train/filtrations/2/RadialFiltration_12_19/blue/diagrams.npy\n",
      "Applying Scaler to persistence diagrams.\n",
      "Fitting filtration 16/72: 2/RadialFiltration_12_26\n",
      "RGB images received. Transforming to grayscale.\n"
     ]
    },
    {
     "name": "stderr",
     "output_type": "stream",
     "text": [
      "rgb2gray: 100%|██████████| 50000/50000 [00:03<00:00, 12975.70it/s]\n"
     ]
    },
    {
     "name": "stdout",
     "output_type": "stream",
     "text": [
      "Got the result from ./20/train/filtrations/2/RadialFiltration_12_26/gray/diagrams.npy\n",
      "Applying Scaler to persistence diagrams.\n",
      "Got the result from ./20/train/filtrations/2/RadialFiltration_12_26/gray/diagrams.npy\n",
      "Applying Scaler to persistence diagrams.\n",
      "Got the result from ./20/train/filtrations/2/RadialFiltration_12_26/red/diagrams.npy\n",
      "Applying Scaler to persistence diagrams.\n",
      "Got the result from ./20/train/filtrations/2/RadialFiltration_12_26/red/diagrams.npy\n",
      "Applying Scaler to persistence diagrams.\n",
      "Got the result from ./20/train/filtrations/2/RadialFiltration_12_26/green/diagrams.npy\n",
      "Applying Scaler to persistence diagrams.\n",
      "Got the result from ./20/train/filtrations/2/RadialFiltration_12_26/green/diagrams.npy\n",
      "Applying Scaler to persistence diagrams.\n",
      "Got the result from ./20/train/filtrations/2/RadialFiltration_12_26/blue/diagrams.npy\n",
      "Applying Scaler to persistence diagrams.\n",
      "Got the result from ./20/train/filtrations/2/RadialFiltration_12_26/blue/diagrams.npy\n",
      "Applying Scaler to persistence diagrams.\n",
      "Fitting filtration 17/72: 2/RadialFiltration_19_5\n",
      "RGB images received. Transforming to grayscale.\n"
     ]
    },
    {
     "name": "stderr",
     "output_type": "stream",
     "text": [
      "rgb2gray: 100%|██████████| 50000/50000 [00:03<00:00, 12899.88it/s]\n"
     ]
    },
    {
     "name": "stdout",
     "output_type": "stream",
     "text": [
      "Got the result from ./20/train/filtrations/2/RadialFiltration_19_5/gray/diagrams.npy\n",
      "Applying Scaler to persistence diagrams.\n",
      "Got the result from ./20/train/filtrations/2/RadialFiltration_19_5/gray/diagrams.npy\n",
      "Applying Scaler to persistence diagrams.\n",
      "Got the result from ./20/train/filtrations/2/RadialFiltration_19_5/red/diagrams.npy\n",
      "Applying Scaler to persistence diagrams.\n",
      "Got the result from ./20/train/filtrations/2/RadialFiltration_19_5/red/diagrams.npy\n",
      "Applying Scaler to persistence diagrams.\n",
      "Got the result from ./20/train/filtrations/2/RadialFiltration_19_5/green/diagrams.npy\n",
      "Applying Scaler to persistence diagrams.\n",
      "Got the result from ./20/train/filtrations/2/RadialFiltration_19_5/green/diagrams.npy\n",
      "Applying Scaler to persistence diagrams.\n",
      "Got the result from ./20/train/filtrations/2/RadialFiltration_19_5/blue/diagrams.npy\n",
      "Applying Scaler to persistence diagrams.\n",
      "Got the result from ./20/train/filtrations/2/RadialFiltration_19_5/blue/diagrams.npy\n",
      "Applying Scaler to persistence diagrams.\n",
      "Fitting filtration 18/72: 2/RadialFiltration_19_12\n",
      "RGB images received. Transforming to grayscale.\n"
     ]
    },
    {
     "name": "stderr",
     "output_type": "stream",
     "text": [
      "rgb2gray: 100%|██████████| 50000/50000 [00:03<00:00, 13066.20it/s]\n"
     ]
    },
    {
     "name": "stdout",
     "output_type": "stream",
     "text": [
      "Got the result from ./20/train/filtrations/2/RadialFiltration_19_12/gray/diagrams.npy\n",
      "Applying Scaler to persistence diagrams.\n",
      "Got the result from ./20/train/filtrations/2/RadialFiltration_19_12/gray/diagrams.npy\n",
      "Applying Scaler to persistence diagrams.\n",
      "Got the result from ./20/train/filtrations/2/RadialFiltration_19_12/red/diagrams.npy\n",
      "Applying Scaler to persistence diagrams.\n",
      "Got the result from ./20/train/filtrations/2/RadialFiltration_19_12/red/diagrams.npy\n",
      "Applying Scaler to persistence diagrams.\n",
      "Got the result from ./20/train/filtrations/2/RadialFiltration_19_12/green/diagrams.npy\n",
      "Applying Scaler to persistence diagrams.\n",
      "Got the result from ./20/train/filtrations/2/RadialFiltration_19_12/green/diagrams.npy\n",
      "Applying Scaler to persistence diagrams.\n",
      "Got the result from ./20/train/filtrations/2/RadialFiltration_19_12/blue/diagrams.npy\n",
      "Applying Scaler to persistence diagrams.\n",
      "Got the result from ./20/train/filtrations/2/RadialFiltration_19_12/blue/diagrams.npy\n",
      "Applying Scaler to persistence diagrams.\n",
      "Fitting filtration 19/72: 2/RadialFiltration_19_19\n",
      "RGB images received. Transforming to grayscale.\n"
     ]
    },
    {
     "name": "stderr",
     "output_type": "stream",
     "text": [
      "rgb2gray: 100%|██████████| 50000/50000 [00:03<00:00, 12907.80it/s]\n"
     ]
    },
    {
     "name": "stdout",
     "output_type": "stream",
     "text": [
      "Got the result from ./20/train/filtrations/2/RadialFiltration_19_19/gray/diagrams.npy\n",
      "Applying Scaler to persistence diagrams.\n",
      "Got the result from ./20/train/filtrations/2/RadialFiltration_19_19/gray/diagrams.npy\n",
      "Applying Scaler to persistence diagrams.\n",
      "Got the result from ./20/train/filtrations/2/RadialFiltration_19_19/red/diagrams.npy\n",
      "Applying Scaler to persistence diagrams.\n",
      "Got the result from ./20/train/filtrations/2/RadialFiltration_19_19/red/diagrams.npy\n",
      "Applying Scaler to persistence diagrams.\n",
      "Got the result from ./20/train/filtrations/2/RadialFiltration_19_19/green/diagrams.npy\n",
      "Applying Scaler to persistence diagrams.\n",
      "Got the result from ./20/train/filtrations/2/RadialFiltration_19_19/green/diagrams.npy\n",
      "Applying Scaler to persistence diagrams.\n",
      "Got the result from ./20/train/filtrations/2/RadialFiltration_19_19/blue/diagrams.npy\n",
      "Applying Scaler to persistence diagrams.\n",
      "Got the result from ./20/train/filtrations/2/RadialFiltration_19_19/blue/diagrams.npy\n",
      "Applying Scaler to persistence diagrams.\n",
      "Fitting filtration 20/72: 2/RadialFiltration_19_26\n",
      "RGB images received. Transforming to grayscale.\n"
     ]
    },
    {
     "name": "stderr",
     "output_type": "stream",
     "text": [
      "rgb2gray: 100%|██████████| 50000/50000 [00:03<00:00, 12905.68it/s]\n"
     ]
    },
    {
     "name": "stdout",
     "output_type": "stream",
     "text": [
      "Got the result from ./20/train/filtrations/2/RadialFiltration_19_26/gray/diagrams.npy\n",
      "Applying Scaler to persistence diagrams.\n",
      "Got the result from ./20/train/filtrations/2/RadialFiltration_19_26/gray/diagrams.npy\n",
      "Applying Scaler to persistence diagrams.\n",
      "Got the result from ./20/train/filtrations/2/RadialFiltration_19_26/red/diagrams.npy\n",
      "Applying Scaler to persistence diagrams.\n",
      "Got the result from ./20/train/filtrations/2/RadialFiltration_19_26/red/diagrams.npy\n",
      "Applying Scaler to persistence diagrams.\n",
      "Got the result from ./20/train/filtrations/2/RadialFiltration_19_26/green/diagrams.npy\n",
      "Applying Scaler to persistence diagrams.\n",
      "Got the result from ./20/train/filtrations/2/RadialFiltration_19_26/green/diagrams.npy\n",
      "Applying Scaler to persistence diagrams.\n",
      "Got the result from ./20/train/filtrations/2/RadialFiltration_19_26/blue/diagrams.npy\n",
      "Applying Scaler to persistence diagrams.\n",
      "Got the result from ./20/train/filtrations/2/RadialFiltration_19_26/blue/diagrams.npy\n",
      "Applying Scaler to persistence diagrams.\n",
      "Fitting filtration 21/72: 2/RadialFiltration_26_5\n",
      "RGB images received. Transforming to grayscale.\n"
     ]
    },
    {
     "name": "stderr",
     "output_type": "stream",
     "text": [
      "rgb2gray: 100%|██████████| 50000/50000 [00:03<00:00, 12986.87it/s]\n"
     ]
    },
    {
     "name": "stdout",
     "output_type": "stream",
     "text": [
      "Got the result from ./20/train/filtrations/2/RadialFiltration_26_5/gray/diagrams.npy\n",
      "Applying Scaler to persistence diagrams.\n",
      "Got the result from ./20/train/filtrations/2/RadialFiltration_26_5/gray/diagrams.npy\n",
      "Applying Scaler to persistence diagrams.\n",
      "Got the result from ./20/train/filtrations/2/RadialFiltration_26_5/red/diagrams.npy\n",
      "Applying Scaler to persistence diagrams.\n",
      "Got the result from ./20/train/filtrations/2/RadialFiltration_26_5/red/diagrams.npy\n",
      "Applying Scaler to persistence diagrams.\n",
      "Got the result from ./20/train/filtrations/2/RadialFiltration_26_5/green/diagrams.npy\n",
      "Applying Scaler to persistence diagrams.\n",
      "Got the result from ./20/train/filtrations/2/RadialFiltration_26_5/green/diagrams.npy\n",
      "Applying Scaler to persistence diagrams.\n",
      "Got the result from ./20/train/filtrations/2/RadialFiltration_26_5/blue/diagrams.npy\n",
      "Applying Scaler to persistence diagrams.\n",
      "Got the result from ./20/train/filtrations/2/RadialFiltration_26_5/blue/diagrams.npy\n",
      "Applying Scaler to persistence diagrams.\n",
      "Fitting filtration 22/72: 2/RadialFiltration_26_12\n",
      "RGB images received. Transforming to grayscale.\n"
     ]
    },
    {
     "name": "stderr",
     "output_type": "stream",
     "text": [
      "rgb2gray: 100%|██████████| 50000/50000 [00:03<00:00, 12860.08it/s]\n"
     ]
    },
    {
     "name": "stdout",
     "output_type": "stream",
     "text": [
      "Got the result from ./20/train/filtrations/2/RadialFiltration_26_12/gray/diagrams.npy\n",
      "Applying Scaler to persistence diagrams.\n",
      "Got the result from ./20/train/filtrations/2/RadialFiltration_26_12/gray/diagrams.npy\n",
      "Applying Scaler to persistence diagrams.\n",
      "Got the result from ./20/train/filtrations/2/RadialFiltration_26_12/red/diagrams.npy\n",
      "Applying Scaler to persistence diagrams.\n",
      "Got the result from ./20/train/filtrations/2/RadialFiltration_26_12/red/diagrams.npy\n",
      "Applying Scaler to persistence diagrams.\n",
      "Got the result from ./20/train/filtrations/2/RadialFiltration_26_12/green/diagrams.npy\n",
      "Applying Scaler to persistence diagrams.\n",
      "Got the result from ./20/train/filtrations/2/RadialFiltration_26_12/green/diagrams.npy\n",
      "Applying Scaler to persistence diagrams.\n",
      "Got the result from ./20/train/filtrations/2/RadialFiltration_26_12/blue/diagrams.npy\n",
      "Applying Scaler to persistence diagrams.\n",
      "Got the result from ./20/train/filtrations/2/RadialFiltration_26_12/blue/diagrams.npy\n",
      "Applying Scaler to persistence diagrams.\n",
      "Fitting filtration 23/72: 2/RadialFiltration_26_19\n",
      "RGB images received. Transforming to grayscale.\n"
     ]
    },
    {
     "name": "stderr",
     "output_type": "stream",
     "text": [
      "rgb2gray: 100%|██████████| 50000/50000 [00:03<00:00, 12840.27it/s]\n"
     ]
    },
    {
     "name": "stdout",
     "output_type": "stream",
     "text": [
      "Got the result from ./20/train/filtrations/2/RadialFiltration_26_19/gray/diagrams.npy\n",
      "Applying Scaler to persistence diagrams.\n",
      "Got the result from ./20/train/filtrations/2/RadialFiltration_26_19/gray/diagrams.npy\n",
      "Applying Scaler to persistence diagrams.\n",
      "Got the result from ./20/train/filtrations/2/RadialFiltration_26_19/red/diagrams.npy\n",
      "Applying Scaler to persistence diagrams.\n",
      "Got the result from ./20/train/filtrations/2/RadialFiltration_26_19/red/diagrams.npy\n",
      "Applying Scaler to persistence diagrams.\n",
      "Got the result from ./20/train/filtrations/2/RadialFiltration_26_19/green/diagrams.npy\n",
      "Applying Scaler to persistence diagrams.\n",
      "Got the result from ./20/train/filtrations/2/RadialFiltration_26_19/green/diagrams.npy\n",
      "Applying Scaler to persistence diagrams.\n",
      "Got the result from ./20/train/filtrations/2/RadialFiltration_26_19/blue/diagrams.npy\n",
      "Applying Scaler to persistence diagrams.\n",
      "Got the result from ./20/train/filtrations/2/RadialFiltration_26_19/blue/diagrams.npy\n",
      "Applying Scaler to persistence diagrams.\n",
      "Fitting filtration 24/72: 2/RadialFiltration_26_26\n",
      "RGB images received. Transforming to grayscale.\n"
     ]
    },
    {
     "name": "stderr",
     "output_type": "stream",
     "text": [
      "rgb2gray: 100%|██████████| 50000/50000 [00:03<00:00, 12888.88it/s]\n"
     ]
    },
    {
     "name": "stdout",
     "output_type": "stream",
     "text": [
      "Got the result from ./20/train/filtrations/2/RadialFiltration_26_26/gray/diagrams.npy\n",
      "Applying Scaler to persistence diagrams.\n",
      "Got the result from ./20/train/filtrations/2/RadialFiltration_26_26/gray/diagrams.npy\n",
      "Applying Scaler to persistence diagrams.\n",
      "Got the result from ./20/train/filtrations/2/RadialFiltration_26_26/red/diagrams.npy\n",
      "Applying Scaler to persistence diagrams.\n",
      "Got the result from ./20/train/filtrations/2/RadialFiltration_26_26/red/diagrams.npy\n",
      "Applying Scaler to persistence diagrams.\n",
      "Got the result from ./20/train/filtrations/2/RadialFiltration_26_26/green/diagrams.npy\n",
      "Applying Scaler to persistence diagrams.\n",
      "Got the result from ./20/train/filtrations/2/RadialFiltration_26_26/green/diagrams.npy\n",
      "Applying Scaler to persistence diagrams.\n",
      "Got the result from ./20/train/filtrations/2/RadialFiltration_26_26/blue/diagrams.npy\n",
      "Applying Scaler to persistence diagrams.\n",
      "Got the result from ./20/train/filtrations/2/RadialFiltration_26_26/blue/diagrams.npy\n",
      "Applying Scaler to persistence diagrams.\n",
      "Fitting filtration 25/72: 4/HeightFiltrartion_-1_-1\n",
      "RGB images received. Transforming to grayscale.\n"
     ]
    },
    {
     "name": "stderr",
     "output_type": "stream",
     "text": [
      "rgb2gray: 100%|██████████| 50000/50000 [00:03<00:00, 13000.10it/s]\n"
     ]
    },
    {
     "name": "stdout",
     "output_type": "stream",
     "text": [
      "Got the result from ./20/train/filtrations/4/HeightFiltrartion_-1_-1/gray/diagrams.npy\n",
      "Applying Scaler to persistence diagrams.\n",
      "Got the result from ./20/train/filtrations/4/HeightFiltrartion_-1_-1/gray/diagrams.npy\n",
      "Applying Scaler to persistence diagrams.\n",
      "Got the result from ./20/train/filtrations/4/HeightFiltrartion_-1_-1/red/diagrams.npy\n",
      "Applying Scaler to persistence diagrams.\n",
      "Got the result from ./20/train/filtrations/4/HeightFiltrartion_-1_-1/red/diagrams.npy\n",
      "Applying Scaler to persistence diagrams.\n",
      "Got the result from ./20/train/filtrations/4/HeightFiltrartion_-1_-1/green/diagrams.npy\n",
      "Applying Scaler to persistence diagrams.\n",
      "Got the result from ./20/train/filtrations/4/HeightFiltrartion_-1_-1/green/diagrams.npy\n",
      "Applying Scaler to persistence diagrams.\n",
      "Got the result from ./20/train/filtrations/4/HeightFiltrartion_-1_-1/blue/diagrams.npy\n",
      "Applying Scaler to persistence diagrams.\n",
      "Got the result from ./20/train/filtrations/4/HeightFiltrartion_-1_-1/blue/diagrams.npy\n",
      "Applying Scaler to persistence diagrams.\n",
      "Fitting filtration 26/72: 4/HeightFiltrartion_1_1\n",
      "RGB images received. Transforming to grayscale.\n"
     ]
    },
    {
     "name": "stderr",
     "output_type": "stream",
     "text": [
      "rgb2gray: 100%|██████████| 50000/50000 [00:03<00:00, 13031.02it/s]\n"
     ]
    },
    {
     "name": "stdout",
     "output_type": "stream",
     "text": [
      "Got the result from ./20/train/filtrations/4/HeightFiltrartion_1_1/gray/diagrams.npy\n",
      "Applying Scaler to persistence diagrams.\n",
      "Got the result from ./20/train/filtrations/4/HeightFiltrartion_1_1/gray/diagrams.npy\n",
      "Applying Scaler to persistence diagrams.\n",
      "Got the result from ./20/train/filtrations/4/HeightFiltrartion_1_1/red/diagrams.npy\n",
      "Applying Scaler to persistence diagrams.\n",
      "Got the result from ./20/train/filtrations/4/HeightFiltrartion_1_1/red/diagrams.npy\n",
      "Applying Scaler to persistence diagrams.\n",
      "Got the result from ./20/train/filtrations/4/HeightFiltrartion_1_1/green/diagrams.npy\n",
      "Applying Scaler to persistence diagrams.\n",
      "Got the result from ./20/train/filtrations/4/HeightFiltrartion_1_1/green/diagrams.npy\n",
      "Applying Scaler to persistence diagrams.\n",
      "Got the result from ./20/train/filtrations/4/HeightFiltrartion_1_1/blue/diagrams.npy\n",
      "Applying Scaler to persistence diagrams.\n",
      "Got the result from ./20/train/filtrations/4/HeightFiltrartion_1_1/blue/diagrams.npy\n",
      "Applying Scaler to persistence diagrams.\n",
      "Fitting filtration 27/72: 4/HeightFiltrartion_1_-1\n",
      "RGB images received. Transforming to grayscale.\n"
     ]
    },
    {
     "name": "stderr",
     "output_type": "stream",
     "text": [
      "rgb2gray: 100%|██████████| 50000/50000 [00:03<00:00, 12809.03it/s]\n"
     ]
    },
    {
     "name": "stdout",
     "output_type": "stream",
     "text": [
      "Got the result from ./20/train/filtrations/4/HeightFiltrartion_1_-1/gray/diagrams.npy\n",
      "Applying Scaler to persistence diagrams.\n",
      "Got the result from ./20/train/filtrations/4/HeightFiltrartion_1_-1/gray/diagrams.npy\n",
      "Applying Scaler to persistence diagrams.\n",
      "Got the result from ./20/train/filtrations/4/HeightFiltrartion_1_-1/red/diagrams.npy\n",
      "Applying Scaler to persistence diagrams.\n",
      "Got the result from ./20/train/filtrations/4/HeightFiltrartion_1_-1/red/diagrams.npy\n",
      "Applying Scaler to persistence diagrams.\n",
      "Got the result from ./20/train/filtrations/4/HeightFiltrartion_1_-1/green/diagrams.npy\n",
      "Applying Scaler to persistence diagrams.\n",
      "Got the result from ./20/train/filtrations/4/HeightFiltrartion_1_-1/green/diagrams.npy\n",
      "Applying Scaler to persistence diagrams.\n",
      "Got the result from ./20/train/filtrations/4/HeightFiltrartion_1_-1/blue/diagrams.npy\n",
      "Applying Scaler to persistence diagrams.\n",
      "Got the result from ./20/train/filtrations/4/HeightFiltrartion_1_-1/blue/diagrams.npy\n",
      "Applying Scaler to persistence diagrams.\n",
      "Fitting filtration 28/72: 4/HeightFiltrartion_-1_1\n",
      "RGB images received. Transforming to grayscale.\n"
     ]
    },
    {
     "name": "stderr",
     "output_type": "stream",
     "text": [
      "rgb2gray: 100%|██████████| 50000/50000 [00:03<00:00, 12852.36it/s]\n"
     ]
    },
    {
     "name": "stdout",
     "output_type": "stream",
     "text": [
      "Got the result from ./20/train/filtrations/4/HeightFiltrartion_-1_1/gray/diagrams.npy\n",
      "Applying Scaler to persistence diagrams.\n",
      "Got the result from ./20/train/filtrations/4/HeightFiltrartion_-1_1/gray/diagrams.npy\n",
      "Applying Scaler to persistence diagrams.\n",
      "Got the result from ./20/train/filtrations/4/HeightFiltrartion_-1_1/red/diagrams.npy\n",
      "Applying Scaler to persistence diagrams.\n",
      "Got the result from ./20/train/filtrations/4/HeightFiltrartion_-1_1/red/diagrams.npy\n",
      "Applying Scaler to persistence diagrams.\n",
      "Got the result from ./20/train/filtrations/4/HeightFiltrartion_-1_1/green/diagrams.npy\n",
      "Applying Scaler to persistence diagrams.\n",
      "Got the result from ./20/train/filtrations/4/HeightFiltrartion_-1_1/green/diagrams.npy\n",
      "Applying Scaler to persistence diagrams.\n",
      "Got the result from ./20/train/filtrations/4/HeightFiltrartion_-1_1/blue/diagrams.npy\n",
      "Applying Scaler to persistence diagrams.\n",
      "Got the result from ./20/train/filtrations/4/HeightFiltrartion_-1_1/blue/diagrams.npy\n",
      "Applying Scaler to persistence diagrams.\n",
      "Fitting filtration 29/72: 4/HeightFiltrartion_0_-1\n",
      "RGB images received. Transforming to grayscale.\n"
     ]
    },
    {
     "name": "stderr",
     "output_type": "stream",
     "text": [
      "rgb2gray: 100%|██████████| 50000/50000 [00:03<00:00, 12606.10it/s]\n"
     ]
    },
    {
     "name": "stdout",
     "output_type": "stream",
     "text": [
      "Got the result from ./20/train/filtrations/4/HeightFiltrartion_0_-1/gray/diagrams.npy\n",
      "Applying Scaler to persistence diagrams.\n",
      "Got the result from ./20/train/filtrations/4/HeightFiltrartion_0_-1/gray/diagrams.npy\n",
      "Applying Scaler to persistence diagrams.\n",
      "Got the result from ./20/train/filtrations/4/HeightFiltrartion_0_-1/red/diagrams.npy\n",
      "Applying Scaler to persistence diagrams.\n",
      "Got the result from ./20/train/filtrations/4/HeightFiltrartion_0_-1/red/diagrams.npy\n",
      "Applying Scaler to persistence diagrams.\n",
      "Got the result from ./20/train/filtrations/4/HeightFiltrartion_0_-1/green/diagrams.npy\n",
      "Applying Scaler to persistence diagrams.\n",
      "Got the result from ./20/train/filtrations/4/HeightFiltrartion_0_-1/green/diagrams.npy\n",
      "Applying Scaler to persistence diagrams.\n",
      "Got the result from ./20/train/filtrations/4/HeightFiltrartion_0_-1/blue/diagrams.npy\n",
      "Applying Scaler to persistence diagrams.\n",
      "Got the result from ./20/train/filtrations/4/HeightFiltrartion_0_-1/blue/diagrams.npy\n",
      "Applying Scaler to persistence diagrams.\n",
      "Fitting filtration 30/72: 4/HeightFiltrartion_0_1\n",
      "RGB images received. Transforming to grayscale.\n"
     ]
    },
    {
     "name": "stderr",
     "output_type": "stream",
     "text": [
      "rgb2gray: 100%|██████████| 50000/50000 [00:03<00:00, 12594.78it/s]\n"
     ]
    },
    {
     "name": "stdout",
     "output_type": "stream",
     "text": [
      "Got the result from ./20/train/filtrations/4/HeightFiltrartion_0_1/gray/diagrams.npy\n",
      "Applying Scaler to persistence diagrams.\n",
      "Got the result from ./20/train/filtrations/4/HeightFiltrartion_0_1/gray/diagrams.npy\n",
      "Applying Scaler to persistence diagrams.\n",
      "Got the result from ./20/train/filtrations/4/HeightFiltrartion_0_1/red/diagrams.npy\n",
      "Applying Scaler to persistence diagrams.\n",
      "Got the result from ./20/train/filtrations/4/HeightFiltrartion_0_1/red/diagrams.npy\n",
      "Applying Scaler to persistence diagrams.\n",
      "Got the result from ./20/train/filtrations/4/HeightFiltrartion_0_1/green/diagrams.npy\n",
      "Applying Scaler to persistence diagrams.\n",
      "Got the result from ./20/train/filtrations/4/HeightFiltrartion_0_1/green/diagrams.npy\n",
      "Applying Scaler to persistence diagrams.\n",
      "Got the result from ./20/train/filtrations/4/HeightFiltrartion_0_1/blue/diagrams.npy\n",
      "Applying Scaler to persistence diagrams.\n",
      "Got the result from ./20/train/filtrations/4/HeightFiltrartion_0_1/blue/diagrams.npy\n",
      "Applying Scaler to persistence diagrams.\n",
      "Fitting filtration 31/72: 4/HeightFiltrartion_-1_0\n",
      "RGB images received. Transforming to grayscale.\n"
     ]
    },
    {
     "name": "stderr",
     "output_type": "stream",
     "text": [
      "rgb2gray: 100%|██████████| 50000/50000 [00:03<00:00, 12684.92it/s]\n"
     ]
    },
    {
     "name": "stdout",
     "output_type": "stream",
     "text": [
      "Got the result from ./20/train/filtrations/4/HeightFiltrartion_-1_0/gray/diagrams.npy\n",
      "Applying Scaler to persistence diagrams.\n",
      "Got the result from ./20/train/filtrations/4/HeightFiltrartion_-1_0/gray/diagrams.npy\n",
      "Applying Scaler to persistence diagrams.\n",
      "Got the result from ./20/train/filtrations/4/HeightFiltrartion_-1_0/red/diagrams.npy\n",
      "Applying Scaler to persistence diagrams.\n",
      "Got the result from ./20/train/filtrations/4/HeightFiltrartion_-1_0/red/diagrams.npy\n",
      "Applying Scaler to persistence diagrams.\n",
      "Got the result from ./20/train/filtrations/4/HeightFiltrartion_-1_0/green/diagrams.npy\n",
      "Applying Scaler to persistence diagrams.\n",
      "Got the result from ./20/train/filtrations/4/HeightFiltrartion_-1_0/green/diagrams.npy\n",
      "Applying Scaler to persistence diagrams.\n",
      "Got the result from ./20/train/filtrations/4/HeightFiltrartion_-1_0/blue/diagrams.npy\n",
      "Applying Scaler to persistence diagrams.\n",
      "Got the result from ./20/train/filtrations/4/HeightFiltrartion_-1_0/blue/diagrams.npy\n",
      "Applying Scaler to persistence diagrams.\n",
      "Fitting filtration 32/72: 4/HeightFiltrartion_1_0\n",
      "RGB images received. Transforming to grayscale.\n"
     ]
    },
    {
     "name": "stderr",
     "output_type": "stream",
     "text": [
      "rgb2gray: 100%|██████████| 50000/50000 [00:03<00:00, 12740.53it/s]\n"
     ]
    },
    {
     "name": "stdout",
     "output_type": "stream",
     "text": [
      "Got the result from ./20/train/filtrations/4/HeightFiltrartion_1_0/gray/diagrams.npy\n",
      "Applying Scaler to persistence diagrams.\n",
      "Got the result from ./20/train/filtrations/4/HeightFiltrartion_1_0/gray/diagrams.npy\n",
      "Applying Scaler to persistence diagrams.\n",
      "Got the result from ./20/train/filtrations/4/HeightFiltrartion_1_0/red/diagrams.npy\n",
      "Applying Scaler to persistence diagrams.\n",
      "Got the result from ./20/train/filtrations/4/HeightFiltrartion_1_0/red/diagrams.npy\n",
      "Applying Scaler to persistence diagrams.\n",
      "Got the result from ./20/train/filtrations/4/HeightFiltrartion_1_0/green/diagrams.npy\n",
      "Applying Scaler to persistence diagrams.\n",
      "Got the result from ./20/train/filtrations/4/HeightFiltrartion_1_0/green/diagrams.npy\n",
      "Applying Scaler to persistence diagrams.\n",
      "Got the result from ./20/train/filtrations/4/HeightFiltrartion_1_0/blue/diagrams.npy\n",
      "Applying Scaler to persistence diagrams.\n",
      "Got the result from ./20/train/filtrations/4/HeightFiltrartion_1_0/blue/diagrams.npy\n",
      "Applying Scaler to persistence diagrams.\n",
      "Fitting filtration 33/72: 4/RadialFiltration_5_5\n",
      "RGB images received. Transforming to grayscale.\n"
     ]
    },
    {
     "name": "stderr",
     "output_type": "stream",
     "text": [
      "rgb2gray: 100%|██████████| 50000/50000 [00:03<00:00, 12545.63it/s]\n"
     ]
    },
    {
     "name": "stdout",
     "output_type": "stream",
     "text": [
      "Got the result from ./20/train/filtrations/4/RadialFiltration_5_5/gray/diagrams.npy\n",
      "Applying Scaler to persistence diagrams.\n",
      "Got the result from ./20/train/filtrations/4/RadialFiltration_5_5/gray/diagrams.npy\n",
      "Applying Scaler to persistence diagrams.\n",
      "Got the result from ./20/train/filtrations/4/RadialFiltration_5_5/red/diagrams.npy\n",
      "Applying Scaler to persistence diagrams.\n",
      "Got the result from ./20/train/filtrations/4/RadialFiltration_5_5/red/diagrams.npy\n",
      "Applying Scaler to persistence diagrams.\n",
      "Got the result from ./20/train/filtrations/4/RadialFiltration_5_5/green/diagrams.npy\n",
      "Applying Scaler to persistence diagrams.\n",
      "Got the result from ./20/train/filtrations/4/RadialFiltration_5_5/green/diagrams.npy\n",
      "Applying Scaler to persistence diagrams.\n",
      "Got the result from ./20/train/filtrations/4/RadialFiltration_5_5/blue/diagrams.npy\n",
      "Applying Scaler to persistence diagrams.\n",
      "Got the result from ./20/train/filtrations/4/RadialFiltration_5_5/blue/diagrams.npy\n",
      "Applying Scaler to persistence diagrams.\n",
      "Fitting filtration 34/72: 4/RadialFiltration_5_12\n",
      "RGB images received. Transforming to grayscale.\n"
     ]
    },
    {
     "name": "stderr",
     "output_type": "stream",
     "text": [
      "rgb2gray: 100%|██████████| 50000/50000 [00:03<00:00, 12564.75it/s]\n"
     ]
    },
    {
     "name": "stdout",
     "output_type": "stream",
     "text": [
      "Got the result from ./20/train/filtrations/4/RadialFiltration_5_12/gray/diagrams.npy\n",
      "Applying Scaler to persistence diagrams.\n",
      "Got the result from ./20/train/filtrations/4/RadialFiltration_5_12/gray/diagrams.npy\n",
      "Applying Scaler to persistence diagrams.\n",
      "Got the result from ./20/train/filtrations/4/RadialFiltration_5_12/red/diagrams.npy\n",
      "Applying Scaler to persistence diagrams.\n",
      "Got the result from ./20/train/filtrations/4/RadialFiltration_5_12/red/diagrams.npy\n",
      "Applying Scaler to persistence diagrams.\n",
      "Got the result from ./20/train/filtrations/4/RadialFiltration_5_12/green/diagrams.npy\n",
      "Applying Scaler to persistence diagrams.\n",
      "Got the result from ./20/train/filtrations/4/RadialFiltration_5_12/green/diagrams.npy\n",
      "Applying Scaler to persistence diagrams.\n",
      "Got the result from ./20/train/filtrations/4/RadialFiltration_5_12/blue/diagrams.npy\n",
      "Applying Scaler to persistence diagrams.\n",
      "Got the result from ./20/train/filtrations/4/RadialFiltration_5_12/blue/diagrams.npy\n",
      "Applying Scaler to persistence diagrams.\n",
      "Fitting filtration 35/72: 4/RadialFiltration_5_19\n",
      "RGB images received. Transforming to grayscale.\n"
     ]
    },
    {
     "name": "stderr",
     "output_type": "stream",
     "text": [
      "rgb2gray: 100%|██████████| 50000/50000 [00:03<00:00, 12673.80it/s]\n"
     ]
    },
    {
     "name": "stdout",
     "output_type": "stream",
     "text": [
      "Got the result from ./20/train/filtrations/4/RadialFiltration_5_19/gray/diagrams.npy\n",
      "Applying Scaler to persistence diagrams.\n",
      "Got the result from ./20/train/filtrations/4/RadialFiltration_5_19/gray/diagrams.npy\n",
      "Applying Scaler to persistence diagrams.\n",
      "Got the result from ./20/train/filtrations/4/RadialFiltration_5_19/red/diagrams.npy\n",
      "Applying Scaler to persistence diagrams.\n",
      "Got the result from ./20/train/filtrations/4/RadialFiltration_5_19/red/diagrams.npy\n",
      "Applying Scaler to persistence diagrams.\n",
      "Got the result from ./20/train/filtrations/4/RadialFiltration_5_19/green/diagrams.npy\n",
      "Applying Scaler to persistence diagrams.\n",
      "Got the result from ./20/train/filtrations/4/RadialFiltration_5_19/green/diagrams.npy\n",
      "Applying Scaler to persistence diagrams.\n",
      "Got the result from ./20/train/filtrations/4/RadialFiltration_5_19/blue/diagrams.npy\n",
      "Applying Scaler to persistence diagrams.\n",
      "Got the result from ./20/train/filtrations/4/RadialFiltration_5_19/blue/diagrams.npy\n",
      "Applying Scaler to persistence diagrams.\n",
      "Fitting filtration 36/72: 4/RadialFiltration_5_26\n",
      "RGB images received. Transforming to grayscale.\n"
     ]
    },
    {
     "name": "stderr",
     "output_type": "stream",
     "text": [
      "rgb2gray: 100%|██████████| 50000/50000 [00:03<00:00, 12630.29it/s]\n"
     ]
    },
    {
     "name": "stdout",
     "output_type": "stream",
     "text": [
      "Got the result from ./20/train/filtrations/4/RadialFiltration_5_26/gray/diagrams.npy\n",
      "Applying Scaler to persistence diagrams.\n",
      "Got the result from ./20/train/filtrations/4/RadialFiltration_5_26/gray/diagrams.npy\n",
      "Applying Scaler to persistence diagrams.\n",
      "Got the result from ./20/train/filtrations/4/RadialFiltration_5_26/red/diagrams.npy\n",
      "Applying Scaler to persistence diagrams.\n",
      "Got the result from ./20/train/filtrations/4/RadialFiltration_5_26/red/diagrams.npy\n",
      "Applying Scaler to persistence diagrams.\n",
      "Got the result from ./20/train/filtrations/4/RadialFiltration_5_26/green/diagrams.npy\n",
      "Applying Scaler to persistence diagrams.\n",
      "Got the result from ./20/train/filtrations/4/RadialFiltration_5_26/green/diagrams.npy\n",
      "Applying Scaler to persistence diagrams.\n",
      "Got the result from ./20/train/filtrations/4/RadialFiltration_5_26/blue/diagrams.npy\n",
      "Applying Scaler to persistence diagrams.\n",
      "Got the result from ./20/train/filtrations/4/RadialFiltration_5_26/blue/diagrams.npy\n",
      "Applying Scaler to persistence diagrams.\n",
      "Fitting filtration 37/72: 4/RadialFiltration_12_5\n",
      "RGB images received. Transforming to grayscale.\n"
     ]
    },
    {
     "name": "stderr",
     "output_type": "stream",
     "text": [
      "rgb2gray: 100%|██████████| 50000/50000 [00:03<00:00, 12774.77it/s]\n"
     ]
    },
    {
     "name": "stdout",
     "output_type": "stream",
     "text": [
      "Got the result from ./20/train/filtrations/4/RadialFiltration_12_5/gray/diagrams.npy\n",
      "Applying Scaler to persistence diagrams.\n",
      "Got the result from ./20/train/filtrations/4/RadialFiltration_12_5/gray/diagrams.npy\n",
      "Applying Scaler to persistence diagrams.\n",
      "Got the result from ./20/train/filtrations/4/RadialFiltration_12_5/red/diagrams.npy\n",
      "Applying Scaler to persistence diagrams.\n",
      "Got the result from ./20/train/filtrations/4/RadialFiltration_12_5/red/diagrams.npy\n",
      "Applying Scaler to persistence diagrams.\n",
      "Got the result from ./20/train/filtrations/4/RadialFiltration_12_5/green/diagrams.npy\n",
      "Applying Scaler to persistence diagrams.\n",
      "Got the result from ./20/train/filtrations/4/RadialFiltration_12_5/green/diagrams.npy\n",
      "Applying Scaler to persistence diagrams.\n",
      "Got the result from ./20/train/filtrations/4/RadialFiltration_12_5/blue/diagrams.npy\n",
      "Applying Scaler to persistence diagrams.\n",
      "Got the result from ./20/train/filtrations/4/RadialFiltration_12_5/blue/diagrams.npy\n",
      "Applying Scaler to persistence diagrams.\n",
      "Fitting filtration 38/72: 4/RadialFiltration_12_12\n",
      "RGB images received. Transforming to grayscale.\n"
     ]
    },
    {
     "name": "stderr",
     "output_type": "stream",
     "text": [
      "rgb2gray: 100%|██████████| 50000/50000 [00:03<00:00, 12757.49it/s]\n"
     ]
    },
    {
     "name": "stdout",
     "output_type": "stream",
     "text": [
      "Got the result from ./20/train/filtrations/4/RadialFiltration_12_12/gray/diagrams.npy\n",
      "Applying Scaler to persistence diagrams.\n",
      "Got the result from ./20/train/filtrations/4/RadialFiltration_12_12/gray/diagrams.npy\n",
      "Applying Scaler to persistence diagrams.\n",
      "Got the result from ./20/train/filtrations/4/RadialFiltration_12_12/red/diagrams.npy\n",
      "Applying Scaler to persistence diagrams.\n",
      "Got the result from ./20/train/filtrations/4/RadialFiltration_12_12/red/diagrams.npy\n",
      "Applying Scaler to persistence diagrams.\n",
      "Got the result from ./20/train/filtrations/4/RadialFiltration_12_12/green/diagrams.npy\n",
      "Applying Scaler to persistence diagrams.\n",
      "Got the result from ./20/train/filtrations/4/RadialFiltration_12_12/green/diagrams.npy\n",
      "Applying Scaler to persistence diagrams.\n",
      "Got the result from ./20/train/filtrations/4/RadialFiltration_12_12/blue/diagrams.npy\n",
      "Applying Scaler to persistence diagrams.\n",
      "Got the result from ./20/train/filtrations/4/RadialFiltration_12_12/blue/diagrams.npy\n",
      "Applying Scaler to persistence diagrams.\n",
      "Fitting filtration 39/72: 4/RadialFiltration_12_19\n",
      "RGB images received. Transforming to grayscale.\n"
     ]
    },
    {
     "name": "stderr",
     "output_type": "stream",
     "text": [
      "rgb2gray: 100%|██████████| 50000/50000 [00:03<00:00, 12845.27it/s]\n"
     ]
    },
    {
     "name": "stdout",
     "output_type": "stream",
     "text": [
      "Got the result from ./20/train/filtrations/4/RadialFiltration_12_19/gray/diagrams.npy\n",
      "Applying Scaler to persistence diagrams.\n",
      "Got the result from ./20/train/filtrations/4/RadialFiltration_12_19/gray/diagrams.npy\n",
      "Applying Scaler to persistence diagrams.\n",
      "Got the result from ./20/train/filtrations/4/RadialFiltration_12_19/red/diagrams.npy\n",
      "Applying Scaler to persistence diagrams.\n",
      "Got the result from ./20/train/filtrations/4/RadialFiltration_12_19/red/diagrams.npy\n",
      "Applying Scaler to persistence diagrams.\n",
      "Got the result from ./20/train/filtrations/4/RadialFiltration_12_19/green/diagrams.npy\n",
      "Applying Scaler to persistence diagrams.\n",
      "Got the result from ./20/train/filtrations/4/RadialFiltration_12_19/green/diagrams.npy\n",
      "Applying Scaler to persistence diagrams.\n",
      "Got the result from ./20/train/filtrations/4/RadialFiltration_12_19/blue/diagrams.npy\n",
      "Applying Scaler to persistence diagrams.\n",
      "Got the result from ./20/train/filtrations/4/RadialFiltration_12_19/blue/diagrams.npy\n",
      "Applying Scaler to persistence diagrams.\n",
      "Fitting filtration 40/72: 4/RadialFiltration_12_26\n",
      "RGB images received. Transforming to grayscale.\n"
     ]
    },
    {
     "name": "stderr",
     "output_type": "stream",
     "text": [
      "rgb2gray: 100%|██████████| 50000/50000 [00:03<00:00, 12717.78it/s]\n"
     ]
    },
    {
     "name": "stdout",
     "output_type": "stream",
     "text": [
      "Got the result from ./20/train/filtrations/4/RadialFiltration_12_26/gray/diagrams.npy\n",
      "Applying Scaler to persistence diagrams.\n",
      "Got the result from ./20/train/filtrations/4/RadialFiltration_12_26/gray/diagrams.npy\n",
      "Applying Scaler to persistence diagrams.\n",
      "Got the result from ./20/train/filtrations/4/RadialFiltration_12_26/red/diagrams.npy\n",
      "Applying Scaler to persistence diagrams.\n",
      "Got the result from ./20/train/filtrations/4/RadialFiltration_12_26/red/diagrams.npy\n",
      "Applying Scaler to persistence diagrams.\n",
      "Got the result from ./20/train/filtrations/4/RadialFiltration_12_26/green/diagrams.npy\n",
      "Applying Scaler to persistence diagrams.\n",
      "Got the result from ./20/train/filtrations/4/RadialFiltration_12_26/green/diagrams.npy\n",
      "Applying Scaler to persistence diagrams.\n",
      "Got the result from ./20/train/filtrations/4/RadialFiltration_12_26/blue/diagrams.npy\n",
      "Applying Scaler to persistence diagrams.\n",
      "Got the result from ./20/train/filtrations/4/RadialFiltration_12_26/blue/diagrams.npy\n",
      "Applying Scaler to persistence diagrams.\n",
      "Fitting filtration 41/72: 4/RadialFiltration_19_5\n",
      "RGB images received. Transforming to grayscale.\n"
     ]
    },
    {
     "name": "stderr",
     "output_type": "stream",
     "text": [
      "rgb2gray: 100%|██████████| 50000/50000 [00:03<00:00, 12746.66it/s]\n"
     ]
    },
    {
     "name": "stdout",
     "output_type": "stream",
     "text": [
      "Got the result from ./20/train/filtrations/4/RadialFiltration_19_5/gray/diagrams.npy\n",
      "Applying Scaler to persistence diagrams.\n",
      "Got the result from ./20/train/filtrations/4/RadialFiltration_19_5/gray/diagrams.npy\n",
      "Applying Scaler to persistence diagrams.\n",
      "Got the result from ./20/train/filtrations/4/RadialFiltration_19_5/red/diagrams.npy\n",
      "Applying Scaler to persistence diagrams.\n",
      "Got the result from ./20/train/filtrations/4/RadialFiltration_19_5/red/diagrams.npy\n",
      "Applying Scaler to persistence diagrams.\n",
      "Got the result from ./20/train/filtrations/4/RadialFiltration_19_5/green/diagrams.npy\n",
      "Applying Scaler to persistence diagrams.\n",
      "Got the result from ./20/train/filtrations/4/RadialFiltration_19_5/green/diagrams.npy\n",
      "Applying Scaler to persistence diagrams.\n",
      "Got the result from ./20/train/filtrations/4/RadialFiltration_19_5/blue/diagrams.npy\n",
      "Applying Scaler to persistence diagrams.\n",
      "Got the result from ./20/train/filtrations/4/RadialFiltration_19_5/blue/diagrams.npy\n",
      "Applying Scaler to persistence diagrams.\n",
      "Fitting filtration 42/72: 4/RadialFiltration_19_12\n",
      "RGB images received. Transforming to grayscale.\n"
     ]
    },
    {
     "name": "stderr",
     "output_type": "stream",
     "text": [
      "rgb2gray: 100%|██████████| 50000/50000 [00:03<00:00, 12719.74it/s]\n"
     ]
    },
    {
     "name": "stdout",
     "output_type": "stream",
     "text": [
      "Got the result from ./20/train/filtrations/4/RadialFiltration_19_12/gray/diagrams.npy\n",
      "Applying Scaler to persistence diagrams.\n",
      "Got the result from ./20/train/filtrations/4/RadialFiltration_19_12/gray/diagrams.npy\n",
      "Applying Scaler to persistence diagrams.\n",
      "Got the result from ./20/train/filtrations/4/RadialFiltration_19_12/red/diagrams.npy\n",
      "Applying Scaler to persistence diagrams.\n",
      "Got the result from ./20/train/filtrations/4/RadialFiltration_19_12/red/diagrams.npy\n",
      "Applying Scaler to persistence diagrams.\n",
      "Got the result from ./20/train/filtrations/4/RadialFiltration_19_12/green/diagrams.npy\n",
      "Applying Scaler to persistence diagrams.\n",
      "Got the result from ./20/train/filtrations/4/RadialFiltration_19_12/green/diagrams.npy\n",
      "Applying Scaler to persistence diagrams.\n",
      "Got the result from ./20/train/filtrations/4/RadialFiltration_19_12/blue/diagrams.npy\n",
      "Applying Scaler to persistence diagrams.\n",
      "Got the result from ./20/train/filtrations/4/RadialFiltration_19_12/blue/diagrams.npy\n",
      "Applying Scaler to persistence diagrams.\n",
      "Fitting filtration 43/72: 4/RadialFiltration_19_19\n",
      "RGB images received. Transforming to grayscale.\n"
     ]
    },
    {
     "name": "stderr",
     "output_type": "stream",
     "text": [
      "rgb2gray: 100%|██████████| 50000/50000 [00:04<00:00, 12455.16it/s]\n"
     ]
    },
    {
     "name": "stdout",
     "output_type": "stream",
     "text": [
      "Got the result from ./20/train/filtrations/4/RadialFiltration_19_19/gray/diagrams.npy\n",
      "Applying Scaler to persistence diagrams.\n",
      "Got the result from ./20/train/filtrations/4/RadialFiltration_19_19/gray/diagrams.npy\n",
      "Applying Scaler to persistence diagrams.\n",
      "Got the result from ./20/train/filtrations/4/RadialFiltration_19_19/red/diagrams.npy\n",
      "Applying Scaler to persistence diagrams.\n",
      "Got the result from ./20/train/filtrations/4/RadialFiltration_19_19/red/diagrams.npy\n",
      "Applying Scaler to persistence diagrams.\n",
      "Got the result from ./20/train/filtrations/4/RadialFiltration_19_19/green/diagrams.npy\n",
      "Applying Scaler to persistence diagrams.\n",
      "Got the result from ./20/train/filtrations/4/RadialFiltration_19_19/green/diagrams.npy\n",
      "Applying Scaler to persistence diagrams.\n",
      "Got the result from ./20/train/filtrations/4/RadialFiltration_19_19/blue/diagrams.npy\n",
      "Applying Scaler to persistence diagrams.\n",
      "Got the result from ./20/train/filtrations/4/RadialFiltration_19_19/blue/diagrams.npy\n",
      "Applying Scaler to persistence diagrams.\n",
      "Fitting filtration 44/72: 4/RadialFiltration_19_26\n",
      "RGB images received. Transforming to grayscale.\n"
     ]
    },
    {
     "name": "stderr",
     "output_type": "stream",
     "text": [
      "rgb2gray: 100%|██████████| 50000/50000 [00:03<00:00, 12693.69it/s]\n"
     ]
    },
    {
     "name": "stdout",
     "output_type": "stream",
     "text": [
      "Got the result from ./20/train/filtrations/4/RadialFiltration_19_26/gray/diagrams.npy\n",
      "Applying Scaler to persistence diagrams.\n",
      "Got the result from ./20/train/filtrations/4/RadialFiltration_19_26/gray/diagrams.npy\n",
      "Applying Scaler to persistence diagrams.\n",
      "Got the result from ./20/train/filtrations/4/RadialFiltration_19_26/red/diagrams.npy\n",
      "Applying Scaler to persistence diagrams.\n",
      "Got the result from ./20/train/filtrations/4/RadialFiltration_19_26/red/diagrams.npy\n",
      "Applying Scaler to persistence diagrams.\n",
      "Got the result from ./20/train/filtrations/4/RadialFiltration_19_26/green/diagrams.npy\n",
      "Applying Scaler to persistence diagrams.\n",
      "Got the result from ./20/train/filtrations/4/RadialFiltration_19_26/green/diagrams.npy\n",
      "Applying Scaler to persistence diagrams.\n",
      "Got the result from ./20/train/filtrations/4/RadialFiltration_19_26/blue/diagrams.npy\n",
      "Applying Scaler to persistence diagrams.\n",
      "Got the result from ./20/train/filtrations/4/RadialFiltration_19_26/blue/diagrams.npy\n",
      "Applying Scaler to persistence diagrams.\n",
      "Fitting filtration 45/72: 4/RadialFiltration_26_5\n",
      "RGB images received. Transforming to grayscale.\n"
     ]
    },
    {
     "name": "stderr",
     "output_type": "stream",
     "text": [
      "rgb2gray: 100%|██████████| 50000/50000 [00:03<00:00, 12638.16it/s]\n"
     ]
    },
    {
     "name": "stdout",
     "output_type": "stream",
     "text": [
      "Got the result from ./20/train/filtrations/4/RadialFiltration_26_5/gray/diagrams.npy\n",
      "Applying Scaler to persistence diagrams.\n",
      "Got the result from ./20/train/filtrations/4/RadialFiltration_26_5/gray/diagrams.npy\n",
      "Applying Scaler to persistence diagrams.\n",
      "Got the result from ./20/train/filtrations/4/RadialFiltration_26_5/red/diagrams.npy\n",
      "Applying Scaler to persistence diagrams.\n",
      "Got the result from ./20/train/filtrations/4/RadialFiltration_26_5/red/diagrams.npy\n",
      "Applying Scaler to persistence diagrams.\n",
      "Got the result from ./20/train/filtrations/4/RadialFiltration_26_5/green/diagrams.npy\n",
      "Applying Scaler to persistence diagrams.\n",
      "Got the result from ./20/train/filtrations/4/RadialFiltration_26_5/green/diagrams.npy\n",
      "Applying Scaler to persistence diagrams.\n",
      "Got the result from ./20/train/filtrations/4/RadialFiltration_26_5/blue/diagrams.npy\n",
      "Applying Scaler to persistence diagrams.\n",
      "Got the result from ./20/train/filtrations/4/RadialFiltration_26_5/blue/diagrams.npy\n",
      "Applying Scaler to persistence diagrams.\n",
      "Fitting filtration 46/72: 4/RadialFiltration_26_12\n",
      "RGB images received. Transforming to grayscale.\n"
     ]
    },
    {
     "name": "stderr",
     "output_type": "stream",
     "text": [
      "rgb2gray: 100%|██████████| 50000/50000 [00:03<00:00, 12663.84it/s]\n"
     ]
    },
    {
     "name": "stdout",
     "output_type": "stream",
     "text": [
      "Got the result from ./20/train/filtrations/4/RadialFiltration_26_12/gray/diagrams.npy\n",
      "Applying Scaler to persistence diagrams.\n",
      "Got the result from ./20/train/filtrations/4/RadialFiltration_26_12/gray/diagrams.npy\n",
      "Applying Scaler to persistence diagrams.\n",
      "Got the result from ./20/train/filtrations/4/RadialFiltration_26_12/red/diagrams.npy\n",
      "Applying Scaler to persistence diagrams.\n",
      "Got the result from ./20/train/filtrations/4/RadialFiltration_26_12/red/diagrams.npy\n",
      "Applying Scaler to persistence diagrams.\n",
      "Got the result from ./20/train/filtrations/4/RadialFiltration_26_12/green/diagrams.npy\n",
      "Applying Scaler to persistence diagrams.\n",
      "Got the result from ./20/train/filtrations/4/RadialFiltration_26_12/green/diagrams.npy\n",
      "Applying Scaler to persistence diagrams.\n",
      "Got the result from ./20/train/filtrations/4/RadialFiltration_26_12/blue/diagrams.npy\n",
      "Applying Scaler to persistence diagrams.\n",
      "Got the result from ./20/train/filtrations/4/RadialFiltration_26_12/blue/diagrams.npy\n",
      "Applying Scaler to persistence diagrams.\n",
      "Fitting filtration 47/72: 4/RadialFiltration_26_19\n",
      "RGB images received. Transforming to grayscale.\n"
     ]
    },
    {
     "name": "stderr",
     "output_type": "stream",
     "text": [
      "rgb2gray: 100%|██████████| 50000/50000 [00:03<00:00, 12724.87it/s]\n"
     ]
    },
    {
     "name": "stdout",
     "output_type": "stream",
     "text": [
      "Got the result from ./20/train/filtrations/4/RadialFiltration_26_19/gray/diagrams.npy\n",
      "Applying Scaler to persistence diagrams.\n",
      "Got the result from ./20/train/filtrations/4/RadialFiltration_26_19/gray/diagrams.npy\n",
      "Applying Scaler to persistence diagrams.\n",
      "Got the result from ./20/train/filtrations/4/RadialFiltration_26_19/red/diagrams.npy\n",
      "Applying Scaler to persistence diagrams.\n",
      "Got the result from ./20/train/filtrations/4/RadialFiltration_26_19/red/diagrams.npy\n",
      "Applying Scaler to persistence diagrams.\n",
      "Got the result from ./20/train/filtrations/4/RadialFiltration_26_19/green/diagrams.npy\n",
      "Applying Scaler to persistence diagrams.\n",
      "Got the result from ./20/train/filtrations/4/RadialFiltration_26_19/green/diagrams.npy\n",
      "Applying Scaler to persistence diagrams.\n",
      "Got the result from ./20/train/filtrations/4/RadialFiltration_26_19/blue/diagrams.npy\n",
      "Applying Scaler to persistence diagrams.\n",
      "Got the result from ./20/train/filtrations/4/RadialFiltration_26_19/blue/diagrams.npy\n",
      "Applying Scaler to persistence diagrams.\n",
      "Fitting filtration 48/72: 4/RadialFiltration_26_26\n",
      "RGB images received. Transforming to grayscale.\n"
     ]
    },
    {
     "name": "stderr",
     "output_type": "stream",
     "text": [
      "rgb2gray: 100%|██████████| 50000/50000 [00:03<00:00, 12740.45it/s]\n"
     ]
    },
    {
     "name": "stdout",
     "output_type": "stream",
     "text": [
      "Got the result from ./20/train/filtrations/4/RadialFiltration_26_26/gray/diagrams.npy\n",
      "Applying Scaler to persistence diagrams.\n",
      "Got the result from ./20/train/filtrations/4/RadialFiltration_26_26/gray/diagrams.npy\n",
      "Applying Scaler to persistence diagrams.\n",
      "Got the result from ./20/train/filtrations/4/RadialFiltration_26_26/red/diagrams.npy\n",
      "Applying Scaler to persistence diagrams.\n",
      "Got the result from ./20/train/filtrations/4/RadialFiltration_26_26/red/diagrams.npy\n",
      "Applying Scaler to persistence diagrams.\n",
      "Got the result from ./20/train/filtrations/4/RadialFiltration_26_26/green/diagrams.npy\n",
      "Applying Scaler to persistence diagrams.\n",
      "Got the result from ./20/train/filtrations/4/RadialFiltration_26_26/green/diagrams.npy\n",
      "Applying Scaler to persistence diagrams.\n",
      "Got the result from ./20/train/filtrations/4/RadialFiltration_26_26/blue/diagrams.npy\n",
      "Applying Scaler to persistence diagrams.\n",
      "Got the result from ./20/train/filtrations/4/RadialFiltration_26_26/blue/diagrams.npy\n",
      "Applying Scaler to persistence diagrams.\n",
      "Fitting filtration 49/72: 6/HeightFiltrartion_-1_-1\n",
      "RGB images received. Transforming to grayscale.\n"
     ]
    },
    {
     "name": "stderr",
     "output_type": "stream",
     "text": [
      "rgb2gray: 100%|██████████| 50000/50000 [00:03<00:00, 12657.33it/s]\n"
     ]
    },
    {
     "name": "stdout",
     "output_type": "stream",
     "text": [
      "Got the result from ./20/train/filtrations/6/HeightFiltrartion_-1_-1/gray/diagrams.npy\n",
      "Applying Scaler to persistence diagrams.\n",
      "Got the result from ./20/train/filtrations/6/HeightFiltrartion_-1_-1/gray/diagrams.npy\n",
      "Applying Scaler to persistence diagrams.\n",
      "Got the result from ./20/train/filtrations/6/HeightFiltrartion_-1_-1/red/diagrams.npy\n",
      "Applying Scaler to persistence diagrams.\n",
      "Got the result from ./20/train/filtrations/6/HeightFiltrartion_-1_-1/red/diagrams.npy\n",
      "Applying Scaler to persistence diagrams.\n",
      "Got the result from ./20/train/filtrations/6/HeightFiltrartion_-1_-1/green/diagrams.npy\n",
      "Applying Scaler to persistence diagrams.\n",
      "Got the result from ./20/train/filtrations/6/HeightFiltrartion_-1_-1/green/diagrams.npy\n",
      "Applying Scaler to persistence diagrams.\n",
      "Got the result from ./20/train/filtrations/6/HeightFiltrartion_-1_-1/blue/diagrams.npy\n",
      "Applying Scaler to persistence diagrams.\n",
      "Got the result from ./20/train/filtrations/6/HeightFiltrartion_-1_-1/blue/diagrams.npy\n",
      "Applying Scaler to persistence diagrams.\n",
      "Fitting filtration 50/72: 6/HeightFiltrartion_1_1\n",
      "RGB images received. Transforming to grayscale.\n"
     ]
    },
    {
     "name": "stderr",
     "output_type": "stream",
     "text": [
      "rgb2gray: 100%|██████████| 50000/50000 [00:03<00:00, 12649.41it/s]\n"
     ]
    },
    {
     "name": "stdout",
     "output_type": "stream",
     "text": [
      "Got the result from ./20/train/filtrations/6/HeightFiltrartion_1_1/gray/diagrams.npy\n",
      "Applying Scaler to persistence diagrams.\n",
      "Got the result from ./20/train/filtrations/6/HeightFiltrartion_1_1/gray/diagrams.npy\n",
      "Applying Scaler to persistence diagrams.\n",
      "Got the result from ./20/train/filtrations/6/HeightFiltrartion_1_1/red/diagrams.npy\n",
      "Applying Scaler to persistence diagrams.\n",
      "Got the result from ./20/train/filtrations/6/HeightFiltrartion_1_1/red/diagrams.npy\n",
      "Applying Scaler to persistence diagrams.\n",
      "Got the result from ./20/train/filtrations/6/HeightFiltrartion_1_1/green/diagrams.npy\n",
      "Applying Scaler to persistence diagrams.\n",
      "Got the result from ./20/train/filtrations/6/HeightFiltrartion_1_1/green/diagrams.npy\n",
      "Applying Scaler to persistence diagrams.\n",
      "Got the result from ./20/train/filtrations/6/HeightFiltrartion_1_1/blue/diagrams.npy\n",
      "Applying Scaler to persistence diagrams.\n",
      "Got the result from ./20/train/filtrations/6/HeightFiltrartion_1_1/blue/diagrams.npy\n",
      "Applying Scaler to persistence diagrams.\n",
      "Fitting filtration 51/72: 6/HeightFiltrartion_1_-1\n",
      "RGB images received. Transforming to grayscale.\n"
     ]
    },
    {
     "name": "stderr",
     "output_type": "stream",
     "text": [
      "rgb2gray: 100%|██████████| 50000/50000 [00:03<00:00, 12516.66it/s]\n"
     ]
    },
    {
     "name": "stdout",
     "output_type": "stream",
     "text": [
      "Got the result from ./20/train/filtrations/6/HeightFiltrartion_1_-1/gray/diagrams.npy\n",
      "Applying Scaler to persistence diagrams.\n",
      "Got the result from ./20/train/filtrations/6/HeightFiltrartion_1_-1/gray/diagrams.npy\n",
      "Applying Scaler to persistence diagrams.\n",
      "Got the result from ./20/train/filtrations/6/HeightFiltrartion_1_-1/red/diagrams.npy\n",
      "Applying Scaler to persistence diagrams.\n",
      "Got the result from ./20/train/filtrations/6/HeightFiltrartion_1_-1/red/diagrams.npy\n",
      "Applying Scaler to persistence diagrams.\n",
      "Got the result from ./20/train/filtrations/6/HeightFiltrartion_1_-1/green/diagrams.npy\n",
      "Applying Scaler to persistence diagrams.\n",
      "Got the result from ./20/train/filtrations/6/HeightFiltrartion_1_-1/green/diagrams.npy\n",
      "Applying Scaler to persistence diagrams.\n",
      "Got the result from ./20/train/filtrations/6/HeightFiltrartion_1_-1/blue/diagrams.npy\n",
      "Applying Scaler to persistence diagrams.\n",
      "Got the result from ./20/train/filtrations/6/HeightFiltrartion_1_-1/blue/diagrams.npy\n",
      "Applying Scaler to persistence diagrams.\n",
      "Fitting filtration 52/72: 6/HeightFiltrartion_-1_1\n",
      "RGB images received. Transforming to grayscale.\n"
     ]
    },
    {
     "name": "stderr",
     "output_type": "stream",
     "text": [
      "rgb2gray: 100%|██████████| 50000/50000 [00:03<00:00, 12696.75it/s]\n"
     ]
    },
    {
     "name": "stdout",
     "output_type": "stream",
     "text": [
      "Got the result from ./20/train/filtrations/6/HeightFiltrartion_-1_1/gray/diagrams.npy\n",
      "Applying Scaler to persistence diagrams.\n",
      "Got the result from ./20/train/filtrations/6/HeightFiltrartion_-1_1/gray/diagrams.npy\n",
      "Applying Scaler to persistence diagrams.\n",
      "Got the result from ./20/train/filtrations/6/HeightFiltrartion_-1_1/red/diagrams.npy\n",
      "Applying Scaler to persistence diagrams.\n",
      "Got the result from ./20/train/filtrations/6/HeightFiltrartion_-1_1/red/diagrams.npy\n",
      "Applying Scaler to persistence diagrams.\n",
      "Got the result from ./20/train/filtrations/6/HeightFiltrartion_-1_1/green/diagrams.npy\n",
      "Applying Scaler to persistence diagrams.\n",
      "Got the result from ./20/train/filtrations/6/HeightFiltrartion_-1_1/green/diagrams.npy\n",
      "Applying Scaler to persistence diagrams.\n",
      "Got the result from ./20/train/filtrations/6/HeightFiltrartion_-1_1/blue/diagrams.npy\n",
      "Applying Scaler to persistence diagrams.\n",
      "Got the result from ./20/train/filtrations/6/HeightFiltrartion_-1_1/blue/diagrams.npy\n",
      "Applying Scaler to persistence diagrams.\n",
      "Fitting filtration 53/72: 6/HeightFiltrartion_0_-1\n",
      "RGB images received. Transforming to grayscale.\n"
     ]
    },
    {
     "name": "stderr",
     "output_type": "stream",
     "text": [
      "rgb2gray: 100%|██████████| 50000/50000 [00:03<00:00, 12588.54it/s]\n"
     ]
    },
    {
     "name": "stdout",
     "output_type": "stream",
     "text": [
      "Got the result from ./20/train/filtrations/6/HeightFiltrartion_0_-1/gray/diagrams.npy\n",
      "Applying Scaler to persistence diagrams.\n",
      "Got the result from ./20/train/filtrations/6/HeightFiltrartion_0_-1/gray/diagrams.npy\n",
      "Applying Scaler to persistence diagrams.\n",
      "Got the result from ./20/train/filtrations/6/HeightFiltrartion_0_-1/red/diagrams.npy\n",
      "Applying Scaler to persistence diagrams.\n",
      "Got the result from ./20/train/filtrations/6/HeightFiltrartion_0_-1/red/diagrams.npy\n",
      "Applying Scaler to persistence diagrams.\n",
      "Got the result from ./20/train/filtrations/6/HeightFiltrartion_0_-1/green/diagrams.npy\n",
      "Applying Scaler to persistence diagrams.\n",
      "Got the result from ./20/train/filtrations/6/HeightFiltrartion_0_-1/green/diagrams.npy\n",
      "Applying Scaler to persistence diagrams.\n",
      "Got the result from ./20/train/filtrations/6/HeightFiltrartion_0_-1/blue/diagrams.npy\n",
      "Applying Scaler to persistence diagrams.\n",
      "Got the result from ./20/train/filtrations/6/HeightFiltrartion_0_-1/blue/diagrams.npy\n",
      "Applying Scaler to persistence diagrams.\n",
      "Fitting filtration 54/72: 6/HeightFiltrartion_0_1\n",
      "RGB images received. Transforming to grayscale.\n"
     ]
    },
    {
     "name": "stderr",
     "output_type": "stream",
     "text": [
      "rgb2gray: 100%|██████████| 50000/50000 [00:04<00:00, 12469.61it/s]\n"
     ]
    },
    {
     "name": "stdout",
     "output_type": "stream",
     "text": [
      "Got the result from ./20/train/filtrations/6/HeightFiltrartion_0_1/gray/diagrams.npy\n",
      "Applying Scaler to persistence diagrams.\n",
      "Got the result from ./20/train/filtrations/6/HeightFiltrartion_0_1/gray/diagrams.npy\n",
      "Applying Scaler to persistence diagrams.\n",
      "Got the result from ./20/train/filtrations/6/HeightFiltrartion_0_1/red/diagrams.npy\n",
      "Applying Scaler to persistence diagrams.\n",
      "Got the result from ./20/train/filtrations/6/HeightFiltrartion_0_1/red/diagrams.npy\n",
      "Applying Scaler to persistence diagrams.\n",
      "Got the result from ./20/train/filtrations/6/HeightFiltrartion_0_1/green/diagrams.npy\n",
      "Applying Scaler to persistence diagrams.\n",
      "Got the result from ./20/train/filtrations/6/HeightFiltrartion_0_1/green/diagrams.npy\n",
      "Applying Scaler to persistence diagrams.\n",
      "Got the result from ./20/train/filtrations/6/HeightFiltrartion_0_1/blue/diagrams.npy\n",
      "Applying Scaler to persistence diagrams.\n",
      "Got the result from ./20/train/filtrations/6/HeightFiltrartion_0_1/blue/diagrams.npy\n",
      "Applying Scaler to persistence diagrams.\n",
      "Fitting filtration 55/72: 6/HeightFiltrartion_-1_0\n",
      "RGB images received. Transforming to grayscale.\n"
     ]
    },
    {
     "name": "stderr",
     "output_type": "stream",
     "text": [
      "rgb2gray: 100%|██████████| 50000/50000 [00:03<00:00, 12629.32it/s]\n"
     ]
    },
    {
     "name": "stdout",
     "output_type": "stream",
     "text": [
      "Got the result from ./20/train/filtrations/6/HeightFiltrartion_-1_0/gray/diagrams.npy\n",
      "Applying Scaler to persistence diagrams.\n",
      "Got the result from ./20/train/filtrations/6/HeightFiltrartion_-1_0/gray/diagrams.npy\n",
      "Applying Scaler to persistence diagrams.\n",
      "Got the result from ./20/train/filtrations/6/HeightFiltrartion_-1_0/red/diagrams.npy\n",
      "Applying Scaler to persistence diagrams.\n",
      "Got the result from ./20/train/filtrations/6/HeightFiltrartion_-1_0/red/diagrams.npy\n",
      "Applying Scaler to persistence diagrams.\n",
      "Got the result from ./20/train/filtrations/6/HeightFiltrartion_-1_0/green/diagrams.npy\n",
      "Applying Scaler to persistence diagrams.\n",
      "Got the result from ./20/train/filtrations/6/HeightFiltrartion_-1_0/green/diagrams.npy\n",
      "Applying Scaler to persistence diagrams.\n",
      "Got the result from ./20/train/filtrations/6/HeightFiltrartion_-1_0/blue/diagrams.npy\n",
      "Applying Scaler to persistence diagrams.\n",
      "Got the result from ./20/train/filtrations/6/HeightFiltrartion_-1_0/blue/diagrams.npy\n",
      "Applying Scaler to persistence diagrams.\n",
      "Fitting filtration 56/72: 6/HeightFiltrartion_1_0\n",
      "RGB images received. Transforming to grayscale.\n"
     ]
    },
    {
     "name": "stderr",
     "output_type": "stream",
     "text": [
      "rgb2gray: 100%|██████████| 50000/50000 [00:03<00:00, 12563.31it/s]\n"
     ]
    },
    {
     "name": "stdout",
     "output_type": "stream",
     "text": [
      "Got the result from ./20/train/filtrations/6/HeightFiltrartion_1_0/gray/diagrams.npy\n",
      "Applying Scaler to persistence diagrams.\n",
      "Got the result from ./20/train/filtrations/6/HeightFiltrartion_1_0/gray/diagrams.npy\n",
      "Applying Scaler to persistence diagrams.\n",
      "Got the result from ./20/train/filtrations/6/HeightFiltrartion_1_0/red/diagrams.npy\n",
      "Applying Scaler to persistence diagrams.\n",
      "Got the result from ./20/train/filtrations/6/HeightFiltrartion_1_0/red/diagrams.npy\n",
      "Applying Scaler to persistence diagrams.\n",
      "Got the result from ./20/train/filtrations/6/HeightFiltrartion_1_0/green/diagrams.npy\n",
      "Applying Scaler to persistence diagrams.\n",
      "Got the result from ./20/train/filtrations/6/HeightFiltrartion_1_0/green/diagrams.npy\n",
      "Applying Scaler to persistence diagrams.\n",
      "Got the result from ./20/train/filtrations/6/HeightFiltrartion_1_0/blue/diagrams.npy\n",
      "Applying Scaler to persistence diagrams.\n",
      "Got the result from ./20/train/filtrations/6/HeightFiltrartion_1_0/blue/diagrams.npy\n",
      "Applying Scaler to persistence diagrams.\n",
      "Fitting filtration 57/72: 6/RadialFiltration_5_5\n",
      "RGB images received. Transforming to grayscale.\n"
     ]
    },
    {
     "name": "stderr",
     "output_type": "stream",
     "text": [
      "rgb2gray: 100%|██████████| 50000/50000 [00:03<00:00, 12571.49it/s]\n"
     ]
    },
    {
     "name": "stdout",
     "output_type": "stream",
     "text": [
      "Got the result from ./20/train/filtrations/6/RadialFiltration_5_5/gray/diagrams.npy\n",
      "Applying Scaler to persistence diagrams.\n",
      "Got the result from ./20/train/filtrations/6/RadialFiltration_5_5/gray/diagrams.npy\n",
      "Applying Scaler to persistence diagrams.\n",
      "Got the result from ./20/train/filtrations/6/RadialFiltration_5_5/red/diagrams.npy\n",
      "Applying Scaler to persistence diagrams.\n",
      "Got the result from ./20/train/filtrations/6/RadialFiltration_5_5/red/diagrams.npy\n",
      "Applying Scaler to persistence diagrams.\n",
      "Got the result from ./20/train/filtrations/6/RadialFiltration_5_5/green/diagrams.npy\n",
      "Applying Scaler to persistence diagrams.\n",
      "Got the result from ./20/train/filtrations/6/RadialFiltration_5_5/green/diagrams.npy\n",
      "Applying Scaler to persistence diagrams.\n",
      "Got the result from ./20/train/filtrations/6/RadialFiltration_5_5/blue/diagrams.npy\n",
      "Applying Scaler to persistence diagrams.\n",
      "Got the result from ./20/train/filtrations/6/RadialFiltration_5_5/blue/diagrams.npy\n",
      "Applying Scaler to persistence diagrams.\n",
      "Fitting filtration 58/72: 6/RadialFiltration_5_12\n",
      "RGB images received. Transforming to grayscale.\n"
     ]
    },
    {
     "name": "stderr",
     "output_type": "stream",
     "text": [
      "rgb2gray: 100%|██████████| 50000/50000 [00:03<00:00, 12626.80it/s]\n"
     ]
    },
    {
     "name": "stdout",
     "output_type": "stream",
     "text": [
      "Got the result from ./20/train/filtrations/6/RadialFiltration_5_12/gray/diagrams.npy\n",
      "Applying Scaler to persistence diagrams.\n",
      "Got the result from ./20/train/filtrations/6/RadialFiltration_5_12/gray/diagrams.npy\n",
      "Applying Scaler to persistence diagrams.\n",
      "Got the result from ./20/train/filtrations/6/RadialFiltration_5_12/red/diagrams.npy\n",
      "Applying Scaler to persistence diagrams.\n",
      "Got the result from ./20/train/filtrations/6/RadialFiltration_5_12/red/diagrams.npy\n",
      "Applying Scaler to persistence diagrams.\n",
      "Got the result from ./20/train/filtrations/6/RadialFiltration_5_12/green/diagrams.npy\n",
      "Applying Scaler to persistence diagrams.\n",
      "Got the result from ./20/train/filtrations/6/RadialFiltration_5_12/green/diagrams.npy\n",
      "Applying Scaler to persistence diagrams.\n",
      "Got the result from ./20/train/filtrations/6/RadialFiltration_5_12/blue/diagrams.npy\n",
      "Applying Scaler to persistence diagrams.\n",
      "Got the result from ./20/train/filtrations/6/RadialFiltration_5_12/blue/diagrams.npy\n",
      "Applying Scaler to persistence diagrams.\n",
      "Fitting filtration 59/72: 6/RadialFiltration_5_19\n",
      "RGB images received. Transforming to grayscale.\n"
     ]
    },
    {
     "name": "stderr",
     "output_type": "stream",
     "text": [
      "rgb2gray: 100%|██████████| 50000/50000 [00:03<00:00, 12541.22it/s]\n"
     ]
    },
    {
     "name": "stdout",
     "output_type": "stream",
     "text": [
      "Got the result from ./20/train/filtrations/6/RadialFiltration_5_19/gray/diagrams.npy\n",
      "Applying Scaler to persistence diagrams.\n",
      "Got the result from ./20/train/filtrations/6/RadialFiltration_5_19/gray/diagrams.npy\n",
      "Applying Scaler to persistence diagrams.\n",
      "Got the result from ./20/train/filtrations/6/RadialFiltration_5_19/red/diagrams.npy\n",
      "Applying Scaler to persistence diagrams.\n",
      "Got the result from ./20/train/filtrations/6/RadialFiltration_5_19/red/diagrams.npy\n",
      "Applying Scaler to persistence diagrams.\n",
      "Got the result from ./20/train/filtrations/6/RadialFiltration_5_19/green/diagrams.npy\n",
      "Applying Scaler to persistence diagrams.\n",
      "Got the result from ./20/train/filtrations/6/RadialFiltration_5_19/green/diagrams.npy\n",
      "Applying Scaler to persistence diagrams.\n",
      "Got the result from ./20/train/filtrations/6/RadialFiltration_5_19/blue/diagrams.npy\n",
      "Applying Scaler to persistence diagrams.\n",
      "Got the result from ./20/train/filtrations/6/RadialFiltration_5_19/blue/diagrams.npy\n",
      "Applying Scaler to persistence diagrams.\n",
      "Fitting filtration 60/72: 6/RadialFiltration_5_26\n",
      "RGB images received. Transforming to grayscale.\n"
     ]
    },
    {
     "name": "stderr",
     "output_type": "stream",
     "text": [
      "rgb2gray: 100%|██████████| 50000/50000 [00:03<00:00, 12722.00it/s]\n"
     ]
    },
    {
     "name": "stdout",
     "output_type": "stream",
     "text": [
      "Got the result from ./20/train/filtrations/6/RadialFiltration_5_26/gray/diagrams.npy\n",
      "Applying Scaler to persistence diagrams.\n",
      "Got the result from ./20/train/filtrations/6/RadialFiltration_5_26/gray/diagrams.npy\n",
      "Applying Scaler to persistence diagrams.\n",
      "Got the result from ./20/train/filtrations/6/RadialFiltration_5_26/red/diagrams.npy\n",
      "Applying Scaler to persistence diagrams.\n",
      "Got the result from ./20/train/filtrations/6/RadialFiltration_5_26/red/diagrams.npy\n",
      "Applying Scaler to persistence diagrams.\n",
      "Got the result from ./20/train/filtrations/6/RadialFiltration_5_26/green/diagrams.npy\n",
      "Applying Scaler to persistence diagrams.\n",
      "Got the result from ./20/train/filtrations/6/RadialFiltration_5_26/green/diagrams.npy\n",
      "Applying Scaler to persistence diagrams.\n",
      "Got the result from ./20/train/filtrations/6/RadialFiltration_5_26/blue/diagrams.npy\n",
      "Applying Scaler to persistence diagrams.\n",
      "Got the result from ./20/train/filtrations/6/RadialFiltration_5_26/blue/diagrams.npy\n",
      "Applying Scaler to persistence diagrams.\n",
      "Fitting filtration 61/72: 6/RadialFiltration_12_5\n",
      "RGB images received. Transforming to grayscale.\n"
     ]
    },
    {
     "name": "stderr",
     "output_type": "stream",
     "text": [
      "rgb2gray: 100%|██████████| 50000/50000 [00:03<00:00, 12825.32it/s]\n"
     ]
    },
    {
     "name": "stdout",
     "output_type": "stream",
     "text": [
      "Got the result from ./20/train/filtrations/6/RadialFiltration_12_5/gray/diagrams.npy\n",
      "Applying Scaler to persistence diagrams.\n",
      "Got the result from ./20/train/filtrations/6/RadialFiltration_12_5/gray/diagrams.npy\n",
      "Applying Scaler to persistence diagrams.\n",
      "Got the result from ./20/train/filtrations/6/RadialFiltration_12_5/red/diagrams.npy\n",
      "Applying Scaler to persistence diagrams.\n",
      "Got the result from ./20/train/filtrations/6/RadialFiltration_12_5/red/diagrams.npy\n",
      "Applying Scaler to persistence diagrams.\n",
      "Got the result from ./20/train/filtrations/6/RadialFiltration_12_5/green/diagrams.npy\n",
      "Applying Scaler to persistence diagrams.\n",
      "Got the result from ./20/train/filtrations/6/RadialFiltration_12_5/green/diagrams.npy\n",
      "Applying Scaler to persistence diagrams.\n",
      "Got the result from ./20/train/filtrations/6/RadialFiltration_12_5/blue/diagrams.npy\n",
      "Applying Scaler to persistence diagrams.\n",
      "Got the result from ./20/train/filtrations/6/RadialFiltration_12_5/blue/diagrams.npy\n",
      "Applying Scaler to persistence diagrams.\n",
      "Fitting filtration 62/72: 6/RadialFiltration_12_12\n",
      "RGB images received. Transforming to grayscale.\n"
     ]
    },
    {
     "name": "stderr",
     "output_type": "stream",
     "text": [
      "rgb2gray: 100%|██████████| 50000/50000 [00:03<00:00, 12528.03it/s]\n"
     ]
    },
    {
     "name": "stdout",
     "output_type": "stream",
     "text": [
      "Got the result from ./20/train/filtrations/6/RadialFiltration_12_12/gray/diagrams.npy\n",
      "Applying Scaler to persistence diagrams.\n",
      "Got the result from ./20/train/filtrations/6/RadialFiltration_12_12/gray/diagrams.npy\n",
      "Applying Scaler to persistence diagrams.\n",
      "Got the result from ./20/train/filtrations/6/RadialFiltration_12_12/red/diagrams.npy\n",
      "Applying Scaler to persistence diagrams.\n",
      "Got the result from ./20/train/filtrations/6/RadialFiltration_12_12/red/diagrams.npy\n",
      "Applying Scaler to persistence diagrams.\n",
      "Got the result from ./20/train/filtrations/6/RadialFiltration_12_12/green/diagrams.npy\n",
      "Applying Scaler to persistence diagrams.\n",
      "Got the result from ./20/train/filtrations/6/RadialFiltration_12_12/green/diagrams.npy\n",
      "Applying Scaler to persistence diagrams.\n",
      "Got the result from ./20/train/filtrations/6/RadialFiltration_12_12/blue/diagrams.npy\n",
      "Applying Scaler to persistence diagrams.\n",
      "Got the result from ./20/train/filtrations/6/RadialFiltration_12_12/blue/diagrams.npy\n",
      "Applying Scaler to persistence diagrams.\n",
      "Fitting filtration 63/72: 6/RadialFiltration_12_19\n",
      "RGB images received. Transforming to grayscale.\n"
     ]
    },
    {
     "name": "stderr",
     "output_type": "stream",
     "text": [
      "rgb2gray: 100%|██████████| 50000/50000 [00:03<00:00, 12620.22it/s]\n"
     ]
    },
    {
     "name": "stdout",
     "output_type": "stream",
     "text": [
      "Got the result from ./20/train/filtrations/6/RadialFiltration_12_19/gray/diagrams.npy\n",
      "Applying Scaler to persistence diagrams.\n",
      "Got the result from ./20/train/filtrations/6/RadialFiltration_12_19/gray/diagrams.npy\n",
      "Applying Scaler to persistence diagrams.\n",
      "Got the result from ./20/train/filtrations/6/RadialFiltration_12_19/red/diagrams.npy\n",
      "Applying Scaler to persistence diagrams.\n",
      "Got the result from ./20/train/filtrations/6/RadialFiltration_12_19/red/diagrams.npy\n",
      "Applying Scaler to persistence diagrams.\n",
      "Got the result from ./20/train/filtrations/6/RadialFiltration_12_19/green/diagrams.npy\n",
      "Applying Scaler to persistence diagrams.\n",
      "Got the result from ./20/train/filtrations/6/RadialFiltration_12_19/green/diagrams.npy\n",
      "Applying Scaler to persistence diagrams.\n",
      "Got the result from ./20/train/filtrations/6/RadialFiltration_12_19/blue/diagrams.npy\n",
      "Applying Scaler to persistence diagrams.\n",
      "Got the result from ./20/train/filtrations/6/RadialFiltration_12_19/blue/diagrams.npy\n",
      "Applying Scaler to persistence diagrams.\n",
      "Fitting filtration 64/72: 6/RadialFiltration_12_26\n",
      "RGB images received. Transforming to grayscale.\n"
     ]
    },
    {
     "name": "stderr",
     "output_type": "stream",
     "text": [
      "rgb2gray: 100%|██████████| 50000/50000 [00:04<00:00, 12428.10it/s]\n"
     ]
    },
    {
     "name": "stdout",
     "output_type": "stream",
     "text": [
      "Got the result from ./20/train/filtrations/6/RadialFiltration_12_26/gray/diagrams.npy\n",
      "Applying Scaler to persistence diagrams.\n",
      "Got the result from ./20/train/filtrations/6/RadialFiltration_12_26/gray/diagrams.npy\n",
      "Applying Scaler to persistence diagrams.\n",
      "Got the result from ./20/train/filtrations/6/RadialFiltration_12_26/red/diagrams.npy\n",
      "Applying Scaler to persistence diagrams.\n",
      "Got the result from ./20/train/filtrations/6/RadialFiltration_12_26/red/diagrams.npy\n",
      "Applying Scaler to persistence diagrams.\n",
      "Got the result from ./20/train/filtrations/6/RadialFiltration_12_26/green/diagrams.npy\n",
      "Applying Scaler to persistence diagrams.\n",
      "Got the result from ./20/train/filtrations/6/RadialFiltration_12_26/green/diagrams.npy\n",
      "Applying Scaler to persistence diagrams.\n",
      "Got the result from ./20/train/filtrations/6/RadialFiltration_12_26/blue/diagrams.npy\n",
      "Applying Scaler to persistence diagrams.\n",
      "Got the result from ./20/train/filtrations/6/RadialFiltration_12_26/blue/diagrams.npy\n",
      "Applying Scaler to persistence diagrams.\n",
      "Fitting filtration 65/72: 6/RadialFiltration_19_5\n",
      "RGB images received. Transforming to grayscale.\n"
     ]
    },
    {
     "name": "stderr",
     "output_type": "stream",
     "text": [
      "rgb2gray: 100%|██████████| 50000/50000 [00:03<00:00, 12561.20it/s]\n"
     ]
    },
    {
     "name": "stdout",
     "output_type": "stream",
     "text": [
      "Got the result from ./20/train/filtrations/6/RadialFiltration_19_5/gray/diagrams.npy\n",
      "Applying Scaler to persistence diagrams.\n",
      "Got the result from ./20/train/filtrations/6/RadialFiltration_19_5/gray/diagrams.npy\n",
      "Applying Scaler to persistence diagrams.\n",
      "Got the result from ./20/train/filtrations/6/RadialFiltration_19_5/red/diagrams.npy\n",
      "Applying Scaler to persistence diagrams.\n",
      "Got the result from ./20/train/filtrations/6/RadialFiltration_19_5/red/diagrams.npy\n",
      "Applying Scaler to persistence diagrams.\n",
      "Got the result from ./20/train/filtrations/6/RadialFiltration_19_5/green/diagrams.npy\n",
      "Applying Scaler to persistence diagrams.\n",
      "Got the result from ./20/train/filtrations/6/RadialFiltration_19_5/green/diagrams.npy\n",
      "Applying Scaler to persistence diagrams.\n",
      "Got the result from ./20/train/filtrations/6/RadialFiltration_19_5/blue/diagrams.npy\n",
      "Applying Scaler to persistence diagrams.\n",
      "Got the result from ./20/train/filtrations/6/RadialFiltration_19_5/blue/diagrams.npy\n",
      "Applying Scaler to persistence diagrams.\n",
      "Fitting filtration 66/72: 6/RadialFiltration_19_12\n",
      "RGB images received. Transforming to grayscale.\n"
     ]
    },
    {
     "name": "stderr",
     "output_type": "stream",
     "text": [
      "rgb2gray: 100%|██████████| 50000/50000 [00:03<00:00, 12592.89it/s]\n"
     ]
    },
    {
     "name": "stdout",
     "output_type": "stream",
     "text": [
      "Got the result from ./20/train/filtrations/6/RadialFiltration_19_12/gray/diagrams.npy\n",
      "Applying Scaler to persistence diagrams.\n",
      "Got the result from ./20/train/filtrations/6/RadialFiltration_19_12/gray/diagrams.npy\n",
      "Applying Scaler to persistence diagrams.\n",
      "Got the result from ./20/train/filtrations/6/RadialFiltration_19_12/red/diagrams.npy\n",
      "Applying Scaler to persistence diagrams.\n",
      "Got the result from ./20/train/filtrations/6/RadialFiltration_19_12/red/diagrams.npy\n",
      "Applying Scaler to persistence diagrams.\n",
      "Got the result from ./20/train/filtrations/6/RadialFiltration_19_12/green/diagrams.npy\n",
      "Applying Scaler to persistence diagrams.\n",
      "Got the result from ./20/train/filtrations/6/RadialFiltration_19_12/green/diagrams.npy\n",
      "Applying Scaler to persistence diagrams.\n",
      "Got the result from ./20/train/filtrations/6/RadialFiltration_19_12/blue/diagrams.npy\n",
      "Applying Scaler to persistence diagrams.\n",
      "Got the result from ./20/train/filtrations/6/RadialFiltration_19_12/blue/diagrams.npy\n",
      "Applying Scaler to persistence diagrams.\n",
      "Fitting filtration 67/72: 6/RadialFiltration_19_19\n",
      "RGB images received. Transforming to grayscale.\n"
     ]
    },
    {
     "name": "stderr",
     "output_type": "stream",
     "text": [
      "rgb2gray: 100%|██████████| 50000/50000 [00:03<00:00, 12580.05it/s]\n"
     ]
    },
    {
     "name": "stdout",
     "output_type": "stream",
     "text": [
      "Got the result from ./20/train/filtrations/6/RadialFiltration_19_19/gray/diagrams.npy\n",
      "Applying Scaler to persistence diagrams.\n",
      "Got the result from ./20/train/filtrations/6/RadialFiltration_19_19/gray/diagrams.npy\n",
      "Applying Scaler to persistence diagrams.\n",
      "Got the result from ./20/train/filtrations/6/RadialFiltration_19_19/red/diagrams.npy\n",
      "Applying Scaler to persistence diagrams.\n",
      "Got the result from ./20/train/filtrations/6/RadialFiltration_19_19/red/diagrams.npy\n",
      "Applying Scaler to persistence diagrams.\n",
      "Got the result from ./20/train/filtrations/6/RadialFiltration_19_19/green/diagrams.npy\n",
      "Applying Scaler to persistence diagrams.\n",
      "Got the result from ./20/train/filtrations/6/RadialFiltration_19_19/green/diagrams.npy\n",
      "Applying Scaler to persistence diagrams.\n",
      "Got the result from ./20/train/filtrations/6/RadialFiltration_19_19/blue/diagrams.npy\n",
      "Applying Scaler to persistence diagrams.\n",
      "Got the result from ./20/train/filtrations/6/RadialFiltration_19_19/blue/diagrams.npy\n",
      "Applying Scaler to persistence diagrams.\n",
      "Fitting filtration 68/72: 6/RadialFiltration_19_26\n",
      "RGB images received. Transforming to grayscale.\n"
     ]
    },
    {
     "name": "stderr",
     "output_type": "stream",
     "text": [
      "rgb2gray: 100%|██████████| 50000/50000 [00:03<00:00, 12588.65it/s]\n"
     ]
    },
    {
     "name": "stdout",
     "output_type": "stream",
     "text": [
      "Got the result from ./20/train/filtrations/6/RadialFiltration_19_26/gray/diagrams.npy\n",
      "Applying Scaler to persistence diagrams.\n",
      "Got the result from ./20/train/filtrations/6/RadialFiltration_19_26/gray/diagrams.npy\n",
      "Applying Scaler to persistence diagrams.\n",
      "Got the result from ./20/train/filtrations/6/RadialFiltration_19_26/red/diagrams.npy\n",
      "Applying Scaler to persistence diagrams.\n",
      "Got the result from ./20/train/filtrations/6/RadialFiltration_19_26/red/diagrams.npy\n",
      "Applying Scaler to persistence diagrams.\n",
      "Got the result from ./20/train/filtrations/6/RadialFiltration_19_26/green/diagrams.npy\n",
      "Applying Scaler to persistence diagrams.\n",
      "Got the result from ./20/train/filtrations/6/RadialFiltration_19_26/green/diagrams.npy\n",
      "Applying Scaler to persistence diagrams.\n",
      "Got the result from ./20/train/filtrations/6/RadialFiltration_19_26/blue/diagrams.npy\n",
      "Applying Scaler to persistence diagrams.\n",
      "Got the result from ./20/train/filtrations/6/RadialFiltration_19_26/blue/diagrams.npy\n",
      "Applying Scaler to persistence diagrams.\n",
      "Fitting filtration 69/72: 6/RadialFiltration_26_5\n",
      "RGB images received. Transforming to grayscale.\n"
     ]
    },
    {
     "name": "stderr",
     "output_type": "stream",
     "text": [
      "rgb2gray: 100%|██████████| 50000/50000 [00:03<00:00, 12670.24it/s]\n"
     ]
    },
    {
     "name": "stdout",
     "output_type": "stream",
     "text": [
      "Got the result from ./20/train/filtrations/6/RadialFiltration_26_5/gray/diagrams.npy\n",
      "Applying Scaler to persistence diagrams.\n",
      "Got the result from ./20/train/filtrations/6/RadialFiltration_26_5/gray/diagrams.npy\n",
      "Applying Scaler to persistence diagrams.\n",
      "Got the result from ./20/train/filtrations/6/RadialFiltration_26_5/red/diagrams.npy\n",
      "Applying Scaler to persistence diagrams.\n",
      "Got the result from ./20/train/filtrations/6/RadialFiltration_26_5/red/diagrams.npy\n",
      "Applying Scaler to persistence diagrams.\n",
      "Got the result from ./20/train/filtrations/6/RadialFiltration_26_5/green/diagrams.npy\n",
      "Applying Scaler to persistence diagrams.\n",
      "Got the result from ./20/train/filtrations/6/RadialFiltration_26_5/green/diagrams.npy\n",
      "Applying Scaler to persistence diagrams.\n",
      "Got the result from ./20/train/filtrations/6/RadialFiltration_26_5/blue/diagrams.npy\n",
      "Applying Scaler to persistence diagrams.\n",
      "Got the result from ./20/train/filtrations/6/RadialFiltration_26_5/blue/diagrams.npy\n",
      "Applying Scaler to persistence diagrams.\n",
      "Fitting filtration 70/72: 6/RadialFiltration_26_12\n",
      "RGB images received. Transforming to grayscale.\n"
     ]
    },
    {
     "name": "stderr",
     "output_type": "stream",
     "text": [
      "rgb2gray: 100%|██████████| 50000/50000 [00:03<00:00, 12628.81it/s]\n"
     ]
    },
    {
     "name": "stdout",
     "output_type": "stream",
     "text": [
      "Got the result from ./20/train/filtrations/6/RadialFiltration_26_12/gray/diagrams.npy\n",
      "Applying Scaler to persistence diagrams.\n",
      "Got the result from ./20/train/filtrations/6/RadialFiltration_26_12/gray/diagrams.npy\n",
      "Applying Scaler to persistence diagrams.\n",
      "Got the result from ./20/train/filtrations/6/RadialFiltration_26_12/red/diagrams.npy\n",
      "Applying Scaler to persistence diagrams.\n",
      "Got the result from ./20/train/filtrations/6/RadialFiltration_26_12/red/diagrams.npy\n",
      "Applying Scaler to persistence diagrams.\n",
      "Got the result from ./20/train/filtrations/6/RadialFiltration_26_12/green/diagrams.npy\n",
      "Applying Scaler to persistence diagrams.\n",
      "Got the result from ./20/train/filtrations/6/RadialFiltration_26_12/green/diagrams.npy\n",
      "Applying Scaler to persistence diagrams.\n",
      "Got the result from ./20/train/filtrations/6/RadialFiltration_26_12/blue/diagrams.npy\n",
      "Applying Scaler to persistence diagrams.\n",
      "Got the result from ./20/train/filtrations/6/RadialFiltration_26_12/blue/diagrams.npy\n",
      "Applying Scaler to persistence diagrams.\n",
      "Fitting filtration 71/72: 6/RadialFiltration_26_19\n",
      "RGB images received. Transforming to grayscale.\n"
     ]
    },
    {
     "name": "stderr",
     "output_type": "stream",
     "text": [
      "rgb2gray: 100%|██████████| 50000/50000 [00:03<00:00, 12635.24it/s]\n"
     ]
    },
    {
     "name": "stdout",
     "output_type": "stream",
     "text": [
      "Got the result from ./20/train/filtrations/6/RadialFiltration_26_19/gray/diagrams.npy\n",
      "Applying Scaler to persistence diagrams.\n",
      "Got the result from ./20/train/filtrations/6/RadialFiltration_26_19/gray/diagrams.npy\n",
      "Applying Scaler to persistence diagrams.\n",
      "Got the result from ./20/train/filtrations/6/RadialFiltration_26_19/red/diagrams.npy\n",
      "Applying Scaler to persistence diagrams.\n",
      "Got the result from ./20/train/filtrations/6/RadialFiltration_26_19/red/diagrams.npy\n",
      "Applying Scaler to persistence diagrams.\n",
      "Got the result from ./20/train/filtrations/6/RadialFiltration_26_19/green/diagrams.npy\n",
      "Applying Scaler to persistence diagrams.\n",
      "Got the result from ./20/train/filtrations/6/RadialFiltration_26_19/green/diagrams.npy\n",
      "Applying Scaler to persistence diagrams.\n",
      "Got the result from ./20/train/filtrations/6/RadialFiltration_26_19/blue/diagrams.npy\n",
      "Applying Scaler to persistence diagrams.\n",
      "Got the result from ./20/train/filtrations/6/RadialFiltration_26_19/blue/diagrams.npy\n",
      "Applying Scaler to persistence diagrams.\n",
      "Fitting filtration 72/72: 6/RadialFiltration_26_26\n",
      "RGB images received. Transforming to grayscale.\n"
     ]
    },
    {
     "name": "stderr",
     "output_type": "stream",
     "text": [
      "rgb2gray: 100%|██████████| 50000/50000 [00:03<00:00, 13117.84it/s]\n"
     ]
    },
    {
     "name": "stdout",
     "output_type": "stream",
     "text": [
      "Got the result from ./20/train/filtrations/6/RadialFiltration_26_26/gray/diagrams.npy\n",
      "Applying Scaler to persistence diagrams.\n",
      "Got the result from ./20/train/filtrations/6/RadialFiltration_26_26/gray/diagrams.npy\n",
      "Applying Scaler to persistence diagrams.\n",
      "Got the result from ./20/train/filtrations/6/RadialFiltration_26_26/red/diagrams.npy\n",
      "Applying Scaler to persistence diagrams.\n",
      "Got the result from ./20/train/filtrations/6/RadialFiltration_26_26/red/diagrams.npy\n",
      "Applying Scaler to persistence diagrams.\n",
      "Got the result from ./20/train/filtrations/6/RadialFiltration_26_26/green/diagrams.npy\n",
      "Applying Scaler to persistence diagrams.\n",
      "Got the result from ./20/train/filtrations/6/RadialFiltration_26_26/green/diagrams.npy\n",
      "Applying Scaler to persistence diagrams.\n",
      "Got the result from ./20/train/filtrations/6/RadialFiltration_26_26/blue/diagrams.npy\n",
      "Applying Scaler to persistence diagrams.\n",
      "Got the result from ./20/train/filtrations/6/RadialFiltration_26_26/blue/diagrams.npy\n",
      "Applying Scaler to persistence diagrams.\n",
      "Applying filtrations\n",
      "Applying filtration 1/72: 2/HeightFiltrartion_-1_-1\n",
      "RGB images received. Transforming to grayscale.\n"
     ]
    },
    {
     "name": "stderr",
     "output_type": "stream",
     "text": [
      "rgb2gray: 100%|██████████| 50000/50000 [00:03<00:00, 12538.48it/s]\n"
     ]
    },
    {
     "name": "stdout",
     "output_type": "stream",
     "text": [
      "Got the result from ./20/train/filtrations/2/HeightFiltrartion_-1_-1/gray/diagrams.npy\n",
      "Applying Scaler to persistence diagrams.\n",
      "Got the result from ./20/train/filtrations/2/HeightFiltrartion_-1_-1/red/diagrams.npy\n",
      "Applying Scaler to persistence diagrams.\n",
      "Got the result from ./20/train/filtrations/2/HeightFiltrartion_-1_-1/green/diagrams.npy\n",
      "Applying Scaler to persistence diagrams.\n",
      "Got the result from ./20/train/filtrations/2/HeightFiltrartion_-1_-1/blue/diagrams.npy\n",
      "Applying Scaler to persistence diagrams.\n",
      "Applying filtration 2/72: 2/HeightFiltrartion_1_1\n",
      "RGB images received. Transforming to grayscale.\n"
     ]
    },
    {
     "name": "stderr",
     "output_type": "stream",
     "text": [
      "rgb2gray: 100%|██████████| 50000/50000 [00:04<00:00, 12386.87it/s]\n"
     ]
    },
    {
     "name": "stdout",
     "output_type": "stream",
     "text": [
      "Got the result from ./20/train/filtrations/2/HeightFiltrartion_1_1/gray/diagrams.npy\n",
      "Applying Scaler to persistence diagrams.\n",
      "Got the result from ./20/train/filtrations/2/HeightFiltrartion_1_1/red/diagrams.npy\n",
      "Applying Scaler to persistence diagrams.\n",
      "Got the result from ./20/train/filtrations/2/HeightFiltrartion_1_1/green/diagrams.npy\n",
      "Applying Scaler to persistence diagrams.\n",
      "Got the result from ./20/train/filtrations/2/HeightFiltrartion_1_1/blue/diagrams.npy\n",
      "Applying Scaler to persistence diagrams.\n",
      "Applying filtration 3/72: 2/HeightFiltrartion_1_-1\n",
      "RGB images received. Transforming to grayscale.\n"
     ]
    },
    {
     "name": "stderr",
     "output_type": "stream",
     "text": [
      "rgb2gray: 100%|██████████| 50000/50000 [00:04<00:00, 12397.18it/s]\n"
     ]
    },
    {
     "name": "stdout",
     "output_type": "stream",
     "text": [
      "Got the result from ./20/train/filtrations/2/HeightFiltrartion_1_-1/gray/diagrams.npy\n",
      "Applying Scaler to persistence diagrams.\n",
      "Got the result from ./20/train/filtrations/2/HeightFiltrartion_1_-1/red/diagrams.npy\n",
      "Applying Scaler to persistence diagrams.\n",
      "Got the result from ./20/train/filtrations/2/HeightFiltrartion_1_-1/green/diagrams.npy\n",
      "Applying Scaler to persistence diagrams.\n",
      "Got the result from ./20/train/filtrations/2/HeightFiltrartion_1_-1/blue/diagrams.npy\n",
      "Applying Scaler to persistence diagrams.\n",
      "Applying filtration 4/72: 2/HeightFiltrartion_-1_1\n",
      "RGB images received. Transforming to grayscale.\n"
     ]
    },
    {
     "name": "stderr",
     "output_type": "stream",
     "text": [
      "rgb2gray: 100%|██████████| 50000/50000 [00:04<00:00, 12255.59it/s]\n"
     ]
    },
    {
     "name": "stdout",
     "output_type": "stream",
     "text": [
      "Got the result from ./20/train/filtrations/2/HeightFiltrartion_-1_1/gray/diagrams.npy\n",
      "Applying Scaler to persistence diagrams.\n",
      "Got the result from ./20/train/filtrations/2/HeightFiltrartion_-1_1/red/diagrams.npy\n",
      "Applying Scaler to persistence diagrams.\n",
      "Got the result from ./20/train/filtrations/2/HeightFiltrartion_-1_1/green/diagrams.npy\n",
      "Applying Scaler to persistence diagrams.\n",
      "Got the result from ./20/train/filtrations/2/HeightFiltrartion_-1_1/blue/diagrams.npy\n",
      "Applying Scaler to persistence diagrams.\n",
      "Applying filtration 5/72: 2/HeightFiltrartion_0_-1\n",
      "RGB images received. Transforming to grayscale.\n"
     ]
    },
    {
     "name": "stderr",
     "output_type": "stream",
     "text": [
      "rgb2gray: 100%|██████████| 50000/50000 [00:04<00:00, 12419.71it/s]\n"
     ]
    },
    {
     "name": "stdout",
     "output_type": "stream",
     "text": [
      "Got the result from ./20/train/filtrations/2/HeightFiltrartion_0_-1/gray/diagrams.npy\n",
      "Applying Scaler to persistence diagrams.\n",
      "Got the result from ./20/train/filtrations/2/HeightFiltrartion_0_-1/red/diagrams.npy\n",
      "Applying Scaler to persistence diagrams.\n",
      "Got the result from ./20/train/filtrations/2/HeightFiltrartion_0_-1/green/diagrams.npy\n",
      "Applying Scaler to persistence diagrams.\n",
      "Got the result from ./20/train/filtrations/2/HeightFiltrartion_0_-1/blue/diagrams.npy\n",
      "Applying Scaler to persistence diagrams.\n",
      "Applying filtration 6/72: 2/HeightFiltrartion_0_1\n",
      "RGB images received. Transforming to grayscale.\n"
     ]
    },
    {
     "name": "stderr",
     "output_type": "stream",
     "text": [
      "rgb2gray: 100%|██████████| 50000/50000 [00:04<00:00, 11981.51it/s]\n"
     ]
    },
    {
     "name": "stdout",
     "output_type": "stream",
     "text": [
      "Got the result from ./20/train/filtrations/2/HeightFiltrartion_0_1/gray/diagrams.npy\n",
      "Applying Scaler to persistence diagrams.\n",
      "Got the result from ./20/train/filtrations/2/HeightFiltrartion_0_1/red/diagrams.npy\n",
      "Applying Scaler to persistence diagrams.\n",
      "Got the result from ./20/train/filtrations/2/HeightFiltrartion_0_1/green/diagrams.npy\n",
      "Applying Scaler to persistence diagrams.\n",
      "Got the result from ./20/train/filtrations/2/HeightFiltrartion_0_1/blue/diagrams.npy\n",
      "Applying Scaler to persistence diagrams.\n",
      "Applying filtration 7/72: 2/HeightFiltrartion_-1_0\n",
      "RGB images received. Transforming to grayscale.\n"
     ]
    },
    {
     "name": "stderr",
     "output_type": "stream",
     "text": [
      "rgb2gray: 100%|██████████| 50000/50000 [00:04<00:00, 11999.14it/s]\n"
     ]
    },
    {
     "name": "stdout",
     "output_type": "stream",
     "text": [
      "Got the result from ./20/train/filtrations/2/HeightFiltrartion_-1_0/gray/diagrams.npy\n",
      "Applying Scaler to persistence diagrams.\n",
      "Got the result from ./20/train/filtrations/2/HeightFiltrartion_-1_0/red/diagrams.npy\n",
      "Applying Scaler to persistence diagrams.\n",
      "Got the result from ./20/train/filtrations/2/HeightFiltrartion_-1_0/green/diagrams.npy\n",
      "Applying Scaler to persistence diagrams.\n",
      "Got the result from ./20/train/filtrations/2/HeightFiltrartion_-1_0/blue/diagrams.npy\n",
      "Applying Scaler to persistence diagrams.\n",
      "Applying filtration 8/72: 2/HeightFiltrartion_1_0\n",
      "RGB images received. Transforming to grayscale.\n"
     ]
    },
    {
     "name": "stderr",
     "output_type": "stream",
     "text": [
      "rgb2gray: 100%|██████████| 50000/50000 [00:04<00:00, 11920.08it/s]\n"
     ]
    },
    {
     "name": "stdout",
     "output_type": "stream",
     "text": [
      "Got the result from ./20/train/filtrations/2/HeightFiltrartion_1_0/gray/diagrams.npy\n",
      "Applying Scaler to persistence diagrams.\n",
      "Got the result from ./20/train/filtrations/2/HeightFiltrartion_1_0/red/diagrams.npy\n",
      "Applying Scaler to persistence diagrams.\n",
      "Got the result from ./20/train/filtrations/2/HeightFiltrartion_1_0/green/diagrams.npy\n",
      "Applying Scaler to persistence diagrams.\n",
      "Got the result from ./20/train/filtrations/2/HeightFiltrartion_1_0/blue/diagrams.npy\n",
      "Applying Scaler to persistence diagrams.\n",
      "Applying filtration 9/72: 2/RadialFiltration_5_5\n",
      "RGB images received. Transforming to grayscale.\n"
     ]
    },
    {
     "name": "stderr",
     "output_type": "stream",
     "text": [
      "rgb2gray: 100%|██████████| 50000/50000 [00:04<00:00, 11643.09it/s]\n"
     ]
    },
    {
     "name": "stdout",
     "output_type": "stream",
     "text": [
      "Got the result from ./20/train/filtrations/2/RadialFiltration_5_5/gray/diagrams.npy\n",
      "Applying Scaler to persistence diagrams.\n",
      "Got the result from ./20/train/filtrations/2/RadialFiltration_5_5/red/diagrams.npy\n",
      "Applying Scaler to persistence diagrams.\n",
      "Got the result from ./20/train/filtrations/2/RadialFiltration_5_5/green/diagrams.npy\n",
      "Applying Scaler to persistence diagrams.\n",
      "Got the result from ./20/train/filtrations/2/RadialFiltration_5_5/blue/diagrams.npy\n",
      "Applying Scaler to persistence diagrams.\n",
      "Applying filtration 10/72: 2/RadialFiltration_5_12\n",
      "RGB images received. Transforming to grayscale.\n"
     ]
    },
    {
     "name": "stderr",
     "output_type": "stream",
     "text": [
      "rgb2gray: 100%|██████████| 50000/50000 [00:04<00:00, 11465.75it/s]\n"
     ]
    },
    {
     "name": "stdout",
     "output_type": "stream",
     "text": [
      "Got the result from ./20/train/filtrations/2/RadialFiltration_5_12/gray/diagrams.npy\n",
      "Applying Scaler to persistence diagrams.\n",
      "Got the result from ./20/train/filtrations/2/RadialFiltration_5_12/red/diagrams.npy\n",
      "Applying Scaler to persistence diagrams.\n",
      "Got the result from ./20/train/filtrations/2/RadialFiltration_5_12/green/diagrams.npy\n",
      "Applying Scaler to persistence diagrams.\n",
      "Got the result from ./20/train/filtrations/2/RadialFiltration_5_12/blue/diagrams.npy\n",
      "Applying Scaler to persistence diagrams.\n",
      "Applying filtration 11/72: 2/RadialFiltration_5_19\n",
      "RGB images received. Transforming to grayscale.\n"
     ]
    },
    {
     "name": "stderr",
     "output_type": "stream",
     "text": [
      "rgb2gray: 100%|██████████| 50000/50000 [00:04<00:00, 11187.50it/s]\n"
     ]
    },
    {
     "name": "stdout",
     "output_type": "stream",
     "text": [
      "Got the result from ./20/train/filtrations/2/RadialFiltration_5_19/gray/diagrams.npy\n",
      "Applying Scaler to persistence diagrams.\n",
      "Got the result from ./20/train/filtrations/2/RadialFiltration_5_19/red/diagrams.npy\n",
      "Applying Scaler to persistence diagrams.\n",
      "Got the result from ./20/train/filtrations/2/RadialFiltration_5_19/green/diagrams.npy\n",
      "Applying Scaler to persistence diagrams.\n",
      "Got the result from ./20/train/filtrations/2/RadialFiltration_5_19/blue/diagrams.npy\n",
      "Applying Scaler to persistence diagrams.\n",
      "Applying filtration 12/72: 2/RadialFiltration_5_26\n",
      "RGB images received. Transforming to grayscale.\n"
     ]
    },
    {
     "name": "stderr",
     "output_type": "stream",
     "text": [
      "rgb2gray: 100%|██████████| 50000/50000 [00:04<00:00, 11381.79it/s]\n"
     ]
    },
    {
     "name": "stdout",
     "output_type": "stream",
     "text": [
      "Got the result from ./20/train/filtrations/2/RadialFiltration_5_26/gray/diagrams.npy\n",
      "Applying Scaler to persistence diagrams.\n",
      "Got the result from ./20/train/filtrations/2/RadialFiltration_5_26/red/diagrams.npy\n",
      "Applying Scaler to persistence diagrams.\n",
      "Got the result from ./20/train/filtrations/2/RadialFiltration_5_26/green/diagrams.npy\n",
      "Applying Scaler to persistence diagrams.\n",
      "Got the result from ./20/train/filtrations/2/RadialFiltration_5_26/blue/diagrams.npy\n",
      "Applying Scaler to persistence diagrams.\n",
      "Applying filtration 13/72: 2/RadialFiltration_12_5\n",
      "RGB images received. Transforming to grayscale.\n"
     ]
    },
    {
     "name": "stderr",
     "output_type": "stream",
     "text": [
      "rgb2gray: 100%|██████████| 50000/50000 [00:04<00:00, 11146.35it/s]\n"
     ]
    },
    {
     "name": "stdout",
     "output_type": "stream",
     "text": [
      "Got the result from ./20/train/filtrations/2/RadialFiltration_12_5/gray/diagrams.npy\n",
      "Applying Scaler to persistence diagrams.\n",
      "Got the result from ./20/train/filtrations/2/RadialFiltration_12_5/red/diagrams.npy\n",
      "Applying Scaler to persistence diagrams.\n",
      "Got the result from ./20/train/filtrations/2/RadialFiltration_12_5/green/diagrams.npy\n",
      "Applying Scaler to persistence diagrams.\n",
      "Got the result from ./20/train/filtrations/2/RadialFiltration_12_5/blue/diagrams.npy\n",
      "Applying Scaler to persistence diagrams.\n",
      "Applying filtration 14/72: 2/RadialFiltration_12_12\n",
      "RGB images received. Transforming to grayscale.\n"
     ]
    },
    {
     "name": "stderr",
     "output_type": "stream",
     "text": [
      "rgb2gray: 100%|██████████| 50000/50000 [00:04<00:00, 10731.73it/s]\n"
     ]
    },
    {
     "name": "stdout",
     "output_type": "stream",
     "text": [
      "Got the result from ./20/train/filtrations/2/RadialFiltration_12_12/gray/diagrams.npy\n",
      "Applying Scaler to persistence diagrams.\n",
      "Got the result from ./20/train/filtrations/2/RadialFiltration_12_12/red/diagrams.npy\n",
      "Applying Scaler to persistence diagrams.\n",
      "Got the result from ./20/train/filtrations/2/RadialFiltration_12_12/green/diagrams.npy\n",
      "Applying Scaler to persistence diagrams.\n",
      "Got the result from ./20/train/filtrations/2/RadialFiltration_12_12/blue/diagrams.npy\n",
      "Applying Scaler to persistence diagrams.\n",
      "Applying filtration 15/72: 2/RadialFiltration_12_19\n",
      "RGB images received. Transforming to grayscale.\n"
     ]
    },
    {
     "name": "stderr",
     "output_type": "stream",
     "text": [
      "rgb2gray: 100%|██████████| 50000/50000 [00:04<00:00, 10679.70it/s]\n"
     ]
    },
    {
     "name": "stdout",
     "output_type": "stream",
     "text": [
      "Got the result from ./20/train/filtrations/2/RadialFiltration_12_19/gray/diagrams.npy\n",
      "Applying Scaler to persistence diagrams.\n",
      "Got the result from ./20/train/filtrations/2/RadialFiltration_12_19/red/diagrams.npy\n",
      "Applying Scaler to persistence diagrams.\n",
      "Got the result from ./20/train/filtrations/2/RadialFiltration_12_19/green/diagrams.npy\n",
      "Applying Scaler to persistence diagrams.\n",
      "Got the result from ./20/train/filtrations/2/RadialFiltration_12_19/blue/diagrams.npy\n",
      "Applying Scaler to persistence diagrams.\n",
      "Applying filtration 16/72: 2/RadialFiltration_12_26\n",
      "RGB images received. Transforming to grayscale.\n"
     ]
    },
    {
     "name": "stderr",
     "output_type": "stream",
     "text": [
      "rgb2gray: 100%|██████████| 50000/50000 [00:04<00:00, 10467.22it/s]\n"
     ]
    },
    {
     "name": "stdout",
     "output_type": "stream",
     "text": [
      "Got the result from ./20/train/filtrations/2/RadialFiltration_12_26/gray/diagrams.npy\n",
      "Applying Scaler to persistence diagrams.\n",
      "Got the result from ./20/train/filtrations/2/RadialFiltration_12_26/red/diagrams.npy\n",
      "Applying Scaler to persistence diagrams.\n",
      "Got the result from ./20/train/filtrations/2/RadialFiltration_12_26/green/diagrams.npy\n",
      "Applying Scaler to persistence diagrams.\n",
      "Got the result from ./20/train/filtrations/2/RadialFiltration_12_26/blue/diagrams.npy\n",
      "Applying Scaler to persistence diagrams.\n",
      "Applying filtration 17/72: 2/RadialFiltration_19_5\n",
      "RGB images received. Transforming to grayscale.\n"
     ]
    },
    {
     "name": "stderr",
     "output_type": "stream",
     "text": [
      "rgb2gray: 100%|██████████| 50000/50000 [00:04<00:00, 10712.20it/s]\n"
     ]
    },
    {
     "name": "stdout",
     "output_type": "stream",
     "text": [
      "Got the result from ./20/train/filtrations/2/RadialFiltration_19_5/gray/diagrams.npy\n",
      "Applying Scaler to persistence diagrams.\n",
      "Got the result from ./20/train/filtrations/2/RadialFiltration_19_5/red/diagrams.npy\n",
      "Applying Scaler to persistence diagrams.\n",
      "Got the result from ./20/train/filtrations/2/RadialFiltration_19_5/green/diagrams.npy\n",
      "Applying Scaler to persistence diagrams.\n",
      "Got the result from ./20/train/filtrations/2/RadialFiltration_19_5/blue/diagrams.npy\n",
      "Applying Scaler to persistence diagrams.\n",
      "Applying filtration 18/72: 2/RadialFiltration_19_12\n",
      "RGB images received. Transforming to grayscale.\n"
     ]
    },
    {
     "name": "stderr",
     "output_type": "stream",
     "text": [
      "rgb2gray: 100%|██████████| 50000/50000 [00:04<00:00, 10499.55it/s]\n"
     ]
    },
    {
     "name": "stdout",
     "output_type": "stream",
     "text": [
      "Got the result from ./20/train/filtrations/2/RadialFiltration_19_12/gray/diagrams.npy\n",
      "Applying Scaler to persistence diagrams.\n",
      "Got the result from ./20/train/filtrations/2/RadialFiltration_19_12/red/diagrams.npy\n",
      "Applying Scaler to persistence diagrams.\n",
      "Got the result from ./20/train/filtrations/2/RadialFiltration_19_12/green/diagrams.npy\n",
      "Applying Scaler to persistence diagrams.\n",
      "Got the result from ./20/train/filtrations/2/RadialFiltration_19_12/blue/diagrams.npy\n",
      "Applying Scaler to persistence diagrams.\n",
      "Applying filtration 19/72: 2/RadialFiltration_19_19\n",
      "RGB images received. Transforming to grayscale.\n"
     ]
    },
    {
     "name": "stderr",
     "output_type": "stream",
     "text": [
      "rgb2gray: 100%|██████████| 50000/50000 [00:05<00:00, 9711.88it/s] \n"
     ]
    },
    {
     "name": "stdout",
     "output_type": "stream",
     "text": [
      "Got the result from ./20/train/filtrations/2/RadialFiltration_19_19/gray/diagrams.npy\n",
      "Applying Scaler to persistence diagrams.\n",
      "Got the result from ./20/train/filtrations/2/RadialFiltration_19_19/red/diagrams.npy\n",
      "Applying Scaler to persistence diagrams.\n",
      "Got the result from ./20/train/filtrations/2/RadialFiltration_19_19/green/diagrams.npy\n",
      "Applying Scaler to persistence diagrams.\n",
      "Got the result from ./20/train/filtrations/2/RadialFiltration_19_19/blue/diagrams.npy\n",
      "Applying Scaler to persistence diagrams.\n",
      "Applying filtration 20/72: 2/RadialFiltration_19_26\n",
      "RGB images received. Transforming to grayscale.\n"
     ]
    },
    {
     "name": "stderr",
     "output_type": "stream",
     "text": [
      "rgb2gray: 100%|██████████| 50000/50000 [00:04<00:00, 10101.28it/s]\n"
     ]
    },
    {
     "name": "stdout",
     "output_type": "stream",
     "text": [
      "Got the result from ./20/train/filtrations/2/RadialFiltration_19_26/gray/diagrams.npy\n",
      "Applying Scaler to persistence diagrams.\n",
      "Got the result from ./20/train/filtrations/2/RadialFiltration_19_26/red/diagrams.npy\n",
      "Applying Scaler to persistence diagrams.\n",
      "Got the result from ./20/train/filtrations/2/RadialFiltration_19_26/green/diagrams.npy\n",
      "Applying Scaler to persistence diagrams.\n",
      "Got the result from ./20/train/filtrations/2/RadialFiltration_19_26/blue/diagrams.npy\n",
      "Applying Scaler to persistence diagrams.\n",
      "Applying filtration 21/72: 2/RadialFiltration_26_5\n",
      "RGB images received. Transforming to grayscale.\n"
     ]
    },
    {
     "name": "stderr",
     "output_type": "stream",
     "text": [
      "rgb2gray: 100%|██████████| 50000/50000 [00:05<00:00, 9081.96it/s] \n"
     ]
    },
    {
     "name": "stdout",
     "output_type": "stream",
     "text": [
      "Got the result from ./20/train/filtrations/2/RadialFiltration_26_5/gray/diagrams.npy\n",
      "Applying Scaler to persistence diagrams.\n",
      "Got the result from ./20/train/filtrations/2/RadialFiltration_26_5/red/diagrams.npy\n",
      "Applying Scaler to persistence diagrams.\n",
      "Got the result from ./20/train/filtrations/2/RadialFiltration_26_5/green/diagrams.npy\n",
      "Applying Scaler to persistence diagrams.\n",
      "Got the result from ./20/train/filtrations/2/RadialFiltration_26_5/blue/diagrams.npy\n",
      "Applying Scaler to persistence diagrams.\n",
      "Applying filtration 22/72: 2/RadialFiltration_26_12\n",
      "RGB images received. Transforming to grayscale.\n"
     ]
    },
    {
     "name": "stderr",
     "output_type": "stream",
     "text": [
      "rgb2gray: 100%|██████████| 50000/50000 [00:05<00:00, 9930.02it/s] \n"
     ]
    },
    {
     "name": "stdout",
     "output_type": "stream",
     "text": [
      "Got the result from ./20/train/filtrations/2/RadialFiltration_26_12/gray/diagrams.npy\n",
      "Applying Scaler to persistence diagrams.\n",
      "Got the result from ./20/train/filtrations/2/RadialFiltration_26_12/red/diagrams.npy\n",
      "Applying Scaler to persistence diagrams.\n",
      "Got the result from ./20/train/filtrations/2/RadialFiltration_26_12/green/diagrams.npy\n",
      "Applying Scaler to persistence diagrams.\n",
      "Got the result from ./20/train/filtrations/2/RadialFiltration_26_12/blue/diagrams.npy\n",
      "Applying Scaler to persistence diagrams.\n",
      "Applying filtration 23/72: 2/RadialFiltration_26_19\n",
      "RGB images received. Transforming to grayscale.\n"
     ]
    },
    {
     "name": "stderr",
     "output_type": "stream",
     "text": [
      "rgb2gray: 100%|██████████| 50000/50000 [00:05<00:00, 8924.52it/s] \n"
     ]
    },
    {
     "name": "stdout",
     "output_type": "stream",
     "text": [
      "Got the result from ./20/train/filtrations/2/RadialFiltration_26_19/gray/diagrams.npy\n",
      "Applying Scaler to persistence diagrams.\n",
      "Got the result from ./20/train/filtrations/2/RadialFiltration_26_19/red/diagrams.npy\n",
      "Applying Scaler to persistence diagrams.\n",
      "Got the result from ./20/train/filtrations/2/RadialFiltration_26_19/green/diagrams.npy\n",
      "Applying Scaler to persistence diagrams.\n",
      "Got the result from ./20/train/filtrations/2/RadialFiltration_26_19/blue/diagrams.npy\n",
      "Applying Scaler to persistence diagrams.\n",
      "Applying filtration 24/72: 2/RadialFiltration_26_26\n",
      "RGB images received. Transforming to grayscale.\n"
     ]
    },
    {
     "name": "stderr",
     "output_type": "stream",
     "text": [
      "rgb2gray: 100%|██████████| 50000/50000 [00:05<00:00, 9632.16it/s] \n"
     ]
    },
    {
     "name": "stdout",
     "output_type": "stream",
     "text": [
      "Got the result from ./20/train/filtrations/2/RadialFiltration_26_26/gray/diagrams.npy\n",
      "Applying Scaler to persistence diagrams.\n",
      "Got the result from ./20/train/filtrations/2/RadialFiltration_26_26/red/diagrams.npy\n",
      "Applying Scaler to persistence diagrams.\n",
      "Got the result from ./20/train/filtrations/2/RadialFiltration_26_26/green/diagrams.npy\n",
      "Applying Scaler to persistence diagrams.\n",
      "Got the result from ./20/train/filtrations/2/RadialFiltration_26_26/blue/diagrams.npy\n",
      "Applying Scaler to persistence diagrams.\n",
      "Applying filtration 25/72: 4/HeightFiltrartion_-1_-1\n",
      "RGB images received. Transforming to grayscale.\n"
     ]
    },
    {
     "name": "stderr",
     "output_type": "stream",
     "text": [
      "rgb2gray: 100%|██████████| 50000/50000 [00:05<00:00, 8992.97it/s] \n"
     ]
    },
    {
     "name": "stdout",
     "output_type": "stream",
     "text": [
      "Got the result from ./20/train/filtrations/4/HeightFiltrartion_-1_-1/gray/diagrams.npy\n",
      "Applying Scaler to persistence diagrams.\n",
      "Got the result from ./20/train/filtrations/4/HeightFiltrartion_-1_-1/red/diagrams.npy\n",
      "Applying Scaler to persistence diagrams.\n",
      "Got the result from ./20/train/filtrations/4/HeightFiltrartion_-1_-1/green/diagrams.npy\n",
      "Applying Scaler to persistence diagrams.\n",
      "Got the result from ./20/train/filtrations/4/HeightFiltrartion_-1_-1/blue/diagrams.npy\n",
      "Applying Scaler to persistence diagrams.\n",
      "Applying filtration 26/72: 4/HeightFiltrartion_1_1\n",
      "RGB images received. Transforming to grayscale.\n"
     ]
    },
    {
     "name": "stderr",
     "output_type": "stream",
     "text": [
      "rgb2gray: 100%|██████████| 50000/50000 [00:05<00:00, 9372.57it/s] \n"
     ]
    },
    {
     "name": "stdout",
     "output_type": "stream",
     "text": [
      "Got the result from ./20/train/filtrations/4/HeightFiltrartion_1_1/gray/diagrams.npy\n",
      "Applying Scaler to persistence diagrams.\n",
      "Got the result from ./20/train/filtrations/4/HeightFiltrartion_1_1/red/diagrams.npy\n",
      "Applying Scaler to persistence diagrams.\n",
      "Got the result from ./20/train/filtrations/4/HeightFiltrartion_1_1/green/diagrams.npy\n",
      "Applying Scaler to persistence diagrams.\n",
      "Got the result from ./20/train/filtrations/4/HeightFiltrartion_1_1/blue/diagrams.npy\n",
      "Applying Scaler to persistence diagrams.\n",
      "Applying filtration 27/72: 4/HeightFiltrartion_1_-1\n",
      "RGB images received. Transforming to grayscale.\n"
     ]
    },
    {
     "name": "stderr",
     "output_type": "stream",
     "text": [
      "rgb2gray: 100%|██████████| 50000/50000 [00:05<00:00, 9066.79it/s] \n"
     ]
    },
    {
     "name": "stdout",
     "output_type": "stream",
     "text": [
      "Got the result from ./20/train/filtrations/4/HeightFiltrartion_1_-1/gray/diagrams.npy\n",
      "Applying Scaler to persistence diagrams.\n",
      "Got the result from ./20/train/filtrations/4/HeightFiltrartion_1_-1/red/diagrams.npy\n",
      "Applying Scaler to persistence diagrams.\n",
      "Got the result from ./20/train/filtrations/4/HeightFiltrartion_1_-1/green/diagrams.npy\n",
      "Applying Scaler to persistence diagrams.\n",
      "Got the result from ./20/train/filtrations/4/HeightFiltrartion_1_-1/blue/diagrams.npy\n",
      "Applying Scaler to persistence diagrams.\n",
      "Applying filtration 28/72: 4/HeightFiltrartion_-1_1\n",
      "RGB images received. Transforming to grayscale.\n"
     ]
    },
    {
     "name": "stderr",
     "output_type": "stream",
     "text": [
      "rgb2gray: 100%|██████████| 50000/50000 [00:05<00:00, 9134.81it/s] \n"
     ]
    },
    {
     "name": "stdout",
     "output_type": "stream",
     "text": [
      "Got the result from ./20/train/filtrations/4/HeightFiltrartion_-1_1/gray/diagrams.npy\n",
      "Applying Scaler to persistence diagrams.\n",
      "Got the result from ./20/train/filtrations/4/HeightFiltrartion_-1_1/red/diagrams.npy\n",
      "Applying Scaler to persistence diagrams.\n",
      "Got the result from ./20/train/filtrations/4/HeightFiltrartion_-1_1/green/diagrams.npy\n",
      "Applying Scaler to persistence diagrams.\n",
      "Got the result from ./20/train/filtrations/4/HeightFiltrartion_-1_1/blue/diagrams.npy\n",
      "Applying Scaler to persistence diagrams.\n",
      "Applying filtration 29/72: 4/HeightFiltrartion_0_-1\n",
      "RGB images received. Transforming to grayscale.\n"
     ]
    },
    {
     "name": "stderr",
     "output_type": "stream",
     "text": [
      "rgb2gray: 100%|██████████| 50000/50000 [00:05<00:00, 8703.53it/s]\n"
     ]
    },
    {
     "name": "stdout",
     "output_type": "stream",
     "text": [
      "Got the result from ./20/train/filtrations/4/HeightFiltrartion_0_-1/gray/diagrams.npy\n",
      "Applying Scaler to persistence diagrams.\n",
      "Got the result from ./20/train/filtrations/4/HeightFiltrartion_0_-1/red/diagrams.npy\n",
      "Applying Scaler to persistence diagrams.\n",
      "Got the result from ./20/train/filtrations/4/HeightFiltrartion_0_-1/green/diagrams.npy\n",
      "Applying Scaler to persistence diagrams.\n",
      "Got the result from ./20/train/filtrations/4/HeightFiltrartion_0_-1/blue/diagrams.npy\n",
      "Applying Scaler to persistence diagrams.\n",
      "Applying filtration 30/72: 4/HeightFiltrartion_0_1\n",
      "RGB images received. Transforming to grayscale.\n"
     ]
    },
    {
     "name": "stderr",
     "output_type": "stream",
     "text": [
      "rgb2gray: 100%|██████████| 50000/50000 [00:05<00:00, 8546.54it/s] \n"
     ]
    },
    {
     "name": "stdout",
     "output_type": "stream",
     "text": [
      "Got the result from ./20/train/filtrations/4/HeightFiltrartion_0_1/gray/diagrams.npy\n",
      "Applying Scaler to persistence diagrams.\n",
      "Got the result from ./20/train/filtrations/4/HeightFiltrartion_0_1/red/diagrams.npy\n",
      "Applying Scaler to persistence diagrams.\n",
      "Got the result from ./20/train/filtrations/4/HeightFiltrartion_0_1/green/diagrams.npy\n",
      "Applying Scaler to persistence diagrams.\n",
      "Got the result from ./20/train/filtrations/4/HeightFiltrartion_0_1/blue/diagrams.npy\n",
      "Applying Scaler to persistence diagrams.\n",
      "Applying filtration 31/72: 4/HeightFiltrartion_-1_0\n",
      "RGB images received. Transforming to grayscale.\n"
     ]
    },
    {
     "name": "stderr",
     "output_type": "stream",
     "text": [
      "rgb2gray: 100%|██████████| 50000/50000 [00:05<00:00, 8706.74it/s]\n"
     ]
    },
    {
     "name": "stdout",
     "output_type": "stream",
     "text": [
      "Got the result from ./20/train/filtrations/4/HeightFiltrartion_-1_0/gray/diagrams.npy\n",
      "Applying Scaler to persistence diagrams.\n",
      "Got the result from ./20/train/filtrations/4/HeightFiltrartion_-1_0/red/diagrams.npy\n",
      "Applying Scaler to persistence diagrams.\n",
      "Got the result from ./20/train/filtrations/4/HeightFiltrartion_-1_0/green/diagrams.npy\n",
      "Applying Scaler to persistence diagrams.\n",
      "Got the result from ./20/train/filtrations/4/HeightFiltrartion_-1_0/blue/diagrams.npy\n",
      "Applying Scaler to persistence diagrams.\n",
      "Applying filtration 32/72: 4/HeightFiltrartion_1_0\n",
      "RGB images received. Transforming to grayscale.\n"
     ]
    },
    {
     "name": "stderr",
     "output_type": "stream",
     "text": [
      "rgb2gray: 100%|██████████| 50000/50000 [00:05<00:00, 8744.36it/s] \n"
     ]
    },
    {
     "name": "stdout",
     "output_type": "stream",
     "text": [
      "Got the result from ./20/train/filtrations/4/HeightFiltrartion_1_0/gray/diagrams.npy\n",
      "Applying Scaler to persistence diagrams.\n",
      "Got the result from ./20/train/filtrations/4/HeightFiltrartion_1_0/red/diagrams.npy\n",
      "Applying Scaler to persistence diagrams.\n",
      "Got the result from ./20/train/filtrations/4/HeightFiltrartion_1_0/green/diagrams.npy\n",
      "Applying Scaler to persistence diagrams.\n",
      "Got the result from ./20/train/filtrations/4/HeightFiltrartion_1_0/blue/diagrams.npy\n",
      "Applying Scaler to persistence diagrams.\n",
      "Applying filtration 33/72: 4/RadialFiltration_5_5\n",
      "RGB images received. Transforming to grayscale.\n"
     ]
    },
    {
     "name": "stderr",
     "output_type": "stream",
     "text": [
      "rgb2gray: 100%|██████████| 50000/50000 [00:05<00:00, 8501.61it/s]\n"
     ]
    },
    {
     "name": "stdout",
     "output_type": "stream",
     "text": [
      "Got the result from ./20/train/filtrations/4/RadialFiltration_5_5/gray/diagrams.npy\n",
      "Applying Scaler to persistence diagrams.\n",
      "Got the result from ./20/train/filtrations/4/RadialFiltration_5_5/red/diagrams.npy\n",
      "Applying Scaler to persistence diagrams.\n",
      "Got the result from ./20/train/filtrations/4/RadialFiltration_5_5/green/diagrams.npy\n",
      "Applying Scaler to persistence diagrams.\n",
      "Got the result from ./20/train/filtrations/4/RadialFiltration_5_5/blue/diagrams.npy\n",
      "Applying Scaler to persistence diagrams.\n",
      "Applying filtration 34/72: 4/RadialFiltration_5_12\n",
      "RGB images received. Transforming to grayscale.\n"
     ]
    },
    {
     "name": "stderr",
     "output_type": "stream",
     "text": [
      "rgb2gray: 100%|██████████| 50000/50000 [00:05<00:00, 8453.52it/s]\n"
     ]
    },
    {
     "name": "stdout",
     "output_type": "stream",
     "text": [
      "Got the result from ./20/train/filtrations/4/RadialFiltration_5_12/gray/diagrams.npy\n",
      "Applying Scaler to persistence diagrams.\n",
      "Got the result from ./20/train/filtrations/4/RadialFiltration_5_12/red/diagrams.npy\n",
      "Applying Scaler to persistence diagrams.\n",
      "Got the result from ./20/train/filtrations/4/RadialFiltration_5_12/green/diagrams.npy\n",
      "Applying Scaler to persistence diagrams.\n",
      "Got the result from ./20/train/filtrations/4/RadialFiltration_5_12/blue/diagrams.npy\n",
      "Applying Scaler to persistence diagrams.\n",
      "Applying filtration 35/72: 4/RadialFiltration_5_19\n",
      "RGB images received. Transforming to grayscale.\n"
     ]
    },
    {
     "name": "stderr",
     "output_type": "stream",
     "text": [
      "rgb2gray: 100%|██████████| 50000/50000 [00:06<00:00, 7802.79it/s]\n"
     ]
    },
    {
     "name": "stdout",
     "output_type": "stream",
     "text": [
      "Got the result from ./20/train/filtrations/4/RadialFiltration_5_19/gray/diagrams.npy\n",
      "Applying Scaler to persistence diagrams.\n",
      "Got the result from ./20/train/filtrations/4/RadialFiltration_5_19/red/diagrams.npy\n",
      "Applying Scaler to persistence diagrams.\n",
      "Got the result from ./20/train/filtrations/4/RadialFiltration_5_19/green/diagrams.npy\n",
      "Applying Scaler to persistence diagrams.\n",
      "Got the result from ./20/train/filtrations/4/RadialFiltration_5_19/blue/diagrams.npy\n",
      "Applying Scaler to persistence diagrams.\n",
      "Applying filtration 36/72: 4/RadialFiltration_5_26\n",
      "RGB images received. Transforming to grayscale.\n"
     ]
    },
    {
     "name": "stderr",
     "output_type": "stream",
     "text": [
      "rgb2gray: 100%|██████████| 50000/50000 [00:06<00:00, 8057.91it/s]\n"
     ]
    },
    {
     "name": "stdout",
     "output_type": "stream",
     "text": [
      "Got the result from ./20/train/filtrations/4/RadialFiltration_5_26/gray/diagrams.npy\n",
      "Applying Scaler to persistence diagrams.\n",
      "Got the result from ./20/train/filtrations/4/RadialFiltration_5_26/red/diagrams.npy\n",
      "Applying Scaler to persistence diagrams.\n",
      "Got the result from ./20/train/filtrations/4/RadialFiltration_5_26/green/diagrams.npy\n",
      "Applying Scaler to persistence diagrams.\n",
      "Got the result from ./20/train/filtrations/4/RadialFiltration_5_26/blue/diagrams.npy\n",
      "Applying Scaler to persistence diagrams.\n",
      "Applying filtration 37/72: 4/RadialFiltration_12_5\n",
      "RGB images received. Transforming to grayscale.\n"
     ]
    },
    {
     "name": "stderr",
     "output_type": "stream",
     "text": [
      "rgb2gray: 100%|██████████| 50000/50000 [00:06<00:00, 8261.91it/s]\n"
     ]
    },
    {
     "name": "stdout",
     "output_type": "stream",
     "text": [
      "Got the result from ./20/train/filtrations/4/RadialFiltration_12_5/gray/diagrams.npy\n",
      "Applying Scaler to persistence diagrams.\n",
      "Got the result from ./20/train/filtrations/4/RadialFiltration_12_5/red/diagrams.npy\n",
      "Applying Scaler to persistence diagrams.\n",
      "Got the result from ./20/train/filtrations/4/RadialFiltration_12_5/green/diagrams.npy\n",
      "Applying Scaler to persistence diagrams.\n",
      "Got the result from ./20/train/filtrations/4/RadialFiltration_12_5/blue/diagrams.npy\n",
      "Applying Scaler to persistence diagrams.\n",
      "Applying filtration 38/72: 4/RadialFiltration_12_12\n",
      "RGB images received. Transforming to grayscale.\n"
     ]
    },
    {
     "name": "stderr",
     "output_type": "stream",
     "text": [
      "rgb2gray: 100%|██████████| 50000/50000 [00:06<00:00, 7578.94it/s]\n"
     ]
    },
    {
     "name": "stdout",
     "output_type": "stream",
     "text": [
      "Got the result from ./20/train/filtrations/4/RadialFiltration_12_12/gray/diagrams.npy\n",
      "Applying Scaler to persistence diagrams.\n",
      "Got the result from ./20/train/filtrations/4/RadialFiltration_12_12/red/diagrams.npy\n",
      "Applying Scaler to persistence diagrams.\n",
      "Got the result from ./20/train/filtrations/4/RadialFiltration_12_12/green/diagrams.npy\n",
      "Applying Scaler to persistence diagrams.\n",
      "Got the result from ./20/train/filtrations/4/RadialFiltration_12_12/blue/diagrams.npy\n",
      "Applying Scaler to persistence diagrams.\n",
      "Applying filtration 39/72: 4/RadialFiltration_12_19\n",
      "RGB images received. Transforming to grayscale.\n"
     ]
    },
    {
     "name": "stderr",
     "output_type": "stream",
     "text": [
      "rgb2gray: 100%|██████████| 50000/50000 [00:06<00:00, 8089.15it/s]\n"
     ]
    },
    {
     "name": "stdout",
     "output_type": "stream",
     "text": [
      "Got the result from ./20/train/filtrations/4/RadialFiltration_12_19/gray/diagrams.npy\n",
      "Applying Scaler to persistence diagrams.\n",
      "Got the result from ./20/train/filtrations/4/RadialFiltration_12_19/red/diagrams.npy\n",
      "Applying Scaler to persistence diagrams.\n",
      "Got the result from ./20/train/filtrations/4/RadialFiltration_12_19/green/diagrams.npy\n",
      "Applying Scaler to persistence diagrams.\n",
      "Got the result from ./20/train/filtrations/4/RadialFiltration_12_19/blue/diagrams.npy\n",
      "Applying Scaler to persistence diagrams.\n",
      "Applying filtration 40/72: 4/RadialFiltration_12_26\n",
      "RGB images received. Transforming to grayscale.\n"
     ]
    },
    {
     "name": "stderr",
     "output_type": "stream",
     "text": [
      "rgb2gray: 100%|██████████| 50000/50000 [00:06<00:00, 7920.14it/s]\n"
     ]
    },
    {
     "name": "stdout",
     "output_type": "stream",
     "text": [
      "Got the result from ./20/train/filtrations/4/RadialFiltration_12_26/gray/diagrams.npy\n",
      "Applying Scaler to persistence diagrams.\n",
      "Got the result from ./20/train/filtrations/4/RadialFiltration_12_26/red/diagrams.npy\n",
      "Applying Scaler to persistence diagrams.\n",
      "Got the result from ./20/train/filtrations/4/RadialFiltration_12_26/green/diagrams.npy\n",
      "Applying Scaler to persistence diagrams.\n",
      "Got the result from ./20/train/filtrations/4/RadialFiltration_12_26/blue/diagrams.npy\n",
      "Applying Scaler to persistence diagrams.\n",
      "Applying filtration 41/72: 4/RadialFiltration_19_5\n",
      "RGB images received. Transforming to grayscale.\n"
     ]
    },
    {
     "name": "stderr",
     "output_type": "stream",
     "text": [
      "rgb2gray: 100%|██████████| 50000/50000 [00:06<00:00, 7294.92it/s]\n"
     ]
    },
    {
     "name": "stdout",
     "output_type": "stream",
     "text": [
      "Got the result from ./20/train/filtrations/4/RadialFiltration_19_5/gray/diagrams.npy\n",
      "Applying Scaler to persistence diagrams.\n",
      "Got the result from ./20/train/filtrations/4/RadialFiltration_19_5/red/diagrams.npy\n",
      "Applying Scaler to persistence diagrams.\n",
      "Got the result from ./20/train/filtrations/4/RadialFiltration_19_5/green/diagrams.npy\n",
      "Applying Scaler to persistence diagrams.\n",
      "Got the result from ./20/train/filtrations/4/RadialFiltration_19_5/blue/diagrams.npy\n",
      "Applying Scaler to persistence diagrams.\n",
      "Applying filtration 42/72: 4/RadialFiltration_19_12\n",
      "RGB images received. Transforming to grayscale.\n"
     ]
    },
    {
     "name": "stderr",
     "output_type": "stream",
     "text": [
      "rgb2gray: 100%|██████████| 50000/50000 [00:06<00:00, 7317.84it/s]\n"
     ]
    },
    {
     "name": "stdout",
     "output_type": "stream",
     "text": [
      "Got the result from ./20/train/filtrations/4/RadialFiltration_19_12/gray/diagrams.npy\n",
      "Applying Scaler to persistence diagrams.\n",
      "Got the result from ./20/train/filtrations/4/RadialFiltration_19_12/red/diagrams.npy\n",
      "Applying Scaler to persistence diagrams.\n",
      "Got the result from ./20/train/filtrations/4/RadialFiltration_19_12/green/diagrams.npy\n",
      "Applying Scaler to persistence diagrams.\n",
      "Got the result from ./20/train/filtrations/4/RadialFiltration_19_12/blue/diagrams.npy\n",
      "Applying Scaler to persistence diagrams.\n",
      "Applying filtration 43/72: 4/RadialFiltration_19_19\n",
      "RGB images received. Transforming to grayscale.\n"
     ]
    },
    {
     "name": "stderr",
     "output_type": "stream",
     "text": [
      "rgb2gray: 100%|██████████| 50000/50000 [00:07<00:00, 7041.73it/s]\n"
     ]
    },
    {
     "name": "stdout",
     "output_type": "stream",
     "text": [
      "Got the result from ./20/train/filtrations/4/RadialFiltration_19_19/gray/diagrams.npy\n",
      "Applying Scaler to persistence diagrams.\n",
      "Got the result from ./20/train/filtrations/4/RadialFiltration_19_19/red/diagrams.npy\n",
      "Applying Scaler to persistence diagrams.\n",
      "Got the result from ./20/train/filtrations/4/RadialFiltration_19_19/green/diagrams.npy\n",
      "Applying Scaler to persistence diagrams.\n",
      "Got the result from ./20/train/filtrations/4/RadialFiltration_19_19/blue/diagrams.npy\n",
      "Applying Scaler to persistence diagrams.\n",
      "Applying filtration 44/72: 4/RadialFiltration_19_26\n",
      "RGB images received. Transforming to grayscale.\n"
     ]
    },
    {
     "name": "stderr",
     "output_type": "stream",
     "text": [
      "rgb2gray: 100%|██████████| 50000/50000 [00:07<00:00, 7048.92it/s]\n"
     ]
    },
    {
     "name": "stdout",
     "output_type": "stream",
     "text": [
      "Got the result from ./20/train/filtrations/4/RadialFiltration_19_26/gray/diagrams.npy\n",
      "Applying Scaler to persistence diagrams.\n",
      "Got the result from ./20/train/filtrations/4/RadialFiltration_19_26/red/diagrams.npy\n",
      "Applying Scaler to persistence diagrams.\n",
      "Got the result from ./20/train/filtrations/4/RadialFiltration_19_26/green/diagrams.npy\n",
      "Applying Scaler to persistence diagrams.\n",
      "Got the result from ./20/train/filtrations/4/RadialFiltration_19_26/blue/diagrams.npy\n",
      "Applying Scaler to persistence diagrams.\n",
      "Applying filtration 45/72: 4/RadialFiltration_26_5\n",
      "RGB images received. Transforming to grayscale.\n"
     ]
    },
    {
     "name": "stderr",
     "output_type": "stream",
     "text": [
      "rgb2gray: 100%|██████████| 50000/50000 [00:07<00:00, 6948.87it/s]\n"
     ]
    },
    {
     "name": "stdout",
     "output_type": "stream",
     "text": [
      "Got the result from ./20/train/filtrations/4/RadialFiltration_26_5/gray/diagrams.npy\n",
      "Applying Scaler to persistence diagrams.\n",
      "Got the result from ./20/train/filtrations/4/RadialFiltration_26_5/red/diagrams.npy\n",
      "Applying Scaler to persistence diagrams.\n",
      "Got the result from ./20/train/filtrations/4/RadialFiltration_26_5/green/diagrams.npy\n",
      "Applying Scaler to persistence diagrams.\n",
      "Got the result from ./20/train/filtrations/4/RadialFiltration_26_5/blue/diagrams.npy\n",
      "Applying Scaler to persistence diagrams.\n",
      "Applying filtration 46/72: 4/RadialFiltration_26_12\n",
      "RGB images received. Transforming to grayscale.\n"
     ]
    },
    {
     "name": "stderr",
     "output_type": "stream",
     "text": [
      "rgb2gray: 100%|██████████| 50000/50000 [00:07<00:00, 6928.77it/s]\n"
     ]
    },
    {
     "name": "stdout",
     "output_type": "stream",
     "text": [
      "Got the result from ./20/train/filtrations/4/RadialFiltration_26_12/gray/diagrams.npy\n",
      "Applying Scaler to persistence diagrams.\n",
      "Got the result from ./20/train/filtrations/4/RadialFiltration_26_12/red/diagrams.npy\n",
      "Applying Scaler to persistence diagrams.\n",
      "Got the result from ./20/train/filtrations/4/RadialFiltration_26_12/green/diagrams.npy\n",
      "Applying Scaler to persistence diagrams.\n",
      "Got the result from ./20/train/filtrations/4/RadialFiltration_26_12/blue/diagrams.npy\n",
      "Applying Scaler to persistence diagrams.\n",
      "Applying filtration 47/72: 4/RadialFiltration_26_19\n",
      "RGB images received. Transforming to grayscale.\n"
     ]
    },
    {
     "name": "stderr",
     "output_type": "stream",
     "text": [
      "rgb2gray: 100%|██████████| 50000/50000 [00:07<00:00, 6808.23it/s]\n"
     ]
    },
    {
     "name": "stdout",
     "output_type": "stream",
     "text": [
      "Got the result from ./20/train/filtrations/4/RadialFiltration_26_19/gray/diagrams.npy\n",
      "Applying Scaler to persistence diagrams.\n",
      "Got the result from ./20/train/filtrations/4/RadialFiltration_26_19/red/diagrams.npy\n",
      "Applying Scaler to persistence diagrams.\n",
      "Got the result from ./20/train/filtrations/4/RadialFiltration_26_19/green/diagrams.npy\n",
      "Applying Scaler to persistence diagrams.\n",
      "Got the result from ./20/train/filtrations/4/RadialFiltration_26_19/blue/diagrams.npy\n",
      "Applying Scaler to persistence diagrams.\n",
      "Applying filtration 48/72: 4/RadialFiltration_26_26\n",
      "RGB images received. Transforming to grayscale.\n"
     ]
    },
    {
     "name": "stderr",
     "output_type": "stream",
     "text": [
      "rgb2gray: 100%|██████████| 50000/50000 [00:07<00:00, 6533.71it/s]\n"
     ]
    },
    {
     "name": "stdout",
     "output_type": "stream",
     "text": [
      "Got the result from ./20/train/filtrations/4/RadialFiltration_26_26/gray/diagrams.npy\n",
      "Applying Scaler to persistence diagrams.\n",
      "Got the result from ./20/train/filtrations/4/RadialFiltration_26_26/red/diagrams.npy\n",
      "Applying Scaler to persistence diagrams.\n",
      "Got the result from ./20/train/filtrations/4/RadialFiltration_26_26/green/diagrams.npy\n",
      "Applying Scaler to persistence diagrams.\n",
      "Got the result from ./20/train/filtrations/4/RadialFiltration_26_26/blue/diagrams.npy\n",
      "Applying Scaler to persistence diagrams.\n",
      "Applying filtration 49/72: 6/HeightFiltrartion_-1_-1\n",
      "RGB images received. Transforming to grayscale.\n"
     ]
    },
    {
     "name": "stderr",
     "output_type": "stream",
     "text": [
      "rgb2gray: 100%|██████████| 50000/50000 [00:07<00:00, 6921.20it/s]\n"
     ]
    },
    {
     "name": "stdout",
     "output_type": "stream",
     "text": [
      "Got the result from ./20/train/filtrations/6/HeightFiltrartion_-1_-1/gray/diagrams.npy\n",
      "Applying Scaler to persistence diagrams.\n",
      "Got the result from ./20/train/filtrations/6/HeightFiltrartion_-1_-1/red/diagrams.npy\n",
      "Applying Scaler to persistence diagrams.\n",
      "Got the result from ./20/train/filtrations/6/HeightFiltrartion_-1_-1/green/diagrams.npy\n",
      "Applying Scaler to persistence diagrams.\n",
      "Got the result from ./20/train/filtrations/6/HeightFiltrartion_-1_-1/blue/diagrams.npy\n",
      "Applying Scaler to persistence diagrams.\n",
      "Applying filtration 50/72: 6/HeightFiltrartion_1_1\n",
      "RGB images received. Transforming to grayscale.\n"
     ]
    },
    {
     "name": "stderr",
     "output_type": "stream",
     "text": [
      "rgb2gray: 100%|██████████| 50000/50000 [00:07<00:00, 6397.69it/s]\n"
     ]
    },
    {
     "name": "stdout",
     "output_type": "stream",
     "text": [
      "Got the result from ./20/train/filtrations/6/HeightFiltrartion_1_1/gray/diagrams.npy\n",
      "Applying Scaler to persistence diagrams.\n",
      "Got the result from ./20/train/filtrations/6/HeightFiltrartion_1_1/red/diagrams.npy\n",
      "Applying Scaler to persistence diagrams.\n",
      "Got the result from ./20/train/filtrations/6/HeightFiltrartion_1_1/green/diagrams.npy\n",
      "Applying Scaler to persistence diagrams.\n",
      "Got the result from ./20/train/filtrations/6/HeightFiltrartion_1_1/blue/diagrams.npy\n",
      "Applying Scaler to persistence diagrams.\n",
      "Applying filtration 51/72: 6/HeightFiltrartion_1_-1\n",
      "RGB images received. Transforming to grayscale.\n"
     ]
    },
    {
     "name": "stderr",
     "output_type": "stream",
     "text": [
      "rgb2gray: 100%|██████████| 50000/50000 [00:07<00:00, 6339.09it/s]\n"
     ]
    },
    {
     "name": "stdout",
     "output_type": "stream",
     "text": [
      "Got the result from ./20/train/filtrations/6/HeightFiltrartion_1_-1/gray/diagrams.npy\n",
      "Applying Scaler to persistence diagrams.\n",
      "Got the result from ./20/train/filtrations/6/HeightFiltrartion_1_-1/red/diagrams.npy\n",
      "Applying Scaler to persistence diagrams.\n",
      "Got the result from ./20/train/filtrations/6/HeightFiltrartion_1_-1/green/diagrams.npy\n",
      "Applying Scaler to persistence diagrams.\n",
      "Got the result from ./20/train/filtrations/6/HeightFiltrartion_1_-1/blue/diagrams.npy\n",
      "Applying Scaler to persistence diagrams.\n",
      "Applying filtration 52/72: 6/HeightFiltrartion_-1_1\n",
      "RGB images received. Transforming to grayscale.\n"
     ]
    },
    {
     "name": "stderr",
     "output_type": "stream",
     "text": [
      "rgb2gray: 100%|██████████| 50000/50000 [00:08<00:00, 6201.02it/s]\n"
     ]
    },
    {
     "name": "stdout",
     "output_type": "stream",
     "text": [
      "Got the result from ./20/train/filtrations/6/HeightFiltrartion_-1_1/gray/diagrams.npy\n",
      "Applying Scaler to persistence diagrams.\n",
      "Got the result from ./20/train/filtrations/6/HeightFiltrartion_-1_1/red/diagrams.npy\n",
      "Applying Scaler to persistence diagrams.\n",
      "Got the result from ./20/train/filtrations/6/HeightFiltrartion_-1_1/green/diagrams.npy\n",
      "Applying Scaler to persistence diagrams.\n",
      "Got the result from ./20/train/filtrations/6/HeightFiltrartion_-1_1/blue/diagrams.npy\n",
      "Applying Scaler to persistence diagrams.\n",
      "Applying filtration 53/72: 6/HeightFiltrartion_0_-1\n",
      "RGB images received. Transforming to grayscale.\n"
     ]
    },
    {
     "name": "stderr",
     "output_type": "stream",
     "text": [
      "rgb2gray: 100%|██████████| 50000/50000 [00:08<00:00, 6240.77it/s]\n"
     ]
    },
    {
     "name": "stdout",
     "output_type": "stream",
     "text": [
      "Got the result from ./20/train/filtrations/6/HeightFiltrartion_0_-1/gray/diagrams.npy\n",
      "Applying Scaler to persistence diagrams.\n",
      "Got the result from ./20/train/filtrations/6/HeightFiltrartion_0_-1/red/diagrams.npy\n",
      "Applying Scaler to persistence diagrams.\n",
      "Got the result from ./20/train/filtrations/6/HeightFiltrartion_0_-1/green/diagrams.npy\n",
      "Applying Scaler to persistence diagrams.\n",
      "Got the result from ./20/train/filtrations/6/HeightFiltrartion_0_-1/blue/diagrams.npy\n",
      "Applying Scaler to persistence diagrams.\n",
      "Applying filtration 54/72: 6/HeightFiltrartion_0_1\n",
      "RGB images received. Transforming to grayscale.\n"
     ]
    },
    {
     "name": "stderr",
     "output_type": "stream",
     "text": [
      "rgb2gray: 100%|██████████| 50000/50000 [00:08<00:00, 6131.20it/s]\n"
     ]
    },
    {
     "name": "stdout",
     "output_type": "stream",
     "text": [
      "Got the result from ./20/train/filtrations/6/HeightFiltrartion_0_1/gray/diagrams.npy\n",
      "Applying Scaler to persistence diagrams.\n",
      "Got the result from ./20/train/filtrations/6/HeightFiltrartion_0_1/red/diagrams.npy\n",
      "Applying Scaler to persistence diagrams.\n",
      "Got the result from ./20/train/filtrations/6/HeightFiltrartion_0_1/green/diagrams.npy\n",
      "Applying Scaler to persistence diagrams.\n",
      "Got the result from ./20/train/filtrations/6/HeightFiltrartion_0_1/blue/diagrams.npy\n",
      "Applying Scaler to persistence diagrams.\n",
      "Applying filtration 55/72: 6/HeightFiltrartion_-1_0\n",
      "RGB images received. Transforming to grayscale.\n"
     ]
    },
    {
     "name": "stderr",
     "output_type": "stream",
     "text": [
      "rgb2gray: 100%|██████████| 50000/50000 [00:08<00:00, 5895.59it/s]\n"
     ]
    },
    {
     "name": "stdout",
     "output_type": "stream",
     "text": [
      "Got the result from ./20/train/filtrations/6/HeightFiltrartion_-1_0/gray/diagrams.npy\n",
      "Applying Scaler to persistence diagrams.\n",
      "Got the result from ./20/train/filtrations/6/HeightFiltrartion_-1_0/red/diagrams.npy\n",
      "Applying Scaler to persistence diagrams.\n",
      "Got the result from ./20/train/filtrations/6/HeightFiltrartion_-1_0/green/diagrams.npy\n",
      "Applying Scaler to persistence diagrams.\n",
      "Got the result from ./20/train/filtrations/6/HeightFiltrartion_-1_0/blue/diagrams.npy\n",
      "Applying Scaler to persistence diagrams.\n",
      "Applying filtration 56/72: 6/HeightFiltrartion_1_0\n",
      "RGB images received. Transforming to grayscale.\n"
     ]
    },
    {
     "name": "stderr",
     "output_type": "stream",
     "text": [
      "rgb2gray: 100%|██████████| 50000/50000 [00:08<00:00, 5941.65it/s]\n"
     ]
    },
    {
     "name": "stdout",
     "output_type": "stream",
     "text": [
      "Got the result from ./20/train/filtrations/6/HeightFiltrartion_1_0/gray/diagrams.npy\n",
      "Applying Scaler to persistence diagrams.\n",
      "Got the result from ./20/train/filtrations/6/HeightFiltrartion_1_0/red/diagrams.npy\n",
      "Applying Scaler to persistence diagrams.\n",
      "Got the result from ./20/train/filtrations/6/HeightFiltrartion_1_0/green/diagrams.npy\n",
      "Applying Scaler to persistence diagrams.\n",
      "Got the result from ./20/train/filtrations/6/HeightFiltrartion_1_0/blue/diagrams.npy\n",
      "Applying Scaler to persistence diagrams.\n",
      "Applying filtration 57/72: 6/RadialFiltration_5_5\n",
      "RGB images received. Transforming to grayscale.\n"
     ]
    },
    {
     "name": "stderr",
     "output_type": "stream",
     "text": [
      "rgb2gray: 100%|██████████| 50000/50000 [00:08<00:00, 5609.35it/s]\n"
     ]
    },
    {
     "name": "stdout",
     "output_type": "stream",
     "text": [
      "Got the result from ./20/train/filtrations/6/RadialFiltration_5_5/gray/diagrams.npy\n",
      "Applying Scaler to persistence diagrams.\n",
      "Got the result from ./20/train/filtrations/6/RadialFiltration_5_5/red/diagrams.npy\n",
      "Applying Scaler to persistence diagrams.\n",
      "Got the result from ./20/train/filtrations/6/RadialFiltration_5_5/green/diagrams.npy\n",
      "Applying Scaler to persistence diagrams.\n",
      "Got the result from ./20/train/filtrations/6/RadialFiltration_5_5/blue/diagrams.npy\n",
      "Applying Scaler to persistence diagrams.\n",
      "Applying filtration 58/72: 6/RadialFiltration_5_12\n",
      "RGB images received. Transforming to grayscale.\n"
     ]
    },
    {
     "name": "stderr",
     "output_type": "stream",
     "text": [
      "rgb2gray: 100%|██████████| 50000/50000 [00:08<00:00, 5800.64it/s]\n"
     ]
    },
    {
     "name": "stdout",
     "output_type": "stream",
     "text": [
      "Got the result from ./20/train/filtrations/6/RadialFiltration_5_12/gray/diagrams.npy\n",
      "Applying Scaler to persistence diagrams.\n",
      "Got the result from ./20/train/filtrations/6/RadialFiltration_5_12/red/diagrams.npy\n",
      "Applying Scaler to persistence diagrams.\n",
      "Got the result from ./20/train/filtrations/6/RadialFiltration_5_12/green/diagrams.npy\n",
      "Applying Scaler to persistence diagrams.\n",
      "Got the result from ./20/train/filtrations/6/RadialFiltration_5_12/blue/diagrams.npy\n",
      "Applying Scaler to persistence diagrams.\n",
      "Applying filtration 59/72: 6/RadialFiltration_5_19\n",
      "RGB images received. Transforming to grayscale.\n"
     ]
    },
    {
     "name": "stderr",
     "output_type": "stream",
     "text": [
      "rgb2gray: 100%|██████████| 50000/50000 [00:08<00:00, 5634.70it/s]\n"
     ]
    },
    {
     "name": "stdout",
     "output_type": "stream",
     "text": [
      "Got the result from ./20/train/filtrations/6/RadialFiltration_5_19/gray/diagrams.npy\n",
      "Applying Scaler to persistence diagrams.\n",
      "Got the result from ./20/train/filtrations/6/RadialFiltration_5_19/red/diagrams.npy\n",
      "Applying Scaler to persistence diagrams.\n",
      "Got the result from ./20/train/filtrations/6/RadialFiltration_5_19/green/diagrams.npy\n",
      "Applying Scaler to persistence diagrams.\n",
      "Got the result from ./20/train/filtrations/6/RadialFiltration_5_19/blue/diagrams.npy\n",
      "Applying Scaler to persistence diagrams.\n",
      "Applying filtration 60/72: 6/RadialFiltration_5_26\n",
      "RGB images received. Transforming to grayscale.\n"
     ]
    },
    {
     "name": "stderr",
     "output_type": "stream",
     "text": [
      "rgb2gray: 100%|██████████| 50000/50000 [00:09<00:00, 5500.72it/s]\n"
     ]
    },
    {
     "name": "stdout",
     "output_type": "stream",
     "text": [
      "Got the result from ./20/train/filtrations/6/RadialFiltration_5_26/gray/diagrams.npy\n",
      "Applying Scaler to persistence diagrams.\n",
      "Got the result from ./20/train/filtrations/6/RadialFiltration_5_26/red/diagrams.npy\n",
      "Applying Scaler to persistence diagrams.\n",
      "Got the result from ./20/train/filtrations/6/RadialFiltration_5_26/green/diagrams.npy\n",
      "Applying Scaler to persistence diagrams.\n",
      "Got the result from ./20/train/filtrations/6/RadialFiltration_5_26/blue/diagrams.npy\n",
      "Applying Scaler to persistence diagrams.\n",
      "Applying filtration 61/72: 6/RadialFiltration_12_5\n",
      "RGB images received. Transforming to grayscale.\n"
     ]
    },
    {
     "name": "stderr",
     "output_type": "stream",
     "text": [
      "rgb2gray: 100%|██████████| 50000/50000 [00:08<00:00, 5565.13it/s]\n"
     ]
    },
    {
     "name": "stdout",
     "output_type": "stream",
     "text": [
      "Got the result from ./20/train/filtrations/6/RadialFiltration_12_5/gray/diagrams.npy\n",
      "Applying Scaler to persistence diagrams.\n",
      "Got the result from ./20/train/filtrations/6/RadialFiltration_12_5/red/diagrams.npy\n",
      "Applying Scaler to persistence diagrams.\n",
      "Got the result from ./20/train/filtrations/6/RadialFiltration_12_5/green/diagrams.npy\n",
      "Applying Scaler to persistence diagrams.\n",
      "Got the result from ./20/train/filtrations/6/RadialFiltration_12_5/blue/diagrams.npy\n",
      "Applying Scaler to persistence diagrams.\n",
      "Applying filtration 62/72: 6/RadialFiltration_12_12\n",
      "RGB images received. Transforming to grayscale.\n"
     ]
    },
    {
     "name": "stderr",
     "output_type": "stream",
     "text": [
      "rgb2gray: 100%|██████████| 50000/50000 [00:09<00:00, 5265.96it/s]\n"
     ]
    },
    {
     "name": "stdout",
     "output_type": "stream",
     "text": [
      "Got the result from ./20/train/filtrations/6/RadialFiltration_12_12/gray/diagrams.npy\n",
      "Applying Scaler to persistence diagrams.\n",
      "Got the result from ./20/train/filtrations/6/RadialFiltration_12_12/red/diagrams.npy\n",
      "Applying Scaler to persistence diagrams.\n",
      "Got the result from ./20/train/filtrations/6/RadialFiltration_12_12/green/diagrams.npy\n",
      "Applying Scaler to persistence diagrams.\n",
      "Got the result from ./20/train/filtrations/6/RadialFiltration_12_12/blue/diagrams.npy\n",
      "Applying Scaler to persistence diagrams.\n",
      "Applying filtration 63/72: 6/RadialFiltration_12_19\n",
      "RGB images received. Transforming to grayscale.\n"
     ]
    },
    {
     "name": "stderr",
     "output_type": "stream",
     "text": [
      "rgb2gray: 100%|██████████| 50000/50000 [00:09<00:00, 5189.09it/s]\n"
     ]
    },
    {
     "name": "stdout",
     "output_type": "stream",
     "text": [
      "Got the result from ./20/train/filtrations/6/RadialFiltration_12_19/gray/diagrams.npy\n",
      "Applying Scaler to persistence diagrams.\n",
      "Got the result from ./20/train/filtrations/6/RadialFiltration_12_19/red/diagrams.npy\n",
      "Applying Scaler to persistence diagrams.\n",
      "Got the result from ./20/train/filtrations/6/RadialFiltration_12_19/green/diagrams.npy\n",
      "Applying Scaler to persistence diagrams.\n",
      "Got the result from ./20/train/filtrations/6/RadialFiltration_12_19/blue/diagrams.npy\n",
      "Applying Scaler to persistence diagrams.\n",
      "Applying filtration 64/72: 6/RadialFiltration_12_26\n",
      "RGB images received. Transforming to grayscale.\n"
     ]
    },
    {
     "name": "stderr",
     "output_type": "stream",
     "text": [
      "rgb2gray: 100%|██████████| 50000/50000 [00:09<00:00, 5340.11it/s]\n"
     ]
    },
    {
     "name": "stdout",
     "output_type": "stream",
     "text": [
      "Got the result from ./20/train/filtrations/6/RadialFiltration_12_26/gray/diagrams.npy\n",
      "Applying Scaler to persistence diagrams.\n",
      "Got the result from ./20/train/filtrations/6/RadialFiltration_12_26/red/diagrams.npy\n",
      "Applying Scaler to persistence diagrams.\n",
      "Got the result from ./20/train/filtrations/6/RadialFiltration_12_26/green/diagrams.npy\n",
      "Applying Scaler to persistence diagrams.\n",
      "Got the result from ./20/train/filtrations/6/RadialFiltration_12_26/blue/diagrams.npy\n",
      "Applying Scaler to persistence diagrams.\n",
      "Applying filtration 65/72: 6/RadialFiltration_19_5\n",
      "RGB images received. Transforming to grayscale.\n"
     ]
    },
    {
     "name": "stderr",
     "output_type": "stream",
     "text": [
      "rgb2gray: 100%|██████████| 50000/50000 [00:09<00:00, 5058.38it/s]\n"
     ]
    },
    {
     "name": "stdout",
     "output_type": "stream",
     "text": [
      "Got the result from ./20/train/filtrations/6/RadialFiltration_19_5/gray/diagrams.npy\n",
      "Applying Scaler to persistence diagrams.\n",
      "Got the result from ./20/train/filtrations/6/RadialFiltration_19_5/red/diagrams.npy\n",
      "Applying Scaler to persistence diagrams.\n",
      "Got the result from ./20/train/filtrations/6/RadialFiltration_19_5/green/diagrams.npy\n",
      "Applying Scaler to persistence diagrams.\n",
      "Got the result from ./20/train/filtrations/6/RadialFiltration_19_5/blue/diagrams.npy\n",
      "Applying Scaler to persistence diagrams.\n",
      "Applying filtration 66/72: 6/RadialFiltration_19_12\n",
      "RGB images received. Transforming to grayscale.\n"
     ]
    },
    {
     "name": "stderr",
     "output_type": "stream",
     "text": [
      "rgb2gray: 100%|██████████| 50000/50000 [00:10<00:00, 4740.42it/s]\n"
     ]
    },
    {
     "name": "stdout",
     "output_type": "stream",
     "text": [
      "Got the result from ./20/train/filtrations/6/RadialFiltration_19_12/gray/diagrams.npy\n",
      "Applying Scaler to persistence diagrams.\n",
      "Got the result from ./20/train/filtrations/6/RadialFiltration_19_12/red/diagrams.npy\n",
      "Applying Scaler to persistence diagrams.\n",
      "Got the result from ./20/train/filtrations/6/RadialFiltration_19_12/green/diagrams.npy\n",
      "Applying Scaler to persistence diagrams.\n",
      "Got the result from ./20/train/filtrations/6/RadialFiltration_19_12/blue/diagrams.npy\n",
      "Applying Scaler to persistence diagrams.\n",
      "Applying filtration 67/72: 6/RadialFiltration_19_19\n",
      "RGB images received. Transforming to grayscale.\n"
     ]
    },
    {
     "name": "stderr",
     "output_type": "stream",
     "text": [
      "rgb2gray: 100%|██████████| 50000/50000 [00:09<00:00, 5046.43it/s]\n"
     ]
    },
    {
     "name": "stdout",
     "output_type": "stream",
     "text": [
      "Got the result from ./20/train/filtrations/6/RadialFiltration_19_19/gray/diagrams.npy\n",
      "Applying Scaler to persistence diagrams.\n",
      "Got the result from ./20/train/filtrations/6/RadialFiltration_19_19/red/diagrams.npy\n",
      "Applying Scaler to persistence diagrams.\n",
      "Got the result from ./20/train/filtrations/6/RadialFiltration_19_19/green/diagrams.npy\n",
      "Applying Scaler to persistence diagrams.\n",
      "Got the result from ./20/train/filtrations/6/RadialFiltration_19_19/blue/diagrams.npy\n",
      "Applying Scaler to persistence diagrams.\n",
      "Applying filtration 68/72: 6/RadialFiltration_19_26\n",
      "RGB images received. Transforming to grayscale.\n"
     ]
    },
    {
     "name": "stderr",
     "output_type": "stream",
     "text": [
      "rgb2gray: 100%|██████████| 50000/50000 [00:10<00:00, 4854.39it/s]\n"
     ]
    },
    {
     "name": "stdout",
     "output_type": "stream",
     "text": [
      "Got the result from ./20/train/filtrations/6/RadialFiltration_19_26/gray/diagrams.npy\n",
      "Applying Scaler to persistence diagrams.\n",
      "Got the result from ./20/train/filtrations/6/RadialFiltration_19_26/red/diagrams.npy\n",
      "Applying Scaler to persistence diagrams.\n",
      "Got the result from ./20/train/filtrations/6/RadialFiltration_19_26/green/diagrams.npy\n",
      "Applying Scaler to persistence diagrams.\n",
      "Got the result from ./20/train/filtrations/6/RadialFiltration_19_26/blue/diagrams.npy\n",
      "Applying Scaler to persistence diagrams.\n",
      "Applying filtration 69/72: 6/RadialFiltration_26_5\n",
      "RGB images received. Transforming to grayscale.\n"
     ]
    },
    {
     "name": "stderr",
     "output_type": "stream",
     "text": [
      "rgb2gray: 100%|██████████| 50000/50000 [00:10<00:00, 4771.76it/s]\n"
     ]
    },
    {
     "name": "stdout",
     "output_type": "stream",
     "text": [
      "Got the result from ./20/train/filtrations/6/RadialFiltration_26_5/gray/diagrams.npy\n",
      "Applying Scaler to persistence diagrams.\n",
      "Got the result from ./20/train/filtrations/6/RadialFiltration_26_5/red/diagrams.npy\n",
      "Applying Scaler to persistence diagrams.\n",
      "Got the result from ./20/train/filtrations/6/RadialFiltration_26_5/green/diagrams.npy\n",
      "Applying Scaler to persistence diagrams.\n",
      "Got the result from ./20/train/filtrations/6/RadialFiltration_26_5/blue/diagrams.npy\n",
      "Applying Scaler to persistence diagrams.\n",
      "Applying filtration 70/72: 6/RadialFiltration_26_12\n",
      "RGB images received. Transforming to grayscale.\n"
     ]
    },
    {
     "name": "stderr",
     "output_type": "stream",
     "text": [
      "rgb2gray: 100%|██████████| 50000/50000 [00:10<00:00, 4728.44it/s]\n"
     ]
    },
    {
     "name": "stdout",
     "output_type": "stream",
     "text": [
      "Got the result from ./20/train/filtrations/6/RadialFiltration_26_12/gray/diagrams.npy\n",
      "Applying Scaler to persistence diagrams.\n",
      "Got the result from ./20/train/filtrations/6/RadialFiltration_26_12/red/diagrams.npy\n",
      "Applying Scaler to persistence diagrams.\n",
      "Got the result from ./20/train/filtrations/6/RadialFiltration_26_12/green/diagrams.npy\n",
      "Applying Scaler to persistence diagrams.\n",
      "Got the result from ./20/train/filtrations/6/RadialFiltration_26_12/blue/diagrams.npy\n",
      "Applying Scaler to persistence diagrams.\n",
      "Applying filtration 71/72: 6/RadialFiltration_26_19\n",
      "RGB images received. Transforming to grayscale.\n"
     ]
    },
    {
     "name": "stderr",
     "output_type": "stream",
     "text": [
      "rgb2gray: 100%|██████████| 50000/50000 [00:10<00:00, 4624.78it/s]\n"
     ]
    },
    {
     "name": "stdout",
     "output_type": "stream",
     "text": [
      "Got the result from ./20/train/filtrations/6/RadialFiltration_26_19/gray/diagrams.npy\n",
      "Applying Scaler to persistence diagrams.\n",
      "Got the result from ./20/train/filtrations/6/RadialFiltration_26_19/red/diagrams.npy\n",
      "Applying Scaler to persistence diagrams.\n",
      "Got the result from ./20/train/filtrations/6/RadialFiltration_26_19/green/diagrams.npy\n",
      "Applying Scaler to persistence diagrams.\n",
      "Got the result from ./20/train/filtrations/6/RadialFiltration_26_19/blue/diagrams.npy\n",
      "Applying Scaler to persistence diagrams.\n",
      "Applying filtration 72/72: 6/RadialFiltration_26_26\n",
      "RGB images received. Transforming to grayscale.\n"
     ]
    },
    {
     "name": "stderr",
     "output_type": "stream",
     "text": [
      "rgb2gray: 100%|██████████| 50000/50000 [00:09<00:00, 5079.37it/s]\n"
     ]
    },
    {
     "name": "stdout",
     "output_type": "stream",
     "text": [
      "Got the result from ./20/train/filtrations/6/RadialFiltration_26_26/gray/diagrams.npy\n",
      "Applying Scaler to persistence diagrams.\n",
      "Got the result from ./20/train/filtrations/6/RadialFiltration_26_26/red/diagrams.npy\n",
      "Applying Scaler to persistence diagrams.\n",
      "Got the result from ./20/train/filtrations/6/RadialFiltration_26_26/green/diagrams.npy\n",
      "Applying Scaler to persistence diagrams.\n",
      "Got the result from ./20/train/filtrations/6/RadialFiltration_26_26/blue/diagrams.npy\n",
      "Applying Scaler to persistence diagrams.\n",
      "Diagrams requested. Returning diagrams.\n",
      "Calculating inverted images\n",
      "RGB images received. Transforming to grayscale.\n"
     ]
    },
    {
     "name": "stderr",
     "output_type": "stream",
     "text": [
      "rgb2gray: 100%|██████████| 50000/50000 [00:04<00:00, 11347.99it/s]\n"
     ]
    },
    {
     "name": "stdout",
     "output_type": "stream",
     "text": [
      "Got the result from ./20/train/greyscale/gray/diagrams.npy\n",
      "Applying Scaler to persistence diagrams.\n",
      "Got the result from ./20/train/greyscale/red/diagrams.npy\n",
      "Applying Scaler to persistence diagrams.\n",
      "Got the result from ./20/train/greyscale/green/diagrams.npy\n",
      "Applying Scaler to persistence diagrams.\n",
      "Got the result from ./20/train/greyscale/blue/diagrams.npy\n",
      "Applying Scaler to persistence diagrams.\n",
      "RGB images received. Transforming to grayscale.\n"
     ]
    },
    {
     "name": "stderr",
     "output_type": "stream",
     "text": [
      "rgb2gray: 100%|██████████| 50000/50000 [00:04<00:00, 11880.52it/s]\n"
     ]
    },
    {
     "name": "stdout",
     "output_type": "stream",
     "text": [
      "Got the result from ./20/train/inverted_greyscale/gray/diagrams.npy\n",
      "Applying Scaler to persistence diagrams.\n",
      "Got the result from ./20/train/inverted_greyscale/red/diagrams.npy\n",
      "Applying Scaler to persistence diagrams.\n",
      "Got the result from ./20/train/inverted_greyscale/green/diagrams.npy\n",
      "Applying Scaler to persistence diagrams.\n",
      "Got the result from ./20/train/inverted_greyscale/blue/diagrams.npy\n",
      "Applying Scaler to persistence diagrams.\n",
      "Applying filtrations\n",
      "Applying filtration 1/72: 2/HeightFiltrartion_-1_-1\n",
      "RGB images received. Transforming to grayscale.\n"
     ]
    },
    {
     "name": "stderr",
     "output_type": "stream",
     "text": [
      "rgb2gray: 100%|██████████| 50000/50000 [00:04<00:00, 12185.14it/s]\n"
     ]
    },
    {
     "name": "stdout",
     "output_type": "stream",
     "text": [
      "Got the result from ./20/train/filtrations/2/HeightFiltrartion_-1_-1/gray/diagrams.npy\n",
      "Applying Scaler to persistence diagrams.\n",
      "Got the result from ./20/train/filtrations/2/HeightFiltrartion_-1_-1/red/diagrams.npy\n",
      "Applying Scaler to persistence diagrams.\n",
      "Got the result from ./20/train/filtrations/2/HeightFiltrartion_-1_-1/green/diagrams.npy\n",
      "Applying Scaler to persistence diagrams.\n",
      "Got the result from ./20/train/filtrations/2/HeightFiltrartion_-1_-1/blue/diagrams.npy\n",
      "Applying Scaler to persistence diagrams.\n",
      "Applying filtration 2/72: 2/HeightFiltrartion_1_1\n",
      "RGB images received. Transforming to grayscale.\n"
     ]
    },
    {
     "name": "stderr",
     "output_type": "stream",
     "text": [
      "rgb2gray: 100%|██████████| 50000/50000 [00:04<00:00, 11466.07it/s]\n"
     ]
    },
    {
     "name": "stdout",
     "output_type": "stream",
     "text": [
      "Got the result from ./20/train/filtrations/2/HeightFiltrartion_1_1/gray/diagrams.npy\n",
      "Applying Scaler to persistence diagrams.\n",
      "Got the result from ./20/train/filtrations/2/HeightFiltrartion_1_1/red/diagrams.npy\n",
      "Applying Scaler to persistence diagrams.\n",
      "Got the result from ./20/train/filtrations/2/HeightFiltrartion_1_1/green/diagrams.npy\n",
      "Applying Scaler to persistence diagrams.\n",
      "Got the result from ./20/train/filtrations/2/HeightFiltrartion_1_1/blue/diagrams.npy\n",
      "Applying Scaler to persistence diagrams.\n",
      "Applying filtration 3/72: 2/HeightFiltrartion_1_-1\n",
      "RGB images received. Transforming to grayscale.\n"
     ]
    },
    {
     "name": "stderr",
     "output_type": "stream",
     "text": [
      "rgb2gray: 100%|██████████| 50000/50000 [00:04<00:00, 11156.66it/s]\n"
     ]
    },
    {
     "name": "stdout",
     "output_type": "stream",
     "text": [
      "Got the result from ./20/train/filtrations/2/HeightFiltrartion_1_-1/gray/diagrams.npy\n",
      "Applying Scaler to persistence diagrams.\n",
      "Got the result from ./20/train/filtrations/2/HeightFiltrartion_1_-1/red/diagrams.npy\n",
      "Applying Scaler to persistence diagrams.\n",
      "Got the result from ./20/train/filtrations/2/HeightFiltrartion_1_-1/green/diagrams.npy\n",
      "Applying Scaler to persistence diagrams.\n",
      "Got the result from ./20/train/filtrations/2/HeightFiltrartion_1_-1/blue/diagrams.npy\n",
      "Applying Scaler to persistence diagrams.\n",
      "Applying filtration 4/72: 2/HeightFiltrartion_-1_1\n",
      "RGB images received. Transforming to grayscale.\n"
     ]
    },
    {
     "name": "stderr",
     "output_type": "stream",
     "text": [
      "rgb2gray: 100%|██████████| 50000/50000 [00:04<00:00, 10282.48it/s]\n"
     ]
    },
    {
     "name": "stdout",
     "output_type": "stream",
     "text": [
      "Got the result from ./20/train/filtrations/2/HeightFiltrartion_-1_1/gray/diagrams.npy\n",
      "Applying Scaler to persistence diagrams.\n",
      "Got the result from ./20/train/filtrations/2/HeightFiltrartion_-1_1/red/diagrams.npy\n",
      "Applying Scaler to persistence diagrams.\n",
      "Got the result from ./20/train/filtrations/2/HeightFiltrartion_-1_1/green/diagrams.npy\n",
      "Applying Scaler to persistence diagrams.\n",
      "Got the result from ./20/train/filtrations/2/HeightFiltrartion_-1_1/blue/diagrams.npy\n",
      "Applying Scaler to persistence diagrams.\n",
      "Applying filtration 5/72: 2/HeightFiltrartion_0_-1\n",
      "RGB images received. Transforming to grayscale.\n"
     ]
    },
    {
     "name": "stderr",
     "output_type": "stream",
     "text": [
      "rgb2gray: 100%|██████████| 50000/50000 [00:05<00:00, 9999.31it/s] \n"
     ]
    },
    {
     "name": "stdout",
     "output_type": "stream",
     "text": [
      "Got the result from ./20/train/filtrations/2/HeightFiltrartion_0_-1/gray/diagrams.npy\n",
      "Applying Scaler to persistence diagrams.\n",
      "Got the result from ./20/train/filtrations/2/HeightFiltrartion_0_-1/red/diagrams.npy\n",
      "Applying Scaler to persistence diagrams.\n",
      "Got the result from ./20/train/filtrations/2/HeightFiltrartion_0_-1/green/diagrams.npy\n",
      "Applying Scaler to persistence diagrams.\n",
      "Got the result from ./20/train/filtrations/2/HeightFiltrartion_0_-1/blue/diagrams.npy\n",
      "Applying Scaler to persistence diagrams.\n",
      "Applying filtration 6/72: 2/HeightFiltrartion_0_1\n",
      "RGB images received. Transforming to grayscale.\n"
     ]
    },
    {
     "name": "stderr",
     "output_type": "stream",
     "text": [
      "rgb2gray: 100%|██████████| 50000/50000 [00:04<00:00, 10260.57it/s]\n"
     ]
    },
    {
     "name": "stdout",
     "output_type": "stream",
     "text": [
      "Got the result from ./20/train/filtrations/2/HeightFiltrartion_0_1/gray/diagrams.npy\n",
      "Applying Scaler to persistence diagrams.\n",
      "Got the result from ./20/train/filtrations/2/HeightFiltrartion_0_1/red/diagrams.npy\n",
      "Applying Scaler to persistence diagrams.\n",
      "Got the result from ./20/train/filtrations/2/HeightFiltrartion_0_1/green/diagrams.npy\n",
      "Applying Scaler to persistence diagrams.\n",
      "Got the result from ./20/train/filtrations/2/HeightFiltrartion_0_1/blue/diagrams.npy\n",
      "Applying Scaler to persistence diagrams.\n",
      "Applying filtration 7/72: 2/HeightFiltrartion_-1_0\n",
      "RGB images received. Transforming to grayscale.\n"
     ]
    },
    {
     "name": "stderr",
     "output_type": "stream",
     "text": [
      "rgb2gray: 100%|██████████| 50000/50000 [00:04<00:00, 10223.01it/s]\n"
     ]
    },
    {
     "name": "stdout",
     "output_type": "stream",
     "text": [
      "Got the result from ./20/train/filtrations/2/HeightFiltrartion_-1_0/gray/diagrams.npy\n",
      "Applying Scaler to persistence diagrams.\n",
      "Got the result from ./20/train/filtrations/2/HeightFiltrartion_-1_0/red/diagrams.npy\n",
      "Applying Scaler to persistence diagrams.\n",
      "Got the result from ./20/train/filtrations/2/HeightFiltrartion_-1_0/green/diagrams.npy\n",
      "Applying Scaler to persistence diagrams.\n",
      "Got the result from ./20/train/filtrations/2/HeightFiltrartion_-1_0/blue/diagrams.npy\n",
      "Applying Scaler to persistence diagrams.\n",
      "Applying filtration 8/72: 2/HeightFiltrartion_1_0\n",
      "RGB images received. Transforming to grayscale.\n"
     ]
    },
    {
     "name": "stderr",
     "output_type": "stream",
     "text": [
      "rgb2gray: 100%|██████████| 50000/50000 [00:04<00:00, 10010.27it/s]\n"
     ]
    },
    {
     "name": "stdout",
     "output_type": "stream",
     "text": [
      "Got the result from ./20/train/filtrations/2/HeightFiltrartion_1_0/gray/diagrams.npy\n",
      "Applying Scaler to persistence diagrams.\n",
      "Got the result from ./20/train/filtrations/2/HeightFiltrartion_1_0/red/diagrams.npy\n",
      "Applying Scaler to persistence diagrams.\n",
      "Got the result from ./20/train/filtrations/2/HeightFiltrartion_1_0/green/diagrams.npy\n",
      "Applying Scaler to persistence diagrams.\n",
      "Got the result from ./20/train/filtrations/2/HeightFiltrartion_1_0/blue/diagrams.npy\n",
      "Applying Scaler to persistence diagrams.\n",
      "Applying filtration 9/72: 2/RadialFiltration_5_5\n",
      "RGB images received. Transforming to grayscale.\n"
     ]
    },
    {
     "name": "stderr",
     "output_type": "stream",
     "text": [
      "rgb2gray: 100%|██████████| 50000/50000 [00:05<00:00, 9956.71it/s] \n"
     ]
    },
    {
     "name": "stdout",
     "output_type": "stream",
     "text": [
      "Got the result from ./20/train/filtrations/2/RadialFiltration_5_5/gray/diagrams.npy\n",
      "Applying Scaler to persistence diagrams.\n",
      "Got the result from ./20/train/filtrations/2/RadialFiltration_5_5/red/diagrams.npy\n",
      "Applying Scaler to persistence diagrams.\n",
      "Got the result from ./20/train/filtrations/2/RadialFiltration_5_5/green/diagrams.npy\n",
      "Applying Scaler to persistence diagrams.\n",
      "Got the result from ./20/train/filtrations/2/RadialFiltration_5_5/blue/diagrams.npy\n",
      "Applying Scaler to persistence diagrams.\n",
      "Applying filtration 10/72: 2/RadialFiltration_5_12\n",
      "RGB images received. Transforming to grayscale.\n"
     ]
    },
    {
     "name": "stderr",
     "output_type": "stream",
     "text": [
      "rgb2gray: 100%|██████████| 50000/50000 [00:05<00:00, 9960.48it/s] \n"
     ]
    },
    {
     "name": "stdout",
     "output_type": "stream",
     "text": [
      "Got the result from ./20/train/filtrations/2/RadialFiltration_5_12/gray/diagrams.npy\n",
      "Applying Scaler to persistence diagrams.\n",
      "Got the result from ./20/train/filtrations/2/RadialFiltration_5_12/red/diagrams.npy\n",
      "Applying Scaler to persistence diagrams.\n",
      "Got the result from ./20/train/filtrations/2/RadialFiltration_5_12/green/diagrams.npy\n",
      "Applying Scaler to persistence diagrams.\n",
      "Got the result from ./20/train/filtrations/2/RadialFiltration_5_12/blue/diagrams.npy\n",
      "Applying Scaler to persistence diagrams.\n",
      "Applying filtration 11/72: 2/RadialFiltration_5_19\n",
      "RGB images received. Transforming to grayscale.\n"
     ]
    },
    {
     "name": "stderr",
     "output_type": "stream",
     "text": [
      "rgb2gray: 100%|██████████| 50000/50000 [00:05<00:00, 9729.70it/s] \n"
     ]
    },
    {
     "name": "stdout",
     "output_type": "stream",
     "text": [
      "Got the result from ./20/train/filtrations/2/RadialFiltration_5_19/gray/diagrams.npy\n",
      "Applying Scaler to persistence diagrams.\n",
      "Got the result from ./20/train/filtrations/2/RadialFiltration_5_19/red/diagrams.npy\n",
      "Applying Scaler to persistence diagrams.\n",
      "Got the result from ./20/train/filtrations/2/RadialFiltration_5_19/green/diagrams.npy\n",
      "Applying Scaler to persistence diagrams.\n",
      "Got the result from ./20/train/filtrations/2/RadialFiltration_5_19/blue/diagrams.npy\n",
      "Applying Scaler to persistence diagrams.\n",
      "Applying filtration 12/72: 2/RadialFiltration_5_26\n",
      "RGB images received. Transforming to grayscale.\n"
     ]
    },
    {
     "name": "stderr",
     "output_type": "stream",
     "text": [
      "rgb2gray: 100%|██████████| 50000/50000 [00:05<00:00, 9543.88it/s] \n"
     ]
    },
    {
     "name": "stdout",
     "output_type": "stream",
     "text": [
      "Got the result from ./20/train/filtrations/2/RadialFiltration_5_26/gray/diagrams.npy\n",
      "Applying Scaler to persistence diagrams.\n",
      "Got the result from ./20/train/filtrations/2/RadialFiltration_5_26/red/diagrams.npy\n",
      "Applying Scaler to persistence diagrams.\n",
      "Got the result from ./20/train/filtrations/2/RadialFiltration_5_26/green/diagrams.npy\n",
      "Applying Scaler to persistence diagrams.\n",
      "Got the result from ./20/train/filtrations/2/RadialFiltration_5_26/blue/diagrams.npy\n",
      "Applying Scaler to persistence diagrams.\n",
      "Applying filtration 13/72: 2/RadialFiltration_12_5\n",
      "RGB images received. Transforming to grayscale.\n"
     ]
    },
    {
     "name": "stderr",
     "output_type": "stream",
     "text": [
      "rgb2gray: 100%|██████████| 50000/50000 [00:05<00:00, 9353.25it/s] \n"
     ]
    },
    {
     "name": "stdout",
     "output_type": "stream",
     "text": [
      "Got the result from ./20/train/filtrations/2/RadialFiltration_12_5/gray/diagrams.npy\n",
      "Applying Scaler to persistence diagrams.\n",
      "Got the result from ./20/train/filtrations/2/RadialFiltration_12_5/red/diagrams.npy\n",
      "Applying Scaler to persistence diagrams.\n",
      "Got the result from ./20/train/filtrations/2/RadialFiltration_12_5/green/diagrams.npy\n",
      "Applying Scaler to persistence diagrams.\n",
      "Got the result from ./20/train/filtrations/2/RadialFiltration_12_5/blue/diagrams.npy\n",
      "Applying Scaler to persistence diagrams.\n",
      "Applying filtration 14/72: 2/RadialFiltration_12_12\n",
      "RGB images received. Transforming to grayscale.\n"
     ]
    },
    {
     "name": "stderr",
     "output_type": "stream",
     "text": [
      "rgb2gray: 100%|██████████| 50000/50000 [00:05<00:00, 9690.80it/s] \n"
     ]
    },
    {
     "name": "stdout",
     "output_type": "stream",
     "text": [
      "Got the result from ./20/train/filtrations/2/RadialFiltration_12_12/gray/diagrams.npy\n",
      "Applying Scaler to persistence diagrams.\n",
      "Got the result from ./20/train/filtrations/2/RadialFiltration_12_12/red/diagrams.npy\n",
      "Applying Scaler to persistence diagrams.\n",
      "Got the result from ./20/train/filtrations/2/RadialFiltration_12_12/green/diagrams.npy\n",
      "Applying Scaler to persistence diagrams.\n",
      "Got the result from ./20/train/filtrations/2/RadialFiltration_12_12/blue/diagrams.npy\n",
      "Applying Scaler to persistence diagrams.\n",
      "Applying filtration 15/72: 2/RadialFiltration_12_19\n",
      "RGB images received. Transforming to grayscale.\n"
     ]
    },
    {
     "name": "stderr",
     "output_type": "stream",
     "text": [
      "rgb2gray: 100%|██████████| 50000/50000 [00:05<00:00, 9287.58it/s] \n"
     ]
    },
    {
     "name": "stdout",
     "output_type": "stream",
     "text": [
      "Got the result from ./20/train/filtrations/2/RadialFiltration_12_19/gray/diagrams.npy\n",
      "Applying Scaler to persistence diagrams.\n",
      "Got the result from ./20/train/filtrations/2/RadialFiltration_12_19/red/diagrams.npy\n",
      "Applying Scaler to persistence diagrams.\n",
      "Got the result from ./20/train/filtrations/2/RadialFiltration_12_19/green/diagrams.npy\n",
      "Applying Scaler to persistence diagrams.\n",
      "Got the result from ./20/train/filtrations/2/RadialFiltration_12_19/blue/diagrams.npy\n",
      "Applying Scaler to persistence diagrams.\n",
      "Applying filtration 16/72: 2/RadialFiltration_12_26\n",
      "RGB images received. Transforming to grayscale.\n"
     ]
    },
    {
     "name": "stderr",
     "output_type": "stream",
     "text": [
      "rgb2gray: 100%|██████████| 50000/50000 [00:05<00:00, 9575.86it/s] \n"
     ]
    },
    {
     "name": "stdout",
     "output_type": "stream",
     "text": [
      "Got the result from ./20/train/filtrations/2/RadialFiltration_12_26/gray/diagrams.npy\n",
      "Applying Scaler to persistence diagrams.\n",
      "Got the result from ./20/train/filtrations/2/RadialFiltration_12_26/red/diagrams.npy\n",
      "Applying Scaler to persistence diagrams.\n",
      "Got the result from ./20/train/filtrations/2/RadialFiltration_12_26/green/diagrams.npy\n",
      "Applying Scaler to persistence diagrams.\n",
      "Got the result from ./20/train/filtrations/2/RadialFiltration_12_26/blue/diagrams.npy\n",
      "Applying Scaler to persistence diagrams.\n",
      "Applying filtration 17/72: 2/RadialFiltration_19_5\n",
      "RGB images received. Transforming to grayscale.\n"
     ]
    },
    {
     "name": "stderr",
     "output_type": "stream",
     "text": [
      "rgb2gray: 100%|██████████| 50000/50000 [00:05<00:00, 8993.04it/s]\n"
     ]
    },
    {
     "name": "stdout",
     "output_type": "stream",
     "text": [
      "Got the result from ./20/train/filtrations/2/RadialFiltration_19_5/gray/diagrams.npy\n",
      "Applying Scaler to persistence diagrams.\n",
      "Got the result from ./20/train/filtrations/2/RadialFiltration_19_5/red/diagrams.npy\n",
      "Applying Scaler to persistence diagrams.\n",
      "Got the result from ./20/train/filtrations/2/RadialFiltration_19_5/green/diagrams.npy\n",
      "Applying Scaler to persistence diagrams.\n",
      "Got the result from ./20/train/filtrations/2/RadialFiltration_19_5/blue/diagrams.npy\n",
      "Applying Scaler to persistence diagrams.\n",
      "Applying filtration 18/72: 2/RadialFiltration_19_12\n",
      "RGB images received. Transforming to grayscale.\n"
     ]
    },
    {
     "name": "stderr",
     "output_type": "stream",
     "text": [
      "rgb2gray: 100%|██████████| 50000/50000 [00:05<00:00, 8983.23it/s] \n"
     ]
    },
    {
     "name": "stdout",
     "output_type": "stream",
     "text": [
      "Got the result from ./20/train/filtrations/2/RadialFiltration_19_12/gray/diagrams.npy\n",
      "Applying Scaler to persistence diagrams.\n",
      "Got the result from ./20/train/filtrations/2/RadialFiltration_19_12/red/diagrams.npy\n",
      "Applying Scaler to persistence diagrams.\n",
      "Got the result from ./20/train/filtrations/2/RadialFiltration_19_12/green/diagrams.npy\n",
      "Applying Scaler to persistence diagrams.\n",
      "Got the result from ./20/train/filtrations/2/RadialFiltration_19_12/blue/diagrams.npy\n",
      "Applying Scaler to persistence diagrams.\n",
      "Applying filtration 19/72: 2/RadialFiltration_19_19\n",
      "RGB images received. Transforming to grayscale.\n"
     ]
    },
    {
     "name": "stderr",
     "output_type": "stream",
     "text": [
      "rgb2gray: 100%|██████████| 50000/50000 [00:05<00:00, 9308.67it/s] \n"
     ]
    },
    {
     "name": "stdout",
     "output_type": "stream",
     "text": [
      "Got the result from ./20/train/filtrations/2/RadialFiltration_19_19/gray/diagrams.npy\n",
      "Applying Scaler to persistence diagrams.\n",
      "Got the result from ./20/train/filtrations/2/RadialFiltration_19_19/red/diagrams.npy\n",
      "Applying Scaler to persistence diagrams.\n",
      "Got the result from ./20/train/filtrations/2/RadialFiltration_19_19/green/diagrams.npy\n",
      "Applying Scaler to persistence diagrams.\n",
      "Got the result from ./20/train/filtrations/2/RadialFiltration_19_19/blue/diagrams.npy\n",
      "Applying Scaler to persistence diagrams.\n",
      "Applying filtration 20/72: 2/RadialFiltration_19_26\n",
      "RGB images received. Transforming to grayscale.\n"
     ]
    },
    {
     "name": "stderr",
     "output_type": "stream",
     "text": [
      "rgb2gray: 100%|██████████| 50000/50000 [00:05<00:00, 8657.71it/s]\n"
     ]
    },
    {
     "name": "stdout",
     "output_type": "stream",
     "text": [
      "Got the result from ./20/train/filtrations/2/RadialFiltration_19_26/gray/diagrams.npy\n",
      "Applying Scaler to persistence diagrams.\n",
      "Got the result from ./20/train/filtrations/2/RadialFiltration_19_26/red/diagrams.npy\n",
      "Applying Scaler to persistence diagrams.\n",
      "Got the result from ./20/train/filtrations/2/RadialFiltration_19_26/green/diagrams.npy\n",
      "Applying Scaler to persistence diagrams.\n",
      "Got the result from ./20/train/filtrations/2/RadialFiltration_19_26/blue/diagrams.npy\n",
      "Applying Scaler to persistence diagrams.\n",
      "Applying filtration 21/72: 2/RadialFiltration_26_5\n",
      "RGB images received. Transforming to grayscale.\n"
     ]
    },
    {
     "name": "stderr",
     "output_type": "stream",
     "text": [
      "rgb2gray: 100%|██████████| 50000/50000 [00:05<00:00, 8796.60it/s]\n"
     ]
    },
    {
     "name": "stdout",
     "output_type": "stream",
     "text": [
      "Got the result from ./20/train/filtrations/2/RadialFiltration_26_5/gray/diagrams.npy\n",
      "Applying Scaler to persistence diagrams.\n",
      "Got the result from ./20/train/filtrations/2/RadialFiltration_26_5/red/diagrams.npy\n",
      "Applying Scaler to persistence diagrams.\n",
      "Got the result from ./20/train/filtrations/2/RadialFiltration_26_5/green/diagrams.npy\n",
      "Applying Scaler to persistence diagrams.\n",
      "Got the result from ./20/train/filtrations/2/RadialFiltration_26_5/blue/diagrams.npy\n",
      "Applying Scaler to persistence diagrams.\n",
      "Applying filtration 22/72: 2/RadialFiltration_26_12\n",
      "RGB images received. Transforming to grayscale.\n"
     ]
    },
    {
     "name": "stderr",
     "output_type": "stream",
     "text": [
      "rgb2gray: 100%|██████████| 50000/50000 [00:05<00:00, 8547.45it/s]\n"
     ]
    },
    {
     "name": "stdout",
     "output_type": "stream",
     "text": [
      "Got the result from ./20/train/filtrations/2/RadialFiltration_26_12/gray/diagrams.npy\n",
      "Applying Scaler to persistence diagrams.\n",
      "Got the result from ./20/train/filtrations/2/RadialFiltration_26_12/red/diagrams.npy\n",
      "Applying Scaler to persistence diagrams.\n",
      "Got the result from ./20/train/filtrations/2/RadialFiltration_26_12/green/diagrams.npy\n",
      "Applying Scaler to persistence diagrams.\n",
      "Got the result from ./20/train/filtrations/2/RadialFiltration_26_12/blue/diagrams.npy\n",
      "Applying Scaler to persistence diagrams.\n",
      "Applying filtration 23/72: 2/RadialFiltration_26_19\n",
      "RGB images received. Transforming to grayscale.\n"
     ]
    },
    {
     "name": "stderr",
     "output_type": "stream",
     "text": [
      "rgb2gray: 100%|██████████| 50000/50000 [00:05<00:00, 8684.30it/s]\n"
     ]
    },
    {
     "name": "stdout",
     "output_type": "stream",
     "text": [
      "Got the result from ./20/train/filtrations/2/RadialFiltration_26_19/gray/diagrams.npy\n",
      "Applying Scaler to persistence diagrams.\n",
      "Got the result from ./20/train/filtrations/2/RadialFiltration_26_19/red/diagrams.npy\n",
      "Applying Scaler to persistence diagrams.\n",
      "Got the result from ./20/train/filtrations/2/RadialFiltration_26_19/green/diagrams.npy\n",
      "Applying Scaler to persistence diagrams.\n",
      "Got the result from ./20/train/filtrations/2/RadialFiltration_26_19/blue/diagrams.npy\n",
      "Applying Scaler to persistence diagrams.\n",
      "Applying filtration 24/72: 2/RadialFiltration_26_26\n",
      "RGB images received. Transforming to grayscale.\n"
     ]
    },
    {
     "name": "stderr",
     "output_type": "stream",
     "text": [
      "rgb2gray: 100%|██████████| 50000/50000 [00:06<00:00, 8269.06it/s]\n"
     ]
    },
    {
     "name": "stdout",
     "output_type": "stream",
     "text": [
      "Got the result from ./20/train/filtrations/2/RadialFiltration_26_26/gray/diagrams.npy\n",
      "Applying Scaler to persistence diagrams.\n",
      "Got the result from ./20/train/filtrations/2/RadialFiltration_26_26/red/diagrams.npy\n",
      "Applying Scaler to persistence diagrams.\n",
      "Got the result from ./20/train/filtrations/2/RadialFiltration_26_26/green/diagrams.npy\n",
      "Applying Scaler to persistence diagrams.\n",
      "Got the result from ./20/train/filtrations/2/RadialFiltration_26_26/blue/diagrams.npy\n",
      "Applying Scaler to persistence diagrams.\n",
      "Applying filtration 25/72: 4/HeightFiltrartion_-1_-1\n",
      "RGB images received. Transforming to grayscale.\n"
     ]
    },
    {
     "name": "stderr",
     "output_type": "stream",
     "text": [
      "rgb2gray: 100%|██████████| 50000/50000 [00:05<00:00, 8341.03it/s]\n"
     ]
    },
    {
     "name": "stdout",
     "output_type": "stream",
     "text": [
      "Got the result from ./20/train/filtrations/4/HeightFiltrartion_-1_-1/gray/diagrams.npy\n",
      "Applying Scaler to persistence diagrams.\n",
      "Got the result from ./20/train/filtrations/4/HeightFiltrartion_-1_-1/red/diagrams.npy\n",
      "Applying Scaler to persistence diagrams.\n",
      "Got the result from ./20/train/filtrations/4/HeightFiltrartion_-1_-1/green/diagrams.npy\n",
      "Applying Scaler to persistence diagrams.\n",
      "Got the result from ./20/train/filtrations/4/HeightFiltrartion_-1_-1/blue/diagrams.npy\n",
      "Applying Scaler to persistence diagrams.\n",
      "Applying filtration 26/72: 4/HeightFiltrartion_1_1\n",
      "RGB images received. Transforming to grayscale.\n"
     ]
    },
    {
     "name": "stderr",
     "output_type": "stream",
     "text": [
      "rgb2gray: 100%|██████████| 50000/50000 [00:06<00:00, 8106.86it/s]\n"
     ]
    },
    {
     "name": "stdout",
     "output_type": "stream",
     "text": [
      "Got the result from ./20/train/filtrations/4/HeightFiltrartion_1_1/gray/diagrams.npy\n",
      "Applying Scaler to persistence diagrams.\n",
      "Got the result from ./20/train/filtrations/4/HeightFiltrartion_1_1/red/diagrams.npy\n",
      "Applying Scaler to persistence diagrams.\n",
      "Got the result from ./20/train/filtrations/4/HeightFiltrartion_1_1/green/diagrams.npy\n",
      "Applying Scaler to persistence diagrams.\n",
      "Got the result from ./20/train/filtrations/4/HeightFiltrartion_1_1/blue/diagrams.npy\n",
      "Applying Scaler to persistence diagrams.\n",
      "Applying filtration 27/72: 4/HeightFiltrartion_1_-1\n",
      "RGB images received. Transforming to grayscale.\n"
     ]
    },
    {
     "name": "stderr",
     "output_type": "stream",
     "text": [
      "rgb2gray: 100%|██████████| 50000/50000 [00:06<00:00, 8021.36it/s]\n"
     ]
    },
    {
     "name": "stdout",
     "output_type": "stream",
     "text": [
      "Got the result from ./20/train/filtrations/4/HeightFiltrartion_1_-1/gray/diagrams.npy\n",
      "Applying Scaler to persistence diagrams.\n",
      "Got the result from ./20/train/filtrations/4/HeightFiltrartion_1_-1/red/diagrams.npy\n",
      "Applying Scaler to persistence diagrams.\n",
      "Got the result from ./20/train/filtrations/4/HeightFiltrartion_1_-1/green/diagrams.npy\n",
      "Applying Scaler to persistence diagrams.\n",
      "Got the result from ./20/train/filtrations/4/HeightFiltrartion_1_-1/blue/diagrams.npy\n",
      "Applying Scaler to persistence diagrams.\n",
      "Applying filtration 28/72: 4/HeightFiltrartion_-1_1\n",
      "RGB images received. Transforming to grayscale.\n"
     ]
    },
    {
     "name": "stderr",
     "output_type": "stream",
     "text": [
      "rgb2gray: 100%|██████████| 50000/50000 [00:06<00:00, 8175.84it/s]\n"
     ]
    },
    {
     "name": "stdout",
     "output_type": "stream",
     "text": [
      "Got the result from ./20/train/filtrations/4/HeightFiltrartion_-1_1/gray/diagrams.npy\n",
      "Applying Scaler to persistence diagrams.\n",
      "Got the result from ./20/train/filtrations/4/HeightFiltrartion_-1_1/red/diagrams.npy\n",
      "Applying Scaler to persistence diagrams.\n",
      "Got the result from ./20/train/filtrations/4/HeightFiltrartion_-1_1/green/diagrams.npy\n",
      "Applying Scaler to persistence diagrams.\n",
      "Got the result from ./20/train/filtrations/4/HeightFiltrartion_-1_1/blue/diagrams.npy\n",
      "Applying Scaler to persistence diagrams.\n",
      "Applying filtration 29/72: 4/HeightFiltrartion_0_-1\n",
      "RGB images received. Transforming to grayscale.\n"
     ]
    },
    {
     "name": "stderr",
     "output_type": "stream",
     "text": [
      "rgb2gray: 100%|██████████| 50000/50000 [00:06<00:00, 7332.60it/s]\n"
     ]
    },
    {
     "name": "stdout",
     "output_type": "stream",
     "text": [
      "Got the result from ./20/train/filtrations/4/HeightFiltrartion_0_-1/gray/diagrams.npy\n",
      "Applying Scaler to persistence diagrams.\n",
      "Got the result from ./20/train/filtrations/4/HeightFiltrartion_0_-1/red/diagrams.npy\n",
      "Applying Scaler to persistence diagrams.\n",
      "Got the result from ./20/train/filtrations/4/HeightFiltrartion_0_-1/green/diagrams.npy\n",
      "Applying Scaler to persistence diagrams.\n",
      "Got the result from ./20/train/filtrations/4/HeightFiltrartion_0_-1/blue/diagrams.npy\n",
      "Applying Scaler to persistence diagrams.\n",
      "Applying filtration 30/72: 4/HeightFiltrartion_0_1\n",
      "RGB images received. Transforming to grayscale.\n"
     ]
    },
    {
     "name": "stderr",
     "output_type": "stream",
     "text": [
      "rgb2gray: 100%|██████████| 50000/50000 [00:06<00:00, 7571.05it/s]\n"
     ]
    },
    {
     "name": "stdout",
     "output_type": "stream",
     "text": [
      "Got the result from ./20/train/filtrations/4/HeightFiltrartion_0_1/gray/diagrams.npy\n",
      "Applying Scaler to persistence diagrams.\n",
      "Got the result from ./20/train/filtrations/4/HeightFiltrartion_0_1/red/diagrams.npy\n",
      "Applying Scaler to persistence diagrams.\n",
      "Got the result from ./20/train/filtrations/4/HeightFiltrartion_0_1/green/diagrams.npy\n",
      "Applying Scaler to persistence diagrams.\n",
      "Got the result from ./20/train/filtrations/4/HeightFiltrartion_0_1/blue/diagrams.npy\n",
      "Applying Scaler to persistence diagrams.\n",
      "Applying filtration 31/72: 4/HeightFiltrartion_-1_0\n",
      "RGB images received. Transforming to grayscale.\n"
     ]
    },
    {
     "name": "stderr",
     "output_type": "stream",
     "text": [
      "rgb2gray: 100%|██████████| 50000/50000 [00:06<00:00, 7372.78it/s]\n"
     ]
    },
    {
     "name": "stdout",
     "output_type": "stream",
     "text": [
      "Got the result from ./20/train/filtrations/4/HeightFiltrartion_-1_0/gray/diagrams.npy\n",
      "Applying Scaler to persistence diagrams.\n",
      "Got the result from ./20/train/filtrations/4/HeightFiltrartion_-1_0/red/diagrams.npy\n",
      "Applying Scaler to persistence diagrams.\n",
      "Got the result from ./20/train/filtrations/4/HeightFiltrartion_-1_0/green/diagrams.npy\n",
      "Applying Scaler to persistence diagrams.\n",
      "Got the result from ./20/train/filtrations/4/HeightFiltrartion_-1_0/blue/diagrams.npy\n",
      "Applying Scaler to persistence diagrams.\n",
      "Applying filtration 32/72: 4/HeightFiltrartion_1_0\n",
      "RGB images received. Transforming to grayscale.\n"
     ]
    },
    {
     "name": "stderr",
     "output_type": "stream",
     "text": [
      "rgb2gray: 100%|██████████| 50000/50000 [00:07<00:00, 6948.64it/s]\n"
     ]
    },
    {
     "name": "stdout",
     "output_type": "stream",
     "text": [
      "Got the result from ./20/train/filtrations/4/HeightFiltrartion_1_0/gray/diagrams.npy\n",
      "Applying Scaler to persistence diagrams.\n",
      "Got the result from ./20/train/filtrations/4/HeightFiltrartion_1_0/red/diagrams.npy\n",
      "Applying Scaler to persistence diagrams.\n",
      "Got the result from ./20/train/filtrations/4/HeightFiltrartion_1_0/green/diagrams.npy\n",
      "Applying Scaler to persistence diagrams.\n",
      "Got the result from ./20/train/filtrations/4/HeightFiltrartion_1_0/blue/diagrams.npy\n",
      "Applying Scaler to persistence diagrams.\n",
      "Applying filtration 33/72: 4/RadialFiltration_5_5\n",
      "RGB images received. Transforming to grayscale.\n"
     ]
    },
    {
     "name": "stderr",
     "output_type": "stream",
     "text": [
      "rgb2gray: 100%|██████████| 50000/50000 [00:06<00:00, 7143.14it/s]\n"
     ]
    },
    {
     "name": "stdout",
     "output_type": "stream",
     "text": [
      "Got the result from ./20/train/filtrations/4/RadialFiltration_5_5/gray/diagrams.npy\n",
      "Applying Scaler to persistence diagrams.\n",
      "Got the result from ./20/train/filtrations/4/RadialFiltration_5_5/red/diagrams.npy\n",
      "Applying Scaler to persistence diagrams.\n",
      "Got the result from ./20/train/filtrations/4/RadialFiltration_5_5/green/diagrams.npy\n",
      "Applying Scaler to persistence diagrams.\n",
      "Got the result from ./20/train/filtrations/4/RadialFiltration_5_5/blue/diagrams.npy\n",
      "Applying Scaler to persistence diagrams.\n",
      "Applying filtration 34/72: 4/RadialFiltration_5_12\n",
      "RGB images received. Transforming to grayscale.\n"
     ]
    },
    {
     "name": "stderr",
     "output_type": "stream",
     "text": [
      "rgb2gray: 100%|██████████| 50000/50000 [00:07<00:00, 7110.13it/s]\n"
     ]
    },
    {
     "name": "stdout",
     "output_type": "stream",
     "text": [
      "Got the result from ./20/train/filtrations/4/RadialFiltration_5_12/gray/diagrams.npy\n",
      "Applying Scaler to persistence diagrams.\n",
      "Got the result from ./20/train/filtrations/4/RadialFiltration_5_12/red/diagrams.npy\n",
      "Applying Scaler to persistence diagrams.\n",
      "Got the result from ./20/train/filtrations/4/RadialFiltration_5_12/green/diagrams.npy\n",
      "Applying Scaler to persistence diagrams.\n",
      "Got the result from ./20/train/filtrations/4/RadialFiltration_5_12/blue/diagrams.npy\n",
      "Applying Scaler to persistence diagrams.\n",
      "Applying filtration 35/72: 4/RadialFiltration_5_19\n",
      "RGB images received. Transforming to grayscale.\n"
     ]
    },
    {
     "name": "stderr",
     "output_type": "stream",
     "text": [
      "rgb2gray: 100%|██████████| 50000/50000 [00:07<00:00, 7094.60it/s]\n"
     ]
    },
    {
     "name": "stdout",
     "output_type": "stream",
     "text": [
      "Got the result from ./20/train/filtrations/4/RadialFiltration_5_19/gray/diagrams.npy\n",
      "Applying Scaler to persistence diagrams.\n",
      "Got the result from ./20/train/filtrations/4/RadialFiltration_5_19/red/diagrams.npy\n",
      "Applying Scaler to persistence diagrams.\n",
      "Got the result from ./20/train/filtrations/4/RadialFiltration_5_19/green/diagrams.npy\n",
      "Applying Scaler to persistence diagrams.\n",
      "Got the result from ./20/train/filtrations/4/RadialFiltration_5_19/blue/diagrams.npy\n",
      "Applying Scaler to persistence diagrams.\n",
      "Applying filtration 36/72: 4/RadialFiltration_5_26\n",
      "RGB images received. Transforming to grayscale.\n"
     ]
    },
    {
     "name": "stderr",
     "output_type": "stream",
     "text": [
      "rgb2gray: 100%|██████████| 50000/50000 [00:07<00:00, 7005.99it/s]\n"
     ]
    },
    {
     "name": "stdout",
     "output_type": "stream",
     "text": [
      "Got the result from ./20/train/filtrations/4/RadialFiltration_5_26/gray/diagrams.npy\n",
      "Applying Scaler to persistence diagrams.\n",
      "Got the result from ./20/train/filtrations/4/RadialFiltration_5_26/red/diagrams.npy\n",
      "Applying Scaler to persistence diagrams.\n",
      "Got the result from ./20/train/filtrations/4/RadialFiltration_5_26/green/diagrams.npy\n",
      "Applying Scaler to persistence diagrams.\n",
      "Got the result from ./20/train/filtrations/4/RadialFiltration_5_26/blue/diagrams.npy\n",
      "Applying Scaler to persistence diagrams.\n",
      "Applying filtration 37/72: 4/RadialFiltration_12_5\n",
      "RGB images received. Transforming to grayscale.\n"
     ]
    },
    {
     "name": "stderr",
     "output_type": "stream",
     "text": [
      "rgb2gray: 100%|██████████| 50000/50000 [00:07<00:00, 6706.21it/s]\n"
     ]
    },
    {
     "name": "stdout",
     "output_type": "stream",
     "text": [
      "Got the result from ./20/train/filtrations/4/RadialFiltration_12_5/gray/diagrams.npy\n",
      "Applying Scaler to persistence diagrams.\n",
      "Got the result from ./20/train/filtrations/4/RadialFiltration_12_5/red/diagrams.npy\n",
      "Applying Scaler to persistence diagrams.\n",
      "Got the result from ./20/train/filtrations/4/RadialFiltration_12_5/green/diagrams.npy\n",
      "Applying Scaler to persistence diagrams.\n",
      "Got the result from ./20/train/filtrations/4/RadialFiltration_12_5/blue/diagrams.npy\n",
      "Applying Scaler to persistence diagrams.\n",
      "Applying filtration 38/72: 4/RadialFiltration_12_12\n",
      "RGB images received. Transforming to grayscale.\n"
     ]
    },
    {
     "name": "stderr",
     "output_type": "stream",
     "text": [
      "rgb2gray: 100%|██████████| 50000/50000 [00:07<00:00, 6841.87it/s]\n"
     ]
    },
    {
     "name": "stdout",
     "output_type": "stream",
     "text": [
      "Got the result from ./20/train/filtrations/4/RadialFiltration_12_12/gray/diagrams.npy\n",
      "Applying Scaler to persistence diagrams.\n",
      "Got the result from ./20/train/filtrations/4/RadialFiltration_12_12/red/diagrams.npy\n",
      "Applying Scaler to persistence diagrams.\n",
      "Got the result from ./20/train/filtrations/4/RadialFiltration_12_12/green/diagrams.npy\n",
      "Applying Scaler to persistence diagrams.\n",
      "Got the result from ./20/train/filtrations/4/RadialFiltration_12_12/blue/diagrams.npy\n",
      "Applying Scaler to persistence diagrams.\n",
      "Applying filtration 39/72: 4/RadialFiltration_12_19\n",
      "RGB images received. Transforming to grayscale.\n"
     ]
    },
    {
     "name": "stderr",
     "output_type": "stream",
     "text": [
      "rgb2gray: 100%|██████████| 50000/50000 [00:08<00:00, 6180.08it/s]\n"
     ]
    },
    {
     "name": "stdout",
     "output_type": "stream",
     "text": [
      "Got the result from ./20/train/filtrations/4/RadialFiltration_12_19/gray/diagrams.npy\n",
      "Applying Scaler to persistence diagrams.\n",
      "Got the result from ./20/train/filtrations/4/RadialFiltration_12_19/red/diagrams.npy\n",
      "Applying Scaler to persistence diagrams.\n",
      "Got the result from ./20/train/filtrations/4/RadialFiltration_12_19/green/diagrams.npy\n",
      "Applying Scaler to persistence diagrams.\n",
      "Got the result from ./20/train/filtrations/4/RadialFiltration_12_19/blue/diagrams.npy\n",
      "Applying Scaler to persistence diagrams.\n",
      "Applying filtration 40/72: 4/RadialFiltration_12_26\n",
      "RGB images received. Transforming to grayscale.\n"
     ]
    },
    {
     "name": "stderr",
     "output_type": "stream",
     "text": [
      "rgb2gray: 100%|██████████| 50000/50000 [00:07<00:00, 6290.16it/s]\n"
     ]
    },
    {
     "name": "stdout",
     "output_type": "stream",
     "text": [
      "Got the result from ./20/train/filtrations/4/RadialFiltration_12_26/gray/diagrams.npy\n",
      "Applying Scaler to persistence diagrams.\n",
      "Got the result from ./20/train/filtrations/4/RadialFiltration_12_26/red/diagrams.npy\n",
      "Applying Scaler to persistence diagrams.\n",
      "Got the result from ./20/train/filtrations/4/RadialFiltration_12_26/green/diagrams.npy\n",
      "Applying Scaler to persistence diagrams.\n",
      "Got the result from ./20/train/filtrations/4/RadialFiltration_12_26/blue/diagrams.npy\n",
      "Applying Scaler to persistence diagrams.\n",
      "Applying filtration 41/72: 4/RadialFiltration_19_5\n",
      "RGB images received. Transforming to grayscale.\n"
     ]
    },
    {
     "name": "stderr",
     "output_type": "stream",
     "text": [
      "rgb2gray: 100%|██████████| 50000/50000 [00:08<00:00, 5939.16it/s]\n"
     ]
    },
    {
     "name": "stdout",
     "output_type": "stream",
     "text": [
      "Got the result from ./20/train/filtrations/4/RadialFiltration_19_5/gray/diagrams.npy\n",
      "Applying Scaler to persistence diagrams.\n",
      "Got the result from ./20/train/filtrations/4/RadialFiltration_19_5/red/diagrams.npy\n",
      "Applying Scaler to persistence diagrams.\n",
      "Got the result from ./20/train/filtrations/4/RadialFiltration_19_5/green/diagrams.npy\n",
      "Applying Scaler to persistence diagrams.\n",
      "Got the result from ./20/train/filtrations/4/RadialFiltration_19_5/blue/diagrams.npy\n",
      "Applying Scaler to persistence diagrams.\n",
      "Applying filtration 42/72: 4/RadialFiltration_19_12\n",
      "RGB images received. Transforming to grayscale.\n"
     ]
    },
    {
     "name": "stderr",
     "output_type": "stream",
     "text": [
      "rgb2gray: 100%|██████████| 50000/50000 [00:07<00:00, 6295.01it/s]\n"
     ]
    },
    {
     "name": "stdout",
     "output_type": "stream",
     "text": [
      "Got the result from ./20/train/filtrations/4/RadialFiltration_19_12/gray/diagrams.npy\n",
      "Applying Scaler to persistence diagrams.\n",
      "Got the result from ./20/train/filtrations/4/RadialFiltration_19_12/red/diagrams.npy\n",
      "Applying Scaler to persistence diagrams.\n",
      "Got the result from ./20/train/filtrations/4/RadialFiltration_19_12/green/diagrams.npy\n",
      "Applying Scaler to persistence diagrams.\n",
      "Got the result from ./20/train/filtrations/4/RadialFiltration_19_12/blue/diagrams.npy\n",
      "Applying Scaler to persistence diagrams.\n",
      "Applying filtration 43/72: 4/RadialFiltration_19_19\n",
      "RGB images received. Transforming to grayscale.\n"
     ]
    },
    {
     "name": "stderr",
     "output_type": "stream",
     "text": [
      "rgb2gray: 100%|██████████| 50000/50000 [00:08<00:00, 5911.13it/s]\n"
     ]
    },
    {
     "name": "stdout",
     "output_type": "stream",
     "text": [
      "Got the result from ./20/train/filtrations/4/RadialFiltration_19_19/gray/diagrams.npy\n",
      "Applying Scaler to persistence diagrams.\n",
      "Got the result from ./20/train/filtrations/4/RadialFiltration_19_19/red/diagrams.npy\n",
      "Applying Scaler to persistence diagrams.\n",
      "Got the result from ./20/train/filtrations/4/RadialFiltration_19_19/green/diagrams.npy\n",
      "Applying Scaler to persistence diagrams.\n",
      "Got the result from ./20/train/filtrations/4/RadialFiltration_19_19/blue/diagrams.npy\n",
      "Applying Scaler to persistence diagrams.\n",
      "Applying filtration 44/72: 4/RadialFiltration_19_26\n",
      "RGB images received. Transforming to grayscale.\n"
     ]
    },
    {
     "name": "stderr",
     "output_type": "stream",
     "text": [
      "rgb2gray: 100%|██████████| 50000/50000 [00:09<00:00, 5170.02it/s]\n"
     ]
    },
    {
     "name": "stdout",
     "output_type": "stream",
     "text": [
      "Got the result from ./20/train/filtrations/4/RadialFiltration_19_26/gray/diagrams.npy\n",
      "Applying Scaler to persistence diagrams.\n",
      "Got the result from ./20/train/filtrations/4/RadialFiltration_19_26/red/diagrams.npy\n",
      "Applying Scaler to persistence diagrams.\n",
      "Got the result from ./20/train/filtrations/4/RadialFiltration_19_26/green/diagrams.npy\n",
      "Applying Scaler to persistence diagrams.\n",
      "Got the result from ./20/train/filtrations/4/RadialFiltration_19_26/blue/diagrams.npy\n",
      "Applying Scaler to persistence diagrams.\n",
      "Applying filtration 45/72: 4/RadialFiltration_26_5\n",
      "RGB images received. Transforming to grayscale.\n"
     ]
    },
    {
     "name": "stderr",
     "output_type": "stream",
     "text": [
      "rgb2gray: 100%|██████████| 50000/50000 [00:08<00:00, 5643.43it/s]\n"
     ]
    },
    {
     "name": "stdout",
     "output_type": "stream",
     "text": [
      "Got the result from ./20/train/filtrations/4/RadialFiltration_26_5/gray/diagrams.npy\n",
      "Applying Scaler to persistence diagrams.\n",
      "Got the result from ./20/train/filtrations/4/RadialFiltration_26_5/red/diagrams.npy\n",
      "Applying Scaler to persistence diagrams.\n",
      "Got the result from ./20/train/filtrations/4/RadialFiltration_26_5/green/diagrams.npy\n",
      "Applying Scaler to persistence diagrams.\n",
      "Got the result from ./20/train/filtrations/4/RadialFiltration_26_5/blue/diagrams.npy\n",
      "Applying Scaler to persistence diagrams.\n",
      "Applying filtration 46/72: 4/RadialFiltration_26_12\n",
      "RGB images received. Transforming to grayscale.\n"
     ]
    },
    {
     "name": "stderr",
     "output_type": "stream",
     "text": [
      "rgb2gray: 100%|██████████| 50000/50000 [00:08<00:00, 5775.33it/s]\n"
     ]
    },
    {
     "name": "stdout",
     "output_type": "stream",
     "text": [
      "Got the result from ./20/train/filtrations/4/RadialFiltration_26_12/gray/diagrams.npy\n",
      "Applying Scaler to persistence diagrams.\n",
      "Got the result from ./20/train/filtrations/4/RadialFiltration_26_12/red/diagrams.npy\n",
      "Applying Scaler to persistence diagrams.\n",
      "Got the result from ./20/train/filtrations/4/RadialFiltration_26_12/green/diagrams.npy\n",
      "Applying Scaler to persistence diagrams.\n",
      "Got the result from ./20/train/filtrations/4/RadialFiltration_26_12/blue/diagrams.npy\n",
      "Applying Scaler to persistence diagrams.\n",
      "Applying filtration 47/72: 4/RadialFiltration_26_19\n",
      "RGB images received. Transforming to grayscale.\n"
     ]
    },
    {
     "name": "stderr",
     "output_type": "stream",
     "text": [
      "rgb2gray: 100%|██████████| 50000/50000 [00:08<00:00, 5825.18it/s]\n"
     ]
    },
    {
     "name": "stdout",
     "output_type": "stream",
     "text": [
      "Got the result from ./20/train/filtrations/4/RadialFiltration_26_19/gray/diagrams.npy\n",
      "Applying Scaler to persistence diagrams.\n",
      "Got the result from ./20/train/filtrations/4/RadialFiltration_26_19/red/diagrams.npy\n",
      "Applying Scaler to persistence diagrams.\n",
      "Got the result from ./20/train/filtrations/4/RadialFiltration_26_19/green/diagrams.npy\n",
      "Applying Scaler to persistence diagrams.\n",
      "Got the result from ./20/train/filtrations/4/RadialFiltration_26_19/blue/diagrams.npy\n",
      "Applying Scaler to persistence diagrams.\n",
      "Applying filtration 48/72: 4/RadialFiltration_26_26\n",
      "RGB images received. Transforming to grayscale.\n"
     ]
    },
    {
     "name": "stderr",
     "output_type": "stream",
     "text": [
      "rgb2gray: 100%|██████████| 50000/50000 [00:09<00:00, 5433.09it/s]\n"
     ]
    },
    {
     "name": "stdout",
     "output_type": "stream",
     "text": [
      "Got the result from ./20/train/filtrations/4/RadialFiltration_26_26/gray/diagrams.npy\n",
      "Applying Scaler to persistence diagrams.\n",
      "Got the result from ./20/train/filtrations/4/RadialFiltration_26_26/red/diagrams.npy\n",
      "Applying Scaler to persistence diagrams.\n",
      "Got the result from ./20/train/filtrations/4/RadialFiltration_26_26/green/diagrams.npy\n",
      "Applying Scaler to persistence diagrams.\n",
      "Got the result from ./20/train/filtrations/4/RadialFiltration_26_26/blue/diagrams.npy\n",
      "Applying Scaler to persistence diagrams.\n",
      "Applying filtration 49/72: 6/HeightFiltrartion_-1_-1\n",
      "RGB images received. Transforming to grayscale.\n"
     ]
    },
    {
     "name": "stderr",
     "output_type": "stream",
     "text": [
      "rgb2gray: 100%|██████████| 50000/50000 [00:09<00:00, 5404.58it/s]\n"
     ]
    },
    {
     "name": "stdout",
     "output_type": "stream",
     "text": [
      "Got the result from ./20/train/filtrations/6/HeightFiltrartion_-1_-1/gray/diagrams.npy\n",
      "Applying Scaler to persistence diagrams.\n",
      "Got the result from ./20/train/filtrations/6/HeightFiltrartion_-1_-1/red/diagrams.npy\n",
      "Applying Scaler to persistence diagrams.\n",
      "Got the result from ./20/train/filtrations/6/HeightFiltrartion_-1_-1/green/diagrams.npy\n",
      "Applying Scaler to persistence diagrams.\n",
      "Got the result from ./20/train/filtrations/6/HeightFiltrartion_-1_-1/blue/diagrams.npy\n",
      "Applying Scaler to persistence diagrams.\n",
      "Applying filtration 50/72: 6/HeightFiltrartion_1_1\n",
      "RGB images received. Transforming to grayscale.\n"
     ]
    },
    {
     "name": "stderr",
     "output_type": "stream",
     "text": [
      "rgb2gray: 100%|██████████| 50000/50000 [00:08<00:00, 5645.08it/s]\n"
     ]
    },
    {
     "name": "stdout",
     "output_type": "stream",
     "text": [
      "Got the result from ./20/train/filtrations/6/HeightFiltrartion_1_1/gray/diagrams.npy\n",
      "Applying Scaler to persistence diagrams.\n",
      "Got the result from ./20/train/filtrations/6/HeightFiltrartion_1_1/red/diagrams.npy\n",
      "Applying Scaler to persistence diagrams.\n",
      "Got the result from ./20/train/filtrations/6/HeightFiltrartion_1_1/green/diagrams.npy\n",
      "Applying Scaler to persistence diagrams.\n",
      "Got the result from ./20/train/filtrations/6/HeightFiltrartion_1_1/blue/diagrams.npy\n",
      "Applying Scaler to persistence diagrams.\n",
      "Applying filtration 51/72: 6/HeightFiltrartion_1_-1\n",
      "RGB images received. Transforming to grayscale.\n"
     ]
    },
    {
     "name": "stderr",
     "output_type": "stream",
     "text": [
      "rgb2gray: 100%|██████████| 50000/50000 [00:09<00:00, 5358.16it/s]\n"
     ]
    },
    {
     "name": "stdout",
     "output_type": "stream",
     "text": [
      "Got the result from ./20/train/filtrations/6/HeightFiltrartion_1_-1/gray/diagrams.npy\n",
      "Applying Scaler to persistence diagrams.\n",
      "Got the result from ./20/train/filtrations/6/HeightFiltrartion_1_-1/red/diagrams.npy\n",
      "Applying Scaler to persistence diagrams.\n",
      "Got the result from ./20/train/filtrations/6/HeightFiltrartion_1_-1/green/diagrams.npy\n",
      "Applying Scaler to persistence diagrams.\n",
      "Got the result from ./20/train/filtrations/6/HeightFiltrartion_1_-1/blue/diagrams.npy\n",
      "Applying Scaler to persistence diagrams.\n",
      "Applying filtration 52/72: 6/HeightFiltrartion_-1_1\n",
      "RGB images received. Transforming to grayscale.\n"
     ]
    },
    {
     "name": "stderr",
     "output_type": "stream",
     "text": [
      "rgb2gray: 100%|██████████| 50000/50000 [00:09<00:00, 5295.46it/s]\n"
     ]
    },
    {
     "name": "stdout",
     "output_type": "stream",
     "text": [
      "Got the result from ./20/train/filtrations/6/HeightFiltrartion_-1_1/gray/diagrams.npy\n",
      "Applying Scaler to persistence diagrams.\n",
      "Got the result from ./20/train/filtrations/6/HeightFiltrartion_-1_1/red/diagrams.npy\n",
      "Applying Scaler to persistence diagrams.\n",
      "Got the result from ./20/train/filtrations/6/HeightFiltrartion_-1_1/green/diagrams.npy\n",
      "Applying Scaler to persistence diagrams.\n",
      "Got the result from ./20/train/filtrations/6/HeightFiltrartion_-1_1/blue/diagrams.npy\n",
      "Applying Scaler to persistence diagrams.\n",
      "Applying filtration 53/72: 6/HeightFiltrartion_0_-1\n",
      "RGB images received. Transforming to grayscale.\n"
     ]
    },
    {
     "name": "stderr",
     "output_type": "stream",
     "text": [
      "rgb2gray: 100%|██████████| 50000/50000 [00:09<00:00, 5034.57it/s]\n"
     ]
    },
    {
     "name": "stdout",
     "output_type": "stream",
     "text": [
      "Got the result from ./20/train/filtrations/6/HeightFiltrartion_0_-1/gray/diagrams.npy\n",
      "Applying Scaler to persistence diagrams.\n",
      "Got the result from ./20/train/filtrations/6/HeightFiltrartion_0_-1/red/diagrams.npy\n",
      "Applying Scaler to persistence diagrams.\n",
      "Got the result from ./20/train/filtrations/6/HeightFiltrartion_0_-1/green/diagrams.npy\n",
      "Applying Scaler to persistence diagrams.\n",
      "Got the result from ./20/train/filtrations/6/HeightFiltrartion_0_-1/blue/diagrams.npy\n",
      "Applying Scaler to persistence diagrams.\n",
      "Applying filtration 54/72: 6/HeightFiltrartion_0_1\n",
      "RGB images received. Transforming to grayscale.\n"
     ]
    },
    {
     "name": "stderr",
     "output_type": "stream",
     "text": [
      "rgb2gray: 100%|██████████| 50000/50000 [00:09<00:00, 5116.87it/s]\n"
     ]
    },
    {
     "name": "stdout",
     "output_type": "stream",
     "text": [
      "Got the result from ./20/train/filtrations/6/HeightFiltrartion_0_1/gray/diagrams.npy\n",
      "Applying Scaler to persistence diagrams.\n",
      "Got the result from ./20/train/filtrations/6/HeightFiltrartion_0_1/red/diagrams.npy\n",
      "Applying Scaler to persistence diagrams.\n",
      "Got the result from ./20/train/filtrations/6/HeightFiltrartion_0_1/green/diagrams.npy\n",
      "Applying Scaler to persistence diagrams.\n",
      "Got the result from ./20/train/filtrations/6/HeightFiltrartion_0_1/blue/diagrams.npy\n",
      "Applying Scaler to persistence diagrams.\n",
      "Applying filtration 55/72: 6/HeightFiltrartion_-1_0\n",
      "RGB images received. Transforming to grayscale.\n"
     ]
    },
    {
     "name": "stderr",
     "output_type": "stream",
     "text": [
      "rgb2gray: 100%|██████████| 50000/50000 [00:09<00:00, 5019.93it/s]\n"
     ]
    },
    {
     "name": "stdout",
     "output_type": "stream",
     "text": [
      "Got the result from ./20/train/filtrations/6/HeightFiltrartion_-1_0/gray/diagrams.npy\n",
      "Applying Scaler to persistence diagrams.\n",
      "Got the result from ./20/train/filtrations/6/HeightFiltrartion_-1_0/red/diagrams.npy\n",
      "Applying Scaler to persistence diagrams.\n",
      "Got the result from ./20/train/filtrations/6/HeightFiltrartion_-1_0/green/diagrams.npy\n",
      "Applying Scaler to persistence diagrams.\n",
      "Got the result from ./20/train/filtrations/6/HeightFiltrartion_-1_0/blue/diagrams.npy\n",
      "Applying Scaler to persistence diagrams.\n",
      "Applying filtration 56/72: 6/HeightFiltrartion_1_0\n",
      "RGB images received. Transforming to grayscale.\n"
     ]
    },
    {
     "name": "stderr",
     "output_type": "stream",
     "text": [
      "rgb2gray: 100%|██████████| 50000/50000 [00:10<00:00, 4685.55it/s]\n"
     ]
    },
    {
     "name": "stdout",
     "output_type": "stream",
     "text": [
      "Got the result from ./20/train/filtrations/6/HeightFiltrartion_1_0/gray/diagrams.npy\n",
      "Applying Scaler to persistence diagrams.\n",
      "Got the result from ./20/train/filtrations/6/HeightFiltrartion_1_0/red/diagrams.npy\n",
      "Applying Scaler to persistence diagrams.\n",
      "Got the result from ./20/train/filtrations/6/HeightFiltrartion_1_0/green/diagrams.npy\n",
      "Applying Scaler to persistence diagrams.\n",
      "Got the result from ./20/train/filtrations/6/HeightFiltrartion_1_0/blue/diagrams.npy\n",
      "Applying Scaler to persistence diagrams.\n",
      "Applying filtration 57/72: 6/RadialFiltration_5_5\n",
      "RGB images received. Transforming to grayscale.\n"
     ]
    },
    {
     "name": "stderr",
     "output_type": "stream",
     "text": [
      "rgb2gray: 100%|██████████| 50000/50000 [00:10<00:00, 4756.70it/s]\n"
     ]
    },
    {
     "name": "stdout",
     "output_type": "stream",
     "text": [
      "Got the result from ./20/train/filtrations/6/RadialFiltration_5_5/gray/diagrams.npy\n",
      "Applying Scaler to persistence diagrams.\n",
      "Got the result from ./20/train/filtrations/6/RadialFiltration_5_5/red/diagrams.npy\n",
      "Applying Scaler to persistence diagrams.\n",
      "Got the result from ./20/train/filtrations/6/RadialFiltration_5_5/green/diagrams.npy\n",
      "Applying Scaler to persistence diagrams.\n",
      "Got the result from ./20/train/filtrations/6/RadialFiltration_5_5/blue/diagrams.npy\n",
      "Applying Scaler to persistence diagrams.\n",
      "Applying filtration 58/72: 6/RadialFiltration_5_12\n",
      "RGB images received. Transforming to grayscale.\n"
     ]
    },
    {
     "name": "stderr",
     "output_type": "stream",
     "text": [
      "rgb2gray: 100%|██████████| 50000/50000 [00:10<00:00, 4578.82it/s]\n"
     ]
    },
    {
     "name": "stdout",
     "output_type": "stream",
     "text": [
      "Got the result from ./20/train/filtrations/6/RadialFiltration_5_12/gray/diagrams.npy\n",
      "Applying Scaler to persistence diagrams.\n",
      "Got the result from ./20/train/filtrations/6/RadialFiltration_5_12/red/diagrams.npy\n",
      "Applying Scaler to persistence diagrams.\n",
      "Got the result from ./20/train/filtrations/6/RadialFiltration_5_12/green/diagrams.npy\n",
      "Applying Scaler to persistence diagrams.\n",
      "Got the result from ./20/train/filtrations/6/RadialFiltration_5_12/blue/diagrams.npy\n",
      "Applying Scaler to persistence diagrams.\n",
      "Applying filtration 59/72: 6/RadialFiltration_5_19\n",
      "RGB images received. Transforming to grayscale.\n"
     ]
    },
    {
     "name": "stderr",
     "output_type": "stream",
     "text": [
      "rgb2gray: 100%|██████████| 50000/50000 [00:10<00:00, 4649.64it/s]\n"
     ]
    },
    {
     "name": "stdout",
     "output_type": "stream",
     "text": [
      "Got the result from ./20/train/filtrations/6/RadialFiltration_5_19/gray/diagrams.npy\n",
      "Applying Scaler to persistence diagrams.\n",
      "Got the result from ./20/train/filtrations/6/RadialFiltration_5_19/red/diagrams.npy\n",
      "Applying Scaler to persistence diagrams.\n",
      "Got the result from ./20/train/filtrations/6/RadialFiltration_5_19/green/diagrams.npy\n",
      "Applying Scaler to persistence diagrams.\n",
      "Got the result from ./20/train/filtrations/6/RadialFiltration_5_19/blue/diagrams.npy\n",
      "Applying Scaler to persistence diagrams.\n",
      "Applying filtration 60/72: 6/RadialFiltration_5_26\n",
      "RGB images received. Transforming to grayscale.\n"
     ]
    },
    {
     "name": "stderr",
     "output_type": "stream",
     "text": [
      "rgb2gray: 100%|██████████| 50000/50000 [00:10<00:00, 4750.06it/s]\n"
     ]
    },
    {
     "name": "stdout",
     "output_type": "stream",
     "text": [
      "Got the result from ./20/train/filtrations/6/RadialFiltration_5_26/gray/diagrams.npy\n",
      "Applying Scaler to persistence diagrams.\n",
      "Got the result from ./20/train/filtrations/6/RadialFiltration_5_26/red/diagrams.npy\n",
      "Applying Scaler to persistence diagrams.\n",
      "Got the result from ./20/train/filtrations/6/RadialFiltration_5_26/green/diagrams.npy\n",
      "Applying Scaler to persistence diagrams.\n",
      "Got the result from ./20/train/filtrations/6/RadialFiltration_5_26/blue/diagrams.npy\n",
      "Applying Scaler to persistence diagrams.\n",
      "Applying filtration 61/72: 6/RadialFiltration_12_5\n",
      "RGB images received. Transforming to grayscale.\n"
     ]
    },
    {
     "name": "stderr",
     "output_type": "stream",
     "text": [
      "rgb2gray: 100%|██████████| 50000/50000 [00:11<00:00, 4403.57it/s]\n"
     ]
    },
    {
     "name": "stdout",
     "output_type": "stream",
     "text": [
      "Got the result from ./20/train/filtrations/6/RadialFiltration_12_5/gray/diagrams.npy\n",
      "Applying Scaler to persistence diagrams.\n",
      "Got the result from ./20/train/filtrations/6/RadialFiltration_12_5/red/diagrams.npy\n",
      "Applying Scaler to persistence diagrams.\n",
      "Got the result from ./20/train/filtrations/6/RadialFiltration_12_5/green/diagrams.npy\n",
      "Applying Scaler to persistence diagrams.\n",
      "Got the result from ./20/train/filtrations/6/RadialFiltration_12_5/blue/diagrams.npy\n",
      "Applying Scaler to persistence diagrams.\n",
      "Applying filtration 62/72: 6/RadialFiltration_12_12\n",
      "RGB images received. Transforming to grayscale.\n"
     ]
    },
    {
     "name": "stderr",
     "output_type": "stream",
     "text": [
      "rgb2gray: 100%|██████████| 50000/50000 [00:11<00:00, 4515.37it/s]\n"
     ]
    },
    {
     "name": "stdout",
     "output_type": "stream",
     "text": [
      "Got the result from ./20/train/filtrations/6/RadialFiltration_12_12/gray/diagrams.npy\n",
      "Applying Scaler to persistence diagrams.\n",
      "Got the result from ./20/train/filtrations/6/RadialFiltration_12_12/red/diagrams.npy\n",
      "Applying Scaler to persistence diagrams.\n",
      "Got the result from ./20/train/filtrations/6/RadialFiltration_12_12/green/diagrams.npy\n",
      "Applying Scaler to persistence diagrams.\n",
      "Got the result from ./20/train/filtrations/6/RadialFiltration_12_12/blue/diagrams.npy\n",
      "Applying Scaler to persistence diagrams.\n",
      "Applying filtration 63/72: 6/RadialFiltration_12_19\n",
      "RGB images received. Transforming to grayscale.\n"
     ]
    },
    {
     "name": "stderr",
     "output_type": "stream",
     "text": [
      "rgb2gray: 100%|██████████| 50000/50000 [00:10<00:00, 4758.82it/s]\n"
     ]
    },
    {
     "name": "stdout",
     "output_type": "stream",
     "text": [
      "Got the result from ./20/train/filtrations/6/RadialFiltration_12_19/gray/diagrams.npy\n",
      "Applying Scaler to persistence diagrams.\n",
      "Got the result from ./20/train/filtrations/6/RadialFiltration_12_19/red/diagrams.npy\n",
      "Applying Scaler to persistence diagrams.\n",
      "Got the result from ./20/train/filtrations/6/RadialFiltration_12_19/green/diagrams.npy\n",
      "Applying Scaler to persistence diagrams.\n",
      "Got the result from ./20/train/filtrations/6/RadialFiltration_12_19/blue/diagrams.npy\n",
      "Applying Scaler to persistence diagrams.\n",
      "Applying filtration 64/72: 6/RadialFiltration_12_26\n",
      "RGB images received. Transforming to grayscale.\n"
     ]
    },
    {
     "name": "stderr",
     "output_type": "stream",
     "text": [
      "rgb2gray: 100%|██████████| 50000/50000 [00:10<00:00, 4604.84it/s]\n"
     ]
    },
    {
     "name": "stdout",
     "output_type": "stream",
     "text": [
      "Got the result from ./20/train/filtrations/6/RadialFiltration_12_26/gray/diagrams.npy\n",
      "Applying Scaler to persistence diagrams.\n",
      "Got the result from ./20/train/filtrations/6/RadialFiltration_12_26/red/diagrams.npy\n",
      "Applying Scaler to persistence diagrams.\n",
      "Got the result from ./20/train/filtrations/6/RadialFiltration_12_26/green/diagrams.npy\n",
      "Applying Scaler to persistence diagrams.\n",
      "Got the result from ./20/train/filtrations/6/RadialFiltration_12_26/blue/diagrams.npy\n",
      "Applying Scaler to persistence diagrams.\n",
      "Applying filtration 65/72: 6/RadialFiltration_19_5\n",
      "RGB images received. Transforming to grayscale.\n"
     ]
    },
    {
     "name": "stderr",
     "output_type": "stream",
     "text": [
      "rgb2gray: 100%|██████████| 50000/50000 [00:11<00:00, 4521.38it/s]\n"
     ]
    },
    {
     "name": "stdout",
     "output_type": "stream",
     "text": [
      "Got the result from ./20/train/filtrations/6/RadialFiltration_19_5/gray/diagrams.npy\n",
      "Applying Scaler to persistence diagrams.\n",
      "Got the result from ./20/train/filtrations/6/RadialFiltration_19_5/red/diagrams.npy\n",
      "Applying Scaler to persistence diagrams.\n",
      "Got the result from ./20/train/filtrations/6/RadialFiltration_19_5/green/diagrams.npy\n",
      "Applying Scaler to persistence diagrams.\n",
      "Got the result from ./20/train/filtrations/6/RadialFiltration_19_5/blue/diagrams.npy\n",
      "Applying Scaler to persistence diagrams.\n",
      "Applying filtration 66/72: 6/RadialFiltration_19_12\n",
      "RGB images received. Transforming to grayscale.\n"
     ]
    },
    {
     "name": "stderr",
     "output_type": "stream",
     "text": [
      "rgb2gray: 100%|██████████| 50000/50000 [00:11<00:00, 4268.97it/s]\n"
     ]
    },
    {
     "name": "stdout",
     "output_type": "stream",
     "text": [
      "Got the result from ./20/train/filtrations/6/RadialFiltration_19_12/gray/diagrams.npy\n",
      "Applying Scaler to persistence diagrams.\n",
      "Got the result from ./20/train/filtrations/6/RadialFiltration_19_12/red/diagrams.npy\n",
      "Applying Scaler to persistence diagrams.\n",
      "Got the result from ./20/train/filtrations/6/RadialFiltration_19_12/green/diagrams.npy\n",
      "Applying Scaler to persistence diagrams.\n",
      "Got the result from ./20/train/filtrations/6/RadialFiltration_19_12/blue/diagrams.npy\n",
      "Applying Scaler to persistence diagrams.\n",
      "Applying filtration 67/72: 6/RadialFiltration_19_19\n",
      "RGB images received. Transforming to grayscale.\n"
     ]
    },
    {
     "name": "stderr",
     "output_type": "stream",
     "text": [
      "rgb2gray: 100%|██████████| 50000/50000 [00:11<00:00, 4344.98it/s]\n"
     ]
    },
    {
     "name": "stdout",
     "output_type": "stream",
     "text": [
      "Got the result from ./20/train/filtrations/6/RadialFiltration_19_19/gray/diagrams.npy\n",
      "Applying Scaler to persistence diagrams.\n",
      "Got the result from ./20/train/filtrations/6/RadialFiltration_19_19/red/diagrams.npy\n",
      "Applying Scaler to persistence diagrams.\n",
      "Got the result from ./20/train/filtrations/6/RadialFiltration_19_19/green/diagrams.npy\n",
      "Applying Scaler to persistence diagrams.\n",
      "Got the result from ./20/train/filtrations/6/RadialFiltration_19_19/blue/diagrams.npy\n",
      "Applying Scaler to persistence diagrams.\n",
      "Applying filtration 68/72: 6/RadialFiltration_19_26\n",
      "RGB images received. Transforming to grayscale.\n"
     ]
    },
    {
     "name": "stderr",
     "output_type": "stream",
     "text": [
      "rgb2gray: 100%|██████████| 50000/50000 [00:14<00:00, 3565.58it/s]\n"
     ]
    },
    {
     "name": "stdout",
     "output_type": "stream",
     "text": [
      "Got the result from ./20/train/filtrations/6/RadialFiltration_19_26/gray/diagrams.npy\n",
      "Applying Scaler to persistence diagrams.\n",
      "Got the result from ./20/train/filtrations/6/RadialFiltration_19_26/red/diagrams.npy\n",
      "Applying Scaler to persistence diagrams.\n",
      "Got the result from ./20/train/filtrations/6/RadialFiltration_19_26/green/diagrams.npy\n",
      "Applying Scaler to persistence diagrams.\n",
      "Got the result from ./20/train/filtrations/6/RadialFiltration_19_26/blue/diagrams.npy\n",
      "Applying Scaler to persistence diagrams.\n",
      "Applying filtration 69/72: 6/RadialFiltration_26_5\n",
      "RGB images received. Transforming to grayscale.\n"
     ]
    },
    {
     "name": "stderr",
     "output_type": "stream",
     "text": [
      "rgb2gray: 100%|██████████| 50000/50000 [00:13<00:00, 3737.83it/s]\n"
     ]
    },
    {
     "name": "stdout",
     "output_type": "stream",
     "text": [
      "Got the result from ./20/train/filtrations/6/RadialFiltration_26_5/gray/diagrams.npy\n",
      "Applying Scaler to persistence diagrams.\n",
      "Got the result from ./20/train/filtrations/6/RadialFiltration_26_5/red/diagrams.npy\n",
      "Applying Scaler to persistence diagrams.\n",
      "Got the result from ./20/train/filtrations/6/RadialFiltration_26_5/green/diagrams.npy\n",
      "Applying Scaler to persistence diagrams.\n",
      "Got the result from ./20/train/filtrations/6/RadialFiltration_26_5/blue/diagrams.npy\n",
      "Applying Scaler to persistence diagrams.\n",
      "Applying filtration 70/72: 6/RadialFiltration_26_12\n",
      "RGB images received. Transforming to grayscale.\n"
     ]
    },
    {
     "name": "stderr",
     "output_type": "stream",
     "text": [
      "rgb2gray: 100%|██████████| 50000/50000 [00:13<00:00, 3706.19it/s]\n"
     ]
    },
    {
     "name": "stdout",
     "output_type": "stream",
     "text": [
      "Got the result from ./20/train/filtrations/6/RadialFiltration_26_12/gray/diagrams.npy\n",
      "Applying Scaler to persistence diagrams.\n",
      "Got the result from ./20/train/filtrations/6/RadialFiltration_26_12/red/diagrams.npy\n",
      "Applying Scaler to persistence diagrams.\n",
      "Got the result from ./20/train/filtrations/6/RadialFiltration_26_12/green/diagrams.npy\n",
      "Applying Scaler to persistence diagrams.\n",
      "Got the result from ./20/train/filtrations/6/RadialFiltration_26_12/blue/diagrams.npy\n",
      "Applying Scaler to persistence diagrams.\n",
      "Applying filtration 71/72: 6/RadialFiltration_26_19\n",
      "RGB images received. Transforming to grayscale.\n"
     ]
    },
    {
     "name": "stderr",
     "output_type": "stream",
     "text": [
      "rgb2gray: 100%|██████████| 50000/50000 [00:13<00:00, 3578.56it/s]\n"
     ]
    },
    {
     "name": "stdout",
     "output_type": "stream",
     "text": [
      "Got the result from ./20/train/filtrations/6/RadialFiltration_26_19/gray/diagrams.npy\n",
      "Applying Scaler to persistence diagrams.\n",
      "Got the result from ./20/train/filtrations/6/RadialFiltration_26_19/red/diagrams.npy\n",
      "Applying Scaler to persistence diagrams.\n",
      "Got the result from ./20/train/filtrations/6/RadialFiltration_26_19/green/diagrams.npy\n",
      "Applying Scaler to persistence diagrams.\n",
      "Got the result from ./20/train/filtrations/6/RadialFiltration_26_19/blue/diagrams.npy\n",
      "Applying Scaler to persistence diagrams.\n",
      "Applying filtration 72/72: 6/RadialFiltration_26_26\n",
      "RGB images received. Transforming to grayscale.\n"
     ]
    },
    {
     "name": "stderr",
     "output_type": "stream",
     "text": [
      "rgb2gray: 100%|██████████| 50000/50000 [00:13<00:00, 3618.43it/s]\n"
     ]
    },
    {
     "name": "stdout",
     "output_type": "stream",
     "text": [
      "Got the result from ./20/train/filtrations/6/RadialFiltration_26_26/gray/diagrams.npy\n",
      "Applying Scaler to persistence diagrams.\n",
      "Got the result from ./20/train/filtrations/6/RadialFiltration_26_26/red/diagrams.npy\n",
      "Applying Scaler to persistence diagrams.\n",
      "Got the result from ./20/train/filtrations/6/RadialFiltration_26_26/green/diagrams.npy\n",
      "Applying Scaler to persistence diagrams.\n",
      "Got the result from ./20/train/filtrations/6/RadialFiltration_26_26/blue/diagrams.npy\n",
      "Applying Scaler to persistence diagrams.\n",
      "Diagrams requested. Returning diagrams.\n",
      "Calculating inverted images\n",
      "RGB images received. Transforming to grayscale.\n"
     ]
    },
    {
     "name": "stderr",
     "output_type": "stream",
     "text": [
      "rgb2gray: 100%|██████████| 10000/10000 [00:02<00:00, 3472.33it/s]\n"
     ]
    },
    {
     "name": "stdout",
     "output_type": "stream",
     "text": [
      "Got the result from ./20/test/greyscale/gray/diagrams.npy\n",
      "Applying Scaler to persistence diagrams.\n",
      "Got the result from ./20/test/greyscale/red/diagrams.npy\n",
      "Applying Scaler to persistence diagrams.\n",
      "Got the result from ./20/test/greyscale/green/diagrams.npy\n",
      "Applying Scaler to persistence diagrams.\n",
      "Got the result from ./20/test/greyscale/blue/diagrams.npy\n",
      "Applying Scaler to persistence diagrams.\n",
      "RGB images received. Transforming to grayscale.\n"
     ]
    },
    {
     "name": "stderr",
     "output_type": "stream",
     "text": [
      "rgb2gray: 100%|██████████| 10000/10000 [00:02<00:00, 3823.29it/s]\n"
     ]
    },
    {
     "name": "stdout",
     "output_type": "stream",
     "text": [
      "Got the result from ./20/test/inverted_greyscale/gray/diagrams.npy\n",
      "Applying Scaler to persistence diagrams.\n",
      "Got the result from ./20/test/inverted_greyscale/red/diagrams.npy\n",
      "Applying Scaler to persistence diagrams.\n",
      "Got the result from ./20/test/inverted_greyscale/green/diagrams.npy\n",
      "Applying Scaler to persistence diagrams.\n",
      "Got the result from ./20/test/inverted_greyscale/blue/diagrams.npy\n",
      "Applying Scaler to persistence diagrams.\n",
      "Applying filtrations\n",
      "Applying filtration 1/72: 2/HeightFiltrartion_-1_-1\n",
      "RGB images received. Transforming to grayscale.\n"
     ]
    },
    {
     "name": "stderr",
     "output_type": "stream",
     "text": [
      "rgb2gray: 100%|██████████| 10000/10000 [00:02<00:00, 3563.35it/s]\n"
     ]
    },
    {
     "name": "stdout",
     "output_type": "stream",
     "text": [
      "Got the result from ./20/test/filtrations/2/HeightFiltrartion_-1_-1/gray/diagrams.npy\n",
      "Applying Scaler to persistence diagrams.\n",
      "Got the result from ./20/test/filtrations/2/HeightFiltrartion_-1_-1/red/diagrams.npy\n",
      "Applying Scaler to persistence diagrams.\n",
      "Got the result from ./20/test/filtrations/2/HeightFiltrartion_-1_-1/green/diagrams.npy\n",
      "Applying Scaler to persistence diagrams.\n",
      "Got the result from ./20/test/filtrations/2/HeightFiltrartion_-1_-1/blue/diagrams.npy\n",
      "Applying Scaler to persistence diagrams.\n",
      "Applying filtration 2/72: 2/HeightFiltrartion_1_1\n",
      "RGB images received. Transforming to grayscale.\n"
     ]
    },
    {
     "name": "stderr",
     "output_type": "stream",
     "text": [
      "rgb2gray: 100%|██████████| 10000/10000 [00:02<00:00, 3379.30it/s]\n"
     ]
    },
    {
     "name": "stdout",
     "output_type": "stream",
     "text": [
      "Got the result from ./20/test/filtrations/2/HeightFiltrartion_1_1/gray/diagrams.npy\n",
      "Applying Scaler to persistence diagrams.\n",
      "Got the result from ./20/test/filtrations/2/HeightFiltrartion_1_1/red/diagrams.npy\n",
      "Applying Scaler to persistence diagrams.\n",
      "Got the result from ./20/test/filtrations/2/HeightFiltrartion_1_1/green/diagrams.npy\n",
      "Applying Scaler to persistence diagrams.\n",
      "Got the result from ./20/test/filtrations/2/HeightFiltrartion_1_1/blue/diagrams.npy\n",
      "Applying Scaler to persistence diagrams.\n",
      "Applying filtration 3/72: 2/HeightFiltrartion_1_-1\n",
      "RGB images received. Transforming to grayscale.\n"
     ]
    },
    {
     "name": "stderr",
     "output_type": "stream",
     "text": [
      "rgb2gray: 100%|██████████| 10000/10000 [00:02<00:00, 3401.81it/s]\n"
     ]
    },
    {
     "name": "stdout",
     "output_type": "stream",
     "text": [
      "Got the result from ./20/test/filtrations/2/HeightFiltrartion_1_-1/gray/diagrams.npy\n",
      "Applying Scaler to persistence diagrams.\n",
      "Got the result from ./20/test/filtrations/2/HeightFiltrartion_1_-1/red/diagrams.npy\n",
      "Applying Scaler to persistence diagrams.\n",
      "Got the result from ./20/test/filtrations/2/HeightFiltrartion_1_-1/green/diagrams.npy\n",
      "Applying Scaler to persistence diagrams.\n",
      "Got the result from ./20/test/filtrations/2/HeightFiltrartion_1_-1/blue/diagrams.npy\n",
      "Applying Scaler to persistence diagrams.\n",
      "Applying filtration 4/72: 2/HeightFiltrartion_-1_1\n",
      "RGB images received. Transforming to grayscale.\n"
     ]
    },
    {
     "name": "stderr",
     "output_type": "stream",
     "text": [
      "rgb2gray: 100%|██████████| 10000/10000 [00:02<00:00, 3386.24it/s]\n"
     ]
    },
    {
     "name": "stdout",
     "output_type": "stream",
     "text": [
      "Got the result from ./20/test/filtrations/2/HeightFiltrartion_-1_1/gray/diagrams.npy\n",
      "Applying Scaler to persistence diagrams.\n",
      "Got the result from ./20/test/filtrations/2/HeightFiltrartion_-1_1/red/diagrams.npy\n",
      "Applying Scaler to persistence diagrams.\n",
      "Got the result from ./20/test/filtrations/2/HeightFiltrartion_-1_1/green/diagrams.npy\n",
      "Applying Scaler to persistence diagrams.\n",
      "Got the result from ./20/test/filtrations/2/HeightFiltrartion_-1_1/blue/diagrams.npy\n",
      "Applying Scaler to persistence diagrams.\n",
      "Applying filtration 5/72: 2/HeightFiltrartion_0_-1\n",
      "RGB images received. Transforming to grayscale.\n"
     ]
    },
    {
     "name": "stderr",
     "output_type": "stream",
     "text": [
      "rgb2gray: 100%|██████████| 10000/10000 [00:02<00:00, 3492.24it/s]\n"
     ]
    },
    {
     "name": "stdout",
     "output_type": "stream",
     "text": [
      "Got the result from ./20/test/filtrations/2/HeightFiltrartion_0_-1/gray/diagrams.npy\n",
      "Applying Scaler to persistence diagrams.\n",
      "Got the result from ./20/test/filtrations/2/HeightFiltrartion_0_-1/red/diagrams.npy\n",
      "Applying Scaler to persistence diagrams.\n",
      "Got the result from ./20/test/filtrations/2/HeightFiltrartion_0_-1/green/diagrams.npy\n",
      "Applying Scaler to persistence diagrams.\n",
      "Got the result from ./20/test/filtrations/2/HeightFiltrartion_0_-1/blue/diagrams.npy\n",
      "Applying Scaler to persistence diagrams.\n",
      "Applying filtration 6/72: 2/HeightFiltrartion_0_1\n",
      "RGB images received. Transforming to grayscale.\n"
     ]
    },
    {
     "name": "stderr",
     "output_type": "stream",
     "text": [
      "rgb2gray: 100%|██████████| 10000/10000 [00:02<00:00, 4585.13it/s]\n"
     ]
    },
    {
     "name": "stdout",
     "output_type": "stream",
     "text": [
      "Got the result from ./20/test/filtrations/2/HeightFiltrartion_0_1/gray/diagrams.npy\n",
      "Applying Scaler to persistence diagrams.\n",
      "Got the result from ./20/test/filtrations/2/HeightFiltrartion_0_1/red/diagrams.npy\n",
      "Applying Scaler to persistence diagrams.\n",
      "Got the result from ./20/test/filtrations/2/HeightFiltrartion_0_1/green/diagrams.npy\n",
      "Applying Scaler to persistence diagrams.\n",
      "Got the result from ./20/test/filtrations/2/HeightFiltrartion_0_1/blue/diagrams.npy\n",
      "Applying Scaler to persistence diagrams.\n",
      "Applying filtration 7/72: 2/HeightFiltrartion_-1_0\n",
      "RGB images received. Transforming to grayscale.\n"
     ]
    },
    {
     "name": "stderr",
     "output_type": "stream",
     "text": [
      "rgb2gray: 100%|██████████| 10000/10000 [00:02<00:00, 3420.60it/s]\n"
     ]
    },
    {
     "name": "stdout",
     "output_type": "stream",
     "text": [
      "Got the result from ./20/test/filtrations/2/HeightFiltrartion_-1_0/gray/diagrams.npy\n",
      "Applying Scaler to persistence diagrams.\n",
      "Got the result from ./20/test/filtrations/2/HeightFiltrartion_-1_0/red/diagrams.npy\n",
      "Applying Scaler to persistence diagrams.\n",
      "Got the result from ./20/test/filtrations/2/HeightFiltrartion_-1_0/green/diagrams.npy\n",
      "Applying Scaler to persistence diagrams.\n",
      "Got the result from ./20/test/filtrations/2/HeightFiltrartion_-1_0/blue/diagrams.npy\n",
      "Applying Scaler to persistence diagrams.\n",
      "Applying filtration 8/72: 2/HeightFiltrartion_1_0\n",
      "RGB images received. Transforming to grayscale.\n"
     ]
    },
    {
     "name": "stderr",
     "output_type": "stream",
     "text": [
      "rgb2gray: 100%|██████████| 10000/10000 [00:02<00:00, 3425.13it/s]\n"
     ]
    },
    {
     "name": "stdout",
     "output_type": "stream",
     "text": [
      "Got the result from ./20/test/filtrations/2/HeightFiltrartion_1_0/gray/diagrams.npy\n",
      "Applying Scaler to persistence diagrams.\n",
      "Got the result from ./20/test/filtrations/2/HeightFiltrartion_1_0/red/diagrams.npy\n",
      "Applying Scaler to persistence diagrams.\n",
      "Got the result from ./20/test/filtrations/2/HeightFiltrartion_1_0/green/diagrams.npy\n",
      "Applying Scaler to persistence diagrams.\n",
      "Got the result from ./20/test/filtrations/2/HeightFiltrartion_1_0/blue/diagrams.npy\n",
      "Applying Scaler to persistence diagrams.\n",
      "Applying filtration 9/72: 2/RadialFiltration_5_5\n",
      "RGB images received. Transforming to grayscale.\n"
     ]
    },
    {
     "name": "stderr",
     "output_type": "stream",
     "text": [
      "rgb2gray: 100%|██████████| 10000/10000 [00:03<00:00, 3288.51it/s]\n"
     ]
    },
    {
     "name": "stdout",
     "output_type": "stream",
     "text": [
      "Got the result from ./20/test/filtrations/2/RadialFiltration_5_5/gray/diagrams.npy\n",
      "Applying Scaler to persistence diagrams.\n",
      "Got the result from ./20/test/filtrations/2/RadialFiltration_5_5/red/diagrams.npy\n",
      "Applying Scaler to persistence diagrams.\n",
      "Got the result from ./20/test/filtrations/2/RadialFiltration_5_5/green/diagrams.npy\n",
      "Applying Scaler to persistence diagrams.\n",
      "Got the result from ./20/test/filtrations/2/RadialFiltration_5_5/blue/diagrams.npy\n",
      "Applying Scaler to persistence diagrams.\n",
      "Applying filtration 10/72: 2/RadialFiltration_5_12\n",
      "RGB images received. Transforming to grayscale.\n"
     ]
    },
    {
     "name": "stderr",
     "output_type": "stream",
     "text": [
      "rgb2gray: 100%|██████████| 10000/10000 [00:02<00:00, 3340.58it/s]\n"
     ]
    },
    {
     "name": "stdout",
     "output_type": "stream",
     "text": [
      "Got the result from ./20/test/filtrations/2/RadialFiltration_5_12/gray/diagrams.npy\n",
      "Applying Scaler to persistence diagrams.\n",
      "Got the result from ./20/test/filtrations/2/RadialFiltration_5_12/red/diagrams.npy\n",
      "Applying Scaler to persistence diagrams.\n",
      "Got the result from ./20/test/filtrations/2/RadialFiltration_5_12/green/diagrams.npy\n",
      "Applying Scaler to persistence diagrams.\n",
      "Got the result from ./20/test/filtrations/2/RadialFiltration_5_12/blue/diagrams.npy\n",
      "Applying Scaler to persistence diagrams.\n",
      "Applying filtration 11/72: 2/RadialFiltration_5_19\n",
      "RGB images received. Transforming to grayscale.\n"
     ]
    },
    {
     "name": "stderr",
     "output_type": "stream",
     "text": [
      "rgb2gray: 100%|██████████| 10000/10000 [00:02<00:00, 4196.23it/s]\n"
     ]
    },
    {
     "name": "stdout",
     "output_type": "stream",
     "text": [
      "Got the result from ./20/test/filtrations/2/RadialFiltration_5_19/gray/diagrams.npy\n",
      "Applying Scaler to persistence diagrams.\n",
      "Got the result from ./20/test/filtrations/2/RadialFiltration_5_19/red/diagrams.npy\n",
      "Applying Scaler to persistence diagrams.\n",
      "Got the result from ./20/test/filtrations/2/RadialFiltration_5_19/green/diagrams.npy\n",
      "Applying Scaler to persistence diagrams.\n",
      "Got the result from ./20/test/filtrations/2/RadialFiltration_5_19/blue/diagrams.npy\n",
      "Applying Scaler to persistence diagrams.\n",
      "Applying filtration 12/72: 2/RadialFiltration_5_26\n",
      "RGB images received. Transforming to grayscale.\n"
     ]
    },
    {
     "name": "stderr",
     "output_type": "stream",
     "text": [
      "rgb2gray: 100%|██████████| 10000/10000 [00:02<00:00, 3339.73it/s]\n"
     ]
    },
    {
     "name": "stdout",
     "output_type": "stream",
     "text": [
      "Got the result from ./20/test/filtrations/2/RadialFiltration_5_26/gray/diagrams.npy\n",
      "Applying Scaler to persistence diagrams.\n",
      "Got the result from ./20/test/filtrations/2/RadialFiltration_5_26/red/diagrams.npy\n",
      "Applying Scaler to persistence diagrams.\n",
      "Got the result from ./20/test/filtrations/2/RadialFiltration_5_26/green/diagrams.npy\n",
      "Applying Scaler to persistence diagrams.\n",
      "Got the result from ./20/test/filtrations/2/RadialFiltration_5_26/blue/diagrams.npy\n",
      "Applying Scaler to persistence diagrams.\n",
      "Applying filtration 13/72: 2/RadialFiltration_12_5\n",
      "RGB images received. Transforming to grayscale.\n"
     ]
    },
    {
     "name": "stderr",
     "output_type": "stream",
     "text": [
      "rgb2gray: 100%|██████████| 10000/10000 [00:03<00:00, 3034.66it/s]\n"
     ]
    },
    {
     "name": "stdout",
     "output_type": "stream",
     "text": [
      "Got the result from ./20/test/filtrations/2/RadialFiltration_12_5/gray/diagrams.npy\n",
      "Applying Scaler to persistence diagrams.\n",
      "Got the result from ./20/test/filtrations/2/RadialFiltration_12_5/red/diagrams.npy\n",
      "Applying Scaler to persistence diagrams.\n",
      "Got the result from ./20/test/filtrations/2/RadialFiltration_12_5/green/diagrams.npy\n",
      "Applying Scaler to persistence diagrams.\n",
      "Got the result from ./20/test/filtrations/2/RadialFiltration_12_5/blue/diagrams.npy\n",
      "Applying Scaler to persistence diagrams.\n",
      "Applying filtration 14/72: 2/RadialFiltration_12_12\n",
      "RGB images received. Transforming to grayscale.\n"
     ]
    },
    {
     "name": "stderr",
     "output_type": "stream",
     "text": [
      "rgb2gray: 100%|██████████| 10000/10000 [00:03<00:00, 3316.85it/s]\n"
     ]
    },
    {
     "name": "stdout",
     "output_type": "stream",
     "text": [
      "Got the result from ./20/test/filtrations/2/RadialFiltration_12_12/gray/diagrams.npy\n",
      "Applying Scaler to persistence diagrams.\n",
      "Got the result from ./20/test/filtrations/2/RadialFiltration_12_12/red/diagrams.npy\n",
      "Applying Scaler to persistence diagrams.\n",
      "Got the result from ./20/test/filtrations/2/RadialFiltration_12_12/green/diagrams.npy\n",
      "Applying Scaler to persistence diagrams.\n",
      "Got the result from ./20/test/filtrations/2/RadialFiltration_12_12/blue/diagrams.npy\n",
      "Applying Scaler to persistence diagrams.\n",
      "Applying filtration 15/72: 2/RadialFiltration_12_19\n",
      "RGB images received. Transforming to grayscale.\n"
     ]
    },
    {
     "name": "stderr",
     "output_type": "stream",
     "text": [
      "rgb2gray: 100%|██████████| 10000/10000 [00:03<00:00, 3102.00it/s]\n"
     ]
    },
    {
     "name": "stdout",
     "output_type": "stream",
     "text": [
      "Got the result from ./20/test/filtrations/2/RadialFiltration_12_19/gray/diagrams.npy\n",
      "Applying Scaler to persistence diagrams.\n",
      "Got the result from ./20/test/filtrations/2/RadialFiltration_12_19/red/diagrams.npy\n",
      "Applying Scaler to persistence diagrams.\n",
      "Got the result from ./20/test/filtrations/2/RadialFiltration_12_19/green/diagrams.npy\n",
      "Applying Scaler to persistence diagrams.\n",
      "Got the result from ./20/test/filtrations/2/RadialFiltration_12_19/blue/diagrams.npy\n",
      "Applying Scaler to persistence diagrams.\n",
      "Applying filtration 16/72: 2/RadialFiltration_12_26\n",
      "RGB images received. Transforming to grayscale.\n"
     ]
    },
    {
     "name": "stderr",
     "output_type": "stream",
     "text": [
      "rgb2gray: 100%|██████████| 10000/10000 [00:03<00:00, 3304.91it/s]\n"
     ]
    },
    {
     "name": "stdout",
     "output_type": "stream",
     "text": [
      "Got the result from ./20/test/filtrations/2/RadialFiltration_12_26/gray/diagrams.npy\n",
      "Applying Scaler to persistence diagrams.\n",
      "Got the result from ./20/test/filtrations/2/RadialFiltration_12_26/red/diagrams.npy\n",
      "Applying Scaler to persistence diagrams.\n",
      "Got the result from ./20/test/filtrations/2/RadialFiltration_12_26/green/diagrams.npy\n",
      "Applying Scaler to persistence diagrams.\n",
      "Got the result from ./20/test/filtrations/2/RadialFiltration_12_26/blue/diagrams.npy\n",
      "Applying Scaler to persistence diagrams.\n",
      "Applying filtration 17/72: 2/RadialFiltration_19_5\n",
      "RGB images received. Transforming to grayscale.\n"
     ]
    },
    {
     "name": "stderr",
     "output_type": "stream",
     "text": [
      "rgb2gray: 100%|██████████| 10000/10000 [00:03<00:00, 3095.55it/s]\n"
     ]
    },
    {
     "name": "stdout",
     "output_type": "stream",
     "text": [
      "Got the result from ./20/test/filtrations/2/RadialFiltration_19_5/gray/diagrams.npy\n",
      "Applying Scaler to persistence diagrams.\n",
      "Got the result from ./20/test/filtrations/2/RadialFiltration_19_5/red/diagrams.npy\n",
      "Applying Scaler to persistence diagrams.\n",
      "Got the result from ./20/test/filtrations/2/RadialFiltration_19_5/green/diagrams.npy\n",
      "Applying Scaler to persistence diagrams.\n",
      "Got the result from ./20/test/filtrations/2/RadialFiltration_19_5/blue/diagrams.npy\n",
      "Applying Scaler to persistence diagrams.\n",
      "Applying filtration 18/72: 2/RadialFiltration_19_12\n",
      "RGB images received. Transforming to grayscale.\n"
     ]
    },
    {
     "name": "stderr",
     "output_type": "stream",
     "text": [
      "rgb2gray: 100%|██████████| 10000/10000 [00:03<00:00, 3178.81it/s]\n"
     ]
    },
    {
     "name": "stdout",
     "output_type": "stream",
     "text": [
      "Got the result from ./20/test/filtrations/2/RadialFiltration_19_12/gray/diagrams.npy\n",
      "Applying Scaler to persistence diagrams.\n",
      "Got the result from ./20/test/filtrations/2/RadialFiltration_19_12/red/diagrams.npy\n",
      "Applying Scaler to persistence diagrams.\n",
      "Got the result from ./20/test/filtrations/2/RadialFiltration_19_12/green/diagrams.npy\n",
      "Applying Scaler to persistence diagrams.\n",
      "Got the result from ./20/test/filtrations/2/RadialFiltration_19_12/blue/diagrams.npy\n",
      "Applying Scaler to persistence diagrams.\n",
      "Applying filtration 19/72: 2/RadialFiltration_19_19\n",
      "RGB images received. Transforming to grayscale.\n"
     ]
    },
    {
     "name": "stderr",
     "output_type": "stream",
     "text": [
      "rgb2gray: 100%|██████████| 10000/10000 [00:03<00:00, 3106.29it/s]\n"
     ]
    },
    {
     "name": "stdout",
     "output_type": "stream",
     "text": [
      "Got the result from ./20/test/filtrations/2/RadialFiltration_19_19/gray/diagrams.npy\n",
      "Applying Scaler to persistence diagrams.\n",
      "Got the result from ./20/test/filtrations/2/RadialFiltration_19_19/red/diagrams.npy\n",
      "Applying Scaler to persistence diagrams.\n",
      "Got the result from ./20/test/filtrations/2/RadialFiltration_19_19/green/diagrams.npy\n",
      "Applying Scaler to persistence diagrams.\n",
      "Got the result from ./20/test/filtrations/2/RadialFiltration_19_19/blue/diagrams.npy\n",
      "Applying Scaler to persistence diagrams.\n",
      "Applying filtration 20/72: 2/RadialFiltration_19_26\n",
      "RGB images received. Transforming to grayscale.\n"
     ]
    },
    {
     "name": "stderr",
     "output_type": "stream",
     "text": [
      "rgb2gray: 100%|██████████| 10000/10000 [00:03<00:00, 2850.15it/s]\n"
     ]
    },
    {
     "name": "stdout",
     "output_type": "stream",
     "text": [
      "Got the result from ./20/test/filtrations/2/RadialFiltration_19_26/gray/diagrams.npy\n",
      "Applying Scaler to persistence diagrams.\n",
      "Got the result from ./20/test/filtrations/2/RadialFiltration_19_26/red/diagrams.npy\n",
      "Applying Scaler to persistence diagrams.\n",
      "Got the result from ./20/test/filtrations/2/RadialFiltration_19_26/green/diagrams.npy\n",
      "Applying Scaler to persistence diagrams.\n",
      "Got the result from ./20/test/filtrations/2/RadialFiltration_19_26/blue/diagrams.npy\n",
      "Applying Scaler to persistence diagrams.\n",
      "Applying filtration 21/72: 2/RadialFiltration_26_5\n",
      "RGB images received. Transforming to grayscale.\n"
     ]
    },
    {
     "name": "stderr",
     "output_type": "stream",
     "text": [
      "rgb2gray: 100%|██████████| 10000/10000 [00:02<00:00, 3532.58it/s]\n"
     ]
    },
    {
     "name": "stdout",
     "output_type": "stream",
     "text": [
      "Got the result from ./20/test/filtrations/2/RadialFiltration_26_5/gray/diagrams.npy\n",
      "Applying Scaler to persistence diagrams.\n",
      "Got the result from ./20/test/filtrations/2/RadialFiltration_26_5/red/diagrams.npy\n",
      "Applying Scaler to persistence diagrams.\n",
      "Got the result from ./20/test/filtrations/2/RadialFiltration_26_5/green/diagrams.npy\n",
      "Applying Scaler to persistence diagrams.\n",
      "Got the result from ./20/test/filtrations/2/RadialFiltration_26_5/blue/diagrams.npy\n",
      "Applying Scaler to persistence diagrams.\n",
      "Applying filtration 22/72: 2/RadialFiltration_26_12\n",
      "RGB images received. Transforming to grayscale.\n"
     ]
    },
    {
     "name": "stderr",
     "output_type": "stream",
     "text": [
      "rgb2gray: 100%|██████████| 10000/10000 [00:03<00:00, 3187.79it/s]\n"
     ]
    },
    {
     "name": "stdout",
     "output_type": "stream",
     "text": [
      "Got the result from ./20/test/filtrations/2/RadialFiltration_26_12/gray/diagrams.npy\n",
      "Applying Scaler to persistence diagrams.\n",
      "Got the result from ./20/test/filtrations/2/RadialFiltration_26_12/red/diagrams.npy\n",
      "Applying Scaler to persistence diagrams.\n",
      "Got the result from ./20/test/filtrations/2/RadialFiltration_26_12/green/diagrams.npy\n",
      "Applying Scaler to persistence diagrams.\n",
      "Got the result from ./20/test/filtrations/2/RadialFiltration_26_12/blue/diagrams.npy\n",
      "Applying Scaler to persistence diagrams.\n",
      "Applying filtration 23/72: 2/RadialFiltration_26_19\n",
      "RGB images received. Transforming to grayscale.\n"
     ]
    },
    {
     "name": "stderr",
     "output_type": "stream",
     "text": [
      "rgb2gray: 100%|██████████| 10000/10000 [00:03<00:00, 3264.98it/s]\n"
     ]
    },
    {
     "name": "stdout",
     "output_type": "stream",
     "text": [
      "Got the result from ./20/test/filtrations/2/RadialFiltration_26_19/gray/diagrams.npy\n",
      "Applying Scaler to persistence diagrams.\n",
      "Got the result from ./20/test/filtrations/2/RadialFiltration_26_19/red/diagrams.npy\n",
      "Applying Scaler to persistence diagrams.\n",
      "Got the result from ./20/test/filtrations/2/RadialFiltration_26_19/green/diagrams.npy\n",
      "Applying Scaler to persistence diagrams.\n",
      "Got the result from ./20/test/filtrations/2/RadialFiltration_26_19/blue/diagrams.npy\n",
      "Applying Scaler to persistence diagrams.\n",
      "Applying filtration 24/72: 2/RadialFiltration_26_26\n",
      "RGB images received. Transforming to grayscale.\n"
     ]
    },
    {
     "name": "stderr",
     "output_type": "stream",
     "text": [
      "rgb2gray: 100%|██████████| 10000/10000 [00:03<00:00, 3144.87it/s]\n"
     ]
    },
    {
     "name": "stdout",
     "output_type": "stream",
     "text": [
      "Got the result from ./20/test/filtrations/2/RadialFiltration_26_26/gray/diagrams.npy\n",
      "Applying Scaler to persistence diagrams.\n",
      "Got the result from ./20/test/filtrations/2/RadialFiltration_26_26/red/diagrams.npy\n",
      "Applying Scaler to persistence diagrams.\n",
      "Got the result from ./20/test/filtrations/2/RadialFiltration_26_26/green/diagrams.npy\n",
      "Applying Scaler to persistence diagrams.\n",
      "Got the result from ./20/test/filtrations/2/RadialFiltration_26_26/blue/diagrams.npy\n",
      "Applying Scaler to persistence diagrams.\n",
      "Applying filtration 25/72: 4/HeightFiltrartion_-1_-1\n",
      "RGB images received. Transforming to grayscale.\n"
     ]
    },
    {
     "name": "stderr",
     "output_type": "stream",
     "text": [
      "rgb2gray: 100%|██████████| 10000/10000 [00:03<00:00, 3147.23it/s]\n"
     ]
    },
    {
     "name": "stdout",
     "output_type": "stream",
     "text": [
      "Got the result from ./20/test/filtrations/4/HeightFiltrartion_-1_-1/gray/diagrams.npy\n",
      "Applying Scaler to persistence diagrams.\n",
      "Got the result from ./20/test/filtrations/4/HeightFiltrartion_-1_-1/red/diagrams.npy\n",
      "Applying Scaler to persistence diagrams.\n",
      "Got the result from ./20/test/filtrations/4/HeightFiltrartion_-1_-1/green/diagrams.npy\n",
      "Applying Scaler to persistence diagrams.\n",
      "Got the result from ./20/test/filtrations/4/HeightFiltrartion_-1_-1/blue/diagrams.npy\n",
      "Applying Scaler to persistence diagrams.\n",
      "Applying filtration 26/72: 4/HeightFiltrartion_1_1\n",
      "RGB images received. Transforming to grayscale.\n"
     ]
    },
    {
     "name": "stderr",
     "output_type": "stream",
     "text": [
      "rgb2gray: 100%|██████████| 10000/10000 [00:03<00:00, 2895.12it/s]\n"
     ]
    },
    {
     "name": "stdout",
     "output_type": "stream",
     "text": [
      "Got the result from ./20/test/filtrations/4/HeightFiltrartion_1_1/gray/diagrams.npy\n",
      "Applying Scaler to persistence diagrams.\n",
      "Got the result from ./20/test/filtrations/4/HeightFiltrartion_1_1/red/diagrams.npy\n",
      "Applying Scaler to persistence diagrams.\n",
      "Got the result from ./20/test/filtrations/4/HeightFiltrartion_1_1/green/diagrams.npy\n",
      "Applying Scaler to persistence diagrams.\n",
      "Got the result from ./20/test/filtrations/4/HeightFiltrartion_1_1/blue/diagrams.npy\n",
      "Applying Scaler to persistence diagrams.\n",
      "Applying filtration 27/72: 4/HeightFiltrartion_1_-1\n",
      "RGB images received. Transforming to grayscale.\n"
     ]
    },
    {
     "name": "stderr",
     "output_type": "stream",
     "text": [
      "rgb2gray: 100%|██████████| 10000/10000 [00:03<00:00, 3175.01it/s]\n"
     ]
    },
    {
     "name": "stdout",
     "output_type": "stream",
     "text": [
      "Got the result from ./20/test/filtrations/4/HeightFiltrartion_1_-1/gray/diagrams.npy\n",
      "Applying Scaler to persistence diagrams.\n",
      "Got the result from ./20/test/filtrations/4/HeightFiltrartion_1_-1/red/diagrams.npy\n",
      "Applying Scaler to persistence diagrams.\n",
      "Got the result from ./20/test/filtrations/4/HeightFiltrartion_1_-1/green/diagrams.npy\n",
      "Applying Scaler to persistence diagrams.\n",
      "Got the result from ./20/test/filtrations/4/HeightFiltrartion_1_-1/blue/diagrams.npy\n",
      "Applying Scaler to persistence diagrams.\n",
      "Applying filtration 28/72: 4/HeightFiltrartion_-1_1\n",
      "RGB images received. Transforming to grayscale.\n"
     ]
    },
    {
     "name": "stderr",
     "output_type": "stream",
     "text": [
      "rgb2gray: 100%|██████████| 10000/10000 [00:03<00:00, 3013.25it/s]\n"
     ]
    },
    {
     "name": "stdout",
     "output_type": "stream",
     "text": [
      "Got the result from ./20/test/filtrations/4/HeightFiltrartion_-1_1/gray/diagrams.npy\n",
      "Applying Scaler to persistence diagrams.\n",
      "Got the result from ./20/test/filtrations/4/HeightFiltrartion_-1_1/red/diagrams.npy\n",
      "Applying Scaler to persistence diagrams.\n",
      "Got the result from ./20/test/filtrations/4/HeightFiltrartion_-1_1/green/diagrams.npy\n",
      "Applying Scaler to persistence diagrams.\n",
      "Got the result from ./20/test/filtrations/4/HeightFiltrartion_-1_1/blue/diagrams.npy\n",
      "Applying Scaler to persistence diagrams.\n",
      "Applying filtration 29/72: 4/HeightFiltrartion_0_-1\n",
      "RGB images received. Transforming to grayscale.\n"
     ]
    },
    {
     "name": "stderr",
     "output_type": "stream",
     "text": [
      "rgb2gray: 100%|██████████| 10000/10000 [00:03<00:00, 3118.72it/s]\n"
     ]
    },
    {
     "name": "stdout",
     "output_type": "stream",
     "text": [
      "Got the result from ./20/test/filtrations/4/HeightFiltrartion_0_-1/gray/diagrams.npy\n",
      "Applying Scaler to persistence diagrams.\n",
      "Got the result from ./20/test/filtrations/4/HeightFiltrartion_0_-1/red/diagrams.npy\n",
      "Applying Scaler to persistence diagrams.\n",
      "Got the result from ./20/test/filtrations/4/HeightFiltrartion_0_-1/green/diagrams.npy\n",
      "Applying Scaler to persistence diagrams.\n",
      "Got the result from ./20/test/filtrations/4/HeightFiltrartion_0_-1/blue/diagrams.npy\n",
      "Applying Scaler to persistence diagrams.\n",
      "Applying filtration 30/72: 4/HeightFiltrartion_0_1\n",
      "RGB images received. Transforming to grayscale.\n"
     ]
    },
    {
     "name": "stderr",
     "output_type": "stream",
     "text": [
      "rgb2gray: 100%|██████████| 10000/10000 [00:03<00:00, 3199.21it/s]\n"
     ]
    },
    {
     "name": "stdout",
     "output_type": "stream",
     "text": [
      "Got the result from ./20/test/filtrations/4/HeightFiltrartion_0_1/gray/diagrams.npy\n",
      "Applying Scaler to persistence diagrams.\n",
      "Got the result from ./20/test/filtrations/4/HeightFiltrartion_0_1/red/diagrams.npy\n",
      "Applying Scaler to persistence diagrams.\n",
      "Got the result from ./20/test/filtrations/4/HeightFiltrartion_0_1/green/diagrams.npy\n",
      "Applying Scaler to persistence diagrams.\n",
      "Got the result from ./20/test/filtrations/4/HeightFiltrartion_0_1/blue/diagrams.npy\n",
      "Applying Scaler to persistence diagrams.\n",
      "Applying filtration 31/72: 4/HeightFiltrartion_-1_0\n",
      "RGB images received. Transforming to grayscale.\n"
     ]
    },
    {
     "name": "stderr",
     "output_type": "stream",
     "text": [
      "rgb2gray: 100%|██████████| 10000/10000 [00:03<00:00, 3007.32it/s]\n"
     ]
    },
    {
     "name": "stdout",
     "output_type": "stream",
     "text": [
      "Got the result from ./20/test/filtrations/4/HeightFiltrartion_-1_0/gray/diagrams.npy\n",
      "Applying Scaler to persistence diagrams.\n",
      "Got the result from ./20/test/filtrations/4/HeightFiltrartion_-1_0/red/diagrams.npy\n",
      "Applying Scaler to persistence diagrams.\n",
      "Got the result from ./20/test/filtrations/4/HeightFiltrartion_-1_0/green/diagrams.npy\n",
      "Applying Scaler to persistence diagrams.\n",
      "Got the result from ./20/test/filtrations/4/HeightFiltrartion_-1_0/blue/diagrams.npy\n",
      "Applying Scaler to persistence diagrams.\n",
      "Applying filtration 32/72: 4/HeightFiltrartion_1_0\n",
      "RGB images received. Transforming to grayscale.\n"
     ]
    },
    {
     "name": "stderr",
     "output_type": "stream",
     "text": [
      "rgb2gray: 100%|██████████| 10000/10000 [00:03<00:00, 2663.32it/s]\n"
     ]
    },
    {
     "name": "stdout",
     "output_type": "stream",
     "text": [
      "Got the result from ./20/test/filtrations/4/HeightFiltrartion_1_0/gray/diagrams.npy\n",
      "Applying Scaler to persistence diagrams.\n",
      "Got the result from ./20/test/filtrations/4/HeightFiltrartion_1_0/red/diagrams.npy\n",
      "Applying Scaler to persistence diagrams.\n",
      "Got the result from ./20/test/filtrations/4/HeightFiltrartion_1_0/green/diagrams.npy\n",
      "Applying Scaler to persistence diagrams.\n",
      "Got the result from ./20/test/filtrations/4/HeightFiltrartion_1_0/blue/diagrams.npy\n",
      "Applying Scaler to persistence diagrams.\n",
      "Applying filtration 33/72: 4/RadialFiltration_5_5\n",
      "RGB images received. Transforming to grayscale.\n"
     ]
    },
    {
     "name": "stderr",
     "output_type": "stream",
     "text": [
      "rgb2gray: 100%|██████████| 10000/10000 [00:03<00:00, 3029.23it/s]\n"
     ]
    },
    {
     "name": "stdout",
     "output_type": "stream",
     "text": [
      "Got the result from ./20/test/filtrations/4/RadialFiltration_5_5/gray/diagrams.npy\n",
      "Applying Scaler to persistence diagrams.\n",
      "Got the result from ./20/test/filtrations/4/RadialFiltration_5_5/red/diagrams.npy\n",
      "Applying Scaler to persistence diagrams.\n",
      "Got the result from ./20/test/filtrations/4/RadialFiltration_5_5/green/diagrams.npy\n",
      "Applying Scaler to persistence diagrams.\n",
      "Got the result from ./20/test/filtrations/4/RadialFiltration_5_5/blue/diagrams.npy\n",
      "Applying Scaler to persistence diagrams.\n",
      "Applying filtration 34/72: 4/RadialFiltration_5_12\n",
      "RGB images received. Transforming to grayscale.\n"
     ]
    },
    {
     "name": "stderr",
     "output_type": "stream",
     "text": [
      "rgb2gray: 100%|██████████| 10000/10000 [00:03<00:00, 3069.39it/s]\n"
     ]
    },
    {
     "name": "stdout",
     "output_type": "stream",
     "text": [
      "Got the result from ./20/test/filtrations/4/RadialFiltration_5_12/gray/diagrams.npy\n",
      "Applying Scaler to persistence diagrams.\n",
      "Got the result from ./20/test/filtrations/4/RadialFiltration_5_12/red/diagrams.npy\n",
      "Applying Scaler to persistence diagrams.\n",
      "Got the result from ./20/test/filtrations/4/RadialFiltration_5_12/green/diagrams.npy\n",
      "Applying Scaler to persistence diagrams.\n",
      "Got the result from ./20/test/filtrations/4/RadialFiltration_5_12/blue/diagrams.npy\n",
      "Applying Scaler to persistence diagrams.\n",
      "Applying filtration 35/72: 4/RadialFiltration_5_19\n",
      "RGB images received. Transforming to grayscale.\n"
     ]
    },
    {
     "name": "stderr",
     "output_type": "stream",
     "text": [
      "rgb2gray: 100%|██████████| 10000/10000 [00:03<00:00, 3023.53it/s]\n"
     ]
    },
    {
     "name": "stdout",
     "output_type": "stream",
     "text": [
      "Got the result from ./20/test/filtrations/4/RadialFiltration_5_19/gray/diagrams.npy\n",
      "Applying Scaler to persistence diagrams.\n",
      "Got the result from ./20/test/filtrations/4/RadialFiltration_5_19/red/diagrams.npy\n",
      "Applying Scaler to persistence diagrams.\n",
      "Got the result from ./20/test/filtrations/4/RadialFiltration_5_19/green/diagrams.npy\n",
      "Applying Scaler to persistence diagrams.\n",
      "Got the result from ./20/test/filtrations/4/RadialFiltration_5_19/blue/diagrams.npy\n",
      "Applying Scaler to persistence diagrams.\n",
      "Applying filtration 36/72: 4/RadialFiltration_5_26\n",
      "RGB images received. Transforming to grayscale.\n"
     ]
    },
    {
     "name": "stderr",
     "output_type": "stream",
     "text": [
      "rgb2gray: 100%|██████████| 10000/10000 [00:03<00:00, 3076.74it/s]\n"
     ]
    },
    {
     "name": "stdout",
     "output_type": "stream",
     "text": [
      "Got the result from ./20/test/filtrations/4/RadialFiltration_5_26/gray/diagrams.npy\n",
      "Applying Scaler to persistence diagrams.\n",
      "Got the result from ./20/test/filtrations/4/RadialFiltration_5_26/red/diagrams.npy\n",
      "Applying Scaler to persistence diagrams.\n",
      "Got the result from ./20/test/filtrations/4/RadialFiltration_5_26/green/diagrams.npy\n",
      "Applying Scaler to persistence diagrams.\n",
      "Got the result from ./20/test/filtrations/4/RadialFiltration_5_26/blue/diagrams.npy\n",
      "Applying Scaler to persistence diagrams.\n",
      "Applying filtration 37/72: 4/RadialFiltration_12_5\n",
      "RGB images received. Transforming to grayscale.\n"
     ]
    },
    {
     "name": "stderr",
     "output_type": "stream",
     "text": [
      "rgb2gray: 100%|██████████| 10000/10000 [00:03<00:00, 2999.52it/s]\n"
     ]
    },
    {
     "name": "stdout",
     "output_type": "stream",
     "text": [
      "Got the result from ./20/test/filtrations/4/RadialFiltration_12_5/gray/diagrams.npy\n",
      "Applying Scaler to persistence diagrams.\n",
      "Got the result from ./20/test/filtrations/4/RadialFiltration_12_5/red/diagrams.npy\n",
      "Applying Scaler to persistence diagrams.\n",
      "Got the result from ./20/test/filtrations/4/RadialFiltration_12_5/green/diagrams.npy\n",
      "Applying Scaler to persistence diagrams.\n",
      "Got the result from ./20/test/filtrations/4/RadialFiltration_12_5/blue/diagrams.npy\n",
      "Applying Scaler to persistence diagrams.\n",
      "Applying filtration 38/72: 4/RadialFiltration_12_12\n",
      "RGB images received. Transforming to grayscale.\n"
     ]
    },
    {
     "name": "stderr",
     "output_type": "stream",
     "text": [
      "rgb2gray: 100%|██████████| 10000/10000 [00:03<00:00, 2887.41it/s]\n"
     ]
    },
    {
     "name": "stdout",
     "output_type": "stream",
     "text": [
      "Got the result from ./20/test/filtrations/4/RadialFiltration_12_12/gray/diagrams.npy\n",
      "Applying Scaler to persistence diagrams.\n",
      "Got the result from ./20/test/filtrations/4/RadialFiltration_12_12/red/diagrams.npy\n",
      "Applying Scaler to persistence diagrams.\n",
      "Got the result from ./20/test/filtrations/4/RadialFiltration_12_12/green/diagrams.npy\n",
      "Applying Scaler to persistence diagrams.\n",
      "Got the result from ./20/test/filtrations/4/RadialFiltration_12_12/blue/diagrams.npy\n",
      "Applying Scaler to persistence diagrams.\n",
      "Applying filtration 39/72: 4/RadialFiltration_12_19\n",
      "RGB images received. Transforming to grayscale.\n"
     ]
    },
    {
     "name": "stderr",
     "output_type": "stream",
     "text": [
      "rgb2gray: 100%|██████████| 10000/10000 [00:03<00:00, 2844.69it/s]\n"
     ]
    },
    {
     "name": "stdout",
     "output_type": "stream",
     "text": [
      "Got the result from ./20/test/filtrations/4/RadialFiltration_12_19/gray/diagrams.npy\n",
      "Applying Scaler to persistence diagrams.\n",
      "Got the result from ./20/test/filtrations/4/RadialFiltration_12_19/red/diagrams.npy\n",
      "Applying Scaler to persistence diagrams.\n",
      "Got the result from ./20/test/filtrations/4/RadialFiltration_12_19/green/diagrams.npy\n",
      "Applying Scaler to persistence diagrams.\n",
      "Got the result from ./20/test/filtrations/4/RadialFiltration_12_19/blue/diagrams.npy\n",
      "Applying Scaler to persistence diagrams.\n",
      "Applying filtration 40/72: 4/RadialFiltration_12_26\n",
      "RGB images received. Transforming to grayscale.\n"
     ]
    },
    {
     "name": "stderr",
     "output_type": "stream",
     "text": [
      "rgb2gray: 100%|██████████| 10000/10000 [00:03<00:00, 2979.87it/s]\n"
     ]
    },
    {
     "name": "stdout",
     "output_type": "stream",
     "text": [
      "Got the result from ./20/test/filtrations/4/RadialFiltration_12_26/gray/diagrams.npy\n",
      "Applying Scaler to persistence diagrams.\n",
      "Got the result from ./20/test/filtrations/4/RadialFiltration_12_26/red/diagrams.npy\n",
      "Applying Scaler to persistence diagrams.\n",
      "Got the result from ./20/test/filtrations/4/RadialFiltration_12_26/green/diagrams.npy\n",
      "Applying Scaler to persistence diagrams.\n",
      "Got the result from ./20/test/filtrations/4/RadialFiltration_12_26/blue/diagrams.npy\n",
      "Applying Scaler to persistence diagrams.\n",
      "Applying filtration 41/72: 4/RadialFiltration_19_5\n",
      "RGB images received. Transforming to grayscale.\n"
     ]
    },
    {
     "name": "stderr",
     "output_type": "stream",
     "text": [
      "rgb2gray: 100%|██████████| 10000/10000 [00:03<00:00, 2930.68it/s]\n"
     ]
    },
    {
     "name": "stdout",
     "output_type": "stream",
     "text": [
      "Got the result from ./20/test/filtrations/4/RadialFiltration_19_5/gray/diagrams.npy\n",
      "Applying Scaler to persistence diagrams.\n",
      "Got the result from ./20/test/filtrations/4/RadialFiltration_19_5/red/diagrams.npy\n",
      "Applying Scaler to persistence diagrams.\n",
      "Got the result from ./20/test/filtrations/4/RadialFiltration_19_5/green/diagrams.npy\n",
      "Applying Scaler to persistence diagrams.\n",
      "Got the result from ./20/test/filtrations/4/RadialFiltration_19_5/blue/diagrams.npy\n",
      "Applying Scaler to persistence diagrams.\n",
      "Applying filtration 42/72: 4/RadialFiltration_19_12\n",
      "RGB images received. Transforming to grayscale.\n"
     ]
    },
    {
     "name": "stderr",
     "output_type": "stream",
     "text": [
      "rgb2gray: 100%|██████████| 10000/10000 [00:03<00:00, 2965.89it/s]\n"
     ]
    },
    {
     "name": "stdout",
     "output_type": "stream",
     "text": [
      "Got the result from ./20/test/filtrations/4/RadialFiltration_19_12/gray/diagrams.npy\n",
      "Applying Scaler to persistence diagrams.\n",
      "Got the result from ./20/test/filtrations/4/RadialFiltration_19_12/red/diagrams.npy\n",
      "Applying Scaler to persistence diagrams.\n",
      "Got the result from ./20/test/filtrations/4/RadialFiltration_19_12/green/diagrams.npy\n",
      "Applying Scaler to persistence diagrams.\n",
      "Got the result from ./20/test/filtrations/4/RadialFiltration_19_12/blue/diagrams.npy\n",
      "Applying Scaler to persistence diagrams.\n",
      "Applying filtration 43/72: 4/RadialFiltration_19_19\n",
      "RGB images received. Transforming to grayscale.\n"
     ]
    },
    {
     "name": "stderr",
     "output_type": "stream",
     "text": [
      "rgb2gray: 100%|██████████| 10000/10000 [00:03<00:00, 2919.87it/s]\n"
     ]
    },
    {
     "name": "stdout",
     "output_type": "stream",
     "text": [
      "Got the result from ./20/test/filtrations/4/RadialFiltration_19_19/gray/diagrams.npy\n",
      "Applying Scaler to persistence diagrams.\n",
      "Got the result from ./20/test/filtrations/4/RadialFiltration_19_19/red/diagrams.npy\n",
      "Applying Scaler to persistence diagrams.\n",
      "Got the result from ./20/test/filtrations/4/RadialFiltration_19_19/green/diagrams.npy\n",
      "Applying Scaler to persistence diagrams.\n",
      "Got the result from ./20/test/filtrations/4/RadialFiltration_19_19/blue/diagrams.npy\n",
      "Applying Scaler to persistence diagrams.\n",
      "Applying filtration 44/72: 4/RadialFiltration_19_26\n",
      "RGB images received. Transforming to grayscale.\n"
     ]
    },
    {
     "name": "stderr",
     "output_type": "stream",
     "text": [
      "rgb2gray: 100%|██████████| 10000/10000 [00:03<00:00, 2883.98it/s]\n"
     ]
    },
    {
     "name": "stdout",
     "output_type": "stream",
     "text": [
      "Got the result from ./20/test/filtrations/4/RadialFiltration_19_26/gray/diagrams.npy\n",
      "Applying Scaler to persistence diagrams.\n",
      "Got the result from ./20/test/filtrations/4/RadialFiltration_19_26/red/diagrams.npy\n",
      "Applying Scaler to persistence diagrams.\n",
      "Got the result from ./20/test/filtrations/4/RadialFiltration_19_26/green/diagrams.npy\n",
      "Applying Scaler to persistence diagrams.\n",
      "Got the result from ./20/test/filtrations/4/RadialFiltration_19_26/blue/diagrams.npy\n",
      "Applying Scaler to persistence diagrams.\n",
      "Applying filtration 45/72: 4/RadialFiltration_26_5\n",
      "RGB images received. Transforming to grayscale.\n"
     ]
    },
    {
     "name": "stderr",
     "output_type": "stream",
     "text": [
      "rgb2gray: 100%|██████████| 10000/10000 [00:03<00:00, 2914.93it/s]\n"
     ]
    },
    {
     "name": "stdout",
     "output_type": "stream",
     "text": [
      "Got the result from ./20/test/filtrations/4/RadialFiltration_26_5/gray/diagrams.npy\n",
      "Applying Scaler to persistence diagrams.\n",
      "Got the result from ./20/test/filtrations/4/RadialFiltration_26_5/red/diagrams.npy\n",
      "Applying Scaler to persistence diagrams.\n",
      "Got the result from ./20/test/filtrations/4/RadialFiltration_26_5/green/diagrams.npy\n",
      "Applying Scaler to persistence diagrams.\n",
      "Got the result from ./20/test/filtrations/4/RadialFiltration_26_5/blue/diagrams.npy\n",
      "Applying Scaler to persistence diagrams.\n",
      "Applying filtration 46/72: 4/RadialFiltration_26_12\n",
      "RGB images received. Transforming to grayscale.\n"
     ]
    },
    {
     "name": "stderr",
     "output_type": "stream",
     "text": [
      "rgb2gray: 100%|██████████| 10000/10000 [00:03<00:00, 2855.75it/s]\n"
     ]
    },
    {
     "name": "stdout",
     "output_type": "stream",
     "text": [
      "Got the result from ./20/test/filtrations/4/RadialFiltration_26_12/gray/diagrams.npy\n",
      "Applying Scaler to persistence diagrams.\n",
      "Got the result from ./20/test/filtrations/4/RadialFiltration_26_12/red/diagrams.npy\n",
      "Applying Scaler to persistence diagrams.\n",
      "Got the result from ./20/test/filtrations/4/RadialFiltration_26_12/green/diagrams.npy\n",
      "Applying Scaler to persistence diagrams.\n",
      "Got the result from ./20/test/filtrations/4/RadialFiltration_26_12/blue/diagrams.npy\n",
      "Applying Scaler to persistence diagrams.\n",
      "Applying filtration 47/72: 4/RadialFiltration_26_19\n",
      "RGB images received. Transforming to grayscale.\n"
     ]
    },
    {
     "name": "stderr",
     "output_type": "stream",
     "text": [
      "rgb2gray: 100%|██████████| 10000/10000 [00:03<00:00, 2841.62it/s]\n"
     ]
    },
    {
     "name": "stdout",
     "output_type": "stream",
     "text": [
      "Got the result from ./20/test/filtrations/4/RadialFiltration_26_19/gray/diagrams.npy\n",
      "Applying Scaler to persistence diagrams.\n",
      "Got the result from ./20/test/filtrations/4/RadialFiltration_26_19/red/diagrams.npy\n",
      "Applying Scaler to persistence diagrams.\n",
      "Got the result from ./20/test/filtrations/4/RadialFiltration_26_19/green/diagrams.npy\n",
      "Applying Scaler to persistence diagrams.\n",
      "Got the result from ./20/test/filtrations/4/RadialFiltration_26_19/blue/diagrams.npy\n",
      "Applying Scaler to persistence diagrams.\n",
      "Applying filtration 48/72: 4/RadialFiltration_26_26\n",
      "RGB images received. Transforming to grayscale.\n"
     ]
    },
    {
     "name": "stderr",
     "output_type": "stream",
     "text": [
      "rgb2gray: 100%|██████████| 10000/10000 [00:03<00:00, 2859.06it/s]\n"
     ]
    },
    {
     "name": "stdout",
     "output_type": "stream",
     "text": [
      "Got the result from ./20/test/filtrations/4/RadialFiltration_26_26/gray/diagrams.npy\n",
      "Applying Scaler to persistence diagrams.\n",
      "Got the result from ./20/test/filtrations/4/RadialFiltration_26_26/red/diagrams.npy\n",
      "Applying Scaler to persistence diagrams.\n",
      "Got the result from ./20/test/filtrations/4/RadialFiltration_26_26/green/diagrams.npy\n",
      "Applying Scaler to persistence diagrams.\n",
      "Got the result from ./20/test/filtrations/4/RadialFiltration_26_26/blue/diagrams.npy\n",
      "Applying Scaler to persistence diagrams.\n",
      "Applying filtration 49/72: 6/HeightFiltrartion_-1_-1\n",
      "RGB images received. Transforming to grayscale.\n"
     ]
    },
    {
     "name": "stderr",
     "output_type": "stream",
     "text": [
      "rgb2gray: 100%|██████████| 10000/10000 [00:03<00:00, 3091.79it/s]\n"
     ]
    },
    {
     "name": "stdout",
     "output_type": "stream",
     "text": [
      "Got the result from ./20/test/filtrations/6/HeightFiltrartion_-1_-1/gray/diagrams.npy\n",
      "Applying Scaler to persistence diagrams.\n",
      "Got the result from ./20/test/filtrations/6/HeightFiltrartion_-1_-1/red/diagrams.npy\n",
      "Applying Scaler to persistence diagrams.\n",
      "Got the result from ./20/test/filtrations/6/HeightFiltrartion_-1_-1/green/diagrams.npy\n",
      "Applying Scaler to persistence diagrams.\n",
      "Got the result from ./20/test/filtrations/6/HeightFiltrartion_-1_-1/blue/diagrams.npy\n",
      "Applying Scaler to persistence diagrams.\n",
      "Applying filtration 50/72: 6/HeightFiltrartion_1_1\n",
      "RGB images received. Transforming to grayscale.\n"
     ]
    },
    {
     "name": "stderr",
     "output_type": "stream",
     "text": [
      "rgb2gray: 100%|██████████| 10000/10000 [00:03<00:00, 2903.75it/s]\n"
     ]
    },
    {
     "name": "stdout",
     "output_type": "stream",
     "text": [
      "Got the result from ./20/test/filtrations/6/HeightFiltrartion_1_1/gray/diagrams.npy\n",
      "Applying Scaler to persistence diagrams.\n",
      "Got the result from ./20/test/filtrations/6/HeightFiltrartion_1_1/red/diagrams.npy\n",
      "Applying Scaler to persistence diagrams.\n",
      "Got the result from ./20/test/filtrations/6/HeightFiltrartion_1_1/green/diagrams.npy\n",
      "Applying Scaler to persistence diagrams.\n",
      "Got the result from ./20/test/filtrations/6/HeightFiltrartion_1_1/blue/diagrams.npy\n",
      "Applying Scaler to persistence diagrams.\n",
      "Applying filtration 51/72: 6/HeightFiltrartion_1_-1\n",
      "RGB images received. Transforming to grayscale.\n"
     ]
    },
    {
     "name": "stderr",
     "output_type": "stream",
     "text": [
      "rgb2gray: 100%|██████████| 10000/10000 [00:03<00:00, 2798.82it/s]\n"
     ]
    },
    {
     "name": "stdout",
     "output_type": "stream",
     "text": [
      "Got the result from ./20/test/filtrations/6/HeightFiltrartion_1_-1/gray/diagrams.npy\n",
      "Applying Scaler to persistence diagrams.\n",
      "Got the result from ./20/test/filtrations/6/HeightFiltrartion_1_-1/red/diagrams.npy\n",
      "Applying Scaler to persistence diagrams.\n",
      "Got the result from ./20/test/filtrations/6/HeightFiltrartion_1_-1/green/diagrams.npy\n",
      "Applying Scaler to persistence diagrams.\n",
      "Got the result from ./20/test/filtrations/6/HeightFiltrartion_1_-1/blue/diagrams.npy\n",
      "Applying Scaler to persistence diagrams.\n",
      "Applying filtration 52/72: 6/HeightFiltrartion_-1_1\n",
      "RGB images received. Transforming to grayscale.\n"
     ]
    },
    {
     "name": "stderr",
     "output_type": "stream",
     "text": [
      "rgb2gray: 100%|██████████| 10000/10000 [00:04<00:00, 2499.07it/s]\n"
     ]
    },
    {
     "name": "stdout",
     "output_type": "stream",
     "text": [
      "Got the result from ./20/test/filtrations/6/HeightFiltrartion_-1_1/gray/diagrams.npy\n",
      "Applying Scaler to persistence diagrams.\n",
      "Got the result from ./20/test/filtrations/6/HeightFiltrartion_-1_1/red/diagrams.npy\n",
      "Applying Scaler to persistence diagrams.\n",
      "Got the result from ./20/test/filtrations/6/HeightFiltrartion_-1_1/green/diagrams.npy\n",
      "Applying Scaler to persistence diagrams.\n",
      "Got the result from ./20/test/filtrations/6/HeightFiltrartion_-1_1/blue/diagrams.npy\n",
      "Applying Scaler to persistence diagrams.\n",
      "Applying filtration 53/72: 6/HeightFiltrartion_0_-1\n",
      "RGB images received. Transforming to grayscale.\n"
     ]
    },
    {
     "name": "stderr",
     "output_type": "stream",
     "text": [
      "rgb2gray: 100%|██████████| 10000/10000 [00:03<00:00, 2552.15it/s]\n"
     ]
    },
    {
     "name": "stdout",
     "output_type": "stream",
     "text": [
      "Got the result from ./20/test/filtrations/6/HeightFiltrartion_0_-1/gray/diagrams.npy\n",
      "Applying Scaler to persistence diagrams.\n",
      "Got the result from ./20/test/filtrations/6/HeightFiltrartion_0_-1/red/diagrams.npy\n",
      "Applying Scaler to persistence diagrams.\n",
      "Got the result from ./20/test/filtrations/6/HeightFiltrartion_0_-1/green/diagrams.npy\n",
      "Applying Scaler to persistence diagrams.\n",
      "Got the result from ./20/test/filtrations/6/HeightFiltrartion_0_-1/blue/diagrams.npy\n",
      "Applying Scaler to persistence diagrams.\n",
      "Applying filtration 54/72: 6/HeightFiltrartion_0_1\n",
      "RGB images received. Transforming to grayscale.\n"
     ]
    },
    {
     "name": "stderr",
     "output_type": "stream",
     "text": [
      "rgb2gray: 100%|██████████| 10000/10000 [00:03<00:00, 2692.03it/s]\n"
     ]
    },
    {
     "name": "stdout",
     "output_type": "stream",
     "text": [
      "Got the result from ./20/test/filtrations/6/HeightFiltrartion_0_1/gray/diagrams.npy\n",
      "Applying Scaler to persistence diagrams.\n",
      "Got the result from ./20/test/filtrations/6/HeightFiltrartion_0_1/red/diagrams.npy\n",
      "Applying Scaler to persistence diagrams.\n",
      "Got the result from ./20/test/filtrations/6/HeightFiltrartion_0_1/green/diagrams.npy\n",
      "Applying Scaler to persistence diagrams.\n",
      "Got the result from ./20/test/filtrations/6/HeightFiltrartion_0_1/blue/diagrams.npy\n",
      "Applying Scaler to persistence diagrams.\n",
      "Applying filtration 55/72: 6/HeightFiltrartion_-1_0\n",
      "RGB images received. Transforming to grayscale.\n"
     ]
    },
    {
     "name": "stderr",
     "output_type": "stream",
     "text": [
      "rgb2gray: 100%|██████████| 10000/10000 [00:03<00:00, 2846.04it/s]\n"
     ]
    },
    {
     "name": "stdout",
     "output_type": "stream",
     "text": [
      "Got the result from ./20/test/filtrations/6/HeightFiltrartion_-1_0/gray/diagrams.npy\n",
      "Applying Scaler to persistence diagrams.\n",
      "Got the result from ./20/test/filtrations/6/HeightFiltrartion_-1_0/red/diagrams.npy\n",
      "Applying Scaler to persistence diagrams.\n",
      "Got the result from ./20/test/filtrations/6/HeightFiltrartion_-1_0/green/diagrams.npy\n",
      "Applying Scaler to persistence diagrams.\n",
      "Got the result from ./20/test/filtrations/6/HeightFiltrartion_-1_0/blue/diagrams.npy\n",
      "Applying Scaler to persistence diagrams.\n",
      "Applying filtration 56/72: 6/HeightFiltrartion_1_0\n",
      "RGB images received. Transforming to grayscale.\n"
     ]
    },
    {
     "name": "stderr",
     "output_type": "stream",
     "text": [
      "rgb2gray: 100%|██████████| 10000/10000 [00:03<00:00, 2827.65it/s]\n"
     ]
    },
    {
     "name": "stdout",
     "output_type": "stream",
     "text": [
      "Got the result from ./20/test/filtrations/6/HeightFiltrartion_1_0/gray/diagrams.npy\n",
      "Applying Scaler to persistence diagrams.\n",
      "Got the result from ./20/test/filtrations/6/HeightFiltrartion_1_0/red/diagrams.npy\n",
      "Applying Scaler to persistence diagrams.\n",
      "Got the result from ./20/test/filtrations/6/HeightFiltrartion_1_0/green/diagrams.npy\n",
      "Applying Scaler to persistence diagrams.\n",
      "Got the result from ./20/test/filtrations/6/HeightFiltrartion_1_0/blue/diagrams.npy\n",
      "Applying Scaler to persistence diagrams.\n",
      "Applying filtration 57/72: 6/RadialFiltration_5_5\n",
      "RGB images received. Transforming to grayscale.\n"
     ]
    },
    {
     "name": "stderr",
     "output_type": "stream",
     "text": [
      "rgb2gray: 100%|██████████| 10000/10000 [00:03<00:00, 3007.73it/s]\n"
     ]
    },
    {
     "name": "stdout",
     "output_type": "stream",
     "text": [
      "Got the result from ./20/test/filtrations/6/RadialFiltration_5_5/gray/diagrams.npy\n",
      "Applying Scaler to persistence diagrams.\n",
      "Got the result from ./20/test/filtrations/6/RadialFiltration_5_5/red/diagrams.npy\n",
      "Applying Scaler to persistence diagrams.\n",
      "Got the result from ./20/test/filtrations/6/RadialFiltration_5_5/green/diagrams.npy\n",
      "Applying Scaler to persistence diagrams.\n",
      "Got the result from ./20/test/filtrations/6/RadialFiltration_5_5/blue/diagrams.npy\n",
      "Applying Scaler to persistence diagrams.\n",
      "Applying filtration 58/72: 6/RadialFiltration_5_12\n",
      "RGB images received. Transforming to grayscale.\n"
     ]
    },
    {
     "name": "stderr",
     "output_type": "stream",
     "text": [
      "rgb2gray: 100%|██████████| 10000/10000 [00:03<00:00, 2852.11it/s]\n"
     ]
    },
    {
     "name": "stdout",
     "output_type": "stream",
     "text": [
      "Got the result from ./20/test/filtrations/6/RadialFiltration_5_12/gray/diagrams.npy\n",
      "Applying Scaler to persistence diagrams.\n",
      "Got the result from ./20/test/filtrations/6/RadialFiltration_5_12/red/diagrams.npy\n",
      "Applying Scaler to persistence diagrams.\n",
      "Got the result from ./20/test/filtrations/6/RadialFiltration_5_12/green/diagrams.npy\n",
      "Applying Scaler to persistence diagrams.\n",
      "Got the result from ./20/test/filtrations/6/RadialFiltration_5_12/blue/diagrams.npy\n",
      "Applying Scaler to persistence diagrams.\n",
      "Applying filtration 59/72: 6/RadialFiltration_5_19\n",
      "RGB images received. Transforming to grayscale.\n"
     ]
    },
    {
     "name": "stderr",
     "output_type": "stream",
     "text": [
      "rgb2gray: 100%|██████████| 10000/10000 [00:03<00:00, 2908.52it/s]\n"
     ]
    },
    {
     "name": "stdout",
     "output_type": "stream",
     "text": [
      "Got the result from ./20/test/filtrations/6/RadialFiltration_5_19/gray/diagrams.npy\n",
      "Applying Scaler to persistence diagrams.\n",
      "Got the result from ./20/test/filtrations/6/RadialFiltration_5_19/red/diagrams.npy\n",
      "Applying Scaler to persistence diagrams.\n",
      "Got the result from ./20/test/filtrations/6/RadialFiltration_5_19/green/diagrams.npy\n",
      "Applying Scaler to persistence diagrams.\n",
      "Got the result from ./20/test/filtrations/6/RadialFiltration_5_19/blue/diagrams.npy\n",
      "Applying Scaler to persistence diagrams.\n",
      "Applying filtration 60/72: 6/RadialFiltration_5_26\n",
      "RGB images received. Transforming to grayscale.\n"
     ]
    },
    {
     "name": "stderr",
     "output_type": "stream",
     "text": [
      "rgb2gray: 100%|██████████| 10000/10000 [00:03<00:00, 2729.44it/s]\n"
     ]
    },
    {
     "name": "stdout",
     "output_type": "stream",
     "text": [
      "Got the result from ./20/test/filtrations/6/RadialFiltration_5_26/gray/diagrams.npy\n",
      "Applying Scaler to persistence diagrams.\n",
      "Got the result from ./20/test/filtrations/6/RadialFiltration_5_26/red/diagrams.npy\n",
      "Applying Scaler to persistence diagrams.\n",
      "Got the result from ./20/test/filtrations/6/RadialFiltration_5_26/green/diagrams.npy\n",
      "Applying Scaler to persistence diagrams.\n",
      "Got the result from ./20/test/filtrations/6/RadialFiltration_5_26/blue/diagrams.npy\n",
      "Applying Scaler to persistence diagrams.\n",
      "Applying filtration 61/72: 6/RadialFiltration_12_5\n",
      "RGB images received. Transforming to grayscale.\n"
     ]
    },
    {
     "name": "stderr",
     "output_type": "stream",
     "text": [
      "rgb2gray: 100%|██████████| 10000/10000 [00:03<00:00, 2566.64it/s]\n"
     ]
    },
    {
     "name": "stdout",
     "output_type": "stream",
     "text": [
      "Got the result from ./20/test/filtrations/6/RadialFiltration_12_5/gray/diagrams.npy\n",
      "Applying Scaler to persistence diagrams.\n",
      "Got the result from ./20/test/filtrations/6/RadialFiltration_12_5/red/diagrams.npy\n",
      "Applying Scaler to persistence diagrams.\n",
      "Got the result from ./20/test/filtrations/6/RadialFiltration_12_5/green/diagrams.npy\n",
      "Applying Scaler to persistence diagrams.\n",
      "Got the result from ./20/test/filtrations/6/RadialFiltration_12_5/blue/diagrams.npy\n",
      "Applying Scaler to persistence diagrams.\n",
      "Applying filtration 62/72: 6/RadialFiltration_12_12\n",
      "RGB images received. Transforming to grayscale.\n"
     ]
    },
    {
     "name": "stderr",
     "output_type": "stream",
     "text": [
      "rgb2gray: 100%|██████████| 10000/10000 [00:03<00:00, 2791.04it/s]\n"
     ]
    },
    {
     "name": "stdout",
     "output_type": "stream",
     "text": [
      "Got the result from ./20/test/filtrations/6/RadialFiltration_12_12/gray/diagrams.npy\n",
      "Applying Scaler to persistence diagrams.\n",
      "Got the result from ./20/test/filtrations/6/RadialFiltration_12_12/red/diagrams.npy\n",
      "Applying Scaler to persistence diagrams.\n",
      "Got the result from ./20/test/filtrations/6/RadialFiltration_12_12/green/diagrams.npy\n",
      "Applying Scaler to persistence diagrams.\n",
      "Got the result from ./20/test/filtrations/6/RadialFiltration_12_12/blue/diagrams.npy\n",
      "Applying Scaler to persistence diagrams.\n",
      "Applying filtration 63/72: 6/RadialFiltration_12_19\n",
      "RGB images received. Transforming to grayscale.\n"
     ]
    },
    {
     "name": "stderr",
     "output_type": "stream",
     "text": [
      "rgb2gray: 100%|██████████| 10000/10000 [00:03<00:00, 2873.27it/s]\n"
     ]
    },
    {
     "name": "stdout",
     "output_type": "stream",
     "text": [
      "Got the result from ./20/test/filtrations/6/RadialFiltration_12_19/gray/diagrams.npy\n",
      "Applying Scaler to persistence diagrams.\n",
      "Got the result from ./20/test/filtrations/6/RadialFiltration_12_19/red/diagrams.npy\n",
      "Applying Scaler to persistence diagrams.\n",
      "Got the result from ./20/test/filtrations/6/RadialFiltration_12_19/green/diagrams.npy\n",
      "Applying Scaler to persistence diagrams.\n",
      "Got the result from ./20/test/filtrations/6/RadialFiltration_12_19/blue/diagrams.npy\n",
      "Applying Scaler to persistence diagrams.\n",
      "Applying filtration 64/72: 6/RadialFiltration_12_26\n",
      "RGB images received. Transforming to grayscale.\n"
     ]
    },
    {
     "name": "stderr",
     "output_type": "stream",
     "text": [
      "rgb2gray: 100%|██████████| 10000/10000 [00:03<00:00, 2946.16it/s]\n"
     ]
    },
    {
     "name": "stdout",
     "output_type": "stream",
     "text": [
      "Got the result from ./20/test/filtrations/6/RadialFiltration_12_26/gray/diagrams.npy\n",
      "Applying Scaler to persistence diagrams.\n",
      "Got the result from ./20/test/filtrations/6/RadialFiltration_12_26/red/diagrams.npy\n",
      "Applying Scaler to persistence diagrams.\n",
      "Got the result from ./20/test/filtrations/6/RadialFiltration_12_26/green/diagrams.npy\n",
      "Applying Scaler to persistence diagrams.\n",
      "Got the result from ./20/test/filtrations/6/RadialFiltration_12_26/blue/diagrams.npy\n",
      "Applying Scaler to persistence diagrams.\n",
      "Applying filtration 65/72: 6/RadialFiltration_19_5\n",
      "RGB images received. Transforming to grayscale.\n"
     ]
    },
    {
     "name": "stderr",
     "output_type": "stream",
     "text": [
      "rgb2gray: 100%|██████████| 10000/10000 [00:03<00:00, 2846.06it/s]\n"
     ]
    },
    {
     "name": "stdout",
     "output_type": "stream",
     "text": [
      "Got the result from ./20/test/filtrations/6/RadialFiltration_19_5/gray/diagrams.npy\n",
      "Applying Scaler to persistence diagrams.\n",
      "Got the result from ./20/test/filtrations/6/RadialFiltration_19_5/red/diagrams.npy\n",
      "Applying Scaler to persistence diagrams.\n",
      "Got the result from ./20/test/filtrations/6/RadialFiltration_19_5/green/diagrams.npy\n",
      "Applying Scaler to persistence diagrams.\n",
      "Got the result from ./20/test/filtrations/6/RadialFiltration_19_5/blue/diagrams.npy\n",
      "Applying Scaler to persistence diagrams.\n",
      "Applying filtration 66/72: 6/RadialFiltration_19_12\n",
      "RGB images received. Transforming to grayscale.\n"
     ]
    },
    {
     "name": "stderr",
     "output_type": "stream",
     "text": [
      "rgb2gray: 100%|██████████| 10000/10000 [00:03<00:00, 2797.02it/s]\n"
     ]
    },
    {
     "name": "stdout",
     "output_type": "stream",
     "text": [
      "Got the result from ./20/test/filtrations/6/RadialFiltration_19_12/gray/diagrams.npy\n",
      "Applying Scaler to persistence diagrams.\n",
      "Got the result from ./20/test/filtrations/6/RadialFiltration_19_12/red/diagrams.npy\n",
      "Applying Scaler to persistence diagrams.\n",
      "Got the result from ./20/test/filtrations/6/RadialFiltration_19_12/green/diagrams.npy\n",
      "Applying Scaler to persistence diagrams.\n",
      "Got the result from ./20/test/filtrations/6/RadialFiltration_19_12/blue/diagrams.npy\n",
      "Applying Scaler to persistence diagrams.\n",
      "Applying filtration 67/72: 6/RadialFiltration_19_19\n",
      "RGB images received. Transforming to grayscale.\n"
     ]
    },
    {
     "name": "stderr",
     "output_type": "stream",
     "text": [
      "rgb2gray: 100%|██████████| 10000/10000 [00:03<00:00, 2736.58it/s]\n"
     ]
    },
    {
     "name": "stdout",
     "output_type": "stream",
     "text": [
      "Got the result from ./20/test/filtrations/6/RadialFiltration_19_19/gray/diagrams.npy\n",
      "Applying Scaler to persistence diagrams.\n",
      "Got the result from ./20/test/filtrations/6/RadialFiltration_19_19/red/diagrams.npy\n",
      "Applying Scaler to persistence diagrams.\n",
      "Got the result from ./20/test/filtrations/6/RadialFiltration_19_19/green/diagrams.npy\n",
      "Applying Scaler to persistence diagrams.\n",
      "Got the result from ./20/test/filtrations/6/RadialFiltration_19_19/blue/diagrams.npy\n",
      "Applying Scaler to persistence diagrams.\n",
      "Applying filtration 68/72: 6/RadialFiltration_19_26\n",
      "RGB images received. Transforming to grayscale.\n"
     ]
    },
    {
     "name": "stderr",
     "output_type": "stream",
     "text": [
      "rgb2gray: 100%|██████████| 10000/10000 [00:03<00:00, 2656.48it/s]\n"
     ]
    },
    {
     "name": "stdout",
     "output_type": "stream",
     "text": [
      "Got the result from ./20/test/filtrations/6/RadialFiltration_19_26/gray/diagrams.npy\n",
      "Applying Scaler to persistence diagrams.\n",
      "Got the result from ./20/test/filtrations/6/RadialFiltration_19_26/red/diagrams.npy\n",
      "Applying Scaler to persistence diagrams.\n",
      "Got the result from ./20/test/filtrations/6/RadialFiltration_19_26/green/diagrams.npy\n",
      "Applying Scaler to persistence diagrams.\n",
      "Got the result from ./20/test/filtrations/6/RadialFiltration_19_26/blue/diagrams.npy\n",
      "Applying Scaler to persistence diagrams.\n",
      "Applying filtration 69/72: 6/RadialFiltration_26_5\n",
      "RGB images received. Transforming to grayscale.\n"
     ]
    },
    {
     "name": "stderr",
     "output_type": "stream",
     "text": [
      "rgb2gray: 100%|██████████| 10000/10000 [00:03<00:00, 2786.10it/s]\n"
     ]
    },
    {
     "name": "stdout",
     "output_type": "stream",
     "text": [
      "Got the result from ./20/test/filtrations/6/RadialFiltration_26_5/gray/diagrams.npy\n",
      "Applying Scaler to persistence diagrams.\n",
      "Got the result from ./20/test/filtrations/6/RadialFiltration_26_5/red/diagrams.npy\n",
      "Applying Scaler to persistence diagrams.\n",
      "Got the result from ./20/test/filtrations/6/RadialFiltration_26_5/green/diagrams.npy\n",
      "Applying Scaler to persistence diagrams.\n",
      "Got the result from ./20/test/filtrations/6/RadialFiltration_26_5/blue/diagrams.npy\n",
      "Applying Scaler to persistence diagrams.\n",
      "Applying filtration 70/72: 6/RadialFiltration_26_12\n",
      "RGB images received. Transforming to grayscale.\n"
     ]
    },
    {
     "name": "stderr",
     "output_type": "stream",
     "text": [
      "rgb2gray: 100%|██████████| 10000/10000 [00:04<00:00, 2488.80it/s]\n"
     ]
    },
    {
     "name": "stdout",
     "output_type": "stream",
     "text": [
      "Got the result from ./20/test/filtrations/6/RadialFiltration_26_12/gray/diagrams.npy\n",
      "Applying Scaler to persistence diagrams.\n",
      "Got the result from ./20/test/filtrations/6/RadialFiltration_26_12/red/diagrams.npy\n",
      "Applying Scaler to persistence diagrams.\n",
      "Got the result from ./20/test/filtrations/6/RadialFiltration_26_12/green/diagrams.npy\n",
      "Applying Scaler to persistence diagrams.\n",
      "Got the result from ./20/test/filtrations/6/RadialFiltration_26_12/blue/diagrams.npy\n",
      "Applying Scaler to persistence diagrams.\n",
      "Applying filtration 71/72: 6/RadialFiltration_26_19\n",
      "RGB images received. Transforming to grayscale.\n"
     ]
    },
    {
     "name": "stderr",
     "output_type": "stream",
     "text": [
      "rgb2gray: 100%|██████████| 10000/10000 [00:03<00:00, 2710.82it/s]\n"
     ]
    },
    {
     "name": "stdout",
     "output_type": "stream",
     "text": [
      "Got the result from ./20/test/filtrations/6/RadialFiltration_26_19/gray/diagrams.npy\n",
      "Applying Scaler to persistence diagrams.\n",
      "Got the result from ./20/test/filtrations/6/RadialFiltration_26_19/red/diagrams.npy\n",
      "Applying Scaler to persistence diagrams.\n",
      "Got the result from ./20/test/filtrations/6/RadialFiltration_26_19/green/diagrams.npy\n",
      "Applying Scaler to persistence diagrams.\n",
      "Got the result from ./20/test/filtrations/6/RadialFiltration_26_19/blue/diagrams.npy\n",
      "Applying Scaler to persistence diagrams.\n",
      "Applying filtration 72/72: 6/RadialFiltration_26_26\n",
      "RGB images received. Transforming to grayscale.\n"
     ]
    },
    {
     "name": "stderr",
     "output_type": "stream",
     "text": [
      "rgb2gray: 100%|██████████| 10000/10000 [00:03<00:00, 2834.00it/s]\n"
     ]
    },
    {
     "name": "stdout",
     "output_type": "stream",
     "text": [
      "Got the result from ./20/test/filtrations/6/RadialFiltration_26_26/gray/diagrams.npy\n",
      "Applying Scaler to persistence diagrams.\n",
      "Got the result from ./20/test/filtrations/6/RadialFiltration_26_26/red/diagrams.npy\n",
      "Applying Scaler to persistence diagrams.\n",
      "Got the result from ./20/test/filtrations/6/RadialFiltration_26_26/green/diagrams.npy\n",
      "Applying Scaler to persistence diagrams.\n",
      "Got the result from ./20/test/filtrations/6/RadialFiltration_26_26/blue/diagrams.npy\n",
      "Applying Scaler to persistence diagrams.\n",
      "Diagrams requested. Returning diagrams.\n"
     ]
    }
   ],
   "source": [
    "import cvtda.topology\n",
    "extractor = cvtda.topology.FeatureExtractor(only_get_from_dump = True, return_diagrams = True)\n",
    "extractor = extractor.fit(train_images, \"20/train\")\n",
    "train_diagrams = extractor.transform(train_images, \"20/train\")\n",
    "test_diagrams = extractor.transform(test_images, \"20/test\")"
   ]
  },
  {
   "cell_type": "code",
   "execution_count": 5,
   "metadata": {},
   "outputs": [
    {
     "name": "stderr",
     "output_type": "stream",
     "text": [
      "Dataset: processing diagrams:  11%|█         | 32/296 [00:33<04:40,  1.06s/it]d:\\Programs\\Programming\\Python\\lib\\site-packages\\joblib\\externals\\loky\\process_executor.py:752: UserWarning: A worker stopped while some jobs were given to the executor. This can be caused by a too short worker timeout or by a memory leak.\n",
      "  warnings.warn(\n",
      "Dataset: processing diagrams: 100%|██████████| 296/296 [06:19<00:00,  1.28s/it]\n"
     ]
    },
    {
     "name": "stdout",
     "output_type": "stream",
     "text": [
      "Constructed a dataset of 50000 images of shape torch.Size([3, 32, 32]) with 592 diagrams and 43103 features\n"
     ]
    },
    {
     "name": "stderr",
     "output_type": "stream",
     "text": [
      "Dataset: processing diagrams: 100%|██████████| 296/296 [01:11<00:00,  4.13it/s]\n"
     ]
    },
    {
     "name": "stdout",
     "output_type": "stream",
     "text": [
      "Constructed a dataset of 10000 images of shape torch.Size([3, 32, 32]) with 592 diagrams and 43103 features\n",
      "Trying KNeighborsClassifier - KNeighborsClassifier(n_jobs=-1, n_neighbors=50)\n",
      "Got the result from ./22/predictions/KNeighborsClassifier.npy\n",
      "{'classifier': 'Метод k ближайших соседей', 'Accuracy': 0.4781, 'TOP-2 Accuracy': 0.6757, 'TOP-3 Accuracy': 0.7837, 'TOP-4 Accuracy': 0.8552, 'TOP-5 Accuracy': 0.9025, 'TOP-6 Accuracy': 0.9359, 'TOP-7 Accuracy': 0.9597, 'TOP-8 Accuracy': 0.977, 'TOP-9 Accuracy': 0.9915, 'AUC-ROC': 0.868682788888889, 'Precision': 0.4799406246812062, 'Recall': 0.4781000000000001, 'F1-score': 0.46925742521179015}\n",
      "Trying RandomForestClassifier - RandomForestClassifier(n_jobs=-1, random_state=42)\n",
      "Got the result from ./22/predictions/RandomForestClassifier.npy\n",
      "{'classifier': 'Случайный лес', 'Accuracy': 0.5678, 'TOP-2 Accuracy': 0.7332, 'TOP-3 Accuracy': 0.8316, 'TOP-4 Accuracy': 0.8894, 'TOP-5 Accuracy': 0.9269, 'TOP-6 Accuracy': 0.9534, 'TOP-7 Accuracy': 0.9729, 'TOP-8 Accuracy': 0.9863, 'TOP-9 Accuracy': 0.9941, 'AUC-ROC': 0.8980604222222223, 'Precision': 0.5617996623143087, 'Recall': 0.5678, 'F1-score': 0.562304474226044}\n",
      "Trying HistGradientBoostingClassifier - HistGradientBoostingClassifier(max_depth=4, max_features=0.1, max_iter=20,\n",
      "                               random_state=42, verbose=2)\n",
      "Got the result from ./22/predictions/HistGradientBoostingClassifier.npy\n",
      "{'classifier': 'Град. бустинг на основе гистограм', 'Accuracy': 0.579, 'TOP-2 Accuracy': 0.7649, 'TOP-3 Accuracy': 0.8581, 'TOP-4 Accuracy': 0.9151, 'TOP-5 Accuracy': 0.9482, 'TOP-6 Accuracy': 0.9698, 'TOP-7 Accuracy': 0.9814, 'TOP-8 Accuracy': 0.9916, 'TOP-9 Accuracy': 0.997, 'AUC-ROC': 0.9151773888888888, 'Precision': 0.5742407778988495, 'Recall': 0.579, 'F1-score': 0.5748803078375007}\n",
      "Trying CatBoostClassifier - <catboost.core.CatBoostClassifier object at 0x00000168CF502980>\n",
      "Got the result from ./22/predictions/CatBoostClassifier.npy\n",
      "{'classifier': 'CatBoost', 'Accuracy': 0.6978, 'TOP-2 Accuracy': 0.8491, 'TOP-3 Accuracy': 0.9206, 'TOP-4 Accuracy': 0.9566, 'TOP-5 Accuracy': 0.9742, 'TOP-6 Accuracy': 0.9859, 'TOP-7 Accuracy': 0.9934, 'TOP-8 Accuracy': 0.9971, 'TOP-9 Accuracy': 0.9991, 'AUC-ROC': 0.953758188888889, 'Precision': 0.6952008254942645, 'Recall': 0.6978000000000001, 'F1-score': 0.6961315292128154}\n",
      "Trying XGBClassifier - XGBClassifier(base_score=None, booster=None, callbacks=None,\n",
      "              colsample_bylevel=None, colsample_bynode=None,\n",
      "              colsample_bytree=None, device='gpu', early_stopping_rounds=None,\n",
      "              enable_categorical=False, eval_metric=None, feature_types=None,\n",
      "              gamma=None, grow_policy=None, importance_type=None,\n",
      "              interaction_constraints=None, learning_rate=None, max_bin=None,\n",
      "              max_cat_threshold=None, max_cat_to_onehot=None,\n",
      "              max_delta_step=None, max_depth=4, max_leaves=None,\n",
      "              min_child_weight=None, missing=nan, monotone_constraints=None,\n",
      "              multi_strategy=None, n_estimators=25, n_jobs=-1,\n",
      "              num_parallel_tree=None, random_state=None, ...)\n",
      "Got the result from ./22/predictions/XGBClassifier.npy\n",
      "{'classifier': 'XGBoost', 'Accuracy': 0.6239, 'TOP-2 Accuracy': 0.8035, 'TOP-3 Accuracy': 0.8861, 'TOP-4 Accuracy': 0.933, 'TOP-5 Accuracy': 0.962, 'TOP-6 Accuracy': 0.9798, 'TOP-7 Accuracy': 0.9886, 'TOP-8 Accuracy': 0.9947, 'TOP-9 Accuracy': 0.9983, 'AUC-ROC': 0.9322028, 'Precision': 0.6206758986855972, 'Recall': 0.6239000000000001, 'F1-score': 0.6214007950792819}\n",
      "Trying NNClassifier_features - <cvtda.classification.NNClassifier.NNClassifier object at 0x00000168CF5035E0>\n",
      "Got the result from ./22/predictions/NNClassifier_features.npy\n",
      "{'classifier': 'Нейронная сеть для тополог. признаков', 'Accuracy': 0.731, 'TOP-2 Accuracy': 0.868, 'TOP-3 Accuracy': 0.9232, 'TOP-4 Accuracy': 0.9554, 'TOP-5 Accuracy': 0.9723, 'TOP-6 Accuracy': 0.9824, 'TOP-7 Accuracy': 0.9892, 'TOP-8 Accuracy': 0.9933, 'TOP-9 Accuracy': 0.9979, 'AUC-ROC': 0.9576151444444444, 'Precision': 0.7309346267773037, 'Recall': 0.7310000000000001, 'F1-score': 0.7304645966802319}\n",
      "Trying NNClassifier_diagrams - <cvtda.classification.NNClassifier.NNClassifier object at 0x00000168CF503D60>\n",
      "Topology:  False\n",
      "Images:  torch.Size([256, 3, 32, 32])\n",
      "Features:  torch.Size([256, 43103])\n",
      "Input to LazyLinear: 1024\n",
      "Parameters: 39256810\n"
     ]
    },
    {
     "name": "stderr",
     "output_type": "stream",
     "text": [
      "Epoch 0: 100%|██████████| 196/196 [34:07<00:00, 10.45s/it]\n"
     ]
    },
    {
     "name": "stdout",
     "output_type": "stream",
     "text": [
      "Epoch 0: {'loss': 356.22397327423096, 'lr': 0.1, 'val_acc': 0.3872}\n"
     ]
    },
    {
     "name": "stderr",
     "output_type": "stream",
     "text": [
      "Epoch 1: 100%|██████████| 196/196 [36:43<00:00, 11.24s/it]\n"
     ]
    },
    {
     "name": "stdout",
     "output_type": "stream",
     "text": [
      "Epoch 1: {'loss': 320.1715188026428, 'lr': 0.1, 'val_acc': 0.4005}\n"
     ]
    },
    {
     "name": "stderr",
     "output_type": "stream",
     "text": [
      "Epoch 2: 100%|██████████| 196/196 [35:11<00:00, 10.77s/it]\n"
     ]
    },
    {
     "name": "stdout",
     "output_type": "stream",
     "text": [
      "Epoch 2: {'loss': 289.2151789665222, 'lr': 0.010000000000000002, 'val_acc': 0.5063}\n"
     ]
    },
    {
     "name": "stderr",
     "output_type": "stream",
     "text": [
      "Epoch 3: 100%|██████████| 196/196 [36:49<00:00, 11.27s/it]\n"
     ]
    },
    {
     "name": "stdout",
     "output_type": "stream",
     "text": [
      "Epoch 3: {'loss': 274.15871357917786, 'lr': 0.010000000000000002, 'val_acc': 0.5189}\n"
     ]
    },
    {
     "name": "stderr",
     "output_type": "stream",
     "text": [
      "Epoch 4: 100%|██████████| 196/196 [35:39<00:00, 10.91s/it]\n"
     ]
    },
    {
     "name": "stdout",
     "output_type": "stream",
     "text": [
      "Epoch 4: {'loss': 265.56593096256256, 'lr': 0.010000000000000002, 'val_acc': 0.5218}\n"
     ]
    },
    {
     "name": "stderr",
     "output_type": "stream",
     "text": [
      "Epoch 5: 100%|██████████| 196/196 [35:37<00:00, 10.90s/it]\n"
     ]
    },
    {
     "name": "stdout",
     "output_type": "stream",
     "text": [
      "Epoch 5: {'loss': 255.76633727550507, 'lr': 0.001, 'val_acc': 0.5496}\n"
     ]
    },
    {
     "name": "stderr",
     "output_type": "stream",
     "text": [
      "Epoch 6: 100%|██████████| 196/196 [36:24<00:00, 11.15s/it]\n"
     ]
    },
    {
     "name": "stdout",
     "output_type": "stream",
     "text": [
      "Epoch 6: {'loss': 253.57197701931, 'lr': 0.001, 'val_acc': 0.5546}\n"
     ]
    },
    {
     "name": "stderr",
     "output_type": "stream",
     "text": [
      "Epoch 7: 100%|██████████| 196/196 [36:23<00:00, 11.14s/it]\n"
     ]
    },
    {
     "name": "stdout",
     "output_type": "stream",
     "text": [
      "Epoch 7: {'loss': 251.94159722328186, 'lr': 0.001, 'val_acc': 0.5565}\n"
     ]
    },
    {
     "name": "stderr",
     "output_type": "stream",
     "text": [
      "Epoch 8: 100%|██████████| 196/196 [35:27<00:00, 10.85s/it]\n"
     ]
    },
    {
     "name": "stdout",
     "output_type": "stream",
     "text": [
      "Epoch 8: {'loss': 250.07627952098846, 'lr': 0.001, 'val_acc': 0.5585}\n"
     ]
    },
    {
     "name": "stderr",
     "output_type": "stream",
     "text": [
      "Epoch 9: 100%|██████████| 196/196 [36:12<00:00, 11.08s/it]\n"
     ]
    },
    {
     "name": "stdout",
     "output_type": "stream",
     "text": [
      "Epoch 9: {'loss': 248.1382271051407, 'lr': 0.001, 'val_acc': 0.5618}\n"
     ]
    },
    {
     "name": "stderr",
     "output_type": "stream",
     "text": [
      "Epoch 10: 100%|██████████| 196/196 [36:27<00:00, 11.16s/it]\n"
     ]
    },
    {
     "name": "stdout",
     "output_type": "stream",
     "text": [
      "Epoch 10: {'loss': 247.04686784744263, 'lr': 0.0001, 'val_acc': 0.5622}\n"
     ]
    },
    {
     "name": "stderr",
     "output_type": "stream",
     "text": [
      "Epoch 11: 100%|██████████| 196/196 [36:04<00:00, 11.04s/it]\n"
     ]
    },
    {
     "name": "stdout",
     "output_type": "stream",
     "text": [
      "Epoch 11: {'loss': 246.43707418441772, 'lr': 0.0001, 'val_acc': 0.5635}\n"
     ]
    },
    {
     "name": "stderr",
     "output_type": "stream",
     "text": [
      "Epoch 12: 100%|██████████| 196/196 [36:15<00:00, 11.10s/it]\n"
     ]
    },
    {
     "name": "stdout",
     "output_type": "stream",
     "text": [
      "Epoch 12: {'loss': 246.81080150604248, 'lr': 0.0001, 'val_acc': 0.5621}\n"
     ]
    },
    {
     "name": "stderr",
     "output_type": "stream",
     "text": [
      "Epoch 13: 100%|██████████| 196/196 [35:34<00:00, 10.89s/it]\n"
     ]
    },
    {
     "name": "stdout",
     "output_type": "stream",
     "text": [
      "Epoch 13: {'loss': 246.40095829963684, 'lr': 0.0001, 'val_acc': 0.5645}\n"
     ]
    },
    {
     "name": "stderr",
     "output_type": "stream",
     "text": [
      "Epoch 14: 100%|██████████| 196/196 [35:38<00:00, 10.91s/it]\n"
     ]
    },
    {
     "name": "stdout",
     "output_type": "stream",
     "text": [
      "Epoch 14: {'loss': 246.34018409252167, 'lr': 0.0001, 'val_acc': 0.5636}\n"
     ]
    },
    {
     "name": "stderr",
     "output_type": "stream",
     "text": [
      "Epoch 15: 100%|██████████| 196/196 [36:28<00:00, 11.16s/it]\n"
     ]
    },
    {
     "name": "stdout",
     "output_type": "stream",
     "text": [
      "Epoch 15: {'loss': 246.12700939178467, 'lr': 1e-05, 'val_acc': 0.5637}\n"
     ]
    },
    {
     "name": "stderr",
     "output_type": "stream",
     "text": [
      "Epoch 16: 100%|██████████| 196/196 [35:48<00:00, 10.96s/it]\n"
     ]
    },
    {
     "name": "stdout",
     "output_type": "stream",
     "text": [
      "Epoch 16: {'loss': 245.6876345872879, 'lr': 1e-05, 'val_acc': 0.5634}\n"
     ]
    },
    {
     "name": "stderr",
     "output_type": "stream",
     "text": [
      "Epoch 17: 100%|██████████| 196/196 [36:49<00:00, 11.27s/it]\n"
     ]
    },
    {
     "name": "stdout",
     "output_type": "stream",
     "text": [
      "Epoch 17: {'loss': 246.7617083787918, 'lr': 1e-05, 'val_acc': 0.5629}\n"
     ]
    },
    {
     "name": "stderr",
     "output_type": "stream",
     "text": [
      "Epoch 18: 100%|██████████| 196/196 [36:15<00:00, 11.10s/it]\n"
     ]
    },
    {
     "name": "stdout",
     "output_type": "stream",
     "text": [
      "Epoch 18: {'loss': 246.04898869991302, 'lr': 1e-05, 'val_acc': 0.5628}\n"
     ]
    },
    {
     "name": "stderr",
     "output_type": "stream",
     "text": [
      "Epoch 19: 100%|██████████| 196/196 [36:49<00:00, 11.27s/it]\n"
     ]
    },
    {
     "name": "stdout",
     "output_type": "stream",
     "text": [
      "Epoch 19: {'loss': 245.97832107543945, 'lr': 1e-05, 'val_acc': 0.5632}\n",
      "Saving the result to ./22/predictions/NNClassifier_diagrams.npy\n",
      "{'classifier': 'Обучаемая векторизация диаграмм', 'Accuracy': 0.5632, 'TOP-2 Accuracy': 0.7617, 'TOP-3 Accuracy': 0.8575, 'TOP-4 Accuracy': 0.9119, 'TOP-5 Accuracy': 0.9438, 'TOP-6 Accuracy': 0.965, 'TOP-7 Accuracy': 0.9795, 'TOP-8 Accuracy': 0.9887, 'TOP-9 Accuracy': 0.9955, 'AUC-ROC': 0.910656488888889, 'Precision': 0.5569187220162123, 'Recall': 0.5631999999999999, 'F1-score': 0.5575679755136604}\n",
      "Trying NNClassifier_images - <cvtda.classification.NNClassifier.NNClassifier object at 0x00000168CF5015A0>\n",
      "Got the result from ./22/predictions/NNClassifier_images.npy\n",
      "{'classifier': 'ResNet18 – базовая модель', 'Accuracy': 0.7488, 'TOP-2 Accuracy': 0.8717, 'TOP-3 Accuracy': 0.9217, 'TOP-4 Accuracy': 0.9499, 'TOP-5 Accuracy': 0.9674, 'TOP-6 Accuracy': 0.9799, 'TOP-7 Accuracy': 0.9876, 'TOP-8 Accuracy': 0.9936, 'TOP-9 Accuracy': 0.997, 'AUC-ROC': 0.9581021555555554, 'Precision': 0.7505260065447045, 'Recall': 0.7487999999999999, 'F1-score': 0.7494296143451246}\n",
      "Trying NNClassifier_features_images - <cvtda.classification.NNClassifier.NNClassifier object at 0x00000168CF503460>\n",
      "Got the result from ./22/predictions/NNClassifier_features_images.npy\n",
      "{'classifier': 'Комбинированная нейронная сеть', 'Accuracy': 0.7096, 'TOP-2 Accuracy': 0.85, 'TOP-3 Accuracy': 0.9101, 'TOP-4 Accuracy': 0.943, 'TOP-5 Accuracy': 0.9642, 'TOP-6 Accuracy': 0.9761, 'TOP-7 Accuracy': 0.9852, 'TOP-8 Accuracy': 0.993, 'TOP-9 Accuracy': 0.9969, 'AUC-ROC': 0.9479874333333332, 'Precision': 0.7147046899666886, 'Recall': 0.7095999999999999, 'F1-score': 0.7115141776062606}\n"
     ]
    },
    {
     "data": {
      "text/html": [
       "<div>\n",
       "<style scoped>\n",
       "    .dataframe tbody tr th:only-of-type {\n",
       "        vertical-align: middle;\n",
       "    }\n",
       "\n",
       "    .dataframe tbody tr th {\n",
       "        vertical-align: top;\n",
       "    }\n",
       "\n",
       "    .dataframe thead th {\n",
       "        text-align: right;\n",
       "    }\n",
       "</style>\n",
       "<table border=\"1\" class=\"dataframe\">\n",
       "  <thead>\n",
       "    <tr style=\"text-align: right;\">\n",
       "      <th></th>\n",
       "      <th>classifier</th>\n",
       "      <th>Accuracy</th>\n",
       "      <th>TOP-2 Accuracy</th>\n",
       "      <th>TOP-3 Accuracy</th>\n",
       "      <th>TOP-4 Accuracy</th>\n",
       "      <th>TOP-5 Accuracy</th>\n",
       "      <th>TOP-6 Accuracy</th>\n",
       "      <th>TOP-7 Accuracy</th>\n",
       "      <th>TOP-8 Accuracy</th>\n",
       "      <th>TOP-9 Accuracy</th>\n",
       "      <th>AUC-ROC</th>\n",
       "      <th>Precision</th>\n",
       "      <th>Recall</th>\n",
       "      <th>F1-score</th>\n",
       "    </tr>\n",
       "  </thead>\n",
       "  <tbody>\n",
       "    <tr>\n",
       "      <th>0</th>\n",
       "      <td>Метод k ближайших соседей</td>\n",
       "      <td>0.4781</td>\n",
       "      <td>0.6757</td>\n",
       "      <td>0.7837</td>\n",
       "      <td>0.8552</td>\n",
       "      <td>0.9025</td>\n",
       "      <td>0.9359</td>\n",
       "      <td>0.9597</td>\n",
       "      <td>0.9770</td>\n",
       "      <td>0.9915</td>\n",
       "      <td>0.868683</td>\n",
       "      <td>0.479941</td>\n",
       "      <td>0.4781</td>\n",
       "      <td>0.469257</td>\n",
       "    </tr>\n",
       "    <tr>\n",
       "      <th>1</th>\n",
       "      <td>Случайный лес</td>\n",
       "      <td>0.5678</td>\n",
       "      <td>0.7332</td>\n",
       "      <td>0.8316</td>\n",
       "      <td>0.8894</td>\n",
       "      <td>0.9269</td>\n",
       "      <td>0.9534</td>\n",
       "      <td>0.9729</td>\n",
       "      <td>0.9863</td>\n",
       "      <td>0.9941</td>\n",
       "      <td>0.898060</td>\n",
       "      <td>0.561800</td>\n",
       "      <td>0.5678</td>\n",
       "      <td>0.562304</td>\n",
       "    </tr>\n",
       "    <tr>\n",
       "      <th>2</th>\n",
       "      <td>Град. бустинг на основе гистограм</td>\n",
       "      <td>0.5790</td>\n",
       "      <td>0.7649</td>\n",
       "      <td>0.8581</td>\n",
       "      <td>0.9151</td>\n",
       "      <td>0.9482</td>\n",
       "      <td>0.9698</td>\n",
       "      <td>0.9814</td>\n",
       "      <td>0.9916</td>\n",
       "      <td>0.9970</td>\n",
       "      <td>0.915177</td>\n",
       "      <td>0.574241</td>\n",
       "      <td>0.5790</td>\n",
       "      <td>0.574880</td>\n",
       "    </tr>\n",
       "    <tr>\n",
       "      <th>3</th>\n",
       "      <td>CatBoost</td>\n",
       "      <td>0.6978</td>\n",
       "      <td>0.8491</td>\n",
       "      <td>0.9206</td>\n",
       "      <td>0.9566</td>\n",
       "      <td>0.9742</td>\n",
       "      <td>0.9859</td>\n",
       "      <td>0.9934</td>\n",
       "      <td>0.9971</td>\n",
       "      <td>0.9991</td>\n",
       "      <td>0.953758</td>\n",
       "      <td>0.695201</td>\n",
       "      <td>0.6978</td>\n",
       "      <td>0.696132</td>\n",
       "    </tr>\n",
       "    <tr>\n",
       "      <th>4</th>\n",
       "      <td>XGBoost</td>\n",
       "      <td>0.6239</td>\n",
       "      <td>0.8035</td>\n",
       "      <td>0.8861</td>\n",
       "      <td>0.9330</td>\n",
       "      <td>0.9620</td>\n",
       "      <td>0.9798</td>\n",
       "      <td>0.9886</td>\n",
       "      <td>0.9947</td>\n",
       "      <td>0.9983</td>\n",
       "      <td>0.932203</td>\n",
       "      <td>0.620676</td>\n",
       "      <td>0.6239</td>\n",
       "      <td>0.621401</td>\n",
       "    </tr>\n",
       "    <tr>\n",
       "      <th>5</th>\n",
       "      <td>Нейронная сеть для тополог. признаков</td>\n",
       "      <td>0.7310</td>\n",
       "      <td>0.8680</td>\n",
       "      <td>0.9232</td>\n",
       "      <td>0.9554</td>\n",
       "      <td>0.9723</td>\n",
       "      <td>0.9824</td>\n",
       "      <td>0.9892</td>\n",
       "      <td>0.9933</td>\n",
       "      <td>0.9979</td>\n",
       "      <td>0.957615</td>\n",
       "      <td>0.730935</td>\n",
       "      <td>0.7310</td>\n",
       "      <td>0.730465</td>\n",
       "    </tr>\n",
       "    <tr>\n",
       "      <th>6</th>\n",
       "      <td>Обучаемая векторизация диаграмм</td>\n",
       "      <td>0.5632</td>\n",
       "      <td>0.7617</td>\n",
       "      <td>0.8575</td>\n",
       "      <td>0.9119</td>\n",
       "      <td>0.9438</td>\n",
       "      <td>0.9650</td>\n",
       "      <td>0.9795</td>\n",
       "      <td>0.9887</td>\n",
       "      <td>0.9955</td>\n",
       "      <td>0.910656</td>\n",
       "      <td>0.556919</td>\n",
       "      <td>0.5632</td>\n",
       "      <td>0.557568</td>\n",
       "    </tr>\n",
       "    <tr>\n",
       "      <th>7</th>\n",
       "      <td>ResNet18 – базовая модель</td>\n",
       "      <td>0.7488</td>\n",
       "      <td>0.8717</td>\n",
       "      <td>0.9217</td>\n",
       "      <td>0.9499</td>\n",
       "      <td>0.9674</td>\n",
       "      <td>0.9799</td>\n",
       "      <td>0.9876</td>\n",
       "      <td>0.9936</td>\n",
       "      <td>0.9970</td>\n",
       "      <td>0.958102</td>\n",
       "      <td>0.750526</td>\n",
       "      <td>0.7488</td>\n",
       "      <td>0.749430</td>\n",
       "    </tr>\n",
       "    <tr>\n",
       "      <th>8</th>\n",
       "      <td>Комбинированная нейронная сеть</td>\n",
       "      <td>0.7096</td>\n",
       "      <td>0.8500</td>\n",
       "      <td>0.9101</td>\n",
       "      <td>0.9430</td>\n",
       "      <td>0.9642</td>\n",
       "      <td>0.9761</td>\n",
       "      <td>0.9852</td>\n",
       "      <td>0.9930</td>\n",
       "      <td>0.9969</td>\n",
       "      <td>0.947987</td>\n",
       "      <td>0.714705</td>\n",
       "      <td>0.7096</td>\n",
       "      <td>0.711514</td>\n",
       "    </tr>\n",
       "  </tbody>\n",
       "</table>\n",
       "</div>"
      ],
      "text/plain": [
       "                              classifier  Accuracy  TOP-2 Accuracy  \\\n",
       "0              Метод k ближайших соседей    0.4781          0.6757   \n",
       "1                          Случайный лес    0.5678          0.7332   \n",
       "2      Град. бустинг на основе гистограм    0.5790          0.7649   \n",
       "3                               CatBoost    0.6978          0.8491   \n",
       "4                                XGBoost    0.6239          0.8035   \n",
       "5  Нейронная сеть для тополог. признаков    0.7310          0.8680   \n",
       "6        Обучаемая векторизация диаграмм    0.5632          0.7617   \n",
       "7              ResNet18 – базовая модель    0.7488          0.8717   \n",
       "8         Комбинированная нейронная сеть    0.7096          0.8500   \n",
       "\n",
       "   TOP-3 Accuracy  TOP-4 Accuracy  TOP-5 Accuracy  TOP-6 Accuracy  \\\n",
       "0          0.7837          0.8552          0.9025          0.9359   \n",
       "1          0.8316          0.8894          0.9269          0.9534   \n",
       "2          0.8581          0.9151          0.9482          0.9698   \n",
       "3          0.9206          0.9566          0.9742          0.9859   \n",
       "4          0.8861          0.9330          0.9620          0.9798   \n",
       "5          0.9232          0.9554          0.9723          0.9824   \n",
       "6          0.8575          0.9119          0.9438          0.9650   \n",
       "7          0.9217          0.9499          0.9674          0.9799   \n",
       "8          0.9101          0.9430          0.9642          0.9761   \n",
       "\n",
       "   TOP-7 Accuracy  TOP-8 Accuracy  TOP-9 Accuracy   AUC-ROC  Precision  \\\n",
       "0          0.9597          0.9770          0.9915  0.868683   0.479941   \n",
       "1          0.9729          0.9863          0.9941  0.898060   0.561800   \n",
       "2          0.9814          0.9916          0.9970  0.915177   0.574241   \n",
       "3          0.9934          0.9971          0.9991  0.953758   0.695201   \n",
       "4          0.9886          0.9947          0.9983  0.932203   0.620676   \n",
       "5          0.9892          0.9933          0.9979  0.957615   0.730935   \n",
       "6          0.9795          0.9887          0.9955  0.910656   0.556919   \n",
       "7          0.9876          0.9936          0.9970  0.958102   0.750526   \n",
       "8          0.9852          0.9930          0.9969  0.947987   0.714705   \n",
       "\n",
       "   Recall  F1-score  \n",
       "0  0.4781  0.469257  \n",
       "1  0.5678  0.562304  \n",
       "2  0.5790  0.574880  \n",
       "3  0.6978  0.696132  \n",
       "4  0.6239  0.621401  \n",
       "5  0.7310  0.730465  \n",
       "6  0.5632  0.557568  \n",
       "7  0.7488  0.749430  \n",
       "8  0.7096  0.711514  "
      ]
     },
     "execution_count": 5,
     "metadata": {},
     "output_type": "execute_result"
    },
    {
     "data": {
      "image/png": "[encoded data removed]",
      "text/plain": [
       "<Figure size 1500x1500 with 9 Axes>"
      ]
     },
     "metadata": {},
     "output_type": "display_data"
    }
   ],
   "source": [
    "import cvtda.classification\n",
    "\n",
    "cvtda.classification.classify(\n",
    "    train_images, train_features, train_labels, train_diagrams,\n",
    "    test_images, test_features, test_labels, test_diagrams,\n",
    "    label_names = train.classes, dump_name = \"22/predictions\",\n",
    "    catboost_device = 'CPU' # , only_get_from_dump = True\n",
    ")"
   ]
  }
 ],
 "metadata": {
  "kernelspec": {
   "display_name": "Python 3",
   "language": "python",
   "name": "python3"
  },
  "language_info": {
   "codemirror_mode": {
    "name": "ipython",
    "version": 3
   },
   "file_extension": ".py",
   "mimetype": "text/x-python",
   "name": "python",
   "nbconvert_exporter": "python",
   "pygments_lexer": "ipython3",
   "version": "3.10.11"
  }
 },
 "nbformat": 4,
 "nbformat_minor": 2
}
