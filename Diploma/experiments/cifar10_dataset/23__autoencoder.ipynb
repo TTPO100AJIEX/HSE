{
 "cells": [
  {
   "cell_type": "code",
   "execution_count": 1,
   "metadata": {},
   "outputs": [
    {
     "name": "stdout",
     "output_type": "stream",
     "text": [
      "(50000, 32, 32, 3) (10000, 32, 32, 3)\n"
     ]
    }
   ],
   "source": [
    "import numpy\n",
    "import torchvision\n",
    "\n",
    "train = torchvision.datasets.CIFAR10('cifar-10', train = True, download = False)\n",
    "test = torchvision.datasets.CIFAR10('cifar-10', train = False, download = False)\n",
    "\n",
    "train_images = numpy.array([ numpy.array(item[0]) / 255 for item in train ])\n",
    "\n",
    "test_images = numpy.array([ numpy.array(item[0]) / 255 for item in test ])\n",
    "\n",
    "print(train_images.shape, test_images.shape)"
   ]
  },
  {
   "cell_type": "code",
   "execution_count": 2,
   "metadata": {},
   "outputs": [
    {
     "data": {
      "text/plain": [
       "((50000, 43103), (10000, 43103))"
      ]
     },
     "execution_count": 2,
     "metadata": {},
     "output_type": "execute_result"
    }
   ],
   "source": [
    "train_features = numpy.load(\"20/train_features.npy\")\n",
    "test_features = numpy.load(\"20/test_features.npy\")\n",
    "\n",
    "train_features.shape, test_features.shape"
   ]
  },
  {
   "cell_type": "code",
   "execution_count": 3,
   "metadata": {},
   "outputs": [
    {
     "name": "stdout",
     "output_type": "stream",
     "text": [
      "Calculating inverted images\n",
      "RGB images received. Transforming to grayscale.\n"
     ]
    },
    {
     "name": "stderr",
     "output_type": "stream",
     "text": [
      "rgb2gray: 100%|██████████| 50000/50000 [00:04<00:00, 10560.70it/s]\n"
     ]
    },
    {
     "name": "stdout",
     "output_type": "stream",
     "text": [
      "Got the result from ./20/train/greyscale/gray/diagrams.npy\n",
      "Applying Scaler to persistence diagrams.\n",
      "Got the result from ./20/train/greyscale/gray/diagrams.npy\n",
      "Applying Scaler to persistence diagrams.\n",
      "Got the result from ./20/train/greyscale/red/diagrams.npy\n",
      "Applying Scaler to persistence diagrams.\n",
      "Got the result from ./20/train/greyscale/red/diagrams.npy\n",
      "Applying Scaler to persistence diagrams.\n",
      "Got the result from ./20/train/greyscale/green/diagrams.npy\n",
      "Applying Scaler to persistence diagrams.\n",
      "Got the result from ./20/train/greyscale/green/diagrams.npy\n",
      "Applying Scaler to persistence diagrams.\n",
      "Got the result from ./20/train/greyscale/blue/diagrams.npy\n",
      "Applying Scaler to persistence diagrams.\n",
      "Got the result from ./20/train/greyscale/blue/diagrams.npy\n",
      "Applying Scaler to persistence diagrams.\n",
      "RGB images received. Transforming to grayscale.\n"
     ]
    },
    {
     "name": "stderr",
     "output_type": "stream",
     "text": [
      "rgb2gray: 100%|██████████| 50000/50000 [00:03<00:00, 13796.26it/s]\n"
     ]
    },
    {
     "name": "stdout",
     "output_type": "stream",
     "text": [
      "Got the result from ./20/train/greyscale/gray/diagrams.npy\n",
      "Applying Scaler to persistence diagrams.\n",
      "Got the result from ./20/train/greyscale/red/diagrams.npy\n",
      "Applying Scaler to persistence diagrams.\n",
      "Got the result from ./20/train/greyscale/green/diagrams.npy\n",
      "Applying Scaler to persistence diagrams.\n",
      "Got the result from ./20/train/greyscale/blue/diagrams.npy\n",
      "Applying Scaler to persistence diagrams.\n",
      "RGB images received. Transforming to grayscale.\n"
     ]
    },
    {
     "name": "stderr",
     "output_type": "stream",
     "text": [
      "rgb2gray: 100%|██████████| 50000/50000 [00:03<00:00, 13848.49it/s]\n"
     ]
    },
    {
     "name": "stdout",
     "output_type": "stream",
     "text": [
      "Got the result from ./20/train/inverted_greyscale/gray/diagrams.npy\n",
      "Applying Scaler to persistence diagrams.\n",
      "Got the result from ./20/train/inverted_greyscale/gray/diagrams.npy\n",
      "Applying Scaler to persistence diagrams.\n",
      "Got the result from ./20/train/inverted_greyscale/red/diagrams.npy\n",
      "Applying Scaler to persistence diagrams.\n",
      "Got the result from ./20/train/inverted_greyscale/red/diagrams.npy\n",
      "Applying Scaler to persistence diagrams.\n",
      "Got the result from ./20/train/inverted_greyscale/green/diagrams.npy\n",
      "Applying Scaler to persistence diagrams.\n",
      "Got the result from ./20/train/inverted_greyscale/green/diagrams.npy\n",
      "Applying Scaler to persistence diagrams.\n",
      "Got the result from ./20/train/inverted_greyscale/blue/diagrams.npy\n",
      "Applying Scaler to persistence diagrams.\n",
      "Got the result from ./20/train/inverted_greyscale/blue/diagrams.npy\n",
      "Applying Scaler to persistence diagrams.\n",
      "RGB images received. Transforming to grayscale.\n"
     ]
    },
    {
     "name": "stderr",
     "output_type": "stream",
     "text": [
      "rgb2gray: 100%|██████████| 50000/50000 [00:03<00:00, 13728.63it/s]\n"
     ]
    },
    {
     "name": "stdout",
     "output_type": "stream",
     "text": [
      "Got the result from ./20/train/inverted_greyscale/gray/diagrams.npy\n",
      "Applying Scaler to persistence diagrams.\n",
      "Got the result from ./20/train/inverted_greyscale/red/diagrams.npy\n",
      "Applying Scaler to persistence diagrams.\n",
      "Got the result from ./20/train/inverted_greyscale/green/diagrams.npy\n",
      "Applying Scaler to persistence diagrams.\n",
      "Got the result from ./20/train/inverted_greyscale/blue/diagrams.npy\n",
      "Applying Scaler to persistence diagrams.\n",
      "Fitting filtrations\n",
      "Calculated radial centers for images of size 32x32: [ 5 12 19 26]x[ 5 12 19 26]\n",
      "Fitting filtration 1/72: 2/HeightFiltrartion_-1_-1\n",
      "RGB images received. Transforming to grayscale.\n"
     ]
    },
    {
     "name": "stderr",
     "output_type": "stream",
     "text": [
      "rgb2gray: 100%|██████████| 50000/50000 [00:03<00:00, 13664.87it/s]\n"
     ]
    },
    {
     "name": "stdout",
     "output_type": "stream",
     "text": [
      "Got the result from ./20/train/filtrations/2/HeightFiltrartion_-1_-1/gray/diagrams.npy\n",
      "Applying Scaler to persistence diagrams.\n",
      "Got the result from ./20/train/filtrations/2/HeightFiltrartion_-1_-1/gray/diagrams.npy\n",
      "Applying Scaler to persistence diagrams.\n",
      "Got the result from ./20/train/filtrations/2/HeightFiltrartion_-1_-1/red/diagrams.npy\n",
      "Applying Scaler to persistence diagrams.\n",
      "Got the result from ./20/train/filtrations/2/HeightFiltrartion_-1_-1/red/diagrams.npy\n",
      "Applying Scaler to persistence diagrams.\n",
      "Got the result from ./20/train/filtrations/2/HeightFiltrartion_-1_-1/green/diagrams.npy\n",
      "Applying Scaler to persistence diagrams.\n",
      "Got the result from ./20/train/filtrations/2/HeightFiltrartion_-1_-1/green/diagrams.npy\n",
      "Applying Scaler to persistence diagrams.\n",
      "Got the result from ./20/train/filtrations/2/HeightFiltrartion_-1_-1/blue/diagrams.npy\n",
      "Applying Scaler to persistence diagrams.\n",
      "Got the result from ./20/train/filtrations/2/HeightFiltrartion_-1_-1/blue/diagrams.npy\n",
      "Applying Scaler to persistence diagrams.\n",
      "Fitting filtration 2/72: 2/HeightFiltrartion_1_1\n",
      "RGB images received. Transforming to grayscale.\n"
     ]
    },
    {
     "name": "stderr",
     "output_type": "stream",
     "text": [
      "rgb2gray: 100%|██████████| 50000/50000 [00:03<00:00, 13720.29it/s]\n"
     ]
    },
    {
     "name": "stdout",
     "output_type": "stream",
     "text": [
      "Got the result from ./20/train/filtrations/2/HeightFiltrartion_1_1/gray/diagrams.npy\n",
      "Applying Scaler to persistence diagrams.\n",
      "Got the result from ./20/train/filtrations/2/HeightFiltrartion_1_1/gray/diagrams.npy\n",
      "Applying Scaler to persistence diagrams.\n",
      "Got the result from ./20/train/filtrations/2/HeightFiltrartion_1_1/red/diagrams.npy\n",
      "Applying Scaler to persistence diagrams.\n",
      "Got the result from ./20/train/filtrations/2/HeightFiltrartion_1_1/red/diagrams.npy\n",
      "Applying Scaler to persistence diagrams.\n",
      "Got the result from ./20/train/filtrations/2/HeightFiltrartion_1_1/green/diagrams.npy\n",
      "Applying Scaler to persistence diagrams.\n",
      "Got the result from ./20/train/filtrations/2/HeightFiltrartion_1_1/green/diagrams.npy\n",
      "Applying Scaler to persistence diagrams.\n",
      "Got the result from ./20/train/filtrations/2/HeightFiltrartion_1_1/blue/diagrams.npy\n",
      "Applying Scaler to persistence diagrams.\n",
      "Got the result from ./20/train/filtrations/2/HeightFiltrartion_1_1/blue/diagrams.npy\n",
      "Applying Scaler to persistence diagrams.\n",
      "Fitting filtration 3/72: 2/HeightFiltrartion_1_-1\n",
      "RGB images received. Transforming to grayscale.\n"
     ]
    },
    {
     "name": "stderr",
     "output_type": "stream",
     "text": [
      "rgb2gray: 100%|██████████| 50000/50000 [00:03<00:00, 13626.85it/s]\n"
     ]
    },
    {
     "name": "stdout",
     "output_type": "stream",
     "text": [
      "Got the result from ./20/train/filtrations/2/HeightFiltrartion_1_-1/gray/diagrams.npy\n",
      "Applying Scaler to persistence diagrams.\n",
      "Got the result from ./20/train/filtrations/2/HeightFiltrartion_1_-1/gray/diagrams.npy\n",
      "Applying Scaler to persistence diagrams.\n",
      "Got the result from ./20/train/filtrations/2/HeightFiltrartion_1_-1/red/diagrams.npy\n",
      "Applying Scaler to persistence diagrams.\n",
      "Got the result from ./20/train/filtrations/2/HeightFiltrartion_1_-1/red/diagrams.npy\n",
      "Applying Scaler to persistence diagrams.\n",
      "Got the result from ./20/train/filtrations/2/HeightFiltrartion_1_-1/green/diagrams.npy\n",
      "Applying Scaler to persistence diagrams.\n",
      "Got the result from ./20/train/filtrations/2/HeightFiltrartion_1_-1/green/diagrams.npy\n",
      "Applying Scaler to persistence diagrams.\n",
      "Got the result from ./20/train/filtrations/2/HeightFiltrartion_1_-1/blue/diagrams.npy\n",
      "Applying Scaler to persistence diagrams.\n",
      "Got the result from ./20/train/filtrations/2/HeightFiltrartion_1_-1/blue/diagrams.npy\n",
      "Applying Scaler to persistence diagrams.\n",
      "Fitting filtration 4/72: 2/HeightFiltrartion_-1_1\n",
      "RGB images received. Transforming to grayscale.\n"
     ]
    },
    {
     "name": "stderr",
     "output_type": "stream",
     "text": [
      "rgb2gray: 100%|██████████| 50000/50000 [00:03<00:00, 13922.45it/s]\n"
     ]
    },
    {
     "name": "stdout",
     "output_type": "stream",
     "text": [
      "Got the result from ./20/train/filtrations/2/HeightFiltrartion_-1_1/gray/diagrams.npy\n",
      "Applying Scaler to persistence diagrams.\n",
      "Got the result from ./20/train/filtrations/2/HeightFiltrartion_-1_1/gray/diagrams.npy\n",
      "Applying Scaler to persistence diagrams.\n",
      "Got the result from ./20/train/filtrations/2/HeightFiltrartion_-1_1/red/diagrams.npy\n",
      "Applying Scaler to persistence diagrams.\n",
      "Got the result from ./20/train/filtrations/2/HeightFiltrartion_-1_1/red/diagrams.npy\n",
      "Applying Scaler to persistence diagrams.\n",
      "Got the result from ./20/train/filtrations/2/HeightFiltrartion_-1_1/green/diagrams.npy\n",
      "Applying Scaler to persistence diagrams.\n",
      "Got the result from ./20/train/filtrations/2/HeightFiltrartion_-1_1/green/diagrams.npy\n",
      "Applying Scaler to persistence diagrams.\n",
      "Got the result from ./20/train/filtrations/2/HeightFiltrartion_-1_1/blue/diagrams.npy\n",
      "Applying Scaler to persistence diagrams.\n",
      "Got the result from ./20/train/filtrations/2/HeightFiltrartion_-1_1/blue/diagrams.npy\n",
      "Applying Scaler to persistence diagrams.\n",
      "Fitting filtration 5/72: 2/HeightFiltrartion_0_-1\n",
      "RGB images received. Transforming to grayscale.\n"
     ]
    },
    {
     "name": "stderr",
     "output_type": "stream",
     "text": [
      "rgb2gray: 100%|██████████| 50000/50000 [00:03<00:00, 13626.33it/s]\n"
     ]
    },
    {
     "name": "stdout",
     "output_type": "stream",
     "text": [
      "Got the result from ./20/train/filtrations/2/HeightFiltrartion_0_-1/gray/diagrams.npy\n",
      "Applying Scaler to persistence diagrams.\n",
      "Got the result from ./20/train/filtrations/2/HeightFiltrartion_0_-1/gray/diagrams.npy\n",
      "Applying Scaler to persistence diagrams.\n",
      "Got the result from ./20/train/filtrations/2/HeightFiltrartion_0_-1/red/diagrams.npy\n",
      "Applying Scaler to persistence diagrams.\n",
      "Got the result from ./20/train/filtrations/2/HeightFiltrartion_0_-1/red/diagrams.npy\n",
      "Applying Scaler to persistence diagrams.\n",
      "Got the result from ./20/train/filtrations/2/HeightFiltrartion_0_-1/green/diagrams.npy\n",
      "Applying Scaler to persistence diagrams.\n",
      "Got the result from ./20/train/filtrations/2/HeightFiltrartion_0_-1/green/diagrams.npy\n",
      "Applying Scaler to persistence diagrams.\n",
      "Got the result from ./20/train/filtrations/2/HeightFiltrartion_0_-1/blue/diagrams.npy\n",
      "Applying Scaler to persistence diagrams.\n",
      "Got the result from ./20/train/filtrations/2/HeightFiltrartion_0_-1/blue/diagrams.npy\n",
      "Applying Scaler to persistence diagrams.\n",
      "Fitting filtration 6/72: 2/HeightFiltrartion_0_1\n",
      "RGB images received. Transforming to grayscale.\n"
     ]
    },
    {
     "name": "stderr",
     "output_type": "stream",
     "text": [
      "rgb2gray: 100%|██████████| 50000/50000 [00:03<00:00, 13458.73it/s]\n"
     ]
    },
    {
     "name": "stdout",
     "output_type": "stream",
     "text": [
      "Got the result from ./20/train/filtrations/2/HeightFiltrartion_0_1/gray/diagrams.npy\n",
      "Applying Scaler to persistence diagrams.\n",
      "Got the result from ./20/train/filtrations/2/HeightFiltrartion_0_1/gray/diagrams.npy\n",
      "Applying Scaler to persistence diagrams.\n",
      "Got the result from ./20/train/filtrations/2/HeightFiltrartion_0_1/red/diagrams.npy\n",
      "Applying Scaler to persistence diagrams.\n",
      "Got the result from ./20/train/filtrations/2/HeightFiltrartion_0_1/red/diagrams.npy\n",
      "Applying Scaler to persistence diagrams.\n",
      "Got the result from ./20/train/filtrations/2/HeightFiltrartion_0_1/green/diagrams.npy\n",
      "Applying Scaler to persistence diagrams.\n",
      "Got the result from ./20/train/filtrations/2/HeightFiltrartion_0_1/green/diagrams.npy\n",
      "Applying Scaler to persistence diagrams.\n",
      "Got the result from ./20/train/filtrations/2/HeightFiltrartion_0_1/blue/diagrams.npy\n",
      "Applying Scaler to persistence diagrams.\n",
      "Got the result from ./20/train/filtrations/2/HeightFiltrartion_0_1/blue/diagrams.npy\n",
      "Applying Scaler to persistence diagrams.\n",
      "Fitting filtration 7/72: 2/HeightFiltrartion_-1_0\n",
      "RGB images received. Transforming to grayscale.\n"
     ]
    },
    {
     "name": "stderr",
     "output_type": "stream",
     "text": [
      "rgb2gray: 100%|██████████| 50000/50000 [00:03<00:00, 13069.30it/s]\n"
     ]
    },
    {
     "name": "stdout",
     "output_type": "stream",
     "text": [
      "Got the result from ./20/train/filtrations/2/HeightFiltrartion_-1_0/gray/diagrams.npy\n",
      "Applying Scaler to persistence diagrams.\n",
      "Got the result from ./20/train/filtrations/2/HeightFiltrartion_-1_0/gray/diagrams.npy\n",
      "Applying Scaler to persistence diagrams.\n",
      "Got the result from ./20/train/filtrations/2/HeightFiltrartion_-1_0/red/diagrams.npy\n",
      "Applying Scaler to persistence diagrams.\n",
      "Got the result from ./20/train/filtrations/2/HeightFiltrartion_-1_0/red/diagrams.npy\n",
      "Applying Scaler to persistence diagrams.\n",
      "Got the result from ./20/train/filtrations/2/HeightFiltrartion_-1_0/green/diagrams.npy\n",
      "Applying Scaler to persistence diagrams.\n",
      "Got the result from ./20/train/filtrations/2/HeightFiltrartion_-1_0/green/diagrams.npy\n",
      "Applying Scaler to persistence diagrams.\n",
      "Got the result from ./20/train/filtrations/2/HeightFiltrartion_-1_0/blue/diagrams.npy\n",
      "Applying Scaler to persistence diagrams.\n",
      "Got the result from ./20/train/filtrations/2/HeightFiltrartion_-1_0/blue/diagrams.npy\n",
      "Applying Scaler to persistence diagrams.\n",
      "Fitting filtration 8/72: 2/HeightFiltrartion_1_0\n",
      "RGB images received. Transforming to grayscale.\n"
     ]
    },
    {
     "name": "stderr",
     "output_type": "stream",
     "text": [
      "rgb2gray: 100%|██████████| 50000/50000 [00:03<00:00, 13431.78it/s]\n"
     ]
    },
    {
     "name": "stdout",
     "output_type": "stream",
     "text": [
      "Got the result from ./20/train/filtrations/2/HeightFiltrartion_1_0/gray/diagrams.npy\n",
      "Applying Scaler to persistence diagrams.\n",
      "Got the result from ./20/train/filtrations/2/HeightFiltrartion_1_0/gray/diagrams.npy\n",
      "Applying Scaler to persistence diagrams.\n",
      "Got the result from ./20/train/filtrations/2/HeightFiltrartion_1_0/red/diagrams.npy\n",
      "Applying Scaler to persistence diagrams.\n",
      "Got the result from ./20/train/filtrations/2/HeightFiltrartion_1_0/red/diagrams.npy\n",
      "Applying Scaler to persistence diagrams.\n",
      "Got the result from ./20/train/filtrations/2/HeightFiltrartion_1_0/green/diagrams.npy\n",
      "Applying Scaler to persistence diagrams.\n",
      "Got the result from ./20/train/filtrations/2/HeightFiltrartion_1_0/green/diagrams.npy\n",
      "Applying Scaler to persistence diagrams.\n",
      "Got the result from ./20/train/filtrations/2/HeightFiltrartion_1_0/blue/diagrams.npy\n",
      "Applying Scaler to persistence diagrams.\n",
      "Got the result from ./20/train/filtrations/2/HeightFiltrartion_1_0/blue/diagrams.npy\n",
      "Applying Scaler to persistence diagrams.\n",
      "Fitting filtration 9/72: 2/RadialFiltration_5_5\n",
      "RGB images received. Transforming to grayscale.\n"
     ]
    },
    {
     "name": "stderr",
     "output_type": "stream",
     "text": [
      "rgb2gray: 100%|██████████| 50000/50000 [00:03<00:00, 13349.33it/s]\n"
     ]
    },
    {
     "name": "stdout",
     "output_type": "stream",
     "text": [
      "Got the result from ./20/train/filtrations/2/RadialFiltration_5_5/gray/diagrams.npy\n",
      "Applying Scaler to persistence diagrams.\n",
      "Got the result from ./20/train/filtrations/2/RadialFiltration_5_5/gray/diagrams.npy\n",
      "Applying Scaler to persistence diagrams.\n",
      "Got the result from ./20/train/filtrations/2/RadialFiltration_5_5/red/diagrams.npy\n",
      "Applying Scaler to persistence diagrams.\n",
      "Got the result from ./20/train/filtrations/2/RadialFiltration_5_5/red/diagrams.npy\n",
      "Applying Scaler to persistence diagrams.\n",
      "Got the result from ./20/train/filtrations/2/RadialFiltration_5_5/green/diagrams.npy\n",
      "Applying Scaler to persistence diagrams.\n",
      "Got the result from ./20/train/filtrations/2/RadialFiltration_5_5/green/diagrams.npy\n",
      "Applying Scaler to persistence diagrams.\n",
      "Got the result from ./20/train/filtrations/2/RadialFiltration_5_5/blue/diagrams.npy\n",
      "Applying Scaler to persistence diagrams.\n",
      "Got the result from ./20/train/filtrations/2/RadialFiltration_5_5/blue/diagrams.npy\n",
      "Applying Scaler to persistence diagrams.\n",
      "Fitting filtration 10/72: 2/RadialFiltration_5_12\n",
      "RGB images received. Transforming to grayscale.\n"
     ]
    },
    {
     "name": "stderr",
     "output_type": "stream",
     "text": [
      "rgb2gray: 100%|██████████| 50000/50000 [00:03<00:00, 13198.63it/s]\n"
     ]
    },
    {
     "name": "stdout",
     "output_type": "stream",
     "text": [
      "Got the result from ./20/train/filtrations/2/RadialFiltration_5_12/gray/diagrams.npy\n",
      "Applying Scaler to persistence diagrams.\n",
      "Got the result from ./20/train/filtrations/2/RadialFiltration_5_12/gray/diagrams.npy\n",
      "Applying Scaler to persistence diagrams.\n",
      "Got the result from ./20/train/filtrations/2/RadialFiltration_5_12/red/diagrams.npy\n",
      "Applying Scaler to persistence diagrams.\n",
      "Got the result from ./20/train/filtrations/2/RadialFiltration_5_12/red/diagrams.npy\n",
      "Applying Scaler to persistence diagrams.\n",
      "Got the result from ./20/train/filtrations/2/RadialFiltration_5_12/green/diagrams.npy\n",
      "Applying Scaler to persistence diagrams.\n",
      "Got the result from ./20/train/filtrations/2/RadialFiltration_5_12/green/diagrams.npy\n",
      "Applying Scaler to persistence diagrams.\n",
      "Got the result from ./20/train/filtrations/2/RadialFiltration_5_12/blue/diagrams.npy\n",
      "Applying Scaler to persistence diagrams.\n",
      "Got the result from ./20/train/filtrations/2/RadialFiltration_5_12/blue/diagrams.npy\n",
      "Applying Scaler to persistence diagrams.\n",
      "Fitting filtration 11/72: 2/RadialFiltration_5_19\n",
      "RGB images received. Transforming to grayscale.\n"
     ]
    },
    {
     "name": "stderr",
     "output_type": "stream",
     "text": [
      "rgb2gray: 100%|██████████| 50000/50000 [00:03<00:00, 13253.48it/s]\n"
     ]
    },
    {
     "name": "stdout",
     "output_type": "stream",
     "text": [
      "Got the result from ./20/train/filtrations/2/RadialFiltration_5_19/gray/diagrams.npy\n",
      "Applying Scaler to persistence diagrams.\n",
      "Got the result from ./20/train/filtrations/2/RadialFiltration_5_19/gray/diagrams.npy\n",
      "Applying Scaler to persistence diagrams.\n",
      "Got the result from ./20/train/filtrations/2/RadialFiltration_5_19/red/diagrams.npy\n",
      "Applying Scaler to persistence diagrams.\n",
      "Got the result from ./20/train/filtrations/2/RadialFiltration_5_19/red/diagrams.npy\n",
      "Applying Scaler to persistence diagrams.\n",
      "Got the result from ./20/train/filtrations/2/RadialFiltration_5_19/green/diagrams.npy\n",
      "Applying Scaler to persistence diagrams.\n",
      "Got the result from ./20/train/filtrations/2/RadialFiltration_5_19/green/diagrams.npy\n",
      "Applying Scaler to persistence diagrams.\n",
      "Got the result from ./20/train/filtrations/2/RadialFiltration_5_19/blue/diagrams.npy\n",
      "Applying Scaler to persistence diagrams.\n",
      "Got the result from ./20/train/filtrations/2/RadialFiltration_5_19/blue/diagrams.npy\n",
      "Applying Scaler to persistence diagrams.\n",
      "Fitting filtration 12/72: 2/RadialFiltration_5_26\n",
      "RGB images received. Transforming to grayscale.\n"
     ]
    },
    {
     "name": "stderr",
     "output_type": "stream",
     "text": [
      "rgb2gray: 100%|██████████| 50000/50000 [00:03<00:00, 13150.31it/s]\n"
     ]
    },
    {
     "name": "stdout",
     "output_type": "stream",
     "text": [
      "Got the result from ./20/train/filtrations/2/RadialFiltration_5_26/gray/diagrams.npy\n",
      "Applying Scaler to persistence diagrams.\n",
      "Got the result from ./20/train/filtrations/2/RadialFiltration_5_26/gray/diagrams.npy\n",
      "Applying Scaler to persistence diagrams.\n",
      "Got the result from ./20/train/filtrations/2/RadialFiltration_5_26/red/diagrams.npy\n",
      "Applying Scaler to persistence diagrams.\n",
      "Got the result from ./20/train/filtrations/2/RadialFiltration_5_26/red/diagrams.npy\n",
      "Applying Scaler to persistence diagrams.\n",
      "Got the result from ./20/train/filtrations/2/RadialFiltration_5_26/green/diagrams.npy\n",
      "Applying Scaler to persistence diagrams.\n",
      "Got the result from ./20/train/filtrations/2/RadialFiltration_5_26/green/diagrams.npy\n",
      "Applying Scaler to persistence diagrams.\n",
      "Got the result from ./20/train/filtrations/2/RadialFiltration_5_26/blue/diagrams.npy\n",
      "Applying Scaler to persistence diagrams.\n",
      "Got the result from ./20/train/filtrations/2/RadialFiltration_5_26/blue/diagrams.npy\n",
      "Applying Scaler to persistence diagrams.\n",
      "Fitting filtration 13/72: 2/RadialFiltration_12_5\n",
      "RGB images received. Transforming to grayscale.\n"
     ]
    },
    {
     "name": "stderr",
     "output_type": "stream",
     "text": [
      "rgb2gray: 100%|██████████| 50000/50000 [00:03<00:00, 13284.12it/s]\n"
     ]
    },
    {
     "name": "stdout",
     "output_type": "stream",
     "text": [
      "Got the result from ./20/train/filtrations/2/RadialFiltration_12_5/gray/diagrams.npy\n",
      "Applying Scaler to persistence diagrams.\n",
      "Got the result from ./20/train/filtrations/2/RadialFiltration_12_5/gray/diagrams.npy\n",
      "Applying Scaler to persistence diagrams.\n",
      "Got the result from ./20/train/filtrations/2/RadialFiltration_12_5/red/diagrams.npy\n",
      "Applying Scaler to persistence diagrams.\n",
      "Got the result from ./20/train/filtrations/2/RadialFiltration_12_5/red/diagrams.npy\n",
      "Applying Scaler to persistence diagrams.\n",
      "Got the result from ./20/train/filtrations/2/RadialFiltration_12_5/green/diagrams.npy\n",
      "Applying Scaler to persistence diagrams.\n",
      "Got the result from ./20/train/filtrations/2/RadialFiltration_12_5/green/diagrams.npy\n",
      "Applying Scaler to persistence diagrams.\n",
      "Got the result from ./20/train/filtrations/2/RadialFiltration_12_5/blue/diagrams.npy\n",
      "Applying Scaler to persistence diagrams.\n",
      "Got the result from ./20/train/filtrations/2/RadialFiltration_12_5/blue/diagrams.npy\n",
      "Applying Scaler to persistence diagrams.\n",
      "Fitting filtration 14/72: 2/RadialFiltration_12_12\n",
      "RGB images received. Transforming to grayscale.\n"
     ]
    },
    {
     "name": "stderr",
     "output_type": "stream",
     "text": [
      "rgb2gray: 100%|██████████| 50000/50000 [00:03<00:00, 13312.14it/s]\n"
     ]
    },
    {
     "name": "stdout",
     "output_type": "stream",
     "text": [
      "Got the result from ./20/train/filtrations/2/RadialFiltration_12_12/gray/diagrams.npy\n",
      "Applying Scaler to persistence diagrams.\n",
      "Got the result from ./20/train/filtrations/2/RadialFiltration_12_12/gray/diagrams.npy\n",
      "Applying Scaler to persistence diagrams.\n",
      "Got the result from ./20/train/filtrations/2/RadialFiltration_12_12/red/diagrams.npy\n",
      "Applying Scaler to persistence diagrams.\n",
      "Got the result from ./20/train/filtrations/2/RadialFiltration_12_12/red/diagrams.npy\n",
      "Applying Scaler to persistence diagrams.\n",
      "Got the result from ./20/train/filtrations/2/RadialFiltration_12_12/green/diagrams.npy\n",
      "Applying Scaler to persistence diagrams.\n",
      "Got the result from ./20/train/filtrations/2/RadialFiltration_12_12/green/diagrams.npy\n",
      "Applying Scaler to persistence diagrams.\n",
      "Got the result from ./20/train/filtrations/2/RadialFiltration_12_12/blue/diagrams.npy\n",
      "Applying Scaler to persistence diagrams.\n",
      "Got the result from ./20/train/filtrations/2/RadialFiltration_12_12/blue/diagrams.npy\n",
      "Applying Scaler to persistence diagrams.\n",
      "Fitting filtration 15/72: 2/RadialFiltration_12_19\n",
      "RGB images received. Transforming to grayscale.\n"
     ]
    },
    {
     "name": "stderr",
     "output_type": "stream",
     "text": [
      "rgb2gray: 100%|██████████| 50000/50000 [00:03<00:00, 13215.31it/s]\n"
     ]
    },
    {
     "name": "stdout",
     "output_type": "stream",
     "text": [
      "Got the result from ./20/train/filtrations/2/RadialFiltration_12_19/gray/diagrams.npy\n",
      "Applying Scaler to persistence diagrams.\n",
      "Got the result from ./20/train/filtrations/2/RadialFiltration_12_19/gray/diagrams.npy\n",
      "Applying Scaler to persistence diagrams.\n",
      "Got the result from ./20/train/filtrations/2/RadialFiltration_12_19/red/diagrams.npy\n",
      "Applying Scaler to persistence diagrams.\n",
      "Got the result from ./20/train/filtrations/2/RadialFiltration_12_19/red/diagrams.npy\n",
      "Applying Scaler to persistence diagrams.\n",
      "Got the result from ./20/train/filtrations/2/RadialFiltration_12_19/green/diagrams.npy\n",
      "Applying Scaler to persistence diagrams.\n",
      "Got the result from ./20/train/filtrations/2/RadialFiltration_12_19/green/diagrams.npy\n",
      "Applying Scaler to persistence diagrams.\n",
      "Got the result from ./20/train/filtrations/2/RadialFiltration_12_19/blue/diagrams.npy\n",
      "Applying Scaler to persistence diagrams.\n",
      "Got the result from ./20/train/filtrations/2/RadialFiltration_12_19/blue/diagrams.npy\n",
      "Applying Scaler to persistence diagrams.\n",
      "Fitting filtration 16/72: 2/RadialFiltration_12_26\n",
      "RGB images received. Transforming to grayscale.\n"
     ]
    },
    {
     "name": "stderr",
     "output_type": "stream",
     "text": [
      "rgb2gray: 100%|██████████| 50000/50000 [00:03<00:00, 12645.88it/s]\n"
     ]
    },
    {
     "name": "stdout",
     "output_type": "stream",
     "text": [
      "Got the result from ./20/train/filtrations/2/RadialFiltration_12_26/gray/diagrams.npy\n",
      "Applying Scaler to persistence diagrams.\n",
      "Got the result from ./20/train/filtrations/2/RadialFiltration_12_26/gray/diagrams.npy\n",
      "Applying Scaler to persistence diagrams.\n",
      "Got the result from ./20/train/filtrations/2/RadialFiltration_12_26/red/diagrams.npy\n",
      "Applying Scaler to persistence diagrams.\n",
      "Got the result from ./20/train/filtrations/2/RadialFiltration_12_26/red/diagrams.npy\n",
      "Applying Scaler to persistence diagrams.\n",
      "Got the result from ./20/train/filtrations/2/RadialFiltration_12_26/green/diagrams.npy\n",
      "Applying Scaler to persistence diagrams.\n",
      "Got the result from ./20/train/filtrations/2/RadialFiltration_12_26/green/diagrams.npy\n",
      "Applying Scaler to persistence diagrams.\n",
      "Got the result from ./20/train/filtrations/2/RadialFiltration_12_26/blue/diagrams.npy\n",
      "Applying Scaler to persistence diagrams.\n",
      "Got the result from ./20/train/filtrations/2/RadialFiltration_12_26/blue/diagrams.npy\n",
      "Applying Scaler to persistence diagrams.\n",
      "Fitting filtration 17/72: 2/RadialFiltration_19_5\n",
      "RGB images received. Transforming to grayscale.\n"
     ]
    },
    {
     "name": "stderr",
     "output_type": "stream",
     "text": [
      "rgb2gray: 100%|██████████| 50000/50000 [00:03<00:00, 13221.44it/s]\n"
     ]
    },
    {
     "name": "stdout",
     "output_type": "stream",
     "text": [
      "Got the result from ./20/train/filtrations/2/RadialFiltration_19_5/gray/diagrams.npy\n",
      "Applying Scaler to persistence diagrams.\n",
      "Got the result from ./20/train/filtrations/2/RadialFiltration_19_5/gray/diagrams.npy\n",
      "Applying Scaler to persistence diagrams.\n",
      "Got the result from ./20/train/filtrations/2/RadialFiltration_19_5/red/diagrams.npy\n",
      "Applying Scaler to persistence diagrams.\n",
      "Got the result from ./20/train/filtrations/2/RadialFiltration_19_5/red/diagrams.npy\n",
      "Applying Scaler to persistence diagrams.\n",
      "Got the result from ./20/train/filtrations/2/RadialFiltration_19_5/green/diagrams.npy\n",
      "Applying Scaler to persistence diagrams.\n",
      "Got the result from ./20/train/filtrations/2/RadialFiltration_19_5/green/diagrams.npy\n",
      "Applying Scaler to persistence diagrams.\n",
      "Got the result from ./20/train/filtrations/2/RadialFiltration_19_5/blue/diagrams.npy\n",
      "Applying Scaler to persistence diagrams.\n",
      "Got the result from ./20/train/filtrations/2/RadialFiltration_19_5/blue/diagrams.npy\n",
      "Applying Scaler to persistence diagrams.\n",
      "Fitting filtration 18/72: 2/RadialFiltration_19_12\n",
      "RGB images received. Transforming to grayscale.\n"
     ]
    },
    {
     "name": "stderr",
     "output_type": "stream",
     "text": [
      "rgb2gray: 100%|██████████| 50000/50000 [00:03<00:00, 13141.68it/s]\n"
     ]
    },
    {
     "name": "stdout",
     "output_type": "stream",
     "text": [
      "Got the result from ./20/train/filtrations/2/RadialFiltration_19_12/gray/diagrams.npy\n",
      "Applying Scaler to persistence diagrams.\n",
      "Got the result from ./20/train/filtrations/2/RadialFiltration_19_12/gray/diagrams.npy\n",
      "Applying Scaler to persistence diagrams.\n",
      "Got the result from ./20/train/filtrations/2/RadialFiltration_19_12/red/diagrams.npy\n",
      "Applying Scaler to persistence diagrams.\n",
      "Got the result from ./20/train/filtrations/2/RadialFiltration_19_12/red/diagrams.npy\n",
      "Applying Scaler to persistence diagrams.\n",
      "Got the result from ./20/train/filtrations/2/RadialFiltration_19_12/green/diagrams.npy\n",
      "Applying Scaler to persistence diagrams.\n",
      "Got the result from ./20/train/filtrations/2/RadialFiltration_19_12/green/diagrams.npy\n",
      "Applying Scaler to persistence diagrams.\n",
      "Got the result from ./20/train/filtrations/2/RadialFiltration_19_12/blue/diagrams.npy\n",
      "Applying Scaler to persistence diagrams.\n",
      "Got the result from ./20/train/filtrations/2/RadialFiltration_19_12/blue/diagrams.npy\n",
      "Applying Scaler to persistence diagrams.\n",
      "Fitting filtration 19/72: 2/RadialFiltration_19_19\n",
      "RGB images received. Transforming to grayscale.\n"
     ]
    },
    {
     "name": "stderr",
     "output_type": "stream",
     "text": [
      "rgb2gray: 100%|██████████| 50000/50000 [00:03<00:00, 13577.92it/s]\n"
     ]
    },
    {
     "name": "stdout",
     "output_type": "stream",
     "text": [
      "Got the result from ./20/train/filtrations/2/RadialFiltration_19_19/gray/diagrams.npy\n",
      "Applying Scaler to persistence diagrams.\n",
      "Got the result from ./20/train/filtrations/2/RadialFiltration_19_19/gray/diagrams.npy\n",
      "Applying Scaler to persistence diagrams.\n",
      "Got the result from ./20/train/filtrations/2/RadialFiltration_19_19/red/diagrams.npy\n",
      "Applying Scaler to persistence diagrams.\n",
      "Got the result from ./20/train/filtrations/2/RadialFiltration_19_19/red/diagrams.npy\n",
      "Applying Scaler to persistence diagrams.\n",
      "Got the result from ./20/train/filtrations/2/RadialFiltration_19_19/green/diagrams.npy\n",
      "Applying Scaler to persistence diagrams.\n",
      "Got the result from ./20/train/filtrations/2/RadialFiltration_19_19/green/diagrams.npy\n",
      "Applying Scaler to persistence diagrams.\n",
      "Got the result from ./20/train/filtrations/2/RadialFiltration_19_19/blue/diagrams.npy\n",
      "Applying Scaler to persistence diagrams.\n",
      "Got the result from ./20/train/filtrations/2/RadialFiltration_19_19/blue/diagrams.npy\n",
      "Applying Scaler to persistence diagrams.\n",
      "Fitting filtration 20/72: 2/RadialFiltration_19_26\n",
      "RGB images received. Transforming to grayscale.\n"
     ]
    },
    {
     "name": "stderr",
     "output_type": "stream",
     "text": [
      "rgb2gray: 100%|██████████| 50000/50000 [00:03<00:00, 13252.01it/s]\n"
     ]
    },
    {
     "name": "stdout",
     "output_type": "stream",
     "text": [
      "Got the result from ./20/train/filtrations/2/RadialFiltration_19_26/gray/diagrams.npy\n",
      "Applying Scaler to persistence diagrams.\n",
      "Got the result from ./20/train/filtrations/2/RadialFiltration_19_26/gray/diagrams.npy\n",
      "Applying Scaler to persistence diagrams.\n",
      "Got the result from ./20/train/filtrations/2/RadialFiltration_19_26/red/diagrams.npy\n",
      "Applying Scaler to persistence diagrams.\n",
      "Got the result from ./20/train/filtrations/2/RadialFiltration_19_26/red/diagrams.npy\n",
      "Applying Scaler to persistence diagrams.\n",
      "Got the result from ./20/train/filtrations/2/RadialFiltration_19_26/green/diagrams.npy\n",
      "Applying Scaler to persistence diagrams.\n",
      "Got the result from ./20/train/filtrations/2/RadialFiltration_19_26/green/diagrams.npy\n",
      "Applying Scaler to persistence diagrams.\n",
      "Got the result from ./20/train/filtrations/2/RadialFiltration_19_26/blue/diagrams.npy\n",
      "Applying Scaler to persistence diagrams.\n",
      "Got the result from ./20/train/filtrations/2/RadialFiltration_19_26/blue/diagrams.npy\n",
      "Applying Scaler to persistence diagrams.\n",
      "Fitting filtration 21/72: 2/RadialFiltration_26_5\n",
      "RGB images received. Transforming to grayscale.\n"
     ]
    },
    {
     "name": "stderr",
     "output_type": "stream",
     "text": [
      "rgb2gray: 100%|██████████| 50000/50000 [00:03<00:00, 13208.12it/s]\n"
     ]
    },
    {
     "name": "stdout",
     "output_type": "stream",
     "text": [
      "Got the result from ./20/train/filtrations/2/RadialFiltration_26_5/gray/diagrams.npy\n",
      "Applying Scaler to persistence diagrams.\n",
      "Got the result from ./20/train/filtrations/2/RadialFiltration_26_5/gray/diagrams.npy\n",
      "Applying Scaler to persistence diagrams.\n",
      "Got the result from ./20/train/filtrations/2/RadialFiltration_26_5/red/diagrams.npy\n",
      "Applying Scaler to persistence diagrams.\n",
      "Got the result from ./20/train/filtrations/2/RadialFiltration_26_5/red/diagrams.npy\n",
      "Applying Scaler to persistence diagrams.\n",
      "Got the result from ./20/train/filtrations/2/RadialFiltration_26_5/green/diagrams.npy\n",
      "Applying Scaler to persistence diagrams.\n",
      "Got the result from ./20/train/filtrations/2/RadialFiltration_26_5/green/diagrams.npy\n",
      "Applying Scaler to persistence diagrams.\n",
      "Got the result from ./20/train/filtrations/2/RadialFiltration_26_5/blue/diagrams.npy\n",
      "Applying Scaler to persistence diagrams.\n",
      "Got the result from ./20/train/filtrations/2/RadialFiltration_26_5/blue/diagrams.npy\n",
      "Applying Scaler to persistence diagrams.\n",
      "Fitting filtration 22/72: 2/RadialFiltration_26_12\n",
      "RGB images received. Transforming to grayscale.\n"
     ]
    },
    {
     "name": "stderr",
     "output_type": "stream",
     "text": [
      "rgb2gray: 100%|██████████| 50000/50000 [00:03<00:00, 13270.84it/s]\n"
     ]
    },
    {
     "name": "stdout",
     "output_type": "stream",
     "text": [
      "Got the result from ./20/train/filtrations/2/RadialFiltration_26_12/gray/diagrams.npy\n",
      "Applying Scaler to persistence diagrams.\n",
      "Got the result from ./20/train/filtrations/2/RadialFiltration_26_12/gray/diagrams.npy\n",
      "Applying Scaler to persistence diagrams.\n",
      "Got the result from ./20/train/filtrations/2/RadialFiltration_26_12/red/diagrams.npy\n",
      "Applying Scaler to persistence diagrams.\n",
      "Got the result from ./20/train/filtrations/2/RadialFiltration_26_12/red/diagrams.npy\n",
      "Applying Scaler to persistence diagrams.\n",
      "Got the result from ./20/train/filtrations/2/RadialFiltration_26_12/green/diagrams.npy\n",
      "Applying Scaler to persistence diagrams.\n",
      "Got the result from ./20/train/filtrations/2/RadialFiltration_26_12/green/diagrams.npy\n",
      "Applying Scaler to persistence diagrams.\n",
      "Got the result from ./20/train/filtrations/2/RadialFiltration_26_12/blue/diagrams.npy\n",
      "Applying Scaler to persistence diagrams.\n",
      "Got the result from ./20/train/filtrations/2/RadialFiltration_26_12/blue/diagrams.npy\n",
      "Applying Scaler to persistence diagrams.\n",
      "Fitting filtration 23/72: 2/RadialFiltration_26_19\n",
      "RGB images received. Transforming to grayscale.\n"
     ]
    },
    {
     "name": "stderr",
     "output_type": "stream",
     "text": [
      "rgb2gray: 100%|██████████| 50000/50000 [00:03<00:00, 13203.22it/s]\n"
     ]
    },
    {
     "name": "stdout",
     "output_type": "stream",
     "text": [
      "Got the result from ./20/train/filtrations/2/RadialFiltration_26_19/gray/diagrams.npy\n",
      "Applying Scaler to persistence diagrams.\n",
      "Got the result from ./20/train/filtrations/2/RadialFiltration_26_19/gray/diagrams.npy\n",
      "Applying Scaler to persistence diagrams.\n",
      "Got the result from ./20/train/filtrations/2/RadialFiltration_26_19/red/diagrams.npy\n",
      "Applying Scaler to persistence diagrams.\n",
      "Got the result from ./20/train/filtrations/2/RadialFiltration_26_19/red/diagrams.npy\n",
      "Applying Scaler to persistence diagrams.\n",
      "Got the result from ./20/train/filtrations/2/RadialFiltration_26_19/green/diagrams.npy\n",
      "Applying Scaler to persistence diagrams.\n",
      "Got the result from ./20/train/filtrations/2/RadialFiltration_26_19/green/diagrams.npy\n",
      "Applying Scaler to persistence diagrams.\n",
      "Got the result from ./20/train/filtrations/2/RadialFiltration_26_19/blue/diagrams.npy\n",
      "Applying Scaler to persistence diagrams.\n",
      "Got the result from ./20/train/filtrations/2/RadialFiltration_26_19/blue/diagrams.npy\n",
      "Applying Scaler to persistence diagrams.\n",
      "Fitting filtration 24/72: 2/RadialFiltration_26_26\n",
      "RGB images received. Transforming to grayscale.\n"
     ]
    },
    {
     "name": "stderr",
     "output_type": "stream",
     "text": [
      "rgb2gray: 100%|██████████| 50000/50000 [00:03<00:00, 13199.49it/s]\n"
     ]
    },
    {
     "name": "stdout",
     "output_type": "stream",
     "text": [
      "Got the result from ./20/train/filtrations/2/RadialFiltration_26_26/gray/diagrams.npy\n",
      "Applying Scaler to persistence diagrams.\n",
      "Got the result from ./20/train/filtrations/2/RadialFiltration_26_26/gray/diagrams.npy\n",
      "Applying Scaler to persistence diagrams.\n",
      "Got the result from ./20/train/filtrations/2/RadialFiltration_26_26/red/diagrams.npy\n",
      "Applying Scaler to persistence diagrams.\n",
      "Got the result from ./20/train/filtrations/2/RadialFiltration_26_26/red/diagrams.npy\n",
      "Applying Scaler to persistence diagrams.\n",
      "Got the result from ./20/train/filtrations/2/RadialFiltration_26_26/green/diagrams.npy\n",
      "Applying Scaler to persistence diagrams.\n",
      "Got the result from ./20/train/filtrations/2/RadialFiltration_26_26/green/diagrams.npy\n",
      "Applying Scaler to persistence diagrams.\n",
      "Got the result from ./20/train/filtrations/2/RadialFiltration_26_26/blue/diagrams.npy\n",
      "Applying Scaler to persistence diagrams.\n",
      "Got the result from ./20/train/filtrations/2/RadialFiltration_26_26/blue/diagrams.npy\n",
      "Applying Scaler to persistence diagrams.\n",
      "Fitting filtration 25/72: 4/HeightFiltrartion_-1_-1\n",
      "RGB images received. Transforming to grayscale.\n"
     ]
    },
    {
     "name": "stderr",
     "output_type": "stream",
     "text": [
      "rgb2gray: 100%|██████████| 50000/50000 [00:03<00:00, 13131.96it/s]\n"
     ]
    },
    {
     "name": "stdout",
     "output_type": "stream",
     "text": [
      "Got the result from ./20/train/filtrations/4/HeightFiltrartion_-1_-1/gray/diagrams.npy\n",
      "Applying Scaler to persistence diagrams.\n",
      "Got the result from ./20/train/filtrations/4/HeightFiltrartion_-1_-1/gray/diagrams.npy\n",
      "Applying Scaler to persistence diagrams.\n",
      "Got the result from ./20/train/filtrations/4/HeightFiltrartion_-1_-1/red/diagrams.npy\n",
      "Applying Scaler to persistence diagrams.\n",
      "Got the result from ./20/train/filtrations/4/HeightFiltrartion_-1_-1/red/diagrams.npy\n",
      "Applying Scaler to persistence diagrams.\n",
      "Got the result from ./20/train/filtrations/4/HeightFiltrartion_-1_-1/green/diagrams.npy\n",
      "Applying Scaler to persistence diagrams.\n",
      "Got the result from ./20/train/filtrations/4/HeightFiltrartion_-1_-1/green/diagrams.npy\n",
      "Applying Scaler to persistence diagrams.\n",
      "Got the result from ./20/train/filtrations/4/HeightFiltrartion_-1_-1/blue/diagrams.npy\n",
      "Applying Scaler to persistence diagrams.\n",
      "Got the result from ./20/train/filtrations/4/HeightFiltrartion_-1_-1/blue/diagrams.npy\n",
      "Applying Scaler to persistence diagrams.\n",
      "Fitting filtration 26/72: 4/HeightFiltrartion_1_1\n",
      "RGB images received. Transforming to grayscale.\n"
     ]
    },
    {
     "name": "stderr",
     "output_type": "stream",
     "text": [
      "rgb2gray: 100%|██████████| 50000/50000 [00:03<00:00, 13063.02it/s]\n"
     ]
    },
    {
     "name": "stdout",
     "output_type": "stream",
     "text": [
      "Got the result from ./20/train/filtrations/4/HeightFiltrartion_1_1/gray/diagrams.npy\n",
      "Applying Scaler to persistence diagrams.\n",
      "Got the result from ./20/train/filtrations/4/HeightFiltrartion_1_1/gray/diagrams.npy\n",
      "Applying Scaler to persistence diagrams.\n",
      "Got the result from ./20/train/filtrations/4/HeightFiltrartion_1_1/red/diagrams.npy\n",
      "Applying Scaler to persistence diagrams.\n",
      "Got the result from ./20/train/filtrations/4/HeightFiltrartion_1_1/red/diagrams.npy\n",
      "Applying Scaler to persistence diagrams.\n",
      "Got the result from ./20/train/filtrations/4/HeightFiltrartion_1_1/green/diagrams.npy\n",
      "Applying Scaler to persistence diagrams.\n",
      "Got the result from ./20/train/filtrations/4/HeightFiltrartion_1_1/green/diagrams.npy\n",
      "Applying Scaler to persistence diagrams.\n",
      "Got the result from ./20/train/filtrations/4/HeightFiltrartion_1_1/blue/diagrams.npy\n",
      "Applying Scaler to persistence diagrams.\n",
      "Got the result from ./20/train/filtrations/4/HeightFiltrartion_1_1/blue/diagrams.npy\n",
      "Applying Scaler to persistence diagrams.\n",
      "Fitting filtration 27/72: 4/HeightFiltrartion_1_-1\n",
      "RGB images received. Transforming to grayscale.\n"
     ]
    },
    {
     "name": "stderr",
     "output_type": "stream",
     "text": [
      "rgb2gray: 100%|██████████| 50000/50000 [00:03<00:00, 13046.58it/s]\n"
     ]
    },
    {
     "name": "stdout",
     "output_type": "stream",
     "text": [
      "Got the result from ./20/train/filtrations/4/HeightFiltrartion_1_-1/gray/diagrams.npy\n",
      "Applying Scaler to persistence diagrams.\n",
      "Got the result from ./20/train/filtrations/4/HeightFiltrartion_1_-1/gray/diagrams.npy\n",
      "Applying Scaler to persistence diagrams.\n",
      "Got the result from ./20/train/filtrations/4/HeightFiltrartion_1_-1/red/diagrams.npy\n",
      "Applying Scaler to persistence diagrams.\n",
      "Got the result from ./20/train/filtrations/4/HeightFiltrartion_1_-1/red/diagrams.npy\n",
      "Applying Scaler to persistence diagrams.\n",
      "Got the result from ./20/train/filtrations/4/HeightFiltrartion_1_-1/green/diagrams.npy\n",
      "Applying Scaler to persistence diagrams.\n",
      "Got the result from ./20/train/filtrations/4/HeightFiltrartion_1_-1/green/diagrams.npy\n",
      "Applying Scaler to persistence diagrams.\n",
      "Got the result from ./20/train/filtrations/4/HeightFiltrartion_1_-1/blue/diagrams.npy\n",
      "Applying Scaler to persistence diagrams.\n",
      "Got the result from ./20/train/filtrations/4/HeightFiltrartion_1_-1/blue/diagrams.npy\n",
      "Applying Scaler to persistence diagrams.\n",
      "Fitting filtration 28/72: 4/HeightFiltrartion_-1_1\n",
      "RGB images received. Transforming to grayscale.\n"
     ]
    },
    {
     "name": "stderr",
     "output_type": "stream",
     "text": [
      "rgb2gray: 100%|██████████| 50000/50000 [00:03<00:00, 13136.38it/s]\n"
     ]
    },
    {
     "name": "stdout",
     "output_type": "stream",
     "text": [
      "Got the result from ./20/train/filtrations/4/HeightFiltrartion_-1_1/gray/diagrams.npy\n",
      "Applying Scaler to persistence diagrams.\n",
      "Got the result from ./20/train/filtrations/4/HeightFiltrartion_-1_1/gray/diagrams.npy\n",
      "Applying Scaler to persistence diagrams.\n",
      "Got the result from ./20/train/filtrations/4/HeightFiltrartion_-1_1/red/diagrams.npy\n",
      "Applying Scaler to persistence diagrams.\n",
      "Got the result from ./20/train/filtrations/4/HeightFiltrartion_-1_1/red/diagrams.npy\n",
      "Applying Scaler to persistence diagrams.\n",
      "Got the result from ./20/train/filtrations/4/HeightFiltrartion_-1_1/green/diagrams.npy\n",
      "Applying Scaler to persistence diagrams.\n",
      "Got the result from ./20/train/filtrations/4/HeightFiltrartion_-1_1/green/diagrams.npy\n",
      "Applying Scaler to persistence diagrams.\n",
      "Got the result from ./20/train/filtrations/4/HeightFiltrartion_-1_1/blue/diagrams.npy\n",
      "Applying Scaler to persistence diagrams.\n",
      "Got the result from ./20/train/filtrations/4/HeightFiltrartion_-1_1/blue/diagrams.npy\n",
      "Applying Scaler to persistence diagrams.\n",
      "Fitting filtration 29/72: 4/HeightFiltrartion_0_-1\n",
      "RGB images received. Transforming to grayscale.\n"
     ]
    },
    {
     "name": "stderr",
     "output_type": "stream",
     "text": [
      "rgb2gray: 100%|██████████| 50000/50000 [00:03<00:00, 13027.64it/s]\n"
     ]
    },
    {
     "name": "stdout",
     "output_type": "stream",
     "text": [
      "Got the result from ./20/train/filtrations/4/HeightFiltrartion_0_-1/gray/diagrams.npy\n",
      "Applying Scaler to persistence diagrams.\n",
      "Got the result from ./20/train/filtrations/4/HeightFiltrartion_0_-1/gray/diagrams.npy\n",
      "Applying Scaler to persistence diagrams.\n",
      "Got the result from ./20/train/filtrations/4/HeightFiltrartion_0_-1/red/diagrams.npy\n",
      "Applying Scaler to persistence diagrams.\n",
      "Got the result from ./20/train/filtrations/4/HeightFiltrartion_0_-1/red/diagrams.npy\n",
      "Applying Scaler to persistence diagrams.\n",
      "Got the result from ./20/train/filtrations/4/HeightFiltrartion_0_-1/green/diagrams.npy\n",
      "Applying Scaler to persistence diagrams.\n",
      "Got the result from ./20/train/filtrations/4/HeightFiltrartion_0_-1/green/diagrams.npy\n",
      "Applying Scaler to persistence diagrams.\n",
      "Got the result from ./20/train/filtrations/4/HeightFiltrartion_0_-1/blue/diagrams.npy\n",
      "Applying Scaler to persistence diagrams.\n",
      "Got the result from ./20/train/filtrations/4/HeightFiltrartion_0_-1/blue/diagrams.npy\n",
      "Applying Scaler to persistence diagrams.\n",
      "Fitting filtration 30/72: 4/HeightFiltrartion_0_1\n",
      "RGB images received. Transforming to grayscale.\n"
     ]
    },
    {
     "name": "stderr",
     "output_type": "stream",
     "text": [
      "rgb2gray: 100%|██████████| 50000/50000 [00:03<00:00, 13212.48it/s]\n"
     ]
    },
    {
     "name": "stdout",
     "output_type": "stream",
     "text": [
      "Got the result from ./20/train/filtrations/4/HeightFiltrartion_0_1/gray/diagrams.npy\n",
      "Applying Scaler to persistence diagrams.\n",
      "Got the result from ./20/train/filtrations/4/HeightFiltrartion_0_1/gray/diagrams.npy\n",
      "Applying Scaler to persistence diagrams.\n",
      "Got the result from ./20/train/filtrations/4/HeightFiltrartion_0_1/red/diagrams.npy\n",
      "Applying Scaler to persistence diagrams.\n",
      "Got the result from ./20/train/filtrations/4/HeightFiltrartion_0_1/red/diagrams.npy\n",
      "Applying Scaler to persistence diagrams.\n",
      "Got the result from ./20/train/filtrations/4/HeightFiltrartion_0_1/green/diagrams.npy\n",
      "Applying Scaler to persistence diagrams.\n",
      "Got the result from ./20/train/filtrations/4/HeightFiltrartion_0_1/green/diagrams.npy\n",
      "Applying Scaler to persistence diagrams.\n",
      "Got the result from ./20/train/filtrations/4/HeightFiltrartion_0_1/blue/diagrams.npy\n",
      "Applying Scaler to persistence diagrams.\n",
      "Got the result from ./20/train/filtrations/4/HeightFiltrartion_0_1/blue/diagrams.npy\n",
      "Applying Scaler to persistence diagrams.\n",
      "Fitting filtration 31/72: 4/HeightFiltrartion_-1_0\n",
      "RGB images received. Transforming to grayscale.\n"
     ]
    },
    {
     "name": "stderr",
     "output_type": "stream",
     "text": [
      "rgb2gray: 100%|██████████| 50000/50000 [00:03<00:00, 13122.64it/s]\n"
     ]
    },
    {
     "name": "stdout",
     "output_type": "stream",
     "text": [
      "Got the result from ./20/train/filtrations/4/HeightFiltrartion_-1_0/gray/diagrams.npy\n",
      "Applying Scaler to persistence diagrams.\n",
      "Got the result from ./20/train/filtrations/4/HeightFiltrartion_-1_0/gray/diagrams.npy\n",
      "Applying Scaler to persistence diagrams.\n",
      "Got the result from ./20/train/filtrations/4/HeightFiltrartion_-1_0/red/diagrams.npy\n",
      "Applying Scaler to persistence diagrams.\n",
      "Got the result from ./20/train/filtrations/4/HeightFiltrartion_-1_0/red/diagrams.npy\n",
      "Applying Scaler to persistence diagrams.\n",
      "Got the result from ./20/train/filtrations/4/HeightFiltrartion_-1_0/green/diagrams.npy\n",
      "Applying Scaler to persistence diagrams.\n",
      "Got the result from ./20/train/filtrations/4/HeightFiltrartion_-1_0/green/diagrams.npy\n",
      "Applying Scaler to persistence diagrams.\n",
      "Got the result from ./20/train/filtrations/4/HeightFiltrartion_-1_0/blue/diagrams.npy\n",
      "Applying Scaler to persistence diagrams.\n",
      "Got the result from ./20/train/filtrations/4/HeightFiltrartion_-1_0/blue/diagrams.npy\n",
      "Applying Scaler to persistence diagrams.\n",
      "Fitting filtration 32/72: 4/HeightFiltrartion_1_0\n",
      "RGB images received. Transforming to grayscale.\n"
     ]
    },
    {
     "name": "stderr",
     "output_type": "stream",
     "text": [
      "rgb2gray: 100%|██████████| 50000/50000 [00:03<00:00, 12998.81it/s]\n"
     ]
    },
    {
     "name": "stdout",
     "output_type": "stream",
     "text": [
      "Got the result from ./20/train/filtrations/4/HeightFiltrartion_1_0/gray/diagrams.npy\n",
      "Applying Scaler to persistence diagrams.\n",
      "Got the result from ./20/train/filtrations/4/HeightFiltrartion_1_0/gray/diagrams.npy\n",
      "Applying Scaler to persistence diagrams.\n",
      "Got the result from ./20/train/filtrations/4/HeightFiltrartion_1_0/red/diagrams.npy\n",
      "Applying Scaler to persistence diagrams.\n",
      "Got the result from ./20/train/filtrations/4/HeightFiltrartion_1_0/red/diagrams.npy\n",
      "Applying Scaler to persistence diagrams.\n",
      "Got the result from ./20/train/filtrations/4/HeightFiltrartion_1_0/green/diagrams.npy\n",
      "Applying Scaler to persistence diagrams.\n",
      "Got the result from ./20/train/filtrations/4/HeightFiltrartion_1_0/green/diagrams.npy\n",
      "Applying Scaler to persistence diagrams.\n",
      "Got the result from ./20/train/filtrations/4/HeightFiltrartion_1_0/blue/diagrams.npy\n",
      "Applying Scaler to persistence diagrams.\n",
      "Got the result from ./20/train/filtrations/4/HeightFiltrartion_1_0/blue/diagrams.npy\n",
      "Applying Scaler to persistence diagrams.\n",
      "Fitting filtration 33/72: 4/RadialFiltration_5_5\n",
      "RGB images received. Transforming to grayscale.\n"
     ]
    },
    {
     "name": "stderr",
     "output_type": "stream",
     "text": [
      "rgb2gray: 100%|██████████| 50000/50000 [00:03<00:00, 12908.20it/s]\n"
     ]
    },
    {
     "name": "stdout",
     "output_type": "stream",
     "text": [
      "Got the result from ./20/train/filtrations/4/RadialFiltration_5_5/gray/diagrams.npy\n",
      "Applying Scaler to persistence diagrams.\n",
      "Got the result from ./20/train/filtrations/4/RadialFiltration_5_5/gray/diagrams.npy\n",
      "Applying Scaler to persistence diagrams.\n",
      "Got the result from ./20/train/filtrations/4/RadialFiltration_5_5/red/diagrams.npy\n",
      "Applying Scaler to persistence diagrams.\n",
      "Got the result from ./20/train/filtrations/4/RadialFiltration_5_5/red/diagrams.npy\n",
      "Applying Scaler to persistence diagrams.\n",
      "Got the result from ./20/train/filtrations/4/RadialFiltration_5_5/green/diagrams.npy\n",
      "Applying Scaler to persistence diagrams.\n",
      "Got the result from ./20/train/filtrations/4/RadialFiltration_5_5/green/diagrams.npy\n",
      "Applying Scaler to persistence diagrams.\n",
      "Got the result from ./20/train/filtrations/4/RadialFiltration_5_5/blue/diagrams.npy\n",
      "Applying Scaler to persistence diagrams.\n",
      "Got the result from ./20/train/filtrations/4/RadialFiltration_5_5/blue/diagrams.npy\n",
      "Applying Scaler to persistence diagrams.\n",
      "Fitting filtration 34/72: 4/RadialFiltration_5_12\n",
      "RGB images received. Transforming to grayscale.\n"
     ]
    },
    {
     "name": "stderr",
     "output_type": "stream",
     "text": [
      "rgb2gray: 100%|██████████| 50000/50000 [00:03<00:00, 13179.12it/s]\n"
     ]
    },
    {
     "name": "stdout",
     "output_type": "stream",
     "text": [
      "Got the result from ./20/train/filtrations/4/RadialFiltration_5_12/gray/diagrams.npy\n",
      "Applying Scaler to persistence diagrams.\n",
      "Got the result from ./20/train/filtrations/4/RadialFiltration_5_12/gray/diagrams.npy\n",
      "Applying Scaler to persistence diagrams.\n",
      "Got the result from ./20/train/filtrations/4/RadialFiltration_5_12/red/diagrams.npy\n",
      "Applying Scaler to persistence diagrams.\n",
      "Got the result from ./20/train/filtrations/4/RadialFiltration_5_12/red/diagrams.npy\n",
      "Applying Scaler to persistence diagrams.\n",
      "Got the result from ./20/train/filtrations/4/RadialFiltration_5_12/green/diagrams.npy\n",
      "Applying Scaler to persistence diagrams.\n",
      "Got the result from ./20/train/filtrations/4/RadialFiltration_5_12/green/diagrams.npy\n",
      "Applying Scaler to persistence diagrams.\n",
      "Got the result from ./20/train/filtrations/4/RadialFiltration_5_12/blue/diagrams.npy\n",
      "Applying Scaler to persistence diagrams.\n",
      "Got the result from ./20/train/filtrations/4/RadialFiltration_5_12/blue/diagrams.npy\n",
      "Applying Scaler to persistence diagrams.\n",
      "Fitting filtration 35/72: 4/RadialFiltration_5_19\n",
      "RGB images received. Transforming to grayscale.\n"
     ]
    },
    {
     "name": "stderr",
     "output_type": "stream",
     "text": [
      "rgb2gray: 100%|██████████| 50000/50000 [00:03<00:00, 12873.53it/s]\n"
     ]
    },
    {
     "name": "stdout",
     "output_type": "stream",
     "text": [
      "Got the result from ./20/train/filtrations/4/RadialFiltration_5_19/gray/diagrams.npy\n",
      "Applying Scaler to persistence diagrams.\n",
      "Got the result from ./20/train/filtrations/4/RadialFiltration_5_19/gray/diagrams.npy\n",
      "Applying Scaler to persistence diagrams.\n",
      "Got the result from ./20/train/filtrations/4/RadialFiltration_5_19/red/diagrams.npy\n",
      "Applying Scaler to persistence diagrams.\n",
      "Got the result from ./20/train/filtrations/4/RadialFiltration_5_19/red/diagrams.npy\n",
      "Applying Scaler to persistence diagrams.\n",
      "Got the result from ./20/train/filtrations/4/RadialFiltration_5_19/green/diagrams.npy\n",
      "Applying Scaler to persistence diagrams.\n",
      "Got the result from ./20/train/filtrations/4/RadialFiltration_5_19/green/diagrams.npy\n",
      "Applying Scaler to persistence diagrams.\n",
      "Got the result from ./20/train/filtrations/4/RadialFiltration_5_19/blue/diagrams.npy\n",
      "Applying Scaler to persistence diagrams.\n",
      "Got the result from ./20/train/filtrations/4/RadialFiltration_5_19/blue/diagrams.npy\n",
      "Applying Scaler to persistence diagrams.\n",
      "Fitting filtration 36/72: 4/RadialFiltration_5_26\n",
      "RGB images received. Transforming to grayscale.\n"
     ]
    },
    {
     "name": "stderr",
     "output_type": "stream",
     "text": [
      "rgb2gray: 100%|██████████| 50000/50000 [00:03<00:00, 13158.97it/s]\n"
     ]
    },
    {
     "name": "stdout",
     "output_type": "stream",
     "text": [
      "Got the result from ./20/train/filtrations/4/RadialFiltration_5_26/gray/diagrams.npy\n",
      "Applying Scaler to persistence diagrams.\n",
      "Got the result from ./20/train/filtrations/4/RadialFiltration_5_26/gray/diagrams.npy\n",
      "Applying Scaler to persistence diagrams.\n",
      "Got the result from ./20/train/filtrations/4/RadialFiltration_5_26/red/diagrams.npy\n",
      "Applying Scaler to persistence diagrams.\n",
      "Got the result from ./20/train/filtrations/4/RadialFiltration_5_26/red/diagrams.npy\n",
      "Applying Scaler to persistence diagrams.\n",
      "Got the result from ./20/train/filtrations/4/RadialFiltration_5_26/green/diagrams.npy\n",
      "Applying Scaler to persistence diagrams.\n",
      "Got the result from ./20/train/filtrations/4/RadialFiltration_5_26/green/diagrams.npy\n",
      "Applying Scaler to persistence diagrams.\n",
      "Got the result from ./20/train/filtrations/4/RadialFiltration_5_26/blue/diagrams.npy\n",
      "Applying Scaler to persistence diagrams.\n",
      "Got the result from ./20/train/filtrations/4/RadialFiltration_5_26/blue/diagrams.npy\n",
      "Applying Scaler to persistence diagrams.\n",
      "Fitting filtration 37/72: 4/RadialFiltration_12_5\n",
      "RGB images received. Transforming to grayscale.\n"
     ]
    },
    {
     "name": "stderr",
     "output_type": "stream",
     "text": [
      "rgb2gray: 100%|██████████| 50000/50000 [00:03<00:00, 13097.94it/s]\n"
     ]
    },
    {
     "name": "stdout",
     "output_type": "stream",
     "text": [
      "Got the result from ./20/train/filtrations/4/RadialFiltration_12_5/gray/diagrams.npy\n",
      "Applying Scaler to persistence diagrams.\n",
      "Got the result from ./20/train/filtrations/4/RadialFiltration_12_5/gray/diagrams.npy\n",
      "Applying Scaler to persistence diagrams.\n",
      "Got the result from ./20/train/filtrations/4/RadialFiltration_12_5/red/diagrams.npy\n",
      "Applying Scaler to persistence diagrams.\n",
      "Got the result from ./20/train/filtrations/4/RadialFiltration_12_5/red/diagrams.npy\n",
      "Applying Scaler to persistence diagrams.\n",
      "Got the result from ./20/train/filtrations/4/RadialFiltration_12_5/green/diagrams.npy\n",
      "Applying Scaler to persistence diagrams.\n",
      "Got the result from ./20/train/filtrations/4/RadialFiltration_12_5/green/diagrams.npy\n",
      "Applying Scaler to persistence diagrams.\n",
      "Got the result from ./20/train/filtrations/4/RadialFiltration_12_5/blue/diagrams.npy\n",
      "Applying Scaler to persistence diagrams.\n",
      "Got the result from ./20/train/filtrations/4/RadialFiltration_12_5/blue/diagrams.npy\n",
      "Applying Scaler to persistence diagrams.\n",
      "Fitting filtration 38/72: 4/RadialFiltration_12_12\n",
      "RGB images received. Transforming to grayscale.\n"
     ]
    },
    {
     "name": "stderr",
     "output_type": "stream",
     "text": [
      "rgb2gray: 100%|██████████| 50000/50000 [00:03<00:00, 13218.94it/s]\n"
     ]
    },
    {
     "name": "stdout",
     "output_type": "stream",
     "text": [
      "Got the result from ./20/train/filtrations/4/RadialFiltration_12_12/gray/diagrams.npy\n",
      "Applying Scaler to persistence diagrams.\n",
      "Got the result from ./20/train/filtrations/4/RadialFiltration_12_12/gray/diagrams.npy\n",
      "Applying Scaler to persistence diagrams.\n",
      "Got the result from ./20/train/filtrations/4/RadialFiltration_12_12/red/diagrams.npy\n",
      "Applying Scaler to persistence diagrams.\n",
      "Got the result from ./20/train/filtrations/4/RadialFiltration_12_12/red/diagrams.npy\n",
      "Applying Scaler to persistence diagrams.\n",
      "Got the result from ./20/train/filtrations/4/RadialFiltration_12_12/green/diagrams.npy\n",
      "Applying Scaler to persistence diagrams.\n",
      "Got the result from ./20/train/filtrations/4/RadialFiltration_12_12/green/diagrams.npy\n",
      "Applying Scaler to persistence diagrams.\n",
      "Got the result from ./20/train/filtrations/4/RadialFiltration_12_12/blue/diagrams.npy\n",
      "Applying Scaler to persistence diagrams.\n",
      "Got the result from ./20/train/filtrations/4/RadialFiltration_12_12/blue/diagrams.npy\n",
      "Applying Scaler to persistence diagrams.\n",
      "Fitting filtration 39/72: 4/RadialFiltration_12_19\n",
      "RGB images received. Transforming to grayscale.\n"
     ]
    },
    {
     "name": "stderr",
     "output_type": "stream",
     "text": [
      "rgb2gray: 100%|██████████| 50000/50000 [00:03<00:00, 13083.45it/s]\n"
     ]
    },
    {
     "name": "stdout",
     "output_type": "stream",
     "text": [
      "Got the result from ./20/train/filtrations/4/RadialFiltration_12_19/gray/diagrams.npy\n",
      "Applying Scaler to persistence diagrams.\n",
      "Got the result from ./20/train/filtrations/4/RadialFiltration_12_19/gray/diagrams.npy\n",
      "Applying Scaler to persistence diagrams.\n",
      "Got the result from ./20/train/filtrations/4/RadialFiltration_12_19/red/diagrams.npy\n",
      "Applying Scaler to persistence diagrams.\n",
      "Got the result from ./20/train/filtrations/4/RadialFiltration_12_19/red/diagrams.npy\n",
      "Applying Scaler to persistence diagrams.\n",
      "Got the result from ./20/train/filtrations/4/RadialFiltration_12_19/green/diagrams.npy\n",
      "Applying Scaler to persistence diagrams.\n",
      "Got the result from ./20/train/filtrations/4/RadialFiltration_12_19/green/diagrams.npy\n",
      "Applying Scaler to persistence diagrams.\n",
      "Got the result from ./20/train/filtrations/4/RadialFiltration_12_19/blue/diagrams.npy\n",
      "Applying Scaler to persistence diagrams.\n",
      "Got the result from ./20/train/filtrations/4/RadialFiltration_12_19/blue/diagrams.npy\n",
      "Applying Scaler to persistence diagrams.\n",
      "Fitting filtration 40/72: 4/RadialFiltration_12_26\n",
      "RGB images received. Transforming to grayscale.\n"
     ]
    },
    {
     "name": "stderr",
     "output_type": "stream",
     "text": [
      "rgb2gray: 100%|██████████| 50000/50000 [00:03<00:00, 13249.94it/s]\n"
     ]
    },
    {
     "name": "stdout",
     "output_type": "stream",
     "text": [
      "Got the result from ./20/train/filtrations/4/RadialFiltration_12_26/gray/diagrams.npy\n",
      "Applying Scaler to persistence diagrams.\n",
      "Got the result from ./20/train/filtrations/4/RadialFiltration_12_26/gray/diagrams.npy\n",
      "Applying Scaler to persistence diagrams.\n",
      "Got the result from ./20/train/filtrations/4/RadialFiltration_12_26/red/diagrams.npy\n",
      "Applying Scaler to persistence diagrams.\n",
      "Got the result from ./20/train/filtrations/4/RadialFiltration_12_26/red/diagrams.npy\n",
      "Applying Scaler to persistence diagrams.\n",
      "Got the result from ./20/train/filtrations/4/RadialFiltration_12_26/green/diagrams.npy\n",
      "Applying Scaler to persistence diagrams.\n",
      "Got the result from ./20/train/filtrations/4/RadialFiltration_12_26/green/diagrams.npy\n",
      "Applying Scaler to persistence diagrams.\n",
      "Got the result from ./20/train/filtrations/4/RadialFiltration_12_26/blue/diagrams.npy\n",
      "Applying Scaler to persistence diagrams.\n",
      "Got the result from ./20/train/filtrations/4/RadialFiltration_12_26/blue/diagrams.npy\n",
      "Applying Scaler to persistence diagrams.\n",
      "Fitting filtration 41/72: 4/RadialFiltration_19_5\n",
      "RGB images received. Transforming to grayscale.\n"
     ]
    },
    {
     "name": "stderr",
     "output_type": "stream",
     "text": [
      "rgb2gray: 100%|██████████| 50000/50000 [00:03<00:00, 13225.59it/s]\n"
     ]
    },
    {
     "name": "stdout",
     "output_type": "stream",
     "text": [
      "Got the result from ./20/train/filtrations/4/RadialFiltration_19_5/gray/diagrams.npy\n",
      "Applying Scaler to persistence diagrams.\n",
      "Got the result from ./20/train/filtrations/4/RadialFiltration_19_5/gray/diagrams.npy\n",
      "Applying Scaler to persistence diagrams.\n",
      "Got the result from ./20/train/filtrations/4/RadialFiltration_19_5/red/diagrams.npy\n",
      "Applying Scaler to persistence diagrams.\n",
      "Got the result from ./20/train/filtrations/4/RadialFiltration_19_5/red/diagrams.npy\n",
      "Applying Scaler to persistence diagrams.\n",
      "Got the result from ./20/train/filtrations/4/RadialFiltration_19_5/green/diagrams.npy\n",
      "Applying Scaler to persistence diagrams.\n",
      "Got the result from ./20/train/filtrations/4/RadialFiltration_19_5/green/diagrams.npy\n",
      "Applying Scaler to persistence diagrams.\n",
      "Got the result from ./20/train/filtrations/4/RadialFiltration_19_5/blue/diagrams.npy\n",
      "Applying Scaler to persistence diagrams.\n",
      "Got the result from ./20/train/filtrations/4/RadialFiltration_19_5/blue/diagrams.npy\n",
      "Applying Scaler to persistence diagrams.\n",
      "Fitting filtration 42/72: 4/RadialFiltration_19_12\n",
      "RGB images received. Transforming to grayscale.\n"
     ]
    },
    {
     "name": "stderr",
     "output_type": "stream",
     "text": [
      "rgb2gray: 100%|██████████| 50000/50000 [00:03<00:00, 13109.48it/s]\n"
     ]
    },
    {
     "name": "stdout",
     "output_type": "stream",
     "text": [
      "Got the result from ./20/train/filtrations/4/RadialFiltration_19_12/gray/diagrams.npy\n",
      "Applying Scaler to persistence diagrams.\n",
      "Got the result from ./20/train/filtrations/4/RadialFiltration_19_12/gray/diagrams.npy\n",
      "Applying Scaler to persistence diagrams.\n",
      "Got the result from ./20/train/filtrations/4/RadialFiltration_19_12/red/diagrams.npy\n",
      "Applying Scaler to persistence diagrams.\n",
      "Got the result from ./20/train/filtrations/4/RadialFiltration_19_12/red/diagrams.npy\n",
      "Applying Scaler to persistence diagrams.\n",
      "Got the result from ./20/train/filtrations/4/RadialFiltration_19_12/green/diagrams.npy\n",
      "Applying Scaler to persistence diagrams.\n",
      "Got the result from ./20/train/filtrations/4/RadialFiltration_19_12/green/diagrams.npy\n",
      "Applying Scaler to persistence diagrams.\n",
      "Got the result from ./20/train/filtrations/4/RadialFiltration_19_12/blue/diagrams.npy\n",
      "Applying Scaler to persistence diagrams.\n",
      "Got the result from ./20/train/filtrations/4/RadialFiltration_19_12/blue/diagrams.npy\n",
      "Applying Scaler to persistence diagrams.\n",
      "Fitting filtration 43/72: 4/RadialFiltration_19_19\n",
      "RGB images received. Transforming to grayscale.\n"
     ]
    },
    {
     "name": "stderr",
     "output_type": "stream",
     "text": [
      "rgb2gray: 100%|██████████| 50000/50000 [00:03<00:00, 13128.51it/s]\n"
     ]
    },
    {
     "name": "stdout",
     "output_type": "stream",
     "text": [
      "Got the result from ./20/train/filtrations/4/RadialFiltration_19_19/gray/diagrams.npy\n",
      "Applying Scaler to persistence diagrams.\n",
      "Got the result from ./20/train/filtrations/4/RadialFiltration_19_19/gray/diagrams.npy\n",
      "Applying Scaler to persistence diagrams.\n",
      "Got the result from ./20/train/filtrations/4/RadialFiltration_19_19/red/diagrams.npy\n",
      "Applying Scaler to persistence diagrams.\n",
      "Got the result from ./20/train/filtrations/4/RadialFiltration_19_19/red/diagrams.npy\n",
      "Applying Scaler to persistence diagrams.\n",
      "Got the result from ./20/train/filtrations/4/RadialFiltration_19_19/green/diagrams.npy\n",
      "Applying Scaler to persistence diagrams.\n",
      "Got the result from ./20/train/filtrations/4/RadialFiltration_19_19/green/diagrams.npy\n",
      "Applying Scaler to persistence diagrams.\n",
      "Got the result from ./20/train/filtrations/4/RadialFiltration_19_19/blue/diagrams.npy\n",
      "Applying Scaler to persistence diagrams.\n",
      "Got the result from ./20/train/filtrations/4/RadialFiltration_19_19/blue/diagrams.npy\n",
      "Applying Scaler to persistence diagrams.\n",
      "Fitting filtration 44/72: 4/RadialFiltration_19_26\n",
      "RGB images received. Transforming to grayscale.\n"
     ]
    },
    {
     "name": "stderr",
     "output_type": "stream",
     "text": [
      "rgb2gray: 100%|██████████| 50000/50000 [00:03<00:00, 12934.62it/s]\n"
     ]
    },
    {
     "name": "stdout",
     "output_type": "stream",
     "text": [
      "Got the result from ./20/train/filtrations/4/RadialFiltration_19_26/gray/diagrams.npy\n",
      "Applying Scaler to persistence diagrams.\n",
      "Got the result from ./20/train/filtrations/4/RadialFiltration_19_26/gray/diagrams.npy\n",
      "Applying Scaler to persistence diagrams.\n",
      "Got the result from ./20/train/filtrations/4/RadialFiltration_19_26/red/diagrams.npy\n",
      "Applying Scaler to persistence diagrams.\n",
      "Got the result from ./20/train/filtrations/4/RadialFiltration_19_26/red/diagrams.npy\n",
      "Applying Scaler to persistence diagrams.\n",
      "Got the result from ./20/train/filtrations/4/RadialFiltration_19_26/green/diagrams.npy\n",
      "Applying Scaler to persistence diagrams.\n",
      "Got the result from ./20/train/filtrations/4/RadialFiltration_19_26/green/diagrams.npy\n",
      "Applying Scaler to persistence diagrams.\n",
      "Got the result from ./20/train/filtrations/4/RadialFiltration_19_26/blue/diagrams.npy\n",
      "Applying Scaler to persistence diagrams.\n",
      "Got the result from ./20/train/filtrations/4/RadialFiltration_19_26/blue/diagrams.npy\n",
      "Applying Scaler to persistence diagrams.\n",
      "Fitting filtration 45/72: 4/RadialFiltration_26_5\n",
      "RGB images received. Transforming to grayscale.\n"
     ]
    },
    {
     "name": "stderr",
     "output_type": "stream",
     "text": [
      "rgb2gray: 100%|██████████| 50000/50000 [00:03<00:00, 12925.69it/s]\n"
     ]
    },
    {
     "name": "stdout",
     "output_type": "stream",
     "text": [
      "Got the result from ./20/train/filtrations/4/RadialFiltration_26_5/gray/diagrams.npy\n",
      "Applying Scaler to persistence diagrams.\n",
      "Got the result from ./20/train/filtrations/4/RadialFiltration_26_5/gray/diagrams.npy\n",
      "Applying Scaler to persistence diagrams.\n",
      "Got the result from ./20/train/filtrations/4/RadialFiltration_26_5/red/diagrams.npy\n",
      "Applying Scaler to persistence diagrams.\n",
      "Got the result from ./20/train/filtrations/4/RadialFiltration_26_5/red/diagrams.npy\n",
      "Applying Scaler to persistence diagrams.\n",
      "Got the result from ./20/train/filtrations/4/RadialFiltration_26_5/green/diagrams.npy\n",
      "Applying Scaler to persistence diagrams.\n",
      "Got the result from ./20/train/filtrations/4/RadialFiltration_26_5/green/diagrams.npy\n",
      "Applying Scaler to persistence diagrams.\n",
      "Got the result from ./20/train/filtrations/4/RadialFiltration_26_5/blue/diagrams.npy\n",
      "Applying Scaler to persistence diagrams.\n",
      "Got the result from ./20/train/filtrations/4/RadialFiltration_26_5/blue/diagrams.npy\n",
      "Applying Scaler to persistence diagrams.\n",
      "Fitting filtration 46/72: 4/RadialFiltration_26_12\n",
      "RGB images received. Transforming to grayscale.\n"
     ]
    },
    {
     "name": "stderr",
     "output_type": "stream",
     "text": [
      "rgb2gray: 100%|██████████| 50000/50000 [00:03<00:00, 13130.81it/s]\n"
     ]
    },
    {
     "name": "stdout",
     "output_type": "stream",
     "text": [
      "Got the result from ./20/train/filtrations/4/RadialFiltration_26_12/gray/diagrams.npy\n",
      "Applying Scaler to persistence diagrams.\n",
      "Got the result from ./20/train/filtrations/4/RadialFiltration_26_12/gray/diagrams.npy\n",
      "Applying Scaler to persistence diagrams.\n",
      "Got the result from ./20/train/filtrations/4/RadialFiltration_26_12/red/diagrams.npy\n",
      "Applying Scaler to persistence diagrams.\n",
      "Got the result from ./20/train/filtrations/4/RadialFiltration_26_12/red/diagrams.npy\n",
      "Applying Scaler to persistence diagrams.\n",
      "Got the result from ./20/train/filtrations/4/RadialFiltration_26_12/green/diagrams.npy\n",
      "Applying Scaler to persistence diagrams.\n",
      "Got the result from ./20/train/filtrations/4/RadialFiltration_26_12/green/diagrams.npy\n",
      "Applying Scaler to persistence diagrams.\n",
      "Got the result from ./20/train/filtrations/4/RadialFiltration_26_12/blue/diagrams.npy\n",
      "Applying Scaler to persistence diagrams.\n",
      "Got the result from ./20/train/filtrations/4/RadialFiltration_26_12/blue/diagrams.npy\n",
      "Applying Scaler to persistence diagrams.\n",
      "Fitting filtration 47/72: 4/RadialFiltration_26_19\n",
      "RGB images received. Transforming to grayscale.\n"
     ]
    },
    {
     "name": "stderr",
     "output_type": "stream",
     "text": [
      "rgb2gray: 100%|██████████| 50000/50000 [00:03<00:00, 13047.09it/s]\n"
     ]
    },
    {
     "name": "stdout",
     "output_type": "stream",
     "text": [
      "Got the result from ./20/train/filtrations/4/RadialFiltration_26_19/gray/diagrams.npy\n",
      "Applying Scaler to persistence diagrams.\n",
      "Got the result from ./20/train/filtrations/4/RadialFiltration_26_19/gray/diagrams.npy\n",
      "Applying Scaler to persistence diagrams.\n",
      "Got the result from ./20/train/filtrations/4/RadialFiltration_26_19/red/diagrams.npy\n",
      "Applying Scaler to persistence diagrams.\n",
      "Got the result from ./20/train/filtrations/4/RadialFiltration_26_19/red/diagrams.npy\n",
      "Applying Scaler to persistence diagrams.\n",
      "Got the result from ./20/train/filtrations/4/RadialFiltration_26_19/green/diagrams.npy\n",
      "Applying Scaler to persistence diagrams.\n",
      "Got the result from ./20/train/filtrations/4/RadialFiltration_26_19/green/diagrams.npy\n",
      "Applying Scaler to persistence diagrams.\n",
      "Got the result from ./20/train/filtrations/4/RadialFiltration_26_19/blue/diagrams.npy\n",
      "Applying Scaler to persistence diagrams.\n",
      "Got the result from ./20/train/filtrations/4/RadialFiltration_26_19/blue/diagrams.npy\n",
      "Applying Scaler to persistence diagrams.\n",
      "Fitting filtration 48/72: 4/RadialFiltration_26_26\n",
      "RGB images received. Transforming to grayscale.\n"
     ]
    },
    {
     "name": "stderr",
     "output_type": "stream",
     "text": [
      "rgb2gray: 100%|██████████| 50000/50000 [00:03<00:00, 13141.85it/s]\n"
     ]
    },
    {
     "name": "stdout",
     "output_type": "stream",
     "text": [
      "Got the result from ./20/train/filtrations/4/RadialFiltration_26_26/gray/diagrams.npy\n",
      "Applying Scaler to persistence diagrams.\n",
      "Got the result from ./20/train/filtrations/4/RadialFiltration_26_26/gray/diagrams.npy\n",
      "Applying Scaler to persistence diagrams.\n",
      "Got the result from ./20/train/filtrations/4/RadialFiltration_26_26/red/diagrams.npy\n",
      "Applying Scaler to persistence diagrams.\n",
      "Got the result from ./20/train/filtrations/4/RadialFiltration_26_26/red/diagrams.npy\n",
      "Applying Scaler to persistence diagrams.\n",
      "Got the result from ./20/train/filtrations/4/RadialFiltration_26_26/green/diagrams.npy\n",
      "Applying Scaler to persistence diagrams.\n",
      "Got the result from ./20/train/filtrations/4/RadialFiltration_26_26/green/diagrams.npy\n",
      "Applying Scaler to persistence diagrams.\n",
      "Got the result from ./20/train/filtrations/4/RadialFiltration_26_26/blue/diagrams.npy\n",
      "Applying Scaler to persistence diagrams.\n",
      "Got the result from ./20/train/filtrations/4/RadialFiltration_26_26/blue/diagrams.npy\n",
      "Applying Scaler to persistence diagrams.\n",
      "Fitting filtration 49/72: 6/HeightFiltrartion_-1_-1\n",
      "RGB images received. Transforming to grayscale.\n"
     ]
    },
    {
     "name": "stderr",
     "output_type": "stream",
     "text": [
      "rgb2gray: 100%|██████████| 50000/50000 [00:03<00:00, 12964.61it/s]\n"
     ]
    },
    {
     "name": "stdout",
     "output_type": "stream",
     "text": [
      "Got the result from ./20/train/filtrations/6/HeightFiltrartion_-1_-1/gray/diagrams.npy\n",
      "Applying Scaler to persistence diagrams.\n",
      "Got the result from ./20/train/filtrations/6/HeightFiltrartion_-1_-1/gray/diagrams.npy\n",
      "Applying Scaler to persistence diagrams.\n",
      "Got the result from ./20/train/filtrations/6/HeightFiltrartion_-1_-1/red/diagrams.npy\n",
      "Applying Scaler to persistence diagrams.\n",
      "Got the result from ./20/train/filtrations/6/HeightFiltrartion_-1_-1/red/diagrams.npy\n",
      "Applying Scaler to persistence diagrams.\n",
      "Got the result from ./20/train/filtrations/6/HeightFiltrartion_-1_-1/green/diagrams.npy\n",
      "Applying Scaler to persistence diagrams.\n",
      "Got the result from ./20/train/filtrations/6/HeightFiltrartion_-1_-1/green/diagrams.npy\n",
      "Applying Scaler to persistence diagrams.\n",
      "Got the result from ./20/train/filtrations/6/HeightFiltrartion_-1_-1/blue/diagrams.npy\n",
      "Applying Scaler to persistence diagrams.\n",
      "Got the result from ./20/train/filtrations/6/HeightFiltrartion_-1_-1/blue/diagrams.npy\n",
      "Applying Scaler to persistence diagrams.\n",
      "Fitting filtration 50/72: 6/HeightFiltrartion_1_1\n",
      "RGB images received. Transforming to grayscale.\n"
     ]
    },
    {
     "name": "stderr",
     "output_type": "stream",
     "text": [
      "rgb2gray: 100%|██████████| 50000/50000 [00:03<00:00, 12987.43it/s]\n"
     ]
    },
    {
     "name": "stdout",
     "output_type": "stream",
     "text": [
      "Got the result from ./20/train/filtrations/6/HeightFiltrartion_1_1/gray/diagrams.npy\n",
      "Applying Scaler to persistence diagrams.\n",
      "Got the result from ./20/train/filtrations/6/HeightFiltrartion_1_1/gray/diagrams.npy\n",
      "Applying Scaler to persistence diagrams.\n",
      "Got the result from ./20/train/filtrations/6/HeightFiltrartion_1_1/red/diagrams.npy\n",
      "Applying Scaler to persistence diagrams.\n",
      "Got the result from ./20/train/filtrations/6/HeightFiltrartion_1_1/red/diagrams.npy\n",
      "Applying Scaler to persistence diagrams.\n",
      "Got the result from ./20/train/filtrations/6/HeightFiltrartion_1_1/green/diagrams.npy\n",
      "Applying Scaler to persistence diagrams.\n",
      "Got the result from ./20/train/filtrations/6/HeightFiltrartion_1_1/green/diagrams.npy\n",
      "Applying Scaler to persistence diagrams.\n",
      "Got the result from ./20/train/filtrations/6/HeightFiltrartion_1_1/blue/diagrams.npy\n",
      "Applying Scaler to persistence diagrams.\n",
      "Got the result from ./20/train/filtrations/6/HeightFiltrartion_1_1/blue/diagrams.npy\n",
      "Applying Scaler to persistence diagrams.\n",
      "Fitting filtration 51/72: 6/HeightFiltrartion_1_-1\n",
      "RGB images received. Transforming to grayscale.\n"
     ]
    },
    {
     "name": "stderr",
     "output_type": "stream",
     "text": [
      "rgb2gray: 100%|██████████| 50000/50000 [00:03<00:00, 12978.72it/s]\n"
     ]
    },
    {
     "name": "stdout",
     "output_type": "stream",
     "text": [
      "Got the result from ./20/train/filtrations/6/HeightFiltrartion_1_-1/gray/diagrams.npy\n",
      "Applying Scaler to persistence diagrams.\n",
      "Got the result from ./20/train/filtrations/6/HeightFiltrartion_1_-1/gray/diagrams.npy\n",
      "Applying Scaler to persistence diagrams.\n",
      "Got the result from ./20/train/filtrations/6/HeightFiltrartion_1_-1/red/diagrams.npy\n",
      "Applying Scaler to persistence diagrams.\n",
      "Got the result from ./20/train/filtrations/6/HeightFiltrartion_1_-1/red/diagrams.npy\n",
      "Applying Scaler to persistence diagrams.\n",
      "Got the result from ./20/train/filtrations/6/HeightFiltrartion_1_-1/green/diagrams.npy\n",
      "Applying Scaler to persistence diagrams.\n",
      "Got the result from ./20/train/filtrations/6/HeightFiltrartion_1_-1/green/diagrams.npy\n",
      "Applying Scaler to persistence diagrams.\n",
      "Got the result from ./20/train/filtrations/6/HeightFiltrartion_1_-1/blue/diagrams.npy\n",
      "Applying Scaler to persistence diagrams.\n",
      "Got the result from ./20/train/filtrations/6/HeightFiltrartion_1_-1/blue/diagrams.npy\n",
      "Applying Scaler to persistence diagrams.\n",
      "Fitting filtration 52/72: 6/HeightFiltrartion_-1_1\n",
      "RGB images received. Transforming to grayscale.\n"
     ]
    },
    {
     "name": "stderr",
     "output_type": "stream",
     "text": [
      "rgb2gray: 100%|██████████| 50000/50000 [00:03<00:00, 12952.62it/s]\n"
     ]
    },
    {
     "name": "stdout",
     "output_type": "stream",
     "text": [
      "Got the result from ./20/train/filtrations/6/HeightFiltrartion_-1_1/gray/diagrams.npy\n",
      "Applying Scaler to persistence diagrams.\n",
      "Got the result from ./20/train/filtrations/6/HeightFiltrartion_-1_1/gray/diagrams.npy\n",
      "Applying Scaler to persistence diagrams.\n",
      "Got the result from ./20/train/filtrations/6/HeightFiltrartion_-1_1/red/diagrams.npy\n",
      "Applying Scaler to persistence diagrams.\n",
      "Got the result from ./20/train/filtrations/6/HeightFiltrartion_-1_1/red/diagrams.npy\n",
      "Applying Scaler to persistence diagrams.\n",
      "Got the result from ./20/train/filtrations/6/HeightFiltrartion_-1_1/green/diagrams.npy\n",
      "Applying Scaler to persistence diagrams.\n",
      "Got the result from ./20/train/filtrations/6/HeightFiltrartion_-1_1/green/diagrams.npy\n",
      "Applying Scaler to persistence diagrams.\n",
      "Got the result from ./20/train/filtrations/6/HeightFiltrartion_-1_1/blue/diagrams.npy\n",
      "Applying Scaler to persistence diagrams.\n",
      "Got the result from ./20/train/filtrations/6/HeightFiltrartion_-1_1/blue/diagrams.npy\n",
      "Applying Scaler to persistence diagrams.\n",
      "Fitting filtration 53/72: 6/HeightFiltrartion_0_-1\n",
      "RGB images received. Transforming to grayscale.\n"
     ]
    },
    {
     "name": "stderr",
     "output_type": "stream",
     "text": [
      "rgb2gray: 100%|██████████| 50000/50000 [00:03<00:00, 13033.14it/s]\n"
     ]
    },
    {
     "name": "stdout",
     "output_type": "stream",
     "text": [
      "Got the result from ./20/train/filtrations/6/HeightFiltrartion_0_-1/gray/diagrams.npy\n",
      "Applying Scaler to persistence diagrams.\n",
      "Got the result from ./20/train/filtrations/6/HeightFiltrartion_0_-1/gray/diagrams.npy\n",
      "Applying Scaler to persistence diagrams.\n",
      "Got the result from ./20/train/filtrations/6/HeightFiltrartion_0_-1/red/diagrams.npy\n",
      "Applying Scaler to persistence diagrams.\n",
      "Got the result from ./20/train/filtrations/6/HeightFiltrartion_0_-1/red/diagrams.npy\n",
      "Applying Scaler to persistence diagrams.\n",
      "Got the result from ./20/train/filtrations/6/HeightFiltrartion_0_-1/green/diagrams.npy\n",
      "Applying Scaler to persistence diagrams.\n",
      "Got the result from ./20/train/filtrations/6/HeightFiltrartion_0_-1/green/diagrams.npy\n",
      "Applying Scaler to persistence diagrams.\n",
      "Got the result from ./20/train/filtrations/6/HeightFiltrartion_0_-1/blue/diagrams.npy\n",
      "Applying Scaler to persistence diagrams.\n",
      "Got the result from ./20/train/filtrations/6/HeightFiltrartion_0_-1/blue/diagrams.npy\n",
      "Applying Scaler to persistence diagrams.\n",
      "Fitting filtration 54/72: 6/HeightFiltrartion_0_1\n",
      "RGB images received. Transforming to grayscale.\n"
     ]
    },
    {
     "name": "stderr",
     "output_type": "stream",
     "text": [
      "rgb2gray: 100%|██████████| 50000/50000 [00:03<00:00, 12739.43it/s]\n"
     ]
    },
    {
     "name": "stdout",
     "output_type": "stream",
     "text": [
      "Got the result from ./20/train/filtrations/6/HeightFiltrartion_0_1/gray/diagrams.npy\n",
      "Applying Scaler to persistence diagrams.\n",
      "Got the result from ./20/train/filtrations/6/HeightFiltrartion_0_1/gray/diagrams.npy\n",
      "Applying Scaler to persistence diagrams.\n",
      "Got the result from ./20/train/filtrations/6/HeightFiltrartion_0_1/red/diagrams.npy\n",
      "Applying Scaler to persistence diagrams.\n",
      "Got the result from ./20/train/filtrations/6/HeightFiltrartion_0_1/red/diagrams.npy\n",
      "Applying Scaler to persistence diagrams.\n",
      "Got the result from ./20/train/filtrations/6/HeightFiltrartion_0_1/green/diagrams.npy\n",
      "Applying Scaler to persistence diagrams.\n",
      "Got the result from ./20/train/filtrations/6/HeightFiltrartion_0_1/green/diagrams.npy\n",
      "Applying Scaler to persistence diagrams.\n",
      "Got the result from ./20/train/filtrations/6/HeightFiltrartion_0_1/blue/diagrams.npy\n",
      "Applying Scaler to persistence diagrams.\n",
      "Got the result from ./20/train/filtrations/6/HeightFiltrartion_0_1/blue/diagrams.npy\n",
      "Applying Scaler to persistence diagrams.\n",
      "Fitting filtration 55/72: 6/HeightFiltrartion_-1_0\n",
      "RGB images received. Transforming to grayscale.\n"
     ]
    },
    {
     "name": "stderr",
     "output_type": "stream",
     "text": [
      "rgb2gray: 100%|██████████| 50000/50000 [00:03<00:00, 12520.23it/s]\n"
     ]
    },
    {
     "name": "stdout",
     "output_type": "stream",
     "text": [
      "Got the result from ./20/train/filtrations/6/HeightFiltrartion_-1_0/gray/diagrams.npy\n",
      "Applying Scaler to persistence diagrams.\n",
      "Got the result from ./20/train/filtrations/6/HeightFiltrartion_-1_0/gray/diagrams.npy\n",
      "Applying Scaler to persistence diagrams.\n",
      "Got the result from ./20/train/filtrations/6/HeightFiltrartion_-1_0/red/diagrams.npy\n",
      "Applying Scaler to persistence diagrams.\n",
      "Got the result from ./20/train/filtrations/6/HeightFiltrartion_-1_0/red/diagrams.npy\n",
      "Applying Scaler to persistence diagrams.\n",
      "Got the result from ./20/train/filtrations/6/HeightFiltrartion_-1_0/green/diagrams.npy\n",
      "Applying Scaler to persistence diagrams.\n",
      "Got the result from ./20/train/filtrations/6/HeightFiltrartion_-1_0/green/diagrams.npy\n",
      "Applying Scaler to persistence diagrams.\n",
      "Got the result from ./20/train/filtrations/6/HeightFiltrartion_-1_0/blue/diagrams.npy\n",
      "Applying Scaler to persistence diagrams.\n",
      "Got the result from ./20/train/filtrations/6/HeightFiltrartion_-1_0/blue/diagrams.npy\n",
      "Applying Scaler to persistence diagrams.\n",
      "Fitting filtration 56/72: 6/HeightFiltrartion_1_0\n",
      "RGB images received. Transforming to grayscale.\n"
     ]
    },
    {
     "name": "stderr",
     "output_type": "stream",
     "text": [
      "rgb2gray: 100%|██████████| 50000/50000 [00:03<00:00, 13042.76it/s]\n"
     ]
    },
    {
     "name": "stdout",
     "output_type": "stream",
     "text": [
      "Got the result from ./20/train/filtrations/6/HeightFiltrartion_1_0/gray/diagrams.npy\n",
      "Applying Scaler to persistence diagrams.\n",
      "Got the result from ./20/train/filtrations/6/HeightFiltrartion_1_0/gray/diagrams.npy\n",
      "Applying Scaler to persistence diagrams.\n",
      "Got the result from ./20/train/filtrations/6/HeightFiltrartion_1_0/red/diagrams.npy\n",
      "Applying Scaler to persistence diagrams.\n",
      "Got the result from ./20/train/filtrations/6/HeightFiltrartion_1_0/red/diagrams.npy\n",
      "Applying Scaler to persistence diagrams.\n",
      "Got the result from ./20/train/filtrations/6/HeightFiltrartion_1_0/green/diagrams.npy\n",
      "Applying Scaler to persistence diagrams.\n",
      "Got the result from ./20/train/filtrations/6/HeightFiltrartion_1_0/green/diagrams.npy\n",
      "Applying Scaler to persistence diagrams.\n",
      "Got the result from ./20/train/filtrations/6/HeightFiltrartion_1_0/blue/diagrams.npy\n",
      "Applying Scaler to persistence diagrams.\n",
      "Got the result from ./20/train/filtrations/6/HeightFiltrartion_1_0/blue/diagrams.npy\n",
      "Applying Scaler to persistence diagrams.\n",
      "Fitting filtration 57/72: 6/RadialFiltration_5_5\n",
      "RGB images received. Transforming to grayscale.\n"
     ]
    },
    {
     "name": "stderr",
     "output_type": "stream",
     "text": [
      "rgb2gray: 100%|██████████| 50000/50000 [00:03<00:00, 12916.52it/s]\n"
     ]
    },
    {
     "name": "stdout",
     "output_type": "stream",
     "text": [
      "Got the result from ./20/train/filtrations/6/RadialFiltration_5_5/gray/diagrams.npy\n",
      "Applying Scaler to persistence diagrams.\n",
      "Got the result from ./20/train/filtrations/6/RadialFiltration_5_5/gray/diagrams.npy\n",
      "Applying Scaler to persistence diagrams.\n",
      "Got the result from ./20/train/filtrations/6/RadialFiltration_5_5/red/diagrams.npy\n",
      "Applying Scaler to persistence diagrams.\n",
      "Got the result from ./20/train/filtrations/6/RadialFiltration_5_5/red/diagrams.npy\n",
      "Applying Scaler to persistence diagrams.\n",
      "Got the result from ./20/train/filtrations/6/RadialFiltration_5_5/green/diagrams.npy\n",
      "Applying Scaler to persistence diagrams.\n",
      "Got the result from ./20/train/filtrations/6/RadialFiltration_5_5/green/diagrams.npy\n",
      "Applying Scaler to persistence diagrams.\n",
      "Got the result from ./20/train/filtrations/6/RadialFiltration_5_5/blue/diagrams.npy\n",
      "Applying Scaler to persistence diagrams.\n",
      "Got the result from ./20/train/filtrations/6/RadialFiltration_5_5/blue/diagrams.npy\n",
      "Applying Scaler to persistence diagrams.\n",
      "Fitting filtration 58/72: 6/RadialFiltration_5_12\n",
      "RGB images received. Transforming to grayscale.\n"
     ]
    },
    {
     "name": "stderr",
     "output_type": "stream",
     "text": [
      "rgb2gray: 100%|██████████| 50000/50000 [00:03<00:00, 12774.04it/s]\n"
     ]
    },
    {
     "name": "stdout",
     "output_type": "stream",
     "text": [
      "Got the result from ./20/train/filtrations/6/RadialFiltration_5_12/gray/diagrams.npy\n",
      "Applying Scaler to persistence diagrams.\n",
      "Got the result from ./20/train/filtrations/6/RadialFiltration_5_12/gray/diagrams.npy\n",
      "Applying Scaler to persistence diagrams.\n",
      "Got the result from ./20/train/filtrations/6/RadialFiltration_5_12/red/diagrams.npy\n",
      "Applying Scaler to persistence diagrams.\n",
      "Got the result from ./20/train/filtrations/6/RadialFiltration_5_12/red/diagrams.npy\n",
      "Applying Scaler to persistence diagrams.\n",
      "Got the result from ./20/train/filtrations/6/RadialFiltration_5_12/green/diagrams.npy\n",
      "Applying Scaler to persistence diagrams.\n",
      "Got the result from ./20/train/filtrations/6/RadialFiltration_5_12/green/diagrams.npy\n",
      "Applying Scaler to persistence diagrams.\n",
      "Got the result from ./20/train/filtrations/6/RadialFiltration_5_12/blue/diagrams.npy\n",
      "Applying Scaler to persistence diagrams.\n",
      "Got the result from ./20/train/filtrations/6/RadialFiltration_5_12/blue/diagrams.npy\n",
      "Applying Scaler to persistence diagrams.\n",
      "Fitting filtration 59/72: 6/RadialFiltration_5_19\n",
      "RGB images received. Transforming to grayscale.\n"
     ]
    },
    {
     "name": "stderr",
     "output_type": "stream",
     "text": [
      "rgb2gray: 100%|██████████| 50000/50000 [00:03<00:00, 12847.61it/s]\n"
     ]
    },
    {
     "name": "stdout",
     "output_type": "stream",
     "text": [
      "Got the result from ./20/train/filtrations/6/RadialFiltration_5_19/gray/diagrams.npy\n",
      "Applying Scaler to persistence diagrams.\n",
      "Got the result from ./20/train/filtrations/6/RadialFiltration_5_19/gray/diagrams.npy\n",
      "Applying Scaler to persistence diagrams.\n",
      "Got the result from ./20/train/filtrations/6/RadialFiltration_5_19/red/diagrams.npy\n",
      "Applying Scaler to persistence diagrams.\n",
      "Got the result from ./20/train/filtrations/6/RadialFiltration_5_19/red/diagrams.npy\n",
      "Applying Scaler to persistence diagrams.\n",
      "Got the result from ./20/train/filtrations/6/RadialFiltration_5_19/green/diagrams.npy\n",
      "Applying Scaler to persistence diagrams.\n",
      "Got the result from ./20/train/filtrations/6/RadialFiltration_5_19/green/diagrams.npy\n",
      "Applying Scaler to persistence diagrams.\n",
      "Got the result from ./20/train/filtrations/6/RadialFiltration_5_19/blue/diagrams.npy\n",
      "Applying Scaler to persistence diagrams.\n",
      "Got the result from ./20/train/filtrations/6/RadialFiltration_5_19/blue/diagrams.npy\n",
      "Applying Scaler to persistence diagrams.\n",
      "Fitting filtration 60/72: 6/RadialFiltration_5_26\n",
      "RGB images received. Transforming to grayscale.\n"
     ]
    },
    {
     "name": "stderr",
     "output_type": "stream",
     "text": [
      "rgb2gray: 100%|██████████| 50000/50000 [00:03<00:00, 12819.71it/s]\n"
     ]
    },
    {
     "name": "stdout",
     "output_type": "stream",
     "text": [
      "Got the result from ./20/train/filtrations/6/RadialFiltration_5_26/gray/diagrams.npy\n",
      "Applying Scaler to persistence diagrams.\n",
      "Got the result from ./20/train/filtrations/6/RadialFiltration_5_26/gray/diagrams.npy\n",
      "Applying Scaler to persistence diagrams.\n",
      "Got the result from ./20/train/filtrations/6/RadialFiltration_5_26/red/diagrams.npy\n",
      "Applying Scaler to persistence diagrams.\n",
      "Got the result from ./20/train/filtrations/6/RadialFiltration_5_26/red/diagrams.npy\n",
      "Applying Scaler to persistence diagrams.\n",
      "Got the result from ./20/train/filtrations/6/RadialFiltration_5_26/green/diagrams.npy\n",
      "Applying Scaler to persistence diagrams.\n",
      "Got the result from ./20/train/filtrations/6/RadialFiltration_5_26/green/diagrams.npy\n",
      "Applying Scaler to persistence diagrams.\n",
      "Got the result from ./20/train/filtrations/6/RadialFiltration_5_26/blue/diagrams.npy\n",
      "Applying Scaler to persistence diagrams.\n",
      "Got the result from ./20/train/filtrations/6/RadialFiltration_5_26/blue/diagrams.npy\n",
      "Applying Scaler to persistence diagrams.\n",
      "Fitting filtration 61/72: 6/RadialFiltration_12_5\n",
      "RGB images received. Transforming to grayscale.\n"
     ]
    },
    {
     "name": "stderr",
     "output_type": "stream",
     "text": [
      "rgb2gray: 100%|██████████| 50000/50000 [00:03<00:00, 13069.83it/s]\n"
     ]
    },
    {
     "name": "stdout",
     "output_type": "stream",
     "text": [
      "Got the result from ./20/train/filtrations/6/RadialFiltration_12_5/gray/diagrams.npy\n",
      "Applying Scaler to persistence diagrams.\n",
      "Got the result from ./20/train/filtrations/6/RadialFiltration_12_5/gray/diagrams.npy\n",
      "Applying Scaler to persistence diagrams.\n",
      "Got the result from ./20/train/filtrations/6/RadialFiltration_12_5/red/diagrams.npy\n",
      "Applying Scaler to persistence diagrams.\n",
      "Got the result from ./20/train/filtrations/6/RadialFiltration_12_5/red/diagrams.npy\n",
      "Applying Scaler to persistence diagrams.\n",
      "Got the result from ./20/train/filtrations/6/RadialFiltration_12_5/green/diagrams.npy\n",
      "Applying Scaler to persistence diagrams.\n",
      "Got the result from ./20/train/filtrations/6/RadialFiltration_12_5/green/diagrams.npy\n",
      "Applying Scaler to persistence diagrams.\n",
      "Got the result from ./20/train/filtrations/6/RadialFiltration_12_5/blue/diagrams.npy\n",
      "Applying Scaler to persistence diagrams.\n",
      "Got the result from ./20/train/filtrations/6/RadialFiltration_12_5/blue/diagrams.npy\n",
      "Applying Scaler to persistence diagrams.\n",
      "Fitting filtration 62/72: 6/RadialFiltration_12_12\n",
      "RGB images received. Transforming to grayscale.\n"
     ]
    },
    {
     "name": "stderr",
     "output_type": "stream",
     "text": [
      "rgb2gray: 100%|██████████| 50000/50000 [00:03<00:00, 13087.88it/s]\n"
     ]
    },
    {
     "name": "stdout",
     "output_type": "stream",
     "text": [
      "Got the result from ./20/train/filtrations/6/RadialFiltration_12_12/gray/diagrams.npy\n",
      "Applying Scaler to persistence diagrams.\n",
      "Got the result from ./20/train/filtrations/6/RadialFiltration_12_12/gray/diagrams.npy\n",
      "Applying Scaler to persistence diagrams.\n",
      "Got the result from ./20/train/filtrations/6/RadialFiltration_12_12/red/diagrams.npy\n",
      "Applying Scaler to persistence diagrams.\n",
      "Got the result from ./20/train/filtrations/6/RadialFiltration_12_12/red/diagrams.npy\n",
      "Applying Scaler to persistence diagrams.\n",
      "Got the result from ./20/train/filtrations/6/RadialFiltration_12_12/green/diagrams.npy\n",
      "Applying Scaler to persistence diagrams.\n",
      "Got the result from ./20/train/filtrations/6/RadialFiltration_12_12/green/diagrams.npy\n",
      "Applying Scaler to persistence diagrams.\n",
      "Got the result from ./20/train/filtrations/6/RadialFiltration_12_12/blue/diagrams.npy\n",
      "Applying Scaler to persistence diagrams.\n",
      "Got the result from ./20/train/filtrations/6/RadialFiltration_12_12/blue/diagrams.npy\n",
      "Applying Scaler to persistence diagrams.\n",
      "Fitting filtration 63/72: 6/RadialFiltration_12_19\n",
      "RGB images received. Transforming to grayscale.\n"
     ]
    },
    {
     "name": "stderr",
     "output_type": "stream",
     "text": [
      "rgb2gray: 100%|██████████| 50000/50000 [00:03<00:00, 13066.66it/s]\n"
     ]
    },
    {
     "name": "stdout",
     "output_type": "stream",
     "text": [
      "Got the result from ./20/train/filtrations/6/RadialFiltration_12_19/gray/diagrams.npy\n",
      "Applying Scaler to persistence diagrams.\n",
      "Got the result from ./20/train/filtrations/6/RadialFiltration_12_19/gray/diagrams.npy\n",
      "Applying Scaler to persistence diagrams.\n",
      "Got the result from ./20/train/filtrations/6/RadialFiltration_12_19/red/diagrams.npy\n",
      "Applying Scaler to persistence diagrams.\n",
      "Got the result from ./20/train/filtrations/6/RadialFiltration_12_19/red/diagrams.npy\n",
      "Applying Scaler to persistence diagrams.\n",
      "Got the result from ./20/train/filtrations/6/RadialFiltration_12_19/green/diagrams.npy\n",
      "Applying Scaler to persistence diagrams.\n",
      "Got the result from ./20/train/filtrations/6/RadialFiltration_12_19/green/diagrams.npy\n",
      "Applying Scaler to persistence diagrams.\n",
      "Got the result from ./20/train/filtrations/6/RadialFiltration_12_19/blue/diagrams.npy\n",
      "Applying Scaler to persistence diagrams.\n",
      "Got the result from ./20/train/filtrations/6/RadialFiltration_12_19/blue/diagrams.npy\n",
      "Applying Scaler to persistence diagrams.\n",
      "Fitting filtration 64/72: 6/RadialFiltration_12_26\n",
      "RGB images received. Transforming to grayscale.\n"
     ]
    },
    {
     "name": "stderr",
     "output_type": "stream",
     "text": [
      "rgb2gray: 100%|██████████| 50000/50000 [00:03<00:00, 12855.11it/s]\n"
     ]
    },
    {
     "name": "stdout",
     "output_type": "stream",
     "text": [
      "Got the result from ./20/train/filtrations/6/RadialFiltration_12_26/gray/diagrams.npy\n",
      "Applying Scaler to persistence diagrams.\n",
      "Got the result from ./20/train/filtrations/6/RadialFiltration_12_26/gray/diagrams.npy\n",
      "Applying Scaler to persistence diagrams.\n",
      "Got the result from ./20/train/filtrations/6/RadialFiltration_12_26/red/diagrams.npy\n",
      "Applying Scaler to persistence diagrams.\n",
      "Got the result from ./20/train/filtrations/6/RadialFiltration_12_26/red/diagrams.npy\n",
      "Applying Scaler to persistence diagrams.\n",
      "Got the result from ./20/train/filtrations/6/RadialFiltration_12_26/green/diagrams.npy\n",
      "Applying Scaler to persistence diagrams.\n",
      "Got the result from ./20/train/filtrations/6/RadialFiltration_12_26/green/diagrams.npy\n",
      "Applying Scaler to persistence diagrams.\n",
      "Got the result from ./20/train/filtrations/6/RadialFiltration_12_26/blue/diagrams.npy\n",
      "Applying Scaler to persistence diagrams.\n",
      "Got the result from ./20/train/filtrations/6/RadialFiltration_12_26/blue/diagrams.npy\n",
      "Applying Scaler to persistence diagrams.\n",
      "Fitting filtration 65/72: 6/RadialFiltration_19_5\n",
      "RGB images received. Transforming to grayscale.\n"
     ]
    },
    {
     "name": "stderr",
     "output_type": "stream",
     "text": [
      "rgb2gray: 100%|██████████| 50000/50000 [00:03<00:00, 12941.61it/s]\n"
     ]
    },
    {
     "name": "stdout",
     "output_type": "stream",
     "text": [
      "Got the result from ./20/train/filtrations/6/RadialFiltration_19_5/gray/diagrams.npy\n",
      "Applying Scaler to persistence diagrams.\n",
      "Got the result from ./20/train/filtrations/6/RadialFiltration_19_5/gray/diagrams.npy\n",
      "Applying Scaler to persistence diagrams.\n",
      "Got the result from ./20/train/filtrations/6/RadialFiltration_19_5/red/diagrams.npy\n",
      "Applying Scaler to persistence diagrams.\n",
      "Got the result from ./20/train/filtrations/6/RadialFiltration_19_5/red/diagrams.npy\n",
      "Applying Scaler to persistence diagrams.\n",
      "Got the result from ./20/train/filtrations/6/RadialFiltration_19_5/green/diagrams.npy\n",
      "Applying Scaler to persistence diagrams.\n",
      "Got the result from ./20/train/filtrations/6/RadialFiltration_19_5/green/diagrams.npy\n",
      "Applying Scaler to persistence diagrams.\n",
      "Got the result from ./20/train/filtrations/6/RadialFiltration_19_5/blue/diagrams.npy\n",
      "Applying Scaler to persistence diagrams.\n",
      "Got the result from ./20/train/filtrations/6/RadialFiltration_19_5/blue/diagrams.npy\n",
      "Applying Scaler to persistence diagrams.\n",
      "Fitting filtration 66/72: 6/RadialFiltration_19_12\n",
      "RGB images received. Transforming to grayscale.\n"
     ]
    },
    {
     "name": "stderr",
     "output_type": "stream",
     "text": [
      "rgb2gray: 100%|██████████| 50000/50000 [00:03<00:00, 12782.18it/s]\n"
     ]
    },
    {
     "name": "stdout",
     "output_type": "stream",
     "text": [
      "Got the result from ./20/train/filtrations/6/RadialFiltration_19_12/gray/diagrams.npy\n",
      "Applying Scaler to persistence diagrams.\n",
      "Got the result from ./20/train/filtrations/6/RadialFiltration_19_12/gray/diagrams.npy\n",
      "Applying Scaler to persistence diagrams.\n",
      "Got the result from ./20/train/filtrations/6/RadialFiltration_19_12/red/diagrams.npy\n",
      "Applying Scaler to persistence diagrams.\n",
      "Got the result from ./20/train/filtrations/6/RadialFiltration_19_12/red/diagrams.npy\n",
      "Applying Scaler to persistence diagrams.\n",
      "Got the result from ./20/train/filtrations/6/RadialFiltration_19_12/green/diagrams.npy\n",
      "Applying Scaler to persistence diagrams.\n",
      "Got the result from ./20/train/filtrations/6/RadialFiltration_19_12/green/diagrams.npy\n",
      "Applying Scaler to persistence diagrams.\n",
      "Got the result from ./20/train/filtrations/6/RadialFiltration_19_12/blue/diagrams.npy\n",
      "Applying Scaler to persistence diagrams.\n",
      "Got the result from ./20/train/filtrations/6/RadialFiltration_19_12/blue/diagrams.npy\n",
      "Applying Scaler to persistence diagrams.\n",
      "Fitting filtration 67/72: 6/RadialFiltration_19_19\n",
      "RGB images received. Transforming to grayscale.\n"
     ]
    },
    {
     "name": "stderr",
     "output_type": "stream",
     "text": [
      "rgb2gray: 100%|██████████| 50000/50000 [00:03<00:00, 13080.12it/s]\n"
     ]
    },
    {
     "name": "stdout",
     "output_type": "stream",
     "text": [
      "Got the result from ./20/train/filtrations/6/RadialFiltration_19_19/gray/diagrams.npy\n",
      "Applying Scaler to persistence diagrams.\n",
      "Got the result from ./20/train/filtrations/6/RadialFiltration_19_19/gray/diagrams.npy\n",
      "Applying Scaler to persistence diagrams.\n",
      "Got the result from ./20/train/filtrations/6/RadialFiltration_19_19/red/diagrams.npy\n",
      "Applying Scaler to persistence diagrams.\n",
      "Got the result from ./20/train/filtrations/6/RadialFiltration_19_19/red/diagrams.npy\n",
      "Applying Scaler to persistence diagrams.\n",
      "Got the result from ./20/train/filtrations/6/RadialFiltration_19_19/green/diagrams.npy\n",
      "Applying Scaler to persistence diagrams.\n",
      "Got the result from ./20/train/filtrations/6/RadialFiltration_19_19/green/diagrams.npy\n",
      "Applying Scaler to persistence diagrams.\n",
      "Got the result from ./20/train/filtrations/6/RadialFiltration_19_19/blue/diagrams.npy\n",
      "Applying Scaler to persistence diagrams.\n",
      "Got the result from ./20/train/filtrations/6/RadialFiltration_19_19/blue/diagrams.npy\n",
      "Applying Scaler to persistence diagrams.\n",
      "Fitting filtration 68/72: 6/RadialFiltration_19_26\n",
      "RGB images received. Transforming to grayscale.\n"
     ]
    },
    {
     "name": "stderr",
     "output_type": "stream",
     "text": [
      "rgb2gray: 100%|██████████| 50000/50000 [00:04<00:00, 12478.95it/s]\n"
     ]
    },
    {
     "name": "stdout",
     "output_type": "stream",
     "text": [
      "Got the result from ./20/train/filtrations/6/RadialFiltration_19_26/gray/diagrams.npy\n",
      "Applying Scaler to persistence diagrams.\n",
      "Got the result from ./20/train/filtrations/6/RadialFiltration_19_26/gray/diagrams.npy\n",
      "Applying Scaler to persistence diagrams.\n",
      "Got the result from ./20/train/filtrations/6/RadialFiltration_19_26/red/diagrams.npy\n",
      "Applying Scaler to persistence diagrams.\n",
      "Got the result from ./20/train/filtrations/6/RadialFiltration_19_26/red/diagrams.npy\n",
      "Applying Scaler to persistence diagrams.\n",
      "Got the result from ./20/train/filtrations/6/RadialFiltration_19_26/green/diagrams.npy\n",
      "Applying Scaler to persistence diagrams.\n",
      "Got the result from ./20/train/filtrations/6/RadialFiltration_19_26/green/diagrams.npy\n",
      "Applying Scaler to persistence diagrams.\n",
      "Got the result from ./20/train/filtrations/6/RadialFiltration_19_26/blue/diagrams.npy\n",
      "Applying Scaler to persistence diagrams.\n",
      "Got the result from ./20/train/filtrations/6/RadialFiltration_19_26/blue/diagrams.npy\n",
      "Applying Scaler to persistence diagrams.\n",
      "Fitting filtration 69/72: 6/RadialFiltration_26_5\n",
      "RGB images received. Transforming to grayscale.\n"
     ]
    },
    {
     "name": "stderr",
     "output_type": "stream",
     "text": [
      "rgb2gray: 100%|██████████| 50000/50000 [00:03<00:00, 12943.19it/s]\n"
     ]
    },
    {
     "name": "stdout",
     "output_type": "stream",
     "text": [
      "Got the result from ./20/train/filtrations/6/RadialFiltration_26_5/gray/diagrams.npy\n",
      "Applying Scaler to persistence diagrams.\n",
      "Got the result from ./20/train/filtrations/6/RadialFiltration_26_5/gray/diagrams.npy\n",
      "Applying Scaler to persistence diagrams.\n",
      "Got the result from ./20/train/filtrations/6/RadialFiltration_26_5/red/diagrams.npy\n",
      "Applying Scaler to persistence diagrams.\n",
      "Got the result from ./20/train/filtrations/6/RadialFiltration_26_5/red/diagrams.npy\n",
      "Applying Scaler to persistence diagrams.\n",
      "Got the result from ./20/train/filtrations/6/RadialFiltration_26_5/green/diagrams.npy\n",
      "Applying Scaler to persistence diagrams.\n",
      "Got the result from ./20/train/filtrations/6/RadialFiltration_26_5/green/diagrams.npy\n",
      "Applying Scaler to persistence diagrams.\n",
      "Got the result from ./20/train/filtrations/6/RadialFiltration_26_5/blue/diagrams.npy\n",
      "Applying Scaler to persistence diagrams.\n",
      "Got the result from ./20/train/filtrations/6/RadialFiltration_26_5/blue/diagrams.npy\n",
      "Applying Scaler to persistence diagrams.\n",
      "Fitting filtration 70/72: 6/RadialFiltration_26_12\n",
      "RGB images received. Transforming to grayscale.\n"
     ]
    },
    {
     "name": "stderr",
     "output_type": "stream",
     "text": [
      "rgb2gray: 100%|██████████| 50000/50000 [00:03<00:00, 12795.82it/s]\n"
     ]
    },
    {
     "name": "stdout",
     "output_type": "stream",
     "text": [
      "Got the result from ./20/train/filtrations/6/RadialFiltration_26_12/gray/diagrams.npy\n",
      "Applying Scaler to persistence diagrams.\n",
      "Got the result from ./20/train/filtrations/6/RadialFiltration_26_12/gray/diagrams.npy\n",
      "Applying Scaler to persistence diagrams.\n",
      "Got the result from ./20/train/filtrations/6/RadialFiltration_26_12/red/diagrams.npy\n",
      "Applying Scaler to persistence diagrams.\n",
      "Got the result from ./20/train/filtrations/6/RadialFiltration_26_12/red/diagrams.npy\n",
      "Applying Scaler to persistence diagrams.\n",
      "Got the result from ./20/train/filtrations/6/RadialFiltration_26_12/green/diagrams.npy\n",
      "Applying Scaler to persistence diagrams.\n",
      "Got the result from ./20/train/filtrations/6/RadialFiltration_26_12/green/diagrams.npy\n",
      "Applying Scaler to persistence diagrams.\n",
      "Got the result from ./20/train/filtrations/6/RadialFiltration_26_12/blue/diagrams.npy\n",
      "Applying Scaler to persistence diagrams.\n",
      "Got the result from ./20/train/filtrations/6/RadialFiltration_26_12/blue/diagrams.npy\n",
      "Applying Scaler to persistence diagrams.\n",
      "Fitting filtration 71/72: 6/RadialFiltration_26_19\n",
      "RGB images received. Transforming to grayscale.\n"
     ]
    },
    {
     "name": "stderr",
     "output_type": "stream",
     "text": [
      "rgb2gray: 100%|██████████| 50000/50000 [00:03<00:00, 12942.08it/s]\n"
     ]
    },
    {
     "name": "stdout",
     "output_type": "stream",
     "text": [
      "Got the result from ./20/train/filtrations/6/RadialFiltration_26_19/gray/diagrams.npy\n",
      "Applying Scaler to persistence diagrams.\n",
      "Got the result from ./20/train/filtrations/6/RadialFiltration_26_19/gray/diagrams.npy\n",
      "Applying Scaler to persistence diagrams.\n",
      "Got the result from ./20/train/filtrations/6/RadialFiltration_26_19/red/diagrams.npy\n",
      "Applying Scaler to persistence diagrams.\n",
      "Got the result from ./20/train/filtrations/6/RadialFiltration_26_19/red/diagrams.npy\n",
      "Applying Scaler to persistence diagrams.\n",
      "Got the result from ./20/train/filtrations/6/RadialFiltration_26_19/green/diagrams.npy\n",
      "Applying Scaler to persistence diagrams.\n",
      "Got the result from ./20/train/filtrations/6/RadialFiltration_26_19/green/diagrams.npy\n",
      "Applying Scaler to persistence diagrams.\n",
      "Got the result from ./20/train/filtrations/6/RadialFiltration_26_19/blue/diagrams.npy\n",
      "Applying Scaler to persistence diagrams.\n",
      "Got the result from ./20/train/filtrations/6/RadialFiltration_26_19/blue/diagrams.npy\n",
      "Applying Scaler to persistence diagrams.\n",
      "Fitting filtration 72/72: 6/RadialFiltration_26_26\n",
      "RGB images received. Transforming to grayscale.\n"
     ]
    },
    {
     "name": "stderr",
     "output_type": "stream",
     "text": [
      "rgb2gray: 100%|██████████| 50000/50000 [00:03<00:00, 13359.87it/s]\n"
     ]
    },
    {
     "name": "stdout",
     "output_type": "stream",
     "text": [
      "Got the result from ./20/train/filtrations/6/RadialFiltration_26_26/gray/diagrams.npy\n",
      "Applying Scaler to persistence diagrams.\n",
      "Got the result from ./20/train/filtrations/6/RadialFiltration_26_26/gray/diagrams.npy\n",
      "Applying Scaler to persistence diagrams.\n",
      "Got the result from ./20/train/filtrations/6/RadialFiltration_26_26/red/diagrams.npy\n",
      "Applying Scaler to persistence diagrams.\n",
      "Got the result from ./20/train/filtrations/6/RadialFiltration_26_26/red/diagrams.npy\n",
      "Applying Scaler to persistence diagrams.\n",
      "Got the result from ./20/train/filtrations/6/RadialFiltration_26_26/green/diagrams.npy\n",
      "Applying Scaler to persistence diagrams.\n",
      "Got the result from ./20/train/filtrations/6/RadialFiltration_26_26/green/diagrams.npy\n",
      "Applying Scaler to persistence diagrams.\n",
      "Got the result from ./20/train/filtrations/6/RadialFiltration_26_26/blue/diagrams.npy\n",
      "Applying Scaler to persistence diagrams.\n",
      "Got the result from ./20/train/filtrations/6/RadialFiltration_26_26/blue/diagrams.npy\n",
      "Applying Scaler to persistence diagrams.\n",
      "Applying filtrations\n",
      "Applying filtration 1/72: 2/HeightFiltrartion_-1_-1\n",
      "RGB images received. Transforming to grayscale.\n"
     ]
    },
    {
     "name": "stderr",
     "output_type": "stream",
     "text": [
      "rgb2gray: 100%|██████████| 50000/50000 [00:03<00:00, 13065.03it/s]\n"
     ]
    },
    {
     "name": "stdout",
     "output_type": "stream",
     "text": [
      "Got the result from ./20/train/filtrations/2/HeightFiltrartion_-1_-1/gray/diagrams.npy\n",
      "Applying Scaler to persistence diagrams.\n",
      "Got the result from ./20/train/filtrations/2/HeightFiltrartion_-1_-1/red/diagrams.npy\n",
      "Applying Scaler to persistence diagrams.\n",
      "Got the result from ./20/train/filtrations/2/HeightFiltrartion_-1_-1/green/diagrams.npy\n",
      "Applying Scaler to persistence diagrams.\n",
      "Got the result from ./20/train/filtrations/2/HeightFiltrartion_-1_-1/blue/diagrams.npy\n",
      "Applying Scaler to persistence diagrams.\n",
      "Applying filtration 2/72: 2/HeightFiltrartion_1_1\n",
      "RGB images received. Transforming to grayscale.\n"
     ]
    },
    {
     "name": "stderr",
     "output_type": "stream",
     "text": [
      "rgb2gray: 100%|██████████| 50000/50000 [00:04<00:00, 12431.91it/s]\n"
     ]
    },
    {
     "name": "stdout",
     "output_type": "stream",
     "text": [
      "Got the result from ./20/train/filtrations/2/HeightFiltrartion_1_1/gray/diagrams.npy\n",
      "Applying Scaler to persistence diagrams.\n",
      "Got the result from ./20/train/filtrations/2/HeightFiltrartion_1_1/red/diagrams.npy\n",
      "Applying Scaler to persistence diagrams.\n",
      "Got the result from ./20/train/filtrations/2/HeightFiltrartion_1_1/green/diagrams.npy\n",
      "Applying Scaler to persistence diagrams.\n",
      "Got the result from ./20/train/filtrations/2/HeightFiltrartion_1_1/blue/diagrams.npy\n",
      "Applying Scaler to persistence diagrams.\n",
      "Applying filtration 3/72: 2/HeightFiltrartion_1_-1\n",
      "RGB images received. Transforming to grayscale.\n"
     ]
    },
    {
     "name": "stderr",
     "output_type": "stream",
     "text": [
      "rgb2gray: 100%|██████████| 50000/50000 [00:04<00:00, 12359.39it/s]\n"
     ]
    },
    {
     "name": "stdout",
     "output_type": "stream",
     "text": [
      "Got the result from ./20/train/filtrations/2/HeightFiltrartion_1_-1/gray/diagrams.npy\n",
      "Applying Scaler to persistence diagrams.\n",
      "Got the result from ./20/train/filtrations/2/HeightFiltrartion_1_-1/red/diagrams.npy\n",
      "Applying Scaler to persistence diagrams.\n",
      "Got the result from ./20/train/filtrations/2/HeightFiltrartion_1_-1/green/diagrams.npy\n",
      "Applying Scaler to persistence diagrams.\n",
      "Got the result from ./20/train/filtrations/2/HeightFiltrartion_1_-1/blue/diagrams.npy\n",
      "Applying Scaler to persistence diagrams.\n",
      "Applying filtration 4/72: 2/HeightFiltrartion_-1_1\n",
      "RGB images received. Transforming to grayscale.\n"
     ]
    },
    {
     "name": "stderr",
     "output_type": "stream",
     "text": [
      "rgb2gray: 100%|██████████| 50000/50000 [00:04<00:00, 12400.30it/s]\n"
     ]
    },
    {
     "name": "stdout",
     "output_type": "stream",
     "text": [
      "Got the result from ./20/train/filtrations/2/HeightFiltrartion_-1_1/gray/diagrams.npy\n",
      "Applying Scaler to persistence diagrams.\n",
      "Got the result from ./20/train/filtrations/2/HeightFiltrartion_-1_1/red/diagrams.npy\n",
      "Applying Scaler to persistence diagrams.\n",
      "Got the result from ./20/train/filtrations/2/HeightFiltrartion_-1_1/green/diagrams.npy\n",
      "Applying Scaler to persistence diagrams.\n",
      "Got the result from ./20/train/filtrations/2/HeightFiltrartion_-1_1/blue/diagrams.npy\n",
      "Applying Scaler to persistence diagrams.\n",
      "Applying filtration 5/72: 2/HeightFiltrartion_0_-1\n",
      "RGB images received. Transforming to grayscale.\n"
     ]
    },
    {
     "name": "stderr",
     "output_type": "stream",
     "text": [
      "rgb2gray: 100%|██████████| 50000/50000 [00:03<00:00, 12902.08it/s]\n"
     ]
    },
    {
     "name": "stdout",
     "output_type": "stream",
     "text": [
      "Got the result from ./20/train/filtrations/2/HeightFiltrartion_0_-1/gray/diagrams.npy\n",
      "Applying Scaler to persistence diagrams.\n",
      "Got the result from ./20/train/filtrations/2/HeightFiltrartion_0_-1/red/diagrams.npy\n",
      "Applying Scaler to persistence diagrams.\n",
      "Got the result from ./20/train/filtrations/2/HeightFiltrartion_0_-1/green/diagrams.npy\n",
      "Applying Scaler to persistence diagrams.\n",
      "Got the result from ./20/train/filtrations/2/HeightFiltrartion_0_-1/blue/diagrams.npy\n",
      "Applying Scaler to persistence diagrams.\n",
      "Applying filtration 6/72: 2/HeightFiltrartion_0_1\n",
      "RGB images received. Transforming to grayscale.\n"
     ]
    },
    {
     "name": "stderr",
     "output_type": "stream",
     "text": [
      "rgb2gray: 100%|██████████| 50000/50000 [00:03<00:00, 12813.31it/s]\n"
     ]
    },
    {
     "name": "stdout",
     "output_type": "stream",
     "text": [
      "Got the result from ./20/train/filtrations/2/HeightFiltrartion_0_1/gray/diagrams.npy\n",
      "Applying Scaler to persistence diagrams.\n",
      "Got the result from ./20/train/filtrations/2/HeightFiltrartion_0_1/red/diagrams.npy\n",
      "Applying Scaler to persistence diagrams.\n",
      "Got the result from ./20/train/filtrations/2/HeightFiltrartion_0_1/green/diagrams.npy\n",
      "Applying Scaler to persistence diagrams.\n",
      "Got the result from ./20/train/filtrations/2/HeightFiltrartion_0_1/blue/diagrams.npy\n",
      "Applying Scaler to persistence diagrams.\n",
      "Applying filtration 7/72: 2/HeightFiltrartion_-1_0\n",
      "RGB images received. Transforming to grayscale.\n"
     ]
    },
    {
     "name": "stderr",
     "output_type": "stream",
     "text": [
      "rgb2gray: 100%|██████████| 50000/50000 [00:04<00:00, 12129.00it/s]\n"
     ]
    },
    {
     "name": "stdout",
     "output_type": "stream",
     "text": [
      "Got the result from ./20/train/filtrations/2/HeightFiltrartion_-1_0/gray/diagrams.npy\n",
      "Applying Scaler to persistence diagrams.\n",
      "Got the result from ./20/train/filtrations/2/HeightFiltrartion_-1_0/red/diagrams.npy\n",
      "Applying Scaler to persistence diagrams.\n",
      "Got the result from ./20/train/filtrations/2/HeightFiltrartion_-1_0/green/diagrams.npy\n",
      "Applying Scaler to persistence diagrams.\n",
      "Got the result from ./20/train/filtrations/2/HeightFiltrartion_-1_0/blue/diagrams.npy\n",
      "Applying Scaler to persistence diagrams.\n",
      "Applying filtration 8/72: 2/HeightFiltrartion_1_0\n",
      "RGB images received. Transforming to grayscale.\n"
     ]
    },
    {
     "name": "stderr",
     "output_type": "stream",
     "text": [
      "rgb2gray: 100%|██████████| 50000/50000 [00:03<00:00, 12696.16it/s]\n"
     ]
    },
    {
     "name": "stdout",
     "output_type": "stream",
     "text": [
      "Got the result from ./20/train/filtrations/2/HeightFiltrartion_1_0/gray/diagrams.npy\n",
      "Applying Scaler to persistence diagrams.\n",
      "Got the result from ./20/train/filtrations/2/HeightFiltrartion_1_0/red/diagrams.npy\n",
      "Applying Scaler to persistence diagrams.\n",
      "Got the result from ./20/train/filtrations/2/HeightFiltrartion_1_0/green/diagrams.npy\n",
      "Applying Scaler to persistence diagrams.\n",
      "Got the result from ./20/train/filtrations/2/HeightFiltrartion_1_0/blue/diagrams.npy\n",
      "Applying Scaler to persistence diagrams.\n",
      "Applying filtration 9/72: 2/RadialFiltration_5_5\n",
      "RGB images received. Transforming to grayscale.\n"
     ]
    },
    {
     "name": "stderr",
     "output_type": "stream",
     "text": [
      "rgb2gray: 100%|██████████| 50000/50000 [00:04<00:00, 12472.35it/s]\n"
     ]
    },
    {
     "name": "stdout",
     "output_type": "stream",
     "text": [
      "Got the result from ./20/train/filtrations/2/RadialFiltration_5_5/gray/diagrams.npy\n",
      "Applying Scaler to persistence diagrams.\n",
      "Got the result from ./20/train/filtrations/2/RadialFiltration_5_5/red/diagrams.npy\n",
      "Applying Scaler to persistence diagrams.\n",
      "Got the result from ./20/train/filtrations/2/RadialFiltration_5_5/green/diagrams.npy\n",
      "Applying Scaler to persistence diagrams.\n",
      "Got the result from ./20/train/filtrations/2/RadialFiltration_5_5/blue/diagrams.npy\n",
      "Applying Scaler to persistence diagrams.\n",
      "Applying filtration 10/72: 2/RadialFiltration_5_12\n",
      "RGB images received. Transforming to grayscale.\n"
     ]
    },
    {
     "name": "stderr",
     "output_type": "stream",
     "text": [
      "rgb2gray: 100%|██████████| 50000/50000 [00:03<00:00, 12570.08it/s]\n"
     ]
    },
    {
     "name": "stdout",
     "output_type": "stream",
     "text": [
      "Got the result from ./20/train/filtrations/2/RadialFiltration_5_12/gray/diagrams.npy\n",
      "Applying Scaler to persistence diagrams.\n",
      "Got the result from ./20/train/filtrations/2/RadialFiltration_5_12/red/diagrams.npy\n",
      "Applying Scaler to persistence diagrams.\n",
      "Got the result from ./20/train/filtrations/2/RadialFiltration_5_12/green/diagrams.npy\n",
      "Applying Scaler to persistence diagrams.\n",
      "Got the result from ./20/train/filtrations/2/RadialFiltration_5_12/blue/diagrams.npy\n",
      "Applying Scaler to persistence diagrams.\n",
      "Applying filtration 11/72: 2/RadialFiltration_5_19\n",
      "RGB images received. Transforming to grayscale.\n"
     ]
    },
    {
     "name": "stderr",
     "output_type": "stream",
     "text": [
      "rgb2gray: 100%|██████████| 50000/50000 [00:04<00:00, 11815.55it/s]\n"
     ]
    },
    {
     "name": "stdout",
     "output_type": "stream",
     "text": [
      "Got the result from ./20/train/filtrations/2/RadialFiltration_5_19/gray/diagrams.npy\n",
      "Applying Scaler to persistence diagrams.\n",
      "Got the result from ./20/train/filtrations/2/RadialFiltration_5_19/red/diagrams.npy\n",
      "Applying Scaler to persistence diagrams.\n",
      "Got the result from ./20/train/filtrations/2/RadialFiltration_5_19/green/diagrams.npy\n",
      "Applying Scaler to persistence diagrams.\n",
      "Got the result from ./20/train/filtrations/2/RadialFiltration_5_19/blue/diagrams.npy\n",
      "Applying Scaler to persistence diagrams.\n",
      "Applying filtration 12/72: 2/RadialFiltration_5_26\n",
      "RGB images received. Transforming to grayscale.\n"
     ]
    },
    {
     "name": "stderr",
     "output_type": "stream",
     "text": [
      "rgb2gray: 100%|██████████| 50000/50000 [00:04<00:00, 11813.34it/s]\n"
     ]
    },
    {
     "name": "stdout",
     "output_type": "stream",
     "text": [
      "Got the result from ./20/train/filtrations/2/RadialFiltration_5_26/gray/diagrams.npy\n",
      "Applying Scaler to persistence diagrams.\n",
      "Got the result from ./20/train/filtrations/2/RadialFiltration_5_26/red/diagrams.npy\n",
      "Applying Scaler to persistence diagrams.\n",
      "Got the result from ./20/train/filtrations/2/RadialFiltration_5_26/green/diagrams.npy\n",
      "Applying Scaler to persistence diagrams.\n",
      "Got the result from ./20/train/filtrations/2/RadialFiltration_5_26/blue/diagrams.npy\n",
      "Applying Scaler to persistence diagrams.\n",
      "Applying filtration 13/72: 2/RadialFiltration_12_5\n",
      "RGB images received. Transforming to grayscale.\n"
     ]
    },
    {
     "name": "stderr",
     "output_type": "stream",
     "text": [
      "rgb2gray: 100%|██████████| 50000/50000 [00:04<00:00, 11838.89it/s]\n"
     ]
    },
    {
     "name": "stdout",
     "output_type": "stream",
     "text": [
      "Got the result from ./20/train/filtrations/2/RadialFiltration_12_5/gray/diagrams.npy\n",
      "Applying Scaler to persistence diagrams.\n",
      "Got the result from ./20/train/filtrations/2/RadialFiltration_12_5/red/diagrams.npy\n",
      "Applying Scaler to persistence diagrams.\n",
      "Got the result from ./20/train/filtrations/2/RadialFiltration_12_5/green/diagrams.npy\n",
      "Applying Scaler to persistence diagrams.\n",
      "Got the result from ./20/train/filtrations/2/RadialFiltration_12_5/blue/diagrams.npy\n",
      "Applying Scaler to persistence diagrams.\n",
      "Applying filtration 14/72: 2/RadialFiltration_12_12\n",
      "RGB images received. Transforming to grayscale.\n"
     ]
    },
    {
     "name": "stderr",
     "output_type": "stream",
     "text": [
      "rgb2gray: 100%|██████████| 50000/50000 [00:04<00:00, 11598.69it/s]\n"
     ]
    },
    {
     "name": "stdout",
     "output_type": "stream",
     "text": [
      "Got the result from ./20/train/filtrations/2/RadialFiltration_12_12/gray/diagrams.npy\n",
      "Applying Scaler to persistence diagrams.\n",
      "Got the result from ./20/train/filtrations/2/RadialFiltration_12_12/red/diagrams.npy\n",
      "Applying Scaler to persistence diagrams.\n",
      "Got the result from ./20/train/filtrations/2/RadialFiltration_12_12/green/diagrams.npy\n",
      "Applying Scaler to persistence diagrams.\n",
      "Got the result from ./20/train/filtrations/2/RadialFiltration_12_12/blue/diagrams.npy\n",
      "Applying Scaler to persistence diagrams.\n",
      "Applying filtration 15/72: 2/RadialFiltration_12_19\n",
      "RGB images received. Transforming to grayscale.\n"
     ]
    },
    {
     "name": "stderr",
     "output_type": "stream",
     "text": [
      "rgb2gray: 100%|██████████| 50000/50000 [00:04<00:00, 10919.00it/s]\n"
     ]
    },
    {
     "name": "stdout",
     "output_type": "stream",
     "text": [
      "Got the result from ./20/train/filtrations/2/RadialFiltration_12_19/gray/diagrams.npy\n",
      "Applying Scaler to persistence diagrams.\n",
      "Got the result from ./20/train/filtrations/2/RadialFiltration_12_19/red/diagrams.npy\n",
      "Applying Scaler to persistence diagrams.\n",
      "Got the result from ./20/train/filtrations/2/RadialFiltration_12_19/green/diagrams.npy\n",
      "Applying Scaler to persistence diagrams.\n",
      "Got the result from ./20/train/filtrations/2/RadialFiltration_12_19/blue/diagrams.npy\n",
      "Applying Scaler to persistence diagrams.\n",
      "Applying filtration 16/72: 2/RadialFiltration_12_26\n",
      "RGB images received. Transforming to grayscale.\n"
     ]
    },
    {
     "name": "stderr",
     "output_type": "stream",
     "text": [
      "rgb2gray: 100%|██████████| 50000/50000 [00:04<00:00, 11300.84it/s]\n"
     ]
    },
    {
     "name": "stdout",
     "output_type": "stream",
     "text": [
      "Got the result from ./20/train/filtrations/2/RadialFiltration_12_26/gray/diagrams.npy\n",
      "Applying Scaler to persistence diagrams.\n",
      "Got the result from ./20/train/filtrations/2/RadialFiltration_12_26/red/diagrams.npy\n",
      "Applying Scaler to persistence diagrams.\n",
      "Got the result from ./20/train/filtrations/2/RadialFiltration_12_26/green/diagrams.npy\n",
      "Applying Scaler to persistence diagrams.\n",
      "Got the result from ./20/train/filtrations/2/RadialFiltration_12_26/blue/diagrams.npy\n",
      "Applying Scaler to persistence diagrams.\n",
      "Applying filtration 17/72: 2/RadialFiltration_19_5\n",
      "RGB images received. Transforming to grayscale.\n"
     ]
    },
    {
     "name": "stderr",
     "output_type": "stream",
     "text": [
      "rgb2gray: 100%|██████████| 50000/50000 [00:04<00:00, 10678.40it/s]\n"
     ]
    },
    {
     "name": "stdout",
     "output_type": "stream",
     "text": [
      "Got the result from ./20/train/filtrations/2/RadialFiltration_19_5/gray/diagrams.npy\n",
      "Applying Scaler to persistence diagrams.\n",
      "Got the result from ./20/train/filtrations/2/RadialFiltration_19_5/red/diagrams.npy\n",
      "Applying Scaler to persistence diagrams.\n",
      "Got the result from ./20/train/filtrations/2/RadialFiltration_19_5/green/diagrams.npy\n",
      "Applying Scaler to persistence diagrams.\n",
      "Got the result from ./20/train/filtrations/2/RadialFiltration_19_5/blue/diagrams.npy\n",
      "Applying Scaler to persistence diagrams.\n",
      "Applying filtration 18/72: 2/RadialFiltration_19_12\n",
      "RGB images received. Transforming to grayscale.\n"
     ]
    },
    {
     "name": "stderr",
     "output_type": "stream",
     "text": [
      "rgb2gray: 100%|██████████| 50000/50000 [00:04<00:00, 10466.51it/s]\n"
     ]
    },
    {
     "name": "stdout",
     "output_type": "stream",
     "text": [
      "Got the result from ./20/train/filtrations/2/RadialFiltration_19_12/gray/diagrams.npy\n",
      "Applying Scaler to persistence diagrams.\n",
      "Got the result from ./20/train/filtrations/2/RadialFiltration_19_12/red/diagrams.npy\n",
      "Applying Scaler to persistence diagrams.\n",
      "Got the result from ./20/train/filtrations/2/RadialFiltration_19_12/green/diagrams.npy\n",
      "Applying Scaler to persistence diagrams.\n",
      "Got the result from ./20/train/filtrations/2/RadialFiltration_19_12/blue/diagrams.npy\n",
      "Applying Scaler to persistence diagrams.\n",
      "Applying filtration 19/72: 2/RadialFiltration_19_19\n",
      "RGB images received. Transforming to grayscale.\n"
     ]
    },
    {
     "name": "stderr",
     "output_type": "stream",
     "text": [
      "rgb2gray: 100%|██████████| 50000/50000 [00:04<00:00, 10921.23it/s]\n"
     ]
    },
    {
     "name": "stdout",
     "output_type": "stream",
     "text": [
      "Got the result from ./20/train/filtrations/2/RadialFiltration_19_19/gray/diagrams.npy\n",
      "Applying Scaler to persistence diagrams.\n",
      "Got the result from ./20/train/filtrations/2/RadialFiltration_19_19/red/diagrams.npy\n",
      "Applying Scaler to persistence diagrams.\n",
      "Got the result from ./20/train/filtrations/2/RadialFiltration_19_19/green/diagrams.npy\n",
      "Applying Scaler to persistence diagrams.\n",
      "Got the result from ./20/train/filtrations/2/RadialFiltration_19_19/blue/diagrams.npy\n",
      "Applying Scaler to persistence diagrams.\n",
      "Applying filtration 20/72: 2/RadialFiltration_19_26\n",
      "RGB images received. Transforming to grayscale.\n"
     ]
    },
    {
     "name": "stderr",
     "output_type": "stream",
     "text": [
      "rgb2gray: 100%|██████████| 50000/50000 [00:04<00:00, 10066.34it/s]\n"
     ]
    },
    {
     "name": "stdout",
     "output_type": "stream",
     "text": [
      "Got the result from ./20/train/filtrations/2/RadialFiltration_19_26/gray/diagrams.npy\n",
      "Applying Scaler to persistence diagrams.\n",
      "Got the result from ./20/train/filtrations/2/RadialFiltration_19_26/red/diagrams.npy\n",
      "Applying Scaler to persistence diagrams.\n",
      "Got the result from ./20/train/filtrations/2/RadialFiltration_19_26/green/diagrams.npy\n",
      "Applying Scaler to persistence diagrams.\n",
      "Got the result from ./20/train/filtrations/2/RadialFiltration_19_26/blue/diagrams.npy\n",
      "Applying Scaler to persistence diagrams.\n",
      "Applying filtration 21/72: 2/RadialFiltration_26_5\n",
      "RGB images received. Transforming to grayscale.\n"
     ]
    },
    {
     "name": "stderr",
     "output_type": "stream",
     "text": [
      "rgb2gray: 100%|██████████| 50000/50000 [00:04<00:00, 10461.76it/s]\n"
     ]
    },
    {
     "name": "stdout",
     "output_type": "stream",
     "text": [
      "Got the result from ./20/train/filtrations/2/RadialFiltration_26_5/gray/diagrams.npy\n",
      "Applying Scaler to persistence diagrams.\n",
      "Got the result from ./20/train/filtrations/2/RadialFiltration_26_5/red/diagrams.npy\n",
      "Applying Scaler to persistence diagrams.\n",
      "Got the result from ./20/train/filtrations/2/RadialFiltration_26_5/green/diagrams.npy\n",
      "Applying Scaler to persistence diagrams.\n",
      "Got the result from ./20/train/filtrations/2/RadialFiltration_26_5/blue/diagrams.npy\n",
      "Applying Scaler to persistence diagrams.\n",
      "Applying filtration 22/72: 2/RadialFiltration_26_12\n",
      "RGB images received. Transforming to grayscale.\n"
     ]
    },
    {
     "name": "stderr",
     "output_type": "stream",
     "text": [
      "rgb2gray: 100%|██████████| 50000/50000 [00:05<00:00, 9720.93it/s] \n"
     ]
    },
    {
     "name": "stdout",
     "output_type": "stream",
     "text": [
      "Got the result from ./20/train/filtrations/2/RadialFiltration_26_12/gray/diagrams.npy\n",
      "Applying Scaler to persistence diagrams.\n",
      "Got the result from ./20/train/filtrations/2/RadialFiltration_26_12/red/diagrams.npy\n",
      "Applying Scaler to persistence diagrams.\n",
      "Got the result from ./20/train/filtrations/2/RadialFiltration_26_12/green/diagrams.npy\n",
      "Applying Scaler to persistence diagrams.\n",
      "Got the result from ./20/train/filtrations/2/RadialFiltration_26_12/blue/diagrams.npy\n",
      "Applying Scaler to persistence diagrams.\n",
      "Applying filtration 23/72: 2/RadialFiltration_26_19\n",
      "RGB images received. Transforming to grayscale.\n"
     ]
    },
    {
     "name": "stderr",
     "output_type": "stream",
     "text": [
      "rgb2gray: 100%|██████████| 50000/50000 [00:04<00:00, 10131.56it/s]\n"
     ]
    },
    {
     "name": "stdout",
     "output_type": "stream",
     "text": [
      "Got the result from ./20/train/filtrations/2/RadialFiltration_26_19/gray/diagrams.npy\n",
      "Applying Scaler to persistence diagrams.\n",
      "Got the result from ./20/train/filtrations/2/RadialFiltration_26_19/red/diagrams.npy\n",
      "Applying Scaler to persistence diagrams.\n",
      "Got the result from ./20/train/filtrations/2/RadialFiltration_26_19/green/diagrams.npy\n",
      "Applying Scaler to persistence diagrams.\n",
      "Got the result from ./20/train/filtrations/2/RadialFiltration_26_19/blue/diagrams.npy\n",
      "Applying Scaler to persistence diagrams.\n",
      "Applying filtration 24/72: 2/RadialFiltration_26_26\n",
      "RGB images received. Transforming to grayscale.\n"
     ]
    },
    {
     "name": "stderr",
     "output_type": "stream",
     "text": [
      "rgb2gray: 100%|██████████| 50000/50000 [00:05<00:00, 9505.25it/s] \n"
     ]
    },
    {
     "name": "stdout",
     "output_type": "stream",
     "text": [
      "Got the result from ./20/train/filtrations/2/RadialFiltration_26_26/gray/diagrams.npy\n",
      "Applying Scaler to persistence diagrams.\n",
      "Got the result from ./20/train/filtrations/2/RadialFiltration_26_26/red/diagrams.npy\n",
      "Applying Scaler to persistence diagrams.\n",
      "Got the result from ./20/train/filtrations/2/RadialFiltration_26_26/green/diagrams.npy\n",
      "Applying Scaler to persistence diagrams.\n",
      "Got the result from ./20/train/filtrations/2/RadialFiltration_26_26/blue/diagrams.npy\n",
      "Applying Scaler to persistence diagrams.\n",
      "Applying filtration 25/72: 4/HeightFiltrartion_-1_-1\n",
      "RGB images received. Transforming to grayscale.\n"
     ]
    },
    {
     "name": "stderr",
     "output_type": "stream",
     "text": [
      "rgb2gray: 100%|██████████| 50000/50000 [00:05<00:00, 9813.90it/s] \n"
     ]
    },
    {
     "name": "stdout",
     "output_type": "stream",
     "text": [
      "Got the result from ./20/train/filtrations/4/HeightFiltrartion_-1_-1/gray/diagrams.npy\n",
      "Applying Scaler to persistence diagrams.\n",
      "Got the result from ./20/train/filtrations/4/HeightFiltrartion_-1_-1/red/diagrams.npy\n",
      "Applying Scaler to persistence diagrams.\n",
      "Got the result from ./20/train/filtrations/4/HeightFiltrartion_-1_-1/green/diagrams.npy\n",
      "Applying Scaler to persistence diagrams.\n",
      "Got the result from ./20/train/filtrations/4/HeightFiltrartion_-1_-1/blue/diagrams.npy\n",
      "Applying Scaler to persistence diagrams.\n",
      "Applying filtration 26/72: 4/HeightFiltrartion_1_1\n",
      "RGB images received. Transforming to grayscale.\n"
     ]
    },
    {
     "name": "stderr",
     "output_type": "stream",
     "text": [
      "rgb2gray: 100%|██████████| 50000/50000 [00:05<00:00, 9723.47it/s] \n"
     ]
    },
    {
     "name": "stdout",
     "output_type": "stream",
     "text": [
      "Got the result from ./20/train/filtrations/4/HeightFiltrartion_1_1/gray/diagrams.npy\n",
      "Applying Scaler to persistence diagrams.\n",
      "Got the result from ./20/train/filtrations/4/HeightFiltrartion_1_1/red/diagrams.npy\n",
      "Applying Scaler to persistence diagrams.\n",
      "Got the result from ./20/train/filtrations/4/HeightFiltrartion_1_1/green/diagrams.npy\n",
      "Applying Scaler to persistence diagrams.\n",
      "Got the result from ./20/train/filtrations/4/HeightFiltrartion_1_1/blue/diagrams.npy\n",
      "Applying Scaler to persistence diagrams.\n",
      "Applying filtration 27/72: 4/HeightFiltrartion_1_-1\n",
      "RGB images received. Transforming to grayscale.\n"
     ]
    },
    {
     "name": "stderr",
     "output_type": "stream",
     "text": [
      "rgb2gray: 100%|██████████| 50000/50000 [00:05<00:00, 9597.54it/s] \n"
     ]
    },
    {
     "name": "stdout",
     "output_type": "stream",
     "text": [
      "Got the result from ./20/train/filtrations/4/HeightFiltrartion_1_-1/gray/diagrams.npy\n",
      "Applying Scaler to persistence diagrams.\n",
      "Got the result from ./20/train/filtrations/4/HeightFiltrartion_1_-1/red/diagrams.npy\n",
      "Applying Scaler to persistence diagrams.\n",
      "Got the result from ./20/train/filtrations/4/HeightFiltrartion_1_-1/green/diagrams.npy\n",
      "Applying Scaler to persistence diagrams.\n",
      "Got the result from ./20/train/filtrations/4/HeightFiltrartion_1_-1/blue/diagrams.npy\n",
      "Applying Scaler to persistence diagrams.\n",
      "Applying filtration 28/72: 4/HeightFiltrartion_-1_1\n",
      "RGB images received. Transforming to grayscale.\n"
     ]
    },
    {
     "name": "stderr",
     "output_type": "stream",
     "text": [
      "rgb2gray: 100%|██████████| 50000/50000 [00:05<00:00, 9608.78it/s] \n"
     ]
    },
    {
     "name": "stdout",
     "output_type": "stream",
     "text": [
      "Got the result from ./20/train/filtrations/4/HeightFiltrartion_-1_1/gray/diagrams.npy\n",
      "Applying Scaler to persistence diagrams.\n",
      "Got the result from ./20/train/filtrations/4/HeightFiltrartion_-1_1/red/diagrams.npy\n",
      "Applying Scaler to persistence diagrams.\n",
      "Got the result from ./20/train/filtrations/4/HeightFiltrartion_-1_1/green/diagrams.npy\n",
      "Applying Scaler to persistence diagrams.\n",
      "Got the result from ./20/train/filtrations/4/HeightFiltrartion_-1_1/blue/diagrams.npy\n",
      "Applying Scaler to persistence diagrams.\n",
      "Applying filtration 29/72: 4/HeightFiltrartion_0_-1\n",
      "RGB images received. Transforming to grayscale.\n"
     ]
    },
    {
     "name": "stderr",
     "output_type": "stream",
     "text": [
      "rgb2gray: 100%|██████████| 50000/50000 [00:05<00:00, 8752.56it/s] \n"
     ]
    },
    {
     "name": "stdout",
     "output_type": "stream",
     "text": [
      "Got the result from ./20/train/filtrations/4/HeightFiltrartion_0_-1/gray/diagrams.npy\n",
      "Applying Scaler to persistence diagrams.\n",
      "Got the result from ./20/train/filtrations/4/HeightFiltrartion_0_-1/red/diagrams.npy\n",
      "Applying Scaler to persistence diagrams.\n",
      "Got the result from ./20/train/filtrations/4/HeightFiltrartion_0_-1/green/diagrams.npy\n",
      "Applying Scaler to persistence diagrams.\n",
      "Got the result from ./20/train/filtrations/4/HeightFiltrartion_0_-1/blue/diagrams.npy\n",
      "Applying Scaler to persistence diagrams.\n",
      "Applying filtration 30/72: 4/HeightFiltrartion_0_1\n",
      "RGB images received. Transforming to grayscale.\n"
     ]
    },
    {
     "name": "stderr",
     "output_type": "stream",
     "text": [
      "rgb2gray: 100%|██████████| 50000/50000 [00:05<00:00, 8945.96it/s] \n"
     ]
    },
    {
     "name": "stdout",
     "output_type": "stream",
     "text": [
      "Got the result from ./20/train/filtrations/4/HeightFiltrartion_0_1/gray/diagrams.npy\n",
      "Applying Scaler to persistence diagrams.\n",
      "Got the result from ./20/train/filtrations/4/HeightFiltrartion_0_1/red/diagrams.npy\n",
      "Applying Scaler to persistence diagrams.\n",
      "Got the result from ./20/train/filtrations/4/HeightFiltrartion_0_1/green/diagrams.npy\n",
      "Applying Scaler to persistence diagrams.\n",
      "Got the result from ./20/train/filtrations/4/HeightFiltrartion_0_1/blue/diagrams.npy\n",
      "Applying Scaler to persistence diagrams.\n",
      "Applying filtration 31/72: 4/HeightFiltrartion_-1_0\n",
      "RGB images received. Transforming to grayscale.\n"
     ]
    },
    {
     "name": "stderr",
     "output_type": "stream",
     "text": [
      "rgb2gray: 100%|██████████| 50000/50000 [00:05<00:00, 9070.50it/s]\n"
     ]
    },
    {
     "name": "stdout",
     "output_type": "stream",
     "text": [
      "Got the result from ./20/train/filtrations/4/HeightFiltrartion_-1_0/gray/diagrams.npy\n",
      "Applying Scaler to persistence diagrams.\n",
      "Got the result from ./20/train/filtrations/4/HeightFiltrartion_-1_0/red/diagrams.npy\n",
      "Applying Scaler to persistence diagrams.\n",
      "Got the result from ./20/train/filtrations/4/HeightFiltrartion_-1_0/green/diagrams.npy\n",
      "Applying Scaler to persistence diagrams.\n",
      "Got the result from ./20/train/filtrations/4/HeightFiltrartion_-1_0/blue/diagrams.npy\n",
      "Applying Scaler to persistence diagrams.\n",
      "Applying filtration 32/72: 4/HeightFiltrartion_1_0\n",
      "RGB images received. Transforming to grayscale.\n"
     ]
    },
    {
     "name": "stderr",
     "output_type": "stream",
     "text": [
      "rgb2gray: 100%|██████████| 50000/50000 [00:05<00:00, 8985.10it/s]\n"
     ]
    },
    {
     "name": "stdout",
     "output_type": "stream",
     "text": [
      "Got the result from ./20/train/filtrations/4/HeightFiltrartion_1_0/gray/diagrams.npy\n",
      "Applying Scaler to persistence diagrams.\n",
      "Got the result from ./20/train/filtrations/4/HeightFiltrartion_1_0/red/diagrams.npy\n",
      "Applying Scaler to persistence diagrams.\n",
      "Got the result from ./20/train/filtrations/4/HeightFiltrartion_1_0/green/diagrams.npy\n",
      "Applying Scaler to persistence diagrams.\n",
      "Got the result from ./20/train/filtrations/4/HeightFiltrartion_1_0/blue/diagrams.npy\n",
      "Applying Scaler to persistence diagrams.\n",
      "Applying filtration 33/72: 4/RadialFiltration_5_5\n",
      "RGB images received. Transforming to grayscale.\n"
     ]
    },
    {
     "name": "stderr",
     "output_type": "stream",
     "text": [
      "rgb2gray: 100%|██████████| 50000/50000 [00:05<00:00, 8731.31it/s]\n"
     ]
    },
    {
     "name": "stdout",
     "output_type": "stream",
     "text": [
      "Got the result from ./20/train/filtrations/4/RadialFiltration_5_5/gray/diagrams.npy\n",
      "Applying Scaler to persistence diagrams.\n",
      "Got the result from ./20/train/filtrations/4/RadialFiltration_5_5/red/diagrams.npy\n",
      "Applying Scaler to persistence diagrams.\n",
      "Got the result from ./20/train/filtrations/4/RadialFiltration_5_5/green/diagrams.npy\n",
      "Applying Scaler to persistence diagrams.\n",
      "Got the result from ./20/train/filtrations/4/RadialFiltration_5_5/blue/diagrams.npy\n",
      "Applying Scaler to persistence diagrams.\n",
      "Applying filtration 34/72: 4/RadialFiltration_5_12\n",
      "RGB images received. Transforming to grayscale.\n"
     ]
    },
    {
     "name": "stderr",
     "output_type": "stream",
     "text": [
      "rgb2gray: 100%|██████████| 50000/50000 [00:06<00:00, 8329.99it/s]\n"
     ]
    },
    {
     "name": "stdout",
     "output_type": "stream",
     "text": [
      "Got the result from ./20/train/filtrations/4/RadialFiltration_5_12/gray/diagrams.npy\n",
      "Applying Scaler to persistence diagrams.\n",
      "Got the result from ./20/train/filtrations/4/RadialFiltration_5_12/red/diagrams.npy\n",
      "Applying Scaler to persistence diagrams.\n",
      "Got the result from ./20/train/filtrations/4/RadialFiltration_5_12/green/diagrams.npy\n",
      "Applying Scaler to persistence diagrams.\n",
      "Got the result from ./20/train/filtrations/4/RadialFiltration_5_12/blue/diagrams.npy\n",
      "Applying Scaler to persistence diagrams.\n",
      "Applying filtration 35/72: 4/RadialFiltration_5_19\n",
      "RGB images received. Transforming to grayscale.\n"
     ]
    },
    {
     "name": "stderr",
     "output_type": "stream",
     "text": [
      "rgb2gray: 100%|██████████| 50000/50000 [00:05<00:00, 8667.83it/s]\n"
     ]
    },
    {
     "name": "stdout",
     "output_type": "stream",
     "text": [
      "Got the result from ./20/train/filtrations/4/RadialFiltration_5_19/gray/diagrams.npy\n",
      "Applying Scaler to persistence diagrams.\n",
      "Got the result from ./20/train/filtrations/4/RadialFiltration_5_19/red/diagrams.npy\n",
      "Applying Scaler to persistence diagrams.\n",
      "Got the result from ./20/train/filtrations/4/RadialFiltration_5_19/green/diagrams.npy\n",
      "Applying Scaler to persistence diagrams.\n",
      "Got the result from ./20/train/filtrations/4/RadialFiltration_5_19/blue/diagrams.npy\n",
      "Applying Scaler to persistence diagrams.\n",
      "Applying filtration 36/72: 4/RadialFiltration_5_26\n",
      "RGB images received. Transforming to grayscale.\n"
     ]
    },
    {
     "name": "stderr",
     "output_type": "stream",
     "text": [
      "rgb2gray: 100%|██████████| 50000/50000 [00:05<00:00, 8418.08it/s]\n"
     ]
    },
    {
     "name": "stdout",
     "output_type": "stream",
     "text": [
      "Got the result from ./20/train/filtrations/4/RadialFiltration_5_26/gray/diagrams.npy\n",
      "Applying Scaler to persistence diagrams.\n",
      "Got the result from ./20/train/filtrations/4/RadialFiltration_5_26/red/diagrams.npy\n",
      "Applying Scaler to persistence diagrams.\n",
      "Got the result from ./20/train/filtrations/4/RadialFiltration_5_26/green/diagrams.npy\n",
      "Applying Scaler to persistence diagrams.\n",
      "Got the result from ./20/train/filtrations/4/RadialFiltration_5_26/blue/diagrams.npy\n",
      "Applying Scaler to persistence diagrams.\n",
      "Applying filtration 37/72: 4/RadialFiltration_12_5\n",
      "RGB images received. Transforming to grayscale.\n"
     ]
    },
    {
     "name": "stderr",
     "output_type": "stream",
     "text": [
      "rgb2gray: 100%|██████████| 50000/50000 [00:06<00:00, 8182.30it/s]\n"
     ]
    },
    {
     "name": "stdout",
     "output_type": "stream",
     "text": [
      "Got the result from ./20/train/filtrations/4/RadialFiltration_12_5/gray/diagrams.npy\n",
      "Applying Scaler to persistence diagrams.\n",
      "Got the result from ./20/train/filtrations/4/RadialFiltration_12_5/red/diagrams.npy\n",
      "Applying Scaler to persistence diagrams.\n",
      "Got the result from ./20/train/filtrations/4/RadialFiltration_12_5/green/diagrams.npy\n",
      "Applying Scaler to persistence diagrams.\n",
      "Got the result from ./20/train/filtrations/4/RadialFiltration_12_5/blue/diagrams.npy\n",
      "Applying Scaler to persistence diagrams.\n",
      "Applying filtration 38/72: 4/RadialFiltration_12_12\n",
      "RGB images received. Transforming to grayscale.\n"
     ]
    },
    {
     "name": "stderr",
     "output_type": "stream",
     "text": [
      "rgb2gray: 100%|██████████| 50000/50000 [00:06<00:00, 8224.45it/s]\n"
     ]
    },
    {
     "name": "stdout",
     "output_type": "stream",
     "text": [
      "Got the result from ./20/train/filtrations/4/RadialFiltration_12_12/gray/diagrams.npy\n",
      "Applying Scaler to persistence diagrams.\n",
      "Got the result from ./20/train/filtrations/4/RadialFiltration_12_12/red/diagrams.npy\n",
      "Applying Scaler to persistence diagrams.\n",
      "Got the result from ./20/train/filtrations/4/RadialFiltration_12_12/green/diagrams.npy\n",
      "Applying Scaler to persistence diagrams.\n",
      "Got the result from ./20/train/filtrations/4/RadialFiltration_12_12/blue/diagrams.npy\n",
      "Applying Scaler to persistence diagrams.\n",
      "Applying filtration 39/72: 4/RadialFiltration_12_19\n",
      "RGB images received. Transforming to grayscale.\n"
     ]
    },
    {
     "name": "stderr",
     "output_type": "stream",
     "text": [
      "rgb2gray: 100%|██████████| 50000/50000 [00:06<00:00, 8202.30it/s]\n"
     ]
    },
    {
     "name": "stdout",
     "output_type": "stream",
     "text": [
      "Got the result from ./20/train/filtrations/4/RadialFiltration_12_19/gray/diagrams.npy\n",
      "Applying Scaler to persistence diagrams.\n",
      "Got the result from ./20/train/filtrations/4/RadialFiltration_12_19/red/diagrams.npy\n",
      "Applying Scaler to persistence diagrams.\n",
      "Got the result from ./20/train/filtrations/4/RadialFiltration_12_19/green/diagrams.npy\n",
      "Applying Scaler to persistence diagrams.\n",
      "Got the result from ./20/train/filtrations/4/RadialFiltration_12_19/blue/diagrams.npy\n",
      "Applying Scaler to persistence diagrams.\n",
      "Applying filtration 40/72: 4/RadialFiltration_12_26\n",
      "RGB images received. Transforming to grayscale.\n"
     ]
    },
    {
     "name": "stderr",
     "output_type": "stream",
     "text": [
      "rgb2gray: 100%|██████████| 50000/50000 [00:06<00:00, 7913.69it/s]\n"
     ]
    },
    {
     "name": "stdout",
     "output_type": "stream",
     "text": [
      "Got the result from ./20/train/filtrations/4/RadialFiltration_12_26/gray/diagrams.npy\n",
      "Applying Scaler to persistence diagrams.\n",
      "Got the result from ./20/train/filtrations/4/RadialFiltration_12_26/red/diagrams.npy\n",
      "Applying Scaler to persistence diagrams.\n",
      "Got the result from ./20/train/filtrations/4/RadialFiltration_12_26/green/diagrams.npy\n",
      "Applying Scaler to persistence diagrams.\n",
      "Got the result from ./20/train/filtrations/4/RadialFiltration_12_26/blue/diagrams.npy\n",
      "Applying Scaler to persistence diagrams.\n",
      "Applying filtration 41/72: 4/RadialFiltration_19_5\n",
      "RGB images received. Transforming to grayscale.\n"
     ]
    },
    {
     "name": "stderr",
     "output_type": "stream",
     "text": [
      "rgb2gray: 100%|██████████| 50000/50000 [00:06<00:00, 7858.70it/s]\n"
     ]
    },
    {
     "name": "stdout",
     "output_type": "stream",
     "text": [
      "Got the result from ./20/train/filtrations/4/RadialFiltration_19_5/gray/diagrams.npy\n",
      "Applying Scaler to persistence diagrams.\n",
      "Got the result from ./20/train/filtrations/4/RadialFiltration_19_5/red/diagrams.npy\n",
      "Applying Scaler to persistence diagrams.\n",
      "Got the result from ./20/train/filtrations/4/RadialFiltration_19_5/green/diagrams.npy\n",
      "Applying Scaler to persistence diagrams.\n",
      "Got the result from ./20/train/filtrations/4/RadialFiltration_19_5/blue/diagrams.npy\n",
      "Applying Scaler to persistence diagrams.\n",
      "Applying filtration 42/72: 4/RadialFiltration_19_12\n",
      "RGB images received. Transforming to grayscale.\n"
     ]
    },
    {
     "name": "stderr",
     "output_type": "stream",
     "text": [
      "rgb2gray: 100%|██████████| 50000/50000 [00:06<00:00, 7731.73it/s]\n"
     ]
    },
    {
     "name": "stdout",
     "output_type": "stream",
     "text": [
      "Got the result from ./20/train/filtrations/4/RadialFiltration_19_12/gray/diagrams.npy\n",
      "Applying Scaler to persistence diagrams.\n",
      "Got the result from ./20/train/filtrations/4/RadialFiltration_19_12/red/diagrams.npy\n",
      "Applying Scaler to persistence diagrams.\n",
      "Got the result from ./20/train/filtrations/4/RadialFiltration_19_12/green/diagrams.npy\n",
      "Applying Scaler to persistence diagrams.\n",
      "Got the result from ./20/train/filtrations/4/RadialFiltration_19_12/blue/diagrams.npy\n",
      "Applying Scaler to persistence diagrams.\n",
      "Applying filtration 43/72: 4/RadialFiltration_19_19\n",
      "RGB images received. Transforming to grayscale.\n"
     ]
    },
    {
     "name": "stderr",
     "output_type": "stream",
     "text": [
      "rgb2gray: 100%|██████████| 50000/50000 [00:06<00:00, 7309.72it/s]\n"
     ]
    },
    {
     "name": "stdout",
     "output_type": "stream",
     "text": [
      "Got the result from ./20/train/filtrations/4/RadialFiltration_19_19/gray/diagrams.npy\n",
      "Applying Scaler to persistence diagrams.\n",
      "Got the result from ./20/train/filtrations/4/RadialFiltration_19_19/red/diagrams.npy\n",
      "Applying Scaler to persistence diagrams.\n",
      "Got the result from ./20/train/filtrations/4/RadialFiltration_19_19/green/diagrams.npy\n",
      "Applying Scaler to persistence diagrams.\n",
      "Got the result from ./20/train/filtrations/4/RadialFiltration_19_19/blue/diagrams.npy\n",
      "Applying Scaler to persistence diagrams.\n",
      "Applying filtration 44/72: 4/RadialFiltration_19_26\n",
      "RGB images received. Transforming to grayscale.\n"
     ]
    },
    {
     "name": "stderr",
     "output_type": "stream",
     "text": [
      "rgb2gray: 100%|██████████| 50000/50000 [00:06<00:00, 7563.24it/s]\n"
     ]
    },
    {
     "name": "stdout",
     "output_type": "stream",
     "text": [
      "Got the result from ./20/train/filtrations/4/RadialFiltration_19_26/gray/diagrams.npy\n",
      "Applying Scaler to persistence diagrams.\n",
      "Got the result from ./20/train/filtrations/4/RadialFiltration_19_26/red/diagrams.npy\n",
      "Applying Scaler to persistence diagrams.\n",
      "Got the result from ./20/train/filtrations/4/RadialFiltration_19_26/green/diagrams.npy\n",
      "Applying Scaler to persistence diagrams.\n",
      "Got the result from ./20/train/filtrations/4/RadialFiltration_19_26/blue/diagrams.npy\n",
      "Applying Scaler to persistence diagrams.\n",
      "Applying filtration 45/72: 4/RadialFiltration_26_5\n",
      "RGB images received. Transforming to grayscale.\n"
     ]
    },
    {
     "name": "stderr",
     "output_type": "stream",
     "text": [
      "rgb2gray: 100%|██████████| 50000/50000 [00:06<00:00, 7317.34it/s]\n"
     ]
    },
    {
     "name": "stdout",
     "output_type": "stream",
     "text": [
      "Got the result from ./20/train/filtrations/4/RadialFiltration_26_5/gray/diagrams.npy\n",
      "Applying Scaler to persistence diagrams.\n",
      "Got the result from ./20/train/filtrations/4/RadialFiltration_26_5/red/diagrams.npy\n",
      "Applying Scaler to persistence diagrams.\n",
      "Got the result from ./20/train/filtrations/4/RadialFiltration_26_5/green/diagrams.npy\n",
      "Applying Scaler to persistence diagrams.\n",
      "Got the result from ./20/train/filtrations/4/RadialFiltration_26_5/blue/diagrams.npy\n",
      "Applying Scaler to persistence diagrams.\n",
      "Applying filtration 46/72: 4/RadialFiltration_26_12\n",
      "RGB images received. Transforming to grayscale.\n"
     ]
    },
    {
     "name": "stderr",
     "output_type": "stream",
     "text": [
      "rgb2gray: 100%|██████████| 50000/50000 [00:06<00:00, 7570.03it/s]\n"
     ]
    },
    {
     "name": "stdout",
     "output_type": "stream",
     "text": [
      "Got the result from ./20/train/filtrations/4/RadialFiltration_26_12/gray/diagrams.npy\n",
      "Applying Scaler to persistence diagrams.\n",
      "Got the result from ./20/train/filtrations/4/RadialFiltration_26_12/red/diagrams.npy\n",
      "Applying Scaler to persistence diagrams.\n",
      "Got the result from ./20/train/filtrations/4/RadialFiltration_26_12/green/diagrams.npy\n",
      "Applying Scaler to persistence diagrams.\n",
      "Got the result from ./20/train/filtrations/4/RadialFiltration_26_12/blue/diagrams.npy\n",
      "Applying Scaler to persistence diagrams.\n",
      "Applying filtration 47/72: 4/RadialFiltration_26_19\n",
      "RGB images received. Transforming to grayscale.\n"
     ]
    },
    {
     "name": "stderr",
     "output_type": "stream",
     "text": [
      "rgb2gray: 100%|██████████| 50000/50000 [00:07<00:00, 7138.94it/s]\n"
     ]
    },
    {
     "name": "stdout",
     "output_type": "stream",
     "text": [
      "Got the result from ./20/train/filtrations/4/RadialFiltration_26_19/gray/diagrams.npy\n",
      "Applying Scaler to persistence diagrams.\n",
      "Got the result from ./20/train/filtrations/4/RadialFiltration_26_19/red/diagrams.npy\n",
      "Applying Scaler to persistence diagrams.\n",
      "Got the result from ./20/train/filtrations/4/RadialFiltration_26_19/green/diagrams.npy\n",
      "Applying Scaler to persistence diagrams.\n",
      "Got the result from ./20/train/filtrations/4/RadialFiltration_26_19/blue/diagrams.npy\n",
      "Applying Scaler to persistence diagrams.\n",
      "Applying filtration 48/72: 4/RadialFiltration_26_26\n",
      "RGB images received. Transforming to grayscale.\n"
     ]
    },
    {
     "name": "stderr",
     "output_type": "stream",
     "text": [
      "rgb2gray: 100%|██████████| 50000/50000 [00:07<00:00, 7073.89it/s]\n"
     ]
    },
    {
     "name": "stdout",
     "output_type": "stream",
     "text": [
      "Got the result from ./20/train/filtrations/4/RadialFiltration_26_26/gray/diagrams.npy\n",
      "Applying Scaler to persistence diagrams.\n",
      "Got the result from ./20/train/filtrations/4/RadialFiltration_26_26/red/diagrams.npy\n",
      "Applying Scaler to persistence diagrams.\n",
      "Got the result from ./20/train/filtrations/4/RadialFiltration_26_26/green/diagrams.npy\n",
      "Applying Scaler to persistence diagrams.\n",
      "Got the result from ./20/train/filtrations/4/RadialFiltration_26_26/blue/diagrams.npy\n",
      "Applying Scaler to persistence diagrams.\n",
      "Applying filtration 49/72: 6/HeightFiltrartion_-1_-1\n",
      "RGB images received. Transforming to grayscale.\n"
     ]
    },
    {
     "name": "stderr",
     "output_type": "stream",
     "text": [
      "rgb2gray: 100%|██████████| 50000/50000 [00:06<00:00, 7379.44it/s]\n"
     ]
    },
    {
     "name": "stdout",
     "output_type": "stream",
     "text": [
      "Got the result from ./20/train/filtrations/6/HeightFiltrartion_-1_-1/gray/diagrams.npy\n",
      "Applying Scaler to persistence diagrams.\n",
      "Got the result from ./20/train/filtrations/6/HeightFiltrartion_-1_-1/red/diagrams.npy\n",
      "Applying Scaler to persistence diagrams.\n",
      "Got the result from ./20/train/filtrations/6/HeightFiltrartion_-1_-1/green/diagrams.npy\n",
      "Applying Scaler to persistence diagrams.\n",
      "Got the result from ./20/train/filtrations/6/HeightFiltrartion_-1_-1/blue/diagrams.npy\n",
      "Applying Scaler to persistence diagrams.\n",
      "Applying filtration 50/72: 6/HeightFiltrartion_1_1\n",
      "RGB images received. Transforming to grayscale.\n"
     ]
    },
    {
     "name": "stderr",
     "output_type": "stream",
     "text": [
      "rgb2gray: 100%|██████████| 50000/50000 [00:06<00:00, 7273.90it/s]\n"
     ]
    },
    {
     "name": "stdout",
     "output_type": "stream",
     "text": [
      "Got the result from ./20/train/filtrations/6/HeightFiltrartion_1_1/gray/diagrams.npy\n",
      "Applying Scaler to persistence diagrams.\n",
      "Got the result from ./20/train/filtrations/6/HeightFiltrartion_1_1/red/diagrams.npy\n",
      "Applying Scaler to persistence diagrams.\n",
      "Got the result from ./20/train/filtrations/6/HeightFiltrartion_1_1/green/diagrams.npy\n",
      "Applying Scaler to persistence diagrams.\n",
      "Got the result from ./20/train/filtrations/6/HeightFiltrartion_1_1/blue/diagrams.npy\n",
      "Applying Scaler to persistence diagrams.\n",
      "Applying filtration 51/72: 6/HeightFiltrartion_1_-1\n",
      "RGB images received. Transforming to grayscale.\n"
     ]
    },
    {
     "name": "stderr",
     "output_type": "stream",
     "text": [
      "rgb2gray: 100%|██████████| 50000/50000 [00:07<00:00, 7129.94it/s]\n"
     ]
    },
    {
     "name": "stdout",
     "output_type": "stream",
     "text": [
      "Got the result from ./20/train/filtrations/6/HeightFiltrartion_1_-1/gray/diagrams.npy\n",
      "Applying Scaler to persistence diagrams.\n",
      "Got the result from ./20/train/filtrations/6/HeightFiltrartion_1_-1/red/diagrams.npy\n",
      "Applying Scaler to persistence diagrams.\n",
      "Got the result from ./20/train/filtrations/6/HeightFiltrartion_1_-1/green/diagrams.npy\n",
      "Applying Scaler to persistence diagrams.\n",
      "Got the result from ./20/train/filtrations/6/HeightFiltrartion_1_-1/blue/diagrams.npy\n",
      "Applying Scaler to persistence diagrams.\n",
      "Applying filtration 52/72: 6/HeightFiltrartion_-1_1\n",
      "RGB images received. Transforming to grayscale.\n"
     ]
    },
    {
     "name": "stderr",
     "output_type": "stream",
     "text": [
      "rgb2gray: 100%|██████████| 50000/50000 [00:07<00:00, 6613.75it/s]\n"
     ]
    },
    {
     "name": "stdout",
     "output_type": "stream",
     "text": [
      "Got the result from ./20/train/filtrations/6/HeightFiltrartion_-1_1/gray/diagrams.npy\n",
      "Applying Scaler to persistence diagrams.\n",
      "Got the result from ./20/train/filtrations/6/HeightFiltrartion_-1_1/red/diagrams.npy\n",
      "Applying Scaler to persistence diagrams.\n",
      "Got the result from ./20/train/filtrations/6/HeightFiltrartion_-1_1/green/diagrams.npy\n",
      "Applying Scaler to persistence diagrams.\n",
      "Got the result from ./20/train/filtrations/6/HeightFiltrartion_-1_1/blue/diagrams.npy\n",
      "Applying Scaler to persistence diagrams.\n",
      "Applying filtration 53/72: 6/HeightFiltrartion_0_-1\n",
      "RGB images received. Transforming to grayscale.\n"
     ]
    },
    {
     "name": "stderr",
     "output_type": "stream",
     "text": [
      "rgb2gray: 100%|██████████| 50000/50000 [00:06<00:00, 7281.63it/s]\n"
     ]
    },
    {
     "name": "stdout",
     "output_type": "stream",
     "text": [
      "Got the result from ./20/train/filtrations/6/HeightFiltrartion_0_-1/gray/diagrams.npy\n",
      "Applying Scaler to persistence diagrams.\n",
      "Got the result from ./20/train/filtrations/6/HeightFiltrartion_0_-1/red/diagrams.npy\n",
      "Applying Scaler to persistence diagrams.\n",
      "Got the result from ./20/train/filtrations/6/HeightFiltrartion_0_-1/green/diagrams.npy\n",
      "Applying Scaler to persistence diagrams.\n",
      "Got the result from ./20/train/filtrations/6/HeightFiltrartion_0_-1/blue/diagrams.npy\n",
      "Applying Scaler to persistence diagrams.\n",
      "Applying filtration 54/72: 6/HeightFiltrartion_0_1\n",
      "RGB images received. Transforming to grayscale.\n"
     ]
    },
    {
     "name": "stderr",
     "output_type": "stream",
     "text": [
      "rgb2gray: 100%|██████████| 50000/50000 [00:07<00:00, 6416.26it/s]\n"
     ]
    },
    {
     "name": "stdout",
     "output_type": "stream",
     "text": [
      "Got the result from ./20/train/filtrations/6/HeightFiltrartion_0_1/gray/diagrams.npy\n",
      "Applying Scaler to persistence diagrams.\n",
      "Got the result from ./20/train/filtrations/6/HeightFiltrartion_0_1/red/diagrams.npy\n",
      "Applying Scaler to persistence diagrams.\n",
      "Got the result from ./20/train/filtrations/6/HeightFiltrartion_0_1/green/diagrams.npy\n",
      "Applying Scaler to persistence diagrams.\n",
      "Got the result from ./20/train/filtrations/6/HeightFiltrartion_0_1/blue/diagrams.npy\n",
      "Applying Scaler to persistence diagrams.\n",
      "Applying filtration 55/72: 6/HeightFiltrartion_-1_0\n",
      "RGB images received. Transforming to grayscale.\n"
     ]
    },
    {
     "name": "stderr",
     "output_type": "stream",
     "text": [
      "rgb2gray: 100%|██████████| 50000/50000 [00:07<00:00, 6412.25it/s]\n"
     ]
    },
    {
     "name": "stdout",
     "output_type": "stream",
     "text": [
      "Got the result from ./20/train/filtrations/6/HeightFiltrartion_-1_0/gray/diagrams.npy\n",
      "Applying Scaler to persistence diagrams.\n",
      "Got the result from ./20/train/filtrations/6/HeightFiltrartion_-1_0/red/diagrams.npy\n",
      "Applying Scaler to persistence diagrams.\n",
      "Got the result from ./20/train/filtrations/6/HeightFiltrartion_-1_0/green/diagrams.npy\n",
      "Applying Scaler to persistence diagrams.\n",
      "Got the result from ./20/train/filtrations/6/HeightFiltrartion_-1_0/blue/diagrams.npy\n",
      "Applying Scaler to persistence diagrams.\n",
      "Applying filtration 56/72: 6/HeightFiltrartion_1_0\n",
      "RGB images received. Transforming to grayscale.\n"
     ]
    },
    {
     "name": "stderr",
     "output_type": "stream",
     "text": [
      "rgb2gray: 100%|██████████| 50000/50000 [00:07<00:00, 6365.95it/s]\n"
     ]
    },
    {
     "name": "stdout",
     "output_type": "stream",
     "text": [
      "Got the result from ./20/train/filtrations/6/HeightFiltrartion_1_0/gray/diagrams.npy\n",
      "Applying Scaler to persistence diagrams.\n",
      "Got the result from ./20/train/filtrations/6/HeightFiltrartion_1_0/red/diagrams.npy\n",
      "Applying Scaler to persistence diagrams.\n",
      "Got the result from ./20/train/filtrations/6/HeightFiltrartion_1_0/green/diagrams.npy\n",
      "Applying Scaler to persistence diagrams.\n",
      "Got the result from ./20/train/filtrations/6/HeightFiltrartion_1_0/blue/diagrams.npy\n",
      "Applying Scaler to persistence diagrams.\n",
      "Applying filtration 57/72: 6/RadialFiltration_5_5\n",
      "RGB images received. Transforming to grayscale.\n"
     ]
    },
    {
     "name": "stderr",
     "output_type": "stream",
     "text": [
      "rgb2gray: 100%|██████████| 50000/50000 [00:08<00:00, 6231.83it/s]\n"
     ]
    },
    {
     "name": "stdout",
     "output_type": "stream",
     "text": [
      "Got the result from ./20/train/filtrations/6/RadialFiltration_5_5/gray/diagrams.npy\n",
      "Applying Scaler to persistence diagrams.\n",
      "Got the result from ./20/train/filtrations/6/RadialFiltration_5_5/red/diagrams.npy\n",
      "Applying Scaler to persistence diagrams.\n",
      "Got the result from ./20/train/filtrations/6/RadialFiltration_5_5/green/diagrams.npy\n",
      "Applying Scaler to persistence diagrams.\n",
      "Got the result from ./20/train/filtrations/6/RadialFiltration_5_5/blue/diagrams.npy\n",
      "Applying Scaler to persistence diagrams.\n",
      "Applying filtration 58/72: 6/RadialFiltration_5_12\n",
      "RGB images received. Transforming to grayscale.\n"
     ]
    },
    {
     "name": "stderr",
     "output_type": "stream",
     "text": [
      "rgb2gray: 100%|██████████| 50000/50000 [00:08<00:00, 6041.11it/s]\n"
     ]
    },
    {
     "name": "stdout",
     "output_type": "stream",
     "text": [
      "Got the result from ./20/train/filtrations/6/RadialFiltration_5_12/gray/diagrams.npy\n",
      "Applying Scaler to persistence diagrams.\n",
      "Got the result from ./20/train/filtrations/6/RadialFiltration_5_12/red/diagrams.npy\n",
      "Applying Scaler to persistence diagrams.\n",
      "Got the result from ./20/train/filtrations/6/RadialFiltration_5_12/green/diagrams.npy\n",
      "Applying Scaler to persistence diagrams.\n",
      "Got the result from ./20/train/filtrations/6/RadialFiltration_5_12/blue/diagrams.npy\n",
      "Applying Scaler to persistence diagrams.\n",
      "Applying filtration 59/72: 6/RadialFiltration_5_19\n",
      "RGB images received. Transforming to grayscale.\n"
     ]
    },
    {
     "name": "stderr",
     "output_type": "stream",
     "text": [
      "rgb2gray: 100%|██████████| 50000/50000 [00:08<00:00, 5765.30it/s]\n"
     ]
    },
    {
     "name": "stdout",
     "output_type": "stream",
     "text": [
      "Got the result from ./20/train/filtrations/6/RadialFiltration_5_19/gray/diagrams.npy\n",
      "Applying Scaler to persistence diagrams.\n",
      "Got the result from ./20/train/filtrations/6/RadialFiltration_5_19/red/diagrams.npy\n",
      "Applying Scaler to persistence diagrams.\n",
      "Got the result from ./20/train/filtrations/6/RadialFiltration_5_19/green/diagrams.npy\n",
      "Applying Scaler to persistence diagrams.\n",
      "Got the result from ./20/train/filtrations/6/RadialFiltration_5_19/blue/diagrams.npy\n",
      "Applying Scaler to persistence diagrams.\n",
      "Applying filtration 60/72: 6/RadialFiltration_5_26\n",
      "RGB images received. Transforming to grayscale.\n"
     ]
    },
    {
     "name": "stderr",
     "output_type": "stream",
     "text": [
      "rgb2gray: 100%|██████████| 50000/50000 [00:08<00:00, 6032.29it/s]\n"
     ]
    },
    {
     "name": "stdout",
     "output_type": "stream",
     "text": [
      "Got the result from ./20/train/filtrations/6/RadialFiltration_5_26/gray/diagrams.npy\n",
      "Applying Scaler to persistence diagrams.\n",
      "Got the result from ./20/train/filtrations/6/RadialFiltration_5_26/red/diagrams.npy\n",
      "Applying Scaler to persistence diagrams.\n",
      "Got the result from ./20/train/filtrations/6/RadialFiltration_5_26/green/diagrams.npy\n",
      "Applying Scaler to persistence diagrams.\n",
      "Got the result from ./20/train/filtrations/6/RadialFiltration_5_26/blue/diagrams.npy\n",
      "Applying Scaler to persistence diagrams.\n",
      "Applying filtration 61/72: 6/RadialFiltration_12_5\n",
      "RGB images received. Transforming to grayscale.\n"
     ]
    },
    {
     "name": "stderr",
     "output_type": "stream",
     "text": [
      "rgb2gray: 100%|██████████| 50000/50000 [00:08<00:00, 6053.48it/s]\n"
     ]
    },
    {
     "name": "stdout",
     "output_type": "stream",
     "text": [
      "Got the result from ./20/train/filtrations/6/RadialFiltration_12_5/gray/diagrams.npy\n",
      "Applying Scaler to persistence diagrams.\n",
      "Got the result from ./20/train/filtrations/6/RadialFiltration_12_5/red/diagrams.npy\n",
      "Applying Scaler to persistence diagrams.\n",
      "Got the result from ./20/train/filtrations/6/RadialFiltration_12_5/green/diagrams.npy\n",
      "Applying Scaler to persistence diagrams.\n",
      "Got the result from ./20/train/filtrations/6/RadialFiltration_12_5/blue/diagrams.npy\n",
      "Applying Scaler to persistence diagrams.\n",
      "Applying filtration 62/72: 6/RadialFiltration_12_12\n",
      "RGB images received. Transforming to grayscale.\n"
     ]
    },
    {
     "name": "stderr",
     "output_type": "stream",
     "text": [
      "rgb2gray: 100%|██████████| 50000/50000 [00:08<00:00, 5751.47it/s]\n"
     ]
    },
    {
     "name": "stdout",
     "output_type": "stream",
     "text": [
      "Got the result from ./20/train/filtrations/6/RadialFiltration_12_12/gray/diagrams.npy\n",
      "Applying Scaler to persistence diagrams.\n",
      "Got the result from ./20/train/filtrations/6/RadialFiltration_12_12/red/diagrams.npy\n",
      "Applying Scaler to persistence diagrams.\n",
      "Got the result from ./20/train/filtrations/6/RadialFiltration_12_12/green/diagrams.npy\n",
      "Applying Scaler to persistence diagrams.\n",
      "Got the result from ./20/train/filtrations/6/RadialFiltration_12_12/blue/diagrams.npy\n",
      "Applying Scaler to persistence diagrams.\n",
      "Applying filtration 63/72: 6/RadialFiltration_12_19\n",
      "RGB images received. Transforming to grayscale.\n"
     ]
    },
    {
     "name": "stderr",
     "output_type": "stream",
     "text": [
      "rgb2gray: 100%|██████████| 50000/50000 [00:08<00:00, 5737.53it/s]\n"
     ]
    },
    {
     "name": "stdout",
     "output_type": "stream",
     "text": [
      "Got the result from ./20/train/filtrations/6/RadialFiltration_12_19/gray/diagrams.npy\n",
      "Applying Scaler to persistence diagrams.\n",
      "Got the result from ./20/train/filtrations/6/RadialFiltration_12_19/red/diagrams.npy\n",
      "Applying Scaler to persistence diagrams.\n",
      "Got the result from ./20/train/filtrations/6/RadialFiltration_12_19/green/diagrams.npy\n",
      "Applying Scaler to persistence diagrams.\n",
      "Got the result from ./20/train/filtrations/6/RadialFiltration_12_19/blue/diagrams.npy\n",
      "Applying Scaler to persistence diagrams.\n",
      "Applying filtration 64/72: 6/RadialFiltration_12_26\n",
      "RGB images received. Transforming to grayscale.\n"
     ]
    },
    {
     "name": "stderr",
     "output_type": "stream",
     "text": [
      "rgb2gray: 100%|██████████| 50000/50000 [00:09<00:00, 5347.65it/s]\n"
     ]
    },
    {
     "name": "stdout",
     "output_type": "stream",
     "text": [
      "Got the result from ./20/train/filtrations/6/RadialFiltration_12_26/gray/diagrams.npy\n",
      "Applying Scaler to persistence diagrams.\n",
      "Got the result from ./20/train/filtrations/6/RadialFiltration_12_26/red/diagrams.npy\n",
      "Applying Scaler to persistence diagrams.\n",
      "Got the result from ./20/train/filtrations/6/RadialFiltration_12_26/green/diagrams.npy\n",
      "Applying Scaler to persistence diagrams.\n",
      "Got the result from ./20/train/filtrations/6/RadialFiltration_12_26/blue/diagrams.npy\n",
      "Applying Scaler to persistence diagrams.\n",
      "Applying filtration 65/72: 6/RadialFiltration_19_5\n",
      "RGB images received. Transforming to grayscale.\n"
     ]
    },
    {
     "name": "stderr",
     "output_type": "stream",
     "text": [
      "rgb2gray: 100%|██████████| 50000/50000 [00:08<00:00, 5732.66it/s]\n"
     ]
    },
    {
     "name": "stdout",
     "output_type": "stream",
     "text": [
      "Got the result from ./20/train/filtrations/6/RadialFiltration_19_5/gray/diagrams.npy\n",
      "Applying Scaler to persistence diagrams.\n",
      "Got the result from ./20/train/filtrations/6/RadialFiltration_19_5/red/diagrams.npy\n",
      "Applying Scaler to persistence diagrams.\n",
      "Got the result from ./20/train/filtrations/6/RadialFiltration_19_5/green/diagrams.npy\n",
      "Applying Scaler to persistence diagrams.\n",
      "Got the result from ./20/train/filtrations/6/RadialFiltration_19_5/blue/diagrams.npy\n",
      "Applying Scaler to persistence diagrams.\n",
      "Applying filtration 66/72: 6/RadialFiltration_19_12\n",
      "RGB images received. Transforming to grayscale.\n"
     ]
    },
    {
     "name": "stderr",
     "output_type": "stream",
     "text": [
      "rgb2gray: 100%|██████████| 50000/50000 [00:09<00:00, 5438.16it/s]\n"
     ]
    },
    {
     "name": "stdout",
     "output_type": "stream",
     "text": [
      "Got the result from ./20/train/filtrations/6/RadialFiltration_19_12/gray/diagrams.npy\n",
      "Applying Scaler to persistence diagrams.\n",
      "Got the result from ./20/train/filtrations/6/RadialFiltration_19_12/red/diagrams.npy\n",
      "Applying Scaler to persistence diagrams.\n",
      "Got the result from ./20/train/filtrations/6/RadialFiltration_19_12/green/diagrams.npy\n",
      "Applying Scaler to persistence diagrams.\n",
      "Got the result from ./20/train/filtrations/6/RadialFiltration_19_12/blue/diagrams.npy\n",
      "Applying Scaler to persistence diagrams.\n",
      "Applying filtration 67/72: 6/RadialFiltration_19_19\n",
      "RGB images received. Transforming to grayscale.\n"
     ]
    },
    {
     "name": "stderr",
     "output_type": "stream",
     "text": [
      "rgb2gray: 100%|██████████| 50000/50000 [00:09<00:00, 5305.03it/s]\n"
     ]
    },
    {
     "name": "stdout",
     "output_type": "stream",
     "text": [
      "Got the result from ./20/train/filtrations/6/RadialFiltration_19_19/gray/diagrams.npy\n",
      "Applying Scaler to persistence diagrams.\n",
      "Got the result from ./20/train/filtrations/6/RadialFiltration_19_19/red/diagrams.npy\n",
      "Applying Scaler to persistence diagrams.\n",
      "Got the result from ./20/train/filtrations/6/RadialFiltration_19_19/green/diagrams.npy\n",
      "Applying Scaler to persistence diagrams.\n",
      "Got the result from ./20/train/filtrations/6/RadialFiltration_19_19/blue/diagrams.npy\n",
      "Applying Scaler to persistence diagrams.\n",
      "Applying filtration 68/72: 6/RadialFiltration_19_26\n",
      "RGB images received. Transforming to grayscale.\n"
     ]
    },
    {
     "name": "stderr",
     "output_type": "stream",
     "text": [
      "rgb2gray: 100%|██████████| 50000/50000 [00:09<00:00, 5147.49it/s]\n"
     ]
    },
    {
     "name": "stdout",
     "output_type": "stream",
     "text": [
      "Got the result from ./20/train/filtrations/6/RadialFiltration_19_26/gray/diagrams.npy\n",
      "Applying Scaler to persistence diagrams.\n",
      "Got the result from ./20/train/filtrations/6/RadialFiltration_19_26/red/diagrams.npy\n",
      "Applying Scaler to persistence diagrams.\n",
      "Got the result from ./20/train/filtrations/6/RadialFiltration_19_26/green/diagrams.npy\n",
      "Applying Scaler to persistence diagrams.\n",
      "Got the result from ./20/train/filtrations/6/RadialFiltration_19_26/blue/diagrams.npy\n",
      "Applying Scaler to persistence diagrams.\n",
      "Applying filtration 69/72: 6/RadialFiltration_26_5\n",
      "RGB images received. Transforming to grayscale.\n"
     ]
    },
    {
     "name": "stderr",
     "output_type": "stream",
     "text": [
      "rgb2gray: 100%|██████████| 50000/50000 [00:10<00:00, 4878.59it/s]\n"
     ]
    },
    {
     "name": "stdout",
     "output_type": "stream",
     "text": [
      "Got the result from ./20/train/filtrations/6/RadialFiltration_26_5/gray/diagrams.npy\n",
      "Applying Scaler to persistence diagrams.\n",
      "Got the result from ./20/train/filtrations/6/RadialFiltration_26_5/red/diagrams.npy\n",
      "Applying Scaler to persistence diagrams.\n",
      "Got the result from ./20/train/filtrations/6/RadialFiltration_26_5/green/diagrams.npy\n",
      "Applying Scaler to persistence diagrams.\n",
      "Got the result from ./20/train/filtrations/6/RadialFiltration_26_5/blue/diagrams.npy\n",
      "Applying Scaler to persistence diagrams.\n",
      "Applying filtration 70/72: 6/RadialFiltration_26_12\n",
      "RGB images received. Transforming to grayscale.\n"
     ]
    },
    {
     "name": "stderr",
     "output_type": "stream",
     "text": [
      "rgb2gray: 100%|██████████| 50000/50000 [00:09<00:00, 5177.10it/s]\n"
     ]
    },
    {
     "name": "stdout",
     "output_type": "stream",
     "text": [
      "Got the result from ./20/train/filtrations/6/RadialFiltration_26_12/gray/diagrams.npy\n",
      "Applying Scaler to persistence diagrams.\n",
      "Got the result from ./20/train/filtrations/6/RadialFiltration_26_12/red/diagrams.npy\n",
      "Applying Scaler to persistence diagrams.\n",
      "Got the result from ./20/train/filtrations/6/RadialFiltration_26_12/green/diagrams.npy\n",
      "Applying Scaler to persistence diagrams.\n",
      "Got the result from ./20/train/filtrations/6/RadialFiltration_26_12/blue/diagrams.npy\n",
      "Applying Scaler to persistence diagrams.\n",
      "Applying filtration 71/72: 6/RadialFiltration_26_19\n",
      "RGB images received. Transforming to grayscale.\n"
     ]
    },
    {
     "name": "stderr",
     "output_type": "stream",
     "text": [
      "rgb2gray: 100%|██████████| 50000/50000 [00:09<00:00, 5492.83it/s]\n"
     ]
    },
    {
     "name": "stdout",
     "output_type": "stream",
     "text": [
      "Got the result from ./20/train/filtrations/6/RadialFiltration_26_19/gray/diagrams.npy\n",
      "Applying Scaler to persistence diagrams.\n",
      "Got the result from ./20/train/filtrations/6/RadialFiltration_26_19/red/diagrams.npy\n",
      "Applying Scaler to persistence diagrams.\n",
      "Got the result from ./20/train/filtrations/6/RadialFiltration_26_19/green/diagrams.npy\n",
      "Applying Scaler to persistence diagrams.\n",
      "Got the result from ./20/train/filtrations/6/RadialFiltration_26_19/blue/diagrams.npy\n",
      "Applying Scaler to persistence diagrams.\n",
      "Applying filtration 72/72: 6/RadialFiltration_26_26\n",
      "RGB images received. Transforming to grayscale.\n"
     ]
    },
    {
     "name": "stderr",
     "output_type": "stream",
     "text": [
      "rgb2gray: 100%|██████████| 50000/50000 [00:09<00:00, 5071.52it/s]\n"
     ]
    },
    {
     "name": "stdout",
     "output_type": "stream",
     "text": [
      "Got the result from ./20/train/filtrations/6/RadialFiltration_26_26/gray/diagrams.npy\n",
      "Applying Scaler to persistence diagrams.\n",
      "Got the result from ./20/train/filtrations/6/RadialFiltration_26_26/red/diagrams.npy\n",
      "Applying Scaler to persistence diagrams.\n",
      "Got the result from ./20/train/filtrations/6/RadialFiltration_26_26/green/diagrams.npy\n",
      "Applying Scaler to persistence diagrams.\n",
      "Got the result from ./20/train/filtrations/6/RadialFiltration_26_26/blue/diagrams.npy\n",
      "Applying Scaler to persistence diagrams.\n",
      "Diagrams requested. Returning diagrams.\n",
      "Calculating inverted images\n",
      "RGB images received. Transforming to grayscale.\n"
     ]
    },
    {
     "name": "stderr",
     "output_type": "stream",
     "text": [
      "rgb2gray: 100%|██████████| 50000/50000 [00:04<00:00, 12327.81it/s]\n"
     ]
    },
    {
     "name": "stdout",
     "output_type": "stream",
     "text": [
      "Got the result from ./20/train/greyscale/gray/diagrams.npy\n",
      "Applying Scaler to persistence diagrams.\n",
      "Got the result from ./20/train/greyscale/red/diagrams.npy\n",
      "Applying Scaler to persistence diagrams.\n",
      "Got the result from ./20/train/greyscale/green/diagrams.npy\n",
      "Applying Scaler to persistence diagrams.\n",
      "Got the result from ./20/train/greyscale/blue/diagrams.npy\n",
      "Applying Scaler to persistence diagrams.\n",
      "RGB images received. Transforming to grayscale.\n"
     ]
    },
    {
     "name": "stderr",
     "output_type": "stream",
     "text": [
      "rgb2gray: 100%|██████████| 50000/50000 [00:04<00:00, 12161.65it/s]\n"
     ]
    },
    {
     "name": "stdout",
     "output_type": "stream",
     "text": [
      "Got the result from ./20/train/inverted_greyscale/gray/diagrams.npy\n",
      "Applying Scaler to persistence diagrams.\n",
      "Got the result from ./20/train/inverted_greyscale/red/diagrams.npy\n",
      "Applying Scaler to persistence diagrams.\n",
      "Got the result from ./20/train/inverted_greyscale/green/diagrams.npy\n",
      "Applying Scaler to persistence diagrams.\n",
      "Got the result from ./20/train/inverted_greyscale/blue/diagrams.npy\n",
      "Applying Scaler to persistence diagrams.\n",
      "Applying filtrations\n",
      "Applying filtration 1/72: 2/HeightFiltrartion_-1_-1\n",
      "RGB images received. Transforming to grayscale.\n"
     ]
    },
    {
     "name": "stderr",
     "output_type": "stream",
     "text": [
      "rgb2gray: 100%|██████████| 50000/50000 [00:04<00:00, 12147.96it/s]\n"
     ]
    },
    {
     "name": "stdout",
     "output_type": "stream",
     "text": [
      "Got the result from ./20/train/filtrations/2/HeightFiltrartion_-1_-1/gray/diagrams.npy\n",
      "Applying Scaler to persistence diagrams.\n",
      "Got the result from ./20/train/filtrations/2/HeightFiltrartion_-1_-1/red/diagrams.npy\n",
      "Applying Scaler to persistence diagrams.\n",
      "Got the result from ./20/train/filtrations/2/HeightFiltrartion_-1_-1/green/diagrams.npy\n",
      "Applying Scaler to persistence diagrams.\n",
      "Got the result from ./20/train/filtrations/2/HeightFiltrartion_-1_-1/blue/diagrams.npy\n",
      "Applying Scaler to persistence diagrams.\n",
      "Applying filtration 2/72: 2/HeightFiltrartion_1_1\n",
      "RGB images received. Transforming to grayscale.\n"
     ]
    },
    {
     "name": "stderr",
     "output_type": "stream",
     "text": [
      "rgb2gray: 100%|██████████| 50000/50000 [00:04<00:00, 12364.72it/s]\n"
     ]
    },
    {
     "name": "stdout",
     "output_type": "stream",
     "text": [
      "Got the result from ./20/train/filtrations/2/HeightFiltrartion_1_1/gray/diagrams.npy\n",
      "Applying Scaler to persistence diagrams.\n",
      "Got the result from ./20/train/filtrations/2/HeightFiltrartion_1_1/red/diagrams.npy\n",
      "Applying Scaler to persistence diagrams.\n",
      "Got the result from ./20/train/filtrations/2/HeightFiltrartion_1_1/green/diagrams.npy\n",
      "Applying Scaler to persistence diagrams.\n",
      "Got the result from ./20/train/filtrations/2/HeightFiltrartion_1_1/blue/diagrams.npy\n",
      "Applying Scaler to persistence diagrams.\n",
      "Applying filtration 3/72: 2/HeightFiltrartion_1_-1\n",
      "RGB images received. Transforming to grayscale.\n"
     ]
    },
    {
     "name": "stderr",
     "output_type": "stream",
     "text": [
      "rgb2gray: 100%|██████████| 50000/50000 [00:04<00:00, 11830.33it/s]\n"
     ]
    },
    {
     "name": "stdout",
     "output_type": "stream",
     "text": [
      "Got the result from ./20/train/filtrations/2/HeightFiltrartion_1_-1/gray/diagrams.npy\n",
      "Applying Scaler to persistence diagrams.\n",
      "Got the result from ./20/train/filtrations/2/HeightFiltrartion_1_-1/red/diagrams.npy\n",
      "Applying Scaler to persistence diagrams.\n",
      "Got the result from ./20/train/filtrations/2/HeightFiltrartion_1_-1/green/diagrams.npy\n",
      "Applying Scaler to persistence diagrams.\n",
      "Got the result from ./20/train/filtrations/2/HeightFiltrartion_1_-1/blue/diagrams.npy\n",
      "Applying Scaler to persistence diagrams.\n",
      "Applying filtration 4/72: 2/HeightFiltrartion_-1_1\n",
      "RGB images received. Transforming to grayscale.\n"
     ]
    },
    {
     "name": "stderr",
     "output_type": "stream",
     "text": [
      "rgb2gray: 100%|██████████| 50000/50000 [00:04<00:00, 11664.14it/s]\n"
     ]
    },
    {
     "name": "stdout",
     "output_type": "stream",
     "text": [
      "Got the result from ./20/train/filtrations/2/HeightFiltrartion_-1_1/gray/diagrams.npy\n",
      "Applying Scaler to persistence diagrams.\n",
      "Got the result from ./20/train/filtrations/2/HeightFiltrartion_-1_1/red/diagrams.npy\n",
      "Applying Scaler to persistence diagrams.\n",
      "Got the result from ./20/train/filtrations/2/HeightFiltrartion_-1_1/green/diagrams.npy\n",
      "Applying Scaler to persistence diagrams.\n",
      "Got the result from ./20/train/filtrations/2/HeightFiltrartion_-1_1/blue/diagrams.npy\n",
      "Applying Scaler to persistence diagrams.\n",
      "Applying filtration 5/72: 2/HeightFiltrartion_0_-1\n",
      "RGB images received. Transforming to grayscale.\n"
     ]
    },
    {
     "name": "stderr",
     "output_type": "stream",
     "text": [
      "rgb2gray: 100%|██████████| 50000/50000 [00:04<00:00, 11525.98it/s]\n"
     ]
    },
    {
     "name": "stdout",
     "output_type": "stream",
     "text": [
      "Got the result from ./20/train/filtrations/2/HeightFiltrartion_0_-1/gray/diagrams.npy\n",
      "Applying Scaler to persistence diagrams.\n",
      "Got the result from ./20/train/filtrations/2/HeightFiltrartion_0_-1/red/diagrams.npy\n",
      "Applying Scaler to persistence diagrams.\n",
      "Got the result from ./20/train/filtrations/2/HeightFiltrartion_0_-1/green/diagrams.npy\n",
      "Applying Scaler to persistence diagrams.\n",
      "Got the result from ./20/train/filtrations/2/HeightFiltrartion_0_-1/blue/diagrams.npy\n",
      "Applying Scaler to persistence diagrams.\n",
      "Applying filtration 6/72: 2/HeightFiltrartion_0_1\n",
      "RGB images received. Transforming to grayscale.\n"
     ]
    },
    {
     "name": "stderr",
     "output_type": "stream",
     "text": [
      "rgb2gray: 100%|██████████| 50000/50000 [00:04<00:00, 11149.33it/s]\n"
     ]
    },
    {
     "name": "stdout",
     "output_type": "stream",
     "text": [
      "Got the result from ./20/train/filtrations/2/HeightFiltrartion_0_1/gray/diagrams.npy\n",
      "Applying Scaler to persistence diagrams.\n",
      "Got the result from ./20/train/filtrations/2/HeightFiltrartion_0_1/red/diagrams.npy\n",
      "Applying Scaler to persistence diagrams.\n",
      "Got the result from ./20/train/filtrations/2/HeightFiltrartion_0_1/green/diagrams.npy\n",
      "Applying Scaler to persistence diagrams.\n",
      "Got the result from ./20/train/filtrations/2/HeightFiltrartion_0_1/blue/diagrams.npy\n",
      "Applying Scaler to persistence diagrams.\n",
      "Applying filtration 7/72: 2/HeightFiltrartion_-1_0\n",
      "RGB images received. Transforming to grayscale.\n"
     ]
    },
    {
     "name": "stderr",
     "output_type": "stream",
     "text": [
      "rgb2gray: 100%|██████████| 50000/50000 [00:04<00:00, 11509.95it/s]\n"
     ]
    },
    {
     "name": "stdout",
     "output_type": "stream",
     "text": [
      "Got the result from ./20/train/filtrations/2/HeightFiltrartion_-1_0/gray/diagrams.npy\n",
      "Applying Scaler to persistence diagrams.\n",
      "Got the result from ./20/train/filtrations/2/HeightFiltrartion_-1_0/red/diagrams.npy\n",
      "Applying Scaler to persistence diagrams.\n",
      "Got the result from ./20/train/filtrations/2/HeightFiltrartion_-1_0/green/diagrams.npy\n",
      "Applying Scaler to persistence diagrams.\n",
      "Got the result from ./20/train/filtrations/2/HeightFiltrartion_-1_0/blue/diagrams.npy\n",
      "Applying Scaler to persistence diagrams.\n",
      "Applying filtration 8/72: 2/HeightFiltrartion_1_0\n",
      "RGB images received. Transforming to grayscale.\n"
     ]
    },
    {
     "name": "stderr",
     "output_type": "stream",
     "text": [
      "rgb2gray: 100%|██████████| 50000/50000 [00:05<00:00, 9934.18it/s] \n"
     ]
    },
    {
     "name": "stdout",
     "output_type": "stream",
     "text": [
      "Got the result from ./20/train/filtrations/2/HeightFiltrartion_1_0/gray/diagrams.npy\n",
      "Applying Scaler to persistence diagrams.\n",
      "Got the result from ./20/train/filtrations/2/HeightFiltrartion_1_0/red/diagrams.npy\n",
      "Applying Scaler to persistence diagrams.\n",
      "Got the result from ./20/train/filtrations/2/HeightFiltrartion_1_0/green/diagrams.npy\n",
      "Applying Scaler to persistence diagrams.\n",
      "Got the result from ./20/train/filtrations/2/HeightFiltrartion_1_0/blue/diagrams.npy\n",
      "Applying Scaler to persistence diagrams.\n",
      "Applying filtration 9/72: 2/RadialFiltration_5_5\n",
      "RGB images received. Transforming to grayscale.\n"
     ]
    },
    {
     "name": "stderr",
     "output_type": "stream",
     "text": [
      "rgb2gray: 100%|██████████| 50000/50000 [00:05<00:00, 9412.10it/s] \n"
     ]
    },
    {
     "name": "stdout",
     "output_type": "stream",
     "text": [
      "Got the result from ./20/train/filtrations/2/RadialFiltration_5_5/gray/diagrams.npy\n",
      "Applying Scaler to persistence diagrams.\n",
      "Got the result from ./20/train/filtrations/2/RadialFiltration_5_5/red/diagrams.npy\n",
      "Applying Scaler to persistence diagrams.\n",
      "Got the result from ./20/train/filtrations/2/RadialFiltration_5_5/green/diagrams.npy\n",
      "Applying Scaler to persistence diagrams.\n",
      "Got the result from ./20/train/filtrations/2/RadialFiltration_5_5/blue/diagrams.npy\n",
      "Applying Scaler to persistence diagrams.\n",
      "Applying filtration 10/72: 2/RadialFiltration_5_12\n",
      "RGB images received. Transforming to grayscale.\n"
     ]
    },
    {
     "name": "stderr",
     "output_type": "stream",
     "text": [
      "rgb2gray: 100%|██████████| 50000/50000 [00:04<00:00, 10543.76it/s]\n"
     ]
    },
    {
     "name": "stdout",
     "output_type": "stream",
     "text": [
      "Got the result from ./20/train/filtrations/2/RadialFiltration_5_12/gray/diagrams.npy\n",
      "Applying Scaler to persistence diagrams.\n",
      "Got the result from ./20/train/filtrations/2/RadialFiltration_5_12/red/diagrams.npy\n",
      "Applying Scaler to persistence diagrams.\n",
      "Got the result from ./20/train/filtrations/2/RadialFiltration_5_12/green/diagrams.npy\n",
      "Applying Scaler to persistence diagrams.\n",
      "Got the result from ./20/train/filtrations/2/RadialFiltration_5_12/blue/diagrams.npy\n",
      "Applying Scaler to persistence diagrams.\n",
      "Applying filtration 11/72: 2/RadialFiltration_5_19\n",
      "RGB images received. Transforming to grayscale.\n"
     ]
    },
    {
     "name": "stderr",
     "output_type": "stream",
     "text": [
      "rgb2gray: 100%|██████████| 50000/50000 [00:04<00:00, 10317.94it/s]\n"
     ]
    },
    {
     "name": "stdout",
     "output_type": "stream",
     "text": [
      "Got the result from ./20/train/filtrations/2/RadialFiltration_5_19/gray/diagrams.npy\n",
      "Applying Scaler to persistence diagrams.\n",
      "Got the result from ./20/train/filtrations/2/RadialFiltration_5_19/red/diagrams.npy\n",
      "Applying Scaler to persistence diagrams.\n",
      "Got the result from ./20/train/filtrations/2/RadialFiltration_5_19/green/diagrams.npy\n",
      "Applying Scaler to persistence diagrams.\n",
      "Got the result from ./20/train/filtrations/2/RadialFiltration_5_19/blue/diagrams.npy\n",
      "Applying Scaler to persistence diagrams.\n",
      "Applying filtration 12/72: 2/RadialFiltration_5_26\n",
      "RGB images received. Transforming to grayscale.\n"
     ]
    },
    {
     "name": "stderr",
     "output_type": "stream",
     "text": [
      "rgb2gray: 100%|██████████| 50000/50000 [00:04<00:00, 10524.38it/s]\n"
     ]
    },
    {
     "name": "stdout",
     "output_type": "stream",
     "text": [
      "Got the result from ./20/train/filtrations/2/RadialFiltration_5_26/gray/diagrams.npy\n",
      "Applying Scaler to persistence diagrams.\n",
      "Got the result from ./20/train/filtrations/2/RadialFiltration_5_26/red/diagrams.npy\n",
      "Applying Scaler to persistence diagrams.\n",
      "Got the result from ./20/train/filtrations/2/RadialFiltration_5_26/green/diagrams.npy\n",
      "Applying Scaler to persistence diagrams.\n",
      "Got the result from ./20/train/filtrations/2/RadialFiltration_5_26/blue/diagrams.npy\n",
      "Applying Scaler to persistence diagrams.\n",
      "Applying filtration 13/72: 2/RadialFiltration_12_5\n",
      "RGB images received. Transforming to grayscale.\n"
     ]
    },
    {
     "name": "stderr",
     "output_type": "stream",
     "text": [
      "rgb2gray: 100%|██████████| 50000/50000 [00:05<00:00, 9906.19it/s]\n"
     ]
    },
    {
     "name": "stdout",
     "output_type": "stream",
     "text": [
      "Got the result from ./20/train/filtrations/2/RadialFiltration_12_5/gray/diagrams.npy\n",
      "Applying Scaler to persistence diagrams.\n",
      "Got the result from ./20/train/filtrations/2/RadialFiltration_12_5/red/diagrams.npy\n",
      "Applying Scaler to persistence diagrams.\n",
      "Got the result from ./20/train/filtrations/2/RadialFiltration_12_5/green/diagrams.npy\n",
      "Applying Scaler to persistence diagrams.\n",
      "Got the result from ./20/train/filtrations/2/RadialFiltration_12_5/blue/diagrams.npy\n",
      "Applying Scaler to persistence diagrams.\n",
      "Applying filtration 14/72: 2/RadialFiltration_12_12\n",
      "RGB images received. Transforming to grayscale.\n"
     ]
    },
    {
     "name": "stderr",
     "output_type": "stream",
     "text": [
      "rgb2gray: 100%|██████████| 50000/50000 [00:05<00:00, 9563.75it/s] \n"
     ]
    },
    {
     "name": "stdout",
     "output_type": "stream",
     "text": [
      "Got the result from ./20/train/filtrations/2/RadialFiltration_12_12/gray/diagrams.npy\n",
      "Applying Scaler to persistence diagrams.\n",
      "Got the result from ./20/train/filtrations/2/RadialFiltration_12_12/red/diagrams.npy\n",
      "Applying Scaler to persistence diagrams.\n",
      "Got the result from ./20/train/filtrations/2/RadialFiltration_12_12/green/diagrams.npy\n",
      "Applying Scaler to persistence diagrams.\n",
      "Got the result from ./20/train/filtrations/2/RadialFiltration_12_12/blue/diagrams.npy\n",
      "Applying Scaler to persistence diagrams.\n",
      "Applying filtration 15/72: 2/RadialFiltration_12_19\n",
      "RGB images received. Transforming to grayscale.\n"
     ]
    },
    {
     "name": "stderr",
     "output_type": "stream",
     "text": [
      "rgb2gray: 100%|██████████| 50000/50000 [00:05<00:00, 9621.14it/s] \n"
     ]
    },
    {
     "name": "stdout",
     "output_type": "stream",
     "text": [
      "Got the result from ./20/train/filtrations/2/RadialFiltration_12_19/gray/diagrams.npy\n",
      "Applying Scaler to persistence diagrams.\n",
      "Got the result from ./20/train/filtrations/2/RadialFiltration_12_19/red/diagrams.npy\n",
      "Applying Scaler to persistence diagrams.\n",
      "Got the result from ./20/train/filtrations/2/RadialFiltration_12_19/green/diagrams.npy\n",
      "Applying Scaler to persistence diagrams.\n",
      "Got the result from ./20/train/filtrations/2/RadialFiltration_12_19/blue/diagrams.npy\n",
      "Applying Scaler to persistence diagrams.\n",
      "Applying filtration 16/72: 2/RadialFiltration_12_26\n",
      "RGB images received. Transforming to grayscale.\n"
     ]
    },
    {
     "name": "stderr",
     "output_type": "stream",
     "text": [
      "rgb2gray: 100%|██████████| 50000/50000 [00:05<00:00, 9397.44it/s] \n"
     ]
    },
    {
     "name": "stdout",
     "output_type": "stream",
     "text": [
      "Got the result from ./20/train/filtrations/2/RadialFiltration_12_26/gray/diagrams.npy\n",
      "Applying Scaler to persistence diagrams.\n",
      "Got the result from ./20/train/filtrations/2/RadialFiltration_12_26/red/diagrams.npy\n",
      "Applying Scaler to persistence diagrams.\n",
      "Got the result from ./20/train/filtrations/2/RadialFiltration_12_26/green/diagrams.npy\n",
      "Applying Scaler to persistence diagrams.\n",
      "Got the result from ./20/train/filtrations/2/RadialFiltration_12_26/blue/diagrams.npy\n",
      "Applying Scaler to persistence diagrams.\n",
      "Applying filtration 17/72: 2/RadialFiltration_19_5\n",
      "RGB images received. Transforming to grayscale.\n"
     ]
    },
    {
     "name": "stderr",
     "output_type": "stream",
     "text": [
      "rgb2gray: 100%|██████████| 50000/50000 [00:05<00:00, 9590.90it/s] \n"
     ]
    },
    {
     "name": "stdout",
     "output_type": "stream",
     "text": [
      "Got the result from ./20/train/filtrations/2/RadialFiltration_19_5/gray/diagrams.npy\n",
      "Applying Scaler to persistence diagrams.\n",
      "Got the result from ./20/train/filtrations/2/RadialFiltration_19_5/red/diagrams.npy\n",
      "Applying Scaler to persistence diagrams.\n",
      "Got the result from ./20/train/filtrations/2/RadialFiltration_19_5/green/diagrams.npy\n",
      "Applying Scaler to persistence diagrams.\n",
      "Got the result from ./20/train/filtrations/2/RadialFiltration_19_5/blue/diagrams.npy\n",
      "Applying Scaler to persistence diagrams.\n",
      "Applying filtration 18/72: 2/RadialFiltration_19_12\n",
      "RGB images received. Transforming to grayscale.\n"
     ]
    },
    {
     "name": "stderr",
     "output_type": "stream",
     "text": [
      "rgb2gray: 100%|██████████| 50000/50000 [00:05<00:00, 9596.28it/s] \n"
     ]
    },
    {
     "name": "stdout",
     "output_type": "stream",
     "text": [
      "Got the result from ./20/train/filtrations/2/RadialFiltration_19_12/gray/diagrams.npy\n",
      "Applying Scaler to persistence diagrams.\n",
      "Got the result from ./20/train/filtrations/2/RadialFiltration_19_12/red/diagrams.npy\n",
      "Applying Scaler to persistence diagrams.\n",
      "Got the result from ./20/train/filtrations/2/RadialFiltration_19_12/green/diagrams.npy\n",
      "Applying Scaler to persistence diagrams.\n",
      "Got the result from ./20/train/filtrations/2/RadialFiltration_19_12/blue/diagrams.npy\n",
      "Applying Scaler to persistence diagrams.\n",
      "Applying filtration 19/72: 2/RadialFiltration_19_19\n",
      "RGB images received. Transforming to grayscale.\n"
     ]
    },
    {
     "name": "stderr",
     "output_type": "stream",
     "text": [
      "rgb2gray: 100%|██████████| 50000/50000 [00:05<00:00, 9043.35it/s] \n"
     ]
    },
    {
     "name": "stdout",
     "output_type": "stream",
     "text": [
      "Got the result from ./20/train/filtrations/2/RadialFiltration_19_19/gray/diagrams.npy\n",
      "Applying Scaler to persistence diagrams.\n",
      "Got the result from ./20/train/filtrations/2/RadialFiltration_19_19/red/diagrams.npy\n",
      "Applying Scaler to persistence diagrams.\n",
      "Got the result from ./20/train/filtrations/2/RadialFiltration_19_19/green/diagrams.npy\n",
      "Applying Scaler to persistence diagrams.\n",
      "Got the result from ./20/train/filtrations/2/RadialFiltration_19_19/blue/diagrams.npy\n",
      "Applying Scaler to persistence diagrams.\n",
      "Applying filtration 20/72: 2/RadialFiltration_19_26\n",
      "RGB images received. Transforming to grayscale.\n"
     ]
    },
    {
     "name": "stderr",
     "output_type": "stream",
     "text": [
      "rgb2gray: 100%|██████████| 50000/50000 [00:05<00:00, 9395.61it/s] \n"
     ]
    },
    {
     "name": "stdout",
     "output_type": "stream",
     "text": [
      "Got the result from ./20/train/filtrations/2/RadialFiltration_19_26/gray/diagrams.npy\n",
      "Applying Scaler to persistence diagrams.\n",
      "Got the result from ./20/train/filtrations/2/RadialFiltration_19_26/red/diagrams.npy\n",
      "Applying Scaler to persistence diagrams.\n",
      "Got the result from ./20/train/filtrations/2/RadialFiltration_19_26/green/diagrams.npy\n",
      "Applying Scaler to persistence diagrams.\n",
      "Got the result from ./20/train/filtrations/2/RadialFiltration_19_26/blue/diagrams.npy\n",
      "Applying Scaler to persistence diagrams.\n",
      "Applying filtration 21/72: 2/RadialFiltration_26_5\n",
      "RGB images received. Transforming to grayscale.\n"
     ]
    },
    {
     "name": "stderr",
     "output_type": "stream",
     "text": [
      "rgb2gray: 100%|██████████| 50000/50000 [00:05<00:00, 9069.26it/s] \n"
     ]
    },
    {
     "name": "stdout",
     "output_type": "stream",
     "text": [
      "Got the result from ./20/train/filtrations/2/RadialFiltration_26_5/gray/diagrams.npy\n",
      "Applying Scaler to persistence diagrams.\n",
      "Got the result from ./20/train/filtrations/2/RadialFiltration_26_5/red/diagrams.npy\n",
      "Applying Scaler to persistence diagrams.\n",
      "Got the result from ./20/train/filtrations/2/RadialFiltration_26_5/green/diagrams.npy\n",
      "Applying Scaler to persistence diagrams.\n",
      "Got the result from ./20/train/filtrations/2/RadialFiltration_26_5/blue/diagrams.npy\n",
      "Applying Scaler to persistence diagrams.\n",
      "Applying filtration 22/72: 2/RadialFiltration_26_12\n",
      "RGB images received. Transforming to grayscale.\n"
     ]
    },
    {
     "name": "stderr",
     "output_type": "stream",
     "text": [
      "rgb2gray: 100%|██████████| 50000/50000 [00:05<00:00, 9300.46it/s] \n"
     ]
    },
    {
     "name": "stdout",
     "output_type": "stream",
     "text": [
      "Got the result from ./20/train/filtrations/2/RadialFiltration_26_12/gray/diagrams.npy\n",
      "Applying Scaler to persistence diagrams.\n",
      "Got the result from ./20/train/filtrations/2/RadialFiltration_26_12/red/diagrams.npy\n",
      "Applying Scaler to persistence diagrams.\n",
      "Got the result from ./20/train/filtrations/2/RadialFiltration_26_12/green/diagrams.npy\n",
      "Applying Scaler to persistence diagrams.\n",
      "Got the result from ./20/train/filtrations/2/RadialFiltration_26_12/blue/diagrams.npy\n",
      "Applying Scaler to persistence diagrams.\n",
      "Applying filtration 23/72: 2/RadialFiltration_26_19\n",
      "RGB images received. Transforming to grayscale.\n"
     ]
    },
    {
     "name": "stderr",
     "output_type": "stream",
     "text": [
      "rgb2gray: 100%|██████████| 50000/50000 [00:05<00:00, 8862.89it/s]\n"
     ]
    },
    {
     "name": "stdout",
     "output_type": "stream",
     "text": [
      "Got the result from ./20/train/filtrations/2/RadialFiltration_26_19/gray/diagrams.npy\n",
      "Applying Scaler to persistence diagrams.\n",
      "Got the result from ./20/train/filtrations/2/RadialFiltration_26_19/red/diagrams.npy\n",
      "Applying Scaler to persistence diagrams.\n",
      "Got the result from ./20/train/filtrations/2/RadialFiltration_26_19/green/diagrams.npy\n",
      "Applying Scaler to persistence diagrams.\n",
      "Got the result from ./20/train/filtrations/2/RadialFiltration_26_19/blue/diagrams.npy\n",
      "Applying Scaler to persistence diagrams.\n",
      "Applying filtration 24/72: 2/RadialFiltration_26_26\n",
      "RGB images received. Transforming to grayscale.\n"
     ]
    },
    {
     "name": "stderr",
     "output_type": "stream",
     "text": [
      "rgb2gray: 100%|██████████| 50000/50000 [00:05<00:00, 9223.64it/s] \n"
     ]
    },
    {
     "name": "stdout",
     "output_type": "stream",
     "text": [
      "Got the result from ./20/train/filtrations/2/RadialFiltration_26_26/gray/diagrams.npy\n",
      "Applying Scaler to persistence diagrams.\n",
      "Got the result from ./20/train/filtrations/2/RadialFiltration_26_26/red/diagrams.npy\n",
      "Applying Scaler to persistence diagrams.\n",
      "Got the result from ./20/train/filtrations/2/RadialFiltration_26_26/green/diagrams.npy\n",
      "Applying Scaler to persistence diagrams.\n",
      "Got the result from ./20/train/filtrations/2/RadialFiltration_26_26/blue/diagrams.npy\n",
      "Applying Scaler to persistence diagrams.\n",
      "Applying filtration 25/72: 4/HeightFiltrartion_-1_-1\n",
      "RGB images received. Transforming to grayscale.\n"
     ]
    },
    {
     "name": "stderr",
     "output_type": "stream",
     "text": [
      "rgb2gray: 100%|██████████| 50000/50000 [00:05<00:00, 8571.83it/s]\n"
     ]
    },
    {
     "name": "stdout",
     "output_type": "stream",
     "text": [
      "Got the result from ./20/train/filtrations/4/HeightFiltrartion_-1_-1/gray/diagrams.npy\n",
      "Applying Scaler to persistence diagrams.\n",
      "Got the result from ./20/train/filtrations/4/HeightFiltrartion_-1_-1/red/diagrams.npy\n",
      "Applying Scaler to persistence diagrams.\n",
      "Got the result from ./20/train/filtrations/4/HeightFiltrartion_-1_-1/green/diagrams.npy\n",
      "Applying Scaler to persistence diagrams.\n",
      "Got the result from ./20/train/filtrations/4/HeightFiltrartion_-1_-1/blue/diagrams.npy\n",
      "Applying Scaler to persistence diagrams.\n",
      "Applying filtration 26/72: 4/HeightFiltrartion_1_1\n",
      "RGB images received. Transforming to grayscale.\n"
     ]
    },
    {
     "name": "stderr",
     "output_type": "stream",
     "text": [
      "rgb2gray: 100%|██████████| 50000/50000 [00:05<00:00, 8975.28it/s] \n"
     ]
    },
    {
     "name": "stdout",
     "output_type": "stream",
     "text": [
      "Got the result from ./20/train/filtrations/4/HeightFiltrartion_1_1/gray/diagrams.npy\n",
      "Applying Scaler to persistence diagrams.\n",
      "Got the result from ./20/train/filtrations/4/HeightFiltrartion_1_1/red/diagrams.npy\n",
      "Applying Scaler to persistence diagrams.\n",
      "Got the result from ./20/train/filtrations/4/HeightFiltrartion_1_1/green/diagrams.npy\n",
      "Applying Scaler to persistence diagrams.\n",
      "Got the result from ./20/train/filtrations/4/HeightFiltrartion_1_1/blue/diagrams.npy\n",
      "Applying Scaler to persistence diagrams.\n",
      "Applying filtration 27/72: 4/HeightFiltrartion_1_-1\n",
      "RGB images received. Transforming to grayscale.\n"
     ]
    },
    {
     "name": "stderr",
     "output_type": "stream",
     "text": [
      "rgb2gray: 100%|██████████| 50000/50000 [00:05<00:00, 8881.51it/s] \n"
     ]
    },
    {
     "name": "stdout",
     "output_type": "stream",
     "text": [
      "Got the result from ./20/train/filtrations/4/HeightFiltrartion_1_-1/gray/diagrams.npy\n",
      "Applying Scaler to persistence diagrams.\n",
      "Got the result from ./20/train/filtrations/4/HeightFiltrartion_1_-1/red/diagrams.npy\n",
      "Applying Scaler to persistence diagrams.\n",
      "Got the result from ./20/train/filtrations/4/HeightFiltrartion_1_-1/green/diagrams.npy\n",
      "Applying Scaler to persistence diagrams.\n",
      "Got the result from ./20/train/filtrations/4/HeightFiltrartion_1_-1/blue/diagrams.npy\n",
      "Applying Scaler to persistence diagrams.\n",
      "Applying filtration 28/72: 4/HeightFiltrartion_-1_1\n",
      "RGB images received. Transforming to grayscale.\n"
     ]
    },
    {
     "name": "stderr",
     "output_type": "stream",
     "text": [
      "rgb2gray: 100%|██████████| 50000/50000 [00:05<00:00, 8647.88it/s]\n"
     ]
    },
    {
     "name": "stdout",
     "output_type": "stream",
     "text": [
      "Got the result from ./20/train/filtrations/4/HeightFiltrartion_-1_1/gray/diagrams.npy\n",
      "Applying Scaler to persistence diagrams.\n",
      "Got the result from ./20/train/filtrations/4/HeightFiltrartion_-1_1/red/diagrams.npy\n",
      "Applying Scaler to persistence diagrams.\n",
      "Got the result from ./20/train/filtrations/4/HeightFiltrartion_-1_1/green/diagrams.npy\n",
      "Applying Scaler to persistence diagrams.\n",
      "Got the result from ./20/train/filtrations/4/HeightFiltrartion_-1_1/blue/diagrams.npy\n",
      "Applying Scaler to persistence diagrams.\n",
      "Applying filtration 29/72: 4/HeightFiltrartion_0_-1\n",
      "RGB images received. Transforming to grayscale.\n"
     ]
    },
    {
     "name": "stderr",
     "output_type": "stream",
     "text": [
      "rgb2gray: 100%|██████████| 50000/50000 [00:05<00:00, 8414.35it/s]\n"
     ]
    },
    {
     "name": "stdout",
     "output_type": "stream",
     "text": [
      "Got the result from ./20/train/filtrations/4/HeightFiltrartion_0_-1/gray/diagrams.npy\n",
      "Applying Scaler to persistence diagrams.\n",
      "Got the result from ./20/train/filtrations/4/HeightFiltrartion_0_-1/red/diagrams.npy\n",
      "Applying Scaler to persistence diagrams.\n",
      "Got the result from ./20/train/filtrations/4/HeightFiltrartion_0_-1/green/diagrams.npy\n",
      "Applying Scaler to persistence diagrams.\n",
      "Got the result from ./20/train/filtrations/4/HeightFiltrartion_0_-1/blue/diagrams.npy\n",
      "Applying Scaler to persistence diagrams.\n",
      "Applying filtration 30/72: 4/HeightFiltrartion_0_1\n",
      "RGB images received. Transforming to grayscale.\n"
     ]
    },
    {
     "name": "stderr",
     "output_type": "stream",
     "text": [
      "rgb2gray: 100%|██████████| 50000/50000 [00:06<00:00, 8064.90it/s]\n"
     ]
    },
    {
     "name": "stdout",
     "output_type": "stream",
     "text": [
      "Got the result from ./20/train/filtrations/4/HeightFiltrartion_0_1/gray/diagrams.npy\n",
      "Applying Scaler to persistence diagrams.\n",
      "Got the result from ./20/train/filtrations/4/HeightFiltrartion_0_1/red/diagrams.npy\n",
      "Applying Scaler to persistence diagrams.\n",
      "Got the result from ./20/train/filtrations/4/HeightFiltrartion_0_1/green/diagrams.npy\n",
      "Applying Scaler to persistence diagrams.\n",
      "Got the result from ./20/train/filtrations/4/HeightFiltrartion_0_1/blue/diagrams.npy\n",
      "Applying Scaler to persistence diagrams.\n",
      "Applying filtration 31/72: 4/HeightFiltrartion_-1_0\n",
      "RGB images received. Transforming to grayscale.\n"
     ]
    },
    {
     "name": "stderr",
     "output_type": "stream",
     "text": [
      "rgb2gray: 100%|██████████| 50000/50000 [00:06<00:00, 7854.90it/s]\n"
     ]
    },
    {
     "name": "stdout",
     "output_type": "stream",
     "text": [
      "Got the result from ./20/train/filtrations/4/HeightFiltrartion_-1_0/gray/diagrams.npy\n",
      "Applying Scaler to persistence diagrams.\n",
      "Got the result from ./20/train/filtrations/4/HeightFiltrartion_-1_0/red/diagrams.npy\n",
      "Applying Scaler to persistence diagrams.\n",
      "Got the result from ./20/train/filtrations/4/HeightFiltrartion_-1_0/green/diagrams.npy\n",
      "Applying Scaler to persistence diagrams.\n",
      "Got the result from ./20/train/filtrations/4/HeightFiltrartion_-1_0/blue/diagrams.npy\n",
      "Applying Scaler to persistence diagrams.\n",
      "Applying filtration 32/72: 4/HeightFiltrartion_1_0\n",
      "RGB images received. Transforming to grayscale.\n"
     ]
    },
    {
     "name": "stderr",
     "output_type": "stream",
     "text": [
      "rgb2gray: 100%|██████████| 50000/50000 [00:06<00:00, 8063.15it/s]\n"
     ]
    },
    {
     "name": "stdout",
     "output_type": "stream",
     "text": [
      "Got the result from ./20/train/filtrations/4/HeightFiltrartion_1_0/gray/diagrams.npy\n",
      "Applying Scaler to persistence diagrams.\n",
      "Got the result from ./20/train/filtrations/4/HeightFiltrartion_1_0/red/diagrams.npy\n",
      "Applying Scaler to persistence diagrams.\n",
      "Got the result from ./20/train/filtrations/4/HeightFiltrartion_1_0/green/diagrams.npy\n",
      "Applying Scaler to persistence diagrams.\n",
      "Got the result from ./20/train/filtrations/4/HeightFiltrartion_1_0/blue/diagrams.npy\n",
      "Applying Scaler to persistence diagrams.\n",
      "Applying filtration 33/72: 4/RadialFiltration_5_5\n",
      "RGB images received. Transforming to grayscale.\n"
     ]
    },
    {
     "name": "stderr",
     "output_type": "stream",
     "text": [
      "rgb2gray: 100%|██████████| 50000/50000 [00:06<00:00, 8148.41it/s]\n"
     ]
    },
    {
     "name": "stdout",
     "output_type": "stream",
     "text": [
      "Got the result from ./20/train/filtrations/4/RadialFiltration_5_5/gray/diagrams.npy\n",
      "Applying Scaler to persistence diagrams.\n",
      "Got the result from ./20/train/filtrations/4/RadialFiltration_5_5/red/diagrams.npy\n",
      "Applying Scaler to persistence diagrams.\n",
      "Got the result from ./20/train/filtrations/4/RadialFiltration_5_5/green/diagrams.npy\n",
      "Applying Scaler to persistence diagrams.\n",
      "Got the result from ./20/train/filtrations/4/RadialFiltration_5_5/blue/diagrams.npy\n",
      "Applying Scaler to persistence diagrams.\n",
      "Applying filtration 34/72: 4/RadialFiltration_5_12\n",
      "RGB images received. Transforming to grayscale.\n"
     ]
    },
    {
     "name": "stderr",
     "output_type": "stream",
     "text": [
      "rgb2gray: 100%|██████████| 50000/50000 [00:06<00:00, 7664.30it/s]\n"
     ]
    },
    {
     "name": "stdout",
     "output_type": "stream",
     "text": [
      "Got the result from ./20/train/filtrations/4/RadialFiltration_5_12/gray/diagrams.npy\n",
      "Applying Scaler to persistence diagrams.\n",
      "Got the result from ./20/train/filtrations/4/RadialFiltration_5_12/red/diagrams.npy\n",
      "Applying Scaler to persistence diagrams.\n",
      "Got the result from ./20/train/filtrations/4/RadialFiltration_5_12/green/diagrams.npy\n",
      "Applying Scaler to persistence diagrams.\n",
      "Got the result from ./20/train/filtrations/4/RadialFiltration_5_12/blue/diagrams.npy\n",
      "Applying Scaler to persistence diagrams.\n",
      "Applying filtration 35/72: 4/RadialFiltration_5_19\n",
      "RGB images received. Transforming to grayscale.\n"
     ]
    },
    {
     "name": "stderr",
     "output_type": "stream",
     "text": [
      "rgb2gray: 100%|██████████| 50000/50000 [00:06<00:00, 7372.33it/s]\n"
     ]
    },
    {
     "name": "stdout",
     "output_type": "stream",
     "text": [
      "Got the result from ./20/train/filtrations/4/RadialFiltration_5_19/gray/diagrams.npy\n",
      "Applying Scaler to persistence diagrams.\n",
      "Got the result from ./20/train/filtrations/4/RadialFiltration_5_19/red/diagrams.npy\n",
      "Applying Scaler to persistence diagrams.\n",
      "Got the result from ./20/train/filtrations/4/RadialFiltration_5_19/green/diagrams.npy\n",
      "Applying Scaler to persistence diagrams.\n",
      "Got the result from ./20/train/filtrations/4/RadialFiltration_5_19/blue/diagrams.npy\n",
      "Applying Scaler to persistence diagrams.\n",
      "Applying filtration 36/72: 4/RadialFiltration_5_26\n",
      "RGB images received. Transforming to grayscale.\n"
     ]
    },
    {
     "name": "stderr",
     "output_type": "stream",
     "text": [
      "rgb2gray: 100%|██████████| 50000/50000 [00:07<00:00, 7141.20it/s]\n"
     ]
    },
    {
     "name": "stdout",
     "output_type": "stream",
     "text": [
      "Got the result from ./20/train/filtrations/4/RadialFiltration_5_26/gray/diagrams.npy\n",
      "Applying Scaler to persistence diagrams.\n",
      "Got the result from ./20/train/filtrations/4/RadialFiltration_5_26/red/diagrams.npy\n",
      "Applying Scaler to persistence diagrams.\n",
      "Got the result from ./20/train/filtrations/4/RadialFiltration_5_26/green/diagrams.npy\n",
      "Applying Scaler to persistence diagrams.\n",
      "Got the result from ./20/train/filtrations/4/RadialFiltration_5_26/blue/diagrams.npy\n",
      "Applying Scaler to persistence diagrams.\n",
      "Applying filtration 37/72: 4/RadialFiltration_12_5\n",
      "RGB images received. Transforming to grayscale.\n"
     ]
    },
    {
     "name": "stderr",
     "output_type": "stream",
     "text": [
      "rgb2gray: 100%|██████████| 50000/50000 [00:06<00:00, 7371.77it/s]\n"
     ]
    },
    {
     "name": "stdout",
     "output_type": "stream",
     "text": [
      "Got the result from ./20/train/filtrations/4/RadialFiltration_12_5/gray/diagrams.npy\n",
      "Applying Scaler to persistence diagrams.\n",
      "Got the result from ./20/train/filtrations/4/RadialFiltration_12_5/red/diagrams.npy\n",
      "Applying Scaler to persistence diagrams.\n",
      "Got the result from ./20/train/filtrations/4/RadialFiltration_12_5/green/diagrams.npy\n",
      "Applying Scaler to persistence diagrams.\n",
      "Got the result from ./20/train/filtrations/4/RadialFiltration_12_5/blue/diagrams.npy\n",
      "Applying Scaler to persistence diagrams.\n",
      "Applying filtration 38/72: 4/RadialFiltration_12_12\n",
      "RGB images received. Transforming to grayscale.\n"
     ]
    },
    {
     "name": "stderr",
     "output_type": "stream",
     "text": [
      "rgb2gray: 100%|██████████| 50000/50000 [00:07<00:00, 6765.07it/s]\n"
     ]
    },
    {
     "name": "stdout",
     "output_type": "stream",
     "text": [
      "Got the result from ./20/train/filtrations/4/RadialFiltration_12_12/gray/diagrams.npy\n",
      "Applying Scaler to persistence diagrams.\n",
      "Got the result from ./20/train/filtrations/4/RadialFiltration_12_12/red/diagrams.npy\n",
      "Applying Scaler to persistence diagrams.\n",
      "Got the result from ./20/train/filtrations/4/RadialFiltration_12_12/green/diagrams.npy\n",
      "Applying Scaler to persistence diagrams.\n",
      "Got the result from ./20/train/filtrations/4/RadialFiltration_12_12/blue/diagrams.npy\n",
      "Applying Scaler to persistence diagrams.\n",
      "Applying filtration 39/72: 4/RadialFiltration_12_19\n",
      "RGB images received. Transforming to grayscale.\n"
     ]
    },
    {
     "name": "stderr",
     "output_type": "stream",
     "text": [
      "rgb2gray: 100%|██████████| 50000/50000 [00:06<00:00, 7215.54it/s]\n"
     ]
    },
    {
     "name": "stdout",
     "output_type": "stream",
     "text": [
      "Got the result from ./20/train/filtrations/4/RadialFiltration_12_19/gray/diagrams.npy\n",
      "Applying Scaler to persistence diagrams.\n",
      "Got the result from ./20/train/filtrations/4/RadialFiltration_12_19/red/diagrams.npy\n",
      "Applying Scaler to persistence diagrams.\n",
      "Got the result from ./20/train/filtrations/4/RadialFiltration_12_19/green/diagrams.npy\n",
      "Applying Scaler to persistence diagrams.\n",
      "Got the result from ./20/train/filtrations/4/RadialFiltration_12_19/blue/diagrams.npy\n",
      "Applying Scaler to persistence diagrams.\n",
      "Applying filtration 40/72: 4/RadialFiltration_12_26\n",
      "RGB images received. Transforming to grayscale.\n"
     ]
    },
    {
     "name": "stderr",
     "output_type": "stream",
     "text": [
      "rgb2gray: 100%|██████████| 50000/50000 [00:07<00:00, 6715.81it/s]\n"
     ]
    },
    {
     "name": "stdout",
     "output_type": "stream",
     "text": [
      "Got the result from ./20/train/filtrations/4/RadialFiltration_12_26/gray/diagrams.npy\n",
      "Applying Scaler to persistence diagrams.\n",
      "Got the result from ./20/train/filtrations/4/RadialFiltration_12_26/red/diagrams.npy\n",
      "Applying Scaler to persistence diagrams.\n",
      "Got the result from ./20/train/filtrations/4/RadialFiltration_12_26/green/diagrams.npy\n",
      "Applying Scaler to persistence diagrams.\n",
      "Got the result from ./20/train/filtrations/4/RadialFiltration_12_26/blue/diagrams.npy\n",
      "Applying Scaler to persistence diagrams.\n",
      "Applying filtration 41/72: 4/RadialFiltration_19_5\n",
      "RGB images received. Transforming to grayscale.\n"
     ]
    },
    {
     "name": "stderr",
     "output_type": "stream",
     "text": [
      "rgb2gray: 100%|██████████| 50000/50000 [00:07<00:00, 6734.53it/s]\n"
     ]
    },
    {
     "name": "stdout",
     "output_type": "stream",
     "text": [
      "Got the result from ./20/train/filtrations/4/RadialFiltration_19_5/gray/diagrams.npy\n",
      "Applying Scaler to persistence diagrams.\n",
      "Got the result from ./20/train/filtrations/4/RadialFiltration_19_5/red/diagrams.npy\n",
      "Applying Scaler to persistence diagrams.\n",
      "Got the result from ./20/train/filtrations/4/RadialFiltration_19_5/green/diagrams.npy\n",
      "Applying Scaler to persistence diagrams.\n",
      "Got the result from ./20/train/filtrations/4/RadialFiltration_19_5/blue/diagrams.npy\n",
      "Applying Scaler to persistence diagrams.\n",
      "Applying filtration 42/72: 4/RadialFiltration_19_12\n",
      "RGB images received. Transforming to grayscale.\n"
     ]
    },
    {
     "name": "stderr",
     "output_type": "stream",
     "text": [
      "rgb2gray: 100%|██████████| 50000/50000 [00:07<00:00, 6344.05it/s]\n"
     ]
    },
    {
     "name": "stdout",
     "output_type": "stream",
     "text": [
      "Got the result from ./20/train/filtrations/4/RadialFiltration_19_12/gray/diagrams.npy\n",
      "Applying Scaler to persistence diagrams.\n",
      "Got the result from ./20/train/filtrations/4/RadialFiltration_19_12/red/diagrams.npy\n",
      "Applying Scaler to persistence diagrams.\n",
      "Got the result from ./20/train/filtrations/4/RadialFiltration_19_12/green/diagrams.npy\n",
      "Applying Scaler to persistence diagrams.\n",
      "Got the result from ./20/train/filtrations/4/RadialFiltration_19_12/blue/diagrams.npy\n",
      "Applying Scaler to persistence diagrams.\n",
      "Applying filtration 43/72: 4/RadialFiltration_19_19\n",
      "RGB images received. Transforming to grayscale.\n"
     ]
    },
    {
     "name": "stderr",
     "output_type": "stream",
     "text": [
      "rgb2gray: 100%|██████████| 50000/50000 [00:07<00:00, 6387.53it/s]\n"
     ]
    },
    {
     "name": "stdout",
     "output_type": "stream",
     "text": [
      "Got the result from ./20/train/filtrations/4/RadialFiltration_19_19/gray/diagrams.npy\n",
      "Applying Scaler to persistence diagrams.\n",
      "Got the result from ./20/train/filtrations/4/RadialFiltration_19_19/red/diagrams.npy\n",
      "Applying Scaler to persistence diagrams.\n",
      "Got the result from ./20/train/filtrations/4/RadialFiltration_19_19/green/diagrams.npy\n",
      "Applying Scaler to persistence diagrams.\n",
      "Got the result from ./20/train/filtrations/4/RadialFiltration_19_19/blue/diagrams.npy\n",
      "Applying Scaler to persistence diagrams.\n",
      "Applying filtration 44/72: 4/RadialFiltration_19_26\n",
      "RGB images received. Transforming to grayscale.\n"
     ]
    },
    {
     "name": "stderr",
     "output_type": "stream",
     "text": [
      "rgb2gray: 100%|██████████| 50000/50000 [00:07<00:00, 6885.62it/s]\n"
     ]
    },
    {
     "name": "stdout",
     "output_type": "stream",
     "text": [
      "Got the result from ./20/train/filtrations/4/RadialFiltration_19_26/gray/diagrams.npy\n",
      "Applying Scaler to persistence diagrams.\n",
      "Got the result from ./20/train/filtrations/4/RadialFiltration_19_26/red/diagrams.npy\n",
      "Applying Scaler to persistence diagrams.\n",
      "Got the result from ./20/train/filtrations/4/RadialFiltration_19_26/green/diagrams.npy\n",
      "Applying Scaler to persistence diagrams.\n",
      "Got the result from ./20/train/filtrations/4/RadialFiltration_19_26/blue/diagrams.npy\n",
      "Applying Scaler to persistence diagrams.\n",
      "Applying filtration 45/72: 4/RadialFiltration_26_5\n",
      "RGB images received. Transforming to grayscale.\n"
     ]
    },
    {
     "name": "stderr",
     "output_type": "stream",
     "text": [
      "rgb2gray: 100%|██████████| 50000/50000 [00:08<00:00, 6071.59it/s]\n"
     ]
    },
    {
     "name": "stdout",
     "output_type": "stream",
     "text": [
      "Got the result from ./20/train/filtrations/4/RadialFiltration_26_5/gray/diagrams.npy\n",
      "Applying Scaler to persistence diagrams.\n",
      "Got the result from ./20/train/filtrations/4/RadialFiltration_26_5/red/diagrams.npy\n",
      "Applying Scaler to persistence diagrams.\n",
      "Got the result from ./20/train/filtrations/4/RadialFiltration_26_5/green/diagrams.npy\n",
      "Applying Scaler to persistence diagrams.\n",
      "Got the result from ./20/train/filtrations/4/RadialFiltration_26_5/blue/diagrams.npy\n",
      "Applying Scaler to persistence diagrams.\n",
      "Applying filtration 46/72: 4/RadialFiltration_26_12\n",
      "RGB images received. Transforming to grayscale.\n"
     ]
    },
    {
     "name": "stderr",
     "output_type": "stream",
     "text": [
      "rgb2gray: 100%|██████████| 50000/50000 [00:07<00:00, 6653.82it/s]\n"
     ]
    },
    {
     "name": "stdout",
     "output_type": "stream",
     "text": [
      "Got the result from ./20/train/filtrations/4/RadialFiltration_26_12/gray/diagrams.npy\n",
      "Applying Scaler to persistence diagrams.\n",
      "Got the result from ./20/train/filtrations/4/RadialFiltration_26_12/red/diagrams.npy\n",
      "Applying Scaler to persistence diagrams.\n",
      "Got the result from ./20/train/filtrations/4/RadialFiltration_26_12/green/diagrams.npy\n",
      "Applying Scaler to persistence diagrams.\n",
      "Got the result from ./20/train/filtrations/4/RadialFiltration_26_12/blue/diagrams.npy\n",
      "Applying Scaler to persistence diagrams.\n",
      "Applying filtration 47/72: 4/RadialFiltration_26_19\n",
      "RGB images received. Transforming to grayscale.\n"
     ]
    },
    {
     "name": "stderr",
     "output_type": "stream",
     "text": [
      "rgb2gray: 100%|██████████| 50000/50000 [00:07<00:00, 6302.68it/s]\n"
     ]
    },
    {
     "name": "stdout",
     "output_type": "stream",
     "text": [
      "Got the result from ./20/train/filtrations/4/RadialFiltration_26_19/gray/diagrams.npy\n",
      "Applying Scaler to persistence diagrams.\n",
      "Got the result from ./20/train/filtrations/4/RadialFiltration_26_19/red/diagrams.npy\n",
      "Applying Scaler to persistence diagrams.\n",
      "Got the result from ./20/train/filtrations/4/RadialFiltration_26_19/green/diagrams.npy\n",
      "Applying Scaler to persistence diagrams.\n",
      "Got the result from ./20/train/filtrations/4/RadialFiltration_26_19/blue/diagrams.npy\n",
      "Applying Scaler to persistence diagrams.\n",
      "Applying filtration 48/72: 4/RadialFiltration_26_26\n",
      "RGB images received. Transforming to grayscale.\n"
     ]
    },
    {
     "name": "stderr",
     "output_type": "stream",
     "text": [
      "rgb2gray: 100%|██████████| 50000/50000 [00:07<00:00, 6349.00it/s]\n"
     ]
    },
    {
     "name": "stdout",
     "output_type": "stream",
     "text": [
      "Got the result from ./20/train/filtrations/4/RadialFiltration_26_26/gray/diagrams.npy\n",
      "Applying Scaler to persistence diagrams.\n",
      "Got the result from ./20/train/filtrations/4/RadialFiltration_26_26/red/diagrams.npy\n",
      "Applying Scaler to persistence diagrams.\n",
      "Got the result from ./20/train/filtrations/4/RadialFiltration_26_26/green/diagrams.npy\n",
      "Applying Scaler to persistence diagrams.\n",
      "Got the result from ./20/train/filtrations/4/RadialFiltration_26_26/blue/diagrams.npy\n",
      "Applying Scaler to persistence diagrams.\n",
      "Applying filtration 49/72: 6/HeightFiltrartion_-1_-1\n",
      "RGB images received. Transforming to grayscale.\n"
     ]
    },
    {
     "name": "stderr",
     "output_type": "stream",
     "text": [
      "rgb2gray: 100%|██████████| 50000/50000 [00:08<00:00, 5872.84it/s]\n"
     ]
    },
    {
     "name": "stdout",
     "output_type": "stream",
     "text": [
      "Got the result from ./20/train/filtrations/6/HeightFiltrartion_-1_-1/gray/diagrams.npy\n",
      "Applying Scaler to persistence diagrams.\n",
      "Got the result from ./20/train/filtrations/6/HeightFiltrartion_-1_-1/red/diagrams.npy\n",
      "Applying Scaler to persistence diagrams.\n",
      "Got the result from ./20/train/filtrations/6/HeightFiltrartion_-1_-1/green/diagrams.npy\n",
      "Applying Scaler to persistence diagrams.\n",
      "Got the result from ./20/train/filtrations/6/HeightFiltrartion_-1_-1/blue/diagrams.npy\n",
      "Applying Scaler to persistence diagrams.\n",
      "Applying filtration 50/72: 6/HeightFiltrartion_1_1\n",
      "RGB images received. Transforming to grayscale.\n"
     ]
    },
    {
     "name": "stderr",
     "output_type": "stream",
     "text": [
      "rgb2gray: 100%|██████████| 50000/50000 [00:08<00:00, 6111.72it/s]\n"
     ]
    },
    {
     "name": "stdout",
     "output_type": "stream",
     "text": [
      "Got the result from ./20/train/filtrations/6/HeightFiltrartion_1_1/gray/diagrams.npy\n",
      "Applying Scaler to persistence diagrams.\n",
      "Got the result from ./20/train/filtrations/6/HeightFiltrartion_1_1/red/diagrams.npy\n",
      "Applying Scaler to persistence diagrams.\n",
      "Got the result from ./20/train/filtrations/6/HeightFiltrartion_1_1/green/diagrams.npy\n",
      "Applying Scaler to persistence diagrams.\n",
      "Got the result from ./20/train/filtrations/6/HeightFiltrartion_1_1/blue/diagrams.npy\n",
      "Applying Scaler to persistence diagrams.\n",
      "Applying filtration 51/72: 6/HeightFiltrartion_1_-1\n",
      "RGB images received. Transforming to grayscale.\n"
     ]
    },
    {
     "name": "stderr",
     "output_type": "stream",
     "text": [
      "rgb2gray: 100%|██████████| 50000/50000 [00:08<00:00, 5819.69it/s]\n"
     ]
    },
    {
     "name": "stdout",
     "output_type": "stream",
     "text": [
      "Got the result from ./20/train/filtrations/6/HeightFiltrartion_1_-1/gray/diagrams.npy\n",
      "Applying Scaler to persistence diagrams.\n",
      "Got the result from ./20/train/filtrations/6/HeightFiltrartion_1_-1/red/diagrams.npy\n",
      "Applying Scaler to persistence diagrams.\n",
      "Got the result from ./20/train/filtrations/6/HeightFiltrartion_1_-1/green/diagrams.npy\n",
      "Applying Scaler to persistence diagrams.\n",
      "Got the result from ./20/train/filtrations/6/HeightFiltrartion_1_-1/blue/diagrams.npy\n",
      "Applying Scaler to persistence diagrams.\n",
      "Applying filtration 52/72: 6/HeightFiltrartion_-1_1\n",
      "RGB images received. Transforming to grayscale.\n"
     ]
    },
    {
     "name": "stderr",
     "output_type": "stream",
     "text": [
      "rgb2gray: 100%|██████████| 50000/50000 [00:08<00:00, 5745.42it/s]\n"
     ]
    },
    {
     "name": "stdout",
     "output_type": "stream",
     "text": [
      "Got the result from ./20/train/filtrations/6/HeightFiltrartion_-1_1/gray/diagrams.npy\n",
      "Applying Scaler to persistence diagrams.\n",
      "Got the result from ./20/train/filtrations/6/HeightFiltrartion_-1_1/red/diagrams.npy\n",
      "Applying Scaler to persistence diagrams.\n",
      "Got the result from ./20/train/filtrations/6/HeightFiltrartion_-1_1/green/diagrams.npy\n",
      "Applying Scaler to persistence diagrams.\n",
      "Got the result from ./20/train/filtrations/6/HeightFiltrartion_-1_1/blue/diagrams.npy\n",
      "Applying Scaler to persistence diagrams.\n",
      "Applying filtration 53/72: 6/HeightFiltrartion_0_-1\n",
      "RGB images received. Transforming to grayscale.\n"
     ]
    },
    {
     "name": "stderr",
     "output_type": "stream",
     "text": [
      "rgb2gray: 100%|██████████| 50000/50000 [00:09<00:00, 5473.63it/s]\n"
     ]
    },
    {
     "name": "stdout",
     "output_type": "stream",
     "text": [
      "Got the result from ./20/train/filtrations/6/HeightFiltrartion_0_-1/gray/diagrams.npy\n",
      "Applying Scaler to persistence diagrams.\n",
      "Got the result from ./20/train/filtrations/6/HeightFiltrartion_0_-1/red/diagrams.npy\n",
      "Applying Scaler to persistence diagrams.\n",
      "Got the result from ./20/train/filtrations/6/HeightFiltrartion_0_-1/green/diagrams.npy\n",
      "Applying Scaler to persistence diagrams.\n",
      "Got the result from ./20/train/filtrations/6/HeightFiltrartion_0_-1/blue/diagrams.npy\n",
      "Applying Scaler to persistence diagrams.\n",
      "Applying filtration 54/72: 6/HeightFiltrartion_0_1\n",
      "RGB images received. Transforming to grayscale.\n"
     ]
    },
    {
     "name": "stderr",
     "output_type": "stream",
     "text": [
      "rgb2gray: 100%|██████████| 50000/50000 [00:09<00:00, 5538.42it/s]\n"
     ]
    },
    {
     "name": "stdout",
     "output_type": "stream",
     "text": [
      "Got the result from ./20/train/filtrations/6/HeightFiltrartion_0_1/gray/diagrams.npy\n",
      "Applying Scaler to persistence diagrams.\n",
      "Got the result from ./20/train/filtrations/6/HeightFiltrartion_0_1/red/diagrams.npy\n",
      "Applying Scaler to persistence diagrams.\n",
      "Got the result from ./20/train/filtrations/6/HeightFiltrartion_0_1/green/diagrams.npy\n",
      "Applying Scaler to persistence diagrams.\n",
      "Got the result from ./20/train/filtrations/6/HeightFiltrartion_0_1/blue/diagrams.npy\n",
      "Applying Scaler to persistence diagrams.\n",
      "Applying filtration 55/72: 6/HeightFiltrartion_-1_0\n",
      "RGB images received. Transforming to grayscale.\n"
     ]
    },
    {
     "name": "stderr",
     "output_type": "stream",
     "text": [
      "rgb2gray: 100%|██████████| 50000/50000 [00:09<00:00, 5460.93it/s]\n"
     ]
    },
    {
     "name": "stdout",
     "output_type": "stream",
     "text": [
      "Got the result from ./20/train/filtrations/6/HeightFiltrartion_-1_0/gray/diagrams.npy\n",
      "Applying Scaler to persistence diagrams.\n",
      "Got the result from ./20/train/filtrations/6/HeightFiltrartion_-1_0/red/diagrams.npy\n",
      "Applying Scaler to persistence diagrams.\n",
      "Got the result from ./20/train/filtrations/6/HeightFiltrartion_-1_0/green/diagrams.npy\n",
      "Applying Scaler to persistence diagrams.\n",
      "Got the result from ./20/train/filtrations/6/HeightFiltrartion_-1_0/blue/diagrams.npy\n",
      "Applying Scaler to persistence diagrams.\n",
      "Applying filtration 56/72: 6/HeightFiltrartion_1_0\n",
      "RGB images received. Transforming to grayscale.\n"
     ]
    },
    {
     "name": "stderr",
     "output_type": "stream",
     "text": [
      "rgb2gray: 100%|██████████| 50000/50000 [00:09<00:00, 5454.42it/s]\n"
     ]
    },
    {
     "name": "stdout",
     "output_type": "stream",
     "text": [
      "Got the result from ./20/train/filtrations/6/HeightFiltrartion_1_0/gray/diagrams.npy\n",
      "Applying Scaler to persistence diagrams.\n",
      "Got the result from ./20/train/filtrations/6/HeightFiltrartion_1_0/red/diagrams.npy\n",
      "Applying Scaler to persistence diagrams.\n",
      "Got the result from ./20/train/filtrations/6/HeightFiltrartion_1_0/green/diagrams.npy\n",
      "Applying Scaler to persistence diagrams.\n",
      "Got the result from ./20/train/filtrations/6/HeightFiltrartion_1_0/blue/diagrams.npy\n",
      "Applying Scaler to persistence diagrams.\n",
      "Applying filtration 57/72: 6/RadialFiltration_5_5\n",
      "RGB images received. Transforming to grayscale.\n"
     ]
    },
    {
     "name": "stderr",
     "output_type": "stream",
     "text": [
      "rgb2gray: 100%|██████████| 50000/50000 [00:09<00:00, 5113.56it/s]\n"
     ]
    },
    {
     "name": "stdout",
     "output_type": "stream",
     "text": [
      "Got the result from ./20/train/filtrations/6/RadialFiltration_5_5/gray/diagrams.npy\n",
      "Applying Scaler to persistence diagrams.\n",
      "Got the result from ./20/train/filtrations/6/RadialFiltration_5_5/red/diagrams.npy\n",
      "Applying Scaler to persistence diagrams.\n",
      "Got the result from ./20/train/filtrations/6/RadialFiltration_5_5/green/diagrams.npy\n",
      "Applying Scaler to persistence diagrams.\n",
      "Got the result from ./20/train/filtrations/6/RadialFiltration_5_5/blue/diagrams.npy\n",
      "Applying Scaler to persistence diagrams.\n",
      "Applying filtration 58/72: 6/RadialFiltration_5_12\n",
      "RGB images received. Transforming to grayscale.\n"
     ]
    },
    {
     "name": "stderr",
     "output_type": "stream",
     "text": [
      "rgb2gray: 100%|██████████| 50000/50000 [00:09<00:00, 5204.09it/s]\n"
     ]
    },
    {
     "name": "stdout",
     "output_type": "stream",
     "text": [
      "Got the result from ./20/train/filtrations/6/RadialFiltration_5_12/gray/diagrams.npy\n",
      "Applying Scaler to persistence diagrams.\n",
      "Got the result from ./20/train/filtrations/6/RadialFiltration_5_12/red/diagrams.npy\n",
      "Applying Scaler to persistence diagrams.\n",
      "Got the result from ./20/train/filtrations/6/RadialFiltration_5_12/green/diagrams.npy\n",
      "Applying Scaler to persistence diagrams.\n",
      "Got the result from ./20/train/filtrations/6/RadialFiltration_5_12/blue/diagrams.npy\n",
      "Applying Scaler to persistence diagrams.\n",
      "Applying filtration 59/72: 6/RadialFiltration_5_19\n",
      "RGB images received. Transforming to grayscale.\n"
     ]
    },
    {
     "name": "stderr",
     "output_type": "stream",
     "text": [
      "rgb2gray: 100%|██████████| 50000/50000 [00:09<00:00, 5169.42it/s]\n"
     ]
    },
    {
     "name": "stdout",
     "output_type": "stream",
     "text": [
      "Got the result from ./20/train/filtrations/6/RadialFiltration_5_19/gray/diagrams.npy\n",
      "Applying Scaler to persistence diagrams.\n",
      "Got the result from ./20/train/filtrations/6/RadialFiltration_5_19/red/diagrams.npy\n",
      "Applying Scaler to persistence diagrams.\n",
      "Got the result from ./20/train/filtrations/6/RadialFiltration_5_19/green/diagrams.npy\n",
      "Applying Scaler to persistence diagrams.\n",
      "Got the result from ./20/train/filtrations/6/RadialFiltration_5_19/blue/diagrams.npy\n",
      "Applying Scaler to persistence diagrams.\n",
      "Applying filtration 60/72: 6/RadialFiltration_5_26\n",
      "RGB images received. Transforming to grayscale.\n"
     ]
    },
    {
     "name": "stderr",
     "output_type": "stream",
     "text": [
      "rgb2gray: 100%|██████████| 50000/50000 [00:09<00:00, 5150.25it/s]\n"
     ]
    },
    {
     "name": "stdout",
     "output_type": "stream",
     "text": [
      "Got the result from ./20/train/filtrations/6/RadialFiltration_5_26/gray/diagrams.npy\n",
      "Applying Scaler to persistence diagrams.\n",
      "Got the result from ./20/train/filtrations/6/RadialFiltration_5_26/red/diagrams.npy\n",
      "Applying Scaler to persistence diagrams.\n",
      "Got the result from ./20/train/filtrations/6/RadialFiltration_5_26/green/diagrams.npy\n",
      "Applying Scaler to persistence diagrams.\n",
      "Got the result from ./20/train/filtrations/6/RadialFiltration_5_26/blue/diagrams.npy\n",
      "Applying Scaler to persistence diagrams.\n",
      "Applying filtration 61/72: 6/RadialFiltration_12_5\n",
      "RGB images received. Transforming to grayscale.\n"
     ]
    },
    {
     "name": "stderr",
     "output_type": "stream",
     "text": [
      "rgb2gray: 100%|██████████| 50000/50000 [00:09<00:00, 5117.71it/s]\n"
     ]
    },
    {
     "name": "stdout",
     "output_type": "stream",
     "text": [
      "Got the result from ./20/train/filtrations/6/RadialFiltration_12_5/gray/diagrams.npy\n",
      "Applying Scaler to persistence diagrams.\n",
      "Got the result from ./20/train/filtrations/6/RadialFiltration_12_5/red/diagrams.npy\n",
      "Applying Scaler to persistence diagrams.\n",
      "Got the result from ./20/train/filtrations/6/RadialFiltration_12_5/green/diagrams.npy\n",
      "Applying Scaler to persistence diagrams.\n",
      "Got the result from ./20/train/filtrations/6/RadialFiltration_12_5/blue/diagrams.npy\n",
      "Applying Scaler to persistence diagrams.\n",
      "Applying filtration 62/72: 6/RadialFiltration_12_12\n",
      "RGB images received. Transforming to grayscale.\n"
     ]
    },
    {
     "name": "stderr",
     "output_type": "stream",
     "text": [
      "rgb2gray: 100%|██████████| 50000/50000 [00:09<00:00, 5087.90it/s]\n"
     ]
    },
    {
     "name": "stdout",
     "output_type": "stream",
     "text": [
      "Got the result from ./20/train/filtrations/6/RadialFiltration_12_12/gray/diagrams.npy\n",
      "Applying Scaler to persistence diagrams.\n",
      "Got the result from ./20/train/filtrations/6/RadialFiltration_12_12/red/diagrams.npy\n",
      "Applying Scaler to persistence diagrams.\n",
      "Got the result from ./20/train/filtrations/6/RadialFiltration_12_12/green/diagrams.npy\n",
      "Applying Scaler to persistence diagrams.\n",
      "Got the result from ./20/train/filtrations/6/RadialFiltration_12_12/blue/diagrams.npy\n",
      "Applying Scaler to persistence diagrams.\n",
      "Applying filtration 63/72: 6/RadialFiltration_12_19\n",
      "RGB images received. Transforming to grayscale.\n"
     ]
    },
    {
     "name": "stderr",
     "output_type": "stream",
     "text": [
      "rgb2gray: 100%|██████████| 50000/50000 [00:10<00:00, 4965.76it/s]\n"
     ]
    },
    {
     "name": "stdout",
     "output_type": "stream",
     "text": [
      "Got the result from ./20/train/filtrations/6/RadialFiltration_12_19/gray/diagrams.npy\n",
      "Applying Scaler to persistence diagrams.\n",
      "Got the result from ./20/train/filtrations/6/RadialFiltration_12_19/red/diagrams.npy\n",
      "Applying Scaler to persistence diagrams.\n",
      "Got the result from ./20/train/filtrations/6/RadialFiltration_12_19/green/diagrams.npy\n",
      "Applying Scaler to persistence diagrams.\n",
      "Got the result from ./20/train/filtrations/6/RadialFiltration_12_19/blue/diagrams.npy\n",
      "Applying Scaler to persistence diagrams.\n",
      "Applying filtration 64/72: 6/RadialFiltration_12_26\n",
      "RGB images received. Transforming to grayscale.\n"
     ]
    },
    {
     "name": "stderr",
     "output_type": "stream",
     "text": [
      "rgb2gray: 100%|██████████| 50000/50000 [00:10<00:00, 4928.81it/s]\n"
     ]
    },
    {
     "name": "stdout",
     "output_type": "stream",
     "text": [
      "Got the result from ./20/train/filtrations/6/RadialFiltration_12_26/gray/diagrams.npy\n",
      "Applying Scaler to persistence diagrams.\n",
      "Got the result from ./20/train/filtrations/6/RadialFiltration_12_26/red/diagrams.npy\n",
      "Applying Scaler to persistence diagrams.\n",
      "Got the result from ./20/train/filtrations/6/RadialFiltration_12_26/green/diagrams.npy\n",
      "Applying Scaler to persistence diagrams.\n",
      "Got the result from ./20/train/filtrations/6/RadialFiltration_12_26/blue/diagrams.npy\n",
      "Applying Scaler to persistence diagrams.\n",
      "Applying filtration 65/72: 6/RadialFiltration_19_5\n",
      "RGB images received. Transforming to grayscale.\n"
     ]
    },
    {
     "name": "stderr",
     "output_type": "stream",
     "text": [
      "rgb2gray: 100%|██████████| 50000/50000 [00:10<00:00, 4723.63it/s]\n"
     ]
    },
    {
     "name": "stdout",
     "output_type": "stream",
     "text": [
      "Got the result from ./20/train/filtrations/6/RadialFiltration_19_5/gray/diagrams.npy\n",
      "Applying Scaler to persistence diagrams.\n",
      "Got the result from ./20/train/filtrations/6/RadialFiltration_19_5/red/diagrams.npy\n",
      "Applying Scaler to persistence diagrams.\n",
      "Got the result from ./20/train/filtrations/6/RadialFiltration_19_5/green/diagrams.npy\n",
      "Applying Scaler to persistence diagrams.\n",
      "Got the result from ./20/train/filtrations/6/RadialFiltration_19_5/blue/diagrams.npy\n",
      "Applying Scaler to persistence diagrams.\n",
      "Applying filtration 66/72: 6/RadialFiltration_19_12\n",
      "RGB images received. Transforming to grayscale.\n"
     ]
    },
    {
     "name": "stderr",
     "output_type": "stream",
     "text": [
      "rgb2gray: 100%|██████████| 50000/50000 [00:10<00:00, 4604.87it/s]\n"
     ]
    },
    {
     "name": "stdout",
     "output_type": "stream",
     "text": [
      "Got the result from ./20/train/filtrations/6/RadialFiltration_19_12/gray/diagrams.npy\n",
      "Applying Scaler to persistence diagrams.\n",
      "Got the result from ./20/train/filtrations/6/RadialFiltration_19_12/red/diagrams.npy\n",
      "Applying Scaler to persistence diagrams.\n",
      "Got the result from ./20/train/filtrations/6/RadialFiltration_19_12/green/diagrams.npy\n",
      "Applying Scaler to persistence diagrams.\n",
      "Got the result from ./20/train/filtrations/6/RadialFiltration_19_12/blue/diagrams.npy\n",
      "Applying Scaler to persistence diagrams.\n",
      "Applying filtration 67/72: 6/RadialFiltration_19_19\n",
      "RGB images received. Transforming to grayscale.\n"
     ]
    },
    {
     "name": "stderr",
     "output_type": "stream",
     "text": [
      "rgb2gray: 100%|██████████| 50000/50000 [00:10<00:00, 4778.21it/s]\n"
     ]
    },
    {
     "name": "stdout",
     "output_type": "stream",
     "text": [
      "Got the result from ./20/train/filtrations/6/RadialFiltration_19_19/gray/diagrams.npy\n",
      "Applying Scaler to persistence diagrams.\n",
      "Got the result from ./20/train/filtrations/6/RadialFiltration_19_19/red/diagrams.npy\n",
      "Applying Scaler to persistence diagrams.\n",
      "Got the result from ./20/train/filtrations/6/RadialFiltration_19_19/green/diagrams.npy\n",
      "Applying Scaler to persistence diagrams.\n",
      "Got the result from ./20/train/filtrations/6/RadialFiltration_19_19/blue/diagrams.npy\n",
      "Applying Scaler to persistence diagrams.\n",
      "Applying filtration 68/72: 6/RadialFiltration_19_26\n",
      "RGB images received. Transforming to grayscale.\n"
     ]
    },
    {
     "name": "stderr",
     "output_type": "stream",
     "text": [
      "rgb2gray: 100%|██████████| 50000/50000 [00:10<00:00, 4784.54it/s]\n"
     ]
    },
    {
     "name": "stdout",
     "output_type": "stream",
     "text": [
      "Got the result from ./20/train/filtrations/6/RadialFiltration_19_26/gray/diagrams.npy\n",
      "Applying Scaler to persistence diagrams.\n",
      "Got the result from ./20/train/filtrations/6/RadialFiltration_19_26/red/diagrams.npy\n",
      "Applying Scaler to persistence diagrams.\n",
      "Got the result from ./20/train/filtrations/6/RadialFiltration_19_26/green/diagrams.npy\n",
      "Applying Scaler to persistence diagrams.\n",
      "Got the result from ./20/train/filtrations/6/RadialFiltration_19_26/blue/diagrams.npy\n",
      "Applying Scaler to persistence diagrams.\n",
      "Applying filtration 69/72: 6/RadialFiltration_26_5\n",
      "RGB images received. Transforming to grayscale.\n"
     ]
    },
    {
     "name": "stderr",
     "output_type": "stream",
     "text": [
      "rgb2gray: 100%|██████████| 50000/50000 [00:10<00:00, 4690.10it/s]\n"
     ]
    },
    {
     "name": "stdout",
     "output_type": "stream",
     "text": [
      "Got the result from ./20/train/filtrations/6/RadialFiltration_26_5/gray/diagrams.npy\n",
      "Applying Scaler to persistence diagrams.\n",
      "Got the result from ./20/train/filtrations/6/RadialFiltration_26_5/red/diagrams.npy\n",
      "Applying Scaler to persistence diagrams.\n",
      "Got the result from ./20/train/filtrations/6/RadialFiltration_26_5/green/diagrams.npy\n",
      "Applying Scaler to persistence diagrams.\n",
      "Got the result from ./20/train/filtrations/6/RadialFiltration_26_5/blue/diagrams.npy\n",
      "Applying Scaler to persistence diagrams.\n",
      "Applying filtration 70/72: 6/RadialFiltration_26_12\n",
      "RGB images received. Transforming to grayscale.\n"
     ]
    },
    {
     "name": "stderr",
     "output_type": "stream",
     "text": [
      "rgb2gray: 100%|██████████| 50000/50000 [00:11<00:00, 4435.65it/s]\n"
     ]
    },
    {
     "name": "stdout",
     "output_type": "stream",
     "text": [
      "Got the result from ./20/train/filtrations/6/RadialFiltration_26_12/gray/diagrams.npy\n",
      "Applying Scaler to persistence diagrams.\n",
      "Got the result from ./20/train/filtrations/6/RadialFiltration_26_12/red/diagrams.npy\n",
      "Applying Scaler to persistence diagrams.\n",
      "Got the result from ./20/train/filtrations/6/RadialFiltration_26_12/green/diagrams.npy\n",
      "Applying Scaler to persistence diagrams.\n",
      "Got the result from ./20/train/filtrations/6/RadialFiltration_26_12/blue/diagrams.npy\n",
      "Applying Scaler to persistence diagrams.\n",
      "Applying filtration 71/72: 6/RadialFiltration_26_19\n",
      "RGB images received. Transforming to grayscale.\n"
     ]
    },
    {
     "name": "stderr",
     "output_type": "stream",
     "text": [
      "rgb2gray: 100%|██████████| 50000/50000 [00:11<00:00, 4410.80it/s]\n"
     ]
    },
    {
     "name": "stdout",
     "output_type": "stream",
     "text": [
      "Got the result from ./20/train/filtrations/6/RadialFiltration_26_19/gray/diagrams.npy\n",
      "Applying Scaler to persistence diagrams.\n",
      "Got the result from ./20/train/filtrations/6/RadialFiltration_26_19/red/diagrams.npy\n",
      "Applying Scaler to persistence diagrams.\n",
      "Got the result from ./20/train/filtrations/6/RadialFiltration_26_19/green/diagrams.npy\n",
      "Applying Scaler to persistence diagrams.\n",
      "Got the result from ./20/train/filtrations/6/RadialFiltration_26_19/blue/diagrams.npy\n",
      "Applying Scaler to persistence diagrams.\n",
      "Applying filtration 72/72: 6/RadialFiltration_26_26\n",
      "RGB images received. Transforming to grayscale.\n"
     ]
    },
    {
     "name": "stderr",
     "output_type": "stream",
     "text": [
      "rgb2gray: 100%|██████████| 50000/50000 [00:11<00:00, 4408.78it/s]\n"
     ]
    },
    {
     "name": "stdout",
     "output_type": "stream",
     "text": [
      "Got the result from ./20/train/filtrations/6/RadialFiltration_26_26/gray/diagrams.npy\n",
      "Applying Scaler to persistence diagrams.\n",
      "Got the result from ./20/train/filtrations/6/RadialFiltration_26_26/red/diagrams.npy\n",
      "Applying Scaler to persistence diagrams.\n",
      "Got the result from ./20/train/filtrations/6/RadialFiltration_26_26/green/diagrams.npy\n",
      "Applying Scaler to persistence diagrams.\n",
      "Got the result from ./20/train/filtrations/6/RadialFiltration_26_26/blue/diagrams.npy\n",
      "Applying Scaler to persistence diagrams.\n",
      "Diagrams requested. Returning diagrams.\n",
      "Calculating inverted images\n",
      "RGB images received. Transforming to grayscale.\n"
     ]
    },
    {
     "name": "stderr",
     "output_type": "stream",
     "text": [
      "rgb2gray: 100%|██████████| 10000/10000 [00:01<00:00, 5800.47it/s]\n"
     ]
    },
    {
     "name": "stdout",
     "output_type": "stream",
     "text": [
      "Got the result from ./20/test/greyscale/gray/diagrams.npy\n",
      "Applying Scaler to persistence diagrams.\n",
      "Got the result from ./20/test/greyscale/red/diagrams.npy\n",
      "Applying Scaler to persistence diagrams.\n",
      "Got the result from ./20/test/greyscale/green/diagrams.npy\n",
      "Applying Scaler to persistence diagrams.\n",
      "Got the result from ./20/test/greyscale/blue/diagrams.npy\n",
      "Applying Scaler to persistence diagrams.\n",
      "RGB images received. Transforming to grayscale.\n"
     ]
    },
    {
     "name": "stderr",
     "output_type": "stream",
     "text": [
      "rgb2gray: 100%|██████████| 10000/10000 [00:01<00:00, 5693.43it/s]\n"
     ]
    },
    {
     "name": "stdout",
     "output_type": "stream",
     "text": [
      "Got the result from ./20/test/inverted_greyscale/gray/diagrams.npy\n",
      "Applying Scaler to persistence diagrams.\n",
      "Got the result from ./20/test/inverted_greyscale/red/diagrams.npy\n",
      "Applying Scaler to persistence diagrams.\n",
      "Got the result from ./20/test/inverted_greyscale/green/diagrams.npy\n",
      "Applying Scaler to persistence diagrams.\n",
      "Got the result from ./20/test/inverted_greyscale/blue/diagrams.npy\n",
      "Applying Scaler to persistence diagrams.\n",
      "Applying filtrations\n",
      "Applying filtration 1/72: 2/HeightFiltrartion_-1_-1\n",
      "RGB images received. Transforming to grayscale.\n"
     ]
    },
    {
     "name": "stderr",
     "output_type": "stream",
     "text": [
      "rgb2gray: 100%|██████████| 10000/10000 [00:02<00:00, 3905.45it/s]\n"
     ]
    },
    {
     "name": "stdout",
     "output_type": "stream",
     "text": [
      "Got the result from ./20/test/filtrations/2/HeightFiltrartion_-1_-1/gray/diagrams.npy\n",
      "Applying Scaler to persistence diagrams.\n",
      "Got the result from ./20/test/filtrations/2/HeightFiltrartion_-1_-1/red/diagrams.npy\n",
      "Applying Scaler to persistence diagrams.\n",
      "Got the result from ./20/test/filtrations/2/HeightFiltrartion_-1_-1/green/diagrams.npy\n",
      "Applying Scaler to persistence diagrams.\n",
      "Got the result from ./20/test/filtrations/2/HeightFiltrartion_-1_-1/blue/diagrams.npy\n",
      "Applying Scaler to persistence diagrams.\n",
      "Applying filtration 2/72: 2/HeightFiltrartion_1_1\n",
      "RGB images received. Transforming to grayscale.\n"
     ]
    },
    {
     "name": "stderr",
     "output_type": "stream",
     "text": [
      "rgb2gray: 100%|██████████| 10000/10000 [00:01<00:00, 5646.53it/s]\n"
     ]
    },
    {
     "name": "stdout",
     "output_type": "stream",
     "text": [
      "Got the result from ./20/test/filtrations/2/HeightFiltrartion_1_1/gray/diagrams.npy\n",
      "Applying Scaler to persistence diagrams.\n",
      "Got the result from ./20/test/filtrations/2/HeightFiltrartion_1_1/red/diagrams.npy\n",
      "Applying Scaler to persistence diagrams.\n",
      "Got the result from ./20/test/filtrations/2/HeightFiltrartion_1_1/green/diagrams.npy\n",
      "Applying Scaler to persistence diagrams.\n",
      "Got the result from ./20/test/filtrations/2/HeightFiltrartion_1_1/blue/diagrams.npy\n",
      "Applying Scaler to persistence diagrams.\n",
      "Applying filtration 3/72: 2/HeightFiltrartion_1_-1\n",
      "RGB images received. Transforming to grayscale.\n"
     ]
    },
    {
     "name": "stderr",
     "output_type": "stream",
     "text": [
      "rgb2gray: 100%|██████████| 10000/10000 [00:02<00:00, 3799.06it/s]\n"
     ]
    },
    {
     "name": "stdout",
     "output_type": "stream",
     "text": [
      "Got the result from ./20/test/filtrations/2/HeightFiltrartion_1_-1/gray/diagrams.npy\n",
      "Applying Scaler to persistence diagrams.\n",
      "Got the result from ./20/test/filtrations/2/HeightFiltrartion_1_-1/red/diagrams.npy\n",
      "Applying Scaler to persistence diagrams.\n",
      "Got the result from ./20/test/filtrations/2/HeightFiltrartion_1_-1/green/diagrams.npy\n",
      "Applying Scaler to persistence diagrams.\n",
      "Got the result from ./20/test/filtrations/2/HeightFiltrartion_1_-1/blue/diagrams.npy\n",
      "Applying Scaler to persistence diagrams.\n",
      "Applying filtration 4/72: 2/HeightFiltrartion_-1_1\n",
      "RGB images received. Transforming to grayscale.\n"
     ]
    },
    {
     "name": "stderr",
     "output_type": "stream",
     "text": [
      "rgb2gray: 100%|██████████| 10000/10000 [00:02<00:00, 3991.97it/s]\n"
     ]
    },
    {
     "name": "stdout",
     "output_type": "stream",
     "text": [
      "Got the result from ./20/test/filtrations/2/HeightFiltrartion_-1_1/gray/diagrams.npy\n",
      "Applying Scaler to persistence diagrams.\n",
      "Got the result from ./20/test/filtrations/2/HeightFiltrartion_-1_1/red/diagrams.npy\n",
      "Applying Scaler to persistence diagrams.\n",
      "Got the result from ./20/test/filtrations/2/HeightFiltrartion_-1_1/green/diagrams.npy\n",
      "Applying Scaler to persistence diagrams.\n",
      "Got the result from ./20/test/filtrations/2/HeightFiltrartion_-1_1/blue/diagrams.npy\n",
      "Applying Scaler to persistence diagrams.\n",
      "Applying filtration 5/72: 2/HeightFiltrartion_0_-1\n",
      "RGB images received. Transforming to grayscale.\n"
     ]
    },
    {
     "name": "stderr",
     "output_type": "stream",
     "text": [
      "rgb2gray: 100%|██████████| 10000/10000 [00:02<00:00, 3831.20it/s]\n"
     ]
    },
    {
     "name": "stdout",
     "output_type": "stream",
     "text": [
      "Got the result from ./20/test/filtrations/2/HeightFiltrartion_0_-1/gray/diagrams.npy\n",
      "Applying Scaler to persistence diagrams.\n",
      "Got the result from ./20/test/filtrations/2/HeightFiltrartion_0_-1/red/diagrams.npy\n",
      "Applying Scaler to persistence diagrams.\n",
      "Got the result from ./20/test/filtrations/2/HeightFiltrartion_0_-1/green/diagrams.npy\n",
      "Applying Scaler to persistence diagrams.\n",
      "Got the result from ./20/test/filtrations/2/HeightFiltrartion_0_-1/blue/diagrams.npy\n",
      "Applying Scaler to persistence diagrams.\n",
      "Applying filtration 6/72: 2/HeightFiltrartion_0_1\n",
      "RGB images received. Transforming to grayscale.\n"
     ]
    },
    {
     "name": "stderr",
     "output_type": "stream",
     "text": [
      "rgb2gray: 100%|██████████| 10000/10000 [00:02<00:00, 3806.96it/s]\n"
     ]
    },
    {
     "name": "stdout",
     "output_type": "stream",
     "text": [
      "Got the result from ./20/test/filtrations/2/HeightFiltrartion_0_1/gray/diagrams.npy\n",
      "Applying Scaler to persistence diagrams.\n",
      "Got the result from ./20/test/filtrations/2/HeightFiltrartion_0_1/red/diagrams.npy\n",
      "Applying Scaler to persistence diagrams.\n",
      "Got the result from ./20/test/filtrations/2/HeightFiltrartion_0_1/green/diagrams.npy\n",
      "Applying Scaler to persistence diagrams.\n",
      "Got the result from ./20/test/filtrations/2/HeightFiltrartion_0_1/blue/diagrams.npy\n",
      "Applying Scaler to persistence diagrams.\n",
      "Applying filtration 7/72: 2/HeightFiltrartion_-1_0\n",
      "RGB images received. Transforming to grayscale.\n"
     ]
    },
    {
     "name": "stderr",
     "output_type": "stream",
     "text": [
      "rgb2gray: 100%|██████████| 10000/10000 [00:02<00:00, 3786.19it/s]\n"
     ]
    },
    {
     "name": "stdout",
     "output_type": "stream",
     "text": [
      "Got the result from ./20/test/filtrations/2/HeightFiltrartion_-1_0/gray/diagrams.npy\n",
      "Applying Scaler to persistence diagrams.\n",
      "Got the result from ./20/test/filtrations/2/HeightFiltrartion_-1_0/red/diagrams.npy\n",
      "Applying Scaler to persistence diagrams.\n",
      "Got the result from ./20/test/filtrations/2/HeightFiltrartion_-1_0/green/diagrams.npy\n",
      "Applying Scaler to persistence diagrams.\n",
      "Got the result from ./20/test/filtrations/2/HeightFiltrartion_-1_0/blue/diagrams.npy\n",
      "Applying Scaler to persistence diagrams.\n",
      "Applying filtration 8/72: 2/HeightFiltrartion_1_0\n",
      "RGB images received. Transforming to grayscale.\n"
     ]
    },
    {
     "name": "stderr",
     "output_type": "stream",
     "text": [
      "rgb2gray: 100%|██████████| 10000/10000 [00:02<00:00, 3810.66it/s]\n"
     ]
    },
    {
     "name": "stdout",
     "output_type": "stream",
     "text": [
      "Got the result from ./20/test/filtrations/2/HeightFiltrartion_1_0/gray/diagrams.npy\n",
      "Applying Scaler to persistence diagrams.\n",
      "Got the result from ./20/test/filtrations/2/HeightFiltrartion_1_0/red/diagrams.npy\n",
      "Applying Scaler to persistence diagrams.\n",
      "Got the result from ./20/test/filtrations/2/HeightFiltrartion_1_0/green/diagrams.npy\n",
      "Applying Scaler to persistence diagrams.\n",
      "Got the result from ./20/test/filtrations/2/HeightFiltrartion_1_0/blue/diagrams.npy\n",
      "Applying Scaler to persistence diagrams.\n",
      "Applying filtration 9/72: 2/RadialFiltration_5_5\n",
      "RGB images received. Transforming to grayscale.\n"
     ]
    },
    {
     "name": "stderr",
     "output_type": "stream",
     "text": [
      "rgb2gray: 100%|██████████| 10000/10000 [00:01<00:00, 5309.62it/s]\n"
     ]
    },
    {
     "name": "stdout",
     "output_type": "stream",
     "text": [
      "Got the result from ./20/test/filtrations/2/RadialFiltration_5_5/gray/diagrams.npy\n",
      "Applying Scaler to persistence diagrams.\n",
      "Got the result from ./20/test/filtrations/2/RadialFiltration_5_5/red/diagrams.npy\n",
      "Applying Scaler to persistence diagrams.\n",
      "Got the result from ./20/test/filtrations/2/RadialFiltration_5_5/green/diagrams.npy\n",
      "Applying Scaler to persistence diagrams.\n",
      "Got the result from ./20/test/filtrations/2/RadialFiltration_5_5/blue/diagrams.npy\n",
      "Applying Scaler to persistence diagrams.\n",
      "Applying filtration 10/72: 2/RadialFiltration_5_12\n",
      "RGB images received. Transforming to grayscale.\n"
     ]
    },
    {
     "name": "stderr",
     "output_type": "stream",
     "text": [
      "rgb2gray: 100%|██████████| 10000/10000 [00:02<00:00, 3791.38it/s]\n"
     ]
    },
    {
     "name": "stdout",
     "output_type": "stream",
     "text": [
      "Got the result from ./20/test/filtrations/2/RadialFiltration_5_12/gray/diagrams.npy\n",
      "Applying Scaler to persistence diagrams.\n",
      "Got the result from ./20/test/filtrations/2/RadialFiltration_5_12/red/diagrams.npy\n",
      "Applying Scaler to persistence diagrams.\n",
      "Got the result from ./20/test/filtrations/2/RadialFiltration_5_12/green/diagrams.npy\n",
      "Applying Scaler to persistence diagrams.\n",
      "Got the result from ./20/test/filtrations/2/RadialFiltration_5_12/blue/diagrams.npy\n",
      "Applying Scaler to persistence diagrams.\n",
      "Applying filtration 11/72: 2/RadialFiltration_5_19\n",
      "RGB images received. Transforming to grayscale.\n"
     ]
    },
    {
     "name": "stderr",
     "output_type": "stream",
     "text": [
      "rgb2gray: 100%|██████████| 10000/10000 [00:02<00:00, 3792.84it/s]\n"
     ]
    },
    {
     "name": "stdout",
     "output_type": "stream",
     "text": [
      "Got the result from ./20/test/filtrations/2/RadialFiltration_5_19/gray/diagrams.npy\n",
      "Applying Scaler to persistence diagrams.\n",
      "Got the result from ./20/test/filtrations/2/RadialFiltration_5_19/red/diagrams.npy\n",
      "Applying Scaler to persistence diagrams.\n",
      "Got the result from ./20/test/filtrations/2/RadialFiltration_5_19/green/diagrams.npy\n",
      "Applying Scaler to persistence diagrams.\n",
      "Got the result from ./20/test/filtrations/2/RadialFiltration_5_19/blue/diagrams.npy\n",
      "Applying Scaler to persistence diagrams.\n",
      "Applying filtration 12/72: 2/RadialFiltration_5_26\n",
      "RGB images received. Transforming to grayscale.\n"
     ]
    },
    {
     "name": "stderr",
     "output_type": "stream",
     "text": [
      "rgb2gray: 100%|██████████| 10000/10000 [00:02<00:00, 3854.10it/s]\n"
     ]
    },
    {
     "name": "stdout",
     "output_type": "stream",
     "text": [
      "Got the result from ./20/test/filtrations/2/RadialFiltration_5_26/gray/diagrams.npy\n",
      "Applying Scaler to persistence diagrams.\n",
      "Got the result from ./20/test/filtrations/2/RadialFiltration_5_26/red/diagrams.npy\n",
      "Applying Scaler to persistence diagrams.\n",
      "Got the result from ./20/test/filtrations/2/RadialFiltration_5_26/green/diagrams.npy\n",
      "Applying Scaler to persistence diagrams.\n",
      "Got the result from ./20/test/filtrations/2/RadialFiltration_5_26/blue/diagrams.npy\n",
      "Applying Scaler to persistence diagrams.\n",
      "Applying filtration 13/72: 2/RadialFiltration_12_5\n",
      "RGB images received. Transforming to grayscale.\n"
     ]
    },
    {
     "name": "stderr",
     "output_type": "stream",
     "text": [
      "rgb2gray: 100%|██████████| 10000/10000 [00:02<00:00, 3797.32it/s]\n"
     ]
    },
    {
     "name": "stdout",
     "output_type": "stream",
     "text": [
      "Got the result from ./20/test/filtrations/2/RadialFiltration_12_5/gray/diagrams.npy\n",
      "Applying Scaler to persistence diagrams.\n",
      "Got the result from ./20/test/filtrations/2/RadialFiltration_12_5/red/diagrams.npy\n",
      "Applying Scaler to persistence diagrams.\n",
      "Got the result from ./20/test/filtrations/2/RadialFiltration_12_5/green/diagrams.npy\n",
      "Applying Scaler to persistence diagrams.\n",
      "Got the result from ./20/test/filtrations/2/RadialFiltration_12_5/blue/diagrams.npy\n",
      "Applying Scaler to persistence diagrams.\n",
      "Applying filtration 14/72: 2/RadialFiltration_12_12\n",
      "RGB images received. Transforming to grayscale.\n"
     ]
    },
    {
     "name": "stderr",
     "output_type": "stream",
     "text": [
      "rgb2gray: 100%|██████████| 10000/10000 [00:02<00:00, 3680.37it/s]\n"
     ]
    },
    {
     "name": "stdout",
     "output_type": "stream",
     "text": [
      "Got the result from ./20/test/filtrations/2/RadialFiltration_12_12/gray/diagrams.npy\n",
      "Applying Scaler to persistence diagrams.\n",
      "Got the result from ./20/test/filtrations/2/RadialFiltration_12_12/red/diagrams.npy\n",
      "Applying Scaler to persistence diagrams.\n",
      "Got the result from ./20/test/filtrations/2/RadialFiltration_12_12/green/diagrams.npy\n",
      "Applying Scaler to persistence diagrams.\n",
      "Got the result from ./20/test/filtrations/2/RadialFiltration_12_12/blue/diagrams.npy\n",
      "Applying Scaler to persistence diagrams.\n",
      "Applying filtration 15/72: 2/RadialFiltration_12_19\n",
      "RGB images received. Transforming to grayscale.\n"
     ]
    },
    {
     "name": "stderr",
     "output_type": "stream",
     "text": [
      "rgb2gray: 100%|██████████| 10000/10000 [00:02<00:00, 3680.91it/s]\n"
     ]
    },
    {
     "name": "stdout",
     "output_type": "stream",
     "text": [
      "Got the result from ./20/test/filtrations/2/RadialFiltration_12_19/gray/diagrams.npy\n",
      "Applying Scaler to persistence diagrams.\n",
      "Got the result from ./20/test/filtrations/2/RadialFiltration_12_19/red/diagrams.npy\n",
      "Applying Scaler to persistence diagrams.\n",
      "Got the result from ./20/test/filtrations/2/RadialFiltration_12_19/green/diagrams.npy\n",
      "Applying Scaler to persistence diagrams.\n",
      "Got the result from ./20/test/filtrations/2/RadialFiltration_12_19/blue/diagrams.npy\n",
      "Applying Scaler to persistence diagrams.\n",
      "Applying filtration 16/72: 2/RadialFiltration_12_26\n",
      "RGB images received. Transforming to grayscale.\n"
     ]
    },
    {
     "name": "stderr",
     "output_type": "stream",
     "text": [
      "rgb2gray: 100%|██████████| 10000/10000 [00:02<00:00, 3615.63it/s]\n"
     ]
    },
    {
     "name": "stdout",
     "output_type": "stream",
     "text": [
      "Got the result from ./20/test/filtrations/2/RadialFiltration_12_26/gray/diagrams.npy\n",
      "Applying Scaler to persistence diagrams.\n",
      "Got the result from ./20/test/filtrations/2/RadialFiltration_12_26/red/diagrams.npy\n",
      "Applying Scaler to persistence diagrams.\n",
      "Got the result from ./20/test/filtrations/2/RadialFiltration_12_26/green/diagrams.npy\n",
      "Applying Scaler to persistence diagrams.\n",
      "Got the result from ./20/test/filtrations/2/RadialFiltration_12_26/blue/diagrams.npy\n",
      "Applying Scaler to persistence diagrams.\n",
      "Applying filtration 17/72: 2/RadialFiltration_19_5\n",
      "RGB images received. Transforming to grayscale.\n"
     ]
    },
    {
     "name": "stderr",
     "output_type": "stream",
     "text": [
      "rgb2gray: 100%|██████████| 10000/10000 [00:02<00:00, 3697.84it/s]\n"
     ]
    },
    {
     "name": "stdout",
     "output_type": "stream",
     "text": [
      "Got the result from ./20/test/filtrations/2/RadialFiltration_19_5/gray/diagrams.npy\n",
      "Applying Scaler to persistence diagrams.\n",
      "Got the result from ./20/test/filtrations/2/RadialFiltration_19_5/red/diagrams.npy\n",
      "Applying Scaler to persistence diagrams.\n",
      "Got the result from ./20/test/filtrations/2/RadialFiltration_19_5/green/diagrams.npy\n",
      "Applying Scaler to persistence diagrams.\n",
      "Got the result from ./20/test/filtrations/2/RadialFiltration_19_5/blue/diagrams.npy\n",
      "Applying Scaler to persistence diagrams.\n",
      "Applying filtration 18/72: 2/RadialFiltration_19_12\n",
      "RGB images received. Transforming to grayscale.\n"
     ]
    },
    {
     "name": "stderr",
     "output_type": "stream",
     "text": [
      "rgb2gray: 100%|██████████| 10000/10000 [00:02<00:00, 3684.02it/s]\n"
     ]
    },
    {
     "name": "stdout",
     "output_type": "stream",
     "text": [
      "Got the result from ./20/test/filtrations/2/RadialFiltration_19_12/gray/diagrams.npy\n",
      "Applying Scaler to persistence diagrams.\n",
      "Got the result from ./20/test/filtrations/2/RadialFiltration_19_12/red/diagrams.npy\n",
      "Applying Scaler to persistence diagrams.\n",
      "Got the result from ./20/test/filtrations/2/RadialFiltration_19_12/green/diagrams.npy\n",
      "Applying Scaler to persistence diagrams.\n",
      "Got the result from ./20/test/filtrations/2/RadialFiltration_19_12/blue/diagrams.npy\n",
      "Applying Scaler to persistence diagrams.\n",
      "Applying filtration 19/72: 2/RadialFiltration_19_19\n",
      "RGB images received. Transforming to grayscale.\n"
     ]
    },
    {
     "name": "stderr",
     "output_type": "stream",
     "text": [
      "rgb2gray: 100%|██████████| 10000/10000 [00:02<00:00, 3841.24it/s]\n"
     ]
    },
    {
     "name": "stdout",
     "output_type": "stream",
     "text": [
      "Got the result from ./20/test/filtrations/2/RadialFiltration_19_19/gray/diagrams.npy\n",
      "Applying Scaler to persistence diagrams.\n",
      "Got the result from ./20/test/filtrations/2/RadialFiltration_19_19/red/diagrams.npy\n",
      "Applying Scaler to persistence diagrams.\n",
      "Got the result from ./20/test/filtrations/2/RadialFiltration_19_19/green/diagrams.npy\n",
      "Applying Scaler to persistence diagrams.\n",
      "Got the result from ./20/test/filtrations/2/RadialFiltration_19_19/blue/diagrams.npy\n",
      "Applying Scaler to persistence diagrams.\n",
      "Applying filtration 20/72: 2/RadialFiltration_19_26\n",
      "RGB images received. Transforming to grayscale.\n"
     ]
    },
    {
     "name": "stderr",
     "output_type": "stream",
     "text": [
      "rgb2gray: 100%|██████████| 10000/10000 [00:02<00:00, 3579.67it/s]\n"
     ]
    },
    {
     "name": "stdout",
     "output_type": "stream",
     "text": [
      "Got the result from ./20/test/filtrations/2/RadialFiltration_19_26/gray/diagrams.npy\n",
      "Applying Scaler to persistence diagrams.\n",
      "Got the result from ./20/test/filtrations/2/RadialFiltration_19_26/red/diagrams.npy\n",
      "Applying Scaler to persistence diagrams.\n",
      "Got the result from ./20/test/filtrations/2/RadialFiltration_19_26/green/diagrams.npy\n",
      "Applying Scaler to persistence diagrams.\n",
      "Got the result from ./20/test/filtrations/2/RadialFiltration_19_26/blue/diagrams.npy\n",
      "Applying Scaler to persistence diagrams.\n",
      "Applying filtration 21/72: 2/RadialFiltration_26_5\n",
      "RGB images received. Transforming to grayscale.\n"
     ]
    },
    {
     "name": "stderr",
     "output_type": "stream",
     "text": [
      "rgb2gray: 100%|██████████| 10000/10000 [00:02<00:00, 3654.02it/s]\n"
     ]
    },
    {
     "name": "stdout",
     "output_type": "stream",
     "text": [
      "Got the result from ./20/test/filtrations/2/RadialFiltration_26_5/gray/diagrams.npy\n",
      "Applying Scaler to persistence diagrams.\n",
      "Got the result from ./20/test/filtrations/2/RadialFiltration_26_5/red/diagrams.npy\n",
      "Applying Scaler to persistence diagrams.\n",
      "Got the result from ./20/test/filtrations/2/RadialFiltration_26_5/green/diagrams.npy\n",
      "Applying Scaler to persistence diagrams.\n",
      "Got the result from ./20/test/filtrations/2/RadialFiltration_26_5/blue/diagrams.npy\n",
      "Applying Scaler to persistence diagrams.\n",
      "Applying filtration 22/72: 2/RadialFiltration_26_12\n",
      "RGB images received. Transforming to grayscale.\n"
     ]
    },
    {
     "name": "stderr",
     "output_type": "stream",
     "text": [
      "rgb2gray: 100%|██████████| 10000/10000 [00:03<00:00, 3077.52it/s]\n"
     ]
    },
    {
     "name": "stdout",
     "output_type": "stream",
     "text": [
      "Got the result from ./20/test/filtrations/2/RadialFiltration_26_12/gray/diagrams.npy\n",
      "Applying Scaler to persistence diagrams.\n",
      "Got the result from ./20/test/filtrations/2/RadialFiltration_26_12/red/diagrams.npy\n",
      "Applying Scaler to persistence diagrams.\n",
      "Got the result from ./20/test/filtrations/2/RadialFiltration_26_12/green/diagrams.npy\n",
      "Applying Scaler to persistence diagrams.\n",
      "Got the result from ./20/test/filtrations/2/RadialFiltration_26_12/blue/diagrams.npy\n",
      "Applying Scaler to persistence diagrams.\n",
      "Applying filtration 23/72: 2/RadialFiltration_26_19\n",
      "RGB images received. Transforming to grayscale.\n"
     ]
    },
    {
     "name": "stderr",
     "output_type": "stream",
     "text": [
      "rgb2gray: 100%|██████████| 10000/10000 [00:02<00:00, 3665.02it/s]\n"
     ]
    },
    {
     "name": "stdout",
     "output_type": "stream",
     "text": [
      "Got the result from ./20/test/filtrations/2/RadialFiltration_26_19/gray/diagrams.npy\n",
      "Applying Scaler to persistence diagrams.\n",
      "Got the result from ./20/test/filtrations/2/RadialFiltration_26_19/red/diagrams.npy\n",
      "Applying Scaler to persistence diagrams.\n",
      "Got the result from ./20/test/filtrations/2/RadialFiltration_26_19/green/diagrams.npy\n",
      "Applying Scaler to persistence diagrams.\n",
      "Got the result from ./20/test/filtrations/2/RadialFiltration_26_19/blue/diagrams.npy\n",
      "Applying Scaler to persistence diagrams.\n",
      "Applying filtration 24/72: 2/RadialFiltration_26_26\n",
      "RGB images received. Transforming to grayscale.\n"
     ]
    },
    {
     "name": "stderr",
     "output_type": "stream",
     "text": [
      "rgb2gray: 100%|██████████| 10000/10000 [00:03<00:00, 3040.44it/s]\n"
     ]
    },
    {
     "name": "stdout",
     "output_type": "stream",
     "text": [
      "Got the result from ./20/test/filtrations/2/RadialFiltration_26_26/gray/diagrams.npy\n",
      "Applying Scaler to persistence diagrams.\n",
      "Got the result from ./20/test/filtrations/2/RadialFiltration_26_26/red/diagrams.npy\n",
      "Applying Scaler to persistence diagrams.\n",
      "Got the result from ./20/test/filtrations/2/RadialFiltration_26_26/green/diagrams.npy\n",
      "Applying Scaler to persistence diagrams.\n",
      "Got the result from ./20/test/filtrations/2/RadialFiltration_26_26/blue/diagrams.npy\n",
      "Applying Scaler to persistence diagrams.\n",
      "Applying filtration 25/72: 4/HeightFiltrartion_-1_-1\n",
      "RGB images received. Transforming to grayscale.\n"
     ]
    },
    {
     "name": "stderr",
     "output_type": "stream",
     "text": [
      "rgb2gray: 100%|██████████| 10000/10000 [00:02<00:00, 3462.15it/s]\n"
     ]
    },
    {
     "name": "stdout",
     "output_type": "stream",
     "text": [
      "Got the result from ./20/test/filtrations/4/HeightFiltrartion_-1_-1/gray/diagrams.npy\n",
      "Applying Scaler to persistence diagrams.\n",
      "Got the result from ./20/test/filtrations/4/HeightFiltrartion_-1_-1/red/diagrams.npy\n",
      "Applying Scaler to persistence diagrams.\n",
      "Got the result from ./20/test/filtrations/4/HeightFiltrartion_-1_-1/green/diagrams.npy\n",
      "Applying Scaler to persistence diagrams.\n",
      "Got the result from ./20/test/filtrations/4/HeightFiltrartion_-1_-1/blue/diagrams.npy\n",
      "Applying Scaler to persistence diagrams.\n",
      "Applying filtration 26/72: 4/HeightFiltrartion_1_1\n",
      "RGB images received. Transforming to grayscale.\n"
     ]
    },
    {
     "name": "stderr",
     "output_type": "stream",
     "text": [
      "rgb2gray: 100%|██████████| 10000/10000 [00:02<00:00, 3601.49it/s]\n"
     ]
    },
    {
     "name": "stdout",
     "output_type": "stream",
     "text": [
      "Got the result from ./20/test/filtrations/4/HeightFiltrartion_1_1/gray/diagrams.npy\n",
      "Applying Scaler to persistence diagrams.\n",
      "Got the result from ./20/test/filtrations/4/HeightFiltrartion_1_1/red/diagrams.npy\n",
      "Applying Scaler to persistence diagrams.\n",
      "Got the result from ./20/test/filtrations/4/HeightFiltrartion_1_1/green/diagrams.npy\n",
      "Applying Scaler to persistence diagrams.\n",
      "Got the result from ./20/test/filtrations/4/HeightFiltrartion_1_1/blue/diagrams.npy\n",
      "Applying Scaler to persistence diagrams.\n",
      "Applying filtration 27/72: 4/HeightFiltrartion_1_-1\n",
      "RGB images received. Transforming to grayscale.\n"
     ]
    },
    {
     "name": "stderr",
     "output_type": "stream",
     "text": [
      "rgb2gray: 100%|██████████| 10000/10000 [00:02<00:00, 3570.54it/s]\n"
     ]
    },
    {
     "name": "stdout",
     "output_type": "stream",
     "text": [
      "Got the result from ./20/test/filtrations/4/HeightFiltrartion_1_-1/gray/diagrams.npy\n",
      "Applying Scaler to persistence diagrams.\n",
      "Got the result from ./20/test/filtrations/4/HeightFiltrartion_1_-1/red/diagrams.npy\n",
      "Applying Scaler to persistence diagrams.\n",
      "Got the result from ./20/test/filtrations/4/HeightFiltrartion_1_-1/green/diagrams.npy\n",
      "Applying Scaler to persistence diagrams.\n",
      "Got the result from ./20/test/filtrations/4/HeightFiltrartion_1_-1/blue/diagrams.npy\n",
      "Applying Scaler to persistence diagrams.\n",
      "Applying filtration 28/72: 4/HeightFiltrartion_-1_1\n",
      "RGB images received. Transforming to grayscale.\n"
     ]
    },
    {
     "name": "stderr",
     "output_type": "stream",
     "text": [
      "rgb2gray: 100%|██████████| 10000/10000 [00:03<00:00, 3090.86it/s]\n"
     ]
    },
    {
     "name": "stdout",
     "output_type": "stream",
     "text": [
      "Got the result from ./20/test/filtrations/4/HeightFiltrartion_-1_1/gray/diagrams.npy\n",
      "Applying Scaler to persistence diagrams.\n",
      "Got the result from ./20/test/filtrations/4/HeightFiltrartion_-1_1/red/diagrams.npy\n",
      "Applying Scaler to persistence diagrams.\n",
      "Got the result from ./20/test/filtrations/4/HeightFiltrartion_-1_1/green/diagrams.npy\n",
      "Applying Scaler to persistence diagrams.\n",
      "Got the result from ./20/test/filtrations/4/HeightFiltrartion_-1_1/blue/diagrams.npy\n",
      "Applying Scaler to persistence diagrams.\n",
      "Applying filtration 29/72: 4/HeightFiltrartion_0_-1\n",
      "RGB images received. Transforming to grayscale.\n"
     ]
    },
    {
     "name": "stderr",
     "output_type": "stream",
     "text": [
      "rgb2gray: 100%|██████████| 10000/10000 [00:02<00:00, 3670.92it/s]\n"
     ]
    },
    {
     "name": "stdout",
     "output_type": "stream",
     "text": [
      "Got the result from ./20/test/filtrations/4/HeightFiltrartion_0_-1/gray/diagrams.npy\n",
      "Applying Scaler to persistence diagrams.\n",
      "Got the result from ./20/test/filtrations/4/HeightFiltrartion_0_-1/red/diagrams.npy\n",
      "Applying Scaler to persistence diagrams.\n",
      "Got the result from ./20/test/filtrations/4/HeightFiltrartion_0_-1/green/diagrams.npy\n",
      "Applying Scaler to persistence diagrams.\n",
      "Got the result from ./20/test/filtrations/4/HeightFiltrartion_0_-1/blue/diagrams.npy\n",
      "Applying Scaler to persistence diagrams.\n",
      "Applying filtration 30/72: 4/HeightFiltrartion_0_1\n",
      "RGB images received. Transforming to grayscale.\n"
     ]
    },
    {
     "name": "stderr",
     "output_type": "stream",
     "text": [
      "rgb2gray: 100%|██████████| 10000/10000 [00:02<00:00, 4151.54it/s]\n"
     ]
    },
    {
     "name": "stdout",
     "output_type": "stream",
     "text": [
      "Got the result from ./20/test/filtrations/4/HeightFiltrartion_0_1/gray/diagrams.npy\n",
      "Applying Scaler to persistence diagrams.\n",
      "Got the result from ./20/test/filtrations/4/HeightFiltrartion_0_1/red/diagrams.npy\n",
      "Applying Scaler to persistence diagrams.\n",
      "Got the result from ./20/test/filtrations/4/HeightFiltrartion_0_1/green/diagrams.npy\n",
      "Applying Scaler to persistence diagrams.\n",
      "Got the result from ./20/test/filtrations/4/HeightFiltrartion_0_1/blue/diagrams.npy\n",
      "Applying Scaler to persistence diagrams.\n",
      "Applying filtration 31/72: 4/HeightFiltrartion_-1_0\n",
      "RGB images received. Transforming to grayscale.\n"
     ]
    },
    {
     "name": "stderr",
     "output_type": "stream",
     "text": [
      "rgb2gray: 100%|██████████| 10000/10000 [00:02<00:00, 3593.69it/s]\n"
     ]
    },
    {
     "name": "stdout",
     "output_type": "stream",
     "text": [
      "Got the result from ./20/test/filtrations/4/HeightFiltrartion_-1_0/gray/diagrams.npy\n",
      "Applying Scaler to persistence diagrams.\n",
      "Got the result from ./20/test/filtrations/4/HeightFiltrartion_-1_0/red/diagrams.npy\n",
      "Applying Scaler to persistence diagrams.\n",
      "Got the result from ./20/test/filtrations/4/HeightFiltrartion_-1_0/green/diagrams.npy\n",
      "Applying Scaler to persistence diagrams.\n",
      "Got the result from ./20/test/filtrations/4/HeightFiltrartion_-1_0/blue/diagrams.npy\n",
      "Applying Scaler to persistence diagrams.\n",
      "Applying filtration 32/72: 4/HeightFiltrartion_1_0\n",
      "RGB images received. Transforming to grayscale.\n"
     ]
    },
    {
     "name": "stderr",
     "output_type": "stream",
     "text": [
      "rgb2gray: 100%|██████████| 10000/10000 [00:02<00:00, 3499.97it/s]\n"
     ]
    },
    {
     "name": "stdout",
     "output_type": "stream",
     "text": [
      "Got the result from ./20/test/filtrations/4/HeightFiltrartion_1_0/gray/diagrams.npy\n",
      "Applying Scaler to persistence diagrams.\n",
      "Got the result from ./20/test/filtrations/4/HeightFiltrartion_1_0/red/diagrams.npy\n",
      "Applying Scaler to persistence diagrams.\n",
      "Got the result from ./20/test/filtrations/4/HeightFiltrartion_1_0/green/diagrams.npy\n",
      "Applying Scaler to persistence diagrams.\n",
      "Got the result from ./20/test/filtrations/4/HeightFiltrartion_1_0/blue/diagrams.npy\n",
      "Applying Scaler to persistence diagrams.\n",
      "Applying filtration 33/72: 4/RadialFiltration_5_5\n",
      "RGB images received. Transforming to grayscale.\n"
     ]
    },
    {
     "name": "stderr",
     "output_type": "stream",
     "text": [
      "rgb2gray: 100%|██████████| 10000/10000 [00:02<00:00, 3512.69it/s]\n"
     ]
    },
    {
     "name": "stdout",
     "output_type": "stream",
     "text": [
      "Got the result from ./20/test/filtrations/4/RadialFiltration_5_5/gray/diagrams.npy\n",
      "Applying Scaler to persistence diagrams.\n",
      "Got the result from ./20/test/filtrations/4/RadialFiltration_5_5/red/diagrams.npy\n",
      "Applying Scaler to persistence diagrams.\n",
      "Got the result from ./20/test/filtrations/4/RadialFiltration_5_5/green/diagrams.npy\n",
      "Applying Scaler to persistence diagrams.\n",
      "Got the result from ./20/test/filtrations/4/RadialFiltration_5_5/blue/diagrams.npy\n",
      "Applying Scaler to persistence diagrams.\n",
      "Applying filtration 34/72: 4/RadialFiltration_5_12\n",
      "RGB images received. Transforming to grayscale.\n"
     ]
    },
    {
     "name": "stderr",
     "output_type": "stream",
     "text": [
      "rgb2gray: 100%|██████████| 10000/10000 [00:03<00:00, 3144.72it/s]\n"
     ]
    },
    {
     "name": "stdout",
     "output_type": "stream",
     "text": [
      "Got the result from ./20/test/filtrations/4/RadialFiltration_5_12/gray/diagrams.npy\n",
      "Applying Scaler to persistence diagrams.\n",
      "Got the result from ./20/test/filtrations/4/RadialFiltration_5_12/red/diagrams.npy\n",
      "Applying Scaler to persistence diagrams.\n",
      "Got the result from ./20/test/filtrations/4/RadialFiltration_5_12/green/diagrams.npy\n",
      "Applying Scaler to persistence diagrams.\n",
      "Got the result from ./20/test/filtrations/4/RadialFiltration_5_12/blue/diagrams.npy\n",
      "Applying Scaler to persistence diagrams.\n",
      "Applying filtration 35/72: 4/RadialFiltration_5_19\n",
      "RGB images received. Transforming to grayscale.\n"
     ]
    },
    {
     "name": "stderr",
     "output_type": "stream",
     "text": [
      "rgb2gray: 100%|██████████| 10000/10000 [00:02<00:00, 3502.46it/s]\n"
     ]
    },
    {
     "name": "stdout",
     "output_type": "stream",
     "text": [
      "Got the result from ./20/test/filtrations/4/RadialFiltration_5_19/gray/diagrams.npy\n",
      "Applying Scaler to persistence diagrams.\n",
      "Got the result from ./20/test/filtrations/4/RadialFiltration_5_19/red/diagrams.npy\n",
      "Applying Scaler to persistence diagrams.\n",
      "Got the result from ./20/test/filtrations/4/RadialFiltration_5_19/green/diagrams.npy\n",
      "Applying Scaler to persistence diagrams.\n",
      "Got the result from ./20/test/filtrations/4/RadialFiltration_5_19/blue/diagrams.npy\n",
      "Applying Scaler to persistence diagrams.\n",
      "Applying filtration 36/72: 4/RadialFiltration_5_26\n",
      "RGB images received. Transforming to grayscale.\n"
     ]
    },
    {
     "name": "stderr",
     "output_type": "stream",
     "text": [
      "rgb2gray: 100%|██████████| 10000/10000 [00:02<00:00, 3492.66it/s]\n"
     ]
    },
    {
     "name": "stdout",
     "output_type": "stream",
     "text": [
      "Got the result from ./20/test/filtrations/4/RadialFiltration_5_26/gray/diagrams.npy\n",
      "Applying Scaler to persistence diagrams.\n",
      "Got the result from ./20/test/filtrations/4/RadialFiltration_5_26/red/diagrams.npy\n",
      "Applying Scaler to persistence diagrams.\n",
      "Got the result from ./20/test/filtrations/4/RadialFiltration_5_26/green/diagrams.npy\n",
      "Applying Scaler to persistence diagrams.\n",
      "Got the result from ./20/test/filtrations/4/RadialFiltration_5_26/blue/diagrams.npy\n",
      "Applying Scaler to persistence diagrams.\n",
      "Applying filtration 37/72: 4/RadialFiltration_12_5\n",
      "RGB images received. Transforming to grayscale.\n"
     ]
    },
    {
     "name": "stderr",
     "output_type": "stream",
     "text": [
      "rgb2gray: 100%|██████████| 10000/10000 [00:02<00:00, 3569.54it/s]\n"
     ]
    },
    {
     "name": "stdout",
     "output_type": "stream",
     "text": [
      "Got the result from ./20/test/filtrations/4/RadialFiltration_12_5/gray/diagrams.npy\n",
      "Applying Scaler to persistence diagrams.\n",
      "Got the result from ./20/test/filtrations/4/RadialFiltration_12_5/red/diagrams.npy\n",
      "Applying Scaler to persistence diagrams.\n",
      "Got the result from ./20/test/filtrations/4/RadialFiltration_12_5/green/diagrams.npy\n",
      "Applying Scaler to persistence diagrams.\n",
      "Got the result from ./20/test/filtrations/4/RadialFiltration_12_5/blue/diagrams.npy\n",
      "Applying Scaler to persistence diagrams.\n",
      "Applying filtration 38/72: 4/RadialFiltration_12_12\n",
      "RGB images received. Transforming to grayscale.\n"
     ]
    },
    {
     "name": "stderr",
     "output_type": "stream",
     "text": [
      "rgb2gray: 100%|██████████| 10000/10000 [00:02<00:00, 3444.71it/s]\n"
     ]
    },
    {
     "name": "stdout",
     "output_type": "stream",
     "text": [
      "Got the result from ./20/test/filtrations/4/RadialFiltration_12_12/gray/diagrams.npy\n",
      "Applying Scaler to persistence diagrams.\n",
      "Got the result from ./20/test/filtrations/4/RadialFiltration_12_12/red/diagrams.npy\n",
      "Applying Scaler to persistence diagrams.\n",
      "Got the result from ./20/test/filtrations/4/RadialFiltration_12_12/green/diagrams.npy\n",
      "Applying Scaler to persistence diagrams.\n",
      "Got the result from ./20/test/filtrations/4/RadialFiltration_12_12/blue/diagrams.npy\n",
      "Applying Scaler to persistence diagrams.\n",
      "Applying filtration 39/72: 4/RadialFiltration_12_19\n",
      "RGB images received. Transforming to grayscale.\n"
     ]
    },
    {
     "name": "stderr",
     "output_type": "stream",
     "text": [
      "rgb2gray: 100%|██████████| 10000/10000 [00:02<00:00, 3486.91it/s]\n"
     ]
    },
    {
     "name": "stdout",
     "output_type": "stream",
     "text": [
      "Got the result from ./20/test/filtrations/4/RadialFiltration_12_19/gray/diagrams.npy\n",
      "Applying Scaler to persistence diagrams.\n",
      "Got the result from ./20/test/filtrations/4/RadialFiltration_12_19/red/diagrams.npy\n",
      "Applying Scaler to persistence diagrams.\n",
      "Got the result from ./20/test/filtrations/4/RadialFiltration_12_19/green/diagrams.npy\n",
      "Applying Scaler to persistence diagrams.\n",
      "Got the result from ./20/test/filtrations/4/RadialFiltration_12_19/blue/diagrams.npy\n",
      "Applying Scaler to persistence diagrams.\n",
      "Applying filtration 40/72: 4/RadialFiltration_12_26\n",
      "RGB images received. Transforming to grayscale.\n"
     ]
    },
    {
     "name": "stderr",
     "output_type": "stream",
     "text": [
      "rgb2gray: 100%|██████████| 10000/10000 [00:02<00:00, 3361.56it/s]\n"
     ]
    },
    {
     "name": "stdout",
     "output_type": "stream",
     "text": [
      "Got the result from ./20/test/filtrations/4/RadialFiltration_12_26/gray/diagrams.npy\n",
      "Applying Scaler to persistence diagrams.\n",
      "Got the result from ./20/test/filtrations/4/RadialFiltration_12_26/red/diagrams.npy\n",
      "Applying Scaler to persistence diagrams.\n",
      "Got the result from ./20/test/filtrations/4/RadialFiltration_12_26/green/diagrams.npy\n",
      "Applying Scaler to persistence diagrams.\n",
      "Got the result from ./20/test/filtrations/4/RadialFiltration_12_26/blue/diagrams.npy\n",
      "Applying Scaler to persistence diagrams.\n",
      "Applying filtration 41/72: 4/RadialFiltration_19_5\n",
      "RGB images received. Transforming to grayscale.\n"
     ]
    },
    {
     "name": "stderr",
     "output_type": "stream",
     "text": [
      "rgb2gray: 100%|██████████| 10000/10000 [00:02<00:00, 3397.90it/s]\n"
     ]
    },
    {
     "name": "stdout",
     "output_type": "stream",
     "text": [
      "Got the result from ./20/test/filtrations/4/RadialFiltration_19_5/gray/diagrams.npy\n",
      "Applying Scaler to persistence diagrams.\n",
      "Got the result from ./20/test/filtrations/4/RadialFiltration_19_5/red/diagrams.npy\n",
      "Applying Scaler to persistence diagrams.\n",
      "Got the result from ./20/test/filtrations/4/RadialFiltration_19_5/green/diagrams.npy\n",
      "Applying Scaler to persistence diagrams.\n",
      "Got the result from ./20/test/filtrations/4/RadialFiltration_19_5/blue/diagrams.npy\n",
      "Applying Scaler to persistence diagrams.\n",
      "Applying filtration 42/72: 4/RadialFiltration_19_12\n",
      "RGB images received. Transforming to grayscale.\n"
     ]
    },
    {
     "name": "stderr",
     "output_type": "stream",
     "text": [
      "rgb2gray: 100%|██████████| 10000/10000 [00:02<00:00, 3426.73it/s]\n"
     ]
    },
    {
     "name": "stdout",
     "output_type": "stream",
     "text": [
      "Got the result from ./20/test/filtrations/4/RadialFiltration_19_12/gray/diagrams.npy\n",
      "Applying Scaler to persistence diagrams.\n",
      "Got the result from ./20/test/filtrations/4/RadialFiltration_19_12/red/diagrams.npy\n",
      "Applying Scaler to persistence diagrams.\n",
      "Got the result from ./20/test/filtrations/4/RadialFiltration_19_12/green/diagrams.npy\n",
      "Applying Scaler to persistence diagrams.\n",
      "Got the result from ./20/test/filtrations/4/RadialFiltration_19_12/blue/diagrams.npy\n",
      "Applying Scaler to persistence diagrams.\n",
      "Applying filtration 43/72: 4/RadialFiltration_19_19\n",
      "RGB images received. Transforming to grayscale.\n"
     ]
    },
    {
     "name": "stderr",
     "output_type": "stream",
     "text": [
      "rgb2gray: 100%|██████████| 10000/10000 [00:02<00:00, 3443.19it/s]\n"
     ]
    },
    {
     "name": "stdout",
     "output_type": "stream",
     "text": [
      "Got the result from ./20/test/filtrations/4/RadialFiltration_19_19/gray/diagrams.npy\n",
      "Applying Scaler to persistence diagrams.\n",
      "Got the result from ./20/test/filtrations/4/RadialFiltration_19_19/red/diagrams.npy\n",
      "Applying Scaler to persistence diagrams.\n",
      "Got the result from ./20/test/filtrations/4/RadialFiltration_19_19/green/diagrams.npy\n",
      "Applying Scaler to persistence diagrams.\n",
      "Got the result from ./20/test/filtrations/4/RadialFiltration_19_19/blue/diagrams.npy\n",
      "Applying Scaler to persistence diagrams.\n",
      "Applying filtration 44/72: 4/RadialFiltration_19_26\n",
      "RGB images received. Transforming to grayscale.\n"
     ]
    },
    {
     "name": "stderr",
     "output_type": "stream",
     "text": [
      "rgb2gray: 100%|██████████| 10000/10000 [00:03<00:00, 3327.58it/s]\n"
     ]
    },
    {
     "name": "stdout",
     "output_type": "stream",
     "text": [
      "Got the result from ./20/test/filtrations/4/RadialFiltration_19_26/gray/diagrams.npy\n",
      "Applying Scaler to persistence diagrams.\n",
      "Got the result from ./20/test/filtrations/4/RadialFiltration_19_26/red/diagrams.npy\n",
      "Applying Scaler to persistence diagrams.\n",
      "Got the result from ./20/test/filtrations/4/RadialFiltration_19_26/green/diagrams.npy\n",
      "Applying Scaler to persistence diagrams.\n",
      "Got the result from ./20/test/filtrations/4/RadialFiltration_19_26/blue/diagrams.npy\n",
      "Applying Scaler to persistence diagrams.\n",
      "Applying filtration 45/72: 4/RadialFiltration_26_5\n",
      "RGB images received. Transforming to grayscale.\n"
     ]
    },
    {
     "name": "stderr",
     "output_type": "stream",
     "text": [
      "rgb2gray: 100%|██████████| 10000/10000 [00:03<00:00, 3324.15it/s]\n"
     ]
    },
    {
     "name": "stdout",
     "output_type": "stream",
     "text": [
      "Got the result from ./20/test/filtrations/4/RadialFiltration_26_5/gray/diagrams.npy\n",
      "Applying Scaler to persistence diagrams.\n",
      "Got the result from ./20/test/filtrations/4/RadialFiltration_26_5/red/diagrams.npy\n",
      "Applying Scaler to persistence diagrams.\n",
      "Got the result from ./20/test/filtrations/4/RadialFiltration_26_5/green/diagrams.npy\n",
      "Applying Scaler to persistence diagrams.\n",
      "Got the result from ./20/test/filtrations/4/RadialFiltration_26_5/blue/diagrams.npy\n",
      "Applying Scaler to persistence diagrams.\n",
      "Applying filtration 46/72: 4/RadialFiltration_26_12\n",
      "RGB images received. Transforming to grayscale.\n"
     ]
    },
    {
     "name": "stderr",
     "output_type": "stream",
     "text": [
      "rgb2gray: 100%|██████████| 10000/10000 [00:03<00:00, 3285.68it/s]\n"
     ]
    },
    {
     "name": "stdout",
     "output_type": "stream",
     "text": [
      "Got the result from ./20/test/filtrations/4/RadialFiltration_26_12/gray/diagrams.npy\n",
      "Applying Scaler to persistence diagrams.\n",
      "Got the result from ./20/test/filtrations/4/RadialFiltration_26_12/red/diagrams.npy\n",
      "Applying Scaler to persistence diagrams.\n",
      "Got the result from ./20/test/filtrations/4/RadialFiltration_26_12/green/diagrams.npy\n",
      "Applying Scaler to persistence diagrams.\n",
      "Got the result from ./20/test/filtrations/4/RadialFiltration_26_12/blue/diagrams.npy\n",
      "Applying Scaler to persistence diagrams.\n",
      "Applying filtration 47/72: 4/RadialFiltration_26_19\n",
      "RGB images received. Transforming to grayscale.\n"
     ]
    },
    {
     "name": "stderr",
     "output_type": "stream",
     "text": [
      "rgb2gray: 100%|██████████| 10000/10000 [00:03<00:00, 3266.19it/s]\n"
     ]
    },
    {
     "name": "stdout",
     "output_type": "stream",
     "text": [
      "Got the result from ./20/test/filtrations/4/RadialFiltration_26_19/gray/diagrams.npy\n",
      "Applying Scaler to persistence diagrams.\n",
      "Got the result from ./20/test/filtrations/4/RadialFiltration_26_19/red/diagrams.npy\n",
      "Applying Scaler to persistence diagrams.\n",
      "Got the result from ./20/test/filtrations/4/RadialFiltration_26_19/green/diagrams.npy\n",
      "Applying Scaler to persistence diagrams.\n",
      "Got the result from ./20/test/filtrations/4/RadialFiltration_26_19/blue/diagrams.npy\n",
      "Applying Scaler to persistence diagrams.\n",
      "Applying filtration 48/72: 4/RadialFiltration_26_26\n",
      "RGB images received. Transforming to grayscale.\n"
     ]
    },
    {
     "name": "stderr",
     "output_type": "stream",
     "text": [
      "rgb2gray: 100%|██████████| 10000/10000 [00:03<00:00, 3296.72it/s]\n"
     ]
    },
    {
     "name": "stdout",
     "output_type": "stream",
     "text": [
      "Got the result from ./20/test/filtrations/4/RadialFiltration_26_26/gray/diagrams.npy\n",
      "Applying Scaler to persistence diagrams.\n",
      "Got the result from ./20/test/filtrations/4/RadialFiltration_26_26/red/diagrams.npy\n",
      "Applying Scaler to persistence diagrams.\n",
      "Got the result from ./20/test/filtrations/4/RadialFiltration_26_26/green/diagrams.npy\n",
      "Applying Scaler to persistence diagrams.\n",
      "Got the result from ./20/test/filtrations/4/RadialFiltration_26_26/blue/diagrams.npy\n",
      "Applying Scaler to persistence diagrams.\n",
      "Applying filtration 49/72: 6/HeightFiltrartion_-1_-1\n",
      "RGB images received. Transforming to grayscale.\n"
     ]
    },
    {
     "name": "stderr",
     "output_type": "stream",
     "text": [
      "rgb2gray: 100%|██████████| 10000/10000 [00:02<00:00, 3540.82it/s]\n"
     ]
    },
    {
     "name": "stdout",
     "output_type": "stream",
     "text": [
      "Got the result from ./20/test/filtrations/6/HeightFiltrartion_-1_-1/gray/diagrams.npy\n",
      "Applying Scaler to persistence diagrams.\n",
      "Got the result from ./20/test/filtrations/6/HeightFiltrartion_-1_-1/red/diagrams.npy\n",
      "Applying Scaler to persistence diagrams.\n",
      "Got the result from ./20/test/filtrations/6/HeightFiltrartion_-1_-1/green/diagrams.npy\n",
      "Applying Scaler to persistence diagrams.\n",
      "Got the result from ./20/test/filtrations/6/HeightFiltrartion_-1_-1/blue/diagrams.npy\n",
      "Applying Scaler to persistence diagrams.\n",
      "Applying filtration 50/72: 6/HeightFiltrartion_1_1\n",
      "RGB images received. Transforming to grayscale.\n"
     ]
    },
    {
     "name": "stderr",
     "output_type": "stream",
     "text": [
      "rgb2gray: 100%|██████████| 10000/10000 [00:03<00:00, 3314.57it/s]\n"
     ]
    },
    {
     "name": "stdout",
     "output_type": "stream",
     "text": [
      "Got the result from ./20/test/filtrations/6/HeightFiltrartion_1_1/gray/diagrams.npy\n",
      "Applying Scaler to persistence diagrams.\n",
      "Got the result from ./20/test/filtrations/6/HeightFiltrartion_1_1/red/diagrams.npy\n",
      "Applying Scaler to persistence diagrams.\n",
      "Got the result from ./20/test/filtrations/6/HeightFiltrartion_1_1/green/diagrams.npy\n",
      "Applying Scaler to persistence diagrams.\n",
      "Got the result from ./20/test/filtrations/6/HeightFiltrartion_1_1/blue/diagrams.npy\n",
      "Applying Scaler to persistence diagrams.\n",
      "Applying filtration 51/72: 6/HeightFiltrartion_1_-1\n",
      "RGB images received. Transforming to grayscale.\n"
     ]
    },
    {
     "name": "stderr",
     "output_type": "stream",
     "text": [
      "rgb2gray: 100%|██████████| 10000/10000 [00:03<00:00, 3283.53it/s]\n"
     ]
    },
    {
     "name": "stdout",
     "output_type": "stream",
     "text": [
      "Got the result from ./20/test/filtrations/6/HeightFiltrartion_1_-1/gray/diagrams.npy\n",
      "Applying Scaler to persistence diagrams.\n",
      "Got the result from ./20/test/filtrations/6/HeightFiltrartion_1_-1/red/diagrams.npy\n",
      "Applying Scaler to persistence diagrams.\n",
      "Got the result from ./20/test/filtrations/6/HeightFiltrartion_1_-1/green/diagrams.npy\n",
      "Applying Scaler to persistence diagrams.\n",
      "Got the result from ./20/test/filtrations/6/HeightFiltrartion_1_-1/blue/diagrams.npy\n",
      "Applying Scaler to persistence diagrams.\n",
      "Applying filtration 52/72: 6/HeightFiltrartion_-1_1\n",
      "RGB images received. Transforming to grayscale.\n"
     ]
    },
    {
     "name": "stderr",
     "output_type": "stream",
     "text": [
      "rgb2gray: 100%|██████████| 10000/10000 [00:03<00:00, 3203.63it/s]\n"
     ]
    },
    {
     "name": "stdout",
     "output_type": "stream",
     "text": [
      "Got the result from ./20/test/filtrations/6/HeightFiltrartion_-1_1/gray/diagrams.npy\n",
      "Applying Scaler to persistence diagrams.\n",
      "Got the result from ./20/test/filtrations/6/HeightFiltrartion_-1_1/red/diagrams.npy\n",
      "Applying Scaler to persistence diagrams.\n",
      "Got the result from ./20/test/filtrations/6/HeightFiltrartion_-1_1/green/diagrams.npy\n",
      "Applying Scaler to persistence diagrams.\n",
      "Got the result from ./20/test/filtrations/6/HeightFiltrartion_-1_1/blue/diagrams.npy\n",
      "Applying Scaler to persistence diagrams.\n",
      "Applying filtration 53/72: 6/HeightFiltrartion_0_-1\n",
      "RGB images received. Transforming to grayscale.\n"
     ]
    },
    {
     "name": "stderr",
     "output_type": "stream",
     "text": [
      "rgb2gray: 100%|██████████| 10000/10000 [00:03<00:00, 3144.08it/s]\n"
     ]
    },
    {
     "name": "stdout",
     "output_type": "stream",
     "text": [
      "Got the result from ./20/test/filtrations/6/HeightFiltrartion_0_-1/gray/diagrams.npy\n",
      "Applying Scaler to persistence diagrams.\n",
      "Got the result from ./20/test/filtrations/6/HeightFiltrartion_0_-1/red/diagrams.npy\n",
      "Applying Scaler to persistence diagrams.\n",
      "Got the result from ./20/test/filtrations/6/HeightFiltrartion_0_-1/green/diagrams.npy\n",
      "Applying Scaler to persistence diagrams.\n",
      "Got the result from ./20/test/filtrations/6/HeightFiltrartion_0_-1/blue/diagrams.npy\n",
      "Applying Scaler to persistence diagrams.\n",
      "Applying filtration 54/72: 6/HeightFiltrartion_0_1\n",
      "RGB images received. Transforming to grayscale.\n"
     ]
    },
    {
     "name": "stderr",
     "output_type": "stream",
     "text": [
      "rgb2gray: 100%|██████████| 10000/10000 [00:03<00:00, 3254.09it/s]\n"
     ]
    },
    {
     "name": "stdout",
     "output_type": "stream",
     "text": [
      "Got the result from ./20/test/filtrations/6/HeightFiltrartion_0_1/gray/diagrams.npy\n",
      "Applying Scaler to persistence diagrams.\n",
      "Got the result from ./20/test/filtrations/6/HeightFiltrartion_0_1/red/diagrams.npy\n",
      "Applying Scaler to persistence diagrams.\n",
      "Got the result from ./20/test/filtrations/6/HeightFiltrartion_0_1/green/diagrams.npy\n",
      "Applying Scaler to persistence diagrams.\n",
      "Got the result from ./20/test/filtrations/6/HeightFiltrartion_0_1/blue/diagrams.npy\n",
      "Applying Scaler to persistence diagrams.\n",
      "Applying filtration 55/72: 6/HeightFiltrartion_-1_0\n",
      "RGB images received. Transforming to grayscale.\n"
     ]
    },
    {
     "name": "stderr",
     "output_type": "stream",
     "text": [
      "rgb2gray: 100%|██████████| 10000/10000 [00:02<00:00, 4525.05it/s]\n"
     ]
    },
    {
     "name": "stdout",
     "output_type": "stream",
     "text": [
      "Got the result from ./20/test/filtrations/6/HeightFiltrartion_-1_0/gray/diagrams.npy\n",
      "Applying Scaler to persistence diagrams.\n",
      "Got the result from ./20/test/filtrations/6/HeightFiltrartion_-1_0/red/diagrams.npy\n",
      "Applying Scaler to persistence diagrams.\n",
      "Got the result from ./20/test/filtrations/6/HeightFiltrartion_-1_0/green/diagrams.npy\n",
      "Applying Scaler to persistence diagrams.\n",
      "Got the result from ./20/test/filtrations/6/HeightFiltrartion_-1_0/blue/diagrams.npy\n",
      "Applying Scaler to persistence diagrams.\n",
      "Applying filtration 56/72: 6/HeightFiltrartion_1_0\n",
      "RGB images received. Transforming to grayscale.\n"
     ]
    },
    {
     "name": "stderr",
     "output_type": "stream",
     "text": [
      "rgb2gray: 100%|██████████| 10000/10000 [00:01<00:00, 5198.46it/s]\n"
     ]
    },
    {
     "name": "stdout",
     "output_type": "stream",
     "text": [
      "Got the result from ./20/test/filtrations/6/HeightFiltrartion_1_0/gray/diagrams.npy\n",
      "Applying Scaler to persistence diagrams.\n",
      "Got the result from ./20/test/filtrations/6/HeightFiltrartion_1_0/red/diagrams.npy\n",
      "Applying Scaler to persistence diagrams.\n",
      "Got the result from ./20/test/filtrations/6/HeightFiltrartion_1_0/green/diagrams.npy\n",
      "Applying Scaler to persistence diagrams.\n",
      "Got the result from ./20/test/filtrations/6/HeightFiltrartion_1_0/blue/diagrams.npy\n",
      "Applying Scaler to persistence diagrams.\n",
      "Applying filtration 57/72: 6/RadialFiltration_5_5\n",
      "RGB images received. Transforming to grayscale.\n"
     ]
    },
    {
     "name": "stderr",
     "output_type": "stream",
     "text": [
      "rgb2gray: 100%|██████████| 10000/10000 [00:03<00:00, 3212.92it/s]\n"
     ]
    },
    {
     "name": "stdout",
     "output_type": "stream",
     "text": [
      "Got the result from ./20/test/filtrations/6/RadialFiltration_5_5/gray/diagrams.npy\n",
      "Applying Scaler to persistence diagrams.\n",
      "Got the result from ./20/test/filtrations/6/RadialFiltration_5_5/red/diagrams.npy\n",
      "Applying Scaler to persistence diagrams.\n",
      "Got the result from ./20/test/filtrations/6/RadialFiltration_5_5/green/diagrams.npy\n",
      "Applying Scaler to persistence diagrams.\n",
      "Got the result from ./20/test/filtrations/6/RadialFiltration_5_5/blue/diagrams.npy\n",
      "Applying Scaler to persistence diagrams.\n",
      "Applying filtration 58/72: 6/RadialFiltration_5_12\n",
      "RGB images received. Transforming to grayscale.\n"
     ]
    },
    {
     "name": "stderr",
     "output_type": "stream",
     "text": [
      "rgb2gray: 100%|██████████| 10000/10000 [00:02<00:00, 3375.89it/s]\n"
     ]
    },
    {
     "name": "stdout",
     "output_type": "stream",
     "text": [
      "Got the result from ./20/test/filtrations/6/RadialFiltration_5_12/gray/diagrams.npy\n",
      "Applying Scaler to persistence diagrams.\n",
      "Got the result from ./20/test/filtrations/6/RadialFiltration_5_12/red/diagrams.npy\n",
      "Applying Scaler to persistence diagrams.\n",
      "Got the result from ./20/test/filtrations/6/RadialFiltration_5_12/green/diagrams.npy\n",
      "Applying Scaler to persistence diagrams.\n",
      "Got the result from ./20/test/filtrations/6/RadialFiltration_5_12/blue/diagrams.npy\n",
      "Applying Scaler to persistence diagrams.\n",
      "Applying filtration 59/72: 6/RadialFiltration_5_19\n",
      "RGB images received. Transforming to grayscale.\n"
     ]
    },
    {
     "name": "stderr",
     "output_type": "stream",
     "text": [
      "rgb2gray: 100%|██████████| 10000/10000 [00:03<00:00, 3151.46it/s]\n"
     ]
    },
    {
     "name": "stdout",
     "output_type": "stream",
     "text": [
      "Got the result from ./20/test/filtrations/6/RadialFiltration_5_19/gray/diagrams.npy\n",
      "Applying Scaler to persistence diagrams.\n",
      "Got the result from ./20/test/filtrations/6/RadialFiltration_5_19/red/diagrams.npy\n",
      "Applying Scaler to persistence diagrams.\n",
      "Got the result from ./20/test/filtrations/6/RadialFiltration_5_19/green/diagrams.npy\n",
      "Applying Scaler to persistence diagrams.\n",
      "Got the result from ./20/test/filtrations/6/RadialFiltration_5_19/blue/diagrams.npy\n",
      "Applying Scaler to persistence diagrams.\n",
      "Applying filtration 60/72: 6/RadialFiltration_5_26\n",
      "RGB images received. Transforming to grayscale.\n"
     ]
    },
    {
     "name": "stderr",
     "output_type": "stream",
     "text": [
      "rgb2gray: 100%|██████████| 10000/10000 [00:03<00:00, 3098.73it/s]\n"
     ]
    },
    {
     "name": "stdout",
     "output_type": "stream",
     "text": [
      "Got the result from ./20/test/filtrations/6/RadialFiltration_5_26/gray/diagrams.npy\n",
      "Applying Scaler to persistence diagrams.\n",
      "Got the result from ./20/test/filtrations/6/RadialFiltration_5_26/red/diagrams.npy\n",
      "Applying Scaler to persistence diagrams.\n",
      "Got the result from ./20/test/filtrations/6/RadialFiltration_5_26/green/diagrams.npy\n",
      "Applying Scaler to persistence diagrams.\n",
      "Got the result from ./20/test/filtrations/6/RadialFiltration_5_26/blue/diagrams.npy\n",
      "Applying Scaler to persistence diagrams.\n",
      "Applying filtration 61/72: 6/RadialFiltration_12_5\n",
      "RGB images received. Transforming to grayscale.\n"
     ]
    },
    {
     "name": "stderr",
     "output_type": "stream",
     "text": [
      "rgb2gray: 100%|██████████| 10000/10000 [00:03<00:00, 3169.43it/s]\n"
     ]
    },
    {
     "name": "stdout",
     "output_type": "stream",
     "text": [
      "Got the result from ./20/test/filtrations/6/RadialFiltration_12_5/gray/diagrams.npy\n",
      "Applying Scaler to persistence diagrams.\n",
      "Got the result from ./20/test/filtrations/6/RadialFiltration_12_5/red/diagrams.npy\n",
      "Applying Scaler to persistence diagrams.\n",
      "Got the result from ./20/test/filtrations/6/RadialFiltration_12_5/green/diagrams.npy\n",
      "Applying Scaler to persistence diagrams.\n",
      "Got the result from ./20/test/filtrations/6/RadialFiltration_12_5/blue/diagrams.npy\n",
      "Applying Scaler to persistence diagrams.\n",
      "Applying filtration 62/72: 6/RadialFiltration_12_12\n",
      "RGB images received. Transforming to grayscale.\n"
     ]
    },
    {
     "name": "stderr",
     "output_type": "stream",
     "text": [
      "rgb2gray: 100%|██████████| 10000/10000 [00:03<00:00, 3155.06it/s]\n"
     ]
    },
    {
     "name": "stdout",
     "output_type": "stream",
     "text": [
      "Got the result from ./20/test/filtrations/6/RadialFiltration_12_12/gray/diagrams.npy\n",
      "Applying Scaler to persistence diagrams.\n",
      "Got the result from ./20/test/filtrations/6/RadialFiltration_12_12/red/diagrams.npy\n",
      "Applying Scaler to persistence diagrams.\n",
      "Got the result from ./20/test/filtrations/6/RadialFiltration_12_12/green/diagrams.npy\n",
      "Applying Scaler to persistence diagrams.\n",
      "Got the result from ./20/test/filtrations/6/RadialFiltration_12_12/blue/diagrams.npy\n",
      "Applying Scaler to persistence diagrams.\n",
      "Applying filtration 63/72: 6/RadialFiltration_12_19\n",
      "RGB images received. Transforming to grayscale.\n"
     ]
    },
    {
     "name": "stderr",
     "output_type": "stream",
     "text": [
      "rgb2gray: 100%|██████████| 10000/10000 [00:03<00:00, 2808.54it/s]\n"
     ]
    },
    {
     "name": "stdout",
     "output_type": "stream",
     "text": [
      "Got the result from ./20/test/filtrations/6/RadialFiltration_12_19/gray/diagrams.npy\n",
      "Applying Scaler to persistence diagrams.\n",
      "Got the result from ./20/test/filtrations/6/RadialFiltration_12_19/red/diagrams.npy\n",
      "Applying Scaler to persistence diagrams.\n",
      "Got the result from ./20/test/filtrations/6/RadialFiltration_12_19/green/diagrams.npy\n",
      "Applying Scaler to persistence diagrams.\n",
      "Got the result from ./20/test/filtrations/6/RadialFiltration_12_19/blue/diagrams.npy\n",
      "Applying Scaler to persistence diagrams.\n",
      "Applying filtration 64/72: 6/RadialFiltration_12_26\n",
      "RGB images received. Transforming to grayscale.\n"
     ]
    },
    {
     "name": "stderr",
     "output_type": "stream",
     "text": [
      "rgb2gray: 100%|██████████| 10000/10000 [00:03<00:00, 3250.15it/s]\n"
     ]
    },
    {
     "name": "stdout",
     "output_type": "stream",
     "text": [
      "Got the result from ./20/test/filtrations/6/RadialFiltration_12_26/gray/diagrams.npy\n",
      "Applying Scaler to persistence diagrams.\n",
      "Got the result from ./20/test/filtrations/6/RadialFiltration_12_26/red/diagrams.npy\n",
      "Applying Scaler to persistence diagrams.\n",
      "Got the result from ./20/test/filtrations/6/RadialFiltration_12_26/green/diagrams.npy\n",
      "Applying Scaler to persistence diagrams.\n",
      "Got the result from ./20/test/filtrations/6/RadialFiltration_12_26/blue/diagrams.npy\n",
      "Applying Scaler to persistence diagrams.\n",
      "Applying filtration 65/72: 6/RadialFiltration_19_5\n",
      "RGB images received. Transforming to grayscale.\n"
     ]
    },
    {
     "name": "stderr",
     "output_type": "stream",
     "text": [
      "rgb2gray: 100%|██████████| 10000/10000 [00:03<00:00, 3270.39it/s]\n"
     ]
    },
    {
     "name": "stdout",
     "output_type": "stream",
     "text": [
      "Got the result from ./20/test/filtrations/6/RadialFiltration_19_5/gray/diagrams.npy\n",
      "Applying Scaler to persistence diagrams.\n",
      "Got the result from ./20/test/filtrations/6/RadialFiltration_19_5/red/diagrams.npy\n",
      "Applying Scaler to persistence diagrams.\n",
      "Got the result from ./20/test/filtrations/6/RadialFiltration_19_5/green/diagrams.npy\n",
      "Applying Scaler to persistence diagrams.\n",
      "Got the result from ./20/test/filtrations/6/RadialFiltration_19_5/blue/diagrams.npy\n",
      "Applying Scaler to persistence diagrams.\n",
      "Applying filtration 66/72: 6/RadialFiltration_19_12\n",
      "RGB images received. Transforming to grayscale.\n"
     ]
    },
    {
     "name": "stderr",
     "output_type": "stream",
     "text": [
      "rgb2gray: 100%|██████████| 10000/10000 [00:03<00:00, 3081.15it/s]\n"
     ]
    },
    {
     "name": "stdout",
     "output_type": "stream",
     "text": [
      "Got the result from ./20/test/filtrations/6/RadialFiltration_19_12/gray/diagrams.npy\n",
      "Applying Scaler to persistence diagrams.\n",
      "Got the result from ./20/test/filtrations/6/RadialFiltration_19_12/red/diagrams.npy\n",
      "Applying Scaler to persistence diagrams.\n",
      "Got the result from ./20/test/filtrations/6/RadialFiltration_19_12/green/diagrams.npy\n",
      "Applying Scaler to persistence diagrams.\n",
      "Got the result from ./20/test/filtrations/6/RadialFiltration_19_12/blue/diagrams.npy\n",
      "Applying Scaler to persistence diagrams.\n",
      "Applying filtration 67/72: 6/RadialFiltration_19_19\n",
      "RGB images received. Transforming to grayscale.\n"
     ]
    },
    {
     "name": "stderr",
     "output_type": "stream",
     "text": [
      "rgb2gray: 100%|██████████| 10000/10000 [00:03<00:00, 3225.02it/s]\n"
     ]
    },
    {
     "name": "stdout",
     "output_type": "stream",
     "text": [
      "Got the result from ./20/test/filtrations/6/RadialFiltration_19_19/gray/diagrams.npy\n",
      "Applying Scaler to persistence diagrams.\n",
      "Got the result from ./20/test/filtrations/6/RadialFiltration_19_19/red/diagrams.npy\n",
      "Applying Scaler to persistence diagrams.\n",
      "Got the result from ./20/test/filtrations/6/RadialFiltration_19_19/green/diagrams.npy\n",
      "Applying Scaler to persistence diagrams.\n",
      "Got the result from ./20/test/filtrations/6/RadialFiltration_19_19/blue/diagrams.npy\n",
      "Applying Scaler to persistence diagrams.\n",
      "Applying filtration 68/72: 6/RadialFiltration_19_26\n",
      "RGB images received. Transforming to grayscale.\n"
     ]
    },
    {
     "name": "stderr",
     "output_type": "stream",
     "text": [
      "rgb2gray: 100%|██████████| 10000/10000 [00:03<00:00, 3021.39it/s]\n"
     ]
    },
    {
     "name": "stdout",
     "output_type": "stream",
     "text": [
      "Got the result from ./20/test/filtrations/6/RadialFiltration_19_26/gray/diagrams.npy\n",
      "Applying Scaler to persistence diagrams.\n",
      "Got the result from ./20/test/filtrations/6/RadialFiltration_19_26/red/diagrams.npy\n",
      "Applying Scaler to persistence diagrams.\n",
      "Got the result from ./20/test/filtrations/6/RadialFiltration_19_26/green/diagrams.npy\n",
      "Applying Scaler to persistence diagrams.\n",
      "Got the result from ./20/test/filtrations/6/RadialFiltration_19_26/blue/diagrams.npy\n",
      "Applying Scaler to persistence diagrams.\n",
      "Applying filtration 69/72: 6/RadialFiltration_26_5\n",
      "RGB images received. Transforming to grayscale.\n"
     ]
    },
    {
     "name": "stderr",
     "output_type": "stream",
     "text": [
      "rgb2gray: 100%|██████████| 10000/10000 [00:03<00:00, 3093.75it/s]\n"
     ]
    },
    {
     "name": "stdout",
     "output_type": "stream",
     "text": [
      "Got the result from ./20/test/filtrations/6/RadialFiltration_26_5/gray/diagrams.npy\n",
      "Applying Scaler to persistence diagrams.\n",
      "Got the result from ./20/test/filtrations/6/RadialFiltration_26_5/red/diagrams.npy\n",
      "Applying Scaler to persistence diagrams.\n",
      "Got the result from ./20/test/filtrations/6/RadialFiltration_26_5/green/diagrams.npy\n",
      "Applying Scaler to persistence diagrams.\n",
      "Got the result from ./20/test/filtrations/6/RadialFiltration_26_5/blue/diagrams.npy\n",
      "Applying Scaler to persistence diagrams.\n",
      "Applying filtration 70/72: 6/RadialFiltration_26_12\n",
      "RGB images received. Transforming to grayscale.\n"
     ]
    },
    {
     "name": "stderr",
     "output_type": "stream",
     "text": [
      "rgb2gray: 100%|██████████| 10000/10000 [00:03<00:00, 3234.45it/s]\n"
     ]
    },
    {
     "name": "stdout",
     "output_type": "stream",
     "text": [
      "Got the result from ./20/test/filtrations/6/RadialFiltration_26_12/gray/diagrams.npy\n",
      "Applying Scaler to persistence diagrams.\n",
      "Got the result from ./20/test/filtrations/6/RadialFiltration_26_12/red/diagrams.npy\n",
      "Applying Scaler to persistence diagrams.\n",
      "Got the result from ./20/test/filtrations/6/RadialFiltration_26_12/green/diagrams.npy\n",
      "Applying Scaler to persistence diagrams.\n",
      "Got the result from ./20/test/filtrations/6/RadialFiltration_26_12/blue/diagrams.npy\n",
      "Applying Scaler to persistence diagrams.\n",
      "Applying filtration 71/72: 6/RadialFiltration_26_19\n",
      "RGB images received. Transforming to grayscale.\n"
     ]
    },
    {
     "name": "stderr",
     "output_type": "stream",
     "text": [
      "rgb2gray: 100%|██████████| 10000/10000 [00:03<00:00, 2952.28it/s]\n"
     ]
    },
    {
     "name": "stdout",
     "output_type": "stream",
     "text": [
      "Got the result from ./20/test/filtrations/6/RadialFiltration_26_19/gray/diagrams.npy\n",
      "Applying Scaler to persistence diagrams.\n",
      "Got the result from ./20/test/filtrations/6/RadialFiltration_26_19/red/diagrams.npy\n",
      "Applying Scaler to persistence diagrams.\n",
      "Got the result from ./20/test/filtrations/6/RadialFiltration_26_19/green/diagrams.npy\n",
      "Applying Scaler to persistence diagrams.\n",
      "Got the result from ./20/test/filtrations/6/RadialFiltration_26_19/blue/diagrams.npy\n",
      "Applying Scaler to persistence diagrams.\n",
      "Applying filtration 72/72: 6/RadialFiltration_26_26\n",
      "RGB images received. Transforming to grayscale.\n"
     ]
    },
    {
     "name": "stderr",
     "output_type": "stream",
     "text": [
      "rgb2gray: 100%|██████████| 10000/10000 [00:03<00:00, 3132.56it/s]\n"
     ]
    },
    {
     "name": "stdout",
     "output_type": "stream",
     "text": [
      "Got the result from ./20/test/filtrations/6/RadialFiltration_26_26/gray/diagrams.npy\n",
      "Applying Scaler to persistence diagrams.\n",
      "Got the result from ./20/test/filtrations/6/RadialFiltration_26_26/red/diagrams.npy\n",
      "Applying Scaler to persistence diagrams.\n",
      "Got the result from ./20/test/filtrations/6/RadialFiltration_26_26/green/diagrams.npy\n",
      "Applying Scaler to persistence diagrams.\n",
      "Got the result from ./20/test/filtrations/6/RadialFiltration_26_26/blue/diagrams.npy\n",
      "Applying Scaler to persistence diagrams.\n",
      "Diagrams requested. Returning diagrams.\n"
     ]
    }
   ],
   "source": [
    "import cvtda.topology\n",
    "extractor = cvtda.topology.FeatureExtractor(only_get_from_dump = True, return_diagrams = True)\n",
    "extractor = extractor.fit(train_images, \"20/train\")\n",
    "train_diagrams = extractor.transform(train_images, \"20/train\")\n",
    "test_diagrams = extractor.transform(test_images, \"20/test\")"
   ]
  },
  {
   "cell_type": "code",
   "execution_count": 4,
   "metadata": {},
   "outputs": [
    {
     "name": "stderr",
     "output_type": "stream",
     "text": [
      "Dataset: processing diagrams:  11%|█         | 32/296 [00:35<04:53,  1.11s/it]d:\\Programs\\Programming\\Python\\lib\\site-packages\\joblib\\externals\\loky\\process_executor.py:752: UserWarning: A worker stopped while some jobs were given to the executor. This can be caused by a too short worker timeout or by a memory leak.\n",
      "  warnings.warn(\n",
      "Dataset: processing diagrams: 100%|██████████| 296/296 [06:37<00:00,  1.34s/it]\n"
     ]
    },
    {
     "name": "stdout",
     "output_type": "stream",
     "text": [
      "Constructed a dataset of 50000 images of shape torch.Size([3, 32, 32]) with 592 diagrams and 43103 features\n"
     ]
    },
    {
     "name": "stderr",
     "output_type": "stream",
     "text": [
      "Dataset: processing diagrams: 100%|██████████| 296/296 [01:13<00:00,  4.03it/s]\n"
     ]
    },
    {
     "name": "stdout",
     "output_type": "stream",
     "text": [
      "Constructed a dataset of 10000 images of shape torch.Size([3, 32, 32]) with 592 diagrams and 43103 features\n",
      "Trying features - <cvtda.autoencoder.Autoencoder.Autoencoder object at 0x0000023DC4F51E40>\n",
      "Got the result from ./23/predictions/features_decoded.npy\n",
      "{'model': 'Топологические признаки', 'MAE': 186.88468527409808, 'MSE': 24.802696919466054}\n",
      "Trying images - <cvtda.autoencoder.Autoencoder.Autoencoder object at 0x00000243515158A0>\n"
     ]
    },
    {
     "name": "stderr",
     "output_type": "stream",
     "text": [
      "d:\\Programs\\Programming\\Python\\lib\\site-packages\\torch\\nn\\init.py:511: UserWarning: Initializing zero-element tensors is a no-op\n",
      "  warnings.warn(\"Initializing zero-element tensors is a no-op\")\n",
      "d:\\Programs\\Programming\\Python\\lib\\site-packages\\torch\\nn\\modules\\instancenorm.py:115: UserWarning: input's size at dim=0 does not match num_features. You can silence this warning by not passing in num_features, which is not used because affine=False\n",
      "  warnings.warn(\n"
     ]
    },
    {
     "name": "stdout",
     "output_type": "stream",
     "text": [
      "Encoder Base parameters: 25607232\n",
      "Decoder parameters: 2239587\n"
     ]
    },
    {
     "name": "stderr",
     "output_type": "stream",
     "text": [
      "Epoch 0: 100%|██████████| 196/196 [01:22<00:00,  2.39it/s]\n"
     ]
    },
    {
     "name": "stdout",
     "output_type": "stream",
     "text": [
      "Epoch 0: {'loss': 15.042768478393555, 'lr': 0.1, 'MAE': 686.6285, 'MSE': 226.50494}\n"
     ]
    },
    {
     "name": "stderr",
     "output_type": "stream",
     "text": [
      "Epoch 1: 100%|██████████| 196/196 [00:56<00:00,  3.49it/s]\n"
     ]
    },
    {
     "name": "stdout",
     "output_type": "stream",
     "text": [
      "Epoch 1: {'loss': 9.56835263222456, 'lr': 0.1, 'MAE': 522.8156, 'MSE': 140.35762}\n"
     ]
    },
    {
     "name": "stderr",
     "output_type": "stream",
     "text": [
      "Epoch 2: 100%|██████████| 196/196 [00:56<00:00,  3.49it/s]\n"
     ]
    },
    {
     "name": "stdout",
     "output_type": "stream",
     "text": [
      "Epoch 2: {'loss': 9.106285534799099, 'lr': 0.1, 'MAE': 527.2012, 'MSE': 145.64156}\n"
     ]
    },
    {
     "name": "stderr",
     "output_type": "stream",
     "text": [
      "Epoch 3: 100%|██████████| 196/196 [00:56<00:00,  3.47it/s]\n"
     ]
    },
    {
     "name": "stdout",
     "output_type": "stream",
     "text": [
      "Epoch 3: {'loss': 8.726418882608414, 'lr': 0.1, 'MAE': 505.0163, 'MSE': 131.7099}\n"
     ]
    },
    {
     "name": "stderr",
     "output_type": "stream",
     "text": [
      "Epoch 4: 100%|██████████| 196/196 [00:56<00:00,  3.46it/s]\n"
     ]
    },
    {
     "name": "stdout",
     "output_type": "stream",
     "text": [
      "Epoch 4: {'loss': 8.033335346728563, 'lr': 0.1, 'MAE': 494.4438, 'MSE': 127.2435}\n"
     ]
    },
    {
     "name": "stderr",
     "output_type": "stream",
     "text": [
      "Epoch 5: 100%|██████████| 196/196 [00:56<00:00,  3.49it/s]\n"
     ]
    },
    {
     "name": "stdout",
     "output_type": "stream",
     "text": [
      "Epoch 5: {'loss': 7.813418880105019, 'lr': 0.1, 'MAE': 493.2812, 'MSE': 124.7968}\n"
     ]
    },
    {
     "name": "stderr",
     "output_type": "stream",
     "text": [
      "Epoch 6: 100%|██████████| 196/196 [00:58<00:00,  3.37it/s]\n"
     ]
    },
    {
     "name": "stdout",
     "output_type": "stream",
     "text": [
      "Epoch 6: {'loss': 7.976283468306065, 'lr': 0.1, 'MAE': 487.05136, 'MSE': 124.13085}\n"
     ]
    },
    {
     "name": "stderr",
     "output_type": "stream",
     "text": [
      "Epoch 7: 100%|██████████| 196/196 [00:56<00:00,  3.49it/s]\n"
     ]
    },
    {
     "name": "stdout",
     "output_type": "stream",
     "text": [
      "Epoch 7: {'loss': 7.862296961247921, 'lr': 0.1, 'MAE': 475.6328, 'MSE': 122.65819}\n"
     ]
    },
    {
     "name": "stderr",
     "output_type": "stream",
     "text": [
      "Epoch 8: 100%|██████████| 196/196 [00:56<00:00,  3.49it/s]\n"
     ]
    },
    {
     "name": "stdout",
     "output_type": "stream",
     "text": [
      "Epoch 8: {'loss': 7.789134059101343, 'lr': 0.1, 'MAE': 536.6351, 'MSE': 150.79237}\n"
     ]
    },
    {
     "name": "stderr",
     "output_type": "stream",
     "text": [
      "Epoch 9: 100%|██████████| 196/196 [00:56<00:00,  3.47it/s]\n"
     ]
    },
    {
     "name": "stdout",
     "output_type": "stream",
     "text": [
      "Epoch 9: {'loss': 7.964683465659618, 'lr': 0.1, 'MAE': 544.33765, 'MSE': 155.32275}\n"
     ]
    },
    {
     "name": "stderr",
     "output_type": "stream",
     "text": [
      "Epoch 10: 100%|██████████| 196/196 [00:56<00:00,  3.49it/s]\n"
     ]
    },
    {
     "name": "stdout",
     "output_type": "stream",
     "text": [
      "Epoch 10: {'loss': 7.571120027452707, 'lr': 0.010000000000000002, 'MAE': 468.32114, 'MSE': 117.48062}\n"
     ]
    },
    {
     "name": "stderr",
     "output_type": "stream",
     "text": [
      "Epoch 11: 100%|██████████| 196/196 [00:56<00:00,  3.49it/s]\n"
     ]
    },
    {
     "name": "stdout",
     "output_type": "stream",
     "text": [
      "Epoch 11: {'loss': 7.432504095137119, 'lr': 0.010000000000000002, 'MAE': 461.92484, 'MSE': 114.878365}\n"
     ]
    },
    {
     "name": "stderr",
     "output_type": "stream",
     "text": [
      "Epoch 12: 100%|██████████| 196/196 [00:56<00:00,  3.47it/s]\n"
     ]
    },
    {
     "name": "stdout",
     "output_type": "stream",
     "text": [
      "Epoch 12: {'loss': 7.434063863009214, 'lr': 0.010000000000000002, 'MAE': 463.6817, 'MSE': 116.359474}\n"
     ]
    },
    {
     "name": "stderr",
     "output_type": "stream",
     "text": [
      "Epoch 13: 100%|██████████| 196/196 [00:56<00:00,  3.50it/s]\n"
     ]
    },
    {
     "name": "stdout",
     "output_type": "stream",
     "text": [
      "Epoch 13: {'loss': 7.382596351206303, 'lr': 0.010000000000000002, 'MAE': 469.5002, 'MSE': 117.13878}\n"
     ]
    },
    {
     "name": "stderr",
     "output_type": "stream",
     "text": [
      "Epoch 14: 100%|██████████| 196/196 [00:56<00:00,  3.49it/s]\n"
     ]
    },
    {
     "name": "stdout",
     "output_type": "stream",
     "text": [
      "Epoch 14: {'loss': 7.2947438433766365, 'lr': 0.010000000000000002, 'MAE': 463.1401, 'MSE': 114.26571}\n"
     ]
    },
    {
     "name": "stderr",
     "output_type": "stream",
     "text": [
      "Epoch 15: 100%|██████████| 196/196 [00:56<00:00,  3.47it/s]\n"
     ]
    },
    {
     "name": "stdout",
     "output_type": "stream",
     "text": [
      "Epoch 15: {'loss': 7.14976466819644, 'lr': 0.010000000000000002, 'MAE': 448.522, 'MSE': 109.52995}\n"
     ]
    },
    {
     "name": "stderr",
     "output_type": "stream",
     "text": [
      "Epoch 16: 100%|██████████| 196/196 [00:56<00:00,  3.49it/s]\n"
     ]
    },
    {
     "name": "stdout",
     "output_type": "stream",
     "text": [
      "Epoch 16: {'loss': 6.933915518224239, 'lr': 0.010000000000000002, 'MAE': 442.6478, 'MSE': 107.13383}\n"
     ]
    },
    {
     "name": "stderr",
     "output_type": "stream",
     "text": [
      "Epoch 17: 100%|██████████| 196/196 [00:56<00:00,  3.49it/s]\n"
     ]
    },
    {
     "name": "stdout",
     "output_type": "stream",
     "text": [
      "Epoch 17: {'loss': 6.869045484811068, 'lr': 0.010000000000000002, 'MAE': 442.16724, 'MSE': 106.681435}\n"
     ]
    },
    {
     "name": "stderr",
     "output_type": "stream",
     "text": [
      "Epoch 18: 100%|██████████| 196/196 [00:56<00:00,  3.48it/s]\n"
     ]
    },
    {
     "name": "stdout",
     "output_type": "stream",
     "text": [
      "Epoch 18: {'loss': 6.84503773227334, 'lr': 0.010000000000000002, 'MAE': 440.9382, 'MSE': 106.24949}\n"
     ]
    },
    {
     "name": "stderr",
     "output_type": "stream",
     "text": [
      "Epoch 19: 100%|██████████| 196/196 [00:56<00:00,  3.49it/s]\n"
     ]
    },
    {
     "name": "stdout",
     "output_type": "stream",
     "text": [
      "Epoch 19: {'loss': 6.826859652996063, 'lr': 0.010000000000000002, 'MAE': 441.40726, 'MSE': 106.908875}\n"
     ]
    },
    {
     "name": "stderr",
     "output_type": "stream",
     "text": [
      "Epoch 20: 100%|██████████| 196/196 [00:56<00:00,  3.49it/s]\n"
     ]
    },
    {
     "name": "stdout",
     "output_type": "stream",
     "text": [
      "Epoch 20: {'loss': 6.81501142308116, 'lr': 0.010000000000000002, 'MAE': 438.47064, 'MSE': 105.60877}\n"
     ]
    },
    {
     "name": "stderr",
     "output_type": "stream",
     "text": [
      "Epoch 21: 100%|██████████| 196/196 [00:56<00:00,  3.48it/s]\n"
     ]
    },
    {
     "name": "stdout",
     "output_type": "stream",
     "text": [
      "Epoch 21: {'loss': 6.7562903463840485, 'lr': 0.010000000000000002, 'MAE': 446.766, 'MSE': 109.8264}\n"
     ]
    },
    {
     "name": "stderr",
     "output_type": "stream",
     "text": [
      "Epoch 22: 100%|██████████| 196/196 [00:56<00:00,  3.49it/s]\n"
     ]
    },
    {
     "name": "stdout",
     "output_type": "stream",
     "text": [
      "Epoch 22: {'loss': 6.723963126540184, 'lr': 0.010000000000000002, 'MAE': 450.52466, 'MSE': 108.72006}\n"
     ]
    },
    {
     "name": "stderr",
     "output_type": "stream",
     "text": [
      "Epoch 23: 100%|██████████| 196/196 [00:56<00:00,  3.49it/s]\n"
     ]
    },
    {
     "name": "stdout",
     "output_type": "stream",
     "text": [
      "Epoch 23: {'loss': 6.692291967570782, 'lr': 0.010000000000000002, 'MAE': 438.6997, 'MSE': 104.83624}\n"
     ]
    },
    {
     "name": "stderr",
     "output_type": "stream",
     "text": [
      "Epoch 24: 100%|██████████| 196/196 [00:56<00:00,  3.48it/s]\n"
     ]
    },
    {
     "name": "stdout",
     "output_type": "stream",
     "text": [
      "Epoch 24: {'loss': 6.692327683791518, 'lr': 0.010000000000000002, 'MAE': 437.4483, 'MSE': 104.91608}\n"
     ]
    },
    {
     "name": "stderr",
     "output_type": "stream",
     "text": [
      "Epoch 25: 100%|██████████| 196/196 [00:56<00:00,  3.49it/s]\n"
     ]
    },
    {
     "name": "stdout",
     "output_type": "stream",
     "text": [
      "Epoch 25: {'loss': 6.588682163506746, 'lr': 0.001, 'MAE': 431.36386, 'MSE': 102.23708}\n"
     ]
    },
    {
     "name": "stderr",
     "output_type": "stream",
     "text": [
      "Epoch 26: 100%|██████████| 196/196 [00:56<00:00,  3.49it/s]\n"
     ]
    },
    {
     "name": "stdout",
     "output_type": "stream",
     "text": [
      "Epoch 26: {'loss': 6.567727459594607, 'lr': 0.001, 'MAE': 431.3341, 'MSE': 102.20564}\n"
     ]
    },
    {
     "name": "stderr",
     "output_type": "stream",
     "text": [
      "Epoch 27: 100%|██████████| 196/196 [00:56<00:00,  3.48it/s]\n"
     ]
    },
    {
     "name": "stdout",
     "output_type": "stream",
     "text": [
      "Epoch 27: {'loss': 6.55398777872324, 'lr': 0.001, 'MAE': 430.3963, 'MSE': 101.89271}\n"
     ]
    },
    {
     "name": "stderr",
     "output_type": "stream",
     "text": [
      "Epoch 28: 100%|██████████| 196/196 [00:56<00:00,  3.49it/s]\n"
     ]
    },
    {
     "name": "stdout",
     "output_type": "stream",
     "text": [
      "Epoch 28: {'loss': 6.54918004386127, 'lr': 0.001, 'MAE': 430.2936, 'MSE': 101.950005}\n"
     ]
    },
    {
     "name": "stderr",
     "output_type": "stream",
     "text": [
      "Epoch 29: 100%|██████████| 196/196 [00:56<00:00,  3.49it/s]\n"
     ]
    },
    {
     "name": "stdout",
     "output_type": "stream",
     "text": [
      "Epoch 29: {'loss': 6.5407308004796505, 'lr': 0.001, 'MAE': 429.7846, 'MSE': 101.68899}\n"
     ]
    },
    {
     "name": "stderr",
     "output_type": "stream",
     "text": [
      "Epoch 30: 100%|██████████| 196/196 [00:56<00:00,  3.47it/s]\n"
     ]
    },
    {
     "name": "stdout",
     "output_type": "stream",
     "text": [
      "Epoch 30: {'loss': 6.540680170059204, 'lr': 0.001, 'MAE': 429.605, 'MSE': 101.66958}\n"
     ]
    },
    {
     "name": "stderr",
     "output_type": "stream",
     "text": [
      "Epoch 31: 100%|██████████| 196/196 [00:56<00:00,  3.49it/s]\n"
     ]
    },
    {
     "name": "stdout",
     "output_type": "stream",
     "text": [
      "Epoch 31: {'loss': 6.530171491205692, 'lr': 0.001, 'MAE': 429.48004, 'MSE': 101.5868}\n"
     ]
    },
    {
     "name": "stderr",
     "output_type": "stream",
     "text": [
      "Epoch 32: 100%|██████████| 196/196 [00:56<00:00,  3.49it/s]\n"
     ]
    },
    {
     "name": "stdout",
     "output_type": "stream",
     "text": [
      "Epoch 32: {'loss': 6.521930754184723, 'lr': 0.001, 'MAE': 429.43234, 'MSE': 101.53248}\n"
     ]
    },
    {
     "name": "stderr",
     "output_type": "stream",
     "text": [
      "Epoch 33: 100%|██████████| 196/196 [00:56<00:00,  3.48it/s]\n"
     ]
    },
    {
     "name": "stdout",
     "output_type": "stream",
     "text": [
      "Epoch 33: {'loss': 6.523154092952609, 'lr': 0.001, 'MAE': 428.93436, 'MSE': 101.59224}\n"
     ]
    },
    {
     "name": "stderr",
     "output_type": "stream",
     "text": [
      "Epoch 34: 100%|██████████| 196/196 [00:56<00:00,  3.49it/s]\n"
     ]
    },
    {
     "name": "stdout",
     "output_type": "stream",
     "text": [
      "Epoch 34: {'loss': 6.513862693682313, 'lr': 0.001, 'MAE': 429.38654, 'MSE': 101.446724}\n"
     ]
    },
    {
     "name": "stderr",
     "output_type": "stream",
     "text": [
      "Epoch 35: 100%|██████████| 196/196 [00:56<00:00,  3.49it/s]\n"
     ]
    },
    {
     "name": "stdout",
     "output_type": "stream",
     "text": [
      "Epoch 35: {'loss': 6.513573167845607, 'lr': 0.001, 'MAE': 429.02765, 'MSE': 101.45107}\n"
     ]
    },
    {
     "name": "stderr",
     "output_type": "stream",
     "text": [
      "Epoch 36: 100%|██████████| 196/196 [00:56<00:00,  3.48it/s]\n"
     ]
    },
    {
     "name": "stdout",
     "output_type": "stream",
     "text": [
      "Epoch 36: {'loss': 6.517489530146122, 'lr': 0.001, 'MAE': 428.95486, 'MSE': 101.43011}\n"
     ]
    },
    {
     "name": "stderr",
     "output_type": "stream",
     "text": [
      "Epoch 37: 100%|██████████| 196/196 [00:56<00:00,  3.49it/s]\n"
     ]
    },
    {
     "name": "stdout",
     "output_type": "stream",
     "text": [
      "Epoch 37: {'loss': 6.5134469624608755, 'lr': 0.001, 'MAE': 428.55194, 'MSE': 101.24901}\n"
     ]
    },
    {
     "name": "stderr",
     "output_type": "stream",
     "text": [
      "Epoch 38: 100%|██████████| 196/196 [00:56<00:00,  3.49it/s]\n"
     ]
    },
    {
     "name": "stdout",
     "output_type": "stream",
     "text": [
      "Epoch 38: {'loss': 6.4926548302173615, 'lr': 0.001, 'MAE': 427.9851, 'MSE': 100.973145}\n"
     ]
    },
    {
     "name": "stderr",
     "output_type": "stream",
     "text": [
      "Epoch 39: 100%|██████████| 196/196 [00:55<00:00,  3.50it/s]\n"
     ]
    },
    {
     "name": "stdout",
     "output_type": "stream",
     "text": [
      "Epoch 39: {'loss': 6.483236629515886, 'lr': 0.001, 'MAE': 428.85934, 'MSE': 100.95209}\n"
     ]
    },
    {
     "name": "stderr",
     "output_type": "stream",
     "text": [
      "Epoch 40: 100%|██████████| 196/196 [00:56<00:00,  3.49it/s]\n"
     ]
    },
    {
     "name": "stdout",
     "output_type": "stream",
     "text": [
      "Epoch 40: {'loss': 6.4755800776183605, 'lr': 0.001, 'MAE': 428.0936, 'MSE': 100.78792}\n"
     ]
    },
    {
     "name": "stderr",
     "output_type": "stream",
     "text": [
      "Epoch 41: 100%|██████████| 196/196 [00:56<00:00,  3.49it/s]\n"
     ]
    },
    {
     "name": "stdout",
     "output_type": "stream",
     "text": [
      "Epoch 41: {'loss': 6.481564547866583, 'lr': 0.001, 'MAE': 427.78705, 'MSE': 101.01315}\n"
     ]
    },
    {
     "name": "stderr",
     "output_type": "stream",
     "text": [
      "Epoch 42: 100%|██████████| 196/196 [00:56<00:00,  3.47it/s]\n"
     ]
    },
    {
     "name": "stdout",
     "output_type": "stream",
     "text": [
      "Epoch 42: {'loss': 6.481892680749297, 'lr': 0.001, 'MAE': 427.29385, 'MSE': 100.81013}\n"
     ]
    },
    {
     "name": "stderr",
     "output_type": "stream",
     "text": [
      "Epoch 43: 100%|██████████| 196/196 [00:56<00:00,  3.49it/s]\n"
     ]
    },
    {
     "name": "stdout",
     "output_type": "stream",
     "text": [
      "Epoch 43: {'loss': 6.474041499197483, 'lr': 0.001, 'MAE': 427.71555, 'MSE': 100.78945}\n"
     ]
    },
    {
     "name": "stderr",
     "output_type": "stream",
     "text": [
      "Epoch 44: 100%|██████████| 196/196 [00:56<00:00,  3.49it/s]\n"
     ]
    },
    {
     "name": "stdout",
     "output_type": "stream",
     "text": [
      "Epoch 44: {'loss': 6.47263259999454, 'lr': 0.001, 'MAE': 427.0943, 'MSE': 100.80501}\n"
     ]
    },
    {
     "name": "stderr",
     "output_type": "stream",
     "text": [
      "Epoch 45: 100%|██████████| 196/196 [00:56<00:00,  3.47it/s]\n"
     ]
    },
    {
     "name": "stdout",
     "output_type": "stream",
     "text": [
      "Epoch 45: {'loss': 6.470765933394432, 'lr': 0.001, 'MAE': 427.9594, 'MSE': 100.72203}\n"
     ]
    },
    {
     "name": "stderr",
     "output_type": "stream",
     "text": [
      "Epoch 46: 100%|██████████| 196/196 [00:56<00:00,  3.49it/s]\n"
     ]
    },
    {
     "name": "stdout",
     "output_type": "stream",
     "text": [
      "Epoch 46: {'loss': 6.468993362039328, 'lr': 0.001, 'MAE': 428.08246, 'MSE': 100.71984}\n"
     ]
    },
    {
     "name": "stderr",
     "output_type": "stream",
     "text": [
      "Epoch 47: 100%|██████████| 196/196 [00:56<00:00,  3.49it/s]\n"
     ]
    },
    {
     "name": "stdout",
     "output_type": "stream",
     "text": [
      "Epoch 47: {'loss': 6.459706863388419, 'lr': 0.001, 'MAE': 427.2579, 'MSE': 100.59999}\n"
     ]
    },
    {
     "name": "stderr",
     "output_type": "stream",
     "text": [
      "Epoch 48: 100%|██████████| 196/196 [00:56<00:00,  3.48it/s]\n"
     ]
    },
    {
     "name": "stdout",
     "output_type": "stream",
     "text": [
      "Epoch 48: {'loss': 6.453911043703556, 'lr': 0.001, 'MAE': 426.9744, 'MSE': 100.73189}\n"
     ]
    },
    {
     "name": "stderr",
     "output_type": "stream",
     "text": [
      "Epoch 49: 100%|██████████| 196/196 [00:56<00:00,  3.50it/s]\n"
     ]
    },
    {
     "name": "stdout",
     "output_type": "stream",
     "text": [
      "Epoch 49: {'loss': 6.43915137834847, 'lr': 0.001, 'MAE': 425.2103, 'MSE': 99.96922}\n"
     ]
    },
    {
     "name": "stderr",
     "output_type": "stream",
     "text": [
      "Epoch 50: 100%|██████████| 196/196 [00:56<00:00,  3.49it/s]\n"
     ]
    },
    {
     "name": "stdout",
     "output_type": "stream",
     "text": [
      "Epoch 50: {'loss': 6.412311239168048, 'lr': 0.0001, 'MAE': 424.8399, 'MSE': 99.84522}\n"
     ]
    },
    {
     "name": "stderr",
     "output_type": "stream",
     "text": [
      "Epoch 51: 100%|██████████| 196/196 [00:56<00:00,  3.47it/s]\n"
     ]
    },
    {
     "name": "stdout",
     "output_type": "stream",
     "text": [
      "Epoch 51: {'loss': 6.408733434975147, 'lr': 0.0001, 'MAE': 424.56784, 'MSE': 99.874664}\n"
     ]
    },
    {
     "name": "stderr",
     "output_type": "stream",
     "text": [
      "Epoch 52: 100%|██████████| 196/196 [00:56<00:00,  3.49it/s]\n"
     ]
    },
    {
     "name": "stdout",
     "output_type": "stream",
     "text": [
      "Epoch 52: {'loss': 6.40368677675724, 'lr': 0.0001, 'MAE': 424.76465, 'MSE': 99.76594}\n"
     ]
    },
    {
     "name": "stderr",
     "output_type": "stream",
     "text": [
      "Epoch 53: 100%|██████████| 196/196 [00:56<00:00,  3.49it/s]\n"
     ]
    },
    {
     "name": "stdout",
     "output_type": "stream",
     "text": [
      "Epoch 53: {'loss': 6.405147902667522, 'lr': 0.0001, 'MAE': 424.51514, 'MSE': 99.72827}\n"
     ]
    },
    {
     "name": "stderr",
     "output_type": "stream",
     "text": [
      "Epoch 54: 100%|██████████| 196/196 [00:56<00:00,  3.47it/s]\n"
     ]
    },
    {
     "name": "stdout",
     "output_type": "stream",
     "text": [
      "Epoch 54: {'loss': 6.396055461838841, 'lr': 0.0001, 'MAE': 424.12976, 'MSE': 99.61668}\n"
     ]
    },
    {
     "name": "stderr",
     "output_type": "stream",
     "text": [
      "Epoch 55: 100%|██████████| 196/196 [00:56<00:00,  3.49it/s]\n"
     ]
    },
    {
     "name": "stdout",
     "output_type": "stream",
     "text": [
      "Epoch 55: {'loss': 6.396337868645787, 'lr': 0.0001, 'MAE': 423.8521, 'MSE': 99.543915}\n"
     ]
    },
    {
     "name": "stderr",
     "output_type": "stream",
     "text": [
      "Epoch 56: 100%|██████████| 196/196 [00:56<00:00,  3.50it/s]\n"
     ]
    },
    {
     "name": "stdout",
     "output_type": "stream",
     "text": [
      "Epoch 56: {'loss': 6.392539279535413, 'lr': 0.0001, 'MAE': 424.7518, 'MSE': 99.498184}\n"
     ]
    },
    {
     "name": "stderr",
     "output_type": "stream",
     "text": [
      "Epoch 57: 100%|██████████| 196/196 [00:56<00:00,  3.48it/s]\n"
     ]
    },
    {
     "name": "stdout",
     "output_type": "stream",
     "text": [
      "Epoch 57: {'loss': 6.389099188148975, 'lr': 0.0001, 'MAE': 424.2524, 'MSE': 99.556076}\n"
     ]
    },
    {
     "name": "stderr",
     "output_type": "stream",
     "text": [
      "Epoch 58: 100%|██████████| 196/196 [00:56<00:00,  3.49it/s]\n"
     ]
    },
    {
     "name": "stdout",
     "output_type": "stream",
     "text": [
      "Epoch 58: {'loss': 6.386342119425535, 'lr': 0.0001, 'MAE': 424.47455, 'MSE': 99.51064}\n"
     ]
    },
    {
     "name": "stderr",
     "output_type": "stream",
     "text": [
      "Epoch 59: 100%|██████████| 196/196 [00:56<00:00,  3.49it/s]\n"
     ]
    },
    {
     "name": "stdout",
     "output_type": "stream",
     "text": [
      "Epoch 59: {'loss': 6.380163084715605, 'lr': 0.0001, 'MAE': 424.37125, 'MSE': 99.400375}\n"
     ]
    },
    {
     "name": "stderr",
     "output_type": "stream",
     "text": [
      "Epoch 60: 100%|██████████| 196/196 [00:56<00:00,  3.48it/s]\n"
     ]
    },
    {
     "name": "stdout",
     "output_type": "stream",
     "text": [
      "Epoch 60: {'loss': 6.376301344484091, 'lr': 0.0001, 'MAE': 423.4062, 'MSE': 99.442184}\n"
     ]
    },
    {
     "name": "stderr",
     "output_type": "stream",
     "text": [
      "Epoch 61: 100%|██████████| 196/196 [00:56<00:00,  3.49it/s]\n"
     ]
    },
    {
     "name": "stdout",
     "output_type": "stream",
     "text": [
      "Epoch 61: {'loss': 6.380225103348494, 'lr': 0.0001, 'MAE': 423.91306, 'MSE': 99.457085}\n"
     ]
    },
    {
     "name": "stderr",
     "output_type": "stream",
     "text": [
      "Epoch 62: 100%|██████████| 196/196 [00:56<00:00,  3.49it/s]\n"
     ]
    },
    {
     "name": "stdout",
     "output_type": "stream",
     "text": [
      "Epoch 62: {'loss': 6.378112280741334, 'lr': 0.0001, 'MAE': 423.54745, 'MSE': 99.38823}\n"
     ]
    },
    {
     "name": "stderr",
     "output_type": "stream",
     "text": [
      "Epoch 63: 100%|██████████| 196/196 [00:56<00:00,  3.47it/s]\n"
     ]
    },
    {
     "name": "stdout",
     "output_type": "stream",
     "text": [
      "Epoch 63: {'loss': 6.374176062643528, 'lr': 0.0001, 'MAE': 423.7548, 'MSE': 99.29973}\n"
     ]
    },
    {
     "name": "stderr",
     "output_type": "stream",
     "text": [
      "Epoch 64: 100%|██████████| 196/196 [00:56<00:00,  3.49it/s]\n"
     ]
    },
    {
     "name": "stdout",
     "output_type": "stream",
     "text": [
      "Epoch 64: {'loss': 6.378711292520165, 'lr': 0.0001, 'MAE': 423.5188, 'MSE': 99.35254}\n"
     ]
    },
    {
     "name": "stderr",
     "output_type": "stream",
     "text": [
      "Epoch 65: 100%|██████████| 196/196 [00:56<00:00,  3.49it/s]\n"
     ]
    },
    {
     "name": "stdout",
     "output_type": "stream",
     "text": [
      "Epoch 65: {'loss': 6.375592418015003, 'lr': 0.0001, 'MAE': 423.5419, 'MSE': 99.27673}\n"
     ]
    },
    {
     "name": "stderr",
     "output_type": "stream",
     "text": [
      "Epoch 66: 100%|██████████| 196/196 [00:56<00:00,  3.48it/s]\n"
     ]
    },
    {
     "name": "stdout",
     "output_type": "stream",
     "text": [
      "Epoch 66: {'loss': 6.37519502453506, 'lr': 0.0001, 'MAE': 423.66464, 'MSE': 99.234764}\n"
     ]
    },
    {
     "name": "stderr",
     "output_type": "stream",
     "text": [
      "Epoch 67: 100%|██████████| 196/196 [00:56<00:00,  3.49it/s]\n"
     ]
    },
    {
     "name": "stdout",
     "output_type": "stream",
     "text": [
      "Epoch 67: {'loss': 6.366424715146422, 'lr': 0.0001, 'MAE': 422.86316, 'MSE': 99.202034}\n"
     ]
    },
    {
     "name": "stderr",
     "output_type": "stream",
     "text": [
      "Epoch 68: 100%|██████████| 196/196 [00:56<00:00,  3.49it/s]\n"
     ]
    },
    {
     "name": "stdout",
     "output_type": "stream",
     "text": [
      "Epoch 68: {'loss': 6.3753832671791315, 'lr': 0.0001, 'MAE': 423.4533, 'MSE': 99.217865}\n"
     ]
    },
    {
     "name": "stderr",
     "output_type": "stream",
     "text": [
      "Epoch 69: 100%|██████████| 196/196 [00:56<00:00,  3.49it/s]\n"
     ]
    },
    {
     "name": "stdout",
     "output_type": "stream",
     "text": [
      "Epoch 69: {'loss': 6.366927118971944, 'lr': 0.0001, 'MAE': 422.8865, 'MSE': 99.25935}\n"
     ]
    },
    {
     "name": "stderr",
     "output_type": "stream",
     "text": [
      "Epoch 70: 100%|██████████| 196/196 [00:56<00:00,  3.49it/s]\n"
     ]
    },
    {
     "name": "stdout",
     "output_type": "stream",
     "text": [
      "Epoch 70: {'loss': 6.37050680629909, 'lr': 0.0001, 'MAE': 423.0761, 'MSE': 99.20689}\n"
     ]
    },
    {
     "name": "stderr",
     "output_type": "stream",
     "text": [
      "Epoch 71: 100%|██████████| 196/196 [00:56<00:00,  3.49it/s]\n"
     ]
    },
    {
     "name": "stdout",
     "output_type": "stream",
     "text": [
      "Epoch 71: {'loss': 6.366600498557091, 'lr': 0.0001, 'MAE': 423.35275, 'MSE': 99.134575}\n"
     ]
    },
    {
     "name": "stderr",
     "output_type": "stream",
     "text": [
      "Epoch 72: 100%|██████████| 196/196 [00:56<00:00,  3.49it/s]\n"
     ]
    },
    {
     "name": "stdout",
     "output_type": "stream",
     "text": [
      "Epoch 72: {'loss': 6.3662894405424595, 'lr': 0.0001, 'MAE': 422.9046, 'MSE': 99.16416}\n"
     ]
    },
    {
     "name": "stderr",
     "output_type": "stream",
     "text": [
      "Epoch 73: 100%|██████████| 196/196 [00:56<00:00,  3.49it/s]\n"
     ]
    },
    {
     "name": "stdout",
     "output_type": "stream",
     "text": [
      "Epoch 73: {'loss': 6.364903524518013, 'lr': 0.0001, 'MAE': 423.1498, 'MSE': 99.16948}\n"
     ]
    },
    {
     "name": "stderr",
     "output_type": "stream",
     "text": [
      "Epoch 74: 100%|██████████| 196/196 [00:56<00:00,  3.49it/s]\n"
     ]
    },
    {
     "name": "stdout",
     "output_type": "stream",
     "text": [
      "Epoch 74: {'loss': 6.3692978750914335, 'lr': 0.0001, 'MAE': 423.747, 'MSE': 99.25501}\n"
     ]
    },
    {
     "name": "stderr",
     "output_type": "stream",
     "text": [
      "Epoch 75: 100%|██████████| 196/196 [00:56<00:00,  3.49it/s]\n"
     ]
    },
    {
     "name": "stdout",
     "output_type": "stream",
     "text": [
      "Epoch 75: {'loss': 6.365271635353565, 'lr': 1e-05, 'MAE': 423.5063, 'MSE': 99.260376}\n"
     ]
    },
    {
     "name": "stderr",
     "output_type": "stream",
     "text": [
      "Epoch 76: 100%|██████████| 196/196 [00:56<00:00,  3.50it/s]\n"
     ]
    },
    {
     "name": "stdout",
     "output_type": "stream",
     "text": [
      "Epoch 76: {'loss': 6.366175899282098, 'lr': 1e-05, 'MAE': 423.1269, 'MSE': 99.11545}\n"
     ]
    },
    {
     "name": "stderr",
     "output_type": "stream",
     "text": [
      "Epoch 77: 100%|██████████| 196/196 [00:56<00:00,  3.49it/s]\n"
     ]
    },
    {
     "name": "stdout",
     "output_type": "stream",
     "text": [
      "Epoch 77: {'loss': 6.3651698268949986, 'lr': 1e-05, 'MAE': 423.11816, 'MSE': 99.18614}\n"
     ]
    },
    {
     "name": "stderr",
     "output_type": "stream",
     "text": [
      "Epoch 78: 100%|██████████| 196/196 [00:56<00:00,  3.48it/s]\n"
     ]
    },
    {
     "name": "stdout",
     "output_type": "stream",
     "text": [
      "Epoch 78: {'loss': 6.364340849220753, 'lr': 1e-05, 'MAE': 422.74454, 'MSE': 99.197235}\n"
     ]
    },
    {
     "name": "stderr",
     "output_type": "stream",
     "text": [
      "Epoch 79: 100%|██████████| 196/196 [00:55<00:00,  3.52it/s]\n"
     ]
    },
    {
     "name": "stdout",
     "output_type": "stream",
     "text": [
      "Epoch 79: {'loss': 6.3620887733995914, 'lr': 1e-05, 'MAE': 422.47974, 'MSE': 99.11776}\n"
     ]
    },
    {
     "name": "stderr",
     "output_type": "stream",
     "text": [
      "Epoch 80: 100%|██████████| 196/196 [00:56<00:00,  3.50it/s]\n"
     ]
    },
    {
     "name": "stdout",
     "output_type": "stream",
     "text": [
      "Epoch 80: {'loss': 6.364456873387098, 'lr': 1e-05, 'MAE': 422.8112, 'MSE': 99.12539}\n"
     ]
    },
    {
     "name": "stderr",
     "output_type": "stream",
     "text": [
      "Epoch 81: 100%|██████████| 196/196 [00:56<00:00,  3.48it/s]\n"
     ]
    },
    {
     "name": "stdout",
     "output_type": "stream",
     "text": [
      "Epoch 81: {'loss': 6.363167155534029, 'lr': 1e-05, 'MAE': 422.61475, 'MSE': 99.13691}\n"
     ]
    },
    {
     "name": "stderr",
     "output_type": "stream",
     "text": [
      "Epoch 82: 100%|██████████| 196/196 [00:55<00:00,  3.52it/s]\n"
     ]
    },
    {
     "name": "stdout",
     "output_type": "stream",
     "text": [
      "Epoch 82: {'loss': 6.362148085609078, 'lr': 1e-05, 'MAE': 423.66336, 'MSE': 99.13158}\n"
     ]
    },
    {
     "name": "stderr",
     "output_type": "stream",
     "text": [
      "Epoch 83: 100%|██████████| 196/196 [00:56<00:00,  3.49it/s]\n"
     ]
    },
    {
     "name": "stdout",
     "output_type": "stream",
     "text": [
      "Epoch 83: {'loss': 6.365164479240775, 'lr': 1e-05, 'MAE': 423.2351, 'MSE': 99.20224}\n"
     ]
    },
    {
     "name": "stderr",
     "output_type": "stream",
     "text": [
      "Epoch 84: 100%|██████████| 196/196 [00:56<00:00,  3.48it/s]\n"
     ]
    },
    {
     "name": "stdout",
     "output_type": "stream",
     "text": [
      "Epoch 84: {'loss': 6.3634533658623695, 'lr': 1e-05, 'MAE': 422.7464, 'MSE': 99.1479}\n"
     ]
    },
    {
     "name": "stderr",
     "output_type": "stream",
     "text": [
      "Epoch 85: 100%|██████████| 196/196 [00:56<00:00,  3.49it/s]\n"
     ]
    },
    {
     "name": "stdout",
     "output_type": "stream",
     "text": [
      "Epoch 85: {'loss': 6.359672723338008, 'lr': 1e-05, 'MAE': 423.2216, 'MSE': 99.170334}\n"
     ]
    },
    {
     "name": "stderr",
     "output_type": "stream",
     "text": [
      "Epoch 86: 100%|██████████| 196/196 [00:56<00:00,  3.49it/s]\n"
     ]
    },
    {
     "name": "stdout",
     "output_type": "stream",
     "text": [
      "Epoch 86: {'loss': 6.367853285744786, 'lr': 1e-05, 'MAE': 423.19064, 'MSE': 99.16864}\n"
     ]
    },
    {
     "name": "stderr",
     "output_type": "stream",
     "text": [
      "Epoch 87: 100%|██████████| 196/196 [00:56<00:00,  3.49it/s]\n"
     ]
    },
    {
     "name": "stdout",
     "output_type": "stream",
     "text": [
      "Epoch 87: {'loss': 6.364995097741485, 'lr': 1e-05, 'MAE': 422.6153, 'MSE': 99.15883}\n"
     ]
    },
    {
     "name": "stderr",
     "output_type": "stream",
     "text": [
      "Epoch 88: 100%|██████████| 196/196 [00:55<00:00,  3.52it/s]\n"
     ]
    },
    {
     "name": "stdout",
     "output_type": "stream",
     "text": [
      "Epoch 88: {'loss': 6.36397160589695, 'lr': 1e-05, 'MAE': 422.4978, 'MSE': 99.08928}\n"
     ]
    },
    {
     "name": "stderr",
     "output_type": "stream",
     "text": [
      "Epoch 89: 100%|██████████| 196/196 [00:55<00:00,  3.51it/s]\n"
     ]
    },
    {
     "name": "stdout",
     "output_type": "stream",
     "text": [
      "Epoch 89: {'loss': 6.361631644889712, 'lr': 1e-05, 'MAE': 422.7479, 'MSE': 99.12099}\n"
     ]
    },
    {
     "name": "stderr",
     "output_type": "stream",
     "text": [
      "Epoch 90: 100%|██████████| 196/196 [00:56<00:00,  3.49it/s]\n"
     ]
    },
    {
     "name": "stdout",
     "output_type": "stream",
     "text": [
      "Epoch 90: {'loss': 6.362976199015975, 'lr': 1e-05, 'MAE': 423.2069, 'MSE': 99.12585}\n"
     ]
    },
    {
     "name": "stderr",
     "output_type": "stream",
     "text": [
      "Epoch 91: 100%|██████████| 196/196 [00:55<00:00,  3.52it/s]\n"
     ]
    },
    {
     "name": "stdout",
     "output_type": "stream",
     "text": [
      "Epoch 91: {'loss': 6.359145607799292, 'lr': 1e-05, 'MAE': 422.66614, 'MSE': 99.14319}\n"
     ]
    },
    {
     "name": "stderr",
     "output_type": "stream",
     "text": [
      "Epoch 92: 100%|██████████| 196/196 [00:55<00:00,  3.52it/s]\n"
     ]
    },
    {
     "name": "stdout",
     "output_type": "stream",
     "text": [
      "Epoch 92: {'loss': 6.364810237661004, 'lr': 1e-05, 'MAE': 423.2408, 'MSE': 99.1949}\n"
     ]
    },
    {
     "name": "stderr",
     "output_type": "stream",
     "text": [
      "Epoch 93: 100%|██████████| 196/196 [00:56<00:00,  3.49it/s]\n"
     ]
    },
    {
     "name": "stdout",
     "output_type": "stream",
     "text": [
      "Epoch 93: {'loss': 6.362042976543307, 'lr': 1e-05, 'MAE': 423.0255, 'MSE': 99.12316}\n"
     ]
    },
    {
     "name": "stderr",
     "output_type": "stream",
     "text": [
      "Epoch 94: 100%|██████████| 196/196 [00:56<00:00,  3.49it/s]\n"
     ]
    },
    {
     "name": "stdout",
     "output_type": "stream",
     "text": [
      "Epoch 94: {'loss': 6.361765770241618, 'lr': 1e-05, 'MAE': 423.0759, 'MSE': 99.1254}\n"
     ]
    },
    {
     "name": "stderr",
     "output_type": "stream",
     "text": [
      "Epoch 95: 100%|██████████| 196/196 [00:56<00:00,  3.50it/s]\n"
     ]
    },
    {
     "name": "stdout",
     "output_type": "stream",
     "text": [
      "Epoch 95: {'loss': 6.362422129139304, 'lr': 1e-05, 'MAE': 422.4173, 'MSE': 99.07648}\n"
     ]
    },
    {
     "name": "stderr",
     "output_type": "stream",
     "text": [
      "Epoch 96: 100%|██████████| 196/196 [00:56<00:00,  3.49it/s]\n"
     ]
    },
    {
     "name": "stdout",
     "output_type": "stream",
     "text": [
      "Epoch 96: {'loss': 6.3617095816880465, 'lr': 1e-05, 'MAE': 422.629, 'MSE': 99.07454}\n"
     ]
    },
    {
     "name": "stderr",
     "output_type": "stream",
     "text": [
      "Epoch 97: 100%|██████████| 196/196 [00:56<00:00,  3.49it/s]\n"
     ]
    },
    {
     "name": "stdout",
     "output_type": "stream",
     "text": [
      "Epoch 97: {'loss': 6.36112972907722, 'lr': 1e-05, 'MAE': 423.1842, 'MSE': 99.10324}\n"
     ]
    },
    {
     "name": "stderr",
     "output_type": "stream",
     "text": [
      "Epoch 98: 100%|██████████| 196/196 [00:56<00:00,  3.50it/s]\n"
     ]
    },
    {
     "name": "stdout",
     "output_type": "stream",
     "text": [
      "Epoch 98: {'loss': 6.358799546957016, 'lr': 1e-05, 'MAE': 422.4216, 'MSE': 99.11039}\n"
     ]
    },
    {
     "name": "stderr",
     "output_type": "stream",
     "text": [
      "Epoch 99: 100%|██████████| 196/196 [00:56<00:00,  3.48it/s]\n"
     ]
    },
    {
     "name": "stdout",
     "output_type": "stream",
     "text": [
      "Epoch 99: {'loss': 6.361931910738349, 'lr': 1e-05, 'MAE': 423.84525, 'MSE': 99.17597}\n",
      "Saving the result to ./23/predictions/images_encoded.npy\n",
      "Saving the result to ./23/predictions/images_decoded.npy\n",
      "{'model': 'ResNet50 – базовая модель', 'MAE': 423.8452402901967, 'MSE': 99.17597561904053}\n",
      "Trying features_images - <cvtda.autoencoder.Autoencoder.Autoencoder object at 0x0000024359B6CB20>\n",
      "Encoder Base parameters: 69745728\n",
      "Decoder parameters: 2239587\n"
     ]
    },
    {
     "name": "stderr",
     "output_type": "stream",
     "text": [
      "Epoch 0: 100%|██████████| 196/196 [01:00<00:00,  3.22it/s]\n"
     ]
    },
    {
     "name": "stdout",
     "output_type": "stream",
     "text": [
      "Epoch 0: {'loss': 14.067181173712015, 'lr': 0.1, 'MAE': 494.9457, 'MSE': 129.41748}\n"
     ]
    },
    {
     "name": "stderr",
     "output_type": "stream",
     "text": [
      "Epoch 1: 100%|██████████| 196/196 [01:01<00:00,  3.21it/s]\n"
     ]
    },
    {
     "name": "stdout",
     "output_type": "stream",
     "text": [
      "Epoch 1: {'loss': 7.259638857096434, 'lr': 0.1, 'MAE': 430.32565, 'MSE': 100.72178}\n"
     ]
    },
    {
     "name": "stderr",
     "output_type": "stream",
     "text": [
      "Epoch 2: 100%|██████████| 196/196 [01:01<00:00,  3.20it/s]\n"
     ]
    },
    {
     "name": "stdout",
     "output_type": "stream",
     "text": [
      "Epoch 2: {'loss': 5.774418408051133, 'lr': 0.1, 'MAE': 389.4872, 'MSE': 86.224434}\n"
     ]
    },
    {
     "name": "stderr",
     "output_type": "stream",
     "text": [
      "Epoch 3: 100%|██████████| 196/196 [01:00<00:00,  3.22it/s]\n"
     ]
    },
    {
     "name": "stdout",
     "output_type": "stream",
     "text": [
      "Epoch 3: {'loss': 5.11810134537518, 'lr': 0.1, 'MAE': 358.6736, 'MSE': 75.08072}\n"
     ]
    },
    {
     "name": "stderr",
     "output_type": "stream",
     "text": [
      "Epoch 4: 100%|██████████| 196/196 [01:01<00:00,  3.21it/s]\n"
     ]
    },
    {
     "name": "stdout",
     "output_type": "stream",
     "text": [
      "Epoch 4: {'loss': 4.211784243583679, 'lr': 0.1, 'MAE': 320.0222, 'MSE': 61.75043}\n"
     ]
    },
    {
     "name": "stderr",
     "output_type": "stream",
     "text": [
      "Epoch 5: 100%|██████████| 196/196 [01:00<00:00,  3.21it/s]\n"
     ]
    },
    {
     "name": "stdout",
     "output_type": "stream",
     "text": [
      "Epoch 5: {'loss': 3.8107869494706392, 'lr': 0.1, 'MAE': 347.3907, 'MSE': 74.088684}\n"
     ]
    },
    {
     "name": "stderr",
     "output_type": "stream",
     "text": [
      "Epoch 6: 100%|██████████| 196/196 [01:01<00:00,  3.20it/s]\n"
     ]
    },
    {
     "name": "stdout",
     "output_type": "stream",
     "text": [
      "Epoch 6: {'loss': 3.819496251642704, 'lr': 0.1, 'MAE': 311.0525, 'MSE': 59.355186}\n"
     ]
    },
    {
     "name": "stderr",
     "output_type": "stream",
     "text": [
      "Epoch 7: 100%|██████████| 196/196 [01:01<00:00,  3.21it/s]\n"
     ]
    },
    {
     "name": "stdout",
     "output_type": "stream",
     "text": [
      "Epoch 7: {'loss': 3.524450335651636, 'lr': 0.1, 'MAE': 304.6558, 'MSE': 57.878693}\n"
     ]
    },
    {
     "name": "stderr",
     "output_type": "stream",
     "text": [
      "Epoch 8: 100%|██████████| 196/196 [01:00<00:00,  3.22it/s]\n"
     ]
    },
    {
     "name": "stdout",
     "output_type": "stream",
     "text": [
      "Epoch 8: {'loss': 3.5325876381248236, 'lr': 0.1, 'MAE': 317.11734, 'MSE': 61.923744}\n"
     ]
    },
    {
     "name": "stderr",
     "output_type": "stream",
     "text": [
      "Epoch 9: 100%|██████████| 196/196 [01:01<00:00,  3.20it/s]\n"
     ]
    },
    {
     "name": "stdout",
     "output_type": "stream",
     "text": [
      "Epoch 9: {'loss': 3.5211289059370756, 'lr': 0.1, 'MAE': 286.3534, 'MSE': 53.12828}\n"
     ]
    },
    {
     "name": "stderr",
     "output_type": "stream",
     "text": [
      "Epoch 10: 100%|██████████| 196/196 [01:00<00:00,  3.21it/s]\n"
     ]
    },
    {
     "name": "stdout",
     "output_type": "stream",
     "text": [
      "Epoch 10: {'loss': 3.077822094783187, 'lr': 0.010000000000000002, 'MAE': 267.92194, 'MSE': 47.922813}\n"
     ]
    },
    {
     "name": "stderr",
     "output_type": "stream",
     "text": [
      "Epoch 11: 100%|██████████| 196/196 [01:01<00:00,  3.21it/s]\n"
     ]
    },
    {
     "name": "stdout",
     "output_type": "stream",
     "text": [
      "Epoch 11: {'loss': 2.938722156919539, 'lr': 0.010000000000000002, 'MAE': 264.33984, 'MSE': 46.10617}\n"
     ]
    },
    {
     "name": "stderr",
     "output_type": "stream",
     "text": [
      "Epoch 12: 100%|██████████| 196/196 [01:01<00:00,  3.20it/s]\n"
     ]
    },
    {
     "name": "stdout",
     "output_type": "stream",
     "text": [
      "Epoch 12: {'loss': 2.892340467311442, 'lr': 0.010000000000000002, 'MAE': 261.54138, 'MSE': 45.720135}\n"
     ]
    },
    {
     "name": "stderr",
     "output_type": "stream",
     "text": [
      "Epoch 13: 100%|██████████| 196/196 [01:00<00:00,  3.22it/s]\n"
     ]
    },
    {
     "name": "stdout",
     "output_type": "stream",
     "text": [
      "Epoch 13: {'loss': 2.8378167459741235, 'lr': 0.010000000000000002, 'MAE': 259.44623, 'MSE': 45.06297}\n"
     ]
    },
    {
     "name": "stderr",
     "output_type": "stream",
     "text": [
      "Epoch 14: 100%|██████████| 196/196 [01:01<00:00,  3.21it/s]\n"
     ]
    },
    {
     "name": "stdout",
     "output_type": "stream",
     "text": [
      "Epoch 14: {'loss': 2.793834375217557, 'lr': 0.010000000000000002, 'MAE': 261.7164, 'MSE': 45.16761}\n"
     ]
    },
    {
     "name": "stderr",
     "output_type": "stream",
     "text": [
      "Epoch 15: 100%|██████████| 196/196 [01:01<00:00,  3.20it/s]\n"
     ]
    },
    {
     "name": "stdout",
     "output_type": "stream",
     "text": [
      "Epoch 15: {'loss': 2.7930505694821477, 'lr': 0.010000000000000002, 'MAE': 255.40347, 'MSE': 43.800396}\n"
     ]
    },
    {
     "name": "stderr",
     "output_type": "stream",
     "text": [
      "Epoch 16: 100%|██████████| 196/196 [01:00<00:00,  3.21it/s]\n"
     ]
    },
    {
     "name": "stdout",
     "output_type": "stream",
     "text": [
      "Epoch 16: {'loss': 2.7288233768194914, 'lr': 0.010000000000000002, 'MAE': 254.10844, 'MSE': 43.25648}\n"
     ]
    },
    {
     "name": "stderr",
     "output_type": "stream",
     "text": [
      "Epoch 17: 100%|██████████| 196/196 [01:01<00:00,  3.21it/s]\n"
     ]
    },
    {
     "name": "stdout",
     "output_type": "stream",
     "text": [
      "Epoch 17: {'loss': 2.6913011092692614, 'lr': 0.010000000000000002, 'MAE': 250.8171, 'MSE': 42.779434}\n"
     ]
    },
    {
     "name": "stderr",
     "output_type": "stream",
     "text": [
      "Epoch 18: 100%|██████████| 196/196 [01:01<00:00,  3.19it/s]\n"
     ]
    },
    {
     "name": "stdout",
     "output_type": "stream",
     "text": [
      "Epoch 18: {'loss': 2.659701567143202, 'lr': 0.010000000000000002, 'MAE': 249.72113, 'MSE': 42.40567}\n"
     ]
    },
    {
     "name": "stderr",
     "output_type": "stream",
     "text": [
      "Epoch 19: 100%|██████████| 196/196 [01:01<00:00,  3.21it/s]\n"
     ]
    },
    {
     "name": "stdout",
     "output_type": "stream",
     "text": [
      "Epoch 19: {'loss': 2.6186621226370335, 'lr': 0.010000000000000002, 'MAE': 247.45645, 'MSE': 41.41846}\n"
     ]
    },
    {
     "name": "stderr",
     "output_type": "stream",
     "text": [
      "Epoch 20: 100%|██████████| 196/196 [01:00<00:00,  3.21it/s]\n"
     ]
    },
    {
     "name": "stdout",
     "output_type": "stream",
     "text": [
      "Epoch 20: {'loss': 2.5626225816085935, 'lr': 0.010000000000000002, 'MAE': 246.44225, 'MSE': 40.86386}\n"
     ]
    },
    {
     "name": "stderr",
     "output_type": "stream",
     "text": [
      "Epoch 21: 100%|██████████| 196/196 [01:01<00:00,  3.20it/s]\n"
     ]
    },
    {
     "name": "stdout",
     "output_type": "stream",
     "text": [
      "Epoch 21: {'loss': 2.510927611030638, 'lr': 0.010000000000000002, 'MAE': 246.245, 'MSE': 40.323}\n"
     ]
    },
    {
     "name": "stderr",
     "output_type": "stream",
     "text": [
      "Epoch 22: 100%|██████████| 196/196 [01:01<00:00,  3.21it/s]\n"
     ]
    },
    {
     "name": "stdout",
     "output_type": "stream",
     "text": [
      "Epoch 22: {'loss': 2.4639829518273473, 'lr': 0.010000000000000002, 'MAE': 242.2679, 'MSE': 39.48536}\n"
     ]
    },
    {
     "name": "stderr",
     "output_type": "stream",
     "text": [
      "Epoch 23: 100%|██████████| 196/196 [01:00<00:00,  3.22it/s]\n"
     ]
    },
    {
     "name": "stdout",
     "output_type": "stream",
     "text": [
      "Epoch 23: {'loss': 2.449132014065981, 'lr': 0.010000000000000002, 'MAE': 241.24858, 'MSE': 39.25691}\n"
     ]
    },
    {
     "name": "stderr",
     "output_type": "stream",
     "text": [
      "Epoch 24: 100%|██████████| 196/196 [01:01<00:00,  3.20it/s]\n"
     ]
    },
    {
     "name": "stdout",
     "output_type": "stream",
     "text": [
      "Epoch 24: {'loss': 2.411262471228838, 'lr': 0.010000000000000002, 'MAE': 240.06004, 'MSE': 38.719692}\n"
     ]
    },
    {
     "name": "stderr",
     "output_type": "stream",
     "text": [
      "Epoch 25: 100%|██████████| 196/196 [01:01<00:00,  3.21it/s]\n"
     ]
    },
    {
     "name": "stdout",
     "output_type": "stream",
     "text": [
      "Epoch 25: {'loss': 2.3333392841741443, 'lr': 0.001, 'MAE': 236.0194, 'MSE': 37.899174}\n"
     ]
    },
    {
     "name": "stderr",
     "output_type": "stream",
     "text": [
      "Epoch 26: 100%|██████████| 196/196 [01:01<00:00,  3.21it/s]\n"
     ]
    },
    {
     "name": "stdout",
     "output_type": "stream",
     "text": [
      "Epoch 26: {'loss': 2.3195975683629513, 'lr': 0.001, 'MAE': 235.63815, 'MSE': 37.823803}\n"
     ]
    },
    {
     "name": "stderr",
     "output_type": "stream",
     "text": [
      "Epoch 27: 100%|██████████| 196/196 [01:01<00:00,  3.20it/s]\n"
     ]
    },
    {
     "name": "stdout",
     "output_type": "stream",
     "text": [
      "Epoch 27: {'loss': 2.3057741904631257, 'lr': 0.001, 'MAE': 235.0141, 'MSE': 37.483612}\n"
     ]
    },
    {
     "name": "stderr",
     "output_type": "stream",
     "text": [
      "Epoch 28: 100%|██████████| 196/196 [01:00<00:00,  3.22it/s]\n"
     ]
    },
    {
     "name": "stdout",
     "output_type": "stream",
     "text": [
      "Epoch 28: {'loss': 2.28357564099133, 'lr': 0.001, 'MAE': 234.5361, 'MSE': 37.254555}\n"
     ]
    },
    {
     "name": "stderr",
     "output_type": "stream",
     "text": [
      "Epoch 29: 100%|██████████| 196/196 [01:01<00:00,  3.21it/s]\n"
     ]
    },
    {
     "name": "stdout",
     "output_type": "stream",
     "text": [
      "Epoch 29: {'loss': 2.272495652548969, 'lr': 0.001, 'MAE': 234.12613, 'MSE': 37.18336}\n"
     ]
    },
    {
     "name": "stderr",
     "output_type": "stream",
     "text": [
      "Epoch 30: 100%|██████████| 196/196 [01:01<00:00,  3.19it/s]\n"
     ]
    },
    {
     "name": "stdout",
     "output_type": "stream",
     "text": [
      "Epoch 30: {'loss': 2.2635918371379375, 'lr': 0.001, 'MAE': 233.93857, 'MSE': 37.037624}\n"
     ]
    },
    {
     "name": "stderr",
     "output_type": "stream",
     "text": [
      "Epoch 31: 100%|██████████| 196/196 [01:01<00:00,  3.21it/s]\n"
     ]
    },
    {
     "name": "stdout",
     "output_type": "stream",
     "text": [
      "Epoch 31: {'loss': 2.254966953769326, 'lr': 0.001, 'MAE': 233.62503, 'MSE': 36.966034}\n"
     ]
    },
    {
     "name": "stderr",
     "output_type": "stream",
     "text": [
      "Epoch 32: 100%|██████████| 196/196 [01:00<00:00,  3.21it/s]\n"
     ]
    },
    {
     "name": "stdout",
     "output_type": "stream",
     "text": [
      "Epoch 32: {'loss': 2.2509216405451298, 'lr': 0.001, 'MAE': 233.47653, 'MSE': 36.944355}\n"
     ]
    },
    {
     "name": "stderr",
     "output_type": "stream",
     "text": [
      "Epoch 33: 100%|██████████| 196/196 [01:01<00:00,  3.20it/s]\n"
     ]
    },
    {
     "name": "stdout",
     "output_type": "stream",
     "text": [
      "Epoch 33: {'loss': 2.2452028524130583, 'lr': 0.001, 'MAE': 233.32922, 'MSE': 36.920345}\n"
     ]
    },
    {
     "name": "stderr",
     "output_type": "stream",
     "text": [
      "Epoch 34: 100%|██████████| 196/196 [01:01<00:00,  3.21it/s]\n"
     ]
    },
    {
     "name": "stdout",
     "output_type": "stream",
     "text": [
      "Epoch 34: {'loss': 2.23989793471992, 'lr': 0.001, 'MAE': 233.0597, 'MSE': 36.822926}\n"
     ]
    },
    {
     "name": "stderr",
     "output_type": "stream",
     "text": [
      "Epoch 35: 100%|██████████| 196/196 [01:01<00:00,  3.21it/s]\n"
     ]
    },
    {
     "name": "stdout",
     "output_type": "stream",
     "text": [
      "Epoch 35: {'loss': 2.234697697684169, 'lr': 0.001, 'MAE': 232.97412, 'MSE': 36.74843}\n"
     ]
    },
    {
     "name": "stderr",
     "output_type": "stream",
     "text": [
      "Epoch 36: 100%|██████████| 196/196 [01:01<00:00,  3.20it/s]\n"
     ]
    },
    {
     "name": "stdout",
     "output_type": "stream",
     "text": [
      "Epoch 36: {'loss': 2.229796006344259, 'lr': 0.001, 'MAE': 232.69334, 'MSE': 36.719185}\n"
     ]
    },
    {
     "name": "stderr",
     "output_type": "stream",
     "text": [
      "Epoch 37: 100%|██████████| 196/196 [01:01<00:00,  3.21it/s]\n"
     ]
    },
    {
     "name": "stdout",
     "output_type": "stream",
     "text": [
      "Epoch 37: {'loss': 2.225804675370455, 'lr': 0.001, 'MAE': 232.56654, 'MSE': 36.68476}\n"
     ]
    },
    {
     "name": "stderr",
     "output_type": "stream",
     "text": [
      "Epoch 38: 100%|██████████| 196/196 [01:01<00:00,  3.21it/s]\n"
     ]
    },
    {
     "name": "stdout",
     "output_type": "stream",
     "text": [
      "Epoch 38: {'loss': 2.2193771256133914, 'lr': 0.001, 'MAE': 232.329, 'MSE': 36.600346}\n"
     ]
    },
    {
     "name": "stderr",
     "output_type": "stream",
     "text": [
      "Epoch 39: 100%|██████████| 196/196 [01:01<00:00,  3.20it/s]\n"
     ]
    },
    {
     "name": "stdout",
     "output_type": "stream",
     "text": [
      "Epoch 39: {'loss': 2.214266694150865, 'lr': 0.001, 'MAE': 231.91017, 'MSE': 36.566586}\n"
     ]
    },
    {
     "name": "stderr",
     "output_type": "stream",
     "text": [
      "Epoch 40: 100%|██████████| 196/196 [01:01<00:00,  3.21it/s]\n"
     ]
    },
    {
     "name": "stdout",
     "output_type": "stream",
     "text": [
      "Epoch 40: {'loss': 2.2036962853744626, 'lr': 0.001, 'MAE': 231.67772, 'MSE': 36.308517}\n"
     ]
    },
    {
     "name": "stderr",
     "output_type": "stream",
     "text": [
      "Epoch 41: 100%|██████████| 196/196 [01:01<00:00,  3.21it/s]\n"
     ]
    },
    {
     "name": "stdout",
     "output_type": "stream",
     "text": [
      "Epoch 41: {'loss': 2.19290937948972, 'lr': 0.001, 'MAE': 231.62967, 'MSE': 36.256042}\n"
     ]
    },
    {
     "name": "stderr",
     "output_type": "stream",
     "text": [
      "Epoch 42: 100%|██████████| 196/196 [01:01<00:00,  3.20it/s]\n"
     ]
    },
    {
     "name": "stdout",
     "output_type": "stream",
     "text": [
      "Epoch 42: {'loss': 2.1874039256945252, 'lr': 0.001, 'MAE': 231.48918, 'MSE': 36.210255}\n"
     ]
    },
    {
     "name": "stderr",
     "output_type": "stream",
     "text": [
      "Epoch 43: 100%|██████████| 196/196 [01:01<00:00,  3.21it/s]\n"
     ]
    },
    {
     "name": "stdout",
     "output_type": "stream",
     "text": [
      "Epoch 43: {'loss': 2.1768058286979795, 'lr': 0.001, 'MAE': 230.5398, 'MSE': 35.9853}\n"
     ]
    },
    {
     "name": "stderr",
     "output_type": "stream",
     "text": [
      "Epoch 44: 100%|██████████| 196/196 [01:01<00:00,  3.21it/s]\n"
     ]
    },
    {
     "name": "stdout",
     "output_type": "stream",
     "text": [
      "Epoch 44: {'loss': 2.166328553110361, 'lr': 0.001, 'MAE': 230.48187, 'MSE': 35.896553}\n"
     ]
    },
    {
     "name": "stderr",
     "output_type": "stream",
     "text": [
      "Epoch 45: 100%|██████████| 196/196 [01:01<00:00,  3.20it/s]\n"
     ]
    },
    {
     "name": "stdout",
     "output_type": "stream",
     "text": [
      "Epoch 45: {'loss': 2.162225764244795, 'lr': 0.001, 'MAE': 230.45572, 'MSE': 35.884068}\n"
     ]
    },
    {
     "name": "stderr",
     "output_type": "stream",
     "text": [
      "Epoch 46: 100%|██████████| 196/196 [01:01<00:00,  3.21it/s]\n"
     ]
    },
    {
     "name": "stdout",
     "output_type": "stream",
     "text": [
      "Epoch 46: {'loss': 2.156091755256057, 'lr': 0.001, 'MAE': 230.11963, 'MSE': 35.840458}\n"
     ]
    },
    {
     "name": "stderr",
     "output_type": "stream",
     "text": [
      "Epoch 47: 100%|██████████| 196/196 [01:01<00:00,  3.21it/s]\n"
     ]
    },
    {
     "name": "stdout",
     "output_type": "stream",
     "text": [
      "Epoch 47: {'loss': 2.1528360126540065, 'lr': 0.001, 'MAE': 229.75085, 'MSE': 35.775394}\n"
     ]
    },
    {
     "name": "stderr",
     "output_type": "stream",
     "text": [
      "Epoch 48: 100%|██████████| 196/196 [01:01<00:00,  3.20it/s]\n"
     ]
    },
    {
     "name": "stdout",
     "output_type": "stream",
     "text": [
      "Epoch 48: {'loss': 2.1466166842728853, 'lr': 0.001, 'MAE': 229.8762, 'MSE': 35.691433}\n"
     ]
    },
    {
     "name": "stderr",
     "output_type": "stream",
     "text": [
      "Epoch 49: 100%|██████████| 196/196 [01:01<00:00,  3.21it/s]\n"
     ]
    },
    {
     "name": "stdout",
     "output_type": "stream",
     "text": [
      "Epoch 49: {'loss': 2.143119238317013, 'lr': 0.001, 'MAE': 229.43845, 'MSE': 35.651043}\n"
     ]
    },
    {
     "name": "stderr",
     "output_type": "stream",
     "text": [
      "Epoch 50: 100%|██████████| 196/196 [01:01<00:00,  3.21it/s]\n"
     ]
    },
    {
     "name": "stdout",
     "output_type": "stream",
     "text": [
      "Epoch 50: {'loss': 2.131747081875801, 'lr': 0.0001, 'MAE': 229.0668, 'MSE': 35.60406}\n"
     ]
    },
    {
     "name": "stderr",
     "output_type": "stream",
     "text": [
      "Epoch 51: 100%|██████████| 196/196 [01:01<00:00,  3.19it/s]\n"
     ]
    },
    {
     "name": "stdout",
     "output_type": "stream",
     "text": [
      "Epoch 51: {'loss': 2.1301306234672666, 'lr': 0.0001, 'MAE': 229.03966, 'MSE': 35.59479}\n"
     ]
    },
    {
     "name": "stderr",
     "output_type": "stream",
     "text": [
      "Epoch 52: 100%|██████████| 196/196 [01:01<00:00,  3.21it/s]\n"
     ]
    },
    {
     "name": "stdout",
     "output_type": "stream",
     "text": [
      "Epoch 52: {'loss': 2.128412497229874, 'lr': 0.0001, 'MAE': 229.03917, 'MSE': 35.592255}\n"
     ]
    },
    {
     "name": "stderr",
     "output_type": "stream",
     "text": [
      "Epoch 53: 100%|██████████| 196/196 [01:01<00:00,  3.21it/s]\n"
     ]
    },
    {
     "name": "stdout",
     "output_type": "stream",
     "text": [
      "Epoch 53: {'loss': 2.1282979352399707, 'lr': 0.0001, 'MAE': 229.06613, 'MSE': 35.585445}\n"
     ]
    },
    {
     "name": "stderr",
     "output_type": "stream",
     "text": [
      "Epoch 54: 100%|██████████| 196/196 [01:01<00:00,  3.20it/s]\n"
     ]
    },
    {
     "name": "stdout",
     "output_type": "stream",
     "text": [
      "Epoch 54: {'loss': 2.1284168800339103, 'lr': 0.0001, 'MAE': 229.00806, 'MSE': 35.586136}\n"
     ]
    },
    {
     "name": "stderr",
     "output_type": "stream",
     "text": [
      "Epoch 55: 100%|██████████| 196/196 [01:00<00:00,  3.21it/s]\n"
     ]
    },
    {
     "name": "stdout",
     "output_type": "stream",
     "text": [
      "Epoch 55: {'loss': 2.127474058419466, 'lr': 0.0001, 'MAE': 228.9816, 'MSE': 35.58}\n"
     ]
    },
    {
     "name": "stderr",
     "output_type": "stream",
     "text": [
      "Epoch 56: 100%|██████████| 196/196 [01:01<00:00,  3.21it/s]\n"
     ]
    },
    {
     "name": "stdout",
     "output_type": "stream",
     "text": [
      "Epoch 56: {'loss': 2.126806115731597, 'lr': 0.0001, 'MAE': 229.03618, 'MSE': 35.5726}\n"
     ]
    },
    {
     "name": "stderr",
     "output_type": "stream",
     "text": [
      "Epoch 57: 100%|██████████| 196/196 [01:01<00:00,  3.20it/s]\n"
     ]
    },
    {
     "name": "stdout",
     "output_type": "stream",
     "text": [
      "Epoch 57: {'loss': 2.12671076040715, 'lr': 0.0001, 'MAE': 229.00038, 'MSE': 35.569904}\n"
     ]
    },
    {
     "name": "stderr",
     "output_type": "stream",
     "text": [
      "Epoch 58: 100%|██████████| 196/196 [01:01<00:00,  3.21it/s]\n"
     ]
    },
    {
     "name": "stdout",
     "output_type": "stream",
     "text": [
      "Epoch 58: {'loss': 2.1261312598362565, 'lr': 0.0001, 'MAE': 228.9535, 'MSE': 35.562325}\n"
     ]
    },
    {
     "name": "stderr",
     "output_type": "stream",
     "text": [
      "Epoch 59: 100%|██████████| 196/196 [01:01<00:00,  3.21it/s]\n"
     ]
    },
    {
     "name": "stdout",
     "output_type": "stream",
     "text": [
      "Epoch 59: {'loss': 2.1250701285898685, 'lr': 0.0001, 'MAE': 228.96825, 'MSE': 35.562958}\n"
     ]
    },
    {
     "name": "stderr",
     "output_type": "stream",
     "text": [
      "Epoch 60: 100%|██████████| 196/196 [01:01<00:00,  3.20it/s]\n"
     ]
    },
    {
     "name": "stdout",
     "output_type": "stream",
     "text": [
      "Epoch 60: {'loss': 2.124330112710595, 'lr': 0.0001, 'MAE': 228.941, 'MSE': 35.5479}\n"
     ]
    },
    {
     "name": "stderr",
     "output_type": "stream",
     "text": [
      "Epoch 61: 100%|██████████| 196/196 [01:01<00:00,  3.21it/s]\n"
     ]
    },
    {
     "name": "stdout",
     "output_type": "stream",
     "text": [
      "Epoch 61: {'loss': 2.123938257806003, 'lr': 0.0001, 'MAE': 228.81454, 'MSE': 35.555195}\n"
     ]
    },
    {
     "name": "stderr",
     "output_type": "stream",
     "text": [
      "Epoch 62: 100%|██████████| 196/196 [01:01<00:00,  3.21it/s]\n"
     ]
    },
    {
     "name": "stdout",
     "output_type": "stream",
     "text": [
      "Epoch 62: {'loss': 2.124115196056664, 'lr': 0.0001, 'MAE': 228.94618, 'MSE': 35.536755}\n"
     ]
    },
    {
     "name": "stderr",
     "output_type": "stream",
     "text": [
      "Epoch 63: 100%|██████████| 196/196 [01:01<00:00,  3.19it/s]\n"
     ]
    },
    {
     "name": "stdout",
     "output_type": "stream",
     "text": [
      "Epoch 63: {'loss': 2.1235133931040764, 'lr': 0.0001, 'MAE': 228.88036, 'MSE': 35.541405}\n"
     ]
    },
    {
     "name": "stderr",
     "output_type": "stream",
     "text": [
      "Epoch 64: 100%|██████████| 196/196 [01:01<00:00,  3.21it/s]\n"
     ]
    },
    {
     "name": "stdout",
     "output_type": "stream",
     "text": [
      "Epoch 64: {'loss': 2.123958358541131, 'lr': 0.0001, 'MAE': 228.857, 'MSE': 35.53817}\n"
     ]
    },
    {
     "name": "stderr",
     "output_type": "stream",
     "text": [
      "Epoch 65: 100%|██████████| 196/196 [01:01<00:00,  3.21it/s]\n"
     ]
    },
    {
     "name": "stdout",
     "output_type": "stream",
     "text": [
      "Epoch 65: {'loss': 2.1219269074499607, 'lr': 0.0001, 'MAE': 228.8795, 'MSE': 35.538925}\n"
     ]
    },
    {
     "name": "stderr",
     "output_type": "stream",
     "text": [
      "Epoch 66: 100%|██████████| 196/196 [01:01<00:00,  3.19it/s]\n"
     ]
    },
    {
     "name": "stdout",
     "output_type": "stream",
     "text": [
      "Epoch 66: {'loss': 2.122743803076446, 'lr': 0.0001, 'MAE': 228.78908, 'MSE': 35.534138}\n"
     ]
    },
    {
     "name": "stderr",
     "output_type": "stream",
     "text": [
      "Epoch 67: 100%|██████████| 196/196 [01:01<00:00,  3.21it/s]\n"
     ]
    },
    {
     "name": "stdout",
     "output_type": "stream",
     "text": [
      "Epoch 67: {'loss': 2.1205049892887473, 'lr': 0.0001, 'MAE': 228.7612, 'MSE': 35.528755}\n"
     ]
    },
    {
     "name": "stderr",
     "output_type": "stream",
     "text": [
      "Epoch 68: 100%|██████████| 196/196 [01:01<00:00,  3.21it/s]\n"
     ]
    },
    {
     "name": "stdout",
     "output_type": "stream",
     "text": [
      "Epoch 68: {'loss': 2.1213230546563864, 'lr': 0.0001, 'MAE': 228.77486, 'MSE': 35.515972}\n"
     ]
    },
    {
     "name": "stderr",
     "output_type": "stream",
     "text": [
      "Epoch 69: 100%|██████████| 196/196 [01:01<00:00,  3.19it/s]\n"
     ]
    },
    {
     "name": "stdout",
     "output_type": "stream",
     "text": [
      "Epoch 69: {'loss': 2.1209136620163918, 'lr': 0.0001, 'MAE': 228.75238, 'MSE': 35.515743}\n"
     ]
    },
    {
     "name": "stderr",
     "output_type": "stream",
     "text": [
      "Epoch 70: 100%|██████████| 196/196 [01:01<00:00,  3.21it/s]\n"
     ]
    },
    {
     "name": "stdout",
     "output_type": "stream",
     "text": [
      "Epoch 70: {'loss': 2.1203512297943234, 'lr': 0.0001, 'MAE': 228.71616, 'MSE': 35.508266}\n"
     ]
    },
    {
     "name": "stderr",
     "output_type": "stream",
     "text": [
      "Epoch 71: 100%|██████████| 196/196 [01:01<00:00,  3.20it/s]\n"
     ]
    },
    {
     "name": "stdout",
     "output_type": "stream",
     "text": [
      "Epoch 71: {'loss': 2.119622712954879, 'lr': 0.0001, 'MAE': 228.64606, 'MSE': 35.512093}\n"
     ]
    },
    {
     "name": "stderr",
     "output_type": "stream",
     "text": [
      "Epoch 72: 100%|██████████| 196/196 [01:01<00:00,  3.19it/s]\n"
     ]
    },
    {
     "name": "stdout",
     "output_type": "stream",
     "text": [
      "Epoch 72: {'loss': 2.119169617071748, 'lr': 0.0001, 'MAE': 228.66635, 'MSE': 35.501}\n"
     ]
    },
    {
     "name": "stderr",
     "output_type": "stream",
     "text": [
      "Epoch 73: 100%|██████████| 196/196 [01:01<00:00,  3.21it/s]\n"
     ]
    },
    {
     "name": "stdout",
     "output_type": "stream",
     "text": [
      "Epoch 73: {'loss': 2.1179531197994947, 'lr': 0.0001, 'MAE': 228.6588, 'MSE': 35.504025}\n"
     ]
    },
    {
     "name": "stderr",
     "output_type": "stream",
     "text": [
      "Epoch 74: 100%|██████████| 196/196 [01:01<00:00,  3.21it/s]\n"
     ]
    },
    {
     "name": "stdout",
     "output_type": "stream",
     "text": [
      "Epoch 74: {'loss': 2.118544084019959, 'lr': 0.0001, 'MAE': 228.68124, 'MSE': 35.495834}\n"
     ]
    },
    {
     "name": "stderr",
     "output_type": "stream",
     "text": [
      "Epoch 75: 100%|██████████| 196/196 [01:01<00:00,  3.19it/s]\n"
     ]
    },
    {
     "name": "stdout",
     "output_type": "stream",
     "text": [
      "Epoch 75: {'loss': 2.116749540902674, 'lr': 1e-05, 'MAE': 228.63425, 'MSE': 35.494125}\n"
     ]
    },
    {
     "name": "stderr",
     "output_type": "stream",
     "text": [
      "Epoch 76: 100%|██████████| 196/196 [01:01<00:00,  3.21it/s]\n"
     ]
    },
    {
     "name": "stdout",
     "output_type": "stream",
     "text": [
      "Epoch 76: {'loss': 2.1174723394215107, 'lr': 1e-05, 'MAE': 228.66185, 'MSE': 35.489372}\n"
     ]
    },
    {
     "name": "stderr",
     "output_type": "stream",
     "text": [
      "Epoch 77: 100%|██████████| 196/196 [01:01<00:00,  3.21it/s]\n"
     ]
    },
    {
     "name": "stdout",
     "output_type": "stream",
     "text": [
      "Epoch 77: {'loss': 2.1166215986013412, 'lr': 1e-05, 'MAE': 228.66084, 'MSE': 35.48849}\n"
     ]
    },
    {
     "name": "stderr",
     "output_type": "stream",
     "text": [
      "Epoch 78: 100%|██████████| 196/196 [01:01<00:00,  3.19it/s]\n"
     ]
    },
    {
     "name": "stdout",
     "output_type": "stream",
     "text": [
      "Epoch 78: {'loss': 2.1170225525274873, 'lr': 1e-05, 'MAE': 228.61432, 'MSE': 35.488552}\n"
     ]
    },
    {
     "name": "stderr",
     "output_type": "stream",
     "text": [
      "Epoch 79: 100%|██████████| 196/196 [01:01<00:00,  3.21it/s]\n"
     ]
    },
    {
     "name": "stdout",
     "output_type": "stream",
     "text": [
      "Epoch 79: {'loss': 2.116414025425911, 'lr': 1e-05, 'MAE': 228.56242, 'MSE': 35.490566}\n"
     ]
    },
    {
     "name": "stderr",
     "output_type": "stream",
     "text": [
      "Epoch 80: 100%|██████████| 196/196 [01:01<00:00,  3.21it/s]\n"
     ]
    },
    {
     "name": "stdout",
     "output_type": "stream",
     "text": [
      "Epoch 80: {'loss': 2.1169472727924585, 'lr': 1e-05, 'MAE': 228.58517, 'MSE': 35.492832}\n"
     ]
    },
    {
     "name": "stderr",
     "output_type": "stream",
     "text": [
      "Epoch 81: 100%|██████████| 196/196 [01:01<00:00,  3.20it/s]\n"
     ]
    },
    {
     "name": "stdout",
     "output_type": "stream",
     "text": [
      "Epoch 81: {'loss': 2.1163330897688866, 'lr': 1e-05, 'MAE': 228.62563, 'MSE': 35.488495}\n"
     ]
    },
    {
     "name": "stderr",
     "output_type": "stream",
     "text": [
      "Epoch 82: 100%|██████████| 196/196 [01:01<00:00,  3.21it/s]\n"
     ]
    },
    {
     "name": "stdout",
     "output_type": "stream",
     "text": [
      "Epoch 82: {'loss': 2.1160367112606764, 'lr': 1e-05, 'MAE': 228.67184, 'MSE': 35.486576}\n"
     ]
    },
    {
     "name": "stderr",
     "output_type": "stream",
     "text": [
      "Epoch 83: 100%|██████████| 196/196 [01:01<00:00,  3.21it/s]\n"
     ]
    },
    {
     "name": "stdout",
     "output_type": "stream",
     "text": [
      "Epoch 83: {'loss': 2.1161374635994434, 'lr': 1e-05, 'MAE': 228.66595, 'MSE': 35.490864}\n"
     ]
    },
    {
     "name": "stderr",
     "output_type": "stream",
     "text": [
      "Epoch 84: 100%|██████████| 196/196 [01:01<00:00,  3.20it/s]\n"
     ]
    },
    {
     "name": "stdout",
     "output_type": "stream",
     "text": [
      "Epoch 84: {'loss': 2.1164834573864937, 'lr': 1e-05, 'MAE': 228.59523, 'MSE': 35.485905}\n"
     ]
    },
    {
     "name": "stderr",
     "output_type": "stream",
     "text": [
      "Epoch 85: 100%|██████████| 196/196 [01:01<00:00,  3.21it/s]\n"
     ]
    },
    {
     "name": "stdout",
     "output_type": "stream",
     "text": [
      "Epoch 85: {'loss': 2.1154360035434365, 'lr': 1e-05, 'MAE': 228.66063, 'MSE': 35.488045}\n"
     ]
    },
    {
     "name": "stderr",
     "output_type": "stream",
     "text": [
      "Epoch 86: 100%|██████████| 196/196 [01:01<00:00,  3.21it/s]\n"
     ]
    },
    {
     "name": "stdout",
     "output_type": "stream",
     "text": [
      "Epoch 86: {'loss': 2.116192284040153, 'lr': 1e-05, 'MAE': 228.616, 'MSE': 35.488064}\n"
     ]
    },
    {
     "name": "stderr",
     "output_type": "stream",
     "text": [
      "Epoch 87: 100%|██████████| 196/196 [01:01<00:00,  3.19it/s]\n"
     ]
    },
    {
     "name": "stdout",
     "output_type": "stream",
     "text": [
      "Epoch 87: {'loss': 2.116764584556222, 'lr': 1e-05, 'MAE': 228.5711, 'MSE': 35.489265}\n"
     ]
    },
    {
     "name": "stderr",
     "output_type": "stream",
     "text": [
      "Epoch 88: 100%|██████████| 196/196 [01:01<00:00,  3.21it/s]\n"
     ]
    },
    {
     "name": "stdout",
     "output_type": "stream",
     "text": [
      "Epoch 88: {'loss': 2.1161673674359918, 'lr': 1e-05, 'MAE': 228.5576, 'MSE': 35.4892}\n"
     ]
    },
    {
     "name": "stderr",
     "output_type": "stream",
     "text": [
      "Epoch 89: 100%|██████████| 196/196 [01:01<00:00,  3.21it/s]\n"
     ]
    },
    {
     "name": "stdout",
     "output_type": "stream",
     "text": [
      "Epoch 89: {'loss': 2.1164458598941565, 'lr': 1e-05, 'MAE': 228.57387, 'MSE': 35.481987}\n"
     ]
    },
    {
     "name": "stderr",
     "output_type": "stream",
     "text": [
      "Epoch 90: 100%|██████████| 196/196 [01:01<00:00,  3.19it/s]\n"
     ]
    },
    {
     "name": "stdout",
     "output_type": "stream",
     "text": [
      "Epoch 90: {'loss': 2.1161109628155828, 'lr': 1e-05, 'MAE': 228.59656, 'MSE': 35.48237}\n"
     ]
    },
    {
     "name": "stderr",
     "output_type": "stream",
     "text": [
      "Epoch 91: 100%|██████████| 196/196 [01:01<00:00,  3.21it/s]\n"
     ]
    },
    {
     "name": "stdout",
     "output_type": "stream",
     "text": [
      "Epoch 91: {'loss': 2.1155851371586323, 'lr': 1e-05, 'MAE': 228.56645, 'MSE': 35.485638}\n"
     ]
    },
    {
     "name": "stderr",
     "output_type": "stream",
     "text": [
      "Epoch 92: 100%|██████████| 196/196 [01:01<00:00,  3.21it/s]\n"
     ]
    },
    {
     "name": "stdout",
     "output_type": "stream",
     "text": [
      "Epoch 92: {'loss': 2.1157287983223796, 'lr': 1e-05, 'MAE': 228.59164, 'MSE': 35.48274}\n"
     ]
    },
    {
     "name": "stderr",
     "output_type": "stream",
     "text": [
      "Epoch 93: 100%|██████████| 196/196 [01:01<00:00,  3.19it/s]\n"
     ]
    },
    {
     "name": "stdout",
     "output_type": "stream",
     "text": [
      "Epoch 93: {'loss': 2.115847358480096, 'lr': 1e-05, 'MAE': 228.57715, 'MSE': 35.48168}\n"
     ]
    },
    {
     "name": "stderr",
     "output_type": "stream",
     "text": [
      "Epoch 94: 100%|██████████| 196/196 [01:01<00:00,  3.21it/s]\n"
     ]
    },
    {
     "name": "stdout",
     "output_type": "stream",
     "text": [
      "Epoch 94: {'loss': 2.1158110136166215, 'lr': 1e-05, 'MAE': 228.70195, 'MSE': 35.491898}\n"
     ]
    },
    {
     "name": "stderr",
     "output_type": "stream",
     "text": [
      "Epoch 95: 100%|██████████| 196/196 [01:01<00:00,  3.21it/s]\n"
     ]
    },
    {
     "name": "stdout",
     "output_type": "stream",
     "text": [
      "Epoch 95: {'loss': 2.1160031482577324, 'lr': 1e-05, 'MAE': 228.54788, 'MSE': 35.483685}\n"
     ]
    },
    {
     "name": "stderr",
     "output_type": "stream",
     "text": [
      "Epoch 96: 100%|██████████| 196/196 [01:01<00:00,  3.20it/s]\n"
     ]
    },
    {
     "name": "stdout",
     "output_type": "stream",
     "text": [
      "Epoch 96: {'loss': 2.115443210117519, 'lr': 1e-05, 'MAE': 228.56046, 'MSE': 35.483833}\n"
     ]
    },
    {
     "name": "stderr",
     "output_type": "stream",
     "text": [
      "Epoch 97: 100%|██████████| 196/196 [01:01<00:00,  3.21it/s]\n"
     ]
    },
    {
     "name": "stdout",
     "output_type": "stream",
     "text": [
      "Epoch 97: {'loss': 2.114950777962804, 'lr': 1e-05, 'MAE': 228.587, 'MSE': 35.48197}\n"
     ]
    },
    {
     "name": "stderr",
     "output_type": "stream",
     "text": [
      "Epoch 98: 100%|██████████| 196/196 [01:00<00:00,  3.21it/s]\n"
     ]
    },
    {
     "name": "stdout",
     "output_type": "stream",
     "text": [
      "Epoch 98: {'loss': 2.115341665223241, 'lr': 1e-05, 'MAE': 228.511, 'MSE': 35.48372}\n"
     ]
    },
    {
     "name": "stderr",
     "output_type": "stream",
     "text": [
      "Epoch 99: 100%|██████████| 196/196 [01:01<00:00,  3.19it/s]\n"
     ]
    },
    {
     "name": "stdout",
     "output_type": "stream",
     "text": [
      "Epoch 99: {'loss': 2.1152991307899356, 'lr': 1e-05, 'MAE': 228.63795, 'MSE': 35.480858}\n",
      "Saving the result to ./23/predictions/features_images_encoded.npy\n",
      "Saving the result to ./23/predictions/features_images_decoded.npy\n",
      "{'model': 'Комбинированная нейронная сеть', 'MAE': 228.63793107784832, 'MSE': 35.48085806999322}\n",
      "Trying diagrams - <cvtda.autoencoder.Autoencoder.Autoencoder object at 0x0000024359B6C610>\n",
      "Encoder Base parameters: 38949888\n",
      "Decoder parameters: 2239587\n"
     ]
    },
    {
     "name": "stderr",
     "output_type": "stream",
     "text": [
      "Epoch 0: 100%|██████████| 196/196 [38:01<00:00, 11.64s/it]\n"
     ]
    },
    {
     "name": "stdout",
     "output_type": "stream",
     "text": [
      "Epoch 0: {'loss': 55.89397983253002, 'lr': 0.1, 'MAE': 857.0793, 'MSE': 382.46283}\n"
     ]
    },
    {
     "name": "stderr",
     "output_type": "stream",
     "text": [
      "Epoch 1: 100%|██████████| 196/196 [37:58<00:00, 11.63s/it]\n"
     ]
    },
    {
     "name": "stdout",
     "output_type": "stream",
     "text": [
      "Epoch 1: {'loss': 14.017237596213818, 'lr': 0.1, 'MAE': 539.38135, 'MSE': 149.03043}\n"
     ]
    },
    {
     "name": "stderr",
     "output_type": "stream",
     "text": [
      "Epoch 2: 100%|██████████| 196/196 [37:57<00:00, 11.62s/it]\n"
     ]
    },
    {
     "name": "stdout",
     "output_type": "stream",
     "text": [
      "Epoch 2: {'loss': 8.726211361587048, 'lr': 0.010000000000000002, 'MAE': 504.3049, 'MSE': 133.07281}\n"
     ]
    },
    {
     "name": "stderr",
     "output_type": "stream",
     "text": [
      "Epoch 3: 100%|██████████| 196/196 [37:58<00:00, 11.62s/it]\n"
     ]
    },
    {
     "name": "stdout",
     "output_type": "stream",
     "text": [
      "Epoch 3: {'loss': 8.13630322739482, 'lr': 0.010000000000000002, 'MAE': 477.83176, 'MSE': 121.22329}\n"
     ]
    },
    {
     "name": "stderr",
     "output_type": "stream",
     "text": [
      "Epoch 4: 100%|██████████| 196/196 [37:57<00:00, 11.62s/it]\n"
     ]
    },
    {
     "name": "stdout",
     "output_type": "stream",
     "text": [
      "Epoch 4: {'loss': 7.609985653311014, 'lr': 0.010000000000000002, 'MAE': 472.3993, 'MSE': 118.15649}\n"
     ]
    },
    {
     "name": "stderr",
     "output_type": "stream",
     "text": [
      "Epoch 5: 100%|██████████| 196/196 [37:57<00:00, 11.62s/it]\n"
     ]
    },
    {
     "name": "stdout",
     "output_type": "stream",
     "text": [
      "Epoch 5: {'loss': 7.441849306225777, 'lr': 0.001, 'MAE': 466.65686, 'MSE': 116.18771}\n"
     ]
    },
    {
     "name": "stderr",
     "output_type": "stream",
     "text": [
      "Epoch 6: 100%|██████████| 196/196 [37:58<00:00, 11.62s/it]\n"
     ]
    },
    {
     "name": "stdout",
     "output_type": "stream",
     "text": [
      "Epoch 6: {'loss': 7.3824991919100285, 'lr': 0.001, 'MAE': 464.3708, 'MSE': 115.13195}\n"
     ]
    },
    {
     "name": "stderr",
     "output_type": "stream",
     "text": [
      "Epoch 7: 100%|██████████| 196/196 [37:56<00:00, 11.61s/it]\n"
     ]
    },
    {
     "name": "stdout",
     "output_type": "stream",
     "text": [
      "Epoch 7: {'loss': 7.295445378869772, 'lr': 0.001, 'MAE': 460.48434, 'MSE': 113.580925}\n"
     ]
    },
    {
     "name": "stderr",
     "output_type": "stream",
     "text": [
      "Epoch 8: 100%|██████████| 196/196 [37:59<00:00, 11.63s/it]\n"
     ]
    },
    {
     "name": "stdout",
     "output_type": "stream",
     "text": [
      "Epoch 8: {'loss': 7.211922757327557, 'lr': 0.001, 'MAE': 459.03915, 'MSE': 112.68029}\n"
     ]
    },
    {
     "name": "stderr",
     "output_type": "stream",
     "text": [
      "Epoch 9: 100%|██████████| 196/196 [37:58<00:00, 11.62s/it]\n"
     ]
    },
    {
     "name": "stdout",
     "output_type": "stream",
     "text": [
      "Epoch 9: {'loss': 7.172915369272232, 'lr': 0.001, 'MAE': 457.36426, 'MSE': 112.3052}\n"
     ]
    },
    {
     "name": "stderr",
     "output_type": "stream",
     "text": [
      "Epoch 10: 100%|██████████| 196/196 [37:57<00:00, 11.62s/it]\n"
     ]
    },
    {
     "name": "stdout",
     "output_type": "stream",
     "text": [
      "Epoch 10: {'loss': 7.147642124444246, 'lr': 0.0001, 'MAE': 457.3101, 'MSE': 112.077576}\n"
     ]
    },
    {
     "name": "stderr",
     "output_type": "stream",
     "text": [
      "Epoch 11: 100%|██████████| 196/196 [37:59<00:00, 11.63s/it]\n"
     ]
    },
    {
     "name": "stdout",
     "output_type": "stream",
     "text": [
      "Epoch 11: {'loss': 7.145877804607153, 'lr': 0.0001, 'MAE': 457.12115, 'MSE': 112.03905}\n"
     ]
    },
    {
     "name": "stderr",
     "output_type": "stream",
     "text": [
      "Epoch 12: 100%|██████████| 196/196 [37:19<00:00, 11.43s/it]\n"
     ]
    },
    {
     "name": "stdout",
     "output_type": "stream",
     "text": [
      "Epoch 12: {'loss': 7.141761712729931, 'lr': 0.0001, 'MAE': 456.95575, 'MSE': 112.00157}\n"
     ]
    },
    {
     "name": "stderr",
     "output_type": "stream",
     "text": [
      "Epoch 13: 100%|██████████| 196/196 [37:16<00:00, 11.41s/it]\n"
     ]
    },
    {
     "name": "stdout",
     "output_type": "stream",
     "text": [
      "Epoch 13: {'loss': 7.138448018580675, 'lr': 0.0001, 'MAE': 456.85675, 'MSE': 111.954666}\n"
     ]
    },
    {
     "name": "stderr",
     "output_type": "stream",
     "text": [
      "Epoch 14: 100%|██████████| 196/196 [36:21<00:00, 11.13s/it]\n"
     ]
    },
    {
     "name": "stdout",
     "output_type": "stream",
     "text": [
      "Epoch 14: {'loss': 7.137882959097624, 'lr': 0.0001, 'MAE': 456.6808, 'MSE': 111.92013}\n"
     ]
    },
    {
     "name": "stderr",
     "output_type": "stream",
     "text": [
      "Epoch 15: 100%|██████████| 196/196 [37:05<00:00, 11.35s/it]\n"
     ]
    },
    {
     "name": "stdout",
     "output_type": "stream",
     "text": [
      "Epoch 15: {'loss': 7.132997263222933, 'lr': 1e-05, 'MAE': 456.72055, 'MSE': 111.90326}\n"
     ]
    },
    {
     "name": "stderr",
     "output_type": "stream",
     "text": [
      "Epoch 16: 100%|██████████| 196/196 [35:26<00:00, 10.85s/it]\n"
     ]
    },
    {
     "name": "stdout",
     "output_type": "stream",
     "text": [
      "Epoch 16: {'loss': 7.133533328771591, 'lr': 1e-05, 'MAE': 456.73575, 'MSE': 111.89891}\n"
     ]
    },
    {
     "name": "stderr",
     "output_type": "stream",
     "text": [
      "Epoch 17: 100%|██████████| 196/196 [37:38<00:00, 11.52s/it]\n"
     ]
    },
    {
     "name": "stdout",
     "output_type": "stream",
     "text": [
      "Epoch 17: {'loss': 7.135066442191601, 'lr': 1e-05, 'MAE': 456.66544, 'MSE': 111.895065}\n"
     ]
    },
    {
     "name": "stderr",
     "output_type": "stream",
     "text": [
      "Epoch 18: 100%|██████████| 196/196 [40:16<00:00, 12.33s/it]\n"
     ]
    },
    {
     "name": "stdout",
     "output_type": "stream",
     "text": [
      "Epoch 18: {'loss': 7.132024861872196, 'lr': 1e-05, 'MAE': 456.6926, 'MSE': 111.88808}\n"
     ]
    },
    {
     "name": "stderr",
     "output_type": "stream",
     "text": [
      "Epoch 19: 100%|██████████| 196/196 [42:54<00:00, 13.13s/it]\n"
     ]
    },
    {
     "name": "stdout",
     "output_type": "stream",
     "text": [
      "Epoch 19: {'loss': 7.133693661540747, 'lr': 1e-05, 'MAE': 456.6511, 'MSE': 111.8832}\n",
      "Saving the result to ./23/predictions/diagrams_encoded.npy\n",
      "Saving the result to ./23/predictions/diagrams_decoded.npy\n",
      "{'model': 'Обучаемая векторизация диаграмм', 'MAE': 456.65110791584374, 'MSE': 111.88320302849417}\n"
     ]
    },
    {
     "data": {
      "text/html": [
       "<div>\n",
       "<style scoped>\n",
       "    .dataframe tbody tr th:only-of-type {\n",
       "        vertical-align: middle;\n",
       "    }\n",
       "\n",
       "    .dataframe tbody tr th {\n",
       "        vertical-align: top;\n",
       "    }\n",
       "\n",
       "    .dataframe thead th {\n",
       "        text-align: right;\n",
       "    }\n",
       "</style>\n",
       "<table border=\"1\" class=\"dataframe\">\n",
       "  <thead>\n",
       "    <tr style=\"text-align: right;\">\n",
       "      <th></th>\n",
       "      <th>model</th>\n",
       "      <th>MAE</th>\n",
       "      <th>MSE</th>\n",
       "    </tr>\n",
       "  </thead>\n",
       "  <tbody>\n",
       "    <tr>\n",
       "      <th>0</th>\n",
       "      <td>Топологические признаки</td>\n",
       "      <td>186.884685</td>\n",
       "      <td>24.802697</td>\n",
       "    </tr>\n",
       "    <tr>\n",
       "      <th>1</th>\n",
       "      <td>ResNet50 – базовая модель</td>\n",
       "      <td>423.845240</td>\n",
       "      <td>99.175976</td>\n",
       "    </tr>\n",
       "    <tr>\n",
       "      <th>2</th>\n",
       "      <td>Комбинированная нейронная сеть</td>\n",
       "      <td>228.637931</td>\n",
       "      <td>35.480858</td>\n",
       "    </tr>\n",
       "    <tr>\n",
       "      <th>3</th>\n",
       "      <td>Обучаемая векторизация диаграмм</td>\n",
       "      <td>456.651108</td>\n",
       "      <td>111.883203</td>\n",
       "    </tr>\n",
       "  </tbody>\n",
       "</table>\n",
       "</div>"
      ],
      "text/plain": [
       "                             model         MAE         MSE\n",
       "0          Топологические признаки  186.884685   24.802697\n",
       "1        ResNet50 – базовая модель  423.845240   99.175976\n",
       "2   Комбинированная нейронная сеть  228.637931   35.480858\n",
       "3  Обучаемая векторизация диаграмм  456.651108  111.883203"
      ]
     },
     "execution_count": 4,
     "metadata": {},
     "output_type": "execute_result"
    }
   ],
   "source": [
    "import cvtda.autoencoder\n",
    "\n",
    "cvtda.autoencoder.try_autoencoders(\n",
    "    train_images, train_features, train_diagrams,\n",
    "    test_images, test_features, test_diagrams,\n",
    "    dump_name = \"23/predictions\", only_get_from_dump = False\n",
    ")"
   ]
  },
  {
   "cell_type": "code",
   "execution_count": 14,
   "metadata": {},
   "outputs": [
    {
     "name": "stdout",
     "output_type": "stream",
     "text": [
      "7270\n",
      "860\n"
     ]
    },
    {
     "data": {
      "image/png": "[encoded data removed]",
      "text/plain": [
       "<Figure size 200x500 with 10 Axes>"
      ]
     },
     "metadata": {},
     "output_type": "display_data"
    }
   ],
   "source": [
    "import numpy\n",
    "import matplotlib.pyplot as plt\n",
    "\n",
    "numpy.random.seed(42)\n",
    "\n",
    "fig, axes = plt.subplots(5, 2, figsize = (2, 5))\n",
    "\n",
    "for i in range(2):\n",
    "    index = numpy.random.randint(0, len(test_images))\n",
    "    print(index)\n",
    "\n",
    "    axes[0][i].axis('off')\n",
    "    axes[0][i].imshow(test_images[index])\n",
    "\n",
    "    for j, f_type in enumerate([ 'features', 'images', 'features_images', 'diagrams' ]):\n",
    "        axes[j + 1][i].axis('off')\n",
    "        axes[j + 1][i].imshow(numpy.load(f'23/predictions/{f_type}_decoded.npy')[index])\n",
    "\n",
    "fig.tight_layout()\n",
    "fig.savefig('23/predictions/examples.png')"
   ]
  }
 ],
 "metadata": {
  "kernelspec": {
   "display_name": "Python 3",
   "language": "python",
   "name": "python3"
  },
  "language_info": {
   "codemirror_mode": {
    "name": "ipython",
    "version": 3
   },
   "file_extension": ".py",
   "mimetype": "text/x-python",
   "name": "python",
   "nbconvert_exporter": "python",
   "pygments_lexer": "ipython3",
   "version": "3.10.11"
  }
 },
 "nbformat": 4,
 "nbformat_minor": 2
}
