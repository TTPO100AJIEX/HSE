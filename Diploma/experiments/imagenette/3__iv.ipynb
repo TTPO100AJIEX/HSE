{
 "cells": [
  {
   "cell_type": "code",
   "execution_count": 1,
   "id": "c8b29c6a",
   "metadata": {},
   "outputs": [],
   "source": [
    "import numpy\n",
    "import torchvision\n",
    "import torchvision.transforms.v2\n",
    "\n",
    "transform = torchvision.transforms.v2.Compose([\n",
    "    torchvision.transforms.v2.Resize((64, 64), antialias = True)\n",
    "])\n",
    "\n",
    "train = torchvision.datasets.Imagenette('imagenette', split = 'train', size = '160px', transform = transform, download = False)\n",
    "test = torchvision.datasets.Imagenette('imagenette', split = 'val', size = '160px', transform = transform, download = False)\n",
    "\n",
    "train_images = numpy.array([ numpy.array(item[0]) / 255 for item in train ])\n",
    "train_labels = numpy.array([ item[1] for item in train ])\n",
    "\n",
    "test_images = numpy.array([ numpy.array(item[0]) / 255 for item in test ])\n",
    "test_labels = numpy.array([ item[1] for item in test ])"
   ]
  },
  {
   "cell_type": "code",
   "execution_count": 2,
   "id": "0a206652",
   "metadata": {},
   "outputs": [
    {
     "name": "stdout",
     "output_type": "stream",
     "text": [
      "Calculating inverted images\n",
      "RGB images received. Transforming to grayscale.\n"
     ]
    },
    {
     "name": "stderr",
     "output_type": "stream",
     "text": [
      "rgb2gray: 100%|██████████| 9469/9469 [00:02<00:00, 3892.03it/s]\n"
     ]
    },
    {
     "name": "stdout",
     "output_type": "stream",
     "text": [
      "GreyscaleExtractor: processing 1/64/train/greyscale/gray, do_fit = True\n",
      "Got the result from ./1/64/train/greyscale/gray/diagrams.npy\n",
      "Applying Scaler to persistence diagrams.\n",
      "DiagramVectorizer: fitting complete\n",
      "Got the result from ./1/64/train/greyscale/gray/features.npy\n",
      "GreyscaleExtractor: processing 1/64/train/greyscale/gray, do_fit = False\n",
      "Got the result from ./1/64/train/greyscale/gray/diagrams.npy\n",
      "Applying Scaler to persistence diagrams.\n",
      "Got the result from ./1/64/train/greyscale/gray/features.npy\n",
      "GreyscaleExtractor: processing 1/64/train/greyscale/red, do_fit = True\n",
      "Got the result from ./1/64/train/greyscale/red/diagrams.npy\n",
      "Applying Scaler to persistence diagrams.\n",
      "DiagramVectorizer: fitting complete\n",
      "Got the result from ./1/64/train/greyscale/red/features.npy\n",
      "GreyscaleExtractor: processing 1/64/train/greyscale/red, do_fit = False\n",
      "Got the result from ./1/64/train/greyscale/red/diagrams.npy\n",
      "Applying Scaler to persistence diagrams.\n",
      "Got the result from ./1/64/train/greyscale/red/features.npy\n",
      "GreyscaleExtractor: processing 1/64/train/greyscale/green, do_fit = True\n",
      "Got the result from ./1/64/train/greyscale/green/diagrams.npy\n",
      "Applying Scaler to persistence diagrams.\n",
      "DiagramVectorizer: fitting complete\n",
      "Got the result from ./1/64/train/greyscale/green/features.npy\n",
      "GreyscaleExtractor: processing 1/64/train/greyscale/green, do_fit = False\n",
      "Got the result from ./1/64/train/greyscale/green/diagrams.npy\n",
      "Applying Scaler to persistence diagrams.\n",
      "Got the result from ./1/64/train/greyscale/green/features.npy\n",
      "GreyscaleExtractor: processing 1/64/train/greyscale/blue, do_fit = True\n",
      "Got the result from ./1/64/train/greyscale/blue/diagrams.npy\n",
      "Applying Scaler to persistence diagrams.\n",
      "DiagramVectorizer: fitting complete\n",
      "Got the result from ./1/64/train/greyscale/blue/features.npy\n",
      "GreyscaleExtractor: processing 1/64/train/greyscale/blue, do_fit = False\n",
      "Got the result from ./1/64/train/greyscale/blue/diagrams.npy\n",
      "Applying Scaler to persistence diagrams.\n",
      "Got the result from ./1/64/train/greyscale/blue/features.npy\n",
      "RGB images received. Transforming to grayscale.\n"
     ]
    },
    {
     "name": "stderr",
     "output_type": "stream",
     "text": [
      "rgb2gray: 100%|██████████| 9469/9469 [00:01<00:00, 5243.58it/s]\n"
     ]
    },
    {
     "name": "stdout",
     "output_type": "stream",
     "text": [
      "GreyscaleExtractor: processing 1/64/train/greyscale/gray, do_fit = False\n",
      "Got the result from ./1/64/train/greyscale/gray/diagrams.npy\n",
      "Applying Scaler to persistence diagrams.\n",
      "Got the result from ./1/64/train/greyscale/gray/features.npy\n",
      "GreyscaleExtractor: processing 1/64/train/greyscale/red, do_fit = False\n",
      "Got the result from ./1/64/train/greyscale/red/diagrams.npy\n",
      "Applying Scaler to persistence diagrams.\n",
      "Got the result from ./1/64/train/greyscale/red/features.npy\n",
      "GreyscaleExtractor: processing 1/64/train/greyscale/green, do_fit = False\n",
      "Got the result from ./1/64/train/greyscale/green/diagrams.npy\n",
      "Applying Scaler to persistence diagrams.\n",
      "Got the result from ./1/64/train/greyscale/green/features.npy\n",
      "GreyscaleExtractor: processing 1/64/train/greyscale/blue, do_fit = False\n",
      "Got the result from ./1/64/train/greyscale/blue/diagrams.npy\n",
      "Applying Scaler to persistence diagrams.\n",
      "Got the result from ./1/64/train/greyscale/blue/features.npy\n",
      "RGB images received. Transforming to grayscale.\n"
     ]
    },
    {
     "name": "stderr",
     "output_type": "stream",
     "text": [
      "rgb2gray: 100%|██████████| 9469/9469 [00:01<00:00, 5071.33it/s] \n"
     ]
    },
    {
     "name": "stdout",
     "output_type": "stream",
     "text": [
      "GreyscaleExtractor: processing 1/64/train/inverted_greyscale/gray, do_fit = True\n",
      "Got the result from ./1/64/train/inverted_greyscale/gray/diagrams.npy\n",
      "Applying Scaler to persistence diagrams.\n",
      "DiagramVectorizer: fitting complete\n",
      "Got the result from ./1/64/train/inverted_greyscale/gray/features.npy\n",
      "GreyscaleExtractor: processing 1/64/train/inverted_greyscale/gray, do_fit = False\n",
      "Got the result from ./1/64/train/inverted_greyscale/gray/diagrams.npy\n",
      "Applying Scaler to persistence diagrams.\n",
      "Got the result from ./1/64/train/inverted_greyscale/gray/features.npy\n",
      "GreyscaleExtractor: processing 1/64/train/inverted_greyscale/red, do_fit = True\n",
      "Got the result from ./1/64/train/inverted_greyscale/red/diagrams.npy\n",
      "Applying Scaler to persistence diagrams.\n",
      "DiagramVectorizer: fitting complete\n",
      "Got the result from ./1/64/train/inverted_greyscale/red/features.npy\n",
      "GreyscaleExtractor: processing 1/64/train/inverted_greyscale/red, do_fit = False\n",
      "Got the result from ./1/64/train/inverted_greyscale/red/diagrams.npy\n",
      "Applying Scaler to persistence diagrams.\n",
      "Got the result from ./1/64/train/inverted_greyscale/red/features.npy\n",
      "GreyscaleExtractor: processing 1/64/train/inverted_greyscale/green, do_fit = True\n",
      "Got the result from ./1/64/train/inverted_greyscale/green/diagrams.npy\n",
      "Applying Scaler to persistence diagrams.\n",
      "DiagramVectorizer: fitting complete\n",
      "Got the result from ./1/64/train/inverted_greyscale/green/features.npy\n",
      "GreyscaleExtractor: processing 1/64/train/inverted_greyscale/green, do_fit = False\n",
      "Got the result from ./1/64/train/inverted_greyscale/green/diagrams.npy\n",
      "Applying Scaler to persistence diagrams.\n",
      "Got the result from ./1/64/train/inverted_greyscale/green/features.npy\n",
      "GreyscaleExtractor: processing 1/64/train/inverted_greyscale/blue, do_fit = True\n",
      "Got the result from ./1/64/train/inverted_greyscale/blue/diagrams.npy\n",
      "Applying Scaler to persistence diagrams.\n",
      "DiagramVectorizer: fitting complete\n",
      "Got the result from ./1/64/train/inverted_greyscale/blue/features.npy\n",
      "GreyscaleExtractor: processing 1/64/train/inverted_greyscale/blue, do_fit = False\n",
      "Got the result from ./1/64/train/inverted_greyscale/blue/diagrams.npy\n",
      "Applying Scaler to persistence diagrams.\n",
      "Got the result from ./1/64/train/inverted_greyscale/blue/features.npy\n",
      "RGB images received. Transforming to grayscale.\n"
     ]
    },
    {
     "name": "stderr",
     "output_type": "stream",
     "text": [
      "rgb2gray: 100%|██████████| 9469/9469 [00:01<00:00, 5417.05it/s]\n"
     ]
    },
    {
     "name": "stdout",
     "output_type": "stream",
     "text": [
      "GreyscaleExtractor: processing 1/64/train/inverted_greyscale/gray, do_fit = False\n",
      "Got the result from ./1/64/train/inverted_greyscale/gray/diagrams.npy\n",
      "Applying Scaler to persistence diagrams.\n",
      "Got the result from ./1/64/train/inverted_greyscale/gray/features.npy\n",
      "GreyscaleExtractor: processing 1/64/train/inverted_greyscale/red, do_fit = False\n",
      "Got the result from ./1/64/train/inverted_greyscale/red/diagrams.npy\n",
      "Applying Scaler to persistence diagrams.\n",
      "Got the result from ./1/64/train/inverted_greyscale/red/features.npy\n",
      "GreyscaleExtractor: processing 1/64/train/inverted_greyscale/green, do_fit = False\n",
      "Got the result from ./1/64/train/inverted_greyscale/green/diagrams.npy\n",
      "Applying Scaler to persistence diagrams.\n",
      "Got the result from ./1/64/train/inverted_greyscale/green/features.npy\n",
      "GreyscaleExtractor: processing 1/64/train/inverted_greyscale/blue, do_fit = False\n",
      "Got the result from ./1/64/train/inverted_greyscale/blue/diagrams.npy\n",
      "Applying Scaler to persistence diagrams.\n",
      "Got the result from ./1/64/train/inverted_greyscale/blue/features.npy\n",
      "Fitting filtrations\n",
      "Fitting filtration 1/72: HeightFiltration with d = (-1, -1), bin. thr. = 0.2\n",
      "RGB images received. Transforming to grayscale.\n"
     ]
    },
    {
     "name": "stderr",
     "output_type": "stream",
     "text": [
      "rgb2gray: 100%|██████████| 9469/9469 [00:01<00:00, 5325.98it/s]\n"
     ]
    },
    {
     "name": "stdout",
     "output_type": "stream",
     "text": [
      "FiltrationExtractor: processing 1/64/train/filtrations/2/HeightFiltrartion_-1_-1/gray, do_fit = True, filtration = HeightFiltration(direction=array([-1, -1]), n_jobs=-1)\n",
      "Got the result from ./1/64/train/filtrations/2/HeightFiltrartion_-1_-1/gray/diagrams.npy\n",
      "Applying Scaler to persistence diagrams.\n",
      "DiagramVectorizer: fitting complete\n",
      "Got the result from ./1/64/train/filtrations/2/HeightFiltrartion_-1_-1/gray/features.npy\n",
      "FiltrationExtractor: processing 1/64/train/filtrations/2/HeightFiltrartion_-1_-1/gray, do_fit = False, filtration = HeightFiltration(direction=array([-1, -1]), n_jobs=-1)\n",
      "Got the result from ./1/64/train/filtrations/2/HeightFiltrartion_-1_-1/gray/diagrams.npy\n",
      "Applying Scaler to persistence diagrams.\n",
      "Got the result from ./1/64/train/filtrations/2/HeightFiltrartion_-1_-1/gray/features.npy\n",
      "FiltrationExtractor: processing 1/64/train/filtrations/2/HeightFiltrartion_-1_-1/red, do_fit = True, filtration = HeightFiltration(direction=array([-1, -1]), n_jobs=-1)\n",
      "Got the result from ./1/64/train/filtrations/2/HeightFiltrartion_-1_-1/red/diagrams.npy\n",
      "Applying Scaler to persistence diagrams.\n",
      "DiagramVectorizer: fitting complete\n",
      "Got the result from ./1/64/train/filtrations/2/HeightFiltrartion_-1_-1/red/features.npy\n",
      "FiltrationExtractor: processing 1/64/train/filtrations/2/HeightFiltrartion_-1_-1/red, do_fit = False, filtration = HeightFiltration(direction=array([-1, -1]), n_jobs=-1)\n",
      "Got the result from ./1/64/train/filtrations/2/HeightFiltrartion_-1_-1/red/diagrams.npy\n",
      "Applying Scaler to persistence diagrams.\n",
      "Got the result from ./1/64/train/filtrations/2/HeightFiltrartion_-1_-1/red/features.npy\n",
      "FiltrationExtractor: processing 1/64/train/filtrations/2/HeightFiltrartion_-1_-1/green, do_fit = True, filtration = HeightFiltration(direction=array([-1, -1]), n_jobs=-1)\n",
      "Got the result from ./1/64/train/filtrations/2/HeightFiltrartion_-1_-1/green/diagrams.npy\n",
      "Applying Scaler to persistence diagrams.\n",
      "DiagramVectorizer: fitting complete\n",
      "Got the result from ./1/64/train/filtrations/2/HeightFiltrartion_-1_-1/green/features.npy\n",
      "FiltrationExtractor: processing 1/64/train/filtrations/2/HeightFiltrartion_-1_-1/green, do_fit = False, filtration = HeightFiltration(direction=array([-1, -1]), n_jobs=-1)\n",
      "Got the result from ./1/64/train/filtrations/2/HeightFiltrartion_-1_-1/green/diagrams.npy\n",
      "Applying Scaler to persistence diagrams.\n",
      "Got the result from ./1/64/train/filtrations/2/HeightFiltrartion_-1_-1/green/features.npy\n",
      "FiltrationExtractor: processing 1/64/train/filtrations/2/HeightFiltrartion_-1_-1/blue, do_fit = True, filtration = HeightFiltration(direction=array([-1, -1]), n_jobs=-1)\n",
      "Got the result from ./1/64/train/filtrations/2/HeightFiltrartion_-1_-1/blue/diagrams.npy\n",
      "Applying Scaler to persistence diagrams.\n",
      "DiagramVectorizer: fitting complete\n",
      "Got the result from ./1/64/train/filtrations/2/HeightFiltrartion_-1_-1/blue/features.npy\n",
      "FiltrationExtractor: processing 1/64/train/filtrations/2/HeightFiltrartion_-1_-1/blue, do_fit = False, filtration = HeightFiltration(direction=array([-1, -1]), n_jobs=-1)\n",
      "Got the result from ./1/64/train/filtrations/2/HeightFiltrartion_-1_-1/blue/diagrams.npy\n",
      "Applying Scaler to persistence diagrams.\n",
      "Got the result from ./1/64/train/filtrations/2/HeightFiltrartion_-1_-1/blue/features.npy\n",
      "Fitting filtration 2/72: HeightFiltration with d = (-1, 0), bin. thr. = 0.2\n",
      "RGB images received. Transforming to grayscale.\n"
     ]
    },
    {
     "name": "stderr",
     "output_type": "stream",
     "text": [
      "rgb2gray: 100%|██████████| 9469/9469 [00:01<00:00, 5521.69it/s]\n"
     ]
    },
    {
     "name": "stdout",
     "output_type": "stream",
     "text": [
      "FiltrationExtractor: processing 1/64/train/filtrations/2/HeightFiltrartion_-1_0/gray, do_fit = True, filtration = HeightFiltration(direction=array([-1,  0]), n_jobs=-1)\n",
      "Got the result from ./1/64/train/filtrations/2/HeightFiltrartion_-1_0/gray/diagrams.npy\n",
      "Applying Scaler to persistence diagrams.\n",
      "DiagramVectorizer: fitting complete\n",
      "Got the result from ./1/64/train/filtrations/2/HeightFiltrartion_-1_0/gray/features.npy\n",
      "FiltrationExtractor: processing 1/64/train/filtrations/2/HeightFiltrartion_-1_0/gray, do_fit = False, filtration = HeightFiltration(direction=array([-1,  0]), n_jobs=-1)\n",
      "Got the result from ./1/64/train/filtrations/2/HeightFiltrartion_-1_0/gray/diagrams.npy\n",
      "Applying Scaler to persistence diagrams.\n",
      "Got the result from ./1/64/train/filtrations/2/HeightFiltrartion_-1_0/gray/features.npy\n",
      "FiltrationExtractor: processing 1/64/train/filtrations/2/HeightFiltrartion_-1_0/red, do_fit = True, filtration = HeightFiltration(direction=array([-1,  0]), n_jobs=-1)\n",
      "Got the result from ./1/64/train/filtrations/2/HeightFiltrartion_-1_0/red/diagrams.npy\n",
      "Applying Scaler to persistence diagrams.\n",
      "DiagramVectorizer: fitting complete\n",
      "Got the result from ./1/64/train/filtrations/2/HeightFiltrartion_-1_0/red/features.npy\n",
      "FiltrationExtractor: processing 1/64/train/filtrations/2/HeightFiltrartion_-1_0/red, do_fit = False, filtration = HeightFiltration(direction=array([-1,  0]), n_jobs=-1)\n",
      "Got the result from ./1/64/train/filtrations/2/HeightFiltrartion_-1_0/red/diagrams.npy\n",
      "Applying Scaler to persistence diagrams.\n",
      "Got the result from ./1/64/train/filtrations/2/HeightFiltrartion_-1_0/red/features.npy\n",
      "FiltrationExtractor: processing 1/64/train/filtrations/2/HeightFiltrartion_-1_0/green, do_fit = True, filtration = HeightFiltration(direction=array([-1,  0]), n_jobs=-1)\n",
      "Got the result from ./1/64/train/filtrations/2/HeightFiltrartion_-1_0/green/diagrams.npy\n",
      "Applying Scaler to persistence diagrams.\n",
      "DiagramVectorizer: fitting complete\n",
      "Got the result from ./1/64/train/filtrations/2/HeightFiltrartion_-1_0/green/features.npy\n",
      "FiltrationExtractor: processing 1/64/train/filtrations/2/HeightFiltrartion_-1_0/green, do_fit = False, filtration = HeightFiltration(direction=array([-1,  0]), n_jobs=-1)\n",
      "Got the result from ./1/64/train/filtrations/2/HeightFiltrartion_-1_0/green/diagrams.npy\n",
      "Applying Scaler to persistence diagrams.\n",
      "Got the result from ./1/64/train/filtrations/2/HeightFiltrartion_-1_0/green/features.npy\n",
      "FiltrationExtractor: processing 1/64/train/filtrations/2/HeightFiltrartion_-1_0/blue, do_fit = True, filtration = HeightFiltration(direction=array([-1,  0]), n_jobs=-1)\n",
      "Got the result from ./1/64/train/filtrations/2/HeightFiltrartion_-1_0/blue/diagrams.npy\n",
      "Applying Scaler to persistence diagrams.\n",
      "DiagramVectorizer: fitting complete\n",
      "Got the result from ./1/64/train/filtrations/2/HeightFiltrartion_-1_0/blue/features.npy\n",
      "FiltrationExtractor: processing 1/64/train/filtrations/2/HeightFiltrartion_-1_0/blue, do_fit = False, filtration = HeightFiltration(direction=array([-1,  0]), n_jobs=-1)\n",
      "Got the result from ./1/64/train/filtrations/2/HeightFiltrartion_-1_0/blue/diagrams.npy\n",
      "Applying Scaler to persistence diagrams.\n",
      "Got the result from ./1/64/train/filtrations/2/HeightFiltrartion_-1_0/blue/features.npy\n",
      "Fitting filtration 3/72: HeightFiltration with d = (-1, 1), bin. thr. = 0.2\n",
      "RGB images received. Transforming to grayscale.\n"
     ]
    },
    {
     "name": "stderr",
     "output_type": "stream",
     "text": [
      "rgb2gray: 100%|██████████| 9469/9469 [00:01<00:00, 5446.97it/s]\n"
     ]
    },
    {
     "name": "stdout",
     "output_type": "stream",
     "text": [
      "FiltrationExtractor: processing 1/64/train/filtrations/2/HeightFiltrartion_-1_1/gray, do_fit = True, filtration = HeightFiltration(direction=array([-1,  1]), n_jobs=-1)\n",
      "Got the result from ./1/64/train/filtrations/2/HeightFiltrartion_-1_1/gray/diagrams.npy\n",
      "Applying Scaler to persistence diagrams.\n",
      "DiagramVectorizer: fitting complete\n",
      "Got the result from ./1/64/train/filtrations/2/HeightFiltrartion_-1_1/gray/features.npy\n",
      "FiltrationExtractor: processing 1/64/train/filtrations/2/HeightFiltrartion_-1_1/gray, do_fit = False, filtration = HeightFiltration(direction=array([-1,  1]), n_jobs=-1)\n",
      "Got the result from ./1/64/train/filtrations/2/HeightFiltrartion_-1_1/gray/diagrams.npy\n",
      "Applying Scaler to persistence diagrams.\n",
      "Got the result from ./1/64/train/filtrations/2/HeightFiltrartion_-1_1/gray/features.npy\n",
      "FiltrationExtractor: processing 1/64/train/filtrations/2/HeightFiltrartion_-1_1/red, do_fit = True, filtration = HeightFiltration(direction=array([-1,  1]), n_jobs=-1)\n",
      "Got the result from ./1/64/train/filtrations/2/HeightFiltrartion_-1_1/red/diagrams.npy\n",
      "Applying Scaler to persistence diagrams.\n",
      "DiagramVectorizer: fitting complete\n",
      "Got the result from ./1/64/train/filtrations/2/HeightFiltrartion_-1_1/red/features.npy\n",
      "FiltrationExtractor: processing 1/64/train/filtrations/2/HeightFiltrartion_-1_1/red, do_fit = False, filtration = HeightFiltration(direction=array([-1,  1]), n_jobs=-1)\n",
      "Got the result from ./1/64/train/filtrations/2/HeightFiltrartion_-1_1/red/diagrams.npy\n",
      "Applying Scaler to persistence diagrams.\n",
      "Got the result from ./1/64/train/filtrations/2/HeightFiltrartion_-1_1/red/features.npy\n",
      "FiltrationExtractor: processing 1/64/train/filtrations/2/HeightFiltrartion_-1_1/green, do_fit = True, filtration = HeightFiltration(direction=array([-1,  1]), n_jobs=-1)\n",
      "Got the result from ./1/64/train/filtrations/2/HeightFiltrartion_-1_1/green/diagrams.npy\n",
      "Applying Scaler to persistence diagrams.\n",
      "DiagramVectorizer: fitting complete\n",
      "Got the result from ./1/64/train/filtrations/2/HeightFiltrartion_-1_1/green/features.npy\n",
      "FiltrationExtractor: processing 1/64/train/filtrations/2/HeightFiltrartion_-1_1/green, do_fit = False, filtration = HeightFiltration(direction=array([-1,  1]), n_jobs=-1)\n",
      "Got the result from ./1/64/train/filtrations/2/HeightFiltrartion_-1_1/green/diagrams.npy\n",
      "Applying Scaler to persistence diagrams.\n",
      "Got the result from ./1/64/train/filtrations/2/HeightFiltrartion_-1_1/green/features.npy\n",
      "FiltrationExtractor: processing 1/64/train/filtrations/2/HeightFiltrartion_-1_1/blue, do_fit = True, filtration = HeightFiltration(direction=array([-1,  1]), n_jobs=-1)\n",
      "Got the result from ./1/64/train/filtrations/2/HeightFiltrartion_-1_1/blue/diagrams.npy\n",
      "Applying Scaler to persistence diagrams.\n",
      "DiagramVectorizer: fitting complete\n",
      "Got the result from ./1/64/train/filtrations/2/HeightFiltrartion_-1_1/blue/features.npy\n",
      "FiltrationExtractor: processing 1/64/train/filtrations/2/HeightFiltrartion_-1_1/blue, do_fit = False, filtration = HeightFiltration(direction=array([-1,  1]), n_jobs=-1)\n",
      "Got the result from ./1/64/train/filtrations/2/HeightFiltrartion_-1_1/blue/diagrams.npy\n",
      "Applying Scaler to persistence diagrams.\n",
      "Got the result from ./1/64/train/filtrations/2/HeightFiltrartion_-1_1/blue/features.npy\n",
      "Fitting filtration 4/72: HeightFiltration with d = (0, -1), bin. thr. = 0.2\n",
      "RGB images received. Transforming to grayscale.\n"
     ]
    },
    {
     "name": "stderr",
     "output_type": "stream",
     "text": [
      "rgb2gray: 100%|██████████| 9469/9469 [00:01<00:00, 5487.68it/s]\n"
     ]
    },
    {
     "name": "stdout",
     "output_type": "stream",
     "text": [
      "FiltrationExtractor: processing 1/64/train/filtrations/2/HeightFiltrartion_0_-1/gray, do_fit = True, filtration = HeightFiltration(direction=array([ 0, -1]), n_jobs=-1)\n",
      "Got the result from ./1/64/train/filtrations/2/HeightFiltrartion_0_-1/gray/diagrams.npy\n",
      "Applying Scaler to persistence diagrams.\n",
      "DiagramVectorizer: fitting complete\n",
      "Got the result from ./1/64/train/filtrations/2/HeightFiltrartion_0_-1/gray/features.npy\n",
      "FiltrationExtractor: processing 1/64/train/filtrations/2/HeightFiltrartion_0_-1/gray, do_fit = False, filtration = HeightFiltration(direction=array([ 0, -1]), n_jobs=-1)\n",
      "Got the result from ./1/64/train/filtrations/2/HeightFiltrartion_0_-1/gray/diagrams.npy\n",
      "Applying Scaler to persistence diagrams.\n",
      "Got the result from ./1/64/train/filtrations/2/HeightFiltrartion_0_-1/gray/features.npy\n",
      "FiltrationExtractor: processing 1/64/train/filtrations/2/HeightFiltrartion_0_-1/red, do_fit = True, filtration = HeightFiltration(direction=array([ 0, -1]), n_jobs=-1)\n",
      "Got the result from ./1/64/train/filtrations/2/HeightFiltrartion_0_-1/red/diagrams.npy\n",
      "Applying Scaler to persistence diagrams.\n",
      "DiagramVectorizer: fitting complete\n",
      "Got the result from ./1/64/train/filtrations/2/HeightFiltrartion_0_-1/red/features.npy\n",
      "FiltrationExtractor: processing 1/64/train/filtrations/2/HeightFiltrartion_0_-1/red, do_fit = False, filtration = HeightFiltration(direction=array([ 0, -1]), n_jobs=-1)\n",
      "Got the result from ./1/64/train/filtrations/2/HeightFiltrartion_0_-1/red/diagrams.npy\n",
      "Applying Scaler to persistence diagrams.\n",
      "Got the result from ./1/64/train/filtrations/2/HeightFiltrartion_0_-1/red/features.npy\n",
      "FiltrationExtractor: processing 1/64/train/filtrations/2/HeightFiltrartion_0_-1/green, do_fit = True, filtration = HeightFiltration(direction=array([ 0, -1]), n_jobs=-1)\n",
      "Got the result from ./1/64/train/filtrations/2/HeightFiltrartion_0_-1/green/diagrams.npy\n",
      "Applying Scaler to persistence diagrams.\n",
      "DiagramVectorizer: fitting complete\n",
      "Got the result from ./1/64/train/filtrations/2/HeightFiltrartion_0_-1/green/features.npy\n",
      "FiltrationExtractor: processing 1/64/train/filtrations/2/HeightFiltrartion_0_-1/green, do_fit = False, filtration = HeightFiltration(direction=array([ 0, -1]), n_jobs=-1)\n",
      "Got the result from ./1/64/train/filtrations/2/HeightFiltrartion_0_-1/green/diagrams.npy\n",
      "Applying Scaler to persistence diagrams.\n",
      "Got the result from ./1/64/train/filtrations/2/HeightFiltrartion_0_-1/green/features.npy\n",
      "FiltrationExtractor: processing 1/64/train/filtrations/2/HeightFiltrartion_0_-1/blue, do_fit = True, filtration = HeightFiltration(direction=array([ 0, -1]), n_jobs=-1)\n",
      "Got the result from ./1/64/train/filtrations/2/HeightFiltrartion_0_-1/blue/diagrams.npy\n",
      "Applying Scaler to persistence diagrams.\n",
      "DiagramVectorizer: fitting complete\n",
      "Got the result from ./1/64/train/filtrations/2/HeightFiltrartion_0_-1/blue/features.npy\n",
      "FiltrationExtractor: processing 1/64/train/filtrations/2/HeightFiltrartion_0_-1/blue, do_fit = False, filtration = HeightFiltration(direction=array([ 0, -1]), n_jobs=-1)\n",
      "Got the result from ./1/64/train/filtrations/2/HeightFiltrartion_0_-1/blue/diagrams.npy\n",
      "Applying Scaler to persistence diagrams.\n",
      "Got the result from ./1/64/train/filtrations/2/HeightFiltrartion_0_-1/blue/features.npy\n",
      "Fitting filtration 5/72: HeightFiltration with d = (0, 1), bin. thr. = 0.2\n",
      "RGB images received. Transforming to grayscale.\n"
     ]
    },
    {
     "name": "stderr",
     "output_type": "stream",
     "text": [
      "rgb2gray: 100%|██████████| 9469/9469 [00:01<00:00, 5526.61it/s]\n"
     ]
    },
    {
     "name": "stdout",
     "output_type": "stream",
     "text": [
      "FiltrationExtractor: processing 1/64/train/filtrations/2/HeightFiltrartion_0_1/gray, do_fit = True, filtration = HeightFiltration(direction=array([0, 1]), n_jobs=-1)\n",
      "Got the result from ./1/64/train/filtrations/2/HeightFiltrartion_0_1/gray/diagrams.npy\n",
      "Applying Scaler to persistence diagrams.\n",
      "DiagramVectorizer: fitting complete\n",
      "Got the result from ./1/64/train/filtrations/2/HeightFiltrartion_0_1/gray/features.npy\n",
      "FiltrationExtractor: processing 1/64/train/filtrations/2/HeightFiltrartion_0_1/gray, do_fit = False, filtration = HeightFiltration(direction=array([0, 1]), n_jobs=-1)\n",
      "Got the result from ./1/64/train/filtrations/2/HeightFiltrartion_0_1/gray/diagrams.npy\n",
      "Applying Scaler to persistence diagrams.\n",
      "Got the result from ./1/64/train/filtrations/2/HeightFiltrartion_0_1/gray/features.npy\n",
      "FiltrationExtractor: processing 1/64/train/filtrations/2/HeightFiltrartion_0_1/red, do_fit = True, filtration = HeightFiltration(direction=array([0, 1]), n_jobs=-1)\n",
      "Got the result from ./1/64/train/filtrations/2/HeightFiltrartion_0_1/red/diagrams.npy\n",
      "Applying Scaler to persistence diagrams.\n",
      "DiagramVectorizer: fitting complete\n",
      "Got the result from ./1/64/train/filtrations/2/HeightFiltrartion_0_1/red/features.npy\n",
      "FiltrationExtractor: processing 1/64/train/filtrations/2/HeightFiltrartion_0_1/red, do_fit = False, filtration = HeightFiltration(direction=array([0, 1]), n_jobs=-1)\n",
      "Got the result from ./1/64/train/filtrations/2/HeightFiltrartion_0_1/red/diagrams.npy\n",
      "Applying Scaler to persistence diagrams.\n",
      "Got the result from ./1/64/train/filtrations/2/HeightFiltrartion_0_1/red/features.npy\n",
      "FiltrationExtractor: processing 1/64/train/filtrations/2/HeightFiltrartion_0_1/green, do_fit = True, filtration = HeightFiltration(direction=array([0, 1]), n_jobs=-1)\n",
      "Got the result from ./1/64/train/filtrations/2/HeightFiltrartion_0_1/green/diagrams.npy\n",
      "Applying Scaler to persistence diagrams.\n",
      "DiagramVectorizer: fitting complete\n",
      "Got the result from ./1/64/train/filtrations/2/HeightFiltrartion_0_1/green/features.npy\n",
      "FiltrationExtractor: processing 1/64/train/filtrations/2/HeightFiltrartion_0_1/green, do_fit = False, filtration = HeightFiltration(direction=array([0, 1]), n_jobs=-1)\n",
      "Got the result from ./1/64/train/filtrations/2/HeightFiltrartion_0_1/green/diagrams.npy\n",
      "Applying Scaler to persistence diagrams.\n",
      "Got the result from ./1/64/train/filtrations/2/HeightFiltrartion_0_1/green/features.npy\n",
      "FiltrationExtractor: processing 1/64/train/filtrations/2/HeightFiltrartion_0_1/blue, do_fit = True, filtration = HeightFiltration(direction=array([0, 1]), n_jobs=-1)\n",
      "Got the result from ./1/64/train/filtrations/2/HeightFiltrartion_0_1/blue/diagrams.npy\n",
      "Applying Scaler to persistence diagrams.\n",
      "DiagramVectorizer: fitting complete\n",
      "Got the result from ./1/64/train/filtrations/2/HeightFiltrartion_0_1/blue/features.npy\n",
      "FiltrationExtractor: processing 1/64/train/filtrations/2/HeightFiltrartion_0_1/blue, do_fit = False, filtration = HeightFiltration(direction=array([0, 1]), n_jobs=-1)\n",
      "Got the result from ./1/64/train/filtrations/2/HeightFiltrartion_0_1/blue/diagrams.npy\n",
      "Applying Scaler to persistence diagrams.\n",
      "Got the result from ./1/64/train/filtrations/2/HeightFiltrartion_0_1/blue/features.npy\n",
      "Fitting filtration 6/72: HeightFiltration with d = (1, -1), bin. thr. = 0.2\n",
      "RGB images received. Transforming to grayscale.\n"
     ]
    },
    {
     "name": "stderr",
     "output_type": "stream",
     "text": [
      "rgb2gray: 100%|██████████| 9469/9469 [00:01<00:00, 5464.30it/s]\n"
     ]
    },
    {
     "name": "stdout",
     "output_type": "stream",
     "text": [
      "FiltrationExtractor: processing 1/64/train/filtrations/2/HeightFiltrartion_1_-1/gray, do_fit = True, filtration = HeightFiltration(direction=array([ 1, -1]), n_jobs=-1)\n",
      "Got the result from ./1/64/train/filtrations/2/HeightFiltrartion_1_-1/gray/diagrams.npy\n",
      "Applying Scaler to persistence diagrams.\n",
      "DiagramVectorizer: fitting complete\n",
      "Got the result from ./1/64/train/filtrations/2/HeightFiltrartion_1_-1/gray/features.npy\n",
      "FiltrationExtractor: processing 1/64/train/filtrations/2/HeightFiltrartion_1_-1/gray, do_fit = False, filtration = HeightFiltration(direction=array([ 1, -1]), n_jobs=-1)\n",
      "Got the result from ./1/64/train/filtrations/2/HeightFiltrartion_1_-1/gray/diagrams.npy\n",
      "Applying Scaler to persistence diagrams.\n",
      "Got the result from ./1/64/train/filtrations/2/HeightFiltrartion_1_-1/gray/features.npy\n",
      "FiltrationExtractor: processing 1/64/train/filtrations/2/HeightFiltrartion_1_-1/red, do_fit = True, filtration = HeightFiltration(direction=array([ 1, -1]), n_jobs=-1)\n",
      "Got the result from ./1/64/train/filtrations/2/HeightFiltrartion_1_-1/red/diagrams.npy\n",
      "Applying Scaler to persistence diagrams.\n",
      "DiagramVectorizer: fitting complete\n",
      "Got the result from ./1/64/train/filtrations/2/HeightFiltrartion_1_-1/red/features.npy\n",
      "FiltrationExtractor: processing 1/64/train/filtrations/2/HeightFiltrartion_1_-1/red, do_fit = False, filtration = HeightFiltration(direction=array([ 1, -1]), n_jobs=-1)\n",
      "Got the result from ./1/64/train/filtrations/2/HeightFiltrartion_1_-1/red/diagrams.npy\n",
      "Applying Scaler to persistence diagrams.\n",
      "Got the result from ./1/64/train/filtrations/2/HeightFiltrartion_1_-1/red/features.npy\n",
      "FiltrationExtractor: processing 1/64/train/filtrations/2/HeightFiltrartion_1_-1/green, do_fit = True, filtration = HeightFiltration(direction=array([ 1, -1]), n_jobs=-1)\n",
      "Got the result from ./1/64/train/filtrations/2/HeightFiltrartion_1_-1/green/diagrams.npy\n",
      "Applying Scaler to persistence diagrams.\n",
      "DiagramVectorizer: fitting complete\n",
      "Got the result from ./1/64/train/filtrations/2/HeightFiltrartion_1_-1/green/features.npy\n",
      "FiltrationExtractor: processing 1/64/train/filtrations/2/HeightFiltrartion_1_-1/green, do_fit = False, filtration = HeightFiltration(direction=array([ 1, -1]), n_jobs=-1)\n",
      "Got the result from ./1/64/train/filtrations/2/HeightFiltrartion_1_-1/green/diagrams.npy\n",
      "Applying Scaler to persistence diagrams.\n",
      "Got the result from ./1/64/train/filtrations/2/HeightFiltrartion_1_-1/green/features.npy\n",
      "FiltrationExtractor: processing 1/64/train/filtrations/2/HeightFiltrartion_1_-1/blue, do_fit = True, filtration = HeightFiltration(direction=array([ 1, -1]), n_jobs=-1)\n",
      "Got the result from ./1/64/train/filtrations/2/HeightFiltrartion_1_-1/blue/diagrams.npy\n",
      "Applying Scaler to persistence diagrams.\n",
      "DiagramVectorizer: fitting complete\n",
      "Got the result from ./1/64/train/filtrations/2/HeightFiltrartion_1_-1/blue/features.npy\n",
      "FiltrationExtractor: processing 1/64/train/filtrations/2/HeightFiltrartion_1_-1/blue, do_fit = False, filtration = HeightFiltration(direction=array([ 1, -1]), n_jobs=-1)\n",
      "Got the result from ./1/64/train/filtrations/2/HeightFiltrartion_1_-1/blue/diagrams.npy\n",
      "Applying Scaler to persistence diagrams.\n",
      "Got the result from ./1/64/train/filtrations/2/HeightFiltrartion_1_-1/blue/features.npy\n",
      "Fitting filtration 7/72: HeightFiltration with d = (1, 0), bin. thr. = 0.2\n",
      "RGB images received. Transforming to grayscale.\n"
     ]
    },
    {
     "name": "stderr",
     "output_type": "stream",
     "text": [
      "rgb2gray: 100%|██████████| 9469/9469 [00:01<00:00, 5463.02it/s]\n"
     ]
    },
    {
     "name": "stdout",
     "output_type": "stream",
     "text": [
      "FiltrationExtractor: processing 1/64/train/filtrations/2/HeightFiltrartion_1_0/gray, do_fit = True, filtration = HeightFiltration(direction=array([1, 0]), n_jobs=-1)\n",
      "Got the result from ./1/64/train/filtrations/2/HeightFiltrartion_1_0/gray/diagrams.npy\n",
      "Applying Scaler to persistence diagrams.\n",
      "DiagramVectorizer: fitting complete\n",
      "Got the result from ./1/64/train/filtrations/2/HeightFiltrartion_1_0/gray/features.npy\n",
      "FiltrationExtractor: processing 1/64/train/filtrations/2/HeightFiltrartion_1_0/gray, do_fit = False, filtration = HeightFiltration(direction=array([1, 0]), n_jobs=-1)\n",
      "Got the result from ./1/64/train/filtrations/2/HeightFiltrartion_1_0/gray/diagrams.npy\n",
      "Applying Scaler to persistence diagrams.\n",
      "Got the result from ./1/64/train/filtrations/2/HeightFiltrartion_1_0/gray/features.npy\n",
      "FiltrationExtractor: processing 1/64/train/filtrations/2/HeightFiltrartion_1_0/red, do_fit = True, filtration = HeightFiltration(direction=array([1, 0]), n_jobs=-1)\n",
      "Got the result from ./1/64/train/filtrations/2/HeightFiltrartion_1_0/red/diagrams.npy\n",
      "Applying Scaler to persistence diagrams.\n",
      "DiagramVectorizer: fitting complete\n",
      "Got the result from ./1/64/train/filtrations/2/HeightFiltrartion_1_0/red/features.npy\n",
      "FiltrationExtractor: processing 1/64/train/filtrations/2/HeightFiltrartion_1_0/red, do_fit = False, filtration = HeightFiltration(direction=array([1, 0]), n_jobs=-1)\n",
      "Got the result from ./1/64/train/filtrations/2/HeightFiltrartion_1_0/red/diagrams.npy\n",
      "Applying Scaler to persistence diagrams.\n",
      "Got the result from ./1/64/train/filtrations/2/HeightFiltrartion_1_0/red/features.npy\n",
      "FiltrationExtractor: processing 1/64/train/filtrations/2/HeightFiltrartion_1_0/green, do_fit = True, filtration = HeightFiltration(direction=array([1, 0]), n_jobs=-1)\n",
      "Got the result from ./1/64/train/filtrations/2/HeightFiltrartion_1_0/green/diagrams.npy\n",
      "Applying Scaler to persistence diagrams.\n",
      "DiagramVectorizer: fitting complete\n",
      "Got the result from ./1/64/train/filtrations/2/HeightFiltrartion_1_0/green/features.npy\n",
      "FiltrationExtractor: processing 1/64/train/filtrations/2/HeightFiltrartion_1_0/green, do_fit = False, filtration = HeightFiltration(direction=array([1, 0]), n_jobs=-1)\n",
      "Got the result from ./1/64/train/filtrations/2/HeightFiltrartion_1_0/green/diagrams.npy\n",
      "Applying Scaler to persistence diagrams.\n",
      "Got the result from ./1/64/train/filtrations/2/HeightFiltrartion_1_0/green/features.npy\n",
      "FiltrationExtractor: processing 1/64/train/filtrations/2/HeightFiltrartion_1_0/blue, do_fit = True, filtration = HeightFiltration(direction=array([1, 0]), n_jobs=-1)\n",
      "Got the result from ./1/64/train/filtrations/2/HeightFiltrartion_1_0/blue/diagrams.npy\n",
      "Applying Scaler to persistence diagrams.\n",
      "DiagramVectorizer: fitting complete\n",
      "Got the result from ./1/64/train/filtrations/2/HeightFiltrartion_1_0/blue/features.npy\n",
      "FiltrationExtractor: processing 1/64/train/filtrations/2/HeightFiltrartion_1_0/blue, do_fit = False, filtration = HeightFiltration(direction=array([1, 0]), n_jobs=-1)\n",
      "Got the result from ./1/64/train/filtrations/2/HeightFiltrartion_1_0/blue/diagrams.npy\n",
      "Applying Scaler to persistence diagrams.\n",
      "Got the result from ./1/64/train/filtrations/2/HeightFiltrartion_1_0/blue/features.npy\n",
      "Fitting filtration 8/72: HeightFiltration with d = (1, 1), bin. thr. = 0.2\n",
      "RGB images received. Transforming to grayscale.\n"
     ]
    },
    {
     "name": "stderr",
     "output_type": "stream",
     "text": [
      "rgb2gray: 100%|██████████| 9469/9469 [00:01<00:00, 5279.82it/s]\n"
     ]
    },
    {
     "name": "stdout",
     "output_type": "stream",
     "text": [
      "FiltrationExtractor: processing 1/64/train/filtrations/2/HeightFiltrartion_1_1/gray, do_fit = True, filtration = HeightFiltration(direction=array([1, 1]), n_jobs=-1)\n",
      "Got the result from ./1/64/train/filtrations/2/HeightFiltrartion_1_1/gray/diagrams.npy\n",
      "Applying Scaler to persistence diagrams.\n",
      "DiagramVectorizer: fitting complete\n",
      "Got the result from ./1/64/train/filtrations/2/HeightFiltrartion_1_1/gray/features.npy\n",
      "FiltrationExtractor: processing 1/64/train/filtrations/2/HeightFiltrartion_1_1/gray, do_fit = False, filtration = HeightFiltration(direction=array([1, 1]), n_jobs=-1)\n",
      "Got the result from ./1/64/train/filtrations/2/HeightFiltrartion_1_1/gray/diagrams.npy\n",
      "Applying Scaler to persistence diagrams.\n",
      "Got the result from ./1/64/train/filtrations/2/HeightFiltrartion_1_1/gray/features.npy\n",
      "FiltrationExtractor: processing 1/64/train/filtrations/2/HeightFiltrartion_1_1/red, do_fit = True, filtration = HeightFiltration(direction=array([1, 1]), n_jobs=-1)\n",
      "Got the result from ./1/64/train/filtrations/2/HeightFiltrartion_1_1/red/diagrams.npy\n",
      "Applying Scaler to persistence diagrams.\n",
      "DiagramVectorizer: fitting complete\n",
      "Got the result from ./1/64/train/filtrations/2/HeightFiltrartion_1_1/red/features.npy\n",
      "FiltrationExtractor: processing 1/64/train/filtrations/2/HeightFiltrartion_1_1/red, do_fit = False, filtration = HeightFiltration(direction=array([1, 1]), n_jobs=-1)\n",
      "Got the result from ./1/64/train/filtrations/2/HeightFiltrartion_1_1/red/diagrams.npy\n",
      "Applying Scaler to persistence diagrams.\n",
      "Got the result from ./1/64/train/filtrations/2/HeightFiltrartion_1_1/red/features.npy\n",
      "FiltrationExtractor: processing 1/64/train/filtrations/2/HeightFiltrartion_1_1/green, do_fit = True, filtration = HeightFiltration(direction=array([1, 1]), n_jobs=-1)\n",
      "Got the result from ./1/64/train/filtrations/2/HeightFiltrartion_1_1/green/diagrams.npy\n",
      "Applying Scaler to persistence diagrams.\n",
      "DiagramVectorizer: fitting complete\n",
      "Got the result from ./1/64/train/filtrations/2/HeightFiltrartion_1_1/green/features.npy\n",
      "FiltrationExtractor: processing 1/64/train/filtrations/2/HeightFiltrartion_1_1/green, do_fit = False, filtration = HeightFiltration(direction=array([1, 1]), n_jobs=-1)\n",
      "Got the result from ./1/64/train/filtrations/2/HeightFiltrartion_1_1/green/diagrams.npy\n",
      "Applying Scaler to persistence diagrams.\n",
      "Got the result from ./1/64/train/filtrations/2/HeightFiltrartion_1_1/green/features.npy\n",
      "FiltrationExtractor: processing 1/64/train/filtrations/2/HeightFiltrartion_1_1/blue, do_fit = True, filtration = HeightFiltration(direction=array([1, 1]), n_jobs=-1)\n",
      "Got the result from ./1/64/train/filtrations/2/HeightFiltrartion_1_1/blue/diagrams.npy\n",
      "Applying Scaler to persistence diagrams.\n",
      "DiagramVectorizer: fitting complete\n",
      "Got the result from ./1/64/train/filtrations/2/HeightFiltrartion_1_1/blue/features.npy\n",
      "FiltrationExtractor: processing 1/64/train/filtrations/2/HeightFiltrartion_1_1/blue, do_fit = False, filtration = HeightFiltration(direction=array([1, 1]), n_jobs=-1)\n",
      "Got the result from ./1/64/train/filtrations/2/HeightFiltrartion_1_1/blue/diagrams.npy\n",
      "Applying Scaler to persistence diagrams.\n",
      "Got the result from ./1/64/train/filtrations/2/HeightFiltrartion_1_1/blue/features.npy\n",
      "Fitting filtration 9/72: RadialFiltration with c = (12, 12), bin. thr. = 0.2\n",
      "RGB images received. Transforming to grayscale.\n"
     ]
    },
    {
     "name": "stderr",
     "output_type": "stream",
     "text": [
      "rgb2gray: 100%|██████████| 9469/9469 [00:01<00:00, 5261.99it/s]\n"
     ]
    },
    {
     "name": "stdout",
     "output_type": "stream",
     "text": [
      "FiltrationExtractor: processing 1/64/train/filtrations/2/RadialFiltration_12_12/gray, do_fit = True, filtration = RadialFiltration(center=array([12, 12]), n_jobs=-1)\n",
      "Got the result from ./1/64/train/filtrations/2/RadialFiltration_12_12/gray/diagrams.npy\n",
      "Applying Scaler to persistence diagrams.\n",
      "DiagramVectorizer: fitting complete\n",
      "Got the result from ./1/64/train/filtrations/2/RadialFiltration_12_12/gray/features.npy\n",
      "FiltrationExtractor: processing 1/64/train/filtrations/2/RadialFiltration_12_12/gray, do_fit = False, filtration = RadialFiltration(center=array([12, 12]), n_jobs=-1)\n",
      "Got the result from ./1/64/train/filtrations/2/RadialFiltration_12_12/gray/diagrams.npy\n",
      "Applying Scaler to persistence diagrams.\n",
      "Got the result from ./1/64/train/filtrations/2/RadialFiltration_12_12/gray/features.npy\n",
      "FiltrationExtractor: processing 1/64/train/filtrations/2/RadialFiltration_12_12/red, do_fit = True, filtration = RadialFiltration(center=array([12, 12]), n_jobs=-1)\n",
      "Got the result from ./1/64/train/filtrations/2/RadialFiltration_12_12/red/diagrams.npy\n",
      "Applying Scaler to persistence diagrams.\n",
      "DiagramVectorizer: fitting complete\n",
      "Got the result from ./1/64/train/filtrations/2/RadialFiltration_12_12/red/features.npy\n",
      "FiltrationExtractor: processing 1/64/train/filtrations/2/RadialFiltration_12_12/red, do_fit = False, filtration = RadialFiltration(center=array([12, 12]), n_jobs=-1)\n",
      "Got the result from ./1/64/train/filtrations/2/RadialFiltration_12_12/red/diagrams.npy\n",
      "Applying Scaler to persistence diagrams.\n",
      "Got the result from ./1/64/train/filtrations/2/RadialFiltration_12_12/red/features.npy\n",
      "FiltrationExtractor: processing 1/64/train/filtrations/2/RadialFiltration_12_12/green, do_fit = True, filtration = RadialFiltration(center=array([12, 12]), n_jobs=-1)\n",
      "Got the result from ./1/64/train/filtrations/2/RadialFiltration_12_12/green/diagrams.npy\n",
      "Applying Scaler to persistence diagrams.\n",
      "DiagramVectorizer: fitting complete\n",
      "Got the result from ./1/64/train/filtrations/2/RadialFiltration_12_12/green/features.npy\n",
      "FiltrationExtractor: processing 1/64/train/filtrations/2/RadialFiltration_12_12/green, do_fit = False, filtration = RadialFiltration(center=array([12, 12]), n_jobs=-1)\n",
      "Got the result from ./1/64/train/filtrations/2/RadialFiltration_12_12/green/diagrams.npy\n",
      "Applying Scaler to persistence diagrams.\n",
      "Got the result from ./1/64/train/filtrations/2/RadialFiltration_12_12/green/features.npy\n",
      "FiltrationExtractor: processing 1/64/train/filtrations/2/RadialFiltration_12_12/blue, do_fit = True, filtration = RadialFiltration(center=array([12, 12]), n_jobs=-1)\n",
      "Got the result from ./1/64/train/filtrations/2/RadialFiltration_12_12/blue/diagrams.npy\n",
      "Applying Scaler to persistence diagrams.\n",
      "DiagramVectorizer: fitting complete\n",
      "Got the result from ./1/64/train/filtrations/2/RadialFiltration_12_12/blue/features.npy\n",
      "FiltrationExtractor: processing 1/64/train/filtrations/2/RadialFiltration_12_12/blue, do_fit = False, filtration = RadialFiltration(center=array([12, 12]), n_jobs=-1)\n",
      "Got the result from ./1/64/train/filtrations/2/RadialFiltration_12_12/blue/diagrams.npy\n",
      "Applying Scaler to persistence diagrams.\n",
      "Got the result from ./1/64/train/filtrations/2/RadialFiltration_12_12/blue/features.npy\n",
      "Fitting filtration 10/72: RadialFiltration with c = (12, 25), bin. thr. = 0.2\n",
      "RGB images received. Transforming to grayscale.\n"
     ]
    },
    {
     "name": "stderr",
     "output_type": "stream",
     "text": [
      "rgb2gray: 100%|██████████| 9469/9469 [00:01<00:00, 5426.99it/s]\n"
     ]
    },
    {
     "name": "stdout",
     "output_type": "stream",
     "text": [
      "FiltrationExtractor: processing 1/64/train/filtrations/2/RadialFiltration_12_25/gray, do_fit = True, filtration = RadialFiltration(center=array([12, 25]), n_jobs=-1)\n",
      "Got the result from ./1/64/train/filtrations/2/RadialFiltration_12_25/gray/diagrams.npy\n",
      "Applying Scaler to persistence diagrams.\n",
      "DiagramVectorizer: fitting complete\n",
      "Got the result from ./1/64/train/filtrations/2/RadialFiltration_12_25/gray/features.npy\n",
      "FiltrationExtractor: processing 1/64/train/filtrations/2/RadialFiltration_12_25/gray, do_fit = False, filtration = RadialFiltration(center=array([12, 25]), n_jobs=-1)\n",
      "Got the result from ./1/64/train/filtrations/2/RadialFiltration_12_25/gray/diagrams.npy\n",
      "Applying Scaler to persistence diagrams.\n",
      "Got the result from ./1/64/train/filtrations/2/RadialFiltration_12_25/gray/features.npy\n",
      "FiltrationExtractor: processing 1/64/train/filtrations/2/RadialFiltration_12_25/red, do_fit = True, filtration = RadialFiltration(center=array([12, 25]), n_jobs=-1)\n",
      "Got the result from ./1/64/train/filtrations/2/RadialFiltration_12_25/red/diagrams.npy\n",
      "Applying Scaler to persistence diagrams.\n",
      "DiagramVectorizer: fitting complete\n",
      "Got the result from ./1/64/train/filtrations/2/RadialFiltration_12_25/red/features.npy\n",
      "FiltrationExtractor: processing 1/64/train/filtrations/2/RadialFiltration_12_25/red, do_fit = False, filtration = RadialFiltration(center=array([12, 25]), n_jobs=-1)\n",
      "Got the result from ./1/64/train/filtrations/2/RadialFiltration_12_25/red/diagrams.npy\n",
      "Applying Scaler to persistence diagrams.\n",
      "Got the result from ./1/64/train/filtrations/2/RadialFiltration_12_25/red/features.npy\n",
      "FiltrationExtractor: processing 1/64/train/filtrations/2/RadialFiltration_12_25/green, do_fit = True, filtration = RadialFiltration(center=array([12, 25]), n_jobs=-1)\n",
      "Got the result from ./1/64/train/filtrations/2/RadialFiltration_12_25/green/diagrams.npy\n",
      "Applying Scaler to persistence diagrams.\n",
      "DiagramVectorizer: fitting complete\n",
      "Got the result from ./1/64/train/filtrations/2/RadialFiltration_12_25/green/features.npy\n",
      "FiltrationExtractor: processing 1/64/train/filtrations/2/RadialFiltration_12_25/green, do_fit = False, filtration = RadialFiltration(center=array([12, 25]), n_jobs=-1)\n",
      "Got the result from ./1/64/train/filtrations/2/RadialFiltration_12_25/green/diagrams.npy\n",
      "Applying Scaler to persistence diagrams.\n",
      "Got the result from ./1/64/train/filtrations/2/RadialFiltration_12_25/green/features.npy\n",
      "FiltrationExtractor: processing 1/64/train/filtrations/2/RadialFiltration_12_25/blue, do_fit = True, filtration = RadialFiltration(center=array([12, 25]), n_jobs=-1)\n",
      "Got the result from ./1/64/train/filtrations/2/RadialFiltration_12_25/blue/diagrams.npy\n",
      "Applying Scaler to persistence diagrams.\n",
      "DiagramVectorizer: fitting complete\n",
      "Got the result from ./1/64/train/filtrations/2/RadialFiltration_12_25/blue/features.npy\n",
      "FiltrationExtractor: processing 1/64/train/filtrations/2/RadialFiltration_12_25/blue, do_fit = False, filtration = RadialFiltration(center=array([12, 25]), n_jobs=-1)\n",
      "Got the result from ./1/64/train/filtrations/2/RadialFiltration_12_25/blue/diagrams.npy\n",
      "Applying Scaler to persistence diagrams.\n",
      "Got the result from ./1/64/train/filtrations/2/RadialFiltration_12_25/blue/features.npy\n",
      "Fitting filtration 11/72: RadialFiltration with c = (12, 38), bin. thr. = 0.2\n",
      "RGB images received. Transforming to grayscale.\n"
     ]
    },
    {
     "name": "stderr",
     "output_type": "stream",
     "text": [
      "rgb2gray: 100%|██████████| 9469/9469 [00:01<00:00, 5559.14it/s]\n"
     ]
    },
    {
     "name": "stdout",
     "output_type": "stream",
     "text": [
      "FiltrationExtractor: processing 1/64/train/filtrations/2/RadialFiltration_12_38/gray, do_fit = True, filtration = RadialFiltration(center=array([12, 38]), n_jobs=-1)\n",
      "Got the result from ./1/64/train/filtrations/2/RadialFiltration_12_38/gray/diagrams.npy\n",
      "Applying Scaler to persistence diagrams.\n",
      "DiagramVectorizer: fitting complete\n",
      "Got the result from ./1/64/train/filtrations/2/RadialFiltration_12_38/gray/features.npy\n",
      "FiltrationExtractor: processing 1/64/train/filtrations/2/RadialFiltration_12_38/gray, do_fit = False, filtration = RadialFiltration(center=array([12, 38]), n_jobs=-1)\n",
      "Got the result from ./1/64/train/filtrations/2/RadialFiltration_12_38/gray/diagrams.npy\n",
      "Applying Scaler to persistence diagrams.\n",
      "Got the result from ./1/64/train/filtrations/2/RadialFiltration_12_38/gray/features.npy\n",
      "FiltrationExtractor: processing 1/64/train/filtrations/2/RadialFiltration_12_38/red, do_fit = True, filtration = RadialFiltration(center=array([12, 38]), n_jobs=-1)\n",
      "Got the result from ./1/64/train/filtrations/2/RadialFiltration_12_38/red/diagrams.npy\n",
      "Applying Scaler to persistence diagrams.\n",
      "DiagramVectorizer: fitting complete\n",
      "Got the result from ./1/64/train/filtrations/2/RadialFiltration_12_38/red/features.npy\n",
      "FiltrationExtractor: processing 1/64/train/filtrations/2/RadialFiltration_12_38/red, do_fit = False, filtration = RadialFiltration(center=array([12, 38]), n_jobs=-1)\n",
      "Got the result from ./1/64/train/filtrations/2/RadialFiltration_12_38/red/diagrams.npy\n",
      "Applying Scaler to persistence diagrams.\n",
      "Got the result from ./1/64/train/filtrations/2/RadialFiltration_12_38/red/features.npy\n",
      "FiltrationExtractor: processing 1/64/train/filtrations/2/RadialFiltration_12_38/green, do_fit = True, filtration = RadialFiltration(center=array([12, 38]), n_jobs=-1)\n",
      "Got the result from ./1/64/train/filtrations/2/RadialFiltration_12_38/green/diagrams.npy\n",
      "Applying Scaler to persistence diagrams.\n",
      "DiagramVectorizer: fitting complete\n",
      "Got the result from ./1/64/train/filtrations/2/RadialFiltration_12_38/green/features.npy\n",
      "FiltrationExtractor: processing 1/64/train/filtrations/2/RadialFiltration_12_38/green, do_fit = False, filtration = RadialFiltration(center=array([12, 38]), n_jobs=-1)\n",
      "Got the result from ./1/64/train/filtrations/2/RadialFiltration_12_38/green/diagrams.npy\n",
      "Applying Scaler to persistence diagrams.\n",
      "Got the result from ./1/64/train/filtrations/2/RadialFiltration_12_38/green/features.npy\n",
      "FiltrationExtractor: processing 1/64/train/filtrations/2/RadialFiltration_12_38/blue, do_fit = True, filtration = RadialFiltration(center=array([12, 38]), n_jobs=-1)\n",
      "Got the result from ./1/64/train/filtrations/2/RadialFiltration_12_38/blue/diagrams.npy\n",
      "Applying Scaler to persistence diagrams.\n",
      "DiagramVectorizer: fitting complete\n",
      "Got the result from ./1/64/train/filtrations/2/RadialFiltration_12_38/blue/features.npy\n",
      "FiltrationExtractor: processing 1/64/train/filtrations/2/RadialFiltration_12_38/blue, do_fit = False, filtration = RadialFiltration(center=array([12, 38]), n_jobs=-1)\n",
      "Got the result from ./1/64/train/filtrations/2/RadialFiltration_12_38/blue/diagrams.npy\n",
      "Applying Scaler to persistence diagrams.\n",
      "Got the result from ./1/64/train/filtrations/2/RadialFiltration_12_38/blue/features.npy\n",
      "Fitting filtration 12/72: RadialFiltration with c = (12, 51), bin. thr. = 0.2\n",
      "RGB images received. Transforming to grayscale.\n"
     ]
    },
    {
     "name": "stderr",
     "output_type": "stream",
     "text": [
      "rgb2gray: 100%|██████████| 9469/9469 [00:01<00:00, 5492.46it/s]\n"
     ]
    },
    {
     "name": "stdout",
     "output_type": "stream",
     "text": [
      "FiltrationExtractor: processing 1/64/train/filtrations/2/RadialFiltration_12_51/gray, do_fit = True, filtration = RadialFiltration(center=array([12, 51]), n_jobs=-1)\n",
      "Got the result from ./1/64/train/filtrations/2/RadialFiltration_12_51/gray/diagrams.npy\n",
      "Applying Scaler to persistence diagrams.\n",
      "DiagramVectorizer: fitting complete\n",
      "Got the result from ./1/64/train/filtrations/2/RadialFiltration_12_51/gray/features.npy\n",
      "FiltrationExtractor: processing 1/64/train/filtrations/2/RadialFiltration_12_51/gray, do_fit = False, filtration = RadialFiltration(center=array([12, 51]), n_jobs=-1)\n",
      "Got the result from ./1/64/train/filtrations/2/RadialFiltration_12_51/gray/diagrams.npy\n",
      "Applying Scaler to persistence diagrams.\n",
      "Got the result from ./1/64/train/filtrations/2/RadialFiltration_12_51/gray/features.npy\n",
      "FiltrationExtractor: processing 1/64/train/filtrations/2/RadialFiltration_12_51/red, do_fit = True, filtration = RadialFiltration(center=array([12, 51]), n_jobs=-1)\n",
      "Got the result from ./1/64/train/filtrations/2/RadialFiltration_12_51/red/diagrams.npy\n",
      "Applying Scaler to persistence diagrams.\n",
      "DiagramVectorizer: fitting complete\n",
      "Got the result from ./1/64/train/filtrations/2/RadialFiltration_12_51/red/features.npy\n",
      "FiltrationExtractor: processing 1/64/train/filtrations/2/RadialFiltration_12_51/red, do_fit = False, filtration = RadialFiltration(center=array([12, 51]), n_jobs=-1)\n",
      "Got the result from ./1/64/train/filtrations/2/RadialFiltration_12_51/red/diagrams.npy\n",
      "Applying Scaler to persistence diagrams.\n",
      "Got the result from ./1/64/train/filtrations/2/RadialFiltration_12_51/red/features.npy\n",
      "FiltrationExtractor: processing 1/64/train/filtrations/2/RadialFiltration_12_51/green, do_fit = True, filtration = RadialFiltration(center=array([12, 51]), n_jobs=-1)\n",
      "Got the result from ./1/64/train/filtrations/2/RadialFiltration_12_51/green/diagrams.npy\n",
      "Applying Scaler to persistence diagrams.\n",
      "DiagramVectorizer: fitting complete\n",
      "Got the result from ./1/64/train/filtrations/2/RadialFiltration_12_51/green/features.npy\n",
      "FiltrationExtractor: processing 1/64/train/filtrations/2/RadialFiltration_12_51/green, do_fit = False, filtration = RadialFiltration(center=array([12, 51]), n_jobs=-1)\n",
      "Got the result from ./1/64/train/filtrations/2/RadialFiltration_12_51/green/diagrams.npy\n",
      "Applying Scaler to persistence diagrams.\n",
      "Got the result from ./1/64/train/filtrations/2/RadialFiltration_12_51/green/features.npy\n",
      "FiltrationExtractor: processing 1/64/train/filtrations/2/RadialFiltration_12_51/blue, do_fit = True, filtration = RadialFiltration(center=array([12, 51]), n_jobs=-1)\n",
      "Got the result from ./1/64/train/filtrations/2/RadialFiltration_12_51/blue/diagrams.npy\n",
      "Applying Scaler to persistence diagrams.\n",
      "DiagramVectorizer: fitting complete\n",
      "Got the result from ./1/64/train/filtrations/2/RadialFiltration_12_51/blue/features.npy\n",
      "FiltrationExtractor: processing 1/64/train/filtrations/2/RadialFiltration_12_51/blue, do_fit = False, filtration = RadialFiltration(center=array([12, 51]), n_jobs=-1)\n",
      "Got the result from ./1/64/train/filtrations/2/RadialFiltration_12_51/blue/diagrams.npy\n",
      "Applying Scaler to persistence diagrams.\n",
      "Got the result from ./1/64/train/filtrations/2/RadialFiltration_12_51/blue/features.npy\n",
      "Fitting filtration 13/72: RadialFiltration with c = (25, 12), bin. thr. = 0.2\n",
      "RGB images received. Transforming to grayscale.\n"
     ]
    },
    {
     "name": "stderr",
     "output_type": "stream",
     "text": [
      "rgb2gray: 100%|██████████| 9469/9469 [00:01<00:00, 5420.15it/s] \n"
     ]
    },
    {
     "name": "stdout",
     "output_type": "stream",
     "text": [
      "FiltrationExtractor: processing 1/64/train/filtrations/2/RadialFiltration_25_12/gray, do_fit = True, filtration = RadialFiltration(center=array([25, 12]), n_jobs=-1)\n",
      "Got the result from ./1/64/train/filtrations/2/RadialFiltration_25_12/gray/diagrams.npy\n",
      "Applying Scaler to persistence diagrams.\n",
      "DiagramVectorizer: fitting complete\n",
      "Got the result from ./1/64/train/filtrations/2/RadialFiltration_25_12/gray/features.npy\n",
      "FiltrationExtractor: processing 1/64/train/filtrations/2/RadialFiltration_25_12/gray, do_fit = False, filtration = RadialFiltration(center=array([25, 12]), n_jobs=-1)\n",
      "Got the result from ./1/64/train/filtrations/2/RadialFiltration_25_12/gray/diagrams.npy\n",
      "Applying Scaler to persistence diagrams.\n",
      "Got the result from ./1/64/train/filtrations/2/RadialFiltration_25_12/gray/features.npy\n",
      "FiltrationExtractor: processing 1/64/train/filtrations/2/RadialFiltration_25_12/red, do_fit = True, filtration = RadialFiltration(center=array([25, 12]), n_jobs=-1)\n",
      "Got the result from ./1/64/train/filtrations/2/RadialFiltration_25_12/red/diagrams.npy\n",
      "Applying Scaler to persistence diagrams.\n",
      "DiagramVectorizer: fitting complete\n",
      "Got the result from ./1/64/train/filtrations/2/RadialFiltration_25_12/red/features.npy\n",
      "FiltrationExtractor: processing 1/64/train/filtrations/2/RadialFiltration_25_12/red, do_fit = False, filtration = RadialFiltration(center=array([25, 12]), n_jobs=-1)\n",
      "Got the result from ./1/64/train/filtrations/2/RadialFiltration_25_12/red/diagrams.npy\n",
      "Applying Scaler to persistence diagrams.\n",
      "Got the result from ./1/64/train/filtrations/2/RadialFiltration_25_12/red/features.npy\n",
      "FiltrationExtractor: processing 1/64/train/filtrations/2/RadialFiltration_25_12/green, do_fit = True, filtration = RadialFiltration(center=array([25, 12]), n_jobs=-1)\n",
      "Got the result from ./1/64/train/filtrations/2/RadialFiltration_25_12/green/diagrams.npy\n",
      "Applying Scaler to persistence diagrams.\n",
      "DiagramVectorizer: fitting complete\n",
      "Got the result from ./1/64/train/filtrations/2/RadialFiltration_25_12/green/features.npy\n",
      "FiltrationExtractor: processing 1/64/train/filtrations/2/RadialFiltration_25_12/green, do_fit = False, filtration = RadialFiltration(center=array([25, 12]), n_jobs=-1)\n",
      "Got the result from ./1/64/train/filtrations/2/RadialFiltration_25_12/green/diagrams.npy\n",
      "Applying Scaler to persistence diagrams.\n",
      "Got the result from ./1/64/train/filtrations/2/RadialFiltration_25_12/green/features.npy\n",
      "FiltrationExtractor: processing 1/64/train/filtrations/2/RadialFiltration_25_12/blue, do_fit = True, filtration = RadialFiltration(center=array([25, 12]), n_jobs=-1)\n",
      "Got the result from ./1/64/train/filtrations/2/RadialFiltration_25_12/blue/diagrams.npy\n",
      "Applying Scaler to persistence diagrams.\n",
      "DiagramVectorizer: fitting complete\n",
      "Got the result from ./1/64/train/filtrations/2/RadialFiltration_25_12/blue/features.npy\n",
      "FiltrationExtractor: processing 1/64/train/filtrations/2/RadialFiltration_25_12/blue, do_fit = False, filtration = RadialFiltration(center=array([25, 12]), n_jobs=-1)\n",
      "Got the result from ./1/64/train/filtrations/2/RadialFiltration_25_12/blue/diagrams.npy\n",
      "Applying Scaler to persistence diagrams.\n",
      "Got the result from ./1/64/train/filtrations/2/RadialFiltration_25_12/blue/features.npy\n",
      "Fitting filtration 14/72: RadialFiltration with c = (25, 25), bin. thr. = 0.2\n",
      "RGB images received. Transforming to grayscale.\n"
     ]
    },
    {
     "name": "stderr",
     "output_type": "stream",
     "text": [
      "rgb2gray: 100%|██████████| 9469/9469 [00:01<00:00, 5538.34it/s]\n"
     ]
    },
    {
     "name": "stdout",
     "output_type": "stream",
     "text": [
      "FiltrationExtractor: processing 1/64/train/filtrations/2/RadialFiltration_25_25/gray, do_fit = True, filtration = RadialFiltration(center=array([25, 25]), n_jobs=-1)\n",
      "Got the result from ./1/64/train/filtrations/2/RadialFiltration_25_25/gray/diagrams.npy\n",
      "Applying Scaler to persistence diagrams.\n",
      "DiagramVectorizer: fitting complete\n",
      "Got the result from ./1/64/train/filtrations/2/RadialFiltration_25_25/gray/features.npy\n",
      "FiltrationExtractor: processing 1/64/train/filtrations/2/RadialFiltration_25_25/gray, do_fit = False, filtration = RadialFiltration(center=array([25, 25]), n_jobs=-1)\n",
      "Got the result from ./1/64/train/filtrations/2/RadialFiltration_25_25/gray/diagrams.npy\n",
      "Applying Scaler to persistence diagrams.\n",
      "Got the result from ./1/64/train/filtrations/2/RadialFiltration_25_25/gray/features.npy\n",
      "FiltrationExtractor: processing 1/64/train/filtrations/2/RadialFiltration_25_25/red, do_fit = True, filtration = RadialFiltration(center=array([25, 25]), n_jobs=-1)\n",
      "Got the result from ./1/64/train/filtrations/2/RadialFiltration_25_25/red/diagrams.npy\n",
      "Applying Scaler to persistence diagrams.\n",
      "DiagramVectorizer: fitting complete\n",
      "Got the result from ./1/64/train/filtrations/2/RadialFiltration_25_25/red/features.npy\n",
      "FiltrationExtractor: processing 1/64/train/filtrations/2/RadialFiltration_25_25/red, do_fit = False, filtration = RadialFiltration(center=array([25, 25]), n_jobs=-1)\n",
      "Got the result from ./1/64/train/filtrations/2/RadialFiltration_25_25/red/diagrams.npy\n",
      "Applying Scaler to persistence diagrams.\n",
      "Got the result from ./1/64/train/filtrations/2/RadialFiltration_25_25/red/features.npy\n",
      "FiltrationExtractor: processing 1/64/train/filtrations/2/RadialFiltration_25_25/green, do_fit = True, filtration = RadialFiltration(center=array([25, 25]), n_jobs=-1)\n",
      "Got the result from ./1/64/train/filtrations/2/RadialFiltration_25_25/green/diagrams.npy\n",
      "Applying Scaler to persistence diagrams.\n",
      "DiagramVectorizer: fitting complete\n",
      "Got the result from ./1/64/train/filtrations/2/RadialFiltration_25_25/green/features.npy\n",
      "FiltrationExtractor: processing 1/64/train/filtrations/2/RadialFiltration_25_25/green, do_fit = False, filtration = RadialFiltration(center=array([25, 25]), n_jobs=-1)\n",
      "Got the result from ./1/64/train/filtrations/2/RadialFiltration_25_25/green/diagrams.npy\n",
      "Applying Scaler to persistence diagrams.\n",
      "Got the result from ./1/64/train/filtrations/2/RadialFiltration_25_25/green/features.npy\n",
      "FiltrationExtractor: processing 1/64/train/filtrations/2/RadialFiltration_25_25/blue, do_fit = True, filtration = RadialFiltration(center=array([25, 25]), n_jobs=-1)\n",
      "Got the result from ./1/64/train/filtrations/2/RadialFiltration_25_25/blue/diagrams.npy\n",
      "Applying Scaler to persistence diagrams.\n",
      "DiagramVectorizer: fitting complete\n",
      "Got the result from ./1/64/train/filtrations/2/RadialFiltration_25_25/blue/features.npy\n",
      "FiltrationExtractor: processing 1/64/train/filtrations/2/RadialFiltration_25_25/blue, do_fit = False, filtration = RadialFiltration(center=array([25, 25]), n_jobs=-1)\n",
      "Got the result from ./1/64/train/filtrations/2/RadialFiltration_25_25/blue/diagrams.npy\n",
      "Applying Scaler to persistence diagrams.\n",
      "Got the result from ./1/64/train/filtrations/2/RadialFiltration_25_25/blue/features.npy\n",
      "Fitting filtration 15/72: RadialFiltration with c = (25, 38), bin. thr. = 0.2\n",
      "RGB images received. Transforming to grayscale.\n"
     ]
    },
    {
     "name": "stderr",
     "output_type": "stream",
     "text": [
      "rgb2gray: 100%|██████████| 9469/9469 [00:01<00:00, 5453.24it/s]\n"
     ]
    },
    {
     "name": "stdout",
     "output_type": "stream",
     "text": [
      "FiltrationExtractor: processing 1/64/train/filtrations/2/RadialFiltration_25_38/gray, do_fit = True, filtration = RadialFiltration(center=array([25, 38]), n_jobs=-1)\n",
      "Got the result from ./1/64/train/filtrations/2/RadialFiltration_25_38/gray/diagrams.npy\n",
      "Applying Scaler to persistence diagrams.\n",
      "DiagramVectorizer: fitting complete\n",
      "Got the result from ./1/64/train/filtrations/2/RadialFiltration_25_38/gray/features.npy\n",
      "FiltrationExtractor: processing 1/64/train/filtrations/2/RadialFiltration_25_38/gray, do_fit = False, filtration = RadialFiltration(center=array([25, 38]), n_jobs=-1)\n",
      "Got the result from ./1/64/train/filtrations/2/RadialFiltration_25_38/gray/diagrams.npy\n",
      "Applying Scaler to persistence diagrams.\n",
      "Got the result from ./1/64/train/filtrations/2/RadialFiltration_25_38/gray/features.npy\n",
      "FiltrationExtractor: processing 1/64/train/filtrations/2/RadialFiltration_25_38/red, do_fit = True, filtration = RadialFiltration(center=array([25, 38]), n_jobs=-1)\n",
      "Got the result from ./1/64/train/filtrations/2/RadialFiltration_25_38/red/diagrams.npy\n",
      "Applying Scaler to persistence diagrams.\n",
      "DiagramVectorizer: fitting complete\n",
      "Got the result from ./1/64/train/filtrations/2/RadialFiltration_25_38/red/features.npy\n",
      "FiltrationExtractor: processing 1/64/train/filtrations/2/RadialFiltration_25_38/red, do_fit = False, filtration = RadialFiltration(center=array([25, 38]), n_jobs=-1)\n",
      "Got the result from ./1/64/train/filtrations/2/RadialFiltration_25_38/red/diagrams.npy\n",
      "Applying Scaler to persistence diagrams.\n",
      "Got the result from ./1/64/train/filtrations/2/RadialFiltration_25_38/red/features.npy\n",
      "FiltrationExtractor: processing 1/64/train/filtrations/2/RadialFiltration_25_38/green, do_fit = True, filtration = RadialFiltration(center=array([25, 38]), n_jobs=-1)\n",
      "Got the result from ./1/64/train/filtrations/2/RadialFiltration_25_38/green/diagrams.npy\n",
      "Applying Scaler to persistence diagrams.\n",
      "DiagramVectorizer: fitting complete\n",
      "Got the result from ./1/64/train/filtrations/2/RadialFiltration_25_38/green/features.npy\n",
      "FiltrationExtractor: processing 1/64/train/filtrations/2/RadialFiltration_25_38/green, do_fit = False, filtration = RadialFiltration(center=array([25, 38]), n_jobs=-1)\n",
      "Got the result from ./1/64/train/filtrations/2/RadialFiltration_25_38/green/diagrams.npy\n",
      "Applying Scaler to persistence diagrams.\n",
      "Got the result from ./1/64/train/filtrations/2/RadialFiltration_25_38/green/features.npy\n",
      "FiltrationExtractor: processing 1/64/train/filtrations/2/RadialFiltration_25_38/blue, do_fit = True, filtration = RadialFiltration(center=array([25, 38]), n_jobs=-1)\n",
      "Got the result from ./1/64/train/filtrations/2/RadialFiltration_25_38/blue/diagrams.npy\n",
      "Applying Scaler to persistence diagrams.\n",
      "DiagramVectorizer: fitting complete\n",
      "Got the result from ./1/64/train/filtrations/2/RadialFiltration_25_38/blue/features.npy\n",
      "FiltrationExtractor: processing 1/64/train/filtrations/2/RadialFiltration_25_38/blue, do_fit = False, filtration = RadialFiltration(center=array([25, 38]), n_jobs=-1)\n",
      "Got the result from ./1/64/train/filtrations/2/RadialFiltration_25_38/blue/diagrams.npy\n",
      "Applying Scaler to persistence diagrams.\n",
      "Got the result from ./1/64/train/filtrations/2/RadialFiltration_25_38/blue/features.npy\n",
      "Fitting filtration 16/72: RadialFiltration with c = (25, 51), bin. thr. = 0.2\n",
      "RGB images received. Transforming to grayscale.\n"
     ]
    },
    {
     "name": "stderr",
     "output_type": "stream",
     "text": [
      "rgb2gray: 100%|██████████| 9469/9469 [00:01<00:00, 5390.74it/s]\n"
     ]
    },
    {
     "name": "stdout",
     "output_type": "stream",
     "text": [
      "FiltrationExtractor: processing 1/64/train/filtrations/2/RadialFiltration_25_51/gray, do_fit = True, filtration = RadialFiltration(center=array([25, 51]), n_jobs=-1)\n",
      "Got the result from ./1/64/train/filtrations/2/RadialFiltration_25_51/gray/diagrams.npy\n",
      "Applying Scaler to persistence diagrams.\n",
      "DiagramVectorizer: fitting complete\n",
      "Got the result from ./1/64/train/filtrations/2/RadialFiltration_25_51/gray/features.npy\n",
      "FiltrationExtractor: processing 1/64/train/filtrations/2/RadialFiltration_25_51/gray, do_fit = False, filtration = RadialFiltration(center=array([25, 51]), n_jobs=-1)\n",
      "Got the result from ./1/64/train/filtrations/2/RadialFiltration_25_51/gray/diagrams.npy\n",
      "Applying Scaler to persistence diagrams.\n",
      "Got the result from ./1/64/train/filtrations/2/RadialFiltration_25_51/gray/features.npy\n",
      "FiltrationExtractor: processing 1/64/train/filtrations/2/RadialFiltration_25_51/red, do_fit = True, filtration = RadialFiltration(center=array([25, 51]), n_jobs=-1)\n",
      "Got the result from ./1/64/train/filtrations/2/RadialFiltration_25_51/red/diagrams.npy\n",
      "Applying Scaler to persistence diagrams.\n",
      "DiagramVectorizer: fitting complete\n",
      "Got the result from ./1/64/train/filtrations/2/RadialFiltration_25_51/red/features.npy\n",
      "FiltrationExtractor: processing 1/64/train/filtrations/2/RadialFiltration_25_51/red, do_fit = False, filtration = RadialFiltration(center=array([25, 51]), n_jobs=-1)\n",
      "Got the result from ./1/64/train/filtrations/2/RadialFiltration_25_51/red/diagrams.npy\n",
      "Applying Scaler to persistence diagrams.\n",
      "Got the result from ./1/64/train/filtrations/2/RadialFiltration_25_51/red/features.npy\n",
      "FiltrationExtractor: processing 1/64/train/filtrations/2/RadialFiltration_25_51/green, do_fit = True, filtration = RadialFiltration(center=array([25, 51]), n_jobs=-1)\n",
      "Got the result from ./1/64/train/filtrations/2/RadialFiltration_25_51/green/diagrams.npy\n",
      "Applying Scaler to persistence diagrams.\n",
      "DiagramVectorizer: fitting complete\n",
      "Got the result from ./1/64/train/filtrations/2/RadialFiltration_25_51/green/features.npy\n",
      "FiltrationExtractor: processing 1/64/train/filtrations/2/RadialFiltration_25_51/green, do_fit = False, filtration = RadialFiltration(center=array([25, 51]), n_jobs=-1)\n",
      "Got the result from ./1/64/train/filtrations/2/RadialFiltration_25_51/green/diagrams.npy\n",
      "Applying Scaler to persistence diagrams.\n",
      "Got the result from ./1/64/train/filtrations/2/RadialFiltration_25_51/green/features.npy\n",
      "FiltrationExtractor: processing 1/64/train/filtrations/2/RadialFiltration_25_51/blue, do_fit = True, filtration = RadialFiltration(center=array([25, 51]), n_jobs=-1)\n",
      "Got the result from ./1/64/train/filtrations/2/RadialFiltration_25_51/blue/diagrams.npy\n",
      "Applying Scaler to persistence diagrams.\n",
      "DiagramVectorizer: fitting complete\n",
      "Got the result from ./1/64/train/filtrations/2/RadialFiltration_25_51/blue/features.npy\n",
      "FiltrationExtractor: processing 1/64/train/filtrations/2/RadialFiltration_25_51/blue, do_fit = False, filtration = RadialFiltration(center=array([25, 51]), n_jobs=-1)\n",
      "Got the result from ./1/64/train/filtrations/2/RadialFiltration_25_51/blue/diagrams.npy\n",
      "Applying Scaler to persistence diagrams.\n",
      "Got the result from ./1/64/train/filtrations/2/RadialFiltration_25_51/blue/features.npy\n",
      "Fitting filtration 17/72: RadialFiltration with c = (38, 12), bin. thr. = 0.2\n",
      "RGB images received. Transforming to grayscale.\n"
     ]
    },
    {
     "name": "stderr",
     "output_type": "stream",
     "text": [
      "rgb2gray: 100%|██████████| 9469/9469 [00:01<00:00, 5452.55it/s]\n"
     ]
    },
    {
     "name": "stdout",
     "output_type": "stream",
     "text": [
      "FiltrationExtractor: processing 1/64/train/filtrations/2/RadialFiltration_38_12/gray, do_fit = True, filtration = RadialFiltration(center=array([38, 12]), n_jobs=-1)\n",
      "Got the result from ./1/64/train/filtrations/2/RadialFiltration_38_12/gray/diagrams.npy\n",
      "Applying Scaler to persistence diagrams.\n",
      "DiagramVectorizer: fitting complete\n",
      "Got the result from ./1/64/train/filtrations/2/RadialFiltration_38_12/gray/features.npy\n",
      "FiltrationExtractor: processing 1/64/train/filtrations/2/RadialFiltration_38_12/gray, do_fit = False, filtration = RadialFiltration(center=array([38, 12]), n_jobs=-1)\n",
      "Got the result from ./1/64/train/filtrations/2/RadialFiltration_38_12/gray/diagrams.npy\n",
      "Applying Scaler to persistence diagrams.\n",
      "Got the result from ./1/64/train/filtrations/2/RadialFiltration_38_12/gray/features.npy\n",
      "FiltrationExtractor: processing 1/64/train/filtrations/2/RadialFiltration_38_12/red, do_fit = True, filtration = RadialFiltration(center=array([38, 12]), n_jobs=-1)\n",
      "Got the result from ./1/64/train/filtrations/2/RadialFiltration_38_12/red/diagrams.npy\n",
      "Applying Scaler to persistence diagrams.\n",
      "DiagramVectorizer: fitting complete\n",
      "Got the result from ./1/64/train/filtrations/2/RadialFiltration_38_12/red/features.npy\n",
      "FiltrationExtractor: processing 1/64/train/filtrations/2/RadialFiltration_38_12/red, do_fit = False, filtration = RadialFiltration(center=array([38, 12]), n_jobs=-1)\n",
      "Got the result from ./1/64/train/filtrations/2/RadialFiltration_38_12/red/diagrams.npy\n",
      "Applying Scaler to persistence diagrams.\n",
      "Got the result from ./1/64/train/filtrations/2/RadialFiltration_38_12/red/features.npy\n",
      "FiltrationExtractor: processing 1/64/train/filtrations/2/RadialFiltration_38_12/green, do_fit = True, filtration = RadialFiltration(center=array([38, 12]), n_jobs=-1)\n",
      "Got the result from ./1/64/train/filtrations/2/RadialFiltration_38_12/green/diagrams.npy\n",
      "Applying Scaler to persistence diagrams.\n",
      "DiagramVectorizer: fitting complete\n",
      "Got the result from ./1/64/train/filtrations/2/RadialFiltration_38_12/green/features.npy\n",
      "FiltrationExtractor: processing 1/64/train/filtrations/2/RadialFiltration_38_12/green, do_fit = False, filtration = RadialFiltration(center=array([38, 12]), n_jobs=-1)\n",
      "Got the result from ./1/64/train/filtrations/2/RadialFiltration_38_12/green/diagrams.npy\n",
      "Applying Scaler to persistence diagrams.\n",
      "Got the result from ./1/64/train/filtrations/2/RadialFiltration_38_12/green/features.npy\n",
      "FiltrationExtractor: processing 1/64/train/filtrations/2/RadialFiltration_38_12/blue, do_fit = True, filtration = RadialFiltration(center=array([38, 12]), n_jobs=-1)\n",
      "Got the result from ./1/64/train/filtrations/2/RadialFiltration_38_12/blue/diagrams.npy\n",
      "Applying Scaler to persistence diagrams.\n",
      "DiagramVectorizer: fitting complete\n",
      "Got the result from ./1/64/train/filtrations/2/RadialFiltration_38_12/blue/features.npy\n",
      "FiltrationExtractor: processing 1/64/train/filtrations/2/RadialFiltration_38_12/blue, do_fit = False, filtration = RadialFiltration(center=array([38, 12]), n_jobs=-1)\n",
      "Got the result from ./1/64/train/filtrations/2/RadialFiltration_38_12/blue/diagrams.npy\n",
      "Applying Scaler to persistence diagrams.\n",
      "Got the result from ./1/64/train/filtrations/2/RadialFiltration_38_12/blue/features.npy\n",
      "Fitting filtration 18/72: RadialFiltration with c = (38, 25), bin. thr. = 0.2\n",
      "RGB images received. Transforming to grayscale.\n"
     ]
    },
    {
     "name": "stderr",
     "output_type": "stream",
     "text": [
      "rgb2gray: 100%|██████████| 9469/9469 [00:01<00:00, 5315.25it/s]\n"
     ]
    },
    {
     "name": "stdout",
     "output_type": "stream",
     "text": [
      "FiltrationExtractor: processing 1/64/train/filtrations/2/RadialFiltration_38_25/gray, do_fit = True, filtration = RadialFiltration(center=array([38, 25]), n_jobs=-1)\n",
      "Got the result from ./1/64/train/filtrations/2/RadialFiltration_38_25/gray/diagrams.npy\n",
      "Applying Scaler to persistence diagrams.\n",
      "DiagramVectorizer: fitting complete\n",
      "Got the result from ./1/64/train/filtrations/2/RadialFiltration_38_25/gray/features.npy\n",
      "FiltrationExtractor: processing 1/64/train/filtrations/2/RadialFiltration_38_25/gray, do_fit = False, filtration = RadialFiltration(center=array([38, 25]), n_jobs=-1)\n",
      "Got the result from ./1/64/train/filtrations/2/RadialFiltration_38_25/gray/diagrams.npy\n",
      "Applying Scaler to persistence diagrams.\n",
      "Got the result from ./1/64/train/filtrations/2/RadialFiltration_38_25/gray/features.npy\n",
      "FiltrationExtractor: processing 1/64/train/filtrations/2/RadialFiltration_38_25/red, do_fit = True, filtration = RadialFiltration(center=array([38, 25]), n_jobs=-1)\n",
      "Got the result from ./1/64/train/filtrations/2/RadialFiltration_38_25/red/diagrams.npy\n",
      "Applying Scaler to persistence diagrams.\n",
      "DiagramVectorizer: fitting complete\n",
      "Got the result from ./1/64/train/filtrations/2/RadialFiltration_38_25/red/features.npy\n",
      "FiltrationExtractor: processing 1/64/train/filtrations/2/RadialFiltration_38_25/red, do_fit = False, filtration = RadialFiltration(center=array([38, 25]), n_jobs=-1)\n",
      "Got the result from ./1/64/train/filtrations/2/RadialFiltration_38_25/red/diagrams.npy\n",
      "Applying Scaler to persistence diagrams.\n",
      "Got the result from ./1/64/train/filtrations/2/RadialFiltration_38_25/red/features.npy\n",
      "FiltrationExtractor: processing 1/64/train/filtrations/2/RadialFiltration_38_25/green, do_fit = True, filtration = RadialFiltration(center=array([38, 25]), n_jobs=-1)\n",
      "Got the result from ./1/64/train/filtrations/2/RadialFiltration_38_25/green/diagrams.npy\n",
      "Applying Scaler to persistence diagrams.\n",
      "DiagramVectorizer: fitting complete\n",
      "Got the result from ./1/64/train/filtrations/2/RadialFiltration_38_25/green/features.npy\n",
      "FiltrationExtractor: processing 1/64/train/filtrations/2/RadialFiltration_38_25/green, do_fit = False, filtration = RadialFiltration(center=array([38, 25]), n_jobs=-1)\n",
      "Got the result from ./1/64/train/filtrations/2/RadialFiltration_38_25/green/diagrams.npy\n",
      "Applying Scaler to persistence diagrams.\n",
      "Got the result from ./1/64/train/filtrations/2/RadialFiltration_38_25/green/features.npy\n",
      "FiltrationExtractor: processing 1/64/train/filtrations/2/RadialFiltration_38_25/blue, do_fit = True, filtration = RadialFiltration(center=array([38, 25]), n_jobs=-1)\n",
      "Got the result from ./1/64/train/filtrations/2/RadialFiltration_38_25/blue/diagrams.npy\n",
      "Applying Scaler to persistence diagrams.\n",
      "DiagramVectorizer: fitting complete\n",
      "Got the result from ./1/64/train/filtrations/2/RadialFiltration_38_25/blue/features.npy\n",
      "FiltrationExtractor: processing 1/64/train/filtrations/2/RadialFiltration_38_25/blue, do_fit = False, filtration = RadialFiltration(center=array([38, 25]), n_jobs=-1)\n",
      "Got the result from ./1/64/train/filtrations/2/RadialFiltration_38_25/blue/diagrams.npy\n",
      "Applying Scaler to persistence diagrams.\n",
      "Got the result from ./1/64/train/filtrations/2/RadialFiltration_38_25/blue/features.npy\n",
      "Fitting filtration 19/72: RadialFiltration with c = (38, 38), bin. thr. = 0.2\n",
      "RGB images received. Transforming to grayscale.\n"
     ]
    },
    {
     "name": "stderr",
     "output_type": "stream",
     "text": [
      "rgb2gray: 100%|██████████| 9469/9469 [00:01<00:00, 5172.58it/s]\n"
     ]
    },
    {
     "name": "stdout",
     "output_type": "stream",
     "text": [
      "FiltrationExtractor: processing 1/64/train/filtrations/2/RadialFiltration_38_38/gray, do_fit = True, filtration = RadialFiltration(center=array([38, 38]), n_jobs=-1)\n",
      "Got the result from ./1/64/train/filtrations/2/RadialFiltration_38_38/gray/diagrams.npy\n",
      "Applying Scaler to persistence diagrams.\n",
      "DiagramVectorizer: fitting complete\n",
      "Got the result from ./1/64/train/filtrations/2/RadialFiltration_38_38/gray/features.npy\n",
      "FiltrationExtractor: processing 1/64/train/filtrations/2/RadialFiltration_38_38/gray, do_fit = False, filtration = RadialFiltration(center=array([38, 38]), n_jobs=-1)\n",
      "Got the result from ./1/64/train/filtrations/2/RadialFiltration_38_38/gray/diagrams.npy\n",
      "Applying Scaler to persistence diagrams.\n",
      "Got the result from ./1/64/train/filtrations/2/RadialFiltration_38_38/gray/features.npy\n",
      "FiltrationExtractor: processing 1/64/train/filtrations/2/RadialFiltration_38_38/red, do_fit = True, filtration = RadialFiltration(center=array([38, 38]), n_jobs=-1)\n",
      "Got the result from ./1/64/train/filtrations/2/RadialFiltration_38_38/red/diagrams.npy\n",
      "Applying Scaler to persistence diagrams.\n",
      "DiagramVectorizer: fitting complete\n",
      "Got the result from ./1/64/train/filtrations/2/RadialFiltration_38_38/red/features.npy\n",
      "FiltrationExtractor: processing 1/64/train/filtrations/2/RadialFiltration_38_38/red, do_fit = False, filtration = RadialFiltration(center=array([38, 38]), n_jobs=-1)\n",
      "Got the result from ./1/64/train/filtrations/2/RadialFiltration_38_38/red/diagrams.npy\n",
      "Applying Scaler to persistence diagrams.\n",
      "Got the result from ./1/64/train/filtrations/2/RadialFiltration_38_38/red/features.npy\n",
      "FiltrationExtractor: processing 1/64/train/filtrations/2/RadialFiltration_38_38/green, do_fit = True, filtration = RadialFiltration(center=array([38, 38]), n_jobs=-1)\n",
      "Got the result from ./1/64/train/filtrations/2/RadialFiltration_38_38/green/diagrams.npy\n",
      "Applying Scaler to persistence diagrams.\n",
      "DiagramVectorizer: fitting complete\n",
      "Got the result from ./1/64/train/filtrations/2/RadialFiltration_38_38/green/features.npy\n",
      "FiltrationExtractor: processing 1/64/train/filtrations/2/RadialFiltration_38_38/green, do_fit = False, filtration = RadialFiltration(center=array([38, 38]), n_jobs=-1)\n",
      "Got the result from ./1/64/train/filtrations/2/RadialFiltration_38_38/green/diagrams.npy\n",
      "Applying Scaler to persistence diagrams.\n",
      "Got the result from ./1/64/train/filtrations/2/RadialFiltration_38_38/green/features.npy\n",
      "FiltrationExtractor: processing 1/64/train/filtrations/2/RadialFiltration_38_38/blue, do_fit = True, filtration = RadialFiltration(center=array([38, 38]), n_jobs=-1)\n",
      "Got the result from ./1/64/train/filtrations/2/RadialFiltration_38_38/blue/diagrams.npy\n",
      "Applying Scaler to persistence diagrams.\n",
      "DiagramVectorizer: fitting complete\n",
      "Got the result from ./1/64/train/filtrations/2/RadialFiltration_38_38/blue/features.npy\n",
      "FiltrationExtractor: processing 1/64/train/filtrations/2/RadialFiltration_38_38/blue, do_fit = False, filtration = RadialFiltration(center=array([38, 38]), n_jobs=-1)\n",
      "Got the result from ./1/64/train/filtrations/2/RadialFiltration_38_38/blue/diagrams.npy\n",
      "Applying Scaler to persistence diagrams.\n",
      "Got the result from ./1/64/train/filtrations/2/RadialFiltration_38_38/blue/features.npy\n",
      "Fitting filtration 20/72: RadialFiltration with c = (38, 51), bin. thr. = 0.2\n",
      "RGB images received. Transforming to grayscale.\n"
     ]
    },
    {
     "name": "stderr",
     "output_type": "stream",
     "text": [
      "rgb2gray: 100%|██████████| 9469/9469 [00:01<00:00, 5488.56it/s] \n"
     ]
    },
    {
     "name": "stdout",
     "output_type": "stream",
     "text": [
      "FiltrationExtractor: processing 1/64/train/filtrations/2/RadialFiltration_38_51/gray, do_fit = True, filtration = RadialFiltration(center=array([38, 51]), n_jobs=-1)\n",
      "Got the result from ./1/64/train/filtrations/2/RadialFiltration_38_51/gray/diagrams.npy\n",
      "Applying Scaler to persistence diagrams.\n",
      "DiagramVectorizer: fitting complete\n",
      "Got the result from ./1/64/train/filtrations/2/RadialFiltration_38_51/gray/features.npy\n",
      "FiltrationExtractor: processing 1/64/train/filtrations/2/RadialFiltration_38_51/gray, do_fit = False, filtration = RadialFiltration(center=array([38, 51]), n_jobs=-1)\n",
      "Got the result from ./1/64/train/filtrations/2/RadialFiltration_38_51/gray/diagrams.npy\n",
      "Applying Scaler to persistence diagrams.\n",
      "Got the result from ./1/64/train/filtrations/2/RadialFiltration_38_51/gray/features.npy\n",
      "FiltrationExtractor: processing 1/64/train/filtrations/2/RadialFiltration_38_51/red, do_fit = True, filtration = RadialFiltration(center=array([38, 51]), n_jobs=-1)\n",
      "Got the result from ./1/64/train/filtrations/2/RadialFiltration_38_51/red/diagrams.npy\n",
      "Applying Scaler to persistence diagrams.\n",
      "DiagramVectorizer: fitting complete\n",
      "Got the result from ./1/64/train/filtrations/2/RadialFiltration_38_51/red/features.npy\n",
      "FiltrationExtractor: processing 1/64/train/filtrations/2/RadialFiltration_38_51/red, do_fit = False, filtration = RadialFiltration(center=array([38, 51]), n_jobs=-1)\n",
      "Got the result from ./1/64/train/filtrations/2/RadialFiltration_38_51/red/diagrams.npy\n",
      "Applying Scaler to persistence diagrams.\n",
      "Got the result from ./1/64/train/filtrations/2/RadialFiltration_38_51/red/features.npy\n",
      "FiltrationExtractor: processing 1/64/train/filtrations/2/RadialFiltration_38_51/green, do_fit = True, filtration = RadialFiltration(center=array([38, 51]), n_jobs=-1)\n",
      "Got the result from ./1/64/train/filtrations/2/RadialFiltration_38_51/green/diagrams.npy\n",
      "Applying Scaler to persistence diagrams.\n",
      "DiagramVectorizer: fitting complete\n",
      "Got the result from ./1/64/train/filtrations/2/RadialFiltration_38_51/green/features.npy\n",
      "FiltrationExtractor: processing 1/64/train/filtrations/2/RadialFiltration_38_51/green, do_fit = False, filtration = RadialFiltration(center=array([38, 51]), n_jobs=-1)\n",
      "Got the result from ./1/64/train/filtrations/2/RadialFiltration_38_51/green/diagrams.npy\n",
      "Applying Scaler to persistence diagrams.\n",
      "Got the result from ./1/64/train/filtrations/2/RadialFiltration_38_51/green/features.npy\n",
      "FiltrationExtractor: processing 1/64/train/filtrations/2/RadialFiltration_38_51/blue, do_fit = True, filtration = RadialFiltration(center=array([38, 51]), n_jobs=-1)\n",
      "Got the result from ./1/64/train/filtrations/2/RadialFiltration_38_51/blue/diagrams.npy\n",
      "Applying Scaler to persistence diagrams.\n",
      "DiagramVectorizer: fitting complete\n",
      "Got the result from ./1/64/train/filtrations/2/RadialFiltration_38_51/blue/features.npy\n",
      "FiltrationExtractor: processing 1/64/train/filtrations/2/RadialFiltration_38_51/blue, do_fit = False, filtration = RadialFiltration(center=array([38, 51]), n_jobs=-1)\n",
      "Got the result from ./1/64/train/filtrations/2/RadialFiltration_38_51/blue/diagrams.npy\n",
      "Applying Scaler to persistence diagrams.\n",
      "Got the result from ./1/64/train/filtrations/2/RadialFiltration_38_51/blue/features.npy\n",
      "Fitting filtration 21/72: RadialFiltration with c = (51, 12), bin. thr. = 0.2\n",
      "RGB images received. Transforming to grayscale.\n"
     ]
    },
    {
     "name": "stderr",
     "output_type": "stream",
     "text": [
      "rgb2gray: 100%|██████████| 9469/9469 [00:01<00:00, 5471.73it/s]\n"
     ]
    },
    {
     "name": "stdout",
     "output_type": "stream",
     "text": [
      "FiltrationExtractor: processing 1/64/train/filtrations/2/RadialFiltration_51_12/gray, do_fit = True, filtration = RadialFiltration(center=array([51, 12]), n_jobs=-1)\n",
      "Got the result from ./1/64/train/filtrations/2/RadialFiltration_51_12/gray/diagrams.npy\n",
      "Applying Scaler to persistence diagrams.\n",
      "DiagramVectorizer: fitting complete\n",
      "Got the result from ./1/64/train/filtrations/2/RadialFiltration_51_12/gray/features.npy\n",
      "FiltrationExtractor: processing 1/64/train/filtrations/2/RadialFiltration_51_12/gray, do_fit = False, filtration = RadialFiltration(center=array([51, 12]), n_jobs=-1)\n",
      "Got the result from ./1/64/train/filtrations/2/RadialFiltration_51_12/gray/diagrams.npy\n",
      "Applying Scaler to persistence diagrams.\n",
      "Got the result from ./1/64/train/filtrations/2/RadialFiltration_51_12/gray/features.npy\n",
      "FiltrationExtractor: processing 1/64/train/filtrations/2/RadialFiltration_51_12/red, do_fit = True, filtration = RadialFiltration(center=array([51, 12]), n_jobs=-1)\n",
      "Got the result from ./1/64/train/filtrations/2/RadialFiltration_51_12/red/diagrams.npy\n",
      "Applying Scaler to persistence diagrams.\n",
      "DiagramVectorizer: fitting complete\n",
      "Got the result from ./1/64/train/filtrations/2/RadialFiltration_51_12/red/features.npy\n",
      "FiltrationExtractor: processing 1/64/train/filtrations/2/RadialFiltration_51_12/red, do_fit = False, filtration = RadialFiltration(center=array([51, 12]), n_jobs=-1)\n",
      "Got the result from ./1/64/train/filtrations/2/RadialFiltration_51_12/red/diagrams.npy\n",
      "Applying Scaler to persistence diagrams.\n",
      "Got the result from ./1/64/train/filtrations/2/RadialFiltration_51_12/red/features.npy\n",
      "FiltrationExtractor: processing 1/64/train/filtrations/2/RadialFiltration_51_12/green, do_fit = True, filtration = RadialFiltration(center=array([51, 12]), n_jobs=-1)\n",
      "Got the result from ./1/64/train/filtrations/2/RadialFiltration_51_12/green/diagrams.npy\n",
      "Applying Scaler to persistence diagrams.\n",
      "DiagramVectorizer: fitting complete\n",
      "Got the result from ./1/64/train/filtrations/2/RadialFiltration_51_12/green/features.npy\n",
      "FiltrationExtractor: processing 1/64/train/filtrations/2/RadialFiltration_51_12/green, do_fit = False, filtration = RadialFiltration(center=array([51, 12]), n_jobs=-1)\n",
      "Got the result from ./1/64/train/filtrations/2/RadialFiltration_51_12/green/diagrams.npy\n",
      "Applying Scaler to persistence diagrams.\n",
      "Got the result from ./1/64/train/filtrations/2/RadialFiltration_51_12/green/features.npy\n",
      "FiltrationExtractor: processing 1/64/train/filtrations/2/RadialFiltration_51_12/blue, do_fit = True, filtration = RadialFiltration(center=array([51, 12]), n_jobs=-1)\n",
      "Got the result from ./1/64/train/filtrations/2/RadialFiltration_51_12/blue/diagrams.npy\n",
      "Applying Scaler to persistence diagrams.\n",
      "DiagramVectorizer: fitting complete\n",
      "Got the result from ./1/64/train/filtrations/2/RadialFiltration_51_12/blue/features.npy\n",
      "FiltrationExtractor: processing 1/64/train/filtrations/2/RadialFiltration_51_12/blue, do_fit = False, filtration = RadialFiltration(center=array([51, 12]), n_jobs=-1)\n",
      "Got the result from ./1/64/train/filtrations/2/RadialFiltration_51_12/blue/diagrams.npy\n",
      "Applying Scaler to persistence diagrams.\n",
      "Got the result from ./1/64/train/filtrations/2/RadialFiltration_51_12/blue/features.npy\n",
      "Fitting filtration 22/72: RadialFiltration with c = (51, 25), bin. thr. = 0.2\n",
      "RGB images received. Transforming to grayscale.\n"
     ]
    },
    {
     "name": "stderr",
     "output_type": "stream",
     "text": [
      "rgb2gray: 100%|██████████| 9469/9469 [00:01<00:00, 5474.14it/s]\n"
     ]
    },
    {
     "name": "stdout",
     "output_type": "stream",
     "text": [
      "FiltrationExtractor: processing 1/64/train/filtrations/2/RadialFiltration_51_25/gray, do_fit = True, filtration = RadialFiltration(center=array([51, 25]), n_jobs=-1)\n",
      "Got the result from ./1/64/train/filtrations/2/RadialFiltration_51_25/gray/diagrams.npy\n",
      "Applying Scaler to persistence diagrams.\n",
      "DiagramVectorizer: fitting complete\n",
      "Got the result from ./1/64/train/filtrations/2/RadialFiltration_51_25/gray/features.npy\n",
      "FiltrationExtractor: processing 1/64/train/filtrations/2/RadialFiltration_51_25/gray, do_fit = False, filtration = RadialFiltration(center=array([51, 25]), n_jobs=-1)\n",
      "Got the result from ./1/64/train/filtrations/2/RadialFiltration_51_25/gray/diagrams.npy\n",
      "Applying Scaler to persistence diagrams.\n",
      "Got the result from ./1/64/train/filtrations/2/RadialFiltration_51_25/gray/features.npy\n",
      "FiltrationExtractor: processing 1/64/train/filtrations/2/RadialFiltration_51_25/red, do_fit = True, filtration = RadialFiltration(center=array([51, 25]), n_jobs=-1)\n",
      "Got the result from ./1/64/train/filtrations/2/RadialFiltration_51_25/red/diagrams.npy\n",
      "Applying Scaler to persistence diagrams.\n",
      "DiagramVectorizer: fitting complete\n",
      "Got the result from ./1/64/train/filtrations/2/RadialFiltration_51_25/red/features.npy\n",
      "FiltrationExtractor: processing 1/64/train/filtrations/2/RadialFiltration_51_25/red, do_fit = False, filtration = RadialFiltration(center=array([51, 25]), n_jobs=-1)\n",
      "Got the result from ./1/64/train/filtrations/2/RadialFiltration_51_25/red/diagrams.npy\n",
      "Applying Scaler to persistence diagrams.\n",
      "Got the result from ./1/64/train/filtrations/2/RadialFiltration_51_25/red/features.npy\n",
      "FiltrationExtractor: processing 1/64/train/filtrations/2/RadialFiltration_51_25/green, do_fit = True, filtration = RadialFiltration(center=array([51, 25]), n_jobs=-1)\n",
      "Got the result from ./1/64/train/filtrations/2/RadialFiltration_51_25/green/diagrams.npy\n",
      "Applying Scaler to persistence diagrams.\n",
      "DiagramVectorizer: fitting complete\n",
      "Got the result from ./1/64/train/filtrations/2/RadialFiltration_51_25/green/features.npy\n",
      "FiltrationExtractor: processing 1/64/train/filtrations/2/RadialFiltration_51_25/green, do_fit = False, filtration = RadialFiltration(center=array([51, 25]), n_jobs=-1)\n",
      "Got the result from ./1/64/train/filtrations/2/RadialFiltration_51_25/green/diagrams.npy\n",
      "Applying Scaler to persistence diagrams.\n",
      "Got the result from ./1/64/train/filtrations/2/RadialFiltration_51_25/green/features.npy\n",
      "FiltrationExtractor: processing 1/64/train/filtrations/2/RadialFiltration_51_25/blue, do_fit = True, filtration = RadialFiltration(center=array([51, 25]), n_jobs=-1)\n",
      "Got the result from ./1/64/train/filtrations/2/RadialFiltration_51_25/blue/diagrams.npy\n",
      "Applying Scaler to persistence diagrams.\n",
      "DiagramVectorizer: fitting complete\n",
      "Got the result from ./1/64/train/filtrations/2/RadialFiltration_51_25/blue/features.npy\n",
      "FiltrationExtractor: processing 1/64/train/filtrations/2/RadialFiltration_51_25/blue, do_fit = False, filtration = RadialFiltration(center=array([51, 25]), n_jobs=-1)\n",
      "Got the result from ./1/64/train/filtrations/2/RadialFiltration_51_25/blue/diagrams.npy\n",
      "Applying Scaler to persistence diagrams.\n",
      "Got the result from ./1/64/train/filtrations/2/RadialFiltration_51_25/blue/features.npy\n",
      "Fitting filtration 23/72: RadialFiltration with c = (51, 38), bin. thr. = 0.2\n",
      "RGB images received. Transforming to grayscale.\n"
     ]
    },
    {
     "name": "stderr",
     "output_type": "stream",
     "text": [
      "rgb2gray: 100%|██████████| 9469/9469 [00:01<00:00, 5460.84it/s]\n"
     ]
    },
    {
     "name": "stdout",
     "output_type": "stream",
     "text": [
      "FiltrationExtractor: processing 1/64/train/filtrations/2/RadialFiltration_51_38/gray, do_fit = True, filtration = RadialFiltration(center=array([51, 38]), n_jobs=-1)\n",
      "Got the result from ./1/64/train/filtrations/2/RadialFiltration_51_38/gray/diagrams.npy\n",
      "Applying Scaler to persistence diagrams.\n",
      "DiagramVectorizer: fitting complete\n",
      "Got the result from ./1/64/train/filtrations/2/RadialFiltration_51_38/gray/features.npy\n",
      "FiltrationExtractor: processing 1/64/train/filtrations/2/RadialFiltration_51_38/gray, do_fit = False, filtration = RadialFiltration(center=array([51, 38]), n_jobs=-1)\n",
      "Got the result from ./1/64/train/filtrations/2/RadialFiltration_51_38/gray/diagrams.npy\n",
      "Applying Scaler to persistence diagrams.\n",
      "Got the result from ./1/64/train/filtrations/2/RadialFiltration_51_38/gray/features.npy\n",
      "FiltrationExtractor: processing 1/64/train/filtrations/2/RadialFiltration_51_38/red, do_fit = True, filtration = RadialFiltration(center=array([51, 38]), n_jobs=-1)\n",
      "Got the result from ./1/64/train/filtrations/2/RadialFiltration_51_38/red/diagrams.npy\n",
      "Applying Scaler to persistence diagrams.\n",
      "DiagramVectorizer: fitting complete\n",
      "Got the result from ./1/64/train/filtrations/2/RadialFiltration_51_38/red/features.npy\n",
      "FiltrationExtractor: processing 1/64/train/filtrations/2/RadialFiltration_51_38/red, do_fit = False, filtration = RadialFiltration(center=array([51, 38]), n_jobs=-1)\n",
      "Got the result from ./1/64/train/filtrations/2/RadialFiltration_51_38/red/diagrams.npy\n",
      "Applying Scaler to persistence diagrams.\n",
      "Got the result from ./1/64/train/filtrations/2/RadialFiltration_51_38/red/features.npy\n",
      "FiltrationExtractor: processing 1/64/train/filtrations/2/RadialFiltration_51_38/green, do_fit = True, filtration = RadialFiltration(center=array([51, 38]), n_jobs=-1)\n",
      "Got the result from ./1/64/train/filtrations/2/RadialFiltration_51_38/green/diagrams.npy\n",
      "Applying Scaler to persistence diagrams.\n",
      "DiagramVectorizer: fitting complete\n",
      "Got the result from ./1/64/train/filtrations/2/RadialFiltration_51_38/green/features.npy\n",
      "FiltrationExtractor: processing 1/64/train/filtrations/2/RadialFiltration_51_38/green, do_fit = False, filtration = RadialFiltration(center=array([51, 38]), n_jobs=-1)\n",
      "Got the result from ./1/64/train/filtrations/2/RadialFiltration_51_38/green/diagrams.npy\n",
      "Applying Scaler to persistence diagrams.\n",
      "Got the result from ./1/64/train/filtrations/2/RadialFiltration_51_38/green/features.npy\n",
      "FiltrationExtractor: processing 1/64/train/filtrations/2/RadialFiltration_51_38/blue, do_fit = True, filtration = RadialFiltration(center=array([51, 38]), n_jobs=-1)\n",
      "Got the result from ./1/64/train/filtrations/2/RadialFiltration_51_38/blue/diagrams.npy\n",
      "Applying Scaler to persistence diagrams.\n",
      "DiagramVectorizer: fitting complete\n",
      "Got the result from ./1/64/train/filtrations/2/RadialFiltration_51_38/blue/features.npy\n",
      "FiltrationExtractor: processing 1/64/train/filtrations/2/RadialFiltration_51_38/blue, do_fit = False, filtration = RadialFiltration(center=array([51, 38]), n_jobs=-1)\n",
      "Got the result from ./1/64/train/filtrations/2/RadialFiltration_51_38/blue/diagrams.npy\n",
      "Applying Scaler to persistence diagrams.\n",
      "Got the result from ./1/64/train/filtrations/2/RadialFiltration_51_38/blue/features.npy\n",
      "Fitting filtration 24/72: RadialFiltration with c = (51, 51), bin. thr. = 0.2\n",
      "RGB images received. Transforming to grayscale.\n"
     ]
    },
    {
     "name": "stderr",
     "output_type": "stream",
     "text": [
      "rgb2gray: 100%|██████████| 9469/9469 [00:01<00:00, 5180.96it/s]\n"
     ]
    },
    {
     "name": "stdout",
     "output_type": "stream",
     "text": [
      "FiltrationExtractor: processing 1/64/train/filtrations/2/RadialFiltration_51_51/gray, do_fit = True, filtration = RadialFiltration(center=array([51, 51]), n_jobs=-1)\n",
      "Got the result from ./1/64/train/filtrations/2/RadialFiltration_51_51/gray/diagrams.npy\n",
      "Applying Scaler to persistence diagrams.\n",
      "DiagramVectorizer: fitting complete\n",
      "Got the result from ./1/64/train/filtrations/2/RadialFiltration_51_51/gray/features.npy\n",
      "FiltrationExtractor: processing 1/64/train/filtrations/2/RadialFiltration_51_51/gray, do_fit = False, filtration = RadialFiltration(center=array([51, 51]), n_jobs=-1)\n",
      "Got the result from ./1/64/train/filtrations/2/RadialFiltration_51_51/gray/diagrams.npy\n",
      "Applying Scaler to persistence diagrams.\n",
      "Got the result from ./1/64/train/filtrations/2/RadialFiltration_51_51/gray/features.npy\n",
      "FiltrationExtractor: processing 1/64/train/filtrations/2/RadialFiltration_51_51/red, do_fit = True, filtration = RadialFiltration(center=array([51, 51]), n_jobs=-1)\n",
      "Got the result from ./1/64/train/filtrations/2/RadialFiltration_51_51/red/diagrams.npy\n",
      "Applying Scaler to persistence diagrams.\n",
      "DiagramVectorizer: fitting complete\n",
      "Got the result from ./1/64/train/filtrations/2/RadialFiltration_51_51/red/features.npy\n",
      "FiltrationExtractor: processing 1/64/train/filtrations/2/RadialFiltration_51_51/red, do_fit = False, filtration = RadialFiltration(center=array([51, 51]), n_jobs=-1)\n",
      "Got the result from ./1/64/train/filtrations/2/RadialFiltration_51_51/red/diagrams.npy\n",
      "Applying Scaler to persistence diagrams.\n",
      "Got the result from ./1/64/train/filtrations/2/RadialFiltration_51_51/red/features.npy\n",
      "FiltrationExtractor: processing 1/64/train/filtrations/2/RadialFiltration_51_51/green, do_fit = True, filtration = RadialFiltration(center=array([51, 51]), n_jobs=-1)\n",
      "Got the result from ./1/64/train/filtrations/2/RadialFiltration_51_51/green/diagrams.npy\n",
      "Applying Scaler to persistence diagrams.\n",
      "DiagramVectorizer: fitting complete\n",
      "Got the result from ./1/64/train/filtrations/2/RadialFiltration_51_51/green/features.npy\n",
      "FiltrationExtractor: processing 1/64/train/filtrations/2/RadialFiltration_51_51/green, do_fit = False, filtration = RadialFiltration(center=array([51, 51]), n_jobs=-1)\n",
      "Got the result from ./1/64/train/filtrations/2/RadialFiltration_51_51/green/diagrams.npy\n",
      "Applying Scaler to persistence diagrams.\n",
      "Got the result from ./1/64/train/filtrations/2/RadialFiltration_51_51/green/features.npy\n",
      "FiltrationExtractor: processing 1/64/train/filtrations/2/RadialFiltration_51_51/blue, do_fit = True, filtration = RadialFiltration(center=array([51, 51]), n_jobs=-1)\n",
      "Got the result from ./1/64/train/filtrations/2/RadialFiltration_51_51/blue/diagrams.npy\n",
      "Applying Scaler to persistence diagrams.\n",
      "DiagramVectorizer: fitting complete\n",
      "Got the result from ./1/64/train/filtrations/2/RadialFiltration_51_51/blue/features.npy\n",
      "FiltrationExtractor: processing 1/64/train/filtrations/2/RadialFiltration_51_51/blue, do_fit = False, filtration = RadialFiltration(center=array([51, 51]), n_jobs=-1)\n",
      "Got the result from ./1/64/train/filtrations/2/RadialFiltration_51_51/blue/diagrams.npy\n",
      "Applying Scaler to persistence diagrams.\n",
      "Got the result from ./1/64/train/filtrations/2/RadialFiltration_51_51/blue/features.npy\n",
      "Fitting filtration 25/72: HeightFiltration with d = (-1, -1), bin. thr. = 0.4\n",
      "RGB images received. Transforming to grayscale.\n"
     ]
    },
    {
     "name": "stderr",
     "output_type": "stream",
     "text": [
      "rgb2gray: 100%|██████████| 9469/9469 [00:01<00:00, 5550.36it/s]\n"
     ]
    },
    {
     "name": "stdout",
     "output_type": "stream",
     "text": [
      "FiltrationExtractor: processing 1/64/train/filtrations/4/HeightFiltrartion_-1_-1/gray, do_fit = True, filtration = HeightFiltration(direction=array([-1, -1]), n_jobs=-1)\n",
      "Got the result from ./1/64/train/filtrations/4/HeightFiltrartion_-1_-1/gray/diagrams.npy\n",
      "Applying Scaler to persistence diagrams.\n",
      "DiagramVectorizer: fitting complete\n",
      "Got the result from ./1/64/train/filtrations/4/HeightFiltrartion_-1_-1/gray/features.npy\n",
      "FiltrationExtractor: processing 1/64/train/filtrations/4/HeightFiltrartion_-1_-1/gray, do_fit = False, filtration = HeightFiltration(direction=array([-1, -1]), n_jobs=-1)\n",
      "Got the result from ./1/64/train/filtrations/4/HeightFiltrartion_-1_-1/gray/diagrams.npy\n",
      "Applying Scaler to persistence diagrams.\n",
      "Got the result from ./1/64/train/filtrations/4/HeightFiltrartion_-1_-1/gray/features.npy\n",
      "FiltrationExtractor: processing 1/64/train/filtrations/4/HeightFiltrartion_-1_-1/red, do_fit = True, filtration = HeightFiltration(direction=array([-1, -1]), n_jobs=-1)\n",
      "Got the result from ./1/64/train/filtrations/4/HeightFiltrartion_-1_-1/red/diagrams.npy\n",
      "Applying Scaler to persistence diagrams.\n",
      "DiagramVectorizer: fitting complete\n",
      "Got the result from ./1/64/train/filtrations/4/HeightFiltrartion_-1_-1/red/features.npy\n",
      "FiltrationExtractor: processing 1/64/train/filtrations/4/HeightFiltrartion_-1_-1/red, do_fit = False, filtration = HeightFiltration(direction=array([-1, -1]), n_jobs=-1)\n",
      "Got the result from ./1/64/train/filtrations/4/HeightFiltrartion_-1_-1/red/diagrams.npy\n",
      "Applying Scaler to persistence diagrams.\n",
      "Got the result from ./1/64/train/filtrations/4/HeightFiltrartion_-1_-1/red/features.npy\n",
      "FiltrationExtractor: processing 1/64/train/filtrations/4/HeightFiltrartion_-1_-1/green, do_fit = True, filtration = HeightFiltration(direction=array([-1, -1]), n_jobs=-1)\n",
      "Got the result from ./1/64/train/filtrations/4/HeightFiltrartion_-1_-1/green/diagrams.npy\n",
      "Applying Scaler to persistence diagrams.\n",
      "DiagramVectorizer: fitting complete\n",
      "Got the result from ./1/64/train/filtrations/4/HeightFiltrartion_-1_-1/green/features.npy\n",
      "FiltrationExtractor: processing 1/64/train/filtrations/4/HeightFiltrartion_-1_-1/green, do_fit = False, filtration = HeightFiltration(direction=array([-1, -1]), n_jobs=-1)\n",
      "Got the result from ./1/64/train/filtrations/4/HeightFiltrartion_-1_-1/green/diagrams.npy\n",
      "Applying Scaler to persistence diagrams.\n",
      "Got the result from ./1/64/train/filtrations/4/HeightFiltrartion_-1_-1/green/features.npy\n",
      "FiltrationExtractor: processing 1/64/train/filtrations/4/HeightFiltrartion_-1_-1/blue, do_fit = True, filtration = HeightFiltration(direction=array([-1, -1]), n_jobs=-1)\n",
      "Got the result from ./1/64/train/filtrations/4/HeightFiltrartion_-1_-1/blue/diagrams.npy\n",
      "Applying Scaler to persistence diagrams.\n",
      "DiagramVectorizer: fitting complete\n",
      "Got the result from ./1/64/train/filtrations/4/HeightFiltrartion_-1_-1/blue/features.npy\n",
      "FiltrationExtractor: processing 1/64/train/filtrations/4/HeightFiltrartion_-1_-1/blue, do_fit = False, filtration = HeightFiltration(direction=array([-1, -1]), n_jobs=-1)\n",
      "Got the result from ./1/64/train/filtrations/4/HeightFiltrartion_-1_-1/blue/diagrams.npy\n",
      "Applying Scaler to persistence diagrams.\n",
      "Got the result from ./1/64/train/filtrations/4/HeightFiltrartion_-1_-1/blue/features.npy\n",
      "Fitting filtration 26/72: HeightFiltration with d = (-1, 0), bin. thr. = 0.4\n",
      "RGB images received. Transforming to grayscale.\n"
     ]
    },
    {
     "name": "stderr",
     "output_type": "stream",
     "text": [
      "rgb2gray: 100%|██████████| 9469/9469 [00:01<00:00, 5329.99it/s]\n"
     ]
    },
    {
     "name": "stdout",
     "output_type": "stream",
     "text": [
      "FiltrationExtractor: processing 1/64/train/filtrations/4/HeightFiltrartion_-1_0/gray, do_fit = True, filtration = HeightFiltration(direction=array([-1,  0]), n_jobs=-1)\n",
      "Got the result from ./1/64/train/filtrations/4/HeightFiltrartion_-1_0/gray/diagrams.npy\n",
      "Applying Scaler to persistence diagrams.\n",
      "DiagramVectorizer: fitting complete\n",
      "Got the result from ./1/64/train/filtrations/4/HeightFiltrartion_-1_0/gray/features.npy\n",
      "FiltrationExtractor: processing 1/64/train/filtrations/4/HeightFiltrartion_-1_0/gray, do_fit = False, filtration = HeightFiltration(direction=array([-1,  0]), n_jobs=-1)\n",
      "Got the result from ./1/64/train/filtrations/4/HeightFiltrartion_-1_0/gray/diagrams.npy\n",
      "Applying Scaler to persistence diagrams.\n",
      "Got the result from ./1/64/train/filtrations/4/HeightFiltrartion_-1_0/gray/features.npy\n",
      "FiltrationExtractor: processing 1/64/train/filtrations/4/HeightFiltrartion_-1_0/red, do_fit = True, filtration = HeightFiltration(direction=array([-1,  0]), n_jobs=-1)\n",
      "Got the result from ./1/64/train/filtrations/4/HeightFiltrartion_-1_0/red/diagrams.npy\n",
      "Applying Scaler to persistence diagrams.\n",
      "DiagramVectorizer: fitting complete\n",
      "Got the result from ./1/64/train/filtrations/4/HeightFiltrartion_-1_0/red/features.npy\n",
      "FiltrationExtractor: processing 1/64/train/filtrations/4/HeightFiltrartion_-1_0/red, do_fit = False, filtration = HeightFiltration(direction=array([-1,  0]), n_jobs=-1)\n",
      "Got the result from ./1/64/train/filtrations/4/HeightFiltrartion_-1_0/red/diagrams.npy\n",
      "Applying Scaler to persistence diagrams.\n",
      "Got the result from ./1/64/train/filtrations/4/HeightFiltrartion_-1_0/red/features.npy\n",
      "FiltrationExtractor: processing 1/64/train/filtrations/4/HeightFiltrartion_-1_0/green, do_fit = True, filtration = HeightFiltration(direction=array([-1,  0]), n_jobs=-1)\n",
      "Got the result from ./1/64/train/filtrations/4/HeightFiltrartion_-1_0/green/diagrams.npy\n",
      "Applying Scaler to persistence diagrams.\n",
      "DiagramVectorizer: fitting complete\n",
      "Got the result from ./1/64/train/filtrations/4/HeightFiltrartion_-1_0/green/features.npy\n",
      "FiltrationExtractor: processing 1/64/train/filtrations/4/HeightFiltrartion_-1_0/green, do_fit = False, filtration = HeightFiltration(direction=array([-1,  0]), n_jobs=-1)\n",
      "Got the result from ./1/64/train/filtrations/4/HeightFiltrartion_-1_0/green/diagrams.npy\n",
      "Applying Scaler to persistence diagrams.\n",
      "Got the result from ./1/64/train/filtrations/4/HeightFiltrartion_-1_0/green/features.npy\n",
      "FiltrationExtractor: processing 1/64/train/filtrations/4/HeightFiltrartion_-1_0/blue, do_fit = True, filtration = HeightFiltration(direction=array([-1,  0]), n_jobs=-1)\n",
      "Got the result from ./1/64/train/filtrations/4/HeightFiltrartion_-1_0/blue/diagrams.npy\n",
      "Applying Scaler to persistence diagrams.\n",
      "DiagramVectorizer: fitting complete\n",
      "Got the result from ./1/64/train/filtrations/4/HeightFiltrartion_-1_0/blue/features.npy\n",
      "FiltrationExtractor: processing 1/64/train/filtrations/4/HeightFiltrartion_-1_0/blue, do_fit = False, filtration = HeightFiltration(direction=array([-1,  0]), n_jobs=-1)\n",
      "Got the result from ./1/64/train/filtrations/4/HeightFiltrartion_-1_0/blue/diagrams.npy\n",
      "Applying Scaler to persistence diagrams.\n",
      "Got the result from ./1/64/train/filtrations/4/HeightFiltrartion_-1_0/blue/features.npy\n",
      "Fitting filtration 27/72: HeightFiltration with d = (-1, 1), bin. thr. = 0.4\n",
      "RGB images received. Transforming to grayscale.\n"
     ]
    },
    {
     "name": "stderr",
     "output_type": "stream",
     "text": [
      "rgb2gray: 100%|██████████| 9469/9469 [00:01<00:00, 5477.87it/s]\n"
     ]
    },
    {
     "name": "stdout",
     "output_type": "stream",
     "text": [
      "FiltrationExtractor: processing 1/64/train/filtrations/4/HeightFiltrartion_-1_1/gray, do_fit = True, filtration = HeightFiltration(direction=array([-1,  1]), n_jobs=-1)\n",
      "Got the result from ./1/64/train/filtrations/4/HeightFiltrartion_-1_1/gray/diagrams.npy\n",
      "Applying Scaler to persistence diagrams.\n",
      "DiagramVectorizer: fitting complete\n",
      "Got the result from ./1/64/train/filtrations/4/HeightFiltrartion_-1_1/gray/features.npy\n",
      "FiltrationExtractor: processing 1/64/train/filtrations/4/HeightFiltrartion_-1_1/gray, do_fit = False, filtration = HeightFiltration(direction=array([-1,  1]), n_jobs=-1)\n",
      "Got the result from ./1/64/train/filtrations/4/HeightFiltrartion_-1_1/gray/diagrams.npy\n",
      "Applying Scaler to persistence diagrams.\n",
      "Got the result from ./1/64/train/filtrations/4/HeightFiltrartion_-1_1/gray/features.npy\n",
      "FiltrationExtractor: processing 1/64/train/filtrations/4/HeightFiltrartion_-1_1/red, do_fit = True, filtration = HeightFiltration(direction=array([-1,  1]), n_jobs=-1)\n",
      "Got the result from ./1/64/train/filtrations/4/HeightFiltrartion_-1_1/red/diagrams.npy\n",
      "Applying Scaler to persistence diagrams.\n",
      "DiagramVectorizer: fitting complete\n",
      "Got the result from ./1/64/train/filtrations/4/HeightFiltrartion_-1_1/red/features.npy\n",
      "FiltrationExtractor: processing 1/64/train/filtrations/4/HeightFiltrartion_-1_1/red, do_fit = False, filtration = HeightFiltration(direction=array([-1,  1]), n_jobs=-1)\n",
      "Got the result from ./1/64/train/filtrations/4/HeightFiltrartion_-1_1/red/diagrams.npy\n",
      "Applying Scaler to persistence diagrams.\n",
      "Got the result from ./1/64/train/filtrations/4/HeightFiltrartion_-1_1/red/features.npy\n",
      "FiltrationExtractor: processing 1/64/train/filtrations/4/HeightFiltrartion_-1_1/green, do_fit = True, filtration = HeightFiltration(direction=array([-1,  1]), n_jobs=-1)\n",
      "Got the result from ./1/64/train/filtrations/4/HeightFiltrartion_-1_1/green/diagrams.npy\n",
      "Applying Scaler to persistence diagrams.\n",
      "DiagramVectorizer: fitting complete\n",
      "Got the result from ./1/64/train/filtrations/4/HeightFiltrartion_-1_1/green/features.npy\n",
      "FiltrationExtractor: processing 1/64/train/filtrations/4/HeightFiltrartion_-1_1/green, do_fit = False, filtration = HeightFiltration(direction=array([-1,  1]), n_jobs=-1)\n",
      "Got the result from ./1/64/train/filtrations/4/HeightFiltrartion_-1_1/green/diagrams.npy\n",
      "Applying Scaler to persistence diagrams.\n",
      "Got the result from ./1/64/train/filtrations/4/HeightFiltrartion_-1_1/green/features.npy\n",
      "FiltrationExtractor: processing 1/64/train/filtrations/4/HeightFiltrartion_-1_1/blue, do_fit = True, filtration = HeightFiltration(direction=array([-1,  1]), n_jobs=-1)\n",
      "Got the result from ./1/64/train/filtrations/4/HeightFiltrartion_-1_1/blue/diagrams.npy\n",
      "Applying Scaler to persistence diagrams.\n",
      "DiagramVectorizer: fitting complete\n",
      "Got the result from ./1/64/train/filtrations/4/HeightFiltrartion_-1_1/blue/features.npy\n",
      "FiltrationExtractor: processing 1/64/train/filtrations/4/HeightFiltrartion_-1_1/blue, do_fit = False, filtration = HeightFiltration(direction=array([-1,  1]), n_jobs=-1)\n",
      "Got the result from ./1/64/train/filtrations/4/HeightFiltrartion_-1_1/blue/diagrams.npy\n",
      "Applying Scaler to persistence diagrams.\n",
      "Got the result from ./1/64/train/filtrations/4/HeightFiltrartion_-1_1/blue/features.npy\n",
      "Fitting filtration 28/72: HeightFiltration with d = (0, -1), bin. thr. = 0.4\n",
      "RGB images received. Transforming to grayscale.\n"
     ]
    },
    {
     "name": "stderr",
     "output_type": "stream",
     "text": [
      "rgb2gray: 100%|██████████| 9469/9469 [00:01<00:00, 5360.11it/s]\n"
     ]
    },
    {
     "name": "stdout",
     "output_type": "stream",
     "text": [
      "FiltrationExtractor: processing 1/64/train/filtrations/4/HeightFiltrartion_0_-1/gray, do_fit = True, filtration = HeightFiltration(direction=array([ 0, -1]), n_jobs=-1)\n",
      "Got the result from ./1/64/train/filtrations/4/HeightFiltrartion_0_-1/gray/diagrams.npy\n",
      "Applying Scaler to persistence diagrams.\n",
      "DiagramVectorizer: fitting complete\n",
      "Got the result from ./1/64/train/filtrations/4/HeightFiltrartion_0_-1/gray/features.npy\n",
      "FiltrationExtractor: processing 1/64/train/filtrations/4/HeightFiltrartion_0_-1/gray, do_fit = False, filtration = HeightFiltration(direction=array([ 0, -1]), n_jobs=-1)\n",
      "Got the result from ./1/64/train/filtrations/4/HeightFiltrartion_0_-1/gray/diagrams.npy\n",
      "Applying Scaler to persistence diagrams.\n",
      "Got the result from ./1/64/train/filtrations/4/HeightFiltrartion_0_-1/gray/features.npy\n",
      "FiltrationExtractor: processing 1/64/train/filtrations/4/HeightFiltrartion_0_-1/red, do_fit = True, filtration = HeightFiltration(direction=array([ 0, -1]), n_jobs=-1)\n",
      "Got the result from ./1/64/train/filtrations/4/HeightFiltrartion_0_-1/red/diagrams.npy\n",
      "Applying Scaler to persistence diagrams.\n",
      "DiagramVectorizer: fitting complete\n",
      "Got the result from ./1/64/train/filtrations/4/HeightFiltrartion_0_-1/red/features.npy\n",
      "FiltrationExtractor: processing 1/64/train/filtrations/4/HeightFiltrartion_0_-1/red, do_fit = False, filtration = HeightFiltration(direction=array([ 0, -1]), n_jobs=-1)\n",
      "Got the result from ./1/64/train/filtrations/4/HeightFiltrartion_0_-1/red/diagrams.npy\n",
      "Applying Scaler to persistence diagrams.\n",
      "Got the result from ./1/64/train/filtrations/4/HeightFiltrartion_0_-1/red/features.npy\n",
      "FiltrationExtractor: processing 1/64/train/filtrations/4/HeightFiltrartion_0_-1/green, do_fit = True, filtration = HeightFiltration(direction=array([ 0, -1]), n_jobs=-1)\n",
      "Got the result from ./1/64/train/filtrations/4/HeightFiltrartion_0_-1/green/diagrams.npy\n",
      "Applying Scaler to persistence diagrams.\n",
      "DiagramVectorizer: fitting complete\n",
      "Got the result from ./1/64/train/filtrations/4/HeightFiltrartion_0_-1/green/features.npy\n",
      "FiltrationExtractor: processing 1/64/train/filtrations/4/HeightFiltrartion_0_-1/green, do_fit = False, filtration = HeightFiltration(direction=array([ 0, -1]), n_jobs=-1)\n",
      "Got the result from ./1/64/train/filtrations/4/HeightFiltrartion_0_-1/green/diagrams.npy\n",
      "Applying Scaler to persistence diagrams.\n",
      "Got the result from ./1/64/train/filtrations/4/HeightFiltrartion_0_-1/green/features.npy\n",
      "FiltrationExtractor: processing 1/64/train/filtrations/4/HeightFiltrartion_0_-1/blue, do_fit = True, filtration = HeightFiltration(direction=array([ 0, -1]), n_jobs=-1)\n",
      "Got the result from ./1/64/train/filtrations/4/HeightFiltrartion_0_-1/blue/diagrams.npy\n",
      "Applying Scaler to persistence diagrams.\n",
      "DiagramVectorizer: fitting complete\n",
      "Got the result from ./1/64/train/filtrations/4/HeightFiltrartion_0_-1/blue/features.npy\n",
      "FiltrationExtractor: processing 1/64/train/filtrations/4/HeightFiltrartion_0_-1/blue, do_fit = False, filtration = HeightFiltration(direction=array([ 0, -1]), n_jobs=-1)\n",
      "Got the result from ./1/64/train/filtrations/4/HeightFiltrartion_0_-1/blue/diagrams.npy\n",
      "Applying Scaler to persistence diagrams.\n",
      "Got the result from ./1/64/train/filtrations/4/HeightFiltrartion_0_-1/blue/features.npy\n",
      "Fitting filtration 29/72: HeightFiltration with d = (0, 1), bin. thr. = 0.4\n",
      "RGB images received. Transforming to grayscale.\n"
     ]
    },
    {
     "name": "stderr",
     "output_type": "stream",
     "text": [
      "rgb2gray: 100%|██████████| 9469/9469 [00:01<00:00, 5159.82it/s]\n"
     ]
    },
    {
     "name": "stdout",
     "output_type": "stream",
     "text": [
      "FiltrationExtractor: processing 1/64/train/filtrations/4/HeightFiltrartion_0_1/gray, do_fit = True, filtration = HeightFiltration(direction=array([0, 1]), n_jobs=-1)\n",
      "Got the result from ./1/64/train/filtrations/4/HeightFiltrartion_0_1/gray/diagrams.npy\n",
      "Applying Scaler to persistence diagrams.\n",
      "DiagramVectorizer: fitting complete\n",
      "Got the result from ./1/64/train/filtrations/4/HeightFiltrartion_0_1/gray/features.npy\n",
      "FiltrationExtractor: processing 1/64/train/filtrations/4/HeightFiltrartion_0_1/gray, do_fit = False, filtration = HeightFiltration(direction=array([0, 1]), n_jobs=-1)\n",
      "Got the result from ./1/64/train/filtrations/4/HeightFiltrartion_0_1/gray/diagrams.npy\n",
      "Applying Scaler to persistence diagrams.\n",
      "Got the result from ./1/64/train/filtrations/4/HeightFiltrartion_0_1/gray/features.npy\n",
      "FiltrationExtractor: processing 1/64/train/filtrations/4/HeightFiltrartion_0_1/red, do_fit = True, filtration = HeightFiltration(direction=array([0, 1]), n_jobs=-1)\n",
      "Got the result from ./1/64/train/filtrations/4/HeightFiltrartion_0_1/red/diagrams.npy\n",
      "Applying Scaler to persistence diagrams.\n",
      "DiagramVectorizer: fitting complete\n",
      "Got the result from ./1/64/train/filtrations/4/HeightFiltrartion_0_1/red/features.npy\n",
      "FiltrationExtractor: processing 1/64/train/filtrations/4/HeightFiltrartion_0_1/red, do_fit = False, filtration = HeightFiltration(direction=array([0, 1]), n_jobs=-1)\n",
      "Got the result from ./1/64/train/filtrations/4/HeightFiltrartion_0_1/red/diagrams.npy\n",
      "Applying Scaler to persistence diagrams.\n",
      "Got the result from ./1/64/train/filtrations/4/HeightFiltrartion_0_1/red/features.npy\n",
      "FiltrationExtractor: processing 1/64/train/filtrations/4/HeightFiltrartion_0_1/green, do_fit = True, filtration = HeightFiltration(direction=array([0, 1]), n_jobs=-1)\n",
      "Got the result from ./1/64/train/filtrations/4/HeightFiltrartion_0_1/green/diagrams.npy\n",
      "Applying Scaler to persistence diagrams.\n",
      "DiagramVectorizer: fitting complete\n",
      "Got the result from ./1/64/train/filtrations/4/HeightFiltrartion_0_1/green/features.npy\n",
      "FiltrationExtractor: processing 1/64/train/filtrations/4/HeightFiltrartion_0_1/green, do_fit = False, filtration = HeightFiltration(direction=array([0, 1]), n_jobs=-1)\n",
      "Got the result from ./1/64/train/filtrations/4/HeightFiltrartion_0_1/green/diagrams.npy\n",
      "Applying Scaler to persistence diagrams.\n",
      "Got the result from ./1/64/train/filtrations/4/HeightFiltrartion_0_1/green/features.npy\n",
      "FiltrationExtractor: processing 1/64/train/filtrations/4/HeightFiltrartion_0_1/blue, do_fit = True, filtration = HeightFiltration(direction=array([0, 1]), n_jobs=-1)\n",
      "Got the result from ./1/64/train/filtrations/4/HeightFiltrartion_0_1/blue/diagrams.npy\n",
      "Applying Scaler to persistence diagrams.\n",
      "DiagramVectorizer: fitting complete\n",
      "Got the result from ./1/64/train/filtrations/4/HeightFiltrartion_0_1/blue/features.npy\n",
      "FiltrationExtractor: processing 1/64/train/filtrations/4/HeightFiltrartion_0_1/blue, do_fit = False, filtration = HeightFiltration(direction=array([0, 1]), n_jobs=-1)\n",
      "Got the result from ./1/64/train/filtrations/4/HeightFiltrartion_0_1/blue/diagrams.npy\n",
      "Applying Scaler to persistence diagrams.\n",
      "Got the result from ./1/64/train/filtrations/4/HeightFiltrartion_0_1/blue/features.npy\n",
      "Fitting filtration 30/72: HeightFiltration with d = (1, -1), bin. thr. = 0.4\n",
      "RGB images received. Transforming to grayscale.\n"
     ]
    },
    {
     "name": "stderr",
     "output_type": "stream",
     "text": [
      "rgb2gray: 100%|██████████| 9469/9469 [00:01<00:00, 5481.30it/s]\n"
     ]
    },
    {
     "name": "stdout",
     "output_type": "stream",
     "text": [
      "FiltrationExtractor: processing 1/64/train/filtrations/4/HeightFiltrartion_1_-1/gray, do_fit = True, filtration = HeightFiltration(direction=array([ 1, -1]), n_jobs=-1)\n",
      "Got the result from ./1/64/train/filtrations/4/HeightFiltrartion_1_-1/gray/diagrams.npy\n",
      "Applying Scaler to persistence diagrams.\n",
      "DiagramVectorizer: fitting complete\n",
      "Got the result from ./1/64/train/filtrations/4/HeightFiltrartion_1_-1/gray/features.npy\n",
      "FiltrationExtractor: processing 1/64/train/filtrations/4/HeightFiltrartion_1_-1/gray, do_fit = False, filtration = HeightFiltration(direction=array([ 1, -1]), n_jobs=-1)\n",
      "Got the result from ./1/64/train/filtrations/4/HeightFiltrartion_1_-1/gray/diagrams.npy\n",
      "Applying Scaler to persistence diagrams.\n",
      "Got the result from ./1/64/train/filtrations/4/HeightFiltrartion_1_-1/gray/features.npy\n",
      "FiltrationExtractor: processing 1/64/train/filtrations/4/HeightFiltrartion_1_-1/red, do_fit = True, filtration = HeightFiltration(direction=array([ 1, -1]), n_jobs=-1)\n",
      "Got the result from ./1/64/train/filtrations/4/HeightFiltrartion_1_-1/red/diagrams.npy\n",
      "Applying Scaler to persistence diagrams.\n",
      "DiagramVectorizer: fitting complete\n",
      "Got the result from ./1/64/train/filtrations/4/HeightFiltrartion_1_-1/red/features.npy\n",
      "FiltrationExtractor: processing 1/64/train/filtrations/4/HeightFiltrartion_1_-1/red, do_fit = False, filtration = HeightFiltration(direction=array([ 1, -1]), n_jobs=-1)\n",
      "Got the result from ./1/64/train/filtrations/4/HeightFiltrartion_1_-1/red/diagrams.npy\n",
      "Applying Scaler to persistence diagrams.\n",
      "Got the result from ./1/64/train/filtrations/4/HeightFiltrartion_1_-1/red/features.npy\n",
      "FiltrationExtractor: processing 1/64/train/filtrations/4/HeightFiltrartion_1_-1/green, do_fit = True, filtration = HeightFiltration(direction=array([ 1, -1]), n_jobs=-1)\n",
      "Got the result from ./1/64/train/filtrations/4/HeightFiltrartion_1_-1/green/diagrams.npy\n",
      "Applying Scaler to persistence diagrams.\n",
      "DiagramVectorizer: fitting complete\n",
      "Got the result from ./1/64/train/filtrations/4/HeightFiltrartion_1_-1/green/features.npy\n",
      "FiltrationExtractor: processing 1/64/train/filtrations/4/HeightFiltrartion_1_-1/green, do_fit = False, filtration = HeightFiltration(direction=array([ 1, -1]), n_jobs=-1)\n",
      "Got the result from ./1/64/train/filtrations/4/HeightFiltrartion_1_-1/green/diagrams.npy\n",
      "Applying Scaler to persistence diagrams.\n",
      "Got the result from ./1/64/train/filtrations/4/HeightFiltrartion_1_-1/green/features.npy\n",
      "FiltrationExtractor: processing 1/64/train/filtrations/4/HeightFiltrartion_1_-1/blue, do_fit = True, filtration = HeightFiltration(direction=array([ 1, -1]), n_jobs=-1)\n",
      "Got the result from ./1/64/train/filtrations/4/HeightFiltrartion_1_-1/blue/diagrams.npy\n",
      "Applying Scaler to persistence diagrams.\n",
      "DiagramVectorizer: fitting complete\n",
      "Got the result from ./1/64/train/filtrations/4/HeightFiltrartion_1_-1/blue/features.npy\n",
      "FiltrationExtractor: processing 1/64/train/filtrations/4/HeightFiltrartion_1_-1/blue, do_fit = False, filtration = HeightFiltration(direction=array([ 1, -1]), n_jobs=-1)\n",
      "Got the result from ./1/64/train/filtrations/4/HeightFiltrartion_1_-1/blue/diagrams.npy\n",
      "Applying Scaler to persistence diagrams.\n",
      "Got the result from ./1/64/train/filtrations/4/HeightFiltrartion_1_-1/blue/features.npy\n",
      "Fitting filtration 31/72: HeightFiltration with d = (1, 0), bin. thr. = 0.4\n",
      "RGB images received. Transforming to grayscale.\n"
     ]
    },
    {
     "name": "stderr",
     "output_type": "stream",
     "text": [
      "rgb2gray: 100%|██████████| 9469/9469 [00:01<00:00, 5438.76it/s]\n"
     ]
    },
    {
     "name": "stdout",
     "output_type": "stream",
     "text": [
      "FiltrationExtractor: processing 1/64/train/filtrations/4/HeightFiltrartion_1_0/gray, do_fit = True, filtration = HeightFiltration(direction=array([1, 0]), n_jobs=-1)\n",
      "Got the result from ./1/64/train/filtrations/4/HeightFiltrartion_1_0/gray/diagrams.npy\n",
      "Applying Scaler to persistence diagrams.\n",
      "DiagramVectorizer: fitting complete\n",
      "Got the result from ./1/64/train/filtrations/4/HeightFiltrartion_1_0/gray/features.npy\n",
      "FiltrationExtractor: processing 1/64/train/filtrations/4/HeightFiltrartion_1_0/gray, do_fit = False, filtration = HeightFiltration(direction=array([1, 0]), n_jobs=-1)\n",
      "Got the result from ./1/64/train/filtrations/4/HeightFiltrartion_1_0/gray/diagrams.npy\n",
      "Applying Scaler to persistence diagrams.\n",
      "Got the result from ./1/64/train/filtrations/4/HeightFiltrartion_1_0/gray/features.npy\n",
      "FiltrationExtractor: processing 1/64/train/filtrations/4/HeightFiltrartion_1_0/red, do_fit = True, filtration = HeightFiltration(direction=array([1, 0]), n_jobs=-1)\n",
      "Got the result from ./1/64/train/filtrations/4/HeightFiltrartion_1_0/red/diagrams.npy\n",
      "Applying Scaler to persistence diagrams.\n",
      "DiagramVectorizer: fitting complete\n",
      "Got the result from ./1/64/train/filtrations/4/HeightFiltrartion_1_0/red/features.npy\n",
      "FiltrationExtractor: processing 1/64/train/filtrations/4/HeightFiltrartion_1_0/red, do_fit = False, filtration = HeightFiltration(direction=array([1, 0]), n_jobs=-1)\n",
      "Got the result from ./1/64/train/filtrations/4/HeightFiltrartion_1_0/red/diagrams.npy\n",
      "Applying Scaler to persistence diagrams.\n",
      "Got the result from ./1/64/train/filtrations/4/HeightFiltrartion_1_0/red/features.npy\n",
      "FiltrationExtractor: processing 1/64/train/filtrations/4/HeightFiltrartion_1_0/green, do_fit = True, filtration = HeightFiltration(direction=array([1, 0]), n_jobs=-1)\n",
      "Got the result from ./1/64/train/filtrations/4/HeightFiltrartion_1_0/green/diagrams.npy\n",
      "Applying Scaler to persistence diagrams.\n",
      "DiagramVectorizer: fitting complete\n",
      "Got the result from ./1/64/train/filtrations/4/HeightFiltrartion_1_0/green/features.npy\n",
      "FiltrationExtractor: processing 1/64/train/filtrations/4/HeightFiltrartion_1_0/green, do_fit = False, filtration = HeightFiltration(direction=array([1, 0]), n_jobs=-1)\n",
      "Got the result from ./1/64/train/filtrations/4/HeightFiltrartion_1_0/green/diagrams.npy\n",
      "Applying Scaler to persistence diagrams.\n",
      "Got the result from ./1/64/train/filtrations/4/HeightFiltrartion_1_0/green/features.npy\n",
      "FiltrationExtractor: processing 1/64/train/filtrations/4/HeightFiltrartion_1_0/blue, do_fit = True, filtration = HeightFiltration(direction=array([1, 0]), n_jobs=-1)\n",
      "Got the result from ./1/64/train/filtrations/4/HeightFiltrartion_1_0/blue/diagrams.npy\n",
      "Applying Scaler to persistence diagrams.\n",
      "DiagramVectorizer: fitting complete\n",
      "Got the result from ./1/64/train/filtrations/4/HeightFiltrartion_1_0/blue/features.npy\n",
      "FiltrationExtractor: processing 1/64/train/filtrations/4/HeightFiltrartion_1_0/blue, do_fit = False, filtration = HeightFiltration(direction=array([1, 0]), n_jobs=-1)\n",
      "Got the result from ./1/64/train/filtrations/4/HeightFiltrartion_1_0/blue/diagrams.npy\n",
      "Applying Scaler to persistence diagrams.\n",
      "Got the result from ./1/64/train/filtrations/4/HeightFiltrartion_1_0/blue/features.npy\n",
      "Fitting filtration 32/72: HeightFiltration with d = (1, 1), bin. thr. = 0.4\n",
      "RGB images received. Transforming to grayscale.\n"
     ]
    },
    {
     "name": "stderr",
     "output_type": "stream",
     "text": [
      "rgb2gray: 100%|██████████| 9469/9469 [00:01<00:00, 5424.35it/s]\n"
     ]
    },
    {
     "name": "stdout",
     "output_type": "stream",
     "text": [
      "FiltrationExtractor: processing 1/64/train/filtrations/4/HeightFiltrartion_1_1/gray, do_fit = True, filtration = HeightFiltration(direction=array([1, 1]), n_jobs=-1)\n",
      "Got the result from ./1/64/train/filtrations/4/HeightFiltrartion_1_1/gray/diagrams.npy\n",
      "Applying Scaler to persistence diagrams.\n",
      "DiagramVectorizer: fitting complete\n",
      "Got the result from ./1/64/train/filtrations/4/HeightFiltrartion_1_1/gray/features.npy\n",
      "FiltrationExtractor: processing 1/64/train/filtrations/4/HeightFiltrartion_1_1/gray, do_fit = False, filtration = HeightFiltration(direction=array([1, 1]), n_jobs=-1)\n",
      "Got the result from ./1/64/train/filtrations/4/HeightFiltrartion_1_1/gray/diagrams.npy\n",
      "Applying Scaler to persistence diagrams.\n",
      "Got the result from ./1/64/train/filtrations/4/HeightFiltrartion_1_1/gray/features.npy\n",
      "FiltrationExtractor: processing 1/64/train/filtrations/4/HeightFiltrartion_1_1/red, do_fit = True, filtration = HeightFiltration(direction=array([1, 1]), n_jobs=-1)\n",
      "Got the result from ./1/64/train/filtrations/4/HeightFiltrartion_1_1/red/diagrams.npy\n",
      "Applying Scaler to persistence diagrams.\n",
      "DiagramVectorizer: fitting complete\n",
      "Got the result from ./1/64/train/filtrations/4/HeightFiltrartion_1_1/red/features.npy\n",
      "FiltrationExtractor: processing 1/64/train/filtrations/4/HeightFiltrartion_1_1/red, do_fit = False, filtration = HeightFiltration(direction=array([1, 1]), n_jobs=-1)\n",
      "Got the result from ./1/64/train/filtrations/4/HeightFiltrartion_1_1/red/diagrams.npy\n",
      "Applying Scaler to persistence diagrams.\n",
      "Got the result from ./1/64/train/filtrations/4/HeightFiltrartion_1_1/red/features.npy\n",
      "FiltrationExtractor: processing 1/64/train/filtrations/4/HeightFiltrartion_1_1/green, do_fit = True, filtration = HeightFiltration(direction=array([1, 1]), n_jobs=-1)\n",
      "Got the result from ./1/64/train/filtrations/4/HeightFiltrartion_1_1/green/diagrams.npy\n",
      "Applying Scaler to persistence diagrams.\n",
      "DiagramVectorizer: fitting complete\n",
      "Got the result from ./1/64/train/filtrations/4/HeightFiltrartion_1_1/green/features.npy\n",
      "FiltrationExtractor: processing 1/64/train/filtrations/4/HeightFiltrartion_1_1/green, do_fit = False, filtration = HeightFiltration(direction=array([1, 1]), n_jobs=-1)\n",
      "Got the result from ./1/64/train/filtrations/4/HeightFiltrartion_1_1/green/diagrams.npy\n",
      "Applying Scaler to persistence diagrams.\n",
      "Got the result from ./1/64/train/filtrations/4/HeightFiltrartion_1_1/green/features.npy\n",
      "FiltrationExtractor: processing 1/64/train/filtrations/4/HeightFiltrartion_1_1/blue, do_fit = True, filtration = HeightFiltration(direction=array([1, 1]), n_jobs=-1)\n",
      "Got the result from ./1/64/train/filtrations/4/HeightFiltrartion_1_1/blue/diagrams.npy\n",
      "Applying Scaler to persistence diagrams.\n",
      "DiagramVectorizer: fitting complete\n",
      "Got the result from ./1/64/train/filtrations/4/HeightFiltrartion_1_1/blue/features.npy\n",
      "FiltrationExtractor: processing 1/64/train/filtrations/4/HeightFiltrartion_1_1/blue, do_fit = False, filtration = HeightFiltration(direction=array([1, 1]), n_jobs=-1)\n",
      "Got the result from ./1/64/train/filtrations/4/HeightFiltrartion_1_1/blue/diagrams.npy\n",
      "Applying Scaler to persistence diagrams.\n",
      "Got the result from ./1/64/train/filtrations/4/HeightFiltrartion_1_1/blue/features.npy\n",
      "Fitting filtration 33/72: RadialFiltration with c = (12, 12), bin. thr. = 0.4\n",
      "RGB images received. Transforming to grayscale.\n"
     ]
    },
    {
     "name": "stderr",
     "output_type": "stream",
     "text": [
      "rgb2gray: 100%|██████████| 9469/9469 [00:01<00:00, 5090.25it/s]\n"
     ]
    },
    {
     "name": "stdout",
     "output_type": "stream",
     "text": [
      "FiltrationExtractor: processing 1/64/train/filtrations/4/RadialFiltration_12_12/gray, do_fit = True, filtration = RadialFiltration(center=array([12, 12]), n_jobs=-1)\n",
      "Got the result from ./1/64/train/filtrations/4/RadialFiltration_12_12/gray/diagrams.npy\n",
      "Applying Scaler to persistence diagrams.\n",
      "DiagramVectorizer: fitting complete\n",
      "Got the result from ./1/64/train/filtrations/4/RadialFiltration_12_12/gray/features.npy\n",
      "FiltrationExtractor: processing 1/64/train/filtrations/4/RadialFiltration_12_12/gray, do_fit = False, filtration = RadialFiltration(center=array([12, 12]), n_jobs=-1)\n",
      "Got the result from ./1/64/train/filtrations/4/RadialFiltration_12_12/gray/diagrams.npy\n",
      "Applying Scaler to persistence diagrams.\n",
      "Got the result from ./1/64/train/filtrations/4/RadialFiltration_12_12/gray/features.npy\n",
      "FiltrationExtractor: processing 1/64/train/filtrations/4/RadialFiltration_12_12/red, do_fit = True, filtration = RadialFiltration(center=array([12, 12]), n_jobs=-1)\n",
      "Got the result from ./1/64/train/filtrations/4/RadialFiltration_12_12/red/diagrams.npy\n",
      "Applying Scaler to persistence diagrams.\n",
      "DiagramVectorizer: fitting complete\n",
      "Got the result from ./1/64/train/filtrations/4/RadialFiltration_12_12/red/features.npy\n",
      "FiltrationExtractor: processing 1/64/train/filtrations/4/RadialFiltration_12_12/red, do_fit = False, filtration = RadialFiltration(center=array([12, 12]), n_jobs=-1)\n",
      "Got the result from ./1/64/train/filtrations/4/RadialFiltration_12_12/red/diagrams.npy\n",
      "Applying Scaler to persistence diagrams.\n",
      "Got the result from ./1/64/train/filtrations/4/RadialFiltration_12_12/red/features.npy\n",
      "FiltrationExtractor: processing 1/64/train/filtrations/4/RadialFiltration_12_12/green, do_fit = True, filtration = RadialFiltration(center=array([12, 12]), n_jobs=-1)\n",
      "Got the result from ./1/64/train/filtrations/4/RadialFiltration_12_12/green/diagrams.npy\n",
      "Applying Scaler to persistence diagrams.\n",
      "DiagramVectorizer: fitting complete\n",
      "Got the result from ./1/64/train/filtrations/4/RadialFiltration_12_12/green/features.npy\n",
      "FiltrationExtractor: processing 1/64/train/filtrations/4/RadialFiltration_12_12/green, do_fit = False, filtration = RadialFiltration(center=array([12, 12]), n_jobs=-1)\n",
      "Got the result from ./1/64/train/filtrations/4/RadialFiltration_12_12/green/diagrams.npy\n",
      "Applying Scaler to persistence diagrams.\n",
      "Got the result from ./1/64/train/filtrations/4/RadialFiltration_12_12/green/features.npy\n",
      "FiltrationExtractor: processing 1/64/train/filtrations/4/RadialFiltration_12_12/blue, do_fit = True, filtration = RadialFiltration(center=array([12, 12]), n_jobs=-1)\n",
      "Got the result from ./1/64/train/filtrations/4/RadialFiltration_12_12/blue/diagrams.npy\n",
      "Applying Scaler to persistence diagrams.\n",
      "DiagramVectorizer: fitting complete\n",
      "Got the result from ./1/64/train/filtrations/4/RadialFiltration_12_12/blue/features.npy\n",
      "FiltrationExtractor: processing 1/64/train/filtrations/4/RadialFiltration_12_12/blue, do_fit = False, filtration = RadialFiltration(center=array([12, 12]), n_jobs=-1)\n",
      "Got the result from ./1/64/train/filtrations/4/RadialFiltration_12_12/blue/diagrams.npy\n",
      "Applying Scaler to persistence diagrams.\n",
      "Got the result from ./1/64/train/filtrations/4/RadialFiltration_12_12/blue/features.npy\n",
      "Fitting filtration 34/72: RadialFiltration with c = (12, 25), bin. thr. = 0.4\n",
      "RGB images received. Transforming to grayscale.\n"
     ]
    },
    {
     "name": "stderr",
     "output_type": "stream",
     "text": [
      "rgb2gray: 100%|██████████| 9469/9469 [00:01<00:00, 5327.43it/s]\n"
     ]
    },
    {
     "name": "stdout",
     "output_type": "stream",
     "text": [
      "FiltrationExtractor: processing 1/64/train/filtrations/4/RadialFiltration_12_25/gray, do_fit = True, filtration = RadialFiltration(center=array([12, 25]), n_jobs=-1)\n",
      "Got the result from ./1/64/train/filtrations/4/RadialFiltration_12_25/gray/diagrams.npy\n",
      "Applying Scaler to persistence diagrams.\n",
      "DiagramVectorizer: fitting complete\n",
      "Got the result from ./1/64/train/filtrations/4/RadialFiltration_12_25/gray/features.npy\n",
      "FiltrationExtractor: processing 1/64/train/filtrations/4/RadialFiltration_12_25/gray, do_fit = False, filtration = RadialFiltration(center=array([12, 25]), n_jobs=-1)\n",
      "Got the result from ./1/64/train/filtrations/4/RadialFiltration_12_25/gray/diagrams.npy\n",
      "Applying Scaler to persistence diagrams.\n",
      "Got the result from ./1/64/train/filtrations/4/RadialFiltration_12_25/gray/features.npy\n",
      "FiltrationExtractor: processing 1/64/train/filtrations/4/RadialFiltration_12_25/red, do_fit = True, filtration = RadialFiltration(center=array([12, 25]), n_jobs=-1)\n",
      "Got the result from ./1/64/train/filtrations/4/RadialFiltration_12_25/red/diagrams.npy\n",
      "Applying Scaler to persistence diagrams.\n",
      "DiagramVectorizer: fitting complete\n",
      "Got the result from ./1/64/train/filtrations/4/RadialFiltration_12_25/red/features.npy\n",
      "FiltrationExtractor: processing 1/64/train/filtrations/4/RadialFiltration_12_25/red, do_fit = False, filtration = RadialFiltration(center=array([12, 25]), n_jobs=-1)\n",
      "Got the result from ./1/64/train/filtrations/4/RadialFiltration_12_25/red/diagrams.npy\n",
      "Applying Scaler to persistence diagrams.\n",
      "Got the result from ./1/64/train/filtrations/4/RadialFiltration_12_25/red/features.npy\n",
      "FiltrationExtractor: processing 1/64/train/filtrations/4/RadialFiltration_12_25/green, do_fit = True, filtration = RadialFiltration(center=array([12, 25]), n_jobs=-1)\n",
      "Got the result from ./1/64/train/filtrations/4/RadialFiltration_12_25/green/diagrams.npy\n",
      "Applying Scaler to persistence diagrams.\n",
      "DiagramVectorizer: fitting complete\n",
      "Got the result from ./1/64/train/filtrations/4/RadialFiltration_12_25/green/features.npy\n",
      "FiltrationExtractor: processing 1/64/train/filtrations/4/RadialFiltration_12_25/green, do_fit = False, filtration = RadialFiltration(center=array([12, 25]), n_jobs=-1)\n",
      "Got the result from ./1/64/train/filtrations/4/RadialFiltration_12_25/green/diagrams.npy\n",
      "Applying Scaler to persistence diagrams.\n",
      "Got the result from ./1/64/train/filtrations/4/RadialFiltration_12_25/green/features.npy\n",
      "FiltrationExtractor: processing 1/64/train/filtrations/4/RadialFiltration_12_25/blue, do_fit = True, filtration = RadialFiltration(center=array([12, 25]), n_jobs=-1)\n",
      "Got the result from ./1/64/train/filtrations/4/RadialFiltration_12_25/blue/diagrams.npy\n",
      "Applying Scaler to persistence diagrams.\n",
      "DiagramVectorizer: fitting complete\n",
      "Got the result from ./1/64/train/filtrations/4/RadialFiltration_12_25/blue/features.npy\n",
      "FiltrationExtractor: processing 1/64/train/filtrations/4/RadialFiltration_12_25/blue, do_fit = False, filtration = RadialFiltration(center=array([12, 25]), n_jobs=-1)\n",
      "Got the result from ./1/64/train/filtrations/4/RadialFiltration_12_25/blue/diagrams.npy\n",
      "Applying Scaler to persistence diagrams.\n",
      "Got the result from ./1/64/train/filtrations/4/RadialFiltration_12_25/blue/features.npy\n",
      "Fitting filtration 35/72: RadialFiltration with c = (12, 38), bin. thr. = 0.4\n",
      "RGB images received. Transforming to grayscale.\n"
     ]
    },
    {
     "name": "stderr",
     "output_type": "stream",
     "text": [
      "rgb2gray: 100%|██████████| 9469/9469 [00:01<00:00, 5451.08it/s]\n"
     ]
    },
    {
     "name": "stdout",
     "output_type": "stream",
     "text": [
      "FiltrationExtractor: processing 1/64/train/filtrations/4/RadialFiltration_12_38/gray, do_fit = True, filtration = RadialFiltration(center=array([12, 38]), n_jobs=-1)\n",
      "Got the result from ./1/64/train/filtrations/4/RadialFiltration_12_38/gray/diagrams.npy\n",
      "Applying Scaler to persistence diagrams.\n",
      "DiagramVectorizer: fitting complete\n",
      "Got the result from ./1/64/train/filtrations/4/RadialFiltration_12_38/gray/features.npy\n",
      "FiltrationExtractor: processing 1/64/train/filtrations/4/RadialFiltration_12_38/gray, do_fit = False, filtration = RadialFiltration(center=array([12, 38]), n_jobs=-1)\n",
      "Got the result from ./1/64/train/filtrations/4/RadialFiltration_12_38/gray/diagrams.npy\n",
      "Applying Scaler to persistence diagrams.\n",
      "Got the result from ./1/64/train/filtrations/4/RadialFiltration_12_38/gray/features.npy\n",
      "FiltrationExtractor: processing 1/64/train/filtrations/4/RadialFiltration_12_38/red, do_fit = True, filtration = RadialFiltration(center=array([12, 38]), n_jobs=-1)\n",
      "Got the result from ./1/64/train/filtrations/4/RadialFiltration_12_38/red/diagrams.npy\n",
      "Applying Scaler to persistence diagrams.\n",
      "DiagramVectorizer: fitting complete\n",
      "Got the result from ./1/64/train/filtrations/4/RadialFiltration_12_38/red/features.npy\n",
      "FiltrationExtractor: processing 1/64/train/filtrations/4/RadialFiltration_12_38/red, do_fit = False, filtration = RadialFiltration(center=array([12, 38]), n_jobs=-1)\n",
      "Got the result from ./1/64/train/filtrations/4/RadialFiltration_12_38/red/diagrams.npy\n",
      "Applying Scaler to persistence diagrams.\n",
      "Got the result from ./1/64/train/filtrations/4/RadialFiltration_12_38/red/features.npy\n",
      "FiltrationExtractor: processing 1/64/train/filtrations/4/RadialFiltration_12_38/green, do_fit = True, filtration = RadialFiltration(center=array([12, 38]), n_jobs=-1)\n",
      "Got the result from ./1/64/train/filtrations/4/RadialFiltration_12_38/green/diagrams.npy\n",
      "Applying Scaler to persistence diagrams.\n",
      "DiagramVectorizer: fitting complete\n",
      "Got the result from ./1/64/train/filtrations/4/RadialFiltration_12_38/green/features.npy\n",
      "FiltrationExtractor: processing 1/64/train/filtrations/4/RadialFiltration_12_38/green, do_fit = False, filtration = RadialFiltration(center=array([12, 38]), n_jobs=-1)\n",
      "Got the result from ./1/64/train/filtrations/4/RadialFiltration_12_38/green/diagrams.npy\n",
      "Applying Scaler to persistence diagrams.\n",
      "Got the result from ./1/64/train/filtrations/4/RadialFiltration_12_38/green/features.npy\n",
      "FiltrationExtractor: processing 1/64/train/filtrations/4/RadialFiltration_12_38/blue, do_fit = True, filtration = RadialFiltration(center=array([12, 38]), n_jobs=-1)\n",
      "Got the result from ./1/64/train/filtrations/4/RadialFiltration_12_38/blue/diagrams.npy\n",
      "Applying Scaler to persistence diagrams.\n",
      "DiagramVectorizer: fitting complete\n",
      "Got the result from ./1/64/train/filtrations/4/RadialFiltration_12_38/blue/features.npy\n",
      "FiltrationExtractor: processing 1/64/train/filtrations/4/RadialFiltration_12_38/blue, do_fit = False, filtration = RadialFiltration(center=array([12, 38]), n_jobs=-1)\n",
      "Got the result from ./1/64/train/filtrations/4/RadialFiltration_12_38/blue/diagrams.npy\n",
      "Applying Scaler to persistence diagrams.\n",
      "Got the result from ./1/64/train/filtrations/4/RadialFiltration_12_38/blue/features.npy\n",
      "Fitting filtration 36/72: RadialFiltration with c = (12, 51), bin. thr. = 0.4\n",
      "RGB images received. Transforming to grayscale.\n"
     ]
    },
    {
     "name": "stderr",
     "output_type": "stream",
     "text": [
      "rgb2gray: 100%|██████████| 9469/9469 [00:02<00:00, 4695.84it/s]\n"
     ]
    },
    {
     "name": "stdout",
     "output_type": "stream",
     "text": [
      "FiltrationExtractor: processing 1/64/train/filtrations/4/RadialFiltration_12_51/gray, do_fit = True, filtration = RadialFiltration(center=array([12, 51]), n_jobs=-1)\n",
      "Got the result from ./1/64/train/filtrations/4/RadialFiltration_12_51/gray/diagrams.npy\n",
      "Applying Scaler to persistence diagrams.\n",
      "DiagramVectorizer: fitting complete\n",
      "Got the result from ./1/64/train/filtrations/4/RadialFiltration_12_51/gray/features.npy\n",
      "FiltrationExtractor: processing 1/64/train/filtrations/4/RadialFiltration_12_51/gray, do_fit = False, filtration = RadialFiltration(center=array([12, 51]), n_jobs=-1)\n",
      "Got the result from ./1/64/train/filtrations/4/RadialFiltration_12_51/gray/diagrams.npy\n",
      "Applying Scaler to persistence diagrams.\n",
      "Got the result from ./1/64/train/filtrations/4/RadialFiltration_12_51/gray/features.npy\n",
      "FiltrationExtractor: processing 1/64/train/filtrations/4/RadialFiltration_12_51/red, do_fit = True, filtration = RadialFiltration(center=array([12, 51]), n_jobs=-1)\n",
      "Got the result from ./1/64/train/filtrations/4/RadialFiltration_12_51/red/diagrams.npy\n",
      "Applying Scaler to persistence diagrams.\n",
      "DiagramVectorizer: fitting complete\n",
      "Got the result from ./1/64/train/filtrations/4/RadialFiltration_12_51/red/features.npy\n",
      "FiltrationExtractor: processing 1/64/train/filtrations/4/RadialFiltration_12_51/red, do_fit = False, filtration = RadialFiltration(center=array([12, 51]), n_jobs=-1)\n",
      "Got the result from ./1/64/train/filtrations/4/RadialFiltration_12_51/red/diagrams.npy\n",
      "Applying Scaler to persistence diagrams.\n",
      "Got the result from ./1/64/train/filtrations/4/RadialFiltration_12_51/red/features.npy\n",
      "FiltrationExtractor: processing 1/64/train/filtrations/4/RadialFiltration_12_51/green, do_fit = True, filtration = RadialFiltration(center=array([12, 51]), n_jobs=-1)\n",
      "Got the result from ./1/64/train/filtrations/4/RadialFiltration_12_51/green/diagrams.npy\n",
      "Applying Scaler to persistence diagrams.\n",
      "DiagramVectorizer: fitting complete\n",
      "Got the result from ./1/64/train/filtrations/4/RadialFiltration_12_51/green/features.npy\n",
      "FiltrationExtractor: processing 1/64/train/filtrations/4/RadialFiltration_12_51/green, do_fit = False, filtration = RadialFiltration(center=array([12, 51]), n_jobs=-1)\n",
      "Got the result from ./1/64/train/filtrations/4/RadialFiltration_12_51/green/diagrams.npy\n",
      "Applying Scaler to persistence diagrams.\n",
      "Got the result from ./1/64/train/filtrations/4/RadialFiltration_12_51/green/features.npy\n",
      "FiltrationExtractor: processing 1/64/train/filtrations/4/RadialFiltration_12_51/blue, do_fit = True, filtration = RadialFiltration(center=array([12, 51]), n_jobs=-1)\n",
      "Got the result from ./1/64/train/filtrations/4/RadialFiltration_12_51/blue/diagrams.npy\n",
      "Applying Scaler to persistence diagrams.\n",
      "DiagramVectorizer: fitting complete\n",
      "Got the result from ./1/64/train/filtrations/4/RadialFiltration_12_51/blue/features.npy\n",
      "FiltrationExtractor: processing 1/64/train/filtrations/4/RadialFiltration_12_51/blue, do_fit = False, filtration = RadialFiltration(center=array([12, 51]), n_jobs=-1)\n",
      "Got the result from ./1/64/train/filtrations/4/RadialFiltration_12_51/blue/diagrams.npy\n",
      "Applying Scaler to persistence diagrams.\n",
      "Got the result from ./1/64/train/filtrations/4/RadialFiltration_12_51/blue/features.npy\n",
      "Fitting filtration 37/72: RadialFiltration with c = (25, 12), bin. thr. = 0.4\n",
      "RGB images received. Transforming to grayscale.\n"
     ]
    },
    {
     "name": "stderr",
     "output_type": "stream",
     "text": [
      "rgb2gray: 100%|██████████| 9469/9469 [00:01<00:00, 5427.37it/s]\n"
     ]
    },
    {
     "name": "stdout",
     "output_type": "stream",
     "text": [
      "FiltrationExtractor: processing 1/64/train/filtrations/4/RadialFiltration_25_12/gray, do_fit = True, filtration = RadialFiltration(center=array([25, 12]), n_jobs=-1)\n",
      "Got the result from ./1/64/train/filtrations/4/RadialFiltration_25_12/gray/diagrams.npy\n",
      "Applying Scaler to persistence diagrams.\n",
      "DiagramVectorizer: fitting complete\n",
      "Got the result from ./1/64/train/filtrations/4/RadialFiltration_25_12/gray/features.npy\n",
      "FiltrationExtractor: processing 1/64/train/filtrations/4/RadialFiltration_25_12/gray, do_fit = False, filtration = RadialFiltration(center=array([25, 12]), n_jobs=-1)\n",
      "Got the result from ./1/64/train/filtrations/4/RadialFiltration_25_12/gray/diagrams.npy\n",
      "Applying Scaler to persistence diagrams.\n",
      "Got the result from ./1/64/train/filtrations/4/RadialFiltration_25_12/gray/features.npy\n",
      "FiltrationExtractor: processing 1/64/train/filtrations/4/RadialFiltration_25_12/red, do_fit = True, filtration = RadialFiltration(center=array([25, 12]), n_jobs=-1)\n",
      "Got the result from ./1/64/train/filtrations/4/RadialFiltration_25_12/red/diagrams.npy\n",
      "Applying Scaler to persistence diagrams.\n",
      "DiagramVectorizer: fitting complete\n",
      "Got the result from ./1/64/train/filtrations/4/RadialFiltration_25_12/red/features.npy\n",
      "FiltrationExtractor: processing 1/64/train/filtrations/4/RadialFiltration_25_12/red, do_fit = False, filtration = RadialFiltration(center=array([25, 12]), n_jobs=-1)\n",
      "Got the result from ./1/64/train/filtrations/4/RadialFiltration_25_12/red/diagrams.npy\n",
      "Applying Scaler to persistence diagrams.\n",
      "Got the result from ./1/64/train/filtrations/4/RadialFiltration_25_12/red/features.npy\n",
      "FiltrationExtractor: processing 1/64/train/filtrations/4/RadialFiltration_25_12/green, do_fit = True, filtration = RadialFiltration(center=array([25, 12]), n_jobs=-1)\n",
      "Got the result from ./1/64/train/filtrations/4/RadialFiltration_25_12/green/diagrams.npy\n",
      "Applying Scaler to persistence diagrams.\n",
      "DiagramVectorizer: fitting complete\n",
      "Got the result from ./1/64/train/filtrations/4/RadialFiltration_25_12/green/features.npy\n",
      "FiltrationExtractor: processing 1/64/train/filtrations/4/RadialFiltration_25_12/green, do_fit = False, filtration = RadialFiltration(center=array([25, 12]), n_jobs=-1)\n",
      "Got the result from ./1/64/train/filtrations/4/RadialFiltration_25_12/green/diagrams.npy\n",
      "Applying Scaler to persistence diagrams.\n",
      "Got the result from ./1/64/train/filtrations/4/RadialFiltration_25_12/green/features.npy\n",
      "FiltrationExtractor: processing 1/64/train/filtrations/4/RadialFiltration_25_12/blue, do_fit = True, filtration = RadialFiltration(center=array([25, 12]), n_jobs=-1)\n",
      "Got the result from ./1/64/train/filtrations/4/RadialFiltration_25_12/blue/diagrams.npy\n",
      "Applying Scaler to persistence diagrams.\n",
      "DiagramVectorizer: fitting complete\n",
      "Got the result from ./1/64/train/filtrations/4/RadialFiltration_25_12/blue/features.npy\n",
      "FiltrationExtractor: processing 1/64/train/filtrations/4/RadialFiltration_25_12/blue, do_fit = False, filtration = RadialFiltration(center=array([25, 12]), n_jobs=-1)\n",
      "Got the result from ./1/64/train/filtrations/4/RadialFiltration_25_12/blue/diagrams.npy\n",
      "Applying Scaler to persistence diagrams.\n",
      "Got the result from ./1/64/train/filtrations/4/RadialFiltration_25_12/blue/features.npy\n",
      "Fitting filtration 38/72: RadialFiltration with c = (25, 25), bin. thr. = 0.4\n",
      "RGB images received. Transforming to grayscale.\n"
     ]
    },
    {
     "name": "stderr",
     "output_type": "stream",
     "text": [
      "rgb2gray: 100%|██████████| 9469/9469 [00:01<00:00, 5402.68it/s]\n"
     ]
    },
    {
     "name": "stdout",
     "output_type": "stream",
     "text": [
      "FiltrationExtractor: processing 1/64/train/filtrations/4/RadialFiltration_25_25/gray, do_fit = True, filtration = RadialFiltration(center=array([25, 25]), n_jobs=-1)\n",
      "Got the result from ./1/64/train/filtrations/4/RadialFiltration_25_25/gray/diagrams.npy\n",
      "Applying Scaler to persistence diagrams.\n",
      "DiagramVectorizer: fitting complete\n",
      "Got the result from ./1/64/train/filtrations/4/RadialFiltration_25_25/gray/features.npy\n",
      "FiltrationExtractor: processing 1/64/train/filtrations/4/RadialFiltration_25_25/gray, do_fit = False, filtration = RadialFiltration(center=array([25, 25]), n_jobs=-1)\n",
      "Got the result from ./1/64/train/filtrations/4/RadialFiltration_25_25/gray/diagrams.npy\n",
      "Applying Scaler to persistence diagrams.\n",
      "Got the result from ./1/64/train/filtrations/4/RadialFiltration_25_25/gray/features.npy\n",
      "FiltrationExtractor: processing 1/64/train/filtrations/4/RadialFiltration_25_25/red, do_fit = True, filtration = RadialFiltration(center=array([25, 25]), n_jobs=-1)\n",
      "Got the result from ./1/64/train/filtrations/4/RadialFiltration_25_25/red/diagrams.npy\n",
      "Applying Scaler to persistence diagrams.\n",
      "DiagramVectorizer: fitting complete\n",
      "Got the result from ./1/64/train/filtrations/4/RadialFiltration_25_25/red/features.npy\n",
      "FiltrationExtractor: processing 1/64/train/filtrations/4/RadialFiltration_25_25/red, do_fit = False, filtration = RadialFiltration(center=array([25, 25]), n_jobs=-1)\n",
      "Got the result from ./1/64/train/filtrations/4/RadialFiltration_25_25/red/diagrams.npy\n",
      "Applying Scaler to persistence diagrams.\n",
      "Got the result from ./1/64/train/filtrations/4/RadialFiltration_25_25/red/features.npy\n",
      "FiltrationExtractor: processing 1/64/train/filtrations/4/RadialFiltration_25_25/green, do_fit = True, filtration = RadialFiltration(center=array([25, 25]), n_jobs=-1)\n",
      "Got the result from ./1/64/train/filtrations/4/RadialFiltration_25_25/green/diagrams.npy\n",
      "Applying Scaler to persistence diagrams.\n",
      "DiagramVectorizer: fitting complete\n",
      "Got the result from ./1/64/train/filtrations/4/RadialFiltration_25_25/green/features.npy\n",
      "FiltrationExtractor: processing 1/64/train/filtrations/4/RadialFiltration_25_25/green, do_fit = False, filtration = RadialFiltration(center=array([25, 25]), n_jobs=-1)\n",
      "Got the result from ./1/64/train/filtrations/4/RadialFiltration_25_25/green/diagrams.npy\n",
      "Applying Scaler to persistence diagrams.\n",
      "Got the result from ./1/64/train/filtrations/4/RadialFiltration_25_25/green/features.npy\n",
      "FiltrationExtractor: processing 1/64/train/filtrations/4/RadialFiltration_25_25/blue, do_fit = True, filtration = RadialFiltration(center=array([25, 25]), n_jobs=-1)\n",
      "Got the result from ./1/64/train/filtrations/4/RadialFiltration_25_25/blue/diagrams.npy\n",
      "Applying Scaler to persistence diagrams.\n",
      "DiagramVectorizer: fitting complete\n",
      "Got the result from ./1/64/train/filtrations/4/RadialFiltration_25_25/blue/features.npy\n",
      "FiltrationExtractor: processing 1/64/train/filtrations/4/RadialFiltration_25_25/blue, do_fit = False, filtration = RadialFiltration(center=array([25, 25]), n_jobs=-1)\n",
      "Got the result from ./1/64/train/filtrations/4/RadialFiltration_25_25/blue/diagrams.npy\n",
      "Applying Scaler to persistence diagrams.\n",
      "Got the result from ./1/64/train/filtrations/4/RadialFiltration_25_25/blue/features.npy\n",
      "Fitting filtration 39/72: RadialFiltration with c = (25, 38), bin. thr. = 0.4\n",
      "RGB images received. Transforming to grayscale.\n"
     ]
    },
    {
     "name": "stderr",
     "output_type": "stream",
     "text": [
      "rgb2gray: 100%|██████████| 9469/9469 [00:01<00:00, 5413.74it/s]\n"
     ]
    },
    {
     "name": "stdout",
     "output_type": "stream",
     "text": [
      "FiltrationExtractor: processing 1/64/train/filtrations/4/RadialFiltration_25_38/gray, do_fit = True, filtration = RadialFiltration(center=array([25, 38]), n_jobs=-1)\n",
      "Got the result from ./1/64/train/filtrations/4/RadialFiltration_25_38/gray/diagrams.npy\n",
      "Applying Scaler to persistence diagrams.\n",
      "DiagramVectorizer: fitting complete\n",
      "Got the result from ./1/64/train/filtrations/4/RadialFiltration_25_38/gray/features.npy\n",
      "FiltrationExtractor: processing 1/64/train/filtrations/4/RadialFiltration_25_38/gray, do_fit = False, filtration = RadialFiltration(center=array([25, 38]), n_jobs=-1)\n",
      "Got the result from ./1/64/train/filtrations/4/RadialFiltration_25_38/gray/diagrams.npy\n",
      "Applying Scaler to persistence diagrams.\n",
      "Got the result from ./1/64/train/filtrations/4/RadialFiltration_25_38/gray/features.npy\n",
      "FiltrationExtractor: processing 1/64/train/filtrations/4/RadialFiltration_25_38/red, do_fit = True, filtration = RadialFiltration(center=array([25, 38]), n_jobs=-1)\n",
      "Got the result from ./1/64/train/filtrations/4/RadialFiltration_25_38/red/diagrams.npy\n",
      "Applying Scaler to persistence diagrams.\n",
      "DiagramVectorizer: fitting complete\n",
      "Got the result from ./1/64/train/filtrations/4/RadialFiltration_25_38/red/features.npy\n",
      "FiltrationExtractor: processing 1/64/train/filtrations/4/RadialFiltration_25_38/red, do_fit = False, filtration = RadialFiltration(center=array([25, 38]), n_jobs=-1)\n",
      "Got the result from ./1/64/train/filtrations/4/RadialFiltration_25_38/red/diagrams.npy\n",
      "Applying Scaler to persistence diagrams.\n",
      "Got the result from ./1/64/train/filtrations/4/RadialFiltration_25_38/red/features.npy\n",
      "FiltrationExtractor: processing 1/64/train/filtrations/4/RadialFiltration_25_38/green, do_fit = True, filtration = RadialFiltration(center=array([25, 38]), n_jobs=-1)\n",
      "Got the result from ./1/64/train/filtrations/4/RadialFiltration_25_38/green/diagrams.npy\n",
      "Applying Scaler to persistence diagrams.\n",
      "DiagramVectorizer: fitting complete\n",
      "Got the result from ./1/64/train/filtrations/4/RadialFiltration_25_38/green/features.npy\n",
      "FiltrationExtractor: processing 1/64/train/filtrations/4/RadialFiltration_25_38/green, do_fit = False, filtration = RadialFiltration(center=array([25, 38]), n_jobs=-1)\n",
      "Got the result from ./1/64/train/filtrations/4/RadialFiltration_25_38/green/diagrams.npy\n",
      "Applying Scaler to persistence diagrams.\n",
      "Got the result from ./1/64/train/filtrations/4/RadialFiltration_25_38/green/features.npy\n",
      "FiltrationExtractor: processing 1/64/train/filtrations/4/RadialFiltration_25_38/blue, do_fit = True, filtration = RadialFiltration(center=array([25, 38]), n_jobs=-1)\n",
      "Got the result from ./1/64/train/filtrations/4/RadialFiltration_25_38/blue/diagrams.npy\n",
      "Applying Scaler to persistence diagrams.\n",
      "DiagramVectorizer: fitting complete\n",
      "Got the result from ./1/64/train/filtrations/4/RadialFiltration_25_38/blue/features.npy\n",
      "FiltrationExtractor: processing 1/64/train/filtrations/4/RadialFiltration_25_38/blue, do_fit = False, filtration = RadialFiltration(center=array([25, 38]), n_jobs=-1)\n",
      "Got the result from ./1/64/train/filtrations/4/RadialFiltration_25_38/blue/diagrams.npy\n",
      "Applying Scaler to persistence diagrams.\n",
      "Got the result from ./1/64/train/filtrations/4/RadialFiltration_25_38/blue/features.npy\n",
      "Fitting filtration 40/72: RadialFiltration with c = (25, 51), bin. thr. = 0.4\n",
      "RGB images received. Transforming to grayscale.\n"
     ]
    },
    {
     "name": "stderr",
     "output_type": "stream",
     "text": [
      "rgb2gray: 100%|██████████| 9469/9469 [00:01<00:00, 5526.38it/s]\n"
     ]
    },
    {
     "name": "stdout",
     "output_type": "stream",
     "text": [
      "FiltrationExtractor: processing 1/64/train/filtrations/4/RadialFiltration_25_51/gray, do_fit = True, filtration = RadialFiltration(center=array([25, 51]), n_jobs=-1)\n",
      "Got the result from ./1/64/train/filtrations/4/RadialFiltration_25_51/gray/diagrams.npy\n",
      "Applying Scaler to persistence diagrams.\n",
      "DiagramVectorizer: fitting complete\n",
      "Got the result from ./1/64/train/filtrations/4/RadialFiltration_25_51/gray/features.npy\n",
      "FiltrationExtractor: processing 1/64/train/filtrations/4/RadialFiltration_25_51/gray, do_fit = False, filtration = RadialFiltration(center=array([25, 51]), n_jobs=-1)\n",
      "Got the result from ./1/64/train/filtrations/4/RadialFiltration_25_51/gray/diagrams.npy\n",
      "Applying Scaler to persistence diagrams.\n",
      "Got the result from ./1/64/train/filtrations/4/RadialFiltration_25_51/gray/features.npy\n",
      "FiltrationExtractor: processing 1/64/train/filtrations/4/RadialFiltration_25_51/red, do_fit = True, filtration = RadialFiltration(center=array([25, 51]), n_jobs=-1)\n",
      "Got the result from ./1/64/train/filtrations/4/RadialFiltration_25_51/red/diagrams.npy\n",
      "Applying Scaler to persistence diagrams.\n",
      "DiagramVectorizer: fitting complete\n",
      "Got the result from ./1/64/train/filtrations/4/RadialFiltration_25_51/red/features.npy\n",
      "FiltrationExtractor: processing 1/64/train/filtrations/4/RadialFiltration_25_51/red, do_fit = False, filtration = RadialFiltration(center=array([25, 51]), n_jobs=-1)\n",
      "Got the result from ./1/64/train/filtrations/4/RadialFiltration_25_51/red/diagrams.npy\n",
      "Applying Scaler to persistence diagrams.\n",
      "Got the result from ./1/64/train/filtrations/4/RadialFiltration_25_51/red/features.npy\n",
      "FiltrationExtractor: processing 1/64/train/filtrations/4/RadialFiltration_25_51/green, do_fit = True, filtration = RadialFiltration(center=array([25, 51]), n_jobs=-1)\n",
      "Got the result from ./1/64/train/filtrations/4/RadialFiltration_25_51/green/diagrams.npy\n",
      "Applying Scaler to persistence diagrams.\n",
      "DiagramVectorizer: fitting complete\n",
      "Got the result from ./1/64/train/filtrations/4/RadialFiltration_25_51/green/features.npy\n",
      "FiltrationExtractor: processing 1/64/train/filtrations/4/RadialFiltration_25_51/green, do_fit = False, filtration = RadialFiltration(center=array([25, 51]), n_jobs=-1)\n",
      "Got the result from ./1/64/train/filtrations/4/RadialFiltration_25_51/green/diagrams.npy\n",
      "Applying Scaler to persistence diagrams.\n",
      "Got the result from ./1/64/train/filtrations/4/RadialFiltration_25_51/green/features.npy\n",
      "FiltrationExtractor: processing 1/64/train/filtrations/4/RadialFiltration_25_51/blue, do_fit = True, filtration = RadialFiltration(center=array([25, 51]), n_jobs=-1)\n",
      "Got the result from ./1/64/train/filtrations/4/RadialFiltration_25_51/blue/diagrams.npy\n",
      "Applying Scaler to persistence diagrams.\n",
      "DiagramVectorizer: fitting complete\n",
      "Got the result from ./1/64/train/filtrations/4/RadialFiltration_25_51/blue/features.npy\n",
      "FiltrationExtractor: processing 1/64/train/filtrations/4/RadialFiltration_25_51/blue, do_fit = False, filtration = RadialFiltration(center=array([25, 51]), n_jobs=-1)\n",
      "Got the result from ./1/64/train/filtrations/4/RadialFiltration_25_51/blue/diagrams.npy\n",
      "Applying Scaler to persistence diagrams.\n",
      "Got the result from ./1/64/train/filtrations/4/RadialFiltration_25_51/blue/features.npy\n",
      "Fitting filtration 41/72: RadialFiltration with c = (38, 12), bin. thr. = 0.4\n",
      "RGB images received. Transforming to grayscale.\n"
     ]
    },
    {
     "name": "stderr",
     "output_type": "stream",
     "text": [
      "rgb2gray: 100%|██████████| 9469/9469 [00:01<00:00, 5296.88it/s]\n"
     ]
    },
    {
     "name": "stdout",
     "output_type": "stream",
     "text": [
      "FiltrationExtractor: processing 1/64/train/filtrations/4/RadialFiltration_38_12/gray, do_fit = True, filtration = RadialFiltration(center=array([38, 12]), n_jobs=-1)\n",
      "Got the result from ./1/64/train/filtrations/4/RadialFiltration_38_12/gray/diagrams.npy\n",
      "Applying Scaler to persistence diagrams.\n",
      "DiagramVectorizer: fitting complete\n",
      "Got the result from ./1/64/train/filtrations/4/RadialFiltration_38_12/gray/features.npy\n",
      "FiltrationExtractor: processing 1/64/train/filtrations/4/RadialFiltration_38_12/gray, do_fit = False, filtration = RadialFiltration(center=array([38, 12]), n_jobs=-1)\n",
      "Got the result from ./1/64/train/filtrations/4/RadialFiltration_38_12/gray/diagrams.npy\n",
      "Applying Scaler to persistence diagrams.\n",
      "Got the result from ./1/64/train/filtrations/4/RadialFiltration_38_12/gray/features.npy\n",
      "FiltrationExtractor: processing 1/64/train/filtrations/4/RadialFiltration_38_12/red, do_fit = True, filtration = RadialFiltration(center=array([38, 12]), n_jobs=-1)\n",
      "Got the result from ./1/64/train/filtrations/4/RadialFiltration_38_12/red/diagrams.npy\n",
      "Applying Scaler to persistence diagrams.\n",
      "DiagramVectorizer: fitting complete\n",
      "Got the result from ./1/64/train/filtrations/4/RadialFiltration_38_12/red/features.npy\n",
      "FiltrationExtractor: processing 1/64/train/filtrations/4/RadialFiltration_38_12/red, do_fit = False, filtration = RadialFiltration(center=array([38, 12]), n_jobs=-1)\n",
      "Got the result from ./1/64/train/filtrations/4/RadialFiltration_38_12/red/diagrams.npy\n",
      "Applying Scaler to persistence diagrams.\n",
      "Got the result from ./1/64/train/filtrations/4/RadialFiltration_38_12/red/features.npy\n",
      "FiltrationExtractor: processing 1/64/train/filtrations/4/RadialFiltration_38_12/green, do_fit = True, filtration = RadialFiltration(center=array([38, 12]), n_jobs=-1)\n",
      "Got the result from ./1/64/train/filtrations/4/RadialFiltration_38_12/green/diagrams.npy\n",
      "Applying Scaler to persistence diagrams.\n",
      "DiagramVectorizer: fitting complete\n",
      "Got the result from ./1/64/train/filtrations/4/RadialFiltration_38_12/green/features.npy\n",
      "FiltrationExtractor: processing 1/64/train/filtrations/4/RadialFiltration_38_12/green, do_fit = False, filtration = RadialFiltration(center=array([38, 12]), n_jobs=-1)\n",
      "Got the result from ./1/64/train/filtrations/4/RadialFiltration_38_12/green/diagrams.npy\n",
      "Applying Scaler to persistence diagrams.\n",
      "Got the result from ./1/64/train/filtrations/4/RadialFiltration_38_12/green/features.npy\n",
      "FiltrationExtractor: processing 1/64/train/filtrations/4/RadialFiltration_38_12/blue, do_fit = True, filtration = RadialFiltration(center=array([38, 12]), n_jobs=-1)\n",
      "Got the result from ./1/64/train/filtrations/4/RadialFiltration_38_12/blue/diagrams.npy\n",
      "Applying Scaler to persistence diagrams.\n",
      "DiagramVectorizer: fitting complete\n",
      "Got the result from ./1/64/train/filtrations/4/RadialFiltration_38_12/blue/features.npy\n",
      "FiltrationExtractor: processing 1/64/train/filtrations/4/RadialFiltration_38_12/blue, do_fit = False, filtration = RadialFiltration(center=array([38, 12]), n_jobs=-1)\n",
      "Got the result from ./1/64/train/filtrations/4/RadialFiltration_38_12/blue/diagrams.npy\n",
      "Applying Scaler to persistence diagrams.\n",
      "Got the result from ./1/64/train/filtrations/4/RadialFiltration_38_12/blue/features.npy\n",
      "Fitting filtration 42/72: RadialFiltration with c = (38, 25), bin. thr. = 0.4\n",
      "RGB images received. Transforming to grayscale.\n"
     ]
    },
    {
     "name": "stderr",
     "output_type": "stream",
     "text": [
      "rgb2gray: 100%|██████████| 9469/9469 [00:01<00:00, 5423.26it/s]\n"
     ]
    },
    {
     "name": "stdout",
     "output_type": "stream",
     "text": [
      "FiltrationExtractor: processing 1/64/train/filtrations/4/RadialFiltration_38_25/gray, do_fit = True, filtration = RadialFiltration(center=array([38, 25]), n_jobs=-1)\n",
      "Got the result from ./1/64/train/filtrations/4/RadialFiltration_38_25/gray/diagrams.npy\n",
      "Applying Scaler to persistence diagrams.\n",
      "DiagramVectorizer: fitting complete\n",
      "Got the result from ./1/64/train/filtrations/4/RadialFiltration_38_25/gray/features.npy\n",
      "FiltrationExtractor: processing 1/64/train/filtrations/4/RadialFiltration_38_25/gray, do_fit = False, filtration = RadialFiltration(center=array([38, 25]), n_jobs=-1)\n",
      "Got the result from ./1/64/train/filtrations/4/RadialFiltration_38_25/gray/diagrams.npy\n",
      "Applying Scaler to persistence diagrams.\n",
      "Got the result from ./1/64/train/filtrations/4/RadialFiltration_38_25/gray/features.npy\n",
      "FiltrationExtractor: processing 1/64/train/filtrations/4/RadialFiltration_38_25/red, do_fit = True, filtration = RadialFiltration(center=array([38, 25]), n_jobs=-1)\n",
      "Got the result from ./1/64/train/filtrations/4/RadialFiltration_38_25/red/diagrams.npy\n",
      "Applying Scaler to persistence diagrams.\n",
      "DiagramVectorizer: fitting complete\n",
      "Got the result from ./1/64/train/filtrations/4/RadialFiltration_38_25/red/features.npy\n",
      "FiltrationExtractor: processing 1/64/train/filtrations/4/RadialFiltration_38_25/red, do_fit = False, filtration = RadialFiltration(center=array([38, 25]), n_jobs=-1)\n",
      "Got the result from ./1/64/train/filtrations/4/RadialFiltration_38_25/red/diagrams.npy\n",
      "Applying Scaler to persistence diagrams.\n",
      "Got the result from ./1/64/train/filtrations/4/RadialFiltration_38_25/red/features.npy\n",
      "FiltrationExtractor: processing 1/64/train/filtrations/4/RadialFiltration_38_25/green, do_fit = True, filtration = RadialFiltration(center=array([38, 25]), n_jobs=-1)\n",
      "Got the result from ./1/64/train/filtrations/4/RadialFiltration_38_25/green/diagrams.npy\n",
      "Applying Scaler to persistence diagrams.\n",
      "DiagramVectorizer: fitting complete\n",
      "Got the result from ./1/64/train/filtrations/4/RadialFiltration_38_25/green/features.npy\n",
      "FiltrationExtractor: processing 1/64/train/filtrations/4/RadialFiltration_38_25/green, do_fit = False, filtration = RadialFiltration(center=array([38, 25]), n_jobs=-1)\n",
      "Got the result from ./1/64/train/filtrations/4/RadialFiltration_38_25/green/diagrams.npy\n",
      "Applying Scaler to persistence diagrams.\n",
      "Got the result from ./1/64/train/filtrations/4/RadialFiltration_38_25/green/features.npy\n",
      "FiltrationExtractor: processing 1/64/train/filtrations/4/RadialFiltration_38_25/blue, do_fit = True, filtration = RadialFiltration(center=array([38, 25]), n_jobs=-1)\n",
      "Got the result from ./1/64/train/filtrations/4/RadialFiltration_38_25/blue/diagrams.npy\n",
      "Applying Scaler to persistence diagrams.\n",
      "DiagramVectorizer: fitting complete\n",
      "Got the result from ./1/64/train/filtrations/4/RadialFiltration_38_25/blue/features.npy\n",
      "FiltrationExtractor: processing 1/64/train/filtrations/4/RadialFiltration_38_25/blue, do_fit = False, filtration = RadialFiltration(center=array([38, 25]), n_jobs=-1)\n",
      "Got the result from ./1/64/train/filtrations/4/RadialFiltration_38_25/blue/diagrams.npy\n",
      "Applying Scaler to persistence diagrams.\n",
      "Got the result from ./1/64/train/filtrations/4/RadialFiltration_38_25/blue/features.npy\n",
      "Fitting filtration 43/72: RadialFiltration with c = (38, 38), bin. thr. = 0.4\n",
      "RGB images received. Transforming to grayscale.\n"
     ]
    },
    {
     "name": "stderr",
     "output_type": "stream",
     "text": [
      "rgb2gray: 100%|██████████| 9469/9469 [00:01<00:00, 5355.41it/s]\n"
     ]
    },
    {
     "name": "stdout",
     "output_type": "stream",
     "text": [
      "FiltrationExtractor: processing 1/64/train/filtrations/4/RadialFiltration_38_38/gray, do_fit = True, filtration = RadialFiltration(center=array([38, 38]), n_jobs=-1)\n",
      "Got the result from ./1/64/train/filtrations/4/RadialFiltration_38_38/gray/diagrams.npy\n",
      "Applying Scaler to persistence diagrams.\n",
      "DiagramVectorizer: fitting complete\n",
      "Got the result from ./1/64/train/filtrations/4/RadialFiltration_38_38/gray/features.npy\n",
      "FiltrationExtractor: processing 1/64/train/filtrations/4/RadialFiltration_38_38/gray, do_fit = False, filtration = RadialFiltration(center=array([38, 38]), n_jobs=-1)\n",
      "Got the result from ./1/64/train/filtrations/4/RadialFiltration_38_38/gray/diagrams.npy\n",
      "Applying Scaler to persistence diagrams.\n",
      "Got the result from ./1/64/train/filtrations/4/RadialFiltration_38_38/gray/features.npy\n",
      "FiltrationExtractor: processing 1/64/train/filtrations/4/RadialFiltration_38_38/red, do_fit = True, filtration = RadialFiltration(center=array([38, 38]), n_jobs=-1)\n",
      "Got the result from ./1/64/train/filtrations/4/RadialFiltration_38_38/red/diagrams.npy\n",
      "Applying Scaler to persistence diagrams.\n",
      "DiagramVectorizer: fitting complete\n",
      "Got the result from ./1/64/train/filtrations/4/RadialFiltration_38_38/red/features.npy\n",
      "FiltrationExtractor: processing 1/64/train/filtrations/4/RadialFiltration_38_38/red, do_fit = False, filtration = RadialFiltration(center=array([38, 38]), n_jobs=-1)\n",
      "Got the result from ./1/64/train/filtrations/4/RadialFiltration_38_38/red/diagrams.npy\n",
      "Applying Scaler to persistence diagrams.\n",
      "Got the result from ./1/64/train/filtrations/4/RadialFiltration_38_38/red/features.npy\n",
      "FiltrationExtractor: processing 1/64/train/filtrations/4/RadialFiltration_38_38/green, do_fit = True, filtration = RadialFiltration(center=array([38, 38]), n_jobs=-1)\n",
      "Got the result from ./1/64/train/filtrations/4/RadialFiltration_38_38/green/diagrams.npy\n",
      "Applying Scaler to persistence diagrams.\n",
      "DiagramVectorizer: fitting complete\n",
      "Got the result from ./1/64/train/filtrations/4/RadialFiltration_38_38/green/features.npy\n",
      "FiltrationExtractor: processing 1/64/train/filtrations/4/RadialFiltration_38_38/green, do_fit = False, filtration = RadialFiltration(center=array([38, 38]), n_jobs=-1)\n",
      "Got the result from ./1/64/train/filtrations/4/RadialFiltration_38_38/green/diagrams.npy\n",
      "Applying Scaler to persistence diagrams.\n",
      "Got the result from ./1/64/train/filtrations/4/RadialFiltration_38_38/green/features.npy\n",
      "FiltrationExtractor: processing 1/64/train/filtrations/4/RadialFiltration_38_38/blue, do_fit = True, filtration = RadialFiltration(center=array([38, 38]), n_jobs=-1)\n",
      "Got the result from ./1/64/train/filtrations/4/RadialFiltration_38_38/blue/diagrams.npy\n",
      "Applying Scaler to persistence diagrams.\n",
      "DiagramVectorizer: fitting complete\n",
      "Got the result from ./1/64/train/filtrations/4/RadialFiltration_38_38/blue/features.npy\n",
      "FiltrationExtractor: processing 1/64/train/filtrations/4/RadialFiltration_38_38/blue, do_fit = False, filtration = RadialFiltration(center=array([38, 38]), n_jobs=-1)\n",
      "Got the result from ./1/64/train/filtrations/4/RadialFiltration_38_38/blue/diagrams.npy\n",
      "Applying Scaler to persistence diagrams.\n",
      "Got the result from ./1/64/train/filtrations/4/RadialFiltration_38_38/blue/features.npy\n",
      "Fitting filtration 44/72: RadialFiltration with c = (38, 51), bin. thr. = 0.4\n",
      "RGB images received. Transforming to grayscale.\n"
     ]
    },
    {
     "name": "stderr",
     "output_type": "stream",
     "text": [
      "rgb2gray: 100%|██████████| 9469/9469 [00:01<00:00, 5139.44it/s]\n"
     ]
    },
    {
     "name": "stdout",
     "output_type": "stream",
     "text": [
      "FiltrationExtractor: processing 1/64/train/filtrations/4/RadialFiltration_38_51/gray, do_fit = True, filtration = RadialFiltration(center=array([38, 51]), n_jobs=-1)\n",
      "Got the result from ./1/64/train/filtrations/4/RadialFiltration_38_51/gray/diagrams.npy\n",
      "Applying Scaler to persistence diagrams.\n",
      "DiagramVectorizer: fitting complete\n",
      "Got the result from ./1/64/train/filtrations/4/RadialFiltration_38_51/gray/features.npy\n",
      "FiltrationExtractor: processing 1/64/train/filtrations/4/RadialFiltration_38_51/gray, do_fit = False, filtration = RadialFiltration(center=array([38, 51]), n_jobs=-1)\n",
      "Got the result from ./1/64/train/filtrations/4/RadialFiltration_38_51/gray/diagrams.npy\n",
      "Applying Scaler to persistence diagrams.\n",
      "Got the result from ./1/64/train/filtrations/4/RadialFiltration_38_51/gray/features.npy\n",
      "FiltrationExtractor: processing 1/64/train/filtrations/4/RadialFiltration_38_51/red, do_fit = True, filtration = RadialFiltration(center=array([38, 51]), n_jobs=-1)\n",
      "Got the result from ./1/64/train/filtrations/4/RadialFiltration_38_51/red/diagrams.npy\n",
      "Applying Scaler to persistence diagrams.\n",
      "DiagramVectorizer: fitting complete\n",
      "Got the result from ./1/64/train/filtrations/4/RadialFiltration_38_51/red/features.npy\n",
      "FiltrationExtractor: processing 1/64/train/filtrations/4/RadialFiltration_38_51/red, do_fit = False, filtration = RadialFiltration(center=array([38, 51]), n_jobs=-1)\n",
      "Got the result from ./1/64/train/filtrations/4/RadialFiltration_38_51/red/diagrams.npy\n",
      "Applying Scaler to persistence diagrams.\n",
      "Got the result from ./1/64/train/filtrations/4/RadialFiltration_38_51/red/features.npy\n",
      "FiltrationExtractor: processing 1/64/train/filtrations/4/RadialFiltration_38_51/green, do_fit = True, filtration = RadialFiltration(center=array([38, 51]), n_jobs=-1)\n",
      "Got the result from ./1/64/train/filtrations/4/RadialFiltration_38_51/green/diagrams.npy\n",
      "Applying Scaler to persistence diagrams.\n",
      "DiagramVectorizer: fitting complete\n",
      "Got the result from ./1/64/train/filtrations/4/RadialFiltration_38_51/green/features.npy\n",
      "FiltrationExtractor: processing 1/64/train/filtrations/4/RadialFiltration_38_51/green, do_fit = False, filtration = RadialFiltration(center=array([38, 51]), n_jobs=-1)\n",
      "Got the result from ./1/64/train/filtrations/4/RadialFiltration_38_51/green/diagrams.npy\n",
      "Applying Scaler to persistence diagrams.\n",
      "Got the result from ./1/64/train/filtrations/4/RadialFiltration_38_51/green/features.npy\n",
      "FiltrationExtractor: processing 1/64/train/filtrations/4/RadialFiltration_38_51/blue, do_fit = True, filtration = RadialFiltration(center=array([38, 51]), n_jobs=-1)\n",
      "Got the result from ./1/64/train/filtrations/4/RadialFiltration_38_51/blue/diagrams.npy\n",
      "Applying Scaler to persistence diagrams.\n",
      "DiagramVectorizer: fitting complete\n",
      "Got the result from ./1/64/train/filtrations/4/RadialFiltration_38_51/blue/features.npy\n",
      "FiltrationExtractor: processing 1/64/train/filtrations/4/RadialFiltration_38_51/blue, do_fit = False, filtration = RadialFiltration(center=array([38, 51]), n_jobs=-1)\n",
      "Got the result from ./1/64/train/filtrations/4/RadialFiltration_38_51/blue/diagrams.npy\n",
      "Applying Scaler to persistence diagrams.\n",
      "Got the result from ./1/64/train/filtrations/4/RadialFiltration_38_51/blue/features.npy\n",
      "Fitting filtration 45/72: RadialFiltration with c = (51, 12), bin. thr. = 0.4\n",
      "RGB images received. Transforming to grayscale.\n"
     ]
    },
    {
     "name": "stderr",
     "output_type": "stream",
     "text": [
      "rgb2gray: 100%|██████████| 9469/9469 [00:01<00:00, 5337.56it/s]\n"
     ]
    },
    {
     "name": "stdout",
     "output_type": "stream",
     "text": [
      "FiltrationExtractor: processing 1/64/train/filtrations/4/RadialFiltration_51_12/gray, do_fit = True, filtration = RadialFiltration(center=array([51, 12]), n_jobs=-1)\n",
      "Got the result from ./1/64/train/filtrations/4/RadialFiltration_51_12/gray/diagrams.npy\n",
      "Applying Scaler to persistence diagrams.\n",
      "DiagramVectorizer: fitting complete\n",
      "Got the result from ./1/64/train/filtrations/4/RadialFiltration_51_12/gray/features.npy\n",
      "FiltrationExtractor: processing 1/64/train/filtrations/4/RadialFiltration_51_12/gray, do_fit = False, filtration = RadialFiltration(center=array([51, 12]), n_jobs=-1)\n",
      "Got the result from ./1/64/train/filtrations/4/RadialFiltration_51_12/gray/diagrams.npy\n",
      "Applying Scaler to persistence diagrams.\n",
      "Got the result from ./1/64/train/filtrations/4/RadialFiltration_51_12/gray/features.npy\n",
      "FiltrationExtractor: processing 1/64/train/filtrations/4/RadialFiltration_51_12/red, do_fit = True, filtration = RadialFiltration(center=array([51, 12]), n_jobs=-1)\n",
      "Got the result from ./1/64/train/filtrations/4/RadialFiltration_51_12/red/diagrams.npy\n",
      "Applying Scaler to persistence diagrams.\n",
      "DiagramVectorizer: fitting complete\n",
      "Got the result from ./1/64/train/filtrations/4/RadialFiltration_51_12/red/features.npy\n",
      "FiltrationExtractor: processing 1/64/train/filtrations/4/RadialFiltration_51_12/red, do_fit = False, filtration = RadialFiltration(center=array([51, 12]), n_jobs=-1)\n",
      "Got the result from ./1/64/train/filtrations/4/RadialFiltration_51_12/red/diagrams.npy\n",
      "Applying Scaler to persistence diagrams.\n",
      "Got the result from ./1/64/train/filtrations/4/RadialFiltration_51_12/red/features.npy\n",
      "FiltrationExtractor: processing 1/64/train/filtrations/4/RadialFiltration_51_12/green, do_fit = True, filtration = RadialFiltration(center=array([51, 12]), n_jobs=-1)\n",
      "Got the result from ./1/64/train/filtrations/4/RadialFiltration_51_12/green/diagrams.npy\n",
      "Applying Scaler to persistence diagrams.\n",
      "DiagramVectorizer: fitting complete\n",
      "Got the result from ./1/64/train/filtrations/4/RadialFiltration_51_12/green/features.npy\n",
      "FiltrationExtractor: processing 1/64/train/filtrations/4/RadialFiltration_51_12/green, do_fit = False, filtration = RadialFiltration(center=array([51, 12]), n_jobs=-1)\n",
      "Got the result from ./1/64/train/filtrations/4/RadialFiltration_51_12/green/diagrams.npy\n",
      "Applying Scaler to persistence diagrams.\n",
      "Got the result from ./1/64/train/filtrations/4/RadialFiltration_51_12/green/features.npy\n",
      "FiltrationExtractor: processing 1/64/train/filtrations/4/RadialFiltration_51_12/blue, do_fit = True, filtration = RadialFiltration(center=array([51, 12]), n_jobs=-1)\n",
      "Got the result from ./1/64/train/filtrations/4/RadialFiltration_51_12/blue/diagrams.npy\n",
      "Applying Scaler to persistence diagrams.\n",
      "DiagramVectorizer: fitting complete\n",
      "Got the result from ./1/64/train/filtrations/4/RadialFiltration_51_12/blue/features.npy\n",
      "FiltrationExtractor: processing 1/64/train/filtrations/4/RadialFiltration_51_12/blue, do_fit = False, filtration = RadialFiltration(center=array([51, 12]), n_jobs=-1)\n",
      "Got the result from ./1/64/train/filtrations/4/RadialFiltration_51_12/blue/diagrams.npy\n",
      "Applying Scaler to persistence diagrams.\n",
      "Got the result from ./1/64/train/filtrations/4/RadialFiltration_51_12/blue/features.npy\n",
      "Fitting filtration 46/72: RadialFiltration with c = (51, 25), bin. thr. = 0.4\n",
      "RGB images received. Transforming to grayscale.\n"
     ]
    },
    {
     "name": "stderr",
     "output_type": "stream",
     "text": [
      "rgb2gray: 100%|██████████| 9469/9469 [00:01<00:00, 5398.07it/s]\n"
     ]
    },
    {
     "name": "stdout",
     "output_type": "stream",
     "text": [
      "FiltrationExtractor: processing 1/64/train/filtrations/4/RadialFiltration_51_25/gray, do_fit = True, filtration = RadialFiltration(center=array([51, 25]), n_jobs=-1)\n",
      "Got the result from ./1/64/train/filtrations/4/RadialFiltration_51_25/gray/diagrams.npy\n",
      "Applying Scaler to persistence diagrams.\n",
      "DiagramVectorizer: fitting complete\n",
      "Got the result from ./1/64/train/filtrations/4/RadialFiltration_51_25/gray/features.npy\n",
      "FiltrationExtractor: processing 1/64/train/filtrations/4/RadialFiltration_51_25/gray, do_fit = False, filtration = RadialFiltration(center=array([51, 25]), n_jobs=-1)\n",
      "Got the result from ./1/64/train/filtrations/4/RadialFiltration_51_25/gray/diagrams.npy\n",
      "Applying Scaler to persistence diagrams.\n",
      "Got the result from ./1/64/train/filtrations/4/RadialFiltration_51_25/gray/features.npy\n",
      "FiltrationExtractor: processing 1/64/train/filtrations/4/RadialFiltration_51_25/red, do_fit = True, filtration = RadialFiltration(center=array([51, 25]), n_jobs=-1)\n",
      "Got the result from ./1/64/train/filtrations/4/RadialFiltration_51_25/red/diagrams.npy\n",
      "Applying Scaler to persistence diagrams.\n",
      "DiagramVectorizer: fitting complete\n",
      "Got the result from ./1/64/train/filtrations/4/RadialFiltration_51_25/red/features.npy\n",
      "FiltrationExtractor: processing 1/64/train/filtrations/4/RadialFiltration_51_25/red, do_fit = False, filtration = RadialFiltration(center=array([51, 25]), n_jobs=-1)\n",
      "Got the result from ./1/64/train/filtrations/4/RadialFiltration_51_25/red/diagrams.npy\n",
      "Applying Scaler to persistence diagrams.\n",
      "Got the result from ./1/64/train/filtrations/4/RadialFiltration_51_25/red/features.npy\n",
      "FiltrationExtractor: processing 1/64/train/filtrations/4/RadialFiltration_51_25/green, do_fit = True, filtration = RadialFiltration(center=array([51, 25]), n_jobs=-1)\n",
      "Got the result from ./1/64/train/filtrations/4/RadialFiltration_51_25/green/diagrams.npy\n",
      "Applying Scaler to persistence diagrams.\n",
      "DiagramVectorizer: fitting complete\n",
      "Got the result from ./1/64/train/filtrations/4/RadialFiltration_51_25/green/features.npy\n",
      "FiltrationExtractor: processing 1/64/train/filtrations/4/RadialFiltration_51_25/green, do_fit = False, filtration = RadialFiltration(center=array([51, 25]), n_jobs=-1)\n",
      "Got the result from ./1/64/train/filtrations/4/RadialFiltration_51_25/green/diagrams.npy\n",
      "Applying Scaler to persistence diagrams.\n",
      "Got the result from ./1/64/train/filtrations/4/RadialFiltration_51_25/green/features.npy\n",
      "FiltrationExtractor: processing 1/64/train/filtrations/4/RadialFiltration_51_25/blue, do_fit = True, filtration = RadialFiltration(center=array([51, 25]), n_jobs=-1)\n",
      "Got the result from ./1/64/train/filtrations/4/RadialFiltration_51_25/blue/diagrams.npy\n",
      "Applying Scaler to persistence diagrams.\n",
      "DiagramVectorizer: fitting complete\n",
      "Got the result from ./1/64/train/filtrations/4/RadialFiltration_51_25/blue/features.npy\n",
      "FiltrationExtractor: processing 1/64/train/filtrations/4/RadialFiltration_51_25/blue, do_fit = False, filtration = RadialFiltration(center=array([51, 25]), n_jobs=-1)\n",
      "Got the result from ./1/64/train/filtrations/4/RadialFiltration_51_25/blue/diagrams.npy\n",
      "Applying Scaler to persistence diagrams.\n",
      "Got the result from ./1/64/train/filtrations/4/RadialFiltration_51_25/blue/features.npy\n",
      "Fitting filtration 47/72: RadialFiltration with c = (51, 38), bin. thr. = 0.4\n",
      "RGB images received. Transforming to grayscale.\n"
     ]
    },
    {
     "name": "stderr",
     "output_type": "stream",
     "text": [
      "rgb2gray: 100%|██████████| 9469/9469 [00:01<00:00, 5363.90it/s]\n"
     ]
    },
    {
     "name": "stdout",
     "output_type": "stream",
     "text": [
      "FiltrationExtractor: processing 1/64/train/filtrations/4/RadialFiltration_51_38/gray, do_fit = True, filtration = RadialFiltration(center=array([51, 38]), n_jobs=-1)\n",
      "Got the result from ./1/64/train/filtrations/4/RadialFiltration_51_38/gray/diagrams.npy\n",
      "Applying Scaler to persistence diagrams.\n",
      "DiagramVectorizer: fitting complete\n",
      "Got the result from ./1/64/train/filtrations/4/RadialFiltration_51_38/gray/features.npy\n",
      "FiltrationExtractor: processing 1/64/train/filtrations/4/RadialFiltration_51_38/gray, do_fit = False, filtration = RadialFiltration(center=array([51, 38]), n_jobs=-1)\n",
      "Got the result from ./1/64/train/filtrations/4/RadialFiltration_51_38/gray/diagrams.npy\n",
      "Applying Scaler to persistence diagrams.\n",
      "Got the result from ./1/64/train/filtrations/4/RadialFiltration_51_38/gray/features.npy\n",
      "FiltrationExtractor: processing 1/64/train/filtrations/4/RadialFiltration_51_38/red, do_fit = True, filtration = RadialFiltration(center=array([51, 38]), n_jobs=-1)\n",
      "Got the result from ./1/64/train/filtrations/4/RadialFiltration_51_38/red/diagrams.npy\n",
      "Applying Scaler to persistence diagrams.\n",
      "DiagramVectorizer: fitting complete\n",
      "Got the result from ./1/64/train/filtrations/4/RadialFiltration_51_38/red/features.npy\n",
      "FiltrationExtractor: processing 1/64/train/filtrations/4/RadialFiltration_51_38/red, do_fit = False, filtration = RadialFiltration(center=array([51, 38]), n_jobs=-1)\n",
      "Got the result from ./1/64/train/filtrations/4/RadialFiltration_51_38/red/diagrams.npy\n",
      "Applying Scaler to persistence diagrams.\n",
      "Got the result from ./1/64/train/filtrations/4/RadialFiltration_51_38/red/features.npy\n",
      "FiltrationExtractor: processing 1/64/train/filtrations/4/RadialFiltration_51_38/green, do_fit = True, filtration = RadialFiltration(center=array([51, 38]), n_jobs=-1)\n",
      "Got the result from ./1/64/train/filtrations/4/RadialFiltration_51_38/green/diagrams.npy\n",
      "Applying Scaler to persistence diagrams.\n",
      "DiagramVectorizer: fitting complete\n",
      "Got the result from ./1/64/train/filtrations/4/RadialFiltration_51_38/green/features.npy\n",
      "FiltrationExtractor: processing 1/64/train/filtrations/4/RadialFiltration_51_38/green, do_fit = False, filtration = RadialFiltration(center=array([51, 38]), n_jobs=-1)\n",
      "Got the result from ./1/64/train/filtrations/4/RadialFiltration_51_38/green/diagrams.npy\n",
      "Applying Scaler to persistence diagrams.\n",
      "Got the result from ./1/64/train/filtrations/4/RadialFiltration_51_38/green/features.npy\n",
      "FiltrationExtractor: processing 1/64/train/filtrations/4/RadialFiltration_51_38/blue, do_fit = True, filtration = RadialFiltration(center=array([51, 38]), n_jobs=-1)\n",
      "Got the result from ./1/64/train/filtrations/4/RadialFiltration_51_38/blue/diagrams.npy\n",
      "Applying Scaler to persistence diagrams.\n",
      "DiagramVectorizer: fitting complete\n",
      "Got the result from ./1/64/train/filtrations/4/RadialFiltration_51_38/blue/features.npy\n",
      "FiltrationExtractor: processing 1/64/train/filtrations/4/RadialFiltration_51_38/blue, do_fit = False, filtration = RadialFiltration(center=array([51, 38]), n_jobs=-1)\n",
      "Got the result from ./1/64/train/filtrations/4/RadialFiltration_51_38/blue/diagrams.npy\n",
      "Applying Scaler to persistence diagrams.\n",
      "Got the result from ./1/64/train/filtrations/4/RadialFiltration_51_38/blue/features.npy\n",
      "Fitting filtration 48/72: RadialFiltration with c = (51, 51), bin. thr. = 0.4\n",
      "RGB images received. Transforming to grayscale.\n"
     ]
    },
    {
     "name": "stderr",
     "output_type": "stream",
     "text": [
      "rgb2gray: 100%|██████████| 9469/9469 [00:01<00:00, 5294.50it/s]\n"
     ]
    },
    {
     "name": "stdout",
     "output_type": "stream",
     "text": [
      "FiltrationExtractor: processing 1/64/train/filtrations/4/RadialFiltration_51_51/gray, do_fit = True, filtration = RadialFiltration(center=array([51, 51]), n_jobs=-1)\n",
      "Got the result from ./1/64/train/filtrations/4/RadialFiltration_51_51/gray/diagrams.npy\n",
      "Applying Scaler to persistence diagrams.\n",
      "DiagramVectorizer: fitting complete\n",
      "Got the result from ./1/64/train/filtrations/4/RadialFiltration_51_51/gray/features.npy\n",
      "FiltrationExtractor: processing 1/64/train/filtrations/4/RadialFiltration_51_51/gray, do_fit = False, filtration = RadialFiltration(center=array([51, 51]), n_jobs=-1)\n",
      "Got the result from ./1/64/train/filtrations/4/RadialFiltration_51_51/gray/diagrams.npy\n",
      "Applying Scaler to persistence diagrams.\n",
      "Got the result from ./1/64/train/filtrations/4/RadialFiltration_51_51/gray/features.npy\n",
      "FiltrationExtractor: processing 1/64/train/filtrations/4/RadialFiltration_51_51/red, do_fit = True, filtration = RadialFiltration(center=array([51, 51]), n_jobs=-1)\n",
      "Got the result from ./1/64/train/filtrations/4/RadialFiltration_51_51/red/diagrams.npy\n",
      "Applying Scaler to persistence diagrams.\n",
      "DiagramVectorizer: fitting complete\n",
      "Got the result from ./1/64/train/filtrations/4/RadialFiltration_51_51/red/features.npy\n",
      "FiltrationExtractor: processing 1/64/train/filtrations/4/RadialFiltration_51_51/red, do_fit = False, filtration = RadialFiltration(center=array([51, 51]), n_jobs=-1)\n",
      "Got the result from ./1/64/train/filtrations/4/RadialFiltration_51_51/red/diagrams.npy\n",
      "Applying Scaler to persistence diagrams.\n",
      "Got the result from ./1/64/train/filtrations/4/RadialFiltration_51_51/red/features.npy\n",
      "FiltrationExtractor: processing 1/64/train/filtrations/4/RadialFiltration_51_51/green, do_fit = True, filtration = RadialFiltration(center=array([51, 51]), n_jobs=-1)\n",
      "Got the result from ./1/64/train/filtrations/4/RadialFiltration_51_51/green/diagrams.npy\n",
      "Applying Scaler to persistence diagrams.\n",
      "DiagramVectorizer: fitting complete\n",
      "Got the result from ./1/64/train/filtrations/4/RadialFiltration_51_51/green/features.npy\n",
      "FiltrationExtractor: processing 1/64/train/filtrations/4/RadialFiltration_51_51/green, do_fit = False, filtration = RadialFiltration(center=array([51, 51]), n_jobs=-1)\n",
      "Got the result from ./1/64/train/filtrations/4/RadialFiltration_51_51/green/diagrams.npy\n",
      "Applying Scaler to persistence diagrams.\n",
      "Got the result from ./1/64/train/filtrations/4/RadialFiltration_51_51/green/features.npy\n",
      "FiltrationExtractor: processing 1/64/train/filtrations/4/RadialFiltration_51_51/blue, do_fit = True, filtration = RadialFiltration(center=array([51, 51]), n_jobs=-1)\n",
      "Got the result from ./1/64/train/filtrations/4/RadialFiltration_51_51/blue/diagrams.npy\n",
      "Applying Scaler to persistence diagrams.\n",
      "DiagramVectorizer: fitting complete\n",
      "Got the result from ./1/64/train/filtrations/4/RadialFiltration_51_51/blue/features.npy\n",
      "FiltrationExtractor: processing 1/64/train/filtrations/4/RadialFiltration_51_51/blue, do_fit = False, filtration = RadialFiltration(center=array([51, 51]), n_jobs=-1)\n",
      "Got the result from ./1/64/train/filtrations/4/RadialFiltration_51_51/blue/diagrams.npy\n",
      "Applying Scaler to persistence diagrams.\n",
      "Got the result from ./1/64/train/filtrations/4/RadialFiltration_51_51/blue/features.npy\n",
      "Fitting filtration 49/72: HeightFiltration with d = (-1, -1), bin. thr. = 0.6\n",
      "RGB images received. Transforming to grayscale.\n"
     ]
    },
    {
     "name": "stderr",
     "output_type": "stream",
     "text": [
      "rgb2gray: 100%|██████████| 9469/9469 [00:01<00:00, 5113.11it/s]\n"
     ]
    },
    {
     "name": "stdout",
     "output_type": "stream",
     "text": [
      "FiltrationExtractor: processing 1/64/train/filtrations/6/HeightFiltrartion_-1_-1/gray, do_fit = True, filtration = HeightFiltration(direction=array([-1, -1]), n_jobs=-1)\n",
      "Got the result from ./1/64/train/filtrations/6/HeightFiltrartion_-1_-1/gray/diagrams.npy\n",
      "Applying Scaler to persistence diagrams.\n",
      "DiagramVectorizer: fitting complete\n",
      "Got the result from ./1/64/train/filtrations/6/HeightFiltrartion_-1_-1/gray/features.npy\n",
      "FiltrationExtractor: processing 1/64/train/filtrations/6/HeightFiltrartion_-1_-1/gray, do_fit = False, filtration = HeightFiltration(direction=array([-1, -1]), n_jobs=-1)\n",
      "Got the result from ./1/64/train/filtrations/6/HeightFiltrartion_-1_-1/gray/diagrams.npy\n",
      "Applying Scaler to persistence diagrams.\n",
      "Got the result from ./1/64/train/filtrations/6/HeightFiltrartion_-1_-1/gray/features.npy\n",
      "FiltrationExtractor: processing 1/64/train/filtrations/6/HeightFiltrartion_-1_-1/red, do_fit = True, filtration = HeightFiltration(direction=array([-1, -1]), n_jobs=-1)\n",
      "Got the result from ./1/64/train/filtrations/6/HeightFiltrartion_-1_-1/red/diagrams.npy\n",
      "Applying Scaler to persistence diagrams.\n",
      "DiagramVectorizer: fitting complete\n",
      "Got the result from ./1/64/train/filtrations/6/HeightFiltrartion_-1_-1/red/features.npy\n",
      "FiltrationExtractor: processing 1/64/train/filtrations/6/HeightFiltrartion_-1_-1/red, do_fit = False, filtration = HeightFiltration(direction=array([-1, -1]), n_jobs=-1)\n",
      "Got the result from ./1/64/train/filtrations/6/HeightFiltrartion_-1_-1/red/diagrams.npy\n",
      "Applying Scaler to persistence diagrams.\n",
      "Got the result from ./1/64/train/filtrations/6/HeightFiltrartion_-1_-1/red/features.npy\n",
      "FiltrationExtractor: processing 1/64/train/filtrations/6/HeightFiltrartion_-1_-1/green, do_fit = True, filtration = HeightFiltration(direction=array([-1, -1]), n_jobs=-1)\n",
      "Got the result from ./1/64/train/filtrations/6/HeightFiltrartion_-1_-1/green/diagrams.npy\n",
      "Applying Scaler to persistence diagrams.\n",
      "DiagramVectorizer: fitting complete\n",
      "Got the result from ./1/64/train/filtrations/6/HeightFiltrartion_-1_-1/green/features.npy\n",
      "FiltrationExtractor: processing 1/64/train/filtrations/6/HeightFiltrartion_-1_-1/green, do_fit = False, filtration = HeightFiltration(direction=array([-1, -1]), n_jobs=-1)\n",
      "Got the result from ./1/64/train/filtrations/6/HeightFiltrartion_-1_-1/green/diagrams.npy\n",
      "Applying Scaler to persistence diagrams.\n",
      "Got the result from ./1/64/train/filtrations/6/HeightFiltrartion_-1_-1/green/features.npy\n",
      "FiltrationExtractor: processing 1/64/train/filtrations/6/HeightFiltrartion_-1_-1/blue, do_fit = True, filtration = HeightFiltration(direction=array([-1, -1]), n_jobs=-1)\n",
      "Got the result from ./1/64/train/filtrations/6/HeightFiltrartion_-1_-1/blue/diagrams.npy\n",
      "Applying Scaler to persistence diagrams.\n",
      "DiagramVectorizer: fitting complete\n",
      "Got the result from ./1/64/train/filtrations/6/HeightFiltrartion_-1_-1/blue/features.npy\n",
      "FiltrationExtractor: processing 1/64/train/filtrations/6/HeightFiltrartion_-1_-1/blue, do_fit = False, filtration = HeightFiltration(direction=array([-1, -1]), n_jobs=-1)\n",
      "Got the result from ./1/64/train/filtrations/6/HeightFiltrartion_-1_-1/blue/diagrams.npy\n",
      "Applying Scaler to persistence diagrams.\n",
      "Got the result from ./1/64/train/filtrations/6/HeightFiltrartion_-1_-1/blue/features.npy\n",
      "Fitting filtration 50/72: HeightFiltration with d = (-1, 0), bin. thr. = 0.6\n",
      "RGB images received. Transforming to grayscale.\n"
     ]
    },
    {
     "name": "stderr",
     "output_type": "stream",
     "text": [
      "rgb2gray: 100%|██████████| 9469/9469 [00:01<00:00, 5373.44it/s]\n"
     ]
    },
    {
     "name": "stdout",
     "output_type": "stream",
     "text": [
      "FiltrationExtractor: processing 1/64/train/filtrations/6/HeightFiltrartion_-1_0/gray, do_fit = True, filtration = HeightFiltration(direction=array([-1,  0]), n_jobs=-1)\n",
      "Got the result from ./1/64/train/filtrations/6/HeightFiltrartion_-1_0/gray/diagrams.npy\n",
      "Applying Scaler to persistence diagrams.\n",
      "DiagramVectorizer: fitting complete\n",
      "Got the result from ./1/64/train/filtrations/6/HeightFiltrartion_-1_0/gray/features.npy\n",
      "FiltrationExtractor: processing 1/64/train/filtrations/6/HeightFiltrartion_-1_0/gray, do_fit = False, filtration = HeightFiltration(direction=array([-1,  0]), n_jobs=-1)\n",
      "Got the result from ./1/64/train/filtrations/6/HeightFiltrartion_-1_0/gray/diagrams.npy\n",
      "Applying Scaler to persistence diagrams.\n",
      "Got the result from ./1/64/train/filtrations/6/HeightFiltrartion_-1_0/gray/features.npy\n",
      "FiltrationExtractor: processing 1/64/train/filtrations/6/HeightFiltrartion_-1_0/red, do_fit = True, filtration = HeightFiltration(direction=array([-1,  0]), n_jobs=-1)\n",
      "Got the result from ./1/64/train/filtrations/6/HeightFiltrartion_-1_0/red/diagrams.npy\n",
      "Applying Scaler to persistence diagrams.\n",
      "DiagramVectorizer: fitting complete\n",
      "Got the result from ./1/64/train/filtrations/6/HeightFiltrartion_-1_0/red/features.npy\n",
      "FiltrationExtractor: processing 1/64/train/filtrations/6/HeightFiltrartion_-1_0/red, do_fit = False, filtration = HeightFiltration(direction=array([-1,  0]), n_jobs=-1)\n",
      "Got the result from ./1/64/train/filtrations/6/HeightFiltrartion_-1_0/red/diagrams.npy\n",
      "Applying Scaler to persistence diagrams.\n",
      "Got the result from ./1/64/train/filtrations/6/HeightFiltrartion_-1_0/red/features.npy\n",
      "FiltrationExtractor: processing 1/64/train/filtrations/6/HeightFiltrartion_-1_0/green, do_fit = True, filtration = HeightFiltration(direction=array([-1,  0]), n_jobs=-1)\n",
      "Got the result from ./1/64/train/filtrations/6/HeightFiltrartion_-1_0/green/diagrams.npy\n",
      "Applying Scaler to persistence diagrams.\n",
      "DiagramVectorizer: fitting complete\n",
      "Got the result from ./1/64/train/filtrations/6/HeightFiltrartion_-1_0/green/features.npy\n",
      "FiltrationExtractor: processing 1/64/train/filtrations/6/HeightFiltrartion_-1_0/green, do_fit = False, filtration = HeightFiltration(direction=array([-1,  0]), n_jobs=-1)\n",
      "Got the result from ./1/64/train/filtrations/6/HeightFiltrartion_-1_0/green/diagrams.npy\n",
      "Applying Scaler to persistence diagrams.\n",
      "Got the result from ./1/64/train/filtrations/6/HeightFiltrartion_-1_0/green/features.npy\n",
      "FiltrationExtractor: processing 1/64/train/filtrations/6/HeightFiltrartion_-1_0/blue, do_fit = True, filtration = HeightFiltration(direction=array([-1,  0]), n_jobs=-1)\n",
      "Got the result from ./1/64/train/filtrations/6/HeightFiltrartion_-1_0/blue/diagrams.npy\n",
      "Applying Scaler to persistence diagrams.\n",
      "DiagramVectorizer: fitting complete\n",
      "Got the result from ./1/64/train/filtrations/6/HeightFiltrartion_-1_0/blue/features.npy\n",
      "FiltrationExtractor: processing 1/64/train/filtrations/6/HeightFiltrartion_-1_0/blue, do_fit = False, filtration = HeightFiltration(direction=array([-1,  0]), n_jobs=-1)\n",
      "Got the result from ./1/64/train/filtrations/6/HeightFiltrartion_-1_0/blue/diagrams.npy\n",
      "Applying Scaler to persistence diagrams.\n",
      "Got the result from ./1/64/train/filtrations/6/HeightFiltrartion_-1_0/blue/features.npy\n",
      "Fitting filtration 51/72: HeightFiltration with d = (-1, 1), bin. thr. = 0.6\n",
      "RGB images received. Transforming to grayscale.\n"
     ]
    },
    {
     "name": "stderr",
     "output_type": "stream",
     "text": [
      "rgb2gray: 100%|██████████| 9469/9469 [00:01<00:00, 5439.95it/s]\n"
     ]
    },
    {
     "name": "stdout",
     "output_type": "stream",
     "text": [
      "FiltrationExtractor: processing 1/64/train/filtrations/6/HeightFiltrartion_-1_1/gray, do_fit = True, filtration = HeightFiltration(direction=array([-1,  1]), n_jobs=-1)\n",
      "Got the result from ./1/64/train/filtrations/6/HeightFiltrartion_-1_1/gray/diagrams.npy\n",
      "Applying Scaler to persistence diagrams.\n",
      "DiagramVectorizer: fitting complete\n",
      "Got the result from ./1/64/train/filtrations/6/HeightFiltrartion_-1_1/gray/features.npy\n",
      "FiltrationExtractor: processing 1/64/train/filtrations/6/HeightFiltrartion_-1_1/gray, do_fit = False, filtration = HeightFiltration(direction=array([-1,  1]), n_jobs=-1)\n",
      "Got the result from ./1/64/train/filtrations/6/HeightFiltrartion_-1_1/gray/diagrams.npy\n",
      "Applying Scaler to persistence diagrams.\n",
      "Got the result from ./1/64/train/filtrations/6/HeightFiltrartion_-1_1/gray/features.npy\n",
      "FiltrationExtractor: processing 1/64/train/filtrations/6/HeightFiltrartion_-1_1/red, do_fit = True, filtration = HeightFiltration(direction=array([-1,  1]), n_jobs=-1)\n",
      "Got the result from ./1/64/train/filtrations/6/HeightFiltrartion_-1_1/red/diagrams.npy\n",
      "Applying Scaler to persistence diagrams.\n",
      "DiagramVectorizer: fitting complete\n",
      "Got the result from ./1/64/train/filtrations/6/HeightFiltrartion_-1_1/red/features.npy\n",
      "FiltrationExtractor: processing 1/64/train/filtrations/6/HeightFiltrartion_-1_1/red, do_fit = False, filtration = HeightFiltration(direction=array([-1,  1]), n_jobs=-1)\n",
      "Got the result from ./1/64/train/filtrations/6/HeightFiltrartion_-1_1/red/diagrams.npy\n",
      "Applying Scaler to persistence diagrams.\n",
      "Got the result from ./1/64/train/filtrations/6/HeightFiltrartion_-1_1/red/features.npy\n",
      "FiltrationExtractor: processing 1/64/train/filtrations/6/HeightFiltrartion_-1_1/green, do_fit = True, filtration = HeightFiltration(direction=array([-1,  1]), n_jobs=-1)\n",
      "Got the result from ./1/64/train/filtrations/6/HeightFiltrartion_-1_1/green/diagrams.npy\n",
      "Applying Scaler to persistence diagrams.\n",
      "DiagramVectorizer: fitting complete\n",
      "Got the result from ./1/64/train/filtrations/6/HeightFiltrartion_-1_1/green/features.npy\n",
      "FiltrationExtractor: processing 1/64/train/filtrations/6/HeightFiltrartion_-1_1/green, do_fit = False, filtration = HeightFiltration(direction=array([-1,  1]), n_jobs=-1)\n",
      "Got the result from ./1/64/train/filtrations/6/HeightFiltrartion_-1_1/green/diagrams.npy\n",
      "Applying Scaler to persistence diagrams.\n",
      "Got the result from ./1/64/train/filtrations/6/HeightFiltrartion_-1_1/green/features.npy\n",
      "FiltrationExtractor: processing 1/64/train/filtrations/6/HeightFiltrartion_-1_1/blue, do_fit = True, filtration = HeightFiltration(direction=array([-1,  1]), n_jobs=-1)\n",
      "Got the result from ./1/64/train/filtrations/6/HeightFiltrartion_-1_1/blue/diagrams.npy\n",
      "Applying Scaler to persistence diagrams.\n",
      "DiagramVectorizer: fitting complete\n",
      "Got the result from ./1/64/train/filtrations/6/HeightFiltrartion_-1_1/blue/features.npy\n",
      "FiltrationExtractor: processing 1/64/train/filtrations/6/HeightFiltrartion_-1_1/blue, do_fit = False, filtration = HeightFiltration(direction=array([-1,  1]), n_jobs=-1)\n",
      "Got the result from ./1/64/train/filtrations/6/HeightFiltrartion_-1_1/blue/diagrams.npy\n",
      "Applying Scaler to persistence diagrams.\n",
      "Got the result from ./1/64/train/filtrations/6/HeightFiltrartion_-1_1/blue/features.npy\n",
      "Fitting filtration 52/72: HeightFiltration with d = (0, -1), bin. thr. = 0.6\n",
      "RGB images received. Transforming to grayscale.\n"
     ]
    },
    {
     "name": "stderr",
     "output_type": "stream",
     "text": [
      "rgb2gray: 100%|██████████| 9469/9469 [00:01<00:00, 5379.75it/s]\n"
     ]
    },
    {
     "name": "stdout",
     "output_type": "stream",
     "text": [
      "FiltrationExtractor: processing 1/64/train/filtrations/6/HeightFiltrartion_0_-1/gray, do_fit = True, filtration = HeightFiltration(direction=array([ 0, -1]), n_jobs=-1)\n",
      "Got the result from ./1/64/train/filtrations/6/HeightFiltrartion_0_-1/gray/diagrams.npy\n",
      "Applying Scaler to persistence diagrams.\n",
      "DiagramVectorizer: fitting complete\n",
      "Got the result from ./1/64/train/filtrations/6/HeightFiltrartion_0_-1/gray/features.npy\n",
      "FiltrationExtractor: processing 1/64/train/filtrations/6/HeightFiltrartion_0_-1/gray, do_fit = False, filtration = HeightFiltration(direction=array([ 0, -1]), n_jobs=-1)\n",
      "Got the result from ./1/64/train/filtrations/6/HeightFiltrartion_0_-1/gray/diagrams.npy\n",
      "Applying Scaler to persistence diagrams.\n",
      "Got the result from ./1/64/train/filtrations/6/HeightFiltrartion_0_-1/gray/features.npy\n",
      "FiltrationExtractor: processing 1/64/train/filtrations/6/HeightFiltrartion_0_-1/red, do_fit = True, filtration = HeightFiltration(direction=array([ 0, -1]), n_jobs=-1)\n",
      "Got the result from ./1/64/train/filtrations/6/HeightFiltrartion_0_-1/red/diagrams.npy\n",
      "Applying Scaler to persistence diagrams.\n",
      "DiagramVectorizer: fitting complete\n",
      "Got the result from ./1/64/train/filtrations/6/HeightFiltrartion_0_-1/red/features.npy\n",
      "FiltrationExtractor: processing 1/64/train/filtrations/6/HeightFiltrartion_0_-1/red, do_fit = False, filtration = HeightFiltration(direction=array([ 0, -1]), n_jobs=-1)\n",
      "Got the result from ./1/64/train/filtrations/6/HeightFiltrartion_0_-1/red/diagrams.npy\n",
      "Applying Scaler to persistence diagrams.\n",
      "Got the result from ./1/64/train/filtrations/6/HeightFiltrartion_0_-1/red/features.npy\n",
      "FiltrationExtractor: processing 1/64/train/filtrations/6/HeightFiltrartion_0_-1/green, do_fit = True, filtration = HeightFiltration(direction=array([ 0, -1]), n_jobs=-1)\n",
      "Got the result from ./1/64/train/filtrations/6/HeightFiltrartion_0_-1/green/diagrams.npy\n",
      "Applying Scaler to persistence diagrams.\n",
      "DiagramVectorizer: fitting complete\n",
      "Got the result from ./1/64/train/filtrations/6/HeightFiltrartion_0_-1/green/features.npy\n",
      "FiltrationExtractor: processing 1/64/train/filtrations/6/HeightFiltrartion_0_-1/green, do_fit = False, filtration = HeightFiltration(direction=array([ 0, -1]), n_jobs=-1)\n",
      "Got the result from ./1/64/train/filtrations/6/HeightFiltrartion_0_-1/green/diagrams.npy\n",
      "Applying Scaler to persistence diagrams.\n",
      "Got the result from ./1/64/train/filtrations/6/HeightFiltrartion_0_-1/green/features.npy\n",
      "FiltrationExtractor: processing 1/64/train/filtrations/6/HeightFiltrartion_0_-1/blue, do_fit = True, filtration = HeightFiltration(direction=array([ 0, -1]), n_jobs=-1)\n",
      "Got the result from ./1/64/train/filtrations/6/HeightFiltrartion_0_-1/blue/diagrams.npy\n",
      "Applying Scaler to persistence diagrams.\n",
      "DiagramVectorizer: fitting complete\n",
      "Got the result from ./1/64/train/filtrations/6/HeightFiltrartion_0_-1/blue/features.npy\n",
      "FiltrationExtractor: processing 1/64/train/filtrations/6/HeightFiltrartion_0_-1/blue, do_fit = False, filtration = HeightFiltration(direction=array([ 0, -1]), n_jobs=-1)\n",
      "Got the result from ./1/64/train/filtrations/6/HeightFiltrartion_0_-1/blue/diagrams.npy\n",
      "Applying Scaler to persistence diagrams.\n",
      "Got the result from ./1/64/train/filtrations/6/HeightFiltrartion_0_-1/blue/features.npy\n",
      "Fitting filtration 53/72: HeightFiltration with d = (0, 1), bin. thr. = 0.6\n",
      "RGB images received. Transforming to grayscale.\n"
     ]
    },
    {
     "name": "stderr",
     "output_type": "stream",
     "text": [
      "rgb2gray: 100%|██████████| 9469/9469 [00:01<00:00, 5245.93it/s]\n"
     ]
    },
    {
     "name": "stdout",
     "output_type": "stream",
     "text": [
      "FiltrationExtractor: processing 1/64/train/filtrations/6/HeightFiltrartion_0_1/gray, do_fit = True, filtration = HeightFiltration(direction=array([0, 1]), n_jobs=-1)\n",
      "Got the result from ./1/64/train/filtrations/6/HeightFiltrartion_0_1/gray/diagrams.npy\n",
      "Applying Scaler to persistence diagrams.\n",
      "DiagramVectorizer: fitting complete\n",
      "Got the result from ./1/64/train/filtrations/6/HeightFiltrartion_0_1/gray/features.npy\n",
      "FiltrationExtractor: processing 1/64/train/filtrations/6/HeightFiltrartion_0_1/gray, do_fit = False, filtration = HeightFiltration(direction=array([0, 1]), n_jobs=-1)\n",
      "Got the result from ./1/64/train/filtrations/6/HeightFiltrartion_0_1/gray/diagrams.npy\n",
      "Applying Scaler to persistence diagrams.\n",
      "Got the result from ./1/64/train/filtrations/6/HeightFiltrartion_0_1/gray/features.npy\n",
      "FiltrationExtractor: processing 1/64/train/filtrations/6/HeightFiltrartion_0_1/red, do_fit = True, filtration = HeightFiltration(direction=array([0, 1]), n_jobs=-1)\n",
      "Got the result from ./1/64/train/filtrations/6/HeightFiltrartion_0_1/red/diagrams.npy\n",
      "Applying Scaler to persistence diagrams.\n",
      "DiagramVectorizer: fitting complete\n",
      "Got the result from ./1/64/train/filtrations/6/HeightFiltrartion_0_1/red/features.npy\n",
      "FiltrationExtractor: processing 1/64/train/filtrations/6/HeightFiltrartion_0_1/red, do_fit = False, filtration = HeightFiltration(direction=array([0, 1]), n_jobs=-1)\n",
      "Got the result from ./1/64/train/filtrations/6/HeightFiltrartion_0_1/red/diagrams.npy\n",
      "Applying Scaler to persistence diagrams.\n",
      "Got the result from ./1/64/train/filtrations/6/HeightFiltrartion_0_1/red/features.npy\n",
      "FiltrationExtractor: processing 1/64/train/filtrations/6/HeightFiltrartion_0_1/green, do_fit = True, filtration = HeightFiltration(direction=array([0, 1]), n_jobs=-1)\n",
      "Got the result from ./1/64/train/filtrations/6/HeightFiltrartion_0_1/green/diagrams.npy\n",
      "Applying Scaler to persistence diagrams.\n",
      "DiagramVectorizer: fitting complete\n",
      "Got the result from ./1/64/train/filtrations/6/HeightFiltrartion_0_1/green/features.npy\n",
      "FiltrationExtractor: processing 1/64/train/filtrations/6/HeightFiltrartion_0_1/green, do_fit = False, filtration = HeightFiltration(direction=array([0, 1]), n_jobs=-1)\n",
      "Got the result from ./1/64/train/filtrations/6/HeightFiltrartion_0_1/green/diagrams.npy\n",
      "Applying Scaler to persistence diagrams.\n",
      "Got the result from ./1/64/train/filtrations/6/HeightFiltrartion_0_1/green/features.npy\n",
      "FiltrationExtractor: processing 1/64/train/filtrations/6/HeightFiltrartion_0_1/blue, do_fit = True, filtration = HeightFiltration(direction=array([0, 1]), n_jobs=-1)\n",
      "Got the result from ./1/64/train/filtrations/6/HeightFiltrartion_0_1/blue/diagrams.npy\n",
      "Applying Scaler to persistence diagrams.\n",
      "DiagramVectorizer: fitting complete\n",
      "Got the result from ./1/64/train/filtrations/6/HeightFiltrartion_0_1/blue/features.npy\n",
      "FiltrationExtractor: processing 1/64/train/filtrations/6/HeightFiltrartion_0_1/blue, do_fit = False, filtration = HeightFiltration(direction=array([0, 1]), n_jobs=-1)\n",
      "Got the result from ./1/64/train/filtrations/6/HeightFiltrartion_0_1/blue/diagrams.npy\n",
      "Applying Scaler to persistence diagrams.\n",
      "Got the result from ./1/64/train/filtrations/6/HeightFiltrartion_0_1/blue/features.npy\n",
      "Fitting filtration 54/72: HeightFiltration with d = (1, -1), bin. thr. = 0.6\n",
      "RGB images received. Transforming to grayscale.\n"
     ]
    },
    {
     "name": "stderr",
     "output_type": "stream",
     "text": [
      "rgb2gray: 100%|██████████| 9469/9469 [00:01<00:00, 5446.42it/s]\n"
     ]
    },
    {
     "name": "stdout",
     "output_type": "stream",
     "text": [
      "FiltrationExtractor: processing 1/64/train/filtrations/6/HeightFiltrartion_1_-1/gray, do_fit = True, filtration = HeightFiltration(direction=array([ 1, -1]), n_jobs=-1)\n",
      "Got the result from ./1/64/train/filtrations/6/HeightFiltrartion_1_-1/gray/diagrams.npy\n",
      "Applying Scaler to persistence diagrams.\n",
      "DiagramVectorizer: fitting complete\n",
      "Got the result from ./1/64/train/filtrations/6/HeightFiltrartion_1_-1/gray/features.npy\n",
      "FiltrationExtractor: processing 1/64/train/filtrations/6/HeightFiltrartion_1_-1/gray, do_fit = False, filtration = HeightFiltration(direction=array([ 1, -1]), n_jobs=-1)\n",
      "Got the result from ./1/64/train/filtrations/6/HeightFiltrartion_1_-1/gray/diagrams.npy\n",
      "Applying Scaler to persistence diagrams.\n",
      "Got the result from ./1/64/train/filtrations/6/HeightFiltrartion_1_-1/gray/features.npy\n",
      "FiltrationExtractor: processing 1/64/train/filtrations/6/HeightFiltrartion_1_-1/red, do_fit = True, filtration = HeightFiltration(direction=array([ 1, -1]), n_jobs=-1)\n",
      "Got the result from ./1/64/train/filtrations/6/HeightFiltrartion_1_-1/red/diagrams.npy\n",
      "Applying Scaler to persistence diagrams.\n",
      "DiagramVectorizer: fitting complete\n",
      "Got the result from ./1/64/train/filtrations/6/HeightFiltrartion_1_-1/red/features.npy\n",
      "FiltrationExtractor: processing 1/64/train/filtrations/6/HeightFiltrartion_1_-1/red, do_fit = False, filtration = HeightFiltration(direction=array([ 1, -1]), n_jobs=-1)\n",
      "Got the result from ./1/64/train/filtrations/6/HeightFiltrartion_1_-1/red/diagrams.npy\n",
      "Applying Scaler to persistence diagrams.\n",
      "Got the result from ./1/64/train/filtrations/6/HeightFiltrartion_1_-1/red/features.npy\n",
      "FiltrationExtractor: processing 1/64/train/filtrations/6/HeightFiltrartion_1_-1/green, do_fit = True, filtration = HeightFiltration(direction=array([ 1, -1]), n_jobs=-1)\n",
      "Got the result from ./1/64/train/filtrations/6/HeightFiltrartion_1_-1/green/diagrams.npy\n",
      "Applying Scaler to persistence diagrams.\n",
      "DiagramVectorizer: fitting complete\n",
      "Got the result from ./1/64/train/filtrations/6/HeightFiltrartion_1_-1/green/features.npy\n",
      "FiltrationExtractor: processing 1/64/train/filtrations/6/HeightFiltrartion_1_-1/green, do_fit = False, filtration = HeightFiltration(direction=array([ 1, -1]), n_jobs=-1)\n",
      "Got the result from ./1/64/train/filtrations/6/HeightFiltrartion_1_-1/green/diagrams.npy\n",
      "Applying Scaler to persistence diagrams.\n",
      "Got the result from ./1/64/train/filtrations/6/HeightFiltrartion_1_-1/green/features.npy\n",
      "FiltrationExtractor: processing 1/64/train/filtrations/6/HeightFiltrartion_1_-1/blue, do_fit = True, filtration = HeightFiltration(direction=array([ 1, -1]), n_jobs=-1)\n",
      "Got the result from ./1/64/train/filtrations/6/HeightFiltrartion_1_-1/blue/diagrams.npy\n",
      "Applying Scaler to persistence diagrams.\n",
      "DiagramVectorizer: fitting complete\n",
      "Got the result from ./1/64/train/filtrations/6/HeightFiltrartion_1_-1/blue/features.npy\n",
      "FiltrationExtractor: processing 1/64/train/filtrations/6/HeightFiltrartion_1_-1/blue, do_fit = False, filtration = HeightFiltration(direction=array([ 1, -1]), n_jobs=-1)\n",
      "Got the result from ./1/64/train/filtrations/6/HeightFiltrartion_1_-1/blue/diagrams.npy\n",
      "Applying Scaler to persistence diagrams.\n",
      "Got the result from ./1/64/train/filtrations/6/HeightFiltrartion_1_-1/blue/features.npy\n",
      "Fitting filtration 55/72: HeightFiltration with d = (1, 0), bin. thr. = 0.6\n",
      "RGB images received. Transforming to grayscale.\n"
     ]
    },
    {
     "name": "stderr",
     "output_type": "stream",
     "text": [
      "rgb2gray: 100%|██████████| 9469/9469 [00:02<00:00, 4584.41it/s]\n"
     ]
    },
    {
     "name": "stdout",
     "output_type": "stream",
     "text": [
      "FiltrationExtractor: processing 1/64/train/filtrations/6/HeightFiltrartion_1_0/gray, do_fit = True, filtration = HeightFiltration(direction=array([1, 0]), n_jobs=-1)\n",
      "Got the result from ./1/64/train/filtrations/6/HeightFiltrartion_1_0/gray/diagrams.npy\n",
      "Applying Scaler to persistence diagrams.\n",
      "DiagramVectorizer: fitting complete\n",
      "Got the result from ./1/64/train/filtrations/6/HeightFiltrartion_1_0/gray/features.npy\n",
      "FiltrationExtractor: processing 1/64/train/filtrations/6/HeightFiltrartion_1_0/gray, do_fit = False, filtration = HeightFiltration(direction=array([1, 0]), n_jobs=-1)\n",
      "Got the result from ./1/64/train/filtrations/6/HeightFiltrartion_1_0/gray/diagrams.npy\n",
      "Applying Scaler to persistence diagrams.\n",
      "Got the result from ./1/64/train/filtrations/6/HeightFiltrartion_1_0/gray/features.npy\n",
      "FiltrationExtractor: processing 1/64/train/filtrations/6/HeightFiltrartion_1_0/red, do_fit = True, filtration = HeightFiltration(direction=array([1, 0]), n_jobs=-1)\n",
      "Got the result from ./1/64/train/filtrations/6/HeightFiltrartion_1_0/red/diagrams.npy\n",
      "Applying Scaler to persistence diagrams.\n",
      "DiagramVectorizer: fitting complete\n",
      "Got the result from ./1/64/train/filtrations/6/HeightFiltrartion_1_0/red/features.npy\n",
      "FiltrationExtractor: processing 1/64/train/filtrations/6/HeightFiltrartion_1_0/red, do_fit = False, filtration = HeightFiltration(direction=array([1, 0]), n_jobs=-1)\n",
      "Got the result from ./1/64/train/filtrations/6/HeightFiltrartion_1_0/red/diagrams.npy\n",
      "Applying Scaler to persistence diagrams.\n",
      "Got the result from ./1/64/train/filtrations/6/HeightFiltrartion_1_0/red/features.npy\n",
      "FiltrationExtractor: processing 1/64/train/filtrations/6/HeightFiltrartion_1_0/green, do_fit = True, filtration = HeightFiltration(direction=array([1, 0]), n_jobs=-1)\n",
      "Got the result from ./1/64/train/filtrations/6/HeightFiltrartion_1_0/green/diagrams.npy\n",
      "Applying Scaler to persistence diagrams.\n",
      "DiagramVectorizer: fitting complete\n",
      "Got the result from ./1/64/train/filtrations/6/HeightFiltrartion_1_0/green/features.npy\n",
      "FiltrationExtractor: processing 1/64/train/filtrations/6/HeightFiltrartion_1_0/green, do_fit = False, filtration = HeightFiltration(direction=array([1, 0]), n_jobs=-1)\n",
      "Got the result from ./1/64/train/filtrations/6/HeightFiltrartion_1_0/green/diagrams.npy\n",
      "Applying Scaler to persistence diagrams.\n",
      "Got the result from ./1/64/train/filtrations/6/HeightFiltrartion_1_0/green/features.npy\n",
      "FiltrationExtractor: processing 1/64/train/filtrations/6/HeightFiltrartion_1_0/blue, do_fit = True, filtration = HeightFiltration(direction=array([1, 0]), n_jobs=-1)\n",
      "Got the result from ./1/64/train/filtrations/6/HeightFiltrartion_1_0/blue/diagrams.npy\n",
      "Applying Scaler to persistence diagrams.\n",
      "DiagramVectorizer: fitting complete\n",
      "Got the result from ./1/64/train/filtrations/6/HeightFiltrartion_1_0/blue/features.npy\n",
      "FiltrationExtractor: processing 1/64/train/filtrations/6/HeightFiltrartion_1_0/blue, do_fit = False, filtration = HeightFiltration(direction=array([1, 0]), n_jobs=-1)\n",
      "Got the result from ./1/64/train/filtrations/6/HeightFiltrartion_1_0/blue/diagrams.npy\n",
      "Applying Scaler to persistence diagrams.\n",
      "Got the result from ./1/64/train/filtrations/6/HeightFiltrartion_1_0/blue/features.npy\n",
      "Fitting filtration 56/72: HeightFiltration with d = (1, 1), bin. thr. = 0.6\n",
      "RGB images received. Transforming to grayscale.\n"
     ]
    },
    {
     "name": "stderr",
     "output_type": "stream",
     "text": [
      "rgb2gray: 100%|██████████| 9469/9469 [00:01<00:00, 5420.81it/s]\n"
     ]
    },
    {
     "name": "stdout",
     "output_type": "stream",
     "text": [
      "FiltrationExtractor: processing 1/64/train/filtrations/6/HeightFiltrartion_1_1/gray, do_fit = True, filtration = HeightFiltration(direction=array([1, 1]), n_jobs=-1)\n",
      "Got the result from ./1/64/train/filtrations/6/HeightFiltrartion_1_1/gray/diagrams.npy\n",
      "Applying Scaler to persistence diagrams.\n",
      "DiagramVectorizer: fitting complete\n",
      "Got the result from ./1/64/train/filtrations/6/HeightFiltrartion_1_1/gray/features.npy\n",
      "FiltrationExtractor: processing 1/64/train/filtrations/6/HeightFiltrartion_1_1/gray, do_fit = False, filtration = HeightFiltration(direction=array([1, 1]), n_jobs=-1)\n",
      "Got the result from ./1/64/train/filtrations/6/HeightFiltrartion_1_1/gray/diagrams.npy\n",
      "Applying Scaler to persistence diagrams.\n",
      "Got the result from ./1/64/train/filtrations/6/HeightFiltrartion_1_1/gray/features.npy\n",
      "FiltrationExtractor: processing 1/64/train/filtrations/6/HeightFiltrartion_1_1/red, do_fit = True, filtration = HeightFiltration(direction=array([1, 1]), n_jobs=-1)\n",
      "Got the result from ./1/64/train/filtrations/6/HeightFiltrartion_1_1/red/diagrams.npy\n",
      "Applying Scaler to persistence diagrams.\n",
      "DiagramVectorizer: fitting complete\n",
      "Got the result from ./1/64/train/filtrations/6/HeightFiltrartion_1_1/red/features.npy\n",
      "FiltrationExtractor: processing 1/64/train/filtrations/6/HeightFiltrartion_1_1/red, do_fit = False, filtration = HeightFiltration(direction=array([1, 1]), n_jobs=-1)\n",
      "Got the result from ./1/64/train/filtrations/6/HeightFiltrartion_1_1/red/diagrams.npy\n",
      "Applying Scaler to persistence diagrams.\n",
      "Got the result from ./1/64/train/filtrations/6/HeightFiltrartion_1_1/red/features.npy\n",
      "FiltrationExtractor: processing 1/64/train/filtrations/6/HeightFiltrartion_1_1/green, do_fit = True, filtration = HeightFiltration(direction=array([1, 1]), n_jobs=-1)\n",
      "Got the result from ./1/64/train/filtrations/6/HeightFiltrartion_1_1/green/diagrams.npy\n",
      "Applying Scaler to persistence diagrams.\n",
      "DiagramVectorizer: fitting complete\n",
      "Got the result from ./1/64/train/filtrations/6/HeightFiltrartion_1_1/green/features.npy\n",
      "FiltrationExtractor: processing 1/64/train/filtrations/6/HeightFiltrartion_1_1/green, do_fit = False, filtration = HeightFiltration(direction=array([1, 1]), n_jobs=-1)\n",
      "Got the result from ./1/64/train/filtrations/6/HeightFiltrartion_1_1/green/diagrams.npy\n",
      "Applying Scaler to persistence diagrams.\n",
      "Got the result from ./1/64/train/filtrations/6/HeightFiltrartion_1_1/green/features.npy\n",
      "FiltrationExtractor: processing 1/64/train/filtrations/6/HeightFiltrartion_1_1/blue, do_fit = True, filtration = HeightFiltration(direction=array([1, 1]), n_jobs=-1)\n",
      "Got the result from ./1/64/train/filtrations/6/HeightFiltrartion_1_1/blue/diagrams.npy\n",
      "Applying Scaler to persistence diagrams.\n",
      "DiagramVectorizer: fitting complete\n",
      "Got the result from ./1/64/train/filtrations/6/HeightFiltrartion_1_1/blue/features.npy\n",
      "FiltrationExtractor: processing 1/64/train/filtrations/6/HeightFiltrartion_1_1/blue, do_fit = False, filtration = HeightFiltration(direction=array([1, 1]), n_jobs=-1)\n",
      "Got the result from ./1/64/train/filtrations/6/HeightFiltrartion_1_1/blue/diagrams.npy\n",
      "Applying Scaler to persistence diagrams.\n",
      "Got the result from ./1/64/train/filtrations/6/HeightFiltrartion_1_1/blue/features.npy\n",
      "Fitting filtration 57/72: RadialFiltration with c = (12, 12), bin. thr. = 0.6\n",
      "RGB images received. Transforming to grayscale.\n"
     ]
    },
    {
     "name": "stderr",
     "output_type": "stream",
     "text": [
      "rgb2gray: 100%|██████████| 9469/9469 [00:01<00:00, 5450.75it/s]\n"
     ]
    },
    {
     "name": "stdout",
     "output_type": "stream",
     "text": [
      "FiltrationExtractor: processing 1/64/train/filtrations/6/RadialFiltration_12_12/gray, do_fit = True, filtration = RadialFiltration(center=array([12, 12]), n_jobs=-1)\n",
      "Got the result from ./1/64/train/filtrations/6/RadialFiltration_12_12/gray/diagrams.npy\n",
      "Applying Scaler to persistence diagrams.\n",
      "DiagramVectorizer: fitting complete\n",
      "Got the result from ./1/64/train/filtrations/6/RadialFiltration_12_12/gray/features.npy\n",
      "FiltrationExtractor: processing 1/64/train/filtrations/6/RadialFiltration_12_12/gray, do_fit = False, filtration = RadialFiltration(center=array([12, 12]), n_jobs=-1)\n",
      "Got the result from ./1/64/train/filtrations/6/RadialFiltration_12_12/gray/diagrams.npy\n",
      "Applying Scaler to persistence diagrams.\n",
      "Got the result from ./1/64/train/filtrations/6/RadialFiltration_12_12/gray/features.npy\n",
      "FiltrationExtractor: processing 1/64/train/filtrations/6/RadialFiltration_12_12/red, do_fit = True, filtration = RadialFiltration(center=array([12, 12]), n_jobs=-1)\n",
      "Got the result from ./1/64/train/filtrations/6/RadialFiltration_12_12/red/diagrams.npy\n",
      "Applying Scaler to persistence diagrams.\n",
      "DiagramVectorizer: fitting complete\n",
      "Got the result from ./1/64/train/filtrations/6/RadialFiltration_12_12/red/features.npy\n",
      "FiltrationExtractor: processing 1/64/train/filtrations/6/RadialFiltration_12_12/red, do_fit = False, filtration = RadialFiltration(center=array([12, 12]), n_jobs=-1)\n",
      "Got the result from ./1/64/train/filtrations/6/RadialFiltration_12_12/red/diagrams.npy\n",
      "Applying Scaler to persistence diagrams.\n",
      "Got the result from ./1/64/train/filtrations/6/RadialFiltration_12_12/red/features.npy\n",
      "FiltrationExtractor: processing 1/64/train/filtrations/6/RadialFiltration_12_12/green, do_fit = True, filtration = RadialFiltration(center=array([12, 12]), n_jobs=-1)\n",
      "Got the result from ./1/64/train/filtrations/6/RadialFiltration_12_12/green/diagrams.npy\n",
      "Applying Scaler to persistence diagrams.\n",
      "DiagramVectorizer: fitting complete\n",
      "Got the result from ./1/64/train/filtrations/6/RadialFiltration_12_12/green/features.npy\n",
      "FiltrationExtractor: processing 1/64/train/filtrations/6/RadialFiltration_12_12/green, do_fit = False, filtration = RadialFiltration(center=array([12, 12]), n_jobs=-1)\n",
      "Got the result from ./1/64/train/filtrations/6/RadialFiltration_12_12/green/diagrams.npy\n",
      "Applying Scaler to persistence diagrams.\n",
      "Got the result from ./1/64/train/filtrations/6/RadialFiltration_12_12/green/features.npy\n",
      "FiltrationExtractor: processing 1/64/train/filtrations/6/RadialFiltration_12_12/blue, do_fit = True, filtration = RadialFiltration(center=array([12, 12]), n_jobs=-1)\n",
      "Got the result from ./1/64/train/filtrations/6/RadialFiltration_12_12/blue/diagrams.npy\n",
      "Applying Scaler to persistence diagrams.\n",
      "DiagramVectorizer: fitting complete\n",
      "Got the result from ./1/64/train/filtrations/6/RadialFiltration_12_12/blue/features.npy\n",
      "FiltrationExtractor: processing 1/64/train/filtrations/6/RadialFiltration_12_12/blue, do_fit = False, filtration = RadialFiltration(center=array([12, 12]), n_jobs=-1)\n",
      "Got the result from ./1/64/train/filtrations/6/RadialFiltration_12_12/blue/diagrams.npy\n",
      "Applying Scaler to persistence diagrams.\n",
      "Got the result from ./1/64/train/filtrations/6/RadialFiltration_12_12/blue/features.npy\n",
      "Fitting filtration 58/72: RadialFiltration with c = (12, 25), bin. thr. = 0.6\n",
      "RGB images received. Transforming to grayscale.\n"
     ]
    },
    {
     "name": "stderr",
     "output_type": "stream",
     "text": [
      "rgb2gray: 100%|██████████| 9469/9469 [00:01<00:00, 5368.28it/s]\n"
     ]
    },
    {
     "name": "stdout",
     "output_type": "stream",
     "text": [
      "FiltrationExtractor: processing 1/64/train/filtrations/6/RadialFiltration_12_25/gray, do_fit = True, filtration = RadialFiltration(center=array([12, 25]), n_jobs=-1)\n",
      "Got the result from ./1/64/train/filtrations/6/RadialFiltration_12_25/gray/diagrams.npy\n",
      "Applying Scaler to persistence diagrams.\n",
      "DiagramVectorizer: fitting complete\n",
      "Got the result from ./1/64/train/filtrations/6/RadialFiltration_12_25/gray/features.npy\n",
      "FiltrationExtractor: processing 1/64/train/filtrations/6/RadialFiltration_12_25/gray, do_fit = False, filtration = RadialFiltration(center=array([12, 25]), n_jobs=-1)\n",
      "Got the result from ./1/64/train/filtrations/6/RadialFiltration_12_25/gray/diagrams.npy\n",
      "Applying Scaler to persistence diagrams.\n",
      "Got the result from ./1/64/train/filtrations/6/RadialFiltration_12_25/gray/features.npy\n",
      "FiltrationExtractor: processing 1/64/train/filtrations/6/RadialFiltration_12_25/red, do_fit = True, filtration = RadialFiltration(center=array([12, 25]), n_jobs=-1)\n",
      "Got the result from ./1/64/train/filtrations/6/RadialFiltration_12_25/red/diagrams.npy\n",
      "Applying Scaler to persistence diagrams.\n",
      "DiagramVectorizer: fitting complete\n",
      "Got the result from ./1/64/train/filtrations/6/RadialFiltration_12_25/red/features.npy\n",
      "FiltrationExtractor: processing 1/64/train/filtrations/6/RadialFiltration_12_25/red, do_fit = False, filtration = RadialFiltration(center=array([12, 25]), n_jobs=-1)\n",
      "Got the result from ./1/64/train/filtrations/6/RadialFiltration_12_25/red/diagrams.npy\n",
      "Applying Scaler to persistence diagrams.\n",
      "Got the result from ./1/64/train/filtrations/6/RadialFiltration_12_25/red/features.npy\n",
      "FiltrationExtractor: processing 1/64/train/filtrations/6/RadialFiltration_12_25/green, do_fit = True, filtration = RadialFiltration(center=array([12, 25]), n_jobs=-1)\n",
      "Got the result from ./1/64/train/filtrations/6/RadialFiltration_12_25/green/diagrams.npy\n",
      "Applying Scaler to persistence diagrams.\n",
      "DiagramVectorizer: fitting complete\n",
      "Got the result from ./1/64/train/filtrations/6/RadialFiltration_12_25/green/features.npy\n",
      "FiltrationExtractor: processing 1/64/train/filtrations/6/RadialFiltration_12_25/green, do_fit = False, filtration = RadialFiltration(center=array([12, 25]), n_jobs=-1)\n",
      "Got the result from ./1/64/train/filtrations/6/RadialFiltration_12_25/green/diagrams.npy\n",
      "Applying Scaler to persistence diagrams.\n",
      "Got the result from ./1/64/train/filtrations/6/RadialFiltration_12_25/green/features.npy\n",
      "FiltrationExtractor: processing 1/64/train/filtrations/6/RadialFiltration_12_25/blue, do_fit = True, filtration = RadialFiltration(center=array([12, 25]), n_jobs=-1)\n",
      "Got the result from ./1/64/train/filtrations/6/RadialFiltration_12_25/blue/diagrams.npy\n",
      "Applying Scaler to persistence diagrams.\n",
      "DiagramVectorizer: fitting complete\n",
      "Got the result from ./1/64/train/filtrations/6/RadialFiltration_12_25/blue/features.npy\n",
      "FiltrationExtractor: processing 1/64/train/filtrations/6/RadialFiltration_12_25/blue, do_fit = False, filtration = RadialFiltration(center=array([12, 25]), n_jobs=-1)\n",
      "Got the result from ./1/64/train/filtrations/6/RadialFiltration_12_25/blue/diagrams.npy\n",
      "Applying Scaler to persistence diagrams.\n",
      "Got the result from ./1/64/train/filtrations/6/RadialFiltration_12_25/blue/features.npy\n",
      "Fitting filtration 59/72: RadialFiltration with c = (12, 38), bin. thr. = 0.6\n",
      "RGB images received. Transforming to grayscale.\n"
     ]
    },
    {
     "name": "stderr",
     "output_type": "stream",
     "text": [
      "rgb2gray: 100%|██████████| 9469/9469 [00:01<00:00, 5335.03it/s]\n"
     ]
    },
    {
     "name": "stdout",
     "output_type": "stream",
     "text": [
      "FiltrationExtractor: processing 1/64/train/filtrations/6/RadialFiltration_12_38/gray, do_fit = True, filtration = RadialFiltration(center=array([12, 38]), n_jobs=-1)\n",
      "Got the result from ./1/64/train/filtrations/6/RadialFiltration_12_38/gray/diagrams.npy\n",
      "Applying Scaler to persistence diagrams.\n",
      "DiagramVectorizer: fitting complete\n",
      "Got the result from ./1/64/train/filtrations/6/RadialFiltration_12_38/gray/features.npy\n",
      "FiltrationExtractor: processing 1/64/train/filtrations/6/RadialFiltration_12_38/gray, do_fit = False, filtration = RadialFiltration(center=array([12, 38]), n_jobs=-1)\n",
      "Got the result from ./1/64/train/filtrations/6/RadialFiltration_12_38/gray/diagrams.npy\n",
      "Applying Scaler to persistence diagrams.\n",
      "Got the result from ./1/64/train/filtrations/6/RadialFiltration_12_38/gray/features.npy\n",
      "FiltrationExtractor: processing 1/64/train/filtrations/6/RadialFiltration_12_38/red, do_fit = True, filtration = RadialFiltration(center=array([12, 38]), n_jobs=-1)\n",
      "Got the result from ./1/64/train/filtrations/6/RadialFiltration_12_38/red/diagrams.npy\n",
      "Applying Scaler to persistence diagrams.\n",
      "DiagramVectorizer: fitting complete\n",
      "Got the result from ./1/64/train/filtrations/6/RadialFiltration_12_38/red/features.npy\n",
      "FiltrationExtractor: processing 1/64/train/filtrations/6/RadialFiltration_12_38/red, do_fit = False, filtration = RadialFiltration(center=array([12, 38]), n_jobs=-1)\n",
      "Got the result from ./1/64/train/filtrations/6/RadialFiltration_12_38/red/diagrams.npy\n",
      "Applying Scaler to persistence diagrams.\n",
      "Got the result from ./1/64/train/filtrations/6/RadialFiltration_12_38/red/features.npy\n",
      "FiltrationExtractor: processing 1/64/train/filtrations/6/RadialFiltration_12_38/green, do_fit = True, filtration = RadialFiltration(center=array([12, 38]), n_jobs=-1)\n",
      "Got the result from ./1/64/train/filtrations/6/RadialFiltration_12_38/green/diagrams.npy\n",
      "Applying Scaler to persistence diagrams.\n",
      "DiagramVectorizer: fitting complete\n",
      "Got the result from ./1/64/train/filtrations/6/RadialFiltration_12_38/green/features.npy\n",
      "FiltrationExtractor: processing 1/64/train/filtrations/6/RadialFiltration_12_38/green, do_fit = False, filtration = RadialFiltration(center=array([12, 38]), n_jobs=-1)\n",
      "Got the result from ./1/64/train/filtrations/6/RadialFiltration_12_38/green/diagrams.npy\n",
      "Applying Scaler to persistence diagrams.\n",
      "Got the result from ./1/64/train/filtrations/6/RadialFiltration_12_38/green/features.npy\n",
      "FiltrationExtractor: processing 1/64/train/filtrations/6/RadialFiltration_12_38/blue, do_fit = True, filtration = RadialFiltration(center=array([12, 38]), n_jobs=-1)\n",
      "Got the result from ./1/64/train/filtrations/6/RadialFiltration_12_38/blue/diagrams.npy\n",
      "Applying Scaler to persistence diagrams.\n",
      "DiagramVectorizer: fitting complete\n",
      "Got the result from ./1/64/train/filtrations/6/RadialFiltration_12_38/blue/features.npy\n",
      "FiltrationExtractor: processing 1/64/train/filtrations/6/RadialFiltration_12_38/blue, do_fit = False, filtration = RadialFiltration(center=array([12, 38]), n_jobs=-1)\n",
      "Got the result from ./1/64/train/filtrations/6/RadialFiltration_12_38/blue/diagrams.npy\n",
      "Applying Scaler to persistence diagrams.\n",
      "Got the result from ./1/64/train/filtrations/6/RadialFiltration_12_38/blue/features.npy\n",
      "Fitting filtration 60/72: RadialFiltration with c = (12, 51), bin. thr. = 0.6\n",
      "RGB images received. Transforming to grayscale.\n"
     ]
    },
    {
     "name": "stderr",
     "output_type": "stream",
     "text": [
      "rgb2gray: 100%|██████████| 9469/9469 [00:01<00:00, 5112.58it/s]\n"
     ]
    },
    {
     "name": "stdout",
     "output_type": "stream",
     "text": [
      "FiltrationExtractor: processing 1/64/train/filtrations/6/RadialFiltration_12_51/gray, do_fit = True, filtration = RadialFiltration(center=array([12, 51]), n_jobs=-1)\n",
      "Got the result from ./1/64/train/filtrations/6/RadialFiltration_12_51/gray/diagrams.npy\n",
      "Applying Scaler to persistence diagrams.\n",
      "DiagramVectorizer: fitting complete\n",
      "Got the result from ./1/64/train/filtrations/6/RadialFiltration_12_51/gray/features.npy\n",
      "FiltrationExtractor: processing 1/64/train/filtrations/6/RadialFiltration_12_51/gray, do_fit = False, filtration = RadialFiltration(center=array([12, 51]), n_jobs=-1)\n",
      "Got the result from ./1/64/train/filtrations/6/RadialFiltration_12_51/gray/diagrams.npy\n",
      "Applying Scaler to persistence diagrams.\n",
      "Got the result from ./1/64/train/filtrations/6/RadialFiltration_12_51/gray/features.npy\n",
      "FiltrationExtractor: processing 1/64/train/filtrations/6/RadialFiltration_12_51/red, do_fit = True, filtration = RadialFiltration(center=array([12, 51]), n_jobs=-1)\n",
      "Got the result from ./1/64/train/filtrations/6/RadialFiltration_12_51/red/diagrams.npy\n",
      "Applying Scaler to persistence diagrams.\n",
      "DiagramVectorizer: fitting complete\n",
      "Got the result from ./1/64/train/filtrations/6/RadialFiltration_12_51/red/features.npy\n",
      "FiltrationExtractor: processing 1/64/train/filtrations/6/RadialFiltration_12_51/red, do_fit = False, filtration = RadialFiltration(center=array([12, 51]), n_jobs=-1)\n",
      "Got the result from ./1/64/train/filtrations/6/RadialFiltration_12_51/red/diagrams.npy\n",
      "Applying Scaler to persistence diagrams.\n",
      "Got the result from ./1/64/train/filtrations/6/RadialFiltration_12_51/red/features.npy\n",
      "FiltrationExtractor: processing 1/64/train/filtrations/6/RadialFiltration_12_51/green, do_fit = True, filtration = RadialFiltration(center=array([12, 51]), n_jobs=-1)\n",
      "Got the result from ./1/64/train/filtrations/6/RadialFiltration_12_51/green/diagrams.npy\n",
      "Applying Scaler to persistence diagrams.\n",
      "DiagramVectorizer: fitting complete\n",
      "Got the result from ./1/64/train/filtrations/6/RadialFiltration_12_51/green/features.npy\n",
      "FiltrationExtractor: processing 1/64/train/filtrations/6/RadialFiltration_12_51/green, do_fit = False, filtration = RadialFiltration(center=array([12, 51]), n_jobs=-1)\n",
      "Got the result from ./1/64/train/filtrations/6/RadialFiltration_12_51/green/diagrams.npy\n",
      "Applying Scaler to persistence diagrams.\n",
      "Got the result from ./1/64/train/filtrations/6/RadialFiltration_12_51/green/features.npy\n",
      "FiltrationExtractor: processing 1/64/train/filtrations/6/RadialFiltration_12_51/blue, do_fit = True, filtration = RadialFiltration(center=array([12, 51]), n_jobs=-1)\n",
      "Got the result from ./1/64/train/filtrations/6/RadialFiltration_12_51/blue/diagrams.npy\n",
      "Applying Scaler to persistence diagrams.\n",
      "DiagramVectorizer: fitting complete\n",
      "Got the result from ./1/64/train/filtrations/6/RadialFiltration_12_51/blue/features.npy\n",
      "FiltrationExtractor: processing 1/64/train/filtrations/6/RadialFiltration_12_51/blue, do_fit = False, filtration = RadialFiltration(center=array([12, 51]), n_jobs=-1)\n",
      "Got the result from ./1/64/train/filtrations/6/RadialFiltration_12_51/blue/diagrams.npy\n",
      "Applying Scaler to persistence diagrams.\n",
      "Got the result from ./1/64/train/filtrations/6/RadialFiltration_12_51/blue/features.npy\n",
      "Fitting filtration 61/72: RadialFiltration with c = (25, 12), bin. thr. = 0.6\n",
      "RGB images received. Transforming to grayscale.\n"
     ]
    },
    {
     "name": "stderr",
     "output_type": "stream",
     "text": [
      "rgb2gray: 100%|██████████| 9469/9469 [00:01<00:00, 5354.49it/s]\n"
     ]
    },
    {
     "name": "stdout",
     "output_type": "stream",
     "text": [
      "FiltrationExtractor: processing 1/64/train/filtrations/6/RadialFiltration_25_12/gray, do_fit = True, filtration = RadialFiltration(center=array([25, 12]), n_jobs=-1)\n",
      "Got the result from ./1/64/train/filtrations/6/RadialFiltration_25_12/gray/diagrams.npy\n",
      "Applying Scaler to persistence diagrams.\n",
      "DiagramVectorizer: fitting complete\n",
      "Got the result from ./1/64/train/filtrations/6/RadialFiltration_25_12/gray/features.npy\n",
      "FiltrationExtractor: processing 1/64/train/filtrations/6/RadialFiltration_25_12/gray, do_fit = False, filtration = RadialFiltration(center=array([25, 12]), n_jobs=-1)\n",
      "Got the result from ./1/64/train/filtrations/6/RadialFiltration_25_12/gray/diagrams.npy\n",
      "Applying Scaler to persistence diagrams.\n",
      "Got the result from ./1/64/train/filtrations/6/RadialFiltration_25_12/gray/features.npy\n",
      "FiltrationExtractor: processing 1/64/train/filtrations/6/RadialFiltration_25_12/red, do_fit = True, filtration = RadialFiltration(center=array([25, 12]), n_jobs=-1)\n",
      "Got the result from ./1/64/train/filtrations/6/RadialFiltration_25_12/red/diagrams.npy\n",
      "Applying Scaler to persistence diagrams.\n",
      "DiagramVectorizer: fitting complete\n",
      "Got the result from ./1/64/train/filtrations/6/RadialFiltration_25_12/red/features.npy\n",
      "FiltrationExtractor: processing 1/64/train/filtrations/6/RadialFiltration_25_12/red, do_fit = False, filtration = RadialFiltration(center=array([25, 12]), n_jobs=-1)\n",
      "Got the result from ./1/64/train/filtrations/6/RadialFiltration_25_12/red/diagrams.npy\n",
      "Applying Scaler to persistence diagrams.\n",
      "Got the result from ./1/64/train/filtrations/6/RadialFiltration_25_12/red/features.npy\n",
      "FiltrationExtractor: processing 1/64/train/filtrations/6/RadialFiltration_25_12/green, do_fit = True, filtration = RadialFiltration(center=array([25, 12]), n_jobs=-1)\n",
      "Got the result from ./1/64/train/filtrations/6/RadialFiltration_25_12/green/diagrams.npy\n",
      "Applying Scaler to persistence diagrams.\n",
      "DiagramVectorizer: fitting complete\n",
      "Got the result from ./1/64/train/filtrations/6/RadialFiltration_25_12/green/features.npy\n",
      "FiltrationExtractor: processing 1/64/train/filtrations/6/RadialFiltration_25_12/green, do_fit = False, filtration = RadialFiltration(center=array([25, 12]), n_jobs=-1)\n",
      "Got the result from ./1/64/train/filtrations/6/RadialFiltration_25_12/green/diagrams.npy\n",
      "Applying Scaler to persistence diagrams.\n",
      "Got the result from ./1/64/train/filtrations/6/RadialFiltration_25_12/green/features.npy\n",
      "FiltrationExtractor: processing 1/64/train/filtrations/6/RadialFiltration_25_12/blue, do_fit = True, filtration = RadialFiltration(center=array([25, 12]), n_jobs=-1)\n",
      "Got the result from ./1/64/train/filtrations/6/RadialFiltration_25_12/blue/diagrams.npy\n",
      "Applying Scaler to persistence diagrams.\n",
      "DiagramVectorizer: fitting complete\n",
      "Got the result from ./1/64/train/filtrations/6/RadialFiltration_25_12/blue/features.npy\n",
      "FiltrationExtractor: processing 1/64/train/filtrations/6/RadialFiltration_25_12/blue, do_fit = False, filtration = RadialFiltration(center=array([25, 12]), n_jobs=-1)\n",
      "Got the result from ./1/64/train/filtrations/6/RadialFiltration_25_12/blue/diagrams.npy\n",
      "Applying Scaler to persistence diagrams.\n",
      "Got the result from ./1/64/train/filtrations/6/RadialFiltration_25_12/blue/features.npy\n",
      "Fitting filtration 62/72: RadialFiltration with c = (25, 25), bin. thr. = 0.6\n",
      "RGB images received. Transforming to grayscale.\n"
     ]
    },
    {
     "name": "stderr",
     "output_type": "stream",
     "text": [
      "rgb2gray: 100%|██████████| 9469/9469 [00:01<00:00, 5388.19it/s]\n"
     ]
    },
    {
     "name": "stdout",
     "output_type": "stream",
     "text": [
      "FiltrationExtractor: processing 1/64/train/filtrations/6/RadialFiltration_25_25/gray, do_fit = True, filtration = RadialFiltration(center=array([25, 25]), n_jobs=-1)\n",
      "Got the result from ./1/64/train/filtrations/6/RadialFiltration_25_25/gray/diagrams.npy\n",
      "Applying Scaler to persistence diagrams.\n",
      "DiagramVectorizer: fitting complete\n",
      "Got the result from ./1/64/train/filtrations/6/RadialFiltration_25_25/gray/features.npy\n",
      "FiltrationExtractor: processing 1/64/train/filtrations/6/RadialFiltration_25_25/gray, do_fit = False, filtration = RadialFiltration(center=array([25, 25]), n_jobs=-1)\n",
      "Got the result from ./1/64/train/filtrations/6/RadialFiltration_25_25/gray/diagrams.npy\n",
      "Applying Scaler to persistence diagrams.\n",
      "Got the result from ./1/64/train/filtrations/6/RadialFiltration_25_25/gray/features.npy\n",
      "FiltrationExtractor: processing 1/64/train/filtrations/6/RadialFiltration_25_25/red, do_fit = True, filtration = RadialFiltration(center=array([25, 25]), n_jobs=-1)\n",
      "Got the result from ./1/64/train/filtrations/6/RadialFiltration_25_25/red/diagrams.npy\n",
      "Applying Scaler to persistence diagrams.\n",
      "DiagramVectorizer: fitting complete\n",
      "Got the result from ./1/64/train/filtrations/6/RadialFiltration_25_25/red/features.npy\n",
      "FiltrationExtractor: processing 1/64/train/filtrations/6/RadialFiltration_25_25/red, do_fit = False, filtration = RadialFiltration(center=array([25, 25]), n_jobs=-1)\n",
      "Got the result from ./1/64/train/filtrations/6/RadialFiltration_25_25/red/diagrams.npy\n",
      "Applying Scaler to persistence diagrams.\n",
      "Got the result from ./1/64/train/filtrations/6/RadialFiltration_25_25/red/features.npy\n",
      "FiltrationExtractor: processing 1/64/train/filtrations/6/RadialFiltration_25_25/green, do_fit = True, filtration = RadialFiltration(center=array([25, 25]), n_jobs=-1)\n",
      "Got the result from ./1/64/train/filtrations/6/RadialFiltration_25_25/green/diagrams.npy\n",
      "Applying Scaler to persistence diagrams.\n",
      "DiagramVectorizer: fitting complete\n",
      "Got the result from ./1/64/train/filtrations/6/RadialFiltration_25_25/green/features.npy\n",
      "FiltrationExtractor: processing 1/64/train/filtrations/6/RadialFiltration_25_25/green, do_fit = False, filtration = RadialFiltration(center=array([25, 25]), n_jobs=-1)\n",
      "Got the result from ./1/64/train/filtrations/6/RadialFiltration_25_25/green/diagrams.npy\n",
      "Applying Scaler to persistence diagrams.\n",
      "Got the result from ./1/64/train/filtrations/6/RadialFiltration_25_25/green/features.npy\n",
      "FiltrationExtractor: processing 1/64/train/filtrations/6/RadialFiltration_25_25/blue, do_fit = True, filtration = RadialFiltration(center=array([25, 25]), n_jobs=-1)\n",
      "Got the result from ./1/64/train/filtrations/6/RadialFiltration_25_25/blue/diagrams.npy\n",
      "Applying Scaler to persistence diagrams.\n",
      "DiagramVectorizer: fitting complete\n",
      "Got the result from ./1/64/train/filtrations/6/RadialFiltration_25_25/blue/features.npy\n",
      "FiltrationExtractor: processing 1/64/train/filtrations/6/RadialFiltration_25_25/blue, do_fit = False, filtration = RadialFiltration(center=array([25, 25]), n_jobs=-1)\n",
      "Got the result from ./1/64/train/filtrations/6/RadialFiltration_25_25/blue/diagrams.npy\n",
      "Applying Scaler to persistence diagrams.\n",
      "Got the result from ./1/64/train/filtrations/6/RadialFiltration_25_25/blue/features.npy\n",
      "Fitting filtration 63/72: RadialFiltration with c = (25, 38), bin. thr. = 0.6\n",
      "RGB images received. Transforming to grayscale.\n"
     ]
    },
    {
     "name": "stderr",
     "output_type": "stream",
     "text": [
      "rgb2gray: 100%|██████████| 9469/9469 [00:01<00:00, 5422.80it/s]\n"
     ]
    },
    {
     "name": "stdout",
     "output_type": "stream",
     "text": [
      "FiltrationExtractor: processing 1/64/train/filtrations/6/RadialFiltration_25_38/gray, do_fit = True, filtration = RadialFiltration(center=array([25, 38]), n_jobs=-1)\n",
      "Got the result from ./1/64/train/filtrations/6/RadialFiltration_25_38/gray/diagrams.npy\n",
      "Applying Scaler to persistence diagrams.\n",
      "DiagramVectorizer: fitting complete\n",
      "Got the result from ./1/64/train/filtrations/6/RadialFiltration_25_38/gray/features.npy\n",
      "FiltrationExtractor: processing 1/64/train/filtrations/6/RadialFiltration_25_38/gray, do_fit = False, filtration = RadialFiltration(center=array([25, 38]), n_jobs=-1)\n",
      "Got the result from ./1/64/train/filtrations/6/RadialFiltration_25_38/gray/diagrams.npy\n",
      "Applying Scaler to persistence diagrams.\n",
      "Got the result from ./1/64/train/filtrations/6/RadialFiltration_25_38/gray/features.npy\n",
      "FiltrationExtractor: processing 1/64/train/filtrations/6/RadialFiltration_25_38/red, do_fit = True, filtration = RadialFiltration(center=array([25, 38]), n_jobs=-1)\n",
      "Got the result from ./1/64/train/filtrations/6/RadialFiltration_25_38/red/diagrams.npy\n",
      "Applying Scaler to persistence diagrams.\n",
      "DiagramVectorizer: fitting complete\n",
      "Got the result from ./1/64/train/filtrations/6/RadialFiltration_25_38/red/features.npy\n",
      "FiltrationExtractor: processing 1/64/train/filtrations/6/RadialFiltration_25_38/red, do_fit = False, filtration = RadialFiltration(center=array([25, 38]), n_jobs=-1)\n",
      "Got the result from ./1/64/train/filtrations/6/RadialFiltration_25_38/red/diagrams.npy\n",
      "Applying Scaler to persistence diagrams.\n",
      "Got the result from ./1/64/train/filtrations/6/RadialFiltration_25_38/red/features.npy\n",
      "FiltrationExtractor: processing 1/64/train/filtrations/6/RadialFiltration_25_38/green, do_fit = True, filtration = RadialFiltration(center=array([25, 38]), n_jobs=-1)\n",
      "Got the result from ./1/64/train/filtrations/6/RadialFiltration_25_38/green/diagrams.npy\n",
      "Applying Scaler to persistence diagrams.\n",
      "DiagramVectorizer: fitting complete\n",
      "Got the result from ./1/64/train/filtrations/6/RadialFiltration_25_38/green/features.npy\n",
      "FiltrationExtractor: processing 1/64/train/filtrations/6/RadialFiltration_25_38/green, do_fit = False, filtration = RadialFiltration(center=array([25, 38]), n_jobs=-1)\n",
      "Got the result from ./1/64/train/filtrations/6/RadialFiltration_25_38/green/diagrams.npy\n",
      "Applying Scaler to persistence diagrams.\n",
      "Got the result from ./1/64/train/filtrations/6/RadialFiltration_25_38/green/features.npy\n",
      "FiltrationExtractor: processing 1/64/train/filtrations/6/RadialFiltration_25_38/blue, do_fit = True, filtration = RadialFiltration(center=array([25, 38]), n_jobs=-1)\n",
      "Got the result from ./1/64/train/filtrations/6/RadialFiltration_25_38/blue/diagrams.npy\n",
      "Applying Scaler to persistence diagrams.\n",
      "DiagramVectorizer: fitting complete\n",
      "Got the result from ./1/64/train/filtrations/6/RadialFiltration_25_38/blue/features.npy\n",
      "FiltrationExtractor: processing 1/64/train/filtrations/6/RadialFiltration_25_38/blue, do_fit = False, filtration = RadialFiltration(center=array([25, 38]), n_jobs=-1)\n",
      "Got the result from ./1/64/train/filtrations/6/RadialFiltration_25_38/blue/diagrams.npy\n",
      "Applying Scaler to persistence diagrams.\n",
      "Got the result from ./1/64/train/filtrations/6/RadialFiltration_25_38/blue/features.npy\n",
      "Fitting filtration 64/72: RadialFiltration with c = (25, 51), bin. thr. = 0.6\n",
      "RGB images received. Transforming to grayscale.\n"
     ]
    },
    {
     "name": "stderr",
     "output_type": "stream",
     "text": [
      "rgb2gray: 100%|██████████| 9469/9469 [00:01<00:00, 5180.33it/s]\n"
     ]
    },
    {
     "name": "stdout",
     "output_type": "stream",
     "text": [
      "FiltrationExtractor: processing 1/64/train/filtrations/6/RadialFiltration_25_51/gray, do_fit = True, filtration = RadialFiltration(center=array([25, 51]), n_jobs=-1)\n",
      "Got the result from ./1/64/train/filtrations/6/RadialFiltration_25_51/gray/diagrams.npy\n",
      "Applying Scaler to persistence diagrams.\n",
      "DiagramVectorizer: fitting complete\n",
      "Got the result from ./1/64/train/filtrations/6/RadialFiltration_25_51/gray/features.npy\n",
      "FiltrationExtractor: processing 1/64/train/filtrations/6/RadialFiltration_25_51/gray, do_fit = False, filtration = RadialFiltration(center=array([25, 51]), n_jobs=-1)\n",
      "Got the result from ./1/64/train/filtrations/6/RadialFiltration_25_51/gray/diagrams.npy\n",
      "Applying Scaler to persistence diagrams.\n",
      "Got the result from ./1/64/train/filtrations/6/RadialFiltration_25_51/gray/features.npy\n",
      "FiltrationExtractor: processing 1/64/train/filtrations/6/RadialFiltration_25_51/red, do_fit = True, filtration = RadialFiltration(center=array([25, 51]), n_jobs=-1)\n",
      "Got the result from ./1/64/train/filtrations/6/RadialFiltration_25_51/red/diagrams.npy\n",
      "Applying Scaler to persistence diagrams.\n",
      "DiagramVectorizer: fitting complete\n",
      "Got the result from ./1/64/train/filtrations/6/RadialFiltration_25_51/red/features.npy\n",
      "FiltrationExtractor: processing 1/64/train/filtrations/6/RadialFiltration_25_51/red, do_fit = False, filtration = RadialFiltration(center=array([25, 51]), n_jobs=-1)\n",
      "Got the result from ./1/64/train/filtrations/6/RadialFiltration_25_51/red/diagrams.npy\n",
      "Applying Scaler to persistence diagrams.\n",
      "Got the result from ./1/64/train/filtrations/6/RadialFiltration_25_51/red/features.npy\n",
      "FiltrationExtractor: processing 1/64/train/filtrations/6/RadialFiltration_25_51/green, do_fit = True, filtration = RadialFiltration(center=array([25, 51]), n_jobs=-1)\n",
      "Got the result from ./1/64/train/filtrations/6/RadialFiltration_25_51/green/diagrams.npy\n",
      "Applying Scaler to persistence diagrams.\n",
      "DiagramVectorizer: fitting complete\n",
      "Got the result from ./1/64/train/filtrations/6/RadialFiltration_25_51/green/features.npy\n",
      "FiltrationExtractor: processing 1/64/train/filtrations/6/RadialFiltration_25_51/green, do_fit = False, filtration = RadialFiltration(center=array([25, 51]), n_jobs=-1)\n",
      "Got the result from ./1/64/train/filtrations/6/RadialFiltration_25_51/green/diagrams.npy\n",
      "Applying Scaler to persistence diagrams.\n",
      "Got the result from ./1/64/train/filtrations/6/RadialFiltration_25_51/green/features.npy\n",
      "FiltrationExtractor: processing 1/64/train/filtrations/6/RadialFiltration_25_51/blue, do_fit = True, filtration = RadialFiltration(center=array([25, 51]), n_jobs=-1)\n",
      "Got the result from ./1/64/train/filtrations/6/RadialFiltration_25_51/blue/diagrams.npy\n",
      "Applying Scaler to persistence diagrams.\n",
      "DiagramVectorizer: fitting complete\n",
      "Got the result from ./1/64/train/filtrations/6/RadialFiltration_25_51/blue/features.npy\n",
      "FiltrationExtractor: processing 1/64/train/filtrations/6/RadialFiltration_25_51/blue, do_fit = False, filtration = RadialFiltration(center=array([25, 51]), n_jobs=-1)\n",
      "Got the result from ./1/64/train/filtrations/6/RadialFiltration_25_51/blue/diagrams.npy\n",
      "Applying Scaler to persistence diagrams.\n",
      "Got the result from ./1/64/train/filtrations/6/RadialFiltration_25_51/blue/features.npy\n",
      "Fitting filtration 65/72: RadialFiltration with c = (38, 12), bin. thr. = 0.6\n",
      "RGB images received. Transforming to grayscale.\n"
     ]
    },
    {
     "name": "stderr",
     "output_type": "stream",
     "text": [
      "rgb2gray: 100%|██████████| 9469/9469 [00:01<00:00, 5100.99it/s]\n"
     ]
    },
    {
     "name": "stdout",
     "output_type": "stream",
     "text": [
      "FiltrationExtractor: processing 1/64/train/filtrations/6/RadialFiltration_38_12/gray, do_fit = True, filtration = RadialFiltration(center=array([38, 12]), n_jobs=-1)\n",
      "Got the result from ./1/64/train/filtrations/6/RadialFiltration_38_12/gray/diagrams.npy\n",
      "Applying Scaler to persistence diagrams.\n",
      "DiagramVectorizer: fitting complete\n",
      "Got the result from ./1/64/train/filtrations/6/RadialFiltration_38_12/gray/features.npy\n",
      "FiltrationExtractor: processing 1/64/train/filtrations/6/RadialFiltration_38_12/gray, do_fit = False, filtration = RadialFiltration(center=array([38, 12]), n_jobs=-1)\n",
      "Got the result from ./1/64/train/filtrations/6/RadialFiltration_38_12/gray/diagrams.npy\n",
      "Applying Scaler to persistence diagrams.\n",
      "Got the result from ./1/64/train/filtrations/6/RadialFiltration_38_12/gray/features.npy\n",
      "FiltrationExtractor: processing 1/64/train/filtrations/6/RadialFiltration_38_12/red, do_fit = True, filtration = RadialFiltration(center=array([38, 12]), n_jobs=-1)\n",
      "Got the result from ./1/64/train/filtrations/6/RadialFiltration_38_12/red/diagrams.npy\n",
      "Applying Scaler to persistence diagrams.\n",
      "DiagramVectorizer: fitting complete\n",
      "Got the result from ./1/64/train/filtrations/6/RadialFiltration_38_12/red/features.npy\n",
      "FiltrationExtractor: processing 1/64/train/filtrations/6/RadialFiltration_38_12/red, do_fit = False, filtration = RadialFiltration(center=array([38, 12]), n_jobs=-1)\n",
      "Got the result from ./1/64/train/filtrations/6/RadialFiltration_38_12/red/diagrams.npy\n",
      "Applying Scaler to persistence diagrams.\n",
      "Got the result from ./1/64/train/filtrations/6/RadialFiltration_38_12/red/features.npy\n",
      "FiltrationExtractor: processing 1/64/train/filtrations/6/RadialFiltration_38_12/green, do_fit = True, filtration = RadialFiltration(center=array([38, 12]), n_jobs=-1)\n",
      "Got the result from ./1/64/train/filtrations/6/RadialFiltration_38_12/green/diagrams.npy\n",
      "Applying Scaler to persistence diagrams.\n",
      "DiagramVectorizer: fitting complete\n",
      "Got the result from ./1/64/train/filtrations/6/RadialFiltration_38_12/green/features.npy\n",
      "FiltrationExtractor: processing 1/64/train/filtrations/6/RadialFiltration_38_12/green, do_fit = False, filtration = RadialFiltration(center=array([38, 12]), n_jobs=-1)\n",
      "Got the result from ./1/64/train/filtrations/6/RadialFiltration_38_12/green/diagrams.npy\n",
      "Applying Scaler to persistence diagrams.\n",
      "Got the result from ./1/64/train/filtrations/6/RadialFiltration_38_12/green/features.npy\n",
      "FiltrationExtractor: processing 1/64/train/filtrations/6/RadialFiltration_38_12/blue, do_fit = True, filtration = RadialFiltration(center=array([38, 12]), n_jobs=-1)\n",
      "Got the result from ./1/64/train/filtrations/6/RadialFiltration_38_12/blue/diagrams.npy\n",
      "Applying Scaler to persistence diagrams.\n",
      "DiagramVectorizer: fitting complete\n",
      "Got the result from ./1/64/train/filtrations/6/RadialFiltration_38_12/blue/features.npy\n",
      "FiltrationExtractor: processing 1/64/train/filtrations/6/RadialFiltration_38_12/blue, do_fit = False, filtration = RadialFiltration(center=array([38, 12]), n_jobs=-1)\n",
      "Got the result from ./1/64/train/filtrations/6/RadialFiltration_38_12/blue/diagrams.npy\n",
      "Applying Scaler to persistence diagrams.\n",
      "Got the result from ./1/64/train/filtrations/6/RadialFiltration_38_12/blue/features.npy\n",
      "Fitting filtration 66/72: RadialFiltration with c = (38, 25), bin. thr. = 0.6\n",
      "RGB images received. Transforming to grayscale.\n"
     ]
    },
    {
     "name": "stderr",
     "output_type": "stream",
     "text": [
      "rgb2gray: 100%|██████████| 9469/9469 [00:01<00:00, 5505.51it/s]\n"
     ]
    },
    {
     "name": "stdout",
     "output_type": "stream",
     "text": [
      "FiltrationExtractor: processing 1/64/train/filtrations/6/RadialFiltration_38_25/gray, do_fit = True, filtration = RadialFiltration(center=array([38, 25]), n_jobs=-1)\n",
      "Got the result from ./1/64/train/filtrations/6/RadialFiltration_38_25/gray/diagrams.npy\n",
      "Applying Scaler to persistence diagrams.\n",
      "DiagramVectorizer: fitting complete\n",
      "Got the result from ./1/64/train/filtrations/6/RadialFiltration_38_25/gray/features.npy\n",
      "FiltrationExtractor: processing 1/64/train/filtrations/6/RadialFiltration_38_25/gray, do_fit = False, filtration = RadialFiltration(center=array([38, 25]), n_jobs=-1)\n",
      "Got the result from ./1/64/train/filtrations/6/RadialFiltration_38_25/gray/diagrams.npy\n",
      "Applying Scaler to persistence diagrams.\n",
      "Got the result from ./1/64/train/filtrations/6/RadialFiltration_38_25/gray/features.npy\n",
      "FiltrationExtractor: processing 1/64/train/filtrations/6/RadialFiltration_38_25/red, do_fit = True, filtration = RadialFiltration(center=array([38, 25]), n_jobs=-1)\n",
      "Got the result from ./1/64/train/filtrations/6/RadialFiltration_38_25/red/diagrams.npy\n",
      "Applying Scaler to persistence diagrams.\n",
      "DiagramVectorizer: fitting complete\n",
      "Got the result from ./1/64/train/filtrations/6/RadialFiltration_38_25/red/features.npy\n",
      "FiltrationExtractor: processing 1/64/train/filtrations/6/RadialFiltration_38_25/red, do_fit = False, filtration = RadialFiltration(center=array([38, 25]), n_jobs=-1)\n",
      "Got the result from ./1/64/train/filtrations/6/RadialFiltration_38_25/red/diagrams.npy\n",
      "Applying Scaler to persistence diagrams.\n",
      "Got the result from ./1/64/train/filtrations/6/RadialFiltration_38_25/red/features.npy\n",
      "FiltrationExtractor: processing 1/64/train/filtrations/6/RadialFiltration_38_25/green, do_fit = True, filtration = RadialFiltration(center=array([38, 25]), n_jobs=-1)\n",
      "Got the result from ./1/64/train/filtrations/6/RadialFiltration_38_25/green/diagrams.npy\n",
      "Applying Scaler to persistence diagrams.\n",
      "DiagramVectorizer: fitting complete\n",
      "Got the result from ./1/64/train/filtrations/6/RadialFiltration_38_25/green/features.npy\n",
      "FiltrationExtractor: processing 1/64/train/filtrations/6/RadialFiltration_38_25/green, do_fit = False, filtration = RadialFiltration(center=array([38, 25]), n_jobs=-1)\n",
      "Got the result from ./1/64/train/filtrations/6/RadialFiltration_38_25/green/diagrams.npy\n",
      "Applying Scaler to persistence diagrams.\n",
      "Got the result from ./1/64/train/filtrations/6/RadialFiltration_38_25/green/features.npy\n",
      "FiltrationExtractor: processing 1/64/train/filtrations/6/RadialFiltration_38_25/blue, do_fit = True, filtration = RadialFiltration(center=array([38, 25]), n_jobs=-1)\n",
      "Got the result from ./1/64/train/filtrations/6/RadialFiltration_38_25/blue/diagrams.npy\n",
      "Applying Scaler to persistence diagrams.\n",
      "DiagramVectorizer: fitting complete\n",
      "Got the result from ./1/64/train/filtrations/6/RadialFiltration_38_25/blue/features.npy\n",
      "FiltrationExtractor: processing 1/64/train/filtrations/6/RadialFiltration_38_25/blue, do_fit = False, filtration = RadialFiltration(center=array([38, 25]), n_jobs=-1)\n",
      "Got the result from ./1/64/train/filtrations/6/RadialFiltration_38_25/blue/diagrams.npy\n",
      "Applying Scaler to persistence diagrams.\n",
      "Got the result from ./1/64/train/filtrations/6/RadialFiltration_38_25/blue/features.npy\n",
      "Fitting filtration 67/72: RadialFiltration with c = (38, 38), bin. thr. = 0.6\n",
      "RGB images received. Transforming to grayscale.\n"
     ]
    },
    {
     "name": "stderr",
     "output_type": "stream",
     "text": [
      "rgb2gray: 100%|██████████| 9469/9469 [00:01<00:00, 5321.18it/s]\n"
     ]
    },
    {
     "name": "stdout",
     "output_type": "stream",
     "text": [
      "FiltrationExtractor: processing 1/64/train/filtrations/6/RadialFiltration_38_38/gray, do_fit = True, filtration = RadialFiltration(center=array([38, 38]), n_jobs=-1)\n",
      "Got the result from ./1/64/train/filtrations/6/RadialFiltration_38_38/gray/diagrams.npy\n",
      "Applying Scaler to persistence diagrams.\n",
      "DiagramVectorizer: fitting complete\n",
      "Got the result from ./1/64/train/filtrations/6/RadialFiltration_38_38/gray/features.npy\n",
      "FiltrationExtractor: processing 1/64/train/filtrations/6/RadialFiltration_38_38/gray, do_fit = False, filtration = RadialFiltration(center=array([38, 38]), n_jobs=-1)\n",
      "Got the result from ./1/64/train/filtrations/6/RadialFiltration_38_38/gray/diagrams.npy\n",
      "Applying Scaler to persistence diagrams.\n",
      "Got the result from ./1/64/train/filtrations/6/RadialFiltration_38_38/gray/features.npy\n",
      "FiltrationExtractor: processing 1/64/train/filtrations/6/RadialFiltration_38_38/red, do_fit = True, filtration = RadialFiltration(center=array([38, 38]), n_jobs=-1)\n",
      "Got the result from ./1/64/train/filtrations/6/RadialFiltration_38_38/red/diagrams.npy\n",
      "Applying Scaler to persistence diagrams.\n",
      "DiagramVectorizer: fitting complete\n",
      "Got the result from ./1/64/train/filtrations/6/RadialFiltration_38_38/red/features.npy\n",
      "FiltrationExtractor: processing 1/64/train/filtrations/6/RadialFiltration_38_38/red, do_fit = False, filtration = RadialFiltration(center=array([38, 38]), n_jobs=-1)\n",
      "Got the result from ./1/64/train/filtrations/6/RadialFiltration_38_38/red/diagrams.npy\n",
      "Applying Scaler to persistence diagrams.\n",
      "Got the result from ./1/64/train/filtrations/6/RadialFiltration_38_38/red/features.npy\n",
      "FiltrationExtractor: processing 1/64/train/filtrations/6/RadialFiltration_38_38/green, do_fit = True, filtration = RadialFiltration(center=array([38, 38]), n_jobs=-1)\n",
      "Got the result from ./1/64/train/filtrations/6/RadialFiltration_38_38/green/diagrams.npy\n",
      "Applying Scaler to persistence diagrams.\n",
      "DiagramVectorizer: fitting complete\n",
      "Got the result from ./1/64/train/filtrations/6/RadialFiltration_38_38/green/features.npy\n",
      "FiltrationExtractor: processing 1/64/train/filtrations/6/RadialFiltration_38_38/green, do_fit = False, filtration = RadialFiltration(center=array([38, 38]), n_jobs=-1)\n",
      "Got the result from ./1/64/train/filtrations/6/RadialFiltration_38_38/green/diagrams.npy\n",
      "Applying Scaler to persistence diagrams.\n",
      "Got the result from ./1/64/train/filtrations/6/RadialFiltration_38_38/green/features.npy\n",
      "FiltrationExtractor: processing 1/64/train/filtrations/6/RadialFiltration_38_38/blue, do_fit = True, filtration = RadialFiltration(center=array([38, 38]), n_jobs=-1)\n",
      "Got the result from ./1/64/train/filtrations/6/RadialFiltration_38_38/blue/diagrams.npy\n",
      "Applying Scaler to persistence diagrams.\n",
      "DiagramVectorizer: fitting complete\n",
      "Got the result from ./1/64/train/filtrations/6/RadialFiltration_38_38/blue/features.npy\n",
      "FiltrationExtractor: processing 1/64/train/filtrations/6/RadialFiltration_38_38/blue, do_fit = False, filtration = RadialFiltration(center=array([38, 38]), n_jobs=-1)\n",
      "Got the result from ./1/64/train/filtrations/6/RadialFiltration_38_38/blue/diagrams.npy\n",
      "Applying Scaler to persistence diagrams.\n",
      "Got the result from ./1/64/train/filtrations/6/RadialFiltration_38_38/blue/features.npy\n",
      "Fitting filtration 68/72: RadialFiltration with c = (38, 51), bin. thr. = 0.6\n",
      "RGB images received. Transforming to grayscale.\n"
     ]
    },
    {
     "name": "stderr",
     "output_type": "stream",
     "text": [
      "rgb2gray: 100%|██████████| 9469/9469 [00:01<00:00, 5488.43it/s]\n"
     ]
    },
    {
     "name": "stdout",
     "output_type": "stream",
     "text": [
      "FiltrationExtractor: processing 1/64/train/filtrations/6/RadialFiltration_38_51/gray, do_fit = True, filtration = RadialFiltration(center=array([38, 51]), n_jobs=-1)\n",
      "Got the result from ./1/64/train/filtrations/6/RadialFiltration_38_51/gray/diagrams.npy\n",
      "Applying Scaler to persistence diagrams.\n",
      "DiagramVectorizer: fitting complete\n",
      "Got the result from ./1/64/train/filtrations/6/RadialFiltration_38_51/gray/features.npy\n",
      "FiltrationExtractor: processing 1/64/train/filtrations/6/RadialFiltration_38_51/gray, do_fit = False, filtration = RadialFiltration(center=array([38, 51]), n_jobs=-1)\n",
      "Got the result from ./1/64/train/filtrations/6/RadialFiltration_38_51/gray/diagrams.npy\n",
      "Applying Scaler to persistence diagrams.\n",
      "Got the result from ./1/64/train/filtrations/6/RadialFiltration_38_51/gray/features.npy\n",
      "FiltrationExtractor: processing 1/64/train/filtrations/6/RadialFiltration_38_51/red, do_fit = True, filtration = RadialFiltration(center=array([38, 51]), n_jobs=-1)\n",
      "Got the result from ./1/64/train/filtrations/6/RadialFiltration_38_51/red/diagrams.npy\n",
      "Applying Scaler to persistence diagrams.\n",
      "DiagramVectorizer: fitting complete\n",
      "Got the result from ./1/64/train/filtrations/6/RadialFiltration_38_51/red/features.npy\n",
      "FiltrationExtractor: processing 1/64/train/filtrations/6/RadialFiltration_38_51/red, do_fit = False, filtration = RadialFiltration(center=array([38, 51]), n_jobs=-1)\n",
      "Got the result from ./1/64/train/filtrations/6/RadialFiltration_38_51/red/diagrams.npy\n",
      "Applying Scaler to persistence diagrams.\n",
      "Got the result from ./1/64/train/filtrations/6/RadialFiltration_38_51/red/features.npy\n",
      "FiltrationExtractor: processing 1/64/train/filtrations/6/RadialFiltration_38_51/green, do_fit = True, filtration = RadialFiltration(center=array([38, 51]), n_jobs=-1)\n",
      "Got the result from ./1/64/train/filtrations/6/RadialFiltration_38_51/green/diagrams.npy\n",
      "Applying Scaler to persistence diagrams.\n",
      "DiagramVectorizer: fitting complete\n",
      "Got the result from ./1/64/train/filtrations/6/RadialFiltration_38_51/green/features.npy\n",
      "FiltrationExtractor: processing 1/64/train/filtrations/6/RadialFiltration_38_51/green, do_fit = False, filtration = RadialFiltration(center=array([38, 51]), n_jobs=-1)\n",
      "Got the result from ./1/64/train/filtrations/6/RadialFiltration_38_51/green/diagrams.npy\n",
      "Applying Scaler to persistence diagrams.\n",
      "Got the result from ./1/64/train/filtrations/6/RadialFiltration_38_51/green/features.npy\n",
      "FiltrationExtractor: processing 1/64/train/filtrations/6/RadialFiltration_38_51/blue, do_fit = True, filtration = RadialFiltration(center=array([38, 51]), n_jobs=-1)\n",
      "Got the result from ./1/64/train/filtrations/6/RadialFiltration_38_51/blue/diagrams.npy\n",
      "Applying Scaler to persistence diagrams.\n",
      "DiagramVectorizer: fitting complete\n",
      "Got the result from ./1/64/train/filtrations/6/RadialFiltration_38_51/blue/features.npy\n",
      "FiltrationExtractor: processing 1/64/train/filtrations/6/RadialFiltration_38_51/blue, do_fit = False, filtration = RadialFiltration(center=array([38, 51]), n_jobs=-1)\n",
      "Got the result from ./1/64/train/filtrations/6/RadialFiltration_38_51/blue/diagrams.npy\n",
      "Applying Scaler to persistence diagrams.\n",
      "Got the result from ./1/64/train/filtrations/6/RadialFiltration_38_51/blue/features.npy\n",
      "Fitting filtration 69/72: RadialFiltration with c = (51, 12), bin. thr. = 0.6\n",
      "RGB images received. Transforming to grayscale.\n"
     ]
    },
    {
     "name": "stderr",
     "output_type": "stream",
     "text": [
      "rgb2gray: 100%|██████████| 9469/9469 [00:01<00:00, 5373.03it/s]\n"
     ]
    },
    {
     "name": "stdout",
     "output_type": "stream",
     "text": [
      "FiltrationExtractor: processing 1/64/train/filtrations/6/RadialFiltration_51_12/gray, do_fit = True, filtration = RadialFiltration(center=array([51, 12]), n_jobs=-1)\n",
      "Got the result from ./1/64/train/filtrations/6/RadialFiltration_51_12/gray/diagrams.npy\n",
      "Applying Scaler to persistence diagrams.\n",
      "DiagramVectorizer: fitting complete\n",
      "Got the result from ./1/64/train/filtrations/6/RadialFiltration_51_12/gray/features.npy\n",
      "FiltrationExtractor: processing 1/64/train/filtrations/6/RadialFiltration_51_12/gray, do_fit = False, filtration = RadialFiltration(center=array([51, 12]), n_jobs=-1)\n",
      "Got the result from ./1/64/train/filtrations/6/RadialFiltration_51_12/gray/diagrams.npy\n",
      "Applying Scaler to persistence diagrams.\n",
      "Got the result from ./1/64/train/filtrations/6/RadialFiltration_51_12/gray/features.npy\n",
      "FiltrationExtractor: processing 1/64/train/filtrations/6/RadialFiltration_51_12/red, do_fit = True, filtration = RadialFiltration(center=array([51, 12]), n_jobs=-1)\n",
      "Got the result from ./1/64/train/filtrations/6/RadialFiltration_51_12/red/diagrams.npy\n",
      "Applying Scaler to persistence diagrams.\n",
      "DiagramVectorizer: fitting complete\n",
      "Got the result from ./1/64/train/filtrations/6/RadialFiltration_51_12/red/features.npy\n",
      "FiltrationExtractor: processing 1/64/train/filtrations/6/RadialFiltration_51_12/red, do_fit = False, filtration = RadialFiltration(center=array([51, 12]), n_jobs=-1)\n",
      "Got the result from ./1/64/train/filtrations/6/RadialFiltration_51_12/red/diagrams.npy\n",
      "Applying Scaler to persistence diagrams.\n",
      "Got the result from ./1/64/train/filtrations/6/RadialFiltration_51_12/red/features.npy\n",
      "FiltrationExtractor: processing 1/64/train/filtrations/6/RadialFiltration_51_12/green, do_fit = True, filtration = RadialFiltration(center=array([51, 12]), n_jobs=-1)\n",
      "Got the result from ./1/64/train/filtrations/6/RadialFiltration_51_12/green/diagrams.npy\n",
      "Applying Scaler to persistence diagrams.\n",
      "DiagramVectorizer: fitting complete\n",
      "Got the result from ./1/64/train/filtrations/6/RadialFiltration_51_12/green/features.npy\n",
      "FiltrationExtractor: processing 1/64/train/filtrations/6/RadialFiltration_51_12/green, do_fit = False, filtration = RadialFiltration(center=array([51, 12]), n_jobs=-1)\n",
      "Got the result from ./1/64/train/filtrations/6/RadialFiltration_51_12/green/diagrams.npy\n",
      "Applying Scaler to persistence diagrams.\n",
      "Got the result from ./1/64/train/filtrations/6/RadialFiltration_51_12/green/features.npy\n",
      "FiltrationExtractor: processing 1/64/train/filtrations/6/RadialFiltration_51_12/blue, do_fit = True, filtration = RadialFiltration(center=array([51, 12]), n_jobs=-1)\n",
      "Got the result from ./1/64/train/filtrations/6/RadialFiltration_51_12/blue/diagrams.npy\n",
      "Applying Scaler to persistence diagrams.\n",
      "DiagramVectorizer: fitting complete\n",
      "Got the result from ./1/64/train/filtrations/6/RadialFiltration_51_12/blue/features.npy\n",
      "FiltrationExtractor: processing 1/64/train/filtrations/6/RadialFiltration_51_12/blue, do_fit = False, filtration = RadialFiltration(center=array([51, 12]), n_jobs=-1)\n",
      "Got the result from ./1/64/train/filtrations/6/RadialFiltration_51_12/blue/diagrams.npy\n",
      "Applying Scaler to persistence diagrams.\n",
      "Got the result from ./1/64/train/filtrations/6/RadialFiltration_51_12/blue/features.npy\n",
      "Fitting filtration 70/72: RadialFiltration with c = (51, 25), bin. thr. = 0.6\n",
      "RGB images received. Transforming to grayscale.\n"
     ]
    },
    {
     "name": "stderr",
     "output_type": "stream",
     "text": [
      "rgb2gray: 100%|██████████| 9469/9469 [00:01<00:00, 5175.77it/s]\n"
     ]
    },
    {
     "name": "stdout",
     "output_type": "stream",
     "text": [
      "FiltrationExtractor: processing 1/64/train/filtrations/6/RadialFiltration_51_25/gray, do_fit = True, filtration = RadialFiltration(center=array([51, 25]), n_jobs=-1)\n",
      "Got the result from ./1/64/train/filtrations/6/RadialFiltration_51_25/gray/diagrams.npy\n",
      "Applying Scaler to persistence diagrams.\n",
      "DiagramVectorizer: fitting complete\n",
      "Got the result from ./1/64/train/filtrations/6/RadialFiltration_51_25/gray/features.npy\n",
      "FiltrationExtractor: processing 1/64/train/filtrations/6/RadialFiltration_51_25/gray, do_fit = False, filtration = RadialFiltration(center=array([51, 25]), n_jobs=-1)\n",
      "Got the result from ./1/64/train/filtrations/6/RadialFiltration_51_25/gray/diagrams.npy\n",
      "Applying Scaler to persistence diagrams.\n",
      "Got the result from ./1/64/train/filtrations/6/RadialFiltration_51_25/gray/features.npy\n",
      "FiltrationExtractor: processing 1/64/train/filtrations/6/RadialFiltration_51_25/red, do_fit = True, filtration = RadialFiltration(center=array([51, 25]), n_jobs=-1)\n",
      "Got the result from ./1/64/train/filtrations/6/RadialFiltration_51_25/red/diagrams.npy\n",
      "Applying Scaler to persistence diagrams.\n",
      "DiagramVectorizer: fitting complete\n",
      "Got the result from ./1/64/train/filtrations/6/RadialFiltration_51_25/red/features.npy\n",
      "FiltrationExtractor: processing 1/64/train/filtrations/6/RadialFiltration_51_25/red, do_fit = False, filtration = RadialFiltration(center=array([51, 25]), n_jobs=-1)\n",
      "Got the result from ./1/64/train/filtrations/6/RadialFiltration_51_25/red/diagrams.npy\n",
      "Applying Scaler to persistence diagrams.\n",
      "Got the result from ./1/64/train/filtrations/6/RadialFiltration_51_25/red/features.npy\n",
      "FiltrationExtractor: processing 1/64/train/filtrations/6/RadialFiltration_51_25/green, do_fit = True, filtration = RadialFiltration(center=array([51, 25]), n_jobs=-1)\n",
      "Got the result from ./1/64/train/filtrations/6/RadialFiltration_51_25/green/diagrams.npy\n",
      "Applying Scaler to persistence diagrams.\n",
      "DiagramVectorizer: fitting complete\n",
      "Got the result from ./1/64/train/filtrations/6/RadialFiltration_51_25/green/features.npy\n",
      "FiltrationExtractor: processing 1/64/train/filtrations/6/RadialFiltration_51_25/green, do_fit = False, filtration = RadialFiltration(center=array([51, 25]), n_jobs=-1)\n",
      "Got the result from ./1/64/train/filtrations/6/RadialFiltration_51_25/green/diagrams.npy\n",
      "Applying Scaler to persistence diagrams.\n",
      "Got the result from ./1/64/train/filtrations/6/RadialFiltration_51_25/green/features.npy\n",
      "FiltrationExtractor: processing 1/64/train/filtrations/6/RadialFiltration_51_25/blue, do_fit = True, filtration = RadialFiltration(center=array([51, 25]), n_jobs=-1)\n",
      "Got the result from ./1/64/train/filtrations/6/RadialFiltration_51_25/blue/diagrams.npy\n",
      "Applying Scaler to persistence diagrams.\n",
      "DiagramVectorizer: fitting complete\n",
      "Got the result from ./1/64/train/filtrations/6/RadialFiltration_51_25/blue/features.npy\n",
      "FiltrationExtractor: processing 1/64/train/filtrations/6/RadialFiltration_51_25/blue, do_fit = False, filtration = RadialFiltration(center=array([51, 25]), n_jobs=-1)\n",
      "Got the result from ./1/64/train/filtrations/6/RadialFiltration_51_25/blue/diagrams.npy\n",
      "Applying Scaler to persistence diagrams.\n",
      "Got the result from ./1/64/train/filtrations/6/RadialFiltration_51_25/blue/features.npy\n",
      "Fitting filtration 71/72: RadialFiltration with c = (51, 38), bin. thr. = 0.6\n",
      "RGB images received. Transforming to grayscale.\n"
     ]
    },
    {
     "name": "stderr",
     "output_type": "stream",
     "text": [
      "rgb2gray: 100%|██████████| 9469/9469 [00:01<00:00, 5458.52it/s]\n"
     ]
    },
    {
     "name": "stdout",
     "output_type": "stream",
     "text": [
      "FiltrationExtractor: processing 1/64/train/filtrations/6/RadialFiltration_51_38/gray, do_fit = True, filtration = RadialFiltration(center=array([51, 38]), n_jobs=-1)\n",
      "Got the result from ./1/64/train/filtrations/6/RadialFiltration_51_38/gray/diagrams.npy\n",
      "Applying Scaler to persistence diagrams.\n",
      "DiagramVectorizer: fitting complete\n",
      "Got the result from ./1/64/train/filtrations/6/RadialFiltration_51_38/gray/features.npy\n",
      "FiltrationExtractor: processing 1/64/train/filtrations/6/RadialFiltration_51_38/gray, do_fit = False, filtration = RadialFiltration(center=array([51, 38]), n_jobs=-1)\n",
      "Got the result from ./1/64/train/filtrations/6/RadialFiltration_51_38/gray/diagrams.npy\n",
      "Applying Scaler to persistence diagrams.\n",
      "Got the result from ./1/64/train/filtrations/6/RadialFiltration_51_38/gray/features.npy\n",
      "FiltrationExtractor: processing 1/64/train/filtrations/6/RadialFiltration_51_38/red, do_fit = True, filtration = RadialFiltration(center=array([51, 38]), n_jobs=-1)\n",
      "Got the result from ./1/64/train/filtrations/6/RadialFiltration_51_38/red/diagrams.npy\n",
      "Applying Scaler to persistence diagrams.\n",
      "DiagramVectorizer: fitting complete\n",
      "Got the result from ./1/64/train/filtrations/6/RadialFiltration_51_38/red/features.npy\n",
      "FiltrationExtractor: processing 1/64/train/filtrations/6/RadialFiltration_51_38/red, do_fit = False, filtration = RadialFiltration(center=array([51, 38]), n_jobs=-1)\n",
      "Got the result from ./1/64/train/filtrations/6/RadialFiltration_51_38/red/diagrams.npy\n",
      "Applying Scaler to persistence diagrams.\n",
      "Got the result from ./1/64/train/filtrations/6/RadialFiltration_51_38/red/features.npy\n",
      "FiltrationExtractor: processing 1/64/train/filtrations/6/RadialFiltration_51_38/green, do_fit = True, filtration = RadialFiltration(center=array([51, 38]), n_jobs=-1)\n",
      "Got the result from ./1/64/train/filtrations/6/RadialFiltration_51_38/green/diagrams.npy\n",
      "Applying Scaler to persistence diagrams.\n",
      "DiagramVectorizer: fitting complete\n",
      "Got the result from ./1/64/train/filtrations/6/RadialFiltration_51_38/green/features.npy\n",
      "FiltrationExtractor: processing 1/64/train/filtrations/6/RadialFiltration_51_38/green, do_fit = False, filtration = RadialFiltration(center=array([51, 38]), n_jobs=-1)\n",
      "Got the result from ./1/64/train/filtrations/6/RadialFiltration_51_38/green/diagrams.npy\n",
      "Applying Scaler to persistence diagrams.\n",
      "Got the result from ./1/64/train/filtrations/6/RadialFiltration_51_38/green/features.npy\n",
      "FiltrationExtractor: processing 1/64/train/filtrations/6/RadialFiltration_51_38/blue, do_fit = True, filtration = RadialFiltration(center=array([51, 38]), n_jobs=-1)\n",
      "Got the result from ./1/64/train/filtrations/6/RadialFiltration_51_38/blue/diagrams.npy\n",
      "Applying Scaler to persistence diagrams.\n",
      "DiagramVectorizer: fitting complete\n",
      "Got the result from ./1/64/train/filtrations/6/RadialFiltration_51_38/blue/features.npy\n",
      "FiltrationExtractor: processing 1/64/train/filtrations/6/RadialFiltration_51_38/blue, do_fit = False, filtration = RadialFiltration(center=array([51, 38]), n_jobs=-1)\n",
      "Got the result from ./1/64/train/filtrations/6/RadialFiltration_51_38/blue/diagrams.npy\n",
      "Applying Scaler to persistence diagrams.\n",
      "Got the result from ./1/64/train/filtrations/6/RadialFiltration_51_38/blue/features.npy\n",
      "Fitting filtration 72/72: RadialFiltration with c = (51, 51), bin. thr. = 0.6\n",
      "RGB images received. Transforming to grayscale.\n"
     ]
    },
    {
     "name": "stderr",
     "output_type": "stream",
     "text": [
      "rgb2gray: 100%|██████████| 9469/9469 [00:01<00:00, 5467.14it/s]\n"
     ]
    },
    {
     "name": "stdout",
     "output_type": "stream",
     "text": [
      "FiltrationExtractor: processing 1/64/train/filtrations/6/RadialFiltration_51_51/gray, do_fit = True, filtration = RadialFiltration(center=array([51, 51]), n_jobs=-1)\n",
      "Got the result from ./1/64/train/filtrations/6/RadialFiltration_51_51/gray/diagrams.npy\n",
      "Applying Scaler to persistence diagrams.\n",
      "DiagramVectorizer: fitting complete\n",
      "Got the result from ./1/64/train/filtrations/6/RadialFiltration_51_51/gray/features.npy\n",
      "FiltrationExtractor: processing 1/64/train/filtrations/6/RadialFiltration_51_51/gray, do_fit = False, filtration = RadialFiltration(center=array([51, 51]), n_jobs=-1)\n",
      "Got the result from ./1/64/train/filtrations/6/RadialFiltration_51_51/gray/diagrams.npy\n",
      "Applying Scaler to persistence diagrams.\n",
      "Got the result from ./1/64/train/filtrations/6/RadialFiltration_51_51/gray/features.npy\n",
      "FiltrationExtractor: processing 1/64/train/filtrations/6/RadialFiltration_51_51/red, do_fit = True, filtration = RadialFiltration(center=array([51, 51]), n_jobs=-1)\n",
      "Got the result from ./1/64/train/filtrations/6/RadialFiltration_51_51/red/diagrams.npy\n",
      "Applying Scaler to persistence diagrams.\n",
      "DiagramVectorizer: fitting complete\n",
      "Got the result from ./1/64/train/filtrations/6/RadialFiltration_51_51/red/features.npy\n",
      "FiltrationExtractor: processing 1/64/train/filtrations/6/RadialFiltration_51_51/red, do_fit = False, filtration = RadialFiltration(center=array([51, 51]), n_jobs=-1)\n",
      "Got the result from ./1/64/train/filtrations/6/RadialFiltration_51_51/red/diagrams.npy\n",
      "Applying Scaler to persistence diagrams.\n",
      "Got the result from ./1/64/train/filtrations/6/RadialFiltration_51_51/red/features.npy\n",
      "FiltrationExtractor: processing 1/64/train/filtrations/6/RadialFiltration_51_51/green, do_fit = True, filtration = RadialFiltration(center=array([51, 51]), n_jobs=-1)\n",
      "Got the result from ./1/64/train/filtrations/6/RadialFiltration_51_51/green/diagrams.npy\n",
      "Applying Scaler to persistence diagrams.\n",
      "DiagramVectorizer: fitting complete\n",
      "Got the result from ./1/64/train/filtrations/6/RadialFiltration_51_51/green/features.npy\n",
      "FiltrationExtractor: processing 1/64/train/filtrations/6/RadialFiltration_51_51/green, do_fit = False, filtration = RadialFiltration(center=array([51, 51]), n_jobs=-1)\n",
      "Got the result from ./1/64/train/filtrations/6/RadialFiltration_51_51/green/diagrams.npy\n",
      "Applying Scaler to persistence diagrams.\n",
      "Got the result from ./1/64/train/filtrations/6/RadialFiltration_51_51/green/features.npy\n",
      "FiltrationExtractor: processing 1/64/train/filtrations/6/RadialFiltration_51_51/blue, do_fit = True, filtration = RadialFiltration(center=array([51, 51]), n_jobs=-1)\n",
      "Got the result from ./1/64/train/filtrations/6/RadialFiltration_51_51/blue/diagrams.npy\n",
      "Applying Scaler to persistence diagrams.\n",
      "DiagramVectorizer: fitting complete\n",
      "Got the result from ./1/64/train/filtrations/6/RadialFiltration_51_51/blue/features.npy\n",
      "FiltrationExtractor: processing 1/64/train/filtrations/6/RadialFiltration_51_51/blue, do_fit = False, filtration = RadialFiltration(center=array([51, 51]), n_jobs=-1)\n",
      "Got the result from ./1/64/train/filtrations/6/RadialFiltration_51_51/blue/diagrams.npy\n",
      "Applying Scaler to persistence diagrams.\n",
      "Got the result from ./1/64/train/filtrations/6/RadialFiltration_51_51/blue/features.npy\n",
      "Applying filtrations\n",
      "Applying filtration 1/72: HeightFiltration with d = (-1, -1), bin. thr. = 0.2\n",
      "RGB images received. Transforming to grayscale.\n"
     ]
    },
    {
     "name": "stderr",
     "output_type": "stream",
     "text": [
      "rgb2gray: 100%|██████████| 9469/9469 [00:01<00:00, 5290.89it/s]\n"
     ]
    },
    {
     "name": "stdout",
     "output_type": "stream",
     "text": [
      "FiltrationExtractor: processing 1/64/train/filtrations/2/HeightFiltrartion_-1_-1/gray, do_fit = False, filtration = HeightFiltration(direction=array([-1, -1]), n_jobs=-1)\n",
      "Got the result from ./1/64/train/filtrations/2/HeightFiltrartion_-1_-1/gray/diagrams.npy\n",
      "Applying Scaler to persistence diagrams.\n",
      "Got the result from ./1/64/train/filtrations/2/HeightFiltrartion_-1_-1/gray/features.npy\n",
      "FiltrationExtractor: processing 1/64/train/filtrations/2/HeightFiltrartion_-1_-1/red, do_fit = False, filtration = HeightFiltration(direction=array([-1, -1]), n_jobs=-1)\n",
      "Got the result from ./1/64/train/filtrations/2/HeightFiltrartion_-1_-1/red/diagrams.npy\n",
      "Applying Scaler to persistence diagrams.\n",
      "Got the result from ./1/64/train/filtrations/2/HeightFiltrartion_-1_-1/red/features.npy\n",
      "FiltrationExtractor: processing 1/64/train/filtrations/2/HeightFiltrartion_-1_-1/green, do_fit = False, filtration = HeightFiltration(direction=array([-1, -1]), n_jobs=-1)\n",
      "Got the result from ./1/64/train/filtrations/2/HeightFiltrartion_-1_-1/green/diagrams.npy\n",
      "Applying Scaler to persistence diagrams.\n",
      "Got the result from ./1/64/train/filtrations/2/HeightFiltrartion_-1_-1/green/features.npy\n",
      "FiltrationExtractor: processing 1/64/train/filtrations/2/HeightFiltrartion_-1_-1/blue, do_fit = False, filtration = HeightFiltration(direction=array([-1, -1]), n_jobs=-1)\n",
      "Got the result from ./1/64/train/filtrations/2/HeightFiltrartion_-1_-1/blue/diagrams.npy\n",
      "Applying Scaler to persistence diagrams.\n",
      "Got the result from ./1/64/train/filtrations/2/HeightFiltrartion_-1_-1/blue/features.npy\n",
      "Applying filtration 2/72: HeightFiltration with d = (-1, 0), bin. thr. = 0.2\n",
      "RGB images received. Transforming to grayscale.\n"
     ]
    },
    {
     "name": "stderr",
     "output_type": "stream",
     "text": [
      "rgb2gray: 100%|██████████| 9469/9469 [00:01<00:00, 5576.03it/s]\n"
     ]
    },
    {
     "name": "stdout",
     "output_type": "stream",
     "text": [
      "FiltrationExtractor: processing 1/64/train/filtrations/2/HeightFiltrartion_-1_0/gray, do_fit = False, filtration = HeightFiltration(direction=array([-1,  0]), n_jobs=-1)\n",
      "Got the result from ./1/64/train/filtrations/2/HeightFiltrartion_-1_0/gray/diagrams.npy\n",
      "Applying Scaler to persistence diagrams.\n",
      "Got the result from ./1/64/train/filtrations/2/HeightFiltrartion_-1_0/gray/features.npy\n",
      "FiltrationExtractor: processing 1/64/train/filtrations/2/HeightFiltrartion_-1_0/red, do_fit = False, filtration = HeightFiltration(direction=array([-1,  0]), n_jobs=-1)\n",
      "Got the result from ./1/64/train/filtrations/2/HeightFiltrartion_-1_0/red/diagrams.npy\n",
      "Applying Scaler to persistence diagrams.\n",
      "Got the result from ./1/64/train/filtrations/2/HeightFiltrartion_-1_0/red/features.npy\n",
      "FiltrationExtractor: processing 1/64/train/filtrations/2/HeightFiltrartion_-1_0/green, do_fit = False, filtration = HeightFiltration(direction=array([-1,  0]), n_jobs=-1)\n",
      "Got the result from ./1/64/train/filtrations/2/HeightFiltrartion_-1_0/green/diagrams.npy\n",
      "Applying Scaler to persistence diagrams.\n",
      "Got the result from ./1/64/train/filtrations/2/HeightFiltrartion_-1_0/green/features.npy\n",
      "FiltrationExtractor: processing 1/64/train/filtrations/2/HeightFiltrartion_-1_0/blue, do_fit = False, filtration = HeightFiltration(direction=array([-1,  0]), n_jobs=-1)\n",
      "Got the result from ./1/64/train/filtrations/2/HeightFiltrartion_-1_0/blue/diagrams.npy\n",
      "Applying Scaler to persistence diagrams.\n",
      "Got the result from ./1/64/train/filtrations/2/HeightFiltrartion_-1_0/blue/features.npy\n",
      "Applying filtration 3/72: HeightFiltration with d = (-1, 1), bin. thr. = 0.2\n",
      "RGB images received. Transforming to grayscale.\n"
     ]
    },
    {
     "name": "stderr",
     "output_type": "stream",
     "text": [
      "rgb2gray: 100%|██████████| 9469/9469 [00:01<00:00, 5190.92it/s]\n"
     ]
    },
    {
     "name": "stdout",
     "output_type": "stream",
     "text": [
      "FiltrationExtractor: processing 1/64/train/filtrations/2/HeightFiltrartion_-1_1/gray, do_fit = False, filtration = HeightFiltration(direction=array([-1,  1]), n_jobs=-1)\n",
      "Got the result from ./1/64/train/filtrations/2/HeightFiltrartion_-1_1/gray/diagrams.npy\n",
      "Applying Scaler to persistence diagrams.\n",
      "Got the result from ./1/64/train/filtrations/2/HeightFiltrartion_-1_1/gray/features.npy\n",
      "FiltrationExtractor: processing 1/64/train/filtrations/2/HeightFiltrartion_-1_1/red, do_fit = False, filtration = HeightFiltration(direction=array([-1,  1]), n_jobs=-1)\n",
      "Got the result from ./1/64/train/filtrations/2/HeightFiltrartion_-1_1/red/diagrams.npy\n",
      "Applying Scaler to persistence diagrams.\n",
      "Got the result from ./1/64/train/filtrations/2/HeightFiltrartion_-1_1/red/features.npy\n",
      "FiltrationExtractor: processing 1/64/train/filtrations/2/HeightFiltrartion_-1_1/green, do_fit = False, filtration = HeightFiltration(direction=array([-1,  1]), n_jobs=-1)\n",
      "Got the result from ./1/64/train/filtrations/2/HeightFiltrartion_-1_1/green/diagrams.npy\n",
      "Applying Scaler to persistence diagrams.\n",
      "Got the result from ./1/64/train/filtrations/2/HeightFiltrartion_-1_1/green/features.npy\n",
      "FiltrationExtractor: processing 1/64/train/filtrations/2/HeightFiltrartion_-1_1/blue, do_fit = False, filtration = HeightFiltration(direction=array([-1,  1]), n_jobs=-1)\n",
      "Got the result from ./1/64/train/filtrations/2/HeightFiltrartion_-1_1/blue/diagrams.npy\n",
      "Applying Scaler to persistence diagrams.\n",
      "Got the result from ./1/64/train/filtrations/2/HeightFiltrartion_-1_1/blue/features.npy\n",
      "Applying filtration 4/72: HeightFiltration with d = (0, -1), bin. thr. = 0.2\n",
      "RGB images received. Transforming to grayscale.\n"
     ]
    },
    {
     "name": "stderr",
     "output_type": "stream",
     "text": [
      "rgb2gray: 100%|██████████| 9469/9469 [00:01<00:00, 5271.78it/s]\n"
     ]
    },
    {
     "name": "stdout",
     "output_type": "stream",
     "text": [
      "FiltrationExtractor: processing 1/64/train/filtrations/2/HeightFiltrartion_0_-1/gray, do_fit = False, filtration = HeightFiltration(direction=array([ 0, -1]), n_jobs=-1)\n",
      "Got the result from ./1/64/train/filtrations/2/HeightFiltrartion_0_-1/gray/diagrams.npy\n",
      "Applying Scaler to persistence diagrams.\n",
      "Got the result from ./1/64/train/filtrations/2/HeightFiltrartion_0_-1/gray/features.npy\n",
      "FiltrationExtractor: processing 1/64/train/filtrations/2/HeightFiltrartion_0_-1/red, do_fit = False, filtration = HeightFiltration(direction=array([ 0, -1]), n_jobs=-1)\n",
      "Got the result from ./1/64/train/filtrations/2/HeightFiltrartion_0_-1/red/diagrams.npy\n",
      "Applying Scaler to persistence diagrams.\n",
      "Got the result from ./1/64/train/filtrations/2/HeightFiltrartion_0_-1/red/features.npy\n",
      "FiltrationExtractor: processing 1/64/train/filtrations/2/HeightFiltrartion_0_-1/green, do_fit = False, filtration = HeightFiltration(direction=array([ 0, -1]), n_jobs=-1)\n",
      "Got the result from ./1/64/train/filtrations/2/HeightFiltrartion_0_-1/green/diagrams.npy\n",
      "Applying Scaler to persistence diagrams.\n",
      "Got the result from ./1/64/train/filtrations/2/HeightFiltrartion_0_-1/green/features.npy\n",
      "FiltrationExtractor: processing 1/64/train/filtrations/2/HeightFiltrartion_0_-1/blue, do_fit = False, filtration = HeightFiltration(direction=array([ 0, -1]), n_jobs=-1)\n",
      "Got the result from ./1/64/train/filtrations/2/HeightFiltrartion_0_-1/blue/diagrams.npy\n",
      "Applying Scaler to persistence diagrams.\n",
      "Got the result from ./1/64/train/filtrations/2/HeightFiltrartion_0_-1/blue/features.npy\n",
      "Applying filtration 5/72: HeightFiltration with d = (0, 1), bin. thr. = 0.2\n",
      "RGB images received. Transforming to grayscale.\n"
     ]
    },
    {
     "name": "stderr",
     "output_type": "stream",
     "text": [
      "rgb2gray: 100%|██████████| 9469/9469 [00:01<00:00, 5564.98it/s]\n"
     ]
    },
    {
     "name": "stdout",
     "output_type": "stream",
     "text": [
      "FiltrationExtractor: processing 1/64/train/filtrations/2/HeightFiltrartion_0_1/gray, do_fit = False, filtration = HeightFiltration(direction=array([0, 1]), n_jobs=-1)\n",
      "Got the result from ./1/64/train/filtrations/2/HeightFiltrartion_0_1/gray/diagrams.npy\n",
      "Applying Scaler to persistence diagrams.\n",
      "Got the result from ./1/64/train/filtrations/2/HeightFiltrartion_0_1/gray/features.npy\n",
      "FiltrationExtractor: processing 1/64/train/filtrations/2/HeightFiltrartion_0_1/red, do_fit = False, filtration = HeightFiltration(direction=array([0, 1]), n_jobs=-1)\n",
      "Got the result from ./1/64/train/filtrations/2/HeightFiltrartion_0_1/red/diagrams.npy\n",
      "Applying Scaler to persistence diagrams.\n",
      "Got the result from ./1/64/train/filtrations/2/HeightFiltrartion_0_1/red/features.npy\n",
      "FiltrationExtractor: processing 1/64/train/filtrations/2/HeightFiltrartion_0_1/green, do_fit = False, filtration = HeightFiltration(direction=array([0, 1]), n_jobs=-1)\n",
      "Got the result from ./1/64/train/filtrations/2/HeightFiltrartion_0_1/green/diagrams.npy\n",
      "Applying Scaler to persistence diagrams.\n",
      "Got the result from ./1/64/train/filtrations/2/HeightFiltrartion_0_1/green/features.npy\n",
      "FiltrationExtractor: processing 1/64/train/filtrations/2/HeightFiltrartion_0_1/blue, do_fit = False, filtration = HeightFiltration(direction=array([0, 1]), n_jobs=-1)\n",
      "Got the result from ./1/64/train/filtrations/2/HeightFiltrartion_0_1/blue/diagrams.npy\n",
      "Applying Scaler to persistence diagrams.\n",
      "Got the result from ./1/64/train/filtrations/2/HeightFiltrartion_0_1/blue/features.npy\n",
      "Applying filtration 6/72: HeightFiltration with d = (1, -1), bin. thr. = 0.2\n",
      "RGB images received. Transforming to grayscale.\n"
     ]
    },
    {
     "name": "stderr",
     "output_type": "stream",
     "text": [
      "rgb2gray: 100%|██████████| 9469/9469 [00:01<00:00, 5473.71it/s]\n"
     ]
    },
    {
     "name": "stdout",
     "output_type": "stream",
     "text": [
      "FiltrationExtractor: processing 1/64/train/filtrations/2/HeightFiltrartion_1_-1/gray, do_fit = False, filtration = HeightFiltration(direction=array([ 1, -1]), n_jobs=-1)\n",
      "Got the result from ./1/64/train/filtrations/2/HeightFiltrartion_1_-1/gray/diagrams.npy\n",
      "Applying Scaler to persistence diagrams.\n",
      "Got the result from ./1/64/train/filtrations/2/HeightFiltrartion_1_-1/gray/features.npy\n",
      "FiltrationExtractor: processing 1/64/train/filtrations/2/HeightFiltrartion_1_-1/red, do_fit = False, filtration = HeightFiltration(direction=array([ 1, -1]), n_jobs=-1)\n",
      "Got the result from ./1/64/train/filtrations/2/HeightFiltrartion_1_-1/red/diagrams.npy\n",
      "Applying Scaler to persistence diagrams.\n",
      "Got the result from ./1/64/train/filtrations/2/HeightFiltrartion_1_-1/red/features.npy\n",
      "FiltrationExtractor: processing 1/64/train/filtrations/2/HeightFiltrartion_1_-1/green, do_fit = False, filtration = HeightFiltration(direction=array([ 1, -1]), n_jobs=-1)\n",
      "Got the result from ./1/64/train/filtrations/2/HeightFiltrartion_1_-1/green/diagrams.npy\n",
      "Applying Scaler to persistence diagrams.\n",
      "Got the result from ./1/64/train/filtrations/2/HeightFiltrartion_1_-1/green/features.npy\n",
      "FiltrationExtractor: processing 1/64/train/filtrations/2/HeightFiltrartion_1_-1/blue, do_fit = False, filtration = HeightFiltration(direction=array([ 1, -1]), n_jobs=-1)\n",
      "Got the result from ./1/64/train/filtrations/2/HeightFiltrartion_1_-1/blue/diagrams.npy\n",
      "Applying Scaler to persistence diagrams.\n",
      "Got the result from ./1/64/train/filtrations/2/HeightFiltrartion_1_-1/blue/features.npy\n",
      "Applying filtration 7/72: HeightFiltration with d = (1, 0), bin. thr. = 0.2\n",
      "RGB images received. Transforming to grayscale.\n"
     ]
    },
    {
     "name": "stderr",
     "output_type": "stream",
     "text": [
      "rgb2gray: 100%|██████████| 9469/9469 [00:01<00:00, 5424.87it/s]\n"
     ]
    },
    {
     "name": "stdout",
     "output_type": "stream",
     "text": [
      "FiltrationExtractor: processing 1/64/train/filtrations/2/HeightFiltrartion_1_0/gray, do_fit = False, filtration = HeightFiltration(direction=array([1, 0]), n_jobs=-1)\n",
      "Got the result from ./1/64/train/filtrations/2/HeightFiltrartion_1_0/gray/diagrams.npy\n",
      "Applying Scaler to persistence diagrams.\n",
      "Got the result from ./1/64/train/filtrations/2/HeightFiltrartion_1_0/gray/features.npy\n",
      "FiltrationExtractor: processing 1/64/train/filtrations/2/HeightFiltrartion_1_0/red, do_fit = False, filtration = HeightFiltration(direction=array([1, 0]), n_jobs=-1)\n",
      "Got the result from ./1/64/train/filtrations/2/HeightFiltrartion_1_0/red/diagrams.npy\n",
      "Applying Scaler to persistence diagrams.\n",
      "Got the result from ./1/64/train/filtrations/2/HeightFiltrartion_1_0/red/features.npy\n",
      "FiltrationExtractor: processing 1/64/train/filtrations/2/HeightFiltrartion_1_0/green, do_fit = False, filtration = HeightFiltration(direction=array([1, 0]), n_jobs=-1)\n",
      "Got the result from ./1/64/train/filtrations/2/HeightFiltrartion_1_0/green/diagrams.npy\n",
      "Applying Scaler to persistence diagrams.\n",
      "Got the result from ./1/64/train/filtrations/2/HeightFiltrartion_1_0/green/features.npy\n",
      "FiltrationExtractor: processing 1/64/train/filtrations/2/HeightFiltrartion_1_0/blue, do_fit = False, filtration = HeightFiltration(direction=array([1, 0]), n_jobs=-1)\n",
      "Got the result from ./1/64/train/filtrations/2/HeightFiltrartion_1_0/blue/diagrams.npy\n",
      "Applying Scaler to persistence diagrams.\n",
      "Got the result from ./1/64/train/filtrations/2/HeightFiltrartion_1_0/blue/features.npy\n",
      "Applying filtration 8/72: HeightFiltration with d = (1, 1), bin. thr. = 0.2\n",
      "RGB images received. Transforming to grayscale.\n"
     ]
    },
    {
     "name": "stderr",
     "output_type": "stream",
     "text": [
      "rgb2gray: 100%|██████████| 9469/9469 [00:01<00:00, 5009.94it/s]\n"
     ]
    },
    {
     "name": "stdout",
     "output_type": "stream",
     "text": [
      "FiltrationExtractor: processing 1/64/train/filtrations/2/HeightFiltrartion_1_1/gray, do_fit = False, filtration = HeightFiltration(direction=array([1, 1]), n_jobs=-1)\n",
      "Got the result from ./1/64/train/filtrations/2/HeightFiltrartion_1_1/gray/diagrams.npy\n",
      "Applying Scaler to persistence diagrams.\n",
      "Got the result from ./1/64/train/filtrations/2/HeightFiltrartion_1_1/gray/features.npy\n",
      "FiltrationExtractor: processing 1/64/train/filtrations/2/HeightFiltrartion_1_1/red, do_fit = False, filtration = HeightFiltration(direction=array([1, 1]), n_jobs=-1)\n",
      "Got the result from ./1/64/train/filtrations/2/HeightFiltrartion_1_1/red/diagrams.npy\n",
      "Applying Scaler to persistence diagrams.\n",
      "Got the result from ./1/64/train/filtrations/2/HeightFiltrartion_1_1/red/features.npy\n",
      "FiltrationExtractor: processing 1/64/train/filtrations/2/HeightFiltrartion_1_1/green, do_fit = False, filtration = HeightFiltration(direction=array([1, 1]), n_jobs=-1)\n",
      "Got the result from ./1/64/train/filtrations/2/HeightFiltrartion_1_1/green/diagrams.npy\n",
      "Applying Scaler to persistence diagrams.\n",
      "Got the result from ./1/64/train/filtrations/2/HeightFiltrartion_1_1/green/features.npy\n",
      "FiltrationExtractor: processing 1/64/train/filtrations/2/HeightFiltrartion_1_1/blue, do_fit = False, filtration = HeightFiltration(direction=array([1, 1]), n_jobs=-1)\n",
      "Got the result from ./1/64/train/filtrations/2/HeightFiltrartion_1_1/blue/diagrams.npy\n",
      "Applying Scaler to persistence diagrams.\n",
      "Got the result from ./1/64/train/filtrations/2/HeightFiltrartion_1_1/blue/features.npy\n",
      "Applying filtration 9/72: RadialFiltration with c = (12, 12), bin. thr. = 0.2\n",
      "RGB images received. Transforming to grayscale.\n"
     ]
    },
    {
     "name": "stderr",
     "output_type": "stream",
     "text": [
      "rgb2gray: 100%|██████████| 9469/9469 [00:01<00:00, 5367.39it/s]\n"
     ]
    },
    {
     "name": "stdout",
     "output_type": "stream",
     "text": [
      "FiltrationExtractor: processing 1/64/train/filtrations/2/RadialFiltration_12_12/gray, do_fit = False, filtration = RadialFiltration(center=array([12, 12]), n_jobs=-1)\n",
      "Got the result from ./1/64/train/filtrations/2/RadialFiltration_12_12/gray/diagrams.npy\n",
      "Applying Scaler to persistence diagrams.\n",
      "Got the result from ./1/64/train/filtrations/2/RadialFiltration_12_12/gray/features.npy\n",
      "FiltrationExtractor: processing 1/64/train/filtrations/2/RadialFiltration_12_12/red, do_fit = False, filtration = RadialFiltration(center=array([12, 12]), n_jobs=-1)\n",
      "Got the result from ./1/64/train/filtrations/2/RadialFiltration_12_12/red/diagrams.npy\n",
      "Applying Scaler to persistence diagrams.\n",
      "Got the result from ./1/64/train/filtrations/2/RadialFiltration_12_12/red/features.npy\n",
      "FiltrationExtractor: processing 1/64/train/filtrations/2/RadialFiltration_12_12/green, do_fit = False, filtration = RadialFiltration(center=array([12, 12]), n_jobs=-1)\n",
      "Got the result from ./1/64/train/filtrations/2/RadialFiltration_12_12/green/diagrams.npy\n",
      "Applying Scaler to persistence diagrams.\n",
      "Got the result from ./1/64/train/filtrations/2/RadialFiltration_12_12/green/features.npy\n",
      "FiltrationExtractor: processing 1/64/train/filtrations/2/RadialFiltration_12_12/blue, do_fit = False, filtration = RadialFiltration(center=array([12, 12]), n_jobs=-1)\n",
      "Got the result from ./1/64/train/filtrations/2/RadialFiltration_12_12/blue/diagrams.npy\n",
      "Applying Scaler to persistence diagrams.\n",
      "Got the result from ./1/64/train/filtrations/2/RadialFiltration_12_12/blue/features.npy\n",
      "Applying filtration 10/72: RadialFiltration with c = (12, 25), bin. thr. = 0.2\n",
      "RGB images received. Transforming to grayscale.\n"
     ]
    },
    {
     "name": "stderr",
     "output_type": "stream",
     "text": [
      "rgb2gray: 100%|██████████| 9469/9469 [00:01<00:00, 5378.55it/s]\n"
     ]
    },
    {
     "name": "stdout",
     "output_type": "stream",
     "text": [
      "FiltrationExtractor: processing 1/64/train/filtrations/2/RadialFiltration_12_25/gray, do_fit = False, filtration = RadialFiltration(center=array([12, 25]), n_jobs=-1)\n",
      "Got the result from ./1/64/train/filtrations/2/RadialFiltration_12_25/gray/diagrams.npy\n",
      "Applying Scaler to persistence diagrams.\n",
      "Got the result from ./1/64/train/filtrations/2/RadialFiltration_12_25/gray/features.npy\n",
      "FiltrationExtractor: processing 1/64/train/filtrations/2/RadialFiltration_12_25/red, do_fit = False, filtration = RadialFiltration(center=array([12, 25]), n_jobs=-1)\n",
      "Got the result from ./1/64/train/filtrations/2/RadialFiltration_12_25/red/diagrams.npy\n",
      "Applying Scaler to persistence diagrams.\n",
      "Got the result from ./1/64/train/filtrations/2/RadialFiltration_12_25/red/features.npy\n",
      "FiltrationExtractor: processing 1/64/train/filtrations/2/RadialFiltration_12_25/green, do_fit = False, filtration = RadialFiltration(center=array([12, 25]), n_jobs=-1)\n",
      "Got the result from ./1/64/train/filtrations/2/RadialFiltration_12_25/green/diagrams.npy\n",
      "Applying Scaler to persistence diagrams.\n",
      "Got the result from ./1/64/train/filtrations/2/RadialFiltration_12_25/green/features.npy\n",
      "FiltrationExtractor: processing 1/64/train/filtrations/2/RadialFiltration_12_25/blue, do_fit = False, filtration = RadialFiltration(center=array([12, 25]), n_jobs=-1)\n",
      "Got the result from ./1/64/train/filtrations/2/RadialFiltration_12_25/blue/diagrams.npy\n",
      "Applying Scaler to persistence diagrams.\n",
      "Got the result from ./1/64/train/filtrations/2/RadialFiltration_12_25/blue/features.npy\n",
      "Applying filtration 11/72: RadialFiltration with c = (12, 38), bin. thr. = 0.2\n",
      "RGB images received. Transforming to grayscale.\n"
     ]
    },
    {
     "name": "stderr",
     "output_type": "stream",
     "text": [
      "rgb2gray: 100%|██████████| 9469/9469 [00:01<00:00, 5555.92it/s]\n"
     ]
    },
    {
     "name": "stdout",
     "output_type": "stream",
     "text": [
      "FiltrationExtractor: processing 1/64/train/filtrations/2/RadialFiltration_12_38/gray, do_fit = False, filtration = RadialFiltration(center=array([12, 38]), n_jobs=-1)\n",
      "Got the result from ./1/64/train/filtrations/2/RadialFiltration_12_38/gray/diagrams.npy\n",
      "Applying Scaler to persistence diagrams.\n",
      "Got the result from ./1/64/train/filtrations/2/RadialFiltration_12_38/gray/features.npy\n",
      "FiltrationExtractor: processing 1/64/train/filtrations/2/RadialFiltration_12_38/red, do_fit = False, filtration = RadialFiltration(center=array([12, 38]), n_jobs=-1)\n",
      "Got the result from ./1/64/train/filtrations/2/RadialFiltration_12_38/red/diagrams.npy\n",
      "Applying Scaler to persistence diagrams.\n",
      "Got the result from ./1/64/train/filtrations/2/RadialFiltration_12_38/red/features.npy\n",
      "FiltrationExtractor: processing 1/64/train/filtrations/2/RadialFiltration_12_38/green, do_fit = False, filtration = RadialFiltration(center=array([12, 38]), n_jobs=-1)\n",
      "Got the result from ./1/64/train/filtrations/2/RadialFiltration_12_38/green/diagrams.npy\n",
      "Applying Scaler to persistence diagrams.\n",
      "Got the result from ./1/64/train/filtrations/2/RadialFiltration_12_38/green/features.npy\n",
      "FiltrationExtractor: processing 1/64/train/filtrations/2/RadialFiltration_12_38/blue, do_fit = False, filtration = RadialFiltration(center=array([12, 38]), n_jobs=-1)\n",
      "Got the result from ./1/64/train/filtrations/2/RadialFiltration_12_38/blue/diagrams.npy\n",
      "Applying Scaler to persistence diagrams.\n",
      "Got the result from ./1/64/train/filtrations/2/RadialFiltration_12_38/blue/features.npy\n",
      "Applying filtration 12/72: RadialFiltration with c = (12, 51), bin. thr. = 0.2\n",
      "RGB images received. Transforming to grayscale.\n"
     ]
    },
    {
     "name": "stderr",
     "output_type": "stream",
     "text": [
      "rgb2gray: 100%|██████████| 9469/9469 [00:01<00:00, 5309.37it/s]\n"
     ]
    },
    {
     "name": "stdout",
     "output_type": "stream",
     "text": [
      "FiltrationExtractor: processing 1/64/train/filtrations/2/RadialFiltration_12_51/gray, do_fit = False, filtration = RadialFiltration(center=array([12, 51]), n_jobs=-1)\n",
      "Got the result from ./1/64/train/filtrations/2/RadialFiltration_12_51/gray/diagrams.npy\n",
      "Applying Scaler to persistence diagrams.\n",
      "Got the result from ./1/64/train/filtrations/2/RadialFiltration_12_51/gray/features.npy\n",
      "FiltrationExtractor: processing 1/64/train/filtrations/2/RadialFiltration_12_51/red, do_fit = False, filtration = RadialFiltration(center=array([12, 51]), n_jobs=-1)\n",
      "Got the result from ./1/64/train/filtrations/2/RadialFiltration_12_51/red/diagrams.npy\n",
      "Applying Scaler to persistence diagrams.\n",
      "Got the result from ./1/64/train/filtrations/2/RadialFiltration_12_51/red/features.npy\n",
      "FiltrationExtractor: processing 1/64/train/filtrations/2/RadialFiltration_12_51/green, do_fit = False, filtration = RadialFiltration(center=array([12, 51]), n_jobs=-1)\n",
      "Got the result from ./1/64/train/filtrations/2/RadialFiltration_12_51/green/diagrams.npy\n",
      "Applying Scaler to persistence diagrams.\n",
      "Got the result from ./1/64/train/filtrations/2/RadialFiltration_12_51/green/features.npy\n",
      "FiltrationExtractor: processing 1/64/train/filtrations/2/RadialFiltration_12_51/blue, do_fit = False, filtration = RadialFiltration(center=array([12, 51]), n_jobs=-1)\n",
      "Got the result from ./1/64/train/filtrations/2/RadialFiltration_12_51/blue/diagrams.npy\n",
      "Applying Scaler to persistence diagrams.\n",
      "Got the result from ./1/64/train/filtrations/2/RadialFiltration_12_51/blue/features.npy\n",
      "Applying filtration 13/72: RadialFiltration with c = (25, 12), bin. thr. = 0.2\n",
      "RGB images received. Transforming to grayscale.\n"
     ]
    },
    {
     "name": "stderr",
     "output_type": "stream",
     "text": [
      "rgb2gray: 100%|██████████| 9469/9469 [00:01<00:00, 5082.47it/s]\n"
     ]
    },
    {
     "name": "stdout",
     "output_type": "stream",
     "text": [
      "FiltrationExtractor: processing 1/64/train/filtrations/2/RadialFiltration_25_12/gray, do_fit = False, filtration = RadialFiltration(center=array([25, 12]), n_jobs=-1)\n",
      "Got the result from ./1/64/train/filtrations/2/RadialFiltration_25_12/gray/diagrams.npy\n",
      "Applying Scaler to persistence diagrams.\n",
      "Got the result from ./1/64/train/filtrations/2/RadialFiltration_25_12/gray/features.npy\n",
      "FiltrationExtractor: processing 1/64/train/filtrations/2/RadialFiltration_25_12/red, do_fit = False, filtration = RadialFiltration(center=array([25, 12]), n_jobs=-1)\n",
      "Got the result from ./1/64/train/filtrations/2/RadialFiltration_25_12/red/diagrams.npy\n",
      "Applying Scaler to persistence diagrams.\n",
      "Got the result from ./1/64/train/filtrations/2/RadialFiltration_25_12/red/features.npy\n",
      "FiltrationExtractor: processing 1/64/train/filtrations/2/RadialFiltration_25_12/green, do_fit = False, filtration = RadialFiltration(center=array([25, 12]), n_jobs=-1)\n",
      "Got the result from ./1/64/train/filtrations/2/RadialFiltration_25_12/green/diagrams.npy\n",
      "Applying Scaler to persistence diagrams.\n",
      "Got the result from ./1/64/train/filtrations/2/RadialFiltration_25_12/green/features.npy\n",
      "FiltrationExtractor: processing 1/64/train/filtrations/2/RadialFiltration_25_12/blue, do_fit = False, filtration = RadialFiltration(center=array([25, 12]), n_jobs=-1)\n",
      "Got the result from ./1/64/train/filtrations/2/RadialFiltration_25_12/blue/diagrams.npy\n",
      "Applying Scaler to persistence diagrams.\n",
      "Got the result from ./1/64/train/filtrations/2/RadialFiltration_25_12/blue/features.npy\n",
      "Applying filtration 14/72: RadialFiltration with c = (25, 25), bin. thr. = 0.2\n",
      "RGB images received. Transforming to grayscale.\n"
     ]
    },
    {
     "name": "stderr",
     "output_type": "stream",
     "text": [
      "rgb2gray: 100%|██████████| 9469/9469 [00:01<00:00, 5332.86it/s]\n"
     ]
    },
    {
     "name": "stdout",
     "output_type": "stream",
     "text": [
      "FiltrationExtractor: processing 1/64/train/filtrations/2/RadialFiltration_25_25/gray, do_fit = False, filtration = RadialFiltration(center=array([25, 25]), n_jobs=-1)\n",
      "Got the result from ./1/64/train/filtrations/2/RadialFiltration_25_25/gray/diagrams.npy\n",
      "Applying Scaler to persistence diagrams.\n",
      "Got the result from ./1/64/train/filtrations/2/RadialFiltration_25_25/gray/features.npy\n",
      "FiltrationExtractor: processing 1/64/train/filtrations/2/RadialFiltration_25_25/red, do_fit = False, filtration = RadialFiltration(center=array([25, 25]), n_jobs=-1)\n",
      "Got the result from ./1/64/train/filtrations/2/RadialFiltration_25_25/red/diagrams.npy\n",
      "Applying Scaler to persistence diagrams.\n",
      "Got the result from ./1/64/train/filtrations/2/RadialFiltration_25_25/red/features.npy\n",
      "FiltrationExtractor: processing 1/64/train/filtrations/2/RadialFiltration_25_25/green, do_fit = False, filtration = RadialFiltration(center=array([25, 25]), n_jobs=-1)\n",
      "Got the result from ./1/64/train/filtrations/2/RadialFiltration_25_25/green/diagrams.npy\n",
      "Applying Scaler to persistence diagrams.\n",
      "Got the result from ./1/64/train/filtrations/2/RadialFiltration_25_25/green/features.npy\n",
      "FiltrationExtractor: processing 1/64/train/filtrations/2/RadialFiltration_25_25/blue, do_fit = False, filtration = RadialFiltration(center=array([25, 25]), n_jobs=-1)\n",
      "Got the result from ./1/64/train/filtrations/2/RadialFiltration_25_25/blue/diagrams.npy\n",
      "Applying Scaler to persistence diagrams.\n",
      "Got the result from ./1/64/train/filtrations/2/RadialFiltration_25_25/blue/features.npy\n",
      "Applying filtration 15/72: RadialFiltration with c = (25, 38), bin. thr. = 0.2\n",
      "RGB images received. Transforming to grayscale.\n"
     ]
    },
    {
     "name": "stderr",
     "output_type": "stream",
     "text": [
      "rgb2gray: 100%|██████████| 9469/9469 [00:01<00:00, 5291.08it/s]\n"
     ]
    },
    {
     "name": "stdout",
     "output_type": "stream",
     "text": [
      "FiltrationExtractor: processing 1/64/train/filtrations/2/RadialFiltration_25_38/gray, do_fit = False, filtration = RadialFiltration(center=array([25, 38]), n_jobs=-1)\n",
      "Got the result from ./1/64/train/filtrations/2/RadialFiltration_25_38/gray/diagrams.npy\n",
      "Applying Scaler to persistence diagrams.\n",
      "Got the result from ./1/64/train/filtrations/2/RadialFiltration_25_38/gray/features.npy\n",
      "FiltrationExtractor: processing 1/64/train/filtrations/2/RadialFiltration_25_38/red, do_fit = False, filtration = RadialFiltration(center=array([25, 38]), n_jobs=-1)\n",
      "Got the result from ./1/64/train/filtrations/2/RadialFiltration_25_38/red/diagrams.npy\n",
      "Applying Scaler to persistence diagrams.\n",
      "Got the result from ./1/64/train/filtrations/2/RadialFiltration_25_38/red/features.npy\n",
      "FiltrationExtractor: processing 1/64/train/filtrations/2/RadialFiltration_25_38/green, do_fit = False, filtration = RadialFiltration(center=array([25, 38]), n_jobs=-1)\n",
      "Got the result from ./1/64/train/filtrations/2/RadialFiltration_25_38/green/diagrams.npy\n",
      "Applying Scaler to persistence diagrams.\n",
      "Got the result from ./1/64/train/filtrations/2/RadialFiltration_25_38/green/features.npy\n",
      "FiltrationExtractor: processing 1/64/train/filtrations/2/RadialFiltration_25_38/blue, do_fit = False, filtration = RadialFiltration(center=array([25, 38]), n_jobs=-1)\n",
      "Got the result from ./1/64/train/filtrations/2/RadialFiltration_25_38/blue/diagrams.npy\n",
      "Applying Scaler to persistence diagrams.\n",
      "Got the result from ./1/64/train/filtrations/2/RadialFiltration_25_38/blue/features.npy\n",
      "Applying filtration 16/72: RadialFiltration with c = (25, 51), bin. thr. = 0.2\n",
      "RGB images received. Transforming to grayscale.\n"
     ]
    },
    {
     "name": "stderr",
     "output_type": "stream",
     "text": [
      "rgb2gray: 100%|██████████| 9469/9469 [00:01<00:00, 5516.21it/s]\n"
     ]
    },
    {
     "name": "stdout",
     "output_type": "stream",
     "text": [
      "FiltrationExtractor: processing 1/64/train/filtrations/2/RadialFiltration_25_51/gray, do_fit = False, filtration = RadialFiltration(center=array([25, 51]), n_jobs=-1)\n",
      "Got the result from ./1/64/train/filtrations/2/RadialFiltration_25_51/gray/diagrams.npy\n",
      "Applying Scaler to persistence diagrams.\n",
      "Got the result from ./1/64/train/filtrations/2/RadialFiltration_25_51/gray/features.npy\n",
      "FiltrationExtractor: processing 1/64/train/filtrations/2/RadialFiltration_25_51/red, do_fit = False, filtration = RadialFiltration(center=array([25, 51]), n_jobs=-1)\n",
      "Got the result from ./1/64/train/filtrations/2/RadialFiltration_25_51/red/diagrams.npy\n",
      "Applying Scaler to persistence diagrams.\n",
      "Got the result from ./1/64/train/filtrations/2/RadialFiltration_25_51/red/features.npy\n",
      "FiltrationExtractor: processing 1/64/train/filtrations/2/RadialFiltration_25_51/green, do_fit = False, filtration = RadialFiltration(center=array([25, 51]), n_jobs=-1)\n",
      "Got the result from ./1/64/train/filtrations/2/RadialFiltration_25_51/green/diagrams.npy\n",
      "Applying Scaler to persistence diagrams.\n",
      "Got the result from ./1/64/train/filtrations/2/RadialFiltration_25_51/green/features.npy\n",
      "FiltrationExtractor: processing 1/64/train/filtrations/2/RadialFiltration_25_51/blue, do_fit = False, filtration = RadialFiltration(center=array([25, 51]), n_jobs=-1)\n",
      "Got the result from ./1/64/train/filtrations/2/RadialFiltration_25_51/blue/diagrams.npy\n",
      "Applying Scaler to persistence diagrams.\n",
      "Got the result from ./1/64/train/filtrations/2/RadialFiltration_25_51/blue/features.npy\n",
      "Applying filtration 17/72: RadialFiltration with c = (38, 12), bin. thr. = 0.2\n",
      "RGB images received. Transforming to grayscale.\n"
     ]
    },
    {
     "name": "stderr",
     "output_type": "stream",
     "text": [
      "rgb2gray: 100%|██████████| 9469/9469 [00:01<00:00, 5417.29it/s]\n"
     ]
    },
    {
     "name": "stdout",
     "output_type": "stream",
     "text": [
      "FiltrationExtractor: processing 1/64/train/filtrations/2/RadialFiltration_38_12/gray, do_fit = False, filtration = RadialFiltration(center=array([38, 12]), n_jobs=-1)\n",
      "Got the result from ./1/64/train/filtrations/2/RadialFiltration_38_12/gray/diagrams.npy\n",
      "Applying Scaler to persistence diagrams.\n",
      "Got the result from ./1/64/train/filtrations/2/RadialFiltration_38_12/gray/features.npy\n",
      "FiltrationExtractor: processing 1/64/train/filtrations/2/RadialFiltration_38_12/red, do_fit = False, filtration = RadialFiltration(center=array([38, 12]), n_jobs=-1)\n",
      "Got the result from ./1/64/train/filtrations/2/RadialFiltration_38_12/red/diagrams.npy\n",
      "Applying Scaler to persistence diagrams.\n",
      "Got the result from ./1/64/train/filtrations/2/RadialFiltration_38_12/red/features.npy\n",
      "FiltrationExtractor: processing 1/64/train/filtrations/2/RadialFiltration_38_12/green, do_fit = False, filtration = RadialFiltration(center=array([38, 12]), n_jobs=-1)\n",
      "Got the result from ./1/64/train/filtrations/2/RadialFiltration_38_12/green/diagrams.npy\n",
      "Applying Scaler to persistence diagrams.\n",
      "Got the result from ./1/64/train/filtrations/2/RadialFiltration_38_12/green/features.npy\n",
      "FiltrationExtractor: processing 1/64/train/filtrations/2/RadialFiltration_38_12/blue, do_fit = False, filtration = RadialFiltration(center=array([38, 12]), n_jobs=-1)\n",
      "Got the result from ./1/64/train/filtrations/2/RadialFiltration_38_12/blue/diagrams.npy\n",
      "Applying Scaler to persistence diagrams.\n",
      "Got the result from ./1/64/train/filtrations/2/RadialFiltration_38_12/blue/features.npy\n",
      "Applying filtration 18/72: RadialFiltration with c = (38, 25), bin. thr. = 0.2\n",
      "RGB images received. Transforming to grayscale.\n"
     ]
    },
    {
     "name": "stderr",
     "output_type": "stream",
     "text": [
      "rgb2gray: 100%|██████████| 9469/9469 [00:01<00:00, 5350.12it/s]\n"
     ]
    },
    {
     "name": "stdout",
     "output_type": "stream",
     "text": [
      "FiltrationExtractor: processing 1/64/train/filtrations/2/RadialFiltration_38_25/gray, do_fit = False, filtration = RadialFiltration(center=array([38, 25]), n_jobs=-1)\n",
      "Got the result from ./1/64/train/filtrations/2/RadialFiltration_38_25/gray/diagrams.npy\n",
      "Applying Scaler to persistence diagrams.\n",
      "Got the result from ./1/64/train/filtrations/2/RadialFiltration_38_25/gray/features.npy\n",
      "FiltrationExtractor: processing 1/64/train/filtrations/2/RadialFiltration_38_25/red, do_fit = False, filtration = RadialFiltration(center=array([38, 25]), n_jobs=-1)\n",
      "Got the result from ./1/64/train/filtrations/2/RadialFiltration_38_25/red/diagrams.npy\n",
      "Applying Scaler to persistence diagrams.\n",
      "Got the result from ./1/64/train/filtrations/2/RadialFiltration_38_25/red/features.npy\n",
      "FiltrationExtractor: processing 1/64/train/filtrations/2/RadialFiltration_38_25/green, do_fit = False, filtration = RadialFiltration(center=array([38, 25]), n_jobs=-1)\n",
      "Got the result from ./1/64/train/filtrations/2/RadialFiltration_38_25/green/diagrams.npy\n",
      "Applying Scaler to persistence diagrams.\n",
      "Got the result from ./1/64/train/filtrations/2/RadialFiltration_38_25/green/features.npy\n",
      "FiltrationExtractor: processing 1/64/train/filtrations/2/RadialFiltration_38_25/blue, do_fit = False, filtration = RadialFiltration(center=array([38, 25]), n_jobs=-1)\n",
      "Got the result from ./1/64/train/filtrations/2/RadialFiltration_38_25/blue/diagrams.npy\n",
      "Applying Scaler to persistence diagrams.\n",
      "Got the result from ./1/64/train/filtrations/2/RadialFiltration_38_25/blue/features.npy\n",
      "Applying filtration 19/72: RadialFiltration with c = (38, 38), bin. thr. = 0.2\n",
      "RGB images received. Transforming to grayscale.\n"
     ]
    },
    {
     "name": "stderr",
     "output_type": "stream",
     "text": [
      "rgb2gray: 100%|██████████| 9469/9469 [00:01<00:00, 5106.28it/s]\n"
     ]
    },
    {
     "name": "stdout",
     "output_type": "stream",
     "text": [
      "FiltrationExtractor: processing 1/64/train/filtrations/2/RadialFiltration_38_38/gray, do_fit = False, filtration = RadialFiltration(center=array([38, 38]), n_jobs=-1)\n",
      "Got the result from ./1/64/train/filtrations/2/RadialFiltration_38_38/gray/diagrams.npy\n",
      "Applying Scaler to persistence diagrams.\n",
      "Got the result from ./1/64/train/filtrations/2/RadialFiltration_38_38/gray/features.npy\n",
      "FiltrationExtractor: processing 1/64/train/filtrations/2/RadialFiltration_38_38/red, do_fit = False, filtration = RadialFiltration(center=array([38, 38]), n_jobs=-1)\n",
      "Got the result from ./1/64/train/filtrations/2/RadialFiltration_38_38/red/diagrams.npy\n",
      "Applying Scaler to persistence diagrams.\n",
      "Got the result from ./1/64/train/filtrations/2/RadialFiltration_38_38/red/features.npy\n",
      "FiltrationExtractor: processing 1/64/train/filtrations/2/RadialFiltration_38_38/green, do_fit = False, filtration = RadialFiltration(center=array([38, 38]), n_jobs=-1)\n",
      "Got the result from ./1/64/train/filtrations/2/RadialFiltration_38_38/green/diagrams.npy\n",
      "Applying Scaler to persistence diagrams.\n",
      "Got the result from ./1/64/train/filtrations/2/RadialFiltration_38_38/green/features.npy\n",
      "FiltrationExtractor: processing 1/64/train/filtrations/2/RadialFiltration_38_38/blue, do_fit = False, filtration = RadialFiltration(center=array([38, 38]), n_jobs=-1)\n",
      "Got the result from ./1/64/train/filtrations/2/RadialFiltration_38_38/blue/diagrams.npy\n",
      "Applying Scaler to persistence diagrams.\n",
      "Got the result from ./1/64/train/filtrations/2/RadialFiltration_38_38/blue/features.npy\n",
      "Applying filtration 20/72: RadialFiltration with c = (38, 51), bin. thr. = 0.2\n",
      "RGB images received. Transforming to grayscale.\n"
     ]
    },
    {
     "name": "stderr",
     "output_type": "stream",
     "text": [
      "rgb2gray: 100%|██████████| 9469/9469 [00:01<00:00, 5467.11it/s]\n"
     ]
    },
    {
     "name": "stdout",
     "output_type": "stream",
     "text": [
      "FiltrationExtractor: processing 1/64/train/filtrations/2/RadialFiltration_38_51/gray, do_fit = False, filtration = RadialFiltration(center=array([38, 51]), n_jobs=-1)\n",
      "Got the result from ./1/64/train/filtrations/2/RadialFiltration_38_51/gray/diagrams.npy\n",
      "Applying Scaler to persistence diagrams.\n",
      "Got the result from ./1/64/train/filtrations/2/RadialFiltration_38_51/gray/features.npy\n",
      "FiltrationExtractor: processing 1/64/train/filtrations/2/RadialFiltration_38_51/red, do_fit = False, filtration = RadialFiltration(center=array([38, 51]), n_jobs=-1)\n",
      "Got the result from ./1/64/train/filtrations/2/RadialFiltration_38_51/red/diagrams.npy\n",
      "Applying Scaler to persistence diagrams.\n",
      "Got the result from ./1/64/train/filtrations/2/RadialFiltration_38_51/red/features.npy\n",
      "FiltrationExtractor: processing 1/64/train/filtrations/2/RadialFiltration_38_51/green, do_fit = False, filtration = RadialFiltration(center=array([38, 51]), n_jobs=-1)\n",
      "Got the result from ./1/64/train/filtrations/2/RadialFiltration_38_51/green/diagrams.npy\n",
      "Applying Scaler to persistence diagrams.\n",
      "Got the result from ./1/64/train/filtrations/2/RadialFiltration_38_51/green/features.npy\n",
      "FiltrationExtractor: processing 1/64/train/filtrations/2/RadialFiltration_38_51/blue, do_fit = False, filtration = RadialFiltration(center=array([38, 51]), n_jobs=-1)\n",
      "Got the result from ./1/64/train/filtrations/2/RadialFiltration_38_51/blue/diagrams.npy\n",
      "Applying Scaler to persistence diagrams.\n",
      "Got the result from ./1/64/train/filtrations/2/RadialFiltration_38_51/blue/features.npy\n",
      "Applying filtration 21/72: RadialFiltration with c = (51, 12), bin. thr. = 0.2\n",
      "RGB images received. Transforming to grayscale.\n"
     ]
    },
    {
     "name": "stderr",
     "output_type": "stream",
     "text": [
      "rgb2gray: 100%|██████████| 9469/9469 [00:01<00:00, 5569.91it/s]\n"
     ]
    },
    {
     "name": "stdout",
     "output_type": "stream",
     "text": [
      "FiltrationExtractor: processing 1/64/train/filtrations/2/RadialFiltration_51_12/gray, do_fit = False, filtration = RadialFiltration(center=array([51, 12]), n_jobs=-1)\n",
      "Got the result from ./1/64/train/filtrations/2/RadialFiltration_51_12/gray/diagrams.npy\n",
      "Applying Scaler to persistence diagrams.\n",
      "Got the result from ./1/64/train/filtrations/2/RadialFiltration_51_12/gray/features.npy\n",
      "FiltrationExtractor: processing 1/64/train/filtrations/2/RadialFiltration_51_12/red, do_fit = False, filtration = RadialFiltration(center=array([51, 12]), n_jobs=-1)\n",
      "Got the result from ./1/64/train/filtrations/2/RadialFiltration_51_12/red/diagrams.npy\n",
      "Applying Scaler to persistence diagrams.\n",
      "Got the result from ./1/64/train/filtrations/2/RadialFiltration_51_12/red/features.npy\n",
      "FiltrationExtractor: processing 1/64/train/filtrations/2/RadialFiltration_51_12/green, do_fit = False, filtration = RadialFiltration(center=array([51, 12]), n_jobs=-1)\n",
      "Got the result from ./1/64/train/filtrations/2/RadialFiltration_51_12/green/diagrams.npy\n",
      "Applying Scaler to persistence diagrams.\n",
      "Got the result from ./1/64/train/filtrations/2/RadialFiltration_51_12/green/features.npy\n",
      "FiltrationExtractor: processing 1/64/train/filtrations/2/RadialFiltration_51_12/blue, do_fit = False, filtration = RadialFiltration(center=array([51, 12]), n_jobs=-1)\n",
      "Got the result from ./1/64/train/filtrations/2/RadialFiltration_51_12/blue/diagrams.npy\n",
      "Applying Scaler to persistence diagrams.\n",
      "Got the result from ./1/64/train/filtrations/2/RadialFiltration_51_12/blue/features.npy\n",
      "Applying filtration 22/72: RadialFiltration with c = (51, 25), bin. thr. = 0.2\n",
      "RGB images received. Transforming to grayscale.\n"
     ]
    },
    {
     "name": "stderr",
     "output_type": "stream",
     "text": [
      "rgb2gray: 100%|██████████| 9469/9469 [00:01<00:00, 5590.25it/s]\n"
     ]
    },
    {
     "name": "stdout",
     "output_type": "stream",
     "text": [
      "FiltrationExtractor: processing 1/64/train/filtrations/2/RadialFiltration_51_25/gray, do_fit = False, filtration = RadialFiltration(center=array([51, 25]), n_jobs=-1)\n",
      "Got the result from ./1/64/train/filtrations/2/RadialFiltration_51_25/gray/diagrams.npy\n",
      "Applying Scaler to persistence diagrams.\n",
      "Got the result from ./1/64/train/filtrations/2/RadialFiltration_51_25/gray/features.npy\n",
      "FiltrationExtractor: processing 1/64/train/filtrations/2/RadialFiltration_51_25/red, do_fit = False, filtration = RadialFiltration(center=array([51, 25]), n_jobs=-1)\n",
      "Got the result from ./1/64/train/filtrations/2/RadialFiltration_51_25/red/diagrams.npy\n",
      "Applying Scaler to persistence diagrams.\n",
      "Got the result from ./1/64/train/filtrations/2/RadialFiltration_51_25/red/features.npy\n",
      "FiltrationExtractor: processing 1/64/train/filtrations/2/RadialFiltration_51_25/green, do_fit = False, filtration = RadialFiltration(center=array([51, 25]), n_jobs=-1)\n",
      "Got the result from ./1/64/train/filtrations/2/RadialFiltration_51_25/green/diagrams.npy\n",
      "Applying Scaler to persistence diagrams.\n",
      "Got the result from ./1/64/train/filtrations/2/RadialFiltration_51_25/green/features.npy\n",
      "FiltrationExtractor: processing 1/64/train/filtrations/2/RadialFiltration_51_25/blue, do_fit = False, filtration = RadialFiltration(center=array([51, 25]), n_jobs=-1)\n",
      "Got the result from ./1/64/train/filtrations/2/RadialFiltration_51_25/blue/diagrams.npy\n",
      "Applying Scaler to persistence diagrams.\n",
      "Got the result from ./1/64/train/filtrations/2/RadialFiltration_51_25/blue/features.npy\n",
      "Applying filtration 23/72: RadialFiltration with c = (51, 38), bin. thr. = 0.2\n",
      "RGB images received. Transforming to grayscale.\n"
     ]
    },
    {
     "name": "stderr",
     "output_type": "stream",
     "text": [
      "rgb2gray: 100%|██████████| 9469/9469 [00:01<00:00, 5126.31it/s]\n"
     ]
    },
    {
     "name": "stdout",
     "output_type": "stream",
     "text": [
      "FiltrationExtractor: processing 1/64/train/filtrations/2/RadialFiltration_51_38/gray, do_fit = False, filtration = RadialFiltration(center=array([51, 38]), n_jobs=-1)\n",
      "Got the result from ./1/64/train/filtrations/2/RadialFiltration_51_38/gray/diagrams.npy\n",
      "Applying Scaler to persistence diagrams.\n",
      "Got the result from ./1/64/train/filtrations/2/RadialFiltration_51_38/gray/features.npy\n",
      "FiltrationExtractor: processing 1/64/train/filtrations/2/RadialFiltration_51_38/red, do_fit = False, filtration = RadialFiltration(center=array([51, 38]), n_jobs=-1)\n",
      "Got the result from ./1/64/train/filtrations/2/RadialFiltration_51_38/red/diagrams.npy\n",
      "Applying Scaler to persistence diagrams.\n",
      "Got the result from ./1/64/train/filtrations/2/RadialFiltration_51_38/red/features.npy\n",
      "FiltrationExtractor: processing 1/64/train/filtrations/2/RadialFiltration_51_38/green, do_fit = False, filtration = RadialFiltration(center=array([51, 38]), n_jobs=-1)\n",
      "Got the result from ./1/64/train/filtrations/2/RadialFiltration_51_38/green/diagrams.npy\n",
      "Applying Scaler to persistence diagrams.\n",
      "Got the result from ./1/64/train/filtrations/2/RadialFiltration_51_38/green/features.npy\n",
      "FiltrationExtractor: processing 1/64/train/filtrations/2/RadialFiltration_51_38/blue, do_fit = False, filtration = RadialFiltration(center=array([51, 38]), n_jobs=-1)\n",
      "Got the result from ./1/64/train/filtrations/2/RadialFiltration_51_38/blue/diagrams.npy\n",
      "Applying Scaler to persistence diagrams.\n",
      "Got the result from ./1/64/train/filtrations/2/RadialFiltration_51_38/blue/features.npy\n",
      "Applying filtration 24/72: RadialFiltration with c = (51, 51), bin. thr. = 0.2\n",
      "RGB images received. Transforming to grayscale.\n"
     ]
    },
    {
     "name": "stderr",
     "output_type": "stream",
     "text": [
      "rgb2gray: 100%|██████████| 9469/9469 [00:01<00:00, 5378.74it/s]\n"
     ]
    },
    {
     "name": "stdout",
     "output_type": "stream",
     "text": [
      "FiltrationExtractor: processing 1/64/train/filtrations/2/RadialFiltration_51_51/gray, do_fit = False, filtration = RadialFiltration(center=array([51, 51]), n_jobs=-1)\n",
      "Got the result from ./1/64/train/filtrations/2/RadialFiltration_51_51/gray/diagrams.npy\n",
      "Applying Scaler to persistence diagrams.\n",
      "Got the result from ./1/64/train/filtrations/2/RadialFiltration_51_51/gray/features.npy\n",
      "FiltrationExtractor: processing 1/64/train/filtrations/2/RadialFiltration_51_51/red, do_fit = False, filtration = RadialFiltration(center=array([51, 51]), n_jobs=-1)\n",
      "Got the result from ./1/64/train/filtrations/2/RadialFiltration_51_51/red/diagrams.npy\n",
      "Applying Scaler to persistence diagrams.\n",
      "Got the result from ./1/64/train/filtrations/2/RadialFiltration_51_51/red/features.npy\n",
      "FiltrationExtractor: processing 1/64/train/filtrations/2/RadialFiltration_51_51/green, do_fit = False, filtration = RadialFiltration(center=array([51, 51]), n_jobs=-1)\n",
      "Got the result from ./1/64/train/filtrations/2/RadialFiltration_51_51/green/diagrams.npy\n",
      "Applying Scaler to persistence diagrams.\n",
      "Got the result from ./1/64/train/filtrations/2/RadialFiltration_51_51/green/features.npy\n",
      "FiltrationExtractor: processing 1/64/train/filtrations/2/RadialFiltration_51_51/blue, do_fit = False, filtration = RadialFiltration(center=array([51, 51]), n_jobs=-1)\n",
      "Got the result from ./1/64/train/filtrations/2/RadialFiltration_51_51/blue/diagrams.npy\n",
      "Applying Scaler to persistence diagrams.\n",
      "Got the result from ./1/64/train/filtrations/2/RadialFiltration_51_51/blue/features.npy\n",
      "Applying filtration 25/72: HeightFiltration with d = (-1, -1), bin. thr. = 0.4\n",
      "RGB images received. Transforming to grayscale.\n"
     ]
    },
    {
     "name": "stderr",
     "output_type": "stream",
     "text": [
      "rgb2gray: 100%|██████████| 9469/9469 [00:01<00:00, 5273.24it/s]\n"
     ]
    },
    {
     "name": "stdout",
     "output_type": "stream",
     "text": [
      "FiltrationExtractor: processing 1/64/train/filtrations/4/HeightFiltrartion_-1_-1/gray, do_fit = False, filtration = HeightFiltration(direction=array([-1, -1]), n_jobs=-1)\n",
      "Got the result from ./1/64/train/filtrations/4/HeightFiltrartion_-1_-1/gray/diagrams.npy\n",
      "Applying Scaler to persistence diagrams.\n",
      "Got the result from ./1/64/train/filtrations/4/HeightFiltrartion_-1_-1/gray/features.npy\n",
      "FiltrationExtractor: processing 1/64/train/filtrations/4/HeightFiltrartion_-1_-1/red, do_fit = False, filtration = HeightFiltration(direction=array([-1, -1]), n_jobs=-1)\n",
      "Got the result from ./1/64/train/filtrations/4/HeightFiltrartion_-1_-1/red/diagrams.npy\n",
      "Applying Scaler to persistence diagrams.\n",
      "Got the result from ./1/64/train/filtrations/4/HeightFiltrartion_-1_-1/red/features.npy\n",
      "FiltrationExtractor: processing 1/64/train/filtrations/4/HeightFiltrartion_-1_-1/green, do_fit = False, filtration = HeightFiltration(direction=array([-1, -1]), n_jobs=-1)\n",
      "Got the result from ./1/64/train/filtrations/4/HeightFiltrartion_-1_-1/green/diagrams.npy\n",
      "Applying Scaler to persistence diagrams.\n",
      "Got the result from ./1/64/train/filtrations/4/HeightFiltrartion_-1_-1/green/features.npy\n",
      "FiltrationExtractor: processing 1/64/train/filtrations/4/HeightFiltrartion_-1_-1/blue, do_fit = False, filtration = HeightFiltration(direction=array([-1, -1]), n_jobs=-1)\n",
      "Got the result from ./1/64/train/filtrations/4/HeightFiltrartion_-1_-1/blue/diagrams.npy\n",
      "Applying Scaler to persistence diagrams.\n",
      "Got the result from ./1/64/train/filtrations/4/HeightFiltrartion_-1_-1/blue/features.npy\n",
      "Applying filtration 26/72: HeightFiltration with d = (-1, 0), bin. thr. = 0.4\n",
      "RGB images received. Transforming to grayscale.\n"
     ]
    },
    {
     "name": "stderr",
     "output_type": "stream",
     "text": [
      "rgb2gray: 100%|██████████| 9469/9469 [00:01<00:00, 5097.39it/s]\n"
     ]
    },
    {
     "name": "stdout",
     "output_type": "stream",
     "text": [
      "FiltrationExtractor: processing 1/64/train/filtrations/4/HeightFiltrartion_-1_0/gray, do_fit = False, filtration = HeightFiltration(direction=array([-1,  0]), n_jobs=-1)\n",
      "Got the result from ./1/64/train/filtrations/4/HeightFiltrartion_-1_0/gray/diagrams.npy\n",
      "Applying Scaler to persistence diagrams.\n",
      "Got the result from ./1/64/train/filtrations/4/HeightFiltrartion_-1_0/gray/features.npy\n",
      "FiltrationExtractor: processing 1/64/train/filtrations/4/HeightFiltrartion_-1_0/red, do_fit = False, filtration = HeightFiltration(direction=array([-1,  0]), n_jobs=-1)\n",
      "Got the result from ./1/64/train/filtrations/4/HeightFiltrartion_-1_0/red/diagrams.npy\n",
      "Applying Scaler to persistence diagrams.\n",
      "Got the result from ./1/64/train/filtrations/4/HeightFiltrartion_-1_0/red/features.npy\n",
      "FiltrationExtractor: processing 1/64/train/filtrations/4/HeightFiltrartion_-1_0/green, do_fit = False, filtration = HeightFiltration(direction=array([-1,  0]), n_jobs=-1)\n",
      "Got the result from ./1/64/train/filtrations/4/HeightFiltrartion_-1_0/green/diagrams.npy\n",
      "Applying Scaler to persistence diagrams.\n",
      "Got the result from ./1/64/train/filtrations/4/HeightFiltrartion_-1_0/green/features.npy\n",
      "FiltrationExtractor: processing 1/64/train/filtrations/4/HeightFiltrartion_-1_0/blue, do_fit = False, filtration = HeightFiltration(direction=array([-1,  0]), n_jobs=-1)\n",
      "Got the result from ./1/64/train/filtrations/4/HeightFiltrartion_-1_0/blue/diagrams.npy\n",
      "Applying Scaler to persistence diagrams.\n",
      "Got the result from ./1/64/train/filtrations/4/HeightFiltrartion_-1_0/blue/features.npy\n",
      "Applying filtration 27/72: HeightFiltration with d = (-1, 1), bin. thr. = 0.4\n",
      "RGB images received. Transforming to grayscale.\n"
     ]
    },
    {
     "name": "stderr",
     "output_type": "stream",
     "text": [
      "rgb2gray: 100%|██████████| 9469/9469 [00:01<00:00, 5251.89it/s]\n"
     ]
    },
    {
     "name": "stdout",
     "output_type": "stream",
     "text": [
      "FiltrationExtractor: processing 1/64/train/filtrations/4/HeightFiltrartion_-1_1/gray, do_fit = False, filtration = HeightFiltration(direction=array([-1,  1]), n_jobs=-1)\n",
      "Got the result from ./1/64/train/filtrations/4/HeightFiltrartion_-1_1/gray/diagrams.npy\n",
      "Applying Scaler to persistence diagrams.\n",
      "Got the result from ./1/64/train/filtrations/4/HeightFiltrartion_-1_1/gray/features.npy\n",
      "FiltrationExtractor: processing 1/64/train/filtrations/4/HeightFiltrartion_-1_1/red, do_fit = False, filtration = HeightFiltration(direction=array([-1,  1]), n_jobs=-1)\n",
      "Got the result from ./1/64/train/filtrations/4/HeightFiltrartion_-1_1/red/diagrams.npy\n",
      "Applying Scaler to persistence diagrams.\n",
      "Got the result from ./1/64/train/filtrations/4/HeightFiltrartion_-1_1/red/features.npy\n",
      "FiltrationExtractor: processing 1/64/train/filtrations/4/HeightFiltrartion_-1_1/green, do_fit = False, filtration = HeightFiltration(direction=array([-1,  1]), n_jobs=-1)\n",
      "Got the result from ./1/64/train/filtrations/4/HeightFiltrartion_-1_1/green/diagrams.npy\n",
      "Applying Scaler to persistence diagrams.\n",
      "Got the result from ./1/64/train/filtrations/4/HeightFiltrartion_-1_1/green/features.npy\n",
      "FiltrationExtractor: processing 1/64/train/filtrations/4/HeightFiltrartion_-1_1/blue, do_fit = False, filtration = HeightFiltration(direction=array([-1,  1]), n_jobs=-1)\n",
      "Got the result from ./1/64/train/filtrations/4/HeightFiltrartion_-1_1/blue/diagrams.npy\n",
      "Applying Scaler to persistence diagrams.\n",
      "Got the result from ./1/64/train/filtrations/4/HeightFiltrartion_-1_1/blue/features.npy\n",
      "Applying filtration 28/72: HeightFiltration with d = (0, -1), bin. thr. = 0.4\n",
      "RGB images received. Transforming to grayscale.\n"
     ]
    },
    {
     "name": "stderr",
     "output_type": "stream",
     "text": [
      "rgb2gray: 100%|██████████| 9469/9469 [00:01<00:00, 5156.41it/s]\n"
     ]
    },
    {
     "name": "stdout",
     "output_type": "stream",
     "text": [
      "FiltrationExtractor: processing 1/64/train/filtrations/4/HeightFiltrartion_0_-1/gray, do_fit = False, filtration = HeightFiltration(direction=array([ 0, -1]), n_jobs=-1)\n",
      "Got the result from ./1/64/train/filtrations/4/HeightFiltrartion_0_-1/gray/diagrams.npy\n",
      "Applying Scaler to persistence diagrams.\n",
      "Got the result from ./1/64/train/filtrations/4/HeightFiltrartion_0_-1/gray/features.npy\n",
      "FiltrationExtractor: processing 1/64/train/filtrations/4/HeightFiltrartion_0_-1/red, do_fit = False, filtration = HeightFiltration(direction=array([ 0, -1]), n_jobs=-1)\n",
      "Got the result from ./1/64/train/filtrations/4/HeightFiltrartion_0_-1/red/diagrams.npy\n",
      "Applying Scaler to persistence diagrams.\n",
      "Got the result from ./1/64/train/filtrations/4/HeightFiltrartion_0_-1/red/features.npy\n",
      "FiltrationExtractor: processing 1/64/train/filtrations/4/HeightFiltrartion_0_-1/green, do_fit = False, filtration = HeightFiltration(direction=array([ 0, -1]), n_jobs=-1)\n",
      "Got the result from ./1/64/train/filtrations/4/HeightFiltrartion_0_-1/green/diagrams.npy\n",
      "Applying Scaler to persistence diagrams.\n",
      "Got the result from ./1/64/train/filtrations/4/HeightFiltrartion_0_-1/green/features.npy\n",
      "FiltrationExtractor: processing 1/64/train/filtrations/4/HeightFiltrartion_0_-1/blue, do_fit = False, filtration = HeightFiltration(direction=array([ 0, -1]), n_jobs=-1)\n",
      "Got the result from ./1/64/train/filtrations/4/HeightFiltrartion_0_-1/blue/diagrams.npy\n",
      "Applying Scaler to persistence diagrams.\n",
      "Got the result from ./1/64/train/filtrations/4/HeightFiltrartion_0_-1/blue/features.npy\n",
      "Applying filtration 29/72: HeightFiltration with d = (0, 1), bin. thr. = 0.4\n",
      "RGB images received. Transforming to grayscale.\n"
     ]
    },
    {
     "name": "stderr",
     "output_type": "stream",
     "text": [
      "rgb2gray: 100%|██████████| 9469/9469 [00:01<00:00, 5357.65it/s]\n"
     ]
    },
    {
     "name": "stdout",
     "output_type": "stream",
     "text": [
      "FiltrationExtractor: processing 1/64/train/filtrations/4/HeightFiltrartion_0_1/gray, do_fit = False, filtration = HeightFiltration(direction=array([0, 1]), n_jobs=-1)\n",
      "Got the result from ./1/64/train/filtrations/4/HeightFiltrartion_0_1/gray/diagrams.npy\n",
      "Applying Scaler to persistence diagrams.\n",
      "Got the result from ./1/64/train/filtrations/4/HeightFiltrartion_0_1/gray/features.npy\n",
      "FiltrationExtractor: processing 1/64/train/filtrations/4/HeightFiltrartion_0_1/red, do_fit = False, filtration = HeightFiltration(direction=array([0, 1]), n_jobs=-1)\n",
      "Got the result from ./1/64/train/filtrations/4/HeightFiltrartion_0_1/red/diagrams.npy\n",
      "Applying Scaler to persistence diagrams.\n",
      "Got the result from ./1/64/train/filtrations/4/HeightFiltrartion_0_1/red/features.npy\n",
      "FiltrationExtractor: processing 1/64/train/filtrations/4/HeightFiltrartion_0_1/green, do_fit = False, filtration = HeightFiltration(direction=array([0, 1]), n_jobs=-1)\n",
      "Got the result from ./1/64/train/filtrations/4/HeightFiltrartion_0_1/green/diagrams.npy\n",
      "Applying Scaler to persistence diagrams.\n",
      "Got the result from ./1/64/train/filtrations/4/HeightFiltrartion_0_1/green/features.npy\n",
      "FiltrationExtractor: processing 1/64/train/filtrations/4/HeightFiltrartion_0_1/blue, do_fit = False, filtration = HeightFiltration(direction=array([0, 1]), n_jobs=-1)\n",
      "Got the result from ./1/64/train/filtrations/4/HeightFiltrartion_0_1/blue/diagrams.npy\n",
      "Applying Scaler to persistence diagrams.\n",
      "Got the result from ./1/64/train/filtrations/4/HeightFiltrartion_0_1/blue/features.npy\n",
      "Applying filtration 30/72: HeightFiltration with d = (1, -1), bin. thr. = 0.4\n",
      "RGB images received. Transforming to grayscale.\n"
     ]
    },
    {
     "name": "stderr",
     "output_type": "stream",
     "text": [
      "rgb2gray: 100%|██████████| 9469/9469 [00:01<00:00, 5252.96it/s]\n"
     ]
    },
    {
     "name": "stdout",
     "output_type": "stream",
     "text": [
      "FiltrationExtractor: processing 1/64/train/filtrations/4/HeightFiltrartion_1_-1/gray, do_fit = False, filtration = HeightFiltration(direction=array([ 1, -1]), n_jobs=-1)\n",
      "Got the result from ./1/64/train/filtrations/4/HeightFiltrartion_1_-1/gray/diagrams.npy\n",
      "Applying Scaler to persistence diagrams.\n",
      "Got the result from ./1/64/train/filtrations/4/HeightFiltrartion_1_-1/gray/features.npy\n",
      "FiltrationExtractor: processing 1/64/train/filtrations/4/HeightFiltrartion_1_-1/red, do_fit = False, filtration = HeightFiltration(direction=array([ 1, -1]), n_jobs=-1)\n",
      "Got the result from ./1/64/train/filtrations/4/HeightFiltrartion_1_-1/red/diagrams.npy\n",
      "Applying Scaler to persistence diagrams.\n",
      "Got the result from ./1/64/train/filtrations/4/HeightFiltrartion_1_-1/red/features.npy\n",
      "FiltrationExtractor: processing 1/64/train/filtrations/4/HeightFiltrartion_1_-1/green, do_fit = False, filtration = HeightFiltration(direction=array([ 1, -1]), n_jobs=-1)\n",
      "Got the result from ./1/64/train/filtrations/4/HeightFiltrartion_1_-1/green/diagrams.npy\n",
      "Applying Scaler to persistence diagrams.\n",
      "Got the result from ./1/64/train/filtrations/4/HeightFiltrartion_1_-1/green/features.npy\n",
      "FiltrationExtractor: processing 1/64/train/filtrations/4/HeightFiltrartion_1_-1/blue, do_fit = False, filtration = HeightFiltration(direction=array([ 1, -1]), n_jobs=-1)\n",
      "Got the result from ./1/64/train/filtrations/4/HeightFiltrartion_1_-1/blue/diagrams.npy\n",
      "Applying Scaler to persistence diagrams.\n",
      "Got the result from ./1/64/train/filtrations/4/HeightFiltrartion_1_-1/blue/features.npy\n",
      "Applying filtration 31/72: HeightFiltration with d = (1, 0), bin. thr. = 0.4\n",
      "RGB images received. Transforming to grayscale.\n"
     ]
    },
    {
     "name": "stderr",
     "output_type": "stream",
     "text": [
      "rgb2gray: 100%|██████████| 9469/9469 [00:01<00:00, 5417.40it/s]\n"
     ]
    },
    {
     "name": "stdout",
     "output_type": "stream",
     "text": [
      "FiltrationExtractor: processing 1/64/train/filtrations/4/HeightFiltrartion_1_0/gray, do_fit = False, filtration = HeightFiltration(direction=array([1, 0]), n_jobs=-1)\n",
      "Got the result from ./1/64/train/filtrations/4/HeightFiltrartion_1_0/gray/diagrams.npy\n",
      "Applying Scaler to persistence diagrams.\n",
      "Got the result from ./1/64/train/filtrations/4/HeightFiltrartion_1_0/gray/features.npy\n",
      "FiltrationExtractor: processing 1/64/train/filtrations/4/HeightFiltrartion_1_0/red, do_fit = False, filtration = HeightFiltration(direction=array([1, 0]), n_jobs=-1)\n",
      "Got the result from ./1/64/train/filtrations/4/HeightFiltrartion_1_0/red/diagrams.npy\n",
      "Applying Scaler to persistence diagrams.\n",
      "Got the result from ./1/64/train/filtrations/4/HeightFiltrartion_1_0/red/features.npy\n",
      "FiltrationExtractor: processing 1/64/train/filtrations/4/HeightFiltrartion_1_0/green, do_fit = False, filtration = HeightFiltration(direction=array([1, 0]), n_jobs=-1)\n",
      "Got the result from ./1/64/train/filtrations/4/HeightFiltrartion_1_0/green/diagrams.npy\n",
      "Applying Scaler to persistence diagrams.\n",
      "Got the result from ./1/64/train/filtrations/4/HeightFiltrartion_1_0/green/features.npy\n",
      "FiltrationExtractor: processing 1/64/train/filtrations/4/HeightFiltrartion_1_0/blue, do_fit = False, filtration = HeightFiltration(direction=array([1, 0]), n_jobs=-1)\n",
      "Got the result from ./1/64/train/filtrations/4/HeightFiltrartion_1_0/blue/diagrams.npy\n",
      "Applying Scaler to persistence diagrams.\n",
      "Got the result from ./1/64/train/filtrations/4/HeightFiltrartion_1_0/blue/features.npy\n",
      "Applying filtration 32/72: HeightFiltration with d = (1, 1), bin. thr. = 0.4\n",
      "RGB images received. Transforming to grayscale.\n"
     ]
    },
    {
     "name": "stderr",
     "output_type": "stream",
     "text": [
      "rgb2gray: 100%|██████████| 9469/9469 [00:01<00:00, 5522.40it/s]\n"
     ]
    },
    {
     "name": "stdout",
     "output_type": "stream",
     "text": [
      "FiltrationExtractor: processing 1/64/train/filtrations/4/HeightFiltrartion_1_1/gray, do_fit = False, filtration = HeightFiltration(direction=array([1, 1]), n_jobs=-1)\n",
      "Got the result from ./1/64/train/filtrations/4/HeightFiltrartion_1_1/gray/diagrams.npy\n",
      "Applying Scaler to persistence diagrams.\n",
      "Got the result from ./1/64/train/filtrations/4/HeightFiltrartion_1_1/gray/features.npy\n",
      "FiltrationExtractor: processing 1/64/train/filtrations/4/HeightFiltrartion_1_1/red, do_fit = False, filtration = HeightFiltration(direction=array([1, 1]), n_jobs=-1)\n",
      "Got the result from ./1/64/train/filtrations/4/HeightFiltrartion_1_1/red/diagrams.npy\n",
      "Applying Scaler to persistence diagrams.\n",
      "Got the result from ./1/64/train/filtrations/4/HeightFiltrartion_1_1/red/features.npy\n",
      "FiltrationExtractor: processing 1/64/train/filtrations/4/HeightFiltrartion_1_1/green, do_fit = False, filtration = HeightFiltration(direction=array([1, 1]), n_jobs=-1)\n",
      "Got the result from ./1/64/train/filtrations/4/HeightFiltrartion_1_1/green/diagrams.npy\n",
      "Applying Scaler to persistence diagrams.\n",
      "Got the result from ./1/64/train/filtrations/4/HeightFiltrartion_1_1/green/features.npy\n",
      "FiltrationExtractor: processing 1/64/train/filtrations/4/HeightFiltrartion_1_1/blue, do_fit = False, filtration = HeightFiltration(direction=array([1, 1]), n_jobs=-1)\n",
      "Got the result from ./1/64/train/filtrations/4/HeightFiltrartion_1_1/blue/diagrams.npy\n",
      "Applying Scaler to persistence diagrams.\n",
      "Got the result from ./1/64/train/filtrations/4/HeightFiltrartion_1_1/blue/features.npy\n",
      "Applying filtration 33/72: RadialFiltration with c = (12, 12), bin. thr. = 0.4\n",
      "RGB images received. Transforming to grayscale.\n"
     ]
    },
    {
     "name": "stderr",
     "output_type": "stream",
     "text": [
      "rgb2gray: 100%|██████████| 9469/9469 [00:01<00:00, 5428.26it/s]\n"
     ]
    },
    {
     "name": "stdout",
     "output_type": "stream",
     "text": [
      "FiltrationExtractor: processing 1/64/train/filtrations/4/RadialFiltration_12_12/gray, do_fit = False, filtration = RadialFiltration(center=array([12, 12]), n_jobs=-1)\n",
      "Got the result from ./1/64/train/filtrations/4/RadialFiltration_12_12/gray/diagrams.npy\n",
      "Applying Scaler to persistence diagrams.\n",
      "Got the result from ./1/64/train/filtrations/4/RadialFiltration_12_12/gray/features.npy\n",
      "FiltrationExtractor: processing 1/64/train/filtrations/4/RadialFiltration_12_12/red, do_fit = False, filtration = RadialFiltration(center=array([12, 12]), n_jobs=-1)\n",
      "Got the result from ./1/64/train/filtrations/4/RadialFiltration_12_12/red/diagrams.npy\n",
      "Applying Scaler to persistence diagrams.\n",
      "Got the result from ./1/64/train/filtrations/4/RadialFiltration_12_12/red/features.npy\n",
      "FiltrationExtractor: processing 1/64/train/filtrations/4/RadialFiltration_12_12/green, do_fit = False, filtration = RadialFiltration(center=array([12, 12]), n_jobs=-1)\n",
      "Got the result from ./1/64/train/filtrations/4/RadialFiltration_12_12/green/diagrams.npy\n",
      "Applying Scaler to persistence diagrams.\n",
      "Got the result from ./1/64/train/filtrations/4/RadialFiltration_12_12/green/features.npy\n",
      "FiltrationExtractor: processing 1/64/train/filtrations/4/RadialFiltration_12_12/blue, do_fit = False, filtration = RadialFiltration(center=array([12, 12]), n_jobs=-1)\n",
      "Got the result from ./1/64/train/filtrations/4/RadialFiltration_12_12/blue/diagrams.npy\n",
      "Applying Scaler to persistence diagrams.\n",
      "Got the result from ./1/64/train/filtrations/4/RadialFiltration_12_12/blue/features.npy\n",
      "Applying filtration 34/72: RadialFiltration with c = (12, 25), bin. thr. = 0.4\n",
      "RGB images received. Transforming to grayscale.\n"
     ]
    },
    {
     "name": "stderr",
     "output_type": "stream",
     "text": [
      "rgb2gray: 100%|██████████| 9469/9469 [00:01<00:00, 5152.42it/s]\n"
     ]
    },
    {
     "name": "stdout",
     "output_type": "stream",
     "text": [
      "FiltrationExtractor: processing 1/64/train/filtrations/4/RadialFiltration_12_25/gray, do_fit = False, filtration = RadialFiltration(center=array([12, 25]), n_jobs=-1)\n",
      "Got the result from ./1/64/train/filtrations/4/RadialFiltration_12_25/gray/diagrams.npy\n",
      "Applying Scaler to persistence diagrams.\n",
      "Got the result from ./1/64/train/filtrations/4/RadialFiltration_12_25/gray/features.npy\n",
      "FiltrationExtractor: processing 1/64/train/filtrations/4/RadialFiltration_12_25/red, do_fit = False, filtration = RadialFiltration(center=array([12, 25]), n_jobs=-1)\n",
      "Got the result from ./1/64/train/filtrations/4/RadialFiltration_12_25/red/diagrams.npy\n",
      "Applying Scaler to persistence diagrams.\n",
      "Got the result from ./1/64/train/filtrations/4/RadialFiltration_12_25/red/features.npy\n",
      "FiltrationExtractor: processing 1/64/train/filtrations/4/RadialFiltration_12_25/green, do_fit = False, filtration = RadialFiltration(center=array([12, 25]), n_jobs=-1)\n",
      "Got the result from ./1/64/train/filtrations/4/RadialFiltration_12_25/green/diagrams.npy\n",
      "Applying Scaler to persistence diagrams.\n",
      "Got the result from ./1/64/train/filtrations/4/RadialFiltration_12_25/green/features.npy\n",
      "FiltrationExtractor: processing 1/64/train/filtrations/4/RadialFiltration_12_25/blue, do_fit = False, filtration = RadialFiltration(center=array([12, 25]), n_jobs=-1)\n",
      "Got the result from ./1/64/train/filtrations/4/RadialFiltration_12_25/blue/diagrams.npy\n",
      "Applying Scaler to persistence diagrams.\n",
      "Got the result from ./1/64/train/filtrations/4/RadialFiltration_12_25/blue/features.npy\n",
      "Applying filtration 35/72: RadialFiltration with c = (12, 38), bin. thr. = 0.4\n",
      "RGB images received. Transforming to grayscale.\n"
     ]
    },
    {
     "name": "stderr",
     "output_type": "stream",
     "text": [
      "rgb2gray: 100%|██████████| 9469/9469 [00:01<00:00, 5373.97it/s]\n"
     ]
    },
    {
     "name": "stdout",
     "output_type": "stream",
     "text": [
      "FiltrationExtractor: processing 1/64/train/filtrations/4/RadialFiltration_12_38/gray, do_fit = False, filtration = RadialFiltration(center=array([12, 38]), n_jobs=-1)\n",
      "Got the result from ./1/64/train/filtrations/4/RadialFiltration_12_38/gray/diagrams.npy\n",
      "Applying Scaler to persistence diagrams.\n",
      "Got the result from ./1/64/train/filtrations/4/RadialFiltration_12_38/gray/features.npy\n",
      "FiltrationExtractor: processing 1/64/train/filtrations/4/RadialFiltration_12_38/red, do_fit = False, filtration = RadialFiltration(center=array([12, 38]), n_jobs=-1)\n",
      "Got the result from ./1/64/train/filtrations/4/RadialFiltration_12_38/red/diagrams.npy\n",
      "Applying Scaler to persistence diagrams.\n",
      "Got the result from ./1/64/train/filtrations/4/RadialFiltration_12_38/red/features.npy\n",
      "FiltrationExtractor: processing 1/64/train/filtrations/4/RadialFiltration_12_38/green, do_fit = False, filtration = RadialFiltration(center=array([12, 38]), n_jobs=-1)\n",
      "Got the result from ./1/64/train/filtrations/4/RadialFiltration_12_38/green/diagrams.npy\n",
      "Applying Scaler to persistence diagrams.\n",
      "Got the result from ./1/64/train/filtrations/4/RadialFiltration_12_38/green/features.npy\n",
      "FiltrationExtractor: processing 1/64/train/filtrations/4/RadialFiltration_12_38/blue, do_fit = False, filtration = RadialFiltration(center=array([12, 38]), n_jobs=-1)\n",
      "Got the result from ./1/64/train/filtrations/4/RadialFiltration_12_38/blue/diagrams.npy\n",
      "Applying Scaler to persistence diagrams.\n",
      "Got the result from ./1/64/train/filtrations/4/RadialFiltration_12_38/blue/features.npy\n",
      "Applying filtration 36/72: RadialFiltration with c = (12, 51), bin. thr. = 0.4\n",
      "RGB images received. Transforming to grayscale.\n"
     ]
    },
    {
     "name": "stderr",
     "output_type": "stream",
     "text": [
      "rgb2gray: 100%|██████████| 9469/9469 [00:01<00:00, 5388.73it/s]\n"
     ]
    },
    {
     "name": "stdout",
     "output_type": "stream",
     "text": [
      "FiltrationExtractor: processing 1/64/train/filtrations/4/RadialFiltration_12_51/gray, do_fit = False, filtration = RadialFiltration(center=array([12, 51]), n_jobs=-1)\n",
      "Got the result from ./1/64/train/filtrations/4/RadialFiltration_12_51/gray/diagrams.npy\n",
      "Applying Scaler to persistence diagrams.\n",
      "Got the result from ./1/64/train/filtrations/4/RadialFiltration_12_51/gray/features.npy\n",
      "FiltrationExtractor: processing 1/64/train/filtrations/4/RadialFiltration_12_51/red, do_fit = False, filtration = RadialFiltration(center=array([12, 51]), n_jobs=-1)\n",
      "Got the result from ./1/64/train/filtrations/4/RadialFiltration_12_51/red/diagrams.npy\n",
      "Applying Scaler to persistence diagrams.\n",
      "Got the result from ./1/64/train/filtrations/4/RadialFiltration_12_51/red/features.npy\n",
      "FiltrationExtractor: processing 1/64/train/filtrations/4/RadialFiltration_12_51/green, do_fit = False, filtration = RadialFiltration(center=array([12, 51]), n_jobs=-1)\n",
      "Got the result from ./1/64/train/filtrations/4/RadialFiltration_12_51/green/diagrams.npy\n",
      "Applying Scaler to persistence diagrams.\n",
      "Got the result from ./1/64/train/filtrations/4/RadialFiltration_12_51/green/features.npy\n",
      "FiltrationExtractor: processing 1/64/train/filtrations/4/RadialFiltration_12_51/blue, do_fit = False, filtration = RadialFiltration(center=array([12, 51]), n_jobs=-1)\n",
      "Got the result from ./1/64/train/filtrations/4/RadialFiltration_12_51/blue/diagrams.npy\n",
      "Applying Scaler to persistence diagrams.\n",
      "Got the result from ./1/64/train/filtrations/4/RadialFiltration_12_51/blue/features.npy\n",
      "Applying filtration 37/72: RadialFiltration with c = (25, 12), bin. thr. = 0.4\n",
      "RGB images received. Transforming to grayscale.\n"
     ]
    },
    {
     "name": "stderr",
     "output_type": "stream",
     "text": [
      "rgb2gray: 100%|██████████| 9469/9469 [00:01<00:00, 5211.70it/s]\n"
     ]
    },
    {
     "name": "stdout",
     "output_type": "stream",
     "text": [
      "FiltrationExtractor: processing 1/64/train/filtrations/4/RadialFiltration_25_12/gray, do_fit = False, filtration = RadialFiltration(center=array([25, 12]), n_jobs=-1)\n",
      "Got the result from ./1/64/train/filtrations/4/RadialFiltration_25_12/gray/diagrams.npy\n",
      "Applying Scaler to persistence diagrams.\n",
      "Got the result from ./1/64/train/filtrations/4/RadialFiltration_25_12/gray/features.npy\n",
      "FiltrationExtractor: processing 1/64/train/filtrations/4/RadialFiltration_25_12/red, do_fit = False, filtration = RadialFiltration(center=array([25, 12]), n_jobs=-1)\n",
      "Got the result from ./1/64/train/filtrations/4/RadialFiltration_25_12/red/diagrams.npy\n",
      "Applying Scaler to persistence diagrams.\n",
      "Got the result from ./1/64/train/filtrations/4/RadialFiltration_25_12/red/features.npy\n",
      "FiltrationExtractor: processing 1/64/train/filtrations/4/RadialFiltration_25_12/green, do_fit = False, filtration = RadialFiltration(center=array([25, 12]), n_jobs=-1)\n",
      "Got the result from ./1/64/train/filtrations/4/RadialFiltration_25_12/green/diagrams.npy\n",
      "Applying Scaler to persistence diagrams.\n",
      "Got the result from ./1/64/train/filtrations/4/RadialFiltration_25_12/green/features.npy\n",
      "FiltrationExtractor: processing 1/64/train/filtrations/4/RadialFiltration_25_12/blue, do_fit = False, filtration = RadialFiltration(center=array([25, 12]), n_jobs=-1)\n",
      "Got the result from ./1/64/train/filtrations/4/RadialFiltration_25_12/blue/diagrams.npy\n",
      "Applying Scaler to persistence diagrams.\n",
      "Got the result from ./1/64/train/filtrations/4/RadialFiltration_25_12/blue/features.npy\n",
      "Applying filtration 38/72: RadialFiltration with c = (25, 25), bin. thr. = 0.4\n",
      "RGB images received. Transforming to grayscale.\n"
     ]
    },
    {
     "name": "stderr",
     "output_type": "stream",
     "text": [
      "rgb2gray: 100%|██████████| 9469/9469 [00:01<00:00, 5347.64it/s]\n"
     ]
    },
    {
     "name": "stdout",
     "output_type": "stream",
     "text": [
      "FiltrationExtractor: processing 1/64/train/filtrations/4/RadialFiltration_25_25/gray, do_fit = False, filtration = RadialFiltration(center=array([25, 25]), n_jobs=-1)\n",
      "Got the result from ./1/64/train/filtrations/4/RadialFiltration_25_25/gray/diagrams.npy\n",
      "Applying Scaler to persistence diagrams.\n",
      "Got the result from ./1/64/train/filtrations/4/RadialFiltration_25_25/gray/features.npy\n",
      "FiltrationExtractor: processing 1/64/train/filtrations/4/RadialFiltration_25_25/red, do_fit = False, filtration = RadialFiltration(center=array([25, 25]), n_jobs=-1)\n",
      "Got the result from ./1/64/train/filtrations/4/RadialFiltration_25_25/red/diagrams.npy\n",
      "Applying Scaler to persistence diagrams.\n",
      "Got the result from ./1/64/train/filtrations/4/RadialFiltration_25_25/red/features.npy\n",
      "FiltrationExtractor: processing 1/64/train/filtrations/4/RadialFiltration_25_25/green, do_fit = False, filtration = RadialFiltration(center=array([25, 25]), n_jobs=-1)\n",
      "Got the result from ./1/64/train/filtrations/4/RadialFiltration_25_25/green/diagrams.npy\n",
      "Applying Scaler to persistence diagrams.\n",
      "Got the result from ./1/64/train/filtrations/4/RadialFiltration_25_25/green/features.npy\n",
      "FiltrationExtractor: processing 1/64/train/filtrations/4/RadialFiltration_25_25/blue, do_fit = False, filtration = RadialFiltration(center=array([25, 25]), n_jobs=-1)\n",
      "Got the result from ./1/64/train/filtrations/4/RadialFiltration_25_25/blue/diagrams.npy\n",
      "Applying Scaler to persistence diagrams.\n",
      "Got the result from ./1/64/train/filtrations/4/RadialFiltration_25_25/blue/features.npy\n",
      "Applying filtration 39/72: RadialFiltration with c = (25, 38), bin. thr. = 0.4\n",
      "RGB images received. Transforming to grayscale.\n"
     ]
    },
    {
     "name": "stderr",
     "output_type": "stream",
     "text": [
      "rgb2gray: 100%|██████████| 9469/9469 [00:01<00:00, 5031.75it/s]\n"
     ]
    },
    {
     "name": "stdout",
     "output_type": "stream",
     "text": [
      "FiltrationExtractor: processing 1/64/train/filtrations/4/RadialFiltration_25_38/gray, do_fit = False, filtration = RadialFiltration(center=array([25, 38]), n_jobs=-1)\n",
      "Got the result from ./1/64/train/filtrations/4/RadialFiltration_25_38/gray/diagrams.npy\n",
      "Applying Scaler to persistence diagrams.\n",
      "Got the result from ./1/64/train/filtrations/4/RadialFiltration_25_38/gray/features.npy\n",
      "FiltrationExtractor: processing 1/64/train/filtrations/4/RadialFiltration_25_38/red, do_fit = False, filtration = RadialFiltration(center=array([25, 38]), n_jobs=-1)\n",
      "Got the result from ./1/64/train/filtrations/4/RadialFiltration_25_38/red/diagrams.npy\n",
      "Applying Scaler to persistence diagrams.\n",
      "Got the result from ./1/64/train/filtrations/4/RadialFiltration_25_38/red/features.npy\n",
      "FiltrationExtractor: processing 1/64/train/filtrations/4/RadialFiltration_25_38/green, do_fit = False, filtration = RadialFiltration(center=array([25, 38]), n_jobs=-1)\n",
      "Got the result from ./1/64/train/filtrations/4/RadialFiltration_25_38/green/diagrams.npy\n",
      "Applying Scaler to persistence diagrams.\n",
      "Got the result from ./1/64/train/filtrations/4/RadialFiltration_25_38/green/features.npy\n",
      "FiltrationExtractor: processing 1/64/train/filtrations/4/RadialFiltration_25_38/blue, do_fit = False, filtration = RadialFiltration(center=array([25, 38]), n_jobs=-1)\n",
      "Got the result from ./1/64/train/filtrations/4/RadialFiltration_25_38/blue/diagrams.npy\n",
      "Applying Scaler to persistence diagrams.\n",
      "Got the result from ./1/64/train/filtrations/4/RadialFiltration_25_38/blue/features.npy\n",
      "Applying filtration 40/72: RadialFiltration with c = (25, 51), bin. thr. = 0.4\n",
      "RGB images received. Transforming to grayscale.\n"
     ]
    },
    {
     "name": "stderr",
     "output_type": "stream",
     "text": [
      "rgb2gray: 100%|██████████| 9469/9469 [00:01<00:00, 5347.51it/s]\n"
     ]
    },
    {
     "name": "stdout",
     "output_type": "stream",
     "text": [
      "FiltrationExtractor: processing 1/64/train/filtrations/4/RadialFiltration_25_51/gray, do_fit = False, filtration = RadialFiltration(center=array([25, 51]), n_jobs=-1)\n",
      "Got the result from ./1/64/train/filtrations/4/RadialFiltration_25_51/gray/diagrams.npy\n",
      "Applying Scaler to persistence diagrams.\n",
      "Got the result from ./1/64/train/filtrations/4/RadialFiltration_25_51/gray/features.npy\n",
      "FiltrationExtractor: processing 1/64/train/filtrations/4/RadialFiltration_25_51/red, do_fit = False, filtration = RadialFiltration(center=array([25, 51]), n_jobs=-1)\n",
      "Got the result from ./1/64/train/filtrations/4/RadialFiltration_25_51/red/diagrams.npy\n",
      "Applying Scaler to persistence diagrams.\n",
      "Got the result from ./1/64/train/filtrations/4/RadialFiltration_25_51/red/features.npy\n",
      "FiltrationExtractor: processing 1/64/train/filtrations/4/RadialFiltration_25_51/green, do_fit = False, filtration = RadialFiltration(center=array([25, 51]), n_jobs=-1)\n",
      "Got the result from ./1/64/train/filtrations/4/RadialFiltration_25_51/green/diagrams.npy\n",
      "Applying Scaler to persistence diagrams.\n",
      "Got the result from ./1/64/train/filtrations/4/RadialFiltration_25_51/green/features.npy\n",
      "FiltrationExtractor: processing 1/64/train/filtrations/4/RadialFiltration_25_51/blue, do_fit = False, filtration = RadialFiltration(center=array([25, 51]), n_jobs=-1)\n",
      "Got the result from ./1/64/train/filtrations/4/RadialFiltration_25_51/blue/diagrams.npy\n",
      "Applying Scaler to persistence diagrams.\n",
      "Got the result from ./1/64/train/filtrations/4/RadialFiltration_25_51/blue/features.npy\n",
      "Applying filtration 41/72: RadialFiltration with c = (38, 12), bin. thr. = 0.4\n",
      "RGB images received. Transforming to grayscale.\n"
     ]
    },
    {
     "name": "stderr",
     "output_type": "stream",
     "text": [
      "rgb2gray: 100%|██████████| 9469/9469 [00:01<00:00, 5673.37it/s]\n"
     ]
    },
    {
     "name": "stdout",
     "output_type": "stream",
     "text": [
      "FiltrationExtractor: processing 1/64/train/filtrations/4/RadialFiltration_38_12/gray, do_fit = False, filtration = RadialFiltration(center=array([38, 12]), n_jobs=-1)\n",
      "Got the result from ./1/64/train/filtrations/4/RadialFiltration_38_12/gray/diagrams.npy\n",
      "Applying Scaler to persistence diagrams.\n",
      "Got the result from ./1/64/train/filtrations/4/RadialFiltration_38_12/gray/features.npy\n",
      "FiltrationExtractor: processing 1/64/train/filtrations/4/RadialFiltration_38_12/red, do_fit = False, filtration = RadialFiltration(center=array([38, 12]), n_jobs=-1)\n",
      "Got the result from ./1/64/train/filtrations/4/RadialFiltration_38_12/red/diagrams.npy\n",
      "Applying Scaler to persistence diagrams.\n",
      "Got the result from ./1/64/train/filtrations/4/RadialFiltration_38_12/red/features.npy\n",
      "FiltrationExtractor: processing 1/64/train/filtrations/4/RadialFiltration_38_12/green, do_fit = False, filtration = RadialFiltration(center=array([38, 12]), n_jobs=-1)\n",
      "Got the result from ./1/64/train/filtrations/4/RadialFiltration_38_12/green/diagrams.npy\n",
      "Applying Scaler to persistence diagrams.\n",
      "Got the result from ./1/64/train/filtrations/4/RadialFiltration_38_12/green/features.npy\n",
      "FiltrationExtractor: processing 1/64/train/filtrations/4/RadialFiltration_38_12/blue, do_fit = False, filtration = RadialFiltration(center=array([38, 12]), n_jobs=-1)\n",
      "Got the result from ./1/64/train/filtrations/4/RadialFiltration_38_12/blue/diagrams.npy\n",
      "Applying Scaler to persistence diagrams.\n",
      "Got the result from ./1/64/train/filtrations/4/RadialFiltration_38_12/blue/features.npy\n",
      "Applying filtration 42/72: RadialFiltration with c = (38, 25), bin. thr. = 0.4\n",
      "RGB images received. Transforming to grayscale.\n"
     ]
    },
    {
     "name": "stderr",
     "output_type": "stream",
     "text": [
      "rgb2gray: 100%|██████████| 9469/9469 [00:01<00:00, 5735.68it/s]\n"
     ]
    },
    {
     "name": "stdout",
     "output_type": "stream",
     "text": [
      "FiltrationExtractor: processing 1/64/train/filtrations/4/RadialFiltration_38_25/gray, do_fit = False, filtration = RadialFiltration(center=array([38, 25]), n_jobs=-1)\n",
      "Got the result from ./1/64/train/filtrations/4/RadialFiltration_38_25/gray/diagrams.npy\n",
      "Applying Scaler to persistence diagrams.\n",
      "Got the result from ./1/64/train/filtrations/4/RadialFiltration_38_25/gray/features.npy\n",
      "FiltrationExtractor: processing 1/64/train/filtrations/4/RadialFiltration_38_25/red, do_fit = False, filtration = RadialFiltration(center=array([38, 25]), n_jobs=-1)\n",
      "Got the result from ./1/64/train/filtrations/4/RadialFiltration_38_25/red/diagrams.npy\n",
      "Applying Scaler to persistence diagrams.\n",
      "Got the result from ./1/64/train/filtrations/4/RadialFiltration_38_25/red/features.npy\n",
      "FiltrationExtractor: processing 1/64/train/filtrations/4/RadialFiltration_38_25/green, do_fit = False, filtration = RadialFiltration(center=array([38, 25]), n_jobs=-1)\n",
      "Got the result from ./1/64/train/filtrations/4/RadialFiltration_38_25/green/diagrams.npy\n",
      "Applying Scaler to persistence diagrams.\n",
      "Got the result from ./1/64/train/filtrations/4/RadialFiltration_38_25/green/features.npy\n",
      "FiltrationExtractor: processing 1/64/train/filtrations/4/RadialFiltration_38_25/blue, do_fit = False, filtration = RadialFiltration(center=array([38, 25]), n_jobs=-1)\n",
      "Got the result from ./1/64/train/filtrations/4/RadialFiltration_38_25/blue/diagrams.npy\n",
      "Applying Scaler to persistence diagrams.\n",
      "Got the result from ./1/64/train/filtrations/4/RadialFiltration_38_25/blue/features.npy\n",
      "Applying filtration 43/72: RadialFiltration with c = (38, 38), bin. thr. = 0.4\n",
      "RGB images received. Transforming to grayscale.\n"
     ]
    },
    {
     "name": "stderr",
     "output_type": "stream",
     "text": [
      "rgb2gray: 100%|██████████| 9469/9469 [00:01<00:00, 5487.99it/s]\n"
     ]
    },
    {
     "name": "stdout",
     "output_type": "stream",
     "text": [
      "FiltrationExtractor: processing 1/64/train/filtrations/4/RadialFiltration_38_38/gray, do_fit = False, filtration = RadialFiltration(center=array([38, 38]), n_jobs=-1)\n",
      "Got the result from ./1/64/train/filtrations/4/RadialFiltration_38_38/gray/diagrams.npy\n",
      "Applying Scaler to persistence diagrams.\n",
      "Got the result from ./1/64/train/filtrations/4/RadialFiltration_38_38/gray/features.npy\n",
      "FiltrationExtractor: processing 1/64/train/filtrations/4/RadialFiltration_38_38/red, do_fit = False, filtration = RadialFiltration(center=array([38, 38]), n_jobs=-1)\n",
      "Got the result from ./1/64/train/filtrations/4/RadialFiltration_38_38/red/diagrams.npy\n",
      "Applying Scaler to persistence diagrams.\n",
      "Got the result from ./1/64/train/filtrations/4/RadialFiltration_38_38/red/features.npy\n",
      "FiltrationExtractor: processing 1/64/train/filtrations/4/RadialFiltration_38_38/green, do_fit = False, filtration = RadialFiltration(center=array([38, 38]), n_jobs=-1)\n",
      "Got the result from ./1/64/train/filtrations/4/RadialFiltration_38_38/green/diagrams.npy\n",
      "Applying Scaler to persistence diagrams.\n",
      "Got the result from ./1/64/train/filtrations/4/RadialFiltration_38_38/green/features.npy\n",
      "FiltrationExtractor: processing 1/64/train/filtrations/4/RadialFiltration_38_38/blue, do_fit = False, filtration = RadialFiltration(center=array([38, 38]), n_jobs=-1)\n",
      "Got the result from ./1/64/train/filtrations/4/RadialFiltration_38_38/blue/diagrams.npy\n",
      "Applying Scaler to persistence diagrams.\n",
      "Got the result from ./1/64/train/filtrations/4/RadialFiltration_38_38/blue/features.npy\n",
      "Applying filtration 44/72: RadialFiltration with c = (38, 51), bin. thr. = 0.4\n",
      "RGB images received. Transforming to grayscale.\n"
     ]
    },
    {
     "name": "stderr",
     "output_type": "stream",
     "text": [
      "rgb2gray: 100%|██████████| 9469/9469 [00:01<00:00, 5212.90it/s]\n"
     ]
    },
    {
     "name": "stdout",
     "output_type": "stream",
     "text": [
      "FiltrationExtractor: processing 1/64/train/filtrations/4/RadialFiltration_38_51/gray, do_fit = False, filtration = RadialFiltration(center=array([38, 51]), n_jobs=-1)\n",
      "Got the result from ./1/64/train/filtrations/4/RadialFiltration_38_51/gray/diagrams.npy\n",
      "Applying Scaler to persistence diagrams.\n",
      "Got the result from ./1/64/train/filtrations/4/RadialFiltration_38_51/gray/features.npy\n",
      "FiltrationExtractor: processing 1/64/train/filtrations/4/RadialFiltration_38_51/red, do_fit = False, filtration = RadialFiltration(center=array([38, 51]), n_jobs=-1)\n",
      "Got the result from ./1/64/train/filtrations/4/RadialFiltration_38_51/red/diagrams.npy\n",
      "Applying Scaler to persistence diagrams.\n",
      "Got the result from ./1/64/train/filtrations/4/RadialFiltration_38_51/red/features.npy\n",
      "FiltrationExtractor: processing 1/64/train/filtrations/4/RadialFiltration_38_51/green, do_fit = False, filtration = RadialFiltration(center=array([38, 51]), n_jobs=-1)\n",
      "Got the result from ./1/64/train/filtrations/4/RadialFiltration_38_51/green/diagrams.npy\n",
      "Applying Scaler to persistence diagrams.\n",
      "Got the result from ./1/64/train/filtrations/4/RadialFiltration_38_51/green/features.npy\n",
      "FiltrationExtractor: processing 1/64/train/filtrations/4/RadialFiltration_38_51/blue, do_fit = False, filtration = RadialFiltration(center=array([38, 51]), n_jobs=-1)\n",
      "Got the result from ./1/64/train/filtrations/4/RadialFiltration_38_51/blue/diagrams.npy\n",
      "Applying Scaler to persistence diagrams.\n",
      "Got the result from ./1/64/train/filtrations/4/RadialFiltration_38_51/blue/features.npy\n",
      "Applying filtration 45/72: RadialFiltration with c = (51, 12), bin. thr. = 0.4\n",
      "RGB images received. Transforming to grayscale.\n"
     ]
    },
    {
     "name": "stderr",
     "output_type": "stream",
     "text": [
      "rgb2gray: 100%|██████████| 9469/9469 [00:01<00:00, 5277.98it/s]\n"
     ]
    },
    {
     "name": "stdout",
     "output_type": "stream",
     "text": [
      "FiltrationExtractor: processing 1/64/train/filtrations/4/RadialFiltration_51_12/gray, do_fit = False, filtration = RadialFiltration(center=array([51, 12]), n_jobs=-1)\n",
      "Got the result from ./1/64/train/filtrations/4/RadialFiltration_51_12/gray/diagrams.npy\n",
      "Applying Scaler to persistence diagrams.\n",
      "Got the result from ./1/64/train/filtrations/4/RadialFiltration_51_12/gray/features.npy\n",
      "FiltrationExtractor: processing 1/64/train/filtrations/4/RadialFiltration_51_12/red, do_fit = False, filtration = RadialFiltration(center=array([51, 12]), n_jobs=-1)\n",
      "Got the result from ./1/64/train/filtrations/4/RadialFiltration_51_12/red/diagrams.npy\n",
      "Applying Scaler to persistence diagrams.\n",
      "Got the result from ./1/64/train/filtrations/4/RadialFiltration_51_12/red/features.npy\n",
      "FiltrationExtractor: processing 1/64/train/filtrations/4/RadialFiltration_51_12/green, do_fit = False, filtration = RadialFiltration(center=array([51, 12]), n_jobs=-1)\n",
      "Got the result from ./1/64/train/filtrations/4/RadialFiltration_51_12/green/diagrams.npy\n",
      "Applying Scaler to persistence diagrams.\n",
      "Got the result from ./1/64/train/filtrations/4/RadialFiltration_51_12/green/features.npy\n",
      "FiltrationExtractor: processing 1/64/train/filtrations/4/RadialFiltration_51_12/blue, do_fit = False, filtration = RadialFiltration(center=array([51, 12]), n_jobs=-1)\n",
      "Got the result from ./1/64/train/filtrations/4/RadialFiltration_51_12/blue/diagrams.npy\n",
      "Applying Scaler to persistence diagrams.\n",
      "Got the result from ./1/64/train/filtrations/4/RadialFiltration_51_12/blue/features.npy\n",
      "Applying filtration 46/72: RadialFiltration with c = (51, 25), bin. thr. = 0.4\n",
      "RGB images received. Transforming to grayscale.\n"
     ]
    },
    {
     "name": "stderr",
     "output_type": "stream",
     "text": [
      "rgb2gray: 100%|██████████| 9469/9469 [00:01<00:00, 5481.39it/s]\n"
     ]
    },
    {
     "name": "stdout",
     "output_type": "stream",
     "text": [
      "FiltrationExtractor: processing 1/64/train/filtrations/4/RadialFiltration_51_25/gray, do_fit = False, filtration = RadialFiltration(center=array([51, 25]), n_jobs=-1)\n",
      "Got the result from ./1/64/train/filtrations/4/RadialFiltration_51_25/gray/diagrams.npy\n",
      "Applying Scaler to persistence diagrams.\n",
      "Got the result from ./1/64/train/filtrations/4/RadialFiltration_51_25/gray/features.npy\n",
      "FiltrationExtractor: processing 1/64/train/filtrations/4/RadialFiltration_51_25/red, do_fit = False, filtration = RadialFiltration(center=array([51, 25]), n_jobs=-1)\n",
      "Got the result from ./1/64/train/filtrations/4/RadialFiltration_51_25/red/diagrams.npy\n",
      "Applying Scaler to persistence diagrams.\n",
      "Got the result from ./1/64/train/filtrations/4/RadialFiltration_51_25/red/features.npy\n",
      "FiltrationExtractor: processing 1/64/train/filtrations/4/RadialFiltration_51_25/green, do_fit = False, filtration = RadialFiltration(center=array([51, 25]), n_jobs=-1)\n",
      "Got the result from ./1/64/train/filtrations/4/RadialFiltration_51_25/green/diagrams.npy\n",
      "Applying Scaler to persistence diagrams.\n",
      "Got the result from ./1/64/train/filtrations/4/RadialFiltration_51_25/green/features.npy\n",
      "FiltrationExtractor: processing 1/64/train/filtrations/4/RadialFiltration_51_25/blue, do_fit = False, filtration = RadialFiltration(center=array([51, 25]), n_jobs=-1)\n",
      "Got the result from ./1/64/train/filtrations/4/RadialFiltration_51_25/blue/diagrams.npy\n",
      "Applying Scaler to persistence diagrams.\n",
      "Got the result from ./1/64/train/filtrations/4/RadialFiltration_51_25/blue/features.npy\n",
      "Applying filtration 47/72: RadialFiltration with c = (51, 38), bin. thr. = 0.4\n",
      "RGB images received. Transforming to grayscale.\n"
     ]
    },
    {
     "name": "stderr",
     "output_type": "stream",
     "text": [
      "rgb2gray: 100%|██████████| 9469/9469 [00:01<00:00, 5273.12it/s]\n"
     ]
    },
    {
     "name": "stdout",
     "output_type": "stream",
     "text": [
      "FiltrationExtractor: processing 1/64/train/filtrations/4/RadialFiltration_51_38/gray, do_fit = False, filtration = RadialFiltration(center=array([51, 38]), n_jobs=-1)\n",
      "Got the result from ./1/64/train/filtrations/4/RadialFiltration_51_38/gray/diagrams.npy\n",
      "Applying Scaler to persistence diagrams.\n",
      "Got the result from ./1/64/train/filtrations/4/RadialFiltration_51_38/gray/features.npy\n",
      "FiltrationExtractor: processing 1/64/train/filtrations/4/RadialFiltration_51_38/red, do_fit = False, filtration = RadialFiltration(center=array([51, 38]), n_jobs=-1)\n",
      "Got the result from ./1/64/train/filtrations/4/RadialFiltration_51_38/red/diagrams.npy\n",
      "Applying Scaler to persistence diagrams.\n",
      "Got the result from ./1/64/train/filtrations/4/RadialFiltration_51_38/red/features.npy\n",
      "FiltrationExtractor: processing 1/64/train/filtrations/4/RadialFiltration_51_38/green, do_fit = False, filtration = RadialFiltration(center=array([51, 38]), n_jobs=-1)\n",
      "Got the result from ./1/64/train/filtrations/4/RadialFiltration_51_38/green/diagrams.npy\n",
      "Applying Scaler to persistence diagrams.\n",
      "Got the result from ./1/64/train/filtrations/4/RadialFiltration_51_38/green/features.npy\n",
      "FiltrationExtractor: processing 1/64/train/filtrations/4/RadialFiltration_51_38/blue, do_fit = False, filtration = RadialFiltration(center=array([51, 38]), n_jobs=-1)\n",
      "Got the result from ./1/64/train/filtrations/4/RadialFiltration_51_38/blue/diagrams.npy\n",
      "Applying Scaler to persistence diagrams.\n",
      "Got the result from ./1/64/train/filtrations/4/RadialFiltration_51_38/blue/features.npy\n",
      "Applying filtration 48/72: RadialFiltration with c = (51, 51), bin. thr. = 0.4\n",
      "RGB images received. Transforming to grayscale.\n"
     ]
    },
    {
     "name": "stderr",
     "output_type": "stream",
     "text": [
      "rgb2gray: 100%|██████████| 9469/9469 [00:01<00:00, 5333.69it/s]\n"
     ]
    },
    {
     "name": "stdout",
     "output_type": "stream",
     "text": [
      "FiltrationExtractor: processing 1/64/train/filtrations/4/RadialFiltration_51_51/gray, do_fit = False, filtration = RadialFiltration(center=array([51, 51]), n_jobs=-1)\n",
      "Got the result from ./1/64/train/filtrations/4/RadialFiltration_51_51/gray/diagrams.npy\n",
      "Applying Scaler to persistence diagrams.\n",
      "Got the result from ./1/64/train/filtrations/4/RadialFiltration_51_51/gray/features.npy\n",
      "FiltrationExtractor: processing 1/64/train/filtrations/4/RadialFiltration_51_51/red, do_fit = False, filtration = RadialFiltration(center=array([51, 51]), n_jobs=-1)\n",
      "Got the result from ./1/64/train/filtrations/4/RadialFiltration_51_51/red/diagrams.npy\n",
      "Applying Scaler to persistence diagrams.\n",
      "Got the result from ./1/64/train/filtrations/4/RadialFiltration_51_51/red/features.npy\n",
      "FiltrationExtractor: processing 1/64/train/filtrations/4/RadialFiltration_51_51/green, do_fit = False, filtration = RadialFiltration(center=array([51, 51]), n_jobs=-1)\n",
      "Got the result from ./1/64/train/filtrations/4/RadialFiltration_51_51/green/diagrams.npy\n",
      "Applying Scaler to persistence diagrams.\n",
      "Got the result from ./1/64/train/filtrations/4/RadialFiltration_51_51/green/features.npy\n",
      "FiltrationExtractor: processing 1/64/train/filtrations/4/RadialFiltration_51_51/blue, do_fit = False, filtration = RadialFiltration(center=array([51, 51]), n_jobs=-1)\n",
      "Got the result from ./1/64/train/filtrations/4/RadialFiltration_51_51/blue/diagrams.npy\n",
      "Applying Scaler to persistence diagrams.\n",
      "Got the result from ./1/64/train/filtrations/4/RadialFiltration_51_51/blue/features.npy\n",
      "Applying filtration 49/72: HeightFiltration with d = (-1, -1), bin. thr. = 0.6\n",
      "RGB images received. Transforming to grayscale.\n"
     ]
    },
    {
     "name": "stderr",
     "output_type": "stream",
     "text": [
      "rgb2gray: 100%|██████████| 9469/9469 [00:01<00:00, 5190.73it/s]\n"
     ]
    },
    {
     "name": "stdout",
     "output_type": "stream",
     "text": [
      "FiltrationExtractor: processing 1/64/train/filtrations/6/HeightFiltrartion_-1_-1/gray, do_fit = False, filtration = HeightFiltration(direction=array([-1, -1]), n_jobs=-1)\n",
      "Got the result from ./1/64/train/filtrations/6/HeightFiltrartion_-1_-1/gray/diagrams.npy\n",
      "Applying Scaler to persistence diagrams.\n",
      "Got the result from ./1/64/train/filtrations/6/HeightFiltrartion_-1_-1/gray/features.npy\n",
      "FiltrationExtractor: processing 1/64/train/filtrations/6/HeightFiltrartion_-1_-1/red, do_fit = False, filtration = HeightFiltration(direction=array([-1, -1]), n_jobs=-1)\n",
      "Got the result from ./1/64/train/filtrations/6/HeightFiltrartion_-1_-1/red/diagrams.npy\n",
      "Applying Scaler to persistence diagrams.\n",
      "Got the result from ./1/64/train/filtrations/6/HeightFiltrartion_-1_-1/red/features.npy\n",
      "FiltrationExtractor: processing 1/64/train/filtrations/6/HeightFiltrartion_-1_-1/green, do_fit = False, filtration = HeightFiltration(direction=array([-1, -1]), n_jobs=-1)\n",
      "Got the result from ./1/64/train/filtrations/6/HeightFiltrartion_-1_-1/green/diagrams.npy\n",
      "Applying Scaler to persistence diagrams.\n",
      "Got the result from ./1/64/train/filtrations/6/HeightFiltrartion_-1_-1/green/features.npy\n",
      "FiltrationExtractor: processing 1/64/train/filtrations/6/HeightFiltrartion_-1_-1/blue, do_fit = False, filtration = HeightFiltration(direction=array([-1, -1]), n_jobs=-1)\n",
      "Got the result from ./1/64/train/filtrations/6/HeightFiltrartion_-1_-1/blue/diagrams.npy\n",
      "Applying Scaler to persistence diagrams.\n",
      "Got the result from ./1/64/train/filtrations/6/HeightFiltrartion_-1_-1/blue/features.npy\n",
      "Applying filtration 50/72: HeightFiltration with d = (-1, 0), bin. thr. = 0.6\n",
      "RGB images received. Transforming to grayscale.\n"
     ]
    },
    {
     "name": "stderr",
     "output_type": "stream",
     "text": [
      "rgb2gray: 100%|██████████| 9469/9469 [00:02<00:00, 4619.29it/s]\n"
     ]
    },
    {
     "name": "stdout",
     "output_type": "stream",
     "text": [
      "FiltrationExtractor: processing 1/64/train/filtrations/6/HeightFiltrartion_-1_0/gray, do_fit = False, filtration = HeightFiltration(direction=array([-1,  0]), n_jobs=-1)\n",
      "Got the result from ./1/64/train/filtrations/6/HeightFiltrartion_-1_0/gray/diagrams.npy\n",
      "Applying Scaler to persistence diagrams.\n",
      "Got the result from ./1/64/train/filtrations/6/HeightFiltrartion_-1_0/gray/features.npy\n",
      "FiltrationExtractor: processing 1/64/train/filtrations/6/HeightFiltrartion_-1_0/red, do_fit = False, filtration = HeightFiltration(direction=array([-1,  0]), n_jobs=-1)\n",
      "Got the result from ./1/64/train/filtrations/6/HeightFiltrartion_-1_0/red/diagrams.npy\n",
      "Applying Scaler to persistence diagrams.\n",
      "Got the result from ./1/64/train/filtrations/6/HeightFiltrartion_-1_0/red/features.npy\n",
      "FiltrationExtractor: processing 1/64/train/filtrations/6/HeightFiltrartion_-1_0/green, do_fit = False, filtration = HeightFiltration(direction=array([-1,  0]), n_jobs=-1)\n",
      "Got the result from ./1/64/train/filtrations/6/HeightFiltrartion_-1_0/green/diagrams.npy\n",
      "Applying Scaler to persistence diagrams.\n",
      "Got the result from ./1/64/train/filtrations/6/HeightFiltrartion_-1_0/green/features.npy\n",
      "FiltrationExtractor: processing 1/64/train/filtrations/6/HeightFiltrartion_-1_0/blue, do_fit = False, filtration = HeightFiltration(direction=array([-1,  0]), n_jobs=-1)\n",
      "Got the result from ./1/64/train/filtrations/6/HeightFiltrartion_-1_0/blue/diagrams.npy\n",
      "Applying Scaler to persistence diagrams.\n",
      "Got the result from ./1/64/train/filtrations/6/HeightFiltrartion_-1_0/blue/features.npy\n",
      "Applying filtration 51/72: HeightFiltration with d = (-1, 1), bin. thr. = 0.6\n",
      "RGB images received. Transforming to grayscale.\n"
     ]
    },
    {
     "name": "stderr",
     "output_type": "stream",
     "text": [
      "rgb2gray: 100%|██████████| 9469/9469 [00:01<00:00, 5162.58it/s]\n"
     ]
    },
    {
     "name": "stdout",
     "output_type": "stream",
     "text": [
      "FiltrationExtractor: processing 1/64/train/filtrations/6/HeightFiltrartion_-1_1/gray, do_fit = False, filtration = HeightFiltration(direction=array([-1,  1]), n_jobs=-1)\n",
      "Got the result from ./1/64/train/filtrations/6/HeightFiltrartion_-1_1/gray/diagrams.npy\n",
      "Applying Scaler to persistence diagrams.\n",
      "Got the result from ./1/64/train/filtrations/6/HeightFiltrartion_-1_1/gray/features.npy\n",
      "FiltrationExtractor: processing 1/64/train/filtrations/6/HeightFiltrartion_-1_1/red, do_fit = False, filtration = HeightFiltration(direction=array([-1,  1]), n_jobs=-1)\n",
      "Got the result from ./1/64/train/filtrations/6/HeightFiltrartion_-1_1/red/diagrams.npy\n",
      "Applying Scaler to persistence diagrams.\n",
      "Got the result from ./1/64/train/filtrations/6/HeightFiltrartion_-1_1/red/features.npy\n",
      "FiltrationExtractor: processing 1/64/train/filtrations/6/HeightFiltrartion_-1_1/green, do_fit = False, filtration = HeightFiltration(direction=array([-1,  1]), n_jobs=-1)\n",
      "Got the result from ./1/64/train/filtrations/6/HeightFiltrartion_-1_1/green/diagrams.npy\n",
      "Applying Scaler to persistence diagrams.\n",
      "Got the result from ./1/64/train/filtrations/6/HeightFiltrartion_-1_1/green/features.npy\n",
      "FiltrationExtractor: processing 1/64/train/filtrations/6/HeightFiltrartion_-1_1/blue, do_fit = False, filtration = HeightFiltration(direction=array([-1,  1]), n_jobs=-1)\n",
      "Got the result from ./1/64/train/filtrations/6/HeightFiltrartion_-1_1/blue/diagrams.npy\n",
      "Applying Scaler to persistence diagrams.\n",
      "Got the result from ./1/64/train/filtrations/6/HeightFiltrartion_-1_1/blue/features.npy\n",
      "Applying filtration 52/72: HeightFiltration with d = (0, -1), bin. thr. = 0.6\n",
      "RGB images received. Transforming to grayscale.\n"
     ]
    },
    {
     "name": "stderr",
     "output_type": "stream",
     "text": [
      "rgb2gray: 100%|██████████| 9469/9469 [00:01<00:00, 5399.08it/s]\n"
     ]
    },
    {
     "name": "stdout",
     "output_type": "stream",
     "text": [
      "FiltrationExtractor: processing 1/64/train/filtrations/6/HeightFiltrartion_0_-1/gray, do_fit = False, filtration = HeightFiltration(direction=array([ 0, -1]), n_jobs=-1)\n",
      "Got the result from ./1/64/train/filtrations/6/HeightFiltrartion_0_-1/gray/diagrams.npy\n",
      "Applying Scaler to persistence diagrams.\n",
      "Got the result from ./1/64/train/filtrations/6/HeightFiltrartion_0_-1/gray/features.npy\n",
      "FiltrationExtractor: processing 1/64/train/filtrations/6/HeightFiltrartion_0_-1/red, do_fit = False, filtration = HeightFiltration(direction=array([ 0, -1]), n_jobs=-1)\n",
      "Got the result from ./1/64/train/filtrations/6/HeightFiltrartion_0_-1/red/diagrams.npy\n",
      "Applying Scaler to persistence diagrams.\n",
      "Got the result from ./1/64/train/filtrations/6/HeightFiltrartion_0_-1/red/features.npy\n",
      "FiltrationExtractor: processing 1/64/train/filtrations/6/HeightFiltrartion_0_-1/green, do_fit = False, filtration = HeightFiltration(direction=array([ 0, -1]), n_jobs=-1)\n",
      "Got the result from ./1/64/train/filtrations/6/HeightFiltrartion_0_-1/green/diagrams.npy\n",
      "Applying Scaler to persistence diagrams.\n",
      "Got the result from ./1/64/train/filtrations/6/HeightFiltrartion_0_-1/green/features.npy\n",
      "FiltrationExtractor: processing 1/64/train/filtrations/6/HeightFiltrartion_0_-1/blue, do_fit = False, filtration = HeightFiltration(direction=array([ 0, -1]), n_jobs=-1)\n",
      "Got the result from ./1/64/train/filtrations/6/HeightFiltrartion_0_-1/blue/diagrams.npy\n",
      "Applying Scaler to persistence diagrams.\n",
      "Got the result from ./1/64/train/filtrations/6/HeightFiltrartion_0_-1/blue/features.npy\n",
      "Applying filtration 53/72: HeightFiltration with d = (0, 1), bin. thr. = 0.6\n",
      "RGB images received. Transforming to grayscale.\n"
     ]
    },
    {
     "name": "stderr",
     "output_type": "stream",
     "text": [
      "rgb2gray: 100%|██████████| 9469/9469 [00:01<00:00, 5344.30it/s]\n"
     ]
    },
    {
     "name": "stdout",
     "output_type": "stream",
     "text": [
      "FiltrationExtractor: processing 1/64/train/filtrations/6/HeightFiltrartion_0_1/gray, do_fit = False, filtration = HeightFiltration(direction=array([0, 1]), n_jobs=-1)\n",
      "Got the result from ./1/64/train/filtrations/6/HeightFiltrartion_0_1/gray/diagrams.npy\n",
      "Applying Scaler to persistence diagrams.\n",
      "Got the result from ./1/64/train/filtrations/6/HeightFiltrartion_0_1/gray/features.npy\n",
      "FiltrationExtractor: processing 1/64/train/filtrations/6/HeightFiltrartion_0_1/red, do_fit = False, filtration = HeightFiltration(direction=array([0, 1]), n_jobs=-1)\n",
      "Got the result from ./1/64/train/filtrations/6/HeightFiltrartion_0_1/red/diagrams.npy\n",
      "Applying Scaler to persistence diagrams.\n",
      "Got the result from ./1/64/train/filtrations/6/HeightFiltrartion_0_1/red/features.npy\n",
      "FiltrationExtractor: processing 1/64/train/filtrations/6/HeightFiltrartion_0_1/green, do_fit = False, filtration = HeightFiltration(direction=array([0, 1]), n_jobs=-1)\n",
      "Got the result from ./1/64/train/filtrations/6/HeightFiltrartion_0_1/green/diagrams.npy\n",
      "Applying Scaler to persistence diagrams.\n",
      "Got the result from ./1/64/train/filtrations/6/HeightFiltrartion_0_1/green/features.npy\n",
      "FiltrationExtractor: processing 1/64/train/filtrations/6/HeightFiltrartion_0_1/blue, do_fit = False, filtration = HeightFiltration(direction=array([0, 1]), n_jobs=-1)\n",
      "Got the result from ./1/64/train/filtrations/6/HeightFiltrartion_0_1/blue/diagrams.npy\n",
      "Applying Scaler to persistence diagrams.\n",
      "Got the result from ./1/64/train/filtrations/6/HeightFiltrartion_0_1/blue/features.npy\n",
      "Applying filtration 54/72: HeightFiltration with d = (1, -1), bin. thr. = 0.6\n",
      "RGB images received. Transforming to grayscale.\n"
     ]
    },
    {
     "name": "stderr",
     "output_type": "stream",
     "text": [
      "rgb2gray: 100%|██████████| 9469/9469 [00:01<00:00, 4823.34it/s]\n"
     ]
    },
    {
     "name": "stdout",
     "output_type": "stream",
     "text": [
      "FiltrationExtractor: processing 1/64/train/filtrations/6/HeightFiltrartion_1_-1/gray, do_fit = False, filtration = HeightFiltration(direction=array([ 1, -1]), n_jobs=-1)\n",
      "Got the result from ./1/64/train/filtrations/6/HeightFiltrartion_1_-1/gray/diagrams.npy\n",
      "Applying Scaler to persistence diagrams.\n",
      "Got the result from ./1/64/train/filtrations/6/HeightFiltrartion_1_-1/gray/features.npy\n",
      "FiltrationExtractor: processing 1/64/train/filtrations/6/HeightFiltrartion_1_-1/red, do_fit = False, filtration = HeightFiltration(direction=array([ 1, -1]), n_jobs=-1)\n",
      "Got the result from ./1/64/train/filtrations/6/HeightFiltrartion_1_-1/red/diagrams.npy\n",
      "Applying Scaler to persistence diagrams.\n",
      "Got the result from ./1/64/train/filtrations/6/HeightFiltrartion_1_-1/red/features.npy\n",
      "FiltrationExtractor: processing 1/64/train/filtrations/6/HeightFiltrartion_1_-1/green, do_fit = False, filtration = HeightFiltration(direction=array([ 1, -1]), n_jobs=-1)\n",
      "Got the result from ./1/64/train/filtrations/6/HeightFiltrartion_1_-1/green/diagrams.npy\n",
      "Applying Scaler to persistence diagrams.\n",
      "Got the result from ./1/64/train/filtrations/6/HeightFiltrartion_1_-1/green/features.npy\n",
      "FiltrationExtractor: processing 1/64/train/filtrations/6/HeightFiltrartion_1_-1/blue, do_fit = False, filtration = HeightFiltration(direction=array([ 1, -1]), n_jobs=-1)\n",
      "Got the result from ./1/64/train/filtrations/6/HeightFiltrartion_1_-1/blue/diagrams.npy\n",
      "Applying Scaler to persistence diagrams.\n",
      "Got the result from ./1/64/train/filtrations/6/HeightFiltrartion_1_-1/blue/features.npy\n",
      "Applying filtration 55/72: HeightFiltration with d = (1, 0), bin. thr. = 0.6\n",
      "RGB images received. Transforming to grayscale.\n"
     ]
    },
    {
     "name": "stderr",
     "output_type": "stream",
     "text": [
      "rgb2gray: 100%|██████████| 9469/9469 [00:01<00:00, 4831.69it/s]\n"
     ]
    },
    {
     "name": "stdout",
     "output_type": "stream",
     "text": [
      "FiltrationExtractor: processing 1/64/train/filtrations/6/HeightFiltrartion_1_0/gray, do_fit = False, filtration = HeightFiltration(direction=array([1, 0]), n_jobs=-1)\n",
      "Got the result from ./1/64/train/filtrations/6/HeightFiltrartion_1_0/gray/diagrams.npy\n",
      "Applying Scaler to persistence diagrams.\n",
      "Got the result from ./1/64/train/filtrations/6/HeightFiltrartion_1_0/gray/features.npy\n",
      "FiltrationExtractor: processing 1/64/train/filtrations/6/HeightFiltrartion_1_0/red, do_fit = False, filtration = HeightFiltration(direction=array([1, 0]), n_jobs=-1)\n",
      "Got the result from ./1/64/train/filtrations/6/HeightFiltrartion_1_0/red/diagrams.npy\n",
      "Applying Scaler to persistence diagrams.\n",
      "Got the result from ./1/64/train/filtrations/6/HeightFiltrartion_1_0/red/features.npy\n",
      "FiltrationExtractor: processing 1/64/train/filtrations/6/HeightFiltrartion_1_0/green, do_fit = False, filtration = HeightFiltration(direction=array([1, 0]), n_jobs=-1)\n",
      "Got the result from ./1/64/train/filtrations/6/HeightFiltrartion_1_0/green/diagrams.npy\n",
      "Applying Scaler to persistence diagrams.\n",
      "Got the result from ./1/64/train/filtrations/6/HeightFiltrartion_1_0/green/features.npy\n",
      "FiltrationExtractor: processing 1/64/train/filtrations/6/HeightFiltrartion_1_0/blue, do_fit = False, filtration = HeightFiltration(direction=array([1, 0]), n_jobs=-1)\n",
      "Got the result from ./1/64/train/filtrations/6/HeightFiltrartion_1_0/blue/diagrams.npy\n",
      "Applying Scaler to persistence diagrams.\n",
      "Got the result from ./1/64/train/filtrations/6/HeightFiltrartion_1_0/blue/features.npy\n",
      "Applying filtration 56/72: HeightFiltration with d = (1, 1), bin. thr. = 0.6\n",
      "RGB images received. Transforming to grayscale.\n"
     ]
    },
    {
     "name": "stderr",
     "output_type": "stream",
     "text": [
      "rgb2gray: 100%|██████████| 9469/9469 [00:01<00:00, 5260.25it/s]\n"
     ]
    },
    {
     "name": "stdout",
     "output_type": "stream",
     "text": [
      "FiltrationExtractor: processing 1/64/train/filtrations/6/HeightFiltrartion_1_1/gray, do_fit = False, filtration = HeightFiltration(direction=array([1, 1]), n_jobs=-1)\n",
      "Got the result from ./1/64/train/filtrations/6/HeightFiltrartion_1_1/gray/diagrams.npy\n",
      "Applying Scaler to persistence diagrams.\n",
      "Got the result from ./1/64/train/filtrations/6/HeightFiltrartion_1_1/gray/features.npy\n",
      "FiltrationExtractor: processing 1/64/train/filtrations/6/HeightFiltrartion_1_1/red, do_fit = False, filtration = HeightFiltration(direction=array([1, 1]), n_jobs=-1)\n",
      "Got the result from ./1/64/train/filtrations/6/HeightFiltrartion_1_1/red/diagrams.npy\n",
      "Applying Scaler to persistence diagrams.\n",
      "Got the result from ./1/64/train/filtrations/6/HeightFiltrartion_1_1/red/features.npy\n",
      "FiltrationExtractor: processing 1/64/train/filtrations/6/HeightFiltrartion_1_1/green, do_fit = False, filtration = HeightFiltration(direction=array([1, 1]), n_jobs=-1)\n",
      "Got the result from ./1/64/train/filtrations/6/HeightFiltrartion_1_1/green/diagrams.npy\n",
      "Applying Scaler to persistence diagrams.\n",
      "Got the result from ./1/64/train/filtrations/6/HeightFiltrartion_1_1/green/features.npy\n",
      "FiltrationExtractor: processing 1/64/train/filtrations/6/HeightFiltrartion_1_1/blue, do_fit = False, filtration = HeightFiltration(direction=array([1, 1]), n_jobs=-1)\n",
      "Got the result from ./1/64/train/filtrations/6/HeightFiltrartion_1_1/blue/diagrams.npy\n",
      "Applying Scaler to persistence diagrams.\n",
      "Got the result from ./1/64/train/filtrations/6/HeightFiltrartion_1_1/blue/features.npy\n",
      "Applying filtration 57/72: RadialFiltration with c = (12, 12), bin. thr. = 0.6\n",
      "RGB images received. Transforming to grayscale.\n"
     ]
    },
    {
     "name": "stderr",
     "output_type": "stream",
     "text": [
      "rgb2gray: 100%|██████████| 9469/9469 [00:01<00:00, 5192.39it/s]\n"
     ]
    },
    {
     "name": "stdout",
     "output_type": "stream",
     "text": [
      "FiltrationExtractor: processing 1/64/train/filtrations/6/RadialFiltration_12_12/gray, do_fit = False, filtration = RadialFiltration(center=array([12, 12]), n_jobs=-1)\n",
      "Got the result from ./1/64/train/filtrations/6/RadialFiltration_12_12/gray/diagrams.npy\n",
      "Applying Scaler to persistence diagrams.\n",
      "Got the result from ./1/64/train/filtrations/6/RadialFiltration_12_12/gray/features.npy\n",
      "FiltrationExtractor: processing 1/64/train/filtrations/6/RadialFiltration_12_12/red, do_fit = False, filtration = RadialFiltration(center=array([12, 12]), n_jobs=-1)\n",
      "Got the result from ./1/64/train/filtrations/6/RadialFiltration_12_12/red/diagrams.npy\n",
      "Applying Scaler to persistence diagrams.\n",
      "Got the result from ./1/64/train/filtrations/6/RadialFiltration_12_12/red/features.npy\n",
      "FiltrationExtractor: processing 1/64/train/filtrations/6/RadialFiltration_12_12/green, do_fit = False, filtration = RadialFiltration(center=array([12, 12]), n_jobs=-1)\n",
      "Got the result from ./1/64/train/filtrations/6/RadialFiltration_12_12/green/diagrams.npy\n",
      "Applying Scaler to persistence diagrams.\n",
      "Got the result from ./1/64/train/filtrations/6/RadialFiltration_12_12/green/features.npy\n",
      "FiltrationExtractor: processing 1/64/train/filtrations/6/RadialFiltration_12_12/blue, do_fit = False, filtration = RadialFiltration(center=array([12, 12]), n_jobs=-1)\n",
      "Got the result from ./1/64/train/filtrations/6/RadialFiltration_12_12/blue/diagrams.npy\n",
      "Applying Scaler to persistence diagrams.\n",
      "Got the result from ./1/64/train/filtrations/6/RadialFiltration_12_12/blue/features.npy\n",
      "Applying filtration 58/72: RadialFiltration with c = (12, 25), bin. thr. = 0.6\n",
      "RGB images received. Transforming to grayscale.\n"
     ]
    },
    {
     "name": "stderr",
     "output_type": "stream",
     "text": [
      "rgb2gray: 100%|██████████| 9469/9469 [00:01<00:00, 5120.12it/s]\n"
     ]
    },
    {
     "name": "stdout",
     "output_type": "stream",
     "text": [
      "FiltrationExtractor: processing 1/64/train/filtrations/6/RadialFiltration_12_25/gray, do_fit = False, filtration = RadialFiltration(center=array([12, 25]), n_jobs=-1)\n",
      "Got the result from ./1/64/train/filtrations/6/RadialFiltration_12_25/gray/diagrams.npy\n",
      "Applying Scaler to persistence diagrams.\n",
      "Got the result from ./1/64/train/filtrations/6/RadialFiltration_12_25/gray/features.npy\n",
      "FiltrationExtractor: processing 1/64/train/filtrations/6/RadialFiltration_12_25/red, do_fit = False, filtration = RadialFiltration(center=array([12, 25]), n_jobs=-1)\n",
      "Got the result from ./1/64/train/filtrations/6/RadialFiltration_12_25/red/diagrams.npy\n",
      "Applying Scaler to persistence diagrams.\n",
      "Got the result from ./1/64/train/filtrations/6/RadialFiltration_12_25/red/features.npy\n",
      "FiltrationExtractor: processing 1/64/train/filtrations/6/RadialFiltration_12_25/green, do_fit = False, filtration = RadialFiltration(center=array([12, 25]), n_jobs=-1)\n",
      "Got the result from ./1/64/train/filtrations/6/RadialFiltration_12_25/green/diagrams.npy\n",
      "Applying Scaler to persistence diagrams.\n",
      "Got the result from ./1/64/train/filtrations/6/RadialFiltration_12_25/green/features.npy\n",
      "FiltrationExtractor: processing 1/64/train/filtrations/6/RadialFiltration_12_25/blue, do_fit = False, filtration = RadialFiltration(center=array([12, 25]), n_jobs=-1)\n",
      "Got the result from ./1/64/train/filtrations/6/RadialFiltration_12_25/blue/diagrams.npy\n",
      "Applying Scaler to persistence diagrams.\n",
      "Got the result from ./1/64/train/filtrations/6/RadialFiltration_12_25/blue/features.npy\n",
      "Applying filtration 59/72: RadialFiltration with c = (12, 38), bin. thr. = 0.6\n",
      "RGB images received. Transforming to grayscale.\n"
     ]
    },
    {
     "name": "stderr",
     "output_type": "stream",
     "text": [
      "rgb2gray: 100%|██████████| 9469/9469 [00:01<00:00, 5320.97it/s]\n"
     ]
    },
    {
     "name": "stdout",
     "output_type": "stream",
     "text": [
      "FiltrationExtractor: processing 1/64/train/filtrations/6/RadialFiltration_12_38/gray, do_fit = False, filtration = RadialFiltration(center=array([12, 38]), n_jobs=-1)\n",
      "Got the result from ./1/64/train/filtrations/6/RadialFiltration_12_38/gray/diagrams.npy\n",
      "Applying Scaler to persistence diagrams.\n",
      "Got the result from ./1/64/train/filtrations/6/RadialFiltration_12_38/gray/features.npy\n",
      "FiltrationExtractor: processing 1/64/train/filtrations/6/RadialFiltration_12_38/red, do_fit = False, filtration = RadialFiltration(center=array([12, 38]), n_jobs=-1)\n",
      "Got the result from ./1/64/train/filtrations/6/RadialFiltration_12_38/red/diagrams.npy\n",
      "Applying Scaler to persistence diagrams.\n",
      "Got the result from ./1/64/train/filtrations/6/RadialFiltration_12_38/red/features.npy\n",
      "FiltrationExtractor: processing 1/64/train/filtrations/6/RadialFiltration_12_38/green, do_fit = False, filtration = RadialFiltration(center=array([12, 38]), n_jobs=-1)\n",
      "Got the result from ./1/64/train/filtrations/6/RadialFiltration_12_38/green/diagrams.npy\n",
      "Applying Scaler to persistence diagrams.\n",
      "Got the result from ./1/64/train/filtrations/6/RadialFiltration_12_38/green/features.npy\n",
      "FiltrationExtractor: processing 1/64/train/filtrations/6/RadialFiltration_12_38/blue, do_fit = False, filtration = RadialFiltration(center=array([12, 38]), n_jobs=-1)\n",
      "Got the result from ./1/64/train/filtrations/6/RadialFiltration_12_38/blue/diagrams.npy\n",
      "Applying Scaler to persistence diagrams.\n",
      "Got the result from ./1/64/train/filtrations/6/RadialFiltration_12_38/blue/features.npy\n",
      "Applying filtration 60/72: RadialFiltration with c = (12, 51), bin. thr. = 0.6\n",
      "RGB images received. Transforming to grayscale.\n"
     ]
    },
    {
     "name": "stderr",
     "output_type": "stream",
     "text": [
      "rgb2gray: 100%|██████████| 9469/9469 [00:01<00:00, 4965.67it/s]\n"
     ]
    },
    {
     "name": "stdout",
     "output_type": "stream",
     "text": [
      "FiltrationExtractor: processing 1/64/train/filtrations/6/RadialFiltration_12_51/gray, do_fit = False, filtration = RadialFiltration(center=array([12, 51]), n_jobs=-1)\n",
      "Got the result from ./1/64/train/filtrations/6/RadialFiltration_12_51/gray/diagrams.npy\n",
      "Applying Scaler to persistence diagrams.\n",
      "Got the result from ./1/64/train/filtrations/6/RadialFiltration_12_51/gray/features.npy\n",
      "FiltrationExtractor: processing 1/64/train/filtrations/6/RadialFiltration_12_51/red, do_fit = False, filtration = RadialFiltration(center=array([12, 51]), n_jobs=-1)\n",
      "Got the result from ./1/64/train/filtrations/6/RadialFiltration_12_51/red/diagrams.npy\n",
      "Applying Scaler to persistence diagrams.\n",
      "Got the result from ./1/64/train/filtrations/6/RadialFiltration_12_51/red/features.npy\n",
      "FiltrationExtractor: processing 1/64/train/filtrations/6/RadialFiltration_12_51/green, do_fit = False, filtration = RadialFiltration(center=array([12, 51]), n_jobs=-1)\n",
      "Got the result from ./1/64/train/filtrations/6/RadialFiltration_12_51/green/diagrams.npy\n",
      "Applying Scaler to persistence diagrams.\n",
      "Got the result from ./1/64/train/filtrations/6/RadialFiltration_12_51/green/features.npy\n",
      "FiltrationExtractor: processing 1/64/train/filtrations/6/RadialFiltration_12_51/blue, do_fit = False, filtration = RadialFiltration(center=array([12, 51]), n_jobs=-1)\n",
      "Got the result from ./1/64/train/filtrations/6/RadialFiltration_12_51/blue/diagrams.npy\n",
      "Applying Scaler to persistence diagrams.\n",
      "Got the result from ./1/64/train/filtrations/6/RadialFiltration_12_51/blue/features.npy\n",
      "Applying filtration 61/72: RadialFiltration with c = (25, 12), bin. thr. = 0.6\n",
      "RGB images received. Transforming to grayscale.\n"
     ]
    },
    {
     "name": "stderr",
     "output_type": "stream",
     "text": [
      "rgb2gray: 100%|██████████| 9469/9469 [00:01<00:00, 5176.60it/s]\n"
     ]
    },
    {
     "name": "stdout",
     "output_type": "stream",
     "text": [
      "FiltrationExtractor: processing 1/64/train/filtrations/6/RadialFiltration_25_12/gray, do_fit = False, filtration = RadialFiltration(center=array([25, 12]), n_jobs=-1)\n",
      "Got the result from ./1/64/train/filtrations/6/RadialFiltration_25_12/gray/diagrams.npy\n",
      "Applying Scaler to persistence diagrams.\n",
      "Got the result from ./1/64/train/filtrations/6/RadialFiltration_25_12/gray/features.npy\n",
      "FiltrationExtractor: processing 1/64/train/filtrations/6/RadialFiltration_25_12/red, do_fit = False, filtration = RadialFiltration(center=array([25, 12]), n_jobs=-1)\n",
      "Got the result from ./1/64/train/filtrations/6/RadialFiltration_25_12/red/diagrams.npy\n",
      "Applying Scaler to persistence diagrams.\n",
      "Got the result from ./1/64/train/filtrations/6/RadialFiltration_25_12/red/features.npy\n",
      "FiltrationExtractor: processing 1/64/train/filtrations/6/RadialFiltration_25_12/green, do_fit = False, filtration = RadialFiltration(center=array([25, 12]), n_jobs=-1)\n",
      "Got the result from ./1/64/train/filtrations/6/RadialFiltration_25_12/green/diagrams.npy\n",
      "Applying Scaler to persistence diagrams.\n",
      "Got the result from ./1/64/train/filtrations/6/RadialFiltration_25_12/green/features.npy\n",
      "FiltrationExtractor: processing 1/64/train/filtrations/6/RadialFiltration_25_12/blue, do_fit = False, filtration = RadialFiltration(center=array([25, 12]), n_jobs=-1)\n",
      "Got the result from ./1/64/train/filtrations/6/RadialFiltration_25_12/blue/diagrams.npy\n",
      "Applying Scaler to persistence diagrams.\n",
      "Got the result from ./1/64/train/filtrations/6/RadialFiltration_25_12/blue/features.npy\n",
      "Applying filtration 62/72: RadialFiltration with c = (25, 25), bin. thr. = 0.6\n",
      "RGB images received. Transforming to grayscale.\n"
     ]
    },
    {
     "name": "stderr",
     "output_type": "stream",
     "text": [
      "rgb2gray: 100%|██████████| 9469/9469 [00:01<00:00, 5261.08it/s]\n"
     ]
    },
    {
     "name": "stdout",
     "output_type": "stream",
     "text": [
      "FiltrationExtractor: processing 1/64/train/filtrations/6/RadialFiltration_25_25/gray, do_fit = False, filtration = RadialFiltration(center=array([25, 25]), n_jobs=-1)\n",
      "Got the result from ./1/64/train/filtrations/6/RadialFiltration_25_25/gray/diagrams.npy\n",
      "Applying Scaler to persistence diagrams.\n",
      "Got the result from ./1/64/train/filtrations/6/RadialFiltration_25_25/gray/features.npy\n",
      "FiltrationExtractor: processing 1/64/train/filtrations/6/RadialFiltration_25_25/red, do_fit = False, filtration = RadialFiltration(center=array([25, 25]), n_jobs=-1)\n",
      "Got the result from ./1/64/train/filtrations/6/RadialFiltration_25_25/red/diagrams.npy\n",
      "Applying Scaler to persistence diagrams.\n",
      "Got the result from ./1/64/train/filtrations/6/RadialFiltration_25_25/red/features.npy\n",
      "FiltrationExtractor: processing 1/64/train/filtrations/6/RadialFiltration_25_25/green, do_fit = False, filtration = RadialFiltration(center=array([25, 25]), n_jobs=-1)\n",
      "Got the result from ./1/64/train/filtrations/6/RadialFiltration_25_25/green/diagrams.npy\n",
      "Applying Scaler to persistence diagrams.\n",
      "Got the result from ./1/64/train/filtrations/6/RadialFiltration_25_25/green/features.npy\n",
      "FiltrationExtractor: processing 1/64/train/filtrations/6/RadialFiltration_25_25/blue, do_fit = False, filtration = RadialFiltration(center=array([25, 25]), n_jobs=-1)\n",
      "Got the result from ./1/64/train/filtrations/6/RadialFiltration_25_25/blue/diagrams.npy\n",
      "Applying Scaler to persistence diagrams.\n",
      "Got the result from ./1/64/train/filtrations/6/RadialFiltration_25_25/blue/features.npy\n",
      "Applying filtration 63/72: RadialFiltration with c = (25, 38), bin. thr. = 0.6\n",
      "RGB images received. Transforming to grayscale.\n"
     ]
    },
    {
     "name": "stderr",
     "output_type": "stream",
     "text": [
      "rgb2gray: 100%|██████████| 9469/9469 [00:01<00:00, 5332.54it/s]\n"
     ]
    },
    {
     "name": "stdout",
     "output_type": "stream",
     "text": [
      "FiltrationExtractor: processing 1/64/train/filtrations/6/RadialFiltration_25_38/gray, do_fit = False, filtration = RadialFiltration(center=array([25, 38]), n_jobs=-1)\n",
      "Got the result from ./1/64/train/filtrations/6/RadialFiltration_25_38/gray/diagrams.npy\n",
      "Applying Scaler to persistence diagrams.\n",
      "Got the result from ./1/64/train/filtrations/6/RadialFiltration_25_38/gray/features.npy\n",
      "FiltrationExtractor: processing 1/64/train/filtrations/6/RadialFiltration_25_38/red, do_fit = False, filtration = RadialFiltration(center=array([25, 38]), n_jobs=-1)\n",
      "Got the result from ./1/64/train/filtrations/6/RadialFiltration_25_38/red/diagrams.npy\n",
      "Applying Scaler to persistence diagrams.\n",
      "Got the result from ./1/64/train/filtrations/6/RadialFiltration_25_38/red/features.npy\n",
      "FiltrationExtractor: processing 1/64/train/filtrations/6/RadialFiltration_25_38/green, do_fit = False, filtration = RadialFiltration(center=array([25, 38]), n_jobs=-1)\n",
      "Got the result from ./1/64/train/filtrations/6/RadialFiltration_25_38/green/diagrams.npy\n",
      "Applying Scaler to persistence diagrams.\n",
      "Got the result from ./1/64/train/filtrations/6/RadialFiltration_25_38/green/features.npy\n",
      "FiltrationExtractor: processing 1/64/train/filtrations/6/RadialFiltration_25_38/blue, do_fit = False, filtration = RadialFiltration(center=array([25, 38]), n_jobs=-1)\n",
      "Got the result from ./1/64/train/filtrations/6/RadialFiltration_25_38/blue/diagrams.npy\n",
      "Applying Scaler to persistence diagrams.\n",
      "Got the result from ./1/64/train/filtrations/6/RadialFiltration_25_38/blue/features.npy\n",
      "Applying filtration 64/72: RadialFiltration with c = (25, 51), bin. thr. = 0.6\n",
      "RGB images received. Transforming to grayscale.\n"
     ]
    },
    {
     "name": "stderr",
     "output_type": "stream",
     "text": [
      "rgb2gray: 100%|██████████| 9469/9469 [00:01<00:00, 5158.04it/s]\n"
     ]
    },
    {
     "name": "stdout",
     "output_type": "stream",
     "text": [
      "FiltrationExtractor: processing 1/64/train/filtrations/6/RadialFiltration_25_51/gray, do_fit = False, filtration = RadialFiltration(center=array([25, 51]), n_jobs=-1)\n",
      "Got the result from ./1/64/train/filtrations/6/RadialFiltration_25_51/gray/diagrams.npy\n",
      "Applying Scaler to persistence diagrams.\n",
      "Got the result from ./1/64/train/filtrations/6/RadialFiltration_25_51/gray/features.npy\n",
      "FiltrationExtractor: processing 1/64/train/filtrations/6/RadialFiltration_25_51/red, do_fit = False, filtration = RadialFiltration(center=array([25, 51]), n_jobs=-1)\n",
      "Got the result from ./1/64/train/filtrations/6/RadialFiltration_25_51/red/diagrams.npy\n",
      "Applying Scaler to persistence diagrams.\n",
      "Got the result from ./1/64/train/filtrations/6/RadialFiltration_25_51/red/features.npy\n",
      "FiltrationExtractor: processing 1/64/train/filtrations/6/RadialFiltration_25_51/green, do_fit = False, filtration = RadialFiltration(center=array([25, 51]), n_jobs=-1)\n",
      "Got the result from ./1/64/train/filtrations/6/RadialFiltration_25_51/green/diagrams.npy\n",
      "Applying Scaler to persistence diagrams.\n",
      "Got the result from ./1/64/train/filtrations/6/RadialFiltration_25_51/green/features.npy\n",
      "FiltrationExtractor: processing 1/64/train/filtrations/6/RadialFiltration_25_51/blue, do_fit = False, filtration = RadialFiltration(center=array([25, 51]), n_jobs=-1)\n",
      "Got the result from ./1/64/train/filtrations/6/RadialFiltration_25_51/blue/diagrams.npy\n",
      "Applying Scaler to persistence diagrams.\n",
      "Got the result from ./1/64/train/filtrations/6/RadialFiltration_25_51/blue/features.npy\n",
      "Applying filtration 65/72: RadialFiltration with c = (38, 12), bin. thr. = 0.6\n",
      "RGB images received. Transforming to grayscale.\n"
     ]
    },
    {
     "name": "stderr",
     "output_type": "stream",
     "text": [
      "rgb2gray: 100%|██████████| 9469/9469 [00:01<00:00, 5058.44it/s]\n"
     ]
    },
    {
     "name": "stdout",
     "output_type": "stream",
     "text": [
      "FiltrationExtractor: processing 1/64/train/filtrations/6/RadialFiltration_38_12/gray, do_fit = False, filtration = RadialFiltration(center=array([38, 12]), n_jobs=-1)\n",
      "Got the result from ./1/64/train/filtrations/6/RadialFiltration_38_12/gray/diagrams.npy\n",
      "Applying Scaler to persistence diagrams.\n",
      "Got the result from ./1/64/train/filtrations/6/RadialFiltration_38_12/gray/features.npy\n",
      "FiltrationExtractor: processing 1/64/train/filtrations/6/RadialFiltration_38_12/red, do_fit = False, filtration = RadialFiltration(center=array([38, 12]), n_jobs=-1)\n",
      "Got the result from ./1/64/train/filtrations/6/RadialFiltration_38_12/red/diagrams.npy\n",
      "Applying Scaler to persistence diagrams.\n",
      "Got the result from ./1/64/train/filtrations/6/RadialFiltration_38_12/red/features.npy\n",
      "FiltrationExtractor: processing 1/64/train/filtrations/6/RadialFiltration_38_12/green, do_fit = False, filtration = RadialFiltration(center=array([38, 12]), n_jobs=-1)\n",
      "Got the result from ./1/64/train/filtrations/6/RadialFiltration_38_12/green/diagrams.npy\n",
      "Applying Scaler to persistence diagrams.\n",
      "Got the result from ./1/64/train/filtrations/6/RadialFiltration_38_12/green/features.npy\n",
      "FiltrationExtractor: processing 1/64/train/filtrations/6/RadialFiltration_38_12/blue, do_fit = False, filtration = RadialFiltration(center=array([38, 12]), n_jobs=-1)\n",
      "Got the result from ./1/64/train/filtrations/6/RadialFiltration_38_12/blue/diagrams.npy\n",
      "Applying Scaler to persistence diagrams.\n",
      "Got the result from ./1/64/train/filtrations/6/RadialFiltration_38_12/blue/features.npy\n",
      "Applying filtration 66/72: RadialFiltration with c = (38, 25), bin. thr. = 0.6\n",
      "RGB images received. Transforming to grayscale.\n"
     ]
    },
    {
     "name": "stderr",
     "output_type": "stream",
     "text": [
      "rgb2gray: 100%|██████████| 9469/9469 [00:01<00:00, 5123.82it/s]\n"
     ]
    },
    {
     "name": "stdout",
     "output_type": "stream",
     "text": [
      "FiltrationExtractor: processing 1/64/train/filtrations/6/RadialFiltration_38_25/gray, do_fit = False, filtration = RadialFiltration(center=array([38, 25]), n_jobs=-1)\n",
      "Got the result from ./1/64/train/filtrations/6/RadialFiltration_38_25/gray/diagrams.npy\n",
      "Applying Scaler to persistence diagrams.\n",
      "Got the result from ./1/64/train/filtrations/6/RadialFiltration_38_25/gray/features.npy\n",
      "FiltrationExtractor: processing 1/64/train/filtrations/6/RadialFiltration_38_25/red, do_fit = False, filtration = RadialFiltration(center=array([38, 25]), n_jobs=-1)\n",
      "Got the result from ./1/64/train/filtrations/6/RadialFiltration_38_25/red/diagrams.npy\n",
      "Applying Scaler to persistence diagrams.\n",
      "Got the result from ./1/64/train/filtrations/6/RadialFiltration_38_25/red/features.npy\n",
      "FiltrationExtractor: processing 1/64/train/filtrations/6/RadialFiltration_38_25/green, do_fit = False, filtration = RadialFiltration(center=array([38, 25]), n_jobs=-1)\n",
      "Got the result from ./1/64/train/filtrations/6/RadialFiltration_38_25/green/diagrams.npy\n",
      "Applying Scaler to persistence diagrams.\n",
      "Got the result from ./1/64/train/filtrations/6/RadialFiltration_38_25/green/features.npy\n",
      "FiltrationExtractor: processing 1/64/train/filtrations/6/RadialFiltration_38_25/blue, do_fit = False, filtration = RadialFiltration(center=array([38, 25]), n_jobs=-1)\n",
      "Got the result from ./1/64/train/filtrations/6/RadialFiltration_38_25/blue/diagrams.npy\n",
      "Applying Scaler to persistence diagrams.\n",
      "Got the result from ./1/64/train/filtrations/6/RadialFiltration_38_25/blue/features.npy\n",
      "Applying filtration 67/72: RadialFiltration with c = (38, 38), bin. thr. = 0.6\n",
      "RGB images received. Transforming to grayscale.\n"
     ]
    },
    {
     "name": "stderr",
     "output_type": "stream",
     "text": [
      "rgb2gray: 100%|██████████| 9469/9469 [00:01<00:00, 5266.92it/s]\n"
     ]
    },
    {
     "name": "stdout",
     "output_type": "stream",
     "text": [
      "FiltrationExtractor: processing 1/64/train/filtrations/6/RadialFiltration_38_38/gray, do_fit = False, filtration = RadialFiltration(center=array([38, 38]), n_jobs=-1)\n",
      "Got the result from ./1/64/train/filtrations/6/RadialFiltration_38_38/gray/diagrams.npy\n",
      "Applying Scaler to persistence diagrams.\n",
      "Got the result from ./1/64/train/filtrations/6/RadialFiltration_38_38/gray/features.npy\n",
      "FiltrationExtractor: processing 1/64/train/filtrations/6/RadialFiltration_38_38/red, do_fit = False, filtration = RadialFiltration(center=array([38, 38]), n_jobs=-1)\n",
      "Got the result from ./1/64/train/filtrations/6/RadialFiltration_38_38/red/diagrams.npy\n",
      "Applying Scaler to persistence diagrams.\n",
      "Got the result from ./1/64/train/filtrations/6/RadialFiltration_38_38/red/features.npy\n",
      "FiltrationExtractor: processing 1/64/train/filtrations/6/RadialFiltration_38_38/green, do_fit = False, filtration = RadialFiltration(center=array([38, 38]), n_jobs=-1)\n",
      "Got the result from ./1/64/train/filtrations/6/RadialFiltration_38_38/green/diagrams.npy\n",
      "Applying Scaler to persistence diagrams.\n",
      "Got the result from ./1/64/train/filtrations/6/RadialFiltration_38_38/green/features.npy\n",
      "FiltrationExtractor: processing 1/64/train/filtrations/6/RadialFiltration_38_38/blue, do_fit = False, filtration = RadialFiltration(center=array([38, 38]), n_jobs=-1)\n",
      "Got the result from ./1/64/train/filtrations/6/RadialFiltration_38_38/blue/diagrams.npy\n",
      "Applying Scaler to persistence diagrams.\n",
      "Got the result from ./1/64/train/filtrations/6/RadialFiltration_38_38/blue/features.npy\n",
      "Applying filtration 68/72: RadialFiltration with c = (38, 51), bin. thr. = 0.6\n",
      "RGB images received. Transforming to grayscale.\n"
     ]
    },
    {
     "name": "stderr",
     "output_type": "stream",
     "text": [
      "rgb2gray: 100%|██████████| 9469/9469 [00:01<00:00, 5143.38it/s]\n"
     ]
    },
    {
     "name": "stdout",
     "output_type": "stream",
     "text": [
      "FiltrationExtractor: processing 1/64/train/filtrations/6/RadialFiltration_38_51/gray, do_fit = False, filtration = RadialFiltration(center=array([38, 51]), n_jobs=-1)\n",
      "Got the result from ./1/64/train/filtrations/6/RadialFiltration_38_51/gray/diagrams.npy\n",
      "Applying Scaler to persistence diagrams.\n",
      "Got the result from ./1/64/train/filtrations/6/RadialFiltration_38_51/gray/features.npy\n",
      "FiltrationExtractor: processing 1/64/train/filtrations/6/RadialFiltration_38_51/red, do_fit = False, filtration = RadialFiltration(center=array([38, 51]), n_jobs=-1)\n",
      "Got the result from ./1/64/train/filtrations/6/RadialFiltration_38_51/red/diagrams.npy\n",
      "Applying Scaler to persistence diagrams.\n",
      "Got the result from ./1/64/train/filtrations/6/RadialFiltration_38_51/red/features.npy\n",
      "FiltrationExtractor: processing 1/64/train/filtrations/6/RadialFiltration_38_51/green, do_fit = False, filtration = RadialFiltration(center=array([38, 51]), n_jobs=-1)\n",
      "Got the result from ./1/64/train/filtrations/6/RadialFiltration_38_51/green/diagrams.npy\n",
      "Applying Scaler to persistence diagrams.\n",
      "Got the result from ./1/64/train/filtrations/6/RadialFiltration_38_51/green/features.npy\n",
      "FiltrationExtractor: processing 1/64/train/filtrations/6/RadialFiltration_38_51/blue, do_fit = False, filtration = RadialFiltration(center=array([38, 51]), n_jobs=-1)\n",
      "Got the result from ./1/64/train/filtrations/6/RadialFiltration_38_51/blue/diagrams.npy\n",
      "Applying Scaler to persistence diagrams.\n",
      "Got the result from ./1/64/train/filtrations/6/RadialFiltration_38_51/blue/features.npy\n",
      "Applying filtration 69/72: RadialFiltration with c = (51, 12), bin. thr. = 0.6\n",
      "RGB images received. Transforming to grayscale.\n"
     ]
    },
    {
     "name": "stderr",
     "output_type": "stream",
     "text": [
      "rgb2gray: 100%|██████████| 9469/9469 [00:01<00:00, 5195.27it/s]\n"
     ]
    },
    {
     "name": "stdout",
     "output_type": "stream",
     "text": [
      "FiltrationExtractor: processing 1/64/train/filtrations/6/RadialFiltration_51_12/gray, do_fit = False, filtration = RadialFiltration(center=array([51, 12]), n_jobs=-1)\n",
      "Got the result from ./1/64/train/filtrations/6/RadialFiltration_51_12/gray/diagrams.npy\n",
      "Applying Scaler to persistence diagrams.\n",
      "Got the result from ./1/64/train/filtrations/6/RadialFiltration_51_12/gray/features.npy\n",
      "FiltrationExtractor: processing 1/64/train/filtrations/6/RadialFiltration_51_12/red, do_fit = False, filtration = RadialFiltration(center=array([51, 12]), n_jobs=-1)\n",
      "Got the result from ./1/64/train/filtrations/6/RadialFiltration_51_12/red/diagrams.npy\n",
      "Applying Scaler to persistence diagrams.\n",
      "Got the result from ./1/64/train/filtrations/6/RadialFiltration_51_12/red/features.npy\n",
      "FiltrationExtractor: processing 1/64/train/filtrations/6/RadialFiltration_51_12/green, do_fit = False, filtration = RadialFiltration(center=array([51, 12]), n_jobs=-1)\n",
      "Got the result from ./1/64/train/filtrations/6/RadialFiltration_51_12/green/diagrams.npy\n",
      "Applying Scaler to persistence diagrams.\n",
      "Got the result from ./1/64/train/filtrations/6/RadialFiltration_51_12/green/features.npy\n",
      "FiltrationExtractor: processing 1/64/train/filtrations/6/RadialFiltration_51_12/blue, do_fit = False, filtration = RadialFiltration(center=array([51, 12]), n_jobs=-1)\n",
      "Got the result from ./1/64/train/filtrations/6/RadialFiltration_51_12/blue/diagrams.npy\n",
      "Applying Scaler to persistence diagrams.\n",
      "Got the result from ./1/64/train/filtrations/6/RadialFiltration_51_12/blue/features.npy\n",
      "Applying filtration 70/72: RadialFiltration with c = (51, 25), bin. thr. = 0.6\n",
      "RGB images received. Transforming to grayscale.\n"
     ]
    },
    {
     "name": "stderr",
     "output_type": "stream",
     "text": [
      "rgb2gray: 100%|██████████| 9469/9469 [00:01<00:00, 4969.35it/s]\n"
     ]
    },
    {
     "name": "stdout",
     "output_type": "stream",
     "text": [
      "FiltrationExtractor: processing 1/64/train/filtrations/6/RadialFiltration_51_25/gray, do_fit = False, filtration = RadialFiltration(center=array([51, 25]), n_jobs=-1)\n",
      "Got the result from ./1/64/train/filtrations/6/RadialFiltration_51_25/gray/diagrams.npy\n",
      "Applying Scaler to persistence diagrams.\n",
      "Got the result from ./1/64/train/filtrations/6/RadialFiltration_51_25/gray/features.npy\n",
      "FiltrationExtractor: processing 1/64/train/filtrations/6/RadialFiltration_51_25/red, do_fit = False, filtration = RadialFiltration(center=array([51, 25]), n_jobs=-1)\n",
      "Got the result from ./1/64/train/filtrations/6/RadialFiltration_51_25/red/diagrams.npy\n",
      "Applying Scaler to persistence diagrams.\n",
      "Got the result from ./1/64/train/filtrations/6/RadialFiltration_51_25/red/features.npy\n",
      "FiltrationExtractor: processing 1/64/train/filtrations/6/RadialFiltration_51_25/green, do_fit = False, filtration = RadialFiltration(center=array([51, 25]), n_jobs=-1)\n",
      "Got the result from ./1/64/train/filtrations/6/RadialFiltration_51_25/green/diagrams.npy\n",
      "Applying Scaler to persistence diagrams.\n",
      "Got the result from ./1/64/train/filtrations/6/RadialFiltration_51_25/green/features.npy\n",
      "FiltrationExtractor: processing 1/64/train/filtrations/6/RadialFiltration_51_25/blue, do_fit = False, filtration = RadialFiltration(center=array([51, 25]), n_jobs=-1)\n",
      "Got the result from ./1/64/train/filtrations/6/RadialFiltration_51_25/blue/diagrams.npy\n",
      "Applying Scaler to persistence diagrams.\n",
      "Got the result from ./1/64/train/filtrations/6/RadialFiltration_51_25/blue/features.npy\n",
      "Applying filtration 71/72: RadialFiltration with c = (51, 38), bin. thr. = 0.6\n",
      "RGB images received. Transforming to grayscale.\n"
     ]
    },
    {
     "name": "stderr",
     "output_type": "stream",
     "text": [
      "rgb2gray: 100%|██████████| 9469/9469 [00:01<00:00, 5245.67it/s]\n"
     ]
    },
    {
     "name": "stdout",
     "output_type": "stream",
     "text": [
      "FiltrationExtractor: processing 1/64/train/filtrations/6/RadialFiltration_51_38/gray, do_fit = False, filtration = RadialFiltration(center=array([51, 38]), n_jobs=-1)\n",
      "Got the result from ./1/64/train/filtrations/6/RadialFiltration_51_38/gray/diagrams.npy\n",
      "Applying Scaler to persistence diagrams.\n",
      "Got the result from ./1/64/train/filtrations/6/RadialFiltration_51_38/gray/features.npy\n",
      "FiltrationExtractor: processing 1/64/train/filtrations/6/RadialFiltration_51_38/red, do_fit = False, filtration = RadialFiltration(center=array([51, 38]), n_jobs=-1)\n",
      "Got the result from ./1/64/train/filtrations/6/RadialFiltration_51_38/red/diagrams.npy\n",
      "Applying Scaler to persistence diagrams.\n",
      "Got the result from ./1/64/train/filtrations/6/RadialFiltration_51_38/red/features.npy\n",
      "FiltrationExtractor: processing 1/64/train/filtrations/6/RadialFiltration_51_38/green, do_fit = False, filtration = RadialFiltration(center=array([51, 38]), n_jobs=-1)\n",
      "Got the result from ./1/64/train/filtrations/6/RadialFiltration_51_38/green/diagrams.npy\n",
      "Applying Scaler to persistence diagrams.\n",
      "Got the result from ./1/64/train/filtrations/6/RadialFiltration_51_38/green/features.npy\n",
      "FiltrationExtractor: processing 1/64/train/filtrations/6/RadialFiltration_51_38/blue, do_fit = False, filtration = RadialFiltration(center=array([51, 38]), n_jobs=-1)\n",
      "Got the result from ./1/64/train/filtrations/6/RadialFiltration_51_38/blue/diagrams.npy\n",
      "Applying Scaler to persistence diagrams.\n",
      "Got the result from ./1/64/train/filtrations/6/RadialFiltration_51_38/blue/features.npy\n",
      "Applying filtration 72/72: RadialFiltration with c = (51, 51), bin. thr. = 0.6\n",
      "RGB images received. Transforming to grayscale.\n"
     ]
    },
    {
     "name": "stderr",
     "output_type": "stream",
     "text": [
      "rgb2gray: 100%|██████████| 9469/9469 [00:01<00:00, 5245.48it/s]\n"
     ]
    },
    {
     "name": "stdout",
     "output_type": "stream",
     "text": [
      "FiltrationExtractor: processing 1/64/train/filtrations/6/RadialFiltration_51_51/gray, do_fit = False, filtration = RadialFiltration(center=array([51, 51]), n_jobs=-1)\n",
      "Got the result from ./1/64/train/filtrations/6/RadialFiltration_51_51/gray/diagrams.npy\n",
      "Applying Scaler to persistence diagrams.\n",
      "Got the result from ./1/64/train/filtrations/6/RadialFiltration_51_51/gray/features.npy\n",
      "FiltrationExtractor: processing 1/64/train/filtrations/6/RadialFiltration_51_51/red, do_fit = False, filtration = RadialFiltration(center=array([51, 51]), n_jobs=-1)\n",
      "Got the result from ./1/64/train/filtrations/6/RadialFiltration_51_51/red/diagrams.npy\n",
      "Applying Scaler to persistence diagrams.\n",
      "Got the result from ./1/64/train/filtrations/6/RadialFiltration_51_51/red/features.npy\n",
      "FiltrationExtractor: processing 1/64/train/filtrations/6/RadialFiltration_51_51/green, do_fit = False, filtration = RadialFiltration(center=array([51, 51]), n_jobs=-1)\n",
      "Got the result from ./1/64/train/filtrations/6/RadialFiltration_51_51/green/diagrams.npy\n",
      "Applying Scaler to persistence diagrams.\n",
      "Got the result from ./1/64/train/filtrations/6/RadialFiltration_51_51/green/features.npy\n",
      "FiltrationExtractor: processing 1/64/train/filtrations/6/RadialFiltration_51_51/blue, do_fit = False, filtration = RadialFiltration(center=array([51, 51]), n_jobs=-1)\n",
      "Got the result from ./1/64/train/filtrations/6/RadialFiltration_51_51/blue/diagrams.npy\n",
      "Applying Scaler to persistence diagrams.\n",
      "Got the result from ./1/64/train/filtrations/6/RadialFiltration_51_51/blue/features.npy\n",
      "RGB images received. Transforming to grayscale.\n",
      "Got the result from ./1/64/train/geometry/rgb/features.npy\n"
     ]
    },
    {
     "name": "stderr",
     "output_type": "stream",
     "text": [
      "rgb2gray: 100%|██████████| 9469/9469 [00:01<00:00, 5252.03it/s]\n"
     ]
    },
    {
     "name": "stdout",
     "output_type": "stream",
     "text": [
      "Got the result from ./1/64/train/geometry/gray/features.npy\n",
      "Got the result from ./1/64/train/geometry/gray/features.npy\n",
      "Got the result from ./1/64/train/geometry/red/features.npy\n",
      "Got the result from ./1/64/train/geometry/red/features.npy\n",
      "Got the result from ./1/64/train/geometry/green/features.npy\n",
      "Got the result from ./1/64/train/geometry/green/features.npy\n",
      "Got the result from ./1/64/train/geometry/blue/features.npy\n",
      "Got the result from ./1/64/train/geometry/blue/features.npy\n",
      "RGB images received. Transforming to grayscale.\n",
      "Got the result from ./1/64/train/geometry/rgb/features.npy\n"
     ]
    },
    {
     "name": "stderr",
     "output_type": "stream",
     "text": [
      "rgb2gray: 100%|██████████| 9469/9469 [00:01<00:00, 4958.86it/s]\n"
     ]
    },
    {
     "name": "stdout",
     "output_type": "stream",
     "text": [
      "Got the result from ./1/64/train/geometry/gray/features.npy\n",
      "Got the result from ./1/64/train/geometry/red/features.npy\n",
      "Got the result from ./1/64/train/geometry/green/features.npy\n",
      "Got the result from ./1/64/train/geometry/blue/features.npy\n",
      "Applying StandardScaler.\n",
      "Calculating inverted images\n",
      "RGB images received. Transforming to grayscale.\n"
     ]
    },
    {
     "name": "stderr",
     "output_type": "stream",
     "text": [
      "rgb2gray: 100%|██████████| 9469/9469 [00:01<00:00, 5153.76it/s]\n"
     ]
    },
    {
     "name": "stdout",
     "output_type": "stream",
     "text": [
      "GreyscaleExtractor: processing 1/64/train/greyscale/gray, do_fit = False\n",
      "Got the result from ./1/64/train/greyscale/gray/diagrams.npy\n",
      "Applying Scaler to persistence diagrams.\n",
      "Got the result from ./1/64/train/greyscale/gray/features.npy\n",
      "GreyscaleExtractor: processing 1/64/train/greyscale/red, do_fit = False\n",
      "Got the result from ./1/64/train/greyscale/red/diagrams.npy\n",
      "Applying Scaler to persistence diagrams.\n",
      "Got the result from ./1/64/train/greyscale/red/features.npy\n",
      "GreyscaleExtractor: processing 1/64/train/greyscale/green, do_fit = False\n",
      "Got the result from ./1/64/train/greyscale/green/diagrams.npy\n",
      "Applying Scaler to persistence diagrams.\n",
      "Got the result from ./1/64/train/greyscale/green/features.npy\n",
      "GreyscaleExtractor: processing 1/64/train/greyscale/blue, do_fit = False\n",
      "Got the result from ./1/64/train/greyscale/blue/diagrams.npy\n",
      "Applying Scaler to persistence diagrams.\n",
      "Got the result from ./1/64/train/greyscale/blue/features.npy\n",
      "RGB images received. Transforming to grayscale.\n"
     ]
    },
    {
     "name": "stderr",
     "output_type": "stream",
     "text": [
      "rgb2gray: 100%|██████████| 9469/9469 [00:01<00:00, 5172.79it/s]\n"
     ]
    },
    {
     "name": "stdout",
     "output_type": "stream",
     "text": [
      "GreyscaleExtractor: processing 1/64/train/inverted_greyscale/gray, do_fit = False\n",
      "Got the result from ./1/64/train/inverted_greyscale/gray/diagrams.npy\n",
      "Applying Scaler to persistence diagrams.\n",
      "Got the result from ./1/64/train/inverted_greyscale/gray/features.npy\n",
      "GreyscaleExtractor: processing 1/64/train/inverted_greyscale/red, do_fit = False\n",
      "Got the result from ./1/64/train/inverted_greyscale/red/diagrams.npy\n",
      "Applying Scaler to persistence diagrams.\n",
      "Got the result from ./1/64/train/inverted_greyscale/red/features.npy\n",
      "GreyscaleExtractor: processing 1/64/train/inverted_greyscale/green, do_fit = False\n",
      "Got the result from ./1/64/train/inverted_greyscale/green/diagrams.npy\n",
      "Applying Scaler to persistence diagrams.\n",
      "Got the result from ./1/64/train/inverted_greyscale/green/features.npy\n",
      "GreyscaleExtractor: processing 1/64/train/inverted_greyscale/blue, do_fit = False\n",
      "Got the result from ./1/64/train/inverted_greyscale/blue/diagrams.npy\n",
      "Applying Scaler to persistence diagrams.\n",
      "Got the result from ./1/64/train/inverted_greyscale/blue/features.npy\n",
      "Applying filtrations\n",
      "Applying filtration 1/72: HeightFiltration with d = (-1, -1), bin. thr. = 0.2\n",
      "RGB images received. Transforming to grayscale.\n"
     ]
    },
    {
     "name": "stderr",
     "output_type": "stream",
     "text": [
      "rgb2gray: 100%|██████████| 9469/9469 [00:01<00:00, 5186.78it/s]\n"
     ]
    },
    {
     "name": "stdout",
     "output_type": "stream",
     "text": [
      "FiltrationExtractor: processing 1/64/train/filtrations/2/HeightFiltrartion_-1_-1/gray, do_fit = False, filtration = HeightFiltration(direction=array([-1, -1]), n_jobs=-1)\n",
      "Got the result from ./1/64/train/filtrations/2/HeightFiltrartion_-1_-1/gray/diagrams.npy\n",
      "Applying Scaler to persistence diagrams.\n",
      "Got the result from ./1/64/train/filtrations/2/HeightFiltrartion_-1_-1/gray/features.npy\n",
      "FiltrationExtractor: processing 1/64/train/filtrations/2/HeightFiltrartion_-1_-1/red, do_fit = False, filtration = HeightFiltration(direction=array([-1, -1]), n_jobs=-1)\n",
      "Got the result from ./1/64/train/filtrations/2/HeightFiltrartion_-1_-1/red/diagrams.npy\n",
      "Applying Scaler to persistence diagrams.\n",
      "Got the result from ./1/64/train/filtrations/2/HeightFiltrartion_-1_-1/red/features.npy\n",
      "FiltrationExtractor: processing 1/64/train/filtrations/2/HeightFiltrartion_-1_-1/green, do_fit = False, filtration = HeightFiltration(direction=array([-1, -1]), n_jobs=-1)\n",
      "Got the result from ./1/64/train/filtrations/2/HeightFiltrartion_-1_-1/green/diagrams.npy\n",
      "Applying Scaler to persistence diagrams.\n",
      "Got the result from ./1/64/train/filtrations/2/HeightFiltrartion_-1_-1/green/features.npy\n",
      "FiltrationExtractor: processing 1/64/train/filtrations/2/HeightFiltrartion_-1_-1/blue, do_fit = False, filtration = HeightFiltration(direction=array([-1, -1]), n_jobs=-1)\n",
      "Got the result from ./1/64/train/filtrations/2/HeightFiltrartion_-1_-1/blue/diagrams.npy\n",
      "Applying Scaler to persistence diagrams.\n",
      "Got the result from ./1/64/train/filtrations/2/HeightFiltrartion_-1_-1/blue/features.npy\n",
      "Applying filtration 2/72: HeightFiltration with d = (-1, 0), bin. thr. = 0.2\n",
      "RGB images received. Transforming to grayscale.\n"
     ]
    },
    {
     "name": "stderr",
     "output_type": "stream",
     "text": [
      "rgb2gray: 100%|██████████| 9469/9469 [00:01<00:00, 4806.43it/s]\n"
     ]
    },
    {
     "name": "stdout",
     "output_type": "stream",
     "text": [
      "FiltrationExtractor: processing 1/64/train/filtrations/2/HeightFiltrartion_-1_0/gray, do_fit = False, filtration = HeightFiltration(direction=array([-1,  0]), n_jobs=-1)\n",
      "Got the result from ./1/64/train/filtrations/2/HeightFiltrartion_-1_0/gray/diagrams.npy\n",
      "Applying Scaler to persistence diagrams.\n",
      "Got the result from ./1/64/train/filtrations/2/HeightFiltrartion_-1_0/gray/features.npy\n",
      "FiltrationExtractor: processing 1/64/train/filtrations/2/HeightFiltrartion_-1_0/red, do_fit = False, filtration = HeightFiltration(direction=array([-1,  0]), n_jobs=-1)\n",
      "Got the result from ./1/64/train/filtrations/2/HeightFiltrartion_-1_0/red/diagrams.npy\n",
      "Applying Scaler to persistence diagrams.\n",
      "Got the result from ./1/64/train/filtrations/2/HeightFiltrartion_-1_0/red/features.npy\n",
      "FiltrationExtractor: processing 1/64/train/filtrations/2/HeightFiltrartion_-1_0/green, do_fit = False, filtration = HeightFiltration(direction=array([-1,  0]), n_jobs=-1)\n",
      "Got the result from ./1/64/train/filtrations/2/HeightFiltrartion_-1_0/green/diagrams.npy\n",
      "Applying Scaler to persistence diagrams.\n",
      "Got the result from ./1/64/train/filtrations/2/HeightFiltrartion_-1_0/green/features.npy\n",
      "FiltrationExtractor: processing 1/64/train/filtrations/2/HeightFiltrartion_-1_0/blue, do_fit = False, filtration = HeightFiltration(direction=array([-1,  0]), n_jobs=-1)\n",
      "Got the result from ./1/64/train/filtrations/2/HeightFiltrartion_-1_0/blue/diagrams.npy\n",
      "Applying Scaler to persistence diagrams.\n",
      "Got the result from ./1/64/train/filtrations/2/HeightFiltrartion_-1_0/blue/features.npy\n",
      "Applying filtration 3/72: HeightFiltration with d = (-1, 1), bin. thr. = 0.2\n",
      "RGB images received. Transforming to grayscale.\n"
     ]
    },
    {
     "name": "stderr",
     "output_type": "stream",
     "text": [
      "rgb2gray: 100%|██████████| 9469/9469 [00:01<00:00, 4881.92it/s]\n"
     ]
    },
    {
     "name": "stdout",
     "output_type": "stream",
     "text": [
      "FiltrationExtractor: processing 1/64/train/filtrations/2/HeightFiltrartion_-1_1/gray, do_fit = False, filtration = HeightFiltration(direction=array([-1,  1]), n_jobs=-1)\n",
      "Got the result from ./1/64/train/filtrations/2/HeightFiltrartion_-1_1/gray/diagrams.npy\n",
      "Applying Scaler to persistence diagrams.\n",
      "Got the result from ./1/64/train/filtrations/2/HeightFiltrartion_-1_1/gray/features.npy\n",
      "FiltrationExtractor: processing 1/64/train/filtrations/2/HeightFiltrartion_-1_1/red, do_fit = False, filtration = HeightFiltration(direction=array([-1,  1]), n_jobs=-1)\n",
      "Got the result from ./1/64/train/filtrations/2/HeightFiltrartion_-1_1/red/diagrams.npy\n",
      "Applying Scaler to persistence diagrams.\n",
      "Got the result from ./1/64/train/filtrations/2/HeightFiltrartion_-1_1/red/features.npy\n",
      "FiltrationExtractor: processing 1/64/train/filtrations/2/HeightFiltrartion_-1_1/green, do_fit = False, filtration = HeightFiltration(direction=array([-1,  1]), n_jobs=-1)\n",
      "Got the result from ./1/64/train/filtrations/2/HeightFiltrartion_-1_1/green/diagrams.npy\n",
      "Applying Scaler to persistence diagrams.\n",
      "Got the result from ./1/64/train/filtrations/2/HeightFiltrartion_-1_1/green/features.npy\n",
      "FiltrationExtractor: processing 1/64/train/filtrations/2/HeightFiltrartion_-1_1/blue, do_fit = False, filtration = HeightFiltration(direction=array([-1,  1]), n_jobs=-1)\n",
      "Got the result from ./1/64/train/filtrations/2/HeightFiltrartion_-1_1/blue/diagrams.npy\n",
      "Applying Scaler to persistence diagrams.\n",
      "Got the result from ./1/64/train/filtrations/2/HeightFiltrartion_-1_1/blue/features.npy\n",
      "Applying filtration 4/72: HeightFiltration with d = (0, -1), bin. thr. = 0.2\n",
      "RGB images received. Transforming to grayscale.\n"
     ]
    },
    {
     "name": "stderr",
     "output_type": "stream",
     "text": [
      "rgb2gray: 100%|██████████| 9469/9469 [00:02<00:00, 4476.52it/s]\n"
     ]
    },
    {
     "name": "stdout",
     "output_type": "stream",
     "text": [
      "FiltrationExtractor: processing 1/64/train/filtrations/2/HeightFiltrartion_0_-1/gray, do_fit = False, filtration = HeightFiltration(direction=array([ 0, -1]), n_jobs=-1)\n",
      "Got the result from ./1/64/train/filtrations/2/HeightFiltrartion_0_-1/gray/diagrams.npy\n",
      "Applying Scaler to persistence diagrams.\n",
      "Got the result from ./1/64/train/filtrations/2/HeightFiltrartion_0_-1/gray/features.npy\n",
      "FiltrationExtractor: processing 1/64/train/filtrations/2/HeightFiltrartion_0_-1/red, do_fit = False, filtration = HeightFiltration(direction=array([ 0, -1]), n_jobs=-1)\n",
      "Got the result from ./1/64/train/filtrations/2/HeightFiltrartion_0_-1/red/diagrams.npy\n",
      "Applying Scaler to persistence diagrams.\n",
      "Got the result from ./1/64/train/filtrations/2/HeightFiltrartion_0_-1/red/features.npy\n",
      "FiltrationExtractor: processing 1/64/train/filtrations/2/HeightFiltrartion_0_-1/green, do_fit = False, filtration = HeightFiltration(direction=array([ 0, -1]), n_jobs=-1)\n",
      "Got the result from ./1/64/train/filtrations/2/HeightFiltrartion_0_-1/green/diagrams.npy\n",
      "Applying Scaler to persistence diagrams.\n",
      "Got the result from ./1/64/train/filtrations/2/HeightFiltrartion_0_-1/green/features.npy\n",
      "FiltrationExtractor: processing 1/64/train/filtrations/2/HeightFiltrartion_0_-1/blue, do_fit = False, filtration = HeightFiltration(direction=array([ 0, -1]), n_jobs=-1)\n",
      "Got the result from ./1/64/train/filtrations/2/HeightFiltrartion_0_-1/blue/diagrams.npy\n",
      "Applying Scaler to persistence diagrams.\n",
      "Got the result from ./1/64/train/filtrations/2/HeightFiltrartion_0_-1/blue/features.npy\n",
      "Applying filtration 5/72: HeightFiltration with d = (0, 1), bin. thr. = 0.2\n",
      "RGB images received. Transforming to grayscale.\n"
     ]
    },
    {
     "name": "stderr",
     "output_type": "stream",
     "text": [
      "rgb2gray: 100%|██████████| 9469/9469 [00:01<00:00, 4738.70it/s]\n"
     ]
    },
    {
     "name": "stdout",
     "output_type": "stream",
     "text": [
      "FiltrationExtractor: processing 1/64/train/filtrations/2/HeightFiltrartion_0_1/gray, do_fit = False, filtration = HeightFiltration(direction=array([0, 1]), n_jobs=-1)\n",
      "Got the result from ./1/64/train/filtrations/2/HeightFiltrartion_0_1/gray/diagrams.npy\n",
      "Applying Scaler to persistence diagrams.\n",
      "Got the result from ./1/64/train/filtrations/2/HeightFiltrartion_0_1/gray/features.npy\n",
      "FiltrationExtractor: processing 1/64/train/filtrations/2/HeightFiltrartion_0_1/red, do_fit = False, filtration = HeightFiltration(direction=array([0, 1]), n_jobs=-1)\n",
      "Got the result from ./1/64/train/filtrations/2/HeightFiltrartion_0_1/red/diagrams.npy\n",
      "Applying Scaler to persistence diagrams.\n",
      "Got the result from ./1/64/train/filtrations/2/HeightFiltrartion_0_1/red/features.npy\n",
      "FiltrationExtractor: processing 1/64/train/filtrations/2/HeightFiltrartion_0_1/green, do_fit = False, filtration = HeightFiltration(direction=array([0, 1]), n_jobs=-1)\n",
      "Got the result from ./1/64/train/filtrations/2/HeightFiltrartion_0_1/green/diagrams.npy\n",
      "Applying Scaler to persistence diagrams.\n",
      "Got the result from ./1/64/train/filtrations/2/HeightFiltrartion_0_1/green/features.npy\n",
      "FiltrationExtractor: processing 1/64/train/filtrations/2/HeightFiltrartion_0_1/blue, do_fit = False, filtration = HeightFiltration(direction=array([0, 1]), n_jobs=-1)\n",
      "Got the result from ./1/64/train/filtrations/2/HeightFiltrartion_0_1/blue/diagrams.npy\n",
      "Applying Scaler to persistence diagrams.\n",
      "Got the result from ./1/64/train/filtrations/2/HeightFiltrartion_0_1/blue/features.npy\n",
      "Applying filtration 6/72: HeightFiltration with d = (1, -1), bin. thr. = 0.2\n",
      "RGB images received. Transforming to grayscale.\n"
     ]
    },
    {
     "name": "stderr",
     "output_type": "stream",
     "text": [
      "rgb2gray: 100%|██████████| 9469/9469 [00:01<00:00, 5198.38it/s]\n"
     ]
    },
    {
     "name": "stdout",
     "output_type": "stream",
     "text": [
      "FiltrationExtractor: processing 1/64/train/filtrations/2/HeightFiltrartion_1_-1/gray, do_fit = False, filtration = HeightFiltration(direction=array([ 1, -1]), n_jobs=-1)\n",
      "Got the result from ./1/64/train/filtrations/2/HeightFiltrartion_1_-1/gray/diagrams.npy\n",
      "Applying Scaler to persistence diagrams.\n",
      "Got the result from ./1/64/train/filtrations/2/HeightFiltrartion_1_-1/gray/features.npy\n",
      "FiltrationExtractor: processing 1/64/train/filtrations/2/HeightFiltrartion_1_-1/red, do_fit = False, filtration = HeightFiltration(direction=array([ 1, -1]), n_jobs=-1)\n",
      "Got the result from ./1/64/train/filtrations/2/HeightFiltrartion_1_-1/red/diagrams.npy\n",
      "Applying Scaler to persistence diagrams.\n",
      "Got the result from ./1/64/train/filtrations/2/HeightFiltrartion_1_-1/red/features.npy\n",
      "FiltrationExtractor: processing 1/64/train/filtrations/2/HeightFiltrartion_1_-1/green, do_fit = False, filtration = HeightFiltration(direction=array([ 1, -1]), n_jobs=-1)\n",
      "Got the result from ./1/64/train/filtrations/2/HeightFiltrartion_1_-1/green/diagrams.npy\n",
      "Applying Scaler to persistence diagrams.\n",
      "Got the result from ./1/64/train/filtrations/2/HeightFiltrartion_1_-1/green/features.npy\n",
      "FiltrationExtractor: processing 1/64/train/filtrations/2/HeightFiltrartion_1_-1/blue, do_fit = False, filtration = HeightFiltration(direction=array([ 1, -1]), n_jobs=-1)\n",
      "Got the result from ./1/64/train/filtrations/2/HeightFiltrartion_1_-1/blue/diagrams.npy\n",
      "Applying Scaler to persistence diagrams.\n",
      "Got the result from ./1/64/train/filtrations/2/HeightFiltrartion_1_-1/blue/features.npy\n",
      "Applying filtration 7/72: HeightFiltration with d = (1, 0), bin. thr. = 0.2\n",
      "RGB images received. Transforming to grayscale.\n"
     ]
    },
    {
     "name": "stderr",
     "output_type": "stream",
     "text": [
      "rgb2gray: 100%|██████████| 9469/9469 [00:01<00:00, 5065.95it/s]\n"
     ]
    },
    {
     "name": "stdout",
     "output_type": "stream",
     "text": [
      "FiltrationExtractor: processing 1/64/train/filtrations/2/HeightFiltrartion_1_0/gray, do_fit = False, filtration = HeightFiltration(direction=array([1, 0]), n_jobs=-1)\n",
      "Got the result from ./1/64/train/filtrations/2/HeightFiltrartion_1_0/gray/diagrams.npy\n",
      "Applying Scaler to persistence diagrams.\n",
      "Got the result from ./1/64/train/filtrations/2/HeightFiltrartion_1_0/gray/features.npy\n",
      "FiltrationExtractor: processing 1/64/train/filtrations/2/HeightFiltrartion_1_0/red, do_fit = False, filtration = HeightFiltration(direction=array([1, 0]), n_jobs=-1)\n",
      "Got the result from ./1/64/train/filtrations/2/HeightFiltrartion_1_0/red/diagrams.npy\n",
      "Applying Scaler to persistence diagrams.\n",
      "Got the result from ./1/64/train/filtrations/2/HeightFiltrartion_1_0/red/features.npy\n",
      "FiltrationExtractor: processing 1/64/train/filtrations/2/HeightFiltrartion_1_0/green, do_fit = False, filtration = HeightFiltration(direction=array([1, 0]), n_jobs=-1)\n",
      "Got the result from ./1/64/train/filtrations/2/HeightFiltrartion_1_0/green/diagrams.npy\n",
      "Applying Scaler to persistence diagrams.\n",
      "Got the result from ./1/64/train/filtrations/2/HeightFiltrartion_1_0/green/features.npy\n",
      "FiltrationExtractor: processing 1/64/train/filtrations/2/HeightFiltrartion_1_0/blue, do_fit = False, filtration = HeightFiltration(direction=array([1, 0]), n_jobs=-1)\n",
      "Got the result from ./1/64/train/filtrations/2/HeightFiltrartion_1_0/blue/diagrams.npy\n",
      "Applying Scaler to persistence diagrams.\n",
      "Got the result from ./1/64/train/filtrations/2/HeightFiltrartion_1_0/blue/features.npy\n",
      "Applying filtration 8/72: HeightFiltration with d = (1, 1), bin. thr. = 0.2\n",
      "RGB images received. Transforming to grayscale.\n"
     ]
    },
    {
     "name": "stderr",
     "output_type": "stream",
     "text": [
      "rgb2gray: 100%|██████████| 9469/9469 [00:01<00:00, 5155.30it/s]\n"
     ]
    },
    {
     "name": "stdout",
     "output_type": "stream",
     "text": [
      "FiltrationExtractor: processing 1/64/train/filtrations/2/HeightFiltrartion_1_1/gray, do_fit = False, filtration = HeightFiltration(direction=array([1, 1]), n_jobs=-1)\n",
      "Got the result from ./1/64/train/filtrations/2/HeightFiltrartion_1_1/gray/diagrams.npy\n",
      "Applying Scaler to persistence diagrams.\n",
      "Got the result from ./1/64/train/filtrations/2/HeightFiltrartion_1_1/gray/features.npy\n",
      "FiltrationExtractor: processing 1/64/train/filtrations/2/HeightFiltrartion_1_1/red, do_fit = False, filtration = HeightFiltration(direction=array([1, 1]), n_jobs=-1)\n",
      "Got the result from ./1/64/train/filtrations/2/HeightFiltrartion_1_1/red/diagrams.npy\n",
      "Applying Scaler to persistence diagrams.\n",
      "Got the result from ./1/64/train/filtrations/2/HeightFiltrartion_1_1/red/features.npy\n",
      "FiltrationExtractor: processing 1/64/train/filtrations/2/HeightFiltrartion_1_1/green, do_fit = False, filtration = HeightFiltration(direction=array([1, 1]), n_jobs=-1)\n",
      "Got the result from ./1/64/train/filtrations/2/HeightFiltrartion_1_1/green/diagrams.npy\n",
      "Applying Scaler to persistence diagrams.\n",
      "Got the result from ./1/64/train/filtrations/2/HeightFiltrartion_1_1/green/features.npy\n",
      "FiltrationExtractor: processing 1/64/train/filtrations/2/HeightFiltrartion_1_1/blue, do_fit = False, filtration = HeightFiltration(direction=array([1, 1]), n_jobs=-1)\n",
      "Got the result from ./1/64/train/filtrations/2/HeightFiltrartion_1_1/blue/diagrams.npy\n",
      "Applying Scaler to persistence diagrams.\n",
      "Got the result from ./1/64/train/filtrations/2/HeightFiltrartion_1_1/blue/features.npy\n",
      "Applying filtration 9/72: RadialFiltration with c = (12, 12), bin. thr. = 0.2\n",
      "RGB images received. Transforming to grayscale.\n"
     ]
    },
    {
     "name": "stderr",
     "output_type": "stream",
     "text": [
      "rgb2gray: 100%|██████████| 9469/9469 [00:01<00:00, 5126.79it/s]\n"
     ]
    },
    {
     "name": "stdout",
     "output_type": "stream",
     "text": [
      "FiltrationExtractor: processing 1/64/train/filtrations/2/RadialFiltration_12_12/gray, do_fit = False, filtration = RadialFiltration(center=array([12, 12]), n_jobs=-1)\n",
      "Got the result from ./1/64/train/filtrations/2/RadialFiltration_12_12/gray/diagrams.npy\n",
      "Applying Scaler to persistence diagrams.\n",
      "Got the result from ./1/64/train/filtrations/2/RadialFiltration_12_12/gray/features.npy\n",
      "FiltrationExtractor: processing 1/64/train/filtrations/2/RadialFiltration_12_12/red, do_fit = False, filtration = RadialFiltration(center=array([12, 12]), n_jobs=-1)\n",
      "Got the result from ./1/64/train/filtrations/2/RadialFiltration_12_12/red/diagrams.npy\n",
      "Applying Scaler to persistence diagrams.\n",
      "Got the result from ./1/64/train/filtrations/2/RadialFiltration_12_12/red/features.npy\n",
      "FiltrationExtractor: processing 1/64/train/filtrations/2/RadialFiltration_12_12/green, do_fit = False, filtration = RadialFiltration(center=array([12, 12]), n_jobs=-1)\n",
      "Got the result from ./1/64/train/filtrations/2/RadialFiltration_12_12/green/diagrams.npy\n",
      "Applying Scaler to persistence diagrams.\n",
      "Got the result from ./1/64/train/filtrations/2/RadialFiltration_12_12/green/features.npy\n",
      "FiltrationExtractor: processing 1/64/train/filtrations/2/RadialFiltration_12_12/blue, do_fit = False, filtration = RadialFiltration(center=array([12, 12]), n_jobs=-1)\n",
      "Got the result from ./1/64/train/filtrations/2/RadialFiltration_12_12/blue/diagrams.npy\n",
      "Applying Scaler to persistence diagrams.\n",
      "Got the result from ./1/64/train/filtrations/2/RadialFiltration_12_12/blue/features.npy\n",
      "Applying filtration 10/72: RadialFiltration with c = (12, 25), bin. thr. = 0.2\n",
      "RGB images received. Transforming to grayscale.\n"
     ]
    },
    {
     "name": "stderr",
     "output_type": "stream",
     "text": [
      "rgb2gray: 100%|██████████| 9469/9469 [00:01<00:00, 4916.90it/s]\n"
     ]
    },
    {
     "name": "stdout",
     "output_type": "stream",
     "text": [
      "FiltrationExtractor: processing 1/64/train/filtrations/2/RadialFiltration_12_25/gray, do_fit = False, filtration = RadialFiltration(center=array([12, 25]), n_jobs=-1)\n",
      "Got the result from ./1/64/train/filtrations/2/RadialFiltration_12_25/gray/diagrams.npy\n",
      "Applying Scaler to persistence diagrams.\n",
      "Got the result from ./1/64/train/filtrations/2/RadialFiltration_12_25/gray/features.npy\n",
      "FiltrationExtractor: processing 1/64/train/filtrations/2/RadialFiltration_12_25/red, do_fit = False, filtration = RadialFiltration(center=array([12, 25]), n_jobs=-1)\n",
      "Got the result from ./1/64/train/filtrations/2/RadialFiltration_12_25/red/diagrams.npy\n",
      "Applying Scaler to persistence diagrams.\n",
      "Got the result from ./1/64/train/filtrations/2/RadialFiltration_12_25/red/features.npy\n",
      "FiltrationExtractor: processing 1/64/train/filtrations/2/RadialFiltration_12_25/green, do_fit = False, filtration = RadialFiltration(center=array([12, 25]), n_jobs=-1)\n",
      "Got the result from ./1/64/train/filtrations/2/RadialFiltration_12_25/green/diagrams.npy\n",
      "Applying Scaler to persistence diagrams.\n",
      "Got the result from ./1/64/train/filtrations/2/RadialFiltration_12_25/green/features.npy\n",
      "FiltrationExtractor: processing 1/64/train/filtrations/2/RadialFiltration_12_25/blue, do_fit = False, filtration = RadialFiltration(center=array([12, 25]), n_jobs=-1)\n",
      "Got the result from ./1/64/train/filtrations/2/RadialFiltration_12_25/blue/diagrams.npy\n",
      "Applying Scaler to persistence diagrams.\n",
      "Got the result from ./1/64/train/filtrations/2/RadialFiltration_12_25/blue/features.npy\n",
      "Applying filtration 11/72: RadialFiltration with c = (12, 38), bin. thr. = 0.2\n",
      "RGB images received. Transforming to grayscale.\n"
     ]
    },
    {
     "name": "stderr",
     "output_type": "stream",
     "text": [
      "rgb2gray: 100%|██████████| 9469/9469 [00:01<00:00, 5136.51it/s]\n"
     ]
    },
    {
     "name": "stdout",
     "output_type": "stream",
     "text": [
      "FiltrationExtractor: processing 1/64/train/filtrations/2/RadialFiltration_12_38/gray, do_fit = False, filtration = RadialFiltration(center=array([12, 38]), n_jobs=-1)\n",
      "Got the result from ./1/64/train/filtrations/2/RadialFiltration_12_38/gray/diagrams.npy\n",
      "Applying Scaler to persistence diagrams.\n",
      "Got the result from ./1/64/train/filtrations/2/RadialFiltration_12_38/gray/features.npy\n",
      "FiltrationExtractor: processing 1/64/train/filtrations/2/RadialFiltration_12_38/red, do_fit = False, filtration = RadialFiltration(center=array([12, 38]), n_jobs=-1)\n",
      "Got the result from ./1/64/train/filtrations/2/RadialFiltration_12_38/red/diagrams.npy\n",
      "Applying Scaler to persistence diagrams.\n",
      "Got the result from ./1/64/train/filtrations/2/RadialFiltration_12_38/red/features.npy\n",
      "FiltrationExtractor: processing 1/64/train/filtrations/2/RadialFiltration_12_38/green, do_fit = False, filtration = RadialFiltration(center=array([12, 38]), n_jobs=-1)\n",
      "Got the result from ./1/64/train/filtrations/2/RadialFiltration_12_38/green/diagrams.npy\n",
      "Applying Scaler to persistence diagrams.\n",
      "Got the result from ./1/64/train/filtrations/2/RadialFiltration_12_38/green/features.npy\n",
      "FiltrationExtractor: processing 1/64/train/filtrations/2/RadialFiltration_12_38/blue, do_fit = False, filtration = RadialFiltration(center=array([12, 38]), n_jobs=-1)\n",
      "Got the result from ./1/64/train/filtrations/2/RadialFiltration_12_38/blue/diagrams.npy\n",
      "Applying Scaler to persistence diagrams.\n",
      "Got the result from ./1/64/train/filtrations/2/RadialFiltration_12_38/blue/features.npy\n",
      "Applying filtration 12/72: RadialFiltration with c = (12, 51), bin. thr. = 0.2\n",
      "RGB images received. Transforming to grayscale.\n"
     ]
    },
    {
     "name": "stderr",
     "output_type": "stream",
     "text": [
      "rgb2gray: 100%|██████████| 9469/9469 [00:01<00:00, 5185.19it/s]\n"
     ]
    },
    {
     "name": "stdout",
     "output_type": "stream",
     "text": [
      "FiltrationExtractor: processing 1/64/train/filtrations/2/RadialFiltration_12_51/gray, do_fit = False, filtration = RadialFiltration(center=array([12, 51]), n_jobs=-1)\n",
      "Got the result from ./1/64/train/filtrations/2/RadialFiltration_12_51/gray/diagrams.npy\n",
      "Applying Scaler to persistence diagrams.\n",
      "Got the result from ./1/64/train/filtrations/2/RadialFiltration_12_51/gray/features.npy\n",
      "FiltrationExtractor: processing 1/64/train/filtrations/2/RadialFiltration_12_51/red, do_fit = False, filtration = RadialFiltration(center=array([12, 51]), n_jobs=-1)\n",
      "Got the result from ./1/64/train/filtrations/2/RadialFiltration_12_51/red/diagrams.npy\n",
      "Applying Scaler to persistence diagrams.\n",
      "Got the result from ./1/64/train/filtrations/2/RadialFiltration_12_51/red/features.npy\n",
      "FiltrationExtractor: processing 1/64/train/filtrations/2/RadialFiltration_12_51/green, do_fit = False, filtration = RadialFiltration(center=array([12, 51]), n_jobs=-1)\n",
      "Got the result from ./1/64/train/filtrations/2/RadialFiltration_12_51/green/diagrams.npy\n",
      "Applying Scaler to persistence diagrams.\n",
      "Got the result from ./1/64/train/filtrations/2/RadialFiltration_12_51/green/features.npy\n",
      "FiltrationExtractor: processing 1/64/train/filtrations/2/RadialFiltration_12_51/blue, do_fit = False, filtration = RadialFiltration(center=array([12, 51]), n_jobs=-1)\n",
      "Got the result from ./1/64/train/filtrations/2/RadialFiltration_12_51/blue/diagrams.npy\n",
      "Applying Scaler to persistence diagrams.\n",
      "Got the result from ./1/64/train/filtrations/2/RadialFiltration_12_51/blue/features.npy\n",
      "Applying filtration 13/72: RadialFiltration with c = (25, 12), bin. thr. = 0.2\n",
      "RGB images received. Transforming to grayscale.\n"
     ]
    },
    {
     "name": "stderr",
     "output_type": "stream",
     "text": [
      "rgb2gray: 100%|██████████| 9469/9469 [00:01<00:00, 5284.71it/s]\n"
     ]
    },
    {
     "name": "stdout",
     "output_type": "stream",
     "text": [
      "FiltrationExtractor: processing 1/64/train/filtrations/2/RadialFiltration_25_12/gray, do_fit = False, filtration = RadialFiltration(center=array([25, 12]), n_jobs=-1)\n",
      "Got the result from ./1/64/train/filtrations/2/RadialFiltration_25_12/gray/diagrams.npy\n",
      "Applying Scaler to persistence diagrams.\n",
      "Got the result from ./1/64/train/filtrations/2/RadialFiltration_25_12/gray/features.npy\n",
      "FiltrationExtractor: processing 1/64/train/filtrations/2/RadialFiltration_25_12/red, do_fit = False, filtration = RadialFiltration(center=array([25, 12]), n_jobs=-1)\n",
      "Got the result from ./1/64/train/filtrations/2/RadialFiltration_25_12/red/diagrams.npy\n",
      "Applying Scaler to persistence diagrams.\n",
      "Got the result from ./1/64/train/filtrations/2/RadialFiltration_25_12/red/features.npy\n",
      "FiltrationExtractor: processing 1/64/train/filtrations/2/RadialFiltration_25_12/green, do_fit = False, filtration = RadialFiltration(center=array([25, 12]), n_jobs=-1)\n",
      "Got the result from ./1/64/train/filtrations/2/RadialFiltration_25_12/green/diagrams.npy\n",
      "Applying Scaler to persistence diagrams.\n",
      "Got the result from ./1/64/train/filtrations/2/RadialFiltration_25_12/green/features.npy\n",
      "FiltrationExtractor: processing 1/64/train/filtrations/2/RadialFiltration_25_12/blue, do_fit = False, filtration = RadialFiltration(center=array([25, 12]), n_jobs=-1)\n",
      "Got the result from ./1/64/train/filtrations/2/RadialFiltration_25_12/blue/diagrams.npy\n",
      "Applying Scaler to persistence diagrams.\n",
      "Got the result from ./1/64/train/filtrations/2/RadialFiltration_25_12/blue/features.npy\n",
      "Applying filtration 14/72: RadialFiltration with c = (25, 25), bin. thr. = 0.2\n",
      "RGB images received. Transforming to grayscale.\n"
     ]
    },
    {
     "name": "stderr",
     "output_type": "stream",
     "text": [
      "rgb2gray: 100%|██████████| 9469/9469 [00:01<00:00, 5535.37it/s]\n"
     ]
    },
    {
     "name": "stdout",
     "output_type": "stream",
     "text": [
      "FiltrationExtractor: processing 1/64/train/filtrations/2/RadialFiltration_25_25/gray, do_fit = False, filtration = RadialFiltration(center=array([25, 25]), n_jobs=-1)\n",
      "Got the result from ./1/64/train/filtrations/2/RadialFiltration_25_25/gray/diagrams.npy\n",
      "Applying Scaler to persistence diagrams.\n",
      "Got the result from ./1/64/train/filtrations/2/RadialFiltration_25_25/gray/features.npy\n",
      "FiltrationExtractor: processing 1/64/train/filtrations/2/RadialFiltration_25_25/red, do_fit = False, filtration = RadialFiltration(center=array([25, 25]), n_jobs=-1)\n",
      "Got the result from ./1/64/train/filtrations/2/RadialFiltration_25_25/red/diagrams.npy\n",
      "Applying Scaler to persistence diagrams.\n",
      "Got the result from ./1/64/train/filtrations/2/RadialFiltration_25_25/red/features.npy\n",
      "FiltrationExtractor: processing 1/64/train/filtrations/2/RadialFiltration_25_25/green, do_fit = False, filtration = RadialFiltration(center=array([25, 25]), n_jobs=-1)\n",
      "Got the result from ./1/64/train/filtrations/2/RadialFiltration_25_25/green/diagrams.npy\n",
      "Applying Scaler to persistence diagrams.\n",
      "Got the result from ./1/64/train/filtrations/2/RadialFiltration_25_25/green/features.npy\n",
      "FiltrationExtractor: processing 1/64/train/filtrations/2/RadialFiltration_25_25/blue, do_fit = False, filtration = RadialFiltration(center=array([25, 25]), n_jobs=-1)\n",
      "Got the result from ./1/64/train/filtrations/2/RadialFiltration_25_25/blue/diagrams.npy\n",
      "Applying Scaler to persistence diagrams.\n",
      "Got the result from ./1/64/train/filtrations/2/RadialFiltration_25_25/blue/features.npy\n",
      "Applying filtration 15/72: RadialFiltration with c = (25, 38), bin. thr. = 0.2\n",
      "RGB images received. Transforming to grayscale.\n"
     ]
    },
    {
     "name": "stderr",
     "output_type": "stream",
     "text": [
      "rgb2gray: 100%|██████████| 9469/9469 [00:01<00:00, 4926.98it/s]\n"
     ]
    },
    {
     "name": "stdout",
     "output_type": "stream",
     "text": [
      "FiltrationExtractor: processing 1/64/train/filtrations/2/RadialFiltration_25_38/gray, do_fit = False, filtration = RadialFiltration(center=array([25, 38]), n_jobs=-1)\n",
      "Got the result from ./1/64/train/filtrations/2/RadialFiltration_25_38/gray/diagrams.npy\n",
      "Applying Scaler to persistence diagrams.\n",
      "Got the result from ./1/64/train/filtrations/2/RadialFiltration_25_38/gray/features.npy\n",
      "FiltrationExtractor: processing 1/64/train/filtrations/2/RadialFiltration_25_38/red, do_fit = False, filtration = RadialFiltration(center=array([25, 38]), n_jobs=-1)\n",
      "Got the result from ./1/64/train/filtrations/2/RadialFiltration_25_38/red/diagrams.npy\n",
      "Applying Scaler to persistence diagrams.\n",
      "Got the result from ./1/64/train/filtrations/2/RadialFiltration_25_38/red/features.npy\n",
      "FiltrationExtractor: processing 1/64/train/filtrations/2/RadialFiltration_25_38/green, do_fit = False, filtration = RadialFiltration(center=array([25, 38]), n_jobs=-1)\n",
      "Got the result from ./1/64/train/filtrations/2/RadialFiltration_25_38/green/diagrams.npy\n",
      "Applying Scaler to persistence diagrams.\n",
      "Got the result from ./1/64/train/filtrations/2/RadialFiltration_25_38/green/features.npy\n",
      "FiltrationExtractor: processing 1/64/train/filtrations/2/RadialFiltration_25_38/blue, do_fit = False, filtration = RadialFiltration(center=array([25, 38]), n_jobs=-1)\n",
      "Got the result from ./1/64/train/filtrations/2/RadialFiltration_25_38/blue/diagrams.npy\n",
      "Applying Scaler to persistence diagrams.\n",
      "Got the result from ./1/64/train/filtrations/2/RadialFiltration_25_38/blue/features.npy\n",
      "Applying filtration 16/72: RadialFiltration with c = (25, 51), bin. thr. = 0.2\n",
      "RGB images received. Transforming to grayscale.\n"
     ]
    },
    {
     "name": "stderr",
     "output_type": "stream",
     "text": [
      "rgb2gray: 100%|██████████| 9469/9469 [00:01<00:00, 5229.94it/s]\n"
     ]
    },
    {
     "name": "stdout",
     "output_type": "stream",
     "text": [
      "FiltrationExtractor: processing 1/64/train/filtrations/2/RadialFiltration_25_51/gray, do_fit = False, filtration = RadialFiltration(center=array([25, 51]), n_jobs=-1)\n",
      "Got the result from ./1/64/train/filtrations/2/RadialFiltration_25_51/gray/diagrams.npy\n",
      "Applying Scaler to persistence diagrams.\n",
      "Got the result from ./1/64/train/filtrations/2/RadialFiltration_25_51/gray/features.npy\n",
      "FiltrationExtractor: processing 1/64/train/filtrations/2/RadialFiltration_25_51/red, do_fit = False, filtration = RadialFiltration(center=array([25, 51]), n_jobs=-1)\n",
      "Got the result from ./1/64/train/filtrations/2/RadialFiltration_25_51/red/diagrams.npy\n",
      "Applying Scaler to persistence diagrams.\n",
      "Got the result from ./1/64/train/filtrations/2/RadialFiltration_25_51/red/features.npy\n",
      "FiltrationExtractor: processing 1/64/train/filtrations/2/RadialFiltration_25_51/green, do_fit = False, filtration = RadialFiltration(center=array([25, 51]), n_jobs=-1)\n",
      "Got the result from ./1/64/train/filtrations/2/RadialFiltration_25_51/green/diagrams.npy\n",
      "Applying Scaler to persistence diagrams.\n",
      "Got the result from ./1/64/train/filtrations/2/RadialFiltration_25_51/green/features.npy\n",
      "FiltrationExtractor: processing 1/64/train/filtrations/2/RadialFiltration_25_51/blue, do_fit = False, filtration = RadialFiltration(center=array([25, 51]), n_jobs=-1)\n",
      "Got the result from ./1/64/train/filtrations/2/RadialFiltration_25_51/blue/diagrams.npy\n",
      "Applying Scaler to persistence diagrams.\n",
      "Got the result from ./1/64/train/filtrations/2/RadialFiltration_25_51/blue/features.npy\n",
      "Applying filtration 17/72: RadialFiltration with c = (38, 12), bin. thr. = 0.2\n",
      "RGB images received. Transforming to grayscale.\n"
     ]
    },
    {
     "name": "stderr",
     "output_type": "stream",
     "text": [
      "rgb2gray: 100%|██████████| 9469/9469 [00:01<00:00, 5094.05it/s]\n"
     ]
    },
    {
     "name": "stdout",
     "output_type": "stream",
     "text": [
      "FiltrationExtractor: processing 1/64/train/filtrations/2/RadialFiltration_38_12/gray, do_fit = False, filtration = RadialFiltration(center=array([38, 12]), n_jobs=-1)\n",
      "Got the result from ./1/64/train/filtrations/2/RadialFiltration_38_12/gray/diagrams.npy\n",
      "Applying Scaler to persistence diagrams.\n",
      "Got the result from ./1/64/train/filtrations/2/RadialFiltration_38_12/gray/features.npy\n",
      "FiltrationExtractor: processing 1/64/train/filtrations/2/RadialFiltration_38_12/red, do_fit = False, filtration = RadialFiltration(center=array([38, 12]), n_jobs=-1)\n",
      "Got the result from ./1/64/train/filtrations/2/RadialFiltration_38_12/red/diagrams.npy\n",
      "Applying Scaler to persistence diagrams.\n",
      "Got the result from ./1/64/train/filtrations/2/RadialFiltration_38_12/red/features.npy\n",
      "FiltrationExtractor: processing 1/64/train/filtrations/2/RadialFiltration_38_12/green, do_fit = False, filtration = RadialFiltration(center=array([38, 12]), n_jobs=-1)\n",
      "Got the result from ./1/64/train/filtrations/2/RadialFiltration_38_12/green/diagrams.npy\n",
      "Applying Scaler to persistence diagrams.\n",
      "Got the result from ./1/64/train/filtrations/2/RadialFiltration_38_12/green/features.npy\n",
      "FiltrationExtractor: processing 1/64/train/filtrations/2/RadialFiltration_38_12/blue, do_fit = False, filtration = RadialFiltration(center=array([38, 12]), n_jobs=-1)\n",
      "Got the result from ./1/64/train/filtrations/2/RadialFiltration_38_12/blue/diagrams.npy\n",
      "Applying Scaler to persistence diagrams.\n",
      "Got the result from ./1/64/train/filtrations/2/RadialFiltration_38_12/blue/features.npy\n",
      "Applying filtration 18/72: RadialFiltration with c = (38, 25), bin. thr. = 0.2\n",
      "RGB images received. Transforming to grayscale.\n"
     ]
    },
    {
     "name": "stderr",
     "output_type": "stream",
     "text": [
      "rgb2gray: 100%|██████████| 9469/9469 [00:01<00:00, 5261.63it/s]\n"
     ]
    },
    {
     "name": "stdout",
     "output_type": "stream",
     "text": [
      "FiltrationExtractor: processing 1/64/train/filtrations/2/RadialFiltration_38_25/gray, do_fit = False, filtration = RadialFiltration(center=array([38, 25]), n_jobs=-1)\n",
      "Got the result from ./1/64/train/filtrations/2/RadialFiltration_38_25/gray/diagrams.npy\n",
      "Applying Scaler to persistence diagrams.\n",
      "Got the result from ./1/64/train/filtrations/2/RadialFiltration_38_25/gray/features.npy\n",
      "FiltrationExtractor: processing 1/64/train/filtrations/2/RadialFiltration_38_25/red, do_fit = False, filtration = RadialFiltration(center=array([38, 25]), n_jobs=-1)\n",
      "Got the result from ./1/64/train/filtrations/2/RadialFiltration_38_25/red/diagrams.npy\n",
      "Applying Scaler to persistence diagrams.\n",
      "Got the result from ./1/64/train/filtrations/2/RadialFiltration_38_25/red/features.npy\n",
      "FiltrationExtractor: processing 1/64/train/filtrations/2/RadialFiltration_38_25/green, do_fit = False, filtration = RadialFiltration(center=array([38, 25]), n_jobs=-1)\n",
      "Got the result from ./1/64/train/filtrations/2/RadialFiltration_38_25/green/diagrams.npy\n",
      "Applying Scaler to persistence diagrams.\n",
      "Got the result from ./1/64/train/filtrations/2/RadialFiltration_38_25/green/features.npy\n",
      "FiltrationExtractor: processing 1/64/train/filtrations/2/RadialFiltration_38_25/blue, do_fit = False, filtration = RadialFiltration(center=array([38, 25]), n_jobs=-1)\n",
      "Got the result from ./1/64/train/filtrations/2/RadialFiltration_38_25/blue/diagrams.npy\n",
      "Applying Scaler to persistence diagrams.\n",
      "Got the result from ./1/64/train/filtrations/2/RadialFiltration_38_25/blue/features.npy\n",
      "Applying filtration 19/72: RadialFiltration with c = (38, 38), bin. thr. = 0.2\n",
      "RGB images received. Transforming to grayscale.\n"
     ]
    },
    {
     "name": "stderr",
     "output_type": "stream",
     "text": [
      "rgb2gray: 100%|██████████| 9469/9469 [00:01<00:00, 5173.75it/s]\n"
     ]
    },
    {
     "name": "stdout",
     "output_type": "stream",
     "text": [
      "FiltrationExtractor: processing 1/64/train/filtrations/2/RadialFiltration_38_38/gray, do_fit = False, filtration = RadialFiltration(center=array([38, 38]), n_jobs=-1)\n",
      "Got the result from ./1/64/train/filtrations/2/RadialFiltration_38_38/gray/diagrams.npy\n",
      "Applying Scaler to persistence diagrams.\n",
      "Got the result from ./1/64/train/filtrations/2/RadialFiltration_38_38/gray/features.npy\n",
      "FiltrationExtractor: processing 1/64/train/filtrations/2/RadialFiltration_38_38/red, do_fit = False, filtration = RadialFiltration(center=array([38, 38]), n_jobs=-1)\n",
      "Got the result from ./1/64/train/filtrations/2/RadialFiltration_38_38/red/diagrams.npy\n",
      "Applying Scaler to persistence diagrams.\n",
      "Got the result from ./1/64/train/filtrations/2/RadialFiltration_38_38/red/features.npy\n",
      "FiltrationExtractor: processing 1/64/train/filtrations/2/RadialFiltration_38_38/green, do_fit = False, filtration = RadialFiltration(center=array([38, 38]), n_jobs=-1)\n",
      "Got the result from ./1/64/train/filtrations/2/RadialFiltration_38_38/green/diagrams.npy\n",
      "Applying Scaler to persistence diagrams.\n",
      "Got the result from ./1/64/train/filtrations/2/RadialFiltration_38_38/green/features.npy\n",
      "FiltrationExtractor: processing 1/64/train/filtrations/2/RadialFiltration_38_38/blue, do_fit = False, filtration = RadialFiltration(center=array([38, 38]), n_jobs=-1)\n",
      "Got the result from ./1/64/train/filtrations/2/RadialFiltration_38_38/blue/diagrams.npy\n",
      "Applying Scaler to persistence diagrams.\n",
      "Got the result from ./1/64/train/filtrations/2/RadialFiltration_38_38/blue/features.npy\n",
      "Applying filtration 20/72: RadialFiltration with c = (38, 51), bin. thr. = 0.2\n",
      "RGB images received. Transforming to grayscale.\n"
     ]
    },
    {
     "name": "stderr",
     "output_type": "stream",
     "text": [
      "rgb2gray: 100%|██████████| 9469/9469 [00:01<00:00, 5386.99it/s]\n"
     ]
    },
    {
     "name": "stdout",
     "output_type": "stream",
     "text": [
      "FiltrationExtractor: processing 1/64/train/filtrations/2/RadialFiltration_38_51/gray, do_fit = False, filtration = RadialFiltration(center=array([38, 51]), n_jobs=-1)\n",
      "Got the result from ./1/64/train/filtrations/2/RadialFiltration_38_51/gray/diagrams.npy\n",
      "Applying Scaler to persistence diagrams.\n",
      "Got the result from ./1/64/train/filtrations/2/RadialFiltration_38_51/gray/features.npy\n",
      "FiltrationExtractor: processing 1/64/train/filtrations/2/RadialFiltration_38_51/red, do_fit = False, filtration = RadialFiltration(center=array([38, 51]), n_jobs=-1)\n",
      "Got the result from ./1/64/train/filtrations/2/RadialFiltration_38_51/red/diagrams.npy\n",
      "Applying Scaler to persistence diagrams.\n",
      "Got the result from ./1/64/train/filtrations/2/RadialFiltration_38_51/red/features.npy\n",
      "FiltrationExtractor: processing 1/64/train/filtrations/2/RadialFiltration_38_51/green, do_fit = False, filtration = RadialFiltration(center=array([38, 51]), n_jobs=-1)\n",
      "Got the result from ./1/64/train/filtrations/2/RadialFiltration_38_51/green/diagrams.npy\n",
      "Applying Scaler to persistence diagrams.\n",
      "Got the result from ./1/64/train/filtrations/2/RadialFiltration_38_51/green/features.npy\n",
      "FiltrationExtractor: processing 1/64/train/filtrations/2/RadialFiltration_38_51/blue, do_fit = False, filtration = RadialFiltration(center=array([38, 51]), n_jobs=-1)\n",
      "Got the result from ./1/64/train/filtrations/2/RadialFiltration_38_51/blue/diagrams.npy\n",
      "Applying Scaler to persistence diagrams.\n",
      "Got the result from ./1/64/train/filtrations/2/RadialFiltration_38_51/blue/features.npy\n",
      "Applying filtration 21/72: RadialFiltration with c = (51, 12), bin. thr. = 0.2\n",
      "RGB images received. Transforming to grayscale.\n"
     ]
    },
    {
     "name": "stderr",
     "output_type": "stream",
     "text": [
      "rgb2gray: 100%|██████████| 9469/9469 [00:01<00:00, 4985.67it/s]\n"
     ]
    },
    {
     "name": "stdout",
     "output_type": "stream",
     "text": [
      "FiltrationExtractor: processing 1/64/train/filtrations/2/RadialFiltration_51_12/gray, do_fit = False, filtration = RadialFiltration(center=array([51, 12]), n_jobs=-1)\n",
      "Got the result from ./1/64/train/filtrations/2/RadialFiltration_51_12/gray/diagrams.npy\n",
      "Applying Scaler to persistence diagrams.\n",
      "Got the result from ./1/64/train/filtrations/2/RadialFiltration_51_12/gray/features.npy\n",
      "FiltrationExtractor: processing 1/64/train/filtrations/2/RadialFiltration_51_12/red, do_fit = False, filtration = RadialFiltration(center=array([51, 12]), n_jobs=-1)\n",
      "Got the result from ./1/64/train/filtrations/2/RadialFiltration_51_12/red/diagrams.npy\n",
      "Applying Scaler to persistence diagrams.\n",
      "Got the result from ./1/64/train/filtrations/2/RadialFiltration_51_12/red/features.npy\n",
      "FiltrationExtractor: processing 1/64/train/filtrations/2/RadialFiltration_51_12/green, do_fit = False, filtration = RadialFiltration(center=array([51, 12]), n_jobs=-1)\n",
      "Got the result from ./1/64/train/filtrations/2/RadialFiltration_51_12/green/diagrams.npy\n",
      "Applying Scaler to persistence diagrams.\n",
      "Got the result from ./1/64/train/filtrations/2/RadialFiltration_51_12/green/features.npy\n",
      "FiltrationExtractor: processing 1/64/train/filtrations/2/RadialFiltration_51_12/blue, do_fit = False, filtration = RadialFiltration(center=array([51, 12]), n_jobs=-1)\n",
      "Got the result from ./1/64/train/filtrations/2/RadialFiltration_51_12/blue/diagrams.npy\n",
      "Applying Scaler to persistence diagrams.\n",
      "Got the result from ./1/64/train/filtrations/2/RadialFiltration_51_12/blue/features.npy\n",
      "Applying filtration 22/72: RadialFiltration with c = (51, 25), bin. thr. = 0.2\n",
      "RGB images received. Transforming to grayscale.\n"
     ]
    },
    {
     "name": "stderr",
     "output_type": "stream",
     "text": [
      "rgb2gray: 100%|██████████| 9469/9469 [00:01<00:00, 5354.11it/s]\n"
     ]
    },
    {
     "name": "stdout",
     "output_type": "stream",
     "text": [
      "FiltrationExtractor: processing 1/64/train/filtrations/2/RadialFiltration_51_25/gray, do_fit = False, filtration = RadialFiltration(center=array([51, 25]), n_jobs=-1)\n",
      "Got the result from ./1/64/train/filtrations/2/RadialFiltration_51_25/gray/diagrams.npy\n",
      "Applying Scaler to persistence diagrams.\n",
      "Got the result from ./1/64/train/filtrations/2/RadialFiltration_51_25/gray/features.npy\n",
      "FiltrationExtractor: processing 1/64/train/filtrations/2/RadialFiltration_51_25/red, do_fit = False, filtration = RadialFiltration(center=array([51, 25]), n_jobs=-1)\n",
      "Got the result from ./1/64/train/filtrations/2/RadialFiltration_51_25/red/diagrams.npy\n",
      "Applying Scaler to persistence diagrams.\n",
      "Got the result from ./1/64/train/filtrations/2/RadialFiltration_51_25/red/features.npy\n",
      "FiltrationExtractor: processing 1/64/train/filtrations/2/RadialFiltration_51_25/green, do_fit = False, filtration = RadialFiltration(center=array([51, 25]), n_jobs=-1)\n",
      "Got the result from ./1/64/train/filtrations/2/RadialFiltration_51_25/green/diagrams.npy\n",
      "Applying Scaler to persistence diagrams.\n",
      "Got the result from ./1/64/train/filtrations/2/RadialFiltration_51_25/green/features.npy\n",
      "FiltrationExtractor: processing 1/64/train/filtrations/2/RadialFiltration_51_25/blue, do_fit = False, filtration = RadialFiltration(center=array([51, 25]), n_jobs=-1)\n",
      "Got the result from ./1/64/train/filtrations/2/RadialFiltration_51_25/blue/diagrams.npy\n",
      "Applying Scaler to persistence diagrams.\n",
      "Got the result from ./1/64/train/filtrations/2/RadialFiltration_51_25/blue/features.npy\n",
      "Applying filtration 23/72: RadialFiltration with c = (51, 38), bin. thr. = 0.2\n",
      "RGB images received. Transforming to grayscale.\n"
     ]
    },
    {
     "name": "stderr",
     "output_type": "stream",
     "text": [
      "rgb2gray: 100%|██████████| 9469/9469 [00:01<00:00, 5361.47it/s]\n"
     ]
    },
    {
     "name": "stdout",
     "output_type": "stream",
     "text": [
      "FiltrationExtractor: processing 1/64/train/filtrations/2/RadialFiltration_51_38/gray, do_fit = False, filtration = RadialFiltration(center=array([51, 38]), n_jobs=-1)\n",
      "Got the result from ./1/64/train/filtrations/2/RadialFiltration_51_38/gray/diagrams.npy\n",
      "Applying Scaler to persistence diagrams.\n",
      "Got the result from ./1/64/train/filtrations/2/RadialFiltration_51_38/gray/features.npy\n",
      "FiltrationExtractor: processing 1/64/train/filtrations/2/RadialFiltration_51_38/red, do_fit = False, filtration = RadialFiltration(center=array([51, 38]), n_jobs=-1)\n",
      "Got the result from ./1/64/train/filtrations/2/RadialFiltration_51_38/red/diagrams.npy\n",
      "Applying Scaler to persistence diagrams.\n",
      "Got the result from ./1/64/train/filtrations/2/RadialFiltration_51_38/red/features.npy\n",
      "FiltrationExtractor: processing 1/64/train/filtrations/2/RadialFiltration_51_38/green, do_fit = False, filtration = RadialFiltration(center=array([51, 38]), n_jobs=-1)\n",
      "Got the result from ./1/64/train/filtrations/2/RadialFiltration_51_38/green/diagrams.npy\n",
      "Applying Scaler to persistence diagrams.\n",
      "Got the result from ./1/64/train/filtrations/2/RadialFiltration_51_38/green/features.npy\n",
      "FiltrationExtractor: processing 1/64/train/filtrations/2/RadialFiltration_51_38/blue, do_fit = False, filtration = RadialFiltration(center=array([51, 38]), n_jobs=-1)\n",
      "Got the result from ./1/64/train/filtrations/2/RadialFiltration_51_38/blue/diagrams.npy\n",
      "Applying Scaler to persistence diagrams.\n",
      "Got the result from ./1/64/train/filtrations/2/RadialFiltration_51_38/blue/features.npy\n",
      "Applying filtration 24/72: RadialFiltration with c = (51, 51), bin. thr. = 0.2\n",
      "RGB images received. Transforming to grayscale.\n"
     ]
    },
    {
     "name": "stderr",
     "output_type": "stream",
     "text": [
      "rgb2gray: 100%|██████████| 9469/9469 [00:01<00:00, 5131.18it/s]\n"
     ]
    },
    {
     "name": "stdout",
     "output_type": "stream",
     "text": [
      "FiltrationExtractor: processing 1/64/train/filtrations/2/RadialFiltration_51_51/gray, do_fit = False, filtration = RadialFiltration(center=array([51, 51]), n_jobs=-1)\n",
      "Got the result from ./1/64/train/filtrations/2/RadialFiltration_51_51/gray/diagrams.npy\n",
      "Applying Scaler to persistence diagrams.\n",
      "Got the result from ./1/64/train/filtrations/2/RadialFiltration_51_51/gray/features.npy\n",
      "FiltrationExtractor: processing 1/64/train/filtrations/2/RadialFiltration_51_51/red, do_fit = False, filtration = RadialFiltration(center=array([51, 51]), n_jobs=-1)\n",
      "Got the result from ./1/64/train/filtrations/2/RadialFiltration_51_51/red/diagrams.npy\n",
      "Applying Scaler to persistence diagrams.\n",
      "Got the result from ./1/64/train/filtrations/2/RadialFiltration_51_51/red/features.npy\n",
      "FiltrationExtractor: processing 1/64/train/filtrations/2/RadialFiltration_51_51/green, do_fit = False, filtration = RadialFiltration(center=array([51, 51]), n_jobs=-1)\n",
      "Got the result from ./1/64/train/filtrations/2/RadialFiltration_51_51/green/diagrams.npy\n",
      "Applying Scaler to persistence diagrams.\n",
      "Got the result from ./1/64/train/filtrations/2/RadialFiltration_51_51/green/features.npy\n",
      "FiltrationExtractor: processing 1/64/train/filtrations/2/RadialFiltration_51_51/blue, do_fit = False, filtration = RadialFiltration(center=array([51, 51]), n_jobs=-1)\n",
      "Got the result from ./1/64/train/filtrations/2/RadialFiltration_51_51/blue/diagrams.npy\n",
      "Applying Scaler to persistence diagrams.\n",
      "Got the result from ./1/64/train/filtrations/2/RadialFiltration_51_51/blue/features.npy\n",
      "Applying filtration 25/72: HeightFiltration with d = (-1, -1), bin. thr. = 0.4\n",
      "RGB images received. Transforming to grayscale.\n"
     ]
    },
    {
     "name": "stderr",
     "output_type": "stream",
     "text": [
      "rgb2gray: 100%|██████████| 9469/9469 [00:01<00:00, 5335.99it/s]\n"
     ]
    },
    {
     "name": "stdout",
     "output_type": "stream",
     "text": [
      "FiltrationExtractor: processing 1/64/train/filtrations/4/HeightFiltrartion_-1_-1/gray, do_fit = False, filtration = HeightFiltration(direction=array([-1, -1]), n_jobs=-1)\n",
      "Got the result from ./1/64/train/filtrations/4/HeightFiltrartion_-1_-1/gray/diagrams.npy\n",
      "Applying Scaler to persistence diagrams.\n",
      "Got the result from ./1/64/train/filtrations/4/HeightFiltrartion_-1_-1/gray/features.npy\n",
      "FiltrationExtractor: processing 1/64/train/filtrations/4/HeightFiltrartion_-1_-1/red, do_fit = False, filtration = HeightFiltration(direction=array([-1, -1]), n_jobs=-1)\n",
      "Got the result from ./1/64/train/filtrations/4/HeightFiltrartion_-1_-1/red/diagrams.npy\n",
      "Applying Scaler to persistence diagrams.\n",
      "Got the result from ./1/64/train/filtrations/4/HeightFiltrartion_-1_-1/red/features.npy\n",
      "FiltrationExtractor: processing 1/64/train/filtrations/4/HeightFiltrartion_-1_-1/green, do_fit = False, filtration = HeightFiltration(direction=array([-1, -1]), n_jobs=-1)\n",
      "Got the result from ./1/64/train/filtrations/4/HeightFiltrartion_-1_-1/green/diagrams.npy\n",
      "Applying Scaler to persistence diagrams.\n",
      "Got the result from ./1/64/train/filtrations/4/HeightFiltrartion_-1_-1/green/features.npy\n",
      "FiltrationExtractor: processing 1/64/train/filtrations/4/HeightFiltrartion_-1_-1/blue, do_fit = False, filtration = HeightFiltration(direction=array([-1, -1]), n_jobs=-1)\n",
      "Got the result from ./1/64/train/filtrations/4/HeightFiltrartion_-1_-1/blue/diagrams.npy\n",
      "Applying Scaler to persistence diagrams.\n",
      "Got the result from ./1/64/train/filtrations/4/HeightFiltrartion_-1_-1/blue/features.npy\n",
      "Applying filtration 26/72: HeightFiltration with d = (-1, 0), bin. thr. = 0.4\n",
      "RGB images received. Transforming to grayscale.\n"
     ]
    },
    {
     "name": "stderr",
     "output_type": "stream",
     "text": [
      "rgb2gray: 100%|██████████| 9469/9469 [00:01<00:00, 5094.88it/s]\n"
     ]
    },
    {
     "name": "stdout",
     "output_type": "stream",
     "text": [
      "FiltrationExtractor: processing 1/64/train/filtrations/4/HeightFiltrartion_-1_0/gray, do_fit = False, filtration = HeightFiltration(direction=array([-1,  0]), n_jobs=-1)\n",
      "Got the result from ./1/64/train/filtrations/4/HeightFiltrartion_-1_0/gray/diagrams.npy\n",
      "Applying Scaler to persistence diagrams.\n",
      "Got the result from ./1/64/train/filtrations/4/HeightFiltrartion_-1_0/gray/features.npy\n",
      "FiltrationExtractor: processing 1/64/train/filtrations/4/HeightFiltrartion_-1_0/red, do_fit = False, filtration = HeightFiltration(direction=array([-1,  0]), n_jobs=-1)\n",
      "Got the result from ./1/64/train/filtrations/4/HeightFiltrartion_-1_0/red/diagrams.npy\n",
      "Applying Scaler to persistence diagrams.\n",
      "Got the result from ./1/64/train/filtrations/4/HeightFiltrartion_-1_0/red/features.npy\n",
      "FiltrationExtractor: processing 1/64/train/filtrations/4/HeightFiltrartion_-1_0/green, do_fit = False, filtration = HeightFiltration(direction=array([-1,  0]), n_jobs=-1)\n",
      "Got the result from ./1/64/train/filtrations/4/HeightFiltrartion_-1_0/green/diagrams.npy\n",
      "Applying Scaler to persistence diagrams.\n",
      "Got the result from ./1/64/train/filtrations/4/HeightFiltrartion_-1_0/green/features.npy\n",
      "FiltrationExtractor: processing 1/64/train/filtrations/4/HeightFiltrartion_-1_0/blue, do_fit = False, filtration = HeightFiltration(direction=array([-1,  0]), n_jobs=-1)\n",
      "Got the result from ./1/64/train/filtrations/4/HeightFiltrartion_-1_0/blue/diagrams.npy\n",
      "Applying Scaler to persistence diagrams.\n",
      "Got the result from ./1/64/train/filtrations/4/HeightFiltrartion_-1_0/blue/features.npy\n",
      "Applying filtration 27/72: HeightFiltration with d = (-1, 1), bin. thr. = 0.4\n",
      "RGB images received. Transforming to grayscale.\n"
     ]
    },
    {
     "name": "stderr",
     "output_type": "stream",
     "text": [
      "rgb2gray: 100%|██████████| 9469/9469 [00:01<00:00, 5329.02it/s]\n"
     ]
    },
    {
     "name": "stdout",
     "output_type": "stream",
     "text": [
      "FiltrationExtractor: processing 1/64/train/filtrations/4/HeightFiltrartion_-1_1/gray, do_fit = False, filtration = HeightFiltration(direction=array([-1,  1]), n_jobs=-1)\n",
      "Got the result from ./1/64/train/filtrations/4/HeightFiltrartion_-1_1/gray/diagrams.npy\n",
      "Applying Scaler to persistence diagrams.\n",
      "Got the result from ./1/64/train/filtrations/4/HeightFiltrartion_-1_1/gray/features.npy\n",
      "FiltrationExtractor: processing 1/64/train/filtrations/4/HeightFiltrartion_-1_1/red, do_fit = False, filtration = HeightFiltration(direction=array([-1,  1]), n_jobs=-1)\n",
      "Got the result from ./1/64/train/filtrations/4/HeightFiltrartion_-1_1/red/diagrams.npy\n",
      "Applying Scaler to persistence diagrams.\n",
      "Got the result from ./1/64/train/filtrations/4/HeightFiltrartion_-1_1/red/features.npy\n",
      "FiltrationExtractor: processing 1/64/train/filtrations/4/HeightFiltrartion_-1_1/green, do_fit = False, filtration = HeightFiltration(direction=array([-1,  1]), n_jobs=-1)\n",
      "Got the result from ./1/64/train/filtrations/4/HeightFiltrartion_-1_1/green/diagrams.npy\n",
      "Applying Scaler to persistence diagrams.\n",
      "Got the result from ./1/64/train/filtrations/4/HeightFiltrartion_-1_1/green/features.npy\n",
      "FiltrationExtractor: processing 1/64/train/filtrations/4/HeightFiltrartion_-1_1/blue, do_fit = False, filtration = HeightFiltration(direction=array([-1,  1]), n_jobs=-1)\n",
      "Got the result from ./1/64/train/filtrations/4/HeightFiltrartion_-1_1/blue/diagrams.npy\n",
      "Applying Scaler to persistence diagrams.\n",
      "Got the result from ./1/64/train/filtrations/4/HeightFiltrartion_-1_1/blue/features.npy\n",
      "Applying filtration 28/72: HeightFiltration with d = (0, -1), bin. thr. = 0.4\n",
      "RGB images received. Transforming to grayscale.\n"
     ]
    },
    {
     "name": "stderr",
     "output_type": "stream",
     "text": [
      "rgb2gray: 100%|██████████| 9469/9469 [00:01<00:00, 5260.09it/s]\n"
     ]
    },
    {
     "name": "stdout",
     "output_type": "stream",
     "text": [
      "FiltrationExtractor: processing 1/64/train/filtrations/4/HeightFiltrartion_0_-1/gray, do_fit = False, filtration = HeightFiltration(direction=array([ 0, -1]), n_jobs=-1)\n",
      "Got the result from ./1/64/train/filtrations/4/HeightFiltrartion_0_-1/gray/diagrams.npy\n",
      "Applying Scaler to persistence diagrams.\n",
      "Got the result from ./1/64/train/filtrations/4/HeightFiltrartion_0_-1/gray/features.npy\n",
      "FiltrationExtractor: processing 1/64/train/filtrations/4/HeightFiltrartion_0_-1/red, do_fit = False, filtration = HeightFiltration(direction=array([ 0, -1]), n_jobs=-1)\n",
      "Got the result from ./1/64/train/filtrations/4/HeightFiltrartion_0_-1/red/diagrams.npy\n",
      "Applying Scaler to persistence diagrams.\n",
      "Got the result from ./1/64/train/filtrations/4/HeightFiltrartion_0_-1/red/features.npy\n",
      "FiltrationExtractor: processing 1/64/train/filtrations/4/HeightFiltrartion_0_-1/green, do_fit = False, filtration = HeightFiltration(direction=array([ 0, -1]), n_jobs=-1)\n",
      "Got the result from ./1/64/train/filtrations/4/HeightFiltrartion_0_-1/green/diagrams.npy\n",
      "Applying Scaler to persistence diagrams.\n",
      "Got the result from ./1/64/train/filtrations/4/HeightFiltrartion_0_-1/green/features.npy\n",
      "FiltrationExtractor: processing 1/64/train/filtrations/4/HeightFiltrartion_0_-1/blue, do_fit = False, filtration = HeightFiltration(direction=array([ 0, -1]), n_jobs=-1)\n",
      "Got the result from ./1/64/train/filtrations/4/HeightFiltrartion_0_-1/blue/diagrams.npy\n",
      "Applying Scaler to persistence diagrams.\n",
      "Got the result from ./1/64/train/filtrations/4/HeightFiltrartion_0_-1/blue/features.npy\n",
      "Applying filtration 29/72: HeightFiltration with d = (0, 1), bin. thr. = 0.4\n",
      "RGB images received. Transforming to grayscale.\n"
     ]
    },
    {
     "name": "stderr",
     "output_type": "stream",
     "text": [
      "rgb2gray: 100%|██████████| 9469/9469 [00:01<00:00, 5300.19it/s]\n"
     ]
    },
    {
     "name": "stdout",
     "output_type": "stream",
     "text": [
      "FiltrationExtractor: processing 1/64/train/filtrations/4/HeightFiltrartion_0_1/gray, do_fit = False, filtration = HeightFiltration(direction=array([0, 1]), n_jobs=-1)\n",
      "Got the result from ./1/64/train/filtrations/4/HeightFiltrartion_0_1/gray/diagrams.npy\n",
      "Applying Scaler to persistence diagrams.\n",
      "Got the result from ./1/64/train/filtrations/4/HeightFiltrartion_0_1/gray/features.npy\n",
      "FiltrationExtractor: processing 1/64/train/filtrations/4/HeightFiltrartion_0_1/red, do_fit = False, filtration = HeightFiltration(direction=array([0, 1]), n_jobs=-1)\n",
      "Got the result from ./1/64/train/filtrations/4/HeightFiltrartion_0_1/red/diagrams.npy\n",
      "Applying Scaler to persistence diagrams.\n",
      "Got the result from ./1/64/train/filtrations/4/HeightFiltrartion_0_1/red/features.npy\n",
      "FiltrationExtractor: processing 1/64/train/filtrations/4/HeightFiltrartion_0_1/green, do_fit = False, filtration = HeightFiltration(direction=array([0, 1]), n_jobs=-1)\n",
      "Got the result from ./1/64/train/filtrations/4/HeightFiltrartion_0_1/green/diagrams.npy\n",
      "Applying Scaler to persistence diagrams.\n",
      "Got the result from ./1/64/train/filtrations/4/HeightFiltrartion_0_1/green/features.npy\n",
      "FiltrationExtractor: processing 1/64/train/filtrations/4/HeightFiltrartion_0_1/blue, do_fit = False, filtration = HeightFiltration(direction=array([0, 1]), n_jobs=-1)\n",
      "Got the result from ./1/64/train/filtrations/4/HeightFiltrartion_0_1/blue/diagrams.npy\n",
      "Applying Scaler to persistence diagrams.\n",
      "Got the result from ./1/64/train/filtrations/4/HeightFiltrartion_0_1/blue/features.npy\n",
      "Applying filtration 30/72: HeightFiltration with d = (1, -1), bin. thr. = 0.4\n",
      "RGB images received. Transforming to grayscale.\n"
     ]
    },
    {
     "name": "stderr",
     "output_type": "stream",
     "text": [
      "rgb2gray: 100%|██████████| 9469/9469 [00:01<00:00, 5397.52it/s]\n"
     ]
    },
    {
     "name": "stdout",
     "output_type": "stream",
     "text": [
      "FiltrationExtractor: processing 1/64/train/filtrations/4/HeightFiltrartion_1_-1/gray, do_fit = False, filtration = HeightFiltration(direction=array([ 1, -1]), n_jobs=-1)\n",
      "Got the result from ./1/64/train/filtrations/4/HeightFiltrartion_1_-1/gray/diagrams.npy\n",
      "Applying Scaler to persistence diagrams.\n",
      "Got the result from ./1/64/train/filtrations/4/HeightFiltrartion_1_-1/gray/features.npy\n",
      "FiltrationExtractor: processing 1/64/train/filtrations/4/HeightFiltrartion_1_-1/red, do_fit = False, filtration = HeightFiltration(direction=array([ 1, -1]), n_jobs=-1)\n",
      "Got the result from ./1/64/train/filtrations/4/HeightFiltrartion_1_-1/red/diagrams.npy\n",
      "Applying Scaler to persistence diagrams.\n",
      "Got the result from ./1/64/train/filtrations/4/HeightFiltrartion_1_-1/red/features.npy\n",
      "FiltrationExtractor: processing 1/64/train/filtrations/4/HeightFiltrartion_1_-1/green, do_fit = False, filtration = HeightFiltration(direction=array([ 1, -1]), n_jobs=-1)\n",
      "Got the result from ./1/64/train/filtrations/4/HeightFiltrartion_1_-1/green/diagrams.npy\n",
      "Applying Scaler to persistence diagrams.\n",
      "Got the result from ./1/64/train/filtrations/4/HeightFiltrartion_1_-1/green/features.npy\n",
      "FiltrationExtractor: processing 1/64/train/filtrations/4/HeightFiltrartion_1_-1/blue, do_fit = False, filtration = HeightFiltration(direction=array([ 1, -1]), n_jobs=-1)\n",
      "Got the result from ./1/64/train/filtrations/4/HeightFiltrartion_1_-1/blue/diagrams.npy\n",
      "Applying Scaler to persistence diagrams.\n",
      "Got the result from ./1/64/train/filtrations/4/HeightFiltrartion_1_-1/blue/features.npy\n",
      "Applying filtration 31/72: HeightFiltration with d = (1, 0), bin. thr. = 0.4\n",
      "RGB images received. Transforming to grayscale.\n"
     ]
    },
    {
     "name": "stderr",
     "output_type": "stream",
     "text": [
      "rgb2gray: 100%|██████████| 9469/9469 [00:01<00:00, 5293.31it/s]\n"
     ]
    },
    {
     "name": "stdout",
     "output_type": "stream",
     "text": [
      "FiltrationExtractor: processing 1/64/train/filtrations/4/HeightFiltrartion_1_0/gray, do_fit = False, filtration = HeightFiltration(direction=array([1, 0]), n_jobs=-1)\n",
      "Got the result from ./1/64/train/filtrations/4/HeightFiltrartion_1_0/gray/diagrams.npy\n",
      "Applying Scaler to persistence diagrams.\n",
      "Got the result from ./1/64/train/filtrations/4/HeightFiltrartion_1_0/gray/features.npy\n",
      "FiltrationExtractor: processing 1/64/train/filtrations/4/HeightFiltrartion_1_0/red, do_fit = False, filtration = HeightFiltration(direction=array([1, 0]), n_jobs=-1)\n",
      "Got the result from ./1/64/train/filtrations/4/HeightFiltrartion_1_0/red/diagrams.npy\n",
      "Applying Scaler to persistence diagrams.\n",
      "Got the result from ./1/64/train/filtrations/4/HeightFiltrartion_1_0/red/features.npy\n",
      "FiltrationExtractor: processing 1/64/train/filtrations/4/HeightFiltrartion_1_0/green, do_fit = False, filtration = HeightFiltration(direction=array([1, 0]), n_jobs=-1)\n",
      "Got the result from ./1/64/train/filtrations/4/HeightFiltrartion_1_0/green/diagrams.npy\n",
      "Applying Scaler to persistence diagrams.\n",
      "Got the result from ./1/64/train/filtrations/4/HeightFiltrartion_1_0/green/features.npy\n",
      "FiltrationExtractor: processing 1/64/train/filtrations/4/HeightFiltrartion_1_0/blue, do_fit = False, filtration = HeightFiltration(direction=array([1, 0]), n_jobs=-1)\n",
      "Got the result from ./1/64/train/filtrations/4/HeightFiltrartion_1_0/blue/diagrams.npy\n",
      "Applying Scaler to persistence diagrams.\n",
      "Got the result from ./1/64/train/filtrations/4/HeightFiltrartion_1_0/blue/features.npy\n",
      "Applying filtration 32/72: HeightFiltration with d = (1, 1), bin. thr. = 0.4\n",
      "RGB images received. Transforming to grayscale.\n"
     ]
    },
    {
     "name": "stderr",
     "output_type": "stream",
     "text": [
      "rgb2gray: 100%|██████████| 9469/9469 [00:01<00:00, 4934.13it/s]\n"
     ]
    },
    {
     "name": "stdout",
     "output_type": "stream",
     "text": [
      "FiltrationExtractor: processing 1/64/train/filtrations/4/HeightFiltrartion_1_1/gray, do_fit = False, filtration = HeightFiltration(direction=array([1, 1]), n_jobs=-1)\n",
      "Got the result from ./1/64/train/filtrations/4/HeightFiltrartion_1_1/gray/diagrams.npy\n",
      "Applying Scaler to persistence diagrams.\n",
      "Got the result from ./1/64/train/filtrations/4/HeightFiltrartion_1_1/gray/features.npy\n",
      "FiltrationExtractor: processing 1/64/train/filtrations/4/HeightFiltrartion_1_1/red, do_fit = False, filtration = HeightFiltration(direction=array([1, 1]), n_jobs=-1)\n",
      "Got the result from ./1/64/train/filtrations/4/HeightFiltrartion_1_1/red/diagrams.npy\n",
      "Applying Scaler to persistence diagrams.\n",
      "Got the result from ./1/64/train/filtrations/4/HeightFiltrartion_1_1/red/features.npy\n",
      "FiltrationExtractor: processing 1/64/train/filtrations/4/HeightFiltrartion_1_1/green, do_fit = False, filtration = HeightFiltration(direction=array([1, 1]), n_jobs=-1)\n",
      "Got the result from ./1/64/train/filtrations/4/HeightFiltrartion_1_1/green/diagrams.npy\n",
      "Applying Scaler to persistence diagrams.\n",
      "Got the result from ./1/64/train/filtrations/4/HeightFiltrartion_1_1/green/features.npy\n",
      "FiltrationExtractor: processing 1/64/train/filtrations/4/HeightFiltrartion_1_1/blue, do_fit = False, filtration = HeightFiltration(direction=array([1, 1]), n_jobs=-1)\n",
      "Got the result from ./1/64/train/filtrations/4/HeightFiltrartion_1_1/blue/diagrams.npy\n",
      "Applying Scaler to persistence diagrams.\n",
      "Got the result from ./1/64/train/filtrations/4/HeightFiltrartion_1_1/blue/features.npy\n",
      "Applying filtration 33/72: RadialFiltration with c = (12, 12), bin. thr. = 0.4\n",
      "RGB images received. Transforming to grayscale.\n"
     ]
    },
    {
     "name": "stderr",
     "output_type": "stream",
     "text": [
      "rgb2gray: 100%|██████████| 9469/9469 [00:01<00:00, 5425.78it/s]\n"
     ]
    },
    {
     "name": "stdout",
     "output_type": "stream",
     "text": [
      "FiltrationExtractor: processing 1/64/train/filtrations/4/RadialFiltration_12_12/gray, do_fit = False, filtration = RadialFiltration(center=array([12, 12]), n_jobs=-1)\n",
      "Got the result from ./1/64/train/filtrations/4/RadialFiltration_12_12/gray/diagrams.npy\n",
      "Applying Scaler to persistence diagrams.\n",
      "Got the result from ./1/64/train/filtrations/4/RadialFiltration_12_12/gray/features.npy\n",
      "FiltrationExtractor: processing 1/64/train/filtrations/4/RadialFiltration_12_12/red, do_fit = False, filtration = RadialFiltration(center=array([12, 12]), n_jobs=-1)\n",
      "Got the result from ./1/64/train/filtrations/4/RadialFiltration_12_12/red/diagrams.npy\n",
      "Applying Scaler to persistence diagrams.\n",
      "Got the result from ./1/64/train/filtrations/4/RadialFiltration_12_12/red/features.npy\n",
      "FiltrationExtractor: processing 1/64/train/filtrations/4/RadialFiltration_12_12/green, do_fit = False, filtration = RadialFiltration(center=array([12, 12]), n_jobs=-1)\n",
      "Got the result from ./1/64/train/filtrations/4/RadialFiltration_12_12/green/diagrams.npy\n",
      "Applying Scaler to persistence diagrams.\n",
      "Got the result from ./1/64/train/filtrations/4/RadialFiltration_12_12/green/features.npy\n",
      "FiltrationExtractor: processing 1/64/train/filtrations/4/RadialFiltration_12_12/blue, do_fit = False, filtration = RadialFiltration(center=array([12, 12]), n_jobs=-1)\n",
      "Got the result from ./1/64/train/filtrations/4/RadialFiltration_12_12/blue/diagrams.npy\n",
      "Applying Scaler to persistence diagrams.\n",
      "Got the result from ./1/64/train/filtrations/4/RadialFiltration_12_12/blue/features.npy\n",
      "Applying filtration 34/72: RadialFiltration with c = (12, 25), bin. thr. = 0.4\n",
      "RGB images received. Transforming to grayscale.\n"
     ]
    },
    {
     "name": "stderr",
     "output_type": "stream",
     "text": [
      "rgb2gray: 100%|██████████| 9469/9469 [00:01<00:00, 5315.80it/s]\n"
     ]
    },
    {
     "name": "stdout",
     "output_type": "stream",
     "text": [
      "FiltrationExtractor: processing 1/64/train/filtrations/4/RadialFiltration_12_25/gray, do_fit = False, filtration = RadialFiltration(center=array([12, 25]), n_jobs=-1)\n",
      "Got the result from ./1/64/train/filtrations/4/RadialFiltration_12_25/gray/diagrams.npy\n",
      "Applying Scaler to persistence diagrams.\n",
      "Got the result from ./1/64/train/filtrations/4/RadialFiltration_12_25/gray/features.npy\n",
      "FiltrationExtractor: processing 1/64/train/filtrations/4/RadialFiltration_12_25/red, do_fit = False, filtration = RadialFiltration(center=array([12, 25]), n_jobs=-1)\n",
      "Got the result from ./1/64/train/filtrations/4/RadialFiltration_12_25/red/diagrams.npy\n",
      "Applying Scaler to persistence diagrams.\n",
      "Got the result from ./1/64/train/filtrations/4/RadialFiltration_12_25/red/features.npy\n",
      "FiltrationExtractor: processing 1/64/train/filtrations/4/RadialFiltration_12_25/green, do_fit = False, filtration = RadialFiltration(center=array([12, 25]), n_jobs=-1)\n",
      "Got the result from ./1/64/train/filtrations/4/RadialFiltration_12_25/green/diagrams.npy\n",
      "Applying Scaler to persistence diagrams.\n",
      "Got the result from ./1/64/train/filtrations/4/RadialFiltration_12_25/green/features.npy\n",
      "FiltrationExtractor: processing 1/64/train/filtrations/4/RadialFiltration_12_25/blue, do_fit = False, filtration = RadialFiltration(center=array([12, 25]), n_jobs=-1)\n",
      "Got the result from ./1/64/train/filtrations/4/RadialFiltration_12_25/blue/diagrams.npy\n",
      "Applying Scaler to persistence diagrams.\n",
      "Got the result from ./1/64/train/filtrations/4/RadialFiltration_12_25/blue/features.npy\n",
      "Applying filtration 35/72: RadialFiltration with c = (12, 38), bin. thr. = 0.4\n",
      "RGB images received. Transforming to grayscale.\n"
     ]
    },
    {
     "name": "stderr",
     "output_type": "stream",
     "text": [
      "rgb2gray: 100%|██████████| 9469/9469 [00:01<00:00, 5236.31it/s]\n"
     ]
    },
    {
     "name": "stdout",
     "output_type": "stream",
     "text": [
      "FiltrationExtractor: processing 1/64/train/filtrations/4/RadialFiltration_12_38/gray, do_fit = False, filtration = RadialFiltration(center=array([12, 38]), n_jobs=-1)\n",
      "Got the result from ./1/64/train/filtrations/4/RadialFiltration_12_38/gray/diagrams.npy\n",
      "Applying Scaler to persistence diagrams.\n",
      "Got the result from ./1/64/train/filtrations/4/RadialFiltration_12_38/gray/features.npy\n",
      "FiltrationExtractor: processing 1/64/train/filtrations/4/RadialFiltration_12_38/red, do_fit = False, filtration = RadialFiltration(center=array([12, 38]), n_jobs=-1)\n",
      "Got the result from ./1/64/train/filtrations/4/RadialFiltration_12_38/red/diagrams.npy\n",
      "Applying Scaler to persistence diagrams.\n",
      "Got the result from ./1/64/train/filtrations/4/RadialFiltration_12_38/red/features.npy\n",
      "FiltrationExtractor: processing 1/64/train/filtrations/4/RadialFiltration_12_38/green, do_fit = False, filtration = RadialFiltration(center=array([12, 38]), n_jobs=-1)\n",
      "Got the result from ./1/64/train/filtrations/4/RadialFiltration_12_38/green/diagrams.npy\n",
      "Applying Scaler to persistence diagrams.\n",
      "Got the result from ./1/64/train/filtrations/4/RadialFiltration_12_38/green/features.npy\n",
      "FiltrationExtractor: processing 1/64/train/filtrations/4/RadialFiltration_12_38/blue, do_fit = False, filtration = RadialFiltration(center=array([12, 38]), n_jobs=-1)\n",
      "Got the result from ./1/64/train/filtrations/4/RadialFiltration_12_38/blue/diagrams.npy\n",
      "Applying Scaler to persistence diagrams.\n",
      "Got the result from ./1/64/train/filtrations/4/RadialFiltration_12_38/blue/features.npy\n",
      "Applying filtration 36/72: RadialFiltration with c = (12, 51), bin. thr. = 0.4\n",
      "RGB images received. Transforming to grayscale.\n"
     ]
    },
    {
     "name": "stderr",
     "output_type": "stream",
     "text": [
      "rgb2gray: 100%|██████████| 9469/9469 [00:01<00:00, 5258.85it/s]\n"
     ]
    },
    {
     "name": "stdout",
     "output_type": "stream",
     "text": [
      "FiltrationExtractor: processing 1/64/train/filtrations/4/RadialFiltration_12_51/gray, do_fit = False, filtration = RadialFiltration(center=array([12, 51]), n_jobs=-1)\n",
      "Got the result from ./1/64/train/filtrations/4/RadialFiltration_12_51/gray/diagrams.npy\n",
      "Applying Scaler to persistence diagrams.\n",
      "Got the result from ./1/64/train/filtrations/4/RadialFiltration_12_51/gray/features.npy\n",
      "FiltrationExtractor: processing 1/64/train/filtrations/4/RadialFiltration_12_51/red, do_fit = False, filtration = RadialFiltration(center=array([12, 51]), n_jobs=-1)\n",
      "Got the result from ./1/64/train/filtrations/4/RadialFiltration_12_51/red/diagrams.npy\n",
      "Applying Scaler to persistence diagrams.\n",
      "Got the result from ./1/64/train/filtrations/4/RadialFiltration_12_51/red/features.npy\n",
      "FiltrationExtractor: processing 1/64/train/filtrations/4/RadialFiltration_12_51/green, do_fit = False, filtration = RadialFiltration(center=array([12, 51]), n_jobs=-1)\n",
      "Got the result from ./1/64/train/filtrations/4/RadialFiltration_12_51/green/diagrams.npy\n",
      "Applying Scaler to persistence diagrams.\n",
      "Got the result from ./1/64/train/filtrations/4/RadialFiltration_12_51/green/features.npy\n",
      "FiltrationExtractor: processing 1/64/train/filtrations/4/RadialFiltration_12_51/blue, do_fit = False, filtration = RadialFiltration(center=array([12, 51]), n_jobs=-1)\n",
      "Got the result from ./1/64/train/filtrations/4/RadialFiltration_12_51/blue/diagrams.npy\n",
      "Applying Scaler to persistence diagrams.\n",
      "Got the result from ./1/64/train/filtrations/4/RadialFiltration_12_51/blue/features.npy\n",
      "Applying filtration 37/72: RadialFiltration with c = (25, 12), bin. thr. = 0.4\n",
      "RGB images received. Transforming to grayscale.\n"
     ]
    },
    {
     "name": "stderr",
     "output_type": "stream",
     "text": [
      "rgb2gray: 100%|██████████| 9469/9469 [00:01<00:00, 5014.97it/s]\n"
     ]
    },
    {
     "name": "stdout",
     "output_type": "stream",
     "text": [
      "FiltrationExtractor: processing 1/64/train/filtrations/4/RadialFiltration_25_12/gray, do_fit = False, filtration = RadialFiltration(center=array([25, 12]), n_jobs=-1)\n",
      "Got the result from ./1/64/train/filtrations/4/RadialFiltration_25_12/gray/diagrams.npy\n",
      "Applying Scaler to persistence diagrams.\n",
      "Got the result from ./1/64/train/filtrations/4/RadialFiltration_25_12/gray/features.npy\n",
      "FiltrationExtractor: processing 1/64/train/filtrations/4/RadialFiltration_25_12/red, do_fit = False, filtration = RadialFiltration(center=array([25, 12]), n_jobs=-1)\n",
      "Got the result from ./1/64/train/filtrations/4/RadialFiltration_25_12/red/diagrams.npy\n",
      "Applying Scaler to persistence diagrams.\n",
      "Got the result from ./1/64/train/filtrations/4/RadialFiltration_25_12/red/features.npy\n",
      "FiltrationExtractor: processing 1/64/train/filtrations/4/RadialFiltration_25_12/green, do_fit = False, filtration = RadialFiltration(center=array([25, 12]), n_jobs=-1)\n",
      "Got the result from ./1/64/train/filtrations/4/RadialFiltration_25_12/green/diagrams.npy\n",
      "Applying Scaler to persistence diagrams.\n",
      "Got the result from ./1/64/train/filtrations/4/RadialFiltration_25_12/green/features.npy\n",
      "FiltrationExtractor: processing 1/64/train/filtrations/4/RadialFiltration_25_12/blue, do_fit = False, filtration = RadialFiltration(center=array([25, 12]), n_jobs=-1)\n",
      "Got the result from ./1/64/train/filtrations/4/RadialFiltration_25_12/blue/diagrams.npy\n",
      "Applying Scaler to persistence diagrams.\n",
      "Got the result from ./1/64/train/filtrations/4/RadialFiltration_25_12/blue/features.npy\n",
      "Applying filtration 38/72: RadialFiltration with c = (25, 25), bin. thr. = 0.4\n",
      "RGB images received. Transforming to grayscale.\n"
     ]
    },
    {
     "name": "stderr",
     "output_type": "stream",
     "text": [
      "rgb2gray: 100%|██████████| 9469/9469 [00:01<00:00, 5223.38it/s]\n"
     ]
    },
    {
     "name": "stdout",
     "output_type": "stream",
     "text": [
      "FiltrationExtractor: processing 1/64/train/filtrations/4/RadialFiltration_25_25/gray, do_fit = False, filtration = RadialFiltration(center=array([25, 25]), n_jobs=-1)\n",
      "Got the result from ./1/64/train/filtrations/4/RadialFiltration_25_25/gray/diagrams.npy\n",
      "Applying Scaler to persistence diagrams.\n",
      "Got the result from ./1/64/train/filtrations/4/RadialFiltration_25_25/gray/features.npy\n",
      "FiltrationExtractor: processing 1/64/train/filtrations/4/RadialFiltration_25_25/red, do_fit = False, filtration = RadialFiltration(center=array([25, 25]), n_jobs=-1)\n",
      "Got the result from ./1/64/train/filtrations/4/RadialFiltration_25_25/red/diagrams.npy\n",
      "Applying Scaler to persistence diagrams.\n",
      "Got the result from ./1/64/train/filtrations/4/RadialFiltration_25_25/red/features.npy\n",
      "FiltrationExtractor: processing 1/64/train/filtrations/4/RadialFiltration_25_25/green, do_fit = False, filtration = RadialFiltration(center=array([25, 25]), n_jobs=-1)\n",
      "Got the result from ./1/64/train/filtrations/4/RadialFiltration_25_25/green/diagrams.npy\n",
      "Applying Scaler to persistence diagrams.\n",
      "Got the result from ./1/64/train/filtrations/4/RadialFiltration_25_25/green/features.npy\n",
      "FiltrationExtractor: processing 1/64/train/filtrations/4/RadialFiltration_25_25/blue, do_fit = False, filtration = RadialFiltration(center=array([25, 25]), n_jobs=-1)\n",
      "Got the result from ./1/64/train/filtrations/4/RadialFiltration_25_25/blue/diagrams.npy\n",
      "Applying Scaler to persistence diagrams.\n",
      "Got the result from ./1/64/train/filtrations/4/RadialFiltration_25_25/blue/features.npy\n",
      "Applying filtration 39/72: RadialFiltration with c = (25, 38), bin. thr. = 0.4\n",
      "RGB images received. Transforming to grayscale.\n"
     ]
    },
    {
     "name": "stderr",
     "output_type": "stream",
     "text": [
      "rgb2gray: 100%|██████████| 9469/9469 [00:01<00:00, 5435.47it/s]\n"
     ]
    },
    {
     "name": "stdout",
     "output_type": "stream",
     "text": [
      "FiltrationExtractor: processing 1/64/train/filtrations/4/RadialFiltration_25_38/gray, do_fit = False, filtration = RadialFiltration(center=array([25, 38]), n_jobs=-1)\n",
      "Got the result from ./1/64/train/filtrations/4/RadialFiltration_25_38/gray/diagrams.npy\n",
      "Applying Scaler to persistence diagrams.\n",
      "Got the result from ./1/64/train/filtrations/4/RadialFiltration_25_38/gray/features.npy\n",
      "FiltrationExtractor: processing 1/64/train/filtrations/4/RadialFiltration_25_38/red, do_fit = False, filtration = RadialFiltration(center=array([25, 38]), n_jobs=-1)\n",
      "Got the result from ./1/64/train/filtrations/4/RadialFiltration_25_38/red/diagrams.npy\n",
      "Applying Scaler to persistence diagrams.\n",
      "Got the result from ./1/64/train/filtrations/4/RadialFiltration_25_38/red/features.npy\n",
      "FiltrationExtractor: processing 1/64/train/filtrations/4/RadialFiltration_25_38/green, do_fit = False, filtration = RadialFiltration(center=array([25, 38]), n_jobs=-1)\n",
      "Got the result from ./1/64/train/filtrations/4/RadialFiltration_25_38/green/diagrams.npy\n",
      "Applying Scaler to persistence diagrams.\n",
      "Got the result from ./1/64/train/filtrations/4/RadialFiltration_25_38/green/features.npy\n",
      "FiltrationExtractor: processing 1/64/train/filtrations/4/RadialFiltration_25_38/blue, do_fit = False, filtration = RadialFiltration(center=array([25, 38]), n_jobs=-1)\n",
      "Got the result from ./1/64/train/filtrations/4/RadialFiltration_25_38/blue/diagrams.npy\n",
      "Applying Scaler to persistence diagrams.\n",
      "Got the result from ./1/64/train/filtrations/4/RadialFiltration_25_38/blue/features.npy\n",
      "Applying filtration 40/72: RadialFiltration with c = (25, 51), bin. thr. = 0.4\n",
      "RGB images received. Transforming to grayscale.\n"
     ]
    },
    {
     "name": "stderr",
     "output_type": "stream",
     "text": [
      "rgb2gray: 100%|██████████| 9469/9469 [00:01<00:00, 5184.79it/s]\n"
     ]
    },
    {
     "name": "stdout",
     "output_type": "stream",
     "text": [
      "FiltrationExtractor: processing 1/64/train/filtrations/4/RadialFiltration_25_51/gray, do_fit = False, filtration = RadialFiltration(center=array([25, 51]), n_jobs=-1)\n",
      "Got the result from ./1/64/train/filtrations/4/RadialFiltration_25_51/gray/diagrams.npy\n",
      "Applying Scaler to persistence diagrams.\n",
      "Got the result from ./1/64/train/filtrations/4/RadialFiltration_25_51/gray/features.npy\n",
      "FiltrationExtractor: processing 1/64/train/filtrations/4/RadialFiltration_25_51/red, do_fit = False, filtration = RadialFiltration(center=array([25, 51]), n_jobs=-1)\n",
      "Got the result from ./1/64/train/filtrations/4/RadialFiltration_25_51/red/diagrams.npy\n",
      "Applying Scaler to persistence diagrams.\n",
      "Got the result from ./1/64/train/filtrations/4/RadialFiltration_25_51/red/features.npy\n",
      "FiltrationExtractor: processing 1/64/train/filtrations/4/RadialFiltration_25_51/green, do_fit = False, filtration = RadialFiltration(center=array([25, 51]), n_jobs=-1)\n",
      "Got the result from ./1/64/train/filtrations/4/RadialFiltration_25_51/green/diagrams.npy\n",
      "Applying Scaler to persistence diagrams.\n",
      "Got the result from ./1/64/train/filtrations/4/RadialFiltration_25_51/green/features.npy\n",
      "FiltrationExtractor: processing 1/64/train/filtrations/4/RadialFiltration_25_51/blue, do_fit = False, filtration = RadialFiltration(center=array([25, 51]), n_jobs=-1)\n",
      "Got the result from ./1/64/train/filtrations/4/RadialFiltration_25_51/blue/diagrams.npy\n",
      "Applying Scaler to persistence diagrams.\n",
      "Got the result from ./1/64/train/filtrations/4/RadialFiltration_25_51/blue/features.npy\n",
      "Applying filtration 41/72: RadialFiltration with c = (38, 12), bin. thr. = 0.4\n",
      "RGB images received. Transforming to grayscale.\n"
     ]
    },
    {
     "name": "stderr",
     "output_type": "stream",
     "text": [
      "rgb2gray: 100%|██████████| 9469/9469 [00:01<00:00, 5037.65it/s]\n"
     ]
    },
    {
     "name": "stdout",
     "output_type": "stream",
     "text": [
      "FiltrationExtractor: processing 1/64/train/filtrations/4/RadialFiltration_38_12/gray, do_fit = False, filtration = RadialFiltration(center=array([38, 12]), n_jobs=-1)\n",
      "Got the result from ./1/64/train/filtrations/4/RadialFiltration_38_12/gray/diagrams.npy\n",
      "Applying Scaler to persistence diagrams.\n",
      "Got the result from ./1/64/train/filtrations/4/RadialFiltration_38_12/gray/features.npy\n",
      "FiltrationExtractor: processing 1/64/train/filtrations/4/RadialFiltration_38_12/red, do_fit = False, filtration = RadialFiltration(center=array([38, 12]), n_jobs=-1)\n",
      "Got the result from ./1/64/train/filtrations/4/RadialFiltration_38_12/red/diagrams.npy\n",
      "Applying Scaler to persistence diagrams.\n",
      "Got the result from ./1/64/train/filtrations/4/RadialFiltration_38_12/red/features.npy\n",
      "FiltrationExtractor: processing 1/64/train/filtrations/4/RadialFiltration_38_12/green, do_fit = False, filtration = RadialFiltration(center=array([38, 12]), n_jobs=-1)\n",
      "Got the result from ./1/64/train/filtrations/4/RadialFiltration_38_12/green/diagrams.npy\n",
      "Applying Scaler to persistence diagrams.\n",
      "Got the result from ./1/64/train/filtrations/4/RadialFiltration_38_12/green/features.npy\n",
      "FiltrationExtractor: processing 1/64/train/filtrations/4/RadialFiltration_38_12/blue, do_fit = False, filtration = RadialFiltration(center=array([38, 12]), n_jobs=-1)\n",
      "Got the result from ./1/64/train/filtrations/4/RadialFiltration_38_12/blue/diagrams.npy\n",
      "Applying Scaler to persistence diagrams.\n",
      "Got the result from ./1/64/train/filtrations/4/RadialFiltration_38_12/blue/features.npy\n",
      "Applying filtration 42/72: RadialFiltration with c = (38, 25), bin. thr. = 0.4\n",
      "RGB images received. Transforming to grayscale.\n"
     ]
    },
    {
     "name": "stderr",
     "output_type": "stream",
     "text": [
      "rgb2gray: 100%|██████████| 9469/9469 [00:01<00:00, 5053.93it/s]\n"
     ]
    },
    {
     "name": "stdout",
     "output_type": "stream",
     "text": [
      "FiltrationExtractor: processing 1/64/train/filtrations/4/RadialFiltration_38_25/gray, do_fit = False, filtration = RadialFiltration(center=array([38, 25]), n_jobs=-1)\n",
      "Got the result from ./1/64/train/filtrations/4/RadialFiltration_38_25/gray/diagrams.npy\n",
      "Applying Scaler to persistence diagrams.\n",
      "Got the result from ./1/64/train/filtrations/4/RadialFiltration_38_25/gray/features.npy\n",
      "FiltrationExtractor: processing 1/64/train/filtrations/4/RadialFiltration_38_25/red, do_fit = False, filtration = RadialFiltration(center=array([38, 25]), n_jobs=-1)\n",
      "Got the result from ./1/64/train/filtrations/4/RadialFiltration_38_25/red/diagrams.npy\n",
      "Applying Scaler to persistence diagrams.\n",
      "Got the result from ./1/64/train/filtrations/4/RadialFiltration_38_25/red/features.npy\n",
      "FiltrationExtractor: processing 1/64/train/filtrations/4/RadialFiltration_38_25/green, do_fit = False, filtration = RadialFiltration(center=array([38, 25]), n_jobs=-1)\n",
      "Got the result from ./1/64/train/filtrations/4/RadialFiltration_38_25/green/diagrams.npy\n",
      "Applying Scaler to persistence diagrams.\n",
      "Got the result from ./1/64/train/filtrations/4/RadialFiltration_38_25/green/features.npy\n",
      "FiltrationExtractor: processing 1/64/train/filtrations/4/RadialFiltration_38_25/blue, do_fit = False, filtration = RadialFiltration(center=array([38, 25]), n_jobs=-1)\n",
      "Got the result from ./1/64/train/filtrations/4/RadialFiltration_38_25/blue/diagrams.npy\n",
      "Applying Scaler to persistence diagrams.\n",
      "Got the result from ./1/64/train/filtrations/4/RadialFiltration_38_25/blue/features.npy\n",
      "Applying filtration 43/72: RadialFiltration with c = (38, 38), bin. thr. = 0.4\n",
      "RGB images received. Transforming to grayscale.\n"
     ]
    },
    {
     "name": "stderr",
     "output_type": "stream",
     "text": [
      "rgb2gray: 100%|██████████| 9469/9469 [00:01<00:00, 5186.41it/s]\n"
     ]
    },
    {
     "name": "stdout",
     "output_type": "stream",
     "text": [
      "FiltrationExtractor: processing 1/64/train/filtrations/4/RadialFiltration_38_38/gray, do_fit = False, filtration = RadialFiltration(center=array([38, 38]), n_jobs=-1)\n",
      "Got the result from ./1/64/train/filtrations/4/RadialFiltration_38_38/gray/diagrams.npy\n",
      "Applying Scaler to persistence diagrams.\n",
      "Got the result from ./1/64/train/filtrations/4/RadialFiltration_38_38/gray/features.npy\n",
      "FiltrationExtractor: processing 1/64/train/filtrations/4/RadialFiltration_38_38/red, do_fit = False, filtration = RadialFiltration(center=array([38, 38]), n_jobs=-1)\n",
      "Got the result from ./1/64/train/filtrations/4/RadialFiltration_38_38/red/diagrams.npy\n",
      "Applying Scaler to persistence diagrams.\n",
      "Got the result from ./1/64/train/filtrations/4/RadialFiltration_38_38/red/features.npy\n",
      "FiltrationExtractor: processing 1/64/train/filtrations/4/RadialFiltration_38_38/green, do_fit = False, filtration = RadialFiltration(center=array([38, 38]), n_jobs=-1)\n",
      "Got the result from ./1/64/train/filtrations/4/RadialFiltration_38_38/green/diagrams.npy\n",
      "Applying Scaler to persistence diagrams.\n",
      "Got the result from ./1/64/train/filtrations/4/RadialFiltration_38_38/green/features.npy\n",
      "FiltrationExtractor: processing 1/64/train/filtrations/4/RadialFiltration_38_38/blue, do_fit = False, filtration = RadialFiltration(center=array([38, 38]), n_jobs=-1)\n",
      "Got the result from ./1/64/train/filtrations/4/RadialFiltration_38_38/blue/diagrams.npy\n",
      "Applying Scaler to persistence diagrams.\n",
      "Got the result from ./1/64/train/filtrations/4/RadialFiltration_38_38/blue/features.npy\n",
      "Applying filtration 44/72: RadialFiltration with c = (38, 51), bin. thr. = 0.4\n",
      "RGB images received. Transforming to grayscale.\n"
     ]
    },
    {
     "name": "stderr",
     "output_type": "stream",
     "text": [
      "rgb2gray: 100%|██████████| 9469/9469 [00:01<00:00, 5315.15it/s]\n"
     ]
    },
    {
     "name": "stdout",
     "output_type": "stream",
     "text": [
      "FiltrationExtractor: processing 1/64/train/filtrations/4/RadialFiltration_38_51/gray, do_fit = False, filtration = RadialFiltration(center=array([38, 51]), n_jobs=-1)\n",
      "Got the result from ./1/64/train/filtrations/4/RadialFiltration_38_51/gray/diagrams.npy\n",
      "Applying Scaler to persistence diagrams.\n",
      "Got the result from ./1/64/train/filtrations/4/RadialFiltration_38_51/gray/features.npy\n",
      "FiltrationExtractor: processing 1/64/train/filtrations/4/RadialFiltration_38_51/red, do_fit = False, filtration = RadialFiltration(center=array([38, 51]), n_jobs=-1)\n",
      "Got the result from ./1/64/train/filtrations/4/RadialFiltration_38_51/red/diagrams.npy\n",
      "Applying Scaler to persistence diagrams.\n",
      "Got the result from ./1/64/train/filtrations/4/RadialFiltration_38_51/red/features.npy\n",
      "FiltrationExtractor: processing 1/64/train/filtrations/4/RadialFiltration_38_51/green, do_fit = False, filtration = RadialFiltration(center=array([38, 51]), n_jobs=-1)\n",
      "Got the result from ./1/64/train/filtrations/4/RadialFiltration_38_51/green/diagrams.npy\n",
      "Applying Scaler to persistence diagrams.\n",
      "Got the result from ./1/64/train/filtrations/4/RadialFiltration_38_51/green/features.npy\n",
      "FiltrationExtractor: processing 1/64/train/filtrations/4/RadialFiltration_38_51/blue, do_fit = False, filtration = RadialFiltration(center=array([38, 51]), n_jobs=-1)\n",
      "Got the result from ./1/64/train/filtrations/4/RadialFiltration_38_51/blue/diagrams.npy\n",
      "Applying Scaler to persistence diagrams.\n",
      "Got the result from ./1/64/train/filtrations/4/RadialFiltration_38_51/blue/features.npy\n",
      "Applying filtration 45/72: RadialFiltration with c = (51, 12), bin. thr. = 0.4\n",
      "RGB images received. Transforming to grayscale.\n"
     ]
    },
    {
     "name": "stderr",
     "output_type": "stream",
     "text": [
      "rgb2gray: 100%|██████████| 9469/9469 [00:01<00:00, 5177.60it/s]\n"
     ]
    },
    {
     "name": "stdout",
     "output_type": "stream",
     "text": [
      "FiltrationExtractor: processing 1/64/train/filtrations/4/RadialFiltration_51_12/gray, do_fit = False, filtration = RadialFiltration(center=array([51, 12]), n_jobs=-1)\n",
      "Got the result from ./1/64/train/filtrations/4/RadialFiltration_51_12/gray/diagrams.npy\n",
      "Applying Scaler to persistence diagrams.\n",
      "Got the result from ./1/64/train/filtrations/4/RadialFiltration_51_12/gray/features.npy\n",
      "FiltrationExtractor: processing 1/64/train/filtrations/4/RadialFiltration_51_12/red, do_fit = False, filtration = RadialFiltration(center=array([51, 12]), n_jobs=-1)\n",
      "Got the result from ./1/64/train/filtrations/4/RadialFiltration_51_12/red/diagrams.npy\n",
      "Applying Scaler to persistence diagrams.\n",
      "Got the result from ./1/64/train/filtrations/4/RadialFiltration_51_12/red/features.npy\n",
      "FiltrationExtractor: processing 1/64/train/filtrations/4/RadialFiltration_51_12/green, do_fit = False, filtration = RadialFiltration(center=array([51, 12]), n_jobs=-1)\n",
      "Got the result from ./1/64/train/filtrations/4/RadialFiltration_51_12/green/diagrams.npy\n",
      "Applying Scaler to persistence diagrams.\n",
      "Got the result from ./1/64/train/filtrations/4/RadialFiltration_51_12/green/features.npy\n",
      "FiltrationExtractor: processing 1/64/train/filtrations/4/RadialFiltration_51_12/blue, do_fit = False, filtration = RadialFiltration(center=array([51, 12]), n_jobs=-1)\n",
      "Got the result from ./1/64/train/filtrations/4/RadialFiltration_51_12/blue/diagrams.npy\n",
      "Applying Scaler to persistence diagrams.\n",
      "Got the result from ./1/64/train/filtrations/4/RadialFiltration_51_12/blue/features.npy\n",
      "Applying filtration 46/72: RadialFiltration with c = (51, 25), bin. thr. = 0.4\n",
      "RGB images received. Transforming to grayscale.\n"
     ]
    },
    {
     "name": "stderr",
     "output_type": "stream",
     "text": [
      "rgb2gray: 100%|██████████| 9469/9469 [00:01<00:00, 5142.81it/s]\n"
     ]
    },
    {
     "name": "stdout",
     "output_type": "stream",
     "text": [
      "FiltrationExtractor: processing 1/64/train/filtrations/4/RadialFiltration_51_25/gray, do_fit = False, filtration = RadialFiltration(center=array([51, 25]), n_jobs=-1)\n",
      "Got the result from ./1/64/train/filtrations/4/RadialFiltration_51_25/gray/diagrams.npy\n",
      "Applying Scaler to persistence diagrams.\n",
      "Got the result from ./1/64/train/filtrations/4/RadialFiltration_51_25/gray/features.npy\n",
      "FiltrationExtractor: processing 1/64/train/filtrations/4/RadialFiltration_51_25/red, do_fit = False, filtration = RadialFiltration(center=array([51, 25]), n_jobs=-1)\n",
      "Got the result from ./1/64/train/filtrations/4/RadialFiltration_51_25/red/diagrams.npy\n",
      "Applying Scaler to persistence diagrams.\n",
      "Got the result from ./1/64/train/filtrations/4/RadialFiltration_51_25/red/features.npy\n",
      "FiltrationExtractor: processing 1/64/train/filtrations/4/RadialFiltration_51_25/green, do_fit = False, filtration = RadialFiltration(center=array([51, 25]), n_jobs=-1)\n",
      "Got the result from ./1/64/train/filtrations/4/RadialFiltration_51_25/green/diagrams.npy\n",
      "Applying Scaler to persistence diagrams.\n",
      "Got the result from ./1/64/train/filtrations/4/RadialFiltration_51_25/green/features.npy\n",
      "FiltrationExtractor: processing 1/64/train/filtrations/4/RadialFiltration_51_25/blue, do_fit = False, filtration = RadialFiltration(center=array([51, 25]), n_jobs=-1)\n",
      "Got the result from ./1/64/train/filtrations/4/RadialFiltration_51_25/blue/diagrams.npy\n",
      "Applying Scaler to persistence diagrams.\n",
      "Got the result from ./1/64/train/filtrations/4/RadialFiltration_51_25/blue/features.npy\n",
      "Applying filtration 47/72: RadialFiltration with c = (51, 38), bin. thr. = 0.4\n",
      "RGB images received. Transforming to grayscale.\n"
     ]
    },
    {
     "name": "stderr",
     "output_type": "stream",
     "text": [
      "rgb2gray: 100%|██████████| 9469/9469 [00:01<00:00, 5426.08it/s]\n"
     ]
    },
    {
     "name": "stdout",
     "output_type": "stream",
     "text": [
      "FiltrationExtractor: processing 1/64/train/filtrations/4/RadialFiltration_51_38/gray, do_fit = False, filtration = RadialFiltration(center=array([51, 38]), n_jobs=-1)\n",
      "Got the result from ./1/64/train/filtrations/4/RadialFiltration_51_38/gray/diagrams.npy\n",
      "Applying Scaler to persistence diagrams.\n",
      "Got the result from ./1/64/train/filtrations/4/RadialFiltration_51_38/gray/features.npy\n",
      "FiltrationExtractor: processing 1/64/train/filtrations/4/RadialFiltration_51_38/red, do_fit = False, filtration = RadialFiltration(center=array([51, 38]), n_jobs=-1)\n",
      "Got the result from ./1/64/train/filtrations/4/RadialFiltration_51_38/red/diagrams.npy\n",
      "Applying Scaler to persistence diagrams.\n",
      "Got the result from ./1/64/train/filtrations/4/RadialFiltration_51_38/red/features.npy\n",
      "FiltrationExtractor: processing 1/64/train/filtrations/4/RadialFiltration_51_38/green, do_fit = False, filtration = RadialFiltration(center=array([51, 38]), n_jobs=-1)\n",
      "Got the result from ./1/64/train/filtrations/4/RadialFiltration_51_38/green/diagrams.npy\n",
      "Applying Scaler to persistence diagrams.\n",
      "Got the result from ./1/64/train/filtrations/4/RadialFiltration_51_38/green/features.npy\n",
      "FiltrationExtractor: processing 1/64/train/filtrations/4/RadialFiltration_51_38/blue, do_fit = False, filtration = RadialFiltration(center=array([51, 38]), n_jobs=-1)\n",
      "Got the result from ./1/64/train/filtrations/4/RadialFiltration_51_38/blue/diagrams.npy\n",
      "Applying Scaler to persistence diagrams.\n",
      "Got the result from ./1/64/train/filtrations/4/RadialFiltration_51_38/blue/features.npy\n",
      "Applying filtration 48/72: RadialFiltration with c = (51, 51), bin. thr. = 0.4\n",
      "RGB images received. Transforming to grayscale.\n"
     ]
    },
    {
     "name": "stderr",
     "output_type": "stream",
     "text": [
      "rgb2gray: 100%|██████████| 9469/9469 [00:01<00:00, 4860.52it/s]\n"
     ]
    },
    {
     "name": "stdout",
     "output_type": "stream",
     "text": [
      "FiltrationExtractor: processing 1/64/train/filtrations/4/RadialFiltration_51_51/gray, do_fit = False, filtration = RadialFiltration(center=array([51, 51]), n_jobs=-1)\n",
      "Got the result from ./1/64/train/filtrations/4/RadialFiltration_51_51/gray/diagrams.npy\n",
      "Applying Scaler to persistence diagrams.\n",
      "Got the result from ./1/64/train/filtrations/4/RadialFiltration_51_51/gray/features.npy\n",
      "FiltrationExtractor: processing 1/64/train/filtrations/4/RadialFiltration_51_51/red, do_fit = False, filtration = RadialFiltration(center=array([51, 51]), n_jobs=-1)\n",
      "Got the result from ./1/64/train/filtrations/4/RadialFiltration_51_51/red/diagrams.npy\n",
      "Applying Scaler to persistence diagrams.\n",
      "Got the result from ./1/64/train/filtrations/4/RadialFiltration_51_51/red/features.npy\n",
      "FiltrationExtractor: processing 1/64/train/filtrations/4/RadialFiltration_51_51/green, do_fit = False, filtration = RadialFiltration(center=array([51, 51]), n_jobs=-1)\n",
      "Got the result from ./1/64/train/filtrations/4/RadialFiltration_51_51/green/diagrams.npy\n",
      "Applying Scaler to persistence diagrams.\n",
      "Got the result from ./1/64/train/filtrations/4/RadialFiltration_51_51/green/features.npy\n",
      "FiltrationExtractor: processing 1/64/train/filtrations/4/RadialFiltration_51_51/blue, do_fit = False, filtration = RadialFiltration(center=array([51, 51]), n_jobs=-1)\n",
      "Got the result from ./1/64/train/filtrations/4/RadialFiltration_51_51/blue/diagrams.npy\n",
      "Applying Scaler to persistence diagrams.\n",
      "Got the result from ./1/64/train/filtrations/4/RadialFiltration_51_51/blue/features.npy\n",
      "Applying filtration 49/72: HeightFiltration with d = (-1, -1), bin. thr. = 0.6\n",
      "RGB images received. Transforming to grayscale.\n"
     ]
    },
    {
     "name": "stderr",
     "output_type": "stream",
     "text": [
      "rgb2gray: 100%|██████████| 9469/9469 [00:01<00:00, 5341.73it/s]\n"
     ]
    },
    {
     "name": "stdout",
     "output_type": "stream",
     "text": [
      "FiltrationExtractor: processing 1/64/train/filtrations/6/HeightFiltrartion_-1_-1/gray, do_fit = False, filtration = HeightFiltration(direction=array([-1, -1]), n_jobs=-1)\n",
      "Got the result from ./1/64/train/filtrations/6/HeightFiltrartion_-1_-1/gray/diagrams.npy\n",
      "Applying Scaler to persistence diagrams.\n",
      "Got the result from ./1/64/train/filtrations/6/HeightFiltrartion_-1_-1/gray/features.npy\n",
      "FiltrationExtractor: processing 1/64/train/filtrations/6/HeightFiltrartion_-1_-1/red, do_fit = False, filtration = HeightFiltration(direction=array([-1, -1]), n_jobs=-1)\n",
      "Got the result from ./1/64/train/filtrations/6/HeightFiltrartion_-1_-1/red/diagrams.npy\n",
      "Applying Scaler to persistence diagrams.\n",
      "Got the result from ./1/64/train/filtrations/6/HeightFiltrartion_-1_-1/red/features.npy\n",
      "FiltrationExtractor: processing 1/64/train/filtrations/6/HeightFiltrartion_-1_-1/green, do_fit = False, filtration = HeightFiltration(direction=array([-1, -1]), n_jobs=-1)\n",
      "Got the result from ./1/64/train/filtrations/6/HeightFiltrartion_-1_-1/green/diagrams.npy\n",
      "Applying Scaler to persistence diagrams.\n",
      "Got the result from ./1/64/train/filtrations/6/HeightFiltrartion_-1_-1/green/features.npy\n",
      "FiltrationExtractor: processing 1/64/train/filtrations/6/HeightFiltrartion_-1_-1/blue, do_fit = False, filtration = HeightFiltration(direction=array([-1, -1]), n_jobs=-1)\n",
      "Got the result from ./1/64/train/filtrations/6/HeightFiltrartion_-1_-1/blue/diagrams.npy\n",
      "Applying Scaler to persistence diagrams.\n",
      "Got the result from ./1/64/train/filtrations/6/HeightFiltrartion_-1_-1/blue/features.npy\n",
      "Applying filtration 50/72: HeightFiltration with d = (-1, 0), bin. thr. = 0.6\n",
      "RGB images received. Transforming to grayscale.\n"
     ]
    },
    {
     "name": "stderr",
     "output_type": "stream",
     "text": [
      "rgb2gray: 100%|██████████| 9469/9469 [00:01<00:00, 5128.64it/s]\n"
     ]
    },
    {
     "name": "stdout",
     "output_type": "stream",
     "text": [
      "FiltrationExtractor: processing 1/64/train/filtrations/6/HeightFiltrartion_-1_0/gray, do_fit = False, filtration = HeightFiltration(direction=array([-1,  0]), n_jobs=-1)\n",
      "Got the result from ./1/64/train/filtrations/6/HeightFiltrartion_-1_0/gray/diagrams.npy\n",
      "Applying Scaler to persistence diagrams.\n",
      "Got the result from ./1/64/train/filtrations/6/HeightFiltrartion_-1_0/gray/features.npy\n",
      "FiltrationExtractor: processing 1/64/train/filtrations/6/HeightFiltrartion_-1_0/red, do_fit = False, filtration = HeightFiltration(direction=array([-1,  0]), n_jobs=-1)\n",
      "Got the result from ./1/64/train/filtrations/6/HeightFiltrartion_-1_0/red/diagrams.npy\n",
      "Applying Scaler to persistence diagrams.\n",
      "Got the result from ./1/64/train/filtrations/6/HeightFiltrartion_-1_0/red/features.npy\n",
      "FiltrationExtractor: processing 1/64/train/filtrations/6/HeightFiltrartion_-1_0/green, do_fit = False, filtration = HeightFiltration(direction=array([-1,  0]), n_jobs=-1)\n",
      "Got the result from ./1/64/train/filtrations/6/HeightFiltrartion_-1_0/green/diagrams.npy\n",
      "Applying Scaler to persistence diagrams.\n",
      "Got the result from ./1/64/train/filtrations/6/HeightFiltrartion_-1_0/green/features.npy\n",
      "FiltrationExtractor: processing 1/64/train/filtrations/6/HeightFiltrartion_-1_0/blue, do_fit = False, filtration = HeightFiltration(direction=array([-1,  0]), n_jobs=-1)\n",
      "Got the result from ./1/64/train/filtrations/6/HeightFiltrartion_-1_0/blue/diagrams.npy\n",
      "Applying Scaler to persistence diagrams.\n",
      "Got the result from ./1/64/train/filtrations/6/HeightFiltrartion_-1_0/blue/features.npy\n",
      "Applying filtration 51/72: HeightFiltration with d = (-1, 1), bin. thr. = 0.6\n",
      "RGB images received. Transforming to grayscale.\n"
     ]
    },
    {
     "name": "stderr",
     "output_type": "stream",
     "text": [
      "rgb2gray: 100%|██████████| 9469/9469 [00:01<00:00, 5371.81it/s]\n"
     ]
    },
    {
     "name": "stdout",
     "output_type": "stream",
     "text": [
      "FiltrationExtractor: processing 1/64/train/filtrations/6/HeightFiltrartion_-1_1/gray, do_fit = False, filtration = HeightFiltration(direction=array([-1,  1]), n_jobs=-1)\n",
      "Got the result from ./1/64/train/filtrations/6/HeightFiltrartion_-1_1/gray/diagrams.npy\n",
      "Applying Scaler to persistence diagrams.\n",
      "Got the result from ./1/64/train/filtrations/6/HeightFiltrartion_-1_1/gray/features.npy\n",
      "FiltrationExtractor: processing 1/64/train/filtrations/6/HeightFiltrartion_-1_1/red, do_fit = False, filtration = HeightFiltration(direction=array([-1,  1]), n_jobs=-1)\n",
      "Got the result from ./1/64/train/filtrations/6/HeightFiltrartion_-1_1/red/diagrams.npy\n",
      "Applying Scaler to persistence diagrams.\n",
      "Got the result from ./1/64/train/filtrations/6/HeightFiltrartion_-1_1/red/features.npy\n",
      "FiltrationExtractor: processing 1/64/train/filtrations/6/HeightFiltrartion_-1_1/green, do_fit = False, filtration = HeightFiltration(direction=array([-1,  1]), n_jobs=-1)\n",
      "Got the result from ./1/64/train/filtrations/6/HeightFiltrartion_-1_1/green/diagrams.npy\n",
      "Applying Scaler to persistence diagrams.\n",
      "Got the result from ./1/64/train/filtrations/6/HeightFiltrartion_-1_1/green/features.npy\n",
      "FiltrationExtractor: processing 1/64/train/filtrations/6/HeightFiltrartion_-1_1/blue, do_fit = False, filtration = HeightFiltration(direction=array([-1,  1]), n_jobs=-1)\n",
      "Got the result from ./1/64/train/filtrations/6/HeightFiltrartion_-1_1/blue/diagrams.npy\n",
      "Applying Scaler to persistence diagrams.\n",
      "Got the result from ./1/64/train/filtrations/6/HeightFiltrartion_-1_1/blue/features.npy\n",
      "Applying filtration 52/72: HeightFiltration with d = (0, -1), bin. thr. = 0.6\n",
      "RGB images received. Transforming to grayscale.\n"
     ]
    },
    {
     "name": "stderr",
     "output_type": "stream",
     "text": [
      "rgb2gray: 100%|██████████| 9469/9469 [00:01<00:00, 5307.97it/s]\n"
     ]
    },
    {
     "name": "stdout",
     "output_type": "stream",
     "text": [
      "FiltrationExtractor: processing 1/64/train/filtrations/6/HeightFiltrartion_0_-1/gray, do_fit = False, filtration = HeightFiltration(direction=array([ 0, -1]), n_jobs=-1)\n",
      "Got the result from ./1/64/train/filtrations/6/HeightFiltrartion_0_-1/gray/diagrams.npy\n",
      "Applying Scaler to persistence diagrams.\n",
      "Got the result from ./1/64/train/filtrations/6/HeightFiltrartion_0_-1/gray/features.npy\n",
      "FiltrationExtractor: processing 1/64/train/filtrations/6/HeightFiltrartion_0_-1/red, do_fit = False, filtration = HeightFiltration(direction=array([ 0, -1]), n_jobs=-1)\n",
      "Got the result from ./1/64/train/filtrations/6/HeightFiltrartion_0_-1/red/diagrams.npy\n",
      "Applying Scaler to persistence diagrams.\n",
      "Got the result from ./1/64/train/filtrations/6/HeightFiltrartion_0_-1/red/features.npy\n",
      "FiltrationExtractor: processing 1/64/train/filtrations/6/HeightFiltrartion_0_-1/green, do_fit = False, filtration = HeightFiltration(direction=array([ 0, -1]), n_jobs=-1)\n",
      "Got the result from ./1/64/train/filtrations/6/HeightFiltrartion_0_-1/green/diagrams.npy\n",
      "Applying Scaler to persistence diagrams.\n",
      "Got the result from ./1/64/train/filtrations/6/HeightFiltrartion_0_-1/green/features.npy\n",
      "FiltrationExtractor: processing 1/64/train/filtrations/6/HeightFiltrartion_0_-1/blue, do_fit = False, filtration = HeightFiltration(direction=array([ 0, -1]), n_jobs=-1)\n",
      "Got the result from ./1/64/train/filtrations/6/HeightFiltrartion_0_-1/blue/diagrams.npy\n",
      "Applying Scaler to persistence diagrams.\n",
      "Got the result from ./1/64/train/filtrations/6/HeightFiltrartion_0_-1/blue/features.npy\n",
      "Applying filtration 53/72: HeightFiltration with d = (0, 1), bin. thr. = 0.6\n",
      "RGB images received. Transforming to grayscale.\n"
     ]
    },
    {
     "name": "stderr",
     "output_type": "stream",
     "text": [
      "rgb2gray: 100%|██████████| 9469/9469 [00:01<00:00, 5047.48it/s]\n"
     ]
    },
    {
     "name": "stdout",
     "output_type": "stream",
     "text": [
      "FiltrationExtractor: processing 1/64/train/filtrations/6/HeightFiltrartion_0_1/gray, do_fit = False, filtration = HeightFiltration(direction=array([0, 1]), n_jobs=-1)\n",
      "Got the result from ./1/64/train/filtrations/6/HeightFiltrartion_0_1/gray/diagrams.npy\n",
      "Applying Scaler to persistence diagrams.\n",
      "Got the result from ./1/64/train/filtrations/6/HeightFiltrartion_0_1/gray/features.npy\n",
      "FiltrationExtractor: processing 1/64/train/filtrations/6/HeightFiltrartion_0_1/red, do_fit = False, filtration = HeightFiltration(direction=array([0, 1]), n_jobs=-1)\n",
      "Got the result from ./1/64/train/filtrations/6/HeightFiltrartion_0_1/red/diagrams.npy\n",
      "Applying Scaler to persistence diagrams.\n",
      "Got the result from ./1/64/train/filtrations/6/HeightFiltrartion_0_1/red/features.npy\n",
      "FiltrationExtractor: processing 1/64/train/filtrations/6/HeightFiltrartion_0_1/green, do_fit = False, filtration = HeightFiltration(direction=array([0, 1]), n_jobs=-1)\n",
      "Got the result from ./1/64/train/filtrations/6/HeightFiltrartion_0_1/green/diagrams.npy\n",
      "Applying Scaler to persistence diagrams.\n",
      "Got the result from ./1/64/train/filtrations/6/HeightFiltrartion_0_1/green/features.npy\n",
      "FiltrationExtractor: processing 1/64/train/filtrations/6/HeightFiltrartion_0_1/blue, do_fit = False, filtration = HeightFiltration(direction=array([0, 1]), n_jobs=-1)\n",
      "Got the result from ./1/64/train/filtrations/6/HeightFiltrartion_0_1/blue/diagrams.npy\n",
      "Applying Scaler to persistence diagrams.\n",
      "Got the result from ./1/64/train/filtrations/6/HeightFiltrartion_0_1/blue/features.npy\n",
      "Applying filtration 54/72: HeightFiltration with d = (1, -1), bin. thr. = 0.6\n",
      "RGB images received. Transforming to grayscale.\n"
     ]
    },
    {
     "name": "stderr",
     "output_type": "stream",
     "text": [
      "rgb2gray: 100%|██████████| 9469/9469 [00:01<00:00, 5294.18it/s]\n"
     ]
    },
    {
     "name": "stdout",
     "output_type": "stream",
     "text": [
      "FiltrationExtractor: processing 1/64/train/filtrations/6/HeightFiltrartion_1_-1/gray, do_fit = False, filtration = HeightFiltration(direction=array([ 1, -1]), n_jobs=-1)\n",
      "Got the result from ./1/64/train/filtrations/6/HeightFiltrartion_1_-1/gray/diagrams.npy\n",
      "Applying Scaler to persistence diagrams.\n",
      "Got the result from ./1/64/train/filtrations/6/HeightFiltrartion_1_-1/gray/features.npy\n",
      "FiltrationExtractor: processing 1/64/train/filtrations/6/HeightFiltrartion_1_-1/red, do_fit = False, filtration = HeightFiltration(direction=array([ 1, -1]), n_jobs=-1)\n",
      "Got the result from ./1/64/train/filtrations/6/HeightFiltrartion_1_-1/red/diagrams.npy\n",
      "Applying Scaler to persistence diagrams.\n",
      "Got the result from ./1/64/train/filtrations/6/HeightFiltrartion_1_-1/red/features.npy\n",
      "FiltrationExtractor: processing 1/64/train/filtrations/6/HeightFiltrartion_1_-1/green, do_fit = False, filtration = HeightFiltration(direction=array([ 1, -1]), n_jobs=-1)\n",
      "Got the result from ./1/64/train/filtrations/6/HeightFiltrartion_1_-1/green/diagrams.npy\n",
      "Applying Scaler to persistence diagrams.\n",
      "Got the result from ./1/64/train/filtrations/6/HeightFiltrartion_1_-1/green/features.npy\n",
      "FiltrationExtractor: processing 1/64/train/filtrations/6/HeightFiltrartion_1_-1/blue, do_fit = False, filtration = HeightFiltration(direction=array([ 1, -1]), n_jobs=-1)\n",
      "Got the result from ./1/64/train/filtrations/6/HeightFiltrartion_1_-1/blue/diagrams.npy\n",
      "Applying Scaler to persistence diagrams.\n",
      "Got the result from ./1/64/train/filtrations/6/HeightFiltrartion_1_-1/blue/features.npy\n",
      "Applying filtration 55/72: HeightFiltration with d = (1, 0), bin. thr. = 0.6\n",
      "RGB images received. Transforming to grayscale.\n"
     ]
    },
    {
     "name": "stderr",
     "output_type": "stream",
     "text": [
      "rgb2gray: 100%|██████████| 9469/9469 [00:01<00:00, 5347.36it/s]\n"
     ]
    },
    {
     "name": "stdout",
     "output_type": "stream",
     "text": [
      "FiltrationExtractor: processing 1/64/train/filtrations/6/HeightFiltrartion_1_0/gray, do_fit = False, filtration = HeightFiltration(direction=array([1, 0]), n_jobs=-1)\n",
      "Got the result from ./1/64/train/filtrations/6/HeightFiltrartion_1_0/gray/diagrams.npy\n",
      "Applying Scaler to persistence diagrams.\n",
      "Got the result from ./1/64/train/filtrations/6/HeightFiltrartion_1_0/gray/features.npy\n",
      "FiltrationExtractor: processing 1/64/train/filtrations/6/HeightFiltrartion_1_0/red, do_fit = False, filtration = HeightFiltration(direction=array([1, 0]), n_jobs=-1)\n",
      "Got the result from ./1/64/train/filtrations/6/HeightFiltrartion_1_0/red/diagrams.npy\n",
      "Applying Scaler to persistence diagrams.\n",
      "Got the result from ./1/64/train/filtrations/6/HeightFiltrartion_1_0/red/features.npy\n",
      "FiltrationExtractor: processing 1/64/train/filtrations/6/HeightFiltrartion_1_0/green, do_fit = False, filtration = HeightFiltration(direction=array([1, 0]), n_jobs=-1)\n",
      "Got the result from ./1/64/train/filtrations/6/HeightFiltrartion_1_0/green/diagrams.npy\n",
      "Applying Scaler to persistence diagrams.\n",
      "Got the result from ./1/64/train/filtrations/6/HeightFiltrartion_1_0/green/features.npy\n",
      "FiltrationExtractor: processing 1/64/train/filtrations/6/HeightFiltrartion_1_0/blue, do_fit = False, filtration = HeightFiltration(direction=array([1, 0]), n_jobs=-1)\n",
      "Got the result from ./1/64/train/filtrations/6/HeightFiltrartion_1_0/blue/diagrams.npy\n",
      "Applying Scaler to persistence diagrams.\n",
      "Got the result from ./1/64/train/filtrations/6/HeightFiltrartion_1_0/blue/features.npy\n",
      "Applying filtration 56/72: HeightFiltration with d = (1, 1), bin. thr. = 0.6\n",
      "RGB images received. Transforming to grayscale.\n"
     ]
    },
    {
     "name": "stderr",
     "output_type": "stream",
     "text": [
      "rgb2gray: 100%|██████████| 9469/9469 [00:02<00:00, 4535.72it/s]\n"
     ]
    },
    {
     "name": "stdout",
     "output_type": "stream",
     "text": [
      "FiltrationExtractor: processing 1/64/train/filtrations/6/HeightFiltrartion_1_1/gray, do_fit = False, filtration = HeightFiltration(direction=array([1, 1]), n_jobs=-1)\n",
      "Got the result from ./1/64/train/filtrations/6/HeightFiltrartion_1_1/gray/diagrams.npy\n",
      "Applying Scaler to persistence diagrams.\n",
      "Got the result from ./1/64/train/filtrations/6/HeightFiltrartion_1_1/gray/features.npy\n",
      "FiltrationExtractor: processing 1/64/train/filtrations/6/HeightFiltrartion_1_1/red, do_fit = False, filtration = HeightFiltration(direction=array([1, 1]), n_jobs=-1)\n",
      "Got the result from ./1/64/train/filtrations/6/HeightFiltrartion_1_1/red/diagrams.npy\n",
      "Applying Scaler to persistence diagrams.\n",
      "Got the result from ./1/64/train/filtrations/6/HeightFiltrartion_1_1/red/features.npy\n",
      "FiltrationExtractor: processing 1/64/train/filtrations/6/HeightFiltrartion_1_1/green, do_fit = False, filtration = HeightFiltration(direction=array([1, 1]), n_jobs=-1)\n",
      "Got the result from ./1/64/train/filtrations/6/HeightFiltrartion_1_1/green/diagrams.npy\n",
      "Applying Scaler to persistence diagrams.\n",
      "Got the result from ./1/64/train/filtrations/6/HeightFiltrartion_1_1/green/features.npy\n",
      "FiltrationExtractor: processing 1/64/train/filtrations/6/HeightFiltrartion_1_1/blue, do_fit = False, filtration = HeightFiltration(direction=array([1, 1]), n_jobs=-1)\n",
      "Got the result from ./1/64/train/filtrations/6/HeightFiltrartion_1_1/blue/diagrams.npy\n",
      "Applying Scaler to persistence diagrams.\n",
      "Got the result from ./1/64/train/filtrations/6/HeightFiltrartion_1_1/blue/features.npy\n",
      "Applying filtration 57/72: RadialFiltration with c = (12, 12), bin. thr. = 0.6\n",
      "RGB images received. Transforming to grayscale.\n"
     ]
    },
    {
     "name": "stderr",
     "output_type": "stream",
     "text": [
      "rgb2gray: 100%|██████████| 9469/9469 [00:01<00:00, 5149.20it/s]\n"
     ]
    },
    {
     "name": "stdout",
     "output_type": "stream",
     "text": [
      "FiltrationExtractor: processing 1/64/train/filtrations/6/RadialFiltration_12_12/gray, do_fit = False, filtration = RadialFiltration(center=array([12, 12]), n_jobs=-1)\n",
      "Got the result from ./1/64/train/filtrations/6/RadialFiltration_12_12/gray/diagrams.npy\n",
      "Applying Scaler to persistence diagrams.\n",
      "Got the result from ./1/64/train/filtrations/6/RadialFiltration_12_12/gray/features.npy\n",
      "FiltrationExtractor: processing 1/64/train/filtrations/6/RadialFiltration_12_12/red, do_fit = False, filtration = RadialFiltration(center=array([12, 12]), n_jobs=-1)\n",
      "Got the result from ./1/64/train/filtrations/6/RadialFiltration_12_12/red/diagrams.npy\n",
      "Applying Scaler to persistence diagrams.\n",
      "Got the result from ./1/64/train/filtrations/6/RadialFiltration_12_12/red/features.npy\n",
      "FiltrationExtractor: processing 1/64/train/filtrations/6/RadialFiltration_12_12/green, do_fit = False, filtration = RadialFiltration(center=array([12, 12]), n_jobs=-1)\n",
      "Got the result from ./1/64/train/filtrations/6/RadialFiltration_12_12/green/diagrams.npy\n",
      "Applying Scaler to persistence diagrams.\n",
      "Got the result from ./1/64/train/filtrations/6/RadialFiltration_12_12/green/features.npy\n",
      "FiltrationExtractor: processing 1/64/train/filtrations/6/RadialFiltration_12_12/blue, do_fit = False, filtration = RadialFiltration(center=array([12, 12]), n_jobs=-1)\n",
      "Got the result from ./1/64/train/filtrations/6/RadialFiltration_12_12/blue/diagrams.npy\n",
      "Applying Scaler to persistence diagrams.\n",
      "Got the result from ./1/64/train/filtrations/6/RadialFiltration_12_12/blue/features.npy\n",
      "Applying filtration 58/72: RadialFiltration with c = (12, 25), bin. thr. = 0.6\n",
      "RGB images received. Transforming to grayscale.\n"
     ]
    },
    {
     "name": "stderr",
     "output_type": "stream",
     "text": [
      "rgb2gray: 100%|██████████| 9469/9469 [00:01<00:00, 5431.77it/s]\n"
     ]
    },
    {
     "name": "stdout",
     "output_type": "stream",
     "text": [
      "FiltrationExtractor: processing 1/64/train/filtrations/6/RadialFiltration_12_25/gray, do_fit = False, filtration = RadialFiltration(center=array([12, 25]), n_jobs=-1)\n",
      "Got the result from ./1/64/train/filtrations/6/RadialFiltration_12_25/gray/diagrams.npy\n",
      "Applying Scaler to persistence diagrams.\n",
      "Got the result from ./1/64/train/filtrations/6/RadialFiltration_12_25/gray/features.npy\n",
      "FiltrationExtractor: processing 1/64/train/filtrations/6/RadialFiltration_12_25/red, do_fit = False, filtration = RadialFiltration(center=array([12, 25]), n_jobs=-1)\n",
      "Got the result from ./1/64/train/filtrations/6/RadialFiltration_12_25/red/diagrams.npy\n",
      "Applying Scaler to persistence diagrams.\n",
      "Got the result from ./1/64/train/filtrations/6/RadialFiltration_12_25/red/features.npy\n",
      "FiltrationExtractor: processing 1/64/train/filtrations/6/RadialFiltration_12_25/green, do_fit = False, filtration = RadialFiltration(center=array([12, 25]), n_jobs=-1)\n",
      "Got the result from ./1/64/train/filtrations/6/RadialFiltration_12_25/green/diagrams.npy\n",
      "Applying Scaler to persistence diagrams.\n",
      "Got the result from ./1/64/train/filtrations/6/RadialFiltration_12_25/green/features.npy\n",
      "FiltrationExtractor: processing 1/64/train/filtrations/6/RadialFiltration_12_25/blue, do_fit = False, filtration = RadialFiltration(center=array([12, 25]), n_jobs=-1)\n",
      "Got the result from ./1/64/train/filtrations/6/RadialFiltration_12_25/blue/diagrams.npy\n",
      "Applying Scaler to persistence diagrams.\n",
      "Got the result from ./1/64/train/filtrations/6/RadialFiltration_12_25/blue/features.npy\n",
      "Applying filtration 59/72: RadialFiltration with c = (12, 38), bin. thr. = 0.6\n",
      "RGB images received. Transforming to grayscale.\n"
     ]
    },
    {
     "name": "stderr",
     "output_type": "stream",
     "text": [
      "rgb2gray: 100%|██████████| 9469/9469 [00:01<00:00, 5175.95it/s]\n"
     ]
    },
    {
     "name": "stdout",
     "output_type": "stream",
     "text": [
      "FiltrationExtractor: processing 1/64/train/filtrations/6/RadialFiltration_12_38/gray, do_fit = False, filtration = RadialFiltration(center=array([12, 38]), n_jobs=-1)\n",
      "Got the result from ./1/64/train/filtrations/6/RadialFiltration_12_38/gray/diagrams.npy\n",
      "Applying Scaler to persistence diagrams.\n",
      "Got the result from ./1/64/train/filtrations/6/RadialFiltration_12_38/gray/features.npy\n",
      "FiltrationExtractor: processing 1/64/train/filtrations/6/RadialFiltration_12_38/red, do_fit = False, filtration = RadialFiltration(center=array([12, 38]), n_jobs=-1)\n",
      "Got the result from ./1/64/train/filtrations/6/RadialFiltration_12_38/red/diagrams.npy\n",
      "Applying Scaler to persistence diagrams.\n",
      "Got the result from ./1/64/train/filtrations/6/RadialFiltration_12_38/red/features.npy\n",
      "FiltrationExtractor: processing 1/64/train/filtrations/6/RadialFiltration_12_38/green, do_fit = False, filtration = RadialFiltration(center=array([12, 38]), n_jobs=-1)\n",
      "Got the result from ./1/64/train/filtrations/6/RadialFiltration_12_38/green/diagrams.npy\n",
      "Applying Scaler to persistence diagrams.\n",
      "Got the result from ./1/64/train/filtrations/6/RadialFiltration_12_38/green/features.npy\n",
      "FiltrationExtractor: processing 1/64/train/filtrations/6/RadialFiltration_12_38/blue, do_fit = False, filtration = RadialFiltration(center=array([12, 38]), n_jobs=-1)\n",
      "Got the result from ./1/64/train/filtrations/6/RadialFiltration_12_38/blue/diagrams.npy\n",
      "Applying Scaler to persistence diagrams.\n",
      "Got the result from ./1/64/train/filtrations/6/RadialFiltration_12_38/blue/features.npy\n",
      "Applying filtration 60/72: RadialFiltration with c = (12, 51), bin. thr. = 0.6\n",
      "RGB images received. Transforming to grayscale.\n"
     ]
    },
    {
     "name": "stderr",
     "output_type": "stream",
     "text": [
      "rgb2gray: 100%|██████████| 9469/9469 [00:01<00:00, 5342.14it/s]\n"
     ]
    },
    {
     "name": "stdout",
     "output_type": "stream",
     "text": [
      "FiltrationExtractor: processing 1/64/train/filtrations/6/RadialFiltration_12_51/gray, do_fit = False, filtration = RadialFiltration(center=array([12, 51]), n_jobs=-1)\n",
      "Got the result from ./1/64/train/filtrations/6/RadialFiltration_12_51/gray/diagrams.npy\n",
      "Applying Scaler to persistence diagrams.\n",
      "Got the result from ./1/64/train/filtrations/6/RadialFiltration_12_51/gray/features.npy\n",
      "FiltrationExtractor: processing 1/64/train/filtrations/6/RadialFiltration_12_51/red, do_fit = False, filtration = RadialFiltration(center=array([12, 51]), n_jobs=-1)\n",
      "Got the result from ./1/64/train/filtrations/6/RadialFiltration_12_51/red/diagrams.npy\n",
      "Applying Scaler to persistence diagrams.\n",
      "Got the result from ./1/64/train/filtrations/6/RadialFiltration_12_51/red/features.npy\n",
      "FiltrationExtractor: processing 1/64/train/filtrations/6/RadialFiltration_12_51/green, do_fit = False, filtration = RadialFiltration(center=array([12, 51]), n_jobs=-1)\n",
      "Got the result from ./1/64/train/filtrations/6/RadialFiltration_12_51/green/diagrams.npy\n",
      "Applying Scaler to persistence diagrams.\n",
      "Got the result from ./1/64/train/filtrations/6/RadialFiltration_12_51/green/features.npy\n",
      "FiltrationExtractor: processing 1/64/train/filtrations/6/RadialFiltration_12_51/blue, do_fit = False, filtration = RadialFiltration(center=array([12, 51]), n_jobs=-1)\n",
      "Got the result from ./1/64/train/filtrations/6/RadialFiltration_12_51/blue/diagrams.npy\n",
      "Applying Scaler to persistence diagrams.\n",
      "Got the result from ./1/64/train/filtrations/6/RadialFiltration_12_51/blue/features.npy\n",
      "Applying filtration 61/72: RadialFiltration with c = (25, 12), bin. thr. = 0.6\n",
      "RGB images received. Transforming to grayscale.\n"
     ]
    },
    {
     "name": "stderr",
     "output_type": "stream",
     "text": [
      "rgb2gray: 100%|██████████| 9469/9469 [00:01<00:00, 5389.30it/s]\n"
     ]
    },
    {
     "name": "stdout",
     "output_type": "stream",
     "text": [
      "FiltrationExtractor: processing 1/64/train/filtrations/6/RadialFiltration_25_12/gray, do_fit = False, filtration = RadialFiltration(center=array([25, 12]), n_jobs=-1)\n",
      "Got the result from ./1/64/train/filtrations/6/RadialFiltration_25_12/gray/diagrams.npy\n",
      "Applying Scaler to persistence diagrams.\n",
      "Got the result from ./1/64/train/filtrations/6/RadialFiltration_25_12/gray/features.npy\n",
      "FiltrationExtractor: processing 1/64/train/filtrations/6/RadialFiltration_25_12/red, do_fit = False, filtration = RadialFiltration(center=array([25, 12]), n_jobs=-1)\n",
      "Got the result from ./1/64/train/filtrations/6/RadialFiltration_25_12/red/diagrams.npy\n",
      "Applying Scaler to persistence diagrams.\n",
      "Got the result from ./1/64/train/filtrations/6/RadialFiltration_25_12/red/features.npy\n",
      "FiltrationExtractor: processing 1/64/train/filtrations/6/RadialFiltration_25_12/green, do_fit = False, filtration = RadialFiltration(center=array([25, 12]), n_jobs=-1)\n",
      "Got the result from ./1/64/train/filtrations/6/RadialFiltration_25_12/green/diagrams.npy\n",
      "Applying Scaler to persistence diagrams.\n",
      "Got the result from ./1/64/train/filtrations/6/RadialFiltration_25_12/green/features.npy\n",
      "FiltrationExtractor: processing 1/64/train/filtrations/6/RadialFiltration_25_12/blue, do_fit = False, filtration = RadialFiltration(center=array([25, 12]), n_jobs=-1)\n",
      "Got the result from ./1/64/train/filtrations/6/RadialFiltration_25_12/blue/diagrams.npy\n",
      "Applying Scaler to persistence diagrams.\n",
      "Got the result from ./1/64/train/filtrations/6/RadialFiltration_25_12/blue/features.npy\n",
      "Applying filtration 62/72: RadialFiltration with c = (25, 25), bin. thr. = 0.6\n",
      "RGB images received. Transforming to grayscale.\n"
     ]
    },
    {
     "name": "stderr",
     "output_type": "stream",
     "text": [
      "rgb2gray: 100%|██████████| 9469/9469 [00:01<00:00, 5318.80it/s]\n"
     ]
    },
    {
     "name": "stdout",
     "output_type": "stream",
     "text": [
      "FiltrationExtractor: processing 1/64/train/filtrations/6/RadialFiltration_25_25/gray, do_fit = False, filtration = RadialFiltration(center=array([25, 25]), n_jobs=-1)\n",
      "Got the result from ./1/64/train/filtrations/6/RadialFiltration_25_25/gray/diagrams.npy\n",
      "Applying Scaler to persistence diagrams.\n",
      "Got the result from ./1/64/train/filtrations/6/RadialFiltration_25_25/gray/features.npy\n",
      "FiltrationExtractor: processing 1/64/train/filtrations/6/RadialFiltration_25_25/red, do_fit = False, filtration = RadialFiltration(center=array([25, 25]), n_jobs=-1)\n",
      "Got the result from ./1/64/train/filtrations/6/RadialFiltration_25_25/red/diagrams.npy\n",
      "Applying Scaler to persistence diagrams.\n",
      "Got the result from ./1/64/train/filtrations/6/RadialFiltration_25_25/red/features.npy\n",
      "FiltrationExtractor: processing 1/64/train/filtrations/6/RadialFiltration_25_25/green, do_fit = False, filtration = RadialFiltration(center=array([25, 25]), n_jobs=-1)\n",
      "Got the result from ./1/64/train/filtrations/6/RadialFiltration_25_25/green/diagrams.npy\n",
      "Applying Scaler to persistence diagrams.\n",
      "Got the result from ./1/64/train/filtrations/6/RadialFiltration_25_25/green/features.npy\n",
      "FiltrationExtractor: processing 1/64/train/filtrations/6/RadialFiltration_25_25/blue, do_fit = False, filtration = RadialFiltration(center=array([25, 25]), n_jobs=-1)\n",
      "Got the result from ./1/64/train/filtrations/6/RadialFiltration_25_25/blue/diagrams.npy\n",
      "Applying Scaler to persistence diagrams.\n",
      "Got the result from ./1/64/train/filtrations/6/RadialFiltration_25_25/blue/features.npy\n",
      "Applying filtration 63/72: RadialFiltration with c = (25, 38), bin. thr. = 0.6\n",
      "RGB images received. Transforming to grayscale.\n"
     ]
    },
    {
     "name": "stderr",
     "output_type": "stream",
     "text": [
      "rgb2gray: 100%|██████████| 9469/9469 [00:01<00:00, 5394.13it/s]\n"
     ]
    },
    {
     "name": "stdout",
     "output_type": "stream",
     "text": [
      "FiltrationExtractor: processing 1/64/train/filtrations/6/RadialFiltration_25_38/gray, do_fit = False, filtration = RadialFiltration(center=array([25, 38]), n_jobs=-1)\n",
      "Got the result from ./1/64/train/filtrations/6/RadialFiltration_25_38/gray/diagrams.npy\n",
      "Applying Scaler to persistence diagrams.\n",
      "Got the result from ./1/64/train/filtrations/6/RadialFiltration_25_38/gray/features.npy\n",
      "FiltrationExtractor: processing 1/64/train/filtrations/6/RadialFiltration_25_38/red, do_fit = False, filtration = RadialFiltration(center=array([25, 38]), n_jobs=-1)\n",
      "Got the result from ./1/64/train/filtrations/6/RadialFiltration_25_38/red/diagrams.npy\n",
      "Applying Scaler to persistence diagrams.\n",
      "Got the result from ./1/64/train/filtrations/6/RadialFiltration_25_38/red/features.npy\n",
      "FiltrationExtractor: processing 1/64/train/filtrations/6/RadialFiltration_25_38/green, do_fit = False, filtration = RadialFiltration(center=array([25, 38]), n_jobs=-1)\n",
      "Got the result from ./1/64/train/filtrations/6/RadialFiltration_25_38/green/diagrams.npy\n",
      "Applying Scaler to persistence diagrams.\n",
      "Got the result from ./1/64/train/filtrations/6/RadialFiltration_25_38/green/features.npy\n",
      "FiltrationExtractor: processing 1/64/train/filtrations/6/RadialFiltration_25_38/blue, do_fit = False, filtration = RadialFiltration(center=array([25, 38]), n_jobs=-1)\n",
      "Got the result from ./1/64/train/filtrations/6/RadialFiltration_25_38/blue/diagrams.npy\n",
      "Applying Scaler to persistence diagrams.\n",
      "Got the result from ./1/64/train/filtrations/6/RadialFiltration_25_38/blue/features.npy\n",
      "Applying filtration 64/72: RadialFiltration with c = (25, 51), bin. thr. = 0.6\n",
      "RGB images received. Transforming to grayscale.\n"
     ]
    },
    {
     "name": "stderr",
     "output_type": "stream",
     "text": [
      "rgb2gray: 100%|██████████| 9469/9469 [00:02<00:00, 4676.04it/s]\n"
     ]
    },
    {
     "name": "stdout",
     "output_type": "stream",
     "text": [
      "FiltrationExtractor: processing 1/64/train/filtrations/6/RadialFiltration_25_51/gray, do_fit = False, filtration = RadialFiltration(center=array([25, 51]), n_jobs=-1)\n",
      "Got the result from ./1/64/train/filtrations/6/RadialFiltration_25_51/gray/diagrams.npy\n",
      "Applying Scaler to persistence diagrams.\n",
      "Got the result from ./1/64/train/filtrations/6/RadialFiltration_25_51/gray/features.npy\n",
      "FiltrationExtractor: processing 1/64/train/filtrations/6/RadialFiltration_25_51/red, do_fit = False, filtration = RadialFiltration(center=array([25, 51]), n_jobs=-1)\n",
      "Got the result from ./1/64/train/filtrations/6/RadialFiltration_25_51/red/diagrams.npy\n",
      "Applying Scaler to persistence diagrams.\n",
      "Got the result from ./1/64/train/filtrations/6/RadialFiltration_25_51/red/features.npy\n",
      "FiltrationExtractor: processing 1/64/train/filtrations/6/RadialFiltration_25_51/green, do_fit = False, filtration = RadialFiltration(center=array([25, 51]), n_jobs=-1)\n",
      "Got the result from ./1/64/train/filtrations/6/RadialFiltration_25_51/green/diagrams.npy\n",
      "Applying Scaler to persistence diagrams.\n",
      "Got the result from ./1/64/train/filtrations/6/RadialFiltration_25_51/green/features.npy\n",
      "FiltrationExtractor: processing 1/64/train/filtrations/6/RadialFiltration_25_51/blue, do_fit = False, filtration = RadialFiltration(center=array([25, 51]), n_jobs=-1)\n",
      "Got the result from ./1/64/train/filtrations/6/RadialFiltration_25_51/blue/diagrams.npy\n",
      "Applying Scaler to persistence diagrams.\n",
      "Got the result from ./1/64/train/filtrations/6/RadialFiltration_25_51/blue/features.npy\n",
      "Applying filtration 65/72: RadialFiltration with c = (38, 12), bin. thr. = 0.6\n",
      "RGB images received. Transforming to grayscale.\n"
     ]
    },
    {
     "name": "stderr",
     "output_type": "stream",
     "text": [
      "rgb2gray: 100%|██████████| 9469/9469 [00:01<00:00, 5385.02it/s]\n"
     ]
    },
    {
     "name": "stdout",
     "output_type": "stream",
     "text": [
      "FiltrationExtractor: processing 1/64/train/filtrations/6/RadialFiltration_38_12/gray, do_fit = False, filtration = RadialFiltration(center=array([38, 12]), n_jobs=-1)\n",
      "Got the result from ./1/64/train/filtrations/6/RadialFiltration_38_12/gray/diagrams.npy\n",
      "Applying Scaler to persistence diagrams.\n",
      "Got the result from ./1/64/train/filtrations/6/RadialFiltration_38_12/gray/features.npy\n",
      "FiltrationExtractor: processing 1/64/train/filtrations/6/RadialFiltration_38_12/red, do_fit = False, filtration = RadialFiltration(center=array([38, 12]), n_jobs=-1)\n",
      "Got the result from ./1/64/train/filtrations/6/RadialFiltration_38_12/red/diagrams.npy\n",
      "Applying Scaler to persistence diagrams.\n",
      "Got the result from ./1/64/train/filtrations/6/RadialFiltration_38_12/red/features.npy\n",
      "FiltrationExtractor: processing 1/64/train/filtrations/6/RadialFiltration_38_12/green, do_fit = False, filtration = RadialFiltration(center=array([38, 12]), n_jobs=-1)\n",
      "Got the result from ./1/64/train/filtrations/6/RadialFiltration_38_12/green/diagrams.npy\n",
      "Applying Scaler to persistence diagrams.\n",
      "Got the result from ./1/64/train/filtrations/6/RadialFiltration_38_12/green/features.npy\n",
      "FiltrationExtractor: processing 1/64/train/filtrations/6/RadialFiltration_38_12/blue, do_fit = False, filtration = RadialFiltration(center=array([38, 12]), n_jobs=-1)\n",
      "Got the result from ./1/64/train/filtrations/6/RadialFiltration_38_12/blue/diagrams.npy\n",
      "Applying Scaler to persistence diagrams.\n",
      "Got the result from ./1/64/train/filtrations/6/RadialFiltration_38_12/blue/features.npy\n",
      "Applying filtration 66/72: RadialFiltration with c = (38, 25), bin. thr. = 0.6\n",
      "RGB images received. Transforming to grayscale.\n"
     ]
    },
    {
     "name": "stderr",
     "output_type": "stream",
     "text": [
      "rgb2gray: 100%|██████████| 9469/9469 [00:01<00:00, 5378.94it/s]\n"
     ]
    },
    {
     "name": "stdout",
     "output_type": "stream",
     "text": [
      "FiltrationExtractor: processing 1/64/train/filtrations/6/RadialFiltration_38_25/gray, do_fit = False, filtration = RadialFiltration(center=array([38, 25]), n_jobs=-1)\n",
      "Got the result from ./1/64/train/filtrations/6/RadialFiltration_38_25/gray/diagrams.npy\n",
      "Applying Scaler to persistence diagrams.\n",
      "Got the result from ./1/64/train/filtrations/6/RadialFiltration_38_25/gray/features.npy\n",
      "FiltrationExtractor: processing 1/64/train/filtrations/6/RadialFiltration_38_25/red, do_fit = False, filtration = RadialFiltration(center=array([38, 25]), n_jobs=-1)\n",
      "Got the result from ./1/64/train/filtrations/6/RadialFiltration_38_25/red/diagrams.npy\n",
      "Applying Scaler to persistence diagrams.\n",
      "Got the result from ./1/64/train/filtrations/6/RadialFiltration_38_25/red/features.npy\n",
      "FiltrationExtractor: processing 1/64/train/filtrations/6/RadialFiltration_38_25/green, do_fit = False, filtration = RadialFiltration(center=array([38, 25]), n_jobs=-1)\n",
      "Got the result from ./1/64/train/filtrations/6/RadialFiltration_38_25/green/diagrams.npy\n",
      "Applying Scaler to persistence diagrams.\n",
      "Got the result from ./1/64/train/filtrations/6/RadialFiltration_38_25/green/features.npy\n",
      "FiltrationExtractor: processing 1/64/train/filtrations/6/RadialFiltration_38_25/blue, do_fit = False, filtration = RadialFiltration(center=array([38, 25]), n_jobs=-1)\n",
      "Got the result from ./1/64/train/filtrations/6/RadialFiltration_38_25/blue/diagrams.npy\n",
      "Applying Scaler to persistence diagrams.\n",
      "Got the result from ./1/64/train/filtrations/6/RadialFiltration_38_25/blue/features.npy\n",
      "Applying filtration 67/72: RadialFiltration with c = (38, 38), bin. thr. = 0.6\n",
      "RGB images received. Transforming to grayscale.\n"
     ]
    },
    {
     "name": "stderr",
     "output_type": "stream",
     "text": [
      "rgb2gray: 100%|██████████| 9469/9469 [00:01<00:00, 5396.92it/s]\n"
     ]
    },
    {
     "name": "stdout",
     "output_type": "stream",
     "text": [
      "FiltrationExtractor: processing 1/64/train/filtrations/6/RadialFiltration_38_38/gray, do_fit = False, filtration = RadialFiltration(center=array([38, 38]), n_jobs=-1)\n",
      "Got the result from ./1/64/train/filtrations/6/RadialFiltration_38_38/gray/diagrams.npy\n",
      "Applying Scaler to persistence diagrams.\n",
      "Got the result from ./1/64/train/filtrations/6/RadialFiltration_38_38/gray/features.npy\n",
      "FiltrationExtractor: processing 1/64/train/filtrations/6/RadialFiltration_38_38/red, do_fit = False, filtration = RadialFiltration(center=array([38, 38]), n_jobs=-1)\n",
      "Got the result from ./1/64/train/filtrations/6/RadialFiltration_38_38/red/diagrams.npy\n",
      "Applying Scaler to persistence diagrams.\n",
      "Got the result from ./1/64/train/filtrations/6/RadialFiltration_38_38/red/features.npy\n",
      "FiltrationExtractor: processing 1/64/train/filtrations/6/RadialFiltration_38_38/green, do_fit = False, filtration = RadialFiltration(center=array([38, 38]), n_jobs=-1)\n",
      "Got the result from ./1/64/train/filtrations/6/RadialFiltration_38_38/green/diagrams.npy\n",
      "Applying Scaler to persistence diagrams.\n",
      "Got the result from ./1/64/train/filtrations/6/RadialFiltration_38_38/green/features.npy\n",
      "FiltrationExtractor: processing 1/64/train/filtrations/6/RadialFiltration_38_38/blue, do_fit = False, filtration = RadialFiltration(center=array([38, 38]), n_jobs=-1)\n",
      "Got the result from ./1/64/train/filtrations/6/RadialFiltration_38_38/blue/diagrams.npy\n",
      "Applying Scaler to persistence diagrams.\n",
      "Got the result from ./1/64/train/filtrations/6/RadialFiltration_38_38/blue/features.npy\n",
      "Applying filtration 68/72: RadialFiltration with c = (38, 51), bin. thr. = 0.6\n",
      "RGB images received. Transforming to grayscale.\n"
     ]
    },
    {
     "name": "stderr",
     "output_type": "stream",
     "text": [
      "rgb2gray: 100%|██████████| 9469/9469 [00:01<00:00, 5036.70it/s]\n"
     ]
    },
    {
     "name": "stdout",
     "output_type": "stream",
     "text": [
      "FiltrationExtractor: processing 1/64/train/filtrations/6/RadialFiltration_38_51/gray, do_fit = False, filtration = RadialFiltration(center=array([38, 51]), n_jobs=-1)\n",
      "Got the result from ./1/64/train/filtrations/6/RadialFiltration_38_51/gray/diagrams.npy\n",
      "Applying Scaler to persistence diagrams.\n",
      "Got the result from ./1/64/train/filtrations/6/RadialFiltration_38_51/gray/features.npy\n",
      "FiltrationExtractor: processing 1/64/train/filtrations/6/RadialFiltration_38_51/red, do_fit = False, filtration = RadialFiltration(center=array([38, 51]), n_jobs=-1)\n",
      "Got the result from ./1/64/train/filtrations/6/RadialFiltration_38_51/red/diagrams.npy\n",
      "Applying Scaler to persistence diagrams.\n",
      "Got the result from ./1/64/train/filtrations/6/RadialFiltration_38_51/red/features.npy\n",
      "FiltrationExtractor: processing 1/64/train/filtrations/6/RadialFiltration_38_51/green, do_fit = False, filtration = RadialFiltration(center=array([38, 51]), n_jobs=-1)\n",
      "Got the result from ./1/64/train/filtrations/6/RadialFiltration_38_51/green/diagrams.npy\n",
      "Applying Scaler to persistence diagrams.\n",
      "Got the result from ./1/64/train/filtrations/6/RadialFiltration_38_51/green/features.npy\n",
      "FiltrationExtractor: processing 1/64/train/filtrations/6/RadialFiltration_38_51/blue, do_fit = False, filtration = RadialFiltration(center=array([38, 51]), n_jobs=-1)\n",
      "Got the result from ./1/64/train/filtrations/6/RadialFiltration_38_51/blue/diagrams.npy\n",
      "Applying Scaler to persistence diagrams.\n",
      "Got the result from ./1/64/train/filtrations/6/RadialFiltration_38_51/blue/features.npy\n",
      "Applying filtration 69/72: RadialFiltration with c = (51, 12), bin. thr. = 0.6\n",
      "RGB images received. Transforming to grayscale.\n"
     ]
    },
    {
     "name": "stderr",
     "output_type": "stream",
     "text": [
      "rgb2gray: 100%|██████████| 9469/9469 [00:01<00:00, 4983.30it/s]\n"
     ]
    },
    {
     "name": "stdout",
     "output_type": "stream",
     "text": [
      "FiltrationExtractor: processing 1/64/train/filtrations/6/RadialFiltration_51_12/gray, do_fit = False, filtration = RadialFiltration(center=array([51, 12]), n_jobs=-1)\n",
      "Got the result from ./1/64/train/filtrations/6/RadialFiltration_51_12/gray/diagrams.npy\n",
      "Applying Scaler to persistence diagrams.\n",
      "Got the result from ./1/64/train/filtrations/6/RadialFiltration_51_12/gray/features.npy\n",
      "FiltrationExtractor: processing 1/64/train/filtrations/6/RadialFiltration_51_12/red, do_fit = False, filtration = RadialFiltration(center=array([51, 12]), n_jobs=-1)\n",
      "Got the result from ./1/64/train/filtrations/6/RadialFiltration_51_12/red/diagrams.npy\n",
      "Applying Scaler to persistence diagrams.\n",
      "Got the result from ./1/64/train/filtrations/6/RadialFiltration_51_12/red/features.npy\n",
      "FiltrationExtractor: processing 1/64/train/filtrations/6/RadialFiltration_51_12/green, do_fit = False, filtration = RadialFiltration(center=array([51, 12]), n_jobs=-1)\n",
      "Got the result from ./1/64/train/filtrations/6/RadialFiltration_51_12/green/diagrams.npy\n",
      "Applying Scaler to persistence diagrams.\n",
      "Got the result from ./1/64/train/filtrations/6/RadialFiltration_51_12/green/features.npy\n",
      "FiltrationExtractor: processing 1/64/train/filtrations/6/RadialFiltration_51_12/blue, do_fit = False, filtration = RadialFiltration(center=array([51, 12]), n_jobs=-1)\n",
      "Got the result from ./1/64/train/filtrations/6/RadialFiltration_51_12/blue/diagrams.npy\n",
      "Applying Scaler to persistence diagrams.\n",
      "Got the result from ./1/64/train/filtrations/6/RadialFiltration_51_12/blue/features.npy\n",
      "Applying filtration 70/72: RadialFiltration with c = (51, 25), bin. thr. = 0.6\n",
      "RGB images received. Transforming to grayscale.\n"
     ]
    },
    {
     "name": "stderr",
     "output_type": "stream",
     "text": [
      "rgb2gray: 100%|██████████| 9469/9469 [00:01<00:00, 5460.79it/s]\n"
     ]
    },
    {
     "name": "stdout",
     "output_type": "stream",
     "text": [
      "FiltrationExtractor: processing 1/64/train/filtrations/6/RadialFiltration_51_25/gray, do_fit = False, filtration = RadialFiltration(center=array([51, 25]), n_jobs=-1)\n",
      "Got the result from ./1/64/train/filtrations/6/RadialFiltration_51_25/gray/diagrams.npy\n",
      "Applying Scaler to persistence diagrams.\n",
      "Got the result from ./1/64/train/filtrations/6/RadialFiltration_51_25/gray/features.npy\n",
      "FiltrationExtractor: processing 1/64/train/filtrations/6/RadialFiltration_51_25/red, do_fit = False, filtration = RadialFiltration(center=array([51, 25]), n_jobs=-1)\n",
      "Got the result from ./1/64/train/filtrations/6/RadialFiltration_51_25/red/diagrams.npy\n",
      "Applying Scaler to persistence diagrams.\n",
      "Got the result from ./1/64/train/filtrations/6/RadialFiltration_51_25/red/features.npy\n",
      "FiltrationExtractor: processing 1/64/train/filtrations/6/RadialFiltration_51_25/green, do_fit = False, filtration = RadialFiltration(center=array([51, 25]), n_jobs=-1)\n",
      "Got the result from ./1/64/train/filtrations/6/RadialFiltration_51_25/green/diagrams.npy\n",
      "Applying Scaler to persistence diagrams.\n",
      "Got the result from ./1/64/train/filtrations/6/RadialFiltration_51_25/green/features.npy\n",
      "FiltrationExtractor: processing 1/64/train/filtrations/6/RadialFiltration_51_25/blue, do_fit = False, filtration = RadialFiltration(center=array([51, 25]), n_jobs=-1)\n",
      "Got the result from ./1/64/train/filtrations/6/RadialFiltration_51_25/blue/diagrams.npy\n",
      "Applying Scaler to persistence diagrams.\n",
      "Got the result from ./1/64/train/filtrations/6/RadialFiltration_51_25/blue/features.npy\n",
      "Applying filtration 71/72: RadialFiltration with c = (51, 38), bin. thr. = 0.6\n",
      "RGB images received. Transforming to grayscale.\n"
     ]
    },
    {
     "name": "stderr",
     "output_type": "stream",
     "text": [
      "rgb2gray: 100%|██████████| 9469/9469 [00:01<00:00, 5207.57it/s]\n"
     ]
    },
    {
     "name": "stdout",
     "output_type": "stream",
     "text": [
      "FiltrationExtractor: processing 1/64/train/filtrations/6/RadialFiltration_51_38/gray, do_fit = False, filtration = RadialFiltration(center=array([51, 38]), n_jobs=-1)\n",
      "Got the result from ./1/64/train/filtrations/6/RadialFiltration_51_38/gray/diagrams.npy\n",
      "Applying Scaler to persistence diagrams.\n",
      "Got the result from ./1/64/train/filtrations/6/RadialFiltration_51_38/gray/features.npy\n",
      "FiltrationExtractor: processing 1/64/train/filtrations/6/RadialFiltration_51_38/red, do_fit = False, filtration = RadialFiltration(center=array([51, 38]), n_jobs=-1)\n",
      "Got the result from ./1/64/train/filtrations/6/RadialFiltration_51_38/red/diagrams.npy\n",
      "Applying Scaler to persistence diagrams.\n",
      "Got the result from ./1/64/train/filtrations/6/RadialFiltration_51_38/red/features.npy\n",
      "FiltrationExtractor: processing 1/64/train/filtrations/6/RadialFiltration_51_38/green, do_fit = False, filtration = RadialFiltration(center=array([51, 38]), n_jobs=-1)\n",
      "Got the result from ./1/64/train/filtrations/6/RadialFiltration_51_38/green/diagrams.npy\n",
      "Applying Scaler to persistence diagrams.\n",
      "Got the result from ./1/64/train/filtrations/6/RadialFiltration_51_38/green/features.npy\n",
      "FiltrationExtractor: processing 1/64/train/filtrations/6/RadialFiltration_51_38/blue, do_fit = False, filtration = RadialFiltration(center=array([51, 38]), n_jobs=-1)\n",
      "Got the result from ./1/64/train/filtrations/6/RadialFiltration_51_38/blue/diagrams.npy\n",
      "Applying Scaler to persistence diagrams.\n",
      "Got the result from ./1/64/train/filtrations/6/RadialFiltration_51_38/blue/features.npy\n",
      "Applying filtration 72/72: RadialFiltration with c = (51, 51), bin. thr. = 0.6\n",
      "RGB images received. Transforming to grayscale.\n"
     ]
    },
    {
     "name": "stderr",
     "output_type": "stream",
     "text": [
      "rgb2gray: 100%|██████████| 9469/9469 [00:01<00:00, 5453.28it/s]\n"
     ]
    },
    {
     "name": "stdout",
     "output_type": "stream",
     "text": [
      "FiltrationExtractor: processing 1/64/train/filtrations/6/RadialFiltration_51_51/gray, do_fit = False, filtration = RadialFiltration(center=array([51, 51]), n_jobs=-1)\n",
      "Got the result from ./1/64/train/filtrations/6/RadialFiltration_51_51/gray/diagrams.npy\n",
      "Applying Scaler to persistence diagrams.\n",
      "Got the result from ./1/64/train/filtrations/6/RadialFiltration_51_51/gray/features.npy\n",
      "FiltrationExtractor: processing 1/64/train/filtrations/6/RadialFiltration_51_51/red, do_fit = False, filtration = RadialFiltration(center=array([51, 51]), n_jobs=-1)\n",
      "Got the result from ./1/64/train/filtrations/6/RadialFiltration_51_51/red/diagrams.npy\n",
      "Applying Scaler to persistence diagrams.\n",
      "Got the result from ./1/64/train/filtrations/6/RadialFiltration_51_51/red/features.npy\n",
      "FiltrationExtractor: processing 1/64/train/filtrations/6/RadialFiltration_51_51/green, do_fit = False, filtration = RadialFiltration(center=array([51, 51]), n_jobs=-1)\n",
      "Got the result from ./1/64/train/filtrations/6/RadialFiltration_51_51/green/diagrams.npy\n",
      "Applying Scaler to persistence diagrams.\n",
      "Got the result from ./1/64/train/filtrations/6/RadialFiltration_51_51/green/features.npy\n",
      "FiltrationExtractor: processing 1/64/train/filtrations/6/RadialFiltration_51_51/blue, do_fit = False, filtration = RadialFiltration(center=array([51, 51]), n_jobs=-1)\n",
      "Got the result from ./1/64/train/filtrations/6/RadialFiltration_51_51/blue/diagrams.npy\n",
      "Applying Scaler to persistence diagrams.\n",
      "Got the result from ./1/64/train/filtrations/6/RadialFiltration_51_51/blue/features.npy\n",
      "RGB images received. Transforming to grayscale.\n",
      "Got the result from ./1/64/train/geometry/rgb/features.npy\n"
     ]
    },
    {
     "name": "stderr",
     "output_type": "stream",
     "text": [
      "rgb2gray: 100%|██████████| 9469/9469 [00:01<00:00, 5702.43it/s]\n"
     ]
    },
    {
     "name": "stdout",
     "output_type": "stream",
     "text": [
      "Got the result from ./1/64/train/geometry/gray/features.npy\n",
      "Got the result from ./1/64/train/geometry/red/features.npy\n",
      "Got the result from ./1/64/train/geometry/green/features.npy\n",
      "Got the result from ./1/64/train/geometry/blue/features.npy\n",
      "Applying StandardScaler.\n",
      "Calculating inverted images\n",
      "RGB images received. Transforming to grayscale.\n"
     ]
    },
    {
     "name": "stderr",
     "output_type": "stream",
     "text": [
      "rgb2gray: 100%|██████████| 3925/3925 [00:00<00:00, 10149.97it/s]\n"
     ]
    },
    {
     "name": "stdout",
     "output_type": "stream",
     "text": [
      "GreyscaleExtractor: processing 1/64/test/greyscale/gray, do_fit = False\n",
      "Got the result from ./1/64/test/greyscale/gray/diagrams.npy\n",
      "Applying Scaler to persistence diagrams.\n",
      "Got the result from ./1/64/test/greyscale/gray/features.npy\n",
      "GreyscaleExtractor: processing 1/64/test/greyscale/red, do_fit = False\n",
      "Got the result from ./1/64/test/greyscale/red/diagrams.npy\n",
      "Applying Scaler to persistence diagrams.\n",
      "Got the result from ./1/64/test/greyscale/red/features.npy\n",
      "GreyscaleExtractor: processing 1/64/test/greyscale/green, do_fit = False\n",
      "Got the result from ./1/64/test/greyscale/green/diagrams.npy\n",
      "Applying Scaler to persistence diagrams.\n",
      "Got the result from ./1/64/test/greyscale/green/features.npy\n",
      "GreyscaleExtractor: processing 1/64/test/greyscale/blue, do_fit = False\n",
      "Got the result from ./1/64/test/greyscale/blue/diagrams.npy\n",
      "Applying Scaler to persistence diagrams.\n",
      "Got the result from ./1/64/test/greyscale/blue/features.npy\n",
      "RGB images received. Transforming to grayscale.\n"
     ]
    },
    {
     "name": "stderr",
     "output_type": "stream",
     "text": [
      "rgb2gray: 100%|██████████| 3925/3925 [00:00<00:00, 10195.51it/s]\n"
     ]
    },
    {
     "name": "stdout",
     "output_type": "stream",
     "text": [
      "GreyscaleExtractor: processing 1/64/test/inverted_greyscale/gray, do_fit = False\n",
      "Got the result from ./1/64/test/inverted_greyscale/gray/diagrams.npy\n",
      "Applying Scaler to persistence diagrams.\n",
      "Got the result from ./1/64/test/inverted_greyscale/gray/features.npy\n",
      "GreyscaleExtractor: processing 1/64/test/inverted_greyscale/red, do_fit = False\n",
      "Got the result from ./1/64/test/inverted_greyscale/red/diagrams.npy\n",
      "Applying Scaler to persistence diagrams.\n",
      "Got the result from ./1/64/test/inverted_greyscale/red/features.npy\n",
      "GreyscaleExtractor: processing 1/64/test/inverted_greyscale/green, do_fit = False\n",
      "Got the result from ./1/64/test/inverted_greyscale/green/diagrams.npy\n",
      "Applying Scaler to persistence diagrams.\n",
      "Got the result from ./1/64/test/inverted_greyscale/green/features.npy\n",
      "GreyscaleExtractor: processing 1/64/test/inverted_greyscale/blue, do_fit = False\n",
      "Got the result from ./1/64/test/inverted_greyscale/blue/diagrams.npy\n",
      "Applying Scaler to persistence diagrams.\n",
      "Got the result from ./1/64/test/inverted_greyscale/blue/features.npy\n",
      "Applying filtrations\n",
      "Applying filtration 1/72: HeightFiltration with d = (-1, -1), bin. thr. = 0.2\n",
      "RGB images received. Transforming to grayscale.\n"
     ]
    },
    {
     "name": "stderr",
     "output_type": "stream",
     "text": [
      "rgb2gray: 100%|██████████| 3925/3925 [00:00<00:00, 10466.69it/s]\n"
     ]
    },
    {
     "name": "stdout",
     "output_type": "stream",
     "text": [
      "FiltrationExtractor: processing 1/64/test/filtrations/2/HeightFiltrartion_-1_-1/gray, do_fit = False, filtration = HeightFiltration(direction=array([-1, -1]), n_jobs=-1)\n",
      "Got the result from ./1/64/test/filtrations/2/HeightFiltrartion_-1_-1/gray/diagrams.npy\n",
      "Applying Scaler to persistence diagrams.\n",
      "Got the result from ./1/64/test/filtrations/2/HeightFiltrartion_-1_-1/gray/features.npy\n",
      "FiltrationExtractor: processing 1/64/test/filtrations/2/HeightFiltrartion_-1_-1/red, do_fit = False, filtration = HeightFiltration(direction=array([-1, -1]), n_jobs=-1)\n",
      "Got the result from ./1/64/test/filtrations/2/HeightFiltrartion_-1_-1/red/diagrams.npy\n",
      "Applying Scaler to persistence diagrams.\n",
      "Got the result from ./1/64/test/filtrations/2/HeightFiltrartion_-1_-1/red/features.npy\n",
      "FiltrationExtractor: processing 1/64/test/filtrations/2/HeightFiltrartion_-1_-1/green, do_fit = False, filtration = HeightFiltration(direction=array([-1, -1]), n_jobs=-1)\n",
      "Got the result from ./1/64/test/filtrations/2/HeightFiltrartion_-1_-1/green/diagrams.npy\n",
      "Applying Scaler to persistence diagrams.\n",
      "Got the result from ./1/64/test/filtrations/2/HeightFiltrartion_-1_-1/green/features.npy\n",
      "FiltrationExtractor: processing 1/64/test/filtrations/2/HeightFiltrartion_-1_-1/blue, do_fit = False, filtration = HeightFiltration(direction=array([-1, -1]), n_jobs=-1)\n",
      "Got the result from ./1/64/test/filtrations/2/HeightFiltrartion_-1_-1/blue/diagrams.npy\n",
      "Applying Scaler to persistence diagrams.\n",
      "Got the result from ./1/64/test/filtrations/2/HeightFiltrartion_-1_-1/blue/features.npy\n",
      "Applying filtration 2/72: HeightFiltration with d = (-1, 0), bin. thr. = 0.2\n",
      "RGB images received. Transforming to grayscale.\n"
     ]
    },
    {
     "name": "stderr",
     "output_type": "stream",
     "text": [
      "rgb2gray: 100%|██████████| 3925/3925 [00:00<00:00, 8860.04it/s]\n"
     ]
    },
    {
     "name": "stdout",
     "output_type": "stream",
     "text": [
      "FiltrationExtractor: processing 1/64/test/filtrations/2/HeightFiltrartion_-1_0/gray, do_fit = False, filtration = HeightFiltration(direction=array([-1,  0]), n_jobs=-1)\n",
      "Got the result from ./1/64/test/filtrations/2/HeightFiltrartion_-1_0/gray/diagrams.npy\n",
      "Applying Scaler to persistence diagrams.\n",
      "Got the result from ./1/64/test/filtrations/2/HeightFiltrartion_-1_0/gray/features.npy\n",
      "FiltrationExtractor: processing 1/64/test/filtrations/2/HeightFiltrartion_-1_0/red, do_fit = False, filtration = HeightFiltration(direction=array([-1,  0]), n_jobs=-1)\n",
      "Got the result from ./1/64/test/filtrations/2/HeightFiltrartion_-1_0/red/diagrams.npy\n",
      "Applying Scaler to persistence diagrams.\n",
      "Got the result from ./1/64/test/filtrations/2/HeightFiltrartion_-1_0/red/features.npy\n",
      "FiltrationExtractor: processing 1/64/test/filtrations/2/HeightFiltrartion_-1_0/green, do_fit = False, filtration = HeightFiltration(direction=array([-1,  0]), n_jobs=-1)\n",
      "Got the result from ./1/64/test/filtrations/2/HeightFiltrartion_-1_0/green/diagrams.npy\n",
      "Applying Scaler to persistence diagrams.\n",
      "Got the result from ./1/64/test/filtrations/2/HeightFiltrartion_-1_0/green/features.npy\n",
      "FiltrationExtractor: processing 1/64/test/filtrations/2/HeightFiltrartion_-1_0/blue, do_fit = False, filtration = HeightFiltration(direction=array([-1,  0]), n_jobs=-1)\n",
      "Got the result from ./1/64/test/filtrations/2/HeightFiltrartion_-1_0/blue/diagrams.npy\n",
      "Applying Scaler to persistence diagrams.\n",
      "Got the result from ./1/64/test/filtrations/2/HeightFiltrartion_-1_0/blue/features.npy\n",
      "Applying filtration 3/72: HeightFiltration with d = (-1, 1), bin. thr. = 0.2\n",
      "RGB images received. Transforming to grayscale.\n"
     ]
    },
    {
     "name": "stderr",
     "output_type": "stream",
     "text": [
      "rgb2gray: 100%|██████████| 3925/3925 [00:00<00:00, 9788.04it/s]\n"
     ]
    },
    {
     "name": "stdout",
     "output_type": "stream",
     "text": [
      "FiltrationExtractor: processing 1/64/test/filtrations/2/HeightFiltrartion_-1_1/gray, do_fit = False, filtration = HeightFiltration(direction=array([-1,  1]), n_jobs=-1)\n",
      "Got the result from ./1/64/test/filtrations/2/HeightFiltrartion_-1_1/gray/diagrams.npy\n",
      "Applying Scaler to persistence diagrams.\n",
      "Got the result from ./1/64/test/filtrations/2/HeightFiltrartion_-1_1/gray/features.npy\n",
      "FiltrationExtractor: processing 1/64/test/filtrations/2/HeightFiltrartion_-1_1/red, do_fit = False, filtration = HeightFiltration(direction=array([-1,  1]), n_jobs=-1)\n",
      "Got the result from ./1/64/test/filtrations/2/HeightFiltrartion_-1_1/red/diagrams.npy\n",
      "Applying Scaler to persistence diagrams.\n",
      "Got the result from ./1/64/test/filtrations/2/HeightFiltrartion_-1_1/red/features.npy\n",
      "FiltrationExtractor: processing 1/64/test/filtrations/2/HeightFiltrartion_-1_1/green, do_fit = False, filtration = HeightFiltration(direction=array([-1,  1]), n_jobs=-1)\n",
      "Got the result from ./1/64/test/filtrations/2/HeightFiltrartion_-1_1/green/diagrams.npy\n",
      "Applying Scaler to persistence diagrams.\n",
      "Got the result from ./1/64/test/filtrations/2/HeightFiltrartion_-1_1/green/features.npy\n",
      "FiltrationExtractor: processing 1/64/test/filtrations/2/HeightFiltrartion_-1_1/blue, do_fit = False, filtration = HeightFiltration(direction=array([-1,  1]), n_jobs=-1)\n",
      "Got the result from ./1/64/test/filtrations/2/HeightFiltrartion_-1_1/blue/diagrams.npy\n",
      "Applying Scaler to persistence diagrams.\n",
      "Got the result from ./1/64/test/filtrations/2/HeightFiltrartion_-1_1/blue/features.npy\n",
      "Applying filtration 4/72: HeightFiltration with d = (0, -1), bin. thr. = 0.2\n",
      "RGB images received. Transforming to grayscale.\n"
     ]
    },
    {
     "name": "stderr",
     "output_type": "stream",
     "text": [
      "rgb2gray: 100%|██████████| 3925/3925 [00:00<00:00, 10012.78it/s]\n"
     ]
    },
    {
     "name": "stdout",
     "output_type": "stream",
     "text": [
      "FiltrationExtractor: processing 1/64/test/filtrations/2/HeightFiltrartion_0_-1/gray, do_fit = False, filtration = HeightFiltration(direction=array([ 0, -1]), n_jobs=-1)\n",
      "Got the result from ./1/64/test/filtrations/2/HeightFiltrartion_0_-1/gray/diagrams.npy\n",
      "Applying Scaler to persistence diagrams.\n",
      "Got the result from ./1/64/test/filtrations/2/HeightFiltrartion_0_-1/gray/features.npy\n",
      "FiltrationExtractor: processing 1/64/test/filtrations/2/HeightFiltrartion_0_-1/red, do_fit = False, filtration = HeightFiltration(direction=array([ 0, -1]), n_jobs=-1)\n",
      "Got the result from ./1/64/test/filtrations/2/HeightFiltrartion_0_-1/red/diagrams.npy\n",
      "Applying Scaler to persistence diagrams.\n",
      "Got the result from ./1/64/test/filtrations/2/HeightFiltrartion_0_-1/red/features.npy\n",
      "FiltrationExtractor: processing 1/64/test/filtrations/2/HeightFiltrartion_0_-1/green, do_fit = False, filtration = HeightFiltration(direction=array([ 0, -1]), n_jobs=-1)\n",
      "Got the result from ./1/64/test/filtrations/2/HeightFiltrartion_0_-1/green/diagrams.npy\n",
      "Applying Scaler to persistence diagrams.\n",
      "Got the result from ./1/64/test/filtrations/2/HeightFiltrartion_0_-1/green/features.npy\n",
      "FiltrationExtractor: processing 1/64/test/filtrations/2/HeightFiltrartion_0_-1/blue, do_fit = False, filtration = HeightFiltration(direction=array([ 0, -1]), n_jobs=-1)\n",
      "Got the result from ./1/64/test/filtrations/2/HeightFiltrartion_0_-1/blue/diagrams.npy\n",
      "Applying Scaler to persistence diagrams.\n",
      "Got the result from ./1/64/test/filtrations/2/HeightFiltrartion_0_-1/blue/features.npy\n",
      "Applying filtration 5/72: HeightFiltration with d = (0, 1), bin. thr. = 0.2\n",
      "RGB images received. Transforming to grayscale.\n"
     ]
    },
    {
     "name": "stderr",
     "output_type": "stream",
     "text": [
      "rgb2gray: 100%|██████████| 3925/3925 [00:00<00:00, 7861.50it/s]\n"
     ]
    },
    {
     "name": "stdout",
     "output_type": "stream",
     "text": [
      "FiltrationExtractor: processing 1/64/test/filtrations/2/HeightFiltrartion_0_1/gray, do_fit = False, filtration = HeightFiltration(direction=array([0, 1]), n_jobs=-1)\n",
      "Got the result from ./1/64/test/filtrations/2/HeightFiltrartion_0_1/gray/diagrams.npy\n",
      "Applying Scaler to persistence diagrams.\n",
      "Got the result from ./1/64/test/filtrations/2/HeightFiltrartion_0_1/gray/features.npy\n",
      "FiltrationExtractor: processing 1/64/test/filtrations/2/HeightFiltrartion_0_1/red, do_fit = False, filtration = HeightFiltration(direction=array([0, 1]), n_jobs=-1)\n",
      "Got the result from ./1/64/test/filtrations/2/HeightFiltrartion_0_1/red/diagrams.npy\n",
      "Applying Scaler to persistence diagrams.\n",
      "Got the result from ./1/64/test/filtrations/2/HeightFiltrartion_0_1/red/features.npy\n",
      "FiltrationExtractor: processing 1/64/test/filtrations/2/HeightFiltrartion_0_1/green, do_fit = False, filtration = HeightFiltration(direction=array([0, 1]), n_jobs=-1)\n",
      "Got the result from ./1/64/test/filtrations/2/HeightFiltrartion_0_1/green/diagrams.npy\n",
      "Applying Scaler to persistence diagrams.\n",
      "Got the result from ./1/64/test/filtrations/2/HeightFiltrartion_0_1/green/features.npy\n",
      "FiltrationExtractor: processing 1/64/test/filtrations/2/HeightFiltrartion_0_1/blue, do_fit = False, filtration = HeightFiltration(direction=array([0, 1]), n_jobs=-1)\n",
      "Got the result from ./1/64/test/filtrations/2/HeightFiltrartion_0_1/blue/diagrams.npy\n",
      "Applying Scaler to persistence diagrams.\n",
      "Got the result from ./1/64/test/filtrations/2/HeightFiltrartion_0_1/blue/features.npy\n",
      "Applying filtration 6/72: HeightFiltration with d = (1, -1), bin. thr. = 0.2\n",
      "RGB images received. Transforming to grayscale.\n"
     ]
    },
    {
     "name": "stderr",
     "output_type": "stream",
     "text": [
      "rgb2gray: 100%|██████████| 3925/3925 [00:00<00:00, 8588.59it/s]\n"
     ]
    },
    {
     "name": "stdout",
     "output_type": "stream",
     "text": [
      "FiltrationExtractor: processing 1/64/test/filtrations/2/HeightFiltrartion_1_-1/gray, do_fit = False, filtration = HeightFiltration(direction=array([ 1, -1]), n_jobs=-1)\n",
      "Got the result from ./1/64/test/filtrations/2/HeightFiltrartion_1_-1/gray/diagrams.npy\n",
      "Applying Scaler to persistence diagrams.\n",
      "Got the result from ./1/64/test/filtrations/2/HeightFiltrartion_1_-1/gray/features.npy\n",
      "FiltrationExtractor: processing 1/64/test/filtrations/2/HeightFiltrartion_1_-1/red, do_fit = False, filtration = HeightFiltration(direction=array([ 1, -1]), n_jobs=-1)\n",
      "Got the result from ./1/64/test/filtrations/2/HeightFiltrartion_1_-1/red/diagrams.npy\n",
      "Applying Scaler to persistence diagrams.\n",
      "Got the result from ./1/64/test/filtrations/2/HeightFiltrartion_1_-1/red/features.npy\n",
      "FiltrationExtractor: processing 1/64/test/filtrations/2/HeightFiltrartion_1_-1/green, do_fit = False, filtration = HeightFiltration(direction=array([ 1, -1]), n_jobs=-1)\n",
      "Got the result from ./1/64/test/filtrations/2/HeightFiltrartion_1_-1/green/diagrams.npy\n",
      "Applying Scaler to persistence diagrams.\n",
      "Got the result from ./1/64/test/filtrations/2/HeightFiltrartion_1_-1/green/features.npy\n",
      "FiltrationExtractor: processing 1/64/test/filtrations/2/HeightFiltrartion_1_-1/blue, do_fit = False, filtration = HeightFiltration(direction=array([ 1, -1]), n_jobs=-1)\n",
      "Got the result from ./1/64/test/filtrations/2/HeightFiltrartion_1_-1/blue/diagrams.npy\n",
      "Applying Scaler to persistence diagrams.\n",
      "Got the result from ./1/64/test/filtrations/2/HeightFiltrartion_1_-1/blue/features.npy\n",
      "Applying filtration 7/72: HeightFiltration with d = (1, 0), bin. thr. = 0.2\n",
      "RGB images received. Transforming to grayscale.\n"
     ]
    },
    {
     "name": "stderr",
     "output_type": "stream",
     "text": [
      "rgb2gray: 100%|██████████| 3925/3925 [00:00<00:00, 10025.37it/s]\n"
     ]
    },
    {
     "name": "stdout",
     "output_type": "stream",
     "text": [
      "FiltrationExtractor: processing 1/64/test/filtrations/2/HeightFiltrartion_1_0/gray, do_fit = False, filtration = HeightFiltration(direction=array([1, 0]), n_jobs=-1)\n",
      "Got the result from ./1/64/test/filtrations/2/HeightFiltrartion_1_0/gray/diagrams.npy\n",
      "Applying Scaler to persistence diagrams.\n",
      "Got the result from ./1/64/test/filtrations/2/HeightFiltrartion_1_0/gray/features.npy\n",
      "FiltrationExtractor: processing 1/64/test/filtrations/2/HeightFiltrartion_1_0/red, do_fit = False, filtration = HeightFiltration(direction=array([1, 0]), n_jobs=-1)\n",
      "Got the result from ./1/64/test/filtrations/2/HeightFiltrartion_1_0/red/diagrams.npy\n",
      "Applying Scaler to persistence diagrams.\n",
      "Got the result from ./1/64/test/filtrations/2/HeightFiltrartion_1_0/red/features.npy\n",
      "FiltrationExtractor: processing 1/64/test/filtrations/2/HeightFiltrartion_1_0/green, do_fit = False, filtration = HeightFiltration(direction=array([1, 0]), n_jobs=-1)\n",
      "Got the result from ./1/64/test/filtrations/2/HeightFiltrartion_1_0/green/diagrams.npy\n",
      "Applying Scaler to persistence diagrams.\n",
      "Got the result from ./1/64/test/filtrations/2/HeightFiltrartion_1_0/green/features.npy\n",
      "FiltrationExtractor: processing 1/64/test/filtrations/2/HeightFiltrartion_1_0/blue, do_fit = False, filtration = HeightFiltration(direction=array([1, 0]), n_jobs=-1)\n",
      "Got the result from ./1/64/test/filtrations/2/HeightFiltrartion_1_0/blue/diagrams.npy\n",
      "Applying Scaler to persistence diagrams.\n",
      "Got the result from ./1/64/test/filtrations/2/HeightFiltrartion_1_0/blue/features.npy\n",
      "Applying filtration 8/72: HeightFiltration with d = (1, 1), bin. thr. = 0.2\n",
      "RGB images received. Transforming to grayscale.\n"
     ]
    },
    {
     "name": "stderr",
     "output_type": "stream",
     "text": [
      "rgb2gray: 100%|██████████| 3925/3925 [00:00<00:00, 9691.34it/s]\n"
     ]
    },
    {
     "name": "stdout",
     "output_type": "stream",
     "text": [
      "FiltrationExtractor: processing 1/64/test/filtrations/2/HeightFiltrartion_1_1/gray, do_fit = False, filtration = HeightFiltration(direction=array([1, 1]), n_jobs=-1)\n",
      "Got the result from ./1/64/test/filtrations/2/HeightFiltrartion_1_1/gray/diagrams.npy\n",
      "Applying Scaler to persistence diagrams.\n",
      "Got the result from ./1/64/test/filtrations/2/HeightFiltrartion_1_1/gray/features.npy\n",
      "FiltrationExtractor: processing 1/64/test/filtrations/2/HeightFiltrartion_1_1/red, do_fit = False, filtration = HeightFiltration(direction=array([1, 1]), n_jobs=-1)\n",
      "Got the result from ./1/64/test/filtrations/2/HeightFiltrartion_1_1/red/diagrams.npy\n",
      "Applying Scaler to persistence diagrams.\n",
      "Got the result from ./1/64/test/filtrations/2/HeightFiltrartion_1_1/red/features.npy\n",
      "FiltrationExtractor: processing 1/64/test/filtrations/2/HeightFiltrartion_1_1/green, do_fit = False, filtration = HeightFiltration(direction=array([1, 1]), n_jobs=-1)\n",
      "Got the result from ./1/64/test/filtrations/2/HeightFiltrartion_1_1/green/diagrams.npy\n",
      "Applying Scaler to persistence diagrams.\n",
      "Got the result from ./1/64/test/filtrations/2/HeightFiltrartion_1_1/green/features.npy\n",
      "FiltrationExtractor: processing 1/64/test/filtrations/2/HeightFiltrartion_1_1/blue, do_fit = False, filtration = HeightFiltration(direction=array([1, 1]), n_jobs=-1)\n",
      "Got the result from ./1/64/test/filtrations/2/HeightFiltrartion_1_1/blue/diagrams.npy\n",
      "Applying Scaler to persistence diagrams.\n",
      "Got the result from ./1/64/test/filtrations/2/HeightFiltrartion_1_1/blue/features.npy\n",
      "Applying filtration 9/72: RadialFiltration with c = (12, 12), bin. thr. = 0.2\n",
      "RGB images received. Transforming to grayscale.\n"
     ]
    },
    {
     "name": "stderr",
     "output_type": "stream",
     "text": [
      "rgb2gray: 100%|██████████| 3925/3925 [00:00<00:00, 8664.47it/s]\n"
     ]
    },
    {
     "name": "stdout",
     "output_type": "stream",
     "text": [
      "FiltrationExtractor: processing 1/64/test/filtrations/2/RadialFiltration_12_12/gray, do_fit = False, filtration = RadialFiltration(center=array([12, 12]), n_jobs=-1)\n",
      "Got the result from ./1/64/test/filtrations/2/RadialFiltration_12_12/gray/diagrams.npy\n",
      "Applying Scaler to persistence diagrams.\n",
      "Got the result from ./1/64/test/filtrations/2/RadialFiltration_12_12/gray/features.npy\n",
      "FiltrationExtractor: processing 1/64/test/filtrations/2/RadialFiltration_12_12/red, do_fit = False, filtration = RadialFiltration(center=array([12, 12]), n_jobs=-1)\n",
      "Got the result from ./1/64/test/filtrations/2/RadialFiltration_12_12/red/diagrams.npy\n",
      "Applying Scaler to persistence diagrams.\n",
      "Got the result from ./1/64/test/filtrations/2/RadialFiltration_12_12/red/features.npy\n",
      "FiltrationExtractor: processing 1/64/test/filtrations/2/RadialFiltration_12_12/green, do_fit = False, filtration = RadialFiltration(center=array([12, 12]), n_jobs=-1)\n",
      "Got the result from ./1/64/test/filtrations/2/RadialFiltration_12_12/green/diagrams.npy\n",
      "Applying Scaler to persistence diagrams.\n",
      "Got the result from ./1/64/test/filtrations/2/RadialFiltration_12_12/green/features.npy\n",
      "FiltrationExtractor: processing 1/64/test/filtrations/2/RadialFiltration_12_12/blue, do_fit = False, filtration = RadialFiltration(center=array([12, 12]), n_jobs=-1)\n",
      "Got the result from ./1/64/test/filtrations/2/RadialFiltration_12_12/blue/diagrams.npy\n",
      "Applying Scaler to persistence diagrams.\n",
      "Got the result from ./1/64/test/filtrations/2/RadialFiltration_12_12/blue/features.npy\n",
      "Applying filtration 10/72: RadialFiltration with c = (12, 25), bin. thr. = 0.2\n",
      "RGB images received. Transforming to grayscale.\n"
     ]
    },
    {
     "name": "stderr",
     "output_type": "stream",
     "text": [
      "rgb2gray: 100%|██████████| 3925/3925 [00:00<00:00, 10168.40it/s]\n"
     ]
    },
    {
     "name": "stdout",
     "output_type": "stream",
     "text": [
      "FiltrationExtractor: processing 1/64/test/filtrations/2/RadialFiltration_12_25/gray, do_fit = False, filtration = RadialFiltration(center=array([12, 25]), n_jobs=-1)\n",
      "Got the result from ./1/64/test/filtrations/2/RadialFiltration_12_25/gray/diagrams.npy\n",
      "Applying Scaler to persistence diagrams.\n",
      "Got the result from ./1/64/test/filtrations/2/RadialFiltration_12_25/gray/features.npy\n",
      "FiltrationExtractor: processing 1/64/test/filtrations/2/RadialFiltration_12_25/red, do_fit = False, filtration = RadialFiltration(center=array([12, 25]), n_jobs=-1)\n",
      "Got the result from ./1/64/test/filtrations/2/RadialFiltration_12_25/red/diagrams.npy\n",
      "Applying Scaler to persistence diagrams.\n",
      "Got the result from ./1/64/test/filtrations/2/RadialFiltration_12_25/red/features.npy\n",
      "FiltrationExtractor: processing 1/64/test/filtrations/2/RadialFiltration_12_25/green, do_fit = False, filtration = RadialFiltration(center=array([12, 25]), n_jobs=-1)\n",
      "Got the result from ./1/64/test/filtrations/2/RadialFiltration_12_25/green/diagrams.npy\n",
      "Applying Scaler to persistence diagrams.\n",
      "Got the result from ./1/64/test/filtrations/2/RadialFiltration_12_25/green/features.npy\n",
      "FiltrationExtractor: processing 1/64/test/filtrations/2/RadialFiltration_12_25/blue, do_fit = False, filtration = RadialFiltration(center=array([12, 25]), n_jobs=-1)\n",
      "Got the result from ./1/64/test/filtrations/2/RadialFiltration_12_25/blue/diagrams.npy\n",
      "Applying Scaler to persistence diagrams.\n",
      "Got the result from ./1/64/test/filtrations/2/RadialFiltration_12_25/blue/features.npy\n",
      "Applying filtration 11/72: RadialFiltration with c = (12, 38), bin. thr. = 0.2\n",
      "RGB images received. Transforming to grayscale.\n"
     ]
    },
    {
     "name": "stderr",
     "output_type": "stream",
     "text": [
      "rgb2gray: 100%|██████████| 3925/3925 [00:00<00:00, 9415.83it/s]\n"
     ]
    },
    {
     "name": "stdout",
     "output_type": "stream",
     "text": [
      "FiltrationExtractor: processing 1/64/test/filtrations/2/RadialFiltration_12_38/gray, do_fit = False, filtration = RadialFiltration(center=array([12, 38]), n_jobs=-1)\n",
      "Got the result from ./1/64/test/filtrations/2/RadialFiltration_12_38/gray/diagrams.npy\n",
      "Applying Scaler to persistence diagrams.\n",
      "Got the result from ./1/64/test/filtrations/2/RadialFiltration_12_38/gray/features.npy\n",
      "FiltrationExtractor: processing 1/64/test/filtrations/2/RadialFiltration_12_38/red, do_fit = False, filtration = RadialFiltration(center=array([12, 38]), n_jobs=-1)\n",
      "Got the result from ./1/64/test/filtrations/2/RadialFiltration_12_38/red/diagrams.npy\n",
      "Applying Scaler to persistence diagrams.\n",
      "Got the result from ./1/64/test/filtrations/2/RadialFiltration_12_38/red/features.npy\n",
      "FiltrationExtractor: processing 1/64/test/filtrations/2/RadialFiltration_12_38/green, do_fit = False, filtration = RadialFiltration(center=array([12, 38]), n_jobs=-1)\n",
      "Got the result from ./1/64/test/filtrations/2/RadialFiltration_12_38/green/diagrams.npy\n",
      "Applying Scaler to persistence diagrams.\n",
      "Got the result from ./1/64/test/filtrations/2/RadialFiltration_12_38/green/features.npy\n",
      "FiltrationExtractor: processing 1/64/test/filtrations/2/RadialFiltration_12_38/blue, do_fit = False, filtration = RadialFiltration(center=array([12, 38]), n_jobs=-1)\n",
      "Got the result from ./1/64/test/filtrations/2/RadialFiltration_12_38/blue/diagrams.npy\n",
      "Applying Scaler to persistence diagrams.\n",
      "Got the result from ./1/64/test/filtrations/2/RadialFiltration_12_38/blue/features.npy\n",
      "Applying filtration 12/72: RadialFiltration with c = (12, 51), bin. thr. = 0.2\n",
      "RGB images received. Transforming to grayscale.\n"
     ]
    },
    {
     "name": "stderr",
     "output_type": "stream",
     "text": [
      "rgb2gray: 100%|██████████| 3925/3925 [00:00<00:00, 9812.53it/s]\n"
     ]
    },
    {
     "name": "stdout",
     "output_type": "stream",
     "text": [
      "FiltrationExtractor: processing 1/64/test/filtrations/2/RadialFiltration_12_51/gray, do_fit = False, filtration = RadialFiltration(center=array([12, 51]), n_jobs=-1)\n",
      "Got the result from ./1/64/test/filtrations/2/RadialFiltration_12_51/gray/diagrams.npy\n",
      "Applying Scaler to persistence diagrams.\n",
      "Got the result from ./1/64/test/filtrations/2/RadialFiltration_12_51/gray/features.npy\n",
      "FiltrationExtractor: processing 1/64/test/filtrations/2/RadialFiltration_12_51/red, do_fit = False, filtration = RadialFiltration(center=array([12, 51]), n_jobs=-1)\n",
      "Got the result from ./1/64/test/filtrations/2/RadialFiltration_12_51/red/diagrams.npy\n",
      "Applying Scaler to persistence diagrams.\n",
      "Got the result from ./1/64/test/filtrations/2/RadialFiltration_12_51/red/features.npy\n",
      "FiltrationExtractor: processing 1/64/test/filtrations/2/RadialFiltration_12_51/green, do_fit = False, filtration = RadialFiltration(center=array([12, 51]), n_jobs=-1)\n",
      "Got the result from ./1/64/test/filtrations/2/RadialFiltration_12_51/green/diagrams.npy\n",
      "Applying Scaler to persistence diagrams.\n",
      "Got the result from ./1/64/test/filtrations/2/RadialFiltration_12_51/green/features.npy\n",
      "FiltrationExtractor: processing 1/64/test/filtrations/2/RadialFiltration_12_51/blue, do_fit = False, filtration = RadialFiltration(center=array([12, 51]), n_jobs=-1)\n",
      "Got the result from ./1/64/test/filtrations/2/RadialFiltration_12_51/blue/diagrams.npy\n",
      "Applying Scaler to persistence diagrams.\n",
      "Got the result from ./1/64/test/filtrations/2/RadialFiltration_12_51/blue/features.npy\n",
      "Applying filtration 13/72: RadialFiltration with c = (25, 12), bin. thr. = 0.2\n",
      "RGB images received. Transforming to grayscale.\n"
     ]
    },
    {
     "name": "stderr",
     "output_type": "stream",
     "text": [
      "rgb2gray: 100%|██████████| 3925/3925 [00:00<00:00, 9643.73it/s]\n"
     ]
    },
    {
     "name": "stdout",
     "output_type": "stream",
     "text": [
      "FiltrationExtractor: processing 1/64/test/filtrations/2/RadialFiltration_25_12/gray, do_fit = False, filtration = RadialFiltration(center=array([25, 12]), n_jobs=-1)\n",
      "Got the result from ./1/64/test/filtrations/2/RadialFiltration_25_12/gray/diagrams.npy\n",
      "Applying Scaler to persistence diagrams.\n",
      "Got the result from ./1/64/test/filtrations/2/RadialFiltration_25_12/gray/features.npy\n",
      "FiltrationExtractor: processing 1/64/test/filtrations/2/RadialFiltration_25_12/red, do_fit = False, filtration = RadialFiltration(center=array([25, 12]), n_jobs=-1)\n",
      "Got the result from ./1/64/test/filtrations/2/RadialFiltration_25_12/red/diagrams.npy\n",
      "Applying Scaler to persistence diagrams.\n",
      "Got the result from ./1/64/test/filtrations/2/RadialFiltration_25_12/red/features.npy\n",
      "FiltrationExtractor: processing 1/64/test/filtrations/2/RadialFiltration_25_12/green, do_fit = False, filtration = RadialFiltration(center=array([25, 12]), n_jobs=-1)\n",
      "Got the result from ./1/64/test/filtrations/2/RadialFiltration_25_12/green/diagrams.npy\n",
      "Applying Scaler to persistence diagrams.\n",
      "Got the result from ./1/64/test/filtrations/2/RadialFiltration_25_12/green/features.npy\n",
      "FiltrationExtractor: processing 1/64/test/filtrations/2/RadialFiltration_25_12/blue, do_fit = False, filtration = RadialFiltration(center=array([25, 12]), n_jobs=-1)\n",
      "Got the result from ./1/64/test/filtrations/2/RadialFiltration_25_12/blue/diagrams.npy\n",
      "Applying Scaler to persistence diagrams.\n",
      "Got the result from ./1/64/test/filtrations/2/RadialFiltration_25_12/blue/features.npy\n",
      "Applying filtration 14/72: RadialFiltration with c = (25, 25), bin. thr. = 0.2\n",
      "RGB images received. Transforming to grayscale.\n"
     ]
    },
    {
     "name": "stderr",
     "output_type": "stream",
     "text": [
      "rgb2gray: 100%|██████████| 3925/3925 [00:00<00:00, 10023.80it/s]\n"
     ]
    },
    {
     "name": "stdout",
     "output_type": "stream",
     "text": [
      "FiltrationExtractor: processing 1/64/test/filtrations/2/RadialFiltration_25_25/gray, do_fit = False, filtration = RadialFiltration(center=array([25, 25]), n_jobs=-1)\n",
      "Got the result from ./1/64/test/filtrations/2/RadialFiltration_25_25/gray/diagrams.npy\n",
      "Applying Scaler to persistence diagrams.\n",
      "Got the result from ./1/64/test/filtrations/2/RadialFiltration_25_25/gray/features.npy\n",
      "FiltrationExtractor: processing 1/64/test/filtrations/2/RadialFiltration_25_25/red, do_fit = False, filtration = RadialFiltration(center=array([25, 25]), n_jobs=-1)\n",
      "Got the result from ./1/64/test/filtrations/2/RadialFiltration_25_25/red/diagrams.npy\n",
      "Applying Scaler to persistence diagrams.\n",
      "Got the result from ./1/64/test/filtrations/2/RadialFiltration_25_25/red/features.npy\n",
      "FiltrationExtractor: processing 1/64/test/filtrations/2/RadialFiltration_25_25/green, do_fit = False, filtration = RadialFiltration(center=array([25, 25]), n_jobs=-1)\n",
      "Got the result from ./1/64/test/filtrations/2/RadialFiltration_25_25/green/diagrams.npy\n",
      "Applying Scaler to persistence diagrams.\n",
      "Got the result from ./1/64/test/filtrations/2/RadialFiltration_25_25/green/features.npy\n",
      "FiltrationExtractor: processing 1/64/test/filtrations/2/RadialFiltration_25_25/blue, do_fit = False, filtration = RadialFiltration(center=array([25, 25]), n_jobs=-1)\n",
      "Got the result from ./1/64/test/filtrations/2/RadialFiltration_25_25/blue/diagrams.npy\n",
      "Applying Scaler to persistence diagrams.\n",
      "Got the result from ./1/64/test/filtrations/2/RadialFiltration_25_25/blue/features.npy\n",
      "Applying filtration 15/72: RadialFiltration with c = (25, 38), bin. thr. = 0.2\n",
      "RGB images received. Transforming to grayscale.\n"
     ]
    },
    {
     "name": "stderr",
     "output_type": "stream",
     "text": [
      "rgb2gray: 100%|██████████| 3925/3925 [00:00<00:00, 10248.12it/s]\n"
     ]
    },
    {
     "name": "stdout",
     "output_type": "stream",
     "text": [
      "FiltrationExtractor: processing 1/64/test/filtrations/2/RadialFiltration_25_38/gray, do_fit = False, filtration = RadialFiltration(center=array([25, 38]), n_jobs=-1)\n",
      "Got the result from ./1/64/test/filtrations/2/RadialFiltration_25_38/gray/diagrams.npy\n",
      "Applying Scaler to persistence diagrams.\n",
      "Got the result from ./1/64/test/filtrations/2/RadialFiltration_25_38/gray/features.npy\n",
      "FiltrationExtractor: processing 1/64/test/filtrations/2/RadialFiltration_25_38/red, do_fit = False, filtration = RadialFiltration(center=array([25, 38]), n_jobs=-1)\n",
      "Got the result from ./1/64/test/filtrations/2/RadialFiltration_25_38/red/diagrams.npy\n",
      "Applying Scaler to persistence diagrams.\n",
      "Got the result from ./1/64/test/filtrations/2/RadialFiltration_25_38/red/features.npy\n",
      "FiltrationExtractor: processing 1/64/test/filtrations/2/RadialFiltration_25_38/green, do_fit = False, filtration = RadialFiltration(center=array([25, 38]), n_jobs=-1)\n",
      "Got the result from ./1/64/test/filtrations/2/RadialFiltration_25_38/green/diagrams.npy\n",
      "Applying Scaler to persistence diagrams.\n",
      "Got the result from ./1/64/test/filtrations/2/RadialFiltration_25_38/green/features.npy\n",
      "FiltrationExtractor: processing 1/64/test/filtrations/2/RadialFiltration_25_38/blue, do_fit = False, filtration = RadialFiltration(center=array([25, 38]), n_jobs=-1)\n",
      "Got the result from ./1/64/test/filtrations/2/RadialFiltration_25_38/blue/diagrams.npy\n",
      "Applying Scaler to persistence diagrams.\n",
      "Got the result from ./1/64/test/filtrations/2/RadialFiltration_25_38/blue/features.npy\n",
      "Applying filtration 16/72: RadialFiltration with c = (25, 51), bin. thr. = 0.2\n",
      "RGB images received. Transforming to grayscale.\n"
     ]
    },
    {
     "name": "stderr",
     "output_type": "stream",
     "text": [
      "rgb2gray: 100%|██████████| 3925/3925 [00:00<00:00, 9355.23it/s]\n"
     ]
    },
    {
     "name": "stdout",
     "output_type": "stream",
     "text": [
      "FiltrationExtractor: processing 1/64/test/filtrations/2/RadialFiltration_25_51/gray, do_fit = False, filtration = RadialFiltration(center=array([25, 51]), n_jobs=-1)\n",
      "Got the result from ./1/64/test/filtrations/2/RadialFiltration_25_51/gray/diagrams.npy\n",
      "Applying Scaler to persistence diagrams.\n",
      "Got the result from ./1/64/test/filtrations/2/RadialFiltration_25_51/gray/features.npy\n",
      "FiltrationExtractor: processing 1/64/test/filtrations/2/RadialFiltration_25_51/red, do_fit = False, filtration = RadialFiltration(center=array([25, 51]), n_jobs=-1)\n",
      "Got the result from ./1/64/test/filtrations/2/RadialFiltration_25_51/red/diagrams.npy\n",
      "Applying Scaler to persistence diagrams.\n",
      "Got the result from ./1/64/test/filtrations/2/RadialFiltration_25_51/red/features.npy\n",
      "FiltrationExtractor: processing 1/64/test/filtrations/2/RadialFiltration_25_51/green, do_fit = False, filtration = RadialFiltration(center=array([25, 51]), n_jobs=-1)\n",
      "Got the result from ./1/64/test/filtrations/2/RadialFiltration_25_51/green/diagrams.npy\n",
      "Applying Scaler to persistence diagrams.\n",
      "Got the result from ./1/64/test/filtrations/2/RadialFiltration_25_51/green/features.npy\n",
      "FiltrationExtractor: processing 1/64/test/filtrations/2/RadialFiltration_25_51/blue, do_fit = False, filtration = RadialFiltration(center=array([25, 51]), n_jobs=-1)\n",
      "Got the result from ./1/64/test/filtrations/2/RadialFiltration_25_51/blue/diagrams.npy\n",
      "Applying Scaler to persistence diagrams.\n",
      "Got the result from ./1/64/test/filtrations/2/RadialFiltration_25_51/blue/features.npy\n",
      "Applying filtration 17/72: RadialFiltration with c = (38, 12), bin. thr. = 0.2\n",
      "RGB images received. Transforming to grayscale.\n"
     ]
    },
    {
     "name": "stderr",
     "output_type": "stream",
     "text": [
      "rgb2gray: 100%|██████████| 3925/3925 [00:00<00:00, 9278.94it/s]\n"
     ]
    },
    {
     "name": "stdout",
     "output_type": "stream",
     "text": [
      "FiltrationExtractor: processing 1/64/test/filtrations/2/RadialFiltration_38_12/gray, do_fit = False, filtration = RadialFiltration(center=array([38, 12]), n_jobs=-1)\n",
      "Got the result from ./1/64/test/filtrations/2/RadialFiltration_38_12/gray/diagrams.npy\n",
      "Applying Scaler to persistence diagrams.\n",
      "Got the result from ./1/64/test/filtrations/2/RadialFiltration_38_12/gray/features.npy\n",
      "FiltrationExtractor: processing 1/64/test/filtrations/2/RadialFiltration_38_12/red, do_fit = False, filtration = RadialFiltration(center=array([38, 12]), n_jobs=-1)\n",
      "Got the result from ./1/64/test/filtrations/2/RadialFiltration_38_12/red/diagrams.npy\n",
      "Applying Scaler to persistence diagrams.\n",
      "Got the result from ./1/64/test/filtrations/2/RadialFiltration_38_12/red/features.npy\n",
      "FiltrationExtractor: processing 1/64/test/filtrations/2/RadialFiltration_38_12/green, do_fit = False, filtration = RadialFiltration(center=array([38, 12]), n_jobs=-1)\n",
      "Got the result from ./1/64/test/filtrations/2/RadialFiltration_38_12/green/diagrams.npy\n",
      "Applying Scaler to persistence diagrams.\n",
      "Got the result from ./1/64/test/filtrations/2/RadialFiltration_38_12/green/features.npy\n",
      "FiltrationExtractor: processing 1/64/test/filtrations/2/RadialFiltration_38_12/blue, do_fit = False, filtration = RadialFiltration(center=array([38, 12]), n_jobs=-1)\n",
      "Got the result from ./1/64/test/filtrations/2/RadialFiltration_38_12/blue/diagrams.npy\n",
      "Applying Scaler to persistence diagrams.\n",
      "Got the result from ./1/64/test/filtrations/2/RadialFiltration_38_12/blue/features.npy\n",
      "Applying filtration 18/72: RadialFiltration with c = (38, 25), bin. thr. = 0.2\n",
      "RGB images received. Transforming to grayscale.\n"
     ]
    },
    {
     "name": "stderr",
     "output_type": "stream",
     "text": [
      "rgb2gray: 100%|██████████| 3925/3925 [00:00<00:00, 7756.92it/s]\n"
     ]
    },
    {
     "name": "stdout",
     "output_type": "stream",
     "text": [
      "FiltrationExtractor: processing 1/64/test/filtrations/2/RadialFiltration_38_25/gray, do_fit = False, filtration = RadialFiltration(center=array([38, 25]), n_jobs=-1)\n",
      "Got the result from ./1/64/test/filtrations/2/RadialFiltration_38_25/gray/diagrams.npy\n",
      "Applying Scaler to persistence diagrams.\n",
      "Got the result from ./1/64/test/filtrations/2/RadialFiltration_38_25/gray/features.npy\n",
      "FiltrationExtractor: processing 1/64/test/filtrations/2/RadialFiltration_38_25/red, do_fit = False, filtration = RadialFiltration(center=array([38, 25]), n_jobs=-1)\n",
      "Got the result from ./1/64/test/filtrations/2/RadialFiltration_38_25/red/diagrams.npy\n",
      "Applying Scaler to persistence diagrams.\n",
      "Got the result from ./1/64/test/filtrations/2/RadialFiltration_38_25/red/features.npy\n",
      "FiltrationExtractor: processing 1/64/test/filtrations/2/RadialFiltration_38_25/green, do_fit = False, filtration = RadialFiltration(center=array([38, 25]), n_jobs=-1)\n",
      "Got the result from ./1/64/test/filtrations/2/RadialFiltration_38_25/green/diagrams.npy\n",
      "Applying Scaler to persistence diagrams.\n",
      "Got the result from ./1/64/test/filtrations/2/RadialFiltration_38_25/green/features.npy\n",
      "FiltrationExtractor: processing 1/64/test/filtrations/2/RadialFiltration_38_25/blue, do_fit = False, filtration = RadialFiltration(center=array([38, 25]), n_jobs=-1)\n",
      "Got the result from ./1/64/test/filtrations/2/RadialFiltration_38_25/blue/diagrams.npy\n",
      "Applying Scaler to persistence diagrams.\n",
      "Got the result from ./1/64/test/filtrations/2/RadialFiltration_38_25/blue/features.npy\n",
      "Applying filtration 19/72: RadialFiltration with c = (38, 38), bin. thr. = 0.2\n",
      "RGB images received. Transforming to grayscale.\n"
     ]
    },
    {
     "name": "stderr",
     "output_type": "stream",
     "text": [
      "rgb2gray: 100%|██████████| 3925/3925 [00:00<00:00, 7302.22it/s]\n"
     ]
    },
    {
     "name": "stdout",
     "output_type": "stream",
     "text": [
      "FiltrationExtractor: processing 1/64/test/filtrations/2/RadialFiltration_38_38/gray, do_fit = False, filtration = RadialFiltration(center=array([38, 38]), n_jobs=-1)\n",
      "Got the result from ./1/64/test/filtrations/2/RadialFiltration_38_38/gray/diagrams.npy\n",
      "Applying Scaler to persistence diagrams.\n",
      "Got the result from ./1/64/test/filtrations/2/RadialFiltration_38_38/gray/features.npy\n",
      "FiltrationExtractor: processing 1/64/test/filtrations/2/RadialFiltration_38_38/red, do_fit = False, filtration = RadialFiltration(center=array([38, 38]), n_jobs=-1)\n",
      "Got the result from ./1/64/test/filtrations/2/RadialFiltration_38_38/red/diagrams.npy\n",
      "Applying Scaler to persistence diagrams.\n",
      "Got the result from ./1/64/test/filtrations/2/RadialFiltration_38_38/red/features.npy\n",
      "FiltrationExtractor: processing 1/64/test/filtrations/2/RadialFiltration_38_38/green, do_fit = False, filtration = RadialFiltration(center=array([38, 38]), n_jobs=-1)\n",
      "Got the result from ./1/64/test/filtrations/2/RadialFiltration_38_38/green/diagrams.npy\n",
      "Applying Scaler to persistence diagrams.\n",
      "Got the result from ./1/64/test/filtrations/2/RadialFiltration_38_38/green/features.npy\n",
      "FiltrationExtractor: processing 1/64/test/filtrations/2/RadialFiltration_38_38/blue, do_fit = False, filtration = RadialFiltration(center=array([38, 38]), n_jobs=-1)\n",
      "Got the result from ./1/64/test/filtrations/2/RadialFiltration_38_38/blue/diagrams.npy\n",
      "Applying Scaler to persistence diagrams.\n",
      "Got the result from ./1/64/test/filtrations/2/RadialFiltration_38_38/blue/features.npy\n",
      "Applying filtration 20/72: RadialFiltration with c = (38, 51), bin. thr. = 0.2\n",
      "RGB images received. Transforming to grayscale.\n"
     ]
    },
    {
     "name": "stderr",
     "output_type": "stream",
     "text": [
      "rgb2gray: 100%|██████████| 3925/3925 [00:00<00:00, 8638.42it/s]\n"
     ]
    },
    {
     "name": "stdout",
     "output_type": "stream",
     "text": [
      "FiltrationExtractor: processing 1/64/test/filtrations/2/RadialFiltration_38_51/gray, do_fit = False, filtration = RadialFiltration(center=array([38, 51]), n_jobs=-1)\n",
      "Got the result from ./1/64/test/filtrations/2/RadialFiltration_38_51/gray/diagrams.npy\n",
      "Applying Scaler to persistence diagrams.\n",
      "Got the result from ./1/64/test/filtrations/2/RadialFiltration_38_51/gray/features.npy\n",
      "FiltrationExtractor: processing 1/64/test/filtrations/2/RadialFiltration_38_51/red, do_fit = False, filtration = RadialFiltration(center=array([38, 51]), n_jobs=-1)\n",
      "Got the result from ./1/64/test/filtrations/2/RadialFiltration_38_51/red/diagrams.npy\n",
      "Applying Scaler to persistence diagrams.\n",
      "Got the result from ./1/64/test/filtrations/2/RadialFiltration_38_51/red/features.npy\n",
      "FiltrationExtractor: processing 1/64/test/filtrations/2/RadialFiltration_38_51/green, do_fit = False, filtration = RadialFiltration(center=array([38, 51]), n_jobs=-1)\n",
      "Got the result from ./1/64/test/filtrations/2/RadialFiltration_38_51/green/diagrams.npy\n",
      "Applying Scaler to persistence diagrams.\n",
      "Got the result from ./1/64/test/filtrations/2/RadialFiltration_38_51/green/features.npy\n",
      "FiltrationExtractor: processing 1/64/test/filtrations/2/RadialFiltration_38_51/blue, do_fit = False, filtration = RadialFiltration(center=array([38, 51]), n_jobs=-1)\n",
      "Got the result from ./1/64/test/filtrations/2/RadialFiltration_38_51/blue/diagrams.npy\n",
      "Applying Scaler to persistence diagrams.\n",
      "Got the result from ./1/64/test/filtrations/2/RadialFiltration_38_51/blue/features.npy\n",
      "Applying filtration 21/72: RadialFiltration with c = (51, 12), bin. thr. = 0.2\n",
      "RGB images received. Transforming to grayscale.\n"
     ]
    },
    {
     "name": "stderr",
     "output_type": "stream",
     "text": [
      "rgb2gray: 100%|██████████| 3925/3925 [00:00<00:00, 9458.85it/s]\n"
     ]
    },
    {
     "name": "stdout",
     "output_type": "stream",
     "text": [
      "FiltrationExtractor: processing 1/64/test/filtrations/2/RadialFiltration_51_12/gray, do_fit = False, filtration = RadialFiltration(center=array([51, 12]), n_jobs=-1)\n",
      "Got the result from ./1/64/test/filtrations/2/RadialFiltration_51_12/gray/diagrams.npy\n",
      "Applying Scaler to persistence diagrams.\n",
      "Got the result from ./1/64/test/filtrations/2/RadialFiltration_51_12/gray/features.npy\n",
      "FiltrationExtractor: processing 1/64/test/filtrations/2/RadialFiltration_51_12/red, do_fit = False, filtration = RadialFiltration(center=array([51, 12]), n_jobs=-1)\n",
      "Got the result from ./1/64/test/filtrations/2/RadialFiltration_51_12/red/diagrams.npy\n",
      "Applying Scaler to persistence diagrams.\n",
      "Got the result from ./1/64/test/filtrations/2/RadialFiltration_51_12/red/features.npy\n",
      "FiltrationExtractor: processing 1/64/test/filtrations/2/RadialFiltration_51_12/green, do_fit = False, filtration = RadialFiltration(center=array([51, 12]), n_jobs=-1)\n",
      "Got the result from ./1/64/test/filtrations/2/RadialFiltration_51_12/green/diagrams.npy\n",
      "Applying Scaler to persistence diagrams.\n",
      "Got the result from ./1/64/test/filtrations/2/RadialFiltration_51_12/green/features.npy\n",
      "FiltrationExtractor: processing 1/64/test/filtrations/2/RadialFiltration_51_12/blue, do_fit = False, filtration = RadialFiltration(center=array([51, 12]), n_jobs=-1)\n",
      "Got the result from ./1/64/test/filtrations/2/RadialFiltration_51_12/blue/diagrams.npy\n",
      "Applying Scaler to persistence diagrams.\n",
      "Got the result from ./1/64/test/filtrations/2/RadialFiltration_51_12/blue/features.npy\n",
      "Applying filtration 22/72: RadialFiltration with c = (51, 25), bin. thr. = 0.2\n",
      "RGB images received. Transforming to grayscale.\n"
     ]
    },
    {
     "name": "stderr",
     "output_type": "stream",
     "text": [
      "rgb2gray: 100%|██████████| 3925/3925 [00:00<00:00, 7507.26it/s]\n"
     ]
    },
    {
     "name": "stdout",
     "output_type": "stream",
     "text": [
      "FiltrationExtractor: processing 1/64/test/filtrations/2/RadialFiltration_51_25/gray, do_fit = False, filtration = RadialFiltration(center=array([51, 25]), n_jobs=-1)\n",
      "Got the result from ./1/64/test/filtrations/2/RadialFiltration_51_25/gray/diagrams.npy\n",
      "Applying Scaler to persistence diagrams.\n",
      "Got the result from ./1/64/test/filtrations/2/RadialFiltration_51_25/gray/features.npy\n",
      "FiltrationExtractor: processing 1/64/test/filtrations/2/RadialFiltration_51_25/red, do_fit = False, filtration = RadialFiltration(center=array([51, 25]), n_jobs=-1)\n",
      "Got the result from ./1/64/test/filtrations/2/RadialFiltration_51_25/red/diagrams.npy\n",
      "Applying Scaler to persistence diagrams.\n",
      "Got the result from ./1/64/test/filtrations/2/RadialFiltration_51_25/red/features.npy\n",
      "FiltrationExtractor: processing 1/64/test/filtrations/2/RadialFiltration_51_25/green, do_fit = False, filtration = RadialFiltration(center=array([51, 25]), n_jobs=-1)\n",
      "Got the result from ./1/64/test/filtrations/2/RadialFiltration_51_25/green/diagrams.npy\n",
      "Applying Scaler to persistence diagrams.\n",
      "Got the result from ./1/64/test/filtrations/2/RadialFiltration_51_25/green/features.npy\n",
      "FiltrationExtractor: processing 1/64/test/filtrations/2/RadialFiltration_51_25/blue, do_fit = False, filtration = RadialFiltration(center=array([51, 25]), n_jobs=-1)\n",
      "Got the result from ./1/64/test/filtrations/2/RadialFiltration_51_25/blue/diagrams.npy\n",
      "Applying Scaler to persistence diagrams.\n",
      "Got the result from ./1/64/test/filtrations/2/RadialFiltration_51_25/blue/features.npy\n",
      "Applying filtration 23/72: RadialFiltration with c = (51, 38), bin. thr. = 0.2\n",
      "RGB images received. Transforming to grayscale.\n"
     ]
    },
    {
     "name": "stderr",
     "output_type": "stream",
     "text": [
      "rgb2gray: 100%|██████████| 3925/3925 [00:00<00:00, 8440.52it/s]\n"
     ]
    },
    {
     "name": "stdout",
     "output_type": "stream",
     "text": [
      "FiltrationExtractor: processing 1/64/test/filtrations/2/RadialFiltration_51_38/gray, do_fit = False, filtration = RadialFiltration(center=array([51, 38]), n_jobs=-1)\n",
      "Got the result from ./1/64/test/filtrations/2/RadialFiltration_51_38/gray/diagrams.npy\n",
      "Applying Scaler to persistence diagrams.\n",
      "Got the result from ./1/64/test/filtrations/2/RadialFiltration_51_38/gray/features.npy\n",
      "FiltrationExtractor: processing 1/64/test/filtrations/2/RadialFiltration_51_38/red, do_fit = False, filtration = RadialFiltration(center=array([51, 38]), n_jobs=-1)\n",
      "Got the result from ./1/64/test/filtrations/2/RadialFiltration_51_38/red/diagrams.npy\n",
      "Applying Scaler to persistence diagrams.\n",
      "Got the result from ./1/64/test/filtrations/2/RadialFiltration_51_38/red/features.npy\n",
      "FiltrationExtractor: processing 1/64/test/filtrations/2/RadialFiltration_51_38/green, do_fit = False, filtration = RadialFiltration(center=array([51, 38]), n_jobs=-1)\n",
      "Got the result from ./1/64/test/filtrations/2/RadialFiltration_51_38/green/diagrams.npy\n",
      "Applying Scaler to persistence diagrams.\n",
      "Got the result from ./1/64/test/filtrations/2/RadialFiltration_51_38/green/features.npy\n",
      "FiltrationExtractor: processing 1/64/test/filtrations/2/RadialFiltration_51_38/blue, do_fit = False, filtration = RadialFiltration(center=array([51, 38]), n_jobs=-1)\n",
      "Got the result from ./1/64/test/filtrations/2/RadialFiltration_51_38/blue/diagrams.npy\n",
      "Applying Scaler to persistence diagrams.\n",
      "Got the result from ./1/64/test/filtrations/2/RadialFiltration_51_38/blue/features.npy\n",
      "Applying filtration 24/72: RadialFiltration with c = (51, 51), bin. thr. = 0.2\n",
      "RGB images received. Transforming to grayscale.\n"
     ]
    },
    {
     "name": "stderr",
     "output_type": "stream",
     "text": [
      "rgb2gray: 100%|██████████| 3925/3925 [00:00<00:00, 9809.29it/s]\n"
     ]
    },
    {
     "name": "stdout",
     "output_type": "stream",
     "text": [
      "FiltrationExtractor: processing 1/64/test/filtrations/2/RadialFiltration_51_51/gray, do_fit = False, filtration = RadialFiltration(center=array([51, 51]), n_jobs=-1)\n",
      "Got the result from ./1/64/test/filtrations/2/RadialFiltration_51_51/gray/diagrams.npy\n",
      "Applying Scaler to persistence diagrams.\n",
      "Got the result from ./1/64/test/filtrations/2/RadialFiltration_51_51/gray/features.npy\n",
      "FiltrationExtractor: processing 1/64/test/filtrations/2/RadialFiltration_51_51/red, do_fit = False, filtration = RadialFiltration(center=array([51, 51]), n_jobs=-1)\n",
      "Got the result from ./1/64/test/filtrations/2/RadialFiltration_51_51/red/diagrams.npy\n",
      "Applying Scaler to persistence diagrams.\n",
      "Got the result from ./1/64/test/filtrations/2/RadialFiltration_51_51/red/features.npy\n",
      "FiltrationExtractor: processing 1/64/test/filtrations/2/RadialFiltration_51_51/green, do_fit = False, filtration = RadialFiltration(center=array([51, 51]), n_jobs=-1)\n",
      "Got the result from ./1/64/test/filtrations/2/RadialFiltration_51_51/green/diagrams.npy\n",
      "Applying Scaler to persistence diagrams.\n",
      "Got the result from ./1/64/test/filtrations/2/RadialFiltration_51_51/green/features.npy\n",
      "FiltrationExtractor: processing 1/64/test/filtrations/2/RadialFiltration_51_51/blue, do_fit = False, filtration = RadialFiltration(center=array([51, 51]), n_jobs=-1)\n",
      "Got the result from ./1/64/test/filtrations/2/RadialFiltration_51_51/blue/diagrams.npy\n",
      "Applying Scaler to persistence diagrams.\n",
      "Got the result from ./1/64/test/filtrations/2/RadialFiltration_51_51/blue/features.npy\n",
      "Applying filtration 25/72: HeightFiltration with d = (-1, -1), bin. thr. = 0.4\n",
      "RGB images received. Transforming to grayscale.\n"
     ]
    },
    {
     "name": "stderr",
     "output_type": "stream",
     "text": [
      "rgb2gray: 100%|██████████| 3925/3925 [00:00<00:00, 9650.28it/s]\n"
     ]
    },
    {
     "name": "stdout",
     "output_type": "stream",
     "text": [
      "FiltrationExtractor: processing 1/64/test/filtrations/4/HeightFiltrartion_-1_-1/gray, do_fit = False, filtration = HeightFiltration(direction=array([-1, -1]), n_jobs=-1)\n",
      "Got the result from ./1/64/test/filtrations/4/HeightFiltrartion_-1_-1/gray/diagrams.npy\n",
      "Applying Scaler to persistence diagrams.\n",
      "Got the result from ./1/64/test/filtrations/4/HeightFiltrartion_-1_-1/gray/features.npy\n",
      "FiltrationExtractor: processing 1/64/test/filtrations/4/HeightFiltrartion_-1_-1/red, do_fit = False, filtration = HeightFiltration(direction=array([-1, -1]), n_jobs=-1)\n",
      "Got the result from ./1/64/test/filtrations/4/HeightFiltrartion_-1_-1/red/diagrams.npy\n",
      "Applying Scaler to persistence diagrams.\n",
      "Got the result from ./1/64/test/filtrations/4/HeightFiltrartion_-1_-1/red/features.npy\n",
      "FiltrationExtractor: processing 1/64/test/filtrations/4/HeightFiltrartion_-1_-1/green, do_fit = False, filtration = HeightFiltration(direction=array([-1, -1]), n_jobs=-1)\n",
      "Got the result from ./1/64/test/filtrations/4/HeightFiltrartion_-1_-1/green/diagrams.npy\n",
      "Applying Scaler to persistence diagrams.\n",
      "Got the result from ./1/64/test/filtrations/4/HeightFiltrartion_-1_-1/green/features.npy\n",
      "FiltrationExtractor: processing 1/64/test/filtrations/4/HeightFiltrartion_-1_-1/blue, do_fit = False, filtration = HeightFiltration(direction=array([-1, -1]), n_jobs=-1)\n",
      "Got the result from ./1/64/test/filtrations/4/HeightFiltrartion_-1_-1/blue/diagrams.npy\n",
      "Applying Scaler to persistence diagrams.\n",
      "Got the result from ./1/64/test/filtrations/4/HeightFiltrartion_-1_-1/blue/features.npy\n",
      "Applying filtration 26/72: HeightFiltration with d = (-1, 0), bin. thr. = 0.4\n",
      "RGB images received. Transforming to grayscale.\n"
     ]
    },
    {
     "name": "stderr",
     "output_type": "stream",
     "text": [
      "rgb2gray: 100%|██████████| 3925/3925 [00:00<00:00, 9952.68it/s]\n"
     ]
    },
    {
     "name": "stdout",
     "output_type": "stream",
     "text": [
      "FiltrationExtractor: processing 1/64/test/filtrations/4/HeightFiltrartion_-1_0/gray, do_fit = False, filtration = HeightFiltration(direction=array([-1,  0]), n_jobs=-1)\n",
      "Got the result from ./1/64/test/filtrations/4/HeightFiltrartion_-1_0/gray/diagrams.npy\n",
      "Applying Scaler to persistence diagrams.\n",
      "Got the result from ./1/64/test/filtrations/4/HeightFiltrartion_-1_0/gray/features.npy\n",
      "FiltrationExtractor: processing 1/64/test/filtrations/4/HeightFiltrartion_-1_0/red, do_fit = False, filtration = HeightFiltration(direction=array([-1,  0]), n_jobs=-1)\n",
      "Got the result from ./1/64/test/filtrations/4/HeightFiltrartion_-1_0/red/diagrams.npy\n",
      "Applying Scaler to persistence diagrams.\n",
      "Got the result from ./1/64/test/filtrations/4/HeightFiltrartion_-1_0/red/features.npy\n",
      "FiltrationExtractor: processing 1/64/test/filtrations/4/HeightFiltrartion_-1_0/green, do_fit = False, filtration = HeightFiltration(direction=array([-1,  0]), n_jobs=-1)\n",
      "Got the result from ./1/64/test/filtrations/4/HeightFiltrartion_-1_0/green/diagrams.npy\n",
      "Applying Scaler to persistence diagrams.\n",
      "Got the result from ./1/64/test/filtrations/4/HeightFiltrartion_-1_0/green/features.npy\n",
      "FiltrationExtractor: processing 1/64/test/filtrations/4/HeightFiltrartion_-1_0/blue, do_fit = False, filtration = HeightFiltration(direction=array([-1,  0]), n_jobs=-1)\n",
      "Got the result from ./1/64/test/filtrations/4/HeightFiltrartion_-1_0/blue/diagrams.npy\n",
      "Applying Scaler to persistence diagrams.\n",
      "Got the result from ./1/64/test/filtrations/4/HeightFiltrartion_-1_0/blue/features.npy\n",
      "Applying filtration 27/72: HeightFiltration with d = (-1, 1), bin. thr. = 0.4\n",
      "RGB images received. Transforming to grayscale.\n"
     ]
    },
    {
     "name": "stderr",
     "output_type": "stream",
     "text": [
      "rgb2gray: 100%|██████████| 3925/3925 [00:00<00:00, 9626.20it/s]\n"
     ]
    },
    {
     "name": "stdout",
     "output_type": "stream",
     "text": [
      "FiltrationExtractor: processing 1/64/test/filtrations/4/HeightFiltrartion_-1_1/gray, do_fit = False, filtration = HeightFiltration(direction=array([-1,  1]), n_jobs=-1)\n",
      "Got the result from ./1/64/test/filtrations/4/HeightFiltrartion_-1_1/gray/diagrams.npy\n",
      "Applying Scaler to persistence diagrams.\n",
      "Got the result from ./1/64/test/filtrations/4/HeightFiltrartion_-1_1/gray/features.npy\n",
      "FiltrationExtractor: processing 1/64/test/filtrations/4/HeightFiltrartion_-1_1/red, do_fit = False, filtration = HeightFiltration(direction=array([-1,  1]), n_jobs=-1)\n",
      "Got the result from ./1/64/test/filtrations/4/HeightFiltrartion_-1_1/red/diagrams.npy\n",
      "Applying Scaler to persistence diagrams.\n",
      "Got the result from ./1/64/test/filtrations/4/HeightFiltrartion_-1_1/red/features.npy\n",
      "FiltrationExtractor: processing 1/64/test/filtrations/4/HeightFiltrartion_-1_1/green, do_fit = False, filtration = HeightFiltration(direction=array([-1,  1]), n_jobs=-1)\n",
      "Got the result from ./1/64/test/filtrations/4/HeightFiltrartion_-1_1/green/diagrams.npy\n",
      "Applying Scaler to persistence diagrams.\n",
      "Got the result from ./1/64/test/filtrations/4/HeightFiltrartion_-1_1/green/features.npy\n",
      "FiltrationExtractor: processing 1/64/test/filtrations/4/HeightFiltrartion_-1_1/blue, do_fit = False, filtration = HeightFiltration(direction=array([-1,  1]), n_jobs=-1)\n",
      "Got the result from ./1/64/test/filtrations/4/HeightFiltrartion_-1_1/blue/diagrams.npy\n",
      "Applying Scaler to persistence diagrams.\n",
      "Got the result from ./1/64/test/filtrations/4/HeightFiltrartion_-1_1/blue/features.npy\n",
      "Applying filtration 28/72: HeightFiltration with d = (0, -1), bin. thr. = 0.4\n",
      "RGB images received. Transforming to grayscale.\n"
     ]
    },
    {
     "name": "stderr",
     "output_type": "stream",
     "text": [
      "rgb2gray: 100%|██████████| 3925/3925 [00:00<00:00, 9602.17it/s]\n"
     ]
    },
    {
     "name": "stdout",
     "output_type": "stream",
     "text": [
      "FiltrationExtractor: processing 1/64/test/filtrations/4/HeightFiltrartion_0_-1/gray, do_fit = False, filtration = HeightFiltration(direction=array([ 0, -1]), n_jobs=-1)\n",
      "Got the result from ./1/64/test/filtrations/4/HeightFiltrartion_0_-1/gray/diagrams.npy\n",
      "Applying Scaler to persistence diagrams.\n",
      "Got the result from ./1/64/test/filtrations/4/HeightFiltrartion_0_-1/gray/features.npy\n",
      "FiltrationExtractor: processing 1/64/test/filtrations/4/HeightFiltrartion_0_-1/red, do_fit = False, filtration = HeightFiltration(direction=array([ 0, -1]), n_jobs=-1)\n",
      "Got the result from ./1/64/test/filtrations/4/HeightFiltrartion_0_-1/red/diagrams.npy\n",
      "Applying Scaler to persistence diagrams.\n",
      "Got the result from ./1/64/test/filtrations/4/HeightFiltrartion_0_-1/red/features.npy\n",
      "FiltrationExtractor: processing 1/64/test/filtrations/4/HeightFiltrartion_0_-1/green, do_fit = False, filtration = HeightFiltration(direction=array([ 0, -1]), n_jobs=-1)\n",
      "Got the result from ./1/64/test/filtrations/4/HeightFiltrartion_0_-1/green/diagrams.npy\n",
      "Applying Scaler to persistence diagrams.\n",
      "Got the result from ./1/64/test/filtrations/4/HeightFiltrartion_0_-1/green/features.npy\n",
      "FiltrationExtractor: processing 1/64/test/filtrations/4/HeightFiltrartion_0_-1/blue, do_fit = False, filtration = HeightFiltration(direction=array([ 0, -1]), n_jobs=-1)\n",
      "Got the result from ./1/64/test/filtrations/4/HeightFiltrartion_0_-1/blue/diagrams.npy\n",
      "Applying Scaler to persistence diagrams.\n",
      "Got the result from ./1/64/test/filtrations/4/HeightFiltrartion_0_-1/blue/features.npy\n",
      "Applying filtration 29/72: HeightFiltration with d = (0, 1), bin. thr. = 0.4\n",
      "RGB images received. Transforming to grayscale.\n"
     ]
    },
    {
     "name": "stderr",
     "output_type": "stream",
     "text": [
      "rgb2gray: 100%|██████████| 3925/3925 [00:00<00:00, 9932.09it/s]\n"
     ]
    },
    {
     "name": "stdout",
     "output_type": "stream",
     "text": [
      "FiltrationExtractor: processing 1/64/test/filtrations/4/HeightFiltrartion_0_1/gray, do_fit = False, filtration = HeightFiltration(direction=array([0, 1]), n_jobs=-1)\n",
      "Got the result from ./1/64/test/filtrations/4/HeightFiltrartion_0_1/gray/diagrams.npy\n",
      "Applying Scaler to persistence diagrams.\n",
      "Got the result from ./1/64/test/filtrations/4/HeightFiltrartion_0_1/gray/features.npy\n",
      "FiltrationExtractor: processing 1/64/test/filtrations/4/HeightFiltrartion_0_1/red, do_fit = False, filtration = HeightFiltration(direction=array([0, 1]), n_jobs=-1)\n",
      "Got the result from ./1/64/test/filtrations/4/HeightFiltrartion_0_1/red/diagrams.npy\n",
      "Applying Scaler to persistence diagrams.\n",
      "Got the result from ./1/64/test/filtrations/4/HeightFiltrartion_0_1/red/features.npy\n",
      "FiltrationExtractor: processing 1/64/test/filtrations/4/HeightFiltrartion_0_1/green, do_fit = False, filtration = HeightFiltration(direction=array([0, 1]), n_jobs=-1)\n",
      "Got the result from ./1/64/test/filtrations/4/HeightFiltrartion_0_1/green/diagrams.npy\n",
      "Applying Scaler to persistence diagrams.\n",
      "Got the result from ./1/64/test/filtrations/4/HeightFiltrartion_0_1/green/features.npy\n",
      "FiltrationExtractor: processing 1/64/test/filtrations/4/HeightFiltrartion_0_1/blue, do_fit = False, filtration = HeightFiltration(direction=array([0, 1]), n_jobs=-1)\n",
      "Got the result from ./1/64/test/filtrations/4/HeightFiltrartion_0_1/blue/diagrams.npy\n",
      "Applying Scaler to persistence diagrams.\n",
      "Got the result from ./1/64/test/filtrations/4/HeightFiltrartion_0_1/blue/features.npy\n",
      "Applying filtration 30/72: HeightFiltration with d = (1, -1), bin. thr. = 0.4\n",
      "RGB images received. Transforming to grayscale.\n"
     ]
    },
    {
     "name": "stderr",
     "output_type": "stream",
     "text": [
      "rgb2gray: 100%|██████████| 3925/3925 [00:00<00:00, 10424.32it/s]\n"
     ]
    },
    {
     "name": "stdout",
     "output_type": "stream",
     "text": [
      "FiltrationExtractor: processing 1/64/test/filtrations/4/HeightFiltrartion_1_-1/gray, do_fit = False, filtration = HeightFiltration(direction=array([ 1, -1]), n_jobs=-1)\n",
      "Got the result from ./1/64/test/filtrations/4/HeightFiltrartion_1_-1/gray/diagrams.npy\n",
      "Applying Scaler to persistence diagrams.\n",
      "Got the result from ./1/64/test/filtrations/4/HeightFiltrartion_1_-1/gray/features.npy\n",
      "FiltrationExtractor: processing 1/64/test/filtrations/4/HeightFiltrartion_1_-1/red, do_fit = False, filtration = HeightFiltration(direction=array([ 1, -1]), n_jobs=-1)\n",
      "Got the result from ./1/64/test/filtrations/4/HeightFiltrartion_1_-1/red/diagrams.npy\n",
      "Applying Scaler to persistence diagrams.\n",
      "Got the result from ./1/64/test/filtrations/4/HeightFiltrartion_1_-1/red/features.npy\n",
      "FiltrationExtractor: processing 1/64/test/filtrations/4/HeightFiltrartion_1_-1/green, do_fit = False, filtration = HeightFiltration(direction=array([ 1, -1]), n_jobs=-1)\n",
      "Got the result from ./1/64/test/filtrations/4/HeightFiltrartion_1_-1/green/diagrams.npy\n",
      "Applying Scaler to persistence diagrams.\n",
      "Got the result from ./1/64/test/filtrations/4/HeightFiltrartion_1_-1/green/features.npy\n",
      "FiltrationExtractor: processing 1/64/test/filtrations/4/HeightFiltrartion_1_-1/blue, do_fit = False, filtration = HeightFiltration(direction=array([ 1, -1]), n_jobs=-1)\n",
      "Got the result from ./1/64/test/filtrations/4/HeightFiltrartion_1_-1/blue/diagrams.npy\n",
      "Applying Scaler to persistence diagrams.\n",
      "Got the result from ./1/64/test/filtrations/4/HeightFiltrartion_1_-1/blue/features.npy\n",
      "Applying filtration 31/72: HeightFiltration with d = (1, 0), bin. thr. = 0.4\n",
      "RGB images received. Transforming to grayscale.\n"
     ]
    },
    {
     "name": "stderr",
     "output_type": "stream",
     "text": [
      "rgb2gray: 100%|██████████| 3925/3925 [00:00<00:00, 9861.33it/s]\n"
     ]
    },
    {
     "name": "stdout",
     "output_type": "stream",
     "text": [
      "FiltrationExtractor: processing 1/64/test/filtrations/4/HeightFiltrartion_1_0/gray, do_fit = False, filtration = HeightFiltration(direction=array([1, 0]), n_jobs=-1)\n",
      "Got the result from ./1/64/test/filtrations/4/HeightFiltrartion_1_0/gray/diagrams.npy\n",
      "Applying Scaler to persistence diagrams.\n",
      "Got the result from ./1/64/test/filtrations/4/HeightFiltrartion_1_0/gray/features.npy\n",
      "FiltrationExtractor: processing 1/64/test/filtrations/4/HeightFiltrartion_1_0/red, do_fit = False, filtration = HeightFiltration(direction=array([1, 0]), n_jobs=-1)\n",
      "Got the result from ./1/64/test/filtrations/4/HeightFiltrartion_1_0/red/diagrams.npy\n",
      "Applying Scaler to persistence diagrams.\n",
      "Got the result from ./1/64/test/filtrations/4/HeightFiltrartion_1_0/red/features.npy\n",
      "FiltrationExtractor: processing 1/64/test/filtrations/4/HeightFiltrartion_1_0/green, do_fit = False, filtration = HeightFiltration(direction=array([1, 0]), n_jobs=-1)\n",
      "Got the result from ./1/64/test/filtrations/4/HeightFiltrartion_1_0/green/diagrams.npy\n",
      "Applying Scaler to persistence diagrams.\n",
      "Got the result from ./1/64/test/filtrations/4/HeightFiltrartion_1_0/green/features.npy\n",
      "FiltrationExtractor: processing 1/64/test/filtrations/4/HeightFiltrartion_1_0/blue, do_fit = False, filtration = HeightFiltration(direction=array([1, 0]), n_jobs=-1)\n",
      "Got the result from ./1/64/test/filtrations/4/HeightFiltrartion_1_0/blue/diagrams.npy\n",
      "Applying Scaler to persistence diagrams.\n",
      "Got the result from ./1/64/test/filtrations/4/HeightFiltrartion_1_0/blue/features.npy\n",
      "Applying filtration 32/72: HeightFiltration with d = (1, 1), bin. thr. = 0.4\n",
      "RGB images received. Transforming to grayscale.\n"
     ]
    },
    {
     "name": "stderr",
     "output_type": "stream",
     "text": [
      "rgb2gray: 100%|██████████| 3925/3925 [00:00<00:00, 10076.43it/s]\n"
     ]
    },
    {
     "name": "stdout",
     "output_type": "stream",
     "text": [
      "FiltrationExtractor: processing 1/64/test/filtrations/4/HeightFiltrartion_1_1/gray, do_fit = False, filtration = HeightFiltration(direction=array([1, 1]), n_jobs=-1)\n",
      "Got the result from ./1/64/test/filtrations/4/HeightFiltrartion_1_1/gray/diagrams.npy\n",
      "Applying Scaler to persistence diagrams.\n",
      "Got the result from ./1/64/test/filtrations/4/HeightFiltrartion_1_1/gray/features.npy\n",
      "FiltrationExtractor: processing 1/64/test/filtrations/4/HeightFiltrartion_1_1/red, do_fit = False, filtration = HeightFiltration(direction=array([1, 1]), n_jobs=-1)\n",
      "Got the result from ./1/64/test/filtrations/4/HeightFiltrartion_1_1/red/diagrams.npy\n",
      "Applying Scaler to persistence diagrams.\n",
      "Got the result from ./1/64/test/filtrations/4/HeightFiltrartion_1_1/red/features.npy\n",
      "FiltrationExtractor: processing 1/64/test/filtrations/4/HeightFiltrartion_1_1/green, do_fit = False, filtration = HeightFiltration(direction=array([1, 1]), n_jobs=-1)\n",
      "Got the result from ./1/64/test/filtrations/4/HeightFiltrartion_1_1/green/diagrams.npy\n",
      "Applying Scaler to persistence diagrams.\n",
      "Got the result from ./1/64/test/filtrations/4/HeightFiltrartion_1_1/green/features.npy\n",
      "FiltrationExtractor: processing 1/64/test/filtrations/4/HeightFiltrartion_1_1/blue, do_fit = False, filtration = HeightFiltration(direction=array([1, 1]), n_jobs=-1)\n",
      "Got the result from ./1/64/test/filtrations/4/HeightFiltrartion_1_1/blue/diagrams.npy\n",
      "Applying Scaler to persistence diagrams.\n",
      "Got the result from ./1/64/test/filtrations/4/HeightFiltrartion_1_1/blue/features.npy\n",
      "Applying filtration 33/72: RadialFiltration with c = (12, 12), bin. thr. = 0.4\n",
      "RGB images received. Transforming to grayscale.\n"
     ]
    },
    {
     "name": "stderr",
     "output_type": "stream",
     "text": [
      "rgb2gray: 100%|██████████| 3925/3925 [00:00<00:00, 10737.52it/s]\n"
     ]
    },
    {
     "name": "stdout",
     "output_type": "stream",
     "text": [
      "FiltrationExtractor: processing 1/64/test/filtrations/4/RadialFiltration_12_12/gray, do_fit = False, filtration = RadialFiltration(center=array([12, 12]), n_jobs=-1)\n",
      "Got the result from ./1/64/test/filtrations/4/RadialFiltration_12_12/gray/diagrams.npy\n",
      "Applying Scaler to persistence diagrams.\n",
      "Got the result from ./1/64/test/filtrations/4/RadialFiltration_12_12/gray/features.npy\n",
      "FiltrationExtractor: processing 1/64/test/filtrations/4/RadialFiltration_12_12/red, do_fit = False, filtration = RadialFiltration(center=array([12, 12]), n_jobs=-1)\n",
      "Got the result from ./1/64/test/filtrations/4/RadialFiltration_12_12/red/diagrams.npy\n",
      "Applying Scaler to persistence diagrams.\n",
      "Got the result from ./1/64/test/filtrations/4/RadialFiltration_12_12/red/features.npy\n",
      "FiltrationExtractor: processing 1/64/test/filtrations/4/RadialFiltration_12_12/green, do_fit = False, filtration = RadialFiltration(center=array([12, 12]), n_jobs=-1)\n",
      "Got the result from ./1/64/test/filtrations/4/RadialFiltration_12_12/green/diagrams.npy\n",
      "Applying Scaler to persistence diagrams.\n",
      "Got the result from ./1/64/test/filtrations/4/RadialFiltration_12_12/green/features.npy\n",
      "FiltrationExtractor: processing 1/64/test/filtrations/4/RadialFiltration_12_12/blue, do_fit = False, filtration = RadialFiltration(center=array([12, 12]), n_jobs=-1)\n",
      "Got the result from ./1/64/test/filtrations/4/RadialFiltration_12_12/blue/diagrams.npy\n",
      "Applying Scaler to persistence diagrams.\n",
      "Got the result from ./1/64/test/filtrations/4/RadialFiltration_12_12/blue/features.npy\n",
      "Applying filtration 34/72: RadialFiltration with c = (12, 25), bin. thr. = 0.4\n",
      "RGB images received. Transforming to grayscale.\n"
     ]
    },
    {
     "name": "stderr",
     "output_type": "stream",
     "text": [
      "rgb2gray: 100%|██████████| 3925/3925 [00:00<00:00, 10384.10it/s]\n"
     ]
    },
    {
     "name": "stdout",
     "output_type": "stream",
     "text": [
      "FiltrationExtractor: processing 1/64/test/filtrations/4/RadialFiltration_12_25/gray, do_fit = False, filtration = RadialFiltration(center=array([12, 25]), n_jobs=-1)\n",
      "Got the result from ./1/64/test/filtrations/4/RadialFiltration_12_25/gray/diagrams.npy\n",
      "Applying Scaler to persistence diagrams.\n",
      "Got the result from ./1/64/test/filtrations/4/RadialFiltration_12_25/gray/features.npy\n",
      "FiltrationExtractor: processing 1/64/test/filtrations/4/RadialFiltration_12_25/red, do_fit = False, filtration = RadialFiltration(center=array([12, 25]), n_jobs=-1)\n",
      "Got the result from ./1/64/test/filtrations/4/RadialFiltration_12_25/red/diagrams.npy\n",
      "Applying Scaler to persistence diagrams.\n",
      "Got the result from ./1/64/test/filtrations/4/RadialFiltration_12_25/red/features.npy\n",
      "FiltrationExtractor: processing 1/64/test/filtrations/4/RadialFiltration_12_25/green, do_fit = False, filtration = RadialFiltration(center=array([12, 25]), n_jobs=-1)\n",
      "Got the result from ./1/64/test/filtrations/4/RadialFiltration_12_25/green/diagrams.npy\n",
      "Applying Scaler to persistence diagrams.\n",
      "Got the result from ./1/64/test/filtrations/4/RadialFiltration_12_25/green/features.npy\n",
      "FiltrationExtractor: processing 1/64/test/filtrations/4/RadialFiltration_12_25/blue, do_fit = False, filtration = RadialFiltration(center=array([12, 25]), n_jobs=-1)\n",
      "Got the result from ./1/64/test/filtrations/4/RadialFiltration_12_25/blue/diagrams.npy\n",
      "Applying Scaler to persistence diagrams.\n",
      "Got the result from ./1/64/test/filtrations/4/RadialFiltration_12_25/blue/features.npy\n",
      "Applying filtration 35/72: RadialFiltration with c = (12, 38), bin. thr. = 0.4\n",
      "RGB images received. Transforming to grayscale.\n"
     ]
    },
    {
     "name": "stderr",
     "output_type": "stream",
     "text": [
      "rgb2gray: 100%|██████████| 3925/3925 [00:00<00:00, 9447.90it/s]\n"
     ]
    },
    {
     "name": "stdout",
     "output_type": "stream",
     "text": [
      "FiltrationExtractor: processing 1/64/test/filtrations/4/RadialFiltration_12_38/gray, do_fit = False, filtration = RadialFiltration(center=array([12, 38]), n_jobs=-1)\n",
      "Got the result from ./1/64/test/filtrations/4/RadialFiltration_12_38/gray/diagrams.npy\n",
      "Applying Scaler to persistence diagrams.\n",
      "Got the result from ./1/64/test/filtrations/4/RadialFiltration_12_38/gray/features.npy\n",
      "FiltrationExtractor: processing 1/64/test/filtrations/4/RadialFiltration_12_38/red, do_fit = False, filtration = RadialFiltration(center=array([12, 38]), n_jobs=-1)\n",
      "Got the result from ./1/64/test/filtrations/4/RadialFiltration_12_38/red/diagrams.npy\n",
      "Applying Scaler to persistence diagrams.\n",
      "Got the result from ./1/64/test/filtrations/4/RadialFiltration_12_38/red/features.npy\n",
      "FiltrationExtractor: processing 1/64/test/filtrations/4/RadialFiltration_12_38/green, do_fit = False, filtration = RadialFiltration(center=array([12, 38]), n_jobs=-1)\n",
      "Got the result from ./1/64/test/filtrations/4/RadialFiltration_12_38/green/diagrams.npy\n",
      "Applying Scaler to persistence diagrams.\n",
      "Got the result from ./1/64/test/filtrations/4/RadialFiltration_12_38/green/features.npy\n",
      "FiltrationExtractor: processing 1/64/test/filtrations/4/RadialFiltration_12_38/blue, do_fit = False, filtration = RadialFiltration(center=array([12, 38]), n_jobs=-1)\n",
      "Got the result from ./1/64/test/filtrations/4/RadialFiltration_12_38/blue/diagrams.npy\n",
      "Applying Scaler to persistence diagrams.\n",
      "Got the result from ./1/64/test/filtrations/4/RadialFiltration_12_38/blue/features.npy\n",
      "Applying filtration 36/72: RadialFiltration with c = (12, 51), bin. thr. = 0.4\n",
      "RGB images received. Transforming to grayscale.\n"
     ]
    },
    {
     "name": "stderr",
     "output_type": "stream",
     "text": [
      "rgb2gray: 100%|██████████| 3925/3925 [00:00<00:00, 9835.18it/s]\n"
     ]
    },
    {
     "name": "stdout",
     "output_type": "stream",
     "text": [
      "FiltrationExtractor: processing 1/64/test/filtrations/4/RadialFiltration_12_51/gray, do_fit = False, filtration = RadialFiltration(center=array([12, 51]), n_jobs=-1)\n",
      "Got the result from ./1/64/test/filtrations/4/RadialFiltration_12_51/gray/diagrams.npy\n",
      "Applying Scaler to persistence diagrams.\n",
      "Got the result from ./1/64/test/filtrations/4/RadialFiltration_12_51/gray/features.npy\n",
      "FiltrationExtractor: processing 1/64/test/filtrations/4/RadialFiltration_12_51/red, do_fit = False, filtration = RadialFiltration(center=array([12, 51]), n_jobs=-1)\n",
      "Got the result from ./1/64/test/filtrations/4/RadialFiltration_12_51/red/diagrams.npy\n",
      "Applying Scaler to persistence diagrams.\n",
      "Got the result from ./1/64/test/filtrations/4/RadialFiltration_12_51/red/features.npy\n",
      "FiltrationExtractor: processing 1/64/test/filtrations/4/RadialFiltration_12_51/green, do_fit = False, filtration = RadialFiltration(center=array([12, 51]), n_jobs=-1)\n",
      "Got the result from ./1/64/test/filtrations/4/RadialFiltration_12_51/green/diagrams.npy\n",
      "Applying Scaler to persistence diagrams.\n",
      "Got the result from ./1/64/test/filtrations/4/RadialFiltration_12_51/green/features.npy\n",
      "FiltrationExtractor: processing 1/64/test/filtrations/4/RadialFiltration_12_51/blue, do_fit = False, filtration = RadialFiltration(center=array([12, 51]), n_jobs=-1)\n",
      "Got the result from ./1/64/test/filtrations/4/RadialFiltration_12_51/blue/diagrams.npy\n",
      "Applying Scaler to persistence diagrams.\n",
      "Got the result from ./1/64/test/filtrations/4/RadialFiltration_12_51/blue/features.npy\n",
      "Applying filtration 37/72: RadialFiltration with c = (25, 12), bin. thr. = 0.4\n",
      "RGB images received. Transforming to grayscale.\n"
     ]
    },
    {
     "name": "stderr",
     "output_type": "stream",
     "text": [
      "rgb2gray: 100%|██████████| 3925/3925 [00:00<00:00, 10304.83it/s]\n"
     ]
    },
    {
     "name": "stdout",
     "output_type": "stream",
     "text": [
      "FiltrationExtractor: processing 1/64/test/filtrations/4/RadialFiltration_25_12/gray, do_fit = False, filtration = RadialFiltration(center=array([25, 12]), n_jobs=-1)\n",
      "Got the result from ./1/64/test/filtrations/4/RadialFiltration_25_12/gray/diagrams.npy\n",
      "Applying Scaler to persistence diagrams.\n",
      "Got the result from ./1/64/test/filtrations/4/RadialFiltration_25_12/gray/features.npy\n",
      "FiltrationExtractor: processing 1/64/test/filtrations/4/RadialFiltration_25_12/red, do_fit = False, filtration = RadialFiltration(center=array([25, 12]), n_jobs=-1)\n",
      "Got the result from ./1/64/test/filtrations/4/RadialFiltration_25_12/red/diagrams.npy\n",
      "Applying Scaler to persistence diagrams.\n",
      "Got the result from ./1/64/test/filtrations/4/RadialFiltration_25_12/red/features.npy\n",
      "FiltrationExtractor: processing 1/64/test/filtrations/4/RadialFiltration_25_12/green, do_fit = False, filtration = RadialFiltration(center=array([25, 12]), n_jobs=-1)\n",
      "Got the result from ./1/64/test/filtrations/4/RadialFiltration_25_12/green/diagrams.npy\n",
      "Applying Scaler to persistence diagrams.\n",
      "Got the result from ./1/64/test/filtrations/4/RadialFiltration_25_12/green/features.npy\n",
      "FiltrationExtractor: processing 1/64/test/filtrations/4/RadialFiltration_25_12/blue, do_fit = False, filtration = RadialFiltration(center=array([25, 12]), n_jobs=-1)\n",
      "Got the result from ./1/64/test/filtrations/4/RadialFiltration_25_12/blue/diagrams.npy\n",
      "Applying Scaler to persistence diagrams.\n",
      "Got the result from ./1/64/test/filtrations/4/RadialFiltration_25_12/blue/features.npy\n",
      "Applying filtration 38/72: RadialFiltration with c = (25, 25), bin. thr. = 0.4\n",
      "RGB images received. Transforming to grayscale.\n"
     ]
    },
    {
     "name": "stderr",
     "output_type": "stream",
     "text": [
      "rgb2gray: 100%|██████████| 3925/3925 [00:00<00:00, 9346.87it/s]\n"
     ]
    },
    {
     "name": "stdout",
     "output_type": "stream",
     "text": [
      "FiltrationExtractor: processing 1/64/test/filtrations/4/RadialFiltration_25_25/gray, do_fit = False, filtration = RadialFiltration(center=array([25, 25]), n_jobs=-1)\n",
      "Got the result from ./1/64/test/filtrations/4/RadialFiltration_25_25/gray/diagrams.npy\n",
      "Applying Scaler to persistence diagrams.\n",
      "Got the result from ./1/64/test/filtrations/4/RadialFiltration_25_25/gray/features.npy\n",
      "FiltrationExtractor: processing 1/64/test/filtrations/4/RadialFiltration_25_25/red, do_fit = False, filtration = RadialFiltration(center=array([25, 25]), n_jobs=-1)\n",
      "Got the result from ./1/64/test/filtrations/4/RadialFiltration_25_25/red/diagrams.npy\n",
      "Applying Scaler to persistence diagrams.\n",
      "Got the result from ./1/64/test/filtrations/4/RadialFiltration_25_25/red/features.npy\n",
      "FiltrationExtractor: processing 1/64/test/filtrations/4/RadialFiltration_25_25/green, do_fit = False, filtration = RadialFiltration(center=array([25, 25]), n_jobs=-1)\n",
      "Got the result from ./1/64/test/filtrations/4/RadialFiltration_25_25/green/diagrams.npy\n",
      "Applying Scaler to persistence diagrams.\n",
      "Got the result from ./1/64/test/filtrations/4/RadialFiltration_25_25/green/features.npy\n",
      "FiltrationExtractor: processing 1/64/test/filtrations/4/RadialFiltration_25_25/blue, do_fit = False, filtration = RadialFiltration(center=array([25, 25]), n_jobs=-1)\n",
      "Got the result from ./1/64/test/filtrations/4/RadialFiltration_25_25/blue/diagrams.npy\n",
      "Applying Scaler to persistence diagrams.\n",
      "Got the result from ./1/64/test/filtrations/4/RadialFiltration_25_25/blue/features.npy\n",
      "Applying filtration 39/72: RadialFiltration with c = (25, 38), bin. thr. = 0.4\n",
      "RGB images received. Transforming to grayscale.\n"
     ]
    },
    {
     "name": "stderr",
     "output_type": "stream",
     "text": [
      "rgb2gray: 100%|██████████| 3925/3925 [00:00<00:00, 7815.10it/s]\n"
     ]
    },
    {
     "name": "stdout",
     "output_type": "stream",
     "text": [
      "FiltrationExtractor: processing 1/64/test/filtrations/4/RadialFiltration_25_38/gray, do_fit = False, filtration = RadialFiltration(center=array([25, 38]), n_jobs=-1)\n",
      "Got the result from ./1/64/test/filtrations/4/RadialFiltration_25_38/gray/diagrams.npy\n",
      "Applying Scaler to persistence diagrams.\n",
      "Got the result from ./1/64/test/filtrations/4/RadialFiltration_25_38/gray/features.npy\n",
      "FiltrationExtractor: processing 1/64/test/filtrations/4/RadialFiltration_25_38/red, do_fit = False, filtration = RadialFiltration(center=array([25, 38]), n_jobs=-1)\n",
      "Got the result from ./1/64/test/filtrations/4/RadialFiltration_25_38/red/diagrams.npy\n",
      "Applying Scaler to persistence diagrams.\n",
      "Got the result from ./1/64/test/filtrations/4/RadialFiltration_25_38/red/features.npy\n",
      "FiltrationExtractor: processing 1/64/test/filtrations/4/RadialFiltration_25_38/green, do_fit = False, filtration = RadialFiltration(center=array([25, 38]), n_jobs=-1)\n",
      "Got the result from ./1/64/test/filtrations/4/RadialFiltration_25_38/green/diagrams.npy\n",
      "Applying Scaler to persistence diagrams.\n",
      "Got the result from ./1/64/test/filtrations/4/RadialFiltration_25_38/green/features.npy\n",
      "FiltrationExtractor: processing 1/64/test/filtrations/4/RadialFiltration_25_38/blue, do_fit = False, filtration = RadialFiltration(center=array([25, 38]), n_jobs=-1)\n",
      "Got the result from ./1/64/test/filtrations/4/RadialFiltration_25_38/blue/diagrams.npy\n",
      "Applying Scaler to persistence diagrams.\n",
      "Got the result from ./1/64/test/filtrations/4/RadialFiltration_25_38/blue/features.npy\n",
      "Applying filtration 40/72: RadialFiltration with c = (25, 51), bin. thr. = 0.4\n",
      "RGB images received. Transforming to grayscale.\n"
     ]
    },
    {
     "name": "stderr",
     "output_type": "stream",
     "text": [
      "rgb2gray: 100%|██████████| 3925/3925 [00:00<00:00, 8383.36it/s]\n"
     ]
    },
    {
     "name": "stdout",
     "output_type": "stream",
     "text": [
      "FiltrationExtractor: processing 1/64/test/filtrations/4/RadialFiltration_25_51/gray, do_fit = False, filtration = RadialFiltration(center=array([25, 51]), n_jobs=-1)\n",
      "Got the result from ./1/64/test/filtrations/4/RadialFiltration_25_51/gray/diagrams.npy\n",
      "Applying Scaler to persistence diagrams.\n",
      "Got the result from ./1/64/test/filtrations/4/RadialFiltration_25_51/gray/features.npy\n",
      "FiltrationExtractor: processing 1/64/test/filtrations/4/RadialFiltration_25_51/red, do_fit = False, filtration = RadialFiltration(center=array([25, 51]), n_jobs=-1)\n",
      "Got the result from ./1/64/test/filtrations/4/RadialFiltration_25_51/red/diagrams.npy\n",
      "Applying Scaler to persistence diagrams.\n",
      "Got the result from ./1/64/test/filtrations/4/RadialFiltration_25_51/red/features.npy\n",
      "FiltrationExtractor: processing 1/64/test/filtrations/4/RadialFiltration_25_51/green, do_fit = False, filtration = RadialFiltration(center=array([25, 51]), n_jobs=-1)\n",
      "Got the result from ./1/64/test/filtrations/4/RadialFiltration_25_51/green/diagrams.npy\n",
      "Applying Scaler to persistence diagrams.\n",
      "Got the result from ./1/64/test/filtrations/4/RadialFiltration_25_51/green/features.npy\n",
      "FiltrationExtractor: processing 1/64/test/filtrations/4/RadialFiltration_25_51/blue, do_fit = False, filtration = RadialFiltration(center=array([25, 51]), n_jobs=-1)\n",
      "Got the result from ./1/64/test/filtrations/4/RadialFiltration_25_51/blue/diagrams.npy\n",
      "Applying Scaler to persistence diagrams.\n",
      "Got the result from ./1/64/test/filtrations/4/RadialFiltration_25_51/blue/features.npy\n",
      "Applying filtration 41/72: RadialFiltration with c = (38, 12), bin. thr. = 0.4\n",
      "RGB images received. Transforming to grayscale.\n"
     ]
    },
    {
     "name": "stderr",
     "output_type": "stream",
     "text": [
      "rgb2gray: 100%|██████████| 3925/3925 [00:00<00:00, 9353.63it/s]\n"
     ]
    },
    {
     "name": "stdout",
     "output_type": "stream",
     "text": [
      "FiltrationExtractor: processing 1/64/test/filtrations/4/RadialFiltration_38_12/gray, do_fit = False, filtration = RadialFiltration(center=array([38, 12]), n_jobs=-1)\n",
      "Got the result from ./1/64/test/filtrations/4/RadialFiltration_38_12/gray/diagrams.npy\n",
      "Applying Scaler to persistence diagrams.\n",
      "Got the result from ./1/64/test/filtrations/4/RadialFiltration_38_12/gray/features.npy\n",
      "FiltrationExtractor: processing 1/64/test/filtrations/4/RadialFiltration_38_12/red, do_fit = False, filtration = RadialFiltration(center=array([38, 12]), n_jobs=-1)\n",
      "Got the result from ./1/64/test/filtrations/4/RadialFiltration_38_12/red/diagrams.npy\n",
      "Applying Scaler to persistence diagrams.\n",
      "Got the result from ./1/64/test/filtrations/4/RadialFiltration_38_12/red/features.npy\n",
      "FiltrationExtractor: processing 1/64/test/filtrations/4/RadialFiltration_38_12/green, do_fit = False, filtration = RadialFiltration(center=array([38, 12]), n_jobs=-1)\n",
      "Got the result from ./1/64/test/filtrations/4/RadialFiltration_38_12/green/diagrams.npy\n",
      "Applying Scaler to persistence diagrams.\n",
      "Got the result from ./1/64/test/filtrations/4/RadialFiltration_38_12/green/features.npy\n",
      "FiltrationExtractor: processing 1/64/test/filtrations/4/RadialFiltration_38_12/blue, do_fit = False, filtration = RadialFiltration(center=array([38, 12]), n_jobs=-1)\n",
      "Got the result from ./1/64/test/filtrations/4/RadialFiltration_38_12/blue/diagrams.npy\n",
      "Applying Scaler to persistence diagrams.\n",
      "Got the result from ./1/64/test/filtrations/4/RadialFiltration_38_12/blue/features.npy\n",
      "Applying filtration 42/72: RadialFiltration with c = (38, 25), bin. thr. = 0.4\n",
      "RGB images received. Transforming to grayscale.\n"
     ]
    },
    {
     "name": "stderr",
     "output_type": "stream",
     "text": [
      "rgb2gray: 100%|██████████| 3925/3925 [00:00<00:00, 9955.51it/s]\n"
     ]
    },
    {
     "name": "stdout",
     "output_type": "stream",
     "text": [
      "FiltrationExtractor: processing 1/64/test/filtrations/4/RadialFiltration_38_25/gray, do_fit = False, filtration = RadialFiltration(center=array([38, 25]), n_jobs=-1)\n",
      "Got the result from ./1/64/test/filtrations/4/RadialFiltration_38_25/gray/diagrams.npy\n",
      "Applying Scaler to persistence diagrams.\n",
      "Got the result from ./1/64/test/filtrations/4/RadialFiltration_38_25/gray/features.npy\n",
      "FiltrationExtractor: processing 1/64/test/filtrations/4/RadialFiltration_38_25/red, do_fit = False, filtration = RadialFiltration(center=array([38, 25]), n_jobs=-1)\n",
      "Got the result from ./1/64/test/filtrations/4/RadialFiltration_38_25/red/diagrams.npy\n",
      "Applying Scaler to persistence diagrams.\n",
      "Got the result from ./1/64/test/filtrations/4/RadialFiltration_38_25/red/features.npy\n",
      "FiltrationExtractor: processing 1/64/test/filtrations/4/RadialFiltration_38_25/green, do_fit = False, filtration = RadialFiltration(center=array([38, 25]), n_jobs=-1)\n",
      "Got the result from ./1/64/test/filtrations/4/RadialFiltration_38_25/green/diagrams.npy\n",
      "Applying Scaler to persistence diagrams.\n",
      "Got the result from ./1/64/test/filtrations/4/RadialFiltration_38_25/green/features.npy\n",
      "FiltrationExtractor: processing 1/64/test/filtrations/4/RadialFiltration_38_25/blue, do_fit = False, filtration = RadialFiltration(center=array([38, 25]), n_jobs=-1)\n",
      "Got the result from ./1/64/test/filtrations/4/RadialFiltration_38_25/blue/diagrams.npy\n",
      "Applying Scaler to persistence diagrams.\n",
      "Got the result from ./1/64/test/filtrations/4/RadialFiltration_38_25/blue/features.npy\n",
      "Applying filtration 43/72: RadialFiltration with c = (38, 38), bin. thr. = 0.4\n",
      "RGB images received. Transforming to grayscale.\n"
     ]
    },
    {
     "name": "stderr",
     "output_type": "stream",
     "text": [
      "rgb2gray: 100%|██████████| 3925/3925 [00:00<00:00, 10102.69it/s]\n"
     ]
    },
    {
     "name": "stdout",
     "output_type": "stream",
     "text": [
      "FiltrationExtractor: processing 1/64/test/filtrations/4/RadialFiltration_38_38/gray, do_fit = False, filtration = RadialFiltration(center=array([38, 38]), n_jobs=-1)\n",
      "Got the result from ./1/64/test/filtrations/4/RadialFiltration_38_38/gray/diagrams.npy\n",
      "Applying Scaler to persistence diagrams.\n",
      "Got the result from ./1/64/test/filtrations/4/RadialFiltration_38_38/gray/features.npy\n",
      "FiltrationExtractor: processing 1/64/test/filtrations/4/RadialFiltration_38_38/red, do_fit = False, filtration = RadialFiltration(center=array([38, 38]), n_jobs=-1)\n",
      "Got the result from ./1/64/test/filtrations/4/RadialFiltration_38_38/red/diagrams.npy\n",
      "Applying Scaler to persistence diagrams.\n",
      "Got the result from ./1/64/test/filtrations/4/RadialFiltration_38_38/red/features.npy\n",
      "FiltrationExtractor: processing 1/64/test/filtrations/4/RadialFiltration_38_38/green, do_fit = False, filtration = RadialFiltration(center=array([38, 38]), n_jobs=-1)\n",
      "Got the result from ./1/64/test/filtrations/4/RadialFiltration_38_38/green/diagrams.npy\n",
      "Applying Scaler to persistence diagrams.\n",
      "Got the result from ./1/64/test/filtrations/4/RadialFiltration_38_38/green/features.npy\n",
      "FiltrationExtractor: processing 1/64/test/filtrations/4/RadialFiltration_38_38/blue, do_fit = False, filtration = RadialFiltration(center=array([38, 38]), n_jobs=-1)\n",
      "Got the result from ./1/64/test/filtrations/4/RadialFiltration_38_38/blue/diagrams.npy\n",
      "Applying Scaler to persistence diagrams.\n",
      "Got the result from ./1/64/test/filtrations/4/RadialFiltration_38_38/blue/features.npy\n",
      "Applying filtration 44/72: RadialFiltration with c = (38, 51), bin. thr. = 0.4\n",
      "RGB images received. Transforming to grayscale.\n"
     ]
    },
    {
     "name": "stderr",
     "output_type": "stream",
     "text": [
      "rgb2gray: 100%|██████████| 3925/3925 [00:00<00:00, 10252.18it/s]\n"
     ]
    },
    {
     "name": "stdout",
     "output_type": "stream",
     "text": [
      "FiltrationExtractor: processing 1/64/test/filtrations/4/RadialFiltration_38_51/gray, do_fit = False, filtration = RadialFiltration(center=array([38, 51]), n_jobs=-1)\n",
      "Got the result from ./1/64/test/filtrations/4/RadialFiltration_38_51/gray/diagrams.npy\n",
      "Applying Scaler to persistence diagrams.\n",
      "Got the result from ./1/64/test/filtrations/4/RadialFiltration_38_51/gray/features.npy\n",
      "FiltrationExtractor: processing 1/64/test/filtrations/4/RadialFiltration_38_51/red, do_fit = False, filtration = RadialFiltration(center=array([38, 51]), n_jobs=-1)\n",
      "Got the result from ./1/64/test/filtrations/4/RadialFiltration_38_51/red/diagrams.npy\n",
      "Applying Scaler to persistence diagrams.\n",
      "Got the result from ./1/64/test/filtrations/4/RadialFiltration_38_51/red/features.npy\n",
      "FiltrationExtractor: processing 1/64/test/filtrations/4/RadialFiltration_38_51/green, do_fit = False, filtration = RadialFiltration(center=array([38, 51]), n_jobs=-1)\n",
      "Got the result from ./1/64/test/filtrations/4/RadialFiltration_38_51/green/diagrams.npy\n",
      "Applying Scaler to persistence diagrams.\n",
      "Got the result from ./1/64/test/filtrations/4/RadialFiltration_38_51/green/features.npy\n",
      "FiltrationExtractor: processing 1/64/test/filtrations/4/RadialFiltration_38_51/blue, do_fit = False, filtration = RadialFiltration(center=array([38, 51]), n_jobs=-1)\n",
      "Got the result from ./1/64/test/filtrations/4/RadialFiltration_38_51/blue/diagrams.npy\n",
      "Applying Scaler to persistence diagrams.\n",
      "Got the result from ./1/64/test/filtrations/4/RadialFiltration_38_51/blue/features.npy\n",
      "Applying filtration 45/72: RadialFiltration with c = (51, 12), bin. thr. = 0.4\n",
      "RGB images received. Transforming to grayscale.\n"
     ]
    },
    {
     "name": "stderr",
     "output_type": "stream",
     "text": [
      "rgb2gray: 100%|██████████| 3925/3925 [00:00<00:00, 10260.48it/s]\n"
     ]
    },
    {
     "name": "stdout",
     "output_type": "stream",
     "text": [
      "FiltrationExtractor: processing 1/64/test/filtrations/4/RadialFiltration_51_12/gray, do_fit = False, filtration = RadialFiltration(center=array([51, 12]), n_jobs=-1)\n",
      "Got the result from ./1/64/test/filtrations/4/RadialFiltration_51_12/gray/diagrams.npy\n",
      "Applying Scaler to persistence diagrams.\n",
      "Got the result from ./1/64/test/filtrations/4/RadialFiltration_51_12/gray/features.npy\n",
      "FiltrationExtractor: processing 1/64/test/filtrations/4/RadialFiltration_51_12/red, do_fit = False, filtration = RadialFiltration(center=array([51, 12]), n_jobs=-1)\n",
      "Got the result from ./1/64/test/filtrations/4/RadialFiltration_51_12/red/diagrams.npy\n",
      "Applying Scaler to persistence diagrams.\n",
      "Got the result from ./1/64/test/filtrations/4/RadialFiltration_51_12/red/features.npy\n",
      "FiltrationExtractor: processing 1/64/test/filtrations/4/RadialFiltration_51_12/green, do_fit = False, filtration = RadialFiltration(center=array([51, 12]), n_jobs=-1)\n",
      "Got the result from ./1/64/test/filtrations/4/RadialFiltration_51_12/green/diagrams.npy\n",
      "Applying Scaler to persistence diagrams.\n",
      "Got the result from ./1/64/test/filtrations/4/RadialFiltration_51_12/green/features.npy\n",
      "FiltrationExtractor: processing 1/64/test/filtrations/4/RadialFiltration_51_12/blue, do_fit = False, filtration = RadialFiltration(center=array([51, 12]), n_jobs=-1)\n",
      "Got the result from ./1/64/test/filtrations/4/RadialFiltration_51_12/blue/diagrams.npy\n",
      "Applying Scaler to persistence diagrams.\n",
      "Got the result from ./1/64/test/filtrations/4/RadialFiltration_51_12/blue/features.npy\n",
      "Applying filtration 46/72: RadialFiltration with c = (51, 25), bin. thr. = 0.4\n",
      "RGB images received. Transforming to grayscale.\n"
     ]
    },
    {
     "name": "stderr",
     "output_type": "stream",
     "text": [
      "rgb2gray: 100%|██████████| 3925/3925 [00:00<00:00, 10320.19it/s]\n"
     ]
    },
    {
     "name": "stdout",
     "output_type": "stream",
     "text": [
      "FiltrationExtractor: processing 1/64/test/filtrations/4/RadialFiltration_51_25/gray, do_fit = False, filtration = RadialFiltration(center=array([51, 25]), n_jobs=-1)\n",
      "Got the result from ./1/64/test/filtrations/4/RadialFiltration_51_25/gray/diagrams.npy\n",
      "Applying Scaler to persistence diagrams.\n",
      "Got the result from ./1/64/test/filtrations/4/RadialFiltration_51_25/gray/features.npy\n",
      "FiltrationExtractor: processing 1/64/test/filtrations/4/RadialFiltration_51_25/red, do_fit = False, filtration = RadialFiltration(center=array([51, 25]), n_jobs=-1)\n",
      "Got the result from ./1/64/test/filtrations/4/RadialFiltration_51_25/red/diagrams.npy\n",
      "Applying Scaler to persistence diagrams.\n",
      "Got the result from ./1/64/test/filtrations/4/RadialFiltration_51_25/red/features.npy\n",
      "FiltrationExtractor: processing 1/64/test/filtrations/4/RadialFiltration_51_25/green, do_fit = False, filtration = RadialFiltration(center=array([51, 25]), n_jobs=-1)\n",
      "Got the result from ./1/64/test/filtrations/4/RadialFiltration_51_25/green/diagrams.npy\n",
      "Applying Scaler to persistence diagrams.\n",
      "Got the result from ./1/64/test/filtrations/4/RadialFiltration_51_25/green/features.npy\n",
      "FiltrationExtractor: processing 1/64/test/filtrations/4/RadialFiltration_51_25/blue, do_fit = False, filtration = RadialFiltration(center=array([51, 25]), n_jobs=-1)\n",
      "Got the result from ./1/64/test/filtrations/4/RadialFiltration_51_25/blue/diagrams.npy\n",
      "Applying Scaler to persistence diagrams.\n",
      "Got the result from ./1/64/test/filtrations/4/RadialFiltration_51_25/blue/features.npy\n",
      "Applying filtration 47/72: RadialFiltration with c = (51, 38), bin. thr. = 0.4\n",
      "RGB images received. Transforming to grayscale.\n"
     ]
    },
    {
     "name": "stderr",
     "output_type": "stream",
     "text": [
      "rgb2gray: 100%|██████████| 3925/3925 [00:00<00:00, 10216.06it/s]\n"
     ]
    },
    {
     "name": "stdout",
     "output_type": "stream",
     "text": [
      "FiltrationExtractor: processing 1/64/test/filtrations/4/RadialFiltration_51_38/gray, do_fit = False, filtration = RadialFiltration(center=array([51, 38]), n_jobs=-1)\n",
      "Got the result from ./1/64/test/filtrations/4/RadialFiltration_51_38/gray/diagrams.npy\n",
      "Applying Scaler to persistence diagrams.\n",
      "Got the result from ./1/64/test/filtrations/4/RadialFiltration_51_38/gray/features.npy\n",
      "FiltrationExtractor: processing 1/64/test/filtrations/4/RadialFiltration_51_38/red, do_fit = False, filtration = RadialFiltration(center=array([51, 38]), n_jobs=-1)\n",
      "Got the result from ./1/64/test/filtrations/4/RadialFiltration_51_38/red/diagrams.npy\n",
      "Applying Scaler to persistence diagrams.\n",
      "Got the result from ./1/64/test/filtrations/4/RadialFiltration_51_38/red/features.npy\n",
      "FiltrationExtractor: processing 1/64/test/filtrations/4/RadialFiltration_51_38/green, do_fit = False, filtration = RadialFiltration(center=array([51, 38]), n_jobs=-1)\n",
      "Got the result from ./1/64/test/filtrations/4/RadialFiltration_51_38/green/diagrams.npy\n",
      "Applying Scaler to persistence diagrams.\n",
      "Got the result from ./1/64/test/filtrations/4/RadialFiltration_51_38/green/features.npy\n",
      "FiltrationExtractor: processing 1/64/test/filtrations/4/RadialFiltration_51_38/blue, do_fit = False, filtration = RadialFiltration(center=array([51, 38]), n_jobs=-1)\n",
      "Got the result from ./1/64/test/filtrations/4/RadialFiltration_51_38/blue/diagrams.npy\n",
      "Applying Scaler to persistence diagrams.\n",
      "Got the result from ./1/64/test/filtrations/4/RadialFiltration_51_38/blue/features.npy\n",
      "Applying filtration 48/72: RadialFiltration with c = (51, 51), bin. thr. = 0.4\n",
      "RGB images received. Transforming to grayscale.\n"
     ]
    },
    {
     "name": "stderr",
     "output_type": "stream",
     "text": [
      "rgb2gray: 100%|██████████| 3925/3925 [00:00<00:00, 10412.40it/s]\n"
     ]
    },
    {
     "name": "stdout",
     "output_type": "stream",
     "text": [
      "FiltrationExtractor: processing 1/64/test/filtrations/4/RadialFiltration_51_51/gray, do_fit = False, filtration = RadialFiltration(center=array([51, 51]), n_jobs=-1)\n",
      "Got the result from ./1/64/test/filtrations/4/RadialFiltration_51_51/gray/diagrams.npy\n",
      "Applying Scaler to persistence diagrams.\n",
      "Got the result from ./1/64/test/filtrations/4/RadialFiltration_51_51/gray/features.npy\n",
      "FiltrationExtractor: processing 1/64/test/filtrations/4/RadialFiltration_51_51/red, do_fit = False, filtration = RadialFiltration(center=array([51, 51]), n_jobs=-1)\n",
      "Got the result from ./1/64/test/filtrations/4/RadialFiltration_51_51/red/diagrams.npy\n",
      "Applying Scaler to persistence diagrams.\n",
      "Got the result from ./1/64/test/filtrations/4/RadialFiltration_51_51/red/features.npy\n",
      "FiltrationExtractor: processing 1/64/test/filtrations/4/RadialFiltration_51_51/green, do_fit = False, filtration = RadialFiltration(center=array([51, 51]), n_jobs=-1)\n",
      "Got the result from ./1/64/test/filtrations/4/RadialFiltration_51_51/green/diagrams.npy\n",
      "Applying Scaler to persistence diagrams.\n",
      "Got the result from ./1/64/test/filtrations/4/RadialFiltration_51_51/green/features.npy\n",
      "FiltrationExtractor: processing 1/64/test/filtrations/4/RadialFiltration_51_51/blue, do_fit = False, filtration = RadialFiltration(center=array([51, 51]), n_jobs=-1)\n",
      "Got the result from ./1/64/test/filtrations/4/RadialFiltration_51_51/blue/diagrams.npy\n",
      "Applying Scaler to persistence diagrams.\n",
      "Got the result from ./1/64/test/filtrations/4/RadialFiltration_51_51/blue/features.npy\n",
      "Applying filtration 49/72: HeightFiltration with d = (-1, -1), bin. thr. = 0.6\n",
      "RGB images received. Transforming to grayscale.\n"
     ]
    },
    {
     "name": "stderr",
     "output_type": "stream",
     "text": [
      "rgb2gray: 100%|██████████| 3925/3925 [00:00<00:00, 10006.24it/s]\n"
     ]
    },
    {
     "name": "stdout",
     "output_type": "stream",
     "text": [
      "FiltrationExtractor: processing 1/64/test/filtrations/6/HeightFiltrartion_-1_-1/gray, do_fit = False, filtration = HeightFiltration(direction=array([-1, -1]), n_jobs=-1)\n",
      "Got the result from ./1/64/test/filtrations/6/HeightFiltrartion_-1_-1/gray/diagrams.npy\n",
      "Applying Scaler to persistence diagrams.\n",
      "Got the result from ./1/64/test/filtrations/6/HeightFiltrartion_-1_-1/gray/features.npy\n",
      "FiltrationExtractor: processing 1/64/test/filtrations/6/HeightFiltrartion_-1_-1/red, do_fit = False, filtration = HeightFiltration(direction=array([-1, -1]), n_jobs=-1)\n",
      "Got the result from ./1/64/test/filtrations/6/HeightFiltrartion_-1_-1/red/diagrams.npy\n",
      "Applying Scaler to persistence diagrams.\n",
      "Got the result from ./1/64/test/filtrations/6/HeightFiltrartion_-1_-1/red/features.npy\n",
      "FiltrationExtractor: processing 1/64/test/filtrations/6/HeightFiltrartion_-1_-1/green, do_fit = False, filtration = HeightFiltration(direction=array([-1, -1]), n_jobs=-1)\n",
      "Got the result from ./1/64/test/filtrations/6/HeightFiltrartion_-1_-1/green/diagrams.npy\n",
      "Applying Scaler to persistence diagrams.\n",
      "Got the result from ./1/64/test/filtrations/6/HeightFiltrartion_-1_-1/green/features.npy\n",
      "FiltrationExtractor: processing 1/64/test/filtrations/6/HeightFiltrartion_-1_-1/blue, do_fit = False, filtration = HeightFiltration(direction=array([-1, -1]), n_jobs=-1)\n",
      "Got the result from ./1/64/test/filtrations/6/HeightFiltrartion_-1_-1/blue/diagrams.npy\n",
      "Applying Scaler to persistence diagrams.\n",
      "Got the result from ./1/64/test/filtrations/6/HeightFiltrartion_-1_-1/blue/features.npy\n",
      "Applying filtration 50/72: HeightFiltration with d = (-1, 0), bin. thr. = 0.6\n",
      "RGB images received. Transforming to grayscale.\n"
     ]
    },
    {
     "name": "stderr",
     "output_type": "stream",
     "text": [
      "rgb2gray: 100%|██████████| 3925/3925 [00:00<00:00, 8409.27it/s]\n"
     ]
    },
    {
     "name": "stdout",
     "output_type": "stream",
     "text": [
      "FiltrationExtractor: processing 1/64/test/filtrations/6/HeightFiltrartion_-1_0/gray, do_fit = False, filtration = HeightFiltration(direction=array([-1,  0]), n_jobs=-1)\n",
      "Got the result from ./1/64/test/filtrations/6/HeightFiltrartion_-1_0/gray/diagrams.npy\n",
      "Applying Scaler to persistence diagrams.\n",
      "Got the result from ./1/64/test/filtrations/6/HeightFiltrartion_-1_0/gray/features.npy\n",
      "FiltrationExtractor: processing 1/64/test/filtrations/6/HeightFiltrartion_-1_0/red, do_fit = False, filtration = HeightFiltration(direction=array([-1,  0]), n_jobs=-1)\n",
      "Got the result from ./1/64/test/filtrations/6/HeightFiltrartion_-1_0/red/diagrams.npy\n",
      "Applying Scaler to persistence diagrams.\n",
      "Got the result from ./1/64/test/filtrations/6/HeightFiltrartion_-1_0/red/features.npy\n",
      "FiltrationExtractor: processing 1/64/test/filtrations/6/HeightFiltrartion_-1_0/green, do_fit = False, filtration = HeightFiltration(direction=array([-1,  0]), n_jobs=-1)\n",
      "Got the result from ./1/64/test/filtrations/6/HeightFiltrartion_-1_0/green/diagrams.npy\n",
      "Applying Scaler to persistence diagrams.\n",
      "Got the result from ./1/64/test/filtrations/6/HeightFiltrartion_-1_0/green/features.npy\n",
      "FiltrationExtractor: processing 1/64/test/filtrations/6/HeightFiltrartion_-1_0/blue, do_fit = False, filtration = HeightFiltration(direction=array([-1,  0]), n_jobs=-1)\n",
      "Got the result from ./1/64/test/filtrations/6/HeightFiltrartion_-1_0/blue/diagrams.npy\n",
      "Applying Scaler to persistence diagrams.\n",
      "Got the result from ./1/64/test/filtrations/6/HeightFiltrartion_-1_0/blue/features.npy\n",
      "Applying filtration 51/72: HeightFiltration with d = (-1, 1), bin. thr. = 0.6\n",
      "RGB images received. Transforming to grayscale.\n"
     ]
    },
    {
     "name": "stderr",
     "output_type": "stream",
     "text": [
      "rgb2gray: 100%|██████████| 3925/3925 [00:00<00:00, 10046.22it/s]\n"
     ]
    },
    {
     "name": "stdout",
     "output_type": "stream",
     "text": [
      "FiltrationExtractor: processing 1/64/test/filtrations/6/HeightFiltrartion_-1_1/gray, do_fit = False, filtration = HeightFiltration(direction=array([-1,  1]), n_jobs=-1)\n",
      "Got the result from ./1/64/test/filtrations/6/HeightFiltrartion_-1_1/gray/diagrams.npy\n",
      "Applying Scaler to persistence diagrams.\n",
      "Got the result from ./1/64/test/filtrations/6/HeightFiltrartion_-1_1/gray/features.npy\n",
      "FiltrationExtractor: processing 1/64/test/filtrations/6/HeightFiltrartion_-1_1/red, do_fit = False, filtration = HeightFiltration(direction=array([-1,  1]), n_jobs=-1)\n",
      "Got the result from ./1/64/test/filtrations/6/HeightFiltrartion_-1_1/red/diagrams.npy\n",
      "Applying Scaler to persistence diagrams.\n",
      "Got the result from ./1/64/test/filtrations/6/HeightFiltrartion_-1_1/red/features.npy\n",
      "FiltrationExtractor: processing 1/64/test/filtrations/6/HeightFiltrartion_-1_1/green, do_fit = False, filtration = HeightFiltration(direction=array([-1,  1]), n_jobs=-1)\n",
      "Got the result from ./1/64/test/filtrations/6/HeightFiltrartion_-1_1/green/diagrams.npy\n",
      "Applying Scaler to persistence diagrams.\n",
      "Got the result from ./1/64/test/filtrations/6/HeightFiltrartion_-1_1/green/features.npy\n",
      "FiltrationExtractor: processing 1/64/test/filtrations/6/HeightFiltrartion_-1_1/blue, do_fit = False, filtration = HeightFiltration(direction=array([-1,  1]), n_jobs=-1)\n",
      "Got the result from ./1/64/test/filtrations/6/HeightFiltrartion_-1_1/blue/diagrams.npy\n",
      "Applying Scaler to persistence diagrams.\n",
      "Got the result from ./1/64/test/filtrations/6/HeightFiltrartion_-1_1/blue/features.npy\n",
      "Applying filtration 52/72: HeightFiltration with d = (0, -1), bin. thr. = 0.6\n",
      "RGB images received. Transforming to grayscale.\n"
     ]
    },
    {
     "name": "stderr",
     "output_type": "stream",
     "text": [
      "rgb2gray: 100%|██████████| 3925/3925 [00:00<00:00, 9858.01it/s]\n"
     ]
    },
    {
     "name": "stdout",
     "output_type": "stream",
     "text": [
      "FiltrationExtractor: processing 1/64/test/filtrations/6/HeightFiltrartion_0_-1/gray, do_fit = False, filtration = HeightFiltration(direction=array([ 0, -1]), n_jobs=-1)\n",
      "Got the result from ./1/64/test/filtrations/6/HeightFiltrartion_0_-1/gray/diagrams.npy\n",
      "Applying Scaler to persistence diagrams.\n",
      "Got the result from ./1/64/test/filtrations/6/HeightFiltrartion_0_-1/gray/features.npy\n",
      "FiltrationExtractor: processing 1/64/test/filtrations/6/HeightFiltrartion_0_-1/red, do_fit = False, filtration = HeightFiltration(direction=array([ 0, -1]), n_jobs=-1)\n",
      "Got the result from ./1/64/test/filtrations/6/HeightFiltrartion_0_-1/red/diagrams.npy\n",
      "Applying Scaler to persistence diagrams.\n",
      "Got the result from ./1/64/test/filtrations/6/HeightFiltrartion_0_-1/red/features.npy\n",
      "FiltrationExtractor: processing 1/64/test/filtrations/6/HeightFiltrartion_0_-1/green, do_fit = False, filtration = HeightFiltration(direction=array([ 0, -1]), n_jobs=-1)\n",
      "Got the result from ./1/64/test/filtrations/6/HeightFiltrartion_0_-1/green/diagrams.npy\n",
      "Applying Scaler to persistence diagrams.\n",
      "Got the result from ./1/64/test/filtrations/6/HeightFiltrartion_0_-1/green/features.npy\n",
      "FiltrationExtractor: processing 1/64/test/filtrations/6/HeightFiltrartion_0_-1/blue, do_fit = False, filtration = HeightFiltration(direction=array([ 0, -1]), n_jobs=-1)\n",
      "Got the result from ./1/64/test/filtrations/6/HeightFiltrartion_0_-1/blue/diagrams.npy\n",
      "Applying Scaler to persistence diagrams.\n",
      "Got the result from ./1/64/test/filtrations/6/HeightFiltrartion_0_-1/blue/features.npy\n",
      "Applying filtration 53/72: HeightFiltration with d = (0, 1), bin. thr. = 0.6\n",
      "RGB images received. Transforming to grayscale.\n"
     ]
    },
    {
     "name": "stderr",
     "output_type": "stream",
     "text": [
      "rgb2gray: 100%|██████████| 3925/3925 [00:00<00:00, 10304.28it/s]\n"
     ]
    },
    {
     "name": "stdout",
     "output_type": "stream",
     "text": [
      "FiltrationExtractor: processing 1/64/test/filtrations/6/HeightFiltrartion_0_1/gray, do_fit = False, filtration = HeightFiltration(direction=array([0, 1]), n_jobs=-1)\n",
      "Got the result from ./1/64/test/filtrations/6/HeightFiltrartion_0_1/gray/diagrams.npy\n",
      "Applying Scaler to persistence diagrams.\n",
      "Got the result from ./1/64/test/filtrations/6/HeightFiltrartion_0_1/gray/features.npy\n",
      "FiltrationExtractor: processing 1/64/test/filtrations/6/HeightFiltrartion_0_1/red, do_fit = False, filtration = HeightFiltration(direction=array([0, 1]), n_jobs=-1)\n",
      "Got the result from ./1/64/test/filtrations/6/HeightFiltrartion_0_1/red/diagrams.npy\n",
      "Applying Scaler to persistence diagrams.\n",
      "Got the result from ./1/64/test/filtrations/6/HeightFiltrartion_0_1/red/features.npy\n",
      "FiltrationExtractor: processing 1/64/test/filtrations/6/HeightFiltrartion_0_1/green, do_fit = False, filtration = HeightFiltration(direction=array([0, 1]), n_jobs=-1)\n",
      "Got the result from ./1/64/test/filtrations/6/HeightFiltrartion_0_1/green/diagrams.npy\n",
      "Applying Scaler to persistence diagrams.\n",
      "Got the result from ./1/64/test/filtrations/6/HeightFiltrartion_0_1/green/features.npy\n",
      "FiltrationExtractor: processing 1/64/test/filtrations/6/HeightFiltrartion_0_1/blue, do_fit = False, filtration = HeightFiltration(direction=array([0, 1]), n_jobs=-1)\n",
      "Got the result from ./1/64/test/filtrations/6/HeightFiltrartion_0_1/blue/diagrams.npy\n",
      "Applying Scaler to persistence diagrams.\n",
      "Got the result from ./1/64/test/filtrations/6/HeightFiltrartion_0_1/blue/features.npy\n",
      "Applying filtration 54/72: HeightFiltration with d = (1, -1), bin. thr. = 0.6\n",
      "RGB images received. Transforming to grayscale.\n"
     ]
    },
    {
     "name": "stderr",
     "output_type": "stream",
     "text": [
      "rgb2gray: 100%|██████████| 3925/3925 [00:00<00:00, 9652.29it/s]\n"
     ]
    },
    {
     "name": "stdout",
     "output_type": "stream",
     "text": [
      "FiltrationExtractor: processing 1/64/test/filtrations/6/HeightFiltrartion_1_-1/gray, do_fit = False, filtration = HeightFiltration(direction=array([ 1, -1]), n_jobs=-1)\n",
      "Got the result from ./1/64/test/filtrations/6/HeightFiltrartion_1_-1/gray/diagrams.npy\n",
      "Applying Scaler to persistence diagrams.\n",
      "Got the result from ./1/64/test/filtrations/6/HeightFiltrartion_1_-1/gray/features.npy\n",
      "FiltrationExtractor: processing 1/64/test/filtrations/6/HeightFiltrartion_1_-1/red, do_fit = False, filtration = HeightFiltration(direction=array([ 1, -1]), n_jobs=-1)\n",
      "Got the result from ./1/64/test/filtrations/6/HeightFiltrartion_1_-1/red/diagrams.npy\n",
      "Applying Scaler to persistence diagrams.\n",
      "Got the result from ./1/64/test/filtrations/6/HeightFiltrartion_1_-1/red/features.npy\n",
      "FiltrationExtractor: processing 1/64/test/filtrations/6/HeightFiltrartion_1_-1/green, do_fit = False, filtration = HeightFiltration(direction=array([ 1, -1]), n_jobs=-1)\n",
      "Got the result from ./1/64/test/filtrations/6/HeightFiltrartion_1_-1/green/diagrams.npy\n",
      "Applying Scaler to persistence diagrams.\n",
      "Got the result from ./1/64/test/filtrations/6/HeightFiltrartion_1_-1/green/features.npy\n",
      "FiltrationExtractor: processing 1/64/test/filtrations/6/HeightFiltrartion_1_-1/blue, do_fit = False, filtration = HeightFiltration(direction=array([ 1, -1]), n_jobs=-1)\n",
      "Got the result from ./1/64/test/filtrations/6/HeightFiltrartion_1_-1/blue/diagrams.npy\n",
      "Applying Scaler to persistence diagrams.\n",
      "Got the result from ./1/64/test/filtrations/6/HeightFiltrartion_1_-1/blue/features.npy\n",
      "Applying filtration 55/72: HeightFiltration with d = (1, 0), bin. thr. = 0.6\n",
      "RGB images received. Transforming to grayscale.\n"
     ]
    },
    {
     "name": "stderr",
     "output_type": "stream",
     "text": [
      "rgb2gray: 100%|██████████| 3925/3925 [00:00<00:00, 10522.48it/s]\n"
     ]
    },
    {
     "name": "stdout",
     "output_type": "stream",
     "text": [
      "FiltrationExtractor: processing 1/64/test/filtrations/6/HeightFiltrartion_1_0/gray, do_fit = False, filtration = HeightFiltration(direction=array([1, 0]), n_jobs=-1)\n",
      "Got the result from ./1/64/test/filtrations/6/HeightFiltrartion_1_0/gray/diagrams.npy\n",
      "Applying Scaler to persistence diagrams.\n",
      "Got the result from ./1/64/test/filtrations/6/HeightFiltrartion_1_0/gray/features.npy\n",
      "FiltrationExtractor: processing 1/64/test/filtrations/6/HeightFiltrartion_1_0/red, do_fit = False, filtration = HeightFiltration(direction=array([1, 0]), n_jobs=-1)\n",
      "Got the result from ./1/64/test/filtrations/6/HeightFiltrartion_1_0/red/diagrams.npy\n",
      "Applying Scaler to persistence diagrams.\n",
      "Got the result from ./1/64/test/filtrations/6/HeightFiltrartion_1_0/red/features.npy\n",
      "FiltrationExtractor: processing 1/64/test/filtrations/6/HeightFiltrartion_1_0/green, do_fit = False, filtration = HeightFiltration(direction=array([1, 0]), n_jobs=-1)\n",
      "Got the result from ./1/64/test/filtrations/6/HeightFiltrartion_1_0/green/diagrams.npy\n",
      "Applying Scaler to persistence diagrams.\n",
      "Got the result from ./1/64/test/filtrations/6/HeightFiltrartion_1_0/green/features.npy\n",
      "FiltrationExtractor: processing 1/64/test/filtrations/6/HeightFiltrartion_1_0/blue, do_fit = False, filtration = HeightFiltration(direction=array([1, 0]), n_jobs=-1)\n",
      "Got the result from ./1/64/test/filtrations/6/HeightFiltrartion_1_0/blue/diagrams.npy\n",
      "Applying Scaler to persistence diagrams.\n",
      "Got the result from ./1/64/test/filtrations/6/HeightFiltrartion_1_0/blue/features.npy\n",
      "Applying filtration 56/72: HeightFiltration with d = (1, 1), bin. thr. = 0.6\n",
      "RGB images received. Transforming to grayscale.\n"
     ]
    },
    {
     "name": "stderr",
     "output_type": "stream",
     "text": [
      "rgb2gray: 100%|██████████| 3925/3925 [00:00<00:00, 10133.20it/s]\n"
     ]
    },
    {
     "name": "stdout",
     "output_type": "stream",
     "text": [
      "FiltrationExtractor: processing 1/64/test/filtrations/6/HeightFiltrartion_1_1/gray, do_fit = False, filtration = HeightFiltration(direction=array([1, 1]), n_jobs=-1)\n",
      "Got the result from ./1/64/test/filtrations/6/HeightFiltrartion_1_1/gray/diagrams.npy\n",
      "Applying Scaler to persistence diagrams.\n",
      "Got the result from ./1/64/test/filtrations/6/HeightFiltrartion_1_1/gray/features.npy\n",
      "FiltrationExtractor: processing 1/64/test/filtrations/6/HeightFiltrartion_1_1/red, do_fit = False, filtration = HeightFiltration(direction=array([1, 1]), n_jobs=-1)\n",
      "Got the result from ./1/64/test/filtrations/6/HeightFiltrartion_1_1/red/diagrams.npy\n",
      "Applying Scaler to persistence diagrams.\n",
      "Got the result from ./1/64/test/filtrations/6/HeightFiltrartion_1_1/red/features.npy\n",
      "FiltrationExtractor: processing 1/64/test/filtrations/6/HeightFiltrartion_1_1/green, do_fit = False, filtration = HeightFiltration(direction=array([1, 1]), n_jobs=-1)\n",
      "Got the result from ./1/64/test/filtrations/6/HeightFiltrartion_1_1/green/diagrams.npy\n",
      "Applying Scaler to persistence diagrams.\n",
      "Got the result from ./1/64/test/filtrations/6/HeightFiltrartion_1_1/green/features.npy\n",
      "FiltrationExtractor: processing 1/64/test/filtrations/6/HeightFiltrartion_1_1/blue, do_fit = False, filtration = HeightFiltration(direction=array([1, 1]), n_jobs=-1)\n",
      "Got the result from ./1/64/test/filtrations/6/HeightFiltrartion_1_1/blue/diagrams.npy\n",
      "Applying Scaler to persistence diagrams.\n",
      "Got the result from ./1/64/test/filtrations/6/HeightFiltrartion_1_1/blue/features.npy\n",
      "Applying filtration 57/72: RadialFiltration with c = (12, 12), bin. thr. = 0.6\n",
      "RGB images received. Transforming to grayscale.\n"
     ]
    },
    {
     "name": "stderr",
     "output_type": "stream",
     "text": [
      "rgb2gray: 100%|██████████| 3925/3925 [00:00<00:00, 10366.10it/s]\n"
     ]
    },
    {
     "name": "stdout",
     "output_type": "stream",
     "text": [
      "FiltrationExtractor: processing 1/64/test/filtrations/6/RadialFiltration_12_12/gray, do_fit = False, filtration = RadialFiltration(center=array([12, 12]), n_jobs=-1)\n",
      "Got the result from ./1/64/test/filtrations/6/RadialFiltration_12_12/gray/diagrams.npy\n",
      "Applying Scaler to persistence diagrams.\n",
      "Got the result from ./1/64/test/filtrations/6/RadialFiltration_12_12/gray/features.npy\n",
      "FiltrationExtractor: processing 1/64/test/filtrations/6/RadialFiltration_12_12/red, do_fit = False, filtration = RadialFiltration(center=array([12, 12]), n_jobs=-1)\n",
      "Got the result from ./1/64/test/filtrations/6/RadialFiltration_12_12/red/diagrams.npy\n",
      "Applying Scaler to persistence diagrams.\n",
      "Got the result from ./1/64/test/filtrations/6/RadialFiltration_12_12/red/features.npy\n",
      "FiltrationExtractor: processing 1/64/test/filtrations/6/RadialFiltration_12_12/green, do_fit = False, filtration = RadialFiltration(center=array([12, 12]), n_jobs=-1)\n",
      "Got the result from ./1/64/test/filtrations/6/RadialFiltration_12_12/green/diagrams.npy\n",
      "Applying Scaler to persistence diagrams.\n",
      "Got the result from ./1/64/test/filtrations/6/RadialFiltration_12_12/green/features.npy\n",
      "FiltrationExtractor: processing 1/64/test/filtrations/6/RadialFiltration_12_12/blue, do_fit = False, filtration = RadialFiltration(center=array([12, 12]), n_jobs=-1)\n",
      "Got the result from ./1/64/test/filtrations/6/RadialFiltration_12_12/blue/diagrams.npy\n",
      "Applying Scaler to persistence diagrams.\n",
      "Got the result from ./1/64/test/filtrations/6/RadialFiltration_12_12/blue/features.npy\n",
      "Applying filtration 58/72: RadialFiltration with c = (12, 25), bin. thr. = 0.6\n",
      "RGB images received. Transforming to grayscale.\n"
     ]
    },
    {
     "name": "stderr",
     "output_type": "stream",
     "text": [
      "rgb2gray: 100%|██████████| 3925/3925 [00:00<00:00, 10098.20it/s]\n"
     ]
    },
    {
     "name": "stdout",
     "output_type": "stream",
     "text": [
      "FiltrationExtractor: processing 1/64/test/filtrations/6/RadialFiltration_12_25/gray, do_fit = False, filtration = RadialFiltration(center=array([12, 25]), n_jobs=-1)\n",
      "Got the result from ./1/64/test/filtrations/6/RadialFiltration_12_25/gray/diagrams.npy\n",
      "Applying Scaler to persistence diagrams.\n",
      "Got the result from ./1/64/test/filtrations/6/RadialFiltration_12_25/gray/features.npy\n",
      "FiltrationExtractor: processing 1/64/test/filtrations/6/RadialFiltration_12_25/red, do_fit = False, filtration = RadialFiltration(center=array([12, 25]), n_jobs=-1)\n",
      "Got the result from ./1/64/test/filtrations/6/RadialFiltration_12_25/red/diagrams.npy\n",
      "Applying Scaler to persistence diagrams.\n",
      "Got the result from ./1/64/test/filtrations/6/RadialFiltration_12_25/red/features.npy\n",
      "FiltrationExtractor: processing 1/64/test/filtrations/6/RadialFiltration_12_25/green, do_fit = False, filtration = RadialFiltration(center=array([12, 25]), n_jobs=-1)\n",
      "Got the result from ./1/64/test/filtrations/6/RadialFiltration_12_25/green/diagrams.npy\n",
      "Applying Scaler to persistence diagrams.\n",
      "Got the result from ./1/64/test/filtrations/6/RadialFiltration_12_25/green/features.npy\n",
      "FiltrationExtractor: processing 1/64/test/filtrations/6/RadialFiltration_12_25/blue, do_fit = False, filtration = RadialFiltration(center=array([12, 25]), n_jobs=-1)\n",
      "Got the result from ./1/64/test/filtrations/6/RadialFiltration_12_25/blue/diagrams.npy\n",
      "Applying Scaler to persistence diagrams.\n",
      "Got the result from ./1/64/test/filtrations/6/RadialFiltration_12_25/blue/features.npy\n",
      "Applying filtration 59/72: RadialFiltration with c = (12, 38), bin. thr. = 0.6\n",
      "RGB images received. Transforming to grayscale.\n"
     ]
    },
    {
     "name": "stderr",
     "output_type": "stream",
     "text": [
      "rgb2gray: 100%|██████████| 3925/3925 [00:00<00:00, 9487.88it/s]\n"
     ]
    },
    {
     "name": "stdout",
     "output_type": "stream",
     "text": [
      "FiltrationExtractor: processing 1/64/test/filtrations/6/RadialFiltration_12_38/gray, do_fit = False, filtration = RadialFiltration(center=array([12, 38]), n_jobs=-1)\n",
      "Got the result from ./1/64/test/filtrations/6/RadialFiltration_12_38/gray/diagrams.npy\n",
      "Applying Scaler to persistence diagrams.\n",
      "Got the result from ./1/64/test/filtrations/6/RadialFiltration_12_38/gray/features.npy\n",
      "FiltrationExtractor: processing 1/64/test/filtrations/6/RadialFiltration_12_38/red, do_fit = False, filtration = RadialFiltration(center=array([12, 38]), n_jobs=-1)\n",
      "Got the result from ./1/64/test/filtrations/6/RadialFiltration_12_38/red/diagrams.npy\n",
      "Applying Scaler to persistence diagrams.\n",
      "Got the result from ./1/64/test/filtrations/6/RadialFiltration_12_38/red/features.npy\n",
      "FiltrationExtractor: processing 1/64/test/filtrations/6/RadialFiltration_12_38/green, do_fit = False, filtration = RadialFiltration(center=array([12, 38]), n_jobs=-1)\n",
      "Got the result from ./1/64/test/filtrations/6/RadialFiltration_12_38/green/diagrams.npy\n",
      "Applying Scaler to persistence diagrams.\n",
      "Got the result from ./1/64/test/filtrations/6/RadialFiltration_12_38/green/features.npy\n",
      "FiltrationExtractor: processing 1/64/test/filtrations/6/RadialFiltration_12_38/blue, do_fit = False, filtration = RadialFiltration(center=array([12, 38]), n_jobs=-1)\n",
      "Got the result from ./1/64/test/filtrations/6/RadialFiltration_12_38/blue/diagrams.npy\n",
      "Applying Scaler to persistence diagrams.\n",
      "Got the result from ./1/64/test/filtrations/6/RadialFiltration_12_38/blue/features.npy\n",
      "Applying filtration 60/72: RadialFiltration with c = (12, 51), bin. thr. = 0.6\n",
      "RGB images received. Transforming to grayscale.\n"
     ]
    },
    {
     "name": "stderr",
     "output_type": "stream",
     "text": [
      "rgb2gray: 100%|██████████| 3925/3925 [00:00<00:00, 10312.56it/s]\n"
     ]
    },
    {
     "name": "stdout",
     "output_type": "stream",
     "text": [
      "FiltrationExtractor: processing 1/64/test/filtrations/6/RadialFiltration_12_51/gray, do_fit = False, filtration = RadialFiltration(center=array([12, 51]), n_jobs=-1)\n",
      "Got the result from ./1/64/test/filtrations/6/RadialFiltration_12_51/gray/diagrams.npy\n",
      "Applying Scaler to persistence diagrams.\n",
      "Got the result from ./1/64/test/filtrations/6/RadialFiltration_12_51/gray/features.npy\n",
      "FiltrationExtractor: processing 1/64/test/filtrations/6/RadialFiltration_12_51/red, do_fit = False, filtration = RadialFiltration(center=array([12, 51]), n_jobs=-1)\n",
      "Got the result from ./1/64/test/filtrations/6/RadialFiltration_12_51/red/diagrams.npy\n",
      "Applying Scaler to persistence diagrams.\n",
      "Got the result from ./1/64/test/filtrations/6/RadialFiltration_12_51/red/features.npy\n",
      "FiltrationExtractor: processing 1/64/test/filtrations/6/RadialFiltration_12_51/green, do_fit = False, filtration = RadialFiltration(center=array([12, 51]), n_jobs=-1)\n",
      "Got the result from ./1/64/test/filtrations/6/RadialFiltration_12_51/green/diagrams.npy\n",
      "Applying Scaler to persistence diagrams.\n",
      "Got the result from ./1/64/test/filtrations/6/RadialFiltration_12_51/green/features.npy\n",
      "FiltrationExtractor: processing 1/64/test/filtrations/6/RadialFiltration_12_51/blue, do_fit = False, filtration = RadialFiltration(center=array([12, 51]), n_jobs=-1)\n",
      "Got the result from ./1/64/test/filtrations/6/RadialFiltration_12_51/blue/diagrams.npy\n",
      "Applying Scaler to persistence diagrams.\n",
      "Got the result from ./1/64/test/filtrations/6/RadialFiltration_12_51/blue/features.npy\n",
      "Applying filtration 61/72: RadialFiltration with c = (25, 12), bin. thr. = 0.6\n",
      "RGB images received. Transforming to grayscale.\n"
     ]
    },
    {
     "name": "stderr",
     "output_type": "stream",
     "text": [
      "rgb2gray: 100%|██████████| 3925/3925 [00:00<00:00, 8607.85it/s]\n"
     ]
    },
    {
     "name": "stdout",
     "output_type": "stream",
     "text": [
      "FiltrationExtractor: processing 1/64/test/filtrations/6/RadialFiltration_25_12/gray, do_fit = False, filtration = RadialFiltration(center=array([25, 12]), n_jobs=-1)\n",
      "Got the result from ./1/64/test/filtrations/6/RadialFiltration_25_12/gray/diagrams.npy\n",
      "Applying Scaler to persistence diagrams.\n",
      "Got the result from ./1/64/test/filtrations/6/RadialFiltration_25_12/gray/features.npy\n",
      "FiltrationExtractor: processing 1/64/test/filtrations/6/RadialFiltration_25_12/red, do_fit = False, filtration = RadialFiltration(center=array([25, 12]), n_jobs=-1)\n",
      "Got the result from ./1/64/test/filtrations/6/RadialFiltration_25_12/red/diagrams.npy\n",
      "Applying Scaler to persistence diagrams.\n",
      "Got the result from ./1/64/test/filtrations/6/RadialFiltration_25_12/red/features.npy\n",
      "FiltrationExtractor: processing 1/64/test/filtrations/6/RadialFiltration_25_12/green, do_fit = False, filtration = RadialFiltration(center=array([25, 12]), n_jobs=-1)\n",
      "Got the result from ./1/64/test/filtrations/6/RadialFiltration_25_12/green/diagrams.npy\n",
      "Applying Scaler to persistence diagrams.\n",
      "Got the result from ./1/64/test/filtrations/6/RadialFiltration_25_12/green/features.npy\n",
      "FiltrationExtractor: processing 1/64/test/filtrations/6/RadialFiltration_25_12/blue, do_fit = False, filtration = RadialFiltration(center=array([25, 12]), n_jobs=-1)\n",
      "Got the result from ./1/64/test/filtrations/6/RadialFiltration_25_12/blue/diagrams.npy\n",
      "Applying Scaler to persistence diagrams.\n",
      "Got the result from ./1/64/test/filtrations/6/RadialFiltration_25_12/blue/features.npy\n",
      "Applying filtration 62/72: RadialFiltration with c = (25, 25), bin. thr. = 0.6\n",
      "RGB images received. Transforming to grayscale.\n"
     ]
    },
    {
     "name": "stderr",
     "output_type": "stream",
     "text": [
      "rgb2gray: 100%|██████████| 3925/3925 [00:00<00:00, 7065.29it/s]\n"
     ]
    },
    {
     "name": "stdout",
     "output_type": "stream",
     "text": [
      "FiltrationExtractor: processing 1/64/test/filtrations/6/RadialFiltration_25_25/gray, do_fit = False, filtration = RadialFiltration(center=array([25, 25]), n_jobs=-1)\n",
      "Got the result from ./1/64/test/filtrations/6/RadialFiltration_25_25/gray/diagrams.npy\n",
      "Applying Scaler to persistence diagrams.\n",
      "Got the result from ./1/64/test/filtrations/6/RadialFiltration_25_25/gray/features.npy\n",
      "FiltrationExtractor: processing 1/64/test/filtrations/6/RadialFiltration_25_25/red, do_fit = False, filtration = RadialFiltration(center=array([25, 25]), n_jobs=-1)\n",
      "Got the result from ./1/64/test/filtrations/6/RadialFiltration_25_25/red/diagrams.npy\n",
      "Applying Scaler to persistence diagrams.\n",
      "Got the result from ./1/64/test/filtrations/6/RadialFiltration_25_25/red/features.npy\n",
      "FiltrationExtractor: processing 1/64/test/filtrations/6/RadialFiltration_25_25/green, do_fit = False, filtration = RadialFiltration(center=array([25, 25]), n_jobs=-1)\n",
      "Got the result from ./1/64/test/filtrations/6/RadialFiltration_25_25/green/diagrams.npy\n",
      "Applying Scaler to persistence diagrams.\n",
      "Got the result from ./1/64/test/filtrations/6/RadialFiltration_25_25/green/features.npy\n",
      "FiltrationExtractor: processing 1/64/test/filtrations/6/RadialFiltration_25_25/blue, do_fit = False, filtration = RadialFiltration(center=array([25, 25]), n_jobs=-1)\n",
      "Got the result from ./1/64/test/filtrations/6/RadialFiltration_25_25/blue/diagrams.npy\n",
      "Applying Scaler to persistence diagrams.\n",
      "Got the result from ./1/64/test/filtrations/6/RadialFiltration_25_25/blue/features.npy\n",
      "Applying filtration 63/72: RadialFiltration with c = (25, 38), bin. thr. = 0.6\n",
      "RGB images received. Transforming to grayscale.\n"
     ]
    },
    {
     "name": "stderr",
     "output_type": "stream",
     "text": [
      "rgb2gray: 100%|██████████| 3925/3925 [00:00<00:00, 10023.60it/s]\n"
     ]
    },
    {
     "name": "stdout",
     "output_type": "stream",
     "text": [
      "FiltrationExtractor: processing 1/64/test/filtrations/6/RadialFiltration_25_38/gray, do_fit = False, filtration = RadialFiltration(center=array([25, 38]), n_jobs=-1)\n",
      "Got the result from ./1/64/test/filtrations/6/RadialFiltration_25_38/gray/diagrams.npy\n",
      "Applying Scaler to persistence diagrams.\n",
      "Got the result from ./1/64/test/filtrations/6/RadialFiltration_25_38/gray/features.npy\n",
      "FiltrationExtractor: processing 1/64/test/filtrations/6/RadialFiltration_25_38/red, do_fit = False, filtration = RadialFiltration(center=array([25, 38]), n_jobs=-1)\n",
      "Got the result from ./1/64/test/filtrations/6/RadialFiltration_25_38/red/diagrams.npy\n",
      "Applying Scaler to persistence diagrams.\n",
      "Got the result from ./1/64/test/filtrations/6/RadialFiltration_25_38/red/features.npy\n",
      "FiltrationExtractor: processing 1/64/test/filtrations/6/RadialFiltration_25_38/green, do_fit = False, filtration = RadialFiltration(center=array([25, 38]), n_jobs=-1)\n",
      "Got the result from ./1/64/test/filtrations/6/RadialFiltration_25_38/green/diagrams.npy\n",
      "Applying Scaler to persistence diagrams.\n",
      "Got the result from ./1/64/test/filtrations/6/RadialFiltration_25_38/green/features.npy\n",
      "FiltrationExtractor: processing 1/64/test/filtrations/6/RadialFiltration_25_38/blue, do_fit = False, filtration = RadialFiltration(center=array([25, 38]), n_jobs=-1)\n",
      "Got the result from ./1/64/test/filtrations/6/RadialFiltration_25_38/blue/diagrams.npy\n",
      "Applying Scaler to persistence diagrams.\n",
      "Got the result from ./1/64/test/filtrations/6/RadialFiltration_25_38/blue/features.npy\n",
      "Applying filtration 64/72: RadialFiltration with c = (25, 51), bin. thr. = 0.6\n",
      "RGB images received. Transforming to grayscale.\n"
     ]
    },
    {
     "name": "stderr",
     "output_type": "stream",
     "text": [
      "rgb2gray: 100%|██████████| 3925/3925 [00:00<00:00, 9780.11it/s]\n"
     ]
    },
    {
     "name": "stdout",
     "output_type": "stream",
     "text": [
      "FiltrationExtractor: processing 1/64/test/filtrations/6/RadialFiltration_25_51/gray, do_fit = False, filtration = RadialFiltration(center=array([25, 51]), n_jobs=-1)\n",
      "Got the result from ./1/64/test/filtrations/6/RadialFiltration_25_51/gray/diagrams.npy\n",
      "Applying Scaler to persistence diagrams.\n",
      "Got the result from ./1/64/test/filtrations/6/RadialFiltration_25_51/gray/features.npy\n",
      "FiltrationExtractor: processing 1/64/test/filtrations/6/RadialFiltration_25_51/red, do_fit = False, filtration = RadialFiltration(center=array([25, 51]), n_jobs=-1)\n",
      "Got the result from ./1/64/test/filtrations/6/RadialFiltration_25_51/red/diagrams.npy\n",
      "Applying Scaler to persistence diagrams.\n",
      "Got the result from ./1/64/test/filtrations/6/RadialFiltration_25_51/red/features.npy\n",
      "FiltrationExtractor: processing 1/64/test/filtrations/6/RadialFiltration_25_51/green, do_fit = False, filtration = RadialFiltration(center=array([25, 51]), n_jobs=-1)\n",
      "Got the result from ./1/64/test/filtrations/6/RadialFiltration_25_51/green/diagrams.npy\n",
      "Applying Scaler to persistence diagrams.\n",
      "Got the result from ./1/64/test/filtrations/6/RadialFiltration_25_51/green/features.npy\n",
      "FiltrationExtractor: processing 1/64/test/filtrations/6/RadialFiltration_25_51/blue, do_fit = False, filtration = RadialFiltration(center=array([25, 51]), n_jobs=-1)\n",
      "Got the result from ./1/64/test/filtrations/6/RadialFiltration_25_51/blue/diagrams.npy\n",
      "Applying Scaler to persistence diagrams.\n",
      "Got the result from ./1/64/test/filtrations/6/RadialFiltration_25_51/blue/features.npy\n",
      "Applying filtration 65/72: RadialFiltration with c = (38, 12), bin. thr. = 0.6\n",
      "RGB images received. Transforming to grayscale.\n"
     ]
    },
    {
     "name": "stderr",
     "output_type": "stream",
     "text": [
      "rgb2gray: 100%|██████████| 3925/3925 [00:00<00:00, 9916.70it/s]\n"
     ]
    },
    {
     "name": "stdout",
     "output_type": "stream",
     "text": [
      "FiltrationExtractor: processing 1/64/test/filtrations/6/RadialFiltration_38_12/gray, do_fit = False, filtration = RadialFiltration(center=array([38, 12]), n_jobs=-1)\n",
      "Got the result from ./1/64/test/filtrations/6/RadialFiltration_38_12/gray/diagrams.npy\n",
      "Applying Scaler to persistence diagrams.\n",
      "Got the result from ./1/64/test/filtrations/6/RadialFiltration_38_12/gray/features.npy\n",
      "FiltrationExtractor: processing 1/64/test/filtrations/6/RadialFiltration_38_12/red, do_fit = False, filtration = RadialFiltration(center=array([38, 12]), n_jobs=-1)\n",
      "Got the result from ./1/64/test/filtrations/6/RadialFiltration_38_12/red/diagrams.npy\n",
      "Applying Scaler to persistence diagrams.\n",
      "Got the result from ./1/64/test/filtrations/6/RadialFiltration_38_12/red/features.npy\n",
      "FiltrationExtractor: processing 1/64/test/filtrations/6/RadialFiltration_38_12/green, do_fit = False, filtration = RadialFiltration(center=array([38, 12]), n_jobs=-1)\n",
      "Got the result from ./1/64/test/filtrations/6/RadialFiltration_38_12/green/diagrams.npy\n",
      "Applying Scaler to persistence diagrams.\n",
      "Got the result from ./1/64/test/filtrations/6/RadialFiltration_38_12/green/features.npy\n",
      "FiltrationExtractor: processing 1/64/test/filtrations/6/RadialFiltration_38_12/blue, do_fit = False, filtration = RadialFiltration(center=array([38, 12]), n_jobs=-1)\n",
      "Got the result from ./1/64/test/filtrations/6/RadialFiltration_38_12/blue/diagrams.npy\n",
      "Applying Scaler to persistence diagrams.\n",
      "Got the result from ./1/64/test/filtrations/6/RadialFiltration_38_12/blue/features.npy\n",
      "Applying filtration 66/72: RadialFiltration with c = (38, 25), bin. thr. = 0.6\n",
      "RGB images received. Transforming to grayscale.\n"
     ]
    },
    {
     "name": "stderr",
     "output_type": "stream",
     "text": [
      "rgb2gray: 100%|██████████| 3925/3925 [00:00<00:00, 9920.63it/s]\n"
     ]
    },
    {
     "name": "stdout",
     "output_type": "stream",
     "text": [
      "FiltrationExtractor: processing 1/64/test/filtrations/6/RadialFiltration_38_25/gray, do_fit = False, filtration = RadialFiltration(center=array([38, 25]), n_jobs=-1)\n",
      "Got the result from ./1/64/test/filtrations/6/RadialFiltration_38_25/gray/diagrams.npy\n",
      "Applying Scaler to persistence diagrams.\n",
      "Got the result from ./1/64/test/filtrations/6/RadialFiltration_38_25/gray/features.npy\n",
      "FiltrationExtractor: processing 1/64/test/filtrations/6/RadialFiltration_38_25/red, do_fit = False, filtration = RadialFiltration(center=array([38, 25]), n_jobs=-1)\n",
      "Got the result from ./1/64/test/filtrations/6/RadialFiltration_38_25/red/diagrams.npy\n",
      "Applying Scaler to persistence diagrams.\n",
      "Got the result from ./1/64/test/filtrations/6/RadialFiltration_38_25/red/features.npy\n",
      "FiltrationExtractor: processing 1/64/test/filtrations/6/RadialFiltration_38_25/green, do_fit = False, filtration = RadialFiltration(center=array([38, 25]), n_jobs=-1)\n",
      "Got the result from ./1/64/test/filtrations/6/RadialFiltration_38_25/green/diagrams.npy\n",
      "Applying Scaler to persistence diagrams.\n",
      "Got the result from ./1/64/test/filtrations/6/RadialFiltration_38_25/green/features.npy\n",
      "FiltrationExtractor: processing 1/64/test/filtrations/6/RadialFiltration_38_25/blue, do_fit = False, filtration = RadialFiltration(center=array([38, 25]), n_jobs=-1)\n",
      "Got the result from ./1/64/test/filtrations/6/RadialFiltration_38_25/blue/diagrams.npy\n",
      "Applying Scaler to persistence diagrams.\n",
      "Got the result from ./1/64/test/filtrations/6/RadialFiltration_38_25/blue/features.npy\n",
      "Applying filtration 67/72: RadialFiltration with c = (38, 38), bin. thr. = 0.6\n",
      "RGB images received. Transforming to grayscale.\n"
     ]
    },
    {
     "name": "stderr",
     "output_type": "stream",
     "text": [
      "rgb2gray: 100%|██████████| 3925/3925 [00:00<00:00, 10307.11it/s]\n"
     ]
    },
    {
     "name": "stdout",
     "output_type": "stream",
     "text": [
      "FiltrationExtractor: processing 1/64/test/filtrations/6/RadialFiltration_38_38/gray, do_fit = False, filtration = RadialFiltration(center=array([38, 38]), n_jobs=-1)\n",
      "Got the result from ./1/64/test/filtrations/6/RadialFiltration_38_38/gray/diagrams.npy\n",
      "Applying Scaler to persistence diagrams.\n",
      "Got the result from ./1/64/test/filtrations/6/RadialFiltration_38_38/gray/features.npy\n",
      "FiltrationExtractor: processing 1/64/test/filtrations/6/RadialFiltration_38_38/red, do_fit = False, filtration = RadialFiltration(center=array([38, 38]), n_jobs=-1)\n",
      "Got the result from ./1/64/test/filtrations/6/RadialFiltration_38_38/red/diagrams.npy\n",
      "Applying Scaler to persistence diagrams.\n",
      "Got the result from ./1/64/test/filtrations/6/RadialFiltration_38_38/red/features.npy\n",
      "FiltrationExtractor: processing 1/64/test/filtrations/6/RadialFiltration_38_38/green, do_fit = False, filtration = RadialFiltration(center=array([38, 38]), n_jobs=-1)\n",
      "Got the result from ./1/64/test/filtrations/6/RadialFiltration_38_38/green/diagrams.npy\n",
      "Applying Scaler to persistence diagrams.\n",
      "Got the result from ./1/64/test/filtrations/6/RadialFiltration_38_38/green/features.npy\n",
      "FiltrationExtractor: processing 1/64/test/filtrations/6/RadialFiltration_38_38/blue, do_fit = False, filtration = RadialFiltration(center=array([38, 38]), n_jobs=-1)\n",
      "Got the result from ./1/64/test/filtrations/6/RadialFiltration_38_38/blue/diagrams.npy\n",
      "Applying Scaler to persistence diagrams.\n",
      "Got the result from ./1/64/test/filtrations/6/RadialFiltration_38_38/blue/features.npy\n",
      "Applying filtration 68/72: RadialFiltration with c = (38, 51), bin. thr. = 0.6\n",
      "RGB images received. Transforming to grayscale.\n"
     ]
    },
    {
     "name": "stderr",
     "output_type": "stream",
     "text": [
      "rgb2gray: 100%|██████████| 3925/3925 [00:00<00:00, 10045.35it/s]\n"
     ]
    },
    {
     "name": "stdout",
     "output_type": "stream",
     "text": [
      "FiltrationExtractor: processing 1/64/test/filtrations/6/RadialFiltration_38_51/gray, do_fit = False, filtration = RadialFiltration(center=array([38, 51]), n_jobs=-1)\n",
      "Got the result from ./1/64/test/filtrations/6/RadialFiltration_38_51/gray/diagrams.npy\n",
      "Applying Scaler to persistence diagrams.\n",
      "Got the result from ./1/64/test/filtrations/6/RadialFiltration_38_51/gray/features.npy\n",
      "FiltrationExtractor: processing 1/64/test/filtrations/6/RadialFiltration_38_51/red, do_fit = False, filtration = RadialFiltration(center=array([38, 51]), n_jobs=-1)\n",
      "Got the result from ./1/64/test/filtrations/6/RadialFiltration_38_51/red/diagrams.npy\n",
      "Applying Scaler to persistence diagrams.\n",
      "Got the result from ./1/64/test/filtrations/6/RadialFiltration_38_51/red/features.npy\n",
      "FiltrationExtractor: processing 1/64/test/filtrations/6/RadialFiltration_38_51/green, do_fit = False, filtration = RadialFiltration(center=array([38, 51]), n_jobs=-1)\n",
      "Got the result from ./1/64/test/filtrations/6/RadialFiltration_38_51/green/diagrams.npy\n",
      "Applying Scaler to persistence diagrams.\n",
      "Got the result from ./1/64/test/filtrations/6/RadialFiltration_38_51/green/features.npy\n",
      "FiltrationExtractor: processing 1/64/test/filtrations/6/RadialFiltration_38_51/blue, do_fit = False, filtration = RadialFiltration(center=array([38, 51]), n_jobs=-1)\n",
      "Got the result from ./1/64/test/filtrations/6/RadialFiltration_38_51/blue/diagrams.npy\n",
      "Applying Scaler to persistence diagrams.\n",
      "Got the result from ./1/64/test/filtrations/6/RadialFiltration_38_51/blue/features.npy\n",
      "Applying filtration 69/72: RadialFiltration with c = (51, 12), bin. thr. = 0.6\n",
      "RGB images received. Transforming to grayscale.\n"
     ]
    },
    {
     "name": "stderr",
     "output_type": "stream",
     "text": [
      "rgb2gray: 100%|██████████| 3925/3925 [00:00<00:00, 10037.05it/s]\n"
     ]
    },
    {
     "name": "stdout",
     "output_type": "stream",
     "text": [
      "FiltrationExtractor: processing 1/64/test/filtrations/6/RadialFiltration_51_12/gray, do_fit = False, filtration = RadialFiltration(center=array([51, 12]), n_jobs=-1)\n",
      "Got the result from ./1/64/test/filtrations/6/RadialFiltration_51_12/gray/diagrams.npy\n",
      "Applying Scaler to persistence diagrams.\n",
      "Got the result from ./1/64/test/filtrations/6/RadialFiltration_51_12/gray/features.npy\n",
      "FiltrationExtractor: processing 1/64/test/filtrations/6/RadialFiltration_51_12/red, do_fit = False, filtration = RadialFiltration(center=array([51, 12]), n_jobs=-1)\n",
      "Got the result from ./1/64/test/filtrations/6/RadialFiltration_51_12/red/diagrams.npy\n",
      "Applying Scaler to persistence diagrams.\n",
      "Got the result from ./1/64/test/filtrations/6/RadialFiltration_51_12/red/features.npy\n",
      "FiltrationExtractor: processing 1/64/test/filtrations/6/RadialFiltration_51_12/green, do_fit = False, filtration = RadialFiltration(center=array([51, 12]), n_jobs=-1)\n",
      "Got the result from ./1/64/test/filtrations/6/RadialFiltration_51_12/green/diagrams.npy\n",
      "Applying Scaler to persistence diagrams.\n",
      "Got the result from ./1/64/test/filtrations/6/RadialFiltration_51_12/green/features.npy\n",
      "FiltrationExtractor: processing 1/64/test/filtrations/6/RadialFiltration_51_12/blue, do_fit = False, filtration = RadialFiltration(center=array([51, 12]), n_jobs=-1)\n",
      "Got the result from ./1/64/test/filtrations/6/RadialFiltration_51_12/blue/diagrams.npy\n",
      "Applying Scaler to persistence diagrams.\n",
      "Got the result from ./1/64/test/filtrations/6/RadialFiltration_51_12/blue/features.npy\n",
      "Applying filtration 70/72: RadialFiltration with c = (51, 25), bin. thr. = 0.6\n",
      "RGB images received. Transforming to grayscale.\n"
     ]
    },
    {
     "name": "stderr",
     "output_type": "stream",
     "text": [
      "rgb2gray: 100%|██████████| 3925/3925 [00:00<00:00, 9151.65it/s]\n"
     ]
    },
    {
     "name": "stdout",
     "output_type": "stream",
     "text": [
      "FiltrationExtractor: processing 1/64/test/filtrations/6/RadialFiltration_51_25/gray, do_fit = False, filtration = RadialFiltration(center=array([51, 25]), n_jobs=-1)\n",
      "Got the result from ./1/64/test/filtrations/6/RadialFiltration_51_25/gray/diagrams.npy\n",
      "Applying Scaler to persistence diagrams.\n",
      "Got the result from ./1/64/test/filtrations/6/RadialFiltration_51_25/gray/features.npy\n",
      "FiltrationExtractor: processing 1/64/test/filtrations/6/RadialFiltration_51_25/red, do_fit = False, filtration = RadialFiltration(center=array([51, 25]), n_jobs=-1)\n",
      "Got the result from ./1/64/test/filtrations/6/RadialFiltration_51_25/red/diagrams.npy\n",
      "Applying Scaler to persistence diagrams.\n",
      "Got the result from ./1/64/test/filtrations/6/RadialFiltration_51_25/red/features.npy\n",
      "FiltrationExtractor: processing 1/64/test/filtrations/6/RadialFiltration_51_25/green, do_fit = False, filtration = RadialFiltration(center=array([51, 25]), n_jobs=-1)\n",
      "Got the result from ./1/64/test/filtrations/6/RadialFiltration_51_25/green/diagrams.npy\n",
      "Applying Scaler to persistence diagrams.\n",
      "Got the result from ./1/64/test/filtrations/6/RadialFiltration_51_25/green/features.npy\n",
      "FiltrationExtractor: processing 1/64/test/filtrations/6/RadialFiltration_51_25/blue, do_fit = False, filtration = RadialFiltration(center=array([51, 25]), n_jobs=-1)\n",
      "Got the result from ./1/64/test/filtrations/6/RadialFiltration_51_25/blue/diagrams.npy\n",
      "Applying Scaler to persistence diagrams.\n",
      "Got the result from ./1/64/test/filtrations/6/RadialFiltration_51_25/blue/features.npy\n",
      "Applying filtration 71/72: RadialFiltration with c = (51, 38), bin. thr. = 0.6\n",
      "RGB images received. Transforming to grayscale.\n"
     ]
    },
    {
     "name": "stderr",
     "output_type": "stream",
     "text": [
      "rgb2gray: 100%|██████████| 3925/3925 [00:00<00:00, 9605.34it/s]\n"
     ]
    },
    {
     "name": "stdout",
     "output_type": "stream",
     "text": [
      "FiltrationExtractor: processing 1/64/test/filtrations/6/RadialFiltration_51_38/gray, do_fit = False, filtration = RadialFiltration(center=array([51, 38]), n_jobs=-1)\n",
      "Got the result from ./1/64/test/filtrations/6/RadialFiltration_51_38/gray/diagrams.npy\n",
      "Applying Scaler to persistence diagrams.\n",
      "Got the result from ./1/64/test/filtrations/6/RadialFiltration_51_38/gray/features.npy\n",
      "FiltrationExtractor: processing 1/64/test/filtrations/6/RadialFiltration_51_38/red, do_fit = False, filtration = RadialFiltration(center=array([51, 38]), n_jobs=-1)\n",
      "Got the result from ./1/64/test/filtrations/6/RadialFiltration_51_38/red/diagrams.npy\n",
      "Applying Scaler to persistence diagrams.\n",
      "Got the result from ./1/64/test/filtrations/6/RadialFiltration_51_38/red/features.npy\n",
      "FiltrationExtractor: processing 1/64/test/filtrations/6/RadialFiltration_51_38/green, do_fit = False, filtration = RadialFiltration(center=array([51, 38]), n_jobs=-1)\n",
      "Got the result from ./1/64/test/filtrations/6/RadialFiltration_51_38/green/diagrams.npy\n",
      "Applying Scaler to persistence diagrams.\n",
      "Got the result from ./1/64/test/filtrations/6/RadialFiltration_51_38/green/features.npy\n",
      "FiltrationExtractor: processing 1/64/test/filtrations/6/RadialFiltration_51_38/blue, do_fit = False, filtration = RadialFiltration(center=array([51, 38]), n_jobs=-1)\n",
      "Got the result from ./1/64/test/filtrations/6/RadialFiltration_51_38/blue/diagrams.npy\n",
      "Applying Scaler to persistence diagrams.\n",
      "Got the result from ./1/64/test/filtrations/6/RadialFiltration_51_38/blue/features.npy\n",
      "Applying filtration 72/72: RadialFiltration with c = (51, 51), bin. thr. = 0.6\n",
      "RGB images received. Transforming to grayscale.\n"
     ]
    },
    {
     "name": "stderr",
     "output_type": "stream",
     "text": [
      "rgb2gray: 100%|██████████| 3925/3925 [00:00<00:00, 10242.72it/s]\n"
     ]
    },
    {
     "name": "stdout",
     "output_type": "stream",
     "text": [
      "FiltrationExtractor: processing 1/64/test/filtrations/6/RadialFiltration_51_51/gray, do_fit = False, filtration = RadialFiltration(center=array([51, 51]), n_jobs=-1)\n",
      "Got the result from ./1/64/test/filtrations/6/RadialFiltration_51_51/gray/diagrams.npy\n",
      "Applying Scaler to persistence diagrams.\n",
      "Got the result from ./1/64/test/filtrations/6/RadialFiltration_51_51/gray/features.npy\n",
      "FiltrationExtractor: processing 1/64/test/filtrations/6/RadialFiltration_51_51/red, do_fit = False, filtration = RadialFiltration(center=array([51, 51]), n_jobs=-1)\n",
      "Got the result from ./1/64/test/filtrations/6/RadialFiltration_51_51/red/diagrams.npy\n",
      "Applying Scaler to persistence diagrams.\n",
      "Got the result from ./1/64/test/filtrations/6/RadialFiltration_51_51/red/features.npy\n",
      "FiltrationExtractor: processing 1/64/test/filtrations/6/RadialFiltration_51_51/green, do_fit = False, filtration = RadialFiltration(center=array([51, 51]), n_jobs=-1)\n",
      "Got the result from ./1/64/test/filtrations/6/RadialFiltration_51_51/green/diagrams.npy\n",
      "Applying Scaler to persistence diagrams.\n",
      "Got the result from ./1/64/test/filtrations/6/RadialFiltration_51_51/green/features.npy\n",
      "FiltrationExtractor: processing 1/64/test/filtrations/6/RadialFiltration_51_51/blue, do_fit = False, filtration = RadialFiltration(center=array([51, 51]), n_jobs=-1)\n",
      "Got the result from ./1/64/test/filtrations/6/RadialFiltration_51_51/blue/diagrams.npy\n",
      "Applying Scaler to persistence diagrams.\n",
      "Got the result from ./1/64/test/filtrations/6/RadialFiltration_51_51/blue/features.npy\n",
      "RGB images received. Transforming to grayscale.\n",
      "Got the result from ./1/64/test/geometry/rgb/features.npy\n"
     ]
    },
    {
     "name": "stderr",
     "output_type": "stream",
     "text": [
      "rgb2gray: 100%|██████████| 3925/3925 [00:00<00:00, 10033.26it/s]\n"
     ]
    },
    {
     "name": "stdout",
     "output_type": "stream",
     "text": [
      "Got the result from ./1/64/test/geometry/gray/features.npy\n",
      "Got the result from ./1/64/test/geometry/red/features.npy\n",
      "Got the result from ./1/64/test/geometry/green/features.npy\n",
      "Got the result from ./1/64/test/geometry/blue/features.npy\n",
      "Applying StandardScaler.\n"
     ]
    }
   ],
   "source": [
    "import cvtda.topology\n",
    "extractor = cvtda.topology.FeatureExtractor(only_get_from_dump = False, return_diagrams = False)\n",
    "extractor = extractor.fit(train_images, \"1/64/train\")\n",
    "train_features = extractor.transform(train_images, \"1/64/train\")\n",
    "test_features = extractor.transform(test_images, \"1/64/test\")"
   ]
  },
  {
   "cell_type": "code",
   "execution_count": 3,
   "id": "9e6c9434",
   "metadata": {},
   "outputs": [
    {
     "name": "stderr",
     "output_type": "stream",
     "text": [
      "information values:   0%|          | 1/57599 [00:07<124:56:35,  7.81s/it]d:\\Programs\\Programming\\Python\\lib\\site-packages\\joblib\\externals\\loky\\process_executor.py:752: UserWarning: A worker stopped while some jobs were given to the executor. This can be caused by a too short worker timeout or by a memory leak.\n",
      "  warnings.warn(\n",
      "information values: 100%|██████████| 57599/57599 [00:58<00:00, 987.15it/s] \n"
     ]
    },
    {
     "data": {
      "text/html": [
       "<div>\n",
       "<style scoped>\n",
       "    .dataframe tbody tr th:only-of-type {\n",
       "        vertical-align: middle;\n",
       "    }\n",
       "\n",
       "    .dataframe tbody tr th {\n",
       "        vertical-align: top;\n",
       "    }\n",
       "\n",
       "    .dataframe thead th {\n",
       "        text-align: right;\n",
       "    }\n",
       "</style>\n",
       "<table border=\"1\" class=\"dataframe\">\n",
       "  <thead>\n",
       "    <tr style=\"text-align: right;\">\n",
       "      <th></th>\n",
       "      <th>IV</th>\n",
       "      <th>feature</th>\n",
       "    </tr>\n",
       "  </thead>\n",
       "  <tbody>\n",
       "    <tr>\n",
       "      <th>0</th>\n",
       "      <td>0.215232</td>\n",
       "      <td>greyscale -&gt; gray -&gt; betti-0</td>\n",
       "    </tr>\n",
       "    <tr>\n",
       "      <th>1</th>\n",
       "      <td>0.215612</td>\n",
       "      <td>greyscale -&gt; gray -&gt; betti-1</td>\n",
       "    </tr>\n",
       "    <tr>\n",
       "      <th>2</th>\n",
       "      <td>0.262873</td>\n",
       "      <td>greyscale -&gt; gray -&gt; betti-2</td>\n",
       "    </tr>\n",
       "    <tr>\n",
       "      <th>3</th>\n",
       "      <td>0.239052</td>\n",
       "      <td>greyscale -&gt; gray -&gt; betti-3</td>\n",
       "    </tr>\n",
       "    <tr>\n",
       "      <th>4</th>\n",
       "      <td>0.310712</td>\n",
       "      <td>greyscale -&gt; gray -&gt; betti-4</td>\n",
       "    </tr>\n",
       "    <tr>\n",
       "      <th>...</th>\n",
       "      <td>...</td>\n",
       "      <td>...</td>\n",
       "    </tr>\n",
       "    <tr>\n",
       "      <th>57594</th>\n",
       "      <td>0.182251</td>\n",
       "      <td>geometry -&gt; blue -&gt; curvature-19</td>\n",
       "    </tr>\n",
       "    <tr>\n",
       "      <th>57595</th>\n",
       "      <td>0.159275</td>\n",
       "      <td>geometry -&gt; blue -&gt; curvature-20</td>\n",
       "    </tr>\n",
       "    <tr>\n",
       "      <th>57596</th>\n",
       "      <td>0.175421</td>\n",
       "      <td>geometry -&gt; blue -&gt; curvature-21</td>\n",
       "    </tr>\n",
       "    <tr>\n",
       "      <th>57597</th>\n",
       "      <td>0.181731</td>\n",
       "      <td>geometry -&gt; blue -&gt; curvature-22</td>\n",
       "    </tr>\n",
       "    <tr>\n",
       "      <th>57598</th>\n",
       "      <td>0.134676</td>\n",
       "      <td>geometry -&gt; blue -&gt; curvature-23</td>\n",
       "    </tr>\n",
       "  </tbody>\n",
       "</table>\n",
       "<p>57599 rows × 2 columns</p>\n",
       "</div>"
      ],
      "text/plain": [
       "             IV                           feature\n",
       "0      0.215232      greyscale -> gray -> betti-0\n",
       "1      0.215612      greyscale -> gray -> betti-1\n",
       "2      0.262873      greyscale -> gray -> betti-2\n",
       "3      0.239052      greyscale -> gray -> betti-3\n",
       "4      0.310712      greyscale -> gray -> betti-4\n",
       "...         ...                               ...\n",
       "57594  0.182251  geometry -> blue -> curvature-19\n",
       "57595  0.159275  geometry -> blue -> curvature-20\n",
       "57596  0.175421  geometry -> blue -> curvature-21\n",
       "57597  0.181731  geometry -> blue -> curvature-22\n",
       "57598  0.134676  geometry -> blue -> curvature-23\n",
       "\n",
       "[57599 rows x 2 columns]"
      ]
     },
     "execution_count": 3,
     "metadata": {},
     "output_type": "execute_result"
    }
   ],
   "source": [
    "import cvtda.classification\n",
    "IV = cvtda.classification.calculate_information_value(train_features, train_labels)\n",
    "\n",
    "import pandas\n",
    "scores = pandas.DataFrame([ IV, extractor.feature_names() ]).transpose()\n",
    "scores.columns = [ \"IV\", \"feature\" ]\n",
    "\n",
    "import os\n",
    "os.makedirs(os.path.dirname(\"3/scores.csv\"), exist_ok = True)\n",
    "scores.to_csv(\"3/scores.csv\")\n",
    "scores"
   ]
  },
  {
   "cell_type": "code",
   "execution_count": 1,
   "id": "653eba16",
   "metadata": {},
   "outputs": [
    {
     "data": {
      "image/png": "[encoded data removed]",
      "text/plain": [
       "<Figure size 1000x1000 with 3 Axes>"
      ]
     },
     "metadata": {},
     "output_type": "display_data"
    }
   ],
   "source": [
    "import re\n",
    "import pandas\n",
    "import matplotlib.pyplot as plt\n",
    "\n",
    "def parse_filtration(value):\n",
    "    if value in ('greyscale', 'inverted_greyscale', 'geometry'): return value\n",
    "    return ', '.join(re.match(r\"(.*)Filtration with (.*)\", value).groups())\n",
    "scores = pandas.read_csv(\"3/scores.csv\")\n",
    "scores['IV'] = scores['IV'].astype(float)\n",
    "scores[[\"type\", \"color\", \"details\"]] = scores[\"feature\"].str.split(\" -> \", expand = True)\n",
    "scores[[\"name\", \"threshold\"]] = scores[\"type\"].str.split(\", bin. \", expand = True)\n",
    "scores[\"name\"] = scores[\"name\"].apply(parse_filtration)\n",
    "\n",
    "def draw(by: str, ax):\n",
    "    grouped = scores.groupby(by = by).mean(numeric_only = True).reset_index()\n",
    "    grouped = grouped.sort_values(by = 'IV', ascending = True)\n",
    "    grouped.plot.barh(x = by, y = 'IV', ax = ax, legend = None)\n",
    "    ax.set_xlabel('')\n",
    "    ax.set_ylabel('')\n",
    "\n",
    "plt.rcParams.update({'font.size': 16})\n",
    "fig, axes = plt.subplot_mosaic([ [ \"name\", \"threshold\" ], [ \"name\", \"color\" ] ], figsize = (10, 10), height_ratios = [ 3, 5 ])\n",
    "fig.suptitle(\"Imagenette\")\n",
    "draw('name', axes['name'])\n",
    "draw('threshold', axes['threshold'])\n",
    "draw('color', axes['color'])\n",
    "fig.tight_layout()\n",
    "fig.savefig(\"3/iv.png\")\n",
    "fig.savefig(\"3/iv.svg\")"
   ]
  }
 ],
 "metadata": {
  "kernelspec": {
   "display_name": "Python 3",
   "language": "python",
   "name": "python3"
  },
  "language_info": {
   "codemirror_mode": {
    "name": "ipython",
    "version": 3
   },
   "file_extension": ".py",
   "mimetype": "text/x-python",
   "name": "python",
   "nbconvert_exporter": "python",
   "pygments_lexer": "ipython3",
   "version": "3.10.11"
  }
 },
 "nbformat": 4,
 "nbformat_minor": 5
}
