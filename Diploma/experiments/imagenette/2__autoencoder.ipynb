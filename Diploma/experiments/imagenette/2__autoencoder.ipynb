{
 "cells": [
  {
   "cell_type": "code",
   "execution_count": 1,
   "metadata": {},
   "outputs": [
    {
     "name": "stdout",
     "output_type": "stream",
     "text": [
      "(9469, 64, 64, 3) (3925, 64, 64, 3)\n"
     ]
    }
   ],
   "source": [
    "import numpy\n",
    "import torchvision\n",
    "import torchvision.transforms.v2\n",
    "\n",
    "transform = torchvision.transforms.v2.Compose([\n",
    "    torchvision.transforms.v2.Resize((64, 64), antialias = True)\n",
    "])\n",
    "\n",
    "train = torchvision.datasets.Imagenette('imagenette', split = 'train', size = '160px', transform = transform, download = False)\n",
    "test = torchvision.datasets.Imagenette('imagenette', split = 'val', size = '160px', transform = transform, download = False)\n",
    "\n",
    "train_images = numpy.array([ numpy.array(item[0]) / 255 for item in train ])\n",
    "train_labels = numpy.array([ item[1] for item in train ])\n",
    "\n",
    "test_images = numpy.array([ numpy.array(item[0]) / 255 for item in test ])\n",
    "test_labels = numpy.array([ item[1] for item in test ])\n",
    "\n",
    "print(train_images.shape, test_images.shape)"
   ]
  },
  {
   "cell_type": "code",
   "execution_count": 2,
   "metadata": {},
   "outputs": [
    {
     "name": "stdout",
     "output_type": "stream",
     "text": [
      "Calculating inverted images\n",
      "RGB images received. Transforming to grayscale.\n"
     ]
    },
    {
     "name": "stderr",
     "output_type": "stream",
     "text": [
      "rgb2gray: 100%|██████████| 9469/9469 [00:02<00:00, 3792.32it/s]\n"
     ]
    },
    {
     "name": "stdout",
     "output_type": "stream",
     "text": [
      "Got the result from ./1/64/train/greyscale/gray/features.npy\n",
      "Got the result from ./1/64/train/greyscale/gray/features.npy\n",
      "Got the result from ./1/64/train/greyscale/red/features.npy\n",
      "Got the result from ./1/64/train/greyscale/red/features.npy\n",
      "Got the result from ./1/64/train/greyscale/green/features.npy\n",
      "Got the result from ./1/64/train/greyscale/green/features.npy\n",
      "Got the result from ./1/64/train/greyscale/blue/features.npy\n",
      "Got the result from ./1/64/train/greyscale/blue/features.npy\n",
      "RGB images received. Transforming to grayscale.\n"
     ]
    },
    {
     "name": "stderr",
     "output_type": "stream",
     "text": [
      "rgb2gray: 100%|██████████| 9469/9469 [00:01<00:00, 4787.88it/s]\n"
     ]
    },
    {
     "name": "stdout",
     "output_type": "stream",
     "text": [
      "Got the result from ./1/64/train/greyscale/gray/features.npy\n",
      "Got the result from ./1/64/train/greyscale/red/features.npy\n",
      "Got the result from ./1/64/train/greyscale/green/features.npy\n",
      "Got the result from ./1/64/train/greyscale/blue/features.npy\n",
      "RGB images received. Transforming to grayscale.\n"
     ]
    },
    {
     "name": "stderr",
     "output_type": "stream",
     "text": [
      "rgb2gray: 100%|██████████| 9469/9469 [00:01<00:00, 4934.37it/s]\n"
     ]
    },
    {
     "name": "stdout",
     "output_type": "stream",
     "text": [
      "Got the result from ./1/64/train/inverted_greyscale/gray/features.npy\n",
      "Got the result from ./1/64/train/inverted_greyscale/gray/features.npy\n",
      "Got the result from ./1/64/train/inverted_greyscale/red/features.npy\n",
      "Got the result from ./1/64/train/inverted_greyscale/red/features.npy\n",
      "Got the result from ./1/64/train/inverted_greyscale/green/features.npy\n",
      "Got the result from ./1/64/train/inverted_greyscale/green/features.npy\n",
      "Got the result from ./1/64/train/inverted_greyscale/blue/features.npy\n",
      "Got the result from ./1/64/train/inverted_greyscale/blue/features.npy\n",
      "RGB images received. Transforming to grayscale.\n"
     ]
    },
    {
     "name": "stderr",
     "output_type": "stream",
     "text": [
      "rgb2gray: 100%|██████████| 9469/9469 [00:01<00:00, 5357.24it/s]\n"
     ]
    },
    {
     "name": "stdout",
     "output_type": "stream",
     "text": [
      "Got the result from ./1/64/train/inverted_greyscale/gray/features.npy\n",
      "Got the result from ./1/64/train/inverted_greyscale/red/features.npy\n",
      "Got the result from ./1/64/train/inverted_greyscale/green/features.npy\n",
      "Got the result from ./1/64/train/inverted_greyscale/blue/features.npy\n",
      "Fitting filtrations\n",
      "Calculated radial centers for images of size 64x64: [12 25 38 51]x[12 25 38 51]\n",
      "Fitting filtration 1/72: 2/HeightFiltrartion_-1_-1\n",
      "RGB images received. Transforming to grayscale.\n"
     ]
    },
    {
     "name": "stderr",
     "output_type": "stream",
     "text": [
      "rgb2gray: 100%|██████████| 9469/9469 [00:01<00:00, 4967.03it/s]\n"
     ]
    },
    {
     "name": "stdout",
     "output_type": "stream",
     "text": [
      "Got the result from ./1/64/train/filtrations/2/HeightFiltrartion_-1_-1/gray/features.npy\n",
      "Got the result from ./1/64/train/filtrations/2/HeightFiltrartion_-1_-1/gray/features.npy\n",
      "Got the result from ./1/64/train/filtrations/2/HeightFiltrartion_-1_-1/red/features.npy\n",
      "Got the result from ./1/64/train/filtrations/2/HeightFiltrartion_-1_-1/red/features.npy\n",
      "Got the result from ./1/64/train/filtrations/2/HeightFiltrartion_-1_-1/green/features.npy\n",
      "Got the result from ./1/64/train/filtrations/2/HeightFiltrartion_-1_-1/green/features.npy\n",
      "Got the result from ./1/64/train/filtrations/2/HeightFiltrartion_-1_-1/blue/features.npy\n",
      "Got the result from ./1/64/train/filtrations/2/HeightFiltrartion_-1_-1/blue/features.npy\n",
      "Fitting filtration 2/72: 2/HeightFiltrartion_1_1\n",
      "RGB images received. Transforming to grayscale.\n"
     ]
    },
    {
     "name": "stderr",
     "output_type": "stream",
     "text": [
      "rgb2gray: 100%|██████████| 9469/9469 [00:02<00:00, 4379.56it/s]\n"
     ]
    },
    {
     "name": "stdout",
     "output_type": "stream",
     "text": [
      "Got the result from ./1/64/train/filtrations/2/HeightFiltrartion_1_1/gray/features.npy\n",
      "Got the result from ./1/64/train/filtrations/2/HeightFiltrartion_1_1/gray/features.npy\n",
      "Got the result from ./1/64/train/filtrations/2/HeightFiltrartion_1_1/red/features.npy\n",
      "Got the result from ./1/64/train/filtrations/2/HeightFiltrartion_1_1/red/features.npy\n",
      "Got the result from ./1/64/train/filtrations/2/HeightFiltrartion_1_1/green/features.npy\n",
      "Got the result from ./1/64/train/filtrations/2/HeightFiltrartion_1_1/green/features.npy\n",
      "Got the result from ./1/64/train/filtrations/2/HeightFiltrartion_1_1/blue/features.npy\n",
      "Got the result from ./1/64/train/filtrations/2/HeightFiltrartion_1_1/blue/features.npy\n",
      "Fitting filtration 3/72: 2/HeightFiltrartion_1_-1\n",
      "RGB images received. Transforming to grayscale.\n"
     ]
    },
    {
     "name": "stderr",
     "output_type": "stream",
     "text": [
      "rgb2gray: 100%|██████████| 9469/9469 [00:02<00:00, 4450.01it/s]\n"
     ]
    },
    {
     "name": "stdout",
     "output_type": "stream",
     "text": [
      "Got the result from ./1/64/train/filtrations/2/HeightFiltrartion_1_-1/gray/features.npy\n",
      "Got the result from ./1/64/train/filtrations/2/HeightFiltrartion_1_-1/gray/features.npy\n",
      "Got the result from ./1/64/train/filtrations/2/HeightFiltrartion_1_-1/red/features.npy\n",
      "Got the result from ./1/64/train/filtrations/2/HeightFiltrartion_1_-1/red/features.npy\n",
      "Got the result from ./1/64/train/filtrations/2/HeightFiltrartion_1_-1/green/features.npy\n",
      "Got the result from ./1/64/train/filtrations/2/HeightFiltrartion_1_-1/green/features.npy\n",
      "Got the result from ./1/64/train/filtrations/2/HeightFiltrartion_1_-1/blue/features.npy\n",
      "Got the result from ./1/64/train/filtrations/2/HeightFiltrartion_1_-1/blue/features.npy\n",
      "Fitting filtration 4/72: 2/HeightFiltrartion_-1_1\n",
      "RGB images received. Transforming to grayscale.\n"
     ]
    },
    {
     "name": "stderr",
     "output_type": "stream",
     "text": [
      "rgb2gray: 100%|██████████| 9469/9469 [00:02<00:00, 4087.18it/s]\n"
     ]
    },
    {
     "name": "stdout",
     "output_type": "stream",
     "text": [
      "Got the result from ./1/64/train/filtrations/2/HeightFiltrartion_-1_1/gray/features.npy\n",
      "Got the result from ./1/64/train/filtrations/2/HeightFiltrartion_-1_1/gray/features.npy\n",
      "Got the result from ./1/64/train/filtrations/2/HeightFiltrartion_-1_1/red/features.npy\n",
      "Got the result from ./1/64/train/filtrations/2/HeightFiltrartion_-1_1/red/features.npy\n",
      "Got the result from ./1/64/train/filtrations/2/HeightFiltrartion_-1_1/green/features.npy\n",
      "Got the result from ./1/64/train/filtrations/2/HeightFiltrartion_-1_1/green/features.npy\n",
      "Got the result from ./1/64/train/filtrations/2/HeightFiltrartion_-1_1/blue/features.npy\n",
      "Got the result from ./1/64/train/filtrations/2/HeightFiltrartion_-1_1/blue/features.npy\n",
      "Fitting filtration 5/72: 2/HeightFiltrartion_0_-1\n",
      "RGB images received. Transforming to grayscale.\n"
     ]
    },
    {
     "name": "stderr",
     "output_type": "stream",
     "text": [
      "rgb2gray: 100%|██████████| 9469/9469 [00:02<00:00, 4213.53it/s]\n"
     ]
    },
    {
     "name": "stdout",
     "output_type": "stream",
     "text": [
      "Got the result from ./1/64/train/filtrations/2/HeightFiltrartion_0_-1/gray/features.npy\n",
      "Got the result from ./1/64/train/filtrations/2/HeightFiltrartion_0_-1/gray/features.npy\n",
      "Got the result from ./1/64/train/filtrations/2/HeightFiltrartion_0_-1/red/features.npy\n",
      "Got the result from ./1/64/train/filtrations/2/HeightFiltrartion_0_-1/red/features.npy\n",
      "Got the result from ./1/64/train/filtrations/2/HeightFiltrartion_0_-1/green/features.npy\n",
      "Got the result from ./1/64/train/filtrations/2/HeightFiltrartion_0_-1/green/features.npy\n",
      "Got the result from ./1/64/train/filtrations/2/HeightFiltrartion_0_-1/blue/features.npy\n",
      "Got the result from ./1/64/train/filtrations/2/HeightFiltrartion_0_-1/blue/features.npy\n",
      "Fitting filtration 6/72: 2/HeightFiltrartion_0_1\n",
      "RGB images received. Transforming to grayscale.\n"
     ]
    },
    {
     "name": "stderr",
     "output_type": "stream",
     "text": [
      "rgb2gray: 100%|██████████| 9469/9469 [00:02<00:00, 4214.15it/s]\n"
     ]
    },
    {
     "name": "stdout",
     "output_type": "stream",
     "text": [
      "Got the result from ./1/64/train/filtrations/2/HeightFiltrartion_0_1/gray/features.npy\n",
      "Got the result from ./1/64/train/filtrations/2/HeightFiltrartion_0_1/gray/features.npy\n",
      "Got the result from ./1/64/train/filtrations/2/HeightFiltrartion_0_1/red/features.npy\n",
      "Got the result from ./1/64/train/filtrations/2/HeightFiltrartion_0_1/red/features.npy\n",
      "Got the result from ./1/64/train/filtrations/2/HeightFiltrartion_0_1/green/features.npy\n",
      "Got the result from ./1/64/train/filtrations/2/HeightFiltrartion_0_1/green/features.npy\n",
      "Got the result from ./1/64/train/filtrations/2/HeightFiltrartion_0_1/blue/features.npy\n",
      "Got the result from ./1/64/train/filtrations/2/HeightFiltrartion_0_1/blue/features.npy\n",
      "Fitting filtration 7/72: 2/HeightFiltrartion_-1_0\n",
      "RGB images received. Transforming to grayscale.\n"
     ]
    },
    {
     "name": "stderr",
     "output_type": "stream",
     "text": [
      "rgb2gray: 100%|██████████| 9469/9469 [00:02<00:00, 4035.84it/s]\n"
     ]
    },
    {
     "name": "stdout",
     "output_type": "stream",
     "text": [
      "Got the result from ./1/64/train/filtrations/2/HeightFiltrartion_-1_0/gray/features.npy\n",
      "Got the result from ./1/64/train/filtrations/2/HeightFiltrartion_-1_0/gray/features.npy\n",
      "Got the result from ./1/64/train/filtrations/2/HeightFiltrartion_-1_0/red/features.npy\n",
      "Got the result from ./1/64/train/filtrations/2/HeightFiltrartion_-1_0/red/features.npy\n",
      "Got the result from ./1/64/train/filtrations/2/HeightFiltrartion_-1_0/green/features.npy\n",
      "Got the result from ./1/64/train/filtrations/2/HeightFiltrartion_-1_0/green/features.npy\n",
      "Got the result from ./1/64/train/filtrations/2/HeightFiltrartion_-1_0/blue/features.npy\n",
      "Got the result from ./1/64/train/filtrations/2/HeightFiltrartion_-1_0/blue/features.npy\n",
      "Fitting filtration 8/72: 2/HeightFiltrartion_1_0\n",
      "RGB images received. Transforming to grayscale.\n"
     ]
    },
    {
     "name": "stderr",
     "output_type": "stream",
     "text": [
      "rgb2gray: 100%|██████████| 9469/9469 [00:02<00:00, 4106.40it/s]\n"
     ]
    },
    {
     "name": "stdout",
     "output_type": "stream",
     "text": [
      "Got the result from ./1/64/train/filtrations/2/HeightFiltrartion_1_0/gray/features.npy\n",
      "Got the result from ./1/64/train/filtrations/2/HeightFiltrartion_1_0/gray/features.npy\n",
      "Got the result from ./1/64/train/filtrations/2/HeightFiltrartion_1_0/red/features.npy\n",
      "Got the result from ./1/64/train/filtrations/2/HeightFiltrartion_1_0/red/features.npy\n",
      "Got the result from ./1/64/train/filtrations/2/HeightFiltrartion_1_0/green/features.npy\n",
      "Got the result from ./1/64/train/filtrations/2/HeightFiltrartion_1_0/green/features.npy\n",
      "Got the result from ./1/64/train/filtrations/2/HeightFiltrartion_1_0/blue/features.npy\n",
      "Got the result from ./1/64/train/filtrations/2/HeightFiltrartion_1_0/blue/features.npy\n",
      "Fitting filtration 9/72: 2/RadialFiltration_12_12\n",
      "RGB images received. Transforming to grayscale.\n"
     ]
    },
    {
     "name": "stderr",
     "output_type": "stream",
     "text": [
      "rgb2gray: 100%|██████████| 9469/9469 [00:02<00:00, 4514.83it/s]\n"
     ]
    },
    {
     "name": "stdout",
     "output_type": "stream",
     "text": [
      "Got the result from ./1/64/train/filtrations/2/RadialFiltration_12_12/gray/features.npy\n",
      "Got the result from ./1/64/train/filtrations/2/RadialFiltration_12_12/gray/features.npy\n",
      "Got the result from ./1/64/train/filtrations/2/RadialFiltration_12_12/red/features.npy\n",
      "Got the result from ./1/64/train/filtrations/2/RadialFiltration_12_12/red/features.npy\n",
      "Got the result from ./1/64/train/filtrations/2/RadialFiltration_12_12/green/features.npy\n",
      "Got the result from ./1/64/train/filtrations/2/RadialFiltration_12_12/green/features.npy\n",
      "Got the result from ./1/64/train/filtrations/2/RadialFiltration_12_12/blue/features.npy\n",
      "Got the result from ./1/64/train/filtrations/2/RadialFiltration_12_12/blue/features.npy\n",
      "Fitting filtration 10/72: 2/RadialFiltration_12_25\n",
      "RGB images received. Transforming to grayscale.\n"
     ]
    },
    {
     "name": "stderr",
     "output_type": "stream",
     "text": [
      "rgb2gray: 100%|██████████| 9469/9469 [00:02<00:00, 4501.10it/s]\n"
     ]
    },
    {
     "name": "stdout",
     "output_type": "stream",
     "text": [
      "Got the result from ./1/64/train/filtrations/2/RadialFiltration_12_25/gray/features.npy\n",
      "Got the result from ./1/64/train/filtrations/2/RadialFiltration_12_25/gray/features.npy\n",
      "Got the result from ./1/64/train/filtrations/2/RadialFiltration_12_25/red/features.npy\n",
      "Got the result from ./1/64/train/filtrations/2/RadialFiltration_12_25/red/features.npy\n",
      "Got the result from ./1/64/train/filtrations/2/RadialFiltration_12_25/green/features.npy\n",
      "Got the result from ./1/64/train/filtrations/2/RadialFiltration_12_25/green/features.npy\n",
      "Got the result from ./1/64/train/filtrations/2/RadialFiltration_12_25/blue/features.npy\n",
      "Got the result from ./1/64/train/filtrations/2/RadialFiltration_12_25/blue/features.npy\n",
      "Fitting filtration 11/72: 2/RadialFiltration_12_38\n",
      "RGB images received. Transforming to grayscale.\n"
     ]
    },
    {
     "name": "stderr",
     "output_type": "stream",
     "text": [
      "rgb2gray: 100%|██████████| 9469/9469 [00:02<00:00, 4290.11it/s]\n"
     ]
    },
    {
     "name": "stdout",
     "output_type": "stream",
     "text": [
      "Got the result from ./1/64/train/filtrations/2/RadialFiltration_12_38/gray/features.npy\n",
      "Got the result from ./1/64/train/filtrations/2/RadialFiltration_12_38/gray/features.npy\n",
      "Got the result from ./1/64/train/filtrations/2/RadialFiltration_12_38/red/features.npy\n",
      "Got the result from ./1/64/train/filtrations/2/RadialFiltration_12_38/red/features.npy\n",
      "Got the result from ./1/64/train/filtrations/2/RadialFiltration_12_38/green/features.npy\n",
      "Got the result from ./1/64/train/filtrations/2/RadialFiltration_12_38/green/features.npy\n",
      "Got the result from ./1/64/train/filtrations/2/RadialFiltration_12_38/blue/features.npy\n",
      "Got the result from ./1/64/train/filtrations/2/RadialFiltration_12_38/blue/features.npy\n",
      "Fitting filtration 12/72: 2/RadialFiltration_12_51\n",
      "RGB images received. Transforming to grayscale.\n"
     ]
    },
    {
     "name": "stderr",
     "output_type": "stream",
     "text": [
      "rgb2gray: 100%|██████████| 9469/9469 [00:02<00:00, 4299.43it/s]\n"
     ]
    },
    {
     "name": "stdout",
     "output_type": "stream",
     "text": [
      "Got the result from ./1/64/train/filtrations/2/RadialFiltration_12_51/gray/features.npy\n",
      "Got the result from ./1/64/train/filtrations/2/RadialFiltration_12_51/gray/features.npy\n",
      "Got the result from ./1/64/train/filtrations/2/RadialFiltration_12_51/red/features.npy\n",
      "Got the result from ./1/64/train/filtrations/2/RadialFiltration_12_51/red/features.npy\n",
      "Got the result from ./1/64/train/filtrations/2/RadialFiltration_12_51/green/features.npy\n",
      "Got the result from ./1/64/train/filtrations/2/RadialFiltration_12_51/green/features.npy\n",
      "Got the result from ./1/64/train/filtrations/2/RadialFiltration_12_51/blue/features.npy\n",
      "Got the result from ./1/64/train/filtrations/2/RadialFiltration_12_51/blue/features.npy\n",
      "Fitting filtration 13/72: 2/RadialFiltration_25_12\n",
      "RGB images received. Transforming to grayscale.\n"
     ]
    },
    {
     "name": "stderr",
     "output_type": "stream",
     "text": [
      "rgb2gray: 100%|██████████| 9469/9469 [00:02<00:00, 4624.31it/s]\n"
     ]
    },
    {
     "name": "stdout",
     "output_type": "stream",
     "text": [
      "Got the result from ./1/64/train/filtrations/2/RadialFiltration_25_12/gray/features.npy\n",
      "Got the result from ./1/64/train/filtrations/2/RadialFiltration_25_12/gray/features.npy\n",
      "Got the result from ./1/64/train/filtrations/2/RadialFiltration_25_12/red/features.npy\n",
      "Got the result from ./1/64/train/filtrations/2/RadialFiltration_25_12/red/features.npy\n",
      "Got the result from ./1/64/train/filtrations/2/RadialFiltration_25_12/green/features.npy\n",
      "Got the result from ./1/64/train/filtrations/2/RadialFiltration_25_12/green/features.npy\n",
      "Got the result from ./1/64/train/filtrations/2/RadialFiltration_25_12/blue/features.npy\n",
      "Got the result from ./1/64/train/filtrations/2/RadialFiltration_25_12/blue/features.npy\n",
      "Fitting filtration 14/72: 2/RadialFiltration_25_25\n",
      "RGB images received. Transforming to grayscale.\n"
     ]
    },
    {
     "name": "stderr",
     "output_type": "stream",
     "text": [
      "rgb2gray: 100%|██████████| 9469/9469 [00:02<00:00, 4558.66it/s]\n"
     ]
    },
    {
     "name": "stdout",
     "output_type": "stream",
     "text": [
      "Got the result from ./1/64/train/filtrations/2/RadialFiltration_25_25/gray/features.npy\n",
      "Got the result from ./1/64/train/filtrations/2/RadialFiltration_25_25/gray/features.npy\n",
      "Got the result from ./1/64/train/filtrations/2/RadialFiltration_25_25/red/features.npy\n",
      "Got the result from ./1/64/train/filtrations/2/RadialFiltration_25_25/red/features.npy\n",
      "Got the result from ./1/64/train/filtrations/2/RadialFiltration_25_25/green/features.npy\n",
      "Got the result from ./1/64/train/filtrations/2/RadialFiltration_25_25/green/features.npy\n",
      "Got the result from ./1/64/train/filtrations/2/RadialFiltration_25_25/blue/features.npy\n",
      "Got the result from ./1/64/train/filtrations/2/RadialFiltration_25_25/blue/features.npy\n",
      "Fitting filtration 15/72: 2/RadialFiltration_25_38\n",
      "RGB images received. Transforming to grayscale.\n"
     ]
    },
    {
     "name": "stderr",
     "output_type": "stream",
     "text": [
      "rgb2gray: 100%|██████████| 9469/9469 [00:02<00:00, 3703.85it/s]\n"
     ]
    },
    {
     "name": "stdout",
     "output_type": "stream",
     "text": [
      "Got the result from ./1/64/train/filtrations/2/RadialFiltration_25_38/gray/features.npy\n",
      "Got the result from ./1/64/train/filtrations/2/RadialFiltration_25_38/gray/features.npy\n",
      "Got the result from ./1/64/train/filtrations/2/RadialFiltration_25_38/red/features.npy\n",
      "Got the result from ./1/64/train/filtrations/2/RadialFiltration_25_38/red/features.npy\n",
      "Got the result from ./1/64/train/filtrations/2/RadialFiltration_25_38/green/features.npy\n",
      "Got the result from ./1/64/train/filtrations/2/RadialFiltration_25_38/green/features.npy\n",
      "Got the result from ./1/64/train/filtrations/2/RadialFiltration_25_38/blue/features.npy\n",
      "Got the result from ./1/64/train/filtrations/2/RadialFiltration_25_38/blue/features.npy\n",
      "Fitting filtration 16/72: 2/RadialFiltration_25_51\n",
      "RGB images received. Transforming to grayscale.\n"
     ]
    },
    {
     "name": "stderr",
     "output_type": "stream",
     "text": [
      "rgb2gray: 100%|██████████| 9469/9469 [00:02<00:00, 4094.43it/s]\n"
     ]
    },
    {
     "name": "stdout",
     "output_type": "stream",
     "text": [
      "Got the result from ./1/64/train/filtrations/2/RadialFiltration_25_51/gray/features.npy\n",
      "Got the result from ./1/64/train/filtrations/2/RadialFiltration_25_51/gray/features.npy\n",
      "Got the result from ./1/64/train/filtrations/2/RadialFiltration_25_51/red/features.npy\n",
      "Got the result from ./1/64/train/filtrations/2/RadialFiltration_25_51/red/features.npy\n",
      "Got the result from ./1/64/train/filtrations/2/RadialFiltration_25_51/green/features.npy\n",
      "Got the result from ./1/64/train/filtrations/2/RadialFiltration_25_51/green/features.npy\n",
      "Got the result from ./1/64/train/filtrations/2/RadialFiltration_25_51/blue/features.npy\n",
      "Got the result from ./1/64/train/filtrations/2/RadialFiltration_25_51/blue/features.npy\n",
      "Fitting filtration 17/72: 2/RadialFiltration_38_12\n",
      "RGB images received. Transforming to grayscale.\n"
     ]
    },
    {
     "name": "stderr",
     "output_type": "stream",
     "text": [
      "rgb2gray: 100%|██████████| 9469/9469 [00:02<00:00, 4514.33it/s]\n"
     ]
    },
    {
     "name": "stdout",
     "output_type": "stream",
     "text": [
      "Got the result from ./1/64/train/filtrations/2/RadialFiltration_38_12/gray/features.npy\n",
      "Got the result from ./1/64/train/filtrations/2/RadialFiltration_38_12/gray/features.npy\n",
      "Got the result from ./1/64/train/filtrations/2/RadialFiltration_38_12/red/features.npy\n",
      "Got the result from ./1/64/train/filtrations/2/RadialFiltration_38_12/red/features.npy\n",
      "Got the result from ./1/64/train/filtrations/2/RadialFiltration_38_12/green/features.npy\n",
      "Got the result from ./1/64/train/filtrations/2/RadialFiltration_38_12/green/features.npy\n",
      "Got the result from ./1/64/train/filtrations/2/RadialFiltration_38_12/blue/features.npy\n",
      "Got the result from ./1/64/train/filtrations/2/RadialFiltration_38_12/blue/features.npy\n",
      "Fitting filtration 18/72: 2/RadialFiltration_38_25\n",
      "RGB images received. Transforming to grayscale.\n"
     ]
    },
    {
     "name": "stderr",
     "output_type": "stream",
     "text": [
      "rgb2gray: 100%|██████████| 9469/9469 [00:02<00:00, 4118.60it/s]\n"
     ]
    },
    {
     "name": "stdout",
     "output_type": "stream",
     "text": [
      "Got the result from ./1/64/train/filtrations/2/RadialFiltration_38_25/gray/features.npy\n",
      "Got the result from ./1/64/train/filtrations/2/RadialFiltration_38_25/gray/features.npy\n",
      "Got the result from ./1/64/train/filtrations/2/RadialFiltration_38_25/red/features.npy\n",
      "Got the result from ./1/64/train/filtrations/2/RadialFiltration_38_25/red/features.npy\n",
      "Got the result from ./1/64/train/filtrations/2/RadialFiltration_38_25/green/features.npy\n",
      "Got the result from ./1/64/train/filtrations/2/RadialFiltration_38_25/green/features.npy\n",
      "Got the result from ./1/64/train/filtrations/2/RadialFiltration_38_25/blue/features.npy\n",
      "Got the result from ./1/64/train/filtrations/2/RadialFiltration_38_25/blue/features.npy\n",
      "Fitting filtration 19/72: 2/RadialFiltration_38_38\n",
      "RGB images received. Transforming to grayscale.\n"
     ]
    },
    {
     "name": "stderr",
     "output_type": "stream",
     "text": [
      "rgb2gray: 100%|██████████| 9469/9469 [00:02<00:00, 4309.27it/s]\n"
     ]
    },
    {
     "name": "stdout",
     "output_type": "stream",
     "text": [
      "Got the result from ./1/64/train/filtrations/2/RadialFiltration_38_38/gray/features.npy\n",
      "Got the result from ./1/64/train/filtrations/2/RadialFiltration_38_38/gray/features.npy\n",
      "Got the result from ./1/64/train/filtrations/2/RadialFiltration_38_38/red/features.npy\n",
      "Got the result from ./1/64/train/filtrations/2/RadialFiltration_38_38/red/features.npy\n",
      "Got the result from ./1/64/train/filtrations/2/RadialFiltration_38_38/green/features.npy\n",
      "Got the result from ./1/64/train/filtrations/2/RadialFiltration_38_38/green/features.npy\n",
      "Got the result from ./1/64/train/filtrations/2/RadialFiltration_38_38/blue/features.npy\n",
      "Got the result from ./1/64/train/filtrations/2/RadialFiltration_38_38/blue/features.npy\n",
      "Fitting filtration 20/72: 2/RadialFiltration_38_51\n",
      "RGB images received. Transforming to grayscale.\n"
     ]
    },
    {
     "name": "stderr",
     "output_type": "stream",
     "text": [
      "rgb2gray: 100%|██████████| 9469/9469 [00:02<00:00, 4613.13it/s]\n"
     ]
    },
    {
     "name": "stdout",
     "output_type": "stream",
     "text": [
      "Got the result from ./1/64/train/filtrations/2/RadialFiltration_38_51/gray/features.npy\n",
      "Got the result from ./1/64/train/filtrations/2/RadialFiltration_38_51/gray/features.npy\n",
      "Got the result from ./1/64/train/filtrations/2/RadialFiltration_38_51/red/features.npy\n",
      "Got the result from ./1/64/train/filtrations/2/RadialFiltration_38_51/red/features.npy\n",
      "Got the result from ./1/64/train/filtrations/2/RadialFiltration_38_51/green/features.npy\n",
      "Got the result from ./1/64/train/filtrations/2/RadialFiltration_38_51/green/features.npy\n",
      "Got the result from ./1/64/train/filtrations/2/RadialFiltration_38_51/blue/features.npy\n",
      "Got the result from ./1/64/train/filtrations/2/RadialFiltration_38_51/blue/features.npy\n",
      "Fitting filtration 21/72: 2/RadialFiltration_51_12\n",
      "RGB images received. Transforming to grayscale.\n"
     ]
    },
    {
     "name": "stderr",
     "output_type": "stream",
     "text": [
      "rgb2gray: 100%|██████████| 9469/9469 [00:02<00:00, 4467.79it/s]\n"
     ]
    },
    {
     "name": "stdout",
     "output_type": "stream",
     "text": [
      "Got the result from ./1/64/train/filtrations/2/RadialFiltration_51_12/gray/features.npy\n",
      "Got the result from ./1/64/train/filtrations/2/RadialFiltration_51_12/gray/features.npy\n",
      "Got the result from ./1/64/train/filtrations/2/RadialFiltration_51_12/red/features.npy\n",
      "Got the result from ./1/64/train/filtrations/2/RadialFiltration_51_12/red/features.npy\n",
      "Got the result from ./1/64/train/filtrations/2/RadialFiltration_51_12/green/features.npy\n",
      "Got the result from ./1/64/train/filtrations/2/RadialFiltration_51_12/green/features.npy\n",
      "Got the result from ./1/64/train/filtrations/2/RadialFiltration_51_12/blue/features.npy\n",
      "Got the result from ./1/64/train/filtrations/2/RadialFiltration_51_12/blue/features.npy\n",
      "Fitting filtration 22/72: 2/RadialFiltration_51_25\n",
      "RGB images received. Transforming to grayscale.\n"
     ]
    },
    {
     "name": "stderr",
     "output_type": "stream",
     "text": [
      "rgb2gray: 100%|██████████| 9469/9469 [00:02<00:00, 4319.58it/s]\n"
     ]
    },
    {
     "name": "stdout",
     "output_type": "stream",
     "text": [
      "Got the result from ./1/64/train/filtrations/2/RadialFiltration_51_25/gray/features.npy\n",
      "Got the result from ./1/64/train/filtrations/2/RadialFiltration_51_25/gray/features.npy\n",
      "Got the result from ./1/64/train/filtrations/2/RadialFiltration_51_25/red/features.npy\n",
      "Got the result from ./1/64/train/filtrations/2/RadialFiltration_51_25/red/features.npy\n",
      "Got the result from ./1/64/train/filtrations/2/RadialFiltration_51_25/green/features.npy\n",
      "Got the result from ./1/64/train/filtrations/2/RadialFiltration_51_25/green/features.npy\n",
      "Got the result from ./1/64/train/filtrations/2/RadialFiltration_51_25/blue/features.npy\n",
      "Got the result from ./1/64/train/filtrations/2/RadialFiltration_51_25/blue/features.npy\n",
      "Fitting filtration 23/72: 2/RadialFiltration_51_38\n",
      "RGB images received. Transforming to grayscale.\n"
     ]
    },
    {
     "name": "stderr",
     "output_type": "stream",
     "text": [
      "rgb2gray: 100%|██████████| 9469/9469 [00:02<00:00, 4149.12it/s]\n"
     ]
    },
    {
     "name": "stdout",
     "output_type": "stream",
     "text": [
      "Got the result from ./1/64/train/filtrations/2/RadialFiltration_51_38/gray/features.npy\n",
      "Got the result from ./1/64/train/filtrations/2/RadialFiltration_51_38/gray/features.npy\n",
      "Got the result from ./1/64/train/filtrations/2/RadialFiltration_51_38/red/features.npy\n",
      "Got the result from ./1/64/train/filtrations/2/RadialFiltration_51_38/red/features.npy\n",
      "Got the result from ./1/64/train/filtrations/2/RadialFiltration_51_38/green/features.npy\n",
      "Got the result from ./1/64/train/filtrations/2/RadialFiltration_51_38/green/features.npy\n",
      "Got the result from ./1/64/train/filtrations/2/RadialFiltration_51_38/blue/features.npy\n",
      "Got the result from ./1/64/train/filtrations/2/RadialFiltration_51_38/blue/features.npy\n",
      "Fitting filtration 24/72: 2/RadialFiltration_51_51\n",
      "RGB images received. Transforming to grayscale.\n"
     ]
    },
    {
     "name": "stderr",
     "output_type": "stream",
     "text": [
      "rgb2gray: 100%|██████████| 9469/9469 [00:02<00:00, 4625.45it/s]\n"
     ]
    },
    {
     "name": "stdout",
     "output_type": "stream",
     "text": [
      "Got the result from ./1/64/train/filtrations/2/RadialFiltration_51_51/gray/features.npy\n",
      "Got the result from ./1/64/train/filtrations/2/RadialFiltration_51_51/gray/features.npy\n",
      "Got the result from ./1/64/train/filtrations/2/RadialFiltration_51_51/red/features.npy\n",
      "Got the result from ./1/64/train/filtrations/2/RadialFiltration_51_51/red/features.npy\n",
      "Got the result from ./1/64/train/filtrations/2/RadialFiltration_51_51/green/features.npy\n",
      "Got the result from ./1/64/train/filtrations/2/RadialFiltration_51_51/green/features.npy\n",
      "Got the result from ./1/64/train/filtrations/2/RadialFiltration_51_51/blue/features.npy\n",
      "Got the result from ./1/64/train/filtrations/2/RadialFiltration_51_51/blue/features.npy\n",
      "Fitting filtration 25/72: 4/HeightFiltrartion_-1_-1\n",
      "RGB images received. Transforming to grayscale.\n"
     ]
    },
    {
     "name": "stderr",
     "output_type": "stream",
     "text": [
      "rgb2gray: 100%|██████████| 9469/9469 [00:02<00:00, 4400.80it/s]\n"
     ]
    },
    {
     "name": "stdout",
     "output_type": "stream",
     "text": [
      "Got the result from ./1/64/train/filtrations/4/HeightFiltrartion_-1_-1/gray/features.npy\n",
      "Got the result from ./1/64/train/filtrations/4/HeightFiltrartion_-1_-1/gray/features.npy\n",
      "Got the result from ./1/64/train/filtrations/4/HeightFiltrartion_-1_-1/red/features.npy\n",
      "Got the result from ./1/64/train/filtrations/4/HeightFiltrartion_-1_-1/red/features.npy\n",
      "Got the result from ./1/64/train/filtrations/4/HeightFiltrartion_-1_-1/green/features.npy\n",
      "Got the result from ./1/64/train/filtrations/4/HeightFiltrartion_-1_-1/green/features.npy\n",
      "Got the result from ./1/64/train/filtrations/4/HeightFiltrartion_-1_-1/blue/features.npy\n",
      "Got the result from ./1/64/train/filtrations/4/HeightFiltrartion_-1_-1/blue/features.npy\n",
      "Fitting filtration 26/72: 4/HeightFiltrartion_1_1\n",
      "RGB images received. Transforming to grayscale.\n"
     ]
    },
    {
     "name": "stderr",
     "output_type": "stream",
     "text": [
      "rgb2gray: 100%|██████████| 9469/9469 [00:02<00:00, 4596.37it/s]\n"
     ]
    },
    {
     "name": "stdout",
     "output_type": "stream",
     "text": [
      "Got the result from ./1/64/train/filtrations/4/HeightFiltrartion_1_1/gray/features.npy\n",
      "Got the result from ./1/64/train/filtrations/4/HeightFiltrartion_1_1/gray/features.npy\n",
      "Got the result from ./1/64/train/filtrations/4/HeightFiltrartion_1_1/red/features.npy\n",
      "Got the result from ./1/64/train/filtrations/4/HeightFiltrartion_1_1/red/features.npy\n",
      "Got the result from ./1/64/train/filtrations/4/HeightFiltrartion_1_1/green/features.npy\n",
      "Got the result from ./1/64/train/filtrations/4/HeightFiltrartion_1_1/green/features.npy\n",
      "Got the result from ./1/64/train/filtrations/4/HeightFiltrartion_1_1/blue/features.npy\n",
      "Got the result from ./1/64/train/filtrations/4/HeightFiltrartion_1_1/blue/features.npy\n",
      "Fitting filtration 27/72: 4/HeightFiltrartion_1_-1\n",
      "RGB images received. Transforming to grayscale.\n"
     ]
    },
    {
     "name": "stderr",
     "output_type": "stream",
     "text": [
      "rgb2gray: 100%|██████████| 9469/9469 [00:02<00:00, 4284.52it/s]\n"
     ]
    },
    {
     "name": "stdout",
     "output_type": "stream",
     "text": [
      "Got the result from ./1/64/train/filtrations/4/HeightFiltrartion_1_-1/gray/features.npy\n",
      "Got the result from ./1/64/train/filtrations/4/HeightFiltrartion_1_-1/gray/features.npy\n",
      "Got the result from ./1/64/train/filtrations/4/HeightFiltrartion_1_-1/red/features.npy\n",
      "Got the result from ./1/64/train/filtrations/4/HeightFiltrartion_1_-1/red/features.npy\n",
      "Got the result from ./1/64/train/filtrations/4/HeightFiltrartion_1_-1/green/features.npy\n",
      "Got the result from ./1/64/train/filtrations/4/HeightFiltrartion_1_-1/green/features.npy\n",
      "Got the result from ./1/64/train/filtrations/4/HeightFiltrartion_1_-1/blue/features.npy\n",
      "Got the result from ./1/64/train/filtrations/4/HeightFiltrartion_1_-1/blue/features.npy\n",
      "Fitting filtration 28/72: 4/HeightFiltrartion_-1_1\n",
      "RGB images received. Transforming to grayscale.\n"
     ]
    },
    {
     "name": "stderr",
     "output_type": "stream",
     "text": [
      "rgb2gray: 100%|██████████| 9469/9469 [00:01<00:00, 4953.80it/s]\n"
     ]
    },
    {
     "name": "stdout",
     "output_type": "stream",
     "text": [
      "Got the result from ./1/64/train/filtrations/4/HeightFiltrartion_-1_1/gray/features.npy\n",
      "Got the result from ./1/64/train/filtrations/4/HeightFiltrartion_-1_1/gray/features.npy\n",
      "Got the result from ./1/64/train/filtrations/4/HeightFiltrartion_-1_1/red/features.npy\n",
      "Got the result from ./1/64/train/filtrations/4/HeightFiltrartion_-1_1/red/features.npy\n",
      "Got the result from ./1/64/train/filtrations/4/HeightFiltrartion_-1_1/green/features.npy\n",
      "Got the result from ./1/64/train/filtrations/4/HeightFiltrartion_-1_1/green/features.npy\n",
      "Got the result from ./1/64/train/filtrations/4/HeightFiltrartion_-1_1/blue/features.npy\n",
      "Got the result from ./1/64/train/filtrations/4/HeightFiltrartion_-1_1/blue/features.npy\n",
      "Fitting filtration 29/72: 4/HeightFiltrartion_0_-1\n",
      "RGB images received. Transforming to grayscale.\n"
     ]
    },
    {
     "name": "stderr",
     "output_type": "stream",
     "text": [
      "rgb2gray: 100%|██████████| 9469/9469 [00:01<00:00, 5272.58it/s]\n"
     ]
    },
    {
     "name": "stdout",
     "output_type": "stream",
     "text": [
      "Got the result from ./1/64/train/filtrations/4/HeightFiltrartion_0_-1/gray/features.npy\n",
      "Got the result from ./1/64/train/filtrations/4/HeightFiltrartion_0_-1/gray/features.npy\n",
      "Got the result from ./1/64/train/filtrations/4/HeightFiltrartion_0_-1/red/features.npy\n",
      "Got the result from ./1/64/train/filtrations/4/HeightFiltrartion_0_-1/red/features.npy\n",
      "Got the result from ./1/64/train/filtrations/4/HeightFiltrartion_0_-1/green/features.npy\n",
      "Got the result from ./1/64/train/filtrations/4/HeightFiltrartion_0_-1/green/features.npy\n",
      "Got the result from ./1/64/train/filtrations/4/HeightFiltrartion_0_-1/blue/features.npy\n",
      "Got the result from ./1/64/train/filtrations/4/HeightFiltrartion_0_-1/blue/features.npy\n",
      "Fitting filtration 30/72: 4/HeightFiltrartion_0_1\n",
      "RGB images received. Transforming to grayscale.\n"
     ]
    },
    {
     "name": "stderr",
     "output_type": "stream",
     "text": [
      "rgb2gray: 100%|██████████| 9469/9469 [00:01<00:00, 5149.72it/s]\n"
     ]
    },
    {
     "name": "stdout",
     "output_type": "stream",
     "text": [
      "Got the result from ./1/64/train/filtrations/4/HeightFiltrartion_0_1/gray/features.npy\n",
      "Got the result from ./1/64/train/filtrations/4/HeightFiltrartion_0_1/gray/features.npy\n",
      "Got the result from ./1/64/train/filtrations/4/HeightFiltrartion_0_1/red/features.npy\n",
      "Got the result from ./1/64/train/filtrations/4/HeightFiltrartion_0_1/red/features.npy\n",
      "Got the result from ./1/64/train/filtrations/4/HeightFiltrartion_0_1/green/features.npy\n",
      "Got the result from ./1/64/train/filtrations/4/HeightFiltrartion_0_1/green/features.npy\n",
      "Got the result from ./1/64/train/filtrations/4/HeightFiltrartion_0_1/blue/features.npy\n",
      "Got the result from ./1/64/train/filtrations/4/HeightFiltrartion_0_1/blue/features.npy\n",
      "Fitting filtration 31/72: 4/HeightFiltrartion_-1_0\n",
      "RGB images received. Transforming to grayscale.\n"
     ]
    },
    {
     "name": "stderr",
     "output_type": "stream",
     "text": [
      "rgb2gray: 100%|██████████| 9469/9469 [00:01<00:00, 5274.12it/s]\n"
     ]
    },
    {
     "name": "stdout",
     "output_type": "stream",
     "text": [
      "Got the result from ./1/64/train/filtrations/4/HeightFiltrartion_-1_0/gray/features.npy\n",
      "Got the result from ./1/64/train/filtrations/4/HeightFiltrartion_-1_0/gray/features.npy\n",
      "Got the result from ./1/64/train/filtrations/4/HeightFiltrartion_-1_0/red/features.npy\n",
      "Got the result from ./1/64/train/filtrations/4/HeightFiltrartion_-1_0/red/features.npy\n",
      "Got the result from ./1/64/train/filtrations/4/HeightFiltrartion_-1_0/green/features.npy\n",
      "Got the result from ./1/64/train/filtrations/4/HeightFiltrartion_-1_0/green/features.npy\n",
      "Got the result from ./1/64/train/filtrations/4/HeightFiltrartion_-1_0/blue/features.npy\n",
      "Got the result from ./1/64/train/filtrations/4/HeightFiltrartion_-1_0/blue/features.npy\n",
      "Fitting filtration 32/72: 4/HeightFiltrartion_1_0\n",
      "RGB images received. Transforming to grayscale.\n"
     ]
    },
    {
     "name": "stderr",
     "output_type": "stream",
     "text": [
      "rgb2gray: 100%|██████████| 9469/9469 [00:01<00:00, 5247.93it/s]\n"
     ]
    },
    {
     "name": "stdout",
     "output_type": "stream",
     "text": [
      "Got the result from ./1/64/train/filtrations/4/HeightFiltrartion_1_0/gray/features.npy\n",
      "Got the result from ./1/64/train/filtrations/4/HeightFiltrartion_1_0/gray/features.npy\n",
      "Got the result from ./1/64/train/filtrations/4/HeightFiltrartion_1_0/red/features.npy\n",
      "Got the result from ./1/64/train/filtrations/4/HeightFiltrartion_1_0/red/features.npy\n",
      "Got the result from ./1/64/train/filtrations/4/HeightFiltrartion_1_0/green/features.npy\n",
      "Got the result from ./1/64/train/filtrations/4/HeightFiltrartion_1_0/green/features.npy\n",
      "Got the result from ./1/64/train/filtrations/4/HeightFiltrartion_1_0/blue/features.npy\n",
      "Got the result from ./1/64/train/filtrations/4/HeightFiltrartion_1_0/blue/features.npy\n",
      "Fitting filtration 33/72: 4/RadialFiltration_12_12\n",
      "RGB images received. Transforming to grayscale.\n"
     ]
    },
    {
     "name": "stderr",
     "output_type": "stream",
     "text": [
      "rgb2gray: 100%|██████████| 9469/9469 [00:01<00:00, 5512.74it/s]\n"
     ]
    },
    {
     "name": "stdout",
     "output_type": "stream",
     "text": [
      "Got the result from ./1/64/train/filtrations/4/RadialFiltration_12_12/gray/features.npy\n",
      "Got the result from ./1/64/train/filtrations/4/RadialFiltration_12_12/gray/features.npy\n",
      "Got the result from ./1/64/train/filtrations/4/RadialFiltration_12_12/red/features.npy\n",
      "Got the result from ./1/64/train/filtrations/4/RadialFiltration_12_12/red/features.npy\n",
      "Got the result from ./1/64/train/filtrations/4/RadialFiltration_12_12/green/features.npy\n",
      "Got the result from ./1/64/train/filtrations/4/RadialFiltration_12_12/green/features.npy\n",
      "Got the result from ./1/64/train/filtrations/4/RadialFiltration_12_12/blue/features.npy\n",
      "Got the result from ./1/64/train/filtrations/4/RadialFiltration_12_12/blue/features.npy\n",
      "Fitting filtration 34/72: 4/RadialFiltration_12_25\n",
      "RGB images received. Transforming to grayscale.\n"
     ]
    },
    {
     "name": "stderr",
     "output_type": "stream",
     "text": [
      "rgb2gray: 100%|██████████| 9469/9469 [00:01<00:00, 4945.01it/s]\n"
     ]
    },
    {
     "name": "stdout",
     "output_type": "stream",
     "text": [
      "Got the result from ./1/64/train/filtrations/4/RadialFiltration_12_25/gray/features.npy\n",
      "Got the result from ./1/64/train/filtrations/4/RadialFiltration_12_25/gray/features.npy\n",
      "Got the result from ./1/64/train/filtrations/4/RadialFiltration_12_25/red/features.npy\n",
      "Got the result from ./1/64/train/filtrations/4/RadialFiltration_12_25/red/features.npy\n",
      "Got the result from ./1/64/train/filtrations/4/RadialFiltration_12_25/green/features.npy\n",
      "Got the result from ./1/64/train/filtrations/4/RadialFiltration_12_25/green/features.npy\n",
      "Got the result from ./1/64/train/filtrations/4/RadialFiltration_12_25/blue/features.npy\n",
      "Got the result from ./1/64/train/filtrations/4/RadialFiltration_12_25/blue/features.npy\n",
      "Fitting filtration 35/72: 4/RadialFiltration_12_38\n",
      "RGB images received. Transforming to grayscale.\n"
     ]
    },
    {
     "name": "stderr",
     "output_type": "stream",
     "text": [
      "rgb2gray: 100%|██████████| 9469/9469 [00:01<00:00, 5182.67it/s]\n"
     ]
    },
    {
     "name": "stdout",
     "output_type": "stream",
     "text": [
      "Got the result from ./1/64/train/filtrations/4/RadialFiltration_12_38/gray/features.npy\n",
      "Got the result from ./1/64/train/filtrations/4/RadialFiltration_12_38/gray/features.npy\n",
      "Got the result from ./1/64/train/filtrations/4/RadialFiltration_12_38/red/features.npy\n",
      "Got the result from ./1/64/train/filtrations/4/RadialFiltration_12_38/red/features.npy\n",
      "Got the result from ./1/64/train/filtrations/4/RadialFiltration_12_38/green/features.npy\n",
      "Got the result from ./1/64/train/filtrations/4/RadialFiltration_12_38/green/features.npy\n",
      "Got the result from ./1/64/train/filtrations/4/RadialFiltration_12_38/blue/features.npy\n",
      "Got the result from ./1/64/train/filtrations/4/RadialFiltration_12_38/blue/features.npy\n",
      "Fitting filtration 36/72: 4/RadialFiltration_12_51\n",
      "RGB images received. Transforming to grayscale.\n"
     ]
    },
    {
     "name": "stderr",
     "output_type": "stream",
     "text": [
      "rgb2gray: 100%|██████████| 9469/9469 [00:01<00:00, 4779.22it/s]\n"
     ]
    },
    {
     "name": "stdout",
     "output_type": "stream",
     "text": [
      "Got the result from ./1/64/train/filtrations/4/RadialFiltration_12_51/gray/features.npy\n",
      "Got the result from ./1/64/train/filtrations/4/RadialFiltration_12_51/gray/features.npy\n",
      "Got the result from ./1/64/train/filtrations/4/RadialFiltration_12_51/red/features.npy\n",
      "Got the result from ./1/64/train/filtrations/4/RadialFiltration_12_51/red/features.npy\n",
      "Got the result from ./1/64/train/filtrations/4/RadialFiltration_12_51/green/features.npy\n",
      "Got the result from ./1/64/train/filtrations/4/RadialFiltration_12_51/green/features.npy\n",
      "Got the result from ./1/64/train/filtrations/4/RadialFiltration_12_51/blue/features.npy\n",
      "Got the result from ./1/64/train/filtrations/4/RadialFiltration_12_51/blue/features.npy\n",
      "Fitting filtration 37/72: 4/RadialFiltration_25_12\n",
      "RGB images received. Transforming to grayscale.\n"
     ]
    },
    {
     "name": "stderr",
     "output_type": "stream",
     "text": [
      "rgb2gray: 100%|██████████| 9469/9469 [00:01<00:00, 4822.21it/s]\n"
     ]
    },
    {
     "name": "stdout",
     "output_type": "stream",
     "text": [
      "Got the result from ./1/64/train/filtrations/4/RadialFiltration_25_12/gray/features.npy\n",
      "Got the result from ./1/64/train/filtrations/4/RadialFiltration_25_12/gray/features.npy\n",
      "Got the result from ./1/64/train/filtrations/4/RadialFiltration_25_12/red/features.npy\n",
      "Got the result from ./1/64/train/filtrations/4/RadialFiltration_25_12/red/features.npy\n",
      "Got the result from ./1/64/train/filtrations/4/RadialFiltration_25_12/green/features.npy\n",
      "Got the result from ./1/64/train/filtrations/4/RadialFiltration_25_12/green/features.npy\n",
      "Got the result from ./1/64/train/filtrations/4/RadialFiltration_25_12/blue/features.npy\n",
      "Got the result from ./1/64/train/filtrations/4/RadialFiltration_25_12/blue/features.npy\n",
      "Fitting filtration 38/72: 4/RadialFiltration_25_25\n",
      "RGB images received. Transforming to grayscale.\n"
     ]
    },
    {
     "name": "stderr",
     "output_type": "stream",
     "text": [
      "rgb2gray: 100%|██████████| 9469/9469 [00:01<00:00, 5345.19it/s]\n"
     ]
    },
    {
     "name": "stdout",
     "output_type": "stream",
     "text": [
      "Got the result from ./1/64/train/filtrations/4/RadialFiltration_25_25/gray/features.npy\n",
      "Got the result from ./1/64/train/filtrations/4/RadialFiltration_25_25/gray/features.npy\n",
      "Got the result from ./1/64/train/filtrations/4/RadialFiltration_25_25/red/features.npy\n",
      "Got the result from ./1/64/train/filtrations/4/RadialFiltration_25_25/red/features.npy\n",
      "Got the result from ./1/64/train/filtrations/4/RadialFiltration_25_25/green/features.npy\n",
      "Got the result from ./1/64/train/filtrations/4/RadialFiltration_25_25/green/features.npy\n",
      "Got the result from ./1/64/train/filtrations/4/RadialFiltration_25_25/blue/features.npy\n",
      "Got the result from ./1/64/train/filtrations/4/RadialFiltration_25_25/blue/features.npy\n",
      "Fitting filtration 39/72: 4/RadialFiltration_25_38\n",
      "RGB images received. Transforming to grayscale.\n"
     ]
    },
    {
     "name": "stderr",
     "output_type": "stream",
     "text": [
      "rgb2gray: 100%|██████████| 9469/9469 [00:01<00:00, 5105.63it/s] \n"
     ]
    },
    {
     "name": "stdout",
     "output_type": "stream",
     "text": [
      "Got the result from ./1/64/train/filtrations/4/RadialFiltration_25_38/gray/features.npy\n",
      "Got the result from ./1/64/train/filtrations/4/RadialFiltration_25_38/gray/features.npy\n",
      "Got the result from ./1/64/train/filtrations/4/RadialFiltration_25_38/red/features.npy\n",
      "Got the result from ./1/64/train/filtrations/4/RadialFiltration_25_38/red/features.npy\n",
      "Got the result from ./1/64/train/filtrations/4/RadialFiltration_25_38/green/features.npy\n",
      "Got the result from ./1/64/train/filtrations/4/RadialFiltration_25_38/green/features.npy\n",
      "Got the result from ./1/64/train/filtrations/4/RadialFiltration_25_38/blue/features.npy\n",
      "Got the result from ./1/64/train/filtrations/4/RadialFiltration_25_38/blue/features.npy\n",
      "Fitting filtration 40/72: 4/RadialFiltration_25_51\n",
      "RGB images received. Transforming to grayscale.\n"
     ]
    },
    {
     "name": "stderr",
     "output_type": "stream",
     "text": [
      "rgb2gray: 100%|██████████| 9469/9469 [00:01<00:00, 4832.93it/s]\n"
     ]
    },
    {
     "name": "stdout",
     "output_type": "stream",
     "text": [
      "Got the result from ./1/64/train/filtrations/4/RadialFiltration_25_51/gray/features.npy\n",
      "Got the result from ./1/64/train/filtrations/4/RadialFiltration_25_51/gray/features.npy\n",
      "Got the result from ./1/64/train/filtrations/4/RadialFiltration_25_51/red/features.npy\n",
      "Got the result from ./1/64/train/filtrations/4/RadialFiltration_25_51/red/features.npy\n",
      "Got the result from ./1/64/train/filtrations/4/RadialFiltration_25_51/green/features.npy\n",
      "Got the result from ./1/64/train/filtrations/4/RadialFiltration_25_51/green/features.npy\n",
      "Got the result from ./1/64/train/filtrations/4/RadialFiltration_25_51/blue/features.npy\n",
      "Got the result from ./1/64/train/filtrations/4/RadialFiltration_25_51/blue/features.npy\n",
      "Fitting filtration 41/72: 4/RadialFiltration_38_12\n",
      "RGB images received. Transforming to grayscale.\n"
     ]
    },
    {
     "name": "stderr",
     "output_type": "stream",
     "text": [
      "rgb2gray: 100%|██████████| 9469/9469 [00:02<00:00, 4587.93it/s]\n"
     ]
    },
    {
     "name": "stdout",
     "output_type": "stream",
     "text": [
      "Got the result from ./1/64/train/filtrations/4/RadialFiltration_38_12/gray/features.npy\n",
      "Got the result from ./1/64/train/filtrations/4/RadialFiltration_38_12/gray/features.npy\n",
      "Got the result from ./1/64/train/filtrations/4/RadialFiltration_38_12/red/features.npy\n",
      "Got the result from ./1/64/train/filtrations/4/RadialFiltration_38_12/red/features.npy\n",
      "Got the result from ./1/64/train/filtrations/4/RadialFiltration_38_12/green/features.npy\n",
      "Got the result from ./1/64/train/filtrations/4/RadialFiltration_38_12/green/features.npy\n",
      "Got the result from ./1/64/train/filtrations/4/RadialFiltration_38_12/blue/features.npy\n",
      "Got the result from ./1/64/train/filtrations/4/RadialFiltration_38_12/blue/features.npy\n",
      "Fitting filtration 42/72: 4/RadialFiltration_38_25\n",
      "RGB images received. Transforming to grayscale.\n"
     ]
    },
    {
     "name": "stderr",
     "output_type": "stream",
     "text": [
      "rgb2gray: 100%|██████████| 9469/9469 [00:02<00:00, 4268.99it/s]\n"
     ]
    },
    {
     "name": "stdout",
     "output_type": "stream",
     "text": [
      "Got the result from ./1/64/train/filtrations/4/RadialFiltration_38_25/gray/features.npy\n",
      "Got the result from ./1/64/train/filtrations/4/RadialFiltration_38_25/gray/features.npy\n",
      "Got the result from ./1/64/train/filtrations/4/RadialFiltration_38_25/red/features.npy\n",
      "Got the result from ./1/64/train/filtrations/4/RadialFiltration_38_25/red/features.npy\n",
      "Got the result from ./1/64/train/filtrations/4/RadialFiltration_38_25/green/features.npy\n",
      "Got the result from ./1/64/train/filtrations/4/RadialFiltration_38_25/green/features.npy\n",
      "Got the result from ./1/64/train/filtrations/4/RadialFiltration_38_25/blue/features.npy\n",
      "Got the result from ./1/64/train/filtrations/4/RadialFiltration_38_25/blue/features.npy\n",
      "Fitting filtration 43/72: 4/RadialFiltration_38_38\n",
      "RGB images received. Transforming to grayscale.\n"
     ]
    },
    {
     "name": "stderr",
     "output_type": "stream",
     "text": [
      "rgb2gray: 100%|██████████| 9469/9469 [00:02<00:00, 3688.21it/s]\n"
     ]
    },
    {
     "name": "stdout",
     "output_type": "stream",
     "text": [
      "Got the result from ./1/64/train/filtrations/4/RadialFiltration_38_38/gray/features.npy\n",
      "Got the result from ./1/64/train/filtrations/4/RadialFiltration_38_38/gray/features.npy\n",
      "Got the result from ./1/64/train/filtrations/4/RadialFiltration_38_38/red/features.npy\n",
      "Got the result from ./1/64/train/filtrations/4/RadialFiltration_38_38/red/features.npy\n",
      "Got the result from ./1/64/train/filtrations/4/RadialFiltration_38_38/green/features.npy\n",
      "Got the result from ./1/64/train/filtrations/4/RadialFiltration_38_38/green/features.npy\n",
      "Got the result from ./1/64/train/filtrations/4/RadialFiltration_38_38/blue/features.npy\n",
      "Got the result from ./1/64/train/filtrations/4/RadialFiltration_38_38/blue/features.npy\n",
      "Fitting filtration 44/72: 4/RadialFiltration_38_51\n",
      "RGB images received. Transforming to grayscale.\n"
     ]
    },
    {
     "name": "stderr",
     "output_type": "stream",
     "text": [
      "rgb2gray: 100%|██████████| 9469/9469 [00:02<00:00, 3449.29it/s]\n"
     ]
    },
    {
     "name": "stdout",
     "output_type": "stream",
     "text": [
      "Got the result from ./1/64/train/filtrations/4/RadialFiltration_38_51/gray/features.npy\n",
      "Got the result from ./1/64/train/filtrations/4/RadialFiltration_38_51/gray/features.npy\n",
      "Got the result from ./1/64/train/filtrations/4/RadialFiltration_38_51/red/features.npy\n",
      "Got the result from ./1/64/train/filtrations/4/RadialFiltration_38_51/red/features.npy\n",
      "Got the result from ./1/64/train/filtrations/4/RadialFiltration_38_51/green/features.npy\n",
      "Got the result from ./1/64/train/filtrations/4/RadialFiltration_38_51/green/features.npy\n",
      "Got the result from ./1/64/train/filtrations/4/RadialFiltration_38_51/blue/features.npy\n",
      "Got the result from ./1/64/train/filtrations/4/RadialFiltration_38_51/blue/features.npy\n",
      "Fitting filtration 45/72: 4/RadialFiltration_51_12\n",
      "RGB images received. Transforming to grayscale.\n"
     ]
    },
    {
     "name": "stderr",
     "output_type": "stream",
     "text": [
      "rgb2gray: 100%|██████████| 9469/9469 [00:03<00:00, 2532.10it/s]\n"
     ]
    },
    {
     "name": "stdout",
     "output_type": "stream",
     "text": [
      "Got the result from ./1/64/train/filtrations/4/RadialFiltration_51_12/gray/features.npy\n",
      "Got the result from ./1/64/train/filtrations/4/RadialFiltration_51_12/gray/features.npy\n",
      "Got the result from ./1/64/train/filtrations/4/RadialFiltration_51_12/red/features.npy\n",
      "Got the result from ./1/64/train/filtrations/4/RadialFiltration_51_12/red/features.npy\n",
      "Got the result from ./1/64/train/filtrations/4/RadialFiltration_51_12/green/features.npy\n",
      "Got the result from ./1/64/train/filtrations/4/RadialFiltration_51_12/green/features.npy\n",
      "Got the result from ./1/64/train/filtrations/4/RadialFiltration_51_12/blue/features.npy\n",
      "Got the result from ./1/64/train/filtrations/4/RadialFiltration_51_12/blue/features.npy\n",
      "Fitting filtration 46/72: 4/RadialFiltration_51_25\n",
      "RGB images received. Transforming to grayscale.\n"
     ]
    },
    {
     "name": "stderr",
     "output_type": "stream",
     "text": [
      "rgb2gray: 100%|██████████| 9469/9469 [00:02<00:00, 4420.89it/s] \n"
     ]
    },
    {
     "name": "stdout",
     "output_type": "stream",
     "text": [
      "Got the result from ./1/64/train/filtrations/4/RadialFiltration_51_25/gray/features.npy\n",
      "Got the result from ./1/64/train/filtrations/4/RadialFiltration_51_25/gray/features.npy\n",
      "Got the result from ./1/64/train/filtrations/4/RadialFiltration_51_25/red/features.npy\n",
      "Got the result from ./1/64/train/filtrations/4/RadialFiltration_51_25/red/features.npy\n",
      "Got the result from ./1/64/train/filtrations/4/RadialFiltration_51_25/green/features.npy\n",
      "Got the result from ./1/64/train/filtrations/4/RadialFiltration_51_25/green/features.npy\n",
      "Got the result from ./1/64/train/filtrations/4/RadialFiltration_51_25/blue/features.npy\n",
      "Got the result from ./1/64/train/filtrations/4/RadialFiltration_51_25/blue/features.npy\n",
      "Fitting filtration 47/72: 4/RadialFiltration_51_38\n",
      "RGB images received. Transforming to grayscale.\n"
     ]
    },
    {
     "name": "stderr",
     "output_type": "stream",
     "text": [
      "rgb2gray: 100%|██████████| 9469/9469 [00:02<00:00, 4669.93it/s]\n"
     ]
    },
    {
     "name": "stdout",
     "output_type": "stream",
     "text": [
      "Got the result from ./1/64/train/filtrations/4/RadialFiltration_51_38/gray/features.npy\n",
      "Got the result from ./1/64/train/filtrations/4/RadialFiltration_51_38/gray/features.npy\n",
      "Got the result from ./1/64/train/filtrations/4/RadialFiltration_51_38/red/features.npy\n",
      "Got the result from ./1/64/train/filtrations/4/RadialFiltration_51_38/red/features.npy\n",
      "Got the result from ./1/64/train/filtrations/4/RadialFiltration_51_38/green/features.npy\n",
      "Got the result from ./1/64/train/filtrations/4/RadialFiltration_51_38/green/features.npy\n",
      "Got the result from ./1/64/train/filtrations/4/RadialFiltration_51_38/blue/features.npy\n",
      "Got the result from ./1/64/train/filtrations/4/RadialFiltration_51_38/blue/features.npy\n",
      "Fitting filtration 48/72: 4/RadialFiltration_51_51\n",
      "RGB images received. Transforming to grayscale.\n"
     ]
    },
    {
     "name": "stderr",
     "output_type": "stream",
     "text": [
      "rgb2gray: 100%|██████████| 9469/9469 [00:01<00:00, 4983.83it/s]\n"
     ]
    },
    {
     "name": "stdout",
     "output_type": "stream",
     "text": [
      "Got the result from ./1/64/train/filtrations/4/RadialFiltration_51_51/gray/features.npy\n",
      "Got the result from ./1/64/train/filtrations/4/RadialFiltration_51_51/gray/features.npy\n",
      "Got the result from ./1/64/train/filtrations/4/RadialFiltration_51_51/red/features.npy\n",
      "Got the result from ./1/64/train/filtrations/4/RadialFiltration_51_51/red/features.npy\n",
      "Got the result from ./1/64/train/filtrations/4/RadialFiltration_51_51/green/features.npy\n",
      "Got the result from ./1/64/train/filtrations/4/RadialFiltration_51_51/green/features.npy\n",
      "Got the result from ./1/64/train/filtrations/4/RadialFiltration_51_51/blue/features.npy\n",
      "Got the result from ./1/64/train/filtrations/4/RadialFiltration_51_51/blue/features.npy\n",
      "Fitting filtration 49/72: 6/HeightFiltrartion_-1_-1\n",
      "RGB images received. Transforming to grayscale.\n"
     ]
    },
    {
     "name": "stderr",
     "output_type": "stream",
     "text": [
      "rgb2gray: 100%|██████████| 9469/9469 [00:01<00:00, 4921.80it/s]\n"
     ]
    },
    {
     "name": "stdout",
     "output_type": "stream",
     "text": [
      "Got the result from ./1/64/train/filtrations/6/HeightFiltrartion_-1_-1/gray/features.npy\n",
      "Got the result from ./1/64/train/filtrations/6/HeightFiltrartion_-1_-1/gray/features.npy\n",
      "Got the result from ./1/64/train/filtrations/6/HeightFiltrartion_-1_-1/red/features.npy\n",
      "Got the result from ./1/64/train/filtrations/6/HeightFiltrartion_-1_-1/red/features.npy\n",
      "Got the result from ./1/64/train/filtrations/6/HeightFiltrartion_-1_-1/green/features.npy\n",
      "Got the result from ./1/64/train/filtrations/6/HeightFiltrartion_-1_-1/green/features.npy\n",
      "Got the result from ./1/64/train/filtrations/6/HeightFiltrartion_-1_-1/blue/features.npy\n",
      "Got the result from ./1/64/train/filtrations/6/HeightFiltrartion_-1_-1/blue/features.npy\n",
      "Fitting filtration 50/72: 6/HeightFiltrartion_1_1\n",
      "RGB images received. Transforming to grayscale.\n"
     ]
    },
    {
     "name": "stderr",
     "output_type": "stream",
     "text": [
      "rgb2gray: 100%|██████████| 9469/9469 [00:01<00:00, 5647.87it/s]\n"
     ]
    },
    {
     "name": "stdout",
     "output_type": "stream",
     "text": [
      "Got the result from ./1/64/train/filtrations/6/HeightFiltrartion_1_1/gray/features.npy\n",
      "Got the result from ./1/64/train/filtrations/6/HeightFiltrartion_1_1/gray/features.npy\n",
      "Got the result from ./1/64/train/filtrations/6/HeightFiltrartion_1_1/red/features.npy\n",
      "Got the result from ./1/64/train/filtrations/6/HeightFiltrartion_1_1/red/features.npy\n",
      "Got the result from ./1/64/train/filtrations/6/HeightFiltrartion_1_1/green/features.npy\n",
      "Got the result from ./1/64/train/filtrations/6/HeightFiltrartion_1_1/green/features.npy\n",
      "Got the result from ./1/64/train/filtrations/6/HeightFiltrartion_1_1/blue/features.npy\n",
      "Got the result from ./1/64/train/filtrations/6/HeightFiltrartion_1_1/blue/features.npy\n",
      "Fitting filtration 51/72: 6/HeightFiltrartion_1_-1\n",
      "RGB images received. Transforming to grayscale.\n"
     ]
    },
    {
     "name": "stderr",
     "output_type": "stream",
     "text": [
      "rgb2gray: 100%|██████████| 9469/9469 [00:01<00:00, 5709.85it/s]\n"
     ]
    },
    {
     "name": "stdout",
     "output_type": "stream",
     "text": [
      "Got the result from ./1/64/train/filtrations/6/HeightFiltrartion_1_-1/gray/features.npy\n",
      "Got the result from ./1/64/train/filtrations/6/HeightFiltrartion_1_-1/gray/features.npy\n",
      "Got the result from ./1/64/train/filtrations/6/HeightFiltrartion_1_-1/red/features.npy\n",
      "Got the result from ./1/64/train/filtrations/6/HeightFiltrartion_1_-1/red/features.npy\n",
      "Got the result from ./1/64/train/filtrations/6/HeightFiltrartion_1_-1/green/features.npy\n",
      "Got the result from ./1/64/train/filtrations/6/HeightFiltrartion_1_-1/green/features.npy\n",
      "Got the result from ./1/64/train/filtrations/6/HeightFiltrartion_1_-1/blue/features.npy\n",
      "Got the result from ./1/64/train/filtrations/6/HeightFiltrartion_1_-1/blue/features.npy\n",
      "Fitting filtration 52/72: 6/HeightFiltrartion_-1_1\n",
      "RGB images received. Transforming to grayscale.\n"
     ]
    },
    {
     "name": "stderr",
     "output_type": "stream",
     "text": [
      "rgb2gray: 100%|██████████| 9469/9469 [00:01<00:00, 5377.06it/s]\n"
     ]
    },
    {
     "name": "stdout",
     "output_type": "stream",
     "text": [
      "Got the result from ./1/64/train/filtrations/6/HeightFiltrartion_-1_1/gray/features.npy\n",
      "Got the result from ./1/64/train/filtrations/6/HeightFiltrartion_-1_1/gray/features.npy\n",
      "Got the result from ./1/64/train/filtrations/6/HeightFiltrartion_-1_1/red/features.npy\n",
      "Got the result from ./1/64/train/filtrations/6/HeightFiltrartion_-1_1/red/features.npy\n",
      "Got the result from ./1/64/train/filtrations/6/HeightFiltrartion_-1_1/green/features.npy\n",
      "Got the result from ./1/64/train/filtrations/6/HeightFiltrartion_-1_1/green/features.npy\n",
      "Got the result from ./1/64/train/filtrations/6/HeightFiltrartion_-1_1/blue/features.npy\n",
      "Got the result from ./1/64/train/filtrations/6/HeightFiltrartion_-1_1/blue/features.npy\n",
      "Fitting filtration 53/72: 6/HeightFiltrartion_0_-1\n",
      "RGB images received. Transforming to grayscale.\n"
     ]
    },
    {
     "name": "stderr",
     "output_type": "stream",
     "text": [
      "rgb2gray: 100%|██████████| 9469/9469 [00:01<00:00, 5070.37it/s]\n"
     ]
    },
    {
     "name": "stdout",
     "output_type": "stream",
     "text": [
      "Got the result from ./1/64/train/filtrations/6/HeightFiltrartion_0_-1/gray/features.npy\n",
      "Got the result from ./1/64/train/filtrations/6/HeightFiltrartion_0_-1/gray/features.npy\n",
      "Got the result from ./1/64/train/filtrations/6/HeightFiltrartion_0_-1/red/features.npy\n",
      "Got the result from ./1/64/train/filtrations/6/HeightFiltrartion_0_-1/red/features.npy\n",
      "Got the result from ./1/64/train/filtrations/6/HeightFiltrartion_0_-1/green/features.npy\n",
      "Got the result from ./1/64/train/filtrations/6/HeightFiltrartion_0_-1/green/features.npy\n",
      "Got the result from ./1/64/train/filtrations/6/HeightFiltrartion_0_-1/blue/features.npy\n",
      "Got the result from ./1/64/train/filtrations/6/HeightFiltrartion_0_-1/blue/features.npy\n",
      "Fitting filtration 54/72: 6/HeightFiltrartion_0_1\n",
      "RGB images received. Transforming to grayscale.\n"
     ]
    },
    {
     "name": "stderr",
     "output_type": "stream",
     "text": [
      "rgb2gray: 100%|██████████| 9469/9469 [00:01<00:00, 5257.63it/s]\n"
     ]
    },
    {
     "name": "stdout",
     "output_type": "stream",
     "text": [
      "Got the result from ./1/64/train/filtrations/6/HeightFiltrartion_0_1/gray/features.npy\n",
      "Got the result from ./1/64/train/filtrations/6/HeightFiltrartion_0_1/gray/features.npy\n",
      "Got the result from ./1/64/train/filtrations/6/HeightFiltrartion_0_1/red/features.npy\n",
      "Got the result from ./1/64/train/filtrations/6/HeightFiltrartion_0_1/red/features.npy\n",
      "Got the result from ./1/64/train/filtrations/6/HeightFiltrartion_0_1/green/features.npy\n",
      "Got the result from ./1/64/train/filtrations/6/HeightFiltrartion_0_1/green/features.npy\n",
      "Got the result from ./1/64/train/filtrations/6/HeightFiltrartion_0_1/blue/features.npy\n",
      "Got the result from ./1/64/train/filtrations/6/HeightFiltrartion_0_1/blue/features.npy\n",
      "Fitting filtration 55/72: 6/HeightFiltrartion_-1_0\n",
      "RGB images received. Transforming to grayscale.\n"
     ]
    },
    {
     "name": "stderr",
     "output_type": "stream",
     "text": [
      "rgb2gray: 100%|██████████| 9469/9469 [00:01<00:00, 5486.13it/s]\n"
     ]
    },
    {
     "name": "stdout",
     "output_type": "stream",
     "text": [
      "Got the result from ./1/64/train/filtrations/6/HeightFiltrartion_-1_0/gray/features.npy\n",
      "Got the result from ./1/64/train/filtrations/6/HeightFiltrartion_-1_0/gray/features.npy\n",
      "Got the result from ./1/64/train/filtrations/6/HeightFiltrartion_-1_0/red/features.npy\n",
      "Got the result from ./1/64/train/filtrations/6/HeightFiltrartion_-1_0/red/features.npy\n",
      "Got the result from ./1/64/train/filtrations/6/HeightFiltrartion_-1_0/green/features.npy\n",
      "Got the result from ./1/64/train/filtrations/6/HeightFiltrartion_-1_0/green/features.npy\n",
      "Got the result from ./1/64/train/filtrations/6/HeightFiltrartion_-1_0/blue/features.npy\n",
      "Got the result from ./1/64/train/filtrations/6/HeightFiltrartion_-1_0/blue/features.npy\n",
      "Fitting filtration 56/72: 6/HeightFiltrartion_1_0\n",
      "RGB images received. Transforming to grayscale.\n"
     ]
    },
    {
     "name": "stderr",
     "output_type": "stream",
     "text": [
      "rgb2gray: 100%|██████████| 9469/9469 [00:01<00:00, 5264.91it/s]\n"
     ]
    },
    {
     "name": "stdout",
     "output_type": "stream",
     "text": [
      "Got the result from ./1/64/train/filtrations/6/HeightFiltrartion_1_0/gray/features.npy\n",
      "Got the result from ./1/64/train/filtrations/6/HeightFiltrartion_1_0/gray/features.npy\n",
      "Got the result from ./1/64/train/filtrations/6/HeightFiltrartion_1_0/red/features.npy\n",
      "Got the result from ./1/64/train/filtrations/6/HeightFiltrartion_1_0/red/features.npy\n",
      "Got the result from ./1/64/train/filtrations/6/HeightFiltrartion_1_0/green/features.npy\n",
      "Got the result from ./1/64/train/filtrations/6/HeightFiltrartion_1_0/green/features.npy\n",
      "Got the result from ./1/64/train/filtrations/6/HeightFiltrartion_1_0/blue/features.npy\n",
      "Got the result from ./1/64/train/filtrations/6/HeightFiltrartion_1_0/blue/features.npy\n",
      "Fitting filtration 57/72: 6/RadialFiltration_12_12\n",
      "RGB images received. Transforming to grayscale.\n"
     ]
    },
    {
     "name": "stderr",
     "output_type": "stream",
     "text": [
      "rgb2gray: 100%|██████████| 9469/9469 [00:01<00:00, 5433.78it/s]\n"
     ]
    },
    {
     "name": "stdout",
     "output_type": "stream",
     "text": [
      "Got the result from ./1/64/train/filtrations/6/RadialFiltration_12_12/gray/features.npy\n",
      "Got the result from ./1/64/train/filtrations/6/RadialFiltration_12_12/gray/features.npy\n",
      "Got the result from ./1/64/train/filtrations/6/RadialFiltration_12_12/red/features.npy\n",
      "Got the result from ./1/64/train/filtrations/6/RadialFiltration_12_12/red/features.npy\n",
      "Got the result from ./1/64/train/filtrations/6/RadialFiltration_12_12/green/features.npy\n",
      "Got the result from ./1/64/train/filtrations/6/RadialFiltration_12_12/green/features.npy\n",
      "Got the result from ./1/64/train/filtrations/6/RadialFiltration_12_12/blue/features.npy\n",
      "Got the result from ./1/64/train/filtrations/6/RadialFiltration_12_12/blue/features.npy\n",
      "Fitting filtration 58/72: 6/RadialFiltration_12_25\n",
      "RGB images received. Transforming to grayscale.\n"
     ]
    },
    {
     "name": "stderr",
     "output_type": "stream",
     "text": [
      "rgb2gray: 100%|██████████| 9469/9469 [00:01<00:00, 5435.61it/s]\n"
     ]
    },
    {
     "name": "stdout",
     "output_type": "stream",
     "text": [
      "Got the result from ./1/64/train/filtrations/6/RadialFiltration_12_25/gray/features.npy\n",
      "Got the result from ./1/64/train/filtrations/6/RadialFiltration_12_25/gray/features.npy\n",
      "Got the result from ./1/64/train/filtrations/6/RadialFiltration_12_25/red/features.npy\n",
      "Got the result from ./1/64/train/filtrations/6/RadialFiltration_12_25/red/features.npy\n",
      "Got the result from ./1/64/train/filtrations/6/RadialFiltration_12_25/green/features.npy\n",
      "Got the result from ./1/64/train/filtrations/6/RadialFiltration_12_25/green/features.npy\n",
      "Got the result from ./1/64/train/filtrations/6/RadialFiltration_12_25/blue/features.npy\n",
      "Got the result from ./1/64/train/filtrations/6/RadialFiltration_12_25/blue/features.npy\n",
      "Fitting filtration 59/72: 6/RadialFiltration_12_38\n",
      "RGB images received. Transforming to grayscale.\n"
     ]
    },
    {
     "name": "stderr",
     "output_type": "stream",
     "text": [
      "rgb2gray: 100%|██████████| 9469/9469 [00:01<00:00, 5588.30it/s]\n"
     ]
    },
    {
     "name": "stdout",
     "output_type": "stream",
     "text": [
      "Got the result from ./1/64/train/filtrations/6/RadialFiltration_12_38/gray/features.npy\n",
      "Got the result from ./1/64/train/filtrations/6/RadialFiltration_12_38/gray/features.npy\n",
      "Got the result from ./1/64/train/filtrations/6/RadialFiltration_12_38/red/features.npy\n",
      "Got the result from ./1/64/train/filtrations/6/RadialFiltration_12_38/red/features.npy\n",
      "Got the result from ./1/64/train/filtrations/6/RadialFiltration_12_38/green/features.npy\n",
      "Got the result from ./1/64/train/filtrations/6/RadialFiltration_12_38/green/features.npy\n",
      "Got the result from ./1/64/train/filtrations/6/RadialFiltration_12_38/blue/features.npy\n",
      "Got the result from ./1/64/train/filtrations/6/RadialFiltration_12_38/blue/features.npy\n",
      "Fitting filtration 60/72: 6/RadialFiltration_12_51\n",
      "RGB images received. Transforming to grayscale.\n"
     ]
    },
    {
     "name": "stderr",
     "output_type": "stream",
     "text": [
      "rgb2gray: 100%|██████████| 9469/9469 [00:01<00:00, 5568.35it/s]\n"
     ]
    },
    {
     "name": "stdout",
     "output_type": "stream",
     "text": [
      "Got the result from ./1/64/train/filtrations/6/RadialFiltration_12_51/gray/features.npy\n",
      "Got the result from ./1/64/train/filtrations/6/RadialFiltration_12_51/gray/features.npy\n",
      "Got the result from ./1/64/train/filtrations/6/RadialFiltration_12_51/red/features.npy\n",
      "Got the result from ./1/64/train/filtrations/6/RadialFiltration_12_51/red/features.npy\n",
      "Got the result from ./1/64/train/filtrations/6/RadialFiltration_12_51/green/features.npy\n",
      "Got the result from ./1/64/train/filtrations/6/RadialFiltration_12_51/green/features.npy\n",
      "Got the result from ./1/64/train/filtrations/6/RadialFiltration_12_51/blue/features.npy\n",
      "Got the result from ./1/64/train/filtrations/6/RadialFiltration_12_51/blue/features.npy\n",
      "Fitting filtration 61/72: 6/RadialFiltration_25_12\n",
      "RGB images received. Transforming to grayscale.\n"
     ]
    },
    {
     "name": "stderr",
     "output_type": "stream",
     "text": [
      "rgb2gray: 100%|██████████| 9469/9469 [00:01<00:00, 5542.11it/s]\n"
     ]
    },
    {
     "name": "stdout",
     "output_type": "stream",
     "text": [
      "Got the result from ./1/64/train/filtrations/6/RadialFiltration_25_12/gray/features.npy\n",
      "Got the result from ./1/64/train/filtrations/6/RadialFiltration_25_12/gray/features.npy\n",
      "Got the result from ./1/64/train/filtrations/6/RadialFiltration_25_12/red/features.npy\n",
      "Got the result from ./1/64/train/filtrations/6/RadialFiltration_25_12/red/features.npy\n",
      "Got the result from ./1/64/train/filtrations/6/RadialFiltration_25_12/green/features.npy\n",
      "Got the result from ./1/64/train/filtrations/6/RadialFiltration_25_12/green/features.npy\n",
      "Got the result from ./1/64/train/filtrations/6/RadialFiltration_25_12/blue/features.npy\n",
      "Got the result from ./1/64/train/filtrations/6/RadialFiltration_25_12/blue/features.npy\n",
      "Fitting filtration 62/72: 6/RadialFiltration_25_25\n",
      "RGB images received. Transforming to grayscale.\n"
     ]
    },
    {
     "name": "stderr",
     "output_type": "stream",
     "text": [
      "rgb2gray: 100%|██████████| 9469/9469 [00:01<00:00, 5604.40it/s]\n"
     ]
    },
    {
     "name": "stdout",
     "output_type": "stream",
     "text": [
      "Got the result from ./1/64/train/filtrations/6/RadialFiltration_25_25/gray/features.npy\n",
      "Got the result from ./1/64/train/filtrations/6/RadialFiltration_25_25/gray/features.npy\n",
      "Got the result from ./1/64/train/filtrations/6/RadialFiltration_25_25/red/features.npy\n",
      "Got the result from ./1/64/train/filtrations/6/RadialFiltration_25_25/red/features.npy\n",
      "Got the result from ./1/64/train/filtrations/6/RadialFiltration_25_25/green/features.npy\n",
      "Got the result from ./1/64/train/filtrations/6/RadialFiltration_25_25/green/features.npy\n",
      "Got the result from ./1/64/train/filtrations/6/RadialFiltration_25_25/blue/features.npy\n",
      "Got the result from ./1/64/train/filtrations/6/RadialFiltration_25_25/blue/features.npy\n",
      "Fitting filtration 63/72: 6/RadialFiltration_25_38\n",
      "RGB images received. Transforming to grayscale.\n"
     ]
    },
    {
     "name": "stderr",
     "output_type": "stream",
     "text": [
      "rgb2gray: 100%|██████████| 9469/9469 [00:01<00:00, 5553.66it/s]\n"
     ]
    },
    {
     "name": "stdout",
     "output_type": "stream",
     "text": [
      "Got the result from ./1/64/train/filtrations/6/RadialFiltration_25_38/gray/features.npy\n",
      "Got the result from ./1/64/train/filtrations/6/RadialFiltration_25_38/gray/features.npy\n",
      "Got the result from ./1/64/train/filtrations/6/RadialFiltration_25_38/red/features.npy\n",
      "Got the result from ./1/64/train/filtrations/6/RadialFiltration_25_38/red/features.npy\n",
      "Got the result from ./1/64/train/filtrations/6/RadialFiltration_25_38/green/features.npy\n",
      "Got the result from ./1/64/train/filtrations/6/RadialFiltration_25_38/green/features.npy\n",
      "Got the result from ./1/64/train/filtrations/6/RadialFiltration_25_38/blue/features.npy\n",
      "Got the result from ./1/64/train/filtrations/6/RadialFiltration_25_38/blue/features.npy\n",
      "Fitting filtration 64/72: 6/RadialFiltration_25_51\n",
      "RGB images received. Transforming to grayscale.\n"
     ]
    },
    {
     "name": "stderr",
     "output_type": "stream",
     "text": [
      "rgb2gray: 100%|██████████| 9469/9469 [00:01<00:00, 5554.02it/s]\n"
     ]
    },
    {
     "name": "stdout",
     "output_type": "stream",
     "text": [
      "Got the result from ./1/64/train/filtrations/6/RadialFiltration_25_51/gray/features.npy\n",
      "Got the result from ./1/64/train/filtrations/6/RadialFiltration_25_51/gray/features.npy\n",
      "Got the result from ./1/64/train/filtrations/6/RadialFiltration_25_51/red/features.npy\n",
      "Got the result from ./1/64/train/filtrations/6/RadialFiltration_25_51/red/features.npy\n",
      "Got the result from ./1/64/train/filtrations/6/RadialFiltration_25_51/green/features.npy\n",
      "Got the result from ./1/64/train/filtrations/6/RadialFiltration_25_51/green/features.npy\n",
      "Got the result from ./1/64/train/filtrations/6/RadialFiltration_25_51/blue/features.npy\n",
      "Got the result from ./1/64/train/filtrations/6/RadialFiltration_25_51/blue/features.npy\n",
      "Fitting filtration 65/72: 6/RadialFiltration_38_12\n",
      "RGB images received. Transforming to grayscale.\n"
     ]
    },
    {
     "name": "stderr",
     "output_type": "stream",
     "text": [
      "rgb2gray: 100%|██████████| 9469/9469 [00:01<00:00, 5362.23it/s]\n"
     ]
    },
    {
     "name": "stdout",
     "output_type": "stream",
     "text": [
      "Got the result from ./1/64/train/filtrations/6/RadialFiltration_38_12/gray/features.npy\n",
      "Got the result from ./1/64/train/filtrations/6/RadialFiltration_38_12/gray/features.npy\n",
      "Got the result from ./1/64/train/filtrations/6/RadialFiltration_38_12/red/features.npy\n",
      "Got the result from ./1/64/train/filtrations/6/RadialFiltration_38_12/red/features.npy\n",
      "Got the result from ./1/64/train/filtrations/6/RadialFiltration_38_12/green/features.npy\n",
      "Got the result from ./1/64/train/filtrations/6/RadialFiltration_38_12/green/features.npy\n",
      "Got the result from ./1/64/train/filtrations/6/RadialFiltration_38_12/blue/features.npy\n",
      "Got the result from ./1/64/train/filtrations/6/RadialFiltration_38_12/blue/features.npy\n",
      "Fitting filtration 66/72: 6/RadialFiltration_38_25\n",
      "RGB images received. Transforming to grayscale.\n"
     ]
    },
    {
     "name": "stderr",
     "output_type": "stream",
     "text": [
      "rgb2gray: 100%|██████████| 9469/9469 [00:01<00:00, 5591.92it/s]\n"
     ]
    },
    {
     "name": "stdout",
     "output_type": "stream",
     "text": [
      "Got the result from ./1/64/train/filtrations/6/RadialFiltration_38_25/gray/features.npy\n",
      "Got the result from ./1/64/train/filtrations/6/RadialFiltration_38_25/gray/features.npy\n",
      "Got the result from ./1/64/train/filtrations/6/RadialFiltration_38_25/red/features.npy\n",
      "Got the result from ./1/64/train/filtrations/6/RadialFiltration_38_25/red/features.npy\n",
      "Got the result from ./1/64/train/filtrations/6/RadialFiltration_38_25/green/features.npy\n",
      "Got the result from ./1/64/train/filtrations/6/RadialFiltration_38_25/green/features.npy\n",
      "Got the result from ./1/64/train/filtrations/6/RadialFiltration_38_25/blue/features.npy\n",
      "Got the result from ./1/64/train/filtrations/6/RadialFiltration_38_25/blue/features.npy\n",
      "Fitting filtration 67/72: 6/RadialFiltration_38_38\n",
      "RGB images received. Transforming to grayscale.\n"
     ]
    },
    {
     "name": "stderr",
     "output_type": "stream",
     "text": [
      "rgb2gray: 100%|██████████| 9469/9469 [00:01<00:00, 5398.80it/s]\n"
     ]
    },
    {
     "name": "stdout",
     "output_type": "stream",
     "text": [
      "Got the result from ./1/64/train/filtrations/6/RadialFiltration_38_38/gray/features.npy\n",
      "Got the result from ./1/64/train/filtrations/6/RadialFiltration_38_38/gray/features.npy\n",
      "Got the result from ./1/64/train/filtrations/6/RadialFiltration_38_38/red/features.npy\n",
      "Got the result from ./1/64/train/filtrations/6/RadialFiltration_38_38/red/features.npy\n",
      "Got the result from ./1/64/train/filtrations/6/RadialFiltration_38_38/green/features.npy\n",
      "Got the result from ./1/64/train/filtrations/6/RadialFiltration_38_38/green/features.npy\n",
      "Got the result from ./1/64/train/filtrations/6/RadialFiltration_38_38/blue/features.npy\n",
      "Got the result from ./1/64/train/filtrations/6/RadialFiltration_38_38/blue/features.npy\n",
      "Fitting filtration 68/72: 6/RadialFiltration_38_51\n",
      "RGB images received. Transforming to grayscale.\n"
     ]
    },
    {
     "name": "stderr",
     "output_type": "stream",
     "text": [
      "rgb2gray: 100%|██████████| 9469/9469 [00:01<00:00, 5639.23it/s]\n"
     ]
    },
    {
     "name": "stdout",
     "output_type": "stream",
     "text": [
      "Got the result from ./1/64/train/filtrations/6/RadialFiltration_38_51/gray/features.npy\n",
      "Got the result from ./1/64/train/filtrations/6/RadialFiltration_38_51/gray/features.npy\n",
      "Got the result from ./1/64/train/filtrations/6/RadialFiltration_38_51/red/features.npy\n",
      "Got the result from ./1/64/train/filtrations/6/RadialFiltration_38_51/red/features.npy\n",
      "Got the result from ./1/64/train/filtrations/6/RadialFiltration_38_51/green/features.npy\n",
      "Got the result from ./1/64/train/filtrations/6/RadialFiltration_38_51/green/features.npy\n",
      "Got the result from ./1/64/train/filtrations/6/RadialFiltration_38_51/blue/features.npy\n",
      "Got the result from ./1/64/train/filtrations/6/RadialFiltration_38_51/blue/features.npy\n",
      "Fitting filtration 69/72: 6/RadialFiltration_51_12\n",
      "RGB images received. Transforming to grayscale.\n"
     ]
    },
    {
     "name": "stderr",
     "output_type": "stream",
     "text": [
      "rgb2gray: 100%|██████████| 9469/9469 [00:01<00:00, 5310.58it/s]\n"
     ]
    },
    {
     "name": "stdout",
     "output_type": "stream",
     "text": [
      "Got the result from ./1/64/train/filtrations/6/RadialFiltration_51_12/gray/features.npy\n",
      "Got the result from ./1/64/train/filtrations/6/RadialFiltration_51_12/gray/features.npy\n",
      "Got the result from ./1/64/train/filtrations/6/RadialFiltration_51_12/red/features.npy\n",
      "Got the result from ./1/64/train/filtrations/6/RadialFiltration_51_12/red/features.npy\n",
      "Got the result from ./1/64/train/filtrations/6/RadialFiltration_51_12/green/features.npy\n",
      "Got the result from ./1/64/train/filtrations/6/RadialFiltration_51_12/green/features.npy\n",
      "Got the result from ./1/64/train/filtrations/6/RadialFiltration_51_12/blue/features.npy\n",
      "Got the result from ./1/64/train/filtrations/6/RadialFiltration_51_12/blue/features.npy\n",
      "Fitting filtration 70/72: 6/RadialFiltration_51_25\n",
      "RGB images received. Transforming to grayscale.\n"
     ]
    },
    {
     "name": "stderr",
     "output_type": "stream",
     "text": [
      "rgb2gray: 100%|██████████| 9469/9469 [00:01<00:00, 5517.91it/s]\n"
     ]
    },
    {
     "name": "stdout",
     "output_type": "stream",
     "text": [
      "Got the result from ./1/64/train/filtrations/6/RadialFiltration_51_25/gray/features.npy\n",
      "Got the result from ./1/64/train/filtrations/6/RadialFiltration_51_25/gray/features.npy\n",
      "Got the result from ./1/64/train/filtrations/6/RadialFiltration_51_25/red/features.npy\n",
      "Got the result from ./1/64/train/filtrations/6/RadialFiltration_51_25/red/features.npy\n",
      "Got the result from ./1/64/train/filtrations/6/RadialFiltration_51_25/green/features.npy\n",
      "Got the result from ./1/64/train/filtrations/6/RadialFiltration_51_25/green/features.npy\n",
      "Got the result from ./1/64/train/filtrations/6/RadialFiltration_51_25/blue/features.npy\n",
      "Got the result from ./1/64/train/filtrations/6/RadialFiltration_51_25/blue/features.npy\n",
      "Fitting filtration 71/72: 6/RadialFiltration_51_38\n",
      "RGB images received. Transforming to grayscale.\n"
     ]
    },
    {
     "name": "stderr",
     "output_type": "stream",
     "text": [
      "rgb2gray: 100%|██████████| 9469/9469 [00:01<00:00, 5548.86it/s]\n"
     ]
    },
    {
     "name": "stdout",
     "output_type": "stream",
     "text": [
      "Got the result from ./1/64/train/filtrations/6/RadialFiltration_51_38/gray/features.npy\n",
      "Got the result from ./1/64/train/filtrations/6/RadialFiltration_51_38/gray/features.npy\n",
      "Got the result from ./1/64/train/filtrations/6/RadialFiltration_51_38/red/features.npy\n",
      "Got the result from ./1/64/train/filtrations/6/RadialFiltration_51_38/red/features.npy\n",
      "Got the result from ./1/64/train/filtrations/6/RadialFiltration_51_38/green/features.npy\n",
      "Got the result from ./1/64/train/filtrations/6/RadialFiltration_51_38/green/features.npy\n",
      "Got the result from ./1/64/train/filtrations/6/RadialFiltration_51_38/blue/features.npy\n",
      "Got the result from ./1/64/train/filtrations/6/RadialFiltration_51_38/blue/features.npy\n",
      "Fitting filtration 72/72: 6/RadialFiltration_51_51\n",
      "RGB images received. Transforming to grayscale.\n"
     ]
    },
    {
     "name": "stderr",
     "output_type": "stream",
     "text": [
      "rgb2gray: 100%|██████████| 9469/9469 [00:01<00:00, 5406.20it/s]\n"
     ]
    },
    {
     "name": "stdout",
     "output_type": "stream",
     "text": [
      "Got the result from ./1/64/train/filtrations/6/RadialFiltration_51_51/gray/features.npy\n",
      "Got the result from ./1/64/train/filtrations/6/RadialFiltration_51_51/gray/features.npy\n",
      "Got the result from ./1/64/train/filtrations/6/RadialFiltration_51_51/red/features.npy\n",
      "Got the result from ./1/64/train/filtrations/6/RadialFiltration_51_51/red/features.npy\n",
      "Got the result from ./1/64/train/filtrations/6/RadialFiltration_51_51/green/features.npy\n",
      "Got the result from ./1/64/train/filtrations/6/RadialFiltration_51_51/green/features.npy\n",
      "Got the result from ./1/64/train/filtrations/6/RadialFiltration_51_51/blue/features.npy\n",
      "Got the result from ./1/64/train/filtrations/6/RadialFiltration_51_51/blue/features.npy\n",
      "Applying filtrations\n",
      "Applying filtration 1/72: 2/HeightFiltrartion_-1_-1\n",
      "RGB images received. Transforming to grayscale.\n"
     ]
    },
    {
     "name": "stderr",
     "output_type": "stream",
     "text": [
      "rgb2gray: 100%|██████████| 9469/9469 [00:01<00:00, 5521.71it/s]\n"
     ]
    },
    {
     "name": "stdout",
     "output_type": "stream",
     "text": [
      "Got the result from ./1/64/train/filtrations/2/HeightFiltrartion_-1_-1/gray/features.npy\n",
      "Got the result from ./1/64/train/filtrations/2/HeightFiltrartion_-1_-1/red/features.npy\n",
      "Got the result from ./1/64/train/filtrations/2/HeightFiltrartion_-1_-1/green/features.npy\n",
      "Got the result from ./1/64/train/filtrations/2/HeightFiltrartion_-1_-1/blue/features.npy\n",
      "Applying filtration 2/72: 2/HeightFiltrartion_1_1\n",
      "RGB images received. Transforming to grayscale.\n"
     ]
    },
    {
     "name": "stderr",
     "output_type": "stream",
     "text": [
      "rgb2gray: 100%|██████████| 9469/9469 [00:01<00:00, 5672.97it/s]\n"
     ]
    },
    {
     "name": "stdout",
     "output_type": "stream",
     "text": [
      "Got the result from ./1/64/train/filtrations/2/HeightFiltrartion_1_1/gray/features.npy\n",
      "Got the result from ./1/64/train/filtrations/2/HeightFiltrartion_1_1/red/features.npy\n",
      "Got the result from ./1/64/train/filtrations/2/HeightFiltrartion_1_1/green/features.npy\n",
      "Got the result from ./1/64/train/filtrations/2/HeightFiltrartion_1_1/blue/features.npy\n",
      "Applying filtration 3/72: 2/HeightFiltrartion_1_-1\n",
      "RGB images received. Transforming to grayscale.\n"
     ]
    },
    {
     "name": "stderr",
     "output_type": "stream",
     "text": [
      "rgb2gray: 100%|██████████| 9469/9469 [00:01<00:00, 5602.96it/s]\n"
     ]
    },
    {
     "name": "stdout",
     "output_type": "stream",
     "text": [
      "Got the result from ./1/64/train/filtrations/2/HeightFiltrartion_1_-1/gray/features.npy\n",
      "Got the result from ./1/64/train/filtrations/2/HeightFiltrartion_1_-1/red/features.npy\n",
      "Got the result from ./1/64/train/filtrations/2/HeightFiltrartion_1_-1/green/features.npy\n",
      "Got the result from ./1/64/train/filtrations/2/HeightFiltrartion_1_-1/blue/features.npy\n",
      "Applying filtration 4/72: 2/HeightFiltrartion_-1_1\n",
      "RGB images received. Transforming to grayscale.\n"
     ]
    },
    {
     "name": "stderr",
     "output_type": "stream",
     "text": [
      "rgb2gray: 100%|██████████| 9469/9469 [00:01<00:00, 5700.78it/s]\n"
     ]
    },
    {
     "name": "stdout",
     "output_type": "stream",
     "text": [
      "Got the result from ./1/64/train/filtrations/2/HeightFiltrartion_-1_1/gray/features.npy\n",
      "Got the result from ./1/64/train/filtrations/2/HeightFiltrartion_-1_1/red/features.npy\n",
      "Got the result from ./1/64/train/filtrations/2/HeightFiltrartion_-1_1/green/features.npy\n",
      "Got the result from ./1/64/train/filtrations/2/HeightFiltrartion_-1_1/blue/features.npy\n",
      "Applying filtration 5/72: 2/HeightFiltrartion_0_-1\n",
      "RGB images received. Transforming to grayscale.\n"
     ]
    },
    {
     "name": "stderr",
     "output_type": "stream",
     "text": [
      "rgb2gray: 100%|██████████| 9469/9469 [00:01<00:00, 5644.68it/s]\n"
     ]
    },
    {
     "name": "stdout",
     "output_type": "stream",
     "text": [
      "Got the result from ./1/64/train/filtrations/2/HeightFiltrartion_0_-1/gray/features.npy\n",
      "Got the result from ./1/64/train/filtrations/2/HeightFiltrartion_0_-1/red/features.npy\n",
      "Got the result from ./1/64/train/filtrations/2/HeightFiltrartion_0_-1/green/features.npy\n",
      "Got the result from ./1/64/train/filtrations/2/HeightFiltrartion_0_-1/blue/features.npy\n",
      "Applying filtration 6/72: 2/HeightFiltrartion_0_1\n",
      "RGB images received. Transforming to grayscale.\n"
     ]
    },
    {
     "name": "stderr",
     "output_type": "stream",
     "text": [
      "rgb2gray: 100%|██████████| 9469/9469 [00:01<00:00, 5513.06it/s]\n"
     ]
    },
    {
     "name": "stdout",
     "output_type": "stream",
     "text": [
      "Got the result from ./1/64/train/filtrations/2/HeightFiltrartion_0_1/gray/features.npy\n",
      "Got the result from ./1/64/train/filtrations/2/HeightFiltrartion_0_1/red/features.npy\n",
      "Got the result from ./1/64/train/filtrations/2/HeightFiltrartion_0_1/green/features.npy\n",
      "Got the result from ./1/64/train/filtrations/2/HeightFiltrartion_0_1/blue/features.npy\n",
      "Applying filtration 7/72: 2/HeightFiltrartion_-1_0\n",
      "RGB images received. Transforming to grayscale.\n"
     ]
    },
    {
     "name": "stderr",
     "output_type": "stream",
     "text": [
      "rgb2gray: 100%|██████████| 9469/9469 [00:01<00:00, 5215.63it/s]\n"
     ]
    },
    {
     "name": "stdout",
     "output_type": "stream",
     "text": [
      "Got the result from ./1/64/train/filtrations/2/HeightFiltrartion_-1_0/gray/features.npy\n",
      "Got the result from ./1/64/train/filtrations/2/HeightFiltrartion_-1_0/red/features.npy\n",
      "Got the result from ./1/64/train/filtrations/2/HeightFiltrartion_-1_0/green/features.npy\n",
      "Got the result from ./1/64/train/filtrations/2/HeightFiltrartion_-1_0/blue/features.npy\n",
      "Applying filtration 8/72: 2/HeightFiltrartion_1_0\n",
      "RGB images received. Transforming to grayscale.\n"
     ]
    },
    {
     "name": "stderr",
     "output_type": "stream",
     "text": [
      "rgb2gray: 100%|██████████| 9469/9469 [00:01<00:00, 5355.41it/s]\n"
     ]
    },
    {
     "name": "stdout",
     "output_type": "stream",
     "text": [
      "Got the result from ./1/64/train/filtrations/2/HeightFiltrartion_1_0/gray/features.npy\n",
      "Got the result from ./1/64/train/filtrations/2/HeightFiltrartion_1_0/red/features.npy\n",
      "Got the result from ./1/64/train/filtrations/2/HeightFiltrartion_1_0/green/features.npy\n",
      "Got the result from ./1/64/train/filtrations/2/HeightFiltrartion_1_0/blue/features.npy\n",
      "Applying filtration 9/72: 2/RadialFiltration_12_12\n",
      "RGB images received. Transforming to grayscale.\n"
     ]
    },
    {
     "name": "stderr",
     "output_type": "stream",
     "text": [
      "rgb2gray: 100%|██████████| 9469/9469 [00:01<00:00, 5627.79it/s]\n"
     ]
    },
    {
     "name": "stdout",
     "output_type": "stream",
     "text": [
      "Got the result from ./1/64/train/filtrations/2/RadialFiltration_12_12/gray/features.npy\n",
      "Got the result from ./1/64/train/filtrations/2/RadialFiltration_12_12/red/features.npy\n",
      "Got the result from ./1/64/train/filtrations/2/RadialFiltration_12_12/green/features.npy\n",
      "Got the result from ./1/64/train/filtrations/2/RadialFiltration_12_12/blue/features.npy\n",
      "Applying filtration 10/72: 2/RadialFiltration_12_25\n",
      "RGB images received. Transforming to grayscale.\n"
     ]
    },
    {
     "name": "stderr",
     "output_type": "stream",
     "text": [
      "rgb2gray: 100%|██████████| 9469/9469 [00:01<00:00, 5530.22it/s]\n"
     ]
    },
    {
     "name": "stdout",
     "output_type": "stream",
     "text": [
      "Got the result from ./1/64/train/filtrations/2/RadialFiltration_12_25/gray/features.npy\n",
      "Got the result from ./1/64/train/filtrations/2/RadialFiltration_12_25/red/features.npy\n",
      "Got the result from ./1/64/train/filtrations/2/RadialFiltration_12_25/green/features.npy\n",
      "Got the result from ./1/64/train/filtrations/2/RadialFiltration_12_25/blue/features.npy\n",
      "Applying filtration 11/72: 2/RadialFiltration_12_38\n",
      "RGB images received. Transforming to grayscale.\n"
     ]
    },
    {
     "name": "stderr",
     "output_type": "stream",
     "text": [
      "rgb2gray: 100%|██████████| 9469/9469 [00:01<00:00, 5663.11it/s]\n"
     ]
    },
    {
     "name": "stdout",
     "output_type": "stream",
     "text": [
      "Got the result from ./1/64/train/filtrations/2/RadialFiltration_12_38/gray/features.npy\n",
      "Got the result from ./1/64/train/filtrations/2/RadialFiltration_12_38/red/features.npy\n",
      "Got the result from ./1/64/train/filtrations/2/RadialFiltration_12_38/green/features.npy\n",
      "Got the result from ./1/64/train/filtrations/2/RadialFiltration_12_38/blue/features.npy\n",
      "Applying filtration 12/72: 2/RadialFiltration_12_51\n",
      "RGB images received. Transforming to grayscale.\n"
     ]
    },
    {
     "name": "stderr",
     "output_type": "stream",
     "text": [
      "rgb2gray: 100%|██████████| 9469/9469 [00:01<00:00, 5539.01it/s]\n"
     ]
    },
    {
     "name": "stdout",
     "output_type": "stream",
     "text": [
      "Got the result from ./1/64/train/filtrations/2/RadialFiltration_12_51/gray/features.npy\n",
      "Got the result from ./1/64/train/filtrations/2/RadialFiltration_12_51/red/features.npy\n",
      "Got the result from ./1/64/train/filtrations/2/RadialFiltration_12_51/green/features.npy\n",
      "Got the result from ./1/64/train/filtrations/2/RadialFiltration_12_51/blue/features.npy\n",
      "Applying filtration 13/72: 2/RadialFiltration_25_12\n",
      "RGB images received. Transforming to grayscale.\n"
     ]
    },
    {
     "name": "stderr",
     "output_type": "stream",
     "text": [
      "rgb2gray: 100%|██████████| 9469/9469 [00:01<00:00, 5571.70it/s]\n"
     ]
    },
    {
     "name": "stdout",
     "output_type": "stream",
     "text": [
      "Got the result from ./1/64/train/filtrations/2/RadialFiltration_25_12/gray/features.npy\n",
      "Got the result from ./1/64/train/filtrations/2/RadialFiltration_25_12/red/features.npy\n",
      "Got the result from ./1/64/train/filtrations/2/RadialFiltration_25_12/green/features.npy\n",
      "Got the result from ./1/64/train/filtrations/2/RadialFiltration_25_12/blue/features.npy\n",
      "Applying filtration 14/72: 2/RadialFiltration_25_25\n",
      "RGB images received. Transforming to grayscale.\n"
     ]
    },
    {
     "name": "stderr",
     "output_type": "stream",
     "text": [
      "rgb2gray: 100%|██████████| 9469/9469 [00:01<00:00, 5641.33it/s]\n"
     ]
    },
    {
     "name": "stdout",
     "output_type": "stream",
     "text": [
      "Got the result from ./1/64/train/filtrations/2/RadialFiltration_25_25/gray/features.npy\n",
      "Got the result from ./1/64/train/filtrations/2/RadialFiltration_25_25/red/features.npy\n",
      "Got the result from ./1/64/train/filtrations/2/RadialFiltration_25_25/green/features.npy\n",
      "Got the result from ./1/64/train/filtrations/2/RadialFiltration_25_25/blue/features.npy\n",
      "Applying filtration 15/72: 2/RadialFiltration_25_38\n",
      "RGB images received. Transforming to grayscale.\n"
     ]
    },
    {
     "name": "stderr",
     "output_type": "stream",
     "text": [
      "rgb2gray: 100%|██████████| 9469/9469 [00:01<00:00, 5644.40it/s]\n"
     ]
    },
    {
     "name": "stdout",
     "output_type": "stream",
     "text": [
      "Got the result from ./1/64/train/filtrations/2/RadialFiltration_25_38/gray/features.npy\n",
      "Got the result from ./1/64/train/filtrations/2/RadialFiltration_25_38/red/features.npy\n",
      "Got the result from ./1/64/train/filtrations/2/RadialFiltration_25_38/green/features.npy\n",
      "Got the result from ./1/64/train/filtrations/2/RadialFiltration_25_38/blue/features.npy\n",
      "Applying filtration 16/72: 2/RadialFiltration_25_51\n",
      "RGB images received. Transforming to grayscale.\n"
     ]
    },
    {
     "name": "stderr",
     "output_type": "stream",
     "text": [
      "rgb2gray: 100%|██████████| 9469/9469 [00:01<00:00, 5656.13it/s]\n"
     ]
    },
    {
     "name": "stdout",
     "output_type": "stream",
     "text": [
      "Got the result from ./1/64/train/filtrations/2/RadialFiltration_25_51/gray/features.npy\n",
      "Got the result from ./1/64/train/filtrations/2/RadialFiltration_25_51/red/features.npy\n",
      "Got the result from ./1/64/train/filtrations/2/RadialFiltration_25_51/green/features.npy\n",
      "Got the result from ./1/64/train/filtrations/2/RadialFiltration_25_51/blue/features.npy\n",
      "Applying filtration 17/72: 2/RadialFiltration_38_12\n",
      "RGB images received. Transforming to grayscale.\n"
     ]
    },
    {
     "name": "stderr",
     "output_type": "stream",
     "text": [
      "rgb2gray: 100%|██████████| 9469/9469 [00:01<00:00, 5561.28it/s]\n"
     ]
    },
    {
     "name": "stdout",
     "output_type": "stream",
     "text": [
      "Got the result from ./1/64/train/filtrations/2/RadialFiltration_38_12/gray/features.npy\n",
      "Got the result from ./1/64/train/filtrations/2/RadialFiltration_38_12/red/features.npy\n",
      "Got the result from ./1/64/train/filtrations/2/RadialFiltration_38_12/green/features.npy\n",
      "Got the result from ./1/64/train/filtrations/2/RadialFiltration_38_12/blue/features.npy\n",
      "Applying filtration 18/72: 2/RadialFiltration_38_25\n",
      "RGB images received. Transforming to grayscale.\n"
     ]
    },
    {
     "name": "stderr",
     "output_type": "stream",
     "text": [
      "rgb2gray: 100%|██████████| 9469/9469 [00:01<00:00, 5366.39it/s]\n"
     ]
    },
    {
     "name": "stdout",
     "output_type": "stream",
     "text": [
      "Got the result from ./1/64/train/filtrations/2/RadialFiltration_38_25/gray/features.npy\n",
      "Got the result from ./1/64/train/filtrations/2/RadialFiltration_38_25/red/features.npy\n",
      "Got the result from ./1/64/train/filtrations/2/RadialFiltration_38_25/green/features.npy\n",
      "Got the result from ./1/64/train/filtrations/2/RadialFiltration_38_25/blue/features.npy\n",
      "Applying filtration 19/72: 2/RadialFiltration_38_38\n",
      "RGB images received. Transforming to grayscale.\n"
     ]
    },
    {
     "name": "stderr",
     "output_type": "stream",
     "text": [
      "rgb2gray: 100%|██████████| 9469/9469 [00:01<00:00, 5602.82it/s]\n"
     ]
    },
    {
     "name": "stdout",
     "output_type": "stream",
     "text": [
      "Got the result from ./1/64/train/filtrations/2/RadialFiltration_38_38/gray/features.npy\n",
      "Got the result from ./1/64/train/filtrations/2/RadialFiltration_38_38/red/features.npy\n",
      "Got the result from ./1/64/train/filtrations/2/RadialFiltration_38_38/green/features.npy\n",
      "Got the result from ./1/64/train/filtrations/2/RadialFiltration_38_38/blue/features.npy\n",
      "Applying filtration 20/72: 2/RadialFiltration_38_51\n",
      "RGB images received. Transforming to grayscale.\n"
     ]
    },
    {
     "name": "stderr",
     "output_type": "stream",
     "text": [
      "rgb2gray: 100%|██████████| 9469/9469 [00:01<00:00, 5609.12it/s]\n"
     ]
    },
    {
     "name": "stdout",
     "output_type": "stream",
     "text": [
      "Got the result from ./1/64/train/filtrations/2/RadialFiltration_38_51/gray/features.npy\n",
      "Got the result from ./1/64/train/filtrations/2/RadialFiltration_38_51/red/features.npy\n",
      "Got the result from ./1/64/train/filtrations/2/RadialFiltration_38_51/green/features.npy\n",
      "Got the result from ./1/64/train/filtrations/2/RadialFiltration_38_51/blue/features.npy\n",
      "Applying filtration 21/72: 2/RadialFiltration_51_12\n",
      "RGB images received. Transforming to grayscale.\n"
     ]
    },
    {
     "name": "stderr",
     "output_type": "stream",
     "text": [
      "rgb2gray: 100%|██████████| 9469/9469 [00:01<00:00, 5631.09it/s]\n"
     ]
    },
    {
     "name": "stdout",
     "output_type": "stream",
     "text": [
      "Got the result from ./1/64/train/filtrations/2/RadialFiltration_51_12/gray/features.npy\n",
      "Got the result from ./1/64/train/filtrations/2/RadialFiltration_51_12/red/features.npy\n",
      "Got the result from ./1/64/train/filtrations/2/RadialFiltration_51_12/green/features.npy\n",
      "Got the result from ./1/64/train/filtrations/2/RadialFiltration_51_12/blue/features.npy\n",
      "Applying filtration 22/72: 2/RadialFiltration_51_25\n",
      "RGB images received. Transforming to grayscale.\n"
     ]
    },
    {
     "name": "stderr",
     "output_type": "stream",
     "text": [
      "rgb2gray: 100%|██████████| 9469/9469 [00:01<00:00, 5675.13it/s]\n"
     ]
    },
    {
     "name": "stdout",
     "output_type": "stream",
     "text": [
      "Got the result from ./1/64/train/filtrations/2/RadialFiltration_51_25/gray/features.npy\n",
      "Got the result from ./1/64/train/filtrations/2/RadialFiltration_51_25/red/features.npy\n",
      "Got the result from ./1/64/train/filtrations/2/RadialFiltration_51_25/green/features.npy\n",
      "Got the result from ./1/64/train/filtrations/2/RadialFiltration_51_25/blue/features.npy\n",
      "Applying filtration 23/72: 2/RadialFiltration_51_38\n",
      "RGB images received. Transforming to grayscale.\n"
     ]
    },
    {
     "name": "stderr",
     "output_type": "stream",
     "text": [
      "rgb2gray: 100%|██████████| 9469/9469 [00:01<00:00, 5616.39it/s]\n"
     ]
    },
    {
     "name": "stdout",
     "output_type": "stream",
     "text": [
      "Got the result from ./1/64/train/filtrations/2/RadialFiltration_51_38/gray/features.npy\n",
      "Got the result from ./1/64/train/filtrations/2/RadialFiltration_51_38/red/features.npy\n",
      "Got the result from ./1/64/train/filtrations/2/RadialFiltration_51_38/green/features.npy\n",
      "Got the result from ./1/64/train/filtrations/2/RadialFiltration_51_38/blue/features.npy\n",
      "Applying filtration 24/72: 2/RadialFiltration_51_51\n",
      "RGB images received. Transforming to grayscale.\n"
     ]
    },
    {
     "name": "stderr",
     "output_type": "stream",
     "text": [
      "rgb2gray: 100%|██████████| 9469/9469 [00:01<00:00, 5410.71it/s]\n"
     ]
    },
    {
     "name": "stdout",
     "output_type": "stream",
     "text": [
      "Got the result from ./1/64/train/filtrations/2/RadialFiltration_51_51/gray/features.npy\n",
      "Got the result from ./1/64/train/filtrations/2/RadialFiltration_51_51/red/features.npy\n",
      "Got the result from ./1/64/train/filtrations/2/RadialFiltration_51_51/green/features.npy\n",
      "Got the result from ./1/64/train/filtrations/2/RadialFiltration_51_51/blue/features.npy\n",
      "Applying filtration 25/72: 4/HeightFiltrartion_-1_-1\n",
      "RGB images received. Transforming to grayscale.\n"
     ]
    },
    {
     "name": "stderr",
     "output_type": "stream",
     "text": [
      "rgb2gray: 100%|██████████| 9469/9469 [00:01<00:00, 5517.41it/s]\n"
     ]
    },
    {
     "name": "stdout",
     "output_type": "stream",
     "text": [
      "Got the result from ./1/64/train/filtrations/4/HeightFiltrartion_-1_-1/gray/features.npy\n",
      "Got the result from ./1/64/train/filtrations/4/HeightFiltrartion_-1_-1/red/features.npy\n",
      "Got the result from ./1/64/train/filtrations/4/HeightFiltrartion_-1_-1/green/features.npy\n",
      "Got the result from ./1/64/train/filtrations/4/HeightFiltrartion_-1_-1/blue/features.npy\n",
      "Applying filtration 26/72: 4/HeightFiltrartion_1_1\n",
      "RGB images received. Transforming to grayscale.\n"
     ]
    },
    {
     "name": "stderr",
     "output_type": "stream",
     "text": [
      "rgb2gray: 100%|██████████| 9469/9469 [00:01<00:00, 5772.01it/s] \n"
     ]
    },
    {
     "name": "stdout",
     "output_type": "stream",
     "text": [
      "Got the result from ./1/64/train/filtrations/4/HeightFiltrartion_1_1/gray/features.npy\n",
      "Got the result from ./1/64/train/filtrations/4/HeightFiltrartion_1_1/red/features.npy\n",
      "Got the result from ./1/64/train/filtrations/4/HeightFiltrartion_1_1/green/features.npy\n",
      "Got the result from ./1/64/train/filtrations/4/HeightFiltrartion_1_1/blue/features.npy\n",
      "Applying filtration 27/72: 4/HeightFiltrartion_1_-1\n",
      "RGB images received. Transforming to grayscale.\n"
     ]
    },
    {
     "name": "stderr",
     "output_type": "stream",
     "text": [
      "rgb2gray: 100%|██████████| 9469/9469 [00:01<00:00, 5626.53it/s]\n"
     ]
    },
    {
     "name": "stdout",
     "output_type": "stream",
     "text": [
      "Got the result from ./1/64/train/filtrations/4/HeightFiltrartion_1_-1/gray/features.npy\n",
      "Got the result from ./1/64/train/filtrations/4/HeightFiltrartion_1_-1/red/features.npy\n",
      "Got the result from ./1/64/train/filtrations/4/HeightFiltrartion_1_-1/green/features.npy\n",
      "Got the result from ./1/64/train/filtrations/4/HeightFiltrartion_1_-1/blue/features.npy\n",
      "Applying filtration 28/72: 4/HeightFiltrartion_-1_1\n",
      "RGB images received. Transforming to grayscale.\n"
     ]
    },
    {
     "name": "stderr",
     "output_type": "stream",
     "text": [
      "rgb2gray: 100%|██████████| 9469/9469 [00:01<00:00, 5455.91it/s]\n"
     ]
    },
    {
     "name": "stdout",
     "output_type": "stream",
     "text": [
      "Got the result from ./1/64/train/filtrations/4/HeightFiltrartion_-1_1/gray/features.npy\n",
      "Got the result from ./1/64/train/filtrations/4/HeightFiltrartion_-1_1/red/features.npy\n",
      "Got the result from ./1/64/train/filtrations/4/HeightFiltrartion_-1_1/green/features.npy\n",
      "Got the result from ./1/64/train/filtrations/4/HeightFiltrartion_-1_1/blue/features.npy\n",
      "Applying filtration 29/72: 4/HeightFiltrartion_0_-1\n",
      "RGB images received. Transforming to grayscale.\n"
     ]
    },
    {
     "name": "stderr",
     "output_type": "stream",
     "text": [
      "rgb2gray: 100%|██████████| 9469/9469 [00:01<00:00, 5264.76it/s]\n"
     ]
    },
    {
     "name": "stdout",
     "output_type": "stream",
     "text": [
      "Got the result from ./1/64/train/filtrations/4/HeightFiltrartion_0_-1/gray/features.npy\n",
      "Got the result from ./1/64/train/filtrations/4/HeightFiltrartion_0_-1/red/features.npy\n",
      "Got the result from ./1/64/train/filtrations/4/HeightFiltrartion_0_-1/green/features.npy\n",
      "Got the result from ./1/64/train/filtrations/4/HeightFiltrartion_0_-1/blue/features.npy\n",
      "Applying filtration 30/72: 4/HeightFiltrartion_0_1\n",
      "RGB images received. Transforming to grayscale.\n"
     ]
    },
    {
     "name": "stderr",
     "output_type": "stream",
     "text": [
      "rgb2gray: 100%|██████████| 9469/9469 [00:01<00:00, 5654.69it/s]\n"
     ]
    },
    {
     "name": "stdout",
     "output_type": "stream",
     "text": [
      "Got the result from ./1/64/train/filtrations/4/HeightFiltrartion_0_1/gray/features.npy\n",
      "Got the result from ./1/64/train/filtrations/4/HeightFiltrartion_0_1/red/features.npy\n",
      "Got the result from ./1/64/train/filtrations/4/HeightFiltrartion_0_1/green/features.npy\n",
      "Got the result from ./1/64/train/filtrations/4/HeightFiltrartion_0_1/blue/features.npy\n",
      "Applying filtration 31/72: 4/HeightFiltrartion_-1_0\n",
      "RGB images received. Transforming to grayscale.\n"
     ]
    },
    {
     "name": "stderr",
     "output_type": "stream",
     "text": [
      "rgb2gray: 100%|██████████| 9469/9469 [00:01<00:00, 5645.08it/s]\n"
     ]
    },
    {
     "name": "stdout",
     "output_type": "stream",
     "text": [
      "Got the result from ./1/64/train/filtrations/4/HeightFiltrartion_-1_0/gray/features.npy\n",
      "Got the result from ./1/64/train/filtrations/4/HeightFiltrartion_-1_0/red/features.npy\n",
      "Got the result from ./1/64/train/filtrations/4/HeightFiltrartion_-1_0/green/features.npy\n",
      "Got the result from ./1/64/train/filtrations/4/HeightFiltrartion_-1_0/blue/features.npy\n",
      "Applying filtration 32/72: 4/HeightFiltrartion_1_0\n",
      "RGB images received. Transforming to grayscale.\n"
     ]
    },
    {
     "name": "stderr",
     "output_type": "stream",
     "text": [
      "rgb2gray: 100%|██████████| 9469/9469 [00:01<00:00, 5529.33it/s]\n"
     ]
    },
    {
     "name": "stdout",
     "output_type": "stream",
     "text": [
      "Got the result from ./1/64/train/filtrations/4/HeightFiltrartion_1_0/gray/features.npy\n",
      "Got the result from ./1/64/train/filtrations/4/HeightFiltrartion_1_0/red/features.npy\n",
      "Got the result from ./1/64/train/filtrations/4/HeightFiltrartion_1_0/green/features.npy\n",
      "Got the result from ./1/64/train/filtrations/4/HeightFiltrartion_1_0/blue/features.npy\n",
      "Applying filtration 33/72: 4/RadialFiltration_12_12\n",
      "RGB images received. Transforming to grayscale.\n"
     ]
    },
    {
     "name": "stderr",
     "output_type": "stream",
     "text": [
      "rgb2gray: 100%|██████████| 9469/9469 [00:01<00:00, 5555.75it/s]\n"
     ]
    },
    {
     "name": "stdout",
     "output_type": "stream",
     "text": [
      "Got the result from ./1/64/train/filtrations/4/RadialFiltration_12_12/gray/features.npy\n",
      "Got the result from ./1/64/train/filtrations/4/RadialFiltration_12_12/red/features.npy\n",
      "Got the result from ./1/64/train/filtrations/4/RadialFiltration_12_12/green/features.npy\n",
      "Got the result from ./1/64/train/filtrations/4/RadialFiltration_12_12/blue/features.npy\n",
      "Applying filtration 34/72: 4/RadialFiltration_12_25\n",
      "RGB images received. Transforming to grayscale.\n"
     ]
    },
    {
     "name": "stderr",
     "output_type": "stream",
     "text": [
      "rgb2gray: 100%|██████████| 9469/9469 [00:01<00:00, 5379.45it/s]\n"
     ]
    },
    {
     "name": "stdout",
     "output_type": "stream",
     "text": [
      "Got the result from ./1/64/train/filtrations/4/RadialFiltration_12_25/gray/features.npy\n",
      "Got the result from ./1/64/train/filtrations/4/RadialFiltration_12_25/red/features.npy\n",
      "Got the result from ./1/64/train/filtrations/4/RadialFiltration_12_25/green/features.npy\n",
      "Got the result from ./1/64/train/filtrations/4/RadialFiltration_12_25/blue/features.npy\n",
      "Applying filtration 35/72: 4/RadialFiltration_12_38\n",
      "RGB images received. Transforming to grayscale.\n"
     ]
    },
    {
     "name": "stderr",
     "output_type": "stream",
     "text": [
      "rgb2gray: 100%|██████████| 9469/9469 [00:01<00:00, 5514.85it/s]\n"
     ]
    },
    {
     "name": "stdout",
     "output_type": "stream",
     "text": [
      "Got the result from ./1/64/train/filtrations/4/RadialFiltration_12_38/gray/features.npy\n",
      "Got the result from ./1/64/train/filtrations/4/RadialFiltration_12_38/red/features.npy\n",
      "Got the result from ./1/64/train/filtrations/4/RadialFiltration_12_38/green/features.npy\n",
      "Got the result from ./1/64/train/filtrations/4/RadialFiltration_12_38/blue/features.npy\n",
      "Applying filtration 36/72: 4/RadialFiltration_12_51\n",
      "RGB images received. Transforming to grayscale.\n"
     ]
    },
    {
     "name": "stderr",
     "output_type": "stream",
     "text": [
      "rgb2gray: 100%|██████████| 9469/9469 [00:01<00:00, 5633.03it/s]\n"
     ]
    },
    {
     "name": "stdout",
     "output_type": "stream",
     "text": [
      "Got the result from ./1/64/train/filtrations/4/RadialFiltration_12_51/gray/features.npy\n",
      "Got the result from ./1/64/train/filtrations/4/RadialFiltration_12_51/red/features.npy\n",
      "Got the result from ./1/64/train/filtrations/4/RadialFiltration_12_51/green/features.npy\n",
      "Got the result from ./1/64/train/filtrations/4/RadialFiltration_12_51/blue/features.npy\n",
      "Applying filtration 37/72: 4/RadialFiltration_25_12\n",
      "RGB images received. Transforming to grayscale.\n"
     ]
    },
    {
     "name": "stderr",
     "output_type": "stream",
     "text": [
      "rgb2gray: 100%|██████████| 9469/9469 [00:01<00:00, 5518.44it/s]\n"
     ]
    },
    {
     "name": "stdout",
     "output_type": "stream",
     "text": [
      "Got the result from ./1/64/train/filtrations/4/RadialFiltration_25_12/gray/features.npy\n",
      "Got the result from ./1/64/train/filtrations/4/RadialFiltration_25_12/red/features.npy\n",
      "Got the result from ./1/64/train/filtrations/4/RadialFiltration_25_12/green/features.npy\n",
      "Got the result from ./1/64/train/filtrations/4/RadialFiltration_25_12/blue/features.npy\n",
      "Applying filtration 38/72: 4/RadialFiltration_25_25\n",
      "RGB images received. Transforming to grayscale.\n"
     ]
    },
    {
     "name": "stderr",
     "output_type": "stream",
     "text": [
      "rgb2gray: 100%|██████████| 9469/9469 [00:01<00:00, 5366.26it/s]\n"
     ]
    },
    {
     "name": "stdout",
     "output_type": "stream",
     "text": [
      "Got the result from ./1/64/train/filtrations/4/RadialFiltration_25_25/gray/features.npy\n",
      "Got the result from ./1/64/train/filtrations/4/RadialFiltration_25_25/red/features.npy\n",
      "Got the result from ./1/64/train/filtrations/4/RadialFiltration_25_25/green/features.npy\n",
      "Got the result from ./1/64/train/filtrations/4/RadialFiltration_25_25/blue/features.npy\n",
      "Applying filtration 39/72: 4/RadialFiltration_25_38\n",
      "RGB images received. Transforming to grayscale.\n"
     ]
    },
    {
     "name": "stderr",
     "output_type": "stream",
     "text": [
      "rgb2gray: 100%|██████████| 9469/9469 [00:01<00:00, 5354.20it/s]\n"
     ]
    },
    {
     "name": "stdout",
     "output_type": "stream",
     "text": [
      "Got the result from ./1/64/train/filtrations/4/RadialFiltration_25_38/gray/features.npy\n",
      "Got the result from ./1/64/train/filtrations/4/RadialFiltration_25_38/red/features.npy\n",
      "Got the result from ./1/64/train/filtrations/4/RadialFiltration_25_38/green/features.npy\n",
      "Got the result from ./1/64/train/filtrations/4/RadialFiltration_25_38/blue/features.npy\n",
      "Applying filtration 40/72: 4/RadialFiltration_25_51\n",
      "RGB images received. Transforming to grayscale.\n"
     ]
    },
    {
     "name": "stderr",
     "output_type": "stream",
     "text": [
      "rgb2gray: 100%|██████████| 9469/9469 [00:02<00:00, 4673.54it/s]\n"
     ]
    },
    {
     "name": "stdout",
     "output_type": "stream",
     "text": [
      "Got the result from ./1/64/train/filtrations/4/RadialFiltration_25_51/gray/features.npy\n",
      "Got the result from ./1/64/train/filtrations/4/RadialFiltration_25_51/red/features.npy\n",
      "Got the result from ./1/64/train/filtrations/4/RadialFiltration_25_51/green/features.npy\n",
      "Got the result from ./1/64/train/filtrations/4/RadialFiltration_25_51/blue/features.npy\n",
      "Applying filtration 41/72: 4/RadialFiltration_38_12\n",
      "RGB images received. Transforming to grayscale.\n"
     ]
    },
    {
     "name": "stderr",
     "output_type": "stream",
     "text": [
      "rgb2gray: 100%|██████████| 9469/9469 [00:01<00:00, 5303.40it/s]\n"
     ]
    },
    {
     "name": "stdout",
     "output_type": "stream",
     "text": [
      "Got the result from ./1/64/train/filtrations/4/RadialFiltration_38_12/gray/features.npy\n",
      "Got the result from ./1/64/train/filtrations/4/RadialFiltration_38_12/red/features.npy\n",
      "Got the result from ./1/64/train/filtrations/4/RadialFiltration_38_12/green/features.npy\n",
      "Got the result from ./1/64/train/filtrations/4/RadialFiltration_38_12/blue/features.npy\n",
      "Applying filtration 42/72: 4/RadialFiltration_38_25\n",
      "RGB images received. Transforming to grayscale.\n"
     ]
    },
    {
     "name": "stderr",
     "output_type": "stream",
     "text": [
      "rgb2gray: 100%|██████████| 9469/9469 [00:01<00:00, 5505.24it/s]\n"
     ]
    },
    {
     "name": "stdout",
     "output_type": "stream",
     "text": [
      "Got the result from ./1/64/train/filtrations/4/RadialFiltration_38_25/gray/features.npy\n",
      "Got the result from ./1/64/train/filtrations/4/RadialFiltration_38_25/red/features.npy\n",
      "Got the result from ./1/64/train/filtrations/4/RadialFiltration_38_25/green/features.npy\n",
      "Got the result from ./1/64/train/filtrations/4/RadialFiltration_38_25/blue/features.npy\n",
      "Applying filtration 43/72: 4/RadialFiltration_38_38\n",
      "RGB images received. Transforming to grayscale.\n"
     ]
    },
    {
     "name": "stderr",
     "output_type": "stream",
     "text": [
      "rgb2gray: 100%|██████████| 9469/9469 [00:01<00:00, 5485.03it/s]\n"
     ]
    },
    {
     "name": "stdout",
     "output_type": "stream",
     "text": [
      "Got the result from ./1/64/train/filtrations/4/RadialFiltration_38_38/gray/features.npy\n",
      "Got the result from ./1/64/train/filtrations/4/RadialFiltration_38_38/red/features.npy\n",
      "Got the result from ./1/64/train/filtrations/4/RadialFiltration_38_38/green/features.npy\n",
      "Got the result from ./1/64/train/filtrations/4/RadialFiltration_38_38/blue/features.npy\n",
      "Applying filtration 44/72: 4/RadialFiltration_38_51\n",
      "RGB images received. Transforming to grayscale.\n"
     ]
    },
    {
     "name": "stderr",
     "output_type": "stream",
     "text": [
      "rgb2gray: 100%|██████████| 9469/9469 [00:01<00:00, 5307.73it/s]\n"
     ]
    },
    {
     "name": "stdout",
     "output_type": "stream",
     "text": [
      "Got the result from ./1/64/train/filtrations/4/RadialFiltration_38_51/gray/features.npy\n",
      "Got the result from ./1/64/train/filtrations/4/RadialFiltration_38_51/red/features.npy\n",
      "Got the result from ./1/64/train/filtrations/4/RadialFiltration_38_51/green/features.npy\n",
      "Got the result from ./1/64/train/filtrations/4/RadialFiltration_38_51/blue/features.npy\n",
      "Applying filtration 45/72: 4/RadialFiltration_51_12\n",
      "RGB images received. Transforming to grayscale.\n"
     ]
    },
    {
     "name": "stderr",
     "output_type": "stream",
     "text": [
      "rgb2gray: 100%|██████████| 9469/9469 [00:01<00:00, 5481.37it/s]\n"
     ]
    },
    {
     "name": "stdout",
     "output_type": "stream",
     "text": [
      "Got the result from ./1/64/train/filtrations/4/RadialFiltration_51_12/gray/features.npy\n",
      "Got the result from ./1/64/train/filtrations/4/RadialFiltration_51_12/red/features.npy\n",
      "Got the result from ./1/64/train/filtrations/4/RadialFiltration_51_12/green/features.npy\n",
      "Got the result from ./1/64/train/filtrations/4/RadialFiltration_51_12/blue/features.npy\n",
      "Applying filtration 46/72: 4/RadialFiltration_51_25\n",
      "RGB images received. Transforming to grayscale.\n"
     ]
    },
    {
     "name": "stderr",
     "output_type": "stream",
     "text": [
      "rgb2gray: 100%|██████████| 9469/9469 [00:01<00:00, 5553.20it/s]\n"
     ]
    },
    {
     "name": "stdout",
     "output_type": "stream",
     "text": [
      "Got the result from ./1/64/train/filtrations/4/RadialFiltration_51_25/gray/features.npy\n",
      "Got the result from ./1/64/train/filtrations/4/RadialFiltration_51_25/red/features.npy\n",
      "Got the result from ./1/64/train/filtrations/4/RadialFiltration_51_25/green/features.npy\n",
      "Got the result from ./1/64/train/filtrations/4/RadialFiltration_51_25/blue/features.npy\n",
      "Applying filtration 47/72: 4/RadialFiltration_51_38\n",
      "RGB images received. Transforming to grayscale.\n"
     ]
    },
    {
     "name": "stderr",
     "output_type": "stream",
     "text": [
      "rgb2gray: 100%|██████████| 9469/9469 [00:01<00:00, 5443.50it/s]\n"
     ]
    },
    {
     "name": "stdout",
     "output_type": "stream",
     "text": [
      "Got the result from ./1/64/train/filtrations/4/RadialFiltration_51_38/gray/features.npy\n",
      "Got the result from ./1/64/train/filtrations/4/RadialFiltration_51_38/red/features.npy\n",
      "Got the result from ./1/64/train/filtrations/4/RadialFiltration_51_38/green/features.npy\n",
      "Got the result from ./1/64/train/filtrations/4/RadialFiltration_51_38/blue/features.npy\n",
      "Applying filtration 48/72: 4/RadialFiltration_51_51\n",
      "RGB images received. Transforming to grayscale.\n"
     ]
    },
    {
     "name": "stderr",
     "output_type": "stream",
     "text": [
      "rgb2gray: 100%|██████████| 9469/9469 [00:01<00:00, 5312.06it/s]\n"
     ]
    },
    {
     "name": "stdout",
     "output_type": "stream",
     "text": [
      "Got the result from ./1/64/train/filtrations/4/RadialFiltration_51_51/gray/features.npy\n",
      "Got the result from ./1/64/train/filtrations/4/RadialFiltration_51_51/red/features.npy\n",
      "Got the result from ./1/64/train/filtrations/4/RadialFiltration_51_51/green/features.npy\n",
      "Got the result from ./1/64/train/filtrations/4/RadialFiltration_51_51/blue/features.npy\n",
      "Applying filtration 49/72: 6/HeightFiltrartion_-1_-1\n",
      "RGB images received. Transforming to grayscale.\n"
     ]
    },
    {
     "name": "stderr",
     "output_type": "stream",
     "text": [
      "rgb2gray: 100%|██████████| 9469/9469 [00:01<00:00, 5551.43it/s]\n"
     ]
    },
    {
     "name": "stdout",
     "output_type": "stream",
     "text": [
      "Got the result from ./1/64/train/filtrations/6/HeightFiltrartion_-1_-1/gray/features.npy\n",
      "Got the result from ./1/64/train/filtrations/6/HeightFiltrartion_-1_-1/red/features.npy\n",
      "Got the result from ./1/64/train/filtrations/6/HeightFiltrartion_-1_-1/green/features.npy\n",
      "Got the result from ./1/64/train/filtrations/6/HeightFiltrartion_-1_-1/blue/features.npy\n",
      "Applying filtration 50/72: 6/HeightFiltrartion_1_1\n",
      "RGB images received. Transforming to grayscale.\n"
     ]
    },
    {
     "name": "stderr",
     "output_type": "stream",
     "text": [
      "rgb2gray: 100%|██████████| 9469/9469 [00:01<00:00, 5292.90it/s]\n"
     ]
    },
    {
     "name": "stdout",
     "output_type": "stream",
     "text": [
      "Got the result from ./1/64/train/filtrations/6/HeightFiltrartion_1_1/gray/features.npy\n",
      "Got the result from ./1/64/train/filtrations/6/HeightFiltrartion_1_1/red/features.npy\n",
      "Got the result from ./1/64/train/filtrations/6/HeightFiltrartion_1_1/green/features.npy\n",
      "Got the result from ./1/64/train/filtrations/6/HeightFiltrartion_1_1/blue/features.npy\n",
      "Applying filtration 51/72: 6/HeightFiltrartion_1_-1\n",
      "RGB images received. Transforming to grayscale.\n"
     ]
    },
    {
     "name": "stderr",
     "output_type": "stream",
     "text": [
      "rgb2gray: 100%|██████████| 9469/9469 [00:01<00:00, 5389.28it/s]\n"
     ]
    },
    {
     "name": "stdout",
     "output_type": "stream",
     "text": [
      "Got the result from ./1/64/train/filtrations/6/HeightFiltrartion_1_-1/gray/features.npy\n",
      "Got the result from ./1/64/train/filtrations/6/HeightFiltrartion_1_-1/red/features.npy\n",
      "Got the result from ./1/64/train/filtrations/6/HeightFiltrartion_1_-1/green/features.npy\n",
      "Got the result from ./1/64/train/filtrations/6/HeightFiltrartion_1_-1/blue/features.npy\n",
      "Applying filtration 52/72: 6/HeightFiltrartion_-1_1\n",
      "RGB images received. Transforming to grayscale.\n"
     ]
    },
    {
     "name": "stderr",
     "output_type": "stream",
     "text": [
      "rgb2gray: 100%|██████████| 9469/9469 [00:01<00:00, 5546.41it/s]\n"
     ]
    },
    {
     "name": "stdout",
     "output_type": "stream",
     "text": [
      "Got the result from ./1/64/train/filtrations/6/HeightFiltrartion_-1_1/gray/features.npy\n",
      "Got the result from ./1/64/train/filtrations/6/HeightFiltrartion_-1_1/red/features.npy\n",
      "Got the result from ./1/64/train/filtrations/6/HeightFiltrartion_-1_1/green/features.npy\n",
      "Got the result from ./1/64/train/filtrations/6/HeightFiltrartion_-1_1/blue/features.npy\n",
      "Applying filtration 53/72: 6/HeightFiltrartion_0_-1\n",
      "RGB images received. Transforming to grayscale.\n"
     ]
    },
    {
     "name": "stderr",
     "output_type": "stream",
     "text": [
      "rgb2gray: 100%|██████████| 9469/9469 [00:01<00:00, 5462.32it/s]\n"
     ]
    },
    {
     "name": "stdout",
     "output_type": "stream",
     "text": [
      "Got the result from ./1/64/train/filtrations/6/HeightFiltrartion_0_-1/gray/features.npy\n",
      "Got the result from ./1/64/train/filtrations/6/HeightFiltrartion_0_-1/red/features.npy\n",
      "Got the result from ./1/64/train/filtrations/6/HeightFiltrartion_0_-1/green/features.npy\n",
      "Got the result from ./1/64/train/filtrations/6/HeightFiltrartion_0_-1/blue/features.npy\n",
      "Applying filtration 54/72: 6/HeightFiltrartion_0_1\n",
      "RGB images received. Transforming to grayscale.\n"
     ]
    },
    {
     "name": "stderr",
     "output_type": "stream",
     "text": [
      "rgb2gray: 100%|██████████| 9469/9469 [00:01<00:00, 5468.66it/s]\n"
     ]
    },
    {
     "name": "stdout",
     "output_type": "stream",
     "text": [
      "Got the result from ./1/64/train/filtrations/6/HeightFiltrartion_0_1/gray/features.npy\n",
      "Got the result from ./1/64/train/filtrations/6/HeightFiltrartion_0_1/red/features.npy\n",
      "Got the result from ./1/64/train/filtrations/6/HeightFiltrartion_0_1/green/features.npy\n",
      "Got the result from ./1/64/train/filtrations/6/HeightFiltrartion_0_1/blue/features.npy\n",
      "Applying filtration 55/72: 6/HeightFiltrartion_-1_0\n",
      "RGB images received. Transforming to grayscale.\n"
     ]
    },
    {
     "name": "stderr",
     "output_type": "stream",
     "text": [
      "rgb2gray: 100%|██████████| 9469/9469 [00:01<00:00, 5500.46it/s]\n"
     ]
    },
    {
     "name": "stdout",
     "output_type": "stream",
     "text": [
      "Got the result from ./1/64/train/filtrations/6/HeightFiltrartion_-1_0/gray/features.npy\n",
      "Got the result from ./1/64/train/filtrations/6/HeightFiltrartion_-1_0/red/features.npy\n",
      "Got the result from ./1/64/train/filtrations/6/HeightFiltrartion_-1_0/green/features.npy\n",
      "Got the result from ./1/64/train/filtrations/6/HeightFiltrartion_-1_0/blue/features.npy\n",
      "Applying filtration 56/72: 6/HeightFiltrartion_1_0\n",
      "RGB images received. Transforming to grayscale.\n"
     ]
    },
    {
     "name": "stderr",
     "output_type": "stream",
     "text": [
      "rgb2gray: 100%|██████████| 9469/9469 [00:01<00:00, 5535.94it/s]\n"
     ]
    },
    {
     "name": "stdout",
     "output_type": "stream",
     "text": [
      "Got the result from ./1/64/train/filtrations/6/HeightFiltrartion_1_0/gray/features.npy\n",
      "Got the result from ./1/64/train/filtrations/6/HeightFiltrartion_1_0/red/features.npy\n",
      "Got the result from ./1/64/train/filtrations/6/HeightFiltrartion_1_0/green/features.npy\n",
      "Got the result from ./1/64/train/filtrations/6/HeightFiltrartion_1_0/blue/features.npy\n",
      "Applying filtration 57/72: 6/RadialFiltration_12_12\n",
      "RGB images received. Transforming to grayscale.\n"
     ]
    },
    {
     "name": "stderr",
     "output_type": "stream",
     "text": [
      "rgb2gray: 100%|██████████| 9469/9469 [00:01<00:00, 5559.71it/s]\n"
     ]
    },
    {
     "name": "stdout",
     "output_type": "stream",
     "text": [
      "Got the result from ./1/64/train/filtrations/6/RadialFiltration_12_12/gray/features.npy\n",
      "Got the result from ./1/64/train/filtrations/6/RadialFiltration_12_12/red/features.npy\n",
      "Got the result from ./1/64/train/filtrations/6/RadialFiltration_12_12/green/features.npy\n",
      "Got the result from ./1/64/train/filtrations/6/RadialFiltration_12_12/blue/features.npy\n",
      "Applying filtration 58/72: 6/RadialFiltration_12_25\n",
      "RGB images received. Transforming to grayscale.\n"
     ]
    },
    {
     "name": "stderr",
     "output_type": "stream",
     "text": [
      "rgb2gray: 100%|██████████| 9469/9469 [00:01<00:00, 5666.80it/s]\n"
     ]
    },
    {
     "name": "stdout",
     "output_type": "stream",
     "text": [
      "Got the result from ./1/64/train/filtrations/6/RadialFiltration_12_25/gray/features.npy\n",
      "Got the result from ./1/64/train/filtrations/6/RadialFiltration_12_25/red/features.npy\n",
      "Got the result from ./1/64/train/filtrations/6/RadialFiltration_12_25/green/features.npy\n",
      "Got the result from ./1/64/train/filtrations/6/RadialFiltration_12_25/blue/features.npy\n",
      "Applying filtration 59/72: 6/RadialFiltration_12_38\n",
      "RGB images received. Transforming to grayscale.\n"
     ]
    },
    {
     "name": "stderr",
     "output_type": "stream",
     "text": [
      "rgb2gray: 100%|██████████| 9469/9469 [00:01<00:00, 5725.54it/s]\n"
     ]
    },
    {
     "name": "stdout",
     "output_type": "stream",
     "text": [
      "Got the result from ./1/64/train/filtrations/6/RadialFiltration_12_38/gray/features.npy\n",
      "Got the result from ./1/64/train/filtrations/6/RadialFiltration_12_38/red/features.npy\n",
      "Got the result from ./1/64/train/filtrations/6/RadialFiltration_12_38/green/features.npy\n",
      "Got the result from ./1/64/train/filtrations/6/RadialFiltration_12_38/blue/features.npy\n",
      "Applying filtration 60/72: 6/RadialFiltration_12_51\n",
      "RGB images received. Transforming to grayscale.\n"
     ]
    },
    {
     "name": "stderr",
     "output_type": "stream",
     "text": [
      "rgb2gray: 100%|██████████| 9469/9469 [00:01<00:00, 5342.15it/s]\n"
     ]
    },
    {
     "name": "stdout",
     "output_type": "stream",
     "text": [
      "Got the result from ./1/64/train/filtrations/6/RadialFiltration_12_51/gray/features.npy\n",
      "Got the result from ./1/64/train/filtrations/6/RadialFiltration_12_51/red/features.npy\n",
      "Got the result from ./1/64/train/filtrations/6/RadialFiltration_12_51/green/features.npy\n",
      "Got the result from ./1/64/train/filtrations/6/RadialFiltration_12_51/blue/features.npy\n",
      "Applying filtration 61/72: 6/RadialFiltration_25_12\n",
      "RGB images received. Transforming to grayscale.\n"
     ]
    },
    {
     "name": "stderr",
     "output_type": "stream",
     "text": [
      "rgb2gray: 100%|██████████| 9469/9469 [00:01<00:00, 5628.43it/s]\n"
     ]
    },
    {
     "name": "stdout",
     "output_type": "stream",
     "text": [
      "Got the result from ./1/64/train/filtrations/6/RadialFiltration_25_12/gray/features.npy\n",
      "Got the result from ./1/64/train/filtrations/6/RadialFiltration_25_12/red/features.npy\n",
      "Got the result from ./1/64/train/filtrations/6/RadialFiltration_25_12/green/features.npy\n",
      "Got the result from ./1/64/train/filtrations/6/RadialFiltration_25_12/blue/features.npy\n",
      "Applying filtration 62/72: 6/RadialFiltration_25_25\n",
      "RGB images received. Transforming to grayscale.\n"
     ]
    },
    {
     "name": "stderr",
     "output_type": "stream",
     "text": [
      "rgb2gray: 100%|██████████| 9469/9469 [00:01<00:00, 5639.92it/s]\n"
     ]
    },
    {
     "name": "stdout",
     "output_type": "stream",
     "text": [
      "Got the result from ./1/64/train/filtrations/6/RadialFiltration_25_25/gray/features.npy\n",
      "Got the result from ./1/64/train/filtrations/6/RadialFiltration_25_25/red/features.npy\n",
      "Got the result from ./1/64/train/filtrations/6/RadialFiltration_25_25/green/features.npy\n",
      "Got the result from ./1/64/train/filtrations/6/RadialFiltration_25_25/blue/features.npy\n",
      "Applying filtration 63/72: 6/RadialFiltration_25_38\n",
      "RGB images received. Transforming to grayscale.\n"
     ]
    },
    {
     "name": "stderr",
     "output_type": "stream",
     "text": [
      "rgb2gray: 100%|██████████| 9469/9469 [00:01<00:00, 5685.55it/s]\n"
     ]
    },
    {
     "name": "stdout",
     "output_type": "stream",
     "text": [
      "Got the result from ./1/64/train/filtrations/6/RadialFiltration_25_38/gray/features.npy\n",
      "Got the result from ./1/64/train/filtrations/6/RadialFiltration_25_38/red/features.npy\n",
      "Got the result from ./1/64/train/filtrations/6/RadialFiltration_25_38/green/features.npy\n",
      "Got the result from ./1/64/train/filtrations/6/RadialFiltration_25_38/blue/features.npy\n",
      "Applying filtration 64/72: 6/RadialFiltration_25_51\n",
      "RGB images received. Transforming to grayscale.\n"
     ]
    },
    {
     "name": "stderr",
     "output_type": "stream",
     "text": [
      "rgb2gray: 100%|██████████| 9469/9469 [00:01<00:00, 5567.30it/s]\n"
     ]
    },
    {
     "name": "stdout",
     "output_type": "stream",
     "text": [
      "Got the result from ./1/64/train/filtrations/6/RadialFiltration_25_51/gray/features.npy\n",
      "Got the result from ./1/64/train/filtrations/6/RadialFiltration_25_51/red/features.npy\n",
      "Got the result from ./1/64/train/filtrations/6/RadialFiltration_25_51/green/features.npy\n",
      "Got the result from ./1/64/train/filtrations/6/RadialFiltration_25_51/blue/features.npy\n",
      "Applying filtration 65/72: 6/RadialFiltration_38_12\n",
      "RGB images received. Transforming to grayscale.\n"
     ]
    },
    {
     "name": "stderr",
     "output_type": "stream",
     "text": [
      "rgb2gray: 100%|██████████| 9469/9469 [00:01<00:00, 5749.83it/s]\n"
     ]
    },
    {
     "name": "stdout",
     "output_type": "stream",
     "text": [
      "Got the result from ./1/64/train/filtrations/6/RadialFiltration_38_12/gray/features.npy\n",
      "Got the result from ./1/64/train/filtrations/6/RadialFiltration_38_12/red/features.npy\n",
      "Got the result from ./1/64/train/filtrations/6/RadialFiltration_38_12/green/features.npy\n",
      "Got the result from ./1/64/train/filtrations/6/RadialFiltration_38_12/blue/features.npy\n",
      "Applying filtration 66/72: 6/RadialFiltration_38_25\n",
      "RGB images received. Transforming to grayscale.\n"
     ]
    },
    {
     "name": "stderr",
     "output_type": "stream",
     "text": [
      "rgb2gray: 100%|██████████| 9469/9469 [00:01<00:00, 5506.81it/s]\n"
     ]
    },
    {
     "name": "stdout",
     "output_type": "stream",
     "text": [
      "Got the result from ./1/64/train/filtrations/6/RadialFiltration_38_25/gray/features.npy\n",
      "Got the result from ./1/64/train/filtrations/6/RadialFiltration_38_25/red/features.npy\n",
      "Got the result from ./1/64/train/filtrations/6/RadialFiltration_38_25/green/features.npy\n",
      "Got the result from ./1/64/train/filtrations/6/RadialFiltration_38_25/blue/features.npy\n",
      "Applying filtration 67/72: 6/RadialFiltration_38_38\n",
      "RGB images received. Transforming to grayscale.\n"
     ]
    },
    {
     "name": "stderr",
     "output_type": "stream",
     "text": [
      "rgb2gray: 100%|██████████| 9469/9469 [00:01<00:00, 5476.07it/s]\n"
     ]
    },
    {
     "name": "stdout",
     "output_type": "stream",
     "text": [
      "Got the result from ./1/64/train/filtrations/6/RadialFiltration_38_38/gray/features.npy\n",
      "Got the result from ./1/64/train/filtrations/6/RadialFiltration_38_38/red/features.npy\n",
      "Got the result from ./1/64/train/filtrations/6/RadialFiltration_38_38/green/features.npy\n",
      "Got the result from ./1/64/train/filtrations/6/RadialFiltration_38_38/blue/features.npy\n",
      "Applying filtration 68/72: 6/RadialFiltration_38_51\n",
      "RGB images received. Transforming to grayscale.\n"
     ]
    },
    {
     "name": "stderr",
     "output_type": "stream",
     "text": [
      "rgb2gray: 100%|██████████| 9469/9469 [00:01<00:00, 5565.06it/s]\n"
     ]
    },
    {
     "name": "stdout",
     "output_type": "stream",
     "text": [
      "Got the result from ./1/64/train/filtrations/6/RadialFiltration_38_51/gray/features.npy\n",
      "Got the result from ./1/64/train/filtrations/6/RadialFiltration_38_51/red/features.npy\n",
      "Got the result from ./1/64/train/filtrations/6/RadialFiltration_38_51/green/features.npy\n",
      "Got the result from ./1/64/train/filtrations/6/RadialFiltration_38_51/blue/features.npy\n",
      "Applying filtration 69/72: 6/RadialFiltration_51_12\n",
      "RGB images received. Transforming to grayscale.\n"
     ]
    },
    {
     "name": "stderr",
     "output_type": "stream",
     "text": [
      "rgb2gray: 100%|██████████| 9469/9469 [00:01<00:00, 5462.34it/s]\n"
     ]
    },
    {
     "name": "stdout",
     "output_type": "stream",
     "text": [
      "Got the result from ./1/64/train/filtrations/6/RadialFiltration_51_12/gray/features.npy\n",
      "Got the result from ./1/64/train/filtrations/6/RadialFiltration_51_12/red/features.npy\n",
      "Got the result from ./1/64/train/filtrations/6/RadialFiltration_51_12/green/features.npy\n",
      "Got the result from ./1/64/train/filtrations/6/RadialFiltration_51_12/blue/features.npy\n",
      "Applying filtration 70/72: 6/RadialFiltration_51_25\n",
      "RGB images received. Transforming to grayscale.\n"
     ]
    },
    {
     "name": "stderr",
     "output_type": "stream",
     "text": [
      "rgb2gray: 100%|██████████| 9469/9469 [00:01<00:00, 4978.44it/s]\n"
     ]
    },
    {
     "name": "stdout",
     "output_type": "stream",
     "text": [
      "Got the result from ./1/64/train/filtrations/6/RadialFiltration_51_25/gray/features.npy\n",
      "Got the result from ./1/64/train/filtrations/6/RadialFiltration_51_25/red/features.npy\n",
      "Got the result from ./1/64/train/filtrations/6/RadialFiltration_51_25/green/features.npy\n",
      "Got the result from ./1/64/train/filtrations/6/RadialFiltration_51_25/blue/features.npy\n",
      "Applying filtration 71/72: 6/RadialFiltration_51_38\n",
      "RGB images received. Transforming to grayscale.\n"
     ]
    },
    {
     "name": "stderr",
     "output_type": "stream",
     "text": [
      "rgb2gray: 100%|██████████| 9469/9469 [00:01<00:00, 5371.41it/s]\n"
     ]
    },
    {
     "name": "stdout",
     "output_type": "stream",
     "text": [
      "Got the result from ./1/64/train/filtrations/6/RadialFiltration_51_38/gray/features.npy\n",
      "Got the result from ./1/64/train/filtrations/6/RadialFiltration_51_38/red/features.npy\n",
      "Got the result from ./1/64/train/filtrations/6/RadialFiltration_51_38/green/features.npy\n",
      "Got the result from ./1/64/train/filtrations/6/RadialFiltration_51_38/blue/features.npy\n",
      "Applying filtration 72/72: 6/RadialFiltration_51_51\n",
      "RGB images received. Transforming to grayscale.\n"
     ]
    },
    {
     "name": "stderr",
     "output_type": "stream",
     "text": [
      "rgb2gray: 100%|██████████| 9469/9469 [00:01<00:00, 5561.84it/s]\n"
     ]
    },
    {
     "name": "stdout",
     "output_type": "stream",
     "text": [
      "Got the result from ./1/64/train/filtrations/6/RadialFiltration_51_51/gray/features.npy\n",
      "Got the result from ./1/64/train/filtrations/6/RadialFiltration_51_51/red/features.npy\n",
      "Got the result from ./1/64/train/filtrations/6/RadialFiltration_51_51/green/features.npy\n",
      "Got the result from ./1/64/train/filtrations/6/RadialFiltration_51_51/blue/features.npy\n",
      "RGB images received. Transforming to grayscale.\n",
      "Got the result from ./1/64/train/geometry/rgb/features.npy\n"
     ]
    },
    {
     "name": "stderr",
     "output_type": "stream",
     "text": [
      "rgb2gray: 100%|██████████| 9469/9469 [00:01<00:00, 5522.89it/s]\n"
     ]
    },
    {
     "name": "stdout",
     "output_type": "stream",
     "text": [
      "Got the result from ./1/64/train/geometry/gray/features.npy\n",
      "Got the result from ./1/64/train/geometry/red/features.npy\n",
      "Got the result from ./1/64/train/geometry/green/features.npy\n",
      "Got the result from ./1/64/train/geometry/blue/features.npy\n",
      "RGB images received. Transforming to grayscale.\n",
      "Got the result from ./1/64/train/geometry/rgb/features.npy\n"
     ]
    },
    {
     "name": "stderr",
     "output_type": "stream",
     "text": [
      "rgb2gray: 100%|██████████| 9469/9469 [00:01<00:00, 5527.56it/s]\n"
     ]
    },
    {
     "name": "stdout",
     "output_type": "stream",
     "text": [
      "Got the result from ./1/64/train/geometry/gray/features.npy\n",
      "Got the result from ./1/64/train/geometry/red/features.npy\n",
      "Got the result from ./1/64/train/geometry/green/features.npy\n",
      "Got the result from ./1/64/train/geometry/blue/features.npy\n",
      "Applying StandardScaler.\n",
      "Calculating inverted images\n",
      "RGB images received. Transforming to grayscale.\n"
     ]
    },
    {
     "name": "stderr",
     "output_type": "stream",
     "text": [
      "rgb2gray: 100%|██████████| 9469/9469 [00:01<00:00, 5692.19it/s]\n"
     ]
    },
    {
     "name": "stdout",
     "output_type": "stream",
     "text": [
      "Got the result from ./1/64/train/greyscale/gray/features.npy\n",
      "Got the result from ./1/64/train/greyscale/red/features.npy\n",
      "Got the result from ./1/64/train/greyscale/green/features.npy\n",
      "Got the result from ./1/64/train/greyscale/blue/features.npy\n",
      "RGB images received. Transforming to grayscale.\n"
     ]
    },
    {
     "name": "stderr",
     "output_type": "stream",
     "text": [
      "rgb2gray: 100%|██████████| 9469/9469 [00:01<00:00, 5542.15it/s]\n"
     ]
    },
    {
     "name": "stdout",
     "output_type": "stream",
     "text": [
      "Got the result from ./1/64/train/inverted_greyscale/gray/features.npy\n",
      "Got the result from ./1/64/train/inverted_greyscale/red/features.npy\n",
      "Got the result from ./1/64/train/inverted_greyscale/green/features.npy\n",
      "Got the result from ./1/64/train/inverted_greyscale/blue/features.npy\n",
      "Applying filtrations\n",
      "Applying filtration 1/72: 2/HeightFiltrartion_-1_-1\n",
      "RGB images received. Transforming to grayscale.\n"
     ]
    },
    {
     "name": "stderr",
     "output_type": "stream",
     "text": [
      "rgb2gray: 100%|██████████| 9469/9469 [00:01<00:00, 5532.54it/s]\n"
     ]
    },
    {
     "name": "stdout",
     "output_type": "stream",
     "text": [
      "Got the result from ./1/64/train/filtrations/2/HeightFiltrartion_-1_-1/gray/features.npy\n",
      "Got the result from ./1/64/train/filtrations/2/HeightFiltrartion_-1_-1/red/features.npy\n",
      "Got the result from ./1/64/train/filtrations/2/HeightFiltrartion_-1_-1/green/features.npy\n",
      "Got the result from ./1/64/train/filtrations/2/HeightFiltrartion_-1_-1/blue/features.npy\n",
      "Applying filtration 2/72: 2/HeightFiltrartion_1_1\n",
      "RGB images received. Transforming to grayscale.\n"
     ]
    },
    {
     "name": "stderr",
     "output_type": "stream",
     "text": [
      "rgb2gray: 100%|██████████| 9469/9469 [00:01<00:00, 5621.23it/s]\n"
     ]
    },
    {
     "name": "stdout",
     "output_type": "stream",
     "text": [
      "Got the result from ./1/64/train/filtrations/2/HeightFiltrartion_1_1/gray/features.npy\n",
      "Got the result from ./1/64/train/filtrations/2/HeightFiltrartion_1_1/red/features.npy\n",
      "Got the result from ./1/64/train/filtrations/2/HeightFiltrartion_1_1/green/features.npy\n",
      "Got the result from ./1/64/train/filtrations/2/HeightFiltrartion_1_1/blue/features.npy\n",
      "Applying filtration 3/72: 2/HeightFiltrartion_1_-1\n",
      "RGB images received. Transforming to grayscale.\n"
     ]
    },
    {
     "name": "stderr",
     "output_type": "stream",
     "text": [
      "rgb2gray: 100%|██████████| 9469/9469 [00:01<00:00, 5548.76it/s]\n"
     ]
    },
    {
     "name": "stdout",
     "output_type": "stream",
     "text": [
      "Got the result from ./1/64/train/filtrations/2/HeightFiltrartion_1_-1/gray/features.npy\n",
      "Got the result from ./1/64/train/filtrations/2/HeightFiltrartion_1_-1/red/features.npy\n",
      "Got the result from ./1/64/train/filtrations/2/HeightFiltrartion_1_-1/green/features.npy\n",
      "Got the result from ./1/64/train/filtrations/2/HeightFiltrartion_1_-1/blue/features.npy\n",
      "Applying filtration 4/72: 2/HeightFiltrartion_-1_1\n",
      "RGB images received. Transforming to grayscale.\n"
     ]
    },
    {
     "name": "stderr",
     "output_type": "stream",
     "text": [
      "rgb2gray: 100%|██████████| 9469/9469 [00:01<00:00, 5427.89it/s]\n"
     ]
    },
    {
     "name": "stdout",
     "output_type": "stream",
     "text": [
      "Got the result from ./1/64/train/filtrations/2/HeightFiltrartion_-1_1/gray/features.npy\n",
      "Got the result from ./1/64/train/filtrations/2/HeightFiltrartion_-1_1/red/features.npy\n",
      "Got the result from ./1/64/train/filtrations/2/HeightFiltrartion_-1_1/green/features.npy\n",
      "Got the result from ./1/64/train/filtrations/2/HeightFiltrartion_-1_1/blue/features.npy\n",
      "Applying filtration 5/72: 2/HeightFiltrartion_0_-1\n",
      "RGB images received. Transforming to grayscale.\n"
     ]
    },
    {
     "name": "stderr",
     "output_type": "stream",
     "text": [
      "rgb2gray: 100%|██████████| 9469/9469 [00:01<00:00, 5410.85it/s]\n"
     ]
    },
    {
     "name": "stdout",
     "output_type": "stream",
     "text": [
      "Got the result from ./1/64/train/filtrations/2/HeightFiltrartion_0_-1/gray/features.npy\n",
      "Got the result from ./1/64/train/filtrations/2/HeightFiltrartion_0_-1/red/features.npy\n",
      "Got the result from ./1/64/train/filtrations/2/HeightFiltrartion_0_-1/green/features.npy\n",
      "Got the result from ./1/64/train/filtrations/2/HeightFiltrartion_0_-1/blue/features.npy\n",
      "Applying filtration 6/72: 2/HeightFiltrartion_0_1\n",
      "RGB images received. Transforming to grayscale.\n"
     ]
    },
    {
     "name": "stderr",
     "output_type": "stream",
     "text": [
      "rgb2gray: 100%|██████████| 9469/9469 [00:01<00:00, 5278.15it/s]\n"
     ]
    },
    {
     "name": "stdout",
     "output_type": "stream",
     "text": [
      "Got the result from ./1/64/train/filtrations/2/HeightFiltrartion_0_1/gray/features.npy\n",
      "Got the result from ./1/64/train/filtrations/2/HeightFiltrartion_0_1/red/features.npy\n",
      "Got the result from ./1/64/train/filtrations/2/HeightFiltrartion_0_1/green/features.npy\n",
      "Got the result from ./1/64/train/filtrations/2/HeightFiltrartion_0_1/blue/features.npy\n",
      "Applying filtration 7/72: 2/HeightFiltrartion_-1_0\n",
      "RGB images received. Transforming to grayscale.\n"
     ]
    },
    {
     "name": "stderr",
     "output_type": "stream",
     "text": [
      "rgb2gray: 100%|██████████| 9469/9469 [00:01<00:00, 5304.76it/s]\n"
     ]
    },
    {
     "name": "stdout",
     "output_type": "stream",
     "text": [
      "Got the result from ./1/64/train/filtrations/2/HeightFiltrartion_-1_0/gray/features.npy\n",
      "Got the result from ./1/64/train/filtrations/2/HeightFiltrartion_-1_0/red/features.npy\n",
      "Got the result from ./1/64/train/filtrations/2/HeightFiltrartion_-1_0/green/features.npy\n",
      "Got the result from ./1/64/train/filtrations/2/HeightFiltrartion_-1_0/blue/features.npy\n",
      "Applying filtration 8/72: 2/HeightFiltrartion_1_0\n",
      "RGB images received. Transforming to grayscale.\n"
     ]
    },
    {
     "name": "stderr",
     "output_type": "stream",
     "text": [
      "rgb2gray: 100%|██████████| 9469/9469 [00:01<00:00, 5265.36it/s]\n"
     ]
    },
    {
     "name": "stdout",
     "output_type": "stream",
     "text": [
      "Got the result from ./1/64/train/filtrations/2/HeightFiltrartion_1_0/gray/features.npy\n",
      "Got the result from ./1/64/train/filtrations/2/HeightFiltrartion_1_0/red/features.npy\n",
      "Got the result from ./1/64/train/filtrations/2/HeightFiltrartion_1_0/green/features.npy\n",
      "Got the result from ./1/64/train/filtrations/2/HeightFiltrartion_1_0/blue/features.npy\n",
      "Applying filtration 9/72: 2/RadialFiltration_12_12\n",
      "RGB images received. Transforming to grayscale.\n"
     ]
    },
    {
     "name": "stderr",
     "output_type": "stream",
     "text": [
      "rgb2gray: 100%|██████████| 9469/9469 [00:01<00:00, 5096.60it/s]\n"
     ]
    },
    {
     "name": "stdout",
     "output_type": "stream",
     "text": [
      "Got the result from ./1/64/train/filtrations/2/RadialFiltration_12_12/gray/features.npy\n",
      "Got the result from ./1/64/train/filtrations/2/RadialFiltration_12_12/red/features.npy\n",
      "Got the result from ./1/64/train/filtrations/2/RadialFiltration_12_12/green/features.npy\n",
      "Got the result from ./1/64/train/filtrations/2/RadialFiltration_12_12/blue/features.npy\n",
      "Applying filtration 10/72: 2/RadialFiltration_12_25\n",
      "RGB images received. Transforming to grayscale.\n"
     ]
    },
    {
     "name": "stderr",
     "output_type": "stream",
     "text": [
      "rgb2gray: 100%|██████████| 9469/9469 [00:01<00:00, 5333.05it/s]\n"
     ]
    },
    {
     "name": "stdout",
     "output_type": "stream",
     "text": [
      "Got the result from ./1/64/train/filtrations/2/RadialFiltration_12_25/gray/features.npy\n",
      "Got the result from ./1/64/train/filtrations/2/RadialFiltration_12_25/red/features.npy\n",
      "Got the result from ./1/64/train/filtrations/2/RadialFiltration_12_25/green/features.npy\n",
      "Got the result from ./1/64/train/filtrations/2/RadialFiltration_12_25/blue/features.npy\n",
      "Applying filtration 11/72: 2/RadialFiltration_12_38\n",
      "RGB images received. Transforming to grayscale.\n"
     ]
    },
    {
     "name": "stderr",
     "output_type": "stream",
     "text": [
      "rgb2gray: 100%|██████████| 9469/9469 [00:01<00:00, 5552.40it/s]\n"
     ]
    },
    {
     "name": "stdout",
     "output_type": "stream",
     "text": [
      "Got the result from ./1/64/train/filtrations/2/RadialFiltration_12_38/gray/features.npy\n",
      "Got the result from ./1/64/train/filtrations/2/RadialFiltration_12_38/red/features.npy\n",
      "Got the result from ./1/64/train/filtrations/2/RadialFiltration_12_38/green/features.npy\n",
      "Got the result from ./1/64/train/filtrations/2/RadialFiltration_12_38/blue/features.npy\n",
      "Applying filtration 12/72: 2/RadialFiltration_12_51\n",
      "RGB images received. Transforming to grayscale.\n"
     ]
    },
    {
     "name": "stderr",
     "output_type": "stream",
     "text": [
      "rgb2gray: 100%|██████████| 9469/9469 [00:01<00:00, 5401.11it/s]\n"
     ]
    },
    {
     "name": "stdout",
     "output_type": "stream",
     "text": [
      "Got the result from ./1/64/train/filtrations/2/RadialFiltration_12_51/gray/features.npy\n",
      "Got the result from ./1/64/train/filtrations/2/RadialFiltration_12_51/red/features.npy\n",
      "Got the result from ./1/64/train/filtrations/2/RadialFiltration_12_51/green/features.npy\n",
      "Got the result from ./1/64/train/filtrations/2/RadialFiltration_12_51/blue/features.npy\n",
      "Applying filtration 13/72: 2/RadialFiltration_25_12\n",
      "RGB images received. Transforming to grayscale.\n"
     ]
    },
    {
     "name": "stderr",
     "output_type": "stream",
     "text": [
      "rgb2gray: 100%|██████████| 9469/9469 [00:01<00:00, 5351.20it/s]\n"
     ]
    },
    {
     "name": "stdout",
     "output_type": "stream",
     "text": [
      "Got the result from ./1/64/train/filtrations/2/RadialFiltration_25_12/gray/features.npy\n",
      "Got the result from ./1/64/train/filtrations/2/RadialFiltration_25_12/red/features.npy\n",
      "Got the result from ./1/64/train/filtrations/2/RadialFiltration_25_12/green/features.npy\n",
      "Got the result from ./1/64/train/filtrations/2/RadialFiltration_25_12/blue/features.npy\n",
      "Applying filtration 14/72: 2/RadialFiltration_25_25\n",
      "RGB images received. Transforming to grayscale.\n"
     ]
    },
    {
     "name": "stderr",
     "output_type": "stream",
     "text": [
      "rgb2gray: 100%|██████████| 9469/9469 [00:01<00:00, 5249.79it/s]\n"
     ]
    },
    {
     "name": "stdout",
     "output_type": "stream",
     "text": [
      "Got the result from ./1/64/train/filtrations/2/RadialFiltration_25_25/gray/features.npy\n",
      "Got the result from ./1/64/train/filtrations/2/RadialFiltration_25_25/red/features.npy\n",
      "Got the result from ./1/64/train/filtrations/2/RadialFiltration_25_25/green/features.npy\n",
      "Got the result from ./1/64/train/filtrations/2/RadialFiltration_25_25/blue/features.npy\n",
      "Applying filtration 15/72: 2/RadialFiltration_25_38\n",
      "RGB images received. Transforming to grayscale.\n"
     ]
    },
    {
     "name": "stderr",
     "output_type": "stream",
     "text": [
      "rgb2gray: 100%|██████████| 9469/9469 [00:01<00:00, 5364.53it/s]\n"
     ]
    },
    {
     "name": "stdout",
     "output_type": "stream",
     "text": [
      "Got the result from ./1/64/train/filtrations/2/RadialFiltration_25_38/gray/features.npy\n",
      "Got the result from ./1/64/train/filtrations/2/RadialFiltration_25_38/red/features.npy\n",
      "Got the result from ./1/64/train/filtrations/2/RadialFiltration_25_38/green/features.npy\n",
      "Got the result from ./1/64/train/filtrations/2/RadialFiltration_25_38/blue/features.npy\n",
      "Applying filtration 16/72: 2/RadialFiltration_25_51\n",
      "RGB images received. Transforming to grayscale.\n"
     ]
    },
    {
     "name": "stderr",
     "output_type": "stream",
     "text": [
      "rgb2gray: 100%|██████████| 9469/9469 [00:01<00:00, 5361.83it/s]\n"
     ]
    },
    {
     "name": "stdout",
     "output_type": "stream",
     "text": [
      "Got the result from ./1/64/train/filtrations/2/RadialFiltration_25_51/gray/features.npy\n",
      "Got the result from ./1/64/train/filtrations/2/RadialFiltration_25_51/red/features.npy\n",
      "Got the result from ./1/64/train/filtrations/2/RadialFiltration_25_51/green/features.npy\n",
      "Got the result from ./1/64/train/filtrations/2/RadialFiltration_25_51/blue/features.npy\n",
      "Applying filtration 17/72: 2/RadialFiltration_38_12\n",
      "RGB images received. Transforming to grayscale.\n"
     ]
    },
    {
     "name": "stderr",
     "output_type": "stream",
     "text": [
      "rgb2gray: 100%|██████████| 9469/9469 [00:01<00:00, 5482.86it/s]\n"
     ]
    },
    {
     "name": "stdout",
     "output_type": "stream",
     "text": [
      "Got the result from ./1/64/train/filtrations/2/RadialFiltration_38_12/gray/features.npy\n",
      "Got the result from ./1/64/train/filtrations/2/RadialFiltration_38_12/red/features.npy\n",
      "Got the result from ./1/64/train/filtrations/2/RadialFiltration_38_12/green/features.npy\n",
      "Got the result from ./1/64/train/filtrations/2/RadialFiltration_38_12/blue/features.npy\n",
      "Applying filtration 18/72: 2/RadialFiltration_38_25\n",
      "RGB images received. Transforming to grayscale.\n"
     ]
    },
    {
     "name": "stderr",
     "output_type": "stream",
     "text": [
      "rgb2gray: 100%|██████████| 9469/9469 [00:01<00:00, 5487.65it/s]\n"
     ]
    },
    {
     "name": "stdout",
     "output_type": "stream",
     "text": [
      "Got the result from ./1/64/train/filtrations/2/RadialFiltration_38_25/gray/features.npy\n",
      "Got the result from ./1/64/train/filtrations/2/RadialFiltration_38_25/red/features.npy\n",
      "Got the result from ./1/64/train/filtrations/2/RadialFiltration_38_25/green/features.npy\n",
      "Got the result from ./1/64/train/filtrations/2/RadialFiltration_38_25/blue/features.npy\n",
      "Applying filtration 19/72: 2/RadialFiltration_38_38\n",
      "RGB images received. Transforming to grayscale.\n"
     ]
    },
    {
     "name": "stderr",
     "output_type": "stream",
     "text": [
      "rgb2gray: 100%|██████████| 9469/9469 [00:01<00:00, 5140.05it/s]\n"
     ]
    },
    {
     "name": "stdout",
     "output_type": "stream",
     "text": [
      "Got the result from ./1/64/train/filtrations/2/RadialFiltration_38_38/gray/features.npy\n",
      "Got the result from ./1/64/train/filtrations/2/RadialFiltration_38_38/red/features.npy\n",
      "Got the result from ./1/64/train/filtrations/2/RadialFiltration_38_38/green/features.npy\n",
      "Got the result from ./1/64/train/filtrations/2/RadialFiltration_38_38/blue/features.npy\n",
      "Applying filtration 20/72: 2/RadialFiltration_38_51\n",
      "RGB images received. Transforming to grayscale.\n"
     ]
    },
    {
     "name": "stderr",
     "output_type": "stream",
     "text": [
      "rgb2gray: 100%|██████████| 9469/9469 [00:01<00:00, 5473.10it/s]\n"
     ]
    },
    {
     "name": "stdout",
     "output_type": "stream",
     "text": [
      "Got the result from ./1/64/train/filtrations/2/RadialFiltration_38_51/gray/features.npy\n",
      "Got the result from ./1/64/train/filtrations/2/RadialFiltration_38_51/red/features.npy\n",
      "Got the result from ./1/64/train/filtrations/2/RadialFiltration_38_51/green/features.npy\n",
      "Got the result from ./1/64/train/filtrations/2/RadialFiltration_38_51/blue/features.npy\n",
      "Applying filtration 21/72: 2/RadialFiltration_51_12\n",
      "RGB images received. Transforming to grayscale.\n"
     ]
    },
    {
     "name": "stderr",
     "output_type": "stream",
     "text": [
      "rgb2gray: 100%|██████████| 9469/9469 [00:01<00:00, 5522.85it/s]\n"
     ]
    },
    {
     "name": "stdout",
     "output_type": "stream",
     "text": [
      "Got the result from ./1/64/train/filtrations/2/RadialFiltration_51_12/gray/features.npy\n",
      "Got the result from ./1/64/train/filtrations/2/RadialFiltration_51_12/red/features.npy\n",
      "Got the result from ./1/64/train/filtrations/2/RadialFiltration_51_12/green/features.npy\n",
      "Got the result from ./1/64/train/filtrations/2/RadialFiltration_51_12/blue/features.npy\n",
      "Applying filtration 22/72: 2/RadialFiltration_51_25\n",
      "RGB images received. Transforming to grayscale.\n"
     ]
    },
    {
     "name": "stderr",
     "output_type": "stream",
     "text": [
      "rgb2gray: 100%|██████████| 9469/9469 [00:01<00:00, 5413.96it/s]\n"
     ]
    },
    {
     "name": "stdout",
     "output_type": "stream",
     "text": [
      "Got the result from ./1/64/train/filtrations/2/RadialFiltration_51_25/gray/features.npy\n",
      "Got the result from ./1/64/train/filtrations/2/RadialFiltration_51_25/red/features.npy\n",
      "Got the result from ./1/64/train/filtrations/2/RadialFiltration_51_25/green/features.npy\n",
      "Got the result from ./1/64/train/filtrations/2/RadialFiltration_51_25/blue/features.npy\n",
      "Applying filtration 23/72: 2/RadialFiltration_51_38\n",
      "RGB images received. Transforming to grayscale.\n"
     ]
    },
    {
     "name": "stderr",
     "output_type": "stream",
     "text": [
      "rgb2gray: 100%|██████████| 9469/9469 [00:01<00:00, 5463.92it/s] \n"
     ]
    },
    {
     "name": "stdout",
     "output_type": "stream",
     "text": [
      "Got the result from ./1/64/train/filtrations/2/RadialFiltration_51_38/gray/features.npy\n",
      "Got the result from ./1/64/train/filtrations/2/RadialFiltration_51_38/red/features.npy\n",
      "Got the result from ./1/64/train/filtrations/2/RadialFiltration_51_38/green/features.npy\n",
      "Got the result from ./1/64/train/filtrations/2/RadialFiltration_51_38/blue/features.npy\n",
      "Applying filtration 24/72: 2/RadialFiltration_51_51\n",
      "RGB images received. Transforming to grayscale.\n"
     ]
    },
    {
     "name": "stderr",
     "output_type": "stream",
     "text": [
      "rgb2gray: 100%|██████████| 9469/9469 [00:01<00:00, 5495.09it/s]\n"
     ]
    },
    {
     "name": "stdout",
     "output_type": "stream",
     "text": [
      "Got the result from ./1/64/train/filtrations/2/RadialFiltration_51_51/gray/features.npy\n",
      "Got the result from ./1/64/train/filtrations/2/RadialFiltration_51_51/red/features.npy\n",
      "Got the result from ./1/64/train/filtrations/2/RadialFiltration_51_51/green/features.npy\n",
      "Got the result from ./1/64/train/filtrations/2/RadialFiltration_51_51/blue/features.npy\n",
      "Applying filtration 25/72: 4/HeightFiltrartion_-1_-1\n",
      "RGB images received. Transforming to grayscale.\n"
     ]
    },
    {
     "name": "stderr",
     "output_type": "stream",
     "text": [
      "rgb2gray: 100%|██████████| 9469/9469 [00:02<00:00, 4612.45it/s]\n"
     ]
    },
    {
     "name": "stdout",
     "output_type": "stream",
     "text": [
      "Got the result from ./1/64/train/filtrations/4/HeightFiltrartion_-1_-1/gray/features.npy\n",
      "Got the result from ./1/64/train/filtrations/4/HeightFiltrartion_-1_-1/red/features.npy\n",
      "Got the result from ./1/64/train/filtrations/4/HeightFiltrartion_-1_-1/green/features.npy\n",
      "Got the result from ./1/64/train/filtrations/4/HeightFiltrartion_-1_-1/blue/features.npy\n",
      "Applying filtration 26/72: 4/HeightFiltrartion_1_1\n",
      "RGB images received. Transforming to grayscale.\n"
     ]
    },
    {
     "name": "stderr",
     "output_type": "stream",
     "text": [
      "rgb2gray: 100%|██████████| 9469/9469 [00:01<00:00, 5327.12it/s]\n"
     ]
    },
    {
     "name": "stdout",
     "output_type": "stream",
     "text": [
      "Got the result from ./1/64/train/filtrations/4/HeightFiltrartion_1_1/gray/features.npy\n",
      "Got the result from ./1/64/train/filtrations/4/HeightFiltrartion_1_1/red/features.npy\n",
      "Got the result from ./1/64/train/filtrations/4/HeightFiltrartion_1_1/green/features.npy\n",
      "Got the result from ./1/64/train/filtrations/4/HeightFiltrartion_1_1/blue/features.npy\n",
      "Applying filtration 27/72: 4/HeightFiltrartion_1_-1\n",
      "RGB images received. Transforming to grayscale.\n"
     ]
    },
    {
     "name": "stderr",
     "output_type": "stream",
     "text": [
      "rgb2gray: 100%|██████████| 9469/9469 [00:01<00:00, 5291.40it/s]\n"
     ]
    },
    {
     "name": "stdout",
     "output_type": "stream",
     "text": [
      "Got the result from ./1/64/train/filtrations/4/HeightFiltrartion_1_-1/gray/features.npy\n",
      "Got the result from ./1/64/train/filtrations/4/HeightFiltrartion_1_-1/red/features.npy\n",
      "Got the result from ./1/64/train/filtrations/4/HeightFiltrartion_1_-1/green/features.npy\n",
      "Got the result from ./1/64/train/filtrations/4/HeightFiltrartion_1_-1/blue/features.npy\n",
      "Applying filtration 28/72: 4/HeightFiltrartion_-1_1\n",
      "RGB images received. Transforming to grayscale.\n"
     ]
    },
    {
     "name": "stderr",
     "output_type": "stream",
     "text": [
      "rgb2gray: 100%|██████████| 9469/9469 [00:01<00:00, 5553.54it/s]\n"
     ]
    },
    {
     "name": "stdout",
     "output_type": "stream",
     "text": [
      "Got the result from ./1/64/train/filtrations/4/HeightFiltrartion_-1_1/gray/features.npy\n",
      "Got the result from ./1/64/train/filtrations/4/HeightFiltrartion_-1_1/red/features.npy\n",
      "Got the result from ./1/64/train/filtrations/4/HeightFiltrartion_-1_1/green/features.npy\n",
      "Got the result from ./1/64/train/filtrations/4/HeightFiltrartion_-1_1/blue/features.npy\n",
      "Applying filtration 29/72: 4/HeightFiltrartion_0_-1\n",
      "RGB images received. Transforming to grayscale.\n"
     ]
    },
    {
     "name": "stderr",
     "output_type": "stream",
     "text": [
      "rgb2gray: 100%|██████████| 9469/9469 [00:01<00:00, 5131.57it/s]\n"
     ]
    },
    {
     "name": "stdout",
     "output_type": "stream",
     "text": [
      "Got the result from ./1/64/train/filtrations/4/HeightFiltrartion_0_-1/gray/features.npy\n",
      "Got the result from ./1/64/train/filtrations/4/HeightFiltrartion_0_-1/red/features.npy\n",
      "Got the result from ./1/64/train/filtrations/4/HeightFiltrartion_0_-1/green/features.npy\n",
      "Got the result from ./1/64/train/filtrations/4/HeightFiltrartion_0_-1/blue/features.npy\n",
      "Applying filtration 30/72: 4/HeightFiltrartion_0_1\n",
      "RGB images received. Transforming to grayscale.\n"
     ]
    },
    {
     "name": "stderr",
     "output_type": "stream",
     "text": [
      "rgb2gray: 100%|██████████| 9469/9469 [00:01<00:00, 5477.79it/s]\n"
     ]
    },
    {
     "name": "stdout",
     "output_type": "stream",
     "text": [
      "Got the result from ./1/64/train/filtrations/4/HeightFiltrartion_0_1/gray/features.npy\n",
      "Got the result from ./1/64/train/filtrations/4/HeightFiltrartion_0_1/red/features.npy\n",
      "Got the result from ./1/64/train/filtrations/4/HeightFiltrartion_0_1/green/features.npy\n",
      "Got the result from ./1/64/train/filtrations/4/HeightFiltrartion_0_1/blue/features.npy\n",
      "Applying filtration 31/72: 4/HeightFiltrartion_-1_0\n",
      "RGB images received. Transforming to grayscale.\n"
     ]
    },
    {
     "name": "stderr",
     "output_type": "stream",
     "text": [
      "rgb2gray: 100%|██████████| 9469/9469 [00:01<00:00, 5464.26it/s]\n"
     ]
    },
    {
     "name": "stdout",
     "output_type": "stream",
     "text": [
      "Got the result from ./1/64/train/filtrations/4/HeightFiltrartion_-1_0/gray/features.npy\n",
      "Got the result from ./1/64/train/filtrations/4/HeightFiltrartion_-1_0/red/features.npy\n",
      "Got the result from ./1/64/train/filtrations/4/HeightFiltrartion_-1_0/green/features.npy\n",
      "Got the result from ./1/64/train/filtrations/4/HeightFiltrartion_-1_0/blue/features.npy\n",
      "Applying filtration 32/72: 4/HeightFiltrartion_1_0\n",
      "RGB images received. Transforming to grayscale.\n"
     ]
    },
    {
     "name": "stderr",
     "output_type": "stream",
     "text": [
      "rgb2gray: 100%|██████████| 9469/9469 [00:01<00:00, 4897.66it/s]\n"
     ]
    },
    {
     "name": "stdout",
     "output_type": "stream",
     "text": [
      "Got the result from ./1/64/train/filtrations/4/HeightFiltrartion_1_0/gray/features.npy\n",
      "Got the result from ./1/64/train/filtrations/4/HeightFiltrartion_1_0/red/features.npy\n",
      "Got the result from ./1/64/train/filtrations/4/HeightFiltrartion_1_0/green/features.npy\n",
      "Got the result from ./1/64/train/filtrations/4/HeightFiltrartion_1_0/blue/features.npy\n",
      "Applying filtration 33/72: 4/RadialFiltration_12_12\n",
      "RGB images received. Transforming to grayscale.\n"
     ]
    },
    {
     "name": "stderr",
     "output_type": "stream",
     "text": [
      "rgb2gray: 100%|██████████| 9469/9469 [00:01<00:00, 5327.12it/s]\n"
     ]
    },
    {
     "name": "stdout",
     "output_type": "stream",
     "text": [
      "Got the result from ./1/64/train/filtrations/4/RadialFiltration_12_12/gray/features.npy\n",
      "Got the result from ./1/64/train/filtrations/4/RadialFiltration_12_12/red/features.npy\n",
      "Got the result from ./1/64/train/filtrations/4/RadialFiltration_12_12/green/features.npy\n",
      "Got the result from ./1/64/train/filtrations/4/RadialFiltration_12_12/blue/features.npy\n",
      "Applying filtration 34/72: 4/RadialFiltration_12_25\n",
      "RGB images received. Transforming to grayscale.\n"
     ]
    },
    {
     "name": "stderr",
     "output_type": "stream",
     "text": [
      "rgb2gray: 100%|██████████| 9469/9469 [00:01<00:00, 5398.61it/s]\n"
     ]
    },
    {
     "name": "stdout",
     "output_type": "stream",
     "text": [
      "Got the result from ./1/64/train/filtrations/4/RadialFiltration_12_25/gray/features.npy\n",
      "Got the result from ./1/64/train/filtrations/4/RadialFiltration_12_25/red/features.npy\n",
      "Got the result from ./1/64/train/filtrations/4/RadialFiltration_12_25/green/features.npy\n",
      "Got the result from ./1/64/train/filtrations/4/RadialFiltration_12_25/blue/features.npy\n",
      "Applying filtration 35/72: 4/RadialFiltration_12_38\n",
      "RGB images received. Transforming to grayscale.\n"
     ]
    },
    {
     "name": "stderr",
     "output_type": "stream",
     "text": [
      "rgb2gray: 100%|██████████| 9469/9469 [00:01<00:00, 5410.29it/s]\n"
     ]
    },
    {
     "name": "stdout",
     "output_type": "stream",
     "text": [
      "Got the result from ./1/64/train/filtrations/4/RadialFiltration_12_38/gray/features.npy\n",
      "Got the result from ./1/64/train/filtrations/4/RadialFiltration_12_38/red/features.npy\n",
      "Got the result from ./1/64/train/filtrations/4/RadialFiltration_12_38/green/features.npy\n",
      "Got the result from ./1/64/train/filtrations/4/RadialFiltration_12_38/blue/features.npy\n",
      "Applying filtration 36/72: 4/RadialFiltration_12_51\n",
      "RGB images received. Transforming to grayscale.\n"
     ]
    },
    {
     "name": "stderr",
     "output_type": "stream",
     "text": [
      "rgb2gray: 100%|██████████| 9469/9469 [00:01<00:00, 5441.95it/s]\n"
     ]
    },
    {
     "name": "stdout",
     "output_type": "stream",
     "text": [
      "Got the result from ./1/64/train/filtrations/4/RadialFiltration_12_51/gray/features.npy\n",
      "Got the result from ./1/64/train/filtrations/4/RadialFiltration_12_51/red/features.npy\n",
      "Got the result from ./1/64/train/filtrations/4/RadialFiltration_12_51/green/features.npy\n",
      "Got the result from ./1/64/train/filtrations/4/RadialFiltration_12_51/blue/features.npy\n",
      "Applying filtration 37/72: 4/RadialFiltration_25_12\n",
      "RGB images received. Transforming to grayscale.\n"
     ]
    },
    {
     "name": "stderr",
     "output_type": "stream",
     "text": [
      "rgb2gray: 100%|██████████| 9469/9469 [00:01<00:00, 5063.63it/s]\n"
     ]
    },
    {
     "name": "stdout",
     "output_type": "stream",
     "text": [
      "Got the result from ./1/64/train/filtrations/4/RadialFiltration_25_12/gray/features.npy\n",
      "Got the result from ./1/64/train/filtrations/4/RadialFiltration_25_12/red/features.npy\n",
      "Got the result from ./1/64/train/filtrations/4/RadialFiltration_25_12/green/features.npy\n",
      "Got the result from ./1/64/train/filtrations/4/RadialFiltration_25_12/blue/features.npy\n",
      "Applying filtration 38/72: 4/RadialFiltration_25_25\n",
      "RGB images received. Transforming to grayscale.\n"
     ]
    },
    {
     "name": "stderr",
     "output_type": "stream",
     "text": [
      "rgb2gray: 100%|██████████| 9469/9469 [00:01<00:00, 5337.66it/s]\n"
     ]
    },
    {
     "name": "stdout",
     "output_type": "stream",
     "text": [
      "Got the result from ./1/64/train/filtrations/4/RadialFiltration_25_25/gray/features.npy\n",
      "Got the result from ./1/64/train/filtrations/4/RadialFiltration_25_25/red/features.npy\n",
      "Got the result from ./1/64/train/filtrations/4/RadialFiltration_25_25/green/features.npy\n",
      "Got the result from ./1/64/train/filtrations/4/RadialFiltration_25_25/blue/features.npy\n",
      "Applying filtration 39/72: 4/RadialFiltration_25_38\n",
      "RGB images received. Transforming to grayscale.\n"
     ]
    },
    {
     "name": "stderr",
     "output_type": "stream",
     "text": [
      "rgb2gray: 100%|██████████| 9469/9469 [00:01<00:00, 5346.70it/s]\n"
     ]
    },
    {
     "name": "stdout",
     "output_type": "stream",
     "text": [
      "Got the result from ./1/64/train/filtrations/4/RadialFiltration_25_38/gray/features.npy\n",
      "Got the result from ./1/64/train/filtrations/4/RadialFiltration_25_38/red/features.npy\n",
      "Got the result from ./1/64/train/filtrations/4/RadialFiltration_25_38/green/features.npy\n",
      "Got the result from ./1/64/train/filtrations/4/RadialFiltration_25_38/blue/features.npy\n",
      "Applying filtration 40/72: 4/RadialFiltration_25_51\n",
      "RGB images received. Transforming to grayscale.\n"
     ]
    },
    {
     "name": "stderr",
     "output_type": "stream",
     "text": [
      "rgb2gray: 100%|██████████| 9469/9469 [00:01<00:00, 5192.73it/s]\n"
     ]
    },
    {
     "name": "stdout",
     "output_type": "stream",
     "text": [
      "Got the result from ./1/64/train/filtrations/4/RadialFiltration_25_51/gray/features.npy\n",
      "Got the result from ./1/64/train/filtrations/4/RadialFiltration_25_51/red/features.npy\n",
      "Got the result from ./1/64/train/filtrations/4/RadialFiltration_25_51/green/features.npy\n",
      "Got the result from ./1/64/train/filtrations/4/RadialFiltration_25_51/blue/features.npy\n",
      "Applying filtration 41/72: 4/RadialFiltration_38_12\n",
      "RGB images received. Transforming to grayscale.\n"
     ]
    },
    {
     "name": "stderr",
     "output_type": "stream",
     "text": [
      "rgb2gray: 100%|██████████| 9469/9469 [00:01<00:00, 5525.57it/s]\n"
     ]
    },
    {
     "name": "stdout",
     "output_type": "stream",
     "text": [
      "Got the result from ./1/64/train/filtrations/4/RadialFiltration_38_12/gray/features.npy\n",
      "Got the result from ./1/64/train/filtrations/4/RadialFiltration_38_12/red/features.npy\n",
      "Got the result from ./1/64/train/filtrations/4/RadialFiltration_38_12/green/features.npy\n",
      "Got the result from ./1/64/train/filtrations/4/RadialFiltration_38_12/blue/features.npy\n",
      "Applying filtration 42/72: 4/RadialFiltration_38_25\n",
      "RGB images received. Transforming to grayscale.\n"
     ]
    },
    {
     "name": "stderr",
     "output_type": "stream",
     "text": [
      "rgb2gray: 100%|██████████| 9469/9469 [00:01<00:00, 5345.90it/s]\n"
     ]
    },
    {
     "name": "stdout",
     "output_type": "stream",
     "text": [
      "Got the result from ./1/64/train/filtrations/4/RadialFiltration_38_25/gray/features.npy\n",
      "Got the result from ./1/64/train/filtrations/4/RadialFiltration_38_25/red/features.npy\n",
      "Got the result from ./1/64/train/filtrations/4/RadialFiltration_38_25/green/features.npy\n",
      "Got the result from ./1/64/train/filtrations/4/RadialFiltration_38_25/blue/features.npy\n",
      "Applying filtration 43/72: 4/RadialFiltration_38_38\n",
      "RGB images received. Transforming to grayscale.\n"
     ]
    },
    {
     "name": "stderr",
     "output_type": "stream",
     "text": [
      "rgb2gray: 100%|██████████| 9469/9469 [00:01<00:00, 5372.45it/s]\n"
     ]
    },
    {
     "name": "stdout",
     "output_type": "stream",
     "text": [
      "Got the result from ./1/64/train/filtrations/4/RadialFiltration_38_38/gray/features.npy\n",
      "Got the result from ./1/64/train/filtrations/4/RadialFiltration_38_38/red/features.npy\n",
      "Got the result from ./1/64/train/filtrations/4/RadialFiltration_38_38/green/features.npy\n",
      "Got the result from ./1/64/train/filtrations/4/RadialFiltration_38_38/blue/features.npy\n",
      "Applying filtration 44/72: 4/RadialFiltration_38_51\n",
      "RGB images received. Transforming to grayscale.\n"
     ]
    },
    {
     "name": "stderr",
     "output_type": "stream",
     "text": [
      "rgb2gray: 100%|██████████| 9469/9469 [00:01<00:00, 5470.36it/s]\n"
     ]
    },
    {
     "name": "stdout",
     "output_type": "stream",
     "text": [
      "Got the result from ./1/64/train/filtrations/4/RadialFiltration_38_51/gray/features.npy\n",
      "Got the result from ./1/64/train/filtrations/4/RadialFiltration_38_51/red/features.npy\n",
      "Got the result from ./1/64/train/filtrations/4/RadialFiltration_38_51/green/features.npy\n",
      "Got the result from ./1/64/train/filtrations/4/RadialFiltration_38_51/blue/features.npy\n",
      "Applying filtration 45/72: 4/RadialFiltration_51_12\n",
      "RGB images received. Transforming to grayscale.\n"
     ]
    },
    {
     "name": "stderr",
     "output_type": "stream",
     "text": [
      "rgb2gray: 100%|██████████| 9469/9469 [00:01<00:00, 5071.78it/s]\n"
     ]
    },
    {
     "name": "stdout",
     "output_type": "stream",
     "text": [
      "Got the result from ./1/64/train/filtrations/4/RadialFiltration_51_12/gray/features.npy\n",
      "Got the result from ./1/64/train/filtrations/4/RadialFiltration_51_12/red/features.npy\n",
      "Got the result from ./1/64/train/filtrations/4/RadialFiltration_51_12/green/features.npy\n",
      "Got the result from ./1/64/train/filtrations/4/RadialFiltration_51_12/blue/features.npy\n",
      "Applying filtration 46/72: 4/RadialFiltration_51_25\n",
      "RGB images received. Transforming to grayscale.\n"
     ]
    },
    {
     "name": "stderr",
     "output_type": "stream",
     "text": [
      "rgb2gray: 100%|██████████| 9469/9469 [00:01<00:00, 5331.76it/s]\n"
     ]
    },
    {
     "name": "stdout",
     "output_type": "stream",
     "text": [
      "Got the result from ./1/64/train/filtrations/4/RadialFiltration_51_25/gray/features.npy\n",
      "Got the result from ./1/64/train/filtrations/4/RadialFiltration_51_25/red/features.npy\n",
      "Got the result from ./1/64/train/filtrations/4/RadialFiltration_51_25/green/features.npy\n",
      "Got the result from ./1/64/train/filtrations/4/RadialFiltration_51_25/blue/features.npy\n",
      "Applying filtration 47/72: 4/RadialFiltration_51_38\n",
      "RGB images received. Transforming to grayscale.\n"
     ]
    },
    {
     "name": "stderr",
     "output_type": "stream",
     "text": [
      "rgb2gray: 100%|██████████| 9469/9469 [00:01<00:00, 5279.45it/s]\n"
     ]
    },
    {
     "name": "stdout",
     "output_type": "stream",
     "text": [
      "Got the result from ./1/64/train/filtrations/4/RadialFiltration_51_38/gray/features.npy\n",
      "Got the result from ./1/64/train/filtrations/4/RadialFiltration_51_38/red/features.npy\n",
      "Got the result from ./1/64/train/filtrations/4/RadialFiltration_51_38/green/features.npy\n",
      "Got the result from ./1/64/train/filtrations/4/RadialFiltration_51_38/blue/features.npy\n",
      "Applying filtration 48/72: 4/RadialFiltration_51_51\n",
      "RGB images received. Transforming to grayscale.\n"
     ]
    },
    {
     "name": "stderr",
     "output_type": "stream",
     "text": [
      "rgb2gray: 100%|██████████| 9469/9469 [00:01<00:00, 5030.12it/s]\n"
     ]
    },
    {
     "name": "stdout",
     "output_type": "stream",
     "text": [
      "Got the result from ./1/64/train/filtrations/4/RadialFiltration_51_51/gray/features.npy\n",
      "Got the result from ./1/64/train/filtrations/4/RadialFiltration_51_51/red/features.npy\n",
      "Got the result from ./1/64/train/filtrations/4/RadialFiltration_51_51/green/features.npy\n",
      "Got the result from ./1/64/train/filtrations/4/RadialFiltration_51_51/blue/features.npy\n",
      "Applying filtration 49/72: 6/HeightFiltrartion_-1_-1\n",
      "RGB images received. Transforming to grayscale.\n"
     ]
    },
    {
     "name": "stderr",
     "output_type": "stream",
     "text": [
      "rgb2gray: 100%|██████████| 9469/9469 [00:01<00:00, 5339.20it/s]\n"
     ]
    },
    {
     "name": "stdout",
     "output_type": "stream",
     "text": [
      "Got the result from ./1/64/train/filtrations/6/HeightFiltrartion_-1_-1/gray/features.npy\n",
      "Got the result from ./1/64/train/filtrations/6/HeightFiltrartion_-1_-1/red/features.npy\n",
      "Got the result from ./1/64/train/filtrations/6/HeightFiltrartion_-1_-1/green/features.npy\n",
      "Got the result from ./1/64/train/filtrations/6/HeightFiltrartion_-1_-1/blue/features.npy\n",
      "Applying filtration 50/72: 6/HeightFiltrartion_1_1\n",
      "RGB images received. Transforming to grayscale.\n"
     ]
    },
    {
     "name": "stderr",
     "output_type": "stream",
     "text": [
      "rgb2gray: 100%|██████████| 9469/9469 [00:01<00:00, 5153.40it/s]\n"
     ]
    },
    {
     "name": "stdout",
     "output_type": "stream",
     "text": [
      "Got the result from ./1/64/train/filtrations/6/HeightFiltrartion_1_1/gray/features.npy\n",
      "Got the result from ./1/64/train/filtrations/6/HeightFiltrartion_1_1/red/features.npy\n",
      "Got the result from ./1/64/train/filtrations/6/HeightFiltrartion_1_1/green/features.npy\n",
      "Got the result from ./1/64/train/filtrations/6/HeightFiltrartion_1_1/blue/features.npy\n",
      "Applying filtration 51/72: 6/HeightFiltrartion_1_-1\n",
      "RGB images received. Transforming to grayscale.\n"
     ]
    },
    {
     "name": "stderr",
     "output_type": "stream",
     "text": [
      "rgb2gray: 100%|██████████| 9469/9469 [00:01<00:00, 5474.10it/s]\n"
     ]
    },
    {
     "name": "stdout",
     "output_type": "stream",
     "text": [
      "Got the result from ./1/64/train/filtrations/6/HeightFiltrartion_1_-1/gray/features.npy\n",
      "Got the result from ./1/64/train/filtrations/6/HeightFiltrartion_1_-1/red/features.npy\n",
      "Got the result from ./1/64/train/filtrations/6/HeightFiltrartion_1_-1/green/features.npy\n",
      "Got the result from ./1/64/train/filtrations/6/HeightFiltrartion_1_-1/blue/features.npy\n",
      "Applying filtration 52/72: 6/HeightFiltrartion_-1_1\n",
      "RGB images received. Transforming to grayscale.\n"
     ]
    },
    {
     "name": "stderr",
     "output_type": "stream",
     "text": [
      "rgb2gray: 100%|██████████| 9469/9469 [00:01<00:00, 5164.43it/s]\n"
     ]
    },
    {
     "name": "stdout",
     "output_type": "stream",
     "text": [
      "Got the result from ./1/64/train/filtrations/6/HeightFiltrartion_-1_1/gray/features.npy\n",
      "Got the result from ./1/64/train/filtrations/6/HeightFiltrartion_-1_1/red/features.npy\n",
      "Got the result from ./1/64/train/filtrations/6/HeightFiltrartion_-1_1/green/features.npy\n",
      "Got the result from ./1/64/train/filtrations/6/HeightFiltrartion_-1_1/blue/features.npy\n",
      "Applying filtration 53/72: 6/HeightFiltrartion_0_-1\n",
      "RGB images received. Transforming to grayscale.\n"
     ]
    },
    {
     "name": "stderr",
     "output_type": "stream",
     "text": [
      "rgb2gray: 100%|██████████| 9469/9469 [00:01<00:00, 5383.17it/s]\n"
     ]
    },
    {
     "name": "stdout",
     "output_type": "stream",
     "text": [
      "Got the result from ./1/64/train/filtrations/6/HeightFiltrartion_0_-1/gray/features.npy\n",
      "Got the result from ./1/64/train/filtrations/6/HeightFiltrartion_0_-1/red/features.npy\n",
      "Got the result from ./1/64/train/filtrations/6/HeightFiltrartion_0_-1/green/features.npy\n",
      "Got the result from ./1/64/train/filtrations/6/HeightFiltrartion_0_-1/blue/features.npy\n",
      "Applying filtration 54/72: 6/HeightFiltrartion_0_1\n",
      "RGB images received. Transforming to grayscale.\n"
     ]
    },
    {
     "name": "stderr",
     "output_type": "stream",
     "text": [
      "rgb2gray: 100%|██████████| 9469/9469 [00:01<00:00, 5454.50it/s]\n"
     ]
    },
    {
     "name": "stdout",
     "output_type": "stream",
     "text": [
      "Got the result from ./1/64/train/filtrations/6/HeightFiltrartion_0_1/gray/features.npy\n",
      "Got the result from ./1/64/train/filtrations/6/HeightFiltrartion_0_1/red/features.npy\n",
      "Got the result from ./1/64/train/filtrations/6/HeightFiltrartion_0_1/green/features.npy\n",
      "Got the result from ./1/64/train/filtrations/6/HeightFiltrartion_0_1/blue/features.npy\n",
      "Applying filtration 55/72: 6/HeightFiltrartion_-1_0\n",
      "RGB images received. Transforming to grayscale.\n"
     ]
    },
    {
     "name": "stderr",
     "output_type": "stream",
     "text": [
      "rgb2gray: 100%|██████████| 9469/9469 [00:01<00:00, 4910.99it/s]\n"
     ]
    },
    {
     "name": "stdout",
     "output_type": "stream",
     "text": [
      "Got the result from ./1/64/train/filtrations/6/HeightFiltrartion_-1_0/gray/features.npy\n",
      "Got the result from ./1/64/train/filtrations/6/HeightFiltrartion_-1_0/red/features.npy\n",
      "Got the result from ./1/64/train/filtrations/6/HeightFiltrartion_-1_0/green/features.npy\n",
      "Got the result from ./1/64/train/filtrations/6/HeightFiltrartion_-1_0/blue/features.npy\n",
      "Applying filtration 56/72: 6/HeightFiltrartion_1_0\n",
      "RGB images received. Transforming to grayscale.\n"
     ]
    },
    {
     "name": "stderr",
     "output_type": "stream",
     "text": [
      "rgb2gray: 100%|██████████| 9469/9469 [00:02<00:00, 4514.40it/s]\n"
     ]
    },
    {
     "name": "stdout",
     "output_type": "stream",
     "text": [
      "Got the result from ./1/64/train/filtrations/6/HeightFiltrartion_1_0/gray/features.npy\n",
      "Got the result from ./1/64/train/filtrations/6/HeightFiltrartion_1_0/red/features.npy\n",
      "Got the result from ./1/64/train/filtrations/6/HeightFiltrartion_1_0/green/features.npy\n",
      "Got the result from ./1/64/train/filtrations/6/HeightFiltrartion_1_0/blue/features.npy\n",
      "Applying filtration 57/72: 6/RadialFiltration_12_12\n",
      "RGB images received. Transforming to grayscale.\n"
     ]
    },
    {
     "name": "stderr",
     "output_type": "stream",
     "text": [
      "rgb2gray: 100%|██████████| 9469/9469 [00:01<00:00, 4825.84it/s]\n"
     ]
    },
    {
     "name": "stdout",
     "output_type": "stream",
     "text": [
      "Got the result from ./1/64/train/filtrations/6/RadialFiltration_12_12/gray/features.npy\n",
      "Got the result from ./1/64/train/filtrations/6/RadialFiltration_12_12/red/features.npy\n",
      "Got the result from ./1/64/train/filtrations/6/RadialFiltration_12_12/green/features.npy\n",
      "Got the result from ./1/64/train/filtrations/6/RadialFiltration_12_12/blue/features.npy\n",
      "Applying filtration 58/72: 6/RadialFiltration_12_25\n",
      "RGB images received. Transforming to grayscale.\n"
     ]
    },
    {
     "name": "stderr",
     "output_type": "stream",
     "text": [
      "rgb2gray: 100%|██████████| 9469/9469 [00:01<00:00, 5205.88it/s]\n"
     ]
    },
    {
     "name": "stdout",
     "output_type": "stream",
     "text": [
      "Got the result from ./1/64/train/filtrations/6/RadialFiltration_12_25/gray/features.npy\n",
      "Got the result from ./1/64/train/filtrations/6/RadialFiltration_12_25/red/features.npy\n",
      "Got the result from ./1/64/train/filtrations/6/RadialFiltration_12_25/green/features.npy\n",
      "Got the result from ./1/64/train/filtrations/6/RadialFiltration_12_25/blue/features.npy\n",
      "Applying filtration 59/72: 6/RadialFiltration_12_38\n",
      "RGB images received. Transforming to grayscale.\n"
     ]
    },
    {
     "name": "stderr",
     "output_type": "stream",
     "text": [
      "rgb2gray: 100%|██████████| 9469/9469 [00:01<00:00, 5537.42it/s]\n"
     ]
    },
    {
     "name": "stdout",
     "output_type": "stream",
     "text": [
      "Got the result from ./1/64/train/filtrations/6/RadialFiltration_12_38/gray/features.npy\n",
      "Got the result from ./1/64/train/filtrations/6/RadialFiltration_12_38/red/features.npy\n",
      "Got the result from ./1/64/train/filtrations/6/RadialFiltration_12_38/green/features.npy\n",
      "Got the result from ./1/64/train/filtrations/6/RadialFiltration_12_38/blue/features.npy\n",
      "Applying filtration 60/72: 6/RadialFiltration_12_51\n",
      "RGB images received. Transforming to grayscale.\n"
     ]
    },
    {
     "name": "stderr",
     "output_type": "stream",
     "text": [
      "rgb2gray: 100%|██████████| 9469/9469 [00:01<00:00, 5174.32it/s]\n"
     ]
    },
    {
     "name": "stdout",
     "output_type": "stream",
     "text": [
      "Got the result from ./1/64/train/filtrations/6/RadialFiltration_12_51/gray/features.npy\n",
      "Got the result from ./1/64/train/filtrations/6/RadialFiltration_12_51/red/features.npy\n",
      "Got the result from ./1/64/train/filtrations/6/RadialFiltration_12_51/green/features.npy\n",
      "Got the result from ./1/64/train/filtrations/6/RadialFiltration_12_51/blue/features.npy\n",
      "Applying filtration 61/72: 6/RadialFiltration_25_12\n",
      "RGB images received. Transforming to grayscale.\n"
     ]
    },
    {
     "name": "stderr",
     "output_type": "stream",
     "text": [
      "rgb2gray: 100%|██████████| 9469/9469 [00:02<00:00, 4511.31it/s]\n"
     ]
    },
    {
     "name": "stdout",
     "output_type": "stream",
     "text": [
      "Got the result from ./1/64/train/filtrations/6/RadialFiltration_25_12/gray/features.npy\n",
      "Got the result from ./1/64/train/filtrations/6/RadialFiltration_25_12/red/features.npy\n",
      "Got the result from ./1/64/train/filtrations/6/RadialFiltration_25_12/green/features.npy\n",
      "Got the result from ./1/64/train/filtrations/6/RadialFiltration_25_12/blue/features.npy\n",
      "Applying filtration 62/72: 6/RadialFiltration_25_25\n",
      "RGB images received. Transforming to grayscale.\n"
     ]
    },
    {
     "name": "stderr",
     "output_type": "stream",
     "text": [
      "rgb2gray: 100%|██████████| 9469/9469 [00:01<00:00, 5035.50it/s]\n"
     ]
    },
    {
     "name": "stdout",
     "output_type": "stream",
     "text": [
      "Got the result from ./1/64/train/filtrations/6/RadialFiltration_25_25/gray/features.npy\n",
      "Got the result from ./1/64/train/filtrations/6/RadialFiltration_25_25/red/features.npy\n",
      "Got the result from ./1/64/train/filtrations/6/RadialFiltration_25_25/green/features.npy\n",
      "Got the result from ./1/64/train/filtrations/6/RadialFiltration_25_25/blue/features.npy\n",
      "Applying filtration 63/72: 6/RadialFiltration_25_38\n",
      "RGB images received. Transforming to grayscale.\n"
     ]
    },
    {
     "name": "stderr",
     "output_type": "stream",
     "text": [
      "rgb2gray: 100%|██████████| 9469/9469 [00:01<00:00, 5250.31it/s]\n"
     ]
    },
    {
     "name": "stdout",
     "output_type": "stream",
     "text": [
      "Got the result from ./1/64/train/filtrations/6/RadialFiltration_25_38/gray/features.npy\n",
      "Got the result from ./1/64/train/filtrations/6/RadialFiltration_25_38/red/features.npy\n",
      "Got the result from ./1/64/train/filtrations/6/RadialFiltration_25_38/green/features.npy\n",
      "Got the result from ./1/64/train/filtrations/6/RadialFiltration_25_38/blue/features.npy\n",
      "Applying filtration 64/72: 6/RadialFiltration_25_51\n",
      "RGB images received. Transforming to grayscale.\n"
     ]
    },
    {
     "name": "stderr",
     "output_type": "stream",
     "text": [
      "rgb2gray: 100%|██████████| 9469/9469 [00:01<00:00, 5484.47it/s]\n"
     ]
    },
    {
     "name": "stdout",
     "output_type": "stream",
     "text": [
      "Got the result from ./1/64/train/filtrations/6/RadialFiltration_25_51/gray/features.npy\n",
      "Got the result from ./1/64/train/filtrations/6/RadialFiltration_25_51/red/features.npy\n",
      "Got the result from ./1/64/train/filtrations/6/RadialFiltration_25_51/green/features.npy\n",
      "Got the result from ./1/64/train/filtrations/6/RadialFiltration_25_51/blue/features.npy\n",
      "Applying filtration 65/72: 6/RadialFiltration_38_12\n",
      "RGB images received. Transforming to grayscale.\n"
     ]
    },
    {
     "name": "stderr",
     "output_type": "stream",
     "text": [
      "rgb2gray: 100%|██████████| 9469/9469 [00:01<00:00, 4952.40it/s]\n"
     ]
    },
    {
     "name": "stdout",
     "output_type": "stream",
     "text": [
      "Got the result from ./1/64/train/filtrations/6/RadialFiltration_38_12/gray/features.npy\n",
      "Got the result from ./1/64/train/filtrations/6/RadialFiltration_38_12/red/features.npy\n",
      "Got the result from ./1/64/train/filtrations/6/RadialFiltration_38_12/green/features.npy\n",
      "Got the result from ./1/64/train/filtrations/6/RadialFiltration_38_12/blue/features.npy\n",
      "Applying filtration 66/72: 6/RadialFiltration_38_25\n",
      "RGB images received. Transforming to grayscale.\n"
     ]
    },
    {
     "name": "stderr",
     "output_type": "stream",
     "text": [
      "rgb2gray: 100%|██████████| 9469/9469 [00:01<00:00, 5319.81it/s]\n"
     ]
    },
    {
     "name": "stdout",
     "output_type": "stream",
     "text": [
      "Got the result from ./1/64/train/filtrations/6/RadialFiltration_38_25/gray/features.npy\n",
      "Got the result from ./1/64/train/filtrations/6/RadialFiltration_38_25/red/features.npy\n",
      "Got the result from ./1/64/train/filtrations/6/RadialFiltration_38_25/green/features.npy\n",
      "Got the result from ./1/64/train/filtrations/6/RadialFiltration_38_25/blue/features.npy\n",
      "Applying filtration 67/72: 6/RadialFiltration_38_38\n",
      "RGB images received. Transforming to grayscale.\n"
     ]
    },
    {
     "name": "stderr",
     "output_type": "stream",
     "text": [
      "rgb2gray: 100%|██████████| 9469/9469 [00:01<00:00, 5116.96it/s]\n"
     ]
    },
    {
     "name": "stdout",
     "output_type": "stream",
     "text": [
      "Got the result from ./1/64/train/filtrations/6/RadialFiltration_38_38/gray/features.npy\n",
      "Got the result from ./1/64/train/filtrations/6/RadialFiltration_38_38/red/features.npy\n",
      "Got the result from ./1/64/train/filtrations/6/RadialFiltration_38_38/green/features.npy\n",
      "Got the result from ./1/64/train/filtrations/6/RadialFiltration_38_38/blue/features.npy\n",
      "Applying filtration 68/72: 6/RadialFiltration_38_51\n",
      "RGB images received. Transforming to grayscale.\n"
     ]
    },
    {
     "name": "stderr",
     "output_type": "stream",
     "text": [
      "rgb2gray: 100%|██████████| 9469/9469 [00:01<00:00, 5196.34it/s]\n"
     ]
    },
    {
     "name": "stdout",
     "output_type": "stream",
     "text": [
      "Got the result from ./1/64/train/filtrations/6/RadialFiltration_38_51/gray/features.npy\n",
      "Got the result from ./1/64/train/filtrations/6/RadialFiltration_38_51/red/features.npy\n",
      "Got the result from ./1/64/train/filtrations/6/RadialFiltration_38_51/green/features.npy\n",
      "Got the result from ./1/64/train/filtrations/6/RadialFiltration_38_51/blue/features.npy\n",
      "Applying filtration 69/72: 6/RadialFiltration_51_12\n",
      "RGB images received. Transforming to grayscale.\n"
     ]
    },
    {
     "name": "stderr",
     "output_type": "stream",
     "text": [
      "rgb2gray: 100%|██████████| 9469/9469 [00:01<00:00, 5136.29it/s]\n"
     ]
    },
    {
     "name": "stdout",
     "output_type": "stream",
     "text": [
      "Got the result from ./1/64/train/filtrations/6/RadialFiltration_51_12/gray/features.npy\n",
      "Got the result from ./1/64/train/filtrations/6/RadialFiltration_51_12/red/features.npy\n",
      "Got the result from ./1/64/train/filtrations/6/RadialFiltration_51_12/green/features.npy\n",
      "Got the result from ./1/64/train/filtrations/6/RadialFiltration_51_12/blue/features.npy\n",
      "Applying filtration 70/72: 6/RadialFiltration_51_25\n",
      "RGB images received. Transforming to grayscale.\n"
     ]
    },
    {
     "name": "stderr",
     "output_type": "stream",
     "text": [
      "rgb2gray: 100%|██████████| 9469/9469 [00:01<00:00, 4953.67it/s]\n"
     ]
    },
    {
     "name": "stdout",
     "output_type": "stream",
     "text": [
      "Got the result from ./1/64/train/filtrations/6/RadialFiltration_51_25/gray/features.npy\n",
      "Got the result from ./1/64/train/filtrations/6/RadialFiltration_51_25/red/features.npy\n",
      "Got the result from ./1/64/train/filtrations/6/RadialFiltration_51_25/green/features.npy\n",
      "Got the result from ./1/64/train/filtrations/6/RadialFiltration_51_25/blue/features.npy\n",
      "Applying filtration 71/72: 6/RadialFiltration_51_38\n",
      "RGB images received. Transforming to grayscale.\n"
     ]
    },
    {
     "name": "stderr",
     "output_type": "stream",
     "text": [
      "rgb2gray: 100%|██████████| 9469/9469 [00:01<00:00, 5039.39it/s]\n"
     ]
    },
    {
     "name": "stdout",
     "output_type": "stream",
     "text": [
      "Got the result from ./1/64/train/filtrations/6/RadialFiltration_51_38/gray/features.npy\n",
      "Got the result from ./1/64/train/filtrations/6/RadialFiltration_51_38/red/features.npy\n",
      "Got the result from ./1/64/train/filtrations/6/RadialFiltration_51_38/green/features.npy\n",
      "Got the result from ./1/64/train/filtrations/6/RadialFiltration_51_38/blue/features.npy\n",
      "Applying filtration 72/72: 6/RadialFiltration_51_51\n",
      "RGB images received. Transforming to grayscale.\n"
     ]
    },
    {
     "name": "stderr",
     "output_type": "stream",
     "text": [
      "rgb2gray: 100%|██████████| 9469/9469 [00:01<00:00, 5088.13it/s]\n"
     ]
    },
    {
     "name": "stdout",
     "output_type": "stream",
     "text": [
      "Got the result from ./1/64/train/filtrations/6/RadialFiltration_51_51/gray/features.npy\n",
      "Got the result from ./1/64/train/filtrations/6/RadialFiltration_51_51/red/features.npy\n",
      "Got the result from ./1/64/train/filtrations/6/RadialFiltration_51_51/green/features.npy\n",
      "Got the result from ./1/64/train/filtrations/6/RadialFiltration_51_51/blue/features.npy\n",
      "RGB images received. Transforming to grayscale.\n",
      "Got the result from ./1/64/train/geometry/rgb/features.npy\n"
     ]
    },
    {
     "name": "stderr",
     "output_type": "stream",
     "text": [
      "rgb2gray: 100%|██████████| 9469/9469 [00:01<00:00, 5356.74it/s]\n"
     ]
    },
    {
     "name": "stdout",
     "output_type": "stream",
     "text": [
      "Got the result from ./1/64/train/geometry/gray/features.npy\n",
      "Got the result from ./1/64/train/geometry/red/features.npy\n",
      "Got the result from ./1/64/train/geometry/green/features.npy\n",
      "Got the result from ./1/64/train/geometry/blue/features.npy\n",
      "Applying StandardScaler.\n",
      "Calculating inverted images\n",
      "RGB images received. Transforming to grayscale.\n"
     ]
    },
    {
     "name": "stderr",
     "output_type": "stream",
     "text": [
      "rgb2gray: 100%|██████████| 3925/3925 [00:00<00:00, 9311.72it/s]\n"
     ]
    },
    {
     "name": "stdout",
     "output_type": "stream",
     "text": [
      "Got the result from ./1/64/test/greyscale/gray/features.npy\n",
      "Got the result from ./1/64/test/greyscale/red/features.npy\n",
      "Got the result from ./1/64/test/greyscale/green/features.npy\n",
      "Got the result from ./1/64/test/greyscale/blue/features.npy\n",
      "RGB images received. Transforming to grayscale.\n"
     ]
    },
    {
     "name": "stderr",
     "output_type": "stream",
     "text": [
      "rgb2gray: 100%|██████████| 3925/3925 [00:00<00:00, 9911.63it/s]\n"
     ]
    },
    {
     "name": "stdout",
     "output_type": "stream",
     "text": [
      "Got the result from ./1/64/test/inverted_greyscale/gray/features.npy\n",
      "Got the result from ./1/64/test/inverted_greyscale/red/features.npy\n",
      "Got the result from ./1/64/test/inverted_greyscale/green/features.npy\n",
      "Got the result from ./1/64/test/inverted_greyscale/blue/features.npy\n",
      "Applying filtrations\n",
      "Applying filtration 1/72: 2/HeightFiltrartion_-1_-1\n",
      "RGB images received. Transforming to grayscale.\n"
     ]
    },
    {
     "name": "stderr",
     "output_type": "stream",
     "text": [
      "rgb2gray: 100%|██████████| 3925/3925 [00:00<00:00, 9911.64it/s]\n"
     ]
    },
    {
     "name": "stdout",
     "output_type": "stream",
     "text": [
      "Got the result from ./1/64/test/filtrations/2/HeightFiltrartion_-1_-1/gray/features.npy\n",
      "Got the result from ./1/64/test/filtrations/2/HeightFiltrartion_-1_-1/red/features.npy\n",
      "Got the result from ./1/64/test/filtrations/2/HeightFiltrartion_-1_-1/green/features.npy\n",
      "Got the result from ./1/64/test/filtrations/2/HeightFiltrartion_-1_-1/blue/features.npy\n",
      "Applying filtration 2/72: 2/HeightFiltrartion_1_1\n",
      "RGB images received. Transforming to grayscale.\n"
     ]
    },
    {
     "name": "stderr",
     "output_type": "stream",
     "text": [
      "rgb2gray: 100%|██████████| 3925/3925 [00:00<00:00, 9137.27it/s]\n"
     ]
    },
    {
     "name": "stdout",
     "output_type": "stream",
     "text": [
      "Got the result from ./1/64/test/filtrations/2/HeightFiltrartion_1_1/gray/features.npy\n",
      "Got the result from ./1/64/test/filtrations/2/HeightFiltrartion_1_1/red/features.npy\n",
      "Got the result from ./1/64/test/filtrations/2/HeightFiltrartion_1_1/green/features.npy\n",
      "Got the result from ./1/64/test/filtrations/2/HeightFiltrartion_1_1/blue/features.npy\n",
      "Applying filtration 3/72: 2/HeightFiltrartion_1_-1\n",
      "RGB images received. Transforming to grayscale.\n"
     ]
    },
    {
     "name": "stderr",
     "output_type": "stream",
     "text": [
      "rgb2gray: 100%|██████████| 3925/3925 [00:00<00:00, 8920.47it/s]\n"
     ]
    },
    {
     "name": "stdout",
     "output_type": "stream",
     "text": [
      "Got the result from ./1/64/test/filtrations/2/HeightFiltrartion_1_-1/gray/features.npy\n",
      "Got the result from ./1/64/test/filtrations/2/HeightFiltrartion_1_-1/red/features.npy\n",
      "Got the result from ./1/64/test/filtrations/2/HeightFiltrartion_1_-1/green/features.npy\n",
      "Got the result from ./1/64/test/filtrations/2/HeightFiltrartion_1_-1/blue/features.npy\n",
      "Applying filtration 4/72: 2/HeightFiltrartion_-1_1\n",
      "RGB images received. Transforming to grayscale.\n"
     ]
    },
    {
     "name": "stderr",
     "output_type": "stream",
     "text": [
      "rgb2gray: 100%|██████████| 3925/3925 [00:00<00:00, 9505.65it/s]\n"
     ]
    },
    {
     "name": "stdout",
     "output_type": "stream",
     "text": [
      "Got the result from ./1/64/test/filtrations/2/HeightFiltrartion_-1_1/gray/features.npy\n",
      "Got the result from ./1/64/test/filtrations/2/HeightFiltrartion_-1_1/red/features.npy\n",
      "Got the result from ./1/64/test/filtrations/2/HeightFiltrartion_-1_1/green/features.npy\n",
      "Got the result from ./1/64/test/filtrations/2/HeightFiltrartion_-1_1/blue/features.npy\n",
      "Applying filtration 5/72: 2/HeightFiltrartion_0_-1\n",
      "RGB images received. Transforming to grayscale.\n"
     ]
    },
    {
     "name": "stderr",
     "output_type": "stream",
     "text": [
      "rgb2gray: 100%|██████████| 3925/3925 [00:00<00:00, 10115.99it/s]\n"
     ]
    },
    {
     "name": "stdout",
     "output_type": "stream",
     "text": [
      "Got the result from ./1/64/test/filtrations/2/HeightFiltrartion_0_-1/gray/features.npy\n",
      "Got the result from ./1/64/test/filtrations/2/HeightFiltrartion_0_-1/red/features.npy\n",
      "Got the result from ./1/64/test/filtrations/2/HeightFiltrartion_0_-1/green/features.npy\n",
      "Got the result from ./1/64/test/filtrations/2/HeightFiltrartion_0_-1/blue/features.npy\n",
      "Applying filtration 6/72: 2/HeightFiltrartion_0_1\n",
      "RGB images received. Transforming to grayscale.\n"
     ]
    },
    {
     "name": "stderr",
     "output_type": "stream",
     "text": [
      "rgb2gray: 100%|██████████| 3925/3925 [00:00<00:00, 9812.47it/s]\n"
     ]
    },
    {
     "name": "stdout",
     "output_type": "stream",
     "text": [
      "Got the result from ./1/64/test/filtrations/2/HeightFiltrartion_0_1/gray/features.npy\n",
      "Got the result from ./1/64/test/filtrations/2/HeightFiltrartion_0_1/red/features.npy\n",
      "Got the result from ./1/64/test/filtrations/2/HeightFiltrartion_0_1/green/features.npy\n",
      "Got the result from ./1/64/test/filtrations/2/HeightFiltrartion_0_1/blue/features.npy\n",
      "Applying filtration 7/72: 2/HeightFiltrartion_-1_0\n",
      "RGB images received. Transforming to grayscale.\n"
     ]
    },
    {
     "name": "stderr",
     "output_type": "stream",
     "text": [
      "rgb2gray: 100%|██████████| 3925/3925 [00:00<00:00, 9911.61it/s]\n"
     ]
    },
    {
     "name": "stdout",
     "output_type": "stream",
     "text": [
      "Got the result from ./1/64/test/filtrations/2/HeightFiltrartion_-1_0/gray/features.npy\n",
      "Got the result from ./1/64/test/filtrations/2/HeightFiltrartion_-1_0/red/features.npy\n",
      "Got the result from ./1/64/test/filtrations/2/HeightFiltrartion_-1_0/green/features.npy\n",
      "Got the result from ./1/64/test/filtrations/2/HeightFiltrartion_-1_0/blue/features.npy\n",
      "Applying filtration 8/72: 2/HeightFiltrartion_1_0\n",
      "RGB images received. Transforming to grayscale.\n"
     ]
    },
    {
     "name": "stderr",
     "output_type": "stream",
     "text": [
      "rgb2gray: 100%|██████████| 3925/3925 [00:00<00:00, 9987.28it/s]\n"
     ]
    },
    {
     "name": "stdout",
     "output_type": "stream",
     "text": [
      "Got the result from ./1/64/test/filtrations/2/HeightFiltrartion_1_0/gray/features.npy\n",
      "Got the result from ./1/64/test/filtrations/2/HeightFiltrartion_1_0/red/features.npy\n",
      "Got the result from ./1/64/test/filtrations/2/HeightFiltrartion_1_0/green/features.npy\n",
      "Got the result from ./1/64/test/filtrations/2/HeightFiltrartion_1_0/blue/features.npy\n",
      "Applying filtration 9/72: 2/RadialFiltration_12_12\n",
      "RGB images received. Transforming to grayscale.\n"
     ]
    },
    {
     "name": "stderr",
     "output_type": "stream",
     "text": [
      "rgb2gray: 100%|██████████| 3925/3925 [00:00<00:00, 9560.25it/s]\n"
     ]
    },
    {
     "name": "stdout",
     "output_type": "stream",
     "text": [
      "Got the result from ./1/64/test/filtrations/2/RadialFiltration_12_12/gray/features.npy\n",
      "Got the result from ./1/64/test/filtrations/2/RadialFiltration_12_12/red/features.npy\n",
      "Got the result from ./1/64/test/filtrations/2/RadialFiltration_12_12/green/features.npy\n",
      "Got the result from ./1/64/test/filtrations/2/RadialFiltration_12_12/blue/features.npy\n",
      "Applying filtration 10/72: 2/RadialFiltration_12_25\n",
      "RGB images received. Transforming to grayscale.\n"
     ]
    },
    {
     "name": "stderr",
     "output_type": "stream",
     "text": [
      "rgb2gray: 100%|██████████| 3925/3925 [00:00<00:00, 9861.80it/s]\n"
     ]
    },
    {
     "name": "stdout",
     "output_type": "stream",
     "text": [
      "Got the result from ./1/64/test/filtrations/2/RadialFiltration_12_25/gray/features.npy\n",
      "Got the result from ./1/64/test/filtrations/2/RadialFiltration_12_25/red/features.npy\n",
      "Got the result from ./1/64/test/filtrations/2/RadialFiltration_12_25/green/features.npy\n",
      "Got the result from ./1/64/test/filtrations/2/RadialFiltration_12_25/blue/features.npy\n",
      "Applying filtration 11/72: 2/RadialFiltration_12_38\n",
      "RGB images received. Transforming to grayscale.\n"
     ]
    },
    {
     "name": "stderr",
     "output_type": "stream",
     "text": [
      "rgb2gray: 100%|██████████| 3925/3925 [00:00<00:00, 9367.58it/s]\n"
     ]
    },
    {
     "name": "stdout",
     "output_type": "stream",
     "text": [
      "Got the result from ./1/64/test/filtrations/2/RadialFiltration_12_38/gray/features.npy\n",
      "Got the result from ./1/64/test/filtrations/2/RadialFiltration_12_38/red/features.npy\n",
      "Got the result from ./1/64/test/filtrations/2/RadialFiltration_12_38/green/features.npy\n",
      "Got the result from ./1/64/test/filtrations/2/RadialFiltration_12_38/blue/features.npy\n",
      "Applying filtration 12/72: 2/RadialFiltration_12_51\n",
      "RGB images received. Transforming to grayscale.\n"
     ]
    },
    {
     "name": "stderr",
     "output_type": "stream",
     "text": [
      "rgb2gray: 100%|██████████| 3925/3925 [00:00<00:00, 10008.90it/s]\n"
     ]
    },
    {
     "name": "stdout",
     "output_type": "stream",
     "text": [
      "Got the result from ./1/64/test/filtrations/2/RadialFiltration_12_51/gray/features.npy\n",
      "Got the result from ./1/64/test/filtrations/2/RadialFiltration_12_51/red/features.npy\n",
      "Got the result from ./1/64/test/filtrations/2/RadialFiltration_12_51/green/features.npy\n",
      "Got the result from ./1/64/test/filtrations/2/RadialFiltration_12_51/blue/features.npy\n",
      "Applying filtration 13/72: 2/RadialFiltration_25_12\n",
      "RGB images received. Transforming to grayscale.\n"
     ]
    },
    {
     "name": "stderr",
     "output_type": "stream",
     "text": [
      "rgb2gray: 100%|██████████| 3925/3925 [00:00<00:00, 9435.08it/s]\n"
     ]
    },
    {
     "name": "stdout",
     "output_type": "stream",
     "text": [
      "Got the result from ./1/64/test/filtrations/2/RadialFiltration_25_12/gray/features.npy\n",
      "Got the result from ./1/64/test/filtrations/2/RadialFiltration_25_12/red/features.npy\n",
      "Got the result from ./1/64/test/filtrations/2/RadialFiltration_25_12/green/features.npy\n",
      "Got the result from ./1/64/test/filtrations/2/RadialFiltration_25_12/blue/features.npy\n",
      "Applying filtration 14/72: 2/RadialFiltration_25_25\n",
      "RGB images received. Transforming to grayscale.\n"
     ]
    },
    {
     "name": "stderr",
     "output_type": "stream",
     "text": [
      "rgb2gray: 100%|██████████| 3925/3925 [00:00<00:00, 10328.96it/s]\n"
     ]
    },
    {
     "name": "stdout",
     "output_type": "stream",
     "text": [
      "Got the result from ./1/64/test/filtrations/2/RadialFiltration_25_25/gray/features.npy\n",
      "Got the result from ./1/64/test/filtrations/2/RadialFiltration_25_25/red/features.npy\n",
      "Got the result from ./1/64/test/filtrations/2/RadialFiltration_25_25/green/features.npy\n",
      "Got the result from ./1/64/test/filtrations/2/RadialFiltration_25_25/blue/features.npy\n",
      "Applying filtration 15/72: 2/RadialFiltration_25_38\n",
      "RGB images received. Transforming to grayscale.\n"
     ]
    },
    {
     "name": "stderr",
     "output_type": "stream",
     "text": [
      "rgb2gray: 100%|██████████| 3925/3925 [00:00<00:00, 10064.14it/s]\n"
     ]
    },
    {
     "name": "stdout",
     "output_type": "stream",
     "text": [
      "Got the result from ./1/64/test/filtrations/2/RadialFiltration_25_38/gray/features.npy\n",
      "Got the result from ./1/64/test/filtrations/2/RadialFiltration_25_38/red/features.npy\n",
      "Got the result from ./1/64/test/filtrations/2/RadialFiltration_25_38/green/features.npy\n",
      "Got the result from ./1/64/test/filtrations/2/RadialFiltration_25_38/blue/features.npy\n",
      "Applying filtration 16/72: 2/RadialFiltration_25_51\n",
      "RGB images received. Transforming to grayscale.\n"
     ]
    },
    {
     "name": "stderr",
     "output_type": "stream",
     "text": [
      "rgb2gray: 100%|██████████| 3925/3925 [00:00<00:00, 9235.31it/s]\n"
     ]
    },
    {
     "name": "stdout",
     "output_type": "stream",
     "text": [
      "Got the result from ./1/64/test/filtrations/2/RadialFiltration_25_51/gray/features.npy\n",
      "Got the result from ./1/64/test/filtrations/2/RadialFiltration_25_51/red/features.npy\n",
      "Got the result from ./1/64/test/filtrations/2/RadialFiltration_25_51/green/features.npy\n",
      "Got the result from ./1/64/test/filtrations/2/RadialFiltration_25_51/blue/features.npy\n",
      "Applying filtration 17/72: 2/RadialFiltration_38_12\n",
      "RGB images received. Transforming to grayscale.\n"
     ]
    },
    {
     "name": "stderr",
     "output_type": "stream",
     "text": [
      "rgb2gray: 100%|██████████| 3925/3925 [00:00<00:00, 10115.95it/s]\n"
     ]
    },
    {
     "name": "stdout",
     "output_type": "stream",
     "text": [
      "Got the result from ./1/64/test/filtrations/2/RadialFiltration_38_12/gray/features.npy\n",
      "Got the result from ./1/64/test/filtrations/2/RadialFiltration_38_12/red/features.npy\n",
      "Got the result from ./1/64/test/filtrations/2/RadialFiltration_38_12/green/features.npy\n",
      "Got the result from ./1/64/test/filtrations/2/RadialFiltration_38_12/blue/features.npy\n",
      "Applying filtration 18/72: 2/RadialFiltration_38_25\n",
      "RGB images received. Transforming to grayscale.\n"
     ]
    },
    {
     "name": "stderr",
     "output_type": "stream",
     "text": [
      "rgb2gray: 100%|██████████| 3925/3925 [00:00<00:00, 9503.62it/s]\n"
     ]
    },
    {
     "name": "stdout",
     "output_type": "stream",
     "text": [
      "Got the result from ./1/64/test/filtrations/2/RadialFiltration_38_25/gray/features.npy\n",
      "Got the result from ./1/64/test/filtrations/2/RadialFiltration_38_25/red/features.npy\n",
      "Got the result from ./1/64/test/filtrations/2/RadialFiltration_38_25/green/features.npy\n",
      "Got the result from ./1/64/test/filtrations/2/RadialFiltration_38_25/blue/features.npy\n",
      "Applying filtration 19/72: 2/RadialFiltration_38_38\n",
      "RGB images received. Transforming to grayscale.\n"
     ]
    },
    {
     "name": "stderr",
     "output_type": "stream",
     "text": [
      "rgb2gray: 100%|██████████| 3925/3925 [00:00<00:00, 9739.41it/s]\n"
     ]
    },
    {
     "name": "stdout",
     "output_type": "stream",
     "text": [
      "Got the result from ./1/64/test/filtrations/2/RadialFiltration_38_38/gray/features.npy\n",
      "Got the result from ./1/64/test/filtrations/2/RadialFiltration_38_38/red/features.npy\n",
      "Got the result from ./1/64/test/filtrations/2/RadialFiltration_38_38/green/features.npy\n",
      "Got the result from ./1/64/test/filtrations/2/RadialFiltration_38_38/blue/features.npy\n",
      "Applying filtration 20/72: 2/RadialFiltration_38_51\n",
      "RGB images received. Transforming to grayscale.\n"
     ]
    },
    {
     "name": "stderr",
     "output_type": "stream",
     "text": [
      "rgb2gray: 100%|██████████| 3925/3925 [00:00<00:00, 9762.76it/s]\n"
     ]
    },
    {
     "name": "stdout",
     "output_type": "stream",
     "text": [
      "Got the result from ./1/64/test/filtrations/2/RadialFiltration_38_51/gray/features.npy\n",
      "Got the result from ./1/64/test/filtrations/2/RadialFiltration_38_51/red/features.npy\n",
      "Got the result from ./1/64/test/filtrations/2/RadialFiltration_38_51/green/features.npy\n",
      "Got the result from ./1/64/test/filtrations/2/RadialFiltration_38_51/blue/features.npy\n",
      "Applying filtration 21/72: 2/RadialFiltration_51_12\n",
      "RGB images received. Transforming to grayscale.\n"
     ]
    },
    {
     "name": "stderr",
     "output_type": "stream",
     "text": [
      "rgb2gray: 100%|██████████| 3925/3925 [00:00<00:00, 9389.97it/s]\n"
     ]
    },
    {
     "name": "stdout",
     "output_type": "stream",
     "text": [
      "Got the result from ./1/64/test/filtrations/2/RadialFiltration_51_12/gray/features.npy\n",
      "Got the result from ./1/64/test/filtrations/2/RadialFiltration_51_12/red/features.npy\n",
      "Got the result from ./1/64/test/filtrations/2/RadialFiltration_51_12/green/features.npy\n",
      "Got the result from ./1/64/test/filtrations/2/RadialFiltration_51_12/blue/features.npy\n",
      "Applying filtration 22/72: 2/RadialFiltration_51_25\n",
      "RGB images received. Transforming to grayscale.\n"
     ]
    },
    {
     "name": "stderr",
     "output_type": "stream",
     "text": [
      "rgb2gray: 100%|██████████| 3925/3925 [00:00<00:00, 9763.69it/s]\n"
     ]
    },
    {
     "name": "stdout",
     "output_type": "stream",
     "text": [
      "Got the result from ./1/64/test/filtrations/2/RadialFiltration_51_25/gray/features.npy\n",
      "Got the result from ./1/64/test/filtrations/2/RadialFiltration_51_25/red/features.npy\n",
      "Got the result from ./1/64/test/filtrations/2/RadialFiltration_51_25/green/features.npy\n",
      "Got the result from ./1/64/test/filtrations/2/RadialFiltration_51_25/blue/features.npy\n",
      "Applying filtration 23/72: 2/RadialFiltration_51_38\n",
      "RGB images received. Transforming to grayscale.\n"
     ]
    },
    {
     "name": "stderr",
     "output_type": "stream",
     "text": [
      "rgb2gray: 100%|██████████| 3925/3925 [00:00<00:00, 9812.52it/s]\n"
     ]
    },
    {
     "name": "stdout",
     "output_type": "stream",
     "text": [
      "Got the result from ./1/64/test/filtrations/2/RadialFiltration_51_38/gray/features.npy\n",
      "Got the result from ./1/64/test/filtrations/2/RadialFiltration_51_38/red/features.npy\n",
      "Got the result from ./1/64/test/filtrations/2/RadialFiltration_51_38/green/features.npy\n",
      "Got the result from ./1/64/test/filtrations/2/RadialFiltration_51_38/blue/features.npy\n",
      "Applying filtration 24/72: 2/RadialFiltration_51_51\n",
      "RGB images received. Transforming to grayscale.\n"
     ]
    },
    {
     "name": "stderr",
     "output_type": "stream",
     "text": [
      "rgb2gray: 100%|██████████| 3925/3925 [00:00<00:00, 9223.35it/s]\n"
     ]
    },
    {
     "name": "stdout",
     "output_type": "stream",
     "text": [
      "Got the result from ./1/64/test/filtrations/2/RadialFiltration_51_51/gray/features.npy\n",
      "Got the result from ./1/64/test/filtrations/2/RadialFiltration_51_51/red/features.npy\n",
      "Got the result from ./1/64/test/filtrations/2/RadialFiltration_51_51/green/features.npy\n",
      "Got the result from ./1/64/test/filtrations/2/RadialFiltration_51_51/blue/features.npy\n",
      "Applying filtration 25/72: 4/HeightFiltrartion_-1_-1\n",
      "RGB images received. Transforming to grayscale.\n"
     ]
    },
    {
     "name": "stderr",
     "output_type": "stream",
     "text": [
      "rgb2gray: 100%|██████████| 3925/3925 [00:00<00:00, 9412.46it/s]\n"
     ]
    },
    {
     "name": "stdout",
     "output_type": "stream",
     "text": [
      "Got the result from ./1/64/test/filtrations/4/HeightFiltrartion_-1_-1/gray/features.npy\n",
      "Got the result from ./1/64/test/filtrations/4/HeightFiltrartion_-1_-1/red/features.npy\n",
      "Got the result from ./1/64/test/filtrations/4/HeightFiltrartion_-1_-1/green/features.npy\n",
      "Got the result from ./1/64/test/filtrations/4/HeightFiltrartion_-1_-1/blue/features.npy\n",
      "Applying filtration 26/72: 4/HeightFiltrartion_1_1\n",
      "RGB images received. Transforming to grayscale.\n"
     ]
    },
    {
     "name": "stderr",
     "output_type": "stream",
     "text": [
      "rgb2gray: 100%|██████████| 3925/3925 [00:00<00:00, 8280.65it/s]\n"
     ]
    },
    {
     "name": "stdout",
     "output_type": "stream",
     "text": [
      "Got the result from ./1/64/test/filtrations/4/HeightFiltrartion_1_1/gray/features.npy\n",
      "Got the result from ./1/64/test/filtrations/4/HeightFiltrartion_1_1/red/features.npy\n",
      "Got the result from ./1/64/test/filtrations/4/HeightFiltrartion_1_1/green/features.npy\n",
      "Got the result from ./1/64/test/filtrations/4/HeightFiltrartion_1_1/blue/features.npy\n",
      "Applying filtration 27/72: 4/HeightFiltrartion_1_-1\n",
      "RGB images received. Transforming to grayscale.\n"
     ]
    },
    {
     "name": "stderr",
     "output_type": "stream",
     "text": [
      "rgb2gray: 100%|██████████| 3925/3925 [00:00<00:00, 9715.34it/s]\n"
     ]
    },
    {
     "name": "stdout",
     "output_type": "stream",
     "text": [
      "Got the result from ./1/64/test/filtrations/4/HeightFiltrartion_1_-1/gray/features.npy\n",
      "Got the result from ./1/64/test/filtrations/4/HeightFiltrartion_1_-1/red/features.npy\n",
      "Got the result from ./1/64/test/filtrations/4/HeightFiltrartion_1_-1/green/features.npy\n",
      "Got the result from ./1/64/test/filtrations/4/HeightFiltrartion_1_-1/blue/features.npy\n",
      "Applying filtration 28/72: 4/HeightFiltrartion_-1_1\n",
      "RGB images received. Transforming to grayscale.\n"
     ]
    },
    {
     "name": "stderr",
     "output_type": "stream",
     "text": [
      "rgb2gray: 100%|██████████| 3925/3925 [00:00<00:00, 9837.14it/s]\n"
     ]
    },
    {
     "name": "stdout",
     "output_type": "stream",
     "text": [
      "Got the result from ./1/64/test/filtrations/4/HeightFiltrartion_-1_1/gray/features.npy\n",
      "Got the result from ./1/64/test/filtrations/4/HeightFiltrartion_-1_1/red/features.npy\n",
      "Got the result from ./1/64/test/filtrations/4/HeightFiltrartion_-1_1/green/features.npy\n",
      "Got the result from ./1/64/test/filtrations/4/HeightFiltrartion_-1_1/blue/features.npy\n",
      "Applying filtration 29/72: 4/HeightFiltrartion_0_-1\n",
      "RGB images received. Transforming to grayscale.\n"
     ]
    },
    {
     "name": "stderr",
     "output_type": "stream",
     "text": [
      "rgb2gray: 100%|██████████| 3925/3925 [00:00<00:00, 10221.33it/s]\n"
     ]
    },
    {
     "name": "stdout",
     "output_type": "stream",
     "text": [
      "Got the result from ./1/64/test/filtrations/4/HeightFiltrartion_0_-1/gray/features.npy\n",
      "Got the result from ./1/64/test/filtrations/4/HeightFiltrartion_0_-1/red/features.npy\n",
      "Got the result from ./1/64/test/filtrations/4/HeightFiltrartion_0_-1/green/features.npy\n",
      "Got the result from ./1/64/test/filtrations/4/HeightFiltrartion_0_-1/blue/features.npy\n",
      "Applying filtration 30/72: 4/HeightFiltrartion_0_1\n",
      "RGB images received. Transforming to grayscale.\n"
     ]
    },
    {
     "name": "stderr",
     "output_type": "stream",
     "text": [
      "rgb2gray: 100%|██████████| 3925/3925 [00:00<00:00, 9380.46it/s]\n"
     ]
    },
    {
     "name": "stdout",
     "output_type": "stream",
     "text": [
      "Got the result from ./1/64/test/filtrations/4/HeightFiltrartion_0_1/gray/features.npy\n",
      "Got the result from ./1/64/test/filtrations/4/HeightFiltrartion_0_1/red/features.npy\n",
      "Got the result from ./1/64/test/filtrations/4/HeightFiltrartion_0_1/green/features.npy\n",
      "Got the result from ./1/64/test/filtrations/4/HeightFiltrartion_0_1/blue/features.npy\n",
      "Applying filtration 31/72: 4/HeightFiltrartion_-1_0\n",
      "RGB images received. Transforming to grayscale.\n"
     ]
    },
    {
     "name": "stderr",
     "output_type": "stream",
     "text": [
      "rgb2gray: 100%|██████████| 3925/3925 [00:00<00:00, 9911.63it/s]\n"
     ]
    },
    {
     "name": "stdout",
     "output_type": "stream",
     "text": [
      "Got the result from ./1/64/test/filtrations/4/HeightFiltrartion_-1_0/gray/features.npy\n",
      "Got the result from ./1/64/test/filtrations/4/HeightFiltrartion_-1_0/red/features.npy\n",
      "Got the result from ./1/64/test/filtrations/4/HeightFiltrartion_-1_0/green/features.npy\n",
      "Got the result from ./1/64/test/filtrations/4/HeightFiltrartion_-1_0/blue/features.npy\n",
      "Applying filtration 32/72: 4/HeightFiltrartion_1_0\n",
      "RGB images received. Transforming to grayscale.\n"
     ]
    },
    {
     "name": "stderr",
     "output_type": "stream",
     "text": [
      "rgb2gray: 100%|██████████| 3925/3925 [00:00<00:00, 9861.83it/s]\n"
     ]
    },
    {
     "name": "stdout",
     "output_type": "stream",
     "text": [
      "Got the result from ./1/64/test/filtrations/4/HeightFiltrartion_1_0/gray/features.npy\n",
      "Got the result from ./1/64/test/filtrations/4/HeightFiltrartion_1_0/red/features.npy\n",
      "Got the result from ./1/64/test/filtrations/4/HeightFiltrartion_1_0/green/features.npy\n",
      "Got the result from ./1/64/test/filtrations/4/HeightFiltrartion_1_0/blue/features.npy\n",
      "Applying filtration 33/72: 4/RadialFiltration_12_12\n",
      "RGB images received. Transforming to grayscale.\n"
     ]
    },
    {
     "name": "stderr",
     "output_type": "stream",
     "text": [
      "rgb2gray: 100%|██████████| 3925/3925 [00:00<00:00, 9911.66it/s]\n"
     ]
    },
    {
     "name": "stdout",
     "output_type": "stream",
     "text": [
      "Got the result from ./1/64/test/filtrations/4/RadialFiltration_12_12/gray/features.npy\n",
      "Got the result from ./1/64/test/filtrations/4/RadialFiltration_12_12/red/features.npy\n",
      "Got the result from ./1/64/test/filtrations/4/RadialFiltration_12_12/green/features.npy\n",
      "Got the result from ./1/64/test/filtrations/4/RadialFiltration_12_12/blue/features.npy\n",
      "Applying filtration 34/72: 4/RadialFiltration_12_25\n",
      "RGB images received. Transforming to grayscale.\n"
     ]
    },
    {
     "name": "stderr",
     "output_type": "stream",
     "text": [
      "rgb2gray: 100%|██████████| 3925/3925 [00:00<00:00, 9987.26it/s]\n"
     ]
    },
    {
     "name": "stdout",
     "output_type": "stream",
     "text": [
      "Got the result from ./1/64/test/filtrations/4/RadialFiltration_12_25/gray/features.npy\n",
      "Got the result from ./1/64/test/filtrations/4/RadialFiltration_12_25/red/features.npy\n",
      "Got the result from ./1/64/test/filtrations/4/RadialFiltration_12_25/green/features.npy\n",
      "Got the result from ./1/64/test/filtrations/4/RadialFiltration_12_25/blue/features.npy\n",
      "Applying filtration 35/72: 4/RadialFiltration_12_38\n",
      "RGB images received. Transforming to grayscale.\n"
     ]
    },
    {
     "name": "stderr",
     "output_type": "stream",
     "text": [
      "rgb2gray: 100%|██████████| 3925/3925 [00:00<00:00, 9902.37it/s]\n"
     ]
    },
    {
     "name": "stdout",
     "output_type": "stream",
     "text": [
      "Got the result from ./1/64/test/filtrations/4/RadialFiltration_12_38/gray/features.npy\n",
      "Got the result from ./1/64/test/filtrations/4/RadialFiltration_12_38/red/features.npy\n",
      "Got the result from ./1/64/test/filtrations/4/RadialFiltration_12_38/green/features.npy\n",
      "Got the result from ./1/64/test/filtrations/4/RadialFiltration_12_38/blue/features.npy\n",
      "Applying filtration 36/72: 4/RadialFiltration_12_51\n",
      "RGB images received. Transforming to grayscale.\n"
     ]
    },
    {
     "name": "stderr",
     "output_type": "stream",
     "text": [
      "rgb2gray: 100%|██████████| 3925/3925 [00:00<00:00, 8569.86it/s]\n"
     ]
    },
    {
     "name": "stdout",
     "output_type": "stream",
     "text": [
      "Got the result from ./1/64/test/filtrations/4/RadialFiltration_12_51/gray/features.npy\n",
      "Got the result from ./1/64/test/filtrations/4/RadialFiltration_12_51/red/features.npy\n",
      "Got the result from ./1/64/test/filtrations/4/RadialFiltration_12_51/green/features.npy\n",
      "Got the result from ./1/64/test/filtrations/4/RadialFiltration_12_51/blue/features.npy\n",
      "Applying filtration 37/72: 4/RadialFiltration_25_12\n",
      "RGB images received. Transforming to grayscale.\n"
     ]
    },
    {
     "name": "stderr",
     "output_type": "stream",
     "text": [
      "rgb2gray: 100%|██████████| 3925/3925 [00:00<00:00, 9170.55it/s]\n"
     ]
    },
    {
     "name": "stdout",
     "output_type": "stream",
     "text": [
      "Got the result from ./1/64/test/filtrations/4/RadialFiltration_25_12/gray/features.npy\n",
      "Got the result from ./1/64/test/filtrations/4/RadialFiltration_25_12/red/features.npy\n",
      "Got the result from ./1/64/test/filtrations/4/RadialFiltration_25_12/green/features.npy\n",
      "Got the result from ./1/64/test/filtrations/4/RadialFiltration_25_12/blue/features.npy\n",
      "Applying filtration 38/72: 4/RadialFiltration_25_25\n",
      "RGB images received. Transforming to grayscale.\n"
     ]
    },
    {
     "name": "stderr",
     "output_type": "stream",
     "text": [
      "rgb2gray: 100%|██████████| 3925/3925 [00:00<00:00, 10221.29it/s]\n"
     ]
    },
    {
     "name": "stdout",
     "output_type": "stream",
     "text": [
      "Got the result from ./1/64/test/filtrations/4/RadialFiltration_25_25/gray/features.npy\n",
      "Got the result from ./1/64/test/filtrations/4/RadialFiltration_25_25/red/features.npy\n",
      "Got the result from ./1/64/test/filtrations/4/RadialFiltration_25_25/green/features.npy\n",
      "Got the result from ./1/64/test/filtrations/4/RadialFiltration_25_25/blue/features.npy\n",
      "Applying filtration 39/72: 4/RadialFiltration_25_38\n",
      "RGB images received. Transforming to grayscale.\n"
     ]
    },
    {
     "name": "stderr",
     "output_type": "stream",
     "text": [
      "rgb2gray: 100%|██████████| 3925/3925 [00:00<00:00, 9861.86it/s]\n"
     ]
    },
    {
     "name": "stdout",
     "output_type": "stream",
     "text": [
      "Got the result from ./1/64/test/filtrations/4/RadialFiltration_25_38/gray/features.npy\n",
      "Got the result from ./1/64/test/filtrations/4/RadialFiltration_25_38/red/features.npy\n",
      "Got the result from ./1/64/test/filtrations/4/RadialFiltration_25_38/green/features.npy\n",
      "Got the result from ./1/64/test/filtrations/4/RadialFiltration_25_38/blue/features.npy\n",
      "Applying filtration 40/72: 4/RadialFiltration_25_51\n",
      "RGB images received. Transforming to grayscale.\n"
     ]
    },
    {
     "name": "stderr",
     "output_type": "stream",
     "text": [
      "rgb2gray: 100%|██████████| 3925/3925 [00:00<00:00, 10783.00it/s]\n"
     ]
    },
    {
     "name": "stdout",
     "output_type": "stream",
     "text": [
      "Got the result from ./1/64/test/filtrations/4/RadialFiltration_25_51/gray/features.npy\n",
      "Got the result from ./1/64/test/filtrations/4/RadialFiltration_25_51/red/features.npy\n",
      "Got the result from ./1/64/test/filtrations/4/RadialFiltration_25_51/green/features.npy\n",
      "Got the result from ./1/64/test/filtrations/4/RadialFiltration_25_51/blue/features.npy\n",
      "Applying filtration 41/72: 4/RadialFiltration_38_12\n",
      "RGB images received. Transforming to grayscale.\n"
     ]
    },
    {
     "name": "stderr",
     "output_type": "stream",
     "text": [
      "rgb2gray: 100%|██████████| 3925/3925 [00:00<00:00, 10038.42it/s]\n"
     ]
    },
    {
     "name": "stdout",
     "output_type": "stream",
     "text": [
      "Got the result from ./1/64/test/filtrations/4/RadialFiltration_38_12/gray/features.npy\n",
      "Got the result from ./1/64/test/filtrations/4/RadialFiltration_38_12/red/features.npy\n",
      "Got the result from ./1/64/test/filtrations/4/RadialFiltration_38_12/green/features.npy\n",
      "Got the result from ./1/64/test/filtrations/4/RadialFiltration_38_12/blue/features.npy\n",
      "Applying filtration 42/72: 4/RadialFiltration_38_25\n",
      "RGB images received. Transforming to grayscale.\n"
     ]
    },
    {
     "name": "stderr",
     "output_type": "stream",
     "text": [
      "rgb2gray: 100%|██████████| 3925/3925 [00:00<00:00, 7892.20it/s]\n"
     ]
    },
    {
     "name": "stdout",
     "output_type": "stream",
     "text": [
      "Got the result from ./1/64/test/filtrations/4/RadialFiltration_38_25/gray/features.npy\n",
      "Got the result from ./1/64/test/filtrations/4/RadialFiltration_38_25/red/features.npy\n",
      "Got the result from ./1/64/test/filtrations/4/RadialFiltration_38_25/green/features.npy\n",
      "Got the result from ./1/64/test/filtrations/4/RadialFiltration_38_25/blue/features.npy\n",
      "Applying filtration 43/72: 4/RadialFiltration_38_38\n",
      "RGB images received. Transforming to grayscale.\n"
     ]
    },
    {
     "name": "stderr",
     "output_type": "stream",
     "text": [
      "rgb2gray: 100%|██████████| 3925/3925 [00:00<00:00, 10168.38it/s]\n"
     ]
    },
    {
     "name": "stdout",
     "output_type": "stream",
     "text": [
      "Got the result from ./1/64/test/filtrations/4/RadialFiltration_38_38/gray/features.npy\n",
      "Got the result from ./1/64/test/filtrations/4/RadialFiltration_38_38/red/features.npy\n",
      "Got the result from ./1/64/test/filtrations/4/RadialFiltration_38_38/green/features.npy\n",
      "Got the result from ./1/64/test/filtrations/4/RadialFiltration_38_38/blue/features.npy\n",
      "Applying filtration 44/72: 4/RadialFiltration_38_51\n",
      "RGB images received. Transforming to grayscale.\n"
     ]
    },
    {
     "name": "stderr",
     "output_type": "stream",
     "text": [
      "rgb2gray: 100%|██████████| 3925/3925 [00:00<00:00, 9457.82it/s]\n"
     ]
    },
    {
     "name": "stdout",
     "output_type": "stream",
     "text": [
      "Got the result from ./1/64/test/filtrations/4/RadialFiltration_38_51/gray/features.npy\n",
      "Got the result from ./1/64/test/filtrations/4/RadialFiltration_38_51/red/features.npy\n",
      "Got the result from ./1/64/test/filtrations/4/RadialFiltration_38_51/green/features.npy\n",
      "Got the result from ./1/64/test/filtrations/4/RadialFiltration_38_51/blue/features.npy\n",
      "Applying filtration 45/72: 4/RadialFiltration_51_12\n",
      "RGB images received. Transforming to grayscale.\n"
     ]
    },
    {
     "name": "stderr",
     "output_type": "stream",
     "text": [
      "rgb2gray: 100%|██████████| 3925/3925 [00:00<00:00, 9652.87it/s]\n"
     ]
    },
    {
     "name": "stdout",
     "output_type": "stream",
     "text": [
      "Got the result from ./1/64/test/filtrations/4/RadialFiltration_51_12/gray/features.npy\n",
      "Got the result from ./1/64/test/filtrations/4/RadialFiltration_51_12/red/features.npy\n",
      "Got the result from ./1/64/test/filtrations/4/RadialFiltration_51_12/green/features.npy\n",
      "Got the result from ./1/64/test/filtrations/4/RadialFiltration_51_12/blue/features.npy\n",
      "Applying filtration 46/72: 4/RadialFiltration_51_25\n",
      "RGB images received. Transforming to grayscale.\n"
     ]
    },
    {
     "name": "stderr",
     "output_type": "stream",
     "text": [
      "rgb2gray: 100%|██████████| 3925/3925 [00:00<00:00, 10221.37it/s]\n"
     ]
    },
    {
     "name": "stdout",
     "output_type": "stream",
     "text": [
      "Got the result from ./1/64/test/filtrations/4/RadialFiltration_51_25/gray/features.npy\n",
      "Got the result from ./1/64/test/filtrations/4/RadialFiltration_51_25/red/features.npy\n",
      "Got the result from ./1/64/test/filtrations/4/RadialFiltration_51_25/green/features.npy\n",
      "Got the result from ./1/64/test/filtrations/4/RadialFiltration_51_25/blue/features.npy\n",
      "Applying filtration 47/72: 4/RadialFiltration_51_38\n",
      "RGB images received. Transforming to grayscale.\n"
     ]
    },
    {
     "name": "stderr",
     "output_type": "stream",
     "text": [
      "rgb2gray: 100%|██████████| 3925/3925 [00:00<00:00, 9526.67it/s]\n"
     ]
    },
    {
     "name": "stdout",
     "output_type": "stream",
     "text": [
      "Got the result from ./1/64/test/filtrations/4/RadialFiltration_51_38/gray/features.npy\n",
      "Got the result from ./1/64/test/filtrations/4/RadialFiltration_51_38/red/features.npy\n",
      "Got the result from ./1/64/test/filtrations/4/RadialFiltration_51_38/green/features.npy\n",
      "Got the result from ./1/64/test/filtrations/4/RadialFiltration_51_38/blue/features.npy\n",
      "Applying filtration 48/72: 4/RadialFiltration_51_51\n",
      "RGB images received. Transforming to grayscale.\n"
     ]
    },
    {
     "name": "stderr",
     "output_type": "stream",
     "text": [
      "rgb2gray: 100%|██████████| 3925/3925 [00:00<00:00, 9715.30it/s]\n"
     ]
    },
    {
     "name": "stdout",
     "output_type": "stream",
     "text": [
      "Got the result from ./1/64/test/filtrations/4/RadialFiltration_51_51/gray/features.npy\n",
      "Got the result from ./1/64/test/filtrations/4/RadialFiltration_51_51/red/features.npy\n",
      "Got the result from ./1/64/test/filtrations/4/RadialFiltration_51_51/green/features.npy\n",
      "Got the result from ./1/64/test/filtrations/4/RadialFiltration_51_51/blue/features.npy\n",
      "Applying filtration 49/72: 6/HeightFiltrartion_-1_-1\n",
      "RGB images received. Transforming to grayscale.\n"
     ]
    },
    {
     "name": "stderr",
     "output_type": "stream",
     "text": [
      "rgb2gray: 100%|██████████| 3925/3925 [00:00<00:00, 9690.60it/s]\n"
     ]
    },
    {
     "name": "stdout",
     "output_type": "stream",
     "text": [
      "Got the result from ./1/64/test/filtrations/6/HeightFiltrartion_-1_-1/gray/features.npy\n",
      "Got the result from ./1/64/test/filtrations/6/HeightFiltrartion_-1_-1/red/features.npy\n",
      "Got the result from ./1/64/test/filtrations/6/HeightFiltrartion_-1_-1/green/features.npy\n",
      "Got the result from ./1/64/test/filtrations/6/HeightFiltrartion_-1_-1/blue/features.npy\n",
      "Applying filtration 50/72: 6/HeightFiltrartion_1_1\n",
      "RGB images received. Transforming to grayscale.\n"
     ]
    },
    {
     "name": "stderr",
     "output_type": "stream",
     "text": [
      "rgb2gray: 100%|██████████| 3925/3925 [00:00<00:00, 10274.90it/s]\n"
     ]
    },
    {
     "name": "stdout",
     "output_type": "stream",
     "text": [
      "Got the result from ./1/64/test/filtrations/6/HeightFiltrartion_1_1/gray/features.npy\n",
      "Got the result from ./1/64/test/filtrations/6/HeightFiltrartion_1_1/red/features.npy\n",
      "Got the result from ./1/64/test/filtrations/6/HeightFiltrartion_1_1/green/features.npy\n",
      "Got the result from ./1/64/test/filtrations/6/HeightFiltrartion_1_1/blue/features.npy\n",
      "Applying filtration 51/72: 6/HeightFiltrartion_1_-1\n",
      "RGB images received. Transforming to grayscale.\n"
     ]
    },
    {
     "name": "stderr",
     "output_type": "stream",
     "text": [
      "rgb2gray: 100%|██████████| 3925/3925 [00:00<00:00, 9836.08it/s]\n"
     ]
    },
    {
     "name": "stdout",
     "output_type": "stream",
     "text": [
      "Got the result from ./1/64/test/filtrations/6/HeightFiltrartion_1_-1/gray/features.npy\n",
      "Got the result from ./1/64/test/filtrations/6/HeightFiltrartion_1_-1/red/features.npy\n",
      "Got the result from ./1/64/test/filtrations/6/HeightFiltrartion_1_-1/green/features.npy\n",
      "Got the result from ./1/64/test/filtrations/6/HeightFiltrartion_1_-1/blue/features.npy\n",
      "Applying filtration 52/72: 6/HeightFiltrartion_-1_1\n",
      "RGB images received. Transforming to grayscale.\n"
     ]
    },
    {
     "name": "stderr",
     "output_type": "stream",
     "text": [
      "rgb2gray: 100%|██████████| 3925/3925 [00:00<00:00, 10328.98it/s]\n"
     ]
    },
    {
     "name": "stdout",
     "output_type": "stream",
     "text": [
      "Got the result from ./1/64/test/filtrations/6/HeightFiltrartion_-1_1/gray/features.npy\n",
      "Got the result from ./1/64/test/filtrations/6/HeightFiltrartion_-1_1/red/features.npy\n",
      "Got the result from ./1/64/test/filtrations/6/HeightFiltrartion_-1_1/green/features.npy\n",
      "Got the result from ./1/64/test/filtrations/6/HeightFiltrartion_-1_1/blue/features.npy\n",
      "Applying filtration 53/72: 6/HeightFiltrartion_0_-1\n",
      "RGB images received. Transforming to grayscale.\n"
     ]
    },
    {
     "name": "stderr",
     "output_type": "stream",
     "text": [
      "rgb2gray: 100%|██████████| 3925/3925 [00:00<00:00, 10438.84it/s]\n"
     ]
    },
    {
     "name": "stdout",
     "output_type": "stream",
     "text": [
      "Got the result from ./1/64/test/filtrations/6/HeightFiltrartion_0_-1/gray/features.npy\n",
      "Got the result from ./1/64/test/filtrations/6/HeightFiltrartion_0_-1/red/features.npy\n",
      "Got the result from ./1/64/test/filtrations/6/HeightFiltrartion_0_-1/green/features.npy\n",
      "Got the result from ./1/64/test/filtrations/6/HeightFiltrartion_0_-1/blue/features.npy\n",
      "Applying filtration 54/72: 6/HeightFiltrartion_0_1\n",
      "RGB images received. Transforming to grayscale.\n"
     ]
    },
    {
     "name": "stderr",
     "output_type": "stream",
     "text": [
      "rgb2gray: 100%|██████████| 3925/3925 [00:00<00:00, 10012.77it/s]\n"
     ]
    },
    {
     "name": "stdout",
     "output_type": "stream",
     "text": [
      "Got the result from ./1/64/test/filtrations/6/HeightFiltrartion_0_1/gray/features.npy\n",
      "Got the result from ./1/64/test/filtrations/6/HeightFiltrartion_0_1/red/features.npy\n",
      "Got the result from ./1/64/test/filtrations/6/HeightFiltrartion_0_1/green/features.npy\n",
      "Got the result from ./1/64/test/filtrations/6/HeightFiltrartion_0_1/blue/features.npy\n",
      "Applying filtration 55/72: 6/HeightFiltrartion_-1_0\n",
      "RGB images received. Transforming to grayscale.\n"
     ]
    },
    {
     "name": "stderr",
     "output_type": "stream",
     "text": [
      "rgb2gray: 100%|██████████| 3925/3925 [00:00<00:00, 10248.05it/s]\n"
     ]
    },
    {
     "name": "stdout",
     "output_type": "stream",
     "text": [
      "Got the result from ./1/64/test/filtrations/6/HeightFiltrartion_-1_0/gray/features.npy\n",
      "Got the result from ./1/64/test/filtrations/6/HeightFiltrartion_-1_0/red/features.npy\n",
      "Got the result from ./1/64/test/filtrations/6/HeightFiltrartion_-1_0/green/features.npy\n",
      "Got the result from ./1/64/test/filtrations/6/HeightFiltrartion_-1_0/blue/features.npy\n",
      "Applying filtration 56/72: 6/HeightFiltrartion_1_0\n",
      "RGB images received. Transforming to grayscale.\n"
     ]
    },
    {
     "name": "stderr",
     "output_type": "stream",
     "text": [
      "rgb2gray: 100%|██████████| 3925/3925 [00:00<00:00, 9606.68it/s]\n"
     ]
    },
    {
     "name": "stdout",
     "output_type": "stream",
     "text": [
      "Got the result from ./1/64/test/filtrations/6/HeightFiltrartion_1_0/gray/features.npy\n",
      "Got the result from ./1/64/test/filtrations/6/HeightFiltrartion_1_0/red/features.npy\n",
      "Got the result from ./1/64/test/filtrations/6/HeightFiltrartion_1_0/green/features.npy\n",
      "Got the result from ./1/64/test/filtrations/6/HeightFiltrartion_1_0/blue/features.npy\n",
      "Applying filtration 57/72: 6/RadialFiltration_12_12\n",
      "RGB images received. Transforming to grayscale.\n"
     ]
    },
    {
     "name": "stderr",
     "output_type": "stream",
     "text": [
      "rgb2gray: 100%|██████████| 3925/3925 [00:00<00:00, 10012.77it/s]\n"
     ]
    },
    {
     "name": "stdout",
     "output_type": "stream",
     "text": [
      "Got the result from ./1/64/test/filtrations/6/RadialFiltration_12_12/gray/features.npy\n",
      "Got the result from ./1/64/test/filtrations/6/RadialFiltration_12_12/red/features.npy\n",
      "Got the result from ./1/64/test/filtrations/6/RadialFiltration_12_12/green/features.npy\n",
      "Got the result from ./1/64/test/filtrations/6/RadialFiltration_12_12/blue/features.npy\n",
      "Applying filtration 58/72: 6/RadialFiltration_12_25\n",
      "RGB images received. Transforming to grayscale.\n"
     ]
    },
    {
     "name": "stderr",
     "output_type": "stream",
     "text": [
      "rgb2gray: 100%|██████████| 3925/3925 [00:00<00:00, 9961.89it/s]\n"
     ]
    },
    {
     "name": "stdout",
     "output_type": "stream",
     "text": [
      "Got the result from ./1/64/test/filtrations/6/RadialFiltration_12_25/gray/features.npy\n",
      "Got the result from ./1/64/test/filtrations/6/RadialFiltration_12_25/red/features.npy\n",
      "Got the result from ./1/64/test/filtrations/6/RadialFiltration_12_25/green/features.npy\n",
      "Got the result from ./1/64/test/filtrations/6/RadialFiltration_12_25/blue/features.npy\n",
      "Applying filtration 59/72: 6/RadialFiltration_12_38\n",
      "RGB images received. Transforming to grayscale.\n"
     ]
    },
    {
     "name": "stderr",
     "output_type": "stream",
     "text": [
      "rgb2gray: 100%|██████████| 3925/3925 [00:00<00:00, 8055.52it/s]\n"
     ]
    },
    {
     "name": "stdout",
     "output_type": "stream",
     "text": [
      "Got the result from ./1/64/test/filtrations/6/RadialFiltration_12_38/gray/features.npy\n",
      "Got the result from ./1/64/test/filtrations/6/RadialFiltration_12_38/red/features.npy\n",
      "Got the result from ./1/64/test/filtrations/6/RadialFiltration_12_38/green/features.npy\n",
      "Got the result from ./1/64/test/filtrations/6/RadialFiltration_12_38/blue/features.npy\n",
      "Applying filtration 60/72: 6/RadialFiltration_12_51\n",
      "RGB images received. Transforming to grayscale.\n"
     ]
    },
    {
     "name": "stderr",
     "output_type": "stream",
     "text": [
      "rgb2gray: 100%|██████████| 3925/3925 [00:00<00:00, 10234.50it/s]\n"
     ]
    },
    {
     "name": "stdout",
     "output_type": "stream",
     "text": [
      "Got the result from ./1/64/test/filtrations/6/RadialFiltration_12_51/gray/features.npy\n",
      "Got the result from ./1/64/test/filtrations/6/RadialFiltration_12_51/red/features.npy\n",
      "Got the result from ./1/64/test/filtrations/6/RadialFiltration_12_51/green/features.npy\n",
      "Got the result from ./1/64/test/filtrations/6/RadialFiltration_12_51/blue/features.npy\n",
      "Applying filtration 61/72: 6/RadialFiltration_25_12\n",
      "RGB images received. Transforming to grayscale.\n"
     ]
    },
    {
     "name": "stderr",
     "output_type": "stream",
     "text": [
      "rgb2gray: 100%|██████████| 3925/3925 [00:00<00:00, 9573.20it/s]\n"
     ]
    },
    {
     "name": "stdout",
     "output_type": "stream",
     "text": [
      "Got the result from ./1/64/test/filtrations/6/RadialFiltration_25_12/gray/features.npy\n",
      "Got the result from ./1/64/test/filtrations/6/RadialFiltration_25_12/red/features.npy\n",
      "Got the result from ./1/64/test/filtrations/6/RadialFiltration_25_12/green/features.npy\n",
      "Got the result from ./1/64/test/filtrations/6/RadialFiltration_25_12/blue/features.npy\n",
      "Applying filtration 62/72: 6/RadialFiltration_25_25\n",
      "RGB images received. Transforming to grayscale.\n"
     ]
    },
    {
     "name": "stderr",
     "output_type": "stream",
     "text": [
      "rgb2gray: 100%|██████████| 3925/3925 [00:00<00:00, 10248.38it/s]\n"
     ]
    },
    {
     "name": "stdout",
     "output_type": "stream",
     "text": [
      "Got the result from ./1/64/test/filtrations/6/RadialFiltration_25_25/gray/features.npy\n",
      "Got the result from ./1/64/test/filtrations/6/RadialFiltration_25_25/red/features.npy\n",
      "Got the result from ./1/64/test/filtrations/6/RadialFiltration_25_25/green/features.npy\n",
      "Got the result from ./1/64/test/filtrations/6/RadialFiltration_25_25/blue/features.npy\n",
      "Applying filtration 63/72: 6/RadialFiltration_25_38\n",
      "RGB images received. Transforming to grayscale.\n"
     ]
    },
    {
     "name": "stderr",
     "output_type": "stream",
     "text": [
      "rgb2gray: 100%|██████████| 3925/3925 [00:00<00:00, 9596.54it/s]\n"
     ]
    },
    {
     "name": "stdout",
     "output_type": "stream",
     "text": [
      "Got the result from ./1/64/test/filtrations/6/RadialFiltration_25_38/gray/features.npy\n",
      "Got the result from ./1/64/test/filtrations/6/RadialFiltration_25_38/red/features.npy\n",
      "Got the result from ./1/64/test/filtrations/6/RadialFiltration_25_38/green/features.npy\n",
      "Got the result from ./1/64/test/filtrations/6/RadialFiltration_25_38/blue/features.npy\n",
      "Applying filtration 64/72: 6/RadialFiltration_25_51\n",
      "RGB images received. Transforming to grayscale.\n"
     ]
    },
    {
     "name": "stderr",
     "output_type": "stream",
     "text": [
      "rgb2gray: 100%|██████████| 3925/3925 [00:00<00:00, 9598.66it/s]\n"
     ]
    },
    {
     "name": "stdout",
     "output_type": "stream",
     "text": [
      "Got the result from ./1/64/test/filtrations/6/RadialFiltration_25_51/gray/features.npy\n",
      "Got the result from ./1/64/test/filtrations/6/RadialFiltration_25_51/red/features.npy\n",
      "Got the result from ./1/64/test/filtrations/6/RadialFiltration_25_51/green/features.npy\n",
      "Got the result from ./1/64/test/filtrations/6/RadialFiltration_25_51/blue/features.npy\n",
      "Applying filtration 65/72: 6/RadialFiltration_38_12\n",
      "RGB images received. Transforming to grayscale.\n"
     ]
    },
    {
     "name": "stderr",
     "output_type": "stream",
     "text": [
      "rgb2gray: 100%|██████████| 3925/3925 [00:00<00:00, 9911.56it/s]\n"
     ]
    },
    {
     "name": "stdout",
     "output_type": "stream",
     "text": [
      "Got the result from ./1/64/test/filtrations/6/RadialFiltration_38_12/gray/features.npy\n",
      "Got the result from ./1/64/test/filtrations/6/RadialFiltration_38_12/red/features.npy\n",
      "Got the result from ./1/64/test/filtrations/6/RadialFiltration_38_12/green/features.npy\n",
      "Got the result from ./1/64/test/filtrations/6/RadialFiltration_38_12/blue/features.npy\n",
      "Applying filtration 66/72: 6/RadialFiltration_38_25\n",
      "RGB images received. Transforming to grayscale.\n"
     ]
    },
    {
     "name": "stderr",
     "output_type": "stream",
     "text": [
      "rgb2gray: 100%|██████████| 3925/3925 [00:00<00:00, 9691.35it/s]\n"
     ]
    },
    {
     "name": "stdout",
     "output_type": "stream",
     "text": [
      "Got the result from ./1/64/test/filtrations/6/RadialFiltration_38_25/gray/features.npy\n",
      "Got the result from ./1/64/test/filtrations/6/RadialFiltration_38_25/red/features.npy\n",
      "Got the result from ./1/64/test/filtrations/6/RadialFiltration_38_25/green/features.npy\n",
      "Got the result from ./1/64/test/filtrations/6/RadialFiltration_38_25/blue/features.npy\n",
      "Applying filtration 67/72: 6/RadialFiltration_38_38\n",
      "RGB images received. Transforming to grayscale.\n"
     ]
    },
    {
     "name": "stderr",
     "output_type": "stream",
     "text": [
      "rgb2gray: 100%|██████████| 3925/3925 [00:00<00:00, 9861.82it/s]\n"
     ]
    },
    {
     "name": "stdout",
     "output_type": "stream",
     "text": [
      "Got the result from ./1/64/test/filtrations/6/RadialFiltration_38_38/gray/features.npy\n",
      "Got the result from ./1/64/test/filtrations/6/RadialFiltration_38_38/red/features.npy\n",
      "Got the result from ./1/64/test/filtrations/6/RadialFiltration_38_38/green/features.npy\n",
      "Got the result from ./1/64/test/filtrations/6/RadialFiltration_38_38/blue/features.npy\n",
      "Applying filtration 68/72: 6/RadialFiltration_38_51\n",
      "RGB images received. Transforming to grayscale.\n"
     ]
    },
    {
     "name": "stderr",
     "output_type": "stream",
     "text": [
      "rgb2gray: 100%|██████████| 3925/3925 [00:00<00:00, 9788.05it/s]\n"
     ]
    },
    {
     "name": "stdout",
     "output_type": "stream",
     "text": [
      "Got the result from ./1/64/test/filtrations/6/RadialFiltration_38_51/gray/features.npy\n",
      "Got the result from ./1/64/test/filtrations/6/RadialFiltration_38_51/red/features.npy\n",
      "Got the result from ./1/64/test/filtrations/6/RadialFiltration_38_51/green/features.npy\n",
      "Got the result from ./1/64/test/filtrations/6/RadialFiltration_38_51/blue/features.npy\n",
      "Applying filtration 69/72: 6/RadialFiltration_51_12\n",
      "RGB images received. Transforming to grayscale.\n"
     ]
    },
    {
     "name": "stderr",
     "output_type": "stream",
     "text": [
      "rgb2gray: 100%|██████████| 3925/3925 [00:00<00:00, 10195.87it/s]\n"
     ]
    },
    {
     "name": "stdout",
     "output_type": "stream",
     "text": [
      "Got the result from ./1/64/test/filtrations/6/RadialFiltration_51_12/gray/features.npy\n",
      "Got the result from ./1/64/test/filtrations/6/RadialFiltration_51_12/red/features.npy\n",
      "Got the result from ./1/64/test/filtrations/6/RadialFiltration_51_12/green/features.npy\n",
      "Got the result from ./1/64/test/filtrations/6/RadialFiltration_51_12/blue/features.npy\n",
      "Applying filtration 70/72: 6/RadialFiltration_51_25\n",
      "RGB images received. Transforming to grayscale.\n"
     ]
    },
    {
     "name": "stderr",
     "output_type": "stream",
     "text": [
      "rgb2gray: 100%|██████████| 3925/3925 [00:00<00:00, 9149.16it/s]\n"
     ]
    },
    {
     "name": "stdout",
     "output_type": "stream",
     "text": [
      "Got the result from ./1/64/test/filtrations/6/RadialFiltration_51_25/gray/features.npy\n",
      "Got the result from ./1/64/test/filtrations/6/RadialFiltration_51_25/red/features.npy\n",
      "Got the result from ./1/64/test/filtrations/6/RadialFiltration_51_25/green/features.npy\n",
      "Got the result from ./1/64/test/filtrations/6/RadialFiltration_51_25/blue/features.npy\n",
      "Applying filtration 71/72: 6/RadialFiltration_51_38\n",
      "RGB images received. Transforming to grayscale.\n"
     ]
    },
    {
     "name": "stderr",
     "output_type": "stream",
     "text": [
      "rgb2gray: 100%|██████████| 3925/3925 [00:00<00:00, 9906.38it/s]\n"
     ]
    },
    {
     "name": "stdout",
     "output_type": "stream",
     "text": [
      "Got the result from ./1/64/test/filtrations/6/RadialFiltration_51_38/gray/features.npy\n",
      "Got the result from ./1/64/test/filtrations/6/RadialFiltration_51_38/red/features.npy\n",
      "Got the result from ./1/64/test/filtrations/6/RadialFiltration_51_38/green/features.npy\n",
      "Got the result from ./1/64/test/filtrations/6/RadialFiltration_51_38/blue/features.npy\n",
      "Applying filtration 72/72: 6/RadialFiltration_51_51\n",
      "RGB images received. Transforming to grayscale.\n"
     ]
    },
    {
     "name": "stderr",
     "output_type": "stream",
     "text": [
      "rgb2gray: 100%|██████████| 3925/3925 [00:00<00:00, 10038.40it/s]\n"
     ]
    },
    {
     "name": "stdout",
     "output_type": "stream",
     "text": [
      "Got the result from ./1/64/test/filtrations/6/RadialFiltration_51_51/gray/features.npy\n",
      "Got the result from ./1/64/test/filtrations/6/RadialFiltration_51_51/red/features.npy\n",
      "Got the result from ./1/64/test/filtrations/6/RadialFiltration_51_51/green/features.npy\n",
      "Got the result from ./1/64/test/filtrations/6/RadialFiltration_51_51/blue/features.npy\n",
      "RGB images received. Transforming to grayscale.\n",
      "Got the result from ./1/64/test/geometry/rgb/features.npy\n"
     ]
    },
    {
     "name": "stderr",
     "output_type": "stream",
     "text": [
      "rgb2gray: 100%|██████████| 3925/3925 [00:00<00:00, 9620.11it/s]\n"
     ]
    },
    {
     "name": "stdout",
     "output_type": "stream",
     "text": [
      "Got the result from ./1/64/test/geometry/gray/features.npy\n",
      "Got the result from ./1/64/test/geometry/red/features.npy\n",
      "Got the result from ./1/64/test/geometry/green/features.npy\n",
      "Got the result from ./1/64/test/geometry/blue/features.npy\n",
      "Applying StandardScaler.\n"
     ]
    }
   ],
   "source": [
    "import cvtda.topology\n",
    "extractor = cvtda.topology.FeatureExtractor(only_get_from_dump = True, return_diagrams = False)\n",
    "extractor = extractor.fit(train_images, \"1/64/train\")\n",
    "train_features = extractor.transform(train_images, \"1/64/train\")\n",
    "test_features = extractor.transform(test_images, \"1/64/test\")"
   ]
  },
  {
   "cell_type": "code",
   "execution_count": null,
   "metadata": {},
   "outputs": [],
   "source": [
    "import cvtda.topology\n",
    "extractor = cvtda.topology.FeatureExtractor(only_get_from_dump = True, return_diagrams = True)\n",
    "extractor = extractor.fit(train_images, \"1/64/train\")\n",
    "train_diagrams = extractor.transform(train_images, \"1/64/train\")\n",
    "test_diagrams = extractor.transform(test_images, \"1/64/test\")"
   ]
  },
  {
   "cell_type": "code",
   "execution_count": 3,
   "metadata": {},
   "outputs": [
    {
     "name": "stdout",
     "output_type": "stream",
     "text": [
      "Trying features - <cvtda.autoencoder.Autoencoder.Autoencoder object at 0x0000018BB7DF0880>\n",
      "Got the result from ./2/predictions/features_decoded.npy\n",
      "{'model': 'Топологические признаки', 'MAE': 1561.987755121883, 'MSE': 385.76061934648413}\n",
      "Trying images - <cvtda.autoencoder.Autoencoder.Autoencoder object at 0x0000018BB6CBF940>\n",
      "Got the result from ./2/predictions/images_decoded.npy\n",
      "{'model': 'ResNet50 – базовая модель', 'MAE': 2052.319287875834, 'MSE': 542.867493640831}\n",
      "Trying features_images - <cvtda.autoencoder.Autoencoder.Autoencoder object at 0x0000018C70023550>\n",
      "Got the result from ./2/predictions/features_images_decoded.npy\n",
      "{'model': 'Комбинированная нейронная сеть', 'MAE': 1692.7206900808678, 'MSE': 393.18920813287923}\n",
      "Skipping diagrams - <cvtda.autoencoder.Autoencoder.Autoencoder object at 0x0000018C70021E40>\n"
     ]
    },
    {
     "data": {
      "text/html": [
       "<div>\n",
       "<style scoped>\n",
       "    .dataframe tbody tr th:only-of-type {\n",
       "        vertical-align: middle;\n",
       "    }\n",
       "\n",
       "    .dataframe tbody tr th {\n",
       "        vertical-align: top;\n",
       "    }\n",
       "\n",
       "    .dataframe thead th {\n",
       "        text-align: right;\n",
       "    }\n",
       "</style>\n",
       "<table border=\"1\" class=\"dataframe\">\n",
       "  <thead>\n",
       "    <tr style=\"text-align: right;\">\n",
       "      <th></th>\n",
       "      <th>model</th>\n",
       "      <th>MAE</th>\n",
       "      <th>MSE</th>\n",
       "    </tr>\n",
       "  </thead>\n",
       "  <tbody>\n",
       "    <tr>\n",
       "      <th>0</th>\n",
       "      <td>Топологические признаки</td>\n",
       "      <td>1561.987755</td>\n",
       "      <td>385.760619</td>\n",
       "    </tr>\n",
       "    <tr>\n",
       "      <th>1</th>\n",
       "      <td>ResNet50 – базовая модель</td>\n",
       "      <td>2052.319288</td>\n",
       "      <td>542.867494</td>\n",
       "    </tr>\n",
       "    <tr>\n",
       "      <th>2</th>\n",
       "      <td>Комбинированная нейронная сеть</td>\n",
       "      <td>1692.720690</td>\n",
       "      <td>393.189208</td>\n",
       "    </tr>\n",
       "    <tr>\n",
       "      <th>3</th>\n",
       "      <td>NaN</td>\n",
       "      <td>NaN</td>\n",
       "      <td>NaN</td>\n",
       "    </tr>\n",
       "  </tbody>\n",
       "</table>\n",
       "</div>"
      ],
      "text/plain": [
       "                            model          MAE         MSE\n",
       "0         Топологические признаки  1561.987755  385.760619\n",
       "1       ResNet50 – базовая модель  2052.319288  542.867494\n",
       "2  Комбинированная нейронная сеть  1692.720690  393.189208\n",
       "3                             NaN          NaN         NaN"
      ]
     },
     "execution_count": 3,
     "metadata": {},
     "output_type": "execute_result"
    }
   ],
   "source": [
    "import cvtda.autoencoder\n",
    "\n",
    "cvtda.autoencoder.try_autoencoders(\n",
    "    train_images, train_features, None,\n",
    "    test_images, test_features, None,\n",
    "    dump_name = \"2/predictions\", only_get_from_dump = False\n",
    ")"
   ]
  }
 ],
 "metadata": {
  "kernelspec": {
   "display_name": "Python 3",
   "language": "python",
   "name": "python3"
  },
  "language_info": {
   "codemirror_mode": {
    "name": "ipython",
    "version": 3
   },
   "file_extension": ".py",
   "mimetype": "text/x-python",
   "name": "python",
   "nbconvert_exporter": "python",
   "pygments_lexer": "ipython3",
   "version": "3.10.11"
  }
 },
 "nbformat": 4,
 "nbformat_minor": 2
}
