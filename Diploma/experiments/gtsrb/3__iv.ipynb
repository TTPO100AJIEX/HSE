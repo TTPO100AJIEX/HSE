{
 "cells": [
  {
   "cell_type": "code",
   "execution_count": 1,
   "metadata": {},
   "outputs": [
    {
     "name": "stderr",
     "output_type": "stream",
     "text": [
      "100%|██████████| 26640/26640 [03:08<00:00, 141.21it/s]\n",
      "100%|██████████| 12630/12630 [01:32<00:00, 137.01it/s]\n"
     ]
    }
   ],
   "source": [
    "import numpy\n",
    "import torchvision\n",
    "import torchvision.transforms.v2\n",
    "\n",
    "transform = torchvision.transforms.v2.Compose([\n",
    "    torchvision.transforms.v2.Resize((64, 64), antialias = True)\n",
    "])\n",
    "\n",
    "train = torchvision.datasets.GTSRB('gtsrb', split = 'train', transform = transform, download = False)\n",
    "test = torchvision.datasets.GTSRB('gtsrb', split = 'test', transform = transform, download = False)\n",
    "\n",
    "import tqdm\n",
    "\n",
    "train_images = numpy.array([ numpy.array(item[0]) / 255 for item in tqdm.tqdm(train) ])\n",
    "train_labels = numpy.array([ item[1] for item in train ])\n",
    "\n",
    "test_images = numpy.array([ numpy.array(item[0]) / 255 for item in tqdm.tqdm(test) ])\n",
    "test_labels = numpy.array([ item[1] for item in test ])"
   ]
  },
  {
   "cell_type": "code",
   "execution_count": 2,
   "metadata": {},
   "outputs": [
    {
     "name": "stdout",
     "output_type": "stream",
     "text": [
      "Calculating inverted images\n",
      "RGB images received. Transforming to grayscale.\n"
     ]
    },
    {
     "name": "stderr",
     "output_type": "stream",
     "text": [
      "rgb2gray: 100%|██████████| 26640/26640 [00:08<00:00, 3319.84it/s]\n"
     ]
    },
    {
     "name": "stdout",
     "output_type": "stream",
     "text": [
      "GreyscaleExtractor: processing 1/train/greyscale/gray, do_fit = True\n",
      "Got the result from ./1/train/greyscale/gray/diagrams.npy\n",
      "Applying Scaler to persistence diagrams.\n",
      "DiagramVectorizer: fitting complete\n",
      "Got the result from ./1/train/greyscale/gray/features.npy\n",
      "GreyscaleExtractor: processing 1/train/greyscale/gray, do_fit = False\n",
      "Got the result from ./1/train/greyscale/gray/diagrams.npy\n",
      "Applying Scaler to persistence diagrams.\n",
      "Got the result from ./1/train/greyscale/gray/features.npy\n",
      "GreyscaleExtractor: processing 1/train/greyscale/red, do_fit = True\n",
      "Got the result from ./1/train/greyscale/red/diagrams.npy\n",
      "Applying Scaler to persistence diagrams.\n",
      "DiagramVectorizer: fitting complete\n",
      "Got the result from ./1/train/greyscale/red/features.npy\n",
      "GreyscaleExtractor: processing 1/train/greyscale/red, do_fit = False\n",
      "Got the result from ./1/train/greyscale/red/diagrams.npy\n",
      "Applying Scaler to persistence diagrams.\n",
      "Got the result from ./1/train/greyscale/red/features.npy\n",
      "GreyscaleExtractor: processing 1/train/greyscale/green, do_fit = True\n",
      "Got the result from ./1/train/greyscale/green/diagrams.npy\n",
      "Applying Scaler to persistence diagrams.\n",
      "DiagramVectorizer: fitting complete\n",
      "Got the result from ./1/train/greyscale/green/features.npy\n",
      "GreyscaleExtractor: processing 1/train/greyscale/green, do_fit = False\n",
      "Got the result from ./1/train/greyscale/green/diagrams.npy\n",
      "Applying Scaler to persistence diagrams.\n",
      "Got the result from ./1/train/greyscale/green/features.npy\n",
      "GreyscaleExtractor: processing 1/train/greyscale/blue, do_fit = True\n",
      "Got the result from ./1/train/greyscale/blue/diagrams.npy\n",
      "Applying Scaler to persistence diagrams.\n",
      "DiagramVectorizer: fitting complete\n",
      "Got the result from ./1/train/greyscale/blue/features.npy\n",
      "GreyscaleExtractor: processing 1/train/greyscale/blue, do_fit = False\n",
      "Got the result from ./1/train/greyscale/blue/diagrams.npy\n",
      "Applying Scaler to persistence diagrams.\n",
      "Got the result from ./1/train/greyscale/blue/features.npy\n",
      "RGB images received. Transforming to grayscale.\n"
     ]
    },
    {
     "name": "stderr",
     "output_type": "stream",
     "text": [
      "rgb2gray: 100%|██████████| 26640/26640 [00:06<00:00, 3860.80it/s]\n"
     ]
    },
    {
     "name": "stdout",
     "output_type": "stream",
     "text": [
      "GreyscaleExtractor: processing 1/train/greyscale/gray, do_fit = False\n",
      "Got the result from ./1/train/greyscale/gray/diagrams.npy\n",
      "Applying Scaler to persistence diagrams.\n",
      "Got the result from ./1/train/greyscale/gray/features.npy\n",
      "GreyscaleExtractor: processing 1/train/greyscale/red, do_fit = False\n",
      "Got the result from ./1/train/greyscale/red/diagrams.npy\n",
      "Applying Scaler to persistence diagrams.\n",
      "Got the result from ./1/train/greyscale/red/features.npy\n",
      "GreyscaleExtractor: processing 1/train/greyscale/green, do_fit = False\n",
      "Got the result from ./1/train/greyscale/green/diagrams.npy\n",
      "Applying Scaler to persistence diagrams.\n",
      "Got the result from ./1/train/greyscale/green/features.npy\n",
      "GreyscaleExtractor: processing 1/train/greyscale/blue, do_fit = False\n",
      "Got the result from ./1/train/greyscale/blue/diagrams.npy\n",
      "Applying Scaler to persistence diagrams.\n",
      "Got the result from ./1/train/greyscale/blue/features.npy\n",
      "RGB images received. Transforming to grayscale.\n"
     ]
    },
    {
     "name": "stderr",
     "output_type": "stream",
     "text": [
      "rgb2gray: 100%|██████████| 26640/26640 [00:07<00:00, 3655.44it/s]\n"
     ]
    },
    {
     "name": "stdout",
     "output_type": "stream",
     "text": [
      "GreyscaleExtractor: processing 1/train/inverted_greyscale/gray, do_fit = True\n",
      "Got the result from ./1/train/inverted_greyscale/gray/diagrams.npy\n",
      "Applying Scaler to persistence diagrams.\n",
      "DiagramVectorizer: fitting complete\n",
      "Got the result from ./1/train/inverted_greyscale/gray/features.npy\n",
      "GreyscaleExtractor: processing 1/train/inverted_greyscale/gray, do_fit = False\n",
      "Got the result from ./1/train/inverted_greyscale/gray/diagrams.npy\n",
      "Applying Scaler to persistence diagrams.\n",
      "Got the result from ./1/train/inverted_greyscale/gray/features.npy\n",
      "GreyscaleExtractor: processing 1/train/inverted_greyscale/red, do_fit = True\n",
      "Got the result from ./1/train/inverted_greyscale/red/diagrams.npy\n",
      "Applying Scaler to persistence diagrams.\n",
      "DiagramVectorizer: fitting complete\n",
      "Got the result from ./1/train/inverted_greyscale/red/features.npy\n",
      "GreyscaleExtractor: processing 1/train/inverted_greyscale/red, do_fit = False\n",
      "Got the result from ./1/train/inverted_greyscale/red/diagrams.npy\n",
      "Applying Scaler to persistence diagrams.\n",
      "Got the result from ./1/train/inverted_greyscale/red/features.npy\n",
      "GreyscaleExtractor: processing 1/train/inverted_greyscale/green, do_fit = True\n",
      "Got the result from ./1/train/inverted_greyscale/green/diagrams.npy\n",
      "Applying Scaler to persistence diagrams.\n",
      "DiagramVectorizer: fitting complete\n",
      "Got the result from ./1/train/inverted_greyscale/green/features.npy\n",
      "GreyscaleExtractor: processing 1/train/inverted_greyscale/green, do_fit = False\n",
      "Got the result from ./1/train/inverted_greyscale/green/diagrams.npy\n",
      "Applying Scaler to persistence diagrams.\n",
      "Got the result from ./1/train/inverted_greyscale/green/features.npy\n",
      "GreyscaleExtractor: processing 1/train/inverted_greyscale/blue, do_fit = True\n",
      "Got the result from ./1/train/inverted_greyscale/blue/diagrams.npy\n",
      "Applying Scaler to persistence diagrams.\n",
      "DiagramVectorizer: fitting complete\n",
      "Got the result from ./1/train/inverted_greyscale/blue/features.npy\n",
      "GreyscaleExtractor: processing 1/train/inverted_greyscale/blue, do_fit = False\n",
      "Got the result from ./1/train/inverted_greyscale/blue/diagrams.npy\n",
      "Applying Scaler to persistence diagrams.\n",
      "Got the result from ./1/train/inverted_greyscale/blue/features.npy\n",
      "RGB images received. Transforming to grayscale.\n"
     ]
    },
    {
     "name": "stderr",
     "output_type": "stream",
     "text": [
      "rgb2gray: 100%|██████████| 26640/26640 [00:07<00:00, 3740.90it/s]\n"
     ]
    },
    {
     "name": "stdout",
     "output_type": "stream",
     "text": [
      "GreyscaleExtractor: processing 1/train/inverted_greyscale/gray, do_fit = False\n",
      "Got the result from ./1/train/inverted_greyscale/gray/diagrams.npy\n",
      "Applying Scaler to persistence diagrams.\n",
      "Got the result from ./1/train/inverted_greyscale/gray/features.npy\n",
      "GreyscaleExtractor: processing 1/train/inverted_greyscale/red, do_fit = False\n",
      "Got the result from ./1/train/inverted_greyscale/red/diagrams.npy\n",
      "Applying Scaler to persistence diagrams.\n",
      "Got the result from ./1/train/inverted_greyscale/red/features.npy\n",
      "GreyscaleExtractor: processing 1/train/inverted_greyscale/green, do_fit = False\n",
      "Got the result from ./1/train/inverted_greyscale/green/diagrams.npy\n",
      "Applying Scaler to persistence diagrams.\n",
      "Got the result from ./1/train/inverted_greyscale/green/features.npy\n",
      "GreyscaleExtractor: processing 1/train/inverted_greyscale/blue, do_fit = False\n",
      "Got the result from ./1/train/inverted_greyscale/blue/diagrams.npy\n",
      "Applying Scaler to persistence diagrams.\n",
      "Got the result from ./1/train/inverted_greyscale/blue/features.npy\n",
      "Fitting filtrations\n",
      "Fitting filtration 1/72: HeightFiltration with d = (-1, -1), bin. thr. = 0.2\n",
      "RGB images received. Transforming to grayscale.\n"
     ]
    },
    {
     "name": "stderr",
     "output_type": "stream",
     "text": [
      "rgb2gray: 100%|██████████| 26640/26640 [00:06<00:00, 3976.64it/s]\n"
     ]
    },
    {
     "name": "stdout",
     "output_type": "stream",
     "text": [
      "FiltrationExtractor: processing 1/train/filtrations/2/HeightFiltrartion_-1_-1/gray, do_fit = True, filtration = HeightFiltration(direction=array([-1, -1]), n_jobs=-1)\n",
      "Got the result from ./1/train/filtrations/2/HeightFiltrartion_-1_-1/gray/diagrams.npy\n",
      "Applying Scaler to persistence diagrams.\n",
      "DiagramVectorizer: fitting complete\n",
      "Got the result from ./1/train/filtrations/2/HeightFiltrartion_-1_-1/gray/features.npy\n",
      "FiltrationExtractor: processing 1/train/filtrations/2/HeightFiltrartion_-1_-1/gray, do_fit = False, filtration = HeightFiltration(direction=array([-1, -1]), n_jobs=-1)\n",
      "Got the result from ./1/train/filtrations/2/HeightFiltrartion_-1_-1/gray/diagrams.npy\n",
      "Applying Scaler to persistence diagrams.\n",
      "Got the result from ./1/train/filtrations/2/HeightFiltrartion_-1_-1/gray/features.npy\n",
      "FiltrationExtractor: processing 1/train/filtrations/2/HeightFiltrartion_-1_-1/red, do_fit = True, filtration = HeightFiltration(direction=array([-1, -1]), n_jobs=-1)\n",
      "Got the result from ./1/train/filtrations/2/HeightFiltrartion_-1_-1/red/diagrams.npy\n",
      "Applying Scaler to persistence diagrams.\n",
      "DiagramVectorizer: fitting complete\n",
      "Got the result from ./1/train/filtrations/2/HeightFiltrartion_-1_-1/red/features.npy\n",
      "FiltrationExtractor: processing 1/train/filtrations/2/HeightFiltrartion_-1_-1/red, do_fit = False, filtration = HeightFiltration(direction=array([-1, -1]), n_jobs=-1)\n",
      "Got the result from ./1/train/filtrations/2/HeightFiltrartion_-1_-1/red/diagrams.npy\n",
      "Applying Scaler to persistence diagrams.\n",
      "Got the result from ./1/train/filtrations/2/HeightFiltrartion_-1_-1/red/features.npy\n",
      "FiltrationExtractor: processing 1/train/filtrations/2/HeightFiltrartion_-1_-1/green, do_fit = True, filtration = HeightFiltration(direction=array([-1, -1]), n_jobs=-1)\n",
      "Got the result from ./1/train/filtrations/2/HeightFiltrartion_-1_-1/green/diagrams.npy\n",
      "Applying Scaler to persistence diagrams.\n",
      "DiagramVectorizer: fitting complete\n",
      "Got the result from ./1/train/filtrations/2/HeightFiltrartion_-1_-1/green/features.npy\n",
      "FiltrationExtractor: processing 1/train/filtrations/2/HeightFiltrartion_-1_-1/green, do_fit = False, filtration = HeightFiltration(direction=array([-1, -1]), n_jobs=-1)\n",
      "Got the result from ./1/train/filtrations/2/HeightFiltrartion_-1_-1/green/diagrams.npy\n",
      "Applying Scaler to persistence diagrams.\n",
      "Got the result from ./1/train/filtrations/2/HeightFiltrartion_-1_-1/green/features.npy\n",
      "FiltrationExtractor: processing 1/train/filtrations/2/HeightFiltrartion_-1_-1/blue, do_fit = True, filtration = HeightFiltration(direction=array([-1, -1]), n_jobs=-1)\n",
      "Got the result from ./1/train/filtrations/2/HeightFiltrartion_-1_-1/blue/diagrams.npy\n",
      "Applying Scaler to persistence diagrams.\n",
      "DiagramVectorizer: fitting complete\n",
      "Got the result from ./1/train/filtrations/2/HeightFiltrartion_-1_-1/blue/features.npy\n",
      "FiltrationExtractor: processing 1/train/filtrations/2/HeightFiltrartion_-1_-1/blue, do_fit = False, filtration = HeightFiltration(direction=array([-1, -1]), n_jobs=-1)\n",
      "Got the result from ./1/train/filtrations/2/HeightFiltrartion_-1_-1/blue/diagrams.npy\n",
      "Applying Scaler to persistence diagrams.\n",
      "Got the result from ./1/train/filtrations/2/HeightFiltrartion_-1_-1/blue/features.npy\n",
      "Fitting filtration 2/72: HeightFiltration with d = (-1, 0), bin. thr. = 0.2\n",
      "RGB images received. Transforming to grayscale.\n"
     ]
    },
    {
     "name": "stderr",
     "output_type": "stream",
     "text": [
      "rgb2gray: 100%|██████████| 26640/26640 [00:07<00:00, 3469.72it/s]\n"
     ]
    },
    {
     "name": "stdout",
     "output_type": "stream",
     "text": [
      "FiltrationExtractor: processing 1/train/filtrations/2/HeightFiltrartion_-1_0/gray, do_fit = True, filtration = HeightFiltration(direction=array([-1,  0]), n_jobs=-1)\n",
      "Got the result from ./1/train/filtrations/2/HeightFiltrartion_-1_0/gray/diagrams.npy\n",
      "Applying Scaler to persistence diagrams.\n",
      "DiagramVectorizer: fitting complete\n",
      "Got the result from ./1/train/filtrations/2/HeightFiltrartion_-1_0/gray/features.npy\n",
      "FiltrationExtractor: processing 1/train/filtrations/2/HeightFiltrartion_-1_0/gray, do_fit = False, filtration = HeightFiltration(direction=array([-1,  0]), n_jobs=-1)\n",
      "Got the result from ./1/train/filtrations/2/HeightFiltrartion_-1_0/gray/diagrams.npy\n",
      "Applying Scaler to persistence diagrams.\n",
      "Got the result from ./1/train/filtrations/2/HeightFiltrartion_-1_0/gray/features.npy\n",
      "FiltrationExtractor: processing 1/train/filtrations/2/HeightFiltrartion_-1_0/red, do_fit = True, filtration = HeightFiltration(direction=array([-1,  0]), n_jobs=-1)\n",
      "Got the result from ./1/train/filtrations/2/HeightFiltrartion_-1_0/red/diagrams.npy\n",
      "Applying Scaler to persistence diagrams.\n",
      "DiagramVectorizer: fitting complete\n",
      "Got the result from ./1/train/filtrations/2/HeightFiltrartion_-1_0/red/features.npy\n",
      "FiltrationExtractor: processing 1/train/filtrations/2/HeightFiltrartion_-1_0/red, do_fit = False, filtration = HeightFiltration(direction=array([-1,  0]), n_jobs=-1)\n",
      "Got the result from ./1/train/filtrations/2/HeightFiltrartion_-1_0/red/diagrams.npy\n",
      "Applying Scaler to persistence diagrams.\n",
      "Got the result from ./1/train/filtrations/2/HeightFiltrartion_-1_0/red/features.npy\n",
      "FiltrationExtractor: processing 1/train/filtrations/2/HeightFiltrartion_-1_0/green, do_fit = True, filtration = HeightFiltration(direction=array([-1,  0]), n_jobs=-1)\n",
      "Got the result from ./1/train/filtrations/2/HeightFiltrartion_-1_0/green/diagrams.npy\n",
      "Applying Scaler to persistence diagrams.\n",
      "DiagramVectorizer: fitting complete\n",
      "Got the result from ./1/train/filtrations/2/HeightFiltrartion_-1_0/green/features.npy\n",
      "FiltrationExtractor: processing 1/train/filtrations/2/HeightFiltrartion_-1_0/green, do_fit = False, filtration = HeightFiltration(direction=array([-1,  0]), n_jobs=-1)\n",
      "Got the result from ./1/train/filtrations/2/HeightFiltrartion_-1_0/green/diagrams.npy\n",
      "Applying Scaler to persistence diagrams.\n",
      "Got the result from ./1/train/filtrations/2/HeightFiltrartion_-1_0/green/features.npy\n",
      "FiltrationExtractor: processing 1/train/filtrations/2/HeightFiltrartion_-1_0/blue, do_fit = True, filtration = HeightFiltration(direction=array([-1,  0]), n_jobs=-1)\n",
      "Got the result from ./1/train/filtrations/2/HeightFiltrartion_-1_0/blue/diagrams.npy\n",
      "Applying Scaler to persistence diagrams.\n",
      "DiagramVectorizer: fitting complete\n",
      "Got the result from ./1/train/filtrations/2/HeightFiltrartion_-1_0/blue/features.npy\n",
      "FiltrationExtractor: processing 1/train/filtrations/2/HeightFiltrartion_-1_0/blue, do_fit = False, filtration = HeightFiltration(direction=array([-1,  0]), n_jobs=-1)\n",
      "Got the result from ./1/train/filtrations/2/HeightFiltrartion_-1_0/blue/diagrams.npy\n",
      "Applying Scaler to persistence diagrams.\n",
      "Got the result from ./1/train/filtrations/2/HeightFiltrartion_-1_0/blue/features.npy\n",
      "Fitting filtration 3/72: HeightFiltration with d = (-1, 1), bin. thr. = 0.2\n",
      "RGB images received. Transforming to grayscale.\n"
     ]
    },
    {
     "name": "stderr",
     "output_type": "stream",
     "text": [
      "rgb2gray: 100%|██████████| 26640/26640 [00:07<00:00, 3714.20it/s]\n"
     ]
    },
    {
     "name": "stdout",
     "output_type": "stream",
     "text": [
      "FiltrationExtractor: processing 1/train/filtrations/2/HeightFiltrartion_-1_1/gray, do_fit = True, filtration = HeightFiltration(direction=array([-1,  1]), n_jobs=-1)\n",
      "Got the result from ./1/train/filtrations/2/HeightFiltrartion_-1_1/gray/diagrams.npy\n",
      "Applying Scaler to persistence diagrams.\n",
      "DiagramVectorizer: fitting complete\n",
      "Got the result from ./1/train/filtrations/2/HeightFiltrartion_-1_1/gray/features.npy\n",
      "FiltrationExtractor: processing 1/train/filtrations/2/HeightFiltrartion_-1_1/gray, do_fit = False, filtration = HeightFiltration(direction=array([-1,  1]), n_jobs=-1)\n",
      "Got the result from ./1/train/filtrations/2/HeightFiltrartion_-1_1/gray/diagrams.npy\n",
      "Applying Scaler to persistence diagrams.\n",
      "Got the result from ./1/train/filtrations/2/HeightFiltrartion_-1_1/gray/features.npy\n",
      "FiltrationExtractor: processing 1/train/filtrations/2/HeightFiltrartion_-1_1/red, do_fit = True, filtration = HeightFiltration(direction=array([-1,  1]), n_jobs=-1)\n",
      "Got the result from ./1/train/filtrations/2/HeightFiltrartion_-1_1/red/diagrams.npy\n",
      "Applying Scaler to persistence diagrams.\n",
      "DiagramVectorizer: fitting complete\n",
      "Got the result from ./1/train/filtrations/2/HeightFiltrartion_-1_1/red/features.npy\n",
      "FiltrationExtractor: processing 1/train/filtrations/2/HeightFiltrartion_-1_1/red, do_fit = False, filtration = HeightFiltration(direction=array([-1,  1]), n_jobs=-1)\n",
      "Got the result from ./1/train/filtrations/2/HeightFiltrartion_-1_1/red/diagrams.npy\n",
      "Applying Scaler to persistence diagrams.\n",
      "Got the result from ./1/train/filtrations/2/HeightFiltrartion_-1_1/red/features.npy\n",
      "FiltrationExtractor: processing 1/train/filtrations/2/HeightFiltrartion_-1_1/green, do_fit = True, filtration = HeightFiltration(direction=array([-1,  1]), n_jobs=-1)\n",
      "Got the result from ./1/train/filtrations/2/HeightFiltrartion_-1_1/green/diagrams.npy\n",
      "Applying Scaler to persistence diagrams.\n",
      "DiagramVectorizer: fitting complete\n",
      "Got the result from ./1/train/filtrations/2/HeightFiltrartion_-1_1/green/features.npy\n",
      "FiltrationExtractor: processing 1/train/filtrations/2/HeightFiltrartion_-1_1/green, do_fit = False, filtration = HeightFiltration(direction=array([-1,  1]), n_jobs=-1)\n",
      "Got the result from ./1/train/filtrations/2/HeightFiltrartion_-1_1/green/diagrams.npy\n",
      "Applying Scaler to persistence diagrams.\n",
      "Got the result from ./1/train/filtrations/2/HeightFiltrartion_-1_1/green/features.npy\n",
      "FiltrationExtractor: processing 1/train/filtrations/2/HeightFiltrartion_-1_1/blue, do_fit = True, filtration = HeightFiltration(direction=array([-1,  1]), n_jobs=-1)\n",
      "Got the result from ./1/train/filtrations/2/HeightFiltrartion_-1_1/blue/diagrams.npy\n",
      "Applying Scaler to persistence diagrams.\n",
      "DiagramVectorizer: fitting complete\n",
      "Got the result from ./1/train/filtrations/2/HeightFiltrartion_-1_1/blue/features.npy\n",
      "FiltrationExtractor: processing 1/train/filtrations/2/HeightFiltrartion_-1_1/blue, do_fit = False, filtration = HeightFiltration(direction=array([-1,  1]), n_jobs=-1)\n",
      "Got the result from ./1/train/filtrations/2/HeightFiltrartion_-1_1/blue/diagrams.npy\n",
      "Applying Scaler to persistence diagrams.\n",
      "Got the result from ./1/train/filtrations/2/HeightFiltrartion_-1_1/blue/features.npy\n",
      "Fitting filtration 4/72: HeightFiltration with d = (0, -1), bin. thr. = 0.2\n",
      "RGB images received. Transforming to grayscale.\n"
     ]
    },
    {
     "name": "stderr",
     "output_type": "stream",
     "text": [
      "rgb2gray: 100%|██████████| 26640/26640 [00:07<00:00, 3660.33it/s]\n"
     ]
    },
    {
     "name": "stdout",
     "output_type": "stream",
     "text": [
      "FiltrationExtractor: processing 1/train/filtrations/2/HeightFiltrartion_0_-1/gray, do_fit = True, filtration = HeightFiltration(direction=array([ 0, -1]), n_jobs=-1)\n",
      "Got the result from ./1/train/filtrations/2/HeightFiltrartion_0_-1/gray/diagrams.npy\n",
      "Applying Scaler to persistence diagrams.\n",
      "DiagramVectorizer: fitting complete\n",
      "Got the result from ./1/train/filtrations/2/HeightFiltrartion_0_-1/gray/features.npy\n",
      "FiltrationExtractor: processing 1/train/filtrations/2/HeightFiltrartion_0_-1/gray, do_fit = False, filtration = HeightFiltration(direction=array([ 0, -1]), n_jobs=-1)\n",
      "Got the result from ./1/train/filtrations/2/HeightFiltrartion_0_-1/gray/diagrams.npy\n",
      "Applying Scaler to persistence diagrams.\n",
      "Got the result from ./1/train/filtrations/2/HeightFiltrartion_0_-1/gray/features.npy\n",
      "FiltrationExtractor: processing 1/train/filtrations/2/HeightFiltrartion_0_-1/red, do_fit = True, filtration = HeightFiltration(direction=array([ 0, -1]), n_jobs=-1)\n",
      "Got the result from ./1/train/filtrations/2/HeightFiltrartion_0_-1/red/diagrams.npy\n",
      "Applying Scaler to persistence diagrams.\n",
      "DiagramVectorizer: fitting complete\n",
      "Got the result from ./1/train/filtrations/2/HeightFiltrartion_0_-1/red/features.npy\n",
      "FiltrationExtractor: processing 1/train/filtrations/2/HeightFiltrartion_0_-1/red, do_fit = False, filtration = HeightFiltration(direction=array([ 0, -1]), n_jobs=-1)\n",
      "Got the result from ./1/train/filtrations/2/HeightFiltrartion_0_-1/red/diagrams.npy\n",
      "Applying Scaler to persistence diagrams.\n",
      "Got the result from ./1/train/filtrations/2/HeightFiltrartion_0_-1/red/features.npy\n",
      "FiltrationExtractor: processing 1/train/filtrations/2/HeightFiltrartion_0_-1/green, do_fit = True, filtration = HeightFiltration(direction=array([ 0, -1]), n_jobs=-1)\n",
      "Got the result from ./1/train/filtrations/2/HeightFiltrartion_0_-1/green/diagrams.npy\n",
      "Applying Scaler to persistence diagrams.\n",
      "DiagramVectorizer: fitting complete\n",
      "Got the result from ./1/train/filtrations/2/HeightFiltrartion_0_-1/green/features.npy\n",
      "FiltrationExtractor: processing 1/train/filtrations/2/HeightFiltrartion_0_-1/green, do_fit = False, filtration = HeightFiltration(direction=array([ 0, -1]), n_jobs=-1)\n",
      "Got the result from ./1/train/filtrations/2/HeightFiltrartion_0_-1/green/diagrams.npy\n",
      "Applying Scaler to persistence diagrams.\n",
      "Got the result from ./1/train/filtrations/2/HeightFiltrartion_0_-1/green/features.npy\n",
      "FiltrationExtractor: processing 1/train/filtrations/2/HeightFiltrartion_0_-1/blue, do_fit = True, filtration = HeightFiltration(direction=array([ 0, -1]), n_jobs=-1)\n",
      "Got the result from ./1/train/filtrations/2/HeightFiltrartion_0_-1/blue/diagrams.npy\n",
      "Applying Scaler to persistence diagrams.\n",
      "DiagramVectorizer: fitting complete\n",
      "Got the result from ./1/train/filtrations/2/HeightFiltrartion_0_-1/blue/features.npy\n",
      "FiltrationExtractor: processing 1/train/filtrations/2/HeightFiltrartion_0_-1/blue, do_fit = False, filtration = HeightFiltration(direction=array([ 0, -1]), n_jobs=-1)\n",
      "Got the result from ./1/train/filtrations/2/HeightFiltrartion_0_-1/blue/diagrams.npy\n",
      "Applying Scaler to persistence diagrams.\n",
      "Got the result from ./1/train/filtrations/2/HeightFiltrartion_0_-1/blue/features.npy\n",
      "Fitting filtration 5/72: HeightFiltration with d = (0, 1), bin. thr. = 0.2\n",
      "RGB images received. Transforming to grayscale.\n"
     ]
    },
    {
     "name": "stderr",
     "output_type": "stream",
     "text": [
      "rgb2gray: 100%|██████████| 26640/26640 [00:07<00:00, 3778.66it/s]\n"
     ]
    },
    {
     "name": "stdout",
     "output_type": "stream",
     "text": [
      "FiltrationExtractor: processing 1/train/filtrations/2/HeightFiltrartion_0_1/gray, do_fit = True, filtration = HeightFiltration(direction=array([0, 1]), n_jobs=-1)\n",
      "Got the result from ./1/train/filtrations/2/HeightFiltrartion_0_1/gray/diagrams.npy\n",
      "Applying Scaler to persistence diagrams.\n",
      "DiagramVectorizer: fitting complete\n",
      "Got the result from ./1/train/filtrations/2/HeightFiltrartion_0_1/gray/features.npy\n",
      "FiltrationExtractor: processing 1/train/filtrations/2/HeightFiltrartion_0_1/gray, do_fit = False, filtration = HeightFiltration(direction=array([0, 1]), n_jobs=-1)\n",
      "Got the result from ./1/train/filtrations/2/HeightFiltrartion_0_1/gray/diagrams.npy\n",
      "Applying Scaler to persistence diagrams.\n",
      "Got the result from ./1/train/filtrations/2/HeightFiltrartion_0_1/gray/features.npy\n",
      "FiltrationExtractor: processing 1/train/filtrations/2/HeightFiltrartion_0_1/red, do_fit = True, filtration = HeightFiltration(direction=array([0, 1]), n_jobs=-1)\n",
      "Got the result from ./1/train/filtrations/2/HeightFiltrartion_0_1/red/diagrams.npy\n",
      "Applying Scaler to persistence diagrams.\n",
      "DiagramVectorizer: fitting complete\n",
      "Got the result from ./1/train/filtrations/2/HeightFiltrartion_0_1/red/features.npy\n",
      "FiltrationExtractor: processing 1/train/filtrations/2/HeightFiltrartion_0_1/red, do_fit = False, filtration = HeightFiltration(direction=array([0, 1]), n_jobs=-1)\n",
      "Got the result from ./1/train/filtrations/2/HeightFiltrartion_0_1/red/diagrams.npy\n",
      "Applying Scaler to persistence diagrams.\n",
      "Got the result from ./1/train/filtrations/2/HeightFiltrartion_0_1/red/features.npy\n",
      "FiltrationExtractor: processing 1/train/filtrations/2/HeightFiltrartion_0_1/green, do_fit = True, filtration = HeightFiltration(direction=array([0, 1]), n_jobs=-1)\n",
      "Got the result from ./1/train/filtrations/2/HeightFiltrartion_0_1/green/diagrams.npy\n",
      "Applying Scaler to persistence diagrams.\n",
      "DiagramVectorizer: fitting complete\n",
      "Got the result from ./1/train/filtrations/2/HeightFiltrartion_0_1/green/features.npy\n",
      "FiltrationExtractor: processing 1/train/filtrations/2/HeightFiltrartion_0_1/green, do_fit = False, filtration = HeightFiltration(direction=array([0, 1]), n_jobs=-1)\n",
      "Got the result from ./1/train/filtrations/2/HeightFiltrartion_0_1/green/diagrams.npy\n",
      "Applying Scaler to persistence diagrams.\n",
      "Got the result from ./1/train/filtrations/2/HeightFiltrartion_0_1/green/features.npy\n",
      "FiltrationExtractor: processing 1/train/filtrations/2/HeightFiltrartion_0_1/blue, do_fit = True, filtration = HeightFiltration(direction=array([0, 1]), n_jobs=-1)\n",
      "Got the result from ./1/train/filtrations/2/HeightFiltrartion_0_1/blue/diagrams.npy\n",
      "Applying Scaler to persistence diagrams.\n",
      "DiagramVectorizer: fitting complete\n",
      "Got the result from ./1/train/filtrations/2/HeightFiltrartion_0_1/blue/features.npy\n",
      "FiltrationExtractor: processing 1/train/filtrations/2/HeightFiltrartion_0_1/blue, do_fit = False, filtration = HeightFiltration(direction=array([0, 1]), n_jobs=-1)\n",
      "Got the result from ./1/train/filtrations/2/HeightFiltrartion_0_1/blue/diagrams.npy\n",
      "Applying Scaler to persistence diagrams.\n",
      "Got the result from ./1/train/filtrations/2/HeightFiltrartion_0_1/blue/features.npy\n",
      "Fitting filtration 6/72: HeightFiltration with d = (1, -1), bin. thr. = 0.2\n",
      "RGB images received. Transforming to grayscale.\n"
     ]
    },
    {
     "name": "stderr",
     "output_type": "stream",
     "text": [
      "rgb2gray: 100%|██████████| 26640/26640 [00:07<00:00, 3533.96it/s]\n"
     ]
    },
    {
     "name": "stdout",
     "output_type": "stream",
     "text": [
      "FiltrationExtractor: processing 1/train/filtrations/2/HeightFiltrartion_1_-1/gray, do_fit = True, filtration = HeightFiltration(direction=array([ 1, -1]), n_jobs=-1)\n",
      "Got the result from ./1/train/filtrations/2/HeightFiltrartion_1_-1/gray/diagrams.npy\n",
      "Applying Scaler to persistence diagrams.\n",
      "DiagramVectorizer: fitting complete\n",
      "Got the result from ./1/train/filtrations/2/HeightFiltrartion_1_-1/gray/features.npy\n",
      "FiltrationExtractor: processing 1/train/filtrations/2/HeightFiltrartion_1_-1/gray, do_fit = False, filtration = HeightFiltration(direction=array([ 1, -1]), n_jobs=-1)\n",
      "Got the result from ./1/train/filtrations/2/HeightFiltrartion_1_-1/gray/diagrams.npy\n",
      "Applying Scaler to persistence diagrams.\n",
      "Got the result from ./1/train/filtrations/2/HeightFiltrartion_1_-1/gray/features.npy\n",
      "FiltrationExtractor: processing 1/train/filtrations/2/HeightFiltrartion_1_-1/red, do_fit = True, filtration = HeightFiltration(direction=array([ 1, -1]), n_jobs=-1)\n",
      "Got the result from ./1/train/filtrations/2/HeightFiltrartion_1_-1/red/diagrams.npy\n",
      "Applying Scaler to persistence diagrams.\n",
      "DiagramVectorizer: fitting complete\n",
      "Got the result from ./1/train/filtrations/2/HeightFiltrartion_1_-1/red/features.npy\n",
      "FiltrationExtractor: processing 1/train/filtrations/2/HeightFiltrartion_1_-1/red, do_fit = False, filtration = HeightFiltration(direction=array([ 1, -1]), n_jobs=-1)\n",
      "Got the result from ./1/train/filtrations/2/HeightFiltrartion_1_-1/red/diagrams.npy\n",
      "Applying Scaler to persistence diagrams.\n",
      "Got the result from ./1/train/filtrations/2/HeightFiltrartion_1_-1/red/features.npy\n",
      "FiltrationExtractor: processing 1/train/filtrations/2/HeightFiltrartion_1_-1/green, do_fit = True, filtration = HeightFiltration(direction=array([ 1, -1]), n_jobs=-1)\n",
      "Got the result from ./1/train/filtrations/2/HeightFiltrartion_1_-1/green/diagrams.npy\n",
      "Applying Scaler to persistence diagrams.\n",
      "DiagramVectorizer: fitting complete\n",
      "Got the result from ./1/train/filtrations/2/HeightFiltrartion_1_-1/green/features.npy\n",
      "FiltrationExtractor: processing 1/train/filtrations/2/HeightFiltrartion_1_-1/green, do_fit = False, filtration = HeightFiltration(direction=array([ 1, -1]), n_jobs=-1)\n",
      "Got the result from ./1/train/filtrations/2/HeightFiltrartion_1_-1/green/diagrams.npy\n",
      "Applying Scaler to persistence diagrams.\n",
      "Got the result from ./1/train/filtrations/2/HeightFiltrartion_1_-1/green/features.npy\n",
      "FiltrationExtractor: processing 1/train/filtrations/2/HeightFiltrartion_1_-1/blue, do_fit = True, filtration = HeightFiltration(direction=array([ 1, -1]), n_jobs=-1)\n",
      "Got the result from ./1/train/filtrations/2/HeightFiltrartion_1_-1/blue/diagrams.npy\n",
      "Applying Scaler to persistence diagrams.\n",
      "DiagramVectorizer: fitting complete\n",
      "Got the result from ./1/train/filtrations/2/HeightFiltrartion_1_-1/blue/features.npy\n",
      "FiltrationExtractor: processing 1/train/filtrations/2/HeightFiltrartion_1_-1/blue, do_fit = False, filtration = HeightFiltration(direction=array([ 1, -1]), n_jobs=-1)\n",
      "Got the result from ./1/train/filtrations/2/HeightFiltrartion_1_-1/blue/diagrams.npy\n",
      "Applying Scaler to persistence diagrams.\n",
      "Got the result from ./1/train/filtrations/2/HeightFiltrartion_1_-1/blue/features.npy\n",
      "Fitting filtration 7/72: HeightFiltration with d = (1, 0), bin. thr. = 0.2\n",
      "RGB images received. Transforming to grayscale.\n"
     ]
    },
    {
     "name": "stderr",
     "output_type": "stream",
     "text": [
      "rgb2gray: 100%|██████████| 26640/26640 [00:06<00:00, 3925.72it/s]\n"
     ]
    },
    {
     "name": "stdout",
     "output_type": "stream",
     "text": [
      "FiltrationExtractor: processing 1/train/filtrations/2/HeightFiltrartion_1_0/gray, do_fit = True, filtration = HeightFiltration(direction=array([1, 0]), n_jobs=-1)\n",
      "Got the result from ./1/train/filtrations/2/HeightFiltrartion_1_0/gray/diagrams.npy\n",
      "Applying Scaler to persistence diagrams.\n",
      "DiagramVectorizer: fitting complete\n",
      "Got the result from ./1/train/filtrations/2/HeightFiltrartion_1_0/gray/features.npy\n",
      "FiltrationExtractor: processing 1/train/filtrations/2/HeightFiltrartion_1_0/gray, do_fit = False, filtration = HeightFiltration(direction=array([1, 0]), n_jobs=-1)\n",
      "Got the result from ./1/train/filtrations/2/HeightFiltrartion_1_0/gray/diagrams.npy\n",
      "Applying Scaler to persistence diagrams.\n",
      "Got the result from ./1/train/filtrations/2/HeightFiltrartion_1_0/gray/features.npy\n",
      "FiltrationExtractor: processing 1/train/filtrations/2/HeightFiltrartion_1_0/red, do_fit = True, filtration = HeightFiltration(direction=array([1, 0]), n_jobs=-1)\n",
      "Got the result from ./1/train/filtrations/2/HeightFiltrartion_1_0/red/diagrams.npy\n",
      "Applying Scaler to persistence diagrams.\n",
      "DiagramVectorizer: fitting complete\n",
      "Got the result from ./1/train/filtrations/2/HeightFiltrartion_1_0/red/features.npy\n",
      "FiltrationExtractor: processing 1/train/filtrations/2/HeightFiltrartion_1_0/red, do_fit = False, filtration = HeightFiltration(direction=array([1, 0]), n_jobs=-1)\n",
      "Got the result from ./1/train/filtrations/2/HeightFiltrartion_1_0/red/diagrams.npy\n",
      "Applying Scaler to persistence diagrams.\n",
      "Got the result from ./1/train/filtrations/2/HeightFiltrartion_1_0/red/features.npy\n",
      "FiltrationExtractor: processing 1/train/filtrations/2/HeightFiltrartion_1_0/green, do_fit = True, filtration = HeightFiltration(direction=array([1, 0]), n_jobs=-1)\n",
      "Got the result from ./1/train/filtrations/2/HeightFiltrartion_1_0/green/diagrams.npy\n",
      "Applying Scaler to persistence diagrams.\n",
      "DiagramVectorizer: fitting complete\n",
      "Got the result from ./1/train/filtrations/2/HeightFiltrartion_1_0/green/features.npy\n",
      "FiltrationExtractor: processing 1/train/filtrations/2/HeightFiltrartion_1_0/green, do_fit = False, filtration = HeightFiltration(direction=array([1, 0]), n_jobs=-1)\n",
      "Got the result from ./1/train/filtrations/2/HeightFiltrartion_1_0/green/diagrams.npy\n",
      "Applying Scaler to persistence diagrams.\n",
      "Got the result from ./1/train/filtrations/2/HeightFiltrartion_1_0/green/features.npy\n",
      "FiltrationExtractor: processing 1/train/filtrations/2/HeightFiltrartion_1_0/blue, do_fit = True, filtration = HeightFiltration(direction=array([1, 0]), n_jobs=-1)\n",
      "Got the result from ./1/train/filtrations/2/HeightFiltrartion_1_0/blue/diagrams.npy\n",
      "Applying Scaler to persistence diagrams.\n",
      "DiagramVectorizer: fitting complete\n",
      "Got the result from ./1/train/filtrations/2/HeightFiltrartion_1_0/blue/features.npy\n",
      "FiltrationExtractor: processing 1/train/filtrations/2/HeightFiltrartion_1_0/blue, do_fit = False, filtration = HeightFiltration(direction=array([1, 0]), n_jobs=-1)\n",
      "Got the result from ./1/train/filtrations/2/HeightFiltrartion_1_0/blue/diagrams.npy\n",
      "Applying Scaler to persistence diagrams.\n",
      "Got the result from ./1/train/filtrations/2/HeightFiltrartion_1_0/blue/features.npy\n",
      "Fitting filtration 8/72: HeightFiltration with d = (1, 1), bin. thr. = 0.2\n",
      "RGB images received. Transforming to grayscale.\n"
     ]
    },
    {
     "name": "stderr",
     "output_type": "stream",
     "text": [
      "rgb2gray: 100%|██████████| 26640/26640 [00:07<00:00, 3589.91it/s]\n"
     ]
    },
    {
     "name": "stdout",
     "output_type": "stream",
     "text": [
      "FiltrationExtractor: processing 1/train/filtrations/2/HeightFiltrartion_1_1/gray, do_fit = True, filtration = HeightFiltration(direction=array([1, 1]), n_jobs=-1)\n",
      "Got the result from ./1/train/filtrations/2/HeightFiltrartion_1_1/gray/diagrams.npy\n",
      "Applying Scaler to persistence diagrams.\n",
      "DiagramVectorizer: fitting complete\n",
      "Got the result from ./1/train/filtrations/2/HeightFiltrartion_1_1/gray/features.npy\n",
      "FiltrationExtractor: processing 1/train/filtrations/2/HeightFiltrartion_1_1/gray, do_fit = False, filtration = HeightFiltration(direction=array([1, 1]), n_jobs=-1)\n",
      "Got the result from ./1/train/filtrations/2/HeightFiltrartion_1_1/gray/diagrams.npy\n",
      "Applying Scaler to persistence diagrams.\n",
      "Got the result from ./1/train/filtrations/2/HeightFiltrartion_1_1/gray/features.npy\n",
      "FiltrationExtractor: processing 1/train/filtrations/2/HeightFiltrartion_1_1/red, do_fit = True, filtration = HeightFiltration(direction=array([1, 1]), n_jobs=-1)\n",
      "Got the result from ./1/train/filtrations/2/HeightFiltrartion_1_1/red/diagrams.npy\n",
      "Applying Scaler to persistence diagrams.\n",
      "DiagramVectorizer: fitting complete\n",
      "Got the result from ./1/train/filtrations/2/HeightFiltrartion_1_1/red/features.npy\n",
      "FiltrationExtractor: processing 1/train/filtrations/2/HeightFiltrartion_1_1/red, do_fit = False, filtration = HeightFiltration(direction=array([1, 1]), n_jobs=-1)\n",
      "Got the result from ./1/train/filtrations/2/HeightFiltrartion_1_1/red/diagrams.npy\n",
      "Applying Scaler to persistence diagrams.\n",
      "Got the result from ./1/train/filtrations/2/HeightFiltrartion_1_1/red/features.npy\n",
      "FiltrationExtractor: processing 1/train/filtrations/2/HeightFiltrartion_1_1/green, do_fit = True, filtration = HeightFiltration(direction=array([1, 1]), n_jobs=-1)\n",
      "Got the result from ./1/train/filtrations/2/HeightFiltrartion_1_1/green/diagrams.npy\n",
      "Applying Scaler to persistence diagrams.\n",
      "DiagramVectorizer: fitting complete\n",
      "Got the result from ./1/train/filtrations/2/HeightFiltrartion_1_1/green/features.npy\n",
      "FiltrationExtractor: processing 1/train/filtrations/2/HeightFiltrartion_1_1/green, do_fit = False, filtration = HeightFiltration(direction=array([1, 1]), n_jobs=-1)\n",
      "Got the result from ./1/train/filtrations/2/HeightFiltrartion_1_1/green/diagrams.npy\n",
      "Applying Scaler to persistence diagrams.\n",
      "Got the result from ./1/train/filtrations/2/HeightFiltrartion_1_1/green/features.npy\n",
      "FiltrationExtractor: processing 1/train/filtrations/2/HeightFiltrartion_1_1/blue, do_fit = True, filtration = HeightFiltration(direction=array([1, 1]), n_jobs=-1)\n",
      "Got the result from ./1/train/filtrations/2/HeightFiltrartion_1_1/blue/diagrams.npy\n",
      "Applying Scaler to persistence diagrams.\n",
      "DiagramVectorizer: fitting complete\n",
      "Got the result from ./1/train/filtrations/2/HeightFiltrartion_1_1/blue/features.npy\n",
      "FiltrationExtractor: processing 1/train/filtrations/2/HeightFiltrartion_1_1/blue, do_fit = False, filtration = HeightFiltration(direction=array([1, 1]), n_jobs=-1)\n",
      "Got the result from ./1/train/filtrations/2/HeightFiltrartion_1_1/blue/diagrams.npy\n",
      "Applying Scaler to persistence diagrams.\n",
      "Got the result from ./1/train/filtrations/2/HeightFiltrartion_1_1/blue/features.npy\n",
      "Fitting filtration 9/72: RadialFiltration with c = (12, 12), bin. thr. = 0.2\n",
      "RGB images received. Transforming to grayscale.\n"
     ]
    },
    {
     "name": "stderr",
     "output_type": "stream",
     "text": [
      "rgb2gray: 100%|██████████| 26640/26640 [00:07<00:00, 3582.97it/s]\n"
     ]
    },
    {
     "name": "stdout",
     "output_type": "stream",
     "text": [
      "FiltrationExtractor: processing 1/train/filtrations/2/RadialFiltration_12_12/gray, do_fit = True, filtration = RadialFiltration(center=array([12, 12]), n_jobs=-1)\n",
      "Got the result from ./1/train/filtrations/2/RadialFiltration_12_12/gray/diagrams.npy\n",
      "Applying Scaler to persistence diagrams.\n",
      "DiagramVectorizer: fitting complete\n",
      "Got the result from ./1/train/filtrations/2/RadialFiltration_12_12/gray/features.npy\n",
      "FiltrationExtractor: processing 1/train/filtrations/2/RadialFiltration_12_12/gray, do_fit = False, filtration = RadialFiltration(center=array([12, 12]), n_jobs=-1)\n",
      "Got the result from ./1/train/filtrations/2/RadialFiltration_12_12/gray/diagrams.npy\n",
      "Applying Scaler to persistence diagrams.\n",
      "Got the result from ./1/train/filtrations/2/RadialFiltration_12_12/gray/features.npy\n",
      "FiltrationExtractor: processing 1/train/filtrations/2/RadialFiltration_12_12/red, do_fit = True, filtration = RadialFiltration(center=array([12, 12]), n_jobs=-1)\n",
      "Got the result from ./1/train/filtrations/2/RadialFiltration_12_12/red/diagrams.npy\n",
      "Applying Scaler to persistence diagrams.\n",
      "DiagramVectorizer: fitting complete\n",
      "Got the result from ./1/train/filtrations/2/RadialFiltration_12_12/red/features.npy\n",
      "FiltrationExtractor: processing 1/train/filtrations/2/RadialFiltration_12_12/red, do_fit = False, filtration = RadialFiltration(center=array([12, 12]), n_jobs=-1)\n",
      "Got the result from ./1/train/filtrations/2/RadialFiltration_12_12/red/diagrams.npy\n",
      "Applying Scaler to persistence diagrams.\n",
      "Got the result from ./1/train/filtrations/2/RadialFiltration_12_12/red/features.npy\n",
      "FiltrationExtractor: processing 1/train/filtrations/2/RadialFiltration_12_12/green, do_fit = True, filtration = RadialFiltration(center=array([12, 12]), n_jobs=-1)\n",
      "Got the result from ./1/train/filtrations/2/RadialFiltration_12_12/green/diagrams.npy\n",
      "Applying Scaler to persistence diagrams.\n",
      "DiagramVectorizer: fitting complete\n",
      "Got the result from ./1/train/filtrations/2/RadialFiltration_12_12/green/features.npy\n",
      "FiltrationExtractor: processing 1/train/filtrations/2/RadialFiltration_12_12/green, do_fit = False, filtration = RadialFiltration(center=array([12, 12]), n_jobs=-1)\n",
      "Got the result from ./1/train/filtrations/2/RadialFiltration_12_12/green/diagrams.npy\n",
      "Applying Scaler to persistence diagrams.\n",
      "Got the result from ./1/train/filtrations/2/RadialFiltration_12_12/green/features.npy\n",
      "FiltrationExtractor: processing 1/train/filtrations/2/RadialFiltration_12_12/blue, do_fit = True, filtration = RadialFiltration(center=array([12, 12]), n_jobs=-1)\n",
      "Got the result from ./1/train/filtrations/2/RadialFiltration_12_12/blue/diagrams.npy\n",
      "Applying Scaler to persistence diagrams.\n",
      "DiagramVectorizer: fitting complete\n",
      "Got the result from ./1/train/filtrations/2/RadialFiltration_12_12/blue/features.npy\n",
      "FiltrationExtractor: processing 1/train/filtrations/2/RadialFiltration_12_12/blue, do_fit = False, filtration = RadialFiltration(center=array([12, 12]), n_jobs=-1)\n",
      "Got the result from ./1/train/filtrations/2/RadialFiltration_12_12/blue/diagrams.npy\n",
      "Applying Scaler to persistence diagrams.\n",
      "Got the result from ./1/train/filtrations/2/RadialFiltration_12_12/blue/features.npy\n",
      "Fitting filtration 10/72: RadialFiltration with c = (12, 25), bin. thr. = 0.2\n",
      "RGB images received. Transforming to grayscale.\n"
     ]
    },
    {
     "name": "stderr",
     "output_type": "stream",
     "text": [
      "rgb2gray: 100%|██████████| 26640/26640 [00:07<00:00, 3579.79it/s]\n"
     ]
    },
    {
     "name": "stdout",
     "output_type": "stream",
     "text": [
      "FiltrationExtractor: processing 1/train/filtrations/2/RadialFiltration_12_25/gray, do_fit = True, filtration = RadialFiltration(center=array([12, 25]), n_jobs=-1)\n",
      "Got the result from ./1/train/filtrations/2/RadialFiltration_12_25/gray/diagrams.npy\n",
      "Applying Scaler to persistence diagrams.\n",
      "DiagramVectorizer: fitting complete\n",
      "Got the result from ./1/train/filtrations/2/RadialFiltration_12_25/gray/features.npy\n",
      "FiltrationExtractor: processing 1/train/filtrations/2/RadialFiltration_12_25/gray, do_fit = False, filtration = RadialFiltration(center=array([12, 25]), n_jobs=-1)\n",
      "Got the result from ./1/train/filtrations/2/RadialFiltration_12_25/gray/diagrams.npy\n",
      "Applying Scaler to persistence diagrams.\n",
      "Got the result from ./1/train/filtrations/2/RadialFiltration_12_25/gray/features.npy\n",
      "FiltrationExtractor: processing 1/train/filtrations/2/RadialFiltration_12_25/red, do_fit = True, filtration = RadialFiltration(center=array([12, 25]), n_jobs=-1)\n",
      "Got the result from ./1/train/filtrations/2/RadialFiltration_12_25/red/diagrams.npy\n",
      "Applying Scaler to persistence diagrams.\n",
      "DiagramVectorizer: fitting complete\n",
      "Got the result from ./1/train/filtrations/2/RadialFiltration_12_25/red/features.npy\n",
      "FiltrationExtractor: processing 1/train/filtrations/2/RadialFiltration_12_25/red, do_fit = False, filtration = RadialFiltration(center=array([12, 25]), n_jobs=-1)\n",
      "Got the result from ./1/train/filtrations/2/RadialFiltration_12_25/red/diagrams.npy\n",
      "Applying Scaler to persistence diagrams.\n",
      "Got the result from ./1/train/filtrations/2/RadialFiltration_12_25/red/features.npy\n",
      "FiltrationExtractor: processing 1/train/filtrations/2/RadialFiltration_12_25/green, do_fit = True, filtration = RadialFiltration(center=array([12, 25]), n_jobs=-1)\n",
      "Got the result from ./1/train/filtrations/2/RadialFiltration_12_25/green/diagrams.npy\n",
      "Applying Scaler to persistence diagrams.\n",
      "DiagramVectorizer: fitting complete\n",
      "Got the result from ./1/train/filtrations/2/RadialFiltration_12_25/green/features.npy\n",
      "FiltrationExtractor: processing 1/train/filtrations/2/RadialFiltration_12_25/green, do_fit = False, filtration = RadialFiltration(center=array([12, 25]), n_jobs=-1)\n",
      "Got the result from ./1/train/filtrations/2/RadialFiltration_12_25/green/diagrams.npy\n",
      "Applying Scaler to persistence diagrams.\n",
      "Got the result from ./1/train/filtrations/2/RadialFiltration_12_25/green/features.npy\n",
      "FiltrationExtractor: processing 1/train/filtrations/2/RadialFiltration_12_25/blue, do_fit = True, filtration = RadialFiltration(center=array([12, 25]), n_jobs=-1)\n",
      "Got the result from ./1/train/filtrations/2/RadialFiltration_12_25/blue/diagrams.npy\n",
      "Applying Scaler to persistence diagrams.\n",
      "DiagramVectorizer: fitting complete\n",
      "Got the result from ./1/train/filtrations/2/RadialFiltration_12_25/blue/features.npy\n",
      "FiltrationExtractor: processing 1/train/filtrations/2/RadialFiltration_12_25/blue, do_fit = False, filtration = RadialFiltration(center=array([12, 25]), n_jobs=-1)\n",
      "Got the result from ./1/train/filtrations/2/RadialFiltration_12_25/blue/diagrams.npy\n",
      "Applying Scaler to persistence diagrams.\n",
      "Got the result from ./1/train/filtrations/2/RadialFiltration_12_25/blue/features.npy\n",
      "Fitting filtration 11/72: RadialFiltration with c = (12, 38), bin. thr. = 0.2\n",
      "RGB images received. Transforming to grayscale.\n"
     ]
    },
    {
     "name": "stderr",
     "output_type": "stream",
     "text": [
      "rgb2gray: 100%|██████████| 26640/26640 [00:08<00:00, 3258.82it/s]\n"
     ]
    },
    {
     "name": "stdout",
     "output_type": "stream",
     "text": [
      "FiltrationExtractor: processing 1/train/filtrations/2/RadialFiltration_12_38/gray, do_fit = True, filtration = RadialFiltration(center=array([12, 38]), n_jobs=-1)\n",
      "Got the result from ./1/train/filtrations/2/RadialFiltration_12_38/gray/diagrams.npy\n",
      "Applying Scaler to persistence diagrams.\n",
      "DiagramVectorizer: fitting complete\n",
      "Got the result from ./1/train/filtrations/2/RadialFiltration_12_38/gray/features.npy\n",
      "FiltrationExtractor: processing 1/train/filtrations/2/RadialFiltration_12_38/gray, do_fit = False, filtration = RadialFiltration(center=array([12, 38]), n_jobs=-1)\n",
      "Got the result from ./1/train/filtrations/2/RadialFiltration_12_38/gray/diagrams.npy\n",
      "Applying Scaler to persistence diagrams.\n",
      "Got the result from ./1/train/filtrations/2/RadialFiltration_12_38/gray/features.npy\n",
      "FiltrationExtractor: processing 1/train/filtrations/2/RadialFiltration_12_38/red, do_fit = True, filtration = RadialFiltration(center=array([12, 38]), n_jobs=-1)\n",
      "Got the result from ./1/train/filtrations/2/RadialFiltration_12_38/red/diagrams.npy\n",
      "Applying Scaler to persistence diagrams.\n",
      "DiagramVectorizer: fitting complete\n",
      "Got the result from ./1/train/filtrations/2/RadialFiltration_12_38/red/features.npy\n",
      "FiltrationExtractor: processing 1/train/filtrations/2/RadialFiltration_12_38/red, do_fit = False, filtration = RadialFiltration(center=array([12, 38]), n_jobs=-1)\n",
      "Got the result from ./1/train/filtrations/2/RadialFiltration_12_38/red/diagrams.npy\n",
      "Applying Scaler to persistence diagrams.\n",
      "Got the result from ./1/train/filtrations/2/RadialFiltration_12_38/red/features.npy\n",
      "FiltrationExtractor: processing 1/train/filtrations/2/RadialFiltration_12_38/green, do_fit = True, filtration = RadialFiltration(center=array([12, 38]), n_jobs=-1)\n",
      "Got the result from ./1/train/filtrations/2/RadialFiltration_12_38/green/diagrams.npy\n",
      "Applying Scaler to persistence diagrams.\n",
      "DiagramVectorizer: fitting complete\n",
      "Got the result from ./1/train/filtrations/2/RadialFiltration_12_38/green/features.npy\n",
      "FiltrationExtractor: processing 1/train/filtrations/2/RadialFiltration_12_38/green, do_fit = False, filtration = RadialFiltration(center=array([12, 38]), n_jobs=-1)\n",
      "Got the result from ./1/train/filtrations/2/RadialFiltration_12_38/green/diagrams.npy\n",
      "Applying Scaler to persistence diagrams.\n",
      "Got the result from ./1/train/filtrations/2/RadialFiltration_12_38/green/features.npy\n",
      "FiltrationExtractor: processing 1/train/filtrations/2/RadialFiltration_12_38/blue, do_fit = True, filtration = RadialFiltration(center=array([12, 38]), n_jobs=-1)\n",
      "Got the result from ./1/train/filtrations/2/RadialFiltration_12_38/blue/diagrams.npy\n",
      "Applying Scaler to persistence diagrams.\n",
      "DiagramVectorizer: fitting complete\n",
      "Got the result from ./1/train/filtrations/2/RadialFiltration_12_38/blue/features.npy\n",
      "FiltrationExtractor: processing 1/train/filtrations/2/RadialFiltration_12_38/blue, do_fit = False, filtration = RadialFiltration(center=array([12, 38]), n_jobs=-1)\n",
      "Got the result from ./1/train/filtrations/2/RadialFiltration_12_38/blue/diagrams.npy\n",
      "Applying Scaler to persistence diagrams.\n",
      "Got the result from ./1/train/filtrations/2/RadialFiltration_12_38/blue/features.npy\n",
      "Fitting filtration 12/72: RadialFiltration with c = (12, 51), bin. thr. = 0.2\n",
      "RGB images received. Transforming to grayscale.\n"
     ]
    },
    {
     "name": "stderr",
     "output_type": "stream",
     "text": [
      "rgb2gray: 100%|██████████| 26640/26640 [00:08<00:00, 3315.15it/s]\n"
     ]
    },
    {
     "name": "stdout",
     "output_type": "stream",
     "text": [
      "FiltrationExtractor: processing 1/train/filtrations/2/RadialFiltration_12_51/gray, do_fit = True, filtration = RadialFiltration(center=array([12, 51]), n_jobs=-1)\n",
      "Got the result from ./1/train/filtrations/2/RadialFiltration_12_51/gray/diagrams.npy\n",
      "Applying Scaler to persistence diagrams.\n",
      "DiagramVectorizer: fitting complete\n",
      "Got the result from ./1/train/filtrations/2/RadialFiltration_12_51/gray/features.npy\n",
      "FiltrationExtractor: processing 1/train/filtrations/2/RadialFiltration_12_51/gray, do_fit = False, filtration = RadialFiltration(center=array([12, 51]), n_jobs=-1)\n",
      "Got the result from ./1/train/filtrations/2/RadialFiltration_12_51/gray/diagrams.npy\n",
      "Applying Scaler to persistence diagrams.\n",
      "Got the result from ./1/train/filtrations/2/RadialFiltration_12_51/gray/features.npy\n",
      "FiltrationExtractor: processing 1/train/filtrations/2/RadialFiltration_12_51/red, do_fit = True, filtration = RadialFiltration(center=array([12, 51]), n_jobs=-1)\n",
      "Got the result from ./1/train/filtrations/2/RadialFiltration_12_51/red/diagrams.npy\n",
      "Applying Scaler to persistence diagrams.\n",
      "DiagramVectorizer: fitting complete\n",
      "Got the result from ./1/train/filtrations/2/RadialFiltration_12_51/red/features.npy\n",
      "FiltrationExtractor: processing 1/train/filtrations/2/RadialFiltration_12_51/red, do_fit = False, filtration = RadialFiltration(center=array([12, 51]), n_jobs=-1)\n",
      "Got the result from ./1/train/filtrations/2/RadialFiltration_12_51/red/diagrams.npy\n",
      "Applying Scaler to persistence diagrams.\n",
      "Got the result from ./1/train/filtrations/2/RadialFiltration_12_51/red/features.npy\n",
      "FiltrationExtractor: processing 1/train/filtrations/2/RadialFiltration_12_51/green, do_fit = True, filtration = RadialFiltration(center=array([12, 51]), n_jobs=-1)\n",
      "Got the result from ./1/train/filtrations/2/RadialFiltration_12_51/green/diagrams.npy\n",
      "Applying Scaler to persistence diagrams.\n",
      "DiagramVectorizer: fitting complete\n",
      "Got the result from ./1/train/filtrations/2/RadialFiltration_12_51/green/features.npy\n",
      "FiltrationExtractor: processing 1/train/filtrations/2/RadialFiltration_12_51/green, do_fit = False, filtration = RadialFiltration(center=array([12, 51]), n_jobs=-1)\n",
      "Got the result from ./1/train/filtrations/2/RadialFiltration_12_51/green/diagrams.npy\n",
      "Applying Scaler to persistence diagrams.\n",
      "Got the result from ./1/train/filtrations/2/RadialFiltration_12_51/green/features.npy\n",
      "FiltrationExtractor: processing 1/train/filtrations/2/RadialFiltration_12_51/blue, do_fit = True, filtration = RadialFiltration(center=array([12, 51]), n_jobs=-1)\n",
      "Got the result from ./1/train/filtrations/2/RadialFiltration_12_51/blue/diagrams.npy\n",
      "Applying Scaler to persistence diagrams.\n",
      "DiagramVectorizer: fitting complete\n",
      "Got the result from ./1/train/filtrations/2/RadialFiltration_12_51/blue/features.npy\n",
      "FiltrationExtractor: processing 1/train/filtrations/2/RadialFiltration_12_51/blue, do_fit = False, filtration = RadialFiltration(center=array([12, 51]), n_jobs=-1)\n",
      "Got the result from ./1/train/filtrations/2/RadialFiltration_12_51/blue/diagrams.npy\n",
      "Applying Scaler to persistence diagrams.\n",
      "Got the result from ./1/train/filtrations/2/RadialFiltration_12_51/blue/features.npy\n",
      "Fitting filtration 13/72: RadialFiltration with c = (25, 12), bin. thr. = 0.2\n",
      "RGB images received. Transforming to grayscale.\n"
     ]
    },
    {
     "name": "stderr",
     "output_type": "stream",
     "text": [
      "rgb2gray: 100%|██████████| 26640/26640 [00:08<00:00, 3279.96it/s]\n"
     ]
    },
    {
     "name": "stdout",
     "output_type": "stream",
     "text": [
      "FiltrationExtractor: processing 1/train/filtrations/2/RadialFiltration_25_12/gray, do_fit = True, filtration = RadialFiltration(center=array([25, 12]), n_jobs=-1)\n",
      "Got the result from ./1/train/filtrations/2/RadialFiltration_25_12/gray/diagrams.npy\n",
      "Applying Scaler to persistence diagrams.\n",
      "DiagramVectorizer: fitting complete\n",
      "Got the result from ./1/train/filtrations/2/RadialFiltration_25_12/gray/features.npy\n",
      "FiltrationExtractor: processing 1/train/filtrations/2/RadialFiltration_25_12/gray, do_fit = False, filtration = RadialFiltration(center=array([25, 12]), n_jobs=-1)\n",
      "Got the result from ./1/train/filtrations/2/RadialFiltration_25_12/gray/diagrams.npy\n",
      "Applying Scaler to persistence diagrams.\n",
      "Got the result from ./1/train/filtrations/2/RadialFiltration_25_12/gray/features.npy\n",
      "FiltrationExtractor: processing 1/train/filtrations/2/RadialFiltration_25_12/red, do_fit = True, filtration = RadialFiltration(center=array([25, 12]), n_jobs=-1)\n",
      "Got the result from ./1/train/filtrations/2/RadialFiltration_25_12/red/diagrams.npy\n",
      "Applying Scaler to persistence diagrams.\n",
      "DiagramVectorizer: fitting complete\n",
      "Got the result from ./1/train/filtrations/2/RadialFiltration_25_12/red/features.npy\n",
      "FiltrationExtractor: processing 1/train/filtrations/2/RadialFiltration_25_12/red, do_fit = False, filtration = RadialFiltration(center=array([25, 12]), n_jobs=-1)\n",
      "Got the result from ./1/train/filtrations/2/RadialFiltration_25_12/red/diagrams.npy\n",
      "Applying Scaler to persistence diagrams.\n",
      "Got the result from ./1/train/filtrations/2/RadialFiltration_25_12/red/features.npy\n",
      "FiltrationExtractor: processing 1/train/filtrations/2/RadialFiltration_25_12/green, do_fit = True, filtration = RadialFiltration(center=array([25, 12]), n_jobs=-1)\n",
      "Got the result from ./1/train/filtrations/2/RadialFiltration_25_12/green/diagrams.npy\n",
      "Applying Scaler to persistence diagrams.\n",
      "DiagramVectorizer: fitting complete\n",
      "Got the result from ./1/train/filtrations/2/RadialFiltration_25_12/green/features.npy\n",
      "FiltrationExtractor: processing 1/train/filtrations/2/RadialFiltration_25_12/green, do_fit = False, filtration = RadialFiltration(center=array([25, 12]), n_jobs=-1)\n",
      "Got the result from ./1/train/filtrations/2/RadialFiltration_25_12/green/diagrams.npy\n",
      "Applying Scaler to persistence diagrams.\n",
      "Got the result from ./1/train/filtrations/2/RadialFiltration_25_12/green/features.npy\n",
      "FiltrationExtractor: processing 1/train/filtrations/2/RadialFiltration_25_12/blue, do_fit = True, filtration = RadialFiltration(center=array([25, 12]), n_jobs=-1)\n",
      "Got the result from ./1/train/filtrations/2/RadialFiltration_25_12/blue/diagrams.npy\n",
      "Applying Scaler to persistence diagrams.\n",
      "DiagramVectorizer: fitting complete\n",
      "Got the result from ./1/train/filtrations/2/RadialFiltration_25_12/blue/features.npy\n",
      "FiltrationExtractor: processing 1/train/filtrations/2/RadialFiltration_25_12/blue, do_fit = False, filtration = RadialFiltration(center=array([25, 12]), n_jobs=-1)\n",
      "Got the result from ./1/train/filtrations/2/RadialFiltration_25_12/blue/diagrams.npy\n",
      "Applying Scaler to persistence diagrams.\n",
      "Got the result from ./1/train/filtrations/2/RadialFiltration_25_12/blue/features.npy\n",
      "Fitting filtration 14/72: RadialFiltration with c = (25, 25), bin. thr. = 0.2\n",
      "RGB images received. Transforming to grayscale.\n"
     ]
    },
    {
     "name": "stderr",
     "output_type": "stream",
     "text": [
      "rgb2gray: 100%|██████████| 26640/26640 [00:07<00:00, 3618.39it/s]\n"
     ]
    },
    {
     "name": "stdout",
     "output_type": "stream",
     "text": [
      "FiltrationExtractor: processing 1/train/filtrations/2/RadialFiltration_25_25/gray, do_fit = True, filtration = RadialFiltration(center=array([25, 25]), n_jobs=-1)\n",
      "Got the result from ./1/train/filtrations/2/RadialFiltration_25_25/gray/diagrams.npy\n",
      "Applying Scaler to persistence diagrams.\n",
      "DiagramVectorizer: fitting complete\n",
      "Got the result from ./1/train/filtrations/2/RadialFiltration_25_25/gray/features.npy\n",
      "FiltrationExtractor: processing 1/train/filtrations/2/RadialFiltration_25_25/gray, do_fit = False, filtration = RadialFiltration(center=array([25, 25]), n_jobs=-1)\n",
      "Got the result from ./1/train/filtrations/2/RadialFiltration_25_25/gray/diagrams.npy\n",
      "Applying Scaler to persistence diagrams.\n",
      "Got the result from ./1/train/filtrations/2/RadialFiltration_25_25/gray/features.npy\n",
      "FiltrationExtractor: processing 1/train/filtrations/2/RadialFiltration_25_25/red, do_fit = True, filtration = RadialFiltration(center=array([25, 25]), n_jobs=-1)\n",
      "Got the result from ./1/train/filtrations/2/RadialFiltration_25_25/red/diagrams.npy\n",
      "Applying Scaler to persistence diagrams.\n",
      "DiagramVectorizer: fitting complete\n",
      "Got the result from ./1/train/filtrations/2/RadialFiltration_25_25/red/features.npy\n",
      "FiltrationExtractor: processing 1/train/filtrations/2/RadialFiltration_25_25/red, do_fit = False, filtration = RadialFiltration(center=array([25, 25]), n_jobs=-1)\n",
      "Got the result from ./1/train/filtrations/2/RadialFiltration_25_25/red/diagrams.npy\n",
      "Applying Scaler to persistence diagrams.\n",
      "Got the result from ./1/train/filtrations/2/RadialFiltration_25_25/red/features.npy\n",
      "FiltrationExtractor: processing 1/train/filtrations/2/RadialFiltration_25_25/green, do_fit = True, filtration = RadialFiltration(center=array([25, 25]), n_jobs=-1)\n",
      "Got the result from ./1/train/filtrations/2/RadialFiltration_25_25/green/diagrams.npy\n",
      "Applying Scaler to persistence diagrams.\n",
      "DiagramVectorizer: fitting complete\n",
      "Got the result from ./1/train/filtrations/2/RadialFiltration_25_25/green/features.npy\n",
      "FiltrationExtractor: processing 1/train/filtrations/2/RadialFiltration_25_25/green, do_fit = False, filtration = RadialFiltration(center=array([25, 25]), n_jobs=-1)\n",
      "Got the result from ./1/train/filtrations/2/RadialFiltration_25_25/green/diagrams.npy\n",
      "Applying Scaler to persistence diagrams.\n",
      "Got the result from ./1/train/filtrations/2/RadialFiltration_25_25/green/features.npy\n",
      "FiltrationExtractor: processing 1/train/filtrations/2/RadialFiltration_25_25/blue, do_fit = True, filtration = RadialFiltration(center=array([25, 25]), n_jobs=-1)\n",
      "Got the result from ./1/train/filtrations/2/RadialFiltration_25_25/blue/diagrams.npy\n",
      "Applying Scaler to persistence diagrams.\n",
      "DiagramVectorizer: fitting complete\n",
      "Got the result from ./1/train/filtrations/2/RadialFiltration_25_25/blue/features.npy\n",
      "FiltrationExtractor: processing 1/train/filtrations/2/RadialFiltration_25_25/blue, do_fit = False, filtration = RadialFiltration(center=array([25, 25]), n_jobs=-1)\n",
      "Got the result from ./1/train/filtrations/2/RadialFiltration_25_25/blue/diagrams.npy\n",
      "Applying Scaler to persistence diagrams.\n",
      "Got the result from ./1/train/filtrations/2/RadialFiltration_25_25/blue/features.npy\n",
      "Fitting filtration 15/72: RadialFiltration with c = (25, 38), bin. thr. = 0.2\n",
      "RGB images received. Transforming to grayscale.\n"
     ]
    },
    {
     "name": "stderr",
     "output_type": "stream",
     "text": [
      "rgb2gray: 100%|██████████| 26640/26640 [00:10<00:00, 2633.76it/s]\n"
     ]
    },
    {
     "name": "stdout",
     "output_type": "stream",
     "text": [
      "FiltrationExtractor: processing 1/train/filtrations/2/RadialFiltration_25_38/gray, do_fit = True, filtration = RadialFiltration(center=array([25, 38]), n_jobs=-1)\n",
      "Got the result from ./1/train/filtrations/2/RadialFiltration_25_38/gray/diagrams.npy\n",
      "Applying Scaler to persistence diagrams.\n",
      "DiagramVectorizer: fitting complete\n",
      "Got the result from ./1/train/filtrations/2/RadialFiltration_25_38/gray/features.npy\n",
      "FiltrationExtractor: processing 1/train/filtrations/2/RadialFiltration_25_38/gray, do_fit = False, filtration = RadialFiltration(center=array([25, 38]), n_jobs=-1)\n",
      "Got the result from ./1/train/filtrations/2/RadialFiltration_25_38/gray/diagrams.npy\n",
      "Applying Scaler to persistence diagrams.\n",
      "Got the result from ./1/train/filtrations/2/RadialFiltration_25_38/gray/features.npy\n",
      "FiltrationExtractor: processing 1/train/filtrations/2/RadialFiltration_25_38/red, do_fit = True, filtration = RadialFiltration(center=array([25, 38]), n_jobs=-1)\n",
      "Got the result from ./1/train/filtrations/2/RadialFiltration_25_38/red/diagrams.npy\n",
      "Applying Scaler to persistence diagrams.\n",
      "DiagramVectorizer: fitting complete\n",
      "Got the result from ./1/train/filtrations/2/RadialFiltration_25_38/red/features.npy\n",
      "FiltrationExtractor: processing 1/train/filtrations/2/RadialFiltration_25_38/red, do_fit = False, filtration = RadialFiltration(center=array([25, 38]), n_jobs=-1)\n",
      "Got the result from ./1/train/filtrations/2/RadialFiltration_25_38/red/diagrams.npy\n",
      "Applying Scaler to persistence diagrams.\n",
      "Got the result from ./1/train/filtrations/2/RadialFiltration_25_38/red/features.npy\n",
      "FiltrationExtractor: processing 1/train/filtrations/2/RadialFiltration_25_38/green, do_fit = True, filtration = RadialFiltration(center=array([25, 38]), n_jobs=-1)\n",
      "Got the result from ./1/train/filtrations/2/RadialFiltration_25_38/green/diagrams.npy\n",
      "Applying Scaler to persistence diagrams.\n",
      "DiagramVectorizer: fitting complete\n",
      "Got the result from ./1/train/filtrations/2/RadialFiltration_25_38/green/features.npy\n",
      "FiltrationExtractor: processing 1/train/filtrations/2/RadialFiltration_25_38/green, do_fit = False, filtration = RadialFiltration(center=array([25, 38]), n_jobs=-1)\n",
      "Got the result from ./1/train/filtrations/2/RadialFiltration_25_38/green/diagrams.npy\n",
      "Applying Scaler to persistence diagrams.\n",
      "Got the result from ./1/train/filtrations/2/RadialFiltration_25_38/green/features.npy\n",
      "FiltrationExtractor: processing 1/train/filtrations/2/RadialFiltration_25_38/blue, do_fit = True, filtration = RadialFiltration(center=array([25, 38]), n_jobs=-1)\n",
      "Got the result from ./1/train/filtrations/2/RadialFiltration_25_38/blue/diagrams.npy\n",
      "Applying Scaler to persistence diagrams.\n",
      "DiagramVectorizer: fitting complete\n",
      "Got the result from ./1/train/filtrations/2/RadialFiltration_25_38/blue/features.npy\n",
      "FiltrationExtractor: processing 1/train/filtrations/2/RadialFiltration_25_38/blue, do_fit = False, filtration = RadialFiltration(center=array([25, 38]), n_jobs=-1)\n",
      "Got the result from ./1/train/filtrations/2/RadialFiltration_25_38/blue/diagrams.npy\n",
      "Applying Scaler to persistence diagrams.\n",
      "Got the result from ./1/train/filtrations/2/RadialFiltration_25_38/blue/features.npy\n",
      "Fitting filtration 16/72: RadialFiltration with c = (25, 51), bin. thr. = 0.2\n",
      "RGB images received. Transforming to grayscale.\n"
     ]
    },
    {
     "name": "stderr",
     "output_type": "stream",
     "text": [
      "rgb2gray: 100%|██████████| 26640/26640 [00:06<00:00, 4240.24it/s]\n"
     ]
    },
    {
     "name": "stdout",
     "output_type": "stream",
     "text": [
      "FiltrationExtractor: processing 1/train/filtrations/2/RadialFiltration_25_51/gray, do_fit = True, filtration = RadialFiltration(center=array([25, 51]), n_jobs=-1)\n",
      "Got the result from ./1/train/filtrations/2/RadialFiltration_25_51/gray/diagrams.npy\n",
      "Applying Scaler to persistence diagrams.\n",
      "DiagramVectorizer: fitting complete\n",
      "Got the result from ./1/train/filtrations/2/RadialFiltration_25_51/gray/features.npy\n",
      "FiltrationExtractor: processing 1/train/filtrations/2/RadialFiltration_25_51/gray, do_fit = False, filtration = RadialFiltration(center=array([25, 51]), n_jobs=-1)\n",
      "Got the result from ./1/train/filtrations/2/RadialFiltration_25_51/gray/diagrams.npy\n",
      "Applying Scaler to persistence diagrams.\n",
      "Got the result from ./1/train/filtrations/2/RadialFiltration_25_51/gray/features.npy\n",
      "FiltrationExtractor: processing 1/train/filtrations/2/RadialFiltration_25_51/red, do_fit = True, filtration = RadialFiltration(center=array([25, 51]), n_jobs=-1)\n",
      "Got the result from ./1/train/filtrations/2/RadialFiltration_25_51/red/diagrams.npy\n",
      "Applying Scaler to persistence diagrams.\n",
      "DiagramVectorizer: fitting complete\n",
      "Got the result from ./1/train/filtrations/2/RadialFiltration_25_51/red/features.npy\n",
      "FiltrationExtractor: processing 1/train/filtrations/2/RadialFiltration_25_51/red, do_fit = False, filtration = RadialFiltration(center=array([25, 51]), n_jobs=-1)\n",
      "Got the result from ./1/train/filtrations/2/RadialFiltration_25_51/red/diagrams.npy\n",
      "Applying Scaler to persistence diagrams.\n",
      "Got the result from ./1/train/filtrations/2/RadialFiltration_25_51/red/features.npy\n",
      "FiltrationExtractor: processing 1/train/filtrations/2/RadialFiltration_25_51/green, do_fit = True, filtration = RadialFiltration(center=array([25, 51]), n_jobs=-1)\n",
      "Got the result from ./1/train/filtrations/2/RadialFiltration_25_51/green/diagrams.npy\n",
      "Applying Scaler to persistence diagrams.\n",
      "DiagramVectorizer: fitting complete\n",
      "Got the result from ./1/train/filtrations/2/RadialFiltration_25_51/green/features.npy\n",
      "FiltrationExtractor: processing 1/train/filtrations/2/RadialFiltration_25_51/green, do_fit = False, filtration = RadialFiltration(center=array([25, 51]), n_jobs=-1)\n",
      "Got the result from ./1/train/filtrations/2/RadialFiltration_25_51/green/diagrams.npy\n",
      "Applying Scaler to persistence diagrams.\n",
      "Got the result from ./1/train/filtrations/2/RadialFiltration_25_51/green/features.npy\n",
      "FiltrationExtractor: processing 1/train/filtrations/2/RadialFiltration_25_51/blue, do_fit = True, filtration = RadialFiltration(center=array([25, 51]), n_jobs=-1)\n",
      "Got the result from ./1/train/filtrations/2/RadialFiltration_25_51/blue/diagrams.npy\n",
      "Applying Scaler to persistence diagrams.\n",
      "DiagramVectorizer: fitting complete\n",
      "Got the result from ./1/train/filtrations/2/RadialFiltration_25_51/blue/features.npy\n",
      "FiltrationExtractor: processing 1/train/filtrations/2/RadialFiltration_25_51/blue, do_fit = False, filtration = RadialFiltration(center=array([25, 51]), n_jobs=-1)\n",
      "Got the result from ./1/train/filtrations/2/RadialFiltration_25_51/blue/diagrams.npy\n",
      "Applying Scaler to persistence diagrams.\n",
      "Got the result from ./1/train/filtrations/2/RadialFiltration_25_51/blue/features.npy\n",
      "Fitting filtration 17/72: RadialFiltration with c = (38, 12), bin. thr. = 0.2\n",
      "RGB images received. Transforming to grayscale.\n"
     ]
    },
    {
     "name": "stderr",
     "output_type": "stream",
     "text": [
      "rgb2gray: 100%|██████████| 26640/26640 [00:07<00:00, 3647.72it/s]\n"
     ]
    },
    {
     "name": "stdout",
     "output_type": "stream",
     "text": [
      "FiltrationExtractor: processing 1/train/filtrations/2/RadialFiltration_38_12/gray, do_fit = True, filtration = RadialFiltration(center=array([38, 12]), n_jobs=-1)\n",
      "Got the result from ./1/train/filtrations/2/RadialFiltration_38_12/gray/diagrams.npy\n",
      "Applying Scaler to persistence diagrams.\n",
      "DiagramVectorizer: fitting complete\n",
      "Got the result from ./1/train/filtrations/2/RadialFiltration_38_12/gray/features.npy\n",
      "FiltrationExtractor: processing 1/train/filtrations/2/RadialFiltration_38_12/gray, do_fit = False, filtration = RadialFiltration(center=array([38, 12]), n_jobs=-1)\n",
      "Got the result from ./1/train/filtrations/2/RadialFiltration_38_12/gray/diagrams.npy\n",
      "Applying Scaler to persistence diagrams.\n",
      "Got the result from ./1/train/filtrations/2/RadialFiltration_38_12/gray/features.npy\n",
      "FiltrationExtractor: processing 1/train/filtrations/2/RadialFiltration_38_12/red, do_fit = True, filtration = RadialFiltration(center=array([38, 12]), n_jobs=-1)\n",
      "Got the result from ./1/train/filtrations/2/RadialFiltration_38_12/red/diagrams.npy\n",
      "Applying Scaler to persistence diagrams.\n",
      "DiagramVectorizer: fitting complete\n",
      "Got the result from ./1/train/filtrations/2/RadialFiltration_38_12/red/features.npy\n",
      "FiltrationExtractor: processing 1/train/filtrations/2/RadialFiltration_38_12/red, do_fit = False, filtration = RadialFiltration(center=array([38, 12]), n_jobs=-1)\n",
      "Got the result from ./1/train/filtrations/2/RadialFiltration_38_12/red/diagrams.npy\n",
      "Applying Scaler to persistence diagrams.\n",
      "Got the result from ./1/train/filtrations/2/RadialFiltration_38_12/red/features.npy\n",
      "FiltrationExtractor: processing 1/train/filtrations/2/RadialFiltration_38_12/green, do_fit = True, filtration = RadialFiltration(center=array([38, 12]), n_jobs=-1)\n",
      "Got the result from ./1/train/filtrations/2/RadialFiltration_38_12/green/diagrams.npy\n",
      "Applying Scaler to persistence diagrams.\n",
      "DiagramVectorizer: fitting complete\n",
      "Got the result from ./1/train/filtrations/2/RadialFiltration_38_12/green/features.npy\n",
      "FiltrationExtractor: processing 1/train/filtrations/2/RadialFiltration_38_12/green, do_fit = False, filtration = RadialFiltration(center=array([38, 12]), n_jobs=-1)\n",
      "Got the result from ./1/train/filtrations/2/RadialFiltration_38_12/green/diagrams.npy\n",
      "Applying Scaler to persistence diagrams.\n",
      "Got the result from ./1/train/filtrations/2/RadialFiltration_38_12/green/features.npy\n",
      "FiltrationExtractor: processing 1/train/filtrations/2/RadialFiltration_38_12/blue, do_fit = True, filtration = RadialFiltration(center=array([38, 12]), n_jobs=-1)\n",
      "Got the result from ./1/train/filtrations/2/RadialFiltration_38_12/blue/diagrams.npy\n",
      "Applying Scaler to persistence diagrams.\n",
      "DiagramVectorizer: fitting complete\n",
      "Got the result from ./1/train/filtrations/2/RadialFiltration_38_12/blue/features.npy\n",
      "FiltrationExtractor: processing 1/train/filtrations/2/RadialFiltration_38_12/blue, do_fit = False, filtration = RadialFiltration(center=array([38, 12]), n_jobs=-1)\n",
      "Got the result from ./1/train/filtrations/2/RadialFiltration_38_12/blue/diagrams.npy\n",
      "Applying Scaler to persistence diagrams.\n",
      "Got the result from ./1/train/filtrations/2/RadialFiltration_38_12/blue/features.npy\n",
      "Fitting filtration 18/72: RadialFiltration with c = (38, 25), bin. thr. = 0.2\n",
      "RGB images received. Transforming to grayscale.\n"
     ]
    },
    {
     "name": "stderr",
     "output_type": "stream",
     "text": [
      "rgb2gray: 100%|██████████| 26640/26640 [00:06<00:00, 4084.62it/s]\n"
     ]
    },
    {
     "name": "stdout",
     "output_type": "stream",
     "text": [
      "FiltrationExtractor: processing 1/train/filtrations/2/RadialFiltration_38_25/gray, do_fit = True, filtration = RadialFiltration(center=array([38, 25]), n_jobs=-1)\n",
      "Got the result from ./1/train/filtrations/2/RadialFiltration_38_25/gray/diagrams.npy\n",
      "Applying Scaler to persistence diagrams.\n",
      "DiagramVectorizer: fitting complete\n",
      "Got the result from ./1/train/filtrations/2/RadialFiltration_38_25/gray/features.npy\n",
      "FiltrationExtractor: processing 1/train/filtrations/2/RadialFiltration_38_25/gray, do_fit = False, filtration = RadialFiltration(center=array([38, 25]), n_jobs=-1)\n",
      "Got the result from ./1/train/filtrations/2/RadialFiltration_38_25/gray/diagrams.npy\n",
      "Applying Scaler to persistence diagrams.\n",
      "Got the result from ./1/train/filtrations/2/RadialFiltration_38_25/gray/features.npy\n",
      "FiltrationExtractor: processing 1/train/filtrations/2/RadialFiltration_38_25/red, do_fit = True, filtration = RadialFiltration(center=array([38, 25]), n_jobs=-1)\n",
      "Got the result from ./1/train/filtrations/2/RadialFiltration_38_25/red/diagrams.npy\n",
      "Applying Scaler to persistence diagrams.\n",
      "DiagramVectorizer: fitting complete\n",
      "Got the result from ./1/train/filtrations/2/RadialFiltration_38_25/red/features.npy\n",
      "FiltrationExtractor: processing 1/train/filtrations/2/RadialFiltration_38_25/red, do_fit = False, filtration = RadialFiltration(center=array([38, 25]), n_jobs=-1)\n",
      "Got the result from ./1/train/filtrations/2/RadialFiltration_38_25/red/diagrams.npy\n",
      "Applying Scaler to persistence diagrams.\n",
      "Got the result from ./1/train/filtrations/2/RadialFiltration_38_25/red/features.npy\n",
      "FiltrationExtractor: processing 1/train/filtrations/2/RadialFiltration_38_25/green, do_fit = True, filtration = RadialFiltration(center=array([38, 25]), n_jobs=-1)\n",
      "Got the result from ./1/train/filtrations/2/RadialFiltration_38_25/green/diagrams.npy\n",
      "Applying Scaler to persistence diagrams.\n",
      "DiagramVectorizer: fitting complete\n",
      "Got the result from ./1/train/filtrations/2/RadialFiltration_38_25/green/features.npy\n",
      "FiltrationExtractor: processing 1/train/filtrations/2/RadialFiltration_38_25/green, do_fit = False, filtration = RadialFiltration(center=array([38, 25]), n_jobs=-1)\n",
      "Got the result from ./1/train/filtrations/2/RadialFiltration_38_25/green/diagrams.npy\n",
      "Applying Scaler to persistence diagrams.\n",
      "Got the result from ./1/train/filtrations/2/RadialFiltration_38_25/green/features.npy\n",
      "FiltrationExtractor: processing 1/train/filtrations/2/RadialFiltration_38_25/blue, do_fit = True, filtration = RadialFiltration(center=array([38, 25]), n_jobs=-1)\n",
      "Got the result from ./1/train/filtrations/2/RadialFiltration_38_25/blue/diagrams.npy\n",
      "Applying Scaler to persistence diagrams.\n",
      "DiagramVectorizer: fitting complete\n",
      "Got the result from ./1/train/filtrations/2/RadialFiltration_38_25/blue/features.npy\n",
      "FiltrationExtractor: processing 1/train/filtrations/2/RadialFiltration_38_25/blue, do_fit = False, filtration = RadialFiltration(center=array([38, 25]), n_jobs=-1)\n",
      "Got the result from ./1/train/filtrations/2/RadialFiltration_38_25/blue/diagrams.npy\n",
      "Applying Scaler to persistence diagrams.\n",
      "Got the result from ./1/train/filtrations/2/RadialFiltration_38_25/blue/features.npy\n",
      "Fitting filtration 19/72: RadialFiltration with c = (38, 38), bin. thr. = 0.2\n",
      "RGB images received. Transforming to grayscale.\n"
     ]
    },
    {
     "name": "stderr",
     "output_type": "stream",
     "text": [
      "rgb2gray: 100%|██████████| 26640/26640 [00:06<00:00, 4058.47it/s]\n"
     ]
    },
    {
     "name": "stdout",
     "output_type": "stream",
     "text": [
      "FiltrationExtractor: processing 1/train/filtrations/2/RadialFiltration_38_38/gray, do_fit = True, filtration = RadialFiltration(center=array([38, 38]), n_jobs=-1)\n",
      "Got the result from ./1/train/filtrations/2/RadialFiltration_38_38/gray/diagrams.npy\n",
      "Applying Scaler to persistence diagrams.\n",
      "DiagramVectorizer: fitting complete\n",
      "Got the result from ./1/train/filtrations/2/RadialFiltration_38_38/gray/features.npy\n",
      "FiltrationExtractor: processing 1/train/filtrations/2/RadialFiltration_38_38/gray, do_fit = False, filtration = RadialFiltration(center=array([38, 38]), n_jobs=-1)\n",
      "Got the result from ./1/train/filtrations/2/RadialFiltration_38_38/gray/diagrams.npy\n",
      "Applying Scaler to persistence diagrams.\n",
      "Got the result from ./1/train/filtrations/2/RadialFiltration_38_38/gray/features.npy\n",
      "FiltrationExtractor: processing 1/train/filtrations/2/RadialFiltration_38_38/red, do_fit = True, filtration = RadialFiltration(center=array([38, 38]), n_jobs=-1)\n",
      "Got the result from ./1/train/filtrations/2/RadialFiltration_38_38/red/diagrams.npy\n",
      "Applying Scaler to persistence diagrams.\n",
      "DiagramVectorizer: fitting complete\n",
      "Got the result from ./1/train/filtrations/2/RadialFiltration_38_38/red/features.npy\n",
      "FiltrationExtractor: processing 1/train/filtrations/2/RadialFiltration_38_38/red, do_fit = False, filtration = RadialFiltration(center=array([38, 38]), n_jobs=-1)\n",
      "Got the result from ./1/train/filtrations/2/RadialFiltration_38_38/red/diagrams.npy\n",
      "Applying Scaler to persistence diagrams.\n",
      "Got the result from ./1/train/filtrations/2/RadialFiltration_38_38/red/features.npy\n",
      "FiltrationExtractor: processing 1/train/filtrations/2/RadialFiltration_38_38/green, do_fit = True, filtration = RadialFiltration(center=array([38, 38]), n_jobs=-1)\n",
      "Got the result from ./1/train/filtrations/2/RadialFiltration_38_38/green/diagrams.npy\n",
      "Applying Scaler to persistence diagrams.\n",
      "DiagramVectorizer: fitting complete\n",
      "Got the result from ./1/train/filtrations/2/RadialFiltration_38_38/green/features.npy\n",
      "FiltrationExtractor: processing 1/train/filtrations/2/RadialFiltration_38_38/green, do_fit = False, filtration = RadialFiltration(center=array([38, 38]), n_jobs=-1)\n",
      "Got the result from ./1/train/filtrations/2/RadialFiltration_38_38/green/diagrams.npy\n",
      "Applying Scaler to persistence diagrams.\n",
      "Got the result from ./1/train/filtrations/2/RadialFiltration_38_38/green/features.npy\n",
      "FiltrationExtractor: processing 1/train/filtrations/2/RadialFiltration_38_38/blue, do_fit = True, filtration = RadialFiltration(center=array([38, 38]), n_jobs=-1)\n",
      "Got the result from ./1/train/filtrations/2/RadialFiltration_38_38/blue/diagrams.npy\n",
      "Applying Scaler to persistence diagrams.\n",
      "DiagramVectorizer: fitting complete\n",
      "Got the result from ./1/train/filtrations/2/RadialFiltration_38_38/blue/features.npy\n",
      "FiltrationExtractor: processing 1/train/filtrations/2/RadialFiltration_38_38/blue, do_fit = False, filtration = RadialFiltration(center=array([38, 38]), n_jobs=-1)\n",
      "Got the result from ./1/train/filtrations/2/RadialFiltration_38_38/blue/diagrams.npy\n",
      "Applying Scaler to persistence diagrams.\n",
      "Got the result from ./1/train/filtrations/2/RadialFiltration_38_38/blue/features.npy\n",
      "Fitting filtration 20/72: RadialFiltration with c = (38, 51), bin. thr. = 0.2\n",
      "RGB images received. Transforming to grayscale.\n"
     ]
    },
    {
     "name": "stderr",
     "output_type": "stream",
     "text": [
      "rgb2gray: 100%|██████████| 26640/26640 [00:06<00:00, 3938.50it/s]\n"
     ]
    },
    {
     "name": "stdout",
     "output_type": "stream",
     "text": [
      "FiltrationExtractor: processing 1/train/filtrations/2/RadialFiltration_38_51/gray, do_fit = True, filtration = RadialFiltration(center=array([38, 51]), n_jobs=-1)\n",
      "Got the result from ./1/train/filtrations/2/RadialFiltration_38_51/gray/diagrams.npy\n",
      "Applying Scaler to persistence diagrams.\n",
      "DiagramVectorizer: fitting complete\n",
      "Got the result from ./1/train/filtrations/2/RadialFiltration_38_51/gray/features.npy\n",
      "FiltrationExtractor: processing 1/train/filtrations/2/RadialFiltration_38_51/gray, do_fit = False, filtration = RadialFiltration(center=array([38, 51]), n_jobs=-1)\n",
      "Got the result from ./1/train/filtrations/2/RadialFiltration_38_51/gray/diagrams.npy\n",
      "Applying Scaler to persistence diagrams.\n",
      "Got the result from ./1/train/filtrations/2/RadialFiltration_38_51/gray/features.npy\n",
      "FiltrationExtractor: processing 1/train/filtrations/2/RadialFiltration_38_51/red, do_fit = True, filtration = RadialFiltration(center=array([38, 51]), n_jobs=-1)\n",
      "Got the result from ./1/train/filtrations/2/RadialFiltration_38_51/red/diagrams.npy\n",
      "Applying Scaler to persistence diagrams.\n",
      "DiagramVectorizer: fitting complete\n",
      "Got the result from ./1/train/filtrations/2/RadialFiltration_38_51/red/features.npy\n",
      "FiltrationExtractor: processing 1/train/filtrations/2/RadialFiltration_38_51/red, do_fit = False, filtration = RadialFiltration(center=array([38, 51]), n_jobs=-1)\n",
      "Got the result from ./1/train/filtrations/2/RadialFiltration_38_51/red/diagrams.npy\n",
      "Applying Scaler to persistence diagrams.\n",
      "Got the result from ./1/train/filtrations/2/RadialFiltration_38_51/red/features.npy\n",
      "FiltrationExtractor: processing 1/train/filtrations/2/RadialFiltration_38_51/green, do_fit = True, filtration = RadialFiltration(center=array([38, 51]), n_jobs=-1)\n",
      "Got the result from ./1/train/filtrations/2/RadialFiltration_38_51/green/diagrams.npy\n",
      "Applying Scaler to persistence diagrams.\n",
      "DiagramVectorizer: fitting complete\n",
      "Got the result from ./1/train/filtrations/2/RadialFiltration_38_51/green/features.npy\n",
      "FiltrationExtractor: processing 1/train/filtrations/2/RadialFiltration_38_51/green, do_fit = False, filtration = RadialFiltration(center=array([38, 51]), n_jobs=-1)\n",
      "Got the result from ./1/train/filtrations/2/RadialFiltration_38_51/green/diagrams.npy\n",
      "Applying Scaler to persistence diagrams.\n",
      "Got the result from ./1/train/filtrations/2/RadialFiltration_38_51/green/features.npy\n",
      "FiltrationExtractor: processing 1/train/filtrations/2/RadialFiltration_38_51/blue, do_fit = True, filtration = RadialFiltration(center=array([38, 51]), n_jobs=-1)\n",
      "Got the result from ./1/train/filtrations/2/RadialFiltration_38_51/blue/diagrams.npy\n",
      "Applying Scaler to persistence diagrams.\n",
      "DiagramVectorizer: fitting complete\n",
      "Got the result from ./1/train/filtrations/2/RadialFiltration_38_51/blue/features.npy\n",
      "FiltrationExtractor: processing 1/train/filtrations/2/RadialFiltration_38_51/blue, do_fit = False, filtration = RadialFiltration(center=array([38, 51]), n_jobs=-1)\n",
      "Got the result from ./1/train/filtrations/2/RadialFiltration_38_51/blue/diagrams.npy\n",
      "Applying Scaler to persistence diagrams.\n",
      "Got the result from ./1/train/filtrations/2/RadialFiltration_38_51/blue/features.npy\n",
      "Fitting filtration 21/72: RadialFiltration with c = (51, 12), bin. thr. = 0.2\n",
      "RGB images received. Transforming to grayscale.\n"
     ]
    },
    {
     "name": "stderr",
     "output_type": "stream",
     "text": [
      "rgb2gray: 100%|██████████| 26640/26640 [00:06<00:00, 4274.36it/s]\n"
     ]
    },
    {
     "name": "stdout",
     "output_type": "stream",
     "text": [
      "FiltrationExtractor: processing 1/train/filtrations/2/RadialFiltration_51_12/gray, do_fit = True, filtration = RadialFiltration(center=array([51, 12]), n_jobs=-1)\n",
      "Got the result from ./1/train/filtrations/2/RadialFiltration_51_12/gray/diagrams.npy\n",
      "Applying Scaler to persistence diagrams.\n",
      "DiagramVectorizer: fitting complete\n",
      "Got the result from ./1/train/filtrations/2/RadialFiltration_51_12/gray/features.npy\n",
      "FiltrationExtractor: processing 1/train/filtrations/2/RadialFiltration_51_12/gray, do_fit = False, filtration = RadialFiltration(center=array([51, 12]), n_jobs=-1)\n",
      "Got the result from ./1/train/filtrations/2/RadialFiltration_51_12/gray/diagrams.npy\n",
      "Applying Scaler to persistence diagrams.\n",
      "Got the result from ./1/train/filtrations/2/RadialFiltration_51_12/gray/features.npy\n",
      "FiltrationExtractor: processing 1/train/filtrations/2/RadialFiltration_51_12/red, do_fit = True, filtration = RadialFiltration(center=array([51, 12]), n_jobs=-1)\n",
      "Got the result from ./1/train/filtrations/2/RadialFiltration_51_12/red/diagrams.npy\n",
      "Applying Scaler to persistence diagrams.\n",
      "DiagramVectorizer: fitting complete\n",
      "Got the result from ./1/train/filtrations/2/RadialFiltration_51_12/red/features.npy\n",
      "FiltrationExtractor: processing 1/train/filtrations/2/RadialFiltration_51_12/red, do_fit = False, filtration = RadialFiltration(center=array([51, 12]), n_jobs=-1)\n",
      "Got the result from ./1/train/filtrations/2/RadialFiltration_51_12/red/diagrams.npy\n",
      "Applying Scaler to persistence diagrams.\n",
      "Got the result from ./1/train/filtrations/2/RadialFiltration_51_12/red/features.npy\n",
      "FiltrationExtractor: processing 1/train/filtrations/2/RadialFiltration_51_12/green, do_fit = True, filtration = RadialFiltration(center=array([51, 12]), n_jobs=-1)\n",
      "Got the result from ./1/train/filtrations/2/RadialFiltration_51_12/green/diagrams.npy\n",
      "Applying Scaler to persistence diagrams.\n",
      "DiagramVectorizer: fitting complete\n",
      "Got the result from ./1/train/filtrations/2/RadialFiltration_51_12/green/features.npy\n",
      "FiltrationExtractor: processing 1/train/filtrations/2/RadialFiltration_51_12/green, do_fit = False, filtration = RadialFiltration(center=array([51, 12]), n_jobs=-1)\n",
      "Got the result from ./1/train/filtrations/2/RadialFiltration_51_12/green/diagrams.npy\n",
      "Applying Scaler to persistence diagrams.\n",
      "Got the result from ./1/train/filtrations/2/RadialFiltration_51_12/green/features.npy\n",
      "FiltrationExtractor: processing 1/train/filtrations/2/RadialFiltration_51_12/blue, do_fit = True, filtration = RadialFiltration(center=array([51, 12]), n_jobs=-1)\n",
      "Got the result from ./1/train/filtrations/2/RadialFiltration_51_12/blue/diagrams.npy\n",
      "Applying Scaler to persistence diagrams.\n",
      "DiagramVectorizer: fitting complete\n",
      "Got the result from ./1/train/filtrations/2/RadialFiltration_51_12/blue/features.npy\n",
      "FiltrationExtractor: processing 1/train/filtrations/2/RadialFiltration_51_12/blue, do_fit = False, filtration = RadialFiltration(center=array([51, 12]), n_jobs=-1)\n",
      "Got the result from ./1/train/filtrations/2/RadialFiltration_51_12/blue/diagrams.npy\n",
      "Applying Scaler to persistence diagrams.\n",
      "Got the result from ./1/train/filtrations/2/RadialFiltration_51_12/blue/features.npy\n",
      "Fitting filtration 22/72: RadialFiltration with c = (51, 25), bin. thr. = 0.2\n",
      "RGB images received. Transforming to grayscale.\n"
     ]
    },
    {
     "name": "stderr",
     "output_type": "stream",
     "text": [
      "rgb2gray: 100%|██████████| 26640/26640 [00:07<00:00, 3666.04it/s]\n"
     ]
    },
    {
     "name": "stdout",
     "output_type": "stream",
     "text": [
      "FiltrationExtractor: processing 1/train/filtrations/2/RadialFiltration_51_25/gray, do_fit = True, filtration = RadialFiltration(center=array([51, 25]), n_jobs=-1)\n",
      "Got the result from ./1/train/filtrations/2/RadialFiltration_51_25/gray/diagrams.npy\n",
      "Applying Scaler to persistence diagrams.\n",
      "DiagramVectorizer: fitting complete\n",
      "Got the result from ./1/train/filtrations/2/RadialFiltration_51_25/gray/features.npy\n",
      "FiltrationExtractor: processing 1/train/filtrations/2/RadialFiltration_51_25/gray, do_fit = False, filtration = RadialFiltration(center=array([51, 25]), n_jobs=-1)\n",
      "Got the result from ./1/train/filtrations/2/RadialFiltration_51_25/gray/diagrams.npy\n",
      "Applying Scaler to persistence diagrams.\n",
      "Got the result from ./1/train/filtrations/2/RadialFiltration_51_25/gray/features.npy\n",
      "FiltrationExtractor: processing 1/train/filtrations/2/RadialFiltration_51_25/red, do_fit = True, filtration = RadialFiltration(center=array([51, 25]), n_jobs=-1)\n",
      "Got the result from ./1/train/filtrations/2/RadialFiltration_51_25/red/diagrams.npy\n",
      "Applying Scaler to persistence diagrams.\n",
      "DiagramVectorizer: fitting complete\n",
      "Got the result from ./1/train/filtrations/2/RadialFiltration_51_25/red/features.npy\n",
      "FiltrationExtractor: processing 1/train/filtrations/2/RadialFiltration_51_25/red, do_fit = False, filtration = RadialFiltration(center=array([51, 25]), n_jobs=-1)\n",
      "Got the result from ./1/train/filtrations/2/RadialFiltration_51_25/red/diagrams.npy\n",
      "Applying Scaler to persistence diagrams.\n",
      "Got the result from ./1/train/filtrations/2/RadialFiltration_51_25/red/features.npy\n",
      "FiltrationExtractor: processing 1/train/filtrations/2/RadialFiltration_51_25/green, do_fit = True, filtration = RadialFiltration(center=array([51, 25]), n_jobs=-1)\n",
      "Got the result from ./1/train/filtrations/2/RadialFiltration_51_25/green/diagrams.npy\n",
      "Applying Scaler to persistence diagrams.\n",
      "DiagramVectorizer: fitting complete\n",
      "Got the result from ./1/train/filtrations/2/RadialFiltration_51_25/green/features.npy\n",
      "FiltrationExtractor: processing 1/train/filtrations/2/RadialFiltration_51_25/green, do_fit = False, filtration = RadialFiltration(center=array([51, 25]), n_jobs=-1)\n",
      "Got the result from ./1/train/filtrations/2/RadialFiltration_51_25/green/diagrams.npy\n",
      "Applying Scaler to persistence diagrams.\n",
      "Got the result from ./1/train/filtrations/2/RadialFiltration_51_25/green/features.npy\n",
      "FiltrationExtractor: processing 1/train/filtrations/2/RadialFiltration_51_25/blue, do_fit = True, filtration = RadialFiltration(center=array([51, 25]), n_jobs=-1)\n",
      "Got the result from ./1/train/filtrations/2/RadialFiltration_51_25/blue/diagrams.npy\n",
      "Applying Scaler to persistence diagrams.\n",
      "DiagramVectorizer: fitting complete\n",
      "Got the result from ./1/train/filtrations/2/RadialFiltration_51_25/blue/features.npy\n",
      "FiltrationExtractor: processing 1/train/filtrations/2/RadialFiltration_51_25/blue, do_fit = False, filtration = RadialFiltration(center=array([51, 25]), n_jobs=-1)\n",
      "Got the result from ./1/train/filtrations/2/RadialFiltration_51_25/blue/diagrams.npy\n",
      "Applying Scaler to persistence diagrams.\n",
      "Got the result from ./1/train/filtrations/2/RadialFiltration_51_25/blue/features.npy\n",
      "Fitting filtration 23/72: RadialFiltration with c = (51, 38), bin. thr. = 0.2\n",
      "RGB images received. Transforming to grayscale.\n"
     ]
    },
    {
     "name": "stderr",
     "output_type": "stream",
     "text": [
      "rgb2gray: 100%|██████████| 26640/26640 [00:06<00:00, 4158.92it/s]\n"
     ]
    },
    {
     "name": "stdout",
     "output_type": "stream",
     "text": [
      "FiltrationExtractor: processing 1/train/filtrations/2/RadialFiltration_51_38/gray, do_fit = True, filtration = RadialFiltration(center=array([51, 38]), n_jobs=-1)\n",
      "Got the result from ./1/train/filtrations/2/RadialFiltration_51_38/gray/diagrams.npy\n",
      "Applying Scaler to persistence diagrams.\n",
      "DiagramVectorizer: fitting complete\n",
      "Got the result from ./1/train/filtrations/2/RadialFiltration_51_38/gray/features.npy\n",
      "FiltrationExtractor: processing 1/train/filtrations/2/RadialFiltration_51_38/gray, do_fit = False, filtration = RadialFiltration(center=array([51, 38]), n_jobs=-1)\n",
      "Got the result from ./1/train/filtrations/2/RadialFiltration_51_38/gray/diagrams.npy\n",
      "Applying Scaler to persistence diagrams.\n",
      "Got the result from ./1/train/filtrations/2/RadialFiltration_51_38/gray/features.npy\n",
      "FiltrationExtractor: processing 1/train/filtrations/2/RadialFiltration_51_38/red, do_fit = True, filtration = RadialFiltration(center=array([51, 38]), n_jobs=-1)\n",
      "Got the result from ./1/train/filtrations/2/RadialFiltration_51_38/red/diagrams.npy\n",
      "Applying Scaler to persistence diagrams.\n",
      "DiagramVectorizer: fitting complete\n",
      "Got the result from ./1/train/filtrations/2/RadialFiltration_51_38/red/features.npy\n",
      "FiltrationExtractor: processing 1/train/filtrations/2/RadialFiltration_51_38/red, do_fit = False, filtration = RadialFiltration(center=array([51, 38]), n_jobs=-1)\n",
      "Got the result from ./1/train/filtrations/2/RadialFiltration_51_38/red/diagrams.npy\n",
      "Applying Scaler to persistence diagrams.\n",
      "Got the result from ./1/train/filtrations/2/RadialFiltration_51_38/red/features.npy\n",
      "FiltrationExtractor: processing 1/train/filtrations/2/RadialFiltration_51_38/green, do_fit = True, filtration = RadialFiltration(center=array([51, 38]), n_jobs=-1)\n",
      "Got the result from ./1/train/filtrations/2/RadialFiltration_51_38/green/diagrams.npy\n",
      "Applying Scaler to persistence diagrams.\n",
      "DiagramVectorizer: fitting complete\n",
      "Got the result from ./1/train/filtrations/2/RadialFiltration_51_38/green/features.npy\n",
      "FiltrationExtractor: processing 1/train/filtrations/2/RadialFiltration_51_38/green, do_fit = False, filtration = RadialFiltration(center=array([51, 38]), n_jobs=-1)\n",
      "Got the result from ./1/train/filtrations/2/RadialFiltration_51_38/green/diagrams.npy\n",
      "Applying Scaler to persistence diagrams.\n",
      "Got the result from ./1/train/filtrations/2/RadialFiltration_51_38/green/features.npy\n",
      "FiltrationExtractor: processing 1/train/filtrations/2/RadialFiltration_51_38/blue, do_fit = True, filtration = RadialFiltration(center=array([51, 38]), n_jobs=-1)\n",
      "Got the result from ./1/train/filtrations/2/RadialFiltration_51_38/blue/diagrams.npy\n",
      "Applying Scaler to persistence diagrams.\n",
      "DiagramVectorizer: fitting complete\n",
      "Got the result from ./1/train/filtrations/2/RadialFiltration_51_38/blue/features.npy\n",
      "FiltrationExtractor: processing 1/train/filtrations/2/RadialFiltration_51_38/blue, do_fit = False, filtration = RadialFiltration(center=array([51, 38]), n_jobs=-1)\n",
      "Got the result from ./1/train/filtrations/2/RadialFiltration_51_38/blue/diagrams.npy\n",
      "Applying Scaler to persistence diagrams.\n",
      "Got the result from ./1/train/filtrations/2/RadialFiltration_51_38/blue/features.npy\n",
      "Fitting filtration 24/72: RadialFiltration with c = (51, 51), bin. thr. = 0.2\n",
      "RGB images received. Transforming to grayscale.\n"
     ]
    },
    {
     "name": "stderr",
     "output_type": "stream",
     "text": [
      "rgb2gray: 100%|██████████| 26640/26640 [00:06<00:00, 4097.66it/s]\n"
     ]
    },
    {
     "name": "stdout",
     "output_type": "stream",
     "text": [
      "FiltrationExtractor: processing 1/train/filtrations/2/RadialFiltration_51_51/gray, do_fit = True, filtration = RadialFiltration(center=array([51, 51]), n_jobs=-1)\n",
      "Got the result from ./1/train/filtrations/2/RadialFiltration_51_51/gray/diagrams.npy\n",
      "Applying Scaler to persistence diagrams.\n",
      "DiagramVectorizer: fitting complete\n",
      "Got the result from ./1/train/filtrations/2/RadialFiltration_51_51/gray/features.npy\n",
      "FiltrationExtractor: processing 1/train/filtrations/2/RadialFiltration_51_51/gray, do_fit = False, filtration = RadialFiltration(center=array([51, 51]), n_jobs=-1)\n",
      "Got the result from ./1/train/filtrations/2/RadialFiltration_51_51/gray/diagrams.npy\n",
      "Applying Scaler to persistence diagrams.\n",
      "Got the result from ./1/train/filtrations/2/RadialFiltration_51_51/gray/features.npy\n",
      "FiltrationExtractor: processing 1/train/filtrations/2/RadialFiltration_51_51/red, do_fit = True, filtration = RadialFiltration(center=array([51, 51]), n_jobs=-1)\n",
      "Got the result from ./1/train/filtrations/2/RadialFiltration_51_51/red/diagrams.npy\n",
      "Applying Scaler to persistence diagrams.\n",
      "DiagramVectorizer: fitting complete\n",
      "Got the result from ./1/train/filtrations/2/RadialFiltration_51_51/red/features.npy\n",
      "FiltrationExtractor: processing 1/train/filtrations/2/RadialFiltration_51_51/red, do_fit = False, filtration = RadialFiltration(center=array([51, 51]), n_jobs=-1)\n",
      "Got the result from ./1/train/filtrations/2/RadialFiltration_51_51/red/diagrams.npy\n",
      "Applying Scaler to persistence diagrams.\n",
      "Got the result from ./1/train/filtrations/2/RadialFiltration_51_51/red/features.npy\n",
      "FiltrationExtractor: processing 1/train/filtrations/2/RadialFiltration_51_51/green, do_fit = True, filtration = RadialFiltration(center=array([51, 51]), n_jobs=-1)\n",
      "Got the result from ./1/train/filtrations/2/RadialFiltration_51_51/green/diagrams.npy\n",
      "Applying Scaler to persistence diagrams.\n",
      "DiagramVectorizer: fitting complete\n",
      "Got the result from ./1/train/filtrations/2/RadialFiltration_51_51/green/features.npy\n",
      "FiltrationExtractor: processing 1/train/filtrations/2/RadialFiltration_51_51/green, do_fit = False, filtration = RadialFiltration(center=array([51, 51]), n_jobs=-1)\n",
      "Got the result from ./1/train/filtrations/2/RadialFiltration_51_51/green/diagrams.npy\n",
      "Applying Scaler to persistence diagrams.\n",
      "Got the result from ./1/train/filtrations/2/RadialFiltration_51_51/green/features.npy\n",
      "FiltrationExtractor: processing 1/train/filtrations/2/RadialFiltration_51_51/blue, do_fit = True, filtration = RadialFiltration(center=array([51, 51]), n_jobs=-1)\n",
      "Got the result from ./1/train/filtrations/2/RadialFiltration_51_51/blue/diagrams.npy\n",
      "Applying Scaler to persistence diagrams.\n",
      "DiagramVectorizer: fitting complete\n",
      "Got the result from ./1/train/filtrations/2/RadialFiltration_51_51/blue/features.npy\n",
      "FiltrationExtractor: processing 1/train/filtrations/2/RadialFiltration_51_51/blue, do_fit = False, filtration = RadialFiltration(center=array([51, 51]), n_jobs=-1)\n",
      "Got the result from ./1/train/filtrations/2/RadialFiltration_51_51/blue/diagrams.npy\n",
      "Applying Scaler to persistence diagrams.\n",
      "Got the result from ./1/train/filtrations/2/RadialFiltration_51_51/blue/features.npy\n",
      "Fitting filtration 25/72: HeightFiltration with d = (-1, -1), bin. thr. = 0.4\n",
      "RGB images received. Transforming to grayscale.\n"
     ]
    },
    {
     "name": "stderr",
     "output_type": "stream",
     "text": [
      "rgb2gray: 100%|██████████| 26640/26640 [00:06<00:00, 3971.78it/s]\n"
     ]
    },
    {
     "name": "stdout",
     "output_type": "stream",
     "text": [
      "FiltrationExtractor: processing 1/train/filtrations/4/HeightFiltrartion_-1_-1/gray, do_fit = True, filtration = HeightFiltration(direction=array([-1, -1]), n_jobs=-1)\n",
      "Got the result from ./1/train/filtrations/4/HeightFiltrartion_-1_-1/gray/diagrams.npy\n",
      "Applying Scaler to persistence diagrams.\n",
      "DiagramVectorizer: fitting complete\n",
      "Got the result from ./1/train/filtrations/4/HeightFiltrartion_-1_-1/gray/features.npy\n",
      "FiltrationExtractor: processing 1/train/filtrations/4/HeightFiltrartion_-1_-1/gray, do_fit = False, filtration = HeightFiltration(direction=array([-1, -1]), n_jobs=-1)\n",
      "Got the result from ./1/train/filtrations/4/HeightFiltrartion_-1_-1/gray/diagrams.npy\n",
      "Applying Scaler to persistence diagrams.\n",
      "Got the result from ./1/train/filtrations/4/HeightFiltrartion_-1_-1/gray/features.npy\n",
      "FiltrationExtractor: processing 1/train/filtrations/4/HeightFiltrartion_-1_-1/red, do_fit = True, filtration = HeightFiltration(direction=array([-1, -1]), n_jobs=-1)\n",
      "Got the result from ./1/train/filtrations/4/HeightFiltrartion_-1_-1/red/diagrams.npy\n",
      "Applying Scaler to persistence diagrams.\n",
      "DiagramVectorizer: fitting complete\n",
      "Got the result from ./1/train/filtrations/4/HeightFiltrartion_-1_-1/red/features.npy\n",
      "FiltrationExtractor: processing 1/train/filtrations/4/HeightFiltrartion_-1_-1/red, do_fit = False, filtration = HeightFiltration(direction=array([-1, -1]), n_jobs=-1)\n",
      "Got the result from ./1/train/filtrations/4/HeightFiltrartion_-1_-1/red/diagrams.npy\n",
      "Applying Scaler to persistence diagrams.\n",
      "Got the result from ./1/train/filtrations/4/HeightFiltrartion_-1_-1/red/features.npy\n",
      "FiltrationExtractor: processing 1/train/filtrations/4/HeightFiltrartion_-1_-1/green, do_fit = True, filtration = HeightFiltration(direction=array([-1, -1]), n_jobs=-1)\n",
      "Got the result from ./1/train/filtrations/4/HeightFiltrartion_-1_-1/green/diagrams.npy\n",
      "Applying Scaler to persistence diagrams.\n",
      "DiagramVectorizer: fitting complete\n",
      "Got the result from ./1/train/filtrations/4/HeightFiltrartion_-1_-1/green/features.npy\n",
      "FiltrationExtractor: processing 1/train/filtrations/4/HeightFiltrartion_-1_-1/green, do_fit = False, filtration = HeightFiltration(direction=array([-1, -1]), n_jobs=-1)\n",
      "Got the result from ./1/train/filtrations/4/HeightFiltrartion_-1_-1/green/diagrams.npy\n",
      "Applying Scaler to persistence diagrams.\n",
      "Got the result from ./1/train/filtrations/4/HeightFiltrartion_-1_-1/green/features.npy\n",
      "FiltrationExtractor: processing 1/train/filtrations/4/HeightFiltrartion_-1_-1/blue, do_fit = True, filtration = HeightFiltration(direction=array([-1, -1]), n_jobs=-1)\n",
      "Got the result from ./1/train/filtrations/4/HeightFiltrartion_-1_-1/blue/diagrams.npy\n",
      "Applying Scaler to persistence diagrams.\n",
      "DiagramVectorizer: fitting complete\n",
      "Got the result from ./1/train/filtrations/4/HeightFiltrartion_-1_-1/blue/features.npy\n",
      "FiltrationExtractor: processing 1/train/filtrations/4/HeightFiltrartion_-1_-1/blue, do_fit = False, filtration = HeightFiltration(direction=array([-1, -1]), n_jobs=-1)\n",
      "Got the result from ./1/train/filtrations/4/HeightFiltrartion_-1_-1/blue/diagrams.npy\n",
      "Applying Scaler to persistence diagrams.\n",
      "Got the result from ./1/train/filtrations/4/HeightFiltrartion_-1_-1/blue/features.npy\n",
      "Fitting filtration 26/72: HeightFiltration with d = (-1, 0), bin. thr. = 0.4\n",
      "RGB images received. Transforming to grayscale.\n"
     ]
    },
    {
     "name": "stderr",
     "output_type": "stream",
     "text": [
      "rgb2gray: 100%|██████████| 26640/26640 [00:07<00:00, 3762.00it/s]\n"
     ]
    },
    {
     "name": "stdout",
     "output_type": "stream",
     "text": [
      "FiltrationExtractor: processing 1/train/filtrations/4/HeightFiltrartion_-1_0/gray, do_fit = True, filtration = HeightFiltration(direction=array([-1,  0]), n_jobs=-1)\n",
      "Got the result from ./1/train/filtrations/4/HeightFiltrartion_-1_0/gray/diagrams.npy\n",
      "Applying Scaler to persistence diagrams.\n",
      "DiagramVectorizer: fitting complete\n",
      "Got the result from ./1/train/filtrations/4/HeightFiltrartion_-1_0/gray/features.npy\n",
      "FiltrationExtractor: processing 1/train/filtrations/4/HeightFiltrartion_-1_0/gray, do_fit = False, filtration = HeightFiltration(direction=array([-1,  0]), n_jobs=-1)\n",
      "Got the result from ./1/train/filtrations/4/HeightFiltrartion_-1_0/gray/diagrams.npy\n",
      "Applying Scaler to persistence diagrams.\n",
      "Got the result from ./1/train/filtrations/4/HeightFiltrartion_-1_0/gray/features.npy\n",
      "FiltrationExtractor: processing 1/train/filtrations/4/HeightFiltrartion_-1_0/red, do_fit = True, filtration = HeightFiltration(direction=array([-1,  0]), n_jobs=-1)\n",
      "Got the result from ./1/train/filtrations/4/HeightFiltrartion_-1_0/red/diagrams.npy\n",
      "Applying Scaler to persistence diagrams.\n",
      "DiagramVectorizer: fitting complete\n",
      "Got the result from ./1/train/filtrations/4/HeightFiltrartion_-1_0/red/features.npy\n",
      "FiltrationExtractor: processing 1/train/filtrations/4/HeightFiltrartion_-1_0/red, do_fit = False, filtration = HeightFiltration(direction=array([-1,  0]), n_jobs=-1)\n",
      "Got the result from ./1/train/filtrations/4/HeightFiltrartion_-1_0/red/diagrams.npy\n",
      "Applying Scaler to persistence diagrams.\n",
      "Got the result from ./1/train/filtrations/4/HeightFiltrartion_-1_0/red/features.npy\n",
      "FiltrationExtractor: processing 1/train/filtrations/4/HeightFiltrartion_-1_0/green, do_fit = True, filtration = HeightFiltration(direction=array([-1,  0]), n_jobs=-1)\n",
      "Got the result from ./1/train/filtrations/4/HeightFiltrartion_-1_0/green/diagrams.npy\n",
      "Applying Scaler to persistence diagrams.\n",
      "DiagramVectorizer: fitting complete\n",
      "Got the result from ./1/train/filtrations/4/HeightFiltrartion_-1_0/green/features.npy\n",
      "FiltrationExtractor: processing 1/train/filtrations/4/HeightFiltrartion_-1_0/green, do_fit = False, filtration = HeightFiltration(direction=array([-1,  0]), n_jobs=-1)\n",
      "Got the result from ./1/train/filtrations/4/HeightFiltrartion_-1_0/green/diagrams.npy\n",
      "Applying Scaler to persistence diagrams.\n",
      "Got the result from ./1/train/filtrations/4/HeightFiltrartion_-1_0/green/features.npy\n",
      "FiltrationExtractor: processing 1/train/filtrations/4/HeightFiltrartion_-1_0/blue, do_fit = True, filtration = HeightFiltration(direction=array([-1,  0]), n_jobs=-1)\n",
      "Got the result from ./1/train/filtrations/4/HeightFiltrartion_-1_0/blue/diagrams.npy\n",
      "Applying Scaler to persistence diagrams.\n",
      "DiagramVectorizer: fitting complete\n",
      "Got the result from ./1/train/filtrations/4/HeightFiltrartion_-1_0/blue/features.npy\n",
      "FiltrationExtractor: processing 1/train/filtrations/4/HeightFiltrartion_-1_0/blue, do_fit = False, filtration = HeightFiltration(direction=array([-1,  0]), n_jobs=-1)\n",
      "Got the result from ./1/train/filtrations/4/HeightFiltrartion_-1_0/blue/diagrams.npy\n",
      "Applying Scaler to persistence diagrams.\n",
      "Got the result from ./1/train/filtrations/4/HeightFiltrartion_-1_0/blue/features.npy\n",
      "Fitting filtration 27/72: HeightFiltration with d = (-1, 1), bin. thr. = 0.4\n",
      "RGB images received. Transforming to grayscale.\n"
     ]
    },
    {
     "name": "stderr",
     "output_type": "stream",
     "text": [
      "rgb2gray: 100%|██████████| 26640/26640 [00:06<00:00, 3825.77it/s]\n"
     ]
    },
    {
     "name": "stdout",
     "output_type": "stream",
     "text": [
      "FiltrationExtractor: processing 1/train/filtrations/4/HeightFiltrartion_-1_1/gray, do_fit = True, filtration = HeightFiltration(direction=array([-1,  1]), n_jobs=-1)\n",
      "Got the result from ./1/train/filtrations/4/HeightFiltrartion_-1_1/gray/diagrams.npy\n",
      "Applying Scaler to persistence diagrams.\n",
      "DiagramVectorizer: fitting complete\n",
      "Got the result from ./1/train/filtrations/4/HeightFiltrartion_-1_1/gray/features.npy\n",
      "FiltrationExtractor: processing 1/train/filtrations/4/HeightFiltrartion_-1_1/gray, do_fit = False, filtration = HeightFiltration(direction=array([-1,  1]), n_jobs=-1)\n",
      "Got the result from ./1/train/filtrations/4/HeightFiltrartion_-1_1/gray/diagrams.npy\n",
      "Applying Scaler to persistence diagrams.\n",
      "Got the result from ./1/train/filtrations/4/HeightFiltrartion_-1_1/gray/features.npy\n",
      "FiltrationExtractor: processing 1/train/filtrations/4/HeightFiltrartion_-1_1/red, do_fit = True, filtration = HeightFiltration(direction=array([-1,  1]), n_jobs=-1)\n",
      "Got the result from ./1/train/filtrations/4/HeightFiltrartion_-1_1/red/diagrams.npy\n",
      "Applying Scaler to persistence diagrams.\n",
      "DiagramVectorizer: fitting complete\n",
      "Got the result from ./1/train/filtrations/4/HeightFiltrartion_-1_1/red/features.npy\n",
      "FiltrationExtractor: processing 1/train/filtrations/4/HeightFiltrartion_-1_1/red, do_fit = False, filtration = HeightFiltration(direction=array([-1,  1]), n_jobs=-1)\n",
      "Got the result from ./1/train/filtrations/4/HeightFiltrartion_-1_1/red/diagrams.npy\n",
      "Applying Scaler to persistence diagrams.\n",
      "Got the result from ./1/train/filtrations/4/HeightFiltrartion_-1_1/red/features.npy\n",
      "FiltrationExtractor: processing 1/train/filtrations/4/HeightFiltrartion_-1_1/green, do_fit = True, filtration = HeightFiltration(direction=array([-1,  1]), n_jobs=-1)\n",
      "Got the result from ./1/train/filtrations/4/HeightFiltrartion_-1_1/green/diagrams.npy\n",
      "Applying Scaler to persistence diagrams.\n",
      "DiagramVectorizer: fitting complete\n",
      "Got the result from ./1/train/filtrations/4/HeightFiltrartion_-1_1/green/features.npy\n",
      "FiltrationExtractor: processing 1/train/filtrations/4/HeightFiltrartion_-1_1/green, do_fit = False, filtration = HeightFiltration(direction=array([-1,  1]), n_jobs=-1)\n",
      "Got the result from ./1/train/filtrations/4/HeightFiltrartion_-1_1/green/diagrams.npy\n",
      "Applying Scaler to persistence diagrams.\n",
      "Got the result from ./1/train/filtrations/4/HeightFiltrartion_-1_1/green/features.npy\n",
      "FiltrationExtractor: processing 1/train/filtrations/4/HeightFiltrartion_-1_1/blue, do_fit = True, filtration = HeightFiltration(direction=array([-1,  1]), n_jobs=-1)\n",
      "Got the result from ./1/train/filtrations/4/HeightFiltrartion_-1_1/blue/diagrams.npy\n",
      "Applying Scaler to persistence diagrams.\n",
      "DiagramVectorizer: fitting complete\n",
      "Got the result from ./1/train/filtrations/4/HeightFiltrartion_-1_1/blue/features.npy\n",
      "FiltrationExtractor: processing 1/train/filtrations/4/HeightFiltrartion_-1_1/blue, do_fit = False, filtration = HeightFiltration(direction=array([-1,  1]), n_jobs=-1)\n",
      "Got the result from ./1/train/filtrations/4/HeightFiltrartion_-1_1/blue/diagrams.npy\n",
      "Applying Scaler to persistence diagrams.\n",
      "Got the result from ./1/train/filtrations/4/HeightFiltrartion_-1_1/blue/features.npy\n",
      "Fitting filtration 28/72: HeightFiltration with d = (0, -1), bin. thr. = 0.4\n",
      "RGB images received. Transforming to grayscale.\n"
     ]
    },
    {
     "name": "stderr",
     "output_type": "stream",
     "text": [
      "rgb2gray: 100%|██████████| 26640/26640 [00:07<00:00, 3709.79it/s]\n"
     ]
    },
    {
     "name": "stdout",
     "output_type": "stream",
     "text": [
      "FiltrationExtractor: processing 1/train/filtrations/4/HeightFiltrartion_0_-1/gray, do_fit = True, filtration = HeightFiltration(direction=array([ 0, -1]), n_jobs=-1)\n",
      "Got the result from ./1/train/filtrations/4/HeightFiltrartion_0_-1/gray/diagrams.npy\n",
      "Applying Scaler to persistence diagrams.\n",
      "DiagramVectorizer: fitting complete\n",
      "Got the result from ./1/train/filtrations/4/HeightFiltrartion_0_-1/gray/features.npy\n",
      "FiltrationExtractor: processing 1/train/filtrations/4/HeightFiltrartion_0_-1/gray, do_fit = False, filtration = HeightFiltration(direction=array([ 0, -1]), n_jobs=-1)\n",
      "Got the result from ./1/train/filtrations/4/HeightFiltrartion_0_-1/gray/diagrams.npy\n",
      "Applying Scaler to persistence diagrams.\n",
      "Got the result from ./1/train/filtrations/4/HeightFiltrartion_0_-1/gray/features.npy\n",
      "FiltrationExtractor: processing 1/train/filtrations/4/HeightFiltrartion_0_-1/red, do_fit = True, filtration = HeightFiltration(direction=array([ 0, -1]), n_jobs=-1)\n",
      "Got the result from ./1/train/filtrations/4/HeightFiltrartion_0_-1/red/diagrams.npy\n",
      "Applying Scaler to persistence diagrams.\n",
      "DiagramVectorizer: fitting complete\n",
      "Got the result from ./1/train/filtrations/4/HeightFiltrartion_0_-1/red/features.npy\n",
      "FiltrationExtractor: processing 1/train/filtrations/4/HeightFiltrartion_0_-1/red, do_fit = False, filtration = HeightFiltration(direction=array([ 0, -1]), n_jobs=-1)\n",
      "Got the result from ./1/train/filtrations/4/HeightFiltrartion_0_-1/red/diagrams.npy\n",
      "Applying Scaler to persistence diagrams.\n",
      "Got the result from ./1/train/filtrations/4/HeightFiltrartion_0_-1/red/features.npy\n",
      "FiltrationExtractor: processing 1/train/filtrations/4/HeightFiltrartion_0_-1/green, do_fit = True, filtration = HeightFiltration(direction=array([ 0, -1]), n_jobs=-1)\n",
      "Got the result from ./1/train/filtrations/4/HeightFiltrartion_0_-1/green/diagrams.npy\n",
      "Applying Scaler to persistence diagrams.\n",
      "DiagramVectorizer: fitting complete\n",
      "Got the result from ./1/train/filtrations/4/HeightFiltrartion_0_-1/green/features.npy\n",
      "FiltrationExtractor: processing 1/train/filtrations/4/HeightFiltrartion_0_-1/green, do_fit = False, filtration = HeightFiltration(direction=array([ 0, -1]), n_jobs=-1)\n",
      "Got the result from ./1/train/filtrations/4/HeightFiltrartion_0_-1/green/diagrams.npy\n",
      "Applying Scaler to persistence diagrams.\n",
      "Got the result from ./1/train/filtrations/4/HeightFiltrartion_0_-1/green/features.npy\n",
      "FiltrationExtractor: processing 1/train/filtrations/4/HeightFiltrartion_0_-1/blue, do_fit = True, filtration = HeightFiltration(direction=array([ 0, -1]), n_jobs=-1)\n",
      "Got the result from ./1/train/filtrations/4/HeightFiltrartion_0_-1/blue/diagrams.npy\n",
      "Applying Scaler to persistence diagrams.\n",
      "DiagramVectorizer: fitting complete\n",
      "Got the result from ./1/train/filtrations/4/HeightFiltrartion_0_-1/blue/features.npy\n",
      "FiltrationExtractor: processing 1/train/filtrations/4/HeightFiltrartion_0_-1/blue, do_fit = False, filtration = HeightFiltration(direction=array([ 0, -1]), n_jobs=-1)\n",
      "Got the result from ./1/train/filtrations/4/HeightFiltrartion_0_-1/blue/diagrams.npy\n",
      "Applying Scaler to persistence diagrams.\n",
      "Got the result from ./1/train/filtrations/4/HeightFiltrartion_0_-1/blue/features.npy\n",
      "Fitting filtration 29/72: HeightFiltration with d = (0, 1), bin. thr. = 0.4\n",
      "RGB images received. Transforming to grayscale.\n"
     ]
    },
    {
     "name": "stderr",
     "output_type": "stream",
     "text": [
      "rgb2gray: 100%|██████████| 26640/26640 [00:07<00:00, 3772.28it/s]\n"
     ]
    },
    {
     "name": "stdout",
     "output_type": "stream",
     "text": [
      "FiltrationExtractor: processing 1/train/filtrations/4/HeightFiltrartion_0_1/gray, do_fit = True, filtration = HeightFiltration(direction=array([0, 1]), n_jobs=-1)\n",
      "Got the result from ./1/train/filtrations/4/HeightFiltrartion_0_1/gray/diagrams.npy\n",
      "Applying Scaler to persistence diagrams.\n",
      "DiagramVectorizer: fitting complete\n",
      "Got the result from ./1/train/filtrations/4/HeightFiltrartion_0_1/gray/features.npy\n",
      "FiltrationExtractor: processing 1/train/filtrations/4/HeightFiltrartion_0_1/gray, do_fit = False, filtration = HeightFiltration(direction=array([0, 1]), n_jobs=-1)\n",
      "Got the result from ./1/train/filtrations/4/HeightFiltrartion_0_1/gray/diagrams.npy\n",
      "Applying Scaler to persistence diagrams.\n",
      "Got the result from ./1/train/filtrations/4/HeightFiltrartion_0_1/gray/features.npy\n",
      "FiltrationExtractor: processing 1/train/filtrations/4/HeightFiltrartion_0_1/red, do_fit = True, filtration = HeightFiltration(direction=array([0, 1]), n_jobs=-1)\n",
      "Got the result from ./1/train/filtrations/4/HeightFiltrartion_0_1/red/diagrams.npy\n",
      "Applying Scaler to persistence diagrams.\n",
      "DiagramVectorizer: fitting complete\n",
      "Got the result from ./1/train/filtrations/4/HeightFiltrartion_0_1/red/features.npy\n",
      "FiltrationExtractor: processing 1/train/filtrations/4/HeightFiltrartion_0_1/red, do_fit = False, filtration = HeightFiltration(direction=array([0, 1]), n_jobs=-1)\n",
      "Got the result from ./1/train/filtrations/4/HeightFiltrartion_0_1/red/diagrams.npy\n",
      "Applying Scaler to persistence diagrams.\n",
      "Got the result from ./1/train/filtrations/4/HeightFiltrartion_0_1/red/features.npy\n",
      "FiltrationExtractor: processing 1/train/filtrations/4/HeightFiltrartion_0_1/green, do_fit = True, filtration = HeightFiltration(direction=array([0, 1]), n_jobs=-1)\n",
      "Got the result from ./1/train/filtrations/4/HeightFiltrartion_0_1/green/diagrams.npy\n",
      "Applying Scaler to persistence diagrams.\n",
      "DiagramVectorizer: fitting complete\n",
      "Got the result from ./1/train/filtrations/4/HeightFiltrartion_0_1/green/features.npy\n",
      "FiltrationExtractor: processing 1/train/filtrations/4/HeightFiltrartion_0_1/green, do_fit = False, filtration = HeightFiltration(direction=array([0, 1]), n_jobs=-1)\n",
      "Got the result from ./1/train/filtrations/4/HeightFiltrartion_0_1/green/diagrams.npy\n",
      "Applying Scaler to persistence diagrams.\n",
      "Got the result from ./1/train/filtrations/4/HeightFiltrartion_0_1/green/features.npy\n",
      "FiltrationExtractor: processing 1/train/filtrations/4/HeightFiltrartion_0_1/blue, do_fit = True, filtration = HeightFiltration(direction=array([0, 1]), n_jobs=-1)\n",
      "Got the result from ./1/train/filtrations/4/HeightFiltrartion_0_1/blue/diagrams.npy\n",
      "Applying Scaler to persistence diagrams.\n",
      "DiagramVectorizer: fitting complete\n",
      "Got the result from ./1/train/filtrations/4/HeightFiltrartion_0_1/blue/features.npy\n",
      "FiltrationExtractor: processing 1/train/filtrations/4/HeightFiltrartion_0_1/blue, do_fit = False, filtration = HeightFiltration(direction=array([0, 1]), n_jobs=-1)\n",
      "Got the result from ./1/train/filtrations/4/HeightFiltrartion_0_1/blue/diagrams.npy\n",
      "Applying Scaler to persistence diagrams.\n",
      "Got the result from ./1/train/filtrations/4/HeightFiltrartion_0_1/blue/features.npy\n",
      "Fitting filtration 30/72: HeightFiltration with d = (1, -1), bin. thr. = 0.4\n",
      "RGB images received. Transforming to grayscale.\n"
     ]
    },
    {
     "name": "stderr",
     "output_type": "stream",
     "text": [
      "rgb2gray: 100%|██████████| 26640/26640 [00:07<00:00, 3804.66it/s]\n"
     ]
    },
    {
     "name": "stdout",
     "output_type": "stream",
     "text": [
      "FiltrationExtractor: processing 1/train/filtrations/4/HeightFiltrartion_1_-1/gray, do_fit = True, filtration = HeightFiltration(direction=array([ 1, -1]), n_jobs=-1)\n",
      "Got the result from ./1/train/filtrations/4/HeightFiltrartion_1_-1/gray/diagrams.npy\n",
      "Applying Scaler to persistence diagrams.\n",
      "DiagramVectorizer: fitting complete\n",
      "Got the result from ./1/train/filtrations/4/HeightFiltrartion_1_-1/gray/features.npy\n",
      "FiltrationExtractor: processing 1/train/filtrations/4/HeightFiltrartion_1_-1/gray, do_fit = False, filtration = HeightFiltration(direction=array([ 1, -1]), n_jobs=-1)\n",
      "Got the result from ./1/train/filtrations/4/HeightFiltrartion_1_-1/gray/diagrams.npy\n",
      "Applying Scaler to persistence diagrams.\n",
      "Got the result from ./1/train/filtrations/4/HeightFiltrartion_1_-1/gray/features.npy\n",
      "FiltrationExtractor: processing 1/train/filtrations/4/HeightFiltrartion_1_-1/red, do_fit = True, filtration = HeightFiltration(direction=array([ 1, -1]), n_jobs=-1)\n",
      "Got the result from ./1/train/filtrations/4/HeightFiltrartion_1_-1/red/diagrams.npy\n",
      "Applying Scaler to persistence diagrams.\n",
      "DiagramVectorizer: fitting complete\n",
      "Got the result from ./1/train/filtrations/4/HeightFiltrartion_1_-1/red/features.npy\n",
      "FiltrationExtractor: processing 1/train/filtrations/4/HeightFiltrartion_1_-1/red, do_fit = False, filtration = HeightFiltration(direction=array([ 1, -1]), n_jobs=-1)\n",
      "Got the result from ./1/train/filtrations/4/HeightFiltrartion_1_-1/red/diagrams.npy\n",
      "Applying Scaler to persistence diagrams.\n",
      "Got the result from ./1/train/filtrations/4/HeightFiltrartion_1_-1/red/features.npy\n",
      "FiltrationExtractor: processing 1/train/filtrations/4/HeightFiltrartion_1_-1/green, do_fit = True, filtration = HeightFiltration(direction=array([ 1, -1]), n_jobs=-1)\n",
      "Got the result from ./1/train/filtrations/4/HeightFiltrartion_1_-1/green/diagrams.npy\n",
      "Applying Scaler to persistence diagrams.\n",
      "DiagramVectorizer: fitting complete\n",
      "Got the result from ./1/train/filtrations/4/HeightFiltrartion_1_-1/green/features.npy\n",
      "FiltrationExtractor: processing 1/train/filtrations/4/HeightFiltrartion_1_-1/green, do_fit = False, filtration = HeightFiltration(direction=array([ 1, -1]), n_jobs=-1)\n",
      "Got the result from ./1/train/filtrations/4/HeightFiltrartion_1_-1/green/diagrams.npy\n",
      "Applying Scaler to persistence diagrams.\n",
      "Got the result from ./1/train/filtrations/4/HeightFiltrartion_1_-1/green/features.npy\n",
      "FiltrationExtractor: processing 1/train/filtrations/4/HeightFiltrartion_1_-1/blue, do_fit = True, filtration = HeightFiltration(direction=array([ 1, -1]), n_jobs=-1)\n",
      "Got the result from ./1/train/filtrations/4/HeightFiltrartion_1_-1/blue/diagrams.npy\n",
      "Applying Scaler to persistence diagrams.\n",
      "DiagramVectorizer: fitting complete\n",
      "Got the result from ./1/train/filtrations/4/HeightFiltrartion_1_-1/blue/features.npy\n",
      "FiltrationExtractor: processing 1/train/filtrations/4/HeightFiltrartion_1_-1/blue, do_fit = False, filtration = HeightFiltration(direction=array([ 1, -1]), n_jobs=-1)\n",
      "Got the result from ./1/train/filtrations/4/HeightFiltrartion_1_-1/blue/diagrams.npy\n",
      "Applying Scaler to persistence diagrams.\n",
      "Got the result from ./1/train/filtrations/4/HeightFiltrartion_1_-1/blue/features.npy\n",
      "Fitting filtration 31/72: HeightFiltration with d = (1, 0), bin. thr. = 0.4\n",
      "RGB images received. Transforming to grayscale.\n"
     ]
    },
    {
     "name": "stderr",
     "output_type": "stream",
     "text": [
      "rgb2gray: 100%|██████████| 26640/26640 [00:06<00:00, 3919.65it/s]\n"
     ]
    },
    {
     "name": "stdout",
     "output_type": "stream",
     "text": [
      "FiltrationExtractor: processing 1/train/filtrations/4/HeightFiltrartion_1_0/gray, do_fit = True, filtration = HeightFiltration(direction=array([1, 0]), n_jobs=-1)\n",
      "Got the result from ./1/train/filtrations/4/HeightFiltrartion_1_0/gray/diagrams.npy\n",
      "Applying Scaler to persistence diagrams.\n",
      "DiagramVectorizer: fitting complete\n",
      "Got the result from ./1/train/filtrations/4/HeightFiltrartion_1_0/gray/features.npy\n",
      "FiltrationExtractor: processing 1/train/filtrations/4/HeightFiltrartion_1_0/gray, do_fit = False, filtration = HeightFiltration(direction=array([1, 0]), n_jobs=-1)\n",
      "Got the result from ./1/train/filtrations/4/HeightFiltrartion_1_0/gray/diagrams.npy\n",
      "Applying Scaler to persistence diagrams.\n",
      "Got the result from ./1/train/filtrations/4/HeightFiltrartion_1_0/gray/features.npy\n",
      "FiltrationExtractor: processing 1/train/filtrations/4/HeightFiltrartion_1_0/red, do_fit = True, filtration = HeightFiltration(direction=array([1, 0]), n_jobs=-1)\n",
      "Got the result from ./1/train/filtrations/4/HeightFiltrartion_1_0/red/diagrams.npy\n",
      "Applying Scaler to persistence diagrams.\n",
      "DiagramVectorizer: fitting complete\n",
      "Got the result from ./1/train/filtrations/4/HeightFiltrartion_1_0/red/features.npy\n",
      "FiltrationExtractor: processing 1/train/filtrations/4/HeightFiltrartion_1_0/red, do_fit = False, filtration = HeightFiltration(direction=array([1, 0]), n_jobs=-1)\n",
      "Got the result from ./1/train/filtrations/4/HeightFiltrartion_1_0/red/diagrams.npy\n",
      "Applying Scaler to persistence diagrams.\n",
      "Got the result from ./1/train/filtrations/4/HeightFiltrartion_1_0/red/features.npy\n",
      "FiltrationExtractor: processing 1/train/filtrations/4/HeightFiltrartion_1_0/green, do_fit = True, filtration = HeightFiltration(direction=array([1, 0]), n_jobs=-1)\n",
      "Got the result from ./1/train/filtrations/4/HeightFiltrartion_1_0/green/diagrams.npy\n",
      "Applying Scaler to persistence diagrams.\n",
      "DiagramVectorizer: fitting complete\n",
      "Got the result from ./1/train/filtrations/4/HeightFiltrartion_1_0/green/features.npy\n",
      "FiltrationExtractor: processing 1/train/filtrations/4/HeightFiltrartion_1_0/green, do_fit = False, filtration = HeightFiltration(direction=array([1, 0]), n_jobs=-1)\n",
      "Got the result from ./1/train/filtrations/4/HeightFiltrartion_1_0/green/diagrams.npy\n",
      "Applying Scaler to persistence diagrams.\n",
      "Got the result from ./1/train/filtrations/4/HeightFiltrartion_1_0/green/features.npy\n",
      "FiltrationExtractor: processing 1/train/filtrations/4/HeightFiltrartion_1_0/blue, do_fit = True, filtration = HeightFiltration(direction=array([1, 0]), n_jobs=-1)\n",
      "Got the result from ./1/train/filtrations/4/HeightFiltrartion_1_0/blue/diagrams.npy\n",
      "Applying Scaler to persistence diagrams.\n",
      "DiagramVectorizer: fitting complete\n",
      "Got the result from ./1/train/filtrations/4/HeightFiltrartion_1_0/blue/features.npy\n",
      "FiltrationExtractor: processing 1/train/filtrations/4/HeightFiltrartion_1_0/blue, do_fit = False, filtration = HeightFiltration(direction=array([1, 0]), n_jobs=-1)\n",
      "Got the result from ./1/train/filtrations/4/HeightFiltrartion_1_0/blue/diagrams.npy\n",
      "Applying Scaler to persistence diagrams.\n",
      "Got the result from ./1/train/filtrations/4/HeightFiltrartion_1_0/blue/features.npy\n",
      "Fitting filtration 32/72: HeightFiltration with d = (1, 1), bin. thr. = 0.4\n",
      "RGB images received. Transforming to grayscale.\n"
     ]
    },
    {
     "name": "stderr",
     "output_type": "stream",
     "text": [
      "rgb2gray: 100%|██████████| 26640/26640 [00:06<00:00, 4004.38it/s]\n"
     ]
    },
    {
     "name": "stdout",
     "output_type": "stream",
     "text": [
      "FiltrationExtractor: processing 1/train/filtrations/4/HeightFiltrartion_1_1/gray, do_fit = True, filtration = HeightFiltration(direction=array([1, 1]), n_jobs=-1)\n",
      "Got the result from ./1/train/filtrations/4/HeightFiltrartion_1_1/gray/diagrams.npy\n",
      "Applying Scaler to persistence diagrams.\n",
      "DiagramVectorizer: fitting complete\n",
      "Got the result from ./1/train/filtrations/4/HeightFiltrartion_1_1/gray/features.npy\n",
      "FiltrationExtractor: processing 1/train/filtrations/4/HeightFiltrartion_1_1/gray, do_fit = False, filtration = HeightFiltration(direction=array([1, 1]), n_jobs=-1)\n",
      "Got the result from ./1/train/filtrations/4/HeightFiltrartion_1_1/gray/diagrams.npy\n",
      "Applying Scaler to persistence diagrams.\n",
      "Got the result from ./1/train/filtrations/4/HeightFiltrartion_1_1/gray/features.npy\n",
      "FiltrationExtractor: processing 1/train/filtrations/4/HeightFiltrartion_1_1/red, do_fit = True, filtration = HeightFiltration(direction=array([1, 1]), n_jobs=-1)\n",
      "Got the result from ./1/train/filtrations/4/HeightFiltrartion_1_1/red/diagrams.npy\n",
      "Applying Scaler to persistence diagrams.\n",
      "DiagramVectorizer: fitting complete\n",
      "Got the result from ./1/train/filtrations/4/HeightFiltrartion_1_1/red/features.npy\n",
      "FiltrationExtractor: processing 1/train/filtrations/4/HeightFiltrartion_1_1/red, do_fit = False, filtration = HeightFiltration(direction=array([1, 1]), n_jobs=-1)\n",
      "Got the result from ./1/train/filtrations/4/HeightFiltrartion_1_1/red/diagrams.npy\n",
      "Applying Scaler to persistence diagrams.\n",
      "Got the result from ./1/train/filtrations/4/HeightFiltrartion_1_1/red/features.npy\n",
      "FiltrationExtractor: processing 1/train/filtrations/4/HeightFiltrartion_1_1/green, do_fit = True, filtration = HeightFiltration(direction=array([1, 1]), n_jobs=-1)\n",
      "Got the result from ./1/train/filtrations/4/HeightFiltrartion_1_1/green/diagrams.npy\n",
      "Applying Scaler to persistence diagrams.\n",
      "DiagramVectorizer: fitting complete\n",
      "Got the result from ./1/train/filtrations/4/HeightFiltrartion_1_1/green/features.npy\n",
      "FiltrationExtractor: processing 1/train/filtrations/4/HeightFiltrartion_1_1/green, do_fit = False, filtration = HeightFiltration(direction=array([1, 1]), n_jobs=-1)\n",
      "Got the result from ./1/train/filtrations/4/HeightFiltrartion_1_1/green/diagrams.npy\n",
      "Applying Scaler to persistence diagrams.\n",
      "Got the result from ./1/train/filtrations/4/HeightFiltrartion_1_1/green/features.npy\n",
      "FiltrationExtractor: processing 1/train/filtrations/4/HeightFiltrartion_1_1/blue, do_fit = True, filtration = HeightFiltration(direction=array([1, 1]), n_jobs=-1)\n",
      "Got the result from ./1/train/filtrations/4/HeightFiltrartion_1_1/blue/diagrams.npy\n",
      "Applying Scaler to persistence diagrams.\n",
      "DiagramVectorizer: fitting complete\n",
      "Got the result from ./1/train/filtrations/4/HeightFiltrartion_1_1/blue/features.npy\n",
      "FiltrationExtractor: processing 1/train/filtrations/4/HeightFiltrartion_1_1/blue, do_fit = False, filtration = HeightFiltration(direction=array([1, 1]), n_jobs=-1)\n",
      "Got the result from ./1/train/filtrations/4/HeightFiltrartion_1_1/blue/diagrams.npy\n",
      "Applying Scaler to persistence diagrams.\n",
      "Got the result from ./1/train/filtrations/4/HeightFiltrartion_1_1/blue/features.npy\n",
      "Fitting filtration 33/72: RadialFiltration with c = (12, 12), bin. thr. = 0.4\n",
      "RGB images received. Transforming to grayscale.\n"
     ]
    },
    {
     "name": "stderr",
     "output_type": "stream",
     "text": [
      "rgb2gray: 100%|██████████| 26640/26640 [00:07<00:00, 3468.75it/s]\n"
     ]
    },
    {
     "name": "stdout",
     "output_type": "stream",
     "text": [
      "FiltrationExtractor: processing 1/train/filtrations/4/RadialFiltration_12_12/gray, do_fit = True, filtration = RadialFiltration(center=array([12, 12]), n_jobs=-1)\n",
      "Got the result from ./1/train/filtrations/4/RadialFiltration_12_12/gray/diagrams.npy\n",
      "Applying Scaler to persistence diagrams.\n",
      "DiagramVectorizer: fitting complete\n",
      "Got the result from ./1/train/filtrations/4/RadialFiltration_12_12/gray/features.npy\n",
      "FiltrationExtractor: processing 1/train/filtrations/4/RadialFiltration_12_12/gray, do_fit = False, filtration = RadialFiltration(center=array([12, 12]), n_jobs=-1)\n",
      "Got the result from ./1/train/filtrations/4/RadialFiltration_12_12/gray/diagrams.npy\n",
      "Applying Scaler to persistence diagrams.\n",
      "Got the result from ./1/train/filtrations/4/RadialFiltration_12_12/gray/features.npy\n",
      "FiltrationExtractor: processing 1/train/filtrations/4/RadialFiltration_12_12/red, do_fit = True, filtration = RadialFiltration(center=array([12, 12]), n_jobs=-1)\n",
      "Got the result from ./1/train/filtrations/4/RadialFiltration_12_12/red/diagrams.npy\n",
      "Applying Scaler to persistence diagrams.\n",
      "DiagramVectorizer: fitting complete\n",
      "Got the result from ./1/train/filtrations/4/RadialFiltration_12_12/red/features.npy\n",
      "FiltrationExtractor: processing 1/train/filtrations/4/RadialFiltration_12_12/red, do_fit = False, filtration = RadialFiltration(center=array([12, 12]), n_jobs=-1)\n",
      "Got the result from ./1/train/filtrations/4/RadialFiltration_12_12/red/diagrams.npy\n",
      "Applying Scaler to persistence diagrams.\n",
      "Got the result from ./1/train/filtrations/4/RadialFiltration_12_12/red/features.npy\n",
      "FiltrationExtractor: processing 1/train/filtrations/4/RadialFiltration_12_12/green, do_fit = True, filtration = RadialFiltration(center=array([12, 12]), n_jobs=-1)\n",
      "Got the result from ./1/train/filtrations/4/RadialFiltration_12_12/green/diagrams.npy\n",
      "Applying Scaler to persistence diagrams.\n",
      "DiagramVectorizer: fitting complete\n",
      "Got the result from ./1/train/filtrations/4/RadialFiltration_12_12/green/features.npy\n",
      "FiltrationExtractor: processing 1/train/filtrations/4/RadialFiltration_12_12/green, do_fit = False, filtration = RadialFiltration(center=array([12, 12]), n_jobs=-1)\n",
      "Got the result from ./1/train/filtrations/4/RadialFiltration_12_12/green/diagrams.npy\n",
      "Applying Scaler to persistence diagrams.\n",
      "Got the result from ./1/train/filtrations/4/RadialFiltration_12_12/green/features.npy\n",
      "FiltrationExtractor: processing 1/train/filtrations/4/RadialFiltration_12_12/blue, do_fit = True, filtration = RadialFiltration(center=array([12, 12]), n_jobs=-1)\n",
      "Got the result from ./1/train/filtrations/4/RadialFiltration_12_12/blue/diagrams.npy\n",
      "Applying Scaler to persistence diagrams.\n",
      "DiagramVectorizer: fitting complete\n",
      "Got the result from ./1/train/filtrations/4/RadialFiltration_12_12/blue/features.npy\n",
      "FiltrationExtractor: processing 1/train/filtrations/4/RadialFiltration_12_12/blue, do_fit = False, filtration = RadialFiltration(center=array([12, 12]), n_jobs=-1)\n",
      "Got the result from ./1/train/filtrations/4/RadialFiltration_12_12/blue/diagrams.npy\n",
      "Applying Scaler to persistence diagrams.\n",
      "Got the result from ./1/train/filtrations/4/RadialFiltration_12_12/blue/features.npy\n",
      "Fitting filtration 34/72: RadialFiltration with c = (12, 25), bin. thr. = 0.4\n",
      "RGB images received. Transforming to grayscale.\n"
     ]
    },
    {
     "name": "stderr",
     "output_type": "stream",
     "text": [
      "rgb2gray: 100%|██████████| 26640/26640 [00:07<00:00, 3697.28it/s]\n"
     ]
    },
    {
     "name": "stdout",
     "output_type": "stream",
     "text": [
      "FiltrationExtractor: processing 1/train/filtrations/4/RadialFiltration_12_25/gray, do_fit = True, filtration = RadialFiltration(center=array([12, 25]), n_jobs=-1)\n",
      "Got the result from ./1/train/filtrations/4/RadialFiltration_12_25/gray/diagrams.npy\n",
      "Applying Scaler to persistence diagrams.\n",
      "DiagramVectorizer: fitting complete\n",
      "Got the result from ./1/train/filtrations/4/RadialFiltration_12_25/gray/features.npy\n",
      "FiltrationExtractor: processing 1/train/filtrations/4/RadialFiltration_12_25/gray, do_fit = False, filtration = RadialFiltration(center=array([12, 25]), n_jobs=-1)\n",
      "Got the result from ./1/train/filtrations/4/RadialFiltration_12_25/gray/diagrams.npy\n",
      "Applying Scaler to persistence diagrams.\n",
      "Got the result from ./1/train/filtrations/4/RadialFiltration_12_25/gray/features.npy\n",
      "FiltrationExtractor: processing 1/train/filtrations/4/RadialFiltration_12_25/red, do_fit = True, filtration = RadialFiltration(center=array([12, 25]), n_jobs=-1)\n",
      "Got the result from ./1/train/filtrations/4/RadialFiltration_12_25/red/diagrams.npy\n",
      "Applying Scaler to persistence diagrams.\n",
      "DiagramVectorizer: fitting complete\n",
      "Got the result from ./1/train/filtrations/4/RadialFiltration_12_25/red/features.npy\n",
      "FiltrationExtractor: processing 1/train/filtrations/4/RadialFiltration_12_25/red, do_fit = False, filtration = RadialFiltration(center=array([12, 25]), n_jobs=-1)\n",
      "Got the result from ./1/train/filtrations/4/RadialFiltration_12_25/red/diagrams.npy\n",
      "Applying Scaler to persistence diagrams.\n",
      "Got the result from ./1/train/filtrations/4/RadialFiltration_12_25/red/features.npy\n",
      "FiltrationExtractor: processing 1/train/filtrations/4/RadialFiltration_12_25/green, do_fit = True, filtration = RadialFiltration(center=array([12, 25]), n_jobs=-1)\n",
      "Got the result from ./1/train/filtrations/4/RadialFiltration_12_25/green/diagrams.npy\n",
      "Applying Scaler to persistence diagrams.\n",
      "DiagramVectorizer: fitting complete\n",
      "Got the result from ./1/train/filtrations/4/RadialFiltration_12_25/green/features.npy\n",
      "FiltrationExtractor: processing 1/train/filtrations/4/RadialFiltration_12_25/green, do_fit = False, filtration = RadialFiltration(center=array([12, 25]), n_jobs=-1)\n",
      "Got the result from ./1/train/filtrations/4/RadialFiltration_12_25/green/diagrams.npy\n",
      "Applying Scaler to persistence diagrams.\n",
      "Got the result from ./1/train/filtrations/4/RadialFiltration_12_25/green/features.npy\n",
      "FiltrationExtractor: processing 1/train/filtrations/4/RadialFiltration_12_25/blue, do_fit = True, filtration = RadialFiltration(center=array([12, 25]), n_jobs=-1)\n",
      "Got the result from ./1/train/filtrations/4/RadialFiltration_12_25/blue/diagrams.npy\n",
      "Applying Scaler to persistence diagrams.\n",
      "DiagramVectorizer: fitting complete\n",
      "Got the result from ./1/train/filtrations/4/RadialFiltration_12_25/blue/features.npy\n",
      "FiltrationExtractor: processing 1/train/filtrations/4/RadialFiltration_12_25/blue, do_fit = False, filtration = RadialFiltration(center=array([12, 25]), n_jobs=-1)\n",
      "Got the result from ./1/train/filtrations/4/RadialFiltration_12_25/blue/diagrams.npy\n",
      "Applying Scaler to persistence diagrams.\n",
      "Got the result from ./1/train/filtrations/4/RadialFiltration_12_25/blue/features.npy\n",
      "Fitting filtration 35/72: RadialFiltration with c = (12, 38), bin. thr. = 0.4\n",
      "RGB images received. Transforming to grayscale.\n"
     ]
    },
    {
     "name": "stderr",
     "output_type": "stream",
     "text": [
      "rgb2gray: 100%|██████████| 26640/26640 [00:07<00:00, 3779.08it/s]\n"
     ]
    },
    {
     "name": "stdout",
     "output_type": "stream",
     "text": [
      "FiltrationExtractor: processing 1/train/filtrations/4/RadialFiltration_12_38/gray, do_fit = True, filtration = RadialFiltration(center=array([12, 38]), n_jobs=-1)\n",
      "Got the result from ./1/train/filtrations/4/RadialFiltration_12_38/gray/diagrams.npy\n",
      "Applying Scaler to persistence diagrams.\n",
      "DiagramVectorizer: fitting complete\n",
      "Got the result from ./1/train/filtrations/4/RadialFiltration_12_38/gray/features.npy\n",
      "FiltrationExtractor: processing 1/train/filtrations/4/RadialFiltration_12_38/gray, do_fit = False, filtration = RadialFiltration(center=array([12, 38]), n_jobs=-1)\n",
      "Got the result from ./1/train/filtrations/4/RadialFiltration_12_38/gray/diagrams.npy\n",
      "Applying Scaler to persistence diagrams.\n",
      "Got the result from ./1/train/filtrations/4/RadialFiltration_12_38/gray/features.npy\n",
      "FiltrationExtractor: processing 1/train/filtrations/4/RadialFiltration_12_38/red, do_fit = True, filtration = RadialFiltration(center=array([12, 38]), n_jobs=-1)\n",
      "Got the result from ./1/train/filtrations/4/RadialFiltration_12_38/red/diagrams.npy\n",
      "Applying Scaler to persistence diagrams.\n",
      "DiagramVectorizer: fitting complete\n",
      "Got the result from ./1/train/filtrations/4/RadialFiltration_12_38/red/features.npy\n",
      "FiltrationExtractor: processing 1/train/filtrations/4/RadialFiltration_12_38/red, do_fit = False, filtration = RadialFiltration(center=array([12, 38]), n_jobs=-1)\n",
      "Got the result from ./1/train/filtrations/4/RadialFiltration_12_38/red/diagrams.npy\n",
      "Applying Scaler to persistence diagrams.\n",
      "Got the result from ./1/train/filtrations/4/RadialFiltration_12_38/red/features.npy\n",
      "FiltrationExtractor: processing 1/train/filtrations/4/RadialFiltration_12_38/green, do_fit = True, filtration = RadialFiltration(center=array([12, 38]), n_jobs=-1)\n",
      "Got the result from ./1/train/filtrations/4/RadialFiltration_12_38/green/diagrams.npy\n",
      "Applying Scaler to persistence diagrams.\n",
      "DiagramVectorizer: fitting complete\n",
      "Got the result from ./1/train/filtrations/4/RadialFiltration_12_38/green/features.npy\n",
      "FiltrationExtractor: processing 1/train/filtrations/4/RadialFiltration_12_38/green, do_fit = False, filtration = RadialFiltration(center=array([12, 38]), n_jobs=-1)\n",
      "Got the result from ./1/train/filtrations/4/RadialFiltration_12_38/green/diagrams.npy\n",
      "Applying Scaler to persistence diagrams.\n",
      "Got the result from ./1/train/filtrations/4/RadialFiltration_12_38/green/features.npy\n",
      "FiltrationExtractor: processing 1/train/filtrations/4/RadialFiltration_12_38/blue, do_fit = True, filtration = RadialFiltration(center=array([12, 38]), n_jobs=-1)\n",
      "Got the result from ./1/train/filtrations/4/RadialFiltration_12_38/blue/diagrams.npy\n",
      "Applying Scaler to persistence diagrams.\n",
      "DiagramVectorizer: fitting complete\n",
      "Got the result from ./1/train/filtrations/4/RadialFiltration_12_38/blue/features.npy\n",
      "FiltrationExtractor: processing 1/train/filtrations/4/RadialFiltration_12_38/blue, do_fit = False, filtration = RadialFiltration(center=array([12, 38]), n_jobs=-1)\n",
      "Got the result from ./1/train/filtrations/4/RadialFiltration_12_38/blue/diagrams.npy\n",
      "Applying Scaler to persistence diagrams.\n",
      "Got the result from ./1/train/filtrations/4/RadialFiltration_12_38/blue/features.npy\n",
      "Fitting filtration 36/72: RadialFiltration with c = (12, 51), bin. thr. = 0.4\n",
      "RGB images received. Transforming to grayscale.\n"
     ]
    },
    {
     "name": "stderr",
     "output_type": "stream",
     "text": [
      "rgb2gray: 100%|██████████| 26640/26640 [00:07<00:00, 3758.25it/s]\n"
     ]
    },
    {
     "name": "stdout",
     "output_type": "stream",
     "text": [
      "FiltrationExtractor: processing 1/train/filtrations/4/RadialFiltration_12_51/gray, do_fit = True, filtration = RadialFiltration(center=array([12, 51]), n_jobs=-1)\n",
      "Got the result from ./1/train/filtrations/4/RadialFiltration_12_51/gray/diagrams.npy\n",
      "Applying Scaler to persistence diagrams.\n",
      "DiagramVectorizer: fitting complete\n",
      "Got the result from ./1/train/filtrations/4/RadialFiltration_12_51/gray/features.npy\n",
      "FiltrationExtractor: processing 1/train/filtrations/4/RadialFiltration_12_51/gray, do_fit = False, filtration = RadialFiltration(center=array([12, 51]), n_jobs=-1)\n",
      "Got the result from ./1/train/filtrations/4/RadialFiltration_12_51/gray/diagrams.npy\n",
      "Applying Scaler to persistence diagrams.\n",
      "Got the result from ./1/train/filtrations/4/RadialFiltration_12_51/gray/features.npy\n",
      "FiltrationExtractor: processing 1/train/filtrations/4/RadialFiltration_12_51/red, do_fit = True, filtration = RadialFiltration(center=array([12, 51]), n_jobs=-1)\n",
      "Got the result from ./1/train/filtrations/4/RadialFiltration_12_51/red/diagrams.npy\n",
      "Applying Scaler to persistence diagrams.\n",
      "DiagramVectorizer: fitting complete\n",
      "Got the result from ./1/train/filtrations/4/RadialFiltration_12_51/red/features.npy\n",
      "FiltrationExtractor: processing 1/train/filtrations/4/RadialFiltration_12_51/red, do_fit = False, filtration = RadialFiltration(center=array([12, 51]), n_jobs=-1)\n",
      "Got the result from ./1/train/filtrations/4/RadialFiltration_12_51/red/diagrams.npy\n",
      "Applying Scaler to persistence diagrams.\n",
      "Got the result from ./1/train/filtrations/4/RadialFiltration_12_51/red/features.npy\n",
      "FiltrationExtractor: processing 1/train/filtrations/4/RadialFiltration_12_51/green, do_fit = True, filtration = RadialFiltration(center=array([12, 51]), n_jobs=-1)\n",
      "Got the result from ./1/train/filtrations/4/RadialFiltration_12_51/green/diagrams.npy\n",
      "Applying Scaler to persistence diagrams.\n",
      "DiagramVectorizer: fitting complete\n",
      "Got the result from ./1/train/filtrations/4/RadialFiltration_12_51/green/features.npy\n",
      "FiltrationExtractor: processing 1/train/filtrations/4/RadialFiltration_12_51/green, do_fit = False, filtration = RadialFiltration(center=array([12, 51]), n_jobs=-1)\n",
      "Got the result from ./1/train/filtrations/4/RadialFiltration_12_51/green/diagrams.npy\n",
      "Applying Scaler to persistence diagrams.\n",
      "Got the result from ./1/train/filtrations/4/RadialFiltration_12_51/green/features.npy\n",
      "FiltrationExtractor: processing 1/train/filtrations/4/RadialFiltration_12_51/blue, do_fit = True, filtration = RadialFiltration(center=array([12, 51]), n_jobs=-1)\n",
      "Got the result from ./1/train/filtrations/4/RadialFiltration_12_51/blue/diagrams.npy\n",
      "Applying Scaler to persistence diagrams.\n",
      "DiagramVectorizer: fitting complete\n",
      "Got the result from ./1/train/filtrations/4/RadialFiltration_12_51/blue/features.npy\n",
      "FiltrationExtractor: processing 1/train/filtrations/4/RadialFiltration_12_51/blue, do_fit = False, filtration = RadialFiltration(center=array([12, 51]), n_jobs=-1)\n",
      "Got the result from ./1/train/filtrations/4/RadialFiltration_12_51/blue/diagrams.npy\n",
      "Applying Scaler to persistence diagrams.\n",
      "Got the result from ./1/train/filtrations/4/RadialFiltration_12_51/blue/features.npy\n",
      "Fitting filtration 37/72: RadialFiltration with c = (25, 12), bin. thr. = 0.4\n",
      "RGB images received. Transforming to grayscale.\n"
     ]
    },
    {
     "name": "stderr",
     "output_type": "stream",
     "text": [
      "rgb2gray: 100%|██████████| 26640/26640 [00:07<00:00, 3596.97it/s]\n"
     ]
    },
    {
     "name": "stdout",
     "output_type": "stream",
     "text": [
      "FiltrationExtractor: processing 1/train/filtrations/4/RadialFiltration_25_12/gray, do_fit = True, filtration = RadialFiltration(center=array([25, 12]), n_jobs=-1)\n",
      "Got the result from ./1/train/filtrations/4/RadialFiltration_25_12/gray/diagrams.npy\n",
      "Applying Scaler to persistence diagrams.\n",
      "DiagramVectorizer: fitting complete\n",
      "Got the result from ./1/train/filtrations/4/RadialFiltration_25_12/gray/features.npy\n",
      "FiltrationExtractor: processing 1/train/filtrations/4/RadialFiltration_25_12/gray, do_fit = False, filtration = RadialFiltration(center=array([25, 12]), n_jobs=-1)\n",
      "Got the result from ./1/train/filtrations/4/RadialFiltration_25_12/gray/diagrams.npy\n",
      "Applying Scaler to persistence diagrams.\n",
      "Got the result from ./1/train/filtrations/4/RadialFiltration_25_12/gray/features.npy\n",
      "FiltrationExtractor: processing 1/train/filtrations/4/RadialFiltration_25_12/red, do_fit = True, filtration = RadialFiltration(center=array([25, 12]), n_jobs=-1)\n",
      "Got the result from ./1/train/filtrations/4/RadialFiltration_25_12/red/diagrams.npy\n",
      "Applying Scaler to persistence diagrams.\n",
      "DiagramVectorizer: fitting complete\n",
      "Got the result from ./1/train/filtrations/4/RadialFiltration_25_12/red/features.npy\n",
      "FiltrationExtractor: processing 1/train/filtrations/4/RadialFiltration_25_12/red, do_fit = False, filtration = RadialFiltration(center=array([25, 12]), n_jobs=-1)\n",
      "Got the result from ./1/train/filtrations/4/RadialFiltration_25_12/red/diagrams.npy\n",
      "Applying Scaler to persistence diagrams.\n",
      "Got the result from ./1/train/filtrations/4/RadialFiltration_25_12/red/features.npy\n",
      "FiltrationExtractor: processing 1/train/filtrations/4/RadialFiltration_25_12/green, do_fit = True, filtration = RadialFiltration(center=array([25, 12]), n_jobs=-1)\n",
      "Got the result from ./1/train/filtrations/4/RadialFiltration_25_12/green/diagrams.npy\n",
      "Applying Scaler to persistence diagrams.\n",
      "DiagramVectorizer: fitting complete\n",
      "Got the result from ./1/train/filtrations/4/RadialFiltration_25_12/green/features.npy\n",
      "FiltrationExtractor: processing 1/train/filtrations/4/RadialFiltration_25_12/green, do_fit = False, filtration = RadialFiltration(center=array([25, 12]), n_jobs=-1)\n",
      "Got the result from ./1/train/filtrations/4/RadialFiltration_25_12/green/diagrams.npy\n",
      "Applying Scaler to persistence diagrams.\n",
      "Got the result from ./1/train/filtrations/4/RadialFiltration_25_12/green/features.npy\n",
      "FiltrationExtractor: processing 1/train/filtrations/4/RadialFiltration_25_12/blue, do_fit = True, filtration = RadialFiltration(center=array([25, 12]), n_jobs=-1)\n",
      "Got the result from ./1/train/filtrations/4/RadialFiltration_25_12/blue/diagrams.npy\n",
      "Applying Scaler to persistence diagrams.\n",
      "DiagramVectorizer: fitting complete\n",
      "Got the result from ./1/train/filtrations/4/RadialFiltration_25_12/blue/features.npy\n",
      "FiltrationExtractor: processing 1/train/filtrations/4/RadialFiltration_25_12/blue, do_fit = False, filtration = RadialFiltration(center=array([25, 12]), n_jobs=-1)\n",
      "Got the result from ./1/train/filtrations/4/RadialFiltration_25_12/blue/diagrams.npy\n",
      "Applying Scaler to persistence diagrams.\n",
      "Got the result from ./1/train/filtrations/4/RadialFiltration_25_12/blue/features.npy\n",
      "Fitting filtration 38/72: RadialFiltration with c = (25, 25), bin. thr. = 0.4\n",
      "RGB images received. Transforming to grayscale.\n"
     ]
    },
    {
     "name": "stderr",
     "output_type": "stream",
     "text": [
      "rgb2gray: 100%|██████████| 26640/26640 [00:07<00:00, 3701.07it/s]\n"
     ]
    },
    {
     "name": "stdout",
     "output_type": "stream",
     "text": [
      "FiltrationExtractor: processing 1/train/filtrations/4/RadialFiltration_25_25/gray, do_fit = True, filtration = RadialFiltration(center=array([25, 25]), n_jobs=-1)\n",
      "Got the result from ./1/train/filtrations/4/RadialFiltration_25_25/gray/diagrams.npy\n",
      "Applying Scaler to persistence diagrams.\n",
      "DiagramVectorizer: fitting complete\n",
      "Got the result from ./1/train/filtrations/4/RadialFiltration_25_25/gray/features.npy\n",
      "FiltrationExtractor: processing 1/train/filtrations/4/RadialFiltration_25_25/gray, do_fit = False, filtration = RadialFiltration(center=array([25, 25]), n_jobs=-1)\n",
      "Got the result from ./1/train/filtrations/4/RadialFiltration_25_25/gray/diagrams.npy\n",
      "Applying Scaler to persistence diagrams.\n",
      "Got the result from ./1/train/filtrations/4/RadialFiltration_25_25/gray/features.npy\n",
      "FiltrationExtractor: processing 1/train/filtrations/4/RadialFiltration_25_25/red, do_fit = True, filtration = RadialFiltration(center=array([25, 25]), n_jobs=-1)\n",
      "Got the result from ./1/train/filtrations/4/RadialFiltration_25_25/red/diagrams.npy\n",
      "Applying Scaler to persistence diagrams.\n",
      "DiagramVectorizer: fitting complete\n",
      "Got the result from ./1/train/filtrations/4/RadialFiltration_25_25/red/features.npy\n",
      "FiltrationExtractor: processing 1/train/filtrations/4/RadialFiltration_25_25/red, do_fit = False, filtration = RadialFiltration(center=array([25, 25]), n_jobs=-1)\n",
      "Got the result from ./1/train/filtrations/4/RadialFiltration_25_25/red/diagrams.npy\n",
      "Applying Scaler to persistence diagrams.\n",
      "Got the result from ./1/train/filtrations/4/RadialFiltration_25_25/red/features.npy\n",
      "FiltrationExtractor: processing 1/train/filtrations/4/RadialFiltration_25_25/green, do_fit = True, filtration = RadialFiltration(center=array([25, 25]), n_jobs=-1)\n",
      "Got the result from ./1/train/filtrations/4/RadialFiltration_25_25/green/diagrams.npy\n",
      "Applying Scaler to persistence diagrams.\n",
      "DiagramVectorizer: fitting complete\n",
      "Got the result from ./1/train/filtrations/4/RadialFiltration_25_25/green/features.npy\n",
      "FiltrationExtractor: processing 1/train/filtrations/4/RadialFiltration_25_25/green, do_fit = False, filtration = RadialFiltration(center=array([25, 25]), n_jobs=-1)\n",
      "Got the result from ./1/train/filtrations/4/RadialFiltration_25_25/green/diagrams.npy\n",
      "Applying Scaler to persistence diagrams.\n",
      "Got the result from ./1/train/filtrations/4/RadialFiltration_25_25/green/features.npy\n",
      "FiltrationExtractor: processing 1/train/filtrations/4/RadialFiltration_25_25/blue, do_fit = True, filtration = RadialFiltration(center=array([25, 25]), n_jobs=-1)\n",
      "Got the result from ./1/train/filtrations/4/RadialFiltration_25_25/blue/diagrams.npy\n",
      "Applying Scaler to persistence diagrams.\n",
      "DiagramVectorizer: fitting complete\n",
      "Got the result from ./1/train/filtrations/4/RadialFiltration_25_25/blue/features.npy\n",
      "FiltrationExtractor: processing 1/train/filtrations/4/RadialFiltration_25_25/blue, do_fit = False, filtration = RadialFiltration(center=array([25, 25]), n_jobs=-1)\n",
      "Got the result from ./1/train/filtrations/4/RadialFiltration_25_25/blue/diagrams.npy\n",
      "Applying Scaler to persistence diagrams.\n",
      "Got the result from ./1/train/filtrations/4/RadialFiltration_25_25/blue/features.npy\n",
      "Fitting filtration 39/72: RadialFiltration with c = (25, 38), bin. thr. = 0.4\n",
      "RGB images received. Transforming to grayscale.\n"
     ]
    },
    {
     "name": "stderr",
     "output_type": "stream",
     "text": [
      "rgb2gray: 100%|██████████| 26640/26640 [00:06<00:00, 4066.82it/s]\n"
     ]
    },
    {
     "name": "stdout",
     "output_type": "stream",
     "text": [
      "FiltrationExtractor: processing 1/train/filtrations/4/RadialFiltration_25_38/gray, do_fit = True, filtration = RadialFiltration(center=array([25, 38]), n_jobs=-1)\n",
      "Got the result from ./1/train/filtrations/4/RadialFiltration_25_38/gray/diagrams.npy\n",
      "Applying Scaler to persistence diagrams.\n",
      "DiagramVectorizer: fitting complete\n",
      "Got the result from ./1/train/filtrations/4/RadialFiltration_25_38/gray/features.npy\n",
      "FiltrationExtractor: processing 1/train/filtrations/4/RadialFiltration_25_38/gray, do_fit = False, filtration = RadialFiltration(center=array([25, 38]), n_jobs=-1)\n",
      "Got the result from ./1/train/filtrations/4/RadialFiltration_25_38/gray/diagrams.npy\n",
      "Applying Scaler to persistence diagrams.\n",
      "Got the result from ./1/train/filtrations/4/RadialFiltration_25_38/gray/features.npy\n",
      "FiltrationExtractor: processing 1/train/filtrations/4/RadialFiltration_25_38/red, do_fit = True, filtration = RadialFiltration(center=array([25, 38]), n_jobs=-1)\n",
      "Got the result from ./1/train/filtrations/4/RadialFiltration_25_38/red/diagrams.npy\n",
      "Applying Scaler to persistence diagrams.\n",
      "DiagramVectorizer: fitting complete\n",
      "Got the result from ./1/train/filtrations/4/RadialFiltration_25_38/red/features.npy\n",
      "FiltrationExtractor: processing 1/train/filtrations/4/RadialFiltration_25_38/red, do_fit = False, filtration = RadialFiltration(center=array([25, 38]), n_jobs=-1)\n",
      "Got the result from ./1/train/filtrations/4/RadialFiltration_25_38/red/diagrams.npy\n",
      "Applying Scaler to persistence diagrams.\n",
      "Got the result from ./1/train/filtrations/4/RadialFiltration_25_38/red/features.npy\n",
      "FiltrationExtractor: processing 1/train/filtrations/4/RadialFiltration_25_38/green, do_fit = True, filtration = RadialFiltration(center=array([25, 38]), n_jobs=-1)\n",
      "Got the result from ./1/train/filtrations/4/RadialFiltration_25_38/green/diagrams.npy\n",
      "Applying Scaler to persistence diagrams.\n",
      "DiagramVectorizer: fitting complete\n",
      "Got the result from ./1/train/filtrations/4/RadialFiltration_25_38/green/features.npy\n",
      "FiltrationExtractor: processing 1/train/filtrations/4/RadialFiltration_25_38/green, do_fit = False, filtration = RadialFiltration(center=array([25, 38]), n_jobs=-1)\n",
      "Got the result from ./1/train/filtrations/4/RadialFiltration_25_38/green/diagrams.npy\n",
      "Applying Scaler to persistence diagrams.\n",
      "Got the result from ./1/train/filtrations/4/RadialFiltration_25_38/green/features.npy\n",
      "FiltrationExtractor: processing 1/train/filtrations/4/RadialFiltration_25_38/blue, do_fit = True, filtration = RadialFiltration(center=array([25, 38]), n_jobs=-1)\n",
      "Got the result from ./1/train/filtrations/4/RadialFiltration_25_38/blue/diagrams.npy\n",
      "Applying Scaler to persistence diagrams.\n",
      "DiagramVectorizer: fitting complete\n",
      "Got the result from ./1/train/filtrations/4/RadialFiltration_25_38/blue/features.npy\n",
      "FiltrationExtractor: processing 1/train/filtrations/4/RadialFiltration_25_38/blue, do_fit = False, filtration = RadialFiltration(center=array([25, 38]), n_jobs=-1)\n",
      "Got the result from ./1/train/filtrations/4/RadialFiltration_25_38/blue/diagrams.npy\n",
      "Applying Scaler to persistence diagrams.\n",
      "Got the result from ./1/train/filtrations/4/RadialFiltration_25_38/blue/features.npy\n",
      "Fitting filtration 40/72: RadialFiltration with c = (25, 51), bin. thr. = 0.4\n",
      "RGB images received. Transforming to grayscale.\n"
     ]
    },
    {
     "name": "stderr",
     "output_type": "stream",
     "text": [
      "rgb2gray: 100%|██████████| 26640/26640 [00:06<00:00, 4217.42it/s]\n"
     ]
    },
    {
     "name": "stdout",
     "output_type": "stream",
     "text": [
      "FiltrationExtractor: processing 1/train/filtrations/4/RadialFiltration_25_51/gray, do_fit = True, filtration = RadialFiltration(center=array([25, 51]), n_jobs=-1)\n",
      "Got the result from ./1/train/filtrations/4/RadialFiltration_25_51/gray/diagrams.npy\n",
      "Applying Scaler to persistence diagrams.\n",
      "DiagramVectorizer: fitting complete\n",
      "Got the result from ./1/train/filtrations/4/RadialFiltration_25_51/gray/features.npy\n",
      "FiltrationExtractor: processing 1/train/filtrations/4/RadialFiltration_25_51/gray, do_fit = False, filtration = RadialFiltration(center=array([25, 51]), n_jobs=-1)\n",
      "Got the result from ./1/train/filtrations/4/RadialFiltration_25_51/gray/diagrams.npy\n",
      "Applying Scaler to persistence diagrams.\n",
      "Got the result from ./1/train/filtrations/4/RadialFiltration_25_51/gray/features.npy\n",
      "FiltrationExtractor: processing 1/train/filtrations/4/RadialFiltration_25_51/red, do_fit = True, filtration = RadialFiltration(center=array([25, 51]), n_jobs=-1)\n",
      "Got the result from ./1/train/filtrations/4/RadialFiltration_25_51/red/diagrams.npy\n",
      "Applying Scaler to persistence diagrams.\n",
      "DiagramVectorizer: fitting complete\n",
      "Got the result from ./1/train/filtrations/4/RadialFiltration_25_51/red/features.npy\n",
      "FiltrationExtractor: processing 1/train/filtrations/4/RadialFiltration_25_51/red, do_fit = False, filtration = RadialFiltration(center=array([25, 51]), n_jobs=-1)\n",
      "Got the result from ./1/train/filtrations/4/RadialFiltration_25_51/red/diagrams.npy\n",
      "Applying Scaler to persistence diagrams.\n",
      "Got the result from ./1/train/filtrations/4/RadialFiltration_25_51/red/features.npy\n",
      "FiltrationExtractor: processing 1/train/filtrations/4/RadialFiltration_25_51/green, do_fit = True, filtration = RadialFiltration(center=array([25, 51]), n_jobs=-1)\n",
      "Got the result from ./1/train/filtrations/4/RadialFiltration_25_51/green/diagrams.npy\n",
      "Applying Scaler to persistence diagrams.\n",
      "DiagramVectorizer: fitting complete\n",
      "Got the result from ./1/train/filtrations/4/RadialFiltration_25_51/green/features.npy\n",
      "FiltrationExtractor: processing 1/train/filtrations/4/RadialFiltration_25_51/green, do_fit = False, filtration = RadialFiltration(center=array([25, 51]), n_jobs=-1)\n",
      "Got the result from ./1/train/filtrations/4/RadialFiltration_25_51/green/diagrams.npy\n",
      "Applying Scaler to persistence diagrams.\n",
      "Got the result from ./1/train/filtrations/4/RadialFiltration_25_51/green/features.npy\n",
      "FiltrationExtractor: processing 1/train/filtrations/4/RadialFiltration_25_51/blue, do_fit = True, filtration = RadialFiltration(center=array([25, 51]), n_jobs=-1)\n",
      "Got the result from ./1/train/filtrations/4/RadialFiltration_25_51/blue/diagrams.npy\n",
      "Applying Scaler to persistence diagrams.\n",
      "DiagramVectorizer: fitting complete\n",
      "Got the result from ./1/train/filtrations/4/RadialFiltration_25_51/blue/features.npy\n",
      "FiltrationExtractor: processing 1/train/filtrations/4/RadialFiltration_25_51/blue, do_fit = False, filtration = RadialFiltration(center=array([25, 51]), n_jobs=-1)\n",
      "Got the result from ./1/train/filtrations/4/RadialFiltration_25_51/blue/diagrams.npy\n",
      "Applying Scaler to persistence diagrams.\n",
      "Got the result from ./1/train/filtrations/4/RadialFiltration_25_51/blue/features.npy\n",
      "Fitting filtration 41/72: RadialFiltration with c = (38, 12), bin. thr. = 0.4\n",
      "RGB images received. Transforming to grayscale.\n"
     ]
    },
    {
     "name": "stderr",
     "output_type": "stream",
     "text": [
      "rgb2gray: 100%|██████████| 26640/26640 [00:07<00:00, 3740.24it/s]\n"
     ]
    },
    {
     "name": "stdout",
     "output_type": "stream",
     "text": [
      "FiltrationExtractor: processing 1/train/filtrations/4/RadialFiltration_38_12/gray, do_fit = True, filtration = RadialFiltration(center=array([38, 12]), n_jobs=-1)\n",
      "Got the result from ./1/train/filtrations/4/RadialFiltration_38_12/gray/diagrams.npy\n",
      "Applying Scaler to persistence diagrams.\n",
      "DiagramVectorizer: fitting complete\n",
      "Got the result from ./1/train/filtrations/4/RadialFiltration_38_12/gray/features.npy\n",
      "FiltrationExtractor: processing 1/train/filtrations/4/RadialFiltration_38_12/gray, do_fit = False, filtration = RadialFiltration(center=array([38, 12]), n_jobs=-1)\n",
      "Got the result from ./1/train/filtrations/4/RadialFiltration_38_12/gray/diagrams.npy\n",
      "Applying Scaler to persistence diagrams.\n",
      "Got the result from ./1/train/filtrations/4/RadialFiltration_38_12/gray/features.npy\n",
      "FiltrationExtractor: processing 1/train/filtrations/4/RadialFiltration_38_12/red, do_fit = True, filtration = RadialFiltration(center=array([38, 12]), n_jobs=-1)\n",
      "Got the result from ./1/train/filtrations/4/RadialFiltration_38_12/red/diagrams.npy\n",
      "Applying Scaler to persistence diagrams.\n",
      "DiagramVectorizer: fitting complete\n",
      "Got the result from ./1/train/filtrations/4/RadialFiltration_38_12/red/features.npy\n",
      "FiltrationExtractor: processing 1/train/filtrations/4/RadialFiltration_38_12/red, do_fit = False, filtration = RadialFiltration(center=array([38, 12]), n_jobs=-1)\n",
      "Got the result from ./1/train/filtrations/4/RadialFiltration_38_12/red/diagrams.npy\n",
      "Applying Scaler to persistence diagrams.\n",
      "Got the result from ./1/train/filtrations/4/RadialFiltration_38_12/red/features.npy\n",
      "FiltrationExtractor: processing 1/train/filtrations/4/RadialFiltration_38_12/green, do_fit = True, filtration = RadialFiltration(center=array([38, 12]), n_jobs=-1)\n",
      "Got the result from ./1/train/filtrations/4/RadialFiltration_38_12/green/diagrams.npy\n",
      "Applying Scaler to persistence diagrams.\n",
      "DiagramVectorizer: fitting complete\n",
      "Got the result from ./1/train/filtrations/4/RadialFiltration_38_12/green/features.npy\n",
      "FiltrationExtractor: processing 1/train/filtrations/4/RadialFiltration_38_12/green, do_fit = False, filtration = RadialFiltration(center=array([38, 12]), n_jobs=-1)\n",
      "Got the result from ./1/train/filtrations/4/RadialFiltration_38_12/green/diagrams.npy\n",
      "Applying Scaler to persistence diagrams.\n",
      "Got the result from ./1/train/filtrations/4/RadialFiltration_38_12/green/features.npy\n",
      "FiltrationExtractor: processing 1/train/filtrations/4/RadialFiltration_38_12/blue, do_fit = True, filtration = RadialFiltration(center=array([38, 12]), n_jobs=-1)\n",
      "Got the result from ./1/train/filtrations/4/RadialFiltration_38_12/blue/diagrams.npy\n",
      "Applying Scaler to persistence diagrams.\n",
      "DiagramVectorizer: fitting complete\n",
      "Got the result from ./1/train/filtrations/4/RadialFiltration_38_12/blue/features.npy\n",
      "FiltrationExtractor: processing 1/train/filtrations/4/RadialFiltration_38_12/blue, do_fit = False, filtration = RadialFiltration(center=array([38, 12]), n_jobs=-1)\n",
      "Got the result from ./1/train/filtrations/4/RadialFiltration_38_12/blue/diagrams.npy\n",
      "Applying Scaler to persistence diagrams.\n",
      "Got the result from ./1/train/filtrations/4/RadialFiltration_38_12/blue/features.npy\n",
      "Fitting filtration 42/72: RadialFiltration with c = (38, 25), bin. thr. = 0.4\n",
      "RGB images received. Transforming to grayscale.\n"
     ]
    },
    {
     "name": "stderr",
     "output_type": "stream",
     "text": [
      "rgb2gray: 100%|██████████| 26640/26640 [00:06<00:00, 4110.08it/s]\n"
     ]
    },
    {
     "name": "stdout",
     "output_type": "stream",
     "text": [
      "FiltrationExtractor: processing 1/train/filtrations/4/RadialFiltration_38_25/gray, do_fit = True, filtration = RadialFiltration(center=array([38, 25]), n_jobs=-1)\n",
      "Got the result from ./1/train/filtrations/4/RadialFiltration_38_25/gray/diagrams.npy\n",
      "Applying Scaler to persistence diagrams.\n",
      "DiagramVectorizer: fitting complete\n",
      "Got the result from ./1/train/filtrations/4/RadialFiltration_38_25/gray/features.npy\n",
      "FiltrationExtractor: processing 1/train/filtrations/4/RadialFiltration_38_25/gray, do_fit = False, filtration = RadialFiltration(center=array([38, 25]), n_jobs=-1)\n",
      "Got the result from ./1/train/filtrations/4/RadialFiltration_38_25/gray/diagrams.npy\n",
      "Applying Scaler to persistence diagrams.\n",
      "Got the result from ./1/train/filtrations/4/RadialFiltration_38_25/gray/features.npy\n",
      "FiltrationExtractor: processing 1/train/filtrations/4/RadialFiltration_38_25/red, do_fit = True, filtration = RadialFiltration(center=array([38, 25]), n_jobs=-1)\n",
      "Got the result from ./1/train/filtrations/4/RadialFiltration_38_25/red/diagrams.npy\n",
      "Applying Scaler to persistence diagrams.\n",
      "DiagramVectorizer: fitting complete\n",
      "Got the result from ./1/train/filtrations/4/RadialFiltration_38_25/red/features.npy\n",
      "FiltrationExtractor: processing 1/train/filtrations/4/RadialFiltration_38_25/red, do_fit = False, filtration = RadialFiltration(center=array([38, 25]), n_jobs=-1)\n",
      "Got the result from ./1/train/filtrations/4/RadialFiltration_38_25/red/diagrams.npy\n",
      "Applying Scaler to persistence diagrams.\n",
      "Got the result from ./1/train/filtrations/4/RadialFiltration_38_25/red/features.npy\n",
      "FiltrationExtractor: processing 1/train/filtrations/4/RadialFiltration_38_25/green, do_fit = True, filtration = RadialFiltration(center=array([38, 25]), n_jobs=-1)\n",
      "Got the result from ./1/train/filtrations/4/RadialFiltration_38_25/green/diagrams.npy\n",
      "Applying Scaler to persistence diagrams.\n",
      "DiagramVectorizer: fitting complete\n",
      "Got the result from ./1/train/filtrations/4/RadialFiltration_38_25/green/features.npy\n",
      "FiltrationExtractor: processing 1/train/filtrations/4/RadialFiltration_38_25/green, do_fit = False, filtration = RadialFiltration(center=array([38, 25]), n_jobs=-1)\n",
      "Got the result from ./1/train/filtrations/4/RadialFiltration_38_25/green/diagrams.npy\n",
      "Applying Scaler to persistence diagrams.\n",
      "Got the result from ./1/train/filtrations/4/RadialFiltration_38_25/green/features.npy\n",
      "FiltrationExtractor: processing 1/train/filtrations/4/RadialFiltration_38_25/blue, do_fit = True, filtration = RadialFiltration(center=array([38, 25]), n_jobs=-1)\n",
      "Got the result from ./1/train/filtrations/4/RadialFiltration_38_25/blue/diagrams.npy\n",
      "Applying Scaler to persistence diagrams.\n",
      "DiagramVectorizer: fitting complete\n",
      "Got the result from ./1/train/filtrations/4/RadialFiltration_38_25/blue/features.npy\n",
      "FiltrationExtractor: processing 1/train/filtrations/4/RadialFiltration_38_25/blue, do_fit = False, filtration = RadialFiltration(center=array([38, 25]), n_jobs=-1)\n",
      "Got the result from ./1/train/filtrations/4/RadialFiltration_38_25/blue/diagrams.npy\n",
      "Applying Scaler to persistence diagrams.\n",
      "Got the result from ./1/train/filtrations/4/RadialFiltration_38_25/blue/features.npy\n",
      "Fitting filtration 43/72: RadialFiltration with c = (38, 38), bin. thr. = 0.4\n",
      "RGB images received. Transforming to grayscale.\n"
     ]
    },
    {
     "name": "stderr",
     "output_type": "stream",
     "text": [
      "rgb2gray: 100%|██████████| 26640/26640 [00:06<00:00, 4100.50it/s]\n"
     ]
    },
    {
     "name": "stdout",
     "output_type": "stream",
     "text": [
      "FiltrationExtractor: processing 1/train/filtrations/4/RadialFiltration_38_38/gray, do_fit = True, filtration = RadialFiltration(center=array([38, 38]), n_jobs=-1)\n",
      "Got the result from ./1/train/filtrations/4/RadialFiltration_38_38/gray/diagrams.npy\n",
      "Applying Scaler to persistence diagrams.\n",
      "DiagramVectorizer: fitting complete\n",
      "Got the result from ./1/train/filtrations/4/RadialFiltration_38_38/gray/features.npy\n",
      "FiltrationExtractor: processing 1/train/filtrations/4/RadialFiltration_38_38/gray, do_fit = False, filtration = RadialFiltration(center=array([38, 38]), n_jobs=-1)\n",
      "Got the result from ./1/train/filtrations/4/RadialFiltration_38_38/gray/diagrams.npy\n",
      "Applying Scaler to persistence diagrams.\n",
      "Got the result from ./1/train/filtrations/4/RadialFiltration_38_38/gray/features.npy\n",
      "FiltrationExtractor: processing 1/train/filtrations/4/RadialFiltration_38_38/red, do_fit = True, filtration = RadialFiltration(center=array([38, 38]), n_jobs=-1)\n",
      "Got the result from ./1/train/filtrations/4/RadialFiltration_38_38/red/diagrams.npy\n",
      "Applying Scaler to persistence diagrams.\n",
      "DiagramVectorizer: fitting complete\n",
      "Got the result from ./1/train/filtrations/4/RadialFiltration_38_38/red/features.npy\n",
      "FiltrationExtractor: processing 1/train/filtrations/4/RadialFiltration_38_38/red, do_fit = False, filtration = RadialFiltration(center=array([38, 38]), n_jobs=-1)\n",
      "Got the result from ./1/train/filtrations/4/RadialFiltration_38_38/red/diagrams.npy\n",
      "Applying Scaler to persistence diagrams.\n",
      "Got the result from ./1/train/filtrations/4/RadialFiltration_38_38/red/features.npy\n",
      "FiltrationExtractor: processing 1/train/filtrations/4/RadialFiltration_38_38/green, do_fit = True, filtration = RadialFiltration(center=array([38, 38]), n_jobs=-1)\n",
      "Got the result from ./1/train/filtrations/4/RadialFiltration_38_38/green/diagrams.npy\n",
      "Applying Scaler to persistence diagrams.\n",
      "DiagramVectorizer: fitting complete\n",
      "Got the result from ./1/train/filtrations/4/RadialFiltration_38_38/green/features.npy\n",
      "FiltrationExtractor: processing 1/train/filtrations/4/RadialFiltration_38_38/green, do_fit = False, filtration = RadialFiltration(center=array([38, 38]), n_jobs=-1)\n",
      "Got the result from ./1/train/filtrations/4/RadialFiltration_38_38/green/diagrams.npy\n",
      "Applying Scaler to persistence diagrams.\n",
      "Got the result from ./1/train/filtrations/4/RadialFiltration_38_38/green/features.npy\n",
      "FiltrationExtractor: processing 1/train/filtrations/4/RadialFiltration_38_38/blue, do_fit = True, filtration = RadialFiltration(center=array([38, 38]), n_jobs=-1)\n",
      "Got the result from ./1/train/filtrations/4/RadialFiltration_38_38/blue/diagrams.npy\n",
      "Applying Scaler to persistence diagrams.\n",
      "DiagramVectorizer: fitting complete\n",
      "Got the result from ./1/train/filtrations/4/RadialFiltration_38_38/blue/features.npy\n",
      "FiltrationExtractor: processing 1/train/filtrations/4/RadialFiltration_38_38/blue, do_fit = False, filtration = RadialFiltration(center=array([38, 38]), n_jobs=-1)\n",
      "Got the result from ./1/train/filtrations/4/RadialFiltration_38_38/blue/diagrams.npy\n",
      "Applying Scaler to persistence diagrams.\n",
      "Got the result from ./1/train/filtrations/4/RadialFiltration_38_38/blue/features.npy\n",
      "Fitting filtration 44/72: RadialFiltration with c = (38, 51), bin. thr. = 0.4\n",
      "RGB images received. Transforming to grayscale.\n"
     ]
    },
    {
     "name": "stderr",
     "output_type": "stream",
     "text": [
      "rgb2gray: 100%|██████████| 26640/26640 [00:06<00:00, 4208.19it/s]\n"
     ]
    },
    {
     "name": "stdout",
     "output_type": "stream",
     "text": [
      "FiltrationExtractor: processing 1/train/filtrations/4/RadialFiltration_38_51/gray, do_fit = True, filtration = RadialFiltration(center=array([38, 51]), n_jobs=-1)\n",
      "Got the result from ./1/train/filtrations/4/RadialFiltration_38_51/gray/diagrams.npy\n",
      "Applying Scaler to persistence diagrams.\n",
      "DiagramVectorizer: fitting complete\n",
      "Got the result from ./1/train/filtrations/4/RadialFiltration_38_51/gray/features.npy\n",
      "FiltrationExtractor: processing 1/train/filtrations/4/RadialFiltration_38_51/gray, do_fit = False, filtration = RadialFiltration(center=array([38, 51]), n_jobs=-1)\n",
      "Got the result from ./1/train/filtrations/4/RadialFiltration_38_51/gray/diagrams.npy\n",
      "Applying Scaler to persistence diagrams.\n",
      "Got the result from ./1/train/filtrations/4/RadialFiltration_38_51/gray/features.npy\n",
      "FiltrationExtractor: processing 1/train/filtrations/4/RadialFiltration_38_51/red, do_fit = True, filtration = RadialFiltration(center=array([38, 51]), n_jobs=-1)\n",
      "Got the result from ./1/train/filtrations/4/RadialFiltration_38_51/red/diagrams.npy\n",
      "Applying Scaler to persistence diagrams.\n",
      "DiagramVectorizer: fitting complete\n",
      "Got the result from ./1/train/filtrations/4/RadialFiltration_38_51/red/features.npy\n",
      "FiltrationExtractor: processing 1/train/filtrations/4/RadialFiltration_38_51/red, do_fit = False, filtration = RadialFiltration(center=array([38, 51]), n_jobs=-1)\n",
      "Got the result from ./1/train/filtrations/4/RadialFiltration_38_51/red/diagrams.npy\n",
      "Applying Scaler to persistence diagrams.\n",
      "Got the result from ./1/train/filtrations/4/RadialFiltration_38_51/red/features.npy\n",
      "FiltrationExtractor: processing 1/train/filtrations/4/RadialFiltration_38_51/green, do_fit = True, filtration = RadialFiltration(center=array([38, 51]), n_jobs=-1)\n",
      "Got the result from ./1/train/filtrations/4/RadialFiltration_38_51/green/diagrams.npy\n",
      "Applying Scaler to persistence diagrams.\n",
      "DiagramVectorizer: fitting complete\n",
      "Got the result from ./1/train/filtrations/4/RadialFiltration_38_51/green/features.npy\n",
      "FiltrationExtractor: processing 1/train/filtrations/4/RadialFiltration_38_51/green, do_fit = False, filtration = RadialFiltration(center=array([38, 51]), n_jobs=-1)\n",
      "Got the result from ./1/train/filtrations/4/RadialFiltration_38_51/green/diagrams.npy\n",
      "Applying Scaler to persistence diagrams.\n",
      "Got the result from ./1/train/filtrations/4/RadialFiltration_38_51/green/features.npy\n",
      "FiltrationExtractor: processing 1/train/filtrations/4/RadialFiltration_38_51/blue, do_fit = True, filtration = RadialFiltration(center=array([38, 51]), n_jobs=-1)\n",
      "Got the result from ./1/train/filtrations/4/RadialFiltration_38_51/blue/diagrams.npy\n",
      "Applying Scaler to persistence diagrams.\n",
      "DiagramVectorizer: fitting complete\n",
      "Got the result from ./1/train/filtrations/4/RadialFiltration_38_51/blue/features.npy\n",
      "FiltrationExtractor: processing 1/train/filtrations/4/RadialFiltration_38_51/blue, do_fit = False, filtration = RadialFiltration(center=array([38, 51]), n_jobs=-1)\n",
      "Got the result from ./1/train/filtrations/4/RadialFiltration_38_51/blue/diagrams.npy\n",
      "Applying Scaler to persistence diagrams.\n",
      "Got the result from ./1/train/filtrations/4/RadialFiltration_38_51/blue/features.npy\n",
      "Fitting filtration 45/72: RadialFiltration with c = (51, 12), bin. thr. = 0.4\n",
      "RGB images received. Transforming to grayscale.\n"
     ]
    },
    {
     "name": "stderr",
     "output_type": "stream",
     "text": [
      "rgb2gray: 100%|██████████| 26640/26640 [00:06<00:00, 3984.72it/s]\n"
     ]
    },
    {
     "name": "stdout",
     "output_type": "stream",
     "text": [
      "FiltrationExtractor: processing 1/train/filtrations/4/RadialFiltration_51_12/gray, do_fit = True, filtration = RadialFiltration(center=array([51, 12]), n_jobs=-1)\n",
      "Got the result from ./1/train/filtrations/4/RadialFiltration_51_12/gray/diagrams.npy\n",
      "Applying Scaler to persistence diagrams.\n",
      "DiagramVectorizer: fitting complete\n",
      "Got the result from ./1/train/filtrations/4/RadialFiltration_51_12/gray/features.npy\n",
      "FiltrationExtractor: processing 1/train/filtrations/4/RadialFiltration_51_12/gray, do_fit = False, filtration = RadialFiltration(center=array([51, 12]), n_jobs=-1)\n",
      "Got the result from ./1/train/filtrations/4/RadialFiltration_51_12/gray/diagrams.npy\n",
      "Applying Scaler to persistence diagrams.\n",
      "Got the result from ./1/train/filtrations/4/RadialFiltration_51_12/gray/features.npy\n",
      "FiltrationExtractor: processing 1/train/filtrations/4/RadialFiltration_51_12/red, do_fit = True, filtration = RadialFiltration(center=array([51, 12]), n_jobs=-1)\n",
      "Got the result from ./1/train/filtrations/4/RadialFiltration_51_12/red/diagrams.npy\n",
      "Applying Scaler to persistence diagrams.\n",
      "DiagramVectorizer: fitting complete\n",
      "Got the result from ./1/train/filtrations/4/RadialFiltration_51_12/red/features.npy\n",
      "FiltrationExtractor: processing 1/train/filtrations/4/RadialFiltration_51_12/red, do_fit = False, filtration = RadialFiltration(center=array([51, 12]), n_jobs=-1)\n",
      "Got the result from ./1/train/filtrations/4/RadialFiltration_51_12/red/diagrams.npy\n",
      "Applying Scaler to persistence diagrams.\n",
      "Got the result from ./1/train/filtrations/4/RadialFiltration_51_12/red/features.npy\n",
      "FiltrationExtractor: processing 1/train/filtrations/4/RadialFiltration_51_12/green, do_fit = True, filtration = RadialFiltration(center=array([51, 12]), n_jobs=-1)\n",
      "Got the result from ./1/train/filtrations/4/RadialFiltration_51_12/green/diagrams.npy\n",
      "Applying Scaler to persistence diagrams.\n",
      "DiagramVectorizer: fitting complete\n",
      "Got the result from ./1/train/filtrations/4/RadialFiltration_51_12/green/features.npy\n",
      "FiltrationExtractor: processing 1/train/filtrations/4/RadialFiltration_51_12/green, do_fit = False, filtration = RadialFiltration(center=array([51, 12]), n_jobs=-1)\n",
      "Got the result from ./1/train/filtrations/4/RadialFiltration_51_12/green/diagrams.npy\n",
      "Applying Scaler to persistence diagrams.\n",
      "Got the result from ./1/train/filtrations/4/RadialFiltration_51_12/green/features.npy\n",
      "FiltrationExtractor: processing 1/train/filtrations/4/RadialFiltration_51_12/blue, do_fit = True, filtration = RadialFiltration(center=array([51, 12]), n_jobs=-1)\n",
      "Got the result from ./1/train/filtrations/4/RadialFiltration_51_12/blue/diagrams.npy\n",
      "Applying Scaler to persistence diagrams.\n",
      "DiagramVectorizer: fitting complete\n",
      "Got the result from ./1/train/filtrations/4/RadialFiltration_51_12/blue/features.npy\n",
      "FiltrationExtractor: processing 1/train/filtrations/4/RadialFiltration_51_12/blue, do_fit = False, filtration = RadialFiltration(center=array([51, 12]), n_jobs=-1)\n",
      "Got the result from ./1/train/filtrations/4/RadialFiltration_51_12/blue/diagrams.npy\n",
      "Applying Scaler to persistence diagrams.\n",
      "Got the result from ./1/train/filtrations/4/RadialFiltration_51_12/blue/features.npy\n",
      "Fitting filtration 46/72: RadialFiltration with c = (51, 25), bin. thr. = 0.4\n",
      "RGB images received. Transforming to grayscale.\n"
     ]
    },
    {
     "name": "stderr",
     "output_type": "stream",
     "text": [
      "rgb2gray: 100%|██████████| 26640/26640 [00:06<00:00, 4153.31it/s]\n"
     ]
    },
    {
     "name": "stdout",
     "output_type": "stream",
     "text": [
      "FiltrationExtractor: processing 1/train/filtrations/4/RadialFiltration_51_25/gray, do_fit = True, filtration = RadialFiltration(center=array([51, 25]), n_jobs=-1)\n",
      "Got the result from ./1/train/filtrations/4/RadialFiltration_51_25/gray/diagrams.npy\n",
      "Applying Scaler to persistence diagrams.\n",
      "DiagramVectorizer: fitting complete\n",
      "Got the result from ./1/train/filtrations/4/RadialFiltration_51_25/gray/features.npy\n",
      "FiltrationExtractor: processing 1/train/filtrations/4/RadialFiltration_51_25/gray, do_fit = False, filtration = RadialFiltration(center=array([51, 25]), n_jobs=-1)\n",
      "Got the result from ./1/train/filtrations/4/RadialFiltration_51_25/gray/diagrams.npy\n",
      "Applying Scaler to persistence diagrams.\n",
      "Got the result from ./1/train/filtrations/4/RadialFiltration_51_25/gray/features.npy\n",
      "FiltrationExtractor: processing 1/train/filtrations/4/RadialFiltration_51_25/red, do_fit = True, filtration = RadialFiltration(center=array([51, 25]), n_jobs=-1)\n",
      "Got the result from ./1/train/filtrations/4/RadialFiltration_51_25/red/diagrams.npy\n",
      "Applying Scaler to persistence diagrams.\n",
      "DiagramVectorizer: fitting complete\n",
      "Got the result from ./1/train/filtrations/4/RadialFiltration_51_25/red/features.npy\n",
      "FiltrationExtractor: processing 1/train/filtrations/4/RadialFiltration_51_25/red, do_fit = False, filtration = RadialFiltration(center=array([51, 25]), n_jobs=-1)\n",
      "Got the result from ./1/train/filtrations/4/RadialFiltration_51_25/red/diagrams.npy\n",
      "Applying Scaler to persistence diagrams.\n",
      "Got the result from ./1/train/filtrations/4/RadialFiltration_51_25/red/features.npy\n",
      "FiltrationExtractor: processing 1/train/filtrations/4/RadialFiltration_51_25/green, do_fit = True, filtration = RadialFiltration(center=array([51, 25]), n_jobs=-1)\n",
      "Got the result from ./1/train/filtrations/4/RadialFiltration_51_25/green/diagrams.npy\n",
      "Applying Scaler to persistence diagrams.\n",
      "DiagramVectorizer: fitting complete\n",
      "Got the result from ./1/train/filtrations/4/RadialFiltration_51_25/green/features.npy\n",
      "FiltrationExtractor: processing 1/train/filtrations/4/RadialFiltration_51_25/green, do_fit = False, filtration = RadialFiltration(center=array([51, 25]), n_jobs=-1)\n",
      "Got the result from ./1/train/filtrations/4/RadialFiltration_51_25/green/diagrams.npy\n",
      "Applying Scaler to persistence diagrams.\n",
      "Got the result from ./1/train/filtrations/4/RadialFiltration_51_25/green/features.npy\n",
      "FiltrationExtractor: processing 1/train/filtrations/4/RadialFiltration_51_25/blue, do_fit = True, filtration = RadialFiltration(center=array([51, 25]), n_jobs=-1)\n",
      "Got the result from ./1/train/filtrations/4/RadialFiltration_51_25/blue/diagrams.npy\n",
      "Applying Scaler to persistence diagrams.\n",
      "DiagramVectorizer: fitting complete\n",
      "Got the result from ./1/train/filtrations/4/RadialFiltration_51_25/blue/features.npy\n",
      "FiltrationExtractor: processing 1/train/filtrations/4/RadialFiltration_51_25/blue, do_fit = False, filtration = RadialFiltration(center=array([51, 25]), n_jobs=-1)\n",
      "Got the result from ./1/train/filtrations/4/RadialFiltration_51_25/blue/diagrams.npy\n",
      "Applying Scaler to persistence diagrams.\n",
      "Got the result from ./1/train/filtrations/4/RadialFiltration_51_25/blue/features.npy\n",
      "Fitting filtration 47/72: RadialFiltration with c = (51, 38), bin. thr. = 0.4\n",
      "RGB images received. Transforming to grayscale.\n"
     ]
    },
    {
     "name": "stderr",
     "output_type": "stream",
     "text": [
      "rgb2gray: 100%|██████████| 26640/26640 [00:06<00:00, 4245.24it/s]\n"
     ]
    },
    {
     "name": "stdout",
     "output_type": "stream",
     "text": [
      "FiltrationExtractor: processing 1/train/filtrations/4/RadialFiltration_51_38/gray, do_fit = True, filtration = RadialFiltration(center=array([51, 38]), n_jobs=-1)\n",
      "Got the result from ./1/train/filtrations/4/RadialFiltration_51_38/gray/diagrams.npy\n",
      "Applying Scaler to persistence diagrams.\n",
      "DiagramVectorizer: fitting complete\n",
      "Got the result from ./1/train/filtrations/4/RadialFiltration_51_38/gray/features.npy\n",
      "FiltrationExtractor: processing 1/train/filtrations/4/RadialFiltration_51_38/gray, do_fit = False, filtration = RadialFiltration(center=array([51, 38]), n_jobs=-1)\n",
      "Got the result from ./1/train/filtrations/4/RadialFiltration_51_38/gray/diagrams.npy\n",
      "Applying Scaler to persistence diagrams.\n",
      "Got the result from ./1/train/filtrations/4/RadialFiltration_51_38/gray/features.npy\n",
      "FiltrationExtractor: processing 1/train/filtrations/4/RadialFiltration_51_38/red, do_fit = True, filtration = RadialFiltration(center=array([51, 38]), n_jobs=-1)\n",
      "Got the result from ./1/train/filtrations/4/RadialFiltration_51_38/red/diagrams.npy\n",
      "Applying Scaler to persistence diagrams.\n",
      "DiagramVectorizer: fitting complete\n",
      "Got the result from ./1/train/filtrations/4/RadialFiltration_51_38/red/features.npy\n",
      "FiltrationExtractor: processing 1/train/filtrations/4/RadialFiltration_51_38/red, do_fit = False, filtration = RadialFiltration(center=array([51, 38]), n_jobs=-1)\n",
      "Got the result from ./1/train/filtrations/4/RadialFiltration_51_38/red/diagrams.npy\n",
      "Applying Scaler to persistence diagrams.\n",
      "Got the result from ./1/train/filtrations/4/RadialFiltration_51_38/red/features.npy\n",
      "FiltrationExtractor: processing 1/train/filtrations/4/RadialFiltration_51_38/green, do_fit = True, filtration = RadialFiltration(center=array([51, 38]), n_jobs=-1)\n",
      "Got the result from ./1/train/filtrations/4/RadialFiltration_51_38/green/diagrams.npy\n",
      "Applying Scaler to persistence diagrams.\n",
      "DiagramVectorizer: fitting complete\n",
      "Got the result from ./1/train/filtrations/4/RadialFiltration_51_38/green/features.npy\n",
      "FiltrationExtractor: processing 1/train/filtrations/4/RadialFiltration_51_38/green, do_fit = False, filtration = RadialFiltration(center=array([51, 38]), n_jobs=-1)\n",
      "Got the result from ./1/train/filtrations/4/RadialFiltration_51_38/green/diagrams.npy\n",
      "Applying Scaler to persistence diagrams.\n",
      "Got the result from ./1/train/filtrations/4/RadialFiltration_51_38/green/features.npy\n",
      "FiltrationExtractor: processing 1/train/filtrations/4/RadialFiltration_51_38/blue, do_fit = True, filtration = RadialFiltration(center=array([51, 38]), n_jobs=-1)\n",
      "Got the result from ./1/train/filtrations/4/RadialFiltration_51_38/blue/diagrams.npy\n",
      "Applying Scaler to persistence diagrams.\n",
      "DiagramVectorizer: fitting complete\n",
      "Got the result from ./1/train/filtrations/4/RadialFiltration_51_38/blue/features.npy\n",
      "FiltrationExtractor: processing 1/train/filtrations/4/RadialFiltration_51_38/blue, do_fit = False, filtration = RadialFiltration(center=array([51, 38]), n_jobs=-1)\n",
      "Got the result from ./1/train/filtrations/4/RadialFiltration_51_38/blue/diagrams.npy\n",
      "Applying Scaler to persistence diagrams.\n",
      "Got the result from ./1/train/filtrations/4/RadialFiltration_51_38/blue/features.npy\n",
      "Fitting filtration 48/72: RadialFiltration with c = (51, 51), bin. thr. = 0.4\n",
      "RGB images received. Transforming to grayscale.\n"
     ]
    },
    {
     "name": "stderr",
     "output_type": "stream",
     "text": [
      "rgb2gray: 100%|██████████| 26640/26640 [00:06<00:00, 4251.17it/s]\n"
     ]
    },
    {
     "name": "stdout",
     "output_type": "stream",
     "text": [
      "FiltrationExtractor: processing 1/train/filtrations/4/RadialFiltration_51_51/gray, do_fit = True, filtration = RadialFiltration(center=array([51, 51]), n_jobs=-1)\n",
      "Got the result from ./1/train/filtrations/4/RadialFiltration_51_51/gray/diagrams.npy\n",
      "Applying Scaler to persistence diagrams.\n",
      "DiagramVectorizer: fitting complete\n",
      "Got the result from ./1/train/filtrations/4/RadialFiltration_51_51/gray/features.npy\n",
      "FiltrationExtractor: processing 1/train/filtrations/4/RadialFiltration_51_51/gray, do_fit = False, filtration = RadialFiltration(center=array([51, 51]), n_jobs=-1)\n",
      "Got the result from ./1/train/filtrations/4/RadialFiltration_51_51/gray/diagrams.npy\n",
      "Applying Scaler to persistence diagrams.\n",
      "Got the result from ./1/train/filtrations/4/RadialFiltration_51_51/gray/features.npy\n",
      "FiltrationExtractor: processing 1/train/filtrations/4/RadialFiltration_51_51/red, do_fit = True, filtration = RadialFiltration(center=array([51, 51]), n_jobs=-1)\n",
      "Got the result from ./1/train/filtrations/4/RadialFiltration_51_51/red/diagrams.npy\n",
      "Applying Scaler to persistence diagrams.\n",
      "DiagramVectorizer: fitting complete\n",
      "Got the result from ./1/train/filtrations/4/RadialFiltration_51_51/red/features.npy\n",
      "FiltrationExtractor: processing 1/train/filtrations/4/RadialFiltration_51_51/red, do_fit = False, filtration = RadialFiltration(center=array([51, 51]), n_jobs=-1)\n",
      "Got the result from ./1/train/filtrations/4/RadialFiltration_51_51/red/diagrams.npy\n",
      "Applying Scaler to persistence diagrams.\n",
      "Got the result from ./1/train/filtrations/4/RadialFiltration_51_51/red/features.npy\n",
      "FiltrationExtractor: processing 1/train/filtrations/4/RadialFiltration_51_51/green, do_fit = True, filtration = RadialFiltration(center=array([51, 51]), n_jobs=-1)\n",
      "Got the result from ./1/train/filtrations/4/RadialFiltration_51_51/green/diagrams.npy\n",
      "Applying Scaler to persistence diagrams.\n",
      "DiagramVectorizer: fitting complete\n",
      "Got the result from ./1/train/filtrations/4/RadialFiltration_51_51/green/features.npy\n",
      "FiltrationExtractor: processing 1/train/filtrations/4/RadialFiltration_51_51/green, do_fit = False, filtration = RadialFiltration(center=array([51, 51]), n_jobs=-1)\n",
      "Got the result from ./1/train/filtrations/4/RadialFiltration_51_51/green/diagrams.npy\n",
      "Applying Scaler to persistence diagrams.\n",
      "Got the result from ./1/train/filtrations/4/RadialFiltration_51_51/green/features.npy\n",
      "FiltrationExtractor: processing 1/train/filtrations/4/RadialFiltration_51_51/blue, do_fit = True, filtration = RadialFiltration(center=array([51, 51]), n_jobs=-1)\n",
      "Got the result from ./1/train/filtrations/4/RadialFiltration_51_51/blue/diagrams.npy\n",
      "Applying Scaler to persistence diagrams.\n",
      "DiagramVectorizer: fitting complete\n",
      "Got the result from ./1/train/filtrations/4/RadialFiltration_51_51/blue/features.npy\n",
      "FiltrationExtractor: processing 1/train/filtrations/4/RadialFiltration_51_51/blue, do_fit = False, filtration = RadialFiltration(center=array([51, 51]), n_jobs=-1)\n",
      "Got the result from ./1/train/filtrations/4/RadialFiltration_51_51/blue/diagrams.npy\n",
      "Applying Scaler to persistence diagrams.\n",
      "Got the result from ./1/train/filtrations/4/RadialFiltration_51_51/blue/features.npy\n",
      "Fitting filtration 49/72: HeightFiltration with d = (-1, -1), bin. thr. = 0.6\n",
      "RGB images received. Transforming to grayscale.\n"
     ]
    },
    {
     "name": "stderr",
     "output_type": "stream",
     "text": [
      "rgb2gray: 100%|██████████| 26640/26640 [00:06<00:00, 4062.98it/s]\n"
     ]
    },
    {
     "name": "stdout",
     "output_type": "stream",
     "text": [
      "FiltrationExtractor: processing 1/train/filtrations/6/HeightFiltrartion_-1_-1/gray, do_fit = True, filtration = HeightFiltration(direction=array([-1, -1]), n_jobs=-1)\n",
      "Got the result from ./1/train/filtrations/6/HeightFiltrartion_-1_-1/gray/diagrams.npy\n",
      "Applying Scaler to persistence diagrams.\n",
      "DiagramVectorizer: fitting complete\n",
      "Got the result from ./1/train/filtrations/6/HeightFiltrartion_-1_-1/gray/features.npy\n",
      "FiltrationExtractor: processing 1/train/filtrations/6/HeightFiltrartion_-1_-1/gray, do_fit = False, filtration = HeightFiltration(direction=array([-1, -1]), n_jobs=-1)\n",
      "Got the result from ./1/train/filtrations/6/HeightFiltrartion_-1_-1/gray/diagrams.npy\n",
      "Applying Scaler to persistence diagrams.\n",
      "Got the result from ./1/train/filtrations/6/HeightFiltrartion_-1_-1/gray/features.npy\n",
      "FiltrationExtractor: processing 1/train/filtrations/6/HeightFiltrartion_-1_-1/red, do_fit = True, filtration = HeightFiltration(direction=array([-1, -1]), n_jobs=-1)\n",
      "Got the result from ./1/train/filtrations/6/HeightFiltrartion_-1_-1/red/diagrams.npy\n",
      "Applying Scaler to persistence diagrams.\n",
      "DiagramVectorizer: fitting complete\n",
      "Got the result from ./1/train/filtrations/6/HeightFiltrartion_-1_-1/red/features.npy\n",
      "FiltrationExtractor: processing 1/train/filtrations/6/HeightFiltrartion_-1_-1/red, do_fit = False, filtration = HeightFiltration(direction=array([-1, -1]), n_jobs=-1)\n",
      "Got the result from ./1/train/filtrations/6/HeightFiltrartion_-1_-1/red/diagrams.npy\n",
      "Applying Scaler to persistence diagrams.\n",
      "Got the result from ./1/train/filtrations/6/HeightFiltrartion_-1_-1/red/features.npy\n",
      "FiltrationExtractor: processing 1/train/filtrations/6/HeightFiltrartion_-1_-1/green, do_fit = True, filtration = HeightFiltration(direction=array([-1, -1]), n_jobs=-1)\n",
      "Got the result from ./1/train/filtrations/6/HeightFiltrartion_-1_-1/green/diagrams.npy\n",
      "Applying Scaler to persistence diagrams.\n",
      "DiagramVectorizer: fitting complete\n",
      "Got the result from ./1/train/filtrations/6/HeightFiltrartion_-1_-1/green/features.npy\n",
      "FiltrationExtractor: processing 1/train/filtrations/6/HeightFiltrartion_-1_-1/green, do_fit = False, filtration = HeightFiltration(direction=array([-1, -1]), n_jobs=-1)\n",
      "Got the result from ./1/train/filtrations/6/HeightFiltrartion_-1_-1/green/diagrams.npy\n",
      "Applying Scaler to persistence diagrams.\n",
      "Got the result from ./1/train/filtrations/6/HeightFiltrartion_-1_-1/green/features.npy\n",
      "FiltrationExtractor: processing 1/train/filtrations/6/HeightFiltrartion_-1_-1/blue, do_fit = True, filtration = HeightFiltration(direction=array([-1, -1]), n_jobs=-1)\n",
      "Got the result from ./1/train/filtrations/6/HeightFiltrartion_-1_-1/blue/diagrams.npy\n",
      "Applying Scaler to persistence diagrams.\n",
      "DiagramVectorizer: fitting complete\n",
      "Got the result from ./1/train/filtrations/6/HeightFiltrartion_-1_-1/blue/features.npy\n",
      "FiltrationExtractor: processing 1/train/filtrations/6/HeightFiltrartion_-1_-1/blue, do_fit = False, filtration = HeightFiltration(direction=array([-1, -1]), n_jobs=-1)\n",
      "Got the result from ./1/train/filtrations/6/HeightFiltrartion_-1_-1/blue/diagrams.npy\n",
      "Applying Scaler to persistence diagrams.\n",
      "Got the result from ./1/train/filtrations/6/HeightFiltrartion_-1_-1/blue/features.npy\n",
      "Fitting filtration 50/72: HeightFiltration with d = (-1, 0), bin. thr. = 0.6\n",
      "RGB images received. Transforming to grayscale.\n"
     ]
    },
    {
     "name": "stderr",
     "output_type": "stream",
     "text": [
      "rgb2gray: 100%|██████████| 26640/26640 [00:06<00:00, 3820.10it/s]\n"
     ]
    },
    {
     "name": "stdout",
     "output_type": "stream",
     "text": [
      "FiltrationExtractor: processing 1/train/filtrations/6/HeightFiltrartion_-1_0/gray, do_fit = True, filtration = HeightFiltration(direction=array([-1,  0]), n_jobs=-1)\n",
      "Got the result from ./1/train/filtrations/6/HeightFiltrartion_-1_0/gray/diagrams.npy\n",
      "Applying Scaler to persistence diagrams.\n",
      "DiagramVectorizer: fitting complete\n",
      "Got the result from ./1/train/filtrations/6/HeightFiltrartion_-1_0/gray/features.npy\n",
      "FiltrationExtractor: processing 1/train/filtrations/6/HeightFiltrartion_-1_0/gray, do_fit = False, filtration = HeightFiltration(direction=array([-1,  0]), n_jobs=-1)\n",
      "Got the result from ./1/train/filtrations/6/HeightFiltrartion_-1_0/gray/diagrams.npy\n",
      "Applying Scaler to persistence diagrams.\n",
      "Got the result from ./1/train/filtrations/6/HeightFiltrartion_-1_0/gray/features.npy\n",
      "FiltrationExtractor: processing 1/train/filtrations/6/HeightFiltrartion_-1_0/red, do_fit = True, filtration = HeightFiltration(direction=array([-1,  0]), n_jobs=-1)\n",
      "Got the result from ./1/train/filtrations/6/HeightFiltrartion_-1_0/red/diagrams.npy\n",
      "Applying Scaler to persistence diagrams.\n",
      "DiagramVectorizer: fitting complete\n",
      "Got the result from ./1/train/filtrations/6/HeightFiltrartion_-1_0/red/features.npy\n",
      "FiltrationExtractor: processing 1/train/filtrations/6/HeightFiltrartion_-1_0/red, do_fit = False, filtration = HeightFiltration(direction=array([-1,  0]), n_jobs=-1)\n",
      "Got the result from ./1/train/filtrations/6/HeightFiltrartion_-1_0/red/diagrams.npy\n",
      "Applying Scaler to persistence diagrams.\n",
      "Got the result from ./1/train/filtrations/6/HeightFiltrartion_-1_0/red/features.npy\n",
      "FiltrationExtractor: processing 1/train/filtrations/6/HeightFiltrartion_-1_0/green, do_fit = True, filtration = HeightFiltration(direction=array([-1,  0]), n_jobs=-1)\n",
      "Got the result from ./1/train/filtrations/6/HeightFiltrartion_-1_0/green/diagrams.npy\n",
      "Applying Scaler to persistence diagrams.\n",
      "DiagramVectorizer: fitting complete\n",
      "Got the result from ./1/train/filtrations/6/HeightFiltrartion_-1_0/green/features.npy\n",
      "FiltrationExtractor: processing 1/train/filtrations/6/HeightFiltrartion_-1_0/green, do_fit = False, filtration = HeightFiltration(direction=array([-1,  0]), n_jobs=-1)\n",
      "Got the result from ./1/train/filtrations/6/HeightFiltrartion_-1_0/green/diagrams.npy\n",
      "Applying Scaler to persistence diagrams.\n",
      "Got the result from ./1/train/filtrations/6/HeightFiltrartion_-1_0/green/features.npy\n",
      "FiltrationExtractor: processing 1/train/filtrations/6/HeightFiltrartion_-1_0/blue, do_fit = True, filtration = HeightFiltration(direction=array([-1,  0]), n_jobs=-1)\n",
      "Got the result from ./1/train/filtrations/6/HeightFiltrartion_-1_0/blue/diagrams.npy\n",
      "Applying Scaler to persistence diagrams.\n",
      "DiagramVectorizer: fitting complete\n",
      "Got the result from ./1/train/filtrations/6/HeightFiltrartion_-1_0/blue/features.npy\n",
      "FiltrationExtractor: processing 1/train/filtrations/6/HeightFiltrartion_-1_0/blue, do_fit = False, filtration = HeightFiltration(direction=array([-1,  0]), n_jobs=-1)\n",
      "Got the result from ./1/train/filtrations/6/HeightFiltrartion_-1_0/blue/diagrams.npy\n",
      "Applying Scaler to persistence diagrams.\n",
      "Got the result from ./1/train/filtrations/6/HeightFiltrartion_-1_0/blue/features.npy\n",
      "Fitting filtration 51/72: HeightFiltration with d = (-1, 1), bin. thr. = 0.6\n",
      "RGB images received. Transforming to grayscale.\n"
     ]
    },
    {
     "name": "stderr",
     "output_type": "stream",
     "text": [
      "rgb2gray: 100%|██████████| 26640/26640 [00:06<00:00, 4270.28it/s]\n"
     ]
    },
    {
     "name": "stdout",
     "output_type": "stream",
     "text": [
      "FiltrationExtractor: processing 1/train/filtrations/6/HeightFiltrartion_-1_1/gray, do_fit = True, filtration = HeightFiltration(direction=array([-1,  1]), n_jobs=-1)\n",
      "Got the result from ./1/train/filtrations/6/HeightFiltrartion_-1_1/gray/diagrams.npy\n",
      "Applying Scaler to persistence diagrams.\n",
      "DiagramVectorizer: fitting complete\n",
      "Got the result from ./1/train/filtrations/6/HeightFiltrartion_-1_1/gray/features.npy\n",
      "FiltrationExtractor: processing 1/train/filtrations/6/HeightFiltrartion_-1_1/gray, do_fit = False, filtration = HeightFiltration(direction=array([-1,  1]), n_jobs=-1)\n",
      "Got the result from ./1/train/filtrations/6/HeightFiltrartion_-1_1/gray/diagrams.npy\n",
      "Applying Scaler to persistence diagrams.\n",
      "Got the result from ./1/train/filtrations/6/HeightFiltrartion_-1_1/gray/features.npy\n",
      "FiltrationExtractor: processing 1/train/filtrations/6/HeightFiltrartion_-1_1/red, do_fit = True, filtration = HeightFiltration(direction=array([-1,  1]), n_jobs=-1)\n",
      "Got the result from ./1/train/filtrations/6/HeightFiltrartion_-1_1/red/diagrams.npy\n",
      "Applying Scaler to persistence diagrams.\n",
      "DiagramVectorizer: fitting complete\n",
      "Got the result from ./1/train/filtrations/6/HeightFiltrartion_-1_1/red/features.npy\n",
      "FiltrationExtractor: processing 1/train/filtrations/6/HeightFiltrartion_-1_1/red, do_fit = False, filtration = HeightFiltration(direction=array([-1,  1]), n_jobs=-1)\n",
      "Got the result from ./1/train/filtrations/6/HeightFiltrartion_-1_1/red/diagrams.npy\n",
      "Applying Scaler to persistence diagrams.\n",
      "Got the result from ./1/train/filtrations/6/HeightFiltrartion_-1_1/red/features.npy\n",
      "FiltrationExtractor: processing 1/train/filtrations/6/HeightFiltrartion_-1_1/green, do_fit = True, filtration = HeightFiltration(direction=array([-1,  1]), n_jobs=-1)\n",
      "Got the result from ./1/train/filtrations/6/HeightFiltrartion_-1_1/green/diagrams.npy\n",
      "Applying Scaler to persistence diagrams.\n",
      "DiagramVectorizer: fitting complete\n",
      "Got the result from ./1/train/filtrations/6/HeightFiltrartion_-1_1/green/features.npy\n",
      "FiltrationExtractor: processing 1/train/filtrations/6/HeightFiltrartion_-1_1/green, do_fit = False, filtration = HeightFiltration(direction=array([-1,  1]), n_jobs=-1)\n",
      "Got the result from ./1/train/filtrations/6/HeightFiltrartion_-1_1/green/diagrams.npy\n",
      "Applying Scaler to persistence diagrams.\n",
      "Got the result from ./1/train/filtrations/6/HeightFiltrartion_-1_1/green/features.npy\n",
      "FiltrationExtractor: processing 1/train/filtrations/6/HeightFiltrartion_-1_1/blue, do_fit = True, filtration = HeightFiltration(direction=array([-1,  1]), n_jobs=-1)\n",
      "Got the result from ./1/train/filtrations/6/HeightFiltrartion_-1_1/blue/diagrams.npy\n",
      "Applying Scaler to persistence diagrams.\n",
      "DiagramVectorizer: fitting complete\n",
      "Got the result from ./1/train/filtrations/6/HeightFiltrartion_-1_1/blue/features.npy\n",
      "FiltrationExtractor: processing 1/train/filtrations/6/HeightFiltrartion_-1_1/blue, do_fit = False, filtration = HeightFiltration(direction=array([-1,  1]), n_jobs=-1)\n",
      "Got the result from ./1/train/filtrations/6/HeightFiltrartion_-1_1/blue/diagrams.npy\n",
      "Applying Scaler to persistence diagrams.\n",
      "Got the result from ./1/train/filtrations/6/HeightFiltrartion_-1_1/blue/features.npy\n",
      "Fitting filtration 52/72: HeightFiltration with d = (0, -1), bin. thr. = 0.6\n",
      "RGB images received. Transforming to grayscale.\n"
     ]
    },
    {
     "name": "stderr",
     "output_type": "stream",
     "text": [
      "rgb2gray: 100%|██████████| 26640/26640 [00:06<00:00, 3927.17it/s]\n"
     ]
    },
    {
     "name": "stdout",
     "output_type": "stream",
     "text": [
      "FiltrationExtractor: processing 1/train/filtrations/6/HeightFiltrartion_0_-1/gray, do_fit = True, filtration = HeightFiltration(direction=array([ 0, -1]), n_jobs=-1)\n",
      "Got the result from ./1/train/filtrations/6/HeightFiltrartion_0_-1/gray/diagrams.npy\n",
      "Applying Scaler to persistence diagrams.\n",
      "DiagramVectorizer: fitting complete\n",
      "Got the result from ./1/train/filtrations/6/HeightFiltrartion_0_-1/gray/features.npy\n",
      "FiltrationExtractor: processing 1/train/filtrations/6/HeightFiltrartion_0_-1/gray, do_fit = False, filtration = HeightFiltration(direction=array([ 0, -1]), n_jobs=-1)\n",
      "Got the result from ./1/train/filtrations/6/HeightFiltrartion_0_-1/gray/diagrams.npy\n",
      "Applying Scaler to persistence diagrams.\n",
      "Got the result from ./1/train/filtrations/6/HeightFiltrartion_0_-1/gray/features.npy\n",
      "FiltrationExtractor: processing 1/train/filtrations/6/HeightFiltrartion_0_-1/red, do_fit = True, filtration = HeightFiltration(direction=array([ 0, -1]), n_jobs=-1)\n",
      "Got the result from ./1/train/filtrations/6/HeightFiltrartion_0_-1/red/diagrams.npy\n",
      "Applying Scaler to persistence diagrams.\n",
      "DiagramVectorizer: fitting complete\n",
      "Got the result from ./1/train/filtrations/6/HeightFiltrartion_0_-1/red/features.npy\n",
      "FiltrationExtractor: processing 1/train/filtrations/6/HeightFiltrartion_0_-1/red, do_fit = False, filtration = HeightFiltration(direction=array([ 0, -1]), n_jobs=-1)\n",
      "Got the result from ./1/train/filtrations/6/HeightFiltrartion_0_-1/red/diagrams.npy\n",
      "Applying Scaler to persistence diagrams.\n",
      "Got the result from ./1/train/filtrations/6/HeightFiltrartion_0_-1/red/features.npy\n",
      "FiltrationExtractor: processing 1/train/filtrations/6/HeightFiltrartion_0_-1/green, do_fit = True, filtration = HeightFiltration(direction=array([ 0, -1]), n_jobs=-1)\n",
      "Got the result from ./1/train/filtrations/6/HeightFiltrartion_0_-1/green/diagrams.npy\n",
      "Applying Scaler to persistence diagrams.\n",
      "DiagramVectorizer: fitting complete\n",
      "Got the result from ./1/train/filtrations/6/HeightFiltrartion_0_-1/green/features.npy\n",
      "FiltrationExtractor: processing 1/train/filtrations/6/HeightFiltrartion_0_-1/green, do_fit = False, filtration = HeightFiltration(direction=array([ 0, -1]), n_jobs=-1)\n",
      "Got the result from ./1/train/filtrations/6/HeightFiltrartion_0_-1/green/diagrams.npy\n",
      "Applying Scaler to persistence diagrams.\n",
      "Got the result from ./1/train/filtrations/6/HeightFiltrartion_0_-1/green/features.npy\n",
      "FiltrationExtractor: processing 1/train/filtrations/6/HeightFiltrartion_0_-1/blue, do_fit = True, filtration = HeightFiltration(direction=array([ 0, -1]), n_jobs=-1)\n",
      "Got the result from ./1/train/filtrations/6/HeightFiltrartion_0_-1/blue/diagrams.npy\n",
      "Applying Scaler to persistence diagrams.\n",
      "DiagramVectorizer: fitting complete\n",
      "Got the result from ./1/train/filtrations/6/HeightFiltrartion_0_-1/blue/features.npy\n",
      "FiltrationExtractor: processing 1/train/filtrations/6/HeightFiltrartion_0_-1/blue, do_fit = False, filtration = HeightFiltration(direction=array([ 0, -1]), n_jobs=-1)\n",
      "Got the result from ./1/train/filtrations/6/HeightFiltrartion_0_-1/blue/diagrams.npy\n",
      "Applying Scaler to persistence diagrams.\n",
      "Got the result from ./1/train/filtrations/6/HeightFiltrartion_0_-1/blue/features.npy\n",
      "Fitting filtration 53/72: HeightFiltration with d = (0, 1), bin. thr. = 0.6\n",
      "RGB images received. Transforming to grayscale.\n"
     ]
    },
    {
     "name": "stderr",
     "output_type": "stream",
     "text": [
      "rgb2gray: 100%|██████████| 26640/26640 [00:06<00:00, 3891.59it/s]\n"
     ]
    },
    {
     "name": "stdout",
     "output_type": "stream",
     "text": [
      "FiltrationExtractor: processing 1/train/filtrations/6/HeightFiltrartion_0_1/gray, do_fit = True, filtration = HeightFiltration(direction=array([0, 1]), n_jobs=-1)\n",
      "Got the result from ./1/train/filtrations/6/HeightFiltrartion_0_1/gray/diagrams.npy\n",
      "Applying Scaler to persistence diagrams.\n",
      "DiagramVectorizer: fitting complete\n",
      "Got the result from ./1/train/filtrations/6/HeightFiltrartion_0_1/gray/features.npy\n",
      "FiltrationExtractor: processing 1/train/filtrations/6/HeightFiltrartion_0_1/gray, do_fit = False, filtration = HeightFiltration(direction=array([0, 1]), n_jobs=-1)\n",
      "Got the result from ./1/train/filtrations/6/HeightFiltrartion_0_1/gray/diagrams.npy\n",
      "Applying Scaler to persistence diagrams.\n",
      "Got the result from ./1/train/filtrations/6/HeightFiltrartion_0_1/gray/features.npy\n",
      "FiltrationExtractor: processing 1/train/filtrations/6/HeightFiltrartion_0_1/red, do_fit = True, filtration = HeightFiltration(direction=array([0, 1]), n_jobs=-1)\n",
      "Got the result from ./1/train/filtrations/6/HeightFiltrartion_0_1/red/diagrams.npy\n",
      "Applying Scaler to persistence diagrams.\n",
      "DiagramVectorizer: fitting complete\n",
      "Got the result from ./1/train/filtrations/6/HeightFiltrartion_0_1/red/features.npy\n",
      "FiltrationExtractor: processing 1/train/filtrations/6/HeightFiltrartion_0_1/red, do_fit = False, filtration = HeightFiltration(direction=array([0, 1]), n_jobs=-1)\n",
      "Got the result from ./1/train/filtrations/6/HeightFiltrartion_0_1/red/diagrams.npy\n",
      "Applying Scaler to persistence diagrams.\n",
      "Got the result from ./1/train/filtrations/6/HeightFiltrartion_0_1/red/features.npy\n",
      "FiltrationExtractor: processing 1/train/filtrations/6/HeightFiltrartion_0_1/green, do_fit = True, filtration = HeightFiltration(direction=array([0, 1]), n_jobs=-1)\n",
      "Got the result from ./1/train/filtrations/6/HeightFiltrartion_0_1/green/diagrams.npy\n",
      "Applying Scaler to persistence diagrams.\n",
      "DiagramVectorizer: fitting complete\n",
      "Got the result from ./1/train/filtrations/6/HeightFiltrartion_0_1/green/features.npy\n",
      "FiltrationExtractor: processing 1/train/filtrations/6/HeightFiltrartion_0_1/green, do_fit = False, filtration = HeightFiltration(direction=array([0, 1]), n_jobs=-1)\n",
      "Got the result from ./1/train/filtrations/6/HeightFiltrartion_0_1/green/diagrams.npy\n",
      "Applying Scaler to persistence diagrams.\n",
      "Got the result from ./1/train/filtrations/6/HeightFiltrartion_0_1/green/features.npy\n",
      "FiltrationExtractor: processing 1/train/filtrations/6/HeightFiltrartion_0_1/blue, do_fit = True, filtration = HeightFiltration(direction=array([0, 1]), n_jobs=-1)\n",
      "Got the result from ./1/train/filtrations/6/HeightFiltrartion_0_1/blue/diagrams.npy\n",
      "Applying Scaler to persistence diagrams.\n",
      "DiagramVectorizer: fitting complete\n",
      "Got the result from ./1/train/filtrations/6/HeightFiltrartion_0_1/blue/features.npy\n",
      "FiltrationExtractor: processing 1/train/filtrations/6/HeightFiltrartion_0_1/blue, do_fit = False, filtration = HeightFiltration(direction=array([0, 1]), n_jobs=-1)\n",
      "Got the result from ./1/train/filtrations/6/HeightFiltrartion_0_1/blue/diagrams.npy\n",
      "Applying Scaler to persistence diagrams.\n",
      "Got the result from ./1/train/filtrations/6/HeightFiltrartion_0_1/blue/features.npy\n",
      "Fitting filtration 54/72: HeightFiltration with d = (1, -1), bin. thr. = 0.6\n",
      "RGB images received. Transforming to grayscale.\n"
     ]
    },
    {
     "name": "stderr",
     "output_type": "stream",
     "text": [
      "rgb2gray: 100%|██████████| 26640/26640 [00:06<00:00, 4162.17it/s]\n"
     ]
    },
    {
     "name": "stdout",
     "output_type": "stream",
     "text": [
      "FiltrationExtractor: processing 1/train/filtrations/6/HeightFiltrartion_1_-1/gray, do_fit = True, filtration = HeightFiltration(direction=array([ 1, -1]), n_jobs=-1)\n",
      "Got the result from ./1/train/filtrations/6/HeightFiltrartion_1_-1/gray/diagrams.npy\n",
      "Applying Scaler to persistence diagrams.\n",
      "DiagramVectorizer: fitting complete\n",
      "Got the result from ./1/train/filtrations/6/HeightFiltrartion_1_-1/gray/features.npy\n",
      "FiltrationExtractor: processing 1/train/filtrations/6/HeightFiltrartion_1_-1/gray, do_fit = False, filtration = HeightFiltration(direction=array([ 1, -1]), n_jobs=-1)\n",
      "Got the result from ./1/train/filtrations/6/HeightFiltrartion_1_-1/gray/diagrams.npy\n",
      "Applying Scaler to persistence diagrams.\n",
      "Got the result from ./1/train/filtrations/6/HeightFiltrartion_1_-1/gray/features.npy\n",
      "FiltrationExtractor: processing 1/train/filtrations/6/HeightFiltrartion_1_-1/red, do_fit = True, filtration = HeightFiltration(direction=array([ 1, -1]), n_jobs=-1)\n",
      "Got the result from ./1/train/filtrations/6/HeightFiltrartion_1_-1/red/diagrams.npy\n",
      "Applying Scaler to persistence diagrams.\n",
      "DiagramVectorizer: fitting complete\n",
      "Got the result from ./1/train/filtrations/6/HeightFiltrartion_1_-1/red/features.npy\n",
      "FiltrationExtractor: processing 1/train/filtrations/6/HeightFiltrartion_1_-1/red, do_fit = False, filtration = HeightFiltration(direction=array([ 1, -1]), n_jobs=-1)\n",
      "Got the result from ./1/train/filtrations/6/HeightFiltrartion_1_-1/red/diagrams.npy\n",
      "Applying Scaler to persistence diagrams.\n",
      "Got the result from ./1/train/filtrations/6/HeightFiltrartion_1_-1/red/features.npy\n",
      "FiltrationExtractor: processing 1/train/filtrations/6/HeightFiltrartion_1_-1/green, do_fit = True, filtration = HeightFiltration(direction=array([ 1, -1]), n_jobs=-1)\n",
      "Got the result from ./1/train/filtrations/6/HeightFiltrartion_1_-1/green/diagrams.npy\n",
      "Applying Scaler to persistence diagrams.\n",
      "DiagramVectorizer: fitting complete\n",
      "Got the result from ./1/train/filtrations/6/HeightFiltrartion_1_-1/green/features.npy\n",
      "FiltrationExtractor: processing 1/train/filtrations/6/HeightFiltrartion_1_-1/green, do_fit = False, filtration = HeightFiltration(direction=array([ 1, -1]), n_jobs=-1)\n",
      "Got the result from ./1/train/filtrations/6/HeightFiltrartion_1_-1/green/diagrams.npy\n",
      "Applying Scaler to persistence diagrams.\n",
      "Got the result from ./1/train/filtrations/6/HeightFiltrartion_1_-1/green/features.npy\n",
      "FiltrationExtractor: processing 1/train/filtrations/6/HeightFiltrartion_1_-1/blue, do_fit = True, filtration = HeightFiltration(direction=array([ 1, -1]), n_jobs=-1)\n",
      "Got the result from ./1/train/filtrations/6/HeightFiltrartion_1_-1/blue/diagrams.npy\n",
      "Applying Scaler to persistence diagrams.\n",
      "DiagramVectorizer: fitting complete\n",
      "Got the result from ./1/train/filtrations/6/HeightFiltrartion_1_-1/blue/features.npy\n",
      "FiltrationExtractor: processing 1/train/filtrations/6/HeightFiltrartion_1_-1/blue, do_fit = False, filtration = HeightFiltration(direction=array([ 1, -1]), n_jobs=-1)\n",
      "Got the result from ./1/train/filtrations/6/HeightFiltrartion_1_-1/blue/diagrams.npy\n",
      "Applying Scaler to persistence diagrams.\n",
      "Got the result from ./1/train/filtrations/6/HeightFiltrartion_1_-1/blue/features.npy\n",
      "Fitting filtration 55/72: HeightFiltration with d = (1, 0), bin. thr. = 0.6\n",
      "RGB images received. Transforming to grayscale.\n"
     ]
    },
    {
     "name": "stderr",
     "output_type": "stream",
     "text": [
      "rgb2gray: 100%|██████████| 26640/26640 [00:07<00:00, 3722.59it/s]\n"
     ]
    },
    {
     "name": "stdout",
     "output_type": "stream",
     "text": [
      "FiltrationExtractor: processing 1/train/filtrations/6/HeightFiltrartion_1_0/gray, do_fit = True, filtration = HeightFiltration(direction=array([1, 0]), n_jobs=-1)\n",
      "Got the result from ./1/train/filtrations/6/HeightFiltrartion_1_0/gray/diagrams.npy\n",
      "Applying Scaler to persistence diagrams.\n",
      "DiagramVectorizer: fitting complete\n",
      "Got the result from ./1/train/filtrations/6/HeightFiltrartion_1_0/gray/features.npy\n",
      "FiltrationExtractor: processing 1/train/filtrations/6/HeightFiltrartion_1_0/gray, do_fit = False, filtration = HeightFiltration(direction=array([1, 0]), n_jobs=-1)\n",
      "Got the result from ./1/train/filtrations/6/HeightFiltrartion_1_0/gray/diagrams.npy\n",
      "Applying Scaler to persistence diagrams.\n",
      "Got the result from ./1/train/filtrations/6/HeightFiltrartion_1_0/gray/features.npy\n",
      "FiltrationExtractor: processing 1/train/filtrations/6/HeightFiltrartion_1_0/red, do_fit = True, filtration = HeightFiltration(direction=array([1, 0]), n_jobs=-1)\n",
      "Got the result from ./1/train/filtrations/6/HeightFiltrartion_1_0/red/diagrams.npy\n",
      "Applying Scaler to persistence diagrams.\n",
      "DiagramVectorizer: fitting complete\n",
      "Got the result from ./1/train/filtrations/6/HeightFiltrartion_1_0/red/features.npy\n",
      "FiltrationExtractor: processing 1/train/filtrations/6/HeightFiltrartion_1_0/red, do_fit = False, filtration = HeightFiltration(direction=array([1, 0]), n_jobs=-1)\n",
      "Got the result from ./1/train/filtrations/6/HeightFiltrartion_1_0/red/diagrams.npy\n",
      "Applying Scaler to persistence diagrams.\n",
      "Got the result from ./1/train/filtrations/6/HeightFiltrartion_1_0/red/features.npy\n",
      "FiltrationExtractor: processing 1/train/filtrations/6/HeightFiltrartion_1_0/green, do_fit = True, filtration = HeightFiltration(direction=array([1, 0]), n_jobs=-1)\n",
      "Got the result from ./1/train/filtrations/6/HeightFiltrartion_1_0/green/diagrams.npy\n",
      "Applying Scaler to persistence diagrams.\n",
      "DiagramVectorizer: fitting complete\n",
      "Got the result from ./1/train/filtrations/6/HeightFiltrartion_1_0/green/features.npy\n",
      "FiltrationExtractor: processing 1/train/filtrations/6/HeightFiltrartion_1_0/green, do_fit = False, filtration = HeightFiltration(direction=array([1, 0]), n_jobs=-1)\n",
      "Got the result from ./1/train/filtrations/6/HeightFiltrartion_1_0/green/diagrams.npy\n",
      "Applying Scaler to persistence diagrams.\n",
      "Got the result from ./1/train/filtrations/6/HeightFiltrartion_1_0/green/features.npy\n",
      "FiltrationExtractor: processing 1/train/filtrations/6/HeightFiltrartion_1_0/blue, do_fit = True, filtration = HeightFiltration(direction=array([1, 0]), n_jobs=-1)\n",
      "Got the result from ./1/train/filtrations/6/HeightFiltrartion_1_0/blue/diagrams.npy\n",
      "Applying Scaler to persistence diagrams.\n",
      "DiagramVectorizer: fitting complete\n",
      "Got the result from ./1/train/filtrations/6/HeightFiltrartion_1_0/blue/features.npy\n",
      "FiltrationExtractor: processing 1/train/filtrations/6/HeightFiltrartion_1_0/blue, do_fit = False, filtration = HeightFiltration(direction=array([1, 0]), n_jobs=-1)\n",
      "Got the result from ./1/train/filtrations/6/HeightFiltrartion_1_0/blue/diagrams.npy\n",
      "Applying Scaler to persistence diagrams.\n",
      "Got the result from ./1/train/filtrations/6/HeightFiltrartion_1_0/blue/features.npy\n",
      "Fitting filtration 56/72: HeightFiltration with d = (1, 1), bin. thr. = 0.6\n",
      "RGB images received. Transforming to grayscale.\n"
     ]
    },
    {
     "name": "stderr",
     "output_type": "stream",
     "text": [
      "rgb2gray: 100%|██████████| 26640/26640 [00:07<00:00, 3471.22it/s]\n"
     ]
    },
    {
     "name": "stdout",
     "output_type": "stream",
     "text": [
      "FiltrationExtractor: processing 1/train/filtrations/6/HeightFiltrartion_1_1/gray, do_fit = True, filtration = HeightFiltration(direction=array([1, 1]), n_jobs=-1)\n",
      "Got the result from ./1/train/filtrations/6/HeightFiltrartion_1_1/gray/diagrams.npy\n",
      "Applying Scaler to persistence diagrams.\n",
      "DiagramVectorizer: fitting complete\n",
      "Got the result from ./1/train/filtrations/6/HeightFiltrartion_1_1/gray/features.npy\n",
      "FiltrationExtractor: processing 1/train/filtrations/6/HeightFiltrartion_1_1/gray, do_fit = False, filtration = HeightFiltration(direction=array([1, 1]), n_jobs=-1)\n",
      "Got the result from ./1/train/filtrations/6/HeightFiltrartion_1_1/gray/diagrams.npy\n",
      "Applying Scaler to persistence diagrams.\n",
      "Got the result from ./1/train/filtrations/6/HeightFiltrartion_1_1/gray/features.npy\n",
      "FiltrationExtractor: processing 1/train/filtrations/6/HeightFiltrartion_1_1/red, do_fit = True, filtration = HeightFiltration(direction=array([1, 1]), n_jobs=-1)\n",
      "Got the result from ./1/train/filtrations/6/HeightFiltrartion_1_1/red/diagrams.npy\n",
      "Applying Scaler to persistence diagrams.\n",
      "DiagramVectorizer: fitting complete\n",
      "Got the result from ./1/train/filtrations/6/HeightFiltrartion_1_1/red/features.npy\n",
      "FiltrationExtractor: processing 1/train/filtrations/6/HeightFiltrartion_1_1/red, do_fit = False, filtration = HeightFiltration(direction=array([1, 1]), n_jobs=-1)\n",
      "Got the result from ./1/train/filtrations/6/HeightFiltrartion_1_1/red/diagrams.npy\n",
      "Applying Scaler to persistence diagrams.\n",
      "Got the result from ./1/train/filtrations/6/HeightFiltrartion_1_1/red/features.npy\n",
      "FiltrationExtractor: processing 1/train/filtrations/6/HeightFiltrartion_1_1/green, do_fit = True, filtration = HeightFiltration(direction=array([1, 1]), n_jobs=-1)\n",
      "Got the result from ./1/train/filtrations/6/HeightFiltrartion_1_1/green/diagrams.npy\n",
      "Applying Scaler to persistence diagrams.\n",
      "DiagramVectorizer: fitting complete\n",
      "Got the result from ./1/train/filtrations/6/HeightFiltrartion_1_1/green/features.npy\n",
      "FiltrationExtractor: processing 1/train/filtrations/6/HeightFiltrartion_1_1/green, do_fit = False, filtration = HeightFiltration(direction=array([1, 1]), n_jobs=-1)\n",
      "Got the result from ./1/train/filtrations/6/HeightFiltrartion_1_1/green/diagrams.npy\n",
      "Applying Scaler to persistence diagrams.\n",
      "Got the result from ./1/train/filtrations/6/HeightFiltrartion_1_1/green/features.npy\n",
      "FiltrationExtractor: processing 1/train/filtrations/6/HeightFiltrartion_1_1/blue, do_fit = True, filtration = HeightFiltration(direction=array([1, 1]), n_jobs=-1)\n",
      "Got the result from ./1/train/filtrations/6/HeightFiltrartion_1_1/blue/diagrams.npy\n",
      "Applying Scaler to persistence diagrams.\n",
      "DiagramVectorizer: fitting complete\n",
      "Got the result from ./1/train/filtrations/6/HeightFiltrartion_1_1/blue/features.npy\n",
      "FiltrationExtractor: processing 1/train/filtrations/6/HeightFiltrartion_1_1/blue, do_fit = False, filtration = HeightFiltration(direction=array([1, 1]), n_jobs=-1)\n",
      "Got the result from ./1/train/filtrations/6/HeightFiltrartion_1_1/blue/diagrams.npy\n",
      "Applying Scaler to persistence diagrams.\n",
      "Got the result from ./1/train/filtrations/6/HeightFiltrartion_1_1/blue/features.npy\n",
      "Fitting filtration 57/72: RadialFiltration with c = (12, 12), bin. thr. = 0.6\n",
      "RGB images received. Transforming to grayscale.\n"
     ]
    },
    {
     "name": "stderr",
     "output_type": "stream",
     "text": [
      "rgb2gray: 100%|██████████| 26640/26640 [00:07<00:00, 3651.54it/s]\n"
     ]
    },
    {
     "name": "stdout",
     "output_type": "stream",
     "text": [
      "FiltrationExtractor: processing 1/train/filtrations/6/RadialFiltration_12_12/gray, do_fit = True, filtration = RadialFiltration(center=array([12, 12]), n_jobs=-1)\n",
      "Got the result from ./1/train/filtrations/6/RadialFiltration_12_12/gray/diagrams.npy\n",
      "Applying Scaler to persistence diagrams.\n",
      "DiagramVectorizer: fitting complete\n",
      "Got the result from ./1/train/filtrations/6/RadialFiltration_12_12/gray/features.npy\n",
      "FiltrationExtractor: processing 1/train/filtrations/6/RadialFiltration_12_12/gray, do_fit = False, filtration = RadialFiltration(center=array([12, 12]), n_jobs=-1)\n",
      "Got the result from ./1/train/filtrations/6/RadialFiltration_12_12/gray/diagrams.npy\n",
      "Applying Scaler to persistence diagrams.\n",
      "Got the result from ./1/train/filtrations/6/RadialFiltration_12_12/gray/features.npy\n",
      "FiltrationExtractor: processing 1/train/filtrations/6/RadialFiltration_12_12/red, do_fit = True, filtration = RadialFiltration(center=array([12, 12]), n_jobs=-1)\n",
      "Got the result from ./1/train/filtrations/6/RadialFiltration_12_12/red/diagrams.npy\n",
      "Applying Scaler to persistence diagrams.\n",
      "DiagramVectorizer: fitting complete\n",
      "Got the result from ./1/train/filtrations/6/RadialFiltration_12_12/red/features.npy\n",
      "FiltrationExtractor: processing 1/train/filtrations/6/RadialFiltration_12_12/red, do_fit = False, filtration = RadialFiltration(center=array([12, 12]), n_jobs=-1)\n",
      "Got the result from ./1/train/filtrations/6/RadialFiltration_12_12/red/diagrams.npy\n",
      "Applying Scaler to persistence diagrams.\n",
      "Got the result from ./1/train/filtrations/6/RadialFiltration_12_12/red/features.npy\n",
      "FiltrationExtractor: processing 1/train/filtrations/6/RadialFiltration_12_12/green, do_fit = True, filtration = RadialFiltration(center=array([12, 12]), n_jobs=-1)\n",
      "Got the result from ./1/train/filtrations/6/RadialFiltration_12_12/green/diagrams.npy\n",
      "Applying Scaler to persistence diagrams.\n",
      "DiagramVectorizer: fitting complete\n",
      "Got the result from ./1/train/filtrations/6/RadialFiltration_12_12/green/features.npy\n",
      "FiltrationExtractor: processing 1/train/filtrations/6/RadialFiltration_12_12/green, do_fit = False, filtration = RadialFiltration(center=array([12, 12]), n_jobs=-1)\n",
      "Got the result from ./1/train/filtrations/6/RadialFiltration_12_12/green/diagrams.npy\n",
      "Applying Scaler to persistence diagrams.\n",
      "Got the result from ./1/train/filtrations/6/RadialFiltration_12_12/green/features.npy\n",
      "FiltrationExtractor: processing 1/train/filtrations/6/RadialFiltration_12_12/blue, do_fit = True, filtration = RadialFiltration(center=array([12, 12]), n_jobs=-1)\n",
      "Got the result from ./1/train/filtrations/6/RadialFiltration_12_12/blue/diagrams.npy\n",
      "Applying Scaler to persistence diagrams.\n",
      "DiagramVectorizer: fitting complete\n",
      "Got the result from ./1/train/filtrations/6/RadialFiltration_12_12/blue/features.npy\n",
      "FiltrationExtractor: processing 1/train/filtrations/6/RadialFiltration_12_12/blue, do_fit = False, filtration = RadialFiltration(center=array([12, 12]), n_jobs=-1)\n",
      "Got the result from ./1/train/filtrations/6/RadialFiltration_12_12/blue/diagrams.npy\n",
      "Applying Scaler to persistence diagrams.\n",
      "Got the result from ./1/train/filtrations/6/RadialFiltration_12_12/blue/features.npy\n",
      "Fitting filtration 58/72: RadialFiltration with c = (12, 25), bin. thr. = 0.6\n",
      "RGB images received. Transforming to grayscale.\n"
     ]
    },
    {
     "name": "stderr",
     "output_type": "stream",
     "text": [
      "rgb2gray: 100%|██████████| 26640/26640 [00:07<00:00, 3585.40it/s]\n"
     ]
    },
    {
     "name": "stdout",
     "output_type": "stream",
     "text": [
      "FiltrationExtractor: processing 1/train/filtrations/6/RadialFiltration_12_25/gray, do_fit = True, filtration = RadialFiltration(center=array([12, 25]), n_jobs=-1)\n",
      "Got the result from ./1/train/filtrations/6/RadialFiltration_12_25/gray/diagrams.npy\n",
      "Applying Scaler to persistence diagrams.\n",
      "DiagramVectorizer: fitting complete\n",
      "Got the result from ./1/train/filtrations/6/RadialFiltration_12_25/gray/features.npy\n",
      "FiltrationExtractor: processing 1/train/filtrations/6/RadialFiltration_12_25/gray, do_fit = False, filtration = RadialFiltration(center=array([12, 25]), n_jobs=-1)\n",
      "Got the result from ./1/train/filtrations/6/RadialFiltration_12_25/gray/diagrams.npy\n",
      "Applying Scaler to persistence diagrams.\n",
      "Got the result from ./1/train/filtrations/6/RadialFiltration_12_25/gray/features.npy\n",
      "FiltrationExtractor: processing 1/train/filtrations/6/RadialFiltration_12_25/red, do_fit = True, filtration = RadialFiltration(center=array([12, 25]), n_jobs=-1)\n",
      "Got the result from ./1/train/filtrations/6/RadialFiltration_12_25/red/diagrams.npy\n",
      "Applying Scaler to persistence diagrams.\n",
      "DiagramVectorizer: fitting complete\n",
      "Got the result from ./1/train/filtrations/6/RadialFiltration_12_25/red/features.npy\n",
      "FiltrationExtractor: processing 1/train/filtrations/6/RadialFiltration_12_25/red, do_fit = False, filtration = RadialFiltration(center=array([12, 25]), n_jobs=-1)\n",
      "Got the result from ./1/train/filtrations/6/RadialFiltration_12_25/red/diagrams.npy\n",
      "Applying Scaler to persistence diagrams.\n",
      "Got the result from ./1/train/filtrations/6/RadialFiltration_12_25/red/features.npy\n",
      "FiltrationExtractor: processing 1/train/filtrations/6/RadialFiltration_12_25/green, do_fit = True, filtration = RadialFiltration(center=array([12, 25]), n_jobs=-1)\n",
      "Got the result from ./1/train/filtrations/6/RadialFiltration_12_25/green/diagrams.npy\n",
      "Applying Scaler to persistence diagrams.\n",
      "DiagramVectorizer: fitting complete\n",
      "Got the result from ./1/train/filtrations/6/RadialFiltration_12_25/green/features.npy\n",
      "FiltrationExtractor: processing 1/train/filtrations/6/RadialFiltration_12_25/green, do_fit = False, filtration = RadialFiltration(center=array([12, 25]), n_jobs=-1)\n",
      "Got the result from ./1/train/filtrations/6/RadialFiltration_12_25/green/diagrams.npy\n",
      "Applying Scaler to persistence diagrams.\n",
      "Got the result from ./1/train/filtrations/6/RadialFiltration_12_25/green/features.npy\n",
      "FiltrationExtractor: processing 1/train/filtrations/6/RadialFiltration_12_25/blue, do_fit = True, filtration = RadialFiltration(center=array([12, 25]), n_jobs=-1)\n",
      "Got the result from ./1/train/filtrations/6/RadialFiltration_12_25/blue/diagrams.npy\n",
      "Applying Scaler to persistence diagrams.\n",
      "DiagramVectorizer: fitting complete\n",
      "Got the result from ./1/train/filtrations/6/RadialFiltration_12_25/blue/features.npy\n",
      "FiltrationExtractor: processing 1/train/filtrations/6/RadialFiltration_12_25/blue, do_fit = False, filtration = RadialFiltration(center=array([12, 25]), n_jobs=-1)\n",
      "Got the result from ./1/train/filtrations/6/RadialFiltration_12_25/blue/diagrams.npy\n",
      "Applying Scaler to persistence diagrams.\n",
      "Got the result from ./1/train/filtrations/6/RadialFiltration_12_25/blue/features.npy\n",
      "Fitting filtration 59/72: RadialFiltration with c = (12, 38), bin. thr. = 0.6\n",
      "RGB images received. Transforming to grayscale.\n"
     ]
    },
    {
     "name": "stderr",
     "output_type": "stream",
     "text": [
      "rgb2gray: 100%|██████████| 26640/26640 [00:07<00:00, 3621.81it/s]\n"
     ]
    },
    {
     "name": "stdout",
     "output_type": "stream",
     "text": [
      "FiltrationExtractor: processing 1/train/filtrations/6/RadialFiltration_12_38/gray, do_fit = True, filtration = RadialFiltration(center=array([12, 38]), n_jobs=-1)\n",
      "Got the result from ./1/train/filtrations/6/RadialFiltration_12_38/gray/diagrams.npy\n",
      "Applying Scaler to persistence diagrams.\n",
      "DiagramVectorizer: fitting complete\n",
      "Got the result from ./1/train/filtrations/6/RadialFiltration_12_38/gray/features.npy\n",
      "FiltrationExtractor: processing 1/train/filtrations/6/RadialFiltration_12_38/gray, do_fit = False, filtration = RadialFiltration(center=array([12, 38]), n_jobs=-1)\n",
      "Got the result from ./1/train/filtrations/6/RadialFiltration_12_38/gray/diagrams.npy\n",
      "Applying Scaler to persistence diagrams.\n",
      "Got the result from ./1/train/filtrations/6/RadialFiltration_12_38/gray/features.npy\n",
      "FiltrationExtractor: processing 1/train/filtrations/6/RadialFiltration_12_38/red, do_fit = True, filtration = RadialFiltration(center=array([12, 38]), n_jobs=-1)\n",
      "Got the result from ./1/train/filtrations/6/RadialFiltration_12_38/red/diagrams.npy\n",
      "Applying Scaler to persistence diagrams.\n",
      "DiagramVectorizer: fitting complete\n",
      "Got the result from ./1/train/filtrations/6/RadialFiltration_12_38/red/features.npy\n",
      "FiltrationExtractor: processing 1/train/filtrations/6/RadialFiltration_12_38/red, do_fit = False, filtration = RadialFiltration(center=array([12, 38]), n_jobs=-1)\n",
      "Got the result from ./1/train/filtrations/6/RadialFiltration_12_38/red/diagrams.npy\n",
      "Applying Scaler to persistence diagrams.\n",
      "Got the result from ./1/train/filtrations/6/RadialFiltration_12_38/red/features.npy\n",
      "FiltrationExtractor: processing 1/train/filtrations/6/RadialFiltration_12_38/green, do_fit = True, filtration = RadialFiltration(center=array([12, 38]), n_jobs=-1)\n",
      "Got the result from ./1/train/filtrations/6/RadialFiltration_12_38/green/diagrams.npy\n",
      "Applying Scaler to persistence diagrams.\n",
      "DiagramVectorizer: fitting complete\n",
      "Got the result from ./1/train/filtrations/6/RadialFiltration_12_38/green/features.npy\n",
      "FiltrationExtractor: processing 1/train/filtrations/6/RadialFiltration_12_38/green, do_fit = False, filtration = RadialFiltration(center=array([12, 38]), n_jobs=-1)\n",
      "Got the result from ./1/train/filtrations/6/RadialFiltration_12_38/green/diagrams.npy\n",
      "Applying Scaler to persistence diagrams.\n",
      "Got the result from ./1/train/filtrations/6/RadialFiltration_12_38/green/features.npy\n",
      "FiltrationExtractor: processing 1/train/filtrations/6/RadialFiltration_12_38/blue, do_fit = True, filtration = RadialFiltration(center=array([12, 38]), n_jobs=-1)\n",
      "Got the result from ./1/train/filtrations/6/RadialFiltration_12_38/blue/diagrams.npy\n",
      "Applying Scaler to persistence diagrams.\n",
      "DiagramVectorizer: fitting complete\n",
      "Got the result from ./1/train/filtrations/6/RadialFiltration_12_38/blue/features.npy\n",
      "FiltrationExtractor: processing 1/train/filtrations/6/RadialFiltration_12_38/blue, do_fit = False, filtration = RadialFiltration(center=array([12, 38]), n_jobs=-1)\n",
      "Got the result from ./1/train/filtrations/6/RadialFiltration_12_38/blue/diagrams.npy\n",
      "Applying Scaler to persistence diagrams.\n",
      "Got the result from ./1/train/filtrations/6/RadialFiltration_12_38/blue/features.npy\n",
      "Fitting filtration 60/72: RadialFiltration with c = (12, 51), bin. thr. = 0.6\n",
      "RGB images received. Transforming to grayscale.\n"
     ]
    },
    {
     "name": "stderr",
     "output_type": "stream",
     "text": [
      "rgb2gray: 100%|██████████| 26640/26640 [00:07<00:00, 3391.65it/s]\n"
     ]
    },
    {
     "name": "stdout",
     "output_type": "stream",
     "text": [
      "FiltrationExtractor: processing 1/train/filtrations/6/RadialFiltration_12_51/gray, do_fit = True, filtration = RadialFiltration(center=array([12, 51]), n_jobs=-1)\n",
      "Got the result from ./1/train/filtrations/6/RadialFiltration_12_51/gray/diagrams.npy\n",
      "Applying Scaler to persistence diagrams.\n",
      "DiagramVectorizer: fitting complete\n",
      "Got the result from ./1/train/filtrations/6/RadialFiltration_12_51/gray/features.npy\n",
      "FiltrationExtractor: processing 1/train/filtrations/6/RadialFiltration_12_51/gray, do_fit = False, filtration = RadialFiltration(center=array([12, 51]), n_jobs=-1)\n",
      "Got the result from ./1/train/filtrations/6/RadialFiltration_12_51/gray/diagrams.npy\n",
      "Applying Scaler to persistence diagrams.\n",
      "Got the result from ./1/train/filtrations/6/RadialFiltration_12_51/gray/features.npy\n",
      "FiltrationExtractor: processing 1/train/filtrations/6/RadialFiltration_12_51/red, do_fit = True, filtration = RadialFiltration(center=array([12, 51]), n_jobs=-1)\n",
      "Got the result from ./1/train/filtrations/6/RadialFiltration_12_51/red/diagrams.npy\n",
      "Applying Scaler to persistence diagrams.\n",
      "DiagramVectorizer: fitting complete\n",
      "Got the result from ./1/train/filtrations/6/RadialFiltration_12_51/red/features.npy\n",
      "FiltrationExtractor: processing 1/train/filtrations/6/RadialFiltration_12_51/red, do_fit = False, filtration = RadialFiltration(center=array([12, 51]), n_jobs=-1)\n",
      "Got the result from ./1/train/filtrations/6/RadialFiltration_12_51/red/diagrams.npy\n",
      "Applying Scaler to persistence diagrams.\n",
      "Got the result from ./1/train/filtrations/6/RadialFiltration_12_51/red/features.npy\n",
      "FiltrationExtractor: processing 1/train/filtrations/6/RadialFiltration_12_51/green, do_fit = True, filtration = RadialFiltration(center=array([12, 51]), n_jobs=-1)\n",
      "Got the result from ./1/train/filtrations/6/RadialFiltration_12_51/green/diagrams.npy\n",
      "Applying Scaler to persistence diagrams.\n",
      "DiagramVectorizer: fitting complete\n",
      "Got the result from ./1/train/filtrations/6/RadialFiltration_12_51/green/features.npy\n",
      "FiltrationExtractor: processing 1/train/filtrations/6/RadialFiltration_12_51/green, do_fit = False, filtration = RadialFiltration(center=array([12, 51]), n_jobs=-1)\n",
      "Got the result from ./1/train/filtrations/6/RadialFiltration_12_51/green/diagrams.npy\n",
      "Applying Scaler to persistence diagrams.\n",
      "Got the result from ./1/train/filtrations/6/RadialFiltration_12_51/green/features.npy\n",
      "FiltrationExtractor: processing 1/train/filtrations/6/RadialFiltration_12_51/blue, do_fit = True, filtration = RadialFiltration(center=array([12, 51]), n_jobs=-1)\n",
      "Got the result from ./1/train/filtrations/6/RadialFiltration_12_51/blue/diagrams.npy\n",
      "Applying Scaler to persistence diagrams.\n",
      "DiagramVectorizer: fitting complete\n",
      "Got the result from ./1/train/filtrations/6/RadialFiltration_12_51/blue/features.npy\n",
      "FiltrationExtractor: processing 1/train/filtrations/6/RadialFiltration_12_51/blue, do_fit = False, filtration = RadialFiltration(center=array([12, 51]), n_jobs=-1)\n",
      "Got the result from ./1/train/filtrations/6/RadialFiltration_12_51/blue/diagrams.npy\n",
      "Applying Scaler to persistence diagrams.\n",
      "Got the result from ./1/train/filtrations/6/RadialFiltration_12_51/blue/features.npy\n",
      "Fitting filtration 61/72: RadialFiltration with c = (25, 12), bin. thr. = 0.6\n",
      "RGB images received. Transforming to grayscale.\n"
     ]
    },
    {
     "name": "stderr",
     "output_type": "stream",
     "text": [
      "rgb2gray: 100%|██████████| 26640/26640 [00:07<00:00, 3577.99it/s]\n"
     ]
    },
    {
     "name": "stdout",
     "output_type": "stream",
     "text": [
      "FiltrationExtractor: processing 1/train/filtrations/6/RadialFiltration_25_12/gray, do_fit = True, filtration = RadialFiltration(center=array([25, 12]), n_jobs=-1)\n",
      "Got the result from ./1/train/filtrations/6/RadialFiltration_25_12/gray/diagrams.npy\n",
      "Applying Scaler to persistence diagrams.\n",
      "DiagramVectorizer: fitting complete\n",
      "Got the result from ./1/train/filtrations/6/RadialFiltration_25_12/gray/features.npy\n",
      "FiltrationExtractor: processing 1/train/filtrations/6/RadialFiltration_25_12/gray, do_fit = False, filtration = RadialFiltration(center=array([25, 12]), n_jobs=-1)\n",
      "Got the result from ./1/train/filtrations/6/RadialFiltration_25_12/gray/diagrams.npy\n",
      "Applying Scaler to persistence diagrams.\n",
      "Got the result from ./1/train/filtrations/6/RadialFiltration_25_12/gray/features.npy\n",
      "FiltrationExtractor: processing 1/train/filtrations/6/RadialFiltration_25_12/red, do_fit = True, filtration = RadialFiltration(center=array([25, 12]), n_jobs=-1)\n",
      "Got the result from ./1/train/filtrations/6/RadialFiltration_25_12/red/diagrams.npy\n",
      "Applying Scaler to persistence diagrams.\n",
      "DiagramVectorizer: fitting complete\n",
      "Got the result from ./1/train/filtrations/6/RadialFiltration_25_12/red/features.npy\n",
      "FiltrationExtractor: processing 1/train/filtrations/6/RadialFiltration_25_12/red, do_fit = False, filtration = RadialFiltration(center=array([25, 12]), n_jobs=-1)\n",
      "Got the result from ./1/train/filtrations/6/RadialFiltration_25_12/red/diagrams.npy\n",
      "Applying Scaler to persistence diagrams.\n",
      "Got the result from ./1/train/filtrations/6/RadialFiltration_25_12/red/features.npy\n",
      "FiltrationExtractor: processing 1/train/filtrations/6/RadialFiltration_25_12/green, do_fit = True, filtration = RadialFiltration(center=array([25, 12]), n_jobs=-1)\n",
      "Got the result from ./1/train/filtrations/6/RadialFiltration_25_12/green/diagrams.npy\n",
      "Applying Scaler to persistence diagrams.\n",
      "DiagramVectorizer: fitting complete\n",
      "Got the result from ./1/train/filtrations/6/RadialFiltration_25_12/green/features.npy\n",
      "FiltrationExtractor: processing 1/train/filtrations/6/RadialFiltration_25_12/green, do_fit = False, filtration = RadialFiltration(center=array([25, 12]), n_jobs=-1)\n",
      "Got the result from ./1/train/filtrations/6/RadialFiltration_25_12/green/diagrams.npy\n",
      "Applying Scaler to persistence diagrams.\n",
      "Got the result from ./1/train/filtrations/6/RadialFiltration_25_12/green/features.npy\n",
      "FiltrationExtractor: processing 1/train/filtrations/6/RadialFiltration_25_12/blue, do_fit = True, filtration = RadialFiltration(center=array([25, 12]), n_jobs=-1)\n",
      "Got the result from ./1/train/filtrations/6/RadialFiltration_25_12/blue/diagrams.npy\n",
      "Applying Scaler to persistence diagrams.\n",
      "DiagramVectorizer: fitting complete\n",
      "Got the result from ./1/train/filtrations/6/RadialFiltration_25_12/blue/features.npy\n",
      "FiltrationExtractor: processing 1/train/filtrations/6/RadialFiltration_25_12/blue, do_fit = False, filtration = RadialFiltration(center=array([25, 12]), n_jobs=-1)\n",
      "Got the result from ./1/train/filtrations/6/RadialFiltration_25_12/blue/diagrams.npy\n",
      "Applying Scaler to persistence diagrams.\n",
      "Got the result from ./1/train/filtrations/6/RadialFiltration_25_12/blue/features.npy\n",
      "Fitting filtration 62/72: RadialFiltration with c = (25, 25), bin. thr. = 0.6\n",
      "RGB images received. Transforming to grayscale.\n"
     ]
    },
    {
     "name": "stderr",
     "output_type": "stream",
     "text": [
      "rgb2gray: 100%|██████████| 26640/26640 [00:07<00:00, 3528.94it/s]\n"
     ]
    },
    {
     "name": "stdout",
     "output_type": "stream",
     "text": [
      "FiltrationExtractor: processing 1/train/filtrations/6/RadialFiltration_25_25/gray, do_fit = True, filtration = RadialFiltration(center=array([25, 25]), n_jobs=-1)\n",
      "Got the result from ./1/train/filtrations/6/RadialFiltration_25_25/gray/diagrams.npy\n",
      "Applying Scaler to persistence diagrams.\n",
      "DiagramVectorizer: fitting complete\n",
      "Got the result from ./1/train/filtrations/6/RadialFiltration_25_25/gray/features.npy\n",
      "FiltrationExtractor: processing 1/train/filtrations/6/RadialFiltration_25_25/gray, do_fit = False, filtration = RadialFiltration(center=array([25, 25]), n_jobs=-1)\n",
      "Got the result from ./1/train/filtrations/6/RadialFiltration_25_25/gray/diagrams.npy\n",
      "Applying Scaler to persistence diagrams.\n",
      "Got the result from ./1/train/filtrations/6/RadialFiltration_25_25/gray/features.npy\n",
      "FiltrationExtractor: processing 1/train/filtrations/6/RadialFiltration_25_25/red, do_fit = True, filtration = RadialFiltration(center=array([25, 25]), n_jobs=-1)\n",
      "Got the result from ./1/train/filtrations/6/RadialFiltration_25_25/red/diagrams.npy\n",
      "Applying Scaler to persistence diagrams.\n",
      "DiagramVectorizer: fitting complete\n",
      "Got the result from ./1/train/filtrations/6/RadialFiltration_25_25/red/features.npy\n",
      "FiltrationExtractor: processing 1/train/filtrations/6/RadialFiltration_25_25/red, do_fit = False, filtration = RadialFiltration(center=array([25, 25]), n_jobs=-1)\n",
      "Got the result from ./1/train/filtrations/6/RadialFiltration_25_25/red/diagrams.npy\n",
      "Applying Scaler to persistence diagrams.\n",
      "Got the result from ./1/train/filtrations/6/RadialFiltration_25_25/red/features.npy\n",
      "FiltrationExtractor: processing 1/train/filtrations/6/RadialFiltration_25_25/green, do_fit = True, filtration = RadialFiltration(center=array([25, 25]), n_jobs=-1)\n",
      "Got the result from ./1/train/filtrations/6/RadialFiltration_25_25/green/diagrams.npy\n",
      "Applying Scaler to persistence diagrams.\n",
      "DiagramVectorizer: fitting complete\n",
      "Got the result from ./1/train/filtrations/6/RadialFiltration_25_25/green/features.npy\n",
      "FiltrationExtractor: processing 1/train/filtrations/6/RadialFiltration_25_25/green, do_fit = False, filtration = RadialFiltration(center=array([25, 25]), n_jobs=-1)\n",
      "Got the result from ./1/train/filtrations/6/RadialFiltration_25_25/green/diagrams.npy\n",
      "Applying Scaler to persistence diagrams.\n",
      "Got the result from ./1/train/filtrations/6/RadialFiltration_25_25/green/features.npy\n",
      "FiltrationExtractor: processing 1/train/filtrations/6/RadialFiltration_25_25/blue, do_fit = True, filtration = RadialFiltration(center=array([25, 25]), n_jobs=-1)\n",
      "Got the result from ./1/train/filtrations/6/RadialFiltration_25_25/blue/diagrams.npy\n",
      "Applying Scaler to persistence diagrams.\n",
      "DiagramVectorizer: fitting complete\n",
      "Got the result from ./1/train/filtrations/6/RadialFiltration_25_25/blue/features.npy\n",
      "FiltrationExtractor: processing 1/train/filtrations/6/RadialFiltration_25_25/blue, do_fit = False, filtration = RadialFiltration(center=array([25, 25]), n_jobs=-1)\n",
      "Got the result from ./1/train/filtrations/6/RadialFiltration_25_25/blue/diagrams.npy\n",
      "Applying Scaler to persistence diagrams.\n",
      "Got the result from ./1/train/filtrations/6/RadialFiltration_25_25/blue/features.npy\n",
      "Fitting filtration 63/72: RadialFiltration with c = (25, 38), bin. thr. = 0.6\n",
      "RGB images received. Transforming to grayscale.\n"
     ]
    },
    {
     "name": "stderr",
     "output_type": "stream",
     "text": [
      "rgb2gray: 100%|██████████| 26640/26640 [00:07<00:00, 3698.69it/s]\n"
     ]
    },
    {
     "name": "stdout",
     "output_type": "stream",
     "text": [
      "FiltrationExtractor: processing 1/train/filtrations/6/RadialFiltration_25_38/gray, do_fit = True, filtration = RadialFiltration(center=array([25, 38]), n_jobs=-1)\n",
      "Got the result from ./1/train/filtrations/6/RadialFiltration_25_38/gray/diagrams.npy\n",
      "Applying Scaler to persistence diagrams.\n",
      "DiagramVectorizer: fitting complete\n",
      "Got the result from ./1/train/filtrations/6/RadialFiltration_25_38/gray/features.npy\n",
      "FiltrationExtractor: processing 1/train/filtrations/6/RadialFiltration_25_38/gray, do_fit = False, filtration = RadialFiltration(center=array([25, 38]), n_jobs=-1)\n",
      "Got the result from ./1/train/filtrations/6/RadialFiltration_25_38/gray/diagrams.npy\n",
      "Applying Scaler to persistence diagrams.\n",
      "Got the result from ./1/train/filtrations/6/RadialFiltration_25_38/gray/features.npy\n",
      "FiltrationExtractor: processing 1/train/filtrations/6/RadialFiltration_25_38/red, do_fit = True, filtration = RadialFiltration(center=array([25, 38]), n_jobs=-1)\n",
      "Got the result from ./1/train/filtrations/6/RadialFiltration_25_38/red/diagrams.npy\n",
      "Applying Scaler to persistence diagrams.\n",
      "DiagramVectorizer: fitting complete\n",
      "Got the result from ./1/train/filtrations/6/RadialFiltration_25_38/red/features.npy\n",
      "FiltrationExtractor: processing 1/train/filtrations/6/RadialFiltration_25_38/red, do_fit = False, filtration = RadialFiltration(center=array([25, 38]), n_jobs=-1)\n",
      "Got the result from ./1/train/filtrations/6/RadialFiltration_25_38/red/diagrams.npy\n",
      "Applying Scaler to persistence diagrams.\n",
      "Got the result from ./1/train/filtrations/6/RadialFiltration_25_38/red/features.npy\n",
      "FiltrationExtractor: processing 1/train/filtrations/6/RadialFiltration_25_38/green, do_fit = True, filtration = RadialFiltration(center=array([25, 38]), n_jobs=-1)\n",
      "Got the result from ./1/train/filtrations/6/RadialFiltration_25_38/green/diagrams.npy\n",
      "Applying Scaler to persistence diagrams.\n",
      "DiagramVectorizer: fitting complete\n",
      "Got the result from ./1/train/filtrations/6/RadialFiltration_25_38/green/features.npy\n",
      "FiltrationExtractor: processing 1/train/filtrations/6/RadialFiltration_25_38/green, do_fit = False, filtration = RadialFiltration(center=array([25, 38]), n_jobs=-1)\n",
      "Got the result from ./1/train/filtrations/6/RadialFiltration_25_38/green/diagrams.npy\n",
      "Applying Scaler to persistence diagrams.\n",
      "Got the result from ./1/train/filtrations/6/RadialFiltration_25_38/green/features.npy\n",
      "FiltrationExtractor: processing 1/train/filtrations/6/RadialFiltration_25_38/blue, do_fit = True, filtration = RadialFiltration(center=array([25, 38]), n_jobs=-1)\n",
      "Got the result from ./1/train/filtrations/6/RadialFiltration_25_38/blue/diagrams.npy\n",
      "Applying Scaler to persistence diagrams.\n",
      "DiagramVectorizer: fitting complete\n",
      "Got the result from ./1/train/filtrations/6/RadialFiltration_25_38/blue/features.npy\n",
      "FiltrationExtractor: processing 1/train/filtrations/6/RadialFiltration_25_38/blue, do_fit = False, filtration = RadialFiltration(center=array([25, 38]), n_jobs=-1)\n",
      "Got the result from ./1/train/filtrations/6/RadialFiltration_25_38/blue/diagrams.npy\n",
      "Applying Scaler to persistence diagrams.\n",
      "Got the result from ./1/train/filtrations/6/RadialFiltration_25_38/blue/features.npy\n",
      "Fitting filtration 64/72: RadialFiltration with c = (25, 51), bin. thr. = 0.6\n",
      "RGB images received. Transforming to grayscale.\n"
     ]
    },
    {
     "name": "stderr",
     "output_type": "stream",
     "text": [
      "rgb2gray: 100%|██████████| 26640/26640 [00:07<00:00, 3449.47it/s]\n"
     ]
    },
    {
     "name": "stdout",
     "output_type": "stream",
     "text": [
      "FiltrationExtractor: processing 1/train/filtrations/6/RadialFiltration_25_51/gray, do_fit = True, filtration = RadialFiltration(center=array([25, 51]), n_jobs=-1)\n",
      "Got the result from ./1/train/filtrations/6/RadialFiltration_25_51/gray/diagrams.npy\n",
      "Applying Scaler to persistence diagrams.\n",
      "DiagramVectorizer: fitting complete\n",
      "Got the result from ./1/train/filtrations/6/RadialFiltration_25_51/gray/features.npy\n",
      "FiltrationExtractor: processing 1/train/filtrations/6/RadialFiltration_25_51/gray, do_fit = False, filtration = RadialFiltration(center=array([25, 51]), n_jobs=-1)\n",
      "Got the result from ./1/train/filtrations/6/RadialFiltration_25_51/gray/diagrams.npy\n",
      "Applying Scaler to persistence diagrams.\n",
      "Got the result from ./1/train/filtrations/6/RadialFiltration_25_51/gray/features.npy\n",
      "FiltrationExtractor: processing 1/train/filtrations/6/RadialFiltration_25_51/red, do_fit = True, filtration = RadialFiltration(center=array([25, 51]), n_jobs=-1)\n",
      "Got the result from ./1/train/filtrations/6/RadialFiltration_25_51/red/diagrams.npy\n",
      "Applying Scaler to persistence diagrams.\n",
      "DiagramVectorizer: fitting complete\n",
      "Got the result from ./1/train/filtrations/6/RadialFiltration_25_51/red/features.npy\n",
      "FiltrationExtractor: processing 1/train/filtrations/6/RadialFiltration_25_51/red, do_fit = False, filtration = RadialFiltration(center=array([25, 51]), n_jobs=-1)\n",
      "Got the result from ./1/train/filtrations/6/RadialFiltration_25_51/red/diagrams.npy\n",
      "Applying Scaler to persistence diagrams.\n",
      "Got the result from ./1/train/filtrations/6/RadialFiltration_25_51/red/features.npy\n",
      "FiltrationExtractor: processing 1/train/filtrations/6/RadialFiltration_25_51/green, do_fit = True, filtration = RadialFiltration(center=array([25, 51]), n_jobs=-1)\n",
      "Got the result from ./1/train/filtrations/6/RadialFiltration_25_51/green/diagrams.npy\n",
      "Applying Scaler to persistence diagrams.\n",
      "DiagramVectorizer: fitting complete\n",
      "Got the result from ./1/train/filtrations/6/RadialFiltration_25_51/green/features.npy\n",
      "FiltrationExtractor: processing 1/train/filtrations/6/RadialFiltration_25_51/green, do_fit = False, filtration = RadialFiltration(center=array([25, 51]), n_jobs=-1)\n",
      "Got the result from ./1/train/filtrations/6/RadialFiltration_25_51/green/diagrams.npy\n",
      "Applying Scaler to persistence diagrams.\n",
      "Got the result from ./1/train/filtrations/6/RadialFiltration_25_51/green/features.npy\n",
      "FiltrationExtractor: processing 1/train/filtrations/6/RadialFiltration_25_51/blue, do_fit = True, filtration = RadialFiltration(center=array([25, 51]), n_jobs=-1)\n",
      "Got the result from ./1/train/filtrations/6/RadialFiltration_25_51/blue/diagrams.npy\n",
      "Applying Scaler to persistence diagrams.\n",
      "DiagramVectorizer: fitting complete\n",
      "Got the result from ./1/train/filtrations/6/RadialFiltration_25_51/blue/features.npy\n",
      "FiltrationExtractor: processing 1/train/filtrations/6/RadialFiltration_25_51/blue, do_fit = False, filtration = RadialFiltration(center=array([25, 51]), n_jobs=-1)\n",
      "Got the result from ./1/train/filtrations/6/RadialFiltration_25_51/blue/diagrams.npy\n",
      "Applying Scaler to persistence diagrams.\n",
      "Got the result from ./1/train/filtrations/6/RadialFiltration_25_51/blue/features.npy\n",
      "Fitting filtration 65/72: RadialFiltration with c = (38, 12), bin. thr. = 0.6\n",
      "RGB images received. Transforming to grayscale.\n"
     ]
    },
    {
     "name": "stderr",
     "output_type": "stream",
     "text": [
      "rgb2gray: 100%|██████████| 26640/26640 [00:07<00:00, 3336.74it/s]\n"
     ]
    },
    {
     "name": "stdout",
     "output_type": "stream",
     "text": [
      "FiltrationExtractor: processing 1/train/filtrations/6/RadialFiltration_38_12/gray, do_fit = True, filtration = RadialFiltration(center=array([38, 12]), n_jobs=-1)\n",
      "Got the result from ./1/train/filtrations/6/RadialFiltration_38_12/gray/diagrams.npy\n",
      "Applying Scaler to persistence diagrams.\n",
      "DiagramVectorizer: fitting complete\n",
      "Got the result from ./1/train/filtrations/6/RadialFiltration_38_12/gray/features.npy\n",
      "FiltrationExtractor: processing 1/train/filtrations/6/RadialFiltration_38_12/gray, do_fit = False, filtration = RadialFiltration(center=array([38, 12]), n_jobs=-1)\n",
      "Got the result from ./1/train/filtrations/6/RadialFiltration_38_12/gray/diagrams.npy\n",
      "Applying Scaler to persistence diagrams.\n",
      "Got the result from ./1/train/filtrations/6/RadialFiltration_38_12/gray/features.npy\n",
      "FiltrationExtractor: processing 1/train/filtrations/6/RadialFiltration_38_12/red, do_fit = True, filtration = RadialFiltration(center=array([38, 12]), n_jobs=-1)\n",
      "Got the result from ./1/train/filtrations/6/RadialFiltration_38_12/red/diagrams.npy\n",
      "Applying Scaler to persistence diagrams.\n",
      "DiagramVectorizer: fitting complete\n",
      "Got the result from ./1/train/filtrations/6/RadialFiltration_38_12/red/features.npy\n",
      "FiltrationExtractor: processing 1/train/filtrations/6/RadialFiltration_38_12/red, do_fit = False, filtration = RadialFiltration(center=array([38, 12]), n_jobs=-1)\n",
      "Got the result from ./1/train/filtrations/6/RadialFiltration_38_12/red/diagrams.npy\n",
      "Applying Scaler to persistence diagrams.\n",
      "Got the result from ./1/train/filtrations/6/RadialFiltration_38_12/red/features.npy\n",
      "FiltrationExtractor: processing 1/train/filtrations/6/RadialFiltration_38_12/green, do_fit = True, filtration = RadialFiltration(center=array([38, 12]), n_jobs=-1)\n",
      "Got the result from ./1/train/filtrations/6/RadialFiltration_38_12/green/diagrams.npy\n",
      "Applying Scaler to persistence diagrams.\n",
      "DiagramVectorizer: fitting complete\n",
      "Got the result from ./1/train/filtrations/6/RadialFiltration_38_12/green/features.npy\n",
      "FiltrationExtractor: processing 1/train/filtrations/6/RadialFiltration_38_12/green, do_fit = False, filtration = RadialFiltration(center=array([38, 12]), n_jobs=-1)\n",
      "Got the result from ./1/train/filtrations/6/RadialFiltration_38_12/green/diagrams.npy\n",
      "Applying Scaler to persistence diagrams.\n",
      "Got the result from ./1/train/filtrations/6/RadialFiltration_38_12/green/features.npy\n",
      "FiltrationExtractor: processing 1/train/filtrations/6/RadialFiltration_38_12/blue, do_fit = True, filtration = RadialFiltration(center=array([38, 12]), n_jobs=-1)\n",
      "Got the result from ./1/train/filtrations/6/RadialFiltration_38_12/blue/diagrams.npy\n",
      "Applying Scaler to persistence diagrams.\n",
      "DiagramVectorizer: fitting complete\n",
      "Got the result from ./1/train/filtrations/6/RadialFiltration_38_12/blue/features.npy\n",
      "FiltrationExtractor: processing 1/train/filtrations/6/RadialFiltration_38_12/blue, do_fit = False, filtration = RadialFiltration(center=array([38, 12]), n_jobs=-1)\n",
      "Got the result from ./1/train/filtrations/6/RadialFiltration_38_12/blue/diagrams.npy\n",
      "Applying Scaler to persistence diagrams.\n",
      "Got the result from ./1/train/filtrations/6/RadialFiltration_38_12/blue/features.npy\n",
      "Fitting filtration 66/72: RadialFiltration with c = (38, 25), bin. thr. = 0.6\n",
      "RGB images received. Transforming to grayscale.\n"
     ]
    },
    {
     "name": "stderr",
     "output_type": "stream",
     "text": [
      "rgb2gray: 100%|██████████| 26640/26640 [00:07<00:00, 3521.51it/s]\n"
     ]
    },
    {
     "name": "stdout",
     "output_type": "stream",
     "text": [
      "FiltrationExtractor: processing 1/train/filtrations/6/RadialFiltration_38_25/gray, do_fit = True, filtration = RadialFiltration(center=array([38, 25]), n_jobs=-1)\n",
      "Got the result from ./1/train/filtrations/6/RadialFiltration_38_25/gray/diagrams.npy\n",
      "Applying Scaler to persistence diagrams.\n",
      "DiagramVectorizer: fitting complete\n",
      "Got the result from ./1/train/filtrations/6/RadialFiltration_38_25/gray/features.npy\n",
      "FiltrationExtractor: processing 1/train/filtrations/6/RadialFiltration_38_25/gray, do_fit = False, filtration = RadialFiltration(center=array([38, 25]), n_jobs=-1)\n",
      "Got the result from ./1/train/filtrations/6/RadialFiltration_38_25/gray/diagrams.npy\n",
      "Applying Scaler to persistence diagrams.\n",
      "Got the result from ./1/train/filtrations/6/RadialFiltration_38_25/gray/features.npy\n",
      "FiltrationExtractor: processing 1/train/filtrations/6/RadialFiltration_38_25/red, do_fit = True, filtration = RadialFiltration(center=array([38, 25]), n_jobs=-1)\n",
      "Got the result from ./1/train/filtrations/6/RadialFiltration_38_25/red/diagrams.npy\n",
      "Applying Scaler to persistence diagrams.\n",
      "DiagramVectorizer: fitting complete\n",
      "Got the result from ./1/train/filtrations/6/RadialFiltration_38_25/red/features.npy\n",
      "FiltrationExtractor: processing 1/train/filtrations/6/RadialFiltration_38_25/red, do_fit = False, filtration = RadialFiltration(center=array([38, 25]), n_jobs=-1)\n",
      "Got the result from ./1/train/filtrations/6/RadialFiltration_38_25/red/diagrams.npy\n",
      "Applying Scaler to persistence diagrams.\n",
      "Got the result from ./1/train/filtrations/6/RadialFiltration_38_25/red/features.npy\n",
      "FiltrationExtractor: processing 1/train/filtrations/6/RadialFiltration_38_25/green, do_fit = True, filtration = RadialFiltration(center=array([38, 25]), n_jobs=-1)\n",
      "Got the result from ./1/train/filtrations/6/RadialFiltration_38_25/green/diagrams.npy\n",
      "Applying Scaler to persistence diagrams.\n",
      "DiagramVectorizer: fitting complete\n",
      "Got the result from ./1/train/filtrations/6/RadialFiltration_38_25/green/features.npy\n",
      "FiltrationExtractor: processing 1/train/filtrations/6/RadialFiltration_38_25/green, do_fit = False, filtration = RadialFiltration(center=array([38, 25]), n_jobs=-1)\n",
      "Got the result from ./1/train/filtrations/6/RadialFiltration_38_25/green/diagrams.npy\n",
      "Applying Scaler to persistence diagrams.\n",
      "Got the result from ./1/train/filtrations/6/RadialFiltration_38_25/green/features.npy\n",
      "FiltrationExtractor: processing 1/train/filtrations/6/RadialFiltration_38_25/blue, do_fit = True, filtration = RadialFiltration(center=array([38, 25]), n_jobs=-1)\n",
      "Got the result from ./1/train/filtrations/6/RadialFiltration_38_25/blue/diagrams.npy\n",
      "Applying Scaler to persistence diagrams.\n",
      "DiagramVectorizer: fitting complete\n",
      "Got the result from ./1/train/filtrations/6/RadialFiltration_38_25/blue/features.npy\n",
      "FiltrationExtractor: processing 1/train/filtrations/6/RadialFiltration_38_25/blue, do_fit = False, filtration = RadialFiltration(center=array([38, 25]), n_jobs=-1)\n",
      "Got the result from ./1/train/filtrations/6/RadialFiltration_38_25/blue/diagrams.npy\n",
      "Applying Scaler to persistence diagrams.\n",
      "Got the result from ./1/train/filtrations/6/RadialFiltration_38_25/blue/features.npy\n",
      "Fitting filtration 67/72: RadialFiltration with c = (38, 38), bin. thr. = 0.6\n",
      "RGB images received. Transforming to grayscale.\n"
     ]
    },
    {
     "name": "stderr",
     "output_type": "stream",
     "text": [
      "rgb2gray: 100%|██████████| 26640/26640 [00:08<00:00, 3203.30it/s]\n"
     ]
    },
    {
     "name": "stdout",
     "output_type": "stream",
     "text": [
      "FiltrationExtractor: processing 1/train/filtrations/6/RadialFiltration_38_38/gray, do_fit = True, filtration = RadialFiltration(center=array([38, 38]), n_jobs=-1)\n",
      "Got the result from ./1/train/filtrations/6/RadialFiltration_38_38/gray/diagrams.npy\n",
      "Applying Scaler to persistence diagrams.\n",
      "DiagramVectorizer: fitting complete\n",
      "Got the result from ./1/train/filtrations/6/RadialFiltration_38_38/gray/features.npy\n",
      "FiltrationExtractor: processing 1/train/filtrations/6/RadialFiltration_38_38/gray, do_fit = False, filtration = RadialFiltration(center=array([38, 38]), n_jobs=-1)\n",
      "Got the result from ./1/train/filtrations/6/RadialFiltration_38_38/gray/diagrams.npy\n",
      "Applying Scaler to persistence diagrams.\n",
      "Got the result from ./1/train/filtrations/6/RadialFiltration_38_38/gray/features.npy\n",
      "FiltrationExtractor: processing 1/train/filtrations/6/RadialFiltration_38_38/red, do_fit = True, filtration = RadialFiltration(center=array([38, 38]), n_jobs=-1)\n",
      "Got the result from ./1/train/filtrations/6/RadialFiltration_38_38/red/diagrams.npy\n",
      "Applying Scaler to persistence diagrams.\n",
      "DiagramVectorizer: fitting complete\n",
      "Got the result from ./1/train/filtrations/6/RadialFiltration_38_38/red/features.npy\n",
      "FiltrationExtractor: processing 1/train/filtrations/6/RadialFiltration_38_38/red, do_fit = False, filtration = RadialFiltration(center=array([38, 38]), n_jobs=-1)\n",
      "Got the result from ./1/train/filtrations/6/RadialFiltration_38_38/red/diagrams.npy\n",
      "Applying Scaler to persistence diagrams.\n",
      "Got the result from ./1/train/filtrations/6/RadialFiltration_38_38/red/features.npy\n",
      "FiltrationExtractor: processing 1/train/filtrations/6/RadialFiltration_38_38/green, do_fit = True, filtration = RadialFiltration(center=array([38, 38]), n_jobs=-1)\n",
      "Got the result from ./1/train/filtrations/6/RadialFiltration_38_38/green/diagrams.npy\n",
      "Applying Scaler to persistence diagrams.\n",
      "DiagramVectorizer: fitting complete\n",
      "Got the result from ./1/train/filtrations/6/RadialFiltration_38_38/green/features.npy\n",
      "FiltrationExtractor: processing 1/train/filtrations/6/RadialFiltration_38_38/green, do_fit = False, filtration = RadialFiltration(center=array([38, 38]), n_jobs=-1)\n",
      "Got the result from ./1/train/filtrations/6/RadialFiltration_38_38/green/diagrams.npy\n",
      "Applying Scaler to persistence diagrams.\n",
      "Got the result from ./1/train/filtrations/6/RadialFiltration_38_38/green/features.npy\n",
      "FiltrationExtractor: processing 1/train/filtrations/6/RadialFiltration_38_38/blue, do_fit = True, filtration = RadialFiltration(center=array([38, 38]), n_jobs=-1)\n",
      "Got the result from ./1/train/filtrations/6/RadialFiltration_38_38/blue/diagrams.npy\n",
      "Applying Scaler to persistence diagrams.\n",
      "DiagramVectorizer: fitting complete\n",
      "Got the result from ./1/train/filtrations/6/RadialFiltration_38_38/blue/features.npy\n",
      "FiltrationExtractor: processing 1/train/filtrations/6/RadialFiltration_38_38/blue, do_fit = False, filtration = RadialFiltration(center=array([38, 38]), n_jobs=-1)\n",
      "Got the result from ./1/train/filtrations/6/RadialFiltration_38_38/blue/diagrams.npy\n",
      "Applying Scaler to persistence diagrams.\n",
      "Got the result from ./1/train/filtrations/6/RadialFiltration_38_38/blue/features.npy\n",
      "Fitting filtration 68/72: RadialFiltration with c = (38, 51), bin. thr. = 0.6\n",
      "RGB images received. Transforming to grayscale.\n"
     ]
    },
    {
     "name": "stderr",
     "output_type": "stream",
     "text": [
      "rgb2gray: 100%|██████████| 26640/26640 [00:07<00:00, 3541.48it/s]\n"
     ]
    },
    {
     "name": "stdout",
     "output_type": "stream",
     "text": [
      "FiltrationExtractor: processing 1/train/filtrations/6/RadialFiltration_38_51/gray, do_fit = True, filtration = RadialFiltration(center=array([38, 51]), n_jobs=-1)\n",
      "Got the result from ./1/train/filtrations/6/RadialFiltration_38_51/gray/diagrams.npy\n",
      "Applying Scaler to persistence diagrams.\n",
      "DiagramVectorizer: fitting complete\n",
      "Got the result from ./1/train/filtrations/6/RadialFiltration_38_51/gray/features.npy\n",
      "FiltrationExtractor: processing 1/train/filtrations/6/RadialFiltration_38_51/gray, do_fit = False, filtration = RadialFiltration(center=array([38, 51]), n_jobs=-1)\n",
      "Got the result from ./1/train/filtrations/6/RadialFiltration_38_51/gray/diagrams.npy\n",
      "Applying Scaler to persistence diagrams.\n",
      "Got the result from ./1/train/filtrations/6/RadialFiltration_38_51/gray/features.npy\n",
      "FiltrationExtractor: processing 1/train/filtrations/6/RadialFiltration_38_51/red, do_fit = True, filtration = RadialFiltration(center=array([38, 51]), n_jobs=-1)\n",
      "Got the result from ./1/train/filtrations/6/RadialFiltration_38_51/red/diagrams.npy\n",
      "Applying Scaler to persistence diagrams.\n",
      "DiagramVectorizer: fitting complete\n",
      "Got the result from ./1/train/filtrations/6/RadialFiltration_38_51/red/features.npy\n",
      "FiltrationExtractor: processing 1/train/filtrations/6/RadialFiltration_38_51/red, do_fit = False, filtration = RadialFiltration(center=array([38, 51]), n_jobs=-1)\n",
      "Got the result from ./1/train/filtrations/6/RadialFiltration_38_51/red/diagrams.npy\n",
      "Applying Scaler to persistence diagrams.\n",
      "Got the result from ./1/train/filtrations/6/RadialFiltration_38_51/red/features.npy\n",
      "FiltrationExtractor: processing 1/train/filtrations/6/RadialFiltration_38_51/green, do_fit = True, filtration = RadialFiltration(center=array([38, 51]), n_jobs=-1)\n",
      "Got the result from ./1/train/filtrations/6/RadialFiltration_38_51/green/diagrams.npy\n",
      "Applying Scaler to persistence diagrams.\n",
      "DiagramVectorizer: fitting complete\n",
      "Got the result from ./1/train/filtrations/6/RadialFiltration_38_51/green/features.npy\n",
      "FiltrationExtractor: processing 1/train/filtrations/6/RadialFiltration_38_51/green, do_fit = False, filtration = RadialFiltration(center=array([38, 51]), n_jobs=-1)\n",
      "Got the result from ./1/train/filtrations/6/RadialFiltration_38_51/green/diagrams.npy\n",
      "Applying Scaler to persistence diagrams.\n",
      "Got the result from ./1/train/filtrations/6/RadialFiltration_38_51/green/features.npy\n",
      "FiltrationExtractor: processing 1/train/filtrations/6/RadialFiltration_38_51/blue, do_fit = True, filtration = RadialFiltration(center=array([38, 51]), n_jobs=-1)\n",
      "Got the result from ./1/train/filtrations/6/RadialFiltration_38_51/blue/diagrams.npy\n",
      "Applying Scaler to persistence diagrams.\n",
      "DiagramVectorizer: fitting complete\n",
      "Got the result from ./1/train/filtrations/6/RadialFiltration_38_51/blue/features.npy\n",
      "FiltrationExtractor: processing 1/train/filtrations/6/RadialFiltration_38_51/blue, do_fit = False, filtration = RadialFiltration(center=array([38, 51]), n_jobs=-1)\n",
      "Got the result from ./1/train/filtrations/6/RadialFiltration_38_51/blue/diagrams.npy\n",
      "Applying Scaler to persistence diagrams.\n",
      "Got the result from ./1/train/filtrations/6/RadialFiltration_38_51/blue/features.npy\n",
      "Fitting filtration 69/72: RadialFiltration with c = (51, 12), bin. thr. = 0.6\n",
      "RGB images received. Transforming to grayscale.\n"
     ]
    },
    {
     "name": "stderr",
     "output_type": "stream",
     "text": [
      "rgb2gray: 100%|██████████| 26640/26640 [00:07<00:00, 3574.86it/s]\n"
     ]
    },
    {
     "name": "stdout",
     "output_type": "stream",
     "text": [
      "FiltrationExtractor: processing 1/train/filtrations/6/RadialFiltration_51_12/gray, do_fit = True, filtration = RadialFiltration(center=array([51, 12]), n_jobs=-1)\n",
      "Got the result from ./1/train/filtrations/6/RadialFiltration_51_12/gray/diagrams.npy\n",
      "Applying Scaler to persistence diagrams.\n",
      "DiagramVectorizer: fitting complete\n",
      "Got the result from ./1/train/filtrations/6/RadialFiltration_51_12/gray/features.npy\n",
      "FiltrationExtractor: processing 1/train/filtrations/6/RadialFiltration_51_12/gray, do_fit = False, filtration = RadialFiltration(center=array([51, 12]), n_jobs=-1)\n",
      "Got the result from ./1/train/filtrations/6/RadialFiltration_51_12/gray/diagrams.npy\n",
      "Applying Scaler to persistence diagrams.\n",
      "Got the result from ./1/train/filtrations/6/RadialFiltration_51_12/gray/features.npy\n",
      "FiltrationExtractor: processing 1/train/filtrations/6/RadialFiltration_51_12/red, do_fit = True, filtration = RadialFiltration(center=array([51, 12]), n_jobs=-1)\n",
      "Got the result from ./1/train/filtrations/6/RadialFiltration_51_12/red/diagrams.npy\n",
      "Applying Scaler to persistence diagrams.\n",
      "DiagramVectorizer: fitting complete\n",
      "Got the result from ./1/train/filtrations/6/RadialFiltration_51_12/red/features.npy\n",
      "FiltrationExtractor: processing 1/train/filtrations/6/RadialFiltration_51_12/red, do_fit = False, filtration = RadialFiltration(center=array([51, 12]), n_jobs=-1)\n",
      "Got the result from ./1/train/filtrations/6/RadialFiltration_51_12/red/diagrams.npy\n",
      "Applying Scaler to persistence diagrams.\n",
      "Got the result from ./1/train/filtrations/6/RadialFiltration_51_12/red/features.npy\n",
      "FiltrationExtractor: processing 1/train/filtrations/6/RadialFiltration_51_12/green, do_fit = True, filtration = RadialFiltration(center=array([51, 12]), n_jobs=-1)\n",
      "Got the result from ./1/train/filtrations/6/RadialFiltration_51_12/green/diagrams.npy\n",
      "Applying Scaler to persistence diagrams.\n",
      "DiagramVectorizer: fitting complete\n",
      "Got the result from ./1/train/filtrations/6/RadialFiltration_51_12/green/features.npy\n",
      "FiltrationExtractor: processing 1/train/filtrations/6/RadialFiltration_51_12/green, do_fit = False, filtration = RadialFiltration(center=array([51, 12]), n_jobs=-1)\n",
      "Got the result from ./1/train/filtrations/6/RadialFiltration_51_12/green/diagrams.npy\n",
      "Applying Scaler to persistence diagrams.\n",
      "Got the result from ./1/train/filtrations/6/RadialFiltration_51_12/green/features.npy\n",
      "FiltrationExtractor: processing 1/train/filtrations/6/RadialFiltration_51_12/blue, do_fit = True, filtration = RadialFiltration(center=array([51, 12]), n_jobs=-1)\n",
      "Got the result from ./1/train/filtrations/6/RadialFiltration_51_12/blue/diagrams.npy\n",
      "Applying Scaler to persistence diagrams.\n",
      "DiagramVectorizer: fitting complete\n",
      "Got the result from ./1/train/filtrations/6/RadialFiltration_51_12/blue/features.npy\n",
      "FiltrationExtractor: processing 1/train/filtrations/6/RadialFiltration_51_12/blue, do_fit = False, filtration = RadialFiltration(center=array([51, 12]), n_jobs=-1)\n",
      "Got the result from ./1/train/filtrations/6/RadialFiltration_51_12/blue/diagrams.npy\n",
      "Applying Scaler to persistence diagrams.\n",
      "Got the result from ./1/train/filtrations/6/RadialFiltration_51_12/blue/features.npy\n",
      "Fitting filtration 70/72: RadialFiltration with c = (51, 25), bin. thr. = 0.6\n",
      "RGB images received. Transforming to grayscale.\n"
     ]
    },
    {
     "name": "stderr",
     "output_type": "stream",
     "text": [
      "rgb2gray: 100%|██████████| 26640/26640 [00:08<00:00, 3067.78it/s]\n"
     ]
    },
    {
     "name": "stdout",
     "output_type": "stream",
     "text": [
      "FiltrationExtractor: processing 1/train/filtrations/6/RadialFiltration_51_25/gray, do_fit = True, filtration = RadialFiltration(center=array([51, 25]), n_jobs=-1)\n",
      "Got the result from ./1/train/filtrations/6/RadialFiltration_51_25/gray/diagrams.npy\n",
      "Applying Scaler to persistence diagrams.\n",
      "DiagramVectorizer: fitting complete\n",
      "Got the result from ./1/train/filtrations/6/RadialFiltration_51_25/gray/features.npy\n",
      "FiltrationExtractor: processing 1/train/filtrations/6/RadialFiltration_51_25/gray, do_fit = False, filtration = RadialFiltration(center=array([51, 25]), n_jobs=-1)\n",
      "Got the result from ./1/train/filtrations/6/RadialFiltration_51_25/gray/diagrams.npy\n",
      "Applying Scaler to persistence diagrams.\n",
      "Got the result from ./1/train/filtrations/6/RadialFiltration_51_25/gray/features.npy\n",
      "FiltrationExtractor: processing 1/train/filtrations/6/RadialFiltration_51_25/red, do_fit = True, filtration = RadialFiltration(center=array([51, 25]), n_jobs=-1)\n",
      "Got the result from ./1/train/filtrations/6/RadialFiltration_51_25/red/diagrams.npy\n",
      "Applying Scaler to persistence diagrams.\n",
      "DiagramVectorizer: fitting complete\n",
      "Got the result from ./1/train/filtrations/6/RadialFiltration_51_25/red/features.npy\n",
      "FiltrationExtractor: processing 1/train/filtrations/6/RadialFiltration_51_25/red, do_fit = False, filtration = RadialFiltration(center=array([51, 25]), n_jobs=-1)\n",
      "Got the result from ./1/train/filtrations/6/RadialFiltration_51_25/red/diagrams.npy\n",
      "Applying Scaler to persistence diagrams.\n",
      "Got the result from ./1/train/filtrations/6/RadialFiltration_51_25/red/features.npy\n",
      "FiltrationExtractor: processing 1/train/filtrations/6/RadialFiltration_51_25/green, do_fit = True, filtration = RadialFiltration(center=array([51, 25]), n_jobs=-1)\n",
      "Got the result from ./1/train/filtrations/6/RadialFiltration_51_25/green/diagrams.npy\n",
      "Applying Scaler to persistence diagrams.\n",
      "DiagramVectorizer: fitting complete\n",
      "Got the result from ./1/train/filtrations/6/RadialFiltration_51_25/green/features.npy\n",
      "FiltrationExtractor: processing 1/train/filtrations/6/RadialFiltration_51_25/green, do_fit = False, filtration = RadialFiltration(center=array([51, 25]), n_jobs=-1)\n",
      "Got the result from ./1/train/filtrations/6/RadialFiltration_51_25/green/diagrams.npy\n",
      "Applying Scaler to persistence diagrams.\n",
      "Got the result from ./1/train/filtrations/6/RadialFiltration_51_25/green/features.npy\n",
      "FiltrationExtractor: processing 1/train/filtrations/6/RadialFiltration_51_25/blue, do_fit = True, filtration = RadialFiltration(center=array([51, 25]), n_jobs=-1)\n",
      "Got the result from ./1/train/filtrations/6/RadialFiltration_51_25/blue/diagrams.npy\n",
      "Applying Scaler to persistence diagrams.\n",
      "DiagramVectorizer: fitting complete\n",
      "Got the result from ./1/train/filtrations/6/RadialFiltration_51_25/blue/features.npy\n",
      "FiltrationExtractor: processing 1/train/filtrations/6/RadialFiltration_51_25/blue, do_fit = False, filtration = RadialFiltration(center=array([51, 25]), n_jobs=-1)\n",
      "Got the result from ./1/train/filtrations/6/RadialFiltration_51_25/blue/diagrams.npy\n",
      "Applying Scaler to persistence diagrams.\n",
      "Got the result from ./1/train/filtrations/6/RadialFiltration_51_25/blue/features.npy\n",
      "Fitting filtration 71/72: RadialFiltration with c = (51, 38), bin. thr. = 0.6\n",
      "RGB images received. Transforming to grayscale.\n"
     ]
    },
    {
     "name": "stderr",
     "output_type": "stream",
     "text": [
      "rgb2gray: 100%|██████████| 26640/26640 [00:07<00:00, 3442.14it/s]\n"
     ]
    },
    {
     "name": "stdout",
     "output_type": "stream",
     "text": [
      "FiltrationExtractor: processing 1/train/filtrations/6/RadialFiltration_51_38/gray, do_fit = True, filtration = RadialFiltration(center=array([51, 38]), n_jobs=-1)\n",
      "Got the result from ./1/train/filtrations/6/RadialFiltration_51_38/gray/diagrams.npy\n",
      "Applying Scaler to persistence diagrams.\n",
      "DiagramVectorizer: fitting complete\n",
      "Got the result from ./1/train/filtrations/6/RadialFiltration_51_38/gray/features.npy\n",
      "FiltrationExtractor: processing 1/train/filtrations/6/RadialFiltration_51_38/gray, do_fit = False, filtration = RadialFiltration(center=array([51, 38]), n_jobs=-1)\n",
      "Got the result from ./1/train/filtrations/6/RadialFiltration_51_38/gray/diagrams.npy\n",
      "Applying Scaler to persistence diagrams.\n",
      "Got the result from ./1/train/filtrations/6/RadialFiltration_51_38/gray/features.npy\n",
      "FiltrationExtractor: processing 1/train/filtrations/6/RadialFiltration_51_38/red, do_fit = True, filtration = RadialFiltration(center=array([51, 38]), n_jobs=-1)\n",
      "Got the result from ./1/train/filtrations/6/RadialFiltration_51_38/red/diagrams.npy\n",
      "Applying Scaler to persistence diagrams.\n",
      "DiagramVectorizer: fitting complete\n",
      "Got the result from ./1/train/filtrations/6/RadialFiltration_51_38/red/features.npy\n",
      "FiltrationExtractor: processing 1/train/filtrations/6/RadialFiltration_51_38/red, do_fit = False, filtration = RadialFiltration(center=array([51, 38]), n_jobs=-1)\n",
      "Got the result from ./1/train/filtrations/6/RadialFiltration_51_38/red/diagrams.npy\n",
      "Applying Scaler to persistence diagrams.\n",
      "Got the result from ./1/train/filtrations/6/RadialFiltration_51_38/red/features.npy\n",
      "FiltrationExtractor: processing 1/train/filtrations/6/RadialFiltration_51_38/green, do_fit = True, filtration = RadialFiltration(center=array([51, 38]), n_jobs=-1)\n",
      "Got the result from ./1/train/filtrations/6/RadialFiltration_51_38/green/diagrams.npy\n",
      "Applying Scaler to persistence diagrams.\n",
      "DiagramVectorizer: fitting complete\n",
      "Got the result from ./1/train/filtrations/6/RadialFiltration_51_38/green/features.npy\n",
      "FiltrationExtractor: processing 1/train/filtrations/6/RadialFiltration_51_38/green, do_fit = False, filtration = RadialFiltration(center=array([51, 38]), n_jobs=-1)\n",
      "Got the result from ./1/train/filtrations/6/RadialFiltration_51_38/green/diagrams.npy\n",
      "Applying Scaler to persistence diagrams.\n",
      "Got the result from ./1/train/filtrations/6/RadialFiltration_51_38/green/features.npy\n",
      "FiltrationExtractor: processing 1/train/filtrations/6/RadialFiltration_51_38/blue, do_fit = True, filtration = RadialFiltration(center=array([51, 38]), n_jobs=-1)\n",
      "Got the result from ./1/train/filtrations/6/RadialFiltration_51_38/blue/diagrams.npy\n",
      "Applying Scaler to persistence diagrams.\n",
      "DiagramVectorizer: fitting complete\n",
      "Got the result from ./1/train/filtrations/6/RadialFiltration_51_38/blue/features.npy\n",
      "FiltrationExtractor: processing 1/train/filtrations/6/RadialFiltration_51_38/blue, do_fit = False, filtration = RadialFiltration(center=array([51, 38]), n_jobs=-1)\n",
      "Got the result from ./1/train/filtrations/6/RadialFiltration_51_38/blue/diagrams.npy\n",
      "Applying Scaler to persistence diagrams.\n",
      "Got the result from ./1/train/filtrations/6/RadialFiltration_51_38/blue/features.npy\n",
      "Fitting filtration 72/72: RadialFiltration with c = (51, 51), bin. thr. = 0.6\n",
      "RGB images received. Transforming to grayscale.\n"
     ]
    },
    {
     "name": "stderr",
     "output_type": "stream",
     "text": [
      "rgb2gray: 100%|██████████| 26640/26640 [00:07<00:00, 3783.84it/s]\n"
     ]
    },
    {
     "name": "stdout",
     "output_type": "stream",
     "text": [
      "FiltrationExtractor: processing 1/train/filtrations/6/RadialFiltration_51_51/gray, do_fit = True, filtration = RadialFiltration(center=array([51, 51]), n_jobs=-1)\n",
      "Got the result from ./1/train/filtrations/6/RadialFiltration_51_51/gray/diagrams.npy\n",
      "Applying Scaler to persistence diagrams.\n",
      "DiagramVectorizer: fitting complete\n",
      "Got the result from ./1/train/filtrations/6/RadialFiltration_51_51/gray/features.npy\n",
      "FiltrationExtractor: processing 1/train/filtrations/6/RadialFiltration_51_51/gray, do_fit = False, filtration = RadialFiltration(center=array([51, 51]), n_jobs=-1)\n",
      "Got the result from ./1/train/filtrations/6/RadialFiltration_51_51/gray/diagrams.npy\n",
      "Applying Scaler to persistence diagrams.\n",
      "Got the result from ./1/train/filtrations/6/RadialFiltration_51_51/gray/features.npy\n",
      "FiltrationExtractor: processing 1/train/filtrations/6/RadialFiltration_51_51/red, do_fit = True, filtration = RadialFiltration(center=array([51, 51]), n_jobs=-1)\n",
      "Got the result from ./1/train/filtrations/6/RadialFiltration_51_51/red/diagrams.npy\n",
      "Applying Scaler to persistence diagrams.\n",
      "DiagramVectorizer: fitting complete\n",
      "Got the result from ./1/train/filtrations/6/RadialFiltration_51_51/red/features.npy\n",
      "FiltrationExtractor: processing 1/train/filtrations/6/RadialFiltration_51_51/red, do_fit = False, filtration = RadialFiltration(center=array([51, 51]), n_jobs=-1)\n",
      "Got the result from ./1/train/filtrations/6/RadialFiltration_51_51/red/diagrams.npy\n",
      "Applying Scaler to persistence diagrams.\n",
      "Got the result from ./1/train/filtrations/6/RadialFiltration_51_51/red/features.npy\n",
      "FiltrationExtractor: processing 1/train/filtrations/6/RadialFiltration_51_51/green, do_fit = True, filtration = RadialFiltration(center=array([51, 51]), n_jobs=-1)\n",
      "Got the result from ./1/train/filtrations/6/RadialFiltration_51_51/green/diagrams.npy\n",
      "Applying Scaler to persistence diagrams.\n",
      "DiagramVectorizer: fitting complete\n",
      "Got the result from ./1/train/filtrations/6/RadialFiltration_51_51/green/features.npy\n",
      "FiltrationExtractor: processing 1/train/filtrations/6/RadialFiltration_51_51/green, do_fit = False, filtration = RadialFiltration(center=array([51, 51]), n_jobs=-1)\n",
      "Got the result from ./1/train/filtrations/6/RadialFiltration_51_51/green/diagrams.npy\n",
      "Applying Scaler to persistence diagrams.\n",
      "Got the result from ./1/train/filtrations/6/RadialFiltration_51_51/green/features.npy\n",
      "FiltrationExtractor: processing 1/train/filtrations/6/RadialFiltration_51_51/blue, do_fit = True, filtration = RadialFiltration(center=array([51, 51]), n_jobs=-1)\n",
      "Got the result from ./1/train/filtrations/6/RadialFiltration_51_51/blue/diagrams.npy\n",
      "Applying Scaler to persistence diagrams.\n",
      "DiagramVectorizer: fitting complete\n",
      "Got the result from ./1/train/filtrations/6/RadialFiltration_51_51/blue/features.npy\n",
      "FiltrationExtractor: processing 1/train/filtrations/6/RadialFiltration_51_51/blue, do_fit = False, filtration = RadialFiltration(center=array([51, 51]), n_jobs=-1)\n",
      "Got the result from ./1/train/filtrations/6/RadialFiltration_51_51/blue/diagrams.npy\n",
      "Applying Scaler to persistence diagrams.\n",
      "Got the result from ./1/train/filtrations/6/RadialFiltration_51_51/blue/features.npy\n",
      "Applying filtrations\n",
      "Applying filtration 1/72: HeightFiltration with d = (-1, -1), bin. thr. = 0.2\n",
      "RGB images received. Transforming to grayscale.\n"
     ]
    },
    {
     "name": "stderr",
     "output_type": "stream",
     "text": [
      "rgb2gray: 100%|██████████| 26640/26640 [00:07<00:00, 3787.07it/s]\n"
     ]
    },
    {
     "name": "stdout",
     "output_type": "stream",
     "text": [
      "FiltrationExtractor: processing 1/train/filtrations/2/HeightFiltrartion_-1_-1/gray, do_fit = False, filtration = HeightFiltration(direction=array([-1, -1]), n_jobs=-1)\n",
      "Got the result from ./1/train/filtrations/2/HeightFiltrartion_-1_-1/gray/diagrams.npy\n",
      "Applying Scaler to persistence diagrams.\n",
      "Got the result from ./1/train/filtrations/2/HeightFiltrartion_-1_-1/gray/features.npy\n",
      "FiltrationExtractor: processing 1/train/filtrations/2/HeightFiltrartion_-1_-1/red, do_fit = False, filtration = HeightFiltration(direction=array([-1, -1]), n_jobs=-1)\n",
      "Got the result from ./1/train/filtrations/2/HeightFiltrartion_-1_-1/red/diagrams.npy\n",
      "Applying Scaler to persistence diagrams.\n",
      "Got the result from ./1/train/filtrations/2/HeightFiltrartion_-1_-1/red/features.npy\n",
      "FiltrationExtractor: processing 1/train/filtrations/2/HeightFiltrartion_-1_-1/green, do_fit = False, filtration = HeightFiltration(direction=array([-1, -1]), n_jobs=-1)\n",
      "Got the result from ./1/train/filtrations/2/HeightFiltrartion_-1_-1/green/diagrams.npy\n",
      "Applying Scaler to persistence diagrams.\n",
      "Got the result from ./1/train/filtrations/2/HeightFiltrartion_-1_-1/green/features.npy\n",
      "FiltrationExtractor: processing 1/train/filtrations/2/HeightFiltrartion_-1_-1/blue, do_fit = False, filtration = HeightFiltration(direction=array([-1, -1]), n_jobs=-1)\n",
      "Got the result from ./1/train/filtrations/2/HeightFiltrartion_-1_-1/blue/diagrams.npy\n",
      "Applying Scaler to persistence diagrams.\n",
      "Got the result from ./1/train/filtrations/2/HeightFiltrartion_-1_-1/blue/features.npy\n",
      "Applying filtration 2/72: HeightFiltration with d = (-1, 0), bin. thr. = 0.2\n",
      "RGB images received. Transforming to grayscale.\n"
     ]
    },
    {
     "name": "stderr",
     "output_type": "stream",
     "text": [
      "rgb2gray: 100%|██████████| 26640/26640 [00:07<00:00, 3700.50it/s]\n"
     ]
    },
    {
     "name": "stdout",
     "output_type": "stream",
     "text": [
      "FiltrationExtractor: processing 1/train/filtrations/2/HeightFiltrartion_-1_0/gray, do_fit = False, filtration = HeightFiltration(direction=array([-1,  0]), n_jobs=-1)\n",
      "Got the result from ./1/train/filtrations/2/HeightFiltrartion_-1_0/gray/diagrams.npy\n",
      "Applying Scaler to persistence diagrams.\n",
      "Got the result from ./1/train/filtrations/2/HeightFiltrartion_-1_0/gray/features.npy\n",
      "FiltrationExtractor: processing 1/train/filtrations/2/HeightFiltrartion_-1_0/red, do_fit = False, filtration = HeightFiltration(direction=array([-1,  0]), n_jobs=-1)\n",
      "Got the result from ./1/train/filtrations/2/HeightFiltrartion_-1_0/red/diagrams.npy\n",
      "Applying Scaler to persistence diagrams.\n",
      "Got the result from ./1/train/filtrations/2/HeightFiltrartion_-1_0/red/features.npy\n",
      "FiltrationExtractor: processing 1/train/filtrations/2/HeightFiltrartion_-1_0/green, do_fit = False, filtration = HeightFiltration(direction=array([-1,  0]), n_jobs=-1)\n",
      "Got the result from ./1/train/filtrations/2/HeightFiltrartion_-1_0/green/diagrams.npy\n",
      "Applying Scaler to persistence diagrams.\n",
      "Got the result from ./1/train/filtrations/2/HeightFiltrartion_-1_0/green/features.npy\n",
      "FiltrationExtractor: processing 1/train/filtrations/2/HeightFiltrartion_-1_0/blue, do_fit = False, filtration = HeightFiltration(direction=array([-1,  0]), n_jobs=-1)\n",
      "Got the result from ./1/train/filtrations/2/HeightFiltrartion_-1_0/blue/diagrams.npy\n",
      "Applying Scaler to persistence diagrams.\n",
      "Got the result from ./1/train/filtrations/2/HeightFiltrartion_-1_0/blue/features.npy\n",
      "Applying filtration 3/72: HeightFiltration with d = (-1, 1), bin. thr. = 0.2\n",
      "RGB images received. Transforming to grayscale.\n"
     ]
    },
    {
     "name": "stderr",
     "output_type": "stream",
     "text": [
      "rgb2gray: 100%|██████████| 26640/26640 [00:07<00:00, 3696.65it/s]\n"
     ]
    },
    {
     "name": "stdout",
     "output_type": "stream",
     "text": [
      "FiltrationExtractor: processing 1/train/filtrations/2/HeightFiltrartion_-1_1/gray, do_fit = False, filtration = HeightFiltration(direction=array([-1,  1]), n_jobs=-1)\n",
      "Got the result from ./1/train/filtrations/2/HeightFiltrartion_-1_1/gray/diagrams.npy\n",
      "Applying Scaler to persistence diagrams.\n",
      "Got the result from ./1/train/filtrations/2/HeightFiltrartion_-1_1/gray/features.npy\n",
      "FiltrationExtractor: processing 1/train/filtrations/2/HeightFiltrartion_-1_1/red, do_fit = False, filtration = HeightFiltration(direction=array([-1,  1]), n_jobs=-1)\n",
      "Got the result from ./1/train/filtrations/2/HeightFiltrartion_-1_1/red/diagrams.npy\n",
      "Applying Scaler to persistence diagrams.\n",
      "Got the result from ./1/train/filtrations/2/HeightFiltrartion_-1_1/red/features.npy\n",
      "FiltrationExtractor: processing 1/train/filtrations/2/HeightFiltrartion_-1_1/green, do_fit = False, filtration = HeightFiltration(direction=array([-1,  1]), n_jobs=-1)\n",
      "Got the result from ./1/train/filtrations/2/HeightFiltrartion_-1_1/green/diagrams.npy\n",
      "Applying Scaler to persistence diagrams.\n",
      "Got the result from ./1/train/filtrations/2/HeightFiltrartion_-1_1/green/features.npy\n",
      "FiltrationExtractor: processing 1/train/filtrations/2/HeightFiltrartion_-1_1/blue, do_fit = False, filtration = HeightFiltration(direction=array([-1,  1]), n_jobs=-1)\n",
      "Got the result from ./1/train/filtrations/2/HeightFiltrartion_-1_1/blue/diagrams.npy\n",
      "Applying Scaler to persistence diagrams.\n",
      "Got the result from ./1/train/filtrations/2/HeightFiltrartion_-1_1/blue/features.npy\n",
      "Applying filtration 4/72: HeightFiltration with d = (0, -1), bin. thr. = 0.2\n",
      "RGB images received. Transforming to grayscale.\n"
     ]
    },
    {
     "name": "stderr",
     "output_type": "stream",
     "text": [
      "rgb2gray: 100%|██████████| 26640/26640 [00:07<00:00, 3782.86it/s]\n"
     ]
    },
    {
     "name": "stdout",
     "output_type": "stream",
     "text": [
      "FiltrationExtractor: processing 1/train/filtrations/2/HeightFiltrartion_0_-1/gray, do_fit = False, filtration = HeightFiltration(direction=array([ 0, -1]), n_jobs=-1)\n",
      "Got the result from ./1/train/filtrations/2/HeightFiltrartion_0_-1/gray/diagrams.npy\n",
      "Applying Scaler to persistence diagrams.\n",
      "Got the result from ./1/train/filtrations/2/HeightFiltrartion_0_-1/gray/features.npy\n",
      "FiltrationExtractor: processing 1/train/filtrations/2/HeightFiltrartion_0_-1/red, do_fit = False, filtration = HeightFiltration(direction=array([ 0, -1]), n_jobs=-1)\n",
      "Got the result from ./1/train/filtrations/2/HeightFiltrartion_0_-1/red/diagrams.npy\n",
      "Applying Scaler to persistence diagrams.\n",
      "Got the result from ./1/train/filtrations/2/HeightFiltrartion_0_-1/red/features.npy\n",
      "FiltrationExtractor: processing 1/train/filtrations/2/HeightFiltrartion_0_-1/green, do_fit = False, filtration = HeightFiltration(direction=array([ 0, -1]), n_jobs=-1)\n",
      "Got the result from ./1/train/filtrations/2/HeightFiltrartion_0_-1/green/diagrams.npy\n",
      "Applying Scaler to persistence diagrams.\n",
      "Got the result from ./1/train/filtrations/2/HeightFiltrartion_0_-1/green/features.npy\n",
      "FiltrationExtractor: processing 1/train/filtrations/2/HeightFiltrartion_0_-1/blue, do_fit = False, filtration = HeightFiltration(direction=array([ 0, -1]), n_jobs=-1)\n",
      "Got the result from ./1/train/filtrations/2/HeightFiltrartion_0_-1/blue/diagrams.npy\n",
      "Applying Scaler to persistence diagrams.\n",
      "Got the result from ./1/train/filtrations/2/HeightFiltrartion_0_-1/blue/features.npy\n",
      "Applying filtration 5/72: HeightFiltration with d = (0, 1), bin. thr. = 0.2\n",
      "RGB images received. Transforming to grayscale.\n"
     ]
    },
    {
     "name": "stderr",
     "output_type": "stream",
     "text": [
      "rgb2gray: 100%|██████████| 26640/26640 [00:07<00:00, 3480.97it/s]\n"
     ]
    },
    {
     "name": "stdout",
     "output_type": "stream",
     "text": [
      "FiltrationExtractor: processing 1/train/filtrations/2/HeightFiltrartion_0_1/gray, do_fit = False, filtration = HeightFiltration(direction=array([0, 1]), n_jobs=-1)\n",
      "Got the result from ./1/train/filtrations/2/HeightFiltrartion_0_1/gray/diagrams.npy\n",
      "Applying Scaler to persistence diagrams.\n",
      "Got the result from ./1/train/filtrations/2/HeightFiltrartion_0_1/gray/features.npy\n",
      "FiltrationExtractor: processing 1/train/filtrations/2/HeightFiltrartion_0_1/red, do_fit = False, filtration = HeightFiltration(direction=array([0, 1]), n_jobs=-1)\n",
      "Got the result from ./1/train/filtrations/2/HeightFiltrartion_0_1/red/diagrams.npy\n",
      "Applying Scaler to persistence diagrams.\n",
      "Got the result from ./1/train/filtrations/2/HeightFiltrartion_0_1/red/features.npy\n",
      "FiltrationExtractor: processing 1/train/filtrations/2/HeightFiltrartion_0_1/green, do_fit = False, filtration = HeightFiltration(direction=array([0, 1]), n_jobs=-1)\n",
      "Got the result from ./1/train/filtrations/2/HeightFiltrartion_0_1/green/diagrams.npy\n",
      "Applying Scaler to persistence diagrams.\n",
      "Got the result from ./1/train/filtrations/2/HeightFiltrartion_0_1/green/features.npy\n",
      "FiltrationExtractor: processing 1/train/filtrations/2/HeightFiltrartion_0_1/blue, do_fit = False, filtration = HeightFiltration(direction=array([0, 1]), n_jobs=-1)\n",
      "Got the result from ./1/train/filtrations/2/HeightFiltrartion_0_1/blue/diagrams.npy\n",
      "Applying Scaler to persistence diagrams.\n",
      "Got the result from ./1/train/filtrations/2/HeightFiltrartion_0_1/blue/features.npy\n",
      "Applying filtration 6/72: HeightFiltration with d = (1, -1), bin. thr. = 0.2\n",
      "RGB images received. Transforming to grayscale.\n"
     ]
    },
    {
     "name": "stderr",
     "output_type": "stream",
     "text": [
      "rgb2gray: 100%|██████████| 26640/26640 [00:07<00:00, 3630.40it/s]\n"
     ]
    },
    {
     "name": "stdout",
     "output_type": "stream",
     "text": [
      "FiltrationExtractor: processing 1/train/filtrations/2/HeightFiltrartion_1_-1/gray, do_fit = False, filtration = HeightFiltration(direction=array([ 1, -1]), n_jobs=-1)\n",
      "Got the result from ./1/train/filtrations/2/HeightFiltrartion_1_-1/gray/diagrams.npy\n",
      "Applying Scaler to persistence diagrams.\n",
      "Got the result from ./1/train/filtrations/2/HeightFiltrartion_1_-1/gray/features.npy\n",
      "FiltrationExtractor: processing 1/train/filtrations/2/HeightFiltrartion_1_-1/red, do_fit = False, filtration = HeightFiltration(direction=array([ 1, -1]), n_jobs=-1)\n",
      "Got the result from ./1/train/filtrations/2/HeightFiltrartion_1_-1/red/diagrams.npy\n",
      "Applying Scaler to persistence diagrams.\n",
      "Got the result from ./1/train/filtrations/2/HeightFiltrartion_1_-1/red/features.npy\n",
      "FiltrationExtractor: processing 1/train/filtrations/2/HeightFiltrartion_1_-1/green, do_fit = False, filtration = HeightFiltration(direction=array([ 1, -1]), n_jobs=-1)\n",
      "Got the result from ./1/train/filtrations/2/HeightFiltrartion_1_-1/green/diagrams.npy\n",
      "Applying Scaler to persistence diagrams.\n",
      "Got the result from ./1/train/filtrations/2/HeightFiltrartion_1_-1/green/features.npy\n",
      "FiltrationExtractor: processing 1/train/filtrations/2/HeightFiltrartion_1_-1/blue, do_fit = False, filtration = HeightFiltration(direction=array([ 1, -1]), n_jobs=-1)\n",
      "Got the result from ./1/train/filtrations/2/HeightFiltrartion_1_-1/blue/diagrams.npy\n",
      "Applying Scaler to persistence diagrams.\n",
      "Got the result from ./1/train/filtrations/2/HeightFiltrartion_1_-1/blue/features.npy\n",
      "Applying filtration 7/72: HeightFiltration with d = (1, 0), bin. thr. = 0.2\n",
      "RGB images received. Transforming to grayscale.\n"
     ]
    },
    {
     "name": "stderr",
     "output_type": "stream",
     "text": [
      "rgb2gray: 100%|██████████| 26640/26640 [00:07<00:00, 3707.81it/s]\n"
     ]
    },
    {
     "name": "stdout",
     "output_type": "stream",
     "text": [
      "FiltrationExtractor: processing 1/train/filtrations/2/HeightFiltrartion_1_0/gray, do_fit = False, filtration = HeightFiltration(direction=array([1, 0]), n_jobs=-1)\n",
      "Got the result from ./1/train/filtrations/2/HeightFiltrartion_1_0/gray/diagrams.npy\n",
      "Applying Scaler to persistence diagrams.\n",
      "Got the result from ./1/train/filtrations/2/HeightFiltrartion_1_0/gray/features.npy\n",
      "FiltrationExtractor: processing 1/train/filtrations/2/HeightFiltrartion_1_0/red, do_fit = False, filtration = HeightFiltration(direction=array([1, 0]), n_jobs=-1)\n",
      "Got the result from ./1/train/filtrations/2/HeightFiltrartion_1_0/red/diagrams.npy\n",
      "Applying Scaler to persistence diagrams.\n",
      "Got the result from ./1/train/filtrations/2/HeightFiltrartion_1_0/red/features.npy\n",
      "FiltrationExtractor: processing 1/train/filtrations/2/HeightFiltrartion_1_0/green, do_fit = False, filtration = HeightFiltration(direction=array([1, 0]), n_jobs=-1)\n",
      "Got the result from ./1/train/filtrations/2/HeightFiltrartion_1_0/green/diagrams.npy\n",
      "Applying Scaler to persistence diagrams.\n",
      "Got the result from ./1/train/filtrations/2/HeightFiltrartion_1_0/green/features.npy\n",
      "FiltrationExtractor: processing 1/train/filtrations/2/HeightFiltrartion_1_0/blue, do_fit = False, filtration = HeightFiltration(direction=array([1, 0]), n_jobs=-1)\n",
      "Got the result from ./1/train/filtrations/2/HeightFiltrartion_1_0/blue/diagrams.npy\n",
      "Applying Scaler to persistence diagrams.\n",
      "Got the result from ./1/train/filtrations/2/HeightFiltrartion_1_0/blue/features.npy\n",
      "Applying filtration 8/72: HeightFiltration with d = (1, 1), bin. thr. = 0.2\n",
      "RGB images received. Transforming to grayscale.\n"
     ]
    },
    {
     "name": "stderr",
     "output_type": "stream",
     "text": [
      "rgb2gray: 100%|██████████| 26640/26640 [00:07<00:00, 3540.19it/s]\n"
     ]
    },
    {
     "name": "stdout",
     "output_type": "stream",
     "text": [
      "FiltrationExtractor: processing 1/train/filtrations/2/HeightFiltrartion_1_1/gray, do_fit = False, filtration = HeightFiltration(direction=array([1, 1]), n_jobs=-1)\n",
      "Got the result from ./1/train/filtrations/2/HeightFiltrartion_1_1/gray/diagrams.npy\n",
      "Applying Scaler to persistence diagrams.\n",
      "Got the result from ./1/train/filtrations/2/HeightFiltrartion_1_1/gray/features.npy\n",
      "FiltrationExtractor: processing 1/train/filtrations/2/HeightFiltrartion_1_1/red, do_fit = False, filtration = HeightFiltration(direction=array([1, 1]), n_jobs=-1)\n",
      "Got the result from ./1/train/filtrations/2/HeightFiltrartion_1_1/red/diagrams.npy\n",
      "Applying Scaler to persistence diagrams.\n",
      "Got the result from ./1/train/filtrations/2/HeightFiltrartion_1_1/red/features.npy\n",
      "FiltrationExtractor: processing 1/train/filtrations/2/HeightFiltrartion_1_1/green, do_fit = False, filtration = HeightFiltration(direction=array([1, 1]), n_jobs=-1)\n",
      "Got the result from ./1/train/filtrations/2/HeightFiltrartion_1_1/green/diagrams.npy\n",
      "Applying Scaler to persistence diagrams.\n",
      "Got the result from ./1/train/filtrations/2/HeightFiltrartion_1_1/green/features.npy\n",
      "FiltrationExtractor: processing 1/train/filtrations/2/HeightFiltrartion_1_1/blue, do_fit = False, filtration = HeightFiltration(direction=array([1, 1]), n_jobs=-1)\n",
      "Got the result from ./1/train/filtrations/2/HeightFiltrartion_1_1/blue/diagrams.npy\n",
      "Applying Scaler to persistence diagrams.\n",
      "Got the result from ./1/train/filtrations/2/HeightFiltrartion_1_1/blue/features.npy\n",
      "Applying filtration 9/72: RadialFiltration with c = (12, 12), bin. thr. = 0.2\n",
      "RGB images received. Transforming to grayscale.\n"
     ]
    },
    {
     "name": "stderr",
     "output_type": "stream",
     "text": [
      "rgb2gray: 100%|██████████| 26640/26640 [00:07<00:00, 3772.35it/s]\n"
     ]
    },
    {
     "name": "stdout",
     "output_type": "stream",
     "text": [
      "FiltrationExtractor: processing 1/train/filtrations/2/RadialFiltration_12_12/gray, do_fit = False, filtration = RadialFiltration(center=array([12, 12]), n_jobs=-1)\n",
      "Got the result from ./1/train/filtrations/2/RadialFiltration_12_12/gray/diagrams.npy\n",
      "Applying Scaler to persistence diagrams.\n",
      "Got the result from ./1/train/filtrations/2/RadialFiltration_12_12/gray/features.npy\n",
      "FiltrationExtractor: processing 1/train/filtrations/2/RadialFiltration_12_12/red, do_fit = False, filtration = RadialFiltration(center=array([12, 12]), n_jobs=-1)\n",
      "Got the result from ./1/train/filtrations/2/RadialFiltration_12_12/red/diagrams.npy\n",
      "Applying Scaler to persistence diagrams.\n",
      "Got the result from ./1/train/filtrations/2/RadialFiltration_12_12/red/features.npy\n",
      "FiltrationExtractor: processing 1/train/filtrations/2/RadialFiltration_12_12/green, do_fit = False, filtration = RadialFiltration(center=array([12, 12]), n_jobs=-1)\n",
      "Got the result from ./1/train/filtrations/2/RadialFiltration_12_12/green/diagrams.npy\n",
      "Applying Scaler to persistence diagrams.\n",
      "Got the result from ./1/train/filtrations/2/RadialFiltration_12_12/green/features.npy\n",
      "FiltrationExtractor: processing 1/train/filtrations/2/RadialFiltration_12_12/blue, do_fit = False, filtration = RadialFiltration(center=array([12, 12]), n_jobs=-1)\n",
      "Got the result from ./1/train/filtrations/2/RadialFiltration_12_12/blue/diagrams.npy\n",
      "Applying Scaler to persistence diagrams.\n",
      "Got the result from ./1/train/filtrations/2/RadialFiltration_12_12/blue/features.npy\n",
      "Applying filtration 10/72: RadialFiltration with c = (12, 25), bin. thr. = 0.2\n",
      "RGB images received. Transforming to grayscale.\n"
     ]
    },
    {
     "name": "stderr",
     "output_type": "stream",
     "text": [
      "rgb2gray: 100%|██████████| 26640/26640 [00:07<00:00, 3646.03it/s]\n"
     ]
    },
    {
     "name": "stdout",
     "output_type": "stream",
     "text": [
      "FiltrationExtractor: processing 1/train/filtrations/2/RadialFiltration_12_25/gray, do_fit = False, filtration = RadialFiltration(center=array([12, 25]), n_jobs=-1)\n",
      "Got the result from ./1/train/filtrations/2/RadialFiltration_12_25/gray/diagrams.npy\n",
      "Applying Scaler to persistence diagrams.\n",
      "Got the result from ./1/train/filtrations/2/RadialFiltration_12_25/gray/features.npy\n",
      "FiltrationExtractor: processing 1/train/filtrations/2/RadialFiltration_12_25/red, do_fit = False, filtration = RadialFiltration(center=array([12, 25]), n_jobs=-1)\n",
      "Got the result from ./1/train/filtrations/2/RadialFiltration_12_25/red/diagrams.npy\n",
      "Applying Scaler to persistence diagrams.\n",
      "Got the result from ./1/train/filtrations/2/RadialFiltration_12_25/red/features.npy\n",
      "FiltrationExtractor: processing 1/train/filtrations/2/RadialFiltration_12_25/green, do_fit = False, filtration = RadialFiltration(center=array([12, 25]), n_jobs=-1)\n",
      "Got the result from ./1/train/filtrations/2/RadialFiltration_12_25/green/diagrams.npy\n",
      "Applying Scaler to persistence diagrams.\n",
      "Got the result from ./1/train/filtrations/2/RadialFiltration_12_25/green/features.npy\n",
      "FiltrationExtractor: processing 1/train/filtrations/2/RadialFiltration_12_25/blue, do_fit = False, filtration = RadialFiltration(center=array([12, 25]), n_jobs=-1)\n",
      "Got the result from ./1/train/filtrations/2/RadialFiltration_12_25/blue/diagrams.npy\n",
      "Applying Scaler to persistence diagrams.\n",
      "Got the result from ./1/train/filtrations/2/RadialFiltration_12_25/blue/features.npy\n",
      "Applying filtration 11/72: RadialFiltration with c = (12, 38), bin. thr. = 0.2\n",
      "RGB images received. Transforming to grayscale.\n"
     ]
    },
    {
     "name": "stderr",
     "output_type": "stream",
     "text": [
      "rgb2gray: 100%|██████████| 26640/26640 [00:07<00:00, 3521.79it/s]\n"
     ]
    },
    {
     "name": "stdout",
     "output_type": "stream",
     "text": [
      "FiltrationExtractor: processing 1/train/filtrations/2/RadialFiltration_12_38/gray, do_fit = False, filtration = RadialFiltration(center=array([12, 38]), n_jobs=-1)\n",
      "Got the result from ./1/train/filtrations/2/RadialFiltration_12_38/gray/diagrams.npy\n",
      "Applying Scaler to persistence diagrams.\n",
      "Got the result from ./1/train/filtrations/2/RadialFiltration_12_38/gray/features.npy\n",
      "FiltrationExtractor: processing 1/train/filtrations/2/RadialFiltration_12_38/red, do_fit = False, filtration = RadialFiltration(center=array([12, 38]), n_jobs=-1)\n",
      "Got the result from ./1/train/filtrations/2/RadialFiltration_12_38/red/diagrams.npy\n",
      "Applying Scaler to persistence diagrams.\n",
      "Got the result from ./1/train/filtrations/2/RadialFiltration_12_38/red/features.npy\n",
      "FiltrationExtractor: processing 1/train/filtrations/2/RadialFiltration_12_38/green, do_fit = False, filtration = RadialFiltration(center=array([12, 38]), n_jobs=-1)\n",
      "Got the result from ./1/train/filtrations/2/RadialFiltration_12_38/green/diagrams.npy\n",
      "Applying Scaler to persistence diagrams.\n",
      "Got the result from ./1/train/filtrations/2/RadialFiltration_12_38/green/features.npy\n",
      "FiltrationExtractor: processing 1/train/filtrations/2/RadialFiltration_12_38/blue, do_fit = False, filtration = RadialFiltration(center=array([12, 38]), n_jobs=-1)\n",
      "Got the result from ./1/train/filtrations/2/RadialFiltration_12_38/blue/diagrams.npy\n",
      "Applying Scaler to persistence diagrams.\n",
      "Got the result from ./1/train/filtrations/2/RadialFiltration_12_38/blue/features.npy\n",
      "Applying filtration 12/72: RadialFiltration with c = (12, 51), bin. thr. = 0.2\n",
      "RGB images received. Transforming to grayscale.\n"
     ]
    },
    {
     "name": "stderr",
     "output_type": "stream",
     "text": [
      "rgb2gray: 100%|██████████| 26640/26640 [00:06<00:00, 3885.36it/s]\n"
     ]
    },
    {
     "name": "stdout",
     "output_type": "stream",
     "text": [
      "FiltrationExtractor: processing 1/train/filtrations/2/RadialFiltration_12_51/gray, do_fit = False, filtration = RadialFiltration(center=array([12, 51]), n_jobs=-1)\n",
      "Got the result from ./1/train/filtrations/2/RadialFiltration_12_51/gray/diagrams.npy\n",
      "Applying Scaler to persistence diagrams.\n",
      "Got the result from ./1/train/filtrations/2/RadialFiltration_12_51/gray/features.npy\n",
      "FiltrationExtractor: processing 1/train/filtrations/2/RadialFiltration_12_51/red, do_fit = False, filtration = RadialFiltration(center=array([12, 51]), n_jobs=-1)\n",
      "Got the result from ./1/train/filtrations/2/RadialFiltration_12_51/red/diagrams.npy\n",
      "Applying Scaler to persistence diagrams.\n",
      "Got the result from ./1/train/filtrations/2/RadialFiltration_12_51/red/features.npy\n",
      "FiltrationExtractor: processing 1/train/filtrations/2/RadialFiltration_12_51/green, do_fit = False, filtration = RadialFiltration(center=array([12, 51]), n_jobs=-1)\n",
      "Got the result from ./1/train/filtrations/2/RadialFiltration_12_51/green/diagrams.npy\n",
      "Applying Scaler to persistence diagrams.\n",
      "Got the result from ./1/train/filtrations/2/RadialFiltration_12_51/green/features.npy\n",
      "FiltrationExtractor: processing 1/train/filtrations/2/RadialFiltration_12_51/blue, do_fit = False, filtration = RadialFiltration(center=array([12, 51]), n_jobs=-1)\n",
      "Got the result from ./1/train/filtrations/2/RadialFiltration_12_51/blue/diagrams.npy\n",
      "Applying Scaler to persistence diagrams.\n",
      "Got the result from ./1/train/filtrations/2/RadialFiltration_12_51/blue/features.npy\n",
      "Applying filtration 13/72: RadialFiltration with c = (25, 12), bin. thr. = 0.2\n",
      "RGB images received. Transforming to grayscale.\n"
     ]
    },
    {
     "name": "stderr",
     "output_type": "stream",
     "text": [
      "rgb2gray: 100%|██████████| 26640/26640 [00:06<00:00, 3840.16it/s]\n"
     ]
    },
    {
     "name": "stdout",
     "output_type": "stream",
     "text": [
      "FiltrationExtractor: processing 1/train/filtrations/2/RadialFiltration_25_12/gray, do_fit = False, filtration = RadialFiltration(center=array([25, 12]), n_jobs=-1)\n",
      "Got the result from ./1/train/filtrations/2/RadialFiltration_25_12/gray/diagrams.npy\n",
      "Applying Scaler to persistence diagrams.\n",
      "Got the result from ./1/train/filtrations/2/RadialFiltration_25_12/gray/features.npy\n",
      "FiltrationExtractor: processing 1/train/filtrations/2/RadialFiltration_25_12/red, do_fit = False, filtration = RadialFiltration(center=array([25, 12]), n_jobs=-1)\n",
      "Got the result from ./1/train/filtrations/2/RadialFiltration_25_12/red/diagrams.npy\n",
      "Applying Scaler to persistence diagrams.\n",
      "Got the result from ./1/train/filtrations/2/RadialFiltration_25_12/red/features.npy\n",
      "FiltrationExtractor: processing 1/train/filtrations/2/RadialFiltration_25_12/green, do_fit = False, filtration = RadialFiltration(center=array([25, 12]), n_jobs=-1)\n",
      "Got the result from ./1/train/filtrations/2/RadialFiltration_25_12/green/diagrams.npy\n",
      "Applying Scaler to persistence diagrams.\n",
      "Got the result from ./1/train/filtrations/2/RadialFiltration_25_12/green/features.npy\n",
      "FiltrationExtractor: processing 1/train/filtrations/2/RadialFiltration_25_12/blue, do_fit = False, filtration = RadialFiltration(center=array([25, 12]), n_jobs=-1)\n",
      "Got the result from ./1/train/filtrations/2/RadialFiltration_25_12/blue/diagrams.npy\n",
      "Applying Scaler to persistence diagrams.\n",
      "Got the result from ./1/train/filtrations/2/RadialFiltration_25_12/blue/features.npy\n",
      "Applying filtration 14/72: RadialFiltration with c = (25, 25), bin. thr. = 0.2\n",
      "RGB images received. Transforming to grayscale.\n"
     ]
    },
    {
     "name": "stderr",
     "output_type": "stream",
     "text": [
      "rgb2gray: 100%|██████████| 26640/26640 [00:07<00:00, 3804.53it/s]\n"
     ]
    },
    {
     "name": "stdout",
     "output_type": "stream",
     "text": [
      "FiltrationExtractor: processing 1/train/filtrations/2/RadialFiltration_25_25/gray, do_fit = False, filtration = RadialFiltration(center=array([25, 25]), n_jobs=-1)\n",
      "Got the result from ./1/train/filtrations/2/RadialFiltration_25_25/gray/diagrams.npy\n",
      "Applying Scaler to persistence diagrams.\n",
      "Got the result from ./1/train/filtrations/2/RadialFiltration_25_25/gray/features.npy\n",
      "FiltrationExtractor: processing 1/train/filtrations/2/RadialFiltration_25_25/red, do_fit = False, filtration = RadialFiltration(center=array([25, 25]), n_jobs=-1)\n",
      "Got the result from ./1/train/filtrations/2/RadialFiltration_25_25/red/diagrams.npy\n",
      "Applying Scaler to persistence diagrams.\n",
      "Got the result from ./1/train/filtrations/2/RadialFiltration_25_25/red/features.npy\n",
      "FiltrationExtractor: processing 1/train/filtrations/2/RadialFiltration_25_25/green, do_fit = False, filtration = RadialFiltration(center=array([25, 25]), n_jobs=-1)\n",
      "Got the result from ./1/train/filtrations/2/RadialFiltration_25_25/green/diagrams.npy\n",
      "Applying Scaler to persistence diagrams.\n",
      "Got the result from ./1/train/filtrations/2/RadialFiltration_25_25/green/features.npy\n",
      "FiltrationExtractor: processing 1/train/filtrations/2/RadialFiltration_25_25/blue, do_fit = False, filtration = RadialFiltration(center=array([25, 25]), n_jobs=-1)\n",
      "Got the result from ./1/train/filtrations/2/RadialFiltration_25_25/blue/diagrams.npy\n",
      "Applying Scaler to persistence diagrams.\n",
      "Got the result from ./1/train/filtrations/2/RadialFiltration_25_25/blue/features.npy\n",
      "Applying filtration 15/72: RadialFiltration with c = (25, 38), bin. thr. = 0.2\n",
      "RGB images received. Transforming to grayscale.\n"
     ]
    },
    {
     "name": "stderr",
     "output_type": "stream",
     "text": [
      "rgb2gray: 100%|██████████| 26640/26640 [00:06<00:00, 3829.86it/s]\n"
     ]
    },
    {
     "name": "stdout",
     "output_type": "stream",
     "text": [
      "FiltrationExtractor: processing 1/train/filtrations/2/RadialFiltration_25_38/gray, do_fit = False, filtration = RadialFiltration(center=array([25, 38]), n_jobs=-1)\n",
      "Got the result from ./1/train/filtrations/2/RadialFiltration_25_38/gray/diagrams.npy\n",
      "Applying Scaler to persistence diagrams.\n",
      "Got the result from ./1/train/filtrations/2/RadialFiltration_25_38/gray/features.npy\n",
      "FiltrationExtractor: processing 1/train/filtrations/2/RadialFiltration_25_38/red, do_fit = False, filtration = RadialFiltration(center=array([25, 38]), n_jobs=-1)\n",
      "Got the result from ./1/train/filtrations/2/RadialFiltration_25_38/red/diagrams.npy\n",
      "Applying Scaler to persistence diagrams.\n",
      "Got the result from ./1/train/filtrations/2/RadialFiltration_25_38/red/features.npy\n",
      "FiltrationExtractor: processing 1/train/filtrations/2/RadialFiltration_25_38/green, do_fit = False, filtration = RadialFiltration(center=array([25, 38]), n_jobs=-1)\n",
      "Got the result from ./1/train/filtrations/2/RadialFiltration_25_38/green/diagrams.npy\n",
      "Applying Scaler to persistence diagrams.\n",
      "Got the result from ./1/train/filtrations/2/RadialFiltration_25_38/green/features.npy\n",
      "FiltrationExtractor: processing 1/train/filtrations/2/RadialFiltration_25_38/blue, do_fit = False, filtration = RadialFiltration(center=array([25, 38]), n_jobs=-1)\n",
      "Got the result from ./1/train/filtrations/2/RadialFiltration_25_38/blue/diagrams.npy\n",
      "Applying Scaler to persistence diagrams.\n",
      "Got the result from ./1/train/filtrations/2/RadialFiltration_25_38/blue/features.npy\n",
      "Applying filtration 16/72: RadialFiltration with c = (25, 51), bin. thr. = 0.2\n",
      "RGB images received. Transforming to grayscale.\n"
     ]
    },
    {
     "name": "stderr",
     "output_type": "stream",
     "text": [
      "rgb2gray: 100%|██████████| 26640/26640 [00:07<00:00, 3752.66it/s]\n"
     ]
    },
    {
     "name": "stdout",
     "output_type": "stream",
     "text": [
      "FiltrationExtractor: processing 1/train/filtrations/2/RadialFiltration_25_51/gray, do_fit = False, filtration = RadialFiltration(center=array([25, 51]), n_jobs=-1)\n",
      "Got the result from ./1/train/filtrations/2/RadialFiltration_25_51/gray/diagrams.npy\n",
      "Applying Scaler to persistence diagrams.\n",
      "Got the result from ./1/train/filtrations/2/RadialFiltration_25_51/gray/features.npy\n",
      "FiltrationExtractor: processing 1/train/filtrations/2/RadialFiltration_25_51/red, do_fit = False, filtration = RadialFiltration(center=array([25, 51]), n_jobs=-1)\n",
      "Got the result from ./1/train/filtrations/2/RadialFiltration_25_51/red/diagrams.npy\n",
      "Applying Scaler to persistence diagrams.\n",
      "Got the result from ./1/train/filtrations/2/RadialFiltration_25_51/red/features.npy\n",
      "FiltrationExtractor: processing 1/train/filtrations/2/RadialFiltration_25_51/green, do_fit = False, filtration = RadialFiltration(center=array([25, 51]), n_jobs=-1)\n",
      "Got the result from ./1/train/filtrations/2/RadialFiltration_25_51/green/diagrams.npy\n",
      "Applying Scaler to persistence diagrams.\n",
      "Got the result from ./1/train/filtrations/2/RadialFiltration_25_51/green/features.npy\n",
      "FiltrationExtractor: processing 1/train/filtrations/2/RadialFiltration_25_51/blue, do_fit = False, filtration = RadialFiltration(center=array([25, 51]), n_jobs=-1)\n",
      "Got the result from ./1/train/filtrations/2/RadialFiltration_25_51/blue/diagrams.npy\n",
      "Applying Scaler to persistence diagrams.\n",
      "Got the result from ./1/train/filtrations/2/RadialFiltration_25_51/blue/features.npy\n",
      "Applying filtration 17/72: RadialFiltration with c = (38, 12), bin. thr. = 0.2\n",
      "RGB images received. Transforming to grayscale.\n"
     ]
    },
    {
     "name": "stderr",
     "output_type": "stream",
     "text": [
      "rgb2gray: 100%|██████████| 26640/26640 [00:07<00:00, 3508.68it/s]\n"
     ]
    },
    {
     "name": "stdout",
     "output_type": "stream",
     "text": [
      "FiltrationExtractor: processing 1/train/filtrations/2/RadialFiltration_38_12/gray, do_fit = False, filtration = RadialFiltration(center=array([38, 12]), n_jobs=-1)\n",
      "Got the result from ./1/train/filtrations/2/RadialFiltration_38_12/gray/diagrams.npy\n",
      "Applying Scaler to persistence diagrams.\n",
      "Got the result from ./1/train/filtrations/2/RadialFiltration_38_12/gray/features.npy\n",
      "FiltrationExtractor: processing 1/train/filtrations/2/RadialFiltration_38_12/red, do_fit = False, filtration = RadialFiltration(center=array([38, 12]), n_jobs=-1)\n",
      "Got the result from ./1/train/filtrations/2/RadialFiltration_38_12/red/diagrams.npy\n",
      "Applying Scaler to persistence diagrams.\n",
      "Got the result from ./1/train/filtrations/2/RadialFiltration_38_12/red/features.npy\n",
      "FiltrationExtractor: processing 1/train/filtrations/2/RadialFiltration_38_12/green, do_fit = False, filtration = RadialFiltration(center=array([38, 12]), n_jobs=-1)\n",
      "Got the result from ./1/train/filtrations/2/RadialFiltration_38_12/green/diagrams.npy\n",
      "Applying Scaler to persistence diagrams.\n",
      "Got the result from ./1/train/filtrations/2/RadialFiltration_38_12/green/features.npy\n",
      "FiltrationExtractor: processing 1/train/filtrations/2/RadialFiltration_38_12/blue, do_fit = False, filtration = RadialFiltration(center=array([38, 12]), n_jobs=-1)\n",
      "Got the result from ./1/train/filtrations/2/RadialFiltration_38_12/blue/diagrams.npy\n",
      "Applying Scaler to persistence diagrams.\n",
      "Got the result from ./1/train/filtrations/2/RadialFiltration_38_12/blue/features.npy\n",
      "Applying filtration 18/72: RadialFiltration with c = (38, 25), bin. thr. = 0.2\n",
      "RGB images received. Transforming to grayscale.\n"
     ]
    },
    {
     "name": "stderr",
     "output_type": "stream",
     "text": [
      "rgb2gray: 100%|██████████| 26640/26640 [00:07<00:00, 3772.28it/s]\n"
     ]
    },
    {
     "name": "stdout",
     "output_type": "stream",
     "text": [
      "FiltrationExtractor: processing 1/train/filtrations/2/RadialFiltration_38_25/gray, do_fit = False, filtration = RadialFiltration(center=array([38, 25]), n_jobs=-1)\n",
      "Got the result from ./1/train/filtrations/2/RadialFiltration_38_25/gray/diagrams.npy\n",
      "Applying Scaler to persistence diagrams.\n",
      "Got the result from ./1/train/filtrations/2/RadialFiltration_38_25/gray/features.npy\n",
      "FiltrationExtractor: processing 1/train/filtrations/2/RadialFiltration_38_25/red, do_fit = False, filtration = RadialFiltration(center=array([38, 25]), n_jobs=-1)\n",
      "Got the result from ./1/train/filtrations/2/RadialFiltration_38_25/red/diagrams.npy\n",
      "Applying Scaler to persistence diagrams.\n",
      "Got the result from ./1/train/filtrations/2/RadialFiltration_38_25/red/features.npy\n",
      "FiltrationExtractor: processing 1/train/filtrations/2/RadialFiltration_38_25/green, do_fit = False, filtration = RadialFiltration(center=array([38, 25]), n_jobs=-1)\n",
      "Got the result from ./1/train/filtrations/2/RadialFiltration_38_25/green/diagrams.npy\n",
      "Applying Scaler to persistence diagrams.\n",
      "Got the result from ./1/train/filtrations/2/RadialFiltration_38_25/green/features.npy\n",
      "FiltrationExtractor: processing 1/train/filtrations/2/RadialFiltration_38_25/blue, do_fit = False, filtration = RadialFiltration(center=array([38, 25]), n_jobs=-1)\n",
      "Got the result from ./1/train/filtrations/2/RadialFiltration_38_25/blue/diagrams.npy\n",
      "Applying Scaler to persistence diagrams.\n",
      "Got the result from ./1/train/filtrations/2/RadialFiltration_38_25/blue/features.npy\n",
      "Applying filtration 19/72: RadialFiltration with c = (38, 38), bin. thr. = 0.2\n",
      "RGB images received. Transforming to grayscale.\n"
     ]
    },
    {
     "name": "stderr",
     "output_type": "stream",
     "text": [
      "rgb2gray: 100%|██████████| 26640/26640 [00:07<00:00, 3680.56it/s]\n"
     ]
    },
    {
     "name": "stdout",
     "output_type": "stream",
     "text": [
      "FiltrationExtractor: processing 1/train/filtrations/2/RadialFiltration_38_38/gray, do_fit = False, filtration = RadialFiltration(center=array([38, 38]), n_jobs=-1)\n",
      "Got the result from ./1/train/filtrations/2/RadialFiltration_38_38/gray/diagrams.npy\n",
      "Applying Scaler to persistence diagrams.\n",
      "Got the result from ./1/train/filtrations/2/RadialFiltration_38_38/gray/features.npy\n",
      "FiltrationExtractor: processing 1/train/filtrations/2/RadialFiltration_38_38/red, do_fit = False, filtration = RadialFiltration(center=array([38, 38]), n_jobs=-1)\n",
      "Got the result from ./1/train/filtrations/2/RadialFiltration_38_38/red/diagrams.npy\n",
      "Applying Scaler to persistence diagrams.\n",
      "Got the result from ./1/train/filtrations/2/RadialFiltration_38_38/red/features.npy\n",
      "FiltrationExtractor: processing 1/train/filtrations/2/RadialFiltration_38_38/green, do_fit = False, filtration = RadialFiltration(center=array([38, 38]), n_jobs=-1)\n",
      "Got the result from ./1/train/filtrations/2/RadialFiltration_38_38/green/diagrams.npy\n",
      "Applying Scaler to persistence diagrams.\n",
      "Got the result from ./1/train/filtrations/2/RadialFiltration_38_38/green/features.npy\n",
      "FiltrationExtractor: processing 1/train/filtrations/2/RadialFiltration_38_38/blue, do_fit = False, filtration = RadialFiltration(center=array([38, 38]), n_jobs=-1)\n",
      "Got the result from ./1/train/filtrations/2/RadialFiltration_38_38/blue/diagrams.npy\n",
      "Applying Scaler to persistence diagrams.\n",
      "Got the result from ./1/train/filtrations/2/RadialFiltration_38_38/blue/features.npy\n",
      "Applying filtration 20/72: RadialFiltration with c = (38, 51), bin. thr. = 0.2\n",
      "RGB images received. Transforming to grayscale.\n"
     ]
    },
    {
     "name": "stderr",
     "output_type": "stream",
     "text": [
      "rgb2gray: 100%|██████████| 26640/26640 [00:07<00:00, 3485.76it/s]\n"
     ]
    },
    {
     "name": "stdout",
     "output_type": "stream",
     "text": [
      "FiltrationExtractor: processing 1/train/filtrations/2/RadialFiltration_38_51/gray, do_fit = False, filtration = RadialFiltration(center=array([38, 51]), n_jobs=-1)\n",
      "Got the result from ./1/train/filtrations/2/RadialFiltration_38_51/gray/diagrams.npy\n",
      "Applying Scaler to persistence diagrams.\n",
      "Got the result from ./1/train/filtrations/2/RadialFiltration_38_51/gray/features.npy\n",
      "FiltrationExtractor: processing 1/train/filtrations/2/RadialFiltration_38_51/red, do_fit = False, filtration = RadialFiltration(center=array([38, 51]), n_jobs=-1)\n",
      "Got the result from ./1/train/filtrations/2/RadialFiltration_38_51/red/diagrams.npy\n",
      "Applying Scaler to persistence diagrams.\n",
      "Got the result from ./1/train/filtrations/2/RadialFiltration_38_51/red/features.npy\n",
      "FiltrationExtractor: processing 1/train/filtrations/2/RadialFiltration_38_51/green, do_fit = False, filtration = RadialFiltration(center=array([38, 51]), n_jobs=-1)\n",
      "Got the result from ./1/train/filtrations/2/RadialFiltration_38_51/green/diagrams.npy\n",
      "Applying Scaler to persistence diagrams.\n",
      "Got the result from ./1/train/filtrations/2/RadialFiltration_38_51/green/features.npy\n",
      "FiltrationExtractor: processing 1/train/filtrations/2/RadialFiltration_38_51/blue, do_fit = False, filtration = RadialFiltration(center=array([38, 51]), n_jobs=-1)\n",
      "Got the result from ./1/train/filtrations/2/RadialFiltration_38_51/blue/diagrams.npy\n",
      "Applying Scaler to persistence diagrams.\n",
      "Got the result from ./1/train/filtrations/2/RadialFiltration_38_51/blue/features.npy\n",
      "Applying filtration 21/72: RadialFiltration with c = (51, 12), bin. thr. = 0.2\n",
      "RGB images received. Transforming to grayscale.\n"
     ]
    },
    {
     "name": "stderr",
     "output_type": "stream",
     "text": [
      "rgb2gray: 100%|██████████| 26640/26640 [00:07<00:00, 3632.47it/s]\n"
     ]
    },
    {
     "name": "stdout",
     "output_type": "stream",
     "text": [
      "FiltrationExtractor: processing 1/train/filtrations/2/RadialFiltration_51_12/gray, do_fit = False, filtration = RadialFiltration(center=array([51, 12]), n_jobs=-1)\n",
      "Got the result from ./1/train/filtrations/2/RadialFiltration_51_12/gray/diagrams.npy\n",
      "Applying Scaler to persistence diagrams.\n",
      "Got the result from ./1/train/filtrations/2/RadialFiltration_51_12/gray/features.npy\n",
      "FiltrationExtractor: processing 1/train/filtrations/2/RadialFiltration_51_12/red, do_fit = False, filtration = RadialFiltration(center=array([51, 12]), n_jobs=-1)\n",
      "Got the result from ./1/train/filtrations/2/RadialFiltration_51_12/red/diagrams.npy\n",
      "Applying Scaler to persistence diagrams.\n",
      "Got the result from ./1/train/filtrations/2/RadialFiltration_51_12/red/features.npy\n",
      "FiltrationExtractor: processing 1/train/filtrations/2/RadialFiltration_51_12/green, do_fit = False, filtration = RadialFiltration(center=array([51, 12]), n_jobs=-1)\n",
      "Got the result from ./1/train/filtrations/2/RadialFiltration_51_12/green/diagrams.npy\n",
      "Applying Scaler to persistence diagrams.\n",
      "Got the result from ./1/train/filtrations/2/RadialFiltration_51_12/green/features.npy\n",
      "FiltrationExtractor: processing 1/train/filtrations/2/RadialFiltration_51_12/blue, do_fit = False, filtration = RadialFiltration(center=array([51, 12]), n_jobs=-1)\n",
      "Got the result from ./1/train/filtrations/2/RadialFiltration_51_12/blue/diagrams.npy\n",
      "Applying Scaler to persistence diagrams.\n",
      "Got the result from ./1/train/filtrations/2/RadialFiltration_51_12/blue/features.npy\n",
      "Applying filtration 22/72: RadialFiltration with c = (51, 25), bin. thr. = 0.2\n",
      "RGB images received. Transforming to grayscale.\n"
     ]
    },
    {
     "name": "stderr",
     "output_type": "stream",
     "text": [
      "rgb2gray: 100%|██████████| 26640/26640 [00:07<00:00, 3709.12it/s]\n"
     ]
    },
    {
     "name": "stdout",
     "output_type": "stream",
     "text": [
      "FiltrationExtractor: processing 1/train/filtrations/2/RadialFiltration_51_25/gray, do_fit = False, filtration = RadialFiltration(center=array([51, 25]), n_jobs=-1)\n",
      "Got the result from ./1/train/filtrations/2/RadialFiltration_51_25/gray/diagrams.npy\n",
      "Applying Scaler to persistence diagrams.\n",
      "Got the result from ./1/train/filtrations/2/RadialFiltration_51_25/gray/features.npy\n",
      "FiltrationExtractor: processing 1/train/filtrations/2/RadialFiltration_51_25/red, do_fit = False, filtration = RadialFiltration(center=array([51, 25]), n_jobs=-1)\n",
      "Got the result from ./1/train/filtrations/2/RadialFiltration_51_25/red/diagrams.npy\n",
      "Applying Scaler to persistence diagrams.\n",
      "Got the result from ./1/train/filtrations/2/RadialFiltration_51_25/red/features.npy\n",
      "FiltrationExtractor: processing 1/train/filtrations/2/RadialFiltration_51_25/green, do_fit = False, filtration = RadialFiltration(center=array([51, 25]), n_jobs=-1)\n",
      "Got the result from ./1/train/filtrations/2/RadialFiltration_51_25/green/diagrams.npy\n",
      "Applying Scaler to persistence diagrams.\n",
      "Got the result from ./1/train/filtrations/2/RadialFiltration_51_25/green/features.npy\n",
      "FiltrationExtractor: processing 1/train/filtrations/2/RadialFiltration_51_25/blue, do_fit = False, filtration = RadialFiltration(center=array([51, 25]), n_jobs=-1)\n",
      "Got the result from ./1/train/filtrations/2/RadialFiltration_51_25/blue/diagrams.npy\n",
      "Applying Scaler to persistence diagrams.\n",
      "Got the result from ./1/train/filtrations/2/RadialFiltration_51_25/blue/features.npy\n",
      "Applying filtration 23/72: RadialFiltration with c = (51, 38), bin. thr. = 0.2\n",
      "RGB images received. Transforming to grayscale.\n"
     ]
    },
    {
     "name": "stderr",
     "output_type": "stream",
     "text": [
      "rgb2gray: 100%|██████████| 26640/26640 [00:07<00:00, 3473.30it/s]\n"
     ]
    },
    {
     "name": "stdout",
     "output_type": "stream",
     "text": [
      "FiltrationExtractor: processing 1/train/filtrations/2/RadialFiltration_51_38/gray, do_fit = False, filtration = RadialFiltration(center=array([51, 38]), n_jobs=-1)\n",
      "Got the result from ./1/train/filtrations/2/RadialFiltration_51_38/gray/diagrams.npy\n",
      "Applying Scaler to persistence diagrams.\n",
      "Got the result from ./1/train/filtrations/2/RadialFiltration_51_38/gray/features.npy\n",
      "FiltrationExtractor: processing 1/train/filtrations/2/RadialFiltration_51_38/red, do_fit = False, filtration = RadialFiltration(center=array([51, 38]), n_jobs=-1)\n",
      "Got the result from ./1/train/filtrations/2/RadialFiltration_51_38/red/diagrams.npy\n",
      "Applying Scaler to persistence diagrams.\n",
      "Got the result from ./1/train/filtrations/2/RadialFiltration_51_38/red/features.npy\n",
      "FiltrationExtractor: processing 1/train/filtrations/2/RadialFiltration_51_38/green, do_fit = False, filtration = RadialFiltration(center=array([51, 38]), n_jobs=-1)\n",
      "Got the result from ./1/train/filtrations/2/RadialFiltration_51_38/green/diagrams.npy\n",
      "Applying Scaler to persistence diagrams.\n",
      "Got the result from ./1/train/filtrations/2/RadialFiltration_51_38/green/features.npy\n",
      "FiltrationExtractor: processing 1/train/filtrations/2/RadialFiltration_51_38/blue, do_fit = False, filtration = RadialFiltration(center=array([51, 38]), n_jobs=-1)\n",
      "Got the result from ./1/train/filtrations/2/RadialFiltration_51_38/blue/diagrams.npy\n",
      "Applying Scaler to persistence diagrams.\n",
      "Got the result from ./1/train/filtrations/2/RadialFiltration_51_38/blue/features.npy\n",
      "Applying filtration 24/72: RadialFiltration with c = (51, 51), bin. thr. = 0.2\n",
      "RGB images received. Transforming to grayscale.\n"
     ]
    },
    {
     "name": "stderr",
     "output_type": "stream",
     "text": [
      "rgb2gray: 100%|██████████| 26640/26640 [00:07<00:00, 3342.94it/s]\n"
     ]
    },
    {
     "name": "stdout",
     "output_type": "stream",
     "text": [
      "FiltrationExtractor: processing 1/train/filtrations/2/RadialFiltration_51_51/gray, do_fit = False, filtration = RadialFiltration(center=array([51, 51]), n_jobs=-1)\n",
      "Got the result from ./1/train/filtrations/2/RadialFiltration_51_51/gray/diagrams.npy\n",
      "Applying Scaler to persistence diagrams.\n",
      "Got the result from ./1/train/filtrations/2/RadialFiltration_51_51/gray/features.npy\n",
      "FiltrationExtractor: processing 1/train/filtrations/2/RadialFiltration_51_51/red, do_fit = False, filtration = RadialFiltration(center=array([51, 51]), n_jobs=-1)\n",
      "Got the result from ./1/train/filtrations/2/RadialFiltration_51_51/red/diagrams.npy\n",
      "Applying Scaler to persistence diagrams.\n",
      "Got the result from ./1/train/filtrations/2/RadialFiltration_51_51/red/features.npy\n",
      "FiltrationExtractor: processing 1/train/filtrations/2/RadialFiltration_51_51/green, do_fit = False, filtration = RadialFiltration(center=array([51, 51]), n_jobs=-1)\n",
      "Got the result from ./1/train/filtrations/2/RadialFiltration_51_51/green/diagrams.npy\n",
      "Applying Scaler to persistence diagrams.\n",
      "Got the result from ./1/train/filtrations/2/RadialFiltration_51_51/green/features.npy\n",
      "FiltrationExtractor: processing 1/train/filtrations/2/RadialFiltration_51_51/blue, do_fit = False, filtration = RadialFiltration(center=array([51, 51]), n_jobs=-1)\n",
      "Got the result from ./1/train/filtrations/2/RadialFiltration_51_51/blue/diagrams.npy\n",
      "Applying Scaler to persistence diagrams.\n",
      "Got the result from ./1/train/filtrations/2/RadialFiltration_51_51/blue/features.npy\n",
      "Applying filtration 25/72: HeightFiltration with d = (-1, -1), bin. thr. = 0.4\n",
      "RGB images received. Transforming to grayscale.\n"
     ]
    },
    {
     "name": "stderr",
     "output_type": "stream",
     "text": [
      "rgb2gray: 100%|██████████| 26640/26640 [00:07<00:00, 3609.21it/s]\n"
     ]
    },
    {
     "name": "stdout",
     "output_type": "stream",
     "text": [
      "FiltrationExtractor: processing 1/train/filtrations/4/HeightFiltrartion_-1_-1/gray, do_fit = False, filtration = HeightFiltration(direction=array([-1, -1]), n_jobs=-1)\n",
      "Got the result from ./1/train/filtrations/4/HeightFiltrartion_-1_-1/gray/diagrams.npy\n",
      "Applying Scaler to persistence diagrams.\n",
      "Got the result from ./1/train/filtrations/4/HeightFiltrartion_-1_-1/gray/features.npy\n",
      "FiltrationExtractor: processing 1/train/filtrations/4/HeightFiltrartion_-1_-1/red, do_fit = False, filtration = HeightFiltration(direction=array([-1, -1]), n_jobs=-1)\n",
      "Got the result from ./1/train/filtrations/4/HeightFiltrartion_-1_-1/red/diagrams.npy\n",
      "Applying Scaler to persistence diagrams.\n",
      "Got the result from ./1/train/filtrations/4/HeightFiltrartion_-1_-1/red/features.npy\n",
      "FiltrationExtractor: processing 1/train/filtrations/4/HeightFiltrartion_-1_-1/green, do_fit = False, filtration = HeightFiltration(direction=array([-1, -1]), n_jobs=-1)\n",
      "Got the result from ./1/train/filtrations/4/HeightFiltrartion_-1_-1/green/diagrams.npy\n",
      "Applying Scaler to persistence diagrams.\n",
      "Got the result from ./1/train/filtrations/4/HeightFiltrartion_-1_-1/green/features.npy\n",
      "FiltrationExtractor: processing 1/train/filtrations/4/HeightFiltrartion_-1_-1/blue, do_fit = False, filtration = HeightFiltration(direction=array([-1, -1]), n_jobs=-1)\n",
      "Got the result from ./1/train/filtrations/4/HeightFiltrartion_-1_-1/blue/diagrams.npy\n",
      "Applying Scaler to persistence diagrams.\n",
      "Got the result from ./1/train/filtrations/4/HeightFiltrartion_-1_-1/blue/features.npy\n",
      "Applying filtration 26/72: HeightFiltration with d = (-1, 0), bin. thr. = 0.4\n",
      "RGB images received. Transforming to grayscale.\n"
     ]
    },
    {
     "name": "stderr",
     "output_type": "stream",
     "text": [
      "rgb2gray: 100%|██████████| 26640/26640 [00:06<00:00, 3845.35it/s]\n"
     ]
    },
    {
     "name": "stdout",
     "output_type": "stream",
     "text": [
      "FiltrationExtractor: processing 1/train/filtrations/4/HeightFiltrartion_-1_0/gray, do_fit = False, filtration = HeightFiltration(direction=array([-1,  0]), n_jobs=-1)\n",
      "Got the result from ./1/train/filtrations/4/HeightFiltrartion_-1_0/gray/diagrams.npy\n",
      "Applying Scaler to persistence diagrams.\n",
      "Got the result from ./1/train/filtrations/4/HeightFiltrartion_-1_0/gray/features.npy\n",
      "FiltrationExtractor: processing 1/train/filtrations/4/HeightFiltrartion_-1_0/red, do_fit = False, filtration = HeightFiltration(direction=array([-1,  0]), n_jobs=-1)\n",
      "Got the result from ./1/train/filtrations/4/HeightFiltrartion_-1_0/red/diagrams.npy\n",
      "Applying Scaler to persistence diagrams.\n",
      "Got the result from ./1/train/filtrations/4/HeightFiltrartion_-1_0/red/features.npy\n",
      "FiltrationExtractor: processing 1/train/filtrations/4/HeightFiltrartion_-1_0/green, do_fit = False, filtration = HeightFiltration(direction=array([-1,  0]), n_jobs=-1)\n",
      "Got the result from ./1/train/filtrations/4/HeightFiltrartion_-1_0/green/diagrams.npy\n",
      "Applying Scaler to persistence diagrams.\n",
      "Got the result from ./1/train/filtrations/4/HeightFiltrartion_-1_0/green/features.npy\n",
      "FiltrationExtractor: processing 1/train/filtrations/4/HeightFiltrartion_-1_0/blue, do_fit = False, filtration = HeightFiltration(direction=array([-1,  0]), n_jobs=-1)\n",
      "Got the result from ./1/train/filtrations/4/HeightFiltrartion_-1_0/blue/diagrams.npy\n",
      "Applying Scaler to persistence diagrams.\n",
      "Got the result from ./1/train/filtrations/4/HeightFiltrartion_-1_0/blue/features.npy\n",
      "Applying filtration 27/72: HeightFiltration with d = (-1, 1), bin. thr. = 0.4\n",
      "RGB images received. Transforming to grayscale.\n"
     ]
    },
    {
     "name": "stderr",
     "output_type": "stream",
     "text": [
      "rgb2gray: 100%|██████████| 26640/26640 [00:06<00:00, 3991.69it/s]\n"
     ]
    },
    {
     "name": "stdout",
     "output_type": "stream",
     "text": [
      "FiltrationExtractor: processing 1/train/filtrations/4/HeightFiltrartion_-1_1/gray, do_fit = False, filtration = HeightFiltration(direction=array([-1,  1]), n_jobs=-1)\n",
      "Got the result from ./1/train/filtrations/4/HeightFiltrartion_-1_1/gray/diagrams.npy\n",
      "Applying Scaler to persistence diagrams.\n",
      "Got the result from ./1/train/filtrations/4/HeightFiltrartion_-1_1/gray/features.npy\n",
      "FiltrationExtractor: processing 1/train/filtrations/4/HeightFiltrartion_-1_1/red, do_fit = False, filtration = HeightFiltration(direction=array([-1,  1]), n_jobs=-1)\n",
      "Got the result from ./1/train/filtrations/4/HeightFiltrartion_-1_1/red/diagrams.npy\n",
      "Applying Scaler to persistence diagrams.\n",
      "Got the result from ./1/train/filtrations/4/HeightFiltrartion_-1_1/red/features.npy\n",
      "FiltrationExtractor: processing 1/train/filtrations/4/HeightFiltrartion_-1_1/green, do_fit = False, filtration = HeightFiltration(direction=array([-1,  1]), n_jobs=-1)\n",
      "Got the result from ./1/train/filtrations/4/HeightFiltrartion_-1_1/green/diagrams.npy\n",
      "Applying Scaler to persistence diagrams.\n",
      "Got the result from ./1/train/filtrations/4/HeightFiltrartion_-1_1/green/features.npy\n",
      "FiltrationExtractor: processing 1/train/filtrations/4/HeightFiltrartion_-1_1/blue, do_fit = False, filtration = HeightFiltration(direction=array([-1,  1]), n_jobs=-1)\n",
      "Got the result from ./1/train/filtrations/4/HeightFiltrartion_-1_1/blue/diagrams.npy\n",
      "Applying Scaler to persistence diagrams.\n",
      "Got the result from ./1/train/filtrations/4/HeightFiltrartion_-1_1/blue/features.npy\n",
      "Applying filtration 28/72: HeightFiltration with d = (0, -1), bin. thr. = 0.4\n",
      "RGB images received. Transforming to grayscale.\n"
     ]
    },
    {
     "name": "stderr",
     "output_type": "stream",
     "text": [
      "rgb2gray: 100%|██████████| 26640/26640 [00:07<00:00, 3718.84it/s]\n"
     ]
    },
    {
     "name": "stdout",
     "output_type": "stream",
     "text": [
      "FiltrationExtractor: processing 1/train/filtrations/4/HeightFiltrartion_0_-1/gray, do_fit = False, filtration = HeightFiltration(direction=array([ 0, -1]), n_jobs=-1)\n",
      "Got the result from ./1/train/filtrations/4/HeightFiltrartion_0_-1/gray/diagrams.npy\n",
      "Applying Scaler to persistence diagrams.\n",
      "Got the result from ./1/train/filtrations/4/HeightFiltrartion_0_-1/gray/features.npy\n",
      "FiltrationExtractor: processing 1/train/filtrations/4/HeightFiltrartion_0_-1/red, do_fit = False, filtration = HeightFiltration(direction=array([ 0, -1]), n_jobs=-1)\n",
      "Got the result from ./1/train/filtrations/4/HeightFiltrartion_0_-1/red/diagrams.npy\n",
      "Applying Scaler to persistence diagrams.\n",
      "Got the result from ./1/train/filtrations/4/HeightFiltrartion_0_-1/red/features.npy\n",
      "FiltrationExtractor: processing 1/train/filtrations/4/HeightFiltrartion_0_-1/green, do_fit = False, filtration = HeightFiltration(direction=array([ 0, -1]), n_jobs=-1)\n",
      "Got the result from ./1/train/filtrations/4/HeightFiltrartion_0_-1/green/diagrams.npy\n",
      "Applying Scaler to persistence diagrams.\n",
      "Got the result from ./1/train/filtrations/4/HeightFiltrartion_0_-1/green/features.npy\n",
      "FiltrationExtractor: processing 1/train/filtrations/4/HeightFiltrartion_0_-1/blue, do_fit = False, filtration = HeightFiltration(direction=array([ 0, -1]), n_jobs=-1)\n",
      "Got the result from ./1/train/filtrations/4/HeightFiltrartion_0_-1/blue/diagrams.npy\n",
      "Applying Scaler to persistence diagrams.\n",
      "Got the result from ./1/train/filtrations/4/HeightFiltrartion_0_-1/blue/features.npy\n",
      "Applying filtration 29/72: HeightFiltration with d = (0, 1), bin. thr. = 0.4\n",
      "RGB images received. Transforming to grayscale.\n"
     ]
    },
    {
     "name": "stderr",
     "output_type": "stream",
     "text": [
      "rgb2gray: 100%|██████████| 26640/26640 [00:07<00:00, 3761.54it/s]\n"
     ]
    },
    {
     "name": "stdout",
     "output_type": "stream",
     "text": [
      "FiltrationExtractor: processing 1/train/filtrations/4/HeightFiltrartion_0_1/gray, do_fit = False, filtration = HeightFiltration(direction=array([0, 1]), n_jobs=-1)\n",
      "Got the result from ./1/train/filtrations/4/HeightFiltrartion_0_1/gray/diagrams.npy\n",
      "Applying Scaler to persistence diagrams.\n",
      "Got the result from ./1/train/filtrations/4/HeightFiltrartion_0_1/gray/features.npy\n",
      "FiltrationExtractor: processing 1/train/filtrations/4/HeightFiltrartion_0_1/red, do_fit = False, filtration = HeightFiltration(direction=array([0, 1]), n_jobs=-1)\n",
      "Got the result from ./1/train/filtrations/4/HeightFiltrartion_0_1/red/diagrams.npy\n",
      "Applying Scaler to persistence diagrams.\n",
      "Got the result from ./1/train/filtrations/4/HeightFiltrartion_0_1/red/features.npy\n",
      "FiltrationExtractor: processing 1/train/filtrations/4/HeightFiltrartion_0_1/green, do_fit = False, filtration = HeightFiltration(direction=array([0, 1]), n_jobs=-1)\n",
      "Got the result from ./1/train/filtrations/4/HeightFiltrartion_0_1/green/diagrams.npy\n",
      "Applying Scaler to persistence diagrams.\n",
      "Got the result from ./1/train/filtrations/4/HeightFiltrartion_0_1/green/features.npy\n",
      "FiltrationExtractor: processing 1/train/filtrations/4/HeightFiltrartion_0_1/blue, do_fit = False, filtration = HeightFiltration(direction=array([0, 1]), n_jobs=-1)\n",
      "Got the result from ./1/train/filtrations/4/HeightFiltrartion_0_1/blue/diagrams.npy\n",
      "Applying Scaler to persistence diagrams.\n",
      "Got the result from ./1/train/filtrations/4/HeightFiltrartion_0_1/blue/features.npy\n",
      "Applying filtration 30/72: HeightFiltration with d = (1, -1), bin. thr. = 0.4\n",
      "RGB images received. Transforming to grayscale.\n"
     ]
    },
    {
     "name": "stderr",
     "output_type": "stream",
     "text": [
      "rgb2gray: 100%|██████████| 26640/26640 [00:07<00:00, 3702.92it/s]\n"
     ]
    },
    {
     "name": "stdout",
     "output_type": "stream",
     "text": [
      "FiltrationExtractor: processing 1/train/filtrations/4/HeightFiltrartion_1_-1/gray, do_fit = False, filtration = HeightFiltration(direction=array([ 1, -1]), n_jobs=-1)\n",
      "Got the result from ./1/train/filtrations/4/HeightFiltrartion_1_-1/gray/diagrams.npy\n",
      "Applying Scaler to persistence diagrams.\n",
      "Got the result from ./1/train/filtrations/4/HeightFiltrartion_1_-1/gray/features.npy\n",
      "FiltrationExtractor: processing 1/train/filtrations/4/HeightFiltrartion_1_-1/red, do_fit = False, filtration = HeightFiltration(direction=array([ 1, -1]), n_jobs=-1)\n",
      "Got the result from ./1/train/filtrations/4/HeightFiltrartion_1_-1/red/diagrams.npy\n",
      "Applying Scaler to persistence diagrams.\n",
      "Got the result from ./1/train/filtrations/4/HeightFiltrartion_1_-1/red/features.npy\n",
      "FiltrationExtractor: processing 1/train/filtrations/4/HeightFiltrartion_1_-1/green, do_fit = False, filtration = HeightFiltration(direction=array([ 1, -1]), n_jobs=-1)\n",
      "Got the result from ./1/train/filtrations/4/HeightFiltrartion_1_-1/green/diagrams.npy\n",
      "Applying Scaler to persistence diagrams.\n",
      "Got the result from ./1/train/filtrations/4/HeightFiltrartion_1_-1/green/features.npy\n",
      "FiltrationExtractor: processing 1/train/filtrations/4/HeightFiltrartion_1_-1/blue, do_fit = False, filtration = HeightFiltration(direction=array([ 1, -1]), n_jobs=-1)\n",
      "Got the result from ./1/train/filtrations/4/HeightFiltrartion_1_-1/blue/diagrams.npy\n",
      "Applying Scaler to persistence diagrams.\n",
      "Got the result from ./1/train/filtrations/4/HeightFiltrartion_1_-1/blue/features.npy\n",
      "Applying filtration 31/72: HeightFiltration with d = (1, 0), bin. thr. = 0.4\n",
      "RGB images received. Transforming to grayscale.\n"
     ]
    },
    {
     "name": "stderr",
     "output_type": "stream",
     "text": [
      "rgb2gray: 100%|██████████| 26640/26640 [00:06<00:00, 3851.08it/s]\n"
     ]
    },
    {
     "name": "stdout",
     "output_type": "stream",
     "text": [
      "FiltrationExtractor: processing 1/train/filtrations/4/HeightFiltrartion_1_0/gray, do_fit = False, filtration = HeightFiltration(direction=array([1, 0]), n_jobs=-1)\n",
      "Got the result from ./1/train/filtrations/4/HeightFiltrartion_1_0/gray/diagrams.npy\n",
      "Applying Scaler to persistence diagrams.\n",
      "Got the result from ./1/train/filtrations/4/HeightFiltrartion_1_0/gray/features.npy\n",
      "FiltrationExtractor: processing 1/train/filtrations/4/HeightFiltrartion_1_0/red, do_fit = False, filtration = HeightFiltration(direction=array([1, 0]), n_jobs=-1)\n",
      "Got the result from ./1/train/filtrations/4/HeightFiltrartion_1_0/red/diagrams.npy\n",
      "Applying Scaler to persistence diagrams.\n",
      "Got the result from ./1/train/filtrations/4/HeightFiltrartion_1_0/red/features.npy\n",
      "FiltrationExtractor: processing 1/train/filtrations/4/HeightFiltrartion_1_0/green, do_fit = False, filtration = HeightFiltration(direction=array([1, 0]), n_jobs=-1)\n",
      "Got the result from ./1/train/filtrations/4/HeightFiltrartion_1_0/green/diagrams.npy\n",
      "Applying Scaler to persistence diagrams.\n",
      "Got the result from ./1/train/filtrations/4/HeightFiltrartion_1_0/green/features.npy\n",
      "FiltrationExtractor: processing 1/train/filtrations/4/HeightFiltrartion_1_0/blue, do_fit = False, filtration = HeightFiltration(direction=array([1, 0]), n_jobs=-1)\n",
      "Got the result from ./1/train/filtrations/4/HeightFiltrartion_1_0/blue/diagrams.npy\n",
      "Applying Scaler to persistence diagrams.\n",
      "Got the result from ./1/train/filtrations/4/HeightFiltrartion_1_0/blue/features.npy\n",
      "Applying filtration 32/72: HeightFiltration with d = (1, 1), bin. thr. = 0.4\n",
      "RGB images received. Transforming to grayscale.\n"
     ]
    },
    {
     "name": "stderr",
     "output_type": "stream",
     "text": [
      "rgb2gray: 100%|██████████| 26640/26640 [00:07<00:00, 3756.32it/s]\n"
     ]
    },
    {
     "name": "stdout",
     "output_type": "stream",
     "text": [
      "FiltrationExtractor: processing 1/train/filtrations/4/HeightFiltrartion_1_1/gray, do_fit = False, filtration = HeightFiltration(direction=array([1, 1]), n_jobs=-1)\n",
      "Got the result from ./1/train/filtrations/4/HeightFiltrartion_1_1/gray/diagrams.npy\n",
      "Applying Scaler to persistence diagrams.\n",
      "Got the result from ./1/train/filtrations/4/HeightFiltrartion_1_1/gray/features.npy\n",
      "FiltrationExtractor: processing 1/train/filtrations/4/HeightFiltrartion_1_1/red, do_fit = False, filtration = HeightFiltration(direction=array([1, 1]), n_jobs=-1)\n",
      "Got the result from ./1/train/filtrations/4/HeightFiltrartion_1_1/red/diagrams.npy\n",
      "Applying Scaler to persistence diagrams.\n",
      "Got the result from ./1/train/filtrations/4/HeightFiltrartion_1_1/red/features.npy\n",
      "FiltrationExtractor: processing 1/train/filtrations/4/HeightFiltrartion_1_1/green, do_fit = False, filtration = HeightFiltration(direction=array([1, 1]), n_jobs=-1)\n",
      "Got the result from ./1/train/filtrations/4/HeightFiltrartion_1_1/green/diagrams.npy\n",
      "Applying Scaler to persistence diagrams.\n",
      "Got the result from ./1/train/filtrations/4/HeightFiltrartion_1_1/green/features.npy\n",
      "FiltrationExtractor: processing 1/train/filtrations/4/HeightFiltrartion_1_1/blue, do_fit = False, filtration = HeightFiltration(direction=array([1, 1]), n_jobs=-1)\n",
      "Got the result from ./1/train/filtrations/4/HeightFiltrartion_1_1/blue/diagrams.npy\n",
      "Applying Scaler to persistence diagrams.\n",
      "Got the result from ./1/train/filtrations/4/HeightFiltrartion_1_1/blue/features.npy\n",
      "Applying filtration 33/72: RadialFiltration with c = (12, 12), bin. thr. = 0.4\n",
      "RGB images received. Transforming to grayscale.\n"
     ]
    },
    {
     "name": "stderr",
     "output_type": "stream",
     "text": [
      "rgb2gray: 100%|██████████| 26640/26640 [00:07<00:00, 3732.89it/s]\n"
     ]
    },
    {
     "name": "stdout",
     "output_type": "stream",
     "text": [
      "FiltrationExtractor: processing 1/train/filtrations/4/RadialFiltration_12_12/gray, do_fit = False, filtration = RadialFiltration(center=array([12, 12]), n_jobs=-1)\n",
      "Got the result from ./1/train/filtrations/4/RadialFiltration_12_12/gray/diagrams.npy\n",
      "Applying Scaler to persistence diagrams.\n",
      "Got the result from ./1/train/filtrations/4/RadialFiltration_12_12/gray/features.npy\n",
      "FiltrationExtractor: processing 1/train/filtrations/4/RadialFiltration_12_12/red, do_fit = False, filtration = RadialFiltration(center=array([12, 12]), n_jobs=-1)\n",
      "Got the result from ./1/train/filtrations/4/RadialFiltration_12_12/red/diagrams.npy\n",
      "Applying Scaler to persistence diagrams.\n",
      "Got the result from ./1/train/filtrations/4/RadialFiltration_12_12/red/features.npy\n",
      "FiltrationExtractor: processing 1/train/filtrations/4/RadialFiltration_12_12/green, do_fit = False, filtration = RadialFiltration(center=array([12, 12]), n_jobs=-1)\n",
      "Got the result from ./1/train/filtrations/4/RadialFiltration_12_12/green/diagrams.npy\n",
      "Applying Scaler to persistence diagrams.\n",
      "Got the result from ./1/train/filtrations/4/RadialFiltration_12_12/green/features.npy\n",
      "FiltrationExtractor: processing 1/train/filtrations/4/RadialFiltration_12_12/blue, do_fit = False, filtration = RadialFiltration(center=array([12, 12]), n_jobs=-1)\n",
      "Got the result from ./1/train/filtrations/4/RadialFiltration_12_12/blue/diagrams.npy\n",
      "Applying Scaler to persistence diagrams.\n",
      "Got the result from ./1/train/filtrations/4/RadialFiltration_12_12/blue/features.npy\n",
      "Applying filtration 34/72: RadialFiltration with c = (12, 25), bin. thr. = 0.4\n",
      "RGB images received. Transforming to grayscale.\n"
     ]
    },
    {
     "name": "stderr",
     "output_type": "stream",
     "text": [
      "rgb2gray: 100%|██████████| 26640/26640 [00:07<00:00, 3761.83it/s]\n"
     ]
    },
    {
     "name": "stdout",
     "output_type": "stream",
     "text": [
      "FiltrationExtractor: processing 1/train/filtrations/4/RadialFiltration_12_25/gray, do_fit = False, filtration = RadialFiltration(center=array([12, 25]), n_jobs=-1)\n",
      "Got the result from ./1/train/filtrations/4/RadialFiltration_12_25/gray/diagrams.npy\n",
      "Applying Scaler to persistence diagrams.\n",
      "Got the result from ./1/train/filtrations/4/RadialFiltration_12_25/gray/features.npy\n",
      "FiltrationExtractor: processing 1/train/filtrations/4/RadialFiltration_12_25/red, do_fit = False, filtration = RadialFiltration(center=array([12, 25]), n_jobs=-1)\n",
      "Got the result from ./1/train/filtrations/4/RadialFiltration_12_25/red/diagrams.npy\n",
      "Applying Scaler to persistence diagrams.\n",
      "Got the result from ./1/train/filtrations/4/RadialFiltration_12_25/red/features.npy\n",
      "FiltrationExtractor: processing 1/train/filtrations/4/RadialFiltration_12_25/green, do_fit = False, filtration = RadialFiltration(center=array([12, 25]), n_jobs=-1)\n",
      "Got the result from ./1/train/filtrations/4/RadialFiltration_12_25/green/diagrams.npy\n",
      "Applying Scaler to persistence diagrams.\n",
      "Got the result from ./1/train/filtrations/4/RadialFiltration_12_25/green/features.npy\n",
      "FiltrationExtractor: processing 1/train/filtrations/4/RadialFiltration_12_25/blue, do_fit = False, filtration = RadialFiltration(center=array([12, 25]), n_jobs=-1)\n",
      "Got the result from ./1/train/filtrations/4/RadialFiltration_12_25/blue/diagrams.npy\n",
      "Applying Scaler to persistence diagrams.\n",
      "Got the result from ./1/train/filtrations/4/RadialFiltration_12_25/blue/features.npy\n",
      "Applying filtration 35/72: RadialFiltration with c = (12, 38), bin. thr. = 0.4\n",
      "RGB images received. Transforming to grayscale.\n"
     ]
    },
    {
     "name": "stderr",
     "output_type": "stream",
     "text": [
      "rgb2gray: 100%|██████████| 26640/26640 [00:07<00:00, 3805.43it/s]\n"
     ]
    },
    {
     "name": "stdout",
     "output_type": "stream",
     "text": [
      "FiltrationExtractor: processing 1/train/filtrations/4/RadialFiltration_12_38/gray, do_fit = False, filtration = RadialFiltration(center=array([12, 38]), n_jobs=-1)\n",
      "Got the result from ./1/train/filtrations/4/RadialFiltration_12_38/gray/diagrams.npy\n",
      "Applying Scaler to persistence diagrams.\n",
      "Got the result from ./1/train/filtrations/4/RadialFiltration_12_38/gray/features.npy\n",
      "FiltrationExtractor: processing 1/train/filtrations/4/RadialFiltration_12_38/red, do_fit = False, filtration = RadialFiltration(center=array([12, 38]), n_jobs=-1)\n",
      "Got the result from ./1/train/filtrations/4/RadialFiltration_12_38/red/diagrams.npy\n",
      "Applying Scaler to persistence diagrams.\n",
      "Got the result from ./1/train/filtrations/4/RadialFiltration_12_38/red/features.npy\n",
      "FiltrationExtractor: processing 1/train/filtrations/4/RadialFiltration_12_38/green, do_fit = False, filtration = RadialFiltration(center=array([12, 38]), n_jobs=-1)\n",
      "Got the result from ./1/train/filtrations/4/RadialFiltration_12_38/green/diagrams.npy\n",
      "Applying Scaler to persistence diagrams.\n",
      "Got the result from ./1/train/filtrations/4/RadialFiltration_12_38/green/features.npy\n",
      "FiltrationExtractor: processing 1/train/filtrations/4/RadialFiltration_12_38/blue, do_fit = False, filtration = RadialFiltration(center=array([12, 38]), n_jobs=-1)\n",
      "Got the result from ./1/train/filtrations/4/RadialFiltration_12_38/blue/diagrams.npy\n",
      "Applying Scaler to persistence diagrams.\n",
      "Got the result from ./1/train/filtrations/4/RadialFiltration_12_38/blue/features.npy\n",
      "Applying filtration 36/72: RadialFiltration with c = (12, 51), bin. thr. = 0.4\n",
      "RGB images received. Transforming to grayscale.\n"
     ]
    },
    {
     "name": "stderr",
     "output_type": "stream",
     "text": [
      "rgb2gray: 100%|██████████| 26640/26640 [00:07<00:00, 3760.85it/s]\n"
     ]
    },
    {
     "name": "stdout",
     "output_type": "stream",
     "text": [
      "FiltrationExtractor: processing 1/train/filtrations/4/RadialFiltration_12_51/gray, do_fit = False, filtration = RadialFiltration(center=array([12, 51]), n_jobs=-1)\n",
      "Got the result from ./1/train/filtrations/4/RadialFiltration_12_51/gray/diagrams.npy\n",
      "Applying Scaler to persistence diagrams.\n",
      "Got the result from ./1/train/filtrations/4/RadialFiltration_12_51/gray/features.npy\n",
      "FiltrationExtractor: processing 1/train/filtrations/4/RadialFiltration_12_51/red, do_fit = False, filtration = RadialFiltration(center=array([12, 51]), n_jobs=-1)\n",
      "Got the result from ./1/train/filtrations/4/RadialFiltration_12_51/red/diagrams.npy\n",
      "Applying Scaler to persistence diagrams.\n",
      "Got the result from ./1/train/filtrations/4/RadialFiltration_12_51/red/features.npy\n",
      "FiltrationExtractor: processing 1/train/filtrations/4/RadialFiltration_12_51/green, do_fit = False, filtration = RadialFiltration(center=array([12, 51]), n_jobs=-1)\n",
      "Got the result from ./1/train/filtrations/4/RadialFiltration_12_51/green/diagrams.npy\n",
      "Applying Scaler to persistence diagrams.\n",
      "Got the result from ./1/train/filtrations/4/RadialFiltration_12_51/green/features.npy\n",
      "FiltrationExtractor: processing 1/train/filtrations/4/RadialFiltration_12_51/blue, do_fit = False, filtration = RadialFiltration(center=array([12, 51]), n_jobs=-1)\n",
      "Got the result from ./1/train/filtrations/4/RadialFiltration_12_51/blue/diagrams.npy\n",
      "Applying Scaler to persistence diagrams.\n",
      "Got the result from ./1/train/filtrations/4/RadialFiltration_12_51/blue/features.npy\n",
      "Applying filtration 37/72: RadialFiltration with c = (25, 12), bin. thr. = 0.4\n",
      "RGB images received. Transforming to grayscale.\n"
     ]
    },
    {
     "name": "stderr",
     "output_type": "stream",
     "text": [
      "rgb2gray: 100%|██████████| 26640/26640 [00:07<00:00, 3718.84it/s]\n"
     ]
    },
    {
     "name": "stdout",
     "output_type": "stream",
     "text": [
      "FiltrationExtractor: processing 1/train/filtrations/4/RadialFiltration_25_12/gray, do_fit = False, filtration = RadialFiltration(center=array([25, 12]), n_jobs=-1)\n",
      "Got the result from ./1/train/filtrations/4/RadialFiltration_25_12/gray/diagrams.npy\n",
      "Applying Scaler to persistence diagrams.\n",
      "Got the result from ./1/train/filtrations/4/RadialFiltration_25_12/gray/features.npy\n",
      "FiltrationExtractor: processing 1/train/filtrations/4/RadialFiltration_25_12/red, do_fit = False, filtration = RadialFiltration(center=array([25, 12]), n_jobs=-1)\n",
      "Got the result from ./1/train/filtrations/4/RadialFiltration_25_12/red/diagrams.npy\n",
      "Applying Scaler to persistence diagrams.\n",
      "Got the result from ./1/train/filtrations/4/RadialFiltration_25_12/red/features.npy\n",
      "FiltrationExtractor: processing 1/train/filtrations/4/RadialFiltration_25_12/green, do_fit = False, filtration = RadialFiltration(center=array([25, 12]), n_jobs=-1)\n",
      "Got the result from ./1/train/filtrations/4/RadialFiltration_25_12/green/diagrams.npy\n",
      "Applying Scaler to persistence diagrams.\n",
      "Got the result from ./1/train/filtrations/4/RadialFiltration_25_12/green/features.npy\n",
      "FiltrationExtractor: processing 1/train/filtrations/4/RadialFiltration_25_12/blue, do_fit = False, filtration = RadialFiltration(center=array([25, 12]), n_jobs=-1)\n",
      "Got the result from ./1/train/filtrations/4/RadialFiltration_25_12/blue/diagrams.npy\n",
      "Applying Scaler to persistence diagrams.\n",
      "Got the result from ./1/train/filtrations/4/RadialFiltration_25_12/blue/features.npy\n",
      "Applying filtration 38/72: RadialFiltration with c = (25, 25), bin. thr. = 0.4\n",
      "RGB images received. Transforming to grayscale.\n"
     ]
    },
    {
     "name": "stderr",
     "output_type": "stream",
     "text": [
      "rgb2gray: 100%|██████████| 26640/26640 [00:06<00:00, 3993.67it/s]\n"
     ]
    },
    {
     "name": "stdout",
     "output_type": "stream",
     "text": [
      "FiltrationExtractor: processing 1/train/filtrations/4/RadialFiltration_25_25/gray, do_fit = False, filtration = RadialFiltration(center=array([25, 25]), n_jobs=-1)\n",
      "Got the result from ./1/train/filtrations/4/RadialFiltration_25_25/gray/diagrams.npy\n",
      "Applying Scaler to persistence diagrams.\n",
      "Got the result from ./1/train/filtrations/4/RadialFiltration_25_25/gray/features.npy\n",
      "FiltrationExtractor: processing 1/train/filtrations/4/RadialFiltration_25_25/red, do_fit = False, filtration = RadialFiltration(center=array([25, 25]), n_jobs=-1)\n",
      "Got the result from ./1/train/filtrations/4/RadialFiltration_25_25/red/diagrams.npy\n",
      "Applying Scaler to persistence diagrams.\n",
      "Got the result from ./1/train/filtrations/4/RadialFiltration_25_25/red/features.npy\n",
      "FiltrationExtractor: processing 1/train/filtrations/4/RadialFiltration_25_25/green, do_fit = False, filtration = RadialFiltration(center=array([25, 25]), n_jobs=-1)\n",
      "Got the result from ./1/train/filtrations/4/RadialFiltration_25_25/green/diagrams.npy\n",
      "Applying Scaler to persistence diagrams.\n",
      "Got the result from ./1/train/filtrations/4/RadialFiltration_25_25/green/features.npy\n",
      "FiltrationExtractor: processing 1/train/filtrations/4/RadialFiltration_25_25/blue, do_fit = False, filtration = RadialFiltration(center=array([25, 25]), n_jobs=-1)\n",
      "Got the result from ./1/train/filtrations/4/RadialFiltration_25_25/blue/diagrams.npy\n",
      "Applying Scaler to persistence diagrams.\n",
      "Got the result from ./1/train/filtrations/4/RadialFiltration_25_25/blue/features.npy\n",
      "Applying filtration 39/72: RadialFiltration with c = (25, 38), bin. thr. = 0.4\n",
      "RGB images received. Transforming to grayscale.\n"
     ]
    },
    {
     "name": "stderr",
     "output_type": "stream",
     "text": [
      "rgb2gray: 100%|██████████| 26640/26640 [00:05<00:00, 4462.42it/s]\n"
     ]
    },
    {
     "name": "stdout",
     "output_type": "stream",
     "text": [
      "FiltrationExtractor: processing 1/train/filtrations/4/RadialFiltration_25_38/gray, do_fit = False, filtration = RadialFiltration(center=array([25, 38]), n_jobs=-1)\n",
      "Got the result from ./1/train/filtrations/4/RadialFiltration_25_38/gray/diagrams.npy\n",
      "Applying Scaler to persistence diagrams.\n",
      "Got the result from ./1/train/filtrations/4/RadialFiltration_25_38/gray/features.npy\n",
      "FiltrationExtractor: processing 1/train/filtrations/4/RadialFiltration_25_38/red, do_fit = False, filtration = RadialFiltration(center=array([25, 38]), n_jobs=-1)\n",
      "Got the result from ./1/train/filtrations/4/RadialFiltration_25_38/red/diagrams.npy\n",
      "Applying Scaler to persistence diagrams.\n",
      "Got the result from ./1/train/filtrations/4/RadialFiltration_25_38/red/features.npy\n",
      "FiltrationExtractor: processing 1/train/filtrations/4/RadialFiltration_25_38/green, do_fit = False, filtration = RadialFiltration(center=array([25, 38]), n_jobs=-1)\n",
      "Got the result from ./1/train/filtrations/4/RadialFiltration_25_38/green/diagrams.npy\n",
      "Applying Scaler to persistence diagrams.\n",
      "Got the result from ./1/train/filtrations/4/RadialFiltration_25_38/green/features.npy\n",
      "FiltrationExtractor: processing 1/train/filtrations/4/RadialFiltration_25_38/blue, do_fit = False, filtration = RadialFiltration(center=array([25, 38]), n_jobs=-1)\n",
      "Got the result from ./1/train/filtrations/4/RadialFiltration_25_38/blue/diagrams.npy\n",
      "Applying Scaler to persistence diagrams.\n",
      "Got the result from ./1/train/filtrations/4/RadialFiltration_25_38/blue/features.npy\n",
      "Applying filtration 40/72: RadialFiltration with c = (25, 51), bin. thr. = 0.4\n",
      "RGB images received. Transforming to grayscale.\n"
     ]
    },
    {
     "name": "stderr",
     "output_type": "stream",
     "text": [
      "rgb2gray: 100%|██████████| 26640/26640 [00:06<00:00, 4402.68it/s]\n"
     ]
    },
    {
     "name": "stdout",
     "output_type": "stream",
     "text": [
      "FiltrationExtractor: processing 1/train/filtrations/4/RadialFiltration_25_51/gray, do_fit = False, filtration = RadialFiltration(center=array([25, 51]), n_jobs=-1)\n",
      "Got the result from ./1/train/filtrations/4/RadialFiltration_25_51/gray/diagrams.npy\n",
      "Applying Scaler to persistence diagrams.\n",
      "Got the result from ./1/train/filtrations/4/RadialFiltration_25_51/gray/features.npy\n",
      "FiltrationExtractor: processing 1/train/filtrations/4/RadialFiltration_25_51/red, do_fit = False, filtration = RadialFiltration(center=array([25, 51]), n_jobs=-1)\n",
      "Got the result from ./1/train/filtrations/4/RadialFiltration_25_51/red/diagrams.npy\n",
      "Applying Scaler to persistence diagrams.\n",
      "Got the result from ./1/train/filtrations/4/RadialFiltration_25_51/red/features.npy\n",
      "FiltrationExtractor: processing 1/train/filtrations/4/RadialFiltration_25_51/green, do_fit = False, filtration = RadialFiltration(center=array([25, 51]), n_jobs=-1)\n",
      "Got the result from ./1/train/filtrations/4/RadialFiltration_25_51/green/diagrams.npy\n",
      "Applying Scaler to persistence diagrams.\n",
      "Got the result from ./1/train/filtrations/4/RadialFiltration_25_51/green/features.npy\n",
      "FiltrationExtractor: processing 1/train/filtrations/4/RadialFiltration_25_51/blue, do_fit = False, filtration = RadialFiltration(center=array([25, 51]), n_jobs=-1)\n",
      "Got the result from ./1/train/filtrations/4/RadialFiltration_25_51/blue/diagrams.npy\n",
      "Applying Scaler to persistence diagrams.\n",
      "Got the result from ./1/train/filtrations/4/RadialFiltration_25_51/blue/features.npy\n",
      "Applying filtration 41/72: RadialFiltration with c = (38, 12), bin. thr. = 0.4\n",
      "RGB images received. Transforming to grayscale.\n"
     ]
    },
    {
     "name": "stderr",
     "output_type": "stream",
     "text": [
      "rgb2gray: 100%|██████████| 26640/26640 [00:05<00:00, 4496.26it/s]\n"
     ]
    },
    {
     "name": "stdout",
     "output_type": "stream",
     "text": [
      "FiltrationExtractor: processing 1/train/filtrations/4/RadialFiltration_38_12/gray, do_fit = False, filtration = RadialFiltration(center=array([38, 12]), n_jobs=-1)\n",
      "Got the result from ./1/train/filtrations/4/RadialFiltration_38_12/gray/diagrams.npy\n",
      "Applying Scaler to persistence diagrams.\n",
      "Got the result from ./1/train/filtrations/4/RadialFiltration_38_12/gray/features.npy\n",
      "FiltrationExtractor: processing 1/train/filtrations/4/RadialFiltration_38_12/red, do_fit = False, filtration = RadialFiltration(center=array([38, 12]), n_jobs=-1)\n",
      "Got the result from ./1/train/filtrations/4/RadialFiltration_38_12/red/diagrams.npy\n",
      "Applying Scaler to persistence diagrams.\n",
      "Got the result from ./1/train/filtrations/4/RadialFiltration_38_12/red/features.npy\n",
      "FiltrationExtractor: processing 1/train/filtrations/4/RadialFiltration_38_12/green, do_fit = False, filtration = RadialFiltration(center=array([38, 12]), n_jobs=-1)\n",
      "Got the result from ./1/train/filtrations/4/RadialFiltration_38_12/green/diagrams.npy\n",
      "Applying Scaler to persistence diagrams.\n",
      "Got the result from ./1/train/filtrations/4/RadialFiltration_38_12/green/features.npy\n",
      "FiltrationExtractor: processing 1/train/filtrations/4/RadialFiltration_38_12/blue, do_fit = False, filtration = RadialFiltration(center=array([38, 12]), n_jobs=-1)\n",
      "Got the result from ./1/train/filtrations/4/RadialFiltration_38_12/blue/diagrams.npy\n",
      "Applying Scaler to persistence diagrams.\n",
      "Got the result from ./1/train/filtrations/4/RadialFiltration_38_12/blue/features.npy\n",
      "Applying filtration 42/72: RadialFiltration with c = (38, 25), bin. thr. = 0.4\n",
      "RGB images received. Transforming to grayscale.\n"
     ]
    },
    {
     "name": "stderr",
     "output_type": "stream",
     "text": [
      "rgb2gray: 100%|██████████| 26640/26640 [00:06<00:00, 4377.69it/s]\n"
     ]
    },
    {
     "name": "stdout",
     "output_type": "stream",
     "text": [
      "FiltrationExtractor: processing 1/train/filtrations/4/RadialFiltration_38_25/gray, do_fit = False, filtration = RadialFiltration(center=array([38, 25]), n_jobs=-1)\n",
      "Got the result from ./1/train/filtrations/4/RadialFiltration_38_25/gray/diagrams.npy\n",
      "Applying Scaler to persistence diagrams.\n",
      "Got the result from ./1/train/filtrations/4/RadialFiltration_38_25/gray/features.npy\n",
      "FiltrationExtractor: processing 1/train/filtrations/4/RadialFiltration_38_25/red, do_fit = False, filtration = RadialFiltration(center=array([38, 25]), n_jobs=-1)\n",
      "Got the result from ./1/train/filtrations/4/RadialFiltration_38_25/red/diagrams.npy\n",
      "Applying Scaler to persistence diagrams.\n",
      "Got the result from ./1/train/filtrations/4/RadialFiltration_38_25/red/features.npy\n",
      "FiltrationExtractor: processing 1/train/filtrations/4/RadialFiltration_38_25/green, do_fit = False, filtration = RadialFiltration(center=array([38, 25]), n_jobs=-1)\n",
      "Got the result from ./1/train/filtrations/4/RadialFiltration_38_25/green/diagrams.npy\n",
      "Applying Scaler to persistence diagrams.\n",
      "Got the result from ./1/train/filtrations/4/RadialFiltration_38_25/green/features.npy\n",
      "FiltrationExtractor: processing 1/train/filtrations/4/RadialFiltration_38_25/blue, do_fit = False, filtration = RadialFiltration(center=array([38, 25]), n_jobs=-1)\n",
      "Got the result from ./1/train/filtrations/4/RadialFiltration_38_25/blue/diagrams.npy\n",
      "Applying Scaler to persistence diagrams.\n",
      "Got the result from ./1/train/filtrations/4/RadialFiltration_38_25/blue/features.npy\n",
      "Applying filtration 43/72: RadialFiltration with c = (38, 38), bin. thr. = 0.4\n",
      "RGB images received. Transforming to grayscale.\n"
     ]
    },
    {
     "name": "stderr",
     "output_type": "stream",
     "text": [
      "rgb2gray: 100%|██████████| 26640/26640 [00:06<00:00, 4431.48it/s]\n"
     ]
    },
    {
     "name": "stdout",
     "output_type": "stream",
     "text": [
      "FiltrationExtractor: processing 1/train/filtrations/4/RadialFiltration_38_38/gray, do_fit = False, filtration = RadialFiltration(center=array([38, 38]), n_jobs=-1)\n",
      "Got the result from ./1/train/filtrations/4/RadialFiltration_38_38/gray/diagrams.npy\n",
      "Applying Scaler to persistence diagrams.\n",
      "Got the result from ./1/train/filtrations/4/RadialFiltration_38_38/gray/features.npy\n",
      "FiltrationExtractor: processing 1/train/filtrations/4/RadialFiltration_38_38/red, do_fit = False, filtration = RadialFiltration(center=array([38, 38]), n_jobs=-1)\n",
      "Got the result from ./1/train/filtrations/4/RadialFiltration_38_38/red/diagrams.npy\n",
      "Applying Scaler to persistence diagrams.\n",
      "Got the result from ./1/train/filtrations/4/RadialFiltration_38_38/red/features.npy\n",
      "FiltrationExtractor: processing 1/train/filtrations/4/RadialFiltration_38_38/green, do_fit = False, filtration = RadialFiltration(center=array([38, 38]), n_jobs=-1)\n",
      "Got the result from ./1/train/filtrations/4/RadialFiltration_38_38/green/diagrams.npy\n",
      "Applying Scaler to persistence diagrams.\n",
      "Got the result from ./1/train/filtrations/4/RadialFiltration_38_38/green/features.npy\n",
      "FiltrationExtractor: processing 1/train/filtrations/4/RadialFiltration_38_38/blue, do_fit = False, filtration = RadialFiltration(center=array([38, 38]), n_jobs=-1)\n",
      "Got the result from ./1/train/filtrations/4/RadialFiltration_38_38/blue/diagrams.npy\n",
      "Applying Scaler to persistence diagrams.\n",
      "Got the result from ./1/train/filtrations/4/RadialFiltration_38_38/blue/features.npy\n",
      "Applying filtration 44/72: RadialFiltration with c = (38, 51), bin. thr. = 0.4\n",
      "RGB images received. Transforming to grayscale.\n"
     ]
    },
    {
     "name": "stderr",
     "output_type": "stream",
     "text": [
      "rgb2gray: 100%|██████████| 26640/26640 [00:05<00:00, 4509.63it/s]\n"
     ]
    },
    {
     "name": "stdout",
     "output_type": "stream",
     "text": [
      "FiltrationExtractor: processing 1/train/filtrations/4/RadialFiltration_38_51/gray, do_fit = False, filtration = RadialFiltration(center=array([38, 51]), n_jobs=-1)\n",
      "Got the result from ./1/train/filtrations/4/RadialFiltration_38_51/gray/diagrams.npy\n",
      "Applying Scaler to persistence diagrams.\n",
      "Got the result from ./1/train/filtrations/4/RadialFiltration_38_51/gray/features.npy\n",
      "FiltrationExtractor: processing 1/train/filtrations/4/RadialFiltration_38_51/red, do_fit = False, filtration = RadialFiltration(center=array([38, 51]), n_jobs=-1)\n",
      "Got the result from ./1/train/filtrations/4/RadialFiltration_38_51/red/diagrams.npy\n",
      "Applying Scaler to persistence diagrams.\n",
      "Got the result from ./1/train/filtrations/4/RadialFiltration_38_51/red/features.npy\n",
      "FiltrationExtractor: processing 1/train/filtrations/4/RadialFiltration_38_51/green, do_fit = False, filtration = RadialFiltration(center=array([38, 51]), n_jobs=-1)\n",
      "Got the result from ./1/train/filtrations/4/RadialFiltration_38_51/green/diagrams.npy\n",
      "Applying Scaler to persistence diagrams.\n",
      "Got the result from ./1/train/filtrations/4/RadialFiltration_38_51/green/features.npy\n",
      "FiltrationExtractor: processing 1/train/filtrations/4/RadialFiltration_38_51/blue, do_fit = False, filtration = RadialFiltration(center=array([38, 51]), n_jobs=-1)\n",
      "Got the result from ./1/train/filtrations/4/RadialFiltration_38_51/blue/diagrams.npy\n",
      "Applying Scaler to persistence diagrams.\n",
      "Got the result from ./1/train/filtrations/4/RadialFiltration_38_51/blue/features.npy\n",
      "Applying filtration 45/72: RadialFiltration with c = (51, 12), bin. thr. = 0.4\n",
      "RGB images received. Transforming to grayscale.\n"
     ]
    },
    {
     "name": "stderr",
     "output_type": "stream",
     "text": [
      "rgb2gray: 100%|██████████| 26640/26640 [00:06<00:00, 4430.73it/s]\n"
     ]
    },
    {
     "name": "stdout",
     "output_type": "stream",
     "text": [
      "FiltrationExtractor: processing 1/train/filtrations/4/RadialFiltration_51_12/gray, do_fit = False, filtration = RadialFiltration(center=array([51, 12]), n_jobs=-1)\n",
      "Got the result from ./1/train/filtrations/4/RadialFiltration_51_12/gray/diagrams.npy\n",
      "Applying Scaler to persistence diagrams.\n",
      "Got the result from ./1/train/filtrations/4/RadialFiltration_51_12/gray/features.npy\n",
      "FiltrationExtractor: processing 1/train/filtrations/4/RadialFiltration_51_12/red, do_fit = False, filtration = RadialFiltration(center=array([51, 12]), n_jobs=-1)\n",
      "Got the result from ./1/train/filtrations/4/RadialFiltration_51_12/red/diagrams.npy\n",
      "Applying Scaler to persistence diagrams.\n",
      "Got the result from ./1/train/filtrations/4/RadialFiltration_51_12/red/features.npy\n",
      "FiltrationExtractor: processing 1/train/filtrations/4/RadialFiltration_51_12/green, do_fit = False, filtration = RadialFiltration(center=array([51, 12]), n_jobs=-1)\n",
      "Got the result from ./1/train/filtrations/4/RadialFiltration_51_12/green/diagrams.npy\n",
      "Applying Scaler to persistence diagrams.\n",
      "Got the result from ./1/train/filtrations/4/RadialFiltration_51_12/green/features.npy\n",
      "FiltrationExtractor: processing 1/train/filtrations/4/RadialFiltration_51_12/blue, do_fit = False, filtration = RadialFiltration(center=array([51, 12]), n_jobs=-1)\n",
      "Got the result from ./1/train/filtrations/4/RadialFiltration_51_12/blue/diagrams.npy\n",
      "Applying Scaler to persistence diagrams.\n",
      "Got the result from ./1/train/filtrations/4/RadialFiltration_51_12/blue/features.npy\n",
      "Applying filtration 46/72: RadialFiltration with c = (51, 25), bin. thr. = 0.4\n",
      "RGB images received. Transforming to grayscale.\n"
     ]
    },
    {
     "name": "stderr",
     "output_type": "stream",
     "text": [
      "rgb2gray: 100%|██████████| 26640/26640 [00:05<00:00, 4502.98it/s]\n"
     ]
    },
    {
     "name": "stdout",
     "output_type": "stream",
     "text": [
      "FiltrationExtractor: processing 1/train/filtrations/4/RadialFiltration_51_25/gray, do_fit = False, filtration = RadialFiltration(center=array([51, 25]), n_jobs=-1)\n",
      "Got the result from ./1/train/filtrations/4/RadialFiltration_51_25/gray/diagrams.npy\n",
      "Applying Scaler to persistence diagrams.\n",
      "Got the result from ./1/train/filtrations/4/RadialFiltration_51_25/gray/features.npy\n",
      "FiltrationExtractor: processing 1/train/filtrations/4/RadialFiltration_51_25/red, do_fit = False, filtration = RadialFiltration(center=array([51, 25]), n_jobs=-1)\n",
      "Got the result from ./1/train/filtrations/4/RadialFiltration_51_25/red/diagrams.npy\n",
      "Applying Scaler to persistence diagrams.\n",
      "Got the result from ./1/train/filtrations/4/RadialFiltration_51_25/red/features.npy\n",
      "FiltrationExtractor: processing 1/train/filtrations/4/RadialFiltration_51_25/green, do_fit = False, filtration = RadialFiltration(center=array([51, 25]), n_jobs=-1)\n",
      "Got the result from ./1/train/filtrations/4/RadialFiltration_51_25/green/diagrams.npy\n",
      "Applying Scaler to persistence diagrams.\n",
      "Got the result from ./1/train/filtrations/4/RadialFiltration_51_25/green/features.npy\n",
      "FiltrationExtractor: processing 1/train/filtrations/4/RadialFiltration_51_25/blue, do_fit = False, filtration = RadialFiltration(center=array([51, 25]), n_jobs=-1)\n",
      "Got the result from ./1/train/filtrations/4/RadialFiltration_51_25/blue/diagrams.npy\n",
      "Applying Scaler to persistence diagrams.\n",
      "Got the result from ./1/train/filtrations/4/RadialFiltration_51_25/blue/features.npy\n",
      "Applying filtration 47/72: RadialFiltration with c = (51, 38), bin. thr. = 0.4\n",
      "RGB images received. Transforming to grayscale.\n"
     ]
    },
    {
     "name": "stderr",
     "output_type": "stream",
     "text": [
      "rgb2gray: 100%|██████████| 26640/26640 [00:06<00:00, 4438.82it/s]\n"
     ]
    },
    {
     "name": "stdout",
     "output_type": "stream",
     "text": [
      "FiltrationExtractor: processing 1/train/filtrations/4/RadialFiltration_51_38/gray, do_fit = False, filtration = RadialFiltration(center=array([51, 38]), n_jobs=-1)\n",
      "Got the result from ./1/train/filtrations/4/RadialFiltration_51_38/gray/diagrams.npy\n",
      "Applying Scaler to persistence diagrams.\n",
      "Got the result from ./1/train/filtrations/4/RadialFiltration_51_38/gray/features.npy\n",
      "FiltrationExtractor: processing 1/train/filtrations/4/RadialFiltration_51_38/red, do_fit = False, filtration = RadialFiltration(center=array([51, 38]), n_jobs=-1)\n",
      "Got the result from ./1/train/filtrations/4/RadialFiltration_51_38/red/diagrams.npy\n",
      "Applying Scaler to persistence diagrams.\n",
      "Got the result from ./1/train/filtrations/4/RadialFiltration_51_38/red/features.npy\n",
      "FiltrationExtractor: processing 1/train/filtrations/4/RadialFiltration_51_38/green, do_fit = False, filtration = RadialFiltration(center=array([51, 38]), n_jobs=-1)\n",
      "Got the result from ./1/train/filtrations/4/RadialFiltration_51_38/green/diagrams.npy\n",
      "Applying Scaler to persistence diagrams.\n",
      "Got the result from ./1/train/filtrations/4/RadialFiltration_51_38/green/features.npy\n",
      "FiltrationExtractor: processing 1/train/filtrations/4/RadialFiltration_51_38/blue, do_fit = False, filtration = RadialFiltration(center=array([51, 38]), n_jobs=-1)\n",
      "Got the result from ./1/train/filtrations/4/RadialFiltration_51_38/blue/diagrams.npy\n",
      "Applying Scaler to persistence diagrams.\n",
      "Got the result from ./1/train/filtrations/4/RadialFiltration_51_38/blue/features.npy\n",
      "Applying filtration 48/72: RadialFiltration with c = (51, 51), bin. thr. = 0.4\n",
      "RGB images received. Transforming to grayscale.\n"
     ]
    },
    {
     "name": "stderr",
     "output_type": "stream",
     "text": [
      "rgb2gray: 100%|██████████| 26640/26640 [00:05<00:00, 4494.67it/s]\n"
     ]
    },
    {
     "name": "stdout",
     "output_type": "stream",
     "text": [
      "FiltrationExtractor: processing 1/train/filtrations/4/RadialFiltration_51_51/gray, do_fit = False, filtration = RadialFiltration(center=array([51, 51]), n_jobs=-1)\n",
      "Got the result from ./1/train/filtrations/4/RadialFiltration_51_51/gray/diagrams.npy\n",
      "Applying Scaler to persistence diagrams.\n",
      "Got the result from ./1/train/filtrations/4/RadialFiltration_51_51/gray/features.npy\n",
      "FiltrationExtractor: processing 1/train/filtrations/4/RadialFiltration_51_51/red, do_fit = False, filtration = RadialFiltration(center=array([51, 51]), n_jobs=-1)\n",
      "Got the result from ./1/train/filtrations/4/RadialFiltration_51_51/red/diagrams.npy\n",
      "Applying Scaler to persistence diagrams.\n",
      "Got the result from ./1/train/filtrations/4/RadialFiltration_51_51/red/features.npy\n",
      "FiltrationExtractor: processing 1/train/filtrations/4/RadialFiltration_51_51/green, do_fit = False, filtration = RadialFiltration(center=array([51, 51]), n_jobs=-1)\n",
      "Got the result from ./1/train/filtrations/4/RadialFiltration_51_51/green/diagrams.npy\n",
      "Applying Scaler to persistence diagrams.\n",
      "Got the result from ./1/train/filtrations/4/RadialFiltration_51_51/green/features.npy\n",
      "FiltrationExtractor: processing 1/train/filtrations/4/RadialFiltration_51_51/blue, do_fit = False, filtration = RadialFiltration(center=array([51, 51]), n_jobs=-1)\n",
      "Got the result from ./1/train/filtrations/4/RadialFiltration_51_51/blue/diagrams.npy\n",
      "Applying Scaler to persistence diagrams.\n",
      "Got the result from ./1/train/filtrations/4/RadialFiltration_51_51/blue/features.npy\n",
      "Applying filtration 49/72: HeightFiltration with d = (-1, -1), bin. thr. = 0.6\n",
      "RGB images received. Transforming to grayscale.\n"
     ]
    },
    {
     "name": "stderr",
     "output_type": "stream",
     "text": [
      "rgb2gray: 100%|██████████| 26640/26640 [00:06<00:00, 4427.07it/s]\n"
     ]
    },
    {
     "name": "stdout",
     "output_type": "stream",
     "text": [
      "FiltrationExtractor: processing 1/train/filtrations/6/HeightFiltrartion_-1_-1/gray, do_fit = False, filtration = HeightFiltration(direction=array([-1, -1]), n_jobs=-1)\n",
      "Got the result from ./1/train/filtrations/6/HeightFiltrartion_-1_-1/gray/diagrams.npy\n",
      "Applying Scaler to persistence diagrams.\n",
      "Got the result from ./1/train/filtrations/6/HeightFiltrartion_-1_-1/gray/features.npy\n",
      "FiltrationExtractor: processing 1/train/filtrations/6/HeightFiltrartion_-1_-1/red, do_fit = False, filtration = HeightFiltration(direction=array([-1, -1]), n_jobs=-1)\n",
      "Got the result from ./1/train/filtrations/6/HeightFiltrartion_-1_-1/red/diagrams.npy\n",
      "Applying Scaler to persistence diagrams.\n",
      "Got the result from ./1/train/filtrations/6/HeightFiltrartion_-1_-1/red/features.npy\n",
      "FiltrationExtractor: processing 1/train/filtrations/6/HeightFiltrartion_-1_-1/green, do_fit = False, filtration = HeightFiltration(direction=array([-1, -1]), n_jobs=-1)\n",
      "Got the result from ./1/train/filtrations/6/HeightFiltrartion_-1_-1/green/diagrams.npy\n",
      "Applying Scaler to persistence diagrams.\n",
      "Got the result from ./1/train/filtrations/6/HeightFiltrartion_-1_-1/green/features.npy\n",
      "FiltrationExtractor: processing 1/train/filtrations/6/HeightFiltrartion_-1_-1/blue, do_fit = False, filtration = HeightFiltration(direction=array([-1, -1]), n_jobs=-1)\n",
      "Got the result from ./1/train/filtrations/6/HeightFiltrartion_-1_-1/blue/diagrams.npy\n",
      "Applying Scaler to persistence diagrams.\n",
      "Got the result from ./1/train/filtrations/6/HeightFiltrartion_-1_-1/blue/features.npy\n",
      "Applying filtration 50/72: HeightFiltration with d = (-1, 0), bin. thr. = 0.6\n",
      "RGB images received. Transforming to grayscale.\n"
     ]
    },
    {
     "name": "stderr",
     "output_type": "stream",
     "text": [
      "rgb2gray: 100%|██████████| 26640/26640 [00:06<00:00, 4425.40it/s]\n"
     ]
    },
    {
     "name": "stdout",
     "output_type": "stream",
     "text": [
      "FiltrationExtractor: processing 1/train/filtrations/6/HeightFiltrartion_-1_0/gray, do_fit = False, filtration = HeightFiltration(direction=array([-1,  0]), n_jobs=-1)\n",
      "Got the result from ./1/train/filtrations/6/HeightFiltrartion_-1_0/gray/diagrams.npy\n",
      "Applying Scaler to persistence diagrams.\n",
      "Got the result from ./1/train/filtrations/6/HeightFiltrartion_-1_0/gray/features.npy\n",
      "FiltrationExtractor: processing 1/train/filtrations/6/HeightFiltrartion_-1_0/red, do_fit = False, filtration = HeightFiltration(direction=array([-1,  0]), n_jobs=-1)\n",
      "Got the result from ./1/train/filtrations/6/HeightFiltrartion_-1_0/red/diagrams.npy\n",
      "Applying Scaler to persistence diagrams.\n",
      "Got the result from ./1/train/filtrations/6/HeightFiltrartion_-1_0/red/features.npy\n",
      "FiltrationExtractor: processing 1/train/filtrations/6/HeightFiltrartion_-1_0/green, do_fit = False, filtration = HeightFiltration(direction=array([-1,  0]), n_jobs=-1)\n",
      "Got the result from ./1/train/filtrations/6/HeightFiltrartion_-1_0/green/diagrams.npy\n",
      "Applying Scaler to persistence diagrams.\n",
      "Got the result from ./1/train/filtrations/6/HeightFiltrartion_-1_0/green/features.npy\n",
      "FiltrationExtractor: processing 1/train/filtrations/6/HeightFiltrartion_-1_0/blue, do_fit = False, filtration = HeightFiltration(direction=array([-1,  0]), n_jobs=-1)\n",
      "Got the result from ./1/train/filtrations/6/HeightFiltrartion_-1_0/blue/diagrams.npy\n",
      "Applying Scaler to persistence diagrams.\n",
      "Got the result from ./1/train/filtrations/6/HeightFiltrartion_-1_0/blue/features.npy\n",
      "Applying filtration 51/72: HeightFiltration with d = (-1, 1), bin. thr. = 0.6\n",
      "RGB images received. Transforming to grayscale.\n"
     ]
    },
    {
     "name": "stderr",
     "output_type": "stream",
     "text": [
      "rgb2gray: 100%|██████████| 26640/26640 [00:05<00:00, 4451.45it/s]\n"
     ]
    },
    {
     "name": "stdout",
     "output_type": "stream",
     "text": [
      "FiltrationExtractor: processing 1/train/filtrations/6/HeightFiltrartion_-1_1/gray, do_fit = False, filtration = HeightFiltration(direction=array([-1,  1]), n_jobs=-1)\n",
      "Got the result from ./1/train/filtrations/6/HeightFiltrartion_-1_1/gray/diagrams.npy\n",
      "Applying Scaler to persistence diagrams.\n",
      "Got the result from ./1/train/filtrations/6/HeightFiltrartion_-1_1/gray/features.npy\n",
      "FiltrationExtractor: processing 1/train/filtrations/6/HeightFiltrartion_-1_1/red, do_fit = False, filtration = HeightFiltration(direction=array([-1,  1]), n_jobs=-1)\n",
      "Got the result from ./1/train/filtrations/6/HeightFiltrartion_-1_1/red/diagrams.npy\n",
      "Applying Scaler to persistence diagrams.\n",
      "Got the result from ./1/train/filtrations/6/HeightFiltrartion_-1_1/red/features.npy\n",
      "FiltrationExtractor: processing 1/train/filtrations/6/HeightFiltrartion_-1_1/green, do_fit = False, filtration = HeightFiltration(direction=array([-1,  1]), n_jobs=-1)\n",
      "Got the result from ./1/train/filtrations/6/HeightFiltrartion_-1_1/green/diagrams.npy\n",
      "Applying Scaler to persistence diagrams.\n",
      "Got the result from ./1/train/filtrations/6/HeightFiltrartion_-1_1/green/features.npy\n",
      "FiltrationExtractor: processing 1/train/filtrations/6/HeightFiltrartion_-1_1/blue, do_fit = False, filtration = HeightFiltration(direction=array([-1,  1]), n_jobs=-1)\n",
      "Got the result from ./1/train/filtrations/6/HeightFiltrartion_-1_1/blue/diagrams.npy\n",
      "Applying Scaler to persistence diagrams.\n",
      "Got the result from ./1/train/filtrations/6/HeightFiltrartion_-1_1/blue/features.npy\n",
      "Applying filtration 52/72: HeightFiltration with d = (0, -1), bin. thr. = 0.6\n",
      "RGB images received. Transforming to grayscale.\n"
     ]
    },
    {
     "name": "stderr",
     "output_type": "stream",
     "text": [
      "rgb2gray: 100%|██████████| 26640/26640 [00:06<00:00, 4300.13it/s]\n"
     ]
    },
    {
     "name": "stdout",
     "output_type": "stream",
     "text": [
      "FiltrationExtractor: processing 1/train/filtrations/6/HeightFiltrartion_0_-1/gray, do_fit = False, filtration = HeightFiltration(direction=array([ 0, -1]), n_jobs=-1)\n",
      "Got the result from ./1/train/filtrations/6/HeightFiltrartion_0_-1/gray/diagrams.npy\n",
      "Applying Scaler to persistence diagrams.\n",
      "Got the result from ./1/train/filtrations/6/HeightFiltrartion_0_-1/gray/features.npy\n",
      "FiltrationExtractor: processing 1/train/filtrations/6/HeightFiltrartion_0_-1/red, do_fit = False, filtration = HeightFiltration(direction=array([ 0, -1]), n_jobs=-1)\n",
      "Got the result from ./1/train/filtrations/6/HeightFiltrartion_0_-1/red/diagrams.npy\n",
      "Applying Scaler to persistence diagrams.\n",
      "Got the result from ./1/train/filtrations/6/HeightFiltrartion_0_-1/red/features.npy\n",
      "FiltrationExtractor: processing 1/train/filtrations/6/HeightFiltrartion_0_-1/green, do_fit = False, filtration = HeightFiltration(direction=array([ 0, -1]), n_jobs=-1)\n",
      "Got the result from ./1/train/filtrations/6/HeightFiltrartion_0_-1/green/diagrams.npy\n",
      "Applying Scaler to persistence diagrams.\n",
      "Got the result from ./1/train/filtrations/6/HeightFiltrartion_0_-1/green/features.npy\n",
      "FiltrationExtractor: processing 1/train/filtrations/6/HeightFiltrartion_0_-1/blue, do_fit = False, filtration = HeightFiltration(direction=array([ 0, -1]), n_jobs=-1)\n",
      "Got the result from ./1/train/filtrations/6/HeightFiltrartion_0_-1/blue/diagrams.npy\n",
      "Applying Scaler to persistence diagrams.\n",
      "Got the result from ./1/train/filtrations/6/HeightFiltrartion_0_-1/blue/features.npy\n",
      "Applying filtration 53/72: HeightFiltration with d = (0, 1), bin. thr. = 0.6\n",
      "RGB images received. Transforming to grayscale.\n"
     ]
    },
    {
     "name": "stderr",
     "output_type": "stream",
     "text": [
      "rgb2gray: 100%|██████████| 26640/26640 [00:06<00:00, 4353.13it/s]\n"
     ]
    },
    {
     "name": "stdout",
     "output_type": "stream",
     "text": [
      "FiltrationExtractor: processing 1/train/filtrations/6/HeightFiltrartion_0_1/gray, do_fit = False, filtration = HeightFiltration(direction=array([0, 1]), n_jobs=-1)\n",
      "Got the result from ./1/train/filtrations/6/HeightFiltrartion_0_1/gray/diagrams.npy\n",
      "Applying Scaler to persistence diagrams.\n",
      "Got the result from ./1/train/filtrations/6/HeightFiltrartion_0_1/gray/features.npy\n",
      "FiltrationExtractor: processing 1/train/filtrations/6/HeightFiltrartion_0_1/red, do_fit = False, filtration = HeightFiltration(direction=array([0, 1]), n_jobs=-1)\n",
      "Got the result from ./1/train/filtrations/6/HeightFiltrartion_0_1/red/diagrams.npy\n",
      "Applying Scaler to persistence diagrams.\n",
      "Got the result from ./1/train/filtrations/6/HeightFiltrartion_0_1/red/features.npy\n",
      "FiltrationExtractor: processing 1/train/filtrations/6/HeightFiltrartion_0_1/green, do_fit = False, filtration = HeightFiltration(direction=array([0, 1]), n_jobs=-1)\n",
      "Got the result from ./1/train/filtrations/6/HeightFiltrartion_0_1/green/diagrams.npy\n",
      "Applying Scaler to persistence diagrams.\n",
      "Got the result from ./1/train/filtrations/6/HeightFiltrartion_0_1/green/features.npy\n",
      "FiltrationExtractor: processing 1/train/filtrations/6/HeightFiltrartion_0_1/blue, do_fit = False, filtration = HeightFiltration(direction=array([0, 1]), n_jobs=-1)\n",
      "Got the result from ./1/train/filtrations/6/HeightFiltrartion_0_1/blue/diagrams.npy\n",
      "Applying Scaler to persistence diagrams.\n",
      "Got the result from ./1/train/filtrations/6/HeightFiltrartion_0_1/blue/features.npy\n",
      "Applying filtration 54/72: HeightFiltration with d = (1, -1), bin. thr. = 0.6\n",
      "RGB images received. Transforming to grayscale.\n"
     ]
    },
    {
     "name": "stderr",
     "output_type": "stream",
     "text": [
      "rgb2gray: 100%|██████████| 26640/26640 [00:06<00:00, 4251.87it/s]\n"
     ]
    },
    {
     "name": "stdout",
     "output_type": "stream",
     "text": [
      "FiltrationExtractor: processing 1/train/filtrations/6/HeightFiltrartion_1_-1/gray, do_fit = False, filtration = HeightFiltration(direction=array([ 1, -1]), n_jobs=-1)\n",
      "Got the result from ./1/train/filtrations/6/HeightFiltrartion_1_-1/gray/diagrams.npy\n",
      "Applying Scaler to persistence diagrams.\n",
      "Got the result from ./1/train/filtrations/6/HeightFiltrartion_1_-1/gray/features.npy\n",
      "FiltrationExtractor: processing 1/train/filtrations/6/HeightFiltrartion_1_-1/red, do_fit = False, filtration = HeightFiltration(direction=array([ 1, -1]), n_jobs=-1)\n",
      "Got the result from ./1/train/filtrations/6/HeightFiltrartion_1_-1/red/diagrams.npy\n",
      "Applying Scaler to persistence diagrams.\n",
      "Got the result from ./1/train/filtrations/6/HeightFiltrartion_1_-1/red/features.npy\n",
      "FiltrationExtractor: processing 1/train/filtrations/6/HeightFiltrartion_1_-1/green, do_fit = False, filtration = HeightFiltration(direction=array([ 1, -1]), n_jobs=-1)\n",
      "Got the result from ./1/train/filtrations/6/HeightFiltrartion_1_-1/green/diagrams.npy\n",
      "Applying Scaler to persistence diagrams.\n",
      "Got the result from ./1/train/filtrations/6/HeightFiltrartion_1_-1/green/features.npy\n",
      "FiltrationExtractor: processing 1/train/filtrations/6/HeightFiltrartion_1_-1/blue, do_fit = False, filtration = HeightFiltration(direction=array([ 1, -1]), n_jobs=-1)\n",
      "Got the result from ./1/train/filtrations/6/HeightFiltrartion_1_-1/blue/diagrams.npy\n",
      "Applying Scaler to persistence diagrams.\n",
      "Got the result from ./1/train/filtrations/6/HeightFiltrartion_1_-1/blue/features.npy\n",
      "Applying filtration 55/72: HeightFiltration with d = (1, 0), bin. thr. = 0.6\n",
      "RGB images received. Transforming to grayscale.\n"
     ]
    },
    {
     "name": "stderr",
     "output_type": "stream",
     "text": [
      "rgb2gray: 100%|██████████| 26640/26640 [00:06<00:00, 4288.39it/s]\n"
     ]
    },
    {
     "name": "stdout",
     "output_type": "stream",
     "text": [
      "FiltrationExtractor: processing 1/train/filtrations/6/HeightFiltrartion_1_0/gray, do_fit = False, filtration = HeightFiltration(direction=array([1, 0]), n_jobs=-1)\n",
      "Got the result from ./1/train/filtrations/6/HeightFiltrartion_1_0/gray/diagrams.npy\n",
      "Applying Scaler to persistence diagrams.\n",
      "Got the result from ./1/train/filtrations/6/HeightFiltrartion_1_0/gray/features.npy\n",
      "FiltrationExtractor: processing 1/train/filtrations/6/HeightFiltrartion_1_0/red, do_fit = False, filtration = HeightFiltration(direction=array([1, 0]), n_jobs=-1)\n",
      "Got the result from ./1/train/filtrations/6/HeightFiltrartion_1_0/red/diagrams.npy\n",
      "Applying Scaler to persistence diagrams.\n",
      "Got the result from ./1/train/filtrations/6/HeightFiltrartion_1_0/red/features.npy\n",
      "FiltrationExtractor: processing 1/train/filtrations/6/HeightFiltrartion_1_0/green, do_fit = False, filtration = HeightFiltration(direction=array([1, 0]), n_jobs=-1)\n",
      "Got the result from ./1/train/filtrations/6/HeightFiltrartion_1_0/green/diagrams.npy\n",
      "Applying Scaler to persistence diagrams.\n",
      "Got the result from ./1/train/filtrations/6/HeightFiltrartion_1_0/green/features.npy\n",
      "FiltrationExtractor: processing 1/train/filtrations/6/HeightFiltrartion_1_0/blue, do_fit = False, filtration = HeightFiltration(direction=array([1, 0]), n_jobs=-1)\n",
      "Got the result from ./1/train/filtrations/6/HeightFiltrartion_1_0/blue/diagrams.npy\n",
      "Applying Scaler to persistence diagrams.\n",
      "Got the result from ./1/train/filtrations/6/HeightFiltrartion_1_0/blue/features.npy\n",
      "Applying filtration 56/72: HeightFiltration with d = (1, 1), bin. thr. = 0.6\n",
      "RGB images received. Transforming to grayscale.\n"
     ]
    },
    {
     "name": "stderr",
     "output_type": "stream",
     "text": [
      "rgb2gray: 100%|██████████| 26640/26640 [00:06<00:00, 4327.78it/s]\n"
     ]
    },
    {
     "name": "stdout",
     "output_type": "stream",
     "text": [
      "FiltrationExtractor: processing 1/train/filtrations/6/HeightFiltrartion_1_1/gray, do_fit = False, filtration = HeightFiltration(direction=array([1, 1]), n_jobs=-1)\n",
      "Got the result from ./1/train/filtrations/6/HeightFiltrartion_1_1/gray/diagrams.npy\n",
      "Applying Scaler to persistence diagrams.\n",
      "Got the result from ./1/train/filtrations/6/HeightFiltrartion_1_1/gray/features.npy\n",
      "FiltrationExtractor: processing 1/train/filtrations/6/HeightFiltrartion_1_1/red, do_fit = False, filtration = HeightFiltration(direction=array([1, 1]), n_jobs=-1)\n",
      "Got the result from ./1/train/filtrations/6/HeightFiltrartion_1_1/red/diagrams.npy\n",
      "Applying Scaler to persistence diagrams.\n",
      "Got the result from ./1/train/filtrations/6/HeightFiltrartion_1_1/red/features.npy\n",
      "FiltrationExtractor: processing 1/train/filtrations/6/HeightFiltrartion_1_1/green, do_fit = False, filtration = HeightFiltration(direction=array([1, 1]), n_jobs=-1)\n",
      "Got the result from ./1/train/filtrations/6/HeightFiltrartion_1_1/green/diagrams.npy\n",
      "Applying Scaler to persistence diagrams.\n",
      "Got the result from ./1/train/filtrations/6/HeightFiltrartion_1_1/green/features.npy\n",
      "FiltrationExtractor: processing 1/train/filtrations/6/HeightFiltrartion_1_1/blue, do_fit = False, filtration = HeightFiltration(direction=array([1, 1]), n_jobs=-1)\n",
      "Got the result from ./1/train/filtrations/6/HeightFiltrartion_1_1/blue/diagrams.npy\n",
      "Applying Scaler to persistence diagrams.\n",
      "Got the result from ./1/train/filtrations/6/HeightFiltrartion_1_1/blue/features.npy\n",
      "Applying filtration 57/72: RadialFiltration with c = (12, 12), bin. thr. = 0.6\n",
      "RGB images received. Transforming to grayscale.\n"
     ]
    },
    {
     "name": "stderr",
     "output_type": "stream",
     "text": [
      "rgb2gray: 100%|██████████| 26640/26640 [00:06<00:00, 4233.94it/s]\n"
     ]
    },
    {
     "name": "stdout",
     "output_type": "stream",
     "text": [
      "FiltrationExtractor: processing 1/train/filtrations/6/RadialFiltration_12_12/gray, do_fit = False, filtration = RadialFiltration(center=array([12, 12]), n_jobs=-1)\n",
      "Got the result from ./1/train/filtrations/6/RadialFiltration_12_12/gray/diagrams.npy\n",
      "Applying Scaler to persistence diagrams.\n",
      "Got the result from ./1/train/filtrations/6/RadialFiltration_12_12/gray/features.npy\n",
      "FiltrationExtractor: processing 1/train/filtrations/6/RadialFiltration_12_12/red, do_fit = False, filtration = RadialFiltration(center=array([12, 12]), n_jobs=-1)\n",
      "Got the result from ./1/train/filtrations/6/RadialFiltration_12_12/red/diagrams.npy\n",
      "Applying Scaler to persistence diagrams.\n",
      "Got the result from ./1/train/filtrations/6/RadialFiltration_12_12/red/features.npy\n",
      "FiltrationExtractor: processing 1/train/filtrations/6/RadialFiltration_12_12/green, do_fit = False, filtration = RadialFiltration(center=array([12, 12]), n_jobs=-1)\n",
      "Got the result from ./1/train/filtrations/6/RadialFiltration_12_12/green/diagrams.npy\n",
      "Applying Scaler to persistence diagrams.\n",
      "Got the result from ./1/train/filtrations/6/RadialFiltration_12_12/green/features.npy\n",
      "FiltrationExtractor: processing 1/train/filtrations/6/RadialFiltration_12_12/blue, do_fit = False, filtration = RadialFiltration(center=array([12, 12]), n_jobs=-1)\n",
      "Got the result from ./1/train/filtrations/6/RadialFiltration_12_12/blue/diagrams.npy\n",
      "Applying Scaler to persistence diagrams.\n",
      "Got the result from ./1/train/filtrations/6/RadialFiltration_12_12/blue/features.npy\n",
      "Applying filtration 58/72: RadialFiltration with c = (12, 25), bin. thr. = 0.6\n",
      "RGB images received. Transforming to grayscale.\n"
     ]
    },
    {
     "name": "stderr",
     "output_type": "stream",
     "text": [
      "rgb2gray: 100%|██████████| 26640/26640 [00:06<00:00, 4381.21it/s]\n"
     ]
    },
    {
     "name": "stdout",
     "output_type": "stream",
     "text": [
      "FiltrationExtractor: processing 1/train/filtrations/6/RadialFiltration_12_25/gray, do_fit = False, filtration = RadialFiltration(center=array([12, 25]), n_jobs=-1)\n",
      "Got the result from ./1/train/filtrations/6/RadialFiltration_12_25/gray/diagrams.npy\n",
      "Applying Scaler to persistence diagrams.\n",
      "Got the result from ./1/train/filtrations/6/RadialFiltration_12_25/gray/features.npy\n",
      "FiltrationExtractor: processing 1/train/filtrations/6/RadialFiltration_12_25/red, do_fit = False, filtration = RadialFiltration(center=array([12, 25]), n_jobs=-1)\n",
      "Got the result from ./1/train/filtrations/6/RadialFiltration_12_25/red/diagrams.npy\n",
      "Applying Scaler to persistence diagrams.\n",
      "Got the result from ./1/train/filtrations/6/RadialFiltration_12_25/red/features.npy\n",
      "FiltrationExtractor: processing 1/train/filtrations/6/RadialFiltration_12_25/green, do_fit = False, filtration = RadialFiltration(center=array([12, 25]), n_jobs=-1)\n",
      "Got the result from ./1/train/filtrations/6/RadialFiltration_12_25/green/diagrams.npy\n",
      "Applying Scaler to persistence diagrams.\n",
      "Got the result from ./1/train/filtrations/6/RadialFiltration_12_25/green/features.npy\n",
      "FiltrationExtractor: processing 1/train/filtrations/6/RadialFiltration_12_25/blue, do_fit = False, filtration = RadialFiltration(center=array([12, 25]), n_jobs=-1)\n",
      "Got the result from ./1/train/filtrations/6/RadialFiltration_12_25/blue/diagrams.npy\n",
      "Applying Scaler to persistence diagrams.\n",
      "Got the result from ./1/train/filtrations/6/RadialFiltration_12_25/blue/features.npy\n",
      "Applying filtration 59/72: RadialFiltration with c = (12, 38), bin. thr. = 0.6\n",
      "RGB images received. Transforming to grayscale.\n"
     ]
    },
    {
     "name": "stderr",
     "output_type": "stream",
     "text": [
      "rgb2gray: 100%|██████████| 26640/26640 [00:06<00:00, 4297.81it/s]\n"
     ]
    },
    {
     "name": "stdout",
     "output_type": "stream",
     "text": [
      "FiltrationExtractor: processing 1/train/filtrations/6/RadialFiltration_12_38/gray, do_fit = False, filtration = RadialFiltration(center=array([12, 38]), n_jobs=-1)\n",
      "Got the result from ./1/train/filtrations/6/RadialFiltration_12_38/gray/diagrams.npy\n",
      "Applying Scaler to persistence diagrams.\n",
      "Got the result from ./1/train/filtrations/6/RadialFiltration_12_38/gray/features.npy\n",
      "FiltrationExtractor: processing 1/train/filtrations/6/RadialFiltration_12_38/red, do_fit = False, filtration = RadialFiltration(center=array([12, 38]), n_jobs=-1)\n",
      "Got the result from ./1/train/filtrations/6/RadialFiltration_12_38/red/diagrams.npy\n",
      "Applying Scaler to persistence diagrams.\n",
      "Got the result from ./1/train/filtrations/6/RadialFiltration_12_38/red/features.npy\n",
      "FiltrationExtractor: processing 1/train/filtrations/6/RadialFiltration_12_38/green, do_fit = False, filtration = RadialFiltration(center=array([12, 38]), n_jobs=-1)\n",
      "Got the result from ./1/train/filtrations/6/RadialFiltration_12_38/green/diagrams.npy\n",
      "Applying Scaler to persistence diagrams.\n",
      "Got the result from ./1/train/filtrations/6/RadialFiltration_12_38/green/features.npy\n",
      "FiltrationExtractor: processing 1/train/filtrations/6/RadialFiltration_12_38/blue, do_fit = False, filtration = RadialFiltration(center=array([12, 38]), n_jobs=-1)\n",
      "Got the result from ./1/train/filtrations/6/RadialFiltration_12_38/blue/diagrams.npy\n",
      "Applying Scaler to persistence diagrams.\n",
      "Got the result from ./1/train/filtrations/6/RadialFiltration_12_38/blue/features.npy\n",
      "Applying filtration 60/72: RadialFiltration with c = (12, 51), bin. thr. = 0.6\n",
      "RGB images received. Transforming to grayscale.\n"
     ]
    },
    {
     "name": "stderr",
     "output_type": "stream",
     "text": [
      "rgb2gray: 100%|██████████| 26640/26640 [00:06<00:00, 4386.26it/s]\n"
     ]
    },
    {
     "name": "stdout",
     "output_type": "stream",
     "text": [
      "FiltrationExtractor: processing 1/train/filtrations/6/RadialFiltration_12_51/gray, do_fit = False, filtration = RadialFiltration(center=array([12, 51]), n_jobs=-1)\n",
      "Got the result from ./1/train/filtrations/6/RadialFiltration_12_51/gray/diagrams.npy\n",
      "Applying Scaler to persistence diagrams.\n",
      "Got the result from ./1/train/filtrations/6/RadialFiltration_12_51/gray/features.npy\n",
      "FiltrationExtractor: processing 1/train/filtrations/6/RadialFiltration_12_51/red, do_fit = False, filtration = RadialFiltration(center=array([12, 51]), n_jobs=-1)\n",
      "Got the result from ./1/train/filtrations/6/RadialFiltration_12_51/red/diagrams.npy\n",
      "Applying Scaler to persistence diagrams.\n",
      "Got the result from ./1/train/filtrations/6/RadialFiltration_12_51/red/features.npy\n",
      "FiltrationExtractor: processing 1/train/filtrations/6/RadialFiltration_12_51/green, do_fit = False, filtration = RadialFiltration(center=array([12, 51]), n_jobs=-1)\n",
      "Got the result from ./1/train/filtrations/6/RadialFiltration_12_51/green/diagrams.npy\n",
      "Applying Scaler to persistence diagrams.\n",
      "Got the result from ./1/train/filtrations/6/RadialFiltration_12_51/green/features.npy\n",
      "FiltrationExtractor: processing 1/train/filtrations/6/RadialFiltration_12_51/blue, do_fit = False, filtration = RadialFiltration(center=array([12, 51]), n_jobs=-1)\n",
      "Got the result from ./1/train/filtrations/6/RadialFiltration_12_51/blue/diagrams.npy\n",
      "Applying Scaler to persistence diagrams.\n",
      "Got the result from ./1/train/filtrations/6/RadialFiltration_12_51/blue/features.npy\n",
      "Applying filtration 61/72: RadialFiltration with c = (25, 12), bin. thr. = 0.6\n",
      "RGB images received. Transforming to grayscale.\n"
     ]
    },
    {
     "name": "stderr",
     "output_type": "stream",
     "text": [
      "rgb2gray: 100%|██████████| 26640/26640 [00:06<00:00, 4341.94it/s]\n"
     ]
    },
    {
     "name": "stdout",
     "output_type": "stream",
     "text": [
      "FiltrationExtractor: processing 1/train/filtrations/6/RadialFiltration_25_12/gray, do_fit = False, filtration = RadialFiltration(center=array([25, 12]), n_jobs=-1)\n",
      "Got the result from ./1/train/filtrations/6/RadialFiltration_25_12/gray/diagrams.npy\n",
      "Applying Scaler to persistence diagrams.\n",
      "Got the result from ./1/train/filtrations/6/RadialFiltration_25_12/gray/features.npy\n",
      "FiltrationExtractor: processing 1/train/filtrations/6/RadialFiltration_25_12/red, do_fit = False, filtration = RadialFiltration(center=array([25, 12]), n_jobs=-1)\n",
      "Got the result from ./1/train/filtrations/6/RadialFiltration_25_12/red/diagrams.npy\n",
      "Applying Scaler to persistence diagrams.\n",
      "Got the result from ./1/train/filtrations/6/RadialFiltration_25_12/red/features.npy\n",
      "FiltrationExtractor: processing 1/train/filtrations/6/RadialFiltration_25_12/green, do_fit = False, filtration = RadialFiltration(center=array([25, 12]), n_jobs=-1)\n",
      "Got the result from ./1/train/filtrations/6/RadialFiltration_25_12/green/diagrams.npy\n",
      "Applying Scaler to persistence diagrams.\n",
      "Got the result from ./1/train/filtrations/6/RadialFiltration_25_12/green/features.npy\n",
      "FiltrationExtractor: processing 1/train/filtrations/6/RadialFiltration_25_12/blue, do_fit = False, filtration = RadialFiltration(center=array([25, 12]), n_jobs=-1)\n",
      "Got the result from ./1/train/filtrations/6/RadialFiltration_25_12/blue/diagrams.npy\n",
      "Applying Scaler to persistence diagrams.\n",
      "Got the result from ./1/train/filtrations/6/RadialFiltration_25_12/blue/features.npy\n",
      "Applying filtration 62/72: RadialFiltration with c = (25, 25), bin. thr. = 0.6\n",
      "RGB images received. Transforming to grayscale.\n"
     ]
    },
    {
     "name": "stderr",
     "output_type": "stream",
     "text": [
      "rgb2gray: 100%|██████████| 26640/26640 [00:05<00:00, 4479.94it/s]\n"
     ]
    },
    {
     "name": "stdout",
     "output_type": "stream",
     "text": [
      "FiltrationExtractor: processing 1/train/filtrations/6/RadialFiltration_25_25/gray, do_fit = False, filtration = RadialFiltration(center=array([25, 25]), n_jobs=-1)\n",
      "Got the result from ./1/train/filtrations/6/RadialFiltration_25_25/gray/diagrams.npy\n",
      "Applying Scaler to persistence diagrams.\n",
      "Got the result from ./1/train/filtrations/6/RadialFiltration_25_25/gray/features.npy\n",
      "FiltrationExtractor: processing 1/train/filtrations/6/RadialFiltration_25_25/red, do_fit = False, filtration = RadialFiltration(center=array([25, 25]), n_jobs=-1)\n",
      "Got the result from ./1/train/filtrations/6/RadialFiltration_25_25/red/diagrams.npy\n",
      "Applying Scaler to persistence diagrams.\n",
      "Got the result from ./1/train/filtrations/6/RadialFiltration_25_25/red/features.npy\n",
      "FiltrationExtractor: processing 1/train/filtrations/6/RadialFiltration_25_25/green, do_fit = False, filtration = RadialFiltration(center=array([25, 25]), n_jobs=-1)\n",
      "Got the result from ./1/train/filtrations/6/RadialFiltration_25_25/green/diagrams.npy\n",
      "Applying Scaler to persistence diagrams.\n",
      "Got the result from ./1/train/filtrations/6/RadialFiltration_25_25/green/features.npy\n",
      "FiltrationExtractor: processing 1/train/filtrations/6/RadialFiltration_25_25/blue, do_fit = False, filtration = RadialFiltration(center=array([25, 25]), n_jobs=-1)\n",
      "Got the result from ./1/train/filtrations/6/RadialFiltration_25_25/blue/diagrams.npy\n",
      "Applying Scaler to persistence diagrams.\n",
      "Got the result from ./1/train/filtrations/6/RadialFiltration_25_25/blue/features.npy\n",
      "Applying filtration 63/72: RadialFiltration with c = (25, 38), bin. thr. = 0.6\n",
      "RGB images received. Transforming to grayscale.\n"
     ]
    },
    {
     "name": "stderr",
     "output_type": "stream",
     "text": [
      "rgb2gray: 100%|██████████| 26640/26640 [00:06<00:00, 4399.30it/s]\n"
     ]
    },
    {
     "name": "stdout",
     "output_type": "stream",
     "text": [
      "FiltrationExtractor: processing 1/train/filtrations/6/RadialFiltration_25_38/gray, do_fit = False, filtration = RadialFiltration(center=array([25, 38]), n_jobs=-1)\n",
      "Got the result from ./1/train/filtrations/6/RadialFiltration_25_38/gray/diagrams.npy\n",
      "Applying Scaler to persistence diagrams.\n",
      "Got the result from ./1/train/filtrations/6/RadialFiltration_25_38/gray/features.npy\n",
      "FiltrationExtractor: processing 1/train/filtrations/6/RadialFiltration_25_38/red, do_fit = False, filtration = RadialFiltration(center=array([25, 38]), n_jobs=-1)\n",
      "Got the result from ./1/train/filtrations/6/RadialFiltration_25_38/red/diagrams.npy\n",
      "Applying Scaler to persistence diagrams.\n",
      "Got the result from ./1/train/filtrations/6/RadialFiltration_25_38/red/features.npy\n",
      "FiltrationExtractor: processing 1/train/filtrations/6/RadialFiltration_25_38/green, do_fit = False, filtration = RadialFiltration(center=array([25, 38]), n_jobs=-1)\n",
      "Got the result from ./1/train/filtrations/6/RadialFiltration_25_38/green/diagrams.npy\n",
      "Applying Scaler to persistence diagrams.\n",
      "Got the result from ./1/train/filtrations/6/RadialFiltration_25_38/green/features.npy\n",
      "FiltrationExtractor: processing 1/train/filtrations/6/RadialFiltration_25_38/blue, do_fit = False, filtration = RadialFiltration(center=array([25, 38]), n_jobs=-1)\n",
      "Got the result from ./1/train/filtrations/6/RadialFiltration_25_38/blue/diagrams.npy\n",
      "Applying Scaler to persistence diagrams.\n",
      "Got the result from ./1/train/filtrations/6/RadialFiltration_25_38/blue/features.npy\n",
      "Applying filtration 64/72: RadialFiltration with c = (25, 51), bin. thr. = 0.6\n",
      "RGB images received. Transforming to grayscale.\n"
     ]
    },
    {
     "name": "stderr",
     "output_type": "stream",
     "text": [
      "rgb2gray: 100%|██████████| 26640/26640 [00:06<00:00, 4333.08it/s]\n"
     ]
    },
    {
     "name": "stdout",
     "output_type": "stream",
     "text": [
      "FiltrationExtractor: processing 1/train/filtrations/6/RadialFiltration_25_51/gray, do_fit = False, filtration = RadialFiltration(center=array([25, 51]), n_jobs=-1)\n",
      "Got the result from ./1/train/filtrations/6/RadialFiltration_25_51/gray/diagrams.npy\n",
      "Applying Scaler to persistence diagrams.\n",
      "Got the result from ./1/train/filtrations/6/RadialFiltration_25_51/gray/features.npy\n",
      "FiltrationExtractor: processing 1/train/filtrations/6/RadialFiltration_25_51/red, do_fit = False, filtration = RadialFiltration(center=array([25, 51]), n_jobs=-1)\n",
      "Got the result from ./1/train/filtrations/6/RadialFiltration_25_51/red/diagrams.npy\n",
      "Applying Scaler to persistence diagrams.\n",
      "Got the result from ./1/train/filtrations/6/RadialFiltration_25_51/red/features.npy\n",
      "FiltrationExtractor: processing 1/train/filtrations/6/RadialFiltration_25_51/green, do_fit = False, filtration = RadialFiltration(center=array([25, 51]), n_jobs=-1)\n",
      "Got the result from ./1/train/filtrations/6/RadialFiltration_25_51/green/diagrams.npy\n",
      "Applying Scaler to persistence diagrams.\n",
      "Got the result from ./1/train/filtrations/6/RadialFiltration_25_51/green/features.npy\n",
      "FiltrationExtractor: processing 1/train/filtrations/6/RadialFiltration_25_51/blue, do_fit = False, filtration = RadialFiltration(center=array([25, 51]), n_jobs=-1)\n",
      "Got the result from ./1/train/filtrations/6/RadialFiltration_25_51/blue/diagrams.npy\n",
      "Applying Scaler to persistence diagrams.\n",
      "Got the result from ./1/train/filtrations/6/RadialFiltration_25_51/blue/features.npy\n",
      "Applying filtration 65/72: RadialFiltration with c = (38, 12), bin. thr. = 0.6\n",
      "RGB images received. Transforming to grayscale.\n"
     ]
    },
    {
     "name": "stderr",
     "output_type": "stream",
     "text": [
      "rgb2gray: 100%|██████████| 26640/26640 [00:05<00:00, 4453.02it/s]\n"
     ]
    },
    {
     "name": "stdout",
     "output_type": "stream",
     "text": [
      "FiltrationExtractor: processing 1/train/filtrations/6/RadialFiltration_38_12/gray, do_fit = False, filtration = RadialFiltration(center=array([38, 12]), n_jobs=-1)\n",
      "Got the result from ./1/train/filtrations/6/RadialFiltration_38_12/gray/diagrams.npy\n",
      "Applying Scaler to persistence diagrams.\n",
      "Got the result from ./1/train/filtrations/6/RadialFiltration_38_12/gray/features.npy\n",
      "FiltrationExtractor: processing 1/train/filtrations/6/RadialFiltration_38_12/red, do_fit = False, filtration = RadialFiltration(center=array([38, 12]), n_jobs=-1)\n",
      "Got the result from ./1/train/filtrations/6/RadialFiltration_38_12/red/diagrams.npy\n",
      "Applying Scaler to persistence diagrams.\n",
      "Got the result from ./1/train/filtrations/6/RadialFiltration_38_12/red/features.npy\n",
      "FiltrationExtractor: processing 1/train/filtrations/6/RadialFiltration_38_12/green, do_fit = False, filtration = RadialFiltration(center=array([38, 12]), n_jobs=-1)\n",
      "Got the result from ./1/train/filtrations/6/RadialFiltration_38_12/green/diagrams.npy\n",
      "Applying Scaler to persistence diagrams.\n",
      "Got the result from ./1/train/filtrations/6/RadialFiltration_38_12/green/features.npy\n",
      "FiltrationExtractor: processing 1/train/filtrations/6/RadialFiltration_38_12/blue, do_fit = False, filtration = RadialFiltration(center=array([38, 12]), n_jobs=-1)\n",
      "Got the result from ./1/train/filtrations/6/RadialFiltration_38_12/blue/diagrams.npy\n",
      "Applying Scaler to persistence diagrams.\n",
      "Got the result from ./1/train/filtrations/6/RadialFiltration_38_12/blue/features.npy\n",
      "Applying filtration 66/72: RadialFiltration with c = (38, 25), bin. thr. = 0.6\n",
      "RGB images received. Transforming to grayscale.\n"
     ]
    },
    {
     "name": "stderr",
     "output_type": "stream",
     "text": [
      "rgb2gray: 100%|██████████| 26640/26640 [00:06<00:00, 4346.08it/s]\n"
     ]
    },
    {
     "name": "stdout",
     "output_type": "stream",
     "text": [
      "FiltrationExtractor: processing 1/train/filtrations/6/RadialFiltration_38_25/gray, do_fit = False, filtration = RadialFiltration(center=array([38, 25]), n_jobs=-1)\n",
      "Got the result from ./1/train/filtrations/6/RadialFiltration_38_25/gray/diagrams.npy\n",
      "Applying Scaler to persistence diagrams.\n",
      "Got the result from ./1/train/filtrations/6/RadialFiltration_38_25/gray/features.npy\n",
      "FiltrationExtractor: processing 1/train/filtrations/6/RadialFiltration_38_25/red, do_fit = False, filtration = RadialFiltration(center=array([38, 25]), n_jobs=-1)\n",
      "Got the result from ./1/train/filtrations/6/RadialFiltration_38_25/red/diagrams.npy\n",
      "Applying Scaler to persistence diagrams.\n",
      "Got the result from ./1/train/filtrations/6/RadialFiltration_38_25/red/features.npy\n",
      "FiltrationExtractor: processing 1/train/filtrations/6/RadialFiltration_38_25/green, do_fit = False, filtration = RadialFiltration(center=array([38, 25]), n_jobs=-1)\n",
      "Got the result from ./1/train/filtrations/6/RadialFiltration_38_25/green/diagrams.npy\n",
      "Applying Scaler to persistence diagrams.\n",
      "Got the result from ./1/train/filtrations/6/RadialFiltration_38_25/green/features.npy\n",
      "FiltrationExtractor: processing 1/train/filtrations/6/RadialFiltration_38_25/blue, do_fit = False, filtration = RadialFiltration(center=array([38, 25]), n_jobs=-1)\n",
      "Got the result from ./1/train/filtrations/6/RadialFiltration_38_25/blue/diagrams.npy\n",
      "Applying Scaler to persistence diagrams.\n",
      "Got the result from ./1/train/filtrations/6/RadialFiltration_38_25/blue/features.npy\n",
      "Applying filtration 67/72: RadialFiltration with c = (38, 38), bin. thr. = 0.6\n",
      "RGB images received. Transforming to grayscale.\n"
     ]
    },
    {
     "name": "stderr",
     "output_type": "stream",
     "text": [
      "rgb2gray: 100%|██████████| 26640/26640 [00:05<00:00, 4476.56it/s]\n"
     ]
    },
    {
     "name": "stdout",
     "output_type": "stream",
     "text": [
      "FiltrationExtractor: processing 1/train/filtrations/6/RadialFiltration_38_38/gray, do_fit = False, filtration = RadialFiltration(center=array([38, 38]), n_jobs=-1)\n",
      "Got the result from ./1/train/filtrations/6/RadialFiltration_38_38/gray/diagrams.npy\n",
      "Applying Scaler to persistence diagrams.\n",
      "Got the result from ./1/train/filtrations/6/RadialFiltration_38_38/gray/features.npy\n",
      "FiltrationExtractor: processing 1/train/filtrations/6/RadialFiltration_38_38/red, do_fit = False, filtration = RadialFiltration(center=array([38, 38]), n_jobs=-1)\n",
      "Got the result from ./1/train/filtrations/6/RadialFiltration_38_38/red/diagrams.npy\n",
      "Applying Scaler to persistence diagrams.\n",
      "Got the result from ./1/train/filtrations/6/RadialFiltration_38_38/red/features.npy\n",
      "FiltrationExtractor: processing 1/train/filtrations/6/RadialFiltration_38_38/green, do_fit = False, filtration = RadialFiltration(center=array([38, 38]), n_jobs=-1)\n",
      "Got the result from ./1/train/filtrations/6/RadialFiltration_38_38/green/diagrams.npy\n",
      "Applying Scaler to persistence diagrams.\n",
      "Got the result from ./1/train/filtrations/6/RadialFiltration_38_38/green/features.npy\n",
      "FiltrationExtractor: processing 1/train/filtrations/6/RadialFiltration_38_38/blue, do_fit = False, filtration = RadialFiltration(center=array([38, 38]), n_jobs=-1)\n",
      "Got the result from ./1/train/filtrations/6/RadialFiltration_38_38/blue/diagrams.npy\n",
      "Applying Scaler to persistence diagrams.\n",
      "Got the result from ./1/train/filtrations/6/RadialFiltration_38_38/blue/features.npy\n",
      "Applying filtration 68/72: RadialFiltration with c = (38, 51), bin. thr. = 0.6\n",
      "RGB images received. Transforming to grayscale.\n"
     ]
    },
    {
     "name": "stderr",
     "output_type": "stream",
     "text": [
      "rgb2gray: 100%|██████████| 26640/26640 [00:06<00:00, 4422.65it/s]\n"
     ]
    },
    {
     "name": "stdout",
     "output_type": "stream",
     "text": [
      "FiltrationExtractor: processing 1/train/filtrations/6/RadialFiltration_38_51/gray, do_fit = False, filtration = RadialFiltration(center=array([38, 51]), n_jobs=-1)\n",
      "Got the result from ./1/train/filtrations/6/RadialFiltration_38_51/gray/diagrams.npy\n",
      "Applying Scaler to persistence diagrams.\n",
      "Got the result from ./1/train/filtrations/6/RadialFiltration_38_51/gray/features.npy\n",
      "FiltrationExtractor: processing 1/train/filtrations/6/RadialFiltration_38_51/red, do_fit = False, filtration = RadialFiltration(center=array([38, 51]), n_jobs=-1)\n",
      "Got the result from ./1/train/filtrations/6/RadialFiltration_38_51/red/diagrams.npy\n",
      "Applying Scaler to persistence diagrams.\n",
      "Got the result from ./1/train/filtrations/6/RadialFiltration_38_51/red/features.npy\n",
      "FiltrationExtractor: processing 1/train/filtrations/6/RadialFiltration_38_51/green, do_fit = False, filtration = RadialFiltration(center=array([38, 51]), n_jobs=-1)\n",
      "Got the result from ./1/train/filtrations/6/RadialFiltration_38_51/green/diagrams.npy\n",
      "Applying Scaler to persistence diagrams.\n",
      "Got the result from ./1/train/filtrations/6/RadialFiltration_38_51/green/features.npy\n",
      "FiltrationExtractor: processing 1/train/filtrations/6/RadialFiltration_38_51/blue, do_fit = False, filtration = RadialFiltration(center=array([38, 51]), n_jobs=-1)\n",
      "Got the result from ./1/train/filtrations/6/RadialFiltration_38_51/blue/diagrams.npy\n",
      "Applying Scaler to persistence diagrams.\n",
      "Got the result from ./1/train/filtrations/6/RadialFiltration_38_51/blue/features.npy\n",
      "Applying filtration 69/72: RadialFiltration with c = (51, 12), bin. thr. = 0.6\n",
      "RGB images received. Transforming to grayscale.\n"
     ]
    },
    {
     "name": "stderr",
     "output_type": "stream",
     "text": [
      "rgb2gray: 100%|██████████| 26640/26640 [00:06<00:00, 4428.76it/s]\n"
     ]
    },
    {
     "name": "stdout",
     "output_type": "stream",
     "text": [
      "FiltrationExtractor: processing 1/train/filtrations/6/RadialFiltration_51_12/gray, do_fit = False, filtration = RadialFiltration(center=array([51, 12]), n_jobs=-1)\n",
      "Got the result from ./1/train/filtrations/6/RadialFiltration_51_12/gray/diagrams.npy\n",
      "Applying Scaler to persistence diagrams.\n",
      "Got the result from ./1/train/filtrations/6/RadialFiltration_51_12/gray/features.npy\n",
      "FiltrationExtractor: processing 1/train/filtrations/6/RadialFiltration_51_12/red, do_fit = False, filtration = RadialFiltration(center=array([51, 12]), n_jobs=-1)\n",
      "Got the result from ./1/train/filtrations/6/RadialFiltration_51_12/red/diagrams.npy\n",
      "Applying Scaler to persistence diagrams.\n",
      "Got the result from ./1/train/filtrations/6/RadialFiltration_51_12/red/features.npy\n",
      "FiltrationExtractor: processing 1/train/filtrations/6/RadialFiltration_51_12/green, do_fit = False, filtration = RadialFiltration(center=array([51, 12]), n_jobs=-1)\n",
      "Got the result from ./1/train/filtrations/6/RadialFiltration_51_12/green/diagrams.npy\n",
      "Applying Scaler to persistence diagrams.\n",
      "Got the result from ./1/train/filtrations/6/RadialFiltration_51_12/green/features.npy\n",
      "FiltrationExtractor: processing 1/train/filtrations/6/RadialFiltration_51_12/blue, do_fit = False, filtration = RadialFiltration(center=array([51, 12]), n_jobs=-1)\n",
      "Got the result from ./1/train/filtrations/6/RadialFiltration_51_12/blue/diagrams.npy\n",
      "Applying Scaler to persistence diagrams.\n",
      "Got the result from ./1/train/filtrations/6/RadialFiltration_51_12/blue/features.npy\n",
      "Applying filtration 70/72: RadialFiltration with c = (51, 25), bin. thr. = 0.6\n",
      "RGB images received. Transforming to grayscale.\n"
     ]
    },
    {
     "name": "stderr",
     "output_type": "stream",
     "text": [
      "rgb2gray: 100%|██████████| 26640/26640 [00:06<00:00, 4433.67it/s]\n"
     ]
    },
    {
     "name": "stdout",
     "output_type": "stream",
     "text": [
      "FiltrationExtractor: processing 1/train/filtrations/6/RadialFiltration_51_25/gray, do_fit = False, filtration = RadialFiltration(center=array([51, 25]), n_jobs=-1)\n",
      "Got the result from ./1/train/filtrations/6/RadialFiltration_51_25/gray/diagrams.npy\n",
      "Applying Scaler to persistence diagrams.\n",
      "Got the result from ./1/train/filtrations/6/RadialFiltration_51_25/gray/features.npy\n",
      "FiltrationExtractor: processing 1/train/filtrations/6/RadialFiltration_51_25/red, do_fit = False, filtration = RadialFiltration(center=array([51, 25]), n_jobs=-1)\n",
      "Got the result from ./1/train/filtrations/6/RadialFiltration_51_25/red/diagrams.npy\n",
      "Applying Scaler to persistence diagrams.\n",
      "Got the result from ./1/train/filtrations/6/RadialFiltration_51_25/red/features.npy\n",
      "FiltrationExtractor: processing 1/train/filtrations/6/RadialFiltration_51_25/green, do_fit = False, filtration = RadialFiltration(center=array([51, 25]), n_jobs=-1)\n",
      "Got the result from ./1/train/filtrations/6/RadialFiltration_51_25/green/diagrams.npy\n",
      "Applying Scaler to persistence diagrams.\n",
      "Got the result from ./1/train/filtrations/6/RadialFiltration_51_25/green/features.npy\n",
      "FiltrationExtractor: processing 1/train/filtrations/6/RadialFiltration_51_25/blue, do_fit = False, filtration = RadialFiltration(center=array([51, 25]), n_jobs=-1)\n",
      "Got the result from ./1/train/filtrations/6/RadialFiltration_51_25/blue/diagrams.npy\n",
      "Applying Scaler to persistence diagrams.\n",
      "Got the result from ./1/train/filtrations/6/RadialFiltration_51_25/blue/features.npy\n",
      "Applying filtration 71/72: RadialFiltration with c = (51, 38), bin. thr. = 0.6\n",
      "RGB images received. Transforming to grayscale.\n"
     ]
    },
    {
     "name": "stderr",
     "output_type": "stream",
     "text": [
      "rgb2gray: 100%|██████████| 26640/26640 [00:05<00:00, 4450.21it/s]\n"
     ]
    },
    {
     "name": "stdout",
     "output_type": "stream",
     "text": [
      "FiltrationExtractor: processing 1/train/filtrations/6/RadialFiltration_51_38/gray, do_fit = False, filtration = RadialFiltration(center=array([51, 38]), n_jobs=-1)\n",
      "Got the result from ./1/train/filtrations/6/RadialFiltration_51_38/gray/diagrams.npy\n",
      "Applying Scaler to persistence diagrams.\n",
      "Got the result from ./1/train/filtrations/6/RadialFiltration_51_38/gray/features.npy\n",
      "FiltrationExtractor: processing 1/train/filtrations/6/RadialFiltration_51_38/red, do_fit = False, filtration = RadialFiltration(center=array([51, 38]), n_jobs=-1)\n",
      "Got the result from ./1/train/filtrations/6/RadialFiltration_51_38/red/diagrams.npy\n",
      "Applying Scaler to persistence diagrams.\n",
      "Got the result from ./1/train/filtrations/6/RadialFiltration_51_38/red/features.npy\n",
      "FiltrationExtractor: processing 1/train/filtrations/6/RadialFiltration_51_38/green, do_fit = False, filtration = RadialFiltration(center=array([51, 38]), n_jobs=-1)\n",
      "Got the result from ./1/train/filtrations/6/RadialFiltration_51_38/green/diagrams.npy\n",
      "Applying Scaler to persistence diagrams.\n",
      "Got the result from ./1/train/filtrations/6/RadialFiltration_51_38/green/features.npy\n",
      "FiltrationExtractor: processing 1/train/filtrations/6/RadialFiltration_51_38/blue, do_fit = False, filtration = RadialFiltration(center=array([51, 38]), n_jobs=-1)\n",
      "Got the result from ./1/train/filtrations/6/RadialFiltration_51_38/blue/diagrams.npy\n",
      "Applying Scaler to persistence diagrams.\n",
      "Got the result from ./1/train/filtrations/6/RadialFiltration_51_38/blue/features.npy\n",
      "Applying filtration 72/72: RadialFiltration with c = (51, 51), bin. thr. = 0.6\n",
      "RGB images received. Transforming to grayscale.\n"
     ]
    },
    {
     "name": "stderr",
     "output_type": "stream",
     "text": [
      "rgb2gray: 100%|██████████| 26640/26640 [00:05<00:00, 4509.42it/s]\n"
     ]
    },
    {
     "name": "stdout",
     "output_type": "stream",
     "text": [
      "FiltrationExtractor: processing 1/train/filtrations/6/RadialFiltration_51_51/gray, do_fit = False, filtration = RadialFiltration(center=array([51, 51]), n_jobs=-1)\n",
      "Got the result from ./1/train/filtrations/6/RadialFiltration_51_51/gray/diagrams.npy\n",
      "Applying Scaler to persistence diagrams.\n",
      "Got the result from ./1/train/filtrations/6/RadialFiltration_51_51/gray/features.npy\n",
      "FiltrationExtractor: processing 1/train/filtrations/6/RadialFiltration_51_51/red, do_fit = False, filtration = RadialFiltration(center=array([51, 51]), n_jobs=-1)\n",
      "Got the result from ./1/train/filtrations/6/RadialFiltration_51_51/red/diagrams.npy\n",
      "Applying Scaler to persistence diagrams.\n",
      "Got the result from ./1/train/filtrations/6/RadialFiltration_51_51/red/features.npy\n",
      "FiltrationExtractor: processing 1/train/filtrations/6/RadialFiltration_51_51/green, do_fit = False, filtration = RadialFiltration(center=array([51, 51]), n_jobs=-1)\n",
      "Got the result from ./1/train/filtrations/6/RadialFiltration_51_51/green/diagrams.npy\n",
      "Applying Scaler to persistence diagrams.\n",
      "Got the result from ./1/train/filtrations/6/RadialFiltration_51_51/green/features.npy\n",
      "FiltrationExtractor: processing 1/train/filtrations/6/RadialFiltration_51_51/blue, do_fit = False, filtration = RadialFiltration(center=array([51, 51]), n_jobs=-1)\n",
      "Got the result from ./1/train/filtrations/6/RadialFiltration_51_51/blue/diagrams.npy\n",
      "Applying Scaler to persistence diagrams.\n",
      "Got the result from ./1/train/filtrations/6/RadialFiltration_51_51/blue/features.npy\n",
      "RGB images received. Transforming to grayscale.\n",
      "Got the result from ./1/train/geometry/rgb/features.npy\n"
     ]
    },
    {
     "name": "stderr",
     "output_type": "stream",
     "text": [
      "rgb2gray: 100%|██████████| 26640/26640 [00:06<00:00, 4427.97it/s]\n"
     ]
    },
    {
     "name": "stdout",
     "output_type": "stream",
     "text": [
      "Got the result from ./1/train/geometry/gray/features.npy\n",
      "Got the result from ./1/train/geometry/gray/features.npy\n",
      "Got the result from ./1/train/geometry/red/features.npy\n",
      "Got the result from ./1/train/geometry/red/features.npy\n",
      "Got the result from ./1/train/geometry/green/features.npy\n",
      "Got the result from ./1/train/geometry/green/features.npy\n",
      "Got the result from ./1/train/geometry/blue/features.npy\n",
      "Got the result from ./1/train/geometry/blue/features.npy\n",
      "RGB images received. Transforming to grayscale.\n",
      "Got the result from ./1/train/geometry/rgb/features.npy\n"
     ]
    },
    {
     "name": "stderr",
     "output_type": "stream",
     "text": [
      "rgb2gray: 100%|██████████| 26640/26640 [00:05<00:00, 4478.67it/s]\n"
     ]
    },
    {
     "name": "stdout",
     "output_type": "stream",
     "text": [
      "Got the result from ./1/train/geometry/gray/features.npy\n",
      "Got the result from ./1/train/geometry/red/features.npy\n",
      "Got the result from ./1/train/geometry/green/features.npy\n",
      "Got the result from ./1/train/geometry/blue/features.npy\n",
      "Applying StandardScaler.\n",
      "Calculating inverted images\n",
      "RGB images received. Transforming to grayscale.\n"
     ]
    },
    {
     "name": "stderr",
     "output_type": "stream",
     "text": [
      "rgb2gray: 100%|██████████| 26640/26640 [00:06<00:00, 4356.62it/s]\n"
     ]
    },
    {
     "name": "stdout",
     "output_type": "stream",
     "text": [
      "GreyscaleExtractor: processing 1/train/greyscale/gray, do_fit = False\n",
      "Got the result from ./1/train/greyscale/gray/diagrams.npy\n",
      "Applying Scaler to persistence diagrams.\n",
      "Got the result from ./1/train/greyscale/gray/features.npy\n",
      "GreyscaleExtractor: processing 1/train/greyscale/red, do_fit = False\n",
      "Got the result from ./1/train/greyscale/red/diagrams.npy\n",
      "Applying Scaler to persistence diagrams.\n",
      "Got the result from ./1/train/greyscale/red/features.npy\n",
      "GreyscaleExtractor: processing 1/train/greyscale/green, do_fit = False\n",
      "Got the result from ./1/train/greyscale/green/diagrams.npy\n",
      "Applying Scaler to persistence diagrams.\n",
      "Got the result from ./1/train/greyscale/green/features.npy\n",
      "GreyscaleExtractor: processing 1/train/greyscale/blue, do_fit = False\n",
      "Got the result from ./1/train/greyscale/blue/diagrams.npy\n",
      "Applying Scaler to persistence diagrams.\n",
      "Got the result from ./1/train/greyscale/blue/features.npy\n",
      "RGB images received. Transforming to grayscale.\n"
     ]
    },
    {
     "name": "stderr",
     "output_type": "stream",
     "text": [
      "rgb2gray: 100%|██████████| 26640/26640 [00:06<00:00, 4331.93it/s]\n"
     ]
    },
    {
     "name": "stdout",
     "output_type": "stream",
     "text": [
      "GreyscaleExtractor: processing 1/train/inverted_greyscale/gray, do_fit = False\n",
      "Got the result from ./1/train/inverted_greyscale/gray/diagrams.npy\n",
      "Applying Scaler to persistence diagrams.\n",
      "Got the result from ./1/train/inverted_greyscale/gray/features.npy\n",
      "GreyscaleExtractor: processing 1/train/inverted_greyscale/red, do_fit = False\n",
      "Got the result from ./1/train/inverted_greyscale/red/diagrams.npy\n",
      "Applying Scaler to persistence diagrams.\n",
      "Got the result from ./1/train/inverted_greyscale/red/features.npy\n",
      "GreyscaleExtractor: processing 1/train/inverted_greyscale/green, do_fit = False\n",
      "Got the result from ./1/train/inverted_greyscale/green/diagrams.npy\n",
      "Applying Scaler to persistence diagrams.\n",
      "Got the result from ./1/train/inverted_greyscale/green/features.npy\n",
      "GreyscaleExtractor: processing 1/train/inverted_greyscale/blue, do_fit = False\n",
      "Got the result from ./1/train/inverted_greyscale/blue/diagrams.npy\n",
      "Applying Scaler to persistence diagrams.\n",
      "Got the result from ./1/train/inverted_greyscale/blue/features.npy\n",
      "Applying filtrations\n",
      "Applying filtration 1/72: HeightFiltration with d = (-1, -1), bin. thr. = 0.2\n",
      "RGB images received. Transforming to grayscale.\n"
     ]
    },
    {
     "name": "stderr",
     "output_type": "stream",
     "text": [
      "rgb2gray: 100%|██████████| 26640/26640 [00:06<00:00, 4333.51it/s]\n"
     ]
    },
    {
     "name": "stdout",
     "output_type": "stream",
     "text": [
      "FiltrationExtractor: processing 1/train/filtrations/2/HeightFiltrartion_-1_-1/gray, do_fit = False, filtration = HeightFiltration(direction=array([-1, -1]), n_jobs=-1)\n",
      "Got the result from ./1/train/filtrations/2/HeightFiltrartion_-1_-1/gray/diagrams.npy\n",
      "Applying Scaler to persistence diagrams.\n",
      "Got the result from ./1/train/filtrations/2/HeightFiltrartion_-1_-1/gray/features.npy\n",
      "FiltrationExtractor: processing 1/train/filtrations/2/HeightFiltrartion_-1_-1/red, do_fit = False, filtration = HeightFiltration(direction=array([-1, -1]), n_jobs=-1)\n",
      "Got the result from ./1/train/filtrations/2/HeightFiltrartion_-1_-1/red/diagrams.npy\n",
      "Applying Scaler to persistence diagrams.\n",
      "Got the result from ./1/train/filtrations/2/HeightFiltrartion_-1_-1/red/features.npy\n",
      "FiltrationExtractor: processing 1/train/filtrations/2/HeightFiltrartion_-1_-1/green, do_fit = False, filtration = HeightFiltration(direction=array([-1, -1]), n_jobs=-1)\n",
      "Got the result from ./1/train/filtrations/2/HeightFiltrartion_-1_-1/green/diagrams.npy\n",
      "Applying Scaler to persistence diagrams.\n",
      "Got the result from ./1/train/filtrations/2/HeightFiltrartion_-1_-1/green/features.npy\n",
      "FiltrationExtractor: processing 1/train/filtrations/2/HeightFiltrartion_-1_-1/blue, do_fit = False, filtration = HeightFiltration(direction=array([-1, -1]), n_jobs=-1)\n",
      "Got the result from ./1/train/filtrations/2/HeightFiltrartion_-1_-1/blue/diagrams.npy\n",
      "Applying Scaler to persistence diagrams.\n",
      "Got the result from ./1/train/filtrations/2/HeightFiltrartion_-1_-1/blue/features.npy\n",
      "Applying filtration 2/72: HeightFiltration with d = (-1, 0), bin. thr. = 0.2\n",
      "RGB images received. Transforming to grayscale.\n"
     ]
    },
    {
     "name": "stderr",
     "output_type": "stream",
     "text": [
      "rgb2gray: 100%|██████████| 26640/26640 [00:06<00:00, 4400.68it/s]\n"
     ]
    },
    {
     "name": "stdout",
     "output_type": "stream",
     "text": [
      "FiltrationExtractor: processing 1/train/filtrations/2/HeightFiltrartion_-1_0/gray, do_fit = False, filtration = HeightFiltration(direction=array([-1,  0]), n_jobs=-1)\n",
      "Got the result from ./1/train/filtrations/2/HeightFiltrartion_-1_0/gray/diagrams.npy\n",
      "Applying Scaler to persistence diagrams.\n",
      "Got the result from ./1/train/filtrations/2/HeightFiltrartion_-1_0/gray/features.npy\n",
      "FiltrationExtractor: processing 1/train/filtrations/2/HeightFiltrartion_-1_0/red, do_fit = False, filtration = HeightFiltration(direction=array([-1,  0]), n_jobs=-1)\n",
      "Got the result from ./1/train/filtrations/2/HeightFiltrartion_-1_0/red/diagrams.npy\n",
      "Applying Scaler to persistence diagrams.\n",
      "Got the result from ./1/train/filtrations/2/HeightFiltrartion_-1_0/red/features.npy\n",
      "FiltrationExtractor: processing 1/train/filtrations/2/HeightFiltrartion_-1_0/green, do_fit = False, filtration = HeightFiltration(direction=array([-1,  0]), n_jobs=-1)\n",
      "Got the result from ./1/train/filtrations/2/HeightFiltrartion_-1_0/green/diagrams.npy\n",
      "Applying Scaler to persistence diagrams.\n",
      "Got the result from ./1/train/filtrations/2/HeightFiltrartion_-1_0/green/features.npy\n",
      "FiltrationExtractor: processing 1/train/filtrations/2/HeightFiltrartion_-1_0/blue, do_fit = False, filtration = HeightFiltration(direction=array([-1,  0]), n_jobs=-1)\n",
      "Got the result from ./1/train/filtrations/2/HeightFiltrartion_-1_0/blue/diagrams.npy\n",
      "Applying Scaler to persistence diagrams.\n",
      "Got the result from ./1/train/filtrations/2/HeightFiltrartion_-1_0/blue/features.npy\n",
      "Applying filtration 3/72: HeightFiltration with d = (-1, 1), bin. thr. = 0.2\n",
      "RGB images received. Transforming to grayscale.\n"
     ]
    },
    {
     "name": "stderr",
     "output_type": "stream",
     "text": [
      "rgb2gray: 100%|██████████| 26640/26640 [00:06<00:00, 4320.85it/s]\n"
     ]
    },
    {
     "name": "stdout",
     "output_type": "stream",
     "text": [
      "FiltrationExtractor: processing 1/train/filtrations/2/HeightFiltrartion_-1_1/gray, do_fit = False, filtration = HeightFiltration(direction=array([-1,  1]), n_jobs=-1)\n",
      "Got the result from ./1/train/filtrations/2/HeightFiltrartion_-1_1/gray/diagrams.npy\n",
      "Applying Scaler to persistence diagrams.\n",
      "Got the result from ./1/train/filtrations/2/HeightFiltrartion_-1_1/gray/features.npy\n",
      "FiltrationExtractor: processing 1/train/filtrations/2/HeightFiltrartion_-1_1/red, do_fit = False, filtration = HeightFiltration(direction=array([-1,  1]), n_jobs=-1)\n",
      "Got the result from ./1/train/filtrations/2/HeightFiltrartion_-1_1/red/diagrams.npy\n",
      "Applying Scaler to persistence diagrams.\n",
      "Got the result from ./1/train/filtrations/2/HeightFiltrartion_-1_1/red/features.npy\n",
      "FiltrationExtractor: processing 1/train/filtrations/2/HeightFiltrartion_-1_1/green, do_fit = False, filtration = HeightFiltration(direction=array([-1,  1]), n_jobs=-1)\n",
      "Got the result from ./1/train/filtrations/2/HeightFiltrartion_-1_1/green/diagrams.npy\n",
      "Applying Scaler to persistence diagrams.\n",
      "Got the result from ./1/train/filtrations/2/HeightFiltrartion_-1_1/green/features.npy\n",
      "FiltrationExtractor: processing 1/train/filtrations/2/HeightFiltrartion_-1_1/blue, do_fit = False, filtration = HeightFiltration(direction=array([-1,  1]), n_jobs=-1)\n",
      "Got the result from ./1/train/filtrations/2/HeightFiltrartion_-1_1/blue/diagrams.npy\n",
      "Applying Scaler to persistence diagrams.\n",
      "Got the result from ./1/train/filtrations/2/HeightFiltrartion_-1_1/blue/features.npy\n",
      "Applying filtration 4/72: HeightFiltration with d = (0, -1), bin. thr. = 0.2\n",
      "RGB images received. Transforming to grayscale.\n"
     ]
    },
    {
     "name": "stderr",
     "output_type": "stream",
     "text": [
      "rgb2gray: 100%|██████████| 26640/26640 [00:06<00:00, 4407.09it/s]\n"
     ]
    },
    {
     "name": "stdout",
     "output_type": "stream",
     "text": [
      "FiltrationExtractor: processing 1/train/filtrations/2/HeightFiltrartion_0_-1/gray, do_fit = False, filtration = HeightFiltration(direction=array([ 0, -1]), n_jobs=-1)\n",
      "Got the result from ./1/train/filtrations/2/HeightFiltrartion_0_-1/gray/diagrams.npy\n",
      "Applying Scaler to persistence diagrams.\n",
      "Got the result from ./1/train/filtrations/2/HeightFiltrartion_0_-1/gray/features.npy\n",
      "FiltrationExtractor: processing 1/train/filtrations/2/HeightFiltrartion_0_-1/red, do_fit = False, filtration = HeightFiltration(direction=array([ 0, -1]), n_jobs=-1)\n",
      "Got the result from ./1/train/filtrations/2/HeightFiltrartion_0_-1/red/diagrams.npy\n",
      "Applying Scaler to persistence diagrams.\n",
      "Got the result from ./1/train/filtrations/2/HeightFiltrartion_0_-1/red/features.npy\n",
      "FiltrationExtractor: processing 1/train/filtrations/2/HeightFiltrartion_0_-1/green, do_fit = False, filtration = HeightFiltration(direction=array([ 0, -1]), n_jobs=-1)\n",
      "Got the result from ./1/train/filtrations/2/HeightFiltrartion_0_-1/green/diagrams.npy\n",
      "Applying Scaler to persistence diagrams.\n",
      "Got the result from ./1/train/filtrations/2/HeightFiltrartion_0_-1/green/features.npy\n",
      "FiltrationExtractor: processing 1/train/filtrations/2/HeightFiltrartion_0_-1/blue, do_fit = False, filtration = HeightFiltration(direction=array([ 0, -1]), n_jobs=-1)\n",
      "Got the result from ./1/train/filtrations/2/HeightFiltrartion_0_-1/blue/diagrams.npy\n",
      "Applying Scaler to persistence diagrams.\n",
      "Got the result from ./1/train/filtrations/2/HeightFiltrartion_0_-1/blue/features.npy\n",
      "Applying filtration 5/72: HeightFiltration with d = (0, 1), bin. thr. = 0.2\n",
      "RGB images received. Transforming to grayscale.\n"
     ]
    },
    {
     "name": "stderr",
     "output_type": "stream",
     "text": [
      "rgb2gray: 100%|██████████| 26640/26640 [00:06<00:00, 4314.57it/s]\n"
     ]
    },
    {
     "name": "stdout",
     "output_type": "stream",
     "text": [
      "FiltrationExtractor: processing 1/train/filtrations/2/HeightFiltrartion_0_1/gray, do_fit = False, filtration = HeightFiltration(direction=array([0, 1]), n_jobs=-1)\n",
      "Got the result from ./1/train/filtrations/2/HeightFiltrartion_0_1/gray/diagrams.npy\n",
      "Applying Scaler to persistence diagrams.\n",
      "Got the result from ./1/train/filtrations/2/HeightFiltrartion_0_1/gray/features.npy\n",
      "FiltrationExtractor: processing 1/train/filtrations/2/HeightFiltrartion_0_1/red, do_fit = False, filtration = HeightFiltration(direction=array([0, 1]), n_jobs=-1)\n",
      "Got the result from ./1/train/filtrations/2/HeightFiltrartion_0_1/red/diagrams.npy\n",
      "Applying Scaler to persistence diagrams.\n",
      "Got the result from ./1/train/filtrations/2/HeightFiltrartion_0_1/red/features.npy\n",
      "FiltrationExtractor: processing 1/train/filtrations/2/HeightFiltrartion_0_1/green, do_fit = False, filtration = HeightFiltration(direction=array([0, 1]), n_jobs=-1)\n",
      "Got the result from ./1/train/filtrations/2/HeightFiltrartion_0_1/green/diagrams.npy\n",
      "Applying Scaler to persistence diagrams.\n",
      "Got the result from ./1/train/filtrations/2/HeightFiltrartion_0_1/green/features.npy\n",
      "FiltrationExtractor: processing 1/train/filtrations/2/HeightFiltrartion_0_1/blue, do_fit = False, filtration = HeightFiltration(direction=array([0, 1]), n_jobs=-1)\n",
      "Got the result from ./1/train/filtrations/2/HeightFiltrartion_0_1/blue/diagrams.npy\n",
      "Applying Scaler to persistence diagrams.\n",
      "Got the result from ./1/train/filtrations/2/HeightFiltrartion_0_1/blue/features.npy\n",
      "Applying filtration 6/72: HeightFiltration with d = (1, -1), bin. thr. = 0.2\n",
      "RGB images received. Transforming to grayscale.\n"
     ]
    },
    {
     "name": "stderr",
     "output_type": "stream",
     "text": [
      "rgb2gray: 100%|██████████| 26640/26640 [00:06<00:00, 4398.93it/s]\n"
     ]
    },
    {
     "name": "stdout",
     "output_type": "stream",
     "text": [
      "FiltrationExtractor: processing 1/train/filtrations/2/HeightFiltrartion_1_-1/gray, do_fit = False, filtration = HeightFiltration(direction=array([ 1, -1]), n_jobs=-1)\n",
      "Got the result from ./1/train/filtrations/2/HeightFiltrartion_1_-1/gray/diagrams.npy\n",
      "Applying Scaler to persistence diagrams.\n",
      "Got the result from ./1/train/filtrations/2/HeightFiltrartion_1_-1/gray/features.npy\n",
      "FiltrationExtractor: processing 1/train/filtrations/2/HeightFiltrartion_1_-1/red, do_fit = False, filtration = HeightFiltration(direction=array([ 1, -1]), n_jobs=-1)\n",
      "Got the result from ./1/train/filtrations/2/HeightFiltrartion_1_-1/red/diagrams.npy\n",
      "Applying Scaler to persistence diagrams.\n",
      "Got the result from ./1/train/filtrations/2/HeightFiltrartion_1_-1/red/features.npy\n",
      "FiltrationExtractor: processing 1/train/filtrations/2/HeightFiltrartion_1_-1/green, do_fit = False, filtration = HeightFiltration(direction=array([ 1, -1]), n_jobs=-1)\n",
      "Got the result from ./1/train/filtrations/2/HeightFiltrartion_1_-1/green/diagrams.npy\n",
      "Applying Scaler to persistence diagrams.\n",
      "Got the result from ./1/train/filtrations/2/HeightFiltrartion_1_-1/green/features.npy\n",
      "FiltrationExtractor: processing 1/train/filtrations/2/HeightFiltrartion_1_-1/blue, do_fit = False, filtration = HeightFiltration(direction=array([ 1, -1]), n_jobs=-1)\n",
      "Got the result from ./1/train/filtrations/2/HeightFiltrartion_1_-1/blue/diagrams.npy\n",
      "Applying Scaler to persistence diagrams.\n",
      "Got the result from ./1/train/filtrations/2/HeightFiltrartion_1_-1/blue/features.npy\n",
      "Applying filtration 7/72: HeightFiltration with d = (1, 0), bin. thr. = 0.2\n",
      "RGB images received. Transforming to grayscale.\n"
     ]
    },
    {
     "name": "stderr",
     "output_type": "stream",
     "text": [
      "rgb2gray: 100%|██████████| 26640/26640 [00:06<00:00, 4317.87it/s]\n"
     ]
    },
    {
     "name": "stdout",
     "output_type": "stream",
     "text": [
      "FiltrationExtractor: processing 1/train/filtrations/2/HeightFiltrartion_1_0/gray, do_fit = False, filtration = HeightFiltration(direction=array([1, 0]), n_jobs=-1)\n",
      "Got the result from ./1/train/filtrations/2/HeightFiltrartion_1_0/gray/diagrams.npy\n",
      "Applying Scaler to persistence diagrams.\n",
      "Got the result from ./1/train/filtrations/2/HeightFiltrartion_1_0/gray/features.npy\n",
      "FiltrationExtractor: processing 1/train/filtrations/2/HeightFiltrartion_1_0/red, do_fit = False, filtration = HeightFiltration(direction=array([1, 0]), n_jobs=-1)\n",
      "Got the result from ./1/train/filtrations/2/HeightFiltrartion_1_0/red/diagrams.npy\n",
      "Applying Scaler to persistence diagrams.\n",
      "Got the result from ./1/train/filtrations/2/HeightFiltrartion_1_0/red/features.npy\n",
      "FiltrationExtractor: processing 1/train/filtrations/2/HeightFiltrartion_1_0/green, do_fit = False, filtration = HeightFiltration(direction=array([1, 0]), n_jobs=-1)\n",
      "Got the result from ./1/train/filtrations/2/HeightFiltrartion_1_0/green/diagrams.npy\n",
      "Applying Scaler to persistence diagrams.\n",
      "Got the result from ./1/train/filtrations/2/HeightFiltrartion_1_0/green/features.npy\n",
      "FiltrationExtractor: processing 1/train/filtrations/2/HeightFiltrartion_1_0/blue, do_fit = False, filtration = HeightFiltration(direction=array([1, 0]), n_jobs=-1)\n",
      "Got the result from ./1/train/filtrations/2/HeightFiltrartion_1_0/blue/diagrams.npy\n",
      "Applying Scaler to persistence diagrams.\n",
      "Got the result from ./1/train/filtrations/2/HeightFiltrartion_1_0/blue/features.npy\n",
      "Applying filtration 8/72: HeightFiltration with d = (1, 1), bin. thr. = 0.2\n",
      "RGB images received. Transforming to grayscale.\n"
     ]
    },
    {
     "name": "stderr",
     "output_type": "stream",
     "text": [
      "rgb2gray: 100%|██████████| 26640/26640 [00:06<00:00, 4316.18it/s]\n"
     ]
    },
    {
     "name": "stdout",
     "output_type": "stream",
     "text": [
      "FiltrationExtractor: processing 1/train/filtrations/2/HeightFiltrartion_1_1/gray, do_fit = False, filtration = HeightFiltration(direction=array([1, 1]), n_jobs=-1)\n",
      "Got the result from ./1/train/filtrations/2/HeightFiltrartion_1_1/gray/diagrams.npy\n",
      "Applying Scaler to persistence diagrams.\n",
      "Got the result from ./1/train/filtrations/2/HeightFiltrartion_1_1/gray/features.npy\n",
      "FiltrationExtractor: processing 1/train/filtrations/2/HeightFiltrartion_1_1/red, do_fit = False, filtration = HeightFiltration(direction=array([1, 1]), n_jobs=-1)\n",
      "Got the result from ./1/train/filtrations/2/HeightFiltrartion_1_1/red/diagrams.npy\n",
      "Applying Scaler to persistence diagrams.\n",
      "Got the result from ./1/train/filtrations/2/HeightFiltrartion_1_1/red/features.npy\n",
      "FiltrationExtractor: processing 1/train/filtrations/2/HeightFiltrartion_1_1/green, do_fit = False, filtration = HeightFiltration(direction=array([1, 1]), n_jobs=-1)\n",
      "Got the result from ./1/train/filtrations/2/HeightFiltrartion_1_1/green/diagrams.npy\n",
      "Applying Scaler to persistence diagrams.\n",
      "Got the result from ./1/train/filtrations/2/HeightFiltrartion_1_1/green/features.npy\n",
      "FiltrationExtractor: processing 1/train/filtrations/2/HeightFiltrartion_1_1/blue, do_fit = False, filtration = HeightFiltration(direction=array([1, 1]), n_jobs=-1)\n",
      "Got the result from ./1/train/filtrations/2/HeightFiltrartion_1_1/blue/diagrams.npy\n",
      "Applying Scaler to persistence diagrams.\n",
      "Got the result from ./1/train/filtrations/2/HeightFiltrartion_1_1/blue/features.npy\n",
      "Applying filtration 9/72: RadialFiltration with c = (12, 12), bin. thr. = 0.2\n",
      "RGB images received. Transforming to grayscale.\n"
     ]
    },
    {
     "name": "stderr",
     "output_type": "stream",
     "text": [
      "rgb2gray: 100%|██████████| 26640/26640 [00:06<00:00, 4211.04it/s]\n"
     ]
    },
    {
     "name": "stdout",
     "output_type": "stream",
     "text": [
      "FiltrationExtractor: processing 1/train/filtrations/2/RadialFiltration_12_12/gray, do_fit = False, filtration = RadialFiltration(center=array([12, 12]), n_jobs=-1)\n",
      "Got the result from ./1/train/filtrations/2/RadialFiltration_12_12/gray/diagrams.npy\n",
      "Applying Scaler to persistence diagrams.\n",
      "Got the result from ./1/train/filtrations/2/RadialFiltration_12_12/gray/features.npy\n",
      "FiltrationExtractor: processing 1/train/filtrations/2/RadialFiltration_12_12/red, do_fit = False, filtration = RadialFiltration(center=array([12, 12]), n_jobs=-1)\n",
      "Got the result from ./1/train/filtrations/2/RadialFiltration_12_12/red/diagrams.npy\n",
      "Applying Scaler to persistence diagrams.\n",
      "Got the result from ./1/train/filtrations/2/RadialFiltration_12_12/red/features.npy\n",
      "FiltrationExtractor: processing 1/train/filtrations/2/RadialFiltration_12_12/green, do_fit = False, filtration = RadialFiltration(center=array([12, 12]), n_jobs=-1)\n",
      "Got the result from ./1/train/filtrations/2/RadialFiltration_12_12/green/diagrams.npy\n",
      "Applying Scaler to persistence diagrams.\n",
      "Got the result from ./1/train/filtrations/2/RadialFiltration_12_12/green/features.npy\n",
      "FiltrationExtractor: processing 1/train/filtrations/2/RadialFiltration_12_12/blue, do_fit = False, filtration = RadialFiltration(center=array([12, 12]), n_jobs=-1)\n",
      "Got the result from ./1/train/filtrations/2/RadialFiltration_12_12/blue/diagrams.npy\n",
      "Applying Scaler to persistence diagrams.\n",
      "Got the result from ./1/train/filtrations/2/RadialFiltration_12_12/blue/features.npy\n",
      "Applying filtration 10/72: RadialFiltration with c = (12, 25), bin. thr. = 0.2\n",
      "RGB images received. Transforming to grayscale.\n"
     ]
    },
    {
     "name": "stderr",
     "output_type": "stream",
     "text": [
      "rgb2gray: 100%|██████████| 26640/26640 [00:06<00:00, 4320.63it/s]\n"
     ]
    },
    {
     "name": "stdout",
     "output_type": "stream",
     "text": [
      "FiltrationExtractor: processing 1/train/filtrations/2/RadialFiltration_12_25/gray, do_fit = False, filtration = RadialFiltration(center=array([12, 25]), n_jobs=-1)\n",
      "Got the result from ./1/train/filtrations/2/RadialFiltration_12_25/gray/diagrams.npy\n",
      "Applying Scaler to persistence diagrams.\n",
      "Got the result from ./1/train/filtrations/2/RadialFiltration_12_25/gray/features.npy\n",
      "FiltrationExtractor: processing 1/train/filtrations/2/RadialFiltration_12_25/red, do_fit = False, filtration = RadialFiltration(center=array([12, 25]), n_jobs=-1)\n",
      "Got the result from ./1/train/filtrations/2/RadialFiltration_12_25/red/diagrams.npy\n",
      "Applying Scaler to persistence diagrams.\n",
      "Got the result from ./1/train/filtrations/2/RadialFiltration_12_25/red/features.npy\n",
      "FiltrationExtractor: processing 1/train/filtrations/2/RadialFiltration_12_25/green, do_fit = False, filtration = RadialFiltration(center=array([12, 25]), n_jobs=-1)\n",
      "Got the result from ./1/train/filtrations/2/RadialFiltration_12_25/green/diagrams.npy\n",
      "Applying Scaler to persistence diagrams.\n",
      "Got the result from ./1/train/filtrations/2/RadialFiltration_12_25/green/features.npy\n",
      "FiltrationExtractor: processing 1/train/filtrations/2/RadialFiltration_12_25/blue, do_fit = False, filtration = RadialFiltration(center=array([12, 25]), n_jobs=-1)\n",
      "Got the result from ./1/train/filtrations/2/RadialFiltration_12_25/blue/diagrams.npy\n",
      "Applying Scaler to persistence diagrams.\n",
      "Got the result from ./1/train/filtrations/2/RadialFiltration_12_25/blue/features.npy\n",
      "Applying filtration 11/72: RadialFiltration with c = (12, 38), bin. thr. = 0.2\n",
      "RGB images received. Transforming to grayscale.\n"
     ]
    },
    {
     "name": "stderr",
     "output_type": "stream",
     "text": [
      "rgb2gray: 100%|██████████| 26640/26640 [00:06<00:00, 4383.42it/s]\n"
     ]
    },
    {
     "name": "stdout",
     "output_type": "stream",
     "text": [
      "FiltrationExtractor: processing 1/train/filtrations/2/RadialFiltration_12_38/gray, do_fit = False, filtration = RadialFiltration(center=array([12, 38]), n_jobs=-1)\n",
      "Got the result from ./1/train/filtrations/2/RadialFiltration_12_38/gray/diagrams.npy\n",
      "Applying Scaler to persistence diagrams.\n",
      "Got the result from ./1/train/filtrations/2/RadialFiltration_12_38/gray/features.npy\n",
      "FiltrationExtractor: processing 1/train/filtrations/2/RadialFiltration_12_38/red, do_fit = False, filtration = RadialFiltration(center=array([12, 38]), n_jobs=-1)\n",
      "Got the result from ./1/train/filtrations/2/RadialFiltration_12_38/red/diagrams.npy\n",
      "Applying Scaler to persistence diagrams.\n",
      "Got the result from ./1/train/filtrations/2/RadialFiltration_12_38/red/features.npy\n",
      "FiltrationExtractor: processing 1/train/filtrations/2/RadialFiltration_12_38/green, do_fit = False, filtration = RadialFiltration(center=array([12, 38]), n_jobs=-1)\n",
      "Got the result from ./1/train/filtrations/2/RadialFiltration_12_38/green/diagrams.npy\n",
      "Applying Scaler to persistence diagrams.\n",
      "Got the result from ./1/train/filtrations/2/RadialFiltration_12_38/green/features.npy\n",
      "FiltrationExtractor: processing 1/train/filtrations/2/RadialFiltration_12_38/blue, do_fit = False, filtration = RadialFiltration(center=array([12, 38]), n_jobs=-1)\n",
      "Got the result from ./1/train/filtrations/2/RadialFiltration_12_38/blue/diagrams.npy\n",
      "Applying Scaler to persistence diagrams.\n",
      "Got the result from ./1/train/filtrations/2/RadialFiltration_12_38/blue/features.npy\n",
      "Applying filtration 12/72: RadialFiltration with c = (12, 51), bin. thr. = 0.2\n",
      "RGB images received. Transforming to grayscale.\n"
     ]
    },
    {
     "name": "stderr",
     "output_type": "stream",
     "text": [
      "rgb2gray: 100%|██████████| 26640/26640 [00:06<00:00, 4329.15it/s]\n"
     ]
    },
    {
     "name": "stdout",
     "output_type": "stream",
     "text": [
      "FiltrationExtractor: processing 1/train/filtrations/2/RadialFiltration_12_51/gray, do_fit = False, filtration = RadialFiltration(center=array([12, 51]), n_jobs=-1)\n",
      "Got the result from ./1/train/filtrations/2/RadialFiltration_12_51/gray/diagrams.npy\n",
      "Applying Scaler to persistence diagrams.\n",
      "Got the result from ./1/train/filtrations/2/RadialFiltration_12_51/gray/features.npy\n",
      "FiltrationExtractor: processing 1/train/filtrations/2/RadialFiltration_12_51/red, do_fit = False, filtration = RadialFiltration(center=array([12, 51]), n_jobs=-1)\n",
      "Got the result from ./1/train/filtrations/2/RadialFiltration_12_51/red/diagrams.npy\n",
      "Applying Scaler to persistence diagrams.\n",
      "Got the result from ./1/train/filtrations/2/RadialFiltration_12_51/red/features.npy\n",
      "FiltrationExtractor: processing 1/train/filtrations/2/RadialFiltration_12_51/green, do_fit = False, filtration = RadialFiltration(center=array([12, 51]), n_jobs=-1)\n",
      "Got the result from ./1/train/filtrations/2/RadialFiltration_12_51/green/diagrams.npy\n",
      "Applying Scaler to persistence diagrams.\n",
      "Got the result from ./1/train/filtrations/2/RadialFiltration_12_51/green/features.npy\n",
      "FiltrationExtractor: processing 1/train/filtrations/2/RadialFiltration_12_51/blue, do_fit = False, filtration = RadialFiltration(center=array([12, 51]), n_jobs=-1)\n",
      "Got the result from ./1/train/filtrations/2/RadialFiltration_12_51/blue/diagrams.npy\n",
      "Applying Scaler to persistence diagrams.\n",
      "Got the result from ./1/train/filtrations/2/RadialFiltration_12_51/blue/features.npy\n",
      "Applying filtration 13/72: RadialFiltration with c = (25, 12), bin. thr. = 0.2\n",
      "RGB images received. Transforming to grayscale.\n"
     ]
    },
    {
     "name": "stderr",
     "output_type": "stream",
     "text": [
      "rgb2gray: 100%|██████████| 26640/26640 [00:06<00:00, 4414.92it/s]\n"
     ]
    },
    {
     "name": "stdout",
     "output_type": "stream",
     "text": [
      "FiltrationExtractor: processing 1/train/filtrations/2/RadialFiltration_25_12/gray, do_fit = False, filtration = RadialFiltration(center=array([25, 12]), n_jobs=-1)\n",
      "Got the result from ./1/train/filtrations/2/RadialFiltration_25_12/gray/diagrams.npy\n",
      "Applying Scaler to persistence diagrams.\n",
      "Got the result from ./1/train/filtrations/2/RadialFiltration_25_12/gray/features.npy\n",
      "FiltrationExtractor: processing 1/train/filtrations/2/RadialFiltration_25_12/red, do_fit = False, filtration = RadialFiltration(center=array([25, 12]), n_jobs=-1)\n",
      "Got the result from ./1/train/filtrations/2/RadialFiltration_25_12/red/diagrams.npy\n",
      "Applying Scaler to persistence diagrams.\n",
      "Got the result from ./1/train/filtrations/2/RadialFiltration_25_12/red/features.npy\n",
      "FiltrationExtractor: processing 1/train/filtrations/2/RadialFiltration_25_12/green, do_fit = False, filtration = RadialFiltration(center=array([25, 12]), n_jobs=-1)\n",
      "Got the result from ./1/train/filtrations/2/RadialFiltration_25_12/green/diagrams.npy\n",
      "Applying Scaler to persistence diagrams.\n",
      "Got the result from ./1/train/filtrations/2/RadialFiltration_25_12/green/features.npy\n",
      "FiltrationExtractor: processing 1/train/filtrations/2/RadialFiltration_25_12/blue, do_fit = False, filtration = RadialFiltration(center=array([25, 12]), n_jobs=-1)\n",
      "Got the result from ./1/train/filtrations/2/RadialFiltration_25_12/blue/diagrams.npy\n",
      "Applying Scaler to persistence diagrams.\n",
      "Got the result from ./1/train/filtrations/2/RadialFiltration_25_12/blue/features.npy\n",
      "Applying filtration 14/72: RadialFiltration with c = (25, 25), bin. thr. = 0.2\n",
      "RGB images received. Transforming to grayscale.\n"
     ]
    },
    {
     "name": "stderr",
     "output_type": "stream",
     "text": [
      "rgb2gray: 100%|██████████| 26640/26640 [00:06<00:00, 4321.05it/s]\n"
     ]
    },
    {
     "name": "stdout",
     "output_type": "stream",
     "text": [
      "FiltrationExtractor: processing 1/train/filtrations/2/RadialFiltration_25_25/gray, do_fit = False, filtration = RadialFiltration(center=array([25, 25]), n_jobs=-1)\n",
      "Got the result from ./1/train/filtrations/2/RadialFiltration_25_25/gray/diagrams.npy\n",
      "Applying Scaler to persistence diagrams.\n",
      "Got the result from ./1/train/filtrations/2/RadialFiltration_25_25/gray/features.npy\n",
      "FiltrationExtractor: processing 1/train/filtrations/2/RadialFiltration_25_25/red, do_fit = False, filtration = RadialFiltration(center=array([25, 25]), n_jobs=-1)\n",
      "Got the result from ./1/train/filtrations/2/RadialFiltration_25_25/red/diagrams.npy\n",
      "Applying Scaler to persistence diagrams.\n",
      "Got the result from ./1/train/filtrations/2/RadialFiltration_25_25/red/features.npy\n",
      "FiltrationExtractor: processing 1/train/filtrations/2/RadialFiltration_25_25/green, do_fit = False, filtration = RadialFiltration(center=array([25, 25]), n_jobs=-1)\n",
      "Got the result from ./1/train/filtrations/2/RadialFiltration_25_25/green/diagrams.npy\n",
      "Applying Scaler to persistence diagrams.\n",
      "Got the result from ./1/train/filtrations/2/RadialFiltration_25_25/green/features.npy\n",
      "FiltrationExtractor: processing 1/train/filtrations/2/RadialFiltration_25_25/blue, do_fit = False, filtration = RadialFiltration(center=array([25, 25]), n_jobs=-1)\n",
      "Got the result from ./1/train/filtrations/2/RadialFiltration_25_25/blue/diagrams.npy\n",
      "Applying Scaler to persistence diagrams.\n",
      "Got the result from ./1/train/filtrations/2/RadialFiltration_25_25/blue/features.npy\n",
      "Applying filtration 15/72: RadialFiltration with c = (25, 38), bin. thr. = 0.2\n",
      "RGB images received. Transforming to grayscale.\n"
     ]
    },
    {
     "name": "stderr",
     "output_type": "stream",
     "text": [
      "rgb2gray: 100%|██████████| 26640/26640 [00:06<00:00, 4340.11it/s]\n"
     ]
    },
    {
     "name": "stdout",
     "output_type": "stream",
     "text": [
      "FiltrationExtractor: processing 1/train/filtrations/2/RadialFiltration_25_38/gray, do_fit = False, filtration = RadialFiltration(center=array([25, 38]), n_jobs=-1)\n",
      "Got the result from ./1/train/filtrations/2/RadialFiltration_25_38/gray/diagrams.npy\n",
      "Applying Scaler to persistence diagrams.\n",
      "Got the result from ./1/train/filtrations/2/RadialFiltration_25_38/gray/features.npy\n",
      "FiltrationExtractor: processing 1/train/filtrations/2/RadialFiltration_25_38/red, do_fit = False, filtration = RadialFiltration(center=array([25, 38]), n_jobs=-1)\n",
      "Got the result from ./1/train/filtrations/2/RadialFiltration_25_38/red/diagrams.npy\n",
      "Applying Scaler to persistence diagrams.\n",
      "Got the result from ./1/train/filtrations/2/RadialFiltration_25_38/red/features.npy\n",
      "FiltrationExtractor: processing 1/train/filtrations/2/RadialFiltration_25_38/green, do_fit = False, filtration = RadialFiltration(center=array([25, 38]), n_jobs=-1)\n",
      "Got the result from ./1/train/filtrations/2/RadialFiltration_25_38/green/diagrams.npy\n",
      "Applying Scaler to persistence diagrams.\n",
      "Got the result from ./1/train/filtrations/2/RadialFiltration_25_38/green/features.npy\n",
      "FiltrationExtractor: processing 1/train/filtrations/2/RadialFiltration_25_38/blue, do_fit = False, filtration = RadialFiltration(center=array([25, 38]), n_jobs=-1)\n",
      "Got the result from ./1/train/filtrations/2/RadialFiltration_25_38/blue/diagrams.npy\n",
      "Applying Scaler to persistence diagrams.\n",
      "Got the result from ./1/train/filtrations/2/RadialFiltration_25_38/blue/features.npy\n",
      "Applying filtration 16/72: RadialFiltration with c = (25, 51), bin. thr. = 0.2\n",
      "RGB images received. Transforming to grayscale.\n"
     ]
    },
    {
     "name": "stderr",
     "output_type": "stream",
     "text": [
      "rgb2gray: 100%|██████████| 26640/26640 [00:06<00:00, 4389.92it/s]\n"
     ]
    },
    {
     "name": "stdout",
     "output_type": "stream",
     "text": [
      "FiltrationExtractor: processing 1/train/filtrations/2/RadialFiltration_25_51/gray, do_fit = False, filtration = RadialFiltration(center=array([25, 51]), n_jobs=-1)\n",
      "Got the result from ./1/train/filtrations/2/RadialFiltration_25_51/gray/diagrams.npy\n",
      "Applying Scaler to persistence diagrams.\n",
      "Got the result from ./1/train/filtrations/2/RadialFiltration_25_51/gray/features.npy\n",
      "FiltrationExtractor: processing 1/train/filtrations/2/RadialFiltration_25_51/red, do_fit = False, filtration = RadialFiltration(center=array([25, 51]), n_jobs=-1)\n",
      "Got the result from ./1/train/filtrations/2/RadialFiltration_25_51/red/diagrams.npy\n",
      "Applying Scaler to persistence diagrams.\n",
      "Got the result from ./1/train/filtrations/2/RadialFiltration_25_51/red/features.npy\n",
      "FiltrationExtractor: processing 1/train/filtrations/2/RadialFiltration_25_51/green, do_fit = False, filtration = RadialFiltration(center=array([25, 51]), n_jobs=-1)\n",
      "Got the result from ./1/train/filtrations/2/RadialFiltration_25_51/green/diagrams.npy\n",
      "Applying Scaler to persistence diagrams.\n",
      "Got the result from ./1/train/filtrations/2/RadialFiltration_25_51/green/features.npy\n",
      "FiltrationExtractor: processing 1/train/filtrations/2/RadialFiltration_25_51/blue, do_fit = False, filtration = RadialFiltration(center=array([25, 51]), n_jobs=-1)\n",
      "Got the result from ./1/train/filtrations/2/RadialFiltration_25_51/blue/diagrams.npy\n",
      "Applying Scaler to persistence diagrams.\n",
      "Got the result from ./1/train/filtrations/2/RadialFiltration_25_51/blue/features.npy\n",
      "Applying filtration 17/72: RadialFiltration with c = (38, 12), bin. thr. = 0.2\n",
      "RGB images received. Transforming to grayscale.\n"
     ]
    },
    {
     "name": "stderr",
     "output_type": "stream",
     "text": [
      "rgb2gray: 100%|██████████| 26640/26640 [00:06<00:00, 4280.85it/s]\n"
     ]
    },
    {
     "name": "stdout",
     "output_type": "stream",
     "text": [
      "FiltrationExtractor: processing 1/train/filtrations/2/RadialFiltration_38_12/gray, do_fit = False, filtration = RadialFiltration(center=array([38, 12]), n_jobs=-1)\n",
      "Got the result from ./1/train/filtrations/2/RadialFiltration_38_12/gray/diagrams.npy\n",
      "Applying Scaler to persistence diagrams.\n",
      "Got the result from ./1/train/filtrations/2/RadialFiltration_38_12/gray/features.npy\n",
      "FiltrationExtractor: processing 1/train/filtrations/2/RadialFiltration_38_12/red, do_fit = False, filtration = RadialFiltration(center=array([38, 12]), n_jobs=-1)\n",
      "Got the result from ./1/train/filtrations/2/RadialFiltration_38_12/red/diagrams.npy\n",
      "Applying Scaler to persistence diagrams.\n",
      "Got the result from ./1/train/filtrations/2/RadialFiltration_38_12/red/features.npy\n",
      "FiltrationExtractor: processing 1/train/filtrations/2/RadialFiltration_38_12/green, do_fit = False, filtration = RadialFiltration(center=array([38, 12]), n_jobs=-1)\n",
      "Got the result from ./1/train/filtrations/2/RadialFiltration_38_12/green/diagrams.npy\n",
      "Applying Scaler to persistence diagrams.\n",
      "Got the result from ./1/train/filtrations/2/RadialFiltration_38_12/green/features.npy\n",
      "FiltrationExtractor: processing 1/train/filtrations/2/RadialFiltration_38_12/blue, do_fit = False, filtration = RadialFiltration(center=array([38, 12]), n_jobs=-1)\n",
      "Got the result from ./1/train/filtrations/2/RadialFiltration_38_12/blue/diagrams.npy\n",
      "Applying Scaler to persistence diagrams.\n",
      "Got the result from ./1/train/filtrations/2/RadialFiltration_38_12/blue/features.npy\n",
      "Applying filtration 18/72: RadialFiltration with c = (38, 25), bin. thr. = 0.2\n",
      "RGB images received. Transforming to grayscale.\n"
     ]
    },
    {
     "name": "stderr",
     "output_type": "stream",
     "text": [
      "rgb2gray: 100%|██████████| 26640/26640 [00:06<00:00, 4318.56it/s]\n"
     ]
    },
    {
     "name": "stdout",
     "output_type": "stream",
     "text": [
      "FiltrationExtractor: processing 1/train/filtrations/2/RadialFiltration_38_25/gray, do_fit = False, filtration = RadialFiltration(center=array([38, 25]), n_jobs=-1)\n",
      "Got the result from ./1/train/filtrations/2/RadialFiltration_38_25/gray/diagrams.npy\n",
      "Applying Scaler to persistence diagrams.\n",
      "Got the result from ./1/train/filtrations/2/RadialFiltration_38_25/gray/features.npy\n",
      "FiltrationExtractor: processing 1/train/filtrations/2/RadialFiltration_38_25/red, do_fit = False, filtration = RadialFiltration(center=array([38, 25]), n_jobs=-1)\n",
      "Got the result from ./1/train/filtrations/2/RadialFiltration_38_25/red/diagrams.npy\n",
      "Applying Scaler to persistence diagrams.\n",
      "Got the result from ./1/train/filtrations/2/RadialFiltration_38_25/red/features.npy\n",
      "FiltrationExtractor: processing 1/train/filtrations/2/RadialFiltration_38_25/green, do_fit = False, filtration = RadialFiltration(center=array([38, 25]), n_jobs=-1)\n",
      "Got the result from ./1/train/filtrations/2/RadialFiltration_38_25/green/diagrams.npy\n",
      "Applying Scaler to persistence diagrams.\n",
      "Got the result from ./1/train/filtrations/2/RadialFiltration_38_25/green/features.npy\n",
      "FiltrationExtractor: processing 1/train/filtrations/2/RadialFiltration_38_25/blue, do_fit = False, filtration = RadialFiltration(center=array([38, 25]), n_jobs=-1)\n",
      "Got the result from ./1/train/filtrations/2/RadialFiltration_38_25/blue/diagrams.npy\n",
      "Applying Scaler to persistence diagrams.\n",
      "Got the result from ./1/train/filtrations/2/RadialFiltration_38_25/blue/features.npy\n",
      "Applying filtration 19/72: RadialFiltration with c = (38, 38), bin. thr. = 0.2\n",
      "RGB images received. Transforming to grayscale.\n"
     ]
    },
    {
     "name": "stderr",
     "output_type": "stream",
     "text": [
      "rgb2gray: 100%|██████████| 26640/26640 [00:10<00:00, 2493.99it/s]\n"
     ]
    },
    {
     "name": "stdout",
     "output_type": "stream",
     "text": [
      "FiltrationExtractor: processing 1/train/filtrations/2/RadialFiltration_38_38/gray, do_fit = False, filtration = RadialFiltration(center=array([38, 38]), n_jobs=-1)\n",
      "Got the result from ./1/train/filtrations/2/RadialFiltration_38_38/gray/diagrams.npy\n",
      "Applying Scaler to persistence diagrams.\n",
      "Got the result from ./1/train/filtrations/2/RadialFiltration_38_38/gray/features.npy\n",
      "FiltrationExtractor: processing 1/train/filtrations/2/RadialFiltration_38_38/red, do_fit = False, filtration = RadialFiltration(center=array([38, 38]), n_jobs=-1)\n",
      "Got the result from ./1/train/filtrations/2/RadialFiltration_38_38/red/diagrams.npy\n",
      "Applying Scaler to persistence diagrams.\n",
      "Got the result from ./1/train/filtrations/2/RadialFiltration_38_38/red/features.npy\n",
      "FiltrationExtractor: processing 1/train/filtrations/2/RadialFiltration_38_38/green, do_fit = False, filtration = RadialFiltration(center=array([38, 38]), n_jobs=-1)\n",
      "Got the result from ./1/train/filtrations/2/RadialFiltration_38_38/green/diagrams.npy\n",
      "Applying Scaler to persistence diagrams.\n",
      "Got the result from ./1/train/filtrations/2/RadialFiltration_38_38/green/features.npy\n",
      "FiltrationExtractor: processing 1/train/filtrations/2/RadialFiltration_38_38/blue, do_fit = False, filtration = RadialFiltration(center=array([38, 38]), n_jobs=-1)\n",
      "Got the result from ./1/train/filtrations/2/RadialFiltration_38_38/blue/diagrams.npy\n",
      "Applying Scaler to persistence diagrams.\n",
      "Got the result from ./1/train/filtrations/2/RadialFiltration_38_38/blue/features.npy\n",
      "Applying filtration 20/72: RadialFiltration with c = (38, 51), bin. thr. = 0.2\n",
      "RGB images received. Transforming to grayscale.\n"
     ]
    },
    {
     "name": "stderr",
     "output_type": "stream",
     "text": [
      "rgb2gray: 100%|██████████| 26640/26640 [00:09<00:00, 2698.03it/s]\n"
     ]
    },
    {
     "name": "stdout",
     "output_type": "stream",
     "text": [
      "FiltrationExtractor: processing 1/train/filtrations/2/RadialFiltration_38_51/gray, do_fit = False, filtration = RadialFiltration(center=array([38, 51]), n_jobs=-1)\n",
      "Got the result from ./1/train/filtrations/2/RadialFiltration_38_51/gray/diagrams.npy\n",
      "Applying Scaler to persistence diagrams.\n",
      "Got the result from ./1/train/filtrations/2/RadialFiltration_38_51/gray/features.npy\n",
      "FiltrationExtractor: processing 1/train/filtrations/2/RadialFiltration_38_51/red, do_fit = False, filtration = RadialFiltration(center=array([38, 51]), n_jobs=-1)\n",
      "Got the result from ./1/train/filtrations/2/RadialFiltration_38_51/red/diagrams.npy\n",
      "Applying Scaler to persistence diagrams.\n",
      "Got the result from ./1/train/filtrations/2/RadialFiltration_38_51/red/features.npy\n",
      "FiltrationExtractor: processing 1/train/filtrations/2/RadialFiltration_38_51/green, do_fit = False, filtration = RadialFiltration(center=array([38, 51]), n_jobs=-1)\n",
      "Got the result from ./1/train/filtrations/2/RadialFiltration_38_51/green/diagrams.npy\n",
      "Applying Scaler to persistence diagrams.\n",
      "Got the result from ./1/train/filtrations/2/RadialFiltration_38_51/green/features.npy\n",
      "FiltrationExtractor: processing 1/train/filtrations/2/RadialFiltration_38_51/blue, do_fit = False, filtration = RadialFiltration(center=array([38, 51]), n_jobs=-1)\n",
      "Got the result from ./1/train/filtrations/2/RadialFiltration_38_51/blue/diagrams.npy\n",
      "Applying Scaler to persistence diagrams.\n",
      "Got the result from ./1/train/filtrations/2/RadialFiltration_38_51/blue/features.npy\n",
      "Applying filtration 21/72: RadialFiltration with c = (51, 12), bin. thr. = 0.2\n",
      "RGB images received. Transforming to grayscale.\n"
     ]
    },
    {
     "name": "stderr",
     "output_type": "stream",
     "text": [
      "rgb2gray: 100%|██████████| 26640/26640 [00:09<00:00, 2729.88it/s]\n"
     ]
    },
    {
     "name": "stdout",
     "output_type": "stream",
     "text": [
      "FiltrationExtractor: processing 1/train/filtrations/2/RadialFiltration_51_12/gray, do_fit = False, filtration = RadialFiltration(center=array([51, 12]), n_jobs=-1)\n",
      "Got the result from ./1/train/filtrations/2/RadialFiltration_51_12/gray/diagrams.npy\n",
      "Applying Scaler to persistence diagrams.\n",
      "Got the result from ./1/train/filtrations/2/RadialFiltration_51_12/gray/features.npy\n",
      "FiltrationExtractor: processing 1/train/filtrations/2/RadialFiltration_51_12/red, do_fit = False, filtration = RadialFiltration(center=array([51, 12]), n_jobs=-1)\n",
      "Got the result from ./1/train/filtrations/2/RadialFiltration_51_12/red/diagrams.npy\n",
      "Applying Scaler to persistence diagrams.\n",
      "Got the result from ./1/train/filtrations/2/RadialFiltration_51_12/red/features.npy\n",
      "FiltrationExtractor: processing 1/train/filtrations/2/RadialFiltration_51_12/green, do_fit = False, filtration = RadialFiltration(center=array([51, 12]), n_jobs=-1)\n",
      "Got the result from ./1/train/filtrations/2/RadialFiltration_51_12/green/diagrams.npy\n",
      "Applying Scaler to persistence diagrams.\n",
      "Got the result from ./1/train/filtrations/2/RadialFiltration_51_12/green/features.npy\n",
      "FiltrationExtractor: processing 1/train/filtrations/2/RadialFiltration_51_12/blue, do_fit = False, filtration = RadialFiltration(center=array([51, 12]), n_jobs=-1)\n",
      "Got the result from ./1/train/filtrations/2/RadialFiltration_51_12/blue/diagrams.npy\n",
      "Applying Scaler to persistence diagrams.\n",
      "Got the result from ./1/train/filtrations/2/RadialFiltration_51_12/blue/features.npy\n",
      "Applying filtration 22/72: RadialFiltration with c = (51, 25), bin. thr. = 0.2\n",
      "RGB images received. Transforming to grayscale.\n"
     ]
    },
    {
     "name": "stderr",
     "output_type": "stream",
     "text": [
      "rgb2gray: 100%|██████████| 26640/26640 [00:09<00:00, 2696.96it/s]\n"
     ]
    },
    {
     "name": "stdout",
     "output_type": "stream",
     "text": [
      "FiltrationExtractor: processing 1/train/filtrations/2/RadialFiltration_51_25/gray, do_fit = False, filtration = RadialFiltration(center=array([51, 25]), n_jobs=-1)\n",
      "Got the result from ./1/train/filtrations/2/RadialFiltration_51_25/gray/diagrams.npy\n",
      "Applying Scaler to persistence diagrams.\n",
      "Got the result from ./1/train/filtrations/2/RadialFiltration_51_25/gray/features.npy\n",
      "FiltrationExtractor: processing 1/train/filtrations/2/RadialFiltration_51_25/red, do_fit = False, filtration = RadialFiltration(center=array([51, 25]), n_jobs=-1)\n",
      "Got the result from ./1/train/filtrations/2/RadialFiltration_51_25/red/diagrams.npy\n",
      "Applying Scaler to persistence diagrams.\n",
      "Got the result from ./1/train/filtrations/2/RadialFiltration_51_25/red/features.npy\n",
      "FiltrationExtractor: processing 1/train/filtrations/2/RadialFiltration_51_25/green, do_fit = False, filtration = RadialFiltration(center=array([51, 25]), n_jobs=-1)\n",
      "Got the result from ./1/train/filtrations/2/RadialFiltration_51_25/green/diagrams.npy\n",
      "Applying Scaler to persistence diagrams.\n",
      "Got the result from ./1/train/filtrations/2/RadialFiltration_51_25/green/features.npy\n",
      "FiltrationExtractor: processing 1/train/filtrations/2/RadialFiltration_51_25/blue, do_fit = False, filtration = RadialFiltration(center=array([51, 25]), n_jobs=-1)\n",
      "Got the result from ./1/train/filtrations/2/RadialFiltration_51_25/blue/diagrams.npy\n",
      "Applying Scaler to persistence diagrams.\n",
      "Got the result from ./1/train/filtrations/2/RadialFiltration_51_25/blue/features.npy\n",
      "Applying filtration 23/72: RadialFiltration with c = (51, 38), bin. thr. = 0.2\n",
      "RGB images received. Transforming to grayscale.\n"
     ]
    },
    {
     "name": "stderr",
     "output_type": "stream",
     "text": [
      "rgb2gray: 100%|██████████| 26640/26640 [00:09<00:00, 2820.71it/s]\n"
     ]
    },
    {
     "name": "stdout",
     "output_type": "stream",
     "text": [
      "FiltrationExtractor: processing 1/train/filtrations/2/RadialFiltration_51_38/gray, do_fit = False, filtration = RadialFiltration(center=array([51, 38]), n_jobs=-1)\n",
      "Got the result from ./1/train/filtrations/2/RadialFiltration_51_38/gray/diagrams.npy\n",
      "Applying Scaler to persistence diagrams.\n",
      "Got the result from ./1/train/filtrations/2/RadialFiltration_51_38/gray/features.npy\n",
      "FiltrationExtractor: processing 1/train/filtrations/2/RadialFiltration_51_38/red, do_fit = False, filtration = RadialFiltration(center=array([51, 38]), n_jobs=-1)\n",
      "Got the result from ./1/train/filtrations/2/RadialFiltration_51_38/red/diagrams.npy\n",
      "Applying Scaler to persistence diagrams.\n",
      "Got the result from ./1/train/filtrations/2/RadialFiltration_51_38/red/features.npy\n",
      "FiltrationExtractor: processing 1/train/filtrations/2/RadialFiltration_51_38/green, do_fit = False, filtration = RadialFiltration(center=array([51, 38]), n_jobs=-1)\n",
      "Got the result from ./1/train/filtrations/2/RadialFiltration_51_38/green/diagrams.npy\n",
      "Applying Scaler to persistence diagrams.\n",
      "Got the result from ./1/train/filtrations/2/RadialFiltration_51_38/green/features.npy\n",
      "FiltrationExtractor: processing 1/train/filtrations/2/RadialFiltration_51_38/blue, do_fit = False, filtration = RadialFiltration(center=array([51, 38]), n_jobs=-1)\n",
      "Got the result from ./1/train/filtrations/2/RadialFiltration_51_38/blue/diagrams.npy\n",
      "Applying Scaler to persistence diagrams.\n",
      "Got the result from ./1/train/filtrations/2/RadialFiltration_51_38/blue/features.npy\n",
      "Applying filtration 24/72: RadialFiltration with c = (51, 51), bin. thr. = 0.2\n",
      "RGB images received. Transforming to grayscale.\n"
     ]
    },
    {
     "name": "stderr",
     "output_type": "stream",
     "text": [
      "rgb2gray: 100%|██████████| 26640/26640 [00:09<00:00, 2825.80it/s]\n"
     ]
    },
    {
     "name": "stdout",
     "output_type": "stream",
     "text": [
      "FiltrationExtractor: processing 1/train/filtrations/2/RadialFiltration_51_51/gray, do_fit = False, filtration = RadialFiltration(center=array([51, 51]), n_jobs=-1)\n",
      "Got the result from ./1/train/filtrations/2/RadialFiltration_51_51/gray/diagrams.npy\n",
      "Applying Scaler to persistence diagrams.\n",
      "Got the result from ./1/train/filtrations/2/RadialFiltration_51_51/gray/features.npy\n",
      "FiltrationExtractor: processing 1/train/filtrations/2/RadialFiltration_51_51/red, do_fit = False, filtration = RadialFiltration(center=array([51, 51]), n_jobs=-1)\n",
      "Got the result from ./1/train/filtrations/2/RadialFiltration_51_51/red/diagrams.npy\n",
      "Applying Scaler to persistence diagrams.\n",
      "Got the result from ./1/train/filtrations/2/RadialFiltration_51_51/red/features.npy\n",
      "FiltrationExtractor: processing 1/train/filtrations/2/RadialFiltration_51_51/green, do_fit = False, filtration = RadialFiltration(center=array([51, 51]), n_jobs=-1)\n",
      "Got the result from ./1/train/filtrations/2/RadialFiltration_51_51/green/diagrams.npy\n",
      "Applying Scaler to persistence diagrams.\n",
      "Got the result from ./1/train/filtrations/2/RadialFiltration_51_51/green/features.npy\n",
      "FiltrationExtractor: processing 1/train/filtrations/2/RadialFiltration_51_51/blue, do_fit = False, filtration = RadialFiltration(center=array([51, 51]), n_jobs=-1)\n",
      "Got the result from ./1/train/filtrations/2/RadialFiltration_51_51/blue/diagrams.npy\n",
      "Applying Scaler to persistence diagrams.\n",
      "Got the result from ./1/train/filtrations/2/RadialFiltration_51_51/blue/features.npy\n",
      "Applying filtration 25/72: HeightFiltration with d = (-1, -1), bin. thr. = 0.4\n",
      "RGB images received. Transforming to grayscale.\n"
     ]
    },
    {
     "name": "stderr",
     "output_type": "stream",
     "text": [
      "rgb2gray: 100%|██████████| 26640/26640 [00:07<00:00, 3385.41it/s]\n"
     ]
    },
    {
     "name": "stdout",
     "output_type": "stream",
     "text": [
      "FiltrationExtractor: processing 1/train/filtrations/4/HeightFiltrartion_-1_-1/gray, do_fit = False, filtration = HeightFiltration(direction=array([-1, -1]), n_jobs=-1)\n",
      "Got the result from ./1/train/filtrations/4/HeightFiltrartion_-1_-1/gray/diagrams.npy\n",
      "Applying Scaler to persistence diagrams.\n",
      "Got the result from ./1/train/filtrations/4/HeightFiltrartion_-1_-1/gray/features.npy\n",
      "FiltrationExtractor: processing 1/train/filtrations/4/HeightFiltrartion_-1_-1/red, do_fit = False, filtration = HeightFiltration(direction=array([-1, -1]), n_jobs=-1)\n",
      "Got the result from ./1/train/filtrations/4/HeightFiltrartion_-1_-1/red/diagrams.npy\n",
      "Applying Scaler to persistence diagrams.\n",
      "Got the result from ./1/train/filtrations/4/HeightFiltrartion_-1_-1/red/features.npy\n",
      "FiltrationExtractor: processing 1/train/filtrations/4/HeightFiltrartion_-1_-1/green, do_fit = False, filtration = HeightFiltration(direction=array([-1, -1]), n_jobs=-1)\n",
      "Got the result from ./1/train/filtrations/4/HeightFiltrartion_-1_-1/green/diagrams.npy\n",
      "Applying Scaler to persistence diagrams.\n",
      "Got the result from ./1/train/filtrations/4/HeightFiltrartion_-1_-1/green/features.npy\n",
      "FiltrationExtractor: processing 1/train/filtrations/4/HeightFiltrartion_-1_-1/blue, do_fit = False, filtration = HeightFiltration(direction=array([-1, -1]), n_jobs=-1)\n",
      "Got the result from ./1/train/filtrations/4/HeightFiltrartion_-1_-1/blue/diagrams.npy\n",
      "Applying Scaler to persistence diagrams.\n",
      "Got the result from ./1/train/filtrations/4/HeightFiltrartion_-1_-1/blue/features.npy\n",
      "Applying filtration 26/72: HeightFiltration with d = (-1, 0), bin. thr. = 0.4\n",
      "RGB images received. Transforming to grayscale.\n"
     ]
    },
    {
     "name": "stderr",
     "output_type": "stream",
     "text": [
      "rgb2gray: 100%|██████████| 26640/26640 [00:05<00:00, 4457.01it/s]\n"
     ]
    },
    {
     "name": "stdout",
     "output_type": "stream",
     "text": [
      "FiltrationExtractor: processing 1/train/filtrations/4/HeightFiltrartion_-1_0/gray, do_fit = False, filtration = HeightFiltration(direction=array([-1,  0]), n_jobs=-1)\n",
      "Got the result from ./1/train/filtrations/4/HeightFiltrartion_-1_0/gray/diagrams.npy\n",
      "Applying Scaler to persistence diagrams.\n",
      "Got the result from ./1/train/filtrations/4/HeightFiltrartion_-1_0/gray/features.npy\n",
      "FiltrationExtractor: processing 1/train/filtrations/4/HeightFiltrartion_-1_0/red, do_fit = False, filtration = HeightFiltration(direction=array([-1,  0]), n_jobs=-1)\n",
      "Got the result from ./1/train/filtrations/4/HeightFiltrartion_-1_0/red/diagrams.npy\n",
      "Applying Scaler to persistence diagrams.\n",
      "Got the result from ./1/train/filtrations/4/HeightFiltrartion_-1_0/red/features.npy\n",
      "FiltrationExtractor: processing 1/train/filtrations/4/HeightFiltrartion_-1_0/green, do_fit = False, filtration = HeightFiltration(direction=array([-1,  0]), n_jobs=-1)\n",
      "Got the result from ./1/train/filtrations/4/HeightFiltrartion_-1_0/green/diagrams.npy\n",
      "Applying Scaler to persistence diagrams.\n",
      "Got the result from ./1/train/filtrations/4/HeightFiltrartion_-1_0/green/features.npy\n",
      "FiltrationExtractor: processing 1/train/filtrations/4/HeightFiltrartion_-1_0/blue, do_fit = False, filtration = HeightFiltration(direction=array([-1,  0]), n_jobs=-1)\n",
      "Got the result from ./1/train/filtrations/4/HeightFiltrartion_-1_0/blue/diagrams.npy\n",
      "Applying Scaler to persistence diagrams.\n",
      "Got the result from ./1/train/filtrations/4/HeightFiltrartion_-1_0/blue/features.npy\n",
      "Applying filtration 27/72: HeightFiltration with d = (-1, 1), bin. thr. = 0.4\n",
      "RGB images received. Transforming to grayscale.\n"
     ]
    },
    {
     "name": "stderr",
     "output_type": "stream",
     "text": [
      "rgb2gray: 100%|██████████| 26640/26640 [00:05<00:00, 4440.32it/s]\n"
     ]
    },
    {
     "name": "stdout",
     "output_type": "stream",
     "text": [
      "FiltrationExtractor: processing 1/train/filtrations/4/HeightFiltrartion_-1_1/gray, do_fit = False, filtration = HeightFiltration(direction=array([-1,  1]), n_jobs=-1)\n",
      "Got the result from ./1/train/filtrations/4/HeightFiltrartion_-1_1/gray/diagrams.npy\n",
      "Applying Scaler to persistence diagrams.\n",
      "Got the result from ./1/train/filtrations/4/HeightFiltrartion_-1_1/gray/features.npy\n",
      "FiltrationExtractor: processing 1/train/filtrations/4/HeightFiltrartion_-1_1/red, do_fit = False, filtration = HeightFiltration(direction=array([-1,  1]), n_jobs=-1)\n",
      "Got the result from ./1/train/filtrations/4/HeightFiltrartion_-1_1/red/diagrams.npy\n",
      "Applying Scaler to persistence diagrams.\n",
      "Got the result from ./1/train/filtrations/4/HeightFiltrartion_-1_1/red/features.npy\n",
      "FiltrationExtractor: processing 1/train/filtrations/4/HeightFiltrartion_-1_1/green, do_fit = False, filtration = HeightFiltration(direction=array([-1,  1]), n_jobs=-1)\n",
      "Got the result from ./1/train/filtrations/4/HeightFiltrartion_-1_1/green/diagrams.npy\n",
      "Applying Scaler to persistence diagrams.\n",
      "Got the result from ./1/train/filtrations/4/HeightFiltrartion_-1_1/green/features.npy\n",
      "FiltrationExtractor: processing 1/train/filtrations/4/HeightFiltrartion_-1_1/blue, do_fit = False, filtration = HeightFiltration(direction=array([-1,  1]), n_jobs=-1)\n",
      "Got the result from ./1/train/filtrations/4/HeightFiltrartion_-1_1/blue/diagrams.npy\n",
      "Applying Scaler to persistence diagrams.\n",
      "Got the result from ./1/train/filtrations/4/HeightFiltrartion_-1_1/blue/features.npy\n",
      "Applying filtration 28/72: HeightFiltration with d = (0, -1), bin. thr. = 0.4\n",
      "RGB images received. Transforming to grayscale.\n"
     ]
    },
    {
     "name": "stderr",
     "output_type": "stream",
     "text": [
      "rgb2gray: 100%|██████████| 26640/26640 [00:05<00:00, 4518.64it/s]\n"
     ]
    },
    {
     "name": "stdout",
     "output_type": "stream",
     "text": [
      "FiltrationExtractor: processing 1/train/filtrations/4/HeightFiltrartion_0_-1/gray, do_fit = False, filtration = HeightFiltration(direction=array([ 0, -1]), n_jobs=-1)\n",
      "Got the result from ./1/train/filtrations/4/HeightFiltrartion_0_-1/gray/diagrams.npy\n",
      "Applying Scaler to persistence diagrams.\n",
      "Got the result from ./1/train/filtrations/4/HeightFiltrartion_0_-1/gray/features.npy\n",
      "FiltrationExtractor: processing 1/train/filtrations/4/HeightFiltrartion_0_-1/red, do_fit = False, filtration = HeightFiltration(direction=array([ 0, -1]), n_jobs=-1)\n",
      "Got the result from ./1/train/filtrations/4/HeightFiltrartion_0_-1/red/diagrams.npy\n",
      "Applying Scaler to persistence diagrams.\n",
      "Got the result from ./1/train/filtrations/4/HeightFiltrartion_0_-1/red/features.npy\n",
      "FiltrationExtractor: processing 1/train/filtrations/4/HeightFiltrartion_0_-1/green, do_fit = False, filtration = HeightFiltration(direction=array([ 0, -1]), n_jobs=-1)\n",
      "Got the result from ./1/train/filtrations/4/HeightFiltrartion_0_-1/green/diagrams.npy\n",
      "Applying Scaler to persistence diagrams.\n",
      "Got the result from ./1/train/filtrations/4/HeightFiltrartion_0_-1/green/features.npy\n",
      "FiltrationExtractor: processing 1/train/filtrations/4/HeightFiltrartion_0_-1/blue, do_fit = False, filtration = HeightFiltration(direction=array([ 0, -1]), n_jobs=-1)\n",
      "Got the result from ./1/train/filtrations/4/HeightFiltrartion_0_-1/blue/diagrams.npy\n",
      "Applying Scaler to persistence diagrams.\n",
      "Got the result from ./1/train/filtrations/4/HeightFiltrartion_0_-1/blue/features.npy\n",
      "Applying filtration 29/72: HeightFiltration with d = (0, 1), bin. thr. = 0.4\n",
      "RGB images received. Transforming to grayscale.\n"
     ]
    },
    {
     "name": "stderr",
     "output_type": "stream",
     "text": [
      "rgb2gray: 100%|██████████| 26640/26640 [00:06<00:00, 4437.21it/s]\n"
     ]
    },
    {
     "name": "stdout",
     "output_type": "stream",
     "text": [
      "FiltrationExtractor: processing 1/train/filtrations/4/HeightFiltrartion_0_1/gray, do_fit = False, filtration = HeightFiltration(direction=array([0, 1]), n_jobs=-1)\n",
      "Got the result from ./1/train/filtrations/4/HeightFiltrartion_0_1/gray/diagrams.npy\n",
      "Applying Scaler to persistence diagrams.\n",
      "Got the result from ./1/train/filtrations/4/HeightFiltrartion_0_1/gray/features.npy\n",
      "FiltrationExtractor: processing 1/train/filtrations/4/HeightFiltrartion_0_1/red, do_fit = False, filtration = HeightFiltration(direction=array([0, 1]), n_jobs=-1)\n",
      "Got the result from ./1/train/filtrations/4/HeightFiltrartion_0_1/red/diagrams.npy\n",
      "Applying Scaler to persistence diagrams.\n",
      "Got the result from ./1/train/filtrations/4/HeightFiltrartion_0_1/red/features.npy\n",
      "FiltrationExtractor: processing 1/train/filtrations/4/HeightFiltrartion_0_1/green, do_fit = False, filtration = HeightFiltration(direction=array([0, 1]), n_jobs=-1)\n",
      "Got the result from ./1/train/filtrations/4/HeightFiltrartion_0_1/green/diagrams.npy\n",
      "Applying Scaler to persistence diagrams.\n",
      "Got the result from ./1/train/filtrations/4/HeightFiltrartion_0_1/green/features.npy\n",
      "FiltrationExtractor: processing 1/train/filtrations/4/HeightFiltrartion_0_1/blue, do_fit = False, filtration = HeightFiltration(direction=array([0, 1]), n_jobs=-1)\n",
      "Got the result from ./1/train/filtrations/4/HeightFiltrartion_0_1/blue/diagrams.npy\n",
      "Applying Scaler to persistence diagrams.\n",
      "Got the result from ./1/train/filtrations/4/HeightFiltrartion_0_1/blue/features.npy\n",
      "Applying filtration 30/72: HeightFiltration with d = (1, -1), bin. thr. = 0.4\n",
      "RGB images received. Transforming to grayscale.\n"
     ]
    },
    {
     "name": "stderr",
     "output_type": "stream",
     "text": [
      "rgb2gray: 100%|██████████| 26640/26640 [00:05<00:00, 4466.19it/s]\n"
     ]
    },
    {
     "name": "stdout",
     "output_type": "stream",
     "text": [
      "FiltrationExtractor: processing 1/train/filtrations/4/HeightFiltrartion_1_-1/gray, do_fit = False, filtration = HeightFiltration(direction=array([ 1, -1]), n_jobs=-1)\n",
      "Got the result from ./1/train/filtrations/4/HeightFiltrartion_1_-1/gray/diagrams.npy\n",
      "Applying Scaler to persistence diagrams.\n",
      "Got the result from ./1/train/filtrations/4/HeightFiltrartion_1_-1/gray/features.npy\n",
      "FiltrationExtractor: processing 1/train/filtrations/4/HeightFiltrartion_1_-1/red, do_fit = False, filtration = HeightFiltration(direction=array([ 1, -1]), n_jobs=-1)\n",
      "Got the result from ./1/train/filtrations/4/HeightFiltrartion_1_-1/red/diagrams.npy\n",
      "Applying Scaler to persistence diagrams.\n",
      "Got the result from ./1/train/filtrations/4/HeightFiltrartion_1_-1/red/features.npy\n",
      "FiltrationExtractor: processing 1/train/filtrations/4/HeightFiltrartion_1_-1/green, do_fit = False, filtration = HeightFiltration(direction=array([ 1, -1]), n_jobs=-1)\n",
      "Got the result from ./1/train/filtrations/4/HeightFiltrartion_1_-1/green/diagrams.npy\n",
      "Applying Scaler to persistence diagrams.\n",
      "Got the result from ./1/train/filtrations/4/HeightFiltrartion_1_-1/green/features.npy\n",
      "FiltrationExtractor: processing 1/train/filtrations/4/HeightFiltrartion_1_-1/blue, do_fit = False, filtration = HeightFiltration(direction=array([ 1, -1]), n_jobs=-1)\n",
      "Got the result from ./1/train/filtrations/4/HeightFiltrartion_1_-1/blue/diagrams.npy\n",
      "Applying Scaler to persistence diagrams.\n",
      "Got the result from ./1/train/filtrations/4/HeightFiltrartion_1_-1/blue/features.npy\n",
      "Applying filtration 31/72: HeightFiltration with d = (1, 0), bin. thr. = 0.4\n",
      "RGB images received. Transforming to grayscale.\n"
     ]
    },
    {
     "name": "stderr",
     "output_type": "stream",
     "text": [
      "rgb2gray: 100%|██████████| 26640/26640 [00:06<00:00, 4431.45it/s]\n"
     ]
    },
    {
     "name": "stdout",
     "output_type": "stream",
     "text": [
      "FiltrationExtractor: processing 1/train/filtrations/4/HeightFiltrartion_1_0/gray, do_fit = False, filtration = HeightFiltration(direction=array([1, 0]), n_jobs=-1)\n",
      "Got the result from ./1/train/filtrations/4/HeightFiltrartion_1_0/gray/diagrams.npy\n",
      "Applying Scaler to persistence diagrams.\n",
      "Got the result from ./1/train/filtrations/4/HeightFiltrartion_1_0/gray/features.npy\n",
      "FiltrationExtractor: processing 1/train/filtrations/4/HeightFiltrartion_1_0/red, do_fit = False, filtration = HeightFiltration(direction=array([1, 0]), n_jobs=-1)\n",
      "Got the result from ./1/train/filtrations/4/HeightFiltrartion_1_0/red/diagrams.npy\n",
      "Applying Scaler to persistence diagrams.\n",
      "Got the result from ./1/train/filtrations/4/HeightFiltrartion_1_0/red/features.npy\n",
      "FiltrationExtractor: processing 1/train/filtrations/4/HeightFiltrartion_1_0/green, do_fit = False, filtration = HeightFiltration(direction=array([1, 0]), n_jobs=-1)\n",
      "Got the result from ./1/train/filtrations/4/HeightFiltrartion_1_0/green/diagrams.npy\n",
      "Applying Scaler to persistence diagrams.\n",
      "Got the result from ./1/train/filtrations/4/HeightFiltrartion_1_0/green/features.npy\n",
      "FiltrationExtractor: processing 1/train/filtrations/4/HeightFiltrartion_1_0/blue, do_fit = False, filtration = HeightFiltration(direction=array([1, 0]), n_jobs=-1)\n",
      "Got the result from ./1/train/filtrations/4/HeightFiltrartion_1_0/blue/diagrams.npy\n",
      "Applying Scaler to persistence diagrams.\n",
      "Got the result from ./1/train/filtrations/4/HeightFiltrartion_1_0/blue/features.npy\n",
      "Applying filtration 32/72: HeightFiltration with d = (1, 1), bin. thr. = 0.4\n",
      "RGB images received. Transforming to grayscale.\n"
     ]
    },
    {
     "name": "stderr",
     "output_type": "stream",
     "text": [
      "rgb2gray: 100%|██████████| 26640/26640 [00:06<00:00, 4405.19it/s]\n"
     ]
    },
    {
     "name": "stdout",
     "output_type": "stream",
     "text": [
      "FiltrationExtractor: processing 1/train/filtrations/4/HeightFiltrartion_1_1/gray, do_fit = False, filtration = HeightFiltration(direction=array([1, 1]), n_jobs=-1)\n",
      "Got the result from ./1/train/filtrations/4/HeightFiltrartion_1_1/gray/diagrams.npy\n",
      "Applying Scaler to persistence diagrams.\n",
      "Got the result from ./1/train/filtrations/4/HeightFiltrartion_1_1/gray/features.npy\n",
      "FiltrationExtractor: processing 1/train/filtrations/4/HeightFiltrartion_1_1/red, do_fit = False, filtration = HeightFiltration(direction=array([1, 1]), n_jobs=-1)\n",
      "Got the result from ./1/train/filtrations/4/HeightFiltrartion_1_1/red/diagrams.npy\n",
      "Applying Scaler to persistence diagrams.\n",
      "Got the result from ./1/train/filtrations/4/HeightFiltrartion_1_1/red/features.npy\n",
      "FiltrationExtractor: processing 1/train/filtrations/4/HeightFiltrartion_1_1/green, do_fit = False, filtration = HeightFiltration(direction=array([1, 1]), n_jobs=-1)\n",
      "Got the result from ./1/train/filtrations/4/HeightFiltrartion_1_1/green/diagrams.npy\n",
      "Applying Scaler to persistence diagrams.\n",
      "Got the result from ./1/train/filtrations/4/HeightFiltrartion_1_1/green/features.npy\n",
      "FiltrationExtractor: processing 1/train/filtrations/4/HeightFiltrartion_1_1/blue, do_fit = False, filtration = HeightFiltration(direction=array([1, 1]), n_jobs=-1)\n",
      "Got the result from ./1/train/filtrations/4/HeightFiltrartion_1_1/blue/diagrams.npy\n",
      "Applying Scaler to persistence diagrams.\n",
      "Got the result from ./1/train/filtrations/4/HeightFiltrartion_1_1/blue/features.npy\n",
      "Applying filtration 33/72: RadialFiltration with c = (12, 12), bin. thr. = 0.4\n",
      "RGB images received. Transforming to grayscale.\n"
     ]
    },
    {
     "name": "stderr",
     "output_type": "stream",
     "text": [
      "rgb2gray: 100%|██████████| 26640/26640 [00:05<00:00, 4505.85it/s]\n"
     ]
    },
    {
     "name": "stdout",
     "output_type": "stream",
     "text": [
      "FiltrationExtractor: processing 1/train/filtrations/4/RadialFiltration_12_12/gray, do_fit = False, filtration = RadialFiltration(center=array([12, 12]), n_jobs=-1)\n",
      "Got the result from ./1/train/filtrations/4/RadialFiltration_12_12/gray/diagrams.npy\n",
      "Applying Scaler to persistence diagrams.\n",
      "Got the result from ./1/train/filtrations/4/RadialFiltration_12_12/gray/features.npy\n",
      "FiltrationExtractor: processing 1/train/filtrations/4/RadialFiltration_12_12/red, do_fit = False, filtration = RadialFiltration(center=array([12, 12]), n_jobs=-1)\n",
      "Got the result from ./1/train/filtrations/4/RadialFiltration_12_12/red/diagrams.npy\n",
      "Applying Scaler to persistence diagrams.\n",
      "Got the result from ./1/train/filtrations/4/RadialFiltration_12_12/red/features.npy\n",
      "FiltrationExtractor: processing 1/train/filtrations/4/RadialFiltration_12_12/green, do_fit = False, filtration = RadialFiltration(center=array([12, 12]), n_jobs=-1)\n",
      "Got the result from ./1/train/filtrations/4/RadialFiltration_12_12/green/diagrams.npy\n",
      "Applying Scaler to persistence diagrams.\n",
      "Got the result from ./1/train/filtrations/4/RadialFiltration_12_12/green/features.npy\n",
      "FiltrationExtractor: processing 1/train/filtrations/4/RadialFiltration_12_12/blue, do_fit = False, filtration = RadialFiltration(center=array([12, 12]), n_jobs=-1)\n",
      "Got the result from ./1/train/filtrations/4/RadialFiltration_12_12/blue/diagrams.npy\n",
      "Applying Scaler to persistence diagrams.\n",
      "Got the result from ./1/train/filtrations/4/RadialFiltration_12_12/blue/features.npy\n",
      "Applying filtration 34/72: RadialFiltration with c = (12, 25), bin. thr. = 0.4\n",
      "RGB images received. Transforming to grayscale.\n"
     ]
    },
    {
     "name": "stderr",
     "output_type": "stream",
     "text": [
      "rgb2gray: 100%|██████████| 26640/26640 [00:06<00:00, 4434.45it/s]\n"
     ]
    },
    {
     "name": "stdout",
     "output_type": "stream",
     "text": [
      "FiltrationExtractor: processing 1/train/filtrations/4/RadialFiltration_12_25/gray, do_fit = False, filtration = RadialFiltration(center=array([12, 25]), n_jobs=-1)\n",
      "Got the result from ./1/train/filtrations/4/RadialFiltration_12_25/gray/diagrams.npy\n",
      "Applying Scaler to persistence diagrams.\n",
      "Got the result from ./1/train/filtrations/4/RadialFiltration_12_25/gray/features.npy\n",
      "FiltrationExtractor: processing 1/train/filtrations/4/RadialFiltration_12_25/red, do_fit = False, filtration = RadialFiltration(center=array([12, 25]), n_jobs=-1)\n",
      "Got the result from ./1/train/filtrations/4/RadialFiltration_12_25/red/diagrams.npy\n",
      "Applying Scaler to persistence diagrams.\n",
      "Got the result from ./1/train/filtrations/4/RadialFiltration_12_25/red/features.npy\n",
      "FiltrationExtractor: processing 1/train/filtrations/4/RadialFiltration_12_25/green, do_fit = False, filtration = RadialFiltration(center=array([12, 25]), n_jobs=-1)\n",
      "Got the result from ./1/train/filtrations/4/RadialFiltration_12_25/green/diagrams.npy\n",
      "Applying Scaler to persistence diagrams.\n",
      "Got the result from ./1/train/filtrations/4/RadialFiltration_12_25/green/features.npy\n",
      "FiltrationExtractor: processing 1/train/filtrations/4/RadialFiltration_12_25/blue, do_fit = False, filtration = RadialFiltration(center=array([12, 25]), n_jobs=-1)\n",
      "Got the result from ./1/train/filtrations/4/RadialFiltration_12_25/blue/diagrams.npy\n",
      "Applying Scaler to persistence diagrams.\n",
      "Got the result from ./1/train/filtrations/4/RadialFiltration_12_25/blue/features.npy\n",
      "Applying filtration 35/72: RadialFiltration with c = (12, 38), bin. thr. = 0.4\n",
      "RGB images received. Transforming to grayscale.\n"
     ]
    },
    {
     "name": "stderr",
     "output_type": "stream",
     "text": [
      "rgb2gray: 100%|██████████| 26640/26640 [00:05<00:00, 4504.58it/s]\n"
     ]
    },
    {
     "name": "stdout",
     "output_type": "stream",
     "text": [
      "FiltrationExtractor: processing 1/train/filtrations/4/RadialFiltration_12_38/gray, do_fit = False, filtration = RadialFiltration(center=array([12, 38]), n_jobs=-1)\n",
      "Got the result from ./1/train/filtrations/4/RadialFiltration_12_38/gray/diagrams.npy\n",
      "Applying Scaler to persistence diagrams.\n",
      "Got the result from ./1/train/filtrations/4/RadialFiltration_12_38/gray/features.npy\n",
      "FiltrationExtractor: processing 1/train/filtrations/4/RadialFiltration_12_38/red, do_fit = False, filtration = RadialFiltration(center=array([12, 38]), n_jobs=-1)\n",
      "Got the result from ./1/train/filtrations/4/RadialFiltration_12_38/red/diagrams.npy\n",
      "Applying Scaler to persistence diagrams.\n",
      "Got the result from ./1/train/filtrations/4/RadialFiltration_12_38/red/features.npy\n",
      "FiltrationExtractor: processing 1/train/filtrations/4/RadialFiltration_12_38/green, do_fit = False, filtration = RadialFiltration(center=array([12, 38]), n_jobs=-1)\n",
      "Got the result from ./1/train/filtrations/4/RadialFiltration_12_38/green/diagrams.npy\n",
      "Applying Scaler to persistence diagrams.\n",
      "Got the result from ./1/train/filtrations/4/RadialFiltration_12_38/green/features.npy\n",
      "FiltrationExtractor: processing 1/train/filtrations/4/RadialFiltration_12_38/blue, do_fit = False, filtration = RadialFiltration(center=array([12, 38]), n_jobs=-1)\n",
      "Got the result from ./1/train/filtrations/4/RadialFiltration_12_38/blue/diagrams.npy\n",
      "Applying Scaler to persistence diagrams.\n",
      "Got the result from ./1/train/filtrations/4/RadialFiltration_12_38/blue/features.npy\n",
      "Applying filtration 36/72: RadialFiltration with c = (12, 51), bin. thr. = 0.4\n",
      "RGB images received. Transforming to grayscale.\n"
     ]
    },
    {
     "name": "stderr",
     "output_type": "stream",
     "text": [
      "rgb2gray: 100%|██████████| 26640/26640 [00:06<00:00, 4430.62it/s]\n"
     ]
    },
    {
     "name": "stdout",
     "output_type": "stream",
     "text": [
      "FiltrationExtractor: processing 1/train/filtrations/4/RadialFiltration_12_51/gray, do_fit = False, filtration = RadialFiltration(center=array([12, 51]), n_jobs=-1)\n",
      "Got the result from ./1/train/filtrations/4/RadialFiltration_12_51/gray/diagrams.npy\n",
      "Applying Scaler to persistence diagrams.\n",
      "Got the result from ./1/train/filtrations/4/RadialFiltration_12_51/gray/features.npy\n",
      "FiltrationExtractor: processing 1/train/filtrations/4/RadialFiltration_12_51/red, do_fit = False, filtration = RadialFiltration(center=array([12, 51]), n_jobs=-1)\n",
      "Got the result from ./1/train/filtrations/4/RadialFiltration_12_51/red/diagrams.npy\n",
      "Applying Scaler to persistence diagrams.\n",
      "Got the result from ./1/train/filtrations/4/RadialFiltration_12_51/red/features.npy\n",
      "FiltrationExtractor: processing 1/train/filtrations/4/RadialFiltration_12_51/green, do_fit = False, filtration = RadialFiltration(center=array([12, 51]), n_jobs=-1)\n",
      "Got the result from ./1/train/filtrations/4/RadialFiltration_12_51/green/diagrams.npy\n",
      "Applying Scaler to persistence diagrams.\n",
      "Got the result from ./1/train/filtrations/4/RadialFiltration_12_51/green/features.npy\n",
      "FiltrationExtractor: processing 1/train/filtrations/4/RadialFiltration_12_51/blue, do_fit = False, filtration = RadialFiltration(center=array([12, 51]), n_jobs=-1)\n",
      "Got the result from ./1/train/filtrations/4/RadialFiltration_12_51/blue/diagrams.npy\n",
      "Applying Scaler to persistence diagrams.\n",
      "Got the result from ./1/train/filtrations/4/RadialFiltration_12_51/blue/features.npy\n",
      "Applying filtration 37/72: RadialFiltration with c = (25, 12), bin. thr. = 0.4\n",
      "RGB images received. Transforming to grayscale.\n"
     ]
    },
    {
     "name": "stderr",
     "output_type": "stream",
     "text": [
      "rgb2gray: 100%|██████████| 26640/26640 [00:05<00:00, 4448.67it/s]\n"
     ]
    },
    {
     "name": "stdout",
     "output_type": "stream",
     "text": [
      "FiltrationExtractor: processing 1/train/filtrations/4/RadialFiltration_25_12/gray, do_fit = False, filtration = RadialFiltration(center=array([25, 12]), n_jobs=-1)\n",
      "Got the result from ./1/train/filtrations/4/RadialFiltration_25_12/gray/diagrams.npy\n",
      "Applying Scaler to persistence diagrams.\n",
      "Got the result from ./1/train/filtrations/4/RadialFiltration_25_12/gray/features.npy\n",
      "FiltrationExtractor: processing 1/train/filtrations/4/RadialFiltration_25_12/red, do_fit = False, filtration = RadialFiltration(center=array([25, 12]), n_jobs=-1)\n",
      "Got the result from ./1/train/filtrations/4/RadialFiltration_25_12/red/diagrams.npy\n",
      "Applying Scaler to persistence diagrams.\n",
      "Got the result from ./1/train/filtrations/4/RadialFiltration_25_12/red/features.npy\n",
      "FiltrationExtractor: processing 1/train/filtrations/4/RadialFiltration_25_12/green, do_fit = False, filtration = RadialFiltration(center=array([25, 12]), n_jobs=-1)\n",
      "Got the result from ./1/train/filtrations/4/RadialFiltration_25_12/green/diagrams.npy\n",
      "Applying Scaler to persistence diagrams.\n",
      "Got the result from ./1/train/filtrations/4/RadialFiltration_25_12/green/features.npy\n",
      "FiltrationExtractor: processing 1/train/filtrations/4/RadialFiltration_25_12/blue, do_fit = False, filtration = RadialFiltration(center=array([25, 12]), n_jobs=-1)\n",
      "Got the result from ./1/train/filtrations/4/RadialFiltration_25_12/blue/diagrams.npy\n",
      "Applying Scaler to persistence diagrams.\n",
      "Got the result from ./1/train/filtrations/4/RadialFiltration_25_12/blue/features.npy\n",
      "Applying filtration 38/72: RadialFiltration with c = (25, 25), bin. thr. = 0.4\n",
      "RGB images received. Transforming to grayscale.\n"
     ]
    },
    {
     "name": "stderr",
     "output_type": "stream",
     "text": [
      "rgb2gray: 100%|██████████| 26640/26640 [00:06<00:00, 4370.78it/s]\n"
     ]
    },
    {
     "name": "stdout",
     "output_type": "stream",
     "text": [
      "FiltrationExtractor: processing 1/train/filtrations/4/RadialFiltration_25_25/gray, do_fit = False, filtration = RadialFiltration(center=array([25, 25]), n_jobs=-1)\n",
      "Got the result from ./1/train/filtrations/4/RadialFiltration_25_25/gray/diagrams.npy\n",
      "Applying Scaler to persistence diagrams.\n",
      "Got the result from ./1/train/filtrations/4/RadialFiltration_25_25/gray/features.npy\n",
      "FiltrationExtractor: processing 1/train/filtrations/4/RadialFiltration_25_25/red, do_fit = False, filtration = RadialFiltration(center=array([25, 25]), n_jobs=-1)\n",
      "Got the result from ./1/train/filtrations/4/RadialFiltration_25_25/red/diagrams.npy\n",
      "Applying Scaler to persistence diagrams.\n",
      "Got the result from ./1/train/filtrations/4/RadialFiltration_25_25/red/features.npy\n",
      "FiltrationExtractor: processing 1/train/filtrations/4/RadialFiltration_25_25/green, do_fit = False, filtration = RadialFiltration(center=array([25, 25]), n_jobs=-1)\n",
      "Got the result from ./1/train/filtrations/4/RadialFiltration_25_25/green/diagrams.npy\n",
      "Applying Scaler to persistence diagrams.\n",
      "Got the result from ./1/train/filtrations/4/RadialFiltration_25_25/green/features.npy\n",
      "FiltrationExtractor: processing 1/train/filtrations/4/RadialFiltration_25_25/blue, do_fit = False, filtration = RadialFiltration(center=array([25, 25]), n_jobs=-1)\n",
      "Got the result from ./1/train/filtrations/4/RadialFiltration_25_25/blue/diagrams.npy\n",
      "Applying Scaler to persistence diagrams.\n",
      "Got the result from ./1/train/filtrations/4/RadialFiltration_25_25/blue/features.npy\n",
      "Applying filtration 39/72: RadialFiltration with c = (25, 38), bin. thr. = 0.4\n",
      "RGB images received. Transforming to grayscale.\n"
     ]
    },
    {
     "name": "stderr",
     "output_type": "stream",
     "text": [
      "rgb2gray: 100%|██████████| 26640/26640 [00:06<00:00, 4380.84it/s]\n"
     ]
    },
    {
     "name": "stdout",
     "output_type": "stream",
     "text": [
      "FiltrationExtractor: processing 1/train/filtrations/4/RadialFiltration_25_38/gray, do_fit = False, filtration = RadialFiltration(center=array([25, 38]), n_jobs=-1)\n",
      "Got the result from ./1/train/filtrations/4/RadialFiltration_25_38/gray/diagrams.npy\n",
      "Applying Scaler to persistence diagrams.\n",
      "Got the result from ./1/train/filtrations/4/RadialFiltration_25_38/gray/features.npy\n",
      "FiltrationExtractor: processing 1/train/filtrations/4/RadialFiltration_25_38/red, do_fit = False, filtration = RadialFiltration(center=array([25, 38]), n_jobs=-1)\n",
      "Got the result from ./1/train/filtrations/4/RadialFiltration_25_38/red/diagrams.npy\n",
      "Applying Scaler to persistence diagrams.\n",
      "Got the result from ./1/train/filtrations/4/RadialFiltration_25_38/red/features.npy\n",
      "FiltrationExtractor: processing 1/train/filtrations/4/RadialFiltration_25_38/green, do_fit = False, filtration = RadialFiltration(center=array([25, 38]), n_jobs=-1)\n",
      "Got the result from ./1/train/filtrations/4/RadialFiltration_25_38/green/diagrams.npy\n",
      "Applying Scaler to persistence diagrams.\n",
      "Got the result from ./1/train/filtrations/4/RadialFiltration_25_38/green/features.npy\n",
      "FiltrationExtractor: processing 1/train/filtrations/4/RadialFiltration_25_38/blue, do_fit = False, filtration = RadialFiltration(center=array([25, 38]), n_jobs=-1)\n",
      "Got the result from ./1/train/filtrations/4/RadialFiltration_25_38/blue/diagrams.npy\n",
      "Applying Scaler to persistence diagrams.\n",
      "Got the result from ./1/train/filtrations/4/RadialFiltration_25_38/blue/features.npy\n",
      "Applying filtration 40/72: RadialFiltration with c = (25, 51), bin. thr. = 0.4\n",
      "RGB images received. Transforming to grayscale.\n"
     ]
    },
    {
     "name": "stderr",
     "output_type": "stream",
     "text": [
      "rgb2gray: 100%|██████████| 26640/26640 [00:06<00:00, 4351.51it/s]\n"
     ]
    },
    {
     "name": "stdout",
     "output_type": "stream",
     "text": [
      "FiltrationExtractor: processing 1/train/filtrations/4/RadialFiltration_25_51/gray, do_fit = False, filtration = RadialFiltration(center=array([25, 51]), n_jobs=-1)\n",
      "Got the result from ./1/train/filtrations/4/RadialFiltration_25_51/gray/diagrams.npy\n",
      "Applying Scaler to persistence diagrams.\n",
      "Got the result from ./1/train/filtrations/4/RadialFiltration_25_51/gray/features.npy\n",
      "FiltrationExtractor: processing 1/train/filtrations/4/RadialFiltration_25_51/red, do_fit = False, filtration = RadialFiltration(center=array([25, 51]), n_jobs=-1)\n",
      "Got the result from ./1/train/filtrations/4/RadialFiltration_25_51/red/diagrams.npy\n",
      "Applying Scaler to persistence diagrams.\n",
      "Got the result from ./1/train/filtrations/4/RadialFiltration_25_51/red/features.npy\n",
      "FiltrationExtractor: processing 1/train/filtrations/4/RadialFiltration_25_51/green, do_fit = False, filtration = RadialFiltration(center=array([25, 51]), n_jobs=-1)\n",
      "Got the result from ./1/train/filtrations/4/RadialFiltration_25_51/green/diagrams.npy\n",
      "Applying Scaler to persistence diagrams.\n",
      "Got the result from ./1/train/filtrations/4/RadialFiltration_25_51/green/features.npy\n",
      "FiltrationExtractor: processing 1/train/filtrations/4/RadialFiltration_25_51/blue, do_fit = False, filtration = RadialFiltration(center=array([25, 51]), n_jobs=-1)\n",
      "Got the result from ./1/train/filtrations/4/RadialFiltration_25_51/blue/diagrams.npy\n",
      "Applying Scaler to persistence diagrams.\n",
      "Got the result from ./1/train/filtrations/4/RadialFiltration_25_51/blue/features.npy\n",
      "Applying filtration 41/72: RadialFiltration with c = (38, 12), bin. thr. = 0.4\n",
      "RGB images received. Transforming to grayscale.\n"
     ]
    },
    {
     "name": "stderr",
     "output_type": "stream",
     "text": [
      "rgb2gray: 100%|██████████| 26640/26640 [00:06<00:00, 4355.78it/s]\n"
     ]
    },
    {
     "name": "stdout",
     "output_type": "stream",
     "text": [
      "FiltrationExtractor: processing 1/train/filtrations/4/RadialFiltration_38_12/gray, do_fit = False, filtration = RadialFiltration(center=array([38, 12]), n_jobs=-1)\n",
      "Got the result from ./1/train/filtrations/4/RadialFiltration_38_12/gray/diagrams.npy\n",
      "Applying Scaler to persistence diagrams.\n",
      "Got the result from ./1/train/filtrations/4/RadialFiltration_38_12/gray/features.npy\n",
      "FiltrationExtractor: processing 1/train/filtrations/4/RadialFiltration_38_12/red, do_fit = False, filtration = RadialFiltration(center=array([38, 12]), n_jobs=-1)\n",
      "Got the result from ./1/train/filtrations/4/RadialFiltration_38_12/red/diagrams.npy\n",
      "Applying Scaler to persistence diagrams.\n",
      "Got the result from ./1/train/filtrations/4/RadialFiltration_38_12/red/features.npy\n",
      "FiltrationExtractor: processing 1/train/filtrations/4/RadialFiltration_38_12/green, do_fit = False, filtration = RadialFiltration(center=array([38, 12]), n_jobs=-1)\n",
      "Got the result from ./1/train/filtrations/4/RadialFiltration_38_12/green/diagrams.npy\n",
      "Applying Scaler to persistence diagrams.\n",
      "Got the result from ./1/train/filtrations/4/RadialFiltration_38_12/green/features.npy\n",
      "FiltrationExtractor: processing 1/train/filtrations/4/RadialFiltration_38_12/blue, do_fit = False, filtration = RadialFiltration(center=array([38, 12]), n_jobs=-1)\n",
      "Got the result from ./1/train/filtrations/4/RadialFiltration_38_12/blue/diagrams.npy\n",
      "Applying Scaler to persistence diagrams.\n",
      "Got the result from ./1/train/filtrations/4/RadialFiltration_38_12/blue/features.npy\n",
      "Applying filtration 42/72: RadialFiltration with c = (38, 25), bin. thr. = 0.4\n",
      "RGB images received. Transforming to grayscale.\n"
     ]
    },
    {
     "name": "stderr",
     "output_type": "stream",
     "text": [
      "rgb2gray: 100%|██████████| 26640/26640 [00:06<00:00, 4248.99it/s]\n"
     ]
    },
    {
     "name": "stdout",
     "output_type": "stream",
     "text": [
      "FiltrationExtractor: processing 1/train/filtrations/4/RadialFiltration_38_25/gray, do_fit = False, filtration = RadialFiltration(center=array([38, 25]), n_jobs=-1)\n",
      "Got the result from ./1/train/filtrations/4/RadialFiltration_38_25/gray/diagrams.npy\n",
      "Applying Scaler to persistence diagrams.\n",
      "Got the result from ./1/train/filtrations/4/RadialFiltration_38_25/gray/features.npy\n",
      "FiltrationExtractor: processing 1/train/filtrations/4/RadialFiltration_38_25/red, do_fit = False, filtration = RadialFiltration(center=array([38, 25]), n_jobs=-1)\n",
      "Got the result from ./1/train/filtrations/4/RadialFiltration_38_25/red/diagrams.npy\n",
      "Applying Scaler to persistence diagrams.\n",
      "Got the result from ./1/train/filtrations/4/RadialFiltration_38_25/red/features.npy\n",
      "FiltrationExtractor: processing 1/train/filtrations/4/RadialFiltration_38_25/green, do_fit = False, filtration = RadialFiltration(center=array([38, 25]), n_jobs=-1)\n",
      "Got the result from ./1/train/filtrations/4/RadialFiltration_38_25/green/diagrams.npy\n",
      "Applying Scaler to persistence diagrams.\n",
      "Got the result from ./1/train/filtrations/4/RadialFiltration_38_25/green/features.npy\n",
      "FiltrationExtractor: processing 1/train/filtrations/4/RadialFiltration_38_25/blue, do_fit = False, filtration = RadialFiltration(center=array([38, 25]), n_jobs=-1)\n",
      "Got the result from ./1/train/filtrations/4/RadialFiltration_38_25/blue/diagrams.npy\n",
      "Applying Scaler to persistence diagrams.\n",
      "Got the result from ./1/train/filtrations/4/RadialFiltration_38_25/blue/features.npy\n",
      "Applying filtration 43/72: RadialFiltration with c = (38, 38), bin. thr. = 0.4\n",
      "RGB images received. Transforming to grayscale.\n"
     ]
    },
    {
     "name": "stderr",
     "output_type": "stream",
     "text": [
      "rgb2gray: 100%|██████████| 26640/26640 [00:06<00:00, 4329.58it/s]\n"
     ]
    },
    {
     "name": "stdout",
     "output_type": "stream",
     "text": [
      "FiltrationExtractor: processing 1/train/filtrations/4/RadialFiltration_38_38/gray, do_fit = False, filtration = RadialFiltration(center=array([38, 38]), n_jobs=-1)\n",
      "Got the result from ./1/train/filtrations/4/RadialFiltration_38_38/gray/diagrams.npy\n",
      "Applying Scaler to persistence diagrams.\n",
      "Got the result from ./1/train/filtrations/4/RadialFiltration_38_38/gray/features.npy\n",
      "FiltrationExtractor: processing 1/train/filtrations/4/RadialFiltration_38_38/red, do_fit = False, filtration = RadialFiltration(center=array([38, 38]), n_jobs=-1)\n",
      "Got the result from ./1/train/filtrations/4/RadialFiltration_38_38/red/diagrams.npy\n",
      "Applying Scaler to persistence diagrams.\n",
      "Got the result from ./1/train/filtrations/4/RadialFiltration_38_38/red/features.npy\n",
      "FiltrationExtractor: processing 1/train/filtrations/4/RadialFiltration_38_38/green, do_fit = False, filtration = RadialFiltration(center=array([38, 38]), n_jobs=-1)\n",
      "Got the result from ./1/train/filtrations/4/RadialFiltration_38_38/green/diagrams.npy\n",
      "Applying Scaler to persistence diagrams.\n",
      "Got the result from ./1/train/filtrations/4/RadialFiltration_38_38/green/features.npy\n",
      "FiltrationExtractor: processing 1/train/filtrations/4/RadialFiltration_38_38/blue, do_fit = False, filtration = RadialFiltration(center=array([38, 38]), n_jobs=-1)\n",
      "Got the result from ./1/train/filtrations/4/RadialFiltration_38_38/blue/diagrams.npy\n",
      "Applying Scaler to persistence diagrams.\n",
      "Got the result from ./1/train/filtrations/4/RadialFiltration_38_38/blue/features.npy\n",
      "Applying filtration 44/72: RadialFiltration with c = (38, 51), bin. thr. = 0.4\n",
      "RGB images received. Transforming to grayscale.\n"
     ]
    },
    {
     "name": "stderr",
     "output_type": "stream",
     "text": [
      "rgb2gray: 100%|██████████| 26640/26640 [00:06<00:00, 4398.44it/s]\n"
     ]
    },
    {
     "name": "stdout",
     "output_type": "stream",
     "text": [
      "FiltrationExtractor: processing 1/train/filtrations/4/RadialFiltration_38_51/gray, do_fit = False, filtration = RadialFiltration(center=array([38, 51]), n_jobs=-1)\n",
      "Got the result from ./1/train/filtrations/4/RadialFiltration_38_51/gray/diagrams.npy\n",
      "Applying Scaler to persistence diagrams.\n",
      "Got the result from ./1/train/filtrations/4/RadialFiltration_38_51/gray/features.npy\n",
      "FiltrationExtractor: processing 1/train/filtrations/4/RadialFiltration_38_51/red, do_fit = False, filtration = RadialFiltration(center=array([38, 51]), n_jobs=-1)\n",
      "Got the result from ./1/train/filtrations/4/RadialFiltration_38_51/red/diagrams.npy\n",
      "Applying Scaler to persistence diagrams.\n",
      "Got the result from ./1/train/filtrations/4/RadialFiltration_38_51/red/features.npy\n",
      "FiltrationExtractor: processing 1/train/filtrations/4/RadialFiltration_38_51/green, do_fit = False, filtration = RadialFiltration(center=array([38, 51]), n_jobs=-1)\n",
      "Got the result from ./1/train/filtrations/4/RadialFiltration_38_51/green/diagrams.npy\n",
      "Applying Scaler to persistence diagrams.\n",
      "Got the result from ./1/train/filtrations/4/RadialFiltration_38_51/green/features.npy\n",
      "FiltrationExtractor: processing 1/train/filtrations/4/RadialFiltration_38_51/blue, do_fit = False, filtration = RadialFiltration(center=array([38, 51]), n_jobs=-1)\n",
      "Got the result from ./1/train/filtrations/4/RadialFiltration_38_51/blue/diagrams.npy\n",
      "Applying Scaler to persistence diagrams.\n",
      "Got the result from ./1/train/filtrations/4/RadialFiltration_38_51/blue/features.npy\n",
      "Applying filtration 45/72: RadialFiltration with c = (51, 12), bin. thr. = 0.4\n",
      "RGB images received. Transforming to grayscale.\n"
     ]
    },
    {
     "name": "stderr",
     "output_type": "stream",
     "text": [
      "rgb2gray: 100%|██████████| 26640/26640 [00:06<00:00, 4287.96it/s]\n"
     ]
    },
    {
     "name": "stdout",
     "output_type": "stream",
     "text": [
      "FiltrationExtractor: processing 1/train/filtrations/4/RadialFiltration_51_12/gray, do_fit = False, filtration = RadialFiltration(center=array([51, 12]), n_jobs=-1)\n",
      "Got the result from ./1/train/filtrations/4/RadialFiltration_51_12/gray/diagrams.npy\n",
      "Applying Scaler to persistence diagrams.\n",
      "Got the result from ./1/train/filtrations/4/RadialFiltration_51_12/gray/features.npy\n",
      "FiltrationExtractor: processing 1/train/filtrations/4/RadialFiltration_51_12/red, do_fit = False, filtration = RadialFiltration(center=array([51, 12]), n_jobs=-1)\n",
      "Got the result from ./1/train/filtrations/4/RadialFiltration_51_12/red/diagrams.npy\n",
      "Applying Scaler to persistence diagrams.\n",
      "Got the result from ./1/train/filtrations/4/RadialFiltration_51_12/red/features.npy\n",
      "FiltrationExtractor: processing 1/train/filtrations/4/RadialFiltration_51_12/green, do_fit = False, filtration = RadialFiltration(center=array([51, 12]), n_jobs=-1)\n",
      "Got the result from ./1/train/filtrations/4/RadialFiltration_51_12/green/diagrams.npy\n",
      "Applying Scaler to persistence diagrams.\n",
      "Got the result from ./1/train/filtrations/4/RadialFiltration_51_12/green/features.npy\n",
      "FiltrationExtractor: processing 1/train/filtrations/4/RadialFiltration_51_12/blue, do_fit = False, filtration = RadialFiltration(center=array([51, 12]), n_jobs=-1)\n",
      "Got the result from ./1/train/filtrations/4/RadialFiltration_51_12/blue/diagrams.npy\n",
      "Applying Scaler to persistence diagrams.\n",
      "Got the result from ./1/train/filtrations/4/RadialFiltration_51_12/blue/features.npy\n",
      "Applying filtration 46/72: RadialFiltration with c = (51, 25), bin. thr. = 0.4\n",
      "RGB images received. Transforming to grayscale.\n"
     ]
    },
    {
     "name": "stderr",
     "output_type": "stream",
     "text": [
      "rgb2gray: 100%|██████████| 26640/26640 [00:06<00:00, 4346.20it/s]\n"
     ]
    },
    {
     "name": "stdout",
     "output_type": "stream",
     "text": [
      "FiltrationExtractor: processing 1/train/filtrations/4/RadialFiltration_51_25/gray, do_fit = False, filtration = RadialFiltration(center=array([51, 25]), n_jobs=-1)\n",
      "Got the result from ./1/train/filtrations/4/RadialFiltration_51_25/gray/diagrams.npy\n",
      "Applying Scaler to persistence diagrams.\n",
      "Got the result from ./1/train/filtrations/4/RadialFiltration_51_25/gray/features.npy\n",
      "FiltrationExtractor: processing 1/train/filtrations/4/RadialFiltration_51_25/red, do_fit = False, filtration = RadialFiltration(center=array([51, 25]), n_jobs=-1)\n",
      "Got the result from ./1/train/filtrations/4/RadialFiltration_51_25/red/diagrams.npy\n",
      "Applying Scaler to persistence diagrams.\n",
      "Got the result from ./1/train/filtrations/4/RadialFiltration_51_25/red/features.npy\n",
      "FiltrationExtractor: processing 1/train/filtrations/4/RadialFiltration_51_25/green, do_fit = False, filtration = RadialFiltration(center=array([51, 25]), n_jobs=-1)\n",
      "Got the result from ./1/train/filtrations/4/RadialFiltration_51_25/green/diagrams.npy\n",
      "Applying Scaler to persistence diagrams.\n",
      "Got the result from ./1/train/filtrations/4/RadialFiltration_51_25/green/features.npy\n",
      "FiltrationExtractor: processing 1/train/filtrations/4/RadialFiltration_51_25/blue, do_fit = False, filtration = RadialFiltration(center=array([51, 25]), n_jobs=-1)\n",
      "Got the result from ./1/train/filtrations/4/RadialFiltration_51_25/blue/diagrams.npy\n",
      "Applying Scaler to persistence diagrams.\n",
      "Got the result from ./1/train/filtrations/4/RadialFiltration_51_25/blue/features.npy\n",
      "Applying filtration 47/72: RadialFiltration with c = (51, 38), bin. thr. = 0.4\n",
      "RGB images received. Transforming to grayscale.\n"
     ]
    },
    {
     "name": "stderr",
     "output_type": "stream",
     "text": [
      "rgb2gray: 100%|██████████| 26640/26640 [00:05<00:00, 4445.18it/s]\n"
     ]
    },
    {
     "name": "stdout",
     "output_type": "stream",
     "text": [
      "FiltrationExtractor: processing 1/train/filtrations/4/RadialFiltration_51_38/gray, do_fit = False, filtration = RadialFiltration(center=array([51, 38]), n_jobs=-1)\n",
      "Got the result from ./1/train/filtrations/4/RadialFiltration_51_38/gray/diagrams.npy\n",
      "Applying Scaler to persistence diagrams.\n",
      "Got the result from ./1/train/filtrations/4/RadialFiltration_51_38/gray/features.npy\n",
      "FiltrationExtractor: processing 1/train/filtrations/4/RadialFiltration_51_38/red, do_fit = False, filtration = RadialFiltration(center=array([51, 38]), n_jobs=-1)\n",
      "Got the result from ./1/train/filtrations/4/RadialFiltration_51_38/red/diagrams.npy\n",
      "Applying Scaler to persistence diagrams.\n",
      "Got the result from ./1/train/filtrations/4/RadialFiltration_51_38/red/features.npy\n",
      "FiltrationExtractor: processing 1/train/filtrations/4/RadialFiltration_51_38/green, do_fit = False, filtration = RadialFiltration(center=array([51, 38]), n_jobs=-1)\n",
      "Got the result from ./1/train/filtrations/4/RadialFiltration_51_38/green/diagrams.npy\n",
      "Applying Scaler to persistence diagrams.\n",
      "Got the result from ./1/train/filtrations/4/RadialFiltration_51_38/green/features.npy\n",
      "FiltrationExtractor: processing 1/train/filtrations/4/RadialFiltration_51_38/blue, do_fit = False, filtration = RadialFiltration(center=array([51, 38]), n_jobs=-1)\n",
      "Got the result from ./1/train/filtrations/4/RadialFiltration_51_38/blue/diagrams.npy\n",
      "Applying Scaler to persistence diagrams.\n",
      "Got the result from ./1/train/filtrations/4/RadialFiltration_51_38/blue/features.npy\n",
      "Applying filtration 48/72: RadialFiltration with c = (51, 51), bin. thr. = 0.4\n",
      "RGB images received. Transforming to grayscale.\n"
     ]
    },
    {
     "name": "stderr",
     "output_type": "stream",
     "text": [
      "rgb2gray: 100%|██████████| 26640/26640 [00:06<00:00, 4370.33it/s]\n"
     ]
    },
    {
     "name": "stdout",
     "output_type": "stream",
     "text": [
      "FiltrationExtractor: processing 1/train/filtrations/4/RadialFiltration_51_51/gray, do_fit = False, filtration = RadialFiltration(center=array([51, 51]), n_jobs=-1)\n",
      "Got the result from ./1/train/filtrations/4/RadialFiltration_51_51/gray/diagrams.npy\n",
      "Applying Scaler to persistence diagrams.\n",
      "Got the result from ./1/train/filtrations/4/RadialFiltration_51_51/gray/features.npy\n",
      "FiltrationExtractor: processing 1/train/filtrations/4/RadialFiltration_51_51/red, do_fit = False, filtration = RadialFiltration(center=array([51, 51]), n_jobs=-1)\n",
      "Got the result from ./1/train/filtrations/4/RadialFiltration_51_51/red/diagrams.npy\n",
      "Applying Scaler to persistence diagrams.\n",
      "Got the result from ./1/train/filtrations/4/RadialFiltration_51_51/red/features.npy\n",
      "FiltrationExtractor: processing 1/train/filtrations/4/RadialFiltration_51_51/green, do_fit = False, filtration = RadialFiltration(center=array([51, 51]), n_jobs=-1)\n",
      "Got the result from ./1/train/filtrations/4/RadialFiltration_51_51/green/diagrams.npy\n",
      "Applying Scaler to persistence diagrams.\n",
      "Got the result from ./1/train/filtrations/4/RadialFiltration_51_51/green/features.npy\n",
      "FiltrationExtractor: processing 1/train/filtrations/4/RadialFiltration_51_51/blue, do_fit = False, filtration = RadialFiltration(center=array([51, 51]), n_jobs=-1)\n",
      "Got the result from ./1/train/filtrations/4/RadialFiltration_51_51/blue/diagrams.npy\n",
      "Applying Scaler to persistence diagrams.\n",
      "Got the result from ./1/train/filtrations/4/RadialFiltration_51_51/blue/features.npy\n",
      "Applying filtration 49/72: HeightFiltration with d = (-1, -1), bin. thr. = 0.6\n",
      "RGB images received. Transforming to grayscale.\n"
     ]
    },
    {
     "name": "stderr",
     "output_type": "stream",
     "text": [
      "rgb2gray: 100%|██████████| 26640/26640 [00:06<00:00, 4427.45it/s]\n"
     ]
    },
    {
     "name": "stdout",
     "output_type": "stream",
     "text": [
      "FiltrationExtractor: processing 1/train/filtrations/6/HeightFiltrartion_-1_-1/gray, do_fit = False, filtration = HeightFiltration(direction=array([-1, -1]), n_jobs=-1)\n",
      "Got the result from ./1/train/filtrations/6/HeightFiltrartion_-1_-1/gray/diagrams.npy\n",
      "Applying Scaler to persistence diagrams.\n",
      "Got the result from ./1/train/filtrations/6/HeightFiltrartion_-1_-1/gray/features.npy\n",
      "FiltrationExtractor: processing 1/train/filtrations/6/HeightFiltrartion_-1_-1/red, do_fit = False, filtration = HeightFiltration(direction=array([-1, -1]), n_jobs=-1)\n",
      "Got the result from ./1/train/filtrations/6/HeightFiltrartion_-1_-1/red/diagrams.npy\n",
      "Applying Scaler to persistence diagrams.\n",
      "Got the result from ./1/train/filtrations/6/HeightFiltrartion_-1_-1/red/features.npy\n",
      "FiltrationExtractor: processing 1/train/filtrations/6/HeightFiltrartion_-1_-1/green, do_fit = False, filtration = HeightFiltration(direction=array([-1, -1]), n_jobs=-1)\n",
      "Got the result from ./1/train/filtrations/6/HeightFiltrartion_-1_-1/green/diagrams.npy\n",
      "Applying Scaler to persistence diagrams.\n",
      "Got the result from ./1/train/filtrations/6/HeightFiltrartion_-1_-1/green/features.npy\n",
      "FiltrationExtractor: processing 1/train/filtrations/6/HeightFiltrartion_-1_-1/blue, do_fit = False, filtration = HeightFiltration(direction=array([-1, -1]), n_jobs=-1)\n",
      "Got the result from ./1/train/filtrations/6/HeightFiltrartion_-1_-1/blue/diagrams.npy\n",
      "Applying Scaler to persistence diagrams.\n",
      "Got the result from ./1/train/filtrations/6/HeightFiltrartion_-1_-1/blue/features.npy\n",
      "Applying filtration 50/72: HeightFiltration with d = (-1, 0), bin. thr. = 0.6\n",
      "RGB images received. Transforming to grayscale.\n"
     ]
    },
    {
     "name": "stderr",
     "output_type": "stream",
     "text": [
      "rgb2gray: 100%|██████████| 26640/26640 [00:06<00:00, 4372.40it/s]\n"
     ]
    },
    {
     "name": "stdout",
     "output_type": "stream",
     "text": [
      "FiltrationExtractor: processing 1/train/filtrations/6/HeightFiltrartion_-1_0/gray, do_fit = False, filtration = HeightFiltration(direction=array([-1,  0]), n_jobs=-1)\n",
      "Got the result from ./1/train/filtrations/6/HeightFiltrartion_-1_0/gray/diagrams.npy\n",
      "Applying Scaler to persistence diagrams.\n",
      "Got the result from ./1/train/filtrations/6/HeightFiltrartion_-1_0/gray/features.npy\n",
      "FiltrationExtractor: processing 1/train/filtrations/6/HeightFiltrartion_-1_0/red, do_fit = False, filtration = HeightFiltration(direction=array([-1,  0]), n_jobs=-1)\n",
      "Got the result from ./1/train/filtrations/6/HeightFiltrartion_-1_0/red/diagrams.npy\n",
      "Applying Scaler to persistence diagrams.\n",
      "Got the result from ./1/train/filtrations/6/HeightFiltrartion_-1_0/red/features.npy\n",
      "FiltrationExtractor: processing 1/train/filtrations/6/HeightFiltrartion_-1_0/green, do_fit = False, filtration = HeightFiltration(direction=array([-1,  0]), n_jobs=-1)\n",
      "Got the result from ./1/train/filtrations/6/HeightFiltrartion_-1_0/green/diagrams.npy\n",
      "Applying Scaler to persistence diagrams.\n",
      "Got the result from ./1/train/filtrations/6/HeightFiltrartion_-1_0/green/features.npy\n",
      "FiltrationExtractor: processing 1/train/filtrations/6/HeightFiltrartion_-1_0/blue, do_fit = False, filtration = HeightFiltration(direction=array([-1,  0]), n_jobs=-1)\n",
      "Got the result from ./1/train/filtrations/6/HeightFiltrartion_-1_0/blue/diagrams.npy\n",
      "Applying Scaler to persistence diagrams.\n",
      "Got the result from ./1/train/filtrations/6/HeightFiltrartion_-1_0/blue/features.npy\n",
      "Applying filtration 51/72: HeightFiltration with d = (-1, 1), bin. thr. = 0.6\n",
      "RGB images received. Transforming to grayscale.\n"
     ]
    },
    {
     "name": "stderr",
     "output_type": "stream",
     "text": [
      "rgb2gray: 100%|██████████| 26640/26640 [00:06<00:00, 4407.16it/s]\n"
     ]
    },
    {
     "name": "stdout",
     "output_type": "stream",
     "text": [
      "FiltrationExtractor: processing 1/train/filtrations/6/HeightFiltrartion_-1_1/gray, do_fit = False, filtration = HeightFiltration(direction=array([-1,  1]), n_jobs=-1)\n",
      "Got the result from ./1/train/filtrations/6/HeightFiltrartion_-1_1/gray/diagrams.npy\n",
      "Applying Scaler to persistence diagrams.\n",
      "Got the result from ./1/train/filtrations/6/HeightFiltrartion_-1_1/gray/features.npy\n",
      "FiltrationExtractor: processing 1/train/filtrations/6/HeightFiltrartion_-1_1/red, do_fit = False, filtration = HeightFiltration(direction=array([-1,  1]), n_jobs=-1)\n",
      "Got the result from ./1/train/filtrations/6/HeightFiltrartion_-1_1/red/diagrams.npy\n",
      "Applying Scaler to persistence diagrams.\n",
      "Got the result from ./1/train/filtrations/6/HeightFiltrartion_-1_1/red/features.npy\n",
      "FiltrationExtractor: processing 1/train/filtrations/6/HeightFiltrartion_-1_1/green, do_fit = False, filtration = HeightFiltration(direction=array([-1,  1]), n_jobs=-1)\n",
      "Got the result from ./1/train/filtrations/6/HeightFiltrartion_-1_1/green/diagrams.npy\n",
      "Applying Scaler to persistence diagrams.\n",
      "Got the result from ./1/train/filtrations/6/HeightFiltrartion_-1_1/green/features.npy\n",
      "FiltrationExtractor: processing 1/train/filtrations/6/HeightFiltrartion_-1_1/blue, do_fit = False, filtration = HeightFiltration(direction=array([-1,  1]), n_jobs=-1)\n",
      "Got the result from ./1/train/filtrations/6/HeightFiltrartion_-1_1/blue/diagrams.npy\n",
      "Applying Scaler to persistence diagrams.\n",
      "Got the result from ./1/train/filtrations/6/HeightFiltrartion_-1_1/blue/features.npy\n",
      "Applying filtration 52/72: HeightFiltration with d = (0, -1), bin. thr. = 0.6\n",
      "RGB images received. Transforming to grayscale.\n"
     ]
    },
    {
     "name": "stderr",
     "output_type": "stream",
     "text": [
      "rgb2gray: 100%|██████████| 26640/26640 [00:06<00:00, 4326.33it/s]\n"
     ]
    },
    {
     "name": "stdout",
     "output_type": "stream",
     "text": [
      "FiltrationExtractor: processing 1/train/filtrations/6/HeightFiltrartion_0_-1/gray, do_fit = False, filtration = HeightFiltration(direction=array([ 0, -1]), n_jobs=-1)\n",
      "Got the result from ./1/train/filtrations/6/HeightFiltrartion_0_-1/gray/diagrams.npy\n",
      "Applying Scaler to persistence diagrams.\n",
      "Got the result from ./1/train/filtrations/6/HeightFiltrartion_0_-1/gray/features.npy\n",
      "FiltrationExtractor: processing 1/train/filtrations/6/HeightFiltrartion_0_-1/red, do_fit = False, filtration = HeightFiltration(direction=array([ 0, -1]), n_jobs=-1)\n",
      "Got the result from ./1/train/filtrations/6/HeightFiltrartion_0_-1/red/diagrams.npy\n",
      "Applying Scaler to persistence diagrams.\n",
      "Got the result from ./1/train/filtrations/6/HeightFiltrartion_0_-1/red/features.npy\n",
      "FiltrationExtractor: processing 1/train/filtrations/6/HeightFiltrartion_0_-1/green, do_fit = False, filtration = HeightFiltration(direction=array([ 0, -1]), n_jobs=-1)\n",
      "Got the result from ./1/train/filtrations/6/HeightFiltrartion_0_-1/green/diagrams.npy\n",
      "Applying Scaler to persistence diagrams.\n",
      "Got the result from ./1/train/filtrations/6/HeightFiltrartion_0_-1/green/features.npy\n",
      "FiltrationExtractor: processing 1/train/filtrations/6/HeightFiltrartion_0_-1/blue, do_fit = False, filtration = HeightFiltration(direction=array([ 0, -1]), n_jobs=-1)\n",
      "Got the result from ./1/train/filtrations/6/HeightFiltrartion_0_-1/blue/diagrams.npy\n",
      "Applying Scaler to persistence diagrams.\n",
      "Got the result from ./1/train/filtrations/6/HeightFiltrartion_0_-1/blue/features.npy\n",
      "Applying filtration 53/72: HeightFiltration with d = (0, 1), bin. thr. = 0.6\n",
      "RGB images received. Transforming to grayscale.\n"
     ]
    },
    {
     "name": "stderr",
     "output_type": "stream",
     "text": [
      "rgb2gray: 100%|██████████| 26640/26640 [00:06<00:00, 4365.41it/s]\n"
     ]
    },
    {
     "name": "stdout",
     "output_type": "stream",
     "text": [
      "FiltrationExtractor: processing 1/train/filtrations/6/HeightFiltrartion_0_1/gray, do_fit = False, filtration = HeightFiltration(direction=array([0, 1]), n_jobs=-1)\n",
      "Got the result from ./1/train/filtrations/6/HeightFiltrartion_0_1/gray/diagrams.npy\n",
      "Applying Scaler to persistence diagrams.\n",
      "Got the result from ./1/train/filtrations/6/HeightFiltrartion_0_1/gray/features.npy\n",
      "FiltrationExtractor: processing 1/train/filtrations/6/HeightFiltrartion_0_1/red, do_fit = False, filtration = HeightFiltration(direction=array([0, 1]), n_jobs=-1)\n",
      "Got the result from ./1/train/filtrations/6/HeightFiltrartion_0_1/red/diagrams.npy\n",
      "Applying Scaler to persistence diagrams.\n",
      "Got the result from ./1/train/filtrations/6/HeightFiltrartion_0_1/red/features.npy\n",
      "FiltrationExtractor: processing 1/train/filtrations/6/HeightFiltrartion_0_1/green, do_fit = False, filtration = HeightFiltration(direction=array([0, 1]), n_jobs=-1)\n",
      "Got the result from ./1/train/filtrations/6/HeightFiltrartion_0_1/green/diagrams.npy\n",
      "Applying Scaler to persistence diagrams.\n",
      "Got the result from ./1/train/filtrations/6/HeightFiltrartion_0_1/green/features.npy\n",
      "FiltrationExtractor: processing 1/train/filtrations/6/HeightFiltrartion_0_1/blue, do_fit = False, filtration = HeightFiltration(direction=array([0, 1]), n_jobs=-1)\n",
      "Got the result from ./1/train/filtrations/6/HeightFiltrartion_0_1/blue/diagrams.npy\n",
      "Applying Scaler to persistence diagrams.\n",
      "Got the result from ./1/train/filtrations/6/HeightFiltrartion_0_1/blue/features.npy\n",
      "Applying filtration 54/72: HeightFiltration with d = (1, -1), bin. thr. = 0.6\n",
      "RGB images received. Transforming to grayscale.\n"
     ]
    },
    {
     "name": "stderr",
     "output_type": "stream",
     "text": [
      "rgb2gray: 100%|██████████| 26640/26640 [00:06<00:00, 4417.52it/s]\n"
     ]
    },
    {
     "name": "stdout",
     "output_type": "stream",
     "text": [
      "FiltrationExtractor: processing 1/train/filtrations/6/HeightFiltrartion_1_-1/gray, do_fit = False, filtration = HeightFiltration(direction=array([ 1, -1]), n_jobs=-1)\n",
      "Got the result from ./1/train/filtrations/6/HeightFiltrartion_1_-1/gray/diagrams.npy\n",
      "Applying Scaler to persistence diagrams.\n",
      "Got the result from ./1/train/filtrations/6/HeightFiltrartion_1_-1/gray/features.npy\n",
      "FiltrationExtractor: processing 1/train/filtrations/6/HeightFiltrartion_1_-1/red, do_fit = False, filtration = HeightFiltration(direction=array([ 1, -1]), n_jobs=-1)\n",
      "Got the result from ./1/train/filtrations/6/HeightFiltrartion_1_-1/red/diagrams.npy\n",
      "Applying Scaler to persistence diagrams.\n",
      "Got the result from ./1/train/filtrations/6/HeightFiltrartion_1_-1/red/features.npy\n",
      "FiltrationExtractor: processing 1/train/filtrations/6/HeightFiltrartion_1_-1/green, do_fit = False, filtration = HeightFiltration(direction=array([ 1, -1]), n_jobs=-1)\n",
      "Got the result from ./1/train/filtrations/6/HeightFiltrartion_1_-1/green/diagrams.npy\n",
      "Applying Scaler to persistence diagrams.\n",
      "Got the result from ./1/train/filtrations/6/HeightFiltrartion_1_-1/green/features.npy\n",
      "FiltrationExtractor: processing 1/train/filtrations/6/HeightFiltrartion_1_-1/blue, do_fit = False, filtration = HeightFiltration(direction=array([ 1, -1]), n_jobs=-1)\n",
      "Got the result from ./1/train/filtrations/6/HeightFiltrartion_1_-1/blue/diagrams.npy\n",
      "Applying Scaler to persistence diagrams.\n",
      "Got the result from ./1/train/filtrations/6/HeightFiltrartion_1_-1/blue/features.npy\n",
      "Applying filtration 55/72: HeightFiltration with d = (1, 0), bin. thr. = 0.6\n",
      "RGB images received. Transforming to grayscale.\n"
     ]
    },
    {
     "name": "stderr",
     "output_type": "stream",
     "text": [
      "rgb2gray: 100%|██████████| 26640/26640 [00:06<00:00, 4357.86it/s]\n"
     ]
    },
    {
     "name": "stdout",
     "output_type": "stream",
     "text": [
      "FiltrationExtractor: processing 1/train/filtrations/6/HeightFiltrartion_1_0/gray, do_fit = False, filtration = HeightFiltration(direction=array([1, 0]), n_jobs=-1)\n",
      "Got the result from ./1/train/filtrations/6/HeightFiltrartion_1_0/gray/diagrams.npy\n",
      "Applying Scaler to persistence diagrams.\n",
      "Got the result from ./1/train/filtrations/6/HeightFiltrartion_1_0/gray/features.npy\n",
      "FiltrationExtractor: processing 1/train/filtrations/6/HeightFiltrartion_1_0/red, do_fit = False, filtration = HeightFiltration(direction=array([1, 0]), n_jobs=-1)\n",
      "Got the result from ./1/train/filtrations/6/HeightFiltrartion_1_0/red/diagrams.npy\n",
      "Applying Scaler to persistence diagrams.\n",
      "Got the result from ./1/train/filtrations/6/HeightFiltrartion_1_0/red/features.npy\n",
      "FiltrationExtractor: processing 1/train/filtrations/6/HeightFiltrartion_1_0/green, do_fit = False, filtration = HeightFiltration(direction=array([1, 0]), n_jobs=-1)\n",
      "Got the result from ./1/train/filtrations/6/HeightFiltrartion_1_0/green/diagrams.npy\n",
      "Applying Scaler to persistence diagrams.\n",
      "Got the result from ./1/train/filtrations/6/HeightFiltrartion_1_0/green/features.npy\n",
      "FiltrationExtractor: processing 1/train/filtrations/6/HeightFiltrartion_1_0/blue, do_fit = False, filtration = HeightFiltration(direction=array([1, 0]), n_jobs=-1)\n",
      "Got the result from ./1/train/filtrations/6/HeightFiltrartion_1_0/blue/diagrams.npy\n",
      "Applying Scaler to persistence diagrams.\n",
      "Got the result from ./1/train/filtrations/6/HeightFiltrartion_1_0/blue/features.npy\n",
      "Applying filtration 56/72: HeightFiltration with d = (1, 1), bin. thr. = 0.6\n",
      "RGB images received. Transforming to grayscale.\n"
     ]
    },
    {
     "name": "stderr",
     "output_type": "stream",
     "text": [
      "rgb2gray: 100%|██████████| 26640/26640 [00:06<00:00, 4420.10it/s]\n"
     ]
    },
    {
     "name": "stdout",
     "output_type": "stream",
     "text": [
      "FiltrationExtractor: processing 1/train/filtrations/6/HeightFiltrartion_1_1/gray, do_fit = False, filtration = HeightFiltration(direction=array([1, 1]), n_jobs=-1)\n",
      "Got the result from ./1/train/filtrations/6/HeightFiltrartion_1_1/gray/diagrams.npy\n",
      "Applying Scaler to persistence diagrams.\n",
      "Got the result from ./1/train/filtrations/6/HeightFiltrartion_1_1/gray/features.npy\n",
      "FiltrationExtractor: processing 1/train/filtrations/6/HeightFiltrartion_1_1/red, do_fit = False, filtration = HeightFiltration(direction=array([1, 1]), n_jobs=-1)\n",
      "Got the result from ./1/train/filtrations/6/HeightFiltrartion_1_1/red/diagrams.npy\n",
      "Applying Scaler to persistence diagrams.\n",
      "Got the result from ./1/train/filtrations/6/HeightFiltrartion_1_1/red/features.npy\n",
      "FiltrationExtractor: processing 1/train/filtrations/6/HeightFiltrartion_1_1/green, do_fit = False, filtration = HeightFiltration(direction=array([1, 1]), n_jobs=-1)\n",
      "Got the result from ./1/train/filtrations/6/HeightFiltrartion_1_1/green/diagrams.npy\n",
      "Applying Scaler to persistence diagrams.\n",
      "Got the result from ./1/train/filtrations/6/HeightFiltrartion_1_1/green/features.npy\n",
      "FiltrationExtractor: processing 1/train/filtrations/6/HeightFiltrartion_1_1/blue, do_fit = False, filtration = HeightFiltration(direction=array([1, 1]), n_jobs=-1)\n",
      "Got the result from ./1/train/filtrations/6/HeightFiltrartion_1_1/blue/diagrams.npy\n",
      "Applying Scaler to persistence diagrams.\n",
      "Got the result from ./1/train/filtrations/6/HeightFiltrartion_1_1/blue/features.npy\n",
      "Applying filtration 57/72: RadialFiltration with c = (12, 12), bin. thr. = 0.6\n",
      "RGB images received. Transforming to grayscale.\n"
     ]
    },
    {
     "name": "stderr",
     "output_type": "stream",
     "text": [
      "rgb2gray: 100%|██████████| 26640/26640 [00:06<00:00, 4310.36it/s]\n"
     ]
    },
    {
     "name": "stdout",
     "output_type": "stream",
     "text": [
      "FiltrationExtractor: processing 1/train/filtrations/6/RadialFiltration_12_12/gray, do_fit = False, filtration = RadialFiltration(center=array([12, 12]), n_jobs=-1)\n",
      "Got the result from ./1/train/filtrations/6/RadialFiltration_12_12/gray/diagrams.npy\n",
      "Applying Scaler to persistence diagrams.\n",
      "Got the result from ./1/train/filtrations/6/RadialFiltration_12_12/gray/features.npy\n",
      "FiltrationExtractor: processing 1/train/filtrations/6/RadialFiltration_12_12/red, do_fit = False, filtration = RadialFiltration(center=array([12, 12]), n_jobs=-1)\n",
      "Got the result from ./1/train/filtrations/6/RadialFiltration_12_12/red/diagrams.npy\n",
      "Applying Scaler to persistence diagrams.\n",
      "Got the result from ./1/train/filtrations/6/RadialFiltration_12_12/red/features.npy\n",
      "FiltrationExtractor: processing 1/train/filtrations/6/RadialFiltration_12_12/green, do_fit = False, filtration = RadialFiltration(center=array([12, 12]), n_jobs=-1)\n",
      "Got the result from ./1/train/filtrations/6/RadialFiltration_12_12/green/diagrams.npy\n",
      "Applying Scaler to persistence diagrams.\n",
      "Got the result from ./1/train/filtrations/6/RadialFiltration_12_12/green/features.npy\n",
      "FiltrationExtractor: processing 1/train/filtrations/6/RadialFiltration_12_12/blue, do_fit = False, filtration = RadialFiltration(center=array([12, 12]), n_jobs=-1)\n",
      "Got the result from ./1/train/filtrations/6/RadialFiltration_12_12/blue/diagrams.npy\n",
      "Applying Scaler to persistence diagrams.\n",
      "Got the result from ./1/train/filtrations/6/RadialFiltration_12_12/blue/features.npy\n",
      "Applying filtration 58/72: RadialFiltration with c = (12, 25), bin. thr. = 0.6\n",
      "RGB images received. Transforming to grayscale.\n"
     ]
    },
    {
     "name": "stderr",
     "output_type": "stream",
     "text": [
      "rgb2gray: 100%|██████████| 26640/26640 [00:06<00:00, 4385.17it/s]\n"
     ]
    },
    {
     "name": "stdout",
     "output_type": "stream",
     "text": [
      "FiltrationExtractor: processing 1/train/filtrations/6/RadialFiltration_12_25/gray, do_fit = False, filtration = RadialFiltration(center=array([12, 25]), n_jobs=-1)\n",
      "Got the result from ./1/train/filtrations/6/RadialFiltration_12_25/gray/diagrams.npy\n",
      "Applying Scaler to persistence diagrams.\n",
      "Got the result from ./1/train/filtrations/6/RadialFiltration_12_25/gray/features.npy\n",
      "FiltrationExtractor: processing 1/train/filtrations/6/RadialFiltration_12_25/red, do_fit = False, filtration = RadialFiltration(center=array([12, 25]), n_jobs=-1)\n",
      "Got the result from ./1/train/filtrations/6/RadialFiltration_12_25/red/diagrams.npy\n",
      "Applying Scaler to persistence diagrams.\n",
      "Got the result from ./1/train/filtrations/6/RadialFiltration_12_25/red/features.npy\n",
      "FiltrationExtractor: processing 1/train/filtrations/6/RadialFiltration_12_25/green, do_fit = False, filtration = RadialFiltration(center=array([12, 25]), n_jobs=-1)\n",
      "Got the result from ./1/train/filtrations/6/RadialFiltration_12_25/green/diagrams.npy\n",
      "Applying Scaler to persistence diagrams.\n",
      "Got the result from ./1/train/filtrations/6/RadialFiltration_12_25/green/features.npy\n",
      "FiltrationExtractor: processing 1/train/filtrations/6/RadialFiltration_12_25/blue, do_fit = False, filtration = RadialFiltration(center=array([12, 25]), n_jobs=-1)\n",
      "Got the result from ./1/train/filtrations/6/RadialFiltration_12_25/blue/diagrams.npy\n",
      "Applying Scaler to persistence diagrams.\n",
      "Got the result from ./1/train/filtrations/6/RadialFiltration_12_25/blue/features.npy\n",
      "Applying filtration 59/72: RadialFiltration with c = (12, 38), bin. thr. = 0.6\n",
      "RGB images received. Transforming to grayscale.\n"
     ]
    },
    {
     "name": "stderr",
     "output_type": "stream",
     "text": [
      "rgb2gray: 100%|██████████| 26640/26640 [00:06<00:00, 4370.54it/s]\n"
     ]
    },
    {
     "name": "stdout",
     "output_type": "stream",
     "text": [
      "FiltrationExtractor: processing 1/train/filtrations/6/RadialFiltration_12_38/gray, do_fit = False, filtration = RadialFiltration(center=array([12, 38]), n_jobs=-1)\n",
      "Got the result from ./1/train/filtrations/6/RadialFiltration_12_38/gray/diagrams.npy\n",
      "Applying Scaler to persistence diagrams.\n",
      "Got the result from ./1/train/filtrations/6/RadialFiltration_12_38/gray/features.npy\n",
      "FiltrationExtractor: processing 1/train/filtrations/6/RadialFiltration_12_38/red, do_fit = False, filtration = RadialFiltration(center=array([12, 38]), n_jobs=-1)\n",
      "Got the result from ./1/train/filtrations/6/RadialFiltration_12_38/red/diagrams.npy\n",
      "Applying Scaler to persistence diagrams.\n",
      "Got the result from ./1/train/filtrations/6/RadialFiltration_12_38/red/features.npy\n",
      "FiltrationExtractor: processing 1/train/filtrations/6/RadialFiltration_12_38/green, do_fit = False, filtration = RadialFiltration(center=array([12, 38]), n_jobs=-1)\n",
      "Got the result from ./1/train/filtrations/6/RadialFiltration_12_38/green/diagrams.npy\n",
      "Applying Scaler to persistence diagrams.\n",
      "Got the result from ./1/train/filtrations/6/RadialFiltration_12_38/green/features.npy\n",
      "FiltrationExtractor: processing 1/train/filtrations/6/RadialFiltration_12_38/blue, do_fit = False, filtration = RadialFiltration(center=array([12, 38]), n_jobs=-1)\n",
      "Got the result from ./1/train/filtrations/6/RadialFiltration_12_38/blue/diagrams.npy\n",
      "Applying Scaler to persistence diagrams.\n",
      "Got the result from ./1/train/filtrations/6/RadialFiltration_12_38/blue/features.npy\n",
      "Applying filtration 60/72: RadialFiltration with c = (12, 51), bin. thr. = 0.6\n",
      "RGB images received. Transforming to grayscale.\n"
     ]
    },
    {
     "name": "stderr",
     "output_type": "stream",
     "text": [
      "rgb2gray: 100%|██████████| 26640/26640 [00:06<00:00, 4419.06it/s]\n"
     ]
    },
    {
     "name": "stdout",
     "output_type": "stream",
     "text": [
      "FiltrationExtractor: processing 1/train/filtrations/6/RadialFiltration_12_51/gray, do_fit = False, filtration = RadialFiltration(center=array([12, 51]), n_jobs=-1)\n",
      "Got the result from ./1/train/filtrations/6/RadialFiltration_12_51/gray/diagrams.npy\n",
      "Applying Scaler to persistence diagrams.\n",
      "Got the result from ./1/train/filtrations/6/RadialFiltration_12_51/gray/features.npy\n",
      "FiltrationExtractor: processing 1/train/filtrations/6/RadialFiltration_12_51/red, do_fit = False, filtration = RadialFiltration(center=array([12, 51]), n_jobs=-1)\n",
      "Got the result from ./1/train/filtrations/6/RadialFiltration_12_51/red/diagrams.npy\n",
      "Applying Scaler to persistence diagrams.\n",
      "Got the result from ./1/train/filtrations/6/RadialFiltration_12_51/red/features.npy\n",
      "FiltrationExtractor: processing 1/train/filtrations/6/RadialFiltration_12_51/green, do_fit = False, filtration = RadialFiltration(center=array([12, 51]), n_jobs=-1)\n",
      "Got the result from ./1/train/filtrations/6/RadialFiltration_12_51/green/diagrams.npy\n",
      "Applying Scaler to persistence diagrams.\n",
      "Got the result from ./1/train/filtrations/6/RadialFiltration_12_51/green/features.npy\n",
      "FiltrationExtractor: processing 1/train/filtrations/6/RadialFiltration_12_51/blue, do_fit = False, filtration = RadialFiltration(center=array([12, 51]), n_jobs=-1)\n",
      "Got the result from ./1/train/filtrations/6/RadialFiltration_12_51/blue/diagrams.npy\n",
      "Applying Scaler to persistence diagrams.\n",
      "Got the result from ./1/train/filtrations/6/RadialFiltration_12_51/blue/features.npy\n",
      "Applying filtration 61/72: RadialFiltration with c = (25, 12), bin. thr. = 0.6\n",
      "RGB images received. Transforming to grayscale.\n"
     ]
    },
    {
     "name": "stderr",
     "output_type": "stream",
     "text": [
      "rgb2gray: 100%|██████████| 26640/26640 [00:06<00:00, 4301.36it/s]\n"
     ]
    },
    {
     "name": "stdout",
     "output_type": "stream",
     "text": [
      "FiltrationExtractor: processing 1/train/filtrations/6/RadialFiltration_25_12/gray, do_fit = False, filtration = RadialFiltration(center=array([25, 12]), n_jobs=-1)\n",
      "Got the result from ./1/train/filtrations/6/RadialFiltration_25_12/gray/diagrams.npy\n",
      "Applying Scaler to persistence diagrams.\n",
      "Got the result from ./1/train/filtrations/6/RadialFiltration_25_12/gray/features.npy\n",
      "FiltrationExtractor: processing 1/train/filtrations/6/RadialFiltration_25_12/red, do_fit = False, filtration = RadialFiltration(center=array([25, 12]), n_jobs=-1)\n",
      "Got the result from ./1/train/filtrations/6/RadialFiltration_25_12/red/diagrams.npy\n",
      "Applying Scaler to persistence diagrams.\n",
      "Got the result from ./1/train/filtrations/6/RadialFiltration_25_12/red/features.npy\n",
      "FiltrationExtractor: processing 1/train/filtrations/6/RadialFiltration_25_12/green, do_fit = False, filtration = RadialFiltration(center=array([25, 12]), n_jobs=-1)\n",
      "Got the result from ./1/train/filtrations/6/RadialFiltration_25_12/green/diagrams.npy\n",
      "Applying Scaler to persistence diagrams.\n",
      "Got the result from ./1/train/filtrations/6/RadialFiltration_25_12/green/features.npy\n",
      "FiltrationExtractor: processing 1/train/filtrations/6/RadialFiltration_25_12/blue, do_fit = False, filtration = RadialFiltration(center=array([25, 12]), n_jobs=-1)\n",
      "Got the result from ./1/train/filtrations/6/RadialFiltration_25_12/blue/diagrams.npy\n",
      "Applying Scaler to persistence diagrams.\n",
      "Got the result from ./1/train/filtrations/6/RadialFiltration_25_12/blue/features.npy\n",
      "Applying filtration 62/72: RadialFiltration with c = (25, 25), bin. thr. = 0.6\n",
      "RGB images received. Transforming to grayscale.\n"
     ]
    },
    {
     "name": "stderr",
     "output_type": "stream",
     "text": [
      "rgb2gray: 100%|██████████| 26640/26640 [00:06<00:00, 4330.89it/s]\n"
     ]
    },
    {
     "name": "stdout",
     "output_type": "stream",
     "text": [
      "FiltrationExtractor: processing 1/train/filtrations/6/RadialFiltration_25_25/gray, do_fit = False, filtration = RadialFiltration(center=array([25, 25]), n_jobs=-1)\n",
      "Got the result from ./1/train/filtrations/6/RadialFiltration_25_25/gray/diagrams.npy\n",
      "Applying Scaler to persistence diagrams.\n",
      "Got the result from ./1/train/filtrations/6/RadialFiltration_25_25/gray/features.npy\n",
      "FiltrationExtractor: processing 1/train/filtrations/6/RadialFiltration_25_25/red, do_fit = False, filtration = RadialFiltration(center=array([25, 25]), n_jobs=-1)\n",
      "Got the result from ./1/train/filtrations/6/RadialFiltration_25_25/red/diagrams.npy\n",
      "Applying Scaler to persistence diagrams.\n",
      "Got the result from ./1/train/filtrations/6/RadialFiltration_25_25/red/features.npy\n",
      "FiltrationExtractor: processing 1/train/filtrations/6/RadialFiltration_25_25/green, do_fit = False, filtration = RadialFiltration(center=array([25, 25]), n_jobs=-1)\n",
      "Got the result from ./1/train/filtrations/6/RadialFiltration_25_25/green/diagrams.npy\n",
      "Applying Scaler to persistence diagrams.\n",
      "Got the result from ./1/train/filtrations/6/RadialFiltration_25_25/green/features.npy\n",
      "FiltrationExtractor: processing 1/train/filtrations/6/RadialFiltration_25_25/blue, do_fit = False, filtration = RadialFiltration(center=array([25, 25]), n_jobs=-1)\n",
      "Got the result from ./1/train/filtrations/6/RadialFiltration_25_25/blue/diagrams.npy\n",
      "Applying Scaler to persistence diagrams.\n",
      "Got the result from ./1/train/filtrations/6/RadialFiltration_25_25/blue/features.npy\n",
      "Applying filtration 63/72: RadialFiltration with c = (25, 38), bin. thr. = 0.6\n",
      "RGB images received. Transforming to grayscale.\n"
     ]
    },
    {
     "name": "stderr",
     "output_type": "stream",
     "text": [
      "rgb2gray: 100%|██████████| 26640/26640 [00:06<00:00, 4396.52it/s]\n"
     ]
    },
    {
     "name": "stdout",
     "output_type": "stream",
     "text": [
      "FiltrationExtractor: processing 1/train/filtrations/6/RadialFiltration_25_38/gray, do_fit = False, filtration = RadialFiltration(center=array([25, 38]), n_jobs=-1)\n",
      "Got the result from ./1/train/filtrations/6/RadialFiltration_25_38/gray/diagrams.npy\n",
      "Applying Scaler to persistence diagrams.\n",
      "Got the result from ./1/train/filtrations/6/RadialFiltration_25_38/gray/features.npy\n",
      "FiltrationExtractor: processing 1/train/filtrations/6/RadialFiltration_25_38/red, do_fit = False, filtration = RadialFiltration(center=array([25, 38]), n_jobs=-1)\n",
      "Got the result from ./1/train/filtrations/6/RadialFiltration_25_38/red/diagrams.npy\n",
      "Applying Scaler to persistence diagrams.\n",
      "Got the result from ./1/train/filtrations/6/RadialFiltration_25_38/red/features.npy\n",
      "FiltrationExtractor: processing 1/train/filtrations/6/RadialFiltration_25_38/green, do_fit = False, filtration = RadialFiltration(center=array([25, 38]), n_jobs=-1)\n",
      "Got the result from ./1/train/filtrations/6/RadialFiltration_25_38/green/diagrams.npy\n",
      "Applying Scaler to persistence diagrams.\n",
      "Got the result from ./1/train/filtrations/6/RadialFiltration_25_38/green/features.npy\n",
      "FiltrationExtractor: processing 1/train/filtrations/6/RadialFiltration_25_38/blue, do_fit = False, filtration = RadialFiltration(center=array([25, 38]), n_jobs=-1)\n",
      "Got the result from ./1/train/filtrations/6/RadialFiltration_25_38/blue/diagrams.npy\n",
      "Applying Scaler to persistence diagrams.\n",
      "Got the result from ./1/train/filtrations/6/RadialFiltration_25_38/blue/features.npy\n",
      "Applying filtration 64/72: RadialFiltration with c = (25, 51), bin. thr. = 0.6\n",
      "RGB images received. Transforming to grayscale.\n"
     ]
    },
    {
     "name": "stderr",
     "output_type": "stream",
     "text": [
      "rgb2gray: 100%|██████████| 26640/26640 [00:06<00:00, 4346.81it/s]\n"
     ]
    },
    {
     "name": "stdout",
     "output_type": "stream",
     "text": [
      "FiltrationExtractor: processing 1/train/filtrations/6/RadialFiltration_25_51/gray, do_fit = False, filtration = RadialFiltration(center=array([25, 51]), n_jobs=-1)\n",
      "Got the result from ./1/train/filtrations/6/RadialFiltration_25_51/gray/diagrams.npy\n",
      "Applying Scaler to persistence diagrams.\n",
      "Got the result from ./1/train/filtrations/6/RadialFiltration_25_51/gray/features.npy\n",
      "FiltrationExtractor: processing 1/train/filtrations/6/RadialFiltration_25_51/red, do_fit = False, filtration = RadialFiltration(center=array([25, 51]), n_jobs=-1)\n",
      "Got the result from ./1/train/filtrations/6/RadialFiltration_25_51/red/diagrams.npy\n",
      "Applying Scaler to persistence diagrams.\n",
      "Got the result from ./1/train/filtrations/6/RadialFiltration_25_51/red/features.npy\n",
      "FiltrationExtractor: processing 1/train/filtrations/6/RadialFiltration_25_51/green, do_fit = False, filtration = RadialFiltration(center=array([25, 51]), n_jobs=-1)\n",
      "Got the result from ./1/train/filtrations/6/RadialFiltration_25_51/green/diagrams.npy\n",
      "Applying Scaler to persistence diagrams.\n",
      "Got the result from ./1/train/filtrations/6/RadialFiltration_25_51/green/features.npy\n",
      "FiltrationExtractor: processing 1/train/filtrations/6/RadialFiltration_25_51/blue, do_fit = False, filtration = RadialFiltration(center=array([25, 51]), n_jobs=-1)\n",
      "Got the result from ./1/train/filtrations/6/RadialFiltration_25_51/blue/diagrams.npy\n",
      "Applying Scaler to persistence diagrams.\n",
      "Got the result from ./1/train/filtrations/6/RadialFiltration_25_51/blue/features.npy\n",
      "Applying filtration 65/72: RadialFiltration with c = (38, 12), bin. thr. = 0.6\n",
      "RGB images received. Transforming to grayscale.\n"
     ]
    },
    {
     "name": "stderr",
     "output_type": "stream",
     "text": [
      "rgb2gray: 100%|██████████| 26640/26640 [00:06<00:00, 4402.14it/s]\n"
     ]
    },
    {
     "name": "stdout",
     "output_type": "stream",
     "text": [
      "FiltrationExtractor: processing 1/train/filtrations/6/RadialFiltration_38_12/gray, do_fit = False, filtration = RadialFiltration(center=array([38, 12]), n_jobs=-1)\n",
      "Got the result from ./1/train/filtrations/6/RadialFiltration_38_12/gray/diagrams.npy\n",
      "Applying Scaler to persistence diagrams.\n",
      "Got the result from ./1/train/filtrations/6/RadialFiltration_38_12/gray/features.npy\n",
      "FiltrationExtractor: processing 1/train/filtrations/6/RadialFiltration_38_12/red, do_fit = False, filtration = RadialFiltration(center=array([38, 12]), n_jobs=-1)\n",
      "Got the result from ./1/train/filtrations/6/RadialFiltration_38_12/red/diagrams.npy\n",
      "Applying Scaler to persistence diagrams.\n",
      "Got the result from ./1/train/filtrations/6/RadialFiltration_38_12/red/features.npy\n",
      "FiltrationExtractor: processing 1/train/filtrations/6/RadialFiltration_38_12/green, do_fit = False, filtration = RadialFiltration(center=array([38, 12]), n_jobs=-1)\n",
      "Got the result from ./1/train/filtrations/6/RadialFiltration_38_12/green/diagrams.npy\n",
      "Applying Scaler to persistence diagrams.\n",
      "Got the result from ./1/train/filtrations/6/RadialFiltration_38_12/green/features.npy\n",
      "FiltrationExtractor: processing 1/train/filtrations/6/RadialFiltration_38_12/blue, do_fit = False, filtration = RadialFiltration(center=array([38, 12]), n_jobs=-1)\n",
      "Got the result from ./1/train/filtrations/6/RadialFiltration_38_12/blue/diagrams.npy\n",
      "Applying Scaler to persistence diagrams.\n",
      "Got the result from ./1/train/filtrations/6/RadialFiltration_38_12/blue/features.npy\n",
      "Applying filtration 66/72: RadialFiltration with c = (38, 25), bin. thr. = 0.6\n",
      "RGB images received. Transforming to grayscale.\n"
     ]
    },
    {
     "name": "stderr",
     "output_type": "stream",
     "text": [
      "rgb2gray: 100%|██████████| 26640/26640 [00:06<00:00, 4346.98it/s]\n"
     ]
    },
    {
     "name": "stdout",
     "output_type": "stream",
     "text": [
      "FiltrationExtractor: processing 1/train/filtrations/6/RadialFiltration_38_25/gray, do_fit = False, filtration = RadialFiltration(center=array([38, 25]), n_jobs=-1)\n",
      "Got the result from ./1/train/filtrations/6/RadialFiltration_38_25/gray/diagrams.npy\n",
      "Applying Scaler to persistence diagrams.\n",
      "Got the result from ./1/train/filtrations/6/RadialFiltration_38_25/gray/features.npy\n",
      "FiltrationExtractor: processing 1/train/filtrations/6/RadialFiltration_38_25/red, do_fit = False, filtration = RadialFiltration(center=array([38, 25]), n_jobs=-1)\n",
      "Got the result from ./1/train/filtrations/6/RadialFiltration_38_25/red/diagrams.npy\n",
      "Applying Scaler to persistence diagrams.\n",
      "Got the result from ./1/train/filtrations/6/RadialFiltration_38_25/red/features.npy\n",
      "FiltrationExtractor: processing 1/train/filtrations/6/RadialFiltration_38_25/green, do_fit = False, filtration = RadialFiltration(center=array([38, 25]), n_jobs=-1)\n",
      "Got the result from ./1/train/filtrations/6/RadialFiltration_38_25/green/diagrams.npy\n",
      "Applying Scaler to persistence diagrams.\n",
      "Got the result from ./1/train/filtrations/6/RadialFiltration_38_25/green/features.npy\n",
      "FiltrationExtractor: processing 1/train/filtrations/6/RadialFiltration_38_25/blue, do_fit = False, filtration = RadialFiltration(center=array([38, 25]), n_jobs=-1)\n",
      "Got the result from ./1/train/filtrations/6/RadialFiltration_38_25/blue/diagrams.npy\n",
      "Applying Scaler to persistence diagrams.\n",
      "Got the result from ./1/train/filtrations/6/RadialFiltration_38_25/blue/features.npy\n",
      "Applying filtration 67/72: RadialFiltration with c = (38, 38), bin. thr. = 0.6\n",
      "RGB images received. Transforming to grayscale.\n"
     ]
    },
    {
     "name": "stderr",
     "output_type": "stream",
     "text": [
      "rgb2gray: 100%|██████████| 26640/26640 [00:06<00:00, 4420.10it/s]\n"
     ]
    },
    {
     "name": "stdout",
     "output_type": "stream",
     "text": [
      "FiltrationExtractor: processing 1/train/filtrations/6/RadialFiltration_38_38/gray, do_fit = False, filtration = RadialFiltration(center=array([38, 38]), n_jobs=-1)\n",
      "Got the result from ./1/train/filtrations/6/RadialFiltration_38_38/gray/diagrams.npy\n",
      "Applying Scaler to persistence diagrams.\n",
      "Got the result from ./1/train/filtrations/6/RadialFiltration_38_38/gray/features.npy\n",
      "FiltrationExtractor: processing 1/train/filtrations/6/RadialFiltration_38_38/red, do_fit = False, filtration = RadialFiltration(center=array([38, 38]), n_jobs=-1)\n",
      "Got the result from ./1/train/filtrations/6/RadialFiltration_38_38/red/diagrams.npy\n",
      "Applying Scaler to persistence diagrams.\n",
      "Got the result from ./1/train/filtrations/6/RadialFiltration_38_38/red/features.npy\n",
      "FiltrationExtractor: processing 1/train/filtrations/6/RadialFiltration_38_38/green, do_fit = False, filtration = RadialFiltration(center=array([38, 38]), n_jobs=-1)\n",
      "Got the result from ./1/train/filtrations/6/RadialFiltration_38_38/green/diagrams.npy\n",
      "Applying Scaler to persistence diagrams.\n",
      "Got the result from ./1/train/filtrations/6/RadialFiltration_38_38/green/features.npy\n",
      "FiltrationExtractor: processing 1/train/filtrations/6/RadialFiltration_38_38/blue, do_fit = False, filtration = RadialFiltration(center=array([38, 38]), n_jobs=-1)\n",
      "Got the result from ./1/train/filtrations/6/RadialFiltration_38_38/blue/diagrams.npy\n",
      "Applying Scaler to persistence diagrams.\n",
      "Got the result from ./1/train/filtrations/6/RadialFiltration_38_38/blue/features.npy\n",
      "Applying filtration 68/72: RadialFiltration with c = (38, 51), bin. thr. = 0.6\n",
      "RGB images received. Transforming to grayscale.\n"
     ]
    },
    {
     "name": "stderr",
     "output_type": "stream",
     "text": [
      "rgb2gray: 100%|██████████| 26640/26640 [00:06<00:00, 4342.20it/s]\n"
     ]
    },
    {
     "name": "stdout",
     "output_type": "stream",
     "text": [
      "FiltrationExtractor: processing 1/train/filtrations/6/RadialFiltration_38_51/gray, do_fit = False, filtration = RadialFiltration(center=array([38, 51]), n_jobs=-1)\n",
      "Got the result from ./1/train/filtrations/6/RadialFiltration_38_51/gray/diagrams.npy\n",
      "Applying Scaler to persistence diagrams.\n",
      "Got the result from ./1/train/filtrations/6/RadialFiltration_38_51/gray/features.npy\n",
      "FiltrationExtractor: processing 1/train/filtrations/6/RadialFiltration_38_51/red, do_fit = False, filtration = RadialFiltration(center=array([38, 51]), n_jobs=-1)\n",
      "Got the result from ./1/train/filtrations/6/RadialFiltration_38_51/red/diagrams.npy\n",
      "Applying Scaler to persistence diagrams.\n",
      "Got the result from ./1/train/filtrations/6/RadialFiltration_38_51/red/features.npy\n",
      "FiltrationExtractor: processing 1/train/filtrations/6/RadialFiltration_38_51/green, do_fit = False, filtration = RadialFiltration(center=array([38, 51]), n_jobs=-1)\n",
      "Got the result from ./1/train/filtrations/6/RadialFiltration_38_51/green/diagrams.npy\n",
      "Applying Scaler to persistence diagrams.\n",
      "Got the result from ./1/train/filtrations/6/RadialFiltration_38_51/green/features.npy\n",
      "FiltrationExtractor: processing 1/train/filtrations/6/RadialFiltration_38_51/blue, do_fit = False, filtration = RadialFiltration(center=array([38, 51]), n_jobs=-1)\n",
      "Got the result from ./1/train/filtrations/6/RadialFiltration_38_51/blue/diagrams.npy\n",
      "Applying Scaler to persistence diagrams.\n",
      "Got the result from ./1/train/filtrations/6/RadialFiltration_38_51/blue/features.npy\n",
      "Applying filtration 69/72: RadialFiltration with c = (51, 12), bin. thr. = 0.6\n",
      "RGB images received. Transforming to grayscale.\n"
     ]
    },
    {
     "name": "stderr",
     "output_type": "stream",
     "text": [
      "rgb2gray: 100%|██████████| 26640/26640 [00:06<00:00, 4083.07it/s]\n"
     ]
    },
    {
     "name": "stdout",
     "output_type": "stream",
     "text": [
      "FiltrationExtractor: processing 1/train/filtrations/6/RadialFiltration_51_12/gray, do_fit = False, filtration = RadialFiltration(center=array([51, 12]), n_jobs=-1)\n",
      "Got the result from ./1/train/filtrations/6/RadialFiltration_51_12/gray/diagrams.npy\n",
      "Applying Scaler to persistence diagrams.\n",
      "Got the result from ./1/train/filtrations/6/RadialFiltration_51_12/gray/features.npy\n",
      "FiltrationExtractor: processing 1/train/filtrations/6/RadialFiltration_51_12/red, do_fit = False, filtration = RadialFiltration(center=array([51, 12]), n_jobs=-1)\n",
      "Got the result from ./1/train/filtrations/6/RadialFiltration_51_12/red/diagrams.npy\n",
      "Applying Scaler to persistence diagrams.\n",
      "Got the result from ./1/train/filtrations/6/RadialFiltration_51_12/red/features.npy\n",
      "FiltrationExtractor: processing 1/train/filtrations/6/RadialFiltration_51_12/green, do_fit = False, filtration = RadialFiltration(center=array([51, 12]), n_jobs=-1)\n",
      "Got the result from ./1/train/filtrations/6/RadialFiltration_51_12/green/diagrams.npy\n",
      "Applying Scaler to persistence diagrams.\n",
      "Got the result from ./1/train/filtrations/6/RadialFiltration_51_12/green/features.npy\n",
      "FiltrationExtractor: processing 1/train/filtrations/6/RadialFiltration_51_12/blue, do_fit = False, filtration = RadialFiltration(center=array([51, 12]), n_jobs=-1)\n",
      "Got the result from ./1/train/filtrations/6/RadialFiltration_51_12/blue/diagrams.npy\n",
      "Applying Scaler to persistence diagrams.\n",
      "Got the result from ./1/train/filtrations/6/RadialFiltration_51_12/blue/features.npy\n",
      "Applying filtration 70/72: RadialFiltration with c = (51, 25), bin. thr. = 0.6\n",
      "RGB images received. Transforming to grayscale.\n"
     ]
    },
    {
     "name": "stderr",
     "output_type": "stream",
     "text": [
      "rgb2gray: 100%|██████████| 26640/26640 [00:06<00:00, 4226.41it/s]\n"
     ]
    },
    {
     "name": "stdout",
     "output_type": "stream",
     "text": [
      "FiltrationExtractor: processing 1/train/filtrations/6/RadialFiltration_51_25/gray, do_fit = False, filtration = RadialFiltration(center=array([51, 25]), n_jobs=-1)\n",
      "Got the result from ./1/train/filtrations/6/RadialFiltration_51_25/gray/diagrams.npy\n",
      "Applying Scaler to persistence diagrams.\n",
      "Got the result from ./1/train/filtrations/6/RadialFiltration_51_25/gray/features.npy\n",
      "FiltrationExtractor: processing 1/train/filtrations/6/RadialFiltration_51_25/red, do_fit = False, filtration = RadialFiltration(center=array([51, 25]), n_jobs=-1)\n",
      "Got the result from ./1/train/filtrations/6/RadialFiltration_51_25/red/diagrams.npy\n",
      "Applying Scaler to persistence diagrams.\n",
      "Got the result from ./1/train/filtrations/6/RadialFiltration_51_25/red/features.npy\n",
      "FiltrationExtractor: processing 1/train/filtrations/6/RadialFiltration_51_25/green, do_fit = False, filtration = RadialFiltration(center=array([51, 25]), n_jobs=-1)\n",
      "Got the result from ./1/train/filtrations/6/RadialFiltration_51_25/green/diagrams.npy\n",
      "Applying Scaler to persistence diagrams.\n",
      "Got the result from ./1/train/filtrations/6/RadialFiltration_51_25/green/features.npy\n",
      "FiltrationExtractor: processing 1/train/filtrations/6/RadialFiltration_51_25/blue, do_fit = False, filtration = RadialFiltration(center=array([51, 25]), n_jobs=-1)\n",
      "Got the result from ./1/train/filtrations/6/RadialFiltration_51_25/blue/diagrams.npy\n",
      "Applying Scaler to persistence diagrams.\n",
      "Got the result from ./1/train/filtrations/6/RadialFiltration_51_25/blue/features.npy\n",
      "Applying filtration 71/72: RadialFiltration with c = (51, 38), bin. thr. = 0.6\n",
      "RGB images received. Transforming to grayscale.\n"
     ]
    },
    {
     "name": "stderr",
     "output_type": "stream",
     "text": [
      "rgb2gray: 100%|██████████| 26640/26640 [00:06<00:00, 4154.05it/s]\n"
     ]
    },
    {
     "name": "stdout",
     "output_type": "stream",
     "text": [
      "FiltrationExtractor: processing 1/train/filtrations/6/RadialFiltration_51_38/gray, do_fit = False, filtration = RadialFiltration(center=array([51, 38]), n_jobs=-1)\n",
      "Got the result from ./1/train/filtrations/6/RadialFiltration_51_38/gray/diagrams.npy\n",
      "Applying Scaler to persistence diagrams.\n",
      "Got the result from ./1/train/filtrations/6/RadialFiltration_51_38/gray/features.npy\n",
      "FiltrationExtractor: processing 1/train/filtrations/6/RadialFiltration_51_38/red, do_fit = False, filtration = RadialFiltration(center=array([51, 38]), n_jobs=-1)\n",
      "Got the result from ./1/train/filtrations/6/RadialFiltration_51_38/red/diagrams.npy\n",
      "Applying Scaler to persistence diagrams.\n",
      "Got the result from ./1/train/filtrations/6/RadialFiltration_51_38/red/features.npy\n",
      "FiltrationExtractor: processing 1/train/filtrations/6/RadialFiltration_51_38/green, do_fit = False, filtration = RadialFiltration(center=array([51, 38]), n_jobs=-1)\n",
      "Got the result from ./1/train/filtrations/6/RadialFiltration_51_38/green/diagrams.npy\n",
      "Applying Scaler to persistence diagrams.\n",
      "Got the result from ./1/train/filtrations/6/RadialFiltration_51_38/green/features.npy\n",
      "FiltrationExtractor: processing 1/train/filtrations/6/RadialFiltration_51_38/blue, do_fit = False, filtration = RadialFiltration(center=array([51, 38]), n_jobs=-1)\n",
      "Got the result from ./1/train/filtrations/6/RadialFiltration_51_38/blue/diagrams.npy\n",
      "Applying Scaler to persistence diagrams.\n",
      "Got the result from ./1/train/filtrations/6/RadialFiltration_51_38/blue/features.npy\n",
      "Applying filtration 72/72: RadialFiltration with c = (51, 51), bin. thr. = 0.6\n",
      "RGB images received. Transforming to grayscale.\n"
     ]
    },
    {
     "name": "stderr",
     "output_type": "stream",
     "text": [
      "rgb2gray: 100%|██████████| 26640/26640 [00:06<00:00, 4193.41it/s]\n"
     ]
    },
    {
     "name": "stdout",
     "output_type": "stream",
     "text": [
      "FiltrationExtractor: processing 1/train/filtrations/6/RadialFiltration_51_51/gray, do_fit = False, filtration = RadialFiltration(center=array([51, 51]), n_jobs=-1)\n",
      "Got the result from ./1/train/filtrations/6/RadialFiltration_51_51/gray/diagrams.npy\n",
      "Applying Scaler to persistence diagrams.\n",
      "Got the result from ./1/train/filtrations/6/RadialFiltration_51_51/gray/features.npy\n",
      "FiltrationExtractor: processing 1/train/filtrations/6/RadialFiltration_51_51/red, do_fit = False, filtration = RadialFiltration(center=array([51, 51]), n_jobs=-1)\n",
      "Got the result from ./1/train/filtrations/6/RadialFiltration_51_51/red/diagrams.npy\n",
      "Applying Scaler to persistence diagrams.\n",
      "Got the result from ./1/train/filtrations/6/RadialFiltration_51_51/red/features.npy\n",
      "FiltrationExtractor: processing 1/train/filtrations/6/RadialFiltration_51_51/green, do_fit = False, filtration = RadialFiltration(center=array([51, 51]), n_jobs=-1)\n",
      "Got the result from ./1/train/filtrations/6/RadialFiltration_51_51/green/diagrams.npy\n",
      "Applying Scaler to persistence diagrams.\n",
      "Got the result from ./1/train/filtrations/6/RadialFiltration_51_51/green/features.npy\n",
      "FiltrationExtractor: processing 1/train/filtrations/6/RadialFiltration_51_51/blue, do_fit = False, filtration = RadialFiltration(center=array([51, 51]), n_jobs=-1)\n",
      "Got the result from ./1/train/filtrations/6/RadialFiltration_51_51/blue/diagrams.npy\n",
      "Applying Scaler to persistence diagrams.\n",
      "Got the result from ./1/train/filtrations/6/RadialFiltration_51_51/blue/features.npy\n",
      "RGB images received. Transforming to grayscale.\n",
      "Got the result from ./1/train/geometry/rgb/features.npy\n"
     ]
    },
    {
     "name": "stderr",
     "output_type": "stream",
     "text": [
      "rgb2gray: 100%|██████████| 26640/26640 [00:06<00:00, 4143.09it/s]\n"
     ]
    },
    {
     "name": "stdout",
     "output_type": "stream",
     "text": [
      "Got the result from ./1/train/geometry/gray/features.npy\n",
      "Got the result from ./1/train/geometry/red/features.npy\n",
      "Got the result from ./1/train/geometry/green/features.npy\n",
      "Got the result from ./1/train/geometry/blue/features.npy\n",
      "Applying StandardScaler.\n",
      "Calculating inverted images\n",
      "RGB images received. Transforming to grayscale.\n"
     ]
    },
    {
     "name": "stderr",
     "output_type": "stream",
     "text": [
      "rgb2gray: 100%|██████████| 12630/12630 [00:02<00:00, 4642.51it/s]\n"
     ]
    },
    {
     "name": "stdout",
     "output_type": "stream",
     "text": [
      "GreyscaleExtractor: processing 1/test/greyscale/gray, do_fit = False\n",
      "Got the result from ./1/test/greyscale/gray/diagrams.npy\n",
      "Applying Scaler to persistence diagrams.\n",
      "Got the result from ./1/test/greyscale/gray/features.npy\n",
      "GreyscaleExtractor: processing 1/test/greyscale/red, do_fit = False\n",
      "Got the result from ./1/test/greyscale/red/diagrams.npy\n",
      "Applying Scaler to persistence diagrams.\n",
      "Got the result from ./1/test/greyscale/red/features.npy\n",
      "GreyscaleExtractor: processing 1/test/greyscale/green, do_fit = False\n",
      "Got the result from ./1/test/greyscale/green/diagrams.npy\n",
      "Applying Scaler to persistence diagrams.\n",
      "Got the result from ./1/test/greyscale/green/features.npy\n",
      "GreyscaleExtractor: processing 1/test/greyscale/blue, do_fit = False\n",
      "Got the result from ./1/test/greyscale/blue/diagrams.npy\n",
      "Applying Scaler to persistence diagrams.\n",
      "Got the result from ./1/test/greyscale/blue/features.npy\n",
      "RGB images received. Transforming to grayscale.\n"
     ]
    },
    {
     "name": "stderr",
     "output_type": "stream",
     "text": [
      "rgb2gray: 100%|██████████| 12630/12630 [00:02<00:00, 4616.75it/s]\n"
     ]
    },
    {
     "name": "stdout",
     "output_type": "stream",
     "text": [
      "GreyscaleExtractor: processing 1/test/inverted_greyscale/gray, do_fit = False\n",
      "Got the result from ./1/test/inverted_greyscale/gray/diagrams.npy\n",
      "Applying Scaler to persistence diagrams.\n",
      "Got the result from ./1/test/inverted_greyscale/gray/features.npy\n",
      "GreyscaleExtractor: processing 1/test/inverted_greyscale/red, do_fit = False\n",
      "Got the result from ./1/test/inverted_greyscale/red/diagrams.npy\n",
      "Applying Scaler to persistence diagrams.\n",
      "Got the result from ./1/test/inverted_greyscale/red/features.npy\n",
      "GreyscaleExtractor: processing 1/test/inverted_greyscale/green, do_fit = False\n",
      "Got the result from ./1/test/inverted_greyscale/green/diagrams.npy\n",
      "Applying Scaler to persistence diagrams.\n",
      "Got the result from ./1/test/inverted_greyscale/green/features.npy\n",
      "GreyscaleExtractor: processing 1/test/inverted_greyscale/blue, do_fit = False\n",
      "Got the result from ./1/test/inverted_greyscale/blue/diagrams.npy\n",
      "Applying Scaler to persistence diagrams.\n",
      "Got the result from ./1/test/inverted_greyscale/blue/features.npy\n",
      "Applying filtrations\n",
      "Applying filtration 1/72: HeightFiltration with d = (-1, -1), bin. thr. = 0.2\n",
      "RGB images received. Transforming to grayscale.\n"
     ]
    },
    {
     "name": "stderr",
     "output_type": "stream",
     "text": [
      "rgb2gray: 100%|██████████| 12630/12630 [00:02<00:00, 4615.38it/s]\n"
     ]
    },
    {
     "name": "stdout",
     "output_type": "stream",
     "text": [
      "FiltrationExtractor: processing 1/test/filtrations/2/HeightFiltrartion_-1_-1/gray, do_fit = False, filtration = HeightFiltration(direction=array([-1, -1]), n_jobs=-1)\n",
      "Got the result from ./1/test/filtrations/2/HeightFiltrartion_-1_-1/gray/diagrams.npy\n",
      "Applying Scaler to persistence diagrams.\n",
      "Got the result from ./1/test/filtrations/2/HeightFiltrartion_-1_-1/gray/features.npy\n",
      "FiltrationExtractor: processing 1/test/filtrations/2/HeightFiltrartion_-1_-1/red, do_fit = False, filtration = HeightFiltration(direction=array([-1, -1]), n_jobs=-1)\n",
      "Got the result from ./1/test/filtrations/2/HeightFiltrartion_-1_-1/red/diagrams.npy\n",
      "Applying Scaler to persistence diagrams.\n",
      "Got the result from ./1/test/filtrations/2/HeightFiltrartion_-1_-1/red/features.npy\n",
      "FiltrationExtractor: processing 1/test/filtrations/2/HeightFiltrartion_-1_-1/green, do_fit = False, filtration = HeightFiltration(direction=array([-1, -1]), n_jobs=-1)\n",
      "Got the result from ./1/test/filtrations/2/HeightFiltrartion_-1_-1/green/diagrams.npy\n",
      "Applying Scaler to persistence diagrams.\n",
      "Got the result from ./1/test/filtrations/2/HeightFiltrartion_-1_-1/green/features.npy\n",
      "FiltrationExtractor: processing 1/test/filtrations/2/HeightFiltrartion_-1_-1/blue, do_fit = False, filtration = HeightFiltration(direction=array([-1, -1]), n_jobs=-1)\n",
      "Got the result from ./1/test/filtrations/2/HeightFiltrartion_-1_-1/blue/diagrams.npy\n",
      "Applying Scaler to persistence diagrams.\n",
      "Got the result from ./1/test/filtrations/2/HeightFiltrartion_-1_-1/blue/features.npy\n",
      "Applying filtration 2/72: HeightFiltration with d = (-1, 0), bin. thr. = 0.2\n",
      "RGB images received. Transforming to grayscale.\n"
     ]
    },
    {
     "name": "stderr",
     "output_type": "stream",
     "text": [
      "rgb2gray: 100%|██████████| 12630/12630 [00:03<00:00, 3720.18it/s]\n"
     ]
    },
    {
     "name": "stdout",
     "output_type": "stream",
     "text": [
      "FiltrationExtractor: processing 1/test/filtrations/2/HeightFiltrartion_-1_0/gray, do_fit = False, filtration = HeightFiltration(direction=array([-1,  0]), n_jobs=-1)\n",
      "Got the result from ./1/test/filtrations/2/HeightFiltrartion_-1_0/gray/diagrams.npy\n",
      "Applying Scaler to persistence diagrams.\n",
      "Got the result from ./1/test/filtrations/2/HeightFiltrartion_-1_0/gray/features.npy\n",
      "FiltrationExtractor: processing 1/test/filtrations/2/HeightFiltrartion_-1_0/red, do_fit = False, filtration = HeightFiltration(direction=array([-1,  0]), n_jobs=-1)\n",
      "Got the result from ./1/test/filtrations/2/HeightFiltrartion_-1_0/red/diagrams.npy\n",
      "Applying Scaler to persistence diagrams.\n",
      "Got the result from ./1/test/filtrations/2/HeightFiltrartion_-1_0/red/features.npy\n",
      "FiltrationExtractor: processing 1/test/filtrations/2/HeightFiltrartion_-1_0/green, do_fit = False, filtration = HeightFiltration(direction=array([-1,  0]), n_jobs=-1)\n",
      "Got the result from ./1/test/filtrations/2/HeightFiltrartion_-1_0/green/diagrams.npy\n",
      "Applying Scaler to persistence diagrams.\n",
      "Got the result from ./1/test/filtrations/2/HeightFiltrartion_-1_0/green/features.npy\n",
      "FiltrationExtractor: processing 1/test/filtrations/2/HeightFiltrartion_-1_0/blue, do_fit = False, filtration = HeightFiltration(direction=array([-1,  0]), n_jobs=-1)\n",
      "Got the result from ./1/test/filtrations/2/HeightFiltrartion_-1_0/blue/diagrams.npy\n",
      "Applying Scaler to persistence diagrams.\n",
      "Got the result from ./1/test/filtrations/2/HeightFiltrartion_-1_0/blue/features.npy\n",
      "Applying filtration 3/72: HeightFiltration with d = (-1, 1), bin. thr. = 0.2\n",
      "RGB images received. Transforming to grayscale.\n"
     ]
    },
    {
     "name": "stderr",
     "output_type": "stream",
     "text": [
      "rgb2gray: 100%|██████████| 12630/12630 [00:02<00:00, 4651.75it/s]\n"
     ]
    },
    {
     "name": "stdout",
     "output_type": "stream",
     "text": [
      "FiltrationExtractor: processing 1/test/filtrations/2/HeightFiltrartion_-1_1/gray, do_fit = False, filtration = HeightFiltration(direction=array([-1,  1]), n_jobs=-1)\n",
      "Got the result from ./1/test/filtrations/2/HeightFiltrartion_-1_1/gray/diagrams.npy\n",
      "Applying Scaler to persistence diagrams.\n",
      "Got the result from ./1/test/filtrations/2/HeightFiltrartion_-1_1/gray/features.npy\n",
      "FiltrationExtractor: processing 1/test/filtrations/2/HeightFiltrartion_-1_1/red, do_fit = False, filtration = HeightFiltration(direction=array([-1,  1]), n_jobs=-1)\n",
      "Got the result from ./1/test/filtrations/2/HeightFiltrartion_-1_1/red/diagrams.npy\n",
      "Applying Scaler to persistence diagrams.\n",
      "Got the result from ./1/test/filtrations/2/HeightFiltrartion_-1_1/red/features.npy\n",
      "FiltrationExtractor: processing 1/test/filtrations/2/HeightFiltrartion_-1_1/green, do_fit = False, filtration = HeightFiltration(direction=array([-1,  1]), n_jobs=-1)\n",
      "Got the result from ./1/test/filtrations/2/HeightFiltrartion_-1_1/green/diagrams.npy\n",
      "Applying Scaler to persistence diagrams.\n",
      "Got the result from ./1/test/filtrations/2/HeightFiltrartion_-1_1/green/features.npy\n",
      "FiltrationExtractor: processing 1/test/filtrations/2/HeightFiltrartion_-1_1/blue, do_fit = False, filtration = HeightFiltration(direction=array([-1,  1]), n_jobs=-1)\n",
      "Got the result from ./1/test/filtrations/2/HeightFiltrartion_-1_1/blue/diagrams.npy\n",
      "Applying Scaler to persistence diagrams.\n",
      "Got the result from ./1/test/filtrations/2/HeightFiltrartion_-1_1/blue/features.npy\n",
      "Applying filtration 4/72: HeightFiltration with d = (0, -1), bin. thr. = 0.2\n",
      "RGB images received. Transforming to grayscale.\n"
     ]
    },
    {
     "name": "stderr",
     "output_type": "stream",
     "text": [
      "rgb2gray: 100%|██████████| 12630/12630 [00:02<00:00, 4601.09it/s]\n"
     ]
    },
    {
     "name": "stdout",
     "output_type": "stream",
     "text": [
      "FiltrationExtractor: processing 1/test/filtrations/2/HeightFiltrartion_0_-1/gray, do_fit = False, filtration = HeightFiltration(direction=array([ 0, -1]), n_jobs=-1)\n",
      "Got the result from ./1/test/filtrations/2/HeightFiltrartion_0_-1/gray/diagrams.npy\n",
      "Applying Scaler to persistence diagrams.\n",
      "Got the result from ./1/test/filtrations/2/HeightFiltrartion_0_-1/gray/features.npy\n",
      "FiltrationExtractor: processing 1/test/filtrations/2/HeightFiltrartion_0_-1/red, do_fit = False, filtration = HeightFiltration(direction=array([ 0, -1]), n_jobs=-1)\n",
      "Got the result from ./1/test/filtrations/2/HeightFiltrartion_0_-1/red/diagrams.npy\n",
      "Applying Scaler to persistence diagrams.\n",
      "Got the result from ./1/test/filtrations/2/HeightFiltrartion_0_-1/red/features.npy\n",
      "FiltrationExtractor: processing 1/test/filtrations/2/HeightFiltrartion_0_-1/green, do_fit = False, filtration = HeightFiltration(direction=array([ 0, -1]), n_jobs=-1)\n",
      "Got the result from ./1/test/filtrations/2/HeightFiltrartion_0_-1/green/diagrams.npy\n",
      "Applying Scaler to persistence diagrams.\n",
      "Got the result from ./1/test/filtrations/2/HeightFiltrartion_0_-1/green/features.npy\n",
      "FiltrationExtractor: processing 1/test/filtrations/2/HeightFiltrartion_0_-1/blue, do_fit = False, filtration = HeightFiltration(direction=array([ 0, -1]), n_jobs=-1)\n",
      "Got the result from ./1/test/filtrations/2/HeightFiltrartion_0_-1/blue/diagrams.npy\n",
      "Applying Scaler to persistence diagrams.\n",
      "Got the result from ./1/test/filtrations/2/HeightFiltrartion_0_-1/blue/features.npy\n",
      "Applying filtration 5/72: HeightFiltration with d = (0, 1), bin. thr. = 0.2\n",
      "RGB images received. Transforming to grayscale.\n"
     ]
    },
    {
     "name": "stderr",
     "output_type": "stream",
     "text": [
      "rgb2gray: 100%|██████████| 12630/12630 [00:02<00:00, 4658.80it/s]\n"
     ]
    },
    {
     "name": "stdout",
     "output_type": "stream",
     "text": [
      "FiltrationExtractor: processing 1/test/filtrations/2/HeightFiltrartion_0_1/gray, do_fit = False, filtration = HeightFiltration(direction=array([0, 1]), n_jobs=-1)\n",
      "Got the result from ./1/test/filtrations/2/HeightFiltrartion_0_1/gray/diagrams.npy\n",
      "Applying Scaler to persistence diagrams.\n",
      "Got the result from ./1/test/filtrations/2/HeightFiltrartion_0_1/gray/features.npy\n",
      "FiltrationExtractor: processing 1/test/filtrations/2/HeightFiltrartion_0_1/red, do_fit = False, filtration = HeightFiltration(direction=array([0, 1]), n_jobs=-1)\n",
      "Got the result from ./1/test/filtrations/2/HeightFiltrartion_0_1/red/diagrams.npy\n",
      "Applying Scaler to persistence diagrams.\n",
      "Got the result from ./1/test/filtrations/2/HeightFiltrartion_0_1/red/features.npy\n",
      "FiltrationExtractor: processing 1/test/filtrations/2/HeightFiltrartion_0_1/green, do_fit = False, filtration = HeightFiltration(direction=array([0, 1]), n_jobs=-1)\n",
      "Got the result from ./1/test/filtrations/2/HeightFiltrartion_0_1/green/diagrams.npy\n",
      "Applying Scaler to persistence diagrams.\n",
      "Got the result from ./1/test/filtrations/2/HeightFiltrartion_0_1/green/features.npy\n",
      "FiltrationExtractor: processing 1/test/filtrations/2/HeightFiltrartion_0_1/blue, do_fit = False, filtration = HeightFiltration(direction=array([0, 1]), n_jobs=-1)\n",
      "Got the result from ./1/test/filtrations/2/HeightFiltrartion_0_1/blue/diagrams.npy\n",
      "Applying Scaler to persistence diagrams.\n",
      "Got the result from ./1/test/filtrations/2/HeightFiltrartion_0_1/blue/features.npy\n",
      "Applying filtration 6/72: HeightFiltration with d = (1, -1), bin. thr. = 0.2\n",
      "RGB images received. Transforming to grayscale.\n"
     ]
    },
    {
     "name": "stderr",
     "output_type": "stream",
     "text": [
      "rgb2gray: 100%|██████████| 12630/12630 [00:02<00:00, 4492.11it/s]\n"
     ]
    },
    {
     "name": "stdout",
     "output_type": "stream",
     "text": [
      "FiltrationExtractor: processing 1/test/filtrations/2/HeightFiltrartion_1_-1/gray, do_fit = False, filtration = HeightFiltration(direction=array([ 1, -1]), n_jobs=-1)\n",
      "Got the result from ./1/test/filtrations/2/HeightFiltrartion_1_-1/gray/diagrams.npy\n",
      "Applying Scaler to persistence diagrams.\n",
      "Got the result from ./1/test/filtrations/2/HeightFiltrartion_1_-1/gray/features.npy\n",
      "FiltrationExtractor: processing 1/test/filtrations/2/HeightFiltrartion_1_-1/red, do_fit = False, filtration = HeightFiltration(direction=array([ 1, -1]), n_jobs=-1)\n",
      "Got the result from ./1/test/filtrations/2/HeightFiltrartion_1_-1/red/diagrams.npy\n",
      "Applying Scaler to persistence diagrams.\n",
      "Got the result from ./1/test/filtrations/2/HeightFiltrartion_1_-1/red/features.npy\n",
      "FiltrationExtractor: processing 1/test/filtrations/2/HeightFiltrartion_1_-1/green, do_fit = False, filtration = HeightFiltration(direction=array([ 1, -1]), n_jobs=-1)\n",
      "Got the result from ./1/test/filtrations/2/HeightFiltrartion_1_-1/green/diagrams.npy\n",
      "Applying Scaler to persistence diagrams.\n",
      "Got the result from ./1/test/filtrations/2/HeightFiltrartion_1_-1/green/features.npy\n",
      "FiltrationExtractor: processing 1/test/filtrations/2/HeightFiltrartion_1_-1/blue, do_fit = False, filtration = HeightFiltration(direction=array([ 1, -1]), n_jobs=-1)\n",
      "Got the result from ./1/test/filtrations/2/HeightFiltrartion_1_-1/blue/diagrams.npy\n",
      "Applying Scaler to persistence diagrams.\n",
      "Got the result from ./1/test/filtrations/2/HeightFiltrartion_1_-1/blue/features.npy\n",
      "Applying filtration 7/72: HeightFiltration with d = (1, 0), bin. thr. = 0.2\n",
      "RGB images received. Transforming to grayscale.\n"
     ]
    },
    {
     "name": "stderr",
     "output_type": "stream",
     "text": [
      "rgb2gray: 100%|██████████| 12630/12630 [00:02<00:00, 4651.93it/s]\n"
     ]
    },
    {
     "name": "stdout",
     "output_type": "stream",
     "text": [
      "FiltrationExtractor: processing 1/test/filtrations/2/HeightFiltrartion_1_0/gray, do_fit = False, filtration = HeightFiltration(direction=array([1, 0]), n_jobs=-1)\n",
      "Got the result from ./1/test/filtrations/2/HeightFiltrartion_1_0/gray/diagrams.npy\n",
      "Applying Scaler to persistence diagrams.\n",
      "Got the result from ./1/test/filtrations/2/HeightFiltrartion_1_0/gray/features.npy\n",
      "FiltrationExtractor: processing 1/test/filtrations/2/HeightFiltrartion_1_0/red, do_fit = False, filtration = HeightFiltration(direction=array([1, 0]), n_jobs=-1)\n",
      "Got the result from ./1/test/filtrations/2/HeightFiltrartion_1_0/red/diagrams.npy\n",
      "Applying Scaler to persistence diagrams.\n",
      "Got the result from ./1/test/filtrations/2/HeightFiltrartion_1_0/red/features.npy\n",
      "FiltrationExtractor: processing 1/test/filtrations/2/HeightFiltrartion_1_0/green, do_fit = False, filtration = HeightFiltration(direction=array([1, 0]), n_jobs=-1)\n",
      "Got the result from ./1/test/filtrations/2/HeightFiltrartion_1_0/green/diagrams.npy\n",
      "Applying Scaler to persistence diagrams.\n",
      "Got the result from ./1/test/filtrations/2/HeightFiltrartion_1_0/green/features.npy\n",
      "FiltrationExtractor: processing 1/test/filtrations/2/HeightFiltrartion_1_0/blue, do_fit = False, filtration = HeightFiltration(direction=array([1, 0]), n_jobs=-1)\n",
      "Got the result from ./1/test/filtrations/2/HeightFiltrartion_1_0/blue/diagrams.npy\n",
      "Applying Scaler to persistence diagrams.\n",
      "Got the result from ./1/test/filtrations/2/HeightFiltrartion_1_0/blue/features.npy\n",
      "Applying filtration 8/72: HeightFiltration with d = (1, 1), bin. thr. = 0.2\n",
      "RGB images received. Transforming to grayscale.\n"
     ]
    },
    {
     "name": "stderr",
     "output_type": "stream",
     "text": [
      "rgb2gray: 100%|██████████| 12630/12630 [00:02<00:00, 4649.54it/s]\n"
     ]
    },
    {
     "name": "stdout",
     "output_type": "stream",
     "text": [
      "FiltrationExtractor: processing 1/test/filtrations/2/HeightFiltrartion_1_1/gray, do_fit = False, filtration = HeightFiltration(direction=array([1, 1]), n_jobs=-1)\n",
      "Got the result from ./1/test/filtrations/2/HeightFiltrartion_1_1/gray/diagrams.npy\n",
      "Applying Scaler to persistence diagrams.\n",
      "Got the result from ./1/test/filtrations/2/HeightFiltrartion_1_1/gray/features.npy\n",
      "FiltrationExtractor: processing 1/test/filtrations/2/HeightFiltrartion_1_1/red, do_fit = False, filtration = HeightFiltration(direction=array([1, 1]), n_jobs=-1)\n",
      "Got the result from ./1/test/filtrations/2/HeightFiltrartion_1_1/red/diagrams.npy\n",
      "Applying Scaler to persistence diagrams.\n",
      "Got the result from ./1/test/filtrations/2/HeightFiltrartion_1_1/red/features.npy\n",
      "FiltrationExtractor: processing 1/test/filtrations/2/HeightFiltrartion_1_1/green, do_fit = False, filtration = HeightFiltration(direction=array([1, 1]), n_jobs=-1)\n",
      "Got the result from ./1/test/filtrations/2/HeightFiltrartion_1_1/green/diagrams.npy\n",
      "Applying Scaler to persistence diagrams.\n",
      "Got the result from ./1/test/filtrations/2/HeightFiltrartion_1_1/green/features.npy\n",
      "FiltrationExtractor: processing 1/test/filtrations/2/HeightFiltrartion_1_1/blue, do_fit = False, filtration = HeightFiltration(direction=array([1, 1]), n_jobs=-1)\n",
      "Got the result from ./1/test/filtrations/2/HeightFiltrartion_1_1/blue/diagrams.npy\n",
      "Applying Scaler to persistence diagrams.\n",
      "Got the result from ./1/test/filtrations/2/HeightFiltrartion_1_1/blue/features.npy\n",
      "Applying filtration 9/72: RadialFiltration with c = (12, 12), bin. thr. = 0.2\n",
      "RGB images received. Transforming to grayscale.\n"
     ]
    },
    {
     "name": "stderr",
     "output_type": "stream",
     "text": [
      "rgb2gray: 100%|██████████| 12630/12630 [00:02<00:00, 4496.59it/s]\n"
     ]
    },
    {
     "name": "stdout",
     "output_type": "stream",
     "text": [
      "FiltrationExtractor: processing 1/test/filtrations/2/RadialFiltration_12_12/gray, do_fit = False, filtration = RadialFiltration(center=array([12, 12]), n_jobs=-1)\n",
      "Got the result from ./1/test/filtrations/2/RadialFiltration_12_12/gray/diagrams.npy\n",
      "Applying Scaler to persistence diagrams.\n",
      "Got the result from ./1/test/filtrations/2/RadialFiltration_12_12/gray/features.npy\n",
      "FiltrationExtractor: processing 1/test/filtrations/2/RadialFiltration_12_12/red, do_fit = False, filtration = RadialFiltration(center=array([12, 12]), n_jobs=-1)\n",
      "Got the result from ./1/test/filtrations/2/RadialFiltration_12_12/red/diagrams.npy\n",
      "Applying Scaler to persistence diagrams.\n",
      "Got the result from ./1/test/filtrations/2/RadialFiltration_12_12/red/features.npy\n",
      "FiltrationExtractor: processing 1/test/filtrations/2/RadialFiltration_12_12/green, do_fit = False, filtration = RadialFiltration(center=array([12, 12]), n_jobs=-1)\n",
      "Got the result from ./1/test/filtrations/2/RadialFiltration_12_12/green/diagrams.npy\n",
      "Applying Scaler to persistence diagrams.\n",
      "Got the result from ./1/test/filtrations/2/RadialFiltration_12_12/green/features.npy\n",
      "FiltrationExtractor: processing 1/test/filtrations/2/RadialFiltration_12_12/blue, do_fit = False, filtration = RadialFiltration(center=array([12, 12]), n_jobs=-1)\n",
      "Got the result from ./1/test/filtrations/2/RadialFiltration_12_12/blue/diagrams.npy\n",
      "Applying Scaler to persistence diagrams.\n",
      "Got the result from ./1/test/filtrations/2/RadialFiltration_12_12/blue/features.npy\n",
      "Applying filtration 10/72: RadialFiltration with c = (12, 25), bin. thr. = 0.2\n",
      "RGB images received. Transforming to grayscale.\n"
     ]
    },
    {
     "name": "stderr",
     "output_type": "stream",
     "text": [
      "rgb2gray: 100%|██████████| 12630/12630 [00:02<00:00, 4638.27it/s]\n"
     ]
    },
    {
     "name": "stdout",
     "output_type": "stream",
     "text": [
      "FiltrationExtractor: processing 1/test/filtrations/2/RadialFiltration_12_25/gray, do_fit = False, filtration = RadialFiltration(center=array([12, 25]), n_jobs=-1)\n",
      "Got the result from ./1/test/filtrations/2/RadialFiltration_12_25/gray/diagrams.npy\n",
      "Applying Scaler to persistence diagrams.\n",
      "Got the result from ./1/test/filtrations/2/RadialFiltration_12_25/gray/features.npy\n",
      "FiltrationExtractor: processing 1/test/filtrations/2/RadialFiltration_12_25/red, do_fit = False, filtration = RadialFiltration(center=array([12, 25]), n_jobs=-1)\n",
      "Got the result from ./1/test/filtrations/2/RadialFiltration_12_25/red/diagrams.npy\n",
      "Applying Scaler to persistence diagrams.\n",
      "Got the result from ./1/test/filtrations/2/RadialFiltration_12_25/red/features.npy\n",
      "FiltrationExtractor: processing 1/test/filtrations/2/RadialFiltration_12_25/green, do_fit = False, filtration = RadialFiltration(center=array([12, 25]), n_jobs=-1)\n",
      "Got the result from ./1/test/filtrations/2/RadialFiltration_12_25/green/diagrams.npy\n",
      "Applying Scaler to persistence diagrams.\n",
      "Got the result from ./1/test/filtrations/2/RadialFiltration_12_25/green/features.npy\n",
      "FiltrationExtractor: processing 1/test/filtrations/2/RadialFiltration_12_25/blue, do_fit = False, filtration = RadialFiltration(center=array([12, 25]), n_jobs=-1)\n",
      "Got the result from ./1/test/filtrations/2/RadialFiltration_12_25/blue/diagrams.npy\n",
      "Applying Scaler to persistence diagrams.\n",
      "Got the result from ./1/test/filtrations/2/RadialFiltration_12_25/blue/features.npy\n",
      "Applying filtration 11/72: RadialFiltration with c = (12, 38), bin. thr. = 0.2\n",
      "RGB images received. Transforming to grayscale.\n"
     ]
    },
    {
     "name": "stderr",
     "output_type": "stream",
     "text": [
      "rgb2gray: 100%|██████████| 12630/12630 [00:02<00:00, 4645.08it/s]\n"
     ]
    },
    {
     "name": "stdout",
     "output_type": "stream",
     "text": [
      "FiltrationExtractor: processing 1/test/filtrations/2/RadialFiltration_12_38/gray, do_fit = False, filtration = RadialFiltration(center=array([12, 38]), n_jobs=-1)\n",
      "Got the result from ./1/test/filtrations/2/RadialFiltration_12_38/gray/diagrams.npy\n",
      "Applying Scaler to persistence diagrams.\n",
      "Got the result from ./1/test/filtrations/2/RadialFiltration_12_38/gray/features.npy\n",
      "FiltrationExtractor: processing 1/test/filtrations/2/RadialFiltration_12_38/red, do_fit = False, filtration = RadialFiltration(center=array([12, 38]), n_jobs=-1)\n",
      "Got the result from ./1/test/filtrations/2/RadialFiltration_12_38/red/diagrams.npy\n",
      "Applying Scaler to persistence diagrams.\n",
      "Got the result from ./1/test/filtrations/2/RadialFiltration_12_38/red/features.npy\n",
      "FiltrationExtractor: processing 1/test/filtrations/2/RadialFiltration_12_38/green, do_fit = False, filtration = RadialFiltration(center=array([12, 38]), n_jobs=-1)\n",
      "Got the result from ./1/test/filtrations/2/RadialFiltration_12_38/green/diagrams.npy\n",
      "Applying Scaler to persistence diagrams.\n",
      "Got the result from ./1/test/filtrations/2/RadialFiltration_12_38/green/features.npy\n",
      "FiltrationExtractor: processing 1/test/filtrations/2/RadialFiltration_12_38/blue, do_fit = False, filtration = RadialFiltration(center=array([12, 38]), n_jobs=-1)\n",
      "Got the result from ./1/test/filtrations/2/RadialFiltration_12_38/blue/diagrams.npy\n",
      "Applying Scaler to persistence diagrams.\n",
      "Got the result from ./1/test/filtrations/2/RadialFiltration_12_38/blue/features.npy\n",
      "Applying filtration 12/72: RadialFiltration with c = (12, 51), bin. thr. = 0.2\n",
      "RGB images received. Transforming to grayscale.\n"
     ]
    },
    {
     "name": "stderr",
     "output_type": "stream",
     "text": [
      "rgb2gray: 100%|██████████| 12630/12630 [00:02<00:00, 4633.88it/s]\n"
     ]
    },
    {
     "name": "stdout",
     "output_type": "stream",
     "text": [
      "FiltrationExtractor: processing 1/test/filtrations/2/RadialFiltration_12_51/gray, do_fit = False, filtration = RadialFiltration(center=array([12, 51]), n_jobs=-1)\n",
      "Got the result from ./1/test/filtrations/2/RadialFiltration_12_51/gray/diagrams.npy\n",
      "Applying Scaler to persistence diagrams.\n",
      "Got the result from ./1/test/filtrations/2/RadialFiltration_12_51/gray/features.npy\n",
      "FiltrationExtractor: processing 1/test/filtrations/2/RadialFiltration_12_51/red, do_fit = False, filtration = RadialFiltration(center=array([12, 51]), n_jobs=-1)\n",
      "Got the result from ./1/test/filtrations/2/RadialFiltration_12_51/red/diagrams.npy\n",
      "Applying Scaler to persistence diagrams.\n",
      "Got the result from ./1/test/filtrations/2/RadialFiltration_12_51/red/features.npy\n",
      "FiltrationExtractor: processing 1/test/filtrations/2/RadialFiltration_12_51/green, do_fit = False, filtration = RadialFiltration(center=array([12, 51]), n_jobs=-1)\n",
      "Got the result from ./1/test/filtrations/2/RadialFiltration_12_51/green/diagrams.npy\n",
      "Applying Scaler to persistence diagrams.\n",
      "Got the result from ./1/test/filtrations/2/RadialFiltration_12_51/green/features.npy\n",
      "FiltrationExtractor: processing 1/test/filtrations/2/RadialFiltration_12_51/blue, do_fit = False, filtration = RadialFiltration(center=array([12, 51]), n_jobs=-1)\n",
      "Got the result from ./1/test/filtrations/2/RadialFiltration_12_51/blue/diagrams.npy\n",
      "Applying Scaler to persistence diagrams.\n",
      "Got the result from ./1/test/filtrations/2/RadialFiltration_12_51/blue/features.npy\n",
      "Applying filtration 13/72: RadialFiltration with c = (25, 12), bin. thr. = 0.2\n",
      "RGB images received. Transforming to grayscale.\n"
     ]
    },
    {
     "name": "stderr",
     "output_type": "stream",
     "text": [
      "rgb2gray: 100%|██████████| 12630/12630 [00:02<00:00, 4433.90it/s]\n"
     ]
    },
    {
     "name": "stdout",
     "output_type": "stream",
     "text": [
      "FiltrationExtractor: processing 1/test/filtrations/2/RadialFiltration_25_12/gray, do_fit = False, filtration = RadialFiltration(center=array([25, 12]), n_jobs=-1)\n",
      "Got the result from ./1/test/filtrations/2/RadialFiltration_25_12/gray/diagrams.npy\n",
      "Applying Scaler to persistence diagrams.\n",
      "Got the result from ./1/test/filtrations/2/RadialFiltration_25_12/gray/features.npy\n",
      "FiltrationExtractor: processing 1/test/filtrations/2/RadialFiltration_25_12/red, do_fit = False, filtration = RadialFiltration(center=array([25, 12]), n_jobs=-1)\n",
      "Got the result from ./1/test/filtrations/2/RadialFiltration_25_12/red/diagrams.npy\n",
      "Applying Scaler to persistence diagrams.\n",
      "Got the result from ./1/test/filtrations/2/RadialFiltration_25_12/red/features.npy\n",
      "FiltrationExtractor: processing 1/test/filtrations/2/RadialFiltration_25_12/green, do_fit = False, filtration = RadialFiltration(center=array([25, 12]), n_jobs=-1)\n",
      "Got the result from ./1/test/filtrations/2/RadialFiltration_25_12/green/diagrams.npy\n",
      "Applying Scaler to persistence diagrams.\n",
      "Got the result from ./1/test/filtrations/2/RadialFiltration_25_12/green/features.npy\n",
      "FiltrationExtractor: processing 1/test/filtrations/2/RadialFiltration_25_12/blue, do_fit = False, filtration = RadialFiltration(center=array([25, 12]), n_jobs=-1)\n",
      "Got the result from ./1/test/filtrations/2/RadialFiltration_25_12/blue/diagrams.npy\n",
      "Applying Scaler to persistence diagrams.\n",
      "Got the result from ./1/test/filtrations/2/RadialFiltration_25_12/blue/features.npy\n",
      "Applying filtration 14/72: RadialFiltration with c = (25, 25), bin. thr. = 0.2\n",
      "RGB images received. Transforming to grayscale.\n"
     ]
    },
    {
     "name": "stderr",
     "output_type": "stream",
     "text": [
      "rgb2gray: 100%|██████████| 12630/12630 [00:02<00:00, 4682.67it/s]\n"
     ]
    },
    {
     "name": "stdout",
     "output_type": "stream",
     "text": [
      "FiltrationExtractor: processing 1/test/filtrations/2/RadialFiltration_25_25/gray, do_fit = False, filtration = RadialFiltration(center=array([25, 25]), n_jobs=-1)\n",
      "Got the result from ./1/test/filtrations/2/RadialFiltration_25_25/gray/diagrams.npy\n",
      "Applying Scaler to persistence diagrams.\n",
      "Got the result from ./1/test/filtrations/2/RadialFiltration_25_25/gray/features.npy\n",
      "FiltrationExtractor: processing 1/test/filtrations/2/RadialFiltration_25_25/red, do_fit = False, filtration = RadialFiltration(center=array([25, 25]), n_jobs=-1)\n",
      "Got the result from ./1/test/filtrations/2/RadialFiltration_25_25/red/diagrams.npy\n",
      "Applying Scaler to persistence diagrams.\n",
      "Got the result from ./1/test/filtrations/2/RadialFiltration_25_25/red/features.npy\n",
      "FiltrationExtractor: processing 1/test/filtrations/2/RadialFiltration_25_25/green, do_fit = False, filtration = RadialFiltration(center=array([25, 25]), n_jobs=-1)\n",
      "Got the result from ./1/test/filtrations/2/RadialFiltration_25_25/green/diagrams.npy\n",
      "Applying Scaler to persistence diagrams.\n",
      "Got the result from ./1/test/filtrations/2/RadialFiltration_25_25/green/features.npy\n",
      "FiltrationExtractor: processing 1/test/filtrations/2/RadialFiltration_25_25/blue, do_fit = False, filtration = RadialFiltration(center=array([25, 25]), n_jobs=-1)\n",
      "Got the result from ./1/test/filtrations/2/RadialFiltration_25_25/blue/diagrams.npy\n",
      "Applying Scaler to persistence diagrams.\n",
      "Got the result from ./1/test/filtrations/2/RadialFiltration_25_25/blue/features.npy\n",
      "Applying filtration 15/72: RadialFiltration with c = (25, 38), bin. thr. = 0.2\n",
      "RGB images received. Transforming to grayscale.\n"
     ]
    },
    {
     "name": "stderr",
     "output_type": "stream",
     "text": [
      "rgb2gray: 100%|██████████| 12630/12630 [00:02<00:00, 4669.12it/s]\n"
     ]
    },
    {
     "name": "stdout",
     "output_type": "stream",
     "text": [
      "FiltrationExtractor: processing 1/test/filtrations/2/RadialFiltration_25_38/gray, do_fit = False, filtration = RadialFiltration(center=array([25, 38]), n_jobs=-1)\n",
      "Got the result from ./1/test/filtrations/2/RadialFiltration_25_38/gray/diagrams.npy\n",
      "Applying Scaler to persistence diagrams.\n",
      "Got the result from ./1/test/filtrations/2/RadialFiltration_25_38/gray/features.npy\n",
      "FiltrationExtractor: processing 1/test/filtrations/2/RadialFiltration_25_38/red, do_fit = False, filtration = RadialFiltration(center=array([25, 38]), n_jobs=-1)\n",
      "Got the result from ./1/test/filtrations/2/RadialFiltration_25_38/red/diagrams.npy\n",
      "Applying Scaler to persistence diagrams.\n",
      "Got the result from ./1/test/filtrations/2/RadialFiltration_25_38/red/features.npy\n",
      "FiltrationExtractor: processing 1/test/filtrations/2/RadialFiltration_25_38/green, do_fit = False, filtration = RadialFiltration(center=array([25, 38]), n_jobs=-1)\n",
      "Got the result from ./1/test/filtrations/2/RadialFiltration_25_38/green/diagrams.npy\n",
      "Applying Scaler to persistence diagrams.\n",
      "Got the result from ./1/test/filtrations/2/RadialFiltration_25_38/green/features.npy\n",
      "FiltrationExtractor: processing 1/test/filtrations/2/RadialFiltration_25_38/blue, do_fit = False, filtration = RadialFiltration(center=array([25, 38]), n_jobs=-1)\n",
      "Got the result from ./1/test/filtrations/2/RadialFiltration_25_38/blue/diagrams.npy\n",
      "Applying Scaler to persistence diagrams.\n",
      "Got the result from ./1/test/filtrations/2/RadialFiltration_25_38/blue/features.npy\n",
      "Applying filtration 16/72: RadialFiltration with c = (25, 51), bin. thr. = 0.2\n",
      "RGB images received. Transforming to grayscale.\n"
     ]
    },
    {
     "name": "stderr",
     "output_type": "stream",
     "text": [
      "rgb2gray: 100%|██████████| 12630/12630 [00:02<00:00, 4570.26it/s]\n"
     ]
    },
    {
     "name": "stdout",
     "output_type": "stream",
     "text": [
      "FiltrationExtractor: processing 1/test/filtrations/2/RadialFiltration_25_51/gray, do_fit = False, filtration = RadialFiltration(center=array([25, 51]), n_jobs=-1)\n",
      "Got the result from ./1/test/filtrations/2/RadialFiltration_25_51/gray/diagrams.npy\n",
      "Applying Scaler to persistence diagrams.\n",
      "Got the result from ./1/test/filtrations/2/RadialFiltration_25_51/gray/features.npy\n",
      "FiltrationExtractor: processing 1/test/filtrations/2/RadialFiltration_25_51/red, do_fit = False, filtration = RadialFiltration(center=array([25, 51]), n_jobs=-1)\n",
      "Got the result from ./1/test/filtrations/2/RadialFiltration_25_51/red/diagrams.npy\n",
      "Applying Scaler to persistence diagrams.\n",
      "Got the result from ./1/test/filtrations/2/RadialFiltration_25_51/red/features.npy\n",
      "FiltrationExtractor: processing 1/test/filtrations/2/RadialFiltration_25_51/green, do_fit = False, filtration = RadialFiltration(center=array([25, 51]), n_jobs=-1)\n",
      "Got the result from ./1/test/filtrations/2/RadialFiltration_25_51/green/diagrams.npy\n",
      "Applying Scaler to persistence diagrams.\n",
      "Got the result from ./1/test/filtrations/2/RadialFiltration_25_51/green/features.npy\n",
      "FiltrationExtractor: processing 1/test/filtrations/2/RadialFiltration_25_51/blue, do_fit = False, filtration = RadialFiltration(center=array([25, 51]), n_jobs=-1)\n",
      "Got the result from ./1/test/filtrations/2/RadialFiltration_25_51/blue/diagrams.npy\n",
      "Applying Scaler to persistence diagrams.\n",
      "Got the result from ./1/test/filtrations/2/RadialFiltration_25_51/blue/features.npy\n",
      "Applying filtration 17/72: RadialFiltration with c = (38, 12), bin. thr. = 0.2\n",
      "RGB images received. Transforming to grayscale.\n"
     ]
    },
    {
     "name": "stderr",
     "output_type": "stream",
     "text": [
      "rgb2gray: 100%|██████████| 12630/12630 [00:02<00:00, 4447.85it/s]\n"
     ]
    },
    {
     "name": "stdout",
     "output_type": "stream",
     "text": [
      "FiltrationExtractor: processing 1/test/filtrations/2/RadialFiltration_38_12/gray, do_fit = False, filtration = RadialFiltration(center=array([38, 12]), n_jobs=-1)\n",
      "Got the result from ./1/test/filtrations/2/RadialFiltration_38_12/gray/diagrams.npy\n",
      "Applying Scaler to persistence diagrams.\n",
      "Got the result from ./1/test/filtrations/2/RadialFiltration_38_12/gray/features.npy\n",
      "FiltrationExtractor: processing 1/test/filtrations/2/RadialFiltration_38_12/red, do_fit = False, filtration = RadialFiltration(center=array([38, 12]), n_jobs=-1)\n",
      "Got the result from ./1/test/filtrations/2/RadialFiltration_38_12/red/diagrams.npy\n",
      "Applying Scaler to persistence diagrams.\n",
      "Got the result from ./1/test/filtrations/2/RadialFiltration_38_12/red/features.npy\n",
      "FiltrationExtractor: processing 1/test/filtrations/2/RadialFiltration_38_12/green, do_fit = False, filtration = RadialFiltration(center=array([38, 12]), n_jobs=-1)\n",
      "Got the result from ./1/test/filtrations/2/RadialFiltration_38_12/green/diagrams.npy\n",
      "Applying Scaler to persistence diagrams.\n",
      "Got the result from ./1/test/filtrations/2/RadialFiltration_38_12/green/features.npy\n",
      "FiltrationExtractor: processing 1/test/filtrations/2/RadialFiltration_38_12/blue, do_fit = False, filtration = RadialFiltration(center=array([38, 12]), n_jobs=-1)\n",
      "Got the result from ./1/test/filtrations/2/RadialFiltration_38_12/blue/diagrams.npy\n",
      "Applying Scaler to persistence diagrams.\n",
      "Got the result from ./1/test/filtrations/2/RadialFiltration_38_12/blue/features.npy\n",
      "Applying filtration 18/72: RadialFiltration with c = (38, 25), bin. thr. = 0.2\n",
      "RGB images received. Transforming to grayscale.\n"
     ]
    },
    {
     "name": "stderr",
     "output_type": "stream",
     "text": [
      "rgb2gray: 100%|██████████| 12630/12630 [00:02<00:00, 4612.39it/s]\n"
     ]
    },
    {
     "name": "stdout",
     "output_type": "stream",
     "text": [
      "FiltrationExtractor: processing 1/test/filtrations/2/RadialFiltration_38_25/gray, do_fit = False, filtration = RadialFiltration(center=array([38, 25]), n_jobs=-1)\n",
      "Got the result from ./1/test/filtrations/2/RadialFiltration_38_25/gray/diagrams.npy\n",
      "Applying Scaler to persistence diagrams.\n",
      "Got the result from ./1/test/filtrations/2/RadialFiltration_38_25/gray/features.npy\n",
      "FiltrationExtractor: processing 1/test/filtrations/2/RadialFiltration_38_25/red, do_fit = False, filtration = RadialFiltration(center=array([38, 25]), n_jobs=-1)\n",
      "Got the result from ./1/test/filtrations/2/RadialFiltration_38_25/red/diagrams.npy\n",
      "Applying Scaler to persistence diagrams.\n",
      "Got the result from ./1/test/filtrations/2/RadialFiltration_38_25/red/features.npy\n",
      "FiltrationExtractor: processing 1/test/filtrations/2/RadialFiltration_38_25/green, do_fit = False, filtration = RadialFiltration(center=array([38, 25]), n_jobs=-1)\n",
      "Got the result from ./1/test/filtrations/2/RadialFiltration_38_25/green/diagrams.npy\n",
      "Applying Scaler to persistence diagrams.\n",
      "Got the result from ./1/test/filtrations/2/RadialFiltration_38_25/green/features.npy\n",
      "FiltrationExtractor: processing 1/test/filtrations/2/RadialFiltration_38_25/blue, do_fit = False, filtration = RadialFiltration(center=array([38, 25]), n_jobs=-1)\n",
      "Got the result from ./1/test/filtrations/2/RadialFiltration_38_25/blue/diagrams.npy\n",
      "Applying Scaler to persistence diagrams.\n",
      "Got the result from ./1/test/filtrations/2/RadialFiltration_38_25/blue/features.npy\n",
      "Applying filtration 19/72: RadialFiltration with c = (38, 38), bin. thr. = 0.2\n",
      "RGB images received. Transforming to grayscale.\n"
     ]
    },
    {
     "name": "stderr",
     "output_type": "stream",
     "text": [
      "rgb2gray: 100%|██████████| 12630/12630 [00:02<00:00, 4632.29it/s]\n"
     ]
    },
    {
     "name": "stdout",
     "output_type": "stream",
     "text": [
      "FiltrationExtractor: processing 1/test/filtrations/2/RadialFiltration_38_38/gray, do_fit = False, filtration = RadialFiltration(center=array([38, 38]), n_jobs=-1)\n",
      "Got the result from ./1/test/filtrations/2/RadialFiltration_38_38/gray/diagrams.npy\n",
      "Applying Scaler to persistence diagrams.\n",
      "Got the result from ./1/test/filtrations/2/RadialFiltration_38_38/gray/features.npy\n",
      "FiltrationExtractor: processing 1/test/filtrations/2/RadialFiltration_38_38/red, do_fit = False, filtration = RadialFiltration(center=array([38, 38]), n_jobs=-1)\n",
      "Got the result from ./1/test/filtrations/2/RadialFiltration_38_38/red/diagrams.npy\n",
      "Applying Scaler to persistence diagrams.\n",
      "Got the result from ./1/test/filtrations/2/RadialFiltration_38_38/red/features.npy\n",
      "FiltrationExtractor: processing 1/test/filtrations/2/RadialFiltration_38_38/green, do_fit = False, filtration = RadialFiltration(center=array([38, 38]), n_jobs=-1)\n",
      "Got the result from ./1/test/filtrations/2/RadialFiltration_38_38/green/diagrams.npy\n",
      "Applying Scaler to persistence diagrams.\n",
      "Got the result from ./1/test/filtrations/2/RadialFiltration_38_38/green/features.npy\n",
      "FiltrationExtractor: processing 1/test/filtrations/2/RadialFiltration_38_38/blue, do_fit = False, filtration = RadialFiltration(center=array([38, 38]), n_jobs=-1)\n",
      "Got the result from ./1/test/filtrations/2/RadialFiltration_38_38/blue/diagrams.npy\n",
      "Applying Scaler to persistence diagrams.\n",
      "Got the result from ./1/test/filtrations/2/RadialFiltration_38_38/blue/features.npy\n",
      "Applying filtration 20/72: RadialFiltration with c = (38, 51), bin. thr. = 0.2\n",
      "RGB images received. Transforming to grayscale.\n"
     ]
    },
    {
     "name": "stderr",
     "output_type": "stream",
     "text": [
      "rgb2gray: 100%|██████████| 12630/12630 [00:02<00:00, 4619.60it/s]\n"
     ]
    },
    {
     "name": "stdout",
     "output_type": "stream",
     "text": [
      "FiltrationExtractor: processing 1/test/filtrations/2/RadialFiltration_38_51/gray, do_fit = False, filtration = RadialFiltration(center=array([38, 51]), n_jobs=-1)\n",
      "Got the result from ./1/test/filtrations/2/RadialFiltration_38_51/gray/diagrams.npy\n",
      "Applying Scaler to persistence diagrams.\n",
      "Got the result from ./1/test/filtrations/2/RadialFiltration_38_51/gray/features.npy\n",
      "FiltrationExtractor: processing 1/test/filtrations/2/RadialFiltration_38_51/red, do_fit = False, filtration = RadialFiltration(center=array([38, 51]), n_jobs=-1)\n",
      "Got the result from ./1/test/filtrations/2/RadialFiltration_38_51/red/diagrams.npy\n",
      "Applying Scaler to persistence diagrams.\n",
      "Got the result from ./1/test/filtrations/2/RadialFiltration_38_51/red/features.npy\n",
      "FiltrationExtractor: processing 1/test/filtrations/2/RadialFiltration_38_51/green, do_fit = False, filtration = RadialFiltration(center=array([38, 51]), n_jobs=-1)\n",
      "Got the result from ./1/test/filtrations/2/RadialFiltration_38_51/green/diagrams.npy\n",
      "Applying Scaler to persistence diagrams.\n",
      "Got the result from ./1/test/filtrations/2/RadialFiltration_38_51/green/features.npy\n",
      "FiltrationExtractor: processing 1/test/filtrations/2/RadialFiltration_38_51/blue, do_fit = False, filtration = RadialFiltration(center=array([38, 51]), n_jobs=-1)\n",
      "Got the result from ./1/test/filtrations/2/RadialFiltration_38_51/blue/diagrams.npy\n",
      "Applying Scaler to persistence diagrams.\n",
      "Got the result from ./1/test/filtrations/2/RadialFiltration_38_51/blue/features.npy\n",
      "Applying filtration 21/72: RadialFiltration with c = (51, 12), bin. thr. = 0.2\n",
      "RGB images received. Transforming to grayscale.\n"
     ]
    },
    {
     "name": "stderr",
     "output_type": "stream",
     "text": [
      "rgb2gray: 100%|██████████| 12630/12630 [00:02<00:00, 4631.46it/s]\n"
     ]
    },
    {
     "name": "stdout",
     "output_type": "stream",
     "text": [
      "FiltrationExtractor: processing 1/test/filtrations/2/RadialFiltration_51_12/gray, do_fit = False, filtration = RadialFiltration(center=array([51, 12]), n_jobs=-1)\n",
      "Got the result from ./1/test/filtrations/2/RadialFiltration_51_12/gray/diagrams.npy\n",
      "Applying Scaler to persistence diagrams.\n",
      "Got the result from ./1/test/filtrations/2/RadialFiltration_51_12/gray/features.npy\n",
      "FiltrationExtractor: processing 1/test/filtrations/2/RadialFiltration_51_12/red, do_fit = False, filtration = RadialFiltration(center=array([51, 12]), n_jobs=-1)\n",
      "Got the result from ./1/test/filtrations/2/RadialFiltration_51_12/red/diagrams.npy\n",
      "Applying Scaler to persistence diagrams.\n",
      "Got the result from ./1/test/filtrations/2/RadialFiltration_51_12/red/features.npy\n",
      "FiltrationExtractor: processing 1/test/filtrations/2/RadialFiltration_51_12/green, do_fit = False, filtration = RadialFiltration(center=array([51, 12]), n_jobs=-1)\n",
      "Got the result from ./1/test/filtrations/2/RadialFiltration_51_12/green/diagrams.npy\n",
      "Applying Scaler to persistence diagrams.\n",
      "Got the result from ./1/test/filtrations/2/RadialFiltration_51_12/green/features.npy\n",
      "FiltrationExtractor: processing 1/test/filtrations/2/RadialFiltration_51_12/blue, do_fit = False, filtration = RadialFiltration(center=array([51, 12]), n_jobs=-1)\n",
      "Got the result from ./1/test/filtrations/2/RadialFiltration_51_12/blue/diagrams.npy\n",
      "Applying Scaler to persistence diagrams.\n",
      "Got the result from ./1/test/filtrations/2/RadialFiltration_51_12/blue/features.npy\n",
      "Applying filtration 22/72: RadialFiltration with c = (51, 25), bin. thr. = 0.2\n",
      "RGB images received. Transforming to grayscale.\n"
     ]
    },
    {
     "name": "stderr",
     "output_type": "stream",
     "text": [
      "rgb2gray: 100%|██████████| 12630/12630 [00:02<00:00, 4465.25it/s]\n"
     ]
    },
    {
     "name": "stdout",
     "output_type": "stream",
     "text": [
      "FiltrationExtractor: processing 1/test/filtrations/2/RadialFiltration_51_25/gray, do_fit = False, filtration = RadialFiltration(center=array([51, 25]), n_jobs=-1)\n",
      "Got the result from ./1/test/filtrations/2/RadialFiltration_51_25/gray/diagrams.npy\n",
      "Applying Scaler to persistence diagrams.\n",
      "Got the result from ./1/test/filtrations/2/RadialFiltration_51_25/gray/features.npy\n",
      "FiltrationExtractor: processing 1/test/filtrations/2/RadialFiltration_51_25/red, do_fit = False, filtration = RadialFiltration(center=array([51, 25]), n_jobs=-1)\n",
      "Got the result from ./1/test/filtrations/2/RadialFiltration_51_25/red/diagrams.npy\n",
      "Applying Scaler to persistence diagrams.\n",
      "Got the result from ./1/test/filtrations/2/RadialFiltration_51_25/red/features.npy\n",
      "FiltrationExtractor: processing 1/test/filtrations/2/RadialFiltration_51_25/green, do_fit = False, filtration = RadialFiltration(center=array([51, 25]), n_jobs=-1)\n",
      "Got the result from ./1/test/filtrations/2/RadialFiltration_51_25/green/diagrams.npy\n",
      "Applying Scaler to persistence diagrams.\n",
      "Got the result from ./1/test/filtrations/2/RadialFiltration_51_25/green/features.npy\n",
      "FiltrationExtractor: processing 1/test/filtrations/2/RadialFiltration_51_25/blue, do_fit = False, filtration = RadialFiltration(center=array([51, 25]), n_jobs=-1)\n",
      "Got the result from ./1/test/filtrations/2/RadialFiltration_51_25/blue/diagrams.npy\n",
      "Applying Scaler to persistence diagrams.\n",
      "Got the result from ./1/test/filtrations/2/RadialFiltration_51_25/blue/features.npy\n",
      "Applying filtration 23/72: RadialFiltration with c = (51, 38), bin. thr. = 0.2\n",
      "RGB images received. Transforming to grayscale.\n"
     ]
    },
    {
     "name": "stderr",
     "output_type": "stream",
     "text": [
      "rgb2gray: 100%|██████████| 12630/12630 [00:02<00:00, 4603.67it/s]\n"
     ]
    },
    {
     "name": "stdout",
     "output_type": "stream",
     "text": [
      "FiltrationExtractor: processing 1/test/filtrations/2/RadialFiltration_51_38/gray, do_fit = False, filtration = RadialFiltration(center=array([51, 38]), n_jobs=-1)\n",
      "Got the result from ./1/test/filtrations/2/RadialFiltration_51_38/gray/diagrams.npy\n",
      "Applying Scaler to persistence diagrams.\n",
      "Got the result from ./1/test/filtrations/2/RadialFiltration_51_38/gray/features.npy\n",
      "FiltrationExtractor: processing 1/test/filtrations/2/RadialFiltration_51_38/red, do_fit = False, filtration = RadialFiltration(center=array([51, 38]), n_jobs=-1)\n",
      "Got the result from ./1/test/filtrations/2/RadialFiltration_51_38/red/diagrams.npy\n",
      "Applying Scaler to persistence diagrams.\n",
      "Got the result from ./1/test/filtrations/2/RadialFiltration_51_38/red/features.npy\n",
      "FiltrationExtractor: processing 1/test/filtrations/2/RadialFiltration_51_38/green, do_fit = False, filtration = RadialFiltration(center=array([51, 38]), n_jobs=-1)\n",
      "Got the result from ./1/test/filtrations/2/RadialFiltration_51_38/green/diagrams.npy\n",
      "Applying Scaler to persistence diagrams.\n",
      "Got the result from ./1/test/filtrations/2/RadialFiltration_51_38/green/features.npy\n",
      "FiltrationExtractor: processing 1/test/filtrations/2/RadialFiltration_51_38/blue, do_fit = False, filtration = RadialFiltration(center=array([51, 38]), n_jobs=-1)\n",
      "Got the result from ./1/test/filtrations/2/RadialFiltration_51_38/blue/diagrams.npy\n",
      "Applying Scaler to persistence diagrams.\n",
      "Got the result from ./1/test/filtrations/2/RadialFiltration_51_38/blue/features.npy\n",
      "Applying filtration 24/72: RadialFiltration with c = (51, 51), bin. thr. = 0.2\n",
      "RGB images received. Transforming to grayscale.\n"
     ]
    },
    {
     "name": "stderr",
     "output_type": "stream",
     "text": [
      "rgb2gray: 100%|██████████| 12630/12630 [00:02<00:00, 4602.78it/s]\n"
     ]
    },
    {
     "name": "stdout",
     "output_type": "stream",
     "text": [
      "FiltrationExtractor: processing 1/test/filtrations/2/RadialFiltration_51_51/gray, do_fit = False, filtration = RadialFiltration(center=array([51, 51]), n_jobs=-1)\n",
      "Got the result from ./1/test/filtrations/2/RadialFiltration_51_51/gray/diagrams.npy\n",
      "Applying Scaler to persistence diagrams.\n",
      "Got the result from ./1/test/filtrations/2/RadialFiltration_51_51/gray/features.npy\n",
      "FiltrationExtractor: processing 1/test/filtrations/2/RadialFiltration_51_51/red, do_fit = False, filtration = RadialFiltration(center=array([51, 51]), n_jobs=-1)\n",
      "Got the result from ./1/test/filtrations/2/RadialFiltration_51_51/red/diagrams.npy\n",
      "Applying Scaler to persistence diagrams.\n",
      "Got the result from ./1/test/filtrations/2/RadialFiltration_51_51/red/features.npy\n",
      "FiltrationExtractor: processing 1/test/filtrations/2/RadialFiltration_51_51/green, do_fit = False, filtration = RadialFiltration(center=array([51, 51]), n_jobs=-1)\n",
      "Got the result from ./1/test/filtrations/2/RadialFiltration_51_51/green/diagrams.npy\n",
      "Applying Scaler to persistence diagrams.\n",
      "Got the result from ./1/test/filtrations/2/RadialFiltration_51_51/green/features.npy\n",
      "FiltrationExtractor: processing 1/test/filtrations/2/RadialFiltration_51_51/blue, do_fit = False, filtration = RadialFiltration(center=array([51, 51]), n_jobs=-1)\n",
      "Got the result from ./1/test/filtrations/2/RadialFiltration_51_51/blue/diagrams.npy\n",
      "Applying Scaler to persistence diagrams.\n",
      "Got the result from ./1/test/filtrations/2/RadialFiltration_51_51/blue/features.npy\n",
      "Applying filtration 25/72: HeightFiltration with d = (-1, -1), bin. thr. = 0.4\n",
      "RGB images received. Transforming to grayscale.\n"
     ]
    },
    {
     "name": "stderr",
     "output_type": "stream",
     "text": [
      "rgb2gray: 100%|██████████| 12630/12630 [00:02<00:00, 4633.09it/s]\n"
     ]
    },
    {
     "name": "stdout",
     "output_type": "stream",
     "text": [
      "FiltrationExtractor: processing 1/test/filtrations/4/HeightFiltrartion_-1_-1/gray, do_fit = False, filtration = HeightFiltration(direction=array([-1, -1]), n_jobs=-1)\n",
      "Got the result from ./1/test/filtrations/4/HeightFiltrartion_-1_-1/gray/diagrams.npy\n",
      "Applying Scaler to persistence diagrams.\n",
      "Got the result from ./1/test/filtrations/4/HeightFiltrartion_-1_-1/gray/features.npy\n",
      "FiltrationExtractor: processing 1/test/filtrations/4/HeightFiltrartion_-1_-1/red, do_fit = False, filtration = HeightFiltration(direction=array([-1, -1]), n_jobs=-1)\n",
      "Got the result from ./1/test/filtrations/4/HeightFiltrartion_-1_-1/red/diagrams.npy\n",
      "Applying Scaler to persistence diagrams.\n",
      "Got the result from ./1/test/filtrations/4/HeightFiltrartion_-1_-1/red/features.npy\n",
      "FiltrationExtractor: processing 1/test/filtrations/4/HeightFiltrartion_-1_-1/green, do_fit = False, filtration = HeightFiltration(direction=array([-1, -1]), n_jobs=-1)\n",
      "Got the result from ./1/test/filtrations/4/HeightFiltrartion_-1_-1/green/diagrams.npy\n",
      "Applying Scaler to persistence diagrams.\n",
      "Got the result from ./1/test/filtrations/4/HeightFiltrartion_-1_-1/green/features.npy\n",
      "FiltrationExtractor: processing 1/test/filtrations/4/HeightFiltrartion_-1_-1/blue, do_fit = False, filtration = HeightFiltration(direction=array([-1, -1]), n_jobs=-1)\n",
      "Got the result from ./1/test/filtrations/4/HeightFiltrartion_-1_-1/blue/diagrams.npy\n",
      "Applying Scaler to persistence diagrams.\n",
      "Got the result from ./1/test/filtrations/4/HeightFiltrartion_-1_-1/blue/features.npy\n",
      "Applying filtration 26/72: HeightFiltration with d = (-1, 0), bin. thr. = 0.4\n",
      "RGB images received. Transforming to grayscale.\n"
     ]
    },
    {
     "name": "stderr",
     "output_type": "stream",
     "text": [
      "rgb2gray: 100%|██████████| 12630/12630 [00:02<00:00, 4463.12it/s]\n"
     ]
    },
    {
     "name": "stdout",
     "output_type": "stream",
     "text": [
      "FiltrationExtractor: processing 1/test/filtrations/4/HeightFiltrartion_-1_0/gray, do_fit = False, filtration = HeightFiltration(direction=array([-1,  0]), n_jobs=-1)\n",
      "Got the result from ./1/test/filtrations/4/HeightFiltrartion_-1_0/gray/diagrams.npy\n",
      "Applying Scaler to persistence diagrams.\n",
      "Got the result from ./1/test/filtrations/4/HeightFiltrartion_-1_0/gray/features.npy\n",
      "FiltrationExtractor: processing 1/test/filtrations/4/HeightFiltrartion_-1_0/red, do_fit = False, filtration = HeightFiltration(direction=array([-1,  0]), n_jobs=-1)\n",
      "Got the result from ./1/test/filtrations/4/HeightFiltrartion_-1_0/red/diagrams.npy\n",
      "Applying Scaler to persistence diagrams.\n",
      "Got the result from ./1/test/filtrations/4/HeightFiltrartion_-1_0/red/features.npy\n",
      "FiltrationExtractor: processing 1/test/filtrations/4/HeightFiltrartion_-1_0/green, do_fit = False, filtration = HeightFiltration(direction=array([-1,  0]), n_jobs=-1)\n",
      "Got the result from ./1/test/filtrations/4/HeightFiltrartion_-1_0/green/diagrams.npy\n",
      "Applying Scaler to persistence diagrams.\n",
      "Got the result from ./1/test/filtrations/4/HeightFiltrartion_-1_0/green/features.npy\n",
      "FiltrationExtractor: processing 1/test/filtrations/4/HeightFiltrartion_-1_0/blue, do_fit = False, filtration = HeightFiltration(direction=array([-1,  0]), n_jobs=-1)\n",
      "Got the result from ./1/test/filtrations/4/HeightFiltrartion_-1_0/blue/diagrams.npy\n",
      "Applying Scaler to persistence diagrams.\n",
      "Got the result from ./1/test/filtrations/4/HeightFiltrartion_-1_0/blue/features.npy\n",
      "Applying filtration 27/72: HeightFiltration with d = (-1, 1), bin. thr. = 0.4\n",
      "RGB images received. Transforming to grayscale.\n"
     ]
    },
    {
     "name": "stderr",
     "output_type": "stream",
     "text": [
      "rgb2gray: 100%|██████████| 12630/12630 [00:02<00:00, 4632.14it/s]\n"
     ]
    },
    {
     "name": "stdout",
     "output_type": "stream",
     "text": [
      "FiltrationExtractor: processing 1/test/filtrations/4/HeightFiltrartion_-1_1/gray, do_fit = False, filtration = HeightFiltration(direction=array([-1,  1]), n_jobs=-1)\n",
      "Got the result from ./1/test/filtrations/4/HeightFiltrartion_-1_1/gray/diagrams.npy\n",
      "Applying Scaler to persistence diagrams.\n",
      "Got the result from ./1/test/filtrations/4/HeightFiltrartion_-1_1/gray/features.npy\n",
      "FiltrationExtractor: processing 1/test/filtrations/4/HeightFiltrartion_-1_1/red, do_fit = False, filtration = HeightFiltration(direction=array([-1,  1]), n_jobs=-1)\n",
      "Got the result from ./1/test/filtrations/4/HeightFiltrartion_-1_1/red/diagrams.npy\n",
      "Applying Scaler to persistence diagrams.\n",
      "Got the result from ./1/test/filtrations/4/HeightFiltrartion_-1_1/red/features.npy\n",
      "FiltrationExtractor: processing 1/test/filtrations/4/HeightFiltrartion_-1_1/green, do_fit = False, filtration = HeightFiltration(direction=array([-1,  1]), n_jobs=-1)\n",
      "Got the result from ./1/test/filtrations/4/HeightFiltrartion_-1_1/green/diagrams.npy\n",
      "Applying Scaler to persistence diagrams.\n",
      "Got the result from ./1/test/filtrations/4/HeightFiltrartion_-1_1/green/features.npy\n",
      "FiltrationExtractor: processing 1/test/filtrations/4/HeightFiltrartion_-1_1/blue, do_fit = False, filtration = HeightFiltration(direction=array([-1,  1]), n_jobs=-1)\n",
      "Got the result from ./1/test/filtrations/4/HeightFiltrartion_-1_1/blue/diagrams.npy\n",
      "Applying Scaler to persistence diagrams.\n",
      "Got the result from ./1/test/filtrations/4/HeightFiltrartion_-1_1/blue/features.npy\n",
      "Applying filtration 28/72: HeightFiltration with d = (0, -1), bin. thr. = 0.4\n",
      "RGB images received. Transforming to grayscale.\n"
     ]
    },
    {
     "name": "stderr",
     "output_type": "stream",
     "text": [
      "rgb2gray: 100%|██████████| 12630/12630 [00:02<00:00, 4649.35it/s]\n"
     ]
    },
    {
     "name": "stdout",
     "output_type": "stream",
     "text": [
      "FiltrationExtractor: processing 1/test/filtrations/4/HeightFiltrartion_0_-1/gray, do_fit = False, filtration = HeightFiltration(direction=array([ 0, -1]), n_jobs=-1)\n",
      "Got the result from ./1/test/filtrations/4/HeightFiltrartion_0_-1/gray/diagrams.npy\n",
      "Applying Scaler to persistence diagrams.\n",
      "Got the result from ./1/test/filtrations/4/HeightFiltrartion_0_-1/gray/features.npy\n",
      "FiltrationExtractor: processing 1/test/filtrations/4/HeightFiltrartion_0_-1/red, do_fit = False, filtration = HeightFiltration(direction=array([ 0, -1]), n_jobs=-1)\n",
      "Got the result from ./1/test/filtrations/4/HeightFiltrartion_0_-1/red/diagrams.npy\n",
      "Applying Scaler to persistence diagrams.\n",
      "Got the result from ./1/test/filtrations/4/HeightFiltrartion_0_-1/red/features.npy\n",
      "FiltrationExtractor: processing 1/test/filtrations/4/HeightFiltrartion_0_-1/green, do_fit = False, filtration = HeightFiltration(direction=array([ 0, -1]), n_jobs=-1)\n",
      "Got the result from ./1/test/filtrations/4/HeightFiltrartion_0_-1/green/diagrams.npy\n",
      "Applying Scaler to persistence diagrams.\n",
      "Got the result from ./1/test/filtrations/4/HeightFiltrartion_0_-1/green/features.npy\n",
      "FiltrationExtractor: processing 1/test/filtrations/4/HeightFiltrartion_0_-1/blue, do_fit = False, filtration = HeightFiltration(direction=array([ 0, -1]), n_jobs=-1)\n",
      "Got the result from ./1/test/filtrations/4/HeightFiltrartion_0_-1/blue/diagrams.npy\n",
      "Applying Scaler to persistence diagrams.\n",
      "Got the result from ./1/test/filtrations/4/HeightFiltrartion_0_-1/blue/features.npy\n",
      "Applying filtration 29/72: HeightFiltration with d = (0, 1), bin. thr. = 0.4\n",
      "RGB images received. Transforming to grayscale.\n"
     ]
    },
    {
     "name": "stderr",
     "output_type": "stream",
     "text": [
      "rgb2gray: 100%|██████████| 12630/12630 [00:02<00:00, 4618.75it/s]\n"
     ]
    },
    {
     "name": "stdout",
     "output_type": "stream",
     "text": [
      "FiltrationExtractor: processing 1/test/filtrations/4/HeightFiltrartion_0_1/gray, do_fit = False, filtration = HeightFiltration(direction=array([0, 1]), n_jobs=-1)\n",
      "Got the result from ./1/test/filtrations/4/HeightFiltrartion_0_1/gray/diagrams.npy\n",
      "Applying Scaler to persistence diagrams.\n",
      "Got the result from ./1/test/filtrations/4/HeightFiltrartion_0_1/gray/features.npy\n",
      "FiltrationExtractor: processing 1/test/filtrations/4/HeightFiltrartion_0_1/red, do_fit = False, filtration = HeightFiltration(direction=array([0, 1]), n_jobs=-1)\n",
      "Got the result from ./1/test/filtrations/4/HeightFiltrartion_0_1/red/diagrams.npy\n",
      "Applying Scaler to persistence diagrams.\n",
      "Got the result from ./1/test/filtrations/4/HeightFiltrartion_0_1/red/features.npy\n",
      "FiltrationExtractor: processing 1/test/filtrations/4/HeightFiltrartion_0_1/green, do_fit = False, filtration = HeightFiltration(direction=array([0, 1]), n_jobs=-1)\n",
      "Got the result from ./1/test/filtrations/4/HeightFiltrartion_0_1/green/diagrams.npy\n",
      "Applying Scaler to persistence diagrams.\n",
      "Got the result from ./1/test/filtrations/4/HeightFiltrartion_0_1/green/features.npy\n",
      "FiltrationExtractor: processing 1/test/filtrations/4/HeightFiltrartion_0_1/blue, do_fit = False, filtration = HeightFiltration(direction=array([0, 1]), n_jobs=-1)\n",
      "Got the result from ./1/test/filtrations/4/HeightFiltrartion_0_1/blue/diagrams.npy\n",
      "Applying Scaler to persistence diagrams.\n",
      "Got the result from ./1/test/filtrations/4/HeightFiltrartion_0_1/blue/features.npy\n",
      "Applying filtration 30/72: HeightFiltration with d = (1, -1), bin. thr. = 0.4\n",
      "RGB images received. Transforming to grayscale.\n"
     ]
    },
    {
     "name": "stderr",
     "output_type": "stream",
     "text": [
      "rgb2gray: 100%|██████████| 12630/12630 [00:02<00:00, 4464.02it/s]\n"
     ]
    },
    {
     "name": "stdout",
     "output_type": "stream",
     "text": [
      "FiltrationExtractor: processing 1/test/filtrations/4/HeightFiltrartion_1_-1/gray, do_fit = False, filtration = HeightFiltration(direction=array([ 1, -1]), n_jobs=-1)\n",
      "Got the result from ./1/test/filtrations/4/HeightFiltrartion_1_-1/gray/diagrams.npy\n",
      "Applying Scaler to persistence diagrams.\n",
      "Got the result from ./1/test/filtrations/4/HeightFiltrartion_1_-1/gray/features.npy\n",
      "FiltrationExtractor: processing 1/test/filtrations/4/HeightFiltrartion_1_-1/red, do_fit = False, filtration = HeightFiltration(direction=array([ 1, -1]), n_jobs=-1)\n",
      "Got the result from ./1/test/filtrations/4/HeightFiltrartion_1_-1/red/diagrams.npy\n",
      "Applying Scaler to persistence diagrams.\n",
      "Got the result from ./1/test/filtrations/4/HeightFiltrartion_1_-1/red/features.npy\n",
      "FiltrationExtractor: processing 1/test/filtrations/4/HeightFiltrartion_1_-1/green, do_fit = False, filtration = HeightFiltration(direction=array([ 1, -1]), n_jobs=-1)\n",
      "Got the result from ./1/test/filtrations/4/HeightFiltrartion_1_-1/green/diagrams.npy\n",
      "Applying Scaler to persistence diagrams.\n",
      "Got the result from ./1/test/filtrations/4/HeightFiltrartion_1_-1/green/features.npy\n",
      "FiltrationExtractor: processing 1/test/filtrations/4/HeightFiltrartion_1_-1/blue, do_fit = False, filtration = HeightFiltration(direction=array([ 1, -1]), n_jobs=-1)\n",
      "Got the result from ./1/test/filtrations/4/HeightFiltrartion_1_-1/blue/diagrams.npy\n",
      "Applying Scaler to persistence diagrams.\n",
      "Got the result from ./1/test/filtrations/4/HeightFiltrartion_1_-1/blue/features.npy\n",
      "Applying filtration 31/72: HeightFiltration with d = (1, 0), bin. thr. = 0.4\n",
      "RGB images received. Transforming to grayscale.\n"
     ]
    },
    {
     "name": "stderr",
     "output_type": "stream",
     "text": [
      "rgb2gray: 100%|██████████| 12630/12630 [00:02<00:00, 4566.97it/s]\n"
     ]
    },
    {
     "name": "stdout",
     "output_type": "stream",
     "text": [
      "FiltrationExtractor: processing 1/test/filtrations/4/HeightFiltrartion_1_0/gray, do_fit = False, filtration = HeightFiltration(direction=array([1, 0]), n_jobs=-1)\n",
      "Got the result from ./1/test/filtrations/4/HeightFiltrartion_1_0/gray/diagrams.npy\n",
      "Applying Scaler to persistence diagrams.\n",
      "Got the result from ./1/test/filtrations/4/HeightFiltrartion_1_0/gray/features.npy\n",
      "FiltrationExtractor: processing 1/test/filtrations/4/HeightFiltrartion_1_0/red, do_fit = False, filtration = HeightFiltration(direction=array([1, 0]), n_jobs=-1)\n",
      "Got the result from ./1/test/filtrations/4/HeightFiltrartion_1_0/red/diagrams.npy\n",
      "Applying Scaler to persistence diagrams.\n",
      "Got the result from ./1/test/filtrations/4/HeightFiltrartion_1_0/red/features.npy\n",
      "FiltrationExtractor: processing 1/test/filtrations/4/HeightFiltrartion_1_0/green, do_fit = False, filtration = HeightFiltration(direction=array([1, 0]), n_jobs=-1)\n",
      "Got the result from ./1/test/filtrations/4/HeightFiltrartion_1_0/green/diagrams.npy\n",
      "Applying Scaler to persistence diagrams.\n",
      "Got the result from ./1/test/filtrations/4/HeightFiltrartion_1_0/green/features.npy\n",
      "FiltrationExtractor: processing 1/test/filtrations/4/HeightFiltrartion_1_0/blue, do_fit = False, filtration = HeightFiltration(direction=array([1, 0]), n_jobs=-1)\n",
      "Got the result from ./1/test/filtrations/4/HeightFiltrartion_1_0/blue/diagrams.npy\n",
      "Applying Scaler to persistence diagrams.\n",
      "Got the result from ./1/test/filtrations/4/HeightFiltrartion_1_0/blue/features.npy\n",
      "Applying filtration 32/72: HeightFiltration with d = (1, 1), bin. thr. = 0.4\n",
      "RGB images received. Transforming to grayscale.\n"
     ]
    },
    {
     "name": "stderr",
     "output_type": "stream",
     "text": [
      "rgb2gray: 100%|██████████| 12630/12630 [00:02<00:00, 4661.75it/s]\n"
     ]
    },
    {
     "name": "stdout",
     "output_type": "stream",
     "text": [
      "FiltrationExtractor: processing 1/test/filtrations/4/HeightFiltrartion_1_1/gray, do_fit = False, filtration = HeightFiltration(direction=array([1, 1]), n_jobs=-1)\n",
      "Got the result from ./1/test/filtrations/4/HeightFiltrartion_1_1/gray/diagrams.npy\n",
      "Applying Scaler to persistence diagrams.\n",
      "Got the result from ./1/test/filtrations/4/HeightFiltrartion_1_1/gray/features.npy\n",
      "FiltrationExtractor: processing 1/test/filtrations/4/HeightFiltrartion_1_1/red, do_fit = False, filtration = HeightFiltration(direction=array([1, 1]), n_jobs=-1)\n",
      "Got the result from ./1/test/filtrations/4/HeightFiltrartion_1_1/red/diagrams.npy\n",
      "Applying Scaler to persistence diagrams.\n",
      "Got the result from ./1/test/filtrations/4/HeightFiltrartion_1_1/red/features.npy\n",
      "FiltrationExtractor: processing 1/test/filtrations/4/HeightFiltrartion_1_1/green, do_fit = False, filtration = HeightFiltration(direction=array([1, 1]), n_jobs=-1)\n",
      "Got the result from ./1/test/filtrations/4/HeightFiltrartion_1_1/green/diagrams.npy\n",
      "Applying Scaler to persistence diagrams.\n",
      "Got the result from ./1/test/filtrations/4/HeightFiltrartion_1_1/green/features.npy\n",
      "FiltrationExtractor: processing 1/test/filtrations/4/HeightFiltrartion_1_1/blue, do_fit = False, filtration = HeightFiltration(direction=array([1, 1]), n_jobs=-1)\n",
      "Got the result from ./1/test/filtrations/4/HeightFiltrartion_1_1/blue/diagrams.npy\n",
      "Applying Scaler to persistence diagrams.\n",
      "Got the result from ./1/test/filtrations/4/HeightFiltrartion_1_1/blue/features.npy\n",
      "Applying filtration 33/72: RadialFiltration with c = (12, 12), bin. thr. = 0.4\n",
      "RGB images received. Transforming to grayscale.\n"
     ]
    },
    {
     "name": "stderr",
     "output_type": "stream",
     "text": [
      "rgb2gray: 100%|██████████| 12630/12630 [00:02<00:00, 4595.10it/s]\n"
     ]
    },
    {
     "name": "stdout",
     "output_type": "stream",
     "text": [
      "FiltrationExtractor: processing 1/test/filtrations/4/RadialFiltration_12_12/gray, do_fit = False, filtration = RadialFiltration(center=array([12, 12]), n_jobs=-1)\n",
      "Got the result from ./1/test/filtrations/4/RadialFiltration_12_12/gray/diagrams.npy\n",
      "Applying Scaler to persistence diagrams.\n",
      "Got the result from ./1/test/filtrations/4/RadialFiltration_12_12/gray/features.npy\n",
      "FiltrationExtractor: processing 1/test/filtrations/4/RadialFiltration_12_12/red, do_fit = False, filtration = RadialFiltration(center=array([12, 12]), n_jobs=-1)\n",
      "Got the result from ./1/test/filtrations/4/RadialFiltration_12_12/red/diagrams.npy\n",
      "Applying Scaler to persistence diagrams.\n",
      "Got the result from ./1/test/filtrations/4/RadialFiltration_12_12/red/features.npy\n",
      "FiltrationExtractor: processing 1/test/filtrations/4/RadialFiltration_12_12/green, do_fit = False, filtration = RadialFiltration(center=array([12, 12]), n_jobs=-1)\n",
      "Got the result from ./1/test/filtrations/4/RadialFiltration_12_12/green/diagrams.npy\n",
      "Applying Scaler to persistence diagrams.\n",
      "Got the result from ./1/test/filtrations/4/RadialFiltration_12_12/green/features.npy\n",
      "FiltrationExtractor: processing 1/test/filtrations/4/RadialFiltration_12_12/blue, do_fit = False, filtration = RadialFiltration(center=array([12, 12]), n_jobs=-1)\n",
      "Got the result from ./1/test/filtrations/4/RadialFiltration_12_12/blue/diagrams.npy\n",
      "Applying Scaler to persistence diagrams.\n",
      "Got the result from ./1/test/filtrations/4/RadialFiltration_12_12/blue/features.npy\n",
      "Applying filtration 34/72: RadialFiltration with c = (12, 25), bin. thr. = 0.4\n",
      "RGB images received. Transforming to grayscale.\n"
     ]
    },
    {
     "name": "stderr",
     "output_type": "stream",
     "text": [
      "rgb2gray: 100%|██████████| 12630/12630 [00:02<00:00, 4454.21it/s]\n"
     ]
    },
    {
     "name": "stdout",
     "output_type": "stream",
     "text": [
      "FiltrationExtractor: processing 1/test/filtrations/4/RadialFiltration_12_25/gray, do_fit = False, filtration = RadialFiltration(center=array([12, 25]), n_jobs=-1)\n",
      "Got the result from ./1/test/filtrations/4/RadialFiltration_12_25/gray/diagrams.npy\n",
      "Applying Scaler to persistence diagrams.\n",
      "Got the result from ./1/test/filtrations/4/RadialFiltration_12_25/gray/features.npy\n",
      "FiltrationExtractor: processing 1/test/filtrations/4/RadialFiltration_12_25/red, do_fit = False, filtration = RadialFiltration(center=array([12, 25]), n_jobs=-1)\n",
      "Got the result from ./1/test/filtrations/4/RadialFiltration_12_25/red/diagrams.npy\n",
      "Applying Scaler to persistence diagrams.\n",
      "Got the result from ./1/test/filtrations/4/RadialFiltration_12_25/red/features.npy\n",
      "FiltrationExtractor: processing 1/test/filtrations/4/RadialFiltration_12_25/green, do_fit = False, filtration = RadialFiltration(center=array([12, 25]), n_jobs=-1)\n",
      "Got the result from ./1/test/filtrations/4/RadialFiltration_12_25/green/diagrams.npy\n",
      "Applying Scaler to persistence diagrams.\n",
      "Got the result from ./1/test/filtrations/4/RadialFiltration_12_25/green/features.npy\n",
      "FiltrationExtractor: processing 1/test/filtrations/4/RadialFiltration_12_25/blue, do_fit = False, filtration = RadialFiltration(center=array([12, 25]), n_jobs=-1)\n",
      "Got the result from ./1/test/filtrations/4/RadialFiltration_12_25/blue/diagrams.npy\n",
      "Applying Scaler to persistence diagrams.\n",
      "Got the result from ./1/test/filtrations/4/RadialFiltration_12_25/blue/features.npy\n",
      "Applying filtration 35/72: RadialFiltration with c = (12, 38), bin. thr. = 0.4\n",
      "RGB images received. Transforming to grayscale.\n"
     ]
    },
    {
     "name": "stderr",
     "output_type": "stream",
     "text": [
      "rgb2gray: 100%|██████████| 12630/12630 [00:02<00:00, 4712.49it/s]\n"
     ]
    },
    {
     "name": "stdout",
     "output_type": "stream",
     "text": [
      "FiltrationExtractor: processing 1/test/filtrations/4/RadialFiltration_12_38/gray, do_fit = False, filtration = RadialFiltration(center=array([12, 38]), n_jobs=-1)\n",
      "Got the result from ./1/test/filtrations/4/RadialFiltration_12_38/gray/diagrams.npy\n",
      "Applying Scaler to persistence diagrams.\n",
      "Got the result from ./1/test/filtrations/4/RadialFiltration_12_38/gray/features.npy\n",
      "FiltrationExtractor: processing 1/test/filtrations/4/RadialFiltration_12_38/red, do_fit = False, filtration = RadialFiltration(center=array([12, 38]), n_jobs=-1)\n",
      "Got the result from ./1/test/filtrations/4/RadialFiltration_12_38/red/diagrams.npy\n",
      "Applying Scaler to persistence diagrams.\n",
      "Got the result from ./1/test/filtrations/4/RadialFiltration_12_38/red/features.npy\n",
      "FiltrationExtractor: processing 1/test/filtrations/4/RadialFiltration_12_38/green, do_fit = False, filtration = RadialFiltration(center=array([12, 38]), n_jobs=-1)\n",
      "Got the result from ./1/test/filtrations/4/RadialFiltration_12_38/green/diagrams.npy\n",
      "Applying Scaler to persistence diagrams.\n",
      "Got the result from ./1/test/filtrations/4/RadialFiltration_12_38/green/features.npy\n",
      "FiltrationExtractor: processing 1/test/filtrations/4/RadialFiltration_12_38/blue, do_fit = False, filtration = RadialFiltration(center=array([12, 38]), n_jobs=-1)\n",
      "Got the result from ./1/test/filtrations/4/RadialFiltration_12_38/blue/diagrams.npy\n",
      "Applying Scaler to persistence diagrams.\n",
      "Got the result from ./1/test/filtrations/4/RadialFiltration_12_38/blue/features.npy\n",
      "Applying filtration 36/72: RadialFiltration with c = (12, 51), bin. thr. = 0.4\n",
      "RGB images received. Transforming to grayscale.\n"
     ]
    },
    {
     "name": "stderr",
     "output_type": "stream",
     "text": [
      "rgb2gray: 100%|██████████| 12630/12630 [00:02<00:00, 4641.68it/s]\n"
     ]
    },
    {
     "name": "stdout",
     "output_type": "stream",
     "text": [
      "FiltrationExtractor: processing 1/test/filtrations/4/RadialFiltration_12_51/gray, do_fit = False, filtration = RadialFiltration(center=array([12, 51]), n_jobs=-1)\n",
      "Got the result from ./1/test/filtrations/4/RadialFiltration_12_51/gray/diagrams.npy\n",
      "Applying Scaler to persistence diagrams.\n",
      "Got the result from ./1/test/filtrations/4/RadialFiltration_12_51/gray/features.npy\n",
      "FiltrationExtractor: processing 1/test/filtrations/4/RadialFiltration_12_51/red, do_fit = False, filtration = RadialFiltration(center=array([12, 51]), n_jobs=-1)\n",
      "Got the result from ./1/test/filtrations/4/RadialFiltration_12_51/red/diagrams.npy\n",
      "Applying Scaler to persistence diagrams.\n",
      "Got the result from ./1/test/filtrations/4/RadialFiltration_12_51/red/features.npy\n",
      "FiltrationExtractor: processing 1/test/filtrations/4/RadialFiltration_12_51/green, do_fit = False, filtration = RadialFiltration(center=array([12, 51]), n_jobs=-1)\n",
      "Got the result from ./1/test/filtrations/4/RadialFiltration_12_51/green/diagrams.npy\n",
      "Applying Scaler to persistence diagrams.\n",
      "Got the result from ./1/test/filtrations/4/RadialFiltration_12_51/green/features.npy\n",
      "FiltrationExtractor: processing 1/test/filtrations/4/RadialFiltration_12_51/blue, do_fit = False, filtration = RadialFiltration(center=array([12, 51]), n_jobs=-1)\n",
      "Got the result from ./1/test/filtrations/4/RadialFiltration_12_51/blue/diagrams.npy\n",
      "Applying Scaler to persistence diagrams.\n",
      "Got the result from ./1/test/filtrations/4/RadialFiltration_12_51/blue/features.npy\n",
      "Applying filtration 37/72: RadialFiltration with c = (25, 12), bin. thr. = 0.4\n",
      "RGB images received. Transforming to grayscale.\n"
     ]
    },
    {
     "name": "stderr",
     "output_type": "stream",
     "text": [
      "rgb2gray: 100%|██████████| 12630/12630 [00:02<00:00, 4680.36it/s]\n"
     ]
    },
    {
     "name": "stdout",
     "output_type": "stream",
     "text": [
      "FiltrationExtractor: processing 1/test/filtrations/4/RadialFiltration_25_12/gray, do_fit = False, filtration = RadialFiltration(center=array([25, 12]), n_jobs=-1)\n",
      "Got the result from ./1/test/filtrations/4/RadialFiltration_25_12/gray/diagrams.npy\n",
      "Applying Scaler to persistence diagrams.\n",
      "Got the result from ./1/test/filtrations/4/RadialFiltration_25_12/gray/features.npy\n",
      "FiltrationExtractor: processing 1/test/filtrations/4/RadialFiltration_25_12/red, do_fit = False, filtration = RadialFiltration(center=array([25, 12]), n_jobs=-1)\n",
      "Got the result from ./1/test/filtrations/4/RadialFiltration_25_12/red/diagrams.npy\n",
      "Applying Scaler to persistence diagrams.\n",
      "Got the result from ./1/test/filtrations/4/RadialFiltration_25_12/red/features.npy\n",
      "FiltrationExtractor: processing 1/test/filtrations/4/RadialFiltration_25_12/green, do_fit = False, filtration = RadialFiltration(center=array([25, 12]), n_jobs=-1)\n",
      "Got the result from ./1/test/filtrations/4/RadialFiltration_25_12/green/diagrams.npy\n",
      "Applying Scaler to persistence diagrams.\n",
      "Got the result from ./1/test/filtrations/4/RadialFiltration_25_12/green/features.npy\n",
      "FiltrationExtractor: processing 1/test/filtrations/4/RadialFiltration_25_12/blue, do_fit = False, filtration = RadialFiltration(center=array([25, 12]), n_jobs=-1)\n",
      "Got the result from ./1/test/filtrations/4/RadialFiltration_25_12/blue/diagrams.npy\n",
      "Applying Scaler to persistence diagrams.\n",
      "Got the result from ./1/test/filtrations/4/RadialFiltration_25_12/blue/features.npy\n",
      "Applying filtration 38/72: RadialFiltration with c = (25, 25), bin. thr. = 0.4\n",
      "RGB images received. Transforming to grayscale.\n"
     ]
    },
    {
     "name": "stderr",
     "output_type": "stream",
     "text": [
      "rgb2gray: 100%|██████████| 12630/12630 [00:02<00:00, 4697.11it/s]\n"
     ]
    },
    {
     "name": "stdout",
     "output_type": "stream",
     "text": [
      "FiltrationExtractor: processing 1/test/filtrations/4/RadialFiltration_25_25/gray, do_fit = False, filtration = RadialFiltration(center=array([25, 25]), n_jobs=-1)\n",
      "Got the result from ./1/test/filtrations/4/RadialFiltration_25_25/gray/diagrams.npy\n",
      "Applying Scaler to persistence diagrams.\n",
      "Got the result from ./1/test/filtrations/4/RadialFiltration_25_25/gray/features.npy\n",
      "FiltrationExtractor: processing 1/test/filtrations/4/RadialFiltration_25_25/red, do_fit = False, filtration = RadialFiltration(center=array([25, 25]), n_jobs=-1)\n",
      "Got the result from ./1/test/filtrations/4/RadialFiltration_25_25/red/diagrams.npy\n",
      "Applying Scaler to persistence diagrams.\n",
      "Got the result from ./1/test/filtrations/4/RadialFiltration_25_25/red/features.npy\n",
      "FiltrationExtractor: processing 1/test/filtrations/4/RadialFiltration_25_25/green, do_fit = False, filtration = RadialFiltration(center=array([25, 25]), n_jobs=-1)\n",
      "Got the result from ./1/test/filtrations/4/RadialFiltration_25_25/green/diagrams.npy\n",
      "Applying Scaler to persistence diagrams.\n",
      "Got the result from ./1/test/filtrations/4/RadialFiltration_25_25/green/features.npy\n",
      "FiltrationExtractor: processing 1/test/filtrations/4/RadialFiltration_25_25/blue, do_fit = False, filtration = RadialFiltration(center=array([25, 25]), n_jobs=-1)\n",
      "Got the result from ./1/test/filtrations/4/RadialFiltration_25_25/blue/diagrams.npy\n",
      "Applying Scaler to persistence diagrams.\n",
      "Got the result from ./1/test/filtrations/4/RadialFiltration_25_25/blue/features.npy\n",
      "Applying filtration 39/72: RadialFiltration with c = (25, 38), bin. thr. = 0.4\n",
      "RGB images received. Transforming to grayscale.\n"
     ]
    },
    {
     "name": "stderr",
     "output_type": "stream",
     "text": [
      "rgb2gray: 100%|██████████| 12630/12630 [00:02<00:00, 4491.47it/s]\n"
     ]
    },
    {
     "name": "stdout",
     "output_type": "stream",
     "text": [
      "FiltrationExtractor: processing 1/test/filtrations/4/RadialFiltration_25_38/gray, do_fit = False, filtration = RadialFiltration(center=array([25, 38]), n_jobs=-1)\n",
      "Got the result from ./1/test/filtrations/4/RadialFiltration_25_38/gray/diagrams.npy\n",
      "Applying Scaler to persistence diagrams.\n",
      "Got the result from ./1/test/filtrations/4/RadialFiltration_25_38/gray/features.npy\n",
      "FiltrationExtractor: processing 1/test/filtrations/4/RadialFiltration_25_38/red, do_fit = False, filtration = RadialFiltration(center=array([25, 38]), n_jobs=-1)\n",
      "Got the result from ./1/test/filtrations/4/RadialFiltration_25_38/red/diagrams.npy\n",
      "Applying Scaler to persistence diagrams.\n",
      "Got the result from ./1/test/filtrations/4/RadialFiltration_25_38/red/features.npy\n",
      "FiltrationExtractor: processing 1/test/filtrations/4/RadialFiltration_25_38/green, do_fit = False, filtration = RadialFiltration(center=array([25, 38]), n_jobs=-1)\n",
      "Got the result from ./1/test/filtrations/4/RadialFiltration_25_38/green/diagrams.npy\n",
      "Applying Scaler to persistence diagrams.\n",
      "Got the result from ./1/test/filtrations/4/RadialFiltration_25_38/green/features.npy\n",
      "FiltrationExtractor: processing 1/test/filtrations/4/RadialFiltration_25_38/blue, do_fit = False, filtration = RadialFiltration(center=array([25, 38]), n_jobs=-1)\n",
      "Got the result from ./1/test/filtrations/4/RadialFiltration_25_38/blue/diagrams.npy\n",
      "Applying Scaler to persistence diagrams.\n",
      "Got the result from ./1/test/filtrations/4/RadialFiltration_25_38/blue/features.npy\n",
      "Applying filtration 40/72: RadialFiltration with c = (25, 51), bin. thr. = 0.4\n",
      "RGB images received. Transforming to grayscale.\n"
     ]
    },
    {
     "name": "stderr",
     "output_type": "stream",
     "text": [
      "rgb2gray: 100%|██████████| 12630/12630 [00:03<00:00, 3782.20it/s]\n"
     ]
    },
    {
     "name": "stdout",
     "output_type": "stream",
     "text": [
      "FiltrationExtractor: processing 1/test/filtrations/4/RadialFiltration_25_51/gray, do_fit = False, filtration = RadialFiltration(center=array([25, 51]), n_jobs=-1)\n",
      "Got the result from ./1/test/filtrations/4/RadialFiltration_25_51/gray/diagrams.npy\n",
      "Applying Scaler to persistence diagrams.\n",
      "Got the result from ./1/test/filtrations/4/RadialFiltration_25_51/gray/features.npy\n",
      "FiltrationExtractor: processing 1/test/filtrations/4/RadialFiltration_25_51/red, do_fit = False, filtration = RadialFiltration(center=array([25, 51]), n_jobs=-1)\n",
      "Got the result from ./1/test/filtrations/4/RadialFiltration_25_51/red/diagrams.npy\n",
      "Applying Scaler to persistence diagrams.\n",
      "Got the result from ./1/test/filtrations/4/RadialFiltration_25_51/red/features.npy\n",
      "FiltrationExtractor: processing 1/test/filtrations/4/RadialFiltration_25_51/green, do_fit = False, filtration = RadialFiltration(center=array([25, 51]), n_jobs=-1)\n",
      "Got the result from ./1/test/filtrations/4/RadialFiltration_25_51/green/diagrams.npy\n",
      "Applying Scaler to persistence diagrams.\n",
      "Got the result from ./1/test/filtrations/4/RadialFiltration_25_51/green/features.npy\n",
      "FiltrationExtractor: processing 1/test/filtrations/4/RadialFiltration_25_51/blue, do_fit = False, filtration = RadialFiltration(center=array([25, 51]), n_jobs=-1)\n",
      "Got the result from ./1/test/filtrations/4/RadialFiltration_25_51/blue/diagrams.npy\n",
      "Applying Scaler to persistence diagrams.\n",
      "Got the result from ./1/test/filtrations/4/RadialFiltration_25_51/blue/features.npy\n",
      "Applying filtration 41/72: RadialFiltration with c = (38, 12), bin. thr. = 0.4\n",
      "RGB images received. Transforming to grayscale.\n"
     ]
    },
    {
     "name": "stderr",
     "output_type": "stream",
     "text": [
      "rgb2gray: 100%|██████████| 12630/12630 [00:03<00:00, 3757.81it/s]\n"
     ]
    },
    {
     "name": "stdout",
     "output_type": "stream",
     "text": [
      "FiltrationExtractor: processing 1/test/filtrations/4/RadialFiltration_38_12/gray, do_fit = False, filtration = RadialFiltration(center=array([38, 12]), n_jobs=-1)\n",
      "Got the result from ./1/test/filtrations/4/RadialFiltration_38_12/gray/diagrams.npy\n",
      "Applying Scaler to persistence diagrams.\n",
      "Got the result from ./1/test/filtrations/4/RadialFiltration_38_12/gray/features.npy\n",
      "FiltrationExtractor: processing 1/test/filtrations/4/RadialFiltration_38_12/red, do_fit = False, filtration = RadialFiltration(center=array([38, 12]), n_jobs=-1)\n",
      "Got the result from ./1/test/filtrations/4/RadialFiltration_38_12/red/diagrams.npy\n",
      "Applying Scaler to persistence diagrams.\n",
      "Got the result from ./1/test/filtrations/4/RadialFiltration_38_12/red/features.npy\n",
      "FiltrationExtractor: processing 1/test/filtrations/4/RadialFiltration_38_12/green, do_fit = False, filtration = RadialFiltration(center=array([38, 12]), n_jobs=-1)\n",
      "Got the result from ./1/test/filtrations/4/RadialFiltration_38_12/green/diagrams.npy\n",
      "Applying Scaler to persistence diagrams.\n",
      "Got the result from ./1/test/filtrations/4/RadialFiltration_38_12/green/features.npy\n",
      "FiltrationExtractor: processing 1/test/filtrations/4/RadialFiltration_38_12/blue, do_fit = False, filtration = RadialFiltration(center=array([38, 12]), n_jobs=-1)\n",
      "Got the result from ./1/test/filtrations/4/RadialFiltration_38_12/blue/diagrams.npy\n",
      "Applying Scaler to persistence diagrams.\n",
      "Got the result from ./1/test/filtrations/4/RadialFiltration_38_12/blue/features.npy\n",
      "Applying filtration 42/72: RadialFiltration with c = (38, 25), bin. thr. = 0.4\n",
      "RGB images received. Transforming to grayscale.\n"
     ]
    },
    {
     "name": "stderr",
     "output_type": "stream",
     "text": [
      "rgb2gray: 100%|██████████| 12630/12630 [00:03<00:00, 3756.13it/s]\n"
     ]
    },
    {
     "name": "stdout",
     "output_type": "stream",
     "text": [
      "FiltrationExtractor: processing 1/test/filtrations/4/RadialFiltration_38_25/gray, do_fit = False, filtration = RadialFiltration(center=array([38, 25]), n_jobs=-1)\n",
      "Got the result from ./1/test/filtrations/4/RadialFiltration_38_25/gray/diagrams.npy\n",
      "Applying Scaler to persistence diagrams.\n",
      "Got the result from ./1/test/filtrations/4/RadialFiltration_38_25/gray/features.npy\n",
      "FiltrationExtractor: processing 1/test/filtrations/4/RadialFiltration_38_25/red, do_fit = False, filtration = RadialFiltration(center=array([38, 25]), n_jobs=-1)\n",
      "Got the result from ./1/test/filtrations/4/RadialFiltration_38_25/red/diagrams.npy\n",
      "Applying Scaler to persistence diagrams.\n",
      "Got the result from ./1/test/filtrations/4/RadialFiltration_38_25/red/features.npy\n",
      "FiltrationExtractor: processing 1/test/filtrations/4/RadialFiltration_38_25/green, do_fit = False, filtration = RadialFiltration(center=array([38, 25]), n_jobs=-1)\n",
      "Got the result from ./1/test/filtrations/4/RadialFiltration_38_25/green/diagrams.npy\n",
      "Applying Scaler to persistence diagrams.\n",
      "Got the result from ./1/test/filtrations/4/RadialFiltration_38_25/green/features.npy\n",
      "FiltrationExtractor: processing 1/test/filtrations/4/RadialFiltration_38_25/blue, do_fit = False, filtration = RadialFiltration(center=array([38, 25]), n_jobs=-1)\n",
      "Got the result from ./1/test/filtrations/4/RadialFiltration_38_25/blue/diagrams.npy\n",
      "Applying Scaler to persistence diagrams.\n",
      "Got the result from ./1/test/filtrations/4/RadialFiltration_38_25/blue/features.npy\n",
      "Applying filtration 43/72: RadialFiltration with c = (38, 38), bin. thr. = 0.4\n",
      "RGB images received. Transforming to grayscale.\n"
     ]
    },
    {
     "name": "stderr",
     "output_type": "stream",
     "text": [
      "rgb2gray: 100%|██████████| 12630/12630 [00:02<00:00, 4523.64it/s]\n"
     ]
    },
    {
     "name": "stdout",
     "output_type": "stream",
     "text": [
      "FiltrationExtractor: processing 1/test/filtrations/4/RadialFiltration_38_38/gray, do_fit = False, filtration = RadialFiltration(center=array([38, 38]), n_jobs=-1)\n",
      "Got the result from ./1/test/filtrations/4/RadialFiltration_38_38/gray/diagrams.npy\n",
      "Applying Scaler to persistence diagrams.\n",
      "Got the result from ./1/test/filtrations/4/RadialFiltration_38_38/gray/features.npy\n",
      "FiltrationExtractor: processing 1/test/filtrations/4/RadialFiltration_38_38/red, do_fit = False, filtration = RadialFiltration(center=array([38, 38]), n_jobs=-1)\n",
      "Got the result from ./1/test/filtrations/4/RadialFiltration_38_38/red/diagrams.npy\n",
      "Applying Scaler to persistence diagrams.\n",
      "Got the result from ./1/test/filtrations/4/RadialFiltration_38_38/red/features.npy\n",
      "FiltrationExtractor: processing 1/test/filtrations/4/RadialFiltration_38_38/green, do_fit = False, filtration = RadialFiltration(center=array([38, 38]), n_jobs=-1)\n",
      "Got the result from ./1/test/filtrations/4/RadialFiltration_38_38/green/diagrams.npy\n",
      "Applying Scaler to persistence diagrams.\n",
      "Got the result from ./1/test/filtrations/4/RadialFiltration_38_38/green/features.npy\n",
      "FiltrationExtractor: processing 1/test/filtrations/4/RadialFiltration_38_38/blue, do_fit = False, filtration = RadialFiltration(center=array([38, 38]), n_jobs=-1)\n",
      "Got the result from ./1/test/filtrations/4/RadialFiltration_38_38/blue/diagrams.npy\n",
      "Applying Scaler to persistence diagrams.\n",
      "Got the result from ./1/test/filtrations/4/RadialFiltration_38_38/blue/features.npy\n",
      "Applying filtration 44/72: RadialFiltration with c = (38, 51), bin. thr. = 0.4\n",
      "RGB images received. Transforming to grayscale.\n"
     ]
    },
    {
     "name": "stderr",
     "output_type": "stream",
     "text": [
      "rgb2gray: 100%|██████████| 12630/12630 [00:02<00:00, 4765.03it/s]\n"
     ]
    },
    {
     "name": "stdout",
     "output_type": "stream",
     "text": [
      "FiltrationExtractor: processing 1/test/filtrations/4/RadialFiltration_38_51/gray, do_fit = False, filtration = RadialFiltration(center=array([38, 51]), n_jobs=-1)\n",
      "Got the result from ./1/test/filtrations/4/RadialFiltration_38_51/gray/diagrams.npy\n",
      "Applying Scaler to persistence diagrams.\n",
      "Got the result from ./1/test/filtrations/4/RadialFiltration_38_51/gray/features.npy\n",
      "FiltrationExtractor: processing 1/test/filtrations/4/RadialFiltration_38_51/red, do_fit = False, filtration = RadialFiltration(center=array([38, 51]), n_jobs=-1)\n",
      "Got the result from ./1/test/filtrations/4/RadialFiltration_38_51/red/diagrams.npy\n",
      "Applying Scaler to persistence diagrams.\n",
      "Got the result from ./1/test/filtrations/4/RadialFiltration_38_51/red/features.npy\n",
      "FiltrationExtractor: processing 1/test/filtrations/4/RadialFiltration_38_51/green, do_fit = False, filtration = RadialFiltration(center=array([38, 51]), n_jobs=-1)\n",
      "Got the result from ./1/test/filtrations/4/RadialFiltration_38_51/green/diagrams.npy\n",
      "Applying Scaler to persistence diagrams.\n",
      "Got the result from ./1/test/filtrations/4/RadialFiltration_38_51/green/features.npy\n",
      "FiltrationExtractor: processing 1/test/filtrations/4/RadialFiltration_38_51/blue, do_fit = False, filtration = RadialFiltration(center=array([38, 51]), n_jobs=-1)\n",
      "Got the result from ./1/test/filtrations/4/RadialFiltration_38_51/blue/diagrams.npy\n",
      "Applying Scaler to persistence diagrams.\n",
      "Got the result from ./1/test/filtrations/4/RadialFiltration_38_51/blue/features.npy\n",
      "Applying filtration 45/72: RadialFiltration with c = (51, 12), bin. thr. = 0.4\n",
      "RGB images received. Transforming to grayscale.\n"
     ]
    },
    {
     "name": "stderr",
     "output_type": "stream",
     "text": [
      "rgb2gray: 100%|██████████| 12630/12630 [00:02<00:00, 4754.36it/s]\n"
     ]
    },
    {
     "name": "stdout",
     "output_type": "stream",
     "text": [
      "FiltrationExtractor: processing 1/test/filtrations/4/RadialFiltration_51_12/gray, do_fit = False, filtration = RadialFiltration(center=array([51, 12]), n_jobs=-1)\n",
      "Got the result from ./1/test/filtrations/4/RadialFiltration_51_12/gray/diagrams.npy\n",
      "Applying Scaler to persistence diagrams.\n",
      "Got the result from ./1/test/filtrations/4/RadialFiltration_51_12/gray/features.npy\n",
      "FiltrationExtractor: processing 1/test/filtrations/4/RadialFiltration_51_12/red, do_fit = False, filtration = RadialFiltration(center=array([51, 12]), n_jobs=-1)\n",
      "Got the result from ./1/test/filtrations/4/RadialFiltration_51_12/red/diagrams.npy\n",
      "Applying Scaler to persistence diagrams.\n",
      "Got the result from ./1/test/filtrations/4/RadialFiltration_51_12/red/features.npy\n",
      "FiltrationExtractor: processing 1/test/filtrations/4/RadialFiltration_51_12/green, do_fit = False, filtration = RadialFiltration(center=array([51, 12]), n_jobs=-1)\n",
      "Got the result from ./1/test/filtrations/4/RadialFiltration_51_12/green/diagrams.npy\n",
      "Applying Scaler to persistence diagrams.\n",
      "Got the result from ./1/test/filtrations/4/RadialFiltration_51_12/green/features.npy\n",
      "FiltrationExtractor: processing 1/test/filtrations/4/RadialFiltration_51_12/blue, do_fit = False, filtration = RadialFiltration(center=array([51, 12]), n_jobs=-1)\n",
      "Got the result from ./1/test/filtrations/4/RadialFiltration_51_12/blue/diagrams.npy\n",
      "Applying Scaler to persistence diagrams.\n",
      "Got the result from ./1/test/filtrations/4/RadialFiltration_51_12/blue/features.npy\n",
      "Applying filtration 46/72: RadialFiltration with c = (51, 25), bin. thr. = 0.4\n",
      "RGB images received. Transforming to grayscale.\n"
     ]
    },
    {
     "name": "stderr",
     "output_type": "stream",
     "text": [
      "rgb2gray: 100%|██████████| 12630/12630 [00:02<00:00, 4687.96it/s]\n"
     ]
    },
    {
     "name": "stdout",
     "output_type": "stream",
     "text": [
      "FiltrationExtractor: processing 1/test/filtrations/4/RadialFiltration_51_25/gray, do_fit = False, filtration = RadialFiltration(center=array([51, 25]), n_jobs=-1)\n",
      "Got the result from ./1/test/filtrations/4/RadialFiltration_51_25/gray/diagrams.npy\n",
      "Applying Scaler to persistence diagrams.\n",
      "Got the result from ./1/test/filtrations/4/RadialFiltration_51_25/gray/features.npy\n",
      "FiltrationExtractor: processing 1/test/filtrations/4/RadialFiltration_51_25/red, do_fit = False, filtration = RadialFiltration(center=array([51, 25]), n_jobs=-1)\n",
      "Got the result from ./1/test/filtrations/4/RadialFiltration_51_25/red/diagrams.npy\n",
      "Applying Scaler to persistence diagrams.\n",
      "Got the result from ./1/test/filtrations/4/RadialFiltration_51_25/red/features.npy\n",
      "FiltrationExtractor: processing 1/test/filtrations/4/RadialFiltration_51_25/green, do_fit = False, filtration = RadialFiltration(center=array([51, 25]), n_jobs=-1)\n",
      "Got the result from ./1/test/filtrations/4/RadialFiltration_51_25/green/diagrams.npy\n",
      "Applying Scaler to persistence diagrams.\n",
      "Got the result from ./1/test/filtrations/4/RadialFiltration_51_25/green/features.npy\n",
      "FiltrationExtractor: processing 1/test/filtrations/4/RadialFiltration_51_25/blue, do_fit = False, filtration = RadialFiltration(center=array([51, 25]), n_jobs=-1)\n",
      "Got the result from ./1/test/filtrations/4/RadialFiltration_51_25/blue/diagrams.npy\n",
      "Applying Scaler to persistence diagrams.\n",
      "Got the result from ./1/test/filtrations/4/RadialFiltration_51_25/blue/features.npy\n",
      "Applying filtration 47/72: RadialFiltration with c = (51, 38), bin. thr. = 0.4\n",
      "RGB images received. Transforming to grayscale.\n"
     ]
    },
    {
     "name": "stderr",
     "output_type": "stream",
     "text": [
      "rgb2gray: 100%|██████████| 12630/12630 [00:02<00:00, 4627.52it/s]\n"
     ]
    },
    {
     "name": "stdout",
     "output_type": "stream",
     "text": [
      "FiltrationExtractor: processing 1/test/filtrations/4/RadialFiltration_51_38/gray, do_fit = False, filtration = RadialFiltration(center=array([51, 38]), n_jobs=-1)\n",
      "Got the result from ./1/test/filtrations/4/RadialFiltration_51_38/gray/diagrams.npy\n",
      "Applying Scaler to persistence diagrams.\n",
      "Got the result from ./1/test/filtrations/4/RadialFiltration_51_38/gray/features.npy\n",
      "FiltrationExtractor: processing 1/test/filtrations/4/RadialFiltration_51_38/red, do_fit = False, filtration = RadialFiltration(center=array([51, 38]), n_jobs=-1)\n",
      "Got the result from ./1/test/filtrations/4/RadialFiltration_51_38/red/diagrams.npy\n",
      "Applying Scaler to persistence diagrams.\n",
      "Got the result from ./1/test/filtrations/4/RadialFiltration_51_38/red/features.npy\n",
      "FiltrationExtractor: processing 1/test/filtrations/4/RadialFiltration_51_38/green, do_fit = False, filtration = RadialFiltration(center=array([51, 38]), n_jobs=-1)\n",
      "Got the result from ./1/test/filtrations/4/RadialFiltration_51_38/green/diagrams.npy\n",
      "Applying Scaler to persistence diagrams.\n",
      "Got the result from ./1/test/filtrations/4/RadialFiltration_51_38/green/features.npy\n",
      "FiltrationExtractor: processing 1/test/filtrations/4/RadialFiltration_51_38/blue, do_fit = False, filtration = RadialFiltration(center=array([51, 38]), n_jobs=-1)\n",
      "Got the result from ./1/test/filtrations/4/RadialFiltration_51_38/blue/diagrams.npy\n",
      "Applying Scaler to persistence diagrams.\n",
      "Got the result from ./1/test/filtrations/4/RadialFiltration_51_38/blue/features.npy\n",
      "Applying filtration 48/72: RadialFiltration with c = (51, 51), bin. thr. = 0.4\n",
      "RGB images received. Transforming to grayscale.\n"
     ]
    },
    {
     "name": "stderr",
     "output_type": "stream",
     "text": [
      "rgb2gray: 100%|██████████| 12630/12630 [00:02<00:00, 4352.91it/s]\n"
     ]
    },
    {
     "name": "stdout",
     "output_type": "stream",
     "text": [
      "FiltrationExtractor: processing 1/test/filtrations/4/RadialFiltration_51_51/gray, do_fit = False, filtration = RadialFiltration(center=array([51, 51]), n_jobs=-1)\n",
      "Got the result from ./1/test/filtrations/4/RadialFiltration_51_51/gray/diagrams.npy\n",
      "Applying Scaler to persistence diagrams.\n",
      "Got the result from ./1/test/filtrations/4/RadialFiltration_51_51/gray/features.npy\n",
      "FiltrationExtractor: processing 1/test/filtrations/4/RadialFiltration_51_51/red, do_fit = False, filtration = RadialFiltration(center=array([51, 51]), n_jobs=-1)\n",
      "Got the result from ./1/test/filtrations/4/RadialFiltration_51_51/red/diagrams.npy\n",
      "Applying Scaler to persistence diagrams.\n",
      "Got the result from ./1/test/filtrations/4/RadialFiltration_51_51/red/features.npy\n",
      "FiltrationExtractor: processing 1/test/filtrations/4/RadialFiltration_51_51/green, do_fit = False, filtration = RadialFiltration(center=array([51, 51]), n_jobs=-1)\n",
      "Got the result from ./1/test/filtrations/4/RadialFiltration_51_51/green/diagrams.npy\n",
      "Applying Scaler to persistence diagrams.\n",
      "Got the result from ./1/test/filtrations/4/RadialFiltration_51_51/green/features.npy\n",
      "FiltrationExtractor: processing 1/test/filtrations/4/RadialFiltration_51_51/blue, do_fit = False, filtration = RadialFiltration(center=array([51, 51]), n_jobs=-1)\n",
      "Got the result from ./1/test/filtrations/4/RadialFiltration_51_51/blue/diagrams.npy\n",
      "Applying Scaler to persistence diagrams.\n",
      "Got the result from ./1/test/filtrations/4/RadialFiltration_51_51/blue/features.npy\n",
      "Applying filtration 49/72: HeightFiltration with d = (-1, -1), bin. thr. = 0.6\n",
      "RGB images received. Transforming to grayscale.\n"
     ]
    },
    {
     "name": "stderr",
     "output_type": "stream",
     "text": [
      "rgb2gray: 100%|██████████| 12630/12630 [00:02<00:00, 4681.20it/s]\n"
     ]
    },
    {
     "name": "stdout",
     "output_type": "stream",
     "text": [
      "FiltrationExtractor: processing 1/test/filtrations/6/HeightFiltrartion_-1_-1/gray, do_fit = False, filtration = HeightFiltration(direction=array([-1, -1]), n_jobs=-1)\n",
      "Got the result from ./1/test/filtrations/6/HeightFiltrartion_-1_-1/gray/diagrams.npy\n",
      "Applying Scaler to persistence diagrams.\n",
      "Got the result from ./1/test/filtrations/6/HeightFiltrartion_-1_-1/gray/features.npy\n",
      "FiltrationExtractor: processing 1/test/filtrations/6/HeightFiltrartion_-1_-1/red, do_fit = False, filtration = HeightFiltration(direction=array([-1, -1]), n_jobs=-1)\n",
      "Got the result from ./1/test/filtrations/6/HeightFiltrartion_-1_-1/red/diagrams.npy\n",
      "Applying Scaler to persistence diagrams.\n",
      "Got the result from ./1/test/filtrations/6/HeightFiltrartion_-1_-1/red/features.npy\n",
      "FiltrationExtractor: processing 1/test/filtrations/6/HeightFiltrartion_-1_-1/green, do_fit = False, filtration = HeightFiltration(direction=array([-1, -1]), n_jobs=-1)\n",
      "Got the result from ./1/test/filtrations/6/HeightFiltrartion_-1_-1/green/diagrams.npy\n",
      "Applying Scaler to persistence diagrams.\n",
      "Got the result from ./1/test/filtrations/6/HeightFiltrartion_-1_-1/green/features.npy\n",
      "FiltrationExtractor: processing 1/test/filtrations/6/HeightFiltrartion_-1_-1/blue, do_fit = False, filtration = HeightFiltration(direction=array([-1, -1]), n_jobs=-1)\n",
      "Got the result from ./1/test/filtrations/6/HeightFiltrartion_-1_-1/blue/diagrams.npy\n",
      "Applying Scaler to persistence diagrams.\n",
      "Got the result from ./1/test/filtrations/6/HeightFiltrartion_-1_-1/blue/features.npy\n",
      "Applying filtration 50/72: HeightFiltration with d = (-1, 0), bin. thr. = 0.6\n",
      "RGB images received. Transforming to grayscale.\n"
     ]
    },
    {
     "name": "stderr",
     "output_type": "stream",
     "text": [
      "rgb2gray: 100%|██████████| 12630/12630 [00:02<00:00, 4706.75it/s]\n"
     ]
    },
    {
     "name": "stdout",
     "output_type": "stream",
     "text": [
      "FiltrationExtractor: processing 1/test/filtrations/6/HeightFiltrartion_-1_0/gray, do_fit = False, filtration = HeightFiltration(direction=array([-1,  0]), n_jobs=-1)\n",
      "Got the result from ./1/test/filtrations/6/HeightFiltrartion_-1_0/gray/diagrams.npy\n",
      "Applying Scaler to persistence diagrams.\n",
      "Got the result from ./1/test/filtrations/6/HeightFiltrartion_-1_0/gray/features.npy\n",
      "FiltrationExtractor: processing 1/test/filtrations/6/HeightFiltrartion_-1_0/red, do_fit = False, filtration = HeightFiltration(direction=array([-1,  0]), n_jobs=-1)\n",
      "Got the result from ./1/test/filtrations/6/HeightFiltrartion_-1_0/red/diagrams.npy\n",
      "Applying Scaler to persistence diagrams.\n",
      "Got the result from ./1/test/filtrations/6/HeightFiltrartion_-1_0/red/features.npy\n",
      "FiltrationExtractor: processing 1/test/filtrations/6/HeightFiltrartion_-1_0/green, do_fit = False, filtration = HeightFiltration(direction=array([-1,  0]), n_jobs=-1)\n",
      "Got the result from ./1/test/filtrations/6/HeightFiltrartion_-1_0/green/diagrams.npy\n",
      "Applying Scaler to persistence diagrams.\n",
      "Got the result from ./1/test/filtrations/6/HeightFiltrartion_-1_0/green/features.npy\n",
      "FiltrationExtractor: processing 1/test/filtrations/6/HeightFiltrartion_-1_0/blue, do_fit = False, filtration = HeightFiltration(direction=array([-1,  0]), n_jobs=-1)\n",
      "Got the result from ./1/test/filtrations/6/HeightFiltrartion_-1_0/blue/diagrams.npy\n",
      "Applying Scaler to persistence diagrams.\n",
      "Got the result from ./1/test/filtrations/6/HeightFiltrartion_-1_0/blue/features.npy\n",
      "Applying filtration 51/72: HeightFiltration with d = (-1, 1), bin. thr. = 0.6\n",
      "RGB images received. Transforming to grayscale.\n"
     ]
    },
    {
     "name": "stderr",
     "output_type": "stream",
     "text": [
      "rgb2gray: 100%|██████████| 12630/12630 [00:02<00:00, 4634.86it/s]\n"
     ]
    },
    {
     "name": "stdout",
     "output_type": "stream",
     "text": [
      "FiltrationExtractor: processing 1/test/filtrations/6/HeightFiltrartion_-1_1/gray, do_fit = False, filtration = HeightFiltration(direction=array([-1,  1]), n_jobs=-1)\n",
      "Got the result from ./1/test/filtrations/6/HeightFiltrartion_-1_1/gray/diagrams.npy\n",
      "Applying Scaler to persistence diagrams.\n",
      "Got the result from ./1/test/filtrations/6/HeightFiltrartion_-1_1/gray/features.npy\n",
      "FiltrationExtractor: processing 1/test/filtrations/6/HeightFiltrartion_-1_1/red, do_fit = False, filtration = HeightFiltration(direction=array([-1,  1]), n_jobs=-1)\n",
      "Got the result from ./1/test/filtrations/6/HeightFiltrartion_-1_1/red/diagrams.npy\n",
      "Applying Scaler to persistence diagrams.\n",
      "Got the result from ./1/test/filtrations/6/HeightFiltrartion_-1_1/red/features.npy\n",
      "FiltrationExtractor: processing 1/test/filtrations/6/HeightFiltrartion_-1_1/green, do_fit = False, filtration = HeightFiltration(direction=array([-1,  1]), n_jobs=-1)\n",
      "Got the result from ./1/test/filtrations/6/HeightFiltrartion_-1_1/green/diagrams.npy\n",
      "Applying Scaler to persistence diagrams.\n",
      "Got the result from ./1/test/filtrations/6/HeightFiltrartion_-1_1/green/features.npy\n",
      "FiltrationExtractor: processing 1/test/filtrations/6/HeightFiltrartion_-1_1/blue, do_fit = False, filtration = HeightFiltration(direction=array([-1,  1]), n_jobs=-1)\n",
      "Got the result from ./1/test/filtrations/6/HeightFiltrartion_-1_1/blue/diagrams.npy\n",
      "Applying Scaler to persistence diagrams.\n",
      "Got the result from ./1/test/filtrations/6/HeightFiltrartion_-1_1/blue/features.npy\n",
      "Applying filtration 52/72: HeightFiltration with d = (0, -1), bin. thr. = 0.6\n",
      "RGB images received. Transforming to grayscale.\n"
     ]
    },
    {
     "name": "stderr",
     "output_type": "stream",
     "text": [
      "rgb2gray: 100%|██████████| 12630/12630 [00:02<00:00, 4734.47it/s]\n"
     ]
    },
    {
     "name": "stdout",
     "output_type": "stream",
     "text": [
      "FiltrationExtractor: processing 1/test/filtrations/6/HeightFiltrartion_0_-1/gray, do_fit = False, filtration = HeightFiltration(direction=array([ 0, -1]), n_jobs=-1)\n",
      "Got the result from ./1/test/filtrations/6/HeightFiltrartion_0_-1/gray/diagrams.npy\n",
      "Applying Scaler to persistence diagrams.\n",
      "Got the result from ./1/test/filtrations/6/HeightFiltrartion_0_-1/gray/features.npy\n",
      "FiltrationExtractor: processing 1/test/filtrations/6/HeightFiltrartion_0_-1/red, do_fit = False, filtration = HeightFiltration(direction=array([ 0, -1]), n_jobs=-1)\n",
      "Got the result from ./1/test/filtrations/6/HeightFiltrartion_0_-1/red/diagrams.npy\n",
      "Applying Scaler to persistence diagrams.\n",
      "Got the result from ./1/test/filtrations/6/HeightFiltrartion_0_-1/red/features.npy\n",
      "FiltrationExtractor: processing 1/test/filtrations/6/HeightFiltrartion_0_-1/green, do_fit = False, filtration = HeightFiltration(direction=array([ 0, -1]), n_jobs=-1)\n",
      "Got the result from ./1/test/filtrations/6/HeightFiltrartion_0_-1/green/diagrams.npy\n",
      "Applying Scaler to persistence diagrams.\n",
      "Got the result from ./1/test/filtrations/6/HeightFiltrartion_0_-1/green/features.npy\n",
      "FiltrationExtractor: processing 1/test/filtrations/6/HeightFiltrartion_0_-1/blue, do_fit = False, filtration = HeightFiltration(direction=array([ 0, -1]), n_jobs=-1)\n",
      "Got the result from ./1/test/filtrations/6/HeightFiltrartion_0_-1/blue/diagrams.npy\n",
      "Applying Scaler to persistence diagrams.\n",
      "Got the result from ./1/test/filtrations/6/HeightFiltrartion_0_-1/blue/features.npy\n",
      "Applying filtration 53/72: HeightFiltration with d = (0, 1), bin. thr. = 0.6\n",
      "RGB images received. Transforming to grayscale.\n"
     ]
    },
    {
     "name": "stderr",
     "output_type": "stream",
     "text": [
      "rgb2gray: 100%|██████████| 12630/12630 [00:02<00:00, 4667.41it/s]\n"
     ]
    },
    {
     "name": "stdout",
     "output_type": "stream",
     "text": [
      "FiltrationExtractor: processing 1/test/filtrations/6/HeightFiltrartion_0_1/gray, do_fit = False, filtration = HeightFiltration(direction=array([0, 1]), n_jobs=-1)\n",
      "Got the result from ./1/test/filtrations/6/HeightFiltrartion_0_1/gray/diagrams.npy\n",
      "Applying Scaler to persistence diagrams.\n",
      "Got the result from ./1/test/filtrations/6/HeightFiltrartion_0_1/gray/features.npy\n",
      "FiltrationExtractor: processing 1/test/filtrations/6/HeightFiltrartion_0_1/red, do_fit = False, filtration = HeightFiltration(direction=array([0, 1]), n_jobs=-1)\n",
      "Got the result from ./1/test/filtrations/6/HeightFiltrartion_0_1/red/diagrams.npy\n",
      "Applying Scaler to persistence diagrams.\n",
      "Got the result from ./1/test/filtrations/6/HeightFiltrartion_0_1/red/features.npy\n",
      "FiltrationExtractor: processing 1/test/filtrations/6/HeightFiltrartion_0_1/green, do_fit = False, filtration = HeightFiltration(direction=array([0, 1]), n_jobs=-1)\n",
      "Got the result from ./1/test/filtrations/6/HeightFiltrartion_0_1/green/diagrams.npy\n",
      "Applying Scaler to persistence diagrams.\n",
      "Got the result from ./1/test/filtrations/6/HeightFiltrartion_0_1/green/features.npy\n",
      "FiltrationExtractor: processing 1/test/filtrations/6/HeightFiltrartion_0_1/blue, do_fit = False, filtration = HeightFiltration(direction=array([0, 1]), n_jobs=-1)\n",
      "Got the result from ./1/test/filtrations/6/HeightFiltrartion_0_1/blue/diagrams.npy\n",
      "Applying Scaler to persistence diagrams.\n",
      "Got the result from ./1/test/filtrations/6/HeightFiltrartion_0_1/blue/features.npy\n",
      "Applying filtration 54/72: HeightFiltration with d = (1, -1), bin. thr. = 0.6\n",
      "RGB images received. Transforming to grayscale.\n"
     ]
    },
    {
     "name": "stderr",
     "output_type": "stream",
     "text": [
      "rgb2gray: 100%|██████████| 12630/12630 [00:02<00:00, 4669.81it/s]\n"
     ]
    },
    {
     "name": "stdout",
     "output_type": "stream",
     "text": [
      "FiltrationExtractor: processing 1/test/filtrations/6/HeightFiltrartion_1_-1/gray, do_fit = False, filtration = HeightFiltration(direction=array([ 1, -1]), n_jobs=-1)\n",
      "Got the result from ./1/test/filtrations/6/HeightFiltrartion_1_-1/gray/diagrams.npy\n",
      "Applying Scaler to persistence diagrams.\n",
      "Got the result from ./1/test/filtrations/6/HeightFiltrartion_1_-1/gray/features.npy\n",
      "FiltrationExtractor: processing 1/test/filtrations/6/HeightFiltrartion_1_-1/red, do_fit = False, filtration = HeightFiltration(direction=array([ 1, -1]), n_jobs=-1)\n",
      "Got the result from ./1/test/filtrations/6/HeightFiltrartion_1_-1/red/diagrams.npy\n",
      "Applying Scaler to persistence diagrams.\n",
      "Got the result from ./1/test/filtrations/6/HeightFiltrartion_1_-1/red/features.npy\n",
      "FiltrationExtractor: processing 1/test/filtrations/6/HeightFiltrartion_1_-1/green, do_fit = False, filtration = HeightFiltration(direction=array([ 1, -1]), n_jobs=-1)\n",
      "Got the result from ./1/test/filtrations/6/HeightFiltrartion_1_-1/green/diagrams.npy\n",
      "Applying Scaler to persistence diagrams.\n",
      "Got the result from ./1/test/filtrations/6/HeightFiltrartion_1_-1/green/features.npy\n",
      "FiltrationExtractor: processing 1/test/filtrations/6/HeightFiltrartion_1_-1/blue, do_fit = False, filtration = HeightFiltration(direction=array([ 1, -1]), n_jobs=-1)\n",
      "Got the result from ./1/test/filtrations/6/HeightFiltrartion_1_-1/blue/diagrams.npy\n",
      "Applying Scaler to persistence diagrams.\n",
      "Got the result from ./1/test/filtrations/6/HeightFiltrartion_1_-1/blue/features.npy\n",
      "Applying filtration 55/72: HeightFiltration with d = (1, 0), bin. thr. = 0.6\n",
      "RGB images received. Transforming to grayscale.\n"
     ]
    },
    {
     "name": "stderr",
     "output_type": "stream",
     "text": [
      "rgb2gray: 100%|██████████| 12630/12630 [00:02<00:00, 4696.24it/s]\n"
     ]
    },
    {
     "name": "stdout",
     "output_type": "stream",
     "text": [
      "FiltrationExtractor: processing 1/test/filtrations/6/HeightFiltrartion_1_0/gray, do_fit = False, filtration = HeightFiltration(direction=array([1, 0]), n_jobs=-1)\n",
      "Got the result from ./1/test/filtrations/6/HeightFiltrartion_1_0/gray/diagrams.npy\n",
      "Applying Scaler to persistence diagrams.\n",
      "Got the result from ./1/test/filtrations/6/HeightFiltrartion_1_0/gray/features.npy\n",
      "FiltrationExtractor: processing 1/test/filtrations/6/HeightFiltrartion_1_0/red, do_fit = False, filtration = HeightFiltration(direction=array([1, 0]), n_jobs=-1)\n",
      "Got the result from ./1/test/filtrations/6/HeightFiltrartion_1_0/red/diagrams.npy\n",
      "Applying Scaler to persistence diagrams.\n",
      "Got the result from ./1/test/filtrations/6/HeightFiltrartion_1_0/red/features.npy\n",
      "FiltrationExtractor: processing 1/test/filtrations/6/HeightFiltrartion_1_0/green, do_fit = False, filtration = HeightFiltration(direction=array([1, 0]), n_jobs=-1)\n",
      "Got the result from ./1/test/filtrations/6/HeightFiltrartion_1_0/green/diagrams.npy\n",
      "Applying Scaler to persistence diagrams.\n",
      "Got the result from ./1/test/filtrations/6/HeightFiltrartion_1_0/green/features.npy\n",
      "FiltrationExtractor: processing 1/test/filtrations/6/HeightFiltrartion_1_0/blue, do_fit = False, filtration = HeightFiltration(direction=array([1, 0]), n_jobs=-1)\n",
      "Got the result from ./1/test/filtrations/6/HeightFiltrartion_1_0/blue/diagrams.npy\n",
      "Applying Scaler to persistence diagrams.\n",
      "Got the result from ./1/test/filtrations/6/HeightFiltrartion_1_0/blue/features.npy\n",
      "Applying filtration 56/72: HeightFiltration with d = (1, 1), bin. thr. = 0.6\n",
      "RGB images received. Transforming to grayscale.\n"
     ]
    },
    {
     "name": "stderr",
     "output_type": "stream",
     "text": [
      "rgb2gray: 100%|██████████| 12630/12630 [00:02<00:00, 4532.55it/s]\n"
     ]
    },
    {
     "name": "stdout",
     "output_type": "stream",
     "text": [
      "FiltrationExtractor: processing 1/test/filtrations/6/HeightFiltrartion_1_1/gray, do_fit = False, filtration = HeightFiltration(direction=array([1, 1]), n_jobs=-1)\n",
      "Got the result from ./1/test/filtrations/6/HeightFiltrartion_1_1/gray/diagrams.npy\n",
      "Applying Scaler to persistence diagrams.\n",
      "Got the result from ./1/test/filtrations/6/HeightFiltrartion_1_1/gray/features.npy\n",
      "FiltrationExtractor: processing 1/test/filtrations/6/HeightFiltrartion_1_1/red, do_fit = False, filtration = HeightFiltration(direction=array([1, 1]), n_jobs=-1)\n",
      "Got the result from ./1/test/filtrations/6/HeightFiltrartion_1_1/red/diagrams.npy\n",
      "Applying Scaler to persistence diagrams.\n",
      "Got the result from ./1/test/filtrations/6/HeightFiltrartion_1_1/red/features.npy\n",
      "FiltrationExtractor: processing 1/test/filtrations/6/HeightFiltrartion_1_1/green, do_fit = False, filtration = HeightFiltration(direction=array([1, 1]), n_jobs=-1)\n",
      "Got the result from ./1/test/filtrations/6/HeightFiltrartion_1_1/green/diagrams.npy\n",
      "Applying Scaler to persistence diagrams.\n",
      "Got the result from ./1/test/filtrations/6/HeightFiltrartion_1_1/green/features.npy\n",
      "FiltrationExtractor: processing 1/test/filtrations/6/HeightFiltrartion_1_1/blue, do_fit = False, filtration = HeightFiltration(direction=array([1, 1]), n_jobs=-1)\n",
      "Got the result from ./1/test/filtrations/6/HeightFiltrartion_1_1/blue/diagrams.npy\n",
      "Applying Scaler to persistence diagrams.\n",
      "Got the result from ./1/test/filtrations/6/HeightFiltrartion_1_1/blue/features.npy\n",
      "Applying filtration 57/72: RadialFiltration with c = (12, 12), bin. thr. = 0.6\n",
      "RGB images received. Transforming to grayscale.\n"
     ]
    },
    {
     "name": "stderr",
     "output_type": "stream",
     "text": [
      "rgb2gray: 100%|██████████| 12630/12630 [00:02<00:00, 4714.45it/s]\n"
     ]
    },
    {
     "name": "stdout",
     "output_type": "stream",
     "text": [
      "FiltrationExtractor: processing 1/test/filtrations/6/RadialFiltration_12_12/gray, do_fit = False, filtration = RadialFiltration(center=array([12, 12]), n_jobs=-1)\n",
      "Got the result from ./1/test/filtrations/6/RadialFiltration_12_12/gray/diagrams.npy\n",
      "Applying Scaler to persistence diagrams.\n",
      "Got the result from ./1/test/filtrations/6/RadialFiltration_12_12/gray/features.npy\n",
      "FiltrationExtractor: processing 1/test/filtrations/6/RadialFiltration_12_12/red, do_fit = False, filtration = RadialFiltration(center=array([12, 12]), n_jobs=-1)\n",
      "Got the result from ./1/test/filtrations/6/RadialFiltration_12_12/red/diagrams.npy\n",
      "Applying Scaler to persistence diagrams.\n",
      "Got the result from ./1/test/filtrations/6/RadialFiltration_12_12/red/features.npy\n",
      "FiltrationExtractor: processing 1/test/filtrations/6/RadialFiltration_12_12/green, do_fit = False, filtration = RadialFiltration(center=array([12, 12]), n_jobs=-1)\n",
      "Got the result from ./1/test/filtrations/6/RadialFiltration_12_12/green/diagrams.npy\n",
      "Applying Scaler to persistence diagrams.\n",
      "Got the result from ./1/test/filtrations/6/RadialFiltration_12_12/green/features.npy\n",
      "FiltrationExtractor: processing 1/test/filtrations/6/RadialFiltration_12_12/blue, do_fit = False, filtration = RadialFiltration(center=array([12, 12]), n_jobs=-1)\n",
      "Got the result from ./1/test/filtrations/6/RadialFiltration_12_12/blue/diagrams.npy\n",
      "Applying Scaler to persistence diagrams.\n",
      "Got the result from ./1/test/filtrations/6/RadialFiltration_12_12/blue/features.npy\n",
      "Applying filtration 58/72: RadialFiltration with c = (12, 25), bin. thr. = 0.6\n",
      "RGB images received. Transforming to grayscale.\n"
     ]
    },
    {
     "name": "stderr",
     "output_type": "stream",
     "text": [
      "rgb2gray: 100%|██████████| 12630/12630 [00:02<00:00, 4710.04it/s]\n"
     ]
    },
    {
     "name": "stdout",
     "output_type": "stream",
     "text": [
      "FiltrationExtractor: processing 1/test/filtrations/6/RadialFiltration_12_25/gray, do_fit = False, filtration = RadialFiltration(center=array([12, 25]), n_jobs=-1)\n",
      "Got the result from ./1/test/filtrations/6/RadialFiltration_12_25/gray/diagrams.npy\n",
      "Applying Scaler to persistence diagrams.\n",
      "Got the result from ./1/test/filtrations/6/RadialFiltration_12_25/gray/features.npy\n",
      "FiltrationExtractor: processing 1/test/filtrations/6/RadialFiltration_12_25/red, do_fit = False, filtration = RadialFiltration(center=array([12, 25]), n_jobs=-1)\n",
      "Got the result from ./1/test/filtrations/6/RadialFiltration_12_25/red/diagrams.npy\n",
      "Applying Scaler to persistence diagrams.\n",
      "Got the result from ./1/test/filtrations/6/RadialFiltration_12_25/red/features.npy\n",
      "FiltrationExtractor: processing 1/test/filtrations/6/RadialFiltration_12_25/green, do_fit = False, filtration = RadialFiltration(center=array([12, 25]), n_jobs=-1)\n",
      "Got the result from ./1/test/filtrations/6/RadialFiltration_12_25/green/diagrams.npy\n",
      "Applying Scaler to persistence diagrams.\n",
      "Got the result from ./1/test/filtrations/6/RadialFiltration_12_25/green/features.npy\n",
      "FiltrationExtractor: processing 1/test/filtrations/6/RadialFiltration_12_25/blue, do_fit = False, filtration = RadialFiltration(center=array([12, 25]), n_jobs=-1)\n",
      "Got the result from ./1/test/filtrations/6/RadialFiltration_12_25/blue/diagrams.npy\n",
      "Applying Scaler to persistence diagrams.\n",
      "Got the result from ./1/test/filtrations/6/RadialFiltration_12_25/blue/features.npy\n",
      "Applying filtration 59/72: RadialFiltration with c = (12, 38), bin. thr. = 0.6\n",
      "RGB images received. Transforming to grayscale.\n"
     ]
    },
    {
     "name": "stderr",
     "output_type": "stream",
     "text": [
      "rgb2gray: 100%|██████████| 12630/12630 [00:02<00:00, 4670.64it/s]\n"
     ]
    },
    {
     "name": "stdout",
     "output_type": "stream",
     "text": [
      "FiltrationExtractor: processing 1/test/filtrations/6/RadialFiltration_12_38/gray, do_fit = False, filtration = RadialFiltration(center=array([12, 38]), n_jobs=-1)\n",
      "Got the result from ./1/test/filtrations/6/RadialFiltration_12_38/gray/diagrams.npy\n",
      "Applying Scaler to persistence diagrams.\n",
      "Got the result from ./1/test/filtrations/6/RadialFiltration_12_38/gray/features.npy\n",
      "FiltrationExtractor: processing 1/test/filtrations/6/RadialFiltration_12_38/red, do_fit = False, filtration = RadialFiltration(center=array([12, 38]), n_jobs=-1)\n",
      "Got the result from ./1/test/filtrations/6/RadialFiltration_12_38/red/diagrams.npy\n",
      "Applying Scaler to persistence diagrams.\n",
      "Got the result from ./1/test/filtrations/6/RadialFiltration_12_38/red/features.npy\n",
      "FiltrationExtractor: processing 1/test/filtrations/6/RadialFiltration_12_38/green, do_fit = False, filtration = RadialFiltration(center=array([12, 38]), n_jobs=-1)\n",
      "Got the result from ./1/test/filtrations/6/RadialFiltration_12_38/green/diagrams.npy\n",
      "Applying Scaler to persistence diagrams.\n",
      "Got the result from ./1/test/filtrations/6/RadialFiltration_12_38/green/features.npy\n",
      "FiltrationExtractor: processing 1/test/filtrations/6/RadialFiltration_12_38/blue, do_fit = False, filtration = RadialFiltration(center=array([12, 38]), n_jobs=-1)\n",
      "Got the result from ./1/test/filtrations/6/RadialFiltration_12_38/blue/diagrams.npy\n",
      "Applying Scaler to persistence diagrams.\n",
      "Got the result from ./1/test/filtrations/6/RadialFiltration_12_38/blue/features.npy\n",
      "Applying filtration 60/72: RadialFiltration with c = (12, 51), bin. thr. = 0.6\n",
      "RGB images received. Transforming to grayscale.\n"
     ]
    },
    {
     "name": "stderr",
     "output_type": "stream",
     "text": [
      "rgb2gray: 100%|██████████| 12630/12630 [00:02<00:00, 4486.19it/s]\n"
     ]
    },
    {
     "name": "stdout",
     "output_type": "stream",
     "text": [
      "FiltrationExtractor: processing 1/test/filtrations/6/RadialFiltration_12_51/gray, do_fit = False, filtration = RadialFiltration(center=array([12, 51]), n_jobs=-1)\n",
      "Got the result from ./1/test/filtrations/6/RadialFiltration_12_51/gray/diagrams.npy\n",
      "Applying Scaler to persistence diagrams.\n",
      "Got the result from ./1/test/filtrations/6/RadialFiltration_12_51/gray/features.npy\n",
      "FiltrationExtractor: processing 1/test/filtrations/6/RadialFiltration_12_51/red, do_fit = False, filtration = RadialFiltration(center=array([12, 51]), n_jobs=-1)\n",
      "Got the result from ./1/test/filtrations/6/RadialFiltration_12_51/red/diagrams.npy\n",
      "Applying Scaler to persistence diagrams.\n",
      "Got the result from ./1/test/filtrations/6/RadialFiltration_12_51/red/features.npy\n",
      "FiltrationExtractor: processing 1/test/filtrations/6/RadialFiltration_12_51/green, do_fit = False, filtration = RadialFiltration(center=array([12, 51]), n_jobs=-1)\n",
      "Got the result from ./1/test/filtrations/6/RadialFiltration_12_51/green/diagrams.npy\n",
      "Applying Scaler to persistence diagrams.\n",
      "Got the result from ./1/test/filtrations/6/RadialFiltration_12_51/green/features.npy\n",
      "FiltrationExtractor: processing 1/test/filtrations/6/RadialFiltration_12_51/blue, do_fit = False, filtration = RadialFiltration(center=array([12, 51]), n_jobs=-1)\n",
      "Got the result from ./1/test/filtrations/6/RadialFiltration_12_51/blue/diagrams.npy\n",
      "Applying Scaler to persistence diagrams.\n",
      "Got the result from ./1/test/filtrations/6/RadialFiltration_12_51/blue/features.npy\n",
      "Applying filtration 61/72: RadialFiltration with c = (25, 12), bin. thr. = 0.6\n",
      "RGB images received. Transforming to grayscale.\n"
     ]
    },
    {
     "name": "stderr",
     "output_type": "stream",
     "text": [
      "rgb2gray: 100%|██████████| 12630/12630 [00:02<00:00, 4657.08it/s]\n"
     ]
    },
    {
     "name": "stdout",
     "output_type": "stream",
     "text": [
      "FiltrationExtractor: processing 1/test/filtrations/6/RadialFiltration_25_12/gray, do_fit = False, filtration = RadialFiltration(center=array([25, 12]), n_jobs=-1)\n",
      "Got the result from ./1/test/filtrations/6/RadialFiltration_25_12/gray/diagrams.npy\n",
      "Applying Scaler to persistence diagrams.\n",
      "Got the result from ./1/test/filtrations/6/RadialFiltration_25_12/gray/features.npy\n",
      "FiltrationExtractor: processing 1/test/filtrations/6/RadialFiltration_25_12/red, do_fit = False, filtration = RadialFiltration(center=array([25, 12]), n_jobs=-1)\n",
      "Got the result from ./1/test/filtrations/6/RadialFiltration_25_12/red/diagrams.npy\n",
      "Applying Scaler to persistence diagrams.\n",
      "Got the result from ./1/test/filtrations/6/RadialFiltration_25_12/red/features.npy\n",
      "FiltrationExtractor: processing 1/test/filtrations/6/RadialFiltration_25_12/green, do_fit = False, filtration = RadialFiltration(center=array([25, 12]), n_jobs=-1)\n",
      "Got the result from ./1/test/filtrations/6/RadialFiltration_25_12/green/diagrams.npy\n",
      "Applying Scaler to persistence diagrams.\n",
      "Got the result from ./1/test/filtrations/6/RadialFiltration_25_12/green/features.npy\n",
      "FiltrationExtractor: processing 1/test/filtrations/6/RadialFiltration_25_12/blue, do_fit = False, filtration = RadialFiltration(center=array([25, 12]), n_jobs=-1)\n",
      "Got the result from ./1/test/filtrations/6/RadialFiltration_25_12/blue/diagrams.npy\n",
      "Applying Scaler to persistence diagrams.\n",
      "Got the result from ./1/test/filtrations/6/RadialFiltration_25_12/blue/features.npy\n",
      "Applying filtration 62/72: RadialFiltration with c = (25, 25), bin. thr. = 0.6\n",
      "RGB images received. Transforming to grayscale.\n"
     ]
    },
    {
     "name": "stderr",
     "output_type": "stream",
     "text": [
      "rgb2gray: 100%|██████████| 12630/12630 [00:02<00:00, 4645.16it/s]\n"
     ]
    },
    {
     "name": "stdout",
     "output_type": "stream",
     "text": [
      "FiltrationExtractor: processing 1/test/filtrations/6/RadialFiltration_25_25/gray, do_fit = False, filtration = RadialFiltration(center=array([25, 25]), n_jobs=-1)\n",
      "Got the result from ./1/test/filtrations/6/RadialFiltration_25_25/gray/diagrams.npy\n",
      "Applying Scaler to persistence diagrams.\n",
      "Got the result from ./1/test/filtrations/6/RadialFiltration_25_25/gray/features.npy\n",
      "FiltrationExtractor: processing 1/test/filtrations/6/RadialFiltration_25_25/red, do_fit = False, filtration = RadialFiltration(center=array([25, 25]), n_jobs=-1)\n",
      "Got the result from ./1/test/filtrations/6/RadialFiltration_25_25/red/diagrams.npy\n",
      "Applying Scaler to persistence diagrams.\n",
      "Got the result from ./1/test/filtrations/6/RadialFiltration_25_25/red/features.npy\n",
      "FiltrationExtractor: processing 1/test/filtrations/6/RadialFiltration_25_25/green, do_fit = False, filtration = RadialFiltration(center=array([25, 25]), n_jobs=-1)\n",
      "Got the result from ./1/test/filtrations/6/RadialFiltration_25_25/green/diagrams.npy\n",
      "Applying Scaler to persistence diagrams.\n",
      "Got the result from ./1/test/filtrations/6/RadialFiltration_25_25/green/features.npy\n",
      "FiltrationExtractor: processing 1/test/filtrations/6/RadialFiltration_25_25/blue, do_fit = False, filtration = RadialFiltration(center=array([25, 25]), n_jobs=-1)\n",
      "Got the result from ./1/test/filtrations/6/RadialFiltration_25_25/blue/diagrams.npy\n",
      "Applying Scaler to persistence diagrams.\n",
      "Got the result from ./1/test/filtrations/6/RadialFiltration_25_25/blue/features.npy\n",
      "Applying filtration 63/72: RadialFiltration with c = (25, 38), bin. thr. = 0.6\n",
      "RGB images received. Transforming to grayscale.\n"
     ]
    },
    {
     "name": "stderr",
     "output_type": "stream",
     "text": [
      "rgb2gray: 100%|██████████| 12630/12630 [00:02<00:00, 4642.52it/s]\n"
     ]
    },
    {
     "name": "stdout",
     "output_type": "stream",
     "text": [
      "FiltrationExtractor: processing 1/test/filtrations/6/RadialFiltration_25_38/gray, do_fit = False, filtration = RadialFiltration(center=array([25, 38]), n_jobs=-1)\n",
      "Got the result from ./1/test/filtrations/6/RadialFiltration_25_38/gray/diagrams.npy\n",
      "Applying Scaler to persistence diagrams.\n",
      "Got the result from ./1/test/filtrations/6/RadialFiltration_25_38/gray/features.npy\n",
      "FiltrationExtractor: processing 1/test/filtrations/6/RadialFiltration_25_38/red, do_fit = False, filtration = RadialFiltration(center=array([25, 38]), n_jobs=-1)\n",
      "Got the result from ./1/test/filtrations/6/RadialFiltration_25_38/red/diagrams.npy\n",
      "Applying Scaler to persistence diagrams.\n",
      "Got the result from ./1/test/filtrations/6/RadialFiltration_25_38/red/features.npy\n",
      "FiltrationExtractor: processing 1/test/filtrations/6/RadialFiltration_25_38/green, do_fit = False, filtration = RadialFiltration(center=array([25, 38]), n_jobs=-1)\n",
      "Got the result from ./1/test/filtrations/6/RadialFiltration_25_38/green/diagrams.npy\n",
      "Applying Scaler to persistence diagrams.\n",
      "Got the result from ./1/test/filtrations/6/RadialFiltration_25_38/green/features.npy\n",
      "FiltrationExtractor: processing 1/test/filtrations/6/RadialFiltration_25_38/blue, do_fit = False, filtration = RadialFiltration(center=array([25, 38]), n_jobs=-1)\n",
      "Got the result from ./1/test/filtrations/6/RadialFiltration_25_38/blue/diagrams.npy\n",
      "Applying Scaler to persistence diagrams.\n",
      "Got the result from ./1/test/filtrations/6/RadialFiltration_25_38/blue/features.npy\n",
      "Applying filtration 64/72: RadialFiltration with c = (25, 51), bin. thr. = 0.6\n",
      "RGB images received. Transforming to grayscale.\n"
     ]
    },
    {
     "name": "stderr",
     "output_type": "stream",
     "text": [
      "rgb2gray: 100%|██████████| 12630/12630 [00:02<00:00, 4464.42it/s]\n"
     ]
    },
    {
     "name": "stdout",
     "output_type": "stream",
     "text": [
      "FiltrationExtractor: processing 1/test/filtrations/6/RadialFiltration_25_51/gray, do_fit = False, filtration = RadialFiltration(center=array([25, 51]), n_jobs=-1)\n",
      "Got the result from ./1/test/filtrations/6/RadialFiltration_25_51/gray/diagrams.npy\n",
      "Applying Scaler to persistence diagrams.\n",
      "Got the result from ./1/test/filtrations/6/RadialFiltration_25_51/gray/features.npy\n",
      "FiltrationExtractor: processing 1/test/filtrations/6/RadialFiltration_25_51/red, do_fit = False, filtration = RadialFiltration(center=array([25, 51]), n_jobs=-1)\n",
      "Got the result from ./1/test/filtrations/6/RadialFiltration_25_51/red/diagrams.npy\n",
      "Applying Scaler to persistence diagrams.\n",
      "Got the result from ./1/test/filtrations/6/RadialFiltration_25_51/red/features.npy\n",
      "FiltrationExtractor: processing 1/test/filtrations/6/RadialFiltration_25_51/green, do_fit = False, filtration = RadialFiltration(center=array([25, 51]), n_jobs=-1)\n",
      "Got the result from ./1/test/filtrations/6/RadialFiltration_25_51/green/diagrams.npy\n",
      "Applying Scaler to persistence diagrams.\n",
      "Got the result from ./1/test/filtrations/6/RadialFiltration_25_51/green/features.npy\n",
      "FiltrationExtractor: processing 1/test/filtrations/6/RadialFiltration_25_51/blue, do_fit = False, filtration = RadialFiltration(center=array([25, 51]), n_jobs=-1)\n",
      "Got the result from ./1/test/filtrations/6/RadialFiltration_25_51/blue/diagrams.npy\n",
      "Applying Scaler to persistence diagrams.\n",
      "Got the result from ./1/test/filtrations/6/RadialFiltration_25_51/blue/features.npy\n",
      "Applying filtration 65/72: RadialFiltration with c = (38, 12), bin. thr. = 0.6\n",
      "RGB images received. Transforming to grayscale.\n"
     ]
    },
    {
     "name": "stderr",
     "output_type": "stream",
     "text": [
      "rgb2gray: 100%|██████████| 12630/12630 [00:02<00:00, 4614.54it/s]\n"
     ]
    },
    {
     "name": "stdout",
     "output_type": "stream",
     "text": [
      "FiltrationExtractor: processing 1/test/filtrations/6/RadialFiltration_38_12/gray, do_fit = False, filtration = RadialFiltration(center=array([38, 12]), n_jobs=-1)\n",
      "Got the result from ./1/test/filtrations/6/RadialFiltration_38_12/gray/diagrams.npy\n",
      "Applying Scaler to persistence diagrams.\n",
      "Got the result from ./1/test/filtrations/6/RadialFiltration_38_12/gray/features.npy\n",
      "FiltrationExtractor: processing 1/test/filtrations/6/RadialFiltration_38_12/red, do_fit = False, filtration = RadialFiltration(center=array([38, 12]), n_jobs=-1)\n",
      "Got the result from ./1/test/filtrations/6/RadialFiltration_38_12/red/diagrams.npy\n",
      "Applying Scaler to persistence diagrams.\n",
      "Got the result from ./1/test/filtrations/6/RadialFiltration_38_12/red/features.npy\n",
      "FiltrationExtractor: processing 1/test/filtrations/6/RadialFiltration_38_12/green, do_fit = False, filtration = RadialFiltration(center=array([38, 12]), n_jobs=-1)\n",
      "Got the result from ./1/test/filtrations/6/RadialFiltration_38_12/green/diagrams.npy\n",
      "Applying Scaler to persistence diagrams.\n",
      "Got the result from ./1/test/filtrations/6/RadialFiltration_38_12/green/features.npy\n",
      "FiltrationExtractor: processing 1/test/filtrations/6/RadialFiltration_38_12/blue, do_fit = False, filtration = RadialFiltration(center=array([38, 12]), n_jobs=-1)\n",
      "Got the result from ./1/test/filtrations/6/RadialFiltration_38_12/blue/diagrams.npy\n",
      "Applying Scaler to persistence diagrams.\n",
      "Got the result from ./1/test/filtrations/6/RadialFiltration_38_12/blue/features.npy\n",
      "Applying filtration 66/72: RadialFiltration with c = (38, 25), bin. thr. = 0.6\n",
      "RGB images received. Transforming to grayscale.\n"
     ]
    },
    {
     "name": "stderr",
     "output_type": "stream",
     "text": [
      "rgb2gray: 100%|██████████| 12630/12630 [00:02<00:00, 4657.93it/s]\n"
     ]
    },
    {
     "name": "stdout",
     "output_type": "stream",
     "text": [
      "FiltrationExtractor: processing 1/test/filtrations/6/RadialFiltration_38_25/gray, do_fit = False, filtration = RadialFiltration(center=array([38, 25]), n_jobs=-1)\n",
      "Got the result from ./1/test/filtrations/6/RadialFiltration_38_25/gray/diagrams.npy\n",
      "Applying Scaler to persistence diagrams.\n",
      "Got the result from ./1/test/filtrations/6/RadialFiltration_38_25/gray/features.npy\n",
      "FiltrationExtractor: processing 1/test/filtrations/6/RadialFiltration_38_25/red, do_fit = False, filtration = RadialFiltration(center=array([38, 25]), n_jobs=-1)\n",
      "Got the result from ./1/test/filtrations/6/RadialFiltration_38_25/red/diagrams.npy\n",
      "Applying Scaler to persistence diagrams.\n",
      "Got the result from ./1/test/filtrations/6/RadialFiltration_38_25/red/features.npy\n",
      "FiltrationExtractor: processing 1/test/filtrations/6/RadialFiltration_38_25/green, do_fit = False, filtration = RadialFiltration(center=array([38, 25]), n_jobs=-1)\n",
      "Got the result from ./1/test/filtrations/6/RadialFiltration_38_25/green/diagrams.npy\n",
      "Applying Scaler to persistence diagrams.\n",
      "Got the result from ./1/test/filtrations/6/RadialFiltration_38_25/green/features.npy\n",
      "FiltrationExtractor: processing 1/test/filtrations/6/RadialFiltration_38_25/blue, do_fit = False, filtration = RadialFiltration(center=array([38, 25]), n_jobs=-1)\n",
      "Got the result from ./1/test/filtrations/6/RadialFiltration_38_25/blue/diagrams.npy\n",
      "Applying Scaler to persistence diagrams.\n",
      "Got the result from ./1/test/filtrations/6/RadialFiltration_38_25/blue/features.npy\n",
      "Applying filtration 67/72: RadialFiltration with c = (38, 38), bin. thr. = 0.6\n",
      "RGB images received. Transforming to grayscale.\n"
     ]
    },
    {
     "name": "stderr",
     "output_type": "stream",
     "text": [
      "rgb2gray: 100%|██████████| 12630/12630 [00:02<00:00, 4641.37it/s]\n"
     ]
    },
    {
     "name": "stdout",
     "output_type": "stream",
     "text": [
      "FiltrationExtractor: processing 1/test/filtrations/6/RadialFiltration_38_38/gray, do_fit = False, filtration = RadialFiltration(center=array([38, 38]), n_jobs=-1)\n",
      "Got the result from ./1/test/filtrations/6/RadialFiltration_38_38/gray/diagrams.npy\n",
      "Applying Scaler to persistence diagrams.\n",
      "Got the result from ./1/test/filtrations/6/RadialFiltration_38_38/gray/features.npy\n",
      "FiltrationExtractor: processing 1/test/filtrations/6/RadialFiltration_38_38/red, do_fit = False, filtration = RadialFiltration(center=array([38, 38]), n_jobs=-1)\n",
      "Got the result from ./1/test/filtrations/6/RadialFiltration_38_38/red/diagrams.npy\n",
      "Applying Scaler to persistence diagrams.\n",
      "Got the result from ./1/test/filtrations/6/RadialFiltration_38_38/red/features.npy\n",
      "FiltrationExtractor: processing 1/test/filtrations/6/RadialFiltration_38_38/green, do_fit = False, filtration = RadialFiltration(center=array([38, 38]), n_jobs=-1)\n",
      "Got the result from ./1/test/filtrations/6/RadialFiltration_38_38/green/diagrams.npy\n",
      "Applying Scaler to persistence diagrams.\n",
      "Got the result from ./1/test/filtrations/6/RadialFiltration_38_38/green/features.npy\n",
      "FiltrationExtractor: processing 1/test/filtrations/6/RadialFiltration_38_38/blue, do_fit = False, filtration = RadialFiltration(center=array([38, 38]), n_jobs=-1)\n",
      "Got the result from ./1/test/filtrations/6/RadialFiltration_38_38/blue/diagrams.npy\n",
      "Applying Scaler to persistence diagrams.\n",
      "Got the result from ./1/test/filtrations/6/RadialFiltration_38_38/blue/features.npy\n",
      "Applying filtration 68/72: RadialFiltration with c = (38, 51), bin. thr. = 0.6\n",
      "RGB images received. Transforming to grayscale.\n"
     ]
    },
    {
     "name": "stderr",
     "output_type": "stream",
     "text": [
      "rgb2gray: 100%|██████████| 12630/12630 [00:02<00:00, 4662.93it/s]\n"
     ]
    },
    {
     "name": "stdout",
     "output_type": "stream",
     "text": [
      "FiltrationExtractor: processing 1/test/filtrations/6/RadialFiltration_38_51/gray, do_fit = False, filtration = RadialFiltration(center=array([38, 51]), n_jobs=-1)\n",
      "Got the result from ./1/test/filtrations/6/RadialFiltration_38_51/gray/diagrams.npy\n",
      "Applying Scaler to persistence diagrams.\n",
      "Got the result from ./1/test/filtrations/6/RadialFiltration_38_51/gray/features.npy\n",
      "FiltrationExtractor: processing 1/test/filtrations/6/RadialFiltration_38_51/red, do_fit = False, filtration = RadialFiltration(center=array([38, 51]), n_jobs=-1)\n",
      "Got the result from ./1/test/filtrations/6/RadialFiltration_38_51/red/diagrams.npy\n",
      "Applying Scaler to persistence diagrams.\n",
      "Got the result from ./1/test/filtrations/6/RadialFiltration_38_51/red/features.npy\n",
      "FiltrationExtractor: processing 1/test/filtrations/6/RadialFiltration_38_51/green, do_fit = False, filtration = RadialFiltration(center=array([38, 51]), n_jobs=-1)\n",
      "Got the result from ./1/test/filtrations/6/RadialFiltration_38_51/green/diagrams.npy\n",
      "Applying Scaler to persistence diagrams.\n",
      "Got the result from ./1/test/filtrations/6/RadialFiltration_38_51/green/features.npy\n",
      "FiltrationExtractor: processing 1/test/filtrations/6/RadialFiltration_38_51/blue, do_fit = False, filtration = RadialFiltration(center=array([38, 51]), n_jobs=-1)\n",
      "Got the result from ./1/test/filtrations/6/RadialFiltration_38_51/blue/diagrams.npy\n",
      "Applying Scaler to persistence diagrams.\n",
      "Got the result from ./1/test/filtrations/6/RadialFiltration_38_51/blue/features.npy\n",
      "Applying filtration 69/72: RadialFiltration with c = (51, 12), bin. thr. = 0.6\n",
      "RGB images received. Transforming to grayscale.\n"
     ]
    },
    {
     "name": "stderr",
     "output_type": "stream",
     "text": [
      "rgb2gray: 100%|██████████| 12630/12630 [00:02<00:00, 4480.26it/s]\n"
     ]
    },
    {
     "name": "stdout",
     "output_type": "stream",
     "text": [
      "FiltrationExtractor: processing 1/test/filtrations/6/RadialFiltration_51_12/gray, do_fit = False, filtration = RadialFiltration(center=array([51, 12]), n_jobs=-1)\n",
      "Got the result from ./1/test/filtrations/6/RadialFiltration_51_12/gray/diagrams.npy\n",
      "Applying Scaler to persistence diagrams.\n",
      "Got the result from ./1/test/filtrations/6/RadialFiltration_51_12/gray/features.npy\n",
      "FiltrationExtractor: processing 1/test/filtrations/6/RadialFiltration_51_12/red, do_fit = False, filtration = RadialFiltration(center=array([51, 12]), n_jobs=-1)\n",
      "Got the result from ./1/test/filtrations/6/RadialFiltration_51_12/red/diagrams.npy\n",
      "Applying Scaler to persistence diagrams.\n",
      "Got the result from ./1/test/filtrations/6/RadialFiltration_51_12/red/features.npy\n",
      "FiltrationExtractor: processing 1/test/filtrations/6/RadialFiltration_51_12/green, do_fit = False, filtration = RadialFiltration(center=array([51, 12]), n_jobs=-1)\n",
      "Got the result from ./1/test/filtrations/6/RadialFiltration_51_12/green/diagrams.npy\n",
      "Applying Scaler to persistence diagrams.\n",
      "Got the result from ./1/test/filtrations/6/RadialFiltration_51_12/green/features.npy\n",
      "FiltrationExtractor: processing 1/test/filtrations/6/RadialFiltration_51_12/blue, do_fit = False, filtration = RadialFiltration(center=array([51, 12]), n_jobs=-1)\n",
      "Got the result from ./1/test/filtrations/6/RadialFiltration_51_12/blue/diagrams.npy\n",
      "Applying Scaler to persistence diagrams.\n",
      "Got the result from ./1/test/filtrations/6/RadialFiltration_51_12/blue/features.npy\n",
      "Applying filtration 70/72: RadialFiltration with c = (51, 25), bin. thr. = 0.6\n",
      "RGB images received. Transforming to grayscale.\n"
     ]
    },
    {
     "name": "stderr",
     "output_type": "stream",
     "text": [
      "rgb2gray: 100%|██████████| 12630/12630 [00:02<00:00, 4611.84it/s]\n"
     ]
    },
    {
     "name": "stdout",
     "output_type": "stream",
     "text": [
      "FiltrationExtractor: processing 1/test/filtrations/6/RadialFiltration_51_25/gray, do_fit = False, filtration = RadialFiltration(center=array([51, 25]), n_jobs=-1)\n",
      "Got the result from ./1/test/filtrations/6/RadialFiltration_51_25/gray/diagrams.npy\n",
      "Applying Scaler to persistence diagrams.\n",
      "Got the result from ./1/test/filtrations/6/RadialFiltration_51_25/gray/features.npy\n",
      "FiltrationExtractor: processing 1/test/filtrations/6/RadialFiltration_51_25/red, do_fit = False, filtration = RadialFiltration(center=array([51, 25]), n_jobs=-1)\n",
      "Got the result from ./1/test/filtrations/6/RadialFiltration_51_25/red/diagrams.npy\n",
      "Applying Scaler to persistence diagrams.\n",
      "Got the result from ./1/test/filtrations/6/RadialFiltration_51_25/red/features.npy\n",
      "FiltrationExtractor: processing 1/test/filtrations/6/RadialFiltration_51_25/green, do_fit = False, filtration = RadialFiltration(center=array([51, 25]), n_jobs=-1)\n",
      "Got the result from ./1/test/filtrations/6/RadialFiltration_51_25/green/diagrams.npy\n",
      "Applying Scaler to persistence diagrams.\n",
      "Got the result from ./1/test/filtrations/6/RadialFiltration_51_25/green/features.npy\n",
      "FiltrationExtractor: processing 1/test/filtrations/6/RadialFiltration_51_25/blue, do_fit = False, filtration = RadialFiltration(center=array([51, 25]), n_jobs=-1)\n",
      "Got the result from ./1/test/filtrations/6/RadialFiltration_51_25/blue/diagrams.npy\n",
      "Applying Scaler to persistence diagrams.\n",
      "Got the result from ./1/test/filtrations/6/RadialFiltration_51_25/blue/features.npy\n",
      "Applying filtration 71/72: RadialFiltration with c = (51, 38), bin. thr. = 0.6\n",
      "RGB images received. Transforming to grayscale.\n"
     ]
    },
    {
     "name": "stderr",
     "output_type": "stream",
     "text": [
      "rgb2gray: 100%|██████████| 12630/12630 [00:02<00:00, 4647.80it/s]\n"
     ]
    },
    {
     "name": "stdout",
     "output_type": "stream",
     "text": [
      "FiltrationExtractor: processing 1/test/filtrations/6/RadialFiltration_51_38/gray, do_fit = False, filtration = RadialFiltration(center=array([51, 38]), n_jobs=-1)\n",
      "Got the result from ./1/test/filtrations/6/RadialFiltration_51_38/gray/diagrams.npy\n",
      "Applying Scaler to persistence diagrams.\n",
      "Got the result from ./1/test/filtrations/6/RadialFiltration_51_38/gray/features.npy\n",
      "FiltrationExtractor: processing 1/test/filtrations/6/RadialFiltration_51_38/red, do_fit = False, filtration = RadialFiltration(center=array([51, 38]), n_jobs=-1)\n",
      "Got the result from ./1/test/filtrations/6/RadialFiltration_51_38/red/diagrams.npy\n",
      "Applying Scaler to persistence diagrams.\n",
      "Got the result from ./1/test/filtrations/6/RadialFiltration_51_38/red/features.npy\n",
      "FiltrationExtractor: processing 1/test/filtrations/6/RadialFiltration_51_38/green, do_fit = False, filtration = RadialFiltration(center=array([51, 38]), n_jobs=-1)\n",
      "Got the result from ./1/test/filtrations/6/RadialFiltration_51_38/green/diagrams.npy\n",
      "Applying Scaler to persistence diagrams.\n",
      "Got the result from ./1/test/filtrations/6/RadialFiltration_51_38/green/features.npy\n",
      "FiltrationExtractor: processing 1/test/filtrations/6/RadialFiltration_51_38/blue, do_fit = False, filtration = RadialFiltration(center=array([51, 38]), n_jobs=-1)\n",
      "Got the result from ./1/test/filtrations/6/RadialFiltration_51_38/blue/diagrams.npy\n",
      "Applying Scaler to persistence diagrams.\n",
      "Got the result from ./1/test/filtrations/6/RadialFiltration_51_38/blue/features.npy\n",
      "Applying filtration 72/72: RadialFiltration with c = (51, 51), bin. thr. = 0.6\n",
      "RGB images received. Transforming to grayscale.\n"
     ]
    },
    {
     "name": "stderr",
     "output_type": "stream",
     "text": [
      "rgb2gray: 100%|██████████| 12630/12630 [00:02<00:00, 4657.08it/s]\n"
     ]
    },
    {
     "name": "stdout",
     "output_type": "stream",
     "text": [
      "FiltrationExtractor: processing 1/test/filtrations/6/RadialFiltration_51_51/gray, do_fit = False, filtration = RadialFiltration(center=array([51, 51]), n_jobs=-1)\n",
      "Got the result from ./1/test/filtrations/6/RadialFiltration_51_51/gray/diagrams.npy\n",
      "Applying Scaler to persistence diagrams.\n",
      "Got the result from ./1/test/filtrations/6/RadialFiltration_51_51/gray/features.npy\n",
      "FiltrationExtractor: processing 1/test/filtrations/6/RadialFiltration_51_51/red, do_fit = False, filtration = RadialFiltration(center=array([51, 51]), n_jobs=-1)\n",
      "Got the result from ./1/test/filtrations/6/RadialFiltration_51_51/red/diagrams.npy\n",
      "Applying Scaler to persistence diagrams.\n",
      "Got the result from ./1/test/filtrations/6/RadialFiltration_51_51/red/features.npy\n",
      "FiltrationExtractor: processing 1/test/filtrations/6/RadialFiltration_51_51/green, do_fit = False, filtration = RadialFiltration(center=array([51, 51]), n_jobs=-1)\n",
      "Got the result from ./1/test/filtrations/6/RadialFiltration_51_51/green/diagrams.npy\n",
      "Applying Scaler to persistence diagrams.\n",
      "Got the result from ./1/test/filtrations/6/RadialFiltration_51_51/green/features.npy\n",
      "FiltrationExtractor: processing 1/test/filtrations/6/RadialFiltration_51_51/blue, do_fit = False, filtration = RadialFiltration(center=array([51, 51]), n_jobs=-1)\n",
      "Got the result from ./1/test/filtrations/6/RadialFiltration_51_51/blue/diagrams.npy\n",
      "Applying Scaler to persistence diagrams.\n",
      "Got the result from ./1/test/filtrations/6/RadialFiltration_51_51/blue/features.npy\n",
      "RGB images received. Transforming to grayscale.\n",
      "Got the result from ./1/test/geometry/rgb/features.npy\n"
     ]
    },
    {
     "name": "stderr",
     "output_type": "stream",
     "text": [
      "rgb2gray: 100%|██████████| 12630/12630 [00:02<00:00, 4485.87it/s]\n"
     ]
    },
    {
     "name": "stdout",
     "output_type": "stream",
     "text": [
      "Got the result from ./1/test/geometry/gray/features.npy\n",
      "Got the result from ./1/test/geometry/red/features.npy\n",
      "Got the result from ./1/test/geometry/green/features.npy\n",
      "Got the result from ./1/test/geometry/blue/features.npy\n",
      "Applying StandardScaler.\n"
     ]
    }
   ],
   "source": [
    "import cvtda.topology\n",
    "extractor = cvtda.topology.FeatureExtractor(only_get_from_dump = False, return_diagrams = False)\n",
    "extractor = extractor.fit(train_images, \"1/train\")\n",
    "train_features = extractor.transform(train_images, \"1/train\")\n",
    "test_features = extractor.transform(test_images, \"1/test\")"
   ]
  },
  {
   "cell_type": "code",
   "execution_count": 3,
   "metadata": {},
   "outputs": [
    {
     "name": "stderr",
     "output_type": "stream",
     "text": [
      "information values:   0%|          | 1/57599 [00:08<141:47:40,  8.86s/it]d:\\Programs\\Programming\\Python\\lib\\site-packages\\joblib\\externals\\loky\\process_executor.py:752: UserWarning: A worker stopped while some jobs were given to the executor. This can be caused by a too short worker timeout or by a memory leak.\n",
      "  warnings.warn(\n",
      "information values: 100%|██████████| 57599/57599 [04:51<00:00, 197.80it/s]\n"
     ]
    },
    {
     "data": {
      "text/html": [
       "<div>\n",
       "<style scoped>\n",
       "    .dataframe tbody tr th:only-of-type {\n",
       "        vertical-align: middle;\n",
       "    }\n",
       "\n",
       "    .dataframe tbody tr th {\n",
       "        vertical-align: top;\n",
       "    }\n",
       "\n",
       "    .dataframe thead th {\n",
       "        text-align: right;\n",
       "    }\n",
       "</style>\n",
       "<table border=\"1\" class=\"dataframe\">\n",
       "  <thead>\n",
       "    <tr style=\"text-align: right;\">\n",
       "      <th></th>\n",
       "      <th>IV</th>\n",
       "      <th>feature</th>\n",
       "    </tr>\n",
       "  </thead>\n",
       "  <tbody>\n",
       "    <tr>\n",
       "      <th>0</th>\n",
       "      <td>0.567059</td>\n",
       "      <td>greyscale -&gt; gray -&gt; betti-0</td>\n",
       "    </tr>\n",
       "    <tr>\n",
       "      <th>1</th>\n",
       "      <td>0.567059</td>\n",
       "      <td>greyscale -&gt; gray -&gt; betti-1</td>\n",
       "    </tr>\n",
       "    <tr>\n",
       "      <th>2</th>\n",
       "      <td>0.491292</td>\n",
       "      <td>greyscale -&gt; gray -&gt; betti-2</td>\n",
       "    </tr>\n",
       "    <tr>\n",
       "      <th>3</th>\n",
       "      <td>0.275074</td>\n",
       "      <td>greyscale -&gt; gray -&gt; betti-3</td>\n",
       "    </tr>\n",
       "    <tr>\n",
       "      <th>4</th>\n",
       "      <td>0.472521</td>\n",
       "      <td>greyscale -&gt; gray -&gt; betti-4</td>\n",
       "    </tr>\n",
       "    <tr>\n",
       "      <th>...</th>\n",
       "      <td>...</td>\n",
       "      <td>...</td>\n",
       "    </tr>\n",
       "    <tr>\n",
       "      <th>57594</th>\n",
       "      <td>0.283203</td>\n",
       "      <td>geometry -&gt; blue -&gt; curvature-19</td>\n",
       "    </tr>\n",
       "    <tr>\n",
       "      <th>57595</th>\n",
       "      <td>0.312541</td>\n",
       "      <td>geometry -&gt; blue -&gt; curvature-20</td>\n",
       "    </tr>\n",
       "    <tr>\n",
       "      <th>57596</th>\n",
       "      <td>0.364532</td>\n",
       "      <td>geometry -&gt; blue -&gt; curvature-21</td>\n",
       "    </tr>\n",
       "    <tr>\n",
       "      <th>57597</th>\n",
       "      <td>0.221546</td>\n",
       "      <td>geometry -&gt; blue -&gt; curvature-22</td>\n",
       "    </tr>\n",
       "    <tr>\n",
       "      <th>57598</th>\n",
       "      <td>0.223697</td>\n",
       "      <td>geometry -&gt; blue -&gt; curvature-23</td>\n",
       "    </tr>\n",
       "  </tbody>\n",
       "</table>\n",
       "<p>57599 rows × 2 columns</p>\n",
       "</div>"
      ],
      "text/plain": [
       "             IV                           feature\n",
       "0      0.567059      greyscale -> gray -> betti-0\n",
       "1      0.567059      greyscale -> gray -> betti-1\n",
       "2      0.491292      greyscale -> gray -> betti-2\n",
       "3      0.275074      greyscale -> gray -> betti-3\n",
       "4      0.472521      greyscale -> gray -> betti-4\n",
       "...         ...                               ...\n",
       "57594  0.283203  geometry -> blue -> curvature-19\n",
       "57595  0.312541  geometry -> blue -> curvature-20\n",
       "57596  0.364532  geometry -> blue -> curvature-21\n",
       "57597  0.221546  geometry -> blue -> curvature-22\n",
       "57598  0.223697  geometry -> blue -> curvature-23\n",
       "\n",
       "[57599 rows x 2 columns]"
      ]
     },
     "execution_count": 3,
     "metadata": {},
     "output_type": "execute_result"
    }
   ],
   "source": [
    "import cvtda.classification\n",
    "IV = cvtda.classification.calculate_information_value(train_features, train_labels)\n",
    "\n",
    "import pandas\n",
    "scores = pandas.DataFrame([ IV, extractor.feature_names() ]).transpose()\n",
    "scores.columns = [ \"IV\", \"feature\" ]\n",
    "\n",
    "import os\n",
    "os.makedirs(os.path.dirname(\"3/scores.csv\"), exist_ok = True)\n",
    "scores.to_csv(\"3/scores.csv\")\n",
    "scores"
   ]
  },
  {
   "cell_type": "code",
   "execution_count": 1,
   "metadata": {},
   "outputs": [
    {
     "data": {
      "image/png": "[encoded data removed]",
      "text/plain": [
       "<Figure size 1000x1000 with 3 Axes>"
      ]
     },
     "metadata": {},
     "output_type": "display_data"
    }
   ],
   "source": [
    "import re\n",
    "import pandas\n",
    "import matplotlib.pyplot as plt\n",
    "\n",
    "def parse_filtration(value):\n",
    "    if value in ('greyscale', 'inverted_greyscale', 'geometry'): return value\n",
    "    return ', '.join(re.match(r\"(.*)Filtration with (.*)\", value).groups())\n",
    "scores = pandas.read_csv(\"3/scores.csv\")\n",
    "scores['IV'] = scores['IV'].astype(float)\n",
    "scores[[\"type\", \"color\", \"details\"]] = scores[\"feature\"].str.split(\" -> \", expand = True)\n",
    "scores[[\"name\", \"threshold\"]] = scores[\"type\"].str.split(\", bin. \", expand = True)\n",
    "scores[\"name\"] = scores[\"name\"].apply(parse_filtration)\n",
    "\n",
    "def draw(by: str, ax):\n",
    "    grouped = scores.groupby(by = by).mean(numeric_only = True).reset_index()\n",
    "    grouped = grouped.sort_values(by = 'IV', ascending = True)\n",
    "    grouped.plot.barh(x = by, y = 'IV', ax = ax, legend = None)\n",
    "    ax.set_xlabel('')\n",
    "    ax.set_ylabel('')\n",
    "\n",
    "plt.rcParams.update({'font.size': 16})\n",
    "fig, axes = plt.subplot_mosaic([ [ \"name\", \"threshold\" ], [ \"name\", \"color\" ] ], figsize = (10, 10), height_ratios = [ 3, 5 ])\n",
    "fig.suptitle(\"GTSRB\")\n",
    "draw('name', axes['name'])\n",
    "draw('threshold', axes['threshold'])\n",
    "draw('color', axes['color'])\n",
    "fig.tight_layout()\n",
    "fig.savefig(\"3/iv.png\")\n",
    "fig.savefig(\"3/iv.svg\")"
   ]
  }
 ],
 "metadata": {
  "kernelspec": {
   "display_name": "Python 3",
   "language": "python",
   "name": "python3"
  },
  "language_info": {
   "codemirror_mode": {
    "name": "ipython",
    "version": 3
   },
   "file_extension": ".py",
   "mimetype": "text/x-python",
   "name": "python",
   "nbconvert_exporter": "python",
   "pygments_lexer": "ipython3",
   "version": "3.10.11"
  }
 },
 "nbformat": 4,
 "nbformat_minor": 2
}
