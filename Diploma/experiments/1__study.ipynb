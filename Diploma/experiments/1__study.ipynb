{
 "cells": [
  {
   "cell_type": "code",
   "execution_count": 1,
   "metadata": {},
   "outputs": [],
   "source": [
    "import numpy\n",
    "import gtda.homology\n",
    "import matplotlib.pyplot as plt"
   ]
  },
  {
   "cell_type": "code",
   "execution_count": 63,
   "metadata": {},
   "outputs": [],
   "source": [
    "def plot(X: numpy.ndarray, threshold: float):\n",
    "    print(X >= threshold)\n",
    "    plt.imshow(1 - (X <= threshold), cmap = 'gray')"
   ]
  },
  {
   "cell_type": "code",
   "execution_count": 130,
   "metadata": {},
   "outputs": [
    {
     "data": {
      "application/vnd.plotly.v1+json": {
       "config": {
        "plotlyServerURL": "https://plot.ly"
       },
       "data": [
        {
         "hoverinfo": "none",
         "line": {
          "color": "black",
          "dash": "dash",
          "width": 1
         },
         "mode": "lines",
         "showlegend": false,
         "type": "scatter",
         "x": [
          0.3999999999999999,
          6.6
         ],
         "y": [
          0.3999999999999999,
          6.6
         ]
        },
        {
         "hoverinfo": "text",
         "hovertext": [
          "(1.0, 2.0), multiplicity: 2",
          "(1.0, 2.0), multiplicity: 2",
          "(1.0, inf)"
         ],
         "mode": "markers",
         "name": "H0",
         "type": "scatter",
         "x": [
          1,
          1,
          1
         ],
         "y": [
          2,
          2,
          6.5
         ]
        },
        {
         "hoverinfo": "text",
         "hovertext": [
          "(4.0, 6.0)",
          "(1.0, 6.0)"
         ],
         "mode": "markers",
         "name": "H1",
         "type": "scatter",
         "x": [
          4,
          1
         ],
         "y": [
          6,
          6
         ]
        },
        {
         "hoverinfo": "none",
         "line": {
          "color": "black",
          "dash": "dash",
          "width": 0.5
         },
         "mode": "lines",
         "name": "∞",
         "showlegend": true,
         "type": "scatter",
         "x": [
          0.3999999999999999,
          6.6
         ],
         "y": [
          6.5,
          6.5
         ]
        }
       ],
       "layout": {
        "height": 500,
        "plot_bgcolor": "white",
        "template": {
         "data": {
          "bar": [
           {
            "error_x": {
             "color": "#2a3f5f"
            },
            "error_y": {
             "color": "#2a3f5f"
            },
            "marker": {
             "line": {
              "color": "#E5ECF6",
              "width": 0.5
             },
             "pattern": {
              "fillmode": "overlay",
              "size": 10,
              "solidity": 0.2
             }
            },
            "type": "bar"
           }
          ],
          "barpolar": [
           {
            "marker": {
             "line": {
              "color": "#E5ECF6",
              "width": 0.5
             },
             "pattern": {
              "fillmode": "overlay",
              "size": 10,
              "solidity": 0.2
             }
            },
            "type": "barpolar"
           }
          ],
          "carpet": [
           {
            "aaxis": {
             "endlinecolor": "#2a3f5f",
             "gridcolor": "white",
             "linecolor": "white",
             "minorgridcolor": "white",
             "startlinecolor": "#2a3f5f"
            },
            "baxis": {
             "endlinecolor": "#2a3f5f",
             "gridcolor": "white",
             "linecolor": "white",
             "minorgridcolor": "white",
             "startlinecolor": "#2a3f5f"
            },
            "type": "carpet"
           }
          ],
          "choropleth": [
           {
            "colorbar": {
             "outlinewidth": 0,
             "ticks": ""
            },
            "type": "choropleth"
           }
          ],
          "contour": [
           {
            "colorbar": {
             "outlinewidth": 0,
             "ticks": ""
            },
            "colorscale": [
             [
              0,
              "#0d0887"
             ],
             [
              0.1111111111111111,
              "#46039f"
             ],
             [
              0.2222222222222222,
              "#7201a8"
             ],
             [
              0.3333333333333333,
              "#9c179e"
             ],
             [
              0.4444444444444444,
              "#bd3786"
             ],
             [
              0.5555555555555556,
              "#d8576b"
             ],
             [
              0.6666666666666666,
              "#ed7953"
             ],
             [
              0.7777777777777778,
              "#fb9f3a"
             ],
             [
              0.8888888888888888,
              "#fdca26"
             ],
             [
              1,
              "#f0f921"
             ]
            ],
            "type": "contour"
           }
          ],
          "contourcarpet": [
           {
            "colorbar": {
             "outlinewidth": 0,
             "ticks": ""
            },
            "type": "contourcarpet"
           }
          ],
          "heatmap": [
           {
            "colorbar": {
             "outlinewidth": 0,
             "ticks": ""
            },
            "colorscale": [
             [
              0,
              "#0d0887"
             ],
             [
              0.1111111111111111,
              "#46039f"
             ],
             [
              0.2222222222222222,
              "#7201a8"
             ],
             [
              0.3333333333333333,
              "#9c179e"
             ],
             [
              0.4444444444444444,
              "#bd3786"
             ],
             [
              0.5555555555555556,
              "#d8576b"
             ],
             [
              0.6666666666666666,
              "#ed7953"
             ],
             [
              0.7777777777777778,
              "#fb9f3a"
             ],
             [
              0.8888888888888888,
              "#fdca26"
             ],
             [
              1,
              "#f0f921"
             ]
            ],
            "type": "heatmap"
           }
          ],
          "heatmapgl": [
           {
            "colorbar": {
             "outlinewidth": 0,
             "ticks": ""
            },
            "colorscale": [
             [
              0,
              "#0d0887"
             ],
             [
              0.1111111111111111,
              "#46039f"
             ],
             [
              0.2222222222222222,
              "#7201a8"
             ],
             [
              0.3333333333333333,
              "#9c179e"
             ],
             [
              0.4444444444444444,
              "#bd3786"
             ],
             [
              0.5555555555555556,
              "#d8576b"
             ],
             [
              0.6666666666666666,
              "#ed7953"
             ],
             [
              0.7777777777777778,
              "#fb9f3a"
             ],
             [
              0.8888888888888888,
              "#fdca26"
             ],
             [
              1,
              "#f0f921"
             ]
            ],
            "type": "heatmapgl"
           }
          ],
          "histogram": [
           {
            "marker": {
             "pattern": {
              "fillmode": "overlay",
              "size": 10,
              "solidity": 0.2
             }
            },
            "type": "histogram"
           }
          ],
          "histogram2d": [
           {
            "colorbar": {
             "outlinewidth": 0,
             "ticks": ""
            },
            "colorscale": [
             [
              0,
              "#0d0887"
             ],
             [
              0.1111111111111111,
              "#46039f"
             ],
             [
              0.2222222222222222,
              "#7201a8"
             ],
             [
              0.3333333333333333,
              "#9c179e"
             ],
             [
              0.4444444444444444,
              "#bd3786"
             ],
             [
              0.5555555555555556,
              "#d8576b"
             ],
             [
              0.6666666666666666,
              "#ed7953"
             ],
             [
              0.7777777777777778,
              "#fb9f3a"
             ],
             [
              0.8888888888888888,
              "#fdca26"
             ],
             [
              1,
              "#f0f921"
             ]
            ],
            "type": "histogram2d"
           }
          ],
          "histogram2dcontour": [
           {
            "colorbar": {
             "outlinewidth": 0,
             "ticks": ""
            },
            "colorscale": [
             [
              0,
              "#0d0887"
             ],
             [
              0.1111111111111111,
              "#46039f"
             ],
             [
              0.2222222222222222,
              "#7201a8"
             ],
             [
              0.3333333333333333,
              "#9c179e"
             ],
             [
              0.4444444444444444,
              "#bd3786"
             ],
             [
              0.5555555555555556,
              "#d8576b"
             ],
             [
              0.6666666666666666,
              "#ed7953"
             ],
             [
              0.7777777777777778,
              "#fb9f3a"
             ],
             [
              0.8888888888888888,
              "#fdca26"
             ],
             [
              1,
              "#f0f921"
             ]
            ],
            "type": "histogram2dcontour"
           }
          ],
          "mesh3d": [
           {
            "colorbar": {
             "outlinewidth": 0,
             "ticks": ""
            },
            "type": "mesh3d"
           }
          ],
          "parcoords": [
           {
            "line": {
             "colorbar": {
              "outlinewidth": 0,
              "ticks": ""
             }
            },
            "type": "parcoords"
           }
          ],
          "pie": [
           {
            "automargin": true,
            "type": "pie"
           }
          ],
          "scatter": [
           {
            "fillpattern": {
             "fillmode": "overlay",
             "size": 10,
             "solidity": 0.2
            },
            "type": "scatter"
           }
          ],
          "scatter3d": [
           {
            "line": {
             "colorbar": {
              "outlinewidth": 0,
              "ticks": ""
             }
            },
            "marker": {
             "colorbar": {
              "outlinewidth": 0,
              "ticks": ""
             }
            },
            "type": "scatter3d"
           }
          ],
          "scattercarpet": [
           {
            "marker": {
             "colorbar": {
              "outlinewidth": 0,
              "ticks": ""
             }
            },
            "type": "scattercarpet"
           }
          ],
          "scattergeo": [
           {
            "marker": {
             "colorbar": {
              "outlinewidth": 0,
              "ticks": ""
             }
            },
            "type": "scattergeo"
           }
          ],
          "scattergl": [
           {
            "marker": {
             "colorbar": {
              "outlinewidth": 0,
              "ticks": ""
             }
            },
            "type": "scattergl"
           }
          ],
          "scattermapbox": [
           {
            "marker": {
             "colorbar": {
              "outlinewidth": 0,
              "ticks": ""
             }
            },
            "type": "scattermapbox"
           }
          ],
          "scatterpolar": [
           {
            "marker": {
             "colorbar": {
              "outlinewidth": 0,
              "ticks": ""
             }
            },
            "type": "scatterpolar"
           }
          ],
          "scatterpolargl": [
           {
            "marker": {
             "colorbar": {
              "outlinewidth": 0,
              "ticks": ""
             }
            },
            "type": "scatterpolargl"
           }
          ],
          "scatterternary": [
           {
            "marker": {
             "colorbar": {
              "outlinewidth": 0,
              "ticks": ""
             }
            },
            "type": "scatterternary"
           }
          ],
          "surface": [
           {
            "colorbar": {
             "outlinewidth": 0,
             "ticks": ""
            },
            "colorscale": [
             [
              0,
              "#0d0887"
             ],
             [
              0.1111111111111111,
              "#46039f"
             ],
             [
              0.2222222222222222,
              "#7201a8"
             ],
             [
              0.3333333333333333,
              "#9c179e"
             ],
             [
              0.4444444444444444,
              "#bd3786"
             ],
             [
              0.5555555555555556,
              "#d8576b"
             ],
             [
              0.6666666666666666,
              "#ed7953"
             ],
             [
              0.7777777777777778,
              "#fb9f3a"
             ],
             [
              0.8888888888888888,
              "#fdca26"
             ],
             [
              1,
              "#f0f921"
             ]
            ],
            "type": "surface"
           }
          ],
          "table": [
           {
            "cells": {
             "fill": {
              "color": "#EBF0F8"
             },
             "line": {
              "color": "white"
             }
            },
            "header": {
             "fill": {
              "color": "#C8D4E3"
             },
             "line": {
              "color": "white"
             }
            },
            "type": "table"
           }
          ]
         },
         "layout": {
          "annotationdefaults": {
           "arrowcolor": "#2a3f5f",
           "arrowhead": 0,
           "arrowwidth": 1
          },
          "autotypenumbers": "strict",
          "coloraxis": {
           "colorbar": {
            "outlinewidth": 0,
            "ticks": ""
           }
          },
          "colorscale": {
           "diverging": [
            [
             0,
             "#8e0152"
            ],
            [
             0.1,
             "#c51b7d"
            ],
            [
             0.2,
             "#de77ae"
            ],
            [
             0.3,
             "#f1b6da"
            ],
            [
             0.4,
             "#fde0ef"
            ],
            [
             0.5,
             "#f7f7f7"
            ],
            [
             0.6,
             "#e6f5d0"
            ],
            [
             0.7,
             "#b8e186"
            ],
            [
             0.8,
             "#7fbc41"
            ],
            [
             0.9,
             "#4d9221"
            ],
            [
             1,
             "#276419"
            ]
           ],
           "sequential": [
            [
             0,
             "#0d0887"
            ],
            [
             0.1111111111111111,
             "#46039f"
            ],
            [
             0.2222222222222222,
             "#7201a8"
            ],
            [
             0.3333333333333333,
             "#9c179e"
            ],
            [
             0.4444444444444444,
             "#bd3786"
            ],
            [
             0.5555555555555556,
             "#d8576b"
            ],
            [
             0.6666666666666666,
             "#ed7953"
            ],
            [
             0.7777777777777778,
             "#fb9f3a"
            ],
            [
             0.8888888888888888,
             "#fdca26"
            ],
            [
             1,
             "#f0f921"
            ]
           ],
           "sequentialminus": [
            [
             0,
             "#0d0887"
            ],
            [
             0.1111111111111111,
             "#46039f"
            ],
            [
             0.2222222222222222,
             "#7201a8"
            ],
            [
             0.3333333333333333,
             "#9c179e"
            ],
            [
             0.4444444444444444,
             "#bd3786"
            ],
            [
             0.5555555555555556,
             "#d8576b"
            ],
            [
             0.6666666666666666,
             "#ed7953"
            ],
            [
             0.7777777777777778,
             "#fb9f3a"
            ],
            [
             0.8888888888888888,
             "#fdca26"
            ],
            [
             1,
             "#f0f921"
            ]
           ]
          },
          "colorway": [
           "#636efa",
           "#EF553B",
           "#00cc96",
           "#ab63fa",
           "#FFA15A",
           "#19d3f3",
           "#FF6692",
           "#B6E880",
           "#FF97FF",
           "#FECB52"
          ],
          "font": {
           "color": "#2a3f5f"
          },
          "geo": {
           "bgcolor": "white",
           "lakecolor": "white",
           "landcolor": "#E5ECF6",
           "showlakes": true,
           "showland": true,
           "subunitcolor": "white"
          },
          "hoverlabel": {
           "align": "left"
          },
          "hovermode": "closest",
          "mapbox": {
           "style": "light"
          },
          "paper_bgcolor": "white",
          "plot_bgcolor": "#E5ECF6",
          "polar": {
           "angularaxis": {
            "gridcolor": "white",
            "linecolor": "white",
            "ticks": ""
           },
           "bgcolor": "#E5ECF6",
           "radialaxis": {
            "gridcolor": "white",
            "linecolor": "white",
            "ticks": ""
           }
          },
          "scene": {
           "xaxis": {
            "backgroundcolor": "#E5ECF6",
            "gridcolor": "white",
            "gridwidth": 2,
            "linecolor": "white",
            "showbackground": true,
            "ticks": "",
            "zerolinecolor": "white"
           },
           "yaxis": {
            "backgroundcolor": "#E5ECF6",
            "gridcolor": "white",
            "gridwidth": 2,
            "linecolor": "white",
            "showbackground": true,
            "ticks": "",
            "zerolinecolor": "white"
           },
           "zaxis": {
            "backgroundcolor": "#E5ECF6",
            "gridcolor": "white",
            "gridwidth": 2,
            "linecolor": "white",
            "showbackground": true,
            "ticks": "",
            "zerolinecolor": "white"
           }
          },
          "shapedefaults": {
           "line": {
            "color": "#2a3f5f"
           }
          },
          "ternary": {
           "aaxis": {
            "gridcolor": "white",
            "linecolor": "white",
            "ticks": ""
           },
           "baxis": {
            "gridcolor": "white",
            "linecolor": "white",
            "ticks": ""
           },
           "bgcolor": "#E5ECF6",
           "caxis": {
            "gridcolor": "white",
            "linecolor": "white",
            "ticks": ""
           }
          },
          "title": {
           "x": 0.05
          },
          "xaxis": {
           "automargin": true,
           "gridcolor": "white",
           "linecolor": "white",
           "ticks": "",
           "title": {
            "standoff": 15
           },
           "zerolinecolor": "white",
           "zerolinewidth": 2
          },
          "yaxis": {
           "automargin": true,
           "gridcolor": "white",
           "linecolor": "white",
           "ticks": "",
           "title": {
            "standoff": 15
           },
           "zerolinecolor": "white",
           "zerolinewidth": 2
          }
         }
        },
        "width": 500,
        "xaxis": {
         "autorange": false,
         "exponentformat": "e",
         "linecolor": "black",
         "linewidth": 1,
         "mirror": false,
         "range": [
          0.3999999999999999,
          6.6
         ],
         "showexponent": "all",
         "showline": true,
         "side": "bottom",
         "ticks": "outside",
         "title": {
          "text": "Birth"
         },
         "type": "linear",
         "zeroline": true
        },
        "yaxis": {
         "autorange": false,
         "exponentformat": "e",
         "linecolor": "black",
         "linewidth": 1,
         "mirror": false,
         "range": [
          0.3999999999999999,
          6.6
         ],
         "scaleanchor": "x",
         "scaleratio": 1,
         "showexponent": "all",
         "showline": true,
         "side": "left",
         "ticks": "outside",
         "title": {
          "text": "Death"
         },
         "type": "linear",
         "zeroline": true
        }
       }
      }
     },
     "metadata": {},
     "output_type": "display_data"
    }
   ],
   "source": [
    "import numpy\n",
    "import gtda.plotting\n",
    "import matplotlib.pyplot as plt\n",
    "import gudhi.sklearn.cubical_persistence\n",
    "\n",
    "X = numpy.array([[\n",
    "    [ 1, 1, 1, 1, 1, 1, 1 ],\n",
    "    [ 1, 1, 2, 3, 4, 1, 1 ],\n",
    "    [ 1, 1, 3, 1, 5, 1, 1 ],\n",
    "    [ 1, 1, 4, 5, 6, 1, 1 ],\n",
    "    [ 1, 1, 2, 3, 4, 1, 1 ],\n",
    "    [ 1, 1, 3, 1, 5, 1, 1 ],\n",
    "    [ 1, 1, 4, 5, 6, 1, 1 ],\n",
    "    [ 1, 1, 1, 1, 1, 1, 1 ],\n",
    "    [ 1, 1, 1, 1, 1, 1, 1 ]\n",
    "]])\n",
    "\n",
    "d = gudhi.sklearn.cubical_persistence.CubicalPersistence(\n",
    "    homology_dimensions = list(range(0, 5)),\n",
    "    min_persistence = -1\n",
    ").fit_transform(X)\n",
    "\n",
    "# gtda.plotting.plot_diagram(d[0])\n",
    "diag = numpy.vstack([\n",
    "    numpy.hstack([ d[0][0], numpy.zeros((len(d[0][0]), 1)) ]),\n",
    "    numpy.hstack([ d[0][1], numpy.ones((len(d[0][1]), 1)) ])\n",
    "])\n",
    "\n",
    "gtda.plotting.plot_diagram(diag)"
   ]
  },
  {
   "cell_type": "code",
   "execution_count": 126,
   "metadata": {},
   "outputs": [
    {
     "name": "stdout",
     "output_type": "stream",
     "text": [
      "[[False False False False False False False]\n",
      " [False False False False  True False False]\n",
      " [False False False False  True False False]\n",
      " [False False  True  True  True False False]\n",
      " [False False False False  True False False]\n",
      " [False False False False  True False False]\n",
      " [False False  True  True  True False False]\n",
      " [False False False False False False False]\n",
      " [False False False False False False False]]\n"
     ]
    },
    {
     "data": {
      "image/png": "[encoded data removed]",
      "text/plain": [
       "<Figure size 640x480 with 1 Axes>"
      ]
     },
     "metadata": {},
     "output_type": "display_data"
    }
   ],
   "source": [
    "plot(X[0], 4)"
   ]
  },
  {
   "cell_type": "code",
   "execution_count": 67,
   "metadata": {},
   "outputs": [
    {
     "name": "stderr",
     "output_type": "stream",
     "text": [
      "100%|██████████| 1/1 [00:00<?, ?it/s]\n"
     ]
    },
    {
     "data": {
      "application/vnd.plotly.v1+json": {
       "config": {
        "plotlyServerURL": "https://plot.ly"
       },
       "data": [
        {
         "hoverinfo": "none",
         "line": {
          "color": "black",
          "dash": "dash",
          "width": 1
         },
         "mode": "lines",
         "showlegend": false,
         "type": "scatter",
         "x": [
          4.98,
          6.02
         ],
         "y": [
          4.98,
          6.02
         ]
        },
        {
         "hoverinfo": "text",
         "hovertext": [
          "(5.0, 6.0)"
         ],
         "mode": "markers",
         "name": "H0",
         "type": "scatter",
         "x": [
          5
         ],
         "y": [
          6
         ]
        },
        {
         "hoverinfo": "text",
         "hovertext": [],
         "mode": "markers",
         "name": "H1",
         "type": "scatter",
         "x": [],
         "y": []
        },
        {
         "hoverinfo": "text",
         "hovertext": [],
         "mode": "markers",
         "name": "H2",
         "type": "scatter",
         "x": [],
         "y": []
        },
        {
         "hoverinfo": "text",
         "hovertext": [],
         "mode": "markers",
         "name": "H3",
         "type": "scatter",
         "x": [],
         "y": []
        },
        {
         "hoverinfo": "text",
         "hovertext": [],
         "mode": "markers",
         "name": "H4",
         "type": "scatter",
         "x": [],
         "y": []
        }
       ],
       "layout": {
        "height": 500,
        "plot_bgcolor": "white",
        "template": {
         "data": {
          "bar": [
           {
            "error_x": {
             "color": "#2a3f5f"
            },
            "error_y": {
             "color": "#2a3f5f"
            },
            "marker": {
             "line": {
              "color": "#E5ECF6",
              "width": 0.5
             },
             "pattern": {
              "fillmode": "overlay",
              "size": 10,
              "solidity": 0.2
             }
            },
            "type": "bar"
           }
          ],
          "barpolar": [
           {
            "marker": {
             "line": {
              "color": "#E5ECF6",
              "width": 0.5
             },
             "pattern": {
              "fillmode": "overlay",
              "size": 10,
              "solidity": 0.2
             }
            },
            "type": "barpolar"
           }
          ],
          "carpet": [
           {
            "aaxis": {
             "endlinecolor": "#2a3f5f",
             "gridcolor": "white",
             "linecolor": "white",
             "minorgridcolor": "white",
             "startlinecolor": "#2a3f5f"
            },
            "baxis": {
             "endlinecolor": "#2a3f5f",
             "gridcolor": "white",
             "linecolor": "white",
             "minorgridcolor": "white",
             "startlinecolor": "#2a3f5f"
            },
            "type": "carpet"
           }
          ],
          "choropleth": [
           {
            "colorbar": {
             "outlinewidth": 0,
             "ticks": ""
            },
            "type": "choropleth"
           }
          ],
          "contour": [
           {
            "colorbar": {
             "outlinewidth": 0,
             "ticks": ""
            },
            "colorscale": [
             [
              0,
              "#0d0887"
             ],
             [
              0.1111111111111111,
              "#46039f"
             ],
             [
              0.2222222222222222,
              "#7201a8"
             ],
             [
              0.3333333333333333,
              "#9c179e"
             ],
             [
              0.4444444444444444,
              "#bd3786"
             ],
             [
              0.5555555555555556,
              "#d8576b"
             ],
             [
              0.6666666666666666,
              "#ed7953"
             ],
             [
              0.7777777777777778,
              "#fb9f3a"
             ],
             [
              0.8888888888888888,
              "#fdca26"
             ],
             [
              1,
              "#f0f921"
             ]
            ],
            "type": "contour"
           }
          ],
          "contourcarpet": [
           {
            "colorbar": {
             "outlinewidth": 0,
             "ticks": ""
            },
            "type": "contourcarpet"
           }
          ],
          "heatmap": [
           {
            "colorbar": {
             "outlinewidth": 0,
             "ticks": ""
            },
            "colorscale": [
             [
              0,
              "#0d0887"
             ],
             [
              0.1111111111111111,
              "#46039f"
             ],
             [
              0.2222222222222222,
              "#7201a8"
             ],
             [
              0.3333333333333333,
              "#9c179e"
             ],
             [
              0.4444444444444444,
              "#bd3786"
             ],
             [
              0.5555555555555556,
              "#d8576b"
             ],
             [
              0.6666666666666666,
              "#ed7953"
             ],
             [
              0.7777777777777778,
              "#fb9f3a"
             ],
             [
              0.8888888888888888,
              "#fdca26"
             ],
             [
              1,
              "#f0f921"
             ]
            ],
            "type": "heatmap"
           }
          ],
          "heatmapgl": [
           {
            "colorbar": {
             "outlinewidth": 0,
             "ticks": ""
            },
            "colorscale": [
             [
              0,
              "#0d0887"
             ],
             [
              0.1111111111111111,
              "#46039f"
             ],
             [
              0.2222222222222222,
              "#7201a8"
             ],
             [
              0.3333333333333333,
              "#9c179e"
             ],
             [
              0.4444444444444444,
              "#bd3786"
             ],
             [
              0.5555555555555556,
              "#d8576b"
             ],
             [
              0.6666666666666666,
              "#ed7953"
             ],
             [
              0.7777777777777778,
              "#fb9f3a"
             ],
             [
              0.8888888888888888,
              "#fdca26"
             ],
             [
              1,
              "#f0f921"
             ]
            ],
            "type": "heatmapgl"
           }
          ],
          "histogram": [
           {
            "marker": {
             "pattern": {
              "fillmode": "overlay",
              "size": 10,
              "solidity": 0.2
             }
            },
            "type": "histogram"
           }
          ],
          "histogram2d": [
           {
            "colorbar": {
             "outlinewidth": 0,
             "ticks": ""
            },
            "colorscale": [
             [
              0,
              "#0d0887"
             ],
             [
              0.1111111111111111,
              "#46039f"
             ],
             [
              0.2222222222222222,
              "#7201a8"
             ],
             [
              0.3333333333333333,
              "#9c179e"
             ],
             [
              0.4444444444444444,
              "#bd3786"
             ],
             [
              0.5555555555555556,
              "#d8576b"
             ],
             [
              0.6666666666666666,
              "#ed7953"
             ],
             [
              0.7777777777777778,
              "#fb9f3a"
             ],
             [
              0.8888888888888888,
              "#fdca26"
             ],
             [
              1,
              "#f0f921"
             ]
            ],
            "type": "histogram2d"
           }
          ],
          "histogram2dcontour": [
           {
            "colorbar": {
             "outlinewidth": 0,
             "ticks": ""
            },
            "colorscale": [
             [
              0,
              "#0d0887"
             ],
             [
              0.1111111111111111,
              "#46039f"
             ],
             [
              0.2222222222222222,
              "#7201a8"
             ],
             [
              0.3333333333333333,
              "#9c179e"
             ],
             [
              0.4444444444444444,
              "#bd3786"
             ],
             [
              0.5555555555555556,
              "#d8576b"
             ],
             [
              0.6666666666666666,
              "#ed7953"
             ],
             [
              0.7777777777777778,
              "#fb9f3a"
             ],
             [
              0.8888888888888888,
              "#fdca26"
             ],
             [
              1,
              "#f0f921"
             ]
            ],
            "type": "histogram2dcontour"
           }
          ],
          "mesh3d": [
           {
            "colorbar": {
             "outlinewidth": 0,
             "ticks": ""
            },
            "type": "mesh3d"
           }
          ],
          "parcoords": [
           {
            "line": {
             "colorbar": {
              "outlinewidth": 0,
              "ticks": ""
             }
            },
            "type": "parcoords"
           }
          ],
          "pie": [
           {
            "automargin": true,
            "type": "pie"
           }
          ],
          "scatter": [
           {
            "fillpattern": {
             "fillmode": "overlay",
             "size": 10,
             "solidity": 0.2
            },
            "type": "scatter"
           }
          ],
          "scatter3d": [
           {
            "line": {
             "colorbar": {
              "outlinewidth": 0,
              "ticks": ""
             }
            },
            "marker": {
             "colorbar": {
              "outlinewidth": 0,
              "ticks": ""
             }
            },
            "type": "scatter3d"
           }
          ],
          "scattercarpet": [
           {
            "marker": {
             "colorbar": {
              "outlinewidth": 0,
              "ticks": ""
             }
            },
            "type": "scattercarpet"
           }
          ],
          "scattergeo": [
           {
            "marker": {
             "colorbar": {
              "outlinewidth": 0,
              "ticks": ""
             }
            },
            "type": "scattergeo"
           }
          ],
          "scattergl": [
           {
            "marker": {
             "colorbar": {
              "outlinewidth": 0,
              "ticks": ""
             }
            },
            "type": "scattergl"
           }
          ],
          "scattermapbox": [
           {
            "marker": {
             "colorbar": {
              "outlinewidth": 0,
              "ticks": ""
             }
            },
            "type": "scattermapbox"
           }
          ],
          "scatterpolar": [
           {
            "marker": {
             "colorbar": {
              "outlinewidth": 0,
              "ticks": ""
             }
            },
            "type": "scatterpolar"
           }
          ],
          "scatterpolargl": [
           {
            "marker": {
             "colorbar": {
              "outlinewidth": 0,
              "ticks": ""
             }
            },
            "type": "scatterpolargl"
           }
          ],
          "scatterternary": [
           {
            "marker": {
             "colorbar": {
              "outlinewidth": 0,
              "ticks": ""
             }
            },
            "type": "scatterternary"
           }
          ],
          "surface": [
           {
            "colorbar": {
             "outlinewidth": 0,
             "ticks": ""
            },
            "colorscale": [
             [
              0,
              "#0d0887"
             ],
             [
              0.1111111111111111,
              "#46039f"
             ],
             [
              0.2222222222222222,
              "#7201a8"
             ],
             [
              0.3333333333333333,
              "#9c179e"
             ],
             [
              0.4444444444444444,
              "#bd3786"
             ],
             [
              0.5555555555555556,
              "#d8576b"
             ],
             [
              0.6666666666666666,
              "#ed7953"
             ],
             [
              0.7777777777777778,
              "#fb9f3a"
             ],
             [
              0.8888888888888888,
              "#fdca26"
             ],
             [
              1,
              "#f0f921"
             ]
            ],
            "type": "surface"
           }
          ],
          "table": [
           {
            "cells": {
             "fill": {
              "color": "#EBF0F8"
             },
             "line": {
              "color": "white"
             }
            },
            "header": {
             "fill": {
              "color": "#C8D4E3"
             },
             "line": {
              "color": "white"
             }
            },
            "type": "table"
           }
          ]
         },
         "layout": {
          "annotationdefaults": {
           "arrowcolor": "#2a3f5f",
           "arrowhead": 0,
           "arrowwidth": 1
          },
          "autotypenumbers": "strict",
          "coloraxis": {
           "colorbar": {
            "outlinewidth": 0,
            "ticks": ""
           }
          },
          "colorscale": {
           "diverging": [
            [
             0,
             "#8e0152"
            ],
            [
             0.1,
             "#c51b7d"
            ],
            [
             0.2,
             "#de77ae"
            ],
            [
             0.3,
             "#f1b6da"
            ],
            [
             0.4,
             "#fde0ef"
            ],
            [
             0.5,
             "#f7f7f7"
            ],
            [
             0.6,
             "#e6f5d0"
            ],
            [
             0.7,
             "#b8e186"
            ],
            [
             0.8,
             "#7fbc41"
            ],
            [
             0.9,
             "#4d9221"
            ],
            [
             1,
             "#276419"
            ]
           ],
           "sequential": [
            [
             0,
             "#0d0887"
            ],
            [
             0.1111111111111111,
             "#46039f"
            ],
            [
             0.2222222222222222,
             "#7201a8"
            ],
            [
             0.3333333333333333,
             "#9c179e"
            ],
            [
             0.4444444444444444,
             "#bd3786"
            ],
            [
             0.5555555555555556,
             "#d8576b"
            ],
            [
             0.6666666666666666,
             "#ed7953"
            ],
            [
             0.7777777777777778,
             "#fb9f3a"
            ],
            [
             0.8888888888888888,
             "#fdca26"
            ],
            [
             1,
             "#f0f921"
            ]
           ],
           "sequentialminus": [
            [
             0,
             "#0d0887"
            ],
            [
             0.1111111111111111,
             "#46039f"
            ],
            [
             0.2222222222222222,
             "#7201a8"
            ],
            [
             0.3333333333333333,
             "#9c179e"
            ],
            [
             0.4444444444444444,
             "#bd3786"
            ],
            [
             0.5555555555555556,
             "#d8576b"
            ],
            [
             0.6666666666666666,
             "#ed7953"
            ],
            [
             0.7777777777777778,
             "#fb9f3a"
            ],
            [
             0.8888888888888888,
             "#fdca26"
            ],
            [
             1,
             "#f0f921"
            ]
           ]
          },
          "colorway": [
           "#636efa",
           "#EF553B",
           "#00cc96",
           "#ab63fa",
           "#FFA15A",
           "#19d3f3",
           "#FF6692",
           "#B6E880",
           "#FF97FF",
           "#FECB52"
          ],
          "font": {
           "color": "#2a3f5f"
          },
          "geo": {
           "bgcolor": "white",
           "lakecolor": "white",
           "landcolor": "#E5ECF6",
           "showlakes": true,
           "showland": true,
           "subunitcolor": "white"
          },
          "hoverlabel": {
           "align": "left"
          },
          "hovermode": "closest",
          "mapbox": {
           "style": "light"
          },
          "paper_bgcolor": "white",
          "plot_bgcolor": "#E5ECF6",
          "polar": {
           "angularaxis": {
            "gridcolor": "white",
            "linecolor": "white",
            "ticks": ""
           },
           "bgcolor": "#E5ECF6",
           "radialaxis": {
            "gridcolor": "white",
            "linecolor": "white",
            "ticks": ""
           }
          },
          "scene": {
           "xaxis": {
            "backgroundcolor": "#E5ECF6",
            "gridcolor": "white",
            "gridwidth": 2,
            "linecolor": "white",
            "showbackground": true,
            "ticks": "",
            "zerolinecolor": "white"
           },
           "yaxis": {
            "backgroundcolor": "#E5ECF6",
            "gridcolor": "white",
            "gridwidth": 2,
            "linecolor": "white",
            "showbackground": true,
            "ticks": "",
            "zerolinecolor": "white"
           },
           "zaxis": {
            "backgroundcolor": "#E5ECF6",
            "gridcolor": "white",
            "gridwidth": 2,
            "linecolor": "white",
            "showbackground": true,
            "ticks": "",
            "zerolinecolor": "white"
           }
          },
          "shapedefaults": {
           "line": {
            "color": "#2a3f5f"
           }
          },
          "ternary": {
           "aaxis": {
            "gridcolor": "white",
            "linecolor": "white",
            "ticks": ""
           },
           "baxis": {
            "gridcolor": "white",
            "linecolor": "white",
            "ticks": ""
           },
           "bgcolor": "#E5ECF6",
           "caxis": {
            "gridcolor": "white",
            "linecolor": "white",
            "ticks": ""
           }
          },
          "title": {
           "x": 0.05
          },
          "xaxis": {
           "automargin": true,
           "gridcolor": "white",
           "linecolor": "white",
           "ticks": "",
           "title": {
            "standoff": 15
           },
           "zerolinecolor": "white",
           "zerolinewidth": 2
          },
          "yaxis": {
           "automargin": true,
           "gridcolor": "white",
           "linecolor": "white",
           "ticks": "",
           "title": {
            "standoff": 15
           },
           "zerolinecolor": "white",
           "zerolinewidth": 2
          }
         }
        },
        "width": 500,
        "xaxis": {
         "autorange": false,
         "exponentformat": "e",
         "linecolor": "black",
         "linewidth": 1,
         "mirror": false,
         "range": [
          4.98,
          6.02
         ],
         "showexponent": "all",
         "showline": true,
         "side": "bottom",
         "ticks": "outside",
         "title": {
          "text": "Birth"
         },
         "type": "linear",
         "zeroline": true
        },
        "yaxis": {
         "autorange": false,
         "exponentformat": "e",
         "linecolor": "black",
         "linewidth": 1,
         "mirror": false,
         "range": [
          4.98,
          6.02
         ],
         "scaleanchor": "x",
         "scaleratio": 1,
         "showexponent": "all",
         "showline": true,
         "side": "left",
         "ticks": "outside",
         "title": {
          "text": "Death"
         },
         "type": "linear",
         "zeroline": true
        }
       }
      }
     },
     "metadata": {},
     "output_type": "display_data"
    },
    {
     "data": {
      "text/plain": [
       "array([[[5., 6., 0.],\n",
       "        [0., 0., 1.],\n",
       "        [0., 0., 2.],\n",
       "        [0., 0., 3.],\n",
       "        [0., 0., 4.]]])"
      ]
     },
     "execution_count": 67,
     "metadata": {},
     "output_type": "execute_result"
    }
   ],
   "source": [
    "import gtda.homology\n",
    "\n",
    "gtda.homology.CubicalPersistence(\n",
    "    homology_dimensions = list(range(0, 5)),\n",
    ").fit_transform_plot(X)"
   ]
  },
  {
   "cell_type": "code",
   "execution_count": 106,
   "metadata": {},
   "outputs": [
    {
     "name": "stdout",
     "output_type": "stream",
     "text": [
      "[[[ 1  8  7]\n",
      "  [ 4 20  6]\n",
      "  [ 6  4  5]]]\n",
      "(1, 3, 3)\n"
     ]
    },
    {
     "name": "stderr",
     "output_type": "stream",
     "text": [
      "100%|██████████| 1/1 [00:00<00:00, 963.10it/s]\n"
     ]
    },
    {
     "data": {
      "application/vnd.plotly.v1+json": {
       "config": {
        "plotlyServerURL": "https://plot.ly"
       },
       "data": [
        {
         "hoverinfo": "none",
         "line": {
          "color": "black",
          "dash": "dash",
          "width": 1
         },
         "mode": "lines",
         "showlegend": false,
         "type": "scatter",
         "x": [
          0.62,
          20.38
         ],
         "y": [
          0.62,
          20.38
         ]
        },
        {
         "hoverinfo": "text",
         "hovertext": [
          "(1.0, 20.0)"
         ],
         "mode": "markers",
         "name": "H0",
         "type": "scatter",
         "x": [
          1
         ],
         "y": [
          20
         ]
        },
        {
         "hoverinfo": "text",
         "hovertext": [
          "(8.0, 20.0)"
         ],
         "mode": "markers",
         "name": "H1",
         "type": "scatter",
         "x": [
          8
         ],
         "y": [
          20
         ]
        },
        {
         "hoverinfo": "text",
         "hovertext": [],
         "mode": "markers",
         "name": "H2",
         "type": "scatter",
         "x": [],
         "y": []
        },
        {
         "hoverinfo": "text",
         "hovertext": [],
         "mode": "markers",
         "name": "H3",
         "type": "scatter",
         "x": [],
         "y": []
        },
        {
         "hoverinfo": "text",
         "hovertext": [],
         "mode": "markers",
         "name": "H4",
         "type": "scatter",
         "x": [],
         "y": []
        },
        {
         "hoverinfo": "text",
         "hovertext": [],
         "mode": "markers",
         "name": "H5",
         "type": "scatter",
         "x": [],
         "y": []
        },
        {
         "hoverinfo": "text",
         "hovertext": [],
         "mode": "markers",
         "name": "H6",
         "type": "scatter",
         "x": [],
         "y": []
        },
        {
         "hoverinfo": "text",
         "hovertext": [],
         "mode": "markers",
         "name": "H7",
         "type": "scatter",
         "x": [],
         "y": []
        },
        {
         "hoverinfo": "text",
         "hovertext": [],
         "mode": "markers",
         "name": "H8",
         "type": "scatter",
         "x": [],
         "y": []
        },
        {
         "hoverinfo": "text",
         "hovertext": [],
         "mode": "markers",
         "name": "H9",
         "type": "scatter",
         "x": [],
         "y": []
        },
        {
         "hoverinfo": "text",
         "hovertext": [],
         "mode": "markers",
         "name": "H10",
         "type": "scatter",
         "x": [],
         "y": []
        },
        {
         "hoverinfo": "text",
         "hovertext": [],
         "mode": "markers",
         "name": "H11",
         "type": "scatter",
         "x": [],
         "y": []
        },
        {
         "hoverinfo": "text",
         "hovertext": [],
         "mode": "markers",
         "name": "H12",
         "type": "scatter",
         "x": [],
         "y": []
        },
        {
         "hoverinfo": "text",
         "hovertext": [],
         "mode": "markers",
         "name": "H13",
         "type": "scatter",
         "x": [],
         "y": []
        },
        {
         "hoverinfo": "text",
         "hovertext": [],
         "mode": "markers",
         "name": "H14",
         "type": "scatter",
         "x": [],
         "y": []
        }
       ],
       "layout": {
        "height": 500,
        "plot_bgcolor": "white",
        "template": {
         "data": {
          "bar": [
           {
            "error_x": {
             "color": "#2a3f5f"
            },
            "error_y": {
             "color": "#2a3f5f"
            },
            "marker": {
             "line": {
              "color": "#E5ECF6",
              "width": 0.5
             },
             "pattern": {
              "fillmode": "overlay",
              "size": 10,
              "solidity": 0.2
             }
            },
            "type": "bar"
           }
          ],
          "barpolar": [
           {
            "marker": {
             "line": {
              "color": "#E5ECF6",
              "width": 0.5
             },
             "pattern": {
              "fillmode": "overlay",
              "size": 10,
              "solidity": 0.2
             }
            },
            "type": "barpolar"
           }
          ],
          "carpet": [
           {
            "aaxis": {
             "endlinecolor": "#2a3f5f",
             "gridcolor": "white",
             "linecolor": "white",
             "minorgridcolor": "white",
             "startlinecolor": "#2a3f5f"
            },
            "baxis": {
             "endlinecolor": "#2a3f5f",
             "gridcolor": "white",
             "linecolor": "white",
             "minorgridcolor": "white",
             "startlinecolor": "#2a3f5f"
            },
            "type": "carpet"
           }
          ],
          "choropleth": [
           {
            "colorbar": {
             "outlinewidth": 0,
             "ticks": ""
            },
            "type": "choropleth"
           }
          ],
          "contour": [
           {
            "colorbar": {
             "outlinewidth": 0,
             "ticks": ""
            },
            "colorscale": [
             [
              0,
              "#0d0887"
             ],
             [
              0.1111111111111111,
              "#46039f"
             ],
             [
              0.2222222222222222,
              "#7201a8"
             ],
             [
              0.3333333333333333,
              "#9c179e"
             ],
             [
              0.4444444444444444,
              "#bd3786"
             ],
             [
              0.5555555555555556,
              "#d8576b"
             ],
             [
              0.6666666666666666,
              "#ed7953"
             ],
             [
              0.7777777777777778,
              "#fb9f3a"
             ],
             [
              0.8888888888888888,
              "#fdca26"
             ],
             [
              1,
              "#f0f921"
             ]
            ],
            "type": "contour"
           }
          ],
          "contourcarpet": [
           {
            "colorbar": {
             "outlinewidth": 0,
             "ticks": ""
            },
            "type": "contourcarpet"
           }
          ],
          "heatmap": [
           {
            "colorbar": {
             "outlinewidth": 0,
             "ticks": ""
            },
            "colorscale": [
             [
              0,
              "#0d0887"
             ],
             [
              0.1111111111111111,
              "#46039f"
             ],
             [
              0.2222222222222222,
              "#7201a8"
             ],
             [
              0.3333333333333333,
              "#9c179e"
             ],
             [
              0.4444444444444444,
              "#bd3786"
             ],
             [
              0.5555555555555556,
              "#d8576b"
             ],
             [
              0.6666666666666666,
              "#ed7953"
             ],
             [
              0.7777777777777778,
              "#fb9f3a"
             ],
             [
              0.8888888888888888,
              "#fdca26"
             ],
             [
              1,
              "#f0f921"
             ]
            ],
            "type": "heatmap"
           }
          ],
          "heatmapgl": [
           {
            "colorbar": {
             "outlinewidth": 0,
             "ticks": ""
            },
            "colorscale": [
             [
              0,
              "#0d0887"
             ],
             [
              0.1111111111111111,
              "#46039f"
             ],
             [
              0.2222222222222222,
              "#7201a8"
             ],
             [
              0.3333333333333333,
              "#9c179e"
             ],
             [
              0.4444444444444444,
              "#bd3786"
             ],
             [
              0.5555555555555556,
              "#d8576b"
             ],
             [
              0.6666666666666666,
              "#ed7953"
             ],
             [
              0.7777777777777778,
              "#fb9f3a"
             ],
             [
              0.8888888888888888,
              "#fdca26"
             ],
             [
              1,
              "#f0f921"
             ]
            ],
            "type": "heatmapgl"
           }
          ],
          "histogram": [
           {
            "marker": {
             "pattern": {
              "fillmode": "overlay",
              "size": 10,
              "solidity": 0.2
             }
            },
            "type": "histogram"
           }
          ],
          "histogram2d": [
           {
            "colorbar": {
             "outlinewidth": 0,
             "ticks": ""
            },
            "colorscale": [
             [
              0,
              "#0d0887"
             ],
             [
              0.1111111111111111,
              "#46039f"
             ],
             [
              0.2222222222222222,
              "#7201a8"
             ],
             [
              0.3333333333333333,
              "#9c179e"
             ],
             [
              0.4444444444444444,
              "#bd3786"
             ],
             [
              0.5555555555555556,
              "#d8576b"
             ],
             [
              0.6666666666666666,
              "#ed7953"
             ],
             [
              0.7777777777777778,
              "#fb9f3a"
             ],
             [
              0.8888888888888888,
              "#fdca26"
             ],
             [
              1,
              "#f0f921"
             ]
            ],
            "type": "histogram2d"
           }
          ],
          "histogram2dcontour": [
           {
            "colorbar": {
             "outlinewidth": 0,
             "ticks": ""
            },
            "colorscale": [
             [
              0,
              "#0d0887"
             ],
             [
              0.1111111111111111,
              "#46039f"
             ],
             [
              0.2222222222222222,
              "#7201a8"
             ],
             [
              0.3333333333333333,
              "#9c179e"
             ],
             [
              0.4444444444444444,
              "#bd3786"
             ],
             [
              0.5555555555555556,
              "#d8576b"
             ],
             [
              0.6666666666666666,
              "#ed7953"
             ],
             [
              0.7777777777777778,
              "#fb9f3a"
             ],
             [
              0.8888888888888888,
              "#fdca26"
             ],
             [
              1,
              "#f0f921"
             ]
            ],
            "type": "histogram2dcontour"
           }
          ],
          "mesh3d": [
           {
            "colorbar": {
             "outlinewidth": 0,
             "ticks": ""
            },
            "type": "mesh3d"
           }
          ],
          "parcoords": [
           {
            "line": {
             "colorbar": {
              "outlinewidth": 0,
              "ticks": ""
             }
            },
            "type": "parcoords"
           }
          ],
          "pie": [
           {
            "automargin": true,
            "type": "pie"
           }
          ],
          "scatter": [
           {
            "fillpattern": {
             "fillmode": "overlay",
             "size": 10,
             "solidity": 0.2
            },
            "type": "scatter"
           }
          ],
          "scatter3d": [
           {
            "line": {
             "colorbar": {
              "outlinewidth": 0,
              "ticks": ""
             }
            },
            "marker": {
             "colorbar": {
              "outlinewidth": 0,
              "ticks": ""
             }
            },
            "type": "scatter3d"
           }
          ],
          "scattercarpet": [
           {
            "marker": {
             "colorbar": {
              "outlinewidth": 0,
              "ticks": ""
             }
            },
            "type": "scattercarpet"
           }
          ],
          "scattergeo": [
           {
            "marker": {
             "colorbar": {
              "outlinewidth": 0,
              "ticks": ""
             }
            },
            "type": "scattergeo"
           }
          ],
          "scattergl": [
           {
            "marker": {
             "colorbar": {
              "outlinewidth": 0,
              "ticks": ""
             }
            },
            "type": "scattergl"
           }
          ],
          "scattermapbox": [
           {
            "marker": {
             "colorbar": {
              "outlinewidth": 0,
              "ticks": ""
             }
            },
            "type": "scattermapbox"
           }
          ],
          "scatterpolar": [
           {
            "marker": {
             "colorbar": {
              "outlinewidth": 0,
              "ticks": ""
             }
            },
            "type": "scatterpolar"
           }
          ],
          "scatterpolargl": [
           {
            "marker": {
             "colorbar": {
              "outlinewidth": 0,
              "ticks": ""
             }
            },
            "type": "scatterpolargl"
           }
          ],
          "scatterternary": [
           {
            "marker": {
             "colorbar": {
              "outlinewidth": 0,
              "ticks": ""
             }
            },
            "type": "scatterternary"
           }
          ],
          "surface": [
           {
            "colorbar": {
             "outlinewidth": 0,
             "ticks": ""
            },
            "colorscale": [
             [
              0,
              "#0d0887"
             ],
             [
              0.1111111111111111,
              "#46039f"
             ],
             [
              0.2222222222222222,
              "#7201a8"
             ],
             [
              0.3333333333333333,
              "#9c179e"
             ],
             [
              0.4444444444444444,
              "#bd3786"
             ],
             [
              0.5555555555555556,
              "#d8576b"
             ],
             [
              0.6666666666666666,
              "#ed7953"
             ],
             [
              0.7777777777777778,
              "#fb9f3a"
             ],
             [
              0.8888888888888888,
              "#fdca26"
             ],
             [
              1,
              "#f0f921"
             ]
            ],
            "type": "surface"
           }
          ],
          "table": [
           {
            "cells": {
             "fill": {
              "color": "#EBF0F8"
             },
             "line": {
              "color": "white"
             }
            },
            "header": {
             "fill": {
              "color": "#C8D4E3"
             },
             "line": {
              "color": "white"
             }
            },
            "type": "table"
           }
          ]
         },
         "layout": {
          "annotationdefaults": {
           "arrowcolor": "#2a3f5f",
           "arrowhead": 0,
           "arrowwidth": 1
          },
          "autotypenumbers": "strict",
          "coloraxis": {
           "colorbar": {
            "outlinewidth": 0,
            "ticks": ""
           }
          },
          "colorscale": {
           "diverging": [
            [
             0,
             "#8e0152"
            ],
            [
             0.1,
             "#c51b7d"
            ],
            [
             0.2,
             "#de77ae"
            ],
            [
             0.3,
             "#f1b6da"
            ],
            [
             0.4,
             "#fde0ef"
            ],
            [
             0.5,
             "#f7f7f7"
            ],
            [
             0.6,
             "#e6f5d0"
            ],
            [
             0.7,
             "#b8e186"
            ],
            [
             0.8,
             "#7fbc41"
            ],
            [
             0.9,
             "#4d9221"
            ],
            [
             1,
             "#276419"
            ]
           ],
           "sequential": [
            [
             0,
             "#0d0887"
            ],
            [
             0.1111111111111111,
             "#46039f"
            ],
            [
             0.2222222222222222,
             "#7201a8"
            ],
            [
             0.3333333333333333,
             "#9c179e"
            ],
            [
             0.4444444444444444,
             "#bd3786"
            ],
            [
             0.5555555555555556,
             "#d8576b"
            ],
            [
             0.6666666666666666,
             "#ed7953"
            ],
            [
             0.7777777777777778,
             "#fb9f3a"
            ],
            [
             0.8888888888888888,
             "#fdca26"
            ],
            [
             1,
             "#f0f921"
            ]
           ],
           "sequentialminus": [
            [
             0,
             "#0d0887"
            ],
            [
             0.1111111111111111,
             "#46039f"
            ],
            [
             0.2222222222222222,
             "#7201a8"
            ],
            [
             0.3333333333333333,
             "#9c179e"
            ],
            [
             0.4444444444444444,
             "#bd3786"
            ],
            [
             0.5555555555555556,
             "#d8576b"
            ],
            [
             0.6666666666666666,
             "#ed7953"
            ],
            [
             0.7777777777777778,
             "#fb9f3a"
            ],
            [
             0.8888888888888888,
             "#fdca26"
            ],
            [
             1,
             "#f0f921"
            ]
           ]
          },
          "colorway": [
           "#636efa",
           "#EF553B",
           "#00cc96",
           "#ab63fa",
           "#FFA15A",
           "#19d3f3",
           "#FF6692",
           "#B6E880",
           "#FF97FF",
           "#FECB52"
          ],
          "font": {
           "color": "#2a3f5f"
          },
          "geo": {
           "bgcolor": "white",
           "lakecolor": "white",
           "landcolor": "#E5ECF6",
           "showlakes": true,
           "showland": true,
           "subunitcolor": "white"
          },
          "hoverlabel": {
           "align": "left"
          },
          "hovermode": "closest",
          "mapbox": {
           "style": "light"
          },
          "paper_bgcolor": "white",
          "plot_bgcolor": "#E5ECF6",
          "polar": {
           "angularaxis": {
            "gridcolor": "white",
            "linecolor": "white",
            "ticks": ""
           },
           "bgcolor": "#E5ECF6",
           "radialaxis": {
            "gridcolor": "white",
            "linecolor": "white",
            "ticks": ""
           }
          },
          "scene": {
           "xaxis": {
            "backgroundcolor": "#E5ECF6",
            "gridcolor": "white",
            "gridwidth": 2,
            "linecolor": "white",
            "showbackground": true,
            "ticks": "",
            "zerolinecolor": "white"
           },
           "yaxis": {
            "backgroundcolor": "#E5ECF6",
            "gridcolor": "white",
            "gridwidth": 2,
            "linecolor": "white",
            "showbackground": true,
            "ticks": "",
            "zerolinecolor": "white"
           },
           "zaxis": {
            "backgroundcolor": "#E5ECF6",
            "gridcolor": "white",
            "gridwidth": 2,
            "linecolor": "white",
            "showbackground": true,
            "ticks": "",
            "zerolinecolor": "white"
           }
          },
          "shapedefaults": {
           "line": {
            "color": "#2a3f5f"
           }
          },
          "ternary": {
           "aaxis": {
            "gridcolor": "white",
            "linecolor": "white",
            "ticks": ""
           },
           "baxis": {
            "gridcolor": "white",
            "linecolor": "white",
            "ticks": ""
           },
           "bgcolor": "#E5ECF6",
           "caxis": {
            "gridcolor": "white",
            "linecolor": "white",
            "ticks": ""
           }
          },
          "title": {
           "x": 0.05
          },
          "xaxis": {
           "automargin": true,
           "gridcolor": "white",
           "linecolor": "white",
           "ticks": "",
           "title": {
            "standoff": 15
           },
           "zerolinecolor": "white",
           "zerolinewidth": 2
          },
          "yaxis": {
           "automargin": true,
           "gridcolor": "white",
           "linecolor": "white",
           "ticks": "",
           "title": {
            "standoff": 15
           },
           "zerolinecolor": "white",
           "zerolinewidth": 2
          }
         }
        },
        "width": 500,
        "xaxis": {
         "autorange": false,
         "exponentformat": "e",
         "linecolor": "black",
         "linewidth": 1,
         "mirror": false,
         "range": [
          0.62,
          20.38
         ],
         "showexponent": "all",
         "showline": true,
         "side": "bottom",
         "ticks": "outside",
         "title": {
          "text": "Birth"
         },
         "type": "linear",
         "zeroline": true
        },
        "yaxis": {
         "autorange": false,
         "exponentformat": "e",
         "linecolor": "black",
         "linewidth": 1,
         "mirror": false,
         "range": [
          0.62,
          20.38
         ],
         "scaleanchor": "x",
         "scaleratio": 1,
         "showexponent": "all",
         "showline": true,
         "side": "left",
         "ticks": "outside",
         "title": {
          "text": "Death"
         },
         "type": "linear",
         "zeroline": true
        }
       }
      }
     },
     "metadata": {},
     "output_type": "display_data"
    },
    {
     "name": "stdout",
     "output_type": "stream",
     "text": [
      "[[False  True  True]\n",
      " [ True  True  True]\n",
      " [ True  True  True]]\n"
     ]
    },
    {
     "data": {
      "image/png": "[encoded data removed]",
      "text/plain": [
       "<Figure size 640x480 with 1 Axes>"
      ]
     },
     "metadata": {},
     "output_type": "display_data"
    }
   ],
   "source": [
    "\n",
    "\n",
    "X = numpy.array([[\n",
    "    [ 9, 9, 9, 9, 9 ],\n",
    "    [ 9, 1, 4, 1, 9 ],\n",
    "    [ 9, 9, 9, 9, 9 ]\n",
    "]])\n",
    "\n",
    "X = numpy.array([[\n",
    "    [ 1, 8, 7 ],\n",
    "    [ 4, 20, 6 ],\n",
    "    [ 6, 4, 5 ]\n",
    "]])\n",
    "\n",
    "print(X)\n",
    "print(X.shape)\n",
    "\n",
    "gtda.homology.CubicalPersistence(\n",
    "    homology_dimensions = list(range(0, 15)),\n",
    "    reduced_homology = False,\n",
    ").fit_transform_plot(X)\n",
    "plot(X[0], 4)"
   ]
  },
  {
   "cell_type": "code",
   "execution_count": 144,
   "metadata": {},
   "outputs": [
    {
     "name": "stderr",
     "output_type": "stream",
     "text": [
      "100%|██████████| 1/1 [00:00<?, ?it/s]\n"
     ]
    },
    {
     "data": {
      "application/vnd.plotly.v1+json": {
       "config": {
        "plotlyServerURL": "https://plot.ly"
       },
       "data": [
        {
         "hoverinfo": "none",
         "line": {
          "color": "black",
          "dash": "dash",
          "width": 1
         },
         "mode": "lines",
         "showlegend": false,
         "type": "scatter",
         "x": [
          99.22,
          139.78
         ],
         "y": [
          99.22,
          139.78
         ]
        },
        {
         "hoverinfo": "text",
         "hovertext": [],
         "mode": "markers",
         "name": "H0",
         "type": "scatter",
         "x": [],
         "y": []
        },
        {
         "hoverinfo": "text",
         "hovertext": [
          "(100.0, 139.0)"
         ],
         "mode": "markers",
         "name": "H1",
         "type": "scatter",
         "x": [
          100
         ],
         "y": [
          139
         ]
        },
        {
         "hoverinfo": "text",
         "hovertext": [],
         "mode": "markers",
         "name": "H2",
         "type": "scatter",
         "x": [],
         "y": []
        },
        {
         "hoverinfo": "text",
         "hovertext": [],
         "mode": "markers",
         "name": "H3",
         "type": "scatter",
         "x": [],
         "y": []
        },
        {
         "hoverinfo": "text",
         "hovertext": [],
         "mode": "markers",
         "name": "H4",
         "type": "scatter",
         "x": [],
         "y": []
        }
       ],
       "layout": {
        "height": 500,
        "plot_bgcolor": "white",
        "template": {
         "data": {
          "bar": [
           {
            "error_x": {
             "color": "#2a3f5f"
            },
            "error_y": {
             "color": "#2a3f5f"
            },
            "marker": {
             "line": {
              "color": "#E5ECF6",
              "width": 0.5
             },
             "pattern": {
              "fillmode": "overlay",
              "size": 10,
              "solidity": 0.2
             }
            },
            "type": "bar"
           }
          ],
          "barpolar": [
           {
            "marker": {
             "line": {
              "color": "#E5ECF6",
              "width": 0.5
             },
             "pattern": {
              "fillmode": "overlay",
              "size": 10,
              "solidity": 0.2
             }
            },
            "type": "barpolar"
           }
          ],
          "carpet": [
           {
            "aaxis": {
             "endlinecolor": "#2a3f5f",
             "gridcolor": "white",
             "linecolor": "white",
             "minorgridcolor": "white",
             "startlinecolor": "#2a3f5f"
            },
            "baxis": {
             "endlinecolor": "#2a3f5f",
             "gridcolor": "white",
             "linecolor": "white",
             "minorgridcolor": "white",
             "startlinecolor": "#2a3f5f"
            },
            "type": "carpet"
           }
          ],
          "choropleth": [
           {
            "colorbar": {
             "outlinewidth": 0,
             "ticks": ""
            },
            "type": "choropleth"
           }
          ],
          "contour": [
           {
            "colorbar": {
             "outlinewidth": 0,
             "ticks": ""
            },
            "colorscale": [
             [
              0,
              "#0d0887"
             ],
             [
              0.1111111111111111,
              "#46039f"
             ],
             [
              0.2222222222222222,
              "#7201a8"
             ],
             [
              0.3333333333333333,
              "#9c179e"
             ],
             [
              0.4444444444444444,
              "#bd3786"
             ],
             [
              0.5555555555555556,
              "#d8576b"
             ],
             [
              0.6666666666666666,
              "#ed7953"
             ],
             [
              0.7777777777777778,
              "#fb9f3a"
             ],
             [
              0.8888888888888888,
              "#fdca26"
             ],
             [
              1,
              "#f0f921"
             ]
            ],
            "type": "contour"
           }
          ],
          "contourcarpet": [
           {
            "colorbar": {
             "outlinewidth": 0,
             "ticks": ""
            },
            "type": "contourcarpet"
           }
          ],
          "heatmap": [
           {
            "colorbar": {
             "outlinewidth": 0,
             "ticks": ""
            },
            "colorscale": [
             [
              0,
              "#0d0887"
             ],
             [
              0.1111111111111111,
              "#46039f"
             ],
             [
              0.2222222222222222,
              "#7201a8"
             ],
             [
              0.3333333333333333,
              "#9c179e"
             ],
             [
              0.4444444444444444,
              "#bd3786"
             ],
             [
              0.5555555555555556,
              "#d8576b"
             ],
             [
              0.6666666666666666,
              "#ed7953"
             ],
             [
              0.7777777777777778,
              "#fb9f3a"
             ],
             [
              0.8888888888888888,
              "#fdca26"
             ],
             [
              1,
              "#f0f921"
             ]
            ],
            "type": "heatmap"
           }
          ],
          "heatmapgl": [
           {
            "colorbar": {
             "outlinewidth": 0,
             "ticks": ""
            },
            "colorscale": [
             [
              0,
              "#0d0887"
             ],
             [
              0.1111111111111111,
              "#46039f"
             ],
             [
              0.2222222222222222,
              "#7201a8"
             ],
             [
              0.3333333333333333,
              "#9c179e"
             ],
             [
              0.4444444444444444,
              "#bd3786"
             ],
             [
              0.5555555555555556,
              "#d8576b"
             ],
             [
              0.6666666666666666,
              "#ed7953"
             ],
             [
              0.7777777777777778,
              "#fb9f3a"
             ],
             [
              0.8888888888888888,
              "#fdca26"
             ],
             [
              1,
              "#f0f921"
             ]
            ],
            "type": "heatmapgl"
           }
          ],
          "histogram": [
           {
            "marker": {
             "pattern": {
              "fillmode": "overlay",
              "size": 10,
              "solidity": 0.2
             }
            },
            "type": "histogram"
           }
          ],
          "histogram2d": [
           {
            "colorbar": {
             "outlinewidth": 0,
             "ticks": ""
            },
            "colorscale": [
             [
              0,
              "#0d0887"
             ],
             [
              0.1111111111111111,
              "#46039f"
             ],
             [
              0.2222222222222222,
              "#7201a8"
             ],
             [
              0.3333333333333333,
              "#9c179e"
             ],
             [
              0.4444444444444444,
              "#bd3786"
             ],
             [
              0.5555555555555556,
              "#d8576b"
             ],
             [
              0.6666666666666666,
              "#ed7953"
             ],
             [
              0.7777777777777778,
              "#fb9f3a"
             ],
             [
              0.8888888888888888,
              "#fdca26"
             ],
             [
              1,
              "#f0f921"
             ]
            ],
            "type": "histogram2d"
           }
          ],
          "histogram2dcontour": [
           {
            "colorbar": {
             "outlinewidth": 0,
             "ticks": ""
            },
            "colorscale": [
             [
              0,
              "#0d0887"
             ],
             [
              0.1111111111111111,
              "#46039f"
             ],
             [
              0.2222222222222222,
              "#7201a8"
             ],
             [
              0.3333333333333333,
              "#9c179e"
             ],
             [
              0.4444444444444444,
              "#bd3786"
             ],
             [
              0.5555555555555556,
              "#d8576b"
             ],
             [
              0.6666666666666666,
              "#ed7953"
             ],
             [
              0.7777777777777778,
              "#fb9f3a"
             ],
             [
              0.8888888888888888,
              "#fdca26"
             ],
             [
              1,
              "#f0f921"
             ]
            ],
            "type": "histogram2dcontour"
           }
          ],
          "mesh3d": [
           {
            "colorbar": {
             "outlinewidth": 0,
             "ticks": ""
            },
            "type": "mesh3d"
           }
          ],
          "parcoords": [
           {
            "line": {
             "colorbar": {
              "outlinewidth": 0,
              "ticks": ""
             }
            },
            "type": "parcoords"
           }
          ],
          "pie": [
           {
            "automargin": true,
            "type": "pie"
           }
          ],
          "scatter": [
           {
            "fillpattern": {
             "fillmode": "overlay",
             "size": 10,
             "solidity": 0.2
            },
            "type": "scatter"
           }
          ],
          "scatter3d": [
           {
            "line": {
             "colorbar": {
              "outlinewidth": 0,
              "ticks": ""
             }
            },
            "marker": {
             "colorbar": {
              "outlinewidth": 0,
              "ticks": ""
             }
            },
            "type": "scatter3d"
           }
          ],
          "scattercarpet": [
           {
            "marker": {
             "colorbar": {
              "outlinewidth": 0,
              "ticks": ""
             }
            },
            "type": "scattercarpet"
           }
          ],
          "scattergeo": [
           {
            "marker": {
             "colorbar": {
              "outlinewidth": 0,
              "ticks": ""
             }
            },
            "type": "scattergeo"
           }
          ],
          "scattergl": [
           {
            "marker": {
             "colorbar": {
              "outlinewidth": 0,
              "ticks": ""
             }
            },
            "type": "scattergl"
           }
          ],
          "scattermapbox": [
           {
            "marker": {
             "colorbar": {
              "outlinewidth": 0,
              "ticks": ""
             }
            },
            "type": "scattermapbox"
           }
          ],
          "scatterpolar": [
           {
            "marker": {
             "colorbar": {
              "outlinewidth": 0,
              "ticks": ""
             }
            },
            "type": "scatterpolar"
           }
          ],
          "scatterpolargl": [
           {
            "marker": {
             "colorbar": {
              "outlinewidth": 0,
              "ticks": ""
             }
            },
            "type": "scatterpolargl"
           }
          ],
          "scatterternary": [
           {
            "marker": {
             "colorbar": {
              "outlinewidth": 0,
              "ticks": ""
             }
            },
            "type": "scatterternary"
           }
          ],
          "surface": [
           {
            "colorbar": {
             "outlinewidth": 0,
             "ticks": ""
            },
            "colorscale": [
             [
              0,
              "#0d0887"
             ],
             [
              0.1111111111111111,
              "#46039f"
             ],
             [
              0.2222222222222222,
              "#7201a8"
             ],
             [
              0.3333333333333333,
              "#9c179e"
             ],
             [
              0.4444444444444444,
              "#bd3786"
             ],
             [
              0.5555555555555556,
              "#d8576b"
             ],
             [
              0.6666666666666666,
              "#ed7953"
             ],
             [
              0.7777777777777778,
              "#fb9f3a"
             ],
             [
              0.8888888888888888,
              "#fdca26"
             ],
             [
              1,
              "#f0f921"
             ]
            ],
            "type": "surface"
           }
          ],
          "table": [
           {
            "cells": {
             "fill": {
              "color": "#EBF0F8"
             },
             "line": {
              "color": "white"
             }
            },
            "header": {
             "fill": {
              "color": "#C8D4E3"
             },
             "line": {
              "color": "white"
             }
            },
            "type": "table"
           }
          ]
         },
         "layout": {
          "annotationdefaults": {
           "arrowcolor": "#2a3f5f",
           "arrowhead": 0,
           "arrowwidth": 1
          },
          "autotypenumbers": "strict",
          "coloraxis": {
           "colorbar": {
            "outlinewidth": 0,
            "ticks": ""
           }
          },
          "colorscale": {
           "diverging": [
            [
             0,
             "#8e0152"
            ],
            [
             0.1,
             "#c51b7d"
            ],
            [
             0.2,
             "#de77ae"
            ],
            [
             0.3,
             "#f1b6da"
            ],
            [
             0.4,
             "#fde0ef"
            ],
            [
             0.5,
             "#f7f7f7"
            ],
            [
             0.6,
             "#e6f5d0"
            ],
            [
             0.7,
             "#b8e186"
            ],
            [
             0.8,
             "#7fbc41"
            ],
            [
             0.9,
             "#4d9221"
            ],
            [
             1,
             "#276419"
            ]
           ],
           "sequential": [
            [
             0,
             "#0d0887"
            ],
            [
             0.1111111111111111,
             "#46039f"
            ],
            [
             0.2222222222222222,
             "#7201a8"
            ],
            [
             0.3333333333333333,
             "#9c179e"
            ],
            [
             0.4444444444444444,
             "#bd3786"
            ],
            [
             0.5555555555555556,
             "#d8576b"
            ],
            [
             0.6666666666666666,
             "#ed7953"
            ],
            [
             0.7777777777777778,
             "#fb9f3a"
            ],
            [
             0.8888888888888888,
             "#fdca26"
            ],
            [
             1,
             "#f0f921"
            ]
           ],
           "sequentialminus": [
            [
             0,
             "#0d0887"
            ],
            [
             0.1111111111111111,
             "#46039f"
            ],
            [
             0.2222222222222222,
             "#7201a8"
            ],
            [
             0.3333333333333333,
             "#9c179e"
            ],
            [
             0.4444444444444444,
             "#bd3786"
            ],
            [
             0.5555555555555556,
             "#d8576b"
            ],
            [
             0.6666666666666666,
             "#ed7953"
            ],
            [
             0.7777777777777778,
             "#fb9f3a"
            ],
            [
             0.8888888888888888,
             "#fdca26"
            ],
            [
             1,
             "#f0f921"
            ]
           ]
          },
          "colorway": [
           "#636efa",
           "#EF553B",
           "#00cc96",
           "#ab63fa",
           "#FFA15A",
           "#19d3f3",
           "#FF6692",
           "#B6E880",
           "#FF97FF",
           "#FECB52"
          ],
          "font": {
           "color": "#2a3f5f"
          },
          "geo": {
           "bgcolor": "white",
           "lakecolor": "white",
           "landcolor": "#E5ECF6",
           "showlakes": true,
           "showland": true,
           "subunitcolor": "white"
          },
          "hoverlabel": {
           "align": "left"
          },
          "hovermode": "closest",
          "mapbox": {
           "style": "light"
          },
          "paper_bgcolor": "white",
          "plot_bgcolor": "#E5ECF6",
          "polar": {
           "angularaxis": {
            "gridcolor": "white",
            "linecolor": "white",
            "ticks": ""
           },
           "bgcolor": "#E5ECF6",
           "radialaxis": {
            "gridcolor": "white",
            "linecolor": "white",
            "ticks": ""
           }
          },
          "scene": {
           "xaxis": {
            "backgroundcolor": "#E5ECF6",
            "gridcolor": "white",
            "gridwidth": 2,
            "linecolor": "white",
            "showbackground": true,
            "ticks": "",
            "zerolinecolor": "white"
           },
           "yaxis": {
            "backgroundcolor": "#E5ECF6",
            "gridcolor": "white",
            "gridwidth": 2,
            "linecolor": "white",
            "showbackground": true,
            "ticks": "",
            "zerolinecolor": "white"
           },
           "zaxis": {
            "backgroundcolor": "#E5ECF6",
            "gridcolor": "white",
            "gridwidth": 2,
            "linecolor": "white",
            "showbackground": true,
            "ticks": "",
            "zerolinecolor": "white"
           }
          },
          "shapedefaults": {
           "line": {
            "color": "#2a3f5f"
           }
          },
          "ternary": {
           "aaxis": {
            "gridcolor": "white",
            "linecolor": "white",
            "ticks": ""
           },
           "baxis": {
            "gridcolor": "white",
            "linecolor": "white",
            "ticks": ""
           },
           "bgcolor": "#E5ECF6",
           "caxis": {
            "gridcolor": "white",
            "linecolor": "white",
            "ticks": ""
           }
          },
          "title": {
           "x": 0.05
          },
          "xaxis": {
           "automargin": true,
           "gridcolor": "white",
           "linecolor": "white",
           "ticks": "",
           "title": {
            "standoff": 15
           },
           "zerolinecolor": "white",
           "zerolinewidth": 2
          },
          "yaxis": {
           "automargin": true,
           "gridcolor": "white",
           "linecolor": "white",
           "ticks": "",
           "title": {
            "standoff": 15
           },
           "zerolinecolor": "white",
           "zerolinewidth": 2
          }
         }
        },
        "width": 500,
        "xaxis": {
         "autorange": false,
         "exponentformat": "e",
         "linecolor": "black",
         "linewidth": 1,
         "mirror": false,
         "range": [
          99.22,
          139.78
         ],
         "showexponent": "all",
         "showline": true,
         "side": "bottom",
         "ticks": "outside",
         "title": {
          "text": "Birth"
         },
         "type": "linear",
         "zeroline": true
        },
        "yaxis": {
         "autorange": false,
         "exponentformat": "e",
         "linecolor": "black",
         "linewidth": 1,
         "mirror": false,
         "range": [
          99.22,
          139.78
         ],
         "scaleanchor": "x",
         "scaleratio": 1,
         "showexponent": "all",
         "showline": true,
         "side": "left",
         "ticks": "outside",
         "title": {
          "text": "Death"
         },
         "type": "linear",
         "zeroline": true
        }
       }
      }
     },
     "metadata": {},
     "output_type": "display_data"
    },
    {
     "name": "stdout",
     "output_type": "stream",
     "text": [
      "[[ True  True  True  True  True]\n",
      " [ True False False False  True]\n",
      " [ True False  True  True  True]\n",
      " [ True False  True  True  True]\n",
      " [ True  True  True  True  True]]\n"
     ]
    },
    {
     "data": {
      "image/png": "[encoded data removed]",
      "text/plain": [
       "<Figure size 640x480 with 1 Axes>"
      ]
     },
     "metadata": {},
     "output_type": "display_data"
    }
   ],
   "source": [
    "X = numpy.array([[\n",
    "    [ 115, 119, 119, 119, 119 ],\n",
    "    [ 115, 94, 94, 94, 114 ],\n",
    "    [ 115, 94, 139, 100, 114 ],\n",
    "    [ 115, 94, 99, 99, 114 ],\n",
    "    [ 115, 117, 117, 117, 117 ]\n",
    "]])\n",
    "\n",
    "gtda.homology.CubicalPersistence(homology_dimensions = list(range(0, 5))).fit_transform_plot(X)\n",
    "plot(X[0], 99)"
   ]
  },
  {
   "cell_type": "code",
   "execution_count": 1,
   "metadata": {},
   "outputs": [
    {
     "data": {
      "image/png": "[encoded data removed]",
      "text/plain": [
       "<Figure size 1500x500 with 3 Axes>"
      ]
     },
     "metadata": {},
     "output_type": "display_data"
    }
   ],
   "source": [
    "import numpy\n",
    "import itertools\n",
    "import matplotlib.pyplot as plt\n",
    "import matplotlib.patches as ptchs\n",
    "\n",
    "eps = 1.125\n",
    "numpy.random.seed(6876)\n",
    "homology_dimensions = [ 3, 4, 5, 2, 1 ]\n",
    "\n",
    "points = numpy.random.randint(0, 10, (25, 2))\n",
    "points = numpy.unique(points, axis = 0)\n",
    "fig, axes = plt.subplots(1, 3, figsize = (15, 5))\n",
    "\n",
    "def setup_axis(ax, points):\n",
    "    ax.set_aspect('equal')\n",
    "    for (x, y) in points:\n",
    "        ax.add_patch(ptchs.Circle((x, y), eps, color = 'gray', alpha = 0.2))\n",
    "    ax.scatter(points[:, 0], points[:, 1], alpha = 0)\n",
    "\n",
    "def draw_simplex(ax, points):\n",
    "    colors = [ None, 'cornflowerblue', 'black', (0, 0, 1, 0.1), (0, 0.75, 0, 0.1) ]\n",
    "    color = colors[len(points)]\n",
    "    if len(points) == 1:\n",
    "        ax.scatter(points[0][0], points[0][1], 25, color = color)\n",
    "    else:\n",
    "        for pts in itertools.permutations(points):\n",
    "            ax.add_patch(ptchs.Polygon(pts, color = color, linewidth = 0.5))\n",
    "\n",
    "\n",
    "setup_axis(axes[0], points)\n",
    "axes[0].set_title('Set of points')\n",
    "axes[0].scatter(points[:, 0], points[:, 1], color = 'cornflowerblue')\n",
    "\n",
    "\n",
    "setup_axis(axes[1], points)\n",
    "axes[1].set_title(f'Čech complex ($\\epsilon$ = {eps})')\n",
    "for dim in homology_dimensions:\n",
    "    for pts in itertools.combinations(points, dim):\n",
    "        pts = numpy.array(pts)\n",
    "        xmin, xmax = numpy.min(pts[:, 0]), numpy.max(pts[:, 0])\n",
    "        ymin, ymax = numpy.min(pts[:, 1]), numpy.max(pts[:, 1])\n",
    "        if (xmax - xmin > 2 * eps) or (ymax - ymin > 2 * eps): continue\n",
    "        x_range = numpy.arange(xmin - eps, xmax + eps, 0.01)\n",
    "        y_range = numpy.arange(ymin - eps, ymax + eps, 0.01)\n",
    "        for (c_x, c_y) in itertools.product(x_range, y_range):\n",
    "            x_dist = (pts[:, 0] - c_x) ** 2\n",
    "            y_dist = (pts[:, 1] - c_y) ** 2\n",
    "            is_ok = (x_dist + y_dist) <= (eps ** 2)\n",
    "            if (is_ok.all()):\n",
    "                draw_simplex(axes[1], pts)\n",
    "                break\n",
    "\n",
    "\n",
    "setup_axis(axes[2], points)\n",
    "axes[2].set_title(f'Vietoris–Rips complex ($\\epsilon$ = {2 * eps})')\n",
    "for dim in homology_dimensions:\n",
    "    for pts in itertools.combinations(points, dim):\n",
    "        is_simplex = True\n",
    "        for (x1, y1), (x2, y2) in itertools.product(pts, pts):\n",
    "            dist = (x2 - x1) ** 2 + (y2 - y1) ** 2\n",
    "            if dist > (2 * eps) ** 2:\n",
    "                is_simplex = False\n",
    "                break\n",
    "        if is_simplex: draw_simplex(axes[2], pts)"
   ]
  },
  {
   "cell_type": "code",
   "execution_count": 4,
   "metadata": {},
   "outputs": [
    {
     "data": {
      "application/vnd.plotly.v1+json": {
       "config": {
        "plotlyServerURL": "https://plot.ly"
       },
       "data": [
        {
         "hoverinfo": "none",
         "line": {
          "color": "black",
          "dash": "dash",
          "width": 1
         },
         "mode": "lines",
         "showlegend": false,
         "type": "scatter",
         "x": [
          -0.7224956747275378,
          6.743292964123686
         ],
         "y": [
          -0.7224956747275378,
          6.743292964123686
         ]
        },
        {
         "hoverinfo": "text",
         "hovertext": [
          "(0.0, inf)",
          "(0.0, 1.5)",
          "(0.0, 1.1180340051651), multiplicity: 5",
          "(0.0, 1.1180340051651), multiplicity: 5",
          "(0.0, 1.1180340051651), multiplicity: 5",
          "(0.0, 1.1180340051651), multiplicity: 5",
          "(0.0, 1.1180340051651), multiplicity: 5",
          "(0.0, 1.0), multiplicity: 4",
          "(0.0, 1.0), multiplicity: 4",
          "(0.0, 1.0), multiplicity: 4",
          "(0.0, 1.0), multiplicity: 4",
          "(0.0, 0.7071067690849304), multiplicity: 4",
          "(0.0, 0.7071067690849304), multiplicity: 4",
          "(0.0, 0.7071067690849304), multiplicity: 4",
          "(0.0, 0.7071067690849304), multiplicity: 4",
          "(0.0, 0.5), multiplicity: 7",
          "(0.0, 0.5), multiplicity: 7",
          "(0.0, 0.5), multiplicity: 7",
          "(0.0, 0.5), multiplicity: 7",
          "(0.0, 0.5), multiplicity: 7",
          "(0.0, 0.5), multiplicity: 7",
          "(0.0, 0.5), multiplicity: 7"
         ],
         "mode": "markers",
         "name": "H0",
         "type": "scatter",
         "x": [
          0,
          0,
          0,
          0,
          0,
          0,
          0,
          0,
          0,
          0,
          0,
          0,
          0,
          0,
          0,
          0,
          0,
          0,
          0,
          0,
          0,
          0
         ],
         "y": [
          6.622877018335763,
          1.5,
          1.1180340051651,
          1.1180340051651,
          1.1180340051651,
          1.1180340051651,
          1.1180340051651,
          1,
          1,
          1,
          1,
          0.7071067690849304,
          0.7071067690849304,
          0.7071067690849304,
          0.7071067690849304,
          0.5,
          0.5,
          0.5,
          0.5,
          0.5,
          0.5,
          0.5
         ]
        },
        {
         "hoverinfo": "text",
         "hovertext": [
          "(1.5811388492584229, 2.5495097567963922)",
          "(1.1180340051651, 2.0615528128088303)",
          "(1.5811388492584229, 2.5)",
          "(1.5811388492584229, 2.23606797749979), multiplicity: 2",
          "(1.5811388492584229, 2.23606797749979), multiplicity: 2",
          "(3.2015621662139893, 3.7336309405188937)",
          "(3.041381359100342, 3.5355339059327378)",
          "(2.5495097637176514, 3.0413812651491097)",
          "(1.5811388492584229, 2.0615528128088303)",
          "(2.5495097637176514, 3.021958207017211)",
          "(1.1180340051651, 1.5811388300841898)",
          "(2.2360680103302, 2.692582403567252), multiplicity: 2",
          "(2.2360680103302, 2.692582403567252), multiplicity: 2",
          "(3.2015621662139893, 3.640054944640259)",
          "(2.5495097637176514, 2.850438562747845)",
          "(1.1180340051651, 1.4142135623730951), multiplicity: 2",
          "(1.1180340051651, 1.4142135623730951), multiplicity: 2",
          "(2.2360680103302, 2.5), multiplicity: 2",
          "(2.2360680103302, 2.5), multiplicity: 2",
          "(2.0, 2.23606797749979)",
          "(1.5811388492584229, 1.8027756377319946), multiplicity: 4",
          "(1.5811388492584229, 1.8027756377319946), multiplicity: 4",
          "(1.5811388492584229, 1.8027756377319946), multiplicity: 4",
          "(1.5811388492584229, 1.8027756377319946), multiplicity: 4",
          "(4.031128883361816, 4.249182927993988)",
          "(3.1622776985168457, 3.35790264958376)",
          "(3.1622776985168457, 3.3579026495837594)",
          "(3.1622776985168457, 3.3541019662496847)",
          "(1.5811388492584229, 1.7677669529663689)",
          "(1.4142135381698608, 1.5811388300841898)",
          "(2.5495097637176514, 2.692582403567252), multiplicity: 2",
          "(2.5495097637176514, 2.692582403567252), multiplicity: 2",
          "(2.2360680103302, 2.3743957340849517)",
          "(2.5495097637176514, 2.6874192494328497), multiplicity: 2",
          "(2.5495097637176514, 2.6874192494328497), multiplicity: 2",
          "(2.2360680103302, 2.3570226039551585), multiplicity: 3",
          "(2.2360680103302, 2.3570226039551585), multiplicity: 3",
          "(2.2360680103302, 2.3570226039551585), multiplicity: 3",
          "(4.4721360206604, 4.573660169594892)",
          "(3.1622776985168457, 3.2596012026013246), multiplicity: 3",
          "(3.1622776985168457, 3.2596012026013246), multiplicity: 3",
          "(3.1622776985168457, 3.2596012026013246), multiplicity: 3",
          "(3.8078866004943848, 3.900775484787102), multiplicity: 2",
          "(3.8078866004943848, 3.900775484787102), multiplicity: 2",
          "(1.5, 1.5811388300841898)",
          "(3.9051249027252197, 3.9824615503479754)",
          "(3.1622776985168457, 3.234066120763363)",
          "(2.2360680103302, 2.3048861143232218)",
          "(4.949747562408447, 5.015282766154845)",
          "(3.2015621662139893, 3.2649655434629015)",
          "(3.8078866004943848, 3.870315083165091)",
          "(1.1180340051651, 1.1785113019775793)",
          "(3.041381359100342, 3.1016124838541645)",
          "(2.5495097637176514, 2.6), multiplicity: 2",
          "(2.5495097637176514, 2.6), multiplicity: 2",
          "(3.041381359100342, 3.0912432974398736)",
          "(4.527692794799805, 4.57155713815192)",
          "(4.031128883361816, 4.072055089639779), multiplicity: 3",
          "(4.031128883361816, 4.072055089639779), multiplicity: 3",
          "(4.031128883361816, 4.072055089639779), multiplicity: 3",
          "(4.031128883361816, 4.072055089639778)",
          "(4.924428939819336, 4.964152487318995)",
          "(3.2015621662139893, 3.2412251026741394)",
          "(3.8078866004943848, 3.8465462908103603)",
          "(4.4721360206604, 4.5069390943299865), multiplicity: 2",
          "(4.4721360206604, 4.5069390943299865), multiplicity: 2",
          "(3.2015621662139893, 3.234066120763363)",
          "(4.031128883361816, 4.0625)",
          "(3.041381359100342, 3.0722590239437952)",
          "(3.8078866004943848, 3.837520358252188), multiplicity: 2",
          "(3.8078866004943848, 3.837520358252188), multiplicity: 2",
          "(4.527692794799805, 4.557165248489549)",
          "(3.1622776985168457, 3.191543578462174)",
          "(4.4721360206604, 4.500918179972828)",
          "(4.527692794799805, 4.555555555555555)",
          "(4.031128883361816, 4.055936055209774)",
          "(4.3011627197265625, 4.324926143830029)",
          "(3.2015621662139893, 3.221264225405383)",
          "(4.031128883361816, 4.047752156526034), multiplicity: 2",
          "(4.031128883361816, 4.047752156526034), multiplicity: 2",
          "(3.9051249027252197, 3.9212285138526726)",
          "(5.147815227508545, 5.163022829092257)",
          "(4.3011627197265625, 4.313869197787678)",
          "(5.408327102661133, 5.420332093147061)",
          "(3.041381359100342, 3.050366162907439)",
          "(4.3011627197265625, 4.308597665230585), multiplicity: 3",
          "(4.3011627197265625, 4.308597665230585), multiplicity: 3",
          "(4.3011627197265625, 4.308597665230585), multiplicity: 3",
          "(4.527692794799805, 4.533642233355621)",
          "(5.315073013305664, 5.320560850943727)",
          "(4.949747562408447, 4.9538688241142)",
          "(3.9051249027252197, 3.9088141395205387), multiplicity: 2",
          "(3.9051249027252197, 3.9088141395205387), multiplicity: 2",
          "(3.2015621662139893, 3.205189952309455)",
          "(5.315073013305664, 5.315890798640592)",
          "(4.242640495300293, 4.242640687119285)",
          "(4.7434163093566895, 4.743416490252569), multiplicity: 2",
          "(4.7434163093566895, 4.743416490252569), multiplicity: 2",
          "(4.27200174331665, 4.272001872658765), multiplicity: 5",
          "(4.27200174331665, 4.272001872658765), multiplicity: 5",
          "(4.27200174331665, 4.272001872658765), multiplicity: 5",
          "(4.27200174331665, 4.272001872658765), multiplicity: 5",
          "(4.27200174331665, 4.272001872658765), multiplicity: 5",
          "(2.915475845336914, 2.9154759474226504), multiplicity: 7",
          "(2.915475845336914, 2.9154759474226504), multiplicity: 7",
          "(2.915475845336914, 2.9154759474226504), multiplicity: 7",
          "(2.915475845336914, 2.9154759474226504), multiplicity: 7",
          "(2.915475845336914, 2.9154759474226504), multiplicity: 7",
          "(2.915475845336914, 2.9154759474226504), multiplicity: 7",
          "(2.915475845336914, 2.9154759474226504), multiplicity: 7",
          "(4.123105525970459, 4.123105625617661), multiplicity: 4",
          "(4.123105525970459, 4.123105625617661), multiplicity: 4",
          "(4.123105525970459, 4.123105625617661), multiplicity: 4",
          "(4.123105525970459, 4.123105625617661), multiplicity: 4",
          "(5.656854152679443, 5.656854249492381), multiplicity: 2",
          "(5.656854152679443, 5.656854249492381), multiplicity: 2",
          "(2.1213202476501465, 2.1213203435596424), multiplicity: 3",
          "(2.1213202476501465, 2.1213203435596424), multiplicity: 3",
          "(2.1213202476501465, 2.1213203435596424), multiplicity: 3",
          "(4.7169904708862305, 4.716990566028302), multiplicity: 3",
          "(4.7169904708862305, 4.716990566028302), multiplicity: 3",
          "(4.7169904708862305, 4.716990566028302), multiplicity: 3",
          "(3.3541018962860107, 3.3541019662496847), multiplicity: 5",
          "(3.3541018962860107, 3.3541019662496847), multiplicity: 5",
          "(3.3541018962860107, 3.3541019662496847), multiplicity: 5",
          "(3.3541018962860107, 3.3541019662496847), multiplicity: 5",
          "(3.3541018962860107, 3.3541019662496847), multiplicity: 5",
          "(2.0615527629852295, 2.0615528128088303), multiplicity: 4",
          "(2.0615527629852295, 2.0615528128088303), multiplicity: 4",
          "(2.0615527629852295, 2.0615528128088303), multiplicity: 4",
          "(2.0615527629852295, 2.0615528128088303), multiplicity: 4",
          "(2.8284270763397217, 2.8284271247461903), multiplicity: 2",
          "(2.8284270763397217, 2.8284271247461903), multiplicity: 2",
          "(6.020797252655029, 6.020797289396148)",
          "(2.692582368850708, 2.692582403567252), multiplicity: 4",
          "(2.692582368850708, 2.692582403567252), multiplicity: 4",
          "(2.692582368850708, 2.692582403567252), multiplicity: 4",
          "(2.692582368850708, 2.692582403567252), multiplicity: 4",
          "(3.605551242828369, 3.605551275463989), multiplicity: 4",
          "(3.605551242828369, 3.605551275463989), multiplicity: 4",
          "(3.605551242828369, 3.605551275463989), multiplicity: 4",
          "(3.605551242828369, 3.605551275463989), multiplicity: 4",
          "(1.4142135381698608, 1.4142135623730951), multiplicity: 5",
          "(1.4142135381698608, 1.4142135623730951), multiplicity: 5",
          "(1.4142135381698608, 1.4142135623730951), multiplicity: 5",
          "(1.4142135381698608, 1.4142135623730951), multiplicity: 5",
          "(1.4142135381698608, 1.4142135623730951), multiplicity: 5",
          "(4.609772205352783, 4.6097722286464435), multiplicity: 7",
          "(4.609772205352783, 4.6097722286464435), multiplicity: 7",
          "(4.609772205352783, 4.6097722286464435), multiplicity: 7",
          "(4.609772205352783, 4.6097722286464435), multiplicity: 7",
          "(4.609772205352783, 4.6097722286464435), multiplicity: 7",
          "(4.609772205352783, 4.6097722286464435), multiplicity: 7",
          "(4.609772205352783, 4.6097722286464435), multiplicity: 7",
          "(1.8027756214141846, 1.8027756377319946), multiplicity: 6",
          "(1.8027756214141846, 1.8027756377319946), multiplicity: 6",
          "(1.8027756214141846, 1.8027756377319946), multiplicity: 6",
          "(1.8027756214141846, 1.8027756377319946), multiplicity: 6",
          "(1.8027756214141846, 1.8027756377319946), multiplicity: 6",
          "(1.8027756214141846, 1.8027756377319946), multiplicity: 6",
          "(0.7071067690849304, 0.7071067811865476)",
          "(3.640054941177368, 3.640054944640259), multiplicity: 6",
          "(3.640054941177368, 3.640054944640259), multiplicity: 6",
          "(3.640054941177368, 3.640054944640259), multiplicity: 6",
          "(3.640054941177368, 3.640054944640259), multiplicity: 6",
          "(3.640054941177368, 3.640054944640259), multiplicity: 6",
          "(3.640054941177368, 3.640054944640259), multiplicity: 6",
          "(3.535533905029297, 3.5355339059327378), multiplicity: 7",
          "(3.535533905029297, 3.5355339059327378), multiplicity: 7",
          "(3.535533905029297, 3.5355339059327378), multiplicity: 7",
          "(3.535533905029297, 3.5355339059327378), multiplicity: 7",
          "(3.535533905029297, 3.5355339059327378), multiplicity: 7",
          "(3.535533905029297, 3.5355339059327378), multiplicity: 7",
          "(3.535533905029297, 3.5355339059327378), multiplicity: 7"
         ],
         "mode": "markers",
         "name": "H1",
         "type": "scatter",
         "x": [
          1.5811388492584229,
          1.1180340051651,
          1.5811388492584229,
          1.5811388492584229,
          1.5811388492584229,
          3.2015621662139893,
          3.041381359100342,
          2.5495097637176514,
          1.5811388492584229,
          2.5495097637176514,
          1.1180340051651,
          2.2360680103302,
          2.2360680103302,
          3.2015621662139893,
          2.5495097637176514,
          1.1180340051651,
          1.1180340051651,
          2.2360680103302,
          2.2360680103302,
          2,
          1.5811388492584229,
          1.5811388492584229,
          1.5811388492584229,
          1.5811388492584229,
          4.031128883361816,
          3.1622776985168457,
          3.1622776985168457,
          3.1622776985168457,
          1.5811388492584229,
          1.4142135381698608,
          2.5495097637176514,
          2.5495097637176514,
          2.2360680103302,
          2.5495097637176514,
          2.5495097637176514,
          2.2360680103302,
          2.2360680103302,
          2.2360680103302,
          4.4721360206604,
          3.1622776985168457,
          3.1622776985168457,
          3.1622776985168457,
          3.8078866004943848,
          3.8078866004943848,
          1.5,
          3.9051249027252197,
          3.1622776985168457,
          2.2360680103302,
          4.949747562408447,
          3.2015621662139893,
          3.8078866004943848,
          1.1180340051651,
          3.041381359100342,
          2.5495097637176514,
          2.5495097637176514,
          3.041381359100342,
          4.527692794799805,
          4.031128883361816,
          4.031128883361816,
          4.031128883361816,
          4.031128883361816,
          4.924428939819336,
          3.2015621662139893,
          3.8078866004943848,
          4.4721360206604,
          4.4721360206604,
          3.2015621662139893,
          4.031128883361816,
          3.041381359100342,
          3.8078866004943848,
          3.8078866004943848,
          4.527692794799805,
          3.1622776985168457,
          4.4721360206604,
          4.527692794799805,
          4.031128883361816,
          4.3011627197265625,
          3.2015621662139893,
          4.031128883361816,
          4.031128883361816,
          3.9051249027252197,
          5.147815227508545,
          4.3011627197265625,
          5.408327102661133,
          3.041381359100342,
          4.3011627197265625,
          4.3011627197265625,
          4.3011627197265625,
          4.527692794799805,
          5.315073013305664,
          4.949747562408447,
          3.9051249027252197,
          3.9051249027252197,
          3.2015621662139893,
          5.315073013305664,
          4.242640495300293,
          4.7434163093566895,
          4.7434163093566895,
          4.27200174331665,
          4.27200174331665,
          4.27200174331665,
          4.27200174331665,
          4.27200174331665,
          2.915475845336914,
          2.915475845336914,
          2.915475845336914,
          2.915475845336914,
          2.915475845336914,
          2.915475845336914,
          2.915475845336914,
          4.123105525970459,
          4.123105525970459,
          4.123105525970459,
          4.123105525970459,
          5.656854152679443,
          5.656854152679443,
          2.1213202476501465,
          2.1213202476501465,
          2.1213202476501465,
          4.7169904708862305,
          4.7169904708862305,
          4.7169904708862305,
          3.3541018962860107,
          3.3541018962860107,
          3.3541018962860107,
          3.3541018962860107,
          3.3541018962860107,
          2.0615527629852295,
          2.0615527629852295,
          2.0615527629852295,
          2.0615527629852295,
          2.8284270763397217,
          2.8284270763397217,
          6.020797252655029,
          2.692582368850708,
          2.692582368850708,
          2.692582368850708,
          2.692582368850708,
          3.605551242828369,
          3.605551242828369,
          3.605551242828369,
          3.605551242828369,
          1.4142135381698608,
          1.4142135381698608,
          1.4142135381698608,
          1.4142135381698608,
          1.4142135381698608,
          4.609772205352783,
          4.609772205352783,
          4.609772205352783,
          4.609772205352783,
          4.609772205352783,
          4.609772205352783,
          4.609772205352783,
          1.8027756214141846,
          1.8027756214141846,
          1.8027756214141846,
          1.8027756214141846,
          1.8027756214141846,
          1.8027756214141846,
          0.7071067690849304,
          3.640054941177368,
          3.640054941177368,
          3.640054941177368,
          3.640054941177368,
          3.640054941177368,
          3.640054941177368,
          3.535533905029297,
          3.535533905029297,
          3.535533905029297,
          3.535533905029297,
          3.535533905029297,
          3.535533905029297,
          3.535533905029297
         ],
         "y": [
          2.5495097567963922,
          2.0615528128088303,
          2.5,
          2.23606797749979,
          2.23606797749979,
          3.7336309405188937,
          3.5355339059327378,
          3.0413812651491097,
          2.0615528128088303,
          3.021958207017211,
          1.5811388300841898,
          2.692582403567252,
          2.692582403567252,
          3.640054944640259,
          2.850438562747845,
          1.4142135623730951,
          1.4142135623730951,
          2.5,
          2.5,
          2.23606797749979,
          1.8027756377319946,
          1.8027756377319946,
          1.8027756377319946,
          1.8027756377319946,
          4.249182927993988,
          3.35790264958376,
          3.3579026495837594,
          3.3541019662496847,
          1.7677669529663689,
          1.5811388300841898,
          2.692582403567252,
          2.692582403567252,
          2.3743957340849517,
          2.6874192494328497,
          2.6874192494328497,
          2.3570226039551585,
          2.3570226039551585,
          2.3570226039551585,
          4.573660169594892,
          3.2596012026013246,
          3.2596012026013246,
          3.2596012026013246,
          3.900775484787102,
          3.900775484787102,
          1.5811388300841898,
          3.9824615503479754,
          3.234066120763363,
          2.3048861143232218,
          5.015282766154845,
          3.2649655434629015,
          3.870315083165091,
          1.1785113019775793,
          3.1016124838541645,
          2.6,
          2.6,
          3.0912432974398736,
          4.57155713815192,
          4.072055089639779,
          4.072055089639779,
          4.072055089639779,
          4.072055089639778,
          4.964152487318995,
          3.2412251026741394,
          3.8465462908103603,
          4.5069390943299865,
          4.5069390943299865,
          3.234066120763363,
          4.0625,
          3.0722590239437952,
          3.837520358252188,
          3.837520358252188,
          4.557165248489549,
          3.191543578462174,
          4.500918179972828,
          4.555555555555555,
          4.055936055209774,
          4.324926143830029,
          3.221264225405383,
          4.047752156526034,
          4.047752156526034,
          3.9212285138526726,
          5.163022829092257,
          4.313869197787678,
          5.420332093147061,
          3.050366162907439,
          4.308597665230585,
          4.308597665230585,
          4.308597665230585,
          4.533642233355621,
          5.320560850943727,
          4.9538688241142,
          3.9088141395205387,
          3.9088141395205387,
          3.205189952309455,
          5.315890798640592,
          4.242640687119285,
          4.743416490252569,
          4.743416490252569,
          4.272001872658765,
          4.272001872658765,
          4.272001872658765,
          4.272001872658765,
          4.272001872658765,
          2.9154759474226504,
          2.9154759474226504,
          2.9154759474226504,
          2.9154759474226504,
          2.9154759474226504,
          2.9154759474226504,
          2.9154759474226504,
          4.123105625617661,
          4.123105625617661,
          4.123105625617661,
          4.123105625617661,
          5.656854249492381,
          5.656854249492381,
          2.1213203435596424,
          2.1213203435596424,
          2.1213203435596424,
          4.716990566028302,
          4.716990566028302,
          4.716990566028302,
          3.3541019662496847,
          3.3541019662496847,
          3.3541019662496847,
          3.3541019662496847,
          3.3541019662496847,
          2.0615528128088303,
          2.0615528128088303,
          2.0615528128088303,
          2.0615528128088303,
          2.8284271247461903,
          2.8284271247461903,
          6.020797289396148,
          2.692582403567252,
          2.692582403567252,
          2.692582403567252,
          2.692582403567252,
          3.605551275463989,
          3.605551275463989,
          3.605551275463989,
          3.605551275463989,
          1.4142135623730951,
          1.4142135623730951,
          1.4142135623730951,
          1.4142135623730951,
          1.4142135623730951,
          4.6097722286464435,
          4.6097722286464435,
          4.6097722286464435,
          4.6097722286464435,
          4.6097722286464435,
          4.6097722286464435,
          4.6097722286464435,
          1.8027756377319946,
          1.8027756377319946,
          1.8027756377319946,
          1.8027756377319946,
          1.8027756377319946,
          1.8027756377319946,
          0.7071067811865476,
          3.640054944640259,
          3.640054944640259,
          3.640054944640259,
          3.640054944640259,
          3.640054944640259,
          3.640054944640259,
          3.5355339059327378,
          3.5355339059327378,
          3.5355339059327378,
          3.5355339059327378,
          3.5355339059327378,
          3.5355339059327378,
          3.5355339059327378
         ]
        },
        {
         "hoverinfo": "text",
         "hovertext": [
          "(1.5811388300841898, inf)",
          "(1.5811388300841898, 2.692582403567252)",
          "(2.5495097567963922, 3.5355339059327378)",
          "(1.118033988749895, 2.0615528128088303)",
          "(1.5811388300841898, 2.5)",
          "(1.118033988749895, 1.8027756377319946)",
          "(3.2015621187164243, 3.7336309405188937)",
          "(1.5811388300841898, 2.0615528128088303)",
          "(2.5495097567963922, 3.021958207017211)",
          "(2.23606797749979, 2.692582403567252), multiplicity: 2",
          "(2.23606797749979, 2.692582403567252), multiplicity: 2",
          "(3.2015621187164243, 3.640054944640259)",
          "(2.5495097567963922, 2.850438562747845)",
          "(1.118033988749895, 1.4142135623730951), multiplicity: 2",
          "(1.118033988749895, 1.4142135623730951), multiplicity: 2",
          "(1.5811388300841898, 1.8027756377319946), multiplicity: 3",
          "(1.5811388300841898, 1.8027756377319946), multiplicity: 3",
          "(1.5811388300841898, 1.8027756377319946), multiplicity: 3",
          "(4.031128874149275, 4.249182927993988)",
          "(3.1622776601683795, 3.35790264958376)",
          "(3.1622776601683795, 3.3579026495837594)",
          "(3.1622776601683795, 3.3541019662496847)",
          "(2.5495097567963922, 2.692582403567252)",
          "(2.23606797749979, 2.3743957340849517)",
          "(2.5495097567963922, 2.6874192494328497), multiplicity: 2",
          "(2.5495097567963922, 2.6874192494328497), multiplicity: 2",
          "(2.23606797749979, 2.3570226039551585), multiplicity: 3",
          "(2.23606797749979, 2.3570226039551585), multiplicity: 3",
          "(2.23606797749979, 2.3570226039551585), multiplicity: 3",
          "(4.47213595499958, 4.573660169594892)",
          "(2.973213749463701, 3.0731814857642954)",
          "(3.1622776601683795, 3.2596012026013246), multiplicity: 3",
          "(3.1622776601683795, 3.2596012026013246), multiplicity: 3",
          "(3.1622776601683795, 3.2596012026013246), multiplicity: 3",
          "(3.8078865529319543, 3.900775484787102), multiplicity: 2",
          "(3.8078865529319543, 3.900775484787102), multiplicity: 2",
          "(3.905124837953327, 3.9824615503479754)",
          "(3.1622776601683795, 3.234066120763363)",
          "(2.23606797749979, 2.3048861143232218)",
          "(4.949747468305833, 5.015282766154845)",
          "(3.2015621187164243, 3.2649655434629015)",
          "(3.8078865529319543, 3.870315083165091)",
          "(3.0413812651491097, 3.1016124838541645)",
          "(2.5495097567963922, 2.6), multiplicity: 2",
          "(2.5495097567963922, 2.6), multiplicity: 2",
          "(3.0413812651491097, 3.0912432974398736)",
          "(4.527692569068709, 4.57155713815192)",
          "(4.031128874149275, 4.072055089639779), multiplicity: 3",
          "(4.031128874149275, 4.072055089639779), multiplicity: 3",
          "(4.031128874149275, 4.072055089639779), multiplicity: 3",
          "(4.031128874149275, 4.072055089639778)",
          "(4.924428900898052, 4.964152487318995)",
          "(3.2015621187164243, 3.2412251026741394)",
          "(3.8078865529319543, 3.8465462908103603)",
          "(4.47213595499958, 4.5069390943299865), multiplicity: 2",
          "(4.47213595499958, 4.5069390943299865), multiplicity: 2",
          "(3.2015621187164243, 3.234066120763363)",
          "(4.031128874149275, 4.0625)",
          "(3.0413812651491097, 3.0722590239437952)",
          "(3.8078865529319543, 3.837520358252188), multiplicity: 2",
          "(3.8078865529319543, 3.837520358252188), multiplicity: 2",
          "(4.527692569068709, 4.557165248489549)",
          "(3.1622776601683795, 3.191543578462174)",
          "(4.47213595499958, 4.500918179972828)",
          "(4.527692569068709, 4.555555555555555)",
          "(4.031128874149275, 4.055936055209774)",
          "(4.301162633521313, 4.324926143830029)",
          "(3.2015621187164243, 3.221264225405383)",
          "(4.031128874149275, 4.047752156526034), multiplicity: 2",
          "(4.031128874149275, 4.047752156526034), multiplicity: 2",
          "(3.905124837953327, 3.9212285138526726)",
          "(5.1478150704935, 5.163022829092257)",
          "(4.301162633521313, 4.313869197787678)",
          "(5.408326913195984, 5.420332093147061)",
          "(3.0413812651491097, 3.050366162907439)",
          "(4.301162633521313, 4.308597665230585), multiplicity: 3",
          "(4.301162633521313, 4.308597665230585), multiplicity: 3",
          "(4.301162633521313, 4.308597665230585), multiplicity: 3",
          "(4.527692569068709, 4.533642233355621)",
          "(5.315072906367325, 5.320560850943727)",
          "(4.949747468305833, 4.9538688241142)",
          "(3.905124837953327, 3.9088141395205387), multiplicity: 2",
          "(3.905124837953327, 3.9088141395205387), multiplicity: 2",
          "(3.2015621187164243, 3.205189952309455)",
          "(5.315072906367325, 5.315890798640592)"
         ],
         "mode": "markers",
         "name": "H2",
         "type": "scatter",
         "x": [
          1.5811388300841898,
          1.5811388300841898,
          2.5495097567963922,
          1.118033988749895,
          1.5811388300841898,
          1.118033988749895,
          3.2015621187164243,
          1.5811388300841898,
          2.5495097567963922,
          2.23606797749979,
          2.23606797749979,
          3.2015621187164243,
          2.5495097567963922,
          1.118033988749895,
          1.118033988749895,
          1.5811388300841898,
          1.5811388300841898,
          1.5811388300841898,
          4.031128874149275,
          3.1622776601683795,
          3.1622776601683795,
          3.1622776601683795,
          2.5495097567963922,
          2.23606797749979,
          2.5495097567963922,
          2.5495097567963922,
          2.23606797749979,
          2.23606797749979,
          2.23606797749979,
          4.47213595499958,
          2.973213749463701,
          3.1622776601683795,
          3.1622776601683795,
          3.1622776601683795,
          3.8078865529319543,
          3.8078865529319543,
          3.905124837953327,
          3.1622776601683795,
          2.23606797749979,
          4.949747468305833,
          3.2015621187164243,
          3.8078865529319543,
          3.0413812651491097,
          2.5495097567963922,
          2.5495097567963922,
          3.0413812651491097,
          4.527692569068709,
          4.031128874149275,
          4.031128874149275,
          4.031128874149275,
          4.031128874149275,
          4.924428900898052,
          3.2015621187164243,
          3.8078865529319543,
          4.47213595499958,
          4.47213595499958,
          3.2015621187164243,
          4.031128874149275,
          3.0413812651491097,
          3.8078865529319543,
          3.8078865529319543,
          4.527692569068709,
          3.1622776601683795,
          4.47213595499958,
          4.527692569068709,
          4.031128874149275,
          4.301162633521313,
          3.2015621187164243,
          4.031128874149275,
          4.031128874149275,
          3.905124837953327,
          5.1478150704935,
          4.301162633521313,
          5.408326913195984,
          3.0413812651491097,
          4.301162633521313,
          4.301162633521313,
          4.301162633521313,
          4.527692569068709,
          5.315072906367325,
          4.949747468305833,
          3.905124837953327,
          3.905124837953327,
          3.2015621187164243,
          5.315072906367325
         ],
         "y": [
          6.622877018335763,
          2.692582403567252,
          3.5355339059327378,
          2.0615528128088303,
          2.5,
          1.8027756377319946,
          3.7336309405188937,
          2.0615528128088303,
          3.021958207017211,
          2.692582403567252,
          2.692582403567252,
          3.640054944640259,
          2.850438562747845,
          1.4142135623730951,
          1.4142135623730951,
          1.8027756377319946,
          1.8027756377319946,
          1.8027756377319946,
          4.249182927993988,
          3.35790264958376,
          3.3579026495837594,
          3.3541019662496847,
          2.692582403567252,
          2.3743957340849517,
          2.6874192494328497,
          2.6874192494328497,
          2.3570226039551585,
          2.3570226039551585,
          2.3570226039551585,
          4.573660169594892,
          3.0731814857642954,
          3.2596012026013246,
          3.2596012026013246,
          3.2596012026013246,
          3.900775484787102,
          3.900775484787102,
          3.9824615503479754,
          3.234066120763363,
          2.3048861143232218,
          5.015282766154845,
          3.2649655434629015,
          3.870315083165091,
          3.1016124838541645,
          2.6,
          2.6,
          3.0912432974398736,
          4.57155713815192,
          4.072055089639779,
          4.072055089639779,
          4.072055089639779,
          4.072055089639778,
          4.964152487318995,
          3.2412251026741394,
          3.8465462908103603,
          4.5069390943299865,
          4.5069390943299865,
          3.234066120763363,
          4.0625,
          3.0722590239437952,
          3.837520358252188,
          3.837520358252188,
          4.557165248489549,
          3.191543578462174,
          4.500918179972828,
          4.555555555555555,
          4.055936055209774,
          4.324926143830029,
          3.221264225405383,
          4.047752156526034,
          4.047752156526034,
          3.9212285138526726,
          5.163022829092257,
          4.313869197787678,
          5.420332093147061,
          3.050366162907439,
          4.308597665230585,
          4.308597665230585,
          4.308597665230585,
          4.533642233355621,
          5.320560850943727,
          4.9538688241142,
          3.9088141395205387,
          3.9088141395205387,
          3.205189952309455,
          5.315890798640592
         ]
        },
        {
         "hoverinfo": "text",
         "hovertext": [
          "(2.5, 3.712142238654117), multiplicity: 2",
          "(2.5, 3.712142238654117), multiplicity: 2"
         ],
         "mode": "markers",
         "name": "H3",
         "type": "scatter",
         "x": [
          2.5,
          2.5
         ],
         "y": [
          3.712142238654117,
          3.712142238654117
         ]
        },
        {
         "hoverinfo": "text",
         "hovertext": [
          "(3.0731814857642954, inf)"
         ],
         "mode": "markers",
         "name": "H4",
         "type": "scatter",
         "x": [
          3.0731814857642954
         ],
         "y": [
          6.622877018335763
         ]
        },
        {
         "hoverinfo": "text",
         "hovertext": [
          "(3.712142238654117, inf), multiplicity: 2",
          "(3.712142238654117, inf), multiplicity: 2"
         ],
         "mode": "markers",
         "name": "H5",
         "type": "scatter",
         "x": [
          3.712142238654117,
          3.712142238654117
         ],
         "y": [
          6.622877018335763,
          6.622877018335763
         ]
        },
        {
         "hoverinfo": "none",
         "line": {
          "color": "black",
          "dash": "dash",
          "width": 0.5
         },
         "mode": "lines",
         "name": "∞",
         "showlegend": true,
         "type": "scatter",
         "x": [
          -0.7224956747275378,
          6.743292964123686
         ],
         "y": [
          6.622877018335763,
          6.622877018335763
         ]
        }
       ],
       "layout": {
        "height": 500,
        "plot_bgcolor": "white",
        "template": {
         "data": {
          "bar": [
           {
            "error_x": {
             "color": "#2a3f5f"
            },
            "error_y": {
             "color": "#2a3f5f"
            },
            "marker": {
             "line": {
              "color": "#E5ECF6",
              "width": 0.5
             },
             "pattern": {
              "fillmode": "overlay",
              "size": 10,
              "solidity": 0.2
             }
            },
            "type": "bar"
           }
          ],
          "barpolar": [
           {
            "marker": {
             "line": {
              "color": "#E5ECF6",
              "width": 0.5
             },
             "pattern": {
              "fillmode": "overlay",
              "size": 10,
              "solidity": 0.2
             }
            },
            "type": "barpolar"
           }
          ],
          "carpet": [
           {
            "aaxis": {
             "endlinecolor": "#2a3f5f",
             "gridcolor": "white",
             "linecolor": "white",
             "minorgridcolor": "white",
             "startlinecolor": "#2a3f5f"
            },
            "baxis": {
             "endlinecolor": "#2a3f5f",
             "gridcolor": "white",
             "linecolor": "white",
             "minorgridcolor": "white",
             "startlinecolor": "#2a3f5f"
            },
            "type": "carpet"
           }
          ],
          "choropleth": [
           {
            "colorbar": {
             "outlinewidth": 0,
             "ticks": ""
            },
            "type": "choropleth"
           }
          ],
          "contour": [
           {
            "colorbar": {
             "outlinewidth": 0,
             "ticks": ""
            },
            "colorscale": [
             [
              0,
              "#0d0887"
             ],
             [
              0.1111111111111111,
              "#46039f"
             ],
             [
              0.2222222222222222,
              "#7201a8"
             ],
             [
              0.3333333333333333,
              "#9c179e"
             ],
             [
              0.4444444444444444,
              "#bd3786"
             ],
             [
              0.5555555555555556,
              "#d8576b"
             ],
             [
              0.6666666666666666,
              "#ed7953"
             ],
             [
              0.7777777777777778,
              "#fb9f3a"
             ],
             [
              0.8888888888888888,
              "#fdca26"
             ],
             [
              1,
              "#f0f921"
             ]
            ],
            "type": "contour"
           }
          ],
          "contourcarpet": [
           {
            "colorbar": {
             "outlinewidth": 0,
             "ticks": ""
            },
            "type": "contourcarpet"
           }
          ],
          "heatmap": [
           {
            "colorbar": {
             "outlinewidth": 0,
             "ticks": ""
            },
            "colorscale": [
             [
              0,
              "#0d0887"
             ],
             [
              0.1111111111111111,
              "#46039f"
             ],
             [
              0.2222222222222222,
              "#7201a8"
             ],
             [
              0.3333333333333333,
              "#9c179e"
             ],
             [
              0.4444444444444444,
              "#bd3786"
             ],
             [
              0.5555555555555556,
              "#d8576b"
             ],
             [
              0.6666666666666666,
              "#ed7953"
             ],
             [
              0.7777777777777778,
              "#fb9f3a"
             ],
             [
              0.8888888888888888,
              "#fdca26"
             ],
             [
              1,
              "#f0f921"
             ]
            ],
            "type": "heatmap"
           }
          ],
          "heatmapgl": [
           {
            "colorbar": {
             "outlinewidth": 0,
             "ticks": ""
            },
            "colorscale": [
             [
              0,
              "#0d0887"
             ],
             [
              0.1111111111111111,
              "#46039f"
             ],
             [
              0.2222222222222222,
              "#7201a8"
             ],
             [
              0.3333333333333333,
              "#9c179e"
             ],
             [
              0.4444444444444444,
              "#bd3786"
             ],
             [
              0.5555555555555556,
              "#d8576b"
             ],
             [
              0.6666666666666666,
              "#ed7953"
             ],
             [
              0.7777777777777778,
              "#fb9f3a"
             ],
             [
              0.8888888888888888,
              "#fdca26"
             ],
             [
              1,
              "#f0f921"
             ]
            ],
            "type": "heatmapgl"
           }
          ],
          "histogram": [
           {
            "marker": {
             "pattern": {
              "fillmode": "overlay",
              "size": 10,
              "solidity": 0.2
             }
            },
            "type": "histogram"
           }
          ],
          "histogram2d": [
           {
            "colorbar": {
             "outlinewidth": 0,
             "ticks": ""
            },
            "colorscale": [
             [
              0,
              "#0d0887"
             ],
             [
              0.1111111111111111,
              "#46039f"
             ],
             [
              0.2222222222222222,
              "#7201a8"
             ],
             [
              0.3333333333333333,
              "#9c179e"
             ],
             [
              0.4444444444444444,
              "#bd3786"
             ],
             [
              0.5555555555555556,
              "#d8576b"
             ],
             [
              0.6666666666666666,
              "#ed7953"
             ],
             [
              0.7777777777777778,
              "#fb9f3a"
             ],
             [
              0.8888888888888888,
              "#fdca26"
             ],
             [
              1,
              "#f0f921"
             ]
            ],
            "type": "histogram2d"
           }
          ],
          "histogram2dcontour": [
           {
            "colorbar": {
             "outlinewidth": 0,
             "ticks": ""
            },
            "colorscale": [
             [
              0,
              "#0d0887"
             ],
             [
              0.1111111111111111,
              "#46039f"
             ],
             [
              0.2222222222222222,
              "#7201a8"
             ],
             [
              0.3333333333333333,
              "#9c179e"
             ],
             [
              0.4444444444444444,
              "#bd3786"
             ],
             [
              0.5555555555555556,
              "#d8576b"
             ],
             [
              0.6666666666666666,
              "#ed7953"
             ],
             [
              0.7777777777777778,
              "#fb9f3a"
             ],
             [
              0.8888888888888888,
              "#fdca26"
             ],
             [
              1,
              "#f0f921"
             ]
            ],
            "type": "histogram2dcontour"
           }
          ],
          "mesh3d": [
           {
            "colorbar": {
             "outlinewidth": 0,
             "ticks": ""
            },
            "type": "mesh3d"
           }
          ],
          "parcoords": [
           {
            "line": {
             "colorbar": {
              "outlinewidth": 0,
              "ticks": ""
             }
            },
            "type": "parcoords"
           }
          ],
          "pie": [
           {
            "automargin": true,
            "type": "pie"
           }
          ],
          "scatter": [
           {
            "fillpattern": {
             "fillmode": "overlay",
             "size": 10,
             "solidity": 0.2
            },
            "type": "scatter"
           }
          ],
          "scatter3d": [
           {
            "line": {
             "colorbar": {
              "outlinewidth": 0,
              "ticks": ""
             }
            },
            "marker": {
             "colorbar": {
              "outlinewidth": 0,
              "ticks": ""
             }
            },
            "type": "scatter3d"
           }
          ],
          "scattercarpet": [
           {
            "marker": {
             "colorbar": {
              "outlinewidth": 0,
              "ticks": ""
             }
            },
            "type": "scattercarpet"
           }
          ],
          "scattergeo": [
           {
            "marker": {
             "colorbar": {
              "outlinewidth": 0,
              "ticks": ""
             }
            },
            "type": "scattergeo"
           }
          ],
          "scattergl": [
           {
            "marker": {
             "colorbar": {
              "outlinewidth": 0,
              "ticks": ""
             }
            },
            "type": "scattergl"
           }
          ],
          "scattermapbox": [
           {
            "marker": {
             "colorbar": {
              "outlinewidth": 0,
              "ticks": ""
             }
            },
            "type": "scattermapbox"
           }
          ],
          "scatterpolar": [
           {
            "marker": {
             "colorbar": {
              "outlinewidth": 0,
              "ticks": ""
             }
            },
            "type": "scatterpolar"
           }
          ],
          "scatterpolargl": [
           {
            "marker": {
             "colorbar": {
              "outlinewidth": 0,
              "ticks": ""
             }
            },
            "type": "scatterpolargl"
           }
          ],
          "scatterternary": [
           {
            "marker": {
             "colorbar": {
              "outlinewidth": 0,
              "ticks": ""
             }
            },
            "type": "scatterternary"
           }
          ],
          "surface": [
           {
            "colorbar": {
             "outlinewidth": 0,
             "ticks": ""
            },
            "colorscale": [
             [
              0,
              "#0d0887"
             ],
             [
              0.1111111111111111,
              "#46039f"
             ],
             [
              0.2222222222222222,
              "#7201a8"
             ],
             [
              0.3333333333333333,
              "#9c179e"
             ],
             [
              0.4444444444444444,
              "#bd3786"
             ],
             [
              0.5555555555555556,
              "#d8576b"
             ],
             [
              0.6666666666666666,
              "#ed7953"
             ],
             [
              0.7777777777777778,
              "#fb9f3a"
             ],
             [
              0.8888888888888888,
              "#fdca26"
             ],
             [
              1,
              "#f0f921"
             ]
            ],
            "type": "surface"
           }
          ],
          "table": [
           {
            "cells": {
             "fill": {
              "color": "#EBF0F8"
             },
             "line": {
              "color": "white"
             }
            },
            "header": {
             "fill": {
              "color": "#C8D4E3"
             },
             "line": {
              "color": "white"
             }
            },
            "type": "table"
           }
          ]
         },
         "layout": {
          "annotationdefaults": {
           "arrowcolor": "#2a3f5f",
           "arrowhead": 0,
           "arrowwidth": 1
          },
          "autotypenumbers": "strict",
          "coloraxis": {
           "colorbar": {
            "outlinewidth": 0,
            "ticks": ""
           }
          },
          "colorscale": {
           "diverging": [
            [
             0,
             "#8e0152"
            ],
            [
             0.1,
             "#c51b7d"
            ],
            [
             0.2,
             "#de77ae"
            ],
            [
             0.3,
             "#f1b6da"
            ],
            [
             0.4,
             "#fde0ef"
            ],
            [
             0.5,
             "#f7f7f7"
            ],
            [
             0.6,
             "#e6f5d0"
            ],
            [
             0.7,
             "#b8e186"
            ],
            [
             0.8,
             "#7fbc41"
            ],
            [
             0.9,
             "#4d9221"
            ],
            [
             1,
             "#276419"
            ]
           ],
           "sequential": [
            [
             0,
             "#0d0887"
            ],
            [
             0.1111111111111111,
             "#46039f"
            ],
            [
             0.2222222222222222,
             "#7201a8"
            ],
            [
             0.3333333333333333,
             "#9c179e"
            ],
            [
             0.4444444444444444,
             "#bd3786"
            ],
            [
             0.5555555555555556,
             "#d8576b"
            ],
            [
             0.6666666666666666,
             "#ed7953"
            ],
            [
             0.7777777777777778,
             "#fb9f3a"
            ],
            [
             0.8888888888888888,
             "#fdca26"
            ],
            [
             1,
             "#f0f921"
            ]
           ],
           "sequentialminus": [
            [
             0,
             "#0d0887"
            ],
            [
             0.1111111111111111,
             "#46039f"
            ],
            [
             0.2222222222222222,
             "#7201a8"
            ],
            [
             0.3333333333333333,
             "#9c179e"
            ],
            [
             0.4444444444444444,
             "#bd3786"
            ],
            [
             0.5555555555555556,
             "#d8576b"
            ],
            [
             0.6666666666666666,
             "#ed7953"
            ],
            [
             0.7777777777777778,
             "#fb9f3a"
            ],
            [
             0.8888888888888888,
             "#fdca26"
            ],
            [
             1,
             "#f0f921"
            ]
           ]
          },
          "colorway": [
           "#636efa",
           "#EF553B",
           "#00cc96",
           "#ab63fa",
           "#FFA15A",
           "#19d3f3",
           "#FF6692",
           "#B6E880",
           "#FF97FF",
           "#FECB52"
          ],
          "font": {
           "color": "#2a3f5f"
          },
          "geo": {
           "bgcolor": "white",
           "lakecolor": "white",
           "landcolor": "#E5ECF6",
           "showlakes": true,
           "showland": true,
           "subunitcolor": "white"
          },
          "hoverlabel": {
           "align": "left"
          },
          "hovermode": "closest",
          "mapbox": {
           "style": "light"
          },
          "paper_bgcolor": "white",
          "plot_bgcolor": "#E5ECF6",
          "polar": {
           "angularaxis": {
            "gridcolor": "white",
            "linecolor": "white",
            "ticks": ""
           },
           "bgcolor": "#E5ECF6",
           "radialaxis": {
            "gridcolor": "white",
            "linecolor": "white",
            "ticks": ""
           }
          },
          "scene": {
           "xaxis": {
            "backgroundcolor": "#E5ECF6",
            "gridcolor": "white",
            "gridwidth": 2,
            "linecolor": "white",
            "showbackground": true,
            "ticks": "",
            "zerolinecolor": "white"
           },
           "yaxis": {
            "backgroundcolor": "#E5ECF6",
            "gridcolor": "white",
            "gridwidth": 2,
            "linecolor": "white",
            "showbackground": true,
            "ticks": "",
            "zerolinecolor": "white"
           },
           "zaxis": {
            "backgroundcolor": "#E5ECF6",
            "gridcolor": "white",
            "gridwidth": 2,
            "linecolor": "white",
            "showbackground": true,
            "ticks": "",
            "zerolinecolor": "white"
           }
          },
          "shapedefaults": {
           "line": {
            "color": "#2a3f5f"
           }
          },
          "ternary": {
           "aaxis": {
            "gridcolor": "white",
            "linecolor": "white",
            "ticks": ""
           },
           "baxis": {
            "gridcolor": "white",
            "linecolor": "white",
            "ticks": ""
           },
           "bgcolor": "#E5ECF6",
           "caxis": {
            "gridcolor": "white",
            "linecolor": "white",
            "ticks": ""
           }
          },
          "title": {
           "x": 0.05
          },
          "xaxis": {
           "automargin": true,
           "gridcolor": "white",
           "linecolor": "white",
           "ticks": "",
           "title": {
            "standoff": 15
           },
           "zerolinecolor": "white",
           "zerolinewidth": 2
          },
          "yaxis": {
           "automargin": true,
           "gridcolor": "white",
           "linecolor": "white",
           "ticks": "",
           "title": {
            "standoff": 15
           },
           "zerolinecolor": "white",
           "zerolinewidth": 2
          }
         }
        },
        "width": 500,
        "xaxis": {
         "autorange": false,
         "exponentformat": "e",
         "linecolor": "black",
         "linewidth": 1,
         "mirror": false,
         "range": [
          -0.7224956747275378,
          6.743292964123686
         ],
         "showexponent": "all",
         "showline": true,
         "side": "bottom",
         "ticks": "outside",
         "title": {
          "text": "Birth"
         },
         "type": "linear",
         "zeroline": true
        },
        "yaxis": {
         "autorange": false,
         "exponentformat": "e",
         "linecolor": "black",
         "linewidth": 1,
         "mirror": false,
         "range": [
          -0.7224956747275378,
          6.743292964123686
         ],
         "scaleanchor": "x",
         "scaleratio": 1,
         "showexponent": "all",
         "showline": true,
         "side": "left",
         "ticks": "outside",
         "title": {
          "text": "Death"
         },
         "type": "linear",
         "zeroline": true
        }
       }
      }
     },
     "metadata": {},
     "output_type": "display_data"
    },
    {
     "data": {
      "text/plain": [
       "array([[[0.        ,        inf, 0.        ],\n",
       "        [0.        , 1.5       , 0.        ],\n",
       "        [0.        , 1.11803401, 0.        ],\n",
       "        [0.        , 1.11803401, 0.        ],\n",
       "        [0.        , 1.11803401, 0.        ],\n",
       "        [0.        , 1.11803401, 0.        ],\n",
       "        [0.        , 1.11803401, 0.        ],\n",
       "        [0.        , 1.        , 0.        ],\n",
       "        [0.        , 1.        , 0.        ],\n",
       "        [0.        , 1.        , 0.        ],\n",
       "        [0.        , 1.        , 0.        ],\n",
       "        [0.        , 0.70710677, 0.        ],\n",
       "        [0.        , 0.70710677, 0.        ],\n",
       "        [0.        , 0.70710677, 0.        ],\n",
       "        [0.        , 0.70710677, 0.        ],\n",
       "        [0.        , 0.5       , 0.        ],\n",
       "        [0.        , 0.5       , 0.        ],\n",
       "        [0.        , 0.5       , 0.        ],\n",
       "        [0.        , 0.5       , 0.        ],\n",
       "        [0.        , 0.5       , 0.        ],\n",
       "        [0.        , 0.5       , 0.        ],\n",
       "        [0.        , 0.5       , 0.        ],\n",
       "        [1.58113885, 2.54950976, 1.        ],\n",
       "        [1.11803401, 2.06155281, 1.        ],\n",
       "        [1.58113885, 2.5       , 1.        ],\n",
       "        [1.58113885, 2.23606798, 1.        ],\n",
       "        [1.58113885, 2.23606798, 1.        ],\n",
       "        [3.20156217, 3.73363094, 1.        ],\n",
       "        [3.04138136, 3.53553391, 1.        ],\n",
       "        [2.54950976, 3.04138127, 1.        ],\n",
       "        [1.58113885, 2.06155281, 1.        ],\n",
       "        [2.54950976, 3.02195821, 1.        ],\n",
       "        [1.11803401, 1.58113883, 1.        ],\n",
       "        [2.23606801, 2.6925824 , 1.        ],\n",
       "        [2.23606801, 2.6925824 , 1.        ],\n",
       "        [3.20156217, 3.64005494, 1.        ],\n",
       "        [2.54950976, 2.85043856, 1.        ],\n",
       "        [1.11803401, 1.41421356, 1.        ],\n",
       "        [1.11803401, 1.41421356, 1.        ],\n",
       "        [2.23606801, 2.5       , 1.        ],\n",
       "        [2.23606801, 2.5       , 1.        ],\n",
       "        [2.        , 2.23606798, 1.        ],\n",
       "        [1.58113885, 1.80277564, 1.        ],\n",
       "        [1.58113885, 1.80277564, 1.        ],\n",
       "        [1.58113885, 1.80277564, 1.        ],\n",
       "        [1.58113885, 1.80277564, 1.        ],\n",
       "        [4.03112888, 4.24918293, 1.        ],\n",
       "        [3.1622777 , 3.35790265, 1.        ],\n",
       "        [3.1622777 , 3.35790265, 1.        ],\n",
       "        [3.1622777 , 3.35410197, 1.        ],\n",
       "        [1.58113885, 1.76776695, 1.        ],\n",
       "        [1.41421354, 1.58113883, 1.        ],\n",
       "        [2.54950976, 2.6925824 , 1.        ],\n",
       "        [2.54950976, 2.6925824 , 1.        ],\n",
       "        [2.23606801, 2.37439573, 1.        ],\n",
       "        [2.54950976, 2.68741925, 1.        ],\n",
       "        [2.54950976, 2.68741925, 1.        ],\n",
       "        [2.23606801, 2.3570226 , 1.        ],\n",
       "        [2.23606801, 2.3570226 , 1.        ],\n",
       "        [2.23606801, 2.3570226 , 1.        ],\n",
       "        [4.47213602, 4.57366017, 1.        ],\n",
       "        [3.1622777 , 3.2596012 , 1.        ],\n",
       "        [3.1622777 , 3.2596012 , 1.        ],\n",
       "        [3.1622777 , 3.2596012 , 1.        ],\n",
       "        [3.8078866 , 3.90077548, 1.        ],\n",
       "        [3.8078866 , 3.90077548, 1.        ],\n",
       "        [1.5       , 1.58113883, 1.        ],\n",
       "        [3.9051249 , 3.98246155, 1.        ],\n",
       "        [3.1622777 , 3.23406612, 1.        ],\n",
       "        [2.23606801, 2.30488611, 1.        ],\n",
       "        [4.94974756, 5.01528277, 1.        ],\n",
       "        [3.20156217, 3.26496554, 1.        ],\n",
       "        [3.8078866 , 3.87031508, 1.        ],\n",
       "        [1.11803401, 1.1785113 , 1.        ],\n",
       "        [3.04138136, 3.10161248, 1.        ],\n",
       "        [2.54950976, 2.6       , 1.        ],\n",
       "        [2.54950976, 2.6       , 1.        ],\n",
       "        [3.04138136, 3.0912433 , 1.        ],\n",
       "        [4.52769279, 4.57155714, 1.        ],\n",
       "        [4.03112888, 4.07205509, 1.        ],\n",
       "        [4.03112888, 4.07205509, 1.        ],\n",
       "        [4.03112888, 4.07205509, 1.        ],\n",
       "        [4.03112888, 4.07205509, 1.        ],\n",
       "        [4.92442894, 4.96415249, 1.        ],\n",
       "        [3.20156217, 3.2412251 , 1.        ],\n",
       "        [3.8078866 , 3.84654629, 1.        ],\n",
       "        [4.47213602, 4.50693909, 1.        ],\n",
       "        [4.47213602, 4.50693909, 1.        ],\n",
       "        [3.20156217, 3.23406612, 1.        ],\n",
       "        [4.03112888, 4.0625    , 1.        ],\n",
       "        [3.04138136, 3.07225902, 1.        ],\n",
       "        [3.8078866 , 3.83752036, 1.        ],\n",
       "        [3.8078866 , 3.83752036, 1.        ],\n",
       "        [4.52769279, 4.55716525, 1.        ],\n",
       "        [3.1622777 , 3.19154358, 1.        ],\n",
       "        [4.47213602, 4.50091818, 1.        ],\n",
       "        [4.52769279, 4.55555556, 1.        ],\n",
       "        [4.03112888, 4.05593606, 1.        ],\n",
       "        [4.30116272, 4.32492614, 1.        ],\n",
       "        [3.20156217, 3.22126423, 1.        ],\n",
       "        [4.03112888, 4.04775216, 1.        ],\n",
       "        [4.03112888, 4.04775216, 1.        ],\n",
       "        [3.9051249 , 3.92122851, 1.        ],\n",
       "        [5.14781523, 5.16302283, 1.        ],\n",
       "        [4.30116272, 4.3138692 , 1.        ],\n",
       "        [5.4083271 , 5.42033209, 1.        ],\n",
       "        [3.04138136, 3.05036616, 1.        ],\n",
       "        [4.30116272, 4.30859767, 1.        ],\n",
       "        [4.30116272, 4.30859767, 1.        ],\n",
       "        [4.30116272, 4.30859767, 1.        ],\n",
       "        [4.52769279, 4.53364223, 1.        ],\n",
       "        [5.31507301, 5.32056085, 1.        ],\n",
       "        [4.94974756, 4.95386882, 1.        ],\n",
       "        [3.9051249 , 3.90881414, 1.        ],\n",
       "        [3.9051249 , 3.90881414, 1.        ],\n",
       "        [3.20156217, 3.20518995, 1.        ],\n",
       "        [5.31507301, 5.3158908 , 1.        ],\n",
       "        [4.2426405 , 4.24264069, 1.        ],\n",
       "        [4.74341631, 4.74341649, 1.        ],\n",
       "        [4.74341631, 4.74341649, 1.        ],\n",
       "        [4.27200174, 4.27200187, 1.        ],\n",
       "        [4.27200174, 4.27200187, 1.        ],\n",
       "        [4.27200174, 4.27200187, 1.        ],\n",
       "        [4.27200174, 4.27200187, 1.        ],\n",
       "        [4.27200174, 4.27200187, 1.        ],\n",
       "        [2.91547585, 2.91547595, 1.        ],\n",
       "        [2.91547585, 2.91547595, 1.        ],\n",
       "        [2.91547585, 2.91547595, 1.        ],\n",
       "        [2.91547585, 2.91547595, 1.        ],\n",
       "        [2.91547585, 2.91547595, 1.        ],\n",
       "        [2.91547585, 2.91547595, 1.        ],\n",
       "        [2.91547585, 2.91547595, 1.        ],\n",
       "        [4.12310553, 4.12310563, 1.        ],\n",
       "        [4.12310553, 4.12310563, 1.        ],\n",
       "        [4.12310553, 4.12310563, 1.        ],\n",
       "        [4.12310553, 4.12310563, 1.        ],\n",
       "        [5.65685415, 5.65685425, 1.        ],\n",
       "        [5.65685415, 5.65685425, 1.        ],\n",
       "        [2.12132025, 2.12132034, 1.        ],\n",
       "        [2.12132025, 2.12132034, 1.        ],\n",
       "        [2.12132025, 2.12132034, 1.        ],\n",
       "        [4.71699047, 4.71699057, 1.        ],\n",
       "        [4.71699047, 4.71699057, 1.        ],\n",
       "        [4.71699047, 4.71699057, 1.        ],\n",
       "        [3.3541019 , 3.35410197, 1.        ],\n",
       "        [3.3541019 , 3.35410197, 1.        ],\n",
       "        [3.3541019 , 3.35410197, 1.        ],\n",
       "        [3.3541019 , 3.35410197, 1.        ],\n",
       "        [3.3541019 , 3.35410197, 1.        ],\n",
       "        [2.06155276, 2.06155281, 1.        ],\n",
       "        [2.06155276, 2.06155281, 1.        ],\n",
       "        [2.06155276, 2.06155281, 1.        ],\n",
       "        [2.06155276, 2.06155281, 1.        ],\n",
       "        [2.82842708, 2.82842712, 1.        ],\n",
       "        [2.82842708, 2.82842712, 1.        ],\n",
       "        [6.02079725, 6.02079729, 1.        ],\n",
       "        [2.69258237, 2.6925824 , 1.        ],\n",
       "        [2.69258237, 2.6925824 , 1.        ],\n",
       "        [2.69258237, 2.6925824 , 1.        ],\n",
       "        [2.69258237, 2.6925824 , 1.        ],\n",
       "        [3.60555124, 3.60555128, 1.        ],\n",
       "        [3.60555124, 3.60555128, 1.        ],\n",
       "        [3.60555124, 3.60555128, 1.        ],\n",
       "        [3.60555124, 3.60555128, 1.        ],\n",
       "        [1.41421354, 1.41421356, 1.        ],\n",
       "        [1.41421354, 1.41421356, 1.        ],\n",
       "        [1.41421354, 1.41421356, 1.        ],\n",
       "        [1.41421354, 1.41421356, 1.        ],\n",
       "        [1.41421354, 1.41421356, 1.        ],\n",
       "        [4.60977221, 4.60977223, 1.        ],\n",
       "        [4.60977221, 4.60977223, 1.        ],\n",
       "        [4.60977221, 4.60977223, 1.        ],\n",
       "        [4.60977221, 4.60977223, 1.        ],\n",
       "        [4.60977221, 4.60977223, 1.        ],\n",
       "        [4.60977221, 4.60977223, 1.        ],\n",
       "        [4.60977221, 4.60977223, 1.        ],\n",
       "        [1.80277562, 1.80277564, 1.        ],\n",
       "        [1.80277562, 1.80277564, 1.        ],\n",
       "        [1.80277562, 1.80277564, 1.        ],\n",
       "        [1.80277562, 1.80277564, 1.        ],\n",
       "        [1.80277562, 1.80277564, 1.        ],\n",
       "        [1.80277562, 1.80277564, 1.        ],\n",
       "        [0.70710677, 0.70710678, 1.        ],\n",
       "        [3.64005494, 3.64005494, 1.        ],\n",
       "        [3.64005494, 3.64005494, 1.        ],\n",
       "        [3.64005494, 3.64005494, 1.        ],\n",
       "        [3.64005494, 3.64005494, 1.        ],\n",
       "        [3.64005494, 3.64005494, 1.        ],\n",
       "        [3.64005494, 3.64005494, 1.        ],\n",
       "        [3.53553391, 3.53553391, 1.        ],\n",
       "        [3.53553391, 3.53553391, 1.        ],\n",
       "        [3.53553391, 3.53553391, 1.        ],\n",
       "        [3.53553391, 3.53553391, 1.        ],\n",
       "        [3.53553391, 3.53553391, 1.        ],\n",
       "        [3.53553391, 3.53553391, 1.        ],\n",
       "        [3.53553391, 3.53553391, 1.        ],\n",
       "        [1.58113883,        inf, 2.        ],\n",
       "        [1.58113883, 2.6925824 , 2.        ],\n",
       "        [2.54950976, 3.53553391, 2.        ],\n",
       "        [1.11803399, 2.06155281, 2.        ],\n",
       "        [1.58113883, 2.5       , 2.        ],\n",
       "        [1.11803399, 1.80277564, 2.        ],\n",
       "        [3.20156212, 3.73363094, 2.        ],\n",
       "        [1.58113883, 2.06155281, 2.        ],\n",
       "        [2.54950976, 3.02195821, 2.        ],\n",
       "        [2.23606798, 2.6925824 , 2.        ],\n",
       "        [2.23606798, 2.6925824 , 2.        ],\n",
       "        [3.20156212, 3.64005494, 2.        ],\n",
       "        [2.54950976, 2.85043856, 2.        ],\n",
       "        [1.11803399, 1.41421356, 2.        ],\n",
       "        [1.11803399, 1.41421356, 2.        ],\n",
       "        [1.58113883, 1.80277564, 2.        ],\n",
       "        [1.58113883, 1.80277564, 2.        ],\n",
       "        [1.58113883, 1.80277564, 2.        ],\n",
       "        [4.03112887, 4.24918293, 2.        ],\n",
       "        [3.16227766, 3.35790265, 2.        ],\n",
       "        [3.16227766, 3.35790265, 2.        ],\n",
       "        [3.16227766, 3.35410197, 2.        ],\n",
       "        [2.54950976, 2.6925824 , 2.        ],\n",
       "        [2.23606798, 2.37439573, 2.        ],\n",
       "        [2.54950976, 2.68741925, 2.        ],\n",
       "        [2.54950976, 2.68741925, 2.        ],\n",
       "        [2.23606798, 2.3570226 , 2.        ],\n",
       "        [2.23606798, 2.3570226 , 2.        ],\n",
       "        [2.23606798, 2.3570226 , 2.        ],\n",
       "        [4.47213595, 4.57366017, 2.        ],\n",
       "        [2.97321375, 3.07318149, 2.        ],\n",
       "        [3.16227766, 3.2596012 , 2.        ],\n",
       "        [3.16227766, 3.2596012 , 2.        ],\n",
       "        [3.16227766, 3.2596012 , 2.        ],\n",
       "        [3.80788655, 3.90077548, 2.        ],\n",
       "        [3.80788655, 3.90077548, 2.        ],\n",
       "        [3.90512484, 3.98246155, 2.        ],\n",
       "        [3.16227766, 3.23406612, 2.        ],\n",
       "        [2.23606798, 2.30488611, 2.        ],\n",
       "        [4.94974747, 5.01528277, 2.        ],\n",
       "        [3.20156212, 3.26496554, 2.        ],\n",
       "        [3.80788655, 3.87031508, 2.        ],\n",
       "        [3.04138127, 3.10161248, 2.        ],\n",
       "        [2.54950976, 2.6       , 2.        ],\n",
       "        [2.54950976, 2.6       , 2.        ],\n",
       "        [3.04138127, 3.0912433 , 2.        ],\n",
       "        [4.52769257, 4.57155714, 2.        ],\n",
       "        [4.03112887, 4.07205509, 2.        ],\n",
       "        [4.03112887, 4.07205509, 2.        ],\n",
       "        [4.03112887, 4.07205509, 2.        ],\n",
       "        [4.03112887, 4.07205509, 2.        ],\n",
       "        [4.9244289 , 4.96415249, 2.        ],\n",
       "        [3.20156212, 3.2412251 , 2.        ],\n",
       "        [3.80788655, 3.84654629, 2.        ],\n",
       "        [4.47213595, 4.50693909, 2.        ],\n",
       "        [4.47213595, 4.50693909, 2.        ],\n",
       "        [3.20156212, 3.23406612, 2.        ],\n",
       "        [4.03112887, 4.0625    , 2.        ],\n",
       "        [3.04138127, 3.07225902, 2.        ],\n",
       "        [3.80788655, 3.83752036, 2.        ],\n",
       "        [3.80788655, 3.83752036, 2.        ],\n",
       "        [4.52769257, 4.55716525, 2.        ],\n",
       "        [3.16227766, 3.19154358, 2.        ],\n",
       "        [4.47213595, 4.50091818, 2.        ],\n",
       "        [4.52769257, 4.55555556, 2.        ],\n",
       "        [4.03112887, 4.05593606, 2.        ],\n",
       "        [4.30116263, 4.32492614, 2.        ],\n",
       "        [3.20156212, 3.22126423, 2.        ],\n",
       "        [4.03112887, 4.04775216, 2.        ],\n",
       "        [4.03112887, 4.04775216, 2.        ],\n",
       "        [3.90512484, 3.92122851, 2.        ],\n",
       "        [5.14781507, 5.16302283, 2.        ],\n",
       "        [4.30116263, 4.3138692 , 2.        ],\n",
       "        [5.40832691, 5.42033209, 2.        ],\n",
       "        [3.04138127, 3.05036616, 2.        ],\n",
       "        [4.30116263, 4.30859767, 2.        ],\n",
       "        [4.30116263, 4.30859767, 2.        ],\n",
       "        [4.30116263, 4.30859767, 2.        ],\n",
       "        [4.52769257, 4.53364223, 2.        ],\n",
       "        [5.31507291, 5.32056085, 2.        ],\n",
       "        [4.94974747, 4.95386882, 2.        ],\n",
       "        [3.90512484, 3.90881414, 2.        ],\n",
       "        [3.90512484, 3.90881414, 2.        ],\n",
       "        [3.20156212, 3.20518995, 2.        ],\n",
       "        [5.31507291, 5.3158908 , 2.        ],\n",
       "        [2.5       , 3.71214224, 3.        ],\n",
       "        [2.5       , 3.71214224, 3.        ],\n",
       "        [3.07318149,        inf, 4.        ],\n",
       "        [3.71214224,        inf, 5.        ],\n",
       "        [3.71214224,        inf, 5.        ]]])"
      ]
     },
     "execution_count": 4,
     "metadata": {},
     "output_type": "execute_result"
    }
   ],
   "source": [
    "import gtda.homology\n",
    "\n",
    "gtda.homology.EuclideanCechPersistence(\n",
    "    homology_dimensions = list(range(0, 6)),\n",
    "    reduced_homology = False,\n",
    "    coeff = 2,\n",
    "    n_jobs = -1\n",
    ").fit_transform_plot(numpy.array([ points ]))"
   ]
  },
  {
   "cell_type": "code",
   "execution_count": 25,
   "metadata": {},
   "outputs": [
    {
     "name": "stdout",
     "output_type": "stream",
     "text": [
      "Cubical complex is of dimension 2 - 49 simplices.\n"
     ]
    },
    {
     "data": {
      "text/plain": [
       "[1, 0, 0]"
      ]
     },
     "execution_count": 25,
     "metadata": {},
     "output_type": "execute_result"
    }
   ],
   "source": [
    "from gudhi import CubicalComplex\n",
    "import numpy as np\n",
    "cc = CubicalComplex(top_dimensional_cells=np.array([[ 1.,  8.,  7.],\n",
    "                                                    [ 4., 20.,  6.],\n",
    "                                                    [ 6.,  4.,  5.]]))\n",
    "print(f\"Cubical complex is of dimension {cc.dimension()} - {cc.num_simplices()} simplices.\")\n",
    "cc.compute_persistence()\n",
    "cc.betti_numbers()"
   ]
  },
  {
   "cell_type": "code",
   "execution_count": 2,
   "metadata": {},
   "outputs": [],
   "source": [
    "import numpy\n",
    "import torchvision\n",
    "\n",
    "train = torchvision.datasets.MNIST('mnist_dataset/mnist', train = True, download = False)\n",
    "test = torchvision.datasets.MNIST('mnist_dataset/mnist', train = False, download = False)\n",
    "\n",
    "train_images = numpy.array([ numpy.array(item[0]) for item in train ])\n",
    "train_labels = numpy.array([ item[1] for item in train ])"
   ]
  },
  {
   "cell_type": "code",
   "execution_count": 10,
   "metadata": {},
   "outputs": [],
   "source": [
    "import gtda.diagrams\n",
    "import gtda.homology\n",
    "import gtda.images\n",
    "\n",
    "def do(img):\n",
    "    plt.imshow(img, cmap = \"gray\")\n",
    "    gtda.homology.CubicalPersistence().fit_transform_plot([ img ])"
   ]
  },
  {
   "cell_type": "code",
   "execution_count": 12,
   "metadata": {},
   "outputs": [
    {
     "name": "stderr",
     "output_type": "stream",
     "text": [
      "100%|██████████| 1/1 [00:00<00:00, 333.23it/s]\n"
     ]
    },
    {
     "data": {
      "application/vnd.plotly.v1+json": {
       "config": {
        "plotlyServerURL": "https://plot.ly"
       },
       "data": [
        {
         "hoverinfo": "none",
         "line": {
          "color": "black",
          "dash": "dash",
          "width": 1
         },
         "mode": "lines",
         "showlegend": false,
         "type": "scatter",
         "x": [
          -5.1000000000000005,
          260.1
         ],
         "y": [
          -5.1000000000000005,
          260.1
         ]
        },
        {
         "hoverinfo": "text",
         "hovertext": [
          "(0.0, 165.0)",
          "(84.0, 96.0)"
         ],
         "mode": "markers",
         "name": "H0",
         "type": "scatter",
         "x": [
          0,
          84
         ],
         "y": [
          165,
          96
         ]
        },
        {
         "hoverinfo": "text",
         "hovertext": [
          "(0.0, 255.0)",
          "(173.0, 252.0)",
          "(223.0, 253.0)",
          "(225.0, 253.0)",
          "(225.0, 252.0)",
          "(237.0, 253.0)",
          "(238.0, 253.0)",
          "(240.0, 253.0)",
          "(246.0, 253.0)",
          "(253.0, 255.0)",
          "(252.0, 253.0), multiplicity: 4",
          "(252.0, 253.0), multiplicity: 4",
          "(252.0, 253.0), multiplicity: 4",
          "(252.0, 253.0), multiplicity: 4"
         ],
         "mode": "markers",
         "name": "H1",
         "type": "scatter",
         "x": [
          0,
          173,
          223,
          225,
          225,
          237,
          238,
          240,
          246,
          253,
          252,
          252,
          252,
          252
         ],
         "y": [
          255,
          252,
          253,
          253,
          252,
          253,
          253,
          253,
          253,
          255,
          253,
          253,
          253,
          253
         ]
        }
       ],
       "layout": {
        "height": 500,
        "plot_bgcolor": "white",
        "template": {
         "data": {
          "bar": [
           {
            "error_x": {
             "color": "#2a3f5f"
            },
            "error_y": {
             "color": "#2a3f5f"
            },
            "marker": {
             "line": {
              "color": "#E5ECF6",
              "width": 0.5
             },
             "pattern": {
              "fillmode": "overlay",
              "size": 10,
              "solidity": 0.2
             }
            },
            "type": "bar"
           }
          ],
          "barpolar": [
           {
            "marker": {
             "line": {
              "color": "#E5ECF6",
              "width": 0.5
             },
             "pattern": {
              "fillmode": "overlay",
              "size": 10,
              "solidity": 0.2
             }
            },
            "type": "barpolar"
           }
          ],
          "carpet": [
           {
            "aaxis": {
             "endlinecolor": "#2a3f5f",
             "gridcolor": "white",
             "linecolor": "white",
             "minorgridcolor": "white",
             "startlinecolor": "#2a3f5f"
            },
            "baxis": {
             "endlinecolor": "#2a3f5f",
             "gridcolor": "white",
             "linecolor": "white",
             "minorgridcolor": "white",
             "startlinecolor": "#2a3f5f"
            },
            "type": "carpet"
           }
          ],
          "choropleth": [
           {
            "colorbar": {
             "outlinewidth": 0,
             "ticks": ""
            },
            "type": "choropleth"
           }
          ],
          "contour": [
           {
            "colorbar": {
             "outlinewidth": 0,
             "ticks": ""
            },
            "colorscale": [
             [
              0,
              "#0d0887"
             ],
             [
              0.1111111111111111,
              "#46039f"
             ],
             [
              0.2222222222222222,
              "#7201a8"
             ],
             [
              0.3333333333333333,
              "#9c179e"
             ],
             [
              0.4444444444444444,
              "#bd3786"
             ],
             [
              0.5555555555555556,
              "#d8576b"
             ],
             [
              0.6666666666666666,
              "#ed7953"
             ],
             [
              0.7777777777777778,
              "#fb9f3a"
             ],
             [
              0.8888888888888888,
              "#fdca26"
             ],
             [
              1,
              "#f0f921"
             ]
            ],
            "type": "contour"
           }
          ],
          "contourcarpet": [
           {
            "colorbar": {
             "outlinewidth": 0,
             "ticks": ""
            },
            "type": "contourcarpet"
           }
          ],
          "heatmap": [
           {
            "colorbar": {
             "outlinewidth": 0,
             "ticks": ""
            },
            "colorscale": [
             [
              0,
              "#0d0887"
             ],
             [
              0.1111111111111111,
              "#46039f"
             ],
             [
              0.2222222222222222,
              "#7201a8"
             ],
             [
              0.3333333333333333,
              "#9c179e"
             ],
             [
              0.4444444444444444,
              "#bd3786"
             ],
             [
              0.5555555555555556,
              "#d8576b"
             ],
             [
              0.6666666666666666,
              "#ed7953"
             ],
             [
              0.7777777777777778,
              "#fb9f3a"
             ],
             [
              0.8888888888888888,
              "#fdca26"
             ],
             [
              1,
              "#f0f921"
             ]
            ],
            "type": "heatmap"
           }
          ],
          "heatmapgl": [
           {
            "colorbar": {
             "outlinewidth": 0,
             "ticks": ""
            },
            "colorscale": [
             [
              0,
              "#0d0887"
             ],
             [
              0.1111111111111111,
              "#46039f"
             ],
             [
              0.2222222222222222,
              "#7201a8"
             ],
             [
              0.3333333333333333,
              "#9c179e"
             ],
             [
              0.4444444444444444,
              "#bd3786"
             ],
             [
              0.5555555555555556,
              "#d8576b"
             ],
             [
              0.6666666666666666,
              "#ed7953"
             ],
             [
              0.7777777777777778,
              "#fb9f3a"
             ],
             [
              0.8888888888888888,
              "#fdca26"
             ],
             [
              1,
              "#f0f921"
             ]
            ],
            "type": "heatmapgl"
           }
          ],
          "histogram": [
           {
            "marker": {
             "pattern": {
              "fillmode": "overlay",
              "size": 10,
              "solidity": 0.2
             }
            },
            "type": "histogram"
           }
          ],
          "histogram2d": [
           {
            "colorbar": {
             "outlinewidth": 0,
             "ticks": ""
            },
            "colorscale": [
             [
              0,
              "#0d0887"
             ],
             [
              0.1111111111111111,
              "#46039f"
             ],
             [
              0.2222222222222222,
              "#7201a8"
             ],
             [
              0.3333333333333333,
              "#9c179e"
             ],
             [
              0.4444444444444444,
              "#bd3786"
             ],
             [
              0.5555555555555556,
              "#d8576b"
             ],
             [
              0.6666666666666666,
              "#ed7953"
             ],
             [
              0.7777777777777778,
              "#fb9f3a"
             ],
             [
              0.8888888888888888,
              "#fdca26"
             ],
             [
              1,
              "#f0f921"
             ]
            ],
            "type": "histogram2d"
           }
          ],
          "histogram2dcontour": [
           {
            "colorbar": {
             "outlinewidth": 0,
             "ticks": ""
            },
            "colorscale": [
             [
              0,
              "#0d0887"
             ],
             [
              0.1111111111111111,
              "#46039f"
             ],
             [
              0.2222222222222222,
              "#7201a8"
             ],
             [
              0.3333333333333333,
              "#9c179e"
             ],
             [
              0.4444444444444444,
              "#bd3786"
             ],
             [
              0.5555555555555556,
              "#d8576b"
             ],
             [
              0.6666666666666666,
              "#ed7953"
             ],
             [
              0.7777777777777778,
              "#fb9f3a"
             ],
             [
              0.8888888888888888,
              "#fdca26"
             ],
             [
              1,
              "#f0f921"
             ]
            ],
            "type": "histogram2dcontour"
           }
          ],
          "mesh3d": [
           {
            "colorbar": {
             "outlinewidth": 0,
             "ticks": ""
            },
            "type": "mesh3d"
           }
          ],
          "parcoords": [
           {
            "line": {
             "colorbar": {
              "outlinewidth": 0,
              "ticks": ""
             }
            },
            "type": "parcoords"
           }
          ],
          "pie": [
           {
            "automargin": true,
            "type": "pie"
           }
          ],
          "scatter": [
           {
            "fillpattern": {
             "fillmode": "overlay",
             "size": 10,
             "solidity": 0.2
            },
            "type": "scatter"
           }
          ],
          "scatter3d": [
           {
            "line": {
             "colorbar": {
              "outlinewidth": 0,
              "ticks": ""
             }
            },
            "marker": {
             "colorbar": {
              "outlinewidth": 0,
              "ticks": ""
             }
            },
            "type": "scatter3d"
           }
          ],
          "scattercarpet": [
           {
            "marker": {
             "colorbar": {
              "outlinewidth": 0,
              "ticks": ""
             }
            },
            "type": "scattercarpet"
           }
          ],
          "scattergeo": [
           {
            "marker": {
             "colorbar": {
              "outlinewidth": 0,
              "ticks": ""
             }
            },
            "type": "scattergeo"
           }
          ],
          "scattergl": [
           {
            "marker": {
             "colorbar": {
              "outlinewidth": 0,
              "ticks": ""
             }
            },
            "type": "scattergl"
           }
          ],
          "scattermapbox": [
           {
            "marker": {
             "colorbar": {
              "outlinewidth": 0,
              "ticks": ""
             }
            },
            "type": "scattermapbox"
           }
          ],
          "scatterpolar": [
           {
            "marker": {
             "colorbar": {
              "outlinewidth": 0,
              "ticks": ""
             }
            },
            "type": "scatterpolar"
           }
          ],
          "scatterpolargl": [
           {
            "marker": {
             "colorbar": {
              "outlinewidth": 0,
              "ticks": ""
             }
            },
            "type": "scatterpolargl"
           }
          ],
          "scatterternary": [
           {
            "marker": {
             "colorbar": {
              "outlinewidth": 0,
              "ticks": ""
             }
            },
            "type": "scatterternary"
           }
          ],
          "surface": [
           {
            "colorbar": {
             "outlinewidth": 0,
             "ticks": ""
            },
            "colorscale": [
             [
              0,
              "#0d0887"
             ],
             [
              0.1111111111111111,
              "#46039f"
             ],
             [
              0.2222222222222222,
              "#7201a8"
             ],
             [
              0.3333333333333333,
              "#9c179e"
             ],
             [
              0.4444444444444444,
              "#bd3786"
             ],
             [
              0.5555555555555556,
              "#d8576b"
             ],
             [
              0.6666666666666666,
              "#ed7953"
             ],
             [
              0.7777777777777778,
              "#fb9f3a"
             ],
             [
              0.8888888888888888,
              "#fdca26"
             ],
             [
              1,
              "#f0f921"
             ]
            ],
            "type": "surface"
           }
          ],
          "table": [
           {
            "cells": {
             "fill": {
              "color": "#EBF0F8"
             },
             "line": {
              "color": "white"
             }
            },
            "header": {
             "fill": {
              "color": "#C8D4E3"
             },
             "line": {
              "color": "white"
             }
            },
            "type": "table"
           }
          ]
         },
         "layout": {
          "annotationdefaults": {
           "arrowcolor": "#2a3f5f",
           "arrowhead": 0,
           "arrowwidth": 1
          },
          "autotypenumbers": "strict",
          "coloraxis": {
           "colorbar": {
            "outlinewidth": 0,
            "ticks": ""
           }
          },
          "colorscale": {
           "diverging": [
            [
             0,
             "#8e0152"
            ],
            [
             0.1,
             "#c51b7d"
            ],
            [
             0.2,
             "#de77ae"
            ],
            [
             0.3,
             "#f1b6da"
            ],
            [
             0.4,
             "#fde0ef"
            ],
            [
             0.5,
             "#f7f7f7"
            ],
            [
             0.6,
             "#e6f5d0"
            ],
            [
             0.7,
             "#b8e186"
            ],
            [
             0.8,
             "#7fbc41"
            ],
            [
             0.9,
             "#4d9221"
            ],
            [
             1,
             "#276419"
            ]
           ],
           "sequential": [
            [
             0,
             "#0d0887"
            ],
            [
             0.1111111111111111,
             "#46039f"
            ],
            [
             0.2222222222222222,
             "#7201a8"
            ],
            [
             0.3333333333333333,
             "#9c179e"
            ],
            [
             0.4444444444444444,
             "#bd3786"
            ],
            [
             0.5555555555555556,
             "#d8576b"
            ],
            [
             0.6666666666666666,
             "#ed7953"
            ],
            [
             0.7777777777777778,
             "#fb9f3a"
            ],
            [
             0.8888888888888888,
             "#fdca26"
            ],
            [
             1,
             "#f0f921"
            ]
           ],
           "sequentialminus": [
            [
             0,
             "#0d0887"
            ],
            [
             0.1111111111111111,
             "#46039f"
            ],
            [
             0.2222222222222222,
             "#7201a8"
            ],
            [
             0.3333333333333333,
             "#9c179e"
            ],
            [
             0.4444444444444444,
             "#bd3786"
            ],
            [
             0.5555555555555556,
             "#d8576b"
            ],
            [
             0.6666666666666666,
             "#ed7953"
            ],
            [
             0.7777777777777778,
             "#fb9f3a"
            ],
            [
             0.8888888888888888,
             "#fdca26"
            ],
            [
             1,
             "#f0f921"
            ]
           ]
          },
          "colorway": [
           "#636efa",
           "#EF553B",
           "#00cc96",
           "#ab63fa",
           "#FFA15A",
           "#19d3f3",
           "#FF6692",
           "#B6E880",
           "#FF97FF",
           "#FECB52"
          ],
          "font": {
           "color": "#2a3f5f"
          },
          "geo": {
           "bgcolor": "white",
           "lakecolor": "white",
           "landcolor": "#E5ECF6",
           "showlakes": true,
           "showland": true,
           "subunitcolor": "white"
          },
          "hoverlabel": {
           "align": "left"
          },
          "hovermode": "closest",
          "mapbox": {
           "style": "light"
          },
          "paper_bgcolor": "white",
          "plot_bgcolor": "#E5ECF6",
          "polar": {
           "angularaxis": {
            "gridcolor": "white",
            "linecolor": "white",
            "ticks": ""
           },
           "bgcolor": "#E5ECF6",
           "radialaxis": {
            "gridcolor": "white",
            "linecolor": "white",
            "ticks": ""
           }
          },
          "scene": {
           "xaxis": {
            "backgroundcolor": "#E5ECF6",
            "gridcolor": "white",
            "gridwidth": 2,
            "linecolor": "white",
            "showbackground": true,
            "ticks": "",
            "zerolinecolor": "white"
           },
           "yaxis": {
            "backgroundcolor": "#E5ECF6",
            "gridcolor": "white",
            "gridwidth": 2,
            "linecolor": "white",
            "showbackground": true,
            "ticks": "",
            "zerolinecolor": "white"
           },
           "zaxis": {
            "backgroundcolor": "#E5ECF6",
            "gridcolor": "white",
            "gridwidth": 2,
            "linecolor": "white",
            "showbackground": true,
            "ticks": "",
            "zerolinecolor": "white"
           }
          },
          "shapedefaults": {
           "line": {
            "color": "#2a3f5f"
           }
          },
          "ternary": {
           "aaxis": {
            "gridcolor": "white",
            "linecolor": "white",
            "ticks": ""
           },
           "baxis": {
            "gridcolor": "white",
            "linecolor": "white",
            "ticks": ""
           },
           "bgcolor": "#E5ECF6",
           "caxis": {
            "gridcolor": "white",
            "linecolor": "white",
            "ticks": ""
           }
          },
          "title": {
           "x": 0.05
          },
          "xaxis": {
           "automargin": true,
           "gridcolor": "white",
           "linecolor": "white",
           "ticks": "",
           "title": {
            "standoff": 15
           },
           "zerolinecolor": "white",
           "zerolinewidth": 2
          },
          "yaxis": {
           "automargin": true,
           "gridcolor": "white",
           "linecolor": "white",
           "ticks": "",
           "title": {
            "standoff": 15
           },
           "zerolinecolor": "white",
           "zerolinewidth": 2
          }
         }
        },
        "width": 500,
        "xaxis": {
         "autorange": false,
         "exponentformat": "e",
         "linecolor": "black",
         "linewidth": 1,
         "mirror": false,
         "range": [
          -5.1000000000000005,
          260.1
         ],
         "showexponent": "all",
         "showline": true,
         "side": "bottom",
         "ticks": "outside",
         "title": {
          "text": "Birth"
         },
         "type": "linear",
         "zeroline": true
        },
        "yaxis": {
         "autorange": false,
         "exponentformat": "e",
         "linecolor": "black",
         "linewidth": 1,
         "mirror": false,
         "range": [
          -5.1000000000000005,
          260.1
         ],
         "scaleanchor": "x",
         "scaleratio": 1,
         "showexponent": "all",
         "showline": true,
         "side": "left",
         "ticks": "outside",
         "title": {
          "text": "Death"
         },
         "type": "linear",
         "zeroline": true
        }
       }
      }
     },
     "metadata": {},
     "output_type": "display_data"
    },
    {
     "data": {
      "image/png": "[encoded data removed]",
      "text/plain": [
       "<Figure size 640x480 with 1 Axes>"
      ]
     },
     "metadata": {},
     "output_type": "display_data"
    }
   ],
   "source": [
    "do(train_images[1])"
   ]
  },
  {
   "cell_type": "code",
   "execution_count": 14,
   "metadata": {},
   "outputs": [
    {
     "name": "stderr",
     "output_type": "stream",
     "text": [
      "100%|██████████| 1/1 [00:00<00:00, 249.96it/s]\n"
     ]
    },
    {
     "data": {
      "application/vnd.plotly.v1+json": {
       "config": {
        "plotlyServerURL": "https://plot.ly"
       },
       "data": [
        {
         "hoverinfo": "none",
         "line": {
          "color": "black",
          "dash": "dash",
          "width": 1
         },
         "mode": "lines",
         "showlegend": false,
         "type": "scatter",
         "x": [
          -0.02,
          1.02
         ],
         "y": [
          -0.02,
          1.02
         ]
        },
        {
         "hoverinfo": "text",
         "hovertext": [
          "(0.0, 1.0)"
         ],
         "mode": "markers",
         "name": "H0",
         "type": "scatter",
         "x": [
          0
         ],
         "y": [
          1
         ]
        },
        {
         "hoverinfo": "text",
         "hovertext": [
          "(0.0, 1.0)"
         ],
         "mode": "markers",
         "name": "H1",
         "type": "scatter",
         "x": [
          0
         ],
         "y": [
          1
         ]
        }
       ],
       "layout": {
        "height": 500,
        "plot_bgcolor": "white",
        "template": {
         "data": {
          "bar": [
           {
            "error_x": {
             "color": "#2a3f5f"
            },
            "error_y": {
             "color": "#2a3f5f"
            },
            "marker": {
             "line": {
              "color": "#E5ECF6",
              "width": 0.5
             },
             "pattern": {
              "fillmode": "overlay",
              "size": 10,
              "solidity": 0.2
             }
            },
            "type": "bar"
           }
          ],
          "barpolar": [
           {
            "marker": {
             "line": {
              "color": "#E5ECF6",
              "width": 0.5
             },
             "pattern": {
              "fillmode": "overlay",
              "size": 10,
              "solidity": 0.2
             }
            },
            "type": "barpolar"
           }
          ],
          "carpet": [
           {
            "aaxis": {
             "endlinecolor": "#2a3f5f",
             "gridcolor": "white",
             "linecolor": "white",
             "minorgridcolor": "white",
             "startlinecolor": "#2a3f5f"
            },
            "baxis": {
             "endlinecolor": "#2a3f5f",
             "gridcolor": "white",
             "linecolor": "white",
             "minorgridcolor": "white",
             "startlinecolor": "#2a3f5f"
            },
            "type": "carpet"
           }
          ],
          "choropleth": [
           {
            "colorbar": {
             "outlinewidth": 0,
             "ticks": ""
            },
            "type": "choropleth"
           }
          ],
          "contour": [
           {
            "colorbar": {
             "outlinewidth": 0,
             "ticks": ""
            },
            "colorscale": [
             [
              0,
              "#0d0887"
             ],
             [
              0.1111111111111111,
              "#46039f"
             ],
             [
              0.2222222222222222,
              "#7201a8"
             ],
             [
              0.3333333333333333,
              "#9c179e"
             ],
             [
              0.4444444444444444,
              "#bd3786"
             ],
             [
              0.5555555555555556,
              "#d8576b"
             ],
             [
              0.6666666666666666,
              "#ed7953"
             ],
             [
              0.7777777777777778,
              "#fb9f3a"
             ],
             [
              0.8888888888888888,
              "#fdca26"
             ],
             [
              1,
              "#f0f921"
             ]
            ],
            "type": "contour"
           }
          ],
          "contourcarpet": [
           {
            "colorbar": {
             "outlinewidth": 0,
             "ticks": ""
            },
            "type": "contourcarpet"
           }
          ],
          "heatmap": [
           {
            "colorbar": {
             "outlinewidth": 0,
             "ticks": ""
            },
            "colorscale": [
             [
              0,
              "#0d0887"
             ],
             [
              0.1111111111111111,
              "#46039f"
             ],
             [
              0.2222222222222222,
              "#7201a8"
             ],
             [
              0.3333333333333333,
              "#9c179e"
             ],
             [
              0.4444444444444444,
              "#bd3786"
             ],
             [
              0.5555555555555556,
              "#d8576b"
             ],
             [
              0.6666666666666666,
              "#ed7953"
             ],
             [
              0.7777777777777778,
              "#fb9f3a"
             ],
             [
              0.8888888888888888,
              "#fdca26"
             ],
             [
              1,
              "#f0f921"
             ]
            ],
            "type": "heatmap"
           }
          ],
          "heatmapgl": [
           {
            "colorbar": {
             "outlinewidth": 0,
             "ticks": ""
            },
            "colorscale": [
             [
              0,
              "#0d0887"
             ],
             [
              0.1111111111111111,
              "#46039f"
             ],
             [
              0.2222222222222222,
              "#7201a8"
             ],
             [
              0.3333333333333333,
              "#9c179e"
             ],
             [
              0.4444444444444444,
              "#bd3786"
             ],
             [
              0.5555555555555556,
              "#d8576b"
             ],
             [
              0.6666666666666666,
              "#ed7953"
             ],
             [
              0.7777777777777778,
              "#fb9f3a"
             ],
             [
              0.8888888888888888,
              "#fdca26"
             ],
             [
              1,
              "#f0f921"
             ]
            ],
            "type": "heatmapgl"
           }
          ],
          "histogram": [
           {
            "marker": {
             "pattern": {
              "fillmode": "overlay",
              "size": 10,
              "solidity": 0.2
             }
            },
            "type": "histogram"
           }
          ],
          "histogram2d": [
           {
            "colorbar": {
             "outlinewidth": 0,
             "ticks": ""
            },
            "colorscale": [
             [
              0,
              "#0d0887"
             ],
             [
              0.1111111111111111,
              "#46039f"
             ],
             [
              0.2222222222222222,
              "#7201a8"
             ],
             [
              0.3333333333333333,
              "#9c179e"
             ],
             [
              0.4444444444444444,
              "#bd3786"
             ],
             [
              0.5555555555555556,
              "#d8576b"
             ],
             [
              0.6666666666666666,
              "#ed7953"
             ],
             [
              0.7777777777777778,
              "#fb9f3a"
             ],
             [
              0.8888888888888888,
              "#fdca26"
             ],
             [
              1,
              "#f0f921"
             ]
            ],
            "type": "histogram2d"
           }
          ],
          "histogram2dcontour": [
           {
            "colorbar": {
             "outlinewidth": 0,
             "ticks": ""
            },
            "colorscale": [
             [
              0,
              "#0d0887"
             ],
             [
              0.1111111111111111,
              "#46039f"
             ],
             [
              0.2222222222222222,
              "#7201a8"
             ],
             [
              0.3333333333333333,
              "#9c179e"
             ],
             [
              0.4444444444444444,
              "#bd3786"
             ],
             [
              0.5555555555555556,
              "#d8576b"
             ],
             [
              0.6666666666666666,
              "#ed7953"
             ],
             [
              0.7777777777777778,
              "#fb9f3a"
             ],
             [
              0.8888888888888888,
              "#fdca26"
             ],
             [
              1,
              "#f0f921"
             ]
            ],
            "type": "histogram2dcontour"
           }
          ],
          "mesh3d": [
           {
            "colorbar": {
             "outlinewidth": 0,
             "ticks": ""
            },
            "type": "mesh3d"
           }
          ],
          "parcoords": [
           {
            "line": {
             "colorbar": {
              "outlinewidth": 0,
              "ticks": ""
             }
            },
            "type": "parcoords"
           }
          ],
          "pie": [
           {
            "automargin": true,
            "type": "pie"
           }
          ],
          "scatter": [
           {
            "fillpattern": {
             "fillmode": "overlay",
             "size": 10,
             "solidity": 0.2
            },
            "type": "scatter"
           }
          ],
          "scatter3d": [
           {
            "line": {
             "colorbar": {
              "outlinewidth": 0,
              "ticks": ""
             }
            },
            "marker": {
             "colorbar": {
              "outlinewidth": 0,
              "ticks": ""
             }
            },
            "type": "scatter3d"
           }
          ],
          "scattercarpet": [
           {
            "marker": {
             "colorbar": {
              "outlinewidth": 0,
              "ticks": ""
             }
            },
            "type": "scattercarpet"
           }
          ],
          "scattergeo": [
           {
            "marker": {
             "colorbar": {
              "outlinewidth": 0,
              "ticks": ""
             }
            },
            "type": "scattergeo"
           }
          ],
          "scattergl": [
           {
            "marker": {
             "colorbar": {
              "outlinewidth": 0,
              "ticks": ""
             }
            },
            "type": "scattergl"
           }
          ],
          "scattermapbox": [
           {
            "marker": {
             "colorbar": {
              "outlinewidth": 0,
              "ticks": ""
             }
            },
            "type": "scattermapbox"
           }
          ],
          "scatterpolar": [
           {
            "marker": {
             "colorbar": {
              "outlinewidth": 0,
              "ticks": ""
             }
            },
            "type": "scatterpolar"
           }
          ],
          "scatterpolargl": [
           {
            "marker": {
             "colorbar": {
              "outlinewidth": 0,
              "ticks": ""
             }
            },
            "type": "scatterpolargl"
           }
          ],
          "scatterternary": [
           {
            "marker": {
             "colorbar": {
              "outlinewidth": 0,
              "ticks": ""
             }
            },
            "type": "scatterternary"
           }
          ],
          "surface": [
           {
            "colorbar": {
             "outlinewidth": 0,
             "ticks": ""
            },
            "colorscale": [
             [
              0,
              "#0d0887"
             ],
             [
              0.1111111111111111,
              "#46039f"
             ],
             [
              0.2222222222222222,
              "#7201a8"
             ],
             [
              0.3333333333333333,
              "#9c179e"
             ],
             [
              0.4444444444444444,
              "#bd3786"
             ],
             [
              0.5555555555555556,
              "#d8576b"
             ],
             [
              0.6666666666666666,
              "#ed7953"
             ],
             [
              0.7777777777777778,
              "#fb9f3a"
             ],
             [
              0.8888888888888888,
              "#fdca26"
             ],
             [
              1,
              "#f0f921"
             ]
            ],
            "type": "surface"
           }
          ],
          "table": [
           {
            "cells": {
             "fill": {
              "color": "#EBF0F8"
             },
             "line": {
              "color": "white"
             }
            },
            "header": {
             "fill": {
              "color": "#C8D4E3"
             },
             "line": {
              "color": "white"
             }
            },
            "type": "table"
           }
          ]
         },
         "layout": {
          "annotationdefaults": {
           "arrowcolor": "#2a3f5f",
           "arrowhead": 0,
           "arrowwidth": 1
          },
          "autotypenumbers": "strict",
          "coloraxis": {
           "colorbar": {
            "outlinewidth": 0,
            "ticks": ""
           }
          },
          "colorscale": {
           "diverging": [
            [
             0,
             "#8e0152"
            ],
            [
             0.1,
             "#c51b7d"
            ],
            [
             0.2,
             "#de77ae"
            ],
            [
             0.3,
             "#f1b6da"
            ],
            [
             0.4,
             "#fde0ef"
            ],
            [
             0.5,
             "#f7f7f7"
            ],
            [
             0.6,
             "#e6f5d0"
            ],
            [
             0.7,
             "#b8e186"
            ],
            [
             0.8,
             "#7fbc41"
            ],
            [
             0.9,
             "#4d9221"
            ],
            [
             1,
             "#276419"
            ]
           ],
           "sequential": [
            [
             0,
             "#0d0887"
            ],
            [
             0.1111111111111111,
             "#46039f"
            ],
            [
             0.2222222222222222,
             "#7201a8"
            ],
            [
             0.3333333333333333,
             "#9c179e"
            ],
            [
             0.4444444444444444,
             "#bd3786"
            ],
            [
             0.5555555555555556,
             "#d8576b"
            ],
            [
             0.6666666666666666,
             "#ed7953"
            ],
            [
             0.7777777777777778,
             "#fb9f3a"
            ],
            [
             0.8888888888888888,
             "#fdca26"
            ],
            [
             1,
             "#f0f921"
            ]
           ],
           "sequentialminus": [
            [
             0,
             "#0d0887"
            ],
            [
             0.1111111111111111,
             "#46039f"
            ],
            [
             0.2222222222222222,
             "#7201a8"
            ],
            [
             0.3333333333333333,
             "#9c179e"
            ],
            [
             0.4444444444444444,
             "#bd3786"
            ],
            [
             0.5555555555555556,
             "#d8576b"
            ],
            [
             0.6666666666666666,
             "#ed7953"
            ],
            [
             0.7777777777777778,
             "#fb9f3a"
            ],
            [
             0.8888888888888888,
             "#fdca26"
            ],
            [
             1,
             "#f0f921"
            ]
           ]
          },
          "colorway": [
           "#636efa",
           "#EF553B",
           "#00cc96",
           "#ab63fa",
           "#FFA15A",
           "#19d3f3",
           "#FF6692",
           "#B6E880",
           "#FF97FF",
           "#FECB52"
          ],
          "font": {
           "color": "#2a3f5f"
          },
          "geo": {
           "bgcolor": "white",
           "lakecolor": "white",
           "landcolor": "#E5ECF6",
           "showlakes": true,
           "showland": true,
           "subunitcolor": "white"
          },
          "hoverlabel": {
           "align": "left"
          },
          "hovermode": "closest",
          "mapbox": {
           "style": "light"
          },
          "paper_bgcolor": "white",
          "plot_bgcolor": "#E5ECF6",
          "polar": {
           "angularaxis": {
            "gridcolor": "white",
            "linecolor": "white",
            "ticks": ""
           },
           "bgcolor": "#E5ECF6",
           "radialaxis": {
            "gridcolor": "white",
            "linecolor": "white",
            "ticks": ""
           }
          },
          "scene": {
           "xaxis": {
            "backgroundcolor": "#E5ECF6",
            "gridcolor": "white",
            "gridwidth": 2,
            "linecolor": "white",
            "showbackground": true,
            "ticks": "",
            "zerolinecolor": "white"
           },
           "yaxis": {
            "backgroundcolor": "#E5ECF6",
            "gridcolor": "white",
            "gridwidth": 2,
            "linecolor": "white",
            "showbackground": true,
            "ticks": "",
            "zerolinecolor": "white"
           },
           "zaxis": {
            "backgroundcolor": "#E5ECF6",
            "gridcolor": "white",
            "gridwidth": 2,
            "linecolor": "white",
            "showbackground": true,
            "ticks": "",
            "zerolinecolor": "white"
           }
          },
          "shapedefaults": {
           "line": {
            "color": "#2a3f5f"
           }
          },
          "ternary": {
           "aaxis": {
            "gridcolor": "white",
            "linecolor": "white",
            "ticks": ""
           },
           "baxis": {
            "gridcolor": "white",
            "linecolor": "white",
            "ticks": ""
           },
           "bgcolor": "#E5ECF6",
           "caxis": {
            "gridcolor": "white",
            "linecolor": "white",
            "ticks": ""
           }
          },
          "title": {
           "x": 0.05
          },
          "xaxis": {
           "automargin": true,
           "gridcolor": "white",
           "linecolor": "white",
           "ticks": "",
           "title": {
            "standoff": 15
           },
           "zerolinecolor": "white",
           "zerolinewidth": 2
          },
          "yaxis": {
           "automargin": true,
           "gridcolor": "white",
           "linecolor": "white",
           "ticks": "",
           "title": {
            "standoff": 15
           },
           "zerolinecolor": "white",
           "zerolinewidth": 2
          }
         }
        },
        "width": 500,
        "xaxis": {
         "autorange": false,
         "exponentformat": "e",
         "linecolor": "black",
         "linewidth": 1,
         "mirror": false,
         "range": [
          -0.02,
          1.02
         ],
         "showexponent": "all",
         "showline": true,
         "side": "bottom",
         "ticks": "outside",
         "title": {
          "text": "Birth"
         },
         "type": "linear",
         "zeroline": true
        },
        "yaxis": {
         "autorange": false,
         "exponentformat": "e",
         "linecolor": "black",
         "linewidth": 1,
         "mirror": false,
         "range": [
          -0.02,
          1.02
         ],
         "scaleanchor": "x",
         "scaleratio": 1,
         "showexponent": "all",
         "showline": true,
         "side": "left",
         "ticks": "outside",
         "title": {
          "text": "Death"
         },
         "type": "linear",
         "zeroline": true
        }
       }
      }
     },
     "metadata": {},
     "output_type": "display_data"
    },
    {
     "data": {
      "image/png": "[encoded data removed]",
      "text/plain": [
       "<Figure size 640x480 with 1 Axes>"
      ]
     },
     "metadata": {},
     "output_type": "display_data"
    }
   ],
   "source": [
    "bin = gtda.images.Binarizer(threshold = 0.1)\n",
    "do(bin.fit_transform(train_images[1]))"
   ]
  },
  {
   "cell_type": "code",
   "execution_count": 37,
   "metadata": {},
   "outputs": [
    {
     "name": "stderr",
     "output_type": "stream",
     "text": [
      "100%|██████████| 1/1 [00:00<00:00, 500.22it/s]\n"
     ]
    },
    {
     "data": {
      "application/vnd.plotly.v1+json": {
       "config": {
        "plotlyServerURL": "https://plot.ly"
       },
       "data": [
        {
         "hoverinfo": "none",
         "line": {
          "color": "black",
          "dash": "dash",
          "width": 1
         },
         "mode": "lines",
         "showlegend": false,
         "type": "scatter",
         "x": [
          -16.38,
          3.38
         ],
         "y": [
          -16.38,
          3.38
         ]
        },
        {
         "hoverinfo": "text",
         "hovertext": [
          "(-16.0, -4.0)",
          "(-12.0, -5.0)",
          "(-11.0, -6.0)",
          "(-4.0, 0.0)"
         ],
         "mode": "markers",
         "name": "H0",
         "type": "scatter",
         "x": [
          -16,
          -12,
          -11,
          -4
         ],
         "y": [
          -4,
          -5,
          -6,
          0
         ]
        },
        {
         "hoverinfo": "text",
         "hovertext": [
          "(-4.0, 3.0)",
          "(0.0, 1.0), multiplicity: 5",
          "(0.0, 1.0), multiplicity: 5",
          "(0.0, 1.0), multiplicity: 5",
          "(0.0, 1.0), multiplicity: 5",
          "(0.0, 1.0), multiplicity: 5",
          "(1.0, 2.0), multiplicity: 5",
          "(1.0, 2.0), multiplicity: 5",
          "(1.0, 2.0), multiplicity: 5",
          "(1.0, 2.0), multiplicity: 5",
          "(1.0, 2.0), multiplicity: 5"
         ],
         "mode": "markers",
         "name": "H1",
         "type": "scatter",
         "x": [
          -4,
          0,
          0,
          0,
          0,
          0,
          1,
          1,
          1,
          1,
          1
         ],
         "y": [
          3,
          1,
          1,
          1,
          1,
          1,
          2,
          2,
          2,
          2,
          2
         ]
        }
       ],
       "layout": {
        "height": 500,
        "plot_bgcolor": "white",
        "template": {
         "data": {
          "bar": [
           {
            "error_x": {
             "color": "#2a3f5f"
            },
            "error_y": {
             "color": "#2a3f5f"
            },
            "marker": {
             "line": {
              "color": "#E5ECF6",
              "width": 0.5
             },
             "pattern": {
              "fillmode": "overlay",
              "size": 10,
              "solidity": 0.2
             }
            },
            "type": "bar"
           }
          ],
          "barpolar": [
           {
            "marker": {
             "line": {
              "color": "#E5ECF6",
              "width": 0.5
             },
             "pattern": {
              "fillmode": "overlay",
              "size": 10,
              "solidity": 0.2
             }
            },
            "type": "barpolar"
           }
          ],
          "carpet": [
           {
            "aaxis": {
             "endlinecolor": "#2a3f5f",
             "gridcolor": "white",
             "linecolor": "white",
             "minorgridcolor": "white",
             "startlinecolor": "#2a3f5f"
            },
            "baxis": {
             "endlinecolor": "#2a3f5f",
             "gridcolor": "white",
             "linecolor": "white",
             "minorgridcolor": "white",
             "startlinecolor": "#2a3f5f"
            },
            "type": "carpet"
           }
          ],
          "choropleth": [
           {
            "colorbar": {
             "outlinewidth": 0,
             "ticks": ""
            },
            "type": "choropleth"
           }
          ],
          "contour": [
           {
            "colorbar": {
             "outlinewidth": 0,
             "ticks": ""
            },
            "colorscale": [
             [
              0,
              "#0d0887"
             ],
             [
              0.1111111111111111,
              "#46039f"
             ],
             [
              0.2222222222222222,
              "#7201a8"
             ],
             [
              0.3333333333333333,
              "#9c179e"
             ],
             [
              0.4444444444444444,
              "#bd3786"
             ],
             [
              0.5555555555555556,
              "#d8576b"
             ],
             [
              0.6666666666666666,
              "#ed7953"
             ],
             [
              0.7777777777777778,
              "#fb9f3a"
             ],
             [
              0.8888888888888888,
              "#fdca26"
             ],
             [
              1,
              "#f0f921"
             ]
            ],
            "type": "contour"
           }
          ],
          "contourcarpet": [
           {
            "colorbar": {
             "outlinewidth": 0,
             "ticks": ""
            },
            "type": "contourcarpet"
           }
          ],
          "heatmap": [
           {
            "colorbar": {
             "outlinewidth": 0,
             "ticks": ""
            },
            "colorscale": [
             [
              0,
              "#0d0887"
             ],
             [
              0.1111111111111111,
              "#46039f"
             ],
             [
              0.2222222222222222,
              "#7201a8"
             ],
             [
              0.3333333333333333,
              "#9c179e"
             ],
             [
              0.4444444444444444,
              "#bd3786"
             ],
             [
              0.5555555555555556,
              "#d8576b"
             ],
             [
              0.6666666666666666,
              "#ed7953"
             ],
             [
              0.7777777777777778,
              "#fb9f3a"
             ],
             [
              0.8888888888888888,
              "#fdca26"
             ],
             [
              1,
              "#f0f921"
             ]
            ],
            "type": "heatmap"
           }
          ],
          "heatmapgl": [
           {
            "colorbar": {
             "outlinewidth": 0,
             "ticks": ""
            },
            "colorscale": [
             [
              0,
              "#0d0887"
             ],
             [
              0.1111111111111111,
              "#46039f"
             ],
             [
              0.2222222222222222,
              "#7201a8"
             ],
             [
              0.3333333333333333,
              "#9c179e"
             ],
             [
              0.4444444444444444,
              "#bd3786"
             ],
             [
              0.5555555555555556,
              "#d8576b"
             ],
             [
              0.6666666666666666,
              "#ed7953"
             ],
             [
              0.7777777777777778,
              "#fb9f3a"
             ],
             [
              0.8888888888888888,
              "#fdca26"
             ],
             [
              1,
              "#f0f921"
             ]
            ],
            "type": "heatmapgl"
           }
          ],
          "histogram": [
           {
            "marker": {
             "pattern": {
              "fillmode": "overlay",
              "size": 10,
              "solidity": 0.2
             }
            },
            "type": "histogram"
           }
          ],
          "histogram2d": [
           {
            "colorbar": {
             "outlinewidth": 0,
             "ticks": ""
            },
            "colorscale": [
             [
              0,
              "#0d0887"
             ],
             [
              0.1111111111111111,
              "#46039f"
             ],
             [
              0.2222222222222222,
              "#7201a8"
             ],
             [
              0.3333333333333333,
              "#9c179e"
             ],
             [
              0.4444444444444444,
              "#bd3786"
             ],
             [
              0.5555555555555556,
              "#d8576b"
             ],
             [
              0.6666666666666666,
              "#ed7953"
             ],
             [
              0.7777777777777778,
              "#fb9f3a"
             ],
             [
              0.8888888888888888,
              "#fdca26"
             ],
             [
              1,
              "#f0f921"
             ]
            ],
            "type": "histogram2d"
           }
          ],
          "histogram2dcontour": [
           {
            "colorbar": {
             "outlinewidth": 0,
             "ticks": ""
            },
            "colorscale": [
             [
              0,
              "#0d0887"
             ],
             [
              0.1111111111111111,
              "#46039f"
             ],
             [
              0.2222222222222222,
              "#7201a8"
             ],
             [
              0.3333333333333333,
              "#9c179e"
             ],
             [
              0.4444444444444444,
              "#bd3786"
             ],
             [
              0.5555555555555556,
              "#d8576b"
             ],
             [
              0.6666666666666666,
              "#ed7953"
             ],
             [
              0.7777777777777778,
              "#fb9f3a"
             ],
             [
              0.8888888888888888,
              "#fdca26"
             ],
             [
              1,
              "#f0f921"
             ]
            ],
            "type": "histogram2dcontour"
           }
          ],
          "mesh3d": [
           {
            "colorbar": {
             "outlinewidth": 0,
             "ticks": ""
            },
            "type": "mesh3d"
           }
          ],
          "parcoords": [
           {
            "line": {
             "colorbar": {
              "outlinewidth": 0,
              "ticks": ""
             }
            },
            "type": "parcoords"
           }
          ],
          "pie": [
           {
            "automargin": true,
            "type": "pie"
           }
          ],
          "scatter": [
           {
            "fillpattern": {
             "fillmode": "overlay",
             "size": 10,
             "solidity": 0.2
            },
            "type": "scatter"
           }
          ],
          "scatter3d": [
           {
            "line": {
             "colorbar": {
              "outlinewidth": 0,
              "ticks": ""
             }
            },
            "marker": {
             "colorbar": {
              "outlinewidth": 0,
              "ticks": ""
             }
            },
            "type": "scatter3d"
           }
          ],
          "scattercarpet": [
           {
            "marker": {
             "colorbar": {
              "outlinewidth": 0,
              "ticks": ""
             }
            },
            "type": "scattercarpet"
           }
          ],
          "scattergeo": [
           {
            "marker": {
             "colorbar": {
              "outlinewidth": 0,
              "ticks": ""
             }
            },
            "type": "scattergeo"
           }
          ],
          "scattergl": [
           {
            "marker": {
             "colorbar": {
              "outlinewidth": 0,
              "ticks": ""
             }
            },
            "type": "scattergl"
           }
          ],
          "scattermapbox": [
           {
            "marker": {
             "colorbar": {
              "outlinewidth": 0,
              "ticks": ""
             }
            },
            "type": "scattermapbox"
           }
          ],
          "scatterpolar": [
           {
            "marker": {
             "colorbar": {
              "outlinewidth": 0,
              "ticks": ""
             }
            },
            "type": "scatterpolar"
           }
          ],
          "scatterpolargl": [
           {
            "marker": {
             "colorbar": {
              "outlinewidth": 0,
              "ticks": ""
             }
            },
            "type": "scatterpolargl"
           }
          ],
          "scatterternary": [
           {
            "marker": {
             "colorbar": {
              "outlinewidth": 0,
              "ticks": ""
             }
            },
            "type": "scatterternary"
           }
          ],
          "surface": [
           {
            "colorbar": {
             "outlinewidth": 0,
             "ticks": ""
            },
            "colorscale": [
             [
              0,
              "#0d0887"
             ],
             [
              0.1111111111111111,
              "#46039f"
             ],
             [
              0.2222222222222222,
              "#7201a8"
             ],
             [
              0.3333333333333333,
              "#9c179e"
             ],
             [
              0.4444444444444444,
              "#bd3786"
             ],
             [
              0.5555555555555556,
              "#d8576b"
             ],
             [
              0.6666666666666666,
              "#ed7953"
             ],
             [
              0.7777777777777778,
              "#fb9f3a"
             ],
             [
              0.8888888888888888,
              "#fdca26"
             ],
             [
              1,
              "#f0f921"
             ]
            ],
            "type": "surface"
           }
          ],
          "table": [
           {
            "cells": {
             "fill": {
              "color": "#EBF0F8"
             },
             "line": {
              "color": "white"
             }
            },
            "header": {
             "fill": {
              "color": "#C8D4E3"
             },
             "line": {
              "color": "white"
             }
            },
            "type": "table"
           }
          ]
         },
         "layout": {
          "annotationdefaults": {
           "arrowcolor": "#2a3f5f",
           "arrowhead": 0,
           "arrowwidth": 1
          },
          "autotypenumbers": "strict",
          "coloraxis": {
           "colorbar": {
            "outlinewidth": 0,
            "ticks": ""
           }
          },
          "colorscale": {
           "diverging": [
            [
             0,
             "#8e0152"
            ],
            [
             0.1,
             "#c51b7d"
            ],
            [
             0.2,
             "#de77ae"
            ],
            [
             0.3,
             "#f1b6da"
            ],
            [
             0.4,
             "#fde0ef"
            ],
            [
             0.5,
             "#f7f7f7"
            ],
            [
             0.6,
             "#e6f5d0"
            ],
            [
             0.7,
             "#b8e186"
            ],
            [
             0.8,
             "#7fbc41"
            ],
            [
             0.9,
             "#4d9221"
            ],
            [
             1,
             "#276419"
            ]
           ],
           "sequential": [
            [
             0,
             "#0d0887"
            ],
            [
             0.1111111111111111,
             "#46039f"
            ],
            [
             0.2222222222222222,
             "#7201a8"
            ],
            [
             0.3333333333333333,
             "#9c179e"
            ],
            [
             0.4444444444444444,
             "#bd3786"
            ],
            [
             0.5555555555555556,
             "#d8576b"
            ],
            [
             0.6666666666666666,
             "#ed7953"
            ],
            [
             0.7777777777777778,
             "#fb9f3a"
            ],
            [
             0.8888888888888888,
             "#fdca26"
            ],
            [
             1,
             "#f0f921"
            ]
           ],
           "sequentialminus": [
            [
             0,
             "#0d0887"
            ],
            [
             0.1111111111111111,
             "#46039f"
            ],
            [
             0.2222222222222222,
             "#7201a8"
            ],
            [
             0.3333333333333333,
             "#9c179e"
            ],
            [
             0.4444444444444444,
             "#bd3786"
            ],
            [
             0.5555555555555556,
             "#d8576b"
            ],
            [
             0.6666666666666666,
             "#ed7953"
            ],
            [
             0.7777777777777778,
             "#fb9f3a"
            ],
            [
             0.8888888888888888,
             "#fdca26"
            ],
            [
             1,
             "#f0f921"
            ]
           ]
          },
          "colorway": [
           "#636efa",
           "#EF553B",
           "#00cc96",
           "#ab63fa",
           "#FFA15A",
           "#19d3f3",
           "#FF6692",
           "#B6E880",
           "#FF97FF",
           "#FECB52"
          ],
          "font": {
           "color": "#2a3f5f"
          },
          "geo": {
           "bgcolor": "white",
           "lakecolor": "white",
           "landcolor": "#E5ECF6",
           "showlakes": true,
           "showland": true,
           "subunitcolor": "white"
          },
          "hoverlabel": {
           "align": "left"
          },
          "hovermode": "closest",
          "mapbox": {
           "style": "light"
          },
          "paper_bgcolor": "white",
          "plot_bgcolor": "#E5ECF6",
          "polar": {
           "angularaxis": {
            "gridcolor": "white",
            "linecolor": "white",
            "ticks": ""
           },
           "bgcolor": "#E5ECF6",
           "radialaxis": {
            "gridcolor": "white",
            "linecolor": "white",
            "ticks": ""
           }
          },
          "scene": {
           "xaxis": {
            "backgroundcolor": "#E5ECF6",
            "gridcolor": "white",
            "gridwidth": 2,
            "linecolor": "white",
            "showbackground": true,
            "ticks": "",
            "zerolinecolor": "white"
           },
           "yaxis": {
            "backgroundcolor": "#E5ECF6",
            "gridcolor": "white",
            "gridwidth": 2,
            "linecolor": "white",
            "showbackground": true,
            "ticks": "",
            "zerolinecolor": "white"
           },
           "zaxis": {
            "backgroundcolor": "#E5ECF6",
            "gridcolor": "white",
            "gridwidth": 2,
            "linecolor": "white",
            "showbackground": true,
            "ticks": "",
            "zerolinecolor": "white"
           }
          },
          "shapedefaults": {
           "line": {
            "color": "#2a3f5f"
           }
          },
          "ternary": {
           "aaxis": {
            "gridcolor": "white",
            "linecolor": "white",
            "ticks": ""
           },
           "baxis": {
            "gridcolor": "white",
            "linecolor": "white",
            "ticks": ""
           },
           "bgcolor": "#E5ECF6",
           "caxis": {
            "gridcolor": "white",
            "linecolor": "white",
            "ticks": ""
           }
          },
          "title": {
           "x": 0.05
          },
          "xaxis": {
           "automargin": true,
           "gridcolor": "white",
           "linecolor": "white",
           "ticks": "",
           "title": {
            "standoff": 15
           },
           "zerolinecolor": "white",
           "zerolinewidth": 2
          },
          "yaxis": {
           "automargin": true,
           "gridcolor": "white",
           "linecolor": "white",
           "ticks": "",
           "title": {
            "standoff": 15
           },
           "zerolinecolor": "white",
           "zerolinewidth": 2
          }
         }
        },
        "width": 500,
        "xaxis": {
         "autorange": false,
         "exponentformat": "e",
         "linecolor": "black",
         "linewidth": 1,
         "mirror": false,
         "range": [
          -16.38,
          3.38
         ],
         "showexponent": "all",
         "showline": true,
         "side": "bottom",
         "ticks": "outside",
         "title": {
          "text": "Birth"
         },
         "type": "linear",
         "zeroline": true
        },
        "yaxis": {
         "autorange": false,
         "exponentformat": "e",
         "linecolor": "black",
         "linewidth": 1,
         "mirror": false,
         "range": [
          -16.38,
          3.38
         ],
         "scaleanchor": "x",
         "scaleratio": 1,
         "showexponent": "all",
         "showline": true,
         "side": "left",
         "ticks": "outside",
         "title": {
          "text": "Death"
         },
         "type": "linear",
         "zeroline": true
        }
       }
      }
     },
     "metadata": {},
     "output_type": "display_data"
    },
    {
     "data": {
      "image/png": "[encoded data removed]",
      "text/plain": [
       "<Figure size 640x480 with 1 Axes>"
      ]
     },
     "metadata": {},
     "output_type": "display_data"
    }
   ],
   "source": [
    "fil = gtda.images.SignedDistanceFiltration()\n",
    "do(fil.fit_transform(bin.fit_transform(train_images[0:2]))[1])"
   ]
  }
 ],
 "metadata": {
  "kernelspec": {
   "display_name": "Python 3",
   "language": "python",
   "name": "python3"
  },
  "language_info": {
   "codemirror_mode": {
    "name": "ipython",
    "version": 3
   },
   "file_extension": ".py",
   "mimetype": "text/x-python",
   "name": "python",
   "nbconvert_exporter": "python",
   "pygments_lexer": "ipython3",
   "version": "3.10.11"
  }
 },
 "nbformat": 4,
 "nbformat_minor": 2
}
