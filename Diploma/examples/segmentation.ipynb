{
  "cells": [
    {
      "cell_type": "code",
      "execution_count": 2,
      "metadata": {},
      "outputs": [],
      "source": [
        "import glob\n",
        "\n",
        "import numpy\n",
        "import torch\n",
        "import PIL.Image\n",
        "import torchvision.tv_tensors\n",
        "import torchvision.transforms.v2\n",
        "\n",
        "transforms = torchvision.transforms.v2.Compose([\n",
        "    torchvision.transforms.v2.CenterCrop((224, 224)),\n",
        "    torchvision.transforms.v2.Resize((64, 64)),\n",
        "    torchvision.transforms.v2.ToDtype(torch.float32, scale = True)\n",
        "])\n",
        "def transforms_wrapper(image, mask):\n",
        "    image = torchvision.tv_tensors.Image(image)\n",
        "    mask = torchvision.tv_tensors.Mask(mask)\n",
        "    return transforms(image, mask)\n",
        "\n",
        "def load_dataset(path):\n",
        "    images, masks = [], []\n",
        "    for filename in glob.glob(f\"{path}/image/*\"):\n",
        "        image, mask = transforms_wrapper(\n",
        "            PIL.Image.open(filename),\n",
        "            PIL.Image.open(filename.replace(\"image\", \"mask\").replace(\"jpg\", \"png\"))\n",
        "        )\n",
        "        images.append(image.permute((1, 2, 0)).numpy())\n",
        "        masks.append(mask.squeeze().numpy())\n",
        "    return numpy.array(images)[:75, :, :, 0], numpy.array(masks)[:75]\n",
        "\n",
        "train_images, train_masks = load_dataset(\"midv500p/train\")\n",
        "test_images, test_masks = load_dataset(\"midv500p/val\")"
      ]
    },
    {
      "cell_type": "code",
      "execution_count": 3,
      "metadata": {},
      "outputs": [
        {
          "name": "stdout",
          "output_type": "stream",
          "text": [
            "Calculating inverted images\n",
            "GreyscaleExtractor: processing seg_train/greyscale, do_fit = True\n",
            "Saving the result to ./seg_train/greyscale/diagrams.npy\n",
            "Applying Scaler to persistence diagrams.\n",
            "DiagramVectorizer: fitting complete\n"
          ]
        },
        {
          "name": "stderr",
          "output_type": "stream",
          "text": [
            "DiagramVectorizer: batch: 100%|██████████| 1/1 [00:01<00:00,  1.10s/it]\n"
          ]
        },
        {
          "name": "stdout",
          "output_type": "stream",
          "text": [
            "Saving the result to ./seg_train/greyscale/features.npy\n",
            "GreyscaleExtractor: processing seg_train/greyscale, do_fit = False\n",
            "Got the result from ./seg_train/greyscale/diagrams.npy\n",
            "Applying Scaler to persistence diagrams.\n",
            "Got the result from ./seg_train/greyscale/features.npy\n",
            "GreyscaleExtractor: processing seg_train/inverted_greyscale, do_fit = True\n",
            "Saving the result to ./seg_train/inverted_greyscale/diagrams.npy\n",
            "Applying Scaler to persistence diagrams.\n",
            "DiagramVectorizer: fitting complete\n"
          ]
        },
        {
          "name": "stderr",
          "output_type": "stream",
          "text": [
            "DiagramVectorizer: batch: 100%|██████████| 1/1 [00:01<00:00,  1.19s/it]\n"
          ]
        },
        {
          "name": "stdout",
          "output_type": "stream",
          "text": [
            "Saving the result to ./seg_train/inverted_greyscale/features.npy\n",
            "GreyscaleExtractor: processing seg_train/inverted_greyscale, do_fit = False\n",
            "Got the result from ./seg_train/inverted_greyscale/diagrams.npy\n",
            "Applying Scaler to persistence diagrams.\n",
            "Got the result from ./seg_train/inverted_greyscale/features.npy\n",
            "Fitting filtrations\n",
            "Calculated radial centers for images of size 64x64: [20 43]x[20 43]\n",
            "Fitting filtration 1/12: 4/HeightFiltrartion_-1_-1\n",
            "FiltrationExtractor: processing seg_train/filtrations/4/HeightFiltrartion_-1_-1, do_fit = True, filtration = HeightFiltration(direction=array([-1, -1]), n_jobs=1)\n",
            "Saving the result to ./seg_train/filtrations/4/HeightFiltrartion_-1_-1/diagrams.npy\n",
            "Applying Scaler to persistence diagrams.\n",
            "DiagramVectorizer: fitting complete\n"
          ]
        },
        {
          "name": "stderr",
          "output_type": "stream",
          "text": [
            "DiagramVectorizer: batch: 100%|██████████| 1/1 [00:01<00:00,  1.09s/it]\n"
          ]
        },
        {
          "name": "stdout",
          "output_type": "stream",
          "text": [
            "Saving the result to ./seg_train/filtrations/4/HeightFiltrartion_-1_-1/features.npy\n",
            "Fitting filtration 2/12: 4/HeightFiltrartion_1_1\n",
            "FiltrationExtractor: processing seg_train/filtrations/4/HeightFiltrartion_1_1, do_fit = True, filtration = HeightFiltration(direction=array([1, 1]), n_jobs=1)\n",
            "Saving the result to ./seg_train/filtrations/4/HeightFiltrartion_1_1/diagrams.npy\n",
            "Applying Scaler to persistence diagrams.\n",
            "DiagramVectorizer: fitting complete\n"
          ]
        },
        {
          "name": "stderr",
          "output_type": "stream",
          "text": [
            "DiagramVectorizer: batch: 100%|██████████| 1/1 [00:01<00:00,  1.10s/it]\n"
          ]
        },
        {
          "name": "stdout",
          "output_type": "stream",
          "text": [
            "Saving the result to ./seg_train/filtrations/4/HeightFiltrartion_1_1/features.npy\n",
            "Fitting filtration 3/12: 4/HeightFiltrartion_1_-1\n",
            "FiltrationExtractor: processing seg_train/filtrations/4/HeightFiltrartion_1_-1, do_fit = True, filtration = HeightFiltration(direction=array([ 1, -1]), n_jobs=1)\n",
            "Saving the result to ./seg_train/filtrations/4/HeightFiltrartion_1_-1/diagrams.npy\n",
            "Applying Scaler to persistence diagrams.\n",
            "DiagramVectorizer: fitting complete\n"
          ]
        },
        {
          "name": "stderr",
          "output_type": "stream",
          "text": [
            "DiagramVectorizer: batch: 100%|██████████| 1/1 [00:01<00:00,  1.11s/it]\n"
          ]
        },
        {
          "name": "stdout",
          "output_type": "stream",
          "text": [
            "Saving the result to ./seg_train/filtrations/4/HeightFiltrartion_1_-1/features.npy\n",
            "Fitting filtration 4/12: 4/HeightFiltrartion_-1_1\n",
            "FiltrationExtractor: processing seg_train/filtrations/4/HeightFiltrartion_-1_1, do_fit = True, filtration = HeightFiltration(direction=array([-1,  1]), n_jobs=1)\n",
            "Saving the result to ./seg_train/filtrations/4/HeightFiltrartion_-1_1/diagrams.npy\n",
            "Applying Scaler to persistence diagrams.\n",
            "DiagramVectorizer: fitting complete\n"
          ]
        },
        {
          "name": "stderr",
          "output_type": "stream",
          "text": [
            "DiagramVectorizer: batch: 100%|██████████| 1/1 [00:01<00:00,  1.08s/it]\n"
          ]
        },
        {
          "name": "stdout",
          "output_type": "stream",
          "text": [
            "Saving the result to ./seg_train/filtrations/4/HeightFiltrartion_-1_1/features.npy\n",
            "Fitting filtration 5/12: 4/HeightFiltrartion_0_-1\n",
            "FiltrationExtractor: processing seg_train/filtrations/4/HeightFiltrartion_0_-1, do_fit = True, filtration = HeightFiltration(direction=array([ 0, -1]), n_jobs=1)\n",
            "Saving the result to ./seg_train/filtrations/4/HeightFiltrartion_0_-1/diagrams.npy\n",
            "Applying Scaler to persistence diagrams.\n",
            "DiagramVectorizer: fitting complete\n"
          ]
        },
        {
          "name": "stderr",
          "output_type": "stream",
          "text": [
            "DiagramVectorizer: batch: 100%|██████████| 1/1 [00:01<00:00,  1.11s/it]\n"
          ]
        },
        {
          "name": "stdout",
          "output_type": "stream",
          "text": [
            "Saving the result to ./seg_train/filtrations/4/HeightFiltrartion_0_-1/features.npy\n",
            "Fitting filtration 6/12: 4/HeightFiltrartion_0_1\n",
            "FiltrationExtractor: processing seg_train/filtrations/4/HeightFiltrartion_0_1, do_fit = True, filtration = HeightFiltration(direction=array([0, 1]), n_jobs=1)\n",
            "Saving the result to ./seg_train/filtrations/4/HeightFiltrartion_0_1/diagrams.npy\n",
            "Applying Scaler to persistence diagrams.\n",
            "DiagramVectorizer: fitting complete\n"
          ]
        },
        {
          "name": "stderr",
          "output_type": "stream",
          "text": [
            "DiagramVectorizer: batch: 100%|██████████| 1/1 [00:01<00:00,  1.09s/it]\n"
          ]
        },
        {
          "name": "stdout",
          "output_type": "stream",
          "text": [
            "Saving the result to ./seg_train/filtrations/4/HeightFiltrartion_0_1/features.npy\n",
            "Fitting filtration 7/12: 4/HeightFiltrartion_-1_0\n",
            "FiltrationExtractor: processing seg_train/filtrations/4/HeightFiltrartion_-1_0, do_fit = True, filtration = HeightFiltration(direction=array([-1,  0]), n_jobs=1)\n",
            "Saving the result to ./seg_train/filtrations/4/HeightFiltrartion_-1_0/diagrams.npy\n",
            "Applying Scaler to persistence diagrams.\n",
            "DiagramVectorizer: fitting complete\n"
          ]
        },
        {
          "name": "stderr",
          "output_type": "stream",
          "text": [
            "DiagramVectorizer: batch: 100%|██████████| 1/1 [00:01<00:00,  1.10s/it]\n"
          ]
        },
        {
          "name": "stdout",
          "output_type": "stream",
          "text": [
            "Saving the result to ./seg_train/filtrations/4/HeightFiltrartion_-1_0/features.npy\n",
            "Fitting filtration 8/12: 4/HeightFiltrartion_1_0\n",
            "FiltrationExtractor: processing seg_train/filtrations/4/HeightFiltrartion_1_0, do_fit = True, filtration = HeightFiltration(direction=array([1, 0]), n_jobs=1)\n",
            "Saving the result to ./seg_train/filtrations/4/HeightFiltrartion_1_0/diagrams.npy\n",
            "Applying Scaler to persistence diagrams.\n",
            "DiagramVectorizer: fitting complete\n"
          ]
        },
        {
          "name": "stderr",
          "output_type": "stream",
          "text": [
            "DiagramVectorizer: batch: 100%|██████████| 1/1 [00:01<00:00,  1.09s/it]\n"
          ]
        },
        {
          "name": "stdout",
          "output_type": "stream",
          "text": [
            "Saving the result to ./seg_train/filtrations/4/HeightFiltrartion_1_0/features.npy\n",
            "Fitting filtration 9/12: 4/RadialFiltration_20_20\n",
            "FiltrationExtractor: processing seg_train/filtrations/4/RadialFiltration_20_20, do_fit = True, filtration = RadialFiltration(center=array([20, 20]), n_jobs=1)\n",
            "Saving the result to ./seg_train/filtrations/4/RadialFiltration_20_20/diagrams.npy\n",
            "Applying Scaler to persistence diagrams.\n",
            "DiagramVectorizer: fitting complete\n"
          ]
        },
        {
          "name": "stderr",
          "output_type": "stream",
          "text": [
            "DiagramVectorizer: batch: 100%|██████████| 1/1 [00:01<00:00,  1.09s/it]\n"
          ]
        },
        {
          "name": "stdout",
          "output_type": "stream",
          "text": [
            "Saving the result to ./seg_train/filtrations/4/RadialFiltration_20_20/features.npy\n",
            "Fitting filtration 10/12: 4/RadialFiltration_20_43\n",
            "FiltrationExtractor: processing seg_train/filtrations/4/RadialFiltration_20_43, do_fit = True, filtration = RadialFiltration(center=array([20, 43]), n_jobs=1)\n",
            "Saving the result to ./seg_train/filtrations/4/RadialFiltration_20_43/diagrams.npy\n",
            "Applying Scaler to persistence diagrams.\n",
            "DiagramVectorizer: fitting complete\n"
          ]
        },
        {
          "name": "stderr",
          "output_type": "stream",
          "text": [
            "DiagramVectorizer: batch: 100%|██████████| 1/1 [00:01<00:00,  1.13s/it]\n"
          ]
        },
        {
          "name": "stdout",
          "output_type": "stream",
          "text": [
            "Saving the result to ./seg_train/filtrations/4/RadialFiltration_20_43/features.npy\n",
            "Fitting filtration 11/12: 4/RadialFiltration_43_20\n",
            "FiltrationExtractor: processing seg_train/filtrations/4/RadialFiltration_43_20, do_fit = True, filtration = RadialFiltration(center=array([43, 20]), n_jobs=1)\n",
            "Saving the result to ./seg_train/filtrations/4/RadialFiltration_43_20/diagrams.npy\n",
            "Applying Scaler to persistence diagrams.\n",
            "DiagramVectorizer: fitting complete\n"
          ]
        },
        {
          "name": "stderr",
          "output_type": "stream",
          "text": [
            "DiagramVectorizer: batch: 100%|██████████| 1/1 [00:01<00:00,  1.09s/it]\n"
          ]
        },
        {
          "name": "stdout",
          "output_type": "stream",
          "text": [
            "Saving the result to ./seg_train/filtrations/4/RadialFiltration_43_20/features.npy\n",
            "Fitting filtration 12/12: 4/RadialFiltration_43_43\n",
            "FiltrationExtractor: processing seg_train/filtrations/4/RadialFiltration_43_43, do_fit = True, filtration = RadialFiltration(center=array([43, 43]), n_jobs=1)\n",
            "Saving the result to ./seg_train/filtrations/4/RadialFiltration_43_43/diagrams.npy\n",
            "Applying Scaler to persistence diagrams.\n",
            "DiagramVectorizer: fitting complete\n"
          ]
        },
        {
          "name": "stderr",
          "output_type": "stream",
          "text": [
            "DiagramVectorizer: batch: 100%|██████████| 1/1 [00:01<00:00,  1.09s/it]\n"
          ]
        },
        {
          "name": "stdout",
          "output_type": "stream",
          "text": [
            "Saving the result to ./seg_train/filtrations/4/RadialFiltration_43_43/features.npy\n",
            "Applying filtrations\n",
            "Applying filtration 1/12: 4/HeightFiltrartion_-1_-1\n",
            "FiltrationExtractor: processing seg_train/filtrations/4/HeightFiltrartion_-1_-1, do_fit = False, filtration = HeightFiltration(direction=array([-1, -1]), n_jobs=1)\n",
            "Got the result from ./seg_train/filtrations/4/HeightFiltrartion_-1_-1/diagrams.npy\n",
            "Applying Scaler to persistence diagrams.\n",
            "Got the result from ./seg_train/filtrations/4/HeightFiltrartion_-1_-1/features.npy\n",
            "Applying filtration 2/12: 4/HeightFiltrartion_1_1\n",
            "FiltrationExtractor: processing seg_train/filtrations/4/HeightFiltrartion_1_1, do_fit = False, filtration = HeightFiltration(direction=array([1, 1]), n_jobs=1)\n",
            "Got the result from ./seg_train/filtrations/4/HeightFiltrartion_1_1/diagrams.npy\n",
            "Applying Scaler to persistence diagrams.\n",
            "Got the result from ./seg_train/filtrations/4/HeightFiltrartion_1_1/features.npy\n",
            "Applying filtration 3/12: 4/HeightFiltrartion_1_-1\n",
            "FiltrationExtractor: processing seg_train/filtrations/4/HeightFiltrartion_1_-1, do_fit = False, filtration = HeightFiltration(direction=array([ 1, -1]), n_jobs=1)\n",
            "Got the result from ./seg_train/filtrations/4/HeightFiltrartion_1_-1/diagrams.npy\n",
            "Applying Scaler to persistence diagrams.\n",
            "Got the result from ./seg_train/filtrations/4/HeightFiltrartion_1_-1/features.npy\n",
            "Applying filtration 4/12: 4/HeightFiltrartion_-1_1\n",
            "FiltrationExtractor: processing seg_train/filtrations/4/HeightFiltrartion_-1_1, do_fit = False, filtration = HeightFiltration(direction=array([-1,  1]), n_jobs=1)\n",
            "Got the result from ./seg_train/filtrations/4/HeightFiltrartion_-1_1/diagrams.npy\n",
            "Applying Scaler to persistence diagrams.\n",
            "Got the result from ./seg_train/filtrations/4/HeightFiltrartion_-1_1/features.npy\n",
            "Applying filtration 5/12: 4/HeightFiltrartion_0_-1\n",
            "FiltrationExtractor: processing seg_train/filtrations/4/HeightFiltrartion_0_-1, do_fit = False, filtration = HeightFiltration(direction=array([ 0, -1]), n_jobs=1)\n",
            "Got the result from ./seg_train/filtrations/4/HeightFiltrartion_0_-1/diagrams.npy\n",
            "Applying Scaler to persistence diagrams.\n",
            "Got the result from ./seg_train/filtrations/4/HeightFiltrartion_0_-1/features.npy\n",
            "Applying filtration 6/12: 4/HeightFiltrartion_0_1\n",
            "FiltrationExtractor: processing seg_train/filtrations/4/HeightFiltrartion_0_1, do_fit = False, filtration = HeightFiltration(direction=array([0, 1]), n_jobs=1)\n",
            "Got the result from ./seg_train/filtrations/4/HeightFiltrartion_0_1/diagrams.npy\n",
            "Applying Scaler to persistence diagrams.\n",
            "Got the result from ./seg_train/filtrations/4/HeightFiltrartion_0_1/features.npy\n",
            "Applying filtration 7/12: 4/HeightFiltrartion_-1_0\n",
            "FiltrationExtractor: processing seg_train/filtrations/4/HeightFiltrartion_-1_0, do_fit = False, filtration = HeightFiltration(direction=array([-1,  0]), n_jobs=1)\n",
            "Got the result from ./seg_train/filtrations/4/HeightFiltrartion_-1_0/diagrams.npy\n",
            "Applying Scaler to persistence diagrams.\n",
            "Got the result from ./seg_train/filtrations/4/HeightFiltrartion_-1_0/features.npy\n",
            "Applying filtration 8/12: 4/HeightFiltrartion_1_0\n",
            "FiltrationExtractor: processing seg_train/filtrations/4/HeightFiltrartion_1_0, do_fit = False, filtration = HeightFiltration(direction=array([1, 0]), n_jobs=1)\n",
            "Got the result from ./seg_train/filtrations/4/HeightFiltrartion_1_0/diagrams.npy\n",
            "Applying Scaler to persistence diagrams.\n",
            "Got the result from ./seg_train/filtrations/4/HeightFiltrartion_1_0/features.npy\n",
            "Applying filtration 9/12: 4/RadialFiltration_20_20\n",
            "FiltrationExtractor: processing seg_train/filtrations/4/RadialFiltration_20_20, do_fit = False, filtration = RadialFiltration(center=array([20, 20]), n_jobs=1)\n",
            "Got the result from ./seg_train/filtrations/4/RadialFiltration_20_20/diagrams.npy\n",
            "Applying Scaler to persistence diagrams.\n",
            "Got the result from ./seg_train/filtrations/4/RadialFiltration_20_20/features.npy\n",
            "Applying filtration 10/12: 4/RadialFiltration_20_43\n",
            "FiltrationExtractor: processing seg_train/filtrations/4/RadialFiltration_20_43, do_fit = False, filtration = RadialFiltration(center=array([20, 43]), n_jobs=1)\n",
            "Got the result from ./seg_train/filtrations/4/RadialFiltration_20_43/diagrams.npy\n",
            "Applying Scaler to persistence diagrams.\n",
            "Got the result from ./seg_train/filtrations/4/RadialFiltration_20_43/features.npy\n",
            "Applying filtration 11/12: 4/RadialFiltration_43_20\n",
            "FiltrationExtractor: processing seg_train/filtrations/4/RadialFiltration_43_20, do_fit = False, filtration = RadialFiltration(center=array([43, 20]), n_jobs=1)\n",
            "Got the result from ./seg_train/filtrations/4/RadialFiltration_43_20/diagrams.npy\n",
            "Applying Scaler to persistence diagrams.\n",
            "Got the result from ./seg_train/filtrations/4/RadialFiltration_43_20/features.npy\n",
            "Applying filtration 12/12: 4/RadialFiltration_43_43\n",
            "FiltrationExtractor: processing seg_train/filtrations/4/RadialFiltration_43_43, do_fit = False, filtration = RadialFiltration(center=array([43, 43]), n_jobs=1)\n",
            "Got the result from ./seg_train/filtrations/4/RadialFiltration_43_43/diagrams.npy\n",
            "Applying Scaler to persistence diagrams.\n",
            "Got the result from ./seg_train/filtrations/4/RadialFiltration_43_43/features.npy\n"
          ]
        },
        {
          "name": "stderr",
          "output_type": "stream",
          "text": [
            "GrayGeometryExtractor: 100%|██████████| 75/75 [00:05<00:00, 12.58it/s]\n"
          ]
        },
        {
          "name": "stdout",
          "output_type": "stream",
          "text": [
            "Saving the result to ./seg_train/geometry/features.npy\n",
            "Got the result from ./seg_train/geometry/features.npy\n",
            "Applying StandardScaler.\n",
            "Calculating inverted images\n",
            "GreyscaleExtractor: processing seg_train/greyscale, do_fit = False\n",
            "Got the result from ./seg_train/greyscale/diagrams.npy\n",
            "Applying Scaler to persistence diagrams.\n",
            "Got the result from ./seg_train/greyscale/features.npy\n",
            "GreyscaleExtractor: processing seg_train/inverted_greyscale, do_fit = False\n",
            "Got the result from ./seg_train/inverted_greyscale/diagrams.npy\n",
            "Applying Scaler to persistence diagrams.\n",
            "Got the result from ./seg_train/inverted_greyscale/features.npy\n",
            "Applying filtrations\n",
            "Applying filtration 1/12: 4/HeightFiltrartion_-1_-1\n",
            "FiltrationExtractor: processing seg_train/filtrations/4/HeightFiltrartion_-1_-1, do_fit = False, filtration = HeightFiltration(direction=array([-1, -1]), n_jobs=1)\n",
            "Got the result from ./seg_train/filtrations/4/HeightFiltrartion_-1_-1/diagrams.npy\n",
            "Applying Scaler to persistence diagrams.\n",
            "Got the result from ./seg_train/filtrations/4/HeightFiltrartion_-1_-1/features.npy\n",
            "Applying filtration 2/12: 4/HeightFiltrartion_1_1\n",
            "FiltrationExtractor: processing seg_train/filtrations/4/HeightFiltrartion_1_1, do_fit = False, filtration = HeightFiltration(direction=array([1, 1]), n_jobs=1)\n",
            "Got the result from ./seg_train/filtrations/4/HeightFiltrartion_1_1/diagrams.npy\n",
            "Applying Scaler to persistence diagrams.\n",
            "Got the result from ./seg_train/filtrations/4/HeightFiltrartion_1_1/features.npy\n",
            "Applying filtration 3/12: 4/HeightFiltrartion_1_-1\n",
            "FiltrationExtractor: processing seg_train/filtrations/4/HeightFiltrartion_1_-1, do_fit = False, filtration = HeightFiltration(direction=array([ 1, -1]), n_jobs=1)\n",
            "Got the result from ./seg_train/filtrations/4/HeightFiltrartion_1_-1/diagrams.npy\n",
            "Applying Scaler to persistence diagrams.\n",
            "Got the result from ./seg_train/filtrations/4/HeightFiltrartion_1_-1/features.npy\n",
            "Applying filtration 4/12: 4/HeightFiltrartion_-1_1\n",
            "FiltrationExtractor: processing seg_train/filtrations/4/HeightFiltrartion_-1_1, do_fit = False, filtration = HeightFiltration(direction=array([-1,  1]), n_jobs=1)\n",
            "Got the result from ./seg_train/filtrations/4/HeightFiltrartion_-1_1/diagrams.npy\n",
            "Applying Scaler to persistence diagrams.\n",
            "Got the result from ./seg_train/filtrations/4/HeightFiltrartion_-1_1/features.npy\n",
            "Applying filtration 5/12: 4/HeightFiltrartion_0_-1\n",
            "FiltrationExtractor: processing seg_train/filtrations/4/HeightFiltrartion_0_-1, do_fit = False, filtration = HeightFiltration(direction=array([ 0, -1]), n_jobs=1)\n",
            "Got the result from ./seg_train/filtrations/4/HeightFiltrartion_0_-1/diagrams.npy\n",
            "Applying Scaler to persistence diagrams.\n",
            "Got the result from ./seg_train/filtrations/4/HeightFiltrartion_0_-1/features.npy\n",
            "Applying filtration 6/12: 4/HeightFiltrartion_0_1\n",
            "FiltrationExtractor: processing seg_train/filtrations/4/HeightFiltrartion_0_1, do_fit = False, filtration = HeightFiltration(direction=array([0, 1]), n_jobs=1)\n",
            "Got the result from ./seg_train/filtrations/4/HeightFiltrartion_0_1/diagrams.npy\n",
            "Applying Scaler to persistence diagrams.\n",
            "Got the result from ./seg_train/filtrations/4/HeightFiltrartion_0_1/features.npy\n",
            "Applying filtration 7/12: 4/HeightFiltrartion_-1_0\n",
            "FiltrationExtractor: processing seg_train/filtrations/4/HeightFiltrartion_-1_0, do_fit = False, filtration = HeightFiltration(direction=array([-1,  0]), n_jobs=1)\n",
            "Got the result from ./seg_train/filtrations/4/HeightFiltrartion_-1_0/diagrams.npy\n",
            "Applying Scaler to persistence diagrams.\n",
            "Got the result from ./seg_train/filtrations/4/HeightFiltrartion_-1_0/features.npy\n",
            "Applying filtration 8/12: 4/HeightFiltrartion_1_0\n",
            "FiltrationExtractor: processing seg_train/filtrations/4/HeightFiltrartion_1_0, do_fit = False, filtration = HeightFiltration(direction=array([1, 0]), n_jobs=1)\n",
            "Got the result from ./seg_train/filtrations/4/HeightFiltrartion_1_0/diagrams.npy\n",
            "Applying Scaler to persistence diagrams.\n",
            "Got the result from ./seg_train/filtrations/4/HeightFiltrartion_1_0/features.npy\n",
            "Applying filtration 9/12: 4/RadialFiltration_20_20\n",
            "FiltrationExtractor: processing seg_train/filtrations/4/RadialFiltration_20_20, do_fit = False, filtration = RadialFiltration(center=array([20, 20]), n_jobs=1)\n",
            "Got the result from ./seg_train/filtrations/4/RadialFiltration_20_20/diagrams.npy\n",
            "Applying Scaler to persistence diagrams.\n",
            "Got the result from ./seg_train/filtrations/4/RadialFiltration_20_20/features.npy\n",
            "Applying filtration 10/12: 4/RadialFiltration_20_43\n",
            "FiltrationExtractor: processing seg_train/filtrations/4/RadialFiltration_20_43, do_fit = False, filtration = RadialFiltration(center=array([20, 43]), n_jobs=1)\n",
            "Got the result from ./seg_train/filtrations/4/RadialFiltration_20_43/diagrams.npy\n",
            "Applying Scaler to persistence diagrams.\n",
            "Got the result from ./seg_train/filtrations/4/RadialFiltration_20_43/features.npy\n",
            "Applying filtration 11/12: 4/RadialFiltration_43_20\n",
            "FiltrationExtractor: processing seg_train/filtrations/4/RadialFiltration_43_20, do_fit = False, filtration = RadialFiltration(center=array([43, 20]), n_jobs=1)\n",
            "Got the result from ./seg_train/filtrations/4/RadialFiltration_43_20/diagrams.npy\n",
            "Applying Scaler to persistence diagrams.\n",
            "Got the result from ./seg_train/filtrations/4/RadialFiltration_43_20/features.npy\n",
            "Applying filtration 12/12: 4/RadialFiltration_43_43\n",
            "FiltrationExtractor: processing seg_train/filtrations/4/RadialFiltration_43_43, do_fit = False, filtration = RadialFiltration(center=array([43, 43]), n_jobs=1)\n",
            "Got the result from ./seg_train/filtrations/4/RadialFiltration_43_43/diagrams.npy\n",
            "Applying Scaler to persistence diagrams.\n",
            "Got the result from ./seg_train/filtrations/4/RadialFiltration_43_43/features.npy\n",
            "Got the result from ./seg_train/geometry/features.npy\n",
            "Applying StandardScaler.\n",
            "Calculating inverted images\n",
            "GreyscaleExtractor: processing seg_test/greyscale, do_fit = False\n",
            "Saving the result to ./seg_test/greyscale/diagrams.npy\n",
            "Applying Scaler to persistence diagrams.\n"
          ]
        },
        {
          "name": "stderr",
          "output_type": "stream",
          "text": [
            "DiagramVectorizer: batch: 100%|██████████| 1/1 [00:00<00:00,  1.13it/s]\n"
          ]
        },
        {
          "name": "stdout",
          "output_type": "stream",
          "text": [
            "Saving the result to ./seg_test/greyscale/features.npy\n",
            "GreyscaleExtractor: processing seg_test/inverted_greyscale, do_fit = False\n",
            "Saving the result to ./seg_test/inverted_greyscale/diagrams.npy\n",
            "Applying Scaler to persistence diagrams.\n"
          ]
        },
        {
          "name": "stderr",
          "output_type": "stream",
          "text": [
            "DiagramVectorizer: batch: 100%|██████████| 1/1 [00:00<00:00,  1.09it/s]\n"
          ]
        },
        {
          "name": "stdout",
          "output_type": "stream",
          "text": [
            "Saving the result to ./seg_test/inverted_greyscale/features.npy\n",
            "Applying filtrations\n",
            "Applying filtration 1/12: 4/HeightFiltrartion_-1_-1\n",
            "FiltrationExtractor: processing seg_test/filtrations/4/HeightFiltrartion_-1_-1, do_fit = False, filtration = HeightFiltration(direction=array([-1, -1]), n_jobs=1)\n",
            "Saving the result to ./seg_test/filtrations/4/HeightFiltrartion_-1_-1/diagrams.npy\n",
            "Applying Scaler to persistence diagrams.\n"
          ]
        },
        {
          "name": "stderr",
          "output_type": "stream",
          "text": [
            "DiagramVectorizer: batch: 100%|██████████| 1/1 [00:00<00:00,  1.12it/s]\n"
          ]
        },
        {
          "name": "stdout",
          "output_type": "stream",
          "text": [
            "Saving the result to ./seg_test/filtrations/4/HeightFiltrartion_-1_-1/features.npy\n",
            "Applying filtration 2/12: 4/HeightFiltrartion_1_1\n",
            "FiltrationExtractor: processing seg_test/filtrations/4/HeightFiltrartion_1_1, do_fit = False, filtration = HeightFiltration(direction=array([1, 1]), n_jobs=1)\n",
            "Saving the result to ./seg_test/filtrations/4/HeightFiltrartion_1_1/diagrams.npy\n",
            "Applying Scaler to persistence diagrams.\n"
          ]
        },
        {
          "name": "stderr",
          "output_type": "stream",
          "text": [
            "DiagramVectorizer: batch: 100%|██████████| 1/1 [00:00<00:00,  1.04it/s]\n"
          ]
        },
        {
          "name": "stdout",
          "output_type": "stream",
          "text": [
            "Saving the result to ./seg_test/filtrations/4/HeightFiltrartion_1_1/features.npy\n",
            "Applying filtration 3/12: 4/HeightFiltrartion_1_-1\n",
            "FiltrationExtractor: processing seg_test/filtrations/4/HeightFiltrartion_1_-1, do_fit = False, filtration = HeightFiltration(direction=array([ 1, -1]), n_jobs=1)\n",
            "Saving the result to ./seg_test/filtrations/4/HeightFiltrartion_1_-1/diagrams.npy\n",
            "Applying Scaler to persistence diagrams.\n"
          ]
        },
        {
          "name": "stderr",
          "output_type": "stream",
          "text": [
            "DiagramVectorizer: batch: 100%|██████████| 1/1 [00:00<00:00,  1.02it/s]\n"
          ]
        },
        {
          "name": "stdout",
          "output_type": "stream",
          "text": [
            "Saving the result to ./seg_test/filtrations/4/HeightFiltrartion_1_-1/features.npy\n",
            "Applying filtration 4/12: 4/HeightFiltrartion_-1_1\n",
            "FiltrationExtractor: processing seg_test/filtrations/4/HeightFiltrartion_-1_1, do_fit = False, filtration = HeightFiltration(direction=array([-1,  1]), n_jobs=1)\n",
            "Saving the result to ./seg_test/filtrations/4/HeightFiltrartion_-1_1/diagrams.npy\n",
            "Applying Scaler to persistence diagrams.\n"
          ]
        },
        {
          "name": "stderr",
          "output_type": "stream",
          "text": [
            "DiagramVectorizer: batch: 100%|██████████| 1/1 [00:00<00:00,  1.08it/s]\n"
          ]
        },
        {
          "name": "stdout",
          "output_type": "stream",
          "text": [
            "Saving the result to ./seg_test/filtrations/4/HeightFiltrartion_-1_1/features.npy\n",
            "Applying filtration 5/12: 4/HeightFiltrartion_0_-1\n",
            "FiltrationExtractor: processing seg_test/filtrations/4/HeightFiltrartion_0_-1, do_fit = False, filtration = HeightFiltration(direction=array([ 0, -1]), n_jobs=1)\n",
            "Saving the result to ./seg_test/filtrations/4/HeightFiltrartion_0_-1/diagrams.npy\n",
            "Applying Scaler to persistence diagrams.\n"
          ]
        },
        {
          "name": "stderr",
          "output_type": "stream",
          "text": [
            "DiagramVectorizer: batch: 100%|██████████| 1/1 [00:00<00:00,  1.10it/s]\n"
          ]
        },
        {
          "name": "stdout",
          "output_type": "stream",
          "text": [
            "Saving the result to ./seg_test/filtrations/4/HeightFiltrartion_0_-1/features.npy\n",
            "Applying filtration 6/12: 4/HeightFiltrartion_0_1\n",
            "FiltrationExtractor: processing seg_test/filtrations/4/HeightFiltrartion_0_1, do_fit = False, filtration = HeightFiltration(direction=array([0, 1]), n_jobs=1)\n",
            "Saving the result to ./seg_test/filtrations/4/HeightFiltrartion_0_1/diagrams.npy\n",
            "Applying Scaler to persistence diagrams.\n"
          ]
        },
        {
          "name": "stderr",
          "output_type": "stream",
          "text": [
            "DiagramVectorizer: batch: 100%|██████████| 1/1 [00:00<00:00,  1.15it/s]\n"
          ]
        },
        {
          "name": "stdout",
          "output_type": "stream",
          "text": [
            "Saving the result to ./seg_test/filtrations/4/HeightFiltrartion_0_1/features.npy\n",
            "Applying filtration 7/12: 4/HeightFiltrartion_-1_0\n",
            "FiltrationExtractor: processing seg_test/filtrations/4/HeightFiltrartion_-1_0, do_fit = False, filtration = HeightFiltration(direction=array([-1,  0]), n_jobs=1)\n",
            "Saving the result to ./seg_test/filtrations/4/HeightFiltrartion_-1_0/diagrams.npy\n",
            "Applying Scaler to persistence diagrams.\n"
          ]
        },
        {
          "name": "stderr",
          "output_type": "stream",
          "text": [
            "DiagramVectorizer: batch: 100%|██████████| 1/1 [00:00<00:00,  1.14it/s]\n"
          ]
        },
        {
          "name": "stdout",
          "output_type": "stream",
          "text": [
            "Saving the result to ./seg_test/filtrations/4/HeightFiltrartion_-1_0/features.npy\n",
            "Applying filtration 8/12: 4/HeightFiltrartion_1_0\n",
            "FiltrationExtractor: processing seg_test/filtrations/4/HeightFiltrartion_1_0, do_fit = False, filtration = HeightFiltration(direction=array([1, 0]), n_jobs=1)\n",
            "Saving the result to ./seg_test/filtrations/4/HeightFiltrartion_1_0/diagrams.npy\n",
            "Applying Scaler to persistence diagrams.\n"
          ]
        },
        {
          "name": "stderr",
          "output_type": "stream",
          "text": [
            "DiagramVectorizer: batch: 100%|██████████| 1/1 [00:00<00:00,  1.15it/s]\n"
          ]
        },
        {
          "name": "stdout",
          "output_type": "stream",
          "text": [
            "Saving the result to ./seg_test/filtrations/4/HeightFiltrartion_1_0/features.npy\n",
            "Applying filtration 9/12: 4/RadialFiltration_20_20\n",
            "FiltrationExtractor: processing seg_test/filtrations/4/RadialFiltration_20_20, do_fit = False, filtration = RadialFiltration(center=array([20, 20]), n_jobs=1)\n",
            "Saving the result to ./seg_test/filtrations/4/RadialFiltration_20_20/diagrams.npy\n",
            "Applying Scaler to persistence diagrams.\n"
          ]
        },
        {
          "name": "stderr",
          "output_type": "stream",
          "text": [
            "DiagramVectorizer: batch: 100%|██████████| 1/1 [00:00<00:00,  1.15it/s]\n"
          ]
        },
        {
          "name": "stdout",
          "output_type": "stream",
          "text": [
            "Saving the result to ./seg_test/filtrations/4/RadialFiltration_20_20/features.npy\n",
            "Applying filtration 10/12: 4/RadialFiltration_20_43\n",
            "FiltrationExtractor: processing seg_test/filtrations/4/RadialFiltration_20_43, do_fit = False, filtration = RadialFiltration(center=array([20, 43]), n_jobs=1)\n",
            "Saving the result to ./seg_test/filtrations/4/RadialFiltration_20_43/diagrams.npy\n",
            "Applying Scaler to persistence diagrams.\n"
          ]
        },
        {
          "name": "stderr",
          "output_type": "stream",
          "text": [
            "DiagramVectorizer: batch: 100%|██████████| 1/1 [00:00<00:00,  1.14it/s]\n"
          ]
        },
        {
          "name": "stdout",
          "output_type": "stream",
          "text": [
            "Saving the result to ./seg_test/filtrations/4/RadialFiltration_20_43/features.npy\n",
            "Applying filtration 11/12: 4/RadialFiltration_43_20\n",
            "FiltrationExtractor: processing seg_test/filtrations/4/RadialFiltration_43_20, do_fit = False, filtration = RadialFiltration(center=array([43, 20]), n_jobs=1)\n",
            "Saving the result to ./seg_test/filtrations/4/RadialFiltration_43_20/diagrams.npy\n",
            "Applying Scaler to persistence diagrams.\n"
          ]
        },
        {
          "name": "stderr",
          "output_type": "stream",
          "text": [
            "DiagramVectorizer: batch: 100%|██████████| 1/1 [00:00<00:00,  1.16it/s]\n"
          ]
        },
        {
          "name": "stdout",
          "output_type": "stream",
          "text": [
            "Saving the result to ./seg_test/filtrations/4/RadialFiltration_43_20/features.npy\n",
            "Applying filtration 12/12: 4/RadialFiltration_43_43\n",
            "FiltrationExtractor: processing seg_test/filtrations/4/RadialFiltration_43_43, do_fit = False, filtration = RadialFiltration(center=array([43, 43]), n_jobs=1)\n",
            "Saving the result to ./seg_test/filtrations/4/RadialFiltration_43_43/diagrams.npy\n",
            "Applying Scaler to persistence diagrams.\n"
          ]
        },
        {
          "name": "stderr",
          "output_type": "stream",
          "text": [
            "DiagramVectorizer: batch: 100%|██████████| 1/1 [00:00<00:00,  1.15it/s]\n"
          ]
        },
        {
          "name": "stdout",
          "output_type": "stream",
          "text": [
            "Saving the result to ./seg_test/filtrations/4/RadialFiltration_43_43/features.npy\n"
          ]
        },
        {
          "name": "stderr",
          "output_type": "stream",
          "text": [
            "GrayGeometryExtractor: 100%|██████████| 62/62 [00:04<00:00, 13.01it/s]"
          ]
        },
        {
          "name": "stdout",
          "output_type": "stream",
          "text": [
            "Saving the result to ./seg_test/geometry/features.npy\n",
            "Applying StandardScaler.\n"
          ]
        },
        {
          "name": "stderr",
          "output_type": "stream",
          "text": [
            "\n"
          ]
        }
      ],
      "source": [
        "import cvtda.topology\n",
        "extractor = cvtda.topology.FeatureExtractor(\n",
        "    n_jobs = 1,\n",
        "    binarizer_thresholds = [ 0.4 ],\n",
        "    num_radial_filtrations = 2\n",
        ")\n",
        "train_features = extractor.fit_transform(train_images, \"seg_train\")\n",
        "test_features = extractor.transform(test_images, \"seg_test\")"
      ]
    },
    {
      "cell_type": "code",
      "execution_count": 1,
      "metadata": {},
      "outputs": [
        {
          "ename": "ModuleNotFoundError",
          "evalue": "No module named 'cvtda.segmentation'",
          "output_type": "error",
          "traceback": [
            "\u001b[0;31m---------------------------------------------------------------------------\u001b[0m",
            "\u001b[0;31mModuleNotFoundError\u001b[0m                       Traceback (most recent call last)",
            "Cell \u001b[0;32mIn[1], line 1\u001b[0m\n\u001b[0;32m----> 1\u001b[0m \u001b[38;5;28;01mimport\u001b[39;00m\u001b[38;5;250m \u001b[39m\u001b[38;5;21;01mcvtda\u001b[39;00m\u001b[38;5;21;01m.\u001b[39;00m\u001b[38;5;21;01msegmentation\u001b[39;00m\n\u001b[1;32m      2\u001b[0m cvtda\u001b[38;5;241m.\u001b[39msegmentation\u001b[38;5;241m.\u001b[39msegment(\n\u001b[1;32m      3\u001b[0m     train_images, train_features, train_masks,\n\u001b[1;32m      4\u001b[0m     test_images, test_features, test_masks,\n\u001b[1;32m      5\u001b[0m     n_epochs \u001b[38;5;241m=\u001b[39m \u001b[38;5;241m3\u001b[39m, device \u001b[38;5;241m=\u001b[39m \u001b[38;5;124m'\u001b[39m\u001b[38;5;124mmps\u001b[39m\u001b[38;5;124m'\u001b[39m\n\u001b[1;32m      6\u001b[0m )\n",
            "\u001b[0;31mModuleNotFoundError\u001b[0m: No module named 'cvtda.segmentation'"
          ]
        }
      ],
      "source": [
        "import cvtda.segmentation\n",
        "cvtda.segmentation.segment(\n",
        "    train_images, train_features, train_masks,\n",
        "    test_images, test_features, test_masks,\n",
        "    n_epochs = 3, device = 'mps'\n",
        ")"
      ]
    }
  ],
  "metadata": {
    "colab": {
      "provenance": []
    },
    "kernelspec": {
      "display_name": "Python 3",
      "name": "python3"
    },
    "language_info": {
      "codemirror_mode": {
        "name": "ipython",
        "version": 3
      },
      "file_extension": ".py",
      "mimetype": "text/x-python",
      "name": "python",
      "nbconvert_exporter": "python",
      "pygments_lexer": "ipython3",
      "version": "3.10.18"
    }
  },
  "nbformat": 4,
  "nbformat_minor": 0
}
