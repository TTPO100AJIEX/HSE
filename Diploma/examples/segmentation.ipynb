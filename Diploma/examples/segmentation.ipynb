{
  "cells": [
    {
      "cell_type": "code",
      "execution_count": 1,
      "metadata": {},
      "outputs": [],
      "source": [
        "import glob\n",
        "\n",
        "import numpy\n",
        "import torch\n",
        "import PIL.Image\n",
        "import torchvision.tv_tensors\n",
        "import torchvision.transforms.v2\n",
        "\n",
        "transforms = torchvision.transforms.v2.Compose([\n",
        "    torchvision.transforms.v2.CenterCrop((224, 224)),\n",
        "    torchvision.transforms.v2.Resize((64, 64)),\n",
        "    torchvision.transforms.v2.ToDtype(torch.float32, scale = True)\n",
        "])\n",
        "def transforms_wrapper(image, mask):\n",
        "    image = torchvision.tv_tensors.Image(image)\n",
        "    mask = torchvision.tv_tensors.Mask(mask)\n",
        "    return transforms(image, mask)\n",
        "\n",
        "def load_dataset(path):\n",
        "    images, masks = [], []\n",
        "    for filename in glob.glob(f\"{path}/image/*\"):\n",
        "        image, mask = transforms_wrapper(\n",
        "            PIL.Image.open(filename),\n",
        "            PIL.Image.open(filename.replace(\"image\", \"mask\").replace(\"jpg\", \"png\"))\n",
        "        )\n",
        "        images.append(image.permute((1, 2, 0)).numpy())\n",
        "        masks.append(mask.squeeze().numpy())\n",
        "    return numpy.array(images)[:75, :, :, 0], numpy.array(masks)[:75]\n",
        "\n",
        "train_images, train_masks = load_dataset(\"midv500p/train\")\n",
        "test_images, test_masks = load_dataset(\"midv500p/val\")"
      ]
    },
    {
      "cell_type": "code",
      "execution_count": 2,
      "metadata": {},
      "outputs": [
        {
          "name": "stdout",
          "output_type": "stream",
          "text": [
            "Calculating inverted images\n",
            "GreyscaleExtractor: processing seg_train/greyscale, do_fit = True\n",
            "Saving the result to ./seg_train/greyscale/diagrams.npy\n",
            "Applying Scaler to persistence diagrams.\n",
            "DiagramVectorizer: fitting complete\n"
          ]
        },
        {
          "name": "stderr",
          "output_type": "stream",
          "text": [
            "DiagramVectorizer: batch: 100%|██████████| 1/1 [00:00<00:00,  9.11it/s]"
          ]
        },
        {
          "name": "stdout",
          "output_type": "stream",
          "text": [
            "Saving the result to ./seg_train/greyscale/features.npy\n",
            "GreyscaleExtractor: processing seg_train/greyscale, do_fit = False\n",
            "Got the result from ./seg_train/greyscale/diagrams.npy\n",
            "Applying Scaler to persistence diagrams.\n",
            "Got the result from ./seg_train/greyscale/features.npy\n",
            "GreyscaleExtractor: processing seg_train/inverted_greyscale, do_fit = True\n"
          ]
        },
        {
          "name": "stderr",
          "output_type": "stream",
          "text": [
            "\n"
          ]
        },
        {
          "name": "stdout",
          "output_type": "stream",
          "text": [
            "Saving the result to ./seg_train/inverted_greyscale/diagrams.npy\n",
            "Applying Scaler to persistence diagrams.\n",
            "DiagramVectorizer: fitting complete\n"
          ]
        },
        {
          "name": "stderr",
          "output_type": "stream",
          "text": [
            "DiagramVectorizer: batch: 100%|██████████| 1/1 [00:00<00:00, 10.75it/s]"
          ]
        },
        {
          "name": "stdout",
          "output_type": "stream",
          "text": [
            "Saving the result to ./seg_train/inverted_greyscale/features.npy\n",
            "GreyscaleExtractor: processing seg_train/inverted_greyscale, do_fit = False\n",
            "Got the result from ./seg_train/inverted_greyscale/diagrams.npy\n",
            "Applying Scaler to persistence diagrams.\n",
            "Got the result from ./seg_train/inverted_greyscale/features.npy\n",
            "Fitting filtrations\n",
            "Fitting filtration 1/12: 4/HeightFiltrartion_-1_-1\n",
            "FiltrationExtractor: processing seg_train/filtrations/4/HeightFiltrartion_-1_-1, do_fit = True, filtration = HeightFiltration(direction=array([-1, -1]), n_jobs=1)\n"
          ]
        },
        {
          "name": "stderr",
          "output_type": "stream",
          "text": [
            "\n"
          ]
        },
        {
          "name": "stdout",
          "output_type": "stream",
          "text": [
            "Saving the result to ./seg_train/filtrations/4/HeightFiltrartion_-1_-1/diagrams.npy\n",
            "Applying Scaler to persistence diagrams.\n",
            "DiagramVectorizer: fitting complete\n"
          ]
        },
        {
          "name": "stderr",
          "output_type": "stream",
          "text": [
            "DiagramVectorizer: batch: 100%|██████████| 1/1 [00:00<00:00, 110.94it/s]"
          ]
        },
        {
          "name": "stdout",
          "output_type": "stream",
          "text": [
            "Saving the result to ./seg_train/filtrations/4/HeightFiltrartion_-1_-1/features.npy\n",
            "Fitting filtration 2/12: 4/HeightFiltrartion_-1_0\n",
            "FiltrationExtractor: processing seg_train/filtrations/4/HeightFiltrartion_-1_0, do_fit = True, filtration = HeightFiltration(direction=array([-1,  0]), n_jobs=1)\n"
          ]
        },
        {
          "name": "stderr",
          "output_type": "stream",
          "text": [
            "\n"
          ]
        },
        {
          "name": "stdout",
          "output_type": "stream",
          "text": [
            "Saving the result to ./seg_train/filtrations/4/HeightFiltrartion_-1_0/diagrams.npy\n",
            "Applying Scaler to persistence diagrams.\n",
            "DiagramVectorizer: fitting complete\n"
          ]
        },
        {
          "name": "stderr",
          "output_type": "stream",
          "text": [
            "DiagramVectorizer: batch: 100%|██████████| 1/1 [00:00<00:00, 88.18it/s]"
          ]
        },
        {
          "name": "stdout",
          "output_type": "stream",
          "text": [
            "Saving the result to ./seg_train/filtrations/4/HeightFiltrartion_-1_0/features.npy\n",
            "Fitting filtration 3/12: 4/HeightFiltrartion_-1_1\n",
            "FiltrationExtractor: processing seg_train/filtrations/4/HeightFiltrartion_-1_1, do_fit = True, filtration = HeightFiltration(direction=array([-1,  1]), n_jobs=1)\n"
          ]
        },
        {
          "name": "stderr",
          "output_type": "stream",
          "text": [
            "\n"
          ]
        },
        {
          "name": "stdout",
          "output_type": "stream",
          "text": [
            "Saving the result to ./seg_train/filtrations/4/HeightFiltrartion_-1_1/diagrams.npy\n",
            "Applying Scaler to persistence diagrams.\n",
            "DiagramVectorizer: fitting complete\n"
          ]
        },
        {
          "name": "stderr",
          "output_type": "stream",
          "text": [
            "DiagramVectorizer: batch: 100%|██████████| 1/1 [00:00<00:00, 111.11it/s]"
          ]
        },
        {
          "name": "stdout",
          "output_type": "stream",
          "text": [
            "Saving the result to ./seg_train/filtrations/4/HeightFiltrartion_-1_1/features.npy\n",
            "Fitting filtration 4/12: 4/HeightFiltrartion_0_-1\n",
            "FiltrationExtractor: processing seg_train/filtrations/4/HeightFiltrartion_0_-1, do_fit = True, filtration = HeightFiltration(direction=array([ 0, -1]), n_jobs=1)\n"
          ]
        },
        {
          "name": "stderr",
          "output_type": "stream",
          "text": [
            "\n"
          ]
        },
        {
          "name": "stdout",
          "output_type": "stream",
          "text": [
            "Saving the result to ./seg_train/filtrations/4/HeightFiltrartion_0_-1/diagrams.npy\n",
            "Applying Scaler to persistence diagrams.\n",
            "DiagramVectorizer: fitting complete\n"
          ]
        },
        {
          "name": "stderr",
          "output_type": "stream",
          "text": [
            "DiagramVectorizer: batch: 100%|██████████| 1/1 [00:00<00:00, 125.00it/s]"
          ]
        },
        {
          "name": "stdout",
          "output_type": "stream",
          "text": [
            "Saving the result to ./seg_train/filtrations/4/HeightFiltrartion_0_-1/features.npy\n",
            "Fitting filtration 5/12: 4/HeightFiltrartion_0_1\n",
            "FiltrationExtractor: processing seg_train/filtrations/4/HeightFiltrartion_0_1, do_fit = True, filtration = HeightFiltration(direction=array([0, 1]), n_jobs=1)\n"
          ]
        },
        {
          "name": "stderr",
          "output_type": "stream",
          "text": [
            "\n"
          ]
        },
        {
          "name": "stdout",
          "output_type": "stream",
          "text": [
            "Saving the result to ./seg_train/filtrations/4/HeightFiltrartion_0_1/diagrams.npy\n",
            "Applying Scaler to persistence diagrams.\n",
            "DiagramVectorizer: fitting complete\n"
          ]
        },
        {
          "name": "stderr",
          "output_type": "stream",
          "text": [
            "DiagramVectorizer: batch: 100%|██████████| 1/1 [00:00<00:00, 99.22it/s]"
          ]
        },
        {
          "name": "stdout",
          "output_type": "stream",
          "text": [
            "Saving the result to ./seg_train/filtrations/4/HeightFiltrartion_0_1/features.npy\n",
            "Fitting filtration 6/12: 4/HeightFiltrartion_1_-1\n",
            "FiltrationExtractor: processing seg_train/filtrations/4/HeightFiltrartion_1_-1, do_fit = True, filtration = HeightFiltration(direction=array([ 1, -1]), n_jobs=1)\n"
          ]
        },
        {
          "name": "stderr",
          "output_type": "stream",
          "text": [
            "\n"
          ]
        },
        {
          "name": "stdout",
          "output_type": "stream",
          "text": [
            "Saving the result to ./seg_train/filtrations/4/HeightFiltrartion_1_-1/diagrams.npy\n",
            "Applying Scaler to persistence diagrams.\n",
            "DiagramVectorizer: fitting complete\n"
          ]
        },
        {
          "name": "stderr",
          "output_type": "stream",
          "text": [
            "DiagramVectorizer: batch: 100%|██████████| 1/1 [00:00<00:00, 111.17it/s]"
          ]
        },
        {
          "name": "stdout",
          "output_type": "stream",
          "text": [
            "Saving the result to ./seg_train/filtrations/4/HeightFiltrartion_1_-1/features.npy\n",
            "Fitting filtration 7/12: 4/HeightFiltrartion_1_0\n",
            "FiltrationExtractor: processing seg_train/filtrations/4/HeightFiltrartion_1_0, do_fit = True, filtration = HeightFiltration(direction=array([1, 0]), n_jobs=1)\n"
          ]
        },
        {
          "name": "stderr",
          "output_type": "stream",
          "text": [
            "\n"
          ]
        },
        {
          "name": "stdout",
          "output_type": "stream",
          "text": [
            "Saving the result to ./seg_train/filtrations/4/HeightFiltrartion_1_0/diagrams.npy\n",
            "Applying Scaler to persistence diagrams.\n",
            "DiagramVectorizer: fitting complete\n"
          ]
        },
        {
          "name": "stderr",
          "output_type": "stream",
          "text": [
            "DiagramVectorizer: batch: 100%|██████████| 1/1 [00:00<00:00, 124.96it/s]"
          ]
        },
        {
          "name": "stdout",
          "output_type": "stream",
          "text": [
            "Saving the result to ./seg_train/filtrations/4/HeightFiltrartion_1_0/features.npy\n",
            "Fitting filtration 8/12: 4/HeightFiltrartion_1_1\n",
            "FiltrationExtractor: processing seg_train/filtrations/4/HeightFiltrartion_1_1, do_fit = True, filtration = HeightFiltration(direction=array([1, 1]), n_jobs=1)\n"
          ]
        },
        {
          "name": "stderr",
          "output_type": "stream",
          "text": [
            "\n"
          ]
        },
        {
          "name": "stdout",
          "output_type": "stream",
          "text": [
            "Saving the result to ./seg_train/filtrations/4/HeightFiltrartion_1_1/diagrams.npy\n",
            "Applying Scaler to persistence diagrams.\n",
            "DiagramVectorizer: fitting complete\n"
          ]
        },
        {
          "name": "stderr",
          "output_type": "stream",
          "text": [
            "DiagramVectorizer: batch: 100%|██████████| 1/1 [00:00<00:00, 111.11it/s]"
          ]
        },
        {
          "name": "stdout",
          "output_type": "stream",
          "text": [
            "Saving the result to ./seg_train/filtrations/4/HeightFiltrartion_1_1/features.npy\n",
            "Fitting filtration 9/12: 4/RadialFiltration_20_20\n",
            "FiltrationExtractor: processing seg_train/filtrations/4/RadialFiltration_20_20, do_fit = True, filtration = RadialFiltration(center=array([20, 20]), n_jobs=1)\n"
          ]
        },
        {
          "name": "stderr",
          "output_type": "stream",
          "text": [
            "\n"
          ]
        },
        {
          "name": "stdout",
          "output_type": "stream",
          "text": [
            "Saving the result to ./seg_train/filtrations/4/RadialFiltration_20_20/diagrams.npy\n",
            "Applying Scaler to persistence diagrams.\n",
            "DiagramVectorizer: fitting complete\n"
          ]
        },
        {
          "name": "stderr",
          "output_type": "stream",
          "text": [
            "DiagramVectorizer: batch: 100%|██████████| 1/1 [00:00<00:00, 99.98it/s]"
          ]
        },
        {
          "name": "stdout",
          "output_type": "stream",
          "text": [
            "Saving the result to ./seg_train/filtrations/4/RadialFiltration_20_20/features.npy\n",
            "Fitting filtration 10/12: 4/RadialFiltration_20_43\n",
            "FiltrationExtractor: processing seg_train/filtrations/4/RadialFiltration_20_43, do_fit = True, filtration = RadialFiltration(center=array([20, 43]), n_jobs=1)\n"
          ]
        },
        {
          "name": "stderr",
          "output_type": "stream",
          "text": [
            "\n"
          ]
        },
        {
          "name": "stdout",
          "output_type": "stream",
          "text": [
            "Saving the result to ./seg_train/filtrations/4/RadialFiltration_20_43/diagrams.npy\n",
            "Applying Scaler to persistence diagrams.\n",
            "DiagramVectorizer: fitting complete\n"
          ]
        },
        {
          "name": "stderr",
          "output_type": "stream",
          "text": [
            "DiagramVectorizer: batch: 100%|██████████| 1/1 [00:00<00:00, 100.01it/s]"
          ]
        },
        {
          "name": "stdout",
          "output_type": "stream",
          "text": [
            "Saving the result to ./seg_train/filtrations/4/RadialFiltration_20_43/features.npy\n",
            "Fitting filtration 11/12: 4/RadialFiltration_43_20\n",
            "FiltrationExtractor: processing seg_train/filtrations/4/RadialFiltration_43_20, do_fit = True, filtration = RadialFiltration(center=array([43, 20]), n_jobs=1)\n"
          ]
        },
        {
          "name": "stderr",
          "output_type": "stream",
          "text": [
            "\n"
          ]
        },
        {
          "name": "stdout",
          "output_type": "stream",
          "text": [
            "Saving the result to ./seg_train/filtrations/4/RadialFiltration_43_20/diagrams.npy\n",
            "Applying Scaler to persistence diagrams.\n",
            "DiagramVectorizer: fitting complete\n"
          ]
        },
        {
          "name": "stderr",
          "output_type": "stream",
          "text": [
            "DiagramVectorizer: batch: 100%|██████████| 1/1 [00:00<00:00, 100.01it/s]"
          ]
        },
        {
          "name": "stdout",
          "output_type": "stream",
          "text": [
            "Saving the result to ./seg_train/filtrations/4/RadialFiltration_43_20/features.npy\n",
            "Fitting filtration 12/12: 4/RadialFiltration_43_43\n",
            "FiltrationExtractor: processing seg_train/filtrations/4/RadialFiltration_43_43, do_fit = True, filtration = RadialFiltration(center=array([43, 43]), n_jobs=1)\n"
          ]
        },
        {
          "name": "stderr",
          "output_type": "stream",
          "text": [
            "\n"
          ]
        },
        {
          "name": "stdout",
          "output_type": "stream",
          "text": [
            "Saving the result to ./seg_train/filtrations/4/RadialFiltration_43_43/diagrams.npy\n",
            "Applying Scaler to persistence diagrams.\n",
            "DiagramVectorizer: fitting complete\n"
          ]
        },
        {
          "name": "stderr",
          "output_type": "stream",
          "text": [
            "DiagramVectorizer: batch: 100%|██████████| 1/1 [00:00<00:00, 100.00it/s]"
          ]
        },
        {
          "name": "stdout",
          "output_type": "stream",
          "text": [
            "Saving the result to ./seg_train/filtrations/4/RadialFiltration_43_43/features.npy\n",
            "Applying filtrations\n",
            "Applying filtration 1/12: 4/HeightFiltrartion_-1_-1\n",
            "FiltrationExtractor: processing seg_train/filtrations/4/HeightFiltrartion_-1_-1, do_fit = False, filtration = HeightFiltration(direction=array([-1, -1]), n_jobs=1)\n",
            "Got the result from ./seg_train/filtrations/4/HeightFiltrartion_-1_-1/diagrams.npy\n",
            "Applying Scaler to persistence diagrams.\n",
            "Got the result from ./seg_train/filtrations/4/HeightFiltrartion_-1_-1/features.npy\n",
            "Applying filtration 2/12: 4/HeightFiltrartion_-1_0\n",
            "FiltrationExtractor: processing seg_train/filtrations/4/HeightFiltrartion_-1_0, do_fit = False, filtration = HeightFiltration(direction=array([-1,  0]), n_jobs=1)\n",
            "Got the result from ./seg_train/filtrations/4/HeightFiltrartion_-1_0/diagrams.npy\n",
            "Applying Scaler to persistence diagrams.\n",
            "Got the result from ./seg_train/filtrations/4/HeightFiltrartion_-1_0/features.npy\n",
            "Applying filtration 3/12: 4/HeightFiltrartion_-1_1\n",
            "FiltrationExtractor: processing seg_train/filtrations/4/HeightFiltrartion_-1_1, do_fit = False, filtration = HeightFiltration(direction=array([-1,  1]), n_jobs=1)\n",
            "Got the result from ./seg_train/filtrations/4/HeightFiltrartion_-1_1/diagrams.npy\n",
            "Applying Scaler to persistence diagrams.\n",
            "Got the result from ./seg_train/filtrations/4/HeightFiltrartion_-1_1/features.npy\n",
            "Applying filtration 4/12: 4/HeightFiltrartion_0_-1\n",
            "FiltrationExtractor: processing seg_train/filtrations/4/HeightFiltrartion_0_-1, do_fit = False, filtration = HeightFiltration(direction=array([ 0, -1]), n_jobs=1)\n",
            "Got the result from ./seg_train/filtrations/4/HeightFiltrartion_0_-1/diagrams.npy\n",
            "Applying Scaler to persistence diagrams.\n",
            "Got the result from ./seg_train/filtrations/4/HeightFiltrartion_0_-1/features.npy\n",
            "Applying filtration 5/12: 4/HeightFiltrartion_0_1\n",
            "FiltrationExtractor: processing seg_train/filtrations/4/HeightFiltrartion_0_1, do_fit = False, filtration = HeightFiltration(direction=array([0, 1]), n_jobs=1)\n",
            "Got the result from ./seg_train/filtrations/4/HeightFiltrartion_0_1/diagrams.npy\n",
            "Applying Scaler to persistence diagrams.\n",
            "Got the result from ./seg_train/filtrations/4/HeightFiltrartion_0_1/features.npy\n",
            "Applying filtration 6/12: 4/HeightFiltrartion_1_-1\n",
            "FiltrationExtractor: processing seg_train/filtrations/4/HeightFiltrartion_1_-1, do_fit = False, filtration = HeightFiltration(direction=array([ 1, -1]), n_jobs=1)\n",
            "Got the result from ./seg_train/filtrations/4/HeightFiltrartion_1_-1/diagrams.npy\n",
            "Applying Scaler to persistence diagrams.\n",
            "Got the result from ./seg_train/filtrations/4/HeightFiltrartion_1_-1/features.npy\n",
            "Applying filtration 7/12: 4/HeightFiltrartion_1_0\n",
            "FiltrationExtractor: processing seg_train/filtrations/4/HeightFiltrartion_1_0, do_fit = False, filtration = HeightFiltration(direction=array([1, 0]), n_jobs=1)\n",
            "Got the result from ./seg_train/filtrations/4/HeightFiltrartion_1_0/diagrams.npy\n",
            "Applying Scaler to persistence diagrams.\n",
            "Got the result from ./seg_train/filtrations/4/HeightFiltrartion_1_0/features.npy\n",
            "Applying filtration 8/12: 4/HeightFiltrartion_1_1\n",
            "FiltrationExtractor: processing seg_train/filtrations/4/HeightFiltrartion_1_1, do_fit = False, filtration = HeightFiltration(direction=array([1, 1]), n_jobs=1)\n",
            "Got the result from ./seg_train/filtrations/4/HeightFiltrartion_1_1/diagrams.npy\n",
            "Applying Scaler to persistence diagrams.\n",
            "Got the result from ./seg_train/filtrations/4/HeightFiltrartion_1_1/features.npy\n",
            "Applying filtration 9/12: 4/RadialFiltration_20_20\n",
            "FiltrationExtractor: processing seg_train/filtrations/4/RadialFiltration_20_20, do_fit = False, filtration = RadialFiltration(center=array([20, 20]), n_jobs=1)\n",
            "Got the result from ./seg_train/filtrations/4/RadialFiltration_20_20/diagrams.npy\n"
          ]
        },
        {
          "name": "stderr",
          "output_type": "stream",
          "text": [
            "\n"
          ]
        },
        {
          "name": "stdout",
          "output_type": "stream",
          "text": [
            "Applying Scaler to persistence diagrams.\n",
            "Got the result from ./seg_train/filtrations/4/RadialFiltration_20_20/features.npy\n",
            "Applying filtration 10/12: 4/RadialFiltration_20_43\n",
            "FiltrationExtractor: processing seg_train/filtrations/4/RadialFiltration_20_43, do_fit = False, filtration = RadialFiltration(center=array([20, 43]), n_jobs=1)\n",
            "Got the result from ./seg_train/filtrations/4/RadialFiltration_20_43/diagrams.npy\n",
            "Applying Scaler to persistence diagrams.\n",
            "Got the result from ./seg_train/filtrations/4/RadialFiltration_20_43/features.npy\n",
            "Applying filtration 11/12: 4/RadialFiltration_43_20\n",
            "FiltrationExtractor: processing seg_train/filtrations/4/RadialFiltration_43_20, do_fit = False, filtration = RadialFiltration(center=array([43, 20]), n_jobs=1)\n",
            "Got the result from ./seg_train/filtrations/4/RadialFiltration_43_20/diagrams.npy\n",
            "Applying Scaler to persistence diagrams.\n",
            "Got the result from ./seg_train/filtrations/4/RadialFiltration_43_20/features.npy\n",
            "Applying filtration 12/12: 4/RadialFiltration_43_43\n",
            "FiltrationExtractor: processing seg_train/filtrations/4/RadialFiltration_43_43, do_fit = False, filtration = RadialFiltration(center=array([43, 43]), n_jobs=1)\n",
            "Got the result from ./seg_train/filtrations/4/RadialFiltration_43_43/diagrams.npy\n",
            "Applying Scaler to persistence diagrams.\n",
            "Got the result from ./seg_train/filtrations/4/RadialFiltration_43_43/features.npy\n"
          ]
        },
        {
          "name": "stderr",
          "output_type": "stream",
          "text": [
            "GrayGeometryExtractor: 100%|██████████| 75/75 [00:07<00:00, 10.08it/s]\n"
          ]
        },
        {
          "name": "stdout",
          "output_type": "stream",
          "text": [
            "Saving the result to ./seg_train/geometry/features.npy\n",
            "Got the result from ./seg_train/geometry/features.npy\n",
            "Applying StandardScaler.\n",
            "Calculating inverted images\n",
            "GreyscaleExtractor: processing seg_train/greyscale, do_fit = False\n",
            "Got the result from ./seg_train/greyscale/diagrams.npy\n",
            "Applying Scaler to persistence diagrams.\n",
            "Got the result from ./seg_train/greyscale/features.npy\n",
            "GreyscaleExtractor: processing seg_train/inverted_greyscale, do_fit = False\n",
            "Got the result from ./seg_train/inverted_greyscale/diagrams.npy\n",
            "Applying Scaler to persistence diagrams.\n",
            "Got the result from ./seg_train/inverted_greyscale/features.npy\n",
            "Applying filtrations\n",
            "Applying filtration 1/12: 4/HeightFiltrartion_-1_-1\n",
            "FiltrationExtractor: processing seg_train/filtrations/4/HeightFiltrartion_-1_-1, do_fit = False, filtration = HeightFiltration(direction=array([-1, -1]), n_jobs=1)\n",
            "Got the result from ./seg_train/filtrations/4/HeightFiltrartion_-1_-1/diagrams.npy\n",
            "Applying Scaler to persistence diagrams.\n",
            "Got the result from ./seg_train/filtrations/4/HeightFiltrartion_-1_-1/features.npy\n",
            "Applying filtration 2/12: 4/HeightFiltrartion_-1_0\n",
            "FiltrationExtractor: processing seg_train/filtrations/4/HeightFiltrartion_-1_0, do_fit = False, filtration = HeightFiltration(direction=array([-1,  0]), n_jobs=1)\n",
            "Got the result from ./seg_train/filtrations/4/HeightFiltrartion_-1_0/diagrams.npy\n",
            "Applying Scaler to persistence diagrams.\n",
            "Got the result from ./seg_train/filtrations/4/HeightFiltrartion_-1_0/features.npy\n",
            "Applying filtration 3/12: 4/HeightFiltrartion_-1_1\n",
            "FiltrationExtractor: processing seg_train/filtrations/4/HeightFiltrartion_-1_1, do_fit = False, filtration = HeightFiltration(direction=array([-1,  1]), n_jobs=1)\n",
            "Got the result from ./seg_train/filtrations/4/HeightFiltrartion_-1_1/diagrams.npy\n",
            "Applying Scaler to persistence diagrams.\n",
            "Got the result from ./seg_train/filtrations/4/HeightFiltrartion_-1_1/features.npy\n",
            "Applying filtration 4/12: 4/HeightFiltrartion_0_-1\n",
            "FiltrationExtractor: processing seg_train/filtrations/4/HeightFiltrartion_0_-1, do_fit = False, filtration = HeightFiltration(direction=array([ 0, -1]), n_jobs=1)\n",
            "Got the result from ./seg_train/filtrations/4/HeightFiltrartion_0_-1/diagrams.npy\n",
            "Applying Scaler to persistence diagrams.\n",
            "Got the result from ./seg_train/filtrations/4/HeightFiltrartion_0_-1/features.npy\n",
            "Applying filtration 5/12: 4/HeightFiltrartion_0_1\n",
            "FiltrationExtractor: processing seg_train/filtrations/4/HeightFiltrartion_0_1, do_fit = False, filtration = HeightFiltration(direction=array([0, 1]), n_jobs=1)\n",
            "Got the result from ./seg_train/filtrations/4/HeightFiltrartion_0_1/diagrams.npy\n",
            "Applying Scaler to persistence diagrams.\n",
            "Got the result from ./seg_train/filtrations/4/HeightFiltrartion_0_1/features.npy\n",
            "Applying filtration 6/12: 4/HeightFiltrartion_1_-1\n",
            "FiltrationExtractor: processing seg_train/filtrations/4/HeightFiltrartion_1_-1, do_fit = False, filtration = HeightFiltration(direction=array([ 1, -1]), n_jobs=1)\n",
            "Got the result from ./seg_train/filtrations/4/HeightFiltrartion_1_-1/diagrams.npy\n",
            "Applying Scaler to persistence diagrams.\n",
            "Got the result from ./seg_train/filtrations/4/HeightFiltrartion_1_-1/features.npy\n",
            "Applying filtration 7/12: 4/HeightFiltrartion_1_0\n",
            "FiltrationExtractor: processing seg_train/filtrations/4/HeightFiltrartion_1_0, do_fit = False, filtration = HeightFiltration(direction=array([1, 0]), n_jobs=1)\n",
            "Got the result from ./seg_train/filtrations/4/HeightFiltrartion_1_0/diagrams.npy\n",
            "Applying Scaler to persistence diagrams.\n",
            "Got the result from ./seg_train/filtrations/4/HeightFiltrartion_1_0/features.npy\n",
            "Applying filtration 8/12: 4/HeightFiltrartion_1_1\n",
            "FiltrationExtractor: processing seg_train/filtrations/4/HeightFiltrartion_1_1, do_fit = False, filtration = HeightFiltration(direction=array([1, 1]), n_jobs=1)\n",
            "Got the result from ./seg_train/filtrations/4/HeightFiltrartion_1_1/diagrams.npy\n",
            "Applying Scaler to persistence diagrams.\n",
            "Got the result from ./seg_train/filtrations/4/HeightFiltrartion_1_1/features.npy\n",
            "Applying filtration 9/12: 4/RadialFiltration_20_20\n",
            "FiltrationExtractor: processing seg_train/filtrations/4/RadialFiltration_20_20, do_fit = False, filtration = RadialFiltration(center=array([20, 20]), n_jobs=1)\n",
            "Got the result from ./seg_train/filtrations/4/RadialFiltration_20_20/diagrams.npy\n",
            "Applying Scaler to persistence diagrams.\n",
            "Got the result from ./seg_train/filtrations/4/RadialFiltration_20_20/features.npy\n",
            "Applying filtration 10/12: 4/RadialFiltration_20_43\n",
            "FiltrationExtractor: processing seg_train/filtrations/4/RadialFiltration_20_43, do_fit = False, filtration = RadialFiltration(center=array([20, 43]), n_jobs=1)\n",
            "Got the result from ./seg_train/filtrations/4/RadialFiltration_20_43/diagrams.npy\n",
            "Applying Scaler to persistence diagrams.\n",
            "Got the result from ./seg_train/filtrations/4/RadialFiltration_20_43/features.npy\n",
            "Applying filtration 11/12: 4/RadialFiltration_43_20\n",
            "FiltrationExtractor: processing seg_train/filtrations/4/RadialFiltration_43_20, do_fit = False, filtration = RadialFiltration(center=array([43, 20]), n_jobs=1)\n",
            "Got the result from ./seg_train/filtrations/4/RadialFiltration_43_20/diagrams.npy\n",
            "Applying Scaler to persistence diagrams.\n",
            "Got the result from ./seg_train/filtrations/4/RadialFiltration_43_20/features.npy\n",
            "Applying filtration 12/12: 4/RadialFiltration_43_43\n",
            "FiltrationExtractor: processing seg_train/filtrations/4/RadialFiltration_43_43, do_fit = False, filtration = RadialFiltration(center=array([43, 43]), n_jobs=1)\n",
            "Got the result from ./seg_train/filtrations/4/RadialFiltration_43_43/diagrams.npy\n",
            "Applying Scaler to persistence diagrams.\n",
            "Got the result from ./seg_train/filtrations/4/RadialFiltration_43_43/features.npy\n",
            "Got the result from ./seg_train/geometry/features.npy\n",
            "Applying StandardScaler.\n",
            "Calculating inverted images\n",
            "GreyscaleExtractor: processing seg_test/greyscale, do_fit = False\n",
            "Saving the result to ./seg_test/greyscale/diagrams.npy\n",
            "Applying Scaler to persistence diagrams.\n"
          ]
        },
        {
          "name": "stderr",
          "output_type": "stream",
          "text": [
            "DiagramVectorizer: batch: 100%|██████████| 1/1 [00:00<00:00, 11.69it/s]"
          ]
        },
        {
          "name": "stdout",
          "output_type": "stream",
          "text": [
            "Saving the result to ./seg_test/greyscale/features.npy\n",
            "GreyscaleExtractor: processing seg_test/inverted_greyscale, do_fit = False\n"
          ]
        },
        {
          "name": "stderr",
          "output_type": "stream",
          "text": [
            "\n"
          ]
        },
        {
          "name": "stdout",
          "output_type": "stream",
          "text": [
            "Saving the result to ./seg_test/inverted_greyscale/diagrams.npy\n",
            "Applying Scaler to persistence diagrams.\n"
          ]
        },
        {
          "name": "stderr",
          "output_type": "stream",
          "text": [
            "DiagramVectorizer: batch: 100%|██████████| 1/1 [00:00<00:00, 12.85it/s]"
          ]
        },
        {
          "name": "stdout",
          "output_type": "stream",
          "text": [
            "Saving the result to ./seg_test/inverted_greyscale/features.npy\n",
            "Applying filtrations\n",
            "Applying filtration 1/12: 4/HeightFiltrartion_-1_-1\n",
            "FiltrationExtractor: processing seg_test/filtrations/4/HeightFiltrartion_-1_-1, do_fit = False, filtration = HeightFiltration(direction=array([-1, -1]), n_jobs=1)\n"
          ]
        },
        {
          "name": "stderr",
          "output_type": "stream",
          "text": [
            "\n"
          ]
        },
        {
          "name": "stdout",
          "output_type": "stream",
          "text": [
            "Saving the result to ./seg_test/filtrations/4/HeightFiltrartion_-1_-1/diagrams.npy\n",
            "Applying Scaler to persistence diagrams.\n"
          ]
        },
        {
          "name": "stderr",
          "output_type": "stream",
          "text": [
            "DiagramVectorizer: batch: 100%|██████████| 1/1 [00:00<00:00, 62.50it/s]"
          ]
        },
        {
          "name": "stdout",
          "output_type": "stream",
          "text": [
            "Saving the result to ./seg_test/filtrations/4/HeightFiltrartion_-1_-1/features.npy\n",
            "Applying filtration 2/12: 4/HeightFiltrartion_-1_0\n",
            "FiltrationExtractor: processing seg_test/filtrations/4/HeightFiltrartion_-1_0, do_fit = False, filtration = HeightFiltration(direction=array([-1,  0]), n_jobs=1)\n"
          ]
        },
        {
          "name": "stderr",
          "output_type": "stream",
          "text": [
            "\n"
          ]
        },
        {
          "name": "stdout",
          "output_type": "stream",
          "text": [
            "Saving the result to ./seg_test/filtrations/4/HeightFiltrartion_-1_0/diagrams.npy\n",
            "Applying Scaler to persistence diagrams.\n"
          ]
        },
        {
          "name": "stderr",
          "output_type": "stream",
          "text": [
            "DiagramVectorizer: batch: 100%|██████████| 1/1 [00:00<00:00, 66.67it/s]"
          ]
        },
        {
          "name": "stdout",
          "output_type": "stream",
          "text": [
            "Saving the result to ./seg_test/filtrations/4/HeightFiltrartion_-1_0/features.npy\n",
            "Applying filtration 3/12: 4/HeightFiltrartion_-1_1\n",
            "FiltrationExtractor: processing seg_test/filtrations/4/HeightFiltrartion_-1_1, do_fit = False, filtration = HeightFiltration(direction=array([-1,  1]), n_jobs=1)\n"
          ]
        },
        {
          "name": "stderr",
          "output_type": "stream",
          "text": [
            "\n"
          ]
        },
        {
          "name": "stdout",
          "output_type": "stream",
          "text": [
            "Saving the result to ./seg_test/filtrations/4/HeightFiltrartion_-1_1/diagrams.npy\n",
            "Applying Scaler to persistence diagrams.\n"
          ]
        },
        {
          "name": "stderr",
          "output_type": "stream",
          "text": [
            "DiagramVectorizer: batch: 100%|██████████| 1/1 [00:00<00:00, 71.42it/s]"
          ]
        },
        {
          "name": "stdout",
          "output_type": "stream",
          "text": [
            "Saving the result to ./seg_test/filtrations/4/HeightFiltrartion_-1_1/features.npy\n",
            "Applying filtration 4/12: 4/HeightFiltrartion_0_-1\n",
            "FiltrationExtractor: processing seg_test/filtrations/4/HeightFiltrartion_0_-1, do_fit = False, filtration = HeightFiltration(direction=array([ 0, -1]), n_jobs=1)\n"
          ]
        },
        {
          "name": "stderr",
          "output_type": "stream",
          "text": [
            "\n"
          ]
        },
        {
          "name": "stdout",
          "output_type": "stream",
          "text": [
            "Saving the result to ./seg_test/filtrations/4/HeightFiltrartion_0_-1/diagrams.npy\n",
            "Applying Scaler to persistence diagrams.\n"
          ]
        },
        {
          "name": "stderr",
          "output_type": "stream",
          "text": [
            "DiagramVectorizer: batch: 100%|██████████| 1/1 [00:00<00:00, 71.43it/s]"
          ]
        },
        {
          "name": "stdout",
          "output_type": "stream",
          "text": [
            "Saving the result to ./seg_test/filtrations/4/HeightFiltrartion_0_-1/features.npy\n",
            "Applying filtration 5/12: 4/HeightFiltrartion_0_1\n",
            "FiltrationExtractor: processing seg_test/filtrations/4/HeightFiltrartion_0_1, do_fit = False, filtration = HeightFiltration(direction=array([0, 1]), n_jobs=1)\n"
          ]
        },
        {
          "name": "stderr",
          "output_type": "stream",
          "text": [
            "\n"
          ]
        },
        {
          "name": "stdout",
          "output_type": "stream",
          "text": [
            "Saving the result to ./seg_test/filtrations/4/HeightFiltrartion_0_1/diagrams.npy\n",
            "Applying Scaler to persistence diagrams.\n"
          ]
        },
        {
          "name": "stderr",
          "output_type": "stream",
          "text": [
            "DiagramVectorizer: batch: 100%|██████████| 1/1 [00:00<00:00, 66.67it/s]"
          ]
        },
        {
          "name": "stdout",
          "output_type": "stream",
          "text": [
            "Saving the result to ./seg_test/filtrations/4/HeightFiltrartion_0_1/features.npy\n",
            "Applying filtration 6/12: 4/HeightFiltrartion_1_-1\n",
            "FiltrationExtractor: processing seg_test/filtrations/4/HeightFiltrartion_1_-1, do_fit = False, filtration = HeightFiltration(direction=array([ 1, -1]), n_jobs=1)\n"
          ]
        },
        {
          "name": "stderr",
          "output_type": "stream",
          "text": [
            "\n"
          ]
        },
        {
          "name": "stdout",
          "output_type": "stream",
          "text": [
            "Saving the result to ./seg_test/filtrations/4/HeightFiltrartion_1_-1/diagrams.npy\n",
            "Applying Scaler to persistence diagrams.\n"
          ]
        },
        {
          "name": "stderr",
          "output_type": "stream",
          "text": [
            "DiagramVectorizer: batch: 100%|██████████| 1/1 [00:00<00:00, 62.50it/s]"
          ]
        },
        {
          "name": "stdout",
          "output_type": "stream",
          "text": [
            "Saving the result to ./seg_test/filtrations/4/HeightFiltrartion_1_-1/features.npy\n",
            "Applying filtration 7/12: 4/HeightFiltrartion_1_0\n",
            "FiltrationExtractor: processing seg_test/filtrations/4/HeightFiltrartion_1_0, do_fit = False, filtration = HeightFiltration(direction=array([1, 0]), n_jobs=1)\n"
          ]
        },
        {
          "name": "stderr",
          "output_type": "stream",
          "text": [
            "\n"
          ]
        },
        {
          "name": "stdout",
          "output_type": "stream",
          "text": [
            "Saving the result to ./seg_test/filtrations/4/HeightFiltrartion_1_0/diagrams.npy\n",
            "Applying Scaler to persistence diagrams.\n"
          ]
        },
        {
          "name": "stderr",
          "output_type": "stream",
          "text": [
            "DiagramVectorizer: batch: 100%|██████████| 1/1 [00:00<00:00, 64.51it/s]"
          ]
        },
        {
          "name": "stdout",
          "output_type": "stream",
          "text": [
            "Saving the result to ./seg_test/filtrations/4/HeightFiltrartion_1_0/features.npy\n",
            "Applying filtration 8/12: 4/HeightFiltrartion_1_1\n",
            "FiltrationExtractor: processing seg_test/filtrations/4/HeightFiltrartion_1_1, do_fit = False, filtration = HeightFiltration(direction=array([1, 1]), n_jobs=1)\n"
          ]
        },
        {
          "name": "stderr",
          "output_type": "stream",
          "text": [
            "\n"
          ]
        },
        {
          "name": "stdout",
          "output_type": "stream",
          "text": [
            "Saving the result to ./seg_test/filtrations/4/HeightFiltrartion_1_1/diagrams.npy\n",
            "Applying Scaler to persistence diagrams.\n"
          ]
        },
        {
          "name": "stderr",
          "output_type": "stream",
          "text": [
            "DiagramVectorizer: batch: 100%|██████████| 1/1 [00:00<00:00, 62.50it/s]"
          ]
        },
        {
          "name": "stdout",
          "output_type": "stream",
          "text": [
            "Saving the result to ./seg_test/filtrations/4/HeightFiltrartion_1_1/features.npy\n",
            "Applying filtration 9/12: 4/RadialFiltration_20_20\n",
            "FiltrationExtractor: processing seg_test/filtrations/4/RadialFiltration_20_20, do_fit = False, filtration = RadialFiltration(center=array([20, 20]), n_jobs=1)\n"
          ]
        },
        {
          "name": "stderr",
          "output_type": "stream",
          "text": [
            "\n"
          ]
        },
        {
          "name": "stdout",
          "output_type": "stream",
          "text": [
            "Saving the result to ./seg_test/filtrations/4/RadialFiltration_20_20/diagrams.npy\n",
            "Applying Scaler to persistence diagrams.\n"
          ]
        },
        {
          "name": "stderr",
          "output_type": "stream",
          "text": [
            "DiagramVectorizer: batch: 100%|██████████| 1/1 [00:00<00:00, 53.91it/s]"
          ]
        },
        {
          "name": "stdout",
          "output_type": "stream",
          "text": [
            "Saving the result to ./seg_test/filtrations/4/RadialFiltration_20_20/features.npy\n",
            "Applying filtration 10/12: 4/RadialFiltration_20_43\n",
            "FiltrationExtractor: processing seg_test/filtrations/4/RadialFiltration_20_43, do_fit = False, filtration = RadialFiltration(center=array([20, 43]), n_jobs=1)\n"
          ]
        },
        {
          "name": "stderr",
          "output_type": "stream",
          "text": [
            "\n"
          ]
        },
        {
          "name": "stdout",
          "output_type": "stream",
          "text": [
            "Saving the result to ./seg_test/filtrations/4/RadialFiltration_20_43/diagrams.npy\n",
            "Applying Scaler to persistence diagrams.\n"
          ]
        },
        {
          "name": "stderr",
          "output_type": "stream",
          "text": [
            "DiagramVectorizer: batch: 100%|██████████| 1/1 [00:00<00:00, 40.00it/s]"
          ]
        },
        {
          "name": "stdout",
          "output_type": "stream",
          "text": [
            "Saving the result to ./seg_test/filtrations/4/RadialFiltration_20_43/features.npy\n",
            "Applying filtration 11/12: 4/RadialFiltration_43_20\n",
            "FiltrationExtractor: processing seg_test/filtrations/4/RadialFiltration_43_20, do_fit = False, filtration = RadialFiltration(center=array([43, 20]), n_jobs=1)\n"
          ]
        },
        {
          "name": "stderr",
          "output_type": "stream",
          "text": [
            "\n"
          ]
        },
        {
          "name": "stdout",
          "output_type": "stream",
          "text": [
            "Saving the result to ./seg_test/filtrations/4/RadialFiltration_43_20/diagrams.npy\n",
            "Applying Scaler to persistence diagrams.\n"
          ]
        },
        {
          "name": "stderr",
          "output_type": "stream",
          "text": [
            "DiagramVectorizer: batch: 100%|██████████| 1/1 [00:00<00:00, 66.67it/s]"
          ]
        },
        {
          "name": "stdout",
          "output_type": "stream",
          "text": [
            "Saving the result to ./seg_test/filtrations/4/RadialFiltration_43_20/features.npy\n",
            "Applying filtration 12/12: 4/RadialFiltration_43_43\n",
            "FiltrationExtractor: processing seg_test/filtrations/4/RadialFiltration_43_43, do_fit = False, filtration = RadialFiltration(center=array([43, 43]), n_jobs=1)\n"
          ]
        },
        {
          "name": "stderr",
          "output_type": "stream",
          "text": [
            "\n"
          ]
        },
        {
          "name": "stdout",
          "output_type": "stream",
          "text": [
            "Saving the result to ./seg_test/filtrations/4/RadialFiltration_43_43/diagrams.npy\n",
            "Applying Scaler to persistence diagrams.\n"
          ]
        },
        {
          "name": "stderr",
          "output_type": "stream",
          "text": [
            "DiagramVectorizer: batch: 100%|██████████| 1/1 [00:00<00:00, 42.54it/s]\n"
          ]
        },
        {
          "name": "stdout",
          "output_type": "stream",
          "text": [
            "Saving the result to ./seg_test/filtrations/4/RadialFiltration_43_43/features.npy\n"
          ]
        },
        {
          "name": "stderr",
          "output_type": "stream",
          "text": [
            "GrayGeometryExtractor: 100%|██████████| 62/62 [00:06<00:00,  9.80it/s]"
          ]
        },
        {
          "name": "stdout",
          "output_type": "stream",
          "text": [
            "Saving the result to ./seg_test/geometry/features.npy\n",
            "Applying StandardScaler.\n"
          ]
        },
        {
          "name": "stderr",
          "output_type": "stream",
          "text": [
            "\n"
          ]
        }
      ],
      "source": [
        "import cvtda.topology\n",
        "extractor = cvtda.topology.FeatureExtractor(\n",
        "    n_jobs = 1,\n",
        "    binarizer_thresholds = [ 0.4 ],\n",
        "    num_radial_filtrations = 2\n",
        ")\n",
        "train_features = extractor.fit_transform(train_images, \"seg_train\")\n",
        "test_features = extractor.transform(test_images, \"seg_test\")"
      ]
    },
    {
      "cell_type": "code",
      "execution_count": 3,
      "metadata": {},
      "outputs": [
        {
          "name": "stdout",
          "output_type": "stream",
          "text": [
            "Trying no - <cvtda.segmentation.MiniUnet.MiniUnet object at 0x000002CC8E0B1B10>\n",
            "Parameters: 26435305\n"
          ]
        },
        {
          "name": "stderr",
          "output_type": "stream",
          "text": [
            "100%|██████████| 3/3 [00:00<00:00,  3.67it/s, loss=2.64, lr=1e-5, Accuracy=0.562, AUC-ROC=0.662, Precision=0, Recall=0, F1-score=0, Jaccard score=0]  \n"
          ]
        },
        {
          "name": "stdout",
          "output_type": "stream",
          "text": [
            "{'model': 'Без признаков', 'Accuracy': 0.5620865360383065, 'AUC-ROC': 0.6616421770884784, 'Precision': 0.0, 'Recall': 0.0, 'F1-score': 0.0, 'Jaccard score': 0.0}\n",
            "Trying images - <cvtda.segmentation.MiniUnet.MiniUnet object at 0x000002CC8E0B1C30>\n",
            "Parameters: 26435305\n"
          ]
        },
        {
          "name": "stderr",
          "output_type": "stream",
          "text": [
            "100%|██████████| 3/3 [00:00<00:00,  4.38it/s, loss=2.64, lr=1e-5, Accuracy=0.562, AUC-ROC=0.662, Precision=0, Recall=0, F1-score=0, Jaccard score=0]  \n"
          ]
        },
        {
          "name": "stdout",
          "output_type": "stream",
          "text": [
            "{'model': 'Без топологических признаков', 'Accuracy': 0.5620865360383065, 'AUC-ROC': 0.6616088111265003, 'Precision': 0.0, 'Recall': 0.0, 'F1-score': 0.0, 'Jaccard score': 0.0}\n",
            "Trying topological - <cvtda.segmentation.MiniUnet.MiniUnet object at 0x000002CC8E0B2050>\n",
            "Parameters: 26435305\n"
          ]
        },
        {
          "name": "stderr",
          "output_type": "stream",
          "text": [
            "100%|██████████| 3/3 [00:00<00:00,  4.01it/s, loss=2.64, lr=1e-5, Accuracy=0.562, AUC-ROC=0.661, Precision=0, Recall=0, F1-score=0, Jaccard score=0] \n"
          ]
        },
        {
          "name": "stdout",
          "output_type": "stream",
          "text": [
            "{'model': 'Только топологические признаки', 'Accuracy': 0.5620865360383065, 'AUC-ROC': 0.6611359397225922, 'Precision': 0.0, 'Recall': 0.0, 'F1-score': 0.0, 'Jaccard score': 0.0}\n",
            "Trying combined - <cvtda.segmentation.MiniUnet.MiniUnet object at 0x000002CC8E0B1C90>\n",
            "Parameters: 26509033\n"
          ]
        },
        {
          "name": "stderr",
          "output_type": "stream",
          "text": [
            "100%|██████████| 3/3 [00:00<00:00,  3.97it/s, loss=2.7, lr=1e-5, Accuracy=0.562, AUC-ROC=0.67, Precision=0, Recall=0, F1-score=0, Jaccard score=0]    \n"
          ]
        },
        {
          "name": "stdout",
          "output_type": "stream",
          "text": [
            "{'model': 'Комбинированные признаки', 'Accuracy': 0.5620865360383065, 'AUC-ROC': 0.6702702122935295, 'Precision': 0.0, 'Recall': 0.0, 'F1-score': 0.0, 'Jaccard score': 0.0}\n"
          ]
        },
        {
          "data": {
            "text/html": [
              "<div>\n",
              "<style scoped>\n",
              "    .dataframe tbody tr th:only-of-type {\n",
              "        vertical-align: middle;\n",
              "    }\n",
              "\n",
              "    .dataframe tbody tr th {\n",
              "        vertical-align: top;\n",
              "    }\n",
              "\n",
              "    .dataframe thead th {\n",
              "        text-align: right;\n",
              "    }\n",
              "</style>\n",
              "<table border=\"1\" class=\"dataframe\">\n",
              "  <thead>\n",
              "    <tr style=\"text-align: right;\">\n",
              "      <th></th>\n",
              "      <th>model</th>\n",
              "      <th>Accuracy</th>\n",
              "      <th>AUC-ROC</th>\n",
              "      <th>Precision</th>\n",
              "      <th>Recall</th>\n",
              "      <th>F1-score</th>\n",
              "      <th>Jaccard score</th>\n",
              "    </tr>\n",
              "  </thead>\n",
              "  <tbody>\n",
              "    <tr>\n",
              "      <th>0</th>\n",
              "      <td>Без признаков</td>\n",
              "      <td>0.562087</td>\n",
              "      <td>0.661642</td>\n",
              "      <td>0.0</td>\n",
              "      <td>0.0</td>\n",
              "      <td>0.0</td>\n",
              "      <td>0.0</td>\n",
              "    </tr>\n",
              "    <tr>\n",
              "      <th>1</th>\n",
              "      <td>Без топологических признаков</td>\n",
              "      <td>0.562087</td>\n",
              "      <td>0.661609</td>\n",
              "      <td>0.0</td>\n",
              "      <td>0.0</td>\n",
              "      <td>0.0</td>\n",
              "      <td>0.0</td>\n",
              "    </tr>\n",
              "    <tr>\n",
              "      <th>2</th>\n",
              "      <td>Только топологические признаки</td>\n",
              "      <td>0.562087</td>\n",
              "      <td>0.661136</td>\n",
              "      <td>0.0</td>\n",
              "      <td>0.0</td>\n",
              "      <td>0.0</td>\n",
              "      <td>0.0</td>\n",
              "    </tr>\n",
              "    <tr>\n",
              "      <th>3</th>\n",
              "      <td>Комбинированные признаки</td>\n",
              "      <td>0.562087</td>\n",
              "      <td>0.670270</td>\n",
              "      <td>0.0</td>\n",
              "      <td>0.0</td>\n",
              "      <td>0.0</td>\n",
              "      <td>0.0</td>\n",
              "    </tr>\n",
              "  </tbody>\n",
              "</table>\n",
              "</div>"
            ],
            "text/plain": [
              "                            model  Accuracy   AUC-ROC  Precision  Recall  \\\n",
              "0                   Без признаков  0.562087  0.661642        0.0     0.0   \n",
              "1    Без топологических признаков  0.562087  0.661609        0.0     0.0   \n",
              "2  Только топологические признаки  0.562087  0.661136        0.0     0.0   \n",
              "3        Комбинированные признаки  0.562087  0.670270        0.0     0.0   \n",
              "\n",
              "   F1-score  Jaccard score  \n",
              "0       0.0            0.0  \n",
              "1       0.0            0.0  \n",
              "2       0.0            0.0  \n",
              "3       0.0            0.0  "
            ]
          },
          "execution_count": 3,
          "metadata": {},
          "output_type": "execute_result"
        }
      ],
      "source": [
        "import cvtda.segmentation\n",
        "cvtda.segmentation.segment(\n",
        "    train_images, train_features, train_masks,\n",
        "    test_images, test_features, test_masks,\n",
        "    n_epochs = 3\n",
        ")"
      ]
    }
  ],
  "metadata": {
    "colab": {
      "provenance": []
    },
    "kernelspec": {
      "display_name": "Python 3",
      "name": "python3"
    },
    "language_info": {
      "codemirror_mode": {
        "name": "ipython",
        "version": 3
      },
      "file_extension": ".py",
      "mimetype": "text/x-python",
      "name": "python",
      "nbconvert_exporter": "python",
      "pygments_lexer": "ipython3",
      "version": "3.10.11"
    }
  },
  "nbformat": 4,
  "nbformat_minor": 0
}
