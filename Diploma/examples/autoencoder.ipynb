{
 "cells": [
  {
   "cell_type": "code",
   "execution_count": 1,
   "metadata": {},
   "outputs": [],
   "source": [
    "import numpy\n",
    "import torchvision\n",
    "\n",
    "train = torchvision.datasets.MNIST('mnist', train = True)\n",
    "train_images = numpy.array([ item[0] for item in train ])[:100] / 255\n",
    "train_labels = numpy.array([ item[1] for item in train ])[:100]\n",
    "\n",
    "test = torchvision.datasets.MNIST('mnist', train = False)\n",
    "test_images = numpy.array([ item[0] for item in test ])[:75] / 255\n",
    "test_labels = numpy.array([ item[1] for item in test ])[:75]"
   ]
  },
  {
   "cell_type": "code",
   "execution_count": 2,
   "metadata": {},
   "outputs": [
    {
     "name": "stdout",
     "output_type": "stream",
     "text": [
      "Calculating inverted images\n",
      "GreyscaleExtractor: processing ae_train/greyscale, do_fit = True\n",
      "Got the result from ./ae_train/greyscale/diagrams.npy\n",
      "Applying Scaler to persistence diagrams.\n",
      "DiagramVectorizer: fitting complete\n",
      "Got the result from ./ae_train/greyscale/features.npy\n",
      "GreyscaleExtractor: processing ae_train/greyscale, do_fit = False\n",
      "Got the result from ./ae_train/greyscale/diagrams.npy\n",
      "Applying Scaler to persistence diagrams.\n",
      "Got the result from ./ae_train/greyscale/features.npy\n",
      "GreyscaleExtractor: processing ae_train/inverted_greyscale, do_fit = True\n",
      "Got the result from ./ae_train/inverted_greyscale/diagrams.npy\n",
      "Applying Scaler to persistence diagrams.\n",
      "DiagramVectorizer: fitting complete\n",
      "Got the result from ./ae_train/inverted_greyscale/features.npy\n",
      "GreyscaleExtractor: processing ae_train/inverted_greyscale, do_fit = False\n",
      "Got the result from ./ae_train/inverted_greyscale/diagrams.npy\n",
      "Applying Scaler to persistence diagrams.\n",
      "Got the result from ./ae_train/inverted_greyscale/features.npy\n",
      "Fitting filtrations\n",
      "Calculated radial centers for images of size 28x28: [ 8 19]x[ 8 19]\n",
      "Fitting filtration 1/12: 4/HeightFiltrartion_-1_-1\n",
      "FiltrationExtractor: processing ae_train/filtrations/4/HeightFiltrartion_-1_-1, do_fit = True, filtration = HeightFiltration(direction=array([-1, -1]), n_jobs=1)\n",
      "Got the result from ./ae_train/filtrations/4/HeightFiltrartion_-1_-1/diagrams.npy\n",
      "Applying Scaler to persistence diagrams.\n",
      "DiagramVectorizer: fitting complete\n",
      "Got the result from ./ae_train/filtrations/4/HeightFiltrartion_-1_-1/features.npy\n",
      "Fitting filtration 2/12: 4/HeightFiltrartion_1_1\n",
      "FiltrationExtractor: processing ae_train/filtrations/4/HeightFiltrartion_1_1, do_fit = True, filtration = HeightFiltration(direction=array([1, 1]), n_jobs=1)\n",
      "Got the result from ./ae_train/filtrations/4/HeightFiltrartion_1_1/diagrams.npy\n",
      "Applying Scaler to persistence diagrams.\n",
      "DiagramVectorizer: fitting complete\n",
      "Got the result from ./ae_train/filtrations/4/HeightFiltrartion_1_1/features.npy\n",
      "Fitting filtration 3/12: 4/HeightFiltrartion_1_-1\n",
      "FiltrationExtractor: processing ae_train/filtrations/4/HeightFiltrartion_1_-1, do_fit = True, filtration = HeightFiltration(direction=array([ 1, -1]), n_jobs=1)\n",
      "Got the result from ./ae_train/filtrations/4/HeightFiltrartion_1_-1/diagrams.npy\n",
      "Applying Scaler to persistence diagrams.\n",
      "DiagramVectorizer: fitting complete\n",
      "Got the result from ./ae_train/filtrations/4/HeightFiltrartion_1_-1/features.npy\n",
      "Fitting filtration 4/12: 4/HeightFiltrartion_-1_1\n",
      "FiltrationExtractor: processing ae_train/filtrations/4/HeightFiltrartion_-1_1, do_fit = True, filtration = HeightFiltration(direction=array([-1,  1]), n_jobs=1)\n",
      "Got the result from ./ae_train/filtrations/4/HeightFiltrartion_-1_1/diagrams.npy\n",
      "Applying Scaler to persistence diagrams.\n",
      "DiagramVectorizer: fitting complete\n",
      "Got the result from ./ae_train/filtrations/4/HeightFiltrartion_-1_1/features.npy\n",
      "Fitting filtration 5/12: 4/HeightFiltrartion_0_-1\n",
      "FiltrationExtractor: processing ae_train/filtrations/4/HeightFiltrartion_0_-1, do_fit = True, filtration = HeightFiltration(direction=array([ 0, -1]), n_jobs=1)\n",
      "Got the result from ./ae_train/filtrations/4/HeightFiltrartion_0_-1/diagrams.npy\n",
      "Applying Scaler to persistence diagrams.\n",
      "DiagramVectorizer: fitting complete\n",
      "Got the result from ./ae_train/filtrations/4/HeightFiltrartion_0_-1/features.npy\n",
      "Fitting filtration 6/12: 4/HeightFiltrartion_0_1\n",
      "FiltrationExtractor: processing ae_train/filtrations/4/HeightFiltrartion_0_1, do_fit = True, filtration = HeightFiltration(direction=array([0, 1]), n_jobs=1)\n",
      "Got the result from ./ae_train/filtrations/4/HeightFiltrartion_0_1/diagrams.npy\n",
      "Applying Scaler to persistence diagrams.\n",
      "DiagramVectorizer: fitting complete\n",
      "Got the result from ./ae_train/filtrations/4/HeightFiltrartion_0_1/features.npy\n",
      "Fitting filtration 7/12: 4/HeightFiltrartion_-1_0\n",
      "FiltrationExtractor: processing ae_train/filtrations/4/HeightFiltrartion_-1_0, do_fit = True, filtration = HeightFiltration(direction=array([-1,  0]), n_jobs=1)\n",
      "Got the result from ./ae_train/filtrations/4/HeightFiltrartion_-1_0/diagrams.npy\n",
      "Applying Scaler to persistence diagrams.\n",
      "DiagramVectorizer: fitting complete\n",
      "Got the result from ./ae_train/filtrations/4/HeightFiltrartion_-1_0/features.npy\n",
      "Fitting filtration 8/12: 4/HeightFiltrartion_1_0\n",
      "FiltrationExtractor: processing ae_train/filtrations/4/HeightFiltrartion_1_0, do_fit = True, filtration = HeightFiltration(direction=array([1, 0]), n_jobs=1)\n",
      "Got the result from ./ae_train/filtrations/4/HeightFiltrartion_1_0/diagrams.npy\n",
      "Applying Scaler to persistence diagrams.\n",
      "DiagramVectorizer: fitting complete\n",
      "Got the result from ./ae_train/filtrations/4/HeightFiltrartion_1_0/features.npy\n",
      "Fitting filtration 9/12: 4/RadialFiltration_8_8\n",
      "FiltrationExtractor: processing ae_train/filtrations/4/RadialFiltration_8_8, do_fit = True, filtration = RadialFiltration(center=array([8, 8]), n_jobs=1)\n",
      "Got the result from ./ae_train/filtrations/4/RadialFiltration_8_8/diagrams.npy\n",
      "Applying Scaler to persistence diagrams.\n",
      "DiagramVectorizer: fitting complete\n",
      "Got the result from ./ae_train/filtrations/4/RadialFiltration_8_8/features.npy\n",
      "Fitting filtration 10/12: 4/RadialFiltration_8_19\n",
      "FiltrationExtractor: processing ae_train/filtrations/4/RadialFiltration_8_19, do_fit = True, filtration = RadialFiltration(center=array([ 8, 19]), n_jobs=1)\n",
      "Got the result from ./ae_train/filtrations/4/RadialFiltration_8_19/diagrams.npy\n",
      "Applying Scaler to persistence diagrams.\n",
      "DiagramVectorizer: fitting complete\n",
      "Got the result from ./ae_train/filtrations/4/RadialFiltration_8_19/features.npy\n",
      "Fitting filtration 11/12: 4/RadialFiltration_19_8\n",
      "FiltrationExtractor: processing ae_train/filtrations/4/RadialFiltration_19_8, do_fit = True, filtration = RadialFiltration(center=array([19,  8]), n_jobs=1)\n",
      "Got the result from ./ae_train/filtrations/4/RadialFiltration_19_8/diagrams.npy\n",
      "Applying Scaler to persistence diagrams.\n",
      "DiagramVectorizer: fitting complete\n",
      "Got the result from ./ae_train/filtrations/4/RadialFiltration_19_8/features.npy\n",
      "Fitting filtration 12/12: 4/RadialFiltration_19_19\n",
      "FiltrationExtractor: processing ae_train/filtrations/4/RadialFiltration_19_19, do_fit = True, filtration = RadialFiltration(center=array([19, 19]), n_jobs=1)\n",
      "Got the result from ./ae_train/filtrations/4/RadialFiltration_19_19/diagrams.npy\n",
      "Applying Scaler to persistence diagrams.\n",
      "DiagramVectorizer: fitting complete\n",
      "Got the result from ./ae_train/filtrations/4/RadialFiltration_19_19/features.npy\n",
      "Applying filtrations\n",
      "Applying filtration 1/12: 4/HeightFiltrartion_-1_-1\n",
      "FiltrationExtractor: processing ae_train/filtrations/4/HeightFiltrartion_-1_-1, do_fit = False, filtration = HeightFiltration(direction=array([-1, -1]), n_jobs=1)\n",
      "Got the result from ./ae_train/filtrations/4/HeightFiltrartion_-1_-1/diagrams.npy\n",
      "Applying Scaler to persistence diagrams.\n",
      "Got the result from ./ae_train/filtrations/4/HeightFiltrartion_-1_-1/features.npy\n",
      "Applying filtration 2/12: 4/HeightFiltrartion_1_1\n",
      "FiltrationExtractor: processing ae_train/filtrations/4/HeightFiltrartion_1_1, do_fit = False, filtration = HeightFiltration(direction=array([1, 1]), n_jobs=1)\n",
      "Got the result from ./ae_train/filtrations/4/HeightFiltrartion_1_1/diagrams.npy\n",
      "Applying Scaler to persistence diagrams.\n",
      "Got the result from ./ae_train/filtrations/4/HeightFiltrartion_1_1/features.npy\n",
      "Applying filtration 3/12: 4/HeightFiltrartion_1_-1\n",
      "FiltrationExtractor: processing ae_train/filtrations/4/HeightFiltrartion_1_-1, do_fit = False, filtration = HeightFiltration(direction=array([ 1, -1]), n_jobs=1)\n",
      "Got the result from ./ae_train/filtrations/4/HeightFiltrartion_1_-1/diagrams.npy\n",
      "Applying Scaler to persistence diagrams.\n",
      "Got the result from ./ae_train/filtrations/4/HeightFiltrartion_1_-1/features.npy\n",
      "Applying filtration 4/12: 4/HeightFiltrartion_-1_1\n",
      "FiltrationExtractor: processing ae_train/filtrations/4/HeightFiltrartion_-1_1, do_fit = False, filtration = HeightFiltration(direction=array([-1,  1]), n_jobs=1)\n",
      "Got the result from ./ae_train/filtrations/4/HeightFiltrartion_-1_1/diagrams.npy\n",
      "Applying Scaler to persistence diagrams.\n",
      "Got the result from ./ae_train/filtrations/4/HeightFiltrartion_-1_1/features.npy\n",
      "Applying filtration 5/12: 4/HeightFiltrartion_0_-1\n",
      "FiltrationExtractor: processing ae_train/filtrations/4/HeightFiltrartion_0_-1, do_fit = False, filtration = HeightFiltration(direction=array([ 0, -1]), n_jobs=1)\n",
      "Got the result from ./ae_train/filtrations/4/HeightFiltrartion_0_-1/diagrams.npy\n",
      "Applying Scaler to persistence diagrams.\n",
      "Got the result from ./ae_train/filtrations/4/HeightFiltrartion_0_-1/features.npy\n",
      "Applying filtration 6/12: 4/HeightFiltrartion_0_1\n",
      "FiltrationExtractor: processing ae_train/filtrations/4/HeightFiltrartion_0_1, do_fit = False, filtration = HeightFiltration(direction=array([0, 1]), n_jobs=1)\n",
      "Got the result from ./ae_train/filtrations/4/HeightFiltrartion_0_1/diagrams.npy\n",
      "Applying Scaler to persistence diagrams.\n",
      "Got the result from ./ae_train/filtrations/4/HeightFiltrartion_0_1/features.npy\n",
      "Applying filtration 7/12: 4/HeightFiltrartion_-1_0\n",
      "FiltrationExtractor: processing ae_train/filtrations/4/HeightFiltrartion_-1_0, do_fit = False, filtration = HeightFiltration(direction=array([-1,  0]), n_jobs=1)\n",
      "Got the result from ./ae_train/filtrations/4/HeightFiltrartion_-1_0/diagrams.npy\n",
      "Applying Scaler to persistence diagrams.\n",
      "Got the result from ./ae_train/filtrations/4/HeightFiltrartion_-1_0/features.npy\n",
      "Applying filtration 8/12: 4/HeightFiltrartion_1_0\n",
      "FiltrationExtractor: processing ae_train/filtrations/4/HeightFiltrartion_1_0, do_fit = False, filtration = HeightFiltration(direction=array([1, 0]), n_jobs=1)\n",
      "Got the result from ./ae_train/filtrations/4/HeightFiltrartion_1_0/diagrams.npy\n",
      "Applying Scaler to persistence diagrams.\n",
      "Got the result from ./ae_train/filtrations/4/HeightFiltrartion_1_0/features.npy\n",
      "Applying filtration 9/12: 4/RadialFiltration_8_8\n",
      "FiltrationExtractor: processing ae_train/filtrations/4/RadialFiltration_8_8, do_fit = False, filtration = RadialFiltration(center=array([8, 8]), n_jobs=1)\n",
      "Got the result from ./ae_train/filtrations/4/RadialFiltration_8_8/diagrams.npy\n",
      "Applying Scaler to persistence diagrams.\n",
      "Got the result from ./ae_train/filtrations/4/RadialFiltration_8_8/features.npy\n",
      "Applying filtration 10/12: 4/RadialFiltration_8_19\n",
      "FiltrationExtractor: processing ae_train/filtrations/4/RadialFiltration_8_19, do_fit = False, filtration = RadialFiltration(center=array([ 8, 19]), n_jobs=1)\n",
      "Got the result from ./ae_train/filtrations/4/RadialFiltration_8_19/diagrams.npy\n",
      "Applying Scaler to persistence diagrams.\n",
      "Got the result from ./ae_train/filtrations/4/RadialFiltration_8_19/features.npy\n",
      "Applying filtration 11/12: 4/RadialFiltration_19_8\n",
      "FiltrationExtractor: processing ae_train/filtrations/4/RadialFiltration_19_8, do_fit = False, filtration = RadialFiltration(center=array([19,  8]), n_jobs=1)\n",
      "Got the result from ./ae_train/filtrations/4/RadialFiltration_19_8/diagrams.npy\n",
      "Applying Scaler to persistence diagrams.\n",
      "Got the result from ./ae_train/filtrations/4/RadialFiltration_19_8/features.npy\n",
      "Applying filtration 12/12: 4/RadialFiltration_19_19\n",
      "FiltrationExtractor: processing ae_train/filtrations/4/RadialFiltration_19_19, do_fit = False, filtration = RadialFiltration(center=array([19, 19]), n_jobs=1)\n",
      "Got the result from ./ae_train/filtrations/4/RadialFiltration_19_19/diagrams.npy\n",
      "Applying Scaler to persistence diagrams.\n",
      "Got the result from ./ae_train/filtrations/4/RadialFiltration_19_19/features.npy\n",
      "Got the result from ./ae_train/geometry/features.npy\n",
      "Got the result from ./ae_train/geometry/features.npy\n",
      "Applying StandardScaler.\n",
      "Calculating inverted images\n",
      "GreyscaleExtractor: processing ae_train/greyscale, do_fit = False\n",
      "Got the result from ./ae_train/greyscale/diagrams.npy\n",
      "Applying Scaler to persistence diagrams.\n",
      "Got the result from ./ae_train/greyscale/features.npy\n",
      "GreyscaleExtractor: processing ae_train/inverted_greyscale, do_fit = False\n",
      "Got the result from ./ae_train/inverted_greyscale/diagrams.npy\n",
      "Applying Scaler to persistence diagrams.\n",
      "Got the result from ./ae_train/inverted_greyscale/features.npy\n",
      "Applying filtrations\n",
      "Applying filtration 1/12: 4/HeightFiltrartion_-1_-1\n",
      "FiltrationExtractor: processing ae_train/filtrations/4/HeightFiltrartion_-1_-1, do_fit = False, filtration = HeightFiltration(direction=array([-1, -1]), n_jobs=1)\n",
      "Got the result from ./ae_train/filtrations/4/HeightFiltrartion_-1_-1/diagrams.npy\n",
      "Applying Scaler to persistence diagrams.\n",
      "Got the result from ./ae_train/filtrations/4/HeightFiltrartion_-1_-1/features.npy\n",
      "Applying filtration 2/12: 4/HeightFiltrartion_1_1\n",
      "FiltrationExtractor: processing ae_train/filtrations/4/HeightFiltrartion_1_1, do_fit = False, filtration = HeightFiltration(direction=array([1, 1]), n_jobs=1)\n",
      "Got the result from ./ae_train/filtrations/4/HeightFiltrartion_1_1/diagrams.npy\n",
      "Applying Scaler to persistence diagrams.\n",
      "Got the result from ./ae_train/filtrations/4/HeightFiltrartion_1_1/features.npy\n",
      "Applying filtration 3/12: 4/HeightFiltrartion_1_-1\n",
      "FiltrationExtractor: processing ae_train/filtrations/4/HeightFiltrartion_1_-1, do_fit = False, filtration = HeightFiltration(direction=array([ 1, -1]), n_jobs=1)\n",
      "Got the result from ./ae_train/filtrations/4/HeightFiltrartion_1_-1/diagrams.npy\n",
      "Applying Scaler to persistence diagrams.\n",
      "Got the result from ./ae_train/filtrations/4/HeightFiltrartion_1_-1/features.npy\n",
      "Applying filtration 4/12: 4/HeightFiltrartion_-1_1\n",
      "FiltrationExtractor: processing ae_train/filtrations/4/HeightFiltrartion_-1_1, do_fit = False, filtration = HeightFiltration(direction=array([-1,  1]), n_jobs=1)\n",
      "Got the result from ./ae_train/filtrations/4/HeightFiltrartion_-1_1/diagrams.npy\n",
      "Applying Scaler to persistence diagrams.\n",
      "Got the result from ./ae_train/filtrations/4/HeightFiltrartion_-1_1/features.npy\n",
      "Applying filtration 5/12: 4/HeightFiltrartion_0_-1\n",
      "FiltrationExtractor: processing ae_train/filtrations/4/HeightFiltrartion_0_-1, do_fit = False, filtration = HeightFiltration(direction=array([ 0, -1]), n_jobs=1)\n",
      "Got the result from ./ae_train/filtrations/4/HeightFiltrartion_0_-1/diagrams.npy\n",
      "Applying Scaler to persistence diagrams.\n",
      "Got the result from ./ae_train/filtrations/4/HeightFiltrartion_0_-1/features.npy\n",
      "Applying filtration 6/12: 4/HeightFiltrartion_0_1\n",
      "FiltrationExtractor: processing ae_train/filtrations/4/HeightFiltrartion_0_1, do_fit = False, filtration = HeightFiltration(direction=array([0, 1]), n_jobs=1)\n",
      "Got the result from ./ae_train/filtrations/4/HeightFiltrartion_0_1/diagrams.npy\n",
      "Applying Scaler to persistence diagrams.\n",
      "Got the result from ./ae_train/filtrations/4/HeightFiltrartion_0_1/features.npy\n",
      "Applying filtration 7/12: 4/HeightFiltrartion_-1_0\n",
      "FiltrationExtractor: processing ae_train/filtrations/4/HeightFiltrartion_-1_0, do_fit = False, filtration = HeightFiltration(direction=array([-1,  0]), n_jobs=1)\n",
      "Got the result from ./ae_train/filtrations/4/HeightFiltrartion_-1_0/diagrams.npy\n",
      "Applying Scaler to persistence diagrams.\n",
      "Got the result from ./ae_train/filtrations/4/HeightFiltrartion_-1_0/features.npy\n",
      "Applying filtration 8/12: 4/HeightFiltrartion_1_0\n",
      "FiltrationExtractor: processing ae_train/filtrations/4/HeightFiltrartion_1_0, do_fit = False, filtration = HeightFiltration(direction=array([1, 0]), n_jobs=1)\n",
      "Got the result from ./ae_train/filtrations/4/HeightFiltrartion_1_0/diagrams.npy\n",
      "Applying Scaler to persistence diagrams.\n",
      "Got the result from ./ae_train/filtrations/4/HeightFiltrartion_1_0/features.npy\n",
      "Applying filtration 9/12: 4/RadialFiltration_8_8\n",
      "FiltrationExtractor: processing ae_train/filtrations/4/RadialFiltration_8_8, do_fit = False, filtration = RadialFiltration(center=array([8, 8]), n_jobs=1)\n",
      "Got the result from ./ae_train/filtrations/4/RadialFiltration_8_8/diagrams.npy\n",
      "Applying Scaler to persistence diagrams.\n",
      "Got the result from ./ae_train/filtrations/4/RadialFiltration_8_8/features.npy\n",
      "Applying filtration 10/12: 4/RadialFiltration_8_19\n",
      "FiltrationExtractor: processing ae_train/filtrations/4/RadialFiltration_8_19, do_fit = False, filtration = RadialFiltration(center=array([ 8, 19]), n_jobs=1)\n",
      "Got the result from ./ae_train/filtrations/4/RadialFiltration_8_19/diagrams.npy\n",
      "Applying Scaler to persistence diagrams.\n",
      "Got the result from ./ae_train/filtrations/4/RadialFiltration_8_19/features.npy\n",
      "Applying filtration 11/12: 4/RadialFiltration_19_8\n",
      "FiltrationExtractor: processing ae_train/filtrations/4/RadialFiltration_19_8, do_fit = False, filtration = RadialFiltration(center=array([19,  8]), n_jobs=1)\n",
      "Got the result from ./ae_train/filtrations/4/RadialFiltration_19_8/diagrams.npy\n",
      "Applying Scaler to persistence diagrams.\n",
      "Got the result from ./ae_train/filtrations/4/RadialFiltration_19_8/features.npy\n",
      "Applying filtration 12/12: 4/RadialFiltration_19_19\n",
      "FiltrationExtractor: processing ae_train/filtrations/4/RadialFiltration_19_19, do_fit = False, filtration = RadialFiltration(center=array([19, 19]), n_jobs=1)\n",
      "Got the result from ./ae_train/filtrations/4/RadialFiltration_19_19/diagrams.npy\n",
      "Applying Scaler to persistence diagrams.\n",
      "Got the result from ./ae_train/filtrations/4/RadialFiltration_19_19/features.npy\n",
      "Got the result from ./ae_train/geometry/features.npy\n",
      "Applying StandardScaler.\n",
      "Calculating inverted images\n",
      "GreyscaleExtractor: processing ae_test/greyscale, do_fit = False\n",
      "Got the result from ./ae_test/greyscale/diagrams.npy\n",
      "Applying Scaler to persistence diagrams.\n",
      "Got the result from ./ae_test/greyscale/features.npy\n",
      "GreyscaleExtractor: processing ae_test/inverted_greyscale, do_fit = False\n",
      "Got the result from ./ae_test/inverted_greyscale/diagrams.npy\n",
      "Applying Scaler to persistence diagrams.\n",
      "Got the result from ./ae_test/inverted_greyscale/features.npy\n",
      "Applying filtrations\n",
      "Applying filtration 1/12: 4/HeightFiltrartion_-1_-1\n",
      "FiltrationExtractor: processing ae_test/filtrations/4/HeightFiltrartion_-1_-1, do_fit = False, filtration = HeightFiltration(direction=array([-1, -1]), n_jobs=1)\n",
      "Got the result from ./ae_test/filtrations/4/HeightFiltrartion_-1_-1/diagrams.npy\n",
      "Applying Scaler to persistence diagrams.\n",
      "Got the result from ./ae_test/filtrations/4/HeightFiltrartion_-1_-1/features.npy\n",
      "Applying filtration 2/12: 4/HeightFiltrartion_1_1\n",
      "FiltrationExtractor: processing ae_test/filtrations/4/HeightFiltrartion_1_1, do_fit = False, filtration = HeightFiltration(direction=array([1, 1]), n_jobs=1)\n",
      "Got the result from ./ae_test/filtrations/4/HeightFiltrartion_1_1/diagrams.npy\n",
      "Applying Scaler to persistence diagrams.\n",
      "Got the result from ./ae_test/filtrations/4/HeightFiltrartion_1_1/features.npy\n",
      "Applying filtration 3/12: 4/HeightFiltrartion_1_-1\n",
      "FiltrationExtractor: processing ae_test/filtrations/4/HeightFiltrartion_1_-1, do_fit = False, filtration = HeightFiltration(direction=array([ 1, -1]), n_jobs=1)\n",
      "Got the result from ./ae_test/filtrations/4/HeightFiltrartion_1_-1/diagrams.npy\n",
      "Applying Scaler to persistence diagrams.\n",
      "Got the result from ./ae_test/filtrations/4/HeightFiltrartion_1_-1/features.npy\n",
      "Applying filtration 4/12: 4/HeightFiltrartion_-1_1\n",
      "FiltrationExtractor: processing ae_test/filtrations/4/HeightFiltrartion_-1_1, do_fit = False, filtration = HeightFiltration(direction=array([-1,  1]), n_jobs=1)\n",
      "Got the result from ./ae_test/filtrations/4/HeightFiltrartion_-1_1/diagrams.npy\n",
      "Applying Scaler to persistence diagrams.\n",
      "Got the result from ./ae_test/filtrations/4/HeightFiltrartion_-1_1/features.npy\n",
      "Applying filtration 5/12: 4/HeightFiltrartion_0_-1\n",
      "FiltrationExtractor: processing ae_test/filtrations/4/HeightFiltrartion_0_-1, do_fit = False, filtration = HeightFiltration(direction=array([ 0, -1]), n_jobs=1)\n",
      "Got the result from ./ae_test/filtrations/4/HeightFiltrartion_0_-1/diagrams.npy\n",
      "Applying Scaler to persistence diagrams.\n",
      "Got the result from ./ae_test/filtrations/4/HeightFiltrartion_0_-1/features.npy\n",
      "Applying filtration 6/12: 4/HeightFiltrartion_0_1\n",
      "FiltrationExtractor: processing ae_test/filtrations/4/HeightFiltrartion_0_1, do_fit = False, filtration = HeightFiltration(direction=array([0, 1]), n_jobs=1)\n",
      "Got the result from ./ae_test/filtrations/4/HeightFiltrartion_0_1/diagrams.npy\n",
      "Applying Scaler to persistence diagrams.\n",
      "Got the result from ./ae_test/filtrations/4/HeightFiltrartion_0_1/features.npy\n",
      "Applying filtration 7/12: 4/HeightFiltrartion_-1_0\n",
      "FiltrationExtractor: processing ae_test/filtrations/4/HeightFiltrartion_-1_0, do_fit = False, filtration = HeightFiltration(direction=array([-1,  0]), n_jobs=1)\n",
      "Got the result from ./ae_test/filtrations/4/HeightFiltrartion_-1_0/diagrams.npy\n",
      "Applying Scaler to persistence diagrams.\n",
      "Got the result from ./ae_test/filtrations/4/HeightFiltrartion_-1_0/features.npy\n",
      "Applying filtration 8/12: 4/HeightFiltrartion_1_0\n",
      "FiltrationExtractor: processing ae_test/filtrations/4/HeightFiltrartion_1_0, do_fit = False, filtration = HeightFiltration(direction=array([1, 0]), n_jobs=1)\n",
      "Got the result from ./ae_test/filtrations/4/HeightFiltrartion_1_0/diagrams.npy\n",
      "Applying Scaler to persistence diagrams.\n",
      "Got the result from ./ae_test/filtrations/4/HeightFiltrartion_1_0/features.npy\n",
      "Applying filtration 9/12: 4/RadialFiltration_8_8\n",
      "FiltrationExtractor: processing ae_test/filtrations/4/RadialFiltration_8_8, do_fit = False, filtration = RadialFiltration(center=array([8, 8]), n_jobs=1)\n",
      "Got the result from ./ae_test/filtrations/4/RadialFiltration_8_8/diagrams.npy\n",
      "Applying Scaler to persistence diagrams.\n",
      "Got the result from ./ae_test/filtrations/4/RadialFiltration_8_8/features.npy\n",
      "Applying filtration 10/12: 4/RadialFiltration_8_19\n",
      "FiltrationExtractor: processing ae_test/filtrations/4/RadialFiltration_8_19, do_fit = False, filtration = RadialFiltration(center=array([ 8, 19]), n_jobs=1)\n",
      "Got the result from ./ae_test/filtrations/4/RadialFiltration_8_19/diagrams.npy\n",
      "Applying Scaler to persistence diagrams.\n",
      "Got the result from ./ae_test/filtrations/4/RadialFiltration_8_19/features.npy\n",
      "Applying filtration 11/12: 4/RadialFiltration_19_8\n",
      "FiltrationExtractor: processing ae_test/filtrations/4/RadialFiltration_19_8, do_fit = False, filtration = RadialFiltration(center=array([19,  8]), n_jobs=1)\n",
      "Got the result from ./ae_test/filtrations/4/RadialFiltration_19_8/diagrams.npy\n",
      "Applying Scaler to persistence diagrams.\n",
      "Got the result from ./ae_test/filtrations/4/RadialFiltration_19_8/features.npy\n",
      "Applying filtration 12/12: 4/RadialFiltration_19_19\n",
      "FiltrationExtractor: processing ae_test/filtrations/4/RadialFiltration_19_19, do_fit = False, filtration = RadialFiltration(center=array([19, 19]), n_jobs=1)\n",
      "Got the result from ./ae_test/filtrations/4/RadialFiltration_19_19/diagrams.npy\n",
      "Applying Scaler to persistence diagrams.\n",
      "Got the result from ./ae_test/filtrations/4/RadialFiltration_19_19/features.npy\n",
      "Got the result from ./ae_test/geometry/features.npy\n",
      "Applying StandardScaler.\n"
     ]
    }
   ],
   "source": [
    "import cvtda.topology\n",
    "extractor = cvtda.topology.FeatureExtractor(\n",
    "    n_jobs = 1,\n",
    "    binarizer_thresholds = [ 0.4 ],\n",
    "    num_radial_filtrations = 2\n",
    ")\n",
    "train_features = extractor.fit_transform(train_images, \"ae_train\")\n",
    "test_features = extractor.transform(test_images, \"ae_test\")"
   ]
  },
  {
   "cell_type": "code",
   "execution_count": 3,
   "metadata": {},
   "outputs": [
    {
     "name": "stdout",
     "output_type": "stream",
     "text": [
      "Calculating inverted images\n",
      "Got the result from ./ae_train/greyscale/diagrams.npy\n",
      "Applying Scaler to persistence diagrams.\n",
      "Got the result from ./ae_train/greyscale/diagrams.npy\n",
      "Applying Scaler to persistence diagrams.\n",
      "Got the result from ./ae_train/inverted_greyscale/diagrams.npy\n",
      "Applying Scaler to persistence diagrams.\n",
      "Got the result from ./ae_train/inverted_greyscale/diagrams.npy\n",
      "Applying Scaler to persistence diagrams.\n",
      "Fitting filtrations\n",
      "Calculated radial centers for images of size 28x28: [ 8 19]x[ 8 19]\n",
      "Fitting filtration 1/12: 4/HeightFiltrartion_-1_-1\n",
      "Got the result from ./ae_train/filtrations/4/HeightFiltrartion_-1_-1/diagrams.npy\n",
      "Applying Scaler to persistence diagrams.\n",
      "Fitting filtration 2/12: 4/HeightFiltrartion_1_1\n",
      "Got the result from ./ae_train/filtrations/4/HeightFiltrartion_1_1/diagrams.npy\n",
      "Applying Scaler to persistence diagrams.\n",
      "Fitting filtration 3/12: 4/HeightFiltrartion_1_-1\n",
      "Got the result from ./ae_train/filtrations/4/HeightFiltrartion_1_-1/diagrams.npy\n",
      "Applying Scaler to persistence diagrams.\n",
      "Fitting filtration 4/12: 4/HeightFiltrartion_-1_1\n",
      "Got the result from ./ae_train/filtrations/4/HeightFiltrartion_-1_1/diagrams.npy\n",
      "Applying Scaler to persistence diagrams.\n",
      "Fitting filtration 5/12: 4/HeightFiltrartion_0_-1\n",
      "Got the result from ./ae_train/filtrations/4/HeightFiltrartion_0_-1/diagrams.npy\n",
      "Applying Scaler to persistence diagrams.\n",
      "Fitting filtration 6/12: 4/HeightFiltrartion_0_1\n",
      "Got the result from ./ae_train/filtrations/4/HeightFiltrartion_0_1/diagrams.npy\n",
      "Applying Scaler to persistence diagrams.\n",
      "Fitting filtration 7/12: 4/HeightFiltrartion_-1_0\n",
      "Got the result from ./ae_train/filtrations/4/HeightFiltrartion_-1_0/diagrams.npy\n",
      "Applying Scaler to persistence diagrams.\n",
      "Fitting filtration 8/12: 4/HeightFiltrartion_1_0\n",
      "Got the result from ./ae_train/filtrations/4/HeightFiltrartion_1_0/diagrams.npy\n",
      "Applying Scaler to persistence diagrams.\n",
      "Fitting filtration 9/12: 4/RadialFiltration_8_8\n",
      "Got the result from ./ae_train/filtrations/4/RadialFiltration_8_8/diagrams.npy\n",
      "Applying Scaler to persistence diagrams.\n",
      "Fitting filtration 10/12: 4/RadialFiltration_8_19\n",
      "Got the result from ./ae_train/filtrations/4/RadialFiltration_8_19/diagrams.npy\n",
      "Applying Scaler to persistence diagrams.\n",
      "Fitting filtration 11/12: 4/RadialFiltration_19_8\n",
      "Got the result from ./ae_train/filtrations/4/RadialFiltration_19_8/diagrams.npy\n",
      "Applying Scaler to persistence diagrams.\n",
      "Fitting filtration 12/12: 4/RadialFiltration_19_19\n",
      "Got the result from ./ae_train/filtrations/4/RadialFiltration_19_19/diagrams.npy\n",
      "Applying Scaler to persistence diagrams.\n",
      "Applying filtrations\n",
      "Applying filtration 1/12: 4/HeightFiltrartion_-1_-1\n",
      "Got the result from ./ae_train/filtrations/4/HeightFiltrartion_-1_-1/diagrams.npy\n",
      "Applying Scaler to persistence diagrams.\n",
      "Applying filtration 2/12: 4/HeightFiltrartion_1_1\n",
      "Got the result from ./ae_train/filtrations/4/HeightFiltrartion_1_1/diagrams.npy\n",
      "Applying Scaler to persistence diagrams.\n",
      "Applying filtration 3/12: 4/HeightFiltrartion_1_-1\n",
      "Got the result from ./ae_train/filtrations/4/HeightFiltrartion_1_-1/diagrams.npy\n",
      "Applying Scaler to persistence diagrams.\n",
      "Applying filtration 4/12: 4/HeightFiltrartion_-1_1\n",
      "Got the result from ./ae_train/filtrations/4/HeightFiltrartion_-1_1/diagrams.npy\n",
      "Applying Scaler to persistence diagrams.\n",
      "Applying filtration 5/12: 4/HeightFiltrartion_0_-1\n",
      "Got the result from ./ae_train/filtrations/4/HeightFiltrartion_0_-1/diagrams.npy\n",
      "Applying Scaler to persistence diagrams.\n",
      "Applying filtration 6/12: 4/HeightFiltrartion_0_1\n",
      "Got the result from ./ae_train/filtrations/4/HeightFiltrartion_0_1/diagrams.npy\n",
      "Applying Scaler to persistence diagrams.\n",
      "Applying filtration 7/12: 4/HeightFiltrartion_-1_0\n",
      "Got the result from ./ae_train/filtrations/4/HeightFiltrartion_-1_0/diagrams.npy\n",
      "Applying Scaler to persistence diagrams.\n",
      "Applying filtration 8/12: 4/HeightFiltrartion_1_0\n",
      "Got the result from ./ae_train/filtrations/4/HeightFiltrartion_1_0/diagrams.npy\n",
      "Applying Scaler to persistence diagrams.\n",
      "Applying filtration 9/12: 4/RadialFiltration_8_8\n",
      "Got the result from ./ae_train/filtrations/4/RadialFiltration_8_8/diagrams.npy\n",
      "Applying Scaler to persistence diagrams.\n",
      "Applying filtration 10/12: 4/RadialFiltration_8_19\n",
      "Got the result from ./ae_train/filtrations/4/RadialFiltration_8_19/diagrams.npy\n",
      "Applying Scaler to persistence diagrams.\n",
      "Applying filtration 11/12: 4/RadialFiltration_19_8\n",
      "Got the result from ./ae_train/filtrations/4/RadialFiltration_19_8/diagrams.npy\n",
      "Applying Scaler to persistence diagrams.\n",
      "Applying filtration 12/12: 4/RadialFiltration_19_19\n",
      "Got the result from ./ae_train/filtrations/4/RadialFiltration_19_19/diagrams.npy\n",
      "Applying Scaler to persistence diagrams.\n",
      "Diagrams requested. Returning diagrams.\n",
      "Calculating inverted images\n",
      "Got the result from ./ae_train/greyscale/diagrams.npy\n",
      "Applying Scaler to persistence diagrams.\n",
      "Got the result from ./ae_train/inverted_greyscale/diagrams.npy\n",
      "Applying Scaler to persistence diagrams.\n",
      "Applying filtrations\n",
      "Applying filtration 1/12: 4/HeightFiltrartion_-1_-1\n",
      "Got the result from ./ae_train/filtrations/4/HeightFiltrartion_-1_-1/diagrams.npy\n",
      "Applying Scaler to persistence diagrams.\n",
      "Applying filtration 2/12: 4/HeightFiltrartion_1_1\n",
      "Got the result from ./ae_train/filtrations/4/HeightFiltrartion_1_1/diagrams.npy\n",
      "Applying Scaler to persistence diagrams.\n",
      "Applying filtration 3/12: 4/HeightFiltrartion_1_-1\n",
      "Got the result from ./ae_train/filtrations/4/HeightFiltrartion_1_-1/diagrams.npy\n",
      "Applying Scaler to persistence diagrams.\n",
      "Applying filtration 4/12: 4/HeightFiltrartion_-1_1\n",
      "Got the result from ./ae_train/filtrations/4/HeightFiltrartion_-1_1/diagrams.npy\n",
      "Applying Scaler to persistence diagrams.\n",
      "Applying filtration 5/12: 4/HeightFiltrartion_0_-1\n",
      "Got the result from ./ae_train/filtrations/4/HeightFiltrartion_0_-1/diagrams.npy\n",
      "Applying Scaler to persistence diagrams.\n",
      "Applying filtration 6/12: 4/HeightFiltrartion_0_1\n",
      "Got the result from ./ae_train/filtrations/4/HeightFiltrartion_0_1/diagrams.npy\n",
      "Applying Scaler to persistence diagrams.\n",
      "Applying filtration 7/12: 4/HeightFiltrartion_-1_0\n",
      "Got the result from ./ae_train/filtrations/4/HeightFiltrartion_-1_0/diagrams.npy\n",
      "Applying Scaler to persistence diagrams.\n",
      "Applying filtration 8/12: 4/HeightFiltrartion_1_0\n",
      "Got the result from ./ae_train/filtrations/4/HeightFiltrartion_1_0/diagrams.npy\n",
      "Applying Scaler to persistence diagrams.\n",
      "Applying filtration 9/12: 4/RadialFiltration_8_8\n",
      "Got the result from ./ae_train/filtrations/4/RadialFiltration_8_8/diagrams.npy\n",
      "Applying Scaler to persistence diagrams.\n",
      "Applying filtration 10/12: 4/RadialFiltration_8_19\n",
      "Got the result from ./ae_train/filtrations/4/RadialFiltration_8_19/diagrams.npy\n",
      "Applying Scaler to persistence diagrams.\n",
      "Applying filtration 11/12: 4/RadialFiltration_19_8\n",
      "Got the result from ./ae_train/filtrations/4/RadialFiltration_19_8/diagrams.npy\n",
      "Applying Scaler to persistence diagrams.\n",
      "Applying filtration 12/12: 4/RadialFiltration_19_19\n",
      "Got the result from ./ae_train/filtrations/4/RadialFiltration_19_19/diagrams.npy\n",
      "Applying Scaler to persistence diagrams.\n",
      "Diagrams requested. Returning diagrams.\n",
      "Calculating inverted images\n",
      "Got the result from ./ae_test/greyscale/diagrams.npy\n",
      "Applying Scaler to persistence diagrams.\n",
      "Got the result from ./ae_test/inverted_greyscale/diagrams.npy\n",
      "Applying Scaler to persistence diagrams.\n",
      "Applying filtrations\n",
      "Applying filtration 1/12: 4/HeightFiltrartion_-1_-1\n",
      "Got the result from ./ae_test/filtrations/4/HeightFiltrartion_-1_-1/diagrams.npy\n",
      "Applying Scaler to persistence diagrams.\n",
      "Applying filtration 2/12: 4/HeightFiltrartion_1_1\n",
      "Got the result from ./ae_test/filtrations/4/HeightFiltrartion_1_1/diagrams.npy\n",
      "Applying Scaler to persistence diagrams.\n",
      "Applying filtration 3/12: 4/HeightFiltrartion_1_-1\n",
      "Got the result from ./ae_test/filtrations/4/HeightFiltrartion_1_-1/diagrams.npy\n",
      "Applying Scaler to persistence diagrams.\n",
      "Applying filtration 4/12: 4/HeightFiltrartion_-1_1\n",
      "Got the result from ./ae_test/filtrations/4/HeightFiltrartion_-1_1/diagrams.npy\n",
      "Applying Scaler to persistence diagrams.\n",
      "Applying filtration 5/12: 4/HeightFiltrartion_0_-1\n",
      "Got the result from ./ae_test/filtrations/4/HeightFiltrartion_0_-1/diagrams.npy\n",
      "Applying Scaler to persistence diagrams.\n",
      "Applying filtration 6/12: 4/HeightFiltrartion_0_1\n",
      "Got the result from ./ae_test/filtrations/4/HeightFiltrartion_0_1/diagrams.npy\n",
      "Applying Scaler to persistence diagrams.\n",
      "Applying filtration 7/12: 4/HeightFiltrartion_-1_0\n",
      "Got the result from ./ae_test/filtrations/4/HeightFiltrartion_-1_0/diagrams.npy\n",
      "Applying Scaler to persistence diagrams.\n",
      "Applying filtration 8/12: 4/HeightFiltrartion_1_0\n",
      "Got the result from ./ae_test/filtrations/4/HeightFiltrartion_1_0/diagrams.npy\n",
      "Applying Scaler to persistence diagrams.\n",
      "Applying filtration 9/12: 4/RadialFiltration_8_8\n",
      "Got the result from ./ae_test/filtrations/4/RadialFiltration_8_8/diagrams.npy\n",
      "Applying Scaler to persistence diagrams.\n",
      "Applying filtration 10/12: 4/RadialFiltration_8_19\n",
      "Got the result from ./ae_test/filtrations/4/RadialFiltration_8_19/diagrams.npy\n",
      "Applying Scaler to persistence diagrams.\n",
      "Applying filtration 11/12: 4/RadialFiltration_19_8\n",
      "Got the result from ./ae_test/filtrations/4/RadialFiltration_19_8/diagrams.npy\n",
      "Applying Scaler to persistence diagrams.\n",
      "Applying filtration 12/12: 4/RadialFiltration_19_19\n",
      "Got the result from ./ae_test/filtrations/4/RadialFiltration_19_19/diagrams.npy\n",
      "Applying Scaler to persistence diagrams.\n",
      "Diagrams requested. Returning diagrams.\n"
     ]
    }
   ],
   "source": [
    "extractor = cvtda.topology.FeatureExtractor(\n",
    "    n_jobs = 1,\n",
    "    return_diagrams = True,\n",
    "    only_get_from_dump = True,\n",
    "    binarizer_thresholds = [ 0.4 ],\n",
    "    num_radial_filtrations = 2\n",
    ")\n",
    "train_diagrams = extractor.fit_transform(train_images, \"ae_train\")\n",
    "test_diagrams = extractor.transform(test_images, \"ae_test\")"
   ]
  },
  {
   "cell_type": "code",
   "execution_count": 1,
   "metadata": {},
   "outputs": [
    {
     "ename": "ModuleNotFoundError",
     "evalue": "No module named 'cvtda'",
     "output_type": "error",
     "traceback": [
      "\u001b[0;31m---------------------------------------------------------------------------\u001b[0m",
      "\u001b[0;31mModuleNotFoundError\u001b[0m                       Traceback (most recent call last)",
      "Cell \u001b[0;32mIn[1], line 1\u001b[0m\n\u001b[0;32m----> 1\u001b[0m \u001b[38;5;28;01mimport\u001b[39;00m\u001b[38;5;250m \u001b[39m\u001b[38;5;21;01mcvtda\u001b[39;00m\u001b[38;5;21;01m.\u001b[39;00m\u001b[38;5;21;01mautoencoder\u001b[39;00m\n",
      "\u001b[0;31mModuleNotFoundError\u001b[0m: No module named 'cvtda'"
     ]
    }
   ],
   "source": [
    "import cvtda.autoencoder"
   ]
  },
  {
   "cell_type": "code",
   "execution_count": 4,
   "metadata": {},
   "outputs": [
    {
     "name": "stderr",
     "output_type": "stream",
     "text": [
      "Dataset: processing diagrams: 100%|██████████| 14/14 [00:00<00:00, 61.73it/s]\n"
     ]
    },
    {
     "name": "stdout",
     "output_type": "stream",
     "text": [
      "Constructed a dataset of 100 images of shape torch.Size([1, 28, 28]) with 28 diagrams and 4185 features\n"
     ]
    },
    {
     "name": "stderr",
     "output_type": "stream",
     "text": [
      "Dataset: processing diagrams: 100%|██████████| 14/14 [00:00<00:00, 5759.15it/s]"
     ]
    },
    {
     "name": "stdout",
     "output_type": "stream",
     "text": [
      "Constructed a dataset of 75 images of shape torch.Size([1, 28, 28]) with 28 diagrams and 4185 features\n",
      "Trying features - <cvtda.autoencoder.Autoencoder.Autoencoder object at 0x30efa7370>\n"
     ]
    },
    {
     "name": "stderr",
     "output_type": "stream",
     "text": [
      "\n",
      "/opt/homebrew/lib/python3.10/site-packages/torch/nn/init.py:511: UserWarning: Initializing zero-element tensors is a no-op\n",
      "  warnings.warn(\"Initializing zero-element tensors is a no-op\")\n",
      "/opt/homebrew/lib/python3.10/site-packages/torch/nn/modules/instancenorm.py:115: UserWarning: input's size at dim=0 does not match num_features. You can silence this warning by not passing in num_features, which is not used because affine=False\n",
      "  warnings.warn(\n"
     ]
    },
    {
     "name": "stdout",
     "output_type": "stream",
     "text": [
      "Encoder Base parameters: 4287488\n",
      "Decoder parameters: 1745857\n"
     ]
    },
    {
     "name": "stderr",
     "output_type": "stream",
     "text": [
      "Epoch 0: 100%|██████████| 1/1 [00:00<00:00,  2.06it/s]\n"
     ]
    },
    {
     "name": "stdout",
     "output_type": "stream",
     "text": [
      "Epoch 0: {'loss': 0.20022140443325043, 'lr': 0.010000000000000002, 'MAE': 251.87662, 'MSE': 92.520706}\n"
     ]
    },
    {
     "name": "stderr",
     "output_type": "stream",
     "text": [
      "Epoch 1: 100%|██████████| 1/1 [00:00<00:00, 26.65it/s]\n"
     ]
    },
    {
     "name": "stdout",
     "output_type": "stream",
     "text": [
      "Epoch 1: {'loss': 0.1193886548280716, 'lr': 0.001, 'MAE': 239.88365, 'MSE': 84.57607}\n"
     ]
    },
    {
     "name": "stderr",
     "output_type": "stream",
     "text": [
      "Epoch 2: 100%|██████████| 1/1 [00:00<00:00, 35.28it/s]\n"
     ]
    },
    {
     "name": "stdout",
     "output_type": "stream",
     "text": [
      "Epoch 2: {'loss': 0.10883979499340057, 'lr': 0.001, 'MAE': 229.25685, 'MSE': 78.73318}\n"
     ]
    },
    {
     "name": "stderr",
     "output_type": "stream",
     "text": [
      "Epoch 3: 100%|██████████| 1/1 [00:00<00:00, 33.05it/s]\n"
     ]
    },
    {
     "name": "stdout",
     "output_type": "stream",
     "text": [
      "Epoch 3: {'loss': 0.10085408389568329, 'lr': 0.0001, 'MAE': 228.14302, 'MSE': 78.14775}\n"
     ]
    },
    {
     "name": "stderr",
     "output_type": "stream",
     "text": [
      "Epoch 4: 100%|██████████| 1/1 [00:00<00:00, 29.93it/s]\n"
     ]
    },
    {
     "name": "stdout",
     "output_type": "stream",
     "text": [
      "Epoch 4: {'loss': 0.10004594922065735, 'lr': 1e-05, 'MAE': 228.0195, 'MSE': 78.081696}\n"
     ]
    },
    {
     "name": "stderr",
     "output_type": "stream",
     "text": [
      "Epoch 5: 100%|██████████| 1/1 [00:00<00:00, 17.44it/s]\n"
     ]
    },
    {
     "name": "stdout",
     "output_type": "stream",
     "text": [
      "Epoch 5: {'loss': 0.09995368123054504, 'lr': 1e-05, 'MAE': 227.88724, 'MSE': 78.010056}\n",
      "{'model': 'Топологические признаки', 'MAE': 227.8872356113449, 'MSE': 78.01005002406795}\n",
      "Trying images - <cvtda.autoencoder.Autoencoder.Autoencoder object at 0x30efa7610>\n",
      "Encoder Base parameters: 25600960\n",
      "Decoder parameters: 1745857\n"
     ]
    },
    {
     "name": "stderr",
     "output_type": "stream",
     "text": [
      "Epoch 0: 100%|██████████| 1/1 [00:01<00:00,  1.03s/it]\n"
     ]
    },
    {
     "name": "stdout",
     "output_type": "stream",
     "text": [
      "Epoch 0: {'loss': 0.2333403378725052, 'lr': 0.001, 'MAE': 350.0018, 'MSE': 165.26907}\n"
     ]
    },
    {
     "name": "stderr",
     "output_type": "stream",
     "text": [
      "Epoch 1: 100%|██████████| 1/1 [00:00<00:00,  6.30it/s]\n"
     ]
    },
    {
     "name": "stdout",
     "output_type": "stream",
     "text": [
      "Epoch 1: {'loss': 0.2097385674715042, 'lr': 0.0001, 'MAE': 344.82486, 'MSE': 160.48238}\n"
     ]
    },
    {
     "name": "stderr",
     "output_type": "stream",
     "text": [
      "Epoch 2: 100%|██████████| 1/1 [00:00<00:00,  6.51it/s]"
     ]
    },
    {
     "name": "stdout",
     "output_type": "stream",
     "text": [
      "Epoch 2: {'loss': 0.20207679271697998, 'lr': 1e-05, 'MAE': 344.29346, 'MSE': 160.01282}\n"
     ]
    },
    {
     "name": "stderr",
     "output_type": "stream",
     "text": [
      "\n"
     ]
    },
    {
     "name": "stdout",
     "output_type": "stream",
     "text": [
      "{'model': 'ResNet50 – базовая модель', 'MAE': 344.29347729790527, 'MSE': 160.0128027214045}\n",
      "Trying features_images - <cvtda.autoencoder.Autoencoder.Autoencoder object at 0x30efa69b0>\n",
      "Encoder Base parameters: 29887424\n",
      "Decoder parameters: 1745857\n"
     ]
    },
    {
     "name": "stderr",
     "output_type": "stream",
     "text": [
      "Epoch 0: 100%|██████████| 1/1 [00:00<00:00,  2.90it/s]\n"
     ]
    },
    {
     "name": "stdout",
     "output_type": "stream",
     "text": [
      "Epoch 0: {'loss': 0.23385313153266907, 'lr': 0.001, 'MAE': 352.3322, 'MSE': 167.98872}\n"
     ]
    },
    {
     "name": "stderr",
     "output_type": "stream",
     "text": [
      "Epoch 1: 100%|██████████| 1/1 [00:00<00:00,  2.87it/s]\n"
     ]
    },
    {
     "name": "stdout",
     "output_type": "stream",
     "text": [
      "Epoch 1: {'loss': 0.21058733761310577, 'lr': 0.0001, 'MAE': 350.27747, 'MSE': 165.95197}\n"
     ]
    },
    {
     "name": "stderr",
     "output_type": "stream",
     "text": [
      "Epoch 2: 100%|██████████| 1/1 [00:00<00:00,  5.68it/s]\n"
     ]
    },
    {
     "name": "stdout",
     "output_type": "stream",
     "text": [
      "Epoch 2: {'loss': 0.20443463325500488, 'lr': 1e-05, 'MAE': 349.73352, 'MSE': 165.40097}\n",
      "{'model': 'Комбинированная нейронная сеть', 'MAE': 349.7335186381425, 'MSE': 165.4009673222549}\n",
      "Trying diagrams - <cvtda.autoencoder.Autoencoder.Autoencoder object at 0x30efa4c40>\n",
      "Encoder Base parameters: 1843200\n",
      "Decoder parameters: 1745857\n",
      "{'model': 'Обучаемая векторизация диаграмм', 'MAE': 313.1020184116196, 'MSE': 135.54335571034682}\n"
     ]
    },
    {
     "data": {
      "text/html": [
       "<div>\n",
       "<style scoped>\n",
       "    .dataframe tbody tr th:only-of-type {\n",
       "        vertical-align: middle;\n",
       "    }\n",
       "\n",
       "    .dataframe tbody tr th {\n",
       "        vertical-align: top;\n",
       "    }\n",
       "\n",
       "    .dataframe thead th {\n",
       "        text-align: right;\n",
       "    }\n",
       "</style>\n",
       "<table border=\"1\" class=\"dataframe\">\n",
       "  <thead>\n",
       "    <tr style=\"text-align: right;\">\n",
       "      <th></th>\n",
       "      <th>model</th>\n",
       "      <th>MAE</th>\n",
       "      <th>MSE</th>\n",
       "    </tr>\n",
       "  </thead>\n",
       "  <tbody>\n",
       "    <tr>\n",
       "      <th>0</th>\n",
       "      <td>Топологические признаки</td>\n",
       "      <td>227.887236</td>\n",
       "      <td>78.010050</td>\n",
       "    </tr>\n",
       "    <tr>\n",
       "      <th>1</th>\n",
       "      <td>ResNet50 – базовая модель</td>\n",
       "      <td>344.293477</td>\n",
       "      <td>160.012803</td>\n",
       "    </tr>\n",
       "    <tr>\n",
       "      <th>2</th>\n",
       "      <td>Комбинированная нейронная сеть</td>\n",
       "      <td>349.733519</td>\n",
       "      <td>165.400967</td>\n",
       "    </tr>\n",
       "    <tr>\n",
       "      <th>3</th>\n",
       "      <td>Обучаемая векторизация диаграмм</td>\n",
       "      <td>313.102018</td>\n",
       "      <td>135.543356</td>\n",
       "    </tr>\n",
       "  </tbody>\n",
       "</table>\n",
       "</div>"
      ],
      "text/plain": [
       "                             model         MAE         MSE\n",
       "0          Топологические признаки  227.887236   78.010050\n",
       "1        ResNet50 – базовая модель  344.293477  160.012803\n",
       "2   Комбинированная нейронная сеть  349.733519  165.400967\n",
       "3  Обучаемая векторизация диаграмм  313.102018  135.543356"
      ]
     },
     "execution_count": 4,
     "metadata": {},
     "output_type": "execute_result"
    }
   ],
   "source": [
    "import cvtda.autoencoder\n",
    "cvtda.autoencoder.try_autoencoders(\n",
    "    train_images, train_features, train_diagrams,\n",
    "    test_images, test_features, test_diagrams,\n",
    "    nn_epochs = 3, nn_device = 'mps'\n",
    ")"
   ]
  }
 ],
 "metadata": {
  "kernelspec": {
   "display_name": "Python 3",
   "language": "python",
   "name": "python3"
  },
  "language_info": {
   "codemirror_mode": {
    "name": "ipython",
    "version": 3
   },
   "file_extension": ".py",
   "mimetype": "text/x-python",
   "name": "python",
   "nbconvert_exporter": "python",
   "pygments_lexer": "ipython3",
   "version": "3.10.18"
  }
 },
 "nbformat": 4,
 "nbformat_minor": 2
}
