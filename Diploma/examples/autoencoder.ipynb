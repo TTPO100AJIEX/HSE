{
 "cells": [
  {
   "cell_type": "code",
   "execution_count": 1,
   "metadata": {},
   "outputs": [],
   "source": [
    "import numpy\n",
    "import torchvision\n",
    "\n",
    "train = torchvision.datasets.MNIST('mnist', train = True)\n",
    "train_images = numpy.array([ item[0] for item in train ])[:100] / 255\n",
    "train_labels = numpy.array([ item[1] for item in train ])[:100]\n",
    "\n",
    "test = torchvision.datasets.MNIST('mnist', train = False)\n",
    "test_images = numpy.array([ item[0] for item in test ])[:75] / 255\n",
    "test_labels = numpy.array([ item[1] for item in test ])[:75]"
   ]
  },
  {
   "cell_type": "code",
   "execution_count": 2,
   "metadata": {},
   "outputs": [
    {
     "name": "stdout",
     "output_type": "stream",
     "text": [
      "Calculating inverted images\n",
      "GreyscaleExtractor: processing ae_train/greyscale, do_fit = True\n",
      "Saving the result to ./ae_train/greyscale/diagrams.npy\n",
      "Applying Scaler to persistence diagrams.\n",
      "DiagramVectorizer: fitting complete\n"
     ]
    },
    {
     "name": "stderr",
     "output_type": "stream",
     "text": [
      "DiagramVectorizer: batch: 100%|██████████| 1/1 [00:00<00:00, 76.93it/s]\n"
     ]
    },
    {
     "name": "stdout",
     "output_type": "stream",
     "text": [
      "Saving the result to ./ae_train/greyscale/features.npy\n",
      "GreyscaleExtractor: processing ae_train/greyscale, do_fit = False\n",
      "Got the result from ./ae_train/greyscale/diagrams.npy\n",
      "Applying Scaler to persistence diagrams.\n",
      "Got the result from ./ae_train/greyscale/features.npy\n",
      "GreyscaleExtractor: processing ae_train/inverted_greyscale, do_fit = True\n",
      "Saving the result to ./ae_train/inverted_greyscale/diagrams.npy\n",
      "Applying Scaler to persistence diagrams.\n",
      "DiagramVectorizer: fitting complete\n"
     ]
    },
    {
     "name": "stderr",
     "output_type": "stream",
     "text": [
      "DiagramVectorizer: batch: 100%|██████████| 1/1 [00:00<00:00, 142.88it/s]"
     ]
    },
    {
     "name": "stdout",
     "output_type": "stream",
     "text": [
      "Saving the result to ./ae_train/inverted_greyscale/features.npy\n",
      "GreyscaleExtractor: processing ae_train/inverted_greyscale, do_fit = False\n",
      "Got the result from ./ae_train/inverted_greyscale/diagrams.npy\n",
      "Applying Scaler to persistence diagrams.\n",
      "Got the result from ./ae_train/inverted_greyscale/features.npy\n",
      "Fitting filtrations\n",
      "Fitting filtration 1/12: 4/HeightFiltrartion_-1_-1\n",
      "FiltrationExtractor: processing ae_train/filtrations/4/HeightFiltrartion_-1_-1, do_fit = True, filtration = HeightFiltration(direction=array([-1, -1]), n_jobs=1)\n",
      "Saving the result to ./ae_train/filtrations/4/HeightFiltrartion_-1_-1/diagrams.npy\n"
     ]
    },
    {
     "name": "stderr",
     "output_type": "stream",
     "text": [
      "\n"
     ]
    },
    {
     "name": "stdout",
     "output_type": "stream",
     "text": [
      "Applying Scaler to persistence diagrams.\n",
      "DiagramVectorizer: fitting complete\n"
     ]
    },
    {
     "name": "stderr",
     "output_type": "stream",
     "text": [
      "DiagramVectorizer: batch: 100%|██████████| 1/1 [00:00<00:00, 99.94it/s]\n"
     ]
    },
    {
     "name": "stdout",
     "output_type": "stream",
     "text": [
      "Saving the result to ./ae_train/filtrations/4/HeightFiltrartion_-1_-1/features.npy\n",
      "Fitting filtration 2/12: 4/HeightFiltrartion_-1_0\n",
      "FiltrationExtractor: processing ae_train/filtrations/4/HeightFiltrartion_-1_0, do_fit = True, filtration = HeightFiltration(direction=array([-1,  0]), n_jobs=1)\n",
      "Saving the result to ./ae_train/filtrations/4/HeightFiltrartion_-1_0/diagrams.npy\n",
      "Applying Scaler to persistence diagrams.\n",
      "DiagramVectorizer: fitting complete\n"
     ]
    },
    {
     "name": "stderr",
     "output_type": "stream",
     "text": [
      "DiagramVectorizer: batch: 100%|██████████| 1/1 [00:00<00:00, 161.10it/s]\n"
     ]
    },
    {
     "name": "stdout",
     "output_type": "stream",
     "text": [
      "Saving the result to ./ae_train/filtrations/4/HeightFiltrartion_-1_0/features.npy\n",
      "Fitting filtration 3/12: 4/HeightFiltrartion_-1_1\n",
      "FiltrationExtractor: processing ae_train/filtrations/4/HeightFiltrartion_-1_1, do_fit = True, filtration = HeightFiltration(direction=array([-1,  1]), n_jobs=1)\n",
      "Saving the result to ./ae_train/filtrations/4/HeightFiltrartion_-1_1/diagrams.npy\n",
      "Applying Scaler to persistence diagrams.\n",
      "DiagramVectorizer: fitting complete\n"
     ]
    },
    {
     "name": "stderr",
     "output_type": "stream",
     "text": [
      "DiagramVectorizer: batch: 100%|██████████| 1/1 [00:00<00:00, 141.11it/s]\n"
     ]
    },
    {
     "name": "stdout",
     "output_type": "stream",
     "text": [
      "Saving the result to ./ae_train/filtrations/4/HeightFiltrartion_-1_1/features.npy\n",
      "Fitting filtration 4/12: 4/HeightFiltrartion_0_-1\n",
      "FiltrationExtractor: processing ae_train/filtrations/4/HeightFiltrartion_0_-1, do_fit = True, filtration = HeightFiltration(direction=array([ 0, -1]), n_jobs=1)\n",
      "Saving the result to ./ae_train/filtrations/4/HeightFiltrartion_0_-1/diagrams.npy\n",
      "Applying Scaler to persistence diagrams.\n",
      "DiagramVectorizer: fitting complete\n"
     ]
    },
    {
     "name": "stderr",
     "output_type": "stream",
     "text": [
      "DiagramVectorizer: batch: 100%|██████████| 1/1 [00:00<00:00, 138.61it/s]\n"
     ]
    },
    {
     "name": "stdout",
     "output_type": "stream",
     "text": [
      "Saving the result to ./ae_train/filtrations/4/HeightFiltrartion_0_-1/features.npy\n",
      "Fitting filtration 5/12: 4/HeightFiltrartion_0_1\n",
      "FiltrationExtractor: processing ae_train/filtrations/4/HeightFiltrartion_0_1, do_fit = True, filtration = HeightFiltration(direction=array([0, 1]), n_jobs=1)\n",
      "Saving the result to ./ae_train/filtrations/4/HeightFiltrartion_0_1/diagrams.npy\n",
      "Applying Scaler to persistence diagrams.\n",
      "DiagramVectorizer: fitting complete\n"
     ]
    },
    {
     "name": "stderr",
     "output_type": "stream",
     "text": [
      "DiagramVectorizer: batch: 100%|██████████| 1/1 [00:00<00:00, 142.88it/s]\n"
     ]
    },
    {
     "name": "stdout",
     "output_type": "stream",
     "text": [
      "Saving the result to ./ae_train/filtrations/4/HeightFiltrartion_0_1/features.npy\n",
      "Fitting filtration 6/12: 4/HeightFiltrartion_1_-1\n",
      "FiltrationExtractor: processing ae_train/filtrations/4/HeightFiltrartion_1_-1, do_fit = True, filtration = HeightFiltration(direction=array([ 1, -1]), n_jobs=1)\n",
      "Saving the result to ./ae_train/filtrations/4/HeightFiltrartion_1_-1/diagrams.npy\n",
      "Applying Scaler to persistence diagrams.\n",
      "DiagramVectorizer: fitting complete\n"
     ]
    },
    {
     "name": "stderr",
     "output_type": "stream",
     "text": [
      "DiagramVectorizer: batch: 100%|██████████| 1/1 [00:00<00:00, 142.91it/s]\n"
     ]
    },
    {
     "name": "stdout",
     "output_type": "stream",
     "text": [
      "Saving the result to ./ae_train/filtrations/4/HeightFiltrartion_1_-1/features.npy\n",
      "Fitting filtration 7/12: 4/HeightFiltrartion_1_0\n",
      "FiltrationExtractor: processing ae_train/filtrations/4/HeightFiltrartion_1_0, do_fit = True, filtration = HeightFiltration(direction=array([1, 0]), n_jobs=1)\n",
      "Saving the result to ./ae_train/filtrations/4/HeightFiltrartion_1_0/diagrams.npy\n",
      "Applying Scaler to persistence diagrams.\n",
      "DiagramVectorizer: fitting complete\n"
     ]
    },
    {
     "name": "stderr",
     "output_type": "stream",
     "text": [
      "DiagramVectorizer: batch: 100%|██████████| 1/1 [00:00<00:00, 166.71it/s]\n"
     ]
    },
    {
     "name": "stdout",
     "output_type": "stream",
     "text": [
      "Saving the result to ./ae_train/filtrations/4/HeightFiltrartion_1_0/features.npy\n",
      "Fitting filtration 8/12: 4/HeightFiltrartion_1_1\n",
      "FiltrationExtractor: processing ae_train/filtrations/4/HeightFiltrartion_1_1, do_fit = True, filtration = HeightFiltration(direction=array([1, 1]), n_jobs=1)\n",
      "Saving the result to ./ae_train/filtrations/4/HeightFiltrartion_1_1/diagrams.npy\n",
      "Applying Scaler to persistence diagrams.\n",
      "DiagramVectorizer: fitting complete\n"
     ]
    },
    {
     "name": "stderr",
     "output_type": "stream",
     "text": [
      "DiagramVectorizer: batch: 100%|██████████| 1/1 [00:00<00:00, 142.88it/s]\n"
     ]
    },
    {
     "name": "stdout",
     "output_type": "stream",
     "text": [
      "Saving the result to ./ae_train/filtrations/4/HeightFiltrartion_1_1/features.npy\n",
      "Fitting filtration 9/12: 4/RadialFiltration_8_8\n",
      "FiltrationExtractor: processing ae_train/filtrations/4/RadialFiltration_8_8, do_fit = True, filtration = RadialFiltration(center=array([8, 8]), n_jobs=1)\n",
      "Saving the result to ./ae_train/filtrations/4/RadialFiltration_8_8/diagrams.npy\n",
      "Applying Scaler to persistence diagrams.\n",
      "DiagramVectorizer: fitting complete\n"
     ]
    },
    {
     "name": "stderr",
     "output_type": "stream",
     "text": [
      "DiagramVectorizer: batch: 100%|██████████| 1/1 [00:00<00:00, 124.98it/s]\n"
     ]
    },
    {
     "name": "stdout",
     "output_type": "stream",
     "text": [
      "Saving the result to ./ae_train/filtrations/4/RadialFiltration_8_8/features.npy\n",
      "Fitting filtration 10/12: 4/RadialFiltration_8_19\n",
      "FiltrationExtractor: processing ae_train/filtrations/4/RadialFiltration_8_19, do_fit = True, filtration = RadialFiltration(center=array([ 8, 19]), n_jobs=1)\n",
      "Saving the result to ./ae_train/filtrations/4/RadialFiltration_8_19/diagrams.npy\n",
      "Applying Scaler to persistence diagrams.\n",
      "DiagramVectorizer: fitting complete\n"
     ]
    },
    {
     "name": "stderr",
     "output_type": "stream",
     "text": [
      "DiagramVectorizer: batch: 100%|██████████| 1/1 [00:00<00:00, 166.71it/s]\n"
     ]
    },
    {
     "name": "stdout",
     "output_type": "stream",
     "text": [
      "Saving the result to ./ae_train/filtrations/4/RadialFiltration_8_19/features.npy\n",
      "Fitting filtration 11/12: 4/RadialFiltration_19_8\n",
      "FiltrationExtractor: processing ae_train/filtrations/4/RadialFiltration_19_8, do_fit = True, filtration = RadialFiltration(center=array([19,  8]), n_jobs=1)\n",
      "Saving the result to ./ae_train/filtrations/4/RadialFiltration_19_8/diagrams.npy\n",
      "Applying Scaler to persistence diagrams.\n",
      "DiagramVectorizer: fitting complete\n"
     ]
    },
    {
     "name": "stderr",
     "output_type": "stream",
     "text": [
      "DiagramVectorizer: batch: 100%|██████████| 1/1 [00:00<00:00, 142.91it/s]\n"
     ]
    },
    {
     "name": "stdout",
     "output_type": "stream",
     "text": [
      "Saving the result to ./ae_train/filtrations/4/RadialFiltration_19_8/features.npy\n",
      "Fitting filtration 12/12: 4/RadialFiltration_19_19\n",
      "FiltrationExtractor: processing ae_train/filtrations/4/RadialFiltration_19_19, do_fit = True, filtration = RadialFiltration(center=array([19, 19]), n_jobs=1)\n",
      "Saving the result to ./ae_train/filtrations/4/RadialFiltration_19_19/diagrams.npy\n",
      "Applying Scaler to persistence diagrams.\n",
      "DiagramVectorizer: fitting complete\n"
     ]
    },
    {
     "name": "stderr",
     "output_type": "stream",
     "text": [
      "DiagramVectorizer: batch: 100%|██████████| 1/1 [00:00<00:00, 142.86it/s]\n"
     ]
    },
    {
     "name": "stdout",
     "output_type": "stream",
     "text": [
      "Saving the result to ./ae_train/filtrations/4/RadialFiltration_19_19/features.npy\n",
      "Applying filtrations\n",
      "Applying filtration 1/12: 4/HeightFiltrartion_-1_-1\n",
      "FiltrationExtractor: processing ae_train/filtrations/4/HeightFiltrartion_-1_-1, do_fit = False, filtration = HeightFiltration(direction=array([-1, -1]), n_jobs=1)\n",
      "Got the result from ./ae_train/filtrations/4/HeightFiltrartion_-1_-1/diagrams.npy\n",
      "Applying Scaler to persistence diagrams.\n",
      "Got the result from ./ae_train/filtrations/4/HeightFiltrartion_-1_-1/features.npy\n",
      "Applying filtration 2/12: 4/HeightFiltrartion_-1_0\n",
      "FiltrationExtractor: processing ae_train/filtrations/4/HeightFiltrartion_-1_0, do_fit = False, filtration = HeightFiltration(direction=array([-1,  0]), n_jobs=1)\n",
      "Got the result from ./ae_train/filtrations/4/HeightFiltrartion_-1_0/diagrams.npy\n",
      "Applying Scaler to persistence diagrams.\n",
      "Got the result from ./ae_train/filtrations/4/HeightFiltrartion_-1_0/features.npy\n",
      "Applying filtration 3/12: 4/HeightFiltrartion_-1_1\n",
      "FiltrationExtractor: processing ae_train/filtrations/4/HeightFiltrartion_-1_1, do_fit = False, filtration = HeightFiltration(direction=array([-1,  1]), n_jobs=1)\n",
      "Got the result from ./ae_train/filtrations/4/HeightFiltrartion_-1_1/diagrams.npy\n",
      "Applying Scaler to persistence diagrams.\n",
      "Got the result from ./ae_train/filtrations/4/HeightFiltrartion_-1_1/features.npy\n",
      "Applying filtration 4/12: 4/HeightFiltrartion_0_-1\n",
      "FiltrationExtractor: processing ae_train/filtrations/4/HeightFiltrartion_0_-1, do_fit = False, filtration = HeightFiltration(direction=array([ 0, -1]), n_jobs=1)\n",
      "Got the result from ./ae_train/filtrations/4/HeightFiltrartion_0_-1/diagrams.npy\n",
      "Applying Scaler to persistence diagrams.\n",
      "Got the result from ./ae_train/filtrations/4/HeightFiltrartion_0_-1/features.npy\n",
      "Applying filtration 5/12: 4/HeightFiltrartion_0_1\n",
      "FiltrationExtractor: processing ae_train/filtrations/4/HeightFiltrartion_0_1, do_fit = False, filtration = HeightFiltration(direction=array([0, 1]), n_jobs=1)\n",
      "Got the result from ./ae_train/filtrations/4/HeightFiltrartion_0_1/diagrams.npy\n",
      "Applying Scaler to persistence diagrams.\n",
      "Got the result from ./ae_train/filtrations/4/HeightFiltrartion_0_1/features.npy\n",
      "Applying filtration 6/12: 4/HeightFiltrartion_1_-1\n",
      "FiltrationExtractor: processing ae_train/filtrations/4/HeightFiltrartion_1_-1, do_fit = False, filtration = HeightFiltration(direction=array([ 1, -1]), n_jobs=1)\n",
      "Got the result from ./ae_train/filtrations/4/HeightFiltrartion_1_-1/diagrams.npy\n",
      "Applying Scaler to persistence diagrams.\n",
      "Got the result from ./ae_train/filtrations/4/HeightFiltrartion_1_-1/features.npy\n",
      "Applying filtration 7/12: 4/HeightFiltrartion_1_0\n",
      "FiltrationExtractor: processing ae_train/filtrations/4/HeightFiltrartion_1_0, do_fit = False, filtration = HeightFiltration(direction=array([1, 0]), n_jobs=1)\n",
      "Got the result from ./ae_train/filtrations/4/HeightFiltrartion_1_0/diagrams.npy\n",
      "Applying Scaler to persistence diagrams.\n",
      "Got the result from ./ae_train/filtrations/4/HeightFiltrartion_1_0/features.npy\n",
      "Applying filtration 8/12: 4/HeightFiltrartion_1_1\n",
      "FiltrationExtractor: processing ae_train/filtrations/4/HeightFiltrartion_1_1, do_fit = False, filtration = HeightFiltration(direction=array([1, 1]), n_jobs=1)\n",
      "Got the result from ./ae_train/filtrations/4/HeightFiltrartion_1_1/diagrams.npy\n",
      "Applying Scaler to persistence diagrams.\n",
      "Got the result from ./ae_train/filtrations/4/HeightFiltrartion_1_1/features.npy\n",
      "Applying filtration 9/12: 4/RadialFiltration_8_8\n",
      "FiltrationExtractor: processing ae_train/filtrations/4/RadialFiltration_8_8, do_fit = False, filtration = RadialFiltration(center=array([8, 8]), n_jobs=1)\n",
      "Got the result from ./ae_train/filtrations/4/RadialFiltration_8_8/diagrams.npy\n",
      "Applying Scaler to persistence diagrams.\n",
      "Got the result from ./ae_train/filtrations/4/RadialFiltration_8_8/features.npy\n",
      "Applying filtration 10/12: 4/RadialFiltration_8_19\n",
      "FiltrationExtractor: processing ae_train/filtrations/4/RadialFiltration_8_19, do_fit = False, filtration = RadialFiltration(center=array([ 8, 19]), n_jobs=1)\n",
      "Got the result from ./ae_train/filtrations/4/RadialFiltration_8_19/diagrams.npy\n",
      "Applying Scaler to persistence diagrams.\n",
      "Got the result from ./ae_train/filtrations/4/RadialFiltration_8_19/features.npy\n",
      "Applying filtration 11/12: 4/RadialFiltration_19_8\n",
      "FiltrationExtractor: processing ae_train/filtrations/4/RadialFiltration_19_8, do_fit = False, filtration = RadialFiltration(center=array([19,  8]), n_jobs=1)\n",
      "Got the result from ./ae_train/filtrations/4/RadialFiltration_19_8/diagrams.npy\n",
      "Applying Scaler to persistence diagrams.\n",
      "Got the result from ./ae_train/filtrations/4/RadialFiltration_19_8/features.npy\n",
      "Applying filtration 12/12: 4/RadialFiltration_19_19\n",
      "FiltrationExtractor: processing ae_train/filtrations/4/RadialFiltration_19_19, do_fit = False, filtration = RadialFiltration(center=array([19, 19]), n_jobs=1)\n",
      "Got the result from ./ae_train/filtrations/4/RadialFiltration_19_19/diagrams.npy\n",
      "Applying Scaler to persistence diagrams.\n",
      "Got the result from ./ae_train/filtrations/4/RadialFiltration_19_19/features.npy\n"
     ]
    },
    {
     "name": "stderr",
     "output_type": "stream",
     "text": [
      "GrayGeometryExtractor: 100%|██████████| 100/100 [00:05<00:00, 19.75it/s]\n"
     ]
    },
    {
     "name": "stdout",
     "output_type": "stream",
     "text": [
      "Saving the result to ./ae_train/geometry/features.npy\n",
      "Got the result from ./ae_train/geometry/features.npy\n",
      "Applying StandardScaler.\n",
      "Calculating inverted images\n",
      "GreyscaleExtractor: processing ae_train/greyscale, do_fit = False\n",
      "Got the result from ./ae_train/greyscale/diagrams.npy\n",
      "Applying Scaler to persistence diagrams.\n",
      "Got the result from ./ae_train/greyscale/features.npy\n",
      "GreyscaleExtractor: processing ae_train/inverted_greyscale, do_fit = False\n",
      "Got the result from ./ae_train/inverted_greyscale/diagrams.npy\n",
      "Applying Scaler to persistence diagrams.\n",
      "Got the result from ./ae_train/inverted_greyscale/features.npy\n",
      "Applying filtrations\n",
      "Applying filtration 1/12: 4/HeightFiltrartion_-1_-1\n",
      "FiltrationExtractor: processing ae_train/filtrations/4/HeightFiltrartion_-1_-1, do_fit = False, filtration = HeightFiltration(direction=array([-1, -1]), n_jobs=1)\n",
      "Got the result from ./ae_train/filtrations/4/HeightFiltrartion_-1_-1/diagrams.npy\n",
      "Applying Scaler to persistence diagrams.\n",
      "Got the result from ./ae_train/filtrations/4/HeightFiltrartion_-1_-1/features.npy\n",
      "Applying filtration 2/12: 4/HeightFiltrartion_-1_0\n",
      "FiltrationExtractor: processing ae_train/filtrations/4/HeightFiltrartion_-1_0, do_fit = False, filtration = HeightFiltration(direction=array([-1,  0]), n_jobs=1)\n",
      "Got the result from ./ae_train/filtrations/4/HeightFiltrartion_-1_0/diagrams.npy\n",
      "Applying Scaler to persistence diagrams.\n",
      "Got the result from ./ae_train/filtrations/4/HeightFiltrartion_-1_0/features.npy\n",
      "Applying filtration 3/12: 4/HeightFiltrartion_-1_1\n",
      "FiltrationExtractor: processing ae_train/filtrations/4/HeightFiltrartion_-1_1, do_fit = False, filtration = HeightFiltration(direction=array([-1,  1]), n_jobs=1)\n",
      "Got the result from ./ae_train/filtrations/4/HeightFiltrartion_-1_1/diagrams.npy\n",
      "Applying Scaler to persistence diagrams.\n",
      "Got the result from ./ae_train/filtrations/4/HeightFiltrartion_-1_1/features.npy\n",
      "Applying filtration 4/12: 4/HeightFiltrartion_0_-1\n",
      "FiltrationExtractor: processing ae_train/filtrations/4/HeightFiltrartion_0_-1, do_fit = False, filtration = HeightFiltration(direction=array([ 0, -1]), n_jobs=1)\n",
      "Got the result from ./ae_train/filtrations/4/HeightFiltrartion_0_-1/diagrams.npy\n",
      "Applying Scaler to persistence diagrams.\n",
      "Got the result from ./ae_train/filtrations/4/HeightFiltrartion_0_-1/features.npy\n",
      "Applying filtration 5/12: 4/HeightFiltrartion_0_1\n",
      "FiltrationExtractor: processing ae_train/filtrations/4/HeightFiltrartion_0_1, do_fit = False, filtration = HeightFiltration(direction=array([0, 1]), n_jobs=1)\n",
      "Got the result from ./ae_train/filtrations/4/HeightFiltrartion_0_1/diagrams.npy\n",
      "Applying Scaler to persistence diagrams.\n",
      "Got the result from ./ae_train/filtrations/4/HeightFiltrartion_0_1/features.npy\n",
      "Applying filtration 6/12: 4/HeightFiltrartion_1_-1\n",
      "FiltrationExtractor: processing ae_train/filtrations/4/HeightFiltrartion_1_-1, do_fit = False, filtration = HeightFiltration(direction=array([ 1, -1]), n_jobs=1)\n",
      "Got the result from ./ae_train/filtrations/4/HeightFiltrartion_1_-1/diagrams.npy\n",
      "Applying Scaler to persistence diagrams.\n",
      "Got the result from ./ae_train/filtrations/4/HeightFiltrartion_1_-1/features.npy\n",
      "Applying filtration 7/12: 4/HeightFiltrartion_1_0\n",
      "FiltrationExtractor: processing ae_train/filtrations/4/HeightFiltrartion_1_0, do_fit = False, filtration = HeightFiltration(direction=array([1, 0]), n_jobs=1)\n",
      "Got the result from ./ae_train/filtrations/4/HeightFiltrartion_1_0/diagrams.npy\n",
      "Applying Scaler to persistence diagrams.\n",
      "Got the result from ./ae_train/filtrations/4/HeightFiltrartion_1_0/features.npy\n",
      "Applying filtration 8/12: 4/HeightFiltrartion_1_1\n",
      "FiltrationExtractor: processing ae_train/filtrations/4/HeightFiltrartion_1_1, do_fit = False, filtration = HeightFiltration(direction=array([1, 1]), n_jobs=1)\n",
      "Got the result from ./ae_train/filtrations/4/HeightFiltrartion_1_1/diagrams.npy\n",
      "Applying Scaler to persistence diagrams.\n",
      "Got the result from ./ae_train/filtrations/4/HeightFiltrartion_1_1/features.npy\n",
      "Applying filtration 9/12: 4/RadialFiltration_8_8\n",
      "FiltrationExtractor: processing ae_train/filtrations/4/RadialFiltration_8_8, do_fit = False, filtration = RadialFiltration(center=array([8, 8]), n_jobs=1)\n",
      "Got the result from ./ae_train/filtrations/4/RadialFiltration_8_8/diagrams.npy\n",
      "Applying Scaler to persistence diagrams.\n",
      "Got the result from ./ae_train/filtrations/4/RadialFiltration_8_8/features.npy\n",
      "Applying filtration 10/12: 4/RadialFiltration_8_19\n",
      "FiltrationExtractor: processing ae_train/filtrations/4/RadialFiltration_8_19, do_fit = False, filtration = RadialFiltration(center=array([ 8, 19]), n_jobs=1)\n",
      "Got the result from ./ae_train/filtrations/4/RadialFiltration_8_19/diagrams.npy\n",
      "Applying Scaler to persistence diagrams.\n",
      "Got the result from ./ae_train/filtrations/4/RadialFiltration_8_19/features.npy\n",
      "Applying filtration 11/12: 4/RadialFiltration_19_8\n",
      "FiltrationExtractor: processing ae_train/filtrations/4/RadialFiltration_19_8, do_fit = False, filtration = RadialFiltration(center=array([19,  8]), n_jobs=1)\n",
      "Got the result from ./ae_train/filtrations/4/RadialFiltration_19_8/diagrams.npy\n",
      "Applying Scaler to persistence diagrams.\n",
      "Got the result from ./ae_train/filtrations/4/RadialFiltration_19_8/features.npy\n",
      "Applying filtration 12/12: 4/RadialFiltration_19_19\n",
      "FiltrationExtractor: processing ae_train/filtrations/4/RadialFiltration_19_19, do_fit = False, filtration = RadialFiltration(center=array([19, 19]), n_jobs=1)\n",
      "Got the result from ./ae_train/filtrations/4/RadialFiltration_19_19/diagrams.npy\n",
      "Applying Scaler to persistence diagrams.\n",
      "Got the result from ./ae_train/filtrations/4/RadialFiltration_19_19/features.npy\n",
      "Got the result from ./ae_train/geometry/features.npy\n",
      "Applying StandardScaler.\n",
      "Calculating inverted images\n",
      "GreyscaleExtractor: processing ae_test/greyscale, do_fit = False\n",
      "Saving the result to ./ae_test/greyscale/diagrams.npy\n",
      "Applying Scaler to persistence diagrams.\n"
     ]
    },
    {
     "name": "stderr",
     "output_type": "stream",
     "text": [
      "DiagramVectorizer: batch: 100%|██████████| 1/1 [00:00<00:00, 125.02it/s]\n"
     ]
    },
    {
     "name": "stdout",
     "output_type": "stream",
     "text": [
      "Saving the result to ./ae_test/greyscale/features.npy\n",
      "GreyscaleExtractor: processing ae_test/inverted_greyscale, do_fit = False\n",
      "Saving the result to ./ae_test/inverted_greyscale/diagrams.npy\n",
      "Applying Scaler to persistence diagrams.\n"
     ]
    },
    {
     "name": "stderr",
     "output_type": "stream",
     "text": [
      "DiagramVectorizer: batch: 100%|██████████| 1/1 [00:00<00:00, 120.25it/s]\n"
     ]
    },
    {
     "name": "stdout",
     "output_type": "stream",
     "text": [
      "Saving the result to ./ae_test/inverted_greyscale/features.npy\n",
      "Applying filtrations\n",
      "Applying filtration 1/12: 4/HeightFiltrartion_-1_-1\n",
      "FiltrationExtractor: processing ae_test/filtrations/4/HeightFiltrartion_-1_-1, do_fit = False, filtration = HeightFiltration(direction=array([-1, -1]), n_jobs=1)\n",
      "Saving the result to ./ae_test/filtrations/4/HeightFiltrartion_-1_-1/diagrams.npy\n",
      "Applying Scaler to persistence diagrams.\n"
     ]
    },
    {
     "name": "stderr",
     "output_type": "stream",
     "text": [
      "DiagramVectorizer: batch: 100%|██████████| 1/1 [00:00<00:00, 166.73it/s]\n"
     ]
    },
    {
     "name": "stdout",
     "output_type": "stream",
     "text": [
      "Saving the result to ./ae_test/filtrations/4/HeightFiltrartion_-1_-1/features.npy\n",
      "Applying filtration 2/12: 4/HeightFiltrartion_-1_0\n",
      "FiltrationExtractor: processing ae_test/filtrations/4/HeightFiltrartion_-1_0, do_fit = False, filtration = HeightFiltration(direction=array([-1,  0]), n_jobs=1)\n",
      "Saving the result to ./ae_test/filtrations/4/HeightFiltrartion_-1_0/diagrams.npy\n",
      "Applying Scaler to persistence diagrams.\n"
     ]
    },
    {
     "name": "stderr",
     "output_type": "stream",
     "text": [
      "DiagramVectorizer: batch: 100%|██████████| 1/1 [00:00<00:00, 166.72it/s]\n"
     ]
    },
    {
     "name": "stdout",
     "output_type": "stream",
     "text": [
      "Saving the result to ./ae_test/filtrations/4/HeightFiltrartion_-1_0/features.npy\n",
      "Applying filtration 3/12: 4/HeightFiltrartion_-1_1\n",
      "FiltrationExtractor: processing ae_test/filtrations/4/HeightFiltrartion_-1_1, do_fit = False, filtration = HeightFiltration(direction=array([-1,  1]), n_jobs=1)\n",
      "Saving the result to ./ae_test/filtrations/4/HeightFiltrartion_-1_1/diagrams.npy\n",
      "Applying Scaler to persistence diagrams.\n"
     ]
    },
    {
     "name": "stderr",
     "output_type": "stream",
     "text": [
      "DiagramVectorizer: batch: 100%|██████████| 1/1 [00:00<00:00, 166.69it/s]"
     ]
    },
    {
     "name": "stdout",
     "output_type": "stream",
     "text": [
      "Saving the result to ./ae_test/filtrations/4/HeightFiltrartion_-1_1/features.npy\n",
      "Applying filtration 4/12: 4/HeightFiltrartion_0_-1\n",
      "FiltrationExtractor: processing ae_test/filtrations/4/HeightFiltrartion_0_-1, do_fit = False, filtration = HeightFiltration(direction=array([ 0, -1]), n_jobs=1)\n",
      "Saving the result to ./ae_test/filtrations/4/HeightFiltrartion_0_-1/diagrams.npy\n"
     ]
    },
    {
     "name": "stderr",
     "output_type": "stream",
     "text": [
      "\n"
     ]
    },
    {
     "name": "stdout",
     "output_type": "stream",
     "text": [
      "Applying Scaler to persistence diagrams.\n"
     ]
    },
    {
     "name": "stderr",
     "output_type": "stream",
     "text": [
      "DiagramVectorizer: batch: 100%|██████████| 1/1 [00:00<00:00, 166.71it/s]"
     ]
    },
    {
     "name": "stdout",
     "output_type": "stream",
     "text": [
      "Saving the result to ./ae_test/filtrations/4/HeightFiltrartion_0_-1/features.npy\n",
      "Applying filtration 5/12: 4/HeightFiltrartion_0_1\n",
      "FiltrationExtractor: processing ae_test/filtrations/4/HeightFiltrartion_0_1, do_fit = False, filtration = HeightFiltration(direction=array([0, 1]), n_jobs=1)\n",
      "Saving the result to ./ae_test/filtrations/4/HeightFiltrartion_0_1/diagrams.npy\n"
     ]
    },
    {
     "name": "stderr",
     "output_type": "stream",
     "text": [
      "\n"
     ]
    },
    {
     "name": "stdout",
     "output_type": "stream",
     "text": [
      "Applying Scaler to persistence diagrams.\n"
     ]
    },
    {
     "name": "stderr",
     "output_type": "stream",
     "text": [
      "DiagramVectorizer: batch: 100%|██████████| 1/1 [00:00<00:00, 166.54it/s]"
     ]
    },
    {
     "name": "stdout",
     "output_type": "stream",
     "text": [
      "Saving the result to ./ae_test/filtrations/4/HeightFiltrartion_0_1/features.npy\n",
      "Applying filtration 6/12: 4/HeightFiltrartion_1_-1\n",
      "FiltrationExtractor: processing ae_test/filtrations/4/HeightFiltrartion_1_-1, do_fit = False, filtration = HeightFiltration(direction=array([ 1, -1]), n_jobs=1)\n"
     ]
    },
    {
     "name": "stderr",
     "output_type": "stream",
     "text": [
      "\n"
     ]
    },
    {
     "name": "stdout",
     "output_type": "stream",
     "text": [
      "Saving the result to ./ae_test/filtrations/4/HeightFiltrartion_1_-1/diagrams.npy\n",
      "Applying Scaler to persistence diagrams.\n"
     ]
    },
    {
     "name": "stderr",
     "output_type": "stream",
     "text": [
      "DiagramVectorizer: batch: 100%|██████████| 1/1 [00:00<00:00, 166.72it/s]"
     ]
    },
    {
     "name": "stdout",
     "output_type": "stream",
     "text": [
      "Saving the result to ./ae_test/filtrations/4/HeightFiltrartion_1_-1/features.npy\n",
      "Applying filtration 7/12: 4/HeightFiltrartion_1_0\n",
      "FiltrationExtractor: processing ae_test/filtrations/4/HeightFiltrartion_1_0, do_fit = False, filtration = HeightFiltration(direction=array([1, 0]), n_jobs=1)\n",
      "Saving the result to ./ae_test/filtrations/4/HeightFiltrartion_1_0/diagrams.npy\n"
     ]
    },
    {
     "name": "stderr",
     "output_type": "stream",
     "text": [
      "\n"
     ]
    },
    {
     "name": "stdout",
     "output_type": "stream",
     "text": [
      "Applying Scaler to persistence diagrams.\n"
     ]
    },
    {
     "name": "stderr",
     "output_type": "stream",
     "text": [
      "DiagramVectorizer: batch: 100%|██████████| 1/1 [00:00<00:00, 166.69it/s]\n"
     ]
    },
    {
     "name": "stdout",
     "output_type": "stream",
     "text": [
      "Saving the result to ./ae_test/filtrations/4/HeightFiltrartion_1_0/features.npy\n",
      "Applying filtration 8/12: 4/HeightFiltrartion_1_1\n",
      "FiltrationExtractor: processing ae_test/filtrations/4/HeightFiltrartion_1_1, do_fit = False, filtration = HeightFiltration(direction=array([1, 1]), n_jobs=1)\n",
      "Saving the result to ./ae_test/filtrations/4/HeightFiltrartion_1_1/diagrams.npy\n",
      "Applying Scaler to persistence diagrams.\n"
     ]
    },
    {
     "name": "stderr",
     "output_type": "stream",
     "text": [
      "DiagramVectorizer: batch: 100%|██████████| 1/1 [00:00<00:00, 142.88it/s]"
     ]
    },
    {
     "name": "stdout",
     "output_type": "stream",
     "text": [
      "Saving the result to ./ae_test/filtrations/4/HeightFiltrartion_1_1/features.npy\n",
      "Applying filtration 9/12: 4/RadialFiltration_8_8\n",
      "FiltrationExtractor: processing ae_test/filtrations/4/RadialFiltration_8_8, do_fit = False, filtration = RadialFiltration(center=array([8, 8]), n_jobs=1)\n"
     ]
    },
    {
     "name": "stderr",
     "output_type": "stream",
     "text": [
      "\n"
     ]
    },
    {
     "name": "stdout",
     "output_type": "stream",
     "text": [
      "Saving the result to ./ae_test/filtrations/4/RadialFiltration_8_8/diagrams.npy\n",
      "Applying Scaler to persistence diagrams.\n"
     ]
    },
    {
     "name": "stderr",
     "output_type": "stream",
     "text": [
      "DiagramVectorizer: batch: 100%|██████████| 1/1 [00:00<00:00, 166.75it/s]"
     ]
    },
    {
     "name": "stdout",
     "output_type": "stream",
     "text": [
      "Saving the result to ./ae_test/filtrations/4/RadialFiltration_8_8/features.npy\n",
      "Applying filtration 10/12: 4/RadialFiltration_8_19\n",
      "FiltrationExtractor: processing ae_test/filtrations/4/RadialFiltration_8_19, do_fit = False, filtration = RadialFiltration(center=array([ 8, 19]), n_jobs=1)\n"
     ]
    },
    {
     "name": "stderr",
     "output_type": "stream",
     "text": [
      "\n"
     ]
    },
    {
     "name": "stdout",
     "output_type": "stream",
     "text": [
      "Saving the result to ./ae_test/filtrations/4/RadialFiltration_8_19/diagrams.npy\n",
      "Applying Scaler to persistence diagrams.\n"
     ]
    },
    {
     "name": "stderr",
     "output_type": "stream",
     "text": [
      "DiagramVectorizer: batch: 100%|██████████| 1/1 [00:00<00:00, 166.69it/s]"
     ]
    },
    {
     "name": "stdout",
     "output_type": "stream",
     "text": [
      "Saving the result to ./ae_test/filtrations/4/RadialFiltration_8_19/features.npy\n",
      "Applying filtration 11/12: 4/RadialFiltration_19_8\n",
      "FiltrationExtractor: processing ae_test/filtrations/4/RadialFiltration_19_8, do_fit = False, filtration = RadialFiltration(center=array([19,  8]), n_jobs=1)\n"
     ]
    },
    {
     "name": "stderr",
     "output_type": "stream",
     "text": [
      "\n"
     ]
    },
    {
     "name": "stdout",
     "output_type": "stream",
     "text": [
      "Saving the result to ./ae_test/filtrations/4/RadialFiltration_19_8/diagrams.npy\n",
      "Applying Scaler to persistence diagrams.\n"
     ]
    },
    {
     "name": "stderr",
     "output_type": "stream",
     "text": [
      "DiagramVectorizer: batch: 100%|██████████| 1/1 [00:00<00:00, 142.87it/s]"
     ]
    },
    {
     "name": "stdout",
     "output_type": "stream",
     "text": [
      "Saving the result to ./ae_test/filtrations/4/RadialFiltration_19_8/features.npy\n",
      "Applying filtration 12/12: 4/RadialFiltration_19_19\n",
      "FiltrationExtractor: processing ae_test/filtrations/4/RadialFiltration_19_19, do_fit = False, filtration = RadialFiltration(center=array([19, 19]), n_jobs=1)\n"
     ]
    },
    {
     "name": "stderr",
     "output_type": "stream",
     "text": [
      "\n"
     ]
    },
    {
     "name": "stdout",
     "output_type": "stream",
     "text": [
      "Saving the result to ./ae_test/filtrations/4/RadialFiltration_19_19/diagrams.npy\n",
      "Applying Scaler to persistence diagrams.\n"
     ]
    },
    {
     "name": "stderr",
     "output_type": "stream",
     "text": [
      "DiagramVectorizer: batch: 100%|██████████| 1/1 [00:00<00:00, 163.92it/s]\n"
     ]
    },
    {
     "name": "stdout",
     "output_type": "stream",
     "text": [
      "Saving the result to ./ae_test/filtrations/4/RadialFiltration_19_19/features.npy\n"
     ]
    },
    {
     "name": "stderr",
     "output_type": "stream",
     "text": [
      "GrayGeometryExtractor: 100%|██████████| 75/75 [00:03<00:00, 19.80it/s]"
     ]
    },
    {
     "name": "stdout",
     "output_type": "stream",
     "text": [
      "Saving the result to ./ae_test/geometry/features.npy\n",
      "Applying StandardScaler.\n"
     ]
    },
    {
     "name": "stderr",
     "output_type": "stream",
     "text": [
      "\n"
     ]
    }
   ],
   "source": [
    "import cvtda.topology\n",
    "extractor = cvtda.topology.FeatureExtractor(\n",
    "    n_jobs = 1,\n",
    "    binarizer_thresholds = [ 0.4 ],\n",
    "    num_radial_filtrations = 2\n",
    ")\n",
    "train_features = extractor.fit_transform(train_images, \"ae_train\")\n",
    "test_features = extractor.transform(test_images, \"ae_test\")"
   ]
  },
  {
   "cell_type": "code",
   "execution_count": 3,
   "metadata": {},
   "outputs": [
    {
     "name": "stdout",
     "output_type": "stream",
     "text": [
      "Calculating inverted images\n",
      "Got the result from ./ae_train/greyscale/diagrams.npy\n",
      "Applying Scaler to persistence diagrams.\n",
      "Got the result from ./ae_train/greyscale/diagrams.npy\n",
      "Applying Scaler to persistence diagrams.\n",
      "Got the result from ./ae_train/inverted_greyscale/diagrams.npy\n",
      "Applying Scaler to persistence diagrams.\n",
      "Got the result from ./ae_train/inverted_greyscale/diagrams.npy\n",
      "Applying Scaler to persistence diagrams.\n",
      "Fitting filtrations\n",
      "Fitting filtration 1/12: 4/HeightFiltrartion_-1_-1\n",
      "Got the result from ./ae_train/filtrations/4/HeightFiltrartion_-1_-1/diagrams.npy\n",
      "Applying Scaler to persistence diagrams.\n",
      "Fitting filtration 2/12: 4/HeightFiltrartion_-1_0\n",
      "Got the result from ./ae_train/filtrations/4/HeightFiltrartion_-1_0/diagrams.npy\n",
      "Applying Scaler to persistence diagrams.\n",
      "Fitting filtration 3/12: 4/HeightFiltrartion_-1_1\n",
      "Got the result from ./ae_train/filtrations/4/HeightFiltrartion_-1_1/diagrams.npy\n",
      "Applying Scaler to persistence diagrams.\n",
      "Fitting filtration 4/12: 4/HeightFiltrartion_0_-1\n",
      "Got the result from ./ae_train/filtrations/4/HeightFiltrartion_0_-1/diagrams.npy\n",
      "Applying Scaler to persistence diagrams.\n",
      "Fitting filtration 5/12: 4/HeightFiltrartion_0_1\n",
      "Got the result from ./ae_train/filtrations/4/HeightFiltrartion_0_1/diagrams.npy\n",
      "Applying Scaler to persistence diagrams.\n",
      "Fitting filtration 6/12: 4/HeightFiltrartion_1_-1\n",
      "Got the result from ./ae_train/filtrations/4/HeightFiltrartion_1_-1/diagrams.npy\n",
      "Applying Scaler to persistence diagrams.\n",
      "Fitting filtration 7/12: 4/HeightFiltrartion_1_0\n",
      "Got the result from ./ae_train/filtrations/4/HeightFiltrartion_1_0/diagrams.npy\n",
      "Applying Scaler to persistence diagrams.\n",
      "Fitting filtration 8/12: 4/HeightFiltrartion_1_1\n",
      "Got the result from ./ae_train/filtrations/4/HeightFiltrartion_1_1/diagrams.npy\n",
      "Applying Scaler to persistence diagrams.\n",
      "Fitting filtration 9/12: 4/RadialFiltration_8_8\n",
      "Got the result from ./ae_train/filtrations/4/RadialFiltration_8_8/diagrams.npy\n",
      "Applying Scaler to persistence diagrams.\n",
      "Fitting filtration 10/12: 4/RadialFiltration_8_19\n",
      "Got the result from ./ae_train/filtrations/4/RadialFiltration_8_19/diagrams.npy\n",
      "Applying Scaler to persistence diagrams.\n",
      "Fitting filtration 11/12: 4/RadialFiltration_19_8\n",
      "Got the result from ./ae_train/filtrations/4/RadialFiltration_19_8/diagrams.npy\n",
      "Applying Scaler to persistence diagrams.\n",
      "Fitting filtration 12/12: 4/RadialFiltration_19_19\n",
      "Got the result from ./ae_train/filtrations/4/RadialFiltration_19_19/diagrams.npy\n",
      "Applying Scaler to persistence diagrams.\n",
      "Applying filtrations\n",
      "Applying filtration 1/12: 4/HeightFiltrartion_-1_-1\n",
      "Got the result from ./ae_train/filtrations/4/HeightFiltrartion_-1_-1/diagrams.npy\n",
      "Applying Scaler to persistence diagrams.\n",
      "Applying filtration 2/12: 4/HeightFiltrartion_-1_0\n",
      "Got the result from ./ae_train/filtrations/4/HeightFiltrartion_-1_0/diagrams.npy\n",
      "Applying Scaler to persistence diagrams.\n",
      "Applying filtration 3/12: 4/HeightFiltrartion_-1_1\n",
      "Got the result from ./ae_train/filtrations/4/HeightFiltrartion_-1_1/diagrams.npy\n",
      "Applying Scaler to persistence diagrams.\n",
      "Applying filtration 4/12: 4/HeightFiltrartion_0_-1\n",
      "Got the result from ./ae_train/filtrations/4/HeightFiltrartion_0_-1/diagrams.npy\n",
      "Applying Scaler to persistence diagrams.\n",
      "Applying filtration 5/12: 4/HeightFiltrartion_0_1\n",
      "Got the result from ./ae_train/filtrations/4/HeightFiltrartion_0_1/diagrams.npy\n",
      "Applying Scaler to persistence diagrams.\n",
      "Applying filtration 6/12: 4/HeightFiltrartion_1_-1\n",
      "Got the result from ./ae_train/filtrations/4/HeightFiltrartion_1_-1/diagrams.npy\n",
      "Applying Scaler to persistence diagrams.\n",
      "Applying filtration 7/12: 4/HeightFiltrartion_1_0\n",
      "Got the result from ./ae_train/filtrations/4/HeightFiltrartion_1_0/diagrams.npy\n",
      "Applying Scaler to persistence diagrams.\n",
      "Applying filtration 8/12: 4/HeightFiltrartion_1_1\n",
      "Got the result from ./ae_train/filtrations/4/HeightFiltrartion_1_1/diagrams.npy\n",
      "Applying Scaler to persistence diagrams.\n",
      "Applying filtration 9/12: 4/RadialFiltration_8_8\n",
      "Got the result from ./ae_train/filtrations/4/RadialFiltration_8_8/diagrams.npy\n",
      "Applying Scaler to persistence diagrams.\n",
      "Applying filtration 10/12: 4/RadialFiltration_8_19\n",
      "Got the result from ./ae_train/filtrations/4/RadialFiltration_8_19/diagrams.npy\n",
      "Applying Scaler to persistence diagrams.\n",
      "Applying filtration 11/12: 4/RadialFiltration_19_8\n",
      "Got the result from ./ae_train/filtrations/4/RadialFiltration_19_8/diagrams.npy\n",
      "Applying Scaler to persistence diagrams.\n",
      "Applying filtration 12/12: 4/RadialFiltration_19_19\n",
      "Got the result from ./ae_train/filtrations/4/RadialFiltration_19_19/diagrams.npy\n",
      "Applying Scaler to persistence diagrams.\n",
      "Diagrams requested. Returning diagrams.\n",
      "Calculating inverted images\n",
      "Got the result from ./ae_train/greyscale/diagrams.npy\n",
      "Applying Scaler to persistence diagrams.\n",
      "Got the result from ./ae_train/inverted_greyscale/diagrams.npy\n",
      "Applying Scaler to persistence diagrams.\n",
      "Applying filtrations\n",
      "Applying filtration 1/12: 4/HeightFiltrartion_-1_-1\n",
      "Got the result from ./ae_train/filtrations/4/HeightFiltrartion_-1_-1/diagrams.npy\n",
      "Applying Scaler to persistence diagrams.\n",
      "Applying filtration 2/12: 4/HeightFiltrartion_-1_0\n",
      "Got the result from ./ae_train/filtrations/4/HeightFiltrartion_-1_0/diagrams.npy\n",
      "Applying Scaler to persistence diagrams.\n",
      "Applying filtration 3/12: 4/HeightFiltrartion_-1_1\n",
      "Got the result from ./ae_train/filtrations/4/HeightFiltrartion_-1_1/diagrams.npy\n",
      "Applying Scaler to persistence diagrams.\n",
      "Applying filtration 4/12: 4/HeightFiltrartion_0_-1\n",
      "Got the result from ./ae_train/filtrations/4/HeightFiltrartion_0_-1/diagrams.npy\n",
      "Applying Scaler to persistence diagrams.\n",
      "Applying filtration 5/12: 4/HeightFiltrartion_0_1\n",
      "Got the result from ./ae_train/filtrations/4/HeightFiltrartion_0_1/diagrams.npy\n",
      "Applying Scaler to persistence diagrams.\n",
      "Applying filtration 6/12: 4/HeightFiltrartion_1_-1\n",
      "Got the result from ./ae_train/filtrations/4/HeightFiltrartion_1_-1/diagrams.npy\n",
      "Applying Scaler to persistence diagrams.\n",
      "Applying filtration 7/12: 4/HeightFiltrartion_1_0\n",
      "Got the result from ./ae_train/filtrations/4/HeightFiltrartion_1_0/diagrams.npy\n",
      "Applying Scaler to persistence diagrams.\n",
      "Applying filtration 8/12: 4/HeightFiltrartion_1_1\n",
      "Got the result from ./ae_train/filtrations/4/HeightFiltrartion_1_1/diagrams.npy\n",
      "Applying Scaler to persistence diagrams.\n",
      "Applying filtration 9/12: 4/RadialFiltration_8_8\n",
      "Got the result from ./ae_train/filtrations/4/RadialFiltration_8_8/diagrams.npy\n",
      "Applying Scaler to persistence diagrams.\n",
      "Applying filtration 10/12: 4/RadialFiltration_8_19\n",
      "Got the result from ./ae_train/filtrations/4/RadialFiltration_8_19/diagrams.npy\n",
      "Applying Scaler to persistence diagrams.\n",
      "Applying filtration 11/12: 4/RadialFiltration_19_8\n",
      "Got the result from ./ae_train/filtrations/4/RadialFiltration_19_8/diagrams.npy\n",
      "Applying Scaler to persistence diagrams.\n",
      "Applying filtration 12/12: 4/RadialFiltration_19_19\n",
      "Got the result from ./ae_train/filtrations/4/RadialFiltration_19_19/diagrams.npy\n",
      "Applying Scaler to persistence diagrams.\n",
      "Diagrams requested. Returning diagrams.\n",
      "Calculating inverted images\n",
      "Got the result from ./ae_test/greyscale/diagrams.npy\n",
      "Applying Scaler to persistence diagrams.\n",
      "Got the result from ./ae_test/inverted_greyscale/diagrams.npy\n",
      "Applying Scaler to persistence diagrams.\n",
      "Applying filtrations\n",
      "Applying filtration 1/12: 4/HeightFiltrartion_-1_-1\n",
      "Got the result from ./ae_test/filtrations/4/HeightFiltrartion_-1_-1/diagrams.npy\n",
      "Applying Scaler to persistence diagrams.\n",
      "Applying filtration 2/12: 4/HeightFiltrartion_-1_0\n",
      "Got the result from ./ae_test/filtrations/4/HeightFiltrartion_-1_0/diagrams.npy\n",
      "Applying Scaler to persistence diagrams.\n",
      "Applying filtration 3/12: 4/HeightFiltrartion_-1_1\n",
      "Got the result from ./ae_test/filtrations/4/HeightFiltrartion_-1_1/diagrams.npy\n",
      "Applying Scaler to persistence diagrams.\n",
      "Applying filtration 4/12: 4/HeightFiltrartion_0_-1\n",
      "Got the result from ./ae_test/filtrations/4/HeightFiltrartion_0_-1/diagrams.npy\n",
      "Applying Scaler to persistence diagrams.\n",
      "Applying filtration 5/12: 4/HeightFiltrartion_0_1\n",
      "Got the result from ./ae_test/filtrations/4/HeightFiltrartion_0_1/diagrams.npy\n",
      "Applying Scaler to persistence diagrams.\n",
      "Applying filtration 6/12: 4/HeightFiltrartion_1_-1\n",
      "Got the result from ./ae_test/filtrations/4/HeightFiltrartion_1_-1/diagrams.npy\n",
      "Applying Scaler to persistence diagrams.\n",
      "Applying filtration 7/12: 4/HeightFiltrartion_1_0\n",
      "Got the result from ./ae_test/filtrations/4/HeightFiltrartion_1_0/diagrams.npy\n",
      "Applying Scaler to persistence diagrams.\n",
      "Applying filtration 8/12: 4/HeightFiltrartion_1_1\n",
      "Got the result from ./ae_test/filtrations/4/HeightFiltrartion_1_1/diagrams.npy\n",
      "Applying Scaler to persistence diagrams.\n",
      "Applying filtration 9/12: 4/RadialFiltration_8_8\n",
      "Got the result from ./ae_test/filtrations/4/RadialFiltration_8_8/diagrams.npy\n",
      "Applying Scaler to persistence diagrams.\n",
      "Applying filtration 10/12: 4/RadialFiltration_8_19\n",
      "Got the result from ./ae_test/filtrations/4/RadialFiltration_8_19/diagrams.npy\n",
      "Applying Scaler to persistence diagrams.\n",
      "Applying filtration 11/12: 4/RadialFiltration_19_8\n",
      "Got the result from ./ae_test/filtrations/4/RadialFiltration_19_8/diagrams.npy\n",
      "Applying Scaler to persistence diagrams.\n",
      "Applying filtration 12/12: 4/RadialFiltration_19_19\n",
      "Got the result from ./ae_test/filtrations/4/RadialFiltration_19_19/diagrams.npy\n",
      "Applying Scaler to persistence diagrams.\n",
      "Diagrams requested. Returning diagrams.\n"
     ]
    }
   ],
   "source": [
    "extractor = cvtda.topology.FeatureExtractor(\n",
    "    n_jobs = 1,\n",
    "    return_diagrams = True,\n",
    "    only_get_from_dump = True,\n",
    "    binarizer_thresholds = [ 0.4 ],\n",
    "    num_radial_filtrations = 2\n",
    ")\n",
    "train_diagrams = extractor.fit_transform(train_images, \"ae_train\")\n",
    "test_diagrams = extractor.transform(test_images, \"ae_test\")"
   ]
  },
  {
   "cell_type": "code",
   "execution_count": 4,
   "metadata": {},
   "outputs": [
    {
     "name": "stderr",
     "output_type": "stream",
     "text": [
      "Dataset: processing diagrams: 100%|██████████| 14/14 [00:00<00:00, 2171.69it/s]\n"
     ]
    },
    {
     "name": "stdout",
     "output_type": "stream",
     "text": [
      "Constructed a dataset of 100 images of shape torch.Size([1, 28, 28]) with 28 diagrams and 3513 features\n"
     ]
    },
    {
     "name": "stderr",
     "output_type": "stream",
     "text": [
      "Dataset: processing diagrams: 100%|██████████| 14/14 [00:00<00:00, 7000.51it/s]\n"
     ]
    },
    {
     "name": "stdout",
     "output_type": "stream",
     "text": [
      "Constructed a dataset of 75 images of shape torch.Size([1, 28, 28]) with 28 diagrams and 3513 features\n",
      "Trying features - <cvtda.autoencoder.Autoencoder.Autoencoder object at 0x00000228AB47D720>\n"
     ]
    },
    {
     "name": "stderr",
     "output_type": "stream",
     "text": [
      "d:\\Programs\\Programming\\Python\\lib\\site-packages\\torch\\nn\\init.py:511: UserWarning: Initializing zero-element tensors is a no-op\n",
      "  warnings.warn(\"Initializing zero-element tensors is a no-op\")\n",
      "d:\\Programs\\Programming\\Python\\lib\\site-packages\\torch\\nn\\modules\\instancenorm.py:115: UserWarning: input's size at dim=0 does not match num_features. You can silence this warning by not passing in num_features, which is not used because affine=False\n",
      "  warnings.warn(\n"
     ]
    },
    {
     "name": "stdout",
     "output_type": "stream",
     "text": [
      "Encoder Base parameters: 3599360\n",
      "Decoder parameters: 1745857\n"
     ]
    },
    {
     "name": "stderr",
     "output_type": "stream",
     "text": [
      "Epoch 0: 100%|██████████| 1/1 [00:00<00:00, 11.69it/s]\n"
     ]
    },
    {
     "name": "stdout",
     "output_type": "stream",
     "text": [
      "Epoch 0: {'loss': 0.2005593329668045, 'lr': 0.010000000000000002, 'MAE': 252.9602, 'MSE': 93.57868}\n"
     ]
    },
    {
     "name": "stderr",
     "output_type": "stream",
     "text": [
      "Epoch 1: 100%|██████████| 1/1 [00:00<00:00, 51.26it/s]\n"
     ]
    },
    {
     "name": "stdout",
     "output_type": "stream",
     "text": [
      "Epoch 1: {'loss': 0.12100102752447128, 'lr': 0.001, 'MAE': 240.51024, 'MSE': 85.19901}\n"
     ]
    },
    {
     "name": "stderr",
     "output_type": "stream",
     "text": [
      "Epoch 2: 100%|██████████| 1/1 [00:00<00:00, 55.56it/s]\n"
     ]
    },
    {
     "name": "stdout",
     "output_type": "stream",
     "text": [
      "Epoch 2: {'loss': 0.1096266359090805, 'lr': 0.001, 'MAE': 229.95982, 'MSE': 79.21659}\n"
     ]
    },
    {
     "name": "stderr",
     "output_type": "stream",
     "text": [
      "Epoch 3: 100%|██████████| 1/1 [00:00<00:00, 55.56it/s]"
     ]
    },
    {
     "name": "stdout",
     "output_type": "stream",
     "text": [
      "Epoch 3:"
     ]
    },
    {
     "name": "stderr",
     "output_type": "stream",
     "text": [
      "\n"
     ]
    },
    {
     "name": "stdout",
     "output_type": "stream",
     "text": [
      " {'loss': 0.10139206051826477, 'lr': 0.0001, 'MAE': 228.87044, 'MSE': 78.61681}\n"
     ]
    },
    {
     "name": "stderr",
     "output_type": "stream",
     "text": [
      "Epoch 4: 100%|██████████| 1/1 [00:00<00:00, 62.49it/s]\n"
     ]
    },
    {
     "name": "stdout",
     "output_type": "stream",
     "text": [
      "Epoch 4: {'loss': 0.10054069757461548, 'lr': 1e-05, 'MAE': 228.7513, 'MSE': 78.54987}\n"
     ]
    },
    {
     "name": "stderr",
     "output_type": "stream",
     "text": [
      "Epoch 5: 100%|██████████| 1/1 [00:00<00:00, 58.83it/s]\n"
     ]
    },
    {
     "name": "stdout",
     "output_type": "stream",
     "text": [
      "Epoch 5: {'loss': 0.10044392198324203, 'lr': 1e-05, 'MAE': 228.62471, 'MSE': 78.477806}\n",
      "{'model': 'Топологические признаки', 'MAE': 228.62472777766106, 'MSE': 78.47780945576324}\n",
      "Trying images - <cvtda.autoencoder.Autoencoder.Autoencoder object at 0x00000228AB47CEB0>\n",
      "Encoder Base parameters: 25600960\n",
      "Decoder parameters: 1745857\n"
     ]
    },
    {
     "name": "stderr",
     "output_type": "stream",
     "text": [
      "Epoch 0: 100%|██████████| 1/1 [00:00<00:00,  6.57it/s]"
     ]
    },
    {
     "name": "stdout",
     "output_type": "stream",
     "text": [
      "Epoch 0: {'loss': 0.23363271355628967, 'lr': 0.001, 'MAE': 350.20737, 'MSE': 165.91989}\n"
     ]
    },
    {
     "name": "stderr",
     "output_type": "stream",
     "text": [
      "\n",
      "Epoch 1: 100%|██████████| 1/1 [00:00<00:00,  6.02it/s]\n"
     ]
    },
    {
     "name": "stdout",
     "output_type": "stream",
     "text": [
      "Epoch 1: {'loss': 0.2109999805688858, 'lr': 0.0001, 'MAE': 345.33585, 'MSE': 161.23369}\n"
     ]
    },
    {
     "name": "stderr",
     "output_type": "stream",
     "text": [
      "Epoch 2: 100%|██████████| 1/1 [00:00<00:00,  7.48it/s]\n"
     ]
    },
    {
     "name": "stdout",
     "output_type": "stream",
     "text": [
      "Epoch 2: {'loss': 0.20377351343631744, 'lr': 1e-05, 'MAE': 344.74615, 'MSE': 160.68266}\n",
      "{'model': 'ResNet50 – базовая модель', 'MAE': 344.74613083437924, 'MSE': 160.68268226413488}\n",
      "Trying features_images - <cvtda.autoencoder.Autoencoder.Autoencoder object at 0x00000228AB44FC10>\n",
      "Encoder Base parameters: 29199296\n",
      "Decoder parameters: 1745857\n"
     ]
    },
    {
     "name": "stderr",
     "output_type": "stream",
     "text": [
      "Epoch 0: 100%|██████████| 1/1 [00:00<00:00,  7.13it/s]\n"
     ]
    },
    {
     "name": "stdout",
     "output_type": "stream",
     "text": [
      "Epoch 0: {'loss': 0.2324134111404419, 'lr': 0.001, 'MAE': 350.54135, 'MSE': 166.12361}\n"
     ]
    },
    {
     "name": "stderr",
     "output_type": "stream",
     "text": [
      "Epoch 1: 100%|██████████| 1/1 [00:00<00:00,  7.27it/s]\n"
     ]
    },
    {
     "name": "stdout",
     "output_type": "stream",
     "text": [
      "Epoch 1: {'loss': 0.2082117646932602, 'lr': 0.0001, 'MAE': 348.30426, 'MSE': 163.96228}\n"
     ]
    },
    {
     "name": "stderr",
     "output_type": "stream",
     "text": [
      "Epoch 2: 100%|██████████| 1/1 [00:00<00:00,  7.33it/s]\n"
     ]
    },
    {
     "name": "stdout",
     "output_type": "stream",
     "text": [
      "Epoch 2: {'loss': 0.20179198682308197, 'lr': 1e-05, 'MAE': 347.61163, 'MSE': 163.29433}\n",
      "{'model': 'Комбинированная нейронная сеть', 'MAE': 347.6116223218449, 'MSE': 163.29432419926943}\n",
      "Trying diagrams - <cvtda.autoencoder.Autoencoder.Autoencoder object at 0x00000228AB44FCA0>\n",
      "Encoder Base parameters: 1843200\n",
      "Decoder parameters: 1745857\n",
      "{'model': 'Обучаемая векторизация диаграмм', 'MAE': 314.67983163269867, 'MSE': 137.07618304937205}\n"
     ]
    },
    {
     "data": {
      "text/html": [
       "<div>\n",
       "<style scoped>\n",
       "    .dataframe tbody tr th:only-of-type {\n",
       "        vertical-align: middle;\n",
       "    }\n",
       "\n",
       "    .dataframe tbody tr th {\n",
       "        vertical-align: top;\n",
       "    }\n",
       "\n",
       "    .dataframe thead th {\n",
       "        text-align: right;\n",
       "    }\n",
       "</style>\n",
       "<table border=\"1\" class=\"dataframe\">\n",
       "  <thead>\n",
       "    <tr style=\"text-align: right;\">\n",
       "      <th></th>\n",
       "      <th>model</th>\n",
       "      <th>MAE</th>\n",
       "      <th>MSE</th>\n",
       "    </tr>\n",
       "  </thead>\n",
       "  <tbody>\n",
       "    <tr>\n",
       "      <th>0</th>\n",
       "      <td>Топологические признаки</td>\n",
       "      <td>228.624728</td>\n",
       "      <td>78.477809</td>\n",
       "    </tr>\n",
       "    <tr>\n",
       "      <th>1</th>\n",
       "      <td>ResNet50 – базовая модель</td>\n",
       "      <td>344.746131</td>\n",
       "      <td>160.682682</td>\n",
       "    </tr>\n",
       "    <tr>\n",
       "      <th>2</th>\n",
       "      <td>Комбинированная нейронная сеть</td>\n",
       "      <td>347.611622</td>\n",
       "      <td>163.294324</td>\n",
       "    </tr>\n",
       "    <tr>\n",
       "      <th>3</th>\n",
       "      <td>Обучаемая векторизация диаграмм</td>\n",
       "      <td>314.679832</td>\n",
       "      <td>137.076183</td>\n",
       "    </tr>\n",
       "  </tbody>\n",
       "</table>\n",
       "</div>"
      ],
      "text/plain": [
       "                             model         MAE         MSE\n",
       "0          Топологические признаки  228.624728   78.477809\n",
       "1        ResNet50 – базовая модель  344.746131  160.682682\n",
       "2   Комбинированная нейронная сеть  347.611622  163.294324\n",
       "3  Обучаемая векторизация диаграмм  314.679832  137.076183"
      ]
     },
     "execution_count": 4,
     "metadata": {},
     "output_type": "execute_result"
    }
   ],
   "source": [
    "import cvtda.autoencoder\n",
    "cvtda.autoencoder.try_autoencoders(\n",
    "    train_images, train_features, train_diagrams,\n",
    "    test_images, test_features, test_diagrams,\n",
    "    nn_epochs = 3\n",
    ")"
   ]
  }
 ],
 "metadata": {
  "kernelspec": {
   "display_name": "Python 3",
   "language": "python",
   "name": "python3"
  },
  "language_info": {
   "codemirror_mode": {
    "name": "ipython",
    "version": 3
   },
   "file_extension": ".py",
   "mimetype": "text/x-python",
   "name": "python",
   "nbconvert_exporter": "python",
   "pygments_lexer": "ipython3",
   "version": "3.10.11"
  }
 },
 "nbformat": 4,
 "nbformat_minor": 2
}
