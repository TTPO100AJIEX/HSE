{
 "cells": [
  {
   "cell_type": "code",
   "execution_count": 1,
   "id": "1a29ef3e",
   "metadata": {},
   "outputs": [],
   "source": [
    "import numpy\n",
    "import torchvision\n",
    "\n",
    "train = torchvision.datasets.MNIST('mnist', train = True)\n",
    "train_images = numpy.array([ item[0] for item in train ])[:100] / 255\n",
    "train_labels = numpy.array([ item[1] for item in train ])[:100]\n",
    "\n",
    "test = torchvision.datasets.MNIST('mnist', train = False)\n",
    "test_images = numpy.array([ item[0] for item in test ])[:75] / 255\n",
    "test_labels = numpy.array([ item[1] for item in test ])[:75]"
   ]
  },
  {
   "cell_type": "code",
   "execution_count": 2,
   "id": "1023912d",
   "metadata": {},
   "outputs": [
    {
     "name": "stdout",
     "output_type": "stream",
     "text": [
      "Calculating inverted images\n",
      "GreyscaleExtractor: processing None, do_fit = True\n",
      "Applying Scaler to persistence diagrams.\n",
      "DiagramVectorizer: fitting complete\n"
     ]
    },
    {
     "name": "stderr",
     "output_type": "stream",
     "text": [
      "DiagramVectorizer: batch: 100%|██████████| 1/1 [00:00<00:00, 68.91it/s]\n"
     ]
    },
    {
     "name": "stdout",
     "output_type": "stream",
     "text": [
      "GreyscaleExtractor: processing None, do_fit = False\n",
      "Applying Scaler to persistence diagrams.\n"
     ]
    },
    {
     "name": "stderr",
     "output_type": "stream",
     "text": [
      "DiagramVectorizer: batch: 100%|██████████| 1/1 [00:00<00:00, 71.41it/s]\n"
     ]
    },
    {
     "name": "stdout",
     "output_type": "stream",
     "text": [
      "GreyscaleExtractor: processing None, do_fit = True\n",
      "Applying Scaler to persistence diagrams.\n",
      "DiagramVectorizer: fitting complete\n"
     ]
    },
    {
     "name": "stderr",
     "output_type": "stream",
     "text": [
      "DiagramVectorizer: batch: 100%|██████████| 1/1 [00:00<00:00, 142.76it/s]\n"
     ]
    },
    {
     "name": "stdout",
     "output_type": "stream",
     "text": [
      "GreyscaleExtractor: processing None, do_fit = False\n",
      "Applying Scaler to persistence diagrams.\n"
     ]
    },
    {
     "name": "stderr",
     "output_type": "stream",
     "text": [
      "DiagramVectorizer: batch: 100%|██████████| 1/1 [00:00<00:00, 142.89it/s]\n"
     ]
    },
    {
     "name": "stdout",
     "output_type": "stream",
     "text": [
      "Fitting filtrations\n",
      "Fitting filtration 1/12: 4/HeightFiltrartion_-1_-1\n",
      "FiltrationExtractor: processing None, do_fit = True, filtration = HeightFiltration(direction=array([-1, -1]), n_jobs=1)\n",
      "Applying Scaler to persistence diagrams.\n",
      "DiagramVectorizer: fitting complete\n"
     ]
    },
    {
     "name": "stderr",
     "output_type": "stream",
     "text": [
      "DiagramVectorizer: batch: 100%|██████████| 1/1 [00:00<00:00, 142.90it/s]\n"
     ]
    },
    {
     "name": "stdout",
     "output_type": "stream",
     "text": [
      "Fitting filtration 2/12: 4/HeightFiltrartion_-1_0\n",
      "FiltrationExtractor: processing None, do_fit = True, filtration = HeightFiltration(direction=array([-1,  0]), n_jobs=1)\n",
      "Applying Scaler to persistence diagrams.\n",
      "DiagramVectorizer: fitting complete\n"
     ]
    },
    {
     "name": "stderr",
     "output_type": "stream",
     "text": [
      "DiagramVectorizer: batch: 100%|██████████| 1/1 [00:00<00:00, 125.76it/s]\n"
     ]
    },
    {
     "name": "stdout",
     "output_type": "stream",
     "text": [
      "Fitting filtration 3/12: 4/HeightFiltrartion_-1_1\n",
      "FiltrationExtractor: processing None, do_fit = True, filtration = HeightFiltration(direction=array([-1,  1]), n_jobs=1)\n",
      "Applying Scaler to persistence diagrams.\n",
      "DiagramVectorizer: fitting complete\n"
     ]
    },
    {
     "name": "stderr",
     "output_type": "stream",
     "text": [
      "DiagramVectorizer: batch: 100%|██████████| 1/1 [00:00<00:00, 142.88it/s]\n"
     ]
    },
    {
     "name": "stdout",
     "output_type": "stream",
     "text": [
      "Fitting filtration 4/12: 4/HeightFiltrartion_0_-1\n",
      "FiltrationExtractor: processing None, do_fit = True, filtration = HeightFiltration(direction=array([ 0, -1]), n_jobs=1)\n",
      "Applying Scaler to persistence diagrams.\n",
      "DiagramVectorizer: fitting complete\n"
     ]
    },
    {
     "name": "stderr",
     "output_type": "stream",
     "text": [
      "DiagramVectorizer: batch: 100%|██████████| 1/1 [00:00<00:00, 142.89it/s]\n"
     ]
    },
    {
     "name": "stdout",
     "output_type": "stream",
     "text": [
      "Fitting filtration 5/12: 4/HeightFiltrartion_0_1\n",
      "FiltrationExtractor: processing None, do_fit = True, filtration = HeightFiltration(direction=array([0, 1]), n_jobs=1)\n",
      "Applying Scaler to persistence diagrams.\n",
      "DiagramVectorizer: fitting complete\n"
     ]
    },
    {
     "name": "stderr",
     "output_type": "stream",
     "text": [
      "DiagramVectorizer: batch: 100%|██████████| 1/1 [00:00<00:00, 143.05it/s]\n"
     ]
    },
    {
     "name": "stdout",
     "output_type": "stream",
     "text": [
      "Fitting filtration 6/12: 4/HeightFiltrartion_1_-1\n",
      "FiltrationExtractor: processing None, do_fit = True, filtration = HeightFiltration(direction=array([ 1, -1]), n_jobs=1)\n",
      "Applying Scaler to persistence diagrams.\n",
      "DiagramVectorizer: fitting complete\n"
     ]
    },
    {
     "name": "stderr",
     "output_type": "stream",
     "text": [
      "DiagramVectorizer: batch: 100%|██████████| 1/1 [00:00<00:00, 200.05it/s]\n"
     ]
    },
    {
     "name": "stdout",
     "output_type": "stream",
     "text": [
      "Fitting filtration 7/12: 4/HeightFiltrartion_1_0\n",
      "FiltrationExtractor: processing None, do_fit = True, filtration = HeightFiltration(direction=array([1, 0]), n_jobs=1)\n",
      "Applying Scaler to persistence diagrams.\n",
      "DiagramVectorizer: fitting complete\n"
     ]
    },
    {
     "name": "stderr",
     "output_type": "stream",
     "text": [
      "DiagramVectorizer: batch: 100%|██████████| 1/1 [00:00<00:00, 142.12it/s]\n"
     ]
    },
    {
     "name": "stdout",
     "output_type": "stream",
     "text": [
      "Fitting filtration 8/12: 4/HeightFiltrartion_1_1\n",
      "FiltrationExtractor: processing None, do_fit = True, filtration = HeightFiltration(direction=array([1, 1]), n_jobs=1)\n",
      "Applying Scaler to persistence diagrams.\n",
      "DiagramVectorizer: fitting complete\n"
     ]
    },
    {
     "name": "stderr",
     "output_type": "stream",
     "text": [
      "DiagramVectorizer: batch: 100%|██████████| 1/1 [00:00<00:00, 142.90it/s]\n"
     ]
    },
    {
     "name": "stdout",
     "output_type": "stream",
     "text": [
      "Fitting filtration 9/12: 4/RadialFiltration_8_8\n",
      "FiltrationExtractor: processing None, do_fit = True, filtration = RadialFiltration(center=array([8, 8]), n_jobs=1)\n",
      "Applying Scaler to persistence diagrams.\n",
      "DiagramVectorizer: fitting complete\n"
     ]
    },
    {
     "name": "stderr",
     "output_type": "stream",
     "text": [
      "DiagramVectorizer: batch: 100%|██████████| 1/1 [00:00<00:00, 142.87it/s]"
     ]
    },
    {
     "name": "stdout",
     "output_type": "stream",
     "text": [
      "Fitting filtration 10/12: 4/RadialFiltration_8_19\n",
      "FiltrationExtractor: processing None, do_fit = True, filtration = RadialFiltration(center=array([ 8, 19]), n_jobs=1)\n"
     ]
    },
    {
     "name": "stderr",
     "output_type": "stream",
     "text": [
      "\n"
     ]
    },
    {
     "name": "stdout",
     "output_type": "stream",
     "text": [
      "Applying Scaler to persistence diagrams.\n",
      "DiagramVectorizer: fitting complete\n"
     ]
    },
    {
     "name": "stderr",
     "output_type": "stream",
     "text": [
      "DiagramVectorizer: batch: 100%|██████████| 1/1 [00:00<00:00, 166.55it/s]\n"
     ]
    },
    {
     "name": "stdout",
     "output_type": "stream",
     "text": [
      "Fitting filtration 11/12: 4/RadialFiltration_19_8\n",
      "FiltrationExtractor: processing None, do_fit = True, filtration = RadialFiltration(center=array([19,  8]), n_jobs=1)\n",
      "Applying Scaler to persistence diagrams.\n",
      "DiagramVectorizer: fitting complete\n"
     ]
    },
    {
     "name": "stderr",
     "output_type": "stream",
     "text": [
      "DiagramVectorizer: batch: 100%|██████████| 1/1 [00:00<00:00, 166.72it/s]\n"
     ]
    },
    {
     "name": "stdout",
     "output_type": "stream",
     "text": [
      "Fitting filtration 12/12: 4/RadialFiltration_19_19\n",
      "FiltrationExtractor: processing None, do_fit = True, filtration = RadialFiltration(center=array([19, 19]), n_jobs=1)\n",
      "Applying Scaler to persistence diagrams.\n",
      "DiagramVectorizer: fitting complete\n"
     ]
    },
    {
     "name": "stderr",
     "output_type": "stream",
     "text": [
      "DiagramVectorizer: batch: 100%|██████████| 1/1 [00:00<00:00, 167.80it/s]\n"
     ]
    },
    {
     "name": "stdout",
     "output_type": "stream",
     "text": [
      "Applying filtrations\n",
      "Applying filtration 1/12: 4/HeightFiltrartion_-1_-1\n",
      "FiltrationExtractor: processing None, do_fit = False, filtration = HeightFiltration(direction=array([-1, -1]), n_jobs=1)\n",
      "Applying Scaler to persistence diagrams.\n"
     ]
    },
    {
     "name": "stderr",
     "output_type": "stream",
     "text": [
      "DiagramVectorizer: batch: 100%|██████████| 1/1 [00:00<00:00, 166.09it/s]\n"
     ]
    },
    {
     "name": "stdout",
     "output_type": "stream",
     "text": [
      "Applying filtration 2/12: 4/HeightFiltrartion_-1_0\n",
      "FiltrationExtractor: processing None, do_fit = False, filtration = HeightFiltration(direction=array([-1,  0]), n_jobs=1)\n",
      "Applying Scaler to persistence diagrams.\n"
     ]
    },
    {
     "name": "stderr",
     "output_type": "stream",
     "text": [
      "DiagramVectorizer: batch: 100%|██████████| 1/1 [00:00<00:00, 166.54it/s]\n"
     ]
    },
    {
     "name": "stdout",
     "output_type": "stream",
     "text": [
      "Applying filtration 3/12: 4/HeightFiltrartion_-1_1\n",
      "FiltrationExtractor: processing None, do_fit = False, filtration = HeightFiltration(direction=array([-1,  1]), n_jobs=1)\n",
      "Applying Scaler to persistence diagrams.\n"
     ]
    },
    {
     "name": "stderr",
     "output_type": "stream",
     "text": [
      "DiagramVectorizer: batch: 100%|██████████| 1/1 [00:00<00:00, 153.64it/s]\n"
     ]
    },
    {
     "name": "stdout",
     "output_type": "stream",
     "text": [
      "Applying filtration 4/12: 4/HeightFiltrartion_0_-1\n",
      "FiltrationExtractor: processing None, do_fit = False, filtration = HeightFiltration(direction=array([ 0, -1]), n_jobs=1)\n",
      "Applying Scaler to persistence diagrams.\n"
     ]
    },
    {
     "name": "stderr",
     "output_type": "stream",
     "text": [
      "DiagramVectorizer: batch: 100%|██████████| 1/1 [00:00<00:00, 155.02it/s]\n"
     ]
    },
    {
     "name": "stdout",
     "output_type": "stream",
     "text": [
      "Applying filtration 5/12: 4/HeightFiltrartion_0_1\n",
      "FiltrationExtractor: processing None, do_fit = False, filtration = HeightFiltration(direction=array([0, 1]), n_jobs=1)\n",
      "Applying Scaler to persistence diagrams.\n"
     ]
    },
    {
     "name": "stderr",
     "output_type": "stream",
     "text": [
      "DiagramVectorizer: batch: 100%|██████████| 1/1 [00:00<00:00, 166.56it/s]\n"
     ]
    },
    {
     "name": "stdout",
     "output_type": "stream",
     "text": [
      "Applying filtration 6/12: 4/HeightFiltrartion_1_-1\n",
      "FiltrationExtractor: processing None, do_fit = False, filtration = HeightFiltration(direction=array([ 1, -1]), n_jobs=1)\n",
      "Applying Scaler to persistence diagrams.\n"
     ]
    },
    {
     "name": "stderr",
     "output_type": "stream",
     "text": [
      "DiagramVectorizer: batch: 100%|██████████| 1/1 [00:00<00:00, 166.75it/s]\n"
     ]
    },
    {
     "name": "stdout",
     "output_type": "stream",
     "text": [
      "Applying filtration 7/12: 4/HeightFiltrartion_1_0\n",
      "FiltrationExtractor: processing None, do_fit = False, filtration = HeightFiltration(direction=array([1, 0]), n_jobs=1)\n",
      "Applying Scaler to persistence diagrams.\n"
     ]
    },
    {
     "name": "stderr",
     "output_type": "stream",
     "text": [
      "DiagramVectorizer: batch: 100%|██████████| 1/1 [00:00<00:00, 200.03it/s]\n"
     ]
    },
    {
     "name": "stdout",
     "output_type": "stream",
     "text": [
      "Applying filtration 8/12: 4/HeightFiltrartion_1_1\n",
      "FiltrationExtractor: processing None, do_fit = False, filtration = HeightFiltration(direction=array([1, 1]), n_jobs=1)\n",
      "Applying Scaler to persistence diagrams.\n"
     ]
    },
    {
     "name": "stderr",
     "output_type": "stream",
     "text": [
      "DiagramVectorizer: batch: 100%|██████████| 1/1 [00:00<00:00, 166.68it/s]\n"
     ]
    },
    {
     "name": "stdout",
     "output_type": "stream",
     "text": [
      "Applying filtration 9/12: 4/RadialFiltration_8_8\n",
      "FiltrationExtractor: processing None, do_fit = False, filtration = RadialFiltration(center=array([8, 8]), n_jobs=1)\n",
      "Applying Scaler to persistence diagrams.\n"
     ]
    },
    {
     "name": "stderr",
     "output_type": "stream",
     "text": [
      "DiagramVectorizer: batch: 100%|██████████| 1/1 [00:00<00:00, 166.69it/s]\n"
     ]
    },
    {
     "name": "stdout",
     "output_type": "stream",
     "text": [
      "Applying filtration 10/12: 4/RadialFiltration_8_19\n",
      "FiltrationExtractor: processing None, do_fit = False, filtration = RadialFiltration(center=array([ 8, 19]), n_jobs=1)\n",
      "Applying Scaler to persistence diagrams.\n"
     ]
    },
    {
     "name": "stderr",
     "output_type": "stream",
     "text": [
      "DiagramVectorizer: batch: 100%|██████████| 1/1 [00:00<00:00, 165.49it/s]\n"
     ]
    },
    {
     "name": "stdout",
     "output_type": "stream",
     "text": [
      "Applying filtration 11/12: 4/RadialFiltration_19_8\n",
      "FiltrationExtractor: processing None, do_fit = False, filtration = RadialFiltration(center=array([19,  8]), n_jobs=1)\n",
      "Applying Scaler to persistence diagrams.\n"
     ]
    },
    {
     "name": "stderr",
     "output_type": "stream",
     "text": [
      "DiagramVectorizer: batch: 100%|██████████| 1/1 [00:00<00:00, 142.86it/s]\n"
     ]
    },
    {
     "name": "stdout",
     "output_type": "stream",
     "text": [
      "Applying filtration 12/12: 4/RadialFiltration_19_19\n",
      "FiltrationExtractor: processing None, do_fit = False, filtration = RadialFiltration(center=array([19, 19]), n_jobs=1)\n",
      "Applying Scaler to persistence diagrams.\n"
     ]
    },
    {
     "name": "stderr",
     "output_type": "stream",
     "text": [
      "DiagramVectorizer: batch: 100%|██████████| 1/1 [00:00<00:00, 166.65it/s]\n",
      "GrayGeometryExtractor: 100%|██████████| 100/100 [00:05<00:00, 18.66it/s]\n",
      "GrayGeometryExtractor: 100%|██████████| 100/100 [00:04<00:00, 20.00it/s]\n"
     ]
    },
    {
     "name": "stdout",
     "output_type": "stream",
     "text": [
      "Applying StandardScaler.\n",
      "Calculating inverted images\n",
      "GreyscaleExtractor: processing None, do_fit = False\n",
      "Applying Scaler to persistence diagrams.\n"
     ]
    },
    {
     "name": "stderr",
     "output_type": "stream",
     "text": [
      "DiagramVectorizer: batch: 100%|██████████| 1/1 [00:00<00:00, 76.93it/s]\n"
     ]
    },
    {
     "name": "stdout",
     "output_type": "stream",
     "text": [
      "GreyscaleExtractor: processing None, do_fit = False\n",
      "Applying Scaler to persistence diagrams.\n"
     ]
    },
    {
     "name": "stderr",
     "output_type": "stream",
     "text": [
      "DiagramVectorizer: batch: 100%|██████████| 1/1 [00:00<00:00, 125.01it/s]\n"
     ]
    },
    {
     "name": "stdout",
     "output_type": "stream",
     "text": [
      "Applying filtrations\n",
      "Applying filtration 1/12: 4/HeightFiltrartion_-1_-1\n",
      "FiltrationExtractor: processing None, do_fit = False, filtration = HeightFiltration(direction=array([-1, -1]), n_jobs=1)\n",
      "Applying Scaler to persistence diagrams.\n"
     ]
    },
    {
     "name": "stderr",
     "output_type": "stream",
     "text": [
      "DiagramVectorizer: batch: 100%|██████████| 1/1 [00:00<00:00, 124.99it/s]\n"
     ]
    },
    {
     "name": "stdout",
     "output_type": "stream",
     "text": [
      "Applying filtration 2/12: 4/HeightFiltrartion_-1_0\n",
      "FiltrationExtractor: processing None, do_fit = False, filtration = HeightFiltration(direction=array([-1,  0]), n_jobs=1)\n",
      "Applying Scaler to persistence diagrams.\n"
     ]
    },
    {
     "name": "stderr",
     "output_type": "stream",
     "text": [
      "DiagramVectorizer: batch: 100%|██████████| 1/1 [00:00<00:00, 166.70it/s]\n"
     ]
    },
    {
     "name": "stdout",
     "output_type": "stream",
     "text": [
      "Applying filtration 3/12: 4/HeightFiltrartion_-1_1\n",
      "FiltrationExtractor: processing None, do_fit = False, filtration = HeightFiltration(direction=array([-1,  1]), n_jobs=1)\n",
      "Applying Scaler to persistence diagrams.\n"
     ]
    },
    {
     "name": "stderr",
     "output_type": "stream",
     "text": [
      "DiagramVectorizer: batch: 100%|██████████| 1/1 [00:00<00:00, 166.70it/s]\n"
     ]
    },
    {
     "name": "stdout",
     "output_type": "stream",
     "text": [
      "Applying filtration 4/12: 4/HeightFiltrartion_0_-1\n",
      "FiltrationExtractor: processing None, do_fit = False, filtration = HeightFiltration(direction=array([ 0, -1]), n_jobs=1)\n",
      "Applying Scaler to persistence diagrams.\n"
     ]
    },
    {
     "name": "stderr",
     "output_type": "stream",
     "text": [
      "DiagramVectorizer: batch: 100%|██████████| 1/1 [00:00<00:00, 199.99it/s]\n"
     ]
    },
    {
     "name": "stdout",
     "output_type": "stream",
     "text": [
      "Applying filtration 5/12: 4/HeightFiltrartion_0_1\n",
      "FiltrationExtractor: processing None, do_fit = False, filtration = HeightFiltration(direction=array([0, 1]), n_jobs=1)\n",
      "Applying Scaler to persistence diagrams.\n"
     ]
    },
    {
     "name": "stderr",
     "output_type": "stream",
     "text": [
      "DiagramVectorizer: batch: 100%|██████████| 1/1 [00:00<00:00, 125.00it/s]\n"
     ]
    },
    {
     "name": "stdout",
     "output_type": "stream",
     "text": [
      "Applying filtration 6/12: 4/HeightFiltrartion_1_-1\n",
      "FiltrationExtractor: processing None, do_fit = False, filtration = HeightFiltration(direction=array([ 1, -1]), n_jobs=1)\n",
      "Applying Scaler to persistence diagrams.\n"
     ]
    },
    {
     "name": "stderr",
     "output_type": "stream",
     "text": [
      "DiagramVectorizer: batch: 100%|██████████| 1/1 [00:00<00:00, 166.55it/s]\n"
     ]
    },
    {
     "name": "stdout",
     "output_type": "stream",
     "text": [
      "Applying filtration 7/12: 4/HeightFiltrartion_1_0\n",
      "FiltrationExtractor: processing None, do_fit = False, filtration = HeightFiltration(direction=array([1, 0]), n_jobs=1)\n",
      "Applying Scaler to persistence diagrams.\n"
     ]
    },
    {
     "name": "stderr",
     "output_type": "stream",
     "text": [
      "DiagramVectorizer: batch: 100%|██████████| 1/1 [00:00<00:00, 142.88it/s]\n"
     ]
    },
    {
     "name": "stdout",
     "output_type": "stream",
     "text": [
      "Applying filtration 8/12: 4/HeightFiltrartion_1_1\n",
      "FiltrationExtractor: processing None, do_fit = False, filtration = HeightFiltration(direction=array([1, 1]), n_jobs=1)\n",
      "Applying Scaler to persistence diagrams.\n"
     ]
    },
    {
     "name": "stderr",
     "output_type": "stream",
     "text": [
      "DiagramVectorizer: batch: 100%|██████████| 1/1 [00:00<00:00, 142.86it/s]"
     ]
    },
    {
     "name": "stdout",
     "output_type": "stream",
     "text": [
      "Applying filtration 9/12: 4/RadialFiltration_8_8\n",
      "FiltrationExtractor: processing None, do_fit = False, filtration = RadialFiltration(center=array([8, 8]), n_jobs=1)\n"
     ]
    },
    {
     "name": "stderr",
     "output_type": "stream",
     "text": [
      "\n"
     ]
    },
    {
     "name": "stdout",
     "output_type": "stream",
     "text": [
      "Applying Scaler to persistence diagrams.\n"
     ]
    },
    {
     "name": "stderr",
     "output_type": "stream",
     "text": [
      "DiagramVectorizer: batch: 100%|██████████| 1/1 [00:00<00:00, 125.04it/s]\n"
     ]
    },
    {
     "name": "stdout",
     "output_type": "stream",
     "text": [
      "Applying filtration 10/12: 4/RadialFiltration_8_19\n",
      "FiltrationExtractor: processing None, do_fit = False, filtration = RadialFiltration(center=array([ 8, 19]), n_jobs=1)\n",
      "Applying Scaler to persistence diagrams.\n"
     ]
    },
    {
     "name": "stderr",
     "output_type": "stream",
     "text": [
      "DiagramVectorizer: batch: 100%|██████████| 1/1 [00:00<00:00, 153.73it/s]\n"
     ]
    },
    {
     "name": "stdout",
     "output_type": "stream",
     "text": [
      "Applying filtration 11/12: 4/RadialFiltration_19_8\n",
      "FiltrationExtractor: processing None, do_fit = False, filtration = RadialFiltration(center=array([19,  8]), n_jobs=1)\n",
      "Applying Scaler to persistence diagrams.\n"
     ]
    },
    {
     "name": "stderr",
     "output_type": "stream",
     "text": [
      "DiagramVectorizer: batch: 100%|██████████| 1/1 [00:00<00:00, 142.90it/s]\n"
     ]
    },
    {
     "name": "stdout",
     "output_type": "stream",
     "text": [
      "Applying filtration 12/12: 4/RadialFiltration_19_19\n",
      "FiltrationExtractor: processing None, do_fit = False, filtration = RadialFiltration(center=array([19, 19]), n_jobs=1)\n",
      "Applying Scaler to persistence diagrams.\n"
     ]
    },
    {
     "name": "stderr",
     "output_type": "stream",
     "text": [
      "DiagramVectorizer: batch: 100%|██████████| 1/1 [00:00<00:00, 166.67it/s]\n",
      "GrayGeometryExtractor: 100%|██████████| 100/100 [00:04<00:00, 20.50it/s]\n"
     ]
    },
    {
     "name": "stdout",
     "output_type": "stream",
     "text": [
      "Applying StandardScaler.\n",
      "Calculating inverted images\n",
      "GreyscaleExtractor: processing None, do_fit = False\n",
      "Applying Scaler to persistence diagrams.\n"
     ]
    },
    {
     "name": "stderr",
     "output_type": "stream",
     "text": [
      "DiagramVectorizer: batch: 100%|██████████| 1/1 [00:00<00:00, 124.97it/s]\n"
     ]
    },
    {
     "name": "stdout",
     "output_type": "stream",
     "text": [
      "GreyscaleExtractor: processing None, do_fit = False\n",
      "Applying Scaler to persistence diagrams.\n"
     ]
    },
    {
     "name": "stderr",
     "output_type": "stream",
     "text": [
      "DiagramVectorizer: batch: 100%|██████████| 1/1 [00:00<00:00, 125.02it/s]\n"
     ]
    },
    {
     "name": "stdout",
     "output_type": "stream",
     "text": [
      "Applying filtrations\n",
      "Applying filtration 1/12: 4/HeightFiltrartion_-1_-1\n",
      "FiltrationExtractor: processing None, do_fit = False, filtration = HeightFiltration(direction=array([-1, -1]), n_jobs=1)\n",
      "Applying Scaler to persistence diagrams.\n"
     ]
    },
    {
     "name": "stderr",
     "output_type": "stream",
     "text": [
      "DiagramVectorizer: batch: 100%|██████████| 1/1 [00:00<00:00, 166.70it/s]\n"
     ]
    },
    {
     "name": "stdout",
     "output_type": "stream",
     "text": [
      "Applying filtration 2/12: 4/HeightFiltrartion_-1_0\n",
      "FiltrationExtractor: processing None, do_fit = False, filtration = HeightFiltration(direction=array([-1,  0]), n_jobs=1)\n",
      "Applying Scaler to persistence diagrams.\n"
     ]
    },
    {
     "name": "stderr",
     "output_type": "stream",
     "text": [
      "DiagramVectorizer: batch: 100%|██████████| 1/1 [00:00<00:00, 200.09it/s]"
     ]
    },
    {
     "name": "stdout",
     "output_type": "stream",
     "text": [
      "Applying filtration 3/12: 4/HeightFiltrartion_-1_1\n",
      "FiltrationExtractor: processing None, do_fit = False, filtration = HeightFiltration(direction=array([-1,  1]), n_jobs=1)\n"
     ]
    },
    {
     "name": "stderr",
     "output_type": "stream",
     "text": [
      "\n"
     ]
    },
    {
     "name": "stdout",
     "output_type": "stream",
     "text": [
      "Applying Scaler to persistence diagrams.\n"
     ]
    },
    {
     "name": "stderr",
     "output_type": "stream",
     "text": [
      "DiagramVectorizer: batch: 100%|██████████| 1/1 [00:00<00:00, 200.07it/s]"
     ]
    },
    {
     "name": "stdout",
     "output_type": "stream",
     "text": [
      "Applying filtration 4/12: 4/HeightFiltrartion_0_-1\n",
      "FiltrationExtractor: processing None, do_fit = False, filtration = HeightFiltration(direction=array([ 0, -1]), n_jobs=1)\n"
     ]
    },
    {
     "name": "stderr",
     "output_type": "stream",
     "text": [
      "\n"
     ]
    },
    {
     "name": "stdout",
     "output_type": "stream",
     "text": [
      "Applying Scaler to persistence diagrams.\n"
     ]
    },
    {
     "name": "stderr",
     "output_type": "stream",
     "text": [
      "DiagramVectorizer: batch: 100%|██████████| 1/1 [00:00<00:00, 200.75it/s]"
     ]
    },
    {
     "name": "stdout",
     "output_type": "stream",
     "text": [
      "Applying filtration 5/12: 4/HeightFiltrartion_0_1\n",
      "FiltrationExtractor: processing None, do_fit = False, filtration = HeightFiltration(direction=array([0, 1]), n_jobs=1)\n",
      "Applying Scaler to persistence diagrams."
     ]
    },
    {
     "name": "stderr",
     "output_type": "stream",
     "text": [
      "\n"
     ]
    },
    {
     "name": "stdout",
     "output_type": "stream",
     "text": [
      "\n"
     ]
    },
    {
     "name": "stderr",
     "output_type": "stream",
     "text": [
      "DiagramVectorizer: batch: 100%|██████████| 1/1 [00:00<00:00, 166.73it/s]"
     ]
    },
    {
     "name": "stdout",
     "output_type": "stream",
     "text": [
      "Applying filtration 6/12: 4/HeightFiltrartion_1_-1\n",
      "FiltrationExtractor: processing None, do_fit = False, filtration = HeightFiltration(direction=array([ 1, -1]), n_jobs=1)\n"
     ]
    },
    {
     "name": "stderr",
     "output_type": "stream",
     "text": [
      "\n"
     ]
    },
    {
     "name": "stdout",
     "output_type": "stream",
     "text": [
      "Applying Scaler to persistence diagrams.\n"
     ]
    },
    {
     "name": "stderr",
     "output_type": "stream",
     "text": [
      "DiagramVectorizer: batch: 100%|██████████| 1/1 [00:00<00:00, 181.69it/s]\n"
     ]
    },
    {
     "name": "stdout",
     "output_type": "stream",
     "text": [
      "Applying filtration 7/12: 4/HeightFiltrartion_1_0\n",
      "FiltrationExtractor: processing None, do_fit = False, filtration = HeightFiltration(direction=array([1, 0]), n_jobs=1)\n",
      "Applying Scaler to persistence diagrams.\n"
     ]
    },
    {
     "name": "stderr",
     "output_type": "stream",
     "text": [
      "DiagramVectorizer: batch: 100%|██████████| 1/1 [00:00<00:00, 142.89it/s]"
     ]
    },
    {
     "name": "stdout",
     "output_type": "stream",
     "text": [
      "Applying filtration 8/12: 4/HeightFiltrartion_1_1\n",
      "FiltrationExtractor: processing None, do_fit = False, filtration = HeightFiltration(direction=array([1, 1]), n_jobs=1)\n",
      "Applying Scaler to persistence diagrams.\n"
     ]
    },
    {
     "name": "stderr",
     "output_type": "stream",
     "text": [
      "\n",
      "DiagramVectorizer: batch: 100%|██████████| 1/1 [00:00<00:00, 166.55it/s]"
     ]
    },
    {
     "name": "stdout",
     "output_type": "stream",
     "text": [
      "Applying filtration 9/12: 4/RadialFiltration_8_8\n",
      "FiltrationExtractor: processing None, do_fit = False, filtration = RadialFiltration(center=array([8, 8]), n_jobs=1)\n"
     ]
    },
    {
     "name": "stderr",
     "output_type": "stream",
     "text": [
      "\n"
     ]
    },
    {
     "name": "stdout",
     "output_type": "stream",
     "text": [
      "Applying Scaler to persistence diagrams.\n"
     ]
    },
    {
     "name": "stderr",
     "output_type": "stream",
     "text": [
      "DiagramVectorizer: batch: 100%|██████████| 1/1 [00:00<00:00, 166.71it/s]\n"
     ]
    },
    {
     "name": "stdout",
     "output_type": "stream",
     "text": [
      "Applying filtration 10/12: 4/RadialFiltration_8_19\n",
      "FiltrationExtractor: processing None, do_fit = False, filtration = RadialFiltration(center=array([ 8, 19]), n_jobs=1)\n",
      "Applying Scaler to persistence diagrams.\n"
     ]
    },
    {
     "name": "stderr",
     "output_type": "stream",
     "text": [
      "DiagramVectorizer: batch: 100%|██████████| 1/1 [00:00<00:00, 167.30it/s]"
     ]
    },
    {
     "name": "stdout",
     "output_type": "stream",
     "text": [
      "Applying filtration 11/12: 4/RadialFiltration_19_8\n",
      "FiltrationExtractor: processing None, do_fit = False, filtration = RadialFiltration(center=array([19,  8]), n_jobs=1)\n"
     ]
    },
    {
     "name": "stderr",
     "output_type": "stream",
     "text": [
      "\n"
     ]
    },
    {
     "name": "stdout",
     "output_type": "stream",
     "text": [
      "Applying Scaler to persistence diagrams.\n"
     ]
    },
    {
     "name": "stderr",
     "output_type": "stream",
     "text": [
      "DiagramVectorizer: batch: 100%|██████████| 1/1 [00:00<00:00, 142.86it/s]"
     ]
    },
    {
     "name": "stdout",
     "output_type": "stream",
     "text": [
      "Applying filtration 12/12: 4/RadialFiltration_19_19\n",
      "FiltrationExtractor: processing None, do_fit = False, filtration = RadialFiltration(center=array([19, 19]), n_jobs=1)\n",
      "Applying Scaler to persistence diagrams.\n"
     ]
    },
    {
     "name": "stderr",
     "output_type": "stream",
     "text": [
      "\n",
      "DiagramVectorizer: batch: 100%|██████████| 1/1 [00:00<00:00, 142.86it/s]\n",
      "GrayGeometryExtractor: 100%|██████████| 75/75 [00:03<00:00, 20.20it/s]"
     ]
    },
    {
     "name": "stdout",
     "output_type": "stream",
     "text": [
      "Applying StandardScaler.\n"
     ]
    },
    {
     "name": "stderr",
     "output_type": "stream",
     "text": [
      "\n"
     ]
    }
   ],
   "source": [
    "import cvtda.topology\n",
    "extractor = cvtda.topology.FeatureExtractor(\n",
    "    n_jobs = 1,\n",
    "    binarizer_thresholds = [ 0.4 ],\n",
    "    num_radial_filtrations = 2\n",
    ")\n",
    "train_features = extractor.fit_transform(train_images)\n",
    "test_features = extractor.transform(test_images)"
   ]
  },
  {
   "cell_type": "code",
   "execution_count": 3,
   "id": "873b626b",
   "metadata": {},
   "outputs": [
    {
     "name": "stdout",
     "output_type": "stream",
     "text": [
      "Trying KNeighborsClassifier - KNeighborsClassifier(n_jobs=-1)\n",
      "{'classifier': 'Метод k ближайших соседей', 'Accuracy': 0.76, 'AUC-ROC': 0.9583398289871504, 'Precision': 0.75859477124183, 'Recall': 0.7472222222222222, 'F1-score': 0.6941489611015141, 'TOP-2 Accuracy': 0.8666666666666667, 'TOP-3 Accuracy': 0.9466666666666667, 'TOP-5 Accuracy': 0.9733333333333334, 'TOP-7 Accuracy': 0.9866666666666667, 'TOP-9 Accuracy': 1.0}\n",
      "Trying RandomForestClassifier - RandomForestClassifier(n_jobs=-1, random_state=42)\n",
      "{'classifier': 'Случайный лес', 'Accuracy': 0.8133333333333334, 'AUC-ROC': 0.9820534926933735, 'Precision': 0.8336616161616162, 'Recall': 0.7990079365079364, 'F1-score': 0.745517848164907, 'TOP-2 Accuracy': 0.8933333333333333, 'TOP-3 Accuracy': 0.9466666666666667, 'TOP-5 Accuracy': 0.9866666666666667, 'TOP-7 Accuracy': 1.0, 'TOP-9 Accuracy': 1.0}\n",
      "Trying HistGradientBoostingClassifier - HistGradientBoostingClassifier(max_depth=4, max_features=0.1, max_iter=20,\n",
      "                               random_state=42, verbose=2)\n",
      "Binning 0.003 GB of training data: 0.059 s\n",
      "Fitting gradient boosted rounds:\n",
      "[1/20] 10 trees, 26 leaves (2 on avg), max depth = 2, in 0.077s\n",
      "[2/20] 10 trees, 42 leaves (4 on avg), max depth = 4, in 0.083s\n",
      "[3/20] 10 trees, 42 leaves (4 on avg), max depth = 4, in 0.094s\n",
      "[4/20] 10 trees, 42 leaves (4 on avg), max depth = 4, in 0.087s\n",
      "[5/20] 10 trees, 41 leaves (4 on avg), max depth = 4, in 0.084s\n",
      "[6/20] 10 trees, 40 leaves (4 on avg), max depth = 3, in 0.080s\n",
      "[7/20] 10 trees, 40 leaves (4 on avg), max depth = 3, in 0.077s\n",
      "[8/20] 10 trees, 40 leaves (4 on avg), max depth = 3, in 0.080s\n",
      "[9/20] 10 trees, 39 leaves (3 on avg), max depth = 3, in 0.079s\n",
      "[10/20] 10 trees, 42 leaves (4 on avg), max depth = 4, in 0.085s\n",
      "[11/20] 10 trees, 41 leaves (4 on avg), max depth = 4, in 0.081s\n",
      "[12/20] 10 trees, 41 leaves (4 on avg), max depth = 4, in 0.081s\n",
      "[13/20] 10 trees, 41 leaves (4 on avg), max depth = 4, in 0.080s\n",
      "[14/20] 10 trees, 41 leaves (4 on avg), max depth = 4, in 0.080s\n",
      "[15/20] 10 trees, 41 leaves (4 on avg), max depth = 4, in 0.081s\n",
      "[16/20] 10 trees, 41 leaves (4 on avg), max depth = 4, in 0.081s\n",
      "[17/20] 10 trees, 40 leaves (4 on avg), max depth = 3, in 0.078s\n",
      "[18/20] 10 trees, 42 leaves (4 on avg), max depth = 4, in 0.083s\n",
      "[19/20] 10 trees, 44 leaves (4 on avg), max depth = 4, in 0.087s\n",
      "[20/20] 10 trees, 42 leaves (4 on avg), max depth = 4, in 0.086s\n",
      "Fit 200 trees in 1.714 s, (808 total leaves)\n",
      "Time spent computing histograms: 0.980s\n",
      "Time spent finding best splits:  0.116s\n",
      "Time spent applying splits:      0.024s\n",
      "Time spent predicting:           0.003s\n",
      "{'classifier': 'Град. бустинг на основе гистограмм', 'Accuracy': 0.7733333333333333, 'AUC-ROC': 0.9829992336440748, 'Precision': 0.7485714285714286, 'Recall': 0.7466269841269841, 'F1-score': 0.7019392844857242, 'TOP-2 Accuracy': 0.9066666666666666, 'TOP-3 Accuracy': 0.9466666666666667, 'TOP-5 Accuracy': 0.9866666666666667, 'TOP-7 Accuracy': 1.0, 'TOP-9 Accuracy': 1.0}\n",
      "Trying CatBoostClassifier - <catboost.core.CatBoostClassifier object at 0x000001A141AB0610>\n",
      "Learning rate set to 0.5\n",
      "0:\tlearn: 1.8072058\ttotal: 117ms\tremaining: 1.05s\n",
      "1:\tlearn: 1.4347389\ttotal: 139ms\tremaining: 555ms\n",
      "2:\tlearn: 1.1443842\ttotal: 161ms\tremaining: 375ms\n",
      "3:\tlearn: 0.9459233\ttotal: 181ms\tremaining: 272ms\n",
      "4:\tlearn: 0.8180820\ttotal: 202ms\tremaining: 202ms\n",
      "5:\tlearn: 0.6867703\ttotal: 224ms\tremaining: 150ms\n",
      "6:\tlearn: 0.5981504\ttotal: 248ms\tremaining: 106ms\n",
      "7:\tlearn: 0.4969147\ttotal: 273ms\tremaining: 68.3ms\n",
      "8:\tlearn: 0.4226043\ttotal: 298ms\tremaining: 33.1ms\n",
      "9:\tlearn: 0.3694218\ttotal: 322ms\tremaining: 0us\n",
      "{'classifier': 'CatBoost', 'Accuracy': 0.8266666666666667, 'AUC-ROC': 0.9910761526832956, 'Precision': 0.8280569430569431, 'Recall': 0.8202380952380952, 'F1-score': 0.7908771929824562, 'TOP-2 Accuracy': 0.92, 'TOP-3 Accuracy': 0.9333333333333333, 'TOP-5 Accuracy': 0.9866666666666667, 'TOP-7 Accuracy': 0.9866666666666667, 'TOP-9 Accuracy': 1.0}\n",
      "Trying XGBClassifier - XGBClassifier(base_score=None, booster=None, callbacks=None,\n",
      "              colsample_bylevel=None, colsample_bynode=None,\n",
      "              colsample_bytree=None, device='gpu', early_stopping_rounds=None,\n",
      "              enable_categorical=False, eval_metric=None, feature_types=None,\n",
      "              gamma=None, grow_policy=None, importance_type=None,\n",
      "              interaction_constraints=None, learning_rate=None, max_bin=None,\n",
      "              max_cat_threshold=None, max_cat_to_onehot=None,\n",
      "              max_delta_step=None, max_depth=4, max_leaves=None,\n",
      "              min_child_weight=None, missing=nan, monotone_constraints=None,\n",
      "              multi_strategy=None, n_estimators=25, n_jobs=-1,\n",
      "              num_parallel_tree=None, random_state=None, ...)\n"
     ]
    },
    {
     "name": "stderr",
     "output_type": "stream",
     "text": [
      "d:\\Programs\\Programming\\Python\\lib\\site-packages\\xgboost\\core.py:158: UserWarning: [20:25:06] WARNING: C:\\buildkite-agent\\builds\\buildkite-windows-cpu-autoscaling-group-i-0c55ff5f71b100e98-1\\xgboost\\xgboost-ci-windows\\src\\common\\error_msg.cc:58: Falling back to prediction using DMatrix due to mismatched devices. This might lead to higher memory usage and slower performance. XGBoost is running on: cuda:0, while the input data is on: cpu.\n",
      "Potential solutions:\n",
      "- Use a data structure that matches the device ordinal in the booster.\n",
      "- Set the device for booster before call to inplace_predict.\n",
      "\n",
      "This warning will only be shown once.\n",
      "\n",
      "  warnings.warn(smsg, UserWarning)\n",
      "d:\\Programs\\Programming\\Python\\lib\\site-packages\\torch\\nn\\init.py:511: UserWarning: Initializing zero-element tensors is a no-op\n",
      "  warnings.warn(\"Initializing zero-element tensors is a no-op\")\n"
     ]
    },
    {
     "name": "stdout",
     "output_type": "stream",
     "text": [
      "{'classifier': 'XGBoost', 'Accuracy': 0.8133333333333334, 'AUC-ROC': 0.9790683431060415, 'Precision': 0.8682905982905982, 'Recall': 0.8021825396825395, 'F1-score': 0.7861086677116425, 'TOP-2 Accuracy': 0.92, 'TOP-3 Accuracy': 0.96, 'TOP-5 Accuracy': 1.0, 'TOP-7 Accuracy': 1.0, 'TOP-9 Accuracy': 1.0}\n",
      "Trying NNClassifier_features - <cvtda.classification.NNClassifier.NNClassifier object at 0x000001A141AB06A0>\n",
      "Topology:  True\n",
      "Images:  torch.Size([100, 1, 28, 28])\n",
      "Features:  torch.Size([100, 3513])\n",
      "Input to LazyLinear: 1024\n",
      "Parameters: 3906282\n"
     ]
    },
    {
     "name": "stderr",
     "output_type": "stream",
     "text": [
      "Epoch 0: 100%|██████████| 1/1 [00:00<00:00, 11.75it/s]\n"
     ]
    },
    {
     "name": "stdout",
     "output_type": "stream",
     "text": [
      "Epoch 0: {'loss': 2.323716878890991, 'lr': 0.010000000000000002, 'val_acc': 0.30666666666666664}\n"
     ]
    },
    {
     "name": "stderr",
     "output_type": "stream",
     "text": [
      "Epoch 1: 100%|██████████| 1/1 [00:00<00:00, 125.04it/s]\n"
     ]
    },
    {
     "name": "stdout",
     "output_type": "stream",
     "text": [
      "Epoch 1: {'loss': 2.032273530960083, 'lr': 0.001, 'val_acc': 0.4}\n"
     ]
    },
    {
     "name": "stderr",
     "output_type": "stream",
     "text": [
      "Epoch 2: 100%|██████████| 1/1 [00:00<00:00, 125.03it/s]\n"
     ]
    },
    {
     "name": "stdout",
     "output_type": "stream",
     "text": [
      "Epoch 2: {'loss': 1.8369592428207397, 'lr': 0.001, 'val_acc': 0.49333333333333335}\n"
     ]
    },
    {
     "name": "stderr",
     "output_type": "stream",
     "text": [
      "Epoch 3: 100%|██████████| 1/1 [00:00<00:00, 124.99it/s]\n"
     ]
    },
    {
     "name": "stdout",
     "output_type": "stream",
     "text": [
      "Epoch 3: {'loss': 1.7969282865524292, 'lr': 0.0001, 'val_acc': 0.49333333333333335}\n"
     ]
    },
    {
     "name": "stderr",
     "output_type": "stream",
     "text": [
      "Epoch 4: 100%|██████████| 1/1 [00:00<00:00, 111.15it/s]\n"
     ]
    },
    {
     "name": "stdout",
     "output_type": "stream",
     "text": [
      "Epoch 4: {'loss': 1.7758433818817139, 'lr': 1e-05, 'val_acc': 0.49333333333333335}\n"
     ]
    },
    {
     "name": "stderr",
     "output_type": "stream",
     "text": [
      "Epoch 5: 100%|██████████| 1/1 [00:00<00:00, 142.81it/s]"
     ]
    },
    {
     "name": "stdout",
     "output_type": "stream",
     "text": [
      "Epoch 5: {'loss': 1.7738630771636963, 'lr': 1e-05, 'val_acc': 0.5066666666666667}\n"
     ]
    },
    {
     "name": "stderr",
     "output_type": "stream",
     "text": [
      "\n",
      "d:\\Programs\\Programming\\Python\\lib\\site-packages\\torch\\nn\\init.py:511: UserWarning: Initializing zero-element tensors is a no-op\n",
      "  warnings.warn(\"Initializing zero-element tensors is a no-op\")\n"
     ]
    },
    {
     "name": "stdout",
     "output_type": "stream",
     "text": [
      "{'classifier': 'Нейронная сеть для тополог. признаков', 'Accuracy': 0.5066666666666667, 'AUC-ROC': 0.9201145167663024, 'Precision': 0.39167582417582414, 'Recall': 0.5125, 'F1-score': 0.4033486943164363, 'TOP-2 Accuracy': 0.72, 'TOP-3 Accuracy': 0.8, 'TOP-5 Accuracy': 0.88, 'TOP-7 Accuracy': 0.9733333333333334, 'TOP-9 Accuracy': 1.0}\n",
      "Skipping NNClassifier_diagrams - <cvtda.classification.NNClassifier.NNClassifier object at 0x000001A141AB06D0>\n",
      "Trying NNClassifier_images - <cvtda.classification.NNClassifier.NNClassifier object at 0x000001A141AB0700>\n",
      "Topology:  False\n",
      "Images:  torch.Size([100, 1, 28, 28])\n",
      "Features:  torch.Size([100, 3513])\n",
      "Parameters: 23523274\n"
     ]
    },
    {
     "name": "stderr",
     "output_type": "stream",
     "text": [
      "Epoch 0: 100%|██████████| 1/1 [00:00<00:00,  5.75it/s]"
     ]
    },
    {
     "name": "stdout",
     "output_type": "stream",
     "text": [
      "Epoch 0:"
     ]
    },
    {
     "name": "stderr",
     "output_type": "stream",
     "text": [
      "\n"
     ]
    },
    {
     "name": "stdout",
     "output_type": "stream",
     "text": [
      " {'loss': 2.8288800716400146, 'lr': 0.001, 'val_acc': 0.10666666666666667}\n"
     ]
    },
    {
     "name": "stderr",
     "output_type": "stream",
     "text": [
      "Epoch 1: 100%|██████████| 1/1 [00:00<00:00,  7.92it/s]\n"
     ]
    },
    {
     "name": "stdout",
     "output_type": "stream",
     "text": [
      "Epoch 1: {'loss': 1.8435591459274292, 'lr': 0.0001, 'val_acc': 0.10666666666666667}\n"
     ]
    },
    {
     "name": "stderr",
     "output_type": "stream",
     "text": [
      "Epoch 2: 100%|██████████| 1/1 [00:00<00:00,  8.17it/s]\n",
      "d:\\Programs\\Programming\\Python\\lib\\site-packages\\torch\\nn\\init.py:511: UserWarning: Initializing zero-element tensors is a no-op\n",
      "  warnings.warn(\"Initializing zero-element tensors is a no-op\")\n"
     ]
    },
    {
     "name": "stdout",
     "output_type": "stream",
     "text": [
      "Epoch 2: {'loss': 0.6537905931472778, 'lr': 1e-05, 'val_acc': 0.08}\n",
      "{'classifier': 'ResNet50 – базовая модель', 'Accuracy': 0.08, 'AUC-ROC': 0.5036890183963596, 'Precision': 0.023897581792318635, 'Recall': 0.08472222222222223, 'F1-score': 0.03564661006521471, 'TOP-2 Accuracy': 0.16, 'TOP-3 Accuracy': 0.24, 'TOP-5 Accuracy': 0.5866666666666667, 'TOP-7 Accuracy': 0.8133333333333334, 'TOP-9 Accuracy': 0.9466666666666667}\n",
      "Trying NNClassifier_features_images - <cvtda.classification.NNClassifier.NNClassifier object at 0x000001A141AB0730>\n",
      "Topology:  True\n",
      "Images:  torch.Size([100, 1, 28, 28])\n",
      "Features:  torch.Size([100, 3513])\n",
      "Input to LazyLinear: 2048\n",
      "Parameters: 29768362\n"
     ]
    },
    {
     "name": "stderr",
     "output_type": "stream",
     "text": [
      "Epoch 0: 100%|██████████| 1/1 [00:00<00:00,  7.75it/s]\n"
     ]
    },
    {
     "name": "stdout",
     "output_type": "stream",
     "text": [
      "Epoch 0: {'loss': 2.353146553039551, 'lr': 0.001, 'val_acc': 0.22666666666666666}\n"
     ]
    },
    {
     "name": "stderr",
     "output_type": "stream",
     "text": [
      "Epoch 1: 100%|██████████| 1/1 [00:00<00:00,  7.78it/s]\n"
     ]
    },
    {
     "name": "stdout",
     "output_type": "stream",
     "text": [
      "Epoch 1: {'loss': 2.130387783050537, 'lr': 0.0001, 'val_acc': 0.21333333333333335}\n"
     ]
    },
    {
     "name": "stderr",
     "output_type": "stream",
     "text": [
      "Epoch 2: 100%|██████████| 1/1 [00:00<00:00,  7.93it/s]\n"
     ]
    },
    {
     "name": "stdout",
     "output_type": "stream",
     "text": [
      "Epoch 2: {'loss': 2.075312852859497, 'lr': 1e-05, 'val_acc': 0.2}\n",
      "{'classifier': 'Комбинированная нейронная сеть', 'Accuracy': 0.2, 'AUC-ROC': 0.8777903396206967, 'Precision': 0.07907608695652174, 'Recall': 0.25, 'F1-score': 0.11581699346405228, 'TOP-2 Accuracy': 0.3466666666666667, 'TOP-3 Accuracy': 0.4, 'TOP-5 Accuracy': 0.5066666666666667, 'TOP-7 Accuracy': 0.72, 'TOP-9 Accuracy': 0.92}\n"
     ]
    },
    {
     "data": {
      "text/html": [
       "<div>\n",
       "<style scoped>\n",
       "    .dataframe tbody tr th:only-of-type {\n",
       "        vertical-align: middle;\n",
       "    }\n",
       "\n",
       "    .dataframe tbody tr th {\n",
       "        vertical-align: top;\n",
       "    }\n",
       "\n",
       "    .dataframe thead th {\n",
       "        text-align: right;\n",
       "    }\n",
       "</style>\n",
       "<table border=\"1\" class=\"dataframe\">\n",
       "  <thead>\n",
       "    <tr style=\"text-align: right;\">\n",
       "      <th></th>\n",
       "      <th>classifier</th>\n",
       "      <th>Accuracy</th>\n",
       "      <th>AUC-ROC</th>\n",
       "      <th>Precision</th>\n",
       "      <th>Recall</th>\n",
       "      <th>F1-score</th>\n",
       "      <th>TOP-2 Accuracy</th>\n",
       "      <th>TOP-3 Accuracy</th>\n",
       "      <th>TOP-5 Accuracy</th>\n",
       "      <th>TOP-7 Accuracy</th>\n",
       "      <th>TOP-9 Accuracy</th>\n",
       "    </tr>\n",
       "  </thead>\n",
       "  <tbody>\n",
       "    <tr>\n",
       "      <th>0</th>\n",
       "      <td>Метод k ближайших соседей</td>\n",
       "      <td>0.760000</td>\n",
       "      <td>0.958340</td>\n",
       "      <td>0.758595</td>\n",
       "      <td>0.747222</td>\n",
       "      <td>0.694149</td>\n",
       "      <td>0.866667</td>\n",
       "      <td>0.946667</td>\n",
       "      <td>0.973333</td>\n",
       "      <td>0.986667</td>\n",
       "      <td>1.000000</td>\n",
       "    </tr>\n",
       "    <tr>\n",
       "      <th>1</th>\n",
       "      <td>Случайный лес</td>\n",
       "      <td>0.813333</td>\n",
       "      <td>0.982053</td>\n",
       "      <td>0.833662</td>\n",
       "      <td>0.799008</td>\n",
       "      <td>0.745518</td>\n",
       "      <td>0.893333</td>\n",
       "      <td>0.946667</td>\n",
       "      <td>0.986667</td>\n",
       "      <td>1.000000</td>\n",
       "      <td>1.000000</td>\n",
       "    </tr>\n",
       "    <tr>\n",
       "      <th>2</th>\n",
       "      <td>Град. бустинг на основе гистограмм</td>\n",
       "      <td>0.773333</td>\n",
       "      <td>0.982999</td>\n",
       "      <td>0.748571</td>\n",
       "      <td>0.746627</td>\n",
       "      <td>0.701939</td>\n",
       "      <td>0.906667</td>\n",
       "      <td>0.946667</td>\n",
       "      <td>0.986667</td>\n",
       "      <td>1.000000</td>\n",
       "      <td>1.000000</td>\n",
       "    </tr>\n",
       "    <tr>\n",
       "      <th>3</th>\n",
       "      <td>CatBoost</td>\n",
       "      <td>0.826667</td>\n",
       "      <td>0.991076</td>\n",
       "      <td>0.828057</td>\n",
       "      <td>0.820238</td>\n",
       "      <td>0.790877</td>\n",
       "      <td>0.920000</td>\n",
       "      <td>0.933333</td>\n",
       "      <td>0.986667</td>\n",
       "      <td>0.986667</td>\n",
       "      <td>1.000000</td>\n",
       "    </tr>\n",
       "    <tr>\n",
       "      <th>4</th>\n",
       "      <td>XGBoost</td>\n",
       "      <td>0.813333</td>\n",
       "      <td>0.979068</td>\n",
       "      <td>0.868291</td>\n",
       "      <td>0.802183</td>\n",
       "      <td>0.786109</td>\n",
       "      <td>0.920000</td>\n",
       "      <td>0.960000</td>\n",
       "      <td>1.000000</td>\n",
       "      <td>1.000000</td>\n",
       "      <td>1.000000</td>\n",
       "    </tr>\n",
       "    <tr>\n",
       "      <th>5</th>\n",
       "      <td>Нейронная сеть для тополог. признаков</td>\n",
       "      <td>0.506667</td>\n",
       "      <td>0.920115</td>\n",
       "      <td>0.391676</td>\n",
       "      <td>0.512500</td>\n",
       "      <td>0.403349</td>\n",
       "      <td>0.720000</td>\n",
       "      <td>0.800000</td>\n",
       "      <td>0.880000</td>\n",
       "      <td>0.973333</td>\n",
       "      <td>1.000000</td>\n",
       "    </tr>\n",
       "    <tr>\n",
       "      <th>6</th>\n",
       "      <td>NaN</td>\n",
       "      <td>NaN</td>\n",
       "      <td>NaN</td>\n",
       "      <td>NaN</td>\n",
       "      <td>NaN</td>\n",
       "      <td>NaN</td>\n",
       "      <td>NaN</td>\n",
       "      <td>NaN</td>\n",
       "      <td>NaN</td>\n",
       "      <td>NaN</td>\n",
       "      <td>NaN</td>\n",
       "    </tr>\n",
       "    <tr>\n",
       "      <th>7</th>\n",
       "      <td>ResNet50 – базовая модель</td>\n",
       "      <td>0.080000</td>\n",
       "      <td>0.503689</td>\n",
       "      <td>0.023898</td>\n",
       "      <td>0.084722</td>\n",
       "      <td>0.035647</td>\n",
       "      <td>0.160000</td>\n",
       "      <td>0.240000</td>\n",
       "      <td>0.586667</td>\n",
       "      <td>0.813333</td>\n",
       "      <td>0.946667</td>\n",
       "    </tr>\n",
       "    <tr>\n",
       "      <th>8</th>\n",
       "      <td>Комбинированная нейронная сеть</td>\n",
       "      <td>0.200000</td>\n",
       "      <td>0.877790</td>\n",
       "      <td>0.079076</td>\n",
       "      <td>0.250000</td>\n",
       "      <td>0.115817</td>\n",
       "      <td>0.346667</td>\n",
       "      <td>0.400000</td>\n",
       "      <td>0.506667</td>\n",
       "      <td>0.720000</td>\n",
       "      <td>0.920000</td>\n",
       "    </tr>\n",
       "  </tbody>\n",
       "</table>\n",
       "</div>"
      ],
      "text/plain": [
       "                              classifier  Accuracy   AUC-ROC  Precision  \\\n",
       "0              Метод k ближайших соседей  0.760000  0.958340   0.758595   \n",
       "1                          Случайный лес  0.813333  0.982053   0.833662   \n",
       "2     Град. бустинг на основе гистограмм  0.773333  0.982999   0.748571   \n",
       "3                               CatBoost  0.826667  0.991076   0.828057   \n",
       "4                                XGBoost  0.813333  0.979068   0.868291   \n",
       "5  Нейронная сеть для тополог. признаков  0.506667  0.920115   0.391676   \n",
       "6                                    NaN       NaN       NaN        NaN   \n",
       "7              ResNet50 – базовая модель  0.080000  0.503689   0.023898   \n",
       "8         Комбинированная нейронная сеть  0.200000  0.877790   0.079076   \n",
       "\n",
       "     Recall  F1-score  TOP-2 Accuracy  TOP-3 Accuracy  TOP-5 Accuracy  \\\n",
       "0  0.747222  0.694149        0.866667        0.946667        0.973333   \n",
       "1  0.799008  0.745518        0.893333        0.946667        0.986667   \n",
       "2  0.746627  0.701939        0.906667        0.946667        0.986667   \n",
       "3  0.820238  0.790877        0.920000        0.933333        0.986667   \n",
       "4  0.802183  0.786109        0.920000        0.960000        1.000000   \n",
       "5  0.512500  0.403349        0.720000        0.800000        0.880000   \n",
       "6       NaN       NaN             NaN             NaN             NaN   \n",
       "7  0.084722  0.035647        0.160000        0.240000        0.586667   \n",
       "8  0.250000  0.115817        0.346667        0.400000        0.506667   \n",
       "\n",
       "   TOP-7 Accuracy  TOP-9 Accuracy  \n",
       "0        0.986667        1.000000  \n",
       "1        1.000000        1.000000  \n",
       "2        1.000000        1.000000  \n",
       "3        0.986667        1.000000  \n",
       "4        1.000000        1.000000  \n",
       "5        0.973333        1.000000  \n",
       "6             NaN             NaN  \n",
       "7        0.813333        0.946667  \n",
       "8        0.720000        0.920000  "
      ]
     },
     "execution_count": 3,
     "metadata": {},
     "output_type": "execute_result"
    },
    {
     "data": {
      "image/png": "[encoded data removed]",
      "text/plain": [
       "<Figure size 1500x1500 with 9 Axes>"
      ]
     },
     "metadata": {},
     "output_type": "display_data"
    }
   ],
   "source": [
    "import cvtda.classification\n",
    "cvtda.classification.classify(\n",
    "    train_images, train_features, train_labels, None,\n",
    "    test_images, test_features, test_labels, None,\n",
    "    knn_neighbours = 5, nn_epochs = 3, catboost_iterations = 10\n",
    ")"
   ]
  }
 ],
 "metadata": {
  "kernelspec": {
   "display_name": "Python 3",
   "language": "python",
   "name": "python3"
  },
  "language_info": {
   "codemirror_mode": {
    "name": "ipython",
    "version": 3
   },
   "file_extension": ".py",
   "mimetype": "text/x-python",
   "name": "python",
   "nbconvert_exporter": "python",
   "pygments_lexer": "ipython3",
   "version": "3.10.11"
  }
 },
 "nbformat": 4,
 "nbformat_minor": 5
}
