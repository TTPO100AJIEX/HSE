{
 "cells": [
  {
   "cell_type": "code",
   "execution_count": 1,
   "id": "1a29ef3e",
   "metadata": {},
   "outputs": [],
   "source": [
    "import numpy\n",
    "import torchvision\n",
    "\n",
    "train = torchvision.datasets.MNIST('mnist', train = True)\n",
    "train_images = numpy.array([ item[0] for item in train ])[:100] / 255\n",
    "train_labels = numpy.array([ item[1] for item in train ])[:100]\n",
    "\n",
    "test = torchvision.datasets.MNIST('mnist', train = False)\n",
    "test_images = numpy.array([ item[0] for item in test ])[:75] / 255\n",
    "test_labels = numpy.array([ item[1] for item in test ])[:75]"
   ]
  },
  {
   "cell_type": "code",
   "execution_count": 2,
   "id": "1023912d",
   "metadata": {},
   "outputs": [
    {
     "name": "stdout",
     "output_type": "stream",
     "text": [
      "Calculating inverted images\n",
      "GreyscaleExtractor: processing None, do_fit = True\n",
      "Applying Scaler to persistence diagrams.\n",
      "DiagramVectorizer: fitting complete\n"
     ]
    },
    {
     "name": "stderr",
     "output_type": "stream",
     "text": [
      "DiagramVectorizer: batch: 100%|██████████| 1/1 [00:01<00:00,  1.87s/it]\n"
     ]
    },
    {
     "name": "stdout",
     "output_type": "stream",
     "text": [
      "GreyscaleExtractor: processing None, do_fit = False\n",
      "Applying Scaler to persistence diagrams.\n"
     ]
    },
    {
     "name": "stderr",
     "output_type": "stream",
     "text": [
      "DiagramVectorizer: batch: 100%|██████████| 1/1 [00:01<00:00,  1.89s/it]\n"
     ]
    },
    {
     "name": "stdout",
     "output_type": "stream",
     "text": [
      "GreyscaleExtractor: processing None, do_fit = True\n",
      "Applying Scaler to persistence diagrams.\n",
      "DiagramVectorizer: fitting complete\n"
     ]
    },
    {
     "name": "stderr",
     "output_type": "stream",
     "text": [
      "DiagramVectorizer: batch: 100%|██████████| 1/1 [00:01<00:00,  1.93s/it]\n"
     ]
    },
    {
     "name": "stdout",
     "output_type": "stream",
     "text": [
      "GreyscaleExtractor: processing None, do_fit = False\n",
      "Applying Scaler to persistence diagrams.\n"
     ]
    },
    {
     "name": "stderr",
     "output_type": "stream",
     "text": [
      "DiagramVectorizer: batch: 100%|██████████| 1/1 [00:01<00:00,  1.99s/it]\n"
     ]
    },
    {
     "name": "stdout",
     "output_type": "stream",
     "text": [
      "Fitting filtrations\n",
      "Calculated radial centers for images of size 28x28: [ 8 19]x[ 8 19]\n",
      "Fitting filtration 1/12: 4/HeightFiltrartion_-1_-1\n",
      "FiltrationExtractor: processing None, do_fit = True, filtration = HeightFiltration(direction=array([-1, -1]), n_jobs=1)\n",
      "Applying Scaler to persistence diagrams.\n",
      "DiagramVectorizer: fitting complete\n"
     ]
    },
    {
     "name": "stderr",
     "output_type": "stream",
     "text": [
      "DiagramVectorizer: batch: 100%|██████████| 1/1 [00:02<00:00,  2.33s/it]\n"
     ]
    },
    {
     "name": "stdout",
     "output_type": "stream",
     "text": [
      "Fitting filtration 2/12: 4/HeightFiltrartion_1_1\n",
      "FiltrationExtractor: processing None, do_fit = True, filtration = HeightFiltration(direction=array([1, 1]), n_jobs=1)\n",
      "Applying Scaler to persistence diagrams.\n",
      "DiagramVectorizer: fitting complete\n"
     ]
    },
    {
     "name": "stderr",
     "output_type": "stream",
     "text": [
      "DiagramVectorizer: batch: 100%|██████████| 1/1 [00:02<00:00,  2.10s/it]\n"
     ]
    },
    {
     "name": "stdout",
     "output_type": "stream",
     "text": [
      "Fitting filtration 3/12: 4/HeightFiltrartion_1_-1\n",
      "FiltrationExtractor: processing None, do_fit = True, filtration = HeightFiltration(direction=array([ 1, -1]), n_jobs=1)\n",
      "Applying Scaler to persistence diagrams.\n",
      "DiagramVectorizer: fitting complete\n"
     ]
    },
    {
     "name": "stderr",
     "output_type": "stream",
     "text": [
      "DiagramVectorizer: batch: 100%|██████████| 1/1 [00:02<00:00,  2.24s/it]\n"
     ]
    },
    {
     "name": "stdout",
     "output_type": "stream",
     "text": [
      "Fitting filtration 4/12: 4/HeightFiltrartion_-1_1\n",
      "FiltrationExtractor: processing None, do_fit = True, filtration = HeightFiltration(direction=array([-1,  1]), n_jobs=1)\n",
      "Applying Scaler to persistence diagrams.\n",
      "DiagramVectorizer: fitting complete\n"
     ]
    },
    {
     "name": "stderr",
     "output_type": "stream",
     "text": [
      "DiagramVectorizer: batch: 100%|██████████| 1/1 [00:02<00:00,  2.08s/it]\n"
     ]
    },
    {
     "name": "stdout",
     "output_type": "stream",
     "text": [
      "Fitting filtration 5/12: 4/HeightFiltrartion_0_-1\n",
      "FiltrationExtractor: processing None, do_fit = True, filtration = HeightFiltration(direction=array([ 0, -1]), n_jobs=1)\n",
      "Applying Scaler to persistence diagrams.\n",
      "DiagramVectorizer: fitting complete\n"
     ]
    },
    {
     "name": "stderr",
     "output_type": "stream",
     "text": [
      "DiagramVectorizer: batch: 100%|██████████| 1/1 [00:01<00:00,  1.99s/it]\n"
     ]
    },
    {
     "name": "stdout",
     "output_type": "stream",
     "text": [
      "Fitting filtration 6/12: 4/HeightFiltrartion_0_1\n",
      "FiltrationExtractor: processing None, do_fit = True, filtration = HeightFiltration(direction=array([0, 1]), n_jobs=1)\n",
      "Applying Scaler to persistence diagrams.\n",
      "DiagramVectorizer: fitting complete\n"
     ]
    },
    {
     "name": "stderr",
     "output_type": "stream",
     "text": [
      "DiagramVectorizer: batch: 100%|██████████| 1/1 [00:02<00:00,  2.03s/it]\n"
     ]
    },
    {
     "name": "stdout",
     "output_type": "stream",
     "text": [
      "Fitting filtration 7/12: 4/HeightFiltrartion_-1_0\n",
      "FiltrationExtractor: processing None, do_fit = True, filtration = HeightFiltration(direction=array([-1,  0]), n_jobs=1)\n",
      "Applying Scaler to persistence diagrams.\n",
      "DiagramVectorizer: fitting complete\n"
     ]
    },
    {
     "name": "stderr",
     "output_type": "stream",
     "text": [
      "DiagramVectorizer: batch: 100%|██████████| 1/1 [00:01<00:00,  1.96s/it]\n"
     ]
    },
    {
     "name": "stdout",
     "output_type": "stream",
     "text": [
      "Fitting filtration 8/12: 4/HeightFiltrartion_1_0\n",
      "FiltrationExtractor: processing None, do_fit = True, filtration = HeightFiltration(direction=array([1, 0]), n_jobs=1)\n",
      "Applying Scaler to persistence diagrams.\n",
      "DiagramVectorizer: fitting complete\n"
     ]
    },
    {
     "name": "stderr",
     "output_type": "stream",
     "text": [
      "DiagramVectorizer: batch: 100%|██████████| 1/1 [00:01<00:00,  1.82s/it]\n"
     ]
    },
    {
     "name": "stdout",
     "output_type": "stream",
     "text": [
      "Fitting filtration 9/12: 4/RadialFiltration_8_8\n",
      "FiltrationExtractor: processing None, do_fit = True, filtration = RadialFiltration(center=array([8, 8]), n_jobs=1)\n",
      "Applying Scaler to persistence diagrams.\n",
      "DiagramVectorizer: fitting complete\n"
     ]
    },
    {
     "name": "stderr",
     "output_type": "stream",
     "text": [
      "DiagramVectorizer: batch: 100%|██████████| 1/1 [00:02<00:00,  2.13s/it]\n"
     ]
    },
    {
     "name": "stdout",
     "output_type": "stream",
     "text": [
      "Fitting filtration 10/12: 4/RadialFiltration_8_19\n",
      "FiltrationExtractor: processing None, do_fit = True, filtration = RadialFiltration(center=array([ 8, 19]), n_jobs=1)\n",
      "Applying Scaler to persistence diagrams.\n",
      "DiagramVectorizer: fitting complete\n"
     ]
    },
    {
     "name": "stderr",
     "output_type": "stream",
     "text": [
      "DiagramVectorizer: batch: 100%|██████████| 1/1 [00:02<00:00,  2.40s/it]\n"
     ]
    },
    {
     "name": "stdout",
     "output_type": "stream",
     "text": [
      "Fitting filtration 11/12: 4/RadialFiltration_19_8\n",
      "FiltrationExtractor: processing None, do_fit = True, filtration = RadialFiltration(center=array([19,  8]), n_jobs=1)\n",
      "Applying Scaler to persistence diagrams.\n",
      "DiagramVectorizer: fitting complete\n"
     ]
    },
    {
     "name": "stderr",
     "output_type": "stream",
     "text": [
      "DiagramVectorizer: batch: 100%|██████████| 1/1 [00:02<00:00,  2.20s/it]\n"
     ]
    },
    {
     "name": "stdout",
     "output_type": "stream",
     "text": [
      "Fitting filtration 12/12: 4/RadialFiltration_19_19\n",
      "FiltrationExtractor: processing None, do_fit = True, filtration = RadialFiltration(center=array([19, 19]), n_jobs=1)\n",
      "Applying Scaler to persistence diagrams.\n",
      "DiagramVectorizer: fitting complete\n"
     ]
    },
    {
     "name": "stderr",
     "output_type": "stream",
     "text": [
      "DiagramVectorizer: batch: 100%|██████████| 1/1 [00:02<00:00,  2.32s/it]\n"
     ]
    },
    {
     "name": "stdout",
     "output_type": "stream",
     "text": [
      "Applying filtrations\n",
      "Applying filtration 1/12: 4/HeightFiltrartion_-1_-1\n",
      "FiltrationExtractor: processing None, do_fit = False, filtration = HeightFiltration(direction=array([-1, -1]), n_jobs=1)\n",
      "Applying Scaler to persistence diagrams.\n"
     ]
    },
    {
     "name": "stderr",
     "output_type": "stream",
     "text": [
      "DiagramVectorizer: batch: 100%|██████████| 1/1 [00:02<00:00,  2.33s/it]\n"
     ]
    },
    {
     "name": "stdout",
     "output_type": "stream",
     "text": [
      "Applying filtration 2/12: 4/HeightFiltrartion_1_1\n",
      "FiltrationExtractor: processing None, do_fit = False, filtration = HeightFiltration(direction=array([1, 1]), n_jobs=1)\n",
      "Applying Scaler to persistence diagrams.\n"
     ]
    },
    {
     "name": "stderr",
     "output_type": "stream",
     "text": [
      "DiagramVectorizer: batch: 100%|██████████| 1/1 [00:02<00:00,  2.10s/it]\n"
     ]
    },
    {
     "name": "stdout",
     "output_type": "stream",
     "text": [
      "Applying filtration 3/12: 4/HeightFiltrartion_1_-1\n",
      "FiltrationExtractor: processing None, do_fit = False, filtration = HeightFiltration(direction=array([ 1, -1]), n_jobs=1)\n",
      "Applying Scaler to persistence diagrams.\n"
     ]
    },
    {
     "name": "stderr",
     "output_type": "stream",
     "text": [
      "DiagramVectorizer: batch: 100%|██████████| 1/1 [00:02<00:00,  2.19s/it]\n"
     ]
    },
    {
     "name": "stdout",
     "output_type": "stream",
     "text": [
      "Applying filtration 4/12: 4/HeightFiltrartion_-1_1\n",
      "FiltrationExtractor: processing None, do_fit = False, filtration = HeightFiltration(direction=array([-1,  1]), n_jobs=1)\n",
      "Applying Scaler to persistence diagrams.\n"
     ]
    },
    {
     "name": "stderr",
     "output_type": "stream",
     "text": [
      "DiagramVectorizer: batch: 100%|██████████| 1/1 [00:02<00:00,  2.09s/it]\n"
     ]
    },
    {
     "name": "stdout",
     "output_type": "stream",
     "text": [
      "Applying filtration 5/12: 4/HeightFiltrartion_0_-1\n",
      "FiltrationExtractor: processing None, do_fit = False, filtration = HeightFiltration(direction=array([ 0, -1]), n_jobs=1)\n",
      "Applying Scaler to persistence diagrams.\n"
     ]
    },
    {
     "name": "stderr",
     "output_type": "stream",
     "text": [
      "DiagramVectorizer: batch: 100%|██████████| 1/1 [00:02<00:00,  2.02s/it]\n"
     ]
    },
    {
     "name": "stdout",
     "output_type": "stream",
     "text": [
      "Applying filtration 6/12: 4/HeightFiltrartion_0_1\n",
      "FiltrationExtractor: processing None, do_fit = False, filtration = HeightFiltration(direction=array([0, 1]), n_jobs=1)\n",
      "Applying Scaler to persistence diagrams.\n"
     ]
    },
    {
     "name": "stderr",
     "output_type": "stream",
     "text": [
      "DiagramVectorizer: batch: 100%|██████████| 1/1 [00:02<00:00,  2.03s/it]\n"
     ]
    },
    {
     "name": "stdout",
     "output_type": "stream",
     "text": [
      "Applying filtration 7/12: 4/HeightFiltrartion_-1_0\n",
      "FiltrationExtractor: processing None, do_fit = False, filtration = HeightFiltration(direction=array([-1,  0]), n_jobs=1)\n",
      "Applying Scaler to persistence diagrams.\n"
     ]
    },
    {
     "name": "stderr",
     "output_type": "stream",
     "text": [
      "DiagramVectorizer: batch: 100%|██████████| 1/1 [00:01<00:00,  1.97s/it]\n"
     ]
    },
    {
     "name": "stdout",
     "output_type": "stream",
     "text": [
      "Applying filtration 8/12: 4/HeightFiltrartion_1_0\n",
      "FiltrationExtractor: processing None, do_fit = False, filtration = HeightFiltration(direction=array([1, 0]), n_jobs=1)\n",
      "Applying Scaler to persistence diagrams.\n"
     ]
    },
    {
     "name": "stderr",
     "output_type": "stream",
     "text": [
      "DiagramVectorizer: batch: 100%|██████████| 1/1 [00:01<00:00,  1.82s/it]\n"
     ]
    },
    {
     "name": "stdout",
     "output_type": "stream",
     "text": [
      "Applying filtration 9/12: 4/RadialFiltration_8_8\n",
      "FiltrationExtractor: processing None, do_fit = False, filtration = RadialFiltration(center=array([8, 8]), n_jobs=1)\n",
      "Applying Scaler to persistence diagrams.\n"
     ]
    },
    {
     "name": "stderr",
     "output_type": "stream",
     "text": [
      "DiagramVectorizer: batch: 100%|██████████| 1/1 [00:02<00:00,  2.13s/it]\n"
     ]
    },
    {
     "name": "stdout",
     "output_type": "stream",
     "text": [
      "Applying filtration 10/12: 4/RadialFiltration_8_19\n",
      "FiltrationExtractor: processing None, do_fit = False, filtration = RadialFiltration(center=array([ 8, 19]), n_jobs=1)\n",
      "Applying Scaler to persistence diagrams.\n"
     ]
    },
    {
     "name": "stderr",
     "output_type": "stream",
     "text": [
      "DiagramVectorizer: batch: 100%|██████████| 1/1 [00:02<00:00,  2.37s/it]\n"
     ]
    },
    {
     "name": "stdout",
     "output_type": "stream",
     "text": [
      "Applying filtration 11/12: 4/RadialFiltration_19_8\n",
      "FiltrationExtractor: processing None, do_fit = False, filtration = RadialFiltration(center=array([19,  8]), n_jobs=1)\n",
      "Applying Scaler to persistence diagrams.\n"
     ]
    },
    {
     "name": "stderr",
     "output_type": "stream",
     "text": [
      "DiagramVectorizer: batch: 100%|██████████| 1/1 [00:02<00:00,  2.20s/it]\n"
     ]
    },
    {
     "name": "stdout",
     "output_type": "stream",
     "text": [
      "Applying filtration 12/12: 4/RadialFiltration_19_19\n",
      "FiltrationExtractor: processing None, do_fit = False, filtration = RadialFiltration(center=array([19, 19]), n_jobs=1)\n",
      "Applying Scaler to persistence diagrams.\n"
     ]
    },
    {
     "name": "stderr",
     "output_type": "stream",
     "text": [
      "DiagramVectorizer: batch: 100%|██████████| 1/1 [00:02<00:00,  2.32s/it]\n",
      "GrayGeometryExtractor: 100%|██████████| 100/100 [00:04<00:00, 22.10it/s]\n",
      "GrayGeometryExtractor: 100%|██████████| 100/100 [00:04<00:00, 23.35it/s]\n"
     ]
    },
    {
     "name": "stdout",
     "output_type": "stream",
     "text": [
      "Applying StandardScaler.\n",
      "Calculating inverted images\n",
      "GreyscaleExtractor: processing None, do_fit = False\n",
      "Applying Scaler to persistence diagrams.\n"
     ]
    },
    {
     "name": "stderr",
     "output_type": "stream",
     "text": [
      "DiagramVectorizer: batch: 100%|██████████| 1/1 [00:01<00:00,  1.85s/it]\n"
     ]
    },
    {
     "name": "stdout",
     "output_type": "stream",
     "text": [
      "GreyscaleExtractor: processing None, do_fit = False\n",
      "Applying Scaler to persistence diagrams.\n"
     ]
    },
    {
     "name": "stderr",
     "output_type": "stream",
     "text": [
      "DiagramVectorizer: batch: 100%|██████████| 1/1 [00:01<00:00,  1.98s/it]\n"
     ]
    },
    {
     "name": "stdout",
     "output_type": "stream",
     "text": [
      "Applying filtrations\n",
      "Applying filtration 1/12: 4/HeightFiltrartion_-1_-1\n",
      "FiltrationExtractor: processing None, do_fit = False, filtration = HeightFiltration(direction=array([-1, -1]), n_jobs=1)\n",
      "Applying Scaler to persistence diagrams.\n"
     ]
    },
    {
     "name": "stderr",
     "output_type": "stream",
     "text": [
      "DiagramVectorizer: batch: 100%|██████████| 1/1 [00:02<00:00,  2.36s/it]\n"
     ]
    },
    {
     "name": "stdout",
     "output_type": "stream",
     "text": [
      "Applying filtration 2/12: 4/HeightFiltrartion_1_1\n",
      "FiltrationExtractor: processing None, do_fit = False, filtration = HeightFiltration(direction=array([1, 1]), n_jobs=1)\n",
      "Applying Scaler to persistence diagrams.\n"
     ]
    },
    {
     "name": "stderr",
     "output_type": "stream",
     "text": [
      "DiagramVectorizer: batch: 100%|██████████| 1/1 [00:02<00:00,  2.09s/it]\n"
     ]
    },
    {
     "name": "stdout",
     "output_type": "stream",
     "text": [
      "Applying filtration 3/12: 4/HeightFiltrartion_1_-1\n",
      "FiltrationExtractor: processing None, do_fit = False, filtration = HeightFiltration(direction=array([ 1, -1]), n_jobs=1)\n",
      "Applying Scaler to persistence diagrams.\n"
     ]
    },
    {
     "name": "stderr",
     "output_type": "stream",
     "text": [
      "DiagramVectorizer: batch: 100%|██████████| 1/1 [00:02<00:00,  2.19s/it]\n"
     ]
    },
    {
     "name": "stdout",
     "output_type": "stream",
     "text": [
      "Applying filtration 4/12: 4/HeightFiltrartion_-1_1\n",
      "FiltrationExtractor: processing None, do_fit = False, filtration = HeightFiltration(direction=array([-1,  1]), n_jobs=1)\n",
      "Applying Scaler to persistence diagrams.\n"
     ]
    },
    {
     "name": "stderr",
     "output_type": "stream",
     "text": [
      "DiagramVectorizer: batch: 100%|██████████| 1/1 [00:02<00:00,  2.08s/it]\n"
     ]
    },
    {
     "name": "stdout",
     "output_type": "stream",
     "text": [
      "Applying filtration 5/12: 4/HeightFiltrartion_0_-1\n",
      "FiltrationExtractor: processing None, do_fit = False, filtration = HeightFiltration(direction=array([ 0, -1]), n_jobs=1)\n",
      "Applying Scaler to persistence diagrams.\n"
     ]
    },
    {
     "name": "stderr",
     "output_type": "stream",
     "text": [
      "DiagramVectorizer: batch: 100%|██████████| 1/1 [00:01<00:00,  1.99s/it]\n"
     ]
    },
    {
     "name": "stdout",
     "output_type": "stream",
     "text": [
      "Applying filtration 6/12: 4/HeightFiltrartion_0_1\n",
      "FiltrationExtractor: processing None, do_fit = False, filtration = HeightFiltration(direction=array([0, 1]), n_jobs=1)\n",
      "Applying Scaler to persistence diagrams.\n"
     ]
    },
    {
     "name": "stderr",
     "output_type": "stream",
     "text": [
      "DiagramVectorizer: batch: 100%|██████████| 1/1 [00:02<00:00,  2.07s/it]\n"
     ]
    },
    {
     "name": "stdout",
     "output_type": "stream",
     "text": [
      "Applying filtration 7/12: 4/HeightFiltrartion_-1_0\n",
      "FiltrationExtractor: processing None, do_fit = False, filtration = HeightFiltration(direction=array([-1,  0]), n_jobs=1)\n",
      "Applying Scaler to persistence diagrams.\n"
     ]
    },
    {
     "name": "stderr",
     "output_type": "stream",
     "text": [
      "DiagramVectorizer: batch: 100%|██████████| 1/1 [00:01<00:00,  1.53s/it]\n"
     ]
    },
    {
     "name": "stdout",
     "output_type": "stream",
     "text": [
      "Applying filtration 8/12: 4/HeightFiltrartion_1_0\n",
      "FiltrationExtractor: processing None, do_fit = False, filtration = HeightFiltration(direction=array([1, 0]), n_jobs=1)\n",
      "Applying Scaler to persistence diagrams.\n"
     ]
    },
    {
     "name": "stderr",
     "output_type": "stream",
     "text": [
      "DiagramVectorizer: batch: 100%|██████████| 1/1 [00:01<00:00,  1.41s/it]\n"
     ]
    },
    {
     "name": "stdout",
     "output_type": "stream",
     "text": [
      "Applying filtration 9/12: 4/RadialFiltration_8_8\n",
      "FiltrationExtractor: processing None, do_fit = False, filtration = RadialFiltration(center=array([8, 8]), n_jobs=1)\n",
      "Applying Scaler to persistence diagrams.\n"
     ]
    },
    {
     "name": "stderr",
     "output_type": "stream",
     "text": [
      "DiagramVectorizer: batch: 100%|██████████| 1/1 [00:01<00:00,  1.66s/it]\n"
     ]
    },
    {
     "name": "stdout",
     "output_type": "stream",
     "text": [
      "Applying filtration 10/12: 4/RadialFiltration_8_19\n",
      "FiltrationExtractor: processing None, do_fit = False, filtration = RadialFiltration(center=array([ 8, 19]), n_jobs=1)\n",
      "Applying Scaler to persistence diagrams.\n"
     ]
    },
    {
     "name": "stderr",
     "output_type": "stream",
     "text": [
      "DiagramVectorizer: batch: 100%|██████████| 1/1 [00:01<00:00,  1.84s/it]\n"
     ]
    },
    {
     "name": "stdout",
     "output_type": "stream",
     "text": [
      "Applying filtration 11/12: 4/RadialFiltration_19_8\n",
      "FiltrationExtractor: processing None, do_fit = False, filtration = RadialFiltration(center=array([19,  8]), n_jobs=1)\n",
      "Applying Scaler to persistence diagrams.\n"
     ]
    },
    {
     "name": "stderr",
     "output_type": "stream",
     "text": [
      "DiagramVectorizer: batch: 100%|██████████| 1/1 [00:01<00:00,  1.71s/it]\n"
     ]
    },
    {
     "name": "stdout",
     "output_type": "stream",
     "text": [
      "Applying filtration 12/12: 4/RadialFiltration_19_19\n",
      "FiltrationExtractor: processing None, do_fit = False, filtration = RadialFiltration(center=array([19, 19]), n_jobs=1)\n",
      "Applying Scaler to persistence diagrams.\n"
     ]
    },
    {
     "name": "stderr",
     "output_type": "stream",
     "text": [
      "DiagramVectorizer: batch: 100%|██████████| 1/1 [00:01<00:00,  1.80s/it]\n",
      "GrayGeometryExtractor: 100%|██████████| 100/100 [00:03<00:00, 29.97it/s]\n"
     ]
    },
    {
     "name": "stdout",
     "output_type": "stream",
     "text": [
      "Applying StandardScaler.\n",
      "Calculating inverted images\n",
      "GreyscaleExtractor: processing None, do_fit = False\n",
      "Applying Scaler to persistence diagrams.\n"
     ]
    },
    {
     "name": "stderr",
     "output_type": "stream",
     "text": [
      "DiagramVectorizer: batch: 100%|██████████| 1/1 [00:01<00:00,  1.09s/it]\n"
     ]
    },
    {
     "name": "stdout",
     "output_type": "stream",
     "text": [
      "GreyscaleExtractor: processing None, do_fit = False\n",
      "Applying Scaler to persistence diagrams.\n"
     ]
    },
    {
     "name": "stderr",
     "output_type": "stream",
     "text": [
      "DiagramVectorizer: batch: 100%|██████████| 1/1 [00:01<00:00,  1.20s/it]\n"
     ]
    },
    {
     "name": "stdout",
     "output_type": "stream",
     "text": [
      "Applying filtrations\n",
      "Applying filtration 1/12: 4/HeightFiltrartion_-1_-1\n",
      "FiltrationExtractor: processing None, do_fit = False, filtration = HeightFiltration(direction=array([-1, -1]), n_jobs=1)\n",
      "Applying Scaler to persistence diagrams.\n"
     ]
    },
    {
     "name": "stderr",
     "output_type": "stream",
     "text": [
      "DiagramVectorizer: batch: 100%|██████████| 1/1 [00:01<00:00,  1.44s/it]\n"
     ]
    },
    {
     "name": "stdout",
     "output_type": "stream",
     "text": [
      "Applying filtration 2/12: 4/HeightFiltrartion_1_1\n",
      "FiltrationExtractor: processing None, do_fit = False, filtration = HeightFiltration(direction=array([1, 1]), n_jobs=1)\n",
      "Applying Scaler to persistence diagrams.\n"
     ]
    },
    {
     "name": "stderr",
     "output_type": "stream",
     "text": [
      "DiagramVectorizer: batch: 100%|██████████| 1/1 [00:01<00:00,  1.25s/it]\n"
     ]
    },
    {
     "name": "stdout",
     "output_type": "stream",
     "text": [
      "Applying filtration 3/12: 4/HeightFiltrartion_1_-1\n",
      "FiltrationExtractor: processing None, do_fit = False, filtration = HeightFiltration(direction=array([ 1, -1]), n_jobs=1)\n",
      "Applying Scaler to persistence diagrams.\n"
     ]
    },
    {
     "name": "stderr",
     "output_type": "stream",
     "text": [
      "DiagramVectorizer: batch: 100%|██████████| 1/1 [00:01<00:00,  1.29s/it]\n"
     ]
    },
    {
     "name": "stdout",
     "output_type": "stream",
     "text": [
      "Applying filtration 4/12: 4/HeightFiltrartion_-1_1\n",
      "FiltrationExtractor: processing None, do_fit = False, filtration = HeightFiltration(direction=array([-1,  1]), n_jobs=1)\n",
      "Applying Scaler to persistence diagrams.\n"
     ]
    },
    {
     "name": "stderr",
     "output_type": "stream",
     "text": [
      "DiagramVectorizer: batch: 100%|██████████| 1/1 [00:01<00:00,  1.23s/it]\n"
     ]
    },
    {
     "name": "stdout",
     "output_type": "stream",
     "text": [
      "Applying filtration 5/12: 4/HeightFiltrartion_0_-1\n",
      "FiltrationExtractor: processing None, do_fit = False, filtration = HeightFiltration(direction=array([ 0, -1]), n_jobs=1)\n",
      "Applying Scaler to persistence diagrams.\n"
     ]
    },
    {
     "name": "stderr",
     "output_type": "stream",
     "text": [
      "DiagramVectorizer: batch: 100%|██████████| 1/1 [00:01<00:00,  1.19s/it]\n"
     ]
    },
    {
     "name": "stdout",
     "output_type": "stream",
     "text": [
      "Applying filtration 6/12: 4/HeightFiltrartion_0_1\n",
      "FiltrationExtractor: processing None, do_fit = False, filtration = HeightFiltration(direction=array([0, 1]), n_jobs=1)\n",
      "Applying Scaler to persistence diagrams.\n"
     ]
    },
    {
     "name": "stderr",
     "output_type": "stream",
     "text": [
      "DiagramVectorizer: batch: 100%|██████████| 1/1 [00:01<00:00,  1.20s/it]\n"
     ]
    },
    {
     "name": "stdout",
     "output_type": "stream",
     "text": [
      "Applying filtration 7/12: 4/HeightFiltrartion_-1_0\n",
      "FiltrationExtractor: processing None, do_fit = False, filtration = HeightFiltration(direction=array([-1,  0]), n_jobs=1)\n",
      "Applying Scaler to persistence diagrams.\n"
     ]
    },
    {
     "name": "stderr",
     "output_type": "stream",
     "text": [
      "DiagramVectorizer: batch: 100%|██████████| 1/1 [00:01<00:00,  1.22s/it]\n"
     ]
    },
    {
     "name": "stdout",
     "output_type": "stream",
     "text": [
      "Applying filtration 8/12: 4/HeightFiltrartion_1_0\n",
      "FiltrationExtractor: processing None, do_fit = False, filtration = HeightFiltration(direction=array([1, 0]), n_jobs=1)\n",
      "Applying Scaler to persistence diagrams.\n"
     ]
    },
    {
     "name": "stderr",
     "output_type": "stream",
     "text": [
      "DiagramVectorizer: batch: 100%|██████████| 1/1 [00:01<00:00,  1.07s/it]\n"
     ]
    },
    {
     "name": "stdout",
     "output_type": "stream",
     "text": [
      "Applying filtration 9/12: 4/RadialFiltration_8_8\n",
      "FiltrationExtractor: processing None, do_fit = False, filtration = RadialFiltration(center=array([8, 8]), n_jobs=1)\n",
      "Applying Scaler to persistence diagrams.\n"
     ]
    },
    {
     "name": "stderr",
     "output_type": "stream",
     "text": [
      "DiagramVectorizer: batch: 100%|██████████| 1/1 [00:01<00:00,  1.26s/it]\n"
     ]
    },
    {
     "name": "stdout",
     "output_type": "stream",
     "text": [
      "Applying filtration 10/12: 4/RadialFiltration_8_19\n",
      "FiltrationExtractor: processing None, do_fit = False, filtration = RadialFiltration(center=array([ 8, 19]), n_jobs=1)\n",
      "Applying Scaler to persistence diagrams.\n"
     ]
    },
    {
     "name": "stderr",
     "output_type": "stream",
     "text": [
      "DiagramVectorizer: batch: 100%|██████████| 1/1 [00:01<00:00,  1.40s/it]\n"
     ]
    },
    {
     "name": "stdout",
     "output_type": "stream",
     "text": [
      "Applying filtration 11/12: 4/RadialFiltration_19_8\n",
      "FiltrationExtractor: processing None, do_fit = False, filtration = RadialFiltration(center=array([19,  8]), n_jobs=1)\n",
      "Applying Scaler to persistence diagrams.\n"
     ]
    },
    {
     "name": "stderr",
     "output_type": "stream",
     "text": [
      "DiagramVectorizer: batch: 100%|██████████| 1/1 [00:01<00:00,  1.30s/it]\n"
     ]
    },
    {
     "name": "stdout",
     "output_type": "stream",
     "text": [
      "Applying filtration 12/12: 4/RadialFiltration_19_19\n",
      "FiltrationExtractor: processing None, do_fit = False, filtration = RadialFiltration(center=array([19, 19]), n_jobs=1)\n",
      "Applying Scaler to persistence diagrams.\n"
     ]
    },
    {
     "name": "stderr",
     "output_type": "stream",
     "text": [
      "DiagramVectorizer: batch: 100%|██████████| 1/1 [00:01<00:00,  1.37s/it]\n",
      "GrayGeometryExtractor: 100%|██████████| 75/75 [00:02<00:00, 29.89it/s]"
     ]
    },
    {
     "name": "stdout",
     "output_type": "stream",
     "text": [
      "Applying StandardScaler.\n"
     ]
    },
    {
     "name": "stderr",
     "output_type": "stream",
     "text": [
      "\n"
     ]
    }
   ],
   "source": [
    "import cvtda.topology\n",
    "extractor = cvtda.topology.FeatureExtractor(\n",
    "    n_jobs = 1,\n",
    "    binarizer_thresholds = [ 0.4 ],\n",
    "    num_radial_filtrations = 2\n",
    ")\n",
    "train_features = extractor.fit_transform(train_images)\n",
    "test_features = extractor.transform(test_images)"
   ]
  },
  {
   "cell_type": "code",
   "execution_count": 4,
   "id": "873b626b",
   "metadata": {},
   "outputs": [
    {
     "name": "stdout",
     "output_type": "stream",
     "text": [
      "Trying KNeighborsClassifier - KNeighborsClassifier(n_jobs=-1)\n",
      "{'classifier': 'Метод k ближайших соседей', 'Accuracy': 0.72, 'AUC-ROC': 0.9575088445872176, 'Precision': 0.7329761904761904, 'Recall': 0.7097222222222223, 'F1-score': 0.656604539251598, 'TOP-2 Accuracy': 0.8266666666666667, 'TOP-3 Accuracy': 0.92, 'TOP-5 Accuracy': 0.9733333333333334, 'TOP-7 Accuracy': 0.9866666666666667, 'TOP-9 Accuracy': 1.0}\n",
      "Trying RandomForestClassifier - RandomForestClassifier(n_jobs=-1, random_state=42)\n",
      "{'classifier': 'Случайный лес', 'Accuracy': 0.7466666666666667, 'AUC-ROC': 0.9907360166288738, 'Precision': 0.7544277360066833, 'Recall': 0.7240079365079366, 'F1-score': 0.6835874017676262, 'TOP-2 Accuracy': 0.9333333333333333, 'TOP-3 Accuracy': 0.96, 'TOP-5 Accuracy': 1.0, 'TOP-7 Accuracy': 1.0, 'TOP-9 Accuracy': 1.0}\n",
      "Trying HistGradientBoostingClassifier - HistGradientBoostingClassifier(max_depth=4, max_features=0.1, max_iter=20,\n",
      "                               random_state=42, verbose=2)\n",
      "Binning 0.003 GB of training data: 0.250 s\n",
      "Fitting gradient boosted rounds:\n",
      "[1/20] 10 trees, 27 leaves (2 on avg), max depth = 2, in 0.071s\n",
      "[2/20] 10 trees, 42 leaves (4 on avg), max depth = 4, in 0.081s\n",
      "[3/20] 10 trees, 40 leaves (4 on avg), max depth = 3, in 0.083s\n",
      "[4/20] 10 trees, 43 leaves (4 on avg), max depth = 4, in 0.087s\n",
      "[5/20] 10 trees, 40 leaves (4 on avg), max depth = 3, in 0.079s\n",
      "[6/20] 10 trees, 42 leaves (4 on avg), max depth = 4, in 0.083s\n",
      "[7/20] 10 trees, 40 leaves (4 on avg), max depth = 3, in 0.081s\n",
      "[8/20] 10 trees, 41 leaves (4 on avg), max depth = 4, in 0.079s\n",
      "[9/20] 10 trees, 43 leaves (4 on avg), max depth = 4, in 0.087s\n",
      "[10/20] 10 trees, 40 leaves (4 on avg), max depth = 3, in 0.077s\n",
      "[11/20] 10 trees, 43 leaves (4 on avg), max depth = 4, in 0.086s\n",
      "[12/20] 10 trees, 41 leaves (4 on avg), max depth = 4, in 0.080s\n",
      "[13/20] 10 trees, 40 leaves (4 on avg), max depth = 3, in 0.076s\n",
      "[14/20] 10 trees, 40 leaves (4 on avg), max depth = 3, in 0.074s\n",
      "[15/20] 10 trees, 42 leaves (4 on avg), max depth = 4, in 0.082s\n",
      "[16/20] 10 trees, 41 leaves (4 on avg), max depth = 4, in 0.080s\n",
      "[17/20] 10 trees, 40 leaves (4 on avg), max depth = 3, in 0.112s\n",
      "[18/20] 10 trees, 44 leaves (4 on avg), max depth = 4, in 0.090s\n",
      "[19/20] 10 trees, 41 leaves (4 on avg), max depth = 4, in 0.081s\n",
      "[20/20] 10 trees, 41 leaves (4 on avg), max depth = 4, in 0.077s\n",
      "Fit 200 trees in 1.899 s, (811 total leaves)\n",
      "Time spent computing histograms: 1.172s\n",
      "Time spent finding best splits:  0.141s\n",
      "Time spent applying splits:      0.079s\n",
      "Time spent predicting:           0.014s\n",
      "{'classifier': 'Град. бустинг на основе гистограмм', 'Accuracy': 0.8, 'AUC-ROC': 0.9855562904174016, 'Precision': 0.8179487179487179, 'Recall': 0.7775793650793651, 'F1-score': 0.7664002011060835, 'TOP-2 Accuracy': 0.96, 'TOP-3 Accuracy': 0.9733333333333334, 'TOP-5 Accuracy': 1.0, 'TOP-7 Accuracy': 1.0, 'TOP-9 Accuracy': 1.0}\n",
      "Trying CatBoostClassifier - <catboost.core.CatBoostClassifier object at 0x10792aaa0>\n",
      "Learning rate set to 0.5\n",
      "0:\tlearn: 1.8791840\ttotal: 256ms\tremaining: 2.3s\n",
      "1:\tlearn: 1.6729315\ttotal: 319ms\tremaining: 1.28s\n",
      "2:\tlearn: 1.4134416\ttotal: 374ms\tremaining: 872ms\n",
      "3:\tlearn: 1.2122662\ttotal: 425ms\tremaining: 638ms\n",
      "4:\tlearn: 1.0550993\ttotal: 481ms\tremaining: 481ms\n",
      "5:\tlearn: 0.9056598\ttotal: 541ms\tremaining: 360ms\n",
      "6:\tlearn: 0.8233362\ttotal: 596ms\tremaining: 256ms\n",
      "7:\tlearn: 0.7718534\ttotal: 663ms\tremaining: 166ms\n",
      "8:\tlearn: 0.6802405\ttotal: 725ms\tremaining: 80.5ms\n",
      "9:\tlearn: 0.6135535\ttotal: 778ms\tremaining: 0us\n",
      "{'classifier': 'CatBoost', 'Accuracy': 0.7066666666666667, 'AUC-ROC': 0.9555132413515349, 'Precision': 0.7209558823529412, 'Recall': 0.6944444444444444, 'F1-score': 0.6380227104682639, 'TOP-2 Accuracy': 0.8533333333333334, 'TOP-3 Accuracy': 0.8933333333333333, 'TOP-5 Accuracy': 0.9333333333333333, 'TOP-7 Accuracy': 0.9866666666666667, 'TOP-9 Accuracy': 1.0}\n",
      "Trying XGBClassifier - XGBClassifier(base_score=None, booster=None, callbacks=None,\n",
      "              colsample_bylevel=None, colsample_bynode=None,\n",
      "              colsample_bytree=None, device='gpu', early_stopping_rounds=None,\n",
      "              enable_categorical=False, eval_metric=None, feature_types=None,\n",
      "              feature_weights=None, gamma=None, grow_policy=None,\n",
      "              importance_type=None, interaction_constraints=None,\n",
      "              learning_rate=None, max_bin=None, max_cat_threshold=None,\n",
      "              max_cat_to_onehot=None, max_delta_step=None, max_depth=4,\n",
      "              max_leaves=None, min_child_weight=None, missing=nan,\n",
      "              monotone_constraints=None, multi_strategy=None, n_estimators=25,\n",
      "              n_jobs=-1, num_parallel_tree=None, ...)\n"
     ]
    },
    {
     "name": "stderr",
     "output_type": "stream",
     "text": [
      "/opt/homebrew/lib/python3.10/site-packages/xgboost/training.py:183: UserWarning: [22:57:12] WARNING: /Users/runner/work/xgboost/xgboost/src/context.cc:203: XGBoost is not compiled with CUDA support.\n",
      "  bst.update(dtrain, iteration=i, fobj=obj)\n"
     ]
    },
    {
     "name": "stdout",
     "output_type": "stream",
     "text": [
      "{'classifier': 'XGBoost', 'Accuracy': 0.8133333333333334, 'AUC-ROC': 0.9773286531223039, 'Precision': 0.8620268620268622, 'Recall': 0.8063492063492064, 'F1-score': 0.7970013802622498, 'TOP-2 Accuracy': 0.9066666666666666, 'TOP-3 Accuracy': 0.96, 'TOP-5 Accuracy': 0.9866666666666667, 'TOP-7 Accuracy': 1.0, 'TOP-9 Accuracy': 1.0}\n",
      "Trying NNClassifier_features - <cvtda.classification.NNClassifier.NNClassifier object at 0x10792a290>\n",
      "Topology:  True\n",
      "Images:  torch.Size([100, 1, 28, 28])\n",
      "Features:  torch.Size([100, 4185])\n"
     ]
    },
    {
     "name": "stderr",
     "output_type": "stream",
     "text": [
      "/opt/homebrew/lib/python3.10/site-packages/torch/nn/init.py:511: UserWarning: Initializing zero-element tensors is a no-op\n",
      "  warnings.warn(\"Initializing zero-element tensors is a no-op\")\n"
     ]
    },
    {
     "name": "stdout",
     "output_type": "stream",
     "text": [
      "Input to LazyLinear: 1024\n",
      "Parameters: 4594410\n"
     ]
    },
    {
     "name": "stderr",
     "output_type": "stream",
     "text": [
      "Epoch 0: 100%|██████████| 1/1 [00:02<00:00,  2.21s/it]\n"
     ]
    },
    {
     "name": "stdout",
     "output_type": "stream",
     "text": [
      "Epoch 0: {'loss': 2.41049861907959, 'lr': 0.010000000000000002, 'val_acc': 0.21333333333333335}\n"
     ]
    },
    {
     "name": "stderr",
     "output_type": "stream",
     "text": [
      "Epoch 1: 100%|██████████| 1/1 [00:00<00:00, 59.59it/s]\n"
     ]
    },
    {
     "name": "stdout",
     "output_type": "stream",
     "text": [
      "Epoch 1: {'loss': 1.9934256076812744, 'lr': 0.001, 'val_acc': 0.3333333333333333}\n"
     ]
    },
    {
     "name": "stderr",
     "output_type": "stream",
     "text": [
      "Epoch 2: 100%|██████████| 1/1 [00:00<00:00, 60.23it/s]\n"
     ]
    },
    {
     "name": "stdout",
     "output_type": "stream",
     "text": [
      "Epoch 2: {'loss': 1.93181574344635, 'lr': 0.001, 'val_acc': 0.36}\n"
     ]
    },
    {
     "name": "stderr",
     "output_type": "stream",
     "text": [
      "Epoch 3: 100%|██████████| 1/1 [00:00<00:00, 61.44it/s]\n"
     ]
    },
    {
     "name": "stdout",
     "output_type": "stream",
     "text": [
      "Epoch 3: {'loss': 1.8561018705368042, 'lr': 0.0001, 'val_acc': 0.38666666666666666}\n"
     ]
    },
    {
     "name": "stderr",
     "output_type": "stream",
     "text": [
      "Epoch 4: 100%|██████████| 1/1 [00:00<00:00, 25.50it/s]\n"
     ]
    },
    {
     "name": "stdout",
     "output_type": "stream",
     "text": [
      "Epoch 4: {'loss': 1.7851650714874268, 'lr': 1e-05, 'val_acc': 0.4266666666666667}\n"
     ]
    },
    {
     "name": "stderr",
     "output_type": "stream",
     "text": [
      "Epoch 5: 100%|██████████| 1/1 [00:00<00:00, 65.31it/s]"
     ]
    },
    {
     "name": "stdout",
     "output_type": "stream",
     "text": [
      "Epoch 5: {'loss': 1.8420050144195557, 'lr': 1e-05, 'val_acc': 0.49333333333333335}\n"
     ]
    },
    {
     "name": "stderr",
     "output_type": "stream",
     "text": [
      "\n",
      "/opt/homebrew/lib/python3.10/site-packages/torch/nn/init.py:511: UserWarning: Initializing zero-element tensors is a no-op\n",
      "  warnings.warn(\"Initializing zero-element tensors is a no-op\")\n"
     ]
    },
    {
     "name": "stdout",
     "output_type": "stream",
     "text": [
      "{'classifier': 'Нейронная сеть для тополог. признаков', 'Accuracy': 0.49333333333333335, 'AUC-ROC': 0.8727106906174369, 'Precision': 0.31675837320574163, 'Recall': 0.475, 'F1-score': 0.3503205128205128, 'TOP-2 Accuracy': 0.5733333333333334, 'TOP-3 Accuracy': 0.64, 'TOP-5 Accuracy': 0.7466666666666667, 'TOP-7 Accuracy': 0.8533333333333334, 'TOP-9 Accuracy': 0.9733333333333334}\n",
      "Skipping NNClassifier_diagrams - <cvtda.classification.NNClassifier.NNClassifier object at 0x10792b790>\n",
      "Trying NNClassifier_images - <cvtda.classification.NNClassifier.NNClassifier object at 0x10792bb80>\n",
      "Topology:  False\n",
      "Images:  torch.Size([100, 1, 28, 28])\n",
      "Features:  torch.Size([100, 4185])\n",
      "Parameters: 23523274\n"
     ]
    },
    {
     "name": "stderr",
     "output_type": "stream",
     "text": [
      "Epoch 0: 100%|██████████| 1/1 [00:04<00:00,  4.95s/it]\n"
     ]
    },
    {
     "name": "stdout",
     "output_type": "stream",
     "text": [
      "Epoch 0: {'loss': 2.82889461517334, 'lr': 0.001, 'val_acc': 0.10666666666666667}\n"
     ]
    },
    {
     "name": "stderr",
     "output_type": "stream",
     "text": [
      "Epoch 1: 100%|██████████| 1/1 [00:00<00:00,  7.19it/s]\n"
     ]
    },
    {
     "name": "stdout",
     "output_type": "stream",
     "text": [
      "Epoch 1: {'loss': 1.845155954360962, 'lr': 0.0001, 'val_acc': 0.10666666666666667}\n"
     ]
    },
    {
     "name": "stderr",
     "output_type": "stream",
     "text": [
      "Epoch 2: 100%|██████████| 1/1 [00:00<00:00,  7.31it/s]\n"
     ]
    },
    {
     "name": "stdout",
     "output_type": "stream",
     "text": [
      "Epoch 2: {'loss': 0.6130951046943665, 'lr': 1e-05, 'val_acc': 0.06666666666666667}\n"
     ]
    },
    {
     "name": "stderr",
     "output_type": "stream",
     "text": [
      "/opt/homebrew/lib/python3.10/site-packages/torch/nn/init.py:511: UserWarning: Initializing zero-element tensors is a no-op\n",
      "  warnings.warn(\"Initializing zero-element tensors is a no-op\")\n"
     ]
    },
    {
     "name": "stdout",
     "output_type": "stream",
     "text": [
      "{'classifier': 'ResNet50 – базовая модель', 'Accuracy': 0.06666666666666667, 'AUC-ROC': 0.503554524363056, 'Precision': 0.01575757575757576, 'Recall': 0.07777777777777777, 'F1-score': 0.024333333333333335, 'TOP-2 Accuracy': 0.13333333333333333, 'TOP-3 Accuracy': 0.21333333333333335, 'TOP-5 Accuracy': 0.56, 'TOP-7 Accuracy': 0.8133333333333334, 'TOP-9 Accuracy': 0.9333333333333333}\n",
      "Trying NNClassifier_features_images - <cvtda.classification.NNClassifier.NNClassifier object at 0x31dd19270>\n",
      "Topology:  True\n",
      "Images:  torch.Size([100, 1, 28, 28])\n",
      "Features:  torch.Size([100, 4185])\n",
      "Input to LazyLinear: 2048\n",
      "Parameters: 30456490\n"
     ]
    },
    {
     "name": "stderr",
     "output_type": "stream",
     "text": [
      "Epoch 0: 100%|██████████| 1/1 [00:00<00:00,  3.37it/s]\n"
     ]
    },
    {
     "name": "stdout",
     "output_type": "stream",
     "text": [
      "Epoch 0: {'loss': 2.3879783153533936, 'lr': 0.001, 'val_acc': 0.22666666666666666}\n"
     ]
    },
    {
     "name": "stderr",
     "output_type": "stream",
     "text": [
      "Epoch 1: 100%|██████████| 1/1 [00:00<00:00,  6.99it/s]\n"
     ]
    },
    {
     "name": "stdout",
     "output_type": "stream",
     "text": [
      "Epoch 1: {'loss': 2.1289684772491455, 'lr': 0.0001, 'val_acc': 0.22666666666666666}\n"
     ]
    },
    {
     "name": "stderr",
     "output_type": "stream",
     "text": [
      "Epoch 2: 100%|██████████| 1/1 [00:00<00:00,  6.92it/s]\n"
     ]
    },
    {
     "name": "stdout",
     "output_type": "stream",
     "text": [
      "Epoch 2: {'loss': 2.0329508781433105, 'lr': 1e-05, 'val_acc': 0.22666666666666666}\n",
      "{'classifier': 'Комбинированная нейронная сеть', 'Accuracy': 0.22666666666666666, 'AUC-ROC': 0.8867610701688083, 'Precision': 0.08107158541941152, 'Recall': 0.2833333333333333, 'F1-score': 0.11175950486295314, 'TOP-2 Accuracy': 0.29333333333333333, 'TOP-3 Accuracy': 0.4, 'TOP-5 Accuracy': 0.5866666666666667, 'TOP-7 Accuracy': 0.7333333333333333, 'TOP-9 Accuracy': 0.92}\n"
     ]
    },
    {
     "data": {
      "text/html": [
       "<div>\n",
       "<style scoped>\n",
       "    .dataframe tbody tr th:only-of-type {\n",
       "        vertical-align: middle;\n",
       "    }\n",
       "\n",
       "    .dataframe tbody tr th {\n",
       "        vertical-align: top;\n",
       "    }\n",
       "\n",
       "    .dataframe thead th {\n",
       "        text-align: right;\n",
       "    }\n",
       "</style>\n",
       "<table border=\"1\" class=\"dataframe\">\n",
       "  <thead>\n",
       "    <tr style=\"text-align: right;\">\n",
       "      <th></th>\n",
       "      <th>classifier</th>\n",
       "      <th>Accuracy</th>\n",
       "      <th>AUC-ROC</th>\n",
       "      <th>Precision</th>\n",
       "      <th>Recall</th>\n",
       "      <th>F1-score</th>\n",
       "      <th>TOP-2 Accuracy</th>\n",
       "      <th>TOP-3 Accuracy</th>\n",
       "      <th>TOP-5 Accuracy</th>\n",
       "      <th>TOP-7 Accuracy</th>\n",
       "      <th>TOP-9 Accuracy</th>\n",
       "    </tr>\n",
       "  </thead>\n",
       "  <tbody>\n",
       "    <tr>\n",
       "      <th>0</th>\n",
       "      <td>Метод k ближайших соседей</td>\n",
       "      <td>0.720000</td>\n",
       "      <td>0.957509</td>\n",
       "      <td>0.732976</td>\n",
       "      <td>0.709722</td>\n",
       "      <td>0.656605</td>\n",
       "      <td>0.826667</td>\n",
       "      <td>0.920000</td>\n",
       "      <td>0.973333</td>\n",
       "      <td>0.986667</td>\n",
       "      <td>1.000000</td>\n",
       "    </tr>\n",
       "    <tr>\n",
       "      <th>1</th>\n",
       "      <td>Случайный лес</td>\n",
       "      <td>0.746667</td>\n",
       "      <td>0.990736</td>\n",
       "      <td>0.754428</td>\n",
       "      <td>0.724008</td>\n",
       "      <td>0.683587</td>\n",
       "      <td>0.933333</td>\n",
       "      <td>0.960000</td>\n",
       "      <td>1.000000</td>\n",
       "      <td>1.000000</td>\n",
       "      <td>1.000000</td>\n",
       "    </tr>\n",
       "    <tr>\n",
       "      <th>2</th>\n",
       "      <td>Град. бустинг на основе гистограмм</td>\n",
       "      <td>0.800000</td>\n",
       "      <td>0.985556</td>\n",
       "      <td>0.817949</td>\n",
       "      <td>0.777579</td>\n",
       "      <td>0.766400</td>\n",
       "      <td>0.960000</td>\n",
       "      <td>0.973333</td>\n",
       "      <td>1.000000</td>\n",
       "      <td>1.000000</td>\n",
       "      <td>1.000000</td>\n",
       "    </tr>\n",
       "    <tr>\n",
       "      <th>3</th>\n",
       "      <td>CatBoost</td>\n",
       "      <td>0.706667</td>\n",
       "      <td>0.955513</td>\n",
       "      <td>0.720956</td>\n",
       "      <td>0.694444</td>\n",
       "      <td>0.638023</td>\n",
       "      <td>0.853333</td>\n",
       "      <td>0.893333</td>\n",
       "      <td>0.933333</td>\n",
       "      <td>0.986667</td>\n",
       "      <td>1.000000</td>\n",
       "    </tr>\n",
       "    <tr>\n",
       "      <th>4</th>\n",
       "      <td>XGBoost</td>\n",
       "      <td>0.813333</td>\n",
       "      <td>0.977329</td>\n",
       "      <td>0.862027</td>\n",
       "      <td>0.806349</td>\n",
       "      <td>0.797001</td>\n",
       "      <td>0.906667</td>\n",
       "      <td>0.960000</td>\n",
       "      <td>0.986667</td>\n",
       "      <td>1.000000</td>\n",
       "      <td>1.000000</td>\n",
       "    </tr>\n",
       "    <tr>\n",
       "      <th>5</th>\n",
       "      <td>Нейронная сеть для тополог. признаков</td>\n",
       "      <td>0.493333</td>\n",
       "      <td>0.872711</td>\n",
       "      <td>0.316758</td>\n",
       "      <td>0.475000</td>\n",
       "      <td>0.350321</td>\n",
       "      <td>0.573333</td>\n",
       "      <td>0.640000</td>\n",
       "      <td>0.746667</td>\n",
       "      <td>0.853333</td>\n",
       "      <td>0.973333</td>\n",
       "    </tr>\n",
       "    <tr>\n",
       "      <th>6</th>\n",
       "      <td>NaN</td>\n",
       "      <td>NaN</td>\n",
       "      <td>NaN</td>\n",
       "      <td>NaN</td>\n",
       "      <td>NaN</td>\n",
       "      <td>NaN</td>\n",
       "      <td>NaN</td>\n",
       "      <td>NaN</td>\n",
       "      <td>NaN</td>\n",
       "      <td>NaN</td>\n",
       "      <td>NaN</td>\n",
       "    </tr>\n",
       "    <tr>\n",
       "      <th>7</th>\n",
       "      <td>ResNet50 – базовая модель</td>\n",
       "      <td>0.066667</td>\n",
       "      <td>0.503555</td>\n",
       "      <td>0.015758</td>\n",
       "      <td>0.077778</td>\n",
       "      <td>0.024333</td>\n",
       "      <td>0.133333</td>\n",
       "      <td>0.213333</td>\n",
       "      <td>0.560000</td>\n",
       "      <td>0.813333</td>\n",
       "      <td>0.933333</td>\n",
       "    </tr>\n",
       "    <tr>\n",
       "      <th>8</th>\n",
       "      <td>Комбинированная нейронная сеть</td>\n",
       "      <td>0.226667</td>\n",
       "      <td>0.886761</td>\n",
       "      <td>0.081072</td>\n",
       "      <td>0.283333</td>\n",
       "      <td>0.111760</td>\n",
       "      <td>0.293333</td>\n",
       "      <td>0.400000</td>\n",
       "      <td>0.586667</td>\n",
       "      <td>0.733333</td>\n",
       "      <td>0.920000</td>\n",
       "    </tr>\n",
       "  </tbody>\n",
       "</table>\n",
       "</div>"
      ],
      "text/plain": [
       "                              classifier  Accuracy   AUC-ROC  Precision  \\\n",
       "0              Метод k ближайших соседей  0.720000  0.957509   0.732976   \n",
       "1                          Случайный лес  0.746667  0.990736   0.754428   \n",
       "2     Град. бустинг на основе гистограмм  0.800000  0.985556   0.817949   \n",
       "3                               CatBoost  0.706667  0.955513   0.720956   \n",
       "4                                XGBoost  0.813333  0.977329   0.862027   \n",
       "5  Нейронная сеть для тополог. признаков  0.493333  0.872711   0.316758   \n",
       "6                                    NaN       NaN       NaN        NaN   \n",
       "7              ResNet50 – базовая модель  0.066667  0.503555   0.015758   \n",
       "8         Комбинированная нейронная сеть  0.226667  0.886761   0.081072   \n",
       "\n",
       "     Recall  F1-score  TOP-2 Accuracy  TOP-3 Accuracy  TOP-5 Accuracy  \\\n",
       "0  0.709722  0.656605        0.826667        0.920000        0.973333   \n",
       "1  0.724008  0.683587        0.933333        0.960000        1.000000   \n",
       "2  0.777579  0.766400        0.960000        0.973333        1.000000   \n",
       "3  0.694444  0.638023        0.853333        0.893333        0.933333   \n",
       "4  0.806349  0.797001        0.906667        0.960000        0.986667   \n",
       "5  0.475000  0.350321        0.573333        0.640000        0.746667   \n",
       "6       NaN       NaN             NaN             NaN             NaN   \n",
       "7  0.077778  0.024333        0.133333        0.213333        0.560000   \n",
       "8  0.283333  0.111760        0.293333        0.400000        0.586667   \n",
       "\n",
       "   TOP-7 Accuracy  TOP-9 Accuracy  \n",
       "0        0.986667        1.000000  \n",
       "1        1.000000        1.000000  \n",
       "2        1.000000        1.000000  \n",
       "3        0.986667        1.000000  \n",
       "4        1.000000        1.000000  \n",
       "5        0.853333        0.973333  \n",
       "6             NaN             NaN  \n",
       "7        0.813333        0.933333  \n",
       "8        0.733333        0.920000  "
      ]
     },
     "execution_count": 4,
     "metadata": {},
     "output_type": "execute_result"
    },
    {
     "data": {
      "image/png": "[encoded data removed]",
      "text/plain": [
       "<Figure size 1500x1500 with 9 Axes>"
      ]
     },
     "metadata": {},
     "output_type": "display_data"
    }
   ],
   "source": [
    "import cvtda.classification\n",
    "cvtda.classification.classify(\n",
    "    train_images, train_features, train_labels, None,\n",
    "    test_images, test_features, test_labels, None,\n",
    "    knn_neighbours = 5, nn_epochs = 3, catboost_iterations = 10,\n",
    "    nn_device = 'mps', catboost_device = 'CPU'\n",
    ")"
   ]
  }
 ],
 "metadata": {
  "kernelspec": {
   "display_name": "Python 3",
   "language": "python",
   "name": "python3"
  },
  "language_info": {
   "codemirror_mode": {
    "name": "ipython",
    "version": 3
   },
   "file_extension": ".py",
   "mimetype": "text/x-python",
   "name": "python",
   "nbconvert_exporter": "python",
   "pygments_lexer": "ipython3",
   "version": "3.10.18"
  }
 },
 "nbformat": 4,
 "nbformat_minor": 5
}
