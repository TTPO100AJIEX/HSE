{
 "cells": [
  {
   "cell_type": "code",
   "execution_count": 1,
   "id": "1a29ef3e",
   "metadata": {},
   "outputs": [],
   "source": [
    "import numpy\n",
    "import torchvision\n",
    "\n",
    "train = torchvision.datasets.MNIST('mnist', train = True)\n",
    "train_images = numpy.array([ item[0] for item in train ])[:100] / 255\n",
    "train_labels = numpy.array([ item[1] for item in train ])[:100]\n",
    "\n",
    "test = torchvision.datasets.MNIST('mnist', train = False)\n",
    "test_images = numpy.array([ item[0] for item in test ])[:75] / 255\n",
    "test_labels = numpy.array([ item[1] for item in test ])[:75]"
   ]
  },
  {
   "cell_type": "code",
   "execution_count": 2,
   "id": "1023912d",
   "metadata": {},
   "outputs": [
    {
     "name": "stdout",
     "output_type": "stream",
     "text": [
      "Calculating inverted images\n",
      "GreyscaleExtractor: processing None, do_fit = True\n",
      "Applying Scaler to persistence diagrams.\n",
      "DiagramVectorizer: fitting complete\n"
     ]
    },
    {
     "name": "stderr",
     "output_type": "stream",
     "text": [
      "DiagramVectorizer: batch: 100%|██████████| 1/1 [00:01<00:00,  1.08s/it]\n"
     ]
    },
    {
     "name": "stdout",
     "output_type": "stream",
     "text": [
      "GreyscaleExtractor: processing None, do_fit = False\n",
      "Applying Scaler to persistence diagrams.\n"
     ]
    },
    {
     "name": "stderr",
     "output_type": "stream",
     "text": [
      "DiagramVectorizer: batch: 100%|██████████| 1/1 [00:01<00:00,  1.08s/it]\n"
     ]
    },
    {
     "name": "stdout",
     "output_type": "stream",
     "text": [
      "GreyscaleExtractor: processing None, do_fit = True\n",
      "Applying Scaler to persistence diagrams.\n",
      "DiagramVectorizer: fitting complete\n"
     ]
    },
    {
     "name": "stderr",
     "output_type": "stream",
     "text": [
      "DiagramVectorizer: batch: 100%|██████████| 1/1 [00:01<00:00,  1.08s/it]\n"
     ]
    },
    {
     "name": "stdout",
     "output_type": "stream",
     "text": [
      "GreyscaleExtractor: processing None, do_fit = False\n",
      "Applying Scaler to persistence diagrams.\n"
     ]
    },
    {
     "name": "stderr",
     "output_type": "stream",
     "text": [
      "DiagramVectorizer: batch: 100%|██████████| 1/1 [00:01<00:00,  1.07s/it]\n"
     ]
    },
    {
     "name": "stdout",
     "output_type": "stream",
     "text": [
      "Fitting filtrations\n",
      "Calculated radial centers for images of size 28x28: [ 8 19]x[ 8 19]\n",
      "Fitting filtration 1/12: 4/HeightFiltrartion_-1_-1\n",
      "FiltrationExtractor: processing None, do_fit = True, filtration = HeightFiltration(direction=array([-1, -1]), n_jobs=1)\n",
      "Applying Scaler to persistence diagrams.\n",
      "DiagramVectorizer: fitting complete\n"
     ]
    },
    {
     "name": "stderr",
     "output_type": "stream",
     "text": [
      "DiagramVectorizer: batch: 100%|██████████| 1/1 [00:01<00:00,  1.29s/it]\n"
     ]
    },
    {
     "name": "stdout",
     "output_type": "stream",
     "text": [
      "Fitting filtration 2/12: 4/HeightFiltrartion_1_1\n",
      "FiltrationExtractor: processing None, do_fit = True, filtration = HeightFiltration(direction=array([1, 1]), n_jobs=1)\n",
      "Applying Scaler to persistence diagrams.\n",
      "DiagramVectorizer: fitting complete\n"
     ]
    },
    {
     "name": "stderr",
     "output_type": "stream",
     "text": [
      "DiagramVectorizer: batch: 100%|██████████| 1/1 [00:01<00:00,  1.12s/it]\n"
     ]
    },
    {
     "name": "stdout",
     "output_type": "stream",
     "text": [
      "Fitting filtration 3/12: 4/HeightFiltrartion_1_-1\n",
      "FiltrationExtractor: processing None, do_fit = True, filtration = HeightFiltration(direction=array([ 1, -1]), n_jobs=1)\n",
      "Applying Scaler to persistence diagrams.\n",
      "DiagramVectorizer: fitting complete\n"
     ]
    },
    {
     "name": "stderr",
     "output_type": "stream",
     "text": [
      "DiagramVectorizer: batch: 100%|██████████| 1/1 [00:01<00:00,  1.19s/it]\n"
     ]
    },
    {
     "name": "stdout",
     "output_type": "stream",
     "text": [
      "Fitting filtration 4/12: 4/HeightFiltrartion_-1_1\n",
      "FiltrationExtractor: processing None, do_fit = True, filtration = HeightFiltration(direction=array([-1,  1]), n_jobs=1)\n",
      "Applying Scaler to persistence diagrams.\n",
      "DiagramVectorizer: fitting complete\n"
     ]
    },
    {
     "name": "stderr",
     "output_type": "stream",
     "text": [
      "DiagramVectorizer: batch: 100%|██████████| 1/1 [00:01<00:00,  1.13s/it]\n"
     ]
    },
    {
     "name": "stdout",
     "output_type": "stream",
     "text": [
      "Fitting filtration 5/12: 4/HeightFiltrartion_0_-1\n",
      "FiltrationExtractor: processing None, do_fit = True, filtration = HeightFiltration(direction=array([ 0, -1]), n_jobs=1)\n",
      "Applying Scaler to persistence diagrams.\n",
      "DiagramVectorizer: fitting complete\n"
     ]
    },
    {
     "name": "stderr",
     "output_type": "stream",
     "text": [
      "DiagramVectorizer: batch: 100%|██████████| 1/1 [00:01<00:00,  1.12s/it]\n"
     ]
    },
    {
     "name": "stdout",
     "output_type": "stream",
     "text": [
      "Fitting filtration 6/12: 4/HeightFiltrartion_0_1\n",
      "FiltrationExtractor: processing None, do_fit = True, filtration = HeightFiltration(direction=array([0, 1]), n_jobs=1)\n",
      "Applying Scaler to persistence diagrams.\n",
      "DiagramVectorizer: fitting complete\n"
     ]
    },
    {
     "name": "stderr",
     "output_type": "stream",
     "text": [
      "DiagramVectorizer: batch: 100%|██████████| 1/1 [00:01<00:00,  1.10s/it]\n"
     ]
    },
    {
     "name": "stdout",
     "output_type": "stream",
     "text": [
      "Fitting filtration 7/12: 4/HeightFiltrartion_-1_0\n",
      "FiltrationExtractor: processing None, do_fit = True, filtration = HeightFiltration(direction=array([-1,  0]), n_jobs=1)\n",
      "Applying Scaler to persistence diagrams.\n",
      "DiagramVectorizer: fitting complete\n"
     ]
    },
    {
     "name": "stderr",
     "output_type": "stream",
     "text": [
      "DiagramVectorizer: batch: 100%|██████████| 1/1 [00:01<00:00,  1.09s/it]\n"
     ]
    },
    {
     "name": "stdout",
     "output_type": "stream",
     "text": [
      "Fitting filtration 8/12: 4/HeightFiltrartion_1_0\n",
      "FiltrationExtractor: processing None, do_fit = True, filtration = HeightFiltration(direction=array([1, 0]), n_jobs=1)\n",
      "Applying Scaler to persistence diagrams.\n",
      "DiagramVectorizer: fitting complete\n"
     ]
    },
    {
     "name": "stderr",
     "output_type": "stream",
     "text": [
      "DiagramVectorizer: batch: 100%|██████████| 1/1 [00:01<00:00,  1.02s/it]\n"
     ]
    },
    {
     "name": "stdout",
     "output_type": "stream",
     "text": [
      "Fitting filtration 9/12: 4/RadialFiltration_8_8\n",
      "FiltrationExtractor: processing None, do_fit = True, filtration = RadialFiltration(center=array([8, 8]), n_jobs=1)\n",
      "Applying Scaler to persistence diagrams.\n",
      "DiagramVectorizer: fitting complete\n"
     ]
    },
    {
     "name": "stderr",
     "output_type": "stream",
     "text": [
      "DiagramVectorizer: batch: 100%|██████████| 1/1 [00:01<00:00,  1.16s/it]\n"
     ]
    },
    {
     "name": "stdout",
     "output_type": "stream",
     "text": [
      "Fitting filtration 10/12: 4/RadialFiltration_8_19\n",
      "FiltrationExtractor: processing None, do_fit = True, filtration = RadialFiltration(center=array([ 8, 19]), n_jobs=1)\n",
      "Applying Scaler to persistence diagrams.\n",
      "DiagramVectorizer: fitting complete\n"
     ]
    },
    {
     "name": "stderr",
     "output_type": "stream",
     "text": [
      "DiagramVectorizer: batch: 100%|██████████| 1/1 [00:01<00:00,  1.26s/it]\n"
     ]
    },
    {
     "name": "stdout",
     "output_type": "stream",
     "text": [
      "Fitting filtration 11/12: 4/RadialFiltration_19_8\n",
      "FiltrationExtractor: processing None, do_fit = True, filtration = RadialFiltration(center=array([19,  8]), n_jobs=1)\n",
      "Applying Scaler to persistence diagrams.\n",
      "DiagramVectorizer: fitting complete\n"
     ]
    },
    {
     "name": "stderr",
     "output_type": "stream",
     "text": [
      "DiagramVectorizer: batch: 100%|██████████| 1/1 [00:01<00:00,  1.19s/it]\n"
     ]
    },
    {
     "name": "stdout",
     "output_type": "stream",
     "text": [
      "Fitting filtration 12/12: 4/RadialFiltration_19_19\n",
      "FiltrationExtractor: processing None, do_fit = True, filtration = RadialFiltration(center=array([19, 19]), n_jobs=1)\n",
      "Applying Scaler to persistence diagrams.\n",
      "DiagramVectorizer: fitting complete\n"
     ]
    },
    {
     "name": "stderr",
     "output_type": "stream",
     "text": [
      "DiagramVectorizer: batch: 100%|██████████| 1/1 [00:01<00:00,  1.23s/it]\n"
     ]
    },
    {
     "name": "stdout",
     "output_type": "stream",
     "text": [
      "Applying filtrations\n",
      "Applying filtration 1/12: 4/HeightFiltrartion_-1_-1\n",
      "FiltrationExtractor: processing None, do_fit = False, filtration = HeightFiltration(direction=array([-1, -1]), n_jobs=1)\n",
      "Applying Scaler to persistence diagrams.\n"
     ]
    },
    {
     "name": "stderr",
     "output_type": "stream",
     "text": [
      "DiagramVectorizer: batch: 100%|██████████| 1/1 [00:01<00:00,  1.29s/it]\n"
     ]
    },
    {
     "name": "stdout",
     "output_type": "stream",
     "text": [
      "Applying filtration 2/12: 4/HeightFiltrartion_1_1\n",
      "FiltrationExtractor: processing None, do_fit = False, filtration = HeightFiltration(direction=array([1, 1]), n_jobs=1)\n",
      "Applying Scaler to persistence diagrams.\n"
     ]
    },
    {
     "name": "stderr",
     "output_type": "stream",
     "text": [
      "DiagramVectorizer: batch: 100%|██████████| 1/1 [00:01<00:00,  1.15s/it]\n"
     ]
    },
    {
     "name": "stdout",
     "output_type": "stream",
     "text": [
      "Applying filtration 3/12: 4/HeightFiltrartion_1_-1\n",
      "FiltrationExtractor: processing None, do_fit = False, filtration = HeightFiltration(direction=array([ 1, -1]), n_jobs=1)\n",
      "Applying Scaler to persistence diagrams.\n"
     ]
    },
    {
     "name": "stderr",
     "output_type": "stream",
     "text": [
      "DiagramVectorizer: batch: 100%|██████████| 1/1 [00:01<00:00,  1.20s/it]\n"
     ]
    },
    {
     "name": "stdout",
     "output_type": "stream",
     "text": [
      "Applying filtration 4/12: 4/HeightFiltrartion_-1_1\n",
      "FiltrationExtractor: processing None, do_fit = False, filtration = HeightFiltration(direction=array([-1,  1]), n_jobs=1)\n",
      "Applying Scaler to persistence diagrams.\n"
     ]
    },
    {
     "name": "stderr",
     "output_type": "stream",
     "text": [
      "DiagramVectorizer: batch: 100%|██████████| 1/1 [00:01<00:00,  1.15s/it]\n"
     ]
    },
    {
     "name": "stdout",
     "output_type": "stream",
     "text": [
      "Applying filtration 5/12: 4/HeightFiltrartion_0_-1\n",
      "FiltrationExtractor: processing None, do_fit = False, filtration = HeightFiltration(direction=array([ 0, -1]), n_jobs=1)\n",
      "Applying Scaler to persistence diagrams.\n"
     ]
    },
    {
     "name": "stderr",
     "output_type": "stream",
     "text": [
      "DiagramVectorizer: batch: 100%|██████████| 1/1 [00:01<00:00,  1.12s/it]\n"
     ]
    },
    {
     "name": "stdout",
     "output_type": "stream",
     "text": [
      "Applying filtration 6/12: 4/HeightFiltrartion_0_1\n",
      "FiltrationExtractor: processing None, do_fit = False, filtration = HeightFiltration(direction=array([0, 1]), n_jobs=1)\n",
      "Applying Scaler to persistence diagrams.\n"
     ]
    },
    {
     "name": "stderr",
     "output_type": "stream",
     "text": [
      "DiagramVectorizer: batch: 100%|██████████| 1/1 [00:01<00:00,  1.11s/it]\n"
     ]
    },
    {
     "name": "stdout",
     "output_type": "stream",
     "text": [
      "Applying filtration 7/12: 4/HeightFiltrartion_-1_0\n",
      "FiltrationExtractor: processing None, do_fit = False, filtration = HeightFiltration(direction=array([-1,  0]), n_jobs=1)\n",
      "Applying Scaler to persistence diagrams.\n"
     ]
    },
    {
     "name": "stderr",
     "output_type": "stream",
     "text": [
      "DiagramVectorizer: batch: 100%|██████████| 1/1 [00:01<00:00,  1.10s/it]\n"
     ]
    },
    {
     "name": "stdout",
     "output_type": "stream",
     "text": [
      "Applying filtration 8/12: 4/HeightFiltrartion_1_0\n",
      "FiltrationExtractor: processing None, do_fit = False, filtration = HeightFiltration(direction=array([1, 0]), n_jobs=1)\n",
      "Applying Scaler to persistence diagrams.\n"
     ]
    },
    {
     "name": "stderr",
     "output_type": "stream",
     "text": [
      "DiagramVectorizer: batch: 100%|██████████| 1/1 [00:01<00:00,  1.06s/it]\n"
     ]
    },
    {
     "name": "stdout",
     "output_type": "stream",
     "text": [
      "Applying filtration 9/12: 4/RadialFiltration_8_8\n",
      "FiltrationExtractor: processing None, do_fit = False, filtration = RadialFiltration(center=array([8, 8]), n_jobs=1)\n",
      "Applying Scaler to persistence diagrams.\n"
     ]
    },
    {
     "name": "stderr",
     "output_type": "stream",
     "text": [
      "DiagramVectorizer: batch: 100%|██████████| 1/1 [00:01<00:00,  1.18s/it]\n"
     ]
    },
    {
     "name": "stdout",
     "output_type": "stream",
     "text": [
      "Applying filtration 10/12: 4/RadialFiltration_8_19\n",
      "FiltrationExtractor: processing None, do_fit = False, filtration = RadialFiltration(center=array([ 8, 19]), n_jobs=1)\n",
      "Applying Scaler to persistence diagrams.\n"
     ]
    },
    {
     "name": "stderr",
     "output_type": "stream",
     "text": [
      "DiagramVectorizer: batch: 100%|██████████| 1/1 [00:01<00:00,  1.27s/it]\n"
     ]
    },
    {
     "name": "stdout",
     "output_type": "stream",
     "text": [
      "Applying filtration 11/12: 4/RadialFiltration_19_8\n",
      "FiltrationExtractor: processing None, do_fit = False, filtration = RadialFiltration(center=array([19,  8]), n_jobs=1)\n",
      "Applying Scaler to persistence diagrams.\n"
     ]
    },
    {
     "name": "stderr",
     "output_type": "stream",
     "text": [
      "DiagramVectorizer: batch: 100%|██████████| 1/1 [00:01<00:00,  1.18s/it]\n"
     ]
    },
    {
     "name": "stdout",
     "output_type": "stream",
     "text": [
      "Applying filtration 12/12: 4/RadialFiltration_19_19\n",
      "FiltrationExtractor: processing None, do_fit = False, filtration = RadialFiltration(center=array([19, 19]), n_jobs=1)\n",
      "Applying Scaler to persistence diagrams.\n"
     ]
    },
    {
     "name": "stderr",
     "output_type": "stream",
     "text": [
      "DiagramVectorizer: batch: 100%|██████████| 1/1 [00:01<00:00,  1.23s/it]\n",
      "GrayGeometryExtractor: 100%|██████████| 100/100 [00:04<00:00, 20.10it/s]\n",
      "GrayGeometryExtractor: 100%|██████████| 100/100 [00:04<00:00, 20.78it/s]\n"
     ]
    },
    {
     "name": "stdout",
     "output_type": "stream",
     "text": [
      "Applying StandardScaler.\n",
      "Calculating inverted images\n",
      "GreyscaleExtractor: processing None, do_fit = False\n",
      "Applying Scaler to persistence diagrams.\n"
     ]
    },
    {
     "name": "stderr",
     "output_type": "stream",
     "text": [
      "DiagramVectorizer: batch: 100%|██████████| 1/1 [00:01<00:00,  1.06s/it]\n"
     ]
    },
    {
     "name": "stdout",
     "output_type": "stream",
     "text": [
      "GreyscaleExtractor: processing None, do_fit = False\n",
      "Applying Scaler to persistence diagrams.\n"
     ]
    },
    {
     "name": "stderr",
     "output_type": "stream",
     "text": [
      "DiagramVectorizer: batch: 100%|██████████| 1/1 [00:01<00:00,  1.07s/it]\n"
     ]
    },
    {
     "name": "stdout",
     "output_type": "stream",
     "text": [
      "Applying filtrations\n",
      "Applying filtration 1/12: 4/HeightFiltrartion_-1_-1\n",
      "FiltrationExtractor: processing None, do_fit = False, filtration = HeightFiltration(direction=array([-1, -1]), n_jobs=1)\n",
      "Applying Scaler to persistence diagrams.\n"
     ]
    },
    {
     "name": "stderr",
     "output_type": "stream",
     "text": [
      "DiagramVectorizer: batch: 100%|██████████| 1/1 [00:01<00:00,  1.27s/it]\n"
     ]
    },
    {
     "name": "stdout",
     "output_type": "stream",
     "text": [
      "Applying filtration 2/12: 4/HeightFiltrartion_1_1\n",
      "FiltrationExtractor: processing None, do_fit = False, filtration = HeightFiltration(direction=array([1, 1]), n_jobs=1)\n",
      "Applying Scaler to persistence diagrams.\n"
     ]
    },
    {
     "name": "stderr",
     "output_type": "stream",
     "text": [
      "DiagramVectorizer: batch: 100%|██████████| 1/1 [00:01<00:00,  1.10s/it]\n"
     ]
    },
    {
     "name": "stdout",
     "output_type": "stream",
     "text": [
      "Applying filtration 3/12: 4/HeightFiltrartion_1_-1\n",
      "FiltrationExtractor: processing None, do_fit = False, filtration = HeightFiltration(direction=array([ 1, -1]), n_jobs=1)\n",
      "Applying Scaler to persistence diagrams.\n"
     ]
    },
    {
     "name": "stderr",
     "output_type": "stream",
     "text": [
      "DiagramVectorizer: batch: 100%|██████████| 1/1 [00:01<00:00,  1.16s/it]\n"
     ]
    },
    {
     "name": "stdout",
     "output_type": "stream",
     "text": [
      "Applying filtration 4/12: 4/HeightFiltrartion_-1_1\n",
      "FiltrationExtractor: processing None, do_fit = False, filtration = HeightFiltration(direction=array([-1,  1]), n_jobs=1)\n",
      "Applying Scaler to persistence diagrams.\n"
     ]
    },
    {
     "name": "stderr",
     "output_type": "stream",
     "text": [
      "DiagramVectorizer: batch: 100%|██████████| 1/1 [00:01<00:00,  1.13s/it]\n"
     ]
    },
    {
     "name": "stdout",
     "output_type": "stream",
     "text": [
      "Applying filtration 5/12: 4/HeightFiltrartion_0_-1\n",
      "FiltrationExtractor: processing None, do_fit = False, filtration = HeightFiltration(direction=array([ 0, -1]), n_jobs=1)\n",
      "Applying Scaler to persistence diagrams.\n"
     ]
    },
    {
     "name": "stderr",
     "output_type": "stream",
     "text": [
      "DiagramVectorizer: batch: 100%|██████████| 1/1 [00:01<00:00,  1.07s/it]\n"
     ]
    },
    {
     "name": "stdout",
     "output_type": "stream",
     "text": [
      "Applying filtration 6/12: 4/HeightFiltrartion_0_1\n",
      "FiltrationExtractor: processing None, do_fit = False, filtration = HeightFiltration(direction=array([0, 1]), n_jobs=1)\n",
      "Applying Scaler to persistence diagrams.\n"
     ]
    },
    {
     "name": "stderr",
     "output_type": "stream",
     "text": [
      "DiagramVectorizer: batch: 100%|██████████| 1/1 [00:01<00:00,  1.09s/it]\n"
     ]
    },
    {
     "name": "stdout",
     "output_type": "stream",
     "text": [
      "Applying filtration 7/12: 4/HeightFiltrartion_-1_0\n",
      "FiltrationExtractor: processing None, do_fit = False, filtration = HeightFiltration(direction=array([-1,  0]), n_jobs=1)\n",
      "Applying Scaler to persistence diagrams.\n"
     ]
    },
    {
     "name": "stderr",
     "output_type": "stream",
     "text": [
      "DiagramVectorizer: batch: 100%|██████████| 1/1 [00:01<00:00,  1.08s/it]\n"
     ]
    },
    {
     "name": "stdout",
     "output_type": "stream",
     "text": [
      "Applying filtration 8/12: 4/HeightFiltrartion_1_0\n",
      "FiltrationExtractor: processing None, do_fit = False, filtration = HeightFiltration(direction=array([1, 0]), n_jobs=1)\n",
      "Applying Scaler to persistence diagrams.\n"
     ]
    },
    {
     "name": "stderr",
     "output_type": "stream",
     "text": [
      "DiagramVectorizer: batch: 100%|██████████| 1/1 [00:01<00:00,  1.01s/it]\n"
     ]
    },
    {
     "name": "stdout",
     "output_type": "stream",
     "text": [
      "Applying filtration 9/12: 4/RadialFiltration_8_8\n",
      "FiltrationExtractor: processing None, do_fit = False, filtration = RadialFiltration(center=array([8, 8]), n_jobs=1)\n",
      "Applying Scaler to persistence diagrams.\n"
     ]
    },
    {
     "name": "stderr",
     "output_type": "stream",
     "text": [
      "DiagramVectorizer: batch: 100%|██████████| 1/1 [00:01<00:00,  1.14s/it]\n"
     ]
    },
    {
     "name": "stdout",
     "output_type": "stream",
     "text": [
      "Applying filtration 10/12: 4/RadialFiltration_8_19\n",
      "FiltrationExtractor: processing None, do_fit = False, filtration = RadialFiltration(center=array([ 8, 19]), n_jobs=1)\n",
      "Applying Scaler to persistence diagrams.\n"
     ]
    },
    {
     "name": "stderr",
     "output_type": "stream",
     "text": [
      "DiagramVectorizer: batch: 100%|██████████| 1/1 [00:01<00:00,  1.23s/it]\n"
     ]
    },
    {
     "name": "stdout",
     "output_type": "stream",
     "text": [
      "Applying filtration 11/12: 4/RadialFiltration_19_8\n",
      "FiltrationExtractor: processing None, do_fit = False, filtration = RadialFiltration(center=array([19,  8]), n_jobs=1)\n",
      "Applying Scaler to persistence diagrams.\n"
     ]
    },
    {
     "name": "stderr",
     "output_type": "stream",
     "text": [
      "DiagramVectorizer: batch: 100%|██████████| 1/1 [00:01<00:00,  1.16s/it]\n"
     ]
    },
    {
     "name": "stdout",
     "output_type": "stream",
     "text": [
      "Applying filtration 12/12: 4/RadialFiltration_19_19\n",
      "FiltrationExtractor: processing None, do_fit = False, filtration = RadialFiltration(center=array([19, 19]), n_jobs=1)\n",
      "Applying Scaler to persistence diagrams.\n"
     ]
    },
    {
     "name": "stderr",
     "output_type": "stream",
     "text": [
      "DiagramVectorizer: batch: 100%|██████████| 1/1 [00:01<00:00,  1.21s/it]\n",
      "GrayGeometryExtractor: 100%|██████████| 100/100 [00:04<00:00, 20.96it/s]\n"
     ]
    },
    {
     "name": "stdout",
     "output_type": "stream",
     "text": [
      "Applying StandardScaler.\n",
      "Calculating inverted images\n",
      "GreyscaleExtractor: processing None, do_fit = False\n",
      "Applying Scaler to persistence diagrams.\n"
     ]
    },
    {
     "name": "stderr",
     "output_type": "stream",
     "text": [
      "DiagramVectorizer: batch: 100%|██████████| 1/1 [00:00<00:00,  1.29it/s]\n"
     ]
    },
    {
     "name": "stdout",
     "output_type": "stream",
     "text": [
      "GreyscaleExtractor: processing None, do_fit = False\n",
      "Applying Scaler to persistence diagrams.\n"
     ]
    },
    {
     "name": "stderr",
     "output_type": "stream",
     "text": [
      "DiagramVectorizer: batch: 100%|██████████| 1/1 [00:00<00:00,  1.25it/s]\n"
     ]
    },
    {
     "name": "stdout",
     "output_type": "stream",
     "text": [
      "Applying filtrations\n",
      "Applying filtration 1/12: 4/HeightFiltrartion_-1_-1\n",
      "FiltrationExtractor: processing None, do_fit = False, filtration = HeightFiltration(direction=array([-1, -1]), n_jobs=1)\n",
      "Applying Scaler to persistence diagrams.\n"
     ]
    },
    {
     "name": "stderr",
     "output_type": "stream",
     "text": [
      "DiagramVectorizer: batch: 100%|██████████| 1/1 [00:00<00:00,  1.05it/s]\n"
     ]
    },
    {
     "name": "stdout",
     "output_type": "stream",
     "text": [
      "Applying filtration 2/12: 4/HeightFiltrartion_1_1\n",
      "FiltrationExtractor: processing None, do_fit = False, filtration = HeightFiltration(direction=array([1, 1]), n_jobs=1)\n",
      "Applying Scaler to persistence diagrams.\n"
     ]
    },
    {
     "name": "stderr",
     "output_type": "stream",
     "text": [
      "DiagramVectorizer: batch: 100%|██████████| 1/1 [00:00<00:00,  1.20it/s]\n"
     ]
    },
    {
     "name": "stdout",
     "output_type": "stream",
     "text": [
      "Applying filtration 3/12: 4/HeightFiltrartion_1_-1\n",
      "FiltrationExtractor: processing None, do_fit = False, filtration = HeightFiltration(direction=array([ 1, -1]), n_jobs=1)\n",
      "Applying Scaler to persistence diagrams.\n"
     ]
    },
    {
     "name": "stderr",
     "output_type": "stream",
     "text": [
      "DiagramVectorizer: batch: 100%|██████████| 1/1 [00:00<00:00,  1.12it/s]\n"
     ]
    },
    {
     "name": "stdout",
     "output_type": "stream",
     "text": [
      "Applying filtration 4/12: 4/HeightFiltrartion_-1_1\n",
      "FiltrationExtractor: processing None, do_fit = False, filtration = HeightFiltration(direction=array([-1,  1]), n_jobs=1)\n",
      "Applying Scaler to persistence diagrams.\n"
     ]
    },
    {
     "name": "stderr",
     "output_type": "stream",
     "text": [
      "DiagramVectorizer: batch: 100%|██████████| 1/1 [00:00<00:00,  1.20it/s]\n"
     ]
    },
    {
     "name": "stdout",
     "output_type": "stream",
     "text": [
      "Applying filtration 5/12: 4/HeightFiltrartion_0_-1\n",
      "FiltrationExtractor: processing None, do_fit = False, filtration = HeightFiltration(direction=array([ 0, -1]), n_jobs=1)\n",
      "Applying Scaler to persistence diagrams.\n"
     ]
    },
    {
     "name": "stderr",
     "output_type": "stream",
     "text": [
      "DiagramVectorizer: batch: 100%|██████████| 1/1 [00:00<00:00,  1.24it/s]\n"
     ]
    },
    {
     "name": "stdout",
     "output_type": "stream",
     "text": [
      "Applying filtration 6/12: 4/HeightFiltrartion_0_1\n",
      "FiltrationExtractor: processing None, do_fit = False, filtration = HeightFiltration(direction=array([0, 1]), n_jobs=1)\n",
      "Applying Scaler to persistence diagrams.\n"
     ]
    },
    {
     "name": "stderr",
     "output_type": "stream",
     "text": [
      "DiagramVectorizer: batch: 100%|██████████| 1/1 [00:00<00:00,  1.19it/s]\n"
     ]
    },
    {
     "name": "stdout",
     "output_type": "stream",
     "text": [
      "Applying filtration 7/12: 4/HeightFiltrartion_-1_0\n",
      "FiltrationExtractor: processing None, do_fit = False, filtration = HeightFiltration(direction=array([-1,  0]), n_jobs=1)\n",
      "Applying Scaler to persistence diagrams.\n"
     ]
    },
    {
     "name": "stderr",
     "output_type": "stream",
     "text": [
      "DiagramVectorizer: batch: 100%|██████████| 1/1 [00:00<00:00,  1.23it/s]\n"
     ]
    },
    {
     "name": "stdout",
     "output_type": "stream",
     "text": [
      "Applying filtration 8/12: 4/HeightFiltrartion_1_0\n",
      "FiltrationExtractor: processing None, do_fit = False, filtration = HeightFiltration(direction=array([1, 0]), n_jobs=1)\n",
      "Applying Scaler to persistence diagrams.\n"
     ]
    },
    {
     "name": "stderr",
     "output_type": "stream",
     "text": [
      "DiagramVectorizer: batch: 100%|██████████| 1/1 [00:00<00:00,  1.32it/s]\n"
     ]
    },
    {
     "name": "stdout",
     "output_type": "stream",
     "text": [
      "Applying filtration 9/12: 4/RadialFiltration_8_8\n",
      "FiltrationExtractor: processing None, do_fit = False, filtration = RadialFiltration(center=array([8, 8]), n_jobs=1)\n",
      "Applying Scaler to persistence diagrams.\n"
     ]
    },
    {
     "name": "stderr",
     "output_type": "stream",
     "text": [
      "DiagramVectorizer: batch: 100%|██████████| 1/1 [00:00<00:00,  1.15it/s]\n"
     ]
    },
    {
     "name": "stdout",
     "output_type": "stream",
     "text": [
      "Applying filtration 10/12: 4/RadialFiltration_8_19\n",
      "FiltrationExtractor: processing None, do_fit = False, filtration = RadialFiltration(center=array([ 8, 19]), n_jobs=1)\n",
      "Applying Scaler to persistence diagrams.\n"
     ]
    },
    {
     "name": "stderr",
     "output_type": "stream",
     "text": [
      "DiagramVectorizer: batch: 100%|██████████| 1/1 [00:00<00:00,  1.08it/s]\n"
     ]
    },
    {
     "name": "stdout",
     "output_type": "stream",
     "text": [
      "Applying filtration 11/12: 4/RadialFiltration_19_8\n",
      "FiltrationExtractor: processing None, do_fit = False, filtration = RadialFiltration(center=array([19,  8]), n_jobs=1)\n",
      "Applying Scaler to persistence diagrams.\n"
     ]
    },
    {
     "name": "stderr",
     "output_type": "stream",
     "text": [
      "DiagramVectorizer: batch: 100%|██████████| 1/1 [00:00<00:00,  1.14it/s]\n"
     ]
    },
    {
     "name": "stdout",
     "output_type": "stream",
     "text": [
      "Applying filtration 12/12: 4/RadialFiltration_19_19\n",
      "FiltrationExtractor: processing None, do_fit = False, filtration = RadialFiltration(center=array([19, 19]), n_jobs=1)\n",
      "Applying Scaler to persistence diagrams.\n"
     ]
    },
    {
     "name": "stderr",
     "output_type": "stream",
     "text": [
      "DiagramVectorizer: batch: 100%|██████████| 1/1 [00:00<00:00,  1.10it/s]\n",
      "GrayGeometryExtractor: 100%|██████████| 75/75 [00:03<00:00, 20.97it/s]"
     ]
    },
    {
     "name": "stdout",
     "output_type": "stream",
     "text": [
      "Applying StandardScaler.\n"
     ]
    },
    {
     "name": "stderr",
     "output_type": "stream",
     "text": [
      "\n"
     ]
    }
   ],
   "source": [
    "import cvtda.topology\n",
    "extractor = cvtda.topology.FeatureExtractor(\n",
    "    n_jobs = 1,\n",
    "    binarizer_thresholds = [ 0.4 ],\n",
    "    num_radial_filtrations = 2\n",
    ")\n",
    "train_features = extractor.fit_transform(train_images)\n",
    "test_features = extractor.transform(test_images)"
   ]
  },
  {
   "cell_type": "code",
   "execution_count": 3,
   "id": "873b626b",
   "metadata": {},
   "outputs": [
    {
     "name": "stdout",
     "output_type": "stream",
     "text": [
      "Trying KNeighborsClassifier - KNeighborsClassifier(n_jobs=-1)\n",
      "{'classifier': 'Метод k ближайших соседей', 'Accuracy': 0.7066666666666667, 'AUC-ROC': 0.9476876128537836, 'Precision': 0.7079166666666666, 'Recall': 0.6930555555555555, 'F1-score': 0.6347587924058512, 'TOP-2 Accuracy': 0.8133333333333334, 'TOP-3 Accuracy': 0.9066666666666666, 'TOP-5 Accuracy': 0.96, 'TOP-7 Accuracy': 0.9866666666666667, 'TOP-9 Accuracy': 1.0}\n",
      "Trying RandomForestClassifier - RandomForestClassifier(n_jobs=-1, random_state=42)\n",
      "{'classifier': 'Случайный лес', 'Accuracy': 0.76, 'AUC-ROC': 0.9883120223398001, 'Precision': 0.7769771241830065, 'Recall': 0.7406746031746032, 'F1-score': 0.6818540180459222, 'TOP-2 Accuracy': 0.9333333333333333, 'TOP-3 Accuracy': 0.96, 'TOP-5 Accuracy': 0.9866666666666667, 'TOP-7 Accuracy': 0.9866666666666667, 'TOP-9 Accuracy': 1.0}\n",
      "Trying HistGradientBoostingClassifier - HistGradientBoostingClassifier(max_depth=4, max_features=0.1, max_iter=20,\n",
      "                               random_state=42, verbose=2)\n",
      "Binning 0.003 GB of training data: 0.069 s\n",
      "Fitting gradient boosted rounds:\n",
      "[1/20] 10 trees, 27 leaves (2 on avg), max depth = 2, in 0.087s\n",
      "[2/20] 10 trees, 44 leaves (4 on avg), max depth = 4, in 0.116s\n",
      "[3/20] 10 trees, 40 leaves (4 on avg), max depth = 3, in 0.098s\n",
      "[4/20] 10 trees, 40 leaves (4 on avg), max depth = 3, in 0.096s\n",
      "[5/20] 10 trees, 41 leaves (4 on avg), max depth = 4, in 0.104s\n",
      "[6/20] 10 trees, 41 leaves (4 on avg), max depth = 4, in 0.103s\n",
      "[7/20] 10 trees, 41 leaves (4 on avg), max depth = 4, in 0.103s\n",
      "[8/20] 10 trees, 43 leaves (4 on avg), max depth = 4, in 0.110s\n",
      "[9/20] 10 trees, 40 leaves (4 on avg), max depth = 3, in 0.096s\n",
      "[10/20] 10 trees, 41 leaves (4 on avg), max depth = 4, in 0.101s\n",
      "[11/20] 10 trees, 42 leaves (4 on avg), max depth = 4, in 0.109s\n",
      "[12/20] 10 trees, 41 leaves (4 on avg), max depth = 4, in 0.105s\n",
      "[13/20] 10 trees, 41 leaves (4 on avg), max depth = 4, in 0.100s\n",
      "[14/20] 10 trees, 42 leaves (4 on avg), max depth = 4, in 0.108s\n",
      "[15/20] 10 trees, 40 leaves (4 on avg), max depth = 3, in 0.093s\n",
      "[16/20] 10 trees, 42 leaves (4 on avg), max depth = 4, in 0.101s\n",
      "[17/20] 10 trees, 43 leaves (4 on avg), max depth = 4, in 0.111s\n",
      "[18/20] 10 trees, 40 leaves (4 on avg), max depth = 3, in 0.099s\n",
      "[19/20] 10 trees, 41 leaves (4 on avg), max depth = 4, in 0.105s\n",
      "[20/20] 10 trees, 41 leaves (4 on avg), max depth = 4, in 0.099s\n",
      "Fit 200 trees in 2.120 s, (811 total leaves)\n",
      "Time spent computing histograms: 1.186s\n",
      "Time spent finding best splits:  0.130s\n",
      "Time spent applying splits:      0.027s\n",
      "Time spent predicting:           0.010s\n",
      "{'classifier': 'Град. бустинг на основе гистограмм', 'Accuracy': 0.8133333333333334, 'AUC-ROC': 0.9843033509700179, 'Precision': 0.849575702075702, 'Recall': 0.7966269841269841, 'F1-score': 0.7901197314897005, 'TOP-2 Accuracy': 0.9733333333333334, 'TOP-3 Accuracy': 0.9866666666666667, 'TOP-5 Accuracy': 1.0, 'TOP-7 Accuracy': 1.0, 'TOP-9 Accuracy': 1.0}\n",
      "Trying CatBoostClassifier - <catboost.core.CatBoostClassifier object at 0x000001D841A5C160>\n",
      "Learning rate set to 0.5\n",
      "0:\tlearn: 1.7178949\ttotal: 57.7ms\tremaining: 519ms\n",
      "1:\tlearn: 1.4070883\ttotal: 175ms\tremaining: 699ms\n",
      "2:\tlearn: 1.0855782\ttotal: 214ms\tremaining: 500ms\n",
      "3:\tlearn: 0.8754416\ttotal: 249ms\tremaining: 374ms\n",
      "4:\tlearn: 0.7057249\ttotal: 270ms\tremaining: 270ms\n",
      "5:\tlearn: 0.6038091\ttotal: 297ms\tremaining: 198ms\n",
      "6:\tlearn: 0.5097310\ttotal: 318ms\tremaining: 136ms\n",
      "7:\tlearn: 0.4356962\ttotal: 359ms\tremaining: 89.7ms\n",
      "8:\tlearn: 0.3749954\ttotal: 385ms\tremaining: 42.8ms\n",
      "9:\tlearn: 0.3336829\ttotal: 419ms\tremaining: 0us\n",
      "{'classifier': 'CatBoost', 'Accuracy': 0.7333333333333333, 'AUC-ROC': 0.9750483267100329, 'Precision': 0.7470238095238095, 'Recall': 0.7188492063492063, 'F1-score': 0.6782283990519284, 'TOP-2 Accuracy': 0.8933333333333333, 'TOP-3 Accuracy': 0.9066666666666666, 'TOP-5 Accuracy': 0.9333333333333333, 'TOP-7 Accuracy': 0.9866666666666667, 'TOP-9 Accuracy': 1.0}\n",
      "Trying XGBClassifier - XGBClassifier(base_score=None, booster=None, callbacks=None,\n",
      "              colsample_bylevel=None, colsample_bynode=None,\n",
      "              colsample_bytree=None, device='gpu', early_stopping_rounds=None,\n",
      "              enable_categorical=False, eval_metric=None, feature_types=None,\n",
      "              gamma=None, grow_policy=None, importance_type=None,\n",
      "              interaction_constraints=None, learning_rate=None, max_bin=None,\n",
      "              max_cat_threshold=None, max_cat_to_onehot=None,\n",
      "              max_delta_step=None, max_depth=4, max_leaves=None,\n",
      "              min_child_weight=None, missing=nan, monotone_constraints=None,\n",
      "              multi_strategy=None, n_estimators=25, n_jobs=-1,\n",
      "              num_parallel_tree=None, random_state=None, ...)\n"
     ]
    },
    {
     "name": "stderr",
     "output_type": "stream",
     "text": [
      "d:\\Programs\\Programming\\Python\\lib\\site-packages\\xgboost\\core.py:158: UserWarning: [23:39:07] WARNING: C:\\buildkite-agent\\builds\\buildkite-windows-cpu-autoscaling-group-i-0c55ff5f71b100e98-1\\xgboost\\xgboost-ci-windows\\src\\common\\error_msg.cc:58: Falling back to prediction using DMatrix due to mismatched devices. This might lead to higher memory usage and slower performance. XGBoost is running on: cuda:0, while the input data is on: cpu.\n",
      "Potential solutions:\n",
      "- Use a data structure that matches the device ordinal in the booster.\n",
      "- Set the device for booster before call to inplace_predict.\n",
      "\n",
      "This warning will only be shown once.\n",
      "\n",
      "  warnings.warn(smsg, UserWarning)\n",
      "d:\\Programs\\Programming\\Python\\lib\\site-packages\\torch\\nn\\init.py:511: UserWarning: Initializing zero-element tensors is a no-op\n",
      "  warnings.warn(\"Initializing zero-element tensors is a no-op\")\n"
     ]
    },
    {
     "name": "stdout",
     "output_type": "stream",
     "text": [
      "{'classifier': 'XGBoost', 'Accuracy': 0.8, 'AUC-ROC': 0.9768925317040396, 'Precision': 0.8238400488400488, 'Recall': 0.785515873015873, 'F1-score': 0.7804384986993682, 'TOP-2 Accuracy': 0.92, 'TOP-3 Accuracy': 0.9733333333333334, 'TOP-5 Accuracy': 0.9866666666666667, 'TOP-7 Accuracy': 1.0, 'TOP-9 Accuracy': 1.0}\n",
      "Trying NNClassifier_features - <cvtda.classification.NNClassifier.NNClassifier object at 0x000001D841A5C1F0>\n",
      "Topology:  True\n",
      "Images:  torch.Size([100, 1, 28, 28])\n",
      "Features:  torch.Size([100, 4185])\n",
      "Input to LazyLinear: 1024\n",
      "Parameters: 4594410\n"
     ]
    },
    {
     "name": "stderr",
     "output_type": "stream",
     "text": [
      "Epoch 0: 100%|██████████| 1/1 [00:00<00:00, 18.67it/s]\n"
     ]
    },
    {
     "name": "stdout",
     "output_type": "stream",
     "text": [
      "Epoch 0: {'loss': 2.3178048133850098, 'lr': 0.010000000000000002, 'val_acc': 0.25333333333333335}\n"
     ]
    },
    {
     "name": "stderr",
     "output_type": "stream",
     "text": [
      "Epoch 1: 100%|██████████| 1/1 [00:00<00:00, 125.04it/s]\n"
     ]
    },
    {
     "name": "stdout",
     "output_type": "stream",
     "text": [
      "Epoch 1: {'loss': 1.9377094507217407, 'lr': 0.001, 'val_acc': 0.37333333333333335}\n"
     ]
    },
    {
     "name": "stderr",
     "output_type": "stream",
     "text": [
      "Epoch 2: 100%|██████████| 1/1 [00:00<00:00, 90.90it/s]\n"
     ]
    },
    {
     "name": "stdout",
     "output_type": "stream",
     "text": [
      "Epoch 2: {'loss': 1.86260986328125, 'lr': 0.001, 'val_acc': 0.4266666666666667}\n"
     ]
    },
    {
     "name": "stderr",
     "output_type": "stream",
     "text": [
      "Epoch 3: 100%|██████████| 1/1 [00:00<00:00, 125.03it/s]\n"
     ]
    },
    {
     "name": "stdout",
     "output_type": "stream",
     "text": [
      "Epoch 3: {'loss': 1.8074815273284912, 'lr': 0.0001, 'val_acc': 0.48}\n"
     ]
    },
    {
     "name": "stderr",
     "output_type": "stream",
     "text": [
      "Epoch 4: 100%|██████████| 1/1 [00:00<00:00, 142.93it/s]\n"
     ]
    },
    {
     "name": "stdout",
     "output_type": "stream",
     "text": [
      "Epoch 4: {'loss': 1.8118717670440674, 'lr': 1e-05, 'val_acc': 0.49333333333333335}\n"
     ]
    },
    {
     "name": "stderr",
     "output_type": "stream",
     "text": [
      "Epoch 5: 100%|██████████| 1/1 [00:00<00:00, 143.00it/s]\n",
      "d:\\Programs\\Programming\\Python\\lib\\site-packages\\torch\\nn\\init.py:511: UserWarning: Initializing zero-element tensors is a no-op\n",
      "  warnings.warn(\"Initializing zero-element tensors is a no-op\")\n"
     ]
    },
    {
     "name": "stdout",
     "output_type": "stream",
     "text": [
      "Epoch 5: {'loss': 1.7448948621749878, 'lr': 1e-05, 'val_acc': 0.5066666666666667}\n",
      "{'classifier': 'Нейронная сеть для тополог. признаков', 'Accuracy': 0.5066666666666667, 'AUC-ROC': 0.8935005048596317, 'Precision': 0.413609022556391, 'Recall': 0.5208333333333334, 'F1-score': 0.40942307692307695, 'TOP-2 Accuracy': 0.64, 'TOP-3 Accuracy': 0.68, 'TOP-5 Accuracy': 0.7466666666666667, 'TOP-7 Accuracy': 0.9333333333333333, 'TOP-9 Accuracy': 0.9866666666666667}\n",
      "Skipping NNClassifier_diagrams - <cvtda.classification.NNClassifier.NNClassifier object at 0x000001D841A5C220>\n",
      "Trying NNClassifier_images - <cvtda.classification.NNClassifier.NNClassifier object at 0x000001D841A5C250>\n",
      "Topology:  False\n",
      "Images:  torch.Size([100, 1, 28, 28])\n",
      "Features:  torch.Size([100, 4185])\n",
      "Parameters: 23523274\n"
     ]
    },
    {
     "name": "stderr",
     "output_type": "stream",
     "text": [
      "Epoch 0: 100%|██████████| 1/1 [00:00<00:00,  6.47it/s]"
     ]
    },
    {
     "name": "stdout",
     "output_type": "stream",
     "text": [
      "Epoch 0:"
     ]
    },
    {
     "name": "stderr",
     "output_type": "stream",
     "text": [
      "\n"
     ]
    },
    {
     "name": "stdout",
     "output_type": "stream",
     "text": [
      " {'loss': 2.8288800716400146, 'lr': 0.001, 'val_acc': 0.10666666666666667}\n"
     ]
    },
    {
     "name": "stderr",
     "output_type": "stream",
     "text": [
      "Epoch 1: 100%|██████████| 1/1 [00:00<00:00,  8.00it/s]\n"
     ]
    },
    {
     "name": "stdout",
     "output_type": "stream",
     "text": [
      "Epoch 1: {'loss': 1.8435591459274292, 'lr': 0.0001, 'val_acc': 0.10666666666666667}\n"
     ]
    },
    {
     "name": "stderr",
     "output_type": "stream",
     "text": [
      "Epoch 2: 100%|██████████| 1/1 [00:00<00:00,  7.66it/s]\n"
     ]
    },
    {
     "name": "stdout",
     "output_type": "stream",
     "text": [
      "Epoch 2: {'loss': 0.6537905931472778, 'lr': 1e-05, 'val_acc': 0.08}\n"
     ]
    },
    {
     "name": "stderr",
     "output_type": "stream",
     "text": [
      "d:\\Programs\\Programming\\Python\\lib\\site-packages\\torch\\nn\\init.py:511: UserWarning: Initializing zero-element tensors is a no-op\n",
      "  warnings.warn(\"Initializing zero-element tensors is a no-op\")\n"
     ]
    },
    {
     "name": "stdout",
     "output_type": "stream",
     "text": [
      "{'classifier': 'ResNet50 – базовая модель', 'Accuracy': 0.08, 'AUC-ROC': 0.5036890183963596, 'Precision': 0.023897581792318635, 'Recall': 0.08472222222222223, 'F1-score': 0.03564661006521471, 'TOP-2 Accuracy': 0.16, 'TOP-3 Accuracy': 0.24, 'TOP-5 Accuracy': 0.5866666666666667, 'TOP-7 Accuracy': 0.8133333333333334, 'TOP-9 Accuracy': 0.9466666666666667}\n",
      "Trying NNClassifier_features_images - <cvtda.classification.NNClassifier.NNClassifier object at 0x000001D841A5C280>\n",
      "Topology:  True\n",
      "Images:  torch.Size([100, 1, 28, 28])\n",
      "Features:  torch.Size([100, 4185])\n",
      "Input to LazyLinear: 2048\n",
      "Parameters: 30456490\n"
     ]
    },
    {
     "name": "stderr",
     "output_type": "stream",
     "text": [
      "Epoch 0: 100%|██████████| 1/1 [00:00<00:00,  7.35it/s]\n"
     ]
    },
    {
     "name": "stdout",
     "output_type": "stream",
     "text": [
      "Epoch 0: {'loss': 2.337172746658325, 'lr': 0.001, 'val_acc': 0.22666666666666666}\n"
     ]
    },
    {
     "name": "stderr",
     "output_type": "stream",
     "text": [
      "Epoch 1: 100%|██████████| 1/1 [00:00<00:00,  7.69it/s]\n"
     ]
    },
    {
     "name": "stdout",
     "output_type": "stream",
     "text": [
      "Epoch 1: {'loss': 2.127985715866089, 'lr': 0.0001, 'val_acc': 0.21333333333333335}\n"
     ]
    },
    {
     "name": "stderr",
     "output_type": "stream",
     "text": [
      "Epoch 2: 100%|██████████| 1/1 [00:00<00:00,  7.67it/s]\n"
     ]
    },
    {
     "name": "stdout",
     "output_type": "stream",
     "text": [
      "Epoch 2: {'loss': 2.035780191421509, 'lr': 1e-05, 'val_acc': 0.21333333333333335}\n",
      "{'classifier': 'Комбинированная нейронная сеть', 'Accuracy': 0.21333333333333335, 'AUC-ROC': 0.867092039537476, 'Precision': 0.06808943089430894, 'Recall': 0.26666666666666666, 'F1-score': 0.09907255864702673, 'TOP-2 Accuracy': 0.3466666666666667, 'TOP-3 Accuracy': 0.41333333333333333, 'TOP-5 Accuracy': 0.6133333333333333, 'TOP-7 Accuracy': 0.8133333333333334, 'TOP-9 Accuracy': 0.92}\n"
     ]
    },
    {
     "data": {
      "text/html": [
       "<div>\n",
       "<style scoped>\n",
       "    .dataframe tbody tr th:only-of-type {\n",
       "        vertical-align: middle;\n",
       "    }\n",
       "\n",
       "    .dataframe tbody tr th {\n",
       "        vertical-align: top;\n",
       "    }\n",
       "\n",
       "    .dataframe thead th {\n",
       "        text-align: right;\n",
       "    }\n",
       "</style>\n",
       "<table border=\"1\" class=\"dataframe\">\n",
       "  <thead>\n",
       "    <tr style=\"text-align: right;\">\n",
       "      <th></th>\n",
       "      <th>classifier</th>\n",
       "      <th>Accuracy</th>\n",
       "      <th>AUC-ROC</th>\n",
       "      <th>Precision</th>\n",
       "      <th>Recall</th>\n",
       "      <th>F1-score</th>\n",
       "      <th>TOP-2 Accuracy</th>\n",
       "      <th>TOP-3 Accuracy</th>\n",
       "      <th>TOP-5 Accuracy</th>\n",
       "      <th>TOP-7 Accuracy</th>\n",
       "      <th>TOP-9 Accuracy</th>\n",
       "    </tr>\n",
       "  </thead>\n",
       "  <tbody>\n",
       "    <tr>\n",
       "      <th>0</th>\n",
       "      <td>Метод k ближайших соседей</td>\n",
       "      <td>0.706667</td>\n",
       "      <td>0.947688</td>\n",
       "      <td>0.707917</td>\n",
       "      <td>0.693056</td>\n",
       "      <td>0.634759</td>\n",
       "      <td>0.813333</td>\n",
       "      <td>0.906667</td>\n",
       "      <td>0.960000</td>\n",
       "      <td>0.986667</td>\n",
       "      <td>1.000000</td>\n",
       "    </tr>\n",
       "    <tr>\n",
       "      <th>1</th>\n",
       "      <td>Случайный лес</td>\n",
       "      <td>0.760000</td>\n",
       "      <td>0.988312</td>\n",
       "      <td>0.776977</td>\n",
       "      <td>0.740675</td>\n",
       "      <td>0.681854</td>\n",
       "      <td>0.933333</td>\n",
       "      <td>0.960000</td>\n",
       "      <td>0.986667</td>\n",
       "      <td>0.986667</td>\n",
       "      <td>1.000000</td>\n",
       "    </tr>\n",
       "    <tr>\n",
       "      <th>2</th>\n",
       "      <td>Град. бустинг на основе гистограмм</td>\n",
       "      <td>0.813333</td>\n",
       "      <td>0.984303</td>\n",
       "      <td>0.849576</td>\n",
       "      <td>0.796627</td>\n",
       "      <td>0.790120</td>\n",
       "      <td>0.973333</td>\n",
       "      <td>0.986667</td>\n",
       "      <td>1.000000</td>\n",
       "      <td>1.000000</td>\n",
       "      <td>1.000000</td>\n",
       "    </tr>\n",
       "    <tr>\n",
       "      <th>3</th>\n",
       "      <td>CatBoost</td>\n",
       "      <td>0.733333</td>\n",
       "      <td>0.975048</td>\n",
       "      <td>0.747024</td>\n",
       "      <td>0.718849</td>\n",
       "      <td>0.678228</td>\n",
       "      <td>0.893333</td>\n",
       "      <td>0.906667</td>\n",
       "      <td>0.933333</td>\n",
       "      <td>0.986667</td>\n",
       "      <td>1.000000</td>\n",
       "    </tr>\n",
       "    <tr>\n",
       "      <th>4</th>\n",
       "      <td>XGBoost</td>\n",
       "      <td>0.800000</td>\n",
       "      <td>0.976893</td>\n",
       "      <td>0.823840</td>\n",
       "      <td>0.785516</td>\n",
       "      <td>0.780438</td>\n",
       "      <td>0.920000</td>\n",
       "      <td>0.973333</td>\n",
       "      <td>0.986667</td>\n",
       "      <td>1.000000</td>\n",
       "      <td>1.000000</td>\n",
       "    </tr>\n",
       "    <tr>\n",
       "      <th>5</th>\n",
       "      <td>Нейронная сеть для тополог. признаков</td>\n",
       "      <td>0.506667</td>\n",
       "      <td>0.893501</td>\n",
       "      <td>0.413609</td>\n",
       "      <td>0.520833</td>\n",
       "      <td>0.409423</td>\n",
       "      <td>0.640000</td>\n",
       "      <td>0.680000</td>\n",
       "      <td>0.746667</td>\n",
       "      <td>0.933333</td>\n",
       "      <td>0.986667</td>\n",
       "    </tr>\n",
       "    <tr>\n",
       "      <th>6</th>\n",
       "      <td>NaN</td>\n",
       "      <td>NaN</td>\n",
       "      <td>NaN</td>\n",
       "      <td>NaN</td>\n",
       "      <td>NaN</td>\n",
       "      <td>NaN</td>\n",
       "      <td>NaN</td>\n",
       "      <td>NaN</td>\n",
       "      <td>NaN</td>\n",
       "      <td>NaN</td>\n",
       "      <td>NaN</td>\n",
       "    </tr>\n",
       "    <tr>\n",
       "      <th>7</th>\n",
       "      <td>ResNet50 – базовая модель</td>\n",
       "      <td>0.080000</td>\n",
       "      <td>0.503689</td>\n",
       "      <td>0.023898</td>\n",
       "      <td>0.084722</td>\n",
       "      <td>0.035647</td>\n",
       "      <td>0.160000</td>\n",
       "      <td>0.240000</td>\n",
       "      <td>0.586667</td>\n",
       "      <td>0.813333</td>\n",
       "      <td>0.946667</td>\n",
       "    </tr>\n",
       "    <tr>\n",
       "      <th>8</th>\n",
       "      <td>Комбинированная нейронная сеть</td>\n",
       "      <td>0.213333</td>\n",
       "      <td>0.867092</td>\n",
       "      <td>0.068089</td>\n",
       "      <td>0.266667</td>\n",
       "      <td>0.099073</td>\n",
       "      <td>0.346667</td>\n",
       "      <td>0.413333</td>\n",
       "      <td>0.613333</td>\n",
       "      <td>0.813333</td>\n",
       "      <td>0.920000</td>\n",
       "    </tr>\n",
       "  </tbody>\n",
       "</table>\n",
       "</div>"
      ],
      "text/plain": [
       "                              classifier  Accuracy   AUC-ROC  Precision  \\\n",
       "0              Метод k ближайших соседей  0.706667  0.947688   0.707917   \n",
       "1                          Случайный лес  0.760000  0.988312   0.776977   \n",
       "2     Град. бустинг на основе гистограмм  0.813333  0.984303   0.849576   \n",
       "3                               CatBoost  0.733333  0.975048   0.747024   \n",
       "4                                XGBoost  0.800000  0.976893   0.823840   \n",
       "5  Нейронная сеть для тополог. признаков  0.506667  0.893501   0.413609   \n",
       "6                                    NaN       NaN       NaN        NaN   \n",
       "7              ResNet50 – базовая модель  0.080000  0.503689   0.023898   \n",
       "8         Комбинированная нейронная сеть  0.213333  0.867092   0.068089   \n",
       "\n",
       "     Recall  F1-score  TOP-2 Accuracy  TOP-3 Accuracy  TOP-5 Accuracy  \\\n",
       "0  0.693056  0.634759        0.813333        0.906667        0.960000   \n",
       "1  0.740675  0.681854        0.933333        0.960000        0.986667   \n",
       "2  0.796627  0.790120        0.973333        0.986667        1.000000   \n",
       "3  0.718849  0.678228        0.893333        0.906667        0.933333   \n",
       "4  0.785516  0.780438        0.920000        0.973333        0.986667   \n",
       "5  0.520833  0.409423        0.640000        0.680000        0.746667   \n",
       "6       NaN       NaN             NaN             NaN             NaN   \n",
       "7  0.084722  0.035647        0.160000        0.240000        0.586667   \n",
       "8  0.266667  0.099073        0.346667        0.413333        0.613333   \n",
       "\n",
       "   TOP-7 Accuracy  TOP-9 Accuracy  \n",
       "0        0.986667        1.000000  \n",
       "1        0.986667        1.000000  \n",
       "2        1.000000        1.000000  \n",
       "3        0.986667        1.000000  \n",
       "4        1.000000        1.000000  \n",
       "5        0.933333        0.986667  \n",
       "6             NaN             NaN  \n",
       "7        0.813333        0.946667  \n",
       "8        0.813333        0.920000  "
      ]
     },
     "execution_count": 3,
     "metadata": {},
     "output_type": "execute_result"
    },
    {
     "data": {
      "image/png": "[encoded data removed]",
      "text/plain": [
       "<Figure size 1500x1500 with 9 Axes>"
      ]
     },
     "metadata": {},
     "output_type": "display_data"
    }
   ],
   "source": [
    "import cvtda.classification\n",
    "cvtda.classification.classify(\n",
    "    train_images, train_features, train_labels, None,\n",
    "    test_images, test_features, test_labels, None,\n",
    "    knn_neighbours = 5, nn_epochs = 3, catboost_iterations = 10\n",
    ")"
   ]
  }
 ],
 "metadata": {
  "kernelspec": {
   "display_name": "Python 3",
   "language": "python",
   "name": "python3"
  },
  "language_info": {
   "codemirror_mode": {
    "name": "ipython",
    "version": 3
   },
   "file_extension": ".py",
   "mimetype": "text/x-python",
   "name": "python",
   "nbconvert_exporter": "python",
   "pygments_lexer": "ipython3",
   "version": "3.10.11"
  }
 },
 "nbformat": 4,
 "nbformat_minor": 5
}
