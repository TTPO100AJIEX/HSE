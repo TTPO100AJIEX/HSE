{
 "cells": [
  {
   "cell_type": "code",
   "execution_count": 1,
   "id": "1a29ef3e",
   "metadata": {},
   "outputs": [],
   "source": [
    "import numpy\n",
    "import torchvision\n",
    "\n",
    "train = torchvision.datasets.MNIST('mnist', train = True)\n",
    "train_images = numpy.array([ item[0] for item in train ])[:100] / 255\n",
    "train_labels = numpy.array([ item[1] for item in train ])[:100]\n",
    "\n",
    "test = torchvision.datasets.MNIST('mnist', train = False)\n",
    "test_images = numpy.array([ item[0] for item in test ])[:75] / 255\n",
    "test_labels = numpy.array([ item[1] for item in test ])[:75]"
   ]
  },
  {
   "cell_type": "code",
   "execution_count": 2,
   "id": "1023912d",
   "metadata": {},
   "outputs": [
    {
     "name": "stdout",
     "output_type": "stream",
     "text": [
      "Calculating inverted images\n",
      "GreyscaleExtractor: processing None, do_fit = True\n",
      "Applying Scaler to persistence diagrams.\n",
      "DiagramVectorizer: fitting complete\n"
     ]
    },
    {
     "name": "stderr",
     "output_type": "stream",
     "text": [
      "DiagramVectorizer: batch: 100%|██████████| 1/1 [00:02<00:00,  2.24s/it]\n"
     ]
    },
    {
     "name": "stdout",
     "output_type": "stream",
     "text": [
      "GreyscaleExtractor: processing None, do_fit = False\n",
      "Applying Scaler to persistence diagrams.\n"
     ]
    },
    {
     "name": "stderr",
     "output_type": "stream",
     "text": [
      "DiagramVectorizer: batch: 100%|██████████| 1/1 [00:02<00:00,  2.22s/it]\n"
     ]
    },
    {
     "name": "stdout",
     "output_type": "stream",
     "text": [
      "GreyscaleExtractor: processing None, do_fit = True\n",
      "Applying Scaler to persistence diagrams.\n",
      "DiagramVectorizer: fitting complete\n"
     ]
    },
    {
     "name": "stderr",
     "output_type": "stream",
     "text": [
      "DiagramVectorizer: batch: 100%|██████████| 1/1 [00:01<00:00,  1.95s/it]\n"
     ]
    },
    {
     "name": "stdout",
     "output_type": "stream",
     "text": [
      "GreyscaleExtractor: processing None, do_fit = False\n",
      "Applying Scaler to persistence diagrams.\n"
     ]
    },
    {
     "name": "stderr",
     "output_type": "stream",
     "text": [
      "DiagramVectorizer: batch: 100%|██████████| 1/1 [00:01<00:00,  1.95s/it]\n"
     ]
    },
    {
     "name": "stdout",
     "output_type": "stream",
     "text": [
      "Fitting filtrations\n",
      "Fitting filtration 1/12: 4/HeightFiltrartion_-1_-1\n",
      "FiltrationExtractor: processing None, do_fit = True, filtration = HeightFiltration(direction=array([-1, -1]), n_jobs=1)\n",
      "Applying Scaler to persistence diagrams.\n",
      "DiagramVectorizer: fitting complete\n"
     ]
    },
    {
     "name": "stderr",
     "output_type": "stream",
     "text": [
      "DiagramVectorizer: batch: 100%|██████████| 1/1 [00:02<00:00,  2.44s/it]\n"
     ]
    },
    {
     "name": "stdout",
     "output_type": "stream",
     "text": [
      "Fitting filtration 2/12: 4/HeightFiltrartion_-1_0\n",
      "FiltrationExtractor: processing None, do_fit = True, filtration = HeightFiltration(direction=array([-1,  0]), n_jobs=1)\n",
      "Applying Scaler to persistence diagrams.\n",
      "DiagramVectorizer: fitting complete\n"
     ]
    },
    {
     "name": "stderr",
     "output_type": "stream",
     "text": [
      "DiagramVectorizer: batch: 100%|██████████| 1/1 [00:01<00:00,  1.99s/it]\n"
     ]
    },
    {
     "name": "stdout",
     "output_type": "stream",
     "text": [
      "Fitting filtration 3/12: 4/HeightFiltrartion_-1_1\n",
      "FiltrationExtractor: processing None, do_fit = True, filtration = HeightFiltration(direction=array([-1,  1]), n_jobs=1)\n",
      "Applying Scaler to persistence diagrams.\n",
      "DiagramVectorizer: fitting complete\n"
     ]
    },
    {
     "name": "stderr",
     "output_type": "stream",
     "text": [
      "DiagramVectorizer: batch: 100%|██████████| 1/1 [00:02<00:00,  2.20s/it]\n"
     ]
    },
    {
     "name": "stdout",
     "output_type": "stream",
     "text": [
      "Fitting filtration 4/12: 4/HeightFiltrartion_0_-1\n",
      "FiltrationExtractor: processing None, do_fit = True, filtration = HeightFiltration(direction=array([ 0, -1]), n_jobs=1)\n",
      "Applying Scaler to persistence diagrams.\n",
      "DiagramVectorizer: fitting complete\n"
     ]
    },
    {
     "name": "stderr",
     "output_type": "stream",
     "text": [
      "DiagramVectorizer: batch: 100%|██████████| 1/1 [00:02<00:00,  2.00s/it]\n"
     ]
    },
    {
     "name": "stdout",
     "output_type": "stream",
     "text": [
      "Fitting filtration 5/12: 4/HeightFiltrartion_0_1\n",
      "FiltrationExtractor: processing None, do_fit = True, filtration = HeightFiltration(direction=array([0, 1]), n_jobs=1)\n",
      "Applying Scaler to persistence diagrams.\n",
      "DiagramVectorizer: fitting complete\n"
     ]
    },
    {
     "name": "stderr",
     "output_type": "stream",
     "text": [
      "DiagramVectorizer: batch: 100%|██████████| 1/1 [00:02<00:00,  2.10s/it]\n"
     ]
    },
    {
     "name": "stdout",
     "output_type": "stream",
     "text": [
      "Fitting filtration 6/12: 4/HeightFiltrartion_1_-1\n",
      "FiltrationExtractor: processing None, do_fit = True, filtration = HeightFiltration(direction=array([ 1, -1]), n_jobs=1)\n",
      "Applying Scaler to persistence diagrams.\n",
      "DiagramVectorizer: fitting complete\n"
     ]
    },
    {
     "name": "stderr",
     "output_type": "stream",
     "text": [
      "DiagramVectorizer: batch: 100%|██████████| 1/1 [00:02<00:00,  2.23s/it]\n"
     ]
    },
    {
     "name": "stdout",
     "output_type": "stream",
     "text": [
      "Fitting filtration 7/12: 4/HeightFiltrartion_1_0\n",
      "FiltrationExtractor: processing None, do_fit = True, filtration = HeightFiltration(direction=array([1, 0]), n_jobs=1)\n",
      "Applying Scaler to persistence diagrams.\n",
      "DiagramVectorizer: fitting complete\n"
     ]
    },
    {
     "name": "stderr",
     "output_type": "stream",
     "text": [
      "DiagramVectorizer: batch: 100%|██████████| 1/1 [00:01<00:00,  1.81s/it]\n"
     ]
    },
    {
     "name": "stdout",
     "output_type": "stream",
     "text": [
      "Fitting filtration 8/12: 4/HeightFiltrartion_1_1\n",
      "FiltrationExtractor: processing None, do_fit = True, filtration = HeightFiltration(direction=array([1, 1]), n_jobs=1)\n",
      "Applying Scaler to persistence diagrams.\n",
      "DiagramVectorizer: fitting complete\n"
     ]
    },
    {
     "name": "stderr",
     "output_type": "stream",
     "text": [
      "DiagramVectorizer: batch: 100%|██████████| 1/1 [00:02<00:00,  2.23s/it]\n"
     ]
    },
    {
     "name": "stdout",
     "output_type": "stream",
     "text": [
      "Fitting filtration 9/12: 4/RadialFiltration_8_8\n",
      "FiltrationExtractor: processing None, do_fit = True, filtration = RadialFiltration(center=array([8, 8]), n_jobs=1)\n",
      "Applying Scaler to persistence diagrams.\n",
      "DiagramVectorizer: fitting complete\n"
     ]
    },
    {
     "name": "stderr",
     "output_type": "stream",
     "text": [
      "DiagramVectorizer: batch: 100%|██████████| 1/1 [00:02<00:00,  2.14s/it]\n"
     ]
    },
    {
     "name": "stdout",
     "output_type": "stream",
     "text": [
      "Fitting filtration 10/12: 4/RadialFiltration_8_19\n",
      "FiltrationExtractor: processing None, do_fit = True, filtration = RadialFiltration(center=array([ 8, 19]), n_jobs=1)\n",
      "Applying Scaler to persistence diagrams.\n",
      "DiagramVectorizer: fitting complete\n"
     ]
    },
    {
     "name": "stderr",
     "output_type": "stream",
     "text": [
      "DiagramVectorizer: batch: 100%|██████████| 1/1 [00:02<00:00,  2.37s/it]\n"
     ]
    },
    {
     "name": "stdout",
     "output_type": "stream",
     "text": [
      "Fitting filtration 11/12: 4/RadialFiltration_19_8\n",
      "FiltrationExtractor: processing None, do_fit = True, filtration = RadialFiltration(center=array([19,  8]), n_jobs=1)\n",
      "Applying Scaler to persistence diagrams.\n",
      "DiagramVectorizer: fitting complete\n"
     ]
    },
    {
     "name": "stderr",
     "output_type": "stream",
     "text": [
      "DiagramVectorizer: batch: 100%|██████████| 1/1 [00:02<00:00,  2.20s/it]\n"
     ]
    },
    {
     "name": "stdout",
     "output_type": "stream",
     "text": [
      "Fitting filtration 12/12: 4/RadialFiltration_19_19\n",
      "FiltrationExtractor: processing None, do_fit = True, filtration = RadialFiltration(center=array([19, 19]), n_jobs=1)\n",
      "Applying Scaler to persistence diagrams.\n",
      "DiagramVectorizer: fitting complete\n"
     ]
    },
    {
     "name": "stderr",
     "output_type": "stream",
     "text": [
      "DiagramVectorizer: batch: 100%|██████████| 1/1 [00:02<00:00,  2.32s/it]\n"
     ]
    },
    {
     "name": "stdout",
     "output_type": "stream",
     "text": [
      "Applying filtrations\n",
      "Applying filtration 1/12: 4/HeightFiltrartion_-1_-1\n",
      "FiltrationExtractor: processing None, do_fit = False, filtration = HeightFiltration(direction=array([-1, -1]), n_jobs=1)\n",
      "Applying Scaler to persistence diagrams.\n"
     ]
    },
    {
     "name": "stderr",
     "output_type": "stream",
     "text": [
      "DiagramVectorizer: batch: 100%|██████████| 1/1 [00:02<00:00,  2.48s/it]\n"
     ]
    },
    {
     "name": "stdout",
     "output_type": "stream",
     "text": [
      "Applying filtration 2/12: 4/HeightFiltrartion_-1_0\n",
      "FiltrationExtractor: processing None, do_fit = False, filtration = HeightFiltration(direction=array([-1,  0]), n_jobs=1)\n",
      "Applying Scaler to persistence diagrams.\n"
     ]
    },
    {
     "name": "stderr",
     "output_type": "stream",
     "text": [
      "DiagramVectorizer: batch: 100%|██████████| 1/1 [00:01<00:00,  2.00s/it]\n"
     ]
    },
    {
     "name": "stdout",
     "output_type": "stream",
     "text": [
      "Applying filtration 3/12: 4/HeightFiltrartion_-1_1\n",
      "FiltrationExtractor: processing None, do_fit = False, filtration = HeightFiltration(direction=array([-1,  1]), n_jobs=1)\n",
      "Applying Scaler to persistence diagrams.\n"
     ]
    },
    {
     "name": "stderr",
     "output_type": "stream",
     "text": [
      "DiagramVectorizer: batch: 100%|██████████| 1/1 [00:02<00:00,  2.18s/it]\n"
     ]
    },
    {
     "name": "stdout",
     "output_type": "stream",
     "text": [
      "Applying filtration 4/12: 4/HeightFiltrartion_0_-1\n",
      "FiltrationExtractor: processing None, do_fit = False, filtration = HeightFiltration(direction=array([ 0, -1]), n_jobs=1)\n",
      "Applying Scaler to persistence diagrams.\n"
     ]
    },
    {
     "name": "stderr",
     "output_type": "stream",
     "text": [
      "DiagramVectorizer: batch: 100%|██████████| 1/1 [00:01<00:00,  2.00s/it]\n"
     ]
    },
    {
     "name": "stdout",
     "output_type": "stream",
     "text": [
      "Applying filtration 5/12: 4/HeightFiltrartion_0_1\n",
      "FiltrationExtractor: processing None, do_fit = False, filtration = HeightFiltration(direction=array([0, 1]), n_jobs=1)\n",
      "Applying Scaler to persistence diagrams.\n"
     ]
    },
    {
     "name": "stderr",
     "output_type": "stream",
     "text": [
      "DiagramVectorizer: batch: 100%|██████████| 1/1 [00:02<00:00,  2.10s/it]\n"
     ]
    },
    {
     "name": "stdout",
     "output_type": "stream",
     "text": [
      "Applying filtration 6/12: 4/HeightFiltrartion_1_-1\n",
      "FiltrationExtractor: processing None, do_fit = False, filtration = HeightFiltration(direction=array([ 1, -1]), n_jobs=1)\n",
      "Applying Scaler to persistence diagrams.\n"
     ]
    },
    {
     "name": "stderr",
     "output_type": "stream",
     "text": [
      "DiagramVectorizer: batch: 100%|██████████| 1/1 [00:02<00:00,  2.26s/it]\n"
     ]
    },
    {
     "name": "stdout",
     "output_type": "stream",
     "text": [
      "Applying filtration 7/12: 4/HeightFiltrartion_1_0\n",
      "FiltrationExtractor: processing None, do_fit = False, filtration = HeightFiltration(direction=array([1, 0]), n_jobs=1)\n",
      "Applying Scaler to persistence diagrams.\n"
     ]
    },
    {
     "name": "stderr",
     "output_type": "stream",
     "text": [
      "DiagramVectorizer: batch: 100%|██████████| 1/1 [00:01<00:00,  1.81s/it]\n"
     ]
    },
    {
     "name": "stdout",
     "output_type": "stream",
     "text": [
      "Applying filtration 8/12: 4/HeightFiltrartion_1_1\n",
      "FiltrationExtractor: processing None, do_fit = False, filtration = HeightFiltration(direction=array([1, 1]), n_jobs=1)\n",
      "Applying Scaler to persistence diagrams.\n"
     ]
    },
    {
     "name": "stderr",
     "output_type": "stream",
     "text": [
      "DiagramVectorizer: batch: 100%|██████████| 1/1 [00:02<00:00,  2.19s/it]\n"
     ]
    },
    {
     "name": "stdout",
     "output_type": "stream",
     "text": [
      "Applying filtration 9/12: 4/RadialFiltration_8_8\n",
      "FiltrationExtractor: processing None, do_fit = False, filtration = RadialFiltration(center=array([8, 8]), n_jobs=1)\n",
      "Applying Scaler to persistence diagrams.\n"
     ]
    },
    {
     "name": "stderr",
     "output_type": "stream",
     "text": [
      "DiagramVectorizer: batch: 100%|██████████| 1/1 [00:02<00:00,  2.13s/it]\n"
     ]
    },
    {
     "name": "stdout",
     "output_type": "stream",
     "text": [
      "Applying filtration 10/12: 4/RadialFiltration_8_19\n",
      "FiltrationExtractor: processing None, do_fit = False, filtration = RadialFiltration(center=array([ 8, 19]), n_jobs=1)\n",
      "Applying Scaler to persistence diagrams.\n"
     ]
    },
    {
     "name": "stderr",
     "output_type": "stream",
     "text": [
      "DiagramVectorizer: batch: 100%|██████████| 1/1 [00:02<00:00,  2.37s/it]\n"
     ]
    },
    {
     "name": "stdout",
     "output_type": "stream",
     "text": [
      "Applying filtration 11/12: 4/RadialFiltration_19_8\n",
      "FiltrationExtractor: processing None, do_fit = False, filtration = RadialFiltration(center=array([19,  8]), n_jobs=1)\n",
      "Applying Scaler to persistence diagrams.\n"
     ]
    },
    {
     "name": "stderr",
     "output_type": "stream",
     "text": [
      "DiagramVectorizer: batch: 100%|██████████| 1/1 [00:02<00:00,  2.23s/it]\n"
     ]
    },
    {
     "name": "stdout",
     "output_type": "stream",
     "text": [
      "Applying filtration 12/12: 4/RadialFiltration_19_19\n",
      "FiltrationExtractor: processing None, do_fit = False, filtration = RadialFiltration(center=array([19, 19]), n_jobs=1)\n",
      "Applying Scaler to persistence diagrams.\n"
     ]
    },
    {
     "name": "stderr",
     "output_type": "stream",
     "text": [
      "DiagramVectorizer: batch: 100%|██████████| 1/1 [00:02<00:00,  2.31s/it]\n",
      "GrayGeometryExtractor: 100%|██████████| 100/100 [00:04<00:00, 21.42it/s]\n",
      "GrayGeometryExtractor: 100%|██████████| 100/100 [00:04<00:00, 23.24it/s]\n"
     ]
    },
    {
     "name": "stdout",
     "output_type": "stream",
     "text": [
      "Applying StandardScaler.\n",
      "Calculating inverted images\n",
      "GreyscaleExtractor: processing None, do_fit = False\n",
      "Applying Scaler to persistence diagrams.\n"
     ]
    },
    {
     "name": "stderr",
     "output_type": "stream",
     "text": [
      "DiagramVectorizer: batch: 100%|██████████| 1/1 [00:02<00:00,  2.20s/it]\n"
     ]
    },
    {
     "name": "stdout",
     "output_type": "stream",
     "text": [
      "GreyscaleExtractor: processing None, do_fit = False\n",
      "Applying Scaler to persistence diagrams.\n"
     ]
    },
    {
     "name": "stderr",
     "output_type": "stream",
     "text": [
      "DiagramVectorizer: batch: 100%|██████████| 1/1 [00:01<00:00,  1.95s/it]\n"
     ]
    },
    {
     "name": "stdout",
     "output_type": "stream",
     "text": [
      "Applying filtrations\n",
      "Applying filtration 1/12: 4/HeightFiltrartion_-1_-1\n",
      "FiltrationExtractor: processing None, do_fit = False, filtration = HeightFiltration(direction=array([-1, -1]), n_jobs=1)\n",
      "Applying Scaler to persistence diagrams.\n"
     ]
    },
    {
     "name": "stderr",
     "output_type": "stream",
     "text": [
      "DiagramVectorizer: batch: 100%|██████████| 1/1 [00:02<00:00,  2.45s/it]\n"
     ]
    },
    {
     "name": "stdout",
     "output_type": "stream",
     "text": [
      "Applying filtration 2/12: 4/HeightFiltrartion_-1_0\n",
      "FiltrationExtractor: processing None, do_fit = False, filtration = HeightFiltration(direction=array([-1,  0]), n_jobs=1)\n",
      "Applying Scaler to persistence diagrams.\n"
     ]
    },
    {
     "name": "stderr",
     "output_type": "stream",
     "text": [
      "DiagramVectorizer: batch: 100%|██████████| 1/1 [00:01<00:00,  1.99s/it]\n"
     ]
    },
    {
     "name": "stdout",
     "output_type": "stream",
     "text": [
      "Applying filtration 3/12: 4/HeightFiltrartion_-1_1\n",
      "FiltrationExtractor: processing None, do_fit = False, filtration = HeightFiltration(direction=array([-1,  1]), n_jobs=1)\n",
      "Applying Scaler to persistence diagrams.\n"
     ]
    },
    {
     "name": "stderr",
     "output_type": "stream",
     "text": [
      "DiagramVectorizer: batch: 100%|██████████| 1/1 [00:02<00:00,  2.16s/it]\n"
     ]
    },
    {
     "name": "stdout",
     "output_type": "stream",
     "text": [
      "Applying filtration 4/12: 4/HeightFiltrartion_0_-1\n",
      "FiltrationExtractor: processing None, do_fit = False, filtration = HeightFiltration(direction=array([ 0, -1]), n_jobs=1)\n",
      "Applying Scaler to persistence diagrams.\n"
     ]
    },
    {
     "name": "stderr",
     "output_type": "stream",
     "text": [
      "DiagramVectorizer: batch: 100%|██████████| 1/1 [00:01<00:00,  1.98s/it]\n"
     ]
    },
    {
     "name": "stdout",
     "output_type": "stream",
     "text": [
      "Applying filtration 5/12: 4/HeightFiltrartion_0_1\n",
      "FiltrationExtractor: processing None, do_fit = False, filtration = HeightFiltration(direction=array([0, 1]), n_jobs=1)\n",
      "Applying Scaler to persistence diagrams.\n"
     ]
    },
    {
     "name": "stderr",
     "output_type": "stream",
     "text": [
      "DiagramVectorizer: batch: 100%|██████████| 1/1 [00:02<00:00,  2.12s/it]\n"
     ]
    },
    {
     "name": "stdout",
     "output_type": "stream",
     "text": [
      "Applying filtration 6/12: 4/HeightFiltrartion_1_-1\n",
      "FiltrationExtractor: processing None, do_fit = False, filtration = HeightFiltration(direction=array([ 1, -1]), n_jobs=1)\n",
      "Applying Scaler to persistence diagrams.\n"
     ]
    },
    {
     "name": "stderr",
     "output_type": "stream",
     "text": [
      "DiagramVectorizer: batch: 100%|██████████| 1/1 [00:02<00:00,  2.24s/it]\n"
     ]
    },
    {
     "name": "stdout",
     "output_type": "stream",
     "text": [
      "Applying filtration 7/12: 4/HeightFiltrartion_1_0\n",
      "FiltrationExtractor: processing None, do_fit = False, filtration = HeightFiltration(direction=array([1, 0]), n_jobs=1)\n",
      "Applying Scaler to persistence diagrams.\n"
     ]
    },
    {
     "name": "stderr",
     "output_type": "stream",
     "text": [
      "DiagramVectorizer: batch: 100%|██████████| 1/1 [00:01<00:00,  1.82s/it]\n"
     ]
    },
    {
     "name": "stdout",
     "output_type": "stream",
     "text": [
      "Applying filtration 8/12: 4/HeightFiltrartion_1_1\n",
      "FiltrationExtractor: processing None, do_fit = False, filtration = HeightFiltration(direction=array([1, 1]), n_jobs=1)\n",
      "Applying Scaler to persistence diagrams.\n"
     ]
    },
    {
     "name": "stderr",
     "output_type": "stream",
     "text": [
      "DiagramVectorizer: batch: 100%|██████████| 1/1 [00:02<00:00,  2.24s/it]\n"
     ]
    },
    {
     "name": "stdout",
     "output_type": "stream",
     "text": [
      "Applying filtration 9/12: 4/RadialFiltration_8_8\n",
      "FiltrationExtractor: processing None, do_fit = False, filtration = RadialFiltration(center=array([8, 8]), n_jobs=1)\n",
      "Applying Scaler to persistence diagrams.\n"
     ]
    },
    {
     "name": "stderr",
     "output_type": "stream",
     "text": [
      "DiagramVectorizer: batch: 100%|██████████| 1/1 [00:02<00:00,  2.17s/it]\n"
     ]
    },
    {
     "name": "stdout",
     "output_type": "stream",
     "text": [
      "Applying filtration 10/12: 4/RadialFiltration_8_19\n",
      "FiltrationExtractor: processing None, do_fit = False, filtration = RadialFiltration(center=array([ 8, 19]), n_jobs=1)\n",
      "Applying Scaler to persistence diagrams.\n"
     ]
    },
    {
     "name": "stderr",
     "output_type": "stream",
     "text": [
      "DiagramVectorizer: batch: 100%|██████████| 1/1 [00:02<00:00,  2.39s/it]\n"
     ]
    },
    {
     "name": "stdout",
     "output_type": "stream",
     "text": [
      "Applying filtration 11/12: 4/RadialFiltration_19_8\n",
      "FiltrationExtractor: processing None, do_fit = False, filtration = RadialFiltration(center=array([19,  8]), n_jobs=1)\n",
      "Applying Scaler to persistence diagrams.\n"
     ]
    },
    {
     "name": "stderr",
     "output_type": "stream",
     "text": [
      "DiagramVectorizer: batch: 100%|██████████| 1/1 [00:02<00:00,  2.24s/it]\n"
     ]
    },
    {
     "name": "stdout",
     "output_type": "stream",
     "text": [
      "Applying filtration 12/12: 4/RadialFiltration_19_19\n",
      "FiltrationExtractor: processing None, do_fit = False, filtration = RadialFiltration(center=array([19, 19]), n_jobs=1)\n",
      "Applying Scaler to persistence diagrams.\n"
     ]
    },
    {
     "name": "stderr",
     "output_type": "stream",
     "text": [
      "DiagramVectorizer: batch: 100%|██████████| 1/1 [00:02<00:00,  2.32s/it]\n",
      "GrayGeometryExtractor: 100%|██████████| 100/100 [00:04<00:00, 23.62it/s]\n"
     ]
    },
    {
     "name": "stdout",
     "output_type": "stream",
     "text": [
      "Applying StandardScaler.\n",
      "Calculating inverted images\n",
      "GreyscaleExtractor: processing None, do_fit = False\n",
      "Applying Scaler to persistence diagrams.\n"
     ]
    },
    {
     "name": "stderr",
     "output_type": "stream",
     "text": [
      "DiagramVectorizer: batch: 100%|██████████| 1/1 [00:01<00:00,  1.67s/it]\n"
     ]
    },
    {
     "name": "stdout",
     "output_type": "stream",
     "text": [
      "GreyscaleExtractor: processing None, do_fit = False\n",
      "Applying Scaler to persistence diagrams.\n"
     ]
    },
    {
     "name": "stderr",
     "output_type": "stream",
     "text": [
      "DiagramVectorizer: batch: 100%|██████████| 1/1 [00:01<00:00,  1.46s/it]\n"
     ]
    },
    {
     "name": "stdout",
     "output_type": "stream",
     "text": [
      "Applying filtrations\n",
      "Applying filtration 1/12: 4/HeightFiltrartion_-1_-1\n",
      "FiltrationExtractor: processing None, do_fit = False, filtration = HeightFiltration(direction=array([-1, -1]), n_jobs=1)\n",
      "Applying Scaler to persistence diagrams.\n"
     ]
    },
    {
     "name": "stderr",
     "output_type": "stream",
     "text": [
      "DiagramVectorizer: batch: 100%|██████████| 1/1 [00:01<00:00,  1.82s/it]\n"
     ]
    },
    {
     "name": "stdout",
     "output_type": "stream",
     "text": [
      "Applying filtration 2/12: 4/HeightFiltrartion_-1_0\n",
      "FiltrationExtractor: processing None, do_fit = False, filtration = HeightFiltration(direction=array([-1,  0]), n_jobs=1)\n",
      "Applying Scaler to persistence diagrams.\n"
     ]
    },
    {
     "name": "stderr",
     "output_type": "stream",
     "text": [
      "DiagramVectorizer: batch: 100%|██████████| 1/1 [00:01<00:00,  1.49s/it]\n"
     ]
    },
    {
     "name": "stdout",
     "output_type": "stream",
     "text": [
      "Applying filtration 3/12: 4/HeightFiltrartion_-1_1\n",
      "FiltrationExtractor: processing None, do_fit = False, filtration = HeightFiltration(direction=array([-1,  1]), n_jobs=1)\n",
      "Applying Scaler to persistence diagrams.\n"
     ]
    },
    {
     "name": "stderr",
     "output_type": "stream",
     "text": [
      "DiagramVectorizer: batch: 100%|██████████| 1/1 [00:01<00:00,  1.63s/it]\n"
     ]
    },
    {
     "name": "stdout",
     "output_type": "stream",
     "text": [
      "Applying filtration 4/12: 4/HeightFiltrartion_0_-1\n",
      "FiltrationExtractor: processing None, do_fit = False, filtration = HeightFiltration(direction=array([ 0, -1]), n_jobs=1)\n",
      "Applying Scaler to persistence diagrams.\n"
     ]
    },
    {
     "name": "stderr",
     "output_type": "stream",
     "text": [
      "DiagramVectorizer: batch: 100%|██████████| 1/1 [00:01<00:00,  1.52s/it]\n"
     ]
    },
    {
     "name": "stdout",
     "output_type": "stream",
     "text": [
      "Applying filtration 5/12: 4/HeightFiltrartion_0_1\n",
      "FiltrationExtractor: processing None, do_fit = False, filtration = HeightFiltration(direction=array([0, 1]), n_jobs=1)\n",
      "Applying Scaler to persistence diagrams.\n"
     ]
    },
    {
     "name": "stderr",
     "output_type": "stream",
     "text": [
      "DiagramVectorizer: batch: 100%|██████████| 1/1 [00:01<00:00,  1.57s/it]\n"
     ]
    },
    {
     "name": "stdout",
     "output_type": "stream",
     "text": [
      "Applying filtration 6/12: 4/HeightFiltrartion_1_-1\n",
      "FiltrationExtractor: processing None, do_fit = False, filtration = HeightFiltration(direction=array([ 1, -1]), n_jobs=1)\n",
      "Applying Scaler to persistence diagrams.\n"
     ]
    },
    {
     "name": "stderr",
     "output_type": "stream",
     "text": [
      "DiagramVectorizer: batch: 100%|██████████| 1/1 [00:01<00:00,  1.67s/it]\n"
     ]
    },
    {
     "name": "stdout",
     "output_type": "stream",
     "text": [
      "Applying filtration 7/12: 4/HeightFiltrartion_1_0\n",
      "FiltrationExtractor: processing None, do_fit = False, filtration = HeightFiltration(direction=array([1, 0]), n_jobs=1)\n",
      "Applying Scaler to persistence diagrams.\n"
     ]
    },
    {
     "name": "stderr",
     "output_type": "stream",
     "text": [
      "DiagramVectorizer: batch: 100%|██████████| 1/1 [00:01<00:00,  1.36s/it]\n"
     ]
    },
    {
     "name": "stdout",
     "output_type": "stream",
     "text": [
      "Applying filtration 8/12: 4/HeightFiltrartion_1_1\n",
      "FiltrationExtractor: processing None, do_fit = False, filtration = HeightFiltration(direction=array([1, 1]), n_jobs=1)\n",
      "Applying Scaler to persistence diagrams.\n"
     ]
    },
    {
     "name": "stderr",
     "output_type": "stream",
     "text": [
      "DiagramVectorizer: batch: 100%|██████████| 1/1 [00:01<00:00,  1.65s/it]\n"
     ]
    },
    {
     "name": "stdout",
     "output_type": "stream",
     "text": [
      "Applying filtration 9/12: 4/RadialFiltration_8_8\n",
      "FiltrationExtractor: processing None, do_fit = False, filtration = RadialFiltration(center=array([8, 8]), n_jobs=1)\n",
      "Applying Scaler to persistence diagrams.\n"
     ]
    },
    {
     "name": "stderr",
     "output_type": "stream",
     "text": [
      "DiagramVectorizer: batch: 100%|██████████| 1/1 [00:01<00:00,  1.63s/it]\n"
     ]
    },
    {
     "name": "stdout",
     "output_type": "stream",
     "text": [
      "Applying filtration 10/12: 4/RadialFiltration_8_19\n",
      "FiltrationExtractor: processing None, do_fit = False, filtration = RadialFiltration(center=array([ 8, 19]), n_jobs=1)\n",
      "Applying Scaler to persistence diagrams.\n"
     ]
    },
    {
     "name": "stderr",
     "output_type": "stream",
     "text": [
      "DiagramVectorizer: batch: 100%|██████████| 1/1 [00:01<00:00,  1.77s/it]\n"
     ]
    },
    {
     "name": "stdout",
     "output_type": "stream",
     "text": [
      "Applying filtration 11/12: 4/RadialFiltration_19_8\n",
      "FiltrationExtractor: processing None, do_fit = False, filtration = RadialFiltration(center=array([19,  8]), n_jobs=1)\n",
      "Applying Scaler to persistence diagrams.\n"
     ]
    },
    {
     "name": "stderr",
     "output_type": "stream",
     "text": [
      "DiagramVectorizer: batch: 100%|██████████| 1/1 [00:01<00:00,  1.65s/it]\n"
     ]
    },
    {
     "name": "stdout",
     "output_type": "stream",
     "text": [
      "Applying filtration 12/12: 4/RadialFiltration_19_19\n",
      "FiltrationExtractor: processing None, do_fit = False, filtration = RadialFiltration(center=array([19, 19]), n_jobs=1)\n",
      "Applying Scaler to persistence diagrams.\n"
     ]
    },
    {
     "name": "stderr",
     "output_type": "stream",
     "text": [
      "DiagramVectorizer: batch: 100%|██████████| 1/1 [00:01<00:00,  1.73s/it]\n",
      "GrayGeometryExtractor: 100%|██████████| 75/75 [00:03<00:00, 23.59it/s]"
     ]
    },
    {
     "name": "stdout",
     "output_type": "stream",
     "text": [
      "Applying StandardScaler.\n"
     ]
    },
    {
     "name": "stderr",
     "output_type": "stream",
     "text": [
      "\n"
     ]
    }
   ],
   "source": [
    "import cvtda.topology\n",
    "extractor = cvtda.topology.FeatureExtractor(\n",
    "    n_jobs = 1,\n",
    "    binarizer_thresholds = [ 0.4 ],\n",
    "    num_radial_filtrations = 2\n",
    ")\n",
    "train_features = extractor.fit_transform(train_images)\n",
    "test_features = extractor.transform(test_images)"
   ]
  },
  {
   "cell_type": "code",
   "execution_count": 5,
   "id": "873b626b",
   "metadata": {},
   "outputs": [
    {
     "name": "stdout",
     "output_type": "stream",
     "text": [
      "Trying KNeighborsClassifier - KNeighborsClassifier(n_jobs=-1)\n",
      "{'classifier': 'Метод k ближайших соседей', 'Accuracy': 0.72, 'AUC-ROC': 0.9575391576383642, 'Precision': 0.7291666666666666, 'Recall': 0.7097222222222223, 'F1-score': 0.6573371399841987, 'TOP-2 Accuracy': 0.84, 'TOP-3 Accuracy': 0.92, 'TOP-5 Accuracy': 0.9733333333333334, 'TOP-7 Accuracy': 0.9866666666666667, 'TOP-9 Accuracy': 1.0}\n",
      "Trying RandomForestClassifier - RandomForestClassifier(n_jobs=-1, random_state=42)\n",
      "{'classifier': 'Случайный лес', 'Accuracy': 0.84, 'AUC-ROC': 0.9885686990845721, 'Precision': 0.8262698412698413, 'Recall': 0.8341269841269842, 'F1-score': 0.7885381767990464, 'TOP-2 Accuracy': 0.8933333333333333, 'TOP-3 Accuracy': 0.92, 'TOP-5 Accuracy': 0.9866666666666667, 'TOP-7 Accuracy': 1.0, 'TOP-9 Accuracy': 1.0}\n",
      "Trying HistGradientBoostingClassifier - HistGradientBoostingClassifier(max_depth=4, max_features=0.1, max_iter=20,\n",
      "                               random_state=42, verbose=2)\n",
      "Binning 0.003 GB of training data: 0.278 s\n",
      "Fitting gradient boosted rounds:\n",
      "[1/20] 10 trees, 26 leaves (2 on avg), max depth = 2, in 0.090s\n",
      "[2/20] 10 trees, 42 leaves (4 on avg), max depth = 4, in 0.105s\n",
      "[3/20] 10 trees, 41 leaves (4 on avg), max depth = 4, in 0.079s\n",
      "[4/20] 10 trees, 42 leaves (4 on avg), max depth = 4, in 0.084s\n",
      "[5/20] 10 trees, 42 leaves (4 on avg), max depth = 4, in 0.079s\n",
      "[6/20] 10 trees, 41 leaves (4 on avg), max depth = 4, in 0.079s\n",
      "[7/20] 10 trees, 40 leaves (4 on avg), max depth = 3, in 0.076s\n",
      "[8/20] 10 trees, 41 leaves (4 on avg), max depth = 4, in 0.080s\n",
      "[9/20] 10 trees, 40 leaves (4 on avg), max depth = 3, in 0.077s\n",
      "[10/20] 10 trees, 40 leaves (4 on avg), max depth = 3, in 0.078s\n",
      "[11/20] 10 trees, 41 leaves (4 on avg), max depth = 4, in 0.078s\n",
      "[12/20] 10 trees, 40 leaves (4 on avg), max depth = 3, in 0.077s\n",
      "[13/20] 10 trees, 40 leaves (4 on avg), max depth = 3, in 0.076s\n",
      "[14/20] 10 trees, 41 leaves (4 on avg), max depth = 4, in 0.075s\n",
      "[15/20] 10 trees, 41 leaves (4 on avg), max depth = 4, in 0.076s\n",
      "[16/20] 10 trees, 40 leaves (4 on avg), max depth = 4, in 0.077s\n",
      "[17/20] 10 trees, 41 leaves (4 on avg), max depth = 4, in 0.078s\n",
      "[18/20] 10 trees, 39 leaves (3 on avg), max depth = 3, in 0.073s\n",
      "[19/20] 10 trees, 41 leaves (4 on avg), max depth = 4, in 0.077s\n",
      "[20/20] 10 trees, 40 leaves (4 on avg), max depth = 3, in 0.074s\n",
      "Fit 200 trees in 1.869 s, (799 total leaves)\n",
      "Time spent computing histograms: 1.125s\n",
      "Time spent finding best splits:  0.151s\n",
      "Time spent applying splits:      0.074s\n",
      "Time spent predicting:           0.014s\n",
      "{'classifier': 'Град. бустинг на основе гистограмм', 'Accuracy': 0.8266666666666667, 'AUC-ROC': 0.9911128957755942, 'Precision': 0.8235569985569985, 'Recall': 0.8156746031746032, 'F1-score': 0.7575903337923798, 'TOP-2 Accuracy': 0.92, 'TOP-3 Accuracy': 0.9733333333333334, 'TOP-5 Accuracy': 1.0, 'TOP-7 Accuracy': 1.0, 'TOP-9 Accuracy': 1.0}\n",
      "Trying CatBoostClassifier - <catboost.core.CatBoostClassifier object at 0x309a67730>\n",
      "Learning rate set to 0.5\n",
      "0:\tlearn: 2.0142423\ttotal: 149ms\tremaining: 1.34s\n",
      "1:\tlearn: 1.7667961\ttotal: 204ms\tremaining: 815ms\n",
      "2:\tlearn: 1.6593639\ttotal: 261ms\tremaining: 610ms\n",
      "3:\tlearn: 1.3553989\ttotal: 318ms\tremaining: 478ms\n",
      "4:\tlearn: 1.1761184\ttotal: 374ms\tremaining: 374ms\n",
      "5:\tlearn: 1.0893211\ttotal: 428ms\tremaining: 285ms\n",
      "6:\tlearn: 0.9395660\ttotal: 482ms\tremaining: 207ms\n",
      "7:\tlearn: 0.8447798\ttotal: 536ms\tremaining: 134ms\n",
      "8:\tlearn: 0.7345088\ttotal: 589ms\tremaining: 65.5ms\n",
      "9:\tlearn: 0.6511011\ttotal: 646ms\tremaining: 0us\n",
      "{'classifier': 'CatBoost', 'Accuracy': 0.8, 'AUC-ROC': 0.9572952097505669, 'Precision': 0.8583671883671883, 'Recall': 0.7809523809523811, 'F1-score': 0.7726026037945541, 'TOP-2 Accuracy': 0.88, 'TOP-3 Accuracy': 0.88, 'TOP-5 Accuracy': 0.8933333333333333, 'TOP-7 Accuracy': 0.9466666666666667, 'TOP-9 Accuracy': 0.9866666666666667}\n",
      "Trying XGBClassifier - XGBClassifier(base_score=None, booster=None, callbacks=None,\n",
      "              colsample_bylevel=None, colsample_bynode=None,\n",
      "              colsample_bytree=None, device='gpu', early_stopping_rounds=None,\n",
      "              enable_categorical=False, eval_metric=None, feature_types=None,\n",
      "              feature_weights=None, gamma=None, grow_policy=None,\n",
      "              importance_type=None, interaction_constraints=None,\n",
      "              learning_rate=None, max_bin=None, max_cat_threshold=None,\n",
      "              max_cat_to_onehot=None, max_delta_step=None, max_depth=4,\n",
      "              max_leaves=None, min_child_weight=None, missing=nan,\n",
      "              monotone_constraints=None, multi_strategy=None, n_estimators=25,\n",
      "              n_jobs=-1, num_parallel_tree=None, ...)\n"
     ]
    },
    {
     "name": "stderr",
     "output_type": "stream",
     "text": [
      "/opt/homebrew/lib/python3.10/site-packages/xgboost/training.py:183: UserWarning: [08:32:59] WARNING: /Users/runner/work/xgboost/xgboost/src/context.cc:203: XGBoost is not compiled with CUDA support.\n",
      "  bst.update(dtrain, iteration=i, fobj=obj)\n",
      "/opt/homebrew/lib/python3.10/site-packages/torch/nn/init.py:511: UserWarning: Initializing zero-element tensors is a no-op\n",
      "  warnings.warn(\"Initializing zero-element tensors is a no-op\")\n"
     ]
    },
    {
     "name": "stdout",
     "output_type": "stream",
     "text": [
      "{'classifier': 'XGBoost', 'Accuracy': 0.7866666666666666, 'AUC-ROC': 0.9772562167403439, 'Precision': 0.8455860805860806, 'Recall': 0.7827380952380952, 'F1-score': 0.7741891271558792, 'TOP-2 Accuracy': 0.92, 'TOP-3 Accuracy': 0.96, 'TOP-5 Accuracy': 0.9866666666666667, 'TOP-7 Accuracy': 1.0, 'TOP-9 Accuracy': 1.0}\n",
      "Trying NNClassifier_features - <cvtda.classification.NNClassifier.NNClassifier object at 0x309a676a0>\n",
      "Topology:  True\n",
      "Images:  torch.Size([100, 1, 28, 28])\n",
      "Features:  torch.Size([100, 4185])\n",
      "Input to LazyLinear: 1024\n",
      "Parameters: 4594410\n"
     ]
    },
    {
     "name": "stderr",
     "output_type": "stream",
     "text": [
      "Epoch 0: 100%|██████████| 1/1 [00:00<00:00, 23.50it/s]\n"
     ]
    },
    {
     "name": "stdout",
     "output_type": "stream",
     "text": [
      "Epoch 0: {'loss': 2.413691520690918, 'lr': 0.010000000000000002, 'val_acc': 0.2}\n"
     ]
    },
    {
     "name": "stderr",
     "output_type": "stream",
     "text": [
      "Epoch 1: 100%|██████████| 1/1 [00:00<00:00, 54.04it/s]\n"
     ]
    },
    {
     "name": "stdout",
     "output_type": "stream",
     "text": [
      "Epoch 1: {'loss': 1.9815078973770142, 'lr': 0.001, 'val_acc': 0.3466666666666667}\n"
     ]
    },
    {
     "name": "stderr",
     "output_type": "stream",
     "text": [
      "Epoch 2: 100%|██████████| 1/1 [00:00<00:00, 55.69it/s]\n"
     ]
    },
    {
     "name": "stdout",
     "output_type": "stream",
     "text": [
      "Epoch 2: {'loss': 1.916129469871521, 'lr': 0.001, 'val_acc': 0.4}\n"
     ]
    },
    {
     "name": "stderr",
     "output_type": "stream",
     "text": [
      "Epoch 3: 100%|██████████| 1/1 [00:00<00:00, 58.70it/s]\n"
     ]
    },
    {
     "name": "stdout",
     "output_type": "stream",
     "text": [
      "Epoch 3: {'loss': 1.8128620386123657, 'lr': 0.0001, 'val_acc': 0.44}\n"
     ]
    },
    {
     "name": "stderr",
     "output_type": "stream",
     "text": [
      "Epoch 4: 100%|██████████| 1/1 [00:00<00:00, 55.88it/s]\n"
     ]
    },
    {
     "name": "stdout",
     "output_type": "stream",
     "text": [
      "Epoch 4: {'loss': 1.8078173398971558, 'lr': 1e-05, 'val_acc': 0.49333333333333335}\n"
     ]
    },
    {
     "name": "stderr",
     "output_type": "stream",
     "text": [
      "Epoch 5: 100%|██████████| 1/1 [00:00<00:00, 58.69it/s]"
     ]
    },
    {
     "name": "stdout",
     "output_type": "stream",
     "text": [
      "Epoch 5: {'loss': 1.8468856811523438, 'lr': 1e-05, 'val_acc': 0.48}\n"
     ]
    },
    {
     "name": "stderr",
     "output_type": "stream",
     "text": [
      "\n",
      "/opt/homebrew/lib/python3.10/site-packages/torch/nn/init.py:511: UserWarning: Initializing zero-element tensors is a no-op\n",
      "  warnings.warn(\"Initializing zero-element tensors is a no-op\")\n"
     ]
    },
    {
     "name": "stdout",
     "output_type": "stream",
     "text": [
      "{'classifier': 'Нейронная сеть для тополог. признаков', 'Accuracy': 0.48, 'AUC-ROC': 0.9061081215595105, 'Precision': 0.38333333333333336, 'Recall': 0.4708333333333333, 'F1-score': 0.37127021723795917, 'TOP-2 Accuracy': 0.6133333333333333, 'TOP-3 Accuracy': 0.6533333333333333, 'TOP-5 Accuracy': 0.8, 'TOP-7 Accuracy': 0.9466666666666667, 'TOP-9 Accuracy': 0.9866666666666667}\n",
      "Skipping NNClassifier_diagrams - <cvtda.classification.NNClassifier.NNClassifier object at 0x309a676d0>\n",
      "Trying NNClassifier_images - <cvtda.classification.NNClassifier.NNClassifier object at 0x309a67610>\n",
      "Topology:  False\n",
      "Images:  torch.Size([100, 1, 28, 28])\n",
      "Features:  torch.Size([100, 4185])\n",
      "Parameters: 23523274\n"
     ]
    },
    {
     "name": "stderr",
     "output_type": "stream",
     "text": [
      "Epoch 0: 100%|██████████| 1/1 [00:00<00:00,  5.56it/s]\n"
     ]
    },
    {
     "name": "stdout",
     "output_type": "stream",
     "text": [
      "Epoch 0: {'loss': 2.82889461517334, 'lr': 0.001, 'val_acc': 0.10666666666666667}\n"
     ]
    },
    {
     "name": "stderr",
     "output_type": "stream",
     "text": [
      "Epoch 1: 100%|██████████| 1/1 [00:00<00:00,  6.56it/s]\n"
     ]
    },
    {
     "name": "stdout",
     "output_type": "stream",
     "text": [
      "Epoch 1: {'loss': 1.8451416492462158, 'lr': 0.0001, 'val_acc': 0.10666666666666667}\n"
     ]
    },
    {
     "name": "stderr",
     "output_type": "stream",
     "text": [
      "Epoch 2: 100%|██████████| 1/1 [00:00<00:00,  6.58it/s]\n"
     ]
    },
    {
     "name": "stdout",
     "output_type": "stream",
     "text": [
      "Epoch 2: {'loss': 0.6150691509246826, 'lr': 1e-05, 'val_acc': 0.06666666666666667}\n"
     ]
    },
    {
     "name": "stderr",
     "output_type": "stream",
     "text": [
      "/opt/homebrew/lib/python3.10/site-packages/torch/nn/init.py:511: UserWarning: Initializing zero-element tensors is a no-op\n",
      "  warnings.warn(\"Initializing zero-element tensors is a no-op\")\n"
     ]
    },
    {
     "name": "stdout",
     "output_type": "stream",
     "text": [
      "{'classifier': 'ResNet50 – базовая модель', 'Accuracy': 0.06666666666666667, 'AUC-ROC': 0.502859578876444, 'Precision': 0.01575757575757576, 'Recall': 0.07777777777777777, 'F1-score': 0.024333333333333335, 'TOP-2 Accuracy': 0.13333333333333333, 'TOP-3 Accuracy': 0.21333333333333335, 'TOP-5 Accuracy': 0.56, 'TOP-7 Accuracy': 0.8133333333333334, 'TOP-9 Accuracy': 0.9333333333333333}\n",
      "Trying NNClassifier_features_images - <cvtda.classification.NNClassifier.NNClassifier object at 0x309a67640>\n",
      "Topology:  True\n",
      "Images:  torch.Size([100, 1, 28, 28])\n",
      "Features:  torch.Size([100, 4185])\n",
      "Input to LazyLinear: 2048\n",
      "Parameters: 30456490\n"
     ]
    },
    {
     "name": "stderr",
     "output_type": "stream",
     "text": [
      "Epoch 0: 100%|██████████| 1/1 [00:00<00:00,  6.15it/s]"
     ]
    },
    {
     "name": "stdout",
     "output_type": "stream",
     "text": [
      "Epoch 0:"
     ]
    },
    {
     "name": "stderr",
     "output_type": "stream",
     "text": [
      "\n"
     ]
    },
    {
     "name": "stdout",
     "output_type": "stream",
     "text": [
      " {'loss': 2.3700671195983887, 'lr': 0.001, 'val_acc': 0.22666666666666666}\n"
     ]
    },
    {
     "name": "stderr",
     "output_type": "stream",
     "text": [
      "Epoch 1: 100%|██████████| 1/1 [00:00<00:00,  6.86it/s]\n"
     ]
    },
    {
     "name": "stdout",
     "output_type": "stream",
     "text": [
      "Epoch 1: {'loss': 2.1275827884674072, 'lr': 0.0001, 'val_acc': 0.22666666666666666}\n"
     ]
    },
    {
     "name": "stderr",
     "output_type": "stream",
     "text": [
      "Epoch 2: 100%|██████████| 1/1 [00:00<00:00,  6.93it/s]\n"
     ]
    },
    {
     "name": "stdout",
     "output_type": "stream",
     "text": [
      "Epoch 2: {'loss': 2.0634734630584717, 'lr': 1e-05, 'val_acc': 0.22666666666666666}\n",
      "{'classifier': 'Комбинированная нейронная сеть', 'Accuracy': 0.22666666666666666, 'AUC-ROC': 0.8712157835917759, 'Precision': 0.07162790697674418, 'Recall': 0.2833333333333333, 'F1-score': 0.10525664811379096, 'TOP-2 Accuracy': 0.29333333333333333, 'TOP-3 Accuracy': 0.41333333333333333, 'TOP-5 Accuracy': 0.6, 'TOP-7 Accuracy': 0.7333333333333333, 'TOP-9 Accuracy': 0.92}\n"
     ]
    },
    {
     "data": {
      "text/html": [
       "<div>\n",
       "<style scoped>\n",
       "    .dataframe tbody tr th:only-of-type {\n",
       "        vertical-align: middle;\n",
       "    }\n",
       "\n",
       "    .dataframe tbody tr th {\n",
       "        vertical-align: top;\n",
       "    }\n",
       "\n",
       "    .dataframe thead th {\n",
       "        text-align: right;\n",
       "    }\n",
       "</style>\n",
       "<table border=\"1\" class=\"dataframe\">\n",
       "  <thead>\n",
       "    <tr style=\"text-align: right;\">\n",
       "      <th></th>\n",
       "      <th>classifier</th>\n",
       "      <th>Accuracy</th>\n",
       "      <th>AUC-ROC</th>\n",
       "      <th>Precision</th>\n",
       "      <th>Recall</th>\n",
       "      <th>F1-score</th>\n",
       "      <th>TOP-2 Accuracy</th>\n",
       "      <th>TOP-3 Accuracy</th>\n",
       "      <th>TOP-5 Accuracy</th>\n",
       "      <th>TOP-7 Accuracy</th>\n",
       "      <th>TOP-9 Accuracy</th>\n",
       "    </tr>\n",
       "  </thead>\n",
       "  <tbody>\n",
       "    <tr>\n",
       "      <th>0</th>\n",
       "      <td>Метод k ближайших соседей</td>\n",
       "      <td>0.720000</td>\n",
       "      <td>0.957539</td>\n",
       "      <td>0.729167</td>\n",
       "      <td>0.709722</td>\n",
       "      <td>0.657337</td>\n",
       "      <td>0.840000</td>\n",
       "      <td>0.920000</td>\n",
       "      <td>0.973333</td>\n",
       "      <td>0.986667</td>\n",
       "      <td>1.000000</td>\n",
       "    </tr>\n",
       "    <tr>\n",
       "      <th>1</th>\n",
       "      <td>Случайный лес</td>\n",
       "      <td>0.840000</td>\n",
       "      <td>0.988569</td>\n",
       "      <td>0.826270</td>\n",
       "      <td>0.834127</td>\n",
       "      <td>0.788538</td>\n",
       "      <td>0.893333</td>\n",
       "      <td>0.920000</td>\n",
       "      <td>0.986667</td>\n",
       "      <td>1.000000</td>\n",
       "      <td>1.000000</td>\n",
       "    </tr>\n",
       "    <tr>\n",
       "      <th>2</th>\n",
       "      <td>Град. бустинг на основе гистограмм</td>\n",
       "      <td>0.826667</td>\n",
       "      <td>0.991113</td>\n",
       "      <td>0.823557</td>\n",
       "      <td>0.815675</td>\n",
       "      <td>0.757590</td>\n",
       "      <td>0.920000</td>\n",
       "      <td>0.973333</td>\n",
       "      <td>1.000000</td>\n",
       "      <td>1.000000</td>\n",
       "      <td>1.000000</td>\n",
       "    </tr>\n",
       "    <tr>\n",
       "      <th>3</th>\n",
       "      <td>CatBoost</td>\n",
       "      <td>0.800000</td>\n",
       "      <td>0.957295</td>\n",
       "      <td>0.858367</td>\n",
       "      <td>0.780952</td>\n",
       "      <td>0.772603</td>\n",
       "      <td>0.880000</td>\n",
       "      <td>0.880000</td>\n",
       "      <td>0.893333</td>\n",
       "      <td>0.946667</td>\n",
       "      <td>0.986667</td>\n",
       "    </tr>\n",
       "    <tr>\n",
       "      <th>4</th>\n",
       "      <td>XGBoost</td>\n",
       "      <td>0.786667</td>\n",
       "      <td>0.977256</td>\n",
       "      <td>0.845586</td>\n",
       "      <td>0.782738</td>\n",
       "      <td>0.774189</td>\n",
       "      <td>0.920000</td>\n",
       "      <td>0.960000</td>\n",
       "      <td>0.986667</td>\n",
       "      <td>1.000000</td>\n",
       "      <td>1.000000</td>\n",
       "    </tr>\n",
       "    <tr>\n",
       "      <th>5</th>\n",
       "      <td>Нейронная сеть для тополог. признаков</td>\n",
       "      <td>0.480000</td>\n",
       "      <td>0.906108</td>\n",
       "      <td>0.383333</td>\n",
       "      <td>0.470833</td>\n",
       "      <td>0.371270</td>\n",
       "      <td>0.613333</td>\n",
       "      <td>0.653333</td>\n",
       "      <td>0.800000</td>\n",
       "      <td>0.946667</td>\n",
       "      <td>0.986667</td>\n",
       "    </tr>\n",
       "    <tr>\n",
       "      <th>6</th>\n",
       "      <td>NaN</td>\n",
       "      <td>NaN</td>\n",
       "      <td>NaN</td>\n",
       "      <td>NaN</td>\n",
       "      <td>NaN</td>\n",
       "      <td>NaN</td>\n",
       "      <td>NaN</td>\n",
       "      <td>NaN</td>\n",
       "      <td>NaN</td>\n",
       "      <td>NaN</td>\n",
       "      <td>NaN</td>\n",
       "    </tr>\n",
       "    <tr>\n",
       "      <th>7</th>\n",
       "      <td>ResNet50 – базовая модель</td>\n",
       "      <td>0.066667</td>\n",
       "      <td>0.502860</td>\n",
       "      <td>0.015758</td>\n",
       "      <td>0.077778</td>\n",
       "      <td>0.024333</td>\n",
       "      <td>0.133333</td>\n",
       "      <td>0.213333</td>\n",
       "      <td>0.560000</td>\n",
       "      <td>0.813333</td>\n",
       "      <td>0.933333</td>\n",
       "    </tr>\n",
       "    <tr>\n",
       "      <th>8</th>\n",
       "      <td>Комбинированная нейронная сеть</td>\n",
       "      <td>0.226667</td>\n",
       "      <td>0.871216</td>\n",
       "      <td>0.071628</td>\n",
       "      <td>0.283333</td>\n",
       "      <td>0.105257</td>\n",
       "      <td>0.293333</td>\n",
       "      <td>0.413333</td>\n",
       "      <td>0.600000</td>\n",
       "      <td>0.733333</td>\n",
       "      <td>0.920000</td>\n",
       "    </tr>\n",
       "  </tbody>\n",
       "</table>\n",
       "</div>"
      ],
      "text/plain": [
       "                              classifier  Accuracy   AUC-ROC  Precision  \\\n",
       "0              Метод k ближайших соседей  0.720000  0.957539   0.729167   \n",
       "1                          Случайный лес  0.840000  0.988569   0.826270   \n",
       "2     Град. бустинг на основе гистограмм  0.826667  0.991113   0.823557   \n",
       "3                               CatBoost  0.800000  0.957295   0.858367   \n",
       "4                                XGBoost  0.786667  0.977256   0.845586   \n",
       "5  Нейронная сеть для тополог. признаков  0.480000  0.906108   0.383333   \n",
       "6                                    NaN       NaN       NaN        NaN   \n",
       "7              ResNet50 – базовая модель  0.066667  0.502860   0.015758   \n",
       "8         Комбинированная нейронная сеть  0.226667  0.871216   0.071628   \n",
       "\n",
       "     Recall  F1-score  TOP-2 Accuracy  TOP-3 Accuracy  TOP-5 Accuracy  \\\n",
       "0  0.709722  0.657337        0.840000        0.920000        0.973333   \n",
       "1  0.834127  0.788538        0.893333        0.920000        0.986667   \n",
       "2  0.815675  0.757590        0.920000        0.973333        1.000000   \n",
       "3  0.780952  0.772603        0.880000        0.880000        0.893333   \n",
       "4  0.782738  0.774189        0.920000        0.960000        0.986667   \n",
       "5  0.470833  0.371270        0.613333        0.653333        0.800000   \n",
       "6       NaN       NaN             NaN             NaN             NaN   \n",
       "7  0.077778  0.024333        0.133333        0.213333        0.560000   \n",
       "8  0.283333  0.105257        0.293333        0.413333        0.600000   \n",
       "\n",
       "   TOP-7 Accuracy  TOP-9 Accuracy  \n",
       "0        0.986667        1.000000  \n",
       "1        1.000000        1.000000  \n",
       "2        1.000000        1.000000  \n",
       "3        0.946667        0.986667  \n",
       "4        1.000000        1.000000  \n",
       "5        0.946667        0.986667  \n",
       "6             NaN             NaN  \n",
       "7        0.813333        0.933333  \n",
       "8        0.733333        0.920000  "
      ]
     },
     "execution_count": 5,
     "metadata": {},
     "output_type": "execute_result"
    },
    {
     "data": {
      "image/png": "[encoded data removed]",
      "text/plain": [
       "<Figure size 1500x1500 with 9 Axes>"
      ]
     },
     "metadata": {},
     "output_type": "display_data"
    }
   ],
   "source": [
    "import cvtda.classification\n",
    "cvtda.classification.classify(\n",
    "    train_images, train_features, train_labels, None,\n",
    "    test_images, test_features, test_labels, None,\n",
    "    knn_neighbours = 5, nn_epochs = 3, catboost_iterations = 10\n",
    ")"
   ]
  }
 ],
 "metadata": {
  "kernelspec": {
   "display_name": "Python 3",
   "language": "python",
   "name": "python3"
  },
  "language_info": {
   "codemirror_mode": {
    "name": "ipython",
    "version": 3
   },
   "file_extension": ".py",
   "mimetype": "text/x-python",
   "name": "python",
   "nbconvert_exporter": "python",
   "pygments_lexer": "ipython3",
   "version": "3.10.18"
  }
 },
 "nbformat": 4,
 "nbformat_minor": 5
}
