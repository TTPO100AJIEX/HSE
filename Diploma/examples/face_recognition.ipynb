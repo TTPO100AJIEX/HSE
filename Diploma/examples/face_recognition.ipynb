{
 "cells": [
  {
   "cell_type": "code",
   "execution_count": 1,
   "id": "2f354db8",
   "metadata": {},
   "outputs": [],
   "source": [
    "import numpy\n",
    "import torchvision\n",
    "import torchvision.transforms.v2\n",
    "\n",
    "transform = torchvision.transforms.v2.Compose([\n",
    "    torchvision.transforms.v2.Grayscale(),\n",
    "    torchvision.transforms.v2.Resize((32, 32))\n",
    "])\n",
    "\n",
    "train = torchvision.datasets.ImageFolder(\n",
    "    '../experiments/labeled_faces_in_the_wild/lfw/training',\n",
    "    transform = transform\n",
    ")\n",
    "train_images = numpy.array([ train[i][0] for i in range(40) ]) / 255\n",
    "train_labels = numpy.array([ train[i][1] for i in range(40) ])\n",
    "\n",
    "test = torchvision.datasets.ImageFolder(\n",
    "    '../experiments/labeled_faces_in_the_wild/lfw/testing',\n",
    "    transform = transform\n",
    ")\n",
    "test_images = numpy.array([ test[i][0] for i in range(4, 14) ]) / 255\n",
    "test_labels = numpy.array([ test[i][1] for i in range(4, 14) ])"
   ]
  },
  {
   "cell_type": "code",
   "execution_count": 2,
   "id": "378f9512",
   "metadata": {},
   "outputs": [
    {
     "name": "stdout",
     "output_type": "stream",
     "text": [
      "Calculating inverted images\n",
      "GreyscaleExtractor: processing train/greyscale, do_fit = True\n",
      "Saving the result to ./train/greyscale/diagrams.npy\n",
      "Applying Scaler to persistence diagrams.\n",
      "DiagramVectorizer: fitting complete\n"
     ]
    },
    {
     "name": "stderr",
     "output_type": "stream",
     "text": [
      "DiagramVectorizer: batch: 100%|██████████| 1/1 [00:00<00:00, 89.22it/s]"
     ]
    },
    {
     "name": "stdout",
     "output_type": "stream",
     "text": [
      "Saving the result to ./train/greyscale/features.npy\n",
      "GreyscaleExtractor: processing train/greyscale, do_fit = False\n",
      "Got the result from ./train/greyscale/diagrams.npy\n",
      "Applying Scaler to persistence diagrams.\n",
      "Got the result from ./train/greyscale/features.npy\n",
      "GreyscaleExtractor: processing train/inverted_greyscale, do_fit = True\n",
      "Saving the result to ./train/inverted_greyscale/diagrams.npy\n",
      "Applying Scaler to persistence diagrams.\n"
     ]
    },
    {
     "name": "stderr",
     "output_type": "stream",
     "text": [
      "\n"
     ]
    },
    {
     "name": "stdout",
     "output_type": "stream",
     "text": [
      "DiagramVectorizer: fitting complete\n"
     ]
    },
    {
     "name": "stderr",
     "output_type": "stream",
     "text": [
      "DiagramVectorizer: batch: 100%|██████████| 1/1 [00:00<00:00, 66.66it/s]\n"
     ]
    },
    {
     "name": "stdout",
     "output_type": "stream",
     "text": [
      "Saving the result to ./train/inverted_greyscale/features.npy\n",
      "GreyscaleExtractor: processing train/inverted_greyscale, do_fit = False\n",
      "Got the result from ./train/inverted_greyscale/diagrams.npy\n",
      "Applying Scaler to persistence diagrams.\n",
      "Got the result from ./train/inverted_greyscale/features.npy\n",
      "Fitting filtrations\n",
      "Fitting filtration 1/12: 4/HeightFiltrartion_-1_-1\n",
      "FiltrationExtractor: processing train/filtrations/4/HeightFiltrartion_-1_-1, do_fit = True, filtration = HeightFiltration(direction=array([-1, -1]), n_jobs=1)\n",
      "Saving the result to ./train/filtrations/4/HeightFiltrartion_-1_-1/diagrams.npy\n",
      "Applying Scaler to persistence diagrams.\n",
      "DiagramVectorizer: fitting complete\n"
     ]
    },
    {
     "name": "stderr",
     "output_type": "stream",
     "text": [
      "DiagramVectorizer: batch: 100%|██████████| 1/1 [00:00<00:00, 166.69it/s]"
     ]
    },
    {
     "name": "stdout",
     "output_type": "stream",
     "text": [
      "Saving the result to ./train/filtrations/4/HeightFiltrartion_-1_-1/features.npy\n",
      "Fitting filtration 2/12: 4/HeightFiltrartion_-1_0\n",
      "FiltrationExtractor: processing train/filtrations/4/HeightFiltrartion_-1_0, do_fit = True, filtration = HeightFiltration(direction=array([-1,  0]), n_jobs=1)\n"
     ]
    },
    {
     "name": "stderr",
     "output_type": "stream",
     "text": [
      "\n"
     ]
    },
    {
     "name": "stdout",
     "output_type": "stream",
     "text": [
      "Saving the result to ./train/filtrations/4/HeightFiltrartion_-1_0/diagrams.npy\n",
      "Applying Scaler to persistence diagrams.\n",
      "DiagramVectorizer: fitting complete\n"
     ]
    },
    {
     "name": "stderr",
     "output_type": "stream",
     "text": [
      "DiagramVectorizer: batch: 100%|██████████| 1/1 [00:00<00:00, 142.88it/s]"
     ]
    },
    {
     "name": "stdout",
     "output_type": "stream",
     "text": [
      "Saving the result to ./train/filtrations/4/HeightFiltrartion_-1_0/features.npy\n",
      "Fitting filtration 3/12: 4/HeightFiltrartion_-1_1\n",
      "FiltrationExtractor: processing train/filtrations/4/HeightFiltrartion_-1_1, do_fit = True, filtration = HeightFiltration(direction=array([-1,  1]), n_jobs=1)\n",
      "Saving the result to ./train/filtrations/4/HeightFiltrartion_-1_1/diagrams.npy"
     ]
    },
    {
     "name": "stderr",
     "output_type": "stream",
     "text": [
      "\n"
     ]
    },
    {
     "name": "stdout",
     "output_type": "stream",
     "text": [
      "\n",
      "Applying Scaler to persistence diagrams.\n",
      "DiagramVectorizer: fitting complete\n"
     ]
    },
    {
     "name": "stderr",
     "output_type": "stream",
     "text": [
      "DiagramVectorizer: batch: 100%|██████████| 1/1 [00:00<00:00, 166.68it/s]"
     ]
    },
    {
     "name": "stdout",
     "output_type": "stream",
     "text": [
      "Saving the result to ./train/filtrations/4/HeightFiltrartion_-1_1/features.npy\n",
      "Fitting filtration 4/12: 4/HeightFiltrartion_0_-1\n",
      "FiltrationExtractor: processing train/filtrations/4/HeightFiltrartion_0_-1, do_fit = True, filtration = HeightFiltration(direction=array([ 0, -1]), n_jobs=1)\n"
     ]
    },
    {
     "name": "stderr",
     "output_type": "stream",
     "text": [
      "\n"
     ]
    },
    {
     "name": "stdout",
     "output_type": "stream",
     "text": [
      "Saving the result to ./train/filtrations/4/HeightFiltrartion_0_-1/diagrams.npy\n",
      "Applying Scaler to persistence diagrams.\n",
      "DiagramVectorizer: fitting complete\n"
     ]
    },
    {
     "name": "stderr",
     "output_type": "stream",
     "text": [
      "DiagramVectorizer: batch: 100%|██████████| 1/1 [00:00<00:00, 142.83it/s]"
     ]
    },
    {
     "name": "stdout",
     "output_type": "stream",
     "text": [
      "Saving the result to ./train/filtrations/4/HeightFiltrartion_0_-1/features.npy\n",
      "Fitting filtration 5/12: 4/HeightFiltrartion_0_1\n",
      "FiltrationExtractor: processing train/filtrations/4/HeightFiltrartion_0_1, do_fit = True, filtration = HeightFiltration(direction=array([0, 1]), n_jobs=1)\n",
      "Saving the result to ./train/filtrations/4/HeightFiltrartion_0_1/diagrams.npy"
     ]
    },
    {
     "name": "stderr",
     "output_type": "stream",
     "text": [
      "\n"
     ]
    },
    {
     "name": "stdout",
     "output_type": "stream",
     "text": [
      "\n",
      "Applying Scaler to persistence diagrams.\n",
      "DiagramVectorizer: fitting complete\n"
     ]
    },
    {
     "name": "stderr",
     "output_type": "stream",
     "text": [
      "DiagramVectorizer: batch: 100%|██████████| 1/1 [00:00<00:00, 124.89it/s]"
     ]
    },
    {
     "name": "stdout",
     "output_type": "stream",
     "text": [
      "Saving the result to ./train/filtrations/4/HeightFiltrartion_0_1/features.npy\n",
      "Fitting filtration 6/12: 4/HeightFiltrartion_1_-1\n",
      "FiltrationExtractor: processing train/filtrations/4/HeightFiltrartion_1_-1, do_fit = True, filtration = HeightFiltration(direction=array([ 1, -1]), n_jobs=1)\n",
      "Saving the result to ./train/filtrations/4/HeightFiltrartion_1_-1/diagrams.npy"
     ]
    },
    {
     "name": "stderr",
     "output_type": "stream",
     "text": [
      "\n"
     ]
    },
    {
     "name": "stdout",
     "output_type": "stream",
     "text": [
      "\n",
      "Applying Scaler to persistence diagrams.\n",
      "DiagramVectorizer: fitting complete\n"
     ]
    },
    {
     "name": "stderr",
     "output_type": "stream",
     "text": [
      "DiagramVectorizer: batch: 100%|██████████| 1/1 [00:00<00:00, 117.41it/s]"
     ]
    },
    {
     "name": "stdout",
     "output_type": "stream",
     "text": [
      "Saving the result to ./train/filtrations/4/HeightFiltrartion_1_-1/features.npy\n",
      "Fitting filtration 7/12: 4/HeightFiltrartion_1_0\n",
      "FiltrationExtractor: processing train/filtrations/4/HeightFiltrartion_1_0, do_fit = True, filtration = HeightFiltration(direction=array([1, 0]), n_jobs=1)\n",
      "Saving the result to ./train/filtrations/4/HeightFiltrartion_1_0/diagrams.npy\n"
     ]
    },
    {
     "name": "stderr",
     "output_type": "stream",
     "text": [
      "\n"
     ]
    },
    {
     "name": "stdout",
     "output_type": "stream",
     "text": [
      "Applying Scaler to persistence diagrams.\n",
      "DiagramVectorizer: fitting complete\n"
     ]
    },
    {
     "name": "stderr",
     "output_type": "stream",
     "text": [
      "DiagramVectorizer: batch: 100%|██████████| 1/1 [00:00<00:00, 181.56it/s]"
     ]
    },
    {
     "name": "stdout",
     "output_type": "stream",
     "text": [
      "Saving the result to ./train/filtrations/4/HeightFiltrartion_1_0/features.npy\n",
      "Fitting filtration 8/12: 4/HeightFiltrartion_1_1\n",
      "FiltrationExtractor: processing train/filtrations/4/HeightFiltrartion_1_1, do_fit = True, filtration = HeightFiltration(direction=array([1, 1]), n_jobs=1)\n",
      "Saving the result to ./train/filtrations/4/HeightFiltrartion_1_1/diagrams.npy"
     ]
    },
    {
     "name": "stderr",
     "output_type": "stream",
     "text": [
      "\n"
     ]
    },
    {
     "name": "stdout",
     "output_type": "stream",
     "text": [
      "\n",
      "Applying Scaler to persistence diagrams.\n",
      "DiagramVectorizer: fitting complete\n"
     ]
    },
    {
     "name": "stderr",
     "output_type": "stream",
     "text": [
      "DiagramVectorizer: batch: 100%|██████████| 1/1 [00:00<00:00, 124.96it/s]\n"
     ]
    },
    {
     "name": "stdout",
     "output_type": "stream",
     "text": [
      "Saving the result to ./train/filtrations/4/HeightFiltrartion_1_1/features.npy\n",
      "Fitting filtration 9/12: 4/RadialFiltration_10_10\n",
      "FiltrationExtractor: processing train/filtrations/4/RadialFiltration_10_10, do_fit = True, filtration = RadialFiltration(center=array([10, 10]), n_jobs=1)\n",
      "Saving the result to ./train/filtrations/4/RadialFiltration_10_10/diagrams.npy\n",
      "Applying Scaler to persistence diagrams.\n",
      "DiagramVectorizer: fitting complete\n"
     ]
    },
    {
     "name": "stderr",
     "output_type": "stream",
     "text": [
      "DiagramVectorizer: batch: 100%|██████████| 1/1 [00:00<00:00, 166.73it/s]\n"
     ]
    },
    {
     "name": "stdout",
     "output_type": "stream",
     "text": [
      "Saving the result to ./train/filtrations/4/RadialFiltration_10_10/features.npy\n",
      "Fitting filtration 10/12: 4/RadialFiltration_10_21\n",
      "FiltrationExtractor: processing train/filtrations/4/RadialFiltration_10_21, do_fit = True, filtration = RadialFiltration(center=array([10, 21]), n_jobs=1)\n",
      "Saving the result to ./train/filtrations/4/RadialFiltration_10_21/diagrams.npy\n",
      "Applying Scaler to persistence diagrams.\n",
      "DiagramVectorizer: fitting complete\n"
     ]
    },
    {
     "name": "stderr",
     "output_type": "stream",
     "text": [
      "DiagramVectorizer: batch: 100%|██████████| 1/1 [00:00<00:00, 142.86it/s]\n"
     ]
    },
    {
     "name": "stdout",
     "output_type": "stream",
     "text": [
      "Saving the result to ./train/filtrations/4/RadialFiltration_10_21/features.npy\n",
      "Fitting filtration 11/12: 4/RadialFiltration_21_10\n",
      "FiltrationExtractor: processing train/filtrations/4/RadialFiltration_21_10, do_fit = True, filtration = RadialFiltration(center=array([21, 10]), n_jobs=1)\n",
      "Saving the result to ./train/filtrations/4/RadialFiltration_21_10/diagrams.npy\n",
      "Applying Scaler to persistence diagrams.\n",
      "DiagramVectorizer: fitting complete\n"
     ]
    },
    {
     "name": "stderr",
     "output_type": "stream",
     "text": [
      "DiagramVectorizer: batch: 100%|██████████| 1/1 [00:00<00:00, 142.90it/s]\n"
     ]
    },
    {
     "name": "stdout",
     "output_type": "stream",
     "text": [
      "Saving the result to ./train/filtrations/4/RadialFiltration_21_10/features.npy\n",
      "Fitting filtration 12/12: 4/RadialFiltration_21_21\n",
      "FiltrationExtractor: processing train/filtrations/4/RadialFiltration_21_21, do_fit = True, filtration = RadialFiltration(center=array([21, 21]), n_jobs=1)\n",
      "Saving the result to ./train/filtrations/4/RadialFiltration_21_21/diagrams.npy\n",
      "Applying Scaler to persistence diagrams.\n",
      "DiagramVectorizer: fitting complete\n"
     ]
    },
    {
     "name": "stderr",
     "output_type": "stream",
     "text": [
      "DiagramVectorizer: batch: 100%|██████████| 1/1 [00:00<00:00, 111.11it/s]\n"
     ]
    },
    {
     "name": "stdout",
     "output_type": "stream",
     "text": [
      "Saving the result to ./train/filtrations/4/RadialFiltration_21_21/features.npy\n",
      "Applying filtrations\n",
      "Applying filtration 1/12: 4/HeightFiltrartion_-1_-1\n",
      "FiltrationExtractor: processing train/filtrations/4/HeightFiltrartion_-1_-1, do_fit = False, filtration = HeightFiltration(direction=array([-1, -1]), n_jobs=1)\n",
      "Got the result from ./train/filtrations/4/HeightFiltrartion_-1_-1/diagrams.npy\n",
      "Applying Scaler to persistence diagrams.\n",
      "Got the result from ./train/filtrations/4/HeightFiltrartion_-1_-1/features.npy\n",
      "Applying filtration 2/12: 4/HeightFiltrartion_-1_0\n",
      "FiltrationExtractor: processing train/filtrations/4/HeightFiltrartion_-1_0, do_fit = False, filtration = HeightFiltration(direction=array([-1,  0]), n_jobs=1)\n",
      "Got the result from ./train/filtrations/4/HeightFiltrartion_-1_0/diagrams.npy\n",
      "Applying Scaler to persistence diagrams.\n",
      "Got the result from ./train/filtrations/4/HeightFiltrartion_-1_0/features.npy\n",
      "Applying filtration 3/12: 4/HeightFiltrartion_-1_1\n",
      "FiltrationExtractor: processing train/filtrations/4/HeightFiltrartion_-1_1, do_fit = False, filtration = HeightFiltration(direction=array([-1,  1]), n_jobs=1)\n",
      "Got the result from ./train/filtrations/4/HeightFiltrartion_-1_1/diagrams.npy\n",
      "Applying Scaler to persistence diagrams.\n",
      "Got the result from ./train/filtrations/4/HeightFiltrartion_-1_1/features.npy\n",
      "Applying filtration 4/12: 4/HeightFiltrartion_0_-1\n",
      "FiltrationExtractor: processing train/filtrations/4/HeightFiltrartion_0_-1, do_fit = False, filtration = HeightFiltration(direction=array([ 0, -1]), n_jobs=1)\n",
      "Got the result from ./train/filtrations/4/HeightFiltrartion_0_-1/diagrams.npy\n",
      "Applying Scaler to persistence diagrams.\n",
      "Got the result from ./train/filtrations/4/HeightFiltrartion_0_-1/features.npy\n",
      "Applying filtration 5/12: 4/HeightFiltrartion_0_1\n",
      "FiltrationExtractor: processing train/filtrations/4/HeightFiltrartion_0_1, do_fit = False, filtration = HeightFiltration(direction=array([0, 1]), n_jobs=1)\n",
      "Got the result from ./train/filtrations/4/HeightFiltrartion_0_1/diagrams.npy\n",
      "Applying Scaler to persistence diagrams.\n",
      "Got the result from ./train/filtrations/4/HeightFiltrartion_0_1/features.npy\n",
      "Applying filtration 6/12: 4/HeightFiltrartion_1_-1\n",
      "FiltrationExtractor: processing train/filtrations/4/HeightFiltrartion_1_-1, do_fit = False, filtration = HeightFiltration(direction=array([ 1, -1]), n_jobs=1)\n",
      "Got the result from ./train/filtrations/4/HeightFiltrartion_1_-1/diagrams.npy\n",
      "Applying Scaler to persistence diagrams.\n",
      "Got the result from ./train/filtrations/4/HeightFiltrartion_1_-1/features.npy\n",
      "Applying filtration 7/12: 4/HeightFiltrartion_1_0\n",
      "FiltrationExtractor: processing train/filtrations/4/HeightFiltrartion_1_0, do_fit = False, filtration = HeightFiltration(direction=array([1, 0]), n_jobs=1)\n",
      "Got the result from ./train/filtrations/4/HeightFiltrartion_1_0/diagrams.npy\n",
      "Applying Scaler to persistence diagrams.\n",
      "Got the result from ./train/filtrations/4/HeightFiltrartion_1_0/features.npy\n",
      "Applying filtration 8/12: 4/HeightFiltrartion_1_1\n",
      "FiltrationExtractor: processing train/filtrations/4/HeightFiltrartion_1_1, do_fit = False, filtration = HeightFiltration(direction=array([1, 1]), n_jobs=1)\n",
      "Got the result from ./train/filtrations/4/HeightFiltrartion_1_1/diagrams.npy\n",
      "Applying Scaler to persistence diagrams.\n",
      "Got the result from ./train/filtrations/4/HeightFiltrartion_1_1/features.npy\n",
      "Applying filtration 9/12: 4/RadialFiltration_10_10\n",
      "FiltrationExtractor: processing train/filtrations/4/RadialFiltration_10_10, do_fit = False, filtration = RadialFiltration(center=array([10, 10]), n_jobs=1)\n",
      "Got the result from ./train/filtrations/4/RadialFiltration_10_10/diagrams.npy\n",
      "Applying Scaler to persistence diagrams.\n",
      "Got the result from ./train/filtrations/4/RadialFiltration_10_10/features.npy\n",
      "Applying filtration 10/12: 4/RadialFiltration_10_21\n",
      "FiltrationExtractor: processing train/filtrations/4/RadialFiltration_10_21, do_fit = False, filtration = RadialFiltration(center=array([10, 21]), n_jobs=1)\n",
      "Got the result from ./train/filtrations/4/RadialFiltration_10_21/diagrams.npy\n",
      "Applying Scaler to persistence diagrams.\n",
      "Got the result from ./train/filtrations/4/RadialFiltration_10_21/features.npy\n",
      "Applying filtration 11/12: 4/RadialFiltration_21_10\n",
      "FiltrationExtractor: processing train/filtrations/4/RadialFiltration_21_10, do_fit = False, filtration = RadialFiltration(center=array([21, 10]), n_jobs=1)\n",
      "Got the result from ./train/filtrations/4/RadialFiltration_21_10/diagrams.npy\n",
      "Applying Scaler to persistence diagrams.\n",
      "Got the result from ./train/filtrations/4/RadialFiltration_21_10/features.npy\n",
      "Applying filtration 12/12: 4/RadialFiltration_21_21\n",
      "FiltrationExtractor: processing train/filtrations/4/RadialFiltration_21_21, do_fit = False, filtration = RadialFiltration(center=array([21, 21]), n_jobs=1)\n",
      "Got the result from ./train/filtrations/4/RadialFiltration_21_21/diagrams.npy\n",
      "Applying Scaler to persistence diagrams.\n",
      "Got the result from ./train/filtrations/4/RadialFiltration_21_21/features.npy\n"
     ]
    },
    {
     "name": "stderr",
     "output_type": "stream",
     "text": [
      "GrayGeometryExtractor: 100%|██████████| 40/40 [00:02<00:00, 16.90it/s]\n"
     ]
    },
    {
     "name": "stdout",
     "output_type": "stream",
     "text": [
      "Saving the result to ./train/geometry/features.npy\n",
      "Got the result from ./train/geometry/features.npy\n",
      "Applying StandardScaler.\n",
      "Calculating inverted images\n",
      "GreyscaleExtractor: processing train/greyscale, do_fit = False\n",
      "Got the result from ./train/greyscale/diagrams.npy\n",
      "Applying Scaler to persistence diagrams.\n",
      "Got the result from ./train/greyscale/features.npy\n",
      "GreyscaleExtractor: processing train/inverted_greyscale, do_fit = False\n",
      "Got the result from ./train/inverted_greyscale/diagrams.npy\n",
      "Applying Scaler to persistence diagrams.\n",
      "Got the result from ./train/inverted_greyscale/features.npy\n",
      "Applying filtrations\n",
      "Applying filtration 1/12: 4/HeightFiltrartion_-1_-1\n",
      "FiltrationExtractor: processing train/filtrations/4/HeightFiltrartion_-1_-1, do_fit = False, filtration = HeightFiltration(direction=array([-1, -1]), n_jobs=1)\n",
      "Got the result from ./train/filtrations/4/HeightFiltrartion_-1_-1/diagrams.npy\n",
      "Applying Scaler to persistence diagrams.\n",
      "Got the result from ./train/filtrations/4/HeightFiltrartion_-1_-1/features.npy\n",
      "Applying filtration 2/12: 4/HeightFiltrartion_-1_0\n",
      "FiltrationExtractor: processing train/filtrations/4/HeightFiltrartion_-1_0, do_fit = False, filtration = HeightFiltration(direction=array([-1,  0]), n_jobs=1)\n",
      "Got the result from ./train/filtrations/4/HeightFiltrartion_-1_0/diagrams.npy\n",
      "Applying Scaler to persistence diagrams.\n",
      "Got the result from ./train/filtrations/4/HeightFiltrartion_-1_0/features.npy\n",
      "Applying filtration 3/12: 4/HeightFiltrartion_-1_1\n",
      "FiltrationExtractor: processing train/filtrations/4/HeightFiltrartion_-1_1, do_fit = False, filtration = HeightFiltration(direction=array([-1,  1]), n_jobs=1)\n",
      "Got the result from ./train/filtrations/4/HeightFiltrartion_-1_1/diagrams.npy\n",
      "Applying Scaler to persistence diagrams.\n",
      "Got the result from ./train/filtrations/4/HeightFiltrartion_-1_1/features.npy\n",
      "Applying filtration 4/12: 4/HeightFiltrartion_0_-1\n",
      "FiltrationExtractor: processing train/filtrations/4/HeightFiltrartion_0_-1, do_fit = False, filtration = HeightFiltration(direction=array([ 0, -1]), n_jobs=1)\n",
      "Got the result from ./train/filtrations/4/HeightFiltrartion_0_-1/diagrams.npy\n",
      "Applying Scaler to persistence diagrams.\n",
      "Got the result from ./train/filtrations/4/HeightFiltrartion_0_-1/features.npy\n",
      "Applying filtration 5/12: 4/HeightFiltrartion_0_1\n",
      "FiltrationExtractor: processing train/filtrations/4/HeightFiltrartion_0_1, do_fit = False, filtration = HeightFiltration(direction=array([0, 1]), n_jobs=1)\n",
      "Got the result from ./train/filtrations/4/HeightFiltrartion_0_1/diagrams.npy\n",
      "Applying Scaler to persistence diagrams.\n",
      "Got the result from ./train/filtrations/4/HeightFiltrartion_0_1/features.npy\n",
      "Applying filtration 6/12: 4/HeightFiltrartion_1_-1\n",
      "FiltrationExtractor: processing train/filtrations/4/HeightFiltrartion_1_-1, do_fit = False, filtration = HeightFiltration(direction=array([ 1, -1]), n_jobs=1)\n",
      "Got the result from ./train/filtrations/4/HeightFiltrartion_1_-1/diagrams.npy\n",
      "Applying Scaler to persistence diagrams.\n",
      "Got the result from ./train/filtrations/4/HeightFiltrartion_1_-1/features.npy\n",
      "Applying filtration 7/12: 4/HeightFiltrartion_1_0\n",
      "FiltrationExtractor: processing train/filtrations/4/HeightFiltrartion_1_0, do_fit = False, filtration = HeightFiltration(direction=array([1, 0]), n_jobs=1)\n",
      "Got the result from ./train/filtrations/4/HeightFiltrartion_1_0/diagrams.npy\n",
      "Applying Scaler to persistence diagrams.\n",
      "Got the result from ./train/filtrations/4/HeightFiltrartion_1_0/features.npy\n",
      "Applying filtration 8/12: 4/HeightFiltrartion_1_1\n",
      "FiltrationExtractor: processing train/filtrations/4/HeightFiltrartion_1_1, do_fit = False, filtration = HeightFiltration(direction=array([1, 1]), n_jobs=1)\n",
      "Got the result from ./train/filtrations/4/HeightFiltrartion_1_1/diagrams.npy\n",
      "Applying Scaler to persistence diagrams.\n",
      "Got the result from ./train/filtrations/4/HeightFiltrartion_1_1/features.npy\n",
      "Applying filtration 9/12: 4/RadialFiltration_10_10\n",
      "FiltrationExtractor: processing train/filtrations/4/RadialFiltration_10_10, do_fit = False, filtration = RadialFiltration(center=array([10, 10]), n_jobs=1)\n",
      "Got the result from ./train/filtrations/4/RadialFiltration_10_10/diagrams.npy\n",
      "Applying Scaler to persistence diagrams.\n",
      "Got the result from ./train/filtrations/4/RadialFiltration_10_10/features.npy\n",
      "Applying filtration 10/12: 4/RadialFiltration_10_21\n",
      "FiltrationExtractor: processing train/filtrations/4/RadialFiltration_10_21, do_fit = False, filtration = RadialFiltration(center=array([10, 21]), n_jobs=1)\n",
      "Got the result from ./train/filtrations/4/RadialFiltration_10_21/diagrams.npy\n",
      "Applying Scaler to persistence diagrams.\n",
      "Got the result from ./train/filtrations/4/RadialFiltration_10_21/features.npy\n",
      "Applying filtration 11/12: 4/RadialFiltration_21_10\n",
      "FiltrationExtractor: processing train/filtrations/4/RadialFiltration_21_10, do_fit = False, filtration = RadialFiltration(center=array([21, 10]), n_jobs=1)\n",
      "Got the result from ./train/filtrations/4/RadialFiltration_21_10/diagrams.npy\n",
      "Applying Scaler to persistence diagrams.\n",
      "Got the result from ./train/filtrations/4/RadialFiltration_21_10/features.npy\n",
      "Applying filtration 12/12: 4/RadialFiltration_21_21\n",
      "FiltrationExtractor: processing train/filtrations/4/RadialFiltration_21_21, do_fit = False, filtration = RadialFiltration(center=array([21, 21]), n_jobs=1)\n",
      "Got the result from ./train/filtrations/4/RadialFiltration_21_21/diagrams.npy\n",
      "Applying Scaler to persistence diagrams.\n",
      "Got the result from ./train/filtrations/4/RadialFiltration_21_21/features.npy\n",
      "Got the result from ./train/geometry/features.npy\n",
      "Applying StandardScaler.\n",
      "Calculating inverted images\n",
      "GreyscaleExtractor: processing test/greyscale, do_fit = False\n",
      "Saving the result to ./test/greyscale/diagrams.npy\n",
      "Applying Scaler to persistence diagrams.\n"
     ]
    },
    {
     "name": "stderr",
     "output_type": "stream",
     "text": [
      "DiagramVectorizer: batch: 100%|██████████| 1/1 [00:00<00:00, 141.82it/s]\n"
     ]
    },
    {
     "name": "stdout",
     "output_type": "stream",
     "text": [
      "Saving the result to ./test/greyscale/features.npy\n",
      "GreyscaleExtractor: processing test/inverted_greyscale, do_fit = False\n",
      "Saving the result to ./test/inverted_greyscale/diagrams.npy\n",
      "Applying Scaler to persistence diagrams.\n"
     ]
    },
    {
     "name": "stderr",
     "output_type": "stream",
     "text": [
      "DiagramVectorizer: batch: 100%|██████████| 1/1 [00:00<00:00, 166.72it/s]\n"
     ]
    },
    {
     "name": "stdout",
     "output_type": "stream",
     "text": [
      "Saving the result to ./test/inverted_greyscale/features.npy\n",
      "Applying filtrations\n",
      "Applying filtration 1/12: 4/HeightFiltrartion_-1_-1\n",
      "FiltrationExtractor: processing test/filtrations/4/HeightFiltrartion_-1_-1, do_fit = False, filtration = HeightFiltration(direction=array([-1, -1]), n_jobs=1)\n",
      "Saving the result to ./test/filtrations/4/HeightFiltrartion_-1_-1/diagrams.npy\n",
      "Applying Scaler to persistence diagrams.\n"
     ]
    },
    {
     "name": "stderr",
     "output_type": "stream",
     "text": [
      "DiagramVectorizer: batch: 100%|██████████| 1/1 [00:00<00:00, 199.83it/s]\n"
     ]
    },
    {
     "name": "stdout",
     "output_type": "stream",
     "text": [
      "Saving the result to ./test/filtrations/4/HeightFiltrartion_-1_-1/features.npy\n",
      "Applying filtration 2/12: 4/HeightFiltrartion_-1_0\n",
      "FiltrationExtractor: processing test/filtrations/4/HeightFiltrartion_-1_0, do_fit = False, filtration = HeightFiltration(direction=array([-1,  0]), n_jobs=1)\n",
      "Saving the result to ./test/filtrations/4/HeightFiltrartion_-1_0/diagrams.npy\n",
      "Applying Scaler to persistence diagrams.\n"
     ]
    },
    {
     "name": "stderr",
     "output_type": "stream",
     "text": [
      "DiagramVectorizer: batch: 100%|██████████| 1/1 [00:00<00:00, 166.61it/s]\n"
     ]
    },
    {
     "name": "stdout",
     "output_type": "stream",
     "text": [
      "Saving the result to ./test/filtrations/4/HeightFiltrartion_-1_0/features.npy\n",
      "Applying filtration 3/12: 4/HeightFiltrartion_-1_1\n",
      "FiltrationExtractor: processing test/filtrations/4/HeightFiltrartion_-1_1, do_fit = False, filtration = HeightFiltration(direction=array([-1,  1]), n_jobs=1)\n",
      "Saving the result to ./test/filtrations/4/HeightFiltrartion_-1_1/diagrams.npy\n",
      "Applying Scaler to persistence diagrams.\n"
     ]
    },
    {
     "name": "stderr",
     "output_type": "stream",
     "text": [
      "DiagramVectorizer: batch: 100%|██████████| 1/1 [00:00<00:00, 200.14it/s]\n"
     ]
    },
    {
     "name": "stdout",
     "output_type": "stream",
     "text": [
      "Saving the result to ./test/filtrations/4/HeightFiltrartion_-1_1/features.npy\n",
      "Applying filtration 4/12: 4/HeightFiltrartion_0_-1\n",
      "FiltrationExtractor: processing test/filtrations/4/HeightFiltrartion_0_-1, do_fit = False, filtration = HeightFiltration(direction=array([ 0, -1]), n_jobs=1)\n",
      "Saving the result to ./test/filtrations/4/HeightFiltrartion_0_-1/diagrams.npy\n",
      "Applying Scaler to persistence diagrams.\n"
     ]
    },
    {
     "name": "stderr",
     "output_type": "stream",
     "text": [
      "DiagramVectorizer: batch: 100%|██████████| 1/1 [00:00<00:00, 166.58it/s]\n"
     ]
    },
    {
     "name": "stdout",
     "output_type": "stream",
     "text": [
      "Saving the result to ./test/filtrations/4/HeightFiltrartion_0_-1/features.npy\n",
      "Applying filtration 5/12: 4/HeightFiltrartion_0_1\n",
      "FiltrationExtractor: processing test/filtrations/4/HeightFiltrartion_0_1, do_fit = False, filtration = HeightFiltration(direction=array([0, 1]), n_jobs=1)\n",
      "Saving the result to ./test/filtrations/4/HeightFiltrartion_0_1/diagrams.npy\n",
      "Applying Scaler to persistence diagrams.\n"
     ]
    },
    {
     "name": "stderr",
     "output_type": "stream",
     "text": [
      "DiagramVectorizer: batch: 100%|██████████| 1/1 [00:00<00:00, 200.09it/s]\n"
     ]
    },
    {
     "name": "stdout",
     "output_type": "stream",
     "text": [
      "Saving the result to ./test/filtrations/4/HeightFiltrartion_0_1/features.npy\n",
      "Applying filtration 6/12: 4/HeightFiltrartion_1_-1\n",
      "FiltrationExtractor: processing test/filtrations/4/HeightFiltrartion_1_-1, do_fit = False, filtration = HeightFiltration(direction=array([ 1, -1]), n_jobs=1)\n",
      "Saving the result to ./test/filtrations/4/HeightFiltrartion_1_-1/diagrams.npy\n",
      "Applying Scaler to persistence diagrams.\n"
     ]
    },
    {
     "name": "stderr",
     "output_type": "stream",
     "text": [
      "DiagramVectorizer: batch: 100%|██████████| 1/1 [00:00<00:00, 200.13it/s]\n"
     ]
    },
    {
     "name": "stdout",
     "output_type": "stream",
     "text": [
      "Saving the result to ./test/filtrations/4/HeightFiltrartion_1_-1/features.npy\n",
      "Applying filtration 7/12: 4/HeightFiltrartion_1_0\n",
      "FiltrationExtractor: processing test/filtrations/4/HeightFiltrartion_1_0, do_fit = False, filtration = HeightFiltration(direction=array([1, 0]), n_jobs=1)\n",
      "Saving the result to ./test/filtrations/4/HeightFiltrartion_1_0/diagrams.npy\n",
      "Applying Scaler to persistence diagrams.\n"
     ]
    },
    {
     "name": "stderr",
     "output_type": "stream",
     "text": [
      "DiagramVectorizer: batch: 100%|██████████| 1/1 [00:00<00:00, 200.03it/s]\n"
     ]
    },
    {
     "name": "stdout",
     "output_type": "stream",
     "text": [
      "Saving the result to ./test/filtrations/4/HeightFiltrartion_1_0/features.npy\n",
      "Applying filtration 8/12: 4/HeightFiltrartion_1_1\n",
      "FiltrationExtractor: processing test/filtrations/4/HeightFiltrartion_1_1, do_fit = False, filtration = HeightFiltration(direction=array([1, 1]), n_jobs=1)\n",
      "Saving the result to ./test/filtrations/4/HeightFiltrartion_1_1/diagrams.npy\n",
      "Applying Scaler to persistence diagrams.\n"
     ]
    },
    {
     "name": "stderr",
     "output_type": "stream",
     "text": [
      "DiagramVectorizer: batch: 100%|██████████| 1/1 [00:00<00:00, 200.00it/s]\n"
     ]
    },
    {
     "name": "stdout",
     "output_type": "stream",
     "text": [
      "Saving the result to ./test/filtrations/4/HeightFiltrartion_1_1/features.npy\n",
      "Applying filtration 9/12: 4/RadialFiltration_10_10\n",
      "FiltrationExtractor: processing test/filtrations/4/RadialFiltration_10_10, do_fit = False, filtration = RadialFiltration(center=array([10, 10]), n_jobs=1)\n",
      "Saving the result to ./test/filtrations/4/RadialFiltration_10_10/diagrams.npy\n",
      "Applying Scaler to persistence diagrams.\n"
     ]
    },
    {
     "name": "stderr",
     "output_type": "stream",
     "text": [
      "DiagramVectorizer: batch: 100%|██████████| 1/1 [00:00<00:00, 199.94it/s]\n"
     ]
    },
    {
     "name": "stdout",
     "output_type": "stream",
     "text": [
      "Saving the result to ./test/filtrations/4/RadialFiltration_10_10/features.npy\n",
      "Applying filtration 10/12: 4/RadialFiltration_10_21\n",
      "FiltrationExtractor: processing test/filtrations/4/RadialFiltration_10_21, do_fit = False, filtration = RadialFiltration(center=array([10, 21]), n_jobs=1)\n",
      "Saving the result to ./test/filtrations/4/RadialFiltration_10_21/diagrams.npy\n",
      "Applying Scaler to persistence diagrams.\n"
     ]
    },
    {
     "name": "stderr",
     "output_type": "stream",
     "text": [
      "DiagramVectorizer: batch: 100%|██████████| 1/1 [00:00<00:00, 199.89it/s]\n"
     ]
    },
    {
     "name": "stdout",
     "output_type": "stream",
     "text": [
      "Saving the result to ./test/filtrations/4/RadialFiltration_10_21/features.npy\n",
      "Applying filtration 11/12: 4/RadialFiltration_21_10\n",
      "FiltrationExtractor: processing test/filtrations/4/RadialFiltration_21_10, do_fit = False, filtration = RadialFiltration(center=array([21, 10]), n_jobs=1)\n",
      "Saving the result to ./test/filtrations/4/RadialFiltration_21_10/diagrams.npy\n",
      "Applying Scaler to persistence diagrams.\n"
     ]
    },
    {
     "name": "stderr",
     "output_type": "stream",
     "text": [
      "DiagramVectorizer: batch: 100%|██████████| 1/1 [00:00<00:00, 200.03it/s]\n"
     ]
    },
    {
     "name": "stdout",
     "output_type": "stream",
     "text": [
      "Saving the result to ./test/filtrations/4/RadialFiltration_21_10/features.npy\n",
      "Applying filtration 12/12: 4/RadialFiltration_21_21\n",
      "FiltrationExtractor: processing test/filtrations/4/RadialFiltration_21_21, do_fit = False, filtration = RadialFiltration(center=array([21, 21]), n_jobs=1)\n",
      "Saving the result to ./test/filtrations/4/RadialFiltration_21_21/diagrams.npy\n",
      "Applying Scaler to persistence diagrams.\n"
     ]
    },
    {
     "name": "stderr",
     "output_type": "stream",
     "text": [
      "DiagramVectorizer: batch: 100%|██████████| 1/1 [00:00<00:00, 166.70it/s]\n"
     ]
    },
    {
     "name": "stdout",
     "output_type": "stream",
     "text": [
      "Saving the result to ./test/filtrations/4/RadialFiltration_21_21/features.npy\n"
     ]
    },
    {
     "name": "stderr",
     "output_type": "stream",
     "text": [
      "GrayGeometryExtractor: 100%|██████████| 10/10 [00:00<00:00, 17.98it/s]"
     ]
    },
    {
     "name": "stdout",
     "output_type": "stream",
     "text": [
      "Saving the result to ./test/geometry/features.npy\n",
      "Applying StandardScaler.\n"
     ]
    },
    {
     "name": "stderr",
     "output_type": "stream",
     "text": [
      "\n"
     ]
    }
   ],
   "source": [
    "import cvtda.topology\n",
    "extractor = cvtda.topology.FeatureExtractor(\n",
    "    n_jobs = 1,\n",
    "    binarizer_thresholds = [ 0.4 ],\n",
    "    num_radial_filtrations = 2\n",
    ")\n",
    "train_features = extractor.fit_transform(train_images, \"train\")\n",
    "test_features = extractor.transform(test_images, \"test\")"
   ]
  },
  {
   "cell_type": "code",
   "execution_count": 3,
   "id": "cd3e1156",
   "metadata": {},
   "outputs": [
    {
     "name": "stdout",
     "output_type": "stream",
     "text": [
      "Calculating inverted images\n",
      "Got the result from ./train/greyscale/diagrams.npy\n",
      "Applying Scaler to persistence diagrams.\n",
      "Got the result from ./train/greyscale/diagrams.npy\n",
      "Applying Scaler to persistence diagrams.\n",
      "Got the result from ./train/inverted_greyscale/diagrams.npy\n",
      "Applying Scaler to persistence diagrams.\n",
      "Got the result from ./train/inverted_greyscale/diagrams.npy\n",
      "Applying Scaler to persistence diagrams.\n",
      "Fitting filtrations\n",
      "Fitting filtration 1/12: 4/HeightFiltrartion_-1_-1\n",
      "Got the result from ./train/filtrations/4/HeightFiltrartion_-1_-1/diagrams.npy\n",
      "Applying Scaler to persistence diagrams.\n",
      "Fitting filtration 2/12: 4/HeightFiltrartion_-1_0\n",
      "Got the result from ./train/filtrations/4/HeightFiltrartion_-1_0/diagrams.npy\n",
      "Applying Scaler to persistence diagrams.\n",
      "Fitting filtration 3/12: 4/HeightFiltrartion_-1_1\n",
      "Got the result from ./train/filtrations/4/HeightFiltrartion_-1_1/diagrams.npy\n",
      "Applying Scaler to persistence diagrams.\n",
      "Fitting filtration 4/12: 4/HeightFiltrartion_0_-1\n",
      "Got the result from ./train/filtrations/4/HeightFiltrartion_0_-1/diagrams.npy\n",
      "Applying Scaler to persistence diagrams.\n",
      "Fitting filtration 5/12: 4/HeightFiltrartion_0_1\n",
      "Got the result from ./train/filtrations/4/HeightFiltrartion_0_1/diagrams.npy\n",
      "Applying Scaler to persistence diagrams.\n",
      "Fitting filtration 6/12: 4/HeightFiltrartion_1_-1\n",
      "Got the result from ./train/filtrations/4/HeightFiltrartion_1_-1/diagrams.npy\n",
      "Applying Scaler to persistence diagrams.\n",
      "Fitting filtration 7/12: 4/HeightFiltrartion_1_0\n",
      "Got the result from ./train/filtrations/4/HeightFiltrartion_1_0/diagrams.npy\n",
      "Applying Scaler to persistence diagrams.\n",
      "Fitting filtration 8/12: 4/HeightFiltrartion_1_1\n",
      "Got the result from ./train/filtrations/4/HeightFiltrartion_1_1/diagrams.npy\n",
      "Applying Scaler to persistence diagrams.\n",
      "Fitting filtration 9/12: 4/RadialFiltration_10_10\n",
      "Got the result from ./train/filtrations/4/RadialFiltration_10_10/diagrams.npy\n",
      "Applying Scaler to persistence diagrams.\n",
      "Fitting filtration 10/12: 4/RadialFiltration_10_21\n",
      "Got the result from ./train/filtrations/4/RadialFiltration_10_21/diagrams.npy\n",
      "Applying Scaler to persistence diagrams.\n",
      "Fitting filtration 11/12: 4/RadialFiltration_21_10\n",
      "Got the result from ./train/filtrations/4/RadialFiltration_21_10/diagrams.npy\n",
      "Applying Scaler to persistence diagrams.\n",
      "Fitting filtration 12/12: 4/RadialFiltration_21_21\n",
      "Got the result from ./train/filtrations/4/RadialFiltration_21_21/diagrams.npy\n",
      "Applying Scaler to persistence diagrams.\n",
      "Applying filtrations\n",
      "Applying filtration 1/12: 4/HeightFiltrartion_-1_-1\n",
      "Got the result from ./train/filtrations/4/HeightFiltrartion_-1_-1/diagrams.npy\n",
      "Applying Scaler to persistence diagrams.\n",
      "Applying filtration 2/12: 4/HeightFiltrartion_-1_0\n",
      "Got the result from ./train/filtrations/4/HeightFiltrartion_-1_0/diagrams.npy\n",
      "Applying Scaler to persistence diagrams.\n",
      "Applying filtration 3/12: 4/HeightFiltrartion_-1_1\n",
      "Got the result from ./train/filtrations/4/HeightFiltrartion_-1_1/diagrams.npy\n",
      "Applying Scaler to persistence diagrams.\n",
      "Applying filtration 4/12: 4/HeightFiltrartion_0_-1\n",
      "Got the result from ./train/filtrations/4/HeightFiltrartion_0_-1/diagrams.npy\n",
      "Applying Scaler to persistence diagrams.\n",
      "Applying filtration 5/12: 4/HeightFiltrartion_0_1\n",
      "Got the result from ./train/filtrations/4/HeightFiltrartion_0_1/diagrams.npy\n",
      "Applying Scaler to persistence diagrams.\n",
      "Applying filtration 6/12: 4/HeightFiltrartion_1_-1\n",
      "Got the result from ./train/filtrations/4/HeightFiltrartion_1_-1/diagrams.npy\n",
      "Applying Scaler to persistence diagrams.\n",
      "Applying filtration 7/12: 4/HeightFiltrartion_1_0\n",
      "Got the result from ./train/filtrations/4/HeightFiltrartion_1_0/diagrams.npy\n",
      "Applying Scaler to persistence diagrams.\n",
      "Applying filtration 8/12: 4/HeightFiltrartion_1_1\n",
      "Got the result from ./train/filtrations/4/HeightFiltrartion_1_1/diagrams.npy\n",
      "Applying Scaler to persistence diagrams.\n",
      "Applying filtration 9/12: 4/RadialFiltration_10_10\n",
      "Got the result from ./train/filtrations/4/RadialFiltration_10_10/diagrams.npy\n",
      "Applying Scaler to persistence diagrams.\n",
      "Applying filtration 10/12: 4/RadialFiltration_10_21\n",
      "Got the result from ./train/filtrations/4/RadialFiltration_10_21/diagrams.npy\n",
      "Applying Scaler to persistence diagrams.\n",
      "Applying filtration 11/12: 4/RadialFiltration_21_10\n",
      "Got the result from ./train/filtrations/4/RadialFiltration_21_10/diagrams.npy\n",
      "Applying Scaler to persistence diagrams.\n",
      "Applying filtration 12/12: 4/RadialFiltration_21_21\n",
      "Got the result from ./train/filtrations/4/RadialFiltration_21_21/diagrams.npy\n",
      "Applying Scaler to persistence diagrams.\n",
      "Diagrams requested. Returning diagrams.\n",
      "Calculating inverted images\n",
      "Got the result from ./train/greyscale/diagrams.npy\n",
      "Applying Scaler to persistence diagrams.\n",
      "Got the result from ./train/inverted_greyscale/diagrams.npy\n",
      "Applying Scaler to persistence diagrams.\n",
      "Applying filtrations\n",
      "Applying filtration 1/12: 4/HeightFiltrartion_-1_-1\n",
      "Got the result from ./train/filtrations/4/HeightFiltrartion_-1_-1/diagrams.npy\n",
      "Applying Scaler to persistence diagrams.\n",
      "Applying filtration 2/12: 4/HeightFiltrartion_-1_0\n",
      "Got the result from ./train/filtrations/4/HeightFiltrartion_-1_0/diagrams.npy\n",
      "Applying Scaler to persistence diagrams.\n",
      "Applying filtration 3/12: 4/HeightFiltrartion_-1_1\n",
      "Got the result from ./train/filtrations/4/HeightFiltrartion_-1_1/diagrams.npy\n",
      "Applying Scaler to persistence diagrams.\n",
      "Applying filtration 4/12: 4/HeightFiltrartion_0_-1\n",
      "Got the result from ./train/filtrations/4/HeightFiltrartion_0_-1/diagrams.npy\n",
      "Applying Scaler to persistence diagrams.\n",
      "Applying filtration 5/12: 4/HeightFiltrartion_0_1\n",
      "Got the result from ./train/filtrations/4/HeightFiltrartion_0_1/diagrams.npy\n",
      "Applying Scaler to persistence diagrams.\n",
      "Applying filtration 6/12: 4/HeightFiltrartion_1_-1\n",
      "Got the result from ./train/filtrations/4/HeightFiltrartion_1_-1/diagrams.npy\n",
      "Applying Scaler to persistence diagrams.\n",
      "Applying filtration 7/12: 4/HeightFiltrartion_1_0\n",
      "Got the result from ./train/filtrations/4/HeightFiltrartion_1_0/diagrams.npy\n",
      "Applying Scaler to persistence diagrams.\n",
      "Applying filtration 8/12: 4/HeightFiltrartion_1_1\n",
      "Got the result from ./train/filtrations/4/HeightFiltrartion_1_1/diagrams.npy\n",
      "Applying Scaler to persistence diagrams.\n",
      "Applying filtration 9/12: 4/RadialFiltration_10_10\n",
      "Got the result from ./train/filtrations/4/RadialFiltration_10_10/diagrams.npy\n",
      "Applying Scaler to persistence diagrams.\n",
      "Applying filtration 10/12: 4/RadialFiltration_10_21\n",
      "Got the result from ./train/filtrations/4/RadialFiltration_10_21/diagrams.npy\n",
      "Applying Scaler to persistence diagrams.\n",
      "Applying filtration 11/12: 4/RadialFiltration_21_10\n",
      "Got the result from ./train/filtrations/4/RadialFiltration_21_10/diagrams.npy\n",
      "Applying Scaler to persistence diagrams.\n",
      "Applying filtration 12/12: 4/RadialFiltration_21_21\n",
      "Got the result from ./train/filtrations/4/RadialFiltration_21_21/diagrams.npy\n",
      "Applying Scaler to persistence diagrams.\n",
      "Diagrams requested. Returning diagrams.\n",
      "Calculating inverted images\n",
      "Got the result from ./test/greyscale/diagrams.npy\n",
      "Applying Scaler to persistence diagrams.\n",
      "Got the result from ./test/inverted_greyscale/diagrams.npy\n",
      "Applying Scaler to persistence diagrams.\n",
      "Applying filtrations\n",
      "Applying filtration 1/12: 4/HeightFiltrartion_-1_-1\n",
      "Got the result from ./test/filtrations/4/HeightFiltrartion_-1_-1/diagrams.npy\n",
      "Applying Scaler to persistence diagrams.\n",
      "Applying filtration 2/12: 4/HeightFiltrartion_-1_0\n",
      "Got the result from ./test/filtrations/4/HeightFiltrartion_-1_0/diagrams.npy\n",
      "Applying Scaler to persistence diagrams.\n",
      "Applying filtration 3/12: 4/HeightFiltrartion_-1_1\n",
      "Got the result from ./test/filtrations/4/HeightFiltrartion_-1_1/diagrams.npy\n",
      "Applying Scaler to persistence diagrams.\n",
      "Applying filtration 4/12: 4/HeightFiltrartion_0_-1\n",
      "Got the result from ./test/filtrations/4/HeightFiltrartion_0_-1/diagrams.npy\n",
      "Applying Scaler to persistence diagrams.\n",
      "Applying filtration 5/12: 4/HeightFiltrartion_0_1\n",
      "Got the result from ./test/filtrations/4/HeightFiltrartion_0_1/diagrams.npy\n",
      "Applying Scaler to persistence diagrams.\n",
      "Applying filtration 6/12: 4/HeightFiltrartion_1_-1\n",
      "Got the result from ./test/filtrations/4/HeightFiltrartion_1_-1/diagrams.npy\n",
      "Applying Scaler to persistence diagrams.\n",
      "Applying filtration 7/12: 4/HeightFiltrartion_1_0\n",
      "Got the result from ./test/filtrations/4/HeightFiltrartion_1_0/diagrams.npy\n",
      "Applying Scaler to persistence diagrams.\n",
      "Applying filtration 8/12: 4/HeightFiltrartion_1_1\n",
      "Got the result from ./test/filtrations/4/HeightFiltrartion_1_1/diagrams.npy\n",
      "Applying Scaler to persistence diagrams.\n",
      "Applying filtration 9/12: 4/RadialFiltration_10_10\n",
      "Got the result from ./test/filtrations/4/RadialFiltration_10_10/diagrams.npy\n",
      "Applying Scaler to persistence diagrams.\n",
      "Applying filtration 10/12: 4/RadialFiltration_10_21\n",
      "Got the result from ./test/filtrations/4/RadialFiltration_10_21/diagrams.npy\n",
      "Applying Scaler to persistence diagrams.\n",
      "Applying filtration 11/12: 4/RadialFiltration_21_10\n",
      "Got the result from ./test/filtrations/4/RadialFiltration_21_10/diagrams.npy\n",
      "Applying Scaler to persistence diagrams.\n",
      "Applying filtration 12/12: 4/RadialFiltration_21_21\n",
      "Got the result from ./test/filtrations/4/RadialFiltration_21_21/diagrams.npy\n",
      "Applying Scaler to persistence diagrams.\n",
      "Diagrams requested. Returning diagrams.\n"
     ]
    }
   ],
   "source": [
    "extractor = cvtda.topology.FeatureExtractor(\n",
    "    n_jobs = 1,\n",
    "    return_diagrams = True,\n",
    "    only_get_from_dump = True,\n",
    "    binarizer_thresholds = [ 0.4 ],\n",
    "    num_radial_filtrations = 2\n",
    ")\n",
    "train_diagrams = extractor.fit_transform(train_images, \"train\")\n",
    "test_diagrams = extractor.transform(test_images, \"test\")"
   ]
  },
  {
   "cell_type": "code",
   "execution_count": 4,
   "id": "0ec90a88",
   "metadata": {},
   "outputs": [
    {
     "name": "stderr",
     "output_type": "stream",
     "text": [
      "Dataset: processing diagrams: 100%|██████████| 14/14 [00:00<00:00, 89.49it/s]\n"
     ]
    },
    {
     "name": "stdout",
     "output_type": "stream",
     "text": [
      "Constructed a dataset of 40 images of shape torch.Size([1, 32, 32]) with 28 diagrams and 3513 features\n"
     ]
    },
    {
     "name": "stderr",
     "output_type": "stream",
     "text": [
      "Dataset: processing diagrams: 100%|██████████| 14/14 [00:00<00:00, 318.19it/s]\n"
     ]
    },
    {
     "name": "stdout",
     "output_type": "stream",
     "text": [
      "Constructed a dataset of 10 images of shape torch.Size([1, 32, 32]) with 28 diagrams and 3513 features\n",
      "Trying SimpleTopologicalLearner - <cvtda.face_recognition.SimpleTopologicalLearner.SimpleTopologicalLearner object at 0x00000284945B8A60>\n"
     ]
    },
    {
     "name": "stderr",
     "output_type": "stream",
     "text": [
      "Calculating pairwise distances: 100%|██████████| 100/100 [00:00<00:00, 39960.98it/s]\n",
      "Analyzing distances: 100%|██████████| 100/100 [00:00<00:00, 667.55it/s]\n"
     ]
    },
    {
     "name": "stdout",
     "output_type": "stream",
     "text": [
      "Trying DiagramsLearner - <cvtda.face_recognition.DiagramsLearner.DiagramsLearner object at 0x000002849A6525F0>\n"
     ]
    },
    {
     "name": "stderr",
     "output_type": "stream",
     "text": [
      "Calculating pairwise distances: 100%|██████████| 100/100 [00:00<00:00, 250.43it/s]\n",
      "Analyzing distances: 100%|██████████| 100/100 [00:00<00:00, 7692.58it/s]\n",
      "d:\\Programs\\Programming\\Python\\lib\\site-packages\\torch\\nn\\init.py:511: UserWarning: Initializing zero-element tensors is a no-op\n",
      "  warnings.warn(\"Initializing zero-element tensors is a no-op\")\n"
     ]
    },
    {
     "name": "stdout",
     "output_type": "stream",
     "text": [
      "Trying NNLearner_images - <cvtda.face_recognition.NNLearner.NNLearner object at 0x000002849A652680>\n",
      "Topology:  False\n",
      "Images:  torch.Size([32, 1, 32, 32])\n",
      "Features:  torch.Size([32, 3513])\n",
      "Parameters: 23519176\n"
     ]
    },
    {
     "name": "stderr",
     "output_type": "stream",
     "text": [
      "Train: 100%|██████████| 3/3 [00:00<00:00,  5.80it/s, loss=0.27, AMI=0.327, NMI=0.514, mean_average_precision=0.548, mean_average_precision_at_r=0.314, mean_reciprocal_rank=0.659, precision_at_1=0.5, r_precision=0.4]   \n",
      "Calculating pairwise distances: 100%|██████████| 100/100 [00:00<00:00, 152.42it/s]\n",
      "Analyzing distances: 100%|██████████| 100/100 [00:00<00:00, 10001.92it/s]\n",
      "d:\\Programs\\Programming\\Python\\lib\\site-packages\\torch\\nn\\init.py:511: UserWarning: Initializing zero-element tensors is a no-op\n",
      "  warnings.warn(\"Initializing zero-element tensors is a no-op\")\n"
     ]
    },
    {
     "name": "stdout",
     "output_type": "stream",
     "text": [
      "Trying NNLearner_features - <cvtda.face_recognition.NNLearner.NNLearner object at 0x00000284BAA22170>\n",
      "Topology:  True\n",
      "Images:  torch.Size([32, 1, 32, 32])\n",
      "Features:  torch.Size([32, 3513])\n",
      "Input to LazyLinear: 1024\n",
      "Parameters: 5965824\n"
     ]
    },
    {
     "name": "stderr",
     "output_type": "stream",
     "text": [
      "Train: 100%|██████████| 6/6 [00:00<00:00, 38.92it/s, loss=0.257, AMI=0.483, NMI=0.627, mean_average_precision=0.731, mean_average_precision_at_r=0.618, mean_reciprocal_rank=0.774, precision_at_1=0.7, r_precision=0.64]\n",
      "Calculating pairwise distances: 100%|██████████| 100/100 [00:00<00:00, 1184.39it/s]\n",
      "Analyzing distances: 100%|██████████| 100/100 [00:00<00:00, 9452.38it/s]\n",
      "d:\\Programs\\Programming\\Python\\lib\\site-packages\\torch\\nn\\init.py:511: UserWarning: Initializing zero-element tensors is a no-op\n",
      "  warnings.warn(\"Initializing zero-element tensors is a no-op\")\n"
     ]
    },
    {
     "name": "stdout",
     "output_type": "stream",
     "text": [
      "Trying NNLearner_features_images - <cvtda.face_recognition.NNLearner.NNLearner object at 0x00000284BAA22020>\n",
      "Topology:  True\n",
      "Images:  torch.Size([32, 1, 32, 32])\n",
      "Features:  torch.Size([32, 3513])\n",
      "Input to LazyLinear: 1280\n",
      "Parameters: 30254272\n"
     ]
    },
    {
     "name": "stderr",
     "output_type": "stream",
     "text": [
      "Train: 100%|██████████| 3/3 [00:00<00:00, 11.70it/s, loss=0.114, AMI=0.289, NMI=0.487, mean_average_precision=0.693, mean_average_precision_at_r=0.513, mean_reciprocal_rank=0.713, precision_at_1=0.6, r_precision=0.54]\n",
      "Calculating pairwise distances: 100%|██████████| 100/100 [00:00<00:00, 147.91it/s]\n",
      "Analyzing distances: 100%|██████████| 100/100 [00:00<00:00, 9089.79it/s]\n"
     ]
    },
    {
     "name": "stdout",
     "output_type": "stream",
     "text": [
      "Trying NNLearner_diagrams - <cvtda.face_recognition.NNLearner.NNLearner object at 0x00000284BAA21E10>\n",
      "Topology:  True\n",
      "Images:  torch.Size([32, 1, 32, 32])\n",
      "Features:  torch.Size([32, 3513])\n",
      "Input to LazyLinear: 1024\n",
      "Parameters: 4209664\n"
     ]
    },
    {
     "name": "stderr",
     "output_type": "stream",
     "text": [
      "Train: 0it [00:00, ?it/s]\n",
      "Calculating pairwise distances: 100%|██████████| 100/100 [00:01<00:00, 91.98it/s]\n",
      "Analyzing distances: 100%|██████████| 100/100 [00:00<00:00, 9517.37it/s]\n"
     ]
    },
    {
     "data": {
      "image/png": "[encoded data removed]",
      "text/plain": [
       "<Figure size 1200x500 with 6 Axes>"
      ]
     },
     "metadata": {},
     "output_type": "display_data"
    }
   ],
   "source": [
    "import cvtda.face_recognition\n",
    "cvtda.face_recognition.learn(\n",
    "    train_images, train_features, train_labels, train_diagrams,\n",
    "    test_images, test_features, test_labels, test_diagrams,\n",
    "    nn_length_before_new_iter = 5, nn_epochs = 3\n",
    ")"
   ]
  }
 ],
 "metadata": {
  "kernelspec": {
   "display_name": "Python 3",
   "language": "python",
   "name": "python3"
  },
  "language_info": {
   "codemirror_mode": {
    "name": "ipython",
    "version": 3
   },
   "file_extension": ".py",
   "mimetype": "text/x-python",
   "name": "python",
   "nbconvert_exporter": "python",
   "pygments_lexer": "ipython3",
   "version": "3.10.11"
  }
 },
 "nbformat": 4,
 "nbformat_minor": 5
}
