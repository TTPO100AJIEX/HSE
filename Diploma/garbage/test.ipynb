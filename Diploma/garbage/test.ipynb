{
 "cells": [
  {
   "cell_type": "code",
   "execution_count": 1,
   "metadata": {},
   "outputs": [
    {
     "data": {
      "text/plain": [
       "array([[1, 2, 3],\n",
       "       [4, 5, 6],\n",
       "       [7, 8, 9]])"
      ]
     },
     "execution_count": 1,
     "metadata": {},
     "output_type": "execute_result"
    }
   ],
   "source": [
    "import numpy\n",
    "\n",
    "\n",
    "image = numpy.array([\n",
    "    [ 1, 2, 3 ],\n",
    "    [ 4, 5, 6 ],\n",
    "    [ 7, 8, 9 ]\n",
    "])\n",
    "\n",
    "image"
   ]
  },
  {
   "cell_type": "code",
   "execution_count": 3,
   "metadata": {},
   "outputs": [
    {
     "data": {
      "text/plain": [
       "1.001953125"
      ]
     },
     "execution_count": 3,
     "metadata": {},
     "output_type": "execute_result"
    }
   ],
   "source": [
    "import numpy\n",
    "import gudhi\n",
    "import gudhi.hera\n",
    "\n",
    "gudhi.hera.bottleneck_distance(\n",
    "    numpy.array([ [ 0, 1 ], [ 0, 3 ] ]),\n",
    "    numpy.array([ [ 0, 2 ] ])\n",
    ")"
   ]
  },
  {
   "cell_type": "code",
   "execution_count": 3,
   "metadata": {},
   "outputs": [
    {
     "data": {
      "text/plain": [
       "array([  0.,   1.,   2.,   3.,   4.,   5.,   6.,   7.,   8.,   9.,  10.,\n",
       "        11.,  12.,  13.,  14.,  15.,  16.,  17.,  18.,  19.,  20.,  21.,\n",
       "        22.,  23.,  24.,  25.,  26.,  27.,  28.,  29.,  30.,  31.,  32.,\n",
       "        33.,  34.,  35.,  36.,  37.,  38.,  39.,  40.,  41.,  42.,  43.,\n",
       "        44.,  45.,  46.,  47.,  48.,  49.,  50.,  51.,  52.,  53.,  54.,\n",
       "        55.,  56.,  57.,  58.,  59.,  60.,  61.,  62.,  63.,  64.,  65.,\n",
       "        66.,  67.,  68.,  69.,  70.,  71.,  72.,  73.,  74.,  75.,  76.,\n",
       "        77.,  78.,  79.,  80.,  81.,  82.,  83.,  84.,  85.,  86.,  87.,\n",
       "        88.,  89.,  90.,  91.,  92.,  93.,  94.,  95.,  96.,  97.,  98.,\n",
       "        99., 100., 101., 102., 103., 104., 105., 106., 107., 108., 109.,\n",
       "       110., 111., 112., 113., 114., 115., 116., 117., 118., 119., 120.,\n",
       "       121., 122., 123., 124., 125., 126., 127., 128., 129., 130., 131.,\n",
       "       132., 133., 134., 135., 136., 137., 138., 139., 140., 141., 142.,\n",
       "       143., 144., 145., 146., 147., 148., 149., 150., 151., 152., 153.,\n",
       "       154., 155., 156., 157., 158., 159., 160., 161., 162., 163., 164.,\n",
       "       165., 166., 167., 168., 169., 170., 171., 172., 173., 174., 175.,\n",
       "       176., 177., 178., 179., 180., 181., 182., 183., 184., 185., 186.,\n",
       "       187., 188., 189., 190., 191., 192., 193., 194., 195., 196., 197.,\n",
       "       198., 199., 200., 201., 202., 203., 204., 205., 206., 207., 208.,\n",
       "       209., 210., 211., 212., 213., 214., 215., 216., 217., 218., 219.,\n",
       "       220., 221., 222., 223., 224., 225., 226., 227., 228., 229., 230.,\n",
       "       231., 232., 233., 234., 235., 236., 237., 238., 239., 240., 241.,\n",
       "       242., 243., 244., 245., 246., 247., 248., 249., 250., 251., 252.,\n",
       "       253., 254., 255.])"
      ]
     },
     "execution_count": 3,
     "metadata": {},
     "output_type": "execute_result"
    }
   ],
   "source": [
    "numpy.linspace(0, 255, 256)"
   ]
  },
  {
   "cell_type": "code",
   "execution_count": 4,
   "metadata": {},
   "outputs": [
    {
     "data": {
      "text/plain": [
       "array([0.        , 0.00392157, 0.00784314, 0.01176471, 0.01568627,\n",
       "       0.01960784, 0.02352941, 0.02745098, 0.03137255, 0.03529412,\n",
       "       0.03921569, 0.04313725, 0.04705882, 0.05098039, 0.05490196,\n",
       "       0.05882353, 0.0627451 , 0.06666667, 0.07058824, 0.0745098 ,\n",
       "       0.07843137, 0.08235294, 0.08627451, 0.09019608, 0.09411765,\n",
       "       0.09803922, 0.10196078, 0.10588235, 0.10980392, 0.11372549,\n",
       "       0.11764706, 0.12156863, 0.1254902 , 0.12941176, 0.13333333,\n",
       "       0.1372549 , 0.14117647, 0.14509804, 0.14901961, 0.15294118,\n",
       "       0.15686275, 0.16078431, 0.16470588, 0.16862745, 0.17254902,\n",
       "       0.17647059, 0.18039216, 0.18431373, 0.18823529, 0.19215686,\n",
       "       0.19607843, 0.2       , 0.20392157, 0.20784314, 0.21176471,\n",
       "       0.21568627, 0.21960784, 0.22352941, 0.22745098, 0.23137255,\n",
       "       0.23529412, 0.23921569, 0.24313725, 0.24705882, 0.25098039,\n",
       "       0.25490196, 0.25882353, 0.2627451 , 0.26666667, 0.27058824,\n",
       "       0.2745098 , 0.27843137, 0.28235294, 0.28627451, 0.29019608,\n",
       "       0.29411765, 0.29803922, 0.30196078, 0.30588235, 0.30980392,\n",
       "       0.31372549, 0.31764706, 0.32156863, 0.3254902 , 0.32941176,\n",
       "       0.33333333, 0.3372549 , 0.34117647, 0.34509804, 0.34901961,\n",
       "       0.35294118, 0.35686275, 0.36078431, 0.36470588, 0.36862745,\n",
       "       0.37254902, 0.37647059, 0.38039216, 0.38431373, 0.38823529,\n",
       "       0.39215686, 0.39607843, 0.4       , 0.40392157, 0.40784314,\n",
       "       0.41176471, 0.41568627, 0.41960784, 0.42352941, 0.42745098,\n",
       "       0.43137255, 0.43529412, 0.43921569, 0.44313725, 0.44705882,\n",
       "       0.45098039, 0.45490196, 0.45882353, 0.4627451 , 0.46666667,\n",
       "       0.47058824, 0.4745098 , 0.47843137, 0.48235294, 0.48627451,\n",
       "       0.49019608, 0.49411765, 0.49803922, 0.50196078, 0.50588235,\n",
       "       0.50980392, 0.51372549, 0.51764706, 0.52156863, 0.5254902 ,\n",
       "       0.52941176, 0.53333333, 0.5372549 , 0.54117647, 0.54509804,\n",
       "       0.54901961, 0.55294118, 0.55686275, 0.56078431, 0.56470588,\n",
       "       0.56862745, 0.57254902, 0.57647059, 0.58039216, 0.58431373,\n",
       "       0.58823529, 0.59215686, 0.59607843, 0.6       , 0.60392157,\n",
       "       0.60784314, 0.61176471, 0.61568627, 0.61960784, 0.62352941,\n",
       "       0.62745098, 0.63137255, 0.63529412, 0.63921569, 0.64313725,\n",
       "       0.64705882, 0.65098039, 0.65490196, 0.65882353, 0.6627451 ,\n",
       "       0.66666667, 0.67058824, 0.6745098 , 0.67843137, 0.68235294,\n",
       "       0.68627451, 0.69019608, 0.69411765, 0.69803922, 0.70196078,\n",
       "       0.70588235, 0.70980392, 0.71372549, 0.71764706, 0.72156863,\n",
       "       0.7254902 , 0.72941176, 0.73333333, 0.7372549 , 0.74117647,\n",
       "       0.74509804, 0.74901961, 0.75294118, 0.75686275, 0.76078431,\n",
       "       0.76470588, 0.76862745, 0.77254902, 0.77647059, 0.78039216,\n",
       "       0.78431373, 0.78823529, 0.79215686, 0.79607843, 0.8       ,\n",
       "       0.80392157, 0.80784314, 0.81176471, 0.81568627, 0.81960784,\n",
       "       0.82352941, 0.82745098, 0.83137255, 0.83529412, 0.83921569,\n",
       "       0.84313725, 0.84705882, 0.85098039, 0.85490196, 0.85882353,\n",
       "       0.8627451 , 0.86666667, 0.87058824, 0.8745098 , 0.87843137,\n",
       "       0.88235294, 0.88627451, 0.89019608, 0.89411765, 0.89803922,\n",
       "       0.90196078, 0.90588235, 0.90980392, 0.91372549, 0.91764706,\n",
       "       0.92156863, 0.9254902 , 0.92941176, 0.93333333, 0.9372549 ,\n",
       "       0.94117647, 0.94509804, 0.94901961, 0.95294118, 0.95686275,\n",
       "       0.96078431, 0.96470588, 0.96862745, 0.97254902, 0.97647059,\n",
       "       0.98039216, 0.98431373, 0.98823529, 0.99215686, 0.99607843,\n",
       "       1.        ])"
      ]
     },
     "execution_count": 4,
     "metadata": {},
     "output_type": "execute_result"
    }
   ],
   "source": [
    "numpy.linspace(0, 1, 256)"
   ]
  },
  {
   "cell_type": "code",
   "execution_count": 4,
   "metadata": {},
   "outputs": [
    {
     "data": {
      "text/plain": [
       "(50, 1)"
      ]
     },
     "execution_count": 4,
     "metadata": {},
     "output_type": "execute_result"
    }
   ],
   "source": [
    "import numpy\n",
    "\n",
    "numpy.trapz(numpy.random.rand(50, 100), axis = 1).reshape(-1, 1).shape"
   ]
  },
  {
   "cell_type": "code",
   "execution_count": 9,
   "metadata": {},
   "outputs": [
    {
     "data": {
      "text/plain": [
       "((3, 3), (3, 3), (3, 3))"
      ]
     },
     "execution_count": 9,
     "metadata": {},
     "output_type": "execute_result"
    }
   ],
   "source": [
    "x = numpy.indices(image.shape)[0]\n",
    "y = numpy.indices(image.shape)[1]\n",
    "\n",
    "x.shape, y.shape, image.shape"
   ]
  },
  {
   "cell_type": "code",
   "execution_count": null,
   "metadata": {},
   "outputs": [
    {
     "data": {
      "text/plain": [
       "array([[[0, 0, 1],\n",
       "        [0, 1, 2],\n",
       "        [0, 2, 3]],\n",
       "\n",
       "       [[1, 0, 4],\n",
       "        [1, 1, 5],\n",
       "        [1, 2, 6]],\n",
       "\n",
       "       [[2, 0, 7],\n",
       "        [2, 1, 8],\n",
       "        [2, 2, 9]]])"
      ]
     },
     "execution_count": 13,
     "metadata": {},
     "output_type": "execute_result"
    }
   ],
   "source": [
    "numpy.dstack([ x, y, image ])"
   ]
  },
  {
   "cell_type": "code",
   "execution_count": 15,
   "metadata": {},
   "outputs": [
    {
     "data": {
      "text/plain": [
       "array([[[1, 2],\n",
       "        [3, 4],\n",
       "        [5, 6]],\n",
       "\n",
       "       [[7, 8],\n",
       "        [9, 1],\n",
       "        [2, 3]],\n",
       "\n",
       "       [[4, 5],\n",
       "        [6, 7],\n",
       "        [8, 9]]])"
      ]
     },
     "execution_count": 15,
     "metadata": {},
     "output_type": "execute_result"
    }
   ],
   "source": [
    "image3d = numpy.array([\n",
    "    [ [ 1, 2 ], [ 3, 4 ], [ 5, 6 ] ],\n",
    "    [ [ 7, 8 ], [ 9, 1 ], [ 2, 3 ] ],\n",
    "    [ [ 4, 5 ], [ 6, 7 ], [ 8, 9 ] ],\n",
    "])\n",
    "\n",
    "image3d"
   ]
  },
  {
   "cell_type": "code",
   "execution_count": 27,
   "metadata": {},
   "outputs": [
    {
     "data": {
      "text/plain": [
       "((3, 3), (3, 3), (3, 3, 2))"
      ]
     },
     "execution_count": 27,
     "metadata": {},
     "output_type": "execute_result"
    }
   ],
   "source": [
    "width, height = image3d.shape[0:2]\n",
    "x = numpy.indices((width, height))[0]\n",
    "y = numpy.indices((width, height))[1]\n",
    "\n",
    "x.shape, y.shape, image3d.shape"
   ]
  },
  {
   "cell_type": "code",
   "execution_count": 30,
   "metadata": {},
   "outputs": [
    {
     "data": {
      "text/plain": [
       "array([[0, 0, 1, 2],\n",
       "       [0, 1, 3, 4],\n",
       "       [0, 2, 5, 6],\n",
       "       [1, 0, 7, 8],\n",
       "       [1, 1, 9, 1],\n",
       "       [1, 2, 2, 3],\n",
       "       [2, 0, 4, 5],\n",
       "       [2, 1, 6, 7],\n",
       "       [2, 2, 8, 9]])"
      ]
     },
     "execution_count": 30,
     "metadata": {},
     "output_type": "execute_result"
    }
   ],
   "source": [
    "numpy.dstack([ x, y, image3d ]).reshape((width * height, -1))"
   ]
  },
  {
   "cell_type": "code",
   "execution_count": null,
   "metadata": {},
   "outputs": [
    {
     "data": {
      "text/plain": [
       "(512, 512, 3)"
      ]
     },
     "execution_count": 6,
     "metadata": {},
     "output_type": "execute_result"
    }
   ],
   "source": [
    "import skimage.data\n",
    "\n",
    "skimage.data.astronaut()[:32, :32, 3]"
   ]
  },
  {
   "cell_type": "code",
   "execution_count": 22,
   "metadata": {},
   "outputs": [
    {
     "name": "stdout",
     "output_type": "stream",
     "text": [
      "RGB images received. Transforming to grayscale.\n"
     ]
    },
    {
     "name": "stderr",
     "output_type": "stream",
     "text": [
      "rgb2gray: 100%|██████████| 1/1 [00:00<00:00, 1002.46it/s]\n"
     ]
    },
    {
     "name": "stdout",
     "output_type": "stream",
     "text": [
      "PointCloudsExtractor: processing None\n"
     ]
    },
    {
     "name": "stderr",
     "output_type": "stream",
     "text": [
      "image2pointcloud: 100%|██████████| 1/1 [00:00<?, ?it/s]\n"
     ]
    },
    {
     "name": "stdout",
     "output_type": "stream",
     "text": [
      "Fitting the diagram vectorizer\n",
      "Fitting the filtering\n",
      "Fitting the betti curve\n",
      "Fitting the persistence landscape\n"
     ]
    },
    {
     "name": "stderr",
     "output_type": "stream",
     "text": [
      "Fitting the silhouettes: 100%|██████████| 2/2 [00:00<00:00, 2006.36it/s]\n"
     ]
    },
    {
     "name": "stdout",
     "output_type": "stream",
     "text": [
      "Fitting the persistence entropy\n",
      "Fitting the number of points\n"
     ]
    },
    {
     "name": "stderr",
     "output_type": "stream",
     "text": [
      "Fitting the heat kernels: 100%|██████████| 3/3 [00:00<?, ?it/s]\n",
      "Fitting the persistence images: 100%|██████████| 3/3 [00:00<00:00, 3003.80it/s]\n"
     ]
    },
    {
     "name": "stdout",
     "output_type": "stream",
     "text": [
      "Fitting complete\n"
     ]
    },
    {
     "name": "stderr",
     "output_type": "stream",
     "text": [
      "Batch: 100%|██████████| 1/1 [00:00<00:00, 74.01it/s]\n"
     ]
    },
    {
     "name": "stdout",
     "output_type": "stream",
     "text": [
      "PointCloudsExtractor: processing None\n"
     ]
    },
    {
     "name": "stderr",
     "output_type": "stream",
     "text": [
      "image2pointcloud: 100%|██████████| 1/1 [00:00<?, ?it/s]\n"
     ]
    },
    {
     "name": "stdout",
     "output_type": "stream",
     "text": [
      "Fitting the diagram vectorizer\n",
      "Fitting the filtering\n",
      "Fitting the betti curve\n",
      "Fitting the persistence landscape\n"
     ]
    },
    {
     "name": "stderr",
     "output_type": "stream",
     "text": [
      "Fitting the silhouettes: 100%|██████████| 2/2 [00:00<00:00, 2003.49it/s]\n"
     ]
    },
    {
     "name": "stdout",
     "output_type": "stream",
     "text": [
      "Fitting the persistence entropy\n",
      "Fitting the number of points\n"
     ]
    },
    {
     "name": "stderr",
     "output_type": "stream",
     "text": [
      "Fitting the heat kernels: 100%|██████████| 3/3 [00:00<00:00, 1494.59it/s]\n",
      "Fitting the persistence images: 100%|██████████| 3/3 [00:00<00:00, 1499.75it/s]\n"
     ]
    },
    {
     "name": "stdout",
     "output_type": "stream",
     "text": [
      "Fitting complete\n"
     ]
    },
    {
     "name": "stderr",
     "output_type": "stream",
     "text": [
      "Batch: 100%|██████████| 1/1 [00:00<00:00,  2.14it/s]\n"
     ]
    },
    {
     "name": "stdout",
     "output_type": "stream",
     "text": [
      "PointCloudsExtractor: processing None\n"
     ]
    },
    {
     "name": "stderr",
     "output_type": "stream",
     "text": [
      "image2pointcloud: 100%|██████████| 1/1 [00:00<?, ?it/s]\n",
      "Batch: 100%|██████████| 1/1 [00:00<00:00,  2.15it/s]\n"
     ]
    },
    {
     "name": "stdout",
     "output_type": "stream",
     "text": [
      "PointCloudsExtractor: processing None\n"
     ]
    },
    {
     "name": "stderr",
     "output_type": "stream",
     "text": [
      "image2pointcloud: 100%|██████████| 1/1 [00:00<?, ?it/s]\n"
     ]
    },
    {
     "name": "stdout",
     "output_type": "stream",
     "text": [
      "Fitting the diagram vectorizer\n",
      "Fitting the filtering\n",
      "Fitting the betti curve\n",
      "Fitting the persistence landscape\n"
     ]
    },
    {
     "name": "stderr",
     "output_type": "stream",
     "text": [
      "Fitting the silhouettes: 100%|██████████| 2/2 [00:00<00:00, 2001.58it/s]\n"
     ]
    },
    {
     "name": "stdout",
     "output_type": "stream",
     "text": [
      "Fitting the persistence entropy\n",
      "Fitting the number of points\n"
     ]
    },
    {
     "name": "stderr",
     "output_type": "stream",
     "text": [
      "Fitting the heat kernels: 100%|██████████| 3/3 [00:00<00:00, 1491.22it/s]\n",
      "Fitting the persistence images: 100%|██████████| 3/3 [00:00<00:00, 2998.07it/s]\n"
     ]
    },
    {
     "name": "stdout",
     "output_type": "stream",
     "text": [
      "Fitting complete\n"
     ]
    },
    {
     "name": "stderr",
     "output_type": "stream",
     "text": [
      "Batch: 100%|██████████| 1/1 [00:00<00:00, 25.18it/s]\n"
     ]
    },
    {
     "name": "stdout",
     "output_type": "stream",
     "text": [
      "PointCloudsExtractor: processing None\n"
     ]
    },
    {
     "name": "stderr",
     "output_type": "stream",
     "text": [
      "image2pointcloud: 100%|██████████| 1/1 [00:00<00:00, 989.92it/s]\n",
      "Batch: 100%|██████████| 1/1 [00:00<00:00, 68.27it/s]\n"
     ]
    },
    {
     "name": "stdout",
     "output_type": "stream",
     "text": [
      "PointCloudsExtractor: processing None\n"
     ]
    },
    {
     "name": "stderr",
     "output_type": "stream",
     "text": [
      "image2pointcloud: 100%|██████████| 1/1 [00:00<?, ?it/s]\n"
     ]
    },
    {
     "name": "stdout",
     "output_type": "stream",
     "text": [
      "Fitting the diagram vectorizer\n",
      "Fitting the filtering\n",
      "Fitting the betti curve\n",
      "Fitting the persistence landscape\n"
     ]
    },
    {
     "name": "stderr",
     "output_type": "stream",
     "text": [
      "Fitting the silhouettes: 100%|██████████| 2/2 [00:00<00:00, 2002.05it/s]\n"
     ]
    },
    {
     "name": "stdout",
     "output_type": "stream",
     "text": [
      "Fitting the persistence entropy\n",
      "Fitting the number of points\n"
     ]
    },
    {
     "name": "stderr",
     "output_type": "stream",
     "text": [
      "Fitting the heat kernels: 100%|██████████| 3/3 [00:00<00:00, 999.68it/s]\n",
      "Fitting the persistence images: 100%|██████████| 3/3 [00:00<00:00, 3000.22it/s]\n"
     ]
    },
    {
     "name": "stdout",
     "output_type": "stream",
     "text": [
      "Fitting complete\n"
     ]
    },
    {
     "name": "stderr",
     "output_type": "stream",
     "text": [
      "Batch: 100%|██████████| 1/1 [00:00<00:00, 63.94it/s]\n"
     ]
    },
    {
     "name": "stdout",
     "output_type": "stream",
     "text": [
      "PointCloudsExtractor: processing None\n"
     ]
    },
    {
     "name": "stderr",
     "output_type": "stream",
     "text": [
      "image2pointcloud: 100%|██████████| 1/1 [00:00<00:00, 1000.07it/s]\n",
      "Batch: 100%|██████████| 1/1 [00:00<00:00, 79.87it/s]\n"
     ]
    },
    {
     "name": "stdout",
     "output_type": "stream",
     "text": [
      "PointCloudsExtractor: processing None\n"
     ]
    },
    {
     "name": "stderr",
     "output_type": "stream",
     "text": [
      "image2pointcloud: 100%|██████████| 1/1 [00:00<?, ?it/s]\n"
     ]
    },
    {
     "name": "stdout",
     "output_type": "stream",
     "text": [
      "Fitting the diagram vectorizer\n",
      "Fitting the filtering\n",
      "Fitting the betti curve\n",
      "Fitting the persistence landscape\n"
     ]
    },
    {
     "name": "stderr",
     "output_type": "stream",
     "text": [
      "Fitting the silhouettes: 100%|██████████| 2/2 [00:00<00:00, 999.36it/s]\n"
     ]
    },
    {
     "name": "stdout",
     "output_type": "stream",
     "text": [
      "Fitting the persistence entropy\n",
      "Fitting the number of points\n"
     ]
    },
    {
     "name": "stderr",
     "output_type": "stream",
     "text": [
      "Fitting the heat kernels: 100%|██████████| 3/3 [00:00<00:00, 1357.53it/s]\n",
      "Fitting the persistence images: 100%|██████████| 3/3 [00:00<00:00, 999.60it/s]\n"
     ]
    },
    {
     "name": "stdout",
     "output_type": "stream",
     "text": [
      "Fitting complete\n"
     ]
    },
    {
     "name": "stderr",
     "output_type": "stream",
     "text": [
      "Batch: 100%|██████████| 1/1 [00:00<00:00, 23.47it/s]\n"
     ]
    },
    {
     "name": "stdout",
     "output_type": "stream",
     "text": [
      "PointCloudsExtractor: processing None\n"
     ]
    },
    {
     "name": "stderr",
     "output_type": "stream",
     "text": [
      "image2pointcloud: 100%|██████████| 1/1 [00:00<00:00, 999.60it/s]\n",
      "Batch: 100%|██████████| 1/1 [00:00<00:00, 79.93it/s]\n"
     ]
    }
   ],
   "source": [
    "import numpy\n",
    "import skimage.data\n",
    "\n",
    "import cvtda.pipeline\n",
    "\n",
    "def make_rgb():\n",
    "    return skimage.data.astronaut()[:4, :4, :]\n",
    "\n",
    "def make_gray():\n",
    "    return skimage.data.astronaut()[:4, :4, 0]\n",
    "\n",
    "input = numpy.array([ make_rgb() ])\n",
    "output = cvtda.pipeline.PointCloudsExtractor(n_jobs = 1).fit(input)\n",
    "\n"
   ]
  },
  {
   "cell_type": "code",
   "execution_count": 28,
   "metadata": {},
   "outputs": [
    {
     "name": "stdout",
     "output_type": "stream",
     "text": [
      "5 14\n"
     ]
    },
    {
     "data": {
      "text/plain": [
       "array([ 4, 10, 17, 23])"
      ]
     },
     "execution_count": 28,
     "metadata": {},
     "output_type": "execute_result"
    }
   ],
   "source": [
    "import numpy\n",
    "\n",
    "\n",
    "a = 28\n",
    "spacing = a // 5\n",
    "center = a // 2\n",
    "print(spacing, center)\n",
    "\n",
    "centers = numpy.array(range((spacing + 1) // 2, center, spacing + 1))\n",
    "centers = numpy.array([ *(center - centers - 1), *(center + centers) ])\n",
    "centers.sort()\n",
    "centers"
   ]
  },
  {
   "cell_type": "code",
   "execution_count": 1,
   "metadata": {},
   "outputs": [],
   "source": [
    "%load_ext autoreload\n",
    "%autoreload 2"
   ]
  },
  {
   "cell_type": "code",
   "execution_count": 21,
   "metadata": {},
   "outputs": [
    {
     "data": {
      "text/plain": [
       "15615"
      ]
     },
     "execution_count": 21,
     "metadata": {},
     "output_type": "execute_result"
    }
   ],
   "source": [
    "3649 * 4 + 1019"
   ]
  },
  {
   "cell_type": "code",
   "execution_count": 22,
   "metadata": {},
   "outputs": [
    {
     "name": "stdout",
     "output_type": "stream",
     "text": [
      "RGB images received. Transforming to grayscale.\n"
     ]
    },
    {
     "name": "stderr",
     "output_type": "stream",
     "text": [
      "rgb2gray: 100%|██████████| 1/1 [00:00<?, ?it/s]\n",
      "RGBGeometryExtractor: 100%|██████████| 1/1 [00:00<00:00, 181.47it/s]\n",
      "GrayGeometryExtractor: 100%|██████████| 1/1 [00:00<00:00, 17.14it/s]\n",
      "GrayGeometryExtractor: 100%|██████████| 1/1 [00:00<00:00, 18.98it/s]\n",
      "GrayGeometryExtractor: 100%|██████████| 1/1 [00:00<00:00, 19.86it/s]\n",
      "GrayGeometryExtractor: 100%|██████████| 1/1 [00:00<00:00, 18.50it/s]\n",
      "GrayGeometryExtractor: 100%|██████████| 1/1 [00:00<00:00, 19.25it/s]\n",
      "GrayGeometryExtractor: 100%|██████████| 1/1 [00:00<00:00, 18.23it/s]\n",
      "GrayGeometryExtractor: 100%|██████████| 1/1 [00:00<00:00, 19.52it/s]\n",
      "GrayGeometryExtractor: 100%|██████████| 1/1 [00:00<00:00, 21.71it/s]\n"
     ]
    },
    {
     "name": "stdout",
     "output_type": "stream",
     "text": [
      "RGB images received. Transforming to grayscale.\n"
     ]
    },
    {
     "name": "stderr",
     "output_type": "stream",
     "text": [
      "rgb2gray: 100%|██████████| 1/1 [00:00<00:00, 999.60it/s]\n",
      "RGBGeometryExtractor: 100%|██████████| 1/1 [00:00<00:00, 221.73it/s]\n",
      "GrayGeometryExtractor: 100%|██████████| 1/1 [00:00<00:00, 17.42it/s]\n",
      "GrayGeometryExtractor: 100%|██████████| 1/1 [00:00<00:00, 18.79it/s]\n",
      "GrayGeometryExtractor: 100%|██████████| 1/1 [00:00<00:00, 18.65it/s]\n",
      "GrayGeometryExtractor: 100%|██████████| 1/1 [00:00<00:00, 20.14it/s]\n",
      "RGBGeometryExtractor: 100%|██████████| 1/1 [00:00<00:00, 250.00it/s]\n"
     ]
    },
    {
     "data": {
      "text/plain": [
       "(1, 1019)"
      ]
     },
     "execution_count": 22,
     "metadata": {},
     "output_type": "execute_result"
    }
   ],
   "source": [
    "import skimage.data\n",
    "import numpy\n",
    "import cvtda.topology\n",
    "\n",
    "def make_rgb():\n",
    "    return skimage.data.astronaut()[:32, :32, :]\n",
    "\n",
    "def make_gray():\n",
    "    return make_rgb()[:, :, 0]\n",
    "\n",
    "a = cvtda.topology.GeometryExtractor(n_jobs = 1, reduced = True)\n",
    "a.fit_transform(numpy.array([ make_rgb() ]), \"t\").shape\n",
    "\n",
    "a.process_rgb_(numpy.array([ make_rgb() ]), True, \"t\").shape"
   ]
  },
  {
   "cell_type": "code",
   "execution_count": 1,
   "metadata": {},
   "outputs": [
    {
     "name": "stdout",
     "output_type": "stream",
     "text": [
      "Redial center for images of size 32x32. x: [ 5 12 19 26], y: [ 5 12 19 26]\n"
     ]
    },
    {
     "name": "stderr",
     "output_type": "stream",
     "text": [
      "Fitting filtrations: 100%|██████████| 116/116 [00:12<00:00,  8.97it/s]\n"
     ]
    }
   ],
   "source": [
    "import numpy\n",
    "import skimage.data\n",
    "import cvtda.pipeline\n",
    "\n",
    "import cvtda.dumping\n",
    "\n",
    "def make_gray():\n",
    "    return skimage.data.astronaut()[:32, :32, 0]\n",
    "\n",
    "def make_rgb():\n",
    "    return skimage.data.astronaut()[:64, :64, :]\n",
    "\n",
    "input = numpy.array([ skimage.transform.resize(skimage.data.astronaut(), (32, 32)) ])\n",
    "extractor = cvtda.pipeline.FeatureExtractor(n_jobs = 1).fit(input)"
   ]
  },
  {
   "cell_type": "code",
   "execution_count": 6,
   "metadata": {},
   "outputs": [
    {
     "data": {
      "text/plain": [
       "<matplotlib.image.AxesImage at 0x1bd8b2ef820>"
      ]
     },
     "execution_count": 6,
     "metadata": {},
     "output_type": "execute_result"
    },
    {
     "data": {
      "image/png": "[encoded data removed]",
      "text/plain": [
       "<Figure size 640x480 with 1 Axes>"
      ]
     },
     "metadata": {},
     "output_type": "display_data"
    }
   ],
   "source": [
    "import skimage.data\n",
    "import matplotlib.pyplot as plt\n",
    "\n",
    "\n",
    "plt.imshow(skimage.transform.resize(skimage.data.astronaut(), (16, 16)))"
   ]
  },
  {
   "cell_type": "code",
   "execution_count": 7,
   "metadata": {},
   "outputs": [
    {
     "data": {
      "text/plain": [
       "(16, 16, 3)"
      ]
     },
     "execution_count": 7,
     "metadata": {},
     "output_type": "execute_result"
    }
   ],
   "source": [
    "skimage.transform.resize(skimage.data.astronaut(), (16, 16)).shape"
   ]
  }
 ],
 "metadata": {
  "kernelspec": {
   "display_name": "Python 3",
   "language": "python",
   "name": "python3"
  },
  "language_info": {
   "codemirror_mode": {
    "name": "ipython",
    "version": 3
   },
   "file_extension": ".py",
   "mimetype": "text/x-python",
   "name": "python",
   "nbconvert_exporter": "python",
   "pygments_lexer": "ipython3",
   "version": "3.10.11"
  }
 },
 "nbformat": 4,
 "nbformat_minor": 2
}
