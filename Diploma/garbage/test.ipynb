{
 "cells": [
  {
   "cell_type": "code",
   "execution_count": null,
   "metadata": {},
   "outputs": [
    {
     "data": {
      "text/plain": [
       "array([[1, 2, 3],\n",
       "       [4, 5, 6],\n",
       "       [7, 8, 9]])"
      ]
     },
     "execution_count": 3,
     "metadata": {},
     "output_type": "execute_result"
    }
   ],
   "source": [
    "import numpy\n",
    "\n",
    "\n",
    "image = numpy.array([\n",
    "    [ 1, 2, 3 ],\n",
    "    [ 4, 5, 6 ],\n",
    "    [ 7, 8, 9 ]\n",
    "])\n",
    "\n",
    "image"
   ]
  },
  {
   "cell_type": "code",
   "execution_count": 4,
   "metadata": {},
   "outputs": [
    {
     "data": {
      "text/plain": [
       "(50, 1)"
      ]
     },
     "execution_count": 4,
     "metadata": {},
     "output_type": "execute_result"
    }
   ],
   "source": [
    "import numpy\n",
    "\n",
    "numpy.trapz(numpy.random.rand(50, 100), axis = 1).reshape(-1, 1).shape"
   ]
  },
  {
   "cell_type": "code",
   "execution_count": 9,
   "metadata": {},
   "outputs": [
    {
     "data": {
      "text/plain": [
       "((3, 3), (3, 3), (3, 3))"
      ]
     },
     "execution_count": 9,
     "metadata": {},
     "output_type": "execute_result"
    }
   ],
   "source": [
    "x = numpy.indices(image.shape)[0]\n",
    "y = numpy.indices(image.shape)[1]\n",
    "\n",
    "x.shape, y.shape, image.shape"
   ]
  },
  {
   "cell_type": "code",
   "execution_count": null,
   "metadata": {},
   "outputs": [
    {
     "data": {
      "text/plain": [
       "array([[[0, 0, 1],\n",
       "        [0, 1, 2],\n",
       "        [0, 2, 3]],\n",
       "\n",
       "       [[1, 0, 4],\n",
       "        [1, 1, 5],\n",
       "        [1, 2, 6]],\n",
       "\n",
       "       [[2, 0, 7],\n",
       "        [2, 1, 8],\n",
       "        [2, 2, 9]]])"
      ]
     },
     "execution_count": 13,
     "metadata": {},
     "output_type": "execute_result"
    }
   ],
   "source": [
    "numpy.dstack([ x, y, image ])"
   ]
  },
  {
   "cell_type": "code",
   "execution_count": 15,
   "metadata": {},
   "outputs": [
    {
     "data": {
      "text/plain": [
       "array([[[1, 2],\n",
       "        [3, 4],\n",
       "        [5, 6]],\n",
       "\n",
       "       [[7, 8],\n",
       "        [9, 1],\n",
       "        [2, 3]],\n",
       "\n",
       "       [[4, 5],\n",
       "        [6, 7],\n",
       "        [8, 9]]])"
      ]
     },
     "execution_count": 15,
     "metadata": {},
     "output_type": "execute_result"
    }
   ],
   "source": [
    "image3d = numpy.array([\n",
    "    [ [ 1, 2 ], [ 3, 4 ], [ 5, 6 ] ],\n",
    "    [ [ 7, 8 ], [ 9, 1 ], [ 2, 3 ] ],\n",
    "    [ [ 4, 5 ], [ 6, 7 ], [ 8, 9 ] ],\n",
    "])\n",
    "\n",
    "image3d"
   ]
  },
  {
   "cell_type": "code",
   "execution_count": 27,
   "metadata": {},
   "outputs": [
    {
     "data": {
      "text/plain": [
       "((3, 3), (3, 3), (3, 3, 2))"
      ]
     },
     "execution_count": 27,
     "metadata": {},
     "output_type": "execute_result"
    }
   ],
   "source": [
    "width, height = image3d.shape[0:2]\n",
    "x = numpy.indices((width, height))[0]\n",
    "y = numpy.indices((width, height))[1]\n",
    "\n",
    "x.shape, y.shape, image3d.shape"
   ]
  },
  {
   "cell_type": "code",
   "execution_count": 30,
   "metadata": {},
   "outputs": [
    {
     "data": {
      "text/plain": [
       "array([[0, 0, 1, 2],\n",
       "       [0, 1, 3, 4],\n",
       "       [0, 2, 5, 6],\n",
       "       [1, 0, 7, 8],\n",
       "       [1, 1, 9, 1],\n",
       "       [1, 2, 2, 3],\n",
       "       [2, 0, 4, 5],\n",
       "       [2, 1, 6, 7],\n",
       "       [2, 2, 8, 9]])"
      ]
     },
     "execution_count": 30,
     "metadata": {},
     "output_type": "execute_result"
    }
   ],
   "source": [
    "numpy.dstack([ x, y, image3d ]).reshape((width * height, -1))"
   ]
  },
  {
   "cell_type": "code",
   "execution_count": null,
   "metadata": {},
   "outputs": [
    {
     "data": {
      "text/plain": [
       "(512, 512, 3)"
      ]
     },
     "execution_count": 6,
     "metadata": {},
     "output_type": "execute_result"
    }
   ],
   "source": [
    "import skimage.data\n",
    "\n",
    "skimage.data.astronaut()[:32, :32, 3]"
   ]
  },
  {
   "cell_type": "code",
   "execution_count": 22,
   "metadata": {},
   "outputs": [
    {
     "name": "stdout",
     "output_type": "stream",
     "text": [
      "RGB images received. Transforming to grayscale.\n"
     ]
    },
    {
     "name": "stderr",
     "output_type": "stream",
     "text": [
      "rgb2gray: 100%|██████████| 1/1 [00:00<00:00, 1002.46it/s]\n"
     ]
    },
    {
     "name": "stdout",
     "output_type": "stream",
     "text": [
      "PointCloudsExtractor: processing None\n"
     ]
    },
    {
     "name": "stderr",
     "output_type": "stream",
     "text": [
      "image2pointcloud: 100%|██████████| 1/1 [00:00<?, ?it/s]\n"
     ]
    },
    {
     "name": "stdout",
     "output_type": "stream",
     "text": [
      "Fitting the diagram vectorizer\n",
      "Fitting the filtering\n",
      "Fitting the betti curve\n",
      "Fitting the persistence landscape\n"
     ]
    },
    {
     "name": "stderr",
     "output_type": "stream",
     "text": [
      "Fitting the silhouettes: 100%|██████████| 2/2 [00:00<00:00, 2006.36it/s]\n"
     ]
    },
    {
     "name": "stdout",
     "output_type": "stream",
     "text": [
      "Fitting the persistence entropy\n",
      "Fitting the number of points\n"
     ]
    },
    {
     "name": "stderr",
     "output_type": "stream",
     "text": [
      "Fitting the heat kernels: 100%|██████████| 3/3 [00:00<?, ?it/s]\n",
      "Fitting the persistence images: 100%|██████████| 3/3 [00:00<00:00, 3003.80it/s]\n"
     ]
    },
    {
     "name": "stdout",
     "output_type": "stream",
     "text": [
      "Fitting complete\n"
     ]
    },
    {
     "name": "stderr",
     "output_type": "stream",
     "text": [
      "Batch: 100%|██████████| 1/1 [00:00<00:00, 74.01it/s]\n"
     ]
    },
    {
     "name": "stdout",
     "output_type": "stream",
     "text": [
      "PointCloudsExtractor: processing None\n"
     ]
    },
    {
     "name": "stderr",
     "output_type": "stream",
     "text": [
      "image2pointcloud: 100%|██████████| 1/1 [00:00<?, ?it/s]\n"
     ]
    },
    {
     "name": "stdout",
     "output_type": "stream",
     "text": [
      "Fitting the diagram vectorizer\n",
      "Fitting the filtering\n",
      "Fitting the betti curve\n",
      "Fitting the persistence landscape\n"
     ]
    },
    {
     "name": "stderr",
     "output_type": "stream",
     "text": [
      "Fitting the silhouettes: 100%|██████████| 2/2 [00:00<00:00, 2003.49it/s]\n"
     ]
    },
    {
     "name": "stdout",
     "output_type": "stream",
     "text": [
      "Fitting the persistence entropy\n",
      "Fitting the number of points\n"
     ]
    },
    {
     "name": "stderr",
     "output_type": "stream",
     "text": [
      "Fitting the heat kernels: 100%|██████████| 3/3 [00:00<00:00, 1494.59it/s]\n",
      "Fitting the persistence images: 100%|██████████| 3/3 [00:00<00:00, 1499.75it/s]\n"
     ]
    },
    {
     "name": "stdout",
     "output_type": "stream",
     "text": [
      "Fitting complete\n"
     ]
    },
    {
     "name": "stderr",
     "output_type": "stream",
     "text": [
      "Batch: 100%|██████████| 1/1 [00:00<00:00,  2.14it/s]\n"
     ]
    },
    {
     "name": "stdout",
     "output_type": "stream",
     "text": [
      "PointCloudsExtractor: processing None\n"
     ]
    },
    {
     "name": "stderr",
     "output_type": "stream",
     "text": [
      "image2pointcloud: 100%|██████████| 1/1 [00:00<?, ?it/s]\n",
      "Batch: 100%|██████████| 1/1 [00:00<00:00,  2.15it/s]\n"
     ]
    },
    {
     "name": "stdout",
     "output_type": "stream",
     "text": [
      "PointCloudsExtractor: processing None\n"
     ]
    },
    {
     "name": "stderr",
     "output_type": "stream",
     "text": [
      "image2pointcloud: 100%|██████████| 1/1 [00:00<?, ?it/s]\n"
     ]
    },
    {
     "name": "stdout",
     "output_type": "stream",
     "text": [
      "Fitting the diagram vectorizer\n",
      "Fitting the filtering\n",
      "Fitting the betti curve\n",
      "Fitting the persistence landscape\n"
     ]
    },
    {
     "name": "stderr",
     "output_type": "stream",
     "text": [
      "Fitting the silhouettes: 100%|██████████| 2/2 [00:00<00:00, 2001.58it/s]\n"
     ]
    },
    {
     "name": "stdout",
     "output_type": "stream",
     "text": [
      "Fitting the persistence entropy\n",
      "Fitting the number of points\n"
     ]
    },
    {
     "name": "stderr",
     "output_type": "stream",
     "text": [
      "Fitting the heat kernels: 100%|██████████| 3/3 [00:00<00:00, 1491.22it/s]\n",
      "Fitting the persistence images: 100%|██████████| 3/3 [00:00<00:00, 2998.07it/s]\n"
     ]
    },
    {
     "name": "stdout",
     "output_type": "stream",
     "text": [
      "Fitting complete\n"
     ]
    },
    {
     "name": "stderr",
     "output_type": "stream",
     "text": [
      "Batch: 100%|██████████| 1/1 [00:00<00:00, 25.18it/s]\n"
     ]
    },
    {
     "name": "stdout",
     "output_type": "stream",
     "text": [
      "PointCloudsExtractor: processing None\n"
     ]
    },
    {
     "name": "stderr",
     "output_type": "stream",
     "text": [
      "image2pointcloud: 100%|██████████| 1/1 [00:00<00:00, 989.92it/s]\n",
      "Batch: 100%|██████████| 1/1 [00:00<00:00, 68.27it/s]\n"
     ]
    },
    {
     "name": "stdout",
     "output_type": "stream",
     "text": [
      "PointCloudsExtractor: processing None\n"
     ]
    },
    {
     "name": "stderr",
     "output_type": "stream",
     "text": [
      "image2pointcloud: 100%|██████████| 1/1 [00:00<?, ?it/s]\n"
     ]
    },
    {
     "name": "stdout",
     "output_type": "stream",
     "text": [
      "Fitting the diagram vectorizer\n",
      "Fitting the filtering\n",
      "Fitting the betti curve\n",
      "Fitting the persistence landscape\n"
     ]
    },
    {
     "name": "stderr",
     "output_type": "stream",
     "text": [
      "Fitting the silhouettes: 100%|██████████| 2/2 [00:00<00:00, 2002.05it/s]\n"
     ]
    },
    {
     "name": "stdout",
     "output_type": "stream",
     "text": [
      "Fitting the persistence entropy\n",
      "Fitting the number of points\n"
     ]
    },
    {
     "name": "stderr",
     "output_type": "stream",
     "text": [
      "Fitting the heat kernels: 100%|██████████| 3/3 [00:00<00:00, 999.68it/s]\n",
      "Fitting the persistence images: 100%|██████████| 3/3 [00:00<00:00, 3000.22it/s]\n"
     ]
    },
    {
     "name": "stdout",
     "output_type": "stream",
     "text": [
      "Fitting complete\n"
     ]
    },
    {
     "name": "stderr",
     "output_type": "stream",
     "text": [
      "Batch: 100%|██████████| 1/1 [00:00<00:00, 63.94it/s]\n"
     ]
    },
    {
     "name": "stdout",
     "output_type": "stream",
     "text": [
      "PointCloudsExtractor: processing None\n"
     ]
    },
    {
     "name": "stderr",
     "output_type": "stream",
     "text": [
      "image2pointcloud: 100%|██████████| 1/1 [00:00<00:00, 1000.07it/s]\n",
      "Batch: 100%|██████████| 1/1 [00:00<00:00, 79.87it/s]\n"
     ]
    },
    {
     "name": "stdout",
     "output_type": "stream",
     "text": [
      "PointCloudsExtractor: processing None\n"
     ]
    },
    {
     "name": "stderr",
     "output_type": "stream",
     "text": [
      "image2pointcloud: 100%|██████████| 1/1 [00:00<?, ?it/s]\n"
     ]
    },
    {
     "name": "stdout",
     "output_type": "stream",
     "text": [
      "Fitting the diagram vectorizer\n",
      "Fitting the filtering\n",
      "Fitting the betti curve\n",
      "Fitting the persistence landscape\n"
     ]
    },
    {
     "name": "stderr",
     "output_type": "stream",
     "text": [
      "Fitting the silhouettes: 100%|██████████| 2/2 [00:00<00:00, 999.36it/s]\n"
     ]
    },
    {
     "name": "stdout",
     "output_type": "stream",
     "text": [
      "Fitting the persistence entropy\n",
      "Fitting the number of points\n"
     ]
    },
    {
     "name": "stderr",
     "output_type": "stream",
     "text": [
      "Fitting the heat kernels: 100%|██████████| 3/3 [00:00<00:00, 1357.53it/s]\n",
      "Fitting the persistence images: 100%|██████████| 3/3 [00:00<00:00, 999.60it/s]\n"
     ]
    },
    {
     "name": "stdout",
     "output_type": "stream",
     "text": [
      "Fitting complete\n"
     ]
    },
    {
     "name": "stderr",
     "output_type": "stream",
     "text": [
      "Batch: 100%|██████████| 1/1 [00:00<00:00, 23.47it/s]\n"
     ]
    },
    {
     "name": "stdout",
     "output_type": "stream",
     "text": [
      "PointCloudsExtractor: processing None\n"
     ]
    },
    {
     "name": "stderr",
     "output_type": "stream",
     "text": [
      "image2pointcloud: 100%|██████████| 1/1 [00:00<00:00, 999.60it/s]\n",
      "Batch: 100%|██████████| 1/1 [00:00<00:00, 79.93it/s]\n"
     ]
    }
   ],
   "source": [
    "import numpy\n",
    "import skimage.data\n",
    "\n",
    "import cvtda.pipeline\n",
    "\n",
    "def make_rgb():\n",
    "    return skimage.data.astronaut()[:4, :4, :]\n",
    "\n",
    "def make_gray():\n",
    "    return skimage.data.astronaut()[:4, :4, 0]\n",
    "\n",
    "input = numpy.array([ make_rgb() ])\n",
    "output = cvtda.pipeline.PointCloudsExtractor(n_jobs = 1).fit(input)\n",
    "\n"
   ]
  },
  {
   "cell_type": "code",
   "execution_count": 28,
   "metadata": {},
   "outputs": [
    {
     "name": "stdout",
     "output_type": "stream",
     "text": [
      "5 14\n"
     ]
    },
    {
     "data": {
      "text/plain": [
       "array([ 4, 10, 17, 23])"
      ]
     },
     "execution_count": 28,
     "metadata": {},
     "output_type": "execute_result"
    }
   ],
   "source": [
    "import numpy\n",
    "\n",
    "\n",
    "a = 28\n",
    "spacing = a // 5\n",
    "center = a // 2\n",
    "print(spacing, center)\n",
    "\n",
    "centers = numpy.array(range((spacing + 1) // 2, center, spacing + 1))\n",
    "centers = numpy.array([ *(center - centers - 1), *(center + centers) ])\n",
    "centers.sort()\n",
    "centers"
   ]
  },
  {
   "cell_type": "code",
   "execution_count": 1,
   "metadata": {},
   "outputs": [],
   "source": [
    "%load_ext autoreload\n",
    "%autoreload 2"
   ]
  },
  {
   "cell_type": "code",
   "execution_count": 21,
   "metadata": {},
   "outputs": [
    {
     "data": {
      "text/plain": [
       "15615"
      ]
     },
     "execution_count": 21,
     "metadata": {},
     "output_type": "execute_result"
    }
   ],
   "source": [
    "3649 * 4 + 1019"
   ]
  },
  {
   "cell_type": "code",
   "execution_count": 22,
   "metadata": {},
   "outputs": [
    {
     "name": "stdout",
     "output_type": "stream",
     "text": [
      "RGB images received. Transforming to grayscale.\n"
     ]
    },
    {
     "name": "stderr",
     "output_type": "stream",
     "text": [
      "rgb2gray: 100%|██████████| 1/1 [00:00<?, ?it/s]\n",
      "RGBGeometryExtractor: 100%|██████████| 1/1 [00:00<00:00, 181.47it/s]\n",
      "GrayGeometryExtractor: 100%|██████████| 1/1 [00:00<00:00, 17.14it/s]\n",
      "GrayGeometryExtractor: 100%|██████████| 1/1 [00:00<00:00, 18.98it/s]\n",
      "GrayGeometryExtractor: 100%|██████████| 1/1 [00:00<00:00, 19.86it/s]\n",
      "GrayGeometryExtractor: 100%|██████████| 1/1 [00:00<00:00, 18.50it/s]\n",
      "GrayGeometryExtractor: 100%|██████████| 1/1 [00:00<00:00, 19.25it/s]\n",
      "GrayGeometryExtractor: 100%|██████████| 1/1 [00:00<00:00, 18.23it/s]\n",
      "GrayGeometryExtractor: 100%|██████████| 1/1 [00:00<00:00, 19.52it/s]\n",
      "GrayGeometryExtractor: 100%|██████████| 1/1 [00:00<00:00, 21.71it/s]\n"
     ]
    },
    {
     "name": "stdout",
     "output_type": "stream",
     "text": [
      "RGB images received. Transforming to grayscale.\n"
     ]
    },
    {
     "name": "stderr",
     "output_type": "stream",
     "text": [
      "rgb2gray: 100%|██████████| 1/1 [00:00<00:00, 999.60it/s]\n",
      "RGBGeometryExtractor: 100%|██████████| 1/1 [00:00<00:00, 221.73it/s]\n",
      "GrayGeometryExtractor: 100%|██████████| 1/1 [00:00<00:00, 17.42it/s]\n",
      "GrayGeometryExtractor: 100%|██████████| 1/1 [00:00<00:00, 18.79it/s]\n",
      "GrayGeometryExtractor: 100%|██████████| 1/1 [00:00<00:00, 18.65it/s]\n",
      "GrayGeometryExtractor: 100%|██████████| 1/1 [00:00<00:00, 20.14it/s]\n",
      "RGBGeometryExtractor: 100%|██████████| 1/1 [00:00<00:00, 250.00it/s]\n"
     ]
    },
    {
     "data": {
      "text/plain": [
       "(1, 1019)"
      ]
     },
     "execution_count": 22,
     "metadata": {},
     "output_type": "execute_result"
    }
   ],
   "source": [
    "import skimage.data\n",
    "import numpy\n",
    "import cvtda.topology\n",
    "\n",
    "def make_rgb():\n",
    "    return skimage.data.astronaut()[:32, :32, :]\n",
    "\n",
    "def make_gray():\n",
    "    return make_rgb()[:, :, 0]\n",
    "\n",
    "a = cvtda.topology.GeometryExtractor(n_jobs = 1, reduced = True)\n",
    "a.fit_transform(numpy.array([ make_rgb() ]), \"t\").shape\n",
    "\n",
    "a.process_rgb_(numpy.array([ make_rgb() ]), True, \"t\").shape"
   ]
  },
  {
   "cell_type": "code",
   "execution_count": 1,
   "metadata": {},
   "outputs": [
    {
     "name": "stdout",
     "output_type": "stream",
     "text": [
      "Redial center for images of size 32x32. x: [ 5 12 19 26], y: [ 5 12 19 26]\n"
     ]
    },
    {
     "name": "stderr",
     "output_type": "stream",
     "text": [
      "Fitting filtrations: 100%|██████████| 116/116 [00:12<00:00,  8.97it/s]\n"
     ]
    }
   ],
   "source": [
    "import numpy\n",
    "import skimage.data\n",
    "import cvtda.pipeline\n",
    "\n",
    "import cvtda.dumping\n",
    "\n",
    "def make_gray():\n",
    "    return skimage.data.astronaut()[:32, :32, 0]\n",
    "\n",
    "def make_rgb():\n",
    "    return skimage.data.astronaut()[:64, :64, :]\n",
    "\n",
    "input = numpy.array([ skimage.transform.resize(skimage.data.astronaut(), (32, 32)) ])\n",
    "extractor = cvtda.pipeline.FeatureExtractor(n_jobs = 1).fit(input)"
   ]
  },
  {
   "cell_type": "code",
   "execution_count": 6,
   "metadata": {},
   "outputs": [
    {
     "data": {
      "text/plain": [
       "<matplotlib.image.AxesImage at 0x1bd8b2ef820>"
      ]
     },
     "execution_count": 6,
     "metadata": {},
     "output_type": "execute_result"
    },
    {
     "data": {
      "image/png": "[encoded data removed]",
      "text/plain": [
       "<Figure size 640x480 with 1 Axes>"
      ]
     },
     "metadata": {},
     "output_type": "display_data"
    }
   ],
   "source": [
    "import skimage.data\n",
    "import matplotlib.pyplot as plt\n",
    "\n",
    "\n",
    "plt.imshow(skimage.transform.resize(skimage.data.astronaut(), (16, 16)))"
   ]
  },
  {
   "cell_type": "code",
   "execution_count": 7,
   "metadata": {},
   "outputs": [
    {
     "data": {
      "text/plain": [
       "(16, 16, 3)"
      ]
     },
     "execution_count": 7,
     "metadata": {},
     "output_type": "execute_result"
    }
   ],
   "source": [
    "skimage.transform.resize(skimage.data.astronaut(), (16, 16)).shape"
   ]
  }
 ],
 "metadata": {
  "kernelspec": {
   "display_name": "Python 3",
   "language": "python",
   "name": "python3"
  },
  "language_info": {
   "codemirror_mode": {
    "name": "ipython",
    "version": 3
   },
   "file_extension": ".py",
   "mimetype": "text/x-python",
   "name": "python",
   "nbconvert_exporter": "python",
   "pygments_lexer": "ipython3",
   "version": "3.10.11"
  }
 },
 "nbformat": 4,
 "nbformat_minor": 2
}
