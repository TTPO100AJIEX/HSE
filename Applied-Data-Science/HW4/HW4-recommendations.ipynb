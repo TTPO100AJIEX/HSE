{
 "cells": [
  {
   "cell_type": "markdown",
   "id": "2206e669",
   "metadata": {},
   "source": [
    "<center><img src=\"https://github.com/hse-ds/iad-applied-ds/blob/master/2021/hw/hw1/img/logo_hse.png?raw=1\" width=\"1000\"></center>\n",
    "\n",
    "<h1><center>Прикладные задачи анализа данных</center></h1>\n",
    "<h2><center>Домашнее задание 4</center></h2>"
   ]
  },
  {
   "cell_type": "markdown",
   "id": "ee35127e",
   "metadata": {
    "id": "ee35127e"
   },
   "source": [
    "В этой работе мы будем решать задачу рекомендаций музыки. Для этого мы реализуем метод коллаборативной фильтрации и модель со скрытыми переменными, сравним их между собой и попытаемся сделать выводы. Во всех заданиях разрешается переписывать код по своему усмотрению, предложенные шаблоны несут лишь рекомендательный характер."
   ]
  },
  {
   "cell_type": "code",
   "execution_count": 1,
   "id": "665b5771",
   "metadata": {},
   "outputs": [],
   "source": [
    "import time\n",
    "import typing\n",
    "import warnings\n",
    "\n",
    "warnings.filterwarnings('ignore')\n",
    "\n",
    "import tqdm\n",
    "import numpy\n",
    "import sympy\n",
    "import pandas\n",
    "import joblib\n",
    "import itertools\n",
    "import scipy.sparse\n",
    "import sklearn.preprocessing\n",
    "import tqdm.contrib.itertools\n",
    "import matplotlib.pyplot as plt"
   ]
  },
  {
   "cell_type": "code",
   "execution_count": 2,
   "id": "827ed783",
   "metadata": {},
   "outputs": [],
   "source": [
    "def measure_time(func):\n",
    "    start = time.time()\n",
    "    res = func()\n",
    "    end = time.time()\n",
    "    return res, end - start"
   ]
  },
  {
   "cell_type": "code",
   "execution_count": 3,
   "id": "q39kPlJ6jsQc",
   "metadata": {
    "colab": {
     "base_uri": "https://localhost:8080/",
     "height": 204
    },
    "id": "q39kPlJ6jsQc",
    "outputId": "67fc7d37-90b0-4c9a-fb3d-f75ad031ed81"
   },
   "outputs": [
    {
     "data": {
      "text/html": [
       "<div>\n",
       "<style scoped>\n",
       "    .dataframe tbody tr th:only-of-type {\n",
       "        vertical-align: middle;\n",
       "    }\n",
       "\n",
       "    .dataframe tbody tr th {\n",
       "        vertical-align: top;\n",
       "    }\n",
       "\n",
       "    .dataframe thead th {\n",
       "        text-align: right;\n",
       "    }\n",
       "</style>\n",
       "<table border=\"1\" class=\"dataframe\">\n",
       "  <thead>\n",
       "    <tr style=\"text-align: right;\">\n",
       "      <th></th>\n",
       "      <th>userId</th>\n",
       "      <th>trackId</th>\n",
       "    </tr>\n",
       "  </thead>\n",
       "  <tbody>\n",
       "    <tr>\n",
       "      <th>0</th>\n",
       "      <td>0</td>\n",
       "      <td>14</td>\n",
       "    </tr>\n",
       "    <tr>\n",
       "      <th>1</th>\n",
       "      <td>0</td>\n",
       "      <td>95</td>\n",
       "    </tr>\n",
       "    <tr>\n",
       "      <th>2</th>\n",
       "      <td>0</td>\n",
       "      <td>219</td>\n",
       "    </tr>\n",
       "    <tr>\n",
       "      <th>3</th>\n",
       "      <td>0</td>\n",
       "      <td>220</td>\n",
       "    </tr>\n",
       "    <tr>\n",
       "      <th>4</th>\n",
       "      <td>0</td>\n",
       "      <td>404</td>\n",
       "    </tr>\n",
       "  </tbody>\n",
       "</table>\n",
       "</div>"
      ],
      "text/plain": [
       "   userId  trackId\n",
       "0       0       14\n",
       "1       0       95\n",
       "2       0      219\n",
       "3       0      220\n",
       "4       0      404"
      ]
     },
     "execution_count": 3,
     "metadata": {},
     "output_type": "execute_result"
    }
   ],
   "source": [
    "ratings = pandas.read_csv('music_dataset.csv')\n",
    "ratings.head()"
   ]
  },
  {
   "cell_type": "code",
   "execution_count": 4,
   "id": "PgGrUf6TSvHC",
   "metadata": {
    "colab": {
     "base_uri": "https://localhost:8080/",
     "height": 204
    },
    "id": "PgGrUf6TSvHC",
    "outputId": "2bdd725a-c737-4f08-f520-4fcd94dca36b"
   },
   "outputs": [
    {
     "data": {
      "text/html": [
       "<div>\n",
       "<style scoped>\n",
       "    .dataframe tbody tr th:only-of-type {\n",
       "        vertical-align: middle;\n",
       "    }\n",
       "\n",
       "    .dataframe tbody tr th {\n",
       "        vertical-align: top;\n",
       "    }\n",
       "\n",
       "    .dataframe thead th {\n",
       "        text-align: right;\n",
       "    }\n",
       "</style>\n",
       "<table border=\"1\" class=\"dataframe\">\n",
       "  <thead>\n",
       "    <tr style=\"text-align: right;\">\n",
       "      <th></th>\n",
       "      <th>id</th>\n",
       "      <th>name</th>\n",
       "      <th>artists</th>\n",
       "    </tr>\n",
       "  </thead>\n",
       "  <tbody>\n",
       "    <tr>\n",
       "      <th>0</th>\n",
       "      <td>0</td>\n",
       "      <td>What There Is</td>\n",
       "      <td>['a-ha']</td>\n",
       "    </tr>\n",
       "    <tr>\n",
       "      <th>1</th>\n",
       "      <td>1</td>\n",
       "      <td>I'll Play The Blues For You</td>\n",
       "      <td>['Albert King']</td>\n",
       "    </tr>\n",
       "    <tr>\n",
       "      <th>2</th>\n",
       "      <td>2</td>\n",
       "      <td>Breaking Up Somebody's Home</td>\n",
       "      <td>['Albert King']</td>\n",
       "    </tr>\n",
       "    <tr>\n",
       "      <th>3</th>\n",
       "      <td>3</td>\n",
       "      <td>Imma Be</td>\n",
       "      <td>['Black Eyed Peas']</td>\n",
       "    </tr>\n",
       "    <tr>\n",
       "      <th>4</th>\n",
       "      <td>4</td>\n",
       "      <td>Boom Boom Pow</td>\n",
       "      <td>['Black Eyed Peas']</td>\n",
       "    </tr>\n",
       "  </tbody>\n",
       "</table>\n",
       "</div>"
      ],
      "text/plain": [
       "   id                         name              artists\n",
       "0   0                What There Is             ['a-ha']\n",
       "1   1  I'll Play The Blues For You      ['Albert King']\n",
       "2   2  Breaking Up Somebody's Home      ['Albert King']\n",
       "3   3                      Imma Be  ['Black Eyed Peas']\n",
       "4   4                Boom Boom Pow  ['Black Eyed Peas']"
      ]
     },
     "execution_count": 4,
     "metadata": {},
     "output_type": "execute_result"
    }
   ],
   "source": [
    "tracks_info = pandas.read_csv('tracks_info.csv')\n",
    "tracks_info.head()"
   ]
  },
  {
   "cell_type": "markdown",
   "id": "SSvgStZZIEdz",
   "metadata": {
    "id": "SSvgStZZIEdz"
   },
   "source": [
    "Для оценки качества рекомендаций мы будем использовать метрику $MAP@k$.\n",
    "\n",
    "$$\n",
    "MAP@k = \\frac{1}{N} \\sum_{u = 1}^N AP_u@k\n",
    "$$\n",
    "$$\n",
    "AP_u@k = \\frac{1}{\\min(k, n_u)} \\sum_{i=1}^k r_u(i) p_u@i\n",
    "$$\n",
    "$$p_u@k = \\dfrac{1}{k}\\sum_{j=1}^k r_u(j)$$\n",
    "\n",
    "\n",
    "*   $N$ - количество пользователей.\n",
    "*   $n_u$ - число релевантных треков пользователя $u$ на тестовом промежутке.\n",
    "*   $r_u(i)$ - бинарная величина: относится ли трек на позиции $i$ к релевантным."
   ]
  },
  {
   "cell_type": "markdown",
   "id": "UDTWQLoKS3nA",
   "metadata": {
    "id": "UDTWQLoKS3nA"
   },
   "source": [
    "**Задание 1 (1 балл).** Реализуйте метрику $MAP@k$."
   ]
  },
  {
   "cell_type": "code",
   "execution_count": 5,
   "id": "f142de65",
   "metadata": {},
   "outputs": [],
   "source": [
    "def apk(relevant: typing.List[int], predicted: typing.List[int], k: int = 20):\n",
    "    rel = numpy.isin(predicted[:k], relevant)\n",
    "    pr_rel = rel * numpy.cumsum(rel) / numpy.arange(1, k + 1)\n",
    "    return numpy.sum(pr_rel) / min(k, len(relevant))\n",
    "\n",
    "def mapk(relevant: typing.List[typing.List[int]], predicted: typing.List[typing.List[int]], k: int = 20):\n",
    "    return numpy.mean([ apk(*data, k) for data in zip(relevant, predicted) ])"
   ]
  },
  {
   "cell_type": "code",
   "execution_count": 6,
   "id": "JbKyNPk8TaIG",
   "metadata": {
    "id": "JbKyNPk8TaIG"
   },
   "outputs": [],
   "source": [
    "relevant = [\n",
    "    [1, 7, 6, 2, 8],\n",
    "    [1, 5, 4, 8],\n",
    "    [8, 2, 5]\n",
    "]\n",
    "\n",
    "pred = [\n",
    "    [8, 1, 5, 0, 7, 2, 9, 4],\n",
    "    [0, 1, 8, 5, 3, 4, 7, 9],\n",
    "    [9, 2, 0, 6, 8, 5, 3, 7]\n",
    "]\n",
    "\n",
    "assert round(mapk(relevant, pred, k = 5), 4) == 0.4331"
   ]
  },
  {
   "cell_type": "markdown",
   "id": "WFYR-X49HlMl",
   "metadata": {
    "id": "WFYR-X49HlMl"
   },
   "source": [
    "Разделим данные на тренировочные и тестовые так, чтобы в теcтовый датасет попали 50 последних треков каждого пользователя."
   ]
  },
  {
   "cell_type": "code",
   "execution_count": 7,
   "id": "TEzz_ym8Go_L",
   "metadata": {
    "id": "TEzz_ym8Go_L"
   },
   "outputs": [],
   "source": [
    "def train_test_split(ratings):\n",
    "    train_ratings, test_ratings = [], []\n",
    "    num_test_samples = 50\n",
    "\n",
    "    # getting train samples\n",
    "    for userId, user_data in tqdm.tqdm(ratings.groupby('userId')):\n",
    "        train_ratings += [user_data[:-num_test_samples]]\n",
    "\n",
    "    train_ratings = pandas.concat(train_ratings).reset_index(drop = True)\n",
    "    all_train_items = train_ratings['trackId'].unique()\n",
    "\n",
    "    # getting train samples\n",
    "    # we drop all tracks that are not presented it the training samples,\n",
    "    # because we won't be able to learn representations for them\n",
    "    for userId, user_data in tqdm.tqdm(ratings.groupby('userId')):\n",
    "        test_items = user_data[-num_test_samples:]\n",
    "        test_items = test_items[numpy.isin(test_items['trackId'], all_train_items)]\n",
    "        test_ratings += [test_items]\n",
    "\n",
    "    test_ratings = pandas.concat(test_ratings).reset_index(drop = True)\n",
    "\n",
    "    return train_ratings, test_ratings"
   ]
  },
  {
   "cell_type": "code",
   "execution_count": 8,
   "id": "vuyiM1Lk4L-e",
   "metadata": {
    "colab": {
     "base_uri": "https://localhost:8080/",
     "height": 81,
     "referenced_widgets": [
      "1b31eda686b54f7ca8c66aef18c987f3",
      "c8a26ff7a9504ca7b9982a1fdc958364",
      "55a177c209e6414d8daae0aae25ab569",
      "5696660af0a04fbbb0743796bdd5f9b3",
      "35c5904b82544e9cac71cf7b0b67cc1e",
      "eac1572340b3491b987713ddf4fef228",
      "bc2f4104184749dbb7dcd2b5c6235238",
      "2943eba3c235416b809e23186d5625ef",
      "2ded17a125a44376abbe87ef29f2aa17",
      "0b2d687ab70343a999f3a37dfe030a9c",
      "2571c66c254d4a6c9ae5a20812e41641",
      "b1c919ee0c85468a89413d98d9926b50",
      "09367b7a291f4c81a93f79ac3bf09e9b",
      "3339a154ce00450b8d07b45eda2e887c",
      "41b564f7d67b4422abcd5ac9925eb1f2",
      "bfd4906b7ffc4ade9650aa96d140860a",
      "57bc2e2902994e799d4378888bdb342a",
      "4631243cc4dd4d1a8e3ffe3a8da29cf7",
      "a0cfdce0ec8544c49332cc831f67e777",
      "c5b91a082e7d40879f66b6685fdfcfe0",
      "f0fbd1b9ea074c1b9969417c02b32348",
      "7935cc6e74c14372a82276f0a28e4559"
     ]
    },
    "id": "vuyiM1Lk4L-e",
    "outputId": "5e4220b9-9c9e-4dba-b85d-c12ebb3a2f7a"
   },
   "outputs": [
    {
     "name": "stderr",
     "output_type": "stream",
     "text": [
      "100%|██████████| 241/241 [00:00<00:00, 4634.85it/s]\n",
      "100%|██████████| 241/241 [00:00<00:00, 3707.78it/s]\n"
     ]
    }
   ],
   "source": [
    "train_ratings, test_ratings = train_test_split(ratings)"
   ]
  },
  {
   "cell_type": "markdown",
   "id": "P3ZVqBMjBqfe",
   "metadata": {
    "id": "P3ZVqBMjBqfe"
   },
   "source": [
    "Почистим табличку с информацией о треках и закодируем id треков так, чтобы они соответствовали их порядковому номеру."
   ]
  },
  {
   "cell_type": "code",
   "execution_count": 9,
   "id": "-SCTsxeYwCO-",
   "metadata": {
    "id": "-SCTsxeYwCO-"
   },
   "outputs": [],
   "source": [
    "redundant_rows = numpy.where(~numpy.isin(tracks_info['id'], train_ratings['trackId'].unique()))[0]\n",
    "tracks_info.drop(redundant_rows, inplace = True)\n",
    "tracks_info = tracks_info.reset_index(drop = True)"
   ]
  },
  {
   "cell_type": "code",
   "execution_count": 10,
   "id": "cVfC-rfU3J49",
   "metadata": {
    "id": "cVfC-rfU3J49"
   },
   "outputs": [],
   "source": [
    "def ids_encoder(ratings):\n",
    "    users = sorted(ratings['userId'].unique())\n",
    "    items = sorted(ratings['trackId'].unique())\n",
    "\n",
    "    # create users and items encoders\n",
    "    uencoder = sklearn.preprocessing.LabelEncoder()\n",
    "    iencoder = sklearn.preprocessing.LabelEncoder()\n",
    "\n",
    "    # fit users and items ids to the corresponding encoder\n",
    "    uencoder.fit(users)\n",
    "    iencoder.fit(items)\n",
    "\n",
    "    return uencoder, iencoder"
   ]
  },
  {
   "cell_type": "code",
   "execution_count": 11,
   "id": "xw2VDBz9v6LT",
   "metadata": {
    "id": "xw2VDBz9v6LT"
   },
   "outputs": [],
   "source": [
    "uencoder, iencoder = ids_encoder(train_ratings)\n",
    "train_ratings['trackId'] = iencoder.transform(train_ratings['trackId'].tolist())\n",
    "test_ratings['trackId'] = iencoder.transform(test_ratings['trackId'].tolist())\n",
    "tracks_info['id'] = iencoder.transform(tracks_info['id'].tolist())"
   ]
  },
  {
   "cell_type": "code",
   "execution_count": 12,
   "id": "GfjwnUWTuhRD",
   "metadata": {
    "colab": {
     "base_uri": "https://localhost:8080/",
     "height": 204
    },
    "id": "GfjwnUWTuhRD",
    "outputId": "a68791ba-ee61-4485-f6d6-d38bf7671393"
   },
   "outputs": [
    {
     "data": {
      "text/html": [
       "<div>\n",
       "<style scoped>\n",
       "    .dataframe tbody tr th:only-of-type {\n",
       "        vertical-align: middle;\n",
       "    }\n",
       "\n",
       "    .dataframe tbody tr th {\n",
       "        vertical-align: top;\n",
       "    }\n",
       "\n",
       "    .dataframe thead th {\n",
       "        text-align: right;\n",
       "    }\n",
       "</style>\n",
       "<table border=\"1\" class=\"dataframe\">\n",
       "  <thead>\n",
       "    <tr style=\"text-align: right;\">\n",
       "      <th></th>\n",
       "      <th>userId</th>\n",
       "      <th>trackId</th>\n",
       "    </tr>\n",
       "  </thead>\n",
       "  <tbody>\n",
       "    <tr>\n",
       "      <th>0</th>\n",
       "      <td>0</td>\n",
       "      <td>14</td>\n",
       "    </tr>\n",
       "    <tr>\n",
       "      <th>1</th>\n",
       "      <td>0</td>\n",
       "      <td>95</td>\n",
       "    </tr>\n",
       "    <tr>\n",
       "      <th>2</th>\n",
       "      <td>0</td>\n",
       "      <td>219</td>\n",
       "    </tr>\n",
       "    <tr>\n",
       "      <th>3</th>\n",
       "      <td>0</td>\n",
       "      <td>220</td>\n",
       "    </tr>\n",
       "    <tr>\n",
       "      <th>4</th>\n",
       "      <td>0</td>\n",
       "      <td>404</td>\n",
       "    </tr>\n",
       "  </tbody>\n",
       "</table>\n",
       "</div>"
      ],
      "text/plain": [
       "   userId  trackId\n",
       "0       0       14\n",
       "1       0       95\n",
       "2       0      219\n",
       "3       0      220\n",
       "4       0      404"
      ]
     },
     "execution_count": 12,
     "metadata": {},
     "output_type": "execute_result"
    }
   ],
   "source": [
    "train_ratings.head()"
   ]
  },
  {
   "cell_type": "code",
   "execution_count": 13,
   "id": "rtV91NkmuizE",
   "metadata": {
    "colab": {
     "base_uri": "https://localhost:8080/",
     "height": 204
    },
    "id": "rtV91NkmuizE",
    "outputId": "4de6e82c-4ab0-43ff-c70a-dcabe5c9bd74"
   },
   "outputs": [
    {
     "data": {
      "text/html": [
       "<div>\n",
       "<style scoped>\n",
       "    .dataframe tbody tr th:only-of-type {\n",
       "        vertical-align: middle;\n",
       "    }\n",
       "\n",
       "    .dataframe tbody tr th {\n",
       "        vertical-align: top;\n",
       "    }\n",
       "\n",
       "    .dataframe thead th {\n",
       "        text-align: right;\n",
       "    }\n",
       "</style>\n",
       "<table border=\"1\" class=\"dataframe\">\n",
       "  <thead>\n",
       "    <tr style=\"text-align: right;\">\n",
       "      <th></th>\n",
       "      <th>userId</th>\n",
       "      <th>trackId</th>\n",
       "    </tr>\n",
       "  </thead>\n",
       "  <tbody>\n",
       "    <tr>\n",
       "      <th>0</th>\n",
       "      <td>0</td>\n",
       "      <td>57582</td>\n",
       "    </tr>\n",
       "    <tr>\n",
       "      <th>1</th>\n",
       "      <td>0</td>\n",
       "      <td>57802</td>\n",
       "    </tr>\n",
       "    <tr>\n",
       "      <th>2</th>\n",
       "      <td>0</td>\n",
       "      <td>57957</td>\n",
       "    </tr>\n",
       "    <tr>\n",
       "      <th>3</th>\n",
       "      <td>0</td>\n",
       "      <td>58174</td>\n",
       "    </tr>\n",
       "    <tr>\n",
       "      <th>4</th>\n",
       "      <td>0</td>\n",
       "      <td>59168</td>\n",
       "    </tr>\n",
       "  </tbody>\n",
       "</table>\n",
       "</div>"
      ],
      "text/plain": [
       "   userId  trackId\n",
       "0       0    57582\n",
       "1       0    57802\n",
       "2       0    57957\n",
       "3       0    58174\n",
       "4       0    59168"
      ]
     },
     "execution_count": 13,
     "metadata": {},
     "output_type": "execute_result"
    }
   ],
   "source": [
    "test_ratings.head()"
   ]
  },
  {
   "cell_type": "markdown",
   "id": "COtKDquLRrVV",
   "metadata": {
    "id": "COtKDquLRrVV"
   },
   "source": [
    "Соберем все релевантные треки для каждого пользователя в список."
   ]
  },
  {
   "cell_type": "code",
   "execution_count": 14,
   "id": "UOCGl5rpPrDn",
   "metadata": {
    "id": "UOCGl5rpPrDn"
   },
   "outputs": [],
   "source": [
    "test_relevant = []\n",
    "test_users = []\n",
    "for user_id, user_data in test_ratings.groupby('userId'):\n",
    "    test_relevant += [user_data['trackId'].tolist()]\n",
    "    test_users.append(user_id)"
   ]
  },
  {
   "cell_type": "markdown",
   "id": "3UyBjs1SULH9",
   "metadata": {
    "id": "3UyBjs1SULH9"
   },
   "source": [
    "**Задание 2 (1 балл).** Реализуйте метод `get_test_recommendations` в классе `BaseModel`. Он принимает на вход параметр `k` и возвращает массив из `k` наиболее подходящих треков для каждого пользователя. Не забывайте удалять уже прослушанные треки из рекомендуемых."
   ]
  },
  {
   "cell_type": "code",
   "execution_count": 15,
   "id": "sXnUGtM3XOp7",
   "metadata": {
    "id": "sXnUGtM3XOp7"
   },
   "outputs": [],
   "source": [
    "class BaseModel:\n",
    "    def __init__(self, ratings: pandas.DataFrame):\n",
    "        self.ratings = ratings\n",
    "        self.n_users = len(numpy.unique(self.ratings['userId']))\n",
    "        self.n_items = len(numpy.unique(self.ratings['trackId']))\n",
    "\n",
    "        self.R = numpy.zeros((self.n_users, self.n_items))\n",
    "        self.R[self.ratings['userId'], self.ratings['trackId']] = 1.\n",
    "        \n",
    "    def recommend(self, uid: int):\n",
    "        \"\"\"\n",
    "        param uid: int - user's id\n",
    "        return: [n_items] - vector of recommended items sorted by their scores in descending order\n",
    "        \"\"\"\n",
    "        raise NotImplementedError\n",
    "\n",
    "    def remove_train_items(self, preds: typing.List[typing.List[int]], k: int):\n",
    "        \"\"\"\n",
    "        param preds: [n_users, n_items] - recommended items for each user\n",
    "        param k: int\n",
    "        return: np.array [n_users, k] - recommended items without training examples\n",
    "        \"\"\"\n",
    "        new_preds = numpy.zeros((len(preds), k), dtype=int)\n",
    "        for user_id, user_data in self.ratings.groupby('userId'):\n",
    "            user_preds = preds[user_id]\n",
    "            new_preds[user_id] = user_preds[~numpy.in1d(user_preds, user_data['trackId'])][:k]\n",
    "        return new_preds\n",
    "\n",
    "    def get_test_recommendations(self, k: int):\n",
    "        test_preds = [ self.recommend(uid) for uid in range(self.n_users) ]\n",
    "        test_preds = self.remove_train_items(test_preds, k)\n",
    "        return test_preds[test_users]"
   ]
  },
  {
   "cell_type": "markdown",
   "id": "jMdKX1DZ-o4V",
   "metadata": {
    "id": "jMdKX1DZ-o4V"
   },
   "source": [
    "## Часть 1. Коллаборативная фильтрация (User2User)"
   ]
  },
  {
   "cell_type": "markdown",
   "id": "t_ZLzg_0XxVf",
   "metadata": {
    "id": "t_ZLzg_0XxVf"
   },
   "source": [
    "Идея: чтобы выбрать треки, которые понравятся пользователю, можно набрать несколько похожих на него пользователей (соседей) и посмотреть, какие треки они слушают. После этого остается агрегировать треки этих пользователей и выбрать самые популярные. Соответственно, задача состоит из двух частей: выбора функции похожести двух пользователей и способа агрегации.\n",
    "\n",
    "В качестве функции похожести мы будем использовать две метрики:\n",
    "\n",
    "1. Корреляция Пирсона $$s(u, v) = \\frac{\\sum_{i \\in I_u \\cap I_v} r_{ui}r_{vi}}{\\sqrt{\\sum_{i \\in I_u} r_{ui} ^2}\\sqrt{\\sum_{i \\in I_v} r_{vi}^2}} $$\n",
    "\n",
    "2. Мера Жаккара\n",
    "\n",
    "$$ s(u, v) = \\frac{|I_u \\cap I_v|}{|I_u \\cup I_v|} $$\n",
    "\n",
    "\n",
    "Корреляция Пирсона немного видоизменена, чтобы подходить под нашу задачу.\n",
    "\n",
    "\n",
    "Во всех формулах \n",
    "* $I_u$ - множество треков, прослушанных пользователем $u$.\n",
    "* $r_{ui}$ - прослушал ли пользователь $u$ трек $i$ (0 или 1).\n",
    "\n",
    "Множество соседей определим как $$N(u) = \\{ v \\in U \\setminus \\{u\\} \\mid s(u, v) > \\alpha\\},$$ где $\\alpha \\, - $ гиперпараметр.\n",
    "\n",
    "\n",
    "\n",
    "Для агрегации мы будем пользоваться следующей формулой.\n",
    "$$\n",
    "\\hat{r}_{ui} = \\frac{\\sum_{v \\in N(u)} s(u, v) r_{vi}}{\\sum_{v \\in N(u)} |s(u, v)|}\n",
    "$$"
   ]
  },
  {
   "cell_type": "markdown",
   "id": "YJyD1LVTKK9A",
   "metadata": {
    "id": "YJyD1LVTKK9A"
   },
   "source": [
    "**Задание 3.1 (1 балл).** Реализуйте функцию подсчета корреляции Пирсона.\n",
    "\n",
    "**Задание 3.2 (1 балл).** Реализуйте функцию подсчета меры Жаккара.\n",
    "\n",
    "Функции принимают матрицу оценок и вектор оценок пользователя $u$ и возвращают вектор со значениями похожести пользователя $u$ на всех пользователей. Старайтесь писать оптимизированный код, за неэффективную реализацию оценка может быть снижена."
   ]
  },
  {
   "cell_type": "code",
   "execution_count": 16,
   "id": "rRvSRm_aWZMR",
   "metadata": {
    "id": "rRvSRm_aWZMR"
   },
   "outputs": [],
   "source": [
    "def pearson(ratings: numpy.ndarray, user_vector: numpy.ndarray) -> numpy.ndarray:\n",
    "    # Kind of weird that r_ui is a binary flag, but I am just doing what the task says...\n",
    "    numer = numpy.sum((ratings > 0) & (user_vector > 0), axis = 1)\n",
    "    return numer / numpy.sqrt(numpy.sum(ratings > 0, axis = 1) * numpy.sum(user_vector > 0))\n",
    "\n",
    "def jaccard(ratings: numpy.ndarray, user_vector: numpy.ndarray) -> numpy.ndarray:\n",
    "    numer = numpy.sum((ratings > 0) & (user_vector > 0), axis = 1)\n",
    "    denom = numpy.sum((ratings > 0) | (user_vector > 0), axis = 1)\n",
    "    return numer / denom"
   ]
  },
  {
   "cell_type": "code",
   "execution_count": 17,
   "id": "028021ce",
   "metadata": {},
   "outputs": [],
   "source": [
    "# As 'ratings' and 'user_vector' consist of only 0/1 in all tasks, let's implement these functions more efficiently\n",
    "def pearson(ratings: numpy.ndarray, user_vector: numpy.ndarray) -> numpy.ndarray:\n",
    "    return (ratings @ user_vector.T) / numpy.sqrt(ratings.sum(axis = 1) * user_vector.sum())\n",
    "\n",
    "def jaccard(ratings: numpy.ndarray, user_vector: numpy.ndarray) -> numpy.ndarray:\n",
    "    return (ratings @ user_vector.T) / numpy.logical_or(user_vector, ratings).sum(axis = 1)"
   ]
  },
  {
   "cell_type": "markdown",
   "id": "WMLtM7ffNWdx",
   "metadata": {
    "id": "WMLtM7ffNWdx"
   },
   "source": [
    "**Задание 4 (1 балл).** Реализуйте методы `similarity` и `recommend` класса `User2User`. `recommend` возвращает индексы треков, отсортированные в порядке убывания предсказанных оценок.\n"
   ]
  },
  {
   "cell_type": "code",
   "execution_count": 18,
   "id": "5ZIz0G1RJbXl",
   "metadata": {
    "id": "5ZIz0G1RJbXl"
   },
   "outputs": [],
   "source": [
    "class User2User(BaseModel):\n",
    "    def __init__(self, ratings, similarity_func):\n",
    "        super().__init__(ratings)\n",
    "\n",
    "        assert similarity_func in [ pearson, jaccard ]\n",
    "\n",
    "        self.similarity_func = similarity_func\n",
    "        self.alpha = 0.02\n",
    "\n",
    "    def similarity(self, user_vector: numpy.ndarray):\n",
    "        \"\"\"\n",
    "        user_vector: [n_items]\n",
    "        \"\"\"\n",
    "        return self.similarity_func(self.R, user_vector)\n",
    "\n",
    "    def recommend(self, uid: int, tol: int = 1e-10):\n",
    "        sim = self.similarity(self.R[uid])\n",
    "        sim[uid] = self.alpha # Exclude the user from neighbours\n",
    "        N = numpy.where(sim > self.alpha)[0]\n",
    "\n",
    "        denom = numpy.maximum(numpy.sum(numpy.abs(sim[N])), tol)\n",
    "        return numpy.argsort((sim[N].reshape(-1,) @ self.R[N, :]) / denom)[::-1]"
   ]
  },
  {
   "cell_type": "markdown",
   "id": "kqEwJiFOSs2r",
   "metadata": {
    "id": "kqEwJiFOSs2r"
   },
   "source": [
    "**Задание 5 (1 балл).** Постройте графики зависимости значений $MAP@k$ от разных $k$ для обоих функций похожести, сравните их между собой, а также с предсказаниями случайного алгоритма и сделайте выводы."
   ]
  },
  {
   "cell_type": "code",
   "execution_count": 19,
   "id": "1c271d47",
   "metadata": {},
   "outputs": [
    {
     "name": "stdout",
     "output_type": "stream",
     "text": [
      "Pearson: 6.330974340438843\n",
      "Jaccard: 8.166656255722046\n"
     ]
    },
    {
     "data": {
      "image/png": "[encoded data removed]",
      "text/plain": [
       "<Figure size 1000x500 with 1 Axes>"
      ]
     },
     "metadata": {},
     "output_type": "display_data"
    }
   ],
   "source": [
    "MAX_K = 500\n",
    "numpy.random.seed(42)\n",
    "\n",
    "pearson_model = User2User(train_ratings, pearson)\n",
    "jaccard_model = User2User(train_ratings, jaccard)\n",
    "random_model = BaseModel(train_ratings)\n",
    "\n",
    "pearson_predicted, pearson_time = measure_time(lambda: pearson_model.get_test_recommendations(MAX_K))\n",
    "jaccard_predicted, jaccard_time = measure_time(lambda: jaccard_model.get_test_recommendations(MAX_K))\n",
    "random_predicted = numpy.random.rand(random_model.n_users, random_model.n_items).argsort(axis = 1)[:, :MAX_K]\n",
    "\n",
    "print('Pearson:', pearson_time)\n",
    "print('Jaccard:', jaccard_time)\n",
    "\n",
    "plt.figure(figsize = (10, 5))\n",
    "plt.ylabel('MAP@k')\n",
    "plt.xlabel('k')\n",
    "\n",
    "X = range(1, MAX_K + 1)\n",
    "plt.plot(X, [ mapk(test_relevant, pearson_predicted, k) for k in X ], label = 'Pearson')\n",
    "plt.plot(X, [ mapk(test_relevant, jaccard_predicted, k) for k in X ], label = 'Jaccard')\n",
    "plt.plot(X, [ mapk(test_relevant, random_predicted, k) for k in X ], label = 'Random')\n",
    "plt.legend()\n",
    "plt.show()"
   ]
  },
  {
   "cell_type": "markdown",
   "id": "60be1592",
   "metadata": {},
   "source": [
    "- Качество случайных рекомендаций пренебрежимо мало отличается от нуля.\n",
    "- Алгоритмы на основе User2User рекомендаций работают лучше случайных, но качество все равно близко к нулю.\n",
    "- Мера Жаккара работает немного лучше корреляции Пирсона\n",
    "- С увеличением $k$ величина MAP@k. ожидаемо, возрастает"
   ]
  },
  {
   "cell_type": "markdown",
   "id": "0Fy7v-b-WDQE",
   "metadata": {
    "id": "0Fy7v-b-WDQE"
   },
   "source": [
    "**Задание 6 (1.5 балла).** Как вы могли заметить, матрица оценок получается очень разреженной, но мы работаем с ней как с обычной, это не дело. Перепишите код так, чтобы все методы могли работать с разреженными матрицами и сравните скорость работы такого подхода с оригинальным."
   ]
  },
  {
   "cell_type": "code",
   "execution_count": 20,
   "id": "a20afb8c",
   "metadata": {},
   "outputs": [],
   "source": [
    "def pearson_sparse(ratings: scipy.sparse.csr_matrix, user_vector: scipy.sparse.csr_matrix) -> scipy.sparse.csr_matrix:\n",
    "    return pearson(ratings, user_vector) # Initial function works with sparse matrices\n",
    "\n",
    "def jaccard_sparse(ratings: scipy.sparse.csr_matrix, user_vector: scipy.sparse.csr_matrix) -> scipy.sparse.csr_matrix:\n",
    "    denom = scipy.sparse.vstack([ user_vector for _ in range(ratings.shape[0]) ])\n",
    "    denom = (denom.astype('bool') + ratings.astype('bool')).sum(axis = 1)\n",
    "    return (ratings @ user_vector.T) / denom"
   ]
  },
  {
   "cell_type": "code",
   "execution_count": 21,
   "id": "71ae788c",
   "metadata": {},
   "outputs": [],
   "source": [
    "class User2UserSparse(User2User):\n",
    "    def __init__(self, ratings, similarity_func):\n",
    "        super().__init__(ratings, pearson)\n",
    "\n",
    "        assert similarity_func in [ pearson_sparse, jaccard_sparse ]\n",
    "        self.similarity_func = similarity_func\n",
    "        \n",
    "        self.R = scipy.sparse.csr_matrix(self.R)\n",
    "        \n",
    "    def similarity(self, user_vector: numpy.ndarray):\n",
    "        return self.similarity_func(self.R, user_vector).toarray()"
   ]
  },
  {
   "cell_type": "code",
   "execution_count": 22,
   "id": "4jQiwrTbW_DL",
   "metadata": {
    "id": "4jQiwrTbW_DL"
   },
   "outputs": [
    {
     "name": "stdout",
     "output_type": "stream",
     "text": [
      "Pearson: 0.8119587898254395\n",
      "Jaccard: 1.3515872955322266\n"
     ]
    },
    {
     "data": {
      "image/png": "[encoded data removed]",
      "text/plain": [
       "<Figure size 1000x500 with 1 Axes>"
      ]
     },
     "metadata": {},
     "output_type": "display_data"
    }
   ],
   "source": [
    "numpy.random.seed(42)\n",
    "\n",
    "pearson_sparse_model = User2UserSparse(train_ratings, pearson_sparse)\n",
    "jaccard_sparse_model = User2UserSparse(train_ratings, jaccard_sparse)\n",
    "random_sparse_model = BaseModel(train_ratings)\n",
    "\n",
    "pearson_sparse_predicted, pearson_sparse_time = measure_time(lambda: pearson_sparse_model.get_test_recommendations(MAX_K))\n",
    "jaccard_sparse_predicted, jaccard_sparse_time = measure_time(lambda: jaccard_sparse_model.get_test_recommendations(MAX_K))\n",
    "random_sparse_predicted = numpy.random.rand(random_sparse_model.n_users, random_sparse_model.n_items).argsort(axis = 1)[:, :MAX_K]\n",
    "\n",
    "print('Pearson:', pearson_sparse_time)\n",
    "print('Jaccard:', jaccard_sparse_time)\n",
    "\n",
    "plt.figure(figsize = (10, 5))\n",
    "plt.ylabel('MAP@k')\n",
    "plt.xlabel('k')\n",
    "\n",
    "X = range(1, MAX_K + 1)\n",
    "plt.plot(X, [ mapk(test_relevant, pearson_sparse_predicted, k) for k in X ], label = 'Pearson')\n",
    "plt.plot(X, [ mapk(test_relevant, jaccard_sparse_predicted, k) for k in X ], label = 'Jaccard')\n",
    "plt.plot(X, [ mapk(test_relevant, random_sparse_predicted, k) for k in X ], label = 'Random')\n",
    "plt.legend()\n",
    "plt.show()"
   ]
  },
  {
   "cell_type": "markdown",
   "id": "DmuMhWS4CEFe",
   "metadata": {
    "id": "DmuMhWS4CEFe"
   },
   "source": [
    "Мы можем посмотреть глазами, насколько хорошо модель рекомендует треки. Для этого сравним уже прослушанные треки с рекомендованными и релевантными для случайного пользователя. Хорошо ли у вас получилось?"
   ]
  },
  {
   "cell_type": "code",
   "execution_count": 23,
   "id": "_d3tafMuko5O",
   "metadata": {
    "colab": {
     "base_uri": "https://localhost:8080/",
     "height": 531
    },
    "id": "_d3tafMuko5O",
    "outputId": "6c6c53ab-8329-4747-9015-9105a113d7ca"
   },
   "outputs": [
    {
     "data": {
      "text/html": [
       "<div>\n",
       "<style scoped>\n",
       "    .dataframe tbody tr th:only-of-type {\n",
       "        vertical-align: middle;\n",
       "    }\n",
       "\n",
       "    .dataframe tbody tr th {\n",
       "        vertical-align: top;\n",
       "    }\n",
       "\n",
       "    .dataframe thead th {\n",
       "        text-align: right;\n",
       "    }\n",
       "</style>\n",
       "<table border=\"1\" class=\"dataframe\">\n",
       "  <thead>\n",
       "    <tr style=\"text-align: right;\">\n",
       "      <th></th>\n",
       "      <th>name</th>\n",
       "      <th>artists</th>\n",
       "    </tr>\n",
       "  </thead>\n",
       "  <tbody>\n",
       "    <tr>\n",
       "      <th>152</th>\n",
       "      <td>Hollywood Whore</td>\n",
       "      <td>['Papa Roach']</td>\n",
       "    </tr>\n",
       "    <tr>\n",
       "      <th>164</th>\n",
       "      <td>My Favourite Game</td>\n",
       "      <td>['The Cardigans']</td>\n",
       "    </tr>\n",
       "    <tr>\n",
       "      <th>199</th>\n",
       "      <td>Don't Phunk With My Heart</td>\n",
       "      <td>['Black Eyed Peas']</td>\n",
       "    </tr>\n",
       "    <tr>\n",
       "      <th>212</th>\n",
       "      <td>Let's Get It Started</td>\n",
       "      <td>['Black Eyed Peas']</td>\n",
       "    </tr>\n",
       "    <tr>\n",
       "      <th>234</th>\n",
       "      <td>Wind Of Change</td>\n",
       "      <td>['Scorpions']</td>\n",
       "    </tr>\n",
       "    <tr>\n",
       "      <th>344</th>\n",
       "      <td>Somebody Told Me</td>\n",
       "      <td>['The Killers']</td>\n",
       "    </tr>\n",
       "    <tr>\n",
       "      <th>396</th>\n",
       "      <td>The Phantom Of The Opera</td>\n",
       "      <td>['Nightwish', 'Andrew Lloyd Webber']</td>\n",
       "    </tr>\n",
       "    <tr>\n",
       "      <th>422</th>\n",
       "      <td>Stan</td>\n",
       "      <td>['Eminem', 'Dido']</td>\n",
       "    </tr>\n",
       "    <tr>\n",
       "      <th>464</th>\n",
       "      <td>Tainted Love</td>\n",
       "      <td>['Marilyn Manson']</td>\n",
       "    </tr>\n",
       "    <tr>\n",
       "      <th>630</th>\n",
       "      <td>Every Breath You Take</td>\n",
       "      <td>['The Police']</td>\n",
       "    </tr>\n",
       "    <tr>\n",
       "      <th>707</th>\n",
       "      <td>Sweet Dreams (Are Made of This)</td>\n",
       "      <td>['Marilyn Manson']</td>\n",
       "    </tr>\n",
       "    <tr>\n",
       "      <th>746</th>\n",
       "      <td>Behind Blue Eyes</td>\n",
       "      <td>['Limp Bizkit']</td>\n",
       "    </tr>\n",
       "    <tr>\n",
       "      <th>760</th>\n",
       "      <td>Wonderful Life</td>\n",
       "      <td>['Black']</td>\n",
       "    </tr>\n",
       "    <tr>\n",
       "      <th>780</th>\n",
       "      <td>Heart-Shaped Box</td>\n",
       "      <td>['Nirvana']</td>\n",
       "    </tr>\n",
       "    <tr>\n",
       "      <th>785</th>\n",
       "      <td>Rape Me</td>\n",
       "      <td>['Nirvana']</td>\n",
       "    </tr>\n",
       "  </tbody>\n",
       "</table>\n",
       "</div>"
      ],
      "text/plain": [
       "                                name                               artists\n",
       "152                  Hollywood Whore                        ['Papa Roach']\n",
       "164                My Favourite Game                     ['The Cardigans']\n",
       "199        Don't Phunk With My Heart                   ['Black Eyed Peas']\n",
       "212             Let's Get It Started                   ['Black Eyed Peas']\n",
       "234                   Wind Of Change                         ['Scorpions']\n",
       "344                 Somebody Told Me                       ['The Killers']\n",
       "396         The Phantom Of The Opera  ['Nightwish', 'Andrew Lloyd Webber']\n",
       "422                             Stan                    ['Eminem', 'Dido']\n",
       "464                     Tainted Love                    ['Marilyn Manson']\n",
       "630            Every Breath You Take                        ['The Police']\n",
       "707  Sweet Dreams (Are Made of This)                    ['Marilyn Manson']\n",
       "746                 Behind Blue Eyes                       ['Limp Bizkit']\n",
       "760                   Wonderful Life                             ['Black']\n",
       "780                 Heart-Shaped Box                           ['Nirvana']\n",
       "785                          Rape Me                           ['Nirvana']"
      ]
     },
     "metadata": {},
     "output_type": "display_data"
    }
   ],
   "source": [
    "numpy.random.seed(0)\n",
    "user_id = numpy.random.randint(0, jaccard_sparse_model.n_users)\n",
    "\n",
    "listened_tracks = train_ratings[train_ratings.userId == user_id].trackId[:15]\n",
    "display(tracks_info.loc[listened_tracks][['name', 'artists']])"
   ]
  },
  {
   "cell_type": "code",
   "execution_count": 24,
   "id": "t0jACzw6ko5P",
   "metadata": {
    "colab": {
     "base_uri": "https://localhost:8080/",
     "height": 563,
     "referenced_widgets": [
      "352dc0a1aa2049da8389d238673e0d74",
      "a1fff232a45c47b4a472b376f4bb786b",
      "cdda2f364c4b4873ba46321cd0980ab2",
      "56340e3947544c43afda403ff222f5a3",
      "05d9c5e3f43f4b7f8b85ed1e3d5a74a3",
      "359731880a5947499c9a5e4be6e91c89",
      "7fd233ee0bf54983acb61485fe779111",
      "927ea86a465d45ae873fc8ae164a9f72",
      "e5fdb05a8acb41368703134ed69d7875",
      "ec6478706bb140c08b20f2ba05a17205",
      "940629cc1c16475cbd2858e55f2f881f"
     ]
    },
    "id": "t0jACzw6ko5P",
    "outputId": "c04b5613-5f4d-4e7a-a502-22aebc7c0637"
   },
   "outputs": [
    {
     "data": {
      "text/html": [
       "<div>\n",
       "<style scoped>\n",
       "    .dataframe tbody tr th:only-of-type {\n",
       "        vertical-align: middle;\n",
       "    }\n",
       "\n",
       "    .dataframe tbody tr th {\n",
       "        vertical-align: top;\n",
       "    }\n",
       "\n",
       "    .dataframe thead th {\n",
       "        text-align: right;\n",
       "    }\n",
       "</style>\n",
       "<table border=\"1\" class=\"dataframe\">\n",
       "  <thead>\n",
       "    <tr style=\"text-align: right;\">\n",
       "      <th></th>\n",
       "      <th>name</th>\n",
       "      <th>artists</th>\n",
       "    </tr>\n",
       "  </thead>\n",
       "  <tbody>\n",
       "    <tr>\n",
       "      <th>34418</th>\n",
       "      <td>Драмы больше нет</td>\n",
       "      <td>['Полина Гагарина']</td>\n",
       "    </tr>\n",
       "    <tr>\n",
       "      <th>39455</th>\n",
       "      <td>Drunk Groove</td>\n",
       "      <td>['MARUV', 'Boosin']</td>\n",
       "    </tr>\n",
       "    <tr>\n",
       "      <th>44188</th>\n",
       "      <td>Мокрые кроссы</td>\n",
       "      <td>['Тима Белорусских']</td>\n",
       "    </tr>\n",
       "    <tr>\n",
       "      <th>46279</th>\n",
       "      <td>Мама, я танцую</td>\n",
       "      <td>['#2Маши']</td>\n",
       "    </tr>\n",
       "    <tr>\n",
       "      <th>11493</th>\n",
       "      <td>The Show Must Go On</td>\n",
       "      <td>['Queen']</td>\n",
       "    </tr>\n",
       "    <tr>\n",
       "      <th>5810</th>\n",
       "      <td>Так же как все</td>\n",
       "      <td>[\"A'Studio\"]</td>\n",
       "    </tr>\n",
       "    <tr>\n",
       "      <th>49023</th>\n",
       "      <td>Грустный дэнс</td>\n",
       "      <td>['Artik &amp; Asti', 'Артём Качер']</td>\n",
       "    </tr>\n",
       "    <tr>\n",
       "      <th>4765</th>\n",
       "      <td>Last Night</td>\n",
       "      <td>['P. Diddy', 'Keyshia Cole']</td>\n",
       "    </tr>\n",
       "    <tr>\n",
       "      <th>16829</th>\n",
       "      <td>Love Bites</td>\n",
       "      <td>['Def Leppard']</td>\n",
       "    </tr>\n",
       "    <tr>\n",
       "      <th>46042</th>\n",
       "      <td>Время Ток</td>\n",
       "      <td>['Антоха МС']</td>\n",
       "    </tr>\n",
       "    <tr>\n",
       "      <th>41477</th>\n",
       "      <td>По зеркалам</td>\n",
       "      <td>['Денис RiDer', 'Kevin Mason']</td>\n",
       "    </tr>\n",
       "    <tr>\n",
       "      <th>48363</th>\n",
       "      <td>Au Au</td>\n",
       "      <td>['Filatov &amp; Karas']</td>\n",
       "    </tr>\n",
       "    <tr>\n",
       "      <th>39939</th>\n",
       "      <td>Heaven</td>\n",
       "      <td>['Julia Michaels']</td>\n",
       "    </tr>\n",
       "    <tr>\n",
       "      <th>49988</th>\n",
       "      <td>Is This Love</td>\n",
       "      <td>['Komodo', 'Michael Shynes']</td>\n",
       "    </tr>\n",
       "    <tr>\n",
       "      <th>6995</th>\n",
       "      <td>Just Like an Angel</td>\n",
       "      <td>['Modern Talking']</td>\n",
       "    </tr>\n",
       "  </tbody>\n",
       "</table>\n",
       "</div>"
      ],
      "text/plain": [
       "                      name                          artists\n",
       "34418     Драмы больше нет              ['Полина Гагарина']\n",
       "39455         Drunk Groove              ['MARUV', 'Boosin']\n",
       "44188        Мокрые кроссы             ['Тима Белорусских']\n",
       "46279       Мама, я танцую                       ['#2Маши']\n",
       "11493  The Show Must Go On                        ['Queen']\n",
       "5810        Так же как все                     [\"A'Studio\"]\n",
       "49023        Грустный дэнс  ['Artik & Asti', 'Артём Качер']\n",
       "4765            Last Night     ['P. Diddy', 'Keyshia Cole']\n",
       "16829           Love Bites                  ['Def Leppard']\n",
       "46042            Время Ток                    ['Антоха МС']\n",
       "41477          По зеркалам   ['Денис RiDer', 'Kevin Mason']\n",
       "48363                Au Au              ['Filatov & Karas']\n",
       "39939               Heaven               ['Julia Michaels']\n",
       "49988         Is This Love     ['Komodo', 'Michael Shynes']\n",
       "6995    Just Like an Angel               ['Modern Talking']"
      ]
     },
     "metadata": {},
     "output_type": "display_data"
    }
   ],
   "source": [
    "preds = jaccard_sparse_model.get_test_recommendations(15)\n",
    "display(tracks_info.loc[preds[user_id]][['name', 'artists']])"
   ]
  },
  {
   "cell_type": "code",
   "execution_count": 25,
   "id": "8_UZCIxrko5Q",
   "metadata": {
    "colab": {
     "base_uri": "https://localhost:8080/",
     "height": 531
    },
    "id": "8_UZCIxrko5Q",
    "outputId": "1442d3b3-a4a8-42a7-eef6-9ce6cef7aad5"
   },
   "outputs": [
    {
     "data": {
      "text/html": [
       "<div>\n",
       "<style scoped>\n",
       "    .dataframe tbody tr th:only-of-type {\n",
       "        vertical-align: middle;\n",
       "    }\n",
       "\n",
       "    .dataframe tbody tr th {\n",
       "        vertical-align: top;\n",
       "    }\n",
       "\n",
       "    .dataframe thead th {\n",
       "        text-align: right;\n",
       "    }\n",
       "</style>\n",
       "<table border=\"1\" class=\"dataframe\">\n",
       "  <thead>\n",
       "    <tr style=\"text-align: right;\">\n",
       "      <th></th>\n",
       "      <th>name</th>\n",
       "      <th>artists</th>\n",
       "    </tr>\n",
       "  </thead>\n",
       "  <tbody>\n",
       "    <tr>\n",
       "      <th>63988</th>\n",
       "      <td>If You Love Me</td>\n",
       "      <td>['Мари Краймбрери', 'Alex Davia']</td>\n",
       "    </tr>\n",
       "    <tr>\n",
       "      <th>64325</th>\n",
       "      <td>Кхуям</td>\n",
       "      <td>['Хитобои']</td>\n",
       "    </tr>\n",
       "    <tr>\n",
       "      <th>64568</th>\n",
       "      <td>таблетки</td>\n",
       "      <td>['Земфира']</td>\n",
       "    </tr>\n",
       "    <tr>\n",
       "      <th>64574</th>\n",
       "      <td>жди меня</td>\n",
       "      <td>['Земфира']</td>\n",
       "    </tr>\n",
       "    <tr>\n",
       "      <th>64576</th>\n",
       "      <td>крым</td>\n",
       "      <td>['Земфира']</td>\n",
       "    </tr>\n",
       "    <tr>\n",
       "      <th>64675</th>\n",
       "      <td>ZITTI E BUONI</td>\n",
       "      <td>['Måneskin']</td>\n",
       "    </tr>\n",
       "    <tr>\n",
       "      <th>64682</th>\n",
       "      <td>CORALINE</td>\n",
       "      <td>['Måneskin']</td>\n",
       "    </tr>\n",
       "    <tr>\n",
       "      <th>64683</th>\n",
       "      <td>I WANNA BE YOUR SLAVE</td>\n",
       "      <td>['Måneskin']</td>\n",
       "    </tr>\n",
       "    <tr>\n",
       "      <th>64743</th>\n",
       "      <td>Dernière Danse</td>\n",
       "      <td>['Yves V', 'Shanguy', 'Axel Cooper']</td>\n",
       "    </tr>\n",
       "    <tr>\n",
       "      <th>65142</th>\n",
       "      <td>Я никогда не стану феминисткой</td>\n",
       "      <td>['Nodahsa']</td>\n",
       "    </tr>\n",
       "    <tr>\n",
       "      <th>65323</th>\n",
       "      <td>Лекарство от одиночества</td>\n",
       "      <td>['Асия']</td>\n",
       "    </tr>\n",
       "    <tr>\n",
       "      <th>65480</th>\n",
       "      <td>Broken Parts</td>\n",
       "      <td>['Smash Into Pieces']</td>\n",
       "    </tr>\n",
       "    <tr>\n",
       "      <th>65515</th>\n",
       "      <td>Seven Nation Army</td>\n",
       "      <td>['Gaullin', 'Julian Perretta']</td>\n",
       "    </tr>\n",
       "    <tr>\n",
       "      <th>65528</th>\n",
       "      <td>Проведи меня через туман</td>\n",
       "      <td>['Екатерина Яшникова']</td>\n",
       "    </tr>\n",
       "    <tr>\n",
       "      <th>65679</th>\n",
       "      <td>Птичка</td>\n",
       "      <td>['HammAli &amp; Navai']</td>\n",
       "    </tr>\n",
       "  </tbody>\n",
       "</table>\n",
       "</div>"
      ],
      "text/plain": [
       "                                 name                               artists\n",
       "63988                  If You Love Me     ['Мари Краймбрери', 'Alex Davia']\n",
       "64325                           Кхуям                           ['Хитобои']\n",
       "64568                        таблетки                           ['Земфира']\n",
       "64574                        жди меня                           ['Земфира']\n",
       "64576                            крым                           ['Земфира']\n",
       "64675                   ZITTI E BUONI                          ['Måneskin']\n",
       "64682                        CORALINE                          ['Måneskin']\n",
       "64683           I WANNA BE YOUR SLAVE                          ['Måneskin']\n",
       "64743                  Dernière Danse  ['Yves V', 'Shanguy', 'Axel Cooper']\n",
       "65142  Я никогда не стану феминисткой                           ['Nodahsa']\n",
       "65323        Лекарство от одиночества                              ['Асия']\n",
       "65480                    Broken Parts                 ['Smash Into Pieces']\n",
       "65515               Seven Nation Army        ['Gaullin', 'Julian Perretta']\n",
       "65528        Проведи меня через туман                ['Екатерина Яшникова']\n",
       "65679                          Птичка                   ['HammAli & Navai']"
      ]
     },
     "metadata": {},
     "output_type": "display_data"
    }
   ],
   "source": [
    "test_tracks = test_ratings[test_ratings.userId == user_id].trackId[:15]\n",
    "display(tracks_info.loc[test_tracks][['name', 'artists']])"
   ]
  },
  {
   "cell_type": "markdown",
   "id": "be8c9a07",
   "metadata": {},
   "source": [
    "Кажется, получилось достаточно плохо"
   ]
  },
  {
   "cell_type": "markdown",
   "id": "3laWojtltEz1",
   "metadata": {
    "id": "3laWojtltEz1"
   },
   "source": [
    "### Часть 2. Модель со скрытыми переменными"
   ]
  },
  {
   "cell_type": "markdown",
   "id": "W63eIwPEYuYG",
   "metadata": {
    "id": "W63eIwPEYuYG"
   },
   "source": [
    "В этой части мы пощупаем метод рекомендаций со скрытыми переменными.\n",
    "Идея: будем предсказывать оценки по формуле\n",
    "$$\n",
    "\\hat{r}_{ui} = \\langle p_u, q_u \\rangle,\n",
    "$$\n",
    "$p_u \\in \\mathbb{R}^d$ и $q_i \\in \\mathbb{R}^d$ - латентные векторы пользователя $u$ и объекта $i$ соответственно. \n",
    "\n",
    "Оптимизировать мы будем MSE между истинной оценкой пользователя и предсказанной с регуляризацией\n",
    "$$\n",
    "L = \\sum_{(u, i) \\in R} (\\hat{r}_{ui} - r_{ui})^2 + \\lambda \\left(\\sum_{u \\in U} \\|p_u\\|^2 + \\sum_{i \\in I} \\|q_i\\|^2\\right)\n",
    "$$"
   ]
  },
  {
   "cell_type": "markdown",
   "id": "jrZjfGb0iLk6",
   "metadata": {
    "id": "jrZjfGb0iLk6"
   },
   "source": [
    "**Задание 7 (1.5 балла).** На лекции рассматривались два подхода к оптимизации параметров. Можно это делать обычным стохастческим градинтным спуском, а можно по очереди обновлять матрицы $P, Q$, и тогда получится метод Alternating Least Squares (ALS). Выведите формулы обновления параметров для обоих методов."
   ]
  },
  {
   "cell_type": "markdown",
   "id": "b3942284",
   "metadata": {},
   "source": [
    "**LFM:**"
   ]
  },
  {
   "cell_type": "markdown",
   "id": "28018402",
   "metadata": {},
   "source": [
    "Из лекции: \\\n",
    " \\\n",
    "![Alternative Text][1717696476395]\n",
    "\n",
    "[1717696476395]:data:image/png;base64,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"
   ]
  },
  {
   "cell_type": "markdown",
   "id": "24c3b97e",
   "metadata": {},
   "source": [
    "Убедимся, что они работают:"
   ]
  },
  {
   "cell_type": "code",
   "execution_count": 26,
   "id": "5a7ac9ca",
   "metadata": {},
   "outputs": [
    {
     "data": {
      "text/latex": [
       "$\\displaystyle 2 \\lambda p_{2} + 2 q_{1} \\left(p_{2} q_{1} - r_{21}\\right) + 2 q_{2} \\left(p_{2} q_{2} - r_{22}\\right) + 2 q_{3} \\left(p_{2} q_{3} - r_{23}\\right) + 2 q_{4} \\left(p_{2} q_{4} - r_{24}\\right)$"
      ],
      "text/plain": [
       "2*lambda*p2 + 2*q1*(p2*q1 - r21) + 2*q2*(p2*q2 - r22) + 2*q3*(p2*q3 - r23) + 2*q4*(p2*q4 - r24)"
      ]
     },
     "metadata": {},
     "output_type": "display_data"
    },
    {
     "data": {
      "text/latex": [
       "$\\displaystyle \\left[\\begin{matrix}2 \\lambda p_{1} + 2 q_{1} \\left(p_{1} q_{1} - r_{11}\\right) + 2 q_{2} \\left(p_{1} q_{2} - r_{12}\\right) + 2 q_{3} \\left(p_{1} q_{3} - r_{13}\\right) + 2 q_{4} \\left(p_{1} q_{4} - r_{14}\\right)\\\\2 \\lambda p_{2} + 2 q_{1} \\left(p_{2} q_{1} - r_{21}\\right) + 2 q_{2} \\left(p_{2} q_{2} - r_{22}\\right) + 2 q_{3} \\left(p_{2} q_{3} - r_{23}\\right) + 2 q_{4} \\left(p_{2} q_{4} - r_{24}\\right)\\\\2 \\lambda p_{3} + 2 q_{1} \\left(p_{3} q_{1} - r_{31}\\right) + 2 q_{2} \\left(p_{3} q_{2} - r_{32}\\right) + 2 q_{3} \\left(p_{3} q_{3} - r_{33}\\right) + 2 q_{4} \\left(p_{3} q_{4} - r_{34}\\right)\\end{matrix}\\right]$"
      ],
      "text/plain": [
       "Matrix([\n",
       "[2*lambda*p1 + 2*q1*(p1*q1 - r11) + 2*q2*(p1*q2 - r12) + 2*q3*(p1*q3 - r13) + 2*q4*(p1*q4 - r14)],\n",
       "[2*lambda*p2 + 2*q1*(p2*q1 - r21) + 2*q2*(p2*q2 - r22) + 2*q3*(p2*q3 - r23) + 2*q4*(p2*q4 - r24)],\n",
       "[2*lambda*p3 + 2*q1*(p3*q1 - r31) + 2*q2*(p3*q2 - r32) + 2*q3*(p3*q3 - r33) + 2*q4*(p3*q4 - r34)]])"
      ]
     },
     "metadata": {},
     "output_type": "display_data"
    },
    {
     "data": {
      "text/latex": [
       "$\\displaystyle 2 \\lambda q_{2} + 2 p_{1} \\left(p_{1} q_{2} - r_{12}\\right) + 2 p_{2} \\left(p_{2} q_{2} - r_{22}\\right) + 2 p_{3} \\left(p_{3} q_{2} - r_{32}\\right)$"
      ],
      "text/plain": [
       "2*lambda*q2 + 2*p1*(p1*q2 - r12) + 2*p2*(p2*q2 - r22) + 2*p3*(p3*q2 - r32)"
      ]
     },
     "metadata": {},
     "output_type": "display_data"
    },
    {
     "data": {
      "text/latex": [
       "$\\displaystyle \\left[\\begin{matrix}2 \\lambda q_{1} + 2 p_{1} \\left(p_{1} q_{1} - r_{11}\\right) + 2 p_{2} \\left(p_{2} q_{1} - r_{21}\\right) + 2 p_{3} \\left(p_{3} q_{1} - r_{31}\\right)\\\\2 \\lambda q_{2} + 2 p_{1} \\left(p_{1} q_{2} - r_{12}\\right) + 2 p_{2} \\left(p_{2} q_{2} - r_{22}\\right) + 2 p_{3} \\left(p_{3} q_{2} - r_{32}\\right)\\\\2 \\lambda q_{3} + 2 p_{1} \\left(p_{1} q_{3} - r_{13}\\right) + 2 p_{2} \\left(p_{2} q_{3} - r_{23}\\right) + 2 p_{3} \\left(p_{3} q_{3} - r_{33}\\right)\\\\2 \\lambda q_{4} + 2 p_{1} \\left(p_{1} q_{4} - r_{14}\\right) + 2 p_{2} \\left(p_{2} q_{4} - r_{24}\\right) + 2 p_{3} \\left(p_{3} q_{4} - r_{34}\\right)\\end{matrix}\\right]$"
      ],
      "text/plain": [
       "Matrix([\n",
       "[2*lambda*q1 + 2*p1*(p1*q1 - r11) + 2*p2*(p2*q1 - r21) + 2*p3*(p3*q1 - r31)],\n",
       "[2*lambda*q2 + 2*p1*(p1*q2 - r12) + 2*p2*(p2*q2 - r22) + 2*p3*(p3*q2 - r32)],\n",
       "[2*lambda*q3 + 2*p1*(p1*q3 - r13) + 2*p2*(p2*q3 - r23) + 2*p3*(p3*q3 - r33)],\n",
       "[2*lambda*q4 + 2*p1*(p1*q4 - r14) + 2*p2*(p2*q4 - r24) + 2*p3*(p3*q4 - r34)]])"
      ]
     },
     "metadata": {},
     "output_type": "display_data"
    }
   ],
   "source": [
    "# r_ii is a number\n",
    "R = sympy.Matrix([\n",
    "    [ sympy.S('r11'), sympy.S('r12'), sympy.S('r13'), sympy.S('r14') ],\n",
    "    [ sympy.S('r21'), sympy.S('r22'), sympy.S('r23'), sympy.S('r24') ],\n",
    "    [ sympy.S('r31'), sympy.S('r32'), sympy.S('r33'), sympy.S('r34') ]\n",
    "])\n",
    "\n",
    "# p_i is a vector\n",
    "P = sympy.Matrix([\n",
    "    [ sympy.S('p1') ],\n",
    "    [ sympy.S('p2') ],\n",
    "    [ sympy.S('p3') ]\n",
    "])\n",
    "\n",
    "# q_i is a vector\n",
    "Q = sympy.Matrix([\n",
    "    [ sympy.S('q1'), sympy.S('q2'), sympy.S('q3'), sympy.S('q4') ]\n",
    "])\n",
    "\n",
    "lamb = sympy.Symbol('lambda')\n",
    "\n",
    "def square(M: sympy.Matrix):\n",
    "    return M.applyfunc(lambda i: i ** 2)\n",
    "\n",
    "loss = sum(square(P @ Q - R)) + lamb * (sum(square(P)) + sum(square(Q)))\n",
    "\n",
    "display(sympy.diff(loss, sympy.S('p2')))\n",
    "display(2 * ((P @ Q - R) @ Q.T + lamb * P))\n",
    "\n",
    "display(sympy.diff(loss, sympy.S('q2')))\n",
    "display(2 * (P.T @ (P @ Q - R) + lamb * Q).T)"
   ]
  },
  {
   "cell_type": "markdown",
   "id": "150e35b8",
   "metadata": {},
   "source": [
    "**ALS:**"
   ]
  },
  {
   "cell_type": "markdown",
   "id": "7d1772ef",
   "metadata": {},
   "source": [
    "$R = P * Q + \\epsilon$"
   ]
  },
  {
   "cell_type": "markdown",
   "id": "8e925d05",
   "metadata": {},
   "source": [
    "Формулы обновления параметров те же. Меняется только способ их изменения: не одновременно, а последовательно на разных итерациях. \\\n",
    "При этом на каждой итерации фактически решается задача линейной регрессии:\n",
    "\n",
    "<b><u>При заморозке Q и обновлении P</u></b> \\\n",
    "<b>Решаемая задача:</b> \\\n",
    "$R \\approx P * Q$ \\\n",
    "<b>Аналитическое решение:</b> \\\n",
    "$Q = (P^T * P)^{-1} * P^T * R$\n",
    "\n",
    "<b><u>При заморозке P и обновлении Q</u></b> \\\n",
    "<b>Решаемая задача:</b> \\\n",
    "$R \\approx P * Q$ \\\n",
    "$R^T \\approx (P * Q)^T$ \\\n",
    "$R^T \\approx Q^T * P^T$ \\\n",
    "<b>Аналитическое решение:</b> \\\n",
    "$P^T = ((Q^T)^T * (Q^T))^{-1} * (Q^T)^T * R^T$ \\\n",
    "$P^T = (Q * Q^T)^{-1} * Q * R^T$ \\\n",
    "$P = ((Q * Q^T)^{-1} * Q * R^T)^T$ \\\n",
    "$P = (R^T)^T * (Q)^T * ((Q * Q^T)^{-1})^T$ \\\n",
    "$P = R * Q^T * ((Q * Q^T)^T)^{-1}$ \\\n",
    "$P = R * Q^T * ((Q^T)^T * Q^T)^{-1}$ \\\n",
    "$P = R * Q^T * (Q * Q^T)^{-1}$"
   ]
  },
  {
   "cell_type": "markdown",
   "id": "T5PXIItDkiDc",
   "metadata": {
    "id": "T5PXIItDkiDc"
   },
   "source": [
    "**Задание 8 (2 балла).** Реализуйте методы оптимизации параметров для обоих алгоритмов."
   ]
  },
  {
   "cell_type": "code",
   "execution_count": 332,
   "id": "516996fb",
   "metadata": {},
   "outputs": [],
   "source": [
    "def loss(P: numpy.ndarray, Q: numpy.ndarray, lamb: float):\n",
    "    return numpy.sum((P @ Q - R) ** 2) + lamb * (numpy.sum(P ** 2) + numpy.sum(Q ** 2))\n",
    "\n",
    "class HiddenVarBaseModel(BaseModel):\n",
    "    def __init__(self, ratings: pandas.DataFrame, dim: int = 128, num_iters: int = 5):\n",
    "        super().__init__(ratings)\n",
    "        self.num_iters = num_iters\n",
    "        self.P = numpy.random.normal(size = (self.n_users, dim))\n",
    "        self.Q = numpy.random.normal(size = (dim, self.n_items))\n",
    "\n",
    "    def fit(self):\n",
    "        raise NotImplementedError\n",
    "\n",
    "    def recommend(self, uid):\n",
    "        pred_rating = self.P[uid] @ self.Q\n",
    "        return numpy.argsort(pred_rating)[::-1]\n",
    "    \n",
    "class LFMModel(HiddenVarBaseModel):\n",
    "    def __init__(self, ratings: pandas.DataFrame, dim: int = 128, num_iters: int = 5, lr: float = 0.0003, lamb: float = 0.01):\n",
    "        super().__init__(ratings, dim, num_iters)\n",
    "        self.lamb = lamb\n",
    "        self.lr = lr\n",
    "\n",
    "    def fit(self):\n",
    "        for _ in range(self.num_iters):\n",
    "            grad_P = 2 * ((self.P @ self.Q - self.R) @ self.Q.T + self.lamb * self.P)\n",
    "            grad_Q = 2 * (self.P.T @ (self.P @ self.Q - self.R) + self.lamb * self.Q)\n",
    "            self.P = self.P - self.lr * grad_P\n",
    "            self.Q = self.Q - self.lr * grad_Q\n",
    "        return self\n",
    "    \n",
    "class ALSModel(HiddenVarBaseModel):\n",
    "    def fit(self):\n",
    "        for epoch in range(self.num_iters):\n",
    "            if epoch % 2 == 0: self.Q = numpy.linalg.inv(self.P.T @ self.P) @ self.P.T @ self.R\n",
    "            else: self.P = self.R @ self.Q.T @ numpy.linalg.inv(self.Q @ self.Q.T)\n",
    "        return self"
   ]
  },
  {
   "cell_type": "code",
   "execution_count": 28,
   "id": "8103ba7a",
   "metadata": {},
   "outputs": [
    {
     "name": "stdout",
     "output_type": "stream",
     "text": [
      "LFM: 1.4623322486877441\n",
      "ALS: 1.195004940032959\n"
     ]
    },
    {
     "data": {
      "image/png": "[encoded data removed]",
      "text/plain": [
       "<Figure size 1000x500 with 1 Axes>"
      ]
     },
     "metadata": {},
     "output_type": "display_data"
    }
   ],
   "source": [
    "numpy.random.seed(42)\n",
    "\n",
    "lfm_model = LFMModel(train_ratings).fit()\n",
    "als_model = ALSModel(train_ratings).fit()\n",
    "\n",
    "lfm_predicted, lfm_time = measure_time(lambda: lfm_model.get_test_recommendations(MAX_K))\n",
    "als_predicted, als_time = measure_time(lambda: als_model.get_test_recommendations(MAX_K))\n",
    "\n",
    "print('LFM:', lfm_time)\n",
    "print('ALS:', als_time)\n",
    "\n",
    "plt.figure(figsize = (10, 5))\n",
    "plt.ylabel('MAP@k')\n",
    "plt.xlabel('k')\n",
    "\n",
    "X = range(1, MAX_K + 1)\n",
    "plt.plot(X, [ mapk(test_relevant, pearson_sparse_predicted, k) for k in X ], label = 'Pearson')\n",
    "plt.plot(X, [ mapk(test_relevant, jaccard_sparse_predicted, k) for k in X ], label = 'Jaccard')\n",
    "plt.plot(X, [ mapk(test_relevant, random_sparse_predicted, k) for k in X ], label = 'Random')\n",
    "plt.plot(X, [ mapk(test_relevant, lfm_predicted, k) for k in X ], label = 'LFM')\n",
    "plt.plot(X, [ mapk(test_relevant, als_predicted, k) for k in X ], label = 'ALS')\n",
    "plt.legend()\n",
    "plt.show()"
   ]
  },
  {
   "cell_type": "markdown",
   "id": "N0P3-ZcYuY3t",
   "metadata": {
    "id": "N0P3-ZcYuY3t"
   },
   "source": [
    "**Задание 9 (1 балл).** Для обоих алгоритмов подберите оптимальные значения размерности скрытого пространства $d$ и размера предсказания $k$. Как изменяется качество предсказаний с числом итераций обучения? Постройте соответствующие графики, сравните со случайным подхом и User2User, сделайте выводы. Какой алгоритм вам кажется более подходящим для данной задачи и почему?\n",
    "\n",
    "P.S. Хотя бы один из методов обучения должен приводить к лучшим результатам в сравнении с User2User подходом.\n",
    "\n",
    "P.P.S. Методу LFM свойственно переобучаться, поэтому при подборе параметров полезно смотреть на значения ошибки и оптимизируемой метрики на тренировочном датасете. Вы также можете менять начальную инициализацию и прочие параметры, за исключением архитектуры, на ваш вкус."
   ]
  },
  {
   "cell_type": "code",
   "execution_count": 333,
   "id": "b1ae2121",
   "metadata": {},
   "outputs": [],
   "source": [
    "def try_params(model_class, params):\n",
    "    numpy.random.seed(42)\n",
    "    model = model_class(train_ratings, *params).fit()\n",
    "    predictions = model.get_test_recommendations(MAX_K)\n",
    "    scores = numpy.array([ mapk(test_relevant, predictions, k) for k in range(1, MAX_K + 1) ])\n",
    "    return [\n",
    "        { 'params': params, 'k': f'1 - {MAX_K}', 'auc': ((scores[:-1] + scores[1:]) / 2).sum() },\n",
    "        *[ { 'params': params, 'k': k + 1, 'mapk': score } for k, score in enumerate(scores) ]\n",
    "    ]"
   ]
  },
  {
   "cell_type": "code",
   "execution_count": 83,
   "id": "2d88e18d",
   "metadata": {},
   "outputs": [
    {
     "data": {
      "application/vnd.jupyter.widget-view+json": {
       "model_id": "7fc872d8304d4ef3aa9303e69d326f39",
       "version_major": 2,
       "version_minor": 0
      },
      "text/plain": [
       "  0%|          | 0/900 [00:00<?, ?it/s]"
      ]
     },
     "metadata": {},
     "output_type": "display_data"
    },
    {
     "data": {
      "text/html": [
       "<div>\n",
       "<style scoped>\n",
       "    .dataframe tbody tr th:only-of-type {\n",
       "        vertical-align: middle;\n",
       "    }\n",
       "\n",
       "    .dataframe tbody tr th {\n",
       "        vertical-align: top;\n",
       "    }\n",
       "\n",
       "    .dataframe thead th {\n",
       "        text-align: right;\n",
       "    }\n",
       "</style>\n",
       "<table border=\"1\" class=\"dataframe\">\n",
       "  <thead>\n",
       "    <tr style=\"text-align: right;\">\n",
       "      <th></th>\n",
       "      <th>params</th>\n",
       "      <th>k</th>\n",
       "      <th>auc</th>\n",
       "      <th>mapk</th>\n",
       "    </tr>\n",
       "  </thead>\n",
       "  <tbody>\n",
       "    <tr>\n",
       "      <th>397293</th>\n",
       "      <td>(512, 25, 0.0003, 0.5)</td>\n",
       "      <td>1 - 500</td>\n",
       "      <td>0.355321</td>\n",
       "      <td>NaN</td>\n",
       "    </tr>\n",
       "    <tr>\n",
       "      <th>405309</th>\n",
       "      <td>(512, 25, 5e-05, 0.01)</td>\n",
       "      <td>1 - 500</td>\n",
       "      <td>0.355321</td>\n",
       "      <td>NaN</td>\n",
       "    </tr>\n",
       "    <tr>\n",
       "      <th>252504</th>\n",
       "      <td>(128, 45, 0.0003, 1)</td>\n",
       "      <td>1 - 500</td>\n",
       "      <td>0.355321</td>\n",
       "      <td>NaN</td>\n",
       "    </tr>\n",
       "    <tr>\n",
       "      <th>134769</th>\n",
       "      <td>(64, 25, 5e-05, 0.01)</td>\n",
       "      <td>1 - 500</td>\n",
       "      <td>0.355321</td>\n",
       "      <td>NaN</td>\n",
       "    </tr>\n",
       "    <tr>\n",
       "      <th>134268</th>\n",
       "      <td>(64, 25, 5e-05, 0.05)</td>\n",
       "      <td>1 - 500</td>\n",
       "      <td>0.355321</td>\n",
       "      <td>NaN</td>\n",
       "    </tr>\n",
       "    <tr>\n",
       "      <th>133767</th>\n",
       "      <td>(64, 25, 5e-05, 0.1)</td>\n",
       "      <td>1 - 500</td>\n",
       "      <td>0.355321</td>\n",
       "      <td>NaN</td>\n",
       "    </tr>\n",
       "    <tr>\n",
       "      <th>133266</th>\n",
       "      <td>(64, 25, 5e-05, 0.25)</td>\n",
       "      <td>1 - 500</td>\n",
       "      <td>0.355321</td>\n",
       "      <td>NaN</td>\n",
       "    </tr>\n",
       "    <tr>\n",
       "      <th>132765</th>\n",
       "      <td>(64, 25, 5e-05, 0.5)</td>\n",
       "      <td>1 - 500</td>\n",
       "      <td>0.355321</td>\n",
       "      <td>NaN</td>\n",
       "    </tr>\n",
       "    <tr>\n",
       "      <th>132264</th>\n",
       "      <td>(64, 25, 5e-05, 1)</td>\n",
       "      <td>1 - 500</td>\n",
       "      <td>0.355321</td>\n",
       "      <td>NaN</td>\n",
       "    </tr>\n",
       "    <tr>\n",
       "      <th>131763</th>\n",
       "      <td>(64, 25, 0.0001, 0.01)</td>\n",
       "      <td>1 - 500</td>\n",
       "      <td>0.355321</td>\n",
       "      <td>NaN</td>\n",
       "    </tr>\n",
       "    <tr>\n",
       "      <th>131262</th>\n",
       "      <td>(64, 25, 0.0001, 0.05)</td>\n",
       "      <td>1 - 500</td>\n",
       "      <td>0.355321</td>\n",
       "      <td>NaN</td>\n",
       "    </tr>\n",
       "    <tr>\n",
       "      <th>130761</th>\n",
       "      <td>(64, 25, 0.0001, 0.1)</td>\n",
       "      <td>1 - 500</td>\n",
       "      <td>0.355321</td>\n",
       "      <td>NaN</td>\n",
       "    </tr>\n",
       "    <tr>\n",
       "      <th>130260</th>\n",
       "      <td>(64, 25, 0.0001, 0.25)</td>\n",
       "      <td>1 - 500</td>\n",
       "      <td>0.355321</td>\n",
       "      <td>NaN</td>\n",
       "    </tr>\n",
       "    <tr>\n",
       "      <th>129759</th>\n",
       "      <td>(64, 25, 0.0001, 0.5)</td>\n",
       "      <td>1 - 500</td>\n",
       "      <td>0.355321</td>\n",
       "      <td>NaN</td>\n",
       "    </tr>\n",
       "    <tr>\n",
       "      <th>129258</th>\n",
       "      <td>(64, 25, 0.0001, 1)</td>\n",
       "      <td>1 - 500</td>\n",
       "      <td>0.355321</td>\n",
       "      <td>NaN</td>\n",
       "    </tr>\n",
       "    <tr>\n",
       "      <th>128757</th>\n",
       "      <td>(64, 25, 0.0003, 0.01)</td>\n",
       "      <td>1 - 500</td>\n",
       "      <td>0.355321</td>\n",
       "      <td>NaN</td>\n",
       "    </tr>\n",
       "    <tr>\n",
       "      <th>128256</th>\n",
       "      <td>(64, 25, 0.0003, 0.05)</td>\n",
       "      <td>1 - 500</td>\n",
       "      <td>0.355321</td>\n",
       "      <td>NaN</td>\n",
       "    </tr>\n",
       "    <tr>\n",
       "      <th>127755</th>\n",
       "      <td>(64, 25, 0.0003, 0.1)</td>\n",
       "      <td>1 - 500</td>\n",
       "      <td>0.355321</td>\n",
       "      <td>NaN</td>\n",
       "    </tr>\n",
       "    <tr>\n",
       "      <th>127254</th>\n",
       "      <td>(64, 25, 0.0003, 0.25)</td>\n",
       "      <td>1 - 500</td>\n",
       "      <td>0.355321</td>\n",
       "      <td>NaN</td>\n",
       "    </tr>\n",
       "    <tr>\n",
       "      <th>126753</th>\n",
       "      <td>(64, 25, 0.0003, 0.5)</td>\n",
       "      <td>1 - 500</td>\n",
       "      <td>0.355321</td>\n",
       "      <td>NaN</td>\n",
       "    </tr>\n",
       "  </tbody>\n",
       "</table>\n",
       "</div>"
      ],
      "text/plain": [
       "                        params        k       auc  mapk\n",
       "397293  (512, 25, 0.0003, 0.5)  1 - 500  0.355321   NaN\n",
       "405309  (512, 25, 5e-05, 0.01)  1 - 500  0.355321   NaN\n",
       "252504    (128, 45, 0.0003, 1)  1 - 500  0.355321   NaN\n",
       "134769   (64, 25, 5e-05, 0.01)  1 - 500  0.355321   NaN\n",
       "134268   (64, 25, 5e-05, 0.05)  1 - 500  0.355321   NaN\n",
       "133767    (64, 25, 5e-05, 0.1)  1 - 500  0.355321   NaN\n",
       "133266   (64, 25, 5e-05, 0.25)  1 - 500  0.355321   NaN\n",
       "132765    (64, 25, 5e-05, 0.5)  1 - 500  0.355321   NaN\n",
       "132264      (64, 25, 5e-05, 1)  1 - 500  0.355321   NaN\n",
       "131763  (64, 25, 0.0001, 0.01)  1 - 500  0.355321   NaN\n",
       "131262  (64, 25, 0.0001, 0.05)  1 - 500  0.355321   NaN\n",
       "130761   (64, 25, 0.0001, 0.1)  1 - 500  0.355321   NaN\n",
       "130260  (64, 25, 0.0001, 0.25)  1 - 500  0.355321   NaN\n",
       "129759   (64, 25, 0.0001, 0.5)  1 - 500  0.355321   NaN\n",
       "129258     (64, 25, 0.0001, 1)  1 - 500  0.355321   NaN\n",
       "128757  (64, 25, 0.0003, 0.01)  1 - 500  0.355321   NaN\n",
       "128256  (64, 25, 0.0003, 0.05)  1 - 500  0.355321   NaN\n",
       "127755   (64, 25, 0.0003, 0.1)  1 - 500  0.355321   NaN\n",
       "127254  (64, 25, 0.0003, 0.25)  1 - 500  0.355321   NaN\n",
       "126753   (64, 25, 0.0003, 0.5)  1 - 500  0.355321   NaN"
      ]
     },
     "execution_count": 83,
     "metadata": {},
     "output_type": "execute_result"
    }
   ],
   "source": [
    "lfm_results = joblib.Parallel(n_jobs = -1)(\n",
    "    joblib.delayed(try_params)(LFMModel, params)\n",
    "    for params in tqdm.contrib.itertools.product(\n",
    "        [ 32, 64, 128, 256, 512 ],\n",
    "        range(5, 46, 10),\n",
    "        [ 3e-4, 1e-4, 5e-5, 1e-5, 5e-6, 1e-6 ],\n",
    "        [ 1, 0.5, 0.25, 0.1, 0.05, 0.01 ]\n",
    "    )\n",
    ")\n",
    "lfm_results = pandas.DataFrame(list(itertools.chain(*lfm_results)))\n",
    "# Let's choose parameters by area under mapk@k curve: all predictions should be reasonable, not only for small k's\n",
    "lfm_results.sort_values(by = 'auc', ascending = False).head(20) "
   ]
  },
  {
   "cell_type": "code",
   "execution_count": 334,
   "id": "871de0d5",
   "metadata": {},
   "outputs": [
    {
     "name": "stdout",
     "output_type": "stream",
     "text": [
      "True\n",
      "False\n",
      "False\n"
     ]
    }
   ],
   "source": [
    "def f(size):\n",
    "    numpy.random.seed(42)\n",
    "    return numpy.linalg.inv(numpy.random.normal(size = (size, size)))\n",
    "print((joblib.Parallel(n_jobs = 2)(joblib.delayed(f)(p) for p in [ 10 ])[0] == f(10)).all())\n",
    "print((joblib.Parallel(n_jobs = 2)(joblib.delayed(f)(p) for p in [ 12 ])[0] == f(12)).all())\n",
    "print((joblib.Parallel(n_jobs = 2)(joblib.delayed(f)(p) for p in [ 15 ])[0] == f(15)).all())"
   ]
  },
  {
   "cell_type": "code",
   "execution_count": 340,
   "id": "0D62IgV2OjDF",
   "metadata": {
    "id": "0D62IgV2OjDF"
   },
   "outputs": [
    {
     "data": {
      "application/vnd.jupyter.widget-view+json": {
       "model_id": "6305780bd81f47f7b7acc6ff7b589c94",
       "version_major": 2,
       "version_minor": 0
      },
      "text/plain": [
       "  0%|          | 0/370 [00:00<?, ?it/s]"
      ]
     },
     "metadata": {},
     "output_type": "display_data"
    },
    {
     "data": {
      "text/html": [
       "<div>\n",
       "<style scoped>\n",
       "    .dataframe tbody tr th:only-of-type {\n",
       "        vertical-align: middle;\n",
       "    }\n",
       "\n",
       "    .dataframe tbody tr th {\n",
       "        vertical-align: top;\n",
       "    }\n",
       "\n",
       "    .dataframe thead th {\n",
       "        text-align: right;\n",
       "    }\n",
       "</style>\n",
       "<table border=\"1\" class=\"dataframe\">\n",
       "  <thead>\n",
       "    <tr style=\"text-align: right;\">\n",
       "      <th></th>\n",
       "      <th>params</th>\n",
       "      <th>k</th>\n",
       "      <th>auc</th>\n",
       "      <th>mapk</th>\n",
       "    </tr>\n",
       "  </thead>\n",
       "  <tbody>\n",
       "    <tr>\n",
       "      <th>44589</th>\n",
       "      <td>(64, 16)</td>\n",
       "      <td>1 - 500</td>\n",
       "      <td>1.065468</td>\n",
       "      <td>NaN</td>\n",
       "    </tr>\n",
       "    <tr>\n",
       "      <th>51102</th>\n",
       "      <td>(64, 29)</td>\n",
       "      <td>1 - 500</td>\n",
       "      <td>1.063036</td>\n",
       "      <td>NaN</td>\n",
       "    </tr>\n",
       "    <tr>\n",
       "      <th>43086</th>\n",
       "      <td>(64, 13)</td>\n",
       "      <td>1 - 500</td>\n",
       "      <td>1.055912</td>\n",
       "      <td>NaN</td>\n",
       "    </tr>\n",
       "    <tr>\n",
       "      <th>45591</th>\n",
       "      <td>(64, 18)</td>\n",
       "      <td>1 - 500</td>\n",
       "      <td>1.052359</td>\n",
       "      <td>NaN</td>\n",
       "    </tr>\n",
       "    <tr>\n",
       "      <th>59118</th>\n",
       "      <td>(64, 45)</td>\n",
       "      <td>1 - 500</td>\n",
       "      <td>1.051758</td>\n",
       "      <td>NaN</td>\n",
       "    </tr>\n",
       "    <tr>\n",
       "      <th>73146</th>\n",
       "      <td>(64, 73)</td>\n",
       "      <td>1 - 500</td>\n",
       "      <td>1.045959</td>\n",
       "      <td>NaN</td>\n",
       "    </tr>\n",
       "    <tr>\n",
       "      <th>59619</th>\n",
       "      <td>(64, 46)</td>\n",
       "      <td>1 - 500</td>\n",
       "      <td>1.045492</td>\n",
       "      <td>NaN</td>\n",
       "    </tr>\n",
       "    <tr>\n",
       "      <th>72144</th>\n",
       "      <td>(64, 71)</td>\n",
       "      <td>1 - 500</td>\n",
       "      <td>1.045348</td>\n",
       "      <td>NaN</td>\n",
       "    </tr>\n",
       "    <tr>\n",
       "      <th>60120</th>\n",
       "      <td>(64, 47)</td>\n",
       "      <td>1 - 500</td>\n",
       "      <td>1.044251</td>\n",
       "      <td>NaN</td>\n",
       "    </tr>\n",
       "    <tr>\n",
       "      <th>52104</th>\n",
       "      <td>(64, 31)</td>\n",
       "      <td>1 - 500</td>\n",
       "      <td>1.043420</td>\n",
       "      <td>NaN</td>\n",
       "    </tr>\n",
       "    <tr>\n",
       "      <th>53106</th>\n",
       "      <td>(64, 33)</td>\n",
       "      <td>1 - 500</td>\n",
       "      <td>1.042906</td>\n",
       "      <td>NaN</td>\n",
       "    </tr>\n",
       "    <tr>\n",
       "      <th>60621</th>\n",
       "      <td>(64, 48)</td>\n",
       "      <td>1 - 500</td>\n",
       "      <td>1.041576</td>\n",
       "      <td>NaN</td>\n",
       "    </tr>\n",
       "    <tr>\n",
       "      <th>54108</th>\n",
       "      <td>(64, 35)</td>\n",
       "      <td>1 - 500</td>\n",
       "      <td>1.041095</td>\n",
       "      <td>NaN</td>\n",
       "    </tr>\n",
       "    <tr>\n",
       "      <th>53607</th>\n",
       "      <td>(64, 34)</td>\n",
       "      <td>1 - 500</td>\n",
       "      <td>1.040581</td>\n",
       "      <td>NaN</td>\n",
       "    </tr>\n",
       "    <tr>\n",
       "      <th>62124</th>\n",
       "      <td>(64, 51)</td>\n",
       "      <td>1 - 500</td>\n",
       "      <td>1.040144</td>\n",
       "      <td>NaN</td>\n",
       "    </tr>\n",
       "    <tr>\n",
       "      <th>62625</th>\n",
       "      <td>(64, 52)</td>\n",
       "      <td>1 - 500</td>\n",
       "      <td>1.039664</td>\n",
       "      <td>NaN</td>\n",
       "    </tr>\n",
       "    <tr>\n",
       "      <th>45090</th>\n",
       "      <td>(64, 17)</td>\n",
       "      <td>1 - 500</td>\n",
       "      <td>1.039159</td>\n",
       "      <td>NaN</td>\n",
       "    </tr>\n",
       "    <tr>\n",
       "      <th>61623</th>\n",
       "      <td>(64, 50)</td>\n",
       "      <td>1 - 500</td>\n",
       "      <td>1.038936</td>\n",
       "      <td>NaN</td>\n",
       "    </tr>\n",
       "    <tr>\n",
       "      <th>61122</th>\n",
       "      <td>(64, 49)</td>\n",
       "      <td>1 - 500</td>\n",
       "      <td>1.038170</td>\n",
       "      <td>NaN</td>\n",
       "    </tr>\n",
       "    <tr>\n",
       "      <th>43587</th>\n",
       "      <td>(64, 14)</td>\n",
       "      <td>1 - 500</td>\n",
       "      <td>1.035784</td>\n",
       "      <td>NaN</td>\n",
       "    </tr>\n",
       "  </tbody>\n",
       "</table>\n",
       "</div>"
      ],
      "text/plain": [
       "         params        k       auc  mapk\n",
       "44589  (64, 16)  1 - 500  1.065468   NaN\n",
       "51102  (64, 29)  1 - 500  1.063036   NaN\n",
       "43086  (64, 13)  1 - 500  1.055912   NaN\n",
       "45591  (64, 18)  1 - 500  1.052359   NaN\n",
       "59118  (64, 45)  1 - 500  1.051758   NaN\n",
       "73146  (64, 73)  1 - 500  1.045959   NaN\n",
       "59619  (64, 46)  1 - 500  1.045492   NaN\n",
       "72144  (64, 71)  1 - 500  1.045348   NaN\n",
       "60120  (64, 47)  1 - 500  1.044251   NaN\n",
       "52104  (64, 31)  1 - 500  1.043420   NaN\n",
       "53106  (64, 33)  1 - 500  1.042906   NaN\n",
       "60621  (64, 48)  1 - 500  1.041576   NaN\n",
       "54108  (64, 35)  1 - 500  1.041095   NaN\n",
       "53607  (64, 34)  1 - 500  1.040581   NaN\n",
       "62124  (64, 51)  1 - 500  1.040144   NaN\n",
       "62625  (64, 52)  1 - 500  1.039664   NaN\n",
       "45090  (64, 17)  1 - 500  1.039159   NaN\n",
       "61623  (64, 50)  1 - 500  1.038936   NaN\n",
       "61122  (64, 49)  1 - 500  1.038170   NaN\n",
       "43587  (64, 14)  1 - 500  1.035784   NaN"
      ]
     },
     "execution_count": 340,
     "metadata": {},
     "output_type": "execute_result"
    }
   ],
   "source": [
    "# numpy.linalg.inv gives incorrect results when used with joblib for big matrices (see cell above).\n",
    "# Took me 3 hours to debug 😭\n",
    "# Thus, ALS cannot run in parallel :(\n",
    "als_results = [ ]\n",
    "for params in tqdm.contrib.itertools.product([ 32, 64, 128, 256, 512 ], range(1, 75)):\n",
    "    als_results.append(try_params(ALSModel, params))\n",
    "als_results = pandas.DataFrame(list(itertools.chain(*als_results)))\n",
    "als_results.sort_values(by = 'auc', ascending = False).head(20)"
   ]
  },
  {
   "cell_type": "code",
   "execution_count": 341,
   "id": "4e035a39",
   "metadata": {},
   "outputs": [
    {
     "name": "stdout",
     "output_type": "stream",
     "text": [
      "Train LFM: 17.678871631622314\n",
      "Train ALS: 0.3888683319091797\n",
      "Best LFM: 1.5506772994995117\n",
      "Best ALS: 1.0411880016326904\n"
     ]
    },
    {
     "data": {
      "image/png": "[encoded data removed]",
      "text/plain": [
       "<Figure size 1000x500 with 1 Axes>"
      ]
     },
     "metadata": {},
     "output_type": "display_data"
    }
   ],
   "source": [
    "numpy.random.seed(42)\n",
    "best_lfm_model, lfm_train_ime = measure_time(lambda: LFMModel(train_ratings, 512, 25, 0.0003, 0.5).fit())\n",
    "print('Train LFM:', lfm_train_ime)\n",
    "\n",
    "numpy.random.seed(42)\n",
    "best_als_model, als_train_ime = measure_time(lambda: ALSModel(train_ratings, 64, 16).fit())\n",
    "print('Train ALS:', als_train_ime)\n",
    "\n",
    "best_lfm_predicted, best_lfm_time = measure_time(lambda: best_lfm_model.get_test_recommendations(MAX_K))\n",
    "best_als_predicted, best_als_time = measure_time(lambda: best_als_model.get_test_recommendations(MAX_K))\n",
    "\n",
    "print('Best LFM:', best_lfm_time)\n",
    "print('Best ALS:', best_als_time)\n",
    "\n",
    "plt.figure(figsize = (10, 5))\n",
    "plt.ylabel('MAP@k')\n",
    "plt.xlabel('k')\n",
    "\n",
    "X = range(1, MAX_K + 1)\n",
    "plt.plot(X, [ mapk(test_relevant, pearson_sparse_predicted, k) for k in X ], label = 'Pearson')\n",
    "plt.plot(X, [ mapk(test_relevant, jaccard_sparse_predicted, k) for k in X ], label = 'Jaccard')\n",
    "plt.plot(X, [ mapk(test_relevant, random_sparse_predicted, k) for k in X ], label = 'Random')\n",
    "plt.plot(X, [ mapk(test_relevant, best_lfm_predicted, k) for k in X ], label = 'Best LFM')\n",
    "plt.plot(X, [ mapk(test_relevant, best_als_predicted, k) for k in X ], label = 'Best ALS')\n",
    "plt.legend()\n",
    "plt.show()"
   ]
  },
  {
   "cell_type": "code",
   "execution_count": 342,
   "id": "cd6570d7",
   "metadata": {},
   "outputs": [
    {
     "data": {
      "image/png": "[encoded data removed]",
      "text/plain": [
       "<Figure size 640x480 with 1 Axes>"
      ]
     },
     "metadata": {},
     "output_type": "display_data"
    }
   ],
   "source": [
    "X = range(1, 50)\n",
    "plt.plot(X, [ mapk(test_relevant, pearson_sparse_predicted, k) for k in X ], label = 'Pearson')\n",
    "plt.plot(X, [ mapk(test_relevant, jaccard_sparse_predicted, k) for k in X ], label = 'Jaccard')\n",
    "plt.plot(X, [ mapk(test_relevant, random_sparse_predicted, k) for k in X ], label = 'Random')\n",
    "plt.plot(X, [ mapk(test_relevant, best_lfm_predicted, k) for k in X ], label = 'Best LFM')\n",
    "plt.plot(X, [ mapk(test_relevant, best_als_predicted, k) for k in X ], label = 'Best ALS')\n",
    "plt.legend()\n",
    "plt.show()"
   ]
  },
  {
   "cell_type": "markdown",
   "id": "25e6cff4",
   "metadata": {},
   "source": [
    "LFM показал хороший результат при маленьких $k$, но наблюдается стремительное ухудшение рекомендаций по мере увеличения $k$. ALS же напротив показывает себя хуже даже User2User-моделей при маленьких $k$, но качество рекомендаций растёт при рассмотрении большего числа треков. \\\n",
    "В целом, обучение LFM оказалось достаточно сложной задачей как с точки зрения подбора гиперпараметров, так и с точки зрения необходимых вычислительных ресурсов. \\\n",
    "С числом итераций обучения качество, ожидаемо, сначала увеличивается, а затем начинает падать из-за переобучения. Как видно из полученных результатов, для LFM оптимально около 25 итераций, а ALS показывает хорошие результаты для значений от 15 до 50. \\\n",
    "Для данной задачи наиболее подходящим мне кажется алгоритм ALS, который работает достаточно быстро и обучается сравниетельно легко, достигая при этом хороших результатов."
   ]
  },
  {
   "cell_type": "markdown",
   "id": "Gx4EMj0HwVlR",
   "metadata": {
    "id": "Gx4EMj0HwVlR"
   },
   "source": [
    "Если у вас получилось достаточно хорошее качество, то при оптимизации параметров марицы $Q$ похожим трекам стали соответствовать похожие векторы. Поэтому мы можем для любого трека найти наиболее близкие к нему в латентном пространстве и проверить степерь обученности модели вручную."
   ]
  },
  {
   "cell_type": "code",
   "execution_count": 343,
   "id": "VFYy92Ls-53S",
   "metadata": {
    "id": "VFYy92Ls-53S"
   },
   "outputs": [],
   "source": [
    "example_trackId = tracks_info[tracks_info.name == 'Выхода нет'].iloc[0].id\n",
    "\n",
    "preds = best_als_model.Q.T @ best_als_model.Q.T[example_trackId]\n",
    "preds = preds / numpy.sqrt((best_als_model.Q.T ** 2).sum(axis = 1) + 1e-8)\n",
    "\n",
    "track_idxs = preds.argsort()[::-1][:20]"
   ]
  },
  {
   "cell_type": "code",
   "execution_count": 344,
   "id": "DzewG5rw5SQo",
   "metadata": {
    "colab": {
     "base_uri": "https://localhost:8080/",
     "height": 669
    },
    "id": "DzewG5rw5SQo",
    "outputId": "b49d9730-dab4-451a-943f-b26f2e4f4a23"
   },
   "outputs": [
    {
     "data": {
      "text/html": [
       "<div>\n",
       "<style scoped>\n",
       "    .dataframe tbody tr th:only-of-type {\n",
       "        vertical-align: middle;\n",
       "    }\n",
       "\n",
       "    .dataframe tbody tr th {\n",
       "        vertical-align: top;\n",
       "    }\n",
       "\n",
       "    .dataframe thead th {\n",
       "        text-align: right;\n",
       "    }\n",
       "</style>\n",
       "<table border=\"1\" class=\"dataframe\">\n",
       "  <thead>\n",
       "    <tr style=\"text-align: right;\">\n",
       "      <th></th>\n",
       "      <th>name</th>\n",
       "      <th>artists</th>\n",
       "      <th>similarity</th>\n",
       "    </tr>\n",
       "  </thead>\n",
       "  <tbody>\n",
       "    <tr>\n",
       "      <th>5512</th>\n",
       "      <td>Выхода нет</td>\n",
       "      <td>['Сплин']</td>\n",
       "      <td>1.000000</td>\n",
       "    </tr>\n",
       "    <tr>\n",
       "      <th>2058</th>\n",
       "      <td>Последний герой</td>\n",
       "      <td>['КИНО']</td>\n",
       "      <td>0.718018</td>\n",
       "    </tr>\n",
       "    <tr>\n",
       "      <th>16192</th>\n",
       "      <td>Однажды мир прогнётся под нас</td>\n",
       "      <td>['Машина времени']</td>\n",
       "      <td>0.656794</td>\n",
       "    </tr>\n",
       "    <tr>\n",
       "      <th>2179</th>\n",
       "      <td>Восьмиклассница</td>\n",
       "      <td>['КИНО']</td>\n",
       "      <td>0.643966</td>\n",
       "    </tr>\n",
       "    <tr>\n",
       "      <th>14871</th>\n",
       "      <td>Никто не услышит (Ой-йо)</td>\n",
       "      <td>['ЧайФ']</td>\n",
       "      <td>0.628658</td>\n",
       "    </tr>\n",
       "    <tr>\n",
       "      <th>13263</th>\n",
       "      <td>Мусорный ветер</td>\n",
       "      <td>['Крематорий']</td>\n",
       "      <td>0.626923</td>\n",
       "    </tr>\n",
       "    <tr>\n",
       "      <th>13264</th>\n",
       "      <td>Безобразная Эльза</td>\n",
       "      <td>['Крематорий']</td>\n",
       "      <td>0.626923</td>\n",
       "    </tr>\n",
       "    <tr>\n",
       "      <th>9876</th>\n",
       "      <td>Wake Up</td>\n",
       "      <td>['Cheese People']</td>\n",
       "      <td>0.564177</td>\n",
       "    </tr>\n",
       "    <tr>\n",
       "      <th>7753</th>\n",
       "      <td>Nantes</td>\n",
       "      <td>['Barbara']</td>\n",
       "      <td>0.564177</td>\n",
       "    </tr>\n",
       "    <tr>\n",
       "      <th>1039</th>\n",
       "      <td>Get Up I Feel Like Being A Sex Machine</td>\n",
       "      <td>['James Brown']</td>\n",
       "      <td>0.564177</td>\n",
       "    </tr>\n",
       "    <tr>\n",
       "      <th>26061</th>\n",
       "      <td>Sing, Sing, Sing</td>\n",
       "      <td>['IKS Big Band']</td>\n",
       "      <td>0.564177</td>\n",
       "    </tr>\n",
       "    <tr>\n",
       "      <th>17730</th>\n",
       "      <td>The Mercy Seat</td>\n",
       "      <td>['Nick Cave &amp; The Bad Seeds']</td>\n",
       "      <td>0.564177</td>\n",
       "    </tr>\n",
       "    <tr>\n",
       "      <th>21341</th>\n",
       "      <td>Hold on Im Coming</td>\n",
       "      <td>['Sam &amp; Dave']</td>\n",
       "      <td>0.564177</td>\n",
       "    </tr>\n",
       "    <tr>\n",
       "      <th>27732</th>\n",
       "      <td>Я верю</td>\n",
       "      <td>['Ляпис Трубецкой']</td>\n",
       "      <td>0.564177</td>\n",
       "    </tr>\n",
       "    <tr>\n",
       "      <th>9320</th>\n",
       "      <td>Hope There's Someone</td>\n",
       "      <td>['Antony &amp; The Johnsons']</td>\n",
       "      <td>0.564177</td>\n",
       "    </tr>\n",
       "    <tr>\n",
       "      <th>16786</th>\n",
       "      <td>Previous Crimes</td>\n",
       "      <td>['Devastations']</td>\n",
       "      <td>0.564177</td>\n",
       "    </tr>\n",
       "    <tr>\n",
       "      <th>8407</th>\n",
       "      <td>Последняя поэма</td>\n",
       "      <td>['Алексей Рыбников']</td>\n",
       "      <td>0.564177</td>\n",
       "    </tr>\n",
       "    <tr>\n",
       "      <th>12475</th>\n",
       "      <td>Colorblind</td>\n",
       "      <td>['Counting Crows']</td>\n",
       "      <td>0.564177</td>\n",
       "    </tr>\n",
       "    <tr>\n",
       "      <th>5287</th>\n",
       "      <td>Home</td>\n",
       "      <td>['Edward Sharpe and the Magnetic Zeros']</td>\n",
       "      <td>0.564177</td>\n",
       "    </tr>\n",
       "    <tr>\n",
       "      <th>17795</th>\n",
       "      <td>Георгины</td>\n",
       "      <td>['АлоэВера']</td>\n",
       "      <td>0.564177</td>\n",
       "    </tr>\n",
       "  </tbody>\n",
       "</table>\n",
       "</div>"
      ],
      "text/plain": [
       "                                         name  \\\n",
       "5512                               Выхода нет   \n",
       "2058                          Последний герой   \n",
       "16192           Однажды мир прогнётся под нас   \n",
       "2179                          Восьмиклассница   \n",
       "14871                Никто не услышит (Ой-йо)   \n",
       "13263                          Мусорный ветер   \n",
       "13264                       Безобразная Эльза   \n",
       "9876                                  Wake Up   \n",
       "7753                                   Nantes   \n",
       "1039   Get Up I Feel Like Being A Sex Machine   \n",
       "26061                        Sing, Sing, Sing   \n",
       "17730                          The Mercy Seat   \n",
       "21341                       Hold on Im Coming   \n",
       "27732                                  Я верю   \n",
       "9320                     Hope There's Someone   \n",
       "16786                         Previous Crimes   \n",
       "8407                          Последняя поэма   \n",
       "12475                              Colorblind   \n",
       "5287                                     Home   \n",
       "17795                                Георгины   \n",
       "\n",
       "                                        artists  similarity  \n",
       "5512                                  ['Сплин']    1.000000  \n",
       "2058                                   ['КИНО']    0.718018  \n",
       "16192                        ['Машина времени']    0.656794  \n",
       "2179                                   ['КИНО']    0.643966  \n",
       "14871                                  ['ЧайФ']    0.628658  \n",
       "13263                            ['Крематорий']    0.626923  \n",
       "13264                            ['Крематорий']    0.626923  \n",
       "9876                          ['Cheese People']    0.564177  \n",
       "7753                                ['Barbara']    0.564177  \n",
       "1039                            ['James Brown']    0.564177  \n",
       "26061                          ['IKS Big Band']    0.564177  \n",
       "17730             ['Nick Cave & The Bad Seeds']    0.564177  \n",
       "21341                            ['Sam & Dave']    0.564177  \n",
       "27732                       ['Ляпис Трубецкой']    0.564177  \n",
       "9320                  ['Antony & The Johnsons']    0.564177  \n",
       "16786                          ['Devastations']    0.564177  \n",
       "8407                       ['Алексей Рыбников']    0.564177  \n",
       "12475                        ['Counting Crows']    0.564177  \n",
       "5287   ['Edward Sharpe and the Magnetic Zeros']    0.564177  \n",
       "17795                              ['АлоэВера']    0.564177  "
      ]
     },
     "execution_count": 344,
     "metadata": {},
     "output_type": "execute_result"
    }
   ],
   "source": [
    "similar_tracks = tracks_info.loc[track_idxs][['name', 'artists']]\n",
    "similar_tracks['similarity'] = preds[track_idxs] / numpy.linalg.norm(best_als_model.Q.T[example_trackId])\n",
    "similar_tracks"
   ]
  }
 ],
 "metadata": {
  "colab": {
   "collapsed_sections": [],
   "name": "Копия блокнота \"recommendations_hw_solved.ipynb\"",
   "provenance": []
  },
  "kernelspec": {
   "display_name": "Python 3 (ipykernel)",
   "language": "python",
   "name": "python3"
  },
  "language_info": {
   "codemirror_mode": {
    "name": "ipython",
    "version": 3
   },
   "file_extension": ".py",
   "mimetype": "text/x-python",
   "name": "python",
   "nbconvert_exporter": "python",
   "pygments_lexer": "ipython3",
   "version": "3.10.11"
  },
  "widgets": {
   "application/vnd.jupyter.widget-state+json": {
    "09367b7a291f4c81a93f79ac3bf09e9b": {
     "model_module": "@jupyter-widgets/controls",
     "model_module_version": "1.5.0",
     "model_name": "HTMLModel",
     "state": {
      "_dom_classes": [],
      "_model_module": "@jupyter-widgets/controls",
      "_model_module_version": "1.5.0",
      "_model_name": "HTMLModel",
      "_view_count": null,
      "_view_module": "@jupyter-widgets/controls",
      "_view_module_version": "1.5.0",
      "_view_name": "HTMLView",
      "description": "",
      "description_tooltip": null,
      "layout": "IPY_MODEL_57bc2e2902994e799d4378888bdb342a",
      "placeholder": "​",
      "style": "IPY_MODEL_4631243cc4dd4d1a8e3ffe3a8da29cf7",
      "value": "100%"
     }
    },
    "0b2d687ab70343a999f3a37dfe030a9c": {
     "model_module": "@jupyter-widgets/base",
     "model_module_version": "1.2.0",
     "model_name": "LayoutModel",
     "state": {
      "_model_module": "@jupyter-widgets/base",
      "_model_module_version": "1.2.0",
      "_model_name": "LayoutModel",
      "_view_count": null,
      "_view_module": "@jupyter-widgets/base",
      "_view_module_version": "1.2.0",
      "_view_name": "LayoutView",
      "align_content": null,
      "align_items": null,
      "align_self": null,
      "border": null,
      "bottom": null,
      "display": null,
      "flex": null,
      "flex_flow": null,
      "grid_area": null,
      "grid_auto_columns": null,
      "grid_auto_flow": null,
      "grid_auto_rows": null,
      "grid_column": null,
      "grid_gap": null,
      "grid_row": null,
      "grid_template_areas": null,
      "grid_template_columns": null,
      "grid_template_rows": null,
      "height": null,
      "justify_content": null,
      "justify_items": null,
      "left": null,
      "margin": null,
      "max_height": null,
      "max_width": null,
      "min_height": null,
      "min_width": null,
      "object_fit": null,
      "object_position": null,
      "order": null,
      "overflow": null,
      "overflow_x": null,
      "overflow_y": null,
      "padding": null,
      "right": null,
      "top": null,
      "visibility": null,
      "width": null
     }
    },
    "1b31eda686b54f7ca8c66aef18c987f3": {
     "model_module": "@jupyter-widgets/controls",
     "model_module_version": "1.5.0",
     "model_name": "HBoxModel",
     "state": {
      "_dom_classes": [],
      "_model_module": "@jupyter-widgets/controls",
      "_model_module_version": "1.5.0",
      "_model_name": "HBoxModel",
      "_view_count": null,
      "_view_module": "@jupyter-widgets/controls",
      "_view_module_version": "1.5.0",
      "_view_name": "HBoxView",
      "box_style": "",
      "children": [
       "IPY_MODEL_c8a26ff7a9504ca7b9982a1fdc958364",
       "IPY_MODEL_55a177c209e6414d8daae0aae25ab569",
       "IPY_MODEL_5696660af0a04fbbb0743796bdd5f9b3"
      ],
      "layout": "IPY_MODEL_35c5904b82544e9cac71cf7b0b67cc1e"
     }
    },
    "2571c66c254d4a6c9ae5a20812e41641": {
     "model_module": "@jupyter-widgets/controls",
     "model_module_version": "1.5.0",
     "model_name": "DescriptionStyleModel",
     "state": {
      "_model_module": "@jupyter-widgets/controls",
      "_model_module_version": "1.5.0",
      "_model_name": "DescriptionStyleModel",
      "_view_count": null,
      "_view_module": "@jupyter-widgets/base",
      "_view_module_version": "1.2.0",
      "_view_name": "StyleView",
      "description_width": ""
     }
    },
    "2943eba3c235416b809e23186d5625ef": {
     "model_module": "@jupyter-widgets/base",
     "model_module_version": "1.2.0",
     "model_name": "LayoutModel",
     "state": {
      "_model_module": "@jupyter-widgets/base",
      "_model_module_version": "1.2.0",
      "_model_name": "LayoutModel",
      "_view_count": null,
      "_view_module": "@jupyter-widgets/base",
      "_view_module_version": "1.2.0",
      "_view_name": "LayoutView",
      "align_content": null,
      "align_items": null,
      "align_self": null,
      "border": null,
      "bottom": null,
      "display": null,
      "flex": null,
      "flex_flow": null,
      "grid_area": null,
      "grid_auto_columns": null,
      "grid_auto_flow": null,
      "grid_auto_rows": null,
      "grid_column": null,
      "grid_gap": null,
      "grid_row": null,
      "grid_template_areas": null,
      "grid_template_columns": null,
      "grid_template_rows": null,
      "height": null,
      "justify_content": null,
      "justify_items": null,
      "left": null,
      "margin": null,
      "max_height": null,
      "max_width": null,
      "min_height": null,
      "min_width": null,
      "object_fit": null,
      "object_position": null,
      "order": null,
      "overflow": null,
      "overflow_x": null,
      "overflow_y": null,
      "padding": null,
      "right": null,
      "top": null,
      "visibility": null,
      "width": null
     }
    },
    "2ded17a125a44376abbe87ef29f2aa17": {
     "model_module": "@jupyter-widgets/controls",
     "model_module_version": "1.5.0",
     "model_name": "ProgressStyleModel",
     "state": {
      "_model_module": "@jupyter-widgets/controls",
      "_model_module_version": "1.5.0",
      "_model_name": "ProgressStyleModel",
      "_view_count": null,
      "_view_module": "@jupyter-widgets/base",
      "_view_module_version": "1.2.0",
      "_view_name": "StyleView",
      "bar_color": null,
      "description_width": ""
     }
    },
    "3339a154ce00450b8d07b45eda2e887c": {
     "model_module": "@jupyter-widgets/controls",
     "model_module_version": "1.5.0",
     "model_name": "FloatProgressModel",
     "state": {
      "_dom_classes": [],
      "_model_module": "@jupyter-widgets/controls",
      "_model_module_version": "1.5.0",
      "_model_name": "FloatProgressModel",
      "_view_count": null,
      "_view_module": "@jupyter-widgets/controls",
      "_view_module_version": "1.5.0",
      "_view_name": "ProgressView",
      "bar_style": "success",
      "description": "",
      "description_tooltip": null,
      "layout": "IPY_MODEL_a0cfdce0ec8544c49332cc831f67e777",
      "max": 241,
      "min": 0,
      "orientation": "horizontal",
      "style": "IPY_MODEL_c5b91a082e7d40879f66b6685fdfcfe0",
      "value": 241
     }
    },
    "35c5904b82544e9cac71cf7b0b67cc1e": {
     "model_module": "@jupyter-widgets/base",
     "model_module_version": "1.2.0",
     "model_name": "LayoutModel",
     "state": {
      "_model_module": "@jupyter-widgets/base",
      "_model_module_version": "1.2.0",
      "_model_name": "LayoutModel",
      "_view_count": null,
      "_view_module": "@jupyter-widgets/base",
      "_view_module_version": "1.2.0",
      "_view_name": "LayoutView",
      "align_content": null,
      "align_items": null,
      "align_self": null,
      "border": null,
      "bottom": null,
      "display": null,
      "flex": null,
      "flex_flow": null,
      "grid_area": null,
      "grid_auto_columns": null,
      "grid_auto_flow": null,
      "grid_auto_rows": null,
      "grid_column": null,
      "grid_gap": null,
      "grid_row": null,
      "grid_template_areas": null,
      "grid_template_columns": null,
      "grid_template_rows": null,
      "height": null,
      "justify_content": null,
      "justify_items": null,
      "left": null,
      "margin": null,
      "max_height": null,
      "max_width": null,
      "min_height": null,
      "min_width": null,
      "object_fit": null,
      "object_position": null,
      "order": null,
      "overflow": null,
      "overflow_x": null,
      "overflow_y": null,
      "padding": null,
      "right": null,
      "top": null,
      "visibility": null,
      "width": null
     }
    },
    "41b564f7d67b4422abcd5ac9925eb1f2": {
     "model_module": "@jupyter-widgets/controls",
     "model_module_version": "1.5.0",
     "model_name": "HTMLModel",
     "state": {
      "_dom_classes": [],
      "_model_module": "@jupyter-widgets/controls",
      "_model_module_version": "1.5.0",
      "_model_name": "HTMLModel",
      "_view_count": null,
      "_view_module": "@jupyter-widgets/controls",
      "_view_module_version": "1.5.0",
      "_view_name": "HTMLView",
      "description": "",
      "description_tooltip": null,
      "layout": "IPY_MODEL_f0fbd1b9ea074c1b9969417c02b32348",
      "placeholder": "​",
      "style": "IPY_MODEL_7935cc6e74c14372a82276f0a28e4559",
      "value": " 241/241 [00:01&lt;00:00, 158.21it/s]"
     }
    },
    "4631243cc4dd4d1a8e3ffe3a8da29cf7": {
     "model_module": "@jupyter-widgets/controls",
     "model_module_version": "1.5.0",
     "model_name": "DescriptionStyleModel",
     "state": {
      "_model_module": "@jupyter-widgets/controls",
      "_model_module_version": "1.5.0",
      "_model_name": "DescriptionStyleModel",
      "_view_count": null,
      "_view_module": "@jupyter-widgets/base",
      "_view_module_version": "1.2.0",
      "_view_name": "StyleView",
      "description_width": ""
     }
    },
    "55a177c209e6414d8daae0aae25ab569": {
     "model_module": "@jupyter-widgets/controls",
     "model_module_version": "1.5.0",
     "model_name": "FloatProgressModel",
     "state": {
      "_dom_classes": [],
      "_model_module": "@jupyter-widgets/controls",
      "_model_module_version": "1.5.0",
      "_model_name": "FloatProgressModel",
      "_view_count": null,
      "_view_module": "@jupyter-widgets/controls",
      "_view_module_version": "1.5.0",
      "_view_name": "ProgressView",
      "bar_style": "success",
      "description": "",
      "description_tooltip": null,
      "layout": "IPY_MODEL_2943eba3c235416b809e23186d5625ef",
      "max": 241,
      "min": 0,
      "orientation": "horizontal",
      "style": "IPY_MODEL_2ded17a125a44376abbe87ef29f2aa17",
      "value": 241
     }
    },
    "5696660af0a04fbbb0743796bdd5f9b3": {
     "model_module": "@jupyter-widgets/controls",
     "model_module_version": "1.5.0",
     "model_name": "HTMLModel",
     "state": {
      "_dom_classes": [],
      "_model_module": "@jupyter-widgets/controls",
      "_model_module_version": "1.5.0",
      "_model_name": "HTMLModel",
      "_view_count": null,
      "_view_module": "@jupyter-widgets/controls",
      "_view_module_version": "1.5.0",
      "_view_name": "HTMLView",
      "description": "",
      "description_tooltip": null,
      "layout": "IPY_MODEL_0b2d687ab70343a999f3a37dfe030a9c",
      "placeholder": "​",
      "style": "IPY_MODEL_2571c66c254d4a6c9ae5a20812e41641",
      "value": " 241/241 [00:00&lt;00:00, 515.87it/s]"
     }
    },
    "57bc2e2902994e799d4378888bdb342a": {
     "model_module": "@jupyter-widgets/base",
     "model_module_version": "1.2.0",
     "model_name": "LayoutModel",
     "state": {
      "_model_module": "@jupyter-widgets/base",
      "_model_module_version": "1.2.0",
      "_model_name": "LayoutModel",
      "_view_count": null,
      "_view_module": "@jupyter-widgets/base",
      "_view_module_version": "1.2.0",
      "_view_name": "LayoutView",
      "align_content": null,
      "align_items": null,
      "align_self": null,
      "border": null,
      "bottom": null,
      "display": null,
      "flex": null,
      "flex_flow": null,
      "grid_area": null,
      "grid_auto_columns": null,
      "grid_auto_flow": null,
      "grid_auto_rows": null,
      "grid_column": null,
      "grid_gap": null,
      "grid_row": null,
      "grid_template_areas": null,
      "grid_template_columns": null,
      "grid_template_rows": null,
      "height": null,
      "justify_content": null,
      "justify_items": null,
      "left": null,
      "margin": null,
      "max_height": null,
      "max_width": null,
      "min_height": null,
      "min_width": null,
      "object_fit": null,
      "object_position": null,
      "order": null,
      "overflow": null,
      "overflow_x": null,
      "overflow_y": null,
      "padding": null,
      "right": null,
      "top": null,
      "visibility": null,
      "width": null
     }
    },
    "7935cc6e74c14372a82276f0a28e4559": {
     "model_module": "@jupyter-widgets/controls",
     "model_module_version": "1.5.0",
     "model_name": "DescriptionStyleModel",
     "state": {
      "_model_module": "@jupyter-widgets/controls",
      "_model_module_version": "1.5.0",
      "_model_name": "DescriptionStyleModel",
      "_view_count": null,
      "_view_module": "@jupyter-widgets/base",
      "_view_module_version": "1.2.0",
      "_view_name": "StyleView",
      "description_width": ""
     }
    },
    "a0cfdce0ec8544c49332cc831f67e777": {
     "model_module": "@jupyter-widgets/base",
     "model_module_version": "1.2.0",
     "model_name": "LayoutModel",
     "state": {
      "_model_module": "@jupyter-widgets/base",
      "_model_module_version": "1.2.0",
      "_model_name": "LayoutModel",
      "_view_count": null,
      "_view_module": "@jupyter-widgets/base",
      "_view_module_version": "1.2.0",
      "_view_name": "LayoutView",
      "align_content": null,
      "align_items": null,
      "align_self": null,
      "border": null,
      "bottom": null,
      "display": null,
      "flex": null,
      "flex_flow": null,
      "grid_area": null,
      "grid_auto_columns": null,
      "grid_auto_flow": null,
      "grid_auto_rows": null,
      "grid_column": null,
      "grid_gap": null,
      "grid_row": null,
      "grid_template_areas": null,
      "grid_template_columns": null,
      "grid_template_rows": null,
      "height": null,
      "justify_content": null,
      "justify_items": null,
      "left": null,
      "margin": null,
      "max_height": null,
      "max_width": null,
      "min_height": null,
      "min_width": null,
      "object_fit": null,
      "object_position": null,
      "order": null,
      "overflow": null,
      "overflow_x": null,
      "overflow_y": null,
      "padding": null,
      "right": null,
      "top": null,
      "visibility": null,
      "width": null
     }
    },
    "b1c919ee0c85468a89413d98d9926b50": {
     "model_module": "@jupyter-widgets/controls",
     "model_module_version": "1.5.0",
     "model_name": "HBoxModel",
     "state": {
      "_dom_classes": [],
      "_model_module": "@jupyter-widgets/controls",
      "_model_module_version": "1.5.0",
      "_model_name": "HBoxModel",
      "_view_count": null,
      "_view_module": "@jupyter-widgets/controls",
      "_view_module_version": "1.5.0",
      "_view_name": "HBoxView",
      "box_style": "",
      "children": [
       "IPY_MODEL_09367b7a291f4c81a93f79ac3bf09e9b",
       "IPY_MODEL_3339a154ce00450b8d07b45eda2e887c",
       "IPY_MODEL_41b564f7d67b4422abcd5ac9925eb1f2"
      ],
      "layout": "IPY_MODEL_bfd4906b7ffc4ade9650aa96d140860a"
     }
    },
    "bc2f4104184749dbb7dcd2b5c6235238": {
     "model_module": "@jupyter-widgets/controls",
     "model_module_version": "1.5.0",
     "model_name": "DescriptionStyleModel",
     "state": {
      "_model_module": "@jupyter-widgets/controls",
      "_model_module_version": "1.5.0",
      "_model_name": "DescriptionStyleModel",
      "_view_count": null,
      "_view_module": "@jupyter-widgets/base",
      "_view_module_version": "1.2.0",
      "_view_name": "StyleView",
      "description_width": ""
     }
    },
    "bfd4906b7ffc4ade9650aa96d140860a": {
     "model_module": "@jupyter-widgets/base",
     "model_module_version": "1.2.0",
     "model_name": "LayoutModel",
     "state": {
      "_model_module": "@jupyter-widgets/base",
      "_model_module_version": "1.2.0",
      "_model_name": "LayoutModel",
      "_view_count": null,
      "_view_module": "@jupyter-widgets/base",
      "_view_module_version": "1.2.0",
      "_view_name": "LayoutView",
      "align_content": null,
      "align_items": null,
      "align_self": null,
      "border": null,
      "bottom": null,
      "display": null,
      "flex": null,
      "flex_flow": null,
      "grid_area": null,
      "grid_auto_columns": null,
      "grid_auto_flow": null,
      "grid_auto_rows": null,
      "grid_column": null,
      "grid_gap": null,
      "grid_row": null,
      "grid_template_areas": null,
      "grid_template_columns": null,
      "grid_template_rows": null,
      "height": null,
      "justify_content": null,
      "justify_items": null,
      "left": null,
      "margin": null,
      "max_height": null,
      "max_width": null,
      "min_height": null,
      "min_width": null,
      "object_fit": null,
      "object_position": null,
      "order": null,
      "overflow": null,
      "overflow_x": null,
      "overflow_y": null,
      "padding": null,
      "right": null,
      "top": null,
      "visibility": null,
      "width": null
     }
    },
    "c5b91a082e7d40879f66b6685fdfcfe0": {
     "model_module": "@jupyter-widgets/controls",
     "model_module_version": "1.5.0",
     "model_name": "ProgressStyleModel",
     "state": {
      "_model_module": "@jupyter-widgets/controls",
      "_model_module_version": "1.5.0",
      "_model_name": "ProgressStyleModel",
      "_view_count": null,
      "_view_module": "@jupyter-widgets/base",
      "_view_module_version": "1.2.0",
      "_view_name": "StyleView",
      "bar_color": null,
      "description_width": ""
     }
    },
    "c8a26ff7a9504ca7b9982a1fdc958364": {
     "model_module": "@jupyter-widgets/controls",
     "model_module_version": "1.5.0",
     "model_name": "HTMLModel",
     "state": {
      "_dom_classes": [],
      "_model_module": "@jupyter-widgets/controls",
      "_model_module_version": "1.5.0",
      "_model_name": "HTMLModel",
      "_view_count": null,
      "_view_module": "@jupyter-widgets/controls",
      "_view_module_version": "1.5.0",
      "_view_name": "HTMLView",
      "description": "",
      "description_tooltip": null,
      "layout": "IPY_MODEL_eac1572340b3491b987713ddf4fef228",
      "placeholder": "​",
      "style": "IPY_MODEL_bc2f4104184749dbb7dcd2b5c6235238",
      "value": "100%"
     }
    },
    "eac1572340b3491b987713ddf4fef228": {
     "model_module": "@jupyter-widgets/base",
     "model_module_version": "1.2.0",
     "model_name": "LayoutModel",
     "state": {
      "_model_module": "@jupyter-widgets/base",
      "_model_module_version": "1.2.0",
      "_model_name": "LayoutModel",
      "_view_count": null,
      "_view_module": "@jupyter-widgets/base",
      "_view_module_version": "1.2.0",
      "_view_name": "LayoutView",
      "align_content": null,
      "align_items": null,
      "align_self": null,
      "border": null,
      "bottom": null,
      "display": null,
      "flex": null,
      "flex_flow": null,
      "grid_area": null,
      "grid_auto_columns": null,
      "grid_auto_flow": null,
      "grid_auto_rows": null,
      "grid_column": null,
      "grid_gap": null,
      "grid_row": null,
      "grid_template_areas": null,
      "grid_template_columns": null,
      "grid_template_rows": null,
      "height": null,
      "justify_content": null,
      "justify_items": null,
      "left": null,
      "margin": null,
      "max_height": null,
      "max_width": null,
      "min_height": null,
      "min_width": null,
      "object_fit": null,
      "object_position": null,
      "order": null,
      "overflow": null,
      "overflow_x": null,
      "overflow_y": null,
      "padding": null,
      "right": null,
      "top": null,
      "visibility": null,
      "width": null
     }
    },
    "f0fbd1b9ea074c1b9969417c02b32348": {
     "model_module": "@jupyter-widgets/base",
     "model_module_version": "1.2.0",
     "model_name": "LayoutModel",
     "state": {
      "_model_module": "@jupyter-widgets/base",
      "_model_module_version": "1.2.0",
      "_model_name": "LayoutModel",
      "_view_count": null,
      "_view_module": "@jupyter-widgets/base",
      "_view_module_version": "1.2.0",
      "_view_name": "LayoutView",
      "align_content": null,
      "align_items": null,
      "align_self": null,
      "border": null,
      "bottom": null,
      "display": null,
      "flex": null,
      "flex_flow": null,
      "grid_area": null,
      "grid_auto_columns": null,
      "grid_auto_flow": null,
      "grid_auto_rows": null,
      "grid_column": null,
      "grid_gap": null,
      "grid_row": null,
      "grid_template_areas": null,
      "grid_template_columns": null,
      "grid_template_rows": null,
      "height": null,
      "justify_content": null,
      "justify_items": null,
      "left": null,
      "margin": null,
      "max_height": null,
      "max_width": null,
      "min_height": null,
      "min_width": null,
      "object_fit": null,
      "object_position": null,
      "order": null,
      "overflow": null,
      "overflow_x": null,
      "overflow_y": null,
      "padding": null,
      "right": null,
      "top": null,
      "visibility": null,
      "width": null
     }
    }
   }
  }
 },
 "nbformat": 4,
 "nbformat_minor": 5
}
