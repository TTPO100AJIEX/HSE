{
 "cells": [
  {
   "cell_type": "code",
   "execution_count": null,
   "metadata": {},
   "outputs": [],
   "source": [
    "import sympy\n",
    "\n",
    "def matmul(mat1: sympy.Matrix, mat2: sympy.Matrix):\n",
    "    return mat1 @ mat2\n",
    "\n",
    "def transpose(matrix: sympy.Matrix):\n",
    "    return matrix.T\n",
    "\n",
    "def determinant(matrix: sympy.Matrix):\n",
    "    return matrix.det()\n",
    "\n",
    "def polynomial_roots(polynomial):\n",
    "    return sympy.solve(polynomial)\n",
    "\n",
    "def gaussian_elimination(matrix: sympy.Matrix):\n",
    "    # Maybe does not cover all cases, but works well enough for me\n",
    "    for col in range(min(matrix.shape[0], matrix.shape[1])):\n",
    "        if matrix[col, col] == 0:\n",
    "            for row in range(col + 1, matrix.shape[0]):\n",
    "                matrix[col, :] += matrix[row, :]\n",
    "        if matrix[col, col] == 0:\n",
    "            continue\n",
    "        for row in range(matrix.shape[0]):\n",
    "            if row == col:\n",
    "                continue\n",
    "            matrix[row, :] -= matrix[col, :] * matrix[row, col] / matrix[col, col]\n",
    "        matrix[col, :] /= matrix[col, col]\n",
    "    return matrix\n",
    "\n",
    "def inverse(matrix: sympy.Matrix):\n",
    "    assert matrix.shape[0] == matrix.shape[1]\n",
    "    eye = sympy.eye(matrix.shape[0])\n",
    "    ext = sympy.Matrix.hstack(matrix, eye)\n",
    "    ext = gaussian_elimination(ext)\n",
    "    return ext[:, matrix.shape[0]:]"
   ]
  },
  {
   "cell_type": "markdown",
   "metadata": {},
   "source": [
    "### Task 1"
   ]
  },
  {
   "cell_type": "code",
   "execution_count": null,
   "metadata": {},
   "outputs": [],
   "source": [
    "B = sympy.Matrix([\n",
    "    [ -69, 6, -66 ],\n",
    "    [ -34, -128, 64 ],\n",
    "    [ -132, 6, 60 ],\n",
    "    [ -54, 0, 108 ]\n",
    "])\n",
    "BtB = matmul(transpose(B), B)\n",
    "BtB"
   ]
  },
  {
   "cell_type": "code",
   "execution_count": null,
   "metadata": {},
   "outputs": [],
   "source": [
    "lambd = sympy.Symbol('lambda')\n",
    "char_pol = determinant(BtB - lambd * sympy.eye(3))\n",
    "char_pol"
   ]
  },
  {
   "cell_type": "code",
   "execution_count": null,
   "metadata": {},
   "outputs": [],
   "source": [
    "l3, l2, l1 = polynomial_roots(char_pol)\n",
    "display(l1, l2, l3)"
   ]
  },
  {
   "cell_type": "code",
   "execution_count": null,
   "metadata": {},
   "outputs": [],
   "source": [
    "display(sympy.sqrt(l1))\n",
    "display(BtB - l1 * sympy.eye(3))\n",
    "display(gaussian_elimination(BtB - l1 * sympy.eye(3)))"
   ]
  },
  {
   "cell_type": "code",
   "execution_count": null,
   "metadata": {},
   "outputs": [],
   "source": [
    "display(sympy.sqrt(l2))\n",
    "display(BtB - l2 * sympy.eye(3))\n",
    "display(gaussian_elimination(BtB - l2 * sympy.eye(3)))"
   ]
  },
  {
   "cell_type": "code",
   "execution_count": null,
   "metadata": {},
   "outputs": [],
   "source": [
    "display(sympy.sqrt(l3))\n",
    "display(BtB - l3 * sympy.eye(3))\n",
    "display(gaussian_elimination(BtB - l3 * sympy.eye(3)))"
   ]
  },
  {
   "cell_type": "code",
   "execution_count": null,
   "metadata": {},
   "outputs": [],
   "source": [
    "u1 = sympy.Matrix([ -2, -1, 2 ]) / sympy.S(3)\n",
    "matmul(B, u1) / sympy.sqrt(l1)"
   ]
  },
  {
   "cell_type": "code",
   "execution_count": null,
   "metadata": {},
   "outputs": [],
   "source": [
    "u2 = sympy.Matrix([ 2, -2, 1 ]) / sympy.S(3)\n",
    "matmul(B, u2) / sympy.sqrt(l2)"
   ]
  },
  {
   "cell_type": "code",
   "execution_count": null,
   "metadata": {},
   "outputs": [],
   "source": [
    "u3 = sympy.Matrix([ 1, 2, 2 ]) / sympy.S(3)\n",
    "matmul(B, u3) / sympy.sqrt(l3)"
   ]
  },
  {
   "cell_type": "code",
   "execution_count": null,
   "metadata": {},
   "outputs": [],
   "source": [
    "V = sympy.Matrix([\n",
    "    [ 0, 6, 7, 6 ],\n",
    "    [ -6, 7, -6, 0 ],\n",
    "    [ -7, -6, 0, 6 ]\n",
    "])\n",
    "gaussian_elimination(V)"
   ]
  },
  {
   "cell_type": "markdown",
   "metadata": {},
   "source": [
    "### Task 2"
   ]
  },
  {
   "cell_type": "code",
   "execution_count": null,
   "metadata": {},
   "outputs": [],
   "source": [
    "F = sympy.Matrix([\n",
    "    [ 4, -11 ],\n",
    "    [ -2, 7 ],\n",
    "    [ -1, 4 ],\n",
    "    [ 3, -8 ]\n",
    "])\n",
    "G = sympy.Matrix([\n",
    "    [ 1, 0, 12 ],\n",
    "    [ 0, 1, 3 ]\n",
    "])\n",
    "display(F, G)"
   ]
  },
  {
   "cell_type": "code",
   "execution_count": null,
   "metadata": {},
   "outputs": [],
   "source": [
    "ggt = matmul(G, transpose(G))\n",
    "display(ggt)\n",
    "g_pinv = matmul(transpose(G), inverse(ggt)) * 154\n",
    "display(g_pinv)"
   ]
  },
  {
   "cell_type": "code",
   "execution_count": null,
   "metadata": {},
   "outputs": [],
   "source": [
    "ftf = matmul(transpose(F), F)\n",
    "display(ftf)\n",
    "f_pinv = matmul(inverse(ftf), transpose(F)) * 52\n",
    "display(f_pinv)"
   ]
  },
  {
   "cell_type": "code",
   "execution_count": null,
   "metadata": {},
   "outputs": [],
   "source": [
    "matmul(g_pinv, f_pinv)"
   ]
  },
  {
   "cell_type": "markdown",
   "metadata": {},
   "source": [
    "### Task 3"
   ]
  },
  {
   "cell_type": "code",
   "execution_count": null,
   "metadata": {},
   "outputs": [],
   "source": [
    "A = sympy.Matrix([\n",
    "    [ 4, 6, 12, -2 ],\n",
    "    [ 3, 5, 15, 7 ],\n",
    "    [ -1, 1, 8, -14 ],\n",
    "    [ -2, 0, 9, -11 ]\n",
    "])\n",
    "b = sympy.Matrix([ 0, 4, 1, 2 ])\n",
    "gaussian_elimination(A)"
   ]
  },
  {
   "cell_type": "code",
   "execution_count": null,
   "metadata": {},
   "outputs": [],
   "source": [
    "F = sympy.Matrix([\n",
    "    [ 4, 6, 12 ],\n",
    "    [ 3, 5, 15 ],\n",
    "    [ -1, 1, 8 ],\n",
    "    [ -2, 0, 9 ]\n",
    "])\n",
    "G = sympy.Matrix([\n",
    "    [ 1, 0, 0, 19 ],\n",
    "    [ 0, 1, 0, -19 ],\n",
    "    [ 0, 0, 1, 3 ]\n",
    "])\n",
    "\n",
    "ggt = matmul(G, transpose(G))\n",
    "g_pinv = matmul(transpose(G), inverse(ggt))\n",
    "\n",
    "ftf = matmul(transpose(F), F)\n",
    "f_pinv = matmul(inverse(ftf), transpose(F))\n",
    "\n",
    "a_pinv = matmul(g_pinv, f_pinv)\n",
    "ans = matmul(a_pinv, b)\n",
    "display(ans)\n",
    "display(ans.evalf())"
   ]
  },
  {
   "cell_type": "markdown",
   "metadata": {},
   "source": [
    "### Task 4"
   ]
  },
  {
   "cell_type": "code",
   "execution_count": null,
   "metadata": {},
   "outputs": [],
   "source": [
    "x = sympy.Symbol('x')\n",
    "f1 = -11 * x * (x - 1) * (x - 2) / sympy.S(-24)\n",
    "f2 = -1 * (x + 2) * (x - 2) * (x - 1) / sympy.S(2)\n",
    "f3 = 3 * x * (x + 2) * (x - 2) / sympy.S(-1)\n",
    "f4 = 3 * x * (x - 1) * (x + 2) / sympy.S(4)\n",
    "f = (f1 + f2 + f3 + f4).simplify()\n",
    "f"
   ]
  },
  {
   "cell_type": "code",
   "execution_count": null,
   "metadata": {},
   "outputs": [],
   "source": [
    "sympy.plot(f, xlim = (-3, 3), ylim = (-15, 15))"
   ]
  },
  {
   "cell_type": "markdown",
   "metadata": {},
   "source": [
    "### Task 5"
   ]
  },
  {
   "cell_type": "code",
   "execution_count": null,
   "metadata": {},
   "outputs": [],
   "source": [
    "t = sympy.Symbol('t')\n",
    "b1 = (1 - t) ** 3 * sympy.Matrix([ 1, 2 ])\n",
    "b2 = 3 * (1 - t) ** 2 * t * sympy.Matrix([ 6, 8 ])\n",
    "b3 = 3 * (1 - t) * t ** 2 * sympy.Matrix([ 7, 7 ])\n",
    "b4 = t ** 3 * sympy.Matrix([ 9, 0 ])\n",
    "b = sympy.simplify(b1 + b2 + b3 + b4)\n",
    "b"
   ]
  },
  {
   "cell_type": "code",
   "execution_count": null,
   "metadata": {},
   "outputs": [],
   "source": [
    "sympy.plot_parametric((b[0], b[1]), (t, 0, 1))"
   ]
  },
  {
   "cell_type": "markdown",
   "metadata": {},
   "source": [
    "### Task 7"
   ]
  },
  {
   "cell_type": "markdown",
   "metadata": {},
   "source": [
    "#### 1 способ"
   ]
  },
  {
   "cell_type": "code",
   "execution_count": null,
   "metadata": {},
   "outputs": [],
   "source": [
    "x = sympy.Symbol('x')\n",
    "v1 = 1\n",
    "v2 = x\n",
    "v3 = x ** 2\n",
    "v4 = x ** 3\n",
    "\n",
    "def skalmul(f, g, extract_pi = True):\n",
    "    d = (2 * x - 4) ** 2\n",
    "    func = f * g / sympy.sqrt(1 - d / 16)\n",
    "    if extract_pi:\n",
    "        func /= sympy.pi\n",
    "    integral = sympy.integrate(func.simplify(), (x, 0, 4), manual = True).evalf()\n",
    "    if extract_pi:\n",
    "        integral *= sympy.pi\n",
    "    return integral"
   ]
  },
  {
   "cell_type": "code",
   "execution_count": null,
   "metadata": {},
   "outputs": [],
   "source": [
    "b1 = v1\n",
    "display(skalmul(b1, v2))\n",
    "display(skalmul(b1, b1))"
   ]
  },
  {
   "cell_type": "code",
   "execution_count": null,
   "metadata": {},
   "outputs": [],
   "source": [
    "b2 = x - 2\n",
    "display(skalmul(v3, b1))\n",
    "display(skalmul(v3, b2))\n",
    "display(skalmul(b2, b2))"
   ]
  },
  {
   "cell_type": "code",
   "execution_count": null,
   "metadata": {},
   "outputs": [],
   "source": [
    "b3 = x ** 2 - 4 * x + 2\n",
    "display(skalmul(v4, b1))\n",
    "display(skalmul(v4, b2))\n",
    "display(skalmul(v4, b3))\n",
    "display(skalmul(b3, b3))"
   ]
  },
  {
   "cell_type": "code",
   "execution_count": null,
   "metadata": {},
   "outputs": [],
   "source": [
    "f = sympy.sqrt(4 * x + 3)\n",
    "b4 = x ** 3 - 6 * (x ** 2) + 9 * x - 2\n",
    "k1 = skalmul(b1, f, extract_pi = False)\n",
    "k2 = skalmul(b2, f, extract_pi = False)\n",
    "k3 = skalmul(b3, f, extract_pi = False)\n",
    "k4 = skalmul(b4, f, extract_pi = False)\n",
    "display(k1)\n",
    "display(k2)\n",
    "display(k3)\n",
    "display(k4)\n",
    "display(skalmul(b4, b4))"
   ]
  },
  {
   "cell_type": "code",
   "execution_count": null,
   "metadata": {},
   "outputs": [],
   "source": [
    "k1 /= 2 * sympy.pi\n",
    "k2 /= 4 * sympy.pi\n",
    "k3 /= 4 * sympy.pi\n",
    "k4 /= 4 * sympy.pi\n",
    "display(k1.evalf())\n",
    "display(k2.evalf())\n",
    "display(k3.evalf())\n",
    "display(k4.evalf())"
   ]
  },
  {
   "cell_type": "code",
   "execution_count": null,
   "metadata": {},
   "outputs": [],
   "source": [
    "ans = k1 * b1 + k2 * b2 + k3 * b3 + k4 * b4\n",
    "ans.simplify().evalf()"
   ]
  },
  {
   "cell_type": "markdown",
   "metadata": {},
   "source": [
    "#### 2 способ"
   ]
  },
  {
   "cell_type": "code",
   "execution_count": null,
   "metadata": {},
   "outputs": [],
   "source": [
    "x = sympy.Symbol('x')\n",
    "b1 = 1\n",
    "b2 = x\n",
    "b3 = 2 * x ** 2 - 1\n",
    "b4 = 4 * x ** 3 - 3 * x\n",
    "f = sympy.sqrt(8 * x + 11)\n",
    "\n",
    "def skalmul(f, g, extract_pi = True):\n",
    "    func = f * g / sympy.sqrt(1 - x ** 2)\n",
    "    if extract_pi:\n",
    "        func /= sympy.pi\n",
    "    integral = 2 * sympy.integrate(func.simplify(), (x, -1, 1), manual = True).evalf()\n",
    "    if extract_pi:\n",
    "        integral *= sympy.pi\n",
    "    return integral"
   ]
  },
  {
   "cell_type": "code",
   "execution_count": null,
   "metadata": {},
   "outputs": [],
   "source": [
    "k1 = skalmul(b1, f, extract_pi = False)\n",
    "k2 = skalmul(b2, f, extract_pi = False)\n",
    "k3 = skalmul(b3, f, extract_pi = False)\n",
    "k4 = skalmul(b4, f, extract_pi = False)\n",
    "display(k1)\n",
    "display(k2)\n",
    "display(k3)\n",
    "display(k4)"
   ]
  },
  {
   "cell_type": "code",
   "execution_count": null,
   "metadata": {},
   "outputs": [],
   "source": [
    "k1 /= 2 * sympy.pi\n",
    "k2 /= sympy.pi\n",
    "k3 /= sympy.pi\n",
    "k4 /= sympy.pi\n",
    "display(k1.evalf())\n",
    "display(k2.evalf())\n",
    "display(k3.evalf())\n",
    "display(k4.evalf())"
   ]
  },
  {
   "cell_type": "code",
   "execution_count": null,
   "metadata": {},
   "outputs": [],
   "source": [
    "ans = k1 * b1 + k2 * b2 + k3 * b3 + k4 * b4\n",
    "ans.simplify().evalf()"
   ]
  },
  {
   "cell_type": "code",
   "execution_count": null,
   "metadata": {},
   "outputs": [],
   "source": [
    "ans.subs({ x: (x - 2) / 2 }).simplify().evalf()"
   ]
  },
  {
   "cell_type": "markdown",
   "metadata": {},
   "source": [
    "### Task 8"
   ]
  },
  {
   "cell_type": "code",
   "execution_count": null,
   "metadata": {},
   "outputs": [],
   "source": [
    "l = sympy.Symbol('lambda')\n",
    "q = sympy.Symbol('q')"
   ]
  },
  {
   "cell_type": "code",
   "execution_count": null,
   "metadata": {},
   "outputs": [],
   "source": [
    "char_poly = (2 * q + 4 - l) * (1 - 8 * q - l) - (2 * q + 2) ** 2\n",
    "char_poly.simplify().collect(l)"
   ]
  }
 ],
 "metadata": {
  "kernelspec": {
   "display_name": "Python 3",
   "language": "python",
   "name": "python3"
  },
  "language_info": {
   "codemirror_mode": {
    "name": "ipython",
    "version": 3
   },
   "file_extension": ".py",
   "mimetype": "text/x-python",
   "name": "python",
   "nbconvert_exporter": "python",
   "pygments_lexer": "ipython3",
   "version": "3.11.6"
  }
 },
 "nbformat": 4,
 "nbformat_minor": 2
}
